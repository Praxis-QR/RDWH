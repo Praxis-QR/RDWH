{
  "nbformat": 4,
  "nbformat_minor": 0,
  "metadata": {
    "colab": {
      "provenance": [],
      "toc_visible": true,
      "include_colab_link": true
    },
    "kernelspec": {
      "name": "python3",
      "display_name": "Python 3"
    },
    "language_info": {
      "name": "python"
    }
  },
  "cells": [
    {
      "cell_type": "markdown",
      "metadata": {
        "id": "view-in-github",
        "colab_type": "text"
      },
      "source": [
        "<a href=\"https://colab.research.google.com/github/Praxis-QR/RDWH/blob/main/PG24_1B_ColabSandbox.ipynb\" target=\"_parent\"><img src=\"https://colab.research.google.com/assets/colab-badge.svg\" alt=\"Open In Colab\"/></a>"
      ]
    },
    {
      "cell_type": "markdown",
      "source": [
        "![alt text](https://github.com/Praxis-QR/RDWH/raw/main/images/YantraJaalBanner.png)<br>\n",
        "\n",
        "\n",
        "<hr>\n",
        "\n",
        "[Prithwis Mukerjee](http://www.linkedin.com/in/prithwis)<br>"
      ],
      "metadata": {
        "id": "DBzz-qaN2tKu"
      }
    },
    {
      "cell_type": "code",
      "source": [
        "from datetime import datetime\n",
        "import pytz\n",
        "print('ॐ श्री सरस्वत्यै नमः',datetime.now(pytz.timezone('Asia/Calcutta')))\n",
        "!python --version\n",
        "!lsb_release -a"
      ],
      "metadata": {
        "id": "tao-RSYIrkwa",
        "outputId": "cd4b3774-a489-45b8-f550-8f63891b0f8c",
        "colab": {
          "base_uri": "https://localhost:8080/"
        }
      },
      "execution_count": 1,
      "outputs": [
        {
          "output_type": "stream",
          "name": "stdout",
          "text": [
            "ॐ श्री सरस्वत्यै नमः 2024-01-27 18:41:11.017746+05:30\n",
            "Python 3.10.12\n",
            "No LSB modules are available.\n",
            "Distributor ID:\tUbuntu\n",
            "Description:\tUbuntu 22.04.3 LTS\n",
            "Release:\t22.04\n",
            "Codename:\tjammy\n"
          ]
        }
      ]
    },
    {
      "cell_type": "markdown",
      "source": [
        "#Install - Local Colab VM"
      ],
      "metadata": {
        "id": "nD-QawLT6kDr"
      }
    },
    {
      "cell_type": "code",
      "source": [
        "# Install postgresql server\n",
        "\n",
        "!apt update > /dev/null\n",
        "!apt install postgresql > /dev/null\n",
        "#\n",
        "!service postgresql start\n",
        "!psql -V\n"
      ],
      "metadata": {
        "colab": {
          "base_uri": "https://localhost:8080/"
        },
        "id": "o_RaqE0OOHP3",
        "outputId": "afd1bdd0-7985-4005-dc59-ddc13ce6e468"
      },
      "execution_count": 2,
      "outputs": [
        {
          "output_type": "stream",
          "name": "stdout",
          "text": [
            "\n",
            "WARNING: apt does not have a stable CLI interface. Use with caution in scripts.\n",
            "\n",
            "\n",
            "WARNING: apt does not have a stable CLI interface. Use with caution in scripts.\n",
            "\n",
            " * Starting PostgreSQL 14 database server\n",
            "   ...done.\n",
            "psql (PostgreSQL) 14.10 (Ubuntu 14.10-0ubuntu0.22.04.1)\n"
          ]
        }
      ]
    },
    {
      "cell_type": "markdown",
      "source": [
        "# Working with Local Database"
      ],
      "metadata": {
        "id": "O6s-OzHH5BaI"
      }
    },
    {
      "cell_type": "markdown",
      "source": [
        "## Local Database Configuration"
      ],
      "metadata": {
        "id": "--pn1fPO6ndu"
      }
    },
    {
      "cell_type": "code",
      "source": [
        "# This install creates an Ubuntu user 'postgres' AND a Postgres database user 'postgres' both of which are superusers\n",
        "#!cat /etc/passwd\n",
        "# Use these users to create a new database user called 'upraxis' and give it a password 'upass'\n",
        "#!sudo -u postgres createuser --superuser upraxis\n",
        "!sudo -u postgres createuser upraxis\n",
        "!sudo -u postgres psql -U postgres -c \"ALTER USER upraxis PASSWORD 'upass';\"\n",
        "# Change the database superuser 'postgres' to a non-default value 'pass'\n",
        "!sudo -u postgres psql -U postgres -c \"ALTER USER postgres PASSWORD 'pass';\"\n",
        "#\n",
        "# Use ubuntu superuser to create database dbpraxis and set its owner to upraxis\n",
        "!sudo -u postgres createdb -O upraxis dbpraxis\n",
        "#\n",
        "# Create file to store the password. Else will be prompted each time\n",
        "!echo \"localhost:5432:dbpraxis:postgres:pass\" > ~/.pgpass\n",
        "!echo \"localhost:5432:dbpraxis:upraxis:upass\" >> ~/.pgpass\n",
        "!chmod 0600 ~/.pgpass\n",
        "!cat ~/.pgpass\n"
      ],
      "metadata": {
        "colab": {
          "base_uri": "https://localhost:8080/"
        },
        "id": "xr5kHaY_U4CZ",
        "outputId": "0ab9b433-5c88-4cbe-8480-5c1fa9ed7a36"
      },
      "execution_count": 3,
      "outputs": [
        {
          "output_type": "stream",
          "name": "stdout",
          "text": [
            "ALTER ROLE\n",
            "ALTER ROLE\n",
            "localhost:5432:dbpraxis:postgres:pass\n",
            "localhost:5432:dbpraxis:upraxis:upass\n"
          ]
        }
      ]
    },
    {
      "cell_type": "markdown",
      "source": [
        "## Create Two Tables"
      ],
      "metadata": {
        "id": "uo61Cp0oaPHL"
      }
    },
    {
      "cell_type": "code",
      "source": [
        "# Create Two tables using command line interface\n",
        "#\n",
        "!psql -h localhost -p 5432 -Uupraxis -ddbpraxis -c \\\n",
        "'drop table if exists dept;\\\n",
        "create table dept (\\\n",
        "    deptid char(2),\\\n",
        "    deptname varchar(20),\\\n",
        "    managerid char(6),\\\n",
        "    location varchar(10)\\\n",
        "    );'\n",
        "\n",
        "!psql -h localhost -p 5432 -Uupraxis -ddbpraxis -c \\\n",
        "\"drop table if exists empl;\\\n",
        "create table empl \\\n",
        "(empid char(6),\\\n",
        "    lastname varchar(20),\\\n",
        "    firstname varchar(20),\\\n",
        "    jobdesc varchar(10),\\\n",
        "    joindate date,\\\n",
        "    salary int,\\\n",
        "    comm decimal(3,2),\\\n",
        "    deptid char(2)\\\n",
        "    );\\\n",
        "\""
      ],
      "metadata": {
        "colab": {
          "base_uri": "https://localhost:8080/"
        },
        "id": "DsUZ9JlEXIir",
        "outputId": "152d1ddd-f700-4089-f31b-7a6d4b4eef47"
      },
      "execution_count": 4,
      "outputs": [
        {
          "output_type": "stream",
          "name": "stdout",
          "text": [
            "NOTICE:  table \"dept\" does not exist, skipping\n",
            "CREATE TABLE\n",
            "NOTICE:  table \"empl\" does not exist, skipping\n",
            "CREATE TABLE\n"
          ]
        }
      ]
    },
    {
      "cell_type": "markdown",
      "source": [
        "## Load Data - Insert Option"
      ],
      "metadata": {
        "id": "9_OLx3qk_7qR"
      }
    },
    {
      "cell_type": "code",
      "source": [
        "#!psql -h localhost -p 5432 -Upostgres -dpraxisdb -c \"INSERT INTO Dept (DeptID, DeptName, ManagerID, Location) VALUES \\\n",
        "!psql -h localhost -p 5432 -Uupraxis -ddbpraxis -c \"INSERT INTO Dept (DeptID, DeptName, ManagerID, Location) VALUES \\\n",
        "\t('10', 'Corporate', '299034', 'Calcutta'), \\\n",
        "\t('20', 'Sales', '239456', 'Calcutta'), \\\n",
        "\t('30', 'Accounts', '822134', 'Calcutta'), \\\n",
        "\t('40', 'Production', '349870', 'Bombay');\"\n",
        "\n",
        "#!psql -h localhost -p 5432 -Upostgres -dpraxisdb -c \\\n",
        "!psql -h localhost -p 5432 -Uupraxis -ddbpraxis -c \\\n",
        "\"INSERT INTO Empl (EmpID, LastName, FirstName, JobDesc, JoinDate, Salary, Comm, DeptID) \\\n",
        "    VALUES \\\n",
        "\t('742866', 'Bacchan', 'Amitabh', 'Executive', '2003-03-10', 50000, 0.1, '10'), \\\n",
        "\t('349870', 'Mukherjee', 'Rani', 'Manager', '2005-05-04', 25000, 0.06, '40'), \\\n",
        "\t('865477', 'Dikshit', 'Madhuri', 'Clerk', '2002-04-04', 10000, 0.02, '20'), \\\n",
        "\t('239456', 'Khan', 'Shahrukh', 'Manager', '2004-01-03', 30000, 0.07, '20'), \\\n",
        "\t('897889', 'Sehwag', 'Virender', 'Cus_Rep', '2005-01-02', 15000, 0.05, '20'), \\\n",
        "\t('123980', 'Dhoni', 'Mahender', 'Clerk', '2004-10-09', 9000, 0.02, '40'), \\\n",
        "\t('822134', 'Dravid', 'Rahul', 'Sr Manager', '2000-06-04', 40000, 0.08, '30'), \\\n",
        "\t('997445', 'Dalmia', 'Jagmohan', 'Clerk', '2001-07-01', 12000, 0.02, '30'), \\\n",
        "\t('989007', 'Ganguly', 'Sourav', 'Cus_Rep', '2002-01-01', 20000, 0.03, '40'), \\\n",
        "\t('299034', 'Ganesan', 'Rekha', 'Director', '2002-10-10', 60000, 0.11, '10'), \\\n",
        "\t('546223', 'Karthikeyan', 'Narayan', 'Secretary', '2005-12-04', 40000, 0.09, '10'), \\\n",
        "\t('223112', 'Mirza', 'Sania', 'Cus_Rep', '2001-11-19', 25000, 0.04, '30');\""
      ],
      "metadata": {
        "colab": {
          "base_uri": "https://localhost:8080/"
        },
        "id": "WhL5hfIF2DMn",
        "outputId": "0e365c55-98a3-4e0e-c370-d16ef85d6b7b"
      },
      "execution_count": 5,
      "outputs": [
        {
          "output_type": "stream",
          "name": "stdout",
          "text": [
            "INSERT 0 4\n",
            "INSERT 0 12\n"
          ]
        }
      ]
    },
    {
      "cell_type": "markdown",
      "source": [
        "### View Data"
      ],
      "metadata": {
        "id": "qYJvWoPg4v_A"
      }
    },
    {
      "cell_type": "code",
      "source": [
        "#!psql -h localhost -p 5432 -Upostgres -dpraxisdb -c \"select * from dept;\"\n",
        "!psql -h localhost -p 5432 -Uupraxis -ddbpraxis -c \"select * from dept;\""
      ],
      "metadata": {
        "colab": {
          "base_uri": "https://localhost:8080/"
        },
        "id": "kfUDoKC54LZp",
        "outputId": "4a59d5f9-7d94-4aec-ed56-27cff945d57c"
      },
      "execution_count": 6,
      "outputs": [
        {
          "output_type": "stream",
          "name": "stdout",
          "text": [
            " deptid |  deptname  | managerid | location \n",
            "--------+------------+-----------+----------\n",
            " 10     | Corporate  | 299034    | Calcutta\n",
            " 20     | Sales      | 239456    | Calcutta\n",
            " 30     | Accounts   | 822134    | Calcutta\n",
            " 40     | Production | 349870    | Bombay\n",
            "(4 rows)\n",
            "\n"
          ]
        }
      ]
    },
    {
      "cell_type": "markdown",
      "source": [
        "## ReLoad Data - Copy Option"
      ],
      "metadata": {
        "id": "5m94A6FmACUd"
      }
    },
    {
      "cell_type": "code",
      "source": [
        "# The CSV files are stored in Github\n",
        "\n",
        "!wget -q -O dept.csv https://raw.githubusercontent.com/Praxis-QR/RDWH/main/data/dept.csv\n",
        "!wget -q -O emp.csv https://raw.githubusercontent.com/Praxis-QR/RDWH/main/data/empl.csv"
      ],
      "metadata": {
        "id": "e2xK7GZAALlI"
      },
      "execution_count": 7,
      "outputs": []
    },
    {
      "cell_type": "code",
      "source": [
        "!psql -h localhost -p 5432 -Uupraxis -ddbpraxis -c \"truncate table empl;\"\n",
        "!psql -h localhost -p 5432 -Uupraxis -ddbpraxis -c \"truncate table dept;\""
      ],
      "metadata": {
        "colab": {
          "base_uri": "https://localhost:8080/"
        },
        "id": "YIzv0Prw4-12",
        "outputId": "bf8720ef-7e10-477d-e084-2721afd36446"
      },
      "execution_count": 8,
      "outputs": [
        {
          "output_type": "stream",
          "name": "stdout",
          "text": [
            "TRUNCATE TABLE\n",
            "TRUNCATE TABLE\n"
          ]
        }
      ]
    },
    {
      "cell_type": "code",
      "source": [
        "# Only superuser ('postgres') can use copy command, not even database owner ('upraxis')\n",
        "# 'postgres' password has to be entered manually\n",
        "#\n",
        "!psql -h localhost -p 5432 -Upostgres -ddbpraxis -c \"COPY dept FROM '/content/dept.csv' DELIMITER ',' CSV HEADER;\"\n",
        "!psql -h localhost -p 5432 -Upostgres -ddbpraxis -c \"COPY empl FROM '/content/emp.csv' DELIMITER ',' CSV HEADER;\""
      ],
      "metadata": {
        "id": "tkt8-kUhAgzA",
        "outputId": "377b9b38-c81e-4468-d9a8-d517d62484b6",
        "colab": {
          "base_uri": "https://localhost:8080/"
        }
      },
      "execution_count": 9,
      "outputs": [
        {
          "output_type": "stream",
          "name": "stdout",
          "text": [
            "COPY 4\n",
            "COPY 12\n"
          ]
        }
      ]
    },
    {
      "cell_type": "markdown",
      "source": [
        "### View Data"
      ],
      "metadata": {
        "id": "hZscFeNNB1ja"
      }
    },
    {
      "cell_type": "code",
      "source": [
        "#!psql -h localhost -p 5432 -Upostgres -dpraxisdb -c \"select * from dept;\"\n",
        "!psql -h localhost -p 5432 -Uupraxis -ddbpraxis -c \"select * from dept;\""
      ],
      "metadata": {
        "colab": {
          "base_uri": "https://localhost:8080/"
        },
        "id": "HyBUhbAI2PV1",
        "outputId": "eebcb169-7b06-461e-8284-6d77c5dd2700"
      },
      "execution_count": 10,
      "outputs": [
        {
          "output_type": "stream",
          "name": "stdout",
          "text": [
            " deptid |  deptname  | managerid | location \n",
            "--------+------------+-----------+----------\n",
            " 10     | Corporate  | 299034    | Calcutta\n",
            " 20     | Sales      | 239456    | Calcutta\n",
            " 30     | Accounts   | 822134    | Calcutta\n",
            " 40     | Production | 349870    | Bombay\n",
            "(4 rows)\n",
            "\n"
          ]
        }
      ]
    },
    {
      "cell_type": "code",
      "source": [
        "#!psql -h localhost -p 5432 -U postgres -d praxisdb -c \"select * from empl;\"\n",
        "!psql -h localhost -p 5432 -U upraxis -d dbpraxis -c \"select * from empl;\""
      ],
      "metadata": {
        "colab": {
          "base_uri": "https://localhost:8080/"
        },
        "id": "byY2iccO4ctF",
        "outputId": "8e1de105-356d-4633-cf84-913edc91afb0"
      },
      "execution_count": 11,
      "outputs": [
        {
          "output_type": "stream",
          "name": "stdout",
          "text": [
            " empid  |  lastname   | firstname |  jobdesc   |  joindate  | salary | comm | deptid \n",
            "--------+-------------+-----------+------------+------------+--------+------+--------\n",
            " 742866 | Bacchan     | Amitabh   | Executive  | 2003-03-10 |  50000 | 0.10 | 10\n",
            " 349870 | Mukherjee   | Rani      | Manager    | 2005-05-04 |  25000 | 0.06 | 40\n",
            " 865477 | Dikshit     | Madhuri   | Clerk      | 2002-04-04 |  10000 | 0.02 | 20\n",
            " 239456 | Khan        | Shahrukh  | Manager    | 2004-01-03 |  30000 | 0.07 | 20\n",
            " 897889 | Sehwag      | Virender  | Cus_Rep    | 2005-01-02 |  15000 | 0.05 | 20\n",
            " 123980 | Dhoni       | Mahender  | Clerk      | 2004-10-09 |   9000 | 0.02 | 40\n",
            " 822134 | Dravid      | Rahul     | Sr Manager | 2000-06-04 |  40000 | 0.08 | 30\n",
            " 997445 | Dalmia      | Jagmohan  | Clerk      | 2001-07-01 |  12000 | 0.02 | 30\n",
            " 989007 | Ganguly     | Sourav    | Cus_Rep    | 2002-01-01 |  20000 | 0.03 | 40\n",
            " 299034 | Ganesan     | Rekha     | Director   | 2002-10-10 |  60000 | 0.11 | 10\n",
            " 546223 | Karthikeyan | Narayan   | Secretary  | 2005-12-04 |  40000 | 0.09 | 10\n",
            " 223112 | Mirza       | Sania     | Cus_Rep    | 2001-11-19 |  25000 | 0.04 | 30\n",
            "(12 rows)\n",
            "\n"
          ]
        }
      ]
    },
    {
      "cell_type": "code",
      "source": [
        "!psql -h localhost -p 5432 -U upraxis -d dbpraxis -c \"select distinct * from empl, dept where empl.deptid = dept.deptid;\""
      ],
      "metadata": {
        "colab": {
          "base_uri": "https://localhost:8080/"
        },
        "id": "-0J9N3_J4wfa",
        "outputId": "38373df3-6da9-45f6-ebc0-6a2e22b8d2f1"
      },
      "execution_count": 12,
      "outputs": [
        {
          "output_type": "stream",
          "name": "stdout",
          "text": [
            " empid  |  lastname   | firstname |  jobdesc   |  joindate  | salary | comm | deptid | deptid |  deptname  | managerid | location \n",
            "--------+-------------+-----------+------------+------------+--------+------+--------+--------+------------+-----------+----------\n",
            " 546223 | Karthikeyan | Narayan   | Secretary  | 2005-12-04 |  40000 | 0.09 | 10     | 10     | Corporate  | 299034    | Calcutta\n",
            " 239456 | Khan        | Shahrukh  | Manager    | 2004-01-03 |  30000 | 0.07 | 20     | 20     | Sales      | 239456    | Calcutta\n",
            " 123980 | Dhoni       | Mahender  | Clerk      | 2004-10-09 |   9000 | 0.02 | 40     | 40     | Production | 349870    | Bombay\n",
            " 299034 | Ganesan     | Rekha     | Director   | 2002-10-10 |  60000 | 0.11 | 10     | 10     | Corporate  | 299034    | Calcutta\n",
            " 742866 | Bacchan     | Amitabh   | Executive  | 2003-03-10 |  50000 | 0.10 | 10     | 10     | Corporate  | 299034    | Calcutta\n",
            " 349870 | Mukherjee   | Rani      | Manager    | 2005-05-04 |  25000 | 0.06 | 40     | 40     | Production | 349870    | Bombay\n",
            " 989007 | Ganguly     | Sourav    | Cus_Rep    | 2002-01-01 |  20000 | 0.03 | 40     | 40     | Production | 349870    | Bombay\n",
            " 865477 | Dikshit     | Madhuri   | Clerk      | 2002-04-04 |  10000 | 0.02 | 20     | 20     | Sales      | 239456    | Calcutta\n",
            " 223112 | Mirza       | Sania     | Cus_Rep    | 2001-11-19 |  25000 | 0.04 | 30     | 30     | Accounts   | 822134    | Calcutta\n",
            " 997445 | Dalmia      | Jagmohan  | Clerk      | 2001-07-01 |  12000 | 0.02 | 30     | 30     | Accounts   | 822134    | Calcutta\n",
            " 822134 | Dravid      | Rahul     | Sr Manager | 2000-06-04 |  40000 | 0.08 | 30     | 30     | Accounts   | 822134    | Calcutta\n",
            " 897889 | Sehwag      | Virender  | Cus_Rep    | 2005-01-02 |  15000 | 0.05 | 20     | 20     | Sales      | 239456    | Calcutta\n",
            "(12 rows)\n",
            "\n"
          ]
        }
      ]
    },
    {
      "cell_type": "markdown",
      "source": [
        "#Python Access | psycopg2\n",
        "https://www.tutorialspoint.com/python_data_access/python_postgresql_database_connection.htm"
      ],
      "metadata": {
        "id": "faZEj8_7CeZ8"
      }
    },
    {
      "cell_type": "code",
      "source": [
        "#!pip install psycopg2\n",
        "import psycopg2\n",
        "import pandas as pd"
      ],
      "metadata": {
        "id": "SJrNBQsOChnw"
      },
      "execution_count": 13,
      "outputs": []
    },
    {
      "cell_type": "markdown",
      "source": [
        "## Local Connection & Access"
      ],
      "metadata": {
        "id": "YUCd2Aw_E4KG"
      }
    },
    {
      "cell_type": "code",
      "source": [
        "# Local Colab server\n",
        "\n",
        "conn = psycopg2.connect(database=\"dbpraxis\", user='upraxis', password='upass', host='127.0.0.1', port= '5432')\n",
        "#Creating a cursor object using the cursor() method\n",
        "cursor = conn.cursor()\n",
        "#Executing an MYSQL function using the execute() method\n",
        "cursor.execute(\"select version()\")\n",
        "# Fetch a single row using fetchone() method.\n",
        "data = cursor.fetchone()\n",
        "print(\"Connection established to: \",data)\n",
        "#Closing the connection\n",
        "conn.close()"
      ],
      "metadata": {
        "id": "wcE-8UBnC4zV",
        "outputId": "1cae4e50-9cc4-4a6a-bc26-f54b48cc5d9c",
        "colab": {
          "base_uri": "https://localhost:8080/"
        }
      },
      "execution_count": 14,
      "outputs": [
        {
          "output_type": "stream",
          "name": "stdout",
          "text": [
            "Connection established to:  ('PostgreSQL 14.10 (Ubuntu 14.10-0ubuntu0.22.04.1) on x86_64-pc-linux-gnu, compiled by gcc (Ubuntu 11.4.0-1ubuntu1~22.04) 11.4.0, 64-bit',)\n"
          ]
        }
      ]
    },
    {
      "cell_type": "markdown",
      "source": [
        "## Data Access Routines"
      ],
      "metadata": {
        "id": "QhozDXBBE8_r"
      }
    },
    {
      "cell_type": "code",
      "source": [
        "def runSelect(s):\n",
        "\n",
        "    #Setting auto commit true\n",
        "    conn.autocommit = True\n",
        "    #Creating a cursor object using the cursor() method\n",
        "    cursor = conn.cursor()\n",
        "    #Retrieving data\n",
        "    cursor.execute(s)\n",
        "    #Fetching all rows from the table\n",
        "    result = cursor.fetchall();\n",
        "    #print(result)\n",
        "    colnames = [desc[0] for desc in cursor.description]\n",
        "    #print(colnames)\n",
        "    resultdf = pd.DataFrame(result)\n",
        "    resultdf.columns = colnames\n",
        "    return resultdf\n",
        "\n",
        "def runCmd(s):\n",
        "\n",
        "    #Creating a cursor object using the cursor() method\n",
        "    cursor = conn.cursor()\n",
        "    try:\n",
        "        cursor.execute(s)\n",
        "        print('Command executed')\n",
        "        conn.commit()\n",
        "    except:\n",
        "        print('Command failed')\n",
        "    #Closing the connection\n",
        "    #conn.close()"
      ],
      "metadata": {
        "id": "ht2k7-3iggNd"
      },
      "execution_count": 15,
      "outputs": []
    },
    {
      "cell_type": "code",
      "source": [
        "# Define LOCAL Connection\n",
        "db = 'dbpraxis'\n",
        "userid = 'upraxis'\n",
        "pw = 'upass'\n",
        "hosturl = '127.0.0.1'\n",
        "conn = psycopg2.connect(database=db, user=userid, password=pw, host=hosturl, port= '5432')"
      ],
      "metadata": {
        "id": "Hhg1fqpc8A3p"
      },
      "execution_count": 16,
      "outputs": []
    },
    {
      "cell_type": "markdown",
      "source": [
        "### Select Command"
      ],
      "metadata": {
        "id": "rxnheN2RjBlt"
      }
    },
    {
      "cell_type": "code",
      "source": [
        "runSelect('select * from dept')"
      ],
      "metadata": {
        "id": "N3NZv0YahSs6",
        "outputId": "b33edb54-366a-4874-a26c-3ac9aae69ebe",
        "colab": {
          "base_uri": "https://localhost:8080/",
          "height": 175
        }
      },
      "execution_count": 17,
      "outputs": [
        {
          "output_type": "execute_result",
          "data": {
            "text/plain": [
              "  deptid    deptname managerid  location\n",
              "0     10   Corporate    299034  Calcutta\n",
              "1     20       Sales    239456  Calcutta\n",
              "2     30    Accounts    822134  Calcutta\n",
              "3     40  Production    349870    Bombay"
            ],
            "text/html": [
              "\n",
              "  <div id=\"df-4f1ab6e1-b2e0-4fd1-b875-6b2b7a90276d\" class=\"colab-df-container\">\n",
              "    <div>\n",
              "<style scoped>\n",
              "    .dataframe tbody tr th:only-of-type {\n",
              "        vertical-align: middle;\n",
              "    }\n",
              "\n",
              "    .dataframe tbody tr th {\n",
              "        vertical-align: top;\n",
              "    }\n",
              "\n",
              "    .dataframe thead th {\n",
              "        text-align: right;\n",
              "    }\n",
              "</style>\n",
              "<table border=\"1\" class=\"dataframe\">\n",
              "  <thead>\n",
              "    <tr style=\"text-align: right;\">\n",
              "      <th></th>\n",
              "      <th>deptid</th>\n",
              "      <th>deptname</th>\n",
              "      <th>managerid</th>\n",
              "      <th>location</th>\n",
              "    </tr>\n",
              "  </thead>\n",
              "  <tbody>\n",
              "    <tr>\n",
              "      <th>0</th>\n",
              "      <td>10</td>\n",
              "      <td>Corporate</td>\n",
              "      <td>299034</td>\n",
              "      <td>Calcutta</td>\n",
              "    </tr>\n",
              "    <tr>\n",
              "      <th>1</th>\n",
              "      <td>20</td>\n",
              "      <td>Sales</td>\n",
              "      <td>239456</td>\n",
              "      <td>Calcutta</td>\n",
              "    </tr>\n",
              "    <tr>\n",
              "      <th>2</th>\n",
              "      <td>30</td>\n",
              "      <td>Accounts</td>\n",
              "      <td>822134</td>\n",
              "      <td>Calcutta</td>\n",
              "    </tr>\n",
              "    <tr>\n",
              "      <th>3</th>\n",
              "      <td>40</td>\n",
              "      <td>Production</td>\n",
              "      <td>349870</td>\n",
              "      <td>Bombay</td>\n",
              "    </tr>\n",
              "  </tbody>\n",
              "</table>\n",
              "</div>\n",
              "    <div class=\"colab-df-buttons\">\n",
              "\n",
              "  <div class=\"colab-df-container\">\n",
              "    <button class=\"colab-df-convert\" onclick=\"convertToInteractive('df-4f1ab6e1-b2e0-4fd1-b875-6b2b7a90276d')\"\n",
              "            title=\"Convert this dataframe to an interactive table.\"\n",
              "            style=\"display:none;\">\n",
              "\n",
              "  <svg xmlns=\"http://www.w3.org/2000/svg\" height=\"24px\" viewBox=\"0 -960 960 960\">\n",
              "    <path d=\"M120-120v-720h720v720H120Zm60-500h600v-160H180v160Zm220 220h160v-160H400v160Zm0 220h160v-160H400v160ZM180-400h160v-160H180v160Zm440 0h160v-160H620v160ZM180-180h160v-160H180v160Zm440 0h160v-160H620v160Z\"/>\n",
              "  </svg>\n",
              "    </button>\n",
              "\n",
              "  <style>\n",
              "    .colab-df-container {\n",
              "      display:flex;\n",
              "      gap: 12px;\n",
              "    }\n",
              "\n",
              "    .colab-df-convert {\n",
              "      background-color: #E8F0FE;\n",
              "      border: none;\n",
              "      border-radius: 50%;\n",
              "      cursor: pointer;\n",
              "      display: none;\n",
              "      fill: #1967D2;\n",
              "      height: 32px;\n",
              "      padding: 0 0 0 0;\n",
              "      width: 32px;\n",
              "    }\n",
              "\n",
              "    .colab-df-convert:hover {\n",
              "      background-color: #E2EBFA;\n",
              "      box-shadow: 0px 1px 2px rgba(60, 64, 67, 0.3), 0px 1px 3px 1px rgba(60, 64, 67, 0.15);\n",
              "      fill: #174EA6;\n",
              "    }\n",
              "\n",
              "    .colab-df-buttons div {\n",
              "      margin-bottom: 4px;\n",
              "    }\n",
              "\n",
              "    [theme=dark] .colab-df-convert {\n",
              "      background-color: #3B4455;\n",
              "      fill: #D2E3FC;\n",
              "    }\n",
              "\n",
              "    [theme=dark] .colab-df-convert:hover {\n",
              "      background-color: #434B5C;\n",
              "      box-shadow: 0px 1px 3px 1px rgba(0, 0, 0, 0.15);\n",
              "      filter: drop-shadow(0px 1px 2px rgba(0, 0, 0, 0.3));\n",
              "      fill: #FFFFFF;\n",
              "    }\n",
              "  </style>\n",
              "\n",
              "    <script>\n",
              "      const buttonEl =\n",
              "        document.querySelector('#df-4f1ab6e1-b2e0-4fd1-b875-6b2b7a90276d button.colab-df-convert');\n",
              "      buttonEl.style.display =\n",
              "        google.colab.kernel.accessAllowed ? 'block' : 'none';\n",
              "\n",
              "      async function convertToInteractive(key) {\n",
              "        const element = document.querySelector('#df-4f1ab6e1-b2e0-4fd1-b875-6b2b7a90276d');\n",
              "        const dataTable =\n",
              "          await google.colab.kernel.invokeFunction('convertToInteractive',\n",
              "                                                    [key], {});\n",
              "        if (!dataTable) return;\n",
              "\n",
              "        const docLinkHtml = 'Like what you see? Visit the ' +\n",
              "          '<a target=\"_blank\" href=https://colab.research.google.com/notebooks/data_table.ipynb>data table notebook</a>'\n",
              "          + ' to learn more about interactive tables.';\n",
              "        element.innerHTML = '';\n",
              "        dataTable['output_type'] = 'display_data';\n",
              "        await google.colab.output.renderOutput(dataTable, element);\n",
              "        const docLink = document.createElement('div');\n",
              "        docLink.innerHTML = docLinkHtml;\n",
              "        element.appendChild(docLink);\n",
              "      }\n",
              "    </script>\n",
              "  </div>\n",
              "\n",
              "\n",
              "<div id=\"df-7a397784-b517-43e7-8329-3fc4d1c9fcca\">\n",
              "  <button class=\"colab-df-quickchart\" onclick=\"quickchart('df-7a397784-b517-43e7-8329-3fc4d1c9fcca')\"\n",
              "            title=\"Suggest charts\"\n",
              "            style=\"display:none;\">\n",
              "\n",
              "<svg xmlns=\"http://www.w3.org/2000/svg\" height=\"24px\"viewBox=\"0 0 24 24\"\n",
              "     width=\"24px\">\n",
              "    <g>\n",
              "        <path d=\"M19 3H5c-1.1 0-2 .9-2 2v14c0 1.1.9 2 2 2h14c1.1 0 2-.9 2-2V5c0-1.1-.9-2-2-2zM9 17H7v-7h2v7zm4 0h-2V7h2v10zm4 0h-2v-4h2v4z\"/>\n",
              "    </g>\n",
              "</svg>\n",
              "  </button>\n",
              "\n",
              "<style>\n",
              "  .colab-df-quickchart {\n",
              "      --bg-color: #E8F0FE;\n",
              "      --fill-color: #1967D2;\n",
              "      --hover-bg-color: #E2EBFA;\n",
              "      --hover-fill-color: #174EA6;\n",
              "      --disabled-fill-color: #AAA;\n",
              "      --disabled-bg-color: #DDD;\n",
              "  }\n",
              "\n",
              "  [theme=dark] .colab-df-quickchart {\n",
              "      --bg-color: #3B4455;\n",
              "      --fill-color: #D2E3FC;\n",
              "      --hover-bg-color: #434B5C;\n",
              "      --hover-fill-color: #FFFFFF;\n",
              "      --disabled-bg-color: #3B4455;\n",
              "      --disabled-fill-color: #666;\n",
              "  }\n",
              "\n",
              "  .colab-df-quickchart {\n",
              "    background-color: var(--bg-color);\n",
              "    border: none;\n",
              "    border-radius: 50%;\n",
              "    cursor: pointer;\n",
              "    display: none;\n",
              "    fill: var(--fill-color);\n",
              "    height: 32px;\n",
              "    padding: 0;\n",
              "    width: 32px;\n",
              "  }\n",
              "\n",
              "  .colab-df-quickchart:hover {\n",
              "    background-color: var(--hover-bg-color);\n",
              "    box-shadow: 0 1px 2px rgba(60, 64, 67, 0.3), 0 1px 3px 1px rgba(60, 64, 67, 0.15);\n",
              "    fill: var(--button-hover-fill-color);\n",
              "  }\n",
              "\n",
              "  .colab-df-quickchart-complete:disabled,\n",
              "  .colab-df-quickchart-complete:disabled:hover {\n",
              "    background-color: var(--disabled-bg-color);\n",
              "    fill: var(--disabled-fill-color);\n",
              "    box-shadow: none;\n",
              "  }\n",
              "\n",
              "  .colab-df-spinner {\n",
              "    border: 2px solid var(--fill-color);\n",
              "    border-color: transparent;\n",
              "    border-bottom-color: var(--fill-color);\n",
              "    animation:\n",
              "      spin 1s steps(1) infinite;\n",
              "  }\n",
              "\n",
              "  @keyframes spin {\n",
              "    0% {\n",
              "      border-color: transparent;\n",
              "      border-bottom-color: var(--fill-color);\n",
              "      border-left-color: var(--fill-color);\n",
              "    }\n",
              "    20% {\n",
              "      border-color: transparent;\n",
              "      border-left-color: var(--fill-color);\n",
              "      border-top-color: var(--fill-color);\n",
              "    }\n",
              "    30% {\n",
              "      border-color: transparent;\n",
              "      border-left-color: var(--fill-color);\n",
              "      border-top-color: var(--fill-color);\n",
              "      border-right-color: var(--fill-color);\n",
              "    }\n",
              "    40% {\n",
              "      border-color: transparent;\n",
              "      border-right-color: var(--fill-color);\n",
              "      border-top-color: var(--fill-color);\n",
              "    }\n",
              "    60% {\n",
              "      border-color: transparent;\n",
              "      border-right-color: var(--fill-color);\n",
              "    }\n",
              "    80% {\n",
              "      border-color: transparent;\n",
              "      border-right-color: var(--fill-color);\n",
              "      border-bottom-color: var(--fill-color);\n",
              "    }\n",
              "    90% {\n",
              "      border-color: transparent;\n",
              "      border-bottom-color: var(--fill-color);\n",
              "    }\n",
              "  }\n",
              "</style>\n",
              "\n",
              "  <script>\n",
              "    async function quickchart(key) {\n",
              "      const quickchartButtonEl =\n",
              "        document.querySelector('#' + key + ' button');\n",
              "      quickchartButtonEl.disabled = true;  // To prevent multiple clicks.\n",
              "      quickchartButtonEl.classList.add('colab-df-spinner');\n",
              "      try {\n",
              "        const charts = await google.colab.kernel.invokeFunction(\n",
              "            'suggestCharts', [key], {});\n",
              "      } catch (error) {\n",
              "        console.error('Error during call to suggestCharts:', error);\n",
              "      }\n",
              "      quickchartButtonEl.classList.remove('colab-df-spinner');\n",
              "      quickchartButtonEl.classList.add('colab-df-quickchart-complete');\n",
              "    }\n",
              "    (() => {\n",
              "      let quickchartButtonEl =\n",
              "        document.querySelector('#df-7a397784-b517-43e7-8329-3fc4d1c9fcca button');\n",
              "      quickchartButtonEl.style.display =\n",
              "        google.colab.kernel.accessAllowed ? 'block' : 'none';\n",
              "    })();\n",
              "  </script>\n",
              "</div>\n",
              "    </div>\n",
              "  </div>\n"
            ]
          },
          "metadata": {},
          "execution_count": 17
        }
      ]
    },
    {
      "cell_type": "markdown",
      "source": [
        "### Non SELECT statements"
      ],
      "metadata": {
        "id": "-W6rURfpI43s"
      }
    },
    {
      "cell_type": "code",
      "source": [
        "runCmd('DROP TABLE IF EXISTS empl2')\n",
        "ddl = \\\n",
        "\"create table empl2 \\\n",
        "(empid char(6),\\\n",
        "    lastname varchar(20),\\\n",
        "    firstname varchar(20),\\\n",
        "    jobdesc varchar(10),\\\n",
        "    joindate date,\\\n",
        "    salary int,\\\n",
        "    comm decimal(3,2),\\\n",
        "    deptid char(2));\\\n",
        "\"\n",
        "runCmd(ddl)"
      ],
      "metadata": {
        "id": "2gwgwPQGlL6p",
        "outputId": "ea257d68-9e60-411f-c5ba-39428434b95d",
        "colab": {
          "base_uri": "https://localhost:8080/"
        }
      },
      "execution_count": 18,
      "outputs": [
        {
          "output_type": "stream",
          "name": "stdout",
          "text": [
            "Command executed\n",
            "Command executed\n"
          ]
        }
      ]
    },
    {
      "cell_type": "code",
      "source": [
        "sql = \\\n",
        "\"INSERT INTO Empl2 (EmpID, LastName, FirstName, JobDesc, JoinDate, Salary, Comm, DeptID) \\\n",
        "    VALUES \\\n",
        "\t('742866', 'Bacchan2', 'Amitabh', 'Executive', '2003-03-10', 50000, 0.1, '10'), \\\n",
        "\t('349870', 'Mukherjee2', 'Rani', 'Manager', '2005-05-04', 25000, 0.06, '40'), \\\n",
        "\t('865477', 'Dikshit2', 'Madhuri', 'Clerk', '2002-04-04', 10000, 0.02, '20'), \\\n",
        "\t('239456', 'Khan2', 'Shahrukh', 'Manager', '2004-01-03', 30000, 0.07, '20'), \\\n",
        "\t('897889', 'Sehwag2', 'Virender', 'Cus_Rep', '2005-01-02', 15000, 0.05, '20'), \\\n",
        "\t('123980', 'Dhoni2', 'Mahender', 'Clerk', '2004-10-09', 9000, 0.02, '40'), \\\n",
        "\t('822134', 'Dravid2', 'Rahul', 'Sr Manager', '2000-06-04', 40000, 0.08, '30'), \\\n",
        "\t('997445', 'Dalmia2', 'Jagmohan', 'Clerk', '2001-07-01', 12000, 0.02, '30'), \\\n",
        "\t('989007', 'Ganguly2', 'Sourav', 'Cus_Rep', '2002-01-01', 20000, 0.03, '40'), \\\n",
        "\t('299034', 'Ganesan2', 'Rekha', 'Director', '2002-10-10', 60000, 0.11, '10'), \\\n",
        "\t('546223', 'Karthikeyan2', 'Narayan', 'Secretary', '2005-12-04', 40000, 0.09, '10'), \\\n",
        "\t('223112', 'Mirza2', 'Sania', 'Cus_Rep', '2001-11-19', 25000, 0.04, '30');\"\n",
        "\n",
        "runCmd(sql)"
      ],
      "metadata": {
        "id": "XdoJN6p-lrAz",
        "outputId": "c34e61d5-010c-4e11-f406-6d003500def8",
        "colab": {
          "base_uri": "https://localhost:8080/"
        }
      },
      "execution_count": 19,
      "outputs": [
        {
          "output_type": "stream",
          "name": "stdout",
          "text": [
            "Command executed\n"
          ]
        }
      ]
    },
    {
      "cell_type": "code",
      "source": [
        "runSelect('select * from empl2')"
      ],
      "metadata": {
        "id": "Otiv4rjSl5Tg",
        "outputId": "5d39a0a3-70c8-47db-fef3-0e7f1e35341c",
        "colab": {
          "base_uri": "https://localhost:8080/",
          "height": 426
        }
      },
      "execution_count": 20,
      "outputs": [
        {
          "output_type": "execute_result",
          "data": {
            "text/plain": [
              "     empid      lastname firstname     jobdesc    joindate  salary  comm  \\\n",
              "0   742866      Bacchan2   Amitabh   Executive  2003-03-10   50000  0.10   \n",
              "1   349870    Mukherjee2      Rani     Manager  2005-05-04   25000  0.06   \n",
              "2   865477      Dikshit2   Madhuri       Clerk  2002-04-04   10000  0.02   \n",
              "3   239456         Khan2  Shahrukh     Manager  2004-01-03   30000  0.07   \n",
              "4   897889       Sehwag2  Virender     Cus_Rep  2005-01-02   15000  0.05   \n",
              "5   123980        Dhoni2  Mahender       Clerk  2004-10-09    9000  0.02   \n",
              "6   822134       Dravid2     Rahul  Sr Manager  2000-06-04   40000  0.08   \n",
              "7   997445       Dalmia2  Jagmohan       Clerk  2001-07-01   12000  0.02   \n",
              "8   989007      Ganguly2    Sourav     Cus_Rep  2002-01-01   20000  0.03   \n",
              "9   299034      Ganesan2     Rekha    Director  2002-10-10   60000  0.11   \n",
              "10  546223  Karthikeyan2   Narayan   Secretary  2005-12-04   40000  0.09   \n",
              "11  223112        Mirza2     Sania     Cus_Rep  2001-11-19   25000  0.04   \n",
              "\n",
              "   deptid  \n",
              "0      10  \n",
              "1      40  \n",
              "2      20  \n",
              "3      20  \n",
              "4      20  \n",
              "5      40  \n",
              "6      30  \n",
              "7      30  \n",
              "8      40  \n",
              "9      10  \n",
              "10     10  \n",
              "11     30  "
            ],
            "text/html": [
              "\n",
              "  <div id=\"df-9f97568c-4f94-4790-b06c-23712f4ba6d8\" class=\"colab-df-container\">\n",
              "    <div>\n",
              "<style scoped>\n",
              "    .dataframe tbody tr th:only-of-type {\n",
              "        vertical-align: middle;\n",
              "    }\n",
              "\n",
              "    .dataframe tbody tr th {\n",
              "        vertical-align: top;\n",
              "    }\n",
              "\n",
              "    .dataframe thead th {\n",
              "        text-align: right;\n",
              "    }\n",
              "</style>\n",
              "<table border=\"1\" class=\"dataframe\">\n",
              "  <thead>\n",
              "    <tr style=\"text-align: right;\">\n",
              "      <th></th>\n",
              "      <th>empid</th>\n",
              "      <th>lastname</th>\n",
              "      <th>firstname</th>\n",
              "      <th>jobdesc</th>\n",
              "      <th>joindate</th>\n",
              "      <th>salary</th>\n",
              "      <th>comm</th>\n",
              "      <th>deptid</th>\n",
              "    </tr>\n",
              "  </thead>\n",
              "  <tbody>\n",
              "    <tr>\n",
              "      <th>0</th>\n",
              "      <td>742866</td>\n",
              "      <td>Bacchan2</td>\n",
              "      <td>Amitabh</td>\n",
              "      <td>Executive</td>\n",
              "      <td>2003-03-10</td>\n",
              "      <td>50000</td>\n",
              "      <td>0.10</td>\n",
              "      <td>10</td>\n",
              "    </tr>\n",
              "    <tr>\n",
              "      <th>1</th>\n",
              "      <td>349870</td>\n",
              "      <td>Mukherjee2</td>\n",
              "      <td>Rani</td>\n",
              "      <td>Manager</td>\n",
              "      <td>2005-05-04</td>\n",
              "      <td>25000</td>\n",
              "      <td>0.06</td>\n",
              "      <td>40</td>\n",
              "    </tr>\n",
              "    <tr>\n",
              "      <th>2</th>\n",
              "      <td>865477</td>\n",
              "      <td>Dikshit2</td>\n",
              "      <td>Madhuri</td>\n",
              "      <td>Clerk</td>\n",
              "      <td>2002-04-04</td>\n",
              "      <td>10000</td>\n",
              "      <td>0.02</td>\n",
              "      <td>20</td>\n",
              "    </tr>\n",
              "    <tr>\n",
              "      <th>3</th>\n",
              "      <td>239456</td>\n",
              "      <td>Khan2</td>\n",
              "      <td>Shahrukh</td>\n",
              "      <td>Manager</td>\n",
              "      <td>2004-01-03</td>\n",
              "      <td>30000</td>\n",
              "      <td>0.07</td>\n",
              "      <td>20</td>\n",
              "    </tr>\n",
              "    <tr>\n",
              "      <th>4</th>\n",
              "      <td>897889</td>\n",
              "      <td>Sehwag2</td>\n",
              "      <td>Virender</td>\n",
              "      <td>Cus_Rep</td>\n",
              "      <td>2005-01-02</td>\n",
              "      <td>15000</td>\n",
              "      <td>0.05</td>\n",
              "      <td>20</td>\n",
              "    </tr>\n",
              "    <tr>\n",
              "      <th>5</th>\n",
              "      <td>123980</td>\n",
              "      <td>Dhoni2</td>\n",
              "      <td>Mahender</td>\n",
              "      <td>Clerk</td>\n",
              "      <td>2004-10-09</td>\n",
              "      <td>9000</td>\n",
              "      <td>0.02</td>\n",
              "      <td>40</td>\n",
              "    </tr>\n",
              "    <tr>\n",
              "      <th>6</th>\n",
              "      <td>822134</td>\n",
              "      <td>Dravid2</td>\n",
              "      <td>Rahul</td>\n",
              "      <td>Sr Manager</td>\n",
              "      <td>2000-06-04</td>\n",
              "      <td>40000</td>\n",
              "      <td>0.08</td>\n",
              "      <td>30</td>\n",
              "    </tr>\n",
              "    <tr>\n",
              "      <th>7</th>\n",
              "      <td>997445</td>\n",
              "      <td>Dalmia2</td>\n",
              "      <td>Jagmohan</td>\n",
              "      <td>Clerk</td>\n",
              "      <td>2001-07-01</td>\n",
              "      <td>12000</td>\n",
              "      <td>0.02</td>\n",
              "      <td>30</td>\n",
              "    </tr>\n",
              "    <tr>\n",
              "      <th>8</th>\n",
              "      <td>989007</td>\n",
              "      <td>Ganguly2</td>\n",
              "      <td>Sourav</td>\n",
              "      <td>Cus_Rep</td>\n",
              "      <td>2002-01-01</td>\n",
              "      <td>20000</td>\n",
              "      <td>0.03</td>\n",
              "      <td>40</td>\n",
              "    </tr>\n",
              "    <tr>\n",
              "      <th>9</th>\n",
              "      <td>299034</td>\n",
              "      <td>Ganesan2</td>\n",
              "      <td>Rekha</td>\n",
              "      <td>Director</td>\n",
              "      <td>2002-10-10</td>\n",
              "      <td>60000</td>\n",
              "      <td>0.11</td>\n",
              "      <td>10</td>\n",
              "    </tr>\n",
              "    <tr>\n",
              "      <th>10</th>\n",
              "      <td>546223</td>\n",
              "      <td>Karthikeyan2</td>\n",
              "      <td>Narayan</td>\n",
              "      <td>Secretary</td>\n",
              "      <td>2005-12-04</td>\n",
              "      <td>40000</td>\n",
              "      <td>0.09</td>\n",
              "      <td>10</td>\n",
              "    </tr>\n",
              "    <tr>\n",
              "      <th>11</th>\n",
              "      <td>223112</td>\n",
              "      <td>Mirza2</td>\n",
              "      <td>Sania</td>\n",
              "      <td>Cus_Rep</td>\n",
              "      <td>2001-11-19</td>\n",
              "      <td>25000</td>\n",
              "      <td>0.04</td>\n",
              "      <td>30</td>\n",
              "    </tr>\n",
              "  </tbody>\n",
              "</table>\n",
              "</div>\n",
              "    <div class=\"colab-df-buttons\">\n",
              "\n",
              "  <div class=\"colab-df-container\">\n",
              "    <button class=\"colab-df-convert\" onclick=\"convertToInteractive('df-9f97568c-4f94-4790-b06c-23712f4ba6d8')\"\n",
              "            title=\"Convert this dataframe to an interactive table.\"\n",
              "            style=\"display:none;\">\n",
              "\n",
              "  <svg xmlns=\"http://www.w3.org/2000/svg\" height=\"24px\" viewBox=\"0 -960 960 960\">\n",
              "    <path d=\"M120-120v-720h720v720H120Zm60-500h600v-160H180v160Zm220 220h160v-160H400v160Zm0 220h160v-160H400v160ZM180-400h160v-160H180v160Zm440 0h160v-160H620v160ZM180-180h160v-160H180v160Zm440 0h160v-160H620v160Z\"/>\n",
              "  </svg>\n",
              "    </button>\n",
              "\n",
              "  <style>\n",
              "    .colab-df-container {\n",
              "      display:flex;\n",
              "      gap: 12px;\n",
              "    }\n",
              "\n",
              "    .colab-df-convert {\n",
              "      background-color: #E8F0FE;\n",
              "      border: none;\n",
              "      border-radius: 50%;\n",
              "      cursor: pointer;\n",
              "      display: none;\n",
              "      fill: #1967D2;\n",
              "      height: 32px;\n",
              "      padding: 0 0 0 0;\n",
              "      width: 32px;\n",
              "    }\n",
              "\n",
              "    .colab-df-convert:hover {\n",
              "      background-color: #E2EBFA;\n",
              "      box-shadow: 0px 1px 2px rgba(60, 64, 67, 0.3), 0px 1px 3px 1px rgba(60, 64, 67, 0.15);\n",
              "      fill: #174EA6;\n",
              "    }\n",
              "\n",
              "    .colab-df-buttons div {\n",
              "      margin-bottom: 4px;\n",
              "    }\n",
              "\n",
              "    [theme=dark] .colab-df-convert {\n",
              "      background-color: #3B4455;\n",
              "      fill: #D2E3FC;\n",
              "    }\n",
              "\n",
              "    [theme=dark] .colab-df-convert:hover {\n",
              "      background-color: #434B5C;\n",
              "      box-shadow: 0px 1px 3px 1px rgba(0, 0, 0, 0.15);\n",
              "      filter: drop-shadow(0px 1px 2px rgba(0, 0, 0, 0.3));\n",
              "      fill: #FFFFFF;\n",
              "    }\n",
              "  </style>\n",
              "\n",
              "    <script>\n",
              "      const buttonEl =\n",
              "        document.querySelector('#df-9f97568c-4f94-4790-b06c-23712f4ba6d8 button.colab-df-convert');\n",
              "      buttonEl.style.display =\n",
              "        google.colab.kernel.accessAllowed ? 'block' : 'none';\n",
              "\n",
              "      async function convertToInteractive(key) {\n",
              "        const element = document.querySelector('#df-9f97568c-4f94-4790-b06c-23712f4ba6d8');\n",
              "        const dataTable =\n",
              "          await google.colab.kernel.invokeFunction('convertToInteractive',\n",
              "                                                    [key], {});\n",
              "        if (!dataTable) return;\n",
              "\n",
              "        const docLinkHtml = 'Like what you see? Visit the ' +\n",
              "          '<a target=\"_blank\" href=https://colab.research.google.com/notebooks/data_table.ipynb>data table notebook</a>'\n",
              "          + ' to learn more about interactive tables.';\n",
              "        element.innerHTML = '';\n",
              "        dataTable['output_type'] = 'display_data';\n",
              "        await google.colab.output.renderOutput(dataTable, element);\n",
              "        const docLink = document.createElement('div');\n",
              "        docLink.innerHTML = docLinkHtml;\n",
              "        element.appendChild(docLink);\n",
              "      }\n",
              "    </script>\n",
              "  </div>\n",
              "\n",
              "\n",
              "<div id=\"df-aa4bc8f5-4f68-4b28-8ad2-fa8fa9b11d8d\">\n",
              "  <button class=\"colab-df-quickchart\" onclick=\"quickchart('df-aa4bc8f5-4f68-4b28-8ad2-fa8fa9b11d8d')\"\n",
              "            title=\"Suggest charts\"\n",
              "            style=\"display:none;\">\n",
              "\n",
              "<svg xmlns=\"http://www.w3.org/2000/svg\" height=\"24px\"viewBox=\"0 0 24 24\"\n",
              "     width=\"24px\">\n",
              "    <g>\n",
              "        <path d=\"M19 3H5c-1.1 0-2 .9-2 2v14c0 1.1.9 2 2 2h14c1.1 0 2-.9 2-2V5c0-1.1-.9-2-2-2zM9 17H7v-7h2v7zm4 0h-2V7h2v10zm4 0h-2v-4h2v4z\"/>\n",
              "    </g>\n",
              "</svg>\n",
              "  </button>\n",
              "\n",
              "<style>\n",
              "  .colab-df-quickchart {\n",
              "      --bg-color: #E8F0FE;\n",
              "      --fill-color: #1967D2;\n",
              "      --hover-bg-color: #E2EBFA;\n",
              "      --hover-fill-color: #174EA6;\n",
              "      --disabled-fill-color: #AAA;\n",
              "      --disabled-bg-color: #DDD;\n",
              "  }\n",
              "\n",
              "  [theme=dark] .colab-df-quickchart {\n",
              "      --bg-color: #3B4455;\n",
              "      --fill-color: #D2E3FC;\n",
              "      --hover-bg-color: #434B5C;\n",
              "      --hover-fill-color: #FFFFFF;\n",
              "      --disabled-bg-color: #3B4455;\n",
              "      --disabled-fill-color: #666;\n",
              "  }\n",
              "\n",
              "  .colab-df-quickchart {\n",
              "    background-color: var(--bg-color);\n",
              "    border: none;\n",
              "    border-radius: 50%;\n",
              "    cursor: pointer;\n",
              "    display: none;\n",
              "    fill: var(--fill-color);\n",
              "    height: 32px;\n",
              "    padding: 0;\n",
              "    width: 32px;\n",
              "  }\n",
              "\n",
              "  .colab-df-quickchart:hover {\n",
              "    background-color: var(--hover-bg-color);\n",
              "    box-shadow: 0 1px 2px rgba(60, 64, 67, 0.3), 0 1px 3px 1px rgba(60, 64, 67, 0.15);\n",
              "    fill: var(--button-hover-fill-color);\n",
              "  }\n",
              "\n",
              "  .colab-df-quickchart-complete:disabled,\n",
              "  .colab-df-quickchart-complete:disabled:hover {\n",
              "    background-color: var(--disabled-bg-color);\n",
              "    fill: var(--disabled-fill-color);\n",
              "    box-shadow: none;\n",
              "  }\n",
              "\n",
              "  .colab-df-spinner {\n",
              "    border: 2px solid var(--fill-color);\n",
              "    border-color: transparent;\n",
              "    border-bottom-color: var(--fill-color);\n",
              "    animation:\n",
              "      spin 1s steps(1) infinite;\n",
              "  }\n",
              "\n",
              "  @keyframes spin {\n",
              "    0% {\n",
              "      border-color: transparent;\n",
              "      border-bottom-color: var(--fill-color);\n",
              "      border-left-color: var(--fill-color);\n",
              "    }\n",
              "    20% {\n",
              "      border-color: transparent;\n",
              "      border-left-color: var(--fill-color);\n",
              "      border-top-color: var(--fill-color);\n",
              "    }\n",
              "    30% {\n",
              "      border-color: transparent;\n",
              "      border-left-color: var(--fill-color);\n",
              "      border-top-color: var(--fill-color);\n",
              "      border-right-color: var(--fill-color);\n",
              "    }\n",
              "    40% {\n",
              "      border-color: transparent;\n",
              "      border-right-color: var(--fill-color);\n",
              "      border-top-color: var(--fill-color);\n",
              "    }\n",
              "    60% {\n",
              "      border-color: transparent;\n",
              "      border-right-color: var(--fill-color);\n",
              "    }\n",
              "    80% {\n",
              "      border-color: transparent;\n",
              "      border-right-color: var(--fill-color);\n",
              "      border-bottom-color: var(--fill-color);\n",
              "    }\n",
              "    90% {\n",
              "      border-color: transparent;\n",
              "      border-bottom-color: var(--fill-color);\n",
              "    }\n",
              "  }\n",
              "</style>\n",
              "\n",
              "  <script>\n",
              "    async function quickchart(key) {\n",
              "      const quickchartButtonEl =\n",
              "        document.querySelector('#' + key + ' button');\n",
              "      quickchartButtonEl.disabled = true;  // To prevent multiple clicks.\n",
              "      quickchartButtonEl.classList.add('colab-df-spinner');\n",
              "      try {\n",
              "        const charts = await google.colab.kernel.invokeFunction(\n",
              "            'suggestCharts', [key], {});\n",
              "      } catch (error) {\n",
              "        console.error('Error during call to suggestCharts:', error);\n",
              "      }\n",
              "      quickchartButtonEl.classList.remove('colab-df-spinner');\n",
              "      quickchartButtonEl.classList.add('colab-df-quickchart-complete');\n",
              "    }\n",
              "    (() => {\n",
              "      let quickchartButtonEl =\n",
              "        document.querySelector('#df-aa4bc8f5-4f68-4b28-8ad2-fa8fa9b11d8d button');\n",
              "      quickchartButtonEl.style.display =\n",
              "        google.colab.kernel.accessAllowed ? 'block' : 'none';\n",
              "    })();\n",
              "  </script>\n",
              "</div>\n",
              "    </div>\n",
              "  </div>\n"
            ]
          },
          "metadata": {},
          "execution_count": 20
        }
      ]
    },
    {
      "cell_type": "markdown",
      "source": [
        "# Working with Persistent (Remote, Hosted) Database"
      ],
      "metadata": {
        "id": "iReb-Ged-Hpi"
      }
    },
    {
      "cell_type": "code",
      "source": [
        "from google.colab import drive\n",
        "drive.mount('/content/drive')\n"
      ],
      "metadata": {
        "id": "-CtGh7mmiNtY",
        "outputId": "7232e84d-4e70-4028-d3af-99f7ba8744ec",
        "colab": {
          "base_uri": "https://localhost:8080/"
        }
      },
      "execution_count": 21,
      "outputs": [
        {
          "output_type": "stream",
          "name": "stdout",
          "text": [
            "Mounted at /content/drive\n"
          ]
        }
      ]
    },
    {
      "cell_type": "code",
      "source": [
        "#ls /content/drive/MyDrive/Praxis/WebCredentials/neon*.py\n",
        "!cp /content/drive/MyDrive/Praxis/WebCredentials/neonCredentials250124.py ./credentials.py"
      ],
      "metadata": {
        "id": "k4DLCP4G63aN"
      },
      "execution_count": 22,
      "outputs": []
    },
    {
      "cell_type": "code",
      "source": [
        "from credentials import PGHOST, PGDATABASE,PGUSER,PGPASSWORD\n",
        "#print(PGHOST, PGDATABASE,PGUSER,PGPASSWORD)\n",
        "print(PGHOST, PGDATABASE,PGUSER)"
      ],
      "metadata": {
        "colab": {
          "base_uri": "https://localhost:8080/"
        },
        "id": "Nf4e1Nax7n2Y",
        "outputId": "79f59c98-9cc7-4ded-f823-194c9d30a2ef"
      },
      "execution_count": 23,
      "outputs": [
        {
          "output_type": "stream",
          "name": "stdout",
          "text": [
            "ep-flat-moon-a6gkgpta.us-west-2.aws.neon.tech neondb registrations\n"
          ]
        }
      ]
    },
    {
      "cell_type": "markdown",
      "source": [
        "## Define Connection to Neon"
      ],
      "metadata": {
        "id": "HEB6Bc3O_5zN"
      }
    },
    {
      "cell_type": "code",
      "source": [
        "# Remote Postgres Server on Neon\n",
        "\n",
        "#https://stackoverflow.com/questions/54300263/connect-to-aws-rds-postgres-database-with-python\n",
        "\n",
        "# Remote Server\n",
        "\n",
        "#PGDATABASE = 'yourDatabase'\n",
        "#PGUSER = 'yourUserID'\n",
        "#PGPASSWORD= 'yourPassWord'\n",
        "#PGHOST = 'yourHost'\n",
        "#\n",
        "conn = psycopg2.connect(database=PGDATABASE, user=PGUSER, password=PGPASSWORD, host=PGHOST, port= '5432')\n",
        "\n",
        "#Creating a cursor object using the cursor() method\n",
        "cursor = conn.cursor()\n",
        "#Executing an MYSQL function using the execute() method\n",
        "cursor.execute(\"select version()\")\n",
        "# Fetch a single row using fetchone() method.\n",
        "data = cursor.fetchone()\n",
        "print(\"Connection established to: \",data)\n",
        "#Closing the connection\n",
        "conn.close()"
      ],
      "metadata": {
        "id": "pgpuyr9ficSy",
        "outputId": "e35cd1bf-081f-4183-8376-0e69385612c5",
        "colab": {
          "base_uri": "https://localhost:8080/"
        }
      },
      "execution_count": 24,
      "outputs": [
        {
          "output_type": "stream",
          "name": "stdout",
          "text": [
            "Connection established to:  ('PostgreSQL 15.5 on x86_64-pc-linux-gnu, compiled by gcc (Debian 10.2.1-6) 10.2.1 20210110, 64-bit',)\n"
          ]
        }
      ]
    },
    {
      "cell_type": "code",
      "source": [
        "# Remote Server\n",
        "\n",
        "#PGDATABASE = 'yourDatabase'\n",
        "#PGUSER = 'yourUserID'\n",
        "#PGPASSWORD= 'yourPassWord'\n",
        "#PGHOST = 'yourHost'\n",
        "#\n",
        "conn = psycopg2.connect(database=PGDATABASE, user=PGUSER, password=PGPASSWORD, host=PGHOST, port= '5432')"
      ],
      "metadata": {
        "id": "D4065yZouiK5"
      },
      "execution_count": 25,
      "outputs": []
    },
    {
      "cell_type": "markdown",
      "source": [
        "## Check Neon Access"
      ],
      "metadata": {
        "id": "IXptfMNdAHWX"
      }
    },
    {
      "cell_type": "code",
      "source": [
        "runCmd('DROP TABLE IF EXISTS r_empl')\n",
        "#\n",
        "ddl = \\\n",
        "\"create table if not exists r_empl \\\n",
        "(empid char(6),\\\n",
        "    lastname varchar(20),\\\n",
        "    firstname varchar(20),\\\n",
        "    jobdesc varchar(10),\\\n",
        "    joindate date,\\\n",
        "    salary int,\\\n",
        "    comm decimal(3,2),\\\n",
        "    deptid char(2));\\\n",
        "\"\n",
        "runCmd(ddl)"
      ],
      "metadata": {
        "colab": {
          "base_uri": "https://localhost:8080/"
        },
        "id": "gRFR5_KT-eYu",
        "outputId": "55d60c3d-bdd1-4fc3-dc53-c1435f9b3610"
      },
      "execution_count": 26,
      "outputs": [
        {
          "output_type": "stream",
          "name": "stdout",
          "text": [
            "Command executed\n",
            "Command executed\n"
          ]
        }
      ]
    },
    {
      "cell_type": "code",
      "source": [
        "sql = \\\n",
        "\"INSERT INTO r_empl (EmpID, LastName, FirstName, JobDesc, JoinDate, Salary, Comm, DeptID) \\\n",
        "    VALUES \\\n",
        "\t('742866', 'Bacchan2', 'Amitabh', 'Executive', '2003-03-10', 50000, 0.1, '10'), \\\n",
        "\t('349870', 'Mukherjee2', 'Rani', 'Manager', '2005-05-04', 25000, 0.06, '40'), \\\n",
        "\t('865477', 'Dikshit2', 'Madhuri', 'Clerk', '2002-04-04', 10000, 0.02, '20'), \\\n",
        "\t('239456', 'Khan2', 'Shahrukh', 'Manager', '2004-01-03', 30000, 0.07, '20'), \\\n",
        "\t('897889', 'Sehwag2', 'Virender', 'Cus_Rep', '2005-01-02', 15000, 0.05, '20'), \\\n",
        "\t('123980', 'Dhoni2', 'Mahender', 'Clerk', '2004-10-09', 9000, 0.02, '40'), \\\n",
        "\t('822134', 'Dravid2', 'Rahul', 'Sr Manager', '2000-06-04', 40000, 0.08, '30'), \\\n",
        "\t('997445', 'Dalmia2', 'Jagmohan', 'Clerk', '2001-07-01', 12000, 0.02, '30'), \\\n",
        "\t('989007', 'Ganguly2', 'Sourav', 'Cus_Rep', '2002-01-01', 20000, 0.03, '40'), \\\n",
        "\t('299034', 'Ganesan2', 'Rekha', 'Director', '2002-10-10', 60000, 0.11, '10'), \\\n",
        "\t('546223', 'Karthikeyan2', 'Narayan', 'Secretary', '2005-12-04', 40000, 0.09, '10'), \\\n",
        "\t('223112', 'Mirza2', 'Sania', 'Cus_Rep', '2001-11-19', 25000, 0.04, '30');\"\n",
        "\n",
        "runCmd(sql)"
      ],
      "metadata": {
        "colab": {
          "base_uri": "https://localhost:8080/"
        },
        "id": "DFP7Nj0M-wH8",
        "outputId": "f63efd9c-81b3-44a1-ff7a-241ba6e5f23c"
      },
      "execution_count": 27,
      "outputs": [
        {
          "output_type": "stream",
          "name": "stdout",
          "text": [
            "Command executed\n"
          ]
        }
      ]
    },
    {
      "cell_type": "code",
      "source": [
        "runSelect('select * from r_empl')"
      ],
      "metadata": {
        "colab": {
          "base_uri": "https://localhost:8080/",
          "height": 426
        },
        "id": "AAoFL4bu-558",
        "outputId": "984bdd5c-cbfe-422f-bb3c-94fd266e8e62"
      },
      "execution_count": 28,
      "outputs": [
        {
          "output_type": "execute_result",
          "data": {
            "text/plain": [
              "     empid      lastname firstname     jobdesc    joindate  salary  comm  \\\n",
              "0   742866      Bacchan2   Amitabh   Executive  2003-03-10   50000  0.10   \n",
              "1   349870    Mukherjee2      Rani     Manager  2005-05-04   25000  0.06   \n",
              "2   865477      Dikshit2   Madhuri       Clerk  2002-04-04   10000  0.02   \n",
              "3   239456         Khan2  Shahrukh     Manager  2004-01-03   30000  0.07   \n",
              "4   897889       Sehwag2  Virender     Cus_Rep  2005-01-02   15000  0.05   \n",
              "5   123980        Dhoni2  Mahender       Clerk  2004-10-09    9000  0.02   \n",
              "6   822134       Dravid2     Rahul  Sr Manager  2000-06-04   40000  0.08   \n",
              "7   997445       Dalmia2  Jagmohan       Clerk  2001-07-01   12000  0.02   \n",
              "8   989007      Ganguly2    Sourav     Cus_Rep  2002-01-01   20000  0.03   \n",
              "9   299034      Ganesan2     Rekha    Director  2002-10-10   60000  0.11   \n",
              "10  546223  Karthikeyan2   Narayan   Secretary  2005-12-04   40000  0.09   \n",
              "11  223112        Mirza2     Sania     Cus_Rep  2001-11-19   25000  0.04   \n",
              "\n",
              "   deptid  \n",
              "0      10  \n",
              "1      40  \n",
              "2      20  \n",
              "3      20  \n",
              "4      20  \n",
              "5      40  \n",
              "6      30  \n",
              "7      30  \n",
              "8      40  \n",
              "9      10  \n",
              "10     10  \n",
              "11     30  "
            ],
            "text/html": [
              "\n",
              "  <div id=\"df-9dde8700-8290-4afd-9bc1-e4ce725b6a41\" class=\"colab-df-container\">\n",
              "    <div>\n",
              "<style scoped>\n",
              "    .dataframe tbody tr th:only-of-type {\n",
              "        vertical-align: middle;\n",
              "    }\n",
              "\n",
              "    .dataframe tbody tr th {\n",
              "        vertical-align: top;\n",
              "    }\n",
              "\n",
              "    .dataframe thead th {\n",
              "        text-align: right;\n",
              "    }\n",
              "</style>\n",
              "<table border=\"1\" class=\"dataframe\">\n",
              "  <thead>\n",
              "    <tr style=\"text-align: right;\">\n",
              "      <th></th>\n",
              "      <th>empid</th>\n",
              "      <th>lastname</th>\n",
              "      <th>firstname</th>\n",
              "      <th>jobdesc</th>\n",
              "      <th>joindate</th>\n",
              "      <th>salary</th>\n",
              "      <th>comm</th>\n",
              "      <th>deptid</th>\n",
              "    </tr>\n",
              "  </thead>\n",
              "  <tbody>\n",
              "    <tr>\n",
              "      <th>0</th>\n",
              "      <td>742866</td>\n",
              "      <td>Bacchan2</td>\n",
              "      <td>Amitabh</td>\n",
              "      <td>Executive</td>\n",
              "      <td>2003-03-10</td>\n",
              "      <td>50000</td>\n",
              "      <td>0.10</td>\n",
              "      <td>10</td>\n",
              "    </tr>\n",
              "    <tr>\n",
              "      <th>1</th>\n",
              "      <td>349870</td>\n",
              "      <td>Mukherjee2</td>\n",
              "      <td>Rani</td>\n",
              "      <td>Manager</td>\n",
              "      <td>2005-05-04</td>\n",
              "      <td>25000</td>\n",
              "      <td>0.06</td>\n",
              "      <td>40</td>\n",
              "    </tr>\n",
              "    <tr>\n",
              "      <th>2</th>\n",
              "      <td>865477</td>\n",
              "      <td>Dikshit2</td>\n",
              "      <td>Madhuri</td>\n",
              "      <td>Clerk</td>\n",
              "      <td>2002-04-04</td>\n",
              "      <td>10000</td>\n",
              "      <td>0.02</td>\n",
              "      <td>20</td>\n",
              "    </tr>\n",
              "    <tr>\n",
              "      <th>3</th>\n",
              "      <td>239456</td>\n",
              "      <td>Khan2</td>\n",
              "      <td>Shahrukh</td>\n",
              "      <td>Manager</td>\n",
              "      <td>2004-01-03</td>\n",
              "      <td>30000</td>\n",
              "      <td>0.07</td>\n",
              "      <td>20</td>\n",
              "    </tr>\n",
              "    <tr>\n",
              "      <th>4</th>\n",
              "      <td>897889</td>\n",
              "      <td>Sehwag2</td>\n",
              "      <td>Virender</td>\n",
              "      <td>Cus_Rep</td>\n",
              "      <td>2005-01-02</td>\n",
              "      <td>15000</td>\n",
              "      <td>0.05</td>\n",
              "      <td>20</td>\n",
              "    </tr>\n",
              "    <tr>\n",
              "      <th>5</th>\n",
              "      <td>123980</td>\n",
              "      <td>Dhoni2</td>\n",
              "      <td>Mahender</td>\n",
              "      <td>Clerk</td>\n",
              "      <td>2004-10-09</td>\n",
              "      <td>9000</td>\n",
              "      <td>0.02</td>\n",
              "      <td>40</td>\n",
              "    </tr>\n",
              "    <tr>\n",
              "      <th>6</th>\n",
              "      <td>822134</td>\n",
              "      <td>Dravid2</td>\n",
              "      <td>Rahul</td>\n",
              "      <td>Sr Manager</td>\n",
              "      <td>2000-06-04</td>\n",
              "      <td>40000</td>\n",
              "      <td>0.08</td>\n",
              "      <td>30</td>\n",
              "    </tr>\n",
              "    <tr>\n",
              "      <th>7</th>\n",
              "      <td>997445</td>\n",
              "      <td>Dalmia2</td>\n",
              "      <td>Jagmohan</td>\n",
              "      <td>Clerk</td>\n",
              "      <td>2001-07-01</td>\n",
              "      <td>12000</td>\n",
              "      <td>0.02</td>\n",
              "      <td>30</td>\n",
              "    </tr>\n",
              "    <tr>\n",
              "      <th>8</th>\n",
              "      <td>989007</td>\n",
              "      <td>Ganguly2</td>\n",
              "      <td>Sourav</td>\n",
              "      <td>Cus_Rep</td>\n",
              "      <td>2002-01-01</td>\n",
              "      <td>20000</td>\n",
              "      <td>0.03</td>\n",
              "      <td>40</td>\n",
              "    </tr>\n",
              "    <tr>\n",
              "      <th>9</th>\n",
              "      <td>299034</td>\n",
              "      <td>Ganesan2</td>\n",
              "      <td>Rekha</td>\n",
              "      <td>Director</td>\n",
              "      <td>2002-10-10</td>\n",
              "      <td>60000</td>\n",
              "      <td>0.11</td>\n",
              "      <td>10</td>\n",
              "    </tr>\n",
              "    <tr>\n",
              "      <th>10</th>\n",
              "      <td>546223</td>\n",
              "      <td>Karthikeyan2</td>\n",
              "      <td>Narayan</td>\n",
              "      <td>Secretary</td>\n",
              "      <td>2005-12-04</td>\n",
              "      <td>40000</td>\n",
              "      <td>0.09</td>\n",
              "      <td>10</td>\n",
              "    </tr>\n",
              "    <tr>\n",
              "      <th>11</th>\n",
              "      <td>223112</td>\n",
              "      <td>Mirza2</td>\n",
              "      <td>Sania</td>\n",
              "      <td>Cus_Rep</td>\n",
              "      <td>2001-11-19</td>\n",
              "      <td>25000</td>\n",
              "      <td>0.04</td>\n",
              "      <td>30</td>\n",
              "    </tr>\n",
              "  </tbody>\n",
              "</table>\n",
              "</div>\n",
              "    <div class=\"colab-df-buttons\">\n",
              "\n",
              "  <div class=\"colab-df-container\">\n",
              "    <button class=\"colab-df-convert\" onclick=\"convertToInteractive('df-9dde8700-8290-4afd-9bc1-e4ce725b6a41')\"\n",
              "            title=\"Convert this dataframe to an interactive table.\"\n",
              "            style=\"display:none;\">\n",
              "\n",
              "  <svg xmlns=\"http://www.w3.org/2000/svg\" height=\"24px\" viewBox=\"0 -960 960 960\">\n",
              "    <path d=\"M120-120v-720h720v720H120Zm60-500h600v-160H180v160Zm220 220h160v-160H400v160Zm0 220h160v-160H400v160ZM180-400h160v-160H180v160Zm440 0h160v-160H620v160ZM180-180h160v-160H180v160Zm440 0h160v-160H620v160Z\"/>\n",
              "  </svg>\n",
              "    </button>\n",
              "\n",
              "  <style>\n",
              "    .colab-df-container {\n",
              "      display:flex;\n",
              "      gap: 12px;\n",
              "    }\n",
              "\n",
              "    .colab-df-convert {\n",
              "      background-color: #E8F0FE;\n",
              "      border: none;\n",
              "      border-radius: 50%;\n",
              "      cursor: pointer;\n",
              "      display: none;\n",
              "      fill: #1967D2;\n",
              "      height: 32px;\n",
              "      padding: 0 0 0 0;\n",
              "      width: 32px;\n",
              "    }\n",
              "\n",
              "    .colab-df-convert:hover {\n",
              "      background-color: #E2EBFA;\n",
              "      box-shadow: 0px 1px 2px rgba(60, 64, 67, 0.3), 0px 1px 3px 1px rgba(60, 64, 67, 0.15);\n",
              "      fill: #174EA6;\n",
              "    }\n",
              "\n",
              "    .colab-df-buttons div {\n",
              "      margin-bottom: 4px;\n",
              "    }\n",
              "\n",
              "    [theme=dark] .colab-df-convert {\n",
              "      background-color: #3B4455;\n",
              "      fill: #D2E3FC;\n",
              "    }\n",
              "\n",
              "    [theme=dark] .colab-df-convert:hover {\n",
              "      background-color: #434B5C;\n",
              "      box-shadow: 0px 1px 3px 1px rgba(0, 0, 0, 0.15);\n",
              "      filter: drop-shadow(0px 1px 2px rgba(0, 0, 0, 0.3));\n",
              "      fill: #FFFFFF;\n",
              "    }\n",
              "  </style>\n",
              "\n",
              "    <script>\n",
              "      const buttonEl =\n",
              "        document.querySelector('#df-9dde8700-8290-4afd-9bc1-e4ce725b6a41 button.colab-df-convert');\n",
              "      buttonEl.style.display =\n",
              "        google.colab.kernel.accessAllowed ? 'block' : 'none';\n",
              "\n",
              "      async function convertToInteractive(key) {\n",
              "        const element = document.querySelector('#df-9dde8700-8290-4afd-9bc1-e4ce725b6a41');\n",
              "        const dataTable =\n",
              "          await google.colab.kernel.invokeFunction('convertToInteractive',\n",
              "                                                    [key], {});\n",
              "        if (!dataTable) return;\n",
              "\n",
              "        const docLinkHtml = 'Like what you see? Visit the ' +\n",
              "          '<a target=\"_blank\" href=https://colab.research.google.com/notebooks/data_table.ipynb>data table notebook</a>'\n",
              "          + ' to learn more about interactive tables.';\n",
              "        element.innerHTML = '';\n",
              "        dataTable['output_type'] = 'display_data';\n",
              "        await google.colab.output.renderOutput(dataTable, element);\n",
              "        const docLink = document.createElement('div');\n",
              "        docLink.innerHTML = docLinkHtml;\n",
              "        element.appendChild(docLink);\n",
              "      }\n",
              "    </script>\n",
              "  </div>\n",
              "\n",
              "\n",
              "<div id=\"df-cfa75f8e-7982-452f-ac6c-656a8558c6cf\">\n",
              "  <button class=\"colab-df-quickchart\" onclick=\"quickchart('df-cfa75f8e-7982-452f-ac6c-656a8558c6cf')\"\n",
              "            title=\"Suggest charts\"\n",
              "            style=\"display:none;\">\n",
              "\n",
              "<svg xmlns=\"http://www.w3.org/2000/svg\" height=\"24px\"viewBox=\"0 0 24 24\"\n",
              "     width=\"24px\">\n",
              "    <g>\n",
              "        <path d=\"M19 3H5c-1.1 0-2 .9-2 2v14c0 1.1.9 2 2 2h14c1.1 0 2-.9 2-2V5c0-1.1-.9-2-2-2zM9 17H7v-7h2v7zm4 0h-2V7h2v10zm4 0h-2v-4h2v4z\"/>\n",
              "    </g>\n",
              "</svg>\n",
              "  </button>\n",
              "\n",
              "<style>\n",
              "  .colab-df-quickchart {\n",
              "      --bg-color: #E8F0FE;\n",
              "      --fill-color: #1967D2;\n",
              "      --hover-bg-color: #E2EBFA;\n",
              "      --hover-fill-color: #174EA6;\n",
              "      --disabled-fill-color: #AAA;\n",
              "      --disabled-bg-color: #DDD;\n",
              "  }\n",
              "\n",
              "  [theme=dark] .colab-df-quickchart {\n",
              "      --bg-color: #3B4455;\n",
              "      --fill-color: #D2E3FC;\n",
              "      --hover-bg-color: #434B5C;\n",
              "      --hover-fill-color: #FFFFFF;\n",
              "      --disabled-bg-color: #3B4455;\n",
              "      --disabled-fill-color: #666;\n",
              "  }\n",
              "\n",
              "  .colab-df-quickchart {\n",
              "    background-color: var(--bg-color);\n",
              "    border: none;\n",
              "    border-radius: 50%;\n",
              "    cursor: pointer;\n",
              "    display: none;\n",
              "    fill: var(--fill-color);\n",
              "    height: 32px;\n",
              "    padding: 0;\n",
              "    width: 32px;\n",
              "  }\n",
              "\n",
              "  .colab-df-quickchart:hover {\n",
              "    background-color: var(--hover-bg-color);\n",
              "    box-shadow: 0 1px 2px rgba(60, 64, 67, 0.3), 0 1px 3px 1px rgba(60, 64, 67, 0.15);\n",
              "    fill: var(--button-hover-fill-color);\n",
              "  }\n",
              "\n",
              "  .colab-df-quickchart-complete:disabled,\n",
              "  .colab-df-quickchart-complete:disabled:hover {\n",
              "    background-color: var(--disabled-bg-color);\n",
              "    fill: var(--disabled-fill-color);\n",
              "    box-shadow: none;\n",
              "  }\n",
              "\n",
              "  .colab-df-spinner {\n",
              "    border: 2px solid var(--fill-color);\n",
              "    border-color: transparent;\n",
              "    border-bottom-color: var(--fill-color);\n",
              "    animation:\n",
              "      spin 1s steps(1) infinite;\n",
              "  }\n",
              "\n",
              "  @keyframes spin {\n",
              "    0% {\n",
              "      border-color: transparent;\n",
              "      border-bottom-color: var(--fill-color);\n",
              "      border-left-color: var(--fill-color);\n",
              "    }\n",
              "    20% {\n",
              "      border-color: transparent;\n",
              "      border-left-color: var(--fill-color);\n",
              "      border-top-color: var(--fill-color);\n",
              "    }\n",
              "    30% {\n",
              "      border-color: transparent;\n",
              "      border-left-color: var(--fill-color);\n",
              "      border-top-color: var(--fill-color);\n",
              "      border-right-color: var(--fill-color);\n",
              "    }\n",
              "    40% {\n",
              "      border-color: transparent;\n",
              "      border-right-color: var(--fill-color);\n",
              "      border-top-color: var(--fill-color);\n",
              "    }\n",
              "    60% {\n",
              "      border-color: transparent;\n",
              "      border-right-color: var(--fill-color);\n",
              "    }\n",
              "    80% {\n",
              "      border-color: transparent;\n",
              "      border-right-color: var(--fill-color);\n",
              "      border-bottom-color: var(--fill-color);\n",
              "    }\n",
              "    90% {\n",
              "      border-color: transparent;\n",
              "      border-bottom-color: var(--fill-color);\n",
              "    }\n",
              "  }\n",
              "</style>\n",
              "\n",
              "  <script>\n",
              "    async function quickchart(key) {\n",
              "      const quickchartButtonEl =\n",
              "        document.querySelector('#' + key + ' button');\n",
              "      quickchartButtonEl.disabled = true;  // To prevent multiple clicks.\n",
              "      quickchartButtonEl.classList.add('colab-df-spinner');\n",
              "      try {\n",
              "        const charts = await google.colab.kernel.invokeFunction(\n",
              "            'suggestCharts', [key], {});\n",
              "      } catch (error) {\n",
              "        console.error('Error during call to suggestCharts:', error);\n",
              "      }\n",
              "      quickchartButtonEl.classList.remove('colab-df-spinner');\n",
              "      quickchartButtonEl.classList.add('colab-df-quickchart-complete');\n",
              "    }\n",
              "    (() => {\n",
              "      let quickchartButtonEl =\n",
              "        document.querySelector('#df-cfa75f8e-7982-452f-ac6c-656a8558c6cf button');\n",
              "      quickchartButtonEl.style.display =\n",
              "        google.colab.kernel.accessAllowed ? 'block' : 'none';\n",
              "    })();\n",
              "  </script>\n",
              "</div>\n",
              "    </div>\n",
              "  </div>\n"
            ]
          },
          "metadata": {},
          "execution_count": 28
        }
      ]
    },
    {
      "cell_type": "code",
      "source": [
        "#print(PGHOST, PGDATABASE,PGUSER,PGPASSWORD)"
      ],
      "metadata": {
        "id": "BKBLKEVP9udO"
      },
      "execution_count": 30,
      "outputs": []
    },
    {
      "cell_type": "code",
      "source": [
        "#Command Line Access\n",
        "!psql -h $PGHOST -p 5432 -U $PGUSER -d $PGDATABASE -c \"select * from r_empl;\""
      ],
      "metadata": {
        "colab": {
          "base_uri": "https://localhost:8080/"
        },
        "id": "ELD9YEkF_Nuo",
        "outputId": "df8ca454-e504-442a-fb3c-981cf4ba1308"
      },
      "execution_count": 31,
      "outputs": [
        {
          "output_type": "stream",
          "name": "stdout",
          "text": [
            "Password for user registrations: \n",
            " empid  |   lastname   | firstname |  jobdesc   |  joindate  | salary | comm | deptid \n",
            "--------+--------------+-----------+------------+------------+--------+------+--------\n",
            " 742866 | Bacchan2     | Amitabh   | Executive  | 2003-03-10 |  50000 | 0.10 | 10\n",
            " 349870 | Mukherjee2   | Rani      | Manager    | 2005-05-04 |  25000 | 0.06 | 40\n",
            " 865477 | Dikshit2     | Madhuri   | Clerk      | 2002-04-04 |  10000 | 0.02 | 20\n",
            " 239456 | Khan2        | Shahrukh  | Manager    | 2004-01-03 |  30000 | 0.07 | 20\n",
            " 897889 | Sehwag2      | Virender  | Cus_Rep    | 2005-01-02 |  15000 | 0.05 | 20\n",
            " 123980 | Dhoni2       | Mahender  | Clerk      | 2004-10-09 |   9000 | 0.02 | 40\n",
            " 822134 | Dravid2      | Rahul     | Sr Manager | 2000-06-04 |  40000 | 0.08 | 30\n",
            " 997445 | Dalmia2      | Jagmohan  | Clerk      | 2001-07-01 |  12000 | 0.02 | 30\n",
            " 989007 | Ganguly2     | Sourav    | Cus_Rep    | 2002-01-01 |  20000 | 0.03 | 40\n",
            " 299034 | Ganesan2     | Rekha     | Director   | 2002-10-10 |  60000 | 0.11 | 10\n",
            " 546223 | Karthikeyan2 | Narayan   | Secretary  | 2005-12-04 |  40000 | 0.09 | 10\n",
            " 223112 | Mirza2       | Sania     | Cus_Rep    | 2001-11-19 |  25000 | 0.04 | 30\n",
            "(12 rows)\n",
            "\n"
          ]
        }
      ]
    },
    {
      "cell_type": "code",
      "source": [
        "ddl = \"\\\n",
        "drop table if exists r_dept;\\\n",
        "create table r_dept (\\\n",
        "    deptid char(2),\\\n",
        "    deptname varchar(20),\\\n",
        "    managerid char(6),\\\n",
        "    location varchar(10)\\\n",
        "    );\\\n",
        "\"\n",
        "runCmd(ddl)"
      ],
      "metadata": {
        "id": "MP7SLrO2kBTR",
        "outputId": "94dde170-43c8-43a3-e897-eafac64ebe8a",
        "colab": {
          "base_uri": "https://localhost:8080/"
        }
      },
      "execution_count": 32,
      "outputs": [
        {
          "output_type": "stream",
          "name": "stdout",
          "text": [
            "Command executed\n"
          ]
        }
      ]
    },
    {
      "cell_type": "code",
      "source": [
        "# Loading Bulk Data\n",
        "# Note the \\COPY instead of simply COPY\n",
        "#\n",
        "!psql -h $PGHOST -p 5432 -U $PGUSER -d $PGDATABASE -c \"\\COPY r_dept FROM '/content/dept.csv' DELIMITER ',' CSV HEADER;\""
      ],
      "metadata": {
        "colab": {
          "base_uri": "https://localhost:8080/"
        },
        "id": "3ytv0gLk_6SU",
        "outputId": "e4c3ddc9-f3cc-4641-e760-5b1e41d7d714"
      },
      "execution_count": 33,
      "outputs": [
        {
          "output_type": "stream",
          "name": "stdout",
          "text": [
            "Password for user registrations: \n",
            "COPY 4\n"
          ]
        }
      ]
    },
    {
      "cell_type": "code",
      "source": [
        "!psql -h $PGHOST -p 5432 -U $PGUSER -d $PGDATABASE -c \"select * from r_dept;\""
      ],
      "metadata": {
        "colab": {
          "base_uri": "https://localhost:8080/"
        },
        "id": "a3xv_NkBBHG8",
        "outputId": "7908edc6-98fb-430e-9c14-5612eb9756f9"
      },
      "execution_count": 34,
      "outputs": [
        {
          "output_type": "stream",
          "name": "stdout",
          "text": [
            "Password for user registrations: \n",
            " deptid |  deptname  | managerid | location \n",
            "--------+------------+-----------+----------\n",
            " 10     | Corporate  | 299034    | Calcutta\n",
            " 20     | Sales      | 239456    | Calcutta\n",
            " 30     | Accounts   | 822134    | Calcutta\n",
            " 40     | Production | 349870    | Bombay\n",
            "(4 rows)\n",
            "\n"
          ]
        }
      ]
    },
    {
      "cell_type": "code",
      "source": [
        "runSelect(\"select * from r_empl where jobdesc like '%Manager'\")"
      ],
      "metadata": {
        "id": "As-tf-hOmus2",
        "outputId": "e44bada1-7578-4ccb-d847-dfb134a65cc7",
        "colab": {
          "base_uri": "https://localhost:8080/",
          "height": 143
        }
      },
      "execution_count": 35,
      "outputs": [
        {
          "output_type": "execute_result",
          "data": {
            "text/plain": [
              "    empid    lastname firstname     jobdesc    joindate  salary  comm deptid\n",
              "0  349870  Mukherjee2      Rani     Manager  2005-05-04   25000  0.06     40\n",
              "1  239456       Khan2  Shahrukh     Manager  2004-01-03   30000  0.07     20\n",
              "2  822134     Dravid2     Rahul  Sr Manager  2000-06-04   40000  0.08     30"
            ],
            "text/html": [
              "\n",
              "  <div id=\"df-4c7f51e5-a58e-48da-9120-fad1bd4f5c8d\" class=\"colab-df-container\">\n",
              "    <div>\n",
              "<style scoped>\n",
              "    .dataframe tbody tr th:only-of-type {\n",
              "        vertical-align: middle;\n",
              "    }\n",
              "\n",
              "    .dataframe tbody tr th {\n",
              "        vertical-align: top;\n",
              "    }\n",
              "\n",
              "    .dataframe thead th {\n",
              "        text-align: right;\n",
              "    }\n",
              "</style>\n",
              "<table border=\"1\" class=\"dataframe\">\n",
              "  <thead>\n",
              "    <tr style=\"text-align: right;\">\n",
              "      <th></th>\n",
              "      <th>empid</th>\n",
              "      <th>lastname</th>\n",
              "      <th>firstname</th>\n",
              "      <th>jobdesc</th>\n",
              "      <th>joindate</th>\n",
              "      <th>salary</th>\n",
              "      <th>comm</th>\n",
              "      <th>deptid</th>\n",
              "    </tr>\n",
              "  </thead>\n",
              "  <tbody>\n",
              "    <tr>\n",
              "      <th>0</th>\n",
              "      <td>349870</td>\n",
              "      <td>Mukherjee2</td>\n",
              "      <td>Rani</td>\n",
              "      <td>Manager</td>\n",
              "      <td>2005-05-04</td>\n",
              "      <td>25000</td>\n",
              "      <td>0.06</td>\n",
              "      <td>40</td>\n",
              "    </tr>\n",
              "    <tr>\n",
              "      <th>1</th>\n",
              "      <td>239456</td>\n",
              "      <td>Khan2</td>\n",
              "      <td>Shahrukh</td>\n",
              "      <td>Manager</td>\n",
              "      <td>2004-01-03</td>\n",
              "      <td>30000</td>\n",
              "      <td>0.07</td>\n",
              "      <td>20</td>\n",
              "    </tr>\n",
              "    <tr>\n",
              "      <th>2</th>\n",
              "      <td>822134</td>\n",
              "      <td>Dravid2</td>\n",
              "      <td>Rahul</td>\n",
              "      <td>Sr Manager</td>\n",
              "      <td>2000-06-04</td>\n",
              "      <td>40000</td>\n",
              "      <td>0.08</td>\n",
              "      <td>30</td>\n",
              "    </tr>\n",
              "  </tbody>\n",
              "</table>\n",
              "</div>\n",
              "    <div class=\"colab-df-buttons\">\n",
              "\n",
              "  <div class=\"colab-df-container\">\n",
              "    <button class=\"colab-df-convert\" onclick=\"convertToInteractive('df-4c7f51e5-a58e-48da-9120-fad1bd4f5c8d')\"\n",
              "            title=\"Convert this dataframe to an interactive table.\"\n",
              "            style=\"display:none;\">\n",
              "\n",
              "  <svg xmlns=\"http://www.w3.org/2000/svg\" height=\"24px\" viewBox=\"0 -960 960 960\">\n",
              "    <path d=\"M120-120v-720h720v720H120Zm60-500h600v-160H180v160Zm220 220h160v-160H400v160Zm0 220h160v-160H400v160ZM180-400h160v-160H180v160Zm440 0h160v-160H620v160ZM180-180h160v-160H180v160Zm440 0h160v-160H620v160Z\"/>\n",
              "  </svg>\n",
              "    </button>\n",
              "\n",
              "  <style>\n",
              "    .colab-df-container {\n",
              "      display:flex;\n",
              "      gap: 12px;\n",
              "    }\n",
              "\n",
              "    .colab-df-convert {\n",
              "      background-color: #E8F0FE;\n",
              "      border: none;\n",
              "      border-radius: 50%;\n",
              "      cursor: pointer;\n",
              "      display: none;\n",
              "      fill: #1967D2;\n",
              "      height: 32px;\n",
              "      padding: 0 0 0 0;\n",
              "      width: 32px;\n",
              "    }\n",
              "\n",
              "    .colab-df-convert:hover {\n",
              "      background-color: #E2EBFA;\n",
              "      box-shadow: 0px 1px 2px rgba(60, 64, 67, 0.3), 0px 1px 3px 1px rgba(60, 64, 67, 0.15);\n",
              "      fill: #174EA6;\n",
              "    }\n",
              "\n",
              "    .colab-df-buttons div {\n",
              "      margin-bottom: 4px;\n",
              "    }\n",
              "\n",
              "    [theme=dark] .colab-df-convert {\n",
              "      background-color: #3B4455;\n",
              "      fill: #D2E3FC;\n",
              "    }\n",
              "\n",
              "    [theme=dark] .colab-df-convert:hover {\n",
              "      background-color: #434B5C;\n",
              "      box-shadow: 0px 1px 3px 1px rgba(0, 0, 0, 0.15);\n",
              "      filter: drop-shadow(0px 1px 2px rgba(0, 0, 0, 0.3));\n",
              "      fill: #FFFFFF;\n",
              "    }\n",
              "  </style>\n",
              "\n",
              "    <script>\n",
              "      const buttonEl =\n",
              "        document.querySelector('#df-4c7f51e5-a58e-48da-9120-fad1bd4f5c8d button.colab-df-convert');\n",
              "      buttonEl.style.display =\n",
              "        google.colab.kernel.accessAllowed ? 'block' : 'none';\n",
              "\n",
              "      async function convertToInteractive(key) {\n",
              "        const element = document.querySelector('#df-4c7f51e5-a58e-48da-9120-fad1bd4f5c8d');\n",
              "        const dataTable =\n",
              "          await google.colab.kernel.invokeFunction('convertToInteractive',\n",
              "                                                    [key], {});\n",
              "        if (!dataTable) return;\n",
              "\n",
              "        const docLinkHtml = 'Like what you see? Visit the ' +\n",
              "          '<a target=\"_blank\" href=https://colab.research.google.com/notebooks/data_table.ipynb>data table notebook</a>'\n",
              "          + ' to learn more about interactive tables.';\n",
              "        element.innerHTML = '';\n",
              "        dataTable['output_type'] = 'display_data';\n",
              "        await google.colab.output.renderOutput(dataTable, element);\n",
              "        const docLink = document.createElement('div');\n",
              "        docLink.innerHTML = docLinkHtml;\n",
              "        element.appendChild(docLink);\n",
              "      }\n",
              "    </script>\n",
              "  </div>\n",
              "\n",
              "\n",
              "<div id=\"df-a4ec1f73-903f-446c-b02a-b85b04fe21e2\">\n",
              "  <button class=\"colab-df-quickchart\" onclick=\"quickchart('df-a4ec1f73-903f-446c-b02a-b85b04fe21e2')\"\n",
              "            title=\"Suggest charts\"\n",
              "            style=\"display:none;\">\n",
              "\n",
              "<svg xmlns=\"http://www.w3.org/2000/svg\" height=\"24px\"viewBox=\"0 0 24 24\"\n",
              "     width=\"24px\">\n",
              "    <g>\n",
              "        <path d=\"M19 3H5c-1.1 0-2 .9-2 2v14c0 1.1.9 2 2 2h14c1.1 0 2-.9 2-2V5c0-1.1-.9-2-2-2zM9 17H7v-7h2v7zm4 0h-2V7h2v10zm4 0h-2v-4h2v4z\"/>\n",
              "    </g>\n",
              "</svg>\n",
              "  </button>\n",
              "\n",
              "<style>\n",
              "  .colab-df-quickchart {\n",
              "      --bg-color: #E8F0FE;\n",
              "      --fill-color: #1967D2;\n",
              "      --hover-bg-color: #E2EBFA;\n",
              "      --hover-fill-color: #174EA6;\n",
              "      --disabled-fill-color: #AAA;\n",
              "      --disabled-bg-color: #DDD;\n",
              "  }\n",
              "\n",
              "  [theme=dark] .colab-df-quickchart {\n",
              "      --bg-color: #3B4455;\n",
              "      --fill-color: #D2E3FC;\n",
              "      --hover-bg-color: #434B5C;\n",
              "      --hover-fill-color: #FFFFFF;\n",
              "      --disabled-bg-color: #3B4455;\n",
              "      --disabled-fill-color: #666;\n",
              "  }\n",
              "\n",
              "  .colab-df-quickchart {\n",
              "    background-color: var(--bg-color);\n",
              "    border: none;\n",
              "    border-radius: 50%;\n",
              "    cursor: pointer;\n",
              "    display: none;\n",
              "    fill: var(--fill-color);\n",
              "    height: 32px;\n",
              "    padding: 0;\n",
              "    width: 32px;\n",
              "  }\n",
              "\n",
              "  .colab-df-quickchart:hover {\n",
              "    background-color: var(--hover-bg-color);\n",
              "    box-shadow: 0 1px 2px rgba(60, 64, 67, 0.3), 0 1px 3px 1px rgba(60, 64, 67, 0.15);\n",
              "    fill: var(--button-hover-fill-color);\n",
              "  }\n",
              "\n",
              "  .colab-df-quickchart-complete:disabled,\n",
              "  .colab-df-quickchart-complete:disabled:hover {\n",
              "    background-color: var(--disabled-bg-color);\n",
              "    fill: var(--disabled-fill-color);\n",
              "    box-shadow: none;\n",
              "  }\n",
              "\n",
              "  .colab-df-spinner {\n",
              "    border: 2px solid var(--fill-color);\n",
              "    border-color: transparent;\n",
              "    border-bottom-color: var(--fill-color);\n",
              "    animation:\n",
              "      spin 1s steps(1) infinite;\n",
              "  }\n",
              "\n",
              "  @keyframes spin {\n",
              "    0% {\n",
              "      border-color: transparent;\n",
              "      border-bottom-color: var(--fill-color);\n",
              "      border-left-color: var(--fill-color);\n",
              "    }\n",
              "    20% {\n",
              "      border-color: transparent;\n",
              "      border-left-color: var(--fill-color);\n",
              "      border-top-color: var(--fill-color);\n",
              "    }\n",
              "    30% {\n",
              "      border-color: transparent;\n",
              "      border-left-color: var(--fill-color);\n",
              "      border-top-color: var(--fill-color);\n",
              "      border-right-color: var(--fill-color);\n",
              "    }\n",
              "    40% {\n",
              "      border-color: transparent;\n",
              "      border-right-color: var(--fill-color);\n",
              "      border-top-color: var(--fill-color);\n",
              "    }\n",
              "    60% {\n",
              "      border-color: transparent;\n",
              "      border-right-color: var(--fill-color);\n",
              "    }\n",
              "    80% {\n",
              "      border-color: transparent;\n",
              "      border-right-color: var(--fill-color);\n",
              "      border-bottom-color: var(--fill-color);\n",
              "    }\n",
              "    90% {\n",
              "      border-color: transparent;\n",
              "      border-bottom-color: var(--fill-color);\n",
              "    }\n",
              "  }\n",
              "</style>\n",
              "\n",
              "  <script>\n",
              "    async function quickchart(key) {\n",
              "      const quickchartButtonEl =\n",
              "        document.querySelector('#' + key + ' button');\n",
              "      quickchartButtonEl.disabled = true;  // To prevent multiple clicks.\n",
              "      quickchartButtonEl.classList.add('colab-df-spinner');\n",
              "      try {\n",
              "        const charts = await google.colab.kernel.invokeFunction(\n",
              "            'suggestCharts', [key], {});\n",
              "      } catch (error) {\n",
              "        console.error('Error during call to suggestCharts:', error);\n",
              "      }\n",
              "      quickchartButtonEl.classList.remove('colab-df-spinner');\n",
              "      quickchartButtonEl.classList.add('colab-df-quickchart-complete');\n",
              "    }\n",
              "    (() => {\n",
              "      let quickchartButtonEl =\n",
              "        document.querySelector('#df-a4ec1f73-903f-446c-b02a-b85b04fe21e2 button');\n",
              "      quickchartButtonEl.style.display =\n",
              "        google.colab.kernel.accessAllowed ? 'block' : 'none';\n",
              "    })();\n",
              "  </script>\n",
              "</div>\n",
              "    </div>\n",
              "  </div>\n"
            ]
          },
          "metadata": {},
          "execution_count": 35
        }
      ]
    },
    {
      "cell_type": "markdown",
      "source": [
        "## Close Remote Connection"
      ],
      "metadata": {
        "id": "6v67JcAtAOX8"
      }
    },
    {
      "cell_type": "code",
      "source": [
        "#Close Neon Connection\n",
        "conn.close()"
      ],
      "metadata": {
        "id": "eYMcJ9aV_si_"
      },
      "execution_count": 36,
      "outputs": []
    },
    {
      "cell_type": "markdown",
      "source": [
        "# Basic Linux (Ubuntu) Commands\n",
        "wget, ls, cp, mv, cat, head, grep, sed curl <br>\n",
        "https://www.crio.do/blog/20-basic-linux-commands/"
      ],
      "metadata": {
        "id": "gGv4Xlx1E0AH"
      }
    },
    {
      "cell_type": "code",
      "source": [
        "# Download a file from a URL\n",
        "!wget -q -O test.csv https://raw.githubusercontent.com/Praxis-QR/RDWH/main/data/empl.csv"
      ],
      "metadata": {
        "id": "9JB605KXFVAY"
      },
      "execution_count": 46,
      "outputs": []
    },
    {
      "cell_type": "code",
      "source": [
        "# list files in home directory\n",
        "!ls -al"
      ],
      "metadata": {
        "colab": {
          "base_uri": "https://localhost:8080/"
        },
        "id": "5F3QedOUFaNk",
        "outputId": "2771ec2f-f31a-49ad-9929-311d6775e7a2"
      },
      "execution_count": 44,
      "outputs": [
        {
          "output_type": "stream",
          "name": "stdout",
          "text": [
            "total 40\n",
            "drwxr-xr-x 1 root root 4096 Jan 27 13:22 .\n",
            "drwxr-xr-x 1 root root 4096 Jan 27 13:09 ..\n",
            "drwxr-xr-x 4 root root 4096 Jan 25 14:22 .config\n",
            "-rw------- 1 root root  126 Jan 27 13:16 credentials.py\n",
            "-rw-r--r-- 1 root root  144 Jan 27 13:14 dept.csv\n",
            "drwx------ 7 root root 4096 Jan 27 13:16 drive\n",
            "-rw-r--r-- 1 root root  722 Jan 27 13:14 emp.csv\n",
            "drwxr-xr-x 2 root root 4096 Jan 27 13:16 __pycache__\n",
            "drwxr-xr-x 1 root root 4096 Jan 25 14:23 sample_data\n",
            "-rw-r--r-- 1 root root  722 Jan 27 13:22 test.csv\n"
          ]
        }
      ]
    },
    {
      "cell_type": "code",
      "source": [
        "!cp test.csv test2.csv\n",
        "!mv test.csv test.bak.csv\n",
        "!ls *.csv"
      ],
      "metadata": {
        "colab": {
          "base_uri": "https://localhost:8080/"
        },
        "id": "fh9hYUE9FoDU",
        "outputId": "ff2ba579-426b-41fc-b609-9dbd993c339e"
      },
      "execution_count": 47,
      "outputs": [
        {
          "output_type": "stream",
          "name": "stdout",
          "text": [
            "dept.csv  emp.csv  test2.csv  test.bak.csv\n"
          ]
        }
      ]
    },
    {
      "cell_type": "code",
      "source": [
        "!cat test2.csv"
      ],
      "metadata": {
        "colab": {
          "base_uri": "https://localhost:8080/"
        },
        "id": "dfPTJvszGA4U",
        "outputId": "1d854104-ff83-4249-dd58-d440a8e5f7a4"
      },
      "execution_count": 48,
      "outputs": [
        {
          "output_type": "stream",
          "name": "stdout",
          "text": [
            "EmpID,LastName,FirstName,JobDesc,JoinDate,Salary,Comm,DeptID\n",
            "742866,Bacchan,Amitabh,Executive,2003-03-10,50000,0.1,10\n",
            "349870,Mukherjee,Rani,Manager,2005-05-04,25000,0.06,40\n",
            "865477,Dikshit,Madhuri,Clerk,2002-04-04,10000,0.02,20\n",
            "239456,Khan,Shahrukh,Manager,2004-01-03,30000,0.07,20\n",
            "897889,Sehwag,Virender,Cus_Rep,2005-01-02,15000,0.05,20\n",
            "123980,Dhoni,Mahender,Clerk,2004-10-09,9000,0.02,40\n",
            "822134,Dravid,Rahul,Sr Manager,2000-06-04,40000,0.08,30\n",
            "997445,Dalmia,Jagmohan,Clerk,2001-07-01,12000,0.02,30\n",
            "989007,Ganguly,Sourav,Cus_Rep,2002-01-01,20000,0.03,40\n",
            "299034,Ganesan,Rekha,Director,2002-10-10,60000,0.11,10\n",
            "546223,Karthikeyan,Narayan,Secretary,2005-12-04,40000,0.09,10\n",
            "223112,Mirza,Sania,Cus_Rep,2001-11-19,25000,0.04,30"
          ]
        }
      ]
    },
    {
      "cell_type": "code",
      "source": [
        "!head -3 test2.csv"
      ],
      "metadata": {
        "colab": {
          "base_uri": "https://localhost:8080/"
        },
        "id": "5qIO3J4OGFLG",
        "outputId": "307eeab3-4199-49a5-a555-4178c193f86b"
      },
      "execution_count": 49,
      "outputs": [
        {
          "output_type": "stream",
          "name": "stdout",
          "text": [
            "EmpID,LastName,FirstName,JobDesc,JoinDate,Salary,Comm,DeptID\n",
            "742866,Bacchan,Amitabh,Executive,2003-03-10,50000,0.1,10\n",
            "349870,Mukherjee,Rani,Manager,2005-05-04,25000,0.06,40\n"
          ]
        }
      ]
    },
    {
      "cell_type": "code",
      "source": [
        "!grep -n 'Clerk' test2.csv"
      ],
      "metadata": {
        "colab": {
          "base_uri": "https://localhost:8080/"
        },
        "id": "XB4dbIwoGTyR",
        "outputId": "a28021bc-11d1-4319-bdda-0b8f03729e33"
      },
      "execution_count": 54,
      "outputs": [
        {
          "output_type": "stream",
          "name": "stdout",
          "text": [
            "4:865477,Dikshit,Madhuri,Clerk,2002-04-04,10000,0.02,20\n",
            "7:123980,Dhoni,Mahender,Clerk,2004-10-09,9000,0.02,40\n",
            "9:997445,Dalmia,Jagmohan,Clerk,2001-07-01,12000,0.02,30\n"
          ]
        }
      ]
    },
    {
      "cell_type": "code",
      "source": [
        "!grep 'Clerk' test2.csv > ClerkList.txt\n",
        "!cat ClerkList.txt"
      ],
      "metadata": {
        "colab": {
          "base_uri": "https://localhost:8080/"
        },
        "id": "3OTyAtr1Ga7Z",
        "outputId": "14cc5ccd-e6f8-4c8a-ae8d-ccf449e59987"
      },
      "execution_count": 53,
      "outputs": [
        {
          "output_type": "stream",
          "name": "stdout",
          "text": [
            "865477,Dikshit,Madhuri,Clerk,2002-04-04,10000,0.02,20\n",
            "123980,Dhoni,Mahender,Clerk,2004-10-09,9000,0.02,40\n",
            "997445,Dalmia,Jagmohan,Clerk,2001-07-01,12000,0.02,30\n"
          ]
        }
      ]
    },
    {
      "cell_type": "code",
      "source": [
        "#https://www.geeksforgeeks.org/sed-command-in-linux-unix-with-examples/\n",
        "!sed 's/Clerk/Klerk/' test2.csv"
      ],
      "metadata": {
        "colab": {
          "base_uri": "https://localhost:8080/"
        },
        "id": "VYKF6mFYHNsd",
        "outputId": "9005bcfc-1328-4ba5-f7e1-49b4db796f94"
      },
      "execution_count": 56,
      "outputs": [
        {
          "output_type": "stream",
          "name": "stdout",
          "text": [
            "EmpID,LastName,FirstName,JobDesc,JoinDate,Salary,Comm,DeptID\n",
            "742866,Bacchan,Amitabh,Executive,2003-03-10,50000,0.1,10\n",
            "349870,Mukherjee,Rani,Manager,2005-05-04,25000,0.06,40\n",
            "865477,Dikshit,Madhuri,Klerk,2002-04-04,10000,0.02,20\n",
            "239456,Khan,Shahrukh,Manager,2004-01-03,30000,0.07,20\n",
            "897889,Sehwag,Virender,Cus_Rep,2005-01-02,15000,0.05,20\n",
            "123980,Dhoni,Mahender,Klerk,2004-10-09,9000,0.02,40\n",
            "822134,Dravid,Rahul,Sr Manager,2000-06-04,40000,0.08,30\n",
            "997445,Dalmia,Jagmohan,Klerk,2001-07-01,12000,0.02,30\n",
            "989007,Ganguly,Sourav,Cus_Rep,2002-01-01,20000,0.03,40\n",
            "299034,Ganesan,Rekha,Director,2002-10-10,60000,0.11,10\n",
            "546223,Karthikeyan,Narayan,Secretary,2005-12-04,40000,0.09,10\n",
            "223112,Mirza,Sania,Cus_Rep,2001-11-19,25000,0.04,30"
          ]
        }
      ]
    },
    {
      "cell_type": "code",
      "source": [
        "!sed 's/Clerk/Klerk/' test2.csv > test2.mod\n",
        "!cat test2.mod"
      ],
      "metadata": {
        "colab": {
          "base_uri": "https://localhost:8080/"
        },
        "id": "ntLEdyQ5H7Cs",
        "outputId": "fe6b39c4-68a0-4cd1-d6c3-c02291994802"
      },
      "execution_count": 57,
      "outputs": [
        {
          "output_type": "stream",
          "name": "stdout",
          "text": [
            "EmpID,LastName,FirstName,JobDesc,JoinDate,Salary,Comm,DeptID\n",
            "742866,Bacchan,Amitabh,Executive,2003-03-10,50000,0.1,10\n",
            "349870,Mukherjee,Rani,Manager,2005-05-04,25000,0.06,40\n",
            "865477,Dikshit,Madhuri,Klerk,2002-04-04,10000,0.02,20\n",
            "239456,Khan,Shahrukh,Manager,2004-01-03,30000,0.07,20\n",
            "897889,Sehwag,Virender,Cus_Rep,2005-01-02,15000,0.05,20\n",
            "123980,Dhoni,Mahender,Klerk,2004-10-09,9000,0.02,40\n",
            "822134,Dravid,Rahul,Sr Manager,2000-06-04,40000,0.08,30\n",
            "997445,Dalmia,Jagmohan,Klerk,2001-07-01,12000,0.02,30\n",
            "989007,Ganguly,Sourav,Cus_Rep,2002-01-01,20000,0.03,40\n",
            "299034,Ganesan,Rekha,Director,2002-10-10,60000,0.11,10\n",
            "546223,Karthikeyan,Narayan,Secretary,2005-12-04,40000,0.09,10\n",
            "223112,Mirza,Sania,Cus_Rep,2001-11-19,25000,0.04,30"
          ]
        }
      ]
    },
    {
      "cell_type": "markdown",
      "source": [
        "## curl"
      ],
      "metadata": {
        "id": "aIUbCRmGSKsQ"
      }
    },
    {
      "cell_type": "code",
      "source": [
        "!curl -s \"https://api.open-meteo.com/v1/forecast?latitude=22.5726&longitude=88.3639&current=temperature_2m,wind_speed_10m&hourly=temperature_2m,relative_humidity_2m,wind_speed_10m\""
      ],
      "metadata": {
        "colab": {
          "base_uri": "https://localhost:8080/"
        },
        "id": "edfd16-wIxWn",
        "outputId": "a9dee7ba-6025-4264-c99a-8da5490fa6d0"
      },
      "execution_count": 69,
      "outputs": [
        {
          "output_type": "stream",
          "name": "stdout",
          "text": [
            "{\"latitude\":22.625,\"longitude\":88.375,\"generationtime_ms\":0.10192394256591797,\"utc_offset_seconds\":0,\"timezone\":\"GMT\",\"timezone_abbreviation\":\"GMT\",\"elevation\":12.0,\"current_units\":{\"time\":\"iso8601\",\"interval\":\"seconds\",\"temperature_2m\":\"°C\",\"wind_speed_10m\":\"km/h\"},\"current\":{\"time\":\"2024-01-27T13:45\",\"interval\":900,\"temperature_2m\":17.6,\"wind_speed_10m\":3.6},\"hourly_units\":{\"time\":\"iso8601\",\"temperature_2m\":\"°C\",\"relative_humidity_2m\":\"%\",\"wind_speed_10m\":\"km/h\"},\"hourly\":{\"time\":[\"2024-01-27T00:00\",\"2024-01-27T01:00\",\"2024-01-27T02:00\",\"2024-01-27T03:00\",\"2024-01-27T04:00\",\"2024-01-27T05:00\",\"2024-01-27T06:00\",\"2024-01-27T07:00\",\"2024-01-27T08:00\",\"2024-01-27T09:00\",\"2024-01-27T10:00\",\"2024-01-27T11:00\",\"2024-01-27T12:00\",\"2024-01-27T13:00\",\"2024-01-27T14:00\",\"2024-01-27T15:00\",\"2024-01-27T16:00\",\"2024-01-27T17:00\",\"2024-01-27T18:00\",\"2024-01-27T19:00\",\"2024-01-27T20:00\",\"2024-01-27T21:00\",\"2024-01-27T22:00\",\"2024-01-27T23:00\",\"2024-01-28T00:00\",\"2024-01-28T01:00\",\"2024-01-28T02:00\",\"2024-01-28T03:00\",\"2024-01-28T04:00\",\"2024-01-28T05:00\",\"2024-01-28T06:00\",\"2024-01-28T07:00\",\"2024-01-28T08:00\",\"2024-01-28T09:00\",\"2024-01-28T10:00\",\"2024-01-28T11:00\",\"2024-01-28T12:00\",\"2024-01-28T13:00\",\"2024-01-28T14:00\",\"2024-01-28T15:00\",\"2024-01-28T16:00\",\"2024-01-28T17:00\",\"2024-01-28T18:00\",\"2024-01-28T19:00\",\"2024-01-28T20:00\",\"2024-01-28T21:00\",\"2024-01-28T22:00\",\"2024-01-28T23:00\",\"2024-01-29T00:00\",\"2024-01-29T01:00\",\"2024-01-29T02:00\",\"2024-01-29T03:00\",\"2024-01-29T04:00\",\"2024-01-29T05:00\",\"2024-01-29T06:00\",\"2024-01-29T07:00\",\"2024-01-29T08:00\",\"2024-01-29T09:00\",\"2024-01-29T10:00\",\"2024-01-29T11:00\",\"2024-01-29T12:00\",\"2024-01-29T13:00\",\"2024-01-29T14:00\",\"2024-01-29T15:00\",\"2024-01-29T16:00\",\"2024-01-29T17:00\",\"2024-01-29T18:00\",\"2024-01-29T19:00\",\"2024-01-29T20:00\",\"2024-01-29T21:00\",\"2024-01-29T22:00\",\"2024-01-29T23:00\",\"2024-01-30T00:00\",\"2024-01-30T01:00\",\"2024-01-30T02:00\",\"2024-01-30T03:00\",\"2024-01-30T04:00\",\"2024-01-30T05:00\",\"2024-01-30T06:00\",\"2024-01-30T07:00\",\"2024-01-30T08:00\",\"2024-01-30T09:00\",\"2024-01-30T10:00\",\"2024-01-30T11:00\",\"2024-01-30T12:00\",\"2024-01-30T13:00\",\"2024-01-30T14:00\",\"2024-01-30T15:00\",\"2024-01-30T16:00\",\"2024-01-30T17:00\",\"2024-01-30T18:00\",\"2024-01-30T19:00\",\"2024-01-30T20:00\",\"2024-01-30T21:00\",\"2024-01-30T22:00\",\"2024-01-30T23:00\",\"2024-01-31T00:00\",\"2024-01-31T01:00\",\"2024-01-31T02:00\",\"2024-01-31T03:00\",\"2024-01-31T04:00\",\"2024-01-31T05:00\",\"2024-01-31T06:00\",\"2024-01-31T07:00\",\"2024-01-31T08:00\",\"2024-01-31T09:00\",\"2024-01-31T10:00\",\"2024-01-31T11:00\",\"2024-01-31T12:00\",\"2024-01-31T13:00\",\"2024-01-31T14:00\",\"2024-01-31T15:00\",\"2024-01-31T16:00\",\"2024-01-31T17:00\",\"2024-01-31T18:00\",\"2024-01-31T19:00\",\"2024-01-31T20:00\",\"2024-01-31T21:00\",\"2024-01-31T22:00\",\"2024-01-31T23:00\",\"2024-02-01T00:00\",\"2024-02-01T01:00\",\"2024-02-01T02:00\",\"2024-02-01T03:00\",\"2024-02-01T04:00\",\"2024-02-01T05:00\",\"2024-02-01T06:00\",\"2024-02-01T07:00\",\"2024-02-01T08:00\",\"2024-02-01T09:00\",\"2024-02-01T10:00\",\"2024-02-01T11:00\",\"2024-02-01T12:00\",\"2024-02-01T13:00\",\"2024-02-01T14:00\",\"2024-02-01T15:00\",\"2024-02-01T16:00\",\"2024-02-01T17:00\",\"2024-02-01T18:00\",\"2024-02-01T19:00\",\"2024-02-01T20:00\",\"2024-02-01T21:00\",\"2024-02-01T22:00\",\"2024-02-01T23:00\",\"2024-02-02T00:00\",\"2024-02-02T01:00\",\"2024-02-02T02:00\",\"2024-02-02T03:00\",\"2024-02-02T04:00\",\"2024-02-02T05:00\",\"2024-02-02T06:00\",\"2024-02-02T07:00\",\"2024-02-02T08:00\",\"2024-02-02T09:00\",\"2024-02-02T10:00\",\"2024-02-02T11:00\",\"2024-02-02T12:00\",\"2024-02-02T13:00\",\"2024-02-02T14:00\",\"2024-02-02T15:00\",\"2024-02-02T16:00\",\"2024-02-02T17:00\",\"2024-02-02T18:00\",\"2024-02-02T19:00\",\"2024-02-02T20:00\",\"2024-02-02T21:00\",\"2024-02-02T22:00\",\"2024-02-02T23:00\"],\"temperature_2m\":[12.4,12.2,12.9,14.7,16.7,18.8,21.5,22.9,23.8,23.9,23.4,22.5,20.6,18.6,17.4,16.6,16.0,15.4,14.8,14.1,13.4,12.8,12.3,12.0,11.7,11.5,12.4,15.3,18.2,20.8,22.5,23.6,24.2,24.4,24.1,23.4,21.7,19.9,18.7,17.8,17.1,16.5,15.8,15.3,14.6,14.1,13.8,13.4,13.1,12.7,13.5,16.4,19.3,21.7,23.2,24.3,25.0,25.3,25.1,24.4,22.8,20.9,19.7,18.9,18.2,17.7,17.3,16.9,16.3,15.8,15.4,15.2,15.1,14.9,15.8,18.8,21.6,23.8,25.3,26.4,27.1,27.4,27.4,26.9,25.7,24.5,22.9,21.5,20.5,19.6,18.9,18.4,18.1,17.9,17.7,17.6,17.8,18.6,19.8,21.1,22.5,24.0,25.2,26.0,26.6,26.7,26.2,25.4,24.4,23.4,22.4,21.5,21.1,20.8,20.5,20.0,19.4,19.0,18.7,18.6,18.8,19.3,20.0,21.0,22.3,23.8,24.9,24.7,25.0,24.9,24.4,23.5,22.8,22.3,22.0,21.7,21.3,21.0,20.7,20.5,20.4,20.3,20.2,20.1,20.2,20.4,20.7,21.4,22.7,24.3,25.6,26.4,26.9,26.9,26.2,25.2,24.1,23.1,22.1,21.3,20.7,20.3,19.9,19.5,19.0,18.5,18.0,17.4],\"relative_humidity_2m\":[87,88,86,79,71,64,44,37,35,34,35,37,47,58,63,64,65,66,67,69,72,75,78,80,82,83,81,71,61,51,45,42,41,42,43,45,54,64,69,72,74,75,77,78,81,83,82,83,83,84,81,70,58,51,48,46,46,46,48,51,59,68,73,76,78,80,82,85,88,91,93,94,94,95,93,80,65,58,55,53,50,48,47,48,55,62,72,80,86,90,93,95,96,96,96,96,95,92,87,82,76,69,63,59,56,55,57,62,67,73,79,84,87,88,90,92,94,96,97,98,97,95,93,89,82,75,69,73,73,74,78,83,87,89,90,91,92,92,92,92,93,93,94,96,96,96,94,91,84,74,67,63,61,60,60,62,65,70,76,81,84,85,86,88,89,90,91,92],\"wind_speed_10m\":[3.3,3.2,3.3,3.6,4.0,3.5,4.8,6.7,7.8,8.7,8.7,7.5,4.7,4.0,3.6,3.2,2.9,2.9,3.1,3.3,3.4,3.6,3.6,3.3,3.6,3.3,2.8,2.6,3.3,3.6,3.7,4.3,5.2,5.0,5.2,4.6,3.6,3.6,3.3,3.3,3.3,3.4,3.6,3.8,3.8,3.6,2.8,2.8,2.7,2.9,2.6,2.4,3.1,2.5,2.7,4.1,4.3,4.9,5.0,3.8,3.3,3.7,3.6,3.1,2.5,2.6,2.5,1.5,0.8,1.8,2.3,2.3,2.3,2.3,2.2,1.5,2.0,2.6,3.8,6.4,6.1,5.8,5.5,4.2,1.8,3.0,4.7,5.6,5.4,4.7,4.0,3.3,2.6,2.4,2.9,3.7,4.5,5.3,6.0,6.0,5.8,6.6,8.1,8.4,7.7,6.2,3.3,0.8,2.5,2.5,1.8,1.3,1.6,2.2,2.5,2.5,2.5,2.3,2.3,2.4,2.9,3.6,4.1,3.8,2.2,2.5,4.5,5.6,3.9,2.7,2.3,3.0,3.6,3.6,3.6,3.2,3.5,4.8,5.4,4.5,3.3,2.3,2.0,2.1,2.6,3.3,4.0,4.7,5.4,5.9,6.6,7.4,8.3,8.7,7.9,6.5,5.0,3.5,2.5,1.8,1.9,2.4,2.6,2.9,3.3,4.0,4.4,4.6]}}"
          ]
        }
      ]
    },
    {
      "cell_type": "code",
      "source": [
        "!curl -s \"https://api.open-meteo.com/v1/forecast?latitude=22.5726&longitude=88.3639&current=temperature_2m&hourly=temperature_2m\""
      ],
      "metadata": {
        "colab": {
          "base_uri": "https://localhost:8080/"
        },
        "id": "AkKrIvMkLUJi",
        "outputId": "956a6383-6962-43f3-c67b-ebc7c4c21262"
      },
      "execution_count": 70,
      "outputs": [
        {
          "output_type": "stream",
          "name": "stdout",
          "text": [
            "{\"latitude\":22.625,\"longitude\":88.375,\"generationtime_ms\":0.034928321838378906,\"utc_offset_seconds\":0,\"timezone\":\"GMT\",\"timezone_abbreviation\":\"GMT\",\"elevation\":12.0,\"current_units\":{\"time\":\"iso8601\",\"interval\":\"seconds\",\"temperature_2m\":\"°C\"},\"current\":{\"time\":\"2024-01-27T13:45\",\"interval\":900,\"temperature_2m\":17.6},\"hourly_units\":{\"time\":\"iso8601\",\"temperature_2m\":\"°C\"},\"hourly\":{\"time\":[\"2024-01-27T00:00\",\"2024-01-27T01:00\",\"2024-01-27T02:00\",\"2024-01-27T03:00\",\"2024-01-27T04:00\",\"2024-01-27T05:00\",\"2024-01-27T06:00\",\"2024-01-27T07:00\",\"2024-01-27T08:00\",\"2024-01-27T09:00\",\"2024-01-27T10:00\",\"2024-01-27T11:00\",\"2024-01-27T12:00\",\"2024-01-27T13:00\",\"2024-01-27T14:00\",\"2024-01-27T15:00\",\"2024-01-27T16:00\",\"2024-01-27T17:00\",\"2024-01-27T18:00\",\"2024-01-27T19:00\",\"2024-01-27T20:00\",\"2024-01-27T21:00\",\"2024-01-27T22:00\",\"2024-01-27T23:00\",\"2024-01-28T00:00\",\"2024-01-28T01:00\",\"2024-01-28T02:00\",\"2024-01-28T03:00\",\"2024-01-28T04:00\",\"2024-01-28T05:00\",\"2024-01-28T06:00\",\"2024-01-28T07:00\",\"2024-01-28T08:00\",\"2024-01-28T09:00\",\"2024-01-28T10:00\",\"2024-01-28T11:00\",\"2024-01-28T12:00\",\"2024-01-28T13:00\",\"2024-01-28T14:00\",\"2024-01-28T15:00\",\"2024-01-28T16:00\",\"2024-01-28T17:00\",\"2024-01-28T18:00\",\"2024-01-28T19:00\",\"2024-01-28T20:00\",\"2024-01-28T21:00\",\"2024-01-28T22:00\",\"2024-01-28T23:00\",\"2024-01-29T00:00\",\"2024-01-29T01:00\",\"2024-01-29T02:00\",\"2024-01-29T03:00\",\"2024-01-29T04:00\",\"2024-01-29T05:00\",\"2024-01-29T06:00\",\"2024-01-29T07:00\",\"2024-01-29T08:00\",\"2024-01-29T09:00\",\"2024-01-29T10:00\",\"2024-01-29T11:00\",\"2024-01-29T12:00\",\"2024-01-29T13:00\",\"2024-01-29T14:00\",\"2024-01-29T15:00\",\"2024-01-29T16:00\",\"2024-01-29T17:00\",\"2024-01-29T18:00\",\"2024-01-29T19:00\",\"2024-01-29T20:00\",\"2024-01-29T21:00\",\"2024-01-29T22:00\",\"2024-01-29T23:00\",\"2024-01-30T00:00\",\"2024-01-30T01:00\",\"2024-01-30T02:00\",\"2024-01-30T03:00\",\"2024-01-30T04:00\",\"2024-01-30T05:00\",\"2024-01-30T06:00\",\"2024-01-30T07:00\",\"2024-01-30T08:00\",\"2024-01-30T09:00\",\"2024-01-30T10:00\",\"2024-01-30T11:00\",\"2024-01-30T12:00\",\"2024-01-30T13:00\",\"2024-01-30T14:00\",\"2024-01-30T15:00\",\"2024-01-30T16:00\",\"2024-01-30T17:00\",\"2024-01-30T18:00\",\"2024-01-30T19:00\",\"2024-01-30T20:00\",\"2024-01-30T21:00\",\"2024-01-30T22:00\",\"2024-01-30T23:00\",\"2024-01-31T00:00\",\"2024-01-31T01:00\",\"2024-01-31T02:00\",\"2024-01-31T03:00\",\"2024-01-31T04:00\",\"2024-01-31T05:00\",\"2024-01-31T06:00\",\"2024-01-31T07:00\",\"2024-01-31T08:00\",\"2024-01-31T09:00\",\"2024-01-31T10:00\",\"2024-01-31T11:00\",\"2024-01-31T12:00\",\"2024-01-31T13:00\",\"2024-01-31T14:00\",\"2024-01-31T15:00\",\"2024-01-31T16:00\",\"2024-01-31T17:00\",\"2024-01-31T18:00\",\"2024-01-31T19:00\",\"2024-01-31T20:00\",\"2024-01-31T21:00\",\"2024-01-31T22:00\",\"2024-01-31T23:00\",\"2024-02-01T00:00\",\"2024-02-01T01:00\",\"2024-02-01T02:00\",\"2024-02-01T03:00\",\"2024-02-01T04:00\",\"2024-02-01T05:00\",\"2024-02-01T06:00\",\"2024-02-01T07:00\",\"2024-02-01T08:00\",\"2024-02-01T09:00\",\"2024-02-01T10:00\",\"2024-02-01T11:00\",\"2024-02-01T12:00\",\"2024-02-01T13:00\",\"2024-02-01T14:00\",\"2024-02-01T15:00\",\"2024-02-01T16:00\",\"2024-02-01T17:00\",\"2024-02-01T18:00\",\"2024-02-01T19:00\",\"2024-02-01T20:00\",\"2024-02-01T21:00\",\"2024-02-01T22:00\",\"2024-02-01T23:00\",\"2024-02-02T00:00\",\"2024-02-02T01:00\",\"2024-02-02T02:00\",\"2024-02-02T03:00\",\"2024-02-02T04:00\",\"2024-02-02T05:00\",\"2024-02-02T06:00\",\"2024-02-02T07:00\",\"2024-02-02T08:00\",\"2024-02-02T09:00\",\"2024-02-02T10:00\",\"2024-02-02T11:00\",\"2024-02-02T12:00\",\"2024-02-02T13:00\",\"2024-02-02T14:00\",\"2024-02-02T15:00\",\"2024-02-02T16:00\",\"2024-02-02T17:00\",\"2024-02-02T18:00\",\"2024-02-02T19:00\",\"2024-02-02T20:00\",\"2024-02-02T21:00\",\"2024-02-02T22:00\",\"2024-02-02T23:00\"],\"temperature_2m\":[12.4,12.2,12.9,14.7,16.7,18.8,21.5,22.9,23.8,23.9,23.4,22.5,20.6,18.6,17.4,16.6,16.0,15.4,14.8,14.1,13.4,12.8,12.3,12.0,11.7,11.5,12.4,15.3,18.2,20.8,22.5,23.6,24.2,24.4,24.1,23.4,21.7,19.9,18.7,17.8,17.1,16.5,15.8,15.3,14.6,14.1,13.8,13.4,13.1,12.7,13.5,16.4,19.3,21.7,23.2,24.3,25.0,25.3,25.1,24.4,22.8,20.9,19.7,18.9,18.2,17.7,17.3,16.9,16.3,15.8,15.4,15.2,15.1,14.9,15.8,18.8,21.6,23.8,25.3,26.4,27.1,27.4,27.4,26.9,25.7,24.5,22.9,21.5,20.5,19.6,18.9,18.4,18.1,17.9,17.7,17.6,17.8,18.6,19.8,21.1,22.5,24.0,25.2,26.0,26.6,26.7,26.2,25.4,24.4,23.4,22.4,21.5,21.1,20.8,20.5,20.0,19.4,19.0,18.7,18.6,18.8,19.3,20.0,21.0,22.3,23.8,24.9,24.7,25.0,24.9,24.4,23.5,22.8,22.3,22.0,21.7,21.3,21.0,20.7,20.5,20.4,20.3,20.2,20.1,20.2,20.4,20.7,21.4,22.7,24.3,25.6,26.4,26.9,26.9,26.2,25.2,24.1,23.1,22.1,21.3,20.7,20.3,19.9,19.5,19.0,18.5,18.0,17.4]}}"
          ]
        }
      ]
    },
    {
      "cell_type": "code",
      "source": [
        "!curl -s \"https://api.open-meteo.com/v1/forecast?latitude=22.5726&longitude=88.3639&current=temperature_2m&hourly=temperature_2m\" | python3 -c \\\n",
        "\"import sys, json; print(json.load(sys.stdin)['current'])\""
      ],
      "metadata": {
        "colab": {
          "base_uri": "https://localhost:8080/"
        },
        "id": "JE2fxhAwL7RZ",
        "outputId": "4bd5e176-10d2-4cf9-dfb7-d0b51263d4f3"
      },
      "execution_count": 83,
      "outputs": [
        {
          "output_type": "stream",
          "name": "stdout",
          "text": [
            "{'time': '2024-01-27T13:45', 'interval': 900, 'temperature_2m': 17.6}\n"
          ]
        }
      ]
    },
    {
      "cell_type": "code",
      "source": [
        "!curl -s \"https://api.open-meteo.com/v1/forecast?latitude=22.5726&longitude=88.3639&current=temperature_2m&hourly=temperature_2m\" | python3 -c \\\n",
        "\"import sys, json; data = json.load(sys.stdin); print(data['current']);print(data['latitude'],data['longitude']) \""
      ],
      "metadata": {
        "colab": {
          "base_uri": "https://localhost:8080/"
        },
        "id": "LZoHS-YDN23G",
        "outputId": "84253f9f-6fc6-4f2d-b6cc-d12bdb089ece"
      },
      "execution_count": 89,
      "outputs": [
        {
          "output_type": "stream",
          "name": "stdout",
          "text": [
            "{'time': '2024-01-27T14:00', 'interval': 900, 'temperature_2m': 17.4}\n",
            "22.625 88.375\n"
          ]
        }
      ]
    },
    {
      "cell_type": "code",
      "source": [
        "!curl -s \"https://api.open-meteo.com/v1/forecast?latitude=22.5726&longitude=88.3639&current=temperature_2m&hourly=temperature_2m\" | python3 -c \\\n",
        "\"import sys, json; data = json.load(sys.stdin); print(data['current']['time'],data['current']['temperature_2m'] );print(data['latitude'],data['longitude']) \""
      ],
      "metadata": {
        "colab": {
          "base_uri": "https://localhost:8080/"
        },
        "id": "sabfnHqnQEyT",
        "outputId": "ef3fd52a-94f7-48a3-de3c-a52e0c57c434"
      },
      "execution_count": 100,
      "outputs": [
        {
          "output_type": "stream",
          "name": "stdout",
          "text": [
            "2024-01-27T14:15 17.1\n",
            "22.625 88.375\n"
          ]
        }
      ]
    },
    {
      "cell_type": "markdown",
      "source": [
        "#Python Access | SQL Alchemy"
      ],
      "metadata": {
        "id": "e18RypPGsL92"
      }
    },
    {
      "cell_type": "code",
      "source": [
        "from sqlalchemy import create_engine, text"
      ],
      "metadata": {
        "id": "JpuhMbP7sTfL"
      },
      "execution_count": 37,
      "outputs": []
    },
    {
      "cell_type": "code",
      "source": [
        "#connect_string = 'mysql://root@localhost/praxisDB'\n",
        "connect_string = 'postgresql://'+PGUSER+':'+PGPASSWORD+'@'+PGHOST+'/'+PGDATABASE\n",
        "#print(connect_string)\n",
        "pg_engine = create_engine(connect_string)\n",
        "pg_Conn = pg_engine.connect()"
      ],
      "metadata": {
        "id": "acfbOG8nscUm"
      },
      "execution_count": 38,
      "outputs": []
    },
    {
      "cell_type": "code",
      "source": [
        "pg_Conn = pg_engine.connect()\n",
        "cursor = pg_Conn.execute(text(\"SELECT VERSION()\"))\n",
        "\n",
        "# Fetch a single row using fetchone() method.\n",
        "data = cursor.fetchone()\n",
        "print (\"Database version \", data)\n",
        "# disconnect from server\n",
        "pg_Conn.close()"
      ],
      "metadata": {
        "id": "C597n5HJt9aw",
        "outputId": "0b8d43b2-f3ac-4a2e-b17a-86029bb241c6",
        "colab": {
          "base_uri": "https://localhost:8080/"
        }
      },
      "execution_count": 39,
      "outputs": [
        {
          "output_type": "stream",
          "name": "stdout",
          "text": [
            "Database version  ('PostgreSQL 15.5 on x86_64-pc-linux-gnu, compiled by gcc (Debian 10.2.1-6) 10.2.1 20210110, 64-bit',)\n"
          ]
        }
      ]
    },
    {
      "cell_type": "code",
      "source": [
        "pg_Conn = pg_engine.connect()\n",
        "#Retrieving data\n",
        "pg_cursor = pg_Conn.execute(text(\"select * from r_empl where jobdesc like '%Manager'\"))\n",
        "#Fetching all rows from the table\n",
        "result = pg_cursor.fetchall();\n",
        "#print(result)\n",
        "\n",
        "resultdf = pd.DataFrame(result)\n",
        "resultdf\n",
        "pg_Conn.close()"
      ],
      "metadata": {
        "id": "5hpk8pxpuYbv"
      },
      "execution_count": 40,
      "outputs": []
    },
    {
      "cell_type": "code",
      "source": [
        "from datetime import datetime\n",
        "import pytz\n",
        "print('Last tested  ',datetime.now(pytz.timezone('Asia/Kolkata')))"
      ],
      "metadata": {
        "colab": {
          "base_uri": "https://localhost:8080/"
        },
        "id": "wjBXJVhM605H",
        "outputId": "db0b4d22-a3c0-4f98-fd40-61249a74276f"
      },
      "execution_count": null,
      "outputs": [
        {
          "output_type": "stream",
          "name": "stdout",
          "text": [
            "Last tested   2024-01-16 07:22:25.974450+05:30\n"
          ]
        }
      ]
    },
    {
      "cell_type": "markdown",
      "source": [
        "#Chronobooks <br>\n",
        "Two science fiction novels by Prithwis Mukerjee. A dystopian Earth. A technocratic society managed by artificial intelligence. Escape and epiphany on Mars. Can man and machine, carbon and silicon explore and escape into other dimensions of existence? An Indic perspective rooted in Advaita Vedanta and the Divine Feminine.  [More information](http://bit.ly/chronobooks) <br>\n",
        "![alt text](https://github.com/Praxis-QR/RDWH/raw/main/images/CTCYFooter-1.png)"
      ],
      "metadata": {
        "id": "_gNiZpyW3AzJ"
      }
    }
  ]
}