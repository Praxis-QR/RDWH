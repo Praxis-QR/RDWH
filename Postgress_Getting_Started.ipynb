{
  "nbformat": 4,
  "nbformat_minor": 0,
  "metadata": {
    "colab": {
      "provenance": [],
      "toc_visible": true,
      "authorship_tag": "ABX9TyPffmNn9cTtmpgS0L12TZun",
      "include_colab_link": true
    },
    "kernelspec": {
      "name": "python3",
      "display_name": "Python 3"
    },
    "language_info": {
      "name": "python"
    }
  },
  "cells": [
    {
      "cell_type": "markdown",
      "metadata": {
        "id": "view-in-github",
        "colab_type": "text"
      },
      "source": [
        "<a href=\"https://colab.research.google.com/github/Praxis-QR/RDWH/blob/main/Postgress_Getting_Started.ipynb\" target=\"_parent\"><img src=\"https://colab.research.google.com/assets/colab-badge.svg\" alt=\"Open In Colab\"/></a>"
      ]
    },
    {
      "cell_type": "markdown",
      "source": [
        "![alt text](https://github.com/Praxis-QR/RDWH/raw/main/images/YantraJaalBanner.png)<br>\n",
        "\n",
        "\n",
        "<hr>\n",
        "\n",
        "[Prithwis Mukerjee](http://www.linkedin.com/in/prithwis)<br>"
      ],
      "metadata": {
        "id": "DBzz-qaN2tKu"
      }
    },
    {
      "cell_type": "markdown",
      "source": [
        "#Install"
      ],
      "metadata": {
        "id": "nD-QawLT6kDr"
      }
    },
    {
      "cell_type": "code",
      "execution_count": 1,
      "metadata": {
        "colab": {
          "base_uri": "https://localhost:8080/"
        },
        "id": "QBxqnsWJ0wA1",
        "outputId": "8b4461e2-0a4d-4ae5-bb30-f4a01940ff6c"
      },
      "outputs": [
        {
          "output_type": "stream",
          "name": "stdout",
          "text": [
            "\n",
            "WARNING: apt does not have a stable CLI interface. Use with caution in scripts.\n",
            "\n",
            "\n",
            "WARNING: apt does not have a stable CLI interface. Use with caution in scripts.\n",
            "\n",
            " * Starting PostgreSQL 10 database server\n",
            "   ...done.\n"
          ]
        }
      ],
      "source": [
        "# Install postgresql server\n",
        "#!sudo apt-get -y -qq update > /dev/null\n",
        "!apt update > /dev/null\n",
        "#!sudo apt-get -y -qq install postgresql > /dev/null\n",
        "!apt install postgresql > /dev/null\n",
        "#!sudo service postgresql start\n",
        "!service postgresql start"
      ]
    },
    {
      "cell_type": "markdown",
      "source": [
        "## Configure"
      ],
      "metadata": {
        "id": "--pn1fPO6ndu"
      }
    },
    {
      "cell_type": "code",
      "source": [
        "# Setup a password `postgres` for username `postgres`\n",
        "!sudo -u postgres psql -U postgres -c \"ALTER USER postgres PASSWORD 'pass';\"\n",
        "#!sudo -u postgres psql -U postgres -c \"ALTER USER tuser2 PASSWORD 'pw2';\"\n",
        "# Setup a database with name `sampledb` to be used\n",
        "!sudo -u postgres psql -U postgres -c 'DROP DATABASE IF EXISTS praxisdb;'\n",
        "!sudo -u postgres psql -U postgres -c 'CREATE DATABASE praxisdb;'"
      ],
      "metadata": {
        "colab": {
          "base_uri": "https://localhost:8080/"
        },
        "id": "J3PSLjXd1D-J",
        "outputId": "7f41abe5-8dd6-44d2-efcf-f99ae7da0150"
      },
      "execution_count": 2,
      "outputs": [
        {
          "output_type": "stream",
          "name": "stdout",
          "text": [
            "ALTER ROLE\n",
            "NOTICE:  database \"praxisdb\" does not exist, skipping\n",
            "DROP DATABASE\n",
            "CREATE DATABASE\n"
          ]
        }
      ]
    },
    {
      "cell_type": "markdown",
      "source": [
        "#Command Line Access"
      ],
      "metadata": {
        "id": "pHTdNzrU6qUE"
      }
    },
    {
      "cell_type": "code",
      "source": [
        "!psql -h localhost -p 5432 -Upostgres -W -dpraxisdb -c 'create table dept (deptid char(2),deptname varchar(20), managerid char(6), location varchar(10));'"
      ],
      "metadata": {
        "colab": {
          "base_uri": "https://localhost:8080/"
        },
        "id": "5CW-LNLl16fT",
        "outputId": "948e3013-e9dd-4855-d785-d3cc7c2a6bc4"
      },
      "execution_count": 3,
      "outputs": [
        {
          "output_type": "stream",
          "name": "stdout",
          "text": [
            "Password for user postgres: \n",
            "CREATE TABLE\n"
          ]
        }
      ]
    },
    {
      "cell_type": "code",
      "source": [
        "!psql -h localhost -p 5432 -Upostgres -W -dpraxisdb -c \\\n",
        "\"create table empl \\\n",
        "(empid char(6),\\\n",
        "    lastname varchar(20),\\\n",
        "    firstname varchar(20),\\\n",
        "    jobdesc varchar(10),\\\n",
        "    joindate date,\\\n",
        "    salary int,\\\n",
        "    comm decimal(3,2),\\\n",
        "    deptid char(2));\\\n",
        "\""
      ],
      "metadata": {
        "colab": {
          "base_uri": "https://localhost:8080/"
        },
        "id": "HU6UACin3c4j",
        "outputId": "3daa1420-e0cb-4ec8-cb08-84db9c4c9071"
      },
      "execution_count": 5,
      "outputs": [
        {
          "output_type": "stream",
          "name": "stdout",
          "text": [
            "Password for user postgres: \n",
            "CREATE TABLE\n"
          ]
        }
      ]
    },
    {
      "cell_type": "code",
      "source": [
        "!psql -h localhost -p 5432 -Upostgres -W -dpraxisdb -c \"INSERT INTO Dept (DeptID, DeptName, ManagerID, Location) VALUES \\\n",
        "\t('10', 'Corporate', '299034', 'Calcutta'), \\\n",
        "\t('20', 'Sales', '239456', 'Calcutta'), \\\n",
        "\t('30', 'Accounts', '822134', 'Calcutta'), \\\n",
        "\t('40', 'Production', '349870', 'Bombay');\""
      ],
      "metadata": {
        "colab": {
          "base_uri": "https://localhost:8080/"
        },
        "id": "WhL5hfIF2DMn",
        "outputId": "35044816-33fe-4dbf-d3c8-7319808160c1"
      },
      "execution_count": 6,
      "outputs": [
        {
          "output_type": "stream",
          "name": "stdout",
          "text": [
            "Password for user postgres: \n",
            "INSERT 0 4\n"
          ]
        }
      ]
    },
    {
      "cell_type": "code",
      "source": [
        "!psql -h localhost -p 5432 -Upostgres -W -dpraxisdb -c \\\n",
        "\"INSERT INTO Empl (EmpID, LastName, FirstName, JobDesc, JoinDate, Salary, Comm, DeptID) \\\n",
        "    VALUES \\\n",
        "\t('742866', 'Bacchan', 'Amitabh', 'Executive', '2003-03-10', 50000, 0.1, '10'), \\\n",
        "\t('349870', 'Mukherjee', 'Rani', 'Manager', '2005-05-04', 25000, 0.06, '40'), \\\n",
        "\t('865477', 'Dikshit', 'Madhuri', 'Clerk', '2002-04-04', 10000, 0.02, '20'), \\\n",
        "\t('239456', 'Khan', 'Shahrukh', 'Manager', '2004-01-03', 30000, 0.07, '20'), \\\n",
        "\t('897889', 'Sehwag', 'Virender', 'Cus_Rep', '2005-01-02', 15000, 0.05, '20'), \\\n",
        "\t('123980', 'Dhoni', 'Mahender', 'Clerk', '2004-10-09', 9000, 0.02, '40'), \\\n",
        "\t('822134', 'Dravid', 'Rahul', 'Sr Manager', '2000-06-04', 40000, 0.08, '30'), \\\n",
        "\t('997445', 'Dalmia', 'Jagmohan', 'Clerk', '2001-07-01', 12000, 0.02, '30'), \\\n",
        "\t('989007', 'Ganguly', 'Sourav', 'Cus_Rep', '2002-01-01', 20000, 0.03, '40'), \\\n",
        "\t('299034', 'Ganesan', 'Rekha', 'Director', '2002-10-10', 60000, 0.11, '10'), \\\n",
        "\t('546223', 'Karthikeyan', 'Narayan', 'Secretary', '2005-12-04', 40000, 0.09, '10'), \\\n",
        "\t('223112', 'Mirza', 'Sania', 'Cus_Rep', '2001-11-19', 25000, 0.04, '30');\""
      ],
      "metadata": {
        "colab": {
          "base_uri": "https://localhost:8080/"
        },
        "id": "kfUDoKC54LZp",
        "outputId": "3e019439-8ba2-44c3-e77f-032f3956a0e9"
      },
      "execution_count": 7,
      "outputs": [
        {
          "output_type": "stream",
          "name": "stdout",
          "text": [
            "Password for user postgres: \n",
            "INSERT 0 12\n"
          ]
        }
      ]
    },
    {
      "cell_type": "code",
      "source": [
        "!psql -h localhost -p 5432 -Upostgres -W -dpraxisdb -c \"select * from dept;\""
      ],
      "metadata": {
        "colab": {
          "base_uri": "https://localhost:8080/"
        },
        "id": "HyBUhbAI2PV1",
        "outputId": "548a9bcd-e4bb-44d6-8844-bb912a56d2a0"
      },
      "execution_count": 8,
      "outputs": [
        {
          "output_type": "stream",
          "name": "stdout",
          "text": [
            "Password for user postgres: \n",
            " deptid |  deptname  | managerid | location \n",
            "--------+------------+-----------+----------\n",
            " 10     | Corporate  | 299034    | Calcutta\n",
            " 20     | Sales      | 239456    | Calcutta\n",
            " 30     | Accounts   | 822134    | Calcutta\n",
            " 40     | Production | 349870    | Bombay\n",
            "(4 rows)\n",
            "\n"
          ]
        }
      ]
    },
    {
      "cell_type": "code",
      "source": [
        "!psql -h localhost -p 5432 -U postgres -W -d praxisdb -c \"select * from empl;\""
      ],
      "metadata": {
        "colab": {
          "base_uri": "https://localhost:8080/"
        },
        "id": "byY2iccO4ctF",
        "outputId": "637bf0b0-b6eb-4576-8fb1-c322458cf80d"
      },
      "execution_count": 10,
      "outputs": [
        {
          "output_type": "stream",
          "name": "stdout",
          "text": [
            "Password for user postgres: \n",
            " empid  |  lastname   | firstname |  jobdesc   |  joindate  | salary | comm | deptid \n",
            "--------+-------------+-----------+------------+------------+--------+------+--------\n",
            " 742866 | Bacchan     | Amitabh   | Executive  | 2003-03-10 |  50000 | 0.10 | 10\n",
            " 349870 | Mukherjee   | Rani      | Manager    | 2005-05-04 |  25000 | 0.06 | 40\n",
            " 865477 | Dikshit     | Madhuri   | Clerk      | 2002-04-04 |  10000 | 0.02 | 20\n",
            " 239456 | Khan        | Shahrukh  | Manager    | 2004-01-03 |  30000 | 0.07 | 20\n",
            " 897889 | Sehwag      | Virender  | Cus_Rep    | 2005-01-02 |  15000 | 0.05 | 20\n",
            " 123980 | Dhoni       | Mahender  | Clerk      | 2004-10-09 |   9000 | 0.02 | 40\n",
            " 822134 | Dravid      | Rahul     | Sr Manager | 2000-06-04 |  40000 | 0.08 | 30\n",
            " 997445 | Dalmia      | Jagmohan  | Clerk      | 2001-07-01 |  12000 | 0.02 | 30\n",
            " 989007 | Ganguly     | Sourav    | Cus_Rep    | 2002-01-01 |  20000 | 0.03 | 40\n",
            " 299034 | Ganesan     | Rekha     | Director   | 2002-10-10 |  60000 | 0.11 | 10\n",
            " 546223 | Karthikeyan | Narayan   | Secretary  | 2005-12-04 |  40000 | 0.09 | 10\n",
            " 223112 | Mirza       | Sania     | Cus_Rep    | 2001-11-19 |  25000 | 0.04 | 30\n",
            "(12 rows)\n",
            "\n"
          ]
        }
      ]
    },
    {
      "cell_type": "code",
      "source": [
        "!psql -h localhost -p 5432 -U postgres -W -d praxisdb -c \"select * from empl, dept where empl.deptid = dept.deptid;\""
      ],
      "metadata": {
        "colab": {
          "base_uri": "https://localhost:8080/"
        },
        "id": "-0J9N3_J4wfa",
        "outputId": "9941cef6-d7fc-4de7-b460-a7ccac9380cf"
      },
      "execution_count": 12,
      "outputs": [
        {
          "output_type": "stream",
          "name": "stdout",
          "text": [
            "Password for user postgres: \n",
            " empid  |  lastname   | firstname |  jobdesc   |  joindate  | salary | comm | deptid | deptid |  deptname  | managerid | location \n",
            "--------+-------------+-----------+------------+------------+--------+------+--------+--------+------------+-----------+----------\n",
            " 546223 | Karthikeyan | Narayan   | Secretary  | 2005-12-04 |  40000 | 0.09 | 10     | 10     | Corporate  | 299034    | Calcutta\n",
            " 299034 | Ganesan     | Rekha     | Director   | 2002-10-10 |  60000 | 0.11 | 10     | 10     | Corporate  | 299034    | Calcutta\n",
            " 742866 | Bacchan     | Amitabh   | Executive  | 2003-03-10 |  50000 | 0.10 | 10     | 10     | Corporate  | 299034    | Calcutta\n",
            " 897889 | Sehwag      | Virender  | Cus_Rep    | 2005-01-02 |  15000 | 0.05 | 20     | 20     | Sales      | 239456    | Calcutta\n",
            " 239456 | Khan        | Shahrukh  | Manager    | 2004-01-03 |  30000 | 0.07 | 20     | 20     | Sales      | 239456    | Calcutta\n",
            " 865477 | Dikshit     | Madhuri   | Clerk      | 2002-04-04 |  10000 | 0.02 | 20     | 20     | Sales      | 239456    | Calcutta\n",
            " 223112 | Mirza       | Sania     | Cus_Rep    | 2001-11-19 |  25000 | 0.04 | 30     | 30     | Accounts   | 822134    | Calcutta\n",
            " 997445 | Dalmia      | Jagmohan  | Clerk      | 2001-07-01 |  12000 | 0.02 | 30     | 30     | Accounts   | 822134    | Calcutta\n",
            " 822134 | Dravid      | Rahul     | Sr Manager | 2000-06-04 |  40000 | 0.08 | 30     | 30     | Accounts   | 822134    | Calcutta\n",
            " 989007 | Ganguly     | Sourav    | Cus_Rep    | 2002-01-01 |  20000 | 0.03 | 40     | 40     | Production | 349870    | Bombay\n",
            " 123980 | Dhoni       | Mahender  | Clerk      | 2004-10-09 |   9000 | 0.02 | 40     | 40     | Production | 349870    | Bombay\n",
            " 349870 | Mukherjee   | Rani      | Manager    | 2005-05-04 |  25000 | 0.06 | 40     | 40     | Production | 349870    | Bombay\n",
            "(12 rows)\n",
            "\n"
          ]
        }
      ]
    },
    {
      "cell_type": "code",
      "source": [
        "from datetime import datetime\n",
        "import pytz\n",
        "print('Last tested  ',datetime.now(pytz.timezone('Asia/Kolkata')))"
      ],
      "metadata": {
        "colab": {
          "base_uri": "https://localhost:8080/"
        },
        "id": "wjBXJVhM605H",
        "outputId": "df7ee833-7196-45f9-b02a-114b94a6ed94"
      },
      "execution_count": 13,
      "outputs": [
        {
          "output_type": "stream",
          "name": "stdout",
          "text": [
            "Last tested   2023-01-17 09:39:59.388791+05:30\n"
          ]
        }
      ]
    },
    {
      "cell_type": "markdown",
      "source": [
        "#Chronobooks <br>\n",
        "Two science fiction novels by Prithwis Mukerjee. A dystopian Earth. A technocratic society managed by artificial intelligence. Escape and epiphany on Mars. Can man and machine, carbon and silicon explore and escape into other dimensions of existence? An Indic perspective rooted in Advaita Vedanta and the Divine Feminine.  [More information](http://bit.ly/chronobooks) <br>\n",
        "![alt text](https://github.com/Praxis-QR/RDWH/raw/main/images/CTCYFooter-1.png)"
      ],
      "metadata": {
        "id": "_gNiZpyW3AzJ"
      }
    }
  ]
}