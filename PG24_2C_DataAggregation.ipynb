{
  "nbformat": 4,
  "nbformat_minor": 0,
  "metadata": {
    "colab": {
      "provenance": [],
      "toc_visible": true,
      "include_colab_link": true
    },
    "kernelspec": {
      "name": "python3",
      "display_name": "Python 3"
    },
    "language_info": {
      "name": "python"
    }
  },
  "cells": [
    {
      "cell_type": "markdown",
      "metadata": {
        "id": "view-in-github",
        "colab_type": "text"
      },
      "source": [
        "<a href=\"https://colab.research.google.com/github/Praxis-QR/RDWH/blob/main/PG24_2C_DataAggregation.ipynb\" target=\"_parent\"><img src=\"https://colab.research.google.com/assets/colab-badge.svg\" alt=\"Open In Colab\"/></a>"
      ]
    },
    {
      "cell_type": "markdown",
      "source": [
        "![alt text](https://github.com/Praxis-QR/RDWH/raw/main/images/YantraJaalBanner.png)<br>\n",
        "\n",
        "\n",
        "<hr>\n",
        "\n",
        "[Prithwis Mukerjee](http://www.linkedin.com/in/prithwis)<br>"
      ],
      "metadata": {
        "id": "DBzz-qaN2tKu"
      }
    },
    {
      "cell_type": "markdown",
      "source": [
        "References\n",
        "\n",
        "\n",
        "*   https://www.enterprisedb.com/postgres-tutorials/how-use-grouping-sets-cube-and-rollup-postgresql\n",
        "\n",
        "Free Data Sets\n",
        "\n",
        "\n",
        "1.   https://www.iguazio.com/blog/13-best-free-retail-datasets-for-machine-learning/\n",
        "\n",
        "\n",
        "\n",
        "\n"
      ],
      "metadata": {
        "id": "dBJ6X0LiJtZ6"
      }
    },
    {
      "cell_type": "code",
      "source": [
        "from datetime import datetime\n",
        "import pytz\n",
        "print('ॐ श्री सरस्वत्यै नमः',datetime.now(pytz.timezone('Asia/Calcutta')))\n",
        "!python --version\n",
        "!lsb_release -a"
      ],
      "metadata": {
        "id": "Ns7helbMrXDA",
        "outputId": "8fc150d9-d1b2-49aa-9ce5-065f45ff8f4e",
        "colab": {
          "base_uri": "https://localhost:8080/"
        }
      },
      "execution_count": 1,
      "outputs": [
        {
          "output_type": "stream",
          "name": "stdout",
          "text": [
            "ॐ श्री सरस्वत्यै नमः 2024-03-06 06:59:43.675420+05:30\n",
            "Python 3.10.12\n",
            "No LSB modules are available.\n",
            "Distributor ID:\tUbuntu\n",
            "Description:\tUbuntu 22.04.3 LTS\n",
            "Release:\t22.04\n",
            "Codename:\tjammy\n"
          ]
        }
      ]
    },
    {
      "cell_type": "markdown",
      "source": [
        "#Setup"
      ],
      "metadata": {
        "id": "nD-QawLT6kDr"
      }
    },
    {
      "cell_type": "code",
      "source": [
        "# Install postgresql server\n",
        "\n",
        "!apt update > /dev/null\n",
        "!apt install postgresql > /dev/null\n",
        "#\n",
        "import psycopg2\n",
        "import pandas as pd\n",
        "#\n",
        "!psql -V\n",
        "!service postgresql start"
      ],
      "metadata": {
        "colab": {
          "base_uri": "https://localhost:8080/"
        },
        "id": "o_RaqE0OOHP3",
        "outputId": "94a51fb8-b9a6-424b-e9ba-9e41784de477"
      },
      "execution_count": 2,
      "outputs": [
        {
          "output_type": "stream",
          "name": "stdout",
          "text": [
            "\n",
            "WARNING: apt does not have a stable CLI interface. Use with caution in scripts.\n",
            "\n",
            "\n",
            "WARNING: apt does not have a stable CLI interface. Use with caution in scripts.\n",
            "\n",
            "psql (PostgreSQL) 14.11 (Ubuntu 14.11-0ubuntu0.22.04.1)\n",
            " * Starting PostgreSQL 14 database server\n",
            "   ...done.\n"
          ]
        }
      ]
    },
    {
      "cell_type": "code",
      "source": [
        "# This has created an Ubuntu user 'postgres' AND a Postgres database user 'postgres' both of which are superusers\n",
        "#!cat /etc/passwd\n",
        "# Use these users to create a new database user called 'upraxis' and give it a password 'upass'\n",
        "#!sudo -u postgres createuser --superuser upraxis\n",
        "!sudo -u postgres createuser upraxis\n",
        "!sudo -u postgres psql -U postgres -c \"ALTER USER upraxis PASSWORD 'upass';\"\n",
        "# Change the database superuser 'postgres' to a non-default value 'pass'\n",
        "!sudo -u postgres psql -U postgres -c \"ALTER USER postgres PASSWORD 'pass';\"\n",
        "# Use ubuntu superuser to create database dbpraxis and set its owner to upraxis\n",
        "!sudo -u postgres createdb -O upraxis dbpraxis\n",
        "# Create file to store the password. Else will be prompted each time\n",
        "!echo \"localhost:5432:dbpraxis:postgres:pass\" > ~/.pgpass\n",
        "!echo \"localhost:5432:dbpraxis:upraxis:upass\" >> ~/.pgpass\n",
        "!chmod 0600 ~/.pgpass\n",
        "!cat ~/.pgpass\n"
      ],
      "metadata": {
        "colab": {
          "base_uri": "https://localhost:8080/"
        },
        "id": "xr5kHaY_U4CZ",
        "outputId": "8b627c46-8708-45ea-cb3b-46151685fc5b"
      },
      "execution_count": 3,
      "outputs": [
        {
          "output_type": "stream",
          "name": "stdout",
          "text": [
            "ALTER ROLE\n",
            "ALTER ROLE\n",
            "localhost:5432:dbpraxis:postgres:pass\n",
            "localhost:5432:dbpraxis:upraxis:upass\n"
          ]
        }
      ]
    },
    {
      "cell_type": "markdown",
      "source": [
        "## Prepare FACT table"
      ],
      "metadata": {
        "id": "pHTdNzrU6qUE"
      }
    },
    {
      "cell_type": "code",
      "source": [
        "# Create Fact Table using command line interface\n",
        "#\n",
        "!psql -h localhost -p 5432 -Uupraxis -ddbpraxis -c \\\n",
        "\"drop table if exists ss_order;\\\n",
        "CREATE TABLE IF NOT EXISTS ss_order (\\\n",
        "    RowID smallint,\\\n",
        "    OrderID char(14),OrderDate date,\\\n",
        "    ShipDate date,ShipMode varchar(16),\\\n",
        "    CustomerID char(8),CustomerName varchar(30),Segment varchar(20),\\\n",
        "    Country varchar(30),City varchar(30),State varchar(30),PostalCode char(5),Region varchar(15) ,\\\n",
        "    ProductID varchar(20), Category varchar(40), SubCategory varchar(40), ProductName varchar(200), \\\n",
        "    Sales decimal(8,2), Quantity smallint, Discount decimal(4,2), Profit decimal(8,2) \\\n",
        "); \\\n",
        "\""
      ],
      "metadata": {
        "colab": {
          "base_uri": "https://localhost:8080/"
        },
        "id": "DsUZ9JlEXIir",
        "outputId": "e08fad3e-54c9-414d-8c9a-6020d5ba0faa"
      },
      "execution_count": 4,
      "outputs": [
        {
          "output_type": "stream",
          "name": "stdout",
          "text": [
            "NOTICE:  table \"ss_order\" does not exist, skipping\n",
            "CREATE TABLE\n"
          ]
        }
      ]
    },
    {
      "cell_type": "code",
      "source": [
        "#Describe the table ss_order\n",
        "!psql -h localhost -p 5432 -Uupraxis -ddbpraxis -c '\\d+ ss_order'"
      ],
      "metadata": {
        "colab": {
          "base_uri": "https://localhost:8080/"
        },
        "id": "5kWs3wyEd9Tm",
        "outputId": "a6e84c9b-3365-4b66-fde4-0bee00a91229"
      },
      "execution_count": 5,
      "outputs": [
        {
          "output_type": "stream",
          "name": "stdout",
          "text": [
            "                                                   Table \"public.ss_order\"\n",
            "    Column    |          Type          | Collation | Nullable | Default | Storage  | Compression | Stats target | Description \n",
            "--------------+------------------------+-----------+----------+---------+----------+-------------+--------------+-------------\n",
            " rowid        | smallint               |           |          |         | plain    |             |              | \n",
            " orderid      | character(14)          |           |          |         | extended |             |              | \n",
            " orderdate    | date                   |           |          |         | plain    |             |              | \n",
            " shipdate     | date                   |           |          |         | plain    |             |              | \n",
            " shipmode     | character varying(16)  |           |          |         | extended |             |              | \n",
            " customerid   | character(8)           |           |          |         | extended |             |              | \n",
            " customername | character varying(30)  |           |          |         | extended |             |              | \n",
            " segment      | character varying(20)  |           |          |         | extended |             |              | \n",
            " country      | character varying(30)  |           |          |         | extended |             |              | \n",
            " city         | character varying(30)  |           |          |         | extended |             |              | \n",
            " state        | character varying(30)  |           |          |         | extended |             |              | \n",
            " postalcode   | character(5)           |           |          |         | extended |             |              | \n",
            " region       | character varying(15)  |           |          |         | extended |             |              | \n",
            " productid    | character varying(20)  |           |          |         | extended |             |              | \n",
            " category     | character varying(40)  |           |          |         | extended |             |              | \n",
            " subcategory  | character varying(40)  |           |          |         | extended |             |              | \n",
            " productname  | character varying(200) |           |          |         | extended |             |              | \n",
            " sales        | numeric(8,2)           |           |          |         | main     |             |              | \n",
            " quantity     | smallint               |           |          |         | plain    |             |              | \n",
            " discount     | numeric(4,2)           |           |          |         | main     |             |              | \n",
            " profit       | numeric(8,2)           |           |          |         | main     |             |              | \n",
            "Access method: heap\n",
            "\n"
          ]
        }
      ]
    },
    {
      "cell_type": "code",
      "source": [
        "#Get Data File\n",
        "!wget -q -O SS_Orders.csv 'https://raw.githubusercontent.com/Praxis-QR/RDWH/main/data/SS_Orders.csv'"
      ],
      "metadata": {
        "id": "z2397zC6OUPq"
      },
      "execution_count": 6,
      "outputs": []
    },
    {
      "cell_type": "code",
      "source": [
        "# Date Format Issues\n",
        "!psql -h localhost -p 5432 -U upraxis -d dbpraxis -c \"set datestyle to PostgreSQL,European; show datestyle\""
      ],
      "metadata": {
        "colab": {
          "base_uri": "https://localhost:8080/"
        },
        "id": "sSxD2zVROfRJ",
        "outputId": "782408ef-93be-408d-97bd-559829b4939a"
      },
      "execution_count": 7,
      "outputs": [
        {
          "output_type": "stream",
          "name": "stdout",
          "text": [
            "   DateStyle   \n",
            "---------------\n",
            " Postgres, DMY\n",
            "(1 row)\n",
            "\n"
          ]
        }
      ]
    },
    {
      "cell_type": "code",
      "source": [
        "# Load Data\n",
        "# Need to use U = postgres and provide password = 'pass'\n",
        "!psql -h localhost -p 5432 -U postgres -d dbpraxis -c \\\n",
        "\"set datestyle to PostgreSQL,European;copy ss_order FROM '/content/SS_Orders.csv' DELIMITER ',' CSV HEADER;\""
      ],
      "metadata": {
        "colab": {
          "base_uri": "https://localhost:8080/"
        },
        "id": "2onLfC2NOzLq",
        "outputId": "07d610a9-8b5f-4986-b780-1015212e793e"
      },
      "execution_count": 8,
      "outputs": [
        {
          "output_type": "stream",
          "name": "stdout",
          "text": [
            "COPY 9994\n"
          ]
        }
      ]
    },
    {
      "cell_type": "code",
      "source": [
        "!psql -h localhost -p 5432 -U upraxis -d dbpraxis -c 'select * from ss_order limit 10'\n",
        "#the date data should have loaded correctly"
      ],
      "metadata": {
        "colab": {
          "base_uri": "https://localhost:8080/"
        },
        "id": "AFVNvTr8QLFM",
        "outputId": "36abc0be-51d3-41bb-ecf7-b70596bfa052"
      },
      "execution_count": 9,
      "outputs": [
        {
          "output_type": "stream",
          "name": "stdout",
          "text": [
            " rowid |    orderid     | orderdate  |  shipdate  |    shipmode    | customerid |  customername   |  segment  |    country    |      city       |   state    | postalcode | region |    productid    |    category     | subcategory |                           productname                            | sales  | quantity | discount | profit  \n",
            "-------+----------------+------------+------------+----------------+------------+-----------------+-----------+---------------+-----------------+------------+------------+--------+-----------------+-----------------+-------------+------------------------------------------------------------------+--------+----------+----------+---------\n",
            "     1 | CA-2016-152156 | 2016-11-08 | 2016-11-11 | Second Class   | CG-12520   | Claire Gute     | Consumer  | United States | Henderson       | Kentucky   | 42420      | South  | FUR-BO-10001798 | Furniture       | Bookcases   | Bush Somerset Collection Bookcase                                | 261.96 |        2 |     0.00 |   41.91\n",
            "     2 | CA-2016-152156 | 2016-11-08 | 2016-11-11 | Second Class   | CG-12520   | Claire Gute     | Consumer  | United States | Henderson       | Kentucky   | 42420      | South  | FUR-CH-10000454 | Furniture       | Chairs      | Hon Deluxe Fabric Upholstered Stacking Chairs, Rounded Back      | 731.94 |        3 |     0.00 |  219.58\n",
            "     3 | CA-2016-138688 | 2016-06-12 | 2016-06-16 | Second Class   | DV-13045   | Darrin Van Huff | Corporate | United States | Los Angeles     | California | 90036      | West   | OFF-LA-10000240 | Office Supplies | Labels      | Self-Adhesive Address Labels for Typewriters by Universal        |  14.62 |        2 |     0.00 |    6.87\n",
            "     4 | US-2015-108966 | 2015-10-11 | 2015-10-18 | Standard Class | SO-20335   | Sean O'Donnell  | Consumer  | United States | Fort Lauderdale | Florida    | 33311      | South  | FUR-TA-10000577 | Furniture       | Tables      | Bretford CR4500 Series Slim Rectangular Table                    | 957.58 |        5 |     0.45 | -383.03\n",
            "     5 | US-2015-108966 | 2015-10-11 | 2015-10-18 | Standard Class | SO-20335   | Sean O'Donnell  | Consumer  | United States | Fort Lauderdale | Florida    | 33311      | South  | OFF-ST-10000760 | Office Supplies | Storage     | Eldon Fold 'N Roll Cart System                                   |  22.37 |        2 |     0.20 |    2.52\n",
            "     6 | CA-2014-115812 | 2014-06-09 | 2014-06-14 | Standard Class | BH-11710   | Brosina Hoffman | Consumer  | United States | Los Angeles     | California | 90032      | West   | FUR-FU-10001487 | Furniture       | Furnishings | Eldon Expressions Wood and Plastic Desk Accessories, Cherry Wood |  48.86 |        7 |     0.00 |   14.17\n",
            "     7 | CA-2014-115812 | 2014-06-09 | 2014-06-14 | Standard Class | BH-11710   | Brosina Hoffman | Consumer  | United States | Los Angeles     | California | 90032      | West   | OFF-AR-10002833 | Office Supplies | Art         | Newell 322                                                       |   7.28 |        4 |     0.00 |    1.97\n",
            "     8 | CA-2014-115812 | 2014-06-09 | 2014-06-14 | Standard Class | BH-11710   | Brosina Hoffman | Consumer  | United States | Los Angeles     | California | 90032      | West   | TEC-PH-10002275 | Technology      | Phones      | Mitel 5320 IP Phone VoIP phone                                   | 907.15 |        6 |     0.20 |   90.72\n",
            "     9 | CA-2014-115812 | 2014-06-09 | 2014-06-14 | Standard Class | BH-11710   | Brosina Hoffman | Consumer  | United States | Los Angeles     | California | 90032      | West   | OFF-BI-10003910 | Office Supplies | Binders     | DXL Angle-View Binders with Locking Rings by Samsill             |  18.50 |        3 |     0.20 |    5.78\n",
            "    10 | CA-2014-115812 | 2014-06-09 | 2014-06-14 | Standard Class | BH-11710   | Brosina Hoffman | Consumer  | United States | Los Angeles     | California | 90032      | West   | OFF-AP-10002892 | Office Supplies | Appliances  | Belkin F5C206VTEL 6 Outlet Surge                                 | 114.90 |        5 |     0.00 |   34.47\n",
            "(10 rows)\n",
            "\n"
          ]
        }
      ]
    },
    {
      "cell_type": "markdown",
      "source": [
        "## Python Access\n",
        "https://www.tutorialspoint.com/python_data_access/python_postgresql_database_connection.htm"
      ],
      "metadata": {
        "id": "faZEj8_7CeZ8"
      }
    },
    {
      "cell_type": "code",
      "source": [
        "def runSelect(s):\n",
        "    #Set up connection\n",
        "\n",
        "    conn = psycopg2.connect(database=\"dbpraxis\", user='upraxis', password='upass', host='127.0.0.1', port= '5432')\n",
        "    #Setting auto commit true\n",
        "    conn.autocommit = True\n",
        "    #Creating a cursor object using the cursor() method\n",
        "    cursor = conn.cursor()\n",
        "    #Retrieving data\n",
        "    cursor.execute(s)\n",
        "    #Fetching all rows from the table\n",
        "    result = cursor.fetchall();\n",
        "    #print(len(result))\n",
        "    if (len(result)) > 0:                                       # result contains at least one row\n",
        "        colnames = [desc[0] for desc in cursor.description]     # get column names\n",
        "        #print(colnames)\n",
        "        resultdf = pd.DataFrame(result)                         # convert list to dataframe\n",
        "        resultdf.columns = colnames                             # add column names\n",
        "        #return resultdf\n",
        "        return resultdf.style.hide()                            # hide the index\n",
        "    else:\n",
        "        print('no records found')\n",
        "        return\n"
      ],
      "metadata": {
        "id": "ht2k7-3iggNd"
      },
      "execution_count": 10,
      "outputs": []
    },
    {
      "cell_type": "code",
      "source": [
        "def runCmd(s):\n",
        "    #Create Connection\n",
        "    conn = psycopg2.connect(database=\"dbpraxis\", user='upraxis', password='upass', host='127.0.0.1', port= '5432')\n",
        "    #Creating a cursor object using the cursor() method\n",
        "    cursor = conn.cursor()\n",
        "    try:\n",
        "        cursor.execute(s)\n",
        "        print('Command executed')\n",
        "        conn.commit()\n",
        "    except:\n",
        "        print('Command failed')\n",
        "    #Closing the connection\n",
        "    conn.close()"
      ],
      "metadata": {
        "id": "GHBSt3_jkMO7"
      },
      "execution_count": 11,
      "outputs": []
    },
    {
      "cell_type": "code",
      "source": [
        "runSelect('select * from ss_order limit 3')"
      ],
      "metadata": {
        "id": "Otiv4rjSl5Tg",
        "outputId": "a3d30555-62cd-4216-a515-c58d87202cc7",
        "colab": {
          "base_uri": "https://localhost:8080/",
          "height": 406
        }
      },
      "execution_count": 12,
      "outputs": [
        {
          "output_type": "execute_result",
          "data": {
            "text/plain": [
              "<pandas.io.formats.style.Styler at 0x7b34dc31cd30>"
            ],
            "text/html": [
              "<style type=\"text/css\">\n",
              "</style>\n",
              "<table id=\"T_4ba75\" class=\"dataframe\">\n",
              "  <thead>\n",
              "    <tr>\n",
              "      <th id=\"T_4ba75_level0_col0\" class=\"col_heading level0 col0\" >rowid</th>\n",
              "      <th id=\"T_4ba75_level0_col1\" class=\"col_heading level0 col1\" >orderid</th>\n",
              "      <th id=\"T_4ba75_level0_col2\" class=\"col_heading level0 col2\" >orderdate</th>\n",
              "      <th id=\"T_4ba75_level0_col3\" class=\"col_heading level0 col3\" >shipdate</th>\n",
              "      <th id=\"T_4ba75_level0_col4\" class=\"col_heading level0 col4\" >shipmode</th>\n",
              "      <th id=\"T_4ba75_level0_col5\" class=\"col_heading level0 col5\" >customerid</th>\n",
              "      <th id=\"T_4ba75_level0_col6\" class=\"col_heading level0 col6\" >customername</th>\n",
              "      <th id=\"T_4ba75_level0_col7\" class=\"col_heading level0 col7\" >segment</th>\n",
              "      <th id=\"T_4ba75_level0_col8\" class=\"col_heading level0 col8\" >country</th>\n",
              "      <th id=\"T_4ba75_level0_col9\" class=\"col_heading level0 col9\" >city</th>\n",
              "      <th id=\"T_4ba75_level0_col10\" class=\"col_heading level0 col10\" >state</th>\n",
              "      <th id=\"T_4ba75_level0_col11\" class=\"col_heading level0 col11\" >postalcode</th>\n",
              "      <th id=\"T_4ba75_level0_col12\" class=\"col_heading level0 col12\" >region</th>\n",
              "      <th id=\"T_4ba75_level0_col13\" class=\"col_heading level0 col13\" >productid</th>\n",
              "      <th id=\"T_4ba75_level0_col14\" class=\"col_heading level0 col14\" >category</th>\n",
              "      <th id=\"T_4ba75_level0_col15\" class=\"col_heading level0 col15\" >subcategory</th>\n",
              "      <th id=\"T_4ba75_level0_col16\" class=\"col_heading level0 col16\" >productname</th>\n",
              "      <th id=\"T_4ba75_level0_col17\" class=\"col_heading level0 col17\" >sales</th>\n",
              "      <th id=\"T_4ba75_level0_col18\" class=\"col_heading level0 col18\" >quantity</th>\n",
              "      <th id=\"T_4ba75_level0_col19\" class=\"col_heading level0 col19\" >discount</th>\n",
              "      <th id=\"T_4ba75_level0_col20\" class=\"col_heading level0 col20\" >profit</th>\n",
              "    </tr>\n",
              "  </thead>\n",
              "  <tbody>\n",
              "    <tr>\n",
              "      <td id=\"T_4ba75_row0_col0\" class=\"data row0 col0\" >1</td>\n",
              "      <td id=\"T_4ba75_row0_col1\" class=\"data row0 col1\" >CA-2016-152156</td>\n",
              "      <td id=\"T_4ba75_row0_col2\" class=\"data row0 col2\" >2016-11-08</td>\n",
              "      <td id=\"T_4ba75_row0_col3\" class=\"data row0 col3\" >2016-11-11</td>\n",
              "      <td id=\"T_4ba75_row0_col4\" class=\"data row0 col4\" >Second Class</td>\n",
              "      <td id=\"T_4ba75_row0_col5\" class=\"data row0 col5\" >CG-12520</td>\n",
              "      <td id=\"T_4ba75_row0_col6\" class=\"data row0 col6\" >Claire Gute</td>\n",
              "      <td id=\"T_4ba75_row0_col7\" class=\"data row0 col7\" >Consumer</td>\n",
              "      <td id=\"T_4ba75_row0_col8\" class=\"data row0 col8\" >United States</td>\n",
              "      <td id=\"T_4ba75_row0_col9\" class=\"data row0 col9\" >Henderson</td>\n",
              "      <td id=\"T_4ba75_row0_col10\" class=\"data row0 col10\" >Kentucky</td>\n",
              "      <td id=\"T_4ba75_row0_col11\" class=\"data row0 col11\" >42420</td>\n",
              "      <td id=\"T_4ba75_row0_col12\" class=\"data row0 col12\" >South</td>\n",
              "      <td id=\"T_4ba75_row0_col13\" class=\"data row0 col13\" >FUR-BO-10001798</td>\n",
              "      <td id=\"T_4ba75_row0_col14\" class=\"data row0 col14\" >Furniture</td>\n",
              "      <td id=\"T_4ba75_row0_col15\" class=\"data row0 col15\" >Bookcases</td>\n",
              "      <td id=\"T_4ba75_row0_col16\" class=\"data row0 col16\" >Bush Somerset Collection Bookcase</td>\n",
              "      <td id=\"T_4ba75_row0_col17\" class=\"data row0 col17\" >261.96</td>\n",
              "      <td id=\"T_4ba75_row0_col18\" class=\"data row0 col18\" >2</td>\n",
              "      <td id=\"T_4ba75_row0_col19\" class=\"data row0 col19\" >0.00</td>\n",
              "      <td id=\"T_4ba75_row0_col20\" class=\"data row0 col20\" >41.91</td>\n",
              "    </tr>\n",
              "    <tr>\n",
              "      <td id=\"T_4ba75_row1_col0\" class=\"data row1 col0\" >2</td>\n",
              "      <td id=\"T_4ba75_row1_col1\" class=\"data row1 col1\" >CA-2016-152156</td>\n",
              "      <td id=\"T_4ba75_row1_col2\" class=\"data row1 col2\" >2016-11-08</td>\n",
              "      <td id=\"T_4ba75_row1_col3\" class=\"data row1 col3\" >2016-11-11</td>\n",
              "      <td id=\"T_4ba75_row1_col4\" class=\"data row1 col4\" >Second Class</td>\n",
              "      <td id=\"T_4ba75_row1_col5\" class=\"data row1 col5\" >CG-12520</td>\n",
              "      <td id=\"T_4ba75_row1_col6\" class=\"data row1 col6\" >Claire Gute</td>\n",
              "      <td id=\"T_4ba75_row1_col7\" class=\"data row1 col7\" >Consumer</td>\n",
              "      <td id=\"T_4ba75_row1_col8\" class=\"data row1 col8\" >United States</td>\n",
              "      <td id=\"T_4ba75_row1_col9\" class=\"data row1 col9\" >Henderson</td>\n",
              "      <td id=\"T_4ba75_row1_col10\" class=\"data row1 col10\" >Kentucky</td>\n",
              "      <td id=\"T_4ba75_row1_col11\" class=\"data row1 col11\" >42420</td>\n",
              "      <td id=\"T_4ba75_row1_col12\" class=\"data row1 col12\" >South</td>\n",
              "      <td id=\"T_4ba75_row1_col13\" class=\"data row1 col13\" >FUR-CH-10000454</td>\n",
              "      <td id=\"T_4ba75_row1_col14\" class=\"data row1 col14\" >Furniture</td>\n",
              "      <td id=\"T_4ba75_row1_col15\" class=\"data row1 col15\" >Chairs</td>\n",
              "      <td id=\"T_4ba75_row1_col16\" class=\"data row1 col16\" >Hon Deluxe Fabric Upholstered Stacking Chairs, Rounded Back</td>\n",
              "      <td id=\"T_4ba75_row1_col17\" class=\"data row1 col17\" >731.94</td>\n",
              "      <td id=\"T_4ba75_row1_col18\" class=\"data row1 col18\" >3</td>\n",
              "      <td id=\"T_4ba75_row1_col19\" class=\"data row1 col19\" >0.00</td>\n",
              "      <td id=\"T_4ba75_row1_col20\" class=\"data row1 col20\" >219.58</td>\n",
              "    </tr>\n",
              "    <tr>\n",
              "      <td id=\"T_4ba75_row2_col0\" class=\"data row2 col0\" >3</td>\n",
              "      <td id=\"T_4ba75_row2_col1\" class=\"data row2 col1\" >CA-2016-138688</td>\n",
              "      <td id=\"T_4ba75_row2_col2\" class=\"data row2 col2\" >2016-06-12</td>\n",
              "      <td id=\"T_4ba75_row2_col3\" class=\"data row2 col3\" >2016-06-16</td>\n",
              "      <td id=\"T_4ba75_row2_col4\" class=\"data row2 col4\" >Second Class</td>\n",
              "      <td id=\"T_4ba75_row2_col5\" class=\"data row2 col5\" >DV-13045</td>\n",
              "      <td id=\"T_4ba75_row2_col6\" class=\"data row2 col6\" >Darrin Van Huff</td>\n",
              "      <td id=\"T_4ba75_row2_col7\" class=\"data row2 col7\" >Corporate</td>\n",
              "      <td id=\"T_4ba75_row2_col8\" class=\"data row2 col8\" >United States</td>\n",
              "      <td id=\"T_4ba75_row2_col9\" class=\"data row2 col9\" >Los Angeles</td>\n",
              "      <td id=\"T_4ba75_row2_col10\" class=\"data row2 col10\" >California</td>\n",
              "      <td id=\"T_4ba75_row2_col11\" class=\"data row2 col11\" >90036</td>\n",
              "      <td id=\"T_4ba75_row2_col12\" class=\"data row2 col12\" >West</td>\n",
              "      <td id=\"T_4ba75_row2_col13\" class=\"data row2 col13\" >OFF-LA-10000240</td>\n",
              "      <td id=\"T_4ba75_row2_col14\" class=\"data row2 col14\" >Office Supplies</td>\n",
              "      <td id=\"T_4ba75_row2_col15\" class=\"data row2 col15\" >Labels</td>\n",
              "      <td id=\"T_4ba75_row2_col16\" class=\"data row2 col16\" >Self-Adhesive Address Labels for Typewriters by Universal</td>\n",
              "      <td id=\"T_4ba75_row2_col17\" class=\"data row2 col17\" >14.62</td>\n",
              "      <td id=\"T_4ba75_row2_col18\" class=\"data row2 col18\" >2</td>\n",
              "      <td id=\"T_4ba75_row2_col19\" class=\"data row2 col19\" >0.00</td>\n",
              "      <td id=\"T_4ba75_row2_col20\" class=\"data row2 col20\" >6.87</td>\n",
              "    </tr>\n",
              "  </tbody>\n",
              "</table>\n"
            ]
          },
          "metadata": {},
          "execution_count": 12
        }
      ]
    },
    {
      "cell_type": "markdown",
      "source": [
        "#Group By - Basic"
      ],
      "metadata": {
        "id": "jqDdLsDeRZAl"
      }
    },
    {
      "cell_type": "code",
      "source": [
        "sql = \"\\\n",
        "SELECT segment, region, category, SUM (sales) sales \\\n",
        "FROM ss_order \\\n",
        "GROUP BY segment, region, category; \\\n",
        "\"\n",
        "runSelect(sql)"
      ],
      "metadata": {
        "colab": {
          "base_uri": "https://localhost:8080/",
          "height": 1000
        },
        "id": "QyCUOF-4RcPF",
        "outputId": "4787e184-0821-443f-ffa5-d27415681ad9"
      },
      "execution_count": 13,
      "outputs": [
        {
          "output_type": "execute_result",
          "data": {
            "text/plain": [
              "<pandas.io.formats.style.Styler at 0x7b34dc31f700>"
            ],
            "text/html": [
              "<style type=\"text/css\">\n",
              "</style>\n",
              "<table id=\"T_c65ce\" class=\"dataframe\">\n",
              "  <thead>\n",
              "    <tr>\n",
              "      <th id=\"T_c65ce_level0_col0\" class=\"col_heading level0 col0\" >segment</th>\n",
              "      <th id=\"T_c65ce_level0_col1\" class=\"col_heading level0 col1\" >region</th>\n",
              "      <th id=\"T_c65ce_level0_col2\" class=\"col_heading level0 col2\" >category</th>\n",
              "      <th id=\"T_c65ce_level0_col3\" class=\"col_heading level0 col3\" >sales</th>\n",
              "    </tr>\n",
              "  </thead>\n",
              "  <tbody>\n",
              "    <tr>\n",
              "      <td id=\"T_c65ce_row0_col0\" class=\"data row0 col0\" >Corporate</td>\n",
              "      <td id=\"T_c65ce_row0_col1\" class=\"data row0 col1\" >South</td>\n",
              "      <td id=\"T_c65ce_row0_col2\" class=\"data row0 col2\" >Office Supplies</td>\n",
              "      <td id=\"T_c65ce_row0_col3\" class=\"data row0 col3\" >45930.19</td>\n",
              "    </tr>\n",
              "    <tr>\n",
              "      <td id=\"T_c65ce_row1_col0\" class=\"data row1 col0\" >Consumer</td>\n",
              "      <td id=\"T_c65ce_row1_col1\" class=\"data row1 col1\" >South</td>\n",
              "      <td id=\"T_c65ce_row1_col2\" class=\"data row1 col2\" >Technology</td>\n",
              "      <td id=\"T_c65ce_row1_col3\" class=\"data row1 col3\" >65276.15</td>\n",
              "    </tr>\n",
              "    <tr>\n",
              "      <td id=\"T_c65ce_row2_col0\" class=\"data row2 col0\" >Corporate</td>\n",
              "      <td id=\"T_c65ce_row2_col1\" class=\"data row2 col1\" >East</td>\n",
              "      <td id=\"T_c65ce_row2_col2\" class=\"data row2 col2\" >Technology</td>\n",
              "      <td id=\"T_c65ce_row2_col3\" class=\"data row2 col3\" >69725.58</td>\n",
              "    </tr>\n",
              "    <tr>\n",
              "      <td id=\"T_c65ce_row3_col0\" class=\"data row3 col0\" >Corporate</td>\n",
              "      <td id=\"T_c65ce_row3_col1\" class=\"data row3 col1\" >East</td>\n",
              "      <td id=\"T_c65ce_row3_col2\" class=\"data row3 col2\" >Office Supplies</td>\n",
              "      <td id=\"T_c65ce_row3_col3\" class=\"data row3 col3\" >66474.79</td>\n",
              "    </tr>\n",
              "    <tr>\n",
              "      <td id=\"T_c65ce_row4_col0\" class=\"data row4 col0\" >Consumer</td>\n",
              "      <td id=\"T_c65ce_row4_col1\" class=\"data row4 col1\" >East</td>\n",
              "      <td id=\"T_c65ce_row4_col2\" class=\"data row4 col2\" >Furniture</td>\n",
              "      <td id=\"T_c65ce_row4_col3\" class=\"data row4 col3\" >114211.77</td>\n",
              "    </tr>\n",
              "    <tr>\n",
              "      <td id=\"T_c65ce_row5_col0\" class=\"data row5 col0\" >Consumer</td>\n",
              "      <td id=\"T_c65ce_row5_col1\" class=\"data row5 col1\" >West</td>\n",
              "      <td id=\"T_c65ce_row5_col2\" class=\"data row5 col2\" >Furniture</td>\n",
              "      <td id=\"T_c65ce_row5_col3\" class=\"data row5 col3\" >119808.16</td>\n",
              "    </tr>\n",
              "    <tr>\n",
              "      <td id=\"T_c65ce_row6_col0\" class=\"data row6 col0\" >Home Office</td>\n",
              "      <td id=\"T_c65ce_row6_col1\" class=\"data row6 col1\" >West</td>\n",
              "      <td id=\"T_c65ce_row6_col2\" class=\"data row6 col2\" >Furniture</td>\n",
              "      <td id=\"T_c65ce_row6_col3\" class=\"data row6 col3\" >49724.57</td>\n",
              "    </tr>\n",
              "    <tr>\n",
              "      <td id=\"T_c65ce_row7_col0\" class=\"data row7 col0\" >Corporate</td>\n",
              "      <td id=\"T_c65ce_row7_col1\" class=\"data row7 col1\" >South</td>\n",
              "      <td id=\"T_c65ce_row7_col2\" class=\"data row7 col2\" >Technology</td>\n",
              "      <td id=\"T_c65ce_row7_col3\" class=\"data row7 col3\" >46310.75</td>\n",
              "    </tr>\n",
              "    <tr>\n",
              "      <td id=\"T_c65ce_row8_col0\" class=\"data row8 col0\" >Home Office</td>\n",
              "      <td id=\"T_c65ce_row8_col1\" class=\"data row8 col1\" >East</td>\n",
              "      <td id=\"T_c65ce_row8_col2\" class=\"data row8 col2\" >Furniture</td>\n",
              "      <td id=\"T_c65ce_row8_col3\" class=\"data row8 col3\" >29870.32</td>\n",
              "    </tr>\n",
              "    <tr>\n",
              "      <td id=\"T_c65ce_row9_col0\" class=\"data row9 col0\" >Consumer</td>\n",
              "      <td id=\"T_c65ce_row9_col1\" class=\"data row9 col1\" >Central</td>\n",
              "      <td id=\"T_c65ce_row9_col2\" class=\"data row9 col2\" >Office Supplies</td>\n",
              "      <td id=\"T_c65ce_row9_col3\" class=\"data row9 col3\" >93111.40</td>\n",
              "    </tr>\n",
              "    <tr>\n",
              "      <td id=\"T_c65ce_row10_col0\" class=\"data row10 col0\" >Home Office</td>\n",
              "      <td id=\"T_c65ce_row10_col1\" class=\"data row10 col1\" >Central</td>\n",
              "      <td id=\"T_c65ce_row10_col2\" class=\"data row10 col2\" >Office Supplies</td>\n",
              "      <td id=\"T_c65ce_row10_col3\" class=\"data row10 col3\" >32777.22</td>\n",
              "    </tr>\n",
              "    <tr>\n",
              "      <td id=\"T_c65ce_row11_col0\" class=\"data row11 col0\" >Consumer</td>\n",
              "      <td id=\"T_c65ce_row11_col1\" class=\"data row11 col1\" >South</td>\n",
              "      <td id=\"T_c65ce_row11_col2\" class=\"data row11 col2\" >Furniture</td>\n",
              "      <td id=\"T_c65ce_row11_col3\" class=\"data row11 col3\" >70800.22</td>\n",
              "    </tr>\n",
              "    <tr>\n",
              "      <td id=\"T_c65ce_row12_col0\" class=\"data row12 col0\" >Consumer</td>\n",
              "      <td id=\"T_c65ce_row12_col1\" class=\"data row12 col1\" >South</td>\n",
              "      <td id=\"T_c65ce_row12_col2\" class=\"data row12 col2\" >Office Supplies</td>\n",
              "      <td id=\"T_c65ce_row12_col3\" class=\"data row12 col3\" >59504.55</td>\n",
              "    </tr>\n",
              "    <tr>\n",
              "      <td id=\"T_c65ce_row13_col0\" class=\"data row13 col0\" >Corporate</td>\n",
              "      <td id=\"T_c65ce_row13_col1\" class=\"data row13 col1\" >South</td>\n",
              "      <td id=\"T_c65ce_row13_col2\" class=\"data row13 col2\" >Furniture</td>\n",
              "      <td id=\"T_c65ce_row13_col3\" class=\"data row13 col3\" >29645.01</td>\n",
              "    </tr>\n",
              "    <tr>\n",
              "      <td id=\"T_c65ce_row14_col0\" class=\"data row14 col0\" >Consumer</td>\n",
              "      <td id=\"T_c65ce_row14_col1\" class=\"data row14 col1\" >East</td>\n",
              "      <td id=\"T_c65ce_row14_col2\" class=\"data row14 col2\" >Office Supplies</td>\n",
              "      <td id=\"T_c65ce_row14_col3\" class=\"data row14 col3\" >101255.11</td>\n",
              "    </tr>\n",
              "    <tr>\n",
              "      <td id=\"T_c65ce_row15_col0\" class=\"data row15 col0\" >Consumer</td>\n",
              "      <td id=\"T_c65ce_row15_col1\" class=\"data row15 col1\" >West</td>\n",
              "      <td id=\"T_c65ce_row15_col2\" class=\"data row15 col2\" >Office Supplies</td>\n",
              "      <td id=\"T_c65ce_row15_col3\" class=\"data row15 col3\" >110080.90</td>\n",
              "    </tr>\n",
              "    <tr>\n",
              "      <td id=\"T_c65ce_row16_col0\" class=\"data row16 col0\" >Consumer</td>\n",
              "      <td id=\"T_c65ce_row16_col1\" class=\"data row16 col1\" >Central</td>\n",
              "      <td id=\"T_c65ce_row16_col2\" class=\"data row16 col2\" >Technology</td>\n",
              "      <td id=\"T_c65ce_row16_col3\" class=\"data row16 col3\" >72690.75</td>\n",
              "    </tr>\n",
              "    <tr>\n",
              "      <td id=\"T_c65ce_row17_col0\" class=\"data row17 col0\" >Home Office</td>\n",
              "      <td id=\"T_c65ce_row17_col1\" class=\"data row17 col1\" >Central</td>\n",
              "      <td id=\"T_c65ce_row17_col2\" class=\"data row17 col2\" >Furniture</td>\n",
              "      <td id=\"T_c65ce_row17_col3\" class=\"data row17 col3\" >25482.38</td>\n",
              "    </tr>\n",
              "    <tr>\n",
              "      <td id=\"T_c65ce_row18_col0\" class=\"data row18 col0\" >Home Office</td>\n",
              "      <td id=\"T_c65ce_row18_col1\" class=\"data row18 col1\" >West</td>\n",
              "      <td id=\"T_c65ce_row18_col2\" class=\"data row18 col2\" >Office Supplies</td>\n",
              "      <td id=\"T_c65ce_row18_col3\" class=\"data row18 col3\" >33638.50</td>\n",
              "    </tr>\n",
              "    <tr>\n",
              "      <td id=\"T_c65ce_row19_col0\" class=\"data row19 col0\" >Home Office</td>\n",
              "      <td id=\"T_c65ce_row19_col1\" class=\"data row19 col1\" >South</td>\n",
              "      <td id=\"T_c65ce_row19_col2\" class=\"data row19 col2\" >Technology</td>\n",
              "      <td id=\"T_c65ce_row19_col3\" class=\"data row19 col3\" >37185.01</td>\n",
              "    </tr>\n",
              "    <tr>\n",
              "      <td id=\"T_c65ce_row20_col0\" class=\"data row20 col0\" >Home Office</td>\n",
              "      <td id=\"T_c65ce_row20_col1\" class=\"data row20 col1\" >West</td>\n",
              "      <td id=\"T_c65ce_row20_col2\" class=\"data row20 col2\" >Technology</td>\n",
              "      <td id=\"T_c65ce_row20_col3\" class=\"data row20 col3\" >53358.79</td>\n",
              "    </tr>\n",
              "    <tr>\n",
              "      <td id=\"T_c65ce_row21_col0\" class=\"data row21 col0\" >Corporate</td>\n",
              "      <td id=\"T_c65ce_row21_col1\" class=\"data row21 col1\" >West</td>\n",
              "      <td id=\"T_c65ce_row21_col2\" class=\"data row21 col2\" >Office Supplies</td>\n",
              "      <td id=\"T_c65ce_row21_col3\" class=\"data row21 col3\" >77133.80</td>\n",
              "    </tr>\n",
              "    <tr>\n",
              "      <td id=\"T_c65ce_row22_col0\" class=\"data row22 col0\" >Home Office</td>\n",
              "      <td id=\"T_c65ce_row22_col1\" class=\"data row22 col1\" >East</td>\n",
              "      <td id=\"T_c65ce_row22_col2\" class=\"data row22 col2\" >Technology</td>\n",
              "      <td id=\"T_c65ce_row22_col3\" class=\"data row22 col3\" >59807.17</td>\n",
              "    </tr>\n",
              "    <tr>\n",
              "      <td id=\"T_c65ce_row23_col0\" class=\"data row23 col0\" >Corporate</td>\n",
              "      <td id=\"T_c65ce_row23_col1\" class=\"data row23 col1\" >Central</td>\n",
              "      <td id=\"T_c65ce_row23_col2\" class=\"data row23 col2\" >Technology</td>\n",
              "      <td id=\"T_c65ce_row23_col3\" class=\"data row23 col3\" >64772.48</td>\n",
              "    </tr>\n",
              "    <tr>\n",
              "      <td id=\"T_c65ce_row24_col0\" class=\"data row24 col0\" >Consumer</td>\n",
              "      <td id=\"T_c65ce_row24_col1\" class=\"data row24 col1\" >East</td>\n",
              "      <td id=\"T_c65ce_row24_col2\" class=\"data row24 col2\" >Technology</td>\n",
              "      <td id=\"T_c65ce_row24_col3\" class=\"data row24 col3\" >135441.29</td>\n",
              "    </tr>\n",
              "    <tr>\n",
              "      <td id=\"T_c65ce_row25_col0\" class=\"data row25 col0\" >Corporate</td>\n",
              "      <td id=\"T_c65ce_row25_col1\" class=\"data row25 col1\" >Central</td>\n",
              "      <td id=\"T_c65ce_row25_col2\" class=\"data row25 col2\" >Office Supplies</td>\n",
              "      <td id=\"T_c65ce_row25_col3\" class=\"data row25 col3\" >41137.71</td>\n",
              "    </tr>\n",
              "    <tr>\n",
              "      <td id=\"T_c65ce_row26_col0\" class=\"data row26 col0\" >Home Office</td>\n",
              "      <td id=\"T_c65ce_row26_col1\" class=\"data row26 col1\" >South</td>\n",
              "      <td id=\"T_c65ce_row26_col2\" class=\"data row26 col2\" >Furniture</td>\n",
              "      <td id=\"T_c65ce_row26_col3\" class=\"data row26 col3\" >16853.45</td>\n",
              "    </tr>\n",
              "    <tr>\n",
              "      <td id=\"T_c65ce_row27_col0\" class=\"data row27 col0\" >Corporate</td>\n",
              "      <td id=\"T_c65ce_row27_col1\" class=\"data row27 col1\" >West</td>\n",
              "      <td id=\"T_c65ce_row27_col2\" class=\"data row27 col2\" >Furniture</td>\n",
              "      <td id=\"T_c65ce_row27_col3\" class=\"data row27 col3\" >83080.14</td>\n",
              "    </tr>\n",
              "    <tr>\n",
              "      <td id=\"T_c65ce_row28_col0\" class=\"data row28 col0\" >Home Office</td>\n",
              "      <td id=\"T_c65ce_row28_col1\" class=\"data row28 col1\" >South</td>\n",
              "      <td id=\"T_c65ce_row28_col2\" class=\"data row28 col2\" >Office Supplies</td>\n",
              "      <td id=\"T_c65ce_row28_col3\" class=\"data row28 col3\" >20216.57</td>\n",
              "    </tr>\n",
              "    <tr>\n",
              "      <td id=\"T_c65ce_row29_col0\" class=\"data row29 col0\" >Consumer</td>\n",
              "      <td id=\"T_c65ce_row29_col1\" class=\"data row29 col1\" >West</td>\n",
              "      <td id=\"T_c65ce_row29_col2\" class=\"data row29 col2\" >Technology</td>\n",
              "      <td id=\"T_c65ce_row29_col3\" class=\"data row29 col3\" >132991.76</td>\n",
              "    </tr>\n",
              "    <tr>\n",
              "      <td id=\"T_c65ce_row30_col0\" class=\"data row30 col0\" >Home Office</td>\n",
              "      <td id=\"T_c65ce_row30_col1\" class=\"data row30 col1\" >Central</td>\n",
              "      <td id=\"T_c65ce_row30_col2\" class=\"data row30 col2\" >Technology</td>\n",
              "      <td id=\"T_c65ce_row30_col3\" class=\"data row30 col3\" >32953.06</td>\n",
              "    </tr>\n",
              "    <tr>\n",
              "      <td id=\"T_c65ce_row31_col0\" class=\"data row31 col0\" >Corporate</td>\n",
              "      <td id=\"T_c65ce_row31_col1\" class=\"data row31 col1\" >West</td>\n",
              "      <td id=\"T_c65ce_row31_col2\" class=\"data row31 col2\" >Technology</td>\n",
              "      <td id=\"T_c65ce_row31_col3\" class=\"data row31 col3\" >65641.31</td>\n",
              "    </tr>\n",
              "    <tr>\n",
              "      <td id=\"T_c65ce_row32_col0\" class=\"data row32 col0\" >Home Office</td>\n",
              "      <td id=\"T_c65ce_row32_col1\" class=\"data row32 col1\" >East</td>\n",
              "      <td id=\"T_c65ce_row32_col2\" class=\"data row32 col2\" >Office Supplies</td>\n",
              "      <td id=\"T_c65ce_row32_col3\" class=\"data row32 col3\" >37786.25</td>\n",
              "    </tr>\n",
              "    <tr>\n",
              "      <td id=\"T_c65ce_row33_col0\" class=\"data row33 col0\" >Corporate</td>\n",
              "      <td id=\"T_c65ce_row33_col1\" class=\"data row33 col1\" >East</td>\n",
              "      <td id=\"T_c65ce_row33_col2\" class=\"data row33 col2\" >Furniture</td>\n",
              "      <td id=\"T_c65ce_row33_col3\" class=\"data row33 col3\" >64209.08</td>\n",
              "    </tr>\n",
              "    <tr>\n",
              "      <td id=\"T_c65ce_row34_col0\" class=\"data row34 col0\" >Corporate</td>\n",
              "      <td id=\"T_c65ce_row34_col1\" class=\"data row34 col1\" >Central</td>\n",
              "      <td id=\"T_c65ce_row34_col2\" class=\"data row34 col2\" >Furniture</td>\n",
              "      <td id=\"T_c65ce_row34_col3\" class=\"data row34 col3\" >52085.60</td>\n",
              "    </tr>\n",
              "    <tr>\n",
              "      <td id=\"T_c65ce_row35_col0\" class=\"data row35 col0\" >Consumer</td>\n",
              "      <td id=\"T_c65ce_row35_col1\" class=\"data row35 col1\" >Central</td>\n",
              "      <td id=\"T_c65ce_row35_col2\" class=\"data row35 col2\" >Furniture</td>\n",
              "      <td id=\"T_c65ce_row35_col3\" class=\"data row35 col3\" >86229.28</td>\n",
              "    </tr>\n",
              "  </tbody>\n",
              "</table>\n"
            ]
          },
          "metadata": {},
          "execution_count": 13
        }
      ]
    },
    {
      "cell_type": "code",
      "source": [
        "sql = \"\\\n",
        "SELECT segment, region, SUM (sales) sales \\\n",
        "FROM ss_order \\\n",
        "GROUP BY segment, region; \\\n",
        "\"\n",
        "runSelect(sql)"
      ],
      "metadata": {
        "colab": {
          "base_uri": "https://localhost:8080/",
          "height": 426
        },
        "id": "2MQW7ubvR5uQ",
        "outputId": "3d15ff7c-ea59-471a-8aed-3b72fbfb9b42"
      },
      "execution_count": 14,
      "outputs": [
        {
          "output_type": "execute_result",
          "data": {
            "text/plain": [
              "<pandas.io.formats.style.Styler at 0x7b34dc2e7070>"
            ],
            "text/html": [
              "<style type=\"text/css\">\n",
              "</style>\n",
              "<table id=\"T_4981f\" class=\"dataframe\">\n",
              "  <thead>\n",
              "    <tr>\n",
              "      <th id=\"T_4981f_level0_col0\" class=\"col_heading level0 col0\" >segment</th>\n",
              "      <th id=\"T_4981f_level0_col1\" class=\"col_heading level0 col1\" >region</th>\n",
              "      <th id=\"T_4981f_level0_col2\" class=\"col_heading level0 col2\" >sales</th>\n",
              "    </tr>\n",
              "  </thead>\n",
              "  <tbody>\n",
              "    <tr>\n",
              "      <td id=\"T_4981f_row0_col0\" class=\"data row0 col0\" >Home Office</td>\n",
              "      <td id=\"T_4981f_row0_col1\" class=\"data row0 col1\" >Central</td>\n",
              "      <td id=\"T_4981f_row0_col2\" class=\"data row0 col2\" >91212.66</td>\n",
              "    </tr>\n",
              "    <tr>\n",
              "      <td id=\"T_4981f_row1_col0\" class=\"data row1 col0\" >Corporate</td>\n",
              "      <td id=\"T_4981f_row1_col1\" class=\"data row1 col1\" >West</td>\n",
              "      <td id=\"T_4981f_row1_col2\" class=\"data row1 col2\" >225855.25</td>\n",
              "    </tr>\n",
              "    <tr>\n",
              "      <td id=\"T_4981f_row2_col0\" class=\"data row2 col0\" >Home Office</td>\n",
              "      <td id=\"T_4981f_row2_col1\" class=\"data row2 col1\" >South</td>\n",
              "      <td id=\"T_4981f_row2_col2\" class=\"data row2 col2\" >74255.03</td>\n",
              "    </tr>\n",
              "    <tr>\n",
              "      <td id=\"T_4981f_row3_col0\" class=\"data row3 col0\" >Consumer</td>\n",
              "      <td id=\"T_4981f_row3_col1\" class=\"data row3 col1\" >Central</td>\n",
              "      <td id=\"T_4981f_row3_col2\" class=\"data row3 col2\" >252031.43</td>\n",
              "    </tr>\n",
              "    <tr>\n",
              "      <td id=\"T_4981f_row4_col0\" class=\"data row4 col0\" >Home Office</td>\n",
              "      <td id=\"T_4981f_row4_col1\" class=\"data row4 col1\" >West</td>\n",
              "      <td id=\"T_4981f_row4_col2\" class=\"data row4 col2\" >136721.86</td>\n",
              "    </tr>\n",
              "    <tr>\n",
              "      <td id=\"T_4981f_row5_col0\" class=\"data row5 col0\" >Corporate</td>\n",
              "      <td id=\"T_4981f_row5_col1\" class=\"data row5 col1\" >South</td>\n",
              "      <td id=\"T_4981f_row5_col2\" class=\"data row5 col2\" >121885.95</td>\n",
              "    </tr>\n",
              "    <tr>\n",
              "      <td id=\"T_4981f_row6_col0\" class=\"data row6 col0\" >Consumer</td>\n",
              "      <td id=\"T_4981f_row6_col1\" class=\"data row6 col1\" >South</td>\n",
              "      <td id=\"T_4981f_row6_col2\" class=\"data row6 col2\" >195580.92</td>\n",
              "    </tr>\n",
              "    <tr>\n",
              "      <td id=\"T_4981f_row7_col0\" class=\"data row7 col0\" >Corporate</td>\n",
              "      <td id=\"T_4981f_row7_col1\" class=\"data row7 col1\" >Central</td>\n",
              "      <td id=\"T_4981f_row7_col2\" class=\"data row7 col2\" >157995.79</td>\n",
              "    </tr>\n",
              "    <tr>\n",
              "      <td id=\"T_4981f_row8_col0\" class=\"data row8 col0\" >Consumer</td>\n",
              "      <td id=\"T_4981f_row8_col1\" class=\"data row8 col1\" >West</td>\n",
              "      <td id=\"T_4981f_row8_col2\" class=\"data row8 col2\" >362880.82</td>\n",
              "    </tr>\n",
              "    <tr>\n",
              "      <td id=\"T_4981f_row9_col0\" class=\"data row9 col0\" >Consumer</td>\n",
              "      <td id=\"T_4981f_row9_col1\" class=\"data row9 col1\" >East</td>\n",
              "      <td id=\"T_4981f_row9_col2\" class=\"data row9 col2\" >350908.17</td>\n",
              "    </tr>\n",
              "    <tr>\n",
              "      <td id=\"T_4981f_row10_col0\" class=\"data row10 col0\" >Corporate</td>\n",
              "      <td id=\"T_4981f_row10_col1\" class=\"data row10 col1\" >East</td>\n",
              "      <td id=\"T_4981f_row10_col2\" class=\"data row10 col2\" >200409.45</td>\n",
              "    </tr>\n",
              "    <tr>\n",
              "      <td id=\"T_4981f_row11_col0\" class=\"data row11 col0\" >Home Office</td>\n",
              "      <td id=\"T_4981f_row11_col1\" class=\"data row11 col1\" >East</td>\n",
              "      <td id=\"T_4981f_row11_col2\" class=\"data row11 col2\" >127463.74</td>\n",
              "    </tr>\n",
              "  </tbody>\n",
              "</table>\n"
            ]
          },
          "metadata": {},
          "execution_count": 14
        }
      ]
    },
    {
      "cell_type": "code",
      "source": [
        "sql = \"\\\n",
        "SELECT segment, SUM (sales) sales \\\n",
        "FROM ss_order \\\n",
        "GROUP BY segment; \\\n",
        "\"\n",
        "runSelect(sql)"
      ],
      "metadata": {
        "colab": {
          "base_uri": "https://localhost:8080/",
          "height": 143
        },
        "id": "Q6j_yaK1SMix",
        "outputId": "1a3e790a-5aea-4973-f58a-54750626decc"
      },
      "execution_count": 15,
      "outputs": [
        {
          "output_type": "execute_result",
          "data": {
            "text/plain": [
              "<pandas.io.formats.style.Styler at 0x7b34dc31f400>"
            ],
            "text/html": [
              "<style type=\"text/css\">\n",
              "</style>\n",
              "<table id=\"T_0dc42\" class=\"dataframe\">\n",
              "  <thead>\n",
              "    <tr>\n",
              "      <th id=\"T_0dc42_level0_col0\" class=\"col_heading level0 col0\" >segment</th>\n",
              "      <th id=\"T_0dc42_level0_col1\" class=\"col_heading level0 col1\" >sales</th>\n",
              "    </tr>\n",
              "  </thead>\n",
              "  <tbody>\n",
              "    <tr>\n",
              "      <td id=\"T_0dc42_row0_col0\" class=\"data row0 col0\" >Consumer</td>\n",
              "      <td id=\"T_0dc42_row0_col1\" class=\"data row0 col1\" >1161401.34</td>\n",
              "    </tr>\n",
              "    <tr>\n",
              "      <td id=\"T_0dc42_row1_col0\" class=\"data row1 col0\" >Corporate</td>\n",
              "      <td id=\"T_0dc42_row1_col1\" class=\"data row1 col1\" >706146.44</td>\n",
              "    </tr>\n",
              "    <tr>\n",
              "      <td id=\"T_0dc42_row2_col0\" class=\"data row2 col0\" >Home Office</td>\n",
              "      <td id=\"T_0dc42_row2_col1\" class=\"data row2 col1\" >429653.29</td>\n",
              "    </tr>\n",
              "  </tbody>\n",
              "</table>\n"
            ]
          },
          "metadata": {},
          "execution_count": 15
        }
      ]
    },
    {
      "cell_type": "code",
      "source": [
        "sql = \"\\\n",
        "SELECT  SUM (sales) sales \\\n",
        "FROM ss_order  \\\n",
        "\"\n",
        "runSelect(sql)"
      ],
      "metadata": {
        "colab": {
          "base_uri": "https://localhost:8080/",
          "height": 81
        },
        "id": "mw9f835kSbDm",
        "outputId": "f82302c5-53b1-4f96-8a3d-5ab2dd41978e"
      },
      "execution_count": 16,
      "outputs": [
        {
          "output_type": "execute_result",
          "data": {
            "text/plain": [
              "<pandas.io.formats.style.Styler at 0x7b349cfadc90>"
            ],
            "text/html": [
              "<style type=\"text/css\">\n",
              "</style>\n",
              "<table id=\"T_bc902\" class=\"dataframe\">\n",
              "  <thead>\n",
              "    <tr>\n",
              "      <th id=\"T_bc902_level0_col0\" class=\"col_heading level0 col0\" >sales</th>\n",
              "    </tr>\n",
              "  </thead>\n",
              "  <tbody>\n",
              "    <tr>\n",
              "      <td id=\"T_bc902_row0_col0\" class=\"data row0 col0\" >2297201.07</td>\n",
              "    </tr>\n",
              "  </tbody>\n",
              "</table>\n"
            ]
          },
          "metadata": {},
          "execution_count": 16
        }
      ]
    },
    {
      "cell_type": "markdown",
      "source": [
        "#Roll Up"
      ],
      "metadata": {
        "id": "Rz_IAtUVUoZH"
      }
    },
    {
      "cell_type": "markdown",
      "source": [
        "## Basic Roll up"
      ],
      "metadata": {
        "id": "4Dk4PQ_zUq7C"
      }
    },
    {
      "cell_type": "code",
      "source": [
        "sql = \"\\\n",
        "SELECT category, SUM(quantity) \\\n",
        "FROM ss_order \\\n",
        "GROUP BY ROLLUP (category); \\\n",
        "\"\n",
        "runSelect(sql)"
      ],
      "metadata": {
        "colab": {
          "base_uri": "https://localhost:8080/",
          "height": 175
        },
        "id": "Hrno21rZUwSU",
        "outputId": "2aa003c7-fa99-45b5-e468-0c585e088015"
      },
      "execution_count": null,
      "outputs": [
        {
          "output_type": "execute_result",
          "data": {
            "text/plain": [
              "<pandas.io.formats.style.Styler at 0x7b4da6a757e0>"
            ],
            "text/html": [
              "<style type=\"text/css\">\n",
              "</style>\n",
              "<table id=\"T_2fc56\" class=\"dataframe\">\n",
              "  <thead>\n",
              "    <tr>\n",
              "      <th id=\"T_2fc56_level0_col0\" class=\"col_heading level0 col0\" >category</th>\n",
              "      <th id=\"T_2fc56_level0_col1\" class=\"col_heading level0 col1\" >sum</th>\n",
              "    </tr>\n",
              "  </thead>\n",
              "  <tbody>\n",
              "    <tr>\n",
              "      <td id=\"T_2fc56_row0_col0\" class=\"data row0 col0\" >None</td>\n",
              "      <td id=\"T_2fc56_row0_col1\" class=\"data row0 col1\" >37873</td>\n",
              "    </tr>\n",
              "    <tr>\n",
              "      <td id=\"T_2fc56_row1_col0\" class=\"data row1 col0\" >Furniture</td>\n",
              "      <td id=\"T_2fc56_row1_col1\" class=\"data row1 col1\" >8028</td>\n",
              "    </tr>\n",
              "    <tr>\n",
              "      <td id=\"T_2fc56_row2_col0\" class=\"data row2 col0\" >Office Supplies</td>\n",
              "      <td id=\"T_2fc56_row2_col1\" class=\"data row2 col1\" >22906</td>\n",
              "    </tr>\n",
              "    <tr>\n",
              "      <td id=\"T_2fc56_row3_col0\" class=\"data row3 col0\" >Technology</td>\n",
              "      <td id=\"T_2fc56_row3_col1\" class=\"data row3 col1\" >6939</td>\n",
              "    </tr>\n",
              "  </tbody>\n",
              "</table>\n"
            ]
          },
          "metadata": {},
          "execution_count": 19
        }
      ]
    },
    {
      "cell_type": "code",
      "source": [
        "sql = \"\\\n",
        "SELECT COALESCE(category, 'All category') AS category, \\\n",
        " SUM(quantity) \\\n",
        "FROM ss_order \\\n",
        "GROUP BY ROLLUP (category); \\\n",
        "\"\n",
        "runSelect(sql)"
      ],
      "metadata": {
        "colab": {
          "base_uri": "https://localhost:8080/",
          "height": 175
        },
        "id": "YLUB11HRVN-q",
        "outputId": "37ed2639-c4ef-4360-a0e7-d47db1147187"
      },
      "execution_count": null,
      "outputs": [
        {
          "output_type": "execute_result",
          "data": {
            "text/plain": [
              "<pandas.io.formats.style.Styler at 0x7b4da6a75480>"
            ],
            "text/html": [
              "<style type=\"text/css\">\n",
              "</style>\n",
              "<table id=\"T_6c2d2\" class=\"dataframe\">\n",
              "  <thead>\n",
              "    <tr>\n",
              "      <th id=\"T_6c2d2_level0_col0\" class=\"col_heading level0 col0\" >category</th>\n",
              "      <th id=\"T_6c2d2_level0_col1\" class=\"col_heading level0 col1\" >sum</th>\n",
              "    </tr>\n",
              "  </thead>\n",
              "  <tbody>\n",
              "    <tr>\n",
              "      <td id=\"T_6c2d2_row0_col0\" class=\"data row0 col0\" >All category</td>\n",
              "      <td id=\"T_6c2d2_row0_col1\" class=\"data row0 col1\" >37873</td>\n",
              "    </tr>\n",
              "    <tr>\n",
              "      <td id=\"T_6c2d2_row1_col0\" class=\"data row1 col0\" >Furniture</td>\n",
              "      <td id=\"T_6c2d2_row1_col1\" class=\"data row1 col1\" >8028</td>\n",
              "    </tr>\n",
              "    <tr>\n",
              "      <td id=\"T_6c2d2_row2_col0\" class=\"data row2 col0\" >Office Supplies</td>\n",
              "      <td id=\"T_6c2d2_row2_col1\" class=\"data row2 col1\" >22906</td>\n",
              "    </tr>\n",
              "    <tr>\n",
              "      <td id=\"T_6c2d2_row3_col0\" class=\"data row3 col0\" >Technology</td>\n",
              "      <td id=\"T_6c2d2_row3_col1\" class=\"data row3 col1\" >6939</td>\n",
              "    </tr>\n",
              "  </tbody>\n",
              "</table>\n"
            ]
          },
          "metadata": {},
          "execution_count": 20
        }
      ]
    },
    {
      "cell_type": "markdown",
      "source": [
        "## MultiColumn Roll Up"
      ],
      "metadata": {
        "id": "FplOTMuSVh_6"
      }
    },
    {
      "cell_type": "code",
      "source": [
        " sql = \"\\\n",
        "SELECT category, segment, SUM(quantity) quantity \\\n",
        "FROM ss_order \\\n",
        "GROUP BY ROLLUP (category , segment); \\\n",
        "\"\n",
        "runSelect(sql)"
      ],
      "metadata": {
        "colab": {
          "base_uri": "https://localhost:8080/",
          "height": 457
        },
        "id": "f-j0fOaHVm53",
        "outputId": "52585a72-e47b-4385-e48c-82894719337f"
      },
      "execution_count": null,
      "outputs": [
        {
          "output_type": "execute_result",
          "data": {
            "text/plain": [
              "<pandas.io.formats.style.Styler at 0x7b4da6a75d80>"
            ],
            "text/html": [
              "<style type=\"text/css\">\n",
              "</style>\n",
              "<table id=\"T_10b52\" class=\"dataframe\">\n",
              "  <thead>\n",
              "    <tr>\n",
              "      <th id=\"T_10b52_level0_col0\" class=\"col_heading level0 col0\" >category</th>\n",
              "      <th id=\"T_10b52_level0_col1\" class=\"col_heading level0 col1\" >segment</th>\n",
              "      <th id=\"T_10b52_level0_col2\" class=\"col_heading level0 col2\" >quantity</th>\n",
              "    </tr>\n",
              "  </thead>\n",
              "  <tbody>\n",
              "    <tr>\n",
              "      <td id=\"T_10b52_row0_col0\" class=\"data row0 col0\" >None</td>\n",
              "      <td id=\"T_10b52_row0_col1\" class=\"data row0 col1\" >None</td>\n",
              "      <td id=\"T_10b52_row0_col2\" class=\"data row0 col2\" >37873</td>\n",
              "    </tr>\n",
              "    <tr>\n",
              "      <td id=\"T_10b52_row1_col0\" class=\"data row1 col0\" >Office Supplies</td>\n",
              "      <td id=\"T_10b52_row1_col1\" class=\"data row1 col1\" >Corporate</td>\n",
              "      <td id=\"T_10b52_row1_col2\" class=\"data row1 col2\" >7018</td>\n",
              "    </tr>\n",
              "    <tr>\n",
              "      <td id=\"T_10b52_row2_col0\" class=\"data row2 col0\" >Furniture</td>\n",
              "      <td id=\"T_10b52_row2_col1\" class=\"data row2 col1\" >Corporate</td>\n",
              "      <td id=\"T_10b52_row2_col2\" class=\"data row2 col2\" >2495</td>\n",
              "    </tr>\n",
              "    <tr>\n",
              "      <td id=\"T_10b52_row3_col0\" class=\"data row3 col0\" >Office Supplies</td>\n",
              "      <td id=\"T_10b52_row3_col1\" class=\"data row3 col1\" >Home Office</td>\n",
              "      <td id=\"T_10b52_row3_col2\" class=\"data row3 col2\" >4130</td>\n",
              "    </tr>\n",
              "    <tr>\n",
              "      <td id=\"T_10b52_row4_col0\" class=\"data row4 col0\" >Technology</td>\n",
              "      <td id=\"T_10b52_row4_col1\" class=\"data row4 col1\" >Consumer</td>\n",
              "      <td id=\"T_10b52_row4_col2\" class=\"data row4 col2\" >3597</td>\n",
              "    </tr>\n",
              "    <tr>\n",
              "      <td id=\"T_10b52_row5_col0\" class=\"data row5 col0\" >Technology</td>\n",
              "      <td id=\"T_10b52_row5_col1\" class=\"data row5 col1\" >Corporate</td>\n",
              "      <td id=\"T_10b52_row5_col2\" class=\"data row5 col2\" >2095</td>\n",
              "    </tr>\n",
              "    <tr>\n",
              "      <td id=\"T_10b52_row6_col0\" class=\"data row6 col0\" >Office Supplies</td>\n",
              "      <td id=\"T_10b52_row6_col1\" class=\"data row6 col1\" >Consumer</td>\n",
              "      <td id=\"T_10b52_row6_col2\" class=\"data row6 col2\" >11758</td>\n",
              "    </tr>\n",
              "    <tr>\n",
              "      <td id=\"T_10b52_row7_col0\" class=\"data row7 col0\" >Technology</td>\n",
              "      <td id=\"T_10b52_row7_col1\" class=\"data row7 col1\" >Home Office</td>\n",
              "      <td id=\"T_10b52_row7_col2\" class=\"data row7 col2\" >1247</td>\n",
              "    </tr>\n",
              "    <tr>\n",
              "      <td id=\"T_10b52_row8_col0\" class=\"data row8 col0\" >Furniture</td>\n",
              "      <td id=\"T_10b52_row8_col1\" class=\"data row8 col1\" >Home Office</td>\n",
              "      <td id=\"T_10b52_row8_col2\" class=\"data row8 col2\" >1367</td>\n",
              "    </tr>\n",
              "    <tr>\n",
              "      <td id=\"T_10b52_row9_col0\" class=\"data row9 col0\" >Furniture</td>\n",
              "      <td id=\"T_10b52_row9_col1\" class=\"data row9 col1\" >Consumer</td>\n",
              "      <td id=\"T_10b52_row9_col2\" class=\"data row9 col2\" >4166</td>\n",
              "    </tr>\n",
              "    <tr>\n",
              "      <td id=\"T_10b52_row10_col0\" class=\"data row10 col0\" >Furniture</td>\n",
              "      <td id=\"T_10b52_row10_col1\" class=\"data row10 col1\" >None</td>\n",
              "      <td id=\"T_10b52_row10_col2\" class=\"data row10 col2\" >8028</td>\n",
              "    </tr>\n",
              "    <tr>\n",
              "      <td id=\"T_10b52_row11_col0\" class=\"data row11 col0\" >Office Supplies</td>\n",
              "      <td id=\"T_10b52_row11_col1\" class=\"data row11 col1\" >None</td>\n",
              "      <td id=\"T_10b52_row11_col2\" class=\"data row11 col2\" >22906</td>\n",
              "    </tr>\n",
              "    <tr>\n",
              "      <td id=\"T_10b52_row12_col0\" class=\"data row12 col0\" >Technology</td>\n",
              "      <td id=\"T_10b52_row12_col1\" class=\"data row12 col1\" >None</td>\n",
              "      <td id=\"T_10b52_row12_col2\" class=\"data row12 col2\" >6939</td>\n",
              "    </tr>\n",
              "  </tbody>\n",
              "</table>\n"
            ]
          },
          "metadata": {},
          "execution_count": 21
        }
      ]
    },
    {
      "cell_type": "code",
      "source": [
        "# note change in order of ROLLUP\n",
        "sql = \"\\\n",
        "SELECT category, segment, SUM(quantity) quantity \\\n",
        "FROM ss_order \\\n",
        "GROUP BY ROLLUP (segment , category); \\\n",
        "\"\n",
        "runSelect(sql)"
      ],
      "metadata": {
        "colab": {
          "base_uri": "https://localhost:8080/",
          "height": 457
        },
        "id": "VTXEU7EzWJ6N",
        "outputId": "0cc267ee-5cf2-4e78-9208-3ffc96513aed"
      },
      "execution_count": null,
      "outputs": [
        {
          "output_type": "execute_result",
          "data": {
            "text/plain": [
              "<pandas.io.formats.style.Styler at 0x7b4da6c37f10>"
            ],
            "text/html": [
              "<style type=\"text/css\">\n",
              "</style>\n",
              "<table id=\"T_98be1\" class=\"dataframe\">\n",
              "  <thead>\n",
              "    <tr>\n",
              "      <th id=\"T_98be1_level0_col0\" class=\"col_heading level0 col0\" >category</th>\n",
              "      <th id=\"T_98be1_level0_col1\" class=\"col_heading level0 col1\" >segment</th>\n",
              "      <th id=\"T_98be1_level0_col2\" class=\"col_heading level0 col2\" >quantity</th>\n",
              "    </tr>\n",
              "  </thead>\n",
              "  <tbody>\n",
              "    <tr>\n",
              "      <td id=\"T_98be1_row0_col0\" class=\"data row0 col0\" >None</td>\n",
              "      <td id=\"T_98be1_row0_col1\" class=\"data row0 col1\" >None</td>\n",
              "      <td id=\"T_98be1_row0_col2\" class=\"data row0 col2\" >37873</td>\n",
              "    </tr>\n",
              "    <tr>\n",
              "      <td id=\"T_98be1_row1_col0\" class=\"data row1 col0\" >Office Supplies</td>\n",
              "      <td id=\"T_98be1_row1_col1\" class=\"data row1 col1\" >Home Office</td>\n",
              "      <td id=\"T_98be1_row1_col2\" class=\"data row1 col2\" >4130</td>\n",
              "    </tr>\n",
              "    <tr>\n",
              "      <td id=\"T_98be1_row2_col0\" class=\"data row2 col0\" >Office Supplies</td>\n",
              "      <td id=\"T_98be1_row2_col1\" class=\"data row2 col1\" >Consumer</td>\n",
              "      <td id=\"T_98be1_row2_col2\" class=\"data row2 col2\" >11758</td>\n",
              "    </tr>\n",
              "    <tr>\n",
              "      <td id=\"T_98be1_row3_col0\" class=\"data row3 col0\" >Technology</td>\n",
              "      <td id=\"T_98be1_row3_col1\" class=\"data row3 col1\" >Corporate</td>\n",
              "      <td id=\"T_98be1_row3_col2\" class=\"data row3 col2\" >2095</td>\n",
              "    </tr>\n",
              "    <tr>\n",
              "      <td id=\"T_98be1_row4_col0\" class=\"data row4 col0\" >Office Supplies</td>\n",
              "      <td id=\"T_98be1_row4_col1\" class=\"data row4 col1\" >Corporate</td>\n",
              "      <td id=\"T_98be1_row4_col2\" class=\"data row4 col2\" >7018</td>\n",
              "    </tr>\n",
              "    <tr>\n",
              "      <td id=\"T_98be1_row5_col0\" class=\"data row5 col0\" >Furniture</td>\n",
              "      <td id=\"T_98be1_row5_col1\" class=\"data row5 col1\" >Home Office</td>\n",
              "      <td id=\"T_98be1_row5_col2\" class=\"data row5 col2\" >1367</td>\n",
              "    </tr>\n",
              "    <tr>\n",
              "      <td id=\"T_98be1_row6_col0\" class=\"data row6 col0\" >Technology</td>\n",
              "      <td id=\"T_98be1_row6_col1\" class=\"data row6 col1\" >Home Office</td>\n",
              "      <td id=\"T_98be1_row6_col2\" class=\"data row6 col2\" >1247</td>\n",
              "    </tr>\n",
              "    <tr>\n",
              "      <td id=\"T_98be1_row7_col0\" class=\"data row7 col0\" >Furniture</td>\n",
              "      <td id=\"T_98be1_row7_col1\" class=\"data row7 col1\" >Corporate</td>\n",
              "      <td id=\"T_98be1_row7_col2\" class=\"data row7 col2\" >2495</td>\n",
              "    </tr>\n",
              "    <tr>\n",
              "      <td id=\"T_98be1_row8_col0\" class=\"data row8 col0\" >Furniture</td>\n",
              "      <td id=\"T_98be1_row8_col1\" class=\"data row8 col1\" >Consumer</td>\n",
              "      <td id=\"T_98be1_row8_col2\" class=\"data row8 col2\" >4166</td>\n",
              "    </tr>\n",
              "    <tr>\n",
              "      <td id=\"T_98be1_row9_col0\" class=\"data row9 col0\" >Technology</td>\n",
              "      <td id=\"T_98be1_row9_col1\" class=\"data row9 col1\" >Consumer</td>\n",
              "      <td id=\"T_98be1_row9_col2\" class=\"data row9 col2\" >3597</td>\n",
              "    </tr>\n",
              "    <tr>\n",
              "      <td id=\"T_98be1_row10_col0\" class=\"data row10 col0\" >None</td>\n",
              "      <td id=\"T_98be1_row10_col1\" class=\"data row10 col1\" >Consumer</td>\n",
              "      <td id=\"T_98be1_row10_col2\" class=\"data row10 col2\" >19521</td>\n",
              "    </tr>\n",
              "    <tr>\n",
              "      <td id=\"T_98be1_row11_col0\" class=\"data row11 col0\" >None</td>\n",
              "      <td id=\"T_98be1_row11_col1\" class=\"data row11 col1\" >Corporate</td>\n",
              "      <td id=\"T_98be1_row11_col2\" class=\"data row11 col2\" >11608</td>\n",
              "    </tr>\n",
              "    <tr>\n",
              "      <td id=\"T_98be1_row12_col0\" class=\"data row12 col0\" >None</td>\n",
              "      <td id=\"T_98be1_row12_col1\" class=\"data row12 col1\" >Home Office</td>\n",
              "      <td id=\"T_98be1_row12_col2\" class=\"data row12 col2\" >6744</td>\n",
              "    </tr>\n",
              "  </tbody>\n",
              "</table>\n"
            ]
          },
          "metadata": {},
          "execution_count": 22
        }
      ]
    },
    {
      "cell_type": "code",
      "source": [
        "sql =\"\\\n",
        "SELECT COALESCE(category, 'All category') AS category, \\\n",
        " COALESCE(segment, 'All segment') AS segment, \\\n",
        " SUM(quantity) quantity \\\n",
        "FROM ss_order \\\n",
        "GROUP BY ROLLUP (segment , category); \\\n",
        "\"\n",
        "runSelect(sql)"
      ],
      "metadata": {
        "colab": {
          "base_uri": "https://localhost:8080/",
          "height": 457
        },
        "id": "0pq4JTUwWlmr",
        "outputId": "fb3ff5ac-23ea-4643-f290-ec9d78a3ac62"
      },
      "execution_count": null,
      "outputs": [
        {
          "output_type": "execute_result",
          "data": {
            "text/plain": [
              "<pandas.io.formats.style.Styler at 0x7b4da6c369e0>"
            ],
            "text/html": [
              "<style type=\"text/css\">\n",
              "</style>\n",
              "<table id=\"T_c8db6\" class=\"dataframe\">\n",
              "  <thead>\n",
              "    <tr>\n",
              "      <th id=\"T_c8db6_level0_col0\" class=\"col_heading level0 col0\" >category</th>\n",
              "      <th id=\"T_c8db6_level0_col1\" class=\"col_heading level0 col1\" >segment</th>\n",
              "      <th id=\"T_c8db6_level0_col2\" class=\"col_heading level0 col2\" >quantity</th>\n",
              "    </tr>\n",
              "  </thead>\n",
              "  <tbody>\n",
              "    <tr>\n",
              "      <td id=\"T_c8db6_row0_col0\" class=\"data row0 col0\" >All category</td>\n",
              "      <td id=\"T_c8db6_row0_col1\" class=\"data row0 col1\" >All segment</td>\n",
              "      <td id=\"T_c8db6_row0_col2\" class=\"data row0 col2\" >37873</td>\n",
              "    </tr>\n",
              "    <tr>\n",
              "      <td id=\"T_c8db6_row1_col0\" class=\"data row1 col0\" >Office Supplies</td>\n",
              "      <td id=\"T_c8db6_row1_col1\" class=\"data row1 col1\" >Home Office</td>\n",
              "      <td id=\"T_c8db6_row1_col2\" class=\"data row1 col2\" >4130</td>\n",
              "    </tr>\n",
              "    <tr>\n",
              "      <td id=\"T_c8db6_row2_col0\" class=\"data row2 col0\" >Office Supplies</td>\n",
              "      <td id=\"T_c8db6_row2_col1\" class=\"data row2 col1\" >Consumer</td>\n",
              "      <td id=\"T_c8db6_row2_col2\" class=\"data row2 col2\" >11758</td>\n",
              "    </tr>\n",
              "    <tr>\n",
              "      <td id=\"T_c8db6_row3_col0\" class=\"data row3 col0\" >Technology</td>\n",
              "      <td id=\"T_c8db6_row3_col1\" class=\"data row3 col1\" >Corporate</td>\n",
              "      <td id=\"T_c8db6_row3_col2\" class=\"data row3 col2\" >2095</td>\n",
              "    </tr>\n",
              "    <tr>\n",
              "      <td id=\"T_c8db6_row4_col0\" class=\"data row4 col0\" >Office Supplies</td>\n",
              "      <td id=\"T_c8db6_row4_col1\" class=\"data row4 col1\" >Corporate</td>\n",
              "      <td id=\"T_c8db6_row4_col2\" class=\"data row4 col2\" >7018</td>\n",
              "    </tr>\n",
              "    <tr>\n",
              "      <td id=\"T_c8db6_row5_col0\" class=\"data row5 col0\" >Furniture</td>\n",
              "      <td id=\"T_c8db6_row5_col1\" class=\"data row5 col1\" >Home Office</td>\n",
              "      <td id=\"T_c8db6_row5_col2\" class=\"data row5 col2\" >1367</td>\n",
              "    </tr>\n",
              "    <tr>\n",
              "      <td id=\"T_c8db6_row6_col0\" class=\"data row6 col0\" >Technology</td>\n",
              "      <td id=\"T_c8db6_row6_col1\" class=\"data row6 col1\" >Home Office</td>\n",
              "      <td id=\"T_c8db6_row6_col2\" class=\"data row6 col2\" >1247</td>\n",
              "    </tr>\n",
              "    <tr>\n",
              "      <td id=\"T_c8db6_row7_col0\" class=\"data row7 col0\" >Furniture</td>\n",
              "      <td id=\"T_c8db6_row7_col1\" class=\"data row7 col1\" >Corporate</td>\n",
              "      <td id=\"T_c8db6_row7_col2\" class=\"data row7 col2\" >2495</td>\n",
              "    </tr>\n",
              "    <tr>\n",
              "      <td id=\"T_c8db6_row8_col0\" class=\"data row8 col0\" >Furniture</td>\n",
              "      <td id=\"T_c8db6_row8_col1\" class=\"data row8 col1\" >Consumer</td>\n",
              "      <td id=\"T_c8db6_row8_col2\" class=\"data row8 col2\" >4166</td>\n",
              "    </tr>\n",
              "    <tr>\n",
              "      <td id=\"T_c8db6_row9_col0\" class=\"data row9 col0\" >Technology</td>\n",
              "      <td id=\"T_c8db6_row9_col1\" class=\"data row9 col1\" >Consumer</td>\n",
              "      <td id=\"T_c8db6_row9_col2\" class=\"data row9 col2\" >3597</td>\n",
              "    </tr>\n",
              "    <tr>\n",
              "      <td id=\"T_c8db6_row10_col0\" class=\"data row10 col0\" >All category</td>\n",
              "      <td id=\"T_c8db6_row10_col1\" class=\"data row10 col1\" >Consumer</td>\n",
              "      <td id=\"T_c8db6_row10_col2\" class=\"data row10 col2\" >19521</td>\n",
              "    </tr>\n",
              "    <tr>\n",
              "      <td id=\"T_c8db6_row11_col0\" class=\"data row11 col0\" >All category</td>\n",
              "      <td id=\"T_c8db6_row11_col1\" class=\"data row11 col1\" >Corporate</td>\n",
              "      <td id=\"T_c8db6_row11_col2\" class=\"data row11 col2\" >11608</td>\n",
              "    </tr>\n",
              "    <tr>\n",
              "      <td id=\"T_c8db6_row12_col0\" class=\"data row12 col0\" >All category</td>\n",
              "      <td id=\"T_c8db6_row12_col1\" class=\"data row12 col1\" >Home Office</td>\n",
              "      <td id=\"T_c8db6_row12_col2\" class=\"data row12 col2\" >6744</td>\n",
              "    </tr>\n",
              "  </tbody>\n",
              "</table>\n"
            ]
          },
          "metadata": {},
          "execution_count": 23
        }
      ]
    },
    {
      "cell_type": "markdown",
      "source": [
        "## Partial Roll Up"
      ],
      "metadata": {
        "id": "sZW4WmQ-mAEe"
      }
    },
    {
      "cell_type": "code",
      "source": [
        "sql = \"\\\n",
        "SELECT COALESCE(category, 'All category') AS category, \\\n",
        " COALESCE(segment, 'All segment') AS segment, \\\n",
        " SUM(quantity) quantity \\\n",
        "FROM ss_order \\\n",
        "GROUP BY segment, ROLLUP (category); \\\n",
        "\"\n",
        "runSelect(sql)"
      ],
      "metadata": {
        "id": "Dc7uJrNImDlw",
        "outputId": "b34275e3-a0b5-4a98-e10c-369ccfa92cf2",
        "colab": {
          "base_uri": "https://localhost:8080/",
          "height": 426
        }
      },
      "execution_count": null,
      "outputs": [
        {
          "output_type": "execute_result",
          "data": {
            "text/plain": [
              "<pandas.io.formats.style.Styler at 0x7b4da6c37d90>"
            ],
            "text/html": [
              "<style type=\"text/css\">\n",
              "</style>\n",
              "<table id=\"T_b8fa5\" class=\"dataframe\">\n",
              "  <thead>\n",
              "    <tr>\n",
              "      <th id=\"T_b8fa5_level0_col0\" class=\"col_heading level0 col0\" >category</th>\n",
              "      <th id=\"T_b8fa5_level0_col1\" class=\"col_heading level0 col1\" >segment</th>\n",
              "      <th id=\"T_b8fa5_level0_col2\" class=\"col_heading level0 col2\" >quantity</th>\n",
              "    </tr>\n",
              "  </thead>\n",
              "  <tbody>\n",
              "    <tr>\n",
              "      <td id=\"T_b8fa5_row0_col0\" class=\"data row0 col0\" >Office Supplies</td>\n",
              "      <td id=\"T_b8fa5_row0_col1\" class=\"data row0 col1\" >Home Office</td>\n",
              "      <td id=\"T_b8fa5_row0_col2\" class=\"data row0 col2\" >4130</td>\n",
              "    </tr>\n",
              "    <tr>\n",
              "      <td id=\"T_b8fa5_row1_col0\" class=\"data row1 col0\" >Office Supplies</td>\n",
              "      <td id=\"T_b8fa5_row1_col1\" class=\"data row1 col1\" >Consumer</td>\n",
              "      <td id=\"T_b8fa5_row1_col2\" class=\"data row1 col2\" >11758</td>\n",
              "    </tr>\n",
              "    <tr>\n",
              "      <td id=\"T_b8fa5_row2_col0\" class=\"data row2 col0\" >Technology</td>\n",
              "      <td id=\"T_b8fa5_row2_col1\" class=\"data row2 col1\" >Corporate</td>\n",
              "      <td id=\"T_b8fa5_row2_col2\" class=\"data row2 col2\" >2095</td>\n",
              "    </tr>\n",
              "    <tr>\n",
              "      <td id=\"T_b8fa5_row3_col0\" class=\"data row3 col0\" >Office Supplies</td>\n",
              "      <td id=\"T_b8fa5_row3_col1\" class=\"data row3 col1\" >Corporate</td>\n",
              "      <td id=\"T_b8fa5_row3_col2\" class=\"data row3 col2\" >7018</td>\n",
              "    </tr>\n",
              "    <tr>\n",
              "      <td id=\"T_b8fa5_row4_col0\" class=\"data row4 col0\" >Furniture</td>\n",
              "      <td id=\"T_b8fa5_row4_col1\" class=\"data row4 col1\" >Home Office</td>\n",
              "      <td id=\"T_b8fa5_row4_col2\" class=\"data row4 col2\" >1367</td>\n",
              "    </tr>\n",
              "    <tr>\n",
              "      <td id=\"T_b8fa5_row5_col0\" class=\"data row5 col0\" >Technology</td>\n",
              "      <td id=\"T_b8fa5_row5_col1\" class=\"data row5 col1\" >Home Office</td>\n",
              "      <td id=\"T_b8fa5_row5_col2\" class=\"data row5 col2\" >1247</td>\n",
              "    </tr>\n",
              "    <tr>\n",
              "      <td id=\"T_b8fa5_row6_col0\" class=\"data row6 col0\" >Furniture</td>\n",
              "      <td id=\"T_b8fa5_row6_col1\" class=\"data row6 col1\" >Corporate</td>\n",
              "      <td id=\"T_b8fa5_row6_col2\" class=\"data row6 col2\" >2495</td>\n",
              "    </tr>\n",
              "    <tr>\n",
              "      <td id=\"T_b8fa5_row7_col0\" class=\"data row7 col0\" >Furniture</td>\n",
              "      <td id=\"T_b8fa5_row7_col1\" class=\"data row7 col1\" >Consumer</td>\n",
              "      <td id=\"T_b8fa5_row7_col2\" class=\"data row7 col2\" >4166</td>\n",
              "    </tr>\n",
              "    <tr>\n",
              "      <td id=\"T_b8fa5_row8_col0\" class=\"data row8 col0\" >Technology</td>\n",
              "      <td id=\"T_b8fa5_row8_col1\" class=\"data row8 col1\" >Consumer</td>\n",
              "      <td id=\"T_b8fa5_row8_col2\" class=\"data row8 col2\" >3597</td>\n",
              "    </tr>\n",
              "    <tr>\n",
              "      <td id=\"T_b8fa5_row9_col0\" class=\"data row9 col0\" >All category</td>\n",
              "      <td id=\"T_b8fa5_row9_col1\" class=\"data row9 col1\" >Consumer</td>\n",
              "      <td id=\"T_b8fa5_row9_col2\" class=\"data row9 col2\" >19521</td>\n",
              "    </tr>\n",
              "    <tr>\n",
              "      <td id=\"T_b8fa5_row10_col0\" class=\"data row10 col0\" >All category</td>\n",
              "      <td id=\"T_b8fa5_row10_col1\" class=\"data row10 col1\" >Corporate</td>\n",
              "      <td id=\"T_b8fa5_row10_col2\" class=\"data row10 col2\" >11608</td>\n",
              "    </tr>\n",
              "    <tr>\n",
              "      <td id=\"T_b8fa5_row11_col0\" class=\"data row11 col0\" >All category</td>\n",
              "      <td id=\"T_b8fa5_row11_col1\" class=\"data row11 col1\" >Home Office</td>\n",
              "      <td id=\"T_b8fa5_row11_col2\" class=\"data row11 col2\" >6744</td>\n",
              "    </tr>\n",
              "  </tbody>\n",
              "</table>\n"
            ]
          },
          "metadata": {},
          "execution_count": 24
        }
      ]
    },
    {
      "cell_type": "code",
      "source": [
        "sql = \"\\\n",
        "SELECT COALESCE(category, 'All category') AS category, \\\n",
        " COALESCE(segment, 'All segment') AS segment, \\\n",
        " SUM(quantity) quantity \\\n",
        "FROM ss_order \\\n",
        "GROUP BY category, ROLLUP (segment); \\\n",
        "\"\n",
        "runSelect(sql)"
      ],
      "metadata": {
        "id": "J8s4cxypmQQA",
        "outputId": "e5758422-b3a2-4662-c96e-ed4a276775d6",
        "colab": {
          "base_uri": "https://localhost:8080/",
          "height": 426
        }
      },
      "execution_count": null,
      "outputs": [
        {
          "output_type": "execute_result",
          "data": {
            "text/plain": [
              "<pandas.io.formats.style.Styler at 0x7b4dd644ec80>"
            ],
            "text/html": [
              "<style type=\"text/css\">\n",
              "</style>\n",
              "<table id=\"T_0b427\" class=\"dataframe\">\n",
              "  <thead>\n",
              "    <tr>\n",
              "      <th id=\"T_0b427_level0_col0\" class=\"col_heading level0 col0\" >category</th>\n",
              "      <th id=\"T_0b427_level0_col1\" class=\"col_heading level0 col1\" >segment</th>\n",
              "      <th id=\"T_0b427_level0_col2\" class=\"col_heading level0 col2\" >quantity</th>\n",
              "    </tr>\n",
              "  </thead>\n",
              "  <tbody>\n",
              "    <tr>\n",
              "      <td id=\"T_0b427_row0_col0\" class=\"data row0 col0\" >Office Supplies</td>\n",
              "      <td id=\"T_0b427_row0_col1\" class=\"data row0 col1\" >Corporate</td>\n",
              "      <td id=\"T_0b427_row0_col2\" class=\"data row0 col2\" >7018</td>\n",
              "    </tr>\n",
              "    <tr>\n",
              "      <td id=\"T_0b427_row1_col0\" class=\"data row1 col0\" >Furniture</td>\n",
              "      <td id=\"T_0b427_row1_col1\" class=\"data row1 col1\" >Corporate</td>\n",
              "      <td id=\"T_0b427_row1_col2\" class=\"data row1 col2\" >2495</td>\n",
              "    </tr>\n",
              "    <tr>\n",
              "      <td id=\"T_0b427_row2_col0\" class=\"data row2 col0\" >Office Supplies</td>\n",
              "      <td id=\"T_0b427_row2_col1\" class=\"data row2 col1\" >Home Office</td>\n",
              "      <td id=\"T_0b427_row2_col2\" class=\"data row2 col2\" >4130</td>\n",
              "    </tr>\n",
              "    <tr>\n",
              "      <td id=\"T_0b427_row3_col0\" class=\"data row3 col0\" >Technology</td>\n",
              "      <td id=\"T_0b427_row3_col1\" class=\"data row3 col1\" >Consumer</td>\n",
              "      <td id=\"T_0b427_row3_col2\" class=\"data row3 col2\" >3597</td>\n",
              "    </tr>\n",
              "    <tr>\n",
              "      <td id=\"T_0b427_row4_col0\" class=\"data row4 col0\" >Technology</td>\n",
              "      <td id=\"T_0b427_row4_col1\" class=\"data row4 col1\" >Corporate</td>\n",
              "      <td id=\"T_0b427_row4_col2\" class=\"data row4 col2\" >2095</td>\n",
              "    </tr>\n",
              "    <tr>\n",
              "      <td id=\"T_0b427_row5_col0\" class=\"data row5 col0\" >Office Supplies</td>\n",
              "      <td id=\"T_0b427_row5_col1\" class=\"data row5 col1\" >Consumer</td>\n",
              "      <td id=\"T_0b427_row5_col2\" class=\"data row5 col2\" >11758</td>\n",
              "    </tr>\n",
              "    <tr>\n",
              "      <td id=\"T_0b427_row6_col0\" class=\"data row6 col0\" >Technology</td>\n",
              "      <td id=\"T_0b427_row6_col1\" class=\"data row6 col1\" >Home Office</td>\n",
              "      <td id=\"T_0b427_row6_col2\" class=\"data row6 col2\" >1247</td>\n",
              "    </tr>\n",
              "    <tr>\n",
              "      <td id=\"T_0b427_row7_col0\" class=\"data row7 col0\" >Furniture</td>\n",
              "      <td id=\"T_0b427_row7_col1\" class=\"data row7 col1\" >Home Office</td>\n",
              "      <td id=\"T_0b427_row7_col2\" class=\"data row7 col2\" >1367</td>\n",
              "    </tr>\n",
              "    <tr>\n",
              "      <td id=\"T_0b427_row8_col0\" class=\"data row8 col0\" >Furniture</td>\n",
              "      <td id=\"T_0b427_row8_col1\" class=\"data row8 col1\" >Consumer</td>\n",
              "      <td id=\"T_0b427_row8_col2\" class=\"data row8 col2\" >4166</td>\n",
              "    </tr>\n",
              "    <tr>\n",
              "      <td id=\"T_0b427_row9_col0\" class=\"data row9 col0\" >Furniture</td>\n",
              "      <td id=\"T_0b427_row9_col1\" class=\"data row9 col1\" >All segment</td>\n",
              "      <td id=\"T_0b427_row9_col2\" class=\"data row9 col2\" >8028</td>\n",
              "    </tr>\n",
              "    <tr>\n",
              "      <td id=\"T_0b427_row10_col0\" class=\"data row10 col0\" >Office Supplies</td>\n",
              "      <td id=\"T_0b427_row10_col1\" class=\"data row10 col1\" >All segment</td>\n",
              "      <td id=\"T_0b427_row10_col2\" class=\"data row10 col2\" >22906</td>\n",
              "    </tr>\n",
              "    <tr>\n",
              "      <td id=\"T_0b427_row11_col0\" class=\"data row11 col0\" >Technology</td>\n",
              "      <td id=\"T_0b427_row11_col1\" class=\"data row11 col1\" >All segment</td>\n",
              "      <td id=\"T_0b427_row11_col2\" class=\"data row11 col2\" >6939</td>\n",
              "    </tr>\n",
              "  </tbody>\n",
              "</table>\n"
            ]
          },
          "metadata": {},
          "execution_count": 25
        }
      ]
    },
    {
      "cell_type": "markdown",
      "source": [
        "#Cube"
      ],
      "metadata": {
        "id": "QXd1vBdYmg2h"
      }
    },
    {
      "cell_type": "code",
      "source": [
        "#One Dimensional Cube\n",
        "#\n",
        "sql = \"\\\n",
        "SELECT COALESCE(category, 'All category') category, SUM(quantity) quantity \\\n",
        "FROM ss_order \\\n",
        "GROUP BY CUBE(category) \\\n",
        "ORDER BY category;  \\\n",
        "\"\n",
        "runSelect(sql)"
      ],
      "metadata": {
        "id": "h3sdhZUfmqPB",
        "outputId": "3806fd24-9f3b-4241-8cf2-d0511a4e6d66",
        "colab": {
          "base_uri": "https://localhost:8080/",
          "height": 175
        }
      },
      "execution_count": null,
      "outputs": [
        {
          "output_type": "execute_result",
          "data": {
            "text/plain": [
              "<pandas.io.formats.style.Styler at 0x7b4da6a77df0>"
            ],
            "text/html": [
              "<style type=\"text/css\">\n",
              "</style>\n",
              "<table id=\"T_36d80\" class=\"dataframe\">\n",
              "  <thead>\n",
              "    <tr>\n",
              "      <th id=\"T_36d80_level0_col0\" class=\"col_heading level0 col0\" >category</th>\n",
              "      <th id=\"T_36d80_level0_col1\" class=\"col_heading level0 col1\" >quantity</th>\n",
              "    </tr>\n",
              "  </thead>\n",
              "  <tbody>\n",
              "    <tr>\n",
              "      <td id=\"T_36d80_row0_col0\" class=\"data row0 col0\" >All category</td>\n",
              "      <td id=\"T_36d80_row0_col1\" class=\"data row0 col1\" >37873</td>\n",
              "    </tr>\n",
              "    <tr>\n",
              "      <td id=\"T_36d80_row1_col0\" class=\"data row1 col0\" >Furniture</td>\n",
              "      <td id=\"T_36d80_row1_col1\" class=\"data row1 col1\" >8028</td>\n",
              "    </tr>\n",
              "    <tr>\n",
              "      <td id=\"T_36d80_row2_col0\" class=\"data row2 col0\" >Office Supplies</td>\n",
              "      <td id=\"T_36d80_row2_col1\" class=\"data row2 col1\" >22906</td>\n",
              "    </tr>\n",
              "    <tr>\n",
              "      <td id=\"T_36d80_row3_col0\" class=\"data row3 col0\" >Technology</td>\n",
              "      <td id=\"T_36d80_row3_col1\" class=\"data row3 col1\" >6939</td>\n",
              "    </tr>\n",
              "  </tbody>\n",
              "</table>\n"
            ]
          },
          "metadata": {},
          "execution_count": 26
        }
      ]
    },
    {
      "cell_type": "code",
      "source": [
        "#Two Dimensional Cube\n",
        "#\n",
        "sql = \"\\\n",
        "SELECT \\\n",
        "COALESCE(category, 'All category') category, \\\n",
        "COALESCE(segment, 'All segment') segment, \\\n",
        "SUM(quantity) quantity \\\n",
        "FROM ss_order \\\n",
        "GROUP BY CUBE(category, segment) \\\n",
        "ORDER BY category,segment;  \\\n",
        "\"\n",
        "runSelect(sql)"
      ],
      "metadata": {
        "id": "QvlSSl4enB8V",
        "outputId": "6e6d64c2-bb64-4dce-8f52-ecd7d04ba703",
        "colab": {
          "base_uri": "https://localhost:8080/",
          "height": 551
        }
      },
      "execution_count": null,
      "outputs": [
        {
          "output_type": "execute_result",
          "data": {
            "text/plain": [
              "<pandas.io.formats.style.Styler at 0x7b4da6a77d90>"
            ],
            "text/html": [
              "<style type=\"text/css\">\n",
              "</style>\n",
              "<table id=\"T_fdd00\" class=\"dataframe\">\n",
              "  <thead>\n",
              "    <tr>\n",
              "      <th id=\"T_fdd00_level0_col0\" class=\"col_heading level0 col0\" >category</th>\n",
              "      <th id=\"T_fdd00_level0_col1\" class=\"col_heading level0 col1\" >segment</th>\n",
              "      <th id=\"T_fdd00_level0_col2\" class=\"col_heading level0 col2\" >quantity</th>\n",
              "    </tr>\n",
              "  </thead>\n",
              "  <tbody>\n",
              "    <tr>\n",
              "      <td id=\"T_fdd00_row0_col0\" class=\"data row0 col0\" >All category</td>\n",
              "      <td id=\"T_fdd00_row0_col1\" class=\"data row0 col1\" >All segment</td>\n",
              "      <td id=\"T_fdd00_row0_col2\" class=\"data row0 col2\" >37873</td>\n",
              "    </tr>\n",
              "    <tr>\n",
              "      <td id=\"T_fdd00_row1_col0\" class=\"data row1 col0\" >All category</td>\n",
              "      <td id=\"T_fdd00_row1_col1\" class=\"data row1 col1\" >Consumer</td>\n",
              "      <td id=\"T_fdd00_row1_col2\" class=\"data row1 col2\" >19521</td>\n",
              "    </tr>\n",
              "    <tr>\n",
              "      <td id=\"T_fdd00_row2_col0\" class=\"data row2 col0\" >All category</td>\n",
              "      <td id=\"T_fdd00_row2_col1\" class=\"data row2 col1\" >Corporate</td>\n",
              "      <td id=\"T_fdd00_row2_col2\" class=\"data row2 col2\" >11608</td>\n",
              "    </tr>\n",
              "    <tr>\n",
              "      <td id=\"T_fdd00_row3_col0\" class=\"data row3 col0\" >All category</td>\n",
              "      <td id=\"T_fdd00_row3_col1\" class=\"data row3 col1\" >Home Office</td>\n",
              "      <td id=\"T_fdd00_row3_col2\" class=\"data row3 col2\" >6744</td>\n",
              "    </tr>\n",
              "    <tr>\n",
              "      <td id=\"T_fdd00_row4_col0\" class=\"data row4 col0\" >Furniture</td>\n",
              "      <td id=\"T_fdd00_row4_col1\" class=\"data row4 col1\" >All segment</td>\n",
              "      <td id=\"T_fdd00_row4_col2\" class=\"data row4 col2\" >8028</td>\n",
              "    </tr>\n",
              "    <tr>\n",
              "      <td id=\"T_fdd00_row5_col0\" class=\"data row5 col0\" >Furniture</td>\n",
              "      <td id=\"T_fdd00_row5_col1\" class=\"data row5 col1\" >Consumer</td>\n",
              "      <td id=\"T_fdd00_row5_col2\" class=\"data row5 col2\" >4166</td>\n",
              "    </tr>\n",
              "    <tr>\n",
              "      <td id=\"T_fdd00_row6_col0\" class=\"data row6 col0\" >Furniture</td>\n",
              "      <td id=\"T_fdd00_row6_col1\" class=\"data row6 col1\" >Corporate</td>\n",
              "      <td id=\"T_fdd00_row6_col2\" class=\"data row6 col2\" >2495</td>\n",
              "    </tr>\n",
              "    <tr>\n",
              "      <td id=\"T_fdd00_row7_col0\" class=\"data row7 col0\" >Furniture</td>\n",
              "      <td id=\"T_fdd00_row7_col1\" class=\"data row7 col1\" >Home Office</td>\n",
              "      <td id=\"T_fdd00_row7_col2\" class=\"data row7 col2\" >1367</td>\n",
              "    </tr>\n",
              "    <tr>\n",
              "      <td id=\"T_fdd00_row8_col0\" class=\"data row8 col0\" >Office Supplies</td>\n",
              "      <td id=\"T_fdd00_row8_col1\" class=\"data row8 col1\" >All segment</td>\n",
              "      <td id=\"T_fdd00_row8_col2\" class=\"data row8 col2\" >22906</td>\n",
              "    </tr>\n",
              "    <tr>\n",
              "      <td id=\"T_fdd00_row9_col0\" class=\"data row9 col0\" >Office Supplies</td>\n",
              "      <td id=\"T_fdd00_row9_col1\" class=\"data row9 col1\" >Consumer</td>\n",
              "      <td id=\"T_fdd00_row9_col2\" class=\"data row9 col2\" >11758</td>\n",
              "    </tr>\n",
              "    <tr>\n",
              "      <td id=\"T_fdd00_row10_col0\" class=\"data row10 col0\" >Office Supplies</td>\n",
              "      <td id=\"T_fdd00_row10_col1\" class=\"data row10 col1\" >Corporate</td>\n",
              "      <td id=\"T_fdd00_row10_col2\" class=\"data row10 col2\" >7018</td>\n",
              "    </tr>\n",
              "    <tr>\n",
              "      <td id=\"T_fdd00_row11_col0\" class=\"data row11 col0\" >Office Supplies</td>\n",
              "      <td id=\"T_fdd00_row11_col1\" class=\"data row11 col1\" >Home Office</td>\n",
              "      <td id=\"T_fdd00_row11_col2\" class=\"data row11 col2\" >4130</td>\n",
              "    </tr>\n",
              "    <tr>\n",
              "      <td id=\"T_fdd00_row12_col0\" class=\"data row12 col0\" >Technology</td>\n",
              "      <td id=\"T_fdd00_row12_col1\" class=\"data row12 col1\" >All segment</td>\n",
              "      <td id=\"T_fdd00_row12_col2\" class=\"data row12 col2\" >6939</td>\n",
              "    </tr>\n",
              "    <tr>\n",
              "      <td id=\"T_fdd00_row13_col0\" class=\"data row13 col0\" >Technology</td>\n",
              "      <td id=\"T_fdd00_row13_col1\" class=\"data row13 col1\" >Consumer</td>\n",
              "      <td id=\"T_fdd00_row13_col2\" class=\"data row13 col2\" >3597</td>\n",
              "    </tr>\n",
              "    <tr>\n",
              "      <td id=\"T_fdd00_row14_col0\" class=\"data row14 col0\" >Technology</td>\n",
              "      <td id=\"T_fdd00_row14_col1\" class=\"data row14 col1\" >Corporate</td>\n",
              "      <td id=\"T_fdd00_row14_col2\" class=\"data row14 col2\" >2095</td>\n",
              "    </tr>\n",
              "    <tr>\n",
              "      <td id=\"T_fdd00_row15_col0\" class=\"data row15 col0\" >Technology</td>\n",
              "      <td id=\"T_fdd00_row15_col1\" class=\"data row15 col1\" >Home Office</td>\n",
              "      <td id=\"T_fdd00_row15_col2\" class=\"data row15 col2\" >1247</td>\n",
              "    </tr>\n",
              "  </tbody>\n",
              "</table>\n"
            ]
          },
          "metadata": {},
          "execution_count": 27
        }
      ]
    },
    {
      "cell_type": "code",
      "source": [
        "# Three Dimensional Cube\n",
        "#\n",
        "sql = \"\\\n",
        "SELECT \\\n",
        "COALESCE(category, 'All category') category, \\\n",
        "COALESCE(segment, 'All segment') segment, \\\n",
        "COALESCE(region, 'All region') region, \\\n",
        "SUM(quantity) quantity \\\n",
        "FROM ss_order \\\n",
        "GROUP BY CUBE(category, segment, region) \\\n",
        "ORDER BY category,segment, region;  \\\n",
        "\"\n",
        "runSelect(sql)"
      ],
      "metadata": {
        "id": "SyflzXz_nre_",
        "outputId": "8353a791-dcc5-4a7f-d100-35c1e0694f05",
        "colab": {
          "base_uri": "https://localhost:8080/",
          "height": 1000
        }
      },
      "execution_count": null,
      "outputs": [
        {
          "output_type": "execute_result",
          "data": {
            "text/plain": [
              "<pandas.io.formats.style.Styler at 0x7b4da6c36a10>"
            ],
            "text/html": [
              "<style type=\"text/css\">\n",
              "</style>\n",
              "<table id=\"T_6e714\" class=\"dataframe\">\n",
              "  <thead>\n",
              "    <tr>\n",
              "      <th id=\"T_6e714_level0_col0\" class=\"col_heading level0 col0\" >category</th>\n",
              "      <th id=\"T_6e714_level0_col1\" class=\"col_heading level0 col1\" >segment</th>\n",
              "      <th id=\"T_6e714_level0_col2\" class=\"col_heading level0 col2\" >region</th>\n",
              "      <th id=\"T_6e714_level0_col3\" class=\"col_heading level0 col3\" >quantity</th>\n",
              "    </tr>\n",
              "  </thead>\n",
              "  <tbody>\n",
              "    <tr>\n",
              "      <td id=\"T_6e714_row0_col0\" class=\"data row0 col0\" >All category</td>\n",
              "      <td id=\"T_6e714_row0_col1\" class=\"data row0 col1\" >All segment</td>\n",
              "      <td id=\"T_6e714_row0_col2\" class=\"data row0 col2\" >All region</td>\n",
              "      <td id=\"T_6e714_row0_col3\" class=\"data row0 col3\" >37873</td>\n",
              "    </tr>\n",
              "    <tr>\n",
              "      <td id=\"T_6e714_row1_col0\" class=\"data row1 col0\" >All category</td>\n",
              "      <td id=\"T_6e714_row1_col1\" class=\"data row1 col1\" >All segment</td>\n",
              "      <td id=\"T_6e714_row1_col2\" class=\"data row1 col2\" >Central</td>\n",
              "      <td id=\"T_6e714_row1_col3\" class=\"data row1 col3\" >8780</td>\n",
              "    </tr>\n",
              "    <tr>\n",
              "      <td id=\"T_6e714_row2_col0\" class=\"data row2 col0\" >All category</td>\n",
              "      <td id=\"T_6e714_row2_col1\" class=\"data row2 col1\" >All segment</td>\n",
              "      <td id=\"T_6e714_row2_col2\" class=\"data row2 col2\" >East</td>\n",
              "      <td id=\"T_6e714_row2_col3\" class=\"data row2 col3\" >10618</td>\n",
              "    </tr>\n",
              "    <tr>\n",
              "      <td id=\"T_6e714_row3_col0\" class=\"data row3 col0\" >All category</td>\n",
              "      <td id=\"T_6e714_row3_col1\" class=\"data row3 col1\" >All segment</td>\n",
              "      <td id=\"T_6e714_row3_col2\" class=\"data row3 col2\" >South</td>\n",
              "      <td id=\"T_6e714_row3_col3\" class=\"data row3 col3\" >6209</td>\n",
              "    </tr>\n",
              "    <tr>\n",
              "      <td id=\"T_6e714_row4_col0\" class=\"data row4 col0\" >All category</td>\n",
              "      <td id=\"T_6e714_row4_col1\" class=\"data row4 col1\" >All segment</td>\n",
              "      <td id=\"T_6e714_row4_col2\" class=\"data row4 col2\" >West</td>\n",
              "      <td id=\"T_6e714_row4_col3\" class=\"data row4 col3\" >12266</td>\n",
              "    </tr>\n",
              "    <tr>\n",
              "      <td id=\"T_6e714_row5_col0\" class=\"data row5 col0\" >All category</td>\n",
              "      <td id=\"T_6e714_row5_col1\" class=\"data row5 col1\" >Consumer</td>\n",
              "      <td id=\"T_6e714_row5_col2\" class=\"data row5 col2\" >All region</td>\n",
              "      <td id=\"T_6e714_row5_col3\" class=\"data row5 col3\" >19521</td>\n",
              "    </tr>\n",
              "    <tr>\n",
              "      <td id=\"T_6e714_row6_col0\" class=\"data row6 col0\" >All category</td>\n",
              "      <td id=\"T_6e714_row6_col1\" class=\"data row6 col1\" >Consumer</td>\n",
              "      <td id=\"T_6e714_row6_col2\" class=\"data row6 col2\" >Central</td>\n",
              "      <td id=\"T_6e714_row6_col3\" class=\"data row6 col3\" >4519</td>\n",
              "    </tr>\n",
              "    <tr>\n",
              "      <td id=\"T_6e714_row7_col0\" class=\"data row7 col0\" >All category</td>\n",
              "      <td id=\"T_6e714_row7_col1\" class=\"data row7 col1\" >Consumer</td>\n",
              "      <td id=\"T_6e714_row7_col2\" class=\"data row7 col2\" >East</td>\n",
              "      <td id=\"T_6e714_row7_col3\" class=\"data row7 col3\" >5347</td>\n",
              "    </tr>\n",
              "    <tr>\n",
              "      <td id=\"T_6e714_row8_col0\" class=\"data row8 col0\" >All category</td>\n",
              "      <td id=\"T_6e714_row8_col1\" class=\"data row8 col1\" >Consumer</td>\n",
              "      <td id=\"T_6e714_row8_col2\" class=\"data row8 col2\" >South</td>\n",
              "      <td id=\"T_6e714_row8_col3\" class=\"data row8 col3\" >3178</td>\n",
              "    </tr>\n",
              "    <tr>\n",
              "      <td id=\"T_6e714_row9_col0\" class=\"data row9 col0\" >All category</td>\n",
              "      <td id=\"T_6e714_row9_col1\" class=\"data row9 col1\" >Consumer</td>\n",
              "      <td id=\"T_6e714_row9_col2\" class=\"data row9 col2\" >West</td>\n",
              "      <td id=\"T_6e714_row9_col3\" class=\"data row9 col3\" >6477</td>\n",
              "    </tr>\n",
              "    <tr>\n",
              "      <td id=\"T_6e714_row10_col0\" class=\"data row10 col0\" >All category</td>\n",
              "      <td id=\"T_6e714_row10_col1\" class=\"data row10 col1\" >Corporate</td>\n",
              "      <td id=\"T_6e714_row10_col2\" class=\"data row10 col2\" >All region</td>\n",
              "      <td id=\"T_6e714_row10_col3\" class=\"data row10 col3\" >11608</td>\n",
              "    </tr>\n",
              "    <tr>\n",
              "      <td id=\"T_6e714_row11_col0\" class=\"data row11 col0\" >All category</td>\n",
              "      <td id=\"T_6e714_row11_col1\" class=\"data row11 col1\" >Corporate</td>\n",
              "      <td id=\"T_6e714_row11_col2\" class=\"data row11 col2\" >Central</td>\n",
              "      <td id=\"T_6e714_row11_col3\" class=\"data row11 col3\" >2604</td>\n",
              "    </tr>\n",
              "    <tr>\n",
              "      <td id=\"T_6e714_row12_col0\" class=\"data row12 col0\" >All category</td>\n",
              "      <td id=\"T_6e714_row12_col1\" class=\"data row12 col1\" >Corporate</td>\n",
              "      <td id=\"T_6e714_row12_col2\" class=\"data row12 col2\" >East</td>\n",
              "      <td id=\"T_6e714_row12_col3\" class=\"data row12 col3\" >3358</td>\n",
              "    </tr>\n",
              "    <tr>\n",
              "      <td id=\"T_6e714_row13_col0\" class=\"data row13 col0\" >All category</td>\n",
              "      <td id=\"T_6e714_row13_col1\" class=\"data row13 col1\" >Corporate</td>\n",
              "      <td id=\"T_6e714_row13_col2\" class=\"data row13 col2\" >South</td>\n",
              "      <td id=\"T_6e714_row13_col3\" class=\"data row13 col3\" >2016</td>\n",
              "    </tr>\n",
              "    <tr>\n",
              "      <td id=\"T_6e714_row14_col0\" class=\"data row14 col0\" >All category</td>\n",
              "      <td id=\"T_6e714_row14_col1\" class=\"data row14 col1\" >Corporate</td>\n",
              "      <td id=\"T_6e714_row14_col2\" class=\"data row14 col2\" >West</td>\n",
              "      <td id=\"T_6e714_row14_col3\" class=\"data row14 col3\" >3630</td>\n",
              "    </tr>\n",
              "    <tr>\n",
              "      <td id=\"T_6e714_row15_col0\" class=\"data row15 col0\" >All category</td>\n",
              "      <td id=\"T_6e714_row15_col1\" class=\"data row15 col1\" >Home Office</td>\n",
              "      <td id=\"T_6e714_row15_col2\" class=\"data row15 col2\" >All region</td>\n",
              "      <td id=\"T_6e714_row15_col3\" class=\"data row15 col3\" >6744</td>\n",
              "    </tr>\n",
              "    <tr>\n",
              "      <td id=\"T_6e714_row16_col0\" class=\"data row16 col0\" >All category</td>\n",
              "      <td id=\"T_6e714_row16_col1\" class=\"data row16 col1\" >Home Office</td>\n",
              "      <td id=\"T_6e714_row16_col2\" class=\"data row16 col2\" >Central</td>\n",
              "      <td id=\"T_6e714_row16_col3\" class=\"data row16 col3\" >1657</td>\n",
              "    </tr>\n",
              "    <tr>\n",
              "      <td id=\"T_6e714_row17_col0\" class=\"data row17 col0\" >All category</td>\n",
              "      <td id=\"T_6e714_row17_col1\" class=\"data row17 col1\" >Home Office</td>\n",
              "      <td id=\"T_6e714_row17_col2\" class=\"data row17 col2\" >East</td>\n",
              "      <td id=\"T_6e714_row17_col3\" class=\"data row17 col3\" >1913</td>\n",
              "    </tr>\n",
              "    <tr>\n",
              "      <td id=\"T_6e714_row18_col0\" class=\"data row18 col0\" >All category</td>\n",
              "      <td id=\"T_6e714_row18_col1\" class=\"data row18 col1\" >Home Office</td>\n",
              "      <td id=\"T_6e714_row18_col2\" class=\"data row18 col2\" >South</td>\n",
              "      <td id=\"T_6e714_row18_col3\" class=\"data row18 col3\" >1015</td>\n",
              "    </tr>\n",
              "    <tr>\n",
              "      <td id=\"T_6e714_row19_col0\" class=\"data row19 col0\" >All category</td>\n",
              "      <td id=\"T_6e714_row19_col1\" class=\"data row19 col1\" >Home Office</td>\n",
              "      <td id=\"T_6e714_row19_col2\" class=\"data row19 col2\" >West</td>\n",
              "      <td id=\"T_6e714_row19_col3\" class=\"data row19 col3\" >2159</td>\n",
              "    </tr>\n",
              "    <tr>\n",
              "      <td id=\"T_6e714_row20_col0\" class=\"data row20 col0\" >Furniture</td>\n",
              "      <td id=\"T_6e714_row20_col1\" class=\"data row20 col1\" >All segment</td>\n",
              "      <td id=\"T_6e714_row20_col2\" class=\"data row20 col2\" >All region</td>\n",
              "      <td id=\"T_6e714_row20_col3\" class=\"data row20 col3\" >8028</td>\n",
              "    </tr>\n",
              "    <tr>\n",
              "      <td id=\"T_6e714_row21_col0\" class=\"data row21 col0\" >Furniture</td>\n",
              "      <td id=\"T_6e714_row21_col1\" class=\"data row21 col1\" >All segment</td>\n",
              "      <td id=\"T_6e714_row21_col2\" class=\"data row21 col2\" >Central</td>\n",
              "      <td id=\"T_6e714_row21_col3\" class=\"data row21 col3\" >1827</td>\n",
              "    </tr>\n",
              "    <tr>\n",
              "      <td id=\"T_6e714_row22_col0\" class=\"data row22 col0\" >Furniture</td>\n",
              "      <td id=\"T_6e714_row22_col1\" class=\"data row22 col1\" >All segment</td>\n",
              "      <td id=\"T_6e714_row22_col2\" class=\"data row22 col2\" >East</td>\n",
              "      <td id=\"T_6e714_row22_col3\" class=\"data row22 col3\" >2214</td>\n",
              "    </tr>\n",
              "    <tr>\n",
              "      <td id=\"T_6e714_row23_col0\" class=\"data row23 col0\" >Furniture</td>\n",
              "      <td id=\"T_6e714_row23_col1\" class=\"data row23 col1\" >All segment</td>\n",
              "      <td id=\"T_6e714_row23_col2\" class=\"data row23 col2\" >South</td>\n",
              "      <td id=\"T_6e714_row23_col3\" class=\"data row23 col3\" >1291</td>\n",
              "    </tr>\n",
              "    <tr>\n",
              "      <td id=\"T_6e714_row24_col0\" class=\"data row24 col0\" >Furniture</td>\n",
              "      <td id=\"T_6e714_row24_col1\" class=\"data row24 col1\" >All segment</td>\n",
              "      <td id=\"T_6e714_row24_col2\" class=\"data row24 col2\" >West</td>\n",
              "      <td id=\"T_6e714_row24_col3\" class=\"data row24 col3\" >2696</td>\n",
              "    </tr>\n",
              "    <tr>\n",
              "      <td id=\"T_6e714_row25_col0\" class=\"data row25 col0\" >Furniture</td>\n",
              "      <td id=\"T_6e714_row25_col1\" class=\"data row25 col1\" >Consumer</td>\n",
              "      <td id=\"T_6e714_row25_col2\" class=\"data row25 col2\" >All region</td>\n",
              "      <td id=\"T_6e714_row25_col3\" class=\"data row25 col3\" >4166</td>\n",
              "    </tr>\n",
              "    <tr>\n",
              "      <td id=\"T_6e714_row26_col0\" class=\"data row26 col0\" >Furniture</td>\n",
              "      <td id=\"T_6e714_row26_col1\" class=\"data row26 col1\" >Consumer</td>\n",
              "      <td id=\"T_6e714_row26_col2\" class=\"data row26 col2\" >Central</td>\n",
              "      <td id=\"T_6e714_row26_col3\" class=\"data row26 col3\" >952</td>\n",
              "    </tr>\n",
              "    <tr>\n",
              "      <td id=\"T_6e714_row27_col0\" class=\"data row27 col0\" >Furniture</td>\n",
              "      <td id=\"T_6e714_row27_col1\" class=\"data row27 col1\" >Consumer</td>\n",
              "      <td id=\"T_6e714_row27_col2\" class=\"data row27 col2\" >East</td>\n",
              "      <td id=\"T_6e714_row27_col3\" class=\"data row27 col3\" >1114</td>\n",
              "    </tr>\n",
              "    <tr>\n",
              "      <td id=\"T_6e714_row28_col0\" class=\"data row28 col0\" >Furniture</td>\n",
              "      <td id=\"T_6e714_row28_col1\" class=\"data row28 col1\" >Consumer</td>\n",
              "      <td id=\"T_6e714_row28_col2\" class=\"data row28 col2\" >South</td>\n",
              "      <td id=\"T_6e714_row28_col3\" class=\"data row28 col3\" >695</td>\n",
              "    </tr>\n",
              "    <tr>\n",
              "      <td id=\"T_6e714_row29_col0\" class=\"data row29 col0\" >Furniture</td>\n",
              "      <td id=\"T_6e714_row29_col1\" class=\"data row29 col1\" >Consumer</td>\n",
              "      <td id=\"T_6e714_row29_col2\" class=\"data row29 col2\" >West</td>\n",
              "      <td id=\"T_6e714_row29_col3\" class=\"data row29 col3\" >1405</td>\n",
              "    </tr>\n",
              "    <tr>\n",
              "      <td id=\"T_6e714_row30_col0\" class=\"data row30 col0\" >Furniture</td>\n",
              "      <td id=\"T_6e714_row30_col1\" class=\"data row30 col1\" >Corporate</td>\n",
              "      <td id=\"T_6e714_row30_col2\" class=\"data row30 col2\" >All region</td>\n",
              "      <td id=\"T_6e714_row30_col3\" class=\"data row30 col3\" >2495</td>\n",
              "    </tr>\n",
              "    <tr>\n",
              "      <td id=\"T_6e714_row31_col0\" class=\"data row31 col0\" >Furniture</td>\n",
              "      <td id=\"T_6e714_row31_col1\" class=\"data row31 col1\" >Corporate</td>\n",
              "      <td id=\"T_6e714_row31_col2\" class=\"data row31 col2\" >Central</td>\n",
              "      <td id=\"T_6e714_row31_col3\" class=\"data row31 col3\" >542</td>\n",
              "    </tr>\n",
              "    <tr>\n",
              "      <td id=\"T_6e714_row32_col0\" class=\"data row32 col0\" >Furniture</td>\n",
              "      <td id=\"T_6e714_row32_col1\" class=\"data row32 col1\" >Corporate</td>\n",
              "      <td id=\"T_6e714_row32_col2\" class=\"data row32 col2\" >East</td>\n",
              "      <td id=\"T_6e714_row32_col3\" class=\"data row32 col3\" >723</td>\n",
              "    </tr>\n",
              "    <tr>\n",
              "      <td id=\"T_6e714_row33_col0\" class=\"data row33 col0\" >Furniture</td>\n",
              "      <td id=\"T_6e714_row33_col1\" class=\"data row33 col1\" >Corporate</td>\n",
              "      <td id=\"T_6e714_row33_col2\" class=\"data row33 col2\" >South</td>\n",
              "      <td id=\"T_6e714_row33_col3\" class=\"data row33 col3\" >415</td>\n",
              "    </tr>\n",
              "    <tr>\n",
              "      <td id=\"T_6e714_row34_col0\" class=\"data row34 col0\" >Furniture</td>\n",
              "      <td id=\"T_6e714_row34_col1\" class=\"data row34 col1\" >Corporate</td>\n",
              "      <td id=\"T_6e714_row34_col2\" class=\"data row34 col2\" >West</td>\n",
              "      <td id=\"T_6e714_row34_col3\" class=\"data row34 col3\" >815</td>\n",
              "    </tr>\n",
              "    <tr>\n",
              "      <td id=\"T_6e714_row35_col0\" class=\"data row35 col0\" >Furniture</td>\n",
              "      <td id=\"T_6e714_row35_col1\" class=\"data row35 col1\" >Home Office</td>\n",
              "      <td id=\"T_6e714_row35_col2\" class=\"data row35 col2\" >All region</td>\n",
              "      <td id=\"T_6e714_row35_col3\" class=\"data row35 col3\" >1367</td>\n",
              "    </tr>\n",
              "    <tr>\n",
              "      <td id=\"T_6e714_row36_col0\" class=\"data row36 col0\" >Furniture</td>\n",
              "      <td id=\"T_6e714_row36_col1\" class=\"data row36 col1\" >Home Office</td>\n",
              "      <td id=\"T_6e714_row36_col2\" class=\"data row36 col2\" >Central</td>\n",
              "      <td id=\"T_6e714_row36_col3\" class=\"data row36 col3\" >333</td>\n",
              "    </tr>\n",
              "    <tr>\n",
              "      <td id=\"T_6e714_row37_col0\" class=\"data row37 col0\" >Furniture</td>\n",
              "      <td id=\"T_6e714_row37_col1\" class=\"data row37 col1\" >Home Office</td>\n",
              "      <td id=\"T_6e714_row37_col2\" class=\"data row37 col2\" >East</td>\n",
              "      <td id=\"T_6e714_row37_col3\" class=\"data row37 col3\" >377</td>\n",
              "    </tr>\n",
              "    <tr>\n",
              "      <td id=\"T_6e714_row38_col0\" class=\"data row38 col0\" >Furniture</td>\n",
              "      <td id=\"T_6e714_row38_col1\" class=\"data row38 col1\" >Home Office</td>\n",
              "      <td id=\"T_6e714_row38_col2\" class=\"data row38 col2\" >South</td>\n",
              "      <td id=\"T_6e714_row38_col3\" class=\"data row38 col3\" >181</td>\n",
              "    </tr>\n",
              "    <tr>\n",
              "      <td id=\"T_6e714_row39_col0\" class=\"data row39 col0\" >Furniture</td>\n",
              "      <td id=\"T_6e714_row39_col1\" class=\"data row39 col1\" >Home Office</td>\n",
              "      <td id=\"T_6e714_row39_col2\" class=\"data row39 col2\" >West</td>\n",
              "      <td id=\"T_6e714_row39_col3\" class=\"data row39 col3\" >476</td>\n",
              "    </tr>\n",
              "    <tr>\n",
              "      <td id=\"T_6e714_row40_col0\" class=\"data row40 col0\" >Office Supplies</td>\n",
              "      <td id=\"T_6e714_row40_col1\" class=\"data row40 col1\" >All segment</td>\n",
              "      <td id=\"T_6e714_row40_col2\" class=\"data row40 col2\" >All region</td>\n",
              "      <td id=\"T_6e714_row40_col3\" class=\"data row40 col3\" >22906</td>\n",
              "    </tr>\n",
              "    <tr>\n",
              "      <td id=\"T_6e714_row41_col0\" class=\"data row41 col0\" >Office Supplies</td>\n",
              "      <td id=\"T_6e714_row41_col1\" class=\"data row41 col1\" >All segment</td>\n",
              "      <td id=\"T_6e714_row41_col2\" class=\"data row41 col2\" >Central</td>\n",
              "      <td id=\"T_6e714_row41_col3\" class=\"data row41 col3\" >5409</td>\n",
              "    </tr>\n",
              "    <tr>\n",
              "      <td id=\"T_6e714_row42_col0\" class=\"data row42 col0\" >Office Supplies</td>\n",
              "      <td id=\"T_6e714_row42_col1\" class=\"data row42 col1\" >All segment</td>\n",
              "      <td id=\"T_6e714_row42_col2\" class=\"data row42 col2\" >East</td>\n",
              "      <td id=\"T_6e714_row42_col3\" class=\"data row42 col3\" >6462</td>\n",
              "    </tr>\n",
              "    <tr>\n",
              "      <td id=\"T_6e714_row43_col0\" class=\"data row43 col0\" >Office Supplies</td>\n",
              "      <td id=\"T_6e714_row43_col1\" class=\"data row43 col1\" >All segment</td>\n",
              "      <td id=\"T_6e714_row43_col2\" class=\"data row43 col2\" >South</td>\n",
              "      <td id=\"T_6e714_row43_col3\" class=\"data row43 col3\" >3800</td>\n",
              "    </tr>\n",
              "    <tr>\n",
              "      <td id=\"T_6e714_row44_col0\" class=\"data row44 col0\" >Office Supplies</td>\n",
              "      <td id=\"T_6e714_row44_col1\" class=\"data row44 col1\" >All segment</td>\n",
              "      <td id=\"T_6e714_row44_col2\" class=\"data row44 col2\" >West</td>\n",
              "      <td id=\"T_6e714_row44_col3\" class=\"data row44 col3\" >7235</td>\n",
              "    </tr>\n",
              "    <tr>\n",
              "      <td id=\"T_6e714_row45_col0\" class=\"data row45 col0\" >Office Supplies</td>\n",
              "      <td id=\"T_6e714_row45_col1\" class=\"data row45 col1\" >Consumer</td>\n",
              "      <td id=\"T_6e714_row45_col2\" class=\"data row45 col2\" >All region</td>\n",
              "      <td id=\"T_6e714_row45_col3\" class=\"data row45 col3\" >11758</td>\n",
              "    </tr>\n",
              "    <tr>\n",
              "      <td id=\"T_6e714_row46_col0\" class=\"data row46 col0\" >Office Supplies</td>\n",
              "      <td id=\"T_6e714_row46_col1\" class=\"data row46 col1\" >Consumer</td>\n",
              "      <td id=\"T_6e714_row46_col2\" class=\"data row46 col2\" >Central</td>\n",
              "      <td id=\"T_6e714_row46_col3\" class=\"data row46 col3\" >2777</td>\n",
              "    </tr>\n",
              "    <tr>\n",
              "      <td id=\"T_6e714_row47_col0\" class=\"data row47 col0\" >Office Supplies</td>\n",
              "      <td id=\"T_6e714_row47_col1\" class=\"data row47 col1\" >Consumer</td>\n",
              "      <td id=\"T_6e714_row47_col2\" class=\"data row47 col2\" >East</td>\n",
              "      <td id=\"T_6e714_row47_col3\" class=\"data row47 col3\" >3245</td>\n",
              "    </tr>\n",
              "    <tr>\n",
              "      <td id=\"T_6e714_row48_col0\" class=\"data row48 col0\" >Office Supplies</td>\n",
              "      <td id=\"T_6e714_row48_col1\" class=\"data row48 col1\" >Consumer</td>\n",
              "      <td id=\"T_6e714_row48_col2\" class=\"data row48 col2\" >South</td>\n",
              "      <td id=\"T_6e714_row48_col3\" class=\"data row48 col3\" >1899</td>\n",
              "    </tr>\n",
              "    <tr>\n",
              "      <td id=\"T_6e714_row49_col0\" class=\"data row49 col0\" >Office Supplies</td>\n",
              "      <td id=\"T_6e714_row49_col1\" class=\"data row49 col1\" >Consumer</td>\n",
              "      <td id=\"T_6e714_row49_col2\" class=\"data row49 col2\" >West</td>\n",
              "      <td id=\"T_6e714_row49_col3\" class=\"data row49 col3\" >3837</td>\n",
              "    </tr>\n",
              "    <tr>\n",
              "      <td id=\"T_6e714_row50_col0\" class=\"data row50 col0\" >Office Supplies</td>\n",
              "      <td id=\"T_6e714_row50_col1\" class=\"data row50 col1\" >Corporate</td>\n",
              "      <td id=\"T_6e714_row50_col2\" class=\"data row50 col2\" >All region</td>\n",
              "      <td id=\"T_6e714_row50_col3\" class=\"data row50 col3\" >7018</td>\n",
              "    </tr>\n",
              "    <tr>\n",
              "      <td id=\"T_6e714_row51_col0\" class=\"data row51 col0\" >Office Supplies</td>\n",
              "      <td id=\"T_6e714_row51_col1\" class=\"data row51 col1\" >Corporate</td>\n",
              "      <td id=\"T_6e714_row51_col2\" class=\"data row51 col2\" >Central</td>\n",
              "      <td id=\"T_6e714_row51_col3\" class=\"data row51 col3\" >1605</td>\n",
              "    </tr>\n",
              "    <tr>\n",
              "      <td id=\"T_6e714_row52_col0\" class=\"data row52 col0\" >Office Supplies</td>\n",
              "      <td id=\"T_6e714_row52_col1\" class=\"data row52 col1\" >Corporate</td>\n",
              "      <td id=\"T_6e714_row52_col2\" class=\"data row52 col2\" >East</td>\n",
              "      <td id=\"T_6e714_row52_col3\" class=\"data row52 col3\" >2035</td>\n",
              "    </tr>\n",
              "    <tr>\n",
              "      <td id=\"T_6e714_row53_col0\" class=\"data row53 col0\" >Office Supplies</td>\n",
              "      <td id=\"T_6e714_row53_col1\" class=\"data row53 col1\" >Corporate</td>\n",
              "      <td id=\"T_6e714_row53_col2\" class=\"data row53 col2\" >South</td>\n",
              "      <td id=\"T_6e714_row53_col3\" class=\"data row53 col3\" >1281</td>\n",
              "    </tr>\n",
              "    <tr>\n",
              "      <td id=\"T_6e714_row54_col0\" class=\"data row54 col0\" >Office Supplies</td>\n",
              "      <td id=\"T_6e714_row54_col1\" class=\"data row54 col1\" >Corporate</td>\n",
              "      <td id=\"T_6e714_row54_col2\" class=\"data row54 col2\" >West</td>\n",
              "      <td id=\"T_6e714_row54_col3\" class=\"data row54 col3\" >2097</td>\n",
              "    </tr>\n",
              "    <tr>\n",
              "      <td id=\"T_6e714_row55_col0\" class=\"data row55 col0\" >Office Supplies</td>\n",
              "      <td id=\"T_6e714_row55_col1\" class=\"data row55 col1\" >Home Office</td>\n",
              "      <td id=\"T_6e714_row55_col2\" class=\"data row55 col2\" >All region</td>\n",
              "      <td id=\"T_6e714_row55_col3\" class=\"data row55 col3\" >4130</td>\n",
              "    </tr>\n",
              "    <tr>\n",
              "      <td id=\"T_6e714_row56_col0\" class=\"data row56 col0\" >Office Supplies</td>\n",
              "      <td id=\"T_6e714_row56_col1\" class=\"data row56 col1\" >Home Office</td>\n",
              "      <td id=\"T_6e714_row56_col2\" class=\"data row56 col2\" >Central</td>\n",
              "      <td id=\"T_6e714_row56_col3\" class=\"data row56 col3\" >1027</td>\n",
              "    </tr>\n",
              "    <tr>\n",
              "      <td id=\"T_6e714_row57_col0\" class=\"data row57 col0\" >Office Supplies</td>\n",
              "      <td id=\"T_6e714_row57_col1\" class=\"data row57 col1\" >Home Office</td>\n",
              "      <td id=\"T_6e714_row57_col2\" class=\"data row57 col2\" >East</td>\n",
              "      <td id=\"T_6e714_row57_col3\" class=\"data row57 col3\" >1182</td>\n",
              "    </tr>\n",
              "    <tr>\n",
              "      <td id=\"T_6e714_row58_col0\" class=\"data row58 col0\" >Office Supplies</td>\n",
              "      <td id=\"T_6e714_row58_col1\" class=\"data row58 col1\" >Home Office</td>\n",
              "      <td id=\"T_6e714_row58_col2\" class=\"data row58 col2\" >South</td>\n",
              "      <td id=\"T_6e714_row58_col3\" class=\"data row58 col3\" >620</td>\n",
              "    </tr>\n",
              "    <tr>\n",
              "      <td id=\"T_6e714_row59_col0\" class=\"data row59 col0\" >Office Supplies</td>\n",
              "      <td id=\"T_6e714_row59_col1\" class=\"data row59 col1\" >Home Office</td>\n",
              "      <td id=\"T_6e714_row59_col2\" class=\"data row59 col2\" >West</td>\n",
              "      <td id=\"T_6e714_row59_col3\" class=\"data row59 col3\" >1301</td>\n",
              "    </tr>\n",
              "    <tr>\n",
              "      <td id=\"T_6e714_row60_col0\" class=\"data row60 col0\" >Technology</td>\n",
              "      <td id=\"T_6e714_row60_col1\" class=\"data row60 col1\" >All segment</td>\n",
              "      <td id=\"T_6e714_row60_col2\" class=\"data row60 col2\" >All region</td>\n",
              "      <td id=\"T_6e714_row60_col3\" class=\"data row60 col3\" >6939</td>\n",
              "    </tr>\n",
              "    <tr>\n",
              "      <td id=\"T_6e714_row61_col0\" class=\"data row61 col0\" >Technology</td>\n",
              "      <td id=\"T_6e714_row61_col1\" class=\"data row61 col1\" >All segment</td>\n",
              "      <td id=\"T_6e714_row61_col2\" class=\"data row61 col2\" >Central</td>\n",
              "      <td id=\"T_6e714_row61_col3\" class=\"data row61 col3\" >1544</td>\n",
              "    </tr>\n",
              "    <tr>\n",
              "      <td id=\"T_6e714_row62_col0\" class=\"data row62 col0\" >Technology</td>\n",
              "      <td id=\"T_6e714_row62_col1\" class=\"data row62 col1\" >All segment</td>\n",
              "      <td id=\"T_6e714_row62_col2\" class=\"data row62 col2\" >East</td>\n",
              "      <td id=\"T_6e714_row62_col3\" class=\"data row62 col3\" >1942</td>\n",
              "    </tr>\n",
              "    <tr>\n",
              "      <td id=\"T_6e714_row63_col0\" class=\"data row63 col0\" >Technology</td>\n",
              "      <td id=\"T_6e714_row63_col1\" class=\"data row63 col1\" >All segment</td>\n",
              "      <td id=\"T_6e714_row63_col2\" class=\"data row63 col2\" >South</td>\n",
              "      <td id=\"T_6e714_row63_col3\" class=\"data row63 col3\" >1118</td>\n",
              "    </tr>\n",
              "    <tr>\n",
              "      <td id=\"T_6e714_row64_col0\" class=\"data row64 col0\" >Technology</td>\n",
              "      <td id=\"T_6e714_row64_col1\" class=\"data row64 col1\" >All segment</td>\n",
              "      <td id=\"T_6e714_row64_col2\" class=\"data row64 col2\" >West</td>\n",
              "      <td id=\"T_6e714_row64_col3\" class=\"data row64 col3\" >2335</td>\n",
              "    </tr>\n",
              "    <tr>\n",
              "      <td id=\"T_6e714_row65_col0\" class=\"data row65 col0\" >Technology</td>\n",
              "      <td id=\"T_6e714_row65_col1\" class=\"data row65 col1\" >Consumer</td>\n",
              "      <td id=\"T_6e714_row65_col2\" class=\"data row65 col2\" >All region</td>\n",
              "      <td id=\"T_6e714_row65_col3\" class=\"data row65 col3\" >3597</td>\n",
              "    </tr>\n",
              "    <tr>\n",
              "      <td id=\"T_6e714_row66_col0\" class=\"data row66 col0\" >Technology</td>\n",
              "      <td id=\"T_6e714_row66_col1\" class=\"data row66 col1\" >Consumer</td>\n",
              "      <td id=\"T_6e714_row66_col2\" class=\"data row66 col2\" >Central</td>\n",
              "      <td id=\"T_6e714_row66_col3\" class=\"data row66 col3\" >790</td>\n",
              "    </tr>\n",
              "    <tr>\n",
              "      <td id=\"T_6e714_row67_col0\" class=\"data row67 col0\" >Technology</td>\n",
              "      <td id=\"T_6e714_row67_col1\" class=\"data row67 col1\" >Consumer</td>\n",
              "      <td id=\"T_6e714_row67_col2\" class=\"data row67 col2\" >East</td>\n",
              "      <td id=\"T_6e714_row67_col3\" class=\"data row67 col3\" >988</td>\n",
              "    </tr>\n",
              "    <tr>\n",
              "      <td id=\"T_6e714_row68_col0\" class=\"data row68 col0\" >Technology</td>\n",
              "      <td id=\"T_6e714_row68_col1\" class=\"data row68 col1\" >Consumer</td>\n",
              "      <td id=\"T_6e714_row68_col2\" class=\"data row68 col2\" >South</td>\n",
              "      <td id=\"T_6e714_row68_col3\" class=\"data row68 col3\" >584</td>\n",
              "    </tr>\n",
              "    <tr>\n",
              "      <td id=\"T_6e714_row69_col0\" class=\"data row69 col0\" >Technology</td>\n",
              "      <td id=\"T_6e714_row69_col1\" class=\"data row69 col1\" >Consumer</td>\n",
              "      <td id=\"T_6e714_row69_col2\" class=\"data row69 col2\" >West</td>\n",
              "      <td id=\"T_6e714_row69_col3\" class=\"data row69 col3\" >1235</td>\n",
              "    </tr>\n",
              "    <tr>\n",
              "      <td id=\"T_6e714_row70_col0\" class=\"data row70 col0\" >Technology</td>\n",
              "      <td id=\"T_6e714_row70_col1\" class=\"data row70 col1\" >Corporate</td>\n",
              "      <td id=\"T_6e714_row70_col2\" class=\"data row70 col2\" >All region</td>\n",
              "      <td id=\"T_6e714_row70_col3\" class=\"data row70 col3\" >2095</td>\n",
              "    </tr>\n",
              "    <tr>\n",
              "      <td id=\"T_6e714_row71_col0\" class=\"data row71 col0\" >Technology</td>\n",
              "      <td id=\"T_6e714_row71_col1\" class=\"data row71 col1\" >Corporate</td>\n",
              "      <td id=\"T_6e714_row71_col2\" class=\"data row71 col2\" >Central</td>\n",
              "      <td id=\"T_6e714_row71_col3\" class=\"data row71 col3\" >457</td>\n",
              "    </tr>\n",
              "    <tr>\n",
              "      <td id=\"T_6e714_row72_col0\" class=\"data row72 col0\" >Technology</td>\n",
              "      <td id=\"T_6e714_row72_col1\" class=\"data row72 col1\" >Corporate</td>\n",
              "      <td id=\"T_6e714_row72_col2\" class=\"data row72 col2\" >East</td>\n",
              "      <td id=\"T_6e714_row72_col3\" class=\"data row72 col3\" >600</td>\n",
              "    </tr>\n",
              "    <tr>\n",
              "      <td id=\"T_6e714_row73_col0\" class=\"data row73 col0\" >Technology</td>\n",
              "      <td id=\"T_6e714_row73_col1\" class=\"data row73 col1\" >Corporate</td>\n",
              "      <td id=\"T_6e714_row73_col2\" class=\"data row73 col2\" >South</td>\n",
              "      <td id=\"T_6e714_row73_col3\" class=\"data row73 col3\" >320</td>\n",
              "    </tr>\n",
              "    <tr>\n",
              "      <td id=\"T_6e714_row74_col0\" class=\"data row74 col0\" >Technology</td>\n",
              "      <td id=\"T_6e714_row74_col1\" class=\"data row74 col1\" >Corporate</td>\n",
              "      <td id=\"T_6e714_row74_col2\" class=\"data row74 col2\" >West</td>\n",
              "      <td id=\"T_6e714_row74_col3\" class=\"data row74 col3\" >718</td>\n",
              "    </tr>\n",
              "    <tr>\n",
              "      <td id=\"T_6e714_row75_col0\" class=\"data row75 col0\" >Technology</td>\n",
              "      <td id=\"T_6e714_row75_col1\" class=\"data row75 col1\" >Home Office</td>\n",
              "      <td id=\"T_6e714_row75_col2\" class=\"data row75 col2\" >All region</td>\n",
              "      <td id=\"T_6e714_row75_col3\" class=\"data row75 col3\" >1247</td>\n",
              "    </tr>\n",
              "    <tr>\n",
              "      <td id=\"T_6e714_row76_col0\" class=\"data row76 col0\" >Technology</td>\n",
              "      <td id=\"T_6e714_row76_col1\" class=\"data row76 col1\" >Home Office</td>\n",
              "      <td id=\"T_6e714_row76_col2\" class=\"data row76 col2\" >Central</td>\n",
              "      <td id=\"T_6e714_row76_col3\" class=\"data row76 col3\" >297</td>\n",
              "    </tr>\n",
              "    <tr>\n",
              "      <td id=\"T_6e714_row77_col0\" class=\"data row77 col0\" >Technology</td>\n",
              "      <td id=\"T_6e714_row77_col1\" class=\"data row77 col1\" >Home Office</td>\n",
              "      <td id=\"T_6e714_row77_col2\" class=\"data row77 col2\" >East</td>\n",
              "      <td id=\"T_6e714_row77_col3\" class=\"data row77 col3\" >354</td>\n",
              "    </tr>\n",
              "    <tr>\n",
              "      <td id=\"T_6e714_row78_col0\" class=\"data row78 col0\" >Technology</td>\n",
              "      <td id=\"T_6e714_row78_col1\" class=\"data row78 col1\" >Home Office</td>\n",
              "      <td id=\"T_6e714_row78_col2\" class=\"data row78 col2\" >South</td>\n",
              "      <td id=\"T_6e714_row78_col3\" class=\"data row78 col3\" >214</td>\n",
              "    </tr>\n",
              "    <tr>\n",
              "      <td id=\"T_6e714_row79_col0\" class=\"data row79 col0\" >Technology</td>\n",
              "      <td id=\"T_6e714_row79_col1\" class=\"data row79 col1\" >Home Office</td>\n",
              "      <td id=\"T_6e714_row79_col2\" class=\"data row79 col2\" >West</td>\n",
              "      <td id=\"T_6e714_row79_col3\" class=\"data row79 col3\" >382</td>\n",
              "    </tr>\n",
              "  </tbody>\n",
              "</table>\n"
            ]
          },
          "metadata": {},
          "execution_count": 28
        }
      ]
    },
    {
      "cell_type": "markdown",
      "source": [
        "# Grouping Sets"
      ],
      "metadata": {
        "id": "wCvIzAKBSyUn"
      }
    },
    {
      "cell_type": "code",
      "source": [
        "#Rather confusing\n",
        "!psql -h localhost -p 5432 -U upraxis -d dbpraxis -c  \"\\\n",
        "SELECT category, region,segment,  SUM (quantity) qty \\\n",
        "FROM ss_order \\\n",
        "GROUP BY \\\n",
        "    GROUPING SETS( \\\n",
        "        (category,region,segment) \\\n",
        "    ); \\\n",
        "\""
      ],
      "metadata": {
        "id": "W9xea-m8ZdZV",
        "outputId": "17aaf388-5163-4c61-856e-854a0eff545a",
        "colab": {
          "base_uri": "https://localhost:8080/"
        }
      },
      "execution_count": 19,
      "outputs": [
        {
          "output_type": "stream",
          "name": "stdout",
          "text": [
            "    category     | region  |   segment   | qty  \n",
            "-----------------+---------+-------------+------\n",
            " Furniture       | East    | Corporate   |  723\n",
            " Office Supplies | East    | Home Office | 1182\n",
            " Office Supplies | East    | Consumer    | 3245\n",
            " Technology      | Central | Consumer    |  790\n",
            " Technology      | East    | Corporate   |  600\n",
            " Furniture       | West    | Home Office |  476\n",
            " Furniture       | Central | Home Office |  333\n",
            " Office Supplies | South   | Corporate   | 1281\n",
            " Technology      | West    | Consumer    | 1235\n",
            " Technology      | South   | Consumer    |  584\n",
            " Technology      | West    | Corporate   |  718\n",
            " Technology      | East    | Consumer    |  988\n",
            " Technology      | West    | Home Office |  382\n",
            " Furniture       | East    | Consumer    | 1114\n",
            " Technology      | East    | Home Office |  354\n",
            " Furniture       | South   | Corporate   |  415\n",
            " Office Supplies | West    | Corporate   | 2097\n",
            " Technology      | South   | Corporate   |  320\n",
            " Furniture       | South   | Home Office |  181\n",
            " Office Supplies | East    | Corporate   | 2035\n",
            " Furniture       | West    | Consumer    | 1405\n",
            " Furniture       | Central | Consumer    |  952\n",
            " Office Supplies | Central | Consumer    | 2777\n",
            " Technology      | Central | Corporate   |  457\n",
            " Technology      | Central | Home Office |  297\n",
            " Furniture       | South   | Consumer    |  695\n",
            " Furniture       | East    | Home Office |  377\n",
            " Office Supplies | Central | Home Office | 1027\n",
            " Office Supplies | South   | Consumer    | 1899\n",
            " Furniture       | West    | Corporate   |  815\n",
            " Office Supplies | West    | Consumer    | 3837\n",
            " Office Supplies | West    | Home Office | 1301\n",
            " Office Supplies | South   | Home Office |  620\n",
            " Technology      | South   | Home Office |  214\n",
            " Furniture       | Central | Corporate   |  542\n",
            " Office Supplies | Central | Corporate   | 1605\n",
            "(36 rows)\n",
            "\n"
          ]
        }
      ]
    },
    {
      "cell_type": "code",
      "source": [
        "!psql -h localhost -p 5432 -U upraxis -d dbpraxis -c  \"\\\n",
        "SELECT category, region,  SUM (quantity) qty \\\n",
        "FROM ss_order \\\n",
        "GROUP BY \\\n",
        "    GROUPING SETS( \\\n",
        "        (category,region) \\\n",
        "    ); \\\n",
        "\""
      ],
      "metadata": {
        "id": "wVg9SUgDZ6l7",
        "outputId": "7688465e-48cc-4141-8475-ff0b9ae4d211",
        "colab": {
          "base_uri": "https://localhost:8080/"
        }
      },
      "execution_count": 21,
      "outputs": [
        {
          "output_type": "stream",
          "name": "stdout",
          "text": [
            "    category     | region  | qty  \n",
            "-----------------+---------+------\n",
            " Technology      | West    | 2335\n",
            " Technology      | South   | 1118\n",
            " Office Supplies | South   | 3800\n",
            " Office Supplies | West    | 7235\n",
            " Furniture       | Central | 1827\n",
            " Office Supplies | East    | 6462\n",
            " Furniture       | East    | 2214\n",
            " Office Supplies | Central | 5409\n",
            " Furniture       | South   | 1291\n",
            " Technology      | East    | 1942\n",
            " Furniture       | West    | 2696\n",
            " Technology      | Central | 1544\n",
            "(12 rows)\n",
            "\n"
          ]
        }
      ]
    },
    {
      "cell_type": "code",
      "source": [
        "!psql -h localhost -p 5432 -U upraxis -d dbpraxis -c  \"\\\n",
        "SELECT category,  SUM (quantity) qty \\\n",
        "FROM ss_order \\\n",
        "GROUP BY \\\n",
        "    GROUPING SETS( \\\n",
        "        (category) \\\n",
        "    ); \\\n",
        "\""
      ],
      "metadata": {
        "id": "P3aZsQmkaWll",
        "outputId": "bc1efe7f-bd4d-4b44-ed99-8ee8ab578be5",
        "colab": {
          "base_uri": "https://localhost:8080/"
        }
      },
      "execution_count": 23,
      "outputs": [
        {
          "output_type": "stream",
          "name": "stdout",
          "text": [
            "    category     |  qty  \n",
            "-----------------+-------\n",
            " Furniture       |  8028\n",
            " Office Supplies | 22906\n",
            " Technology      |  6939\n",
            "(3 rows)\n",
            "\n"
          ]
        }
      ]
    },
    {
      "cell_type": "code",
      "source": [
        "#Rather confusing\n",
        "!psql -h localhost -p 5432 -U upraxis -d dbpraxis -c \"\\\n",
        "SELECT category, region,segment,  SUM (quantity) qty \\\n",
        "FROM ss_order \\\n",
        "GROUP BY \\\n",
        "    GROUPING SETS( \\\n",
        "        (category,region,segment), \\\n",
        "        (category,region), \\\n",
        "        (category, segment), \\\n",
        "        (segment, region), \\\n",
        "        (category), \\\n",
        "        (region), \\\n",
        "        (segment), \\\n",
        "        () \\\n",
        "    ); \\\n",
        "\""
      ],
      "metadata": {
        "colab": {
          "base_uri": "https://localhost:8080/"
        },
        "id": "5NsgKJxVS2ca",
        "outputId": "a65d71f1-d746-40db-f9e7-720cdfc3c1c0"
      },
      "execution_count": 24,
      "outputs": [
        {
          "output_type": "stream",
          "name": "stdout",
          "text": [
            "    category     | region  |   segment   |  qty  \n",
            "-----------------+---------+-------------+-------\n",
            "                 |         |             | 37873\n",
            " Furniture       | East    | Corporate   |   723\n",
            " Office Supplies | East    | Home Office |  1182\n",
            " Office Supplies | East    | Consumer    |  3245\n",
            " Technology      | Central | Consumer    |   790\n",
            " Technology      | East    | Corporate   |   600\n",
            " Furniture       | West    | Home Office |   476\n",
            " Furniture       | Central | Home Office |   333\n",
            " Office Supplies | South   | Corporate   |  1281\n",
            " Technology      | West    | Consumer    |  1235\n",
            " Technology      | South   | Consumer    |   584\n",
            " Technology      | West    | Corporate   |   718\n",
            " Technology      | East    | Consumer    |   988\n",
            " Technology      | West    | Home Office |   382\n",
            " Furniture       | East    | Consumer    |  1114\n",
            " Technology      | East    | Home Office |   354\n",
            " Furniture       | South   | Corporate   |   415\n",
            " Office Supplies | West    | Corporate   |  2097\n",
            " Technology      | South   | Corporate   |   320\n",
            " Furniture       | South   | Home Office |   181\n",
            " Office Supplies | East    | Corporate   |  2035\n",
            " Furniture       | West    | Consumer    |  1405\n",
            " Furniture       | Central | Consumer    |   952\n",
            " Office Supplies | Central | Consumer    |  2777\n",
            " Technology      | Central | Corporate   |   457\n",
            " Technology      | Central | Home Office |   297\n",
            " Furniture       | South   | Consumer    |   695\n",
            " Furniture       | East    | Home Office |   377\n",
            " Office Supplies | Central | Home Office |  1027\n",
            " Office Supplies | South   | Consumer    |  1899\n",
            " Furniture       | West    | Corporate   |   815\n",
            " Office Supplies | West    | Consumer    |  3837\n",
            " Office Supplies | West    | Home Office |  1301\n",
            " Office Supplies | South   | Home Office |   620\n",
            " Technology      | South   | Home Office |   214\n",
            " Furniture       | Central | Corporate   |   542\n",
            " Office Supplies | Central | Corporate   |  1605\n",
            " Technology      | West    |             |  2335\n",
            " Technology      | South   |             |  1118\n",
            " Office Supplies | South   |             |  3800\n",
            " Office Supplies | West    |             |  7235\n",
            " Furniture       | Central |             |  1827\n",
            " Office Supplies | East    |             |  6462\n",
            " Furniture       | East    |             |  2214\n",
            " Office Supplies | Central |             |  5409\n",
            " Furniture       | South   |             |  1291\n",
            " Technology      | East    |             |  1942\n",
            " Furniture       | West    |             |  2696\n",
            " Technology      | Central |             |  1544\n",
            " Furniture       |         |             |  8028\n",
            " Office Supplies |         |             | 22906\n",
            " Technology      |         |             |  6939\n",
            "                 | Central | Home Office |  1657\n",
            "                 | West    | Consumer    |  6477\n",
            "                 | South   | Consumer    |  3178\n",
            "                 | Central | Corporate   |  2604\n",
            "                 | West    | Corporate   |  3630\n",
            "                 | East    | Home Office |  1913\n",
            "                 | South   | Home Office |  1015\n",
            "                 | East    | Corporate   |  3358\n",
            "                 | East    | Consumer    |  5347\n",
            "                 | West    | Home Office |  2159\n",
            "                 | South   | Corporate   |  2016\n",
            "                 | Central | Consumer    |  4519\n",
            "                 | South   |             |  6209\n",
            "                 | West    |             | 12266\n",
            "                 | East    |             | 10618\n",
            "                 | Central |             |  8780\n",
            " Office Supplies |         | Home Office |  4130\n",
            " Furniture       |         | Corporate   |  2495\n",
            " Office Supplies |         | Consumer    | 11758\n",
            " Furniture       |         | Home Office |  1367\n",
            " Technology      |         | Consumer    |  3597\n",
            " Office Supplies |         | Corporate   |  7018\n",
            " Technology      |         | Corporate   |  2095\n",
            " Technology      |         | Home Office |  1247\n",
            " Furniture       |         | Consumer    |  4166\n",
            "                 |         | Consumer    | 19521\n",
            "                 |         | Corporate   | 11608\n",
            "                 |         | Home Office |  6744\n",
            "(80 rows)\n",
            "\n"
          ]
        }
      ]
    },
    {
      "cell_type": "code",
      "source": [
        "!psql -h localhost -p 5432 -U upraxis -d dbpraxis -c \"\\\n",
        "SELECT category, region,  SUM (quantity) qty \\\n",
        "FROM ss_order \\\n",
        "GROUP BY \\\n",
        "    GROUPING SETS( \\\n",
        "        (category,region), \\\n",
        "        (category), \\\n",
        "        (region), \\\n",
        "        () \\\n",
        "    ); \\\n",
        "\""
      ],
      "metadata": {
        "colab": {
          "base_uri": "https://localhost:8080/"
        },
        "id": "KRdXd2zXTtDt",
        "outputId": "46e17531-b541-43ab-b2a1-f6c37cf0da55"
      },
      "execution_count": 25,
      "outputs": [
        {
          "output_type": "stream",
          "name": "stdout",
          "text": [
            "    category     | region  |  qty  \n",
            "-----------------+---------+-------\n",
            "                 |         | 37873\n",
            " Technology      | West    |  2335\n",
            " Technology      | South   |  1118\n",
            " Office Supplies | South   |  3800\n",
            " Office Supplies | West    |  7235\n",
            " Furniture       | Central |  1827\n",
            " Office Supplies | East    |  6462\n",
            " Furniture       | East    |  2214\n",
            " Office Supplies | Central |  5409\n",
            " Furniture       | South   |  1291\n",
            " Technology      | East    |  1942\n",
            " Furniture       | West    |  2696\n",
            " Technology      | Central |  1544\n",
            " Furniture       |         |  8028\n",
            " Office Supplies |         | 22906\n",
            " Technology      |         |  6939\n",
            "                 | South   |  6209\n",
            "                 | West    | 12266\n",
            "                 | East    | 10618\n",
            "                 | Central |  8780\n",
            "(20 rows)\n",
            "\n"
          ]
        }
      ]
    },
    {
      "cell_type": "markdown",
      "source": [
        "#Cross Tab / Pivot Tables"
      ],
      "metadata": {
        "id": "J733-9loodYs"
      }
    },
    {
      "cell_type": "markdown",
      "source": [
        "## Level 1"
      ],
      "metadata": {
        "id": "XVH_RWPko6aC"
      }
    },
    {
      "cell_type": "code",
      "source": [
        "sql = \" \\\n",
        "    select Category, \\\n",
        "    sum(case when (Region = 'Central') then quantity else 0 end) as Central, \\\n",
        "    sum(case when (Region = 'East') then quantity else 0 end) as East, \\\n",
        "    sum(case when (Region = 'West') then quantity else 0 end) as West, \\\n",
        "    sum(case when (Region = 'South') then quantity else 0 end) as South \\\n",
        "    from ss_order \\\n",
        "    group by Category \\\n",
        "    \"\n",
        "runSelect(sql)"
      ],
      "metadata": {
        "id": "IMmmk4oRpB6J",
        "outputId": "8f3a2cc4-441d-4abf-9531-19a482987cc2",
        "colab": {
          "base_uri": "https://localhost:8080/",
          "height": 143
        }
      },
      "execution_count": null,
      "outputs": [
        {
          "output_type": "execute_result",
          "data": {
            "text/plain": [
              "<pandas.io.formats.style.Styler at 0x7b4da6a774c0>"
            ],
            "text/html": [
              "<style type=\"text/css\">\n",
              "</style>\n",
              "<table id=\"T_afbcf\" class=\"dataframe\">\n",
              "  <thead>\n",
              "    <tr>\n",
              "      <th id=\"T_afbcf_level0_col0\" class=\"col_heading level0 col0\" >category</th>\n",
              "      <th id=\"T_afbcf_level0_col1\" class=\"col_heading level0 col1\" >central</th>\n",
              "      <th id=\"T_afbcf_level0_col2\" class=\"col_heading level0 col2\" >east</th>\n",
              "      <th id=\"T_afbcf_level0_col3\" class=\"col_heading level0 col3\" >west</th>\n",
              "      <th id=\"T_afbcf_level0_col4\" class=\"col_heading level0 col4\" >south</th>\n",
              "    </tr>\n",
              "  </thead>\n",
              "  <tbody>\n",
              "    <tr>\n",
              "      <td id=\"T_afbcf_row0_col0\" class=\"data row0 col0\" >Furniture</td>\n",
              "      <td id=\"T_afbcf_row0_col1\" class=\"data row0 col1\" >1827</td>\n",
              "      <td id=\"T_afbcf_row0_col2\" class=\"data row0 col2\" >2214</td>\n",
              "      <td id=\"T_afbcf_row0_col3\" class=\"data row0 col3\" >2696</td>\n",
              "      <td id=\"T_afbcf_row0_col4\" class=\"data row0 col4\" >1291</td>\n",
              "    </tr>\n",
              "    <tr>\n",
              "      <td id=\"T_afbcf_row1_col0\" class=\"data row1 col0\" >Office Supplies</td>\n",
              "      <td id=\"T_afbcf_row1_col1\" class=\"data row1 col1\" >5409</td>\n",
              "      <td id=\"T_afbcf_row1_col2\" class=\"data row1 col2\" >6462</td>\n",
              "      <td id=\"T_afbcf_row1_col3\" class=\"data row1 col3\" >7235</td>\n",
              "      <td id=\"T_afbcf_row1_col4\" class=\"data row1 col4\" >3800</td>\n",
              "    </tr>\n",
              "    <tr>\n",
              "      <td id=\"T_afbcf_row2_col0\" class=\"data row2 col0\" >Technology</td>\n",
              "      <td id=\"T_afbcf_row2_col1\" class=\"data row2 col1\" >1544</td>\n",
              "      <td id=\"T_afbcf_row2_col2\" class=\"data row2 col2\" >1942</td>\n",
              "      <td id=\"T_afbcf_row2_col3\" class=\"data row2 col3\" >2335</td>\n",
              "      <td id=\"T_afbcf_row2_col4\" class=\"data row2 col4\" >1118</td>\n",
              "    </tr>\n",
              "  </tbody>\n",
              "</table>\n"
            ]
          },
          "metadata": {},
          "execution_count": 29
        }
      ]
    },
    {
      "cell_type": "markdown",
      "source": [
        "## Level 2"
      ],
      "metadata": {
        "id": "ZSRpyxY5pjn3"
      }
    },
    {
      "cell_type": "code",
      "source": [
        "sql = \" \\\n",
        "  select \\\n",
        "  COALESCE(Category, 'All Category') AS Category, \\\n",
        "  COALESCE(Region, 'All Region') AS Region, \\\n",
        "  Sum(quantity) Quantity \\\n",
        "  from ss_order \\\n",
        "  group by ROLLUP (Category,Region)  \\\n",
        "\"\n",
        "runSelect(sql)"
      ],
      "metadata": {
        "id": "OHSZ4wbTpm6w",
        "outputId": "09bf506c-57ef-4abd-e9ed-b56168d3d48e",
        "colab": {
          "base_uri": "https://localhost:8080/",
          "height": 551
        }
      },
      "execution_count": null,
      "outputs": [
        {
          "output_type": "execute_result",
          "data": {
            "text/plain": [
              "<pandas.io.formats.style.Styler at 0x7b4da6a766b0>"
            ],
            "text/html": [
              "<style type=\"text/css\">\n",
              "</style>\n",
              "<table id=\"T_1f99f\" class=\"dataframe\">\n",
              "  <thead>\n",
              "    <tr>\n",
              "      <th id=\"T_1f99f_level0_col0\" class=\"col_heading level0 col0\" >category</th>\n",
              "      <th id=\"T_1f99f_level0_col1\" class=\"col_heading level0 col1\" >region</th>\n",
              "      <th id=\"T_1f99f_level0_col2\" class=\"col_heading level0 col2\" >quantity</th>\n",
              "    </tr>\n",
              "  </thead>\n",
              "  <tbody>\n",
              "    <tr>\n",
              "      <td id=\"T_1f99f_row0_col0\" class=\"data row0 col0\" >All Category</td>\n",
              "      <td id=\"T_1f99f_row0_col1\" class=\"data row0 col1\" >All Region</td>\n",
              "      <td id=\"T_1f99f_row0_col2\" class=\"data row0 col2\" >37873</td>\n",
              "    </tr>\n",
              "    <tr>\n",
              "      <td id=\"T_1f99f_row1_col0\" class=\"data row1 col0\" >Furniture</td>\n",
              "      <td id=\"T_1f99f_row1_col1\" class=\"data row1 col1\" >West</td>\n",
              "      <td id=\"T_1f99f_row1_col2\" class=\"data row1 col2\" >2696</td>\n",
              "    </tr>\n",
              "    <tr>\n",
              "      <td id=\"T_1f99f_row2_col0\" class=\"data row2 col0\" >Office Supplies</td>\n",
              "      <td id=\"T_1f99f_row2_col1\" class=\"data row2 col1\" >South</td>\n",
              "      <td id=\"T_1f99f_row2_col2\" class=\"data row2 col2\" >3800</td>\n",
              "    </tr>\n",
              "    <tr>\n",
              "      <td id=\"T_1f99f_row3_col0\" class=\"data row3 col0\" >Furniture</td>\n",
              "      <td id=\"T_1f99f_row3_col1\" class=\"data row3 col1\" >East</td>\n",
              "      <td id=\"T_1f99f_row3_col2\" class=\"data row3 col2\" >2214</td>\n",
              "    </tr>\n",
              "    <tr>\n",
              "      <td id=\"T_1f99f_row4_col0\" class=\"data row4 col0\" >Office Supplies</td>\n",
              "      <td id=\"T_1f99f_row4_col1\" class=\"data row4 col1\" >Central</td>\n",
              "      <td id=\"T_1f99f_row4_col2\" class=\"data row4 col2\" >5409</td>\n",
              "    </tr>\n",
              "    <tr>\n",
              "      <td id=\"T_1f99f_row5_col0\" class=\"data row5 col0\" >Technology</td>\n",
              "      <td id=\"T_1f99f_row5_col1\" class=\"data row5 col1\" >East</td>\n",
              "      <td id=\"T_1f99f_row5_col2\" class=\"data row5 col2\" >1942</td>\n",
              "    </tr>\n",
              "    <tr>\n",
              "      <td id=\"T_1f99f_row6_col0\" class=\"data row6 col0\" >Technology</td>\n",
              "      <td id=\"T_1f99f_row6_col1\" class=\"data row6 col1\" >Central</td>\n",
              "      <td id=\"T_1f99f_row6_col2\" class=\"data row6 col2\" >1544</td>\n",
              "    </tr>\n",
              "    <tr>\n",
              "      <td id=\"T_1f99f_row7_col0\" class=\"data row7 col0\" >Office Supplies</td>\n",
              "      <td id=\"T_1f99f_row7_col1\" class=\"data row7 col1\" >East</td>\n",
              "      <td id=\"T_1f99f_row7_col2\" class=\"data row7 col2\" >6462</td>\n",
              "    </tr>\n",
              "    <tr>\n",
              "      <td id=\"T_1f99f_row8_col0\" class=\"data row8 col0\" >Technology</td>\n",
              "      <td id=\"T_1f99f_row8_col1\" class=\"data row8 col1\" >West</td>\n",
              "      <td id=\"T_1f99f_row8_col2\" class=\"data row8 col2\" >2335</td>\n",
              "    </tr>\n",
              "    <tr>\n",
              "      <td id=\"T_1f99f_row9_col0\" class=\"data row9 col0\" >Technology</td>\n",
              "      <td id=\"T_1f99f_row9_col1\" class=\"data row9 col1\" >South</td>\n",
              "      <td id=\"T_1f99f_row9_col2\" class=\"data row9 col2\" >1118</td>\n",
              "    </tr>\n",
              "    <tr>\n",
              "      <td id=\"T_1f99f_row10_col0\" class=\"data row10 col0\" >Office Supplies</td>\n",
              "      <td id=\"T_1f99f_row10_col1\" class=\"data row10 col1\" >West</td>\n",
              "      <td id=\"T_1f99f_row10_col2\" class=\"data row10 col2\" >7235</td>\n",
              "    </tr>\n",
              "    <tr>\n",
              "      <td id=\"T_1f99f_row11_col0\" class=\"data row11 col0\" >Furniture</td>\n",
              "      <td id=\"T_1f99f_row11_col1\" class=\"data row11 col1\" >Central</td>\n",
              "      <td id=\"T_1f99f_row11_col2\" class=\"data row11 col2\" >1827</td>\n",
              "    </tr>\n",
              "    <tr>\n",
              "      <td id=\"T_1f99f_row12_col0\" class=\"data row12 col0\" >Furniture</td>\n",
              "      <td id=\"T_1f99f_row12_col1\" class=\"data row12 col1\" >South</td>\n",
              "      <td id=\"T_1f99f_row12_col2\" class=\"data row12 col2\" >1291</td>\n",
              "    </tr>\n",
              "    <tr>\n",
              "      <td id=\"T_1f99f_row13_col0\" class=\"data row13 col0\" >Furniture</td>\n",
              "      <td id=\"T_1f99f_row13_col1\" class=\"data row13 col1\" >All Region</td>\n",
              "      <td id=\"T_1f99f_row13_col2\" class=\"data row13 col2\" >8028</td>\n",
              "    </tr>\n",
              "    <tr>\n",
              "      <td id=\"T_1f99f_row14_col0\" class=\"data row14 col0\" >Office Supplies</td>\n",
              "      <td id=\"T_1f99f_row14_col1\" class=\"data row14 col1\" >All Region</td>\n",
              "      <td id=\"T_1f99f_row14_col2\" class=\"data row14 col2\" >22906</td>\n",
              "    </tr>\n",
              "    <tr>\n",
              "      <td id=\"T_1f99f_row15_col0\" class=\"data row15 col0\" >Technology</td>\n",
              "      <td id=\"T_1f99f_row15_col1\" class=\"data row15 col1\" >All Region</td>\n",
              "      <td id=\"T_1f99f_row15_col2\" class=\"data row15 col2\" >6939</td>\n",
              "    </tr>\n",
              "  </tbody>\n",
              "</table>\n"
            ]
          },
          "metadata": {},
          "execution_count": 30
        }
      ]
    },
    {
      "cell_type": "markdown",
      "source": [
        "## Level 3 - the FULL CROSSTAB with 3 rotations"
      ],
      "metadata": {
        "id": "An-VRJStp0v7"
      }
    },
    {
      "cell_type": "code",
      "source": [
        "sql = \" \\\n",
        "SELECT \\\n",
        "COALESCE(Category, 'Totals') AS Dim, \\\n",
        "sums.Central, sums.East, sums.West, sums.South, \\\n",
        "sums.Central + sums.East + sums.West + sums.South  Totals \\\n",
        "FROM ( \\\n",
        "  select Category, \\\n",
        "    sum(case when (Region = 'Central') then quantity else 0 end) as Central, \\\n",
        "    sum(case when (Region = 'East') then quantity else 0 end) as East, \\\n",
        "    sum(case when (Region = 'West') then quantity else 0 end) as West, \\\n",
        "    sum(case when (Region = 'South') then quantity else 0 end) as South \\\n",
        "    from ss_order \\\n",
        "    group by Rollup (Category) \\\n",
        ") AS sums \\\n",
        "\"\n",
        "runSelect(sql)"
      ],
      "metadata": {
        "id": "GMOHprKXp-ga",
        "outputId": "7bcff014-36b6-4398-a811-a18e3af5aabb",
        "colab": {
          "base_uri": "https://localhost:8080/",
          "height": 175
        }
      },
      "execution_count": null,
      "outputs": [
        {
          "output_type": "execute_result",
          "data": {
            "text/plain": [
              "<pandas.io.formats.style.Styler at 0x7b4da6c378e0>"
            ],
            "text/html": [
              "<style type=\"text/css\">\n",
              "</style>\n",
              "<table id=\"T_fd766\" class=\"dataframe\">\n",
              "  <thead>\n",
              "    <tr>\n",
              "      <th id=\"T_fd766_level0_col0\" class=\"col_heading level0 col0\" >dim</th>\n",
              "      <th id=\"T_fd766_level0_col1\" class=\"col_heading level0 col1\" >central</th>\n",
              "      <th id=\"T_fd766_level0_col2\" class=\"col_heading level0 col2\" >east</th>\n",
              "      <th id=\"T_fd766_level0_col3\" class=\"col_heading level0 col3\" >west</th>\n",
              "      <th id=\"T_fd766_level0_col4\" class=\"col_heading level0 col4\" >south</th>\n",
              "      <th id=\"T_fd766_level0_col5\" class=\"col_heading level0 col5\" >totals</th>\n",
              "    </tr>\n",
              "  </thead>\n",
              "  <tbody>\n",
              "    <tr>\n",
              "      <td id=\"T_fd766_row0_col0\" class=\"data row0 col0\" >Totals</td>\n",
              "      <td id=\"T_fd766_row0_col1\" class=\"data row0 col1\" >8780</td>\n",
              "      <td id=\"T_fd766_row0_col2\" class=\"data row0 col2\" >10618</td>\n",
              "      <td id=\"T_fd766_row0_col3\" class=\"data row0 col3\" >12266</td>\n",
              "      <td id=\"T_fd766_row0_col4\" class=\"data row0 col4\" >6209</td>\n",
              "      <td id=\"T_fd766_row0_col5\" class=\"data row0 col5\" >37873</td>\n",
              "    </tr>\n",
              "    <tr>\n",
              "      <td id=\"T_fd766_row1_col0\" class=\"data row1 col0\" >Furniture</td>\n",
              "      <td id=\"T_fd766_row1_col1\" class=\"data row1 col1\" >1827</td>\n",
              "      <td id=\"T_fd766_row1_col2\" class=\"data row1 col2\" >2214</td>\n",
              "      <td id=\"T_fd766_row1_col3\" class=\"data row1 col3\" >2696</td>\n",
              "      <td id=\"T_fd766_row1_col4\" class=\"data row1 col4\" >1291</td>\n",
              "      <td id=\"T_fd766_row1_col5\" class=\"data row1 col5\" >8028</td>\n",
              "    </tr>\n",
              "    <tr>\n",
              "      <td id=\"T_fd766_row2_col0\" class=\"data row2 col0\" >Office Supplies</td>\n",
              "      <td id=\"T_fd766_row2_col1\" class=\"data row2 col1\" >5409</td>\n",
              "      <td id=\"T_fd766_row2_col2\" class=\"data row2 col2\" >6462</td>\n",
              "      <td id=\"T_fd766_row2_col3\" class=\"data row2 col3\" >7235</td>\n",
              "      <td id=\"T_fd766_row2_col4\" class=\"data row2 col4\" >3800</td>\n",
              "      <td id=\"T_fd766_row2_col5\" class=\"data row2 col5\" >22906</td>\n",
              "    </tr>\n",
              "    <tr>\n",
              "      <td id=\"T_fd766_row3_col0\" class=\"data row3 col0\" >Technology</td>\n",
              "      <td id=\"T_fd766_row3_col1\" class=\"data row3 col1\" >1544</td>\n",
              "      <td id=\"T_fd766_row3_col2\" class=\"data row3 col2\" >1942</td>\n",
              "      <td id=\"T_fd766_row3_col3\" class=\"data row3 col3\" >2335</td>\n",
              "      <td id=\"T_fd766_row3_col4\" class=\"data row3 col4\" >1118</td>\n",
              "      <td id=\"T_fd766_row3_col5\" class=\"data row3 col5\" >6939</td>\n",
              "    </tr>\n",
              "  </tbody>\n",
              "</table>\n"
            ]
          },
          "metadata": {},
          "execution_count": 31
        }
      ]
    },
    {
      "cell_type": "code",
      "source": [
        " sql = \" \\\n",
        "SELECT \\\n",
        "COALESCE(Category, 'Totals') AS Dim, \\\n",
        "sums.Consumer, sums.Corporate, sums.HomeOffice, \\\n",
        "sums.Consumer + sums.Corporate + sums.HomeOffice   Totals \\\n",
        "FROM ( \\\n",
        "  select Category, \\\n",
        "    sum(case when (Segment = 'Consumer') then sales else 0 end) as Consumer, \\\n",
        "    sum(case when (Segment = 'Corporate') then sales else 0 end) as Corporate, \\\n",
        "    sum(case when (Segment = 'Home Office') then sales else 0 end) as HomeOffice \\\n",
        "    from ss_order \\\n",
        "    group by Rollup (Category) \\\n",
        ") AS sums \\\n",
        "\"\n",
        "runSelect(sql)"
      ],
      "metadata": {
        "id": "stnZT2dXqWT9",
        "outputId": "c12e0694-4d95-4603-fe49-0ff02d085351",
        "colab": {
          "base_uri": "https://localhost:8080/",
          "height": 175
        }
      },
      "execution_count": null,
      "outputs": [
        {
          "output_type": "execute_result",
          "data": {
            "text/plain": [
              "<pandas.io.formats.style.Styler at 0x7b4da6a773d0>"
            ],
            "text/html": [
              "<style type=\"text/css\">\n",
              "</style>\n",
              "<table id=\"T_88d21\" class=\"dataframe\">\n",
              "  <thead>\n",
              "    <tr>\n",
              "      <th id=\"T_88d21_level0_col0\" class=\"col_heading level0 col0\" >dim</th>\n",
              "      <th id=\"T_88d21_level0_col1\" class=\"col_heading level0 col1\" >consumer</th>\n",
              "      <th id=\"T_88d21_level0_col2\" class=\"col_heading level0 col2\" >corporate</th>\n",
              "      <th id=\"T_88d21_level0_col3\" class=\"col_heading level0 col3\" >homeoffice</th>\n",
              "      <th id=\"T_88d21_level0_col4\" class=\"col_heading level0 col4\" >totals</th>\n",
              "    </tr>\n",
              "  </thead>\n",
              "  <tbody>\n",
              "    <tr>\n",
              "      <td id=\"T_88d21_row0_col0\" class=\"data row0 col0\" >Totals</td>\n",
              "      <td id=\"T_88d21_row0_col1\" class=\"data row0 col1\" >1161401.34</td>\n",
              "      <td id=\"T_88d21_row0_col2\" class=\"data row0 col2\" >706146.44</td>\n",
              "      <td id=\"T_88d21_row0_col3\" class=\"data row0 col3\" >429653.29</td>\n",
              "      <td id=\"T_88d21_row0_col4\" class=\"data row0 col4\" >2297201.07</td>\n",
              "    </tr>\n",
              "    <tr>\n",
              "      <td id=\"T_88d21_row1_col0\" class=\"data row1 col0\" >Furniture</td>\n",
              "      <td id=\"T_88d21_row1_col1\" class=\"data row1 col1\" >391049.43</td>\n",
              "      <td id=\"T_88d21_row1_col2\" class=\"data row1 col2\" >229019.83</td>\n",
              "      <td id=\"T_88d21_row1_col3\" class=\"data row1 col3\" >121930.72</td>\n",
              "      <td id=\"T_88d21_row1_col4\" class=\"data row1 col4\" >741999.98</td>\n",
              "    </tr>\n",
              "    <tr>\n",
              "      <td id=\"T_88d21_row2_col0\" class=\"data row2 col0\" >Office Supplies</td>\n",
              "      <td id=\"T_88d21_row2_col1\" class=\"data row2 col1\" >363951.96</td>\n",
              "      <td id=\"T_88d21_row2_col2\" class=\"data row2 col2\" >230676.49</td>\n",
              "      <td id=\"T_88d21_row2_col3\" class=\"data row2 col3\" >124418.54</td>\n",
              "      <td id=\"T_88d21_row2_col4\" class=\"data row2 col4\" >719046.99</td>\n",
              "    </tr>\n",
              "    <tr>\n",
              "      <td id=\"T_88d21_row3_col0\" class=\"data row3 col0\" >Technology</td>\n",
              "      <td id=\"T_88d21_row3_col1\" class=\"data row3 col1\" >406399.95</td>\n",
              "      <td id=\"T_88d21_row3_col2\" class=\"data row3 col2\" >246450.12</td>\n",
              "      <td id=\"T_88d21_row3_col3\" class=\"data row3 col3\" >183304.03</td>\n",
              "      <td id=\"T_88d21_row3_col4\" class=\"data row3 col4\" >836154.10</td>\n",
              "    </tr>\n",
              "  </tbody>\n",
              "</table>\n"
            ]
          },
          "metadata": {},
          "execution_count": 32
        }
      ]
    },
    {
      "cell_type": "code",
      "source": [
        "sql = \" \\\n",
        "SELECT \\\n",
        "COALESCE(Category, 'Totals') AS Dim, \\\n",
        "sums.Central, sums.East, sums.West, sums.South, \\\n",
        "sums.Central + sums.East + sums.West + sums.South  Totals \\\n",
        "FROM ( \\\n",
        "  select Category, \\\n",
        "    sum(case when (Region = 'Central') then sales else 0 end) as Central, \\\n",
        "    sum(case when (Region = 'East') then sales else 0 end) as East, \\\n",
        "    sum(case when (Region = 'West') then sales else 0 end) as West, \\\n",
        "    sum(case when (Region = 'South') then sales else 0 end) as South \\\n",
        "    from ss_order \\\n",
        "    group by Rollup (Category) \\\n",
        ") AS sums \\\n",
        "\"\n",
        "runSelect(sql)"
      ],
      "metadata": {
        "id": "VszLNLHUquXE",
        "outputId": "32e59e72-8f31-4967-ff0a-825e0d0d1a14",
        "colab": {
          "base_uri": "https://localhost:8080/",
          "height": 175
        }
      },
      "execution_count": null,
      "outputs": [
        {
          "output_type": "execute_result",
          "data": {
            "text/plain": [
              "<pandas.io.formats.style.Styler at 0x7b4da6a953c0>"
            ],
            "text/html": [
              "<style type=\"text/css\">\n",
              "</style>\n",
              "<table id=\"T_039bc\" class=\"dataframe\">\n",
              "  <thead>\n",
              "    <tr>\n",
              "      <th id=\"T_039bc_level0_col0\" class=\"col_heading level0 col0\" >dim</th>\n",
              "      <th id=\"T_039bc_level0_col1\" class=\"col_heading level0 col1\" >central</th>\n",
              "      <th id=\"T_039bc_level0_col2\" class=\"col_heading level0 col2\" >east</th>\n",
              "      <th id=\"T_039bc_level0_col3\" class=\"col_heading level0 col3\" >west</th>\n",
              "      <th id=\"T_039bc_level0_col4\" class=\"col_heading level0 col4\" >south</th>\n",
              "      <th id=\"T_039bc_level0_col5\" class=\"col_heading level0 col5\" >totals</th>\n",
              "    </tr>\n",
              "  </thead>\n",
              "  <tbody>\n",
              "    <tr>\n",
              "      <td id=\"T_039bc_row0_col0\" class=\"data row0 col0\" >Totals</td>\n",
              "      <td id=\"T_039bc_row0_col1\" class=\"data row0 col1\" >501239.88</td>\n",
              "      <td id=\"T_039bc_row0_col2\" class=\"data row0 col2\" >678781.36</td>\n",
              "      <td id=\"T_039bc_row0_col3\" class=\"data row0 col3\" >725457.93</td>\n",
              "      <td id=\"T_039bc_row0_col4\" class=\"data row0 col4\" >391721.90</td>\n",
              "      <td id=\"T_039bc_row0_col5\" class=\"data row0 col5\" >2297201.07</td>\n",
              "    </tr>\n",
              "    <tr>\n",
              "      <td id=\"T_039bc_row1_col0\" class=\"data row1 col0\" >Furniture</td>\n",
              "      <td id=\"T_039bc_row1_col1\" class=\"data row1 col1\" >163797.26</td>\n",
              "      <td id=\"T_039bc_row1_col2\" class=\"data row1 col2\" >208291.17</td>\n",
              "      <td id=\"T_039bc_row1_col3\" class=\"data row1 col3\" >252612.87</td>\n",
              "      <td id=\"T_039bc_row1_col4\" class=\"data row1 col4\" >117298.68</td>\n",
              "      <td id=\"T_039bc_row1_col5\" class=\"data row1 col5\" >741999.98</td>\n",
              "    </tr>\n",
              "    <tr>\n",
              "      <td id=\"T_039bc_row2_col0\" class=\"data row2 col0\" >Office Supplies</td>\n",
              "      <td id=\"T_039bc_row2_col1\" class=\"data row2 col1\" >167026.33</td>\n",
              "      <td id=\"T_039bc_row2_col2\" class=\"data row2 col2\" >205516.15</td>\n",
              "      <td id=\"T_039bc_row2_col3\" class=\"data row2 col3\" >220853.20</td>\n",
              "      <td id=\"T_039bc_row2_col4\" class=\"data row2 col4\" >125651.31</td>\n",
              "      <td id=\"T_039bc_row2_col5\" class=\"data row2 col5\" >719046.99</td>\n",
              "    </tr>\n",
              "    <tr>\n",
              "      <td id=\"T_039bc_row3_col0\" class=\"data row3 col0\" >Technology</td>\n",
              "      <td id=\"T_039bc_row3_col1\" class=\"data row3 col1\" >170416.29</td>\n",
              "      <td id=\"T_039bc_row3_col2\" class=\"data row3 col2\" >264974.04</td>\n",
              "      <td id=\"T_039bc_row3_col3\" class=\"data row3 col3\" >251991.86</td>\n",
              "      <td id=\"T_039bc_row3_col4\" class=\"data row3 col4\" >148771.91</td>\n",
              "      <td id=\"T_039bc_row3_col5\" class=\"data row3 col5\" >836154.10</td>\n",
              "    </tr>\n",
              "  </tbody>\n",
              "</table>\n"
            ]
          },
          "metadata": {},
          "execution_count": 33
        }
      ]
    },
    {
      "cell_type": "code",
      "source": [
        "from datetime import datetime\n",
        "import pytz\n",
        "print(datetime.now(pytz.timezone('Asia/Calcutta')))\n"
      ],
      "metadata": {
        "id": "AkM833qfrfdg",
        "outputId": "14712019-3982-4b8c-86f7-5b2ae153d66e",
        "colab": {
          "base_uri": "https://localhost:8080/"
        }
      },
      "execution_count": null,
      "outputs": [
        {
          "output_type": "stream",
          "name": "stdout",
          "text": [
            "2024-01-16 10:44:28.163083+05:30\n"
          ]
        }
      ]
    },
    {
      "cell_type": "markdown",
      "source": [
        "#Chronobooks <br>\n",
        "Two science fiction novels by Prithwis Mukerjee. A dystopian Earth. A technocratic society managed by artificial intelligence. Escape and epiphany on Mars. Can man and machine, carbon and silicon explore and escape into other dimensions of existence? An Indic perspective rooted in Advaita Vedanta and the Divine Feminine.  [More information](http://bit.ly/chronobooks) <br>\n",
        "![alt text](https://github.com/Praxis-QR/RDWH/raw/main/images/CTCYFooter-1.png)"
      ],
      "metadata": {
        "id": "_gNiZpyW3AzJ"
      }
    }
  ]
}