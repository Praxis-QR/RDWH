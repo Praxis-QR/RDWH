{
  "nbformat": 4,
  "nbformat_minor": 0,
  "metadata": {
    "colab": {
      "provenance": [],
      "toc_visible": true,
      "include_colab_link": true
    },
    "kernelspec": {
      "name": "python3",
      "display_name": "Python 3"
    },
    "language_info": {
      "name": "python"
    }
  },
  "cells": [
    {
      "cell_type": "markdown",
      "metadata": {
        "id": "view-in-github",
        "colab_type": "text"
      },
      "source": [
        "<a href=\"https://colab.research.google.com/github/Praxis-QR/RDWH/blob/main/PG24_3C_Exercise.ipynb\" target=\"_parent\"><img src=\"https://colab.research.google.com/assets/colab-badge.svg\" alt=\"Open In Colab\"/></a>"
      ]
    },
    {
      "cell_type": "markdown",
      "source": [
        "![Yantrajaal Banner](https://github.com/Praxis-QR/RDWH/raw/main/images/YantraJaalBanner.png)<br>\n",
        "\n",
        "\n",
        "<hr>\n",
        "\n",
        "[Prithwis Mukerjee](http://www.linkedin.com/in/prithwis)<br>"
      ],
      "metadata": {
        "id": "DBzz-qaN2tKu"
      }
    },
    {
      "cell_type": "markdown",
      "source": [
        "#Postgres Exercises\n",
        "https://pgexercises.com/ <br>\n",
        "https://pgexercises.com/gettingstarted.html"
      ],
      "metadata": {
        "id": "QIfgaOrxZ39z"
      }
    },
    {
      "cell_type": "code",
      "source": [
        "from datetime import datetime\n",
        "import pytz\n",
        "print('ॐ श्री सरस्वत्यै नमः',datetime.now(pytz.timezone('Asia/Calcutta')))\n",
        "!python --version\n",
        "!lsb_release -a"
      ],
      "metadata": {
        "id": "txwvst5Hs5mI",
        "outputId": "5bea225e-847d-4a53-d7ce-0e15ec2ef259",
        "colab": {
          "base_uri": "https://localhost:8080/"
        }
      },
      "execution_count": 1,
      "outputs": [
        {
          "output_type": "stream",
          "name": "stdout",
          "text": [
            "ॐ श्री सरस्वत्यै नमः 2025-02-27 05:52:20.579229+05:30\n",
            "Python 3.11.11\n",
            "No LSB modules are available.\n",
            "Distributor ID:\tUbuntu\n",
            "Description:\tUbuntu 22.04.4 LTS\n",
            "Release:\t22.04\n",
            "Codename:\tjammy\n"
          ]
        }
      ]
    },
    {
      "cell_type": "markdown",
      "source": [
        "#Install & Configure Postgres"
      ],
      "metadata": {
        "id": "nD-QawLT6kDr"
      }
    },
    {
      "cell_type": "code",
      "source": [
        "# Install postgresql server\n",
        "\n",
        "!apt update > /dev/null\n",
        "!apt install postgresql > /dev/null\n",
        "#!sudo -u postgres psql -V\n",
        "!psql -V\n",
        "!service postgresql start"
      ],
      "metadata": {
        "colab": {
          "base_uri": "https://localhost:8080/"
        },
        "id": "o_RaqE0OOHP3",
        "outputId": "08288f89-b4ea-4266-b3cf-f4bb0f6e839d"
      },
      "execution_count": 2,
      "outputs": [
        {
          "output_type": "stream",
          "name": "stdout",
          "text": [
            "\n",
            "WARNING: apt does not have a stable CLI interface. Use with caution in scripts.\n",
            "\n",
            "W: Skipping acquire of configured file 'main/source/Sources' as repository 'https://r2u.stat.illinois.edu/ubuntu jammy InRelease' does not seem to provide it (sources.list entry misspelt?)\n",
            "\n",
            "WARNING: apt does not have a stable CLI interface. Use with caution in scripts.\n",
            "\n",
            "psql (PostgreSQL) 14.15 (Ubuntu 14.15-0ubuntu0.22.04.1)\n",
            " * Starting PostgreSQL 14 database server\n",
            "   ...done.\n"
          ]
        }
      ]
    },
    {
      "cell_type": "code",
      "source": [
        "#!pip install psycopg2\n",
        "import psycopg2\n",
        "import pandas as pd"
      ],
      "metadata": {
        "id": "Ol-251fprgOZ"
      },
      "execution_count": 3,
      "outputs": []
    },
    {
      "cell_type": "markdown",
      "source": [
        "#Create Schema, Tables and Insert Data"
      ],
      "metadata": {
        "id": "JP7hBhEaYzW8"
      }
    },
    {
      "cell_type": "code",
      "source": [
        "# Change the database superuser 'postgres' to a non-default value 'pass'\n",
        "!sudo -u postgres psql -U postgres -c \"ALTER USER postgres PASSWORD 'pass';\""
      ],
      "metadata": {
        "colab": {
          "base_uri": "https://localhost:8080/"
        },
        "id": "NWkT4jeeQXw2",
        "outputId": "78e7fe1c-6f1c-4dd3-f64a-c5af49c11c02"
      },
      "execution_count": 4,
      "outputs": [
        {
          "output_type": "stream",
          "name": "stdout",
          "text": [
            "ALTER ROLE\n"
          ]
        }
      ]
    },
    {
      "cell_type": "code",
      "source": [
        "# Download and execute SQL file to create tables, load data\n",
        "#\n",
        "#!wget https://pgexercises.com/dbfiles/clubdata.sql\n",
        "!wget -q https://raw.githubusercontent.com/Praxis-QR/RDWH/main/data/clubdata.sql\n",
        "#Run the batch file to create tables, load data\n",
        "!psql -h localhost -U postgres -f clubdata.sql -d postgres -x -q\n"
      ],
      "metadata": {
        "id": "01kFB_EbXzKg",
        "colab": {
          "base_uri": "https://localhost:8080/"
        },
        "outputId": "7ee7750d-3ce9-45c5-a83c-71b356ce6ac9"
      },
      "execution_count": 5,
      "outputs": [
        {
          "output_type": "stream",
          "name": "stdout",
          "text": [
            "Password for user postgres: \n"
          ]
        }
      ]
    },
    {
      "cell_type": "code",
      "source": [
        "# Create file to store the password. Else will be prompted each time\n",
        "#!echo \"localhost:5432:praxisdb:postgres:pass\" > ~/.pgpass\n",
        "!echo \"localhost:5432:exercises:postgres:pass\" > ~/.pgpass\n",
        "!chmod 0600 ~/.pgpass\n",
        "!cat ~/.pgpass"
      ],
      "metadata": {
        "colab": {
          "base_uri": "https://localhost:8080/"
        },
        "id": "jTtfpsn7P4ak",
        "outputId": "c96cfe90-e082-4dba-cdfa-36935e9197ad"
      },
      "execution_count": 6,
      "outputs": [
        {
          "output_type": "stream",
          "name": "stdout",
          "text": [
            "localhost:5432:exercises:postgres:pass\n"
          ]
        }
      ]
    },
    {
      "cell_type": "code",
      "source": [
        "#Note new database called exercises\n",
        "!psql -h localhost -p 5432 -Upostgres -c \"\\l\""
      ],
      "metadata": {
        "colab": {
          "base_uri": "https://localhost:8080/"
        },
        "id": "bjHFMAF_QhCD",
        "outputId": "c37bdc8b-949d-4d56-ec14-620ccdae517f"
      },
      "execution_count": 7,
      "outputs": [
        {
          "output_type": "stream",
          "name": "stdout",
          "text": [
            "Password for user postgres: \n",
            "                                  List of databases\n",
            "   Name    |  Owner   | Encoding |   Collate   |    Ctype    |   Access privileges   \n",
            "-----------+----------+----------+-------------+-------------+-----------------------\n",
            " exercises | postgres | UTF8     | en_US.UTF-8 | en_US.UTF-8 | \n",
            " postgres  | postgres | UTF8     | en_US.UTF-8 | en_US.UTF-8 | \n",
            " template0 | postgres | UTF8     | en_US.UTF-8 | en_US.UTF-8 | =c/postgres          +\n",
            "           |          |          |             |             | postgres=CTc/postgres\n",
            " template1 | postgres | UTF8     | en_US.UTF-8 | en_US.UTF-8 | =c/postgres          +\n",
            "           |          |          |             |             | postgres=CTc/postgres\n",
            "(4 rows)\n",
            "\n"
          ]
        }
      ]
    },
    {
      "cell_type": "code",
      "source": [
        "#Note three tables under schema cd\n",
        "!psql -h localhost -p 5432 -Upostgres -d exercises -c \"\\dt+ cd.*\""
      ],
      "metadata": {
        "colab": {
          "base_uri": "https://localhost:8080/"
        },
        "id": "AieaKdT9Qr7Z",
        "outputId": "6c36747e-777b-4c24-a6e6-4ef35d2c5138"
      },
      "execution_count": 8,
      "outputs": [
        {
          "output_type": "stream",
          "name": "stdout",
          "text": [
            "                                      List of relations\n",
            " Schema |    Name    | Type  |  Owner   | Persistence | Access method |  Size  | Description \n",
            "--------+------------+-------+----------+-------------+---------------+--------+-------------\n",
            " cd     | bookings   | table | postgres | permanent   | heap          | 264 kB | \n",
            " cd     | facilities | table | postgres | permanent   | heap          | 16 kB  | \n",
            " cd     | members    | table | postgres | permanent   | heap          | 16 kB  | \n",
            "(3 rows)\n",
            "\n"
          ]
        }
      ]
    },
    {
      "cell_type": "code",
      "source": [
        "#Note column / datatypes of all tables under schema cd\n",
        "!psql -h localhost -p 5432 -Upostgres -d exercises -c \"\\d cd.*\""
      ],
      "metadata": {
        "id": "wsRd3GkIDdGu",
        "outputId": "049ad074-81bc-4388-af52-4f52ae8e20eb",
        "colab": {
          "base_uri": "https://localhost:8080/"
        }
      },
      "execution_count": 9,
      "outputs": [
        {
          "output_type": "stream",
          "name": "stdout",
          "text": [
            "                           Table \"cd.bookings\"\n",
            "  Column   |            Type             | Collation | Nullable | Default \n",
            "-----------+-----------------------------+-----------+----------+---------\n",
            " bookid    | integer                     |           | not null | \n",
            " facid     | integer                     |           | not null | \n",
            " memid     | integer                     |           | not null | \n",
            " starttime | timestamp without time zone |           | not null | \n",
            " slots     | integer                     |           | not null | \n",
            "Indexes:\n",
            "    \"bookings_pk\" PRIMARY KEY, btree (bookid)\n",
            "    \"bookings.facid_memid\" btree (facid, memid)\n",
            "    \"bookings.facid_starttime\" btree (facid, starttime)\n",
            "    \"bookings.memid_facid\" btree (memid, facid)\n",
            "    \"bookings.memid_starttime\" btree (memid, starttime)\n",
            "    \"bookings.starttime\" btree (starttime)\n",
            "Foreign-key constraints:\n",
            "    \"fk_bookings_facid\" FOREIGN KEY (facid) REFERENCES cd.facilities(facid)\n",
            "    \"fk_bookings_memid\" FOREIGN KEY (memid) REFERENCES cd.members(memid)\n",
            "\n",
            "   Index \"cd.bookings.facid_memid\"\n",
            " Column |  Type   | Key? | Definition \n",
            "--------+---------+------+------------\n",
            " facid  | integer | yes  | facid\n",
            " memid  | integer | yes  | memid\n",
            "btree, for table \"cd.bookings\"\n",
            "\n",
            "             Index \"cd.bookings.facid_starttime\"\n",
            "  Column   |            Type             | Key? | Definition \n",
            "-----------+-----------------------------+------+------------\n",
            " facid     | integer                     | yes  | facid\n",
            " starttime | timestamp without time zone | yes  | starttime\n",
            "btree, for table \"cd.bookings\"\n",
            "\n",
            "   Index \"cd.bookings.memid_facid\"\n",
            " Column |  Type   | Key? | Definition \n",
            "--------+---------+------+------------\n",
            " memid  | integer | yes  | memid\n",
            " facid  | integer | yes  | facid\n",
            "btree, for table \"cd.bookings\"\n",
            "\n",
            "             Index \"cd.bookings.memid_starttime\"\n",
            "  Column   |            Type             | Key? | Definition \n",
            "-----------+-----------------------------+------+------------\n",
            " memid     | integer                     | yes  | memid\n",
            " starttime | timestamp without time zone | yes  | starttime\n",
            "btree, for table \"cd.bookings\"\n",
            "\n",
            "                Index \"cd.bookings.starttime\"\n",
            "  Column   |            Type             | Key? | Definition \n",
            "-----------+-----------------------------+------+------------\n",
            " starttime | timestamp without time zone | yes  | starttime\n",
            "btree, for table \"cd.bookings\"\n",
            "\n",
            "        Index \"cd.bookings_pk\"\n",
            " Column |  Type   | Key? | Definition \n",
            "--------+---------+------+------------\n",
            " bookid | integer | yes  | bookid\n",
            "primary key, btree, for table \"cd.bookings\"\n",
            "\n",
            "                            Table \"cd.facilities\"\n",
            "       Column       |          Type          | Collation | Nullable | Default \n",
            "--------------------+------------------------+-----------+----------+---------\n",
            " facid              | integer                |           | not null | \n",
            " name               | character varying(100) |           | not null | \n",
            " membercost         | numeric                |           | not null | \n",
            " guestcost          | numeric                |           | not null | \n",
            " initialoutlay      | numeric                |           | not null | \n",
            " monthlymaintenance | numeric                |           | not null | \n",
            "Indexes:\n",
            "    \"facilities_pk\" PRIMARY KEY, btree (facid)\n",
            "Referenced by:\n",
            "    TABLE \"cd.bookings\" CONSTRAINT \"fk_bookings_facid\" FOREIGN KEY (facid) REFERENCES cd.facilities(facid)\n",
            "\n",
            "       Index \"cd.facilities_pk\"\n",
            " Column |  Type   | Key? | Definition \n",
            "--------+---------+------+------------\n",
            " facid  | integer | yes  | facid\n",
            "primary key, btree, for table \"cd.facilities\"\n",
            "\n",
            "                              Table \"cd.members\"\n",
            "    Column     |            Type             | Collation | Nullable | Default \n",
            "---------------+-----------------------------+-----------+----------+---------\n",
            " memid         | integer                     |           | not null | \n",
            " surname       | character varying(200)      |           | not null | \n",
            " firstname     | character varying(200)      |           | not null | \n",
            " address       | character varying(300)      |           | not null | \n",
            " zipcode       | integer                     |           | not null | \n",
            " telephone     | character varying(20)       |           | not null | \n",
            " recommendedby | integer                     |           |          | \n",
            " joindate      | timestamp without time zone |           | not null | \n",
            "Indexes:\n",
            "    \"members_pk\" PRIMARY KEY, btree (memid)\n",
            "    \"members.joindate\" btree (joindate)\n",
            "    \"members.recommendedby\" btree (recommendedby)\n",
            "Foreign-key constraints:\n",
            "    \"fk_members_recommendedby\" FOREIGN KEY (recommendedby) REFERENCES cd.members(memid) ON DELETE SET NULL\n",
            "Referenced by:\n",
            "    TABLE \"cd.bookings\" CONSTRAINT \"fk_bookings_memid\" FOREIGN KEY (memid) REFERENCES cd.members(memid)\n",
            "    TABLE \"cd.members\" CONSTRAINT \"fk_members_recommendedby\" FOREIGN KEY (recommendedby) REFERENCES cd.members(memid) ON DELETE SET NULL\n",
            "\n",
            "                Index \"cd.members.joindate\"\n",
            "  Column  |            Type             | Key? | Definition \n",
            "----------+-----------------------------+------+------------\n",
            " joindate | timestamp without time zone | yes  | joindate\n",
            "btree, for table \"cd.members\"\n",
            "\n",
            "        Index \"cd.members.recommendedby\"\n",
            "    Column     |  Type   | Key? |  Definition   \n",
            "---------------+---------+------+---------------\n",
            " recommendedby | integer | yes  | recommendedby\n",
            "btree, for table \"cd.members\"\n",
            "\n",
            "        Index \"cd.members_pk\"\n",
            " Column |  Type   | Key? | Definition \n",
            "--------+---------+------+------------\n",
            " memid  | integer | yes  | memid\n",
            "primary key, btree, for table \"cd.members\"\n",
            "\n"
          ]
        }
      ]
    },
    {
      "cell_type": "code",
      "source": [
        "#Note column / datatypes of all tables under schema cd\n",
        "!psql -h localhost -p 5432 -Upostgres -d exercises -c \"\\d cd.members\""
      ],
      "metadata": {
        "id": "dkbN50QrD6Fo",
        "outputId": "731b849d-f64a-4f20-fa86-3861baca0cc8",
        "colab": {
          "base_uri": "https://localhost:8080/"
        }
      },
      "execution_count": 10,
      "outputs": [
        {
          "output_type": "stream",
          "name": "stdout",
          "text": [
            "                              Table \"cd.members\"\n",
            "    Column     |            Type             | Collation | Nullable | Default \n",
            "---------------+-----------------------------+-----------+----------+---------\n",
            " memid         | integer                     |           | not null | \n",
            " surname       | character varying(200)      |           | not null | \n",
            " firstname     | character varying(200)      |           | not null | \n",
            " address       | character varying(300)      |           | not null | \n",
            " zipcode       | integer                     |           | not null | \n",
            " telephone     | character varying(20)       |           | not null | \n",
            " recommendedby | integer                     |           |          | \n",
            " joindate      | timestamp without time zone |           | not null | \n",
            "Indexes:\n",
            "    \"members_pk\" PRIMARY KEY, btree (memid)\n",
            "    \"members.joindate\" btree (joindate)\n",
            "    \"members.recommendedby\" btree (recommendedby)\n",
            "Foreign-key constraints:\n",
            "    \"fk_members_recommendedby\" FOREIGN KEY (recommendedby) REFERENCES cd.members(memid) ON DELETE SET NULL\n",
            "Referenced by:\n",
            "    TABLE \"cd.bookings\" CONSTRAINT \"fk_bookings_memid\" FOREIGN KEY (memid) REFERENCES cd.members(memid)\n",
            "    TABLE \"cd.members\" CONSTRAINT \"fk_members_recommendedby\" FOREIGN KEY (recommendedby) REFERENCES cd.members(memid) ON DELETE SET NULL\n",
            "\n"
          ]
        }
      ]
    },
    {
      "cell_type": "markdown",
      "source": [
        "## Python Access\n",
        "https://www.tutorialspoint.com/python_data_access/python_postgresql_database_connection.htm"
      ],
      "metadata": {
        "id": "faZEj8_7CeZ8"
      }
    },
    {
      "cell_type": "code",
      "source": [
        "# Local Colab server\n",
        "\n",
        "conn = psycopg2.connect(database=\"exercises\", user='postgres', password='pass', host='127.0.0.1', port= '5432')\n",
        "#Creating a cursor object using the cursor() method\n",
        "cursor = conn.cursor()\n",
        "#Executing an MYSQL function using the execute() method\n",
        "cursor.execute(\"select version()\")\n",
        "# Fetch a single row using fetchone() method.\n",
        "data = cursor.fetchone()\n",
        "print(\"Connection established to: \",data)\n",
        "#Closing the connection\n",
        "conn.close()"
      ],
      "metadata": {
        "id": "wcE-8UBnC4zV",
        "outputId": "2b5294ae-5810-4d9d-fccb-064dc4b1cd0c",
        "colab": {
          "base_uri": "https://localhost:8080/"
        }
      },
      "execution_count": 11,
      "outputs": [
        {
          "output_type": "stream",
          "name": "stdout",
          "text": [
            "Connection established to:  ('PostgreSQL 14.15 (Ubuntu 14.15-0ubuntu0.22.04.1) on x86_64-pc-linux-gnu, compiled by gcc (Ubuntu 11.4.0-1ubuntu1~22.04) 11.4.0, 64-bit',)\n"
          ]
        }
      ]
    },
    {
      "cell_type": "code",
      "source": [
        "# function to execute SQL select statements with Postgres\n",
        "#\n",
        "def runSelect(s):\n",
        "    #Set up connection\n",
        "\n",
        "    conn = psycopg2.connect(database=\"exercises\", user='postgres', password='pass', host='127.0.0.1', port= '5432')\n",
        "    #Setting auto commit true\n",
        "    conn.autocommit = True\n",
        "    #Creating a cursor object using the cursor() method\n",
        "    cursor = conn.cursor()\n",
        "    #Retrieving data\n",
        "    cursor.execute(s)\n",
        "    #Fetching all rows from the table\n",
        "    result = cursor.fetchall();\n",
        "    #print(len(result))\n",
        "    if (len(result)) > 0:                                       # result contains at least one row\n",
        "        colnames = [desc[0] for desc in cursor.description]     # get column names\n",
        "        #print(colnames)\n",
        "        resultdf = pd.DataFrame(result)                         # convert list to dataframe\n",
        "        resultdf.columns = colnames                             # add column names\n",
        "        #return resultdf\n",
        "        return resultdf.style.hide()                            # hide the index\n",
        "    else:\n",
        "        print('no records found')\n",
        "        return\n",
        "# function to execute SQL non-select statements with Postgres\n",
        "#\n",
        "def runCmd(s):\n",
        "    #Create Connection\n",
        "    conn = psycopg2.connect(database=\"exercises\", user='postgres', password='pass', host='127.0.0.1', port= '5432')\n",
        "    #Creating a cursor object using the cursor() method\n",
        "    cursor = conn.cursor()\n",
        "    try:\n",
        "        cursor.execute(s)\n",
        "        print('Command executed')\n",
        "        conn.commit()\n",
        "    except:\n",
        "        print('Command failed')\n",
        "    #Closing the connection\n",
        "    conn.close()"
      ],
      "metadata": {
        "id": "ht2k7-3iggNd"
      },
      "execution_count": 12,
      "outputs": []
    },
    {
      "cell_type": "code",
      "source": [
        "def pyClient(s):\n",
        "    if s.split(' ', 1)[0].lower() == 'select':      # If first word = select\n",
        "        df = runSelect(s)                           # then use runSelect()\n",
        "        return df                                   # return the pandas dataframe obtained from runSelect()\n",
        "    else:                                           # else\n",
        "        runCmd(s)                                   # use runCmd()"
      ],
      "metadata": {
        "id": "MA7ERVfqgeNi"
      },
      "execution_count": 13,
      "outputs": []
    },
    {
      "cell_type": "markdown",
      "source": [
        "##Check Data"
      ],
      "metadata": {
        "id": "RvTKboYtbSjZ"
      }
    },
    {
      "cell_type": "code",
      "source": [
        "#runSelect(\"select * from cd.members limit 3\")\n",
        "pyClient(\"select * from cd.members limit 3\")"
      ],
      "metadata": {
        "colab": {
          "base_uri": "https://localhost:8080/",
          "height": 143
        },
        "id": "ctq0ULCvVTsO",
        "outputId": "2157dcc7-e9cf-4db0-efcb-95557eaeffd1"
      },
      "execution_count": 14,
      "outputs": [
        {
          "output_type": "execute_result",
          "data": {
            "text/plain": [
              "<pandas.io.formats.style.Styler at 0x7eb7008f9e90>"
            ],
            "text/html": [
              "<style type=\"text/css\">\n",
              "</style>\n",
              "<table id=\"T_03a39\" class=\"dataframe\">\n",
              "  <thead>\n",
              "    <tr>\n",
              "      <th id=\"T_03a39_level0_col0\" class=\"col_heading level0 col0\" >memid</th>\n",
              "      <th id=\"T_03a39_level0_col1\" class=\"col_heading level0 col1\" >surname</th>\n",
              "      <th id=\"T_03a39_level0_col2\" class=\"col_heading level0 col2\" >firstname</th>\n",
              "      <th id=\"T_03a39_level0_col3\" class=\"col_heading level0 col3\" >address</th>\n",
              "      <th id=\"T_03a39_level0_col4\" class=\"col_heading level0 col4\" >zipcode</th>\n",
              "      <th id=\"T_03a39_level0_col5\" class=\"col_heading level0 col5\" >telephone</th>\n",
              "      <th id=\"T_03a39_level0_col6\" class=\"col_heading level0 col6\" >recommendedby</th>\n",
              "      <th id=\"T_03a39_level0_col7\" class=\"col_heading level0 col7\" >joindate</th>\n",
              "    </tr>\n",
              "  </thead>\n",
              "  <tbody>\n",
              "    <tr>\n",
              "      <td id=\"T_03a39_row0_col0\" class=\"data row0 col0\" >0</td>\n",
              "      <td id=\"T_03a39_row0_col1\" class=\"data row0 col1\" >GUEST</td>\n",
              "      <td id=\"T_03a39_row0_col2\" class=\"data row0 col2\" >GUEST</td>\n",
              "      <td id=\"T_03a39_row0_col3\" class=\"data row0 col3\" >GUEST</td>\n",
              "      <td id=\"T_03a39_row0_col4\" class=\"data row0 col4\" >0</td>\n",
              "      <td id=\"T_03a39_row0_col5\" class=\"data row0 col5\" >(000) 000-0000</td>\n",
              "      <td id=\"T_03a39_row0_col6\" class=\"data row0 col6\" >None</td>\n",
              "      <td id=\"T_03a39_row0_col7\" class=\"data row0 col7\" >2012-07-01 00:00:00</td>\n",
              "    </tr>\n",
              "    <tr>\n",
              "      <td id=\"T_03a39_row1_col0\" class=\"data row1 col0\" >1</td>\n",
              "      <td id=\"T_03a39_row1_col1\" class=\"data row1 col1\" >Smith</td>\n",
              "      <td id=\"T_03a39_row1_col2\" class=\"data row1 col2\" >Darren</td>\n",
              "      <td id=\"T_03a39_row1_col3\" class=\"data row1 col3\" >8 Bloomsbury Close, Boston</td>\n",
              "      <td id=\"T_03a39_row1_col4\" class=\"data row1 col4\" >4321</td>\n",
              "      <td id=\"T_03a39_row1_col5\" class=\"data row1 col5\" >555-555-5555</td>\n",
              "      <td id=\"T_03a39_row1_col6\" class=\"data row1 col6\" >None</td>\n",
              "      <td id=\"T_03a39_row1_col7\" class=\"data row1 col7\" >2012-07-02 12:02:05</td>\n",
              "    </tr>\n",
              "    <tr>\n",
              "      <td id=\"T_03a39_row2_col0\" class=\"data row2 col0\" >2</td>\n",
              "      <td id=\"T_03a39_row2_col1\" class=\"data row2 col1\" >Smith</td>\n",
              "      <td id=\"T_03a39_row2_col2\" class=\"data row2 col2\" >Tracy</td>\n",
              "      <td id=\"T_03a39_row2_col3\" class=\"data row2 col3\" >8 Bloomsbury Close, New York</td>\n",
              "      <td id=\"T_03a39_row2_col4\" class=\"data row2 col4\" >4321</td>\n",
              "      <td id=\"T_03a39_row2_col5\" class=\"data row2 col5\" >555-555-5555</td>\n",
              "      <td id=\"T_03a39_row2_col6\" class=\"data row2 col6\" >None</td>\n",
              "      <td id=\"T_03a39_row2_col7\" class=\"data row2 col7\" >2012-07-02 12:08:23</td>\n",
              "    </tr>\n",
              "  </tbody>\n",
              "</table>\n"
            ]
          },
          "metadata": {},
          "execution_count": 14
        }
      ]
    },
    {
      "cell_type": "code",
      "source": [
        "#runSelect(\"select * from cd.facilities limit 3\")\n",
        "pyClient(\"select * from cd.facilities limit 3\")"
      ],
      "metadata": {
        "colab": {
          "base_uri": "https://localhost:8080/",
          "height": 143
        },
        "id": "Kz0e14SYXGqy",
        "outputId": "b16ad7a3-b0f5-4ed3-d4c7-14d2f0d172ca"
      },
      "execution_count": 15,
      "outputs": [
        {
          "output_type": "execute_result",
          "data": {
            "text/plain": [
              "<pandas.io.formats.style.Styler at 0x7eb6bf008150>"
            ],
            "text/html": [
              "<style type=\"text/css\">\n",
              "</style>\n",
              "<table id=\"T_4325e\" class=\"dataframe\">\n",
              "  <thead>\n",
              "    <tr>\n",
              "      <th id=\"T_4325e_level0_col0\" class=\"col_heading level0 col0\" >facid</th>\n",
              "      <th id=\"T_4325e_level0_col1\" class=\"col_heading level0 col1\" >name</th>\n",
              "      <th id=\"T_4325e_level0_col2\" class=\"col_heading level0 col2\" >membercost</th>\n",
              "      <th id=\"T_4325e_level0_col3\" class=\"col_heading level0 col3\" >guestcost</th>\n",
              "      <th id=\"T_4325e_level0_col4\" class=\"col_heading level0 col4\" >initialoutlay</th>\n",
              "      <th id=\"T_4325e_level0_col5\" class=\"col_heading level0 col5\" >monthlymaintenance</th>\n",
              "    </tr>\n",
              "  </thead>\n",
              "  <tbody>\n",
              "    <tr>\n",
              "      <td id=\"T_4325e_row0_col0\" class=\"data row0 col0\" >0</td>\n",
              "      <td id=\"T_4325e_row0_col1\" class=\"data row0 col1\" >Tennis Court 1</td>\n",
              "      <td id=\"T_4325e_row0_col2\" class=\"data row0 col2\" >5</td>\n",
              "      <td id=\"T_4325e_row0_col3\" class=\"data row0 col3\" >25</td>\n",
              "      <td id=\"T_4325e_row0_col4\" class=\"data row0 col4\" >10000</td>\n",
              "      <td id=\"T_4325e_row0_col5\" class=\"data row0 col5\" >200</td>\n",
              "    </tr>\n",
              "    <tr>\n",
              "      <td id=\"T_4325e_row1_col0\" class=\"data row1 col0\" >1</td>\n",
              "      <td id=\"T_4325e_row1_col1\" class=\"data row1 col1\" >Tennis Court 2</td>\n",
              "      <td id=\"T_4325e_row1_col2\" class=\"data row1 col2\" >5</td>\n",
              "      <td id=\"T_4325e_row1_col3\" class=\"data row1 col3\" >25</td>\n",
              "      <td id=\"T_4325e_row1_col4\" class=\"data row1 col4\" >8000</td>\n",
              "      <td id=\"T_4325e_row1_col5\" class=\"data row1 col5\" >200</td>\n",
              "    </tr>\n",
              "    <tr>\n",
              "      <td id=\"T_4325e_row2_col0\" class=\"data row2 col0\" >2</td>\n",
              "      <td id=\"T_4325e_row2_col1\" class=\"data row2 col1\" >Badminton Court</td>\n",
              "      <td id=\"T_4325e_row2_col2\" class=\"data row2 col2\" >0</td>\n",
              "      <td id=\"T_4325e_row2_col3\" class=\"data row2 col3\" >15.5</td>\n",
              "      <td id=\"T_4325e_row2_col4\" class=\"data row2 col4\" >4000</td>\n",
              "      <td id=\"T_4325e_row2_col5\" class=\"data row2 col5\" >50</td>\n",
              "    </tr>\n",
              "  </tbody>\n",
              "</table>\n"
            ]
          },
          "metadata": {},
          "execution_count": 15
        }
      ]
    },
    {
      "cell_type": "code",
      "source": [
        "#runSelect(\"select * from cd.bookings limit 3\")\n",
        "pyClient(\"select * from cd.bookings limit 3\")"
      ],
      "metadata": {
        "colab": {
          "base_uri": "https://localhost:8080/",
          "height": 143
        },
        "id": "ZFliVHZwYn_P",
        "outputId": "1cab89e8-c7b3-40d1-dc81-e2c569341de2"
      },
      "execution_count": 16,
      "outputs": [
        {
          "output_type": "execute_result",
          "data": {
            "text/plain": [
              "<pandas.io.formats.style.Styler at 0x7eb6bf0dde90>"
            ],
            "text/html": [
              "<style type=\"text/css\">\n",
              "</style>\n",
              "<table id=\"T_3e4ed\" class=\"dataframe\">\n",
              "  <thead>\n",
              "    <tr>\n",
              "      <th id=\"T_3e4ed_level0_col0\" class=\"col_heading level0 col0\" >bookid</th>\n",
              "      <th id=\"T_3e4ed_level0_col1\" class=\"col_heading level0 col1\" >facid</th>\n",
              "      <th id=\"T_3e4ed_level0_col2\" class=\"col_heading level0 col2\" >memid</th>\n",
              "      <th id=\"T_3e4ed_level0_col3\" class=\"col_heading level0 col3\" >starttime</th>\n",
              "      <th id=\"T_3e4ed_level0_col4\" class=\"col_heading level0 col4\" >slots</th>\n",
              "    </tr>\n",
              "  </thead>\n",
              "  <tbody>\n",
              "    <tr>\n",
              "      <td id=\"T_3e4ed_row0_col0\" class=\"data row0 col0\" >0</td>\n",
              "      <td id=\"T_3e4ed_row0_col1\" class=\"data row0 col1\" >3</td>\n",
              "      <td id=\"T_3e4ed_row0_col2\" class=\"data row0 col2\" >1</td>\n",
              "      <td id=\"T_3e4ed_row0_col3\" class=\"data row0 col3\" >2012-07-03 11:00:00</td>\n",
              "      <td id=\"T_3e4ed_row0_col4\" class=\"data row0 col4\" >2</td>\n",
              "    </tr>\n",
              "    <tr>\n",
              "      <td id=\"T_3e4ed_row1_col0\" class=\"data row1 col0\" >1</td>\n",
              "      <td id=\"T_3e4ed_row1_col1\" class=\"data row1 col1\" >4</td>\n",
              "      <td id=\"T_3e4ed_row1_col2\" class=\"data row1 col2\" >1</td>\n",
              "      <td id=\"T_3e4ed_row1_col3\" class=\"data row1 col3\" >2012-07-03 08:00:00</td>\n",
              "      <td id=\"T_3e4ed_row1_col4\" class=\"data row1 col4\" >2</td>\n",
              "    </tr>\n",
              "    <tr>\n",
              "      <td id=\"T_3e4ed_row2_col0\" class=\"data row2 col0\" >2</td>\n",
              "      <td id=\"T_3e4ed_row2_col1\" class=\"data row2 col1\" >6</td>\n",
              "      <td id=\"T_3e4ed_row2_col2\" class=\"data row2 col2\" >0</td>\n",
              "      <td id=\"T_3e4ed_row2_col3\" class=\"data row2 col3\" >2012-07-03 18:00:00</td>\n",
              "      <td id=\"T_3e4ed_row2_col4\" class=\"data row2 col4\" >2</td>\n",
              "    </tr>\n",
              "  </tbody>\n",
              "</table>\n"
            ]
          },
          "metadata": {},
          "execution_count": 16
        }
      ]
    },
    {
      "cell_type": "code",
      "source": [
        "# Testing pyClient for non-Select SQL\n",
        "\n",
        "#pyClient('create table test(col1 char(10))')\n",
        "#pyClient(\"insert into test (col1) values('bbb')\")\n",
        "#pyClient('select * from test')"
      ],
      "metadata": {
        "id": "SV0xi-jLiTaz"
      },
      "execution_count": 17,
      "outputs": []
    },
    {
      "cell_type": "markdown",
      "source": [
        "##Modifying Data"
      ],
      "metadata": {
        "id": "ZVwv4rrTlefQ"
      }
    },
    {
      "cell_type": "code",
      "source": [
        "sql = \"\\\n",
        "insert into cd.facilities \\\n",
        "    (facid, name, membercost, guestcost, initialoutlay, monthlymaintenance) \\\n",
        "    values (9, 'Spa', 20, 30, 100000, 800); \\\n",
        "\"\n",
        "#print(sql)\n",
        "pyClient(sql)"
      ],
      "metadata": {
        "id": "7KFGCToWljTF",
        "outputId": "464e033f-f072-44e0-8e55-4d7b53388217",
        "colab": {
          "base_uri": "https://localhost:8080/"
        }
      },
      "execution_count": 18,
      "outputs": [
        {
          "output_type": "stream",
          "name": "stdout",
          "text": [
            "Command executed\n"
          ]
        }
      ]
    },
    {
      "cell_type": "code",
      "source": [
        "sql = \"\\\n",
        "insert into cd.facilities \\\n",
        "    (facid, name, membercost, guestcost, initialoutlay, monthlymaintenance) \\\n",
        "    values \\\n",
        "        (9, 'Spa', 20, 30, 100000, 800), \\\n",
        "        (10, 'Squash Court 2', 3.5, 17.5, 5000, 80);\\\n",
        "\""
      ],
      "metadata": {
        "id": "3ReJC8bll_CI"
      },
      "execution_count": 19,
      "outputs": []
    },
    {
      "cell_type": "code",
      "source": [
        "sql = \"\\\n",
        "insert into cd.facilities \\\n",
        "    (facid, name, membercost, guestcost, initialoutlay, monthlymaintenance) \\\n",
        "    values \\\n",
        "         (99, 'Spa', 20, 30, 100000, 800), \\\n",
        "         (10, 'Squash Court 2', 3.5, 17.5, 5000, 80);\\\n",
        "\"\n",
        "\n",
        "pyClient(sql)"
      ],
      "metadata": {
        "id": "n5PDjRiPmVzH",
        "outputId": "ad5ceadc-43df-4d72-f00c-d6733a4aa51b",
        "colab": {
          "base_uri": "https://localhost:8080/"
        }
      },
      "execution_count": 20,
      "outputs": [
        {
          "output_type": "stream",
          "name": "stdout",
          "text": [
            "Command executed\n"
          ]
        }
      ]
    },
    {
      "cell_type": "markdown",
      "source": [
        "#ChronoTYM <br>\n",
        "In Indic phraseology, tantra is knowledge, a yantra is a device to explore this knowledge and a mantra is the code that unlocks both the tantra and its yantra. Chrono/TYM a sci-fi trilogy that recreates this framework where the first novel Chronotantra defines the contours of a tech driven, futuristic society, the second, Chronoyantra, describes a device used to explore the genesis of this society, while the third, Chronomantra finally reveals the code, the key, that unlocks this puzzle.  [More information](http://bit.ly/chronobooks) <br>\n",
        "![alt text](https://blogger.googleusercontent.com/img/b/R29vZ2xl/AVvXsEjdu_ajYwBRzk5iFYlcs59ZoRMMg6rhNm4JERKspvFJoveJsnfwRlzMICiC37UOja_Bd4sbfLA1pyyBbe0mj3tUfDBXoqCzNUDw3Wux7acoJBaLkWjAvJXfa7drRY2GQRAlFxEY9O7a7raY4RKy7cA3Uxgf5QsaZQ99C9GfXxFSex_rke8ROhAn41t8zOqK/s1640/tymBanner01_3.png)"
      ],
      "metadata": {
        "id": "_gNiZpyW3AzJ"
      }
    },
    {
      "cell_type": "code",
      "source": [
        "from datetime import datetime\n",
        "import pytz\n",
        "print('Last tested  ',datetime.now(pytz.timezone('Asia/Kolkata')))"
      ],
      "metadata": {
        "colab": {
          "base_uri": "https://localhost:8080/"
        },
        "id": "wjBXJVhM605H",
        "outputId": "a0b94c59-d300-4875-98fd-f5897cfd7644"
      },
      "execution_count": 21,
      "outputs": [
        {
          "output_type": "stream",
          "name": "stdout",
          "text": [
            "Last tested   2025-02-27 05:54:54.392413+05:30\n"
          ]
        }
      ]
    }
  ]
}