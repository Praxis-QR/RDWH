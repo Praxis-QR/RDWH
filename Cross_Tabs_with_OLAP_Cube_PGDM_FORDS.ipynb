{
  "nbformat": 4,
  "nbformat_minor": 0,
  "metadata": {
    "colab": {
      "name": "Cross Tabs with OLAP Cube- PGDM FORDS",
      "provenance": [],
      "collapsed_sections": [
        "_rU8CnnudQAX",
        "gXQysJFYdWXg",
        "8tsY08hYy0jc",
        "6eMUYZpazkH_",
        "VMfF86Pf3kaQ",
        "clFiGj-X3p6b",
        "G7s5vD_N3wV5",
        "pPTQuLMEDt--"
      ],
      "toc_visible": true,
      "include_colab_link": true
    },
    "kernelspec": {
      "name": "python3",
      "display_name": "Python 3"
    }
  },
  "cells": [
    {
      "cell_type": "markdown",
      "metadata": {
        "id": "view-in-github",
        "colab_type": "text"
      },
      "source": [
        "<a href=\"https://colab.research.google.com/github/Praxis-QR/RDWH/blob/main/Cross_Tabs_with_OLAP_Cube_PGDM_FORDS.ipynb\" target=\"_parent\"><img src=\"https://colab.research.google.com/assets/colab-badge.svg\" alt=\"Open In Colab\"/></a>"
      ]
    },
    {
      "cell_type": "markdown",
      "source": [
        "# DEPRECATED\n",
        "see this [notebook](https://github.com/Praxis-QR/RDWH/blob/main/Cross_Tabs_%7C_OLAP_Cube_v2_PGDM_FORDS.ipynb) for updated version"
      ],
      "metadata": {
        "id": "pxMbQDhvKZvg"
      }
    },
    {
      "cell_type": "markdown",
      "metadata": {
        "id": "4eYqHc2E6vqX"
      },
      "source": [
        "![alt text](https://4.bp.blogspot.com/-gbL5nZDkpFQ/XScFYwoTEII/AAAAAAAAAGY/CcVb_HDLwvs2Brv5T4vSsUcz7O4r2Q79ACK4BGAYYCw/s1600/kk3-header00-beta.png)<br>\n",
        "\n",
        "\n",
        "<hr>\n",
        "\n",
        "[Prithwis Mukerjee](http://www.linkedin.com/in/prithwis)<br>"
      ]
    },
    {
      "cell_type": "markdown",
      "metadata": {
        "id": "_yscy5Ox67yy"
      },
      "source": [
        "#Generating Cross Tabs\n",
        "Companion codes for [this slide deck](https://docs.google.com/presentation/d/1BTMkvls1VZFZf-d2MF6xj4NvpeHFNLHums5KG5Z7Ewc/edit?usp=sharing) <br>\n",
        "For a more complicated version of crosstabs using Normalised Key Value Tables see this [notebook](https://github.com/Praxis-QR/RDWH/blob/c783cd84b5155577388e77b69f84bf8a17e051cd/Cross_Tabs_with_OLAP_Cube_Normalised_KeyValueTables.ipynb)"
      ]
    },
    {
      "cell_type": "markdown",
      "metadata": {
        "id": "_rU8CnnudQAX"
      },
      "source": [
        "#Install MySQL"
      ]
    },
    {
      "cell_type": "code",
      "metadata": {
        "id": "inGB7KgJHQFJ"
      },
      "source": [
        "# Some system parameters\n",
        "#!cat /proc/cpuinfo\n",
        "#!cat /proc/meminfo"
      ],
      "execution_count": 1,
      "outputs": []
    },
    {
      "cell_type": "code",
      "metadata": {
        "id": "J8p8UAbybZnT",
        "colab": {
          "base_uri": "https://localhost:8080/"
        },
        "outputId": "45b90bc1-eee2-402c-fb75-ebad4bef2eca"
      },
      "source": [
        "!apt-get update > /dev/null\n",
        "!apt-get -y install mysql-server > /dev/null\n",
        "!mysql --version\n",
        "!/etc/init.d/mysql restart"
      ],
      "execution_count": 2,
      "outputs": [
        {
          "output_type": "stream",
          "name": "stdout",
          "text": [
            "mysql  Ver 8.0.34-0ubuntu0.22.04.1 for Linux on x86_64 ((Ubuntu))\n",
            " * Stopping MySQL database server mysqld\n",
            "   ...done.\n",
            " * Starting MySQL database server mysqld\n",
            "su: warning: cannot change directory to /nonexistent: No such file or directory\n",
            "   ...done.\n"
          ]
        }
      ]
    },
    {
      "cell_type": "code",
      "metadata": {
        "id": "ftaVKxKKcRut",
        "outputId": "d5b58e8a-2c85-4e28-a410-755f7ffb80b7",
        "colab": {
          "base_uri": "https://localhost:8080/"
        }
      },
      "source": [
        "!mysql -e 'create database praxisDB'\n",
        "!mysql -e 'show databases'"
      ],
      "execution_count": 3,
      "outputs": [
        {
          "output_type": "stream",
          "name": "stdout",
          "text": [
            "+--------------------+\n",
            "| Database           |\n",
            "+--------------------+\n",
            "| information_schema |\n",
            "| mysql              |\n",
            "| performance_schema |\n",
            "| praxisDB           |\n",
            "| sys                |\n",
            "+--------------------+\n"
          ]
        }
      ]
    },
    {
      "cell_type": "markdown",
      "metadata": {
        "id": "HwJs7c2bL17w"
      },
      "source": [
        "# Pandas"
      ]
    },
    {
      "cell_type": "code",
      "metadata": {
        "colab": {
          "base_uri": "https://localhost:8080/"
        },
        "id": "-1m9NB8tL4UO",
        "outputId": "a2fadd35-2074-4ad8-ca0a-e46edc33910b"
      },
      "source": [
        "!apt install libmysqlclient-dev > /dev/null\n",
        "!pip install mysqlclient > /dev/null\n",
        "import pandas as pd\n",
        "import MySQLdb\n",
        "from sqlalchemy import create_engine, text"
      ],
      "execution_count": null,
      "outputs": [
        {
          "output_type": "stream",
          "name": "stdout",
          "text": [
            "\n",
            "WARNING: apt does not have a stable CLI interface. Use with caution in scripts.\n",
            "\n"
          ]
        }
      ]
    },
    {
      "cell_type": "code",
      "source": [
        "connect_string = 'mysql://root@localhost/praxisDB'\n",
        "engine = create_engine(connect_string)\n",
        "#\n",
        "DBConn = engine.connect()\n",
        "#\n",
        "df_mysql = pd.read_sql(text('show databases'), con=DBConn)\n",
        "print ('loaded dataframe from MySQL. records:', len(df_mysql))\n",
        "DBConn.close()\n",
        "df_mysql"
      ],
      "metadata": {
        "colab": {
          "base_uri": "https://localhost:8080/",
          "height": 223
        },
        "id": "dieEAwAimj3y",
        "outputId": "e567b8f4-60af-4057-e26f-7741e7cd692d"
      },
      "execution_count": null,
      "outputs": [
        {
          "output_type": "stream",
          "name": "stdout",
          "text": [
            "loaded dataframe from MySQL. records: 5\n"
          ]
        },
        {
          "output_type": "execute_result",
          "data": {
            "text/plain": [
              "             Database\n",
              "0  information_schema\n",
              "1               mysql\n",
              "2  performance_schema\n",
              "3            praxisDB\n",
              "4                 sys"
            ],
            "text/html": [
              "\n",
              "\n",
              "  <div id=\"df-b37659ea-4f37-4619-ad16-be340c37d9c4\">\n",
              "    <div class=\"colab-df-container\">\n",
              "      <div>\n",
              "<style scoped>\n",
              "    .dataframe tbody tr th:only-of-type {\n",
              "        vertical-align: middle;\n",
              "    }\n",
              "\n",
              "    .dataframe tbody tr th {\n",
              "        vertical-align: top;\n",
              "    }\n",
              "\n",
              "    .dataframe thead th {\n",
              "        text-align: right;\n",
              "    }\n",
              "</style>\n",
              "<table border=\"1\" class=\"dataframe\">\n",
              "  <thead>\n",
              "    <tr style=\"text-align: right;\">\n",
              "      <th></th>\n",
              "      <th>Database</th>\n",
              "    </tr>\n",
              "  </thead>\n",
              "  <tbody>\n",
              "    <tr>\n",
              "      <th>0</th>\n",
              "      <td>information_schema</td>\n",
              "    </tr>\n",
              "    <tr>\n",
              "      <th>1</th>\n",
              "      <td>mysql</td>\n",
              "    </tr>\n",
              "    <tr>\n",
              "      <th>2</th>\n",
              "      <td>performance_schema</td>\n",
              "    </tr>\n",
              "    <tr>\n",
              "      <th>3</th>\n",
              "      <td>praxisDB</td>\n",
              "    </tr>\n",
              "    <tr>\n",
              "      <th>4</th>\n",
              "      <td>sys</td>\n",
              "    </tr>\n",
              "  </tbody>\n",
              "</table>\n",
              "</div>\n",
              "      <button class=\"colab-df-convert\" onclick=\"convertToInteractive('df-b37659ea-4f37-4619-ad16-be340c37d9c4')\"\n",
              "              title=\"Convert this dataframe to an interactive table.\"\n",
              "              style=\"display:none;\">\n",
              "\n",
              "  <svg xmlns=\"http://www.w3.org/2000/svg\" height=\"24px\"viewBox=\"0 0 24 24\"\n",
              "       width=\"24px\">\n",
              "    <path d=\"M0 0h24v24H0V0z\" fill=\"none\"/>\n",
              "    <path d=\"M18.56 5.44l.94 2.06.94-2.06 2.06-.94-2.06-.94-.94-2.06-.94 2.06-2.06.94zm-11 1L8.5 8.5l.94-2.06 2.06-.94-2.06-.94L8.5 2.5l-.94 2.06-2.06.94zm10 10l.94 2.06.94-2.06 2.06-.94-2.06-.94-.94-2.06-.94 2.06-2.06.94z\"/><path d=\"M17.41 7.96l-1.37-1.37c-.4-.4-.92-.59-1.43-.59-.52 0-1.04.2-1.43.59L10.3 9.45l-7.72 7.72c-.78.78-.78 2.05 0 2.83L4 21.41c.39.39.9.59 1.41.59.51 0 1.02-.2 1.41-.59l7.78-7.78 2.81-2.81c.8-.78.8-2.07 0-2.86zM5.41 20L4 18.59l7.72-7.72 1.47 1.35L5.41 20z\"/>\n",
              "  </svg>\n",
              "      </button>\n",
              "\n",
              "\n",
              "\n",
              "    <div id=\"df-434ebda5-1f28-421e-b3c8-b96d473e35e1\">\n",
              "      <button class=\"colab-df-quickchart\" onclick=\"quickchart('df-434ebda5-1f28-421e-b3c8-b96d473e35e1')\"\n",
              "              title=\"Suggest charts.\"\n",
              "              style=\"display:none;\">\n",
              "\n",
              "<svg xmlns=\"http://www.w3.org/2000/svg\" height=\"24px\"viewBox=\"0 0 24 24\"\n",
              "     width=\"24px\">\n",
              "    <g>\n",
              "        <path d=\"M19 3H5c-1.1 0-2 .9-2 2v14c0 1.1.9 2 2 2h14c1.1 0 2-.9 2-2V5c0-1.1-.9-2-2-2zM9 17H7v-7h2v7zm4 0h-2V7h2v10zm4 0h-2v-4h2v4z\"/>\n",
              "    </g>\n",
              "</svg>\n",
              "      </button>\n",
              "    </div>\n",
              "\n",
              "<style>\n",
              "  .colab-df-quickchart {\n",
              "    background-color: #E8F0FE;\n",
              "    border: none;\n",
              "    border-radius: 50%;\n",
              "    cursor: pointer;\n",
              "    display: none;\n",
              "    fill: #1967D2;\n",
              "    height: 32px;\n",
              "    padding: 0 0 0 0;\n",
              "    width: 32px;\n",
              "  }\n",
              "\n",
              "  .colab-df-quickchart:hover {\n",
              "    background-color: #E2EBFA;\n",
              "    box-shadow: 0px 1px 2px rgba(60, 64, 67, 0.3), 0px 1px 3px 1px rgba(60, 64, 67, 0.15);\n",
              "    fill: #174EA6;\n",
              "  }\n",
              "\n",
              "  [theme=dark] .colab-df-quickchart {\n",
              "    background-color: #3B4455;\n",
              "    fill: #D2E3FC;\n",
              "  }\n",
              "\n",
              "  [theme=dark] .colab-df-quickchart:hover {\n",
              "    background-color: #434B5C;\n",
              "    box-shadow: 0px 1px 3px 1px rgba(0, 0, 0, 0.15);\n",
              "    filter: drop-shadow(0px 1px 2px rgba(0, 0, 0, 0.3));\n",
              "    fill: #FFFFFF;\n",
              "  }\n",
              "</style>\n",
              "\n",
              "    <script>\n",
              "      async function quickchart(key) {\n",
              "        const containerElement = document.querySelector('#' + key);\n",
              "        const charts = await google.colab.kernel.invokeFunction(\n",
              "            'suggestCharts', [key], {});\n",
              "      }\n",
              "    </script>\n",
              "\n",
              "\n",
              "      <script>\n",
              "\n",
              "function displayQuickchartButton(domScope) {\n",
              "  let quickchartButtonEl =\n",
              "    domScope.querySelector('#df-434ebda5-1f28-421e-b3c8-b96d473e35e1 button.colab-df-quickchart');\n",
              "  quickchartButtonEl.style.display =\n",
              "    google.colab.kernel.accessAllowed ? 'block' : 'none';\n",
              "}\n",
              "\n",
              "        displayQuickchartButton(document);\n",
              "      </script>\n",
              "      <style>\n",
              "    .colab-df-container {\n",
              "      display:flex;\n",
              "      flex-wrap:wrap;\n",
              "      gap: 12px;\n",
              "    }\n",
              "\n",
              "    .colab-df-convert {\n",
              "      background-color: #E8F0FE;\n",
              "      border: none;\n",
              "      border-radius: 50%;\n",
              "      cursor: pointer;\n",
              "      display: none;\n",
              "      fill: #1967D2;\n",
              "      height: 32px;\n",
              "      padding: 0 0 0 0;\n",
              "      width: 32px;\n",
              "    }\n",
              "\n",
              "    .colab-df-convert:hover {\n",
              "      background-color: #E2EBFA;\n",
              "      box-shadow: 0px 1px 2px rgba(60, 64, 67, 0.3), 0px 1px 3px 1px rgba(60, 64, 67, 0.15);\n",
              "      fill: #174EA6;\n",
              "    }\n",
              "\n",
              "    [theme=dark] .colab-df-convert {\n",
              "      background-color: #3B4455;\n",
              "      fill: #D2E3FC;\n",
              "    }\n",
              "\n",
              "    [theme=dark] .colab-df-convert:hover {\n",
              "      background-color: #434B5C;\n",
              "      box-shadow: 0px 1px 3px 1px rgba(0, 0, 0, 0.15);\n",
              "      filter: drop-shadow(0px 1px 2px rgba(0, 0, 0, 0.3));\n",
              "      fill: #FFFFFF;\n",
              "    }\n",
              "  </style>\n",
              "\n",
              "      <script>\n",
              "        const buttonEl =\n",
              "          document.querySelector('#df-b37659ea-4f37-4619-ad16-be340c37d9c4 button.colab-df-convert');\n",
              "        buttonEl.style.display =\n",
              "          google.colab.kernel.accessAllowed ? 'block' : 'none';\n",
              "\n",
              "        async function convertToInteractive(key) {\n",
              "          const element = document.querySelector('#df-b37659ea-4f37-4619-ad16-be340c37d9c4');\n",
              "          const dataTable =\n",
              "            await google.colab.kernel.invokeFunction('convertToInteractive',\n",
              "                                                     [key], {});\n",
              "          if (!dataTable) return;\n",
              "\n",
              "          const docLinkHtml = 'Like what you see? Visit the ' +\n",
              "            '<a target=\"_blank\" href=https://colab.research.google.com/notebooks/data_table.ipynb>data table notebook</a>'\n",
              "            + ' to learn more about interactive tables.';\n",
              "          element.innerHTML = '';\n",
              "          dataTable['output_type'] = 'display_data';\n",
              "          await google.colab.output.renderOutput(dataTable, element);\n",
              "          const docLink = document.createElement('div');\n",
              "          docLink.innerHTML = docLinkHtml;\n",
              "          element.appendChild(docLink);\n",
              "        }\n",
              "      </script>\n",
              "    </div>\n",
              "  </div>\n"
            ]
          },
          "metadata": {},
          "execution_count": 11
        }
      ]
    },
    {
      "cell_type": "code",
      "metadata": {
        "id": "cekS9ljEMIbX"
      },
      "source": [
        "#To run any non-SELECT SQL command\n",
        "def runCMD (DDL):\n",
        "    DBConn = engine.connect()\n",
        "    try:\n",
        "        retcode = DBConn.execute(text(DDL))\n",
        "        DBConn.commit()\n",
        "    except :\n",
        "        print('Error : return code = ',retcode)\n",
        "    DBConn.close()\n",
        "\n",
        "#To run any SELECT SQL command and return data in pandas dataframe\n",
        "def runSELECT (query):\n",
        "    DBConn = engine.connect()\n",
        "    df_mysql = pd.read_sql(text(query), con=DBConn)\n",
        "    DBConn.close()\n",
        "    return df_mysql"
      ],
      "execution_count": null,
      "outputs": []
    },
    {
      "cell_type": "markdown",
      "metadata": {
        "id": "gXQysJFYdWXg"
      },
      "source": [
        "#Create, Load  Fact Table"
      ]
    },
    {
      "cell_type": "code",
      "metadata": {
        "colab": {
          "base_uri": "https://localhost:8080/"
        },
        "id": "6FHeZXiUMSVk",
        "outputId": "324d2658-db9c-4f27-ab9e-6b36c9fd3513"
      },
      "source": [
        "cmd = 'Drop table if exists CarSalesFact'\n",
        "runCMD(cmd)\n",
        "# ----------------------\n",
        "cmd = 'Create table CarSalesFact(Make varchar(10), Type varchar(10), Colour varchar(10), Value decimal(8,0), Units int)'\n",
        "runCMD(cmd)\n",
        "# ----------------------\n",
        "\n",
        "cmd = \"\\\n",
        "INSERT INTO CarSalesFact (Make, Type, Colour, Value, Units) VALUES \\\n",
        "('Honda','Sedan','Brown',5000,1),('Honda','SUV','Black',18000, 4), ('Honda','SUV','Red',7000,2), \\\n",
        "('Mazda','Compact','Red',5000,1),('Mazda','Sedan','Brown',4000,1),('Mazda','SUV','Black',4000,1),('Mazda','SUV','Red',3000,1),\\\n",
        "('Toyota','Compact','Red',7000,1),('Toyota','Sedan','Black',9000,2)\\\n",
        "\"\n",
        "runCMD(cmd)\n",
        "# ----------------------\n",
        "#runSELECT('select * from CarSalesFact')\n",
        "!mysql praxisDB -e 'select * from CarSalesFact'"
      ],
      "execution_count": null,
      "outputs": [
        {
          "output_type": "stream",
          "name": "stdout",
          "text": [
            "+--------+---------+--------+-------+-------+\n",
            "| Make   | Type    | Colour | Value | Units |\n",
            "+--------+---------+--------+-------+-------+\n",
            "| Honda  | Sedan   | Brown  |  5000 |     1 |\n",
            "| Honda  | SUV     | Black  | 18000 |     4 |\n",
            "| Honda  | SUV     | Red    |  7000 |     2 |\n",
            "| Mazda  | Compact | Red    |  5000 |     1 |\n",
            "| Mazda  | Sedan   | Brown  |  4000 |     1 |\n",
            "| Mazda  | SUV     | Black  |  4000 |     1 |\n",
            "| Mazda  | SUV     | Red    |  3000 |     1 |\n",
            "| Toyota | Compact | Red    |  7000 |     1 |\n",
            "| Toyota | Sedan   | Black  |  9000 |     2 |\n",
            "+--------+---------+--------+-------+-------+\n"
          ]
        }
      ]
    },
    {
      "cell_type": "markdown",
      "metadata": {
        "id": "AGiIe8WSgql3"
      },
      "source": [
        "#Cross Tabs"
      ]
    },
    {
      "cell_type": "code",
      "metadata": {
        "id": "J9n5vQsaSNcE",
        "outputId": "6c8ed53a-eacd-4cd0-efc5-80b1798caa9c",
        "colab": {
          "base_uri": "https://localhost:8080/"
        }
      },
      "source": [
        "!mysql praxisDB -e \" \\\n",
        "  select Make, Type, Colour, Units  \\\n",
        "  from CarSalesFact \\\n",
        "\""
      ],
      "execution_count": null,
      "outputs": [
        {
          "output_type": "stream",
          "name": "stdout",
          "text": [
            "+--------+---------+--------+-------+\n",
            "| Make   | Type    | Colour | Units |\n",
            "+--------+---------+--------+-------+\n",
            "| Honda  | Sedan   | Brown  |     1 |\n",
            "| Honda  | SUV     | Black  |     4 |\n",
            "| Honda  | SUV     | Red    |     2 |\n",
            "| Mazda  | Compact | Red    |     1 |\n",
            "| Mazda  | Sedan   | Brown  |     1 |\n",
            "| Mazda  | SUV     | Black  |     1 |\n",
            "| Mazda  | SUV     | Red    |     1 |\n",
            "| Toyota | Compact | Red    |     1 |\n",
            "| Toyota | Sedan   | Black  |     2 |\n",
            "+--------+---------+--------+-------+\n"
          ]
        }
      ]
    },
    {
      "cell_type": "markdown",
      "metadata": {
        "id": "0nRzdvzuue3B"
      },
      "source": [
        "##Level 1"
      ]
    },
    {
      "cell_type": "code",
      "metadata": {
        "id": "CZhFdY6GZrwr",
        "colab": {
          "base_uri": "https://localhost:8080/"
        },
        "outputId": "39a7674a-cf68-49d0-baba-4b97c0acd3c6"
      },
      "source": [
        "!mysql praxisDB -e \" \\\n",
        "  select Make, Type, Sum(Units) Count \\\n",
        "  from CarSalesFact \\\n",
        "  group by Make, Type \\\n",
        "\""
      ],
      "execution_count": null,
      "outputs": [
        {
          "output_type": "stream",
          "name": "stdout",
          "text": [
            "+--------+---------+-------+\n",
            "| Make   | Type    | Count |\n",
            "+--------+---------+-------+\n",
            "| Honda  | Sedan   |     1 |\n",
            "| Honda  | SUV     |     6 |\n",
            "| Mazda  | Compact |     1 |\n",
            "| Mazda  | Sedan   |     1 |\n",
            "| Mazda  | SUV     |     2 |\n",
            "| Toyota | Compact |     1 |\n",
            "| Toyota | Sedan   |     2 |\n",
            "+--------+---------+-------+\n"
          ]
        }
      ]
    },
    {
      "cell_type": "markdown",
      "metadata": {
        "id": "Rfu3adciT4QI"
      },
      "source": [
        "## Level 2"
      ]
    },
    {
      "cell_type": "code",
      "metadata": {
        "id": "4oBI4SF2Tzaa",
        "outputId": "fe38ab15-9aba-4b7d-9fe1-e325d3aa6b7b",
        "colab": {
          "base_uri": "https://localhost:8080/"
        }
      },
      "source": [
        "!mysql praxisDB -e \" \\\n",
        "  select Make, Type, Sum(Units) Count \\\n",
        "  from CarSalesFact \\\n",
        "  group by Make, Type  \\\n",
        "\""
      ],
      "execution_count": null,
      "outputs": [
        {
          "output_type": "stream",
          "name": "stdout",
          "text": [
            "+--------+---------+-------+\n",
            "| Make   | Type    | Count |\n",
            "+--------+---------+-------+\n",
            "| Honda  | Sedan   |     1 |\n",
            "| Honda  | SUV     |     6 |\n",
            "| Mazda  | Compact |     1 |\n",
            "| Mazda  | Sedan   |     1 |\n",
            "| Mazda  | SUV     |     2 |\n",
            "| Toyota | Compact |     1 |\n",
            "| Toyota | Sedan   |     2 |\n",
            "+--------+---------+-------+\n"
          ]
        }
      ]
    },
    {
      "cell_type": "markdown",
      "metadata": {
        "id": "eZOW8xonuirJ"
      },
      "source": [
        "##Level 2 - Rollup"
      ]
    },
    {
      "cell_type": "code",
      "metadata": {
        "id": "ftQA8XDdpHH0",
        "colab": {
          "base_uri": "https://localhost:8080/"
        },
        "outputId": "b2384407-d246-4139-c528-c41eb87ee996"
      },
      "source": [
        "!mysql praxisDB -e \" \\\n",
        "  select Make, Type, Sum(Units) Count \\\n",
        "  from CarSalesFact \\\n",
        "  group by Make, Type  \\\n",
        "  with ROLLUP; \\\n",
        "\""
      ],
      "execution_count": null,
      "outputs": [
        {
          "output_type": "stream",
          "name": "stdout",
          "text": [
            "+--------+---------+-------+\n",
            "| Make   | Type    | Count |\n",
            "+--------+---------+-------+\n",
            "| Honda  | Sedan   |     1 |\n",
            "| Honda  | SUV     |     6 |\n",
            "| Honda  | NULL    |     7 |\n",
            "| Mazda  | Compact |     1 |\n",
            "| Mazda  | Sedan   |     1 |\n",
            "| Mazda  | SUV     |     2 |\n",
            "| Mazda  | NULL    |     4 |\n",
            "| Toyota | Compact |     1 |\n",
            "| Toyota | Sedan   |     2 |\n",
            "| Toyota | NULL    |     3 |\n",
            "| NULL   | NULL    |    14 |\n",
            "+--------+---------+-------+\n"
          ]
        }
      ]
    },
    {
      "cell_type": "code",
      "metadata": {
        "id": "0FpngPRshgOn",
        "colab": {
          "base_uri": "https://localhost:8080/"
        },
        "outputId": "f50dc26c-638e-449b-cba5-26d0e57c326d"
      },
      "source": [
        "# Cosmetic improvement on report\n",
        "!mysql praxisDB -e \" \\\n",
        "  select IFNULL(Make,'-total1-') 'Make', IFNULL(Type,'-total2-') 'Type', Sum(Units) Count \\\n",
        "  from CarSalesFact \\\n",
        "  group by Make, Type  \\\n",
        "  with ROLLUP; \\\n",
        "\""
      ],
      "execution_count": null,
      "outputs": [
        {
          "output_type": "stream",
          "name": "stdout",
          "text": [
            "+----------+----------+-------+\n",
            "| Make     | Type     | Count |\n",
            "+----------+----------+-------+\n",
            "| Honda    | Sedan    |     1 |\n",
            "| Honda    | SUV      |     6 |\n",
            "| Honda    | -total2- |     7 |\n",
            "| Mazda    | Compact  |     1 |\n",
            "| Mazda    | Sedan    |     1 |\n",
            "| Mazda    | SUV      |     2 |\n",
            "| Mazda    | -total2- |     4 |\n",
            "| Toyota   | Compact  |     1 |\n",
            "| Toyota   | Sedan    |     2 |\n",
            "| Toyota   | -total2- |     3 |\n",
            "| -total1- | -total2- |    14 |\n",
            "+----------+----------+-------+\n"
          ]
        }
      ]
    },
    {
      "cell_type": "markdown",
      "metadata": {
        "id": "qhqZ2gujZie7"
      },
      "source": [
        "### Roll UP even more"
      ]
    },
    {
      "cell_type": "code",
      "metadata": {
        "id": "06EFilSnOfWj",
        "colab": {
          "base_uri": "https://localhost:8080/"
        },
        "outputId": "2f6f513a-c015-4c9e-fca3-13e7304c1da5"
      },
      "source": [
        "!mysql praxisDB -e \" \\\n",
        "  select Make, Sum(Units) Count \\\n",
        "  from CarSalesFact \\\n",
        "  group by Make  \\\n",
        "  with ROLLUP; \\\n",
        "\""
      ],
      "execution_count": null,
      "outputs": [
        {
          "output_type": "stream",
          "name": "stdout",
          "text": [
            "+--------+-------+\n",
            "| Make   | Count |\n",
            "+--------+-------+\n",
            "| Honda  |     7 |\n",
            "| Mazda  |     4 |\n",
            "| Toyota |     3 |\n",
            "| NULL   |    14 |\n",
            "+--------+-------+\n"
          ]
        }
      ]
    },
    {
      "cell_type": "code",
      "metadata": {
        "id": "9I6Jc4x9PlZe",
        "colab": {
          "base_uri": "https://localhost:8080/"
        },
        "outputId": "e9c7e185-7743-4d23-fce3-4772020e8254"
      },
      "source": [
        "!mysql praxisDB -e \" \\\n",
        "  select IFNULL(Make,'-total-') 'Make', Sum(Units) Count \\\n",
        "  from CarSalesFact \\\n",
        "  group by Make  \\\n",
        "  with ROLLUP; \\\n",
        "\""
      ],
      "execution_count": null,
      "outputs": [
        {
          "output_type": "stream",
          "name": "stdout",
          "text": [
            "+---------+-------+\n",
            "| Make    | Count |\n",
            "+---------+-------+\n",
            "| Honda   |     7 |\n",
            "| Mazda   |     4 |\n",
            "| Toyota  |     3 |\n",
            "| -total- |    14 |\n",
            "+---------+-------+\n"
          ]
        }
      ]
    },
    {
      "cell_type": "code",
      "metadata": {
        "id": "2hrkY8-wU6NP",
        "outputId": "07e3914b-5266-4373-c776-1cb94453967c",
        "colab": {
          "base_uri": "https://localhost:8080/"
        }
      },
      "source": [
        "!mysql praxisDB -e \" \\\n",
        "  select IFNULL(Type,'-total-') 'Type', Sum(Units) Count \\\n",
        "  from CarSalesFact \\\n",
        "  group by Type  \\\n",
        "  with ROLLUP; \\\n",
        "\""
      ],
      "execution_count": null,
      "outputs": [
        {
          "output_type": "stream",
          "name": "stdout",
          "text": [
            "+---------+-------+\n",
            "| Type    | Count |\n",
            "+---------+-------+\n",
            "| Compact |     2 |\n",
            "| Sedan   |     4 |\n",
            "| SUV     |     8 |\n",
            "| -total- |    14 |\n",
            "+---------+-------+\n"
          ]
        }
      ]
    },
    {
      "cell_type": "code",
      "metadata": {
        "id": "m3-stF3hXtD8",
        "colab": {
          "base_uri": "https://localhost:8080/"
        },
        "outputId": "457bc6c3-365d-4f35-ed9c-b85f92dbd254"
      },
      "source": [
        "!mysql praxisDB -e \" \\\n",
        "  select Sum(Units) 'Total' \\\n",
        "  from CarSalesFact \\\n",
        "\""
      ],
      "execution_count": null,
      "outputs": [
        {
          "output_type": "stream",
          "name": "stdout",
          "text": [
            "+-------+\n",
            "| Total |\n",
            "+-------+\n",
            "|    14 |\n",
            "+-------+\n"
          ]
        }
      ]
    },
    {
      "cell_type": "markdown",
      "metadata": {
        "id": "-Kd34K88ulpe"
      },
      "source": [
        "##Level 3  - THREE crosstabs"
      ]
    },
    {
      "cell_type": "code",
      "metadata": {
        "id": "zjHVzwW5M1jb",
        "colab": {
          "base_uri": "https://localhost:8080/"
        },
        "outputId": "9e89775f-321f-41f8-dac4-aa3a021dd0fa"
      },
      "source": [
        "!mysql praxisDB -e  \"\\\n",
        "SELECT \\\n",
        "\tMake,\\\n",
        "\tSUM(IF(Type='SUV',Units,0))  'SUV',\\\n",
        "\tSUM(IF(Type='Sedan',Units,0))  'Sedan',\\\n",
        "\tSUM(IF(Type='Compact',Units,0))  'Compact'\\\n",
        "  FROM CarSalesFact\\\n",
        "  GROUP BY Make WITH ROLLUP\\\n",
        "\""
      ],
      "execution_count": null,
      "outputs": [
        {
          "output_type": "stream",
          "name": "stdout",
          "text": [
            "+--------+------+-------+---------+\n",
            "| Make   | SUV  | Sedan | Compact |\n",
            "+--------+------+-------+---------+\n",
            "| Honda  |    6 |     1 |       0 |\n",
            "| Mazda  |    2 |     1 |       1 |\n",
            "| Toyota |    0 |     2 |       1 |\n",
            "| NULL   |    8 |     4 |       2 |\n",
            "+--------+------+-------+---------+\n"
          ]
        }
      ]
    },
    {
      "cell_type": "code",
      "metadata": {
        "id": "P8iGY3uUqS_6",
        "colab": {
          "base_uri": "https://localhost:8080/"
        },
        "outputId": "4f9a4bac-5a79-420b-a45b-44f212e4af8f"
      },
      "source": [
        "!mysql praxisDB -e  \"\\\n",
        "SELECT \\\n",
        "IFNULL(Make,'Col_Totals') Dims,\\\n",
        "sums.SUV, sums.Sedan, sums.Compact,\\\n",
        "sums.SUV + sums.Sedan + sums.Compact  Row_Totals \\\n",
        "FROM ( \\\n",
        "  SELECT \\\n",
        "\tMake,\\\n",
        "\tSUM(IF(Type='SUV',Units,0))  'SUV',\\\n",
        "\tSUM(IF(Type='Sedan',Units,0))  'Sedan',\\\n",
        "\tSUM(IF(Type='Compact',Units,0))  'Compact'\\\n",
        "  FROM CarSalesFact\\\n",
        "  GROUP BY Make WITH ROLLUP\\\n",
        ") AS sums \\\n",
        "\""
      ],
      "execution_count": null,
      "outputs": [
        {
          "output_type": "stream",
          "name": "stdout",
          "text": [
            "+------------+------+-------+---------+------------+\n",
            "| Dims       | SUV  | Sedan | Compact | Row_Totals |\n",
            "+------------+------+-------+---------+------------+\n",
            "| Honda      |    6 |     1 |       0 |          7 |\n",
            "| Mazda      |    2 |     1 |       1 |          4 |\n",
            "| Toyota     |    0 |     2 |       1 |          3 |\n",
            "| Col_Totals |    8 |     4 |       2 |         14 |\n",
            "+------------+------+-------+---------+------------+\n"
          ]
        }
      ]
    },
    {
      "cell_type": "code",
      "metadata": {
        "id": "1B9q-PojuxR0",
        "colab": {
          "base_uri": "https://localhost:8080/"
        },
        "outputId": "53f4c52f-0875-457a-c66f-b5c283d4cce8"
      },
      "source": [
        "!mysql praxisDB -e  \"\\\n",
        "SELECT \\\n",
        "IFNULL(Make,'Col_Totals') Dims,\\\n",
        "sums.Brown, sums.Black, sums.Red,\\\n",
        "sums.Brown + sums.Black + sums.Red  Row_Totals \\\n",
        "FROM ( \\\n",
        "  SELECT \\\n",
        "\tMake,\\\n",
        "\tSUM(IF(Colour='Brown',Units,0))  'Brown',\\\n",
        "\tSUM(IF(Colour='Black',Units,0))  'Black',\\\n",
        "\tSUM(IF(Colour='Red',Units,0))  'Red'\\\n",
        "  FROM CarSalesFact\\\n",
        "  GROUP BY Make WITH ROLLUP\\\n",
        ") AS sums \\\n",
        "\""
      ],
      "execution_count": null,
      "outputs": [
        {
          "output_type": "stream",
          "name": "stdout",
          "text": [
            "+------------+-------+-------+------+------------+\n",
            "| Dims       | Brown | Black | Red  | Row_Totals |\n",
            "+------------+-------+-------+------+------------+\n",
            "| Honda      |     1 |     4 |    2 |          7 |\n",
            "| Mazda      |     1 |     1 |    2 |          4 |\n",
            "| Toyota     |     0 |     2 |    1 |          3 |\n",
            "| Col_Totals |     2 |     7 |    5 |         14 |\n",
            "+------------+-------+-------+------+------------+\n"
          ]
        }
      ]
    },
    {
      "cell_type": "code",
      "metadata": {
        "id": "g9oN2Apb0vNe",
        "colab": {
          "base_uri": "https://localhost:8080/"
        },
        "outputId": "3b604ca7-a297-4dda-8bf3-10cb22d6e0b5"
      },
      "source": [
        "!mysql praxisDB -e  \"\\\n",
        "SELECT \\\n",
        "IFNULL(Type,'Totals') Dims,\\\n",
        "sums.Brown, sums.Black, sums.Red,\\\n",
        "sums.Brown + sums.Black + sums.Red  Totals \\\n",
        "FROM ( \\\n",
        "  SELECT \\\n",
        "\tType,\\\n",
        "\tSUM(IF(Colour='Brown',Units,0))  'Brown',\\\n",
        "\tSUM(IF(Colour='Black',Units,0))  'Black',\\\n",
        "\tSUM(IF(Colour='Red',Units,0))  'Red'\\\n",
        "  FROM CarSalesFact\\\n",
        "  GROUP BY Type WITH ROLLUP\\\n",
        ") AS sums \\\n",
        "\""
      ],
      "execution_count": null,
      "outputs": [
        {
          "output_type": "stream",
          "name": "stdout",
          "text": [
            "+---------+-------+-------+------+--------+\n",
            "| Dims    | Brown | Black | Red  | Totals |\n",
            "+---------+-------+-------+------+--------+\n",
            "| Compact |     0 |     0 |    2 |      2 |\n",
            "| Sedan   |     2 |     2 |    0 |      4 |\n",
            "| SUV     |     0 |     5 |    3 |      8 |\n",
            "| Totals  |     2 |     7 |    5 |     14 |\n",
            "+---------+-------+-------+------+--------+\n"
          ]
        }
      ]
    },
    {
      "cell_type": "code",
      "source": [
        "# Same Query using the\n",
        "# CTE structure\n",
        "# ---------------------------------------------------------------------------\n",
        "!mysql praxisDB -e \"\\\n",
        "with sums as \\\n",
        " ( \\\n",
        "  SELECT \\\n",
        "\tType,\\\n",
        "\tSUM(IF(Colour='Brown',Units,0))  'Brown',\\\n",
        "\tSUM(IF(Colour='Black',Units,0))  'Black',\\\n",
        "\tSUM(IF(Colour='Red',Units,0))  'Red'\\\n",
        "  FROM CarSalesFact\\\n",
        "  GROUP BY Type WITH ROLLUP\\\n",
        ") \\\n",
        "SELECT \\\n",
        "IFNULL(Type,'Totals') Dims,\\\n",
        "sums.Brown, sums.Black, sums.Red,\\\n",
        "sums.Brown + sums.Black + sums.Red  Totals \\\n",
        "from sums\\\n",
        "\"\n",
        "#runSELECT(CTESQL)"
      ],
      "metadata": {
        "colab": {
          "base_uri": "https://localhost:8080/"
        },
        "id": "dCFd3oTTo1cE",
        "outputId": "52cc5c8f-f410-49d5-c121-08eed1512659"
      },
      "execution_count": null,
      "outputs": [
        {
          "output_type": "stream",
          "name": "stdout",
          "text": [
            "+---------+-------+-------+------+--------+\n",
            "| Dims    | Brown | Black | Red  | Totals |\n",
            "+---------+-------+-------+------+--------+\n",
            "| Compact |     0 |     0 |    2 |      2 |\n",
            "| Sedan   |     2 |     2 |    0 |      4 |\n",
            "| SUV     |     0 |     5 |    3 |      8 |\n",
            "| Totals  |     2 |     7 |    5 |     14 |\n",
            "+---------+-------+-------+------+--------+\n"
          ]
        }
      ]
    },
    {
      "cell_type": "markdown",
      "metadata": {
        "id": "TgiD-LzNjqTy"
      },
      "source": [
        "##Level 3 A - the UNION ALL / CUBE"
      ]
    },
    {
      "cell_type": "code",
      "metadata": {
        "id": "UAw1g-nKkLUx",
        "colab": {
          "base_uri": "https://localhost:8080/"
        },
        "outputId": "be4def41-ddb6-4541-adbf-9fa661601b61"
      },
      "source": [
        "!mysql praxisDB -e  \"\\\n",
        "SELECT Make, Type, SUM(Units) \\\n",
        "FROM CarSalesFact \\\n",
        "GROUP BY Make, Type \\\n",
        "UNION ALL \\\n",
        "SELECT Make, 'ALL', SUM(Units) \\\n",
        "FROM CarSalesFact \\\n",
        "GROUP BY Make \\\n",
        "UNION ALL \\\n",
        "SELECT 'ALL', Type, SUM(Units) \\\n",
        "FROM CarSalesFact \\\n",
        "GROUP BY Type \\\n",
        "UNION ALL \\\n",
        "SELECT 'ALL', 'ALL', SUM(Units) \\\n",
        "FROM CarSalesFact\\\n",
        "\"\n",
        "\n"
      ],
      "execution_count": null,
      "outputs": [
        {
          "output_type": "stream",
          "name": "stdout",
          "text": [
            "+--------+---------+------------+\n",
            "| Make   | Type    | SUM(Units) |\n",
            "+--------+---------+------------+\n",
            "| Honda  | Sedan   |          1 |\n",
            "| Honda  | SUV     |          6 |\n",
            "| Mazda  | Compact |          1 |\n",
            "| Mazda  | Sedan   |          1 |\n",
            "| Mazda  | SUV     |          2 |\n",
            "| Toyota | Compact |          1 |\n",
            "| Toyota | Sedan   |          2 |\n",
            "| Honda  | ALL     |          7 |\n",
            "| Mazda  | ALL     |          4 |\n",
            "| Toyota | ALL     |          3 |\n",
            "| ALL    | Sedan   |          4 |\n",
            "| ALL    | SUV     |          8 |\n",
            "| ALL    | Compact |          2 |\n",
            "| ALL    | ALL     |         14 |\n",
            "+--------+---------+------------+\n"
          ]
        }
      ]
    },
    {
      "cell_type": "markdown",
      "metadata": {
        "id": "6eMUYZpazkH_"
      },
      "source": [
        "#Create a 'standard' CUBE Fact table\n",
        "What is [GROUP_CONCAT](https://www.google.co.in/search?client=opera&q=group_concat+in+mysql&sourceid=opera&ie=UTF-8&oe=UTF-8)?"
      ]
    },
    {
      "cell_type": "markdown",
      "metadata": {
        "id": "0YHBtY_y_mGU"
      },
      "source": [
        "#Cross Tab"
      ]
    },
    {
      "cell_type": "code",
      "metadata": {
        "id": "f-7uGBpQCqcl",
        "colab": {
          "base_uri": "https://localhost:8080/"
        },
        "outputId": "c4b368d0-cfd0-4e97-bc1d-e83d6187e0f6"
      },
      "source": [
        "!mysql praxisDB -e \"select * from CarSalesFact\""
      ],
      "execution_count": null,
      "outputs": [
        {
          "output_type": "stream",
          "name": "stdout",
          "text": [
            "+--------+---------+--------+-------+-------+\n",
            "| Make   | Type    | Colour | Value | Units |\n",
            "+--------+---------+--------+-------+-------+\n",
            "| Honda  | Sedan   | Brown  |  5000 |     1 |\n",
            "| Honda  | SUV     | Black  | 18000 |     4 |\n",
            "| Honda  | SUV     | Red    |  7000 |     2 |\n",
            "| Mazda  | Compact | Red    |  5000 |     1 |\n",
            "| Mazda  | Sedan   | Brown  |  4000 |     1 |\n",
            "| Mazda  | SUV     | Black  |  4000 |     1 |\n",
            "| Mazda  | SUV     | Red    |  3000 |     1 |\n",
            "| Toyota | Compact | Red    |  7000 |     1 |\n",
            "| Toyota | Sedan   | Black  |  9000 |     2 |\n",
            "+--------+---------+--------+-------+-------+\n"
          ]
        }
      ]
    },
    {
      "cell_type": "markdown",
      "metadata": {
        "id": "G70QOJIz_7_G"
      },
      "source": [
        "##Level 1 - Partial Cross Tab"
      ]
    },
    {
      "cell_type": "code",
      "metadata": {
        "id": "O1fKMSHjAAji",
        "colab": {
          "base_uri": "https://localhost:8080/"
        },
        "outputId": "35d56124-b045-4fcd-feca-4b9955459b51"
      },
      "source": [
        "!mysql praxisDB -e \"\\\n",
        "select Make, Type, sum(Units) Count, sum(Value) Total \\\n",
        "from \\\n",
        "CarSalesFact \\\n",
        "group by Make, Type\\\n",
        "\""
      ],
      "execution_count": null,
      "outputs": [
        {
          "output_type": "stream",
          "name": "stdout",
          "text": [
            "+--------+---------+-------+-------+\n",
            "| Make   | Type    | Count | Total |\n",
            "+--------+---------+-------+-------+\n",
            "| Honda  | Sedan   |     1 |  5000 |\n",
            "| Honda  | SUV     |     6 | 25000 |\n",
            "| Mazda  | Compact |     1 |  5000 |\n",
            "| Mazda  | Sedan   |     1 |  4000 |\n",
            "| Mazda  | SUV     |     2 |  7000 |\n",
            "| Toyota | Compact |     1 |  7000 |\n",
            "| Toyota | Sedan   |     2 |  9000 |\n",
            "+--------+---------+-------+-------+\n"
          ]
        }
      ]
    },
    {
      "cell_type": "markdown",
      "metadata": {
        "id": "ca41FGfzDF9i"
      },
      "source": [
        "##Level 2 Roll UP"
      ]
    },
    {
      "cell_type": "code",
      "metadata": {
        "id": "j0TBsglPDIrm",
        "colab": {
          "base_uri": "https://localhost:8080/"
        },
        "outputId": "a49ee3f5-1536-42cf-9fb6-baaa3dd2a7f8"
      },
      "source": [
        "!mysql praxisDB -e \"\\\n",
        "select Make, Type, sum(Units) Count, sum(Value) Total \\\n",
        "from \\\n",
        "CarSalesFact \\\n",
        "group by Make, Type with ROllUP\\\n",
        "\""
      ],
      "execution_count": null,
      "outputs": [
        {
          "output_type": "stream",
          "name": "stdout",
          "text": [
            "+--------+---------+-------+-------+\n",
            "| Make   | Type    | Count | Total |\n",
            "+--------+---------+-------+-------+\n",
            "| Honda  | Sedan   |     1 |  5000 |\n",
            "| Honda  | SUV     |     6 | 25000 |\n",
            "| Honda  | NULL    |     7 | 30000 |\n",
            "| Mazda  | Compact |     1 |  5000 |\n",
            "| Mazda  | Sedan   |     1 |  4000 |\n",
            "| Mazda  | SUV     |     2 |  7000 |\n",
            "| Mazda  | NULL    |     4 | 16000 |\n",
            "| Toyota | Compact |     1 |  7000 |\n",
            "| Toyota | Sedan   |     2 |  9000 |\n",
            "| Toyota | NULL    |     3 | 16000 |\n",
            "| NULL   | NULL    |    14 | 62000 |\n",
            "+--------+---------+-------+-------+\n"
          ]
        }
      ]
    },
    {
      "cell_type": "markdown",
      "metadata": {
        "id": "auuC00eFDzUu"
      },
      "source": [
        "##Level 3 Full Cross Tab"
      ]
    },
    {
      "cell_type": "code",
      "metadata": {
        "id": "pylU4ZEoD3kg",
        "colab": {
          "base_uri": "https://localhost:8080/"
        },
        "outputId": "44ffcea7-823f-492a-ef45-b9f8f7bd6b6f"
      },
      "source": [
        "!mysql praxisDB -e  \"\\\n",
        "SELECT \\\n",
        "IFNULL(Make,'Totals') Dims,\\\n",
        "sums.SUV, sums.Sedan, sums.Compact,\\\n",
        "sums.SUV + sums.Sedan + sums.Compact  Totals \\\n",
        "FROM ( \\\n",
        "  SELECT \\\n",
        "\tMake,\\\n",
        "\tSUM(IF(Type='SUV',Units,0))  'SUV',\\\n",
        "\tSUM(IF(Type='Sedan',Units,0))  'Sedan',\\\n",
        "\tSUM(IF(Type='Compact',Units,0))  'Compact'\\\n",
        "  FROM CarSalesFact\\\n",
        "  GROUP BY Make WITH ROLLUP\\\n",
        ") AS sums \\\n",
        "\""
      ],
      "execution_count": null,
      "outputs": [
        {
          "output_type": "stream",
          "name": "stdout",
          "text": [
            "+--------+------+-------+---------+--------+\n",
            "| Dims   | SUV  | Sedan | Compact | Totals |\n",
            "+--------+------+-------+---------+--------+\n",
            "| Honda  |    6 |     1 |       0 |      7 |\n",
            "| Mazda  |    2 |     1 |       1 |      4 |\n",
            "| Toyota |    0 |     2 |       1 |      3 |\n",
            "| Totals |    8 |     4 |       2 |     14 |\n",
            "+--------+------+-------+---------+--------+\n"
          ]
        }
      ]
    },
    {
      "cell_type": "code",
      "metadata": {
        "id": "LIXYDeFMD9Iy",
        "colab": {
          "base_uri": "https://localhost:8080/"
        },
        "outputId": "ed63c768-323a-4012-cf17-2616cacf725e"
      },
      "source": [
        "!mysql praxisDB -e  \"\\\n",
        "SELECT \\\n",
        "IFNULL(Make,'Totals') Dims,\\\n",
        "sums.SUV, sums.Sedan, sums.Compact,\\\n",
        "sums.SUV + sums.Sedan + sums.Compact  Totals \\\n",
        "FROM ( \\\n",
        "  SELECT \\\n",
        "\tMake,\\\n",
        "\tSUM(IF(Type='SUV',Value,0))  'SUV',\\\n",
        "\tSUM(IF(Type='Sedan',Value,0))  'Sedan',\\\n",
        "\tSUM(IF(Type='Compact',Value,0))  'Compact'\\\n",
        "  FROM CarSalesFact\\\n",
        "  GROUP BY Make WITH ROLLUP\\\n",
        ") AS sums \\\n",
        "\""
      ],
      "execution_count": null,
      "outputs": [
        {
          "output_type": "stream",
          "name": "stdout",
          "text": [
            "+--------+-------+-------+---------+--------+\n",
            "| Dims   | SUV   | Sedan | Compact | Totals |\n",
            "+--------+-------+-------+---------+--------+\n",
            "| Honda  | 25000 |  5000 |       0 |  30000 |\n",
            "| Mazda  |  7000 |  4000 |    5000 |  16000 |\n",
            "| Toyota |     0 |  9000 |    7000 |  16000 |\n",
            "| Totals | 32000 | 18000 |   12000 |  62000 |\n",
            "+--------+-------+-------+---------+--------+\n"
          ]
        }
      ]
    },
    {
      "cell_type": "markdown",
      "metadata": {
        "id": "w-zHaw5_A0Oe"
      },
      "source": [
        "#Chronobooks <br>\n",
        "![alt text](https://1.bp.blogspot.com/-lTiYBkU2qbU/X1er__fvnkI/AAAAAAAAjtE/GhDR3OEGJr4NG43fZPodrQD5kbxtnKebgCLcBGAsYHQ/s600/Footer2020-600x200.png)<hr>\n",
        "Chronotantra and Chronoyantra are two science fiction novels that explore the collapse of human civilisation on Earth and then its rebirth and reincarnation both on Earth as well as on the distant worlds of Mars, Titan and Enceladus. But is it the human civilisation that is being reborn? Or is it some other sentience that is revealing itself.\n",
        "If you have an interest in AI and found this material useful, you may consider buying these novels, in paperback or kindle, from [http://bit.ly/chronobooks](http://bit.ly/chronobooks)"
      ]
    }
  ]
}