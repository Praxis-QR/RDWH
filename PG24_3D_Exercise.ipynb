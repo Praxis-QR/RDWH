{
  "nbformat": 4,
  "nbformat_minor": 0,
  "metadata": {
    "colab": {
      "provenance": [],
      "include_colab_link": true
    },
    "kernelspec": {
      "name": "python3",
      "display_name": "Python 3"
    },
    "language_info": {
      "name": "python"
    }
  },
  "cells": [
    {
      "cell_type": "markdown",
      "metadata": {
        "id": "view-in-github",
        "colab_type": "text"
      },
      "source": [
        "<a href=\"https://colab.research.google.com/github/Praxis-QR/RDWH/blob/main/PG24_3D_Exercise.ipynb\" target=\"_parent\"><img src=\"https://colab.research.google.com/assets/colab-badge.svg\" alt=\"Open In Colab\"/></a>"
      ]
    },
    {
      "cell_type": "markdown",
      "source": [
        "![alt text](https://github.com/Praxis-QR/RDWH/raw/main/images/YantraJaalBanner.png)<br>\n",
        "\n",
        "\n",
        "<hr>\n",
        "\n",
        "[Prithwis Mukerjee](http://www.linkedin.com/in/prithwis)<br>"
      ],
      "metadata": {
        "id": "DBzz-qaN2tKu"
      }
    },
    {
      "cell_type": "markdown",
      "source": [
        "PostgreSQL Tutorial based on https://www.postgresqltutorial.com/"
      ],
      "metadata": {
        "id": "dBJ6X0LiJtZ6"
      }
    },
    {
      "cell_type": "code",
      "source": [
        "from datetime import datetime\n",
        "import pytz\n",
        "print('ॐ श्री सरस्वत्यै नमः',datetime.now(pytz.timezone('Asia/Calcutta')))\n",
        "!python --version\n",
        "!lsb_release -a"
      ],
      "metadata": {
        "id": "Ns7helbMrXDA",
        "outputId": "4193a098-0f13-4788-a808-150a0fe7134c",
        "colab": {
          "base_uri": "https://localhost:8080/"
        }
      },
      "execution_count": 1,
      "outputs": [
        {
          "output_type": "stream",
          "name": "stdout",
          "text": [
            "ॐ श्री सरस्वत्यै नमः 2025-02-27 05:59:34.533211+05:30\n",
            "Python 3.11.11\n",
            "No LSB modules are available.\n",
            "Distributor ID:\tUbuntu\n",
            "Description:\tUbuntu 22.04.4 LTS\n",
            "Release:\t22.04\n",
            "Codename:\tjammy\n"
          ]
        }
      ]
    },
    {
      "cell_type": "markdown",
      "source": [
        "#Setup"
      ],
      "metadata": {
        "id": "nD-QawLT6kDr"
      }
    },
    {
      "cell_type": "code",
      "source": [
        "# Install postgresql server\n",
        "\n",
        "!apt update > /dev/null\n",
        "!apt install postgresql > /dev/null\n",
        "#\n",
        "import psycopg2\n",
        "import pandas as pd\n",
        "#!sudo -u postgres psql -V\n",
        "!psql -V\n",
        "!service postgresql start"
      ],
      "metadata": {
        "colab": {
          "base_uri": "https://localhost:8080/"
        },
        "id": "o_RaqE0OOHP3",
        "outputId": "d5619572-0b90-4163-e86c-5e65cff973fc"
      },
      "execution_count": 2,
      "outputs": [
        {
          "output_type": "stream",
          "name": "stdout",
          "text": [
            "\n",
            "WARNING: apt does not have a stable CLI interface. Use with caution in scripts.\n",
            "\n",
            "W: Skipping acquire of configured file 'main/source/Sources' as repository 'https://r2u.stat.illinois.edu/ubuntu jammy InRelease' does not seem to provide it (sources.list entry misspelt?)\n",
            "\n",
            "WARNING: apt does not have a stable CLI interface. Use with caution in scripts.\n",
            "\n",
            "psql (PostgreSQL) 14.15 (Ubuntu 14.15-0ubuntu0.22.04.1)\n",
            " * Starting PostgreSQL 14 database server\n",
            "   ...done.\n"
          ]
        }
      ]
    },
    {
      "cell_type": "code",
      "source": [
        "# The install process creates an Ubuntu user 'postgres' AND a Postgres database user 'postgres' both of which are superusers\n",
        "#!cat /etc/passwd\n",
        "# Use these users to create a new database user called 'upraxis' and give it a password 'upass'\n",
        "#!sudo -u postgres createuser --superuser upraxis\n",
        "!sudo -u postgres createuser upraxis\n",
        "!sudo -u postgres psql -U postgres -c \"ALTER USER upraxis PASSWORD 'upass';\"\n",
        "# Change the database superuser 'postgres' to a non-default value 'pass'\n",
        "!sudo -u postgres psql -U postgres -c \"ALTER USER postgres PASSWORD 'pass';\"\n",
        "# Use ubuntu superuser to create database dvdrental and set its owner to upraxis\n",
        "!sudo -u postgres createdb -O upraxis dvdrental\n",
        "#\n",
        "# Create file to store the password. Else will be prompted each time\n",
        "!echo \"localhost:5432:dvdrental:postgres:pass\" > ~/.pgpass\n",
        "!echo \"localhost:5432:dvdrental:upraxis:upass\" >> ~/.pgpass\n",
        "!chmod 0600 ~/.pgpass\n",
        "!cat ~/.pgpass"
      ],
      "metadata": {
        "colab": {
          "base_uri": "https://localhost:8080/"
        },
        "id": "xr5kHaY_U4CZ",
        "outputId": "52fa5393-cf16-469f-c934-7647a94dbf7f"
      },
      "execution_count": 3,
      "outputs": [
        {
          "output_type": "stream",
          "name": "stdout",
          "text": [
            "ALTER ROLE\n",
            "ALTER ROLE\n",
            "localhost:5432:dvdrental:postgres:pass\n",
            "localhost:5432:dvdrental:upraxis:upass\n"
          ]
        }
      ]
    },
    {
      "cell_type": "markdown",
      "source": [
        "## Create, Load Data"
      ],
      "metadata": {
        "id": "pHTdNzrU6qUE"
      }
    },
    {
      "cell_type": "code",
      "source": [
        "!wget -q https://github.com/Praxis-QR/RDWH/raw/main/data/dvdrental.zip\n",
        "#!wget https://www.postgresqltutorial.com/wp-content/uploads/2019/05/dvdrental.zip\n",
        "!unzip dvdrental.zip\n",
        "!ls dvd*.*"
      ],
      "metadata": {
        "colab": {
          "base_uri": "https://localhost:8080/"
        },
        "id": "ofnNeJfghNw2",
        "outputId": "d44b3889-a018-443c-b191-31aa216dfcee"
      },
      "execution_count": 4,
      "outputs": [
        {
          "output_type": "stream",
          "name": "stdout",
          "text": [
            "Archive:  dvdrental.zip\n",
            "  inflating: dvdrental.tar           \n",
            "dvdrental.tar  dvdrental.zip\n"
          ]
        }
      ]
    },
    {
      "cell_type": "code",
      "source": [
        "# Need the Ubuntu user postgres to run the pg_restore utility to recreate database from export\n",
        "#\n",
        "!sudo -u postgres pg_restore -d dvdrental /content/dvdrental.tar"
      ],
      "metadata": {
        "id": "9-eQXjtbbziO"
      },
      "execution_count": 5,
      "outputs": []
    },
    {
      "cell_type": "code",
      "source": [
        "# 15 tables created and loaded with data\n",
        "!psql -h localhost -p 5432 -U postgres -d dvdrental -c '\\dt+ public.*'"
      ],
      "metadata": {
        "colab": {
          "base_uri": "https://localhost:8080/"
        },
        "id": "vZ1vVV1mgBqh",
        "outputId": "fe78fd2c-4dba-451d-a501-eb21a5edd875"
      },
      "execution_count": 6,
      "outputs": [
        {
          "output_type": "stream",
          "name": "stdout",
          "text": [
            "                                         List of relations\n",
            " Schema |     Name      | Type  |  Owner   | Persistence | Access method |    Size    | Description \n",
            "--------+---------------+-------+----------+-------------+---------------+------------+-------------\n",
            " public | actor         | table | postgres | permanent   | heap          | 40 kB      | \n",
            " public | address       | table | postgres | permanent   | heap          | 88 kB      | \n",
            " public | category      | table | postgres | permanent   | heap          | 8192 bytes | \n",
            " public | city          | table | postgres | permanent   | heap          | 64 kB      | \n",
            " public | country       | table | postgres | permanent   | heap          | 8192 bytes | \n",
            " public | customer      | table | postgres | permanent   | heap          | 96 kB      | \n",
            " public | film          | table | postgres | permanent   | heap          | 464 kB     | \n",
            " public | film_actor    | table | postgres | permanent   | heap          | 264 kB     | \n",
            " public | film_category | table | postgres | permanent   | heap          | 72 kB      | \n",
            " public | inventory     | table | postgres | permanent   | heap          | 224 kB     | \n",
            " public | language      | table | postgres | permanent   | heap          | 8192 bytes | \n",
            " public | payment       | table | postgres | permanent   | heap          | 888 kB     | \n",
            " public | rental        | table | postgres | permanent   | heap          | 1224 kB    | \n",
            " public | staff         | table | postgres | permanent   | heap          | 16 kB      | \n",
            " public | store         | table | postgres | permanent   | heap          | 8192 bytes | \n",
            "(15 rows)\n",
            "\n"
          ]
        }
      ]
    },
    {
      "cell_type": "markdown",
      "source": [
        "![alt text](https://raw.githubusercontent.com/Praxis-QR/RDWH/main/images/dvd-rental-sample-database-diagram.png)<br>"
      ],
      "metadata": {
        "id": "daKjnjCmHC2B"
      }
    },
    {
      "cell_type": "code",
      "source": [
        "!psql -h localhost -p 5432 -U postgres -d dvdrental -c 'select * from actor limit 10'\n",
        "#the date data should have loaded correctly"
      ],
      "metadata": {
        "colab": {
          "base_uri": "https://localhost:8080/"
        },
        "id": "AFVNvTr8QLFM",
        "outputId": "4788433a-fc78-4f0d-8c9e-955837db670b"
      },
      "execution_count": 7,
      "outputs": [
        {
          "output_type": "stream",
          "name": "stdout",
          "text": [
            " actor_id | first_name |  last_name   |      last_update       \n",
            "----------+------------+--------------+------------------------\n",
            "        1 | Penelope   | Guiness      | 2013-05-26 14:47:57.62\n",
            "        2 | Nick       | Wahlberg     | 2013-05-26 14:47:57.62\n",
            "        3 | Ed         | Chase        | 2013-05-26 14:47:57.62\n",
            "        4 | Jennifer   | Davis        | 2013-05-26 14:47:57.62\n",
            "        5 | Johnny     | Lollobrigida | 2013-05-26 14:47:57.62\n",
            "        6 | Bette      | Nicholson    | 2013-05-26 14:47:57.62\n",
            "        7 | Grace      | Mostel       | 2013-05-26 14:47:57.62\n",
            "        8 | Matthew    | Johansson    | 2013-05-26 14:47:57.62\n",
            "        9 | Joe        | Swank        | 2013-05-26 14:47:57.62\n",
            "       10 | Christian  | Gable        | 2013-05-26 14:47:57.62\n",
            "(10 rows)\n",
            "\n"
          ]
        }
      ]
    },
    {
      "cell_type": "code",
      "source": [
        "# check users and their authority\n",
        "!psql -h localhost -p 5432 -U postgres -d dvdrental -c '\\du'"
      ],
      "metadata": {
        "colab": {
          "base_uri": "https://localhost:8080/"
        },
        "id": "lBnUBoXpGkNq",
        "outputId": "b7c86449-ef4f-4562-8dd8-e9fa54aff2d9"
      },
      "execution_count": 8,
      "outputs": [
        {
          "output_type": "stream",
          "name": "stdout",
          "text": [
            "                                   List of roles\n",
            " Role name |                         Attributes                         | Member of \n",
            "-----------+------------------------------------------------------------+-----------\n",
            " postgres  | Superuser, Create role, Create DB, Replication, Bypass RLS | {}\n",
            " upraxis   |                                                            | {}\n",
            "\n"
          ]
        }
      ]
    },
    {
      "cell_type": "code",
      "source": [
        "# Grant access to user upraxis\n",
        "!psql -h localhost -p 5432 -U postgres -d dvdrental -c 'GRANT INSERT, UPDATE, SELECT, DELETE ON ALL TABLES IN SCHEMA public TO upraxis;'"
      ],
      "metadata": {
        "colab": {
          "base_uri": "https://localhost:8080/"
        },
        "id": "saUnNh3CF30F",
        "outputId": "09ad1161-f905-4360-861e-1215ce39ec43"
      },
      "execution_count": 9,
      "outputs": [
        {
          "output_type": "stream",
          "name": "stdout",
          "text": [
            "GRANT\n"
          ]
        }
      ]
    },
    {
      "cell_type": "code",
      "source": [
        "!psql -h localhost -p 5432 -U upraxis -d dvdrental -c 'select * from actor limit 10'\n",
        "#the date data should have loaded correctly"
      ],
      "metadata": {
        "colab": {
          "base_uri": "https://localhost:8080/"
        },
        "id": "McCkXLUeFtNT",
        "outputId": "ee35e423-dc36-4986-d64a-b4b6c71a9ed3"
      },
      "execution_count": 10,
      "outputs": [
        {
          "output_type": "stream",
          "name": "stdout",
          "text": [
            " actor_id | first_name |  last_name   |      last_update       \n",
            "----------+------------+--------------+------------------------\n",
            "        1 | Penelope   | Guiness      | 2013-05-26 14:47:57.62\n",
            "        2 | Nick       | Wahlberg     | 2013-05-26 14:47:57.62\n",
            "        3 | Ed         | Chase        | 2013-05-26 14:47:57.62\n",
            "        4 | Jennifer   | Davis        | 2013-05-26 14:47:57.62\n",
            "        5 | Johnny     | Lollobrigida | 2013-05-26 14:47:57.62\n",
            "        6 | Bette      | Nicholson    | 2013-05-26 14:47:57.62\n",
            "        7 | Grace      | Mostel       | 2013-05-26 14:47:57.62\n",
            "        8 | Matthew    | Johansson    | 2013-05-26 14:47:57.62\n",
            "        9 | Joe        | Swank        | 2013-05-26 14:47:57.62\n",
            "       10 | Christian  | Gable        | 2013-05-26 14:47:57.62\n",
            "(10 rows)\n",
            "\n"
          ]
        }
      ]
    },
    {
      "cell_type": "markdown",
      "source": [
        "## Python Access\n",
        "https://www.tutorialspoint.com/python_data_access/python_postgresql_database_connection.htm"
      ],
      "metadata": {
        "id": "faZEj8_7CeZ8"
      }
    },
    {
      "cell_type": "code",
      "source": [
        "def runSelect(s):\n",
        "    #Set up connection\n",
        "\n",
        "    conn = psycopg2.connect(database=\"dvdrental\", user='upraxis', password='upass', host='127.0.0.1', port= '5432')\n",
        "    #Setting auto commit true\n",
        "    conn.autocommit = True\n",
        "    #Creating a cursor object using the cursor() method\n",
        "    cursor = conn.cursor()\n",
        "    #Retrieving data\n",
        "    cursor.execute(s)\n",
        "    #Fetching all rows from the table\n",
        "    result = cursor.fetchall();\n",
        "    #print(len(result))\n",
        "    if (len(result)) > 0:                                       # result contains at least one row\n",
        "        colnames = [desc[0] for desc in cursor.description]     # get column names\n",
        "        #print(colnames)\n",
        "        resultdf = pd.DataFrame(result)                         # convert list to dataframe\n",
        "        resultdf.columns = colnames                             # add column names\n",
        "        #return resultdf\n",
        "        return resultdf.style.hide()                            # hide the index\n",
        "    else:\n",
        "        print('no records found')\n",
        "        return\n",
        "\n",
        "def runCmd(s):\n",
        "    #Create Connection\n",
        "    conn = psycopg2.connect(database=\"dvdrental\", user='upraxis', password='upass', host='127.0.0.1', port= '5432')\n",
        "    #Creating a cursor object using the cursor() method\n",
        "    cursor = conn.cursor()\n",
        "    try:\n",
        "        cursor.execute(s)\n",
        "        print('Command executed')\n",
        "        conn.commit()\n",
        "    except:\n",
        "        print('Command failed')\n",
        "    #Closing the connection\n",
        "    conn.close()"
      ],
      "metadata": {
        "id": "ht2k7-3iggNd"
      },
      "execution_count": 11,
      "outputs": []
    },
    {
      "cell_type": "code",
      "source": [
        "runSelect('select count(*) from film')"
      ],
      "metadata": {
        "id": "Otiv4rjSl5Tg",
        "outputId": "8e70ba37-7de4-4462-f6ee-040a3333545a",
        "colab": {
          "base_uri": "https://localhost:8080/",
          "height": 81
        }
      },
      "execution_count": 12,
      "outputs": [
        {
          "output_type": "execute_result",
          "data": {
            "text/plain": [
              "<pandas.io.formats.style.Styler at 0x7e76f0fda290>"
            ],
            "text/html": [
              "<style type=\"text/css\">\n",
              "</style>\n",
              "<table id=\"T_1bfbc\" class=\"dataframe\">\n",
              "  <thead>\n",
              "    <tr>\n",
              "      <th id=\"T_1bfbc_level0_col0\" class=\"col_heading level0 col0\" >count</th>\n",
              "    </tr>\n",
              "  </thead>\n",
              "  <tbody>\n",
              "    <tr>\n",
              "      <td id=\"T_1bfbc_row0_col0\" class=\"data row0 col0\" >1000</td>\n",
              "    </tr>\n",
              "  </tbody>\n",
              "</table>\n"
            ]
          },
          "metadata": {},
          "execution_count": 12
        }
      ]
    },
    {
      "cell_type": "markdown",
      "source": [
        "#ChronoTYM <br>\n",
        "In Indic phraseology, tantra is knowledge, a yantra is a device to explore this knowledge and a mantra is the code that unlocks both the tantra and its yantra. Chrono/TYM a sci-fi trilogy that recreates this framework where the first novel Chronotantra defines the contours of a tech driven, futuristic society, the second, Chronoyantra, describes a device used to explore the genesis of this society, while the third, Chronomantra finally reveals the code, the key, that unlocks this puzzle.  [More information](http://bit.ly/chronobooks) <br>\n",
        "![alt text](https://blogger.googleusercontent.com/img/b/R29vZ2xl/AVvXsEjdu_ajYwBRzk5iFYlcs59ZoRMMg6rhNm4JERKspvFJoveJsnfwRlzMICiC37UOja_Bd4sbfLA1pyyBbe0mj3tUfDBXoqCzNUDw3Wux7acoJBaLkWjAvJXfa7drRY2GQRAlFxEY9O7a7raY4RKy7cA3Uxgf5QsaZQ99C9GfXxFSex_rke8ROhAn41t8zOqK/s1640/tymBanner01_3.png)"
      ],
      "metadata": {
        "id": "_gNiZpyW3AzJ"
      }
    },
    {
      "cell_type": "code",
      "source": [
        "from datetime import datetime\n",
        "import pytz\n",
        "print('tested',datetime.now(pytz.timezone('Asia/Calcutta')))"
      ],
      "metadata": {
        "colab": {
          "base_uri": "https://localhost:8080/"
        },
        "id": "RvIWdemwYIZk",
        "outputId": "2f6c2823-f4e5-4278-da91-e6891039924d"
      },
      "execution_count": 13,
      "outputs": [
        {
          "output_type": "stream",
          "name": "stdout",
          "text": [
            "tested 2025-02-27 06:00:20.535522+05:30\n"
          ]
        }
      ]
    }
  ]
}