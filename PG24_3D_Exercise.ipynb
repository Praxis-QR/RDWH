{
  "nbformat": 4,
  "nbformat_minor": 0,
  "metadata": {
    "colab": {
      "provenance": [],
      "include_colab_link": true
    },
    "kernelspec": {
      "name": "python3",
      "display_name": "Python 3"
    },
    "language_info": {
      "name": "python"
    }
  },
  "cells": [
    {
      "cell_type": "markdown",
      "metadata": {
        "id": "view-in-github",
        "colab_type": "text"
      },
      "source": [
        "<a href=\"https://colab.research.google.com/github/Praxis-QR/RDWH/blob/main/PG24_3D_Exercise.ipynb\" target=\"_parent\"><img src=\"https://colab.research.google.com/assets/colab-badge.svg\" alt=\"Open In Colab\"/></a>"
      ]
    },
    {
      "cell_type": "markdown",
      "source": [
        "![alt text](https://github.com/Praxis-QR/RDWH/raw/main/images/YantraJaalBanner.png)<br>\n",
        "\n",
        "\n",
        "<hr>\n",
        "\n",
        "[Prithwis Mukerjee](http://www.linkedin.com/in/prithwis)<br>"
      ],
      "metadata": {
        "id": "DBzz-qaN2tKu"
      }
    },
    {
      "cell_type": "markdown",
      "source": [
        "PostgreSQL Tutorial based on https://www.postgresqltutorial.com/"
      ],
      "metadata": {
        "id": "dBJ6X0LiJtZ6"
      }
    },
    {
      "cell_type": "code",
      "source": [
        "from datetime import datetime\n",
        "import pytz\n",
        "print('ॐ श्री सरस्वत्यै नमः',datetime.now(pytz.timezone('Asia/Calcutta')))\n",
        "!python --version\n",
        "!lsb_release -a"
      ],
      "metadata": {
        "id": "Ns7helbMrXDA",
        "outputId": "9de12c10-b97a-440e-b5a0-0f8db61bc4f9",
        "colab": {
          "base_uri": "https://localhost:8080/"
        }
      },
      "execution_count": 1,
      "outputs": [
        {
          "output_type": "stream",
          "name": "stdout",
          "text": [
            "ॐ श्री सरस्वत्यै नमः 2024-01-16 09:55:54.028261+05:30\n",
            "Python 3.10.12\n",
            "No LSB modules are available.\n",
            "Distributor ID:\tUbuntu\n",
            "Description:\tUbuntu 22.04.3 LTS\n",
            "Release:\t22.04\n",
            "Codename:\tjammy\n"
          ]
        }
      ]
    },
    {
      "cell_type": "markdown",
      "source": [
        "#Setup"
      ],
      "metadata": {
        "id": "nD-QawLT6kDr"
      }
    },
    {
      "cell_type": "code",
      "source": [
        "# Install postgresql server\n",
        "\n",
        "!apt update > /dev/null\n",
        "!apt install postgresql > /dev/null\n",
        "#\n",
        "import psycopg2\n",
        "import pandas as pd\n",
        "#!sudo -u postgres psql -V\n",
        "!psql -V\n",
        "!service postgresql start"
      ],
      "metadata": {
        "colab": {
          "base_uri": "https://localhost:8080/"
        },
        "id": "o_RaqE0OOHP3",
        "outputId": "511b36d6-6ad6-4ac3-f8f0-9bc81b6e33cc"
      },
      "execution_count": 2,
      "outputs": [
        {
          "output_type": "stream",
          "name": "stdout",
          "text": [
            "\n",
            "WARNING: apt does not have a stable CLI interface. Use with caution in scripts.\n",
            "\n",
            "\n",
            "WARNING: apt does not have a stable CLI interface. Use with caution in scripts.\n",
            "\n",
            "psql (PostgreSQL) 14.10 (Ubuntu 14.10-0ubuntu0.22.04.1)\n",
            " * Starting PostgreSQL 14 database server\n",
            "   ...done.\n"
          ]
        }
      ]
    },
    {
      "cell_type": "code",
      "source": [
        "# The install process creates an Ubuntu user 'postgres' AND a Postgres database user 'postgres' both of which are superusers\n",
        "#!cat /etc/passwd\n",
        "# Use these users to create a new database user called 'upraxis' and give it a password 'upass'\n",
        "#!sudo -u postgres createuser --superuser upraxis\n",
        "!sudo -u postgres createuser upraxis\n",
        "!sudo -u postgres psql -U postgres -c \"ALTER USER upraxis PASSWORD 'upass';\"\n",
        "# Change the database superuser 'postgres' to a non-default value 'pass'\n",
        "!sudo -u postgres psql -U postgres -c \"ALTER USER postgres PASSWORD 'pass';\"\n",
        "# Use ubuntu superuser to create database dvdrental and set its owner to upraxis\n",
        "!sudo -u postgres createdb -O upraxis dvdrental\n",
        "#\n",
        "# Create file to store the password. Else will be prompted each time\n",
        "!echo \"localhost:5432:dvdrental:postgres:pass\" > ~/.pgpass\n",
        "!echo \"localhost:5432:dvdrental:upraxis:upass\" >> ~/.pgpass\n",
        "!chmod 0600 ~/.pgpass\n",
        "!cat ~/.pgpass"
      ],
      "metadata": {
        "colab": {
          "base_uri": "https://localhost:8080/"
        },
        "id": "xr5kHaY_U4CZ",
        "outputId": "7b347c53-4996-4647-954c-0f182871f2a7"
      },
      "execution_count": 3,
      "outputs": [
        {
          "output_type": "stream",
          "name": "stdout",
          "text": [
            "ALTER ROLE\n",
            "ALTER ROLE\n",
            "localhost:5432:dvdrental:postgres:pass\n",
            "localhost:5432:dvdrental:upraxis:upass\n"
          ]
        }
      ]
    },
    {
      "cell_type": "markdown",
      "source": [
        "## Create, Load Data"
      ],
      "metadata": {
        "id": "pHTdNzrU6qUE"
      }
    },
    {
      "cell_type": "code",
      "source": [
        "!wget -q https://github.com/Praxis-QR/RDWH/raw/main/data/dvdrental.zip\n",
        "#!wget https://www.postgresqltutorial.com/wp-content/uploads/2019/05/dvdrental.zip\n",
        "!unzip dvdrental.zip\n",
        "!ls dvd*.*"
      ],
      "metadata": {
        "colab": {
          "base_uri": "https://localhost:8080/"
        },
        "id": "ofnNeJfghNw2",
        "outputId": "04c46614-d109-43da-aaeb-ca89585c581c"
      },
      "execution_count": 4,
      "outputs": [
        {
          "output_type": "stream",
          "name": "stdout",
          "text": [
            "Archive:  dvdrental.zip\n",
            "  inflating: dvdrental.tar           \n",
            "dvdrental.tar  dvdrental.zip\n"
          ]
        }
      ]
    },
    {
      "cell_type": "code",
      "source": [
        "# Need the Ubuntu user postgres to run the pg_restore utility to recreate database from export\n",
        "#\n",
        "!sudo -u postgres pg_restore -d dvdrental /content/dvdrental.tar"
      ],
      "metadata": {
        "id": "9-eQXjtbbziO"
      },
      "execution_count": 5,
      "outputs": []
    },
    {
      "cell_type": "code",
      "source": [
        "# 15 tables created and loaded with data\n",
        "!psql -h localhost -p 5432 -U postgres -d dvdrental -c '\\dt+ public.*'"
      ],
      "metadata": {
        "colab": {
          "base_uri": "https://localhost:8080/"
        },
        "id": "vZ1vVV1mgBqh",
        "outputId": "98932f6a-0a5b-4bfb-b19c-ad00173ba815"
      },
      "execution_count": 6,
      "outputs": [
        {
          "output_type": "stream",
          "name": "stdout",
          "text": [
            "                                         List of relations\n",
            " Schema |     Name      | Type  |  Owner   | Persistence | Access method |    Size    | Description \n",
            "--------+---------------+-------+----------+-------------+---------------+------------+-------------\n",
            " public | actor         | table | postgres | permanent   | heap          | 40 kB      | \n",
            " public | address       | table | postgres | permanent   | heap          | 88 kB      | \n",
            " public | category      | table | postgres | permanent   | heap          | 8192 bytes | \n",
            " public | city          | table | postgres | permanent   | heap          | 64 kB      | \n",
            " public | country       | table | postgres | permanent   | heap          | 8192 bytes | \n",
            " public | customer      | table | postgres | permanent   | heap          | 96 kB      | \n",
            " public | film          | table | postgres | permanent   | heap          | 464 kB     | \n",
            " public | film_actor    | table | postgres | permanent   | heap          | 264 kB     | \n",
            " public | film_category | table | postgres | permanent   | heap          | 72 kB      | \n",
            " public | inventory     | table | postgres | permanent   | heap          | 224 kB     | \n",
            " public | language      | table | postgres | permanent   | heap          | 8192 bytes | \n",
            " public | payment       | table | postgres | permanent   | heap          | 888 kB     | \n",
            " public | rental        | table | postgres | permanent   | heap          | 1224 kB    | \n",
            " public | staff         | table | postgres | permanent   | heap          | 16 kB      | \n",
            " public | store         | table | postgres | permanent   | heap          | 8192 bytes | \n",
            "(15 rows)\n",
            "\n"
          ]
        }
      ]
    },
    {
      "cell_type": "markdown",
      "source": [
        "![alt text](https://raw.githubusercontent.com/Praxis-QR/RDWH/main/images/dvd-rental-sample-database-diagram.png)<br>"
      ],
      "metadata": {
        "id": "daKjnjCmHC2B"
      }
    },
    {
      "cell_type": "code",
      "source": [
        "!psql -h localhost -p 5432 -U postgres -d dvdrental -c 'select * from actor limit 10'\n",
        "#the date data should have loaded correctly"
      ],
      "metadata": {
        "colab": {
          "base_uri": "https://localhost:8080/"
        },
        "id": "AFVNvTr8QLFM",
        "outputId": "dfbd55bc-2900-4725-80a6-c860ea89996c"
      },
      "execution_count": 7,
      "outputs": [
        {
          "output_type": "stream",
          "name": "stdout",
          "text": [
            " actor_id | first_name |  last_name   |      last_update       \n",
            "----------+------------+--------------+------------------------\n",
            "        1 | Penelope   | Guiness      | 2013-05-26 14:47:57.62\n",
            "        2 | Nick       | Wahlberg     | 2013-05-26 14:47:57.62\n",
            "        3 | Ed         | Chase        | 2013-05-26 14:47:57.62\n",
            "        4 | Jennifer   | Davis        | 2013-05-26 14:47:57.62\n",
            "        5 | Johnny     | Lollobrigida | 2013-05-26 14:47:57.62\n",
            "        6 | Bette      | Nicholson    | 2013-05-26 14:47:57.62\n",
            "        7 | Grace      | Mostel       | 2013-05-26 14:47:57.62\n",
            "        8 | Matthew    | Johansson    | 2013-05-26 14:47:57.62\n",
            "        9 | Joe        | Swank        | 2013-05-26 14:47:57.62\n",
            "       10 | Christian  | Gable        | 2013-05-26 14:47:57.62\n",
            "(10 rows)\n",
            "\n"
          ]
        }
      ]
    },
    {
      "cell_type": "code",
      "source": [
        "# check users and their authority\n",
        "!psql -h localhost -p 5432 -U postgres -d dvdrental -c '\\du'"
      ],
      "metadata": {
        "colab": {
          "base_uri": "https://localhost:8080/"
        },
        "id": "lBnUBoXpGkNq",
        "outputId": "4aa81131-7e72-4173-8b33-828fc5b3e217"
      },
      "execution_count": 8,
      "outputs": [
        {
          "output_type": "stream",
          "name": "stdout",
          "text": [
            "                                   List of roles\n",
            " Role name |                         Attributes                         | Member of \n",
            "-----------+------------------------------------------------------------+-----------\n",
            " postgres  | Superuser, Create role, Create DB, Replication, Bypass RLS | {}\n",
            " upraxis   |                                                            | {}\n",
            "\n"
          ]
        }
      ]
    },
    {
      "cell_type": "code",
      "source": [
        "# Grant access to user upraxis\n",
        "!psql -h localhost -p 5432 -U postgres -d dvdrental -c 'GRANT INSERT, UPDATE, SELECT, DELETE ON ALL TABLES IN SCHEMA public TO upraxis;'"
      ],
      "metadata": {
        "colab": {
          "base_uri": "https://localhost:8080/"
        },
        "id": "saUnNh3CF30F",
        "outputId": "aa829f9e-1236-4d70-b0e7-0d58f7309fda"
      },
      "execution_count": 9,
      "outputs": [
        {
          "output_type": "stream",
          "name": "stdout",
          "text": [
            "GRANT\n"
          ]
        }
      ]
    },
    {
      "cell_type": "code",
      "source": [
        "!psql -h localhost -p 5432 -U upraxis -d dvdrental -c 'select * from actor limit 10'\n",
        "#the date data should have loaded correctly"
      ],
      "metadata": {
        "colab": {
          "base_uri": "https://localhost:8080/"
        },
        "id": "McCkXLUeFtNT",
        "outputId": "f4e976f4-2411-4c9a-c6ae-034d14563ffb"
      },
      "execution_count": 10,
      "outputs": [
        {
          "output_type": "stream",
          "name": "stdout",
          "text": [
            " actor_id | first_name |  last_name   |      last_update       \n",
            "----------+------------+--------------+------------------------\n",
            "        1 | Penelope   | Guiness      | 2013-05-26 14:47:57.62\n",
            "        2 | Nick       | Wahlberg     | 2013-05-26 14:47:57.62\n",
            "        3 | Ed         | Chase        | 2013-05-26 14:47:57.62\n",
            "        4 | Jennifer   | Davis        | 2013-05-26 14:47:57.62\n",
            "        5 | Johnny     | Lollobrigida | 2013-05-26 14:47:57.62\n",
            "        6 | Bette      | Nicholson    | 2013-05-26 14:47:57.62\n",
            "        7 | Grace      | Mostel       | 2013-05-26 14:47:57.62\n",
            "        8 | Matthew    | Johansson    | 2013-05-26 14:47:57.62\n",
            "        9 | Joe        | Swank        | 2013-05-26 14:47:57.62\n",
            "       10 | Christian  | Gable        | 2013-05-26 14:47:57.62\n",
            "(10 rows)\n",
            "\n"
          ]
        }
      ]
    },
    {
      "cell_type": "markdown",
      "source": [
        "## Python Access\n",
        "https://www.tutorialspoint.com/python_data_access/python_postgresql_database_connection.htm"
      ],
      "metadata": {
        "id": "faZEj8_7CeZ8"
      }
    },
    {
      "cell_type": "code",
      "source": [
        "def runSelect(s):\n",
        "    #Set up connection\n",
        "\n",
        "    conn = psycopg2.connect(database=\"dvdrental\", user='upraxis', password='upass', host='127.0.0.1', port= '5432')\n",
        "    #Setting auto commit true\n",
        "    conn.autocommit = True\n",
        "    #Creating a cursor object using the cursor() method\n",
        "    cursor = conn.cursor()\n",
        "    #Retrieving data\n",
        "    cursor.execute(s)\n",
        "    #Fetching all rows from the table\n",
        "    result = cursor.fetchall();\n",
        "    #print(len(result))\n",
        "    if (len(result)) > 0:                                       # result contains at least one row\n",
        "        colnames = [desc[0] for desc in cursor.description]     # get column names\n",
        "        #print(colnames)\n",
        "        resultdf = pd.DataFrame(result)                         # convert list to dataframe\n",
        "        resultdf.columns = colnames                             # add column names\n",
        "        #return resultdf\n",
        "        return resultdf.style.hide()                            # hide the index\n",
        "    else:\n",
        "        print('no records found')\n",
        "        return\n",
        "\n",
        "def runCmd(s):\n",
        "    #Create Connection\n",
        "    conn = psycopg2.connect(database=\"dvdrental\", user='upraxis', password='upass', host='127.0.0.1', port= '5432')\n",
        "    #Creating a cursor object using the cursor() method\n",
        "    cursor = conn.cursor()\n",
        "    try:\n",
        "        cursor.execute(s)\n",
        "        print('Command executed')\n",
        "        conn.commit()\n",
        "    except:\n",
        "        print('Command failed')\n",
        "    #Closing the connection\n",
        "    conn.close()"
      ],
      "metadata": {
        "id": "ht2k7-3iggNd"
      },
      "execution_count": 11,
      "outputs": []
    },
    {
      "cell_type": "code",
      "source": [
        "runSelect('select count(*) from film')"
      ],
      "metadata": {
        "id": "Otiv4rjSl5Tg",
        "outputId": "8cbbf1db-f2f2-49db-a091-0cc3be143205",
        "colab": {
          "base_uri": "https://localhost:8080/",
          "height": 81
        }
      },
      "execution_count": 12,
      "outputs": [
        {
          "output_type": "execute_result",
          "data": {
            "text/plain": [
              "<pandas.io.formats.style.Styler at 0x796deae668c0>"
            ],
            "text/html": [
              "<style type=\"text/css\">\n",
              "</style>\n",
              "<table id=\"T_17f47\" class=\"dataframe\">\n",
              "  <thead>\n",
              "    <tr>\n",
              "      <th id=\"T_17f47_level0_col0\" class=\"col_heading level0 col0\" >count</th>\n",
              "    </tr>\n",
              "  </thead>\n",
              "  <tbody>\n",
              "    <tr>\n",
              "      <td id=\"T_17f47_row0_col0\" class=\"data row0 col0\" >1000</td>\n",
              "    </tr>\n",
              "  </tbody>\n",
              "</table>\n"
            ]
          },
          "metadata": {},
          "execution_count": 12
        }
      ]
    },
    {
      "cell_type": "markdown",
      "source": [
        "#Chronobooks <br>\n",
        "Two science fiction novels by Prithwis Mukerjee. A dystopian Earth. A technocratic society managed by artificial intelligence. Escape and epiphany on Mars. Can man and machine, carbon and silicon explore and escape into other dimensions of existence? An Indic perspective rooted in Advaita Vedanta and the Divine Feminine.  [More information](http://bit.ly/chronobooks) <br>\n",
        "![alt text](https://github.com/Praxis-QR/RDWH/raw/main/images/CTCYFooter-1.png)"
      ],
      "metadata": {
        "id": "_gNiZpyW3AzJ"
      }
    },
    {
      "cell_type": "code",
      "source": [
        "from datetime import datetime\n",
        "import pytz\n",
        "print('tested',datetime.now(pytz.timezone('Asia/Calcutta')))"
      ],
      "metadata": {
        "colab": {
          "base_uri": "https://localhost:8080/"
        },
        "id": "RvIWdemwYIZk",
        "outputId": "0af25855-1d86-4067-b6d6-dfea8885e485"
      },
      "execution_count": 13,
      "outputs": [
        {
          "output_type": "stream",
          "name": "stdout",
          "text": [
            "tested 2024-01-16 09:59:03.640212+05:30\n"
          ]
        }
      ]
    }
  ]
}