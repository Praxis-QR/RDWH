{
  "nbformat": 4,
  "nbformat_minor": 0,
  "metadata": {
    "colab": {
      "name": "SQL+Pandas : Getting Started",
      "provenance": [],
      "include_colab_link": true
    },
    "kernelspec": {
      "name": "python3",
      "display_name": "Python 3"
    }
  },
  "cells": [
    {
      "cell_type": "markdown",
      "metadata": {
        "id": "view-in-github",
        "colab_type": "text"
      },
      "source": [
        "<a href=\"https://colab.research.google.com/github/Praxis-QR/RDWH/blob/main/SQL%2BPandas_Getting_Started.ipynb\" target=\"_parent\"><img src=\"https://colab.research.google.com/assets/colab-badge.svg\" alt=\"Open In Colab\"/></a>"
      ]
    },
    {
      "cell_type": "markdown",
      "metadata": {
        "id": "bCIotTZFo-E4"
      },
      "source": [
        "![alt text](https://4.bp.blogspot.com/-gbL5nZDkpFQ/XScFYwoTEII/AAAAAAAAAGY/CcVb_HDLwvs2Brv5T4vSsUcz7O4r2Q79ACK4BGAYYCw/s1600/kk3-header00-beta.png)<br>\n",
        "\n",
        "\n",
        "<hr>\n",
        "\n",
        "[Prithwis Mukerjee](http://www.linkedin.com/in/prithwis)<br>"
      ]
    },
    {
      "cell_type": "markdown",
      "source": [
        "#Using Local Server"
      ],
      "metadata": {
        "id": "uGvAzElNngKd"
      }
    },
    {
      "cell_type": "markdown",
      "metadata": {
        "id": "MCb2Qk4Fpajc"
      },
      "source": [
        "## Install MySQL"
      ]
    },
    {
      "cell_type": "code",
      "metadata": {
        "id": "Lz9UOPeupctr",
        "colab": {
          "base_uri": "https://localhost:8080/"
        },
        "outputId": "1fcd8c16-e993-4899-f81d-2be1c754701c"
      },
      "source": [
        "!apt update > /dev/null\n",
        "!apt install -y  mysql-server > /dev/null\n",
        "!/etc/init.d/mysql restart\n",
        "!mysql -e 'create database praxisDB'\n",
        "!mysql -e 'show databases'"
      ],
      "execution_count": 1,
      "outputs": [
        {
          "output_type": "stream",
          "name": "stdout",
          "text": [
            "\n",
            "WARNING: apt does not have a stable CLI interface. Use with caution in scripts.\n",
            "\n",
            "\n",
            "WARNING: apt does not have a stable CLI interface. Use with caution in scripts.\n",
            "\n"
          ]
        }
      ]
    },
    {
      "cell_type": "markdown",
      "source": [
        "#Using Remote Server"
      ],
      "metadata": {
        "id": "K4I8Db7_sjSf"
      }
    },
    {
      "cell_type": "markdown",
      "source": [
        "## Set Public Credentials"
      ],
      "metadata": {
        "id": "QLLUcW5js8lc"
      }
    },
    {
      "cell_type": "code",
      "source": [
        "# enter credentials here\n",
        "#hostName = 'remotemysql.com'   # place your own credentials here\n",
        "#userName = 'yourUserName'      # place your own credentials here\n",
        "#passWord = 'yourPassWord'      # place your own credentials here\n",
        "#dbName =  'yourDBname'         # place your own credentials here\n",
        "\n",
        "#print(hostName,userName,dbName)"
      ],
      "metadata": {
        "id": "sz5ZbznNs_0J"
      },
      "execution_count": null,
      "outputs": []
    },
    {
      "cell_type": "markdown",
      "source": [
        "## Set Private Credentials"
      ],
      "metadata": {
        "id": "2n05YF-8tBNW"
      }
    },
    {
      "cell_type": "code",
      "source": [
        "#connect to G-Drive\n",
        "from google.colab import drive\n",
        "drive.mount('/content/drive')\n",
        "# copy credentials file\n",
        "#!ls /content/drive/'My Drive'/Praxis/WebCredentials\n",
        "#!cp /content/drive/'My Drive'/Praxis/WebCredentials/sqlCredentials_020221.py .\n",
        "!cp /content/drive/'My Drive'/Praxis/WebCredentials/cleverCloud.py credentials.py\n",
        "from credentials import hostName,userName,passWord,dbName\n",
        "\n",
        "#for the sake of privacy\n",
        "#the following credentials need to be stored in a text file called sqlCredentials.py\n",
        "#in the format given below\n",
        "#in the Colab VM\n",
        "\n",
        "\n",
        "print(hostName,userName,dbName)"
      ],
      "metadata": {
        "colab": {
          "base_uri": "https://localhost:8080/"
        },
        "id": "7teZGFeztEwd",
        "outputId": "60be2b80-0dcc-48b7-869a-178326c44375"
      },
      "execution_count": 2,
      "outputs": [
        {
          "output_type": "stream",
          "name": "stdout",
          "text": [
            "Mounted at /content/drive\n",
            "bq3ojarbqgmkc7prtopv-mysql.services.clever-cloud.com uxnhrnbgcu47thlz bq3ojarbqgmkc7prtopv\n"
          ]
        }
      ]
    },
    {
      "cell_type": "code",
      "source": [
        "#NOTE SECURITY WARNING\n",
        "#Passing passwords in the command line is inherently risky and SHOULD NOT BE USED for any non-trivial work\n",
        "#---------------------------------------------------------------------\n",
        "!mysql -h $hostName -P 3306 -u $userName -p$passWord $dbName -e 'show tables'"
      ],
      "metadata": {
        "colab": {
          "base_uri": "https://localhost:8080/"
        },
        "id": "i2vFdWuKth1y",
        "outputId": "a941a9bc-8568-44d3-f8fd-748d5f19e39f"
      },
      "execution_count": 6,
      "outputs": [
        {
          "output_type": "stream",
          "name": "stdout",
          "text": [
            "mysql: [Warning] Using a password on the command line interface can be insecure.\n",
            "+--------------------------------+\n",
            "| Tables_in_bq3ojarbqgmkc7prtopv |\n",
            "+--------------------------------+\n",
            "| Dept                           |\n",
            "| Emp                            |\n",
            "| customers                      |\n",
            "| itemsordered                   |\n",
            "+--------------------------------+\n"
          ]
        }
      ]
    },
    {
      "cell_type": "markdown",
      "source": [
        "# Pythons Functions for SQL commands"
      ],
      "metadata": {
        "id": "eIoTpY-HBFLL"
      }
    },
    {
      "cell_type": "code",
      "source": [
        "!apt install libmysqlclient-dev > /dev/null\n",
        "!pip install mysqlclient > /dev/null\n",
        "import pandas as pd\n",
        "import MySQLdb"
      ],
      "metadata": {
        "colab": {
          "base_uri": "https://localhost:8080/"
        },
        "id": "muMYozz1D-EC",
        "outputId": "eafce2ca-82e5-4aeb-8e3d-137c5e7128e8"
      },
      "execution_count": 7,
      "outputs": [
        {
          "output_type": "stream",
          "name": "stdout",
          "text": [
            "\n",
            "WARNING: apt does not have a stable CLI interface. Use with caution in scripts.\n",
            "\n"
          ]
        }
      ]
    },
    {
      "cell_type": "code",
      "source": [
        "#To run any non-SELECT SQL command\n",
        "def runCMD (loc, DDL):\n",
        "    if loc == 'remoteDB':\n",
        "        DBConn = MySQLdb.connect(hostName,userName,passWord,dbName)\n",
        "    elif loc == 'localDB':\n",
        "        DBConn = MySQLdb.connect(db='praxisDB')\n",
        "    else :\n",
        "        print('location must be \"remoteDB or \"localDB\"')\n",
        "    \n",
        "    myCursor = DBConn.cursor()\n",
        "    retcode = myCursor.execute(DDL) \n",
        "    print (retcode)\n",
        "    DBConn.commit()\n",
        "    DBConn.close()\n",
        "\n",
        "#To run any SELECT SQL command\n",
        "def runSELECT (loc, CMD):\n",
        "    if loc == 'remoteDB':\n",
        "        DBConn = MySQLdb.connect(hostName,userName,passWord,dbName)\n",
        "    elif loc == 'localDB':\n",
        "        DBConn = MySQLdb.connect(db='praxisDB')\n",
        "    else :\n",
        "        print('location must be \"remoteDB or \"localDB\"')\n",
        "    \n",
        "    df_mysql = pd.read_sql(CMD, con=DBConn)    \n",
        "    DBConn.close()\n",
        "    return df_mysql"
      ],
      "metadata": {
        "id": "NVDDq2VmBgQH"
      },
      "execution_count": 8,
      "outputs": []
    },
    {
      "cell_type": "markdown",
      "source": [
        "## Create and Load Tables EMP, DEPT"
      ],
      "metadata": {
        "id": "VIbZ_9LzDS0D"
      }
    },
    {
      "cell_type": "code",
      "source": [
        "# Set the location to whichever Database you need to access\n",
        "#\n",
        "# --------------------------------\n",
        "#\n",
        "#location = 'localDB'\n",
        "location = 'remoteDB'"
      ],
      "metadata": {
        "id": "i9G6UTJlDdi9"
      },
      "execution_count": 9,
      "outputs": []
    },
    {
      "cell_type": "code",
      "source": [
        "# Create and load Emp table\n",
        "# -----------------------------\n",
        "runCMD(location,\"DROP TABLE IF EXISTS Emp;\")\n",
        "# -----------------------------\n",
        "runCMD(location,\"CREATE TABLE IF NOT EXISTS Emp (\\\n",
        "  EmpID char(6)  NOT NULL,\\\n",
        "  LastName varchar(50),\\\n",
        "  FirstName varchar(50),\\\n",
        "  JobDesc varchar(50),\\\n",
        "  JoinDate date NOT NULL, \\\n",
        "  Salary int(11) , \\\n",
        "  Comm float , \\\n",
        "  DeptID char(2) \\\n",
        ") ;\")\n",
        "# -----------------------------\n",
        "runCMD(location,\"INSERT INTO Emp (EmpID, LastName, FirstName, JobDesc, JoinDate, Salary, Comm, DeptID) \\\n",
        "    VALUES \\\n",
        "\t('742866', 'Bacchan', 'Amitabh', 'Executive', '2003-03-10', 50000, 0.1, '10'), \\\n",
        "\t('349870', 'Mukherjee', 'Rani', 'Manager', '2005-05-04', 25000, 0.06, '40'), \\\n",
        "\t('865477', 'Dikshit', 'Madhuri', 'Clerk', '2002-04-04', 10000, 0.02, '20'), \\\n",
        "\t('239456', 'Khan', 'Shahrukh', 'Manager', '2004-01-03', 30000, 0.07, '20'), \\\n",
        "\t('897889', 'Sehwag', 'Virender', 'Cus_Rep', '2005-01-02', 15000, 0.05, '20'), \\\n",
        "\t('123980', 'Dhoni', 'Mahender', 'Clerk', '2004-10-09', 9000, 0.02, '40'), \\\n",
        "\t('822134', 'Dravid', 'Rahul', 'Sr Manager', '2000-06-04', 40000, 0.08, '30'), \\\n",
        "\t('997445', 'Dalmia', 'Jagmohan', 'Clerk', '2001-07-01', 12000, 0.02, '30'), \\\n",
        "\t('989007', 'Ganguly', 'Sourav', 'Cus_Rep', '2002-01-01', 20000, 0.03, '40'), \\\n",
        "\t('299034', 'Ganesan', 'Rekha', 'Director', '2002-10-10', 60000, 0.11, '10'), \\\n",
        "\t('546223', 'Karthikeyan', 'Narayan', 'Secretary', '2005-12-04', 40000, 0.09, '10'), \\\n",
        "\t('223112', 'Mirza', 'Sania', 'Cus_Rep', '2001-11-19', 25000, 0.04, '30');\"\n",
        "    )"
      ],
      "metadata": {
        "colab": {
          "base_uri": "https://localhost:8080/"
        },
        "id": "2QA51jPJKGGR",
        "outputId": "7c91014c-3c75-482a-b886-2b2712ce41d4"
      },
      "execution_count": null,
      "outputs": [
        {
          "output_type": "stream",
          "name": "stdout",
          "text": [
            "0\n",
            "0\n",
            "12\n"
          ]
        }
      ]
    },
    {
      "cell_type": "code",
      "source": [
        "# Create and load DEPT table\n",
        "# --------------------------------\n",
        "runCMD(location,\"DROP TABLE IF EXISTS Dept;\")\n",
        "# --------------------------------\n",
        "runCMD(location,\"CREATE TABLE Dept ( \\\n",
        "  DeptID char(2)  NOT NULL, \\\n",
        "  DeptName varchar(50) , \\\n",
        "  ManagerID char(6) , \\\n",
        "  Location varchar(50) \\\n",
        " );\")\n",
        "# --------------------------------\n",
        "runCMD(location,\"INSERT INTO Dept (DeptID, DeptName, ManagerID, Location) VALUES \\\n",
        "\t('10', 'Corporate', '299034', 'Calcutta'), \\\n",
        "\t('20', 'Sales', '239456', 'Calcutta'), \\\n",
        "\t('30', 'Accounts', '822134', 'Calcutta'), \\\n",
        "\t('40', 'Production', '349870', 'Bombay');\")"
      ],
      "metadata": {
        "colab": {
          "base_uri": "https://localhost:8080/"
        },
        "id": "WpIA5EvzDnCZ",
        "outputId": "48e2bea4-d844-438e-a996-793081876612"
      },
      "execution_count": null,
      "outputs": [
        {
          "output_type": "stream",
          "name": "stdout",
          "text": [
            "0\n",
            "0\n",
            "4\n"
          ]
        }
      ]
    },
    {
      "cell_type": "code",
      "source": [
        "# Check the data\n",
        "# -------------------------------\n",
        "runSELECT(location,\"select * from Emp, Dept where Emp.DeptID = Dept.DeptID\")"
      ],
      "metadata": {
        "colab": {
          "base_uri": "https://localhost:8080/",
          "height": 426
        },
        "id": "cGlLnkvnMj3j",
        "outputId": "cc22d336-08cf-4196-df81-264d79326ce4"
      },
      "execution_count": 10,
      "outputs": [
        {
          "output_type": "execute_result",
          "data": {
            "text/plain": [
              "     EmpID     LastName FirstName     JobDesc    JoinDate  Salary  Comm  \\\n",
              "0   742866      Bacchan   Amitabh   Executive  2003-03-10   50000  0.10   \n",
              "1   349870    Mukherjee      Rani     Manager  2005-05-04   25000  0.06   \n",
              "2   865477      Dikshit   Madhuri       Clerk  2002-04-04   10000  0.02   \n",
              "3   239456         Khan  Shahrukh     Manager  2004-01-03   30000  0.07   \n",
              "4   897889       Sehwag  Virender     Cus_Rep  2005-01-02   15000  0.05   \n",
              "5   123980        Dhoni  Mahender       Clerk  2004-10-09    9000  0.02   \n",
              "6   822134       Dravid     Rahul  Sr Manager  2000-06-04   40000  0.08   \n",
              "7   997445       Dalmia  Jagmohan       Clerk  2001-07-01   12000  0.02   \n",
              "8   989007      Ganguly    Sourav     Cus_Rep  2002-01-01   20000  0.03   \n",
              "9   299034      Ganesan     Rekha    Director  2002-10-10   60000  0.11   \n",
              "10  546223  Karthikeyan   Narayan   Secretary  2005-12-04   40000  0.09   \n",
              "11  223112        Mirza     Sania     Cus_Rep  2001-11-19   25000  0.04   \n",
              "\n",
              "   DeptID DeptID    DeptName ManagerID  Location  \n",
              "0      10     10   Corporate    299034  Calcutta  \n",
              "1      40     40  Production    349870    Bombay  \n",
              "2      20     20       Sales    239456  Calcutta  \n",
              "3      20     20       Sales    239456  Calcutta  \n",
              "4      20     20       Sales    239456  Calcutta  \n",
              "5      40     40  Production    349870    Bombay  \n",
              "6      30     30    Accounts    822134  Calcutta  \n",
              "7      30     30    Accounts    822134  Calcutta  \n",
              "8      40     40  Production    349870    Bombay  \n",
              "9      10     10   Corporate    299034  Calcutta  \n",
              "10     10     10   Corporate    299034  Calcutta  \n",
              "11     30     30    Accounts    822134  Calcutta  "
            ],
            "text/html": [
              "\n",
              "  <div id=\"df-6d4db4c4-3df2-404d-9c8f-bd4ca3ff9a6a\">\n",
              "    <div class=\"colab-df-container\">\n",
              "      <div>\n",
              "<style scoped>\n",
              "    .dataframe tbody tr th:only-of-type {\n",
              "        vertical-align: middle;\n",
              "    }\n",
              "\n",
              "    .dataframe tbody tr th {\n",
              "        vertical-align: top;\n",
              "    }\n",
              "\n",
              "    .dataframe thead th {\n",
              "        text-align: right;\n",
              "    }\n",
              "</style>\n",
              "<table border=\"1\" class=\"dataframe\">\n",
              "  <thead>\n",
              "    <tr style=\"text-align: right;\">\n",
              "      <th></th>\n",
              "      <th>EmpID</th>\n",
              "      <th>LastName</th>\n",
              "      <th>FirstName</th>\n",
              "      <th>JobDesc</th>\n",
              "      <th>JoinDate</th>\n",
              "      <th>Salary</th>\n",
              "      <th>Comm</th>\n",
              "      <th>DeptID</th>\n",
              "      <th>DeptID</th>\n",
              "      <th>DeptName</th>\n",
              "      <th>ManagerID</th>\n",
              "      <th>Location</th>\n",
              "    </tr>\n",
              "  </thead>\n",
              "  <tbody>\n",
              "    <tr>\n",
              "      <th>0</th>\n",
              "      <td>742866</td>\n",
              "      <td>Bacchan</td>\n",
              "      <td>Amitabh</td>\n",
              "      <td>Executive</td>\n",
              "      <td>2003-03-10</td>\n",
              "      <td>50000</td>\n",
              "      <td>0.10</td>\n",
              "      <td>10</td>\n",
              "      <td>10</td>\n",
              "      <td>Corporate</td>\n",
              "      <td>299034</td>\n",
              "      <td>Calcutta</td>\n",
              "    </tr>\n",
              "    <tr>\n",
              "      <th>1</th>\n",
              "      <td>349870</td>\n",
              "      <td>Mukherjee</td>\n",
              "      <td>Rani</td>\n",
              "      <td>Manager</td>\n",
              "      <td>2005-05-04</td>\n",
              "      <td>25000</td>\n",
              "      <td>0.06</td>\n",
              "      <td>40</td>\n",
              "      <td>40</td>\n",
              "      <td>Production</td>\n",
              "      <td>349870</td>\n",
              "      <td>Bombay</td>\n",
              "    </tr>\n",
              "    <tr>\n",
              "      <th>2</th>\n",
              "      <td>865477</td>\n",
              "      <td>Dikshit</td>\n",
              "      <td>Madhuri</td>\n",
              "      <td>Clerk</td>\n",
              "      <td>2002-04-04</td>\n",
              "      <td>10000</td>\n",
              "      <td>0.02</td>\n",
              "      <td>20</td>\n",
              "      <td>20</td>\n",
              "      <td>Sales</td>\n",
              "      <td>239456</td>\n",
              "      <td>Calcutta</td>\n",
              "    </tr>\n",
              "    <tr>\n",
              "      <th>3</th>\n",
              "      <td>239456</td>\n",
              "      <td>Khan</td>\n",
              "      <td>Shahrukh</td>\n",
              "      <td>Manager</td>\n",
              "      <td>2004-01-03</td>\n",
              "      <td>30000</td>\n",
              "      <td>0.07</td>\n",
              "      <td>20</td>\n",
              "      <td>20</td>\n",
              "      <td>Sales</td>\n",
              "      <td>239456</td>\n",
              "      <td>Calcutta</td>\n",
              "    </tr>\n",
              "    <tr>\n",
              "      <th>4</th>\n",
              "      <td>897889</td>\n",
              "      <td>Sehwag</td>\n",
              "      <td>Virender</td>\n",
              "      <td>Cus_Rep</td>\n",
              "      <td>2005-01-02</td>\n",
              "      <td>15000</td>\n",
              "      <td>0.05</td>\n",
              "      <td>20</td>\n",
              "      <td>20</td>\n",
              "      <td>Sales</td>\n",
              "      <td>239456</td>\n",
              "      <td>Calcutta</td>\n",
              "    </tr>\n",
              "    <tr>\n",
              "      <th>5</th>\n",
              "      <td>123980</td>\n",
              "      <td>Dhoni</td>\n",
              "      <td>Mahender</td>\n",
              "      <td>Clerk</td>\n",
              "      <td>2004-10-09</td>\n",
              "      <td>9000</td>\n",
              "      <td>0.02</td>\n",
              "      <td>40</td>\n",
              "      <td>40</td>\n",
              "      <td>Production</td>\n",
              "      <td>349870</td>\n",
              "      <td>Bombay</td>\n",
              "    </tr>\n",
              "    <tr>\n",
              "      <th>6</th>\n",
              "      <td>822134</td>\n",
              "      <td>Dravid</td>\n",
              "      <td>Rahul</td>\n",
              "      <td>Sr Manager</td>\n",
              "      <td>2000-06-04</td>\n",
              "      <td>40000</td>\n",
              "      <td>0.08</td>\n",
              "      <td>30</td>\n",
              "      <td>30</td>\n",
              "      <td>Accounts</td>\n",
              "      <td>822134</td>\n",
              "      <td>Calcutta</td>\n",
              "    </tr>\n",
              "    <tr>\n",
              "      <th>7</th>\n",
              "      <td>997445</td>\n",
              "      <td>Dalmia</td>\n",
              "      <td>Jagmohan</td>\n",
              "      <td>Clerk</td>\n",
              "      <td>2001-07-01</td>\n",
              "      <td>12000</td>\n",
              "      <td>0.02</td>\n",
              "      <td>30</td>\n",
              "      <td>30</td>\n",
              "      <td>Accounts</td>\n",
              "      <td>822134</td>\n",
              "      <td>Calcutta</td>\n",
              "    </tr>\n",
              "    <tr>\n",
              "      <th>8</th>\n",
              "      <td>989007</td>\n",
              "      <td>Ganguly</td>\n",
              "      <td>Sourav</td>\n",
              "      <td>Cus_Rep</td>\n",
              "      <td>2002-01-01</td>\n",
              "      <td>20000</td>\n",
              "      <td>0.03</td>\n",
              "      <td>40</td>\n",
              "      <td>40</td>\n",
              "      <td>Production</td>\n",
              "      <td>349870</td>\n",
              "      <td>Bombay</td>\n",
              "    </tr>\n",
              "    <tr>\n",
              "      <th>9</th>\n",
              "      <td>299034</td>\n",
              "      <td>Ganesan</td>\n",
              "      <td>Rekha</td>\n",
              "      <td>Director</td>\n",
              "      <td>2002-10-10</td>\n",
              "      <td>60000</td>\n",
              "      <td>0.11</td>\n",
              "      <td>10</td>\n",
              "      <td>10</td>\n",
              "      <td>Corporate</td>\n",
              "      <td>299034</td>\n",
              "      <td>Calcutta</td>\n",
              "    </tr>\n",
              "    <tr>\n",
              "      <th>10</th>\n",
              "      <td>546223</td>\n",
              "      <td>Karthikeyan</td>\n",
              "      <td>Narayan</td>\n",
              "      <td>Secretary</td>\n",
              "      <td>2005-12-04</td>\n",
              "      <td>40000</td>\n",
              "      <td>0.09</td>\n",
              "      <td>10</td>\n",
              "      <td>10</td>\n",
              "      <td>Corporate</td>\n",
              "      <td>299034</td>\n",
              "      <td>Calcutta</td>\n",
              "    </tr>\n",
              "    <tr>\n",
              "      <th>11</th>\n",
              "      <td>223112</td>\n",
              "      <td>Mirza</td>\n",
              "      <td>Sania</td>\n",
              "      <td>Cus_Rep</td>\n",
              "      <td>2001-11-19</td>\n",
              "      <td>25000</td>\n",
              "      <td>0.04</td>\n",
              "      <td>30</td>\n",
              "      <td>30</td>\n",
              "      <td>Accounts</td>\n",
              "      <td>822134</td>\n",
              "      <td>Calcutta</td>\n",
              "    </tr>\n",
              "  </tbody>\n",
              "</table>\n",
              "</div>\n",
              "      <button class=\"colab-df-convert\" onclick=\"convertToInteractive('df-6d4db4c4-3df2-404d-9c8f-bd4ca3ff9a6a')\"\n",
              "              title=\"Convert this dataframe to an interactive table.\"\n",
              "              style=\"display:none;\">\n",
              "        \n",
              "  <svg xmlns=\"http://www.w3.org/2000/svg\" height=\"24px\"viewBox=\"0 0 24 24\"\n",
              "       width=\"24px\">\n",
              "    <path d=\"M0 0h24v24H0V0z\" fill=\"none\"/>\n",
              "    <path d=\"M18.56 5.44l.94 2.06.94-2.06 2.06-.94-2.06-.94-.94-2.06-.94 2.06-2.06.94zm-11 1L8.5 8.5l.94-2.06 2.06-.94-2.06-.94L8.5 2.5l-.94 2.06-2.06.94zm10 10l.94 2.06.94-2.06 2.06-.94-2.06-.94-.94-2.06-.94 2.06-2.06.94z\"/><path d=\"M17.41 7.96l-1.37-1.37c-.4-.4-.92-.59-1.43-.59-.52 0-1.04.2-1.43.59L10.3 9.45l-7.72 7.72c-.78.78-.78 2.05 0 2.83L4 21.41c.39.39.9.59 1.41.59.51 0 1.02-.2 1.41-.59l7.78-7.78 2.81-2.81c.8-.78.8-2.07 0-2.86zM5.41 20L4 18.59l7.72-7.72 1.47 1.35L5.41 20z\"/>\n",
              "  </svg>\n",
              "      </button>\n",
              "      \n",
              "  <style>\n",
              "    .colab-df-container {\n",
              "      display:flex;\n",
              "      flex-wrap:wrap;\n",
              "      gap: 12px;\n",
              "    }\n",
              "\n",
              "    .colab-df-convert {\n",
              "      background-color: #E8F0FE;\n",
              "      border: none;\n",
              "      border-radius: 50%;\n",
              "      cursor: pointer;\n",
              "      display: none;\n",
              "      fill: #1967D2;\n",
              "      height: 32px;\n",
              "      padding: 0 0 0 0;\n",
              "      width: 32px;\n",
              "    }\n",
              "\n",
              "    .colab-df-convert:hover {\n",
              "      background-color: #E2EBFA;\n",
              "      box-shadow: 0px 1px 2px rgba(60, 64, 67, 0.3), 0px 1px 3px 1px rgba(60, 64, 67, 0.15);\n",
              "      fill: #174EA6;\n",
              "    }\n",
              "\n",
              "    [theme=dark] .colab-df-convert {\n",
              "      background-color: #3B4455;\n",
              "      fill: #D2E3FC;\n",
              "    }\n",
              "\n",
              "    [theme=dark] .colab-df-convert:hover {\n",
              "      background-color: #434B5C;\n",
              "      box-shadow: 0px 1px 3px 1px rgba(0, 0, 0, 0.15);\n",
              "      filter: drop-shadow(0px 1px 2px rgba(0, 0, 0, 0.3));\n",
              "      fill: #FFFFFF;\n",
              "    }\n",
              "  </style>\n",
              "\n",
              "      <script>\n",
              "        const buttonEl =\n",
              "          document.querySelector('#df-6d4db4c4-3df2-404d-9c8f-bd4ca3ff9a6a button.colab-df-convert');\n",
              "        buttonEl.style.display =\n",
              "          google.colab.kernel.accessAllowed ? 'block' : 'none';\n",
              "\n",
              "        async function convertToInteractive(key) {\n",
              "          const element = document.querySelector('#df-6d4db4c4-3df2-404d-9c8f-bd4ca3ff9a6a');\n",
              "          const dataTable =\n",
              "            await google.colab.kernel.invokeFunction('convertToInteractive',\n",
              "                                                     [key], {});\n",
              "          if (!dataTable) return;\n",
              "\n",
              "          const docLinkHtml = 'Like what you see? Visit the ' +\n",
              "            '<a target=\"_blank\" href=https://colab.research.google.com/notebooks/data_table.ipynb>data table notebook</a>'\n",
              "            + ' to learn more about interactive tables.';\n",
              "          element.innerHTML = '';\n",
              "          dataTable['output_type'] = 'display_data';\n",
              "          await google.colab.output.renderOutput(dataTable, element);\n",
              "          const docLink = document.createElement('div');\n",
              "          docLink.innerHTML = docLinkHtml;\n",
              "          element.appendChild(docLink);\n",
              "        }\n",
              "      </script>\n",
              "    </div>\n",
              "  </div>\n",
              "  "
            ]
          },
          "metadata": {},
          "execution_count": 10
        }
      ]
    },
    {
      "cell_type": "code",
      "source": [
        "location = 'funny'\n",
        "runSELECT(location,'select * from Emp')"
      ],
      "metadata": {
        "colab": {
          "base_uri": "https://localhost:8080/",
          "height": 321
        },
        "id": "-zcT3TLcNMGQ",
        "outputId": "c84281f9-ae4c-4bb5-9cbe-c767e66553ba"
      },
      "execution_count": null,
      "outputs": [
        {
          "output_type": "stream",
          "name": "stdout",
          "text": [
            "location must be \"remoteDB or \"localDB\"\n"
          ]
        },
        {
          "output_type": "error",
          "ename": "UnboundLocalError",
          "evalue": "ignored",
          "traceback": [
            "\u001b[0;31m---------------------------------------------------------------------------\u001b[0m",
            "\u001b[0;31mUnboundLocalError\u001b[0m                         Traceback (most recent call last)",
            "\u001b[0;32m<ipython-input-18-e1c961feeecd>\u001b[0m in \u001b[0;36m<module>\u001b[0;34m()\u001b[0m\n\u001b[1;32m      1\u001b[0m \u001b[0mlocation\u001b[0m \u001b[0;34m=\u001b[0m \u001b[0;34m'funny'\u001b[0m\u001b[0;34m\u001b[0m\u001b[0;34m\u001b[0m\u001b[0m\n\u001b[0;32m----> 2\u001b[0;31m \u001b[0mrunSELECT\u001b[0m\u001b[0;34m(\u001b[0m\u001b[0mlocation\u001b[0m\u001b[0;34m,\u001b[0m\u001b[0;34m'select * from Emp'\u001b[0m\u001b[0;34m)\u001b[0m\u001b[0;34m\u001b[0m\u001b[0;34m\u001b[0m\u001b[0m\n\u001b[0m",
            "\u001b[0;32m<ipython-input-5-beae25d5d791>\u001b[0m in \u001b[0;36mrunSELECT\u001b[0;34m(loc, CMD)\u001b[0m\n\u001b[1;32m     23\u001b[0m         \u001b[0mprint\u001b[0m\u001b[0;34m(\u001b[0m\u001b[0;34m'location must be \"remoteDB or \"localDB\"'\u001b[0m\u001b[0;34m)\u001b[0m\u001b[0;34m\u001b[0m\u001b[0;34m\u001b[0m\u001b[0m\n\u001b[1;32m     24\u001b[0m \u001b[0;34m\u001b[0m\u001b[0m\n\u001b[0;32m---> 25\u001b[0;31m     \u001b[0mdf_mysql\u001b[0m \u001b[0;34m=\u001b[0m \u001b[0mpd\u001b[0m\u001b[0;34m.\u001b[0m\u001b[0mread_sql\u001b[0m\u001b[0;34m(\u001b[0m\u001b[0mCMD\u001b[0m\u001b[0;34m,\u001b[0m \u001b[0mcon\u001b[0m\u001b[0;34m=\u001b[0m\u001b[0mDBConn\u001b[0m\u001b[0;34m)\u001b[0m\u001b[0;34m\u001b[0m\u001b[0;34m\u001b[0m\u001b[0m\n\u001b[0m\u001b[1;32m     26\u001b[0m     \u001b[0mDBConn\u001b[0m\u001b[0;34m.\u001b[0m\u001b[0mclose\u001b[0m\u001b[0;34m(\u001b[0m\u001b[0;34m)\u001b[0m\u001b[0;34m\u001b[0m\u001b[0;34m\u001b[0m\u001b[0m\n\u001b[1;32m     27\u001b[0m     \u001b[0;32mreturn\u001b[0m \u001b[0mdf_mysql\u001b[0m\u001b[0;34m\u001b[0m\u001b[0;34m\u001b[0m\u001b[0m\n",
            "\u001b[0;31mUnboundLocalError\u001b[0m: local variable 'DBConn' referenced before assignment"
          ]
        }
      ]
    },
    {
      "cell_type": "markdown",
      "metadata": {
        "id": "4phrtjaE_tyS"
      },
      "source": [
        "#Chronobooks <br>\n",
        "![alt text](https://1.bp.blogspot.com/-lTiYBkU2qbU/X1er__fvnkI/AAAAAAAAjtE/GhDR3OEGJr4NG43fZPodrQD5kbxtnKebgCLcBGAsYHQ/s600/Footer2020-600x200.png)<hr>\n",
        "Chronotantra and Chronoyantra are two science fiction novels that explore the collapse of human civilisation on Earth and then its rebirth and reincarnation both on Earth as well as on the distant worlds of Mars, Titan and Enceladus. But is it the human civilisation that is being reborn? Or is it some other sentience that is revealing itself. \n",
        "If you have an interest in AI and found this material useful, you may consider buying these novels, in paperback or kindle, from [http://bit.ly/chronobooks](http://bit.ly/chronobooks)"
      ]
    }
  ]
}