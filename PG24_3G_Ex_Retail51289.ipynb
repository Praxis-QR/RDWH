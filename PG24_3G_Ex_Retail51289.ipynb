{
  "nbformat": 4,
  "nbformat_minor": 0,
  "metadata": {
    "colab": {
      "provenance": [],
      "include_colab_link": true
    },
    "kernelspec": {
      "name": "python3",
      "display_name": "Python 3"
    },
    "language_info": {
      "name": "python"
    }
  },
  "cells": [
    {
      "cell_type": "markdown",
      "metadata": {
        "id": "view-in-github",
        "colab_type": "text"
      },
      "source": [
        "<a href=\"https://colab.research.google.com/github/Praxis-QR/RDWH/blob/main/PG24_3G_Ex_Retail51289.ipynb\" target=\"_parent\"><img src=\"https://colab.research.google.com/assets/colab-badge.svg\" alt=\"Open In Colab\"/></a>"
      ]
    },
    {
      "cell_type": "markdown",
      "source": [
        "![Yantrajaal Banner](https://github.com/Praxis-QR/RDWH/raw/main/images/YantraJaalBanner.png)<br>\n",
        "\n",
        "\n",
        "<hr>\n",
        "\n",
        "[Prithwis Mukerjee](http://www.linkedin.com/in/prithwis)<br>"
      ],
      "metadata": {
        "id": "DBzz-qaN2tKu"
      }
    },
    {
      "cell_type": "markdown",
      "source": [
        "#Postgres Exercises <br>\n",
        "Using the same data used in Retail Sales Data Analysis exercise given in python textbook [Structured Thinking with Python](https://store.pothi.com/book/prithwis-mukerjee-structured-thinking-python/)\n"
      ],
      "metadata": {
        "id": "QIfgaOrxZ39z"
      }
    },
    {
      "cell_type": "code",
      "source": [
        "from datetime import datetime\n",
        "import pytz\n",
        "print('ॐ श्री सरस्वत्यै नमः',datetime.now(pytz.timezone('Asia/Calcutta')))\n",
        "!python --version\n",
        "!lsb_release -a"
      ],
      "metadata": {
        "id": "txwvst5Hs5mI",
        "outputId": "8198b160-89e9-4ce1-b668-3ae55625f648",
        "colab": {
          "base_uri": "https://localhost:8080/"
        }
      },
      "execution_count": 1,
      "outputs": [
        {
          "output_type": "stream",
          "name": "stdout",
          "text": [
            "ॐ श्री सरस्वत्यै नमः 2025-08-22 07:04:50.854432+05:30\n",
            "Python 3.12.11\n",
            "No LSB modules are available.\n",
            "Distributor ID:\tUbuntu\n",
            "Description:\tUbuntu 22.04.4 LTS\n",
            "Release:\t22.04\n",
            "Codename:\tjammy\n"
          ]
        }
      ]
    },
    {
      "cell_type": "markdown",
      "source": [
        "#Install & Configure Postgres"
      ],
      "metadata": {
        "id": "nD-QawLT6kDr"
      }
    },
    {
      "cell_type": "markdown",
      "source": [
        "For Connecting to a Postgres server on Amazon RDS, see [this notebook](https://github.com/Praxis-QR/RDWH/blob/main/PostgreSQL_01_Install_Config.ipynb)"
      ],
      "metadata": {
        "id": "9w29_O07rTPE"
      }
    },
    {
      "cell_type": "code",
      "source": [
        "# Install postgresql server\n",
        "\n",
        "!apt update > /dev/null\n",
        "!apt install postgresql > /dev/null\n",
        "#!sudo -u postgres psql -V\n",
        "!psql -V\n",
        "!service postgresql start"
      ],
      "metadata": {
        "colab": {
          "base_uri": "https://localhost:8080/"
        },
        "id": "o_RaqE0OOHP3",
        "outputId": "8b885c56-9510-4ecd-c753-179bfe3a3fa4"
      },
      "execution_count": 2,
      "outputs": [
        {
          "output_type": "stream",
          "name": "stdout",
          "text": [
            "\n",
            "WARNING: apt does not have a stable CLI interface. Use with caution in scripts.\n",
            "\n",
            "W: Skipping acquire of configured file 'main/source/Sources' as repository 'https://r2u.stat.illinois.edu/ubuntu jammy InRelease' does not seem to provide it (sources.list entry misspelt?)\n",
            "\n",
            "WARNING: apt does not have a stable CLI interface. Use with caution in scripts.\n",
            "\n",
            "psql (PostgreSQL) 14.18 (Ubuntu 14.18-0ubuntu0.22.04.1)\n",
            " * Starting PostgreSQL 14 database server\n",
            "   ...done.\n"
          ]
        }
      ]
    },
    {
      "cell_type": "markdown",
      "source": [
        "#Create Schema, Tables and Insert Data"
      ],
      "metadata": {
        "id": "JP7hBhEaYzW8"
      }
    },
    {
      "cell_type": "code",
      "source": [
        "# This has created an Ubuntu user 'postgres' AND a Postgres database user 'postgres' both of which are superusers\n",
        "#!cat /etc/passwd\n",
        "# Use these users to create a new database user called 'upraxis' and give it a password 'upass'\n",
        "#!sudo -u postgres createuser --superuser upraxis\n",
        "!sudo -u postgres createuser upraxis\n",
        "!sudo -u postgres psql -U postgres -c \"ALTER USER upraxis PASSWORD 'upass';\"\n",
        "# Change the database superuser 'postgres' to a non-default value 'pass'\n",
        "!sudo -u postgres psql -U postgres -c \"ALTER USER postgres PASSWORD 'pass';\"\n",
        "# Use ubuntu superuser to create database dbpraxis and set its owner to upraxis\n",
        "!sudo -u postgres createdb -O upraxis dbpraxis\n",
        "# Create file to store the password. Else will be prompted each time\n",
        "!echo \"localhost:5432:dbpraxis:upraxis:upass\" > ~/.pgpass\n",
        "!echo \"localhost:5432:dbpraxis:postgres:pass\" >> ~/.pgpass\n",
        "!chmod 0600 ~/.pgpass\n",
        "!cat ~/.pgpass"
      ],
      "metadata": {
        "colab": {
          "base_uri": "https://localhost:8080/"
        },
        "id": "NWkT4jeeQXw2",
        "outputId": "80669f62-49c2-41aa-e216-b39faf419cf5"
      },
      "execution_count": 3,
      "outputs": [
        {
          "output_type": "stream",
          "name": "stdout",
          "text": [
            "ALTER ROLE\n",
            "ALTER ROLE\n",
            "localhost:5432:dbpraxis:upraxis:upass\n",
            "localhost:5432:dbpraxis:postgres:pass\n"
          ]
        }
      ]
    },
    {
      "cell_type": "code",
      "source": [
        "# Get Retail Sales Data\n",
        "!wget -q https://github.com/Praxis-QR/RDWH/raw/refs/heads/main/data/RetailSales51289.zip\n",
        "!unzip RetailSales51289.zip\n",
        "#!head RetailSales51289.csv"
      ],
      "metadata": {
        "colab": {
          "base_uri": "https://localhost:8080/"
        },
        "id": "keTRZyDoOI3G",
        "outputId": "64ea0225-50d5-40f4-ff08-9dc8f0a2296f"
      },
      "execution_count": 4,
      "outputs": [
        {
          "output_type": "stream",
          "name": "stdout",
          "text": [
            "Archive:  RetailSales51289.zip\n",
            "  inflating: RetailSales51289.csv    \n",
            "order_date,ship_date,ship_mode,segment,state,country,market,region,product_id,category,sub_category,product_name,sales,quantity,discount,profit,shipping_cost,order_priority,year\n",
            "2011-01-01,2011-01-06,Standard Class,Consumer,Constantine,Algeria,Africa,Africa,OFF-TEN-10000025,Office Supplies,Storage,\"Tenex Lockers, Blue\",408,2,0.0,106.14,35.46,Medium,2011\n",
            "2011-01-01,2011-01-08,Standard Class,Consumer,New South Wales,Australia,APAC,Oceania,OFF-SU-10000618,Office Supplies,Supplies,\"Acme Trimmer, High Speed\",120,3,0.1,36.036,9.72,Medium,2011\n",
            "2011-01-01,2011-01-05,Second Class,Consumer,Budapest,Hungary,EMEA,EMEA,OFF-TEN-10001585,Office Supplies,Storage,\"Tenex Box, Single Width\",66,4,0.0,29.64,8.17,High,2011\n",
            "2011-01-01,2011-01-05,Second Class,Home Office,Stockholm,Sweden,EU,North,OFF-PA-10001492,Office Supplies,Paper,\"Enermax Note Cards, Premium\",45,3,0.5,-26.055,4.82,High,2011\n",
            "2011-01-01,2011-01-08,Standard Class,Consumer,New South Wales,Australia,APAC,Oceania,FUR-FU-10003447,Furniture,Furnishings,\"Eldon Light Bulb, Duo Pack\",114,5,0.1,37.77,4.7,Medium,2011\n",
            "2011-01-01,2011-01-08,Standard Class,Consumer,New South Wales,Australia,APAC,Oceania,OFF-PA-10001968,Office Supplies,Paper,\"Eaton Computer Printout Paper, 8.5 x 11\",55,2,0.1,15.342,1.8,Medium,2011\n",
            "2011-01-02,2011-01-06,Standard Class,Consumer,Ontario,Canada,Canada,Canada,TEC-OKI-10002750,Technology,Machines,\"Okidata Inkjet, Wireless\",314,1,0.0,3.12,24.1,Medium,2011\n",
            "2011-01-03,2011-01-03,Same Day,Corporate,New South Wales,Australia,APAC,Oceania,OFF-AP-10000304,Office Supplies,Appliances,\"Hoover Microwave, White\",276,1,0.1,110.412,125.32,Critical,2011\n",
            "2011-01-03,2011-01-09,Standard Class,Consumer,Auckland,New Zealand,APAC,Oceania,TEC-CO-10004182,Technology,Copiers,\"Hewlett Wireless Fax, Laser\",912,4,0.4,-319.464,107.1,Low,2011\n"
          ]
        }
      ]
    },
    {
      "cell_type": "code",
      "source": [
        "!psql -h localhost -p 5432 -Uupraxis -d dbpraxis -c 'drop table if exists SalesData'\n",
        "!psql -h localhost -p 5432 -Uupraxis -d dbpraxis -c '\\\n",
        "CREATE TABLE SalesData ( \\\n",
        "    order_date      DATE, \\\n",
        "    ship_date       DATE, \\\n",
        "    ship_mode       VARCHAR(50), \\\n",
        "    segment         VARCHAR(50), \\\n",
        "    state           VARCHAR(100), \\\n",
        "    country         VARCHAR(100), \\\n",
        "    market          VARCHAR(50), \\\n",
        "    region          VARCHAR(50), \\\n",
        "    product_id      VARCHAR(50), \\\n",
        "    category        VARCHAR(50), \\\n",
        "    sub_category    VARCHAR(50), \\\n",
        "    product_name    TEXT, \\\n",
        "    sales           NUMERIC(12,2), \\\n",
        "    quantity        INT, \\\n",
        "    discount        NUMERIC(5,2), \\\n",
        "    profit          NUMERIC(12,2), \\\n",
        "    shipping_cost   NUMERIC(12,2), \\\n",
        "    order_priority  VARCHAR(20), \\\n",
        "    year            INT \\\n",
        "); \\\n",
        "'\n",
        "!psql -h localhost -p 5432 -Uupraxis -d dbpraxis -c '\\dt public.*'\n",
        "# --------------------------------------------------------------"
      ],
      "metadata": {
        "colab": {
          "base_uri": "https://localhost:8080/"
        },
        "id": "v-nYOx-1DNJG",
        "outputId": "ddb943e8-d813-4f39-e70a-7f99054f5e9e"
      },
      "execution_count": 7,
      "outputs": [
        {
          "output_type": "stream",
          "name": "stdout",
          "text": [
            "NOTICE:  table \"salesdata\" does not exist, skipping\n",
            "DROP TABLE\n",
            "CREATE TABLE\n",
            "                           List of relations\n",
            "       Schema       |          Name           |    Type     |  Owner   \n",
            "--------------------+-------------------------+-------------+----------\n",
            " information_schema | sql_features            | table       | postgres\n",
            " information_schema | sql_implementation_info | table       | postgres\n",
            " information_schema | sql_parts               | table       | postgres\n",
            " information_schema | sql_sizing              | table       | postgres\n",
            " pg_catalog         | pg_aggregate            | table       | postgres\n",
            " pg_catalog         | pg_am                   | table       | postgres\n",
            " pg_catalog         | pg_amop                 | table       | postgres\n",
            " pg_catalog         | pg_amproc               | table       | postgres\n",
            " pg_catalog         | pg_attrdef              | table       | postgres\n",
            " pg_catalog         | pg_attribute            | table       | postgres\n",
            " pg_catalog         | pg_auth_members         | table       | postgres\n",
            " pg_catalog         | pg_authid               | table       | postgres\n",
            " pg_catalog         | pg_cast                 | table       | postgres\n",
            " pg_catalog         | pg_class                | table       | postgres\n",
            " pg_catalog         | pg_collation            | table       | postgres\n",
            " pg_catalog         | pg_constraint           | table       | postgres\n",
            " pg_catalog         | pg_conversion           | table       | postgres\n",
            " pg_catalog         | pg_database             | table       | postgres\n",
            " pg_catalog         | pg_db_role_setting      | table       | postgres\n",
            " pg_catalog         | pg_default_acl          | table       | postgres\n",
            " pg_catalog         | pg_depend               | table       | postgres\n",
            " pg_catalog         | pg_description          | table       | postgres\n",
            " pg_catalog         | pg_enum                 | table       | postgres\n",
            " pg_catalog         | pg_event_trigger        | table       | postgres\n",
            " pg_catalog         | pg_extension            | table       | postgres\n",
            " pg_catalog         | pg_foreign_data_wrapper | table       | postgres\n",
            " pg_catalog         | pg_foreign_server       | table       | postgres\n",
            " pg_catalog         | pg_foreign_table        | table       | postgres\n",
            " pg_catalog         | pg_index                | table       | postgres\n",
            " pg_catalog         | pg_inherits             | table       | postgres\n",
            " pg_catalog         | pg_init_privs           | table       | postgres\n",
            " pg_catalog         | pg_language             | table       | postgres\n",
            " pg_catalog         | pg_largeobject          | table       | postgres\n",
            " pg_catalog         | pg_largeobject_metadata | table       | postgres\n",
            " pg_catalog         | pg_namespace            | table       | postgres\n",
            " pg_catalog         | pg_opclass              | table       | postgres\n",
            " pg_catalog         | pg_operator             | table       | postgres\n",
            " pg_catalog         | pg_opfamily             | table       | postgres\n",
            " pg_catalog         | pg_partitioned_table    | table       | postgres\n",
            " pg_catalog         | pg_policy               | table       | postgres\n",
            " pg_catalog         | pg_proc                 | table       | postgres\n",
            " pg_catalog         | pg_publication          | table       | postgres\n",
            " pg_catalog         | pg_publication_rel      | table       | postgres\n",
            " pg_catalog         | pg_range                | table       | postgres\n",
            " pg_catalog         | pg_replication_origin   | table       | postgres\n",
            " pg_catalog         | pg_rewrite              | table       | postgres\n",
            " pg_catalog         | pg_seclabel             | table       | postgres\n",
            " pg_catalog         | pg_sequence             | table       | postgres\n",
            " pg_catalog         | pg_shdepend             | table       | postgres\n",
            " pg_catalog         | pg_shdescription        | table       | postgres\n",
            " pg_catalog         | pg_shseclabel           | table       | postgres\n",
            " pg_catalog         | pg_statistic            | table       | postgres\n",
            " pg_catalog         | pg_statistic_ext        | table       | postgres\n",
            " pg_catalog         | pg_statistic_ext_data   | table       | postgres\n",
            " pg_catalog         | pg_subscription         | table       | postgres\n",
            " pg_catalog         | pg_subscription_rel     | table       | postgres\n",
            " pg_catalog         | pg_tablespace           | table       | postgres\n",
            " pg_catalog         | pg_transform            | table       | postgres\n",
            " pg_catalog         | pg_trigger              | table       | postgres\n",
            " pg_catalog         | pg_ts_config            | table       | postgres\n",
            " pg_catalog         | pg_ts_config_map        | table       | postgres\n",
            " pg_catalog         | pg_ts_dict              | table       | postgres\n",
            " pg_catalog         | pg_ts_parser            | table       | postgres\n",
            " pg_catalog         | pg_ts_template          | table       | postgres\n",
            " pg_catalog         | pg_type                 | table       | postgres\n",
            " pg_catalog         | pg_user_mapping         | table       | postgres\n",
            " pg_toast           | pg_toast_1213           | TOAST table | postgres\n",
            " pg_toast           | pg_toast_1247           | TOAST table | postgres\n",
            " pg_toast           | pg_toast_1255           | TOAST table | postgres\n",
            " pg_toast           | pg_toast_1260           | TOAST table | postgres\n",
            " pg_toast           | pg_toast_1262           | TOAST table | postgres\n",
            " pg_toast           | pg_toast_13579          | TOAST table | postgres\n",
            " pg_toast           | pg_toast_13584          | TOAST table | postgres\n",
            " pg_toast           | pg_toast_13589          | TOAST table | postgres\n",
            " pg_toast           | pg_toast_13594          | TOAST table | postgres\n",
            " pg_toast           | pg_toast_1417           | TOAST table | postgres\n",
            " pg_toast           | pg_toast_1418           | TOAST table | postgres\n",
            " pg_toast           | pg_toast_16386          | TOAST table | upraxis\n",
            " pg_toast           | pg_toast_16391          | TOAST table | upraxis\n",
            " pg_toast           | pg_toast_2328           | TOAST table | postgres\n",
            " pg_toast           | pg_toast_2396           | TOAST table | postgres\n",
            " pg_toast           | pg_toast_2600           | TOAST table | postgres\n",
            " pg_toast           | pg_toast_2604           | TOAST table | postgres\n",
            " pg_toast           | pg_toast_2606           | TOAST table | postgres\n",
            " pg_toast           | pg_toast_2609           | TOAST table | postgres\n",
            " pg_toast           | pg_toast_2612           | TOAST table | postgres\n",
            " pg_toast           | pg_toast_2615           | TOAST table | postgres\n",
            " pg_toast           | pg_toast_2618           | TOAST table | postgres\n",
            " pg_toast           | pg_toast_2619           | TOAST table | postgres\n",
            " pg_toast           | pg_toast_2620           | TOAST table | postgres\n",
            " pg_toast           | pg_toast_2964           | TOAST table | postgres\n",
            " pg_toast           | pg_toast_3079           | TOAST table | postgres\n",
            " pg_toast           | pg_toast_3118           | TOAST table | postgres\n",
            " pg_toast           | pg_toast_3256           | TOAST table | postgres\n",
            " pg_toast           | pg_toast_3350           | TOAST table | postgres\n",
            " pg_toast           | pg_toast_3381           | TOAST table | postgres\n",
            " pg_toast           | pg_toast_3394           | TOAST table | postgres\n",
            " pg_toast           | pg_toast_3429           | TOAST table | postgres\n",
            " pg_toast           | pg_toast_3456           | TOAST table | postgres\n",
            " pg_toast           | pg_toast_3466           | TOAST table | postgres\n",
            " pg_toast           | pg_toast_3592           | TOAST table | postgres\n",
            " pg_toast           | pg_toast_3596           | TOAST table | postgres\n",
            " pg_toast           | pg_toast_3600           | TOAST table | postgres\n",
            " pg_toast           | pg_toast_6000           | TOAST table | postgres\n",
            " pg_toast           | pg_toast_6100           | TOAST table | postgres\n",
            " pg_toast           | pg_toast_826            | TOAST table | postgres\n",
            " public             | retail_sales            | table       | upraxis\n",
            " public             | salesdata               | table       | upraxis\n",
            "(108 rows)\n",
            "\n"
          ]
        }
      ]
    },
    {
      "cell_type": "code",
      "source": [
        "# One way to handle UTF8 error\n",
        "#\n",
        "#!iconv -c -t utf8 eCommerce.csv > eCommerce.utf8.csv\n",
        "#!psql -h localhost -p 5432 -Upostgres -ddbpraxis -c \"COPY ec.ecommerce FROM '/content/eCommerce.utf8.csv' DELIMITER ',' CSV HEADER;\""
      ],
      "metadata": {
        "id": "zzTGDTd4HXvX"
      },
      "execution_count": null,
      "outputs": []
    },
    {
      "cell_type": "code",
      "source": [
        "# Only superuser ('postgres') can use copy command, not even database owner ('upraxis')\n",
        "# 'postgres' password has to be entered manually, password = 'pass'\n",
        "#\n",
        "!psql -h localhost -p 5432 -Upostgres -ddbpraxis -c \"COPY salesdata FROM '/content/RetailSales51289.csv' DELIMITER ',' CSV HEADER ;\"\n"
      ],
      "metadata": {
        "colab": {
          "base_uri": "https://localhost:8080/"
        },
        "id": "KHwy6MLZ2t1t",
        "outputId": "7ec9a956-c7c0-4fe5-c581-d65e1cdb3c6e"
      },
      "execution_count": 8,
      "outputs": [
        {
          "output_type": "stream",
          "name": "stdout",
          "text": [
            "COPY 51290\n"
          ]
        }
      ]
    },
    {
      "cell_type": "code",
      "source": [
        "#!cat ItemsOrdered.csv\n",
        "!psql -h localhost -p 5432 -Uupraxis -d dbpraxis -c 'select * from SalesData limit 5'"
      ],
      "metadata": {
        "colab": {
          "base_uri": "https://localhost:8080/"
        },
        "id": "DpFMdlEz3aV-",
        "outputId": "8bd9a670-152f-4e47-cba1-024137d2afb3"
      },
      "execution_count": 9,
      "outputs": [
        {
          "output_type": "stream",
          "name": "stdout",
          "text": [
            " order_date | ship_date  |   ship_mode    |   segment   |      state      |  country  | market | region  |    product_id    |    category     | sub_category |        product_name         | sales  | quantity | discount | profit | shipping_cost | order_priority | year \n",
            "------------+------------+----------------+-------------+-----------------+-----------+--------+---------+------------------+-----------------+--------------+-----------------------------+--------+----------+----------+--------+---------------+----------------+------\n",
            " 2011-01-01 | 2011-01-06 | Standard Class | Consumer    | Constantine     | Algeria   | Africa | Africa  | OFF-TEN-10000025 | Office Supplies | Storage      | Tenex Lockers, Blue         | 408.00 |        2 |     0.00 | 106.14 |         35.46 | Medium         | 2011\n",
            " 2011-01-01 | 2011-01-08 | Standard Class | Consumer    | New South Wales | Australia | APAC   | Oceania | OFF-SU-10000618  | Office Supplies | Supplies     | Acme Trimmer, High Speed    | 120.00 |        3 |     0.10 |  36.04 |          9.72 | Medium         | 2011\n",
            " 2011-01-01 | 2011-01-05 | Second Class   | Consumer    | Budapest        | Hungary   | EMEA   | EMEA    | OFF-TEN-10001585 | Office Supplies | Storage      | Tenex Box, Single Width     |  66.00 |        4 |     0.00 |  29.64 |          8.17 | High           | 2011\n",
            " 2011-01-01 | 2011-01-05 | Second Class   | Home Office | Stockholm       | Sweden    | EU     | North   | OFF-PA-10001492  | Office Supplies | Paper        | Enermax Note Cards, Premium |  45.00 |        3 |     0.50 | -26.06 |          4.82 | High           | 2011\n",
            " 2011-01-01 | 2011-01-08 | Standard Class | Consumer    | New South Wales | Australia | APAC   | Oceania | FUR-FU-10003447  | Furniture       | Furnishings  | Eldon Light Bulb, Duo Pack  | 114.00 |        5 |     0.10 |  37.77 |          4.70 | Medium         | 2011\n",
            "(5 rows)\n",
            "\n"
          ]
        }
      ]
    },
    {
      "cell_type": "markdown",
      "source": [
        "## Python Access\n",
        "https://www.tutorialspoint.com/python_data_access/python_postgresql_database_connection.htm"
      ],
      "metadata": {
        "id": "faZEj8_7CeZ8"
      }
    },
    {
      "cell_type": "code",
      "source": [
        "#!pip install psycopg2\n",
        "import psycopg2\n",
        "import pandas as pd"
      ],
      "metadata": {
        "id": "719jvpeIjLZX"
      },
      "execution_count": 11,
      "outputs": []
    },
    {
      "cell_type": "code",
      "source": [
        "# Local Colab server\n",
        "\n",
        "conn = psycopg2.connect(database=\"dbpraxis\", user='upraxis', password='upass', host='127.0.0.1', port= '5432')\n",
        "#Creating a cursor object using the cursor() method\n",
        "cursor = conn.cursor()\n",
        "#Executing an MYSQL function using the execute() method\n",
        "cursor.execute(\"select version()\")\n",
        "# Fetch a single row using fetchone() method.\n",
        "data = cursor.fetchone()\n",
        "print(\"Connection established to: \",data)\n",
        "#Closing the connection\n",
        "conn.close()"
      ],
      "metadata": {
        "id": "wcE-8UBnC4zV",
        "outputId": "1b60404e-d749-4b74-ec46-1e725b48ea5f",
        "colab": {
          "base_uri": "https://localhost:8080/"
        }
      },
      "execution_count": 12,
      "outputs": [
        {
          "output_type": "stream",
          "name": "stdout",
          "text": [
            "Connection established to:  ('PostgreSQL 14.18 (Ubuntu 14.18-0ubuntu0.22.04.1) on x86_64-pc-linux-gnu, compiled by gcc (Ubuntu 11.4.0-1ubuntu1~22.04) 11.4.0, 64-bit',)\n"
          ]
        }
      ]
    },
    {
      "cell_type": "code",
      "source": [
        "# function to execute SQL select statements with Postgres\n",
        "#\n",
        "def runSelect(s):\n",
        "    #Set up connection\n",
        "\n",
        "    conn = psycopg2.connect(database=\"dbpraxis\", user='upraxis', password='upass', host='127.0.0.1', port= '5432')\n",
        "    #Setting auto commit true\n",
        "    conn.autocommit = True\n",
        "    #Creating a cursor object using the cursor() method\n",
        "    cursor = conn.cursor()\n",
        "    #Retrieving data\n",
        "    cursor.execute(s)\n",
        "    #Fetching all rows from the table\n",
        "    result = cursor.fetchall();\n",
        "    #print(len(result))\n",
        "    if (len(result)) > 0:                                       # result contains at least one row\n",
        "        colnames = [desc[0] for desc in cursor.description]     # get column names\n",
        "        #print(colnames)\n",
        "        resultdf = pd.DataFrame(result)                         # convert list to dataframe\n",
        "        resultdf.columns = colnames                             # add column names\n",
        "        #return resultdf\n",
        "        return resultdf.style.hide()                            # hide the index\n",
        "    else:\n",
        "        print('no records found')\n",
        "        return\n",
        "# function to execute SQL non-select statements with Postgres\n",
        "#\n",
        "def runCmd(s):\n",
        "    #Create Connection\n",
        "    conn = psycopg2.connect(database=\"exercises\", user='postgres', password='pass', host='127.0.0.1', port= '5432')\n",
        "    #Creating a cursor object using the cursor() method\n",
        "    cursor = conn.cursor()\n",
        "    try:\n",
        "        cursor.execute(s)\n",
        "        print('Command executed')\n",
        "        conn.commit()\n",
        "    except:\n",
        "        print('Command failed')\n",
        "    #Closing the connection\n",
        "    conn.close()"
      ],
      "metadata": {
        "id": "ht2k7-3iggNd"
      },
      "execution_count": 13,
      "outputs": []
    },
    {
      "cell_type": "markdown",
      "source": [
        "##Check Data"
      ],
      "metadata": {
        "id": "RvTKboYtbSjZ"
      }
    },
    {
      "cell_type": "code",
      "source": [
        "runSelect(\"select * from SalesData limit 10\")"
      ],
      "metadata": {
        "colab": {
          "base_uri": "https://localhost:8080/",
          "height": 713
        },
        "id": "ctq0ULCvVTsO",
        "outputId": "235e3d7b-29ed-486c-97d6-793089b52d89"
      },
      "execution_count": 15,
      "outputs": [
        {
          "output_type": "execute_result",
          "data": {
            "text/plain": [
              "<pandas.io.formats.style.Styler at 0x7a25f59b4980>"
            ],
            "text/html": [
              "<style type=\"text/css\">\n",
              "</style>\n",
              "<table id=\"T_641a3\" class=\"dataframe\">\n",
              "  <thead>\n",
              "    <tr>\n",
              "      <th id=\"T_641a3_level0_col0\" class=\"col_heading level0 col0\" >order_date</th>\n",
              "      <th id=\"T_641a3_level0_col1\" class=\"col_heading level0 col1\" >ship_date</th>\n",
              "      <th id=\"T_641a3_level0_col2\" class=\"col_heading level0 col2\" >ship_mode</th>\n",
              "      <th id=\"T_641a3_level0_col3\" class=\"col_heading level0 col3\" >segment</th>\n",
              "      <th id=\"T_641a3_level0_col4\" class=\"col_heading level0 col4\" >state</th>\n",
              "      <th id=\"T_641a3_level0_col5\" class=\"col_heading level0 col5\" >country</th>\n",
              "      <th id=\"T_641a3_level0_col6\" class=\"col_heading level0 col6\" >market</th>\n",
              "      <th id=\"T_641a3_level0_col7\" class=\"col_heading level0 col7\" >region</th>\n",
              "      <th id=\"T_641a3_level0_col8\" class=\"col_heading level0 col8\" >product_id</th>\n",
              "      <th id=\"T_641a3_level0_col9\" class=\"col_heading level0 col9\" >category</th>\n",
              "      <th id=\"T_641a3_level0_col10\" class=\"col_heading level0 col10\" >sub_category</th>\n",
              "      <th id=\"T_641a3_level0_col11\" class=\"col_heading level0 col11\" >product_name</th>\n",
              "      <th id=\"T_641a3_level0_col12\" class=\"col_heading level0 col12\" >sales</th>\n",
              "      <th id=\"T_641a3_level0_col13\" class=\"col_heading level0 col13\" >quantity</th>\n",
              "      <th id=\"T_641a3_level0_col14\" class=\"col_heading level0 col14\" >discount</th>\n",
              "      <th id=\"T_641a3_level0_col15\" class=\"col_heading level0 col15\" >profit</th>\n",
              "      <th id=\"T_641a3_level0_col16\" class=\"col_heading level0 col16\" >shipping_cost</th>\n",
              "      <th id=\"T_641a3_level0_col17\" class=\"col_heading level0 col17\" >order_priority</th>\n",
              "      <th id=\"T_641a3_level0_col18\" class=\"col_heading level0 col18\" >year</th>\n",
              "    </tr>\n",
              "  </thead>\n",
              "  <tbody>\n",
              "    <tr>\n",
              "      <td id=\"T_641a3_row0_col0\" class=\"data row0 col0\" >2011-01-01</td>\n",
              "      <td id=\"T_641a3_row0_col1\" class=\"data row0 col1\" >2011-01-06</td>\n",
              "      <td id=\"T_641a3_row0_col2\" class=\"data row0 col2\" >Standard Class</td>\n",
              "      <td id=\"T_641a3_row0_col3\" class=\"data row0 col3\" >Consumer</td>\n",
              "      <td id=\"T_641a3_row0_col4\" class=\"data row0 col4\" >Constantine</td>\n",
              "      <td id=\"T_641a3_row0_col5\" class=\"data row0 col5\" >Algeria</td>\n",
              "      <td id=\"T_641a3_row0_col6\" class=\"data row0 col6\" >Africa</td>\n",
              "      <td id=\"T_641a3_row0_col7\" class=\"data row0 col7\" >Africa</td>\n",
              "      <td id=\"T_641a3_row0_col8\" class=\"data row0 col8\" >OFF-TEN-10000025</td>\n",
              "      <td id=\"T_641a3_row0_col9\" class=\"data row0 col9\" >Office Supplies</td>\n",
              "      <td id=\"T_641a3_row0_col10\" class=\"data row0 col10\" >Storage</td>\n",
              "      <td id=\"T_641a3_row0_col11\" class=\"data row0 col11\" >Tenex Lockers, Blue</td>\n",
              "      <td id=\"T_641a3_row0_col12\" class=\"data row0 col12\" >408.00</td>\n",
              "      <td id=\"T_641a3_row0_col13\" class=\"data row0 col13\" >2</td>\n",
              "      <td id=\"T_641a3_row0_col14\" class=\"data row0 col14\" >0.00</td>\n",
              "      <td id=\"T_641a3_row0_col15\" class=\"data row0 col15\" >106.14</td>\n",
              "      <td id=\"T_641a3_row0_col16\" class=\"data row0 col16\" >35.46</td>\n",
              "      <td id=\"T_641a3_row0_col17\" class=\"data row0 col17\" >Medium</td>\n",
              "      <td id=\"T_641a3_row0_col18\" class=\"data row0 col18\" >2011</td>\n",
              "    </tr>\n",
              "    <tr>\n",
              "      <td id=\"T_641a3_row1_col0\" class=\"data row1 col0\" >2011-01-01</td>\n",
              "      <td id=\"T_641a3_row1_col1\" class=\"data row1 col1\" >2011-01-08</td>\n",
              "      <td id=\"T_641a3_row1_col2\" class=\"data row1 col2\" >Standard Class</td>\n",
              "      <td id=\"T_641a3_row1_col3\" class=\"data row1 col3\" >Consumer</td>\n",
              "      <td id=\"T_641a3_row1_col4\" class=\"data row1 col4\" >New South Wales</td>\n",
              "      <td id=\"T_641a3_row1_col5\" class=\"data row1 col5\" >Australia</td>\n",
              "      <td id=\"T_641a3_row1_col6\" class=\"data row1 col6\" >APAC</td>\n",
              "      <td id=\"T_641a3_row1_col7\" class=\"data row1 col7\" >Oceania</td>\n",
              "      <td id=\"T_641a3_row1_col8\" class=\"data row1 col8\" >OFF-SU-10000618</td>\n",
              "      <td id=\"T_641a3_row1_col9\" class=\"data row1 col9\" >Office Supplies</td>\n",
              "      <td id=\"T_641a3_row1_col10\" class=\"data row1 col10\" >Supplies</td>\n",
              "      <td id=\"T_641a3_row1_col11\" class=\"data row1 col11\" >Acme Trimmer, High Speed</td>\n",
              "      <td id=\"T_641a3_row1_col12\" class=\"data row1 col12\" >120.00</td>\n",
              "      <td id=\"T_641a3_row1_col13\" class=\"data row1 col13\" >3</td>\n",
              "      <td id=\"T_641a3_row1_col14\" class=\"data row1 col14\" >0.10</td>\n",
              "      <td id=\"T_641a3_row1_col15\" class=\"data row1 col15\" >36.04</td>\n",
              "      <td id=\"T_641a3_row1_col16\" class=\"data row1 col16\" >9.72</td>\n",
              "      <td id=\"T_641a3_row1_col17\" class=\"data row1 col17\" >Medium</td>\n",
              "      <td id=\"T_641a3_row1_col18\" class=\"data row1 col18\" >2011</td>\n",
              "    </tr>\n",
              "    <tr>\n",
              "      <td id=\"T_641a3_row2_col0\" class=\"data row2 col0\" >2011-01-01</td>\n",
              "      <td id=\"T_641a3_row2_col1\" class=\"data row2 col1\" >2011-01-05</td>\n",
              "      <td id=\"T_641a3_row2_col2\" class=\"data row2 col2\" >Second Class</td>\n",
              "      <td id=\"T_641a3_row2_col3\" class=\"data row2 col3\" >Consumer</td>\n",
              "      <td id=\"T_641a3_row2_col4\" class=\"data row2 col4\" >Budapest</td>\n",
              "      <td id=\"T_641a3_row2_col5\" class=\"data row2 col5\" >Hungary</td>\n",
              "      <td id=\"T_641a3_row2_col6\" class=\"data row2 col6\" >EMEA</td>\n",
              "      <td id=\"T_641a3_row2_col7\" class=\"data row2 col7\" >EMEA</td>\n",
              "      <td id=\"T_641a3_row2_col8\" class=\"data row2 col8\" >OFF-TEN-10001585</td>\n",
              "      <td id=\"T_641a3_row2_col9\" class=\"data row2 col9\" >Office Supplies</td>\n",
              "      <td id=\"T_641a3_row2_col10\" class=\"data row2 col10\" >Storage</td>\n",
              "      <td id=\"T_641a3_row2_col11\" class=\"data row2 col11\" >Tenex Box, Single Width</td>\n",
              "      <td id=\"T_641a3_row2_col12\" class=\"data row2 col12\" >66.00</td>\n",
              "      <td id=\"T_641a3_row2_col13\" class=\"data row2 col13\" >4</td>\n",
              "      <td id=\"T_641a3_row2_col14\" class=\"data row2 col14\" >0.00</td>\n",
              "      <td id=\"T_641a3_row2_col15\" class=\"data row2 col15\" >29.64</td>\n",
              "      <td id=\"T_641a3_row2_col16\" class=\"data row2 col16\" >8.17</td>\n",
              "      <td id=\"T_641a3_row2_col17\" class=\"data row2 col17\" >High</td>\n",
              "      <td id=\"T_641a3_row2_col18\" class=\"data row2 col18\" >2011</td>\n",
              "    </tr>\n",
              "    <tr>\n",
              "      <td id=\"T_641a3_row3_col0\" class=\"data row3 col0\" >2011-01-01</td>\n",
              "      <td id=\"T_641a3_row3_col1\" class=\"data row3 col1\" >2011-01-05</td>\n",
              "      <td id=\"T_641a3_row3_col2\" class=\"data row3 col2\" >Second Class</td>\n",
              "      <td id=\"T_641a3_row3_col3\" class=\"data row3 col3\" >Home Office</td>\n",
              "      <td id=\"T_641a3_row3_col4\" class=\"data row3 col4\" >Stockholm</td>\n",
              "      <td id=\"T_641a3_row3_col5\" class=\"data row3 col5\" >Sweden</td>\n",
              "      <td id=\"T_641a3_row3_col6\" class=\"data row3 col6\" >EU</td>\n",
              "      <td id=\"T_641a3_row3_col7\" class=\"data row3 col7\" >North</td>\n",
              "      <td id=\"T_641a3_row3_col8\" class=\"data row3 col8\" >OFF-PA-10001492</td>\n",
              "      <td id=\"T_641a3_row3_col9\" class=\"data row3 col9\" >Office Supplies</td>\n",
              "      <td id=\"T_641a3_row3_col10\" class=\"data row3 col10\" >Paper</td>\n",
              "      <td id=\"T_641a3_row3_col11\" class=\"data row3 col11\" >Enermax Note Cards, Premium</td>\n",
              "      <td id=\"T_641a3_row3_col12\" class=\"data row3 col12\" >45.00</td>\n",
              "      <td id=\"T_641a3_row3_col13\" class=\"data row3 col13\" >3</td>\n",
              "      <td id=\"T_641a3_row3_col14\" class=\"data row3 col14\" >0.50</td>\n",
              "      <td id=\"T_641a3_row3_col15\" class=\"data row3 col15\" >-26.06</td>\n",
              "      <td id=\"T_641a3_row3_col16\" class=\"data row3 col16\" >4.82</td>\n",
              "      <td id=\"T_641a3_row3_col17\" class=\"data row3 col17\" >High</td>\n",
              "      <td id=\"T_641a3_row3_col18\" class=\"data row3 col18\" >2011</td>\n",
              "    </tr>\n",
              "    <tr>\n",
              "      <td id=\"T_641a3_row4_col0\" class=\"data row4 col0\" >2011-01-01</td>\n",
              "      <td id=\"T_641a3_row4_col1\" class=\"data row4 col1\" >2011-01-08</td>\n",
              "      <td id=\"T_641a3_row4_col2\" class=\"data row4 col2\" >Standard Class</td>\n",
              "      <td id=\"T_641a3_row4_col3\" class=\"data row4 col3\" >Consumer</td>\n",
              "      <td id=\"T_641a3_row4_col4\" class=\"data row4 col4\" >New South Wales</td>\n",
              "      <td id=\"T_641a3_row4_col5\" class=\"data row4 col5\" >Australia</td>\n",
              "      <td id=\"T_641a3_row4_col6\" class=\"data row4 col6\" >APAC</td>\n",
              "      <td id=\"T_641a3_row4_col7\" class=\"data row4 col7\" >Oceania</td>\n",
              "      <td id=\"T_641a3_row4_col8\" class=\"data row4 col8\" >FUR-FU-10003447</td>\n",
              "      <td id=\"T_641a3_row4_col9\" class=\"data row4 col9\" >Furniture</td>\n",
              "      <td id=\"T_641a3_row4_col10\" class=\"data row4 col10\" >Furnishings</td>\n",
              "      <td id=\"T_641a3_row4_col11\" class=\"data row4 col11\" >Eldon Light Bulb, Duo Pack</td>\n",
              "      <td id=\"T_641a3_row4_col12\" class=\"data row4 col12\" >114.00</td>\n",
              "      <td id=\"T_641a3_row4_col13\" class=\"data row4 col13\" >5</td>\n",
              "      <td id=\"T_641a3_row4_col14\" class=\"data row4 col14\" >0.10</td>\n",
              "      <td id=\"T_641a3_row4_col15\" class=\"data row4 col15\" >37.77</td>\n",
              "      <td id=\"T_641a3_row4_col16\" class=\"data row4 col16\" >4.70</td>\n",
              "      <td id=\"T_641a3_row4_col17\" class=\"data row4 col17\" >Medium</td>\n",
              "      <td id=\"T_641a3_row4_col18\" class=\"data row4 col18\" >2011</td>\n",
              "    </tr>\n",
              "    <tr>\n",
              "      <td id=\"T_641a3_row5_col0\" class=\"data row5 col0\" >2011-01-01</td>\n",
              "      <td id=\"T_641a3_row5_col1\" class=\"data row5 col1\" >2011-01-08</td>\n",
              "      <td id=\"T_641a3_row5_col2\" class=\"data row5 col2\" >Standard Class</td>\n",
              "      <td id=\"T_641a3_row5_col3\" class=\"data row5 col3\" >Consumer</td>\n",
              "      <td id=\"T_641a3_row5_col4\" class=\"data row5 col4\" >New South Wales</td>\n",
              "      <td id=\"T_641a3_row5_col5\" class=\"data row5 col5\" >Australia</td>\n",
              "      <td id=\"T_641a3_row5_col6\" class=\"data row5 col6\" >APAC</td>\n",
              "      <td id=\"T_641a3_row5_col7\" class=\"data row5 col7\" >Oceania</td>\n",
              "      <td id=\"T_641a3_row5_col8\" class=\"data row5 col8\" >OFF-PA-10001968</td>\n",
              "      <td id=\"T_641a3_row5_col9\" class=\"data row5 col9\" >Office Supplies</td>\n",
              "      <td id=\"T_641a3_row5_col10\" class=\"data row5 col10\" >Paper</td>\n",
              "      <td id=\"T_641a3_row5_col11\" class=\"data row5 col11\" >Eaton Computer Printout Paper, 8.5 x 11</td>\n",
              "      <td id=\"T_641a3_row5_col12\" class=\"data row5 col12\" >55.00</td>\n",
              "      <td id=\"T_641a3_row5_col13\" class=\"data row5 col13\" >2</td>\n",
              "      <td id=\"T_641a3_row5_col14\" class=\"data row5 col14\" >0.10</td>\n",
              "      <td id=\"T_641a3_row5_col15\" class=\"data row5 col15\" >15.34</td>\n",
              "      <td id=\"T_641a3_row5_col16\" class=\"data row5 col16\" >1.80</td>\n",
              "      <td id=\"T_641a3_row5_col17\" class=\"data row5 col17\" >Medium</td>\n",
              "      <td id=\"T_641a3_row5_col18\" class=\"data row5 col18\" >2011</td>\n",
              "    </tr>\n",
              "    <tr>\n",
              "      <td id=\"T_641a3_row6_col0\" class=\"data row6 col0\" >2011-01-02</td>\n",
              "      <td id=\"T_641a3_row6_col1\" class=\"data row6 col1\" >2011-01-06</td>\n",
              "      <td id=\"T_641a3_row6_col2\" class=\"data row6 col2\" >Standard Class</td>\n",
              "      <td id=\"T_641a3_row6_col3\" class=\"data row6 col3\" >Consumer</td>\n",
              "      <td id=\"T_641a3_row6_col4\" class=\"data row6 col4\" >Ontario</td>\n",
              "      <td id=\"T_641a3_row6_col5\" class=\"data row6 col5\" >Canada</td>\n",
              "      <td id=\"T_641a3_row6_col6\" class=\"data row6 col6\" >Canada</td>\n",
              "      <td id=\"T_641a3_row6_col7\" class=\"data row6 col7\" >Canada</td>\n",
              "      <td id=\"T_641a3_row6_col8\" class=\"data row6 col8\" >TEC-OKI-10002750</td>\n",
              "      <td id=\"T_641a3_row6_col9\" class=\"data row6 col9\" >Technology</td>\n",
              "      <td id=\"T_641a3_row6_col10\" class=\"data row6 col10\" >Machines</td>\n",
              "      <td id=\"T_641a3_row6_col11\" class=\"data row6 col11\" >Okidata Inkjet, Wireless</td>\n",
              "      <td id=\"T_641a3_row6_col12\" class=\"data row6 col12\" >314.00</td>\n",
              "      <td id=\"T_641a3_row6_col13\" class=\"data row6 col13\" >1</td>\n",
              "      <td id=\"T_641a3_row6_col14\" class=\"data row6 col14\" >0.00</td>\n",
              "      <td id=\"T_641a3_row6_col15\" class=\"data row6 col15\" >3.12</td>\n",
              "      <td id=\"T_641a3_row6_col16\" class=\"data row6 col16\" >24.10</td>\n",
              "      <td id=\"T_641a3_row6_col17\" class=\"data row6 col17\" >Medium</td>\n",
              "      <td id=\"T_641a3_row6_col18\" class=\"data row6 col18\" >2011</td>\n",
              "    </tr>\n",
              "    <tr>\n",
              "      <td id=\"T_641a3_row7_col0\" class=\"data row7 col0\" >2011-01-03</td>\n",
              "      <td id=\"T_641a3_row7_col1\" class=\"data row7 col1\" >2011-01-03</td>\n",
              "      <td id=\"T_641a3_row7_col2\" class=\"data row7 col2\" >Same Day</td>\n",
              "      <td id=\"T_641a3_row7_col3\" class=\"data row7 col3\" >Corporate</td>\n",
              "      <td id=\"T_641a3_row7_col4\" class=\"data row7 col4\" >New South Wales</td>\n",
              "      <td id=\"T_641a3_row7_col5\" class=\"data row7 col5\" >Australia</td>\n",
              "      <td id=\"T_641a3_row7_col6\" class=\"data row7 col6\" >APAC</td>\n",
              "      <td id=\"T_641a3_row7_col7\" class=\"data row7 col7\" >Oceania</td>\n",
              "      <td id=\"T_641a3_row7_col8\" class=\"data row7 col8\" >OFF-AP-10000304</td>\n",
              "      <td id=\"T_641a3_row7_col9\" class=\"data row7 col9\" >Office Supplies</td>\n",
              "      <td id=\"T_641a3_row7_col10\" class=\"data row7 col10\" >Appliances</td>\n",
              "      <td id=\"T_641a3_row7_col11\" class=\"data row7 col11\" >Hoover Microwave, White</td>\n",
              "      <td id=\"T_641a3_row7_col12\" class=\"data row7 col12\" >276.00</td>\n",
              "      <td id=\"T_641a3_row7_col13\" class=\"data row7 col13\" >1</td>\n",
              "      <td id=\"T_641a3_row7_col14\" class=\"data row7 col14\" >0.10</td>\n",
              "      <td id=\"T_641a3_row7_col15\" class=\"data row7 col15\" >110.41</td>\n",
              "      <td id=\"T_641a3_row7_col16\" class=\"data row7 col16\" >125.32</td>\n",
              "      <td id=\"T_641a3_row7_col17\" class=\"data row7 col17\" >Critical</td>\n",
              "      <td id=\"T_641a3_row7_col18\" class=\"data row7 col18\" >2011</td>\n",
              "    </tr>\n",
              "    <tr>\n",
              "      <td id=\"T_641a3_row8_col0\" class=\"data row8 col0\" >2011-01-03</td>\n",
              "      <td id=\"T_641a3_row8_col1\" class=\"data row8 col1\" >2011-01-09</td>\n",
              "      <td id=\"T_641a3_row8_col2\" class=\"data row8 col2\" >Standard Class</td>\n",
              "      <td id=\"T_641a3_row8_col3\" class=\"data row8 col3\" >Consumer</td>\n",
              "      <td id=\"T_641a3_row8_col4\" class=\"data row8 col4\" >Auckland</td>\n",
              "      <td id=\"T_641a3_row8_col5\" class=\"data row8 col5\" >New Zealand</td>\n",
              "      <td id=\"T_641a3_row8_col6\" class=\"data row8 col6\" >APAC</td>\n",
              "      <td id=\"T_641a3_row8_col7\" class=\"data row8 col7\" >Oceania</td>\n",
              "      <td id=\"T_641a3_row8_col8\" class=\"data row8 col8\" >TEC-CO-10004182</td>\n",
              "      <td id=\"T_641a3_row8_col9\" class=\"data row8 col9\" >Technology</td>\n",
              "      <td id=\"T_641a3_row8_col10\" class=\"data row8 col10\" >Copiers</td>\n",
              "      <td id=\"T_641a3_row8_col11\" class=\"data row8 col11\" >Hewlett Wireless Fax, Laser</td>\n",
              "      <td id=\"T_641a3_row8_col12\" class=\"data row8 col12\" >912.00</td>\n",
              "      <td id=\"T_641a3_row8_col13\" class=\"data row8 col13\" >4</td>\n",
              "      <td id=\"T_641a3_row8_col14\" class=\"data row8 col14\" >0.40</td>\n",
              "      <td id=\"T_641a3_row8_col15\" class=\"data row8 col15\" >-319.46</td>\n",
              "      <td id=\"T_641a3_row8_col16\" class=\"data row8 col16\" >107.10</td>\n",
              "      <td id=\"T_641a3_row8_col17\" class=\"data row8 col17\" >Low</td>\n",
              "      <td id=\"T_641a3_row8_col18\" class=\"data row8 col18\" >2011</td>\n",
              "    </tr>\n",
              "    <tr>\n",
              "      <td id=\"T_641a3_row9_col0\" class=\"data row9 col0\" >2011-01-03</td>\n",
              "      <td id=\"T_641a3_row9_col1\" class=\"data row9 col1\" >2011-01-07</td>\n",
              "      <td id=\"T_641a3_row9_col2\" class=\"data row9 col2\" >Standard Class</td>\n",
              "      <td id=\"T_641a3_row9_col3\" class=\"data row9 col3\" >Corporate</td>\n",
              "      <td id=\"T_641a3_row9_col4\" class=\"data row9 col4\" >Ninawa</td>\n",
              "      <td id=\"T_641a3_row9_col5\" class=\"data row9 col5\" >Iraq</td>\n",
              "      <td id=\"T_641a3_row9_col6\" class=\"data row9 col6\" >EMEA</td>\n",
              "      <td id=\"T_641a3_row9_col7\" class=\"data row9 col7\" >EMEA</td>\n",
              "      <td id=\"T_641a3_row9_col8\" class=\"data row9 col8\" >FUR-NOV-10002791</td>\n",
              "      <td id=\"T_641a3_row9_col9\" class=\"data row9 col9\" >Furniture</td>\n",
              "      <td id=\"T_641a3_row9_col10\" class=\"data row9 col10\" >Chairs</td>\n",
              "      <td id=\"T_641a3_row9_col11\" class=\"data row9 col11\" >Novimex Swivel Stool, Set of Two</td>\n",
              "      <td id=\"T_641a3_row9_col12\" class=\"data row9 col12\" >667.00</td>\n",
              "      <td id=\"T_641a3_row9_col13\" class=\"data row9 col13\" >4</td>\n",
              "      <td id=\"T_641a3_row9_col14\" class=\"data row9 col14\" >0.00</td>\n",
              "      <td id=\"T_641a3_row9_col15\" class=\"data row9 col15\" >253.32</td>\n",
              "      <td id=\"T_641a3_row9_col16\" class=\"data row9 col16\" >81.26</td>\n",
              "      <td id=\"T_641a3_row9_col17\" class=\"data row9 col17\" >High</td>\n",
              "      <td id=\"T_641a3_row9_col18\" class=\"data row9 col18\" >2011</td>\n",
              "    </tr>\n",
              "  </tbody>\n",
              "</table>\n"
            ]
          },
          "metadata": {},
          "execution_count": 15
        }
      ]
    },
    {
      "cell_type": "markdown",
      "source": [
        "#ChronoTYM <br>\n",
        "In Indic phraseology, tantra is knowledge, a yantra is a device to explore this knowledge and a mantra is the code that unlocks both the tantra and its yantra. Chrono/TYM a sci-fi trilogy that recreates this framework where the first novel Chronotantra defines the contours of a tech driven, futuristic society, the second, Chronoyantra, describes a device used to explore the genesis of this society, while the third, Chronomantra finally reveals the code, the key, that unlocks this puzzle.  [More information](http://bit.ly/chronobooks) <br>\n",
        "![alt text](https://blogger.googleusercontent.com/img/b/R29vZ2xl/AVvXsEjdu_ajYwBRzk5iFYlcs59ZoRMMg6rhNm4JERKspvFJoveJsnfwRlzMICiC37UOja_Bd4sbfLA1pyyBbe0mj3tUfDBXoqCzNUDw3Wux7acoJBaLkWjAvJXfa7drRY2GQRAlFxEY9O7a7raY4RKy7cA3Uxgf5QsaZQ99C9GfXxFSex_rke8ROhAn41t8zOqK/s1640/tymBanner01_3.png)"
      ],
      "metadata": {
        "id": "_gNiZpyW3AzJ"
      }
    },
    {
      "cell_type": "code",
      "source": [
        "from datetime import datetime\n",
        "import pytz\n",
        "print('Last tested  ',datetime.now(pytz.timezone('Asia/Kolkata')))"
      ],
      "metadata": {
        "colab": {
          "base_uri": "https://localhost:8080/"
        },
        "id": "wjBXJVhM605H",
        "outputId": "3c42240f-cd5d-4173-f76c-2dd007b6ad34"
      },
      "execution_count": null,
      "outputs": [
        {
          "output_type": "stream",
          "name": "stdout",
          "text": [
            "Last tested   2025-02-27 06:09:40.013195+05:30\n"
          ]
        }
      ]
    }
  ]
}