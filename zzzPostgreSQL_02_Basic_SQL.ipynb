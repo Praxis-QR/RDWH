{
  "nbformat": 4,
  "nbformat_minor": 0,
  "metadata": {
    "colab": {
      "provenance": [],
      "toc_visible": true,
      "include_colab_link": true
    },
    "kernelspec": {
      "name": "python3",
      "display_name": "Python 3"
    },
    "language_info": {
      "name": "python"
    }
  },
  "cells": [
    {
      "cell_type": "markdown",
      "metadata": {
        "id": "view-in-github",
        "colab_type": "text"
      },
      "source": [
        "<a href=\"https://colab.research.google.com/github/Praxis-QR/RDWH/blob/main/PostgreSQL_02_Basic_SQL.ipynb\" target=\"_parent\"><img src=\"https://colab.research.google.com/assets/colab-badge.svg\" alt=\"Open In Colab\"/></a>"
      ]
    },
    {
      "cell_type": "markdown",
      "source": [
        "![alt text](https://github.com/Praxis-QR/RDWH/raw/main/images/YantraJaalBanner.png)<br>\n",
        "\n",
        "\n",
        "<hr>\n",
        "\n",
        "[Prithwis Mukerjee](http://www.linkedin.com/in/prithwis)<br>"
      ],
      "metadata": {
        "id": "DBzz-qaN2tKu"
      }
    },
    {
      "cell_type": "markdown",
      "source": [
        "PostgreSQL Tutorial https://www.w3resource.com/PostgreSQL/tutorial.php"
      ],
      "metadata": {
        "id": "dBJ6X0LiJtZ6"
      }
    },
    {
      "cell_type": "markdown",
      "source": [
        "#Install & Configure Postgres"
      ],
      "metadata": {
        "id": "nD-QawLT6kDr"
      }
    },
    {
      "cell_type": "code",
      "source": [
        "from datetime import datetime\n",
        "import pytz\n",
        "print('Tested on ',datetime.now(pytz.timezone('Asia/Calcutta')))\n",
        "!python --version\n",
        "!lsb_release -a"
      ],
      "metadata": {
        "id": "txwvst5Hs5mI",
        "outputId": "98ab8263-cb10-43c7-b421-70142ddfa4f1",
        "colab": {
          "base_uri": "https://localhost:8080/"
        }
      },
      "execution_count": 1,
      "outputs": [
        {
          "output_type": "stream",
          "name": "stdout",
          "text": [
            "Tested on  2023-12-31 05:06:53.272048+05:30\n",
            "Python 3.10.12\n",
            "No LSB modules are available.\n",
            "Distributor ID:\tUbuntu\n",
            "Description:\tUbuntu 22.04.3 LTS\n",
            "Release:\t22.04\n",
            "Codename:\tjammy\n"
          ]
        }
      ]
    },
    {
      "cell_type": "code",
      "source": [
        "# Install postgresql server\n",
        "\n",
        "!apt update > /dev/null\n",
        "!apt install postgresql > /dev/null\n",
        "#!sudo -u postgres psql -V\n",
        "!psql -V\n",
        "!service postgresql start"
      ],
      "metadata": {
        "colab": {
          "base_uri": "https://localhost:8080/"
        },
        "id": "o_RaqE0OOHP3",
        "outputId": "3b79c587-ed99-4453-a0c5-95d8c25bf2d4"
      },
      "execution_count": 2,
      "outputs": [
        {
          "output_type": "stream",
          "name": "stdout",
          "text": [
            "\n",
            "WARNING: apt does not have a stable CLI interface. Use with caution in scripts.\n",
            "\n",
            "\n",
            "WARNING: apt does not have a stable CLI interface. Use with caution in scripts.\n",
            "\n",
            "psql (PostgreSQL) 14.10 (Ubuntu 14.10-0ubuntu0.22.04.1)\n",
            " * Starting PostgreSQL 14 database server\n",
            "   ...done.\n"
          ]
        }
      ]
    },
    {
      "cell_type": "code",
      "source": [
        "#!pip install psycopg2\n",
        "import psycopg2\n",
        "import pandas as pd"
      ],
      "metadata": {
        "id": "719jvpeIjLZX"
      },
      "execution_count": 3,
      "outputs": []
    },
    {
      "cell_type": "code",
      "source": [
        "# This has created an Ubuntu user 'postgres' AND a Postgres database user 'postgres' both of which are superusers\n",
        "#!cat /etc/passwd\n",
        "# Use these users to create a new database user called 'upraxis' and give it a password 'upass'\n",
        "#!sudo -u postgres createuser --superuser upraxis\n",
        "!sudo -u postgres createuser upraxis\n",
        "!sudo -u postgres psql -U postgres -c \"ALTER USER upraxis PASSWORD 'upass';\"\n",
        "# Change the database superuser 'postgres' to a non-default value 'pass'\n",
        "!sudo -u postgres psql -U postgres -c \"ALTER USER postgres PASSWORD 'pass';\"\n",
        "# Use ubuntu superuser to create database dbpraxis and set its owner to upraxis\n",
        "!sudo -u postgres createdb -O upraxis dbpraxis\n"
      ],
      "metadata": {
        "colab": {
          "base_uri": "https://localhost:8080/"
        },
        "id": "xr5kHaY_U4CZ",
        "outputId": "57a93904-6838-4ce5-bebb-7270f5bc610d"
      },
      "execution_count": 4,
      "outputs": [
        {
          "output_type": "stream",
          "name": "stdout",
          "text": [
            "ALTER ROLE\n",
            "ALTER ROLE\n"
          ]
        }
      ]
    },
    {
      "cell_type": "code",
      "source": [
        "# Create file to store the password. Else will be prompted each time\n",
        "#!echo \"localhost:5432:praxisdb:postgres:pass\" > ~/.pgpass\n",
        "!echo \"localhost:5432:dbpraxis:upraxis:upass\" > ~/.pgpass\n",
        "!chmod 0600 ~/.pgpass\n",
        "!cat ~/.pgpass"
      ],
      "metadata": {
        "colab": {
          "base_uri": "https://localhost:8080/"
        },
        "id": "kFDLMhnTWwuz",
        "outputId": "40a13147-a5cf-4971-bd70-cc419709380e"
      },
      "execution_count": 5,
      "outputs": [
        {
          "output_type": "stream",
          "name": "stdout",
          "text": [
            "localhost:5432:dbpraxis:upraxis:upass\n"
          ]
        }
      ]
    },
    {
      "cell_type": "markdown",
      "source": [
        "## Create and Load Tables"
      ],
      "metadata": {
        "id": "pHTdNzrU6qUE"
      }
    },
    {
      "cell_type": "code",
      "source": [
        "# Create Two tables using command line interface\n",
        "#\n",
        "!psql -h localhost -p 5432 -Uupraxis -ddbpraxis -c \\\n",
        "\"drop table if exists Dept;\\\n",
        "create table Dept (\\\n",
        "    DeptID char(2),\\\n",
        "    DeptName varchar(20),\\\n",
        "    ManagerID char(6),\\\n",
        "    Location varchar(10),\\\n",
        "    LocationID char(1)\\\n",
        "    );\\\n",
        "insert into Dept (DeptID, DeptName, ManagerID, Location,LocationID) VALUES \\\n",
        "\t('10', 'Corporate', '299034', 'Calcutta','1'), \\\n",
        "\t('20', 'Sales', '239456', 'Calcutta','1'), \\\n",
        "\t('30', 'Accounts', '822134', 'Calcutta','1'), \\\n",
        "\t('40', 'Production', '349870', 'Bombay','2'),\\\n",
        "    ('60', 'Research', '546224', 'Delhi','3');\\\n",
        "\""
      ],
      "metadata": {
        "colab": {
          "base_uri": "https://localhost:8080/"
        },
        "id": "DsUZ9JlEXIir",
        "outputId": "5c4fba50-cf82-4d33-a941-29b6e45cce77"
      },
      "execution_count": 6,
      "outputs": [
        {
          "output_type": "stream",
          "name": "stdout",
          "text": [
            "NOTICE:  table \"dept\" does not exist, skipping\n",
            "INSERT 0 5\n"
          ]
        }
      ]
    },
    {
      "cell_type": "code",
      "source": [
        "!psql -h localhost -p 5432 -Uupraxis -ddbpraxis -c \\\n",
        "\"drop table if exists Empl;\\\n",
        "create table Empl \\\n",
        "    (EmpID char(6),\\\n",
        "    LastName varchar(20),\\\n",
        "    FirstName varchar(20),\\\n",
        "    JobDesc varchar(10),\\\n",
        "    JoinDate date,\\\n",
        "    Salary int,\\\n",
        "    Comm decimal(3,2),\\\n",
        "    DeptID char(2),\\\n",
        "    HiredBy char(6)\\\n",
        "    );\\\n",
        "INSERT INTO Empl (EmpID, LastName, FirstName, JobDesc, JoinDate, Salary, Comm, DeptID, HiredBy) \\\n",
        "    VALUES \\\n",
        "\t('742866', 'Bacchan', 'Amitabh', 'Executive', '2003-03-10', 50000, 0.1, '10', NULL), \\\n",
        "\t('349870', 'Mukherjee', 'Rani', 'Manager', '2005-05-04', 25000, 0.06, '40', '742866'), \\\n",
        "\t('865477', 'Dikshit', 'Madhuri', 'Clerk', '2002-04-04', 10000, 0.02, '20', '239456'), \\\n",
        "\t('239456', 'Khan', 'Shahrukh', 'Manager', '2004-01-03', 30000, 0.07, '20', '742866'), \\\n",
        "\t('897889', 'Sehwag', 'Virender', 'Cus_Rep', '2005-01-02', 15000, 0.05, '20', '239456'), \\\n",
        "\t('123980', 'Dhoni', 'Mahender', 'Clerk', '2004-10-09', 9000, 0.02, '40', '349870'), \\\n",
        "\t('822134', 'Dravid', 'Rahul', 'Sr Manager', '2000-06-04', 40000, 0.08, '30', '742866'), \\\n",
        "\t('997445', 'Dalmia', 'Jagmohan', 'Clerk', '2001-07-01', 12000, 0.02, '30', '822134'), \\\n",
        "\t('989007', 'Ganguly', 'Sourav', 'Cus_Rep', '2002-01-01', 20000, 0.03, '40', '299034'), \\\n",
        "\t('299034', 'Ganesan', 'Rekha', 'Director', '2002-10-10', 60000, 0.11, '10', '742866'), \\\n",
        "\t('546223', 'Karthikeyan', 'Narayan', 'Secretary', '2005-12-04', 40000, 0.09, '10', '299034'), \\\n",
        "    ('546224', 'Sunil', 'Chettri', 'Dy Manager', '2006-12-07', 40000, 0.05, '70', '349870'), \\\n",
        "\t('223112', 'Mirza', 'Sania', 'Cus_Rep', '2001-11-19', 25000, 0.04, '30', '822134');\\\n",
        "\""
      ],
      "metadata": {
        "colab": {
          "base_uri": "https://localhost:8080/"
        },
        "id": "5kWs3wyEd9Tm",
        "outputId": "b625894a-db4d-4790-c345-106b5aebc45b"
      },
      "execution_count": 7,
      "outputs": [
        {
          "output_type": "stream",
          "name": "stdout",
          "text": [
            "NOTICE:  table \"empl\" does not exist, skipping\n",
            "INSERT 0 13\n"
          ]
        }
      ]
    },
    {
      "cell_type": "code",
      "source": [
        "#!psql -h localhost -p 5432 -Upostgres -dpraxisdb -c \"select * from dept;\"\n",
        "#!psql -h localhost -p 5432 -Uupraxis -ddbpraxis -c \"select * from dept;\""
      ],
      "metadata": {
        "id": "HyBUhbAI2PV1"
      },
      "execution_count": 8,
      "outputs": []
    },
    {
      "cell_type": "code",
      "source": [
        "#!psql -h localhost -p 5432 -U postgres -d praxisdb -c \"select * from empl;\"\n",
        "#!psql -h localhost -p 5432 -U upraxis -d dbpraxis -c \"select * from empl;\""
      ],
      "metadata": {
        "id": "byY2iccO4ctF"
      },
      "execution_count": 9,
      "outputs": []
    },
    {
      "cell_type": "markdown",
      "source": [
        "## Python Access\n",
        "https://www.tutorialspoint.com/python_data_access/python_postgresql_database_connection.htm"
      ],
      "metadata": {
        "id": "faZEj8_7CeZ8"
      }
    },
    {
      "cell_type": "code",
      "source": [
        "# Local Colab server\n",
        "\n",
        "conn = psycopg2.connect(database=\"dbpraxis\", user='upraxis', password='upass', host='127.0.0.1', port= '5432')\n",
        "#Creating a cursor object using the cursor() method\n",
        "cursor = conn.cursor()\n",
        "#Executing an MYSQL function using the execute() method\n",
        "cursor.execute(\"select version()\")\n",
        "# Fetch a single row using fetchone() method.\n",
        "data = cursor.fetchone()\n",
        "print(\"Connection established to: \",data)\n",
        "#Closing the connection\n",
        "conn.close()"
      ],
      "metadata": {
        "id": "wcE-8UBnC4zV",
        "outputId": "b0b642f2-ee59-4d55-9e33-acfd39531b1b",
        "colab": {
          "base_uri": "https://localhost:8080/"
        }
      },
      "execution_count": 10,
      "outputs": [
        {
          "output_type": "stream",
          "name": "stdout",
          "text": [
            "Connection established to:  ('PostgreSQL 14.10 (Ubuntu 14.10-0ubuntu0.22.04.1) on x86_64-pc-linux-gnu, compiled by gcc (Ubuntu 11.4.0-1ubuntu1~22.04) 11.4.0, 64-bit',)\n"
          ]
        }
      ]
    },
    {
      "cell_type": "code",
      "source": [
        "# function to execute SQL select statements with Postgres\n",
        "#\n",
        "def runSelect(s):\n",
        "    #Set up connection\n",
        "\n",
        "    conn = psycopg2.connect(database=\"dbpraxis\", user='upraxis', password='upass', host='127.0.0.1', port= '5432')\n",
        "    #Setting auto commit true\n",
        "    conn.autocommit = True\n",
        "    #Creating a cursor object using the cursor() method\n",
        "    cursor = conn.cursor()\n",
        "    #Retrieving data\n",
        "    cursor.execute(s)\n",
        "    #Fetching all rows from the table\n",
        "    result = cursor.fetchall();\n",
        "    #print(len(result))\n",
        "    if (len(result)) > 0:                                       # result contains at least one row\n",
        "        colnames = [desc[0] for desc in cursor.description]     # get column names\n",
        "        #print(colnames)\n",
        "        resultdf = pd.DataFrame(result)                         # convert list to dataframe\n",
        "        resultdf.columns = colnames                             # add column names\n",
        "        #return resultdf\n",
        "        return resultdf.style.hide()                            # hide the index\n",
        "    else:\n",
        "        print('no records found')\n",
        "        return\n",
        "# function to execute SQL non-select statements with Postgres\n",
        "#\n",
        "def runCmd(s):\n",
        "    #Create Connection\n",
        "    conn = psycopg2.connect(database=\"dbpraxis\", user='upraxis', password='upass', host='127.0.0.1', port= '5432')\n",
        "    #Creating a cursor object using the cursor() method\n",
        "    cursor = conn.cursor()\n",
        "    try:\n",
        "        cursor.execute(s)\n",
        "        print('Command executed')\n",
        "        conn.commit()\n",
        "    except:\n",
        "        print('Command failed')\n",
        "    #Closing the connection\n",
        "    conn.close()"
      ],
      "metadata": {
        "id": "ht2k7-3iggNd"
      },
      "execution_count": 11,
      "outputs": []
    },
    {
      "cell_type": "markdown",
      "source": [
        "#Select - getting started"
      ],
      "metadata": {
        "id": "k0rXiciVtu7Q"
      }
    },
    {
      "cell_type": "code",
      "source": [
        "#runSelect(\"select * from dept where deptid = '100'\")\n",
        "#runSelect(\"select * from dept where deptid = '10'\")\n",
        "runSelect(\"select * from dept\")"
      ],
      "metadata": {
        "id": "N3NZv0YahSs6",
        "outputId": "8af210d3-3bf6-4c50-ee9c-4b6bbd871757",
        "colab": {
          "base_uri": "https://localhost:8080/",
          "height": 206
        }
      },
      "execution_count": 12,
      "outputs": [
        {
          "output_type": "execute_result",
          "data": {
            "text/plain": [
              "<pandas.io.formats.style.Styler at 0x789494a05240>"
            ],
            "text/html": [
              "<style type=\"text/css\">\n",
              "</style>\n",
              "<table id=\"T_006fb\" class=\"dataframe\">\n",
              "  <thead>\n",
              "    <tr>\n",
              "      <th id=\"T_006fb_level0_col0\" class=\"col_heading level0 col0\" >deptid</th>\n",
              "      <th id=\"T_006fb_level0_col1\" class=\"col_heading level0 col1\" >deptname</th>\n",
              "      <th id=\"T_006fb_level0_col2\" class=\"col_heading level0 col2\" >managerid</th>\n",
              "      <th id=\"T_006fb_level0_col3\" class=\"col_heading level0 col3\" >location</th>\n",
              "      <th id=\"T_006fb_level0_col4\" class=\"col_heading level0 col4\" >locationid</th>\n",
              "    </tr>\n",
              "  </thead>\n",
              "  <tbody>\n",
              "    <tr>\n",
              "      <td id=\"T_006fb_row0_col0\" class=\"data row0 col0\" >10</td>\n",
              "      <td id=\"T_006fb_row0_col1\" class=\"data row0 col1\" >Corporate</td>\n",
              "      <td id=\"T_006fb_row0_col2\" class=\"data row0 col2\" >299034</td>\n",
              "      <td id=\"T_006fb_row0_col3\" class=\"data row0 col3\" >Calcutta</td>\n",
              "      <td id=\"T_006fb_row0_col4\" class=\"data row0 col4\" >1</td>\n",
              "    </tr>\n",
              "    <tr>\n",
              "      <td id=\"T_006fb_row1_col0\" class=\"data row1 col0\" >20</td>\n",
              "      <td id=\"T_006fb_row1_col1\" class=\"data row1 col1\" >Sales</td>\n",
              "      <td id=\"T_006fb_row1_col2\" class=\"data row1 col2\" >239456</td>\n",
              "      <td id=\"T_006fb_row1_col3\" class=\"data row1 col3\" >Calcutta</td>\n",
              "      <td id=\"T_006fb_row1_col4\" class=\"data row1 col4\" >1</td>\n",
              "    </tr>\n",
              "    <tr>\n",
              "      <td id=\"T_006fb_row2_col0\" class=\"data row2 col0\" >30</td>\n",
              "      <td id=\"T_006fb_row2_col1\" class=\"data row2 col1\" >Accounts</td>\n",
              "      <td id=\"T_006fb_row2_col2\" class=\"data row2 col2\" >822134</td>\n",
              "      <td id=\"T_006fb_row2_col3\" class=\"data row2 col3\" >Calcutta</td>\n",
              "      <td id=\"T_006fb_row2_col4\" class=\"data row2 col4\" >1</td>\n",
              "    </tr>\n",
              "    <tr>\n",
              "      <td id=\"T_006fb_row3_col0\" class=\"data row3 col0\" >40</td>\n",
              "      <td id=\"T_006fb_row3_col1\" class=\"data row3 col1\" >Production</td>\n",
              "      <td id=\"T_006fb_row3_col2\" class=\"data row3 col2\" >349870</td>\n",
              "      <td id=\"T_006fb_row3_col3\" class=\"data row3 col3\" >Bombay</td>\n",
              "      <td id=\"T_006fb_row3_col4\" class=\"data row3 col4\" >2</td>\n",
              "    </tr>\n",
              "    <tr>\n",
              "      <td id=\"T_006fb_row4_col0\" class=\"data row4 col0\" >60</td>\n",
              "      <td id=\"T_006fb_row4_col1\" class=\"data row4 col1\" >Research</td>\n",
              "      <td id=\"T_006fb_row4_col2\" class=\"data row4 col2\" >546224</td>\n",
              "      <td id=\"T_006fb_row4_col3\" class=\"data row4 col3\" >Delhi</td>\n",
              "      <td id=\"T_006fb_row4_col4\" class=\"data row4 col4\" >3</td>\n",
              "    </tr>\n",
              "  </tbody>\n",
              "</table>\n"
            ]
          },
          "metadata": {},
          "execution_count": 12
        }
      ]
    },
    {
      "cell_type": "code",
      "source": [
        "runSelect('select * from empl')"
      ],
      "metadata": {
        "id": "Otiv4rjSl5Tg",
        "outputId": "5c2037d8-1b08-446d-e3ad-10f63b877a1d",
        "colab": {
          "base_uri": "https://localhost:8080/",
          "height": 457
        }
      },
      "execution_count": 13,
      "outputs": [
        {
          "output_type": "execute_result",
          "data": {
            "text/plain": [
              "<pandas.io.formats.style.Styler at 0x78949495ae30>"
            ],
            "text/html": [
              "<style type=\"text/css\">\n",
              "</style>\n",
              "<table id=\"T_a74ee\" class=\"dataframe\">\n",
              "  <thead>\n",
              "    <tr>\n",
              "      <th id=\"T_a74ee_level0_col0\" class=\"col_heading level0 col0\" >empid</th>\n",
              "      <th id=\"T_a74ee_level0_col1\" class=\"col_heading level0 col1\" >lastname</th>\n",
              "      <th id=\"T_a74ee_level0_col2\" class=\"col_heading level0 col2\" >firstname</th>\n",
              "      <th id=\"T_a74ee_level0_col3\" class=\"col_heading level0 col3\" >jobdesc</th>\n",
              "      <th id=\"T_a74ee_level0_col4\" class=\"col_heading level0 col4\" >joindate</th>\n",
              "      <th id=\"T_a74ee_level0_col5\" class=\"col_heading level0 col5\" >salary</th>\n",
              "      <th id=\"T_a74ee_level0_col6\" class=\"col_heading level0 col6\" >comm</th>\n",
              "      <th id=\"T_a74ee_level0_col7\" class=\"col_heading level0 col7\" >deptid</th>\n",
              "      <th id=\"T_a74ee_level0_col8\" class=\"col_heading level0 col8\" >hiredby</th>\n",
              "    </tr>\n",
              "  </thead>\n",
              "  <tbody>\n",
              "    <tr>\n",
              "      <td id=\"T_a74ee_row0_col0\" class=\"data row0 col0\" >742866</td>\n",
              "      <td id=\"T_a74ee_row0_col1\" class=\"data row0 col1\" >Bacchan</td>\n",
              "      <td id=\"T_a74ee_row0_col2\" class=\"data row0 col2\" >Amitabh</td>\n",
              "      <td id=\"T_a74ee_row0_col3\" class=\"data row0 col3\" >Executive</td>\n",
              "      <td id=\"T_a74ee_row0_col4\" class=\"data row0 col4\" >2003-03-10</td>\n",
              "      <td id=\"T_a74ee_row0_col5\" class=\"data row0 col5\" >50000</td>\n",
              "      <td id=\"T_a74ee_row0_col6\" class=\"data row0 col6\" >0.10</td>\n",
              "      <td id=\"T_a74ee_row0_col7\" class=\"data row0 col7\" >10</td>\n",
              "      <td id=\"T_a74ee_row0_col8\" class=\"data row0 col8\" >None</td>\n",
              "    </tr>\n",
              "    <tr>\n",
              "      <td id=\"T_a74ee_row1_col0\" class=\"data row1 col0\" >349870</td>\n",
              "      <td id=\"T_a74ee_row1_col1\" class=\"data row1 col1\" >Mukherjee</td>\n",
              "      <td id=\"T_a74ee_row1_col2\" class=\"data row1 col2\" >Rani</td>\n",
              "      <td id=\"T_a74ee_row1_col3\" class=\"data row1 col3\" >Manager</td>\n",
              "      <td id=\"T_a74ee_row1_col4\" class=\"data row1 col4\" >2005-05-04</td>\n",
              "      <td id=\"T_a74ee_row1_col5\" class=\"data row1 col5\" >25000</td>\n",
              "      <td id=\"T_a74ee_row1_col6\" class=\"data row1 col6\" >0.06</td>\n",
              "      <td id=\"T_a74ee_row1_col7\" class=\"data row1 col7\" >40</td>\n",
              "      <td id=\"T_a74ee_row1_col8\" class=\"data row1 col8\" >742866</td>\n",
              "    </tr>\n",
              "    <tr>\n",
              "      <td id=\"T_a74ee_row2_col0\" class=\"data row2 col0\" >865477</td>\n",
              "      <td id=\"T_a74ee_row2_col1\" class=\"data row2 col1\" >Dikshit</td>\n",
              "      <td id=\"T_a74ee_row2_col2\" class=\"data row2 col2\" >Madhuri</td>\n",
              "      <td id=\"T_a74ee_row2_col3\" class=\"data row2 col3\" >Clerk</td>\n",
              "      <td id=\"T_a74ee_row2_col4\" class=\"data row2 col4\" >2002-04-04</td>\n",
              "      <td id=\"T_a74ee_row2_col5\" class=\"data row2 col5\" >10000</td>\n",
              "      <td id=\"T_a74ee_row2_col6\" class=\"data row2 col6\" >0.02</td>\n",
              "      <td id=\"T_a74ee_row2_col7\" class=\"data row2 col7\" >20</td>\n",
              "      <td id=\"T_a74ee_row2_col8\" class=\"data row2 col8\" >239456</td>\n",
              "    </tr>\n",
              "    <tr>\n",
              "      <td id=\"T_a74ee_row3_col0\" class=\"data row3 col0\" >239456</td>\n",
              "      <td id=\"T_a74ee_row3_col1\" class=\"data row3 col1\" >Khan</td>\n",
              "      <td id=\"T_a74ee_row3_col2\" class=\"data row3 col2\" >Shahrukh</td>\n",
              "      <td id=\"T_a74ee_row3_col3\" class=\"data row3 col3\" >Manager</td>\n",
              "      <td id=\"T_a74ee_row3_col4\" class=\"data row3 col4\" >2004-01-03</td>\n",
              "      <td id=\"T_a74ee_row3_col5\" class=\"data row3 col5\" >30000</td>\n",
              "      <td id=\"T_a74ee_row3_col6\" class=\"data row3 col6\" >0.07</td>\n",
              "      <td id=\"T_a74ee_row3_col7\" class=\"data row3 col7\" >20</td>\n",
              "      <td id=\"T_a74ee_row3_col8\" class=\"data row3 col8\" >742866</td>\n",
              "    </tr>\n",
              "    <tr>\n",
              "      <td id=\"T_a74ee_row4_col0\" class=\"data row4 col0\" >897889</td>\n",
              "      <td id=\"T_a74ee_row4_col1\" class=\"data row4 col1\" >Sehwag</td>\n",
              "      <td id=\"T_a74ee_row4_col2\" class=\"data row4 col2\" >Virender</td>\n",
              "      <td id=\"T_a74ee_row4_col3\" class=\"data row4 col3\" >Cus_Rep</td>\n",
              "      <td id=\"T_a74ee_row4_col4\" class=\"data row4 col4\" >2005-01-02</td>\n",
              "      <td id=\"T_a74ee_row4_col5\" class=\"data row4 col5\" >15000</td>\n",
              "      <td id=\"T_a74ee_row4_col6\" class=\"data row4 col6\" >0.05</td>\n",
              "      <td id=\"T_a74ee_row4_col7\" class=\"data row4 col7\" >20</td>\n",
              "      <td id=\"T_a74ee_row4_col8\" class=\"data row4 col8\" >239456</td>\n",
              "    </tr>\n",
              "    <tr>\n",
              "      <td id=\"T_a74ee_row5_col0\" class=\"data row5 col0\" >123980</td>\n",
              "      <td id=\"T_a74ee_row5_col1\" class=\"data row5 col1\" >Dhoni</td>\n",
              "      <td id=\"T_a74ee_row5_col2\" class=\"data row5 col2\" >Mahender</td>\n",
              "      <td id=\"T_a74ee_row5_col3\" class=\"data row5 col3\" >Clerk</td>\n",
              "      <td id=\"T_a74ee_row5_col4\" class=\"data row5 col4\" >2004-10-09</td>\n",
              "      <td id=\"T_a74ee_row5_col5\" class=\"data row5 col5\" >9000</td>\n",
              "      <td id=\"T_a74ee_row5_col6\" class=\"data row5 col6\" >0.02</td>\n",
              "      <td id=\"T_a74ee_row5_col7\" class=\"data row5 col7\" >40</td>\n",
              "      <td id=\"T_a74ee_row5_col8\" class=\"data row5 col8\" >349870</td>\n",
              "    </tr>\n",
              "    <tr>\n",
              "      <td id=\"T_a74ee_row6_col0\" class=\"data row6 col0\" >822134</td>\n",
              "      <td id=\"T_a74ee_row6_col1\" class=\"data row6 col1\" >Dravid</td>\n",
              "      <td id=\"T_a74ee_row6_col2\" class=\"data row6 col2\" >Rahul</td>\n",
              "      <td id=\"T_a74ee_row6_col3\" class=\"data row6 col3\" >Sr Manager</td>\n",
              "      <td id=\"T_a74ee_row6_col4\" class=\"data row6 col4\" >2000-06-04</td>\n",
              "      <td id=\"T_a74ee_row6_col5\" class=\"data row6 col5\" >40000</td>\n",
              "      <td id=\"T_a74ee_row6_col6\" class=\"data row6 col6\" >0.08</td>\n",
              "      <td id=\"T_a74ee_row6_col7\" class=\"data row6 col7\" >30</td>\n",
              "      <td id=\"T_a74ee_row6_col8\" class=\"data row6 col8\" >742866</td>\n",
              "    </tr>\n",
              "    <tr>\n",
              "      <td id=\"T_a74ee_row7_col0\" class=\"data row7 col0\" >997445</td>\n",
              "      <td id=\"T_a74ee_row7_col1\" class=\"data row7 col1\" >Dalmia</td>\n",
              "      <td id=\"T_a74ee_row7_col2\" class=\"data row7 col2\" >Jagmohan</td>\n",
              "      <td id=\"T_a74ee_row7_col3\" class=\"data row7 col3\" >Clerk</td>\n",
              "      <td id=\"T_a74ee_row7_col4\" class=\"data row7 col4\" >2001-07-01</td>\n",
              "      <td id=\"T_a74ee_row7_col5\" class=\"data row7 col5\" >12000</td>\n",
              "      <td id=\"T_a74ee_row7_col6\" class=\"data row7 col6\" >0.02</td>\n",
              "      <td id=\"T_a74ee_row7_col7\" class=\"data row7 col7\" >30</td>\n",
              "      <td id=\"T_a74ee_row7_col8\" class=\"data row7 col8\" >822134</td>\n",
              "    </tr>\n",
              "    <tr>\n",
              "      <td id=\"T_a74ee_row8_col0\" class=\"data row8 col0\" >989007</td>\n",
              "      <td id=\"T_a74ee_row8_col1\" class=\"data row8 col1\" >Ganguly</td>\n",
              "      <td id=\"T_a74ee_row8_col2\" class=\"data row8 col2\" >Sourav</td>\n",
              "      <td id=\"T_a74ee_row8_col3\" class=\"data row8 col3\" >Cus_Rep</td>\n",
              "      <td id=\"T_a74ee_row8_col4\" class=\"data row8 col4\" >2002-01-01</td>\n",
              "      <td id=\"T_a74ee_row8_col5\" class=\"data row8 col5\" >20000</td>\n",
              "      <td id=\"T_a74ee_row8_col6\" class=\"data row8 col6\" >0.03</td>\n",
              "      <td id=\"T_a74ee_row8_col7\" class=\"data row8 col7\" >40</td>\n",
              "      <td id=\"T_a74ee_row8_col8\" class=\"data row8 col8\" >299034</td>\n",
              "    </tr>\n",
              "    <tr>\n",
              "      <td id=\"T_a74ee_row9_col0\" class=\"data row9 col0\" >299034</td>\n",
              "      <td id=\"T_a74ee_row9_col1\" class=\"data row9 col1\" >Ganesan</td>\n",
              "      <td id=\"T_a74ee_row9_col2\" class=\"data row9 col2\" >Rekha</td>\n",
              "      <td id=\"T_a74ee_row9_col3\" class=\"data row9 col3\" >Director</td>\n",
              "      <td id=\"T_a74ee_row9_col4\" class=\"data row9 col4\" >2002-10-10</td>\n",
              "      <td id=\"T_a74ee_row9_col5\" class=\"data row9 col5\" >60000</td>\n",
              "      <td id=\"T_a74ee_row9_col6\" class=\"data row9 col6\" >0.11</td>\n",
              "      <td id=\"T_a74ee_row9_col7\" class=\"data row9 col7\" >10</td>\n",
              "      <td id=\"T_a74ee_row9_col8\" class=\"data row9 col8\" >742866</td>\n",
              "    </tr>\n",
              "    <tr>\n",
              "      <td id=\"T_a74ee_row10_col0\" class=\"data row10 col0\" >546223</td>\n",
              "      <td id=\"T_a74ee_row10_col1\" class=\"data row10 col1\" >Karthikeyan</td>\n",
              "      <td id=\"T_a74ee_row10_col2\" class=\"data row10 col2\" >Narayan</td>\n",
              "      <td id=\"T_a74ee_row10_col3\" class=\"data row10 col3\" >Secretary</td>\n",
              "      <td id=\"T_a74ee_row10_col4\" class=\"data row10 col4\" >2005-12-04</td>\n",
              "      <td id=\"T_a74ee_row10_col5\" class=\"data row10 col5\" >40000</td>\n",
              "      <td id=\"T_a74ee_row10_col6\" class=\"data row10 col6\" >0.09</td>\n",
              "      <td id=\"T_a74ee_row10_col7\" class=\"data row10 col7\" >10</td>\n",
              "      <td id=\"T_a74ee_row10_col8\" class=\"data row10 col8\" >299034</td>\n",
              "    </tr>\n",
              "    <tr>\n",
              "      <td id=\"T_a74ee_row11_col0\" class=\"data row11 col0\" >546224</td>\n",
              "      <td id=\"T_a74ee_row11_col1\" class=\"data row11 col1\" >Sunil</td>\n",
              "      <td id=\"T_a74ee_row11_col2\" class=\"data row11 col2\" >Chettri</td>\n",
              "      <td id=\"T_a74ee_row11_col3\" class=\"data row11 col3\" >Dy Manager</td>\n",
              "      <td id=\"T_a74ee_row11_col4\" class=\"data row11 col4\" >2006-12-07</td>\n",
              "      <td id=\"T_a74ee_row11_col5\" class=\"data row11 col5\" >40000</td>\n",
              "      <td id=\"T_a74ee_row11_col6\" class=\"data row11 col6\" >0.05</td>\n",
              "      <td id=\"T_a74ee_row11_col7\" class=\"data row11 col7\" >70</td>\n",
              "      <td id=\"T_a74ee_row11_col8\" class=\"data row11 col8\" >349870</td>\n",
              "    </tr>\n",
              "    <tr>\n",
              "      <td id=\"T_a74ee_row12_col0\" class=\"data row12 col0\" >223112</td>\n",
              "      <td id=\"T_a74ee_row12_col1\" class=\"data row12 col1\" >Mirza</td>\n",
              "      <td id=\"T_a74ee_row12_col2\" class=\"data row12 col2\" >Sania</td>\n",
              "      <td id=\"T_a74ee_row12_col3\" class=\"data row12 col3\" >Cus_Rep</td>\n",
              "      <td id=\"T_a74ee_row12_col4\" class=\"data row12 col4\" >2001-11-19</td>\n",
              "      <td id=\"T_a74ee_row12_col5\" class=\"data row12 col5\" >25000</td>\n",
              "      <td id=\"T_a74ee_row12_col6\" class=\"data row12 col6\" >0.04</td>\n",
              "      <td id=\"T_a74ee_row12_col7\" class=\"data row12 col7\" >30</td>\n",
              "      <td id=\"T_a74ee_row12_col8\" class=\"data row12 col8\" >822134</td>\n",
              "    </tr>\n",
              "  </tbody>\n",
              "</table>\n"
            ]
          },
          "metadata": {},
          "execution_count": 13
        }
      ]
    },
    {
      "cell_type": "code",
      "source": [
        "runSelect('select lastname, jobdesc, salary from empl')"
      ],
      "metadata": {
        "id": "z-mxVMPuuxu6",
        "outputId": "08ad99c4-1be2-4d94-a91b-8f621408e007",
        "colab": {
          "base_uri": "https://localhost:8080/",
          "height": 457
        }
      },
      "execution_count": 14,
      "outputs": [
        {
          "output_type": "execute_result",
          "data": {
            "text/plain": [
              "<pandas.io.formats.style.Styler at 0x789494a069e0>"
            ],
            "text/html": [
              "<style type=\"text/css\">\n",
              "</style>\n",
              "<table id=\"T_7d809\" class=\"dataframe\">\n",
              "  <thead>\n",
              "    <tr>\n",
              "      <th id=\"T_7d809_level0_col0\" class=\"col_heading level0 col0\" >lastname</th>\n",
              "      <th id=\"T_7d809_level0_col1\" class=\"col_heading level0 col1\" >jobdesc</th>\n",
              "      <th id=\"T_7d809_level0_col2\" class=\"col_heading level0 col2\" >salary</th>\n",
              "    </tr>\n",
              "  </thead>\n",
              "  <tbody>\n",
              "    <tr>\n",
              "      <td id=\"T_7d809_row0_col0\" class=\"data row0 col0\" >Bacchan</td>\n",
              "      <td id=\"T_7d809_row0_col1\" class=\"data row0 col1\" >Executive</td>\n",
              "      <td id=\"T_7d809_row0_col2\" class=\"data row0 col2\" >50000</td>\n",
              "    </tr>\n",
              "    <tr>\n",
              "      <td id=\"T_7d809_row1_col0\" class=\"data row1 col0\" >Mukherjee</td>\n",
              "      <td id=\"T_7d809_row1_col1\" class=\"data row1 col1\" >Manager</td>\n",
              "      <td id=\"T_7d809_row1_col2\" class=\"data row1 col2\" >25000</td>\n",
              "    </tr>\n",
              "    <tr>\n",
              "      <td id=\"T_7d809_row2_col0\" class=\"data row2 col0\" >Dikshit</td>\n",
              "      <td id=\"T_7d809_row2_col1\" class=\"data row2 col1\" >Clerk</td>\n",
              "      <td id=\"T_7d809_row2_col2\" class=\"data row2 col2\" >10000</td>\n",
              "    </tr>\n",
              "    <tr>\n",
              "      <td id=\"T_7d809_row3_col0\" class=\"data row3 col0\" >Khan</td>\n",
              "      <td id=\"T_7d809_row3_col1\" class=\"data row3 col1\" >Manager</td>\n",
              "      <td id=\"T_7d809_row3_col2\" class=\"data row3 col2\" >30000</td>\n",
              "    </tr>\n",
              "    <tr>\n",
              "      <td id=\"T_7d809_row4_col0\" class=\"data row4 col0\" >Sehwag</td>\n",
              "      <td id=\"T_7d809_row4_col1\" class=\"data row4 col1\" >Cus_Rep</td>\n",
              "      <td id=\"T_7d809_row4_col2\" class=\"data row4 col2\" >15000</td>\n",
              "    </tr>\n",
              "    <tr>\n",
              "      <td id=\"T_7d809_row5_col0\" class=\"data row5 col0\" >Dhoni</td>\n",
              "      <td id=\"T_7d809_row5_col1\" class=\"data row5 col1\" >Clerk</td>\n",
              "      <td id=\"T_7d809_row5_col2\" class=\"data row5 col2\" >9000</td>\n",
              "    </tr>\n",
              "    <tr>\n",
              "      <td id=\"T_7d809_row6_col0\" class=\"data row6 col0\" >Dravid</td>\n",
              "      <td id=\"T_7d809_row6_col1\" class=\"data row6 col1\" >Sr Manager</td>\n",
              "      <td id=\"T_7d809_row6_col2\" class=\"data row6 col2\" >40000</td>\n",
              "    </tr>\n",
              "    <tr>\n",
              "      <td id=\"T_7d809_row7_col0\" class=\"data row7 col0\" >Dalmia</td>\n",
              "      <td id=\"T_7d809_row7_col1\" class=\"data row7 col1\" >Clerk</td>\n",
              "      <td id=\"T_7d809_row7_col2\" class=\"data row7 col2\" >12000</td>\n",
              "    </tr>\n",
              "    <tr>\n",
              "      <td id=\"T_7d809_row8_col0\" class=\"data row8 col0\" >Ganguly</td>\n",
              "      <td id=\"T_7d809_row8_col1\" class=\"data row8 col1\" >Cus_Rep</td>\n",
              "      <td id=\"T_7d809_row8_col2\" class=\"data row8 col2\" >20000</td>\n",
              "    </tr>\n",
              "    <tr>\n",
              "      <td id=\"T_7d809_row9_col0\" class=\"data row9 col0\" >Ganesan</td>\n",
              "      <td id=\"T_7d809_row9_col1\" class=\"data row9 col1\" >Director</td>\n",
              "      <td id=\"T_7d809_row9_col2\" class=\"data row9 col2\" >60000</td>\n",
              "    </tr>\n",
              "    <tr>\n",
              "      <td id=\"T_7d809_row10_col0\" class=\"data row10 col0\" >Karthikeyan</td>\n",
              "      <td id=\"T_7d809_row10_col1\" class=\"data row10 col1\" >Secretary</td>\n",
              "      <td id=\"T_7d809_row10_col2\" class=\"data row10 col2\" >40000</td>\n",
              "    </tr>\n",
              "    <tr>\n",
              "      <td id=\"T_7d809_row11_col0\" class=\"data row11 col0\" >Sunil</td>\n",
              "      <td id=\"T_7d809_row11_col1\" class=\"data row11 col1\" >Dy Manager</td>\n",
              "      <td id=\"T_7d809_row11_col2\" class=\"data row11 col2\" >40000</td>\n",
              "    </tr>\n",
              "    <tr>\n",
              "      <td id=\"T_7d809_row12_col0\" class=\"data row12 col0\" >Mirza</td>\n",
              "      <td id=\"T_7d809_row12_col1\" class=\"data row12 col1\" >Cus_Rep</td>\n",
              "      <td id=\"T_7d809_row12_col2\" class=\"data row12 col2\" >25000</td>\n",
              "    </tr>\n",
              "  </tbody>\n",
              "</table>\n"
            ]
          },
          "metadata": {},
          "execution_count": 14
        }
      ]
    },
    {
      "cell_type": "code",
      "source": [
        "runSelect('select distinct(jobdesc) from empl')"
      ],
      "metadata": {
        "id": "7uvcAdlCvg-p",
        "outputId": "bc46d559-b1ba-415c-ca53-8c4063329c0c",
        "colab": {
          "base_uri": "https://localhost:8080/",
          "height": 300
        }
      },
      "execution_count": 15,
      "outputs": [
        {
          "output_type": "execute_result",
          "data": {
            "text/plain": [
              "<pandas.io.formats.style.Styler at 0x78949495bf10>"
            ],
            "text/html": [
              "<style type=\"text/css\">\n",
              "</style>\n",
              "<table id=\"T_e674d\" class=\"dataframe\">\n",
              "  <thead>\n",
              "    <tr>\n",
              "      <th id=\"T_e674d_level0_col0\" class=\"col_heading level0 col0\" >jobdesc</th>\n",
              "    </tr>\n",
              "  </thead>\n",
              "  <tbody>\n",
              "    <tr>\n",
              "      <td id=\"T_e674d_row0_col0\" class=\"data row0 col0\" >Director</td>\n",
              "    </tr>\n",
              "    <tr>\n",
              "      <td id=\"T_e674d_row1_col0\" class=\"data row1 col0\" >Manager</td>\n",
              "    </tr>\n",
              "    <tr>\n",
              "      <td id=\"T_e674d_row2_col0\" class=\"data row2 col0\" >Dy Manager</td>\n",
              "    </tr>\n",
              "    <tr>\n",
              "      <td id=\"T_e674d_row3_col0\" class=\"data row3 col0\" >Executive</td>\n",
              "    </tr>\n",
              "    <tr>\n",
              "      <td id=\"T_e674d_row4_col0\" class=\"data row4 col0\" >Secretary</td>\n",
              "    </tr>\n",
              "    <tr>\n",
              "      <td id=\"T_e674d_row5_col0\" class=\"data row5 col0\" >Cus_Rep</td>\n",
              "    </tr>\n",
              "    <tr>\n",
              "      <td id=\"T_e674d_row6_col0\" class=\"data row6 col0\" >Clerk</td>\n",
              "    </tr>\n",
              "    <tr>\n",
              "      <td id=\"T_e674d_row7_col0\" class=\"data row7 col0\" >Sr Manager</td>\n",
              "    </tr>\n",
              "  </tbody>\n",
              "</table>\n"
            ]
          },
          "metadata": {},
          "execution_count": 15
        }
      ]
    },
    {
      "cell_type": "markdown",
      "source": [
        "#Where"
      ],
      "metadata": {
        "id": "LFbNG59OxVzF"
      }
    },
    {
      "cell_type": "markdown",
      "source": [
        "## Equal, Not Equal, Greater, Less"
      ],
      "metadata": {
        "id": "JM2k29awVQHc"
      }
    },
    {
      "cell_type": "code",
      "source": [
        "runSelect(\"select firstname, lastname, jobdesc from empl where jobdesc = 'Clerk'\")"
      ],
      "metadata": {
        "id": "rRZz9OpLxdEY",
        "outputId": "65a92b1a-ddd0-4988-c457-4c5693fdc302",
        "colab": {
          "base_uri": "https://localhost:8080/",
          "height": 143
        }
      },
      "execution_count": 16,
      "outputs": [
        {
          "output_type": "execute_result",
          "data": {
            "text/plain": [
              "<pandas.io.formats.style.Styler at 0x7894949916c0>"
            ],
            "text/html": [
              "<style type=\"text/css\">\n",
              "</style>\n",
              "<table id=\"T_15de6\" class=\"dataframe\">\n",
              "  <thead>\n",
              "    <tr>\n",
              "      <th id=\"T_15de6_level0_col0\" class=\"col_heading level0 col0\" >firstname</th>\n",
              "      <th id=\"T_15de6_level0_col1\" class=\"col_heading level0 col1\" >lastname</th>\n",
              "      <th id=\"T_15de6_level0_col2\" class=\"col_heading level0 col2\" >jobdesc</th>\n",
              "    </tr>\n",
              "  </thead>\n",
              "  <tbody>\n",
              "    <tr>\n",
              "      <td id=\"T_15de6_row0_col0\" class=\"data row0 col0\" >Madhuri</td>\n",
              "      <td id=\"T_15de6_row0_col1\" class=\"data row0 col1\" >Dikshit</td>\n",
              "      <td id=\"T_15de6_row0_col2\" class=\"data row0 col2\" >Clerk</td>\n",
              "    </tr>\n",
              "    <tr>\n",
              "      <td id=\"T_15de6_row1_col0\" class=\"data row1 col0\" >Mahender</td>\n",
              "      <td id=\"T_15de6_row1_col1\" class=\"data row1 col1\" >Dhoni</td>\n",
              "      <td id=\"T_15de6_row1_col2\" class=\"data row1 col2\" >Clerk</td>\n",
              "    </tr>\n",
              "    <tr>\n",
              "      <td id=\"T_15de6_row2_col0\" class=\"data row2 col0\" >Jagmohan</td>\n",
              "      <td id=\"T_15de6_row2_col1\" class=\"data row2 col1\" >Dalmia</td>\n",
              "      <td id=\"T_15de6_row2_col2\" class=\"data row2 col2\" >Clerk</td>\n",
              "    </tr>\n",
              "  </tbody>\n",
              "</table>\n"
            ]
          },
          "metadata": {},
          "execution_count": 16
        }
      ]
    },
    {
      "cell_type": "code",
      "source": [
        "runSelect(\"select firstname, lastname, jobdesc from empl where jobdesc != 'Clerk'\")"
      ],
      "metadata": {
        "id": "3cl0ISR9yG-I",
        "outputId": "f199dd33-0b46-46aa-d3eb-759947a8d9ed",
        "colab": {
          "base_uri": "https://localhost:8080/",
          "height": 363
        }
      },
      "execution_count": 17,
      "outputs": [
        {
          "output_type": "execute_result",
          "data": {
            "text/plain": [
              "<pandas.io.formats.style.Styler at 0x7894949923b0>"
            ],
            "text/html": [
              "<style type=\"text/css\">\n",
              "</style>\n",
              "<table id=\"T_78735\" class=\"dataframe\">\n",
              "  <thead>\n",
              "    <tr>\n",
              "      <th id=\"T_78735_level0_col0\" class=\"col_heading level0 col0\" >firstname</th>\n",
              "      <th id=\"T_78735_level0_col1\" class=\"col_heading level0 col1\" >lastname</th>\n",
              "      <th id=\"T_78735_level0_col2\" class=\"col_heading level0 col2\" >jobdesc</th>\n",
              "    </tr>\n",
              "  </thead>\n",
              "  <tbody>\n",
              "    <tr>\n",
              "      <td id=\"T_78735_row0_col0\" class=\"data row0 col0\" >Amitabh</td>\n",
              "      <td id=\"T_78735_row0_col1\" class=\"data row0 col1\" >Bacchan</td>\n",
              "      <td id=\"T_78735_row0_col2\" class=\"data row0 col2\" >Executive</td>\n",
              "    </tr>\n",
              "    <tr>\n",
              "      <td id=\"T_78735_row1_col0\" class=\"data row1 col0\" >Rani</td>\n",
              "      <td id=\"T_78735_row1_col1\" class=\"data row1 col1\" >Mukherjee</td>\n",
              "      <td id=\"T_78735_row1_col2\" class=\"data row1 col2\" >Manager</td>\n",
              "    </tr>\n",
              "    <tr>\n",
              "      <td id=\"T_78735_row2_col0\" class=\"data row2 col0\" >Shahrukh</td>\n",
              "      <td id=\"T_78735_row2_col1\" class=\"data row2 col1\" >Khan</td>\n",
              "      <td id=\"T_78735_row2_col2\" class=\"data row2 col2\" >Manager</td>\n",
              "    </tr>\n",
              "    <tr>\n",
              "      <td id=\"T_78735_row3_col0\" class=\"data row3 col0\" >Virender</td>\n",
              "      <td id=\"T_78735_row3_col1\" class=\"data row3 col1\" >Sehwag</td>\n",
              "      <td id=\"T_78735_row3_col2\" class=\"data row3 col2\" >Cus_Rep</td>\n",
              "    </tr>\n",
              "    <tr>\n",
              "      <td id=\"T_78735_row4_col0\" class=\"data row4 col0\" >Rahul</td>\n",
              "      <td id=\"T_78735_row4_col1\" class=\"data row4 col1\" >Dravid</td>\n",
              "      <td id=\"T_78735_row4_col2\" class=\"data row4 col2\" >Sr Manager</td>\n",
              "    </tr>\n",
              "    <tr>\n",
              "      <td id=\"T_78735_row5_col0\" class=\"data row5 col0\" >Sourav</td>\n",
              "      <td id=\"T_78735_row5_col1\" class=\"data row5 col1\" >Ganguly</td>\n",
              "      <td id=\"T_78735_row5_col2\" class=\"data row5 col2\" >Cus_Rep</td>\n",
              "    </tr>\n",
              "    <tr>\n",
              "      <td id=\"T_78735_row6_col0\" class=\"data row6 col0\" >Rekha</td>\n",
              "      <td id=\"T_78735_row6_col1\" class=\"data row6 col1\" >Ganesan</td>\n",
              "      <td id=\"T_78735_row6_col2\" class=\"data row6 col2\" >Director</td>\n",
              "    </tr>\n",
              "    <tr>\n",
              "      <td id=\"T_78735_row7_col0\" class=\"data row7 col0\" >Narayan</td>\n",
              "      <td id=\"T_78735_row7_col1\" class=\"data row7 col1\" >Karthikeyan</td>\n",
              "      <td id=\"T_78735_row7_col2\" class=\"data row7 col2\" >Secretary</td>\n",
              "    </tr>\n",
              "    <tr>\n",
              "      <td id=\"T_78735_row8_col0\" class=\"data row8 col0\" >Chettri</td>\n",
              "      <td id=\"T_78735_row8_col1\" class=\"data row8 col1\" >Sunil</td>\n",
              "      <td id=\"T_78735_row8_col2\" class=\"data row8 col2\" >Dy Manager</td>\n",
              "    </tr>\n",
              "    <tr>\n",
              "      <td id=\"T_78735_row9_col0\" class=\"data row9 col0\" >Sania</td>\n",
              "      <td id=\"T_78735_row9_col1\" class=\"data row9 col1\" >Mirza</td>\n",
              "      <td id=\"T_78735_row9_col2\" class=\"data row9 col2\" >Cus_Rep</td>\n",
              "    </tr>\n",
              "  </tbody>\n",
              "</table>\n"
            ]
          },
          "metadata": {},
          "execution_count": 17
        }
      ]
    },
    {
      "cell_type": "code",
      "source": [
        "runSelect(\"select firstname, lastname, salary from empl where salary > 35000\")"
      ],
      "metadata": {
        "id": "obIPpNbDyT4S",
        "outputId": "9315d6e5-d7d2-4c75-be59-c6ea363de66e",
        "colab": {
          "base_uri": "https://localhost:8080/",
          "height": 206
        }
      },
      "execution_count": 18,
      "outputs": [
        {
          "output_type": "execute_result",
          "data": {
            "text/plain": [
              "<pandas.io.formats.style.Styler at 0x78949495ba60>"
            ],
            "text/html": [
              "<style type=\"text/css\">\n",
              "</style>\n",
              "<table id=\"T_4d002\" class=\"dataframe\">\n",
              "  <thead>\n",
              "    <tr>\n",
              "      <th id=\"T_4d002_level0_col0\" class=\"col_heading level0 col0\" >firstname</th>\n",
              "      <th id=\"T_4d002_level0_col1\" class=\"col_heading level0 col1\" >lastname</th>\n",
              "      <th id=\"T_4d002_level0_col2\" class=\"col_heading level0 col2\" >salary</th>\n",
              "    </tr>\n",
              "  </thead>\n",
              "  <tbody>\n",
              "    <tr>\n",
              "      <td id=\"T_4d002_row0_col0\" class=\"data row0 col0\" >Amitabh</td>\n",
              "      <td id=\"T_4d002_row0_col1\" class=\"data row0 col1\" >Bacchan</td>\n",
              "      <td id=\"T_4d002_row0_col2\" class=\"data row0 col2\" >50000</td>\n",
              "    </tr>\n",
              "    <tr>\n",
              "      <td id=\"T_4d002_row1_col0\" class=\"data row1 col0\" >Rahul</td>\n",
              "      <td id=\"T_4d002_row1_col1\" class=\"data row1 col1\" >Dravid</td>\n",
              "      <td id=\"T_4d002_row1_col2\" class=\"data row1 col2\" >40000</td>\n",
              "    </tr>\n",
              "    <tr>\n",
              "      <td id=\"T_4d002_row2_col0\" class=\"data row2 col0\" >Rekha</td>\n",
              "      <td id=\"T_4d002_row2_col1\" class=\"data row2 col1\" >Ganesan</td>\n",
              "      <td id=\"T_4d002_row2_col2\" class=\"data row2 col2\" >60000</td>\n",
              "    </tr>\n",
              "    <tr>\n",
              "      <td id=\"T_4d002_row3_col0\" class=\"data row3 col0\" >Narayan</td>\n",
              "      <td id=\"T_4d002_row3_col1\" class=\"data row3 col1\" >Karthikeyan</td>\n",
              "      <td id=\"T_4d002_row3_col2\" class=\"data row3 col2\" >40000</td>\n",
              "    </tr>\n",
              "    <tr>\n",
              "      <td id=\"T_4d002_row4_col0\" class=\"data row4 col0\" >Chettri</td>\n",
              "      <td id=\"T_4d002_row4_col1\" class=\"data row4 col1\" >Sunil</td>\n",
              "      <td id=\"T_4d002_row4_col2\" class=\"data row4 col2\" >40000</td>\n",
              "    </tr>\n",
              "  </tbody>\n",
              "</table>\n"
            ]
          },
          "metadata": {},
          "execution_count": 18
        }
      ]
    },
    {
      "cell_type": "code",
      "source": [
        "runSelect(\"select firstname, lastname, salary, joindate from empl where joindate < '2002-01-01'\")"
      ],
      "metadata": {
        "colab": {
          "base_uri": "https://localhost:8080/",
          "height": 143
        },
        "id": "hnIvgy_dMvQl",
        "outputId": "1b15054e-2777-4008-f866-167e72c96d94"
      },
      "execution_count": 19,
      "outputs": [
        {
          "output_type": "execute_result",
          "data": {
            "text/plain": [
              "<pandas.io.formats.style.Styler at 0x789494991e40>"
            ],
            "text/html": [
              "<style type=\"text/css\">\n",
              "</style>\n",
              "<table id=\"T_1a14b\" class=\"dataframe\">\n",
              "  <thead>\n",
              "    <tr>\n",
              "      <th id=\"T_1a14b_level0_col0\" class=\"col_heading level0 col0\" >firstname</th>\n",
              "      <th id=\"T_1a14b_level0_col1\" class=\"col_heading level0 col1\" >lastname</th>\n",
              "      <th id=\"T_1a14b_level0_col2\" class=\"col_heading level0 col2\" >salary</th>\n",
              "      <th id=\"T_1a14b_level0_col3\" class=\"col_heading level0 col3\" >joindate</th>\n",
              "    </tr>\n",
              "  </thead>\n",
              "  <tbody>\n",
              "    <tr>\n",
              "      <td id=\"T_1a14b_row0_col0\" class=\"data row0 col0\" >Rahul</td>\n",
              "      <td id=\"T_1a14b_row0_col1\" class=\"data row0 col1\" >Dravid</td>\n",
              "      <td id=\"T_1a14b_row0_col2\" class=\"data row0 col2\" >40000</td>\n",
              "      <td id=\"T_1a14b_row0_col3\" class=\"data row0 col3\" >2000-06-04</td>\n",
              "    </tr>\n",
              "    <tr>\n",
              "      <td id=\"T_1a14b_row1_col0\" class=\"data row1 col0\" >Jagmohan</td>\n",
              "      <td id=\"T_1a14b_row1_col1\" class=\"data row1 col1\" >Dalmia</td>\n",
              "      <td id=\"T_1a14b_row1_col2\" class=\"data row1 col2\" >12000</td>\n",
              "      <td id=\"T_1a14b_row1_col3\" class=\"data row1 col3\" >2001-07-01</td>\n",
              "    </tr>\n",
              "    <tr>\n",
              "      <td id=\"T_1a14b_row2_col0\" class=\"data row2 col0\" >Sania</td>\n",
              "      <td id=\"T_1a14b_row2_col1\" class=\"data row2 col1\" >Mirza</td>\n",
              "      <td id=\"T_1a14b_row2_col2\" class=\"data row2 col2\" >25000</td>\n",
              "      <td id=\"T_1a14b_row2_col3\" class=\"data row2 col3\" >2001-11-19</td>\n",
              "    </tr>\n",
              "  </tbody>\n",
              "</table>\n"
            ]
          },
          "metadata": {},
          "execution_count": 19
        }
      ]
    },
    {
      "cell_type": "markdown",
      "source": [
        "## Like"
      ],
      "metadata": {
        "id": "77DkYhfhU1lJ"
      }
    },
    {
      "cell_type": "code",
      "source": [
        "runSelect(\"select firstname, lastname, salary from empl where lastname like 'D%'\")"
      ],
      "metadata": {
        "colab": {
          "base_uri": "https://localhost:8080/",
          "height": 175
        },
        "id": "PBsdla2eVv1K",
        "outputId": "69fe62a0-ba50-4921-ceaa-31ad61206ab8"
      },
      "execution_count": 20,
      "outputs": [
        {
          "output_type": "execute_result",
          "data": {
            "text/plain": [
              "<pandas.io.formats.style.Styler at 0x789494992680>"
            ],
            "text/html": [
              "<style type=\"text/css\">\n",
              "</style>\n",
              "<table id=\"T_3f4b9\" class=\"dataframe\">\n",
              "  <thead>\n",
              "    <tr>\n",
              "      <th id=\"T_3f4b9_level0_col0\" class=\"col_heading level0 col0\" >firstname</th>\n",
              "      <th id=\"T_3f4b9_level0_col1\" class=\"col_heading level0 col1\" >lastname</th>\n",
              "      <th id=\"T_3f4b9_level0_col2\" class=\"col_heading level0 col2\" >salary</th>\n",
              "    </tr>\n",
              "  </thead>\n",
              "  <tbody>\n",
              "    <tr>\n",
              "      <td id=\"T_3f4b9_row0_col0\" class=\"data row0 col0\" >Madhuri</td>\n",
              "      <td id=\"T_3f4b9_row0_col1\" class=\"data row0 col1\" >Dikshit</td>\n",
              "      <td id=\"T_3f4b9_row0_col2\" class=\"data row0 col2\" >10000</td>\n",
              "    </tr>\n",
              "    <tr>\n",
              "      <td id=\"T_3f4b9_row1_col0\" class=\"data row1 col0\" >Mahender</td>\n",
              "      <td id=\"T_3f4b9_row1_col1\" class=\"data row1 col1\" >Dhoni</td>\n",
              "      <td id=\"T_3f4b9_row1_col2\" class=\"data row1 col2\" >9000</td>\n",
              "    </tr>\n",
              "    <tr>\n",
              "      <td id=\"T_3f4b9_row2_col0\" class=\"data row2 col0\" >Rahul</td>\n",
              "      <td id=\"T_3f4b9_row2_col1\" class=\"data row2 col1\" >Dravid</td>\n",
              "      <td id=\"T_3f4b9_row2_col2\" class=\"data row2 col2\" >40000</td>\n",
              "    </tr>\n",
              "    <tr>\n",
              "      <td id=\"T_3f4b9_row3_col0\" class=\"data row3 col0\" >Jagmohan</td>\n",
              "      <td id=\"T_3f4b9_row3_col1\" class=\"data row3 col1\" >Dalmia</td>\n",
              "      <td id=\"T_3f4b9_row3_col2\" class=\"data row3 col2\" >12000</td>\n",
              "    </tr>\n",
              "  </tbody>\n",
              "</table>\n"
            ]
          },
          "metadata": {},
          "execution_count": 20
        }
      ]
    },
    {
      "cell_type": "code",
      "source": [
        "runSelect(\"select firstname, lastname, joindate from empl where lastname like '____i_'\")"
      ],
      "metadata": {
        "colab": {
          "base_uri": "https://localhost:8080/",
          "height": 112
        },
        "id": "xxImEDlKbm4U",
        "outputId": "60cb4651-b368-4251-9b5a-6506ca074055"
      },
      "execution_count": 21,
      "outputs": [
        {
          "output_type": "execute_result",
          "data": {
            "text/plain": [
              "<pandas.io.formats.style.Styler at 0x789494993a30>"
            ],
            "text/html": [
              "<style type=\"text/css\">\n",
              "</style>\n",
              "<table id=\"T_32a8d\" class=\"dataframe\">\n",
              "  <thead>\n",
              "    <tr>\n",
              "      <th id=\"T_32a8d_level0_col0\" class=\"col_heading level0 col0\" >firstname</th>\n",
              "      <th id=\"T_32a8d_level0_col1\" class=\"col_heading level0 col1\" >lastname</th>\n",
              "      <th id=\"T_32a8d_level0_col2\" class=\"col_heading level0 col2\" >joindate</th>\n",
              "    </tr>\n",
              "  </thead>\n",
              "  <tbody>\n",
              "    <tr>\n",
              "      <td id=\"T_32a8d_row0_col0\" class=\"data row0 col0\" >Rahul</td>\n",
              "      <td id=\"T_32a8d_row0_col1\" class=\"data row0 col1\" >Dravid</td>\n",
              "      <td id=\"T_32a8d_row0_col2\" class=\"data row0 col2\" >2000-06-04</td>\n",
              "    </tr>\n",
              "    <tr>\n",
              "      <td id=\"T_32a8d_row1_col0\" class=\"data row1 col0\" >Jagmohan</td>\n",
              "      <td id=\"T_32a8d_row1_col1\" class=\"data row1 col1\" >Dalmia</td>\n",
              "      <td id=\"T_32a8d_row1_col2\" class=\"data row1 col2\" >2001-07-01</td>\n",
              "    </tr>\n",
              "  </tbody>\n",
              "</table>\n"
            ]
          },
          "metadata": {},
          "execution_count": 21
        }
      ]
    },
    {
      "cell_type": "code",
      "source": [
        "runSelect(\"select firstname, lastname, jobdesc from empl where lastname like '____i%'\")"
      ],
      "metadata": {
        "colab": {
          "base_uri": "https://localhost:8080/",
          "height": 143
        },
        "id": "pL7VPLo4b2g3",
        "outputId": "de2f5892-73ac-4cc8-9f91-098ccc626049"
      },
      "execution_count": 22,
      "outputs": [
        {
          "output_type": "execute_result",
          "data": {
            "text/plain": [
              "<pandas.io.formats.style.Styler at 0x789494991300>"
            ],
            "text/html": [
              "<style type=\"text/css\">\n",
              "</style>\n",
              "<table id=\"T_b2d88\" class=\"dataframe\">\n",
              "  <thead>\n",
              "    <tr>\n",
              "      <th id=\"T_b2d88_level0_col0\" class=\"col_heading level0 col0\" >firstname</th>\n",
              "      <th id=\"T_b2d88_level0_col1\" class=\"col_heading level0 col1\" >lastname</th>\n",
              "      <th id=\"T_b2d88_level0_col2\" class=\"col_heading level0 col2\" >jobdesc</th>\n",
              "    </tr>\n",
              "  </thead>\n",
              "  <tbody>\n",
              "    <tr>\n",
              "      <td id=\"T_b2d88_row0_col0\" class=\"data row0 col0\" >Mahender</td>\n",
              "      <td id=\"T_b2d88_row0_col1\" class=\"data row0 col1\" >Dhoni</td>\n",
              "      <td id=\"T_b2d88_row0_col2\" class=\"data row0 col2\" >Clerk</td>\n",
              "    </tr>\n",
              "    <tr>\n",
              "      <td id=\"T_b2d88_row1_col0\" class=\"data row1 col0\" >Rahul</td>\n",
              "      <td id=\"T_b2d88_row1_col1\" class=\"data row1 col1\" >Dravid</td>\n",
              "      <td id=\"T_b2d88_row1_col2\" class=\"data row1 col2\" >Sr Manager</td>\n",
              "    </tr>\n",
              "    <tr>\n",
              "      <td id=\"T_b2d88_row2_col0\" class=\"data row2 col0\" >Jagmohan</td>\n",
              "      <td id=\"T_b2d88_row2_col1\" class=\"data row2 col1\" >Dalmia</td>\n",
              "      <td id=\"T_b2d88_row2_col2\" class=\"data row2 col2\" >Clerk</td>\n",
              "    </tr>\n",
              "  </tbody>\n",
              "</table>\n"
            ]
          },
          "metadata": {},
          "execution_count": 22
        }
      ]
    },
    {
      "cell_type": "markdown",
      "source": [
        "## Between"
      ],
      "metadata": {
        "id": "qw2h8Vtvey2R"
      }
    },
    {
      "cell_type": "code",
      "source": [
        "runSelect(\"select firstname, lastname, salary from empl where salary between 10000 and 20000\")"
      ],
      "metadata": {
        "colab": {
          "base_uri": "https://localhost:8080/",
          "height": 175
        },
        "id": "sI_qlRdXe7S8",
        "outputId": "deff2c72-fc57-433f-e231-619f8d6bdb24"
      },
      "execution_count": 23,
      "outputs": [
        {
          "output_type": "execute_result",
          "data": {
            "text/plain": [
              "<pandas.io.formats.style.Styler at 0x7894bf2cd690>"
            ],
            "text/html": [
              "<style type=\"text/css\">\n",
              "</style>\n",
              "<table id=\"T_2dc19\" class=\"dataframe\">\n",
              "  <thead>\n",
              "    <tr>\n",
              "      <th id=\"T_2dc19_level0_col0\" class=\"col_heading level0 col0\" >firstname</th>\n",
              "      <th id=\"T_2dc19_level0_col1\" class=\"col_heading level0 col1\" >lastname</th>\n",
              "      <th id=\"T_2dc19_level0_col2\" class=\"col_heading level0 col2\" >salary</th>\n",
              "    </tr>\n",
              "  </thead>\n",
              "  <tbody>\n",
              "    <tr>\n",
              "      <td id=\"T_2dc19_row0_col0\" class=\"data row0 col0\" >Madhuri</td>\n",
              "      <td id=\"T_2dc19_row0_col1\" class=\"data row0 col1\" >Dikshit</td>\n",
              "      <td id=\"T_2dc19_row0_col2\" class=\"data row0 col2\" >10000</td>\n",
              "    </tr>\n",
              "    <tr>\n",
              "      <td id=\"T_2dc19_row1_col0\" class=\"data row1 col0\" >Virender</td>\n",
              "      <td id=\"T_2dc19_row1_col1\" class=\"data row1 col1\" >Sehwag</td>\n",
              "      <td id=\"T_2dc19_row1_col2\" class=\"data row1 col2\" >15000</td>\n",
              "    </tr>\n",
              "    <tr>\n",
              "      <td id=\"T_2dc19_row2_col0\" class=\"data row2 col0\" >Jagmohan</td>\n",
              "      <td id=\"T_2dc19_row2_col1\" class=\"data row2 col1\" >Dalmia</td>\n",
              "      <td id=\"T_2dc19_row2_col2\" class=\"data row2 col2\" >12000</td>\n",
              "    </tr>\n",
              "    <tr>\n",
              "      <td id=\"T_2dc19_row3_col0\" class=\"data row3 col0\" >Sourav</td>\n",
              "      <td id=\"T_2dc19_row3_col1\" class=\"data row3 col1\" >Ganguly</td>\n",
              "      <td id=\"T_2dc19_row3_col2\" class=\"data row3 col2\" >20000</td>\n",
              "    </tr>\n",
              "  </tbody>\n",
              "</table>\n"
            ]
          },
          "metadata": {},
          "execution_count": 23
        }
      ]
    },
    {
      "cell_type": "code",
      "source": [
        "runSelect(\"select firstname, lastname, joindate from empl where joindate between '2004-01-01' and '2005-01-01'\")"
      ],
      "metadata": {
        "colab": {
          "base_uri": "https://localhost:8080/",
          "height": 112
        },
        "id": "b_mWyFTnfIEy",
        "outputId": "30ddf77f-9ef1-4612-edfc-a4f3d2f74887"
      },
      "execution_count": 24,
      "outputs": [
        {
          "output_type": "execute_result",
          "data": {
            "text/plain": [
              "<pandas.io.formats.style.Styler at 0x78949495afb0>"
            ],
            "text/html": [
              "<style type=\"text/css\">\n",
              "</style>\n",
              "<table id=\"T_55c30\" class=\"dataframe\">\n",
              "  <thead>\n",
              "    <tr>\n",
              "      <th id=\"T_55c30_level0_col0\" class=\"col_heading level0 col0\" >firstname</th>\n",
              "      <th id=\"T_55c30_level0_col1\" class=\"col_heading level0 col1\" >lastname</th>\n",
              "      <th id=\"T_55c30_level0_col2\" class=\"col_heading level0 col2\" >joindate</th>\n",
              "    </tr>\n",
              "  </thead>\n",
              "  <tbody>\n",
              "    <tr>\n",
              "      <td id=\"T_55c30_row0_col0\" class=\"data row0 col0\" >Shahrukh</td>\n",
              "      <td id=\"T_55c30_row0_col1\" class=\"data row0 col1\" >Khan</td>\n",
              "      <td id=\"T_55c30_row0_col2\" class=\"data row0 col2\" >2004-01-03</td>\n",
              "    </tr>\n",
              "    <tr>\n",
              "      <td id=\"T_55c30_row1_col0\" class=\"data row1 col0\" >Mahender</td>\n",
              "      <td id=\"T_55c30_row1_col1\" class=\"data row1 col1\" >Dhoni</td>\n",
              "      <td id=\"T_55c30_row1_col2\" class=\"data row1 col2\" >2004-10-09</td>\n",
              "    </tr>\n",
              "  </tbody>\n",
              "</table>\n"
            ]
          },
          "metadata": {},
          "execution_count": 24
        }
      ]
    },
    {
      "cell_type": "code",
      "source": [
        "runSelect(\"select firstname, lastname, joindate from empl where lastname between 'Dho' and 'Kha'\")"
      ],
      "metadata": {
        "colab": {
          "base_uri": "https://localhost:8080/",
          "height": 238
        },
        "id": "qXs9AeS2fwCS",
        "outputId": "8e65b940-859f-4d31-bf9f-dfd70f03cd1b"
      },
      "execution_count": 25,
      "outputs": [
        {
          "output_type": "execute_result",
          "data": {
            "text/plain": [
              "<pandas.io.formats.style.Styler at 0x789494993ee0>"
            ],
            "text/html": [
              "<style type=\"text/css\">\n",
              "</style>\n",
              "<table id=\"T_1f292\" class=\"dataframe\">\n",
              "  <thead>\n",
              "    <tr>\n",
              "      <th id=\"T_1f292_level0_col0\" class=\"col_heading level0 col0\" >firstname</th>\n",
              "      <th id=\"T_1f292_level0_col1\" class=\"col_heading level0 col1\" >lastname</th>\n",
              "      <th id=\"T_1f292_level0_col2\" class=\"col_heading level0 col2\" >joindate</th>\n",
              "    </tr>\n",
              "  </thead>\n",
              "  <tbody>\n",
              "    <tr>\n",
              "      <td id=\"T_1f292_row0_col0\" class=\"data row0 col0\" >Madhuri</td>\n",
              "      <td id=\"T_1f292_row0_col1\" class=\"data row0 col1\" >Dikshit</td>\n",
              "      <td id=\"T_1f292_row0_col2\" class=\"data row0 col2\" >2002-04-04</td>\n",
              "    </tr>\n",
              "    <tr>\n",
              "      <td id=\"T_1f292_row1_col0\" class=\"data row1 col0\" >Mahender</td>\n",
              "      <td id=\"T_1f292_row1_col1\" class=\"data row1 col1\" >Dhoni</td>\n",
              "      <td id=\"T_1f292_row1_col2\" class=\"data row1 col2\" >2004-10-09</td>\n",
              "    </tr>\n",
              "    <tr>\n",
              "      <td id=\"T_1f292_row2_col0\" class=\"data row2 col0\" >Rahul</td>\n",
              "      <td id=\"T_1f292_row2_col1\" class=\"data row2 col1\" >Dravid</td>\n",
              "      <td id=\"T_1f292_row2_col2\" class=\"data row2 col2\" >2000-06-04</td>\n",
              "    </tr>\n",
              "    <tr>\n",
              "      <td id=\"T_1f292_row3_col0\" class=\"data row3 col0\" >Sourav</td>\n",
              "      <td id=\"T_1f292_row3_col1\" class=\"data row3 col1\" >Ganguly</td>\n",
              "      <td id=\"T_1f292_row3_col2\" class=\"data row3 col2\" >2002-01-01</td>\n",
              "    </tr>\n",
              "    <tr>\n",
              "      <td id=\"T_1f292_row4_col0\" class=\"data row4 col0\" >Rekha</td>\n",
              "      <td id=\"T_1f292_row4_col1\" class=\"data row4 col1\" >Ganesan</td>\n",
              "      <td id=\"T_1f292_row4_col2\" class=\"data row4 col2\" >2002-10-10</td>\n",
              "    </tr>\n",
              "    <tr>\n",
              "      <td id=\"T_1f292_row5_col0\" class=\"data row5 col0\" >Narayan</td>\n",
              "      <td id=\"T_1f292_row5_col1\" class=\"data row5 col1\" >Karthikeyan</td>\n",
              "      <td id=\"T_1f292_row5_col2\" class=\"data row5 col2\" >2005-12-04</td>\n",
              "    </tr>\n",
              "  </tbody>\n",
              "</table>\n"
            ]
          },
          "metadata": {},
          "execution_count": 25
        }
      ]
    },
    {
      "cell_type": "markdown",
      "source": [
        "## IN"
      ],
      "metadata": {
        "id": "azhy0TQLiLy-"
      }
    },
    {
      "cell_type": "code",
      "source": [
        "runSelect(\"select firstname, lastname, deptid from empl where deptid in ('30','20','70')\")"
      ],
      "metadata": {
        "colab": {
          "base_uri": "https://localhost:8080/",
          "height": 269
        },
        "id": "UyBE-FuoibSZ",
        "outputId": "e72b6ba6-61c5-414f-d24a-9e914c43cf87"
      },
      "execution_count": 26,
      "outputs": [
        {
          "output_type": "execute_result",
          "data": {
            "text/plain": [
              "<pandas.io.formats.style.Styler at 0x789494990850>"
            ],
            "text/html": [
              "<style type=\"text/css\">\n",
              "</style>\n",
              "<table id=\"T_c2953\" class=\"dataframe\">\n",
              "  <thead>\n",
              "    <tr>\n",
              "      <th id=\"T_c2953_level0_col0\" class=\"col_heading level0 col0\" >firstname</th>\n",
              "      <th id=\"T_c2953_level0_col1\" class=\"col_heading level0 col1\" >lastname</th>\n",
              "      <th id=\"T_c2953_level0_col2\" class=\"col_heading level0 col2\" >deptid</th>\n",
              "    </tr>\n",
              "  </thead>\n",
              "  <tbody>\n",
              "    <tr>\n",
              "      <td id=\"T_c2953_row0_col0\" class=\"data row0 col0\" >Madhuri</td>\n",
              "      <td id=\"T_c2953_row0_col1\" class=\"data row0 col1\" >Dikshit</td>\n",
              "      <td id=\"T_c2953_row0_col2\" class=\"data row0 col2\" >20</td>\n",
              "    </tr>\n",
              "    <tr>\n",
              "      <td id=\"T_c2953_row1_col0\" class=\"data row1 col0\" >Shahrukh</td>\n",
              "      <td id=\"T_c2953_row1_col1\" class=\"data row1 col1\" >Khan</td>\n",
              "      <td id=\"T_c2953_row1_col2\" class=\"data row1 col2\" >20</td>\n",
              "    </tr>\n",
              "    <tr>\n",
              "      <td id=\"T_c2953_row2_col0\" class=\"data row2 col0\" >Virender</td>\n",
              "      <td id=\"T_c2953_row2_col1\" class=\"data row2 col1\" >Sehwag</td>\n",
              "      <td id=\"T_c2953_row2_col2\" class=\"data row2 col2\" >20</td>\n",
              "    </tr>\n",
              "    <tr>\n",
              "      <td id=\"T_c2953_row3_col0\" class=\"data row3 col0\" >Rahul</td>\n",
              "      <td id=\"T_c2953_row3_col1\" class=\"data row3 col1\" >Dravid</td>\n",
              "      <td id=\"T_c2953_row3_col2\" class=\"data row3 col2\" >30</td>\n",
              "    </tr>\n",
              "    <tr>\n",
              "      <td id=\"T_c2953_row4_col0\" class=\"data row4 col0\" >Jagmohan</td>\n",
              "      <td id=\"T_c2953_row4_col1\" class=\"data row4 col1\" >Dalmia</td>\n",
              "      <td id=\"T_c2953_row4_col2\" class=\"data row4 col2\" >30</td>\n",
              "    </tr>\n",
              "    <tr>\n",
              "      <td id=\"T_c2953_row5_col0\" class=\"data row5 col0\" >Chettri</td>\n",
              "      <td id=\"T_c2953_row5_col1\" class=\"data row5 col1\" >Sunil</td>\n",
              "      <td id=\"T_c2953_row5_col2\" class=\"data row5 col2\" >70</td>\n",
              "    </tr>\n",
              "    <tr>\n",
              "      <td id=\"T_c2953_row6_col0\" class=\"data row6 col0\" >Sania</td>\n",
              "      <td id=\"T_c2953_row6_col1\" class=\"data row6 col1\" >Mirza</td>\n",
              "      <td id=\"T_c2953_row6_col2\" class=\"data row6 col2\" >30</td>\n",
              "    </tr>\n",
              "  </tbody>\n",
              "</table>\n"
            ]
          },
          "metadata": {},
          "execution_count": 26
        }
      ]
    },
    {
      "cell_type": "code",
      "source": [
        "runSelect(\"select firstname, lastname, salary from empl where firstname in ('Madhuri','Shahrukh','Virender')\")"
      ],
      "metadata": {
        "colab": {
          "base_uri": "https://localhost:8080/",
          "height": 143
        },
        "id": "9qTEO-OuiN3A",
        "outputId": "d38813b4-ec4b-4165-8ea6-5cb1865c3d5e"
      },
      "execution_count": 27,
      "outputs": [
        {
          "output_type": "execute_result",
          "data": {
            "text/plain": [
              "<pandas.io.formats.style.Styler at 0x789494992dd0>"
            ],
            "text/html": [
              "<style type=\"text/css\">\n",
              "</style>\n",
              "<table id=\"T_e4b78\" class=\"dataframe\">\n",
              "  <thead>\n",
              "    <tr>\n",
              "      <th id=\"T_e4b78_level0_col0\" class=\"col_heading level0 col0\" >firstname</th>\n",
              "      <th id=\"T_e4b78_level0_col1\" class=\"col_heading level0 col1\" >lastname</th>\n",
              "      <th id=\"T_e4b78_level0_col2\" class=\"col_heading level0 col2\" >salary</th>\n",
              "    </tr>\n",
              "  </thead>\n",
              "  <tbody>\n",
              "    <tr>\n",
              "      <td id=\"T_e4b78_row0_col0\" class=\"data row0 col0\" >Madhuri</td>\n",
              "      <td id=\"T_e4b78_row0_col1\" class=\"data row0 col1\" >Dikshit</td>\n",
              "      <td id=\"T_e4b78_row0_col2\" class=\"data row0 col2\" >10000</td>\n",
              "    </tr>\n",
              "    <tr>\n",
              "      <td id=\"T_e4b78_row1_col0\" class=\"data row1 col0\" >Shahrukh</td>\n",
              "      <td id=\"T_e4b78_row1_col1\" class=\"data row1 col1\" >Khan</td>\n",
              "      <td id=\"T_e4b78_row1_col2\" class=\"data row1 col2\" >30000</td>\n",
              "    </tr>\n",
              "    <tr>\n",
              "      <td id=\"T_e4b78_row2_col0\" class=\"data row2 col0\" >Virender</td>\n",
              "      <td id=\"T_e4b78_row2_col1\" class=\"data row2 col1\" >Sehwag</td>\n",
              "      <td id=\"T_e4b78_row2_col2\" class=\"data row2 col2\" >15000</td>\n",
              "    </tr>\n",
              "  </tbody>\n",
              "</table>\n"
            ]
          },
          "metadata": {},
          "execution_count": 27
        }
      ]
    },
    {
      "cell_type": "markdown",
      "source": [
        "## Order by"
      ],
      "metadata": {
        "id": "vlOCT_zAkzMb"
      }
    },
    {
      "cell_type": "code",
      "source": [
        "runSelect(\"select firstname, lastname, joindate from empl where firstname in ('Madhuri','Shahrukh','Virender') order by joindate\")"
      ],
      "metadata": {
        "colab": {
          "base_uri": "https://localhost:8080/",
          "height": 143
        },
        "id": "WidoGzLVk1in",
        "outputId": "3a1fc18e-1b4a-4b71-d027-ddf5d77ddbf6"
      },
      "execution_count": 28,
      "outputs": [
        {
          "output_type": "execute_result",
          "data": {
            "text/plain": [
              "<pandas.io.formats.style.Styler at 0x7894949938e0>"
            ],
            "text/html": [
              "<style type=\"text/css\">\n",
              "</style>\n",
              "<table id=\"T_09a0b\" class=\"dataframe\">\n",
              "  <thead>\n",
              "    <tr>\n",
              "      <th id=\"T_09a0b_level0_col0\" class=\"col_heading level0 col0\" >firstname</th>\n",
              "      <th id=\"T_09a0b_level0_col1\" class=\"col_heading level0 col1\" >lastname</th>\n",
              "      <th id=\"T_09a0b_level0_col2\" class=\"col_heading level0 col2\" >joindate</th>\n",
              "    </tr>\n",
              "  </thead>\n",
              "  <tbody>\n",
              "    <tr>\n",
              "      <td id=\"T_09a0b_row0_col0\" class=\"data row0 col0\" >Madhuri</td>\n",
              "      <td id=\"T_09a0b_row0_col1\" class=\"data row0 col1\" >Dikshit</td>\n",
              "      <td id=\"T_09a0b_row0_col2\" class=\"data row0 col2\" >2002-04-04</td>\n",
              "    </tr>\n",
              "    <tr>\n",
              "      <td id=\"T_09a0b_row1_col0\" class=\"data row1 col0\" >Shahrukh</td>\n",
              "      <td id=\"T_09a0b_row1_col1\" class=\"data row1 col1\" >Khan</td>\n",
              "      <td id=\"T_09a0b_row1_col2\" class=\"data row1 col2\" >2004-01-03</td>\n",
              "    </tr>\n",
              "    <tr>\n",
              "      <td id=\"T_09a0b_row2_col0\" class=\"data row2 col0\" >Virender</td>\n",
              "      <td id=\"T_09a0b_row2_col1\" class=\"data row2 col1\" >Sehwag</td>\n",
              "      <td id=\"T_09a0b_row2_col2\" class=\"data row2 col2\" >2005-01-02</td>\n",
              "    </tr>\n",
              "  </tbody>\n",
              "</table>\n"
            ]
          },
          "metadata": {},
          "execution_count": 28
        }
      ]
    },
    {
      "cell_type": "code",
      "source": [
        "runSelect(\"select firstname, lastname, jobdesc, salary, deptid from empl where deptid = '10' order by salary desc\")"
      ],
      "metadata": {
        "colab": {
          "base_uri": "https://localhost:8080/",
          "height": 143
        },
        "id": "Iq_7jWr-lRlO",
        "outputId": "7489d9f0-5a4c-4ea1-f6b5-e3815aa0bb28"
      },
      "execution_count": 29,
      "outputs": [
        {
          "output_type": "execute_result",
          "data": {
            "text/plain": [
              "<pandas.io.formats.style.Styler at 0x789494991c60>"
            ],
            "text/html": [
              "<style type=\"text/css\">\n",
              "</style>\n",
              "<table id=\"T_f2906\" class=\"dataframe\">\n",
              "  <thead>\n",
              "    <tr>\n",
              "      <th id=\"T_f2906_level0_col0\" class=\"col_heading level0 col0\" >firstname</th>\n",
              "      <th id=\"T_f2906_level0_col1\" class=\"col_heading level0 col1\" >lastname</th>\n",
              "      <th id=\"T_f2906_level0_col2\" class=\"col_heading level0 col2\" >jobdesc</th>\n",
              "      <th id=\"T_f2906_level0_col3\" class=\"col_heading level0 col3\" >salary</th>\n",
              "      <th id=\"T_f2906_level0_col4\" class=\"col_heading level0 col4\" >deptid</th>\n",
              "    </tr>\n",
              "  </thead>\n",
              "  <tbody>\n",
              "    <tr>\n",
              "      <td id=\"T_f2906_row0_col0\" class=\"data row0 col0\" >Rekha</td>\n",
              "      <td id=\"T_f2906_row0_col1\" class=\"data row0 col1\" >Ganesan</td>\n",
              "      <td id=\"T_f2906_row0_col2\" class=\"data row0 col2\" >Director</td>\n",
              "      <td id=\"T_f2906_row0_col3\" class=\"data row0 col3\" >60000</td>\n",
              "      <td id=\"T_f2906_row0_col4\" class=\"data row0 col4\" >10</td>\n",
              "    </tr>\n",
              "    <tr>\n",
              "      <td id=\"T_f2906_row1_col0\" class=\"data row1 col0\" >Amitabh</td>\n",
              "      <td id=\"T_f2906_row1_col1\" class=\"data row1 col1\" >Bacchan</td>\n",
              "      <td id=\"T_f2906_row1_col2\" class=\"data row1 col2\" >Executive</td>\n",
              "      <td id=\"T_f2906_row1_col3\" class=\"data row1 col3\" >50000</td>\n",
              "      <td id=\"T_f2906_row1_col4\" class=\"data row1 col4\" >10</td>\n",
              "    </tr>\n",
              "    <tr>\n",
              "      <td id=\"T_f2906_row2_col0\" class=\"data row2 col0\" >Narayan</td>\n",
              "      <td id=\"T_f2906_row2_col1\" class=\"data row2 col1\" >Karthikeyan</td>\n",
              "      <td id=\"T_f2906_row2_col2\" class=\"data row2 col2\" >Secretary</td>\n",
              "      <td id=\"T_f2906_row2_col3\" class=\"data row2 col3\" >40000</td>\n",
              "      <td id=\"T_f2906_row2_col4\" class=\"data row2 col4\" >10</td>\n",
              "    </tr>\n",
              "  </tbody>\n",
              "</table>\n"
            ]
          },
          "metadata": {},
          "execution_count": 29
        }
      ]
    },
    {
      "cell_type": "markdown",
      "source": [
        "## Logical AND | OR"
      ],
      "metadata": {
        "id": "-JDEmZtsm0o1"
      }
    },
    {
      "cell_type": "code",
      "source": [
        "runSelect(\"select lastname, jobdesc, salary, deptid from empl where deptid = '20'\")"
      ],
      "metadata": {
        "colab": {
          "base_uri": "https://localhost:8080/",
          "height": 143
        },
        "id": "rli0DBhIm54M",
        "outputId": "1b2524e5-31a2-46b7-9b21-4e9b732616b8"
      },
      "execution_count": 30,
      "outputs": [
        {
          "output_type": "execute_result",
          "data": {
            "text/plain": [
              "<pandas.io.formats.style.Styler at 0x7894947b4f10>"
            ],
            "text/html": [
              "<style type=\"text/css\">\n",
              "</style>\n",
              "<table id=\"T_32aef\" class=\"dataframe\">\n",
              "  <thead>\n",
              "    <tr>\n",
              "      <th id=\"T_32aef_level0_col0\" class=\"col_heading level0 col0\" >lastname</th>\n",
              "      <th id=\"T_32aef_level0_col1\" class=\"col_heading level0 col1\" >jobdesc</th>\n",
              "      <th id=\"T_32aef_level0_col2\" class=\"col_heading level0 col2\" >salary</th>\n",
              "      <th id=\"T_32aef_level0_col3\" class=\"col_heading level0 col3\" >deptid</th>\n",
              "    </tr>\n",
              "  </thead>\n",
              "  <tbody>\n",
              "    <tr>\n",
              "      <td id=\"T_32aef_row0_col0\" class=\"data row0 col0\" >Dikshit</td>\n",
              "      <td id=\"T_32aef_row0_col1\" class=\"data row0 col1\" >Clerk</td>\n",
              "      <td id=\"T_32aef_row0_col2\" class=\"data row0 col2\" >10000</td>\n",
              "      <td id=\"T_32aef_row0_col3\" class=\"data row0 col3\" >20</td>\n",
              "    </tr>\n",
              "    <tr>\n",
              "      <td id=\"T_32aef_row1_col0\" class=\"data row1 col0\" >Khan</td>\n",
              "      <td id=\"T_32aef_row1_col1\" class=\"data row1 col1\" >Manager</td>\n",
              "      <td id=\"T_32aef_row1_col2\" class=\"data row1 col2\" >30000</td>\n",
              "      <td id=\"T_32aef_row1_col3\" class=\"data row1 col3\" >20</td>\n",
              "    </tr>\n",
              "    <tr>\n",
              "      <td id=\"T_32aef_row2_col0\" class=\"data row2 col0\" >Sehwag</td>\n",
              "      <td id=\"T_32aef_row2_col1\" class=\"data row2 col1\" >Cus_Rep</td>\n",
              "      <td id=\"T_32aef_row2_col2\" class=\"data row2 col2\" >15000</td>\n",
              "      <td id=\"T_32aef_row2_col3\" class=\"data row2 col3\" >20</td>\n",
              "    </tr>\n",
              "  </tbody>\n",
              "</table>\n"
            ]
          },
          "metadata": {},
          "execution_count": 30
        }
      ]
    },
    {
      "cell_type": "code",
      "source": [
        "runSelect(\"select lastname, jobdesc, salary, deptid from empl where deptid = '20' and salary > 10000\")"
      ],
      "metadata": {
        "colab": {
          "base_uri": "https://localhost:8080/",
          "height": 112
        },
        "id": "wHIJoUGqnuwa",
        "outputId": "99ee9563-4d88-49a5-95ec-9ffad1cc6fa7"
      },
      "execution_count": 31,
      "outputs": [
        {
          "output_type": "execute_result",
          "data": {
            "text/plain": [
              "<pandas.io.formats.style.Styler at 0x789494990ca0>"
            ],
            "text/html": [
              "<style type=\"text/css\">\n",
              "</style>\n",
              "<table id=\"T_4d381\" class=\"dataframe\">\n",
              "  <thead>\n",
              "    <tr>\n",
              "      <th id=\"T_4d381_level0_col0\" class=\"col_heading level0 col0\" >lastname</th>\n",
              "      <th id=\"T_4d381_level0_col1\" class=\"col_heading level0 col1\" >jobdesc</th>\n",
              "      <th id=\"T_4d381_level0_col2\" class=\"col_heading level0 col2\" >salary</th>\n",
              "      <th id=\"T_4d381_level0_col3\" class=\"col_heading level0 col3\" >deptid</th>\n",
              "    </tr>\n",
              "  </thead>\n",
              "  <tbody>\n",
              "    <tr>\n",
              "      <td id=\"T_4d381_row0_col0\" class=\"data row0 col0\" >Khan</td>\n",
              "      <td id=\"T_4d381_row0_col1\" class=\"data row0 col1\" >Manager</td>\n",
              "      <td id=\"T_4d381_row0_col2\" class=\"data row0 col2\" >30000</td>\n",
              "      <td id=\"T_4d381_row0_col3\" class=\"data row0 col3\" >20</td>\n",
              "    </tr>\n",
              "    <tr>\n",
              "      <td id=\"T_4d381_row1_col0\" class=\"data row1 col0\" >Sehwag</td>\n",
              "      <td id=\"T_4d381_row1_col1\" class=\"data row1 col1\" >Cus_Rep</td>\n",
              "      <td id=\"T_4d381_row1_col2\" class=\"data row1 col2\" >15000</td>\n",
              "      <td id=\"T_4d381_row1_col3\" class=\"data row1 col3\" >20</td>\n",
              "    </tr>\n",
              "  </tbody>\n",
              "</table>\n"
            ]
          },
          "metadata": {},
          "execution_count": 31
        }
      ]
    },
    {
      "cell_type": "code",
      "source": [
        "runSelect(\"select lastname, jobdesc, salary, deptid from empl where deptid = '20' and salary > 10000 and jobdesc = 'Clerk'\")"
      ],
      "metadata": {
        "colab": {
          "base_uri": "https://localhost:8080/"
        },
        "id": "fnB8p8-EnzH2",
        "outputId": "7547b963-cbf8-4c9a-eb49-e78812fdb9b0"
      },
      "execution_count": 32,
      "outputs": [
        {
          "output_type": "stream",
          "name": "stdout",
          "text": [
            "no records found\n"
          ]
        }
      ]
    },
    {
      "cell_type": "code",
      "source": [
        "runSelect(\"select lastname, jobdesc, deptid from empl where deptid = '70'\")"
      ],
      "metadata": {
        "colab": {
          "base_uri": "https://localhost:8080/",
          "height": 81
        },
        "id": "uEKUIgOMqtLw",
        "outputId": "648e58eb-bd61-43cc-9efd-503cd40dbf3e"
      },
      "execution_count": 33,
      "outputs": [
        {
          "output_type": "execute_result",
          "data": {
            "text/plain": [
              "<pandas.io.formats.style.Styler at 0x7894947b75e0>"
            ],
            "text/html": [
              "<style type=\"text/css\">\n",
              "</style>\n",
              "<table id=\"T_4e113\" class=\"dataframe\">\n",
              "  <thead>\n",
              "    <tr>\n",
              "      <th id=\"T_4e113_level0_col0\" class=\"col_heading level0 col0\" >lastname</th>\n",
              "      <th id=\"T_4e113_level0_col1\" class=\"col_heading level0 col1\" >jobdesc</th>\n",
              "      <th id=\"T_4e113_level0_col2\" class=\"col_heading level0 col2\" >deptid</th>\n",
              "    </tr>\n",
              "  </thead>\n",
              "  <tbody>\n",
              "    <tr>\n",
              "      <td id=\"T_4e113_row0_col0\" class=\"data row0 col0\" >Sunil</td>\n",
              "      <td id=\"T_4e113_row0_col1\" class=\"data row0 col1\" >Dy Manager</td>\n",
              "      <td id=\"T_4e113_row0_col2\" class=\"data row0 col2\" >70</td>\n",
              "    </tr>\n",
              "  </tbody>\n",
              "</table>\n"
            ]
          },
          "metadata": {},
          "execution_count": 33
        }
      ]
    },
    {
      "cell_type": "code",
      "source": [
        "runSelect(\"select lastname, jobdesc, deptid from empl where deptid = '70' or jobdesc like '%Manager'\")"
      ],
      "metadata": {
        "colab": {
          "base_uri": "https://localhost:8080/",
          "height": 175
        },
        "id": "Ne0eLRV3qyTn",
        "outputId": "1e382e28-7495-4357-f242-37366695df2e"
      },
      "execution_count": 34,
      "outputs": [
        {
          "output_type": "execute_result",
          "data": {
            "text/plain": [
              "<pandas.io.formats.style.Styler at 0x7894947b6f80>"
            ],
            "text/html": [
              "<style type=\"text/css\">\n",
              "</style>\n",
              "<table id=\"T_1cbbb\" class=\"dataframe\">\n",
              "  <thead>\n",
              "    <tr>\n",
              "      <th id=\"T_1cbbb_level0_col0\" class=\"col_heading level0 col0\" >lastname</th>\n",
              "      <th id=\"T_1cbbb_level0_col1\" class=\"col_heading level0 col1\" >jobdesc</th>\n",
              "      <th id=\"T_1cbbb_level0_col2\" class=\"col_heading level0 col2\" >deptid</th>\n",
              "    </tr>\n",
              "  </thead>\n",
              "  <tbody>\n",
              "    <tr>\n",
              "      <td id=\"T_1cbbb_row0_col0\" class=\"data row0 col0\" >Mukherjee</td>\n",
              "      <td id=\"T_1cbbb_row0_col1\" class=\"data row0 col1\" >Manager</td>\n",
              "      <td id=\"T_1cbbb_row0_col2\" class=\"data row0 col2\" >40</td>\n",
              "    </tr>\n",
              "    <tr>\n",
              "      <td id=\"T_1cbbb_row1_col0\" class=\"data row1 col0\" >Khan</td>\n",
              "      <td id=\"T_1cbbb_row1_col1\" class=\"data row1 col1\" >Manager</td>\n",
              "      <td id=\"T_1cbbb_row1_col2\" class=\"data row1 col2\" >20</td>\n",
              "    </tr>\n",
              "    <tr>\n",
              "      <td id=\"T_1cbbb_row2_col0\" class=\"data row2 col0\" >Dravid</td>\n",
              "      <td id=\"T_1cbbb_row2_col1\" class=\"data row2 col1\" >Sr Manager</td>\n",
              "      <td id=\"T_1cbbb_row2_col2\" class=\"data row2 col2\" >30</td>\n",
              "    </tr>\n",
              "    <tr>\n",
              "      <td id=\"T_1cbbb_row3_col0\" class=\"data row3 col0\" >Sunil</td>\n",
              "      <td id=\"T_1cbbb_row3_col1\" class=\"data row3 col1\" >Dy Manager</td>\n",
              "      <td id=\"T_1cbbb_row3_col2\" class=\"data row3 col2\" >70</td>\n",
              "    </tr>\n",
              "  </tbody>\n",
              "</table>\n"
            ]
          },
          "metadata": {},
          "execution_count": 34
        }
      ]
    },
    {
      "cell_type": "code",
      "source": [
        "runSelect(\"select lastname, jobdesc, deptid from empl where deptid = '70' or jobdesc like '%Manager' or lastname = 'Dikshit'\")"
      ],
      "metadata": {
        "colab": {
          "base_uri": "https://localhost:8080/",
          "height": 206
        },
        "id": "aR3eNz7xq8Xo",
        "outputId": "7deef836-acae-498a-ed16-fb2ef15f4d1c"
      },
      "execution_count": 35,
      "outputs": [
        {
          "output_type": "execute_result",
          "data": {
            "text/plain": [
              "<pandas.io.formats.style.Styler at 0x7894947b7a30>"
            ],
            "text/html": [
              "<style type=\"text/css\">\n",
              "</style>\n",
              "<table id=\"T_5673f\" class=\"dataframe\">\n",
              "  <thead>\n",
              "    <tr>\n",
              "      <th id=\"T_5673f_level0_col0\" class=\"col_heading level0 col0\" >lastname</th>\n",
              "      <th id=\"T_5673f_level0_col1\" class=\"col_heading level0 col1\" >jobdesc</th>\n",
              "      <th id=\"T_5673f_level0_col2\" class=\"col_heading level0 col2\" >deptid</th>\n",
              "    </tr>\n",
              "  </thead>\n",
              "  <tbody>\n",
              "    <tr>\n",
              "      <td id=\"T_5673f_row0_col0\" class=\"data row0 col0\" >Mukherjee</td>\n",
              "      <td id=\"T_5673f_row0_col1\" class=\"data row0 col1\" >Manager</td>\n",
              "      <td id=\"T_5673f_row0_col2\" class=\"data row0 col2\" >40</td>\n",
              "    </tr>\n",
              "    <tr>\n",
              "      <td id=\"T_5673f_row1_col0\" class=\"data row1 col0\" >Dikshit</td>\n",
              "      <td id=\"T_5673f_row1_col1\" class=\"data row1 col1\" >Clerk</td>\n",
              "      <td id=\"T_5673f_row1_col2\" class=\"data row1 col2\" >20</td>\n",
              "    </tr>\n",
              "    <tr>\n",
              "      <td id=\"T_5673f_row2_col0\" class=\"data row2 col0\" >Khan</td>\n",
              "      <td id=\"T_5673f_row2_col1\" class=\"data row2 col1\" >Manager</td>\n",
              "      <td id=\"T_5673f_row2_col2\" class=\"data row2 col2\" >20</td>\n",
              "    </tr>\n",
              "    <tr>\n",
              "      <td id=\"T_5673f_row3_col0\" class=\"data row3 col0\" >Dravid</td>\n",
              "      <td id=\"T_5673f_row3_col1\" class=\"data row3 col1\" >Sr Manager</td>\n",
              "      <td id=\"T_5673f_row3_col2\" class=\"data row3 col2\" >30</td>\n",
              "    </tr>\n",
              "    <tr>\n",
              "      <td id=\"T_5673f_row4_col0\" class=\"data row4 col0\" >Sunil</td>\n",
              "      <td id=\"T_5673f_row4_col1\" class=\"data row4 col1\" >Dy Manager</td>\n",
              "      <td id=\"T_5673f_row4_col2\" class=\"data row4 col2\" >70</td>\n",
              "    </tr>\n",
              "  </tbody>\n",
              "</table>\n"
            ]
          },
          "metadata": {},
          "execution_count": 35
        }
      ]
    },
    {
      "cell_type": "code",
      "source": [
        "runSelect(\"select lastname, jobdesc, salary from empl where jobdesc = 'Cus_Rep' or jobdesc = 'Clerk' and salary < 16000\")"
      ],
      "metadata": {
        "colab": {
          "base_uri": "https://localhost:8080/",
          "height": 238
        },
        "id": "Ov0HErC0txm4",
        "outputId": "b5f57c20-a1c8-4057-f570-db6bf5880051"
      },
      "execution_count": 36,
      "outputs": [
        {
          "output_type": "execute_result",
          "data": {
            "text/plain": [
              "<pandas.io.formats.style.Styler at 0x7894947b49d0>"
            ],
            "text/html": [
              "<style type=\"text/css\">\n",
              "</style>\n",
              "<table id=\"T_a3600\" class=\"dataframe\">\n",
              "  <thead>\n",
              "    <tr>\n",
              "      <th id=\"T_a3600_level0_col0\" class=\"col_heading level0 col0\" >lastname</th>\n",
              "      <th id=\"T_a3600_level0_col1\" class=\"col_heading level0 col1\" >jobdesc</th>\n",
              "      <th id=\"T_a3600_level0_col2\" class=\"col_heading level0 col2\" >salary</th>\n",
              "    </tr>\n",
              "  </thead>\n",
              "  <tbody>\n",
              "    <tr>\n",
              "      <td id=\"T_a3600_row0_col0\" class=\"data row0 col0\" >Dikshit</td>\n",
              "      <td id=\"T_a3600_row0_col1\" class=\"data row0 col1\" >Clerk</td>\n",
              "      <td id=\"T_a3600_row0_col2\" class=\"data row0 col2\" >10000</td>\n",
              "    </tr>\n",
              "    <tr>\n",
              "      <td id=\"T_a3600_row1_col0\" class=\"data row1 col0\" >Sehwag</td>\n",
              "      <td id=\"T_a3600_row1_col1\" class=\"data row1 col1\" >Cus_Rep</td>\n",
              "      <td id=\"T_a3600_row1_col2\" class=\"data row1 col2\" >15000</td>\n",
              "    </tr>\n",
              "    <tr>\n",
              "      <td id=\"T_a3600_row2_col0\" class=\"data row2 col0\" >Dhoni</td>\n",
              "      <td id=\"T_a3600_row2_col1\" class=\"data row2 col1\" >Clerk</td>\n",
              "      <td id=\"T_a3600_row2_col2\" class=\"data row2 col2\" >9000</td>\n",
              "    </tr>\n",
              "    <tr>\n",
              "      <td id=\"T_a3600_row3_col0\" class=\"data row3 col0\" >Dalmia</td>\n",
              "      <td id=\"T_a3600_row3_col1\" class=\"data row3 col1\" >Clerk</td>\n",
              "      <td id=\"T_a3600_row3_col2\" class=\"data row3 col2\" >12000</td>\n",
              "    </tr>\n",
              "    <tr>\n",
              "      <td id=\"T_a3600_row4_col0\" class=\"data row4 col0\" >Ganguly</td>\n",
              "      <td id=\"T_a3600_row4_col1\" class=\"data row4 col1\" >Cus_Rep</td>\n",
              "      <td id=\"T_a3600_row4_col2\" class=\"data row4 col2\" >20000</td>\n",
              "    </tr>\n",
              "    <tr>\n",
              "      <td id=\"T_a3600_row5_col0\" class=\"data row5 col0\" >Mirza</td>\n",
              "      <td id=\"T_a3600_row5_col1\" class=\"data row5 col1\" >Cus_Rep</td>\n",
              "      <td id=\"T_a3600_row5_col2\" class=\"data row5 col2\" >25000</td>\n",
              "    </tr>\n",
              "  </tbody>\n",
              "</table>\n"
            ]
          },
          "metadata": {},
          "execution_count": 36
        }
      ]
    },
    {
      "cell_type": "code",
      "source": [
        "runSelect(\"select lastname, jobdesc, salary from empl where (jobdesc = 'Cus_Rep' or jobdesc = 'Clerk') and salary < 16000\")"
      ],
      "metadata": {
        "colab": {
          "base_uri": "https://localhost:8080/",
          "height": 175
        },
        "id": "g7hbzjdxuOt6",
        "outputId": "fd5c2b24-51cd-45e4-f76d-72ac46c15f59"
      },
      "execution_count": 37,
      "outputs": [
        {
          "output_type": "execute_result",
          "data": {
            "text/plain": [
              "<pandas.io.formats.style.Styler at 0x7894947b4850>"
            ],
            "text/html": [
              "<style type=\"text/css\">\n",
              "</style>\n",
              "<table id=\"T_5658f\" class=\"dataframe\">\n",
              "  <thead>\n",
              "    <tr>\n",
              "      <th id=\"T_5658f_level0_col0\" class=\"col_heading level0 col0\" >lastname</th>\n",
              "      <th id=\"T_5658f_level0_col1\" class=\"col_heading level0 col1\" >jobdesc</th>\n",
              "      <th id=\"T_5658f_level0_col2\" class=\"col_heading level0 col2\" >salary</th>\n",
              "    </tr>\n",
              "  </thead>\n",
              "  <tbody>\n",
              "    <tr>\n",
              "      <td id=\"T_5658f_row0_col0\" class=\"data row0 col0\" >Dikshit</td>\n",
              "      <td id=\"T_5658f_row0_col1\" class=\"data row0 col1\" >Clerk</td>\n",
              "      <td id=\"T_5658f_row0_col2\" class=\"data row0 col2\" >10000</td>\n",
              "    </tr>\n",
              "    <tr>\n",
              "      <td id=\"T_5658f_row1_col0\" class=\"data row1 col0\" >Sehwag</td>\n",
              "      <td id=\"T_5658f_row1_col1\" class=\"data row1 col1\" >Cus_Rep</td>\n",
              "      <td id=\"T_5658f_row1_col2\" class=\"data row1 col2\" >15000</td>\n",
              "    </tr>\n",
              "    <tr>\n",
              "      <td id=\"T_5658f_row2_col0\" class=\"data row2 col0\" >Dhoni</td>\n",
              "      <td id=\"T_5658f_row2_col1\" class=\"data row2 col1\" >Clerk</td>\n",
              "      <td id=\"T_5658f_row2_col2\" class=\"data row2 col2\" >9000</td>\n",
              "    </tr>\n",
              "    <tr>\n",
              "      <td id=\"T_5658f_row3_col0\" class=\"data row3 col0\" >Dalmia</td>\n",
              "      <td id=\"T_5658f_row3_col1\" class=\"data row3 col1\" >Clerk</td>\n",
              "      <td id=\"T_5658f_row3_col2\" class=\"data row3 col2\" >12000</td>\n",
              "    </tr>\n",
              "  </tbody>\n",
              "</table>\n"
            ]
          },
          "metadata": {},
          "execution_count": 37
        }
      ]
    },
    {
      "cell_type": "markdown",
      "source": [
        "# Single Row Functions"
      ],
      "metadata": {
        "id": "ND-8LYQcxsG2"
      }
    },
    {
      "cell_type": "code",
      "source": [
        "runSelect(\"select lastname, deptid, salary, comm, salary+salary*comm payout from empl where deptid = '20'\")"
      ],
      "metadata": {
        "colab": {
          "base_uri": "https://localhost:8080/",
          "height": 143
        },
        "id": "s71weE_hyDwf",
        "outputId": "714f6785-ff73-493f-cc7c-4ae1705edf81"
      },
      "execution_count": 38,
      "outputs": [
        {
          "output_type": "execute_result",
          "data": {
            "text/plain": [
              "<pandas.io.formats.style.Styler at 0x7894947b67d0>"
            ],
            "text/html": [
              "<style type=\"text/css\">\n",
              "</style>\n",
              "<table id=\"T_b53d7\" class=\"dataframe\">\n",
              "  <thead>\n",
              "    <tr>\n",
              "      <th id=\"T_b53d7_level0_col0\" class=\"col_heading level0 col0\" >lastname</th>\n",
              "      <th id=\"T_b53d7_level0_col1\" class=\"col_heading level0 col1\" >deptid</th>\n",
              "      <th id=\"T_b53d7_level0_col2\" class=\"col_heading level0 col2\" >salary</th>\n",
              "      <th id=\"T_b53d7_level0_col3\" class=\"col_heading level0 col3\" >comm</th>\n",
              "      <th id=\"T_b53d7_level0_col4\" class=\"col_heading level0 col4\" >payout</th>\n",
              "    </tr>\n",
              "  </thead>\n",
              "  <tbody>\n",
              "    <tr>\n",
              "      <td id=\"T_b53d7_row0_col0\" class=\"data row0 col0\" >Dikshit</td>\n",
              "      <td id=\"T_b53d7_row0_col1\" class=\"data row0 col1\" >20</td>\n",
              "      <td id=\"T_b53d7_row0_col2\" class=\"data row0 col2\" >10000</td>\n",
              "      <td id=\"T_b53d7_row0_col3\" class=\"data row0 col3\" >0.02</td>\n",
              "      <td id=\"T_b53d7_row0_col4\" class=\"data row0 col4\" >10200.00</td>\n",
              "    </tr>\n",
              "    <tr>\n",
              "      <td id=\"T_b53d7_row1_col0\" class=\"data row1 col0\" >Khan</td>\n",
              "      <td id=\"T_b53d7_row1_col1\" class=\"data row1 col1\" >20</td>\n",
              "      <td id=\"T_b53d7_row1_col2\" class=\"data row1 col2\" >30000</td>\n",
              "      <td id=\"T_b53d7_row1_col3\" class=\"data row1 col3\" >0.07</td>\n",
              "      <td id=\"T_b53d7_row1_col4\" class=\"data row1 col4\" >32100.00</td>\n",
              "    </tr>\n",
              "    <tr>\n",
              "      <td id=\"T_b53d7_row2_col0\" class=\"data row2 col0\" >Sehwag</td>\n",
              "      <td id=\"T_b53d7_row2_col1\" class=\"data row2 col1\" >20</td>\n",
              "      <td id=\"T_b53d7_row2_col2\" class=\"data row2 col2\" >15000</td>\n",
              "      <td id=\"T_b53d7_row2_col3\" class=\"data row2 col3\" >0.05</td>\n",
              "      <td id=\"T_b53d7_row2_col4\" class=\"data row2 col4\" >15750.00</td>\n",
              "    </tr>\n",
              "  </tbody>\n",
              "</table>\n"
            ]
          },
          "metadata": {},
          "execution_count": 38
        }
      ]
    },
    {
      "cell_type": "code",
      "source": [
        "runSelect(\"select lastname, firstname, deptid, substring(firstname,1,3) nick from empl where deptid = '20'\")"
      ],
      "metadata": {
        "colab": {
          "base_uri": "https://localhost:8080/",
          "height": 143
        },
        "id": "I3rkoZrYyb_P",
        "outputId": "1cd1c840-5cdb-4511-ee84-80e815667cbd"
      },
      "execution_count": 39,
      "outputs": [
        {
          "output_type": "execute_result",
          "data": {
            "text/plain": [
              "<pandas.io.formats.style.Styler at 0x789494991930>"
            ],
            "text/html": [
              "<style type=\"text/css\">\n",
              "</style>\n",
              "<table id=\"T_8bb93\" class=\"dataframe\">\n",
              "  <thead>\n",
              "    <tr>\n",
              "      <th id=\"T_8bb93_level0_col0\" class=\"col_heading level0 col0\" >lastname</th>\n",
              "      <th id=\"T_8bb93_level0_col1\" class=\"col_heading level0 col1\" >firstname</th>\n",
              "      <th id=\"T_8bb93_level0_col2\" class=\"col_heading level0 col2\" >deptid</th>\n",
              "      <th id=\"T_8bb93_level0_col3\" class=\"col_heading level0 col3\" >nick</th>\n",
              "    </tr>\n",
              "  </thead>\n",
              "  <tbody>\n",
              "    <tr>\n",
              "      <td id=\"T_8bb93_row0_col0\" class=\"data row0 col0\" >Dikshit</td>\n",
              "      <td id=\"T_8bb93_row0_col1\" class=\"data row0 col1\" >Madhuri</td>\n",
              "      <td id=\"T_8bb93_row0_col2\" class=\"data row0 col2\" >20</td>\n",
              "      <td id=\"T_8bb93_row0_col3\" class=\"data row0 col3\" >Mad</td>\n",
              "    </tr>\n",
              "    <tr>\n",
              "      <td id=\"T_8bb93_row1_col0\" class=\"data row1 col0\" >Khan</td>\n",
              "      <td id=\"T_8bb93_row1_col1\" class=\"data row1 col1\" >Shahrukh</td>\n",
              "      <td id=\"T_8bb93_row1_col2\" class=\"data row1 col2\" >20</td>\n",
              "      <td id=\"T_8bb93_row1_col3\" class=\"data row1 col3\" >Sha</td>\n",
              "    </tr>\n",
              "    <tr>\n",
              "      <td id=\"T_8bb93_row2_col0\" class=\"data row2 col0\" >Sehwag</td>\n",
              "      <td id=\"T_8bb93_row2_col1\" class=\"data row2 col1\" >Virender</td>\n",
              "      <td id=\"T_8bb93_row2_col2\" class=\"data row2 col2\" >20</td>\n",
              "      <td id=\"T_8bb93_row2_col3\" class=\"data row2 col3\" >Vir</td>\n",
              "    </tr>\n",
              "  </tbody>\n",
              "</table>\n"
            ]
          },
          "metadata": {},
          "execution_count": 39
        }
      ]
    },
    {
      "cell_type": "code",
      "source": [
        "runSelect(\"select lastname, firstname, deptid, concat('\\\"',substring(firstname,2,3),'\\\" ',lastname) nick from empl where deptid = '20'\")"
      ],
      "metadata": {
        "colab": {
          "base_uri": "https://localhost:8080/",
          "height": 143
        },
        "id": "xNQl1KpSzIQc",
        "outputId": "06d0d255-5873-4483-e31a-698cbaeebb67"
      },
      "execution_count": 40,
      "outputs": [
        {
          "output_type": "execute_result",
          "data": {
            "text/plain": [
              "<pandas.io.formats.style.Styler at 0x7894947b65c0>"
            ],
            "text/html": [
              "<style type=\"text/css\">\n",
              "</style>\n",
              "<table id=\"T_70907\" class=\"dataframe\">\n",
              "  <thead>\n",
              "    <tr>\n",
              "      <th id=\"T_70907_level0_col0\" class=\"col_heading level0 col0\" >lastname</th>\n",
              "      <th id=\"T_70907_level0_col1\" class=\"col_heading level0 col1\" >firstname</th>\n",
              "      <th id=\"T_70907_level0_col2\" class=\"col_heading level0 col2\" >deptid</th>\n",
              "      <th id=\"T_70907_level0_col3\" class=\"col_heading level0 col3\" >nick</th>\n",
              "    </tr>\n",
              "  </thead>\n",
              "  <tbody>\n",
              "    <tr>\n",
              "      <td id=\"T_70907_row0_col0\" class=\"data row0 col0\" >Dikshit</td>\n",
              "      <td id=\"T_70907_row0_col1\" class=\"data row0 col1\" >Madhuri</td>\n",
              "      <td id=\"T_70907_row0_col2\" class=\"data row0 col2\" >20</td>\n",
              "      <td id=\"T_70907_row0_col3\" class=\"data row0 col3\" >\"adh\" Dikshit</td>\n",
              "    </tr>\n",
              "    <tr>\n",
              "      <td id=\"T_70907_row1_col0\" class=\"data row1 col0\" >Khan</td>\n",
              "      <td id=\"T_70907_row1_col1\" class=\"data row1 col1\" >Shahrukh</td>\n",
              "      <td id=\"T_70907_row1_col2\" class=\"data row1 col2\" >20</td>\n",
              "      <td id=\"T_70907_row1_col3\" class=\"data row1 col3\" >\"hah\" Khan</td>\n",
              "    </tr>\n",
              "    <tr>\n",
              "      <td id=\"T_70907_row2_col0\" class=\"data row2 col0\" >Sehwag</td>\n",
              "      <td id=\"T_70907_row2_col1\" class=\"data row2 col1\" >Virender</td>\n",
              "      <td id=\"T_70907_row2_col2\" class=\"data row2 col2\" >20</td>\n",
              "      <td id=\"T_70907_row2_col3\" class=\"data row2 col3\" >\"ire\" Sehwag</td>\n",
              "    </tr>\n",
              "  </tbody>\n",
              "</table>\n"
            ]
          },
          "metadata": {},
          "execution_count": 40
        }
      ]
    },
    {
      "cell_type": "code",
      "source": [
        "runSelect(\"select LastName, Current_Date,JoinDate, to_char(JoinDate,'Day') JoinDay, to_char(JoinDate,'DD-mon-YY') JoinDate2, \\\n",
        "Current_Date-JoinDate DaysSince from Empl\")\n",
        "\n",
        "#https://blog.quest.com/exploring-postgres-date-formats-and-their-different-functions/\n"
      ],
      "metadata": {
        "id": "37Rjgkxz-BP0",
        "outputId": "d9c0fa4c-da5d-44c6-8e51-eec7048bb5e9",
        "colab": {
          "base_uri": "https://localhost:8080/",
          "height": 457
        }
      },
      "execution_count": 41,
      "outputs": [
        {
          "output_type": "execute_result",
          "data": {
            "text/plain": [
              "<pandas.io.formats.style.Styler at 0x7894947b41c0>"
            ],
            "text/html": [
              "<style type=\"text/css\">\n",
              "</style>\n",
              "<table id=\"T_58e98\" class=\"dataframe\">\n",
              "  <thead>\n",
              "    <tr>\n",
              "      <th id=\"T_58e98_level0_col0\" class=\"col_heading level0 col0\" >lastname</th>\n",
              "      <th id=\"T_58e98_level0_col1\" class=\"col_heading level0 col1\" >current_date</th>\n",
              "      <th id=\"T_58e98_level0_col2\" class=\"col_heading level0 col2\" >joindate</th>\n",
              "      <th id=\"T_58e98_level0_col3\" class=\"col_heading level0 col3\" >joinday</th>\n",
              "      <th id=\"T_58e98_level0_col4\" class=\"col_heading level0 col4\" >joindate2</th>\n",
              "      <th id=\"T_58e98_level0_col5\" class=\"col_heading level0 col5\" >dayssince</th>\n",
              "    </tr>\n",
              "  </thead>\n",
              "  <tbody>\n",
              "    <tr>\n",
              "      <td id=\"T_58e98_row0_col0\" class=\"data row0 col0\" >Bacchan</td>\n",
              "      <td id=\"T_58e98_row0_col1\" class=\"data row0 col1\" >2023-12-30</td>\n",
              "      <td id=\"T_58e98_row0_col2\" class=\"data row0 col2\" >2003-03-10</td>\n",
              "      <td id=\"T_58e98_row0_col3\" class=\"data row0 col3\" >Monday   </td>\n",
              "      <td id=\"T_58e98_row0_col4\" class=\"data row0 col4\" >10-mar-03</td>\n",
              "      <td id=\"T_58e98_row0_col5\" class=\"data row0 col5\" >7600</td>\n",
              "    </tr>\n",
              "    <tr>\n",
              "      <td id=\"T_58e98_row1_col0\" class=\"data row1 col0\" >Mukherjee</td>\n",
              "      <td id=\"T_58e98_row1_col1\" class=\"data row1 col1\" >2023-12-30</td>\n",
              "      <td id=\"T_58e98_row1_col2\" class=\"data row1 col2\" >2005-05-04</td>\n",
              "      <td id=\"T_58e98_row1_col3\" class=\"data row1 col3\" >Wednesday</td>\n",
              "      <td id=\"T_58e98_row1_col4\" class=\"data row1 col4\" >04-may-05</td>\n",
              "      <td id=\"T_58e98_row1_col5\" class=\"data row1 col5\" >6814</td>\n",
              "    </tr>\n",
              "    <tr>\n",
              "      <td id=\"T_58e98_row2_col0\" class=\"data row2 col0\" >Dikshit</td>\n",
              "      <td id=\"T_58e98_row2_col1\" class=\"data row2 col1\" >2023-12-30</td>\n",
              "      <td id=\"T_58e98_row2_col2\" class=\"data row2 col2\" >2002-04-04</td>\n",
              "      <td id=\"T_58e98_row2_col3\" class=\"data row2 col3\" >Thursday </td>\n",
              "      <td id=\"T_58e98_row2_col4\" class=\"data row2 col4\" >04-apr-02</td>\n",
              "      <td id=\"T_58e98_row2_col5\" class=\"data row2 col5\" >7940</td>\n",
              "    </tr>\n",
              "    <tr>\n",
              "      <td id=\"T_58e98_row3_col0\" class=\"data row3 col0\" >Khan</td>\n",
              "      <td id=\"T_58e98_row3_col1\" class=\"data row3 col1\" >2023-12-30</td>\n",
              "      <td id=\"T_58e98_row3_col2\" class=\"data row3 col2\" >2004-01-03</td>\n",
              "      <td id=\"T_58e98_row3_col3\" class=\"data row3 col3\" >Saturday </td>\n",
              "      <td id=\"T_58e98_row3_col4\" class=\"data row3 col4\" >03-jan-04</td>\n",
              "      <td id=\"T_58e98_row3_col5\" class=\"data row3 col5\" >7301</td>\n",
              "    </tr>\n",
              "    <tr>\n",
              "      <td id=\"T_58e98_row4_col0\" class=\"data row4 col0\" >Sehwag</td>\n",
              "      <td id=\"T_58e98_row4_col1\" class=\"data row4 col1\" >2023-12-30</td>\n",
              "      <td id=\"T_58e98_row4_col2\" class=\"data row4 col2\" >2005-01-02</td>\n",
              "      <td id=\"T_58e98_row4_col3\" class=\"data row4 col3\" >Sunday   </td>\n",
              "      <td id=\"T_58e98_row4_col4\" class=\"data row4 col4\" >02-jan-05</td>\n",
              "      <td id=\"T_58e98_row4_col5\" class=\"data row4 col5\" >6936</td>\n",
              "    </tr>\n",
              "    <tr>\n",
              "      <td id=\"T_58e98_row5_col0\" class=\"data row5 col0\" >Dhoni</td>\n",
              "      <td id=\"T_58e98_row5_col1\" class=\"data row5 col1\" >2023-12-30</td>\n",
              "      <td id=\"T_58e98_row5_col2\" class=\"data row5 col2\" >2004-10-09</td>\n",
              "      <td id=\"T_58e98_row5_col3\" class=\"data row5 col3\" >Saturday </td>\n",
              "      <td id=\"T_58e98_row5_col4\" class=\"data row5 col4\" >09-oct-04</td>\n",
              "      <td id=\"T_58e98_row5_col5\" class=\"data row5 col5\" >7021</td>\n",
              "    </tr>\n",
              "    <tr>\n",
              "      <td id=\"T_58e98_row6_col0\" class=\"data row6 col0\" >Dravid</td>\n",
              "      <td id=\"T_58e98_row6_col1\" class=\"data row6 col1\" >2023-12-30</td>\n",
              "      <td id=\"T_58e98_row6_col2\" class=\"data row6 col2\" >2000-06-04</td>\n",
              "      <td id=\"T_58e98_row6_col3\" class=\"data row6 col3\" >Sunday   </td>\n",
              "      <td id=\"T_58e98_row6_col4\" class=\"data row6 col4\" >04-jun-00</td>\n",
              "      <td id=\"T_58e98_row6_col5\" class=\"data row6 col5\" >8609</td>\n",
              "    </tr>\n",
              "    <tr>\n",
              "      <td id=\"T_58e98_row7_col0\" class=\"data row7 col0\" >Dalmia</td>\n",
              "      <td id=\"T_58e98_row7_col1\" class=\"data row7 col1\" >2023-12-30</td>\n",
              "      <td id=\"T_58e98_row7_col2\" class=\"data row7 col2\" >2001-07-01</td>\n",
              "      <td id=\"T_58e98_row7_col3\" class=\"data row7 col3\" >Sunday   </td>\n",
              "      <td id=\"T_58e98_row7_col4\" class=\"data row7 col4\" >01-jul-01</td>\n",
              "      <td id=\"T_58e98_row7_col5\" class=\"data row7 col5\" >8217</td>\n",
              "    </tr>\n",
              "    <tr>\n",
              "      <td id=\"T_58e98_row8_col0\" class=\"data row8 col0\" >Ganguly</td>\n",
              "      <td id=\"T_58e98_row8_col1\" class=\"data row8 col1\" >2023-12-30</td>\n",
              "      <td id=\"T_58e98_row8_col2\" class=\"data row8 col2\" >2002-01-01</td>\n",
              "      <td id=\"T_58e98_row8_col3\" class=\"data row8 col3\" >Tuesday  </td>\n",
              "      <td id=\"T_58e98_row8_col4\" class=\"data row8 col4\" >01-jan-02</td>\n",
              "      <td id=\"T_58e98_row8_col5\" class=\"data row8 col5\" >8033</td>\n",
              "    </tr>\n",
              "    <tr>\n",
              "      <td id=\"T_58e98_row9_col0\" class=\"data row9 col0\" >Ganesan</td>\n",
              "      <td id=\"T_58e98_row9_col1\" class=\"data row9 col1\" >2023-12-30</td>\n",
              "      <td id=\"T_58e98_row9_col2\" class=\"data row9 col2\" >2002-10-10</td>\n",
              "      <td id=\"T_58e98_row9_col3\" class=\"data row9 col3\" >Thursday </td>\n",
              "      <td id=\"T_58e98_row9_col4\" class=\"data row9 col4\" >10-oct-02</td>\n",
              "      <td id=\"T_58e98_row9_col5\" class=\"data row9 col5\" >7751</td>\n",
              "    </tr>\n",
              "    <tr>\n",
              "      <td id=\"T_58e98_row10_col0\" class=\"data row10 col0\" >Karthikeyan</td>\n",
              "      <td id=\"T_58e98_row10_col1\" class=\"data row10 col1\" >2023-12-30</td>\n",
              "      <td id=\"T_58e98_row10_col2\" class=\"data row10 col2\" >2005-12-04</td>\n",
              "      <td id=\"T_58e98_row10_col3\" class=\"data row10 col3\" >Sunday   </td>\n",
              "      <td id=\"T_58e98_row10_col4\" class=\"data row10 col4\" >04-dec-05</td>\n",
              "      <td id=\"T_58e98_row10_col5\" class=\"data row10 col5\" >6600</td>\n",
              "    </tr>\n",
              "    <tr>\n",
              "      <td id=\"T_58e98_row11_col0\" class=\"data row11 col0\" >Sunil</td>\n",
              "      <td id=\"T_58e98_row11_col1\" class=\"data row11 col1\" >2023-12-30</td>\n",
              "      <td id=\"T_58e98_row11_col2\" class=\"data row11 col2\" >2006-12-07</td>\n",
              "      <td id=\"T_58e98_row11_col3\" class=\"data row11 col3\" >Thursday </td>\n",
              "      <td id=\"T_58e98_row11_col4\" class=\"data row11 col4\" >07-dec-06</td>\n",
              "      <td id=\"T_58e98_row11_col5\" class=\"data row11 col5\" >6232</td>\n",
              "    </tr>\n",
              "    <tr>\n",
              "      <td id=\"T_58e98_row12_col0\" class=\"data row12 col0\" >Mirza</td>\n",
              "      <td id=\"T_58e98_row12_col1\" class=\"data row12 col1\" >2023-12-30</td>\n",
              "      <td id=\"T_58e98_row12_col2\" class=\"data row12 col2\" >2001-11-19</td>\n",
              "      <td id=\"T_58e98_row12_col3\" class=\"data row12 col3\" >Monday   </td>\n",
              "      <td id=\"T_58e98_row12_col4\" class=\"data row12 col4\" >19-nov-01</td>\n",
              "      <td id=\"T_58e98_row12_col5\" class=\"data row12 col5\" >8076</td>\n",
              "    </tr>\n",
              "  </tbody>\n",
              "</table>\n"
            ]
          },
          "metadata": {},
          "execution_count": 41
        }
      ]
    },
    {
      "cell_type": "markdown",
      "source": [
        "# MultiRow Function | Group By | Having"
      ],
      "metadata": {
        "id": "ONgFWUTC2IPK"
      }
    },
    {
      "cell_type": "code",
      "source": [
        "runSelect(\"select sum(salary) Total_Salary from empl\")"
      ],
      "metadata": {
        "colab": {
          "base_uri": "https://localhost:8080/",
          "height": 81
        },
        "id": "7MnnzfJx2PSc",
        "outputId": "ad612707-a303-48c7-ba5f-2e05cef1c39a"
      },
      "execution_count": 42,
      "outputs": [
        {
          "output_type": "execute_result",
          "data": {
            "text/plain": [
              "<pandas.io.formats.style.Styler at 0x7894947b5cc0>"
            ],
            "text/html": [
              "<style type=\"text/css\">\n",
              "</style>\n",
              "<table id=\"T_26702\" class=\"dataframe\">\n",
              "  <thead>\n",
              "    <tr>\n",
              "      <th id=\"T_26702_level0_col0\" class=\"col_heading level0 col0\" >total_salary</th>\n",
              "    </tr>\n",
              "  </thead>\n",
              "  <tbody>\n",
              "    <tr>\n",
              "      <td id=\"T_26702_row0_col0\" class=\"data row0 col0\" >376000</td>\n",
              "    </tr>\n",
              "  </tbody>\n",
              "</table>\n"
            ]
          },
          "metadata": {},
          "execution_count": 42
        }
      ]
    },
    {
      "cell_type": "code",
      "source": [
        "runSelect(\"select round(avg(salary),2) Average_Salary from empl\")"
      ],
      "metadata": {
        "colab": {
          "base_uri": "https://localhost:8080/",
          "height": 81
        },
        "id": "e3Avb-HL4QPD",
        "outputId": "5d083022-8935-4e38-d06b-d354c147cb4f"
      },
      "execution_count": 43,
      "outputs": [
        {
          "output_type": "execute_result",
          "data": {
            "text/plain": [
              "<pandas.io.formats.style.Styler at 0x7894947b6620>"
            ],
            "text/html": [
              "<style type=\"text/css\">\n",
              "</style>\n",
              "<table id=\"T_6dbb4\" class=\"dataframe\">\n",
              "  <thead>\n",
              "    <tr>\n",
              "      <th id=\"T_6dbb4_level0_col0\" class=\"col_heading level0 col0\" >average_salary</th>\n",
              "    </tr>\n",
              "  </thead>\n",
              "  <tbody>\n",
              "    <tr>\n",
              "      <td id=\"T_6dbb4_row0_col0\" class=\"data row0 col0\" >28923.08</td>\n",
              "    </tr>\n",
              "  </tbody>\n",
              "</table>\n"
            ]
          },
          "metadata": {},
          "execution_count": 43
        }
      ]
    },
    {
      "cell_type": "code",
      "source": [
        "runSelect(\"select max(salary) Max_Salary from empl\")"
      ],
      "metadata": {
        "colab": {
          "base_uri": "https://localhost:8080/",
          "height": 81
        },
        "id": "Oe1qRQbI4gtY",
        "outputId": "5c79f763-c2ec-42fa-9f0c-4d8d253efbf1"
      },
      "execution_count": 44,
      "outputs": [
        {
          "output_type": "execute_result",
          "data": {
            "text/plain": [
              "<pandas.io.formats.style.Styler at 0x7894947d2080>"
            ],
            "text/html": [
              "<style type=\"text/css\">\n",
              "</style>\n",
              "<table id=\"T_088ba\" class=\"dataframe\">\n",
              "  <thead>\n",
              "    <tr>\n",
              "      <th id=\"T_088ba_level0_col0\" class=\"col_heading level0 col0\" >max_salary</th>\n",
              "    </tr>\n",
              "  </thead>\n",
              "  <tbody>\n",
              "    <tr>\n",
              "      <td id=\"T_088ba_row0_col0\" class=\"data row0 col0\" >60000</td>\n",
              "    </tr>\n",
              "  </tbody>\n",
              "</table>\n"
            ]
          },
          "metadata": {},
          "execution_count": 44
        }
      ]
    },
    {
      "cell_type": "code",
      "source": [
        "runSelect(\"select deptid, sum(salary) Total, max(salary) Max from empl group by deptid\")"
      ],
      "metadata": {
        "colab": {
          "base_uri": "https://localhost:8080/",
          "height": 206
        },
        "id": "xpmGXSAX69iU",
        "outputId": "115222a3-0464-4538-e704-71771c5420ed"
      },
      "execution_count": 45,
      "outputs": [
        {
          "output_type": "execute_result",
          "data": {
            "text/plain": [
              "<pandas.io.formats.style.Styler at 0x7894947d2b00>"
            ],
            "text/html": [
              "<style type=\"text/css\">\n",
              "</style>\n",
              "<table id=\"T_af8ac\" class=\"dataframe\">\n",
              "  <thead>\n",
              "    <tr>\n",
              "      <th id=\"T_af8ac_level0_col0\" class=\"col_heading level0 col0\" >deptid</th>\n",
              "      <th id=\"T_af8ac_level0_col1\" class=\"col_heading level0 col1\" >total</th>\n",
              "      <th id=\"T_af8ac_level0_col2\" class=\"col_heading level0 col2\" >max</th>\n",
              "    </tr>\n",
              "  </thead>\n",
              "  <tbody>\n",
              "    <tr>\n",
              "      <td id=\"T_af8ac_row0_col0\" class=\"data row0 col0\" >10</td>\n",
              "      <td id=\"T_af8ac_row0_col1\" class=\"data row0 col1\" >150000</td>\n",
              "      <td id=\"T_af8ac_row0_col2\" class=\"data row0 col2\" >60000</td>\n",
              "    </tr>\n",
              "    <tr>\n",
              "      <td id=\"T_af8ac_row1_col0\" class=\"data row1 col0\" >40</td>\n",
              "      <td id=\"T_af8ac_row1_col1\" class=\"data row1 col1\" >54000</td>\n",
              "      <td id=\"T_af8ac_row1_col2\" class=\"data row1 col2\" >25000</td>\n",
              "    </tr>\n",
              "    <tr>\n",
              "      <td id=\"T_af8ac_row2_col0\" class=\"data row2 col0\" >70</td>\n",
              "      <td id=\"T_af8ac_row2_col1\" class=\"data row2 col1\" >40000</td>\n",
              "      <td id=\"T_af8ac_row2_col2\" class=\"data row2 col2\" >40000</td>\n",
              "    </tr>\n",
              "    <tr>\n",
              "      <td id=\"T_af8ac_row3_col0\" class=\"data row3 col0\" >20</td>\n",
              "      <td id=\"T_af8ac_row3_col1\" class=\"data row3 col1\" >55000</td>\n",
              "      <td id=\"T_af8ac_row3_col2\" class=\"data row3 col2\" >30000</td>\n",
              "    </tr>\n",
              "    <tr>\n",
              "      <td id=\"T_af8ac_row4_col0\" class=\"data row4 col0\" >30</td>\n",
              "      <td id=\"T_af8ac_row4_col1\" class=\"data row4 col1\" >77000</td>\n",
              "      <td id=\"T_af8ac_row4_col2\" class=\"data row4 col2\" >40000</td>\n",
              "    </tr>\n",
              "  </tbody>\n",
              "</table>\n"
            ]
          },
          "metadata": {},
          "execution_count": 45
        }
      ]
    },
    {
      "cell_type": "code",
      "source": [
        "runSelect(\"select deptid, sum(salary) Total, max(salary) Max from empl group by deptid having sum(salary) > 50000\")"
      ],
      "metadata": {
        "colab": {
          "base_uri": "https://localhost:8080/",
          "height": 175
        },
        "id": "AdNDutZl7LCF",
        "outputId": "6afbb089-6d9f-4bc2-f93a-fc7576103028"
      },
      "execution_count": 46,
      "outputs": [
        {
          "output_type": "execute_result",
          "data": {
            "text/plain": [
              "<pandas.io.formats.style.Styler at 0x7894947d0130>"
            ],
            "text/html": [
              "<style type=\"text/css\">\n",
              "</style>\n",
              "<table id=\"T_f8ae5\" class=\"dataframe\">\n",
              "  <thead>\n",
              "    <tr>\n",
              "      <th id=\"T_f8ae5_level0_col0\" class=\"col_heading level0 col0\" >deptid</th>\n",
              "      <th id=\"T_f8ae5_level0_col1\" class=\"col_heading level0 col1\" >total</th>\n",
              "      <th id=\"T_f8ae5_level0_col2\" class=\"col_heading level0 col2\" >max</th>\n",
              "    </tr>\n",
              "  </thead>\n",
              "  <tbody>\n",
              "    <tr>\n",
              "      <td id=\"T_f8ae5_row0_col0\" class=\"data row0 col0\" >10</td>\n",
              "      <td id=\"T_f8ae5_row0_col1\" class=\"data row0 col1\" >150000</td>\n",
              "      <td id=\"T_f8ae5_row0_col2\" class=\"data row0 col2\" >60000</td>\n",
              "    </tr>\n",
              "    <tr>\n",
              "      <td id=\"T_f8ae5_row1_col0\" class=\"data row1 col0\" >40</td>\n",
              "      <td id=\"T_f8ae5_row1_col1\" class=\"data row1 col1\" >54000</td>\n",
              "      <td id=\"T_f8ae5_row1_col2\" class=\"data row1 col2\" >25000</td>\n",
              "    </tr>\n",
              "    <tr>\n",
              "      <td id=\"T_f8ae5_row2_col0\" class=\"data row2 col0\" >20</td>\n",
              "      <td id=\"T_f8ae5_row2_col1\" class=\"data row2 col1\" >55000</td>\n",
              "      <td id=\"T_f8ae5_row2_col2\" class=\"data row2 col2\" >30000</td>\n",
              "    </tr>\n",
              "    <tr>\n",
              "      <td id=\"T_f8ae5_row3_col0\" class=\"data row3 col0\" >30</td>\n",
              "      <td id=\"T_f8ae5_row3_col1\" class=\"data row3 col1\" >77000</td>\n",
              "      <td id=\"T_f8ae5_row3_col2\" class=\"data row3 col2\" >40000</td>\n",
              "    </tr>\n",
              "  </tbody>\n",
              "</table>\n"
            ]
          },
          "metadata": {},
          "execution_count": 46
        }
      ]
    },
    {
      "cell_type": "code",
      "source": [
        "runSelect(\"select deptid, sum(salary) Total, max(salary) Max from empl group by deptid having sum(salary) > 50000 and max(salary) < 35000\")"
      ],
      "metadata": {
        "colab": {
          "base_uri": "https://localhost:8080/",
          "height": 112
        },
        "id": "4VFmL5JF7bYo",
        "outputId": "64fbeadb-e3ae-4015-8dd2-70d7b6c98b6d"
      },
      "execution_count": 47,
      "outputs": [
        {
          "output_type": "execute_result",
          "data": {
            "text/plain": [
              "<pandas.io.formats.style.Styler at 0x7894947d1000>"
            ],
            "text/html": [
              "<style type=\"text/css\">\n",
              "</style>\n",
              "<table id=\"T_c6449\" class=\"dataframe\">\n",
              "  <thead>\n",
              "    <tr>\n",
              "      <th id=\"T_c6449_level0_col0\" class=\"col_heading level0 col0\" >deptid</th>\n",
              "      <th id=\"T_c6449_level0_col1\" class=\"col_heading level0 col1\" >total</th>\n",
              "      <th id=\"T_c6449_level0_col2\" class=\"col_heading level0 col2\" >max</th>\n",
              "    </tr>\n",
              "  </thead>\n",
              "  <tbody>\n",
              "    <tr>\n",
              "      <td id=\"T_c6449_row0_col0\" class=\"data row0 col0\" >40</td>\n",
              "      <td id=\"T_c6449_row0_col1\" class=\"data row0 col1\" >54000</td>\n",
              "      <td id=\"T_c6449_row0_col2\" class=\"data row0 col2\" >25000</td>\n",
              "    </tr>\n",
              "    <tr>\n",
              "      <td id=\"T_c6449_row1_col0\" class=\"data row1 col0\" >20</td>\n",
              "      <td id=\"T_c6449_row1_col1\" class=\"data row1 col1\" >55000</td>\n",
              "      <td id=\"T_c6449_row1_col2\" class=\"data row1 col2\" >30000</td>\n",
              "    </tr>\n",
              "  </tbody>\n",
              "</table>\n"
            ]
          },
          "metadata": {},
          "execution_count": 47
        }
      ]
    },
    {
      "cell_type": "markdown",
      "source": [
        "#Conditionals | CASE"
      ],
      "metadata": {
        "id": "xDsapsK8Afpj"
      }
    },
    {
      "cell_type": "code",
      "source": [
        "runSelect(\"select lastname, jobdesc, salary, comm, salary+salary*comm Payout,\\\n",
        "case when jobdesc like '%Manager' then 2000 else 0 end bonus from empl\")"
      ],
      "metadata": {
        "colab": {
          "base_uri": "https://localhost:8080/",
          "height": 457
        },
        "id": "bYRWDlVNAxKx",
        "outputId": "6aa8e40d-0634-4346-861b-727c11cda9d7"
      },
      "execution_count": 48,
      "outputs": [
        {
          "output_type": "execute_result",
          "data": {
            "text/plain": [
              "<pandas.io.formats.style.Styler at 0x7894947d0fd0>"
            ],
            "text/html": [
              "<style type=\"text/css\">\n",
              "</style>\n",
              "<table id=\"T_8610b\" class=\"dataframe\">\n",
              "  <thead>\n",
              "    <tr>\n",
              "      <th id=\"T_8610b_level0_col0\" class=\"col_heading level0 col0\" >lastname</th>\n",
              "      <th id=\"T_8610b_level0_col1\" class=\"col_heading level0 col1\" >jobdesc</th>\n",
              "      <th id=\"T_8610b_level0_col2\" class=\"col_heading level0 col2\" >salary</th>\n",
              "      <th id=\"T_8610b_level0_col3\" class=\"col_heading level0 col3\" >comm</th>\n",
              "      <th id=\"T_8610b_level0_col4\" class=\"col_heading level0 col4\" >payout</th>\n",
              "      <th id=\"T_8610b_level0_col5\" class=\"col_heading level0 col5\" >bonus</th>\n",
              "    </tr>\n",
              "  </thead>\n",
              "  <tbody>\n",
              "    <tr>\n",
              "      <td id=\"T_8610b_row0_col0\" class=\"data row0 col0\" >Bacchan</td>\n",
              "      <td id=\"T_8610b_row0_col1\" class=\"data row0 col1\" >Executive</td>\n",
              "      <td id=\"T_8610b_row0_col2\" class=\"data row0 col2\" >50000</td>\n",
              "      <td id=\"T_8610b_row0_col3\" class=\"data row0 col3\" >0.10</td>\n",
              "      <td id=\"T_8610b_row0_col4\" class=\"data row0 col4\" >55000.00</td>\n",
              "      <td id=\"T_8610b_row0_col5\" class=\"data row0 col5\" >0</td>\n",
              "    </tr>\n",
              "    <tr>\n",
              "      <td id=\"T_8610b_row1_col0\" class=\"data row1 col0\" >Mukherjee</td>\n",
              "      <td id=\"T_8610b_row1_col1\" class=\"data row1 col1\" >Manager</td>\n",
              "      <td id=\"T_8610b_row1_col2\" class=\"data row1 col2\" >25000</td>\n",
              "      <td id=\"T_8610b_row1_col3\" class=\"data row1 col3\" >0.06</td>\n",
              "      <td id=\"T_8610b_row1_col4\" class=\"data row1 col4\" >26500.00</td>\n",
              "      <td id=\"T_8610b_row1_col5\" class=\"data row1 col5\" >2000</td>\n",
              "    </tr>\n",
              "    <tr>\n",
              "      <td id=\"T_8610b_row2_col0\" class=\"data row2 col0\" >Dikshit</td>\n",
              "      <td id=\"T_8610b_row2_col1\" class=\"data row2 col1\" >Clerk</td>\n",
              "      <td id=\"T_8610b_row2_col2\" class=\"data row2 col2\" >10000</td>\n",
              "      <td id=\"T_8610b_row2_col3\" class=\"data row2 col3\" >0.02</td>\n",
              "      <td id=\"T_8610b_row2_col4\" class=\"data row2 col4\" >10200.00</td>\n",
              "      <td id=\"T_8610b_row2_col5\" class=\"data row2 col5\" >0</td>\n",
              "    </tr>\n",
              "    <tr>\n",
              "      <td id=\"T_8610b_row3_col0\" class=\"data row3 col0\" >Khan</td>\n",
              "      <td id=\"T_8610b_row3_col1\" class=\"data row3 col1\" >Manager</td>\n",
              "      <td id=\"T_8610b_row3_col2\" class=\"data row3 col2\" >30000</td>\n",
              "      <td id=\"T_8610b_row3_col3\" class=\"data row3 col3\" >0.07</td>\n",
              "      <td id=\"T_8610b_row3_col4\" class=\"data row3 col4\" >32100.00</td>\n",
              "      <td id=\"T_8610b_row3_col5\" class=\"data row3 col5\" >2000</td>\n",
              "    </tr>\n",
              "    <tr>\n",
              "      <td id=\"T_8610b_row4_col0\" class=\"data row4 col0\" >Sehwag</td>\n",
              "      <td id=\"T_8610b_row4_col1\" class=\"data row4 col1\" >Cus_Rep</td>\n",
              "      <td id=\"T_8610b_row4_col2\" class=\"data row4 col2\" >15000</td>\n",
              "      <td id=\"T_8610b_row4_col3\" class=\"data row4 col3\" >0.05</td>\n",
              "      <td id=\"T_8610b_row4_col4\" class=\"data row4 col4\" >15750.00</td>\n",
              "      <td id=\"T_8610b_row4_col5\" class=\"data row4 col5\" >0</td>\n",
              "    </tr>\n",
              "    <tr>\n",
              "      <td id=\"T_8610b_row5_col0\" class=\"data row5 col0\" >Dhoni</td>\n",
              "      <td id=\"T_8610b_row5_col1\" class=\"data row5 col1\" >Clerk</td>\n",
              "      <td id=\"T_8610b_row5_col2\" class=\"data row5 col2\" >9000</td>\n",
              "      <td id=\"T_8610b_row5_col3\" class=\"data row5 col3\" >0.02</td>\n",
              "      <td id=\"T_8610b_row5_col4\" class=\"data row5 col4\" >9180.00</td>\n",
              "      <td id=\"T_8610b_row5_col5\" class=\"data row5 col5\" >0</td>\n",
              "    </tr>\n",
              "    <tr>\n",
              "      <td id=\"T_8610b_row6_col0\" class=\"data row6 col0\" >Dravid</td>\n",
              "      <td id=\"T_8610b_row6_col1\" class=\"data row6 col1\" >Sr Manager</td>\n",
              "      <td id=\"T_8610b_row6_col2\" class=\"data row6 col2\" >40000</td>\n",
              "      <td id=\"T_8610b_row6_col3\" class=\"data row6 col3\" >0.08</td>\n",
              "      <td id=\"T_8610b_row6_col4\" class=\"data row6 col4\" >43200.00</td>\n",
              "      <td id=\"T_8610b_row6_col5\" class=\"data row6 col5\" >2000</td>\n",
              "    </tr>\n",
              "    <tr>\n",
              "      <td id=\"T_8610b_row7_col0\" class=\"data row7 col0\" >Dalmia</td>\n",
              "      <td id=\"T_8610b_row7_col1\" class=\"data row7 col1\" >Clerk</td>\n",
              "      <td id=\"T_8610b_row7_col2\" class=\"data row7 col2\" >12000</td>\n",
              "      <td id=\"T_8610b_row7_col3\" class=\"data row7 col3\" >0.02</td>\n",
              "      <td id=\"T_8610b_row7_col4\" class=\"data row7 col4\" >12240.00</td>\n",
              "      <td id=\"T_8610b_row7_col5\" class=\"data row7 col5\" >0</td>\n",
              "    </tr>\n",
              "    <tr>\n",
              "      <td id=\"T_8610b_row8_col0\" class=\"data row8 col0\" >Ganguly</td>\n",
              "      <td id=\"T_8610b_row8_col1\" class=\"data row8 col1\" >Cus_Rep</td>\n",
              "      <td id=\"T_8610b_row8_col2\" class=\"data row8 col2\" >20000</td>\n",
              "      <td id=\"T_8610b_row8_col3\" class=\"data row8 col3\" >0.03</td>\n",
              "      <td id=\"T_8610b_row8_col4\" class=\"data row8 col4\" >20600.00</td>\n",
              "      <td id=\"T_8610b_row8_col5\" class=\"data row8 col5\" >0</td>\n",
              "    </tr>\n",
              "    <tr>\n",
              "      <td id=\"T_8610b_row9_col0\" class=\"data row9 col0\" >Ganesan</td>\n",
              "      <td id=\"T_8610b_row9_col1\" class=\"data row9 col1\" >Director</td>\n",
              "      <td id=\"T_8610b_row9_col2\" class=\"data row9 col2\" >60000</td>\n",
              "      <td id=\"T_8610b_row9_col3\" class=\"data row9 col3\" >0.11</td>\n",
              "      <td id=\"T_8610b_row9_col4\" class=\"data row9 col4\" >66600.00</td>\n",
              "      <td id=\"T_8610b_row9_col5\" class=\"data row9 col5\" >0</td>\n",
              "    </tr>\n",
              "    <tr>\n",
              "      <td id=\"T_8610b_row10_col0\" class=\"data row10 col0\" >Karthikeyan</td>\n",
              "      <td id=\"T_8610b_row10_col1\" class=\"data row10 col1\" >Secretary</td>\n",
              "      <td id=\"T_8610b_row10_col2\" class=\"data row10 col2\" >40000</td>\n",
              "      <td id=\"T_8610b_row10_col3\" class=\"data row10 col3\" >0.09</td>\n",
              "      <td id=\"T_8610b_row10_col4\" class=\"data row10 col4\" >43600.00</td>\n",
              "      <td id=\"T_8610b_row10_col5\" class=\"data row10 col5\" >0</td>\n",
              "    </tr>\n",
              "    <tr>\n",
              "      <td id=\"T_8610b_row11_col0\" class=\"data row11 col0\" >Sunil</td>\n",
              "      <td id=\"T_8610b_row11_col1\" class=\"data row11 col1\" >Dy Manager</td>\n",
              "      <td id=\"T_8610b_row11_col2\" class=\"data row11 col2\" >40000</td>\n",
              "      <td id=\"T_8610b_row11_col3\" class=\"data row11 col3\" >0.05</td>\n",
              "      <td id=\"T_8610b_row11_col4\" class=\"data row11 col4\" >42000.00</td>\n",
              "      <td id=\"T_8610b_row11_col5\" class=\"data row11 col5\" >2000</td>\n",
              "    </tr>\n",
              "    <tr>\n",
              "      <td id=\"T_8610b_row12_col0\" class=\"data row12 col0\" >Mirza</td>\n",
              "      <td id=\"T_8610b_row12_col1\" class=\"data row12 col1\" >Cus_Rep</td>\n",
              "      <td id=\"T_8610b_row12_col2\" class=\"data row12 col2\" >25000</td>\n",
              "      <td id=\"T_8610b_row12_col3\" class=\"data row12 col3\" >0.04</td>\n",
              "      <td id=\"T_8610b_row12_col4\" class=\"data row12 col4\" >26000.00</td>\n",
              "      <td id=\"T_8610b_row12_col5\" class=\"data row12 col5\" >0</td>\n",
              "    </tr>\n",
              "  </tbody>\n",
              "</table>\n"
            ]
          },
          "metadata": {},
          "execution_count": 48
        }
      ]
    },
    {
      "cell_type": "code",
      "source": [
        "runSelect(\"select lastname, deptid,\\\n",
        "case \\\n",
        "when deptid in ('10','20') then 'Head' \\\n",
        "when deptid = '30' then 'Regional'\\\n",
        "else 'Branch' \\\n",
        "end \\\n",
        " office from empl\")"
      ],
      "metadata": {
        "colab": {
          "base_uri": "https://localhost:8080/",
          "height": 457
        },
        "id": "jbpKn1y0DwYG",
        "outputId": "201643c7-4b16-4917-b321-2a2c0be3465a"
      },
      "execution_count": 49,
      "outputs": [
        {
          "output_type": "execute_result",
          "data": {
            "text/plain": [
              "<pandas.io.formats.style.Styler at 0x7894947d0190>"
            ],
            "text/html": [
              "<style type=\"text/css\">\n",
              "</style>\n",
              "<table id=\"T_f0ec6\" class=\"dataframe\">\n",
              "  <thead>\n",
              "    <tr>\n",
              "      <th id=\"T_f0ec6_level0_col0\" class=\"col_heading level0 col0\" >lastname</th>\n",
              "      <th id=\"T_f0ec6_level0_col1\" class=\"col_heading level0 col1\" >deptid</th>\n",
              "      <th id=\"T_f0ec6_level0_col2\" class=\"col_heading level0 col2\" >office</th>\n",
              "    </tr>\n",
              "  </thead>\n",
              "  <tbody>\n",
              "    <tr>\n",
              "      <td id=\"T_f0ec6_row0_col0\" class=\"data row0 col0\" >Bacchan</td>\n",
              "      <td id=\"T_f0ec6_row0_col1\" class=\"data row0 col1\" >10</td>\n",
              "      <td id=\"T_f0ec6_row0_col2\" class=\"data row0 col2\" >Head</td>\n",
              "    </tr>\n",
              "    <tr>\n",
              "      <td id=\"T_f0ec6_row1_col0\" class=\"data row1 col0\" >Mukherjee</td>\n",
              "      <td id=\"T_f0ec6_row1_col1\" class=\"data row1 col1\" >40</td>\n",
              "      <td id=\"T_f0ec6_row1_col2\" class=\"data row1 col2\" >Branch</td>\n",
              "    </tr>\n",
              "    <tr>\n",
              "      <td id=\"T_f0ec6_row2_col0\" class=\"data row2 col0\" >Dikshit</td>\n",
              "      <td id=\"T_f0ec6_row2_col1\" class=\"data row2 col1\" >20</td>\n",
              "      <td id=\"T_f0ec6_row2_col2\" class=\"data row2 col2\" >Head</td>\n",
              "    </tr>\n",
              "    <tr>\n",
              "      <td id=\"T_f0ec6_row3_col0\" class=\"data row3 col0\" >Khan</td>\n",
              "      <td id=\"T_f0ec6_row3_col1\" class=\"data row3 col1\" >20</td>\n",
              "      <td id=\"T_f0ec6_row3_col2\" class=\"data row3 col2\" >Head</td>\n",
              "    </tr>\n",
              "    <tr>\n",
              "      <td id=\"T_f0ec6_row4_col0\" class=\"data row4 col0\" >Sehwag</td>\n",
              "      <td id=\"T_f0ec6_row4_col1\" class=\"data row4 col1\" >20</td>\n",
              "      <td id=\"T_f0ec6_row4_col2\" class=\"data row4 col2\" >Head</td>\n",
              "    </tr>\n",
              "    <tr>\n",
              "      <td id=\"T_f0ec6_row5_col0\" class=\"data row5 col0\" >Dhoni</td>\n",
              "      <td id=\"T_f0ec6_row5_col1\" class=\"data row5 col1\" >40</td>\n",
              "      <td id=\"T_f0ec6_row5_col2\" class=\"data row5 col2\" >Branch</td>\n",
              "    </tr>\n",
              "    <tr>\n",
              "      <td id=\"T_f0ec6_row6_col0\" class=\"data row6 col0\" >Dravid</td>\n",
              "      <td id=\"T_f0ec6_row6_col1\" class=\"data row6 col1\" >30</td>\n",
              "      <td id=\"T_f0ec6_row6_col2\" class=\"data row6 col2\" >Regional</td>\n",
              "    </tr>\n",
              "    <tr>\n",
              "      <td id=\"T_f0ec6_row7_col0\" class=\"data row7 col0\" >Dalmia</td>\n",
              "      <td id=\"T_f0ec6_row7_col1\" class=\"data row7 col1\" >30</td>\n",
              "      <td id=\"T_f0ec6_row7_col2\" class=\"data row7 col2\" >Regional</td>\n",
              "    </tr>\n",
              "    <tr>\n",
              "      <td id=\"T_f0ec6_row8_col0\" class=\"data row8 col0\" >Ganguly</td>\n",
              "      <td id=\"T_f0ec6_row8_col1\" class=\"data row8 col1\" >40</td>\n",
              "      <td id=\"T_f0ec6_row8_col2\" class=\"data row8 col2\" >Branch</td>\n",
              "    </tr>\n",
              "    <tr>\n",
              "      <td id=\"T_f0ec6_row9_col0\" class=\"data row9 col0\" >Ganesan</td>\n",
              "      <td id=\"T_f0ec6_row9_col1\" class=\"data row9 col1\" >10</td>\n",
              "      <td id=\"T_f0ec6_row9_col2\" class=\"data row9 col2\" >Head</td>\n",
              "    </tr>\n",
              "    <tr>\n",
              "      <td id=\"T_f0ec6_row10_col0\" class=\"data row10 col0\" >Karthikeyan</td>\n",
              "      <td id=\"T_f0ec6_row10_col1\" class=\"data row10 col1\" >10</td>\n",
              "      <td id=\"T_f0ec6_row10_col2\" class=\"data row10 col2\" >Head</td>\n",
              "    </tr>\n",
              "    <tr>\n",
              "      <td id=\"T_f0ec6_row11_col0\" class=\"data row11 col0\" >Sunil</td>\n",
              "      <td id=\"T_f0ec6_row11_col1\" class=\"data row11 col1\" >70</td>\n",
              "      <td id=\"T_f0ec6_row11_col2\" class=\"data row11 col2\" >Branch</td>\n",
              "    </tr>\n",
              "    <tr>\n",
              "      <td id=\"T_f0ec6_row12_col0\" class=\"data row12 col0\" >Mirza</td>\n",
              "      <td id=\"T_f0ec6_row12_col1\" class=\"data row12 col1\" >30</td>\n",
              "      <td id=\"T_f0ec6_row12_col2\" class=\"data row12 col2\" >Regional</td>\n",
              "    </tr>\n",
              "  </tbody>\n",
              "</table>\n"
            ]
          },
          "metadata": {},
          "execution_count": 49
        }
      ]
    },
    {
      "cell_type": "markdown",
      "source": [
        "#Join"
      ],
      "metadata": {
        "id": "Rs10ezIPpP0C"
      }
    },
    {
      "cell_type": "markdown",
      "source": [
        "## Basic Inner Join"
      ],
      "metadata": {
        "id": "XMfZP6HUpT4B"
      }
    },
    {
      "cell_type": "code",
      "source": [
        "sql = 'select firstname, lastname, salary, deptname, location, managerid from empl, dept where empl.deptid = dept.deptid'\n",
        "runSelect(sql)"
      ],
      "metadata": {
        "colab": {
          "base_uri": "https://localhost:8080/",
          "height": 426
        },
        "id": "ISiD-VP6pbUz",
        "outputId": "15b8bf95-791c-4828-edef-694896fac422"
      },
      "execution_count": 50,
      "outputs": [
        {
          "output_type": "execute_result",
          "data": {
            "text/plain": [
              "<pandas.io.formats.style.Styler at 0x789494844c40>"
            ],
            "text/html": [
              "<style type=\"text/css\">\n",
              "</style>\n",
              "<table id=\"T_ac372\" class=\"dataframe\">\n",
              "  <thead>\n",
              "    <tr>\n",
              "      <th id=\"T_ac372_level0_col0\" class=\"col_heading level0 col0\" >firstname</th>\n",
              "      <th id=\"T_ac372_level0_col1\" class=\"col_heading level0 col1\" >lastname</th>\n",
              "      <th id=\"T_ac372_level0_col2\" class=\"col_heading level0 col2\" >salary</th>\n",
              "      <th id=\"T_ac372_level0_col3\" class=\"col_heading level0 col3\" >deptname</th>\n",
              "      <th id=\"T_ac372_level0_col4\" class=\"col_heading level0 col4\" >location</th>\n",
              "      <th id=\"T_ac372_level0_col5\" class=\"col_heading level0 col5\" >managerid</th>\n",
              "    </tr>\n",
              "  </thead>\n",
              "  <tbody>\n",
              "    <tr>\n",
              "      <td id=\"T_ac372_row0_col0\" class=\"data row0 col0\" >Narayan</td>\n",
              "      <td id=\"T_ac372_row0_col1\" class=\"data row0 col1\" >Karthikeyan</td>\n",
              "      <td id=\"T_ac372_row0_col2\" class=\"data row0 col2\" >40000</td>\n",
              "      <td id=\"T_ac372_row0_col3\" class=\"data row0 col3\" >Corporate</td>\n",
              "      <td id=\"T_ac372_row0_col4\" class=\"data row0 col4\" >Calcutta</td>\n",
              "      <td id=\"T_ac372_row0_col5\" class=\"data row0 col5\" >299034</td>\n",
              "    </tr>\n",
              "    <tr>\n",
              "      <td id=\"T_ac372_row1_col0\" class=\"data row1 col0\" >Rekha</td>\n",
              "      <td id=\"T_ac372_row1_col1\" class=\"data row1 col1\" >Ganesan</td>\n",
              "      <td id=\"T_ac372_row1_col2\" class=\"data row1 col2\" >60000</td>\n",
              "      <td id=\"T_ac372_row1_col3\" class=\"data row1 col3\" >Corporate</td>\n",
              "      <td id=\"T_ac372_row1_col4\" class=\"data row1 col4\" >Calcutta</td>\n",
              "      <td id=\"T_ac372_row1_col5\" class=\"data row1 col5\" >299034</td>\n",
              "    </tr>\n",
              "    <tr>\n",
              "      <td id=\"T_ac372_row2_col0\" class=\"data row2 col0\" >Amitabh</td>\n",
              "      <td id=\"T_ac372_row2_col1\" class=\"data row2 col1\" >Bacchan</td>\n",
              "      <td id=\"T_ac372_row2_col2\" class=\"data row2 col2\" >50000</td>\n",
              "      <td id=\"T_ac372_row2_col3\" class=\"data row2 col3\" >Corporate</td>\n",
              "      <td id=\"T_ac372_row2_col4\" class=\"data row2 col4\" >Calcutta</td>\n",
              "      <td id=\"T_ac372_row2_col5\" class=\"data row2 col5\" >299034</td>\n",
              "    </tr>\n",
              "    <tr>\n",
              "      <td id=\"T_ac372_row3_col0\" class=\"data row3 col0\" >Virender</td>\n",
              "      <td id=\"T_ac372_row3_col1\" class=\"data row3 col1\" >Sehwag</td>\n",
              "      <td id=\"T_ac372_row3_col2\" class=\"data row3 col2\" >15000</td>\n",
              "      <td id=\"T_ac372_row3_col3\" class=\"data row3 col3\" >Sales</td>\n",
              "      <td id=\"T_ac372_row3_col4\" class=\"data row3 col4\" >Calcutta</td>\n",
              "      <td id=\"T_ac372_row3_col5\" class=\"data row3 col5\" >239456</td>\n",
              "    </tr>\n",
              "    <tr>\n",
              "      <td id=\"T_ac372_row4_col0\" class=\"data row4 col0\" >Shahrukh</td>\n",
              "      <td id=\"T_ac372_row4_col1\" class=\"data row4 col1\" >Khan</td>\n",
              "      <td id=\"T_ac372_row4_col2\" class=\"data row4 col2\" >30000</td>\n",
              "      <td id=\"T_ac372_row4_col3\" class=\"data row4 col3\" >Sales</td>\n",
              "      <td id=\"T_ac372_row4_col4\" class=\"data row4 col4\" >Calcutta</td>\n",
              "      <td id=\"T_ac372_row4_col5\" class=\"data row4 col5\" >239456</td>\n",
              "    </tr>\n",
              "    <tr>\n",
              "      <td id=\"T_ac372_row5_col0\" class=\"data row5 col0\" >Madhuri</td>\n",
              "      <td id=\"T_ac372_row5_col1\" class=\"data row5 col1\" >Dikshit</td>\n",
              "      <td id=\"T_ac372_row5_col2\" class=\"data row5 col2\" >10000</td>\n",
              "      <td id=\"T_ac372_row5_col3\" class=\"data row5 col3\" >Sales</td>\n",
              "      <td id=\"T_ac372_row5_col4\" class=\"data row5 col4\" >Calcutta</td>\n",
              "      <td id=\"T_ac372_row5_col5\" class=\"data row5 col5\" >239456</td>\n",
              "    </tr>\n",
              "    <tr>\n",
              "      <td id=\"T_ac372_row6_col0\" class=\"data row6 col0\" >Sania</td>\n",
              "      <td id=\"T_ac372_row6_col1\" class=\"data row6 col1\" >Mirza</td>\n",
              "      <td id=\"T_ac372_row6_col2\" class=\"data row6 col2\" >25000</td>\n",
              "      <td id=\"T_ac372_row6_col3\" class=\"data row6 col3\" >Accounts</td>\n",
              "      <td id=\"T_ac372_row6_col4\" class=\"data row6 col4\" >Calcutta</td>\n",
              "      <td id=\"T_ac372_row6_col5\" class=\"data row6 col5\" >822134</td>\n",
              "    </tr>\n",
              "    <tr>\n",
              "      <td id=\"T_ac372_row7_col0\" class=\"data row7 col0\" >Jagmohan</td>\n",
              "      <td id=\"T_ac372_row7_col1\" class=\"data row7 col1\" >Dalmia</td>\n",
              "      <td id=\"T_ac372_row7_col2\" class=\"data row7 col2\" >12000</td>\n",
              "      <td id=\"T_ac372_row7_col3\" class=\"data row7 col3\" >Accounts</td>\n",
              "      <td id=\"T_ac372_row7_col4\" class=\"data row7 col4\" >Calcutta</td>\n",
              "      <td id=\"T_ac372_row7_col5\" class=\"data row7 col5\" >822134</td>\n",
              "    </tr>\n",
              "    <tr>\n",
              "      <td id=\"T_ac372_row8_col0\" class=\"data row8 col0\" >Rahul</td>\n",
              "      <td id=\"T_ac372_row8_col1\" class=\"data row8 col1\" >Dravid</td>\n",
              "      <td id=\"T_ac372_row8_col2\" class=\"data row8 col2\" >40000</td>\n",
              "      <td id=\"T_ac372_row8_col3\" class=\"data row8 col3\" >Accounts</td>\n",
              "      <td id=\"T_ac372_row8_col4\" class=\"data row8 col4\" >Calcutta</td>\n",
              "      <td id=\"T_ac372_row8_col5\" class=\"data row8 col5\" >822134</td>\n",
              "    </tr>\n",
              "    <tr>\n",
              "      <td id=\"T_ac372_row9_col0\" class=\"data row9 col0\" >Sourav</td>\n",
              "      <td id=\"T_ac372_row9_col1\" class=\"data row9 col1\" >Ganguly</td>\n",
              "      <td id=\"T_ac372_row9_col2\" class=\"data row9 col2\" >20000</td>\n",
              "      <td id=\"T_ac372_row9_col3\" class=\"data row9 col3\" >Production</td>\n",
              "      <td id=\"T_ac372_row9_col4\" class=\"data row9 col4\" >Bombay</td>\n",
              "      <td id=\"T_ac372_row9_col5\" class=\"data row9 col5\" >349870</td>\n",
              "    </tr>\n",
              "    <tr>\n",
              "      <td id=\"T_ac372_row10_col0\" class=\"data row10 col0\" >Mahender</td>\n",
              "      <td id=\"T_ac372_row10_col1\" class=\"data row10 col1\" >Dhoni</td>\n",
              "      <td id=\"T_ac372_row10_col2\" class=\"data row10 col2\" >9000</td>\n",
              "      <td id=\"T_ac372_row10_col3\" class=\"data row10 col3\" >Production</td>\n",
              "      <td id=\"T_ac372_row10_col4\" class=\"data row10 col4\" >Bombay</td>\n",
              "      <td id=\"T_ac372_row10_col5\" class=\"data row10 col5\" >349870</td>\n",
              "    </tr>\n",
              "    <tr>\n",
              "      <td id=\"T_ac372_row11_col0\" class=\"data row11 col0\" >Rani</td>\n",
              "      <td id=\"T_ac372_row11_col1\" class=\"data row11 col1\" >Mukherjee</td>\n",
              "      <td id=\"T_ac372_row11_col2\" class=\"data row11 col2\" >25000</td>\n",
              "      <td id=\"T_ac372_row11_col3\" class=\"data row11 col3\" >Production</td>\n",
              "      <td id=\"T_ac372_row11_col4\" class=\"data row11 col4\" >Bombay</td>\n",
              "      <td id=\"T_ac372_row11_col5\" class=\"data row11 col5\" >349870</td>\n",
              "    </tr>\n",
              "  </tbody>\n",
              "</table>\n"
            ]
          },
          "metadata": {},
          "execution_count": 50
        }
      ]
    },
    {
      "cell_type": "code",
      "source": [
        "sql = 'select empid, firstname, deptname, location from empl INNER JOIN dept ON empl.deptid = dept.deptid'\n",
        "runSelect(sql)"
      ],
      "metadata": {
        "colab": {
          "base_uri": "https://localhost:8080/",
          "height": 426
        },
        "id": "LVrEArEc1VcF",
        "outputId": "95304064-b976-4eca-cdd0-f144f50de348"
      },
      "execution_count": 51,
      "outputs": [
        {
          "output_type": "execute_result",
          "data": {
            "text/plain": [
              "<pandas.io.formats.style.Styler at 0x7894947d0670>"
            ],
            "text/html": [
              "<style type=\"text/css\">\n",
              "</style>\n",
              "<table id=\"T_b6e31\" class=\"dataframe\">\n",
              "  <thead>\n",
              "    <tr>\n",
              "      <th id=\"T_b6e31_level0_col0\" class=\"col_heading level0 col0\" >empid</th>\n",
              "      <th id=\"T_b6e31_level0_col1\" class=\"col_heading level0 col1\" >firstname</th>\n",
              "      <th id=\"T_b6e31_level0_col2\" class=\"col_heading level0 col2\" >deptname</th>\n",
              "      <th id=\"T_b6e31_level0_col3\" class=\"col_heading level0 col3\" >location</th>\n",
              "    </tr>\n",
              "  </thead>\n",
              "  <tbody>\n",
              "    <tr>\n",
              "      <td id=\"T_b6e31_row0_col0\" class=\"data row0 col0\" >546223</td>\n",
              "      <td id=\"T_b6e31_row0_col1\" class=\"data row0 col1\" >Narayan</td>\n",
              "      <td id=\"T_b6e31_row0_col2\" class=\"data row0 col2\" >Corporate</td>\n",
              "      <td id=\"T_b6e31_row0_col3\" class=\"data row0 col3\" >Calcutta</td>\n",
              "    </tr>\n",
              "    <tr>\n",
              "      <td id=\"T_b6e31_row1_col0\" class=\"data row1 col0\" >299034</td>\n",
              "      <td id=\"T_b6e31_row1_col1\" class=\"data row1 col1\" >Rekha</td>\n",
              "      <td id=\"T_b6e31_row1_col2\" class=\"data row1 col2\" >Corporate</td>\n",
              "      <td id=\"T_b6e31_row1_col3\" class=\"data row1 col3\" >Calcutta</td>\n",
              "    </tr>\n",
              "    <tr>\n",
              "      <td id=\"T_b6e31_row2_col0\" class=\"data row2 col0\" >742866</td>\n",
              "      <td id=\"T_b6e31_row2_col1\" class=\"data row2 col1\" >Amitabh</td>\n",
              "      <td id=\"T_b6e31_row2_col2\" class=\"data row2 col2\" >Corporate</td>\n",
              "      <td id=\"T_b6e31_row2_col3\" class=\"data row2 col3\" >Calcutta</td>\n",
              "    </tr>\n",
              "    <tr>\n",
              "      <td id=\"T_b6e31_row3_col0\" class=\"data row3 col0\" >897889</td>\n",
              "      <td id=\"T_b6e31_row3_col1\" class=\"data row3 col1\" >Virender</td>\n",
              "      <td id=\"T_b6e31_row3_col2\" class=\"data row3 col2\" >Sales</td>\n",
              "      <td id=\"T_b6e31_row3_col3\" class=\"data row3 col3\" >Calcutta</td>\n",
              "    </tr>\n",
              "    <tr>\n",
              "      <td id=\"T_b6e31_row4_col0\" class=\"data row4 col0\" >239456</td>\n",
              "      <td id=\"T_b6e31_row4_col1\" class=\"data row4 col1\" >Shahrukh</td>\n",
              "      <td id=\"T_b6e31_row4_col2\" class=\"data row4 col2\" >Sales</td>\n",
              "      <td id=\"T_b6e31_row4_col3\" class=\"data row4 col3\" >Calcutta</td>\n",
              "    </tr>\n",
              "    <tr>\n",
              "      <td id=\"T_b6e31_row5_col0\" class=\"data row5 col0\" >865477</td>\n",
              "      <td id=\"T_b6e31_row5_col1\" class=\"data row5 col1\" >Madhuri</td>\n",
              "      <td id=\"T_b6e31_row5_col2\" class=\"data row5 col2\" >Sales</td>\n",
              "      <td id=\"T_b6e31_row5_col3\" class=\"data row5 col3\" >Calcutta</td>\n",
              "    </tr>\n",
              "    <tr>\n",
              "      <td id=\"T_b6e31_row6_col0\" class=\"data row6 col0\" >223112</td>\n",
              "      <td id=\"T_b6e31_row6_col1\" class=\"data row6 col1\" >Sania</td>\n",
              "      <td id=\"T_b6e31_row6_col2\" class=\"data row6 col2\" >Accounts</td>\n",
              "      <td id=\"T_b6e31_row6_col3\" class=\"data row6 col3\" >Calcutta</td>\n",
              "    </tr>\n",
              "    <tr>\n",
              "      <td id=\"T_b6e31_row7_col0\" class=\"data row7 col0\" >997445</td>\n",
              "      <td id=\"T_b6e31_row7_col1\" class=\"data row7 col1\" >Jagmohan</td>\n",
              "      <td id=\"T_b6e31_row7_col2\" class=\"data row7 col2\" >Accounts</td>\n",
              "      <td id=\"T_b6e31_row7_col3\" class=\"data row7 col3\" >Calcutta</td>\n",
              "    </tr>\n",
              "    <tr>\n",
              "      <td id=\"T_b6e31_row8_col0\" class=\"data row8 col0\" >822134</td>\n",
              "      <td id=\"T_b6e31_row8_col1\" class=\"data row8 col1\" >Rahul</td>\n",
              "      <td id=\"T_b6e31_row8_col2\" class=\"data row8 col2\" >Accounts</td>\n",
              "      <td id=\"T_b6e31_row8_col3\" class=\"data row8 col3\" >Calcutta</td>\n",
              "    </tr>\n",
              "    <tr>\n",
              "      <td id=\"T_b6e31_row9_col0\" class=\"data row9 col0\" >989007</td>\n",
              "      <td id=\"T_b6e31_row9_col1\" class=\"data row9 col1\" >Sourav</td>\n",
              "      <td id=\"T_b6e31_row9_col2\" class=\"data row9 col2\" >Production</td>\n",
              "      <td id=\"T_b6e31_row9_col3\" class=\"data row9 col3\" >Bombay</td>\n",
              "    </tr>\n",
              "    <tr>\n",
              "      <td id=\"T_b6e31_row10_col0\" class=\"data row10 col0\" >123980</td>\n",
              "      <td id=\"T_b6e31_row10_col1\" class=\"data row10 col1\" >Mahender</td>\n",
              "      <td id=\"T_b6e31_row10_col2\" class=\"data row10 col2\" >Production</td>\n",
              "      <td id=\"T_b6e31_row10_col3\" class=\"data row10 col3\" >Bombay</td>\n",
              "    </tr>\n",
              "    <tr>\n",
              "      <td id=\"T_b6e31_row11_col0\" class=\"data row11 col0\" >349870</td>\n",
              "      <td id=\"T_b6e31_row11_col1\" class=\"data row11 col1\" >Rani</td>\n",
              "      <td id=\"T_b6e31_row11_col2\" class=\"data row11 col2\" >Production</td>\n",
              "      <td id=\"T_b6e31_row11_col3\" class=\"data row11 col3\" >Bombay</td>\n",
              "    </tr>\n",
              "  </tbody>\n",
              "</table>\n"
            ]
          },
          "metadata": {},
          "execution_count": 51
        }
      ]
    },
    {
      "cell_type": "code",
      "source": [
        "sql = 'select deptname,round(sum(salary),0) payroll from empl INNER JOIN dept ON empl.deptid = dept.deptid \\\n",
        "group by deptname'\n",
        "runSelect(sql)"
      ],
      "metadata": {
        "id": "pKk82QRi28DP",
        "outputId": "1c8be644-577a-425f-abf6-5003be03027d",
        "colab": {
          "base_uri": "https://localhost:8080/",
          "height": 175
        }
      },
      "execution_count": 52,
      "outputs": [
        {
          "output_type": "execute_result",
          "data": {
            "text/plain": [
              "<pandas.io.formats.style.Styler at 0x789494845180>"
            ],
            "text/html": [
              "<style type=\"text/css\">\n",
              "</style>\n",
              "<table id=\"T_4e620\" class=\"dataframe\">\n",
              "  <thead>\n",
              "    <tr>\n",
              "      <th id=\"T_4e620_level0_col0\" class=\"col_heading level0 col0\" >deptname</th>\n",
              "      <th id=\"T_4e620_level0_col1\" class=\"col_heading level0 col1\" >payroll</th>\n",
              "    </tr>\n",
              "  </thead>\n",
              "  <tbody>\n",
              "    <tr>\n",
              "      <td id=\"T_4e620_row0_col0\" class=\"data row0 col0\" >Corporate</td>\n",
              "      <td id=\"T_4e620_row0_col1\" class=\"data row0 col1\" >150000</td>\n",
              "    </tr>\n",
              "    <tr>\n",
              "      <td id=\"T_4e620_row1_col0\" class=\"data row1 col0\" >Accounts</td>\n",
              "      <td id=\"T_4e620_row1_col1\" class=\"data row1 col1\" >77000</td>\n",
              "    </tr>\n",
              "    <tr>\n",
              "      <td id=\"T_4e620_row2_col0\" class=\"data row2 col0\" >Sales</td>\n",
              "      <td id=\"T_4e620_row2_col1\" class=\"data row2 col1\" >55000</td>\n",
              "    </tr>\n",
              "    <tr>\n",
              "      <td id=\"T_4e620_row3_col0\" class=\"data row3 col0\" >Production</td>\n",
              "      <td id=\"T_4e620_row3_col1\" class=\"data row3 col1\" >54000</td>\n",
              "    </tr>\n",
              "  </tbody>\n",
              "</table>\n"
            ]
          },
          "metadata": {},
          "execution_count": 52
        }
      ]
    },
    {
      "cell_type": "markdown",
      "source": [
        "## Outer Join"
      ],
      "metadata": {
        "id": "tK9uJHAL1u6x"
      }
    },
    {
      "cell_type": "markdown",
      "source": [
        "### Left Outer"
      ],
      "metadata": {
        "id": "5wGFVhyJ2x8S"
      }
    },
    {
      "cell_type": "code",
      "source": [
        "sql = 'select empid, firstname, deptname, location from empl LEFT JOIN dept ON empl.deptid = dept.deptid'\n",
        "runSelect(sql)"
      ],
      "metadata": {
        "colab": {
          "base_uri": "https://localhost:8080/",
          "height": 457
        },
        "id": "Ls6VfOXt1zTq",
        "outputId": "fe1fa2f7-2b82-4bfa-b5d4-ef928a9a5517"
      },
      "execution_count": 53,
      "outputs": [
        {
          "output_type": "execute_result",
          "data": {
            "text/plain": [
              "<pandas.io.formats.style.Styler at 0x7894947d2590>"
            ],
            "text/html": [
              "<style type=\"text/css\">\n",
              "</style>\n",
              "<table id=\"T_a866e\" class=\"dataframe\">\n",
              "  <thead>\n",
              "    <tr>\n",
              "      <th id=\"T_a866e_level0_col0\" class=\"col_heading level0 col0\" >empid</th>\n",
              "      <th id=\"T_a866e_level0_col1\" class=\"col_heading level0 col1\" >firstname</th>\n",
              "      <th id=\"T_a866e_level0_col2\" class=\"col_heading level0 col2\" >deptname</th>\n",
              "      <th id=\"T_a866e_level0_col3\" class=\"col_heading level0 col3\" >location</th>\n",
              "    </tr>\n",
              "  </thead>\n",
              "  <tbody>\n",
              "    <tr>\n",
              "      <td id=\"T_a866e_row0_col0\" class=\"data row0 col0\" >546223</td>\n",
              "      <td id=\"T_a866e_row0_col1\" class=\"data row0 col1\" >Narayan</td>\n",
              "      <td id=\"T_a866e_row0_col2\" class=\"data row0 col2\" >Corporate</td>\n",
              "      <td id=\"T_a866e_row0_col3\" class=\"data row0 col3\" >Calcutta</td>\n",
              "    </tr>\n",
              "    <tr>\n",
              "      <td id=\"T_a866e_row1_col0\" class=\"data row1 col0\" >299034</td>\n",
              "      <td id=\"T_a866e_row1_col1\" class=\"data row1 col1\" >Rekha</td>\n",
              "      <td id=\"T_a866e_row1_col2\" class=\"data row1 col2\" >Corporate</td>\n",
              "      <td id=\"T_a866e_row1_col3\" class=\"data row1 col3\" >Calcutta</td>\n",
              "    </tr>\n",
              "    <tr>\n",
              "      <td id=\"T_a866e_row2_col0\" class=\"data row2 col0\" >742866</td>\n",
              "      <td id=\"T_a866e_row2_col1\" class=\"data row2 col1\" >Amitabh</td>\n",
              "      <td id=\"T_a866e_row2_col2\" class=\"data row2 col2\" >Corporate</td>\n",
              "      <td id=\"T_a866e_row2_col3\" class=\"data row2 col3\" >Calcutta</td>\n",
              "    </tr>\n",
              "    <tr>\n",
              "      <td id=\"T_a866e_row3_col0\" class=\"data row3 col0\" >897889</td>\n",
              "      <td id=\"T_a866e_row3_col1\" class=\"data row3 col1\" >Virender</td>\n",
              "      <td id=\"T_a866e_row3_col2\" class=\"data row3 col2\" >Sales</td>\n",
              "      <td id=\"T_a866e_row3_col3\" class=\"data row3 col3\" >Calcutta</td>\n",
              "    </tr>\n",
              "    <tr>\n",
              "      <td id=\"T_a866e_row4_col0\" class=\"data row4 col0\" >239456</td>\n",
              "      <td id=\"T_a866e_row4_col1\" class=\"data row4 col1\" >Shahrukh</td>\n",
              "      <td id=\"T_a866e_row4_col2\" class=\"data row4 col2\" >Sales</td>\n",
              "      <td id=\"T_a866e_row4_col3\" class=\"data row4 col3\" >Calcutta</td>\n",
              "    </tr>\n",
              "    <tr>\n",
              "      <td id=\"T_a866e_row5_col0\" class=\"data row5 col0\" >865477</td>\n",
              "      <td id=\"T_a866e_row5_col1\" class=\"data row5 col1\" >Madhuri</td>\n",
              "      <td id=\"T_a866e_row5_col2\" class=\"data row5 col2\" >Sales</td>\n",
              "      <td id=\"T_a866e_row5_col3\" class=\"data row5 col3\" >Calcutta</td>\n",
              "    </tr>\n",
              "    <tr>\n",
              "      <td id=\"T_a866e_row6_col0\" class=\"data row6 col0\" >223112</td>\n",
              "      <td id=\"T_a866e_row6_col1\" class=\"data row6 col1\" >Sania</td>\n",
              "      <td id=\"T_a866e_row6_col2\" class=\"data row6 col2\" >Accounts</td>\n",
              "      <td id=\"T_a866e_row6_col3\" class=\"data row6 col3\" >Calcutta</td>\n",
              "    </tr>\n",
              "    <tr>\n",
              "      <td id=\"T_a866e_row7_col0\" class=\"data row7 col0\" >997445</td>\n",
              "      <td id=\"T_a866e_row7_col1\" class=\"data row7 col1\" >Jagmohan</td>\n",
              "      <td id=\"T_a866e_row7_col2\" class=\"data row7 col2\" >Accounts</td>\n",
              "      <td id=\"T_a866e_row7_col3\" class=\"data row7 col3\" >Calcutta</td>\n",
              "    </tr>\n",
              "    <tr>\n",
              "      <td id=\"T_a866e_row8_col0\" class=\"data row8 col0\" >822134</td>\n",
              "      <td id=\"T_a866e_row8_col1\" class=\"data row8 col1\" >Rahul</td>\n",
              "      <td id=\"T_a866e_row8_col2\" class=\"data row8 col2\" >Accounts</td>\n",
              "      <td id=\"T_a866e_row8_col3\" class=\"data row8 col3\" >Calcutta</td>\n",
              "    </tr>\n",
              "    <tr>\n",
              "      <td id=\"T_a866e_row9_col0\" class=\"data row9 col0\" >989007</td>\n",
              "      <td id=\"T_a866e_row9_col1\" class=\"data row9 col1\" >Sourav</td>\n",
              "      <td id=\"T_a866e_row9_col2\" class=\"data row9 col2\" >Production</td>\n",
              "      <td id=\"T_a866e_row9_col3\" class=\"data row9 col3\" >Bombay</td>\n",
              "    </tr>\n",
              "    <tr>\n",
              "      <td id=\"T_a866e_row10_col0\" class=\"data row10 col0\" >123980</td>\n",
              "      <td id=\"T_a866e_row10_col1\" class=\"data row10 col1\" >Mahender</td>\n",
              "      <td id=\"T_a866e_row10_col2\" class=\"data row10 col2\" >Production</td>\n",
              "      <td id=\"T_a866e_row10_col3\" class=\"data row10 col3\" >Bombay</td>\n",
              "    </tr>\n",
              "    <tr>\n",
              "      <td id=\"T_a866e_row11_col0\" class=\"data row11 col0\" >349870</td>\n",
              "      <td id=\"T_a866e_row11_col1\" class=\"data row11 col1\" >Rani</td>\n",
              "      <td id=\"T_a866e_row11_col2\" class=\"data row11 col2\" >Production</td>\n",
              "      <td id=\"T_a866e_row11_col3\" class=\"data row11 col3\" >Bombay</td>\n",
              "    </tr>\n",
              "    <tr>\n",
              "      <td id=\"T_a866e_row12_col0\" class=\"data row12 col0\" >546224</td>\n",
              "      <td id=\"T_a866e_row12_col1\" class=\"data row12 col1\" >Chettri</td>\n",
              "      <td id=\"T_a866e_row12_col2\" class=\"data row12 col2\" >None</td>\n",
              "      <td id=\"T_a866e_row12_col3\" class=\"data row12 col3\" >None</td>\n",
              "    </tr>\n",
              "  </tbody>\n",
              "</table>\n"
            ]
          },
          "metadata": {},
          "execution_count": 53
        }
      ]
    },
    {
      "cell_type": "markdown",
      "source": [
        "### Right Outer"
      ],
      "metadata": {
        "id": "iJ6DASb121Og"
      }
    },
    {
      "cell_type": "code",
      "source": [
        "sql = 'select empid, firstname, deptname, location from empl RIGHT JOIN dept ON empl.deptid = dept.deptid'\n",
        "runSelect(sql)"
      ],
      "metadata": {
        "colab": {
          "base_uri": "https://localhost:8080/",
          "height": 457
        },
        "id": "khvQpQ4E2XND",
        "outputId": "22b18b74-f338-4280-888b-14375c0592c4"
      },
      "execution_count": 54,
      "outputs": [
        {
          "output_type": "execute_result",
          "data": {
            "text/plain": [
              "<pandas.io.formats.style.Styler at 0x7894947d39a0>"
            ],
            "text/html": [
              "<style type=\"text/css\">\n",
              "</style>\n",
              "<table id=\"T_5eee6\" class=\"dataframe\">\n",
              "  <thead>\n",
              "    <tr>\n",
              "      <th id=\"T_5eee6_level0_col0\" class=\"col_heading level0 col0\" >empid</th>\n",
              "      <th id=\"T_5eee6_level0_col1\" class=\"col_heading level0 col1\" >firstname</th>\n",
              "      <th id=\"T_5eee6_level0_col2\" class=\"col_heading level0 col2\" >deptname</th>\n",
              "      <th id=\"T_5eee6_level0_col3\" class=\"col_heading level0 col3\" >location</th>\n",
              "    </tr>\n",
              "  </thead>\n",
              "  <tbody>\n",
              "    <tr>\n",
              "      <td id=\"T_5eee6_row0_col0\" class=\"data row0 col0\" >546223</td>\n",
              "      <td id=\"T_5eee6_row0_col1\" class=\"data row0 col1\" >Narayan</td>\n",
              "      <td id=\"T_5eee6_row0_col2\" class=\"data row0 col2\" >Corporate</td>\n",
              "      <td id=\"T_5eee6_row0_col3\" class=\"data row0 col3\" >Calcutta</td>\n",
              "    </tr>\n",
              "    <tr>\n",
              "      <td id=\"T_5eee6_row1_col0\" class=\"data row1 col0\" >299034</td>\n",
              "      <td id=\"T_5eee6_row1_col1\" class=\"data row1 col1\" >Rekha</td>\n",
              "      <td id=\"T_5eee6_row1_col2\" class=\"data row1 col2\" >Corporate</td>\n",
              "      <td id=\"T_5eee6_row1_col3\" class=\"data row1 col3\" >Calcutta</td>\n",
              "    </tr>\n",
              "    <tr>\n",
              "      <td id=\"T_5eee6_row2_col0\" class=\"data row2 col0\" >742866</td>\n",
              "      <td id=\"T_5eee6_row2_col1\" class=\"data row2 col1\" >Amitabh</td>\n",
              "      <td id=\"T_5eee6_row2_col2\" class=\"data row2 col2\" >Corporate</td>\n",
              "      <td id=\"T_5eee6_row2_col3\" class=\"data row2 col3\" >Calcutta</td>\n",
              "    </tr>\n",
              "    <tr>\n",
              "      <td id=\"T_5eee6_row3_col0\" class=\"data row3 col0\" >897889</td>\n",
              "      <td id=\"T_5eee6_row3_col1\" class=\"data row3 col1\" >Virender</td>\n",
              "      <td id=\"T_5eee6_row3_col2\" class=\"data row3 col2\" >Sales</td>\n",
              "      <td id=\"T_5eee6_row3_col3\" class=\"data row3 col3\" >Calcutta</td>\n",
              "    </tr>\n",
              "    <tr>\n",
              "      <td id=\"T_5eee6_row4_col0\" class=\"data row4 col0\" >239456</td>\n",
              "      <td id=\"T_5eee6_row4_col1\" class=\"data row4 col1\" >Shahrukh</td>\n",
              "      <td id=\"T_5eee6_row4_col2\" class=\"data row4 col2\" >Sales</td>\n",
              "      <td id=\"T_5eee6_row4_col3\" class=\"data row4 col3\" >Calcutta</td>\n",
              "    </tr>\n",
              "    <tr>\n",
              "      <td id=\"T_5eee6_row5_col0\" class=\"data row5 col0\" >865477</td>\n",
              "      <td id=\"T_5eee6_row5_col1\" class=\"data row5 col1\" >Madhuri</td>\n",
              "      <td id=\"T_5eee6_row5_col2\" class=\"data row5 col2\" >Sales</td>\n",
              "      <td id=\"T_5eee6_row5_col3\" class=\"data row5 col3\" >Calcutta</td>\n",
              "    </tr>\n",
              "    <tr>\n",
              "      <td id=\"T_5eee6_row6_col0\" class=\"data row6 col0\" >223112</td>\n",
              "      <td id=\"T_5eee6_row6_col1\" class=\"data row6 col1\" >Sania</td>\n",
              "      <td id=\"T_5eee6_row6_col2\" class=\"data row6 col2\" >Accounts</td>\n",
              "      <td id=\"T_5eee6_row6_col3\" class=\"data row6 col3\" >Calcutta</td>\n",
              "    </tr>\n",
              "    <tr>\n",
              "      <td id=\"T_5eee6_row7_col0\" class=\"data row7 col0\" >997445</td>\n",
              "      <td id=\"T_5eee6_row7_col1\" class=\"data row7 col1\" >Jagmohan</td>\n",
              "      <td id=\"T_5eee6_row7_col2\" class=\"data row7 col2\" >Accounts</td>\n",
              "      <td id=\"T_5eee6_row7_col3\" class=\"data row7 col3\" >Calcutta</td>\n",
              "    </tr>\n",
              "    <tr>\n",
              "      <td id=\"T_5eee6_row8_col0\" class=\"data row8 col0\" >822134</td>\n",
              "      <td id=\"T_5eee6_row8_col1\" class=\"data row8 col1\" >Rahul</td>\n",
              "      <td id=\"T_5eee6_row8_col2\" class=\"data row8 col2\" >Accounts</td>\n",
              "      <td id=\"T_5eee6_row8_col3\" class=\"data row8 col3\" >Calcutta</td>\n",
              "    </tr>\n",
              "    <tr>\n",
              "      <td id=\"T_5eee6_row9_col0\" class=\"data row9 col0\" >989007</td>\n",
              "      <td id=\"T_5eee6_row9_col1\" class=\"data row9 col1\" >Sourav</td>\n",
              "      <td id=\"T_5eee6_row9_col2\" class=\"data row9 col2\" >Production</td>\n",
              "      <td id=\"T_5eee6_row9_col3\" class=\"data row9 col3\" >Bombay</td>\n",
              "    </tr>\n",
              "    <tr>\n",
              "      <td id=\"T_5eee6_row10_col0\" class=\"data row10 col0\" >123980</td>\n",
              "      <td id=\"T_5eee6_row10_col1\" class=\"data row10 col1\" >Mahender</td>\n",
              "      <td id=\"T_5eee6_row10_col2\" class=\"data row10 col2\" >Production</td>\n",
              "      <td id=\"T_5eee6_row10_col3\" class=\"data row10 col3\" >Bombay</td>\n",
              "    </tr>\n",
              "    <tr>\n",
              "      <td id=\"T_5eee6_row11_col0\" class=\"data row11 col0\" >349870</td>\n",
              "      <td id=\"T_5eee6_row11_col1\" class=\"data row11 col1\" >Rani</td>\n",
              "      <td id=\"T_5eee6_row11_col2\" class=\"data row11 col2\" >Production</td>\n",
              "      <td id=\"T_5eee6_row11_col3\" class=\"data row11 col3\" >Bombay</td>\n",
              "    </tr>\n",
              "    <tr>\n",
              "      <td id=\"T_5eee6_row12_col0\" class=\"data row12 col0\" >None</td>\n",
              "      <td id=\"T_5eee6_row12_col1\" class=\"data row12 col1\" >None</td>\n",
              "      <td id=\"T_5eee6_row12_col2\" class=\"data row12 col2\" >Research</td>\n",
              "      <td id=\"T_5eee6_row12_col3\" class=\"data row12 col3\" >Delhi</td>\n",
              "    </tr>\n",
              "  </tbody>\n",
              "</table>\n"
            ]
          },
          "metadata": {},
          "execution_count": 54
        }
      ]
    },
    {
      "cell_type": "markdown",
      "source": [
        "### Full Outer"
      ],
      "metadata": {
        "id": "RsEyhBBp24zy"
      }
    },
    {
      "cell_type": "code",
      "source": [
        "sql = 'select empid, firstname, deptname, location from empl FULL JOIN dept ON empl.deptid = dept.deptid'\n",
        "runSelect(sql)"
      ],
      "metadata": {
        "colab": {
          "base_uri": "https://localhost:8080/",
          "height": 488
        },
        "id": "Ipt14U9o2qFg",
        "outputId": "01fc0622-e534-4ff1-a3fe-bc677d9cf54b"
      },
      "execution_count": 55,
      "outputs": [
        {
          "output_type": "execute_result",
          "data": {
            "text/plain": [
              "<pandas.io.formats.style.Styler at 0x789494845f60>"
            ],
            "text/html": [
              "<style type=\"text/css\">\n",
              "</style>\n",
              "<table id=\"T_72269\" class=\"dataframe\">\n",
              "  <thead>\n",
              "    <tr>\n",
              "      <th id=\"T_72269_level0_col0\" class=\"col_heading level0 col0\" >empid</th>\n",
              "      <th id=\"T_72269_level0_col1\" class=\"col_heading level0 col1\" >firstname</th>\n",
              "      <th id=\"T_72269_level0_col2\" class=\"col_heading level0 col2\" >deptname</th>\n",
              "      <th id=\"T_72269_level0_col3\" class=\"col_heading level0 col3\" >location</th>\n",
              "    </tr>\n",
              "  </thead>\n",
              "  <tbody>\n",
              "    <tr>\n",
              "      <td id=\"T_72269_row0_col0\" class=\"data row0 col0\" >546223</td>\n",
              "      <td id=\"T_72269_row0_col1\" class=\"data row0 col1\" >Narayan</td>\n",
              "      <td id=\"T_72269_row0_col2\" class=\"data row0 col2\" >Corporate</td>\n",
              "      <td id=\"T_72269_row0_col3\" class=\"data row0 col3\" >Calcutta</td>\n",
              "    </tr>\n",
              "    <tr>\n",
              "      <td id=\"T_72269_row1_col0\" class=\"data row1 col0\" >299034</td>\n",
              "      <td id=\"T_72269_row1_col1\" class=\"data row1 col1\" >Rekha</td>\n",
              "      <td id=\"T_72269_row1_col2\" class=\"data row1 col2\" >Corporate</td>\n",
              "      <td id=\"T_72269_row1_col3\" class=\"data row1 col3\" >Calcutta</td>\n",
              "    </tr>\n",
              "    <tr>\n",
              "      <td id=\"T_72269_row2_col0\" class=\"data row2 col0\" >742866</td>\n",
              "      <td id=\"T_72269_row2_col1\" class=\"data row2 col1\" >Amitabh</td>\n",
              "      <td id=\"T_72269_row2_col2\" class=\"data row2 col2\" >Corporate</td>\n",
              "      <td id=\"T_72269_row2_col3\" class=\"data row2 col3\" >Calcutta</td>\n",
              "    </tr>\n",
              "    <tr>\n",
              "      <td id=\"T_72269_row3_col0\" class=\"data row3 col0\" >897889</td>\n",
              "      <td id=\"T_72269_row3_col1\" class=\"data row3 col1\" >Virender</td>\n",
              "      <td id=\"T_72269_row3_col2\" class=\"data row3 col2\" >Sales</td>\n",
              "      <td id=\"T_72269_row3_col3\" class=\"data row3 col3\" >Calcutta</td>\n",
              "    </tr>\n",
              "    <tr>\n",
              "      <td id=\"T_72269_row4_col0\" class=\"data row4 col0\" >239456</td>\n",
              "      <td id=\"T_72269_row4_col1\" class=\"data row4 col1\" >Shahrukh</td>\n",
              "      <td id=\"T_72269_row4_col2\" class=\"data row4 col2\" >Sales</td>\n",
              "      <td id=\"T_72269_row4_col3\" class=\"data row4 col3\" >Calcutta</td>\n",
              "    </tr>\n",
              "    <tr>\n",
              "      <td id=\"T_72269_row5_col0\" class=\"data row5 col0\" >865477</td>\n",
              "      <td id=\"T_72269_row5_col1\" class=\"data row5 col1\" >Madhuri</td>\n",
              "      <td id=\"T_72269_row5_col2\" class=\"data row5 col2\" >Sales</td>\n",
              "      <td id=\"T_72269_row5_col3\" class=\"data row5 col3\" >Calcutta</td>\n",
              "    </tr>\n",
              "    <tr>\n",
              "      <td id=\"T_72269_row6_col0\" class=\"data row6 col0\" >223112</td>\n",
              "      <td id=\"T_72269_row6_col1\" class=\"data row6 col1\" >Sania</td>\n",
              "      <td id=\"T_72269_row6_col2\" class=\"data row6 col2\" >Accounts</td>\n",
              "      <td id=\"T_72269_row6_col3\" class=\"data row6 col3\" >Calcutta</td>\n",
              "    </tr>\n",
              "    <tr>\n",
              "      <td id=\"T_72269_row7_col0\" class=\"data row7 col0\" >997445</td>\n",
              "      <td id=\"T_72269_row7_col1\" class=\"data row7 col1\" >Jagmohan</td>\n",
              "      <td id=\"T_72269_row7_col2\" class=\"data row7 col2\" >Accounts</td>\n",
              "      <td id=\"T_72269_row7_col3\" class=\"data row7 col3\" >Calcutta</td>\n",
              "    </tr>\n",
              "    <tr>\n",
              "      <td id=\"T_72269_row8_col0\" class=\"data row8 col0\" >822134</td>\n",
              "      <td id=\"T_72269_row8_col1\" class=\"data row8 col1\" >Rahul</td>\n",
              "      <td id=\"T_72269_row8_col2\" class=\"data row8 col2\" >Accounts</td>\n",
              "      <td id=\"T_72269_row8_col3\" class=\"data row8 col3\" >Calcutta</td>\n",
              "    </tr>\n",
              "    <tr>\n",
              "      <td id=\"T_72269_row9_col0\" class=\"data row9 col0\" >989007</td>\n",
              "      <td id=\"T_72269_row9_col1\" class=\"data row9 col1\" >Sourav</td>\n",
              "      <td id=\"T_72269_row9_col2\" class=\"data row9 col2\" >Production</td>\n",
              "      <td id=\"T_72269_row9_col3\" class=\"data row9 col3\" >Bombay</td>\n",
              "    </tr>\n",
              "    <tr>\n",
              "      <td id=\"T_72269_row10_col0\" class=\"data row10 col0\" >123980</td>\n",
              "      <td id=\"T_72269_row10_col1\" class=\"data row10 col1\" >Mahender</td>\n",
              "      <td id=\"T_72269_row10_col2\" class=\"data row10 col2\" >Production</td>\n",
              "      <td id=\"T_72269_row10_col3\" class=\"data row10 col3\" >Bombay</td>\n",
              "    </tr>\n",
              "    <tr>\n",
              "      <td id=\"T_72269_row11_col0\" class=\"data row11 col0\" >349870</td>\n",
              "      <td id=\"T_72269_row11_col1\" class=\"data row11 col1\" >Rani</td>\n",
              "      <td id=\"T_72269_row11_col2\" class=\"data row11 col2\" >Production</td>\n",
              "      <td id=\"T_72269_row11_col3\" class=\"data row11 col3\" >Bombay</td>\n",
              "    </tr>\n",
              "    <tr>\n",
              "      <td id=\"T_72269_row12_col0\" class=\"data row12 col0\" >None</td>\n",
              "      <td id=\"T_72269_row12_col1\" class=\"data row12 col1\" >None</td>\n",
              "      <td id=\"T_72269_row12_col2\" class=\"data row12 col2\" >Research</td>\n",
              "      <td id=\"T_72269_row12_col3\" class=\"data row12 col3\" >Delhi</td>\n",
              "    </tr>\n",
              "    <tr>\n",
              "      <td id=\"T_72269_row13_col0\" class=\"data row13 col0\" >546224</td>\n",
              "      <td id=\"T_72269_row13_col1\" class=\"data row13 col1\" >Chettri</td>\n",
              "      <td id=\"T_72269_row13_col2\" class=\"data row13 col2\" >None</td>\n",
              "      <td id=\"T_72269_row13_col3\" class=\"data row13 col3\" >None</td>\n",
              "    </tr>\n",
              "  </tbody>\n",
              "</table>\n"
            ]
          },
          "metadata": {},
          "execution_count": 55
        }
      ]
    },
    {
      "cell_type": "code",
      "source": [
        "sql = 'select deptname,round(sum(salary),0) payroll from empl FULL JOIN dept ON empl.deptid = dept.deptid \\\n",
        "group by deptname'\n",
        "runSelect(sql)"
      ],
      "metadata": {
        "id": "EAI2kiYP3p9O",
        "outputId": "5c9ea8c2-0a60-4eab-9625-bdb01ee8ce9d",
        "colab": {
          "base_uri": "https://localhost:8080/",
          "height": 238
        }
      },
      "execution_count": 56,
      "outputs": [
        {
          "output_type": "execute_result",
          "data": {
            "text/plain": [
              "<pandas.io.formats.style.Styler at 0x789494845c60>"
            ],
            "text/html": [
              "<style type=\"text/css\">\n",
              "</style>\n",
              "<table id=\"T_0c381\" class=\"dataframe\">\n",
              "  <thead>\n",
              "    <tr>\n",
              "      <th id=\"T_0c381_level0_col0\" class=\"col_heading level0 col0\" >deptname</th>\n",
              "      <th id=\"T_0c381_level0_col1\" class=\"col_heading level0 col1\" >payroll</th>\n",
              "    </tr>\n",
              "  </thead>\n",
              "  <tbody>\n",
              "    <tr>\n",
              "      <td id=\"T_0c381_row0_col0\" class=\"data row0 col0\" >None</td>\n",
              "      <td id=\"T_0c381_row0_col1\" class=\"data row0 col1\" >40000</td>\n",
              "    </tr>\n",
              "    <tr>\n",
              "      <td id=\"T_0c381_row1_col0\" class=\"data row1 col0\" >Research</td>\n",
              "      <td id=\"T_0c381_row1_col1\" class=\"data row1 col1\" >None</td>\n",
              "    </tr>\n",
              "    <tr>\n",
              "      <td id=\"T_0c381_row2_col0\" class=\"data row2 col0\" >Corporate</td>\n",
              "      <td id=\"T_0c381_row2_col1\" class=\"data row2 col1\" >150000</td>\n",
              "    </tr>\n",
              "    <tr>\n",
              "      <td id=\"T_0c381_row3_col0\" class=\"data row3 col0\" >Accounts</td>\n",
              "      <td id=\"T_0c381_row3_col1\" class=\"data row3 col1\" >77000</td>\n",
              "    </tr>\n",
              "    <tr>\n",
              "      <td id=\"T_0c381_row4_col0\" class=\"data row4 col0\" >Sales</td>\n",
              "      <td id=\"T_0c381_row4_col1\" class=\"data row4 col1\" >55000</td>\n",
              "    </tr>\n",
              "    <tr>\n",
              "      <td id=\"T_0c381_row5_col0\" class=\"data row5 col0\" >Production</td>\n",
              "      <td id=\"T_0c381_row5_col1\" class=\"data row5 col1\" >54000</td>\n",
              "    </tr>\n",
              "  </tbody>\n",
              "</table>\n"
            ]
          },
          "metadata": {},
          "execution_count": 56
        }
      ]
    },
    {
      "cell_type": "markdown",
      "source": [
        "## Recursive Joins"
      ],
      "metadata": {
        "id": "6nm2xAfn6pIV"
      }
    },
    {
      "cell_type": "markdown",
      "source": [
        "### Three Tables"
      ],
      "metadata": {
        "id": "A1KCGwwyB02z"
      }
    },
    {
      "cell_type": "code",
      "source": [
        "cmd = \"select w.lastname , w.deptID, '>' linksTo  , d.deptID ,d.managerID,'<' linksTo, m.empID, m.lastname \\\n",
        "        from Empl w, Dept d, Empl m \\\n",
        "        where w.deptID = d.deptID   \\\n",
        "        and d.managerID = m.empID \\\n",
        "    \"\n",
        "runSelect(cmd)"
      ],
      "metadata": {
        "colab": {
          "base_uri": "https://localhost:8080/",
          "height": 426
        },
        "id": "W17nS5R7AL0J",
        "outputId": "a3a27818-8562-4c7f-cca2-5c831ca35136"
      },
      "execution_count": 57,
      "outputs": [
        {
          "output_type": "execute_result",
          "data": {
            "text/plain": [
              "<pandas.io.formats.style.Styler at 0x789494845810>"
            ],
            "text/html": [
              "<style type=\"text/css\">\n",
              "</style>\n",
              "<table id=\"T_6f274\" class=\"dataframe\">\n",
              "  <thead>\n",
              "    <tr>\n",
              "      <th id=\"T_6f274_level0_col0\" class=\"col_heading level0 col0\" >lastname</th>\n",
              "      <th id=\"T_6f274_level0_col1\" class=\"col_heading level0 col1\" >deptid</th>\n",
              "      <th id=\"T_6f274_level0_col2\" class=\"col_heading level0 col2\" >linksto</th>\n",
              "      <th id=\"T_6f274_level0_col3\" class=\"col_heading level0 col3\" >deptid</th>\n",
              "      <th id=\"T_6f274_level0_col4\" class=\"col_heading level0 col4\" >managerid</th>\n",
              "      <th id=\"T_6f274_level0_col5\" class=\"col_heading level0 col5\" >linksto</th>\n",
              "      <th id=\"T_6f274_level0_col6\" class=\"col_heading level0 col6\" >empid</th>\n",
              "      <th id=\"T_6f274_level0_col7\" class=\"col_heading level0 col7\" >lastname</th>\n",
              "    </tr>\n",
              "  </thead>\n",
              "  <tbody>\n",
              "    <tr>\n",
              "      <td id=\"T_6f274_row0_col0\" class=\"data row0 col0\" >Karthikeyan</td>\n",
              "      <td id=\"T_6f274_row0_col1\" class=\"data row0 col1\" >10</td>\n",
              "      <td id=\"T_6f274_row0_col2\" class=\"data row0 col2\" >></td>\n",
              "      <td id=\"T_6f274_row0_col3\" class=\"data row0 col3\" >10</td>\n",
              "      <td id=\"T_6f274_row0_col4\" class=\"data row0 col4\" >299034</td>\n",
              "      <td id=\"T_6f274_row0_col5\" class=\"data row0 col5\" ><</td>\n",
              "      <td id=\"T_6f274_row0_col6\" class=\"data row0 col6\" >299034</td>\n",
              "      <td id=\"T_6f274_row0_col7\" class=\"data row0 col7\" >Ganesan</td>\n",
              "    </tr>\n",
              "    <tr>\n",
              "      <td id=\"T_6f274_row1_col0\" class=\"data row1 col0\" >Ganesan</td>\n",
              "      <td id=\"T_6f274_row1_col1\" class=\"data row1 col1\" >10</td>\n",
              "      <td id=\"T_6f274_row1_col2\" class=\"data row1 col2\" >></td>\n",
              "      <td id=\"T_6f274_row1_col3\" class=\"data row1 col3\" >10</td>\n",
              "      <td id=\"T_6f274_row1_col4\" class=\"data row1 col4\" >299034</td>\n",
              "      <td id=\"T_6f274_row1_col5\" class=\"data row1 col5\" ><</td>\n",
              "      <td id=\"T_6f274_row1_col6\" class=\"data row1 col6\" >299034</td>\n",
              "      <td id=\"T_6f274_row1_col7\" class=\"data row1 col7\" >Ganesan</td>\n",
              "    </tr>\n",
              "    <tr>\n",
              "      <td id=\"T_6f274_row2_col0\" class=\"data row2 col0\" >Bacchan</td>\n",
              "      <td id=\"T_6f274_row2_col1\" class=\"data row2 col1\" >10</td>\n",
              "      <td id=\"T_6f274_row2_col2\" class=\"data row2 col2\" >></td>\n",
              "      <td id=\"T_6f274_row2_col3\" class=\"data row2 col3\" >10</td>\n",
              "      <td id=\"T_6f274_row2_col4\" class=\"data row2 col4\" >299034</td>\n",
              "      <td id=\"T_6f274_row2_col5\" class=\"data row2 col5\" ><</td>\n",
              "      <td id=\"T_6f274_row2_col6\" class=\"data row2 col6\" >299034</td>\n",
              "      <td id=\"T_6f274_row2_col7\" class=\"data row2 col7\" >Ganesan</td>\n",
              "    </tr>\n",
              "    <tr>\n",
              "      <td id=\"T_6f274_row3_col0\" class=\"data row3 col0\" >Sehwag</td>\n",
              "      <td id=\"T_6f274_row3_col1\" class=\"data row3 col1\" >20</td>\n",
              "      <td id=\"T_6f274_row3_col2\" class=\"data row3 col2\" >></td>\n",
              "      <td id=\"T_6f274_row3_col3\" class=\"data row3 col3\" >20</td>\n",
              "      <td id=\"T_6f274_row3_col4\" class=\"data row3 col4\" >239456</td>\n",
              "      <td id=\"T_6f274_row3_col5\" class=\"data row3 col5\" ><</td>\n",
              "      <td id=\"T_6f274_row3_col6\" class=\"data row3 col6\" >239456</td>\n",
              "      <td id=\"T_6f274_row3_col7\" class=\"data row3 col7\" >Khan</td>\n",
              "    </tr>\n",
              "    <tr>\n",
              "      <td id=\"T_6f274_row4_col0\" class=\"data row4 col0\" >Khan</td>\n",
              "      <td id=\"T_6f274_row4_col1\" class=\"data row4 col1\" >20</td>\n",
              "      <td id=\"T_6f274_row4_col2\" class=\"data row4 col2\" >></td>\n",
              "      <td id=\"T_6f274_row4_col3\" class=\"data row4 col3\" >20</td>\n",
              "      <td id=\"T_6f274_row4_col4\" class=\"data row4 col4\" >239456</td>\n",
              "      <td id=\"T_6f274_row4_col5\" class=\"data row4 col5\" ><</td>\n",
              "      <td id=\"T_6f274_row4_col6\" class=\"data row4 col6\" >239456</td>\n",
              "      <td id=\"T_6f274_row4_col7\" class=\"data row4 col7\" >Khan</td>\n",
              "    </tr>\n",
              "    <tr>\n",
              "      <td id=\"T_6f274_row5_col0\" class=\"data row5 col0\" >Dikshit</td>\n",
              "      <td id=\"T_6f274_row5_col1\" class=\"data row5 col1\" >20</td>\n",
              "      <td id=\"T_6f274_row5_col2\" class=\"data row5 col2\" >></td>\n",
              "      <td id=\"T_6f274_row5_col3\" class=\"data row5 col3\" >20</td>\n",
              "      <td id=\"T_6f274_row5_col4\" class=\"data row5 col4\" >239456</td>\n",
              "      <td id=\"T_6f274_row5_col5\" class=\"data row5 col5\" ><</td>\n",
              "      <td id=\"T_6f274_row5_col6\" class=\"data row5 col6\" >239456</td>\n",
              "      <td id=\"T_6f274_row5_col7\" class=\"data row5 col7\" >Khan</td>\n",
              "    </tr>\n",
              "    <tr>\n",
              "      <td id=\"T_6f274_row6_col0\" class=\"data row6 col0\" >Mirza</td>\n",
              "      <td id=\"T_6f274_row6_col1\" class=\"data row6 col1\" >30</td>\n",
              "      <td id=\"T_6f274_row6_col2\" class=\"data row6 col2\" >></td>\n",
              "      <td id=\"T_6f274_row6_col3\" class=\"data row6 col3\" >30</td>\n",
              "      <td id=\"T_6f274_row6_col4\" class=\"data row6 col4\" >822134</td>\n",
              "      <td id=\"T_6f274_row6_col5\" class=\"data row6 col5\" ><</td>\n",
              "      <td id=\"T_6f274_row6_col6\" class=\"data row6 col6\" >822134</td>\n",
              "      <td id=\"T_6f274_row6_col7\" class=\"data row6 col7\" >Dravid</td>\n",
              "    </tr>\n",
              "    <tr>\n",
              "      <td id=\"T_6f274_row7_col0\" class=\"data row7 col0\" >Dalmia</td>\n",
              "      <td id=\"T_6f274_row7_col1\" class=\"data row7 col1\" >30</td>\n",
              "      <td id=\"T_6f274_row7_col2\" class=\"data row7 col2\" >></td>\n",
              "      <td id=\"T_6f274_row7_col3\" class=\"data row7 col3\" >30</td>\n",
              "      <td id=\"T_6f274_row7_col4\" class=\"data row7 col4\" >822134</td>\n",
              "      <td id=\"T_6f274_row7_col5\" class=\"data row7 col5\" ><</td>\n",
              "      <td id=\"T_6f274_row7_col6\" class=\"data row7 col6\" >822134</td>\n",
              "      <td id=\"T_6f274_row7_col7\" class=\"data row7 col7\" >Dravid</td>\n",
              "    </tr>\n",
              "    <tr>\n",
              "      <td id=\"T_6f274_row8_col0\" class=\"data row8 col0\" >Dravid</td>\n",
              "      <td id=\"T_6f274_row8_col1\" class=\"data row8 col1\" >30</td>\n",
              "      <td id=\"T_6f274_row8_col2\" class=\"data row8 col2\" >></td>\n",
              "      <td id=\"T_6f274_row8_col3\" class=\"data row8 col3\" >30</td>\n",
              "      <td id=\"T_6f274_row8_col4\" class=\"data row8 col4\" >822134</td>\n",
              "      <td id=\"T_6f274_row8_col5\" class=\"data row8 col5\" ><</td>\n",
              "      <td id=\"T_6f274_row8_col6\" class=\"data row8 col6\" >822134</td>\n",
              "      <td id=\"T_6f274_row8_col7\" class=\"data row8 col7\" >Dravid</td>\n",
              "    </tr>\n",
              "    <tr>\n",
              "      <td id=\"T_6f274_row9_col0\" class=\"data row9 col0\" >Ganguly</td>\n",
              "      <td id=\"T_6f274_row9_col1\" class=\"data row9 col1\" >40</td>\n",
              "      <td id=\"T_6f274_row9_col2\" class=\"data row9 col2\" >></td>\n",
              "      <td id=\"T_6f274_row9_col3\" class=\"data row9 col3\" >40</td>\n",
              "      <td id=\"T_6f274_row9_col4\" class=\"data row9 col4\" >349870</td>\n",
              "      <td id=\"T_6f274_row9_col5\" class=\"data row9 col5\" ><</td>\n",
              "      <td id=\"T_6f274_row9_col6\" class=\"data row9 col6\" >349870</td>\n",
              "      <td id=\"T_6f274_row9_col7\" class=\"data row9 col7\" >Mukherjee</td>\n",
              "    </tr>\n",
              "    <tr>\n",
              "      <td id=\"T_6f274_row10_col0\" class=\"data row10 col0\" >Dhoni</td>\n",
              "      <td id=\"T_6f274_row10_col1\" class=\"data row10 col1\" >40</td>\n",
              "      <td id=\"T_6f274_row10_col2\" class=\"data row10 col2\" >></td>\n",
              "      <td id=\"T_6f274_row10_col3\" class=\"data row10 col3\" >40</td>\n",
              "      <td id=\"T_6f274_row10_col4\" class=\"data row10 col4\" >349870</td>\n",
              "      <td id=\"T_6f274_row10_col5\" class=\"data row10 col5\" ><</td>\n",
              "      <td id=\"T_6f274_row10_col6\" class=\"data row10 col6\" >349870</td>\n",
              "      <td id=\"T_6f274_row10_col7\" class=\"data row10 col7\" >Mukherjee</td>\n",
              "    </tr>\n",
              "    <tr>\n",
              "      <td id=\"T_6f274_row11_col0\" class=\"data row11 col0\" >Mukherjee</td>\n",
              "      <td id=\"T_6f274_row11_col1\" class=\"data row11 col1\" >40</td>\n",
              "      <td id=\"T_6f274_row11_col2\" class=\"data row11 col2\" >></td>\n",
              "      <td id=\"T_6f274_row11_col3\" class=\"data row11 col3\" >40</td>\n",
              "      <td id=\"T_6f274_row11_col4\" class=\"data row11 col4\" >349870</td>\n",
              "      <td id=\"T_6f274_row11_col5\" class=\"data row11 col5\" ><</td>\n",
              "      <td id=\"T_6f274_row11_col6\" class=\"data row11 col6\" >349870</td>\n",
              "      <td id=\"T_6f274_row11_col7\" class=\"data row11 col7\" >Mukherjee</td>\n",
              "    </tr>\n",
              "  </tbody>\n",
              "</table>\n"
            ]
          },
          "metadata": {},
          "execution_count": 57
        }
      ]
    },
    {
      "cell_type": "markdown",
      "source": [
        "### Self Join / Single Table"
      ],
      "metadata": {
        "id": "jeknsMbjCA2A"
      }
    },
    {
      "cell_type": "code",
      "source": [
        "cmd = \"Select w.FirstName, w.JobDesc, w.DeptID, \\\n",
        "    ' hired by ' hiredby, \\\n",
        "    m.FirstName,m.JobDesc,m.DeptID \\\n",
        "    from empl w, empl m \\\n",
        "    where w.HiredBy = m.EmpID\"\n",
        "\n",
        "runSelect(cmd)"
      ],
      "metadata": {
        "colab": {
          "base_uri": "https://localhost:8080/",
          "height": 426
        },
        "id": "iDPmUw9-CEBH",
        "outputId": "7e4442e2-d893-4d2c-fbb3-a409f03dac83"
      },
      "execution_count": 58,
      "outputs": [
        {
          "output_type": "execute_result",
          "data": {
            "text/plain": [
              "<pandas.io.formats.style.Styler at 0x7894947b5300>"
            ],
            "text/html": [
              "<style type=\"text/css\">\n",
              "</style>\n",
              "<table id=\"T_1d570\" class=\"dataframe\">\n",
              "  <thead>\n",
              "    <tr>\n",
              "      <th id=\"T_1d570_level0_col0\" class=\"col_heading level0 col0\" >firstname</th>\n",
              "      <th id=\"T_1d570_level0_col1\" class=\"col_heading level0 col1\" >jobdesc</th>\n",
              "      <th id=\"T_1d570_level0_col2\" class=\"col_heading level0 col2\" >deptid</th>\n",
              "      <th id=\"T_1d570_level0_col3\" class=\"col_heading level0 col3\" >hiredby</th>\n",
              "      <th id=\"T_1d570_level0_col4\" class=\"col_heading level0 col4\" >firstname</th>\n",
              "      <th id=\"T_1d570_level0_col5\" class=\"col_heading level0 col5\" >jobdesc</th>\n",
              "      <th id=\"T_1d570_level0_col6\" class=\"col_heading level0 col6\" >deptid</th>\n",
              "    </tr>\n",
              "  </thead>\n",
              "  <tbody>\n",
              "    <tr>\n",
              "      <td id=\"T_1d570_row0_col0\" class=\"data row0 col0\" >Rani</td>\n",
              "      <td id=\"T_1d570_row0_col1\" class=\"data row0 col1\" >Manager</td>\n",
              "      <td id=\"T_1d570_row0_col2\" class=\"data row0 col2\" >40</td>\n",
              "      <td id=\"T_1d570_row0_col3\" class=\"data row0 col3\" > hired by </td>\n",
              "      <td id=\"T_1d570_row0_col4\" class=\"data row0 col4\" >Amitabh</td>\n",
              "      <td id=\"T_1d570_row0_col5\" class=\"data row0 col5\" >Executive</td>\n",
              "      <td id=\"T_1d570_row0_col6\" class=\"data row0 col6\" >10</td>\n",
              "    </tr>\n",
              "    <tr>\n",
              "      <td id=\"T_1d570_row1_col0\" class=\"data row1 col0\" >Madhuri</td>\n",
              "      <td id=\"T_1d570_row1_col1\" class=\"data row1 col1\" >Clerk</td>\n",
              "      <td id=\"T_1d570_row1_col2\" class=\"data row1 col2\" >20</td>\n",
              "      <td id=\"T_1d570_row1_col3\" class=\"data row1 col3\" > hired by </td>\n",
              "      <td id=\"T_1d570_row1_col4\" class=\"data row1 col4\" >Shahrukh</td>\n",
              "      <td id=\"T_1d570_row1_col5\" class=\"data row1 col5\" >Manager</td>\n",
              "      <td id=\"T_1d570_row1_col6\" class=\"data row1 col6\" >20</td>\n",
              "    </tr>\n",
              "    <tr>\n",
              "      <td id=\"T_1d570_row2_col0\" class=\"data row2 col0\" >Shahrukh</td>\n",
              "      <td id=\"T_1d570_row2_col1\" class=\"data row2 col1\" >Manager</td>\n",
              "      <td id=\"T_1d570_row2_col2\" class=\"data row2 col2\" >20</td>\n",
              "      <td id=\"T_1d570_row2_col3\" class=\"data row2 col3\" > hired by </td>\n",
              "      <td id=\"T_1d570_row2_col4\" class=\"data row2 col4\" >Amitabh</td>\n",
              "      <td id=\"T_1d570_row2_col5\" class=\"data row2 col5\" >Executive</td>\n",
              "      <td id=\"T_1d570_row2_col6\" class=\"data row2 col6\" >10</td>\n",
              "    </tr>\n",
              "    <tr>\n",
              "      <td id=\"T_1d570_row3_col0\" class=\"data row3 col0\" >Virender</td>\n",
              "      <td id=\"T_1d570_row3_col1\" class=\"data row3 col1\" >Cus_Rep</td>\n",
              "      <td id=\"T_1d570_row3_col2\" class=\"data row3 col2\" >20</td>\n",
              "      <td id=\"T_1d570_row3_col3\" class=\"data row3 col3\" > hired by </td>\n",
              "      <td id=\"T_1d570_row3_col4\" class=\"data row3 col4\" >Shahrukh</td>\n",
              "      <td id=\"T_1d570_row3_col5\" class=\"data row3 col5\" >Manager</td>\n",
              "      <td id=\"T_1d570_row3_col6\" class=\"data row3 col6\" >20</td>\n",
              "    </tr>\n",
              "    <tr>\n",
              "      <td id=\"T_1d570_row4_col0\" class=\"data row4 col0\" >Mahender</td>\n",
              "      <td id=\"T_1d570_row4_col1\" class=\"data row4 col1\" >Clerk</td>\n",
              "      <td id=\"T_1d570_row4_col2\" class=\"data row4 col2\" >40</td>\n",
              "      <td id=\"T_1d570_row4_col3\" class=\"data row4 col3\" > hired by </td>\n",
              "      <td id=\"T_1d570_row4_col4\" class=\"data row4 col4\" >Rani</td>\n",
              "      <td id=\"T_1d570_row4_col5\" class=\"data row4 col5\" >Manager</td>\n",
              "      <td id=\"T_1d570_row4_col6\" class=\"data row4 col6\" >40</td>\n",
              "    </tr>\n",
              "    <tr>\n",
              "      <td id=\"T_1d570_row5_col0\" class=\"data row5 col0\" >Rahul</td>\n",
              "      <td id=\"T_1d570_row5_col1\" class=\"data row5 col1\" >Sr Manager</td>\n",
              "      <td id=\"T_1d570_row5_col2\" class=\"data row5 col2\" >30</td>\n",
              "      <td id=\"T_1d570_row5_col3\" class=\"data row5 col3\" > hired by </td>\n",
              "      <td id=\"T_1d570_row5_col4\" class=\"data row5 col4\" >Amitabh</td>\n",
              "      <td id=\"T_1d570_row5_col5\" class=\"data row5 col5\" >Executive</td>\n",
              "      <td id=\"T_1d570_row5_col6\" class=\"data row5 col6\" >10</td>\n",
              "    </tr>\n",
              "    <tr>\n",
              "      <td id=\"T_1d570_row6_col0\" class=\"data row6 col0\" >Jagmohan</td>\n",
              "      <td id=\"T_1d570_row6_col1\" class=\"data row6 col1\" >Clerk</td>\n",
              "      <td id=\"T_1d570_row6_col2\" class=\"data row6 col2\" >30</td>\n",
              "      <td id=\"T_1d570_row6_col3\" class=\"data row6 col3\" > hired by </td>\n",
              "      <td id=\"T_1d570_row6_col4\" class=\"data row6 col4\" >Rahul</td>\n",
              "      <td id=\"T_1d570_row6_col5\" class=\"data row6 col5\" >Sr Manager</td>\n",
              "      <td id=\"T_1d570_row6_col6\" class=\"data row6 col6\" >30</td>\n",
              "    </tr>\n",
              "    <tr>\n",
              "      <td id=\"T_1d570_row7_col0\" class=\"data row7 col0\" >Sourav</td>\n",
              "      <td id=\"T_1d570_row7_col1\" class=\"data row7 col1\" >Cus_Rep</td>\n",
              "      <td id=\"T_1d570_row7_col2\" class=\"data row7 col2\" >40</td>\n",
              "      <td id=\"T_1d570_row7_col3\" class=\"data row7 col3\" > hired by </td>\n",
              "      <td id=\"T_1d570_row7_col4\" class=\"data row7 col4\" >Rekha</td>\n",
              "      <td id=\"T_1d570_row7_col5\" class=\"data row7 col5\" >Director</td>\n",
              "      <td id=\"T_1d570_row7_col6\" class=\"data row7 col6\" >10</td>\n",
              "    </tr>\n",
              "    <tr>\n",
              "      <td id=\"T_1d570_row8_col0\" class=\"data row8 col0\" >Rekha</td>\n",
              "      <td id=\"T_1d570_row8_col1\" class=\"data row8 col1\" >Director</td>\n",
              "      <td id=\"T_1d570_row8_col2\" class=\"data row8 col2\" >10</td>\n",
              "      <td id=\"T_1d570_row8_col3\" class=\"data row8 col3\" > hired by </td>\n",
              "      <td id=\"T_1d570_row8_col4\" class=\"data row8 col4\" >Amitabh</td>\n",
              "      <td id=\"T_1d570_row8_col5\" class=\"data row8 col5\" >Executive</td>\n",
              "      <td id=\"T_1d570_row8_col6\" class=\"data row8 col6\" >10</td>\n",
              "    </tr>\n",
              "    <tr>\n",
              "      <td id=\"T_1d570_row9_col0\" class=\"data row9 col0\" >Narayan</td>\n",
              "      <td id=\"T_1d570_row9_col1\" class=\"data row9 col1\" >Secretary</td>\n",
              "      <td id=\"T_1d570_row9_col2\" class=\"data row9 col2\" >10</td>\n",
              "      <td id=\"T_1d570_row9_col3\" class=\"data row9 col3\" > hired by </td>\n",
              "      <td id=\"T_1d570_row9_col4\" class=\"data row9 col4\" >Rekha</td>\n",
              "      <td id=\"T_1d570_row9_col5\" class=\"data row9 col5\" >Director</td>\n",
              "      <td id=\"T_1d570_row9_col6\" class=\"data row9 col6\" >10</td>\n",
              "    </tr>\n",
              "    <tr>\n",
              "      <td id=\"T_1d570_row10_col0\" class=\"data row10 col0\" >Chettri</td>\n",
              "      <td id=\"T_1d570_row10_col1\" class=\"data row10 col1\" >Dy Manager</td>\n",
              "      <td id=\"T_1d570_row10_col2\" class=\"data row10 col2\" >70</td>\n",
              "      <td id=\"T_1d570_row10_col3\" class=\"data row10 col3\" > hired by </td>\n",
              "      <td id=\"T_1d570_row10_col4\" class=\"data row10 col4\" >Rani</td>\n",
              "      <td id=\"T_1d570_row10_col5\" class=\"data row10 col5\" >Manager</td>\n",
              "      <td id=\"T_1d570_row10_col6\" class=\"data row10 col6\" >40</td>\n",
              "    </tr>\n",
              "    <tr>\n",
              "      <td id=\"T_1d570_row11_col0\" class=\"data row11 col0\" >Sania</td>\n",
              "      <td id=\"T_1d570_row11_col1\" class=\"data row11 col1\" >Cus_Rep</td>\n",
              "      <td id=\"T_1d570_row11_col2\" class=\"data row11 col2\" >30</td>\n",
              "      <td id=\"T_1d570_row11_col3\" class=\"data row11 col3\" > hired by </td>\n",
              "      <td id=\"T_1d570_row11_col4\" class=\"data row11 col4\" >Rahul</td>\n",
              "      <td id=\"T_1d570_row11_col5\" class=\"data row11 col5\" >Sr Manager</td>\n",
              "      <td id=\"T_1d570_row11_col6\" class=\"data row11 col6\" >30</td>\n",
              "    </tr>\n",
              "  </tbody>\n",
              "</table>\n"
            ]
          },
          "metadata": {},
          "execution_count": 58
        }
      ]
    },
    {
      "cell_type": "markdown",
      "source": [
        "#Subquery"
      ],
      "metadata": {
        "id": "tXDgw1RBzUf-"
      }
    },
    {
      "cell_type": "code",
      "source": [
        "sql = \"select lastname, salary, jobdesc, deptid from empl where \\\n",
        "salary = (select max(salary) from empl where deptid = '20') \\\n",
        "and deptid = '20'\"\n",
        "\n",
        "runSelect(sql)"
      ],
      "metadata": {
        "colab": {
          "base_uri": "https://localhost:8080/",
          "height": 81
        },
        "id": "SxQqgOcHzYTF",
        "outputId": "642daaab-d07f-4a80-f1b4-244a99f4f352"
      },
      "execution_count": 59,
      "outputs": [
        {
          "output_type": "execute_result",
          "data": {
            "text/plain": [
              "<pandas.io.formats.style.Styler at 0x789494846d70>"
            ],
            "text/html": [
              "<style type=\"text/css\">\n",
              "</style>\n",
              "<table id=\"T_908fe\" class=\"dataframe\">\n",
              "  <thead>\n",
              "    <tr>\n",
              "      <th id=\"T_908fe_level0_col0\" class=\"col_heading level0 col0\" >lastname</th>\n",
              "      <th id=\"T_908fe_level0_col1\" class=\"col_heading level0 col1\" >salary</th>\n",
              "      <th id=\"T_908fe_level0_col2\" class=\"col_heading level0 col2\" >jobdesc</th>\n",
              "      <th id=\"T_908fe_level0_col3\" class=\"col_heading level0 col3\" >deptid</th>\n",
              "    </tr>\n",
              "  </thead>\n",
              "  <tbody>\n",
              "    <tr>\n",
              "      <td id=\"T_908fe_row0_col0\" class=\"data row0 col0\" >Khan</td>\n",
              "      <td id=\"T_908fe_row0_col1\" class=\"data row0 col1\" >30000</td>\n",
              "      <td id=\"T_908fe_row0_col2\" class=\"data row0 col2\" >Manager</td>\n",
              "      <td id=\"T_908fe_row0_col3\" class=\"data row0 col3\" >20</td>\n",
              "    </tr>\n",
              "  </tbody>\n",
              "</table>\n"
            ]
          },
          "metadata": {},
          "execution_count": 59
        }
      ]
    },
    {
      "cell_type": "code",
      "source": [
        "sql = \"select lastname, salary, jobdesc, deptid from empl where salary < (select avg(salary) from empl where deptid = '20')\\\n",
        "and deptid = '20'\"\n",
        "runSelect(sql)"
      ],
      "metadata": {
        "colab": {
          "base_uri": "https://localhost:8080/",
          "height": 112
        },
        "id": "oEhaMtyLz3Tm",
        "outputId": "222184b8-3a49-4b98-e38b-5aaa7ca8c5a9"
      },
      "execution_count": 60,
      "outputs": [
        {
          "output_type": "execute_result",
          "data": {
            "text/plain": [
              "<pandas.io.formats.style.Styler at 0x789494847ac0>"
            ],
            "text/html": [
              "<style type=\"text/css\">\n",
              "</style>\n",
              "<table id=\"T_026fe\" class=\"dataframe\">\n",
              "  <thead>\n",
              "    <tr>\n",
              "      <th id=\"T_026fe_level0_col0\" class=\"col_heading level0 col0\" >lastname</th>\n",
              "      <th id=\"T_026fe_level0_col1\" class=\"col_heading level0 col1\" >salary</th>\n",
              "      <th id=\"T_026fe_level0_col2\" class=\"col_heading level0 col2\" >jobdesc</th>\n",
              "      <th id=\"T_026fe_level0_col3\" class=\"col_heading level0 col3\" >deptid</th>\n",
              "    </tr>\n",
              "  </thead>\n",
              "  <tbody>\n",
              "    <tr>\n",
              "      <td id=\"T_026fe_row0_col0\" class=\"data row0 col0\" >Dikshit</td>\n",
              "      <td id=\"T_026fe_row0_col1\" class=\"data row0 col1\" >10000</td>\n",
              "      <td id=\"T_026fe_row0_col2\" class=\"data row0 col2\" >Clerk</td>\n",
              "      <td id=\"T_026fe_row0_col3\" class=\"data row0 col3\" >20</td>\n",
              "    </tr>\n",
              "    <tr>\n",
              "      <td id=\"T_026fe_row1_col0\" class=\"data row1 col0\" >Sehwag</td>\n",
              "      <td id=\"T_026fe_row1_col1\" class=\"data row1 col1\" >15000</td>\n",
              "      <td id=\"T_026fe_row1_col2\" class=\"data row1 col2\" >Cus_Rep</td>\n",
              "      <td id=\"T_026fe_row1_col3\" class=\"data row1 col3\" >20</td>\n",
              "    </tr>\n",
              "  </tbody>\n",
              "</table>\n"
            ]
          },
          "metadata": {},
          "execution_count": 60
        }
      ]
    },
    {
      "cell_type": "markdown",
      "source": [
        "#Window Functions"
      ],
      "metadata": {
        "id": "p1v2XtGa1QOq"
      }
    },
    {
      "cell_type": "code",
      "source": [
        "sql = \"select deptid, lastname, salary, \\\n",
        "    avg(salary) over (partition by deptid) \\\n",
        "    from empl\"\n",
        "runSelect(sql)"
      ],
      "metadata": {
        "colab": {
          "base_uri": "https://localhost:8080/",
          "height": 457
        },
        "id": "ffpu5hXo1TfJ",
        "outputId": "140a5a3a-27e8-45ee-dc52-4bbbf318a728"
      },
      "execution_count": 61,
      "outputs": [
        {
          "output_type": "execute_result",
          "data": {
            "text/plain": [
              "<pandas.io.formats.style.Styler at 0x789494847b80>"
            ],
            "text/html": [
              "<style type=\"text/css\">\n",
              "</style>\n",
              "<table id=\"T_808a9\" class=\"dataframe\">\n",
              "  <thead>\n",
              "    <tr>\n",
              "      <th id=\"T_808a9_level0_col0\" class=\"col_heading level0 col0\" >deptid</th>\n",
              "      <th id=\"T_808a9_level0_col1\" class=\"col_heading level0 col1\" >lastname</th>\n",
              "      <th id=\"T_808a9_level0_col2\" class=\"col_heading level0 col2\" >salary</th>\n",
              "      <th id=\"T_808a9_level0_col3\" class=\"col_heading level0 col3\" >avg</th>\n",
              "    </tr>\n",
              "  </thead>\n",
              "  <tbody>\n",
              "    <tr>\n",
              "      <td id=\"T_808a9_row0_col0\" class=\"data row0 col0\" >10</td>\n",
              "      <td id=\"T_808a9_row0_col1\" class=\"data row0 col1\" >Bacchan</td>\n",
              "      <td id=\"T_808a9_row0_col2\" class=\"data row0 col2\" >50000</td>\n",
              "      <td id=\"T_808a9_row0_col3\" class=\"data row0 col3\" >50000.000000000000</td>\n",
              "    </tr>\n",
              "    <tr>\n",
              "      <td id=\"T_808a9_row1_col0\" class=\"data row1 col0\" >10</td>\n",
              "      <td id=\"T_808a9_row1_col1\" class=\"data row1 col1\" >Ganesan</td>\n",
              "      <td id=\"T_808a9_row1_col2\" class=\"data row1 col2\" >60000</td>\n",
              "      <td id=\"T_808a9_row1_col3\" class=\"data row1 col3\" >50000.000000000000</td>\n",
              "    </tr>\n",
              "    <tr>\n",
              "      <td id=\"T_808a9_row2_col0\" class=\"data row2 col0\" >10</td>\n",
              "      <td id=\"T_808a9_row2_col1\" class=\"data row2 col1\" >Karthikeyan</td>\n",
              "      <td id=\"T_808a9_row2_col2\" class=\"data row2 col2\" >40000</td>\n",
              "      <td id=\"T_808a9_row2_col3\" class=\"data row2 col3\" >50000.000000000000</td>\n",
              "    </tr>\n",
              "    <tr>\n",
              "      <td id=\"T_808a9_row3_col0\" class=\"data row3 col0\" >20</td>\n",
              "      <td id=\"T_808a9_row3_col1\" class=\"data row3 col1\" >Dikshit</td>\n",
              "      <td id=\"T_808a9_row3_col2\" class=\"data row3 col2\" >10000</td>\n",
              "      <td id=\"T_808a9_row3_col3\" class=\"data row3 col3\" >18333.333333333333</td>\n",
              "    </tr>\n",
              "    <tr>\n",
              "      <td id=\"T_808a9_row4_col0\" class=\"data row4 col0\" >20</td>\n",
              "      <td id=\"T_808a9_row4_col1\" class=\"data row4 col1\" >Khan</td>\n",
              "      <td id=\"T_808a9_row4_col2\" class=\"data row4 col2\" >30000</td>\n",
              "      <td id=\"T_808a9_row4_col3\" class=\"data row4 col3\" >18333.333333333333</td>\n",
              "    </tr>\n",
              "    <tr>\n",
              "      <td id=\"T_808a9_row5_col0\" class=\"data row5 col0\" >20</td>\n",
              "      <td id=\"T_808a9_row5_col1\" class=\"data row5 col1\" >Sehwag</td>\n",
              "      <td id=\"T_808a9_row5_col2\" class=\"data row5 col2\" >15000</td>\n",
              "      <td id=\"T_808a9_row5_col3\" class=\"data row5 col3\" >18333.333333333333</td>\n",
              "    </tr>\n",
              "    <tr>\n",
              "      <td id=\"T_808a9_row6_col0\" class=\"data row6 col0\" >30</td>\n",
              "      <td id=\"T_808a9_row6_col1\" class=\"data row6 col1\" >Mirza</td>\n",
              "      <td id=\"T_808a9_row6_col2\" class=\"data row6 col2\" >25000</td>\n",
              "      <td id=\"T_808a9_row6_col3\" class=\"data row6 col3\" >25666.666666666667</td>\n",
              "    </tr>\n",
              "    <tr>\n",
              "      <td id=\"T_808a9_row7_col0\" class=\"data row7 col0\" >30</td>\n",
              "      <td id=\"T_808a9_row7_col1\" class=\"data row7 col1\" >Dravid</td>\n",
              "      <td id=\"T_808a9_row7_col2\" class=\"data row7 col2\" >40000</td>\n",
              "      <td id=\"T_808a9_row7_col3\" class=\"data row7 col3\" >25666.666666666667</td>\n",
              "    </tr>\n",
              "    <tr>\n",
              "      <td id=\"T_808a9_row8_col0\" class=\"data row8 col0\" >30</td>\n",
              "      <td id=\"T_808a9_row8_col1\" class=\"data row8 col1\" >Dalmia</td>\n",
              "      <td id=\"T_808a9_row8_col2\" class=\"data row8 col2\" >12000</td>\n",
              "      <td id=\"T_808a9_row8_col3\" class=\"data row8 col3\" >25666.666666666667</td>\n",
              "    </tr>\n",
              "    <tr>\n",
              "      <td id=\"T_808a9_row9_col0\" class=\"data row9 col0\" >40</td>\n",
              "      <td id=\"T_808a9_row9_col1\" class=\"data row9 col1\" >Ganguly</td>\n",
              "      <td id=\"T_808a9_row9_col2\" class=\"data row9 col2\" >20000</td>\n",
              "      <td id=\"T_808a9_row9_col3\" class=\"data row9 col3\" >18000.000000000000</td>\n",
              "    </tr>\n",
              "    <tr>\n",
              "      <td id=\"T_808a9_row10_col0\" class=\"data row10 col0\" >40</td>\n",
              "      <td id=\"T_808a9_row10_col1\" class=\"data row10 col1\" >Dhoni</td>\n",
              "      <td id=\"T_808a9_row10_col2\" class=\"data row10 col2\" >9000</td>\n",
              "      <td id=\"T_808a9_row10_col3\" class=\"data row10 col3\" >18000.000000000000</td>\n",
              "    </tr>\n",
              "    <tr>\n",
              "      <td id=\"T_808a9_row11_col0\" class=\"data row11 col0\" >40</td>\n",
              "      <td id=\"T_808a9_row11_col1\" class=\"data row11 col1\" >Mukherjee</td>\n",
              "      <td id=\"T_808a9_row11_col2\" class=\"data row11 col2\" >25000</td>\n",
              "      <td id=\"T_808a9_row11_col3\" class=\"data row11 col3\" >18000.000000000000</td>\n",
              "    </tr>\n",
              "    <tr>\n",
              "      <td id=\"T_808a9_row12_col0\" class=\"data row12 col0\" >70</td>\n",
              "      <td id=\"T_808a9_row12_col1\" class=\"data row12 col1\" >Sunil</td>\n",
              "      <td id=\"T_808a9_row12_col2\" class=\"data row12 col2\" >40000</td>\n",
              "      <td id=\"T_808a9_row12_col3\" class=\"data row12 col3\" >40000.000000000000</td>\n",
              "    </tr>\n",
              "  </tbody>\n",
              "</table>\n"
            ]
          },
          "metadata": {},
          "execution_count": 61
        }
      ]
    },
    {
      "cell_type": "code",
      "source": [
        "sql = \"select deptname, lastname, salary, avg(salary) over (partition by deptname) from empl  inner join dept using(deptid)\"\n",
        "runSelect(sql)"
      ],
      "metadata": {
        "colab": {
          "base_uri": "https://localhost:8080/",
          "height": 426
        },
        "id": "JZC4y3tg2o8A",
        "outputId": "cd576f23-f96d-4274-dfe7-a5457cba6519"
      },
      "execution_count": 62,
      "outputs": [
        {
          "output_type": "execute_result",
          "data": {
            "text/plain": [
              "<pandas.io.formats.style.Styler at 0x789494846c50>"
            ],
            "text/html": [
              "<style type=\"text/css\">\n",
              "</style>\n",
              "<table id=\"T_746e6\" class=\"dataframe\">\n",
              "  <thead>\n",
              "    <tr>\n",
              "      <th id=\"T_746e6_level0_col0\" class=\"col_heading level0 col0\" >deptname</th>\n",
              "      <th id=\"T_746e6_level0_col1\" class=\"col_heading level0 col1\" >lastname</th>\n",
              "      <th id=\"T_746e6_level0_col2\" class=\"col_heading level0 col2\" >salary</th>\n",
              "      <th id=\"T_746e6_level0_col3\" class=\"col_heading level0 col3\" >avg</th>\n",
              "    </tr>\n",
              "  </thead>\n",
              "  <tbody>\n",
              "    <tr>\n",
              "      <td id=\"T_746e6_row0_col0\" class=\"data row0 col0\" >Accounts</td>\n",
              "      <td id=\"T_746e6_row0_col1\" class=\"data row0 col1\" >Dravid</td>\n",
              "      <td id=\"T_746e6_row0_col2\" class=\"data row0 col2\" >40000</td>\n",
              "      <td id=\"T_746e6_row0_col3\" class=\"data row0 col3\" >25666.666666666667</td>\n",
              "    </tr>\n",
              "    <tr>\n",
              "      <td id=\"T_746e6_row1_col0\" class=\"data row1 col0\" >Accounts</td>\n",
              "      <td id=\"T_746e6_row1_col1\" class=\"data row1 col1\" >Dalmia</td>\n",
              "      <td id=\"T_746e6_row1_col2\" class=\"data row1 col2\" >12000</td>\n",
              "      <td id=\"T_746e6_row1_col3\" class=\"data row1 col3\" >25666.666666666667</td>\n",
              "    </tr>\n",
              "    <tr>\n",
              "      <td id=\"T_746e6_row2_col0\" class=\"data row2 col0\" >Accounts</td>\n",
              "      <td id=\"T_746e6_row2_col1\" class=\"data row2 col1\" >Mirza</td>\n",
              "      <td id=\"T_746e6_row2_col2\" class=\"data row2 col2\" >25000</td>\n",
              "      <td id=\"T_746e6_row2_col3\" class=\"data row2 col3\" >25666.666666666667</td>\n",
              "    </tr>\n",
              "    <tr>\n",
              "      <td id=\"T_746e6_row3_col0\" class=\"data row3 col0\" >Corporate</td>\n",
              "      <td id=\"T_746e6_row3_col1\" class=\"data row3 col1\" >Karthikeyan</td>\n",
              "      <td id=\"T_746e6_row3_col2\" class=\"data row3 col2\" >40000</td>\n",
              "      <td id=\"T_746e6_row3_col3\" class=\"data row3 col3\" >50000.000000000000</td>\n",
              "    </tr>\n",
              "    <tr>\n",
              "      <td id=\"T_746e6_row4_col0\" class=\"data row4 col0\" >Corporate</td>\n",
              "      <td id=\"T_746e6_row4_col1\" class=\"data row4 col1\" >Ganesan</td>\n",
              "      <td id=\"T_746e6_row4_col2\" class=\"data row4 col2\" >60000</td>\n",
              "      <td id=\"T_746e6_row4_col3\" class=\"data row4 col3\" >50000.000000000000</td>\n",
              "    </tr>\n",
              "    <tr>\n",
              "      <td id=\"T_746e6_row5_col0\" class=\"data row5 col0\" >Corporate</td>\n",
              "      <td id=\"T_746e6_row5_col1\" class=\"data row5 col1\" >Bacchan</td>\n",
              "      <td id=\"T_746e6_row5_col2\" class=\"data row5 col2\" >50000</td>\n",
              "      <td id=\"T_746e6_row5_col3\" class=\"data row5 col3\" >50000.000000000000</td>\n",
              "    </tr>\n",
              "    <tr>\n",
              "      <td id=\"T_746e6_row6_col0\" class=\"data row6 col0\" >Production</td>\n",
              "      <td id=\"T_746e6_row6_col1\" class=\"data row6 col1\" >Ganguly</td>\n",
              "      <td id=\"T_746e6_row6_col2\" class=\"data row6 col2\" >20000</td>\n",
              "      <td id=\"T_746e6_row6_col3\" class=\"data row6 col3\" >18000.000000000000</td>\n",
              "    </tr>\n",
              "    <tr>\n",
              "      <td id=\"T_746e6_row7_col0\" class=\"data row7 col0\" >Production</td>\n",
              "      <td id=\"T_746e6_row7_col1\" class=\"data row7 col1\" >Dhoni</td>\n",
              "      <td id=\"T_746e6_row7_col2\" class=\"data row7 col2\" >9000</td>\n",
              "      <td id=\"T_746e6_row7_col3\" class=\"data row7 col3\" >18000.000000000000</td>\n",
              "    </tr>\n",
              "    <tr>\n",
              "      <td id=\"T_746e6_row8_col0\" class=\"data row8 col0\" >Production</td>\n",
              "      <td id=\"T_746e6_row8_col1\" class=\"data row8 col1\" >Mukherjee</td>\n",
              "      <td id=\"T_746e6_row8_col2\" class=\"data row8 col2\" >25000</td>\n",
              "      <td id=\"T_746e6_row8_col3\" class=\"data row8 col3\" >18000.000000000000</td>\n",
              "    </tr>\n",
              "    <tr>\n",
              "      <td id=\"T_746e6_row9_col0\" class=\"data row9 col0\" >Sales</td>\n",
              "      <td id=\"T_746e6_row9_col1\" class=\"data row9 col1\" >Dikshit</td>\n",
              "      <td id=\"T_746e6_row9_col2\" class=\"data row9 col2\" >10000</td>\n",
              "      <td id=\"T_746e6_row9_col3\" class=\"data row9 col3\" >18333.333333333333</td>\n",
              "    </tr>\n",
              "    <tr>\n",
              "      <td id=\"T_746e6_row10_col0\" class=\"data row10 col0\" >Sales</td>\n",
              "      <td id=\"T_746e6_row10_col1\" class=\"data row10 col1\" >Khan</td>\n",
              "      <td id=\"T_746e6_row10_col2\" class=\"data row10 col2\" >30000</td>\n",
              "      <td id=\"T_746e6_row10_col3\" class=\"data row10 col3\" >18333.333333333333</td>\n",
              "    </tr>\n",
              "    <tr>\n",
              "      <td id=\"T_746e6_row11_col0\" class=\"data row11 col0\" >Sales</td>\n",
              "      <td id=\"T_746e6_row11_col1\" class=\"data row11 col1\" >Sehwag</td>\n",
              "      <td id=\"T_746e6_row11_col2\" class=\"data row11 col2\" >15000</td>\n",
              "      <td id=\"T_746e6_row11_col3\" class=\"data row11 col3\" >18333.333333333333</td>\n",
              "    </tr>\n",
              "  </tbody>\n",
              "</table>\n"
            ]
          },
          "metadata": {},
          "execution_count": 62
        }
      ]
    },
    {
      "cell_type": "code",
      "source": [
        "sql = \"select deptname, lastname, salary, \\\n",
        "    row_number() over (partition by deptname order by salary) \\\n",
        "    from empl  inner join dept using(deptid)\"\n",
        "runSelect(sql)"
      ],
      "metadata": {
        "colab": {
          "base_uri": "https://localhost:8080/",
          "height": 426
        },
        "id": "xgP9VShE4Spl",
        "outputId": "e220d3f7-7219-4565-ac33-521a6cd60e82"
      },
      "execution_count": 63,
      "outputs": [
        {
          "output_type": "execute_result",
          "data": {
            "text/plain": [
              "<pandas.io.formats.style.Styler at 0x7894948450f0>"
            ],
            "text/html": [
              "<style type=\"text/css\">\n",
              "</style>\n",
              "<table id=\"T_b5540\" class=\"dataframe\">\n",
              "  <thead>\n",
              "    <tr>\n",
              "      <th id=\"T_b5540_level0_col0\" class=\"col_heading level0 col0\" >deptname</th>\n",
              "      <th id=\"T_b5540_level0_col1\" class=\"col_heading level0 col1\" >lastname</th>\n",
              "      <th id=\"T_b5540_level0_col2\" class=\"col_heading level0 col2\" >salary</th>\n",
              "      <th id=\"T_b5540_level0_col3\" class=\"col_heading level0 col3\" >row_number</th>\n",
              "    </tr>\n",
              "  </thead>\n",
              "  <tbody>\n",
              "    <tr>\n",
              "      <td id=\"T_b5540_row0_col0\" class=\"data row0 col0\" >Accounts</td>\n",
              "      <td id=\"T_b5540_row0_col1\" class=\"data row0 col1\" >Dalmia</td>\n",
              "      <td id=\"T_b5540_row0_col2\" class=\"data row0 col2\" >12000</td>\n",
              "      <td id=\"T_b5540_row0_col3\" class=\"data row0 col3\" >1</td>\n",
              "    </tr>\n",
              "    <tr>\n",
              "      <td id=\"T_b5540_row1_col0\" class=\"data row1 col0\" >Accounts</td>\n",
              "      <td id=\"T_b5540_row1_col1\" class=\"data row1 col1\" >Mirza</td>\n",
              "      <td id=\"T_b5540_row1_col2\" class=\"data row1 col2\" >25000</td>\n",
              "      <td id=\"T_b5540_row1_col3\" class=\"data row1 col3\" >2</td>\n",
              "    </tr>\n",
              "    <tr>\n",
              "      <td id=\"T_b5540_row2_col0\" class=\"data row2 col0\" >Accounts</td>\n",
              "      <td id=\"T_b5540_row2_col1\" class=\"data row2 col1\" >Dravid</td>\n",
              "      <td id=\"T_b5540_row2_col2\" class=\"data row2 col2\" >40000</td>\n",
              "      <td id=\"T_b5540_row2_col3\" class=\"data row2 col3\" >3</td>\n",
              "    </tr>\n",
              "    <tr>\n",
              "      <td id=\"T_b5540_row3_col0\" class=\"data row3 col0\" >Corporate</td>\n",
              "      <td id=\"T_b5540_row3_col1\" class=\"data row3 col1\" >Karthikeyan</td>\n",
              "      <td id=\"T_b5540_row3_col2\" class=\"data row3 col2\" >40000</td>\n",
              "      <td id=\"T_b5540_row3_col3\" class=\"data row3 col3\" >1</td>\n",
              "    </tr>\n",
              "    <tr>\n",
              "      <td id=\"T_b5540_row4_col0\" class=\"data row4 col0\" >Corporate</td>\n",
              "      <td id=\"T_b5540_row4_col1\" class=\"data row4 col1\" >Bacchan</td>\n",
              "      <td id=\"T_b5540_row4_col2\" class=\"data row4 col2\" >50000</td>\n",
              "      <td id=\"T_b5540_row4_col3\" class=\"data row4 col3\" >2</td>\n",
              "    </tr>\n",
              "    <tr>\n",
              "      <td id=\"T_b5540_row5_col0\" class=\"data row5 col0\" >Corporate</td>\n",
              "      <td id=\"T_b5540_row5_col1\" class=\"data row5 col1\" >Ganesan</td>\n",
              "      <td id=\"T_b5540_row5_col2\" class=\"data row5 col2\" >60000</td>\n",
              "      <td id=\"T_b5540_row5_col3\" class=\"data row5 col3\" >3</td>\n",
              "    </tr>\n",
              "    <tr>\n",
              "      <td id=\"T_b5540_row6_col0\" class=\"data row6 col0\" >Production</td>\n",
              "      <td id=\"T_b5540_row6_col1\" class=\"data row6 col1\" >Dhoni</td>\n",
              "      <td id=\"T_b5540_row6_col2\" class=\"data row6 col2\" >9000</td>\n",
              "      <td id=\"T_b5540_row6_col3\" class=\"data row6 col3\" >1</td>\n",
              "    </tr>\n",
              "    <tr>\n",
              "      <td id=\"T_b5540_row7_col0\" class=\"data row7 col0\" >Production</td>\n",
              "      <td id=\"T_b5540_row7_col1\" class=\"data row7 col1\" >Ganguly</td>\n",
              "      <td id=\"T_b5540_row7_col2\" class=\"data row7 col2\" >20000</td>\n",
              "      <td id=\"T_b5540_row7_col3\" class=\"data row7 col3\" >2</td>\n",
              "    </tr>\n",
              "    <tr>\n",
              "      <td id=\"T_b5540_row8_col0\" class=\"data row8 col0\" >Production</td>\n",
              "      <td id=\"T_b5540_row8_col1\" class=\"data row8 col1\" >Mukherjee</td>\n",
              "      <td id=\"T_b5540_row8_col2\" class=\"data row8 col2\" >25000</td>\n",
              "      <td id=\"T_b5540_row8_col3\" class=\"data row8 col3\" >3</td>\n",
              "    </tr>\n",
              "    <tr>\n",
              "      <td id=\"T_b5540_row9_col0\" class=\"data row9 col0\" >Sales</td>\n",
              "      <td id=\"T_b5540_row9_col1\" class=\"data row9 col1\" >Dikshit</td>\n",
              "      <td id=\"T_b5540_row9_col2\" class=\"data row9 col2\" >10000</td>\n",
              "      <td id=\"T_b5540_row9_col3\" class=\"data row9 col3\" >1</td>\n",
              "    </tr>\n",
              "    <tr>\n",
              "      <td id=\"T_b5540_row10_col0\" class=\"data row10 col0\" >Sales</td>\n",
              "      <td id=\"T_b5540_row10_col1\" class=\"data row10 col1\" >Sehwag</td>\n",
              "      <td id=\"T_b5540_row10_col2\" class=\"data row10 col2\" >15000</td>\n",
              "      <td id=\"T_b5540_row10_col3\" class=\"data row10 col3\" >2</td>\n",
              "    </tr>\n",
              "    <tr>\n",
              "      <td id=\"T_b5540_row11_col0\" class=\"data row11 col0\" >Sales</td>\n",
              "      <td id=\"T_b5540_row11_col1\" class=\"data row11 col1\" >Khan</td>\n",
              "      <td id=\"T_b5540_row11_col2\" class=\"data row11 col2\" >30000</td>\n",
              "      <td id=\"T_b5540_row11_col3\" class=\"data row11 col3\" >3</td>\n",
              "    </tr>\n",
              "  </tbody>\n",
              "</table>\n"
            ]
          },
          "metadata": {},
          "execution_count": 63
        }
      ]
    },
    {
      "cell_type": "code",
      "source": [
        "sql = \"select deptname, lastname, salary, \\\n",
        "        rank() over (partition by deptname order by salary desc) \\\n",
        "        from empl  inner join dept using(deptid)\"\n",
        "runSelect(sql)"
      ],
      "metadata": {
        "colab": {
          "base_uri": "https://localhost:8080/",
          "height": 426
        },
        "id": "rL_1sHBa4ply",
        "outputId": "64287591-6d4b-47c5-ee54-61e99b8e0e93"
      },
      "execution_count": 64,
      "outputs": [
        {
          "output_type": "execute_result",
          "data": {
            "text/plain": [
              "<pandas.io.formats.style.Styler at 0x789494861510>"
            ],
            "text/html": [
              "<style type=\"text/css\">\n",
              "</style>\n",
              "<table id=\"T_0b772\" class=\"dataframe\">\n",
              "  <thead>\n",
              "    <tr>\n",
              "      <th id=\"T_0b772_level0_col0\" class=\"col_heading level0 col0\" >deptname</th>\n",
              "      <th id=\"T_0b772_level0_col1\" class=\"col_heading level0 col1\" >lastname</th>\n",
              "      <th id=\"T_0b772_level0_col2\" class=\"col_heading level0 col2\" >salary</th>\n",
              "      <th id=\"T_0b772_level0_col3\" class=\"col_heading level0 col3\" >rank</th>\n",
              "    </tr>\n",
              "  </thead>\n",
              "  <tbody>\n",
              "    <tr>\n",
              "      <td id=\"T_0b772_row0_col0\" class=\"data row0 col0\" >Accounts</td>\n",
              "      <td id=\"T_0b772_row0_col1\" class=\"data row0 col1\" >Dravid</td>\n",
              "      <td id=\"T_0b772_row0_col2\" class=\"data row0 col2\" >40000</td>\n",
              "      <td id=\"T_0b772_row0_col3\" class=\"data row0 col3\" >1</td>\n",
              "    </tr>\n",
              "    <tr>\n",
              "      <td id=\"T_0b772_row1_col0\" class=\"data row1 col0\" >Accounts</td>\n",
              "      <td id=\"T_0b772_row1_col1\" class=\"data row1 col1\" >Mirza</td>\n",
              "      <td id=\"T_0b772_row1_col2\" class=\"data row1 col2\" >25000</td>\n",
              "      <td id=\"T_0b772_row1_col3\" class=\"data row1 col3\" >2</td>\n",
              "    </tr>\n",
              "    <tr>\n",
              "      <td id=\"T_0b772_row2_col0\" class=\"data row2 col0\" >Accounts</td>\n",
              "      <td id=\"T_0b772_row2_col1\" class=\"data row2 col1\" >Dalmia</td>\n",
              "      <td id=\"T_0b772_row2_col2\" class=\"data row2 col2\" >12000</td>\n",
              "      <td id=\"T_0b772_row2_col3\" class=\"data row2 col3\" >3</td>\n",
              "    </tr>\n",
              "    <tr>\n",
              "      <td id=\"T_0b772_row3_col0\" class=\"data row3 col0\" >Corporate</td>\n",
              "      <td id=\"T_0b772_row3_col1\" class=\"data row3 col1\" >Ganesan</td>\n",
              "      <td id=\"T_0b772_row3_col2\" class=\"data row3 col2\" >60000</td>\n",
              "      <td id=\"T_0b772_row3_col3\" class=\"data row3 col3\" >1</td>\n",
              "    </tr>\n",
              "    <tr>\n",
              "      <td id=\"T_0b772_row4_col0\" class=\"data row4 col0\" >Corporate</td>\n",
              "      <td id=\"T_0b772_row4_col1\" class=\"data row4 col1\" >Bacchan</td>\n",
              "      <td id=\"T_0b772_row4_col2\" class=\"data row4 col2\" >50000</td>\n",
              "      <td id=\"T_0b772_row4_col3\" class=\"data row4 col3\" >2</td>\n",
              "    </tr>\n",
              "    <tr>\n",
              "      <td id=\"T_0b772_row5_col0\" class=\"data row5 col0\" >Corporate</td>\n",
              "      <td id=\"T_0b772_row5_col1\" class=\"data row5 col1\" >Karthikeyan</td>\n",
              "      <td id=\"T_0b772_row5_col2\" class=\"data row5 col2\" >40000</td>\n",
              "      <td id=\"T_0b772_row5_col3\" class=\"data row5 col3\" >3</td>\n",
              "    </tr>\n",
              "    <tr>\n",
              "      <td id=\"T_0b772_row6_col0\" class=\"data row6 col0\" >Production</td>\n",
              "      <td id=\"T_0b772_row6_col1\" class=\"data row6 col1\" >Mukherjee</td>\n",
              "      <td id=\"T_0b772_row6_col2\" class=\"data row6 col2\" >25000</td>\n",
              "      <td id=\"T_0b772_row6_col3\" class=\"data row6 col3\" >1</td>\n",
              "    </tr>\n",
              "    <tr>\n",
              "      <td id=\"T_0b772_row7_col0\" class=\"data row7 col0\" >Production</td>\n",
              "      <td id=\"T_0b772_row7_col1\" class=\"data row7 col1\" >Ganguly</td>\n",
              "      <td id=\"T_0b772_row7_col2\" class=\"data row7 col2\" >20000</td>\n",
              "      <td id=\"T_0b772_row7_col3\" class=\"data row7 col3\" >2</td>\n",
              "    </tr>\n",
              "    <tr>\n",
              "      <td id=\"T_0b772_row8_col0\" class=\"data row8 col0\" >Production</td>\n",
              "      <td id=\"T_0b772_row8_col1\" class=\"data row8 col1\" >Dhoni</td>\n",
              "      <td id=\"T_0b772_row8_col2\" class=\"data row8 col2\" >9000</td>\n",
              "      <td id=\"T_0b772_row8_col3\" class=\"data row8 col3\" >3</td>\n",
              "    </tr>\n",
              "    <tr>\n",
              "      <td id=\"T_0b772_row9_col0\" class=\"data row9 col0\" >Sales</td>\n",
              "      <td id=\"T_0b772_row9_col1\" class=\"data row9 col1\" >Khan</td>\n",
              "      <td id=\"T_0b772_row9_col2\" class=\"data row9 col2\" >30000</td>\n",
              "      <td id=\"T_0b772_row9_col3\" class=\"data row9 col3\" >1</td>\n",
              "    </tr>\n",
              "    <tr>\n",
              "      <td id=\"T_0b772_row10_col0\" class=\"data row10 col0\" >Sales</td>\n",
              "      <td id=\"T_0b772_row10_col1\" class=\"data row10 col1\" >Sehwag</td>\n",
              "      <td id=\"T_0b772_row10_col2\" class=\"data row10 col2\" >15000</td>\n",
              "      <td id=\"T_0b772_row10_col3\" class=\"data row10 col3\" >2</td>\n",
              "    </tr>\n",
              "    <tr>\n",
              "      <td id=\"T_0b772_row11_col0\" class=\"data row11 col0\" >Sales</td>\n",
              "      <td id=\"T_0b772_row11_col1\" class=\"data row11 col1\" >Dikshit</td>\n",
              "      <td id=\"T_0b772_row11_col2\" class=\"data row11 col2\" >10000</td>\n",
              "      <td id=\"T_0b772_row11_col3\" class=\"data row11 col3\" >3</td>\n",
              "    </tr>\n",
              "  </tbody>\n",
              "</table>\n"
            ]
          },
          "metadata": {},
          "execution_count": 64
        }
      ]
    },
    {
      "cell_type": "code",
      "source": [
        "sql = \"select deptname, lastname, salary, \\\n",
        "first_value(salary) over (partition by deptname order by salary) as deptlow, \\\n",
        "last_value(salary) over (partition by deptname order by salary RANGE BETWEEN UNBOUNDED PRECEDING AND UNBOUNDED FOLLOWING) as depthigh \\\n",
        "from empl  inner join dept using(deptid)\"\n",
        "runSelect(sql)"
      ],
      "metadata": {
        "colab": {
          "base_uri": "https://localhost:8080/",
          "height": 426
        },
        "id": "RO428SVT5T3d",
        "outputId": "0f4fa0ca-cf07-4d46-e0f5-a0772c58b41c"
      },
      "execution_count": 65,
      "outputs": [
        {
          "output_type": "execute_result",
          "data": {
            "text/plain": [
              "<pandas.io.formats.style.Styler at 0x7894947d1330>"
            ],
            "text/html": [
              "<style type=\"text/css\">\n",
              "</style>\n",
              "<table id=\"T_8595f\" class=\"dataframe\">\n",
              "  <thead>\n",
              "    <tr>\n",
              "      <th id=\"T_8595f_level0_col0\" class=\"col_heading level0 col0\" >deptname</th>\n",
              "      <th id=\"T_8595f_level0_col1\" class=\"col_heading level0 col1\" >lastname</th>\n",
              "      <th id=\"T_8595f_level0_col2\" class=\"col_heading level0 col2\" >salary</th>\n",
              "      <th id=\"T_8595f_level0_col3\" class=\"col_heading level0 col3\" >deptlow</th>\n",
              "      <th id=\"T_8595f_level0_col4\" class=\"col_heading level0 col4\" >depthigh</th>\n",
              "    </tr>\n",
              "  </thead>\n",
              "  <tbody>\n",
              "    <tr>\n",
              "      <td id=\"T_8595f_row0_col0\" class=\"data row0 col0\" >Accounts</td>\n",
              "      <td id=\"T_8595f_row0_col1\" class=\"data row0 col1\" >Dalmia</td>\n",
              "      <td id=\"T_8595f_row0_col2\" class=\"data row0 col2\" >12000</td>\n",
              "      <td id=\"T_8595f_row0_col3\" class=\"data row0 col3\" >12000</td>\n",
              "      <td id=\"T_8595f_row0_col4\" class=\"data row0 col4\" >40000</td>\n",
              "    </tr>\n",
              "    <tr>\n",
              "      <td id=\"T_8595f_row1_col0\" class=\"data row1 col0\" >Accounts</td>\n",
              "      <td id=\"T_8595f_row1_col1\" class=\"data row1 col1\" >Mirza</td>\n",
              "      <td id=\"T_8595f_row1_col2\" class=\"data row1 col2\" >25000</td>\n",
              "      <td id=\"T_8595f_row1_col3\" class=\"data row1 col3\" >12000</td>\n",
              "      <td id=\"T_8595f_row1_col4\" class=\"data row1 col4\" >40000</td>\n",
              "    </tr>\n",
              "    <tr>\n",
              "      <td id=\"T_8595f_row2_col0\" class=\"data row2 col0\" >Accounts</td>\n",
              "      <td id=\"T_8595f_row2_col1\" class=\"data row2 col1\" >Dravid</td>\n",
              "      <td id=\"T_8595f_row2_col2\" class=\"data row2 col2\" >40000</td>\n",
              "      <td id=\"T_8595f_row2_col3\" class=\"data row2 col3\" >12000</td>\n",
              "      <td id=\"T_8595f_row2_col4\" class=\"data row2 col4\" >40000</td>\n",
              "    </tr>\n",
              "    <tr>\n",
              "      <td id=\"T_8595f_row3_col0\" class=\"data row3 col0\" >Corporate</td>\n",
              "      <td id=\"T_8595f_row3_col1\" class=\"data row3 col1\" >Karthikeyan</td>\n",
              "      <td id=\"T_8595f_row3_col2\" class=\"data row3 col2\" >40000</td>\n",
              "      <td id=\"T_8595f_row3_col3\" class=\"data row3 col3\" >40000</td>\n",
              "      <td id=\"T_8595f_row3_col4\" class=\"data row3 col4\" >60000</td>\n",
              "    </tr>\n",
              "    <tr>\n",
              "      <td id=\"T_8595f_row4_col0\" class=\"data row4 col0\" >Corporate</td>\n",
              "      <td id=\"T_8595f_row4_col1\" class=\"data row4 col1\" >Bacchan</td>\n",
              "      <td id=\"T_8595f_row4_col2\" class=\"data row4 col2\" >50000</td>\n",
              "      <td id=\"T_8595f_row4_col3\" class=\"data row4 col3\" >40000</td>\n",
              "      <td id=\"T_8595f_row4_col4\" class=\"data row4 col4\" >60000</td>\n",
              "    </tr>\n",
              "    <tr>\n",
              "      <td id=\"T_8595f_row5_col0\" class=\"data row5 col0\" >Corporate</td>\n",
              "      <td id=\"T_8595f_row5_col1\" class=\"data row5 col1\" >Ganesan</td>\n",
              "      <td id=\"T_8595f_row5_col2\" class=\"data row5 col2\" >60000</td>\n",
              "      <td id=\"T_8595f_row5_col3\" class=\"data row5 col3\" >40000</td>\n",
              "      <td id=\"T_8595f_row5_col4\" class=\"data row5 col4\" >60000</td>\n",
              "    </tr>\n",
              "    <tr>\n",
              "      <td id=\"T_8595f_row6_col0\" class=\"data row6 col0\" >Production</td>\n",
              "      <td id=\"T_8595f_row6_col1\" class=\"data row6 col1\" >Dhoni</td>\n",
              "      <td id=\"T_8595f_row6_col2\" class=\"data row6 col2\" >9000</td>\n",
              "      <td id=\"T_8595f_row6_col3\" class=\"data row6 col3\" >9000</td>\n",
              "      <td id=\"T_8595f_row6_col4\" class=\"data row6 col4\" >25000</td>\n",
              "    </tr>\n",
              "    <tr>\n",
              "      <td id=\"T_8595f_row7_col0\" class=\"data row7 col0\" >Production</td>\n",
              "      <td id=\"T_8595f_row7_col1\" class=\"data row7 col1\" >Ganguly</td>\n",
              "      <td id=\"T_8595f_row7_col2\" class=\"data row7 col2\" >20000</td>\n",
              "      <td id=\"T_8595f_row7_col3\" class=\"data row7 col3\" >9000</td>\n",
              "      <td id=\"T_8595f_row7_col4\" class=\"data row7 col4\" >25000</td>\n",
              "    </tr>\n",
              "    <tr>\n",
              "      <td id=\"T_8595f_row8_col0\" class=\"data row8 col0\" >Production</td>\n",
              "      <td id=\"T_8595f_row8_col1\" class=\"data row8 col1\" >Mukherjee</td>\n",
              "      <td id=\"T_8595f_row8_col2\" class=\"data row8 col2\" >25000</td>\n",
              "      <td id=\"T_8595f_row8_col3\" class=\"data row8 col3\" >9000</td>\n",
              "      <td id=\"T_8595f_row8_col4\" class=\"data row8 col4\" >25000</td>\n",
              "    </tr>\n",
              "    <tr>\n",
              "      <td id=\"T_8595f_row9_col0\" class=\"data row9 col0\" >Sales</td>\n",
              "      <td id=\"T_8595f_row9_col1\" class=\"data row9 col1\" >Dikshit</td>\n",
              "      <td id=\"T_8595f_row9_col2\" class=\"data row9 col2\" >10000</td>\n",
              "      <td id=\"T_8595f_row9_col3\" class=\"data row9 col3\" >10000</td>\n",
              "      <td id=\"T_8595f_row9_col4\" class=\"data row9 col4\" >30000</td>\n",
              "    </tr>\n",
              "    <tr>\n",
              "      <td id=\"T_8595f_row10_col0\" class=\"data row10 col0\" >Sales</td>\n",
              "      <td id=\"T_8595f_row10_col1\" class=\"data row10 col1\" >Sehwag</td>\n",
              "      <td id=\"T_8595f_row10_col2\" class=\"data row10 col2\" >15000</td>\n",
              "      <td id=\"T_8595f_row10_col3\" class=\"data row10 col3\" >10000</td>\n",
              "      <td id=\"T_8595f_row10_col4\" class=\"data row10 col4\" >30000</td>\n",
              "    </tr>\n",
              "    <tr>\n",
              "      <td id=\"T_8595f_row11_col0\" class=\"data row11 col0\" >Sales</td>\n",
              "      <td id=\"T_8595f_row11_col1\" class=\"data row11 col1\" >Khan</td>\n",
              "      <td id=\"T_8595f_row11_col2\" class=\"data row11 col2\" >30000</td>\n",
              "      <td id=\"T_8595f_row11_col3\" class=\"data row11 col3\" >10000</td>\n",
              "      <td id=\"T_8595f_row11_col4\" class=\"data row11 col4\" >30000</td>\n",
              "    </tr>\n",
              "  </tbody>\n",
              "</table>\n"
            ]
          },
          "metadata": {},
          "execution_count": 65
        }
      ]
    },
    {
      "cell_type": "code",
      "source": [
        "sql = \"select deptname, lastname, salary, \\\n",
        "lag(salary,1) over (partition by deptname order by salary) as prev_emp, \\\n",
        "salary - lag(salary,1) over (partition by deptname order by salary) as gap_up \\\n",
        "from empl  inner join dept using(deptid)\"\n",
        "runSelect(sql)"
      ],
      "metadata": {
        "colab": {
          "base_uri": "https://localhost:8080/",
          "height": 426
        },
        "id": "fnG4S0lF8h77",
        "outputId": "685a0134-27f6-4301-d1ba-dd08be622868"
      },
      "execution_count": 66,
      "outputs": [
        {
          "output_type": "execute_result",
          "data": {
            "text/plain": [
              "<pandas.io.formats.style.Styler at 0x789494860a60>"
            ],
            "text/html": [
              "<style type=\"text/css\">\n",
              "</style>\n",
              "<table id=\"T_18580\" class=\"dataframe\">\n",
              "  <thead>\n",
              "    <tr>\n",
              "      <th id=\"T_18580_level0_col0\" class=\"col_heading level0 col0\" >deptname</th>\n",
              "      <th id=\"T_18580_level0_col1\" class=\"col_heading level0 col1\" >lastname</th>\n",
              "      <th id=\"T_18580_level0_col2\" class=\"col_heading level0 col2\" >salary</th>\n",
              "      <th id=\"T_18580_level0_col3\" class=\"col_heading level0 col3\" >prev_emp</th>\n",
              "      <th id=\"T_18580_level0_col4\" class=\"col_heading level0 col4\" >gap_up</th>\n",
              "    </tr>\n",
              "  </thead>\n",
              "  <tbody>\n",
              "    <tr>\n",
              "      <td id=\"T_18580_row0_col0\" class=\"data row0 col0\" >Accounts</td>\n",
              "      <td id=\"T_18580_row0_col1\" class=\"data row0 col1\" >Dalmia</td>\n",
              "      <td id=\"T_18580_row0_col2\" class=\"data row0 col2\" >12000</td>\n",
              "      <td id=\"T_18580_row0_col3\" class=\"data row0 col3\" >nan</td>\n",
              "      <td id=\"T_18580_row0_col4\" class=\"data row0 col4\" >nan</td>\n",
              "    </tr>\n",
              "    <tr>\n",
              "      <td id=\"T_18580_row1_col0\" class=\"data row1 col0\" >Accounts</td>\n",
              "      <td id=\"T_18580_row1_col1\" class=\"data row1 col1\" >Mirza</td>\n",
              "      <td id=\"T_18580_row1_col2\" class=\"data row1 col2\" >25000</td>\n",
              "      <td id=\"T_18580_row1_col3\" class=\"data row1 col3\" >12000.000000</td>\n",
              "      <td id=\"T_18580_row1_col4\" class=\"data row1 col4\" >13000.000000</td>\n",
              "    </tr>\n",
              "    <tr>\n",
              "      <td id=\"T_18580_row2_col0\" class=\"data row2 col0\" >Accounts</td>\n",
              "      <td id=\"T_18580_row2_col1\" class=\"data row2 col1\" >Dravid</td>\n",
              "      <td id=\"T_18580_row2_col2\" class=\"data row2 col2\" >40000</td>\n",
              "      <td id=\"T_18580_row2_col3\" class=\"data row2 col3\" >25000.000000</td>\n",
              "      <td id=\"T_18580_row2_col4\" class=\"data row2 col4\" >15000.000000</td>\n",
              "    </tr>\n",
              "    <tr>\n",
              "      <td id=\"T_18580_row3_col0\" class=\"data row3 col0\" >Corporate</td>\n",
              "      <td id=\"T_18580_row3_col1\" class=\"data row3 col1\" >Karthikeyan</td>\n",
              "      <td id=\"T_18580_row3_col2\" class=\"data row3 col2\" >40000</td>\n",
              "      <td id=\"T_18580_row3_col3\" class=\"data row3 col3\" >nan</td>\n",
              "      <td id=\"T_18580_row3_col4\" class=\"data row3 col4\" >nan</td>\n",
              "    </tr>\n",
              "    <tr>\n",
              "      <td id=\"T_18580_row4_col0\" class=\"data row4 col0\" >Corporate</td>\n",
              "      <td id=\"T_18580_row4_col1\" class=\"data row4 col1\" >Bacchan</td>\n",
              "      <td id=\"T_18580_row4_col2\" class=\"data row4 col2\" >50000</td>\n",
              "      <td id=\"T_18580_row4_col3\" class=\"data row4 col3\" >40000.000000</td>\n",
              "      <td id=\"T_18580_row4_col4\" class=\"data row4 col4\" >10000.000000</td>\n",
              "    </tr>\n",
              "    <tr>\n",
              "      <td id=\"T_18580_row5_col0\" class=\"data row5 col0\" >Corporate</td>\n",
              "      <td id=\"T_18580_row5_col1\" class=\"data row5 col1\" >Ganesan</td>\n",
              "      <td id=\"T_18580_row5_col2\" class=\"data row5 col2\" >60000</td>\n",
              "      <td id=\"T_18580_row5_col3\" class=\"data row5 col3\" >50000.000000</td>\n",
              "      <td id=\"T_18580_row5_col4\" class=\"data row5 col4\" >10000.000000</td>\n",
              "    </tr>\n",
              "    <tr>\n",
              "      <td id=\"T_18580_row6_col0\" class=\"data row6 col0\" >Production</td>\n",
              "      <td id=\"T_18580_row6_col1\" class=\"data row6 col1\" >Dhoni</td>\n",
              "      <td id=\"T_18580_row6_col2\" class=\"data row6 col2\" >9000</td>\n",
              "      <td id=\"T_18580_row6_col3\" class=\"data row6 col3\" >nan</td>\n",
              "      <td id=\"T_18580_row6_col4\" class=\"data row6 col4\" >nan</td>\n",
              "    </tr>\n",
              "    <tr>\n",
              "      <td id=\"T_18580_row7_col0\" class=\"data row7 col0\" >Production</td>\n",
              "      <td id=\"T_18580_row7_col1\" class=\"data row7 col1\" >Ganguly</td>\n",
              "      <td id=\"T_18580_row7_col2\" class=\"data row7 col2\" >20000</td>\n",
              "      <td id=\"T_18580_row7_col3\" class=\"data row7 col3\" >9000.000000</td>\n",
              "      <td id=\"T_18580_row7_col4\" class=\"data row7 col4\" >11000.000000</td>\n",
              "    </tr>\n",
              "    <tr>\n",
              "      <td id=\"T_18580_row8_col0\" class=\"data row8 col0\" >Production</td>\n",
              "      <td id=\"T_18580_row8_col1\" class=\"data row8 col1\" >Mukherjee</td>\n",
              "      <td id=\"T_18580_row8_col2\" class=\"data row8 col2\" >25000</td>\n",
              "      <td id=\"T_18580_row8_col3\" class=\"data row8 col3\" >20000.000000</td>\n",
              "      <td id=\"T_18580_row8_col4\" class=\"data row8 col4\" >5000.000000</td>\n",
              "    </tr>\n",
              "    <tr>\n",
              "      <td id=\"T_18580_row9_col0\" class=\"data row9 col0\" >Sales</td>\n",
              "      <td id=\"T_18580_row9_col1\" class=\"data row9 col1\" >Dikshit</td>\n",
              "      <td id=\"T_18580_row9_col2\" class=\"data row9 col2\" >10000</td>\n",
              "      <td id=\"T_18580_row9_col3\" class=\"data row9 col3\" >nan</td>\n",
              "      <td id=\"T_18580_row9_col4\" class=\"data row9 col4\" >nan</td>\n",
              "    </tr>\n",
              "    <tr>\n",
              "      <td id=\"T_18580_row10_col0\" class=\"data row10 col0\" >Sales</td>\n",
              "      <td id=\"T_18580_row10_col1\" class=\"data row10 col1\" >Sehwag</td>\n",
              "      <td id=\"T_18580_row10_col2\" class=\"data row10 col2\" >15000</td>\n",
              "      <td id=\"T_18580_row10_col3\" class=\"data row10 col3\" >10000.000000</td>\n",
              "      <td id=\"T_18580_row10_col4\" class=\"data row10 col4\" >5000.000000</td>\n",
              "    </tr>\n",
              "    <tr>\n",
              "      <td id=\"T_18580_row11_col0\" class=\"data row11 col0\" >Sales</td>\n",
              "      <td id=\"T_18580_row11_col1\" class=\"data row11 col1\" >Khan</td>\n",
              "      <td id=\"T_18580_row11_col2\" class=\"data row11 col2\" >30000</td>\n",
              "      <td id=\"T_18580_row11_col3\" class=\"data row11 col3\" >15000.000000</td>\n",
              "      <td id=\"T_18580_row11_col4\" class=\"data row11 col4\" >15000.000000</td>\n",
              "    </tr>\n",
              "  </tbody>\n",
              "</table>\n"
            ]
          },
          "metadata": {},
          "execution_count": 66
        }
      ]
    },
    {
      "cell_type": "markdown",
      "source": [
        "#Transpose / Pivot\n",
        "https://www.sqlshack.com/how-to-use-the-crosstab-function-in-postgresql/"
      ],
      "metadata": {
        "id": "V6Bt-yTXSITF"
      }
    },
    {
      "cell_type": "code",
      "source": [
        "!psql -h localhost -p 5432 -Uupraxis -ddbpraxis -c \"create extension tablefunc;\""
      ],
      "metadata": {
        "colab": {
          "base_uri": "https://localhost:8080/"
        },
        "id": "ZgVgr1DfYs_R",
        "outputId": "c4e52303-9280-482e-87aa-56e1d4340e8e"
      },
      "execution_count": 67,
      "outputs": [
        {
          "output_type": "stream",
          "name": "stdout",
          "text": [
            "CREATE EXTENSION\n"
          ]
        }
      ]
    },
    {
      "cell_type": "code",
      "source": [
        "runSelect('select * from dept')"
      ],
      "metadata": {
        "colab": {
          "base_uri": "https://localhost:8080/",
          "height": 206
        },
        "id": "Sa9IpGXwSKWe",
        "outputId": "e28ce42b-6359-46fe-f82f-3293b4e7fddc"
      },
      "execution_count": 68,
      "outputs": [
        {
          "output_type": "execute_result",
          "data": {
            "text/plain": [
              "<pandas.io.formats.style.Styler at 0x789494847490>"
            ],
            "text/html": [
              "<style type=\"text/css\">\n",
              "</style>\n",
              "<table id=\"T_c872e\" class=\"dataframe\">\n",
              "  <thead>\n",
              "    <tr>\n",
              "      <th id=\"T_c872e_level0_col0\" class=\"col_heading level0 col0\" >deptid</th>\n",
              "      <th id=\"T_c872e_level0_col1\" class=\"col_heading level0 col1\" >deptname</th>\n",
              "      <th id=\"T_c872e_level0_col2\" class=\"col_heading level0 col2\" >managerid</th>\n",
              "      <th id=\"T_c872e_level0_col3\" class=\"col_heading level0 col3\" >location</th>\n",
              "      <th id=\"T_c872e_level0_col4\" class=\"col_heading level0 col4\" >locationid</th>\n",
              "    </tr>\n",
              "  </thead>\n",
              "  <tbody>\n",
              "    <tr>\n",
              "      <td id=\"T_c872e_row0_col0\" class=\"data row0 col0\" >10</td>\n",
              "      <td id=\"T_c872e_row0_col1\" class=\"data row0 col1\" >Corporate</td>\n",
              "      <td id=\"T_c872e_row0_col2\" class=\"data row0 col2\" >299034</td>\n",
              "      <td id=\"T_c872e_row0_col3\" class=\"data row0 col3\" >Calcutta</td>\n",
              "      <td id=\"T_c872e_row0_col4\" class=\"data row0 col4\" >1</td>\n",
              "    </tr>\n",
              "    <tr>\n",
              "      <td id=\"T_c872e_row1_col0\" class=\"data row1 col0\" >20</td>\n",
              "      <td id=\"T_c872e_row1_col1\" class=\"data row1 col1\" >Sales</td>\n",
              "      <td id=\"T_c872e_row1_col2\" class=\"data row1 col2\" >239456</td>\n",
              "      <td id=\"T_c872e_row1_col3\" class=\"data row1 col3\" >Calcutta</td>\n",
              "      <td id=\"T_c872e_row1_col4\" class=\"data row1 col4\" >1</td>\n",
              "    </tr>\n",
              "    <tr>\n",
              "      <td id=\"T_c872e_row2_col0\" class=\"data row2 col0\" >30</td>\n",
              "      <td id=\"T_c872e_row2_col1\" class=\"data row2 col1\" >Accounts</td>\n",
              "      <td id=\"T_c872e_row2_col2\" class=\"data row2 col2\" >822134</td>\n",
              "      <td id=\"T_c872e_row2_col3\" class=\"data row2 col3\" >Calcutta</td>\n",
              "      <td id=\"T_c872e_row2_col4\" class=\"data row2 col4\" >1</td>\n",
              "    </tr>\n",
              "    <tr>\n",
              "      <td id=\"T_c872e_row3_col0\" class=\"data row3 col0\" >40</td>\n",
              "      <td id=\"T_c872e_row3_col1\" class=\"data row3 col1\" >Production</td>\n",
              "      <td id=\"T_c872e_row3_col2\" class=\"data row3 col2\" >349870</td>\n",
              "      <td id=\"T_c872e_row3_col3\" class=\"data row3 col3\" >Bombay</td>\n",
              "      <td id=\"T_c872e_row3_col4\" class=\"data row3 col4\" >2</td>\n",
              "    </tr>\n",
              "    <tr>\n",
              "      <td id=\"T_c872e_row4_col0\" class=\"data row4 col0\" >60</td>\n",
              "      <td id=\"T_c872e_row4_col1\" class=\"data row4 col1\" >Research</td>\n",
              "      <td id=\"T_c872e_row4_col2\" class=\"data row4 col2\" >546224</td>\n",
              "      <td id=\"T_c872e_row4_col3\" class=\"data row4 col3\" >Delhi</td>\n",
              "      <td id=\"T_c872e_row4_col4\" class=\"data row4 col4\" >3</td>\n",
              "    </tr>\n",
              "  </tbody>\n",
              "</table>\n"
            ]
          },
          "metadata": {},
          "execution_count": 68
        }
      ]
    },
    {
      "cell_type": "code",
      "source": [
        "sql = \"\\\n",
        "select * from \\\n",
        "crosstab('select location::text,locationid::text,deptname::text from dept order by 1,2') as locations \\\n",
        "(location text, dep1 text, dep2 text, dep3 text, dep4 text)\\\n",
        "\"\n",
        "runSelect(sql)"
      ],
      "metadata": {
        "colab": {
          "base_uri": "https://localhost:8080/",
          "height": 143
        },
        "id": "Iukqh6TRVo-9",
        "outputId": "774a2f7d-1bf6-4f00-f861-18f83a47cd92"
      },
      "execution_count": 69,
      "outputs": [
        {
          "output_type": "execute_result",
          "data": {
            "text/plain": [
              "<pandas.io.formats.style.Styler at 0x7894948455d0>"
            ],
            "text/html": [
              "<style type=\"text/css\">\n",
              "</style>\n",
              "<table id=\"T_34cec\" class=\"dataframe\">\n",
              "  <thead>\n",
              "    <tr>\n",
              "      <th id=\"T_34cec_level0_col0\" class=\"col_heading level0 col0\" >location</th>\n",
              "      <th id=\"T_34cec_level0_col1\" class=\"col_heading level0 col1\" >dep1</th>\n",
              "      <th id=\"T_34cec_level0_col2\" class=\"col_heading level0 col2\" >dep2</th>\n",
              "      <th id=\"T_34cec_level0_col3\" class=\"col_heading level0 col3\" >dep3</th>\n",
              "      <th id=\"T_34cec_level0_col4\" class=\"col_heading level0 col4\" >dep4</th>\n",
              "    </tr>\n",
              "  </thead>\n",
              "  <tbody>\n",
              "    <tr>\n",
              "      <td id=\"T_34cec_row0_col0\" class=\"data row0 col0\" >Bombay</td>\n",
              "      <td id=\"T_34cec_row0_col1\" class=\"data row0 col1\" >Production</td>\n",
              "      <td id=\"T_34cec_row0_col2\" class=\"data row0 col2\" >None</td>\n",
              "      <td id=\"T_34cec_row0_col3\" class=\"data row0 col3\" >None</td>\n",
              "      <td id=\"T_34cec_row0_col4\" class=\"data row0 col4\" >None</td>\n",
              "    </tr>\n",
              "    <tr>\n",
              "      <td id=\"T_34cec_row1_col0\" class=\"data row1 col0\" >Calcutta</td>\n",
              "      <td id=\"T_34cec_row1_col1\" class=\"data row1 col1\" >Corporate</td>\n",
              "      <td id=\"T_34cec_row1_col2\" class=\"data row1 col2\" >Sales</td>\n",
              "      <td id=\"T_34cec_row1_col3\" class=\"data row1 col3\" >Accounts</td>\n",
              "      <td id=\"T_34cec_row1_col4\" class=\"data row1 col4\" >None</td>\n",
              "    </tr>\n",
              "    <tr>\n",
              "      <td id=\"T_34cec_row2_col0\" class=\"data row2 col0\" >Delhi</td>\n",
              "      <td id=\"T_34cec_row2_col1\" class=\"data row2 col1\" >Research</td>\n",
              "      <td id=\"T_34cec_row2_col2\" class=\"data row2 col2\" >None</td>\n",
              "      <td id=\"T_34cec_row2_col3\" class=\"data row2 col3\" >None</td>\n",
              "      <td id=\"T_34cec_row2_col4\" class=\"data row2 col4\" >None</td>\n",
              "    </tr>\n",
              "  </tbody>\n",
              "</table>\n"
            ]
          },
          "metadata": {},
          "execution_count": 69
        }
      ]
    },
    {
      "cell_type": "markdown",
      "source": [
        "# Insert | Delete | Update"
      ],
      "metadata": {
        "id": "REcqZ7K0DYqi"
      }
    },
    {
      "cell_type": "code",
      "source": [
        "runSelect(\"select * from dept\")"
      ],
      "metadata": {
        "id": "xGgCH9vGDlsI",
        "outputId": "c0915d3b-3101-4bb1-ff70-a4654dfa6477",
        "colab": {
          "base_uri": "https://localhost:8080/",
          "height": 206
        }
      },
      "execution_count": 70,
      "outputs": [
        {
          "output_type": "execute_result",
          "data": {
            "text/plain": [
              "<pandas.io.formats.style.Styler at 0x7894947d1660>"
            ],
            "text/html": [
              "<style type=\"text/css\">\n",
              "</style>\n",
              "<table id=\"T_f2257\" class=\"dataframe\">\n",
              "  <thead>\n",
              "    <tr>\n",
              "      <th id=\"T_f2257_level0_col0\" class=\"col_heading level0 col0\" >deptid</th>\n",
              "      <th id=\"T_f2257_level0_col1\" class=\"col_heading level0 col1\" >deptname</th>\n",
              "      <th id=\"T_f2257_level0_col2\" class=\"col_heading level0 col2\" >managerid</th>\n",
              "      <th id=\"T_f2257_level0_col3\" class=\"col_heading level0 col3\" >location</th>\n",
              "      <th id=\"T_f2257_level0_col4\" class=\"col_heading level0 col4\" >locationid</th>\n",
              "    </tr>\n",
              "  </thead>\n",
              "  <tbody>\n",
              "    <tr>\n",
              "      <td id=\"T_f2257_row0_col0\" class=\"data row0 col0\" >10</td>\n",
              "      <td id=\"T_f2257_row0_col1\" class=\"data row0 col1\" >Corporate</td>\n",
              "      <td id=\"T_f2257_row0_col2\" class=\"data row0 col2\" >299034</td>\n",
              "      <td id=\"T_f2257_row0_col3\" class=\"data row0 col3\" >Calcutta</td>\n",
              "      <td id=\"T_f2257_row0_col4\" class=\"data row0 col4\" >1</td>\n",
              "    </tr>\n",
              "    <tr>\n",
              "      <td id=\"T_f2257_row1_col0\" class=\"data row1 col0\" >20</td>\n",
              "      <td id=\"T_f2257_row1_col1\" class=\"data row1 col1\" >Sales</td>\n",
              "      <td id=\"T_f2257_row1_col2\" class=\"data row1 col2\" >239456</td>\n",
              "      <td id=\"T_f2257_row1_col3\" class=\"data row1 col3\" >Calcutta</td>\n",
              "      <td id=\"T_f2257_row1_col4\" class=\"data row1 col4\" >1</td>\n",
              "    </tr>\n",
              "    <tr>\n",
              "      <td id=\"T_f2257_row2_col0\" class=\"data row2 col0\" >30</td>\n",
              "      <td id=\"T_f2257_row2_col1\" class=\"data row2 col1\" >Accounts</td>\n",
              "      <td id=\"T_f2257_row2_col2\" class=\"data row2 col2\" >822134</td>\n",
              "      <td id=\"T_f2257_row2_col3\" class=\"data row2 col3\" >Calcutta</td>\n",
              "      <td id=\"T_f2257_row2_col4\" class=\"data row2 col4\" >1</td>\n",
              "    </tr>\n",
              "    <tr>\n",
              "      <td id=\"T_f2257_row3_col0\" class=\"data row3 col0\" >40</td>\n",
              "      <td id=\"T_f2257_row3_col1\" class=\"data row3 col1\" >Production</td>\n",
              "      <td id=\"T_f2257_row3_col2\" class=\"data row3 col2\" >349870</td>\n",
              "      <td id=\"T_f2257_row3_col3\" class=\"data row3 col3\" >Bombay</td>\n",
              "      <td id=\"T_f2257_row3_col4\" class=\"data row3 col4\" >2</td>\n",
              "    </tr>\n",
              "    <tr>\n",
              "      <td id=\"T_f2257_row4_col0\" class=\"data row4 col0\" >60</td>\n",
              "      <td id=\"T_f2257_row4_col1\" class=\"data row4 col1\" >Research</td>\n",
              "      <td id=\"T_f2257_row4_col2\" class=\"data row4 col2\" >546224</td>\n",
              "      <td id=\"T_f2257_row4_col3\" class=\"data row4 col3\" >Delhi</td>\n",
              "      <td id=\"T_f2257_row4_col4\" class=\"data row4 col4\" >3</td>\n",
              "    </tr>\n",
              "  </tbody>\n",
              "</table>\n"
            ]
          },
          "metadata": {},
          "execution_count": 70
        }
      ]
    },
    {
      "cell_type": "code",
      "source": [
        "runCmd(\"insert into Dept (DeptID, DeptName, ManagerID, Location,LocationID) VALUES \\\n",
        "\t('11', 'Corporate2', '299035', 'Calcutta','1')\")\n",
        "runSelect(\"select * from dept\")"
      ],
      "metadata": {
        "id": "iyW0EobdDuMY",
        "outputId": "43df8d04-79f5-4f5c-bc96-58bc5d8794c2",
        "colab": {
          "base_uri": "https://localhost:8080/",
          "height": 255
        }
      },
      "execution_count": 71,
      "outputs": [
        {
          "output_type": "stream",
          "name": "stdout",
          "text": [
            "Command executed\n"
          ]
        },
        {
          "output_type": "execute_result",
          "data": {
            "text/plain": [
              "<pandas.io.formats.style.Styler at 0x7894947d35b0>"
            ],
            "text/html": [
              "<style type=\"text/css\">\n",
              "</style>\n",
              "<table id=\"T_1cad4\" class=\"dataframe\">\n",
              "  <thead>\n",
              "    <tr>\n",
              "      <th id=\"T_1cad4_level0_col0\" class=\"col_heading level0 col0\" >deptid</th>\n",
              "      <th id=\"T_1cad4_level0_col1\" class=\"col_heading level0 col1\" >deptname</th>\n",
              "      <th id=\"T_1cad4_level0_col2\" class=\"col_heading level0 col2\" >managerid</th>\n",
              "      <th id=\"T_1cad4_level0_col3\" class=\"col_heading level0 col3\" >location</th>\n",
              "      <th id=\"T_1cad4_level0_col4\" class=\"col_heading level0 col4\" >locationid</th>\n",
              "    </tr>\n",
              "  </thead>\n",
              "  <tbody>\n",
              "    <tr>\n",
              "      <td id=\"T_1cad4_row0_col0\" class=\"data row0 col0\" >10</td>\n",
              "      <td id=\"T_1cad4_row0_col1\" class=\"data row0 col1\" >Corporate</td>\n",
              "      <td id=\"T_1cad4_row0_col2\" class=\"data row0 col2\" >299034</td>\n",
              "      <td id=\"T_1cad4_row0_col3\" class=\"data row0 col3\" >Calcutta</td>\n",
              "      <td id=\"T_1cad4_row0_col4\" class=\"data row0 col4\" >1</td>\n",
              "    </tr>\n",
              "    <tr>\n",
              "      <td id=\"T_1cad4_row1_col0\" class=\"data row1 col0\" >20</td>\n",
              "      <td id=\"T_1cad4_row1_col1\" class=\"data row1 col1\" >Sales</td>\n",
              "      <td id=\"T_1cad4_row1_col2\" class=\"data row1 col2\" >239456</td>\n",
              "      <td id=\"T_1cad4_row1_col3\" class=\"data row1 col3\" >Calcutta</td>\n",
              "      <td id=\"T_1cad4_row1_col4\" class=\"data row1 col4\" >1</td>\n",
              "    </tr>\n",
              "    <tr>\n",
              "      <td id=\"T_1cad4_row2_col0\" class=\"data row2 col0\" >30</td>\n",
              "      <td id=\"T_1cad4_row2_col1\" class=\"data row2 col1\" >Accounts</td>\n",
              "      <td id=\"T_1cad4_row2_col2\" class=\"data row2 col2\" >822134</td>\n",
              "      <td id=\"T_1cad4_row2_col3\" class=\"data row2 col3\" >Calcutta</td>\n",
              "      <td id=\"T_1cad4_row2_col4\" class=\"data row2 col4\" >1</td>\n",
              "    </tr>\n",
              "    <tr>\n",
              "      <td id=\"T_1cad4_row3_col0\" class=\"data row3 col0\" >40</td>\n",
              "      <td id=\"T_1cad4_row3_col1\" class=\"data row3 col1\" >Production</td>\n",
              "      <td id=\"T_1cad4_row3_col2\" class=\"data row3 col2\" >349870</td>\n",
              "      <td id=\"T_1cad4_row3_col3\" class=\"data row3 col3\" >Bombay</td>\n",
              "      <td id=\"T_1cad4_row3_col4\" class=\"data row3 col4\" >2</td>\n",
              "    </tr>\n",
              "    <tr>\n",
              "      <td id=\"T_1cad4_row4_col0\" class=\"data row4 col0\" >60</td>\n",
              "      <td id=\"T_1cad4_row4_col1\" class=\"data row4 col1\" >Research</td>\n",
              "      <td id=\"T_1cad4_row4_col2\" class=\"data row4 col2\" >546224</td>\n",
              "      <td id=\"T_1cad4_row4_col3\" class=\"data row4 col3\" >Delhi</td>\n",
              "      <td id=\"T_1cad4_row4_col4\" class=\"data row4 col4\" >3</td>\n",
              "    </tr>\n",
              "    <tr>\n",
              "      <td id=\"T_1cad4_row5_col0\" class=\"data row5 col0\" >11</td>\n",
              "      <td id=\"T_1cad4_row5_col1\" class=\"data row5 col1\" >Corporate2</td>\n",
              "      <td id=\"T_1cad4_row5_col2\" class=\"data row5 col2\" >299035</td>\n",
              "      <td id=\"T_1cad4_row5_col3\" class=\"data row5 col3\" >Calcutta</td>\n",
              "      <td id=\"T_1cad4_row5_col4\" class=\"data row5 col4\" >1</td>\n",
              "    </tr>\n",
              "  </tbody>\n",
              "</table>\n"
            ]
          },
          "metadata": {},
          "execution_count": 71
        }
      ]
    },
    {
      "cell_type": "code",
      "source": [
        "runCmd(\"update dept set deptname = 'Marketing' where deptid = '11'\")\n",
        "runSelect(\"select * from dept\")"
      ],
      "metadata": {
        "id": "DqdnmD2pEQNq",
        "outputId": "619e0d6a-2e0e-4028-afa3-3f7a8fa86300",
        "colab": {
          "base_uri": "https://localhost:8080/",
          "height": 255
        }
      },
      "execution_count": 72,
      "outputs": [
        {
          "output_type": "stream",
          "name": "stdout",
          "text": [
            "Command executed\n"
          ]
        },
        {
          "output_type": "execute_result",
          "data": {
            "text/plain": [
              "<pandas.io.formats.style.Styler at 0x7894947d2e00>"
            ],
            "text/html": [
              "<style type=\"text/css\">\n",
              "</style>\n",
              "<table id=\"T_1c332\" class=\"dataframe\">\n",
              "  <thead>\n",
              "    <tr>\n",
              "      <th id=\"T_1c332_level0_col0\" class=\"col_heading level0 col0\" >deptid</th>\n",
              "      <th id=\"T_1c332_level0_col1\" class=\"col_heading level0 col1\" >deptname</th>\n",
              "      <th id=\"T_1c332_level0_col2\" class=\"col_heading level0 col2\" >managerid</th>\n",
              "      <th id=\"T_1c332_level0_col3\" class=\"col_heading level0 col3\" >location</th>\n",
              "      <th id=\"T_1c332_level0_col4\" class=\"col_heading level0 col4\" >locationid</th>\n",
              "    </tr>\n",
              "  </thead>\n",
              "  <tbody>\n",
              "    <tr>\n",
              "      <td id=\"T_1c332_row0_col0\" class=\"data row0 col0\" >10</td>\n",
              "      <td id=\"T_1c332_row0_col1\" class=\"data row0 col1\" >Corporate</td>\n",
              "      <td id=\"T_1c332_row0_col2\" class=\"data row0 col2\" >299034</td>\n",
              "      <td id=\"T_1c332_row0_col3\" class=\"data row0 col3\" >Calcutta</td>\n",
              "      <td id=\"T_1c332_row0_col4\" class=\"data row0 col4\" >1</td>\n",
              "    </tr>\n",
              "    <tr>\n",
              "      <td id=\"T_1c332_row1_col0\" class=\"data row1 col0\" >20</td>\n",
              "      <td id=\"T_1c332_row1_col1\" class=\"data row1 col1\" >Sales</td>\n",
              "      <td id=\"T_1c332_row1_col2\" class=\"data row1 col2\" >239456</td>\n",
              "      <td id=\"T_1c332_row1_col3\" class=\"data row1 col3\" >Calcutta</td>\n",
              "      <td id=\"T_1c332_row1_col4\" class=\"data row1 col4\" >1</td>\n",
              "    </tr>\n",
              "    <tr>\n",
              "      <td id=\"T_1c332_row2_col0\" class=\"data row2 col0\" >30</td>\n",
              "      <td id=\"T_1c332_row2_col1\" class=\"data row2 col1\" >Accounts</td>\n",
              "      <td id=\"T_1c332_row2_col2\" class=\"data row2 col2\" >822134</td>\n",
              "      <td id=\"T_1c332_row2_col3\" class=\"data row2 col3\" >Calcutta</td>\n",
              "      <td id=\"T_1c332_row2_col4\" class=\"data row2 col4\" >1</td>\n",
              "    </tr>\n",
              "    <tr>\n",
              "      <td id=\"T_1c332_row3_col0\" class=\"data row3 col0\" >40</td>\n",
              "      <td id=\"T_1c332_row3_col1\" class=\"data row3 col1\" >Production</td>\n",
              "      <td id=\"T_1c332_row3_col2\" class=\"data row3 col2\" >349870</td>\n",
              "      <td id=\"T_1c332_row3_col3\" class=\"data row3 col3\" >Bombay</td>\n",
              "      <td id=\"T_1c332_row3_col4\" class=\"data row3 col4\" >2</td>\n",
              "    </tr>\n",
              "    <tr>\n",
              "      <td id=\"T_1c332_row4_col0\" class=\"data row4 col0\" >60</td>\n",
              "      <td id=\"T_1c332_row4_col1\" class=\"data row4 col1\" >Research</td>\n",
              "      <td id=\"T_1c332_row4_col2\" class=\"data row4 col2\" >546224</td>\n",
              "      <td id=\"T_1c332_row4_col3\" class=\"data row4 col3\" >Delhi</td>\n",
              "      <td id=\"T_1c332_row4_col4\" class=\"data row4 col4\" >3</td>\n",
              "    </tr>\n",
              "    <tr>\n",
              "      <td id=\"T_1c332_row5_col0\" class=\"data row5 col0\" >11</td>\n",
              "      <td id=\"T_1c332_row5_col1\" class=\"data row5 col1\" >Marketing</td>\n",
              "      <td id=\"T_1c332_row5_col2\" class=\"data row5 col2\" >299035</td>\n",
              "      <td id=\"T_1c332_row5_col3\" class=\"data row5 col3\" >Calcutta</td>\n",
              "      <td id=\"T_1c332_row5_col4\" class=\"data row5 col4\" >1</td>\n",
              "    </tr>\n",
              "  </tbody>\n",
              "</table>\n"
            ]
          },
          "metadata": {},
          "execution_count": 72
        }
      ]
    },
    {
      "cell_type": "code",
      "source": [
        "runCmd(\"delete from dept where deptid = '11'\")\n",
        "runSelect(\"select * from dept\")"
      ],
      "metadata": {
        "id": "nsnJnNrEF6iS",
        "outputId": "4fa3044d-bde5-4407-fb41-419b9e0bdd0e",
        "colab": {
          "base_uri": "https://localhost:8080/",
          "height": 224
        }
      },
      "execution_count": 73,
      "outputs": [
        {
          "output_type": "stream",
          "name": "stdout",
          "text": [
            "Command executed\n"
          ]
        },
        {
          "output_type": "execute_result",
          "data": {
            "text/plain": [
              "<pandas.io.formats.style.Styler at 0x7894947d24d0>"
            ],
            "text/html": [
              "<style type=\"text/css\">\n",
              "</style>\n",
              "<table id=\"T_aa496\" class=\"dataframe\">\n",
              "  <thead>\n",
              "    <tr>\n",
              "      <th id=\"T_aa496_level0_col0\" class=\"col_heading level0 col0\" >deptid</th>\n",
              "      <th id=\"T_aa496_level0_col1\" class=\"col_heading level0 col1\" >deptname</th>\n",
              "      <th id=\"T_aa496_level0_col2\" class=\"col_heading level0 col2\" >managerid</th>\n",
              "      <th id=\"T_aa496_level0_col3\" class=\"col_heading level0 col3\" >location</th>\n",
              "      <th id=\"T_aa496_level0_col4\" class=\"col_heading level0 col4\" >locationid</th>\n",
              "    </tr>\n",
              "  </thead>\n",
              "  <tbody>\n",
              "    <tr>\n",
              "      <td id=\"T_aa496_row0_col0\" class=\"data row0 col0\" >10</td>\n",
              "      <td id=\"T_aa496_row0_col1\" class=\"data row0 col1\" >Corporate</td>\n",
              "      <td id=\"T_aa496_row0_col2\" class=\"data row0 col2\" >299034</td>\n",
              "      <td id=\"T_aa496_row0_col3\" class=\"data row0 col3\" >Calcutta</td>\n",
              "      <td id=\"T_aa496_row0_col4\" class=\"data row0 col4\" >1</td>\n",
              "    </tr>\n",
              "    <tr>\n",
              "      <td id=\"T_aa496_row1_col0\" class=\"data row1 col0\" >20</td>\n",
              "      <td id=\"T_aa496_row1_col1\" class=\"data row1 col1\" >Sales</td>\n",
              "      <td id=\"T_aa496_row1_col2\" class=\"data row1 col2\" >239456</td>\n",
              "      <td id=\"T_aa496_row1_col3\" class=\"data row1 col3\" >Calcutta</td>\n",
              "      <td id=\"T_aa496_row1_col4\" class=\"data row1 col4\" >1</td>\n",
              "    </tr>\n",
              "    <tr>\n",
              "      <td id=\"T_aa496_row2_col0\" class=\"data row2 col0\" >30</td>\n",
              "      <td id=\"T_aa496_row2_col1\" class=\"data row2 col1\" >Accounts</td>\n",
              "      <td id=\"T_aa496_row2_col2\" class=\"data row2 col2\" >822134</td>\n",
              "      <td id=\"T_aa496_row2_col3\" class=\"data row2 col3\" >Calcutta</td>\n",
              "      <td id=\"T_aa496_row2_col4\" class=\"data row2 col4\" >1</td>\n",
              "    </tr>\n",
              "    <tr>\n",
              "      <td id=\"T_aa496_row3_col0\" class=\"data row3 col0\" >40</td>\n",
              "      <td id=\"T_aa496_row3_col1\" class=\"data row3 col1\" >Production</td>\n",
              "      <td id=\"T_aa496_row3_col2\" class=\"data row3 col2\" >349870</td>\n",
              "      <td id=\"T_aa496_row3_col3\" class=\"data row3 col3\" >Bombay</td>\n",
              "      <td id=\"T_aa496_row3_col4\" class=\"data row3 col4\" >2</td>\n",
              "    </tr>\n",
              "    <tr>\n",
              "      <td id=\"T_aa496_row4_col0\" class=\"data row4 col0\" >60</td>\n",
              "      <td id=\"T_aa496_row4_col1\" class=\"data row4 col1\" >Research</td>\n",
              "      <td id=\"T_aa496_row4_col2\" class=\"data row4 col2\" >546224</td>\n",
              "      <td id=\"T_aa496_row4_col3\" class=\"data row4 col3\" >Delhi</td>\n",
              "      <td id=\"T_aa496_row4_col4\" class=\"data row4 col4\" >3</td>\n",
              "    </tr>\n",
              "  </tbody>\n",
              "</table>\n"
            ]
          },
          "metadata": {},
          "execution_count": 73
        }
      ]
    },
    {
      "cell_type": "code",
      "source": [
        "from datetime import datetime\n",
        "import pytz\n",
        "print('Last tested  ',datetime.now(pytz.timezone('Asia/Kolkata')))"
      ],
      "metadata": {
        "colab": {
          "base_uri": "https://localhost:8080/"
        },
        "id": "wjBXJVhM605H",
        "outputId": "9123cf16-2c5f-47bf-af31-96f26b172403"
      },
      "execution_count": 74,
      "outputs": [
        {
          "output_type": "stream",
          "name": "stdout",
          "text": [
            "Last tested   2023-12-31 05:07:28.654484+05:30\n"
          ]
        }
      ]
    },
    {
      "cell_type": "markdown",
      "source": [
        "#Chronobooks <br>\n",
        "Two science fiction novels by Prithwis Mukerjee. A dystopian Earth. A technocratic society managed by artificial intelligence. Escape and epiphany on Mars. Can man and machine, carbon and silicon explore and escape into other dimensions of existence? An Indic perspective rooted in Advaita Vedanta and the Divine Feminine.  [More information](http://bit.ly/chronobooks) <br>\n",
        "![alt text](https://github.com/Praxis-QR/RDWH/raw/main/images/CTCYFooter-1.png)"
      ],
      "metadata": {
        "id": "_gNiZpyW3AzJ"
      }
    }
  ]
}
