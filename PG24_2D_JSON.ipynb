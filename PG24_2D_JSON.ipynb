{
  "nbformat": 4,
  "nbformat_minor": 0,
  "metadata": {
    "colab": {
      "provenance": [],
      "toc_visible": true,
      "include_colab_link": true
    },
    "kernelspec": {
      "name": "python3",
      "display_name": "Python 3"
    },
    "language_info": {
      "name": "python"
    }
  },
  "cells": [
    {
      "cell_type": "markdown",
      "metadata": {
        "id": "view-in-github",
        "colab_type": "text"
      },
      "source": [
        "<a href=\"https://colab.research.google.com/github/Praxis-QR/RDWH/blob/main/PG24_2D_JSON.ipynb\" target=\"_parent\"><img src=\"https://colab.research.google.com/assets/colab-badge.svg\" alt=\"Open In Colab\"/></a>"
      ]
    },
    {
      "cell_type": "markdown",
      "source": [
        "![alt text](https://github.com/Praxis-QR/RDWH/raw/main/images/YantraJaalBanner.png)<br>\n",
        "\n",
        "\n",
        "<hr>\n",
        "\n",
        "[Prithwis Mukerjee](http://www.linkedin.com/in/prithwis)<br>"
      ],
      "metadata": {
        "id": "DBzz-qaN2tKu"
      }
    },
    {
      "cell_type": "markdown",
      "source": [
        "#JSON - Java Script Oriented Notation\n",
        "[What is JSON?](https://developers.squarespace.com/what-is-json) JSON, or JavaScript Object Notation, is a minimal, readable format for structuring data. It was originally intended to transmit data ( or documents)  between a server and web application, as an alternative to XML. But is now used to store documents in a searchable database."
      ],
      "metadata": {
        "id": "LEr-ZpISbtuR"
      }
    },
    {
      "cell_type": "code",
      "source": [
        "from datetime import datetime\n",
        "import pytz\n",
        "print('ॐ श्री सरस्वत्यै नमः',datetime.now(pytz.timezone('Asia/Calcutta')))\n",
        "!python --version\n",
        "!lsb_release -a"
      ],
      "metadata": {
        "colab": {
          "base_uri": "https://localhost:8080/"
        },
        "id": "8vKcykeMtdAc",
        "outputId": "e4475183-09b8-49f9-829f-1d28aea425ee"
      },
      "execution_count": 1,
      "outputs": [
        {
          "output_type": "stream",
          "name": "stdout",
          "text": [
            "ॐ श्री सरस्वत्यै नमः 2024-03-15 05:42:18.392735+05:30\n",
            "Python 3.10.12\n",
            "No LSB modules are available.\n",
            "Distributor ID:\tUbuntu\n",
            "Description:\tUbuntu 22.04.3 LTS\n",
            "Release:\t22.04\n",
            "Codename:\tjammy\n"
          ]
        }
      ]
    },
    {
      "cell_type": "markdown",
      "source": [
        "#Install, Configure Local Database"
      ],
      "metadata": {
        "id": "nD-QawLT6kDr"
      }
    },
    {
      "cell_type": "code",
      "source": [
        "# Install postgresql server\n",
        "\n",
        "!apt update > /dev/null\n",
        "!apt install postgresql > /dev/null\n",
        "#!pip install psycopg2\n",
        "import psycopg2\n",
        "import pandas as pd\n",
        "pd.set_option('display.max_colwidth', 500)\n",
        "#!sudo -u postgres psql -V\n",
        "!psql -V\n",
        "!service postgresql start"
      ],
      "metadata": {
        "colab": {
          "base_uri": "https://localhost:8080/"
        },
        "id": "o_RaqE0OOHP3",
        "outputId": "d6e38643-0637-4ff8-eb5e-8f9862567792"
      },
      "execution_count": 2,
      "outputs": [
        {
          "output_type": "stream",
          "name": "stdout",
          "text": [
            "\n",
            "WARNING: apt does not have a stable CLI interface. Use with caution in scripts.\n",
            "\n",
            "\n",
            "WARNING: apt does not have a stable CLI interface. Use with caution in scripts.\n",
            "\n",
            "psql (PostgreSQL) 14.11 (Ubuntu 14.11-0ubuntu0.22.04.1)\n",
            " * Starting PostgreSQL 14 database server\n",
            "   ...done.\n"
          ]
        }
      ]
    },
    {
      "cell_type": "markdown",
      "source": [
        "## Local Configuration"
      ],
      "metadata": {
        "id": "--pn1fPO6ndu"
      }
    },
    {
      "cell_type": "code",
      "source": [
        "# This has created an Ubuntu user 'postgres' AND a Postgres database user 'postgres' both of which are superusers\n",
        "#!cat /etc/passwd\n",
        "# Use these users to create a new database user called 'upraxis' and give it a password 'upass'\n",
        "#!sudo -u postgres createuser --superuser upraxis\n",
        "!sudo -u postgres createuser upraxis\n",
        "!sudo -u postgres psql -U postgres -c \"ALTER USER upraxis PASSWORD 'upass';\"\n",
        "# Change the database superuser 'postgres' to a non-default value 'pass'\n",
        "!sudo -u postgres psql -U postgres -c \"ALTER USER postgres PASSWORD 'pass';\"\n",
        "# Use ubuntu superuser to create database dbpraxis and set its owner to upraxis\n",
        "!sudo -u postgres createdb -O upraxis dbpraxis\n",
        "# Create file to store the password. Else will be prompted each time\n",
        "#!echo \"localhost:5432:praxisdb:postgres:pass\" > ~/.pgpass\n",
        "!echo \"localhost:5432:dbpraxis:upraxis:upass\" > ~/.pgpass\n",
        "!echo \"localhost:5432:dbpraxis:postgres:pass\" >> ~/.pgpass\n",
        "!chmod 0600 ~/.pgpass\n",
        "!cat ~/.pgpass\n"
      ],
      "metadata": {
        "colab": {
          "base_uri": "https://localhost:8080/"
        },
        "id": "xr5kHaY_U4CZ",
        "outputId": "41ba26d6-45d7-43af-87ed-553e53e1be8e"
      },
      "execution_count": 3,
      "outputs": [
        {
          "output_type": "stream",
          "name": "stdout",
          "text": [
            "ALTER ROLE\n",
            "ALTER ROLE\n",
            "localhost:5432:dbpraxis:upraxis:upass\n",
            "localhost:5432:dbpraxis:postgres:pass\n"
          ]
        }
      ]
    },
    {
      "cell_type": "code",
      "source": [
        "# Local Colab server\n",
        "\n",
        "conn = psycopg2.connect(database=\"dbpraxis\", user='upraxis', password='upass', host='127.0.0.1', port= '5432')\n",
        "#Creating a cursor object using the cursor() method\n",
        "cursor = conn.cursor()\n",
        "#Executing an MYSQL function using the execute() method\n",
        "cursor.execute(\"select version()\")\n",
        "# Fetch a single row using fetchone() method.\n",
        "data = cursor.fetchone()\n",
        "print(\"Connection established to: \",data)\n",
        "#Closing the connection\n",
        "conn.close()"
      ],
      "metadata": {
        "colab": {
          "base_uri": "https://localhost:8080/"
        },
        "id": "HPGLhVCx3kFz",
        "outputId": "1a660c9a-e5ed-4605-fc50-bbddc9ccf050"
      },
      "execution_count": 4,
      "outputs": [
        {
          "output_type": "stream",
          "name": "stdout",
          "text": [
            "Connection established to:  ('PostgreSQL 14.11 (Ubuntu 14.11-0ubuntu0.22.04.1) on x86_64-pc-linux-gnu, compiled by gcc (Ubuntu 11.4.0-1ubuntu1~22.04) 11.4.0, 64-bit',)\n"
          ]
        }
      ]
    },
    {
      "cell_type": "code",
      "source": [
        "def runSelect(s):\n",
        "    #Set up connection\n",
        "\n",
        "    conn = psycopg2.connect(database=\"dbpraxis\", user='upraxis', password='upass', host='127.0.0.1', port= '5432')\n",
        "    #Setting auto commit true\n",
        "    conn.autocommit = True\n",
        "    #Creating a cursor object using the cursor() method\n",
        "    cursor = conn.cursor()\n",
        "    #Retrieving data\n",
        "    cursor.execute(s)\n",
        "    #Fetching all rows from the table\n",
        "    result = cursor.fetchall();\n",
        "    #print(len(result))\n",
        "    if (len(result)) > 0:                                       # result contains at least one row\n",
        "        colnames = [desc[0] for desc in cursor.description]     # get column names\n",
        "        #print(colnames)\n",
        "        resultdf = pd.DataFrame(result)                         # convert list to dataframe\n",
        "        resultdf.columns = colnames                             # add column names\n",
        "        #return resultdf\n",
        "        return resultdf.style.hide()                            # hide the index\n",
        "    else:\n",
        "        print('no records found')\n",
        "        return\n",
        "# function to execute SQL non-select statements with Postgres\n",
        "#\n",
        "def runCmd(s):\n",
        "    #Create Connection\n",
        "    conn = psycopg2.connect(database=\"dbpraxis\", user='upraxis', password='upass', host='127.0.0.1', port= '5432')\n",
        "    #Creating a cursor object using the cursor() method\n",
        "    cursor = conn.cursor()\n",
        "    try:\n",
        "        cursor.execute(s)\n",
        "        print('Command executed')\n",
        "        conn.commit()\n",
        "    except:\n",
        "        print('Command failed')\n",
        "    #Closing the connection\n",
        "    conn.close()"
      ],
      "metadata": {
        "id": "JPWZ3Q1Y3x66"
      },
      "execution_count": 5,
      "outputs": []
    },
    {
      "cell_type": "markdown",
      "source": [
        "#Local Database"
      ],
      "metadata": {
        "id": "pHTdNzrU6qUE"
      }
    },
    {
      "cell_type": "markdown",
      "source": [
        "## Create Tables"
      ],
      "metadata": {
        "id": "uo61Cp0oaPHL"
      }
    },
    {
      "cell_type": "code",
      "source": [
        "!psql -h localhost -p 5432 -Uupraxis -d dbpraxis -c 'drop schema if exists js cascade'\n",
        "!psql -h localhost -p 5432 -Uupraxis -d dbpraxis -c 'create schema if not exists js'\n",
        "!psql -h localhost -p 5432 -Uupraxis -d dbpraxis -c '\\dn+'\n",
        "!psql -h localhost -p 5432 -Uupraxis -d dbpraxis -c 'drop table if exists js.orders'\n",
        "!psql -h localhost -p 5432 -Uupraxis -ddbpraxis -c '\\\n",
        "CREATE TABLE js.orders ( \\\n",
        "\tid serial NOT NULL PRIMARY KEY, \\\n",
        "\tinfo jsonb NOT NULL \\\n",
        ");'\n",
        "\n",
        "#Describe the table ss_order\n",
        "!psql -h localhost -p 5432 -Uupraxis -ddbpraxis -c '\\d+ js.orders'"
      ],
      "metadata": {
        "colab": {
          "base_uri": "https://localhost:8080/"
        },
        "id": "DsUZ9JlEXIir",
        "outputId": "81a70ce1-17e0-4627-e60e-a77cf76cef20"
      },
      "execution_count": 6,
      "outputs": [
        {
          "output_type": "stream",
          "name": "stdout",
          "text": [
            "NOTICE:  schema \"js\" does not exist, skipping\n",
            "DROP SCHEMA\n",
            "CREATE SCHEMA\n",
            "                          List of schemas\n",
            "  Name  |  Owner   |  Access privileges   |      Description       \n",
            "--------+----------+----------------------+------------------------\n",
            " js     | upraxis  |                      | \n",
            " public | postgres | postgres=UC/postgres+| standard public schema\n",
            "        |          | =UC/postgres         | \n",
            "(2 rows)\n",
            "\n",
            "NOTICE:  table \"orders\" does not exist, skipping\n",
            "DROP TABLE\n",
            "CREATE TABLE\n",
            "                                                           Table \"js.orders\"\n",
            " Column |  Type   | Collation | Nullable |                Default                | Storage  | Compression | Stats target | Description \n",
            "--------+---------+-----------+----------+---------------------------------------+----------+-------------+--------------+-------------\n",
            " id     | integer |           | not null | nextval('js.orders_id_seq'::regclass) | plain    |             |              | \n",
            " info   | jsonb   |           | not null |                                       | extended |             |              | \n",
            "Indexes:\n",
            "    \"orders_pkey\" PRIMARY KEY, btree (id)\n",
            "Access method: heap\n",
            "\n"
          ]
        }
      ]
    },
    {
      "cell_type": "markdown",
      "source": [
        "## Load Data - Insert Option"
      ],
      "metadata": {
        "id": "9_OLx3qk_7qR"
      }
    },
    {
      "cell_type": "code",
      "source": [
        "cmd = \"\"\"INSERT INTO js.orders (info) VALUES('{ \"customer\": \"Kapil Dev\", \"items\": {\"product\": \"Heineken\",\"qty\": 6}}');\"\"\"\n",
        "#print(cmd)\n",
        "runCmd(cmd)\n",
        "runSelect('select * from js.orders')"
      ],
      "metadata": {
        "colab": {
          "base_uri": "https://localhost:8080/",
          "height": 98
        },
        "id": "3D-ExkhJgi6R",
        "outputId": "d360779c-3d6c-4780-eb65-8cd22ab3e594"
      },
      "execution_count": 7,
      "outputs": [
        {
          "output_type": "stream",
          "name": "stdout",
          "text": [
            "Command executed\n"
          ]
        },
        {
          "output_type": "execute_result",
          "data": {
            "text/plain": [
              "<pandas.io.formats.style.Styler at 0x7dfc6ee24bb0>"
            ],
            "text/html": [
              "<style type=\"text/css\">\n",
              "</style>\n",
              "<table id=\"T_e8f01\" class=\"dataframe\">\n",
              "  <thead>\n",
              "    <tr>\n",
              "      <th id=\"T_e8f01_level0_col0\" class=\"col_heading level0 col0\" >id</th>\n",
              "      <th id=\"T_e8f01_level0_col1\" class=\"col_heading level0 col1\" >info</th>\n",
              "    </tr>\n",
              "  </thead>\n",
              "  <tbody>\n",
              "    <tr>\n",
              "      <td id=\"T_e8f01_row0_col0\" class=\"data row0 col0\" >1</td>\n",
              "      <td id=\"T_e8f01_row0_col1\" class=\"data row0 col1\" >{'items': {'qty': 6, 'product': 'Heineken'}, 'customer': 'Kapil Dev'}</td>\n",
              "    </tr>\n",
              "  </tbody>\n",
              "</table>\n"
            ]
          },
          "metadata": {},
          "execution_count": 7
        }
      ]
    },
    {
      "cell_type": "code",
      "source": [
        "cmd = \"\"\"INSERT INTO js.orders (info) \\\n",
        "VALUES('{ \"customer\": \"Rekha Ganesan\", \"items\": {\"product\": \"Carlsberg\",\"qty\": 24}}'), \\\n",
        "      ('{ \"customer\": \"Madhuri Dikshit\", \"items\": {\"product\": \"Kalyani\",\"qty\": 12}}'), \\\n",
        "      ('{ \"customer\": \"Farokh Engineer\", \"items\": {\"product\": \"Kalyani Black\",\"qty\": 12}}'); \\\n",
        "\"\"\"\n",
        "#print(cmd)\n",
        "runCmd(cmd)\n",
        "runSelect('select * from js.orders')"
      ],
      "metadata": {
        "colab": {
          "base_uri": "https://localhost:8080/",
          "height": 192
        },
        "id": "-8nyu7XsjhXW",
        "outputId": "ee8e107d-34fa-4b80-8867-2f73fa9268cf"
      },
      "execution_count": 8,
      "outputs": [
        {
          "output_type": "stream",
          "name": "stdout",
          "text": [
            "Command executed\n"
          ]
        },
        {
          "output_type": "execute_result",
          "data": {
            "text/plain": [
              "<pandas.io.formats.style.Styler at 0x7dfc6ee256f0>"
            ],
            "text/html": [
              "<style type=\"text/css\">\n",
              "</style>\n",
              "<table id=\"T_50a3a\" class=\"dataframe\">\n",
              "  <thead>\n",
              "    <tr>\n",
              "      <th id=\"T_50a3a_level0_col0\" class=\"col_heading level0 col0\" >id</th>\n",
              "      <th id=\"T_50a3a_level0_col1\" class=\"col_heading level0 col1\" >info</th>\n",
              "    </tr>\n",
              "  </thead>\n",
              "  <tbody>\n",
              "    <tr>\n",
              "      <td id=\"T_50a3a_row0_col0\" class=\"data row0 col0\" >1</td>\n",
              "      <td id=\"T_50a3a_row0_col1\" class=\"data row0 col1\" >{'items': {'qty': 6, 'product': 'Heineken'}, 'customer': 'Kapil Dev'}</td>\n",
              "    </tr>\n",
              "    <tr>\n",
              "      <td id=\"T_50a3a_row1_col0\" class=\"data row1 col0\" >2</td>\n",
              "      <td id=\"T_50a3a_row1_col1\" class=\"data row1 col1\" >{'items': {'qty': 24, 'product': 'Carlsberg'}, 'customer': 'Rekha Ganesan'}</td>\n",
              "    </tr>\n",
              "    <tr>\n",
              "      <td id=\"T_50a3a_row2_col0\" class=\"data row2 col0\" >3</td>\n",
              "      <td id=\"T_50a3a_row2_col1\" class=\"data row2 col1\" >{'items': {'qty': 12, 'product': 'Kalyani'}, 'customer': 'Madhuri Dikshit'}</td>\n",
              "    </tr>\n",
              "    <tr>\n",
              "      <td id=\"T_50a3a_row3_col0\" class=\"data row3 col0\" >4</td>\n",
              "      <td id=\"T_50a3a_row3_col1\" class=\"data row3 col1\" >{'items': {'qty': 12, 'product': 'Kalyani Black'}, 'customer': 'Farokh Engineer'}</td>\n",
              "    </tr>\n",
              "  </tbody>\n",
              "</table>\n"
            ]
          },
          "metadata": {},
          "execution_count": 8
        }
      ]
    },
    {
      "cell_type": "code",
      "source": [
        "cmd = \"\"\"\\\n",
        "INSERT INTO js.orders (info) \\\n",
        "VALUES('{   \"customer\": \"Saina Nehwal\", \\\n",
        "            \"items\": [\\\n",
        "                {\"product\": \"Bira91\",\"qty\": 6}, \\\n",
        "                {\"product\": \"Kingfisher Light\",\"qty\": 6} \\\n",
        "            ] \\\n",
        "        }');\\\n",
        "\"\"\"\n",
        "#print(cmd)\n",
        "runCmd(cmd)\n",
        "runSelect('select * from js.orders')"
      ],
      "metadata": {
        "colab": {
          "base_uri": "https://localhost:8080/",
          "height": 224
        },
        "id": "0L9VSMnApDm3",
        "outputId": "06d895cf-9670-4d48-b77a-31a27ef7560c"
      },
      "execution_count": 9,
      "outputs": [
        {
          "output_type": "stream",
          "name": "stdout",
          "text": [
            "Command executed\n"
          ]
        },
        {
          "output_type": "execute_result",
          "data": {
            "text/plain": [
              "<pandas.io.formats.style.Styler at 0x7dfc3fbb3b80>"
            ],
            "text/html": [
              "<style type=\"text/css\">\n",
              "</style>\n",
              "<table id=\"T_f0354\" class=\"dataframe\">\n",
              "  <thead>\n",
              "    <tr>\n",
              "      <th id=\"T_f0354_level0_col0\" class=\"col_heading level0 col0\" >id</th>\n",
              "      <th id=\"T_f0354_level0_col1\" class=\"col_heading level0 col1\" >info</th>\n",
              "    </tr>\n",
              "  </thead>\n",
              "  <tbody>\n",
              "    <tr>\n",
              "      <td id=\"T_f0354_row0_col0\" class=\"data row0 col0\" >1</td>\n",
              "      <td id=\"T_f0354_row0_col1\" class=\"data row0 col1\" >{'items': {'qty': 6, 'product': 'Heineken'}, 'customer': 'Kapil Dev'}</td>\n",
              "    </tr>\n",
              "    <tr>\n",
              "      <td id=\"T_f0354_row1_col0\" class=\"data row1 col0\" >2</td>\n",
              "      <td id=\"T_f0354_row1_col1\" class=\"data row1 col1\" >{'items': {'qty': 24, 'product': 'Carlsberg'}, 'customer': 'Rekha Ganesan'}</td>\n",
              "    </tr>\n",
              "    <tr>\n",
              "      <td id=\"T_f0354_row2_col0\" class=\"data row2 col0\" >3</td>\n",
              "      <td id=\"T_f0354_row2_col1\" class=\"data row2 col1\" >{'items': {'qty': 12, 'product': 'Kalyani'}, 'customer': 'Madhuri Dikshit'}</td>\n",
              "    </tr>\n",
              "    <tr>\n",
              "      <td id=\"T_f0354_row3_col0\" class=\"data row3 col0\" >4</td>\n",
              "      <td id=\"T_f0354_row3_col1\" class=\"data row3 col1\" >{'items': {'qty': 12, 'product': 'Kalyani Black'}, 'customer': 'Farokh Engineer'}</td>\n",
              "    </tr>\n",
              "    <tr>\n",
              "      <td id=\"T_f0354_row4_col0\" class=\"data row4 col0\" >5</td>\n",
              "      <td id=\"T_f0354_row4_col1\" class=\"data row4 col1\" >{'items': [{'qty': 6, 'product': 'Bira91'}, {'qty': 6, 'product': 'Kingfisher Light'}], 'customer': 'Saina Nehwal'}</td>\n",
              "    </tr>\n",
              "  </tbody>\n",
              "</table>\n"
            ]
          },
          "metadata": {},
          "execution_count": 9
        }
      ]
    },
    {
      "cell_type": "markdown",
      "source": [
        "## Load Data - Copy Option"
      ],
      "metadata": {
        "id": "5m94A6FmACUd"
      }
    },
    {
      "cell_type": "code",
      "source": [
        "%%writefile data.json\n",
        "{ \"customer\": \"Kapil Dev\", \"items\": {\"product\": \"Heineken\",\"qty\": 6}}\n",
        "{ \"customer\": \"Rekha Ganesan\", \"items\": {\"product\": \"Carlsberg\",\"qty\": 24}}\n",
        "{ \"customer\": \"Madhuri Dikshit\", \"items\": {\"product\": \"Kalyani\",\"qty\": 12}}\n",
        "{ \"customer\": \"Farokh Engineer\", \"items\": {\"product\": \"Kalyani Black\",\"qty\": 12}}"
      ],
      "metadata": {
        "colab": {
          "base_uri": "https://localhost:8080/"
        },
        "id": "-x331d2p7QJA",
        "outputId": "bab7bb01-6c2a-4d89-e4c8-b13788cf10d5"
      },
      "execution_count": 10,
      "outputs": [
        {
          "output_type": "stream",
          "name": "stdout",
          "text": [
            "Writing data.json\n"
          ]
        }
      ]
    },
    {
      "cell_type": "code",
      "source": [
        "#!cat data.json"
      ],
      "metadata": {
        "id": "9Ui5FZtE7W0X"
      },
      "execution_count": 11,
      "outputs": []
    },
    {
      "cell_type": "code",
      "source": [
        "# Only superuser ('postgres') can use copy command, not even database owner ('upraxis')\n",
        "# 'postgres' password has to be entered manually\n",
        "#\n",
        "!psql -h localhost -p 5432 -Upostgres -ddbpraxis -c \"truncate js.orders ;\"\n",
        "!psql -h localhost -p 5432 -Upostgres -ddbpraxis -c \"COPY js.orders(info) FROM '/content/data.json' ;\"\n",
        "#!psql -h localhost -p 5432 -Upostgres -ddbpraxis -c \"COPY empl FROM '/content/emp.csv' DELIMITER ',' CSV HEADER;\""
      ],
      "metadata": {
        "id": "tkt8-kUhAgzA",
        "outputId": "138f008e-2aac-43d6-826b-2cd9dc679294",
        "colab": {
          "base_uri": "https://localhost:8080/"
        }
      },
      "execution_count": 12,
      "outputs": [
        {
          "output_type": "stream",
          "name": "stdout",
          "text": [
            "TRUNCATE TABLE\n",
            "COPY 4\n"
          ]
        }
      ]
    },
    {
      "cell_type": "code",
      "source": [
        "# Data deleted by serial number NOT reset\n",
        "runSelect('select * from js.orders')"
      ],
      "metadata": {
        "colab": {
          "base_uri": "https://localhost:8080/",
          "height": 175
        },
        "id": "1JOkxOYB8rR7",
        "outputId": "730ad2c2-227b-4082-adea-a13fa9d589df"
      },
      "execution_count": 13,
      "outputs": [
        {
          "output_type": "execute_result",
          "data": {
            "text/plain": [
              "<pandas.io.formats.style.Styler at 0x7dfc6ee26e00>"
            ],
            "text/html": [
              "<style type=\"text/css\">\n",
              "</style>\n",
              "<table id=\"T_36c2c\" class=\"dataframe\">\n",
              "  <thead>\n",
              "    <tr>\n",
              "      <th id=\"T_36c2c_level0_col0\" class=\"col_heading level0 col0\" >id</th>\n",
              "      <th id=\"T_36c2c_level0_col1\" class=\"col_heading level0 col1\" >info</th>\n",
              "    </tr>\n",
              "  </thead>\n",
              "  <tbody>\n",
              "    <tr>\n",
              "      <td id=\"T_36c2c_row0_col0\" class=\"data row0 col0\" >6</td>\n",
              "      <td id=\"T_36c2c_row0_col1\" class=\"data row0 col1\" >{'items': {'qty': 6, 'product': 'Heineken'}, 'customer': 'Kapil Dev'}</td>\n",
              "    </tr>\n",
              "    <tr>\n",
              "      <td id=\"T_36c2c_row1_col0\" class=\"data row1 col0\" >7</td>\n",
              "      <td id=\"T_36c2c_row1_col1\" class=\"data row1 col1\" >{'items': {'qty': 24, 'product': 'Carlsberg'}, 'customer': 'Rekha Ganesan'}</td>\n",
              "    </tr>\n",
              "    <tr>\n",
              "      <td id=\"T_36c2c_row2_col0\" class=\"data row2 col0\" >8</td>\n",
              "      <td id=\"T_36c2c_row2_col1\" class=\"data row2 col1\" >{'items': {'qty': 12, 'product': 'Kalyani'}, 'customer': 'Madhuri Dikshit'}</td>\n",
              "    </tr>\n",
              "    <tr>\n",
              "      <td id=\"T_36c2c_row3_col0\" class=\"data row3 col0\" >9</td>\n",
              "      <td id=\"T_36c2c_row3_col1\" class=\"data row3 col1\" >{'items': {'qty': 12, 'product': 'Kalyani Black'}, 'customer': 'Farokh Engineer'}</td>\n",
              "    </tr>\n",
              "  </tbody>\n",
              "</table>\n"
            ]
          },
          "metadata": {},
          "execution_count": 13
        }
      ]
    },
    {
      "cell_type": "code",
      "source": [
        "%%writefile data.json\n",
        "{ \"customer\": \"Kapil\", \"items\": {\"product\": \"Heineken\",\"qty\": 6}}\n",
        "{ \"customer\": \"Satyen\", \"items\": {\"product\": \"Heineken\",\"qty\": 18}}\n",
        "{ \"customer\": \"Rekha\", \"items\": {\"product\": \"Carlsberg\",\"qty\": 24}}\n",
        "{ \"customer\": \"Madhuri\", \"items\": {\"product\": \"Kalyani\",\"qty\": 12}}\n",
        "{ \"customer\": \"Srinivas\", \"items\": {\"product\": \"Kingfisher Strong\",\"qty\": 12}}\n",
        "{ \"customer\": \"Saina\", \"items\": [{\"product\": \"Bira91\",\"qty\": 6},{\"product\": \"Kalyani\",\"qty\": 6} ]}"
      ],
      "metadata": {
        "colab": {
          "base_uri": "https://localhost:8080/"
        },
        "id": "UYdw6qYP9HBw",
        "outputId": "d2fb1f44-3cca-4abc-bd2b-86f027539d80"
      },
      "execution_count": 14,
      "outputs": [
        {
          "output_type": "stream",
          "name": "stdout",
          "text": [
            "Overwriting data.json\n"
          ]
        }
      ]
    },
    {
      "cell_type": "code",
      "source": [
        "# Only superuser ('postgres') can use copy command, not even database owner ('upraxis')\n",
        "# 'postgres' password has to be entered manually\n",
        "#\n",
        "!psql -h localhost -p 5432 -Upostgres -ddbpraxis -c \"truncate js.orders restart identity;\"\n",
        "!psql -h localhost -p 5432 -Upostgres -ddbpraxis -c \"COPY js.orders(info) FROM '/content/data.json' ;\"\n",
        "#!psql -h localhost -p 5432 -Upostgres -ddbpraxis -c \"COPY empl FROM '/content/emp.csv' DELIMITER ',' CSV HEADER;\""
      ],
      "metadata": {
        "colab": {
          "base_uri": "https://localhost:8080/"
        },
        "id": "-cJbIdvZ9hUa",
        "outputId": "2ed7fb5c-9ede-4b8e-bb4d-8bd2e49bb1a1"
      },
      "execution_count": 15,
      "outputs": [
        {
          "output_type": "stream",
          "name": "stdout",
          "text": [
            "TRUNCATE TABLE\n",
            "COPY 6\n"
          ]
        }
      ]
    },
    {
      "cell_type": "code",
      "source": [
        "runSelect('select * from js.orders')"
      ],
      "metadata": {
        "colab": {
          "base_uri": "https://localhost:8080/",
          "height": 238
        },
        "id": "Wer761om9oQ_",
        "outputId": "6ef2745b-8b8d-45fe-c0a0-16ac0fdd276c"
      },
      "execution_count": 16,
      "outputs": [
        {
          "output_type": "execute_result",
          "data": {
            "text/plain": [
              "<pandas.io.formats.style.Styler at 0x7dfc3fafa620>"
            ],
            "text/html": [
              "<style type=\"text/css\">\n",
              "</style>\n",
              "<table id=\"T_67689\" class=\"dataframe\">\n",
              "  <thead>\n",
              "    <tr>\n",
              "      <th id=\"T_67689_level0_col0\" class=\"col_heading level0 col0\" >id</th>\n",
              "      <th id=\"T_67689_level0_col1\" class=\"col_heading level0 col1\" >info</th>\n",
              "    </tr>\n",
              "  </thead>\n",
              "  <tbody>\n",
              "    <tr>\n",
              "      <td id=\"T_67689_row0_col0\" class=\"data row0 col0\" >1</td>\n",
              "      <td id=\"T_67689_row0_col1\" class=\"data row0 col1\" >{'items': {'qty': 6, 'product': 'Heineken'}, 'customer': 'Kapil'}</td>\n",
              "    </tr>\n",
              "    <tr>\n",
              "      <td id=\"T_67689_row1_col0\" class=\"data row1 col0\" >2</td>\n",
              "      <td id=\"T_67689_row1_col1\" class=\"data row1 col1\" >{'items': {'qty': 18, 'product': 'Heineken'}, 'customer': 'Satyen'}</td>\n",
              "    </tr>\n",
              "    <tr>\n",
              "      <td id=\"T_67689_row2_col0\" class=\"data row2 col0\" >3</td>\n",
              "      <td id=\"T_67689_row2_col1\" class=\"data row2 col1\" >{'items': {'qty': 24, 'product': 'Carlsberg'}, 'customer': 'Rekha'}</td>\n",
              "    </tr>\n",
              "    <tr>\n",
              "      <td id=\"T_67689_row3_col0\" class=\"data row3 col0\" >4</td>\n",
              "      <td id=\"T_67689_row3_col1\" class=\"data row3 col1\" >{'items': {'qty': 12, 'product': 'Kalyani'}, 'customer': 'Madhuri'}</td>\n",
              "    </tr>\n",
              "    <tr>\n",
              "      <td id=\"T_67689_row4_col0\" class=\"data row4 col0\" >5</td>\n",
              "      <td id=\"T_67689_row4_col1\" class=\"data row4 col1\" >{'items': {'qty': 12, 'product': 'Kingfisher Strong'}, 'customer': 'Srinivas'}</td>\n",
              "    </tr>\n",
              "    <tr>\n",
              "      <td id=\"T_67689_row5_col0\" class=\"data row5 col0\" >6</td>\n",
              "      <td id=\"T_67689_row5_col1\" class=\"data row5 col1\" >{'items': [{'qty': 6, 'product': 'Bira91'}, {'qty': 6, 'product': 'Kalyani'}], 'customer': 'Saina'}</td>\n",
              "    </tr>\n",
              "  </tbody>\n",
              "</table>\n"
            ]
          },
          "metadata": {},
          "execution_count": 16
        }
      ]
    },
    {
      "cell_type": "markdown",
      "source": [
        "# Access Data"
      ],
      "metadata": {
        "id": "hZscFeNNB1ja"
      }
    },
    {
      "cell_type": "code",
      "source": [
        "#!psql -h localhost -p 5432 -Upostgres -dpraxisdb -c \"select * from dept;\"\n",
        "cmd = \"select * from js.orders;\"\n",
        "!psql -h localhost -p 5432 -Uupraxis -ddbpraxis -c \"$cmd\""
      ],
      "metadata": {
        "colab": {
          "base_uri": "https://localhost:8080/"
        },
        "id": "HyBUhbAI2PV1",
        "outputId": "e31c4af9-65f4-4949-f437-5be0e1e60368"
      },
      "execution_count": 17,
      "outputs": [
        {
          "output_type": "stream",
          "name": "stdout",
          "text": [
            " id |                                                info                                                 \n",
            "----+-----------------------------------------------------------------------------------------------------\n",
            "  1 | {\"items\": {\"qty\": 6, \"product\": \"Heineken\"}, \"customer\": \"Kapil\"}\n",
            "  2 | {\"items\": {\"qty\": 18, \"product\": \"Heineken\"}, \"customer\": \"Satyen\"}\n",
            "  3 | {\"items\": {\"qty\": 24, \"product\": \"Carlsberg\"}, \"customer\": \"Rekha\"}\n",
            "  4 | {\"items\": {\"qty\": 12, \"product\": \"Kalyani\"}, \"customer\": \"Madhuri\"}\n",
            "  5 | {\"items\": {\"qty\": 12, \"product\": \"Kingfisher Strong\"}, \"customer\": \"Srinivas\"}\n",
            "  6 | {\"items\": [{\"qty\": 6, \"product\": \"Bira91\"}, {\"qty\": 6, \"product\": \"Kalyani\"}], \"customer\": \"Saina\"}\n",
            "(6 rows)\n",
            "\n"
          ]
        }
      ]
    },
    {
      "cell_type": "markdown",
      "source": [
        "## Where conditions"
      ],
      "metadata": {
        "id": "HzullIHsPzSN"
      }
    },
    {
      "cell_type": "code",
      "source": [
        "cmd = \"SELECT info ->> 'customer' AS customer FROM js.orders WHERE info -> 'items' ->> 'product' = 'Heineken'; \"\n",
        "#print(cmd)\n",
        "!psql -h localhost -p 5432 -Uupraxis -ddbpraxis -c \"$cmd\""
      ],
      "metadata": {
        "colab": {
          "base_uri": "https://localhost:8080/"
        },
        "id": "XSPFFq4OHRc7",
        "outputId": "7f3bbb54-1fb1-4b4c-f4c3-30d983be3d41"
      },
      "execution_count": 18,
      "outputs": [
        {
          "output_type": "stream",
          "name": "stdout",
          "text": [
            " customer \n",
            "----------\n",
            " Kapil\n",
            " Satyen\n",
            "(2 rows)\n",
            "\n"
          ]
        }
      ]
    },
    {
      "cell_type": "code",
      "source": [
        "# ERROR\n",
        "\n",
        "cmd = \"SELECT info ->> 'customer' AS customer FROM js.orders WHERE info -> 'items' ->> 'product' = 'Kalyani'; \"\n",
        "#print(cmd)\n",
        "!psql -h localhost -p 5432 -Uupraxis -ddbpraxis -c \"$cmd\""
      ],
      "metadata": {
        "colab": {
          "base_uri": "https://localhost:8080/"
        },
        "id": "g5uW53rMBixo",
        "outputId": "61152119-be0a-49a3-c032-f3689f060f3d"
      },
      "execution_count": 19,
      "outputs": [
        {
          "output_type": "stream",
          "name": "stdout",
          "text": [
            " customer \n",
            "----------\n",
            " Madhuri\n",
            "(1 row)\n",
            "\n"
          ]
        }
      ]
    },
    {
      "cell_type": "code",
      "source": [
        "# ERROR CORRECTED\n",
        "\n",
        "cmd = \"\"\"SELECT id, info ->> 'customer' AS customer \\\n",
        "FROM   js.orders \\\n",
        "WHERE  info -> 'items' @? 'lax $.product ? (@ == \\\"Kalyani\\\")';\"\"\"\n",
        "print(cmd)\n",
        "#!psql -h localhost -p 5432 -Uupraxis -ddbpraxis -c \"\"\"$cmd\"\"\"\n",
        "runSelect(cmd)"
      ],
      "metadata": {
        "id": "i7b6xVsTtS4y",
        "outputId": "0dd4ac80-bf2a-4d52-b34c-fbb32e524da7",
        "colab": {
          "base_uri": "https://localhost:8080/",
          "height": 129
        }
      },
      "execution_count": 20,
      "outputs": [
        {
          "output_type": "stream",
          "name": "stdout",
          "text": [
            "SELECT id, info ->> 'customer' AS customer FROM   js.orders WHERE  info -> 'items' @? 'lax $.product ? (@ == \"Kalyani\")';\n"
          ]
        },
        {
          "output_type": "execute_result",
          "data": {
            "text/plain": [
              "<pandas.io.formats.style.Styler at 0x7dfc3fafb8e0>"
            ],
            "text/html": [
              "<style type=\"text/css\">\n",
              "</style>\n",
              "<table id=\"T_42465\" class=\"dataframe\">\n",
              "  <thead>\n",
              "    <tr>\n",
              "      <th id=\"T_42465_level0_col0\" class=\"col_heading level0 col0\" >id</th>\n",
              "      <th id=\"T_42465_level0_col1\" class=\"col_heading level0 col1\" >customer</th>\n",
              "    </tr>\n",
              "  </thead>\n",
              "  <tbody>\n",
              "    <tr>\n",
              "      <td id=\"T_42465_row0_col0\" class=\"data row0 col0\" >4</td>\n",
              "      <td id=\"T_42465_row0_col1\" class=\"data row0 col1\" >Madhuri</td>\n",
              "    </tr>\n",
              "    <tr>\n",
              "      <td id=\"T_42465_row1_col0\" class=\"data row1 col0\" >6</td>\n",
              "      <td id=\"T_42465_row1_col1\" class=\"data row1 col1\" >Saina</td>\n",
              "    </tr>\n",
              "  </tbody>\n",
              "</table>\n"
            ]
          },
          "metadata": {},
          "execution_count": 20
        }
      ]
    },
    {
      "cell_type": "code",
      "source": [
        "# https://stackoverflow.com/questions/77772487/where-condition-to-filter-json-data-in-nested-object-or-array/\n",
        "\n",
        "!psql -h localhost -p 5432 -Uupraxis -ddbpraxis -c \"\"\"\\\n",
        "SELECT id, info ->> 'customer' AS customer \\\n",
        "FROM   js.orders \\\n",
        "WHERE  info -> 'items' @? '$.product ? (@ == \\\"Kalyani\\\")';\\\n",
        "\"\"\"\n"
      ],
      "metadata": {
        "id": "8BngDQGfycK1",
        "outputId": "a53be4e8-faa0-455a-d15c-a1840c59136c",
        "colab": {
          "base_uri": "https://localhost:8080/"
        }
      },
      "execution_count": 21,
      "outputs": [
        {
          "output_type": "stream",
          "name": "stdout",
          "text": [
            " id | customer \n",
            "----+----------\n",
            "  4 | Madhuri\n",
            "  6 | Saina\n",
            "(2 rows)\n",
            "\n"
          ]
        }
      ]
    },
    {
      "cell_type": "markdown",
      "source": [
        "# Enter MONGO DB"
      ],
      "metadata": {
        "id": "UODPnGWiQCac"
      }
    },
    {
      "cell_type": "markdown",
      "source": [
        "## Install Mongo"
      ],
      "metadata": {
        "id": "iuBN_vkMQXOq"
      }
    },
    {
      "cell_type": "code",
      "source": [
        "# Updated Install Sequence for MongoDB\n",
        "# https://www.mongodb.com/docs/manual/tutorial/install-mongodb-on-ubuntu/\n",
        "# Note Ubuntu versio 'jammy'\n",
        "!curl -fsSL https://pgp.mongodb.com/server-6.0.asc | \\\n",
        "   sudo gpg -o /usr/share/keyrings/mongodb-server-6.0.gpg \\\n",
        "   --dearmor\n",
        "# -----------------------\n",
        "# Note reference to jammy\n",
        "!echo \"deb [ arch=amd64,arm64 signed-by=/usr/share/keyrings/mongodb-server-6.0.gpg ] https://repo.mongodb.org/apt/ubuntu jammy/mongodb-org/6.0 multiverse\" | sudo tee /etc/apt/sources.list.d/mongodb-org-6.0.list\n",
        "# -----------------------\n",
        "!sudo apt-get update > /dev/null\n",
        "!sudo apt-get install -y mongodb-org > /dev/null              # ignore error and warning messages"
      ],
      "metadata": {
        "id": "y6_SuSP2QaoI",
        "outputId": "bde0c3e6-d15d-4585-c396-e7a3f2952396",
        "colab": {
          "base_uri": "https://localhost:8080/"
        }
      },
      "execution_count": 22,
      "outputs": [
        {
          "output_type": "stream",
          "name": "stdout",
          "text": [
            "deb [ arch=amd64,arm64 signed-by=/usr/share/keyrings/mongodb-server-6.0.gpg ] https://repo.mongodb.org/apt/ubuntu jammy/mongodb-org/6.0 multiverse\n",
            "debconf: unable to initialize frontend: Dialog\n",
            "debconf: (No usable dialog-like program is installed, so the dialog based frontend cannot be used. at /usr/share/perl5/Debconf/FrontEnd/Dialog.pm line 78, <> line 9.)\n",
            "debconf: falling back to frontend: Readline\n",
            "debconf: unable to initialize frontend: Readline\n",
            "debconf: (This frontend requires a controlling tty.)\n",
            "debconf: falling back to frontend: Teletype\n",
            "dpkg-preconfigure: unable to re-open stdin: \n"
          ]
        }
      ]
    },
    {
      "cell_type": "code",
      "source": [
        "#!sudo service mongodb start --- this should work but does not\n",
        "# -----------------------\n",
        "# https://unix.stackexchange.com/questions/715119/system-v-init-service-cant-recongnise-mongod\n",
        "!sudo mkdir -p /var/log/mongodb /var/lib/mongodb\n",
        "!sudo chown `whoami` /var/lib/mongodb /var/log/mongodb/\n",
        "# -----------------------\n",
        "# Manually start MongoDB in background mode, to free up the terminal\n",
        "!nohup mongod --config /etc/mongod.conf &\n",
        "!mongod --version"
      ],
      "metadata": {
        "id": "3xlIXXBVQr3v",
        "outputId": "675e34ef-f926-48a8-e36c-3852f9975a67",
        "colab": {
          "base_uri": "https://localhost:8080/"
        }
      },
      "execution_count": 23,
      "outputs": [
        {
          "output_type": "stream",
          "name": "stdout",
          "text": [
            "nohup: appending output to 'nohup.out'\n",
            "db version v6.0.14\n",
            "Build Info: {\n",
            "    \"version\": \"6.0.14\",\n",
            "    \"gitVersion\": \"25225db95574916fecab3af75b184409f8713aef\",\n",
            "    \"openSSLVersion\": \"OpenSSL 3.0.2 15 Mar 2022\",\n",
            "    \"modules\": [],\n",
            "    \"allocator\": \"tcmalloc\",\n",
            "    \"environment\": {\n",
            "        \"distmod\": \"ubuntu2204\",\n",
            "        \"distarch\": \"x86_64\",\n",
            "        \"target_arch\": \"x86_64\"\n",
            "    }\n",
            "}\n"
          ]
        }
      ]
    },
    {
      "cell_type": "code",
      "source": [
        "!pip -qq install pymongo\n",
        "from pymongo import MongoClient\n",
        "mongoURI = \"mongodb://localhost:27017/\"\n",
        "client = MongoClient(mongoURI)\n",
        "client.list_database_names() # should show ['admin', 'config', 'local']"
      ],
      "metadata": {
        "id": "v-DnpBuyQ03P",
        "outputId": "de836b50-c848-4a7a-d96f-bbdcf1f5f12d",
        "colab": {
          "base_uri": "https://localhost:8080/"
        }
      },
      "execution_count": 24,
      "outputs": [
        {
          "output_type": "stream",
          "name": "stdout",
          "text": [
            "\u001b[2K     \u001b[90m━━━━━━━━━━━━━━━━━━━━━━━━━━━━━━━━━━━━━━━━\u001b[0m \u001b[32m677.2/677.2 kB\u001b[0m \u001b[31m6.5 MB/s\u001b[0m eta \u001b[36m0:00:00\u001b[0m\n",
            "\u001b[2K     \u001b[90m━━━━━━━━━━━━━━━━━━━━━━━━━━━━━━━━━━━━━━━━\u001b[0m \u001b[32m307.7/307.7 kB\u001b[0m \u001b[31m9.8 MB/s\u001b[0m eta \u001b[36m0:00:00\u001b[0m\n",
            "\u001b[?25h"
          ]
        },
        {
          "output_type": "execute_result",
          "data": {
            "text/plain": [
              "['admin', 'config', 'local']"
            ]
          },
          "metadata": {},
          "execution_count": 24
        }
      ]
    },
    {
      "cell_type": "markdown",
      "source": [
        "## Create Database obhjects"
      ],
      "metadata": {
        "id": "DnpyfcnLRJ8_"
      }
    },
    {
      "cell_type": "code",
      "source": [
        "# Delete a database\n",
        "client.drop_database('PraxisDB')\n",
        "# Create a new collection. We can create the collection or leave to MongoDB to create it as soon as a document is generated.\n",
        "db = client.PraxisDB\n",
        "db.create_collection('BeerBuyers')       # Optional collection creation\n",
        "# Show Collections. Query returns a Cursor [ ] ,  list it to see the content\n",
        "list (db.list_collections())\n",
        "# empty list '[]' means that there are not collections in database"
      ],
      "metadata": {
        "id": "-8kOFTMERMzw",
        "outputId": "96e0b9da-74a2-403b-94cc-afe8a36bc1d6",
        "colab": {
          "base_uri": "https://localhost:8080/"
        }
      },
      "execution_count": 25,
      "outputs": [
        {
          "output_type": "execute_result",
          "data": {
            "text/plain": [
              "[{'name': 'BeerBuyers',\n",
              "  'type': 'collection',\n",
              "  'options': {},\n",
              "  'info': {'readOnly': False,\n",
              "   'uuid': Binary(b'@\\xb8\\x86\\xeb\\xe1S@W\\x88W\\x18w\\xd9U\\xber', 4)},\n",
              "  'idIndex': {'v': 2, 'key': {'_id': 1}, 'name': '_id_'}}]"
            ]
          },
          "metadata": {},
          "execution_count": 25
        }
      ]
    },
    {
      "cell_type": "markdown",
      "source": [
        "### Loading Data"
      ],
      "metadata": {
        "id": "3fSgNfNGSAI8"
      }
    },
    {
      "cell_type": "code",
      "source": [
        "cDoc1 =  {\"customer\": \"Kapil\", \"items\": {\"product\": \"Heineken\",\"qty\": 6}}"
      ],
      "metadata": {
        "id": "DDI3itjdSEAL"
      },
      "execution_count": 26,
      "outputs": []
    },
    {
      "cell_type": "code",
      "source": [
        "kollection = db.BeerBuyer"
      ],
      "metadata": {
        "id": "JbnLAMbsShn1"
      },
      "execution_count": 27,
      "outputs": []
    },
    {
      "cell_type": "code",
      "source": [
        "insert_result = kollection.insert_one( cDoc1)\n",
        "insert_result.acknowledged    # Confirms that insert is successful"
      ],
      "metadata": {
        "id": "l6mImmSUSxLg",
        "outputId": "64cee111-09e2-4b8a-91bd-2e026e6a86b8",
        "colab": {
          "base_uri": "https://localhost:8080/"
        }
      },
      "execution_count": 28,
      "outputs": [
        {
          "output_type": "execute_result",
          "data": {
            "text/plain": [
              "True"
            ]
          },
          "metadata": {},
          "execution_count": 28
        }
      ]
    },
    {
      "cell_type": "markdown",
      "source": [
        "### Retrieving Data"
      ],
      "metadata": {
        "id": "Og3xNevsus8N"
      }
    },
    {
      "cell_type": "code",
      "source": [
        "c = kollection.find()\n",
        "for crnt in c:\n",
        "    print(crnt)"
      ],
      "metadata": {
        "id": "8-Hcb99qTAfD",
        "outputId": "8055ac67-6470-4f00-e7e2-08b622946165",
        "colab": {
          "base_uri": "https://localhost:8080/"
        }
      },
      "execution_count": 29,
      "outputs": [
        {
          "output_type": "stream",
          "name": "stdout",
          "text": [
            "{'_id': ObjectId('65f392af19c5bde5504cf941'), 'customer': 'Kapil', 'items': {'product': 'Heineken', 'qty': 6}}\n"
          ]
        }
      ]
    },
    {
      "cell_type": "code",
      "source": [
        "cDoc2 =  { \"customer\": \"Satyen\", \"items\": {\"product\": \"Heineken\",\"qty\": 18}}\n",
        "cDoc3 =  { \"customer\": \"Rekha\", \"items\": {\"product\": \"Carlsberg\",\"qty\": 24}}\n",
        "cDoc4 =  { \"customer\": \"Madhuri\", \"items\": {\"product\": \"Kalyani\",\"qty\": 12}}\n",
        "cDoc5 =  { \"customer\": \"Srinivas\", \"items\": {\"product\": \"Kingfisher Strong\",\"qty\": 12}}\n",
        "cDoc6 =  { \"customer\": \"Saina\", \"items\": [{\"product\": \"Bira91\",\"qty\": 6},{\"product\": \"Kalyani\",\"qty\": 6} ]}\n",
        "\n",
        "cDocs = [cDoc2,cDoc3,cDoc4,cDoc5,cDoc6]"
      ],
      "metadata": {
        "id": "MgbZiZuoTQNg"
      },
      "execution_count": 30,
      "outputs": []
    },
    {
      "cell_type": "code",
      "source": [
        "insert_result = kollection.insert_many(cDocs)"
      ],
      "metadata": {
        "id": "vqGm2-aqfXFF"
      },
      "execution_count": 31,
      "outputs": []
    },
    {
      "cell_type": "code",
      "source": [
        "c = kollection.find()\n",
        "for crnt in c:\n",
        "    print(crnt)"
      ],
      "metadata": {
        "id": "EE1_1d_0fftv",
        "outputId": "12bde067-d502-4d25-8220-9804c3910561",
        "colab": {
          "base_uri": "https://localhost:8080/"
        }
      },
      "execution_count": 32,
      "outputs": [
        {
          "output_type": "stream",
          "name": "stdout",
          "text": [
            "{'_id': ObjectId('65f392af19c5bde5504cf941'), 'customer': 'Kapil', 'items': {'product': 'Heineken', 'qty': 6}}\n",
            "{'_id': ObjectId('65f392af19c5bde5504cf942'), 'customer': 'Satyen', 'items': {'product': 'Heineken', 'qty': 18}}\n",
            "{'_id': ObjectId('65f392af19c5bde5504cf943'), 'customer': 'Rekha', 'items': {'product': 'Carlsberg', 'qty': 24}}\n",
            "{'_id': ObjectId('65f392af19c5bde5504cf944'), 'customer': 'Madhuri', 'items': {'product': 'Kalyani', 'qty': 12}}\n",
            "{'_id': ObjectId('65f392af19c5bde5504cf945'), 'customer': 'Srinivas', 'items': {'product': 'Kingfisher Strong', 'qty': 12}}\n",
            "{'_id': ObjectId('65f392af19c5bde5504cf946'), 'customer': 'Saina', 'items': [{'product': 'Bira91', 'qty': 6}, {'product': 'Kalyani', 'qty': 6}]}\n"
          ]
        }
      ]
    },
    {
      "cell_type": "code",
      "source": [
        "c1 = kollection.find({\"items.product\":\"Kalyani\"},{\"customer\"})\n",
        "for crnt in c1:\n",
        "    print(crnt)"
      ],
      "metadata": {
        "id": "BqTdV61aszvc",
        "outputId": "d1c72102-9f97-4bbb-d7d5-378ea1b0ced6",
        "colab": {
          "base_uri": "https://localhost:8080/"
        }
      },
      "execution_count": 33,
      "outputs": [
        {
          "output_type": "stream",
          "name": "stdout",
          "text": [
            "{'_id': ObjectId('65f392af19c5bde5504cf944'), 'customer': 'Madhuri'}\n",
            "{'_id': ObjectId('65f392af19c5bde5504cf946'), 'customer': 'Saina'}\n"
          ]
        }
      ]
    },
    {
      "cell_type": "code",
      "source": [
        "c1 = kollection.find({\"items.product\":\"Kalyani\"},{\"_id\":0,\"customer\":1})\n",
        "for crnt in c1:\n",
        "    print(crnt)"
      ],
      "metadata": {
        "id": "Y-XY0KFyti36",
        "outputId": "b12cb774-b4c0-4988-903b-52fcb513d79a",
        "colab": {
          "base_uri": "https://localhost:8080/"
        }
      },
      "execution_count": 34,
      "outputs": [
        {
          "output_type": "stream",
          "name": "stdout",
          "text": [
            "{'customer': 'Madhuri'}\n",
            "{'customer': 'Saina'}\n"
          ]
        }
      ]
    },
    {
      "cell_type": "code",
      "source": [
        "c1 = kollection.find({\"items.product\":\"Kalyani\"},{\"_id\":0,\"customer\":1,\"items\":1})\n",
        "for crnt in c1:\n",
        "    print(crnt)"
      ],
      "metadata": {
        "id": "QpJ6miGVjbmB",
        "outputId": "b3ab6335-7d69-4751-fc8e-eb96d65121bb",
        "colab": {
          "base_uri": "https://localhost:8080/"
        }
      },
      "execution_count": 35,
      "outputs": [
        {
          "output_type": "stream",
          "name": "stdout",
          "text": [
            "{'customer': 'Madhuri', 'items': {'product': 'Kalyani', 'qty': 12}}\n",
            "{'customer': 'Saina', 'items': [{'product': 'Bira91', 'qty': 6}, {'product': 'Kalyani', 'qty': 6}]}\n"
          ]
        }
      ]
    },
    {
      "cell_type": "code",
      "source": [
        "c1 = kollection.find(\n",
        "    {\"items.product\":\"Kalyani\",\n",
        "     \"items.qty\":{\"$lt\":10}},\n",
        "    {\"_id\":0,\"customer\":1,\"items\":1})\n",
        "for crnt in c1:\n",
        "    print(crnt)"
      ],
      "metadata": {
        "id": "xkatoJ_4t8Fo",
        "outputId": "c3cc919c-6ab0-4971-a53d-cc178cce330a",
        "colab": {
          "base_uri": "https://localhost:8080/"
        }
      },
      "execution_count": 36,
      "outputs": [
        {
          "output_type": "stream",
          "name": "stdout",
          "text": [
            "{'customer': 'Saina', 'items': [{'product': 'Bira91', 'qty': 6}, {'product': 'Kalyani', 'qty': 6}]}\n"
          ]
        }
      ]
    },
    {
      "cell_type": "code",
      "source": [
        "c1 = kollection.find(\n",
        "    {\"items.product\":\"Kalyani\",\n",
        "     \"items.qty\":{\"$gt\":10}},\n",
        "    {\"_id\":0,\"customer\":1,\"items\":1})\n",
        "for crnt in c1:\n",
        "    print(crnt)"
      ],
      "metadata": {
        "id": "jOhHOXt2ucZM",
        "outputId": "5312f7c6-8ba8-4b11-d192-bfb17052d609",
        "colab": {
          "base_uri": "https://localhost:8080/"
        }
      },
      "execution_count": 37,
      "outputs": [
        {
          "output_type": "stream",
          "name": "stdout",
          "text": [
            "{'customer': 'Madhuri', 'items': {'product': 'Kalyani', 'qty': 12}}\n"
          ]
        }
      ]
    },
    {
      "cell_type": "markdown",
      "source": [
        "#Chronobooks <br>\n",
        "Two science fiction novels by Prithwis Mukerjee. A dystopian Earth. A technocratic society managed by artificial intelligence. Escape and epiphany on Mars. Can man and machine, carbon and silicon explore and escape into other dimensions of existence? An Indic perspective rooted in Advaita Vedanta and the Divine Feminine.  [More information](http://bit.ly/chronobooks) <br>\n",
        "![alt text](https://github.com/Praxis-QR/RDWH/raw/main/images/CTCYFooter-1.png)"
      ],
      "metadata": {
        "id": "_gNiZpyW3AzJ"
      }
    }
  ]
}