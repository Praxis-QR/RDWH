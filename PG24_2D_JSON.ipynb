{
  "nbformat": 4,
  "nbformat_minor": 0,
  "metadata": {
    "colab": {
      "provenance": [],
      "toc_visible": true,
      "include_colab_link": true
    },
    "kernelspec": {
      "name": "python3",
      "display_name": "Python 3"
    },
    "language_info": {
      "name": "python"
    }
  },
  "cells": [
    {
      "cell_type": "markdown",
      "metadata": {
        "id": "view-in-github",
        "colab_type": "text"
      },
      "source": [
        "<a href=\"https://colab.research.google.com/github/Praxis-QR/RDWH/blob/main/PG24_2D_JSON.ipynb\" target=\"_parent\"><img src=\"https://colab.research.google.com/assets/colab-badge.svg\" alt=\"Open In Colab\"/></a>"
      ]
    },
    {
      "cell_type": "markdown",
      "source": [
        "![alt text](https://github.com/Praxis-QR/RDWH/raw/main/images/YantraJaalBanner.png)<br>\n",
        "\n",
        "\n",
        "<hr>\n",
        "\n",
        "[Prithwis Mukerjee](http://www.linkedin.com/in/prithwis)<br>"
      ],
      "metadata": {
        "id": "DBzz-qaN2tKu"
      }
    },
    {
      "cell_type": "markdown",
      "source": [
        "#JSON - Java Script Oriented Notation\n",
        "[What is JSON?](https://developers.squarespace.com/what-is-json) JSON, or JavaScript Object Notation, is a minimal, readable format for structuring data. It was originally intended to transmit data ( or documents)  between a server and web application, as an alternative to XML. But is now used to store documents in a searchable database."
      ],
      "metadata": {
        "id": "LEr-ZpISbtuR"
      }
    },
    {
      "cell_type": "code",
      "source": [
        "from datetime import datetime\n",
        "import pytz\n",
        "print('ॐ श्री सरस्वत्यै नमः',datetime.now(pytz.timezone('Asia/Calcutta')))\n",
        "!python --version\n",
        "!lsb_release -a"
      ],
      "metadata": {
        "colab": {
          "base_uri": "https://localhost:8080/"
        },
        "id": "8vKcykeMtdAc",
        "outputId": "8db476eb-9bdc-4271-fec0-c79e91a85d94"
      },
      "execution_count": 1,
      "outputs": [
        {
          "output_type": "stream",
          "name": "stdout",
          "text": [
            "ॐ श्री सरस्वत्यै नमः 2025-02-27 07:58:47.278158+05:30\n",
            "Python 3.11.11\n",
            "No LSB modules are available.\n",
            "Distributor ID:\tUbuntu\n",
            "Description:\tUbuntu 22.04.4 LTS\n",
            "Release:\t22.04\n",
            "Codename:\tjammy\n"
          ]
        }
      ]
    },
    {
      "cell_type": "markdown",
      "source": [
        "#Install, Configure Local Database"
      ],
      "metadata": {
        "id": "nD-QawLT6kDr"
      }
    },
    {
      "cell_type": "code",
      "source": [
        "# Install postgresql server\n",
        "\n",
        "!apt update > /dev/null\n",
        "!apt install postgresql > /dev/null\n",
        "#!pip install psycopg2\n",
        "import psycopg2\n",
        "import pandas as pd\n",
        "pd.set_option('display.max_colwidth', 500)\n",
        "#!sudo -u postgres psql -V\n",
        "!psql -V\n",
        "!service postgresql start"
      ],
      "metadata": {
        "colab": {
          "base_uri": "https://localhost:8080/"
        },
        "id": "o_RaqE0OOHP3",
        "outputId": "1a2c6da7-69b8-4d95-d373-b8d2e69fcaaa"
      },
      "execution_count": 2,
      "outputs": [
        {
          "output_type": "stream",
          "name": "stdout",
          "text": [
            "\n",
            "WARNING: apt does not have a stable CLI interface. Use with caution in scripts.\n",
            "\n",
            "W: Skipping acquire of configured file 'main/source/Sources' as repository 'https://r2u.stat.illinois.edu/ubuntu jammy InRelease' does not seem to provide it (sources.list entry misspelt?)\n",
            "\n",
            "WARNING: apt does not have a stable CLI interface. Use with caution in scripts.\n",
            "\n",
            "psql (PostgreSQL) 14.15 (Ubuntu 14.15-0ubuntu0.22.04.1)\n",
            " * Starting PostgreSQL 14 database server\n",
            "   ...done.\n"
          ]
        }
      ]
    },
    {
      "cell_type": "markdown",
      "source": [
        "## Local Configuration"
      ],
      "metadata": {
        "id": "--pn1fPO6ndu"
      }
    },
    {
      "cell_type": "code",
      "source": [
        "# This has created an Ubuntu user 'postgres' AND a Postgres database user 'postgres' both of which are superusers\n",
        "#!cat /etc/passwd\n",
        "# Use these users to create a new database user called 'upraxis' and give it a password 'upass'\n",
        "#!sudo -u postgres createuser --superuser upraxis\n",
        "!sudo -u postgres createuser upraxis\n",
        "!sudo -u postgres psql -U postgres -c \"ALTER USER upraxis PASSWORD 'upass';\"\n",
        "# Change the database superuser 'postgres' to a non-default value 'pass'\n",
        "!sudo -u postgres psql -U postgres -c \"ALTER USER postgres PASSWORD 'pass';\"\n",
        "# Use ubuntu superuser to create database dbpraxis and set its owner to upraxis\n",
        "!sudo -u postgres createdb -O upraxis dbpraxis\n",
        "# Create file to store the password. Else will be prompted each time\n",
        "#!echo \"localhost:5432:praxisdb:postgres:pass\" > ~/.pgpass\n",
        "!echo \"localhost:5432:dbpraxis:upraxis:upass\" > ~/.pgpass\n",
        "!echo \"localhost:5432:dbpraxis:postgres:pass\" >> ~/.pgpass\n",
        "!chmod 0600 ~/.pgpass\n",
        "!cat ~/.pgpass\n"
      ],
      "metadata": {
        "colab": {
          "base_uri": "https://localhost:8080/"
        },
        "id": "xr5kHaY_U4CZ",
        "outputId": "5d9c21f5-78ad-4891-f9c1-375b7e94e359"
      },
      "execution_count": 3,
      "outputs": [
        {
          "output_type": "stream",
          "name": "stdout",
          "text": [
            "ALTER ROLE\n",
            "ALTER ROLE\n",
            "localhost:5432:dbpraxis:upraxis:upass\n",
            "localhost:5432:dbpraxis:postgres:pass\n"
          ]
        }
      ]
    },
    {
      "cell_type": "code",
      "source": [
        "# Local Colab server\n",
        "\n",
        "conn = psycopg2.connect(database=\"dbpraxis\", user='upraxis', password='upass', host='127.0.0.1', port= '5432')\n",
        "#Creating a cursor object using the cursor() method\n",
        "cursor = conn.cursor()\n",
        "#Executing an MYSQL function using the execute() method\n",
        "cursor.execute(\"select version()\")\n",
        "# Fetch a single row using fetchone() method.\n",
        "data = cursor.fetchone()\n",
        "print(\"Connection established to: \",data)\n",
        "#Closing the connection\n",
        "conn.close()"
      ],
      "metadata": {
        "colab": {
          "base_uri": "https://localhost:8080/"
        },
        "id": "HPGLhVCx3kFz",
        "outputId": "b6cff619-7eb5-4c95-dc52-c50486b6786d"
      },
      "execution_count": 4,
      "outputs": [
        {
          "output_type": "stream",
          "name": "stdout",
          "text": [
            "Connection established to:  ('PostgreSQL 14.15 (Ubuntu 14.15-0ubuntu0.22.04.1) on x86_64-pc-linux-gnu, compiled by gcc (Ubuntu 11.4.0-1ubuntu1~22.04) 11.4.0, 64-bit',)\n"
          ]
        }
      ]
    },
    {
      "cell_type": "code",
      "source": [
        "def runSelect(s):\n",
        "    #Set up connection\n",
        "\n",
        "    conn = psycopg2.connect(database=\"dbpraxis\", user='upraxis', password='upass', host='127.0.0.1', port= '5432')\n",
        "    #Setting auto commit true\n",
        "    conn.autocommit = True\n",
        "    #Creating a cursor object using the cursor() method\n",
        "    cursor = conn.cursor()\n",
        "    #Retrieving data\n",
        "    cursor.execute(s)\n",
        "    #Fetching all rows from the table\n",
        "    result = cursor.fetchall();\n",
        "    #print(len(result))\n",
        "    if (len(result)) > 0:                                       # result contains at least one row\n",
        "        colnames = [desc[0] for desc in cursor.description]     # get column names\n",
        "        #print(colnames)\n",
        "        resultdf = pd.DataFrame(result)                         # convert list to dataframe\n",
        "        resultdf.columns = colnames                             # add column names\n",
        "        #return resultdf\n",
        "        return resultdf.style.hide()                            # hide the index\n",
        "    else:\n",
        "        print('no records found')\n",
        "        return\n",
        "# function to execute SQL non-select statements with Postgres\n",
        "#\n",
        "def runCmd(s):\n",
        "    #Create Connection\n",
        "    conn = psycopg2.connect(database=\"dbpraxis\", user='upraxis', password='upass', host='127.0.0.1', port= '5432')\n",
        "    #Creating a cursor object using the cursor() method\n",
        "    cursor = conn.cursor()\n",
        "    try:\n",
        "        cursor.execute(s)\n",
        "        print('Command executed')\n",
        "        conn.commit()\n",
        "    except:\n",
        "        print('Command failed')\n",
        "    #Closing the connection\n",
        "    conn.close()"
      ],
      "metadata": {
        "id": "JPWZ3Q1Y3x66"
      },
      "execution_count": 5,
      "outputs": []
    },
    {
      "cell_type": "markdown",
      "source": [
        "#Local Database"
      ],
      "metadata": {
        "id": "pHTdNzrU6qUE"
      }
    },
    {
      "cell_type": "markdown",
      "source": [
        "## Create Tables"
      ],
      "metadata": {
        "id": "uo61Cp0oaPHL"
      }
    },
    {
      "cell_type": "code",
      "source": [
        "!psql -h localhost -p 5432 -Uupraxis -d dbpraxis -c 'drop schema if exists js cascade'\n",
        "!psql -h localhost -p 5432 -Uupraxis -d dbpraxis -c 'create schema if not exists js'\n",
        "!psql -h localhost -p 5432 -Uupraxis -d dbpraxis -c '\\dn+'\n",
        "!psql -h localhost -p 5432 -Uupraxis -d dbpraxis -c 'drop table if exists js.orders'\n",
        "!psql -h localhost -p 5432 -Uupraxis -ddbpraxis -c '\\\n",
        "CREATE TABLE js.orders ( \\\n",
        "\tid serial NOT NULL PRIMARY KEY, \\\n",
        "\tinfo jsonb NOT NULL \\\n",
        ");'\n",
        "\n",
        "#Describe the table ss_order\n",
        "!psql -h localhost -p 5432 -Uupraxis -ddbpraxis -c '\\d+ js.orders'"
      ],
      "metadata": {
        "colab": {
          "base_uri": "https://localhost:8080/"
        },
        "id": "DsUZ9JlEXIir",
        "outputId": "bb0db306-8802-43cc-93c9-96bf7454e587"
      },
      "execution_count": 6,
      "outputs": [
        {
          "output_type": "stream",
          "name": "stdout",
          "text": [
            "NOTICE:  schema \"js\" does not exist, skipping\n",
            "DROP SCHEMA\n",
            "CREATE SCHEMA\n",
            "                          List of schemas\n",
            "  Name  |  Owner   |  Access privileges   |      Description       \n",
            "--------+----------+----------------------+------------------------\n",
            " js     | upraxis  |                      | \n",
            " public | postgres | postgres=UC/postgres+| standard public schema\n",
            "        |          | =UC/postgres         | \n",
            "(2 rows)\n",
            "\n",
            "NOTICE:  table \"orders\" does not exist, skipping\n",
            "DROP TABLE\n",
            "CREATE TABLE\n",
            "                                                           Table \"js.orders\"\n",
            " Column |  Type   | Collation | Nullable |                Default                | Storage  | Compression | Stats target | Description \n",
            "--------+---------+-----------+----------+---------------------------------------+----------+-------------+--------------+-------------\n",
            " id     | integer |           | not null | nextval('js.orders_id_seq'::regclass) | plain    |             |              | \n",
            " info   | jsonb   |           | not null |                                       | extended |             |              | \n",
            "Indexes:\n",
            "    \"orders_pkey\" PRIMARY KEY, btree (id)\n",
            "Access method: heap\n",
            "\n"
          ]
        }
      ]
    },
    {
      "cell_type": "markdown",
      "source": [
        "## Load Data - Insert Option"
      ],
      "metadata": {
        "id": "9_OLx3qk_7qR"
      }
    },
    {
      "cell_type": "code",
      "source": [
        "cmd = \"\"\"INSERT INTO js.orders (info) VALUES('{ \"customer\": \"Kapil Dev\", \"items\": {\"product\": \"Heineken\",\"qty\": 6}}');\"\"\"\n",
        "#print(cmd)\n",
        "runCmd(cmd)\n",
        "runSelect('select * from js.orders')"
      ],
      "metadata": {
        "colab": {
          "base_uri": "https://localhost:8080/",
          "height": 98
        },
        "id": "3D-ExkhJgi6R",
        "outputId": "d7a90655-12e2-41cc-9041-02b55734aca7"
      },
      "execution_count": 7,
      "outputs": [
        {
          "output_type": "stream",
          "name": "stdout",
          "text": [
            "Command executed\n"
          ]
        },
        {
          "output_type": "execute_result",
          "data": {
            "text/plain": [
              "<pandas.io.formats.style.Styler at 0x7f4c0074c410>"
            ],
            "text/html": [
              "<style type=\"text/css\">\n",
              "</style>\n",
              "<table id=\"T_e237b\" class=\"dataframe\">\n",
              "  <thead>\n",
              "    <tr>\n",
              "      <th id=\"T_e237b_level0_col0\" class=\"col_heading level0 col0\" >id</th>\n",
              "      <th id=\"T_e237b_level0_col1\" class=\"col_heading level0 col1\" >info</th>\n",
              "    </tr>\n",
              "  </thead>\n",
              "  <tbody>\n",
              "    <tr>\n",
              "      <td id=\"T_e237b_row0_col0\" class=\"data row0 col0\" >1</td>\n",
              "      <td id=\"T_e237b_row0_col1\" class=\"data row0 col1\" >{'items': {'qty': 6, 'product': 'Heineken'}, 'customer': 'Kapil Dev'}</td>\n",
              "    </tr>\n",
              "  </tbody>\n",
              "</table>\n"
            ]
          },
          "metadata": {},
          "execution_count": 7
        }
      ]
    },
    {
      "cell_type": "code",
      "source": [
        "cmd = \"\"\"INSERT INTO js.orders (info) \\\n",
        "VALUES('{ \"customer\": \"Rekha Ganesan\", \"items\": {\"product\": \"Carlsberg\",\"qty\": 24}}'), \\\n",
        "      ('{ \"customer\": \"Madhuri Dikshit\", \"items\": {\"product\": \"Kalyani\",\"qty\": 12}}'), \\\n",
        "      ('{ \"customer\": \"Farokh Engineer\", \"items\": {\"product\": \"Kalyani Black\",\"qty\": 12}}'); \\\n",
        "\"\"\"\n",
        "#print(cmd)\n",
        "runCmd(cmd)\n",
        "runSelect('select * from js.orders')"
      ],
      "metadata": {
        "colab": {
          "base_uri": "https://localhost:8080/",
          "height": 192
        },
        "id": "-8nyu7XsjhXW",
        "outputId": "5440973c-2a98-4959-da3a-353d1134b824"
      },
      "execution_count": 8,
      "outputs": [
        {
          "output_type": "stream",
          "name": "stdout",
          "text": [
            "Command executed\n"
          ]
        },
        {
          "output_type": "execute_result",
          "data": {
            "text/plain": [
              "<pandas.io.formats.style.Styler at 0x7f4be5d66850>"
            ],
            "text/html": [
              "<style type=\"text/css\">\n",
              "</style>\n",
              "<table id=\"T_97310\" class=\"dataframe\">\n",
              "  <thead>\n",
              "    <tr>\n",
              "      <th id=\"T_97310_level0_col0\" class=\"col_heading level0 col0\" >id</th>\n",
              "      <th id=\"T_97310_level0_col1\" class=\"col_heading level0 col1\" >info</th>\n",
              "    </tr>\n",
              "  </thead>\n",
              "  <tbody>\n",
              "    <tr>\n",
              "      <td id=\"T_97310_row0_col0\" class=\"data row0 col0\" >1</td>\n",
              "      <td id=\"T_97310_row0_col1\" class=\"data row0 col1\" >{'items': {'qty': 6, 'product': 'Heineken'}, 'customer': 'Kapil Dev'}</td>\n",
              "    </tr>\n",
              "    <tr>\n",
              "      <td id=\"T_97310_row1_col0\" class=\"data row1 col0\" >2</td>\n",
              "      <td id=\"T_97310_row1_col1\" class=\"data row1 col1\" >{'items': {'qty': 24, 'product': 'Carlsberg'}, 'customer': 'Rekha Ganesan'}</td>\n",
              "    </tr>\n",
              "    <tr>\n",
              "      <td id=\"T_97310_row2_col0\" class=\"data row2 col0\" >3</td>\n",
              "      <td id=\"T_97310_row2_col1\" class=\"data row2 col1\" >{'items': {'qty': 12, 'product': 'Kalyani'}, 'customer': 'Madhuri Dikshit'}</td>\n",
              "    </tr>\n",
              "    <tr>\n",
              "      <td id=\"T_97310_row3_col0\" class=\"data row3 col0\" >4</td>\n",
              "      <td id=\"T_97310_row3_col1\" class=\"data row3 col1\" >{'items': {'qty': 12, 'product': 'Kalyani Black'}, 'customer': 'Farokh Engineer'}</td>\n",
              "    </tr>\n",
              "  </tbody>\n",
              "</table>\n"
            ]
          },
          "metadata": {},
          "execution_count": 8
        }
      ]
    },
    {
      "cell_type": "code",
      "source": [
        "cmd = \"\"\"\\\n",
        "INSERT INTO js.orders (info) \\\n",
        "VALUES('{   \"customer\": \"Saina Nehwal\", \\\n",
        "            \"items\": [\\\n",
        "                {\"product\": \"Bira91\",\"qty\": 6}, \\\n",
        "                {\"product\": \"Kingfisher Light\",\"qty\": 6} \\\n",
        "            ] \\\n",
        "        }');\\\n",
        "\"\"\"\n",
        "#print(cmd)\n",
        "runCmd(cmd)\n",
        "runSelect('select * from js.orders')"
      ],
      "metadata": {
        "colab": {
          "base_uri": "https://localhost:8080/",
          "height": 224
        },
        "id": "0L9VSMnApDm3",
        "outputId": "555f1ddc-af5a-44da-e69e-c7282f3a9ee6"
      },
      "execution_count": 9,
      "outputs": [
        {
          "output_type": "stream",
          "name": "stdout",
          "text": [
            "Command executed\n"
          ]
        },
        {
          "output_type": "execute_result",
          "data": {
            "text/plain": [
              "<pandas.io.formats.style.Styler at 0x7f4be5dfcc10>"
            ],
            "text/html": [
              "<style type=\"text/css\">\n",
              "</style>\n",
              "<table id=\"T_7ea83\" class=\"dataframe\">\n",
              "  <thead>\n",
              "    <tr>\n",
              "      <th id=\"T_7ea83_level0_col0\" class=\"col_heading level0 col0\" >id</th>\n",
              "      <th id=\"T_7ea83_level0_col1\" class=\"col_heading level0 col1\" >info</th>\n",
              "    </tr>\n",
              "  </thead>\n",
              "  <tbody>\n",
              "    <tr>\n",
              "      <td id=\"T_7ea83_row0_col0\" class=\"data row0 col0\" >1</td>\n",
              "      <td id=\"T_7ea83_row0_col1\" class=\"data row0 col1\" >{'items': {'qty': 6, 'product': 'Heineken'}, 'customer': 'Kapil Dev'}</td>\n",
              "    </tr>\n",
              "    <tr>\n",
              "      <td id=\"T_7ea83_row1_col0\" class=\"data row1 col0\" >2</td>\n",
              "      <td id=\"T_7ea83_row1_col1\" class=\"data row1 col1\" >{'items': {'qty': 24, 'product': 'Carlsberg'}, 'customer': 'Rekha Ganesan'}</td>\n",
              "    </tr>\n",
              "    <tr>\n",
              "      <td id=\"T_7ea83_row2_col0\" class=\"data row2 col0\" >3</td>\n",
              "      <td id=\"T_7ea83_row2_col1\" class=\"data row2 col1\" >{'items': {'qty': 12, 'product': 'Kalyani'}, 'customer': 'Madhuri Dikshit'}</td>\n",
              "    </tr>\n",
              "    <tr>\n",
              "      <td id=\"T_7ea83_row3_col0\" class=\"data row3 col0\" >4</td>\n",
              "      <td id=\"T_7ea83_row3_col1\" class=\"data row3 col1\" >{'items': {'qty': 12, 'product': 'Kalyani Black'}, 'customer': 'Farokh Engineer'}</td>\n",
              "    </tr>\n",
              "    <tr>\n",
              "      <td id=\"T_7ea83_row4_col0\" class=\"data row4 col0\" >5</td>\n",
              "      <td id=\"T_7ea83_row4_col1\" class=\"data row4 col1\" >{'items': [{'qty': 6, 'product': 'Bira91'}, {'qty': 6, 'product': 'Kingfisher Light'}], 'customer': 'Saina Nehwal'}</td>\n",
              "    </tr>\n",
              "  </tbody>\n",
              "</table>\n"
            ]
          },
          "metadata": {},
          "execution_count": 9
        }
      ]
    },
    {
      "cell_type": "markdown",
      "source": [
        "## Load Data - Copy Option"
      ],
      "metadata": {
        "id": "5m94A6FmACUd"
      }
    },
    {
      "cell_type": "code",
      "source": [
        "%%writefile data.json\n",
        "{ \"customer\": \"Kapil Dev\", \"items\": {\"product\": \"Heineken\",\"qty\": 6}}\n",
        "{ \"customer\": \"Rekha Ganesan\", \"items\": {\"product\": \"Carlsberg\",\"qty\": 24}}\n",
        "{ \"customer\": \"Madhuri Dikshit\", \"items\": {\"product\": \"Kalyani\",\"qty\": 12}}\n",
        "{ \"customer\": \"Farokh Engineer\", \"items\": {\"product\": \"Kalyani Black\",\"qty\": 12}}"
      ],
      "metadata": {
        "colab": {
          "base_uri": "https://localhost:8080/"
        },
        "id": "-x331d2p7QJA",
        "outputId": "585e19a8-6b19-4a13-8f23-71cd05f98bfd"
      },
      "execution_count": 10,
      "outputs": [
        {
          "output_type": "stream",
          "name": "stdout",
          "text": [
            "Writing data.json\n"
          ]
        }
      ]
    },
    {
      "cell_type": "code",
      "source": [
        "#!cat data.json"
      ],
      "metadata": {
        "id": "9Ui5FZtE7W0X"
      },
      "execution_count": 11,
      "outputs": []
    },
    {
      "cell_type": "code",
      "source": [
        "# Only superuser ('postgres') can use copy command, not even database owner ('upraxis')\n",
        "# 'postgres' password has to be entered manually\n",
        "#\n",
        "!psql -h localhost -p 5432 -Upostgres -ddbpraxis -c \"truncate js.orders ;\"\n",
        "!psql -h localhost -p 5432 -Upostgres -ddbpraxis -c \"COPY js.orders(info) FROM '/content/data.json' ;\"\n",
        "#!psql -h localhost -p 5432 -Upostgres -ddbpraxis -c \"COPY empl FROM '/content/emp.csv' DELIMITER ',' CSV HEADER;\""
      ],
      "metadata": {
        "id": "tkt8-kUhAgzA",
        "outputId": "2d88b479-dd56-4639-fdda-304645ec2f0d",
        "colab": {
          "base_uri": "https://localhost:8080/"
        }
      },
      "execution_count": 12,
      "outputs": [
        {
          "output_type": "stream",
          "name": "stdout",
          "text": [
            "TRUNCATE TABLE\n",
            "COPY 4\n"
          ]
        }
      ]
    },
    {
      "cell_type": "code",
      "source": [
        "# Data deleted by serial number NOT reset\n",
        "runSelect('select * from js.orders')"
      ],
      "metadata": {
        "colab": {
          "base_uri": "https://localhost:8080/",
          "height": 175
        },
        "id": "1JOkxOYB8rR7",
        "outputId": "420c9bba-1337-4b21-ed5b-2994cf1decb9"
      },
      "execution_count": 13,
      "outputs": [
        {
          "output_type": "execute_result",
          "data": {
            "text/plain": [
              "<pandas.io.formats.style.Styler at 0x7f4be5e0f710>"
            ],
            "text/html": [
              "<style type=\"text/css\">\n",
              "</style>\n",
              "<table id=\"T_cebaa\" class=\"dataframe\">\n",
              "  <thead>\n",
              "    <tr>\n",
              "      <th id=\"T_cebaa_level0_col0\" class=\"col_heading level0 col0\" >id</th>\n",
              "      <th id=\"T_cebaa_level0_col1\" class=\"col_heading level0 col1\" >info</th>\n",
              "    </tr>\n",
              "  </thead>\n",
              "  <tbody>\n",
              "    <tr>\n",
              "      <td id=\"T_cebaa_row0_col0\" class=\"data row0 col0\" >6</td>\n",
              "      <td id=\"T_cebaa_row0_col1\" class=\"data row0 col1\" >{'items': {'qty': 6, 'product': 'Heineken'}, 'customer': 'Kapil Dev'}</td>\n",
              "    </tr>\n",
              "    <tr>\n",
              "      <td id=\"T_cebaa_row1_col0\" class=\"data row1 col0\" >7</td>\n",
              "      <td id=\"T_cebaa_row1_col1\" class=\"data row1 col1\" >{'items': {'qty': 24, 'product': 'Carlsberg'}, 'customer': 'Rekha Ganesan'}</td>\n",
              "    </tr>\n",
              "    <tr>\n",
              "      <td id=\"T_cebaa_row2_col0\" class=\"data row2 col0\" >8</td>\n",
              "      <td id=\"T_cebaa_row2_col1\" class=\"data row2 col1\" >{'items': {'qty': 12, 'product': 'Kalyani'}, 'customer': 'Madhuri Dikshit'}</td>\n",
              "    </tr>\n",
              "    <tr>\n",
              "      <td id=\"T_cebaa_row3_col0\" class=\"data row3 col0\" >9</td>\n",
              "      <td id=\"T_cebaa_row3_col1\" class=\"data row3 col1\" >{'items': {'qty': 12, 'product': 'Kalyani Black'}, 'customer': 'Farokh Engineer'}</td>\n",
              "    </tr>\n",
              "  </tbody>\n",
              "</table>\n"
            ]
          },
          "metadata": {},
          "execution_count": 13
        }
      ]
    },
    {
      "cell_type": "code",
      "source": [
        "%%writefile data.json\n",
        "{ \"customer\": \"Kapil\", \"items\": {\"product\": \"Heineken\",\"qty\": 6}}\n",
        "{ \"customer\": \"Satyen\", \"items\": {\"product\": \"Heineken\",\"qty\": 18}}\n",
        "{ \"customer\": \"Rekha\", \"items\": {\"product\": \"Carlsberg\",\"qty\": 24}}\n",
        "{ \"customer\": \"Madhuri\", \"items\": {\"product\": \"Kalyani\",\"qty\": 12}}\n",
        "{ \"customer\": \"Srinivas\", \"items\": {\"product\": \"Kingfisher Strong\",\"qty\": 12}}\n",
        "{ \"customer\": \"Saina\", \"items\": [{\"product\": \"Bira91\",\"qty\": 6},{\"product\": \"Kalyani\",\"qty\": 6} ]}"
      ],
      "metadata": {
        "colab": {
          "base_uri": "https://localhost:8080/"
        },
        "id": "UYdw6qYP9HBw",
        "outputId": "32fb1242-071f-470a-c10a-1dc3f968b171"
      },
      "execution_count": 14,
      "outputs": [
        {
          "output_type": "stream",
          "name": "stdout",
          "text": [
            "Overwriting data.json\n"
          ]
        }
      ]
    },
    {
      "cell_type": "code",
      "source": [
        "# Only superuser ('postgres') can use copy command, not even database owner ('upraxis')\n",
        "# 'postgres' password has to be entered manually\n",
        "#\n",
        "!psql -h localhost -p 5432 -Upostgres -ddbpraxis -c \"truncate js.orders restart identity;\"\n",
        "!psql -h localhost -p 5432 -Upostgres -ddbpraxis -c \"COPY js.orders(info) FROM '/content/data.json' ;\"\n",
        "#!psql -h localhost -p 5432 -Upostgres -ddbpraxis -c \"COPY empl FROM '/content/emp.csv' DELIMITER ',' CSV HEADER;\""
      ],
      "metadata": {
        "colab": {
          "base_uri": "https://localhost:8080/"
        },
        "id": "-cJbIdvZ9hUa",
        "outputId": "ae38d885-14b4-4ae4-dd3d-5feebc1df527"
      },
      "execution_count": 15,
      "outputs": [
        {
          "output_type": "stream",
          "name": "stdout",
          "text": [
            "TRUNCATE TABLE\n",
            "COPY 6\n"
          ]
        }
      ]
    },
    {
      "cell_type": "code",
      "source": [
        "runSelect('select * from js.orders')"
      ],
      "metadata": {
        "colab": {
          "base_uri": "https://localhost:8080/",
          "height": 238
        },
        "id": "Wer761om9oQ_",
        "outputId": "64cd7606-a7fb-43ba-8b76-508a17e0c5f8"
      },
      "execution_count": 16,
      "outputs": [
        {
          "output_type": "execute_result",
          "data": {
            "text/plain": [
              "<pandas.io.formats.style.Styler at 0x7f4be5d7fd90>"
            ],
            "text/html": [
              "<style type=\"text/css\">\n",
              "</style>\n",
              "<table id=\"T_7a185\" class=\"dataframe\">\n",
              "  <thead>\n",
              "    <tr>\n",
              "      <th id=\"T_7a185_level0_col0\" class=\"col_heading level0 col0\" >id</th>\n",
              "      <th id=\"T_7a185_level0_col1\" class=\"col_heading level0 col1\" >info</th>\n",
              "    </tr>\n",
              "  </thead>\n",
              "  <tbody>\n",
              "    <tr>\n",
              "      <td id=\"T_7a185_row0_col0\" class=\"data row0 col0\" >1</td>\n",
              "      <td id=\"T_7a185_row0_col1\" class=\"data row0 col1\" >{'items': {'qty': 6, 'product': 'Heineken'}, 'customer': 'Kapil'}</td>\n",
              "    </tr>\n",
              "    <tr>\n",
              "      <td id=\"T_7a185_row1_col0\" class=\"data row1 col0\" >2</td>\n",
              "      <td id=\"T_7a185_row1_col1\" class=\"data row1 col1\" >{'items': {'qty': 18, 'product': 'Heineken'}, 'customer': 'Satyen'}</td>\n",
              "    </tr>\n",
              "    <tr>\n",
              "      <td id=\"T_7a185_row2_col0\" class=\"data row2 col0\" >3</td>\n",
              "      <td id=\"T_7a185_row2_col1\" class=\"data row2 col1\" >{'items': {'qty': 24, 'product': 'Carlsberg'}, 'customer': 'Rekha'}</td>\n",
              "    </tr>\n",
              "    <tr>\n",
              "      <td id=\"T_7a185_row3_col0\" class=\"data row3 col0\" >4</td>\n",
              "      <td id=\"T_7a185_row3_col1\" class=\"data row3 col1\" >{'items': {'qty': 12, 'product': 'Kalyani'}, 'customer': 'Madhuri'}</td>\n",
              "    </tr>\n",
              "    <tr>\n",
              "      <td id=\"T_7a185_row4_col0\" class=\"data row4 col0\" >5</td>\n",
              "      <td id=\"T_7a185_row4_col1\" class=\"data row4 col1\" >{'items': {'qty': 12, 'product': 'Kingfisher Strong'}, 'customer': 'Srinivas'}</td>\n",
              "    </tr>\n",
              "    <tr>\n",
              "      <td id=\"T_7a185_row5_col0\" class=\"data row5 col0\" >6</td>\n",
              "      <td id=\"T_7a185_row5_col1\" class=\"data row5 col1\" >{'items': [{'qty': 6, 'product': 'Bira91'}, {'qty': 6, 'product': 'Kalyani'}], 'customer': 'Saina'}</td>\n",
              "    </tr>\n",
              "  </tbody>\n",
              "</table>\n"
            ]
          },
          "metadata": {},
          "execution_count": 16
        }
      ]
    },
    {
      "cell_type": "markdown",
      "source": [
        "# Access Data"
      ],
      "metadata": {
        "id": "hZscFeNNB1ja"
      }
    },
    {
      "cell_type": "code",
      "source": [
        "#!psql -h localhost -p 5432 -Upostgres -dpraxisdb -c \"select * from dept;\"\n",
        "cmd = \"select * from js.orders;\"\n",
        "!psql -h localhost -p 5432 -Uupraxis -ddbpraxis -c \"$cmd\""
      ],
      "metadata": {
        "colab": {
          "base_uri": "https://localhost:8080/"
        },
        "id": "HyBUhbAI2PV1",
        "outputId": "18fa2f64-6775-442d-a105-0420f16d0947"
      },
      "execution_count": 17,
      "outputs": [
        {
          "output_type": "stream",
          "name": "stdout",
          "text": [
            " id |                                                info                                                 \n",
            "----+-----------------------------------------------------------------------------------------------------\n",
            "  1 | {\"items\": {\"qty\": 6, \"product\": \"Heineken\"}, \"customer\": \"Kapil\"}\n",
            "  2 | {\"items\": {\"qty\": 18, \"product\": \"Heineken\"}, \"customer\": \"Satyen\"}\n",
            "  3 | {\"items\": {\"qty\": 24, \"product\": \"Carlsberg\"}, \"customer\": \"Rekha\"}\n",
            "  4 | {\"items\": {\"qty\": 12, \"product\": \"Kalyani\"}, \"customer\": \"Madhuri\"}\n",
            "  5 | {\"items\": {\"qty\": 12, \"product\": \"Kingfisher Strong\"}, \"customer\": \"Srinivas\"}\n",
            "  6 | {\"items\": [{\"qty\": 6, \"product\": \"Bira91\"}, {\"qty\": 6, \"product\": \"Kalyani\"}], \"customer\": \"Saina\"}\n",
            "(6 rows)\n",
            "\n"
          ]
        }
      ]
    },
    {
      "cell_type": "markdown",
      "source": [
        "## Where conditions"
      ],
      "metadata": {
        "id": "HzullIHsPzSN"
      }
    },
    {
      "cell_type": "code",
      "source": [
        "cmd = \"SELECT info ->> 'customer' AS customer FROM js.orders WHERE info -> 'items' ->> 'product' = 'Heineken'; \"\n",
        "#print(cmd)\n",
        "!psql -h localhost -p 5432 -Uupraxis -ddbpraxis -c \"$cmd\""
      ],
      "metadata": {
        "colab": {
          "base_uri": "https://localhost:8080/"
        },
        "id": "XSPFFq4OHRc7",
        "outputId": "21ee1dd4-8c17-49ed-a4df-9898927b79b3"
      },
      "execution_count": 18,
      "outputs": [
        {
          "output_type": "stream",
          "name": "stdout",
          "text": [
            " customer \n",
            "----------\n",
            " Kapil\n",
            " Satyen\n",
            "(2 rows)\n",
            "\n"
          ]
        }
      ]
    },
    {
      "cell_type": "code",
      "source": [
        "# ERROR\n",
        "\n",
        "cmd = \"SELECT info ->> 'customer' AS customer FROM js.orders WHERE info -> 'items' ->> 'product' = 'Kalyani'; \"\n",
        "#print(cmd)\n",
        "!psql -h localhost -p 5432 -Uupraxis -ddbpraxis -c \"$cmd\""
      ],
      "metadata": {
        "colab": {
          "base_uri": "https://localhost:8080/"
        },
        "id": "g5uW53rMBixo",
        "outputId": "153f47df-d338-454d-98b2-0389a454aa19"
      },
      "execution_count": 19,
      "outputs": [
        {
          "output_type": "stream",
          "name": "stdout",
          "text": [
            " customer \n",
            "----------\n",
            " Madhuri\n",
            "(1 row)\n",
            "\n"
          ]
        }
      ]
    },
    {
      "cell_type": "code",
      "source": [
        "# ERROR CORRECTED\n",
        "\n",
        "cmd = \"\"\"SELECT id, info ->> 'customer' AS customer \\\n",
        "FROM   js.orders \\\n",
        "WHERE  info -> 'items' @? 'lax $.product ? (@ == \\\"Kalyani\\\")';\"\"\"\n",
        "print(cmd)\n",
        "#!psql -h localhost -p 5432 -Uupraxis -ddbpraxis -c \"\"\"$cmd\"\"\"\n",
        "runSelect(cmd)"
      ],
      "metadata": {
        "id": "i7b6xVsTtS4y",
        "outputId": "dc6696d7-5b9d-4d9a-9f05-d15b633b73af",
        "colab": {
          "base_uri": "https://localhost:8080/",
          "height": 129
        }
      },
      "execution_count": 20,
      "outputs": [
        {
          "output_type": "stream",
          "name": "stdout",
          "text": [
            "SELECT id, info ->> 'customer' AS customer FROM   js.orders WHERE  info -> 'items' @? 'lax $.product ? (@ == \"Kalyani\")';\n"
          ]
        },
        {
          "output_type": "execute_result",
          "data": {
            "text/plain": [
              "<pandas.io.formats.style.Styler at 0x7f4be5dbf310>"
            ],
            "text/html": [
              "<style type=\"text/css\">\n",
              "</style>\n",
              "<table id=\"T_1891b\" class=\"dataframe\">\n",
              "  <thead>\n",
              "    <tr>\n",
              "      <th id=\"T_1891b_level0_col0\" class=\"col_heading level0 col0\" >id</th>\n",
              "      <th id=\"T_1891b_level0_col1\" class=\"col_heading level0 col1\" >customer</th>\n",
              "    </tr>\n",
              "  </thead>\n",
              "  <tbody>\n",
              "    <tr>\n",
              "      <td id=\"T_1891b_row0_col0\" class=\"data row0 col0\" >4</td>\n",
              "      <td id=\"T_1891b_row0_col1\" class=\"data row0 col1\" >Madhuri</td>\n",
              "    </tr>\n",
              "    <tr>\n",
              "      <td id=\"T_1891b_row1_col0\" class=\"data row1 col0\" >6</td>\n",
              "      <td id=\"T_1891b_row1_col1\" class=\"data row1 col1\" >Saina</td>\n",
              "    </tr>\n",
              "  </tbody>\n",
              "</table>\n"
            ]
          },
          "metadata": {},
          "execution_count": 20
        }
      ]
    },
    {
      "cell_type": "code",
      "source": [
        "# https://stackoverflow.com/questions/77772487/where-condition-to-filter-json-data-in-nested-object-or-array/\n",
        "\n",
        "!psql -h localhost -p 5432 -Uupraxis -ddbpraxis -c \"\"\"\\\n",
        "SELECT id, info ->> 'customer' AS customer \\\n",
        "FROM   js.orders \\\n",
        "WHERE  info -> 'items' @? '$.product ? (@ == \\\"Kalyani\\\")';\\\n",
        "\"\"\"\n"
      ],
      "metadata": {
        "id": "8BngDQGfycK1",
        "outputId": "3ce916a3-8e07-4e1e-f033-e0b89032a432",
        "colab": {
          "base_uri": "https://localhost:8080/"
        }
      },
      "execution_count": 21,
      "outputs": [
        {
          "output_type": "stream",
          "name": "stdout",
          "text": [
            " id | customer \n",
            "----+----------\n",
            "  4 | Madhuri\n",
            "  6 | Saina\n",
            "(2 rows)\n",
            "\n"
          ]
        }
      ]
    },
    {
      "cell_type": "markdown",
      "source": [
        "# Enter MONGO DB"
      ],
      "metadata": {
        "id": "UODPnGWiQCac"
      }
    },
    {
      "cell_type": "markdown",
      "source": [
        "## Install Mongo"
      ],
      "metadata": {
        "id": "iuBN_vkMQXOq"
      }
    },
    {
      "cell_type": "code",
      "source": [
        "# Updated Install Sequence for MongoDB\n",
        "# https://www.mongodb.com/docs/manual/tutorial/install-mongodb-on-ubuntu/\n",
        "# Note Ubuntu versio 'jammy'\n",
        "!curl -fsSL https://pgp.mongodb.com/server-6.0.asc | \\\n",
        "   sudo gpg -o /usr/share/keyrings/mongodb-server-6.0.gpg \\\n",
        "   --dearmor\n",
        "# -----------------------\n",
        "# Note reference to jammy\n",
        "!echo \"deb [ arch=amd64,arm64 signed-by=/usr/share/keyrings/mongodb-server-6.0.gpg ] https://repo.mongodb.org/apt/ubuntu jammy/mongodb-org/6.0 multiverse\" | sudo tee /etc/apt/sources.list.d/mongodb-org-6.0.list\n",
        "# -----------------------\n",
        "!sudo apt-get update > /dev/null\n",
        "!sudo apt-get install -y mongodb-org > /dev/null              # ignore error and warning messages"
      ],
      "metadata": {
        "id": "y6_SuSP2QaoI",
        "outputId": "d43dd047-85e5-45ca-e6f9-c35f500b82f7",
        "colab": {
          "base_uri": "https://localhost:8080/"
        }
      },
      "execution_count": 22,
      "outputs": [
        {
          "output_type": "stream",
          "name": "stdout",
          "text": [
            "deb [ arch=amd64,arm64 signed-by=/usr/share/keyrings/mongodb-server-6.0.gpg ] https://repo.mongodb.org/apt/ubuntu jammy/mongodb-org/6.0 multiverse\n",
            "W: Skipping acquire of configured file 'main/source/Sources' as repository 'https://r2u.stat.illinois.edu/ubuntu jammy InRelease' does not seem to provide it (sources.list entry misspelt?)\n",
            "debconf: unable to initialize frontend: Dialog\n",
            "debconf: (No usable dialog-like program is installed, so the dialog based frontend cannot be used. at /usr/share/perl5/Debconf/FrontEnd/Dialog.pm line 78, <> line 9.)\n",
            "debconf: falling back to frontend: Readline\n",
            "debconf: unable to initialize frontend: Readline\n",
            "debconf: (This frontend requires a controlling tty.)\n",
            "debconf: falling back to frontend: Teletype\n",
            "dpkg-preconfigure: unable to re-open stdin: \n"
          ]
        }
      ]
    },
    {
      "cell_type": "code",
      "source": [
        "#!sudo service mongodb start --- this should work but does not\n",
        "# -----------------------\n",
        "# https://unix.stackexchange.com/questions/715119/system-v-init-service-cant-recongnise-mongod\n",
        "!sudo mkdir -p /var/log/mongodb /var/lib/mongodb\n",
        "!sudo chown `whoami` /var/lib/mongodb /var/log/mongodb/\n",
        "# -----------------------\n",
        "# Manually start MongoDB in background mode, to free up the terminal\n",
        "!nohup mongod --config /etc/mongod.conf &\n",
        "!mongod --version"
      ],
      "metadata": {
        "id": "3xlIXXBVQr3v",
        "outputId": "2acf6f70-419e-4a6e-8ac3-6c70a4292f4e",
        "colab": {
          "base_uri": "https://localhost:8080/"
        }
      },
      "execution_count": 23,
      "outputs": [
        {
          "output_type": "stream",
          "name": "stdout",
          "text": [
            "nohup: appending output to 'nohup.out'\n",
            "db version v6.0.20\n",
            "Build Info: {\n",
            "    \"version\": \"6.0.20\",\n",
            "    \"gitVersion\": \"ef4efd469fb0c5626c629c4f0f21398c9b5dd08f\",\n",
            "    \"openSSLVersion\": \"OpenSSL 3.0.2 15 Mar 2022\",\n",
            "    \"modules\": [],\n",
            "    \"allocator\": \"tcmalloc\",\n",
            "    \"environment\": {\n",
            "        \"distmod\": \"ubuntu2204\",\n",
            "        \"distarch\": \"x86_64\",\n",
            "        \"target_arch\": \"x86_64\"\n",
            "    }\n",
            "}\n"
          ]
        }
      ]
    },
    {
      "cell_type": "code",
      "source": [
        "!pip -qq install pymongo\n",
        "from pymongo import MongoClient\n",
        "mongoURI = \"mongodb://localhost:27017/\"\n",
        "client = MongoClient(mongoURI)\n",
        "client.list_database_names() # should show ['admin', 'config', 'local']"
      ],
      "metadata": {
        "id": "v-DnpBuyQ03P",
        "outputId": "1395b6c3-7478-4f53-a013-c6c837c786e9",
        "colab": {
          "base_uri": "https://localhost:8080/"
        }
      },
      "execution_count": 24,
      "outputs": [
        {
          "output_type": "stream",
          "name": "stdout",
          "text": [
            "\u001b[?25l   \u001b[90m━━━━━━━━━━━━━━━━━━━━━━━━━━━━━━━━━━━━━━━━\u001b[0m \u001b[32m0.0/1.4 MB\u001b[0m \u001b[31m?\u001b[0m eta \u001b[36m-:--:--\u001b[0m\r\u001b[2K   \u001b[91m━━━━━━━━━━━━━━━━━━━━━━━━━━━━━━━━━━━━━━\u001b[0m\u001b[91m╸\u001b[0m\u001b[90m━\u001b[0m \u001b[32m1.4/1.4 MB\u001b[0m \u001b[31m41.1 MB/s\u001b[0m eta \u001b[36m0:00:01\u001b[0m\r\u001b[2K   \u001b[90m━━━━━━━━━━━━━━━━━━━━━━━━━━━━━━━━━━━━━━━━\u001b[0m \u001b[32m1.4/1.4 MB\u001b[0m \u001b[31m27.3 MB/s\u001b[0m eta \u001b[36m0:00:00\u001b[0m\n",
            "\u001b[?25h\u001b[?25l   \u001b[90m━━━━━━━━━━━━━━━━━━━━━━━━━━━━━━━━━━━━━━━━\u001b[0m \u001b[32m0.0/313.6 kB\u001b[0m \u001b[31m?\u001b[0m eta \u001b[36m-:--:--\u001b[0m\r\u001b[2K   \u001b[90m━━━━━━━━━━━━━━━━━━━━━━━━━━━━━━━━━━━━━━━━\u001b[0m \u001b[32m313.6/313.6 kB\u001b[0m \u001b[31m24.2 MB/s\u001b[0m eta \u001b[36m0:00:00\u001b[0m\n",
            "\u001b[?25h"
          ]
        },
        {
          "output_type": "execute_result",
          "data": {
            "text/plain": [
              "['admin', 'config', 'local']"
            ]
          },
          "metadata": {},
          "execution_count": 24
        }
      ]
    },
    {
      "cell_type": "markdown",
      "source": [
        "## Create Database obhjects"
      ],
      "metadata": {
        "id": "DnpyfcnLRJ8_"
      }
    },
    {
      "cell_type": "code",
      "source": [
        "# Delete a database\n",
        "client.drop_database('PraxisDB')\n",
        "# Create a new collection. We can create the collection or leave to MongoDB to create it as soon as a document is generated.\n",
        "db = client.PraxisDB\n",
        "db.create_collection('BeerBuyers')       # Optional collection creation\n",
        "# Show Collections. Query returns a Cursor [ ] ,  list it to see the content\n",
        "list (db.list_collections())\n",
        "# empty list '[]' means that there are not collections in database"
      ],
      "metadata": {
        "id": "-8kOFTMERMzw",
        "outputId": "1cfc5156-c247-4955-d9d2-293f596ee8f3",
        "colab": {
          "base_uri": "https://localhost:8080/"
        }
      },
      "execution_count": 25,
      "outputs": [
        {
          "output_type": "execute_result",
          "data": {
            "text/plain": [
              "[{'name': 'BeerBuyers',\n",
              "  'type': 'collection',\n",
              "  'options': {},\n",
              "  'info': {'readOnly': False,\n",
              "   'uuid': Binary(b's\\xedV\\xfd\\xbbVM \\x9a\\xfd\\xacGX\\xa4\\xa3\\xa7', 4)},\n",
              "  'idIndex': {'v': 2, 'key': {'_id': 1}, 'name': '_id_'}}]"
            ]
          },
          "metadata": {},
          "execution_count": 25
        }
      ]
    },
    {
      "cell_type": "markdown",
      "source": [
        "### Loading Data"
      ],
      "metadata": {
        "id": "3fSgNfNGSAI8"
      }
    },
    {
      "cell_type": "code",
      "source": [
        "cDoc1 =  {\"customer\": \"Kapil\", \"items\": {\"product\": \"Heineken\",\"qty\": 6}}"
      ],
      "metadata": {
        "id": "DDI3itjdSEAL"
      },
      "execution_count": 26,
      "outputs": []
    },
    {
      "cell_type": "code",
      "source": [
        "kollection = db.BeerBuyer"
      ],
      "metadata": {
        "id": "JbnLAMbsShn1"
      },
      "execution_count": 27,
      "outputs": []
    },
    {
      "cell_type": "code",
      "source": [
        "insert_result = kollection.insert_one( cDoc1)\n",
        "insert_result.acknowledged    # Confirms that insert is successful"
      ],
      "metadata": {
        "id": "l6mImmSUSxLg",
        "outputId": "300db092-8c3a-462f-bf8c-371dc8e916e2",
        "colab": {
          "base_uri": "https://localhost:8080/"
        }
      },
      "execution_count": 28,
      "outputs": [
        {
          "output_type": "execute_result",
          "data": {
            "text/plain": [
              "True"
            ]
          },
          "metadata": {},
          "execution_count": 28
        }
      ]
    },
    {
      "cell_type": "markdown",
      "source": [
        "### Retrieving Data"
      ],
      "metadata": {
        "id": "Og3xNevsus8N"
      }
    },
    {
      "cell_type": "code",
      "source": [
        "c = kollection.find()\n",
        "for crnt in c:\n",
        "    print(crnt)"
      ],
      "metadata": {
        "id": "8-Hcb99qTAfD",
        "outputId": "f6379509-d674-41b3-975d-31fbeb7e92ce",
        "colab": {
          "base_uri": "https://localhost:8080/"
        }
      },
      "execution_count": 29,
      "outputs": [
        {
          "output_type": "stream",
          "name": "stdout",
          "text": [
            "{'_id': ObjectId('67bfce350107a097bb743413'), 'customer': 'Kapil', 'items': {'product': 'Heineken', 'qty': 6}}\n"
          ]
        }
      ]
    },
    {
      "cell_type": "code",
      "source": [
        "cDoc2 =  { \"customer\": \"Satyen\", \"items\": {\"product\": \"Heineken\",\"qty\": 18}}\n",
        "cDoc3 =  { \"customer\": \"Rekha\", \"items\": {\"product\": \"Carlsberg\",\"qty\": 24}}\n",
        "cDoc4 =  { \"customer\": \"Madhuri\", \"items\": {\"product\": \"Kalyani\",\"qty\": 12}}\n",
        "cDoc5 =  { \"customer\": \"Srinivas\", \"items\": {\"product\": \"Kingfisher Strong\",\"qty\": 12}}\n",
        "cDoc6 =  { \"customer\": \"Saina\", \"items\": [{\"product\": \"Bira91\",\"qty\": 6},{\"product\": \"Kalyani\",\"qty\": 6} ]}\n",
        "\n",
        "cDocs = [cDoc2,cDoc3,cDoc4,cDoc5,cDoc6]"
      ],
      "metadata": {
        "id": "MgbZiZuoTQNg"
      },
      "execution_count": 30,
      "outputs": []
    },
    {
      "cell_type": "code",
      "source": [
        "insert_result = kollection.insert_many(cDocs)"
      ],
      "metadata": {
        "id": "vqGm2-aqfXFF"
      },
      "execution_count": 31,
      "outputs": []
    },
    {
      "cell_type": "code",
      "source": [
        "c = kollection.find()\n",
        "for crnt in c:\n",
        "    print(crnt)"
      ],
      "metadata": {
        "id": "EE1_1d_0fftv",
        "outputId": "e54b4d13-3f20-4411-a68c-0f9be9245466",
        "colab": {
          "base_uri": "https://localhost:8080/"
        }
      },
      "execution_count": 32,
      "outputs": [
        {
          "output_type": "stream",
          "name": "stdout",
          "text": [
            "{'_id': ObjectId('67bfce350107a097bb743413'), 'customer': 'Kapil', 'items': {'product': 'Heineken', 'qty': 6}}\n",
            "{'_id': ObjectId('67bfce350107a097bb743414'), 'customer': 'Satyen', 'items': {'product': 'Heineken', 'qty': 18}}\n",
            "{'_id': ObjectId('67bfce350107a097bb743415'), 'customer': 'Rekha', 'items': {'product': 'Carlsberg', 'qty': 24}}\n",
            "{'_id': ObjectId('67bfce350107a097bb743416'), 'customer': 'Madhuri', 'items': {'product': 'Kalyani', 'qty': 12}}\n",
            "{'_id': ObjectId('67bfce350107a097bb743417'), 'customer': 'Srinivas', 'items': {'product': 'Kingfisher Strong', 'qty': 12}}\n",
            "{'_id': ObjectId('67bfce350107a097bb743418'), 'customer': 'Saina', 'items': [{'product': 'Bira91', 'qty': 6}, {'product': 'Kalyani', 'qty': 6}]}\n"
          ]
        }
      ]
    },
    {
      "cell_type": "code",
      "source": [
        "c1 = kollection.find({\"items.product\":\"Kalyani\"},{\"customer\"})\n",
        "for crnt in c1:\n",
        "    print(crnt)"
      ],
      "metadata": {
        "id": "BqTdV61aszvc",
        "outputId": "1cc4511f-07dc-4211-937a-65469e199c8d",
        "colab": {
          "base_uri": "https://localhost:8080/"
        }
      },
      "execution_count": 33,
      "outputs": [
        {
          "output_type": "stream",
          "name": "stdout",
          "text": [
            "{'_id': ObjectId('67bfce350107a097bb743416'), 'customer': 'Madhuri'}\n",
            "{'_id': ObjectId('67bfce350107a097bb743418'), 'customer': 'Saina'}\n"
          ]
        }
      ]
    },
    {
      "cell_type": "code",
      "source": [
        "c1 = kollection.find({\"items.product\":\"Kalyani\"},{\"_id\":0,\"customer\":1})\n",
        "for crnt in c1:\n",
        "    print(crnt)"
      ],
      "metadata": {
        "id": "Y-XY0KFyti36",
        "outputId": "bbc39af2-8e9d-4386-cc16-d466295c09f9",
        "colab": {
          "base_uri": "https://localhost:8080/"
        }
      },
      "execution_count": 34,
      "outputs": [
        {
          "output_type": "stream",
          "name": "stdout",
          "text": [
            "{'customer': 'Madhuri'}\n",
            "{'customer': 'Saina'}\n"
          ]
        }
      ]
    },
    {
      "cell_type": "code",
      "source": [
        "c1 = kollection.find({\"items.product\":\"Kalyani\"},{\"_id\":0,\"customer\":1,\"items\":1})\n",
        "for crnt in c1:\n",
        "    print(crnt)"
      ],
      "metadata": {
        "id": "QpJ6miGVjbmB",
        "outputId": "172022d9-c566-46f3-e1c6-edfb34b51fef",
        "colab": {
          "base_uri": "https://localhost:8080/"
        }
      },
      "execution_count": 35,
      "outputs": [
        {
          "output_type": "stream",
          "name": "stdout",
          "text": [
            "{'customer': 'Madhuri', 'items': {'product': 'Kalyani', 'qty': 12}}\n",
            "{'customer': 'Saina', 'items': [{'product': 'Bira91', 'qty': 6}, {'product': 'Kalyani', 'qty': 6}]}\n"
          ]
        }
      ]
    },
    {
      "cell_type": "code",
      "source": [
        "c1 = kollection.find(\n",
        "    {\"items.product\":\"Kalyani\",\n",
        "     \"items.qty\":{\"$lt\":10}},\n",
        "    {\"_id\":0,\"customer\":1,\"items\":1})\n",
        "for crnt in c1:\n",
        "    print(crnt)"
      ],
      "metadata": {
        "id": "xkatoJ_4t8Fo",
        "outputId": "214bffcf-64a6-44e3-8ec7-6f8f1bccd81e",
        "colab": {
          "base_uri": "https://localhost:8080/"
        }
      },
      "execution_count": 36,
      "outputs": [
        {
          "output_type": "stream",
          "name": "stdout",
          "text": [
            "{'customer': 'Saina', 'items': [{'product': 'Bira91', 'qty': 6}, {'product': 'Kalyani', 'qty': 6}]}\n"
          ]
        }
      ]
    },
    {
      "cell_type": "code",
      "source": [
        "c1 = kollection.find(\n",
        "    {\"items.product\":\"Kalyani\",\n",
        "     \"items.qty\":{\"$gt\":10}},\n",
        "    {\"_id\":0,\"customer\":1,\"items\":1})\n",
        "for crnt in c1:\n",
        "    print(crnt)"
      ],
      "metadata": {
        "id": "jOhHOXt2ucZM",
        "outputId": "bb211331-01e7-4ae9-f37f-0a41b77c9122",
        "colab": {
          "base_uri": "https://localhost:8080/"
        }
      },
      "execution_count": 37,
      "outputs": [
        {
          "output_type": "stream",
          "name": "stdout",
          "text": [
            "{'customer': 'Madhuri', 'items': {'product': 'Kalyani', 'qty': 12}}\n"
          ]
        }
      ]
    },
    {
      "cell_type": "markdown",
      "source": [
        "#ChronoTYM <br>\n",
        "In Indic phraseology, tantra is knowledge, a yantra is a device to explore this knowledge and a mantra is the code that unlocks both the tantra and its yantra. Chrono/TYM a sci-fi trilogy that recreates this framework where the first novel Chronotantra defines the contours of a tech driven, futuristic society, the second, Chronoyantra, describes a device used to explore the genesis of this society, while the third, Chronomantra finally reveals the code, the key, that unlocks this puzzle.  [More information](http://bit.ly/chronobooks) <br>\n",
        "![alt text](https://blogger.googleusercontent.com/img/b/R29vZ2xl/AVvXsEjdu_ajYwBRzk5iFYlcs59ZoRMMg6rhNm4JERKspvFJoveJsnfwRlzMICiC37UOja_Bd4sbfLA1pyyBbe0mj3tUfDBXoqCzNUDw3Wux7acoJBaLkWjAvJXfa7drRY2GQRAlFxEY9O7a7raY4RKy7cA3Uxgf5QsaZQ99C9GfXxFSex_rke8ROhAn41t8zOqK/s1640/tymBanner01_3.png)"
      ],
      "metadata": {
        "id": "_gNiZpyW3AzJ"
      }
    }
  ]
}