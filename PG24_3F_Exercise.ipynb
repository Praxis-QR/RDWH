{
  "nbformat": 4,
  "nbformat_minor": 0,
  "metadata": {
    "colab": {
      "provenance": [],
      "toc_visible": true,
      "include_colab_link": true
    },
    "kernelspec": {
      "name": "python3",
      "display_name": "Python 3"
    },
    "language_info": {
      "name": "python"
    }
  },
  "cells": [
    {
      "cell_type": "markdown",
      "metadata": {
        "id": "view-in-github",
        "colab_type": "text"
      },
      "source": [
        "<a href=\"https://colab.research.google.com/github/Praxis-QR/RDWH/blob/main/PG24_3F_Exercise.ipynb\" target=\"_parent\"><img src=\"https://colab.research.google.com/assets/colab-badge.svg\" alt=\"Open In Colab\"/></a>"
      ]
    },
    {
      "cell_type": "markdown",
      "source": [
        "![alt text](https://github.com/Praxis-QR/RDWH/raw/main/images/YantraJaalBanner.png)<br>\n",
        "\n",
        "\n",
        "<hr>\n",
        "\n",
        "[Prithwis Mukerjee](http://www.linkedin.com/in/prithwis)<br>"
      ],
      "metadata": {
        "id": "DBzz-qaN2tKu"
      }
    },
    {
      "cell_type": "markdown",
      "source": [
        "PostgreSQL Tutorial https://www.w3resource.com/PostgreSQL/tutorial.php"
      ],
      "metadata": {
        "id": "dBJ6X0LiJtZ6"
      }
    },
    {
      "cell_type": "code",
      "source": [
        "from datetime import datetime\n",
        "import pytz\n",
        "print('ॐ श्री सरस्वत्यै नमः',datetime.now(pytz.timezone('Asia/Calcutta')))\n",
        "!python --version\n",
        "!lsb_release -a"
      ],
      "metadata": {
        "id": "Ns7helbMrXDA",
        "outputId": "3d48a88e-3580-4d60-d1ce-3a1ac3eb44b6",
        "colab": {
          "base_uri": "https://localhost:8080/"
        }
      },
      "execution_count": 1,
      "outputs": [
        {
          "output_type": "stream",
          "name": "stdout",
          "text": [
            "ॐ श्री सरस्वत्यै नमः 2024-01-16 15:25:45.601810+05:30\n",
            "Python 3.10.12\n",
            "No LSB modules are available.\n",
            "Distributor ID:\tUbuntu\n",
            "Description:\tUbuntu 22.04.3 LTS\n",
            "Release:\t22.04\n",
            "Codename:\tjammy\n"
          ]
        }
      ]
    },
    {
      "cell_type": "markdown",
      "source": [
        "#Setup"
      ],
      "metadata": {
        "id": "nD-QawLT6kDr"
      }
    },
    {
      "cell_type": "code",
      "source": [
        "# Install postgresql server\n",
        "\n",
        "!apt update > /dev/null\n",
        "!apt install postgresql > /dev/null\n",
        "#\n",
        "import psycopg2\n",
        "import pandas as pd\n",
        "#\n",
        "!psql -V\n",
        "!service postgresql start"
      ],
      "metadata": {
        "colab": {
          "base_uri": "https://localhost:8080/"
        },
        "id": "o_RaqE0OOHP3",
        "outputId": "66f7b795-303a-444e-bcb4-78b04fcc7cc6"
      },
      "execution_count": 2,
      "outputs": [
        {
          "output_type": "stream",
          "name": "stdout",
          "text": [
            "\n",
            "WARNING: apt does not have a stable CLI interface. Use with caution in scripts.\n",
            "\n",
            "\n",
            "WARNING: apt does not have a stable CLI interface. Use with caution in scripts.\n",
            "\n",
            "psql (PostgreSQL) 14.10 (Ubuntu 14.10-0ubuntu0.22.04.1)\n",
            " * Starting PostgreSQL 14 database server\n",
            "   ...done.\n"
          ]
        }
      ]
    },
    {
      "cell_type": "code",
      "source": [
        "# Installation creates an Ubuntu user 'postgres' AND a Postgres database user 'postgres' both of which are superusers\n",
        "#!cat /etc/passwd\n",
        "# Use these users to create a new database user called 'upraxis' and give it a password 'upass'\n",
        "#!sudo -u postgres createuser --superuser upraxis\n",
        "!sudo -u postgres createuser upraxis\n",
        "!sudo -u postgres psql -U postgres -c \"ALTER USER upraxis PASSWORD 'upass';\"\n",
        "# Change the database superuser 'postgres' to a non-default value 'pass'\n",
        "!sudo -u postgres psql -U postgres -c \"ALTER USER postgres PASSWORD 'pass';\"\n",
        "# Use ubuntu superuser to create database dbpraxis and set its owner to upraxis\n",
        "!sudo -u postgres createdb -O upraxis dbpraxis\n",
        "# Create file to store the password. Else will be prompted each time\n",
        "!echo \"localhost:5432:dbpraxis:postgres:pass\" > ~/.pgpass\n",
        "!echo \"localhost:5432:dbpraxis:upraxis:upass\" >> ~/.pgpass\n",
        "!chmod 0600 ~/.pgpass\n",
        "!cat ~/.pgpass\n"
      ],
      "metadata": {
        "colab": {
          "base_uri": "https://localhost:8080/"
        },
        "id": "xr5kHaY_U4CZ",
        "outputId": "1578c1c8-82e3-4218-d2a3-d7935e098efa"
      },
      "execution_count": 3,
      "outputs": [
        {
          "output_type": "stream",
          "name": "stdout",
          "text": [
            "ALTER ROLE\n",
            "ALTER ROLE\n",
            "localhost:5432:dbpraxis:postgres:pass\n",
            "localhost:5432:dbpraxis:upraxis:upass\n"
          ]
        }
      ]
    },
    {
      "cell_type": "markdown",
      "source": [
        "## Create, Load Superstore Table"
      ],
      "metadata": {
        "id": "pHTdNzrU6qUE"
      }
    },
    {
      "cell_type": "code",
      "source": [
        "# Create Fact Table using command line interface\n",
        "#\n",
        "!psql -h localhost -p 5432 -Uupraxis -d dbpraxis -c 'drop schema if exists ss cascade'\n",
        "!psql -h localhost -p 5432 -Uupraxis -d dbpraxis -c 'create schema if not exists ss'\n",
        "!psql -h localhost -p 5432 -Uupraxis -d dbpraxis -c '\\dn+'\n",
        "!psql -h localhost -p 5432 -Uupraxis -d dbpraxis -c 'drop table if exists ss.order'\n",
        "!psql -h localhost -p 5432 -Uupraxis -ddbpraxis -c \"\\\n",
        "CREATE TABLE IF NOT EXISTS ss.order (\\\n",
        "    RowID smallint,\\\n",
        "    OrderID char(14),OrderDate date,\\\n",
        "    ShipDate date,ShipMode varchar(16),\\\n",
        "    CustomerID char(8),CustomerName varchar(30),Segment varchar(20),\\\n",
        "    Country varchar(30),City varchar(30),State varchar(30),PostalCode char(5),Region varchar(15) ,\\\n",
        "    ProductID varchar(20), Category varchar(40), SubCategory varchar(40), ProductName varchar(200), \\\n",
        "    Sales decimal(8,2), Quantity smallint, Discount decimal(4,2), Profit decimal(8,2) \\\n",
        "); \\\n",
        "\"\n",
        "#Describe the table ss_order\n",
        "!psql -h localhost -p 5432 -Uupraxis -ddbpraxis -c '\\d+ ss.order'"
      ],
      "metadata": {
        "colab": {
          "base_uri": "https://localhost:8080/"
        },
        "id": "DsUZ9JlEXIir",
        "outputId": "61b7836c-16b4-4728-d437-5ea4e49792bb"
      },
      "execution_count": 4,
      "outputs": [
        {
          "output_type": "stream",
          "name": "stdout",
          "text": [
            "NOTICE:  schema \"ss\" does not exist, skipping\n",
            "DROP SCHEMA\n",
            "CREATE SCHEMA\n",
            "                          List of schemas\n",
            "  Name  |  Owner   |  Access privileges   |      Description       \n",
            "--------+----------+----------------------+------------------------\n",
            " public | postgres | postgres=UC/postgres+| standard public schema\n",
            "        |          | =UC/postgres         | \n",
            " ss     | upraxis  |                      | \n",
            "(2 rows)\n",
            "\n",
            "NOTICE:  table \"order\" does not exist, skipping\n",
            "DROP TABLE\n",
            "CREATE TABLE\n",
            "                                                       Table \"ss.order\"\n",
            "    Column    |          Type          | Collation | Nullable | Default | Storage  | Compression | Stats target | Description \n",
            "--------------+------------------------+-----------+----------+---------+----------+-------------+--------------+-------------\n",
            " rowid        | smallint               |           |          |         | plain    |             |              | \n",
            " orderid      | character(14)          |           |          |         | extended |             |              | \n",
            " orderdate    | date                   |           |          |         | plain    |             |              | \n",
            " shipdate     | date                   |           |          |         | plain    |             |              | \n",
            " shipmode     | character varying(16)  |           |          |         | extended |             |              | \n",
            " customerid   | character(8)           |           |          |         | extended |             |              | \n",
            " customername | character varying(30)  |           |          |         | extended |             |              | \n",
            " segment      | character varying(20)  |           |          |         | extended |             |              | \n",
            " country      | character varying(30)  |           |          |         | extended |             |              | \n",
            " city         | character varying(30)  |           |          |         | extended |             |              | \n",
            " state        | character varying(30)  |           |          |         | extended |             |              | \n",
            " postalcode   | character(5)           |           |          |         | extended |             |              | \n",
            " region       | character varying(15)  |           |          |         | extended |             |              | \n",
            " productid    | character varying(20)  |           |          |         | extended |             |              | \n",
            " category     | character varying(40)  |           |          |         | extended |             |              | \n",
            " subcategory  | character varying(40)  |           |          |         | extended |             |              | \n",
            " productname  | character varying(200) |           |          |         | extended |             |              | \n",
            " sales        | numeric(8,2)           |           |          |         | main     |             |              | \n",
            " quantity     | smallint               |           |          |         | plain    |             |              | \n",
            " discount     | numeric(4,2)           |           |          |         | main     |             |              | \n",
            " profit       | numeric(8,2)           |           |          |         | main     |             |              | \n",
            "Access method: heap\n",
            "\n"
          ]
        }
      ]
    },
    {
      "cell_type": "code",
      "source": [
        "#Get Data File\n",
        "!wget -q -O Orders.csv 'https://raw.githubusercontent.com/Praxis-QR/RDWH/main/data/SS_Orders.csv'\n",
        "!head Orders.csv"
      ],
      "metadata": {
        "id": "z2397zC6OUPq",
        "colab": {
          "base_uri": "https://localhost:8080/"
        },
        "outputId": "f36edefb-e250-4aa7-ab4e-29e00415c4b0"
      },
      "execution_count": 5,
      "outputs": [
        {
          "output_type": "stream",
          "name": "stdout",
          "text": [
            "Row ID,Order ID,Order Date,Ship Date,Ship Mode,Customer ID,Customer Name,Segment,Country,City,State,Postal Code,Region,Product ID,Category,Sub-Category,Product Name,Sales,Quantity,Discount,Profit\n",
            "1,CA-2016-152156,08/11/2016,11/11/2016,Second Class,CG-12520,Claire Gute,Consumer,United States,Henderson,Kentucky,42420,South,FUR-BO-10001798,Furniture,Bookcases,Bush Somerset Collection Bookcase,261.96,2,0,41.9136\n",
            "2,CA-2016-152156,08/11/2016,11/11/2016,Second Class,CG-12520,Claire Gute,Consumer,United States,Henderson,Kentucky,42420,South,FUR-CH-10000454,Furniture,Chairs,\"Hon Deluxe Fabric Upholstered Stacking Chairs, Rounded Back\",731.94,3,0,219.582\n",
            "3,CA-2016-138688,12/06/2016,16/06/2016,Second Class,DV-13045,Darrin Van Huff,Corporate,United States,Los Angeles,California,90036,West,OFF-LA-10000240,Office Supplies,Labels,Self-Adhesive Address Labels for Typewriters by Universal,14.62,2,0,6.8714\n",
            "4,US-2015-108966,11/10/2015,18/10/2015,Standard Class,SO-20335,Sean O'Donnell,Consumer,United States,Fort Lauderdale,Florida,33311,South,FUR-TA-10000577,Furniture,Tables,Bretford CR4500 Series Slim Rectangular Table,957.5775,5,0.45,-383.031\n",
            "5,US-2015-108966,11/10/2015,18/10/2015,Standard Class,SO-20335,Sean O'Donnell,Consumer,United States,Fort Lauderdale,Florida,33311,South,OFF-ST-10000760,Office Supplies,Storage,Eldon Fold 'N Roll Cart System,22.368,2,0.2,2.5164\n",
            "6,CA-2014-115812,09/06/2014,14/06/2014,Standard Class,BH-11710,Brosina Hoffman,Consumer,United States,Los Angeles,California,90032,West,FUR-FU-10001487,Furniture,Furnishings,\"Eldon Expressions Wood and Plastic Desk Accessories, Cherry Wood\",48.86,7,0,14.1694\n",
            "7,CA-2014-115812,09/06/2014,14/06/2014,Standard Class,BH-11710,Brosina Hoffman,Consumer,United States,Los Angeles,California,90032,West,OFF-AR-10002833,Office Supplies,Art,Newell 322,7.28,4,0,1.9656\n",
            "8,CA-2014-115812,09/06/2014,14/06/2014,Standard Class,BH-11710,Brosina Hoffman,Consumer,United States,Los Angeles,California,90032,West,TEC-PH-10002275,Technology,Phones,Mitel 5320 IP Phone VoIP phone,907.152,6,0.2,90.7152\n",
            "9,CA-2014-115812,09/06/2014,14/06/2014,Standard Class,BH-11710,Brosina Hoffman,Consumer,United States,Los Angeles,California,90032,West,OFF-BI-10003910,Office Supplies,Binders,DXL Angle-View Binders with Locking Rings by Samsill,18.504,3,0.2,5.7825\n"
          ]
        }
      ]
    },
    {
      "cell_type": "code",
      "source": [
        "# Date Format Issues\n",
        "!psql -h localhost -p 5432 -U upraxis -d dbpraxis -c \"set datestyle to PostgreSQL,European; show datestyle\""
      ],
      "metadata": {
        "colab": {
          "base_uri": "https://localhost:8080/"
        },
        "id": "sSxD2zVROfRJ",
        "outputId": "9f70698f-8427-4e4e-9eec-e000cf3574ae"
      },
      "execution_count": 6,
      "outputs": [
        {
          "output_type": "stream",
          "name": "stdout",
          "text": [
            "   DateStyle   \n",
            "---------------\n",
            " Postgres, DMY\n",
            "(1 row)\n",
            "\n"
          ]
        }
      ]
    },
    {
      "cell_type": "code",
      "source": [
        "# Load Data\n",
        "# Need to use U = postgres and provide password = 'pass'\n",
        "!psql -h localhost -p 5432 -U postgres -d dbpraxis -c \\\n",
        "\"set datestyle to PostgreSQL,European;copy ss.order FROM '/content/Orders.csv' DELIMITER ',' CSV HEADER;\""
      ],
      "metadata": {
        "colab": {
          "base_uri": "https://localhost:8080/"
        },
        "id": "2onLfC2NOzLq",
        "outputId": "44aeefd1-b95f-4af7-d8aa-da5dd5c9d95a"
      },
      "execution_count": 7,
      "outputs": [
        {
          "output_type": "stream",
          "name": "stdout",
          "text": [
            "COPY 9994\n"
          ]
        }
      ]
    },
    {
      "cell_type": "code",
      "source": [
        "!psql -h localhost -p 5432 -U upraxis -d dbpraxis -c 'select * from ss.order limit 10'\n",
        "#the date data should have loaded correctly"
      ],
      "metadata": {
        "colab": {
          "base_uri": "https://localhost:8080/"
        },
        "id": "AFVNvTr8QLFM",
        "outputId": "859697ee-b46e-4824-bf1d-a7a8a9662c4b"
      },
      "execution_count": 8,
      "outputs": [
        {
          "output_type": "stream",
          "name": "stdout",
          "text": [
            " rowid |    orderid     | orderdate  |  shipdate  |    shipmode    | customerid |  customername   |  segment  |    country    |      city       |   state    | postalcode | region |    productid    |    category     | subcategory |                           productname                            | sales  | quantity | discount | profit  \n",
            "-------+----------------+------------+------------+----------------+------------+-----------------+-----------+---------------+-----------------+------------+------------+--------+-----------------+-----------------+-------------+------------------------------------------------------------------+--------+----------+----------+---------\n",
            "     1 | CA-2016-152156 | 2016-11-08 | 2016-11-11 | Second Class   | CG-12520   | Claire Gute     | Consumer  | United States | Henderson       | Kentucky   | 42420      | South  | FUR-BO-10001798 | Furniture       | Bookcases   | Bush Somerset Collection Bookcase                                | 261.96 |        2 |     0.00 |   41.91\n",
            "     2 | CA-2016-152156 | 2016-11-08 | 2016-11-11 | Second Class   | CG-12520   | Claire Gute     | Consumer  | United States | Henderson       | Kentucky   | 42420      | South  | FUR-CH-10000454 | Furniture       | Chairs      | Hon Deluxe Fabric Upholstered Stacking Chairs, Rounded Back      | 731.94 |        3 |     0.00 |  219.58\n",
            "     3 | CA-2016-138688 | 2016-06-12 | 2016-06-16 | Second Class   | DV-13045   | Darrin Van Huff | Corporate | United States | Los Angeles     | California | 90036      | West   | OFF-LA-10000240 | Office Supplies | Labels      | Self-Adhesive Address Labels for Typewriters by Universal        |  14.62 |        2 |     0.00 |    6.87\n",
            "     4 | US-2015-108966 | 2015-10-11 | 2015-10-18 | Standard Class | SO-20335   | Sean O'Donnell  | Consumer  | United States | Fort Lauderdale | Florida    | 33311      | South  | FUR-TA-10000577 | Furniture       | Tables      | Bretford CR4500 Series Slim Rectangular Table                    | 957.58 |        5 |     0.45 | -383.03\n",
            "     5 | US-2015-108966 | 2015-10-11 | 2015-10-18 | Standard Class | SO-20335   | Sean O'Donnell  | Consumer  | United States | Fort Lauderdale | Florida    | 33311      | South  | OFF-ST-10000760 | Office Supplies | Storage     | Eldon Fold 'N Roll Cart System                                   |  22.37 |        2 |     0.20 |    2.52\n",
            "     6 | CA-2014-115812 | 2014-06-09 | 2014-06-14 | Standard Class | BH-11710   | Brosina Hoffman | Consumer  | United States | Los Angeles     | California | 90032      | West   | FUR-FU-10001487 | Furniture       | Furnishings | Eldon Expressions Wood and Plastic Desk Accessories, Cherry Wood |  48.86 |        7 |     0.00 |   14.17\n",
            "     7 | CA-2014-115812 | 2014-06-09 | 2014-06-14 | Standard Class | BH-11710   | Brosina Hoffman | Consumer  | United States | Los Angeles     | California | 90032      | West   | OFF-AR-10002833 | Office Supplies | Art         | Newell 322                                                       |   7.28 |        4 |     0.00 |    1.97\n",
            "     8 | CA-2014-115812 | 2014-06-09 | 2014-06-14 | Standard Class | BH-11710   | Brosina Hoffman | Consumer  | United States | Los Angeles     | California | 90032      | West   | TEC-PH-10002275 | Technology      | Phones      | Mitel 5320 IP Phone VoIP phone                                   | 907.15 |        6 |     0.20 |   90.72\n",
            "     9 | CA-2014-115812 | 2014-06-09 | 2014-06-14 | Standard Class | BH-11710   | Brosina Hoffman | Consumer  | United States | Los Angeles     | California | 90032      | West   | OFF-BI-10003910 | Office Supplies | Binders     | DXL Angle-View Binders with Locking Rings by Samsill             |  18.50 |        3 |     0.20 |    5.78\n",
            "    10 | CA-2014-115812 | 2014-06-09 | 2014-06-14 | Standard Class | BH-11710   | Brosina Hoffman | Consumer  | United States | Los Angeles     | California | 90032      | West   | OFF-AP-10002892 | Office Supplies | Appliances  | Belkin F5C206VTEL 6 Outlet Surge                                 | 114.90 |        5 |     0.00 |   34.47\n",
            "(10 rows)\n",
            "\n"
          ]
        }
      ]
    },
    {
      "cell_type": "markdown",
      "source": [
        "## Python Access\n",
        "https://www.tutorialspoint.com/python_data_access/python_postgresql_database_connection.htm"
      ],
      "metadata": {
        "id": "faZEj8_7CeZ8"
      }
    },
    {
      "cell_type": "code",
      "source": [
        "def runSelect(s):\n",
        "    #Set up connection\n",
        "\n",
        "    conn = psycopg2.connect(database=\"dbpraxis\", user='upraxis', password='upass', host='127.0.0.1', port= '5432')\n",
        "    #Setting auto commit true\n",
        "    conn.autocommit = True\n",
        "    #Creating a cursor object using the cursor() method\n",
        "    cursor = conn.cursor()\n",
        "    #Retrieving data\n",
        "    cursor.execute(s)\n",
        "    #Fetching all rows from the table\n",
        "    result = cursor.fetchall();\n",
        "    #print(len(result))\n",
        "    if (len(result)) > 0:                                       # result contains at least one row\n",
        "        colnames = [desc[0] for desc in cursor.description]     # get column names\n",
        "        #print(colnames)\n",
        "        resultdf = pd.DataFrame(result)                         # convert list to dataframe\n",
        "        resultdf.columns = colnames                             # add column names\n",
        "        #return resultdf\n",
        "        return resultdf.style.hide()                            # hide the index\n",
        "    else:\n",
        "        print('no records found')\n",
        "        return\n",
        "\n",
        "def runCmd(s):\n",
        "    #Create Connection\n",
        "    conn = psycopg2.connect(database=\"dbpraxis\", user='upraxis', password='upass', host='127.0.0.1', port= '5432')\n",
        "    #Creating a cursor object using the cursor() method\n",
        "    cursor = conn.cursor()\n",
        "    try:\n",
        "        cursor.execute(s)\n",
        "        print('Command executed')\n",
        "        conn.commit()\n",
        "    except:\n",
        "        print('Command failed')\n",
        "    #Closing the connection\n",
        "    conn.close()"
      ],
      "metadata": {
        "id": "ht2k7-3iggNd"
      },
      "execution_count": 9,
      "outputs": []
    },
    {
      "cell_type": "code",
      "source": [
        "runSelect('select * from ss.order limit 3')"
      ],
      "metadata": {
        "id": "Otiv4rjSl5Tg",
        "outputId": "e115470c-004e-4f04-8ef3-216732864b68",
        "colab": {
          "base_uri": "https://localhost:8080/",
          "height": 406
        }
      },
      "execution_count": 10,
      "outputs": [
        {
          "output_type": "execute_result",
          "data": {
            "text/plain": [
              "<pandas.io.formats.style.Styler at 0x7b646821e5f0>"
            ],
            "text/html": [
              "<style type=\"text/css\">\n",
              "</style>\n",
              "<table id=\"T_bbac9\" class=\"dataframe\">\n",
              "  <thead>\n",
              "    <tr>\n",
              "      <th id=\"T_bbac9_level0_col0\" class=\"col_heading level0 col0\" >rowid</th>\n",
              "      <th id=\"T_bbac9_level0_col1\" class=\"col_heading level0 col1\" >orderid</th>\n",
              "      <th id=\"T_bbac9_level0_col2\" class=\"col_heading level0 col2\" >orderdate</th>\n",
              "      <th id=\"T_bbac9_level0_col3\" class=\"col_heading level0 col3\" >shipdate</th>\n",
              "      <th id=\"T_bbac9_level0_col4\" class=\"col_heading level0 col4\" >shipmode</th>\n",
              "      <th id=\"T_bbac9_level0_col5\" class=\"col_heading level0 col5\" >customerid</th>\n",
              "      <th id=\"T_bbac9_level0_col6\" class=\"col_heading level0 col6\" >customername</th>\n",
              "      <th id=\"T_bbac9_level0_col7\" class=\"col_heading level0 col7\" >segment</th>\n",
              "      <th id=\"T_bbac9_level0_col8\" class=\"col_heading level0 col8\" >country</th>\n",
              "      <th id=\"T_bbac9_level0_col9\" class=\"col_heading level0 col9\" >city</th>\n",
              "      <th id=\"T_bbac9_level0_col10\" class=\"col_heading level0 col10\" >state</th>\n",
              "      <th id=\"T_bbac9_level0_col11\" class=\"col_heading level0 col11\" >postalcode</th>\n",
              "      <th id=\"T_bbac9_level0_col12\" class=\"col_heading level0 col12\" >region</th>\n",
              "      <th id=\"T_bbac9_level0_col13\" class=\"col_heading level0 col13\" >productid</th>\n",
              "      <th id=\"T_bbac9_level0_col14\" class=\"col_heading level0 col14\" >category</th>\n",
              "      <th id=\"T_bbac9_level0_col15\" class=\"col_heading level0 col15\" >subcategory</th>\n",
              "      <th id=\"T_bbac9_level0_col16\" class=\"col_heading level0 col16\" >productname</th>\n",
              "      <th id=\"T_bbac9_level0_col17\" class=\"col_heading level0 col17\" >sales</th>\n",
              "      <th id=\"T_bbac9_level0_col18\" class=\"col_heading level0 col18\" >quantity</th>\n",
              "      <th id=\"T_bbac9_level0_col19\" class=\"col_heading level0 col19\" >discount</th>\n",
              "      <th id=\"T_bbac9_level0_col20\" class=\"col_heading level0 col20\" >profit</th>\n",
              "    </tr>\n",
              "  </thead>\n",
              "  <tbody>\n",
              "    <tr>\n",
              "      <td id=\"T_bbac9_row0_col0\" class=\"data row0 col0\" >1</td>\n",
              "      <td id=\"T_bbac9_row0_col1\" class=\"data row0 col1\" >CA-2016-152156</td>\n",
              "      <td id=\"T_bbac9_row0_col2\" class=\"data row0 col2\" >2016-11-08</td>\n",
              "      <td id=\"T_bbac9_row0_col3\" class=\"data row0 col3\" >2016-11-11</td>\n",
              "      <td id=\"T_bbac9_row0_col4\" class=\"data row0 col4\" >Second Class</td>\n",
              "      <td id=\"T_bbac9_row0_col5\" class=\"data row0 col5\" >CG-12520</td>\n",
              "      <td id=\"T_bbac9_row0_col6\" class=\"data row0 col6\" >Claire Gute</td>\n",
              "      <td id=\"T_bbac9_row0_col7\" class=\"data row0 col7\" >Consumer</td>\n",
              "      <td id=\"T_bbac9_row0_col8\" class=\"data row0 col8\" >United States</td>\n",
              "      <td id=\"T_bbac9_row0_col9\" class=\"data row0 col9\" >Henderson</td>\n",
              "      <td id=\"T_bbac9_row0_col10\" class=\"data row0 col10\" >Kentucky</td>\n",
              "      <td id=\"T_bbac9_row0_col11\" class=\"data row0 col11\" >42420</td>\n",
              "      <td id=\"T_bbac9_row0_col12\" class=\"data row0 col12\" >South</td>\n",
              "      <td id=\"T_bbac9_row0_col13\" class=\"data row0 col13\" >FUR-BO-10001798</td>\n",
              "      <td id=\"T_bbac9_row0_col14\" class=\"data row0 col14\" >Furniture</td>\n",
              "      <td id=\"T_bbac9_row0_col15\" class=\"data row0 col15\" >Bookcases</td>\n",
              "      <td id=\"T_bbac9_row0_col16\" class=\"data row0 col16\" >Bush Somerset Collection Bookcase</td>\n",
              "      <td id=\"T_bbac9_row0_col17\" class=\"data row0 col17\" >261.96</td>\n",
              "      <td id=\"T_bbac9_row0_col18\" class=\"data row0 col18\" >2</td>\n",
              "      <td id=\"T_bbac9_row0_col19\" class=\"data row0 col19\" >0.00</td>\n",
              "      <td id=\"T_bbac9_row0_col20\" class=\"data row0 col20\" >41.91</td>\n",
              "    </tr>\n",
              "    <tr>\n",
              "      <td id=\"T_bbac9_row1_col0\" class=\"data row1 col0\" >2</td>\n",
              "      <td id=\"T_bbac9_row1_col1\" class=\"data row1 col1\" >CA-2016-152156</td>\n",
              "      <td id=\"T_bbac9_row1_col2\" class=\"data row1 col2\" >2016-11-08</td>\n",
              "      <td id=\"T_bbac9_row1_col3\" class=\"data row1 col3\" >2016-11-11</td>\n",
              "      <td id=\"T_bbac9_row1_col4\" class=\"data row1 col4\" >Second Class</td>\n",
              "      <td id=\"T_bbac9_row1_col5\" class=\"data row1 col5\" >CG-12520</td>\n",
              "      <td id=\"T_bbac9_row1_col6\" class=\"data row1 col6\" >Claire Gute</td>\n",
              "      <td id=\"T_bbac9_row1_col7\" class=\"data row1 col7\" >Consumer</td>\n",
              "      <td id=\"T_bbac9_row1_col8\" class=\"data row1 col8\" >United States</td>\n",
              "      <td id=\"T_bbac9_row1_col9\" class=\"data row1 col9\" >Henderson</td>\n",
              "      <td id=\"T_bbac9_row1_col10\" class=\"data row1 col10\" >Kentucky</td>\n",
              "      <td id=\"T_bbac9_row1_col11\" class=\"data row1 col11\" >42420</td>\n",
              "      <td id=\"T_bbac9_row1_col12\" class=\"data row1 col12\" >South</td>\n",
              "      <td id=\"T_bbac9_row1_col13\" class=\"data row1 col13\" >FUR-CH-10000454</td>\n",
              "      <td id=\"T_bbac9_row1_col14\" class=\"data row1 col14\" >Furniture</td>\n",
              "      <td id=\"T_bbac9_row1_col15\" class=\"data row1 col15\" >Chairs</td>\n",
              "      <td id=\"T_bbac9_row1_col16\" class=\"data row1 col16\" >Hon Deluxe Fabric Upholstered Stacking Chairs, Rounded Back</td>\n",
              "      <td id=\"T_bbac9_row1_col17\" class=\"data row1 col17\" >731.94</td>\n",
              "      <td id=\"T_bbac9_row1_col18\" class=\"data row1 col18\" >3</td>\n",
              "      <td id=\"T_bbac9_row1_col19\" class=\"data row1 col19\" >0.00</td>\n",
              "      <td id=\"T_bbac9_row1_col20\" class=\"data row1 col20\" >219.58</td>\n",
              "    </tr>\n",
              "    <tr>\n",
              "      <td id=\"T_bbac9_row2_col0\" class=\"data row2 col0\" >3</td>\n",
              "      <td id=\"T_bbac9_row2_col1\" class=\"data row2 col1\" >CA-2016-138688</td>\n",
              "      <td id=\"T_bbac9_row2_col2\" class=\"data row2 col2\" >2016-06-12</td>\n",
              "      <td id=\"T_bbac9_row2_col3\" class=\"data row2 col3\" >2016-06-16</td>\n",
              "      <td id=\"T_bbac9_row2_col4\" class=\"data row2 col4\" >Second Class</td>\n",
              "      <td id=\"T_bbac9_row2_col5\" class=\"data row2 col5\" >DV-13045</td>\n",
              "      <td id=\"T_bbac9_row2_col6\" class=\"data row2 col6\" >Darrin Van Huff</td>\n",
              "      <td id=\"T_bbac9_row2_col7\" class=\"data row2 col7\" >Corporate</td>\n",
              "      <td id=\"T_bbac9_row2_col8\" class=\"data row2 col8\" >United States</td>\n",
              "      <td id=\"T_bbac9_row2_col9\" class=\"data row2 col9\" >Los Angeles</td>\n",
              "      <td id=\"T_bbac9_row2_col10\" class=\"data row2 col10\" >California</td>\n",
              "      <td id=\"T_bbac9_row2_col11\" class=\"data row2 col11\" >90036</td>\n",
              "      <td id=\"T_bbac9_row2_col12\" class=\"data row2 col12\" >West</td>\n",
              "      <td id=\"T_bbac9_row2_col13\" class=\"data row2 col13\" >OFF-LA-10000240</td>\n",
              "      <td id=\"T_bbac9_row2_col14\" class=\"data row2 col14\" >Office Supplies</td>\n",
              "      <td id=\"T_bbac9_row2_col15\" class=\"data row2 col15\" >Labels</td>\n",
              "      <td id=\"T_bbac9_row2_col16\" class=\"data row2 col16\" >Self-Adhesive Address Labels for Typewriters by Universal</td>\n",
              "      <td id=\"T_bbac9_row2_col17\" class=\"data row2 col17\" >14.62</td>\n",
              "      <td id=\"T_bbac9_row2_col18\" class=\"data row2 col18\" >2</td>\n",
              "      <td id=\"T_bbac9_row2_col19\" class=\"data row2 col19\" >0.00</td>\n",
              "      <td id=\"T_bbac9_row2_col20\" class=\"data row2 col20\" >6.87</td>\n",
              "    </tr>\n",
              "  </tbody>\n",
              "</table>\n"
            ]
          },
          "metadata": {},
          "execution_count": 10
        }
      ]
    },
    {
      "cell_type": "code",
      "source": [
        "runSelect('select max(orderdate), min(orderdate), max(shipdate), min(shipdate) from ss.order')"
      ],
      "metadata": {
        "colab": {
          "base_uri": "https://localhost:8080/",
          "height": 81
        },
        "id": "mTvVFhh8Xr8I",
        "outputId": "07129ba5-374a-4da8-da76-3dd24535def8"
      },
      "execution_count": 11,
      "outputs": [
        {
          "output_type": "execute_result",
          "data": {
            "text/plain": [
              "<pandas.io.formats.style.Styler at 0x7b6467f97eb0>"
            ],
            "text/html": [
              "<style type=\"text/css\">\n",
              "</style>\n",
              "<table id=\"T_1dc32\" class=\"dataframe\">\n",
              "  <thead>\n",
              "    <tr>\n",
              "      <th id=\"T_1dc32_level0_col0\" class=\"col_heading level0 col0\" >max</th>\n",
              "      <th id=\"T_1dc32_level0_col1\" class=\"col_heading level0 col1\" >min</th>\n",
              "      <th id=\"T_1dc32_level0_col2\" class=\"col_heading level0 col2\" >max</th>\n",
              "      <th id=\"T_1dc32_level0_col3\" class=\"col_heading level0 col3\" >min</th>\n",
              "    </tr>\n",
              "  </thead>\n",
              "  <tbody>\n",
              "    <tr>\n",
              "      <td id=\"T_1dc32_row0_col0\" class=\"data row0 col0\" >2017-12-30</td>\n",
              "      <td id=\"T_1dc32_row0_col1\" class=\"data row0 col1\" >2014-01-03</td>\n",
              "      <td id=\"T_1dc32_row0_col2\" class=\"data row0 col2\" >2018-01-05</td>\n",
              "      <td id=\"T_1dc32_row0_col3\" class=\"data row0 col3\" >2014-01-07</td>\n",
              "    </tr>\n",
              "  </tbody>\n",
              "</table>\n"
            ]
          },
          "metadata": {},
          "execution_count": 11
        }
      ]
    },
    {
      "cell_type": "markdown",
      "source": [
        "#Chronobooks <br>\n",
        "Two science fiction novels by Prithwis Mukerjee. A dystopian Earth. A technocratic society managed by artificial intelligence. Escape and epiphany on Mars. Can man and machine, carbon and silicon explore and escape into other dimensions of existence? An Indic perspective rooted in Advaita Vedanta and the Divine Feminine.  [More information](http://bit.ly/chronobooks) <br>\n",
        "![alt text](https://github.com/Praxis-QR/RDWH/raw/main/images/CTCYFooter-1.png)"
      ],
      "metadata": {
        "id": "_gNiZpyW3AzJ"
      }
    },
    {
      "cell_type": "code",
      "source": [
        "from datetime import datetime\n",
        "import pytz\n",
        "print('tested',datetime.now(pytz.timezone('Asia/Calcutta')))"
      ],
      "metadata": {
        "colab": {
          "base_uri": "https://localhost:8080/"
        },
        "id": "RvIWdemwYIZk",
        "outputId": "fb5f17bd-396c-4198-a27b-a4e66dff8f70"
      },
      "execution_count": 12,
      "outputs": [
        {
          "output_type": "stream",
          "name": "stdout",
          "text": [
            "tested 2024-01-16 15:26:12.867319+05:30\n"
          ]
        }
      ]
    }
  ]
}