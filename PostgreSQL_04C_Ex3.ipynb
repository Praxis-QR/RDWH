{
  "nbformat": 4,
  "nbformat_minor": 0,
  "metadata": {
    "colab": {
      "provenance": [],
      "include_colab_link": true
    },
    "kernelspec": {
      "name": "python3",
      "display_name": "Python 3"
    },
    "language_info": {
      "name": "python"
    }
  },
  "cells": [
    {
      "cell_type": "markdown",
      "metadata": {
        "id": "view-in-github",
        "colab_type": "text"
      },
      "source": [
        "<a href=\"https://colab.research.google.com/github/Praxis-QR/RDWH/blob/main/PostgreSQL_04C_Ex3.ipynb\" target=\"_parent\"><img src=\"https://colab.research.google.com/assets/colab-badge.svg\" alt=\"Open In Colab\"/></a>"
      ]
    },
    {
      "cell_type": "markdown",
      "source": [
        "![Yantrajaal Banner](https://github.com/Praxis-QR/RDWH/raw/main/images/YantraJaalBanner.png)<br>\n",
        "\n",
        "\n",
        "<hr>\n",
        "\n",
        "[Prithwis Mukerjee](http://www.linkedin.com/in/prithwis)<br>"
      ],
      "metadata": {
        "id": "DBzz-qaN2tKu"
      }
    },
    {
      "cell_type": "markdown",
      "source": [
        "#Postgres Exercises\n",
        "Tutorial based on [SQLCourse2](https://www.sqlcourse2.com/) <br>\n",
        "Data is in this [Google Sheet](https://docs.google.com/spreadsheets/d/1m_LE_ahVHY0PrXmtyVVjO5CyqvmOMOwGT6hPYBYHBqw/edit?usp=sharing) <br>\n",
        "The data needs to be downloaded as two CSV files from the Google Docs above"
      ],
      "metadata": {
        "id": "QIfgaOrxZ39z"
      }
    },
    {
      "cell_type": "markdown",
      "source": [
        "#Install & Configure Postgres"
      ],
      "metadata": {
        "id": "nD-QawLT6kDr"
      }
    },
    {
      "cell_type": "code",
      "source": [
        "from datetime import datetime\n",
        "import pytz\n",
        "print('Tested on ',datetime.now(pytz.timezone('Asia/Calcutta')))\n",
        "!python --version\n",
        "!lsb_release -a"
      ],
      "metadata": {
        "id": "txwvst5Hs5mI",
        "outputId": "8b77673c-ec6b-46b0-c47b-fe5b7df419ab",
        "colab": {
          "base_uri": "https://localhost:8080/"
        }
      },
      "execution_count": 1,
      "outputs": [
        {
          "output_type": "stream",
          "name": "stdout",
          "text": [
            "Tested on  2024-01-06 13:40:48.152623+05:30\n",
            "Python 3.10.12\n",
            "No LSB modules are available.\n",
            "Distributor ID:\tUbuntu\n",
            "Description:\tUbuntu 22.04.3 LTS\n",
            "Release:\t22.04\n",
            "Codename:\tjammy\n"
          ]
        }
      ]
    },
    {
      "cell_type": "markdown",
      "source": [
        "For Connecting to a Postgres server on Amazon RDS, see [this notebook](https://github.com/Praxis-QR/RDWH/blob/main/PostgreSQL_01_Install_Config.ipynb)"
      ],
      "metadata": {
        "id": "9w29_O07rTPE"
      }
    },
    {
      "cell_type": "code",
      "source": [
        "# Install postgresql server\n",
        "\n",
        "!apt update > /dev/null\n",
        "!apt install postgresql > /dev/null\n",
        "#!sudo -u postgres psql -V\n",
        "!psql -V\n",
        "!service postgresql start"
      ],
      "metadata": {
        "colab": {
          "base_uri": "https://localhost:8080/"
        },
        "id": "o_RaqE0OOHP3",
        "outputId": "54b45586-4786-43aa-816c-0527ce48adfa"
      },
      "execution_count": 2,
      "outputs": [
        {
          "output_type": "stream",
          "name": "stdout",
          "text": [
            "\n",
            "WARNING: apt does not have a stable CLI interface. Use with caution in scripts.\n",
            "\n",
            "\n",
            "WARNING: apt does not have a stable CLI interface. Use with caution in scripts.\n",
            "\n",
            "psql (PostgreSQL) 14.10 (Ubuntu 14.10-0ubuntu0.22.04.1)\n",
            " * Starting PostgreSQL 14 database server\n",
            "   ...done.\n"
          ]
        }
      ]
    },
    {
      "cell_type": "markdown",
      "source": [
        "#Create Schema, Tables and Insert Data"
      ],
      "metadata": {
        "id": "JP7hBhEaYzW8"
      }
    },
    {
      "cell_type": "code",
      "source": [
        "# This has created an Ubuntu user 'postgres' AND a Postgres database user 'postgres' both of which are superusers\n",
        "#!cat /etc/passwd\n",
        "# Use these users to create a new database user called 'upraxis' and give it a password 'upass'\n",
        "#!sudo -u postgres createuser --superuser upraxis\n",
        "!sudo -u postgres createuser upraxis\n",
        "!sudo -u postgres psql -U postgres -c \"ALTER USER upraxis PASSWORD 'upass';\"\n",
        "# Change the database superuser 'postgres' to a non-default value 'pass'\n",
        "!sudo -u postgres psql -U postgres -c \"ALTER USER postgres PASSWORD 'pass';\"\n",
        "# Use ubuntu superuser to create database dbpraxis and set its owner to upraxis\n",
        "!sudo -u postgres createdb -O upraxis dbpraxis\n"
      ],
      "metadata": {
        "colab": {
          "base_uri": "https://localhost:8080/"
        },
        "id": "NWkT4jeeQXw2",
        "outputId": "a6a22890-1b62-46dd-9509-9dab3d098622"
      },
      "execution_count": 3,
      "outputs": [
        {
          "output_type": "stream",
          "name": "stdout",
          "text": [
            "ALTER ROLE\n",
            "ALTER ROLE\n"
          ]
        }
      ]
    },
    {
      "cell_type": "code",
      "source": [
        "# Create file to store the password. Else will be prompted each time\n",
        "#!echo \"localhost:5432:praxisdb:postgres:pass\" > ~/.pgpass\n",
        "!echo \"localhost:5432:dbpraxis:upraxis:upass\" > ~/.pgpass\n",
        "!chmod 0600 ~/.pgpass\n",
        "!cat ~/.pgpass"
      ],
      "metadata": {
        "id": "O8B3vEiP6bUy",
        "outputId": "8ed7ff96-2124-4e10-805b-036ebfcdca86",
        "colab": {
          "base_uri": "https://localhost:8080/"
        }
      },
      "execution_count": 4,
      "outputs": [
        {
          "output_type": "stream",
          "name": "stdout",
          "text": [
            "localhost:5432:dbpraxis:upraxis:upass\n"
          ]
        }
      ]
    },
    {
      "cell_type": "code",
      "source": [
        "# Download two CSV files from G-Drive into the Colab VM\n",
        "#!gdown https://drive.google.com/uc?id=1WxuruueFwMTjmPb-DvvVnGYB78Ty4OkP\n",
        "#!gdown https://drive.google.com/uc?id=1j49sqYHv0UoskVJDzNObWxECFF7ySsld\n",
        "\n",
        "#!gdown -qq 1Ug15GbEmeTnwJnuH-4fpPeZ1k20ryoGx      # Quiet Mode, not output\n",
        "#!gdown -qq 1qx6duSqzQUJSkpHNQIIZ9l0T6zYtjT-y      # Quiet Mode, not output\n",
        "\n",
        "!wget -O Customers.csv -q https://raw.githubusercontent.com/Praxis-QR/RDWH/main/data/SQLCourse2%20-%20Customers.csv\n",
        "!wget -O ItemsOrdered.csv -q https://raw.githubusercontent.com/Praxis-QR/RDWH/main/data/SQLCourse2%20-%20ItemsOrdered.csv"
      ],
      "metadata": {
        "id": "01kFB_EbXzKg"
      },
      "execution_count": 5,
      "outputs": []
    },
    {
      "cell_type": "code",
      "source": [
        "!psql -h localhost -p 5432 -Uupraxis -d dbpraxis -c 'drop table if exists itemsordered'\n",
        "# --------------------------------------------------------------\n",
        "!psql -h localhost -p 5432 -Uupraxis -d dbpraxis -c '\\\n",
        "CREATE TABLE IF NOT EXISTS itemsordered (\\\n",
        "customerid char(5),orderdate date, item varchar(30), quantity int, price decimal(6,2)) \\\n",
        "'\n",
        "# --------------------------------------------------------------\n",
        "!psql -h localhost -p 5432 -Uupraxis -d dbpraxis -c 'drop table if exists customers'\n",
        "# --------------------------------------------------------------\n",
        "!psql -h localhost -p 5432 -Uupraxis -d dbpraxis -c '\\\n",
        "CREATE TABLE IF NOT EXISTS customers (customerid char(5),firstname varchar(20),lastname varchar(20), city varchar(20), state varchar(20)) \\\n",
        "'\n",
        "!psql -h localhost -p 5432 -Uupraxis -d dbpraxis -c '\\dt+'"
      ],
      "metadata": {
        "colab": {
          "base_uri": "https://localhost:8080/"
        },
        "id": "E6sV6-051qj2",
        "outputId": "57cbd8c4-b39a-499e-c554-00de11099715"
      },
      "execution_count": 10,
      "outputs": [
        {
          "output_type": "stream",
          "name": "stdout",
          "text": [
            "DROP TABLE\n",
            "CREATE TABLE\n",
            "DROP TABLE\n",
            "CREATE TABLE\n",
            "                                       List of relations\n",
            " Schema |     Name     | Type  |  Owner  | Persistence | Access method |  Size   | Description \n",
            "--------+--------------+-------+---------+-------------+---------------+---------+-------------\n",
            " public | customers    | table | upraxis | permanent   | heap          | 0 bytes | \n",
            " public | itemsordered | table | upraxis | permanent   | heap          | 0 bytes | \n",
            "(2 rows)\n",
            "\n"
          ]
        }
      ]
    },
    {
      "cell_type": "code",
      "source": [
        "# Only superuser ('postgres') can use copy command, not even database owner ('upraxis')\n",
        "# 'postgres' password has to be entered manually, password = 'pass'\n",
        "#\n",
        "!psql -h localhost -p 5432 -Upostgres -ddbpraxis -c \"COPY customers FROM '/content/Customers.csv' DELIMITER ',' CSV HEADER;\"\n",
        "!psql -h localhost -p 5432 -Upostgres -ddbpraxis -c \"COPY itemsordered FROM '/content/ItemsOrdered.csv' DELIMITER ',' CSV HEADER;\""
      ],
      "metadata": {
        "colab": {
          "base_uri": "https://localhost:8080/"
        },
        "id": "KHwy6MLZ2t1t",
        "outputId": "a94da223-266c-44d4-ca78-81fdb2395749"
      },
      "execution_count": 11,
      "outputs": [
        {
          "output_type": "stream",
          "name": "stdout",
          "text": [
            "Password for user postgres: \n",
            "COPY 17\n",
            "Password for user postgres: \n",
            "COPY 32\n"
          ]
        }
      ]
    },
    {
      "cell_type": "code",
      "source": [
        "#!cat ItemsOrdered.csv\n",
        "!psql -h localhost -p 5432 -Uupraxis -d dbpraxis -c 'select * from itemsordered'"
      ],
      "metadata": {
        "colab": {
          "base_uri": "https://localhost:8080/"
        },
        "id": "DpFMdlEz3aV-",
        "outputId": "f9515ce4-9ac3-485e-ea7f-65ab7ea64ed4"
      },
      "execution_count": 13,
      "outputs": [
        {
          "output_type": "stream",
          "name": "stdout",
          "text": [
            " customerid | orderdate  |        item         | quantity |  price  \n",
            "------------+------------+---------------------+----------+---------\n",
            " 10330      | 1999-06-30 | Pogo stick          |        1 |   28.00\n",
            " 10101      | 1999-06-30 | Raft                |        1 |   58.00\n",
            " 10298      | 1999-07-01 | Skateboard          |        1 |   33.00\n",
            " 10101      | 1999-07-01 | Life Vest           |        4 |  125.00\n",
            " 10299      | 1999-07-06 | Parachute           |        1 | 1250.00\n",
            " 10339      | 1999-07-27 | Umbrella            |        1 |    4.50\n",
            " 10449      | 1999-08-13 | Unicycle            |        1 |  180.79\n",
            " 10439      | 1999-08-14 | Ski Poles           |        2 |   25.50\n",
            " 10101      | 1999-08-18 | Rain Coat           |        1 |   18.30\n",
            " 10449      | 1999-09-01 | Snow Shoes          |        1 |   45.00\n",
            " 10439      | 1999-09-18 | Tent                |        1 |   88.00\n",
            " 10298      | 1999-09-19 | Lantern             |        2 |   29.00\n",
            " 10410      | 1999-10-28 | Sleeping Bag        |        1 |   89.22\n",
            " 10438      | 1999-11-01 | Umbrella            |        1 |    6.75\n",
            " 10438      | 1999-11-02 | Pillow              |        1 |    8.50\n",
            " 10298      | 1999-12-01 | Helmet              |        1 |   22.00\n",
            " 10449      | 1999-12-15 | Bicycle             |        1 |  380.50\n",
            " 10449      | 1999-12-22 | Canoe               |        1 |  280.00\n",
            " 10101      | 1999-12-30 | Hoola Hoop          |        3 |   14.75\n",
            " 10330      | 2000-01-01 | Flashlight          |        4 |   28.00\n",
            " 10101      | 2000-01-02 | Lantern             |        1 |   16.00\n",
            " 10299      | 2000-01-18 | Inflatable Mattress |        1 |   38.00\n",
            " 10438      | 2000-01-18 | Tent                |        1 |   79.99\n",
            " 10413      | 2000-01-19 | Lawnchair           |        4 |   32.00\n",
            " 10410      | 2000-01-30 | Unicycle            |        1 |  192.50\n",
            " 10315      | 2000-02-02 | Compass             |        1 |    8.00\n",
            " 10449      | 2000-02-29 | Flashlight          |        1 |    4.50\n",
            " 10101      | 2000-03-08 | Sleeping Bag        |        2 |   88.70\n",
            " 10298      | 2000-03-18 | Pocket Knife        |        1 |   22.38\n",
            " 10449      | 2000-03-19 | Canoe paddle        |        2 |   40.00\n",
            " 10298      | 2000-04-01 | Ear Muffs           |        1 |   12.50\n",
            " 10330      | 2000-04-19 | Shovel              |        1 |   16.75\n",
            "(32 rows)\n",
            "\n"
          ]
        }
      ]
    },
    {
      "cell_type": "markdown",
      "source": [
        "## Python Access\n",
        "https://www.tutorialspoint.com/python_data_access/python_postgresql_database_connection.htm"
      ],
      "metadata": {
        "id": "faZEj8_7CeZ8"
      }
    },
    {
      "cell_type": "code",
      "source": [
        "#!pip install psycopg2\n",
        "import psycopg2\n",
        "import pandas as pd"
      ],
      "metadata": {
        "id": "719jvpeIjLZX"
      },
      "execution_count": 14,
      "outputs": []
    },
    {
      "cell_type": "code",
      "source": [
        "# Local Colab server\n",
        "\n",
        "conn = psycopg2.connect(database=\"dbpraxis\", user='upraxis', password='upass', host='127.0.0.1', port= '5432')\n",
        "#Creating a cursor object using the cursor() method\n",
        "cursor = conn.cursor()\n",
        "#Executing an MYSQL function using the execute() method\n",
        "cursor.execute(\"select version()\")\n",
        "# Fetch a single row using fetchone() method.\n",
        "data = cursor.fetchone()\n",
        "print(\"Connection established to: \",data)\n",
        "#Closing the connection\n",
        "conn.close()"
      ],
      "metadata": {
        "id": "wcE-8UBnC4zV",
        "outputId": "713c823d-b6ad-4359-a37b-de760f5eb25c",
        "colab": {
          "base_uri": "https://localhost:8080/"
        }
      },
      "execution_count": 15,
      "outputs": [
        {
          "output_type": "stream",
          "name": "stdout",
          "text": [
            "Connection established to:  ('PostgreSQL 14.10 (Ubuntu 14.10-0ubuntu0.22.04.1) on x86_64-pc-linux-gnu, compiled by gcc (Ubuntu 11.4.0-1ubuntu1~22.04) 11.4.0, 64-bit',)\n"
          ]
        }
      ]
    },
    {
      "cell_type": "code",
      "source": [
        "# function to execute SQL select statements with Postgres\n",
        "#\n",
        "def runSelect(s):\n",
        "    #Set up connection\n",
        "\n",
        "    conn = psycopg2.connect(database=\"dbpraxis\", user='upraxis', password='upass', host='127.0.0.1', port= '5432')\n",
        "    #Setting auto commit true\n",
        "    conn.autocommit = True\n",
        "    #Creating a cursor object using the cursor() method\n",
        "    cursor = conn.cursor()\n",
        "    #Retrieving data\n",
        "    cursor.execute(s)\n",
        "    #Fetching all rows from the table\n",
        "    result = cursor.fetchall();\n",
        "    #print(len(result))\n",
        "    if (len(result)) > 0:                                       # result contains at least one row\n",
        "        colnames = [desc[0] for desc in cursor.description]     # get column names\n",
        "        #print(colnames)\n",
        "        resultdf = pd.DataFrame(result)                         # convert list to dataframe\n",
        "        resultdf.columns = colnames                             # add column names\n",
        "        #return resultdf\n",
        "        return resultdf.style.hide()                            # hide the index\n",
        "    else:\n",
        "        print('no records found')\n",
        "        return\n",
        "# function to execute SQL non-select statements with Postgres\n",
        "#\n",
        "def runCmd(s):\n",
        "    #Create Connection\n",
        "    conn = psycopg2.connect(database=\"exercises\", user='postgres', password='pass', host='127.0.0.1', port= '5432')\n",
        "    #Creating a cursor object using the cursor() method\n",
        "    cursor = conn.cursor()\n",
        "    try:\n",
        "        cursor.execute(s)\n",
        "        print('Command executed')\n",
        "        conn.commit()\n",
        "    except:\n",
        "        print('Command failed')\n",
        "    #Closing the connection\n",
        "    conn.close()"
      ],
      "metadata": {
        "id": "ht2k7-3iggNd"
      },
      "execution_count": 16,
      "outputs": []
    },
    {
      "cell_type": "markdown",
      "source": [
        "##Check Data"
      ],
      "metadata": {
        "id": "RvTKboYtbSjZ"
      }
    },
    {
      "cell_type": "code",
      "source": [
        "runSelect(\"select * from itemsordered\")"
      ],
      "metadata": {
        "colab": {
          "base_uri": "https://localhost:8080/",
          "height": 1000
        },
        "id": "ctq0ULCvVTsO",
        "outputId": "c7a3387e-5835-4acc-e757-aca4e6a461e9"
      },
      "execution_count": 18,
      "outputs": [
        {
          "output_type": "execute_result",
          "data": {
            "text/plain": [
              "<pandas.io.formats.style.Styler at 0x7ab421f1b460>"
            ],
            "text/html": [
              "<style type=\"text/css\">\n",
              "</style>\n",
              "<table id=\"T_483e1\" class=\"dataframe\">\n",
              "  <thead>\n",
              "    <tr>\n",
              "      <th id=\"T_483e1_level0_col0\" class=\"col_heading level0 col0\" >customerid</th>\n",
              "      <th id=\"T_483e1_level0_col1\" class=\"col_heading level0 col1\" >orderdate</th>\n",
              "      <th id=\"T_483e1_level0_col2\" class=\"col_heading level0 col2\" >item</th>\n",
              "      <th id=\"T_483e1_level0_col3\" class=\"col_heading level0 col3\" >quantity</th>\n",
              "      <th id=\"T_483e1_level0_col4\" class=\"col_heading level0 col4\" >price</th>\n",
              "    </tr>\n",
              "  </thead>\n",
              "  <tbody>\n",
              "    <tr>\n",
              "      <td id=\"T_483e1_row0_col0\" class=\"data row0 col0\" >10330</td>\n",
              "      <td id=\"T_483e1_row0_col1\" class=\"data row0 col1\" >1999-06-30</td>\n",
              "      <td id=\"T_483e1_row0_col2\" class=\"data row0 col2\" >Pogo stick</td>\n",
              "      <td id=\"T_483e1_row0_col3\" class=\"data row0 col3\" >1</td>\n",
              "      <td id=\"T_483e1_row0_col4\" class=\"data row0 col4\" >28.00</td>\n",
              "    </tr>\n",
              "    <tr>\n",
              "      <td id=\"T_483e1_row1_col0\" class=\"data row1 col0\" >10101</td>\n",
              "      <td id=\"T_483e1_row1_col1\" class=\"data row1 col1\" >1999-06-30</td>\n",
              "      <td id=\"T_483e1_row1_col2\" class=\"data row1 col2\" >Raft</td>\n",
              "      <td id=\"T_483e1_row1_col3\" class=\"data row1 col3\" >1</td>\n",
              "      <td id=\"T_483e1_row1_col4\" class=\"data row1 col4\" >58.00</td>\n",
              "    </tr>\n",
              "    <tr>\n",
              "      <td id=\"T_483e1_row2_col0\" class=\"data row2 col0\" >10298</td>\n",
              "      <td id=\"T_483e1_row2_col1\" class=\"data row2 col1\" >1999-07-01</td>\n",
              "      <td id=\"T_483e1_row2_col2\" class=\"data row2 col2\" >Skateboard</td>\n",
              "      <td id=\"T_483e1_row2_col3\" class=\"data row2 col3\" >1</td>\n",
              "      <td id=\"T_483e1_row2_col4\" class=\"data row2 col4\" >33.00</td>\n",
              "    </tr>\n",
              "    <tr>\n",
              "      <td id=\"T_483e1_row3_col0\" class=\"data row3 col0\" >10101</td>\n",
              "      <td id=\"T_483e1_row3_col1\" class=\"data row3 col1\" >1999-07-01</td>\n",
              "      <td id=\"T_483e1_row3_col2\" class=\"data row3 col2\" >Life Vest</td>\n",
              "      <td id=\"T_483e1_row3_col3\" class=\"data row3 col3\" >4</td>\n",
              "      <td id=\"T_483e1_row3_col4\" class=\"data row3 col4\" >125.00</td>\n",
              "    </tr>\n",
              "    <tr>\n",
              "      <td id=\"T_483e1_row4_col0\" class=\"data row4 col0\" >10299</td>\n",
              "      <td id=\"T_483e1_row4_col1\" class=\"data row4 col1\" >1999-07-06</td>\n",
              "      <td id=\"T_483e1_row4_col2\" class=\"data row4 col2\" >Parachute</td>\n",
              "      <td id=\"T_483e1_row4_col3\" class=\"data row4 col3\" >1</td>\n",
              "      <td id=\"T_483e1_row4_col4\" class=\"data row4 col4\" >1250.00</td>\n",
              "    </tr>\n",
              "    <tr>\n",
              "      <td id=\"T_483e1_row5_col0\" class=\"data row5 col0\" >10339</td>\n",
              "      <td id=\"T_483e1_row5_col1\" class=\"data row5 col1\" >1999-07-27</td>\n",
              "      <td id=\"T_483e1_row5_col2\" class=\"data row5 col2\" >Umbrella</td>\n",
              "      <td id=\"T_483e1_row5_col3\" class=\"data row5 col3\" >1</td>\n",
              "      <td id=\"T_483e1_row5_col4\" class=\"data row5 col4\" >4.50</td>\n",
              "    </tr>\n",
              "    <tr>\n",
              "      <td id=\"T_483e1_row6_col0\" class=\"data row6 col0\" >10449</td>\n",
              "      <td id=\"T_483e1_row6_col1\" class=\"data row6 col1\" >1999-08-13</td>\n",
              "      <td id=\"T_483e1_row6_col2\" class=\"data row6 col2\" >Unicycle</td>\n",
              "      <td id=\"T_483e1_row6_col3\" class=\"data row6 col3\" >1</td>\n",
              "      <td id=\"T_483e1_row6_col4\" class=\"data row6 col4\" >180.79</td>\n",
              "    </tr>\n",
              "    <tr>\n",
              "      <td id=\"T_483e1_row7_col0\" class=\"data row7 col0\" >10439</td>\n",
              "      <td id=\"T_483e1_row7_col1\" class=\"data row7 col1\" >1999-08-14</td>\n",
              "      <td id=\"T_483e1_row7_col2\" class=\"data row7 col2\" >Ski Poles</td>\n",
              "      <td id=\"T_483e1_row7_col3\" class=\"data row7 col3\" >2</td>\n",
              "      <td id=\"T_483e1_row7_col4\" class=\"data row7 col4\" >25.50</td>\n",
              "    </tr>\n",
              "    <tr>\n",
              "      <td id=\"T_483e1_row8_col0\" class=\"data row8 col0\" >10101</td>\n",
              "      <td id=\"T_483e1_row8_col1\" class=\"data row8 col1\" >1999-08-18</td>\n",
              "      <td id=\"T_483e1_row8_col2\" class=\"data row8 col2\" >Rain Coat</td>\n",
              "      <td id=\"T_483e1_row8_col3\" class=\"data row8 col3\" >1</td>\n",
              "      <td id=\"T_483e1_row8_col4\" class=\"data row8 col4\" >18.30</td>\n",
              "    </tr>\n",
              "    <tr>\n",
              "      <td id=\"T_483e1_row9_col0\" class=\"data row9 col0\" >10449</td>\n",
              "      <td id=\"T_483e1_row9_col1\" class=\"data row9 col1\" >1999-09-01</td>\n",
              "      <td id=\"T_483e1_row9_col2\" class=\"data row9 col2\" >Snow Shoes</td>\n",
              "      <td id=\"T_483e1_row9_col3\" class=\"data row9 col3\" >1</td>\n",
              "      <td id=\"T_483e1_row9_col4\" class=\"data row9 col4\" >45.00</td>\n",
              "    </tr>\n",
              "    <tr>\n",
              "      <td id=\"T_483e1_row10_col0\" class=\"data row10 col0\" >10439</td>\n",
              "      <td id=\"T_483e1_row10_col1\" class=\"data row10 col1\" >1999-09-18</td>\n",
              "      <td id=\"T_483e1_row10_col2\" class=\"data row10 col2\" >Tent</td>\n",
              "      <td id=\"T_483e1_row10_col3\" class=\"data row10 col3\" >1</td>\n",
              "      <td id=\"T_483e1_row10_col4\" class=\"data row10 col4\" >88.00</td>\n",
              "    </tr>\n",
              "    <tr>\n",
              "      <td id=\"T_483e1_row11_col0\" class=\"data row11 col0\" >10298</td>\n",
              "      <td id=\"T_483e1_row11_col1\" class=\"data row11 col1\" >1999-09-19</td>\n",
              "      <td id=\"T_483e1_row11_col2\" class=\"data row11 col2\" >Lantern</td>\n",
              "      <td id=\"T_483e1_row11_col3\" class=\"data row11 col3\" >2</td>\n",
              "      <td id=\"T_483e1_row11_col4\" class=\"data row11 col4\" >29.00</td>\n",
              "    </tr>\n",
              "    <tr>\n",
              "      <td id=\"T_483e1_row12_col0\" class=\"data row12 col0\" >10410</td>\n",
              "      <td id=\"T_483e1_row12_col1\" class=\"data row12 col1\" >1999-10-28</td>\n",
              "      <td id=\"T_483e1_row12_col2\" class=\"data row12 col2\" >Sleeping Bag</td>\n",
              "      <td id=\"T_483e1_row12_col3\" class=\"data row12 col3\" >1</td>\n",
              "      <td id=\"T_483e1_row12_col4\" class=\"data row12 col4\" >89.22</td>\n",
              "    </tr>\n",
              "    <tr>\n",
              "      <td id=\"T_483e1_row13_col0\" class=\"data row13 col0\" >10438</td>\n",
              "      <td id=\"T_483e1_row13_col1\" class=\"data row13 col1\" >1999-11-01</td>\n",
              "      <td id=\"T_483e1_row13_col2\" class=\"data row13 col2\" >Umbrella</td>\n",
              "      <td id=\"T_483e1_row13_col3\" class=\"data row13 col3\" >1</td>\n",
              "      <td id=\"T_483e1_row13_col4\" class=\"data row13 col4\" >6.75</td>\n",
              "    </tr>\n",
              "    <tr>\n",
              "      <td id=\"T_483e1_row14_col0\" class=\"data row14 col0\" >10438</td>\n",
              "      <td id=\"T_483e1_row14_col1\" class=\"data row14 col1\" >1999-11-02</td>\n",
              "      <td id=\"T_483e1_row14_col2\" class=\"data row14 col2\" >Pillow</td>\n",
              "      <td id=\"T_483e1_row14_col3\" class=\"data row14 col3\" >1</td>\n",
              "      <td id=\"T_483e1_row14_col4\" class=\"data row14 col4\" >8.50</td>\n",
              "    </tr>\n",
              "    <tr>\n",
              "      <td id=\"T_483e1_row15_col0\" class=\"data row15 col0\" >10298</td>\n",
              "      <td id=\"T_483e1_row15_col1\" class=\"data row15 col1\" >1999-12-01</td>\n",
              "      <td id=\"T_483e1_row15_col2\" class=\"data row15 col2\" >Helmet</td>\n",
              "      <td id=\"T_483e1_row15_col3\" class=\"data row15 col3\" >1</td>\n",
              "      <td id=\"T_483e1_row15_col4\" class=\"data row15 col4\" >22.00</td>\n",
              "    </tr>\n",
              "    <tr>\n",
              "      <td id=\"T_483e1_row16_col0\" class=\"data row16 col0\" >10449</td>\n",
              "      <td id=\"T_483e1_row16_col1\" class=\"data row16 col1\" >1999-12-15</td>\n",
              "      <td id=\"T_483e1_row16_col2\" class=\"data row16 col2\" >Bicycle</td>\n",
              "      <td id=\"T_483e1_row16_col3\" class=\"data row16 col3\" >1</td>\n",
              "      <td id=\"T_483e1_row16_col4\" class=\"data row16 col4\" >380.50</td>\n",
              "    </tr>\n",
              "    <tr>\n",
              "      <td id=\"T_483e1_row17_col0\" class=\"data row17 col0\" >10449</td>\n",
              "      <td id=\"T_483e1_row17_col1\" class=\"data row17 col1\" >1999-12-22</td>\n",
              "      <td id=\"T_483e1_row17_col2\" class=\"data row17 col2\" >Canoe</td>\n",
              "      <td id=\"T_483e1_row17_col3\" class=\"data row17 col3\" >1</td>\n",
              "      <td id=\"T_483e1_row17_col4\" class=\"data row17 col4\" >280.00</td>\n",
              "    </tr>\n",
              "    <tr>\n",
              "      <td id=\"T_483e1_row18_col0\" class=\"data row18 col0\" >10101</td>\n",
              "      <td id=\"T_483e1_row18_col1\" class=\"data row18 col1\" >1999-12-30</td>\n",
              "      <td id=\"T_483e1_row18_col2\" class=\"data row18 col2\" >Hoola Hoop</td>\n",
              "      <td id=\"T_483e1_row18_col3\" class=\"data row18 col3\" >3</td>\n",
              "      <td id=\"T_483e1_row18_col4\" class=\"data row18 col4\" >14.75</td>\n",
              "    </tr>\n",
              "    <tr>\n",
              "      <td id=\"T_483e1_row19_col0\" class=\"data row19 col0\" >10330</td>\n",
              "      <td id=\"T_483e1_row19_col1\" class=\"data row19 col1\" >2000-01-01</td>\n",
              "      <td id=\"T_483e1_row19_col2\" class=\"data row19 col2\" >Flashlight</td>\n",
              "      <td id=\"T_483e1_row19_col3\" class=\"data row19 col3\" >4</td>\n",
              "      <td id=\"T_483e1_row19_col4\" class=\"data row19 col4\" >28.00</td>\n",
              "    </tr>\n",
              "    <tr>\n",
              "      <td id=\"T_483e1_row20_col0\" class=\"data row20 col0\" >10101</td>\n",
              "      <td id=\"T_483e1_row20_col1\" class=\"data row20 col1\" >2000-01-02</td>\n",
              "      <td id=\"T_483e1_row20_col2\" class=\"data row20 col2\" >Lantern</td>\n",
              "      <td id=\"T_483e1_row20_col3\" class=\"data row20 col3\" >1</td>\n",
              "      <td id=\"T_483e1_row20_col4\" class=\"data row20 col4\" >16.00</td>\n",
              "    </tr>\n",
              "    <tr>\n",
              "      <td id=\"T_483e1_row21_col0\" class=\"data row21 col0\" >10299</td>\n",
              "      <td id=\"T_483e1_row21_col1\" class=\"data row21 col1\" >2000-01-18</td>\n",
              "      <td id=\"T_483e1_row21_col2\" class=\"data row21 col2\" >Inflatable Mattress</td>\n",
              "      <td id=\"T_483e1_row21_col3\" class=\"data row21 col3\" >1</td>\n",
              "      <td id=\"T_483e1_row21_col4\" class=\"data row21 col4\" >38.00</td>\n",
              "    </tr>\n",
              "    <tr>\n",
              "      <td id=\"T_483e1_row22_col0\" class=\"data row22 col0\" >10438</td>\n",
              "      <td id=\"T_483e1_row22_col1\" class=\"data row22 col1\" >2000-01-18</td>\n",
              "      <td id=\"T_483e1_row22_col2\" class=\"data row22 col2\" >Tent</td>\n",
              "      <td id=\"T_483e1_row22_col3\" class=\"data row22 col3\" >1</td>\n",
              "      <td id=\"T_483e1_row22_col4\" class=\"data row22 col4\" >79.99</td>\n",
              "    </tr>\n",
              "    <tr>\n",
              "      <td id=\"T_483e1_row23_col0\" class=\"data row23 col0\" >10413</td>\n",
              "      <td id=\"T_483e1_row23_col1\" class=\"data row23 col1\" >2000-01-19</td>\n",
              "      <td id=\"T_483e1_row23_col2\" class=\"data row23 col2\" >Lawnchair</td>\n",
              "      <td id=\"T_483e1_row23_col3\" class=\"data row23 col3\" >4</td>\n",
              "      <td id=\"T_483e1_row23_col4\" class=\"data row23 col4\" >32.00</td>\n",
              "    </tr>\n",
              "    <tr>\n",
              "      <td id=\"T_483e1_row24_col0\" class=\"data row24 col0\" >10410</td>\n",
              "      <td id=\"T_483e1_row24_col1\" class=\"data row24 col1\" >2000-01-30</td>\n",
              "      <td id=\"T_483e1_row24_col2\" class=\"data row24 col2\" >Unicycle</td>\n",
              "      <td id=\"T_483e1_row24_col3\" class=\"data row24 col3\" >1</td>\n",
              "      <td id=\"T_483e1_row24_col4\" class=\"data row24 col4\" >192.50</td>\n",
              "    </tr>\n",
              "    <tr>\n",
              "      <td id=\"T_483e1_row25_col0\" class=\"data row25 col0\" >10315</td>\n",
              "      <td id=\"T_483e1_row25_col1\" class=\"data row25 col1\" >2000-02-02</td>\n",
              "      <td id=\"T_483e1_row25_col2\" class=\"data row25 col2\" >Compass</td>\n",
              "      <td id=\"T_483e1_row25_col3\" class=\"data row25 col3\" >1</td>\n",
              "      <td id=\"T_483e1_row25_col4\" class=\"data row25 col4\" >8.00</td>\n",
              "    </tr>\n",
              "    <tr>\n",
              "      <td id=\"T_483e1_row26_col0\" class=\"data row26 col0\" >10449</td>\n",
              "      <td id=\"T_483e1_row26_col1\" class=\"data row26 col1\" >2000-02-29</td>\n",
              "      <td id=\"T_483e1_row26_col2\" class=\"data row26 col2\" >Flashlight</td>\n",
              "      <td id=\"T_483e1_row26_col3\" class=\"data row26 col3\" >1</td>\n",
              "      <td id=\"T_483e1_row26_col4\" class=\"data row26 col4\" >4.50</td>\n",
              "    </tr>\n",
              "    <tr>\n",
              "      <td id=\"T_483e1_row27_col0\" class=\"data row27 col0\" >10101</td>\n",
              "      <td id=\"T_483e1_row27_col1\" class=\"data row27 col1\" >2000-03-08</td>\n",
              "      <td id=\"T_483e1_row27_col2\" class=\"data row27 col2\" >Sleeping Bag</td>\n",
              "      <td id=\"T_483e1_row27_col3\" class=\"data row27 col3\" >2</td>\n",
              "      <td id=\"T_483e1_row27_col4\" class=\"data row27 col4\" >88.70</td>\n",
              "    </tr>\n",
              "    <tr>\n",
              "      <td id=\"T_483e1_row28_col0\" class=\"data row28 col0\" >10298</td>\n",
              "      <td id=\"T_483e1_row28_col1\" class=\"data row28 col1\" >2000-03-18</td>\n",
              "      <td id=\"T_483e1_row28_col2\" class=\"data row28 col2\" >Pocket Knife</td>\n",
              "      <td id=\"T_483e1_row28_col3\" class=\"data row28 col3\" >1</td>\n",
              "      <td id=\"T_483e1_row28_col4\" class=\"data row28 col4\" >22.38</td>\n",
              "    </tr>\n",
              "    <tr>\n",
              "      <td id=\"T_483e1_row29_col0\" class=\"data row29 col0\" >10449</td>\n",
              "      <td id=\"T_483e1_row29_col1\" class=\"data row29 col1\" >2000-03-19</td>\n",
              "      <td id=\"T_483e1_row29_col2\" class=\"data row29 col2\" >Canoe paddle</td>\n",
              "      <td id=\"T_483e1_row29_col3\" class=\"data row29 col3\" >2</td>\n",
              "      <td id=\"T_483e1_row29_col4\" class=\"data row29 col4\" >40.00</td>\n",
              "    </tr>\n",
              "    <tr>\n",
              "      <td id=\"T_483e1_row30_col0\" class=\"data row30 col0\" >10298</td>\n",
              "      <td id=\"T_483e1_row30_col1\" class=\"data row30 col1\" >2000-04-01</td>\n",
              "      <td id=\"T_483e1_row30_col2\" class=\"data row30 col2\" >Ear Muffs</td>\n",
              "      <td id=\"T_483e1_row30_col3\" class=\"data row30 col3\" >1</td>\n",
              "      <td id=\"T_483e1_row30_col4\" class=\"data row30 col4\" >12.50</td>\n",
              "    </tr>\n",
              "    <tr>\n",
              "      <td id=\"T_483e1_row31_col0\" class=\"data row31 col0\" >10330</td>\n",
              "      <td id=\"T_483e1_row31_col1\" class=\"data row31 col1\" >2000-04-19</td>\n",
              "      <td id=\"T_483e1_row31_col2\" class=\"data row31 col2\" >Shovel</td>\n",
              "      <td id=\"T_483e1_row31_col3\" class=\"data row31 col3\" >1</td>\n",
              "      <td id=\"T_483e1_row31_col4\" class=\"data row31 col4\" >16.75</td>\n",
              "    </tr>\n",
              "  </tbody>\n",
              "</table>\n"
            ]
          },
          "metadata": {},
          "execution_count": 18
        }
      ]
    },
    {
      "cell_type": "markdown",
      "source": [
        "#Chronobooks <br>\n",
        "Two science fiction novels by Prithwis Mukerjee. A dystopian Earth. A technocratic society managed by artificial intelligence. Escape and epiphany on Mars. Can man and machine, carbon and silicon explore and escape into other dimensions of existence? An Indic perspective rooted in Advaita Vedanta and the Divine Feminine.  [More information](http://bit.ly/chronobooks) <br>\n",
        "![alt text](https://github.com/Praxis-QR/RDWH/raw/main/images/CTCYFooter-1.png)"
      ],
      "metadata": {
        "id": "_gNiZpyW3AzJ"
      }
    },
    {
      "cell_type": "code",
      "source": [
        "from datetime import datetime\n",
        "import pytz\n",
        "print('Last tested  ',datetime.now(pytz.timezone('Asia/Kolkata')))"
      ],
      "metadata": {
        "colab": {
          "base_uri": "https://localhost:8080/"
        },
        "id": "wjBXJVhM605H",
        "outputId": "c6418f4a-db57-43d1-8b6d-30d5ba2731f4"
      },
      "execution_count": null,
      "outputs": [
        {
          "output_type": "stream",
          "name": "stdout",
          "text": [
            "Last tested   2023-12-31 16:01:25.642107+05:30\n"
          ]
        }
      ]
    }
  ]
}