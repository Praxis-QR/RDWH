{
  "nbformat": 4,
  "nbformat_minor": 0,
  "metadata": {
    "colab": {
      "provenance": [],
      "toc_visible": true,
      "include_colab_link": true
    },
    "kernelspec": {
      "name": "python3",
      "display_name": "Python 3"
    },
    "language_info": {
      "name": "python"
    }
  },
  "cells": [
    {
      "cell_type": "markdown",
      "metadata": {
        "id": "view-in-github",
        "colab_type": "text"
      },
      "source": [
        "<a href=\"https://colab.research.google.com/github/Praxis-QR/RDWH/blob/main/PostgreSQL_02B_JSON.ipynb\" target=\"_parent\"><img src=\"https://colab.research.google.com/assets/colab-badge.svg\" alt=\"Open In Colab\"/></a>"
      ]
    },
    {
      "cell_type": "markdown",
      "source": [
        "![alt text](https://github.com/Praxis-QR/RDWH/raw/main/images/YantraJaalBanner.png)<br>\n",
        "\n",
        "\n",
        "<hr>\n",
        "\n",
        "[Prithwis Mukerjee](http://www.linkedin.com/in/prithwis)<br>"
      ],
      "metadata": {
        "id": "DBzz-qaN2tKu"
      }
    },
    {
      "cell_type": "markdown",
      "source": [
        "#Install, Configure Local Database"
      ],
      "metadata": {
        "id": "nD-QawLT6kDr"
      }
    },
    {
      "cell_type": "code",
      "source": [
        "# Install postgresql server\n",
        "\n",
        "!apt update > /dev/null\n",
        "!apt install postgresql > /dev/null\n",
        "#!pip install psycopg2\n",
        "import psycopg2\n",
        "import pandas as pd\n",
        "pd.set_option('display.max_colwidth', 500)\n",
        "#!sudo -u postgres psql -V\n",
        "!psql -V\n",
        "!service postgresql start"
      ],
      "metadata": {
        "colab": {
          "base_uri": "https://localhost:8080/"
        },
        "id": "o_RaqE0OOHP3",
        "outputId": "7909ae90-6cc4-4272-d621-7a313fd76968"
      },
      "execution_count": 1,
      "outputs": [
        {
          "output_type": "stream",
          "name": "stdout",
          "text": [
            "\n",
            "WARNING: apt does not have a stable CLI interface. Use with caution in scripts.\n",
            "\n",
            "\n",
            "WARNING: apt does not have a stable CLI interface. Use with caution in scripts.\n",
            "\n",
            "psql (PostgreSQL) 14.10 (Ubuntu 14.10-0ubuntu0.22.04.1)\n",
            " * Starting PostgreSQL 14 database server\n",
            "   ...done.\n"
          ]
        }
      ]
    },
    {
      "cell_type": "markdown",
      "source": [
        "## Local Configuration"
      ],
      "metadata": {
        "id": "--pn1fPO6ndu"
      }
    },
    {
      "cell_type": "code",
      "source": [
        "# This has created an Ubuntu user 'postgres' AND a Postgres database user 'postgres' both of which are superusers\n",
        "#!cat /etc/passwd\n",
        "# Use these users to create a new database user called 'upraxis' and give it a password 'upass'\n",
        "#!sudo -u postgres createuser --superuser upraxis\n",
        "!sudo -u postgres createuser upraxis\n",
        "!sudo -u postgres psql -U postgres -c \"ALTER USER upraxis PASSWORD 'upass';\"\n",
        "# Change the database superuser 'postgres' to a non-default value 'pass'\n",
        "!sudo -u postgres psql -U postgres -c \"ALTER USER postgres PASSWORD 'pass';\"\n",
        "# Use ubuntu superuser to create database dbpraxis and set its owner to upraxis\n",
        "!sudo -u postgres createdb -O upraxis dbpraxis\n",
        "# Create file to store the password. Else will be prompted each time\n",
        "#!echo \"localhost:5432:praxisdb:postgres:pass\" > ~/.pgpass\n",
        "!echo \"localhost:5432:dbpraxis:upraxis:upass\" > ~/.pgpass\n",
        "!echo \"localhost:5432:dbpraxis:postgres:pass\" >> ~/.pgpass\n",
        "!chmod 0600 ~/.pgpass\n",
        "!cat ~/.pgpass\n"
      ],
      "metadata": {
        "colab": {
          "base_uri": "https://localhost:8080/"
        },
        "id": "xr5kHaY_U4CZ",
        "outputId": "572ba63f-1919-4460-e080-84c1d95e8cb3"
      },
      "execution_count": 2,
      "outputs": [
        {
          "output_type": "stream",
          "name": "stdout",
          "text": [
            "ALTER ROLE\n",
            "ALTER ROLE\n",
            "localhost:5432:dbpraxis:upraxis:upass\n",
            "localhost:5432:dbpraxis:postgres:pass\n"
          ]
        }
      ]
    },
    {
      "cell_type": "code",
      "source": [
        "# Local Colab server\n",
        "\n",
        "conn = psycopg2.connect(database=\"dbpraxis\", user='upraxis', password='upass', host='127.0.0.1', port= '5432')\n",
        "#Creating a cursor object using the cursor() method\n",
        "cursor = conn.cursor()\n",
        "#Executing an MYSQL function using the execute() method\n",
        "cursor.execute(\"select version()\")\n",
        "# Fetch a single row using fetchone() method.\n",
        "data = cursor.fetchone()\n",
        "print(\"Connection established to: \",data)\n",
        "#Closing the connection\n",
        "conn.close()"
      ],
      "metadata": {
        "colab": {
          "base_uri": "https://localhost:8080/"
        },
        "id": "HPGLhVCx3kFz",
        "outputId": "bdef8fb0-08d5-4f37-f232-3660ec1e4bc1"
      },
      "execution_count": 3,
      "outputs": [
        {
          "output_type": "stream",
          "name": "stdout",
          "text": [
            "Connection established to:  ('PostgreSQL 14.10 (Ubuntu 14.10-0ubuntu0.22.04.1) on x86_64-pc-linux-gnu, compiled by gcc (Ubuntu 11.4.0-1ubuntu1~22.04) 11.4.0, 64-bit',)\n"
          ]
        }
      ]
    },
    {
      "cell_type": "code",
      "source": [
        "def runSelect(s):\n",
        "    #Set up connection\n",
        "\n",
        "    conn = psycopg2.connect(database=\"dbpraxis\", user='upraxis', password='upass', host='127.0.0.1', port= '5432')\n",
        "    #Setting auto commit true\n",
        "    conn.autocommit = True\n",
        "    #Creating a cursor object using the cursor() method\n",
        "    cursor = conn.cursor()\n",
        "    #Retrieving data\n",
        "    cursor.execute(s)\n",
        "    #Fetching all rows from the table\n",
        "    result = cursor.fetchall();\n",
        "    #print(len(result))\n",
        "    if (len(result)) > 0:                                       # result contains at least one row\n",
        "        colnames = [desc[0] for desc in cursor.description]     # get column names\n",
        "        #print(colnames)\n",
        "        resultdf = pd.DataFrame(result)                         # convert list to dataframe\n",
        "        resultdf.columns = colnames                             # add column names\n",
        "        #return resultdf\n",
        "        return resultdf.style.hide()                            # hide the index\n",
        "    else:\n",
        "        print('no records found')\n",
        "        return\n",
        "# function to execute SQL non-select statements with Postgres\n",
        "#\n",
        "def runCmd(s):\n",
        "    #Create Connection\n",
        "    conn = psycopg2.connect(database=\"dbpraxis\", user='upraxis', password='upass', host='127.0.0.1', port= '5432')\n",
        "    #Creating a cursor object using the cursor() method\n",
        "    cursor = conn.cursor()\n",
        "    try:\n",
        "        cursor.execute(s)\n",
        "        print('Command executed')\n",
        "        conn.commit()\n",
        "    except:\n",
        "        print('Command failed')\n",
        "    #Closing the connection\n",
        "    conn.close()"
      ],
      "metadata": {
        "id": "JPWZ3Q1Y3x66"
      },
      "execution_count": 4,
      "outputs": []
    },
    {
      "cell_type": "markdown",
      "source": [
        "#Local Database"
      ],
      "metadata": {
        "id": "pHTdNzrU6qUE"
      }
    },
    {
      "cell_type": "markdown",
      "source": [
        "## Create Tables"
      ],
      "metadata": {
        "id": "uo61Cp0oaPHL"
      }
    },
    {
      "cell_type": "code",
      "source": [
        "!psql -h localhost -p 5432 -Uupraxis -d dbpraxis -c 'drop schema if exists js cascade'\n",
        "!psql -h localhost -p 5432 -Uupraxis -d dbpraxis -c 'create schema if not exists js'\n",
        "!psql -h localhost -p 5432 -Uupraxis -d dbpraxis -c '\\dn+'\n",
        "!psql -h localhost -p 5432 -Uupraxis -d dbpraxis -c 'drop table if exists js.orders'\n",
        "!psql -h localhost -p 5432 -Uupraxis -ddbpraxis -c '\\\n",
        "CREATE TABLE js.orders ( \\\n",
        "\tid serial NOT NULL PRIMARY KEY, \\\n",
        "\tinfo jsonb NOT NULL \\\n",
        ");'\n",
        "\n",
        "#Describe the table ss_order\n",
        "!psql -h localhost -p 5432 -Uupraxis -ddbpraxis -c '\\d+ js.orders'"
      ],
      "metadata": {
        "colab": {
          "base_uri": "https://localhost:8080/"
        },
        "id": "DsUZ9JlEXIir",
        "outputId": "b307a3fa-5993-4c9c-cd48-faa11def5073"
      },
      "execution_count": 5,
      "outputs": [
        {
          "output_type": "stream",
          "name": "stdout",
          "text": [
            "NOTICE:  schema \"js\" does not exist, skipping\n",
            "DROP SCHEMA\n",
            "CREATE SCHEMA\n",
            "                          List of schemas\n",
            "  Name  |  Owner   |  Access privileges   |      Description       \n",
            "--------+----------+----------------------+------------------------\n",
            " js     | upraxis  |                      | \n",
            " public | postgres | postgres=UC/postgres+| standard public schema\n",
            "        |          | =UC/postgres         | \n",
            "(2 rows)\n",
            "\n",
            "NOTICE:  table \"orders\" does not exist, skipping\n",
            "DROP TABLE\n",
            "CREATE TABLE\n",
            "                                                           Table \"js.orders\"\n",
            " Column |  Type   | Collation | Nullable |                Default                | Storage  | Compression | Stats target | Description \n",
            "--------+---------+-----------+----------+---------------------------------------+----------+-------------+--------------+-------------\n",
            " id     | integer |           | not null | nextval('js.orders_id_seq'::regclass) | plain    |             |              | \n",
            " info   | jsonb   |           | not null |                                       | extended |             |              | \n",
            "Indexes:\n",
            "    \"orders_pkey\" PRIMARY KEY, btree (id)\n",
            "Access method: heap\n",
            "\n"
          ]
        }
      ]
    },
    {
      "cell_type": "markdown",
      "source": [
        "## Load Data - Insert Option"
      ],
      "metadata": {
        "id": "9_OLx3qk_7qR"
      }
    },
    {
      "cell_type": "code",
      "source": [
        "cmd = \"\"\"INSERT INTO js.orders (info) VALUES('{ \"customer\": \"Kapil Dev\", \"items\": {\"product\": \"Heineken\",\"qty\": 6}}');\"\"\"\n",
        "#print(cmd)\n",
        "runCmd(cmd)\n",
        "runSelect('select * from js.orders')"
      ],
      "metadata": {
        "colab": {
          "base_uri": "https://localhost:8080/",
          "height": 98
        },
        "id": "3D-ExkhJgi6R",
        "outputId": "99573297-9893-4798-f872-515fc69b1d2b"
      },
      "execution_count": 6,
      "outputs": [
        {
          "output_type": "stream",
          "name": "stdout",
          "text": [
            "Command executed\n"
          ]
        },
        {
          "output_type": "execute_result",
          "data": {
            "text/plain": [
              "<pandas.io.formats.style.Styler at 0x7f7a01acfc40>"
            ],
            "text/html": [
              "<style type=\"text/css\">\n",
              "</style>\n",
              "<table id=\"T_9c201\" class=\"dataframe\">\n",
              "  <thead>\n",
              "    <tr>\n",
              "      <th id=\"T_9c201_level0_col0\" class=\"col_heading level0 col0\" >id</th>\n",
              "      <th id=\"T_9c201_level0_col1\" class=\"col_heading level0 col1\" >info</th>\n",
              "    </tr>\n",
              "  </thead>\n",
              "  <tbody>\n",
              "    <tr>\n",
              "      <td id=\"T_9c201_row0_col0\" class=\"data row0 col0\" >1</td>\n",
              "      <td id=\"T_9c201_row0_col1\" class=\"data row0 col1\" >{'items': {'qty': 6, 'product': 'Heineken'}, 'customer': 'Kapil Dev'}</td>\n",
              "    </tr>\n",
              "  </tbody>\n",
              "</table>\n"
            ]
          },
          "metadata": {},
          "execution_count": 6
        }
      ]
    },
    {
      "cell_type": "code",
      "source": [
        "cmd = \"\"\"INSERT INTO js.orders (info) \\\n",
        "VALUES('{ \"customer\": \"Rekha Ganesan\", \"items\": {\"product\": \"Carlsberg\",\"qty\": 24}}'), \\\n",
        "      ('{ \"customer\": \"Madhuri Dikshit\", \"items\": {\"product\": \"Kalyani\",\"qty\": 12}}'), \\\n",
        "      ('{ \"customer\": \"Farokh Engineer\", \"items\": {\"product\": \"Kalyani Black\",\"qty\": 12}}'); \\\n",
        "\"\"\"\n",
        "#print(cmd)\n",
        "runCmd(cmd)\n",
        "runSelect('select * from js.orders')"
      ],
      "metadata": {
        "colab": {
          "base_uri": "https://localhost:8080/",
          "height": 192
        },
        "id": "-8nyu7XsjhXW",
        "outputId": "32eb309f-b3eb-47e3-ccf0-391c812e0eac"
      },
      "execution_count": 7,
      "outputs": [
        {
          "output_type": "stream",
          "name": "stdout",
          "text": [
            "Command executed\n"
          ]
        },
        {
          "output_type": "execute_result",
          "data": {
            "text/plain": [
              "<pandas.io.formats.style.Styler at 0x7f7a01ace7d0>"
            ],
            "text/html": [
              "<style type=\"text/css\">\n",
              "</style>\n",
              "<table id=\"T_2151b\" class=\"dataframe\">\n",
              "  <thead>\n",
              "    <tr>\n",
              "      <th id=\"T_2151b_level0_col0\" class=\"col_heading level0 col0\" >id</th>\n",
              "      <th id=\"T_2151b_level0_col1\" class=\"col_heading level0 col1\" >info</th>\n",
              "    </tr>\n",
              "  </thead>\n",
              "  <tbody>\n",
              "    <tr>\n",
              "      <td id=\"T_2151b_row0_col0\" class=\"data row0 col0\" >1</td>\n",
              "      <td id=\"T_2151b_row0_col1\" class=\"data row0 col1\" >{'items': {'qty': 6, 'product': 'Heineken'}, 'customer': 'Kapil Dev'}</td>\n",
              "    </tr>\n",
              "    <tr>\n",
              "      <td id=\"T_2151b_row1_col0\" class=\"data row1 col0\" >2</td>\n",
              "      <td id=\"T_2151b_row1_col1\" class=\"data row1 col1\" >{'items': {'qty': 24, 'product': 'Carlsberg'}, 'customer': 'Rekha Ganesan'}</td>\n",
              "    </tr>\n",
              "    <tr>\n",
              "      <td id=\"T_2151b_row2_col0\" class=\"data row2 col0\" >3</td>\n",
              "      <td id=\"T_2151b_row2_col1\" class=\"data row2 col1\" >{'items': {'qty': 12, 'product': 'Kalyani'}, 'customer': 'Madhuri Dikshit'}</td>\n",
              "    </tr>\n",
              "    <tr>\n",
              "      <td id=\"T_2151b_row3_col0\" class=\"data row3 col0\" >4</td>\n",
              "      <td id=\"T_2151b_row3_col1\" class=\"data row3 col1\" >{'items': {'qty': 12, 'product': 'Kalyani Black'}, 'customer': 'Farokh Engineer'}</td>\n",
              "    </tr>\n",
              "  </tbody>\n",
              "</table>\n"
            ]
          },
          "metadata": {},
          "execution_count": 7
        }
      ]
    },
    {
      "cell_type": "code",
      "source": [
        "cmd = \"\"\"\\\n",
        "INSERT INTO js.orders (info) \\\n",
        "VALUES('{   \"customer\": \"Saina Nehwal\", \\\n",
        "            \"items\": [\\\n",
        "                {\"product\": \"Bira91\",\"qty\": 6}, \\\n",
        "                {\"product\": \"Kingfisher Light\",\"qty\": 6} \\\n",
        "            ] \\\n",
        "        }');\\\n",
        "\"\"\"\n",
        "#print(cmd)\n",
        "runCmd(cmd)\n",
        "runSelect('select * from js.orders')"
      ],
      "metadata": {
        "colab": {
          "base_uri": "https://localhost:8080/",
          "height": 224
        },
        "id": "0L9VSMnApDm3",
        "outputId": "e949d223-0c23-4863-acfa-8f210da4447c"
      },
      "execution_count": 8,
      "outputs": [
        {
          "output_type": "stream",
          "name": "stdout",
          "text": [
            "Command executed\n"
          ]
        },
        {
          "output_type": "execute_result",
          "data": {
            "text/plain": [
              "<pandas.io.formats.style.Styler at 0x7f7a3c3bfeb0>"
            ],
            "text/html": [
              "<style type=\"text/css\">\n",
              "</style>\n",
              "<table id=\"T_6e942\" class=\"dataframe\">\n",
              "  <thead>\n",
              "    <tr>\n",
              "      <th id=\"T_6e942_level0_col0\" class=\"col_heading level0 col0\" >id</th>\n",
              "      <th id=\"T_6e942_level0_col1\" class=\"col_heading level0 col1\" >info</th>\n",
              "    </tr>\n",
              "  </thead>\n",
              "  <tbody>\n",
              "    <tr>\n",
              "      <td id=\"T_6e942_row0_col0\" class=\"data row0 col0\" >1</td>\n",
              "      <td id=\"T_6e942_row0_col1\" class=\"data row0 col1\" >{'items': {'qty': 6, 'product': 'Heineken'}, 'customer': 'Kapil Dev'}</td>\n",
              "    </tr>\n",
              "    <tr>\n",
              "      <td id=\"T_6e942_row1_col0\" class=\"data row1 col0\" >2</td>\n",
              "      <td id=\"T_6e942_row1_col1\" class=\"data row1 col1\" >{'items': {'qty': 24, 'product': 'Carlsberg'}, 'customer': 'Rekha Ganesan'}</td>\n",
              "    </tr>\n",
              "    <tr>\n",
              "      <td id=\"T_6e942_row2_col0\" class=\"data row2 col0\" >3</td>\n",
              "      <td id=\"T_6e942_row2_col1\" class=\"data row2 col1\" >{'items': {'qty': 12, 'product': 'Kalyani'}, 'customer': 'Madhuri Dikshit'}</td>\n",
              "    </tr>\n",
              "    <tr>\n",
              "      <td id=\"T_6e942_row3_col0\" class=\"data row3 col0\" >4</td>\n",
              "      <td id=\"T_6e942_row3_col1\" class=\"data row3 col1\" >{'items': {'qty': 12, 'product': 'Kalyani Black'}, 'customer': 'Farokh Engineer'}</td>\n",
              "    </tr>\n",
              "    <tr>\n",
              "      <td id=\"T_6e942_row4_col0\" class=\"data row4 col0\" >5</td>\n",
              "      <td id=\"T_6e942_row4_col1\" class=\"data row4 col1\" >{'items': [{'qty': 6, 'product': 'Bira91'}, {'qty': 6, 'product': 'Kingfisher Light'}], 'customer': 'Saina Nehwal'}</td>\n",
              "    </tr>\n",
              "  </tbody>\n",
              "</table>\n"
            ]
          },
          "metadata": {},
          "execution_count": 8
        }
      ]
    },
    {
      "cell_type": "markdown",
      "source": [
        "## Load Data - Copy Option"
      ],
      "metadata": {
        "id": "5m94A6FmACUd"
      }
    },
    {
      "cell_type": "code",
      "source": [
        "%%writefile data.json\n",
        "{ \"customer\": \"Kapil Dev\", \"items\": {\"product\": \"Heineken\",\"qty\": 6}}\n",
        "{ \"customer\": \"Rekha Ganesan\", \"items\": {\"product\": \"Carlsberg\",\"qty\": 24}}\n",
        "{ \"customer\": \"Madhuri Dikshit\", \"items\": {\"product\": \"Kalyani\",\"qty\": 12}}\n",
        "{ \"customer\": \"Farokh Engineer\", \"items\": {\"product\": \"Kalyani Black\",\"qty\": 12}}"
      ],
      "metadata": {
        "colab": {
          "base_uri": "https://localhost:8080/"
        },
        "id": "-x331d2p7QJA",
        "outputId": "b1ed80d0-448a-4eda-abec-fc5e8a645b66"
      },
      "execution_count": 9,
      "outputs": [
        {
          "output_type": "stream",
          "name": "stdout",
          "text": [
            "Writing data.json\n"
          ]
        }
      ]
    },
    {
      "cell_type": "code",
      "source": [
        "#!cat data.json"
      ],
      "metadata": {
        "id": "9Ui5FZtE7W0X"
      },
      "execution_count": 10,
      "outputs": []
    },
    {
      "cell_type": "code",
      "source": [
        "# Only superuser ('postgres') can use copy command, not even database owner ('upraxis')\n",
        "# 'postgres' password has to be entered manually\n",
        "#\n",
        "!psql -h localhost -p 5432 -Upostgres -ddbpraxis -c \"truncate js.orders ;\"\n",
        "!psql -h localhost -p 5432 -Upostgres -ddbpraxis -c \"COPY js.orders(info) FROM '/content/data.json' ;\"\n",
        "#!psql -h localhost -p 5432 -Upostgres -ddbpraxis -c \"COPY empl FROM '/content/emp.csv' DELIMITER ',' CSV HEADER;\""
      ],
      "metadata": {
        "id": "tkt8-kUhAgzA",
        "outputId": "f1d23511-fac2-4bba-86ae-2fb0e3d0569a",
        "colab": {
          "base_uri": "https://localhost:8080/"
        }
      },
      "execution_count": 11,
      "outputs": [
        {
          "output_type": "stream",
          "name": "stdout",
          "text": [
            "TRUNCATE TABLE\n",
            "COPY 4\n"
          ]
        }
      ]
    },
    {
      "cell_type": "code",
      "source": [
        "# Data deleted by serial number NOT reset\n",
        "runSelect('select * from js.orders')"
      ],
      "metadata": {
        "colab": {
          "base_uri": "https://localhost:8080/",
          "height": 175
        },
        "id": "1JOkxOYB8rR7",
        "outputId": "93a6eba2-3a78-42ef-be3c-be25b517014c"
      },
      "execution_count": 12,
      "outputs": [
        {
          "output_type": "execute_result",
          "data": {
            "text/plain": [
              "<pandas.io.formats.style.Styler at 0x7f7a3c45f0a0>"
            ],
            "text/html": [
              "<style type=\"text/css\">\n",
              "</style>\n",
              "<table id=\"T_0aaab\" class=\"dataframe\">\n",
              "  <thead>\n",
              "    <tr>\n",
              "      <th id=\"T_0aaab_level0_col0\" class=\"col_heading level0 col0\" >id</th>\n",
              "      <th id=\"T_0aaab_level0_col1\" class=\"col_heading level0 col1\" >info</th>\n",
              "    </tr>\n",
              "  </thead>\n",
              "  <tbody>\n",
              "    <tr>\n",
              "      <td id=\"T_0aaab_row0_col0\" class=\"data row0 col0\" >6</td>\n",
              "      <td id=\"T_0aaab_row0_col1\" class=\"data row0 col1\" >{'items': {'qty': 6, 'product': 'Heineken'}, 'customer': 'Kapil Dev'}</td>\n",
              "    </tr>\n",
              "    <tr>\n",
              "      <td id=\"T_0aaab_row1_col0\" class=\"data row1 col0\" >7</td>\n",
              "      <td id=\"T_0aaab_row1_col1\" class=\"data row1 col1\" >{'items': {'qty': 24, 'product': 'Carlsberg'}, 'customer': 'Rekha Ganesan'}</td>\n",
              "    </tr>\n",
              "    <tr>\n",
              "      <td id=\"T_0aaab_row2_col0\" class=\"data row2 col0\" >8</td>\n",
              "      <td id=\"T_0aaab_row2_col1\" class=\"data row2 col1\" >{'items': {'qty': 12, 'product': 'Kalyani'}, 'customer': 'Madhuri Dikshit'}</td>\n",
              "    </tr>\n",
              "    <tr>\n",
              "      <td id=\"T_0aaab_row3_col0\" class=\"data row3 col0\" >9</td>\n",
              "      <td id=\"T_0aaab_row3_col1\" class=\"data row3 col1\" >{'items': {'qty': 12, 'product': 'Kalyani Black'}, 'customer': 'Farokh Engineer'}</td>\n",
              "    </tr>\n",
              "  </tbody>\n",
              "</table>\n"
            ]
          },
          "metadata": {},
          "execution_count": 12
        }
      ]
    },
    {
      "cell_type": "code",
      "source": [
        "%%writefile data.json\n",
        "{ \"customer\": \"Kapil\", \"items\": {\"product\": \"Heineken\",\"qty\": 6}}\n",
        "{ \"customer\": \"Satyen\", \"items\": {\"product\": \"Heineken\",\"qty\": 18}}\n",
        "{ \"customer\": \"Rekha\", \"items\": {\"product\": \"Carlsberg\",\"qty\": 24}}\n",
        "{ \"customer\": \"Madhuri\", \"items\": {\"product\": \"Kalyani\",\"qty\": 12}}\n",
        "{ \"customer\": \"Srinivas\", \"items\": {\"product\": \"Kingfisher Strong\",\"qty\": 12}}\n",
        "{ \"customer\": \"Saina\", \"items\": [{\"product\": \"Bira91\",\"qty\": 6},{\"product\": \"Kalyani\",\"qty\": 6} ]}"
      ],
      "metadata": {
        "colab": {
          "base_uri": "https://localhost:8080/"
        },
        "id": "UYdw6qYP9HBw",
        "outputId": "08268e68-162a-44f3-8d3a-74216fe755d3"
      },
      "execution_count": 13,
      "outputs": [
        {
          "output_type": "stream",
          "name": "stdout",
          "text": [
            "Overwriting data.json\n"
          ]
        }
      ]
    },
    {
      "cell_type": "code",
      "source": [
        "# Only superuser ('postgres') can use copy command, not even database owner ('upraxis')\n",
        "# 'postgres' password has to be entered manually\n",
        "#\n",
        "!psql -h localhost -p 5432 -Upostgres -ddbpraxis -c \"truncate js.orders restart identity;\"\n",
        "!psql -h localhost -p 5432 -Upostgres -ddbpraxis -c \"COPY js.orders(info) FROM '/content/data.json' ;\"\n",
        "#!psql -h localhost -p 5432 -Upostgres -ddbpraxis -c \"COPY empl FROM '/content/emp.csv' DELIMITER ',' CSV HEADER;\""
      ],
      "metadata": {
        "colab": {
          "base_uri": "https://localhost:8080/"
        },
        "id": "-cJbIdvZ9hUa",
        "outputId": "f7dac016-2442-4a55-cb6f-aa66a120ea90"
      },
      "execution_count": 14,
      "outputs": [
        {
          "output_type": "stream",
          "name": "stdout",
          "text": [
            "TRUNCATE TABLE\n",
            "COPY 6\n"
          ]
        }
      ]
    },
    {
      "cell_type": "code",
      "source": [
        "runSelect('select * from js.orders')"
      ],
      "metadata": {
        "colab": {
          "base_uri": "https://localhost:8080/",
          "height": 238
        },
        "id": "Wer761om9oQ_",
        "outputId": "56937350-bcff-43e8-a963-58e9f10f2d62"
      },
      "execution_count": 15,
      "outputs": [
        {
          "output_type": "execute_result",
          "data": {
            "text/plain": [
              "<pandas.io.formats.style.Styler at 0x7f7a01acf0d0>"
            ],
            "text/html": [
              "<style type=\"text/css\">\n",
              "</style>\n",
              "<table id=\"T_98be3\" class=\"dataframe\">\n",
              "  <thead>\n",
              "    <tr>\n",
              "      <th id=\"T_98be3_level0_col0\" class=\"col_heading level0 col0\" >id</th>\n",
              "      <th id=\"T_98be3_level0_col1\" class=\"col_heading level0 col1\" >info</th>\n",
              "    </tr>\n",
              "  </thead>\n",
              "  <tbody>\n",
              "    <tr>\n",
              "      <td id=\"T_98be3_row0_col0\" class=\"data row0 col0\" >1</td>\n",
              "      <td id=\"T_98be3_row0_col1\" class=\"data row0 col1\" >{'items': {'qty': 6, 'product': 'Heineken'}, 'customer': 'Kapil'}</td>\n",
              "    </tr>\n",
              "    <tr>\n",
              "      <td id=\"T_98be3_row1_col0\" class=\"data row1 col0\" >2</td>\n",
              "      <td id=\"T_98be3_row1_col1\" class=\"data row1 col1\" >{'items': {'qty': 18, 'product': 'Heineken'}, 'customer': 'Satyen'}</td>\n",
              "    </tr>\n",
              "    <tr>\n",
              "      <td id=\"T_98be3_row2_col0\" class=\"data row2 col0\" >3</td>\n",
              "      <td id=\"T_98be3_row2_col1\" class=\"data row2 col1\" >{'items': {'qty': 24, 'product': 'Carlsberg'}, 'customer': 'Rekha'}</td>\n",
              "    </tr>\n",
              "    <tr>\n",
              "      <td id=\"T_98be3_row3_col0\" class=\"data row3 col0\" >4</td>\n",
              "      <td id=\"T_98be3_row3_col1\" class=\"data row3 col1\" >{'items': {'qty': 12, 'product': 'Kalyani'}, 'customer': 'Madhuri'}</td>\n",
              "    </tr>\n",
              "    <tr>\n",
              "      <td id=\"T_98be3_row4_col0\" class=\"data row4 col0\" >5</td>\n",
              "      <td id=\"T_98be3_row4_col1\" class=\"data row4 col1\" >{'items': {'qty': 12, 'product': 'Kingfisher Strong'}, 'customer': 'Srinivas'}</td>\n",
              "    </tr>\n",
              "    <tr>\n",
              "      <td id=\"T_98be3_row5_col0\" class=\"data row5 col0\" >6</td>\n",
              "      <td id=\"T_98be3_row5_col1\" class=\"data row5 col1\" >{'items': [{'qty': 6, 'product': 'Bira91'}, {'qty': 6, 'product': 'Kalyani'}], 'customer': 'Saina'}</td>\n",
              "    </tr>\n",
              "  </tbody>\n",
              "</table>\n"
            ]
          },
          "metadata": {},
          "execution_count": 15
        }
      ]
    },
    {
      "cell_type": "markdown",
      "source": [
        "# Access Data"
      ],
      "metadata": {
        "id": "hZscFeNNB1ja"
      }
    },
    {
      "cell_type": "code",
      "source": [
        "#!psql -h localhost -p 5432 -Upostgres -dpraxisdb -c \"select * from dept;\"\n",
        "cmd = \"select * from js.orders;\"\n",
        "!psql -h localhost -p 5432 -Uupraxis -ddbpraxis -c \"$cmd\""
      ],
      "metadata": {
        "colab": {
          "base_uri": "https://localhost:8080/"
        },
        "id": "HyBUhbAI2PV1",
        "outputId": "de68ea0f-5b0c-439e-e9bd-fb7dad3ba895"
      },
      "execution_count": 16,
      "outputs": [
        {
          "output_type": "stream",
          "name": "stdout",
          "text": [
            " id |                                                info                                                 \n",
            "----+-----------------------------------------------------------------------------------------------------\n",
            "  1 | {\"items\": {\"qty\": 6, \"product\": \"Heineken\"}, \"customer\": \"Kapil\"}\n",
            "  2 | {\"items\": {\"qty\": 18, \"product\": \"Heineken\"}, \"customer\": \"Satyen\"}\n",
            "  3 | {\"items\": {\"qty\": 24, \"product\": \"Carlsberg\"}, \"customer\": \"Rekha\"}\n",
            "  4 | {\"items\": {\"qty\": 12, \"product\": \"Kalyani\"}, \"customer\": \"Madhuri\"}\n",
            "  5 | {\"items\": {\"qty\": 12, \"product\": \"Kingfisher Strong\"}, \"customer\": \"Srinivas\"}\n",
            "  6 | {\"items\": [{\"qty\": 6, \"product\": \"Bira91\"}, {\"qty\": 6, \"product\": \"Kalyani\"}], \"customer\": \"Saina\"}\n",
            "(6 rows)\n",
            "\n"
          ]
        }
      ]
    },
    {
      "cell_type": "code",
      "source": [
        "cmd = \"SELECT info ->> 'customer' AS customer FROM js.orders WHERE info -> 'items' ->> 'product' = 'Heineken'; \"\n",
        "#print(cmd)\n",
        "!psql -h localhost -p 5432 -Uupraxis -ddbpraxis -c \"$cmd\""
      ],
      "metadata": {
        "colab": {
          "base_uri": "https://localhost:8080/"
        },
        "id": "XSPFFq4OHRc7",
        "outputId": "eecdc2fe-aa7e-42de-fffd-7437a8da50b9"
      },
      "execution_count": 17,
      "outputs": [
        {
          "output_type": "stream",
          "name": "stdout",
          "text": [
            " customer \n",
            "----------\n",
            " Kapil\n",
            " Satyen\n",
            "(2 rows)\n",
            "\n"
          ]
        }
      ]
    },
    {
      "cell_type": "code",
      "source": [
        "cmd = \"SELECT info ->> 'customer' AS customer FROM js.orders WHERE info -> 'items' ->> 'product' = 'Kalyani'; \"\n",
        "#print(cmd)\n",
        "!psql -h localhost -p 5432 -Uupraxis -ddbpraxis -c \"$cmd\""
      ],
      "metadata": {
        "colab": {
          "base_uri": "https://localhost:8080/"
        },
        "id": "g5uW53rMBixo",
        "outputId": "e2ebff78-b66d-419a-8503-963759acc009"
      },
      "execution_count": 18,
      "outputs": [
        {
          "output_type": "stream",
          "name": "stdout",
          "text": [
            " customer \n",
            "----------\n",
            " Madhuri\n",
            "(1 row)\n",
            "\n"
          ]
        }
      ]
    },
    {
      "cell_type": "code",
      "source": [
        "cmd = \"\"\"SELECT id, info ->> 'customer' AS customer \\\n",
        "FROM   js.orders \\\n",
        "WHERE  info -> 'items' @? 'lax $.product ? (@ == \\\"Kalyani\\\")';\"\"\"\n",
        "print(cmd)\n",
        "#!psql -h localhost -p 5432 -Uupraxis -ddbpraxis -c \"\"\"$cmd\"\"\"\n",
        "runSelect(cmd)"
      ],
      "metadata": {
        "id": "i7b6xVsTtS4y",
        "outputId": "1525aad7-2d38-48c7-bce4-db0e81a5ee15",
        "colab": {
          "base_uri": "https://localhost:8080/",
          "height": 129
        }
      },
      "execution_count": 39,
      "outputs": [
        {
          "output_type": "stream",
          "name": "stdout",
          "text": [
            "SELECT id, info ->> 'customer' AS customer FROM   js.orders WHERE  info -> 'items' @? 'lax $.product ? (@ == \"Kalyani\")';\n"
          ]
        },
        {
          "output_type": "execute_result",
          "data": {
            "text/plain": [
              "<pandas.io.formats.style.Styler at 0x7f7a01a37010>"
            ],
            "text/html": [
              "<style type=\"text/css\">\n",
              "</style>\n",
              "<table id=\"T_42538\" class=\"dataframe\">\n",
              "  <thead>\n",
              "    <tr>\n",
              "      <th id=\"T_42538_level0_col0\" class=\"col_heading level0 col0\" >id</th>\n",
              "      <th id=\"T_42538_level0_col1\" class=\"col_heading level0 col1\" >customer</th>\n",
              "    </tr>\n",
              "  </thead>\n",
              "  <tbody>\n",
              "    <tr>\n",
              "      <td id=\"T_42538_row0_col0\" class=\"data row0 col0\" >4</td>\n",
              "      <td id=\"T_42538_row0_col1\" class=\"data row0 col1\" >Madhuri</td>\n",
              "    </tr>\n",
              "    <tr>\n",
              "      <td id=\"T_42538_row1_col0\" class=\"data row1 col0\" >6</td>\n",
              "      <td id=\"T_42538_row1_col1\" class=\"data row1 col1\" >Saina</td>\n",
              "    </tr>\n",
              "  </tbody>\n",
              "</table>\n"
            ]
          },
          "metadata": {},
          "execution_count": 39
        }
      ]
    },
    {
      "cell_type": "code",
      "source": [
        "# https://stackoverflow.com/questions/77772487/where-condition-to-filter-json-data-in-nested-object-or-array/\n",
        "\n",
        "!psql -h localhost -p 5432 -Uupraxis -ddbpraxis -c \"\"\"\\\n",
        "SELECT id, info ->> 'customer' AS customer \\\n",
        "FROM   js.orders \\\n",
        "WHERE  info -> 'items' @? '$.product ? (@ == \\\"Kalyani\\\")';\\\n",
        "\"\"\"\n"
      ],
      "metadata": {
        "id": "8BngDQGfycK1",
        "outputId": "bd44efaa-ee43-4921-e425-3b4276c6c553",
        "colab": {
          "base_uri": "https://localhost:8080/"
        }
      },
      "execution_count": 42,
      "outputs": [
        {
          "output_type": "stream",
          "name": "stdout",
          "text": [
            " id | customer \n",
            "----+----------\n",
            "  4 | Madhuri\n",
            "  6 | Saina\n",
            "(2 rows)\n",
            "\n"
          ]
        }
      ]
    },
    {
      "cell_type": "code",
      "source": [
        "!psql -h localhost -p 5432 -Uupraxis -ddbpraxis -c \"SELECT json_each (info) FROM js.orders;\""
      ],
      "metadata": {
        "colab": {
          "base_uri": "https://localhost:8080/"
        },
        "id": "byY2iccO4ctF",
        "outputId": "a9ec5880-c673-4326-a959-0d7996b61394"
      },
      "execution_count": 19,
      "outputs": [
        {
          "output_type": "stream",
          "name": "stdout",
          "text": [
            "                                        json_each                                        \n",
            "-----------------------------------------------------------------------------------------\n",
            " (customer,\"\"\"Kapil\"\"\")\n",
            " (items,\"{\"\"product\"\": \"\"Heineken\"\",\"\"qty\"\": 6}\")\n",
            " (customer,\"\"\"Satyen\"\"\")\n",
            " (items,\"{\"\"product\"\": \"\"Heineken\"\",\"\"qty\"\": 18}\")\n",
            " (customer,\"\"\"Rekha\"\"\")\n",
            " (items,\"{\"\"product\"\": \"\"Carlsberg\"\",\"\"qty\"\": 24}\")\n",
            " (customer,\"\"\"Madhuri\"\"\")\n",
            " (items,\"{\"\"product\"\": \"\"Kalyani\"\",\"\"qty\"\": 12}\")\n",
            " (customer,\"\"\"Srinivas\"\"\")\n",
            " (items,\"{\"\"product\"\": \"\"Kingfisher Strong\"\",\"\"qty\"\": 12}\")\n",
            " (customer,\"\"\"Saina\"\"\")\n",
            " (items,\"[{\"\"product\"\": \"\"Bira91\"\",\"\"qty\"\": 6},{\"\"product\"\": \"\"Kalyani\"\",\"\"qty\"\": 6} ]\")\n",
            "(12 rows)\n",
            "\n"
          ]
        }
      ]
    },
    {
      "cell_type": "code",
      "source": [
        "!psql -h localhost -p 5432 -U upraxis -d dbpraxis -c \"select distinct * from empl, dept where empl.deptid = dept.deptid;\""
      ],
      "metadata": {
        "colab": {
          "base_uri": "https://localhost:8080/"
        },
        "id": "-0J9N3_J4wfa",
        "outputId": "4732571b-919e-47f6-fef2-377105b852f9"
      },
      "execution_count": 20,
      "outputs": [
        {
          "output_type": "stream",
          "name": "stdout",
          "text": [
            "ERROR:  relation \"empl\" does not exist\n",
            "LINE 1: select distinct * from empl, dept where empl.deptid = dept.d...\n",
            "                               ^\n"
          ]
        }
      ]
    },
    {
      "cell_type": "markdown",
      "source": [
        "#Chronobooks <br>\n",
        "Two science fiction novels by Prithwis Mukerjee. A dystopian Earth. A technocratic society managed by artificial intelligence. Escape and epiphany on Mars. Can man and machine, carbon and silicon explore and escape into other dimensions of existence? An Indic perspective rooted in Advaita Vedanta and the Divine Feminine.  [More information](http://bit.ly/chronobooks) <br>\n",
        "![alt text](https://github.com/Praxis-QR/RDWH/raw/main/images/CTCYFooter-1.png)"
      ],
      "metadata": {
        "id": "_gNiZpyW3AzJ"
      }
    }
  ]
}