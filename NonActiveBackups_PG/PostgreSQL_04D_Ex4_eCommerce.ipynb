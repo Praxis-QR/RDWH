{
  "nbformat": 4,
  "nbformat_minor": 0,
  "metadata": {
    "colab": {
      "provenance": [],
      "include_colab_link": true
    },
    "kernelspec": {
      "name": "python3",
      "display_name": "Python 3"
    },
    "language_info": {
      "name": "python"
    }
  },
  "cells": [
    {
      "cell_type": "markdown",
      "metadata": {
        "id": "view-in-github",
        "colab_type": "text"
      },
      "source": [
        "<a href=\"https://colab.research.google.com/github/Praxis-QR/RDWH/blob/main/PostgreSQL_04D_Ex4_eCommerce.ipynb\" target=\"_parent\"><img src=\"https://colab.research.google.com/assets/colab-badge.svg\" alt=\"Open In Colab\"/></a>"
      ]
    },
    {
      "cell_type": "markdown",
      "source": [
        "![Yantrajaal Banner](https://github.com/Praxis-QR/RDWH/raw/main/images/YantraJaalBanner.png)<br>\n",
        "\n",
        "\n",
        "<hr>\n",
        "\n",
        "[Prithwis Mukerjee](http://www.linkedin.com/in/prithwis)<br>"
      ],
      "metadata": {
        "id": "DBzz-qaN2tKu"
      }
    },
    {
      "cell_type": "markdown",
      "source": [
        "#Postgres Exercises\n"
      ],
      "metadata": {
        "id": "QIfgaOrxZ39z"
      }
    },
    {
      "cell_type": "markdown",
      "source": [
        "#Install & Configure Postgres"
      ],
      "metadata": {
        "id": "nD-QawLT6kDr"
      }
    },
    {
      "cell_type": "code",
      "source": [
        "from datetime import datetime\n",
        "import pytz\n",
        "print('Tested on ',datetime.now(pytz.timezone('Asia/Calcutta')))\n",
        "!python --version\n",
        "!lsb_release -a"
      ],
      "metadata": {
        "id": "txwvst5Hs5mI",
        "outputId": "2ddc0ca1-2a26-4d2f-9e68-2dd98f0939b2",
        "colab": {
          "base_uri": "https://localhost:8080/"
        }
      },
      "execution_count": 1,
      "outputs": [
        {
          "output_type": "stream",
          "name": "stdout",
          "text": [
            "Tested on  2024-01-07 10:06:56.631165+05:30\n",
            "Python 3.10.12\n",
            "No LSB modules are available.\n",
            "Distributor ID:\tUbuntu\n",
            "Description:\tUbuntu 22.04.3 LTS\n",
            "Release:\t22.04\n",
            "Codename:\tjammy\n"
          ]
        }
      ]
    },
    {
      "cell_type": "markdown",
      "source": [
        "For Connecting to a Postgres server on Amazon RDS, see [this notebook](https://github.com/Praxis-QR/RDWH/blob/main/PostgreSQL_01_Install_Config.ipynb)"
      ],
      "metadata": {
        "id": "9w29_O07rTPE"
      }
    },
    {
      "cell_type": "code",
      "source": [
        "# Install postgresql server\n",
        "\n",
        "!apt update > /dev/null\n",
        "!apt install postgresql > /dev/null\n",
        "#!sudo -u postgres psql -V\n",
        "!psql -V\n",
        "!service postgresql start"
      ],
      "metadata": {
        "colab": {
          "base_uri": "https://localhost:8080/"
        },
        "id": "o_RaqE0OOHP3",
        "outputId": "9fec4210-e0c5-4c20-d8d9-f4f3bf226728"
      },
      "execution_count": 2,
      "outputs": [
        {
          "output_type": "stream",
          "name": "stdout",
          "text": [
            "\n",
            "WARNING: apt does not have a stable CLI interface. Use with caution in scripts.\n",
            "\n",
            "\n",
            "WARNING: apt does not have a stable CLI interface. Use with caution in scripts.\n",
            "\n",
            "psql (PostgreSQL) 14.10 (Ubuntu 14.10-0ubuntu0.22.04.1)\n",
            " * Starting PostgreSQL 14 database server\n",
            "   ...done.\n"
          ]
        }
      ]
    },
    {
      "cell_type": "markdown",
      "source": [
        "#Create Schema, Tables and Insert Data"
      ],
      "metadata": {
        "id": "JP7hBhEaYzW8"
      }
    },
    {
      "cell_type": "code",
      "source": [
        "# This has created an Ubuntu user 'postgres' AND a Postgres database user 'postgres' both of which are superusers\n",
        "#!cat /etc/passwd\n",
        "# Use these users to create a new database user called 'upraxis' and give it a password 'upass'\n",
        "#!sudo -u postgres createuser --superuser upraxis\n",
        "!sudo -u postgres createuser upraxis\n",
        "!sudo -u postgres psql -U postgres -c \"ALTER USER upraxis PASSWORD 'upass';\"\n",
        "# Change the database superuser 'postgres' to a non-default value 'pass'\n",
        "!sudo -u postgres psql -U postgres -c \"ALTER USER postgres PASSWORD 'pass';\"\n",
        "# Use ubuntu superuser to create database dbpraxis and set its owner to upraxis\n",
        "!sudo -u postgres createdb -O upraxis dbpraxis\n",
        "# Create file to store the password. Else will be prompted each time\n",
        "!echo \"localhost:5432:dbpraxis:upraxis:upass\" > ~/.pgpass\n",
        "!chmod 0600 ~/.pgpass\n",
        "!cat ~/.pgpass"
      ],
      "metadata": {
        "colab": {
          "base_uri": "https://localhost:8080/"
        },
        "id": "NWkT4jeeQXw2",
        "outputId": "01d4dda8-ea9b-418c-e633-717ff611587b"
      },
      "execution_count": 3,
      "outputs": [
        {
          "output_type": "stream",
          "name": "stdout",
          "text": [
            "ALTER ROLE\n",
            "ALTER ROLE\n",
            "localhost:5432:dbpraxis:upraxis:upass\n"
          ]
        }
      ]
    },
    {
      "cell_type": "code",
      "source": [
        "# Original Data https://www.kaggle.com/carrie1/ecommerce-data\n",
        "# Same data in Google Drive https://drive.google.com/open?id=1K_rQftggePnII3K6613MumhKo3dTMO5r\n",
        "# 10% data in Google Drive https://drive.google.com/file/d/1YjCMPc4vUuXvWik1u4p5aP-THJUJjvDX/view?usp=sharing\n",
        "#!wget -q -O eCommerce.csv 'https://drive.google.com/uc?export=download&id=1K_rQftggePnII3K6613MumhKo3dTMO5r'       # full data\n",
        "#!wget -O eCommerce02.csv 'https://drive.google.com/uc?export=download&id=1YjCMPc4vUuXvWik1u4p5aP-THJUJjvDX'      # 10% data\n",
        "\n",
        "!wget -q https://github.com/Praxis-QR/RDWH/raw/main/data/eCommerce.zip\n",
        "!unzip eCommerce.zip\n",
        "#!head eCommerce.csv"
      ],
      "metadata": {
        "colab": {
          "base_uri": "https://localhost:8080/"
        },
        "id": "keTRZyDoOI3G",
        "outputId": "16774e32-7da7-4223-e6b5-7fc2fac3f36c"
      },
      "execution_count": 5,
      "outputs": [
        {
          "output_type": "stream",
          "name": "stdout",
          "text": [
            "Archive:  eCommerce.zip\n",
            "  inflating: eCommerce.csv           \n"
          ]
        }
      ]
    },
    {
      "cell_type": "code",
      "source": [
        "!psql -h localhost -p 5432 -Uupraxis -d dbpraxis -c 'drop schema if exists ec cascade'\n",
        "!psql -h localhost -p 5432 -Uupraxis -d dbpraxis -c 'create schema if not exists ec'\n",
        "!psql -h localhost -p 5432 -Uupraxis -d dbpraxis -c '\\dn+'\n",
        "!psql -h localhost -p 5432 -Uupraxis -d dbpraxis -c 'drop table if exists ec.ecommerce'\n",
        "!psql -h localhost -p 5432 -Uupraxis -d dbpraxis -c '\\\n",
        "CREATE TABLE IF NOT EXISTS ec.ecommerce (\\\n",
        "invoiceno char(7), stockcode varchar(20), description varchar(50), quantity int, invoicedate date, unitprice decimal(10,2), customerid char(5), country varchar(20)) \\\n",
        "'\n",
        "!psql -h localhost -p 5432 -Uupraxis -d dbpraxis -c '\\dt+ ec.*'\n",
        "# --------------------------------------------------------------"
      ],
      "metadata": {
        "colab": {
          "base_uri": "https://localhost:8080/"
        },
        "id": "v-nYOx-1DNJG",
        "outputId": "80deea8c-61ea-4bf5-9376-92cce2429ac3"
      },
      "execution_count": 4,
      "outputs": [
        {
          "output_type": "stream",
          "name": "stdout",
          "text": [
            "NOTICE:  schema \"ec\" does not exist, skipping\n",
            "DROP SCHEMA\n",
            "CREATE SCHEMA\n",
            "                          List of schemas\n",
            "  Name  |  Owner   |  Access privileges   |      Description       \n",
            "--------+----------+----------------------+------------------------\n",
            " ec     | upraxis  |                      | \n",
            " public | postgres | postgres=UC/postgres+| standard public schema\n",
            "        |          | =UC/postgres         | \n",
            "(2 rows)\n",
            "\n",
            "NOTICE:  table \"ecommerce\" does not exist, skipping\n",
            "DROP TABLE\n",
            "CREATE TABLE\n",
            "                                     List of relations\n",
            " Schema |   Name    | Type  |  Owner  | Persistence | Access method |  Size   | Description \n",
            "--------+-----------+-------+---------+-------------+---------------+---------+-------------\n",
            " ec     | ecommerce | table | upraxis | permanent   | heap          | 0 bytes | \n",
            "(1 row)\n",
            "\n"
          ]
        }
      ]
    },
    {
      "cell_type": "code",
      "source": [
        "# One way to handle UTF8 error\n",
        "#\n",
        "#!iconv -c -t utf8 eCommerce.csv > eCommerce.utf8.csv\n",
        "#!psql -h localhost -p 5432 -Upostgres -ddbpraxis -c \"COPY ec.ecommerce FROM '/content/eCommerce.utf8.csv' DELIMITER ',' CSV HEADER;\""
      ],
      "metadata": {
        "colab": {
          "base_uri": "https://localhost:8080/"
        },
        "id": "zzTGDTd4HXvX",
        "outputId": "460bd697-d039-47bb-ee41-85a13c105f51"
      },
      "execution_count": 41,
      "outputs": [
        {
          "output_type": "stream",
          "name": "stdout",
          "text": [
            "Password for user postgres: \n",
            "COPY 541909\n"
          ]
        }
      ]
    },
    {
      "cell_type": "code",
      "source": [
        "# Only superuser ('postgres') can use copy command, not even database owner ('upraxis')\n",
        "# 'postgres' password has to be entered manually, password = 'pass'\n",
        "#\n",
        "!psql -h localhost -p 5432 -Upostgres -ddbpraxis -c \"COPY ec.ecommerce FROM '/content/eCommerce.csv' DELIMITER ',' CSV HEADER encoding 'windows-1251';\"\n"
      ],
      "metadata": {
        "colab": {
          "base_uri": "https://localhost:8080/"
        },
        "id": "KHwy6MLZ2t1t",
        "outputId": "3b02bd31-aa7c-4d96-d007-f90ee8607f0c"
      },
      "execution_count": 6,
      "outputs": [
        {
          "output_type": "stream",
          "name": "stdout",
          "text": [
            "Password for user postgres: \n",
            "COPY 541909\n"
          ]
        }
      ]
    },
    {
      "cell_type": "code",
      "source": [
        "#!cat ItemsOrdered.csv\n",
        "!psql -h localhost -p 5432 -Uupraxis -d dbpraxis -c 'select * from ec.ecommerce limit 5'"
      ],
      "metadata": {
        "colab": {
          "base_uri": "https://localhost:8080/"
        },
        "id": "DpFMdlEz3aV-",
        "outputId": "142852bb-cb8a-42bf-8919-1a3b16323f10"
      },
      "execution_count": 7,
      "outputs": [
        {
          "output_type": "stream",
          "name": "stdout",
          "text": [
            " invoiceno | stockcode |             description             | quantity | invoicedate | unitprice | customerid |    country     \n",
            "-----------+-----------+-------------------------------------+----------+-------------+-----------+------------+----------------\n",
            " 536365    | 85123A    | WHITE HANGING HEART T-LIGHT HOLDER  |        6 | 2010-12-01  |      2.55 | 17850      | United Kingdom\n",
            " 536365    | 71053     | WHITE METAL LANTERN                 |        6 | 2010-12-01  |      3.39 | 17850      | United Kingdom\n",
            " 536365    | 84406B    | CREAM CUPID HEARTS COAT HANGER      |        8 | 2010-12-01  |      2.75 | 17850      | United Kingdom\n",
            " 536365    | 84029G    | KNITTED UNION FLAG HOT WATER BOTTLE |        6 | 2010-12-01  |      3.39 | 17850      | United Kingdom\n",
            " 536365    | 84029E    | RED WOOLLY HOTTIE WHITE HEART.      |        6 | 2010-12-01  |      3.39 | 17850      | United Kingdom\n",
            "(5 rows)\n",
            "\n"
          ]
        }
      ]
    },
    {
      "cell_type": "code",
      "source": [
        "!psql -h localhost -p 5432 -Uupraxis -ddbpraxis -c \"select max(invoicedate), min(invoicedate) from ec.ecommerce\""
      ],
      "metadata": {
        "colab": {
          "base_uri": "https://localhost:8080/"
        },
        "id": "Q6GZJ8uhIQT_",
        "outputId": "75aaeb96-a69b-44ff-cf8f-9a5aaaf93cdd"
      },
      "execution_count": 9,
      "outputs": [
        {
          "output_type": "stream",
          "name": "stdout",
          "text": [
            "    max     |    min     \n",
            "------------+------------\n",
            " 2011-12-09 | 2010-12-01\n",
            "(1 row)\n",
            "\n"
          ]
        }
      ]
    },
    {
      "cell_type": "markdown",
      "source": [
        "## Python Access\n",
        "https://www.tutorialspoint.com/python_data_access/python_postgresql_database_connection.htm"
      ],
      "metadata": {
        "id": "faZEj8_7CeZ8"
      }
    },
    {
      "cell_type": "code",
      "source": [
        "#!pip install psycopg2\n",
        "import psycopg2\n",
        "import pandas as pd"
      ],
      "metadata": {
        "id": "719jvpeIjLZX"
      },
      "execution_count": 10,
      "outputs": []
    },
    {
      "cell_type": "code",
      "source": [
        "# Local Colab server\n",
        "\n",
        "conn = psycopg2.connect(database=\"dbpraxis\", user='upraxis', password='upass', host='127.0.0.1', port= '5432')\n",
        "#Creating a cursor object using the cursor() method\n",
        "cursor = conn.cursor()\n",
        "#Executing an MYSQL function using the execute() method\n",
        "cursor.execute(\"select version()\")\n",
        "# Fetch a single row using fetchone() method.\n",
        "data = cursor.fetchone()\n",
        "print(\"Connection established to: \",data)\n",
        "#Closing the connection\n",
        "conn.close()"
      ],
      "metadata": {
        "id": "wcE-8UBnC4zV",
        "outputId": "d4a38c0f-d10b-4574-e232-4dc2af681332",
        "colab": {
          "base_uri": "https://localhost:8080/"
        }
      },
      "execution_count": 11,
      "outputs": [
        {
          "output_type": "stream",
          "name": "stdout",
          "text": [
            "Connection established to:  ('PostgreSQL 14.10 (Ubuntu 14.10-0ubuntu0.22.04.1) on x86_64-pc-linux-gnu, compiled by gcc (Ubuntu 11.4.0-1ubuntu1~22.04) 11.4.0, 64-bit',)\n"
          ]
        }
      ]
    },
    {
      "cell_type": "code",
      "source": [
        "# function to execute SQL select statements with Postgres\n",
        "#\n",
        "def runSelect(s):\n",
        "    #Set up connection\n",
        "\n",
        "    conn = psycopg2.connect(database=\"dbpraxis\", user='upraxis', password='upass', host='127.0.0.1', port= '5432')\n",
        "    #Setting auto commit true\n",
        "    conn.autocommit = True\n",
        "    #Creating a cursor object using the cursor() method\n",
        "    cursor = conn.cursor()\n",
        "    #Retrieving data\n",
        "    cursor.execute(s)\n",
        "    #Fetching all rows from the table\n",
        "    result = cursor.fetchall();\n",
        "    #print(len(result))\n",
        "    if (len(result)) > 0:                                       # result contains at least one row\n",
        "        colnames = [desc[0] for desc in cursor.description]     # get column names\n",
        "        #print(colnames)\n",
        "        resultdf = pd.DataFrame(result)                         # convert list to dataframe\n",
        "        resultdf.columns = colnames                             # add column names\n",
        "        #return resultdf\n",
        "        return resultdf.style.hide()                            # hide the index\n",
        "    else:\n",
        "        print('no records found')\n",
        "        return\n",
        "# function to execute SQL non-select statements with Postgres\n",
        "#\n",
        "def runCmd(s):\n",
        "    #Create Connection\n",
        "    conn = psycopg2.connect(database=\"exercises\", user='postgres', password='pass', host='127.0.0.1', port= '5432')\n",
        "    #Creating a cursor object using the cursor() method\n",
        "    cursor = conn.cursor()\n",
        "    try:\n",
        "        cursor.execute(s)\n",
        "        print('Command executed')\n",
        "        conn.commit()\n",
        "    except:\n",
        "        print('Command failed')\n",
        "    #Closing the connection\n",
        "    conn.close()"
      ],
      "metadata": {
        "id": "ht2k7-3iggNd"
      },
      "execution_count": 12,
      "outputs": []
    },
    {
      "cell_type": "markdown",
      "source": [
        "##Check Data"
      ],
      "metadata": {
        "id": "RvTKboYtbSjZ"
      }
    },
    {
      "cell_type": "code",
      "source": [
        "runSelect(\"select * from ec.ecommerce limit 10\")"
      ],
      "metadata": {
        "colab": {
          "base_uri": "https://localhost:8080/",
          "height": 363
        },
        "id": "ctq0ULCvVTsO",
        "outputId": "fe5bdc58-93c8-48bb-cfb3-6b251aa4d8f4"
      },
      "execution_count": 45,
      "outputs": [
        {
          "output_type": "execute_result",
          "data": {
            "text/plain": [
              "<pandas.io.formats.style.Styler at 0x7e15069f1030>"
            ],
            "text/html": [
              "<style type=\"text/css\">\n",
              "</style>\n",
              "<table id=\"T_02b18\" class=\"dataframe\">\n",
              "  <thead>\n",
              "    <tr>\n",
              "      <th id=\"T_02b18_level0_col0\" class=\"col_heading level0 col0\" >invoiceno</th>\n",
              "      <th id=\"T_02b18_level0_col1\" class=\"col_heading level0 col1\" >stockcode</th>\n",
              "      <th id=\"T_02b18_level0_col2\" class=\"col_heading level0 col2\" >description</th>\n",
              "      <th id=\"T_02b18_level0_col3\" class=\"col_heading level0 col3\" >quantity</th>\n",
              "      <th id=\"T_02b18_level0_col4\" class=\"col_heading level0 col4\" >invoicedate</th>\n",
              "      <th id=\"T_02b18_level0_col5\" class=\"col_heading level0 col5\" >unitprice</th>\n",
              "      <th id=\"T_02b18_level0_col6\" class=\"col_heading level0 col6\" >customerid</th>\n",
              "      <th id=\"T_02b18_level0_col7\" class=\"col_heading level0 col7\" >country</th>\n",
              "    </tr>\n",
              "  </thead>\n",
              "  <tbody>\n",
              "    <tr>\n",
              "      <td id=\"T_02b18_row0_col0\" class=\"data row0 col0\" >536365 </td>\n",
              "      <td id=\"T_02b18_row0_col1\" class=\"data row0 col1\" >85123A</td>\n",
              "      <td id=\"T_02b18_row0_col2\" class=\"data row0 col2\" >WHITE HANGING HEART T-LIGHT HOLDER</td>\n",
              "      <td id=\"T_02b18_row0_col3\" class=\"data row0 col3\" >6</td>\n",
              "      <td id=\"T_02b18_row0_col4\" class=\"data row0 col4\" >2010-12-01</td>\n",
              "      <td id=\"T_02b18_row0_col5\" class=\"data row0 col5\" >2.55</td>\n",
              "      <td id=\"T_02b18_row0_col6\" class=\"data row0 col6\" >17850</td>\n",
              "      <td id=\"T_02b18_row0_col7\" class=\"data row0 col7\" >United Kingdom</td>\n",
              "    </tr>\n",
              "    <tr>\n",
              "      <td id=\"T_02b18_row1_col0\" class=\"data row1 col0\" >536365 </td>\n",
              "      <td id=\"T_02b18_row1_col1\" class=\"data row1 col1\" >71053</td>\n",
              "      <td id=\"T_02b18_row1_col2\" class=\"data row1 col2\" >WHITE METAL LANTERN</td>\n",
              "      <td id=\"T_02b18_row1_col3\" class=\"data row1 col3\" >6</td>\n",
              "      <td id=\"T_02b18_row1_col4\" class=\"data row1 col4\" >2010-12-01</td>\n",
              "      <td id=\"T_02b18_row1_col5\" class=\"data row1 col5\" >3.39</td>\n",
              "      <td id=\"T_02b18_row1_col6\" class=\"data row1 col6\" >17850</td>\n",
              "      <td id=\"T_02b18_row1_col7\" class=\"data row1 col7\" >United Kingdom</td>\n",
              "    </tr>\n",
              "    <tr>\n",
              "      <td id=\"T_02b18_row2_col0\" class=\"data row2 col0\" >536365 </td>\n",
              "      <td id=\"T_02b18_row2_col1\" class=\"data row2 col1\" >84406B</td>\n",
              "      <td id=\"T_02b18_row2_col2\" class=\"data row2 col2\" >CREAM CUPID HEARTS COAT HANGER</td>\n",
              "      <td id=\"T_02b18_row2_col3\" class=\"data row2 col3\" >8</td>\n",
              "      <td id=\"T_02b18_row2_col4\" class=\"data row2 col4\" >2010-12-01</td>\n",
              "      <td id=\"T_02b18_row2_col5\" class=\"data row2 col5\" >2.75</td>\n",
              "      <td id=\"T_02b18_row2_col6\" class=\"data row2 col6\" >17850</td>\n",
              "      <td id=\"T_02b18_row2_col7\" class=\"data row2 col7\" >United Kingdom</td>\n",
              "    </tr>\n",
              "    <tr>\n",
              "      <td id=\"T_02b18_row3_col0\" class=\"data row3 col0\" >536365 </td>\n",
              "      <td id=\"T_02b18_row3_col1\" class=\"data row3 col1\" >84029G</td>\n",
              "      <td id=\"T_02b18_row3_col2\" class=\"data row3 col2\" >KNITTED UNION FLAG HOT WATER BOTTLE</td>\n",
              "      <td id=\"T_02b18_row3_col3\" class=\"data row3 col3\" >6</td>\n",
              "      <td id=\"T_02b18_row3_col4\" class=\"data row3 col4\" >2010-12-01</td>\n",
              "      <td id=\"T_02b18_row3_col5\" class=\"data row3 col5\" >3.39</td>\n",
              "      <td id=\"T_02b18_row3_col6\" class=\"data row3 col6\" >17850</td>\n",
              "      <td id=\"T_02b18_row3_col7\" class=\"data row3 col7\" >United Kingdom</td>\n",
              "    </tr>\n",
              "    <tr>\n",
              "      <td id=\"T_02b18_row4_col0\" class=\"data row4 col0\" >536365 </td>\n",
              "      <td id=\"T_02b18_row4_col1\" class=\"data row4 col1\" >84029E</td>\n",
              "      <td id=\"T_02b18_row4_col2\" class=\"data row4 col2\" >RED WOOLLY HOTTIE WHITE HEART.</td>\n",
              "      <td id=\"T_02b18_row4_col3\" class=\"data row4 col3\" >6</td>\n",
              "      <td id=\"T_02b18_row4_col4\" class=\"data row4 col4\" >2010-12-01</td>\n",
              "      <td id=\"T_02b18_row4_col5\" class=\"data row4 col5\" >3.39</td>\n",
              "      <td id=\"T_02b18_row4_col6\" class=\"data row4 col6\" >17850</td>\n",
              "      <td id=\"T_02b18_row4_col7\" class=\"data row4 col7\" >United Kingdom</td>\n",
              "    </tr>\n",
              "    <tr>\n",
              "      <td id=\"T_02b18_row5_col0\" class=\"data row5 col0\" >536365 </td>\n",
              "      <td id=\"T_02b18_row5_col1\" class=\"data row5 col1\" >22752</td>\n",
              "      <td id=\"T_02b18_row5_col2\" class=\"data row5 col2\" >SET 7 BABUSHKA NESTING BOXES</td>\n",
              "      <td id=\"T_02b18_row5_col3\" class=\"data row5 col3\" >2</td>\n",
              "      <td id=\"T_02b18_row5_col4\" class=\"data row5 col4\" >2010-12-01</td>\n",
              "      <td id=\"T_02b18_row5_col5\" class=\"data row5 col5\" >7.65</td>\n",
              "      <td id=\"T_02b18_row5_col6\" class=\"data row5 col6\" >17850</td>\n",
              "      <td id=\"T_02b18_row5_col7\" class=\"data row5 col7\" >United Kingdom</td>\n",
              "    </tr>\n",
              "    <tr>\n",
              "      <td id=\"T_02b18_row6_col0\" class=\"data row6 col0\" >536365 </td>\n",
              "      <td id=\"T_02b18_row6_col1\" class=\"data row6 col1\" >21730</td>\n",
              "      <td id=\"T_02b18_row6_col2\" class=\"data row6 col2\" >GLASS STAR FROSTED T-LIGHT HOLDER</td>\n",
              "      <td id=\"T_02b18_row6_col3\" class=\"data row6 col3\" >6</td>\n",
              "      <td id=\"T_02b18_row6_col4\" class=\"data row6 col4\" >2010-12-01</td>\n",
              "      <td id=\"T_02b18_row6_col5\" class=\"data row6 col5\" >4.25</td>\n",
              "      <td id=\"T_02b18_row6_col6\" class=\"data row6 col6\" >17850</td>\n",
              "      <td id=\"T_02b18_row6_col7\" class=\"data row6 col7\" >United Kingdom</td>\n",
              "    </tr>\n",
              "    <tr>\n",
              "      <td id=\"T_02b18_row7_col0\" class=\"data row7 col0\" >536366 </td>\n",
              "      <td id=\"T_02b18_row7_col1\" class=\"data row7 col1\" >22633</td>\n",
              "      <td id=\"T_02b18_row7_col2\" class=\"data row7 col2\" >HAND WARMER UNION JACK</td>\n",
              "      <td id=\"T_02b18_row7_col3\" class=\"data row7 col3\" >6</td>\n",
              "      <td id=\"T_02b18_row7_col4\" class=\"data row7 col4\" >2010-12-01</td>\n",
              "      <td id=\"T_02b18_row7_col5\" class=\"data row7 col5\" >1.85</td>\n",
              "      <td id=\"T_02b18_row7_col6\" class=\"data row7 col6\" >17850</td>\n",
              "      <td id=\"T_02b18_row7_col7\" class=\"data row7 col7\" >United Kingdom</td>\n",
              "    </tr>\n",
              "    <tr>\n",
              "      <td id=\"T_02b18_row8_col0\" class=\"data row8 col0\" >536366 </td>\n",
              "      <td id=\"T_02b18_row8_col1\" class=\"data row8 col1\" >22632</td>\n",
              "      <td id=\"T_02b18_row8_col2\" class=\"data row8 col2\" >HAND WARMER RED POLKA DOT</td>\n",
              "      <td id=\"T_02b18_row8_col3\" class=\"data row8 col3\" >6</td>\n",
              "      <td id=\"T_02b18_row8_col4\" class=\"data row8 col4\" >2010-12-01</td>\n",
              "      <td id=\"T_02b18_row8_col5\" class=\"data row8 col5\" >1.85</td>\n",
              "      <td id=\"T_02b18_row8_col6\" class=\"data row8 col6\" >17850</td>\n",
              "      <td id=\"T_02b18_row8_col7\" class=\"data row8 col7\" >United Kingdom</td>\n",
              "    </tr>\n",
              "    <tr>\n",
              "      <td id=\"T_02b18_row9_col0\" class=\"data row9 col0\" >536367 </td>\n",
              "      <td id=\"T_02b18_row9_col1\" class=\"data row9 col1\" >84879</td>\n",
              "      <td id=\"T_02b18_row9_col2\" class=\"data row9 col2\" >ASSORTED COLOUR BIRD ORNAMENT</td>\n",
              "      <td id=\"T_02b18_row9_col3\" class=\"data row9 col3\" >32</td>\n",
              "      <td id=\"T_02b18_row9_col4\" class=\"data row9 col4\" >2010-12-01</td>\n",
              "      <td id=\"T_02b18_row9_col5\" class=\"data row9 col5\" >1.69</td>\n",
              "      <td id=\"T_02b18_row9_col6\" class=\"data row9 col6\" >13047</td>\n",
              "      <td id=\"T_02b18_row9_col7\" class=\"data row9 col7\" >United Kingdom</td>\n",
              "    </tr>\n",
              "  </tbody>\n",
              "</table>\n"
            ]
          },
          "metadata": {},
          "execution_count": 45
        }
      ]
    },
    {
      "cell_type": "code",
      "source": [
        "runSelect(\"select * from ec.ecommerce where description like '%WOODEN%' and invoicedate > '2011-01-01' limit 10\")"
      ],
      "metadata": {
        "colab": {
          "base_uri": "https://localhost:8080/",
          "height": 363
        },
        "id": "RfJiD9OQPVna",
        "outputId": "c414f4aa-7f39-4564-f389-fe242f098280"
      },
      "execution_count": 18,
      "outputs": [
        {
          "output_type": "execute_result",
          "data": {
            "text/plain": [
              "<pandas.io.formats.style.Styler at 0x7e864c8e3910>"
            ],
            "text/html": [
              "<style type=\"text/css\">\n",
              "</style>\n",
              "<table id=\"T_2d316\" class=\"dataframe\">\n",
              "  <thead>\n",
              "    <tr>\n",
              "      <th id=\"T_2d316_level0_col0\" class=\"col_heading level0 col0\" >invoiceno</th>\n",
              "      <th id=\"T_2d316_level0_col1\" class=\"col_heading level0 col1\" >stockcode</th>\n",
              "      <th id=\"T_2d316_level0_col2\" class=\"col_heading level0 col2\" >description</th>\n",
              "      <th id=\"T_2d316_level0_col3\" class=\"col_heading level0 col3\" >quantity</th>\n",
              "      <th id=\"T_2d316_level0_col4\" class=\"col_heading level0 col4\" >invoicedate</th>\n",
              "      <th id=\"T_2d316_level0_col5\" class=\"col_heading level0 col5\" >unitprice</th>\n",
              "      <th id=\"T_2d316_level0_col6\" class=\"col_heading level0 col6\" >customerid</th>\n",
              "      <th id=\"T_2d316_level0_col7\" class=\"col_heading level0 col7\" >country</th>\n",
              "    </tr>\n",
              "  </thead>\n",
              "  <tbody>\n",
              "    <tr>\n",
              "      <td id=\"T_2d316_row0_col0\" class=\"data row0 col0\" >540526 </td>\n",
              "      <td id=\"T_2d316_row0_col1\" class=\"data row0 col1\" >22241</td>\n",
              "      <td id=\"T_2d316_row0_col2\" class=\"data row0 col2\" >GARLAND WOODEN HAPPY EASTER</td>\n",
              "      <td id=\"T_2d316_row0_col3\" class=\"data row0 col3\" >12</td>\n",
              "      <td id=\"T_2d316_row0_col4\" class=\"data row0 col4\" >2011-01-09</td>\n",
              "      <td id=\"T_2d316_row0_col5\" class=\"data row0 col5\" >1.25</td>\n",
              "      <td id=\"T_2d316_row0_col6\" class=\"data row0 col6\" >14606</td>\n",
              "      <td id=\"T_2d316_row0_col7\" class=\"data row0 col7\" >United Kingdom</td>\n",
              "    </tr>\n",
              "    <tr>\n",
              "      <td id=\"T_2d316_row1_col0\" class=\"data row1 col0\" >540528 </td>\n",
              "      <td id=\"T_2d316_row1_col1\" class=\"data row1 col1\" >21380</td>\n",
              "      <td id=\"T_2d316_row1_col2\" class=\"data row1 col2\" >WOODEN HAPPY BIRTHDAY GARLAND</td>\n",
              "      <td id=\"T_2d316_row1_col3\" class=\"data row1 col3\" >2</td>\n",
              "      <td id=\"T_2d316_row1_col4\" class=\"data row1 col4\" >2011-01-09</td>\n",
              "      <td id=\"T_2d316_row1_col5\" class=\"data row1 col5\" >2.95</td>\n",
              "      <td id=\"T_2d316_row1_col6\" class=\"data row1 col6\" >17800</td>\n",
              "      <td id=\"T_2d316_row1_col7\" class=\"data row1 col7\" >United Kingdom</td>\n",
              "    </tr>\n",
              "    <tr>\n",
              "      <td id=\"T_2d316_row2_col0\" class=\"data row2 col0\" >540534 </td>\n",
              "      <td id=\"T_2d316_row2_col1\" class=\"data row2 col1\" >22228</td>\n",
              "      <td id=\"T_2d316_row2_col2\" class=\"data row2 col2\" >BUNNY WOODEN PAINTED WITH BIRD </td>\n",
              "      <td id=\"T_2d316_row2_col3\" class=\"data row2 col3\" >12</td>\n",
              "      <td id=\"T_2d316_row2_col4\" class=\"data row2 col4\" >2011-01-09</td>\n",
              "      <td id=\"T_2d316_row2_col5\" class=\"data row2 col5\" >0.85</td>\n",
              "      <td id=\"T_2d316_row2_col6\" class=\"data row2 col6\" >12971</td>\n",
              "      <td id=\"T_2d316_row2_col7\" class=\"data row2 col7\" >United Kingdom</td>\n",
              "    </tr>\n",
              "    <tr>\n",
              "      <td id=\"T_2d316_row3_col0\" class=\"data row3 col0\" >C540535</td>\n",
              "      <td id=\"T_2d316_row3_col1\" class=\"data row3 col1\" >82494L</td>\n",
              "      <td id=\"T_2d316_row3_col2\" class=\"data row3 col2\" >WOODEN FRAME ANTIQUE WHITE </td>\n",
              "      <td id=\"T_2d316_row3_col3\" class=\"data row3 col3\" >-1</td>\n",
              "      <td id=\"T_2d316_row3_col4\" class=\"data row3 col4\" >2011-01-09</td>\n",
              "      <td id=\"T_2d316_row3_col5\" class=\"data row3 col5\" >2.95</td>\n",
              "      <td id=\"T_2d316_row3_col6\" class=\"data row3 col6\" >15005</td>\n",
              "      <td id=\"T_2d316_row3_col7\" class=\"data row3 col7\" >United Kingdom</td>\n",
              "    </tr>\n",
              "    <tr>\n",
              "      <td id=\"T_2d316_row4_col0\" class=\"data row4 col0\" >540536 </td>\n",
              "      <td id=\"T_2d316_row4_col1\" class=\"data row4 col1\" >21892</td>\n",
              "      <td id=\"T_2d316_row4_col2\" class=\"data row4 col2\" >TRADITIONAL WOODEN CATCH CUP GAME </td>\n",
              "      <td id=\"T_2d316_row4_col3\" class=\"data row4 col3\" >1</td>\n",
              "      <td id=\"T_2d316_row4_col4\" class=\"data row4 col4\" >2011-01-09</td>\n",
              "      <td id=\"T_2d316_row4_col5\" class=\"data row4 col5\" >1.25</td>\n",
              "      <td id=\"T_2d316_row4_col6\" class=\"data row4 col6\" >17757</td>\n",
              "      <td id=\"T_2d316_row4_col7\" class=\"data row4 col7\" >United Kingdom</td>\n",
              "    </tr>\n",
              "    <tr>\n",
              "      <td id=\"T_2d316_row5_col0\" class=\"data row5 col0\" >540537 </td>\n",
              "      <td id=\"T_2d316_row5_col1\" class=\"data row5 col1\" >22577</td>\n",
              "      <td id=\"T_2d316_row5_col2\" class=\"data row5 col2\" >WOODEN HEART CHRISTMAS SCANDINAVIAN</td>\n",
              "      <td id=\"T_2d316_row5_col3\" class=\"data row5 col3\" >6</td>\n",
              "      <td id=\"T_2d316_row5_col4\" class=\"data row5 col4\" >2011-01-09</td>\n",
              "      <td id=\"T_2d316_row5_col5\" class=\"data row5 col5\" >0.85</td>\n",
              "      <td id=\"T_2d316_row5_col6\" class=\"data row5 col6\" >13565</td>\n",
              "      <td id=\"T_2d316_row5_col7\" class=\"data row5 col7\" >United Kingdom</td>\n",
              "    </tr>\n",
              "    <tr>\n",
              "      <td id=\"T_2d316_row6_col0\" class=\"data row6 col0\" >540538 </td>\n",
              "      <td id=\"T_2d316_row6_col1\" class=\"data row6 col1\" >82482</td>\n",
              "      <td id=\"T_2d316_row6_col2\" class=\"data row6 col2\" >WOODEN PICTURE FRAME WHITE FINISH</td>\n",
              "      <td id=\"T_2d316_row6_col3\" class=\"data row6 col3\" >1</td>\n",
              "      <td id=\"T_2d316_row6_col4\" class=\"data row6 col4\" >2011-01-09</td>\n",
              "      <td id=\"T_2d316_row6_col5\" class=\"data row6 col5\" >2.55</td>\n",
              "      <td id=\"T_2d316_row6_col6\" class=\"data row6 col6\" >17841</td>\n",
              "      <td id=\"T_2d316_row6_col7\" class=\"data row6 col7\" >United Kingdom</td>\n",
              "    </tr>\n",
              "    <tr>\n",
              "      <td id=\"T_2d316_row7_col0\" class=\"data row7 col0\" >540543 </td>\n",
              "      <td id=\"T_2d316_row7_col1\" class=\"data row7 col1\" >82482</td>\n",
              "      <td id=\"T_2d316_row7_col2\" class=\"data row7 col2\" >WOODEN PICTURE FRAME WHITE FINISH</td>\n",
              "      <td id=\"T_2d316_row7_col3\" class=\"data row7 col3\" >3</td>\n",
              "      <td id=\"T_2d316_row7_col4\" class=\"data row7 col4\" >2011-01-09</td>\n",
              "      <td id=\"T_2d316_row7_col5\" class=\"data row7 col5\" >2.55</td>\n",
              "      <td id=\"T_2d316_row7_col6\" class=\"data row7 col6\" >14395</td>\n",
              "      <td id=\"T_2d316_row7_col7\" class=\"data row7 col7\" >United Kingdom</td>\n",
              "    </tr>\n",
              "    <tr>\n",
              "      <td id=\"T_2d316_row8_col0\" class=\"data row8 col0\" >540543 </td>\n",
              "      <td id=\"T_2d316_row8_col1\" class=\"data row8 col1\" >82494L</td>\n",
              "      <td id=\"T_2d316_row8_col2\" class=\"data row8 col2\" >WOODEN FRAME ANTIQUE WHITE </td>\n",
              "      <td id=\"T_2d316_row8_col3\" class=\"data row8 col3\" >3</td>\n",
              "      <td id=\"T_2d316_row8_col4\" class=\"data row8 col4\" >2011-01-09</td>\n",
              "      <td id=\"T_2d316_row8_col5\" class=\"data row8 col5\" >2.95</td>\n",
              "      <td id=\"T_2d316_row8_col6\" class=\"data row8 col6\" >14395</td>\n",
              "      <td id=\"T_2d316_row8_col7\" class=\"data row8 col7\" >United Kingdom</td>\n",
              "    </tr>\n",
              "    <tr>\n",
              "      <td id=\"T_2d316_row9_col0\" class=\"data row9 col0\" >540545 </td>\n",
              "      <td id=\"T_2d316_row9_col1\" class=\"data row9 col1\" >22577</td>\n",
              "      <td id=\"T_2d316_row9_col2\" class=\"data row9 col2\" >WOODEN HEART CHRISTMAS SCANDINAVIAN</td>\n",
              "      <td id=\"T_2d316_row9_col3\" class=\"data row9 col3\" >31</td>\n",
              "      <td id=\"T_2d316_row9_col4\" class=\"data row9 col4\" >2011-01-09</td>\n",
              "      <td id=\"T_2d316_row9_col5\" class=\"data row9 col5\" >0.85</td>\n",
              "      <td id=\"T_2d316_row9_col6\" class=\"data row9 col6\" >13451</td>\n",
              "      <td id=\"T_2d316_row9_col7\" class=\"data row9 col7\" >United Kingdom</td>\n",
              "    </tr>\n",
              "  </tbody>\n",
              "</table>\n"
            ]
          },
          "metadata": {},
          "execution_count": 18
        }
      ]
    },
    {
      "cell_type": "markdown",
      "source": [
        "#Chronobooks <br>\n",
        "Two science fiction novels by Prithwis Mukerjee. A dystopian Earth. A technocratic society managed by artificial intelligence. Escape and epiphany on Mars. Can man and machine, carbon and silicon explore and escape into other dimensions of existence? An Indic perspective rooted in Advaita Vedanta and the Divine Feminine.  [More information](http://bit.ly/chronobooks) <br>\n",
        "![alt text](https://github.com/Praxis-QR/RDWH/raw/main/images/CTCYFooter-1.png)"
      ],
      "metadata": {
        "id": "_gNiZpyW3AzJ"
      }
    },
    {
      "cell_type": "code",
      "source": [
        "from datetime import datetime\n",
        "import pytz\n",
        "print('Last tested  ',datetime.now(pytz.timezone('Asia/Kolkata')))"
      ],
      "metadata": {
        "colab": {
          "base_uri": "https://localhost:8080/"
        },
        "id": "wjBXJVhM605H",
        "outputId": "c6418f4a-db57-43d1-8b6d-30d5ba2731f4"
      },
      "execution_count": null,
      "outputs": [
        {
          "output_type": "stream",
          "name": "stdout",
          "text": [
            "Last tested   2023-12-31 16:01:25.642107+05:30\n"
          ]
        }
      ]
    }
  ]
}