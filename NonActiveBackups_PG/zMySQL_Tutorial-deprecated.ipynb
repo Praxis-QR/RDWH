{
  "nbformat": 4,
  "nbformat_minor": 0,
  "metadata": {
    "colab": {
      "name": "MySQL Tutorial",
      "provenance": [],
      "toc_visible": true,
      "include_colab_link": true
    },
    "kernelspec": {
      "name": "python3",
      "display_name": "Python 3"
    }
  },
  "cells": [
    {
      "cell_type": "markdown",
      "metadata": {
        "id": "view-in-github",
        "colab_type": "text"
      },
      "source": [
        "<a href=\"https://colab.research.google.com/github/Praxis-QR/RDWH/blob/main/MySQL_Tutorial.ipynb\" target=\"_parent\"><img src=\"https://colab.research.google.com/assets/colab-badge.svg\" alt=\"Open In Colab\"/></a>"
      ]
    },
    {
      "cell_type": "markdown",
      "metadata": {
        "id": "bCIotTZFo-E4"
      },
      "source": [
        "![alt text](https://4.bp.blogspot.com/-gbL5nZDkpFQ/XScFYwoTEII/AAAAAAAAAGY/CcVb_HDLwvs2Brv5T4vSsUcz7O4r2Q79ACK4BGAYYCw/s1600/kk3-header00-beta.png)<br>\n",
        "\n",
        "\n",
        "<hr>\n",
        "\n",
        "[Prithwis Mukerjee](http://www.linkedin.com/in/prithwis)<br>"
      ]
    },
    {
      "cell_type": "markdown",
      "source": [
        "# Source\n",
        "Based on the [tutorial](https://www.mysqltutorial.org/mysql-basics/) at MySQLTutorial.org"
      ],
      "metadata": {
        "id": "1ItWqa_7jewc"
      }
    },
    {
      "cell_type": "markdown",
      "source": [
        "#Using Local Server"
      ],
      "metadata": {
        "id": "uGvAzElNngKd"
      }
    },
    {
      "cell_type": "markdown",
      "metadata": {
        "id": "MCb2Qk4Fpajc"
      },
      "source": [
        "## Install MySQL"
      ]
    },
    {
      "cell_type": "code",
      "metadata": {
        "id": "Lz9UOPeupctr",
        "colab": {
          "base_uri": "https://localhost:8080/"
        },
        "outputId": "4222a2fd-2ee4-4d26-f387-f42017b6aff2"
      },
      "source": [
        "!apt update > /dev/null\n",
        "!apt install -y  mysql-server > /dev/null\n",
        "!/etc/init.d/mysql restart\n",
        "!mysql -e 'create database praxisDB'\n",
        "!mysql -e 'show databases'"
      ],
      "execution_count": 1,
      "outputs": [
        {
          "output_type": "stream",
          "name": "stdout",
          "text": [
            "\n",
            "WARNING: apt does not have a stable CLI interface. Use with caution in scripts.\n",
            "\n",
            "\n",
            "WARNING: apt does not have a stable CLI interface. Use with caution in scripts.\n",
            "\n",
            " * Stopping MySQL database server mysqld\n",
            "   ...done.\n",
            " * Starting MySQL database server mysqld\n",
            "No directory, logging in with HOME=/\n",
            "   ...done.\n",
            "+--------------------+\n",
            "| Database           |\n",
            "+--------------------+\n",
            "| information_schema |\n",
            "| mysql              |\n",
            "| performance_schema |\n",
            "| praxisDB           |\n",
            "| sys                |\n",
            "+--------------------+\n"
          ]
        }
      ]
    },
    {
      "cell_type": "markdown",
      "source": [
        "# Pythons Functions for SQL commands"
      ],
      "metadata": {
        "id": "eIoTpY-HBFLL"
      }
    },
    {
      "cell_type": "code",
      "source": [
        "!apt install libmysqlclient-dev > /dev/null\n",
        "!pip install mysqlclient > /dev/null\n",
        "import pandas as pd\n",
        "import MySQLdb"
      ],
      "metadata": {
        "colab": {
          "base_uri": "https://localhost:8080/"
        },
        "id": "muMYozz1D-EC",
        "outputId": "732ee04e-9869-4222-b175-abc69645e4ea"
      },
      "execution_count": 2,
      "outputs": [
        {
          "output_type": "stream",
          "name": "stdout",
          "text": [
            "\n",
            "WARNING: apt does not have a stable CLI interface. Use with caution in scripts.\n",
            "\n"
          ]
        }
      ]
    },
    {
      "cell_type": "code",
      "source": [
        "location = 'localDB'\n",
        "\n",
        "#To run any non-SELECT SQL command\n",
        "def runCMD (loc, DDL):\n",
        "    if loc == 'remoteDB':\n",
        "        DBConn = MySQLdb.connect(hostName,userName,passWord,dbName)\n",
        "    elif loc == 'localDB':\n",
        "        DBConn = MySQLdb.connect(db='classicmodels')\n",
        "    else :\n",
        "        print('location must be \"remoteDB or \"localDB\"')\n",
        "    \n",
        "    myCursor = DBConn.cursor()\n",
        "    retcode = myCursor.execute(DDL) \n",
        "    print (retcode)\n",
        "    DBConn.commit()\n",
        "    DBConn.close()\n",
        "\n",
        "#To run any SELECT SQL command\n",
        "def runSELECT (loc, CMD):\n",
        "    if loc == 'remoteDB':\n",
        "        DBConn = MySQLdb.connect(hostName,userName,passWord,dbName)\n",
        "    elif loc == 'localDB':\n",
        "        DBConn = MySQLdb.connect(db='classicmodels')\n",
        "    else :\n",
        "        print('location must be \"remoteDB or \"localDB\"')\n",
        "    \n",
        "    df_mysql = pd.read_sql(CMD, con=DBConn)    \n",
        "    DBConn.close()\n",
        "    return df_mysql"
      ],
      "metadata": {
        "id": "NVDDq2VmBgQH"
      },
      "execution_count": 3,
      "outputs": []
    },
    {
      "cell_type": "markdown",
      "source": [
        "# Install Database\n",
        "the SQL file to create the database is available [here](https://www.mysqltutorial.org/mysql-sample-database.aspx)"
      ],
      "metadata": {
        "id": "iXZVwgSwkHeH"
      }
    },
    {
      "cell_type": "code",
      "source": [
        "!wget https://www.mysqltutorial.org/wp-content/uploads/2018/03/mysqlsampledatabase.zip\n",
        "!unzip mysqlsampledatabase.zip"
      ],
      "metadata": {
        "colab": {
          "base_uri": "https://localhost:8080/"
        },
        "id": "Ez_8jVUqkLzi",
        "outputId": "717f8570-a863-4827-cacf-4c8f322e6dab"
      },
      "execution_count": 4,
      "outputs": [
        {
          "output_type": "stream",
          "name": "stdout",
          "text": [
            "--2022-03-11 06:15:46--  https://www.mysqltutorial.org/wp-content/uploads/2018/03/mysqlsampledatabase.zip\n",
            "Resolving www.mysqltutorial.org (www.mysqltutorial.org)... 151.139.128.11\n",
            "Connecting to www.mysqltutorial.org (www.mysqltutorial.org)|151.139.128.11|:443... connected.\n",
            "HTTP request sent, awaiting response... 200 OK\n",
            "Length: 54335 (53K) [application/zip]\n",
            "Saving to: ‘mysqlsampledatabase.zip’\n",
            "\n",
            "mysqlsampledatabase 100%[===================>]  53.06K  --.-KB/s    in 0.02s   \n",
            "\n",
            "2022-03-11 06:15:47 (2.78 MB/s) - ‘mysqlsampledatabase.zip’ saved [54335/54335]\n",
            "\n",
            "Archive:  mysqlsampledatabase.zip\n",
            "  inflating: mysqlsampledatabase.sql  \n"
          ]
        }
      ]
    },
    {
      "cell_type": "code",
      "source": [
        "!mysql < mysqlsampledatabase.sql"
      ],
      "metadata": {
        "id": "UXlkeLDnklqi"
      },
      "execution_count": 5,
      "outputs": []
    },
    {
      "cell_type": "code",
      "source": [
        "!mysql -e 'show databases'"
      ],
      "metadata": {
        "colab": {
          "base_uri": "https://localhost:8080/"
        },
        "id": "A4Coa4VhlIUb",
        "outputId": "052fc215-6f33-4f35-86b7-c117c2d8b4cb"
      },
      "execution_count": 6,
      "outputs": [
        {
          "output_type": "stream",
          "name": "stdout",
          "text": [
            "+--------------------+\n",
            "| Database           |\n",
            "+--------------------+\n",
            "| information_schema |\n",
            "| classicmodels      |\n",
            "| mysql              |\n",
            "| performance_schema |\n",
            "| praxisDB           |\n",
            "| sys                |\n",
            "+--------------------+\n"
          ]
        }
      ]
    },
    {
      "cell_type": "code",
      "source": [
        "!mysql classicmodels -e 'show tables'"
      ],
      "metadata": {
        "colab": {
          "base_uri": "https://localhost:8080/"
        },
        "id": "hz03P3nHlQpS",
        "outputId": "b9b1280b-d90b-476b-8375-bb7d27a2a378"
      },
      "execution_count": 7,
      "outputs": [
        {
          "output_type": "stream",
          "name": "stdout",
          "text": [
            "+-------------------------+\n",
            "| Tables_in_classicmodels |\n",
            "+-------------------------+\n",
            "| customers               |\n",
            "| employees               |\n",
            "| offices                 |\n",
            "| orderdetails            |\n",
            "| orders                  |\n",
            "| payments                |\n",
            "| productlines            |\n",
            "| products                |\n",
            "+-------------------------+\n"
          ]
        }
      ]
    },
    {
      "cell_type": "markdown",
      "source": [
        "## Test Tables"
      ],
      "metadata": {
        "id": "BioqSHNfl6T7"
      }
    },
    {
      "cell_type": "code",
      "source": [
        "#runSELECT(location, 'select * from customers')\n",
        "#runSELECT(location, 'select * from employees')\n",
        "#runSELECT(location, 'select * from orders')\n",
        "#runSELECT(location, 'select * from orderdetails')\n",
        "runSELECT(location, 'select * from products')\n"
      ],
      "metadata": {
        "colab": {
          "base_uri": "https://localhost:8080/",
          "height": 641
        },
        "id": "6j27kpJJmBQk",
        "outputId": "6a8d4359-897f-4656-cf7e-5d4449c5e31a"
      },
      "execution_count": 8,
      "outputs": [
        {
          "output_type": "execute_result",
          "data": {
            "text/html": [
              "\n",
              "  <div id=\"df-ad2c0693-430c-4973-ac9f-1340ebc4bb8f\">\n",
              "    <div class=\"colab-df-container\">\n",
              "      <div>\n",
              "<style scoped>\n",
              "    .dataframe tbody tr th:only-of-type {\n",
              "        vertical-align: middle;\n",
              "    }\n",
              "\n",
              "    .dataframe tbody tr th {\n",
              "        vertical-align: top;\n",
              "    }\n",
              "\n",
              "    .dataframe thead th {\n",
              "        text-align: right;\n",
              "    }\n",
              "</style>\n",
              "<table border=\"1\" class=\"dataframe\">\n",
              "  <thead>\n",
              "    <tr style=\"text-align: right;\">\n",
              "      <th></th>\n",
              "      <th>productCode</th>\n",
              "      <th>productName</th>\n",
              "      <th>productLine</th>\n",
              "      <th>productScale</th>\n",
              "      <th>productVendor</th>\n",
              "      <th>productDescription</th>\n",
              "      <th>quantityInStock</th>\n",
              "      <th>buyPrice</th>\n",
              "      <th>MSRP</th>\n",
              "    </tr>\n",
              "  </thead>\n",
              "  <tbody>\n",
              "    <tr>\n",
              "      <th>0</th>\n",
              "      <td>S10_1678</td>\n",
              "      <td>1969 Harley Davidson Ultimate Chopper</td>\n",
              "      <td>Motorcycles</td>\n",
              "      <td>1:10</td>\n",
              "      <td>Min Lin Diecast</td>\n",
              "      <td>This replica features working kickstand, front...</td>\n",
              "      <td>7933</td>\n",
              "      <td>48.81</td>\n",
              "      <td>95.70</td>\n",
              "    </tr>\n",
              "    <tr>\n",
              "      <th>1</th>\n",
              "      <td>S10_1949</td>\n",
              "      <td>1952 Alpine Renault 1300</td>\n",
              "      <td>Classic Cars</td>\n",
              "      <td>1:10</td>\n",
              "      <td>Classic Metal Creations</td>\n",
              "      <td>Turnable front wheels; steering function; deta...</td>\n",
              "      <td>7305</td>\n",
              "      <td>98.58</td>\n",
              "      <td>214.30</td>\n",
              "    </tr>\n",
              "    <tr>\n",
              "      <th>2</th>\n",
              "      <td>S10_2016</td>\n",
              "      <td>1996 Moto Guzzi 1100i</td>\n",
              "      <td>Motorcycles</td>\n",
              "      <td>1:10</td>\n",
              "      <td>Highway 66 Mini Classics</td>\n",
              "      <td>Official Moto Guzzi logos and insignias, saddl...</td>\n",
              "      <td>6625</td>\n",
              "      <td>68.99</td>\n",
              "      <td>118.94</td>\n",
              "    </tr>\n",
              "    <tr>\n",
              "      <th>3</th>\n",
              "      <td>S10_4698</td>\n",
              "      <td>2003 Harley-Davidson Eagle Drag Bike</td>\n",
              "      <td>Motorcycles</td>\n",
              "      <td>1:10</td>\n",
              "      <td>Red Start Diecast</td>\n",
              "      <td>Model features, official Harley Davidson logos...</td>\n",
              "      <td>5582</td>\n",
              "      <td>91.02</td>\n",
              "      <td>193.66</td>\n",
              "    </tr>\n",
              "    <tr>\n",
              "      <th>4</th>\n",
              "      <td>S10_4757</td>\n",
              "      <td>1972 Alfa Romeo GTA</td>\n",
              "      <td>Classic Cars</td>\n",
              "      <td>1:10</td>\n",
              "      <td>Motor City Art Classics</td>\n",
              "      <td>Features include: Turnable front wheels; steer...</td>\n",
              "      <td>3252</td>\n",
              "      <td>85.68</td>\n",
              "      <td>136.00</td>\n",
              "    </tr>\n",
              "    <tr>\n",
              "      <th>...</th>\n",
              "      <td>...</td>\n",
              "      <td>...</td>\n",
              "      <td>...</td>\n",
              "      <td>...</td>\n",
              "      <td>...</td>\n",
              "      <td>...</td>\n",
              "      <td>...</td>\n",
              "      <td>...</td>\n",
              "      <td>...</td>\n",
              "    </tr>\n",
              "    <tr>\n",
              "      <th>105</th>\n",
              "      <td>S700_3505</td>\n",
              "      <td>The Titanic</td>\n",
              "      <td>Ships</td>\n",
              "      <td>1:700</td>\n",
              "      <td>Carousel DieCast Legends</td>\n",
              "      <td>Completed model measures 19 1/2 inches long, 9...</td>\n",
              "      <td>1956</td>\n",
              "      <td>51.09</td>\n",
              "      <td>100.17</td>\n",
              "    </tr>\n",
              "    <tr>\n",
              "      <th>106</th>\n",
              "      <td>S700_3962</td>\n",
              "      <td>The Queen Mary</td>\n",
              "      <td>Ships</td>\n",
              "      <td>1:700</td>\n",
              "      <td>Welly Diecast Productions</td>\n",
              "      <td>Exact replica. Wood and Metal. Many extras inc...</td>\n",
              "      <td>5088</td>\n",
              "      <td>53.63</td>\n",
              "      <td>99.31</td>\n",
              "    </tr>\n",
              "    <tr>\n",
              "      <th>107</th>\n",
              "      <td>S700_4002</td>\n",
              "      <td>American Airlines: MD-11S</td>\n",
              "      <td>Planes</td>\n",
              "      <td>1:700</td>\n",
              "      <td>Second Gear Diecast</td>\n",
              "      <td>Polished finish. Exact replia with official lo...</td>\n",
              "      <td>8820</td>\n",
              "      <td>36.27</td>\n",
              "      <td>74.03</td>\n",
              "    </tr>\n",
              "    <tr>\n",
              "      <th>108</th>\n",
              "      <td>S72_1253</td>\n",
              "      <td>Boeing X-32A JSF</td>\n",
              "      <td>Planes</td>\n",
              "      <td>1:72</td>\n",
              "      <td>Motor City Art Classics</td>\n",
              "      <td>10\" Wingspan with retractable landing gears.Co...</td>\n",
              "      <td>4857</td>\n",
              "      <td>32.77</td>\n",
              "      <td>49.66</td>\n",
              "    </tr>\n",
              "    <tr>\n",
              "      <th>109</th>\n",
              "      <td>S72_3212</td>\n",
              "      <td>Pont Yacht</td>\n",
              "      <td>Ships</td>\n",
              "      <td>1:72</td>\n",
              "      <td>Unimax Art Galleries</td>\n",
              "      <td>Measures 38 inches Long x 33 3/4 inches High. ...</td>\n",
              "      <td>414</td>\n",
              "      <td>33.30</td>\n",
              "      <td>54.60</td>\n",
              "    </tr>\n",
              "  </tbody>\n",
              "</table>\n",
              "<p>110 rows × 9 columns</p>\n",
              "</div>\n",
              "      <button class=\"colab-df-convert\" onclick=\"convertToInteractive('df-ad2c0693-430c-4973-ac9f-1340ebc4bb8f')\"\n",
              "              title=\"Convert this dataframe to an interactive table.\"\n",
              "              style=\"display:none;\">\n",
              "        \n",
              "  <svg xmlns=\"http://www.w3.org/2000/svg\" height=\"24px\"viewBox=\"0 0 24 24\"\n",
              "       width=\"24px\">\n",
              "    <path d=\"M0 0h24v24H0V0z\" fill=\"none\"/>\n",
              "    <path d=\"M18.56 5.44l.94 2.06.94-2.06 2.06-.94-2.06-.94-.94-2.06-.94 2.06-2.06.94zm-11 1L8.5 8.5l.94-2.06 2.06-.94-2.06-.94L8.5 2.5l-.94 2.06-2.06.94zm10 10l.94 2.06.94-2.06 2.06-.94-2.06-.94-.94-2.06-.94 2.06-2.06.94z\"/><path d=\"M17.41 7.96l-1.37-1.37c-.4-.4-.92-.59-1.43-.59-.52 0-1.04.2-1.43.59L10.3 9.45l-7.72 7.72c-.78.78-.78 2.05 0 2.83L4 21.41c.39.39.9.59 1.41.59.51 0 1.02-.2 1.41-.59l7.78-7.78 2.81-2.81c.8-.78.8-2.07 0-2.86zM5.41 20L4 18.59l7.72-7.72 1.47 1.35L5.41 20z\"/>\n",
              "  </svg>\n",
              "      </button>\n",
              "      \n",
              "  <style>\n",
              "    .colab-df-container {\n",
              "      display:flex;\n",
              "      flex-wrap:wrap;\n",
              "      gap: 12px;\n",
              "    }\n",
              "\n",
              "    .colab-df-convert {\n",
              "      background-color: #E8F0FE;\n",
              "      border: none;\n",
              "      border-radius: 50%;\n",
              "      cursor: pointer;\n",
              "      display: none;\n",
              "      fill: #1967D2;\n",
              "      height: 32px;\n",
              "      padding: 0 0 0 0;\n",
              "      width: 32px;\n",
              "    }\n",
              "\n",
              "    .colab-df-convert:hover {\n",
              "      background-color: #E2EBFA;\n",
              "      box-shadow: 0px 1px 2px rgba(60, 64, 67, 0.3), 0px 1px 3px 1px rgba(60, 64, 67, 0.15);\n",
              "      fill: #174EA6;\n",
              "    }\n",
              "\n",
              "    [theme=dark] .colab-df-convert {\n",
              "      background-color: #3B4455;\n",
              "      fill: #D2E3FC;\n",
              "    }\n",
              "\n",
              "    [theme=dark] .colab-df-convert:hover {\n",
              "      background-color: #434B5C;\n",
              "      box-shadow: 0px 1px 3px 1px rgba(0, 0, 0, 0.15);\n",
              "      filter: drop-shadow(0px 1px 2px rgba(0, 0, 0, 0.3));\n",
              "      fill: #FFFFFF;\n",
              "    }\n",
              "  </style>\n",
              "\n",
              "      <script>\n",
              "        const buttonEl =\n",
              "          document.querySelector('#df-ad2c0693-430c-4973-ac9f-1340ebc4bb8f button.colab-df-convert');\n",
              "        buttonEl.style.display =\n",
              "          google.colab.kernel.accessAllowed ? 'block' : 'none';\n",
              "\n",
              "        async function convertToInteractive(key) {\n",
              "          const element = document.querySelector('#df-ad2c0693-430c-4973-ac9f-1340ebc4bb8f');\n",
              "          const dataTable =\n",
              "            await google.colab.kernel.invokeFunction('convertToInteractive',\n",
              "                                                     [key], {});\n",
              "          if (!dataTable) return;\n",
              "\n",
              "          const docLinkHtml = 'Like what you see? Visit the ' +\n",
              "            '<a target=\"_blank\" href=https://colab.research.google.com/notebooks/data_table.ipynb>data table notebook</a>'\n",
              "            + ' to learn more about interactive tables.';\n",
              "          element.innerHTML = '';\n",
              "          dataTable['output_type'] = 'display_data';\n",
              "          await google.colab.output.renderOutput(dataTable, element);\n",
              "          const docLink = document.createElement('div');\n",
              "          docLink.innerHTML = docLinkHtml;\n",
              "          element.appendChild(docLink);\n",
              "        }\n",
              "      </script>\n",
              "    </div>\n",
              "  </div>\n",
              "  "
            ],
            "text/plain": [
              "    productCode                            productName   productLine  \\\n",
              "0      S10_1678  1969 Harley Davidson Ultimate Chopper   Motorcycles   \n",
              "1      S10_1949               1952 Alpine Renault 1300  Classic Cars   \n",
              "2      S10_2016                  1996 Moto Guzzi 1100i   Motorcycles   \n",
              "3      S10_4698   2003 Harley-Davidson Eagle Drag Bike   Motorcycles   \n",
              "4      S10_4757                    1972 Alfa Romeo GTA  Classic Cars   \n",
              "..          ...                                    ...           ...   \n",
              "105   S700_3505                            The Titanic         Ships   \n",
              "106   S700_3962                         The Queen Mary         Ships   \n",
              "107   S700_4002              American Airlines: MD-11S        Planes   \n",
              "108    S72_1253                       Boeing X-32A JSF        Planes   \n",
              "109    S72_3212                             Pont Yacht         Ships   \n",
              "\n",
              "    productScale              productVendor  \\\n",
              "0           1:10            Min Lin Diecast   \n",
              "1           1:10    Classic Metal Creations   \n",
              "2           1:10   Highway 66 Mini Classics   \n",
              "3           1:10          Red Start Diecast   \n",
              "4           1:10    Motor City Art Classics   \n",
              "..           ...                        ...   \n",
              "105        1:700   Carousel DieCast Legends   \n",
              "106        1:700  Welly Diecast Productions   \n",
              "107        1:700        Second Gear Diecast   \n",
              "108         1:72    Motor City Art Classics   \n",
              "109         1:72       Unimax Art Galleries   \n",
              "\n",
              "                                    productDescription  quantityInStock  \\\n",
              "0    This replica features working kickstand, front...             7933   \n",
              "1    Turnable front wheels; steering function; deta...             7305   \n",
              "2    Official Moto Guzzi logos and insignias, saddl...             6625   \n",
              "3    Model features, official Harley Davidson logos...             5582   \n",
              "4    Features include: Turnable front wheels; steer...             3252   \n",
              "..                                                 ...              ...   \n",
              "105  Completed model measures 19 1/2 inches long, 9...             1956   \n",
              "106  Exact replica. Wood and Metal. Many extras inc...             5088   \n",
              "107  Polished finish. Exact replia with official lo...             8820   \n",
              "108  10\" Wingspan with retractable landing gears.Co...             4857   \n",
              "109  Measures 38 inches Long x 33 3/4 inches High. ...              414   \n",
              "\n",
              "     buyPrice    MSRP  \n",
              "0       48.81   95.70  \n",
              "1       98.58  214.30  \n",
              "2       68.99  118.94  \n",
              "3       91.02  193.66  \n",
              "4       85.68  136.00  \n",
              "..        ...     ...  \n",
              "105     51.09  100.17  \n",
              "106     53.63   99.31  \n",
              "107     36.27   74.03  \n",
              "108     32.77   49.66  \n",
              "109     33.30   54.60  \n",
              "\n",
              "[110 rows x 9 columns]"
            ]
          },
          "metadata": {},
          "execution_count": 8
        }
      ]
    },
    {
      "cell_type": "markdown",
      "source": [
        "#Common Table Expressions"
      ],
      "metadata": {
        "id": "mIGMIyLbqKJ3"
      }
    },
    {
      "cell_type": "code",
      "source": [
        "runSELECT(location, \"WITH customers_in_usa AS (\\\n",
        "    SELECT \\\n",
        "        customerName, state \\\n",
        "    FROM \\\n",
        "        customers \\\n",
        "    WHERE \\\n",
        "        country = 'USA' \\\n",
        ") SELECT \\\n",
        "    customerName \\\n",
        " FROM \\\n",
        "    customers_in_usa \\\n",
        " WHERE \\\n",
        "    state = 'CA' \\\n",
        " ORDER BY customerName;\")"
      ],
      "metadata": {
        "id": "mSvjPsgTl5K5",
        "outputId": "6b46ec45-3fb1-4365-9601-dcf0adc6f714",
        "colab": {
          "base_uri": "https://localhost:8080/",
          "height": 502
        }
      },
      "execution_count": 9,
      "outputs": [
        {
          "output_type": "error",
          "ename": "DatabaseError",
          "evalue": "ignored",
          "traceback": [
            "\u001b[0;31m---------------------------------------------------------------------------\u001b[0m",
            "\u001b[0;31mProgrammingError\u001b[0m                          Traceback (most recent call last)",
            "\u001b[0;32m/usr/local/lib/python3.7/dist-packages/pandas/io/sql.py\u001b[0m in \u001b[0;36mexecute\u001b[0;34m(self, *args, **kwargs)\u001b[0m\n\u001b[1;32m   2055\u001b[0m         \u001b[0;32mtry\u001b[0m\u001b[0;34m:\u001b[0m\u001b[0;34m\u001b[0m\u001b[0;34m\u001b[0m\u001b[0m\n\u001b[0;32m-> 2056\u001b[0;31m             \u001b[0mcur\u001b[0m\u001b[0;34m.\u001b[0m\u001b[0mexecute\u001b[0m\u001b[0;34m(\u001b[0m\u001b[0;34m*\u001b[0m\u001b[0margs\u001b[0m\u001b[0;34m,\u001b[0m \u001b[0;34m**\u001b[0m\u001b[0mkwargs\u001b[0m\u001b[0;34m)\u001b[0m\u001b[0;34m\u001b[0m\u001b[0;34m\u001b[0m\u001b[0m\n\u001b[0m\u001b[1;32m   2057\u001b[0m             \u001b[0;32mreturn\u001b[0m \u001b[0mcur\u001b[0m\u001b[0;34m\u001b[0m\u001b[0;34m\u001b[0m\u001b[0m\n",
            "\u001b[0;32m/usr/local/lib/python3.7/dist-packages/MySQLdb/cursors.py\u001b[0m in \u001b[0;36mexecute\u001b[0;34m(self, query, args)\u001b[0m\n\u001b[1;32m    205\u001b[0m         \u001b[0;32massert\u001b[0m \u001b[0misinstance\u001b[0m\u001b[0;34m(\u001b[0m\u001b[0mquery\u001b[0m\u001b[0;34m,\u001b[0m \u001b[0;34m(\u001b[0m\u001b[0mbytes\u001b[0m\u001b[0;34m,\u001b[0m \u001b[0mbytearray\u001b[0m\u001b[0;34m)\u001b[0m\u001b[0;34m)\u001b[0m\u001b[0;34m\u001b[0m\u001b[0;34m\u001b[0m\u001b[0m\n\u001b[0;32m--> 206\u001b[0;31m         \u001b[0mres\u001b[0m \u001b[0;34m=\u001b[0m \u001b[0mself\u001b[0m\u001b[0;34m.\u001b[0m\u001b[0m_query\u001b[0m\u001b[0;34m(\u001b[0m\u001b[0mquery\u001b[0m\u001b[0;34m)\u001b[0m\u001b[0;34m\u001b[0m\u001b[0;34m\u001b[0m\u001b[0m\n\u001b[0m\u001b[1;32m    207\u001b[0m         \u001b[0;32mreturn\u001b[0m \u001b[0mres\u001b[0m\u001b[0;34m\u001b[0m\u001b[0;34m\u001b[0m\u001b[0m\n",
            "\u001b[0;32m/usr/local/lib/python3.7/dist-packages/MySQLdb/cursors.py\u001b[0m in \u001b[0;36m_query\u001b[0;34m(self, q)\u001b[0m\n\u001b[1;32m    318\u001b[0m         \u001b[0mself\u001b[0m\u001b[0;34m.\u001b[0m\u001b[0m_result\u001b[0m \u001b[0;34m=\u001b[0m \u001b[0;32mNone\u001b[0m\u001b[0;34m\u001b[0m\u001b[0;34m\u001b[0m\u001b[0m\n\u001b[0;32m--> 319\u001b[0;31m         \u001b[0mdb\u001b[0m\u001b[0;34m.\u001b[0m\u001b[0mquery\u001b[0m\u001b[0;34m(\u001b[0m\u001b[0mq\u001b[0m\u001b[0;34m)\u001b[0m\u001b[0;34m\u001b[0m\u001b[0;34m\u001b[0m\u001b[0m\n\u001b[0m\u001b[1;32m    320\u001b[0m         \u001b[0mself\u001b[0m\u001b[0;34m.\u001b[0m\u001b[0m_do_get_result\u001b[0m\u001b[0;34m(\u001b[0m\u001b[0mdb\u001b[0m\u001b[0;34m)\u001b[0m\u001b[0;34m\u001b[0m\u001b[0;34m\u001b[0m\u001b[0m\n",
            "\u001b[0;32m/usr/local/lib/python3.7/dist-packages/MySQLdb/connections.py\u001b[0m in \u001b[0;36mquery\u001b[0;34m(self, query)\u001b[0m\n\u001b[1;32m    253\u001b[0m             \u001b[0mquery\u001b[0m \u001b[0;34m=\u001b[0m \u001b[0mbytes\u001b[0m\u001b[0;34m(\u001b[0m\u001b[0mquery\u001b[0m\u001b[0;34m)\u001b[0m\u001b[0;34m\u001b[0m\u001b[0;34m\u001b[0m\u001b[0m\n\u001b[0;32m--> 254\u001b[0;31m         \u001b[0m_mysql\u001b[0m\u001b[0;34m.\u001b[0m\u001b[0mconnection\u001b[0m\u001b[0;34m.\u001b[0m\u001b[0mquery\u001b[0m\u001b[0;34m(\u001b[0m\u001b[0mself\u001b[0m\u001b[0;34m,\u001b[0m \u001b[0mquery\u001b[0m\u001b[0;34m)\u001b[0m\u001b[0;34m\u001b[0m\u001b[0;34m\u001b[0m\u001b[0m\n\u001b[0m\u001b[1;32m    255\u001b[0m \u001b[0;34m\u001b[0m\u001b[0m\n",
            "\u001b[0;31mProgrammingError\u001b[0m: (1064, \"You have an error in your SQL syntax; check the manual that corresponds to your MySQL server version for the right syntax to use near 'customers_in_usa AS (    SELECT         customerName, state     FROM         cus' at line 1\")",
            "\nThe above exception was the direct cause of the following exception:\n",
            "\u001b[0;31mDatabaseError\u001b[0m                             Traceback (most recent call last)",
            "\u001b[0;32m<ipython-input-9-1cfd619b5862>\u001b[0m in \u001b[0;36m<module>\u001b[0;34m()\u001b[0m\n\u001b[0;32m----> 1\u001b[0;31m \u001b[0mrunSELECT\u001b[0m\u001b[0;34m(\u001b[0m\u001b[0mlocation\u001b[0m\u001b[0;34m,\u001b[0m \u001b[0;34m\"WITH customers_in_usa AS (    SELECT         customerName, state     FROM         customers     WHERE         country = 'USA' ) SELECT     customerName  FROM     customers_in_usa  WHERE     state = 'CA'  ORDER BY customerName;\"\u001b[0m\u001b[0;34m)\u001b[0m\u001b[0;34m\u001b[0m\u001b[0;34m\u001b[0m\u001b[0m\n\u001b[0m",
            "\u001b[0;32m<ipython-input-3-fde3d8b8d7d0>\u001b[0m in \u001b[0;36mrunSELECT\u001b[0;34m(loc, CMD)\u001b[0m\n\u001b[1;32m     25\u001b[0m         \u001b[0mprint\u001b[0m\u001b[0;34m(\u001b[0m\u001b[0;34m'location must be \"remoteDB or \"localDB\"'\u001b[0m\u001b[0;34m)\u001b[0m\u001b[0;34m\u001b[0m\u001b[0;34m\u001b[0m\u001b[0m\n\u001b[1;32m     26\u001b[0m \u001b[0;34m\u001b[0m\u001b[0m\n\u001b[0;32m---> 27\u001b[0;31m     \u001b[0mdf_mysql\u001b[0m \u001b[0;34m=\u001b[0m \u001b[0mpd\u001b[0m\u001b[0;34m.\u001b[0m\u001b[0mread_sql\u001b[0m\u001b[0;34m(\u001b[0m\u001b[0mCMD\u001b[0m\u001b[0;34m,\u001b[0m \u001b[0mcon\u001b[0m\u001b[0;34m=\u001b[0m\u001b[0mDBConn\u001b[0m\u001b[0;34m)\u001b[0m\u001b[0;34m\u001b[0m\u001b[0;34m\u001b[0m\u001b[0m\n\u001b[0m\u001b[1;32m     28\u001b[0m     \u001b[0mDBConn\u001b[0m\u001b[0;34m.\u001b[0m\u001b[0mclose\u001b[0m\u001b[0;34m(\u001b[0m\u001b[0;34m)\u001b[0m\u001b[0;34m\u001b[0m\u001b[0;34m\u001b[0m\u001b[0m\n\u001b[1;32m     29\u001b[0m     \u001b[0;32mreturn\u001b[0m \u001b[0mdf_mysql\u001b[0m\u001b[0;34m\u001b[0m\u001b[0;34m\u001b[0m\u001b[0m\n",
            "\u001b[0;32m/usr/local/lib/python3.7/dist-packages/pandas/io/sql.py\u001b[0m in \u001b[0;36mread_sql\u001b[0;34m(sql, con, index_col, coerce_float, params, parse_dates, columns, chunksize)\u001b[0m\n\u001b[1;32m    606\u001b[0m             \u001b[0mcoerce_float\u001b[0m\u001b[0;34m=\u001b[0m\u001b[0mcoerce_float\u001b[0m\u001b[0;34m,\u001b[0m\u001b[0;34m\u001b[0m\u001b[0;34m\u001b[0m\u001b[0m\n\u001b[1;32m    607\u001b[0m             \u001b[0mparse_dates\u001b[0m\u001b[0;34m=\u001b[0m\u001b[0mparse_dates\u001b[0m\u001b[0;34m,\u001b[0m\u001b[0;34m\u001b[0m\u001b[0;34m\u001b[0m\u001b[0m\n\u001b[0;32m--> 608\u001b[0;31m             \u001b[0mchunksize\u001b[0m\u001b[0;34m=\u001b[0m\u001b[0mchunksize\u001b[0m\u001b[0;34m,\u001b[0m\u001b[0;34m\u001b[0m\u001b[0;34m\u001b[0m\u001b[0m\n\u001b[0m\u001b[1;32m    609\u001b[0m         )\n\u001b[1;32m    610\u001b[0m \u001b[0;34m\u001b[0m\u001b[0m\n",
            "\u001b[0;32m/usr/local/lib/python3.7/dist-packages/pandas/io/sql.py\u001b[0m in \u001b[0;36mread_query\u001b[0;34m(self, sql, index_col, coerce_float, params, parse_dates, chunksize, dtype)\u001b[0m\n\u001b[1;32m   2114\u001b[0m \u001b[0;34m\u001b[0m\u001b[0m\n\u001b[1;32m   2115\u001b[0m         \u001b[0margs\u001b[0m \u001b[0;34m=\u001b[0m \u001b[0m_convert_params\u001b[0m\u001b[0;34m(\u001b[0m\u001b[0msql\u001b[0m\u001b[0;34m,\u001b[0m \u001b[0mparams\u001b[0m\u001b[0;34m)\u001b[0m\u001b[0;34m\u001b[0m\u001b[0;34m\u001b[0m\u001b[0m\n\u001b[0;32m-> 2116\u001b[0;31m         \u001b[0mcursor\u001b[0m \u001b[0;34m=\u001b[0m \u001b[0mself\u001b[0m\u001b[0;34m.\u001b[0m\u001b[0mexecute\u001b[0m\u001b[0;34m(\u001b[0m\u001b[0;34m*\u001b[0m\u001b[0margs\u001b[0m\u001b[0;34m)\u001b[0m\u001b[0;34m\u001b[0m\u001b[0;34m\u001b[0m\u001b[0m\n\u001b[0m\u001b[1;32m   2117\u001b[0m         \u001b[0mcolumns\u001b[0m \u001b[0;34m=\u001b[0m \u001b[0;34m[\u001b[0m\u001b[0mcol_desc\u001b[0m\u001b[0;34m[\u001b[0m\u001b[0;36m0\u001b[0m\u001b[0;34m]\u001b[0m \u001b[0;32mfor\u001b[0m \u001b[0mcol_desc\u001b[0m \u001b[0;32min\u001b[0m \u001b[0mcursor\u001b[0m\u001b[0;34m.\u001b[0m\u001b[0mdescription\u001b[0m\u001b[0;34m]\u001b[0m\u001b[0;34m\u001b[0m\u001b[0;34m\u001b[0m\u001b[0m\n\u001b[1;32m   2118\u001b[0m \u001b[0;34m\u001b[0m\u001b[0m\n",
            "\u001b[0;32m/usr/local/lib/python3.7/dist-packages/pandas/io/sql.py\u001b[0m in \u001b[0;36mexecute\u001b[0;34m(self, *args, **kwargs)\u001b[0m\n\u001b[1;32m   2066\u001b[0m \u001b[0;34m\u001b[0m\u001b[0m\n\u001b[1;32m   2067\u001b[0m             \u001b[0mex\u001b[0m \u001b[0;34m=\u001b[0m \u001b[0mDatabaseError\u001b[0m\u001b[0;34m(\u001b[0m\u001b[0;34mf\"Execution failed on sql '{args[0]}': {exc}\"\u001b[0m\u001b[0;34m)\u001b[0m\u001b[0;34m\u001b[0m\u001b[0;34m\u001b[0m\u001b[0m\n\u001b[0;32m-> 2068\u001b[0;31m             \u001b[0;32mraise\u001b[0m \u001b[0mex\u001b[0m \u001b[0;32mfrom\u001b[0m \u001b[0mexc\u001b[0m\u001b[0;34m\u001b[0m\u001b[0;34m\u001b[0m\u001b[0m\n\u001b[0m\u001b[1;32m   2069\u001b[0m \u001b[0;34m\u001b[0m\u001b[0m\n\u001b[1;32m   2070\u001b[0m     \u001b[0;34m@\u001b[0m\u001b[0mstaticmethod\u001b[0m\u001b[0;34m\u001b[0m\u001b[0;34m\u001b[0m\u001b[0m\n",
            "\u001b[0;31mDatabaseError\u001b[0m: Execution failed on sql 'WITH customers_in_usa AS (    SELECT         customerName, state     FROM         customers     WHERE         country = 'USA' ) SELECT     customerName  FROM     customers_in_usa  WHERE     state = 'CA'  ORDER BY customerName;': (1064, \"You have an error in your SQL syntax; check the manual that corresponds to your MySQL server version for the right syntax to use near 'customers_in_usa AS (    SELECT         customerName, state     FROM         cus' at line 1\")"
          ]
        }
      ]
    },
    {
      "cell_type": "code",
      "source": [
        "!mysql classicmodels -e \" \\\n",
        "SELECT customerName \\\n",
        " FROM \\\n",
        "    (select customerName, state from  customers \\\n",
        "     where country = 'USA'\\\n",
        "     ) as customers_in_usa \\\n",
        " WHERE state = 'CA' ORDER BY customerName \\\n",
        "\""
      ],
      "metadata": {
        "id": "WqI6ge5_oPcL",
        "outputId": "c22d6dbc-4ab7-4676-882a-5f0be6fac155",
        "colab": {
          "base_uri": "https://localhost:8080/"
        }
      },
      "execution_count": 17,
      "outputs": [
        {
          "output_type": "stream",
          "name": "stdout",
          "text": [
            "+------------------------------+\n",
            "| customerName                 |\n",
            "+------------------------------+\n",
            "| Boards & Toys Co.            |\n",
            "| Collectable Mini Designs Co. |\n",
            "| Corporate Gift Ideas Co.     |\n",
            "| Men 'R' US Retailers, Ltd.   |\n",
            "| Mini Gifts Distributors Ltd. |\n",
            "| Mini Wheels Co.              |\n",
            "| Signal Collectibles Ltd.     |\n",
            "| Technics Stores Inc.         |\n",
            "| The Sharp Gifts Warehouse    |\n",
            "| Toys4GrownUps.com            |\n",
            "| West Coast Collectables Co.  |\n",
            "+------------------------------+\n"
          ]
        }
      ]
    },
    {
      "cell_type": "markdown",
      "source": [
        "# Tutorial"
      ],
      "metadata": {
        "id": "fC7WdPuwnyEY"
      }
    },
    {
      "cell_type": "markdown",
      "source": [
        "## Section 1 - Querying Data"
      ],
      "metadata": {
        "id": "JE0tPq02n0lC"
      }
    },
    {
      "cell_type": "code",
      "source": [
        ""
      ],
      "metadata": {
        "id": "WEqyJgi2oCBB"
      },
      "execution_count": null,
      "outputs": []
    },
    {
      "cell_type": "markdown",
      "source": [
        "## Section 2 - Sorting Data"
      ],
      "metadata": {
        "id": "qs_ZWjXdoCvA"
      }
    },
    {
      "cell_type": "code",
      "source": [
        ""
      ],
      "metadata": {
        "id": "30etSqFaoFyG"
      },
      "execution_count": null,
      "outputs": []
    },
    {
      "cell_type": "markdown",
      "source": [
        "## Section 3 - Filtering Data"
      ],
      "metadata": {
        "id": "LacFGng_oGbU"
      }
    },
    {
      "cell_type": "code",
      "source": [
        ""
      ],
      "metadata": {
        "id": "Hi5kg5qaoMnN"
      },
      "execution_count": null,
      "outputs": []
    },
    {
      "cell_type": "markdown",
      "source": [
        "## Section .... and do on"
      ],
      "metadata": {
        "id": "yyavEErfoNBT"
      }
    },
    {
      "cell_type": "markdown",
      "metadata": {
        "id": "4phrtjaE_tyS"
      },
      "source": [
        "#Chronobooks <br>\n",
        "![alt text](https://1.bp.blogspot.com/-lTiYBkU2qbU/X1er__fvnkI/AAAAAAAAjtE/GhDR3OEGJr4NG43fZPodrQD5kbxtnKebgCLcBGAsYHQ/s600/Footer2020-600x200.png)<hr>\n",
        "Chronotantra and Chronoyantra are two science fiction novels that explore the collapse of human civilisation on Earth and then its rebirth and reincarnation both on Earth as well as on the distant worlds of Mars, Titan and Enceladus. But is it the human civilisation that is being reborn? Or is it some other sentience that is revealing itself. \n",
        "If you have an interest in AI and found this material useful, you may consider buying these novels, in paperback or kindle, from [http://bit.ly/chronobooks](http://bit.ly/chronobooks)"
      ]
    }
  ]
}
