{
  "nbformat": 4,
  "nbformat_minor": 0,
  "metadata": {
    "colab": {
      "provenance": [],
      "toc_visible": true,
      "include_colab_link": true
    },
    "kernelspec": {
      "name": "python3",
      "display_name": "Python 3"
    },
    "language_info": {
      "name": "python"
    }
  },
  "cells": [
    {
      "cell_type": "markdown",
      "metadata": {
        "id": "view-in-github",
        "colab_type": "text"
      },
      "source": [
        "<a href=\"https://colab.research.google.com/github/Praxis-QR/RDWH/blob/main/PostgreSQL_03A_ROLAP.ipynb\" target=\"_parent\"><img src=\"https://colab.research.google.com/assets/colab-badge.svg\" alt=\"Open In Colab\"/></a>"
      ]
    },
    {
      "cell_type": "markdown",
      "source": [
        "![Yantrajaal Banner](https://github.com/Praxis-QR/RDWH/raw/main/images/YantraJaalBanner.png)<br>\n",
        "\n",
        "\n",
        "<hr>\n",
        "\n",
        "[Prithwis Mukerjee](http://www.linkedin.com/in/prithwis)<br>\n",
        "![RolapCube](https://raw.githubusercontent.com/Praxis-QR/RDWH/main/images/rolapcubes.png) <br>\n",
        "[Slide Deck](https://docs.google.com/presentation/d/1IwaB6Gy6InZUUGWsbp_m4JpHyZdqkBw-dVlSLNVLr6Y/edit?usp=sharing)"
      ],
      "metadata": {
        "id": "DBzz-qaN2tKu"
      }
    },
    {
      "cell_type": "markdown",
      "source": [
        "#Install & Configure Postgres"
      ],
      "metadata": {
        "id": "nD-QawLT6kDr"
      }
    },
    {
      "cell_type": "code",
      "source": [
        "from datetime import datetime\n",
        "import pytz\n",
        "print('Tested on ',datetime.now(pytz.timezone('Asia/Calcutta')))\n",
        "!python --version\n",
        "!lsb_release -a"
      ],
      "metadata": {
        "id": "txwvst5Hs5mI",
        "outputId": "6b9c9b9a-1fe0-495a-b9ff-7c76eb93ba66",
        "colab": {
          "base_uri": "https://localhost:8080/"
        }
      },
      "execution_count": 1,
      "outputs": [
        {
          "output_type": "stream",
          "name": "stdout",
          "text": [
            "Tested on  2024-01-07 10:33:29.667955+05:30\n",
            "Python 3.10.12\n",
            "No LSB modules are available.\n",
            "Distributor ID:\tUbuntu\n",
            "Description:\tUbuntu 22.04.3 LTS\n",
            "Release:\t22.04\n",
            "Codename:\tjammy\n"
          ]
        }
      ]
    },
    {
      "cell_type": "markdown",
      "source": [
        "For Connecting to a Postgres server on Amazon RDS, see [this notebook](https://github.com/Praxis-QR/RDWH/blob/main/PostgreSQL_01_Install_Config.ipynb)"
      ],
      "metadata": {
        "id": "9w29_O07rTPE"
      }
    },
    {
      "cell_type": "code",
      "source": [
        "# Install postgresql server\n",
        "\n",
        "!apt update > /dev/null\n",
        "!apt install postgresql > /dev/null\n",
        "#!sudo -u postgres psql -V\n",
        "!psql -V\n",
        "!service postgresql start"
      ],
      "metadata": {
        "colab": {
          "base_uri": "https://localhost:8080/"
        },
        "id": "o_RaqE0OOHP3",
        "outputId": "86713135-1083-4a4e-ecb1-7e46574a7440"
      },
      "execution_count": 2,
      "outputs": [
        {
          "output_type": "stream",
          "name": "stdout",
          "text": [
            "\n",
            "WARNING: apt does not have a stable CLI interface. Use with caution in scripts.\n",
            "\n",
            "\n",
            "WARNING: apt does not have a stable CLI interface. Use with caution in scripts.\n",
            "\n",
            "psql (PostgreSQL) 14.10 (Ubuntu 14.10-0ubuntu0.22.04.1)\n",
            " * Starting PostgreSQL 14 database server\n",
            "   ...done.\n"
          ]
        }
      ]
    },
    {
      "cell_type": "code",
      "source": [
        "#!pip install psycopg2\n",
        "import psycopg2\n",
        "import pandas as pd"
      ],
      "metadata": {
        "id": "719jvpeIjLZX"
      },
      "execution_count": 3,
      "outputs": []
    },
    {
      "cell_type": "code",
      "source": [
        "# This has created an Ubuntu user 'postgres' AND a Postgres database user 'postgres' both of which are superusers\n",
        "#!cat /etc/passwd\n",
        "# Use these users to create a new database user called 'upraxis' and give it a password 'upass'\n",
        "#!sudo -u postgres createuser --superuser upraxis\n",
        "!sudo -u postgres createuser upraxis\n",
        "!sudo -u postgres psql -U postgres -c \"ALTER USER upraxis PASSWORD 'upass';\"\n",
        "# Change the database superuser 'postgres' to a non-default value 'pass'\n",
        "!sudo -u postgres psql -U postgres -c \"ALTER USER postgres PASSWORD 'pass';\"\n",
        "# Use ubuntu superuser to create database dbpraxis and set its owner to upraxis\n",
        "!sudo -u postgres createdb -O upraxis dbpraxis\n"
      ],
      "metadata": {
        "colab": {
          "base_uri": "https://localhost:8080/"
        },
        "id": "xr5kHaY_U4CZ",
        "outputId": "e2bcaec6-57d1-43e2-8349-123028cd7060"
      },
      "execution_count": 4,
      "outputs": [
        {
          "output_type": "stream",
          "name": "stdout",
          "text": [
            "ALTER ROLE\n",
            "ALTER ROLE\n"
          ]
        }
      ]
    },
    {
      "cell_type": "code",
      "source": [
        "# Create file to store the password. Else will be prompted each time\n",
        "#!echo \"localhost:5432:praxisdb:postgres:pass\" > ~/.pgpass\n",
        "!echo \"localhost:5432:dbpraxis:upraxis:upass\" > ~/.pgpass\n",
        "!chmod 0600 ~/.pgpass\n",
        "!cat ~/.pgpass"
      ],
      "metadata": {
        "colab": {
          "base_uri": "https://localhost:8080/"
        },
        "id": "kFDLMhnTWwuz",
        "outputId": "002ae6df-542e-4bd0-83f7-e3d51a45e7b4"
      },
      "execution_count": 5,
      "outputs": [
        {
          "output_type": "stream",
          "name": "stdout",
          "text": [
            "localhost:5432:dbpraxis:upraxis:upass\n"
          ]
        }
      ]
    },
    {
      "cell_type": "markdown",
      "source": [
        "## Python Access\n",
        "https://www.tutorialspoint.com/python_data_access/python_postgresql_database_connection.htm"
      ],
      "metadata": {
        "id": "faZEj8_7CeZ8"
      }
    },
    {
      "cell_type": "code",
      "source": [
        "# Local Colab server\n",
        "\n",
        "conn = psycopg2.connect(database=\"dbpraxis\", user='upraxis', password='upass', host='127.0.0.1', port= '5432')\n",
        "#Creating a cursor object using the cursor() method\n",
        "cursor = conn.cursor()\n",
        "#Executing an MYSQL function using the execute() method\n",
        "cursor.execute(\"select version()\")\n",
        "# Fetch a single row using fetchone() method.\n",
        "data = cursor.fetchone()\n",
        "print(\"Connection established to: \",data)\n",
        "#Closing the connection\n",
        "conn.close()"
      ],
      "metadata": {
        "id": "wcE-8UBnC4zV",
        "outputId": "22543e7e-de75-488e-f9e2-19ad402c0876",
        "colab": {
          "base_uri": "https://localhost:8080/"
        }
      },
      "execution_count": 6,
      "outputs": [
        {
          "output_type": "stream",
          "name": "stdout",
          "text": [
            "Connection established to:  ('PostgreSQL 14.10 (Ubuntu 14.10-0ubuntu0.22.04.1) on x86_64-pc-linux-gnu, compiled by gcc (Ubuntu 11.4.0-1ubuntu1~22.04) 11.4.0, 64-bit',)\n"
          ]
        }
      ]
    },
    {
      "cell_type": "code",
      "source": [
        "# function to execute SQL select statements with Postgres\n",
        "#\n",
        "def runSelect(s):\n",
        "    #Set up connection\n",
        "\n",
        "    conn = psycopg2.connect(database=\"dbpraxis\", user='upraxis', password='upass', host='127.0.0.1', port= '5432')\n",
        "    #Setting auto commit true\n",
        "    conn.autocommit = True\n",
        "    #Creating a cursor object using the cursor() method\n",
        "    cursor = conn.cursor()\n",
        "    #Retrieving data\n",
        "    cursor.execute(s)\n",
        "    #Fetching all rows from the table\n",
        "    result = cursor.fetchall();\n",
        "    #print(len(result))\n",
        "    if (len(result)) > 0:                                       # result contains at least one row\n",
        "        colnames = [desc[0] for desc in cursor.description]     # get column names\n",
        "        #print(colnames)\n",
        "        resultdf = pd.DataFrame(result)                         # convert list to dataframe\n",
        "        resultdf.columns = colnames                             # add column names\n",
        "        #return resultdf\n",
        "        return resultdf.style.hide()                            # hide the index\n",
        "    else:\n",
        "        print('no records found')\n",
        "        return\n",
        "# function to execute SQL non-select statements with Postgres\n",
        "#\n",
        "def runCmd(s):\n",
        "    #Create Connection\n",
        "    conn = psycopg2.connect(database=\"dbpraxis\", user='upraxis', password='upass', host='127.0.0.1', port= '5432')\n",
        "    #Creating a cursor object using the cursor() method\n",
        "    cursor = conn.cursor()\n",
        "    try:\n",
        "        cursor.execute(s)\n",
        "        print('Command executed')\n",
        "        conn.commit()\n",
        "    except:\n",
        "        print('Command failed')\n",
        "    #Closing the connection\n",
        "    conn.close()"
      ],
      "metadata": {
        "id": "ht2k7-3iggNd"
      },
      "execution_count": 7,
      "outputs": []
    },
    {
      "cell_type": "markdown",
      "source": [
        "# Build Standard Fact Table"
      ],
      "metadata": {
        "id": "UpKxIxq_7GfT"
      }
    },
    {
      "cell_type": "markdown",
      "source": [
        "## Create Normalised Fact Table"
      ],
      "metadata": {
        "id": "mzJFA1yx7tPe"
      }
    },
    {
      "cell_type": "code",
      "source": [
        "!psql -h localhost -p 5432 -Uupraxis -ddbpraxis -c \"\\\n",
        "DROP table if exists CarSalesFact_N;\\\n",
        "CREATE TABLE if not exists CarSalesFact_N ( Txn int ,  Dim  varchar(8) ,  DimValue varchar(8) );\\\n",
        "INSERT INTO CarSalesFact_N (Txn, Dim, DimValue) VALUES \\\n",
        " (1, 'Make', 'Honda'),(1, 'Type', 'SUV'),(1, 'Colour', 'Red'),\\\n",
        " (2, 'Make', 'Honda'),(2, 'Type', 'SUV'),(2, 'Colour', 'Black'), \\\n",
        " (3, 'Make', 'Honda'),(3, 'Type', 'Sedan'),(3, 'Colour', 'Brown'),\\\n",
        " (4, 'Make', 'Toyota'),(4, 'Type', 'Compact'),(4, 'Colour', 'Red'),\\\n",
        " (5, 'Make', 'Toyota'),(5, 'Colour', 'Black'),(5, 'Type', 'Sedan'),\\\n",
        " (6, 'Make', 'Toyota'),(6, 'Colour', 'Black'),(6, 'Type', 'Sedan'),\\\n",
        " (7, 'Make', 'Honda'),(7, 'Type', 'SUV'),(7, 'Colour', 'Black'),\\\n",
        " (8, 'Make', 'Honda'),(8, 'Type', 'SUV'),(8, 'Colour', 'Red'),\\\n",
        " (9, 'Make', 'Honda'),(9, 'Type', 'SUV'),(9, 'Colour', 'Black'),\\\n",
        " (10, 'Make', 'Honda'),(10, 'Type', 'SUV'),(10, 'Colour', 'Black'),\\\n",
        " (11, 'Make', 'Mazda'),(11, 'Type', 'SUV'),(11, 'Colour', 'Black'),\\\n",
        " (12, 'Make', 'Mazda'),(12, 'Type', 'Compact'),(12, 'Colour', 'Red'),\\\n",
        " (13, 'Make', 'Mazda'),(13, 'Type', 'Sedan'),(13, 'Colour', 'Brown'),\\\n",
        " (14, 'Make', 'Mazda'),(14, 'Type', 'SUV'),(14, 'Colour', 'Red');\\\n",
        "\"\n",
        "#runCmd(ddl)\n"
      ],
      "metadata": {
        "colab": {
          "base_uri": "https://localhost:8080/"
        },
        "id": "MDwbINEO7V-4",
        "outputId": "a93a2a53-f89a-41f7-b5df-8bebb75a41b0"
      },
      "execution_count": 8,
      "outputs": [
        {
          "output_type": "stream",
          "name": "stdout",
          "text": [
            "NOTICE:  table \"carsalesfact_n\" does not exist, skipping\n",
            "INSERT 0 42\n"
          ]
        }
      ]
    },
    {
      "cell_type": "markdown",
      "source": [
        "## Transpose (\"Pivot\") Columns to Rows\n",
        "Convert a Normalised Fact Table to a Standard Fact Table"
      ],
      "metadata": {
        "id": "k0rXiciVtu7Q"
      }
    },
    {
      "cell_type": "code",
      "source": [
        "#runSelect(\"select * from CarSalesFact_N\")\n",
        "!psql -h localhost -p 5432 -Uupraxis -ddbpraxis -c \"select * from CarSalesFact_N\""
      ],
      "metadata": {
        "id": "N3NZv0YahSs6",
        "outputId": "173765bf-a6c4-45ac-cd84-8cf0a0dbb04d",
        "colab": {
          "base_uri": "https://localhost:8080/"
        }
      },
      "execution_count": 9,
      "outputs": [
        {
          "output_type": "stream",
          "name": "stdout",
          "text": [
            " txn |  dim   | dimvalue \n",
            "-----+--------+----------\n",
            "   1 | Make   | Honda\n",
            "   1 | Type   | SUV\n",
            "   1 | Colour | Red\n",
            "   2 | Make   | Honda\n",
            "   2 | Type   | SUV\n",
            "   2 | Colour | Black\n",
            "   3 | Make   | Honda\n",
            "   3 | Type   | Sedan\n",
            "   3 | Colour | Brown\n",
            "   4 | Make   | Toyota\n",
            "   4 | Type   | Compact\n",
            "   4 | Colour | Red\n",
            "   5 | Make   | Toyota\n",
            "   5 | Colour | Black\n",
            "   5 | Type   | Sedan\n",
            "   6 | Make   | Toyota\n",
            "   6 | Colour | Black\n",
            "   6 | Type   | Sedan\n",
            "   7 | Make   | Honda\n",
            "   7 | Type   | SUV\n",
            "   7 | Colour | Black\n",
            "   8 | Make   | Honda\n",
            "   8 | Type   | SUV\n",
            "   8 | Colour | Red\n",
            "   9 | Make   | Honda\n",
            "   9 | Type   | SUV\n",
            "   9 | Colour | Black\n",
            "  10 | Make   | Honda\n",
            "  10 | Type   | SUV\n",
            "  10 | Colour | Black\n",
            "  11 | Make   | Mazda\n",
            "  11 | Type   | SUV\n",
            "  11 | Colour | Black\n",
            "  12 | Make   | Mazda\n",
            "  12 | Type   | Compact\n",
            "  12 | Colour | Red\n",
            "  13 | Make   | Mazda\n",
            "  13 | Type   | Sedan\n",
            "  13 | Colour | Brown\n",
            "  14 | Make   | Mazda\n",
            "  14 | Type   | SUV\n",
            "  14 | Colour | Red\n",
            "(42 rows)\n",
            "\n"
          ]
        }
      ]
    },
    {
      "cell_type": "code",
      "source": [
        "!psql -h localhost -p 5432 -Uupraxis -ddbpraxis -c \" \\\n",
        "SELECT \\\n",
        "  Txn,\\\n",
        "  string_agg(case when Dim = 'Make' then DimValue else NULL end,';') Make,\\\n",
        "  string_agg(case when Dim = 'Type' then DimValue else NULL end,';') Type,\\\n",
        "  string_agg(case when Dim = 'Colour' then DimValue else NULL end,';') Colour \\\n",
        "FROM CarSalesFact_N \\\n",
        "GROUP BY txn\\\n",
        "\"\n",
        "#runSelect(sql)\n"
      ],
      "metadata": {
        "colab": {
          "base_uri": "https://localhost:8080/"
        },
        "id": "5ZdLY4Xuvllk",
        "outputId": "eca2f948-5f00-48e6-b39c-c7384afefa6c"
      },
      "execution_count": 10,
      "outputs": [
        {
          "output_type": "stream",
          "name": "stdout",
          "text": [
            " txn |  make  |  type   | colour \n",
            "-----+--------+---------+--------\n",
            "   1 | Honda  | SUV     | Red\n",
            "   2 | Honda  | SUV     | Black\n",
            "   3 | Honda  | Sedan   | Brown\n",
            "   4 | Toyota | Compact | Red\n",
            "   5 | Toyota | Sedan   | Black\n",
            "   6 | Toyota | Sedan   | Black\n",
            "   7 | Honda  | SUV     | Black\n",
            "   8 | Honda  | SUV     | Red\n",
            "   9 | Honda  | SUV     | Black\n",
            "  10 | Honda  | SUV     | Black\n",
            "  11 | Mazda  | SUV     | Black\n",
            "  12 | Mazda  | Compact | Red\n",
            "  13 | Mazda  | Sedan   | Brown\n",
            "  14 | Mazda  | SUV     | Red\n",
            "(14 rows)\n",
            "\n"
          ]
        }
      ]
    },
    {
      "cell_type": "code",
      "source": [
        "!psql -h localhost -p 5432 -Uupraxis -ddbpraxis -c \" \\\n",
        "select csf0.Make, csf0.Type, csf0.Colour, count(txn) Units from \\\n",
        "    ( \\\n",
        "    SELECT \\\n",
        "    Txn,\\\n",
        "    string_agg(case when Dim = 'Make' then DimValue else NULL end,';') Make,\\\n",
        "    string_agg(case when Dim = 'Type' then DimValue else NULL end,';') Type,\\\n",
        "    string_agg(case when Dim = 'Colour' then DimValue else NULL end,';') Colour \\\n",
        "    FROM CarSalesFact_N \\\n",
        "    GROUP BY txn\\\n",
        "    ) as csf0 \\\n",
        "group by \\\n",
        "csf0.Make, csf0.Type, csf0.Colour \\\n",
        "\"\n",
        "#runSelect(sql)"
      ],
      "metadata": {
        "colab": {
          "base_uri": "https://localhost:8080/"
        },
        "id": "FnRoFQKQ2YUZ",
        "outputId": "fc28a6db-3e39-4a8f-f28a-b0887c69b856"
      },
      "execution_count": 11,
      "outputs": [
        {
          "output_type": "stream",
          "name": "stdout",
          "text": [
            "  make  |  type   | colour | units \n",
            "--------+---------+--------+-------\n",
            " Honda  | SUV     | Red    |     2\n",
            " Honda  | SUV     | Black  |     4\n",
            " Toyota | Compact | Red    |     1\n",
            " Mazda  | Compact | Red    |     1\n",
            " Mazda  | SUV     | Red    |     1\n",
            " Toyota | Sedan   | Black  |     2\n",
            " Honda  | Sedan   | Brown  |     1\n",
            " Mazda  | Sedan   | Brown  |     1\n",
            " Mazda  | SUV     | Black  |     1\n",
            "(9 rows)\n",
            "\n"
          ]
        }
      ]
    },
    {
      "cell_type": "markdown",
      "source": [
        "## Create Standard Fact Table"
      ],
      "metadata": {
        "id": "5g0B2epY70xA"
      }
    },
    {
      "cell_type": "code",
      "source": [
        "ddl = \"\\\n",
        "drop table if exists CarSalesFact_S; \\\n",
        "create table if not exists CarSalesFact_S as ( \\\n",
        "    select csf0.Make, csf0.Type, csf0.Colour, count(txn) Units from \\\n",
        "        ( \\\n",
        "        SELECT \\\n",
        "        Txn,\\\n",
        "        string_agg(case when Dim = 'Make' then DimValue else NULL end,';') Make,\\\n",
        "        string_agg(case when Dim = 'Type' then DimValue else NULL end,';') Type,\\\n",
        "        string_agg(case when Dim = 'Colour' then DimValue else NULL end,';') Colour \\\n",
        "        FROM CarSalesFact_N \\\n",
        "        GROUP BY txn\\\n",
        "        ) as csf0 \\\n",
        "    group by \\\n",
        "    csf0.Make, csf0.Type, csf0.Colour \\\n",
        "    ) \\\n",
        "\"\n",
        "runCmd(ddl)"
      ],
      "metadata": {
        "colab": {
          "base_uri": "https://localhost:8080/"
        },
        "id": "fQrVdvuD3OIX",
        "outputId": "ea683196-f252-4fcc-f372-a6a498038dab"
      },
      "execution_count": 12,
      "outputs": [
        {
          "output_type": "stream",
          "name": "stdout",
          "text": [
            "Command executed\n"
          ]
        }
      ]
    },
    {
      "cell_type": "code",
      "source": [
        "#runSelect(\"select * from CarSalesFact_S\")\n",
        "!psql -h localhost -p 5432 -Uupraxis -ddbpraxis -c \"select * from CarSalesFact_S\""
      ],
      "metadata": {
        "colab": {
          "base_uri": "https://localhost:8080/"
        },
        "id": "khq53WrI4JGY",
        "outputId": "319ad4f9-52e6-4097-fd72-c4d61ab33dff"
      },
      "execution_count": 13,
      "outputs": [
        {
          "output_type": "stream",
          "name": "stdout",
          "text": [
            "  make  |  type   | colour | units \n",
            "--------+---------+--------+-------\n",
            " Honda  | SUV     | Red    |     2\n",
            " Honda  | SUV     | Black  |     4\n",
            " Toyota | Compact | Red    |     1\n",
            " Mazda  | Compact | Red    |     1\n",
            " Mazda  | SUV     | Red    |     1\n",
            " Toyota | Sedan   | Black  |     2\n",
            " Honda  | Sedan   | Brown  |     1\n",
            " Mazda  | Sedan   | Brown  |     1\n",
            " Mazda  | SUV     | Black  |     1\n",
            "(9 rows)\n",
            "\n"
          ]
        }
      ]
    },
    {
      "cell_type": "markdown",
      "source": [
        "#PIVOT a.k.a. Crosstab"
      ],
      "metadata": {
        "id": "chK7LJhP8ELu"
      }
    },
    {
      "cell_type": "markdown",
      "source": [
        "## Level 1 - Simple Group By"
      ],
      "metadata": {
        "id": "IosDeDv78L_1"
      }
    },
    {
      "cell_type": "code",
      "source": [
        "!psql -h localhost -p 5432 -Uupraxis -ddbpraxis -c \"\\\n",
        "select Make, Type, Sum(Units) Count \\\n",
        "  from CarSalesFact_S \\\n",
        "  group by Make, Type \\\n",
        "\"\n",
        "#runSelect(sql)"
      ],
      "metadata": {
        "colab": {
          "base_uri": "https://localhost:8080/"
        },
        "id": "oGu4452n8Tpp",
        "outputId": "da78291f-3360-462b-f69b-545b2e49f4d3"
      },
      "execution_count": 14,
      "outputs": [
        {
          "output_type": "stream",
          "name": "stdout",
          "text": [
            "  make  |  type   | count \n",
            "--------+---------+-------\n",
            " Mazda  | SUV     |     2\n",
            " Honda  | SUV     |     6\n",
            " Mazda  | Sedan   |     1\n",
            " Toyota | Compact |     1\n",
            " Toyota | Sedan   |     2\n",
            " Honda  | Sedan   |     1\n",
            " Mazda  | Compact |     1\n",
            "(7 rows)\n",
            "\n"
          ]
        }
      ]
    },
    {
      "cell_type": "markdown",
      "source": [
        "## Level 2 : Group BY with ROLLUP"
      ],
      "metadata": {
        "id": "57jOZZMB8qux"
      }
    },
    {
      "cell_type": "markdown",
      "source": [
        "### Basic Rollup"
      ],
      "metadata": {
        "id": "-2GW9MSi_s0e"
      }
    },
    {
      "cell_type": "code",
      "source": [
        "!psql -h localhost -p 5432 -Uupraxis -ddbpraxis -c\"\\\n",
        "select Make, Type, Sum(Units) Count \\\n",
        "  from CarSalesFact_S \\\n",
        "  group by rollup(Make, Type) \\\n",
        "\"\n",
        "#runSelect(sql)"
      ],
      "metadata": {
        "colab": {
          "base_uri": "https://localhost:8080/"
        },
        "id": "me9GMHXS8yTf",
        "outputId": "6238d163-3607-4f49-d1a6-eb13a7d67b24"
      },
      "execution_count": 15,
      "outputs": [
        {
          "output_type": "stream",
          "name": "stdout",
          "text": [
            "  make  |  type   | count \n",
            "--------+---------+-------\n",
            "        |         |    14\n",
            " Mazda  | SUV     |     2\n",
            " Honda  | SUV     |     6\n",
            " Mazda  | Sedan   |     1\n",
            " Toyota | Compact |     1\n",
            " Toyota | Sedan   |     2\n",
            " Honda  | Sedan   |     1\n",
            " Mazda  | Compact |     1\n",
            " Honda  |         |     7\n",
            " Toyota |         |     3\n",
            " Mazda  |         |     4\n",
            "(11 rows)\n",
            "\n"
          ]
        }
      ]
    },
    {
      "cell_type": "code",
      "source": [
        "!psql -h localhost -p 5432 -Uupraxis -ddbpraxis -c \"\\\n",
        "select \\\n",
        "    COALESCE(Make, 'All Makes') AS Make, \\\n",
        "    COALESCE(Type, 'All Types') AS Type, \\\n",
        "    Sum(Units) Count \\\n",
        "  from CarSalesFact_S \\\n",
        "  group by rollup(Make, Type) \\\n",
        "\"\n",
        "#runSelect(sql)"
      ],
      "metadata": {
        "colab": {
          "base_uri": "https://localhost:8080/"
        },
        "id": "TXxhmV059xA_",
        "outputId": "866c4885-efe0-4370-df0f-abf7fb566a89"
      },
      "execution_count": 16,
      "outputs": [
        {
          "output_type": "stream",
          "name": "stdout",
          "text": [
            "   make    |   type    | count \n",
            "-----------+-----------+-------\n",
            " All Makes | All Types |    14\n",
            " Mazda     | SUV       |     2\n",
            " Honda     | SUV       |     6\n",
            " Mazda     | Sedan     |     1\n",
            " Toyota    | Compact   |     1\n",
            " Toyota    | Sedan     |     2\n",
            " Honda     | Sedan     |     1\n",
            " Mazda     | Compact   |     1\n",
            " Honda     | All Types |     7\n",
            " Toyota    | All Types |     3\n",
            " Mazda     | All Types |     4\n",
            "(11 rows)\n",
            "\n"
          ]
        }
      ]
    },
    {
      "cell_type": "markdown",
      "source": [
        "### Roll Up More"
      ],
      "metadata": {
        "id": "oCRVUeL9_yXV"
      }
    },
    {
      "cell_type": "code",
      "source": [
        "!psql -h localhost -p 5432 -Uupraxis -ddbpraxis -c \"\\\n",
        "select \\\n",
        "    COALESCE(Make, 'All Makes') AS Make, \\\n",
        "    Sum(Units) Count \\\n",
        "  from CarSalesFact_S \\\n",
        "  group by rollup(Make) \\\n",
        "\"\n",
        "#runSelect(sql)"
      ],
      "metadata": {
        "colab": {
          "base_uri": "https://localhost:8080/"
        },
        "id": "8N4L5WRy_5ml",
        "outputId": "3cb3785d-f8a8-48a0-a4b6-50ce08b8dc0b"
      },
      "execution_count": 17,
      "outputs": [
        {
          "output_type": "stream",
          "name": "stdout",
          "text": [
            "   make    | count \n",
            "-----------+-------\n",
            " All Makes |    14\n",
            " Honda     |     7\n",
            " Toyota    |     3\n",
            " Mazda     |     4\n",
            "(4 rows)\n",
            "\n"
          ]
        }
      ]
    },
    {
      "cell_type": "code",
      "source": [
        "!psql -h localhost -p 5432 -Uupraxis -ddbpraxis -c \"\\\n",
        "select \\\n",
        "    COALESCE(Type, 'All Types') AS Type, \\\n",
        "    Sum(Units) Count \\\n",
        "  from CarSalesFact_S \\\n",
        "  group by rollup(Type) \\\n",
        "\"\n",
        "#runSelect(sql)"
      ],
      "metadata": {
        "colab": {
          "base_uri": "https://localhost:8080/"
        },
        "id": "7Vo7Au6ZAYSV",
        "outputId": "b7d89f83-cef6-4954-9b44-6e41ba3ba359"
      },
      "execution_count": 18,
      "outputs": [
        {
          "output_type": "stream",
          "name": "stdout",
          "text": [
            "   type    | count \n",
            "-----------+-------\n",
            " All Types |    14\n",
            " SUV       |     8\n",
            " Sedan     |     4\n",
            " Compact   |     2\n",
            "(4 rows)\n",
            "\n"
          ]
        }
      ]
    },
    {
      "cell_type": "markdown",
      "source": [
        "### Roll Up - Even More"
      ],
      "metadata": {
        "id": "Ydc0opQzAg76"
      }
    },
    {
      "cell_type": "code",
      "source": [
        "!psql -h localhost -p 5432 -Uupraxis -ddbpraxis -c \"\\\n",
        "select \\\n",
        "    Sum(Units) Count \\\n",
        "  from CarSalesFact_S \\\n",
        "\"\n",
        "#runSelect(sql)"
      ],
      "metadata": {
        "colab": {
          "base_uri": "https://localhost:8080/"
        },
        "id": "U5u7tFXDAtyZ",
        "outputId": "1a3cb624-2d42-4a85-d60c-a3bd74997593"
      },
      "execution_count": 19,
      "outputs": [
        {
          "output_type": "stream",
          "name": "stdout",
          "text": [
            " count \n",
            "-------\n",
            "    14\n",
            "(1 row)\n",
            "\n"
          ]
        }
      ]
    },
    {
      "cell_type": "markdown",
      "source": [
        "## Level 3 - Full Pivot"
      ],
      "metadata": {
        "id": "OMf6fJFVD65m"
      }
    },
    {
      "cell_type": "markdown",
      "source": [
        "### \"Jugaad\" Pivot"
      ],
      "metadata": {
        "id": "94SBIgoUQAiV"
      }
    },
    {
      "cell_type": "code",
      "source": [
        "!psql -h localhost -p 5432 -Uupraxis -ddbpraxis -c \"\\\n",
        "select Make, Type, Sum(Units) Count \\\n",
        "    from CarSalesFact_S \\\n",
        "    group by Make, Type \\\n",
        "union all \\\n",
        "SELECT Make, 'ALL', SUM(Units) \\\n",
        "    FROM CarSalesFact_S \\\n",
        "    GROUP BY Make \\\n",
        "union all \\\n",
        "SELECT 'ALL', Type, SUM(Units) \\\n",
        "    FROM CarSalesFact_S \\\n",
        "    GROUP BY Type \\\n",
        "union all \\\n",
        "SELECT 'ALL', 'ALL', SUM(Units) \\\n",
        "    FROM CarSalesFact_S \\\n",
        "\""
      ],
      "metadata": {
        "id": "PyVtlW-sQnUV",
        "outputId": "65b107db-6bf0-4a6a-be36-df64b42d2241",
        "colab": {
          "base_uri": "https://localhost:8080/"
        }
      },
      "execution_count": 20,
      "outputs": [
        {
          "output_type": "stream",
          "name": "stdout",
          "text": [
            "  make  |  type   | count \n",
            "--------+---------+-------\n",
            " Mazda  | SUV     |     2\n",
            " Honda  | SUV     |     6\n",
            " Mazda  | Sedan   |     1\n",
            " Toyota | Compact |     1\n",
            " Toyota | Sedan   |     2\n",
            " Honda  | Sedan   |     1\n",
            " Mazda  | Compact |     1\n",
            " Honda  | ALL     |     7\n",
            " Toyota | ALL     |     3\n",
            " Mazda  | ALL     |     4\n",
            " ALL    | SUV     |     8\n",
            " ALL    | Sedan   |     4\n",
            " ALL    | Compact |     2\n",
            " ALL    | ALL     |    14\n",
            "(14 rows)\n",
            "\n"
          ]
        }
      ]
    },
    {
      "cell_type": "markdown",
      "source": [
        "### CUBE solution"
      ],
      "metadata": {
        "id": "9PRbSzptYIX0"
      }
    },
    {
      "cell_type": "code",
      "source": [
        "!psql -h localhost -p 5432 -Uupraxis -ddbpraxis -c \"\\\n",
        "select \\\n",
        "    COALESCE(Make, 'All Makes') AS Make, \\\n",
        "    COALESCE(Type, 'All Types') AS Type, \\\n",
        "    Sum(Units) Count \\\n",
        "  from CarSalesFact_S \\\n",
        "  group by cube(Make, Type) \\\n",
        "\""
      ],
      "metadata": {
        "id": "Srgeg3VcYmlE",
        "outputId": "3b7264b9-1f49-4948-8b6d-21ce647f6abc",
        "colab": {
          "base_uri": "https://localhost:8080/"
        }
      },
      "execution_count": 21,
      "outputs": [
        {
          "output_type": "stream",
          "name": "stdout",
          "text": [
            "   make    |   type    | count \n",
            "-----------+-----------+-------\n",
            " All Makes | All Types |    14\n",
            " Mazda     | SUV       |     2\n",
            " Honda     | SUV       |     6\n",
            " Mazda     | Sedan     |     1\n",
            " Toyota    | Compact   |     1\n",
            " Toyota    | Sedan     |     2\n",
            " Honda     | Sedan     |     1\n",
            " Mazda     | Compact   |     1\n",
            " Honda     | All Types |     7\n",
            " Toyota    | All Types |     3\n",
            " Mazda     | All Types |     4\n",
            " All Makes | SUV       |     8\n",
            " All Makes | Sedan     |     4\n",
            " All Makes | Compact   |     2\n",
            "(14 rows)\n",
            "\n"
          ]
        }
      ]
    },
    {
      "cell_type": "markdown",
      "source": [
        "### Correct Pivot"
      ],
      "metadata": {
        "id": "sPRlwdXucPSs"
      }
    },
    {
      "cell_type": "code",
      "source": [
        "!psql -h localhost -p 5432 -Uupraxis -ddbpraxis -c \"\\\n",
        "SELECT \\\n",
        "\tMake,\\\n",
        "\tsum(case when (Type = 'Sedan') then Units else 0 end) as Sedan,\\\n",
        "\tsum(case when (Type = 'SUV') then Units else 0 end) as SUV,\\\n",
        "\tsum(case when (Type = 'Compact') then Units else 0 end) as Compact\\\n",
        "  FROM CarSalesFact_S\\\n",
        "  GROUP BY ROLLUP (Make)\\\n",
        "\"\n",
        "#runSelect(sql)"
      ],
      "metadata": {
        "colab": {
          "base_uri": "https://localhost:8080/"
        },
        "id": "DMi2uYowEvfM",
        "outputId": "37c625a4-ab8f-4485-9628-3ebfd1aa81e5"
      },
      "execution_count": 22,
      "outputs": [
        {
          "output_type": "stream",
          "name": "stdout",
          "text": [
            "  make  | sedan | suv | compact \n",
            "--------+-------+-----+---------\n",
            "        |     4 |   8 |       2\n",
            " Honda  |     1 |   6 |       0\n",
            " Toyota |     2 |   0 |       1\n",
            " Mazda  |     1 |   2 |       1\n",
            "(4 rows)\n",
            "\n"
          ]
        }
      ]
    },
    {
      "cell_type": "code",
      "source": [
        "!psql -h localhost -p 5432 -Uupraxis -ddbpraxis -c\"\\\n",
        "SELECT \\\n",
        "    COALESCE(Make, 'Total') AS Dim, \\\n",
        "\tsum(case when (Type = 'Sedan') then Units else 0 end) as Sedan,\\\n",
        "\tsum(case when (Type = 'SUV') then Units else 0 end) as SUV,\\\n",
        "\tsum(case when (Type = 'Compact') then Units else 0 end) as Compact\\\n",
        "  FROM CarSalesFact_S\\\n",
        "  GROUP BY ROLLUP (Make)\\\n",
        "\"\n",
        "#runSelect(sql)"
      ],
      "metadata": {
        "colab": {
          "base_uri": "https://localhost:8080/"
        },
        "id": "LCivlY1-FBzN",
        "outputId": "76bdb684-acba-4d55-ee14-4beea8cc6ecc"
      },
      "execution_count": 23,
      "outputs": [
        {
          "output_type": "stream",
          "name": "stdout",
          "text": [
            "  dim   | sedan | suv | compact \n",
            "--------+-------+-----+---------\n",
            " Total  |     4 |   8 |       2\n",
            " Honda  |     1 |   6 |       0\n",
            " Toyota |     2 |   0 |       1\n",
            " Mazda  |     1 |   2 |       1\n",
            "(4 rows)\n",
            "\n"
          ]
        }
      ]
    },
    {
      "cell_type": "code",
      "source": [
        "!psql -h localhost -p 5432 -Uupraxis -ddbpraxis -c  \"\\\n",
        "SELECT \\\n",
        "COALESCE(Make, 'totals') AS Dim, \\\n",
        "sums.SUV, sums.Sedan, sums.Compact,\\\n",
        "sums.SUV + sums.Sedan + sums.Compact  Totals \\\n",
        "FROM ( \\\n",
        "  SELECT \\\n",
        "    Make, \\\n",
        "\tsum(case when (Type = 'Sedan') then Units else 0 end) as Sedan,\\\n",
        "\tsum(case when (Type = 'SUV') then Units else 0 end) as SUV,\\\n",
        "\tsum(case when (Type = 'Compact') then Units else 0 end) as Compact\\\n",
        "  FROM CarSalesFact_S\\\n",
        "  GROUP BY ROLLUP (Make)\\\n",
        ") AS sums \\\n",
        "\"\n",
        "#runSelect(sql)"
      ],
      "metadata": {
        "colab": {
          "base_uri": "https://localhost:8080/"
        },
        "id": "Qli_cq_LFPQd",
        "outputId": "d121a85e-a8b2-4e2a-c9ad-7b2f65c9faa3"
      },
      "execution_count": 24,
      "outputs": [
        {
          "output_type": "stream",
          "name": "stdout",
          "text": [
            "  dim   | suv | sedan | compact | totals \n",
            "--------+-----+-------+---------+--------\n",
            " totals |   8 |     4 |       2 |     14\n",
            " Honda  |   6 |     1 |       0 |      7\n",
            " Toyota |   0 |     2 |       1 |      3\n",
            " Mazda  |   2 |     1 |       1 |      4\n",
            "(4 rows)\n",
            "\n"
          ]
        }
      ]
    },
    {
      "cell_type": "markdown",
      "source": [
        "#### Rotate the Pivot"
      ],
      "metadata": {
        "id": "Z7rEGqyRMe5n"
      }
    },
    {
      "cell_type": "code",
      "source": [
        "!psql -h localhost -p 5432 -Uupraxis -ddbpraxis -c  \"\\\n",
        "SELECT \\\n",
        "COALESCE(Colour, 'totals') AS Dim, \\\n",
        "sums.Honda, sums.Toyota, sums.Mazda,\\\n",
        "sums.Honda + sums.Toyota + sums.Mazda  Totals \\\n",
        "FROM ( \\\n",
        "  SELECT \\\n",
        "    Colour, \\\n",
        "\tsum(case when (Make = 'Honda') then Units else 0 end) as Honda,\\\n",
        "\tsum(case when (Make = 'Toyota') then Units else 0 end) as Toyota,\\\n",
        "\tsum(case when (Make = 'Mazda') then Units else 0 end) as Mazda\\\n",
        "  FROM CarSalesFact_S\\\n",
        "  GROUP BY ROLLUP (Colour)\\\n",
        ") AS sums \\\n",
        "\""
      ],
      "metadata": {
        "colab": {
          "base_uri": "https://localhost:8080/"
        },
        "id": "bKfQTYcZk84x",
        "outputId": "2f844e31-839d-4cbe-eea0-31457a0f6cd0"
      },
      "execution_count": 25,
      "outputs": [
        {
          "output_type": "stream",
          "name": "stdout",
          "text": [
            "  dim   | honda | toyota | mazda | totals \n",
            "--------+-------+--------+-------+--------\n",
            " totals |     7 |      3 |     4 |     14\n",
            " Red    |     2 |      1 |     2 |      5\n",
            " Black  |     4 |      2 |     1 |      7\n",
            " Brown  |     1 |      0 |     1 |      2\n",
            "(4 rows)\n",
            "\n"
          ]
        }
      ]
    },
    {
      "cell_type": "code",
      "source": [
        "!psql -h localhost -p 5432 -Uupraxis -ddbpraxis -c  \"\\\n",
        "SELECT \\\n",
        "COALESCE(Type, 'totals') AS Dim, \\\n",
        "sums.Red, sums.Black, sums.Brown,\\\n",
        "sums.Red + sums.Black + sums.Brown  Totals \\\n",
        "FROM ( \\\n",
        "  SELECT \\\n",
        "    Type, \\\n",
        "\tsum(case when (Colour = 'Red') then Units else 0 end) as Red,\\\n",
        "\tsum(case when (Colour = 'Black') then Units else 0 end) as Black,\\\n",
        "\tsum(case when (Colour = 'Brown') then Units else 0 end) as Brown\\\n",
        "  FROM CarSalesFact_S\\\n",
        "  GROUP BY ROLLUP (Type)\\\n",
        ") AS sums \\\n",
        "\""
      ],
      "metadata": {
        "colab": {
          "base_uri": "https://localhost:8080/"
        },
        "id": "rpCc7d2Ul7px",
        "outputId": "3d70de9f-86f0-44a1-ea36-bc4db6bbf904"
      },
      "execution_count": 26,
      "outputs": [
        {
          "output_type": "stream",
          "name": "stdout",
          "text": [
            "   dim   | red | black | brown | totals \n",
            "---------+-----+-------+-------+--------\n",
            " totals  |   5 |     7 |     2 |     14\n",
            " SUV     |   3 |     5 |     0 |      8\n",
            " Sedan   |   0 |     2 |     2 |      4\n",
            " Compact |   2 |     0 |     0 |      2\n",
            "(4 rows)\n",
            "\n"
          ]
        }
      ]
    },
    {
      "cell_type": "markdown",
      "source": [
        "# Add an EXTRA FACT\n",
        "to normalised fact table"
      ],
      "metadata": {
        "id": "eufSwRk06p0Q"
      }
    },
    {
      "cell_type": "code",
      "source": [
        "!psql -h localhost -p 5432 -Uupraxis -ddbpraxis -c \"\\\n",
        "INSERT INTO CarSalesFact_N (Txn, Dim, DimValue) VALUES \\\n",
        " (1, 'Price', '5000'), (2, 'Price', '6000'), (3, 'Price', '5000'), (4, 'Price', '7000'), (5, 'Price', '5000'), \\\n",
        " (6, 'Price', '4000'), (7, 'Price', '3000'), (8, 'Price', '2000'), (9, 'Price', '4000'), (10, 'Price', '5000'), \\\n",
        " (11, 'Price', '4000'), (12, 'Price', '5000'), (13, 'Price', '4000'), (14, 'Price', '3000'); \\\n",
        " \"\n",
        "!psql -h localhost -p 5432 -Uupraxis -ddbpraxis -c \"select * from carsalesfact_n\"\n"
      ],
      "metadata": {
        "id": "bSpOmtnv6xJO",
        "outputId": "eb6c15ba-775d-45e1-931d-b2af9efd1b9d",
        "colab": {
          "base_uri": "https://localhost:8080/"
        }
      },
      "execution_count": 27,
      "outputs": [
        {
          "output_type": "stream",
          "name": "stdout",
          "text": [
            "INSERT 0 14\n",
            " txn |  dim   | dimvalue \n",
            "-----+--------+----------\n",
            "   1 | Make   | Honda\n",
            "   1 | Type   | SUV\n",
            "   1 | Colour | Red\n",
            "   2 | Make   | Honda\n",
            "   2 | Type   | SUV\n",
            "   2 | Colour | Black\n",
            "   3 | Make   | Honda\n",
            "   3 | Type   | Sedan\n",
            "   3 | Colour | Brown\n",
            "   4 | Make   | Toyota\n",
            "   4 | Type   | Compact\n",
            "   4 | Colour | Red\n",
            "   5 | Make   | Toyota\n",
            "   5 | Colour | Black\n",
            "   5 | Type   | Sedan\n",
            "   6 | Make   | Toyota\n",
            "   6 | Colour | Black\n",
            "   6 | Type   | Sedan\n",
            "   7 | Make   | Honda\n",
            "   7 | Type   | SUV\n",
            "   7 | Colour | Black\n",
            "   8 | Make   | Honda\n",
            "   8 | Type   | SUV\n",
            "   8 | Colour | Red\n",
            "   9 | Make   | Honda\n",
            "   9 | Type   | SUV\n",
            "   9 | Colour | Black\n",
            "  10 | Make   | Honda\n",
            "  10 | Type   | SUV\n",
            "  10 | Colour | Black\n",
            "  11 | Make   | Mazda\n",
            "  11 | Type   | SUV\n",
            "  11 | Colour | Black\n",
            "  12 | Make   | Mazda\n",
            "  12 | Type   | Compact\n",
            "  12 | Colour | Red\n",
            "  13 | Make   | Mazda\n",
            "  13 | Type   | Sedan\n",
            "  13 | Colour | Brown\n",
            "  14 | Make   | Mazda\n",
            "  14 | Type   | SUV\n",
            "  14 | Colour | Red\n",
            "   1 | Price  | 5000\n",
            "   2 | Price  | 6000\n",
            "   3 | Price  | 5000\n",
            "   4 | Price  | 7000\n",
            "   5 | Price  | 5000\n",
            "   6 | Price  | 4000\n",
            "   7 | Price  | 3000\n",
            "   8 | Price  | 2000\n",
            "   9 | Price  | 4000\n",
            "  10 | Price  | 5000\n",
            "  11 | Price  | 4000\n",
            "  12 | Price  | 5000\n",
            "  13 | Price  | 4000\n",
            "  14 | Price  | 3000\n",
            "(56 rows)\n",
            "\n"
          ]
        }
      ]
    },
    {
      "cell_type": "code",
      "source": [
        "!psql -h localhost -p 5432 -Uupraxis -ddbpraxis -c \" \\\n",
        "SELECT \\\n",
        "  Txn,\\\n",
        "  string_agg(case when Dim = 'Make' then DimValue else NULL end,';') Make,\\\n",
        "  string_agg(case when Dim = 'Type' then DimValue else NULL end,';') Type,\\\n",
        "  string_agg(case when Dim = 'Colour' then DimValue else NULL end,';') Colour \\\n",
        "FROM CarSalesFact_N \\\n",
        "GROUP BY txn\\\n",
        "\""
      ],
      "metadata": {
        "id": "Z_5Y2qsM8v1N",
        "outputId": "7abf056e-d99f-4c40-9ce7-fdacc5a285e5",
        "colab": {
          "base_uri": "https://localhost:8080/"
        }
      },
      "execution_count": 28,
      "outputs": [
        {
          "output_type": "stream",
          "name": "stdout",
          "text": [
            " txn |  make  |  type   | colour \n",
            "-----+--------+---------+--------\n",
            "   1 | Honda  | SUV     | Red\n",
            "   2 | Honda  | SUV     | Black\n",
            "   3 | Honda  | Sedan   | Brown\n",
            "   4 | Toyota | Compact | Red\n",
            "   5 | Toyota | Sedan   | Black\n",
            "   6 | Toyota | Sedan   | Black\n",
            "   7 | Honda  | SUV     | Black\n",
            "   8 | Honda  | SUV     | Red\n",
            "   9 | Honda  | SUV     | Black\n",
            "  10 | Honda  | SUV     | Black\n",
            "  11 | Mazda  | SUV     | Black\n",
            "  12 | Mazda  | Compact | Red\n",
            "  13 | Mazda  | Sedan   | Brown\n",
            "  14 | Mazda  | SUV     | Red\n",
            "(14 rows)\n",
            "\n"
          ]
        }
      ]
    },
    {
      "cell_type": "code",
      "source": [
        "!psql -h localhost -p 5432 -Uupraxis -ddbpraxis -c \" \\\n",
        "SELECT \\\n",
        "  Txn,\\\n",
        "  string_agg(case when Dim = 'Make' then DimValue else NULL end,';') Make,\\\n",
        "  string_agg(case when Dim = 'Type' then DimValue else NULL end,';') Type,\\\n",
        "  string_agg(case when Dim = 'Colour' then DimValue else NULL end,';') Colour, \\\n",
        "  string_agg(case when Dim = 'Price' then DimValue else NULL end,';') Price \\\n",
        "FROM CarSalesFact_N \\\n",
        "GROUP BY txn\\\n",
        "Order by txn \\\n",
        "\""
      ],
      "metadata": {
        "id": "Cr-9Osgx9Ify",
        "outputId": "e8d69e73-2855-422d-f934-590984a772f2",
        "colab": {
          "base_uri": "https://localhost:8080/"
        }
      },
      "execution_count": 29,
      "outputs": [
        {
          "output_type": "stream",
          "name": "stdout",
          "text": [
            " txn |  make  |  type   | colour | price \n",
            "-----+--------+---------+--------+-------\n",
            "   1 | Honda  | SUV     | Red    | 5000\n",
            "   2 | Honda  | SUV     | Black  | 6000\n",
            "   3 | Honda  | Sedan   | Brown  | 5000\n",
            "   4 | Toyota | Compact | Red    | 7000\n",
            "   5 | Toyota | Sedan   | Black  | 5000\n",
            "   6 | Toyota | Sedan   | Black  | 4000\n",
            "   7 | Honda  | SUV     | Black  | 3000\n",
            "   8 | Honda  | SUV     | Red    | 2000\n",
            "   9 | Honda  | SUV     | Black  | 4000\n",
            "  10 | Honda  | SUV     | Black  | 5000\n",
            "  11 | Mazda  | SUV     | Black  | 4000\n",
            "  12 | Mazda  | Compact | Red    | 5000\n",
            "  13 | Mazda  | Sedan   | Brown  | 4000\n",
            "  14 | Mazda  | SUV     | Red    | 3000\n",
            "(14 rows)\n",
            "\n"
          ]
        }
      ]
    },
    {
      "cell_type": "markdown",
      "source": [
        "## Recreate New Fact Table"
      ],
      "metadata": {
        "id": "dTYw72rj3mla"
      }
    },
    {
      "cell_type": "code",
      "source": [
        "ddl = \"\\\n",
        "drop table if exists CarSalesFact_S2; \\\n",
        "create table CarSalesFact_S2 as ( \\\n",
        "    select  csf0.Make, csf0.Type, csf0.Colour, count(txn) units, sum(csf0.price::int) sales from \\\n",
        "        ( \\\n",
        "        SELECT \\\n",
        "        Txn,\\\n",
        "        string_agg(case when Dim = 'Make' then DimValue else NULL end,';') Make,\\\n",
        "        string_agg(case when Dim = 'Type' then DimValue else NULL end,';') Type,\\\n",
        "        string_agg(case when Dim = 'Colour' then DimValue else NULL end,';') Colour, \\\n",
        "        string_agg(case when Dim = 'Price' then DimValue else NULL end,';') Price \\\n",
        "        FROM CarSalesFact_N \\\n",
        "        GROUP BY txn\\\n",
        "        ) as csf0 \\\n",
        "    group by \\\n",
        "    csf0.Make, csf0.Type, csf0.Colour \\\n",
        "    )\\\n",
        "\"\n",
        "runCmd(ddl)"
      ],
      "metadata": {
        "id": "ZZgn8WUe-Ose",
        "outputId": "d1d586ae-f014-47f1-b891-924b9a439c19",
        "colab": {
          "base_uri": "https://localhost:8080/"
        }
      },
      "execution_count": 30,
      "outputs": [
        {
          "output_type": "stream",
          "name": "stdout",
          "text": [
            "Command executed\n"
          ]
        }
      ]
    },
    {
      "cell_type": "code",
      "source": [
        "!psql -h localhost -p 5432 -Uupraxis -ddbpraxis -c \"select * from carsalesfact_s2\""
      ],
      "metadata": {
        "id": "yNBkCZYa_E1x",
        "outputId": "2754b098-e81f-45fa-d6b3-b55a31233660",
        "colab": {
          "base_uri": "https://localhost:8080/"
        }
      },
      "execution_count": 31,
      "outputs": [
        {
          "output_type": "stream",
          "name": "stdout",
          "text": [
            "  make  |  type   | colour | units | sales \n",
            "--------+---------+--------+-------+-------\n",
            " Honda  | SUV     | Red    |     2 |  7000\n",
            " Honda  | SUV     | Black  |     4 | 18000\n",
            " Toyota | Compact | Red    |     1 |  7000\n",
            " Mazda  | Compact | Red    |     1 |  5000\n",
            " Mazda  | SUV     | Red    |     1 |  3000\n",
            " Toyota | Sedan   | Black  |     2 |  9000\n",
            " Honda  | Sedan   | Brown  |     1 |  5000\n",
            " Mazda  | Sedan   | Brown  |     1 |  4000\n",
            " Mazda  | SUV     | Black  |     1 |  4000\n",
            "(9 rows)\n",
            "\n"
          ]
        }
      ]
    },
    {
      "cell_type": "markdown",
      "source": [
        "## Simple Group By"
      ],
      "metadata": {
        "id": "kCJ8uZAY396Z"
      }
    },
    {
      "cell_type": "code",
      "source": [
        "!psql -h localhost -p 5432 -Uupraxis -ddbpraxis -c \"\\\n",
        "select Make, Type, sum(Units) Count, sum(Sales) TotalSales from carsalesfact_s2 \\\n",
        "group by Make, Type \\\n",
        "\""
      ],
      "metadata": {
        "id": "SQ8XgjOz4Ifh",
        "outputId": "85da6f8c-ca0c-4c34-c707-8cb9985d5ae6",
        "colab": {
          "base_uri": "https://localhost:8080/"
        }
      },
      "execution_count": 32,
      "outputs": [
        {
          "output_type": "stream",
          "name": "stdout",
          "text": [
            "  make  |  type   | count | totalsales \n",
            "--------+---------+-------+------------\n",
            " Mazda  | SUV     |     2 |       7000\n",
            " Honda  | SUV     |     6 |      25000\n",
            " Mazda  | Sedan   |     1 |       4000\n",
            " Toyota | Compact |     1 |       7000\n",
            " Toyota | Sedan   |     2 |       9000\n",
            " Honda  | Sedan   |     1 |       5000\n",
            " Mazda  | Compact |     1 |       5000\n",
            "(7 rows)\n",
            "\n"
          ]
        }
      ]
    },
    {
      "cell_type": "code",
      "source": [
        "!psql -h localhost -p 5432 -Uupraxis -ddbpraxis -c \"\\\n",
        "select Make, Type, sum(Units) Count, sum(Sales) TotalSales from carsalesfact_s2 \\\n",
        "group by rollup(Make, Type) \\\n",
        "\""
      ],
      "metadata": {
        "id": "ojJ849Py5Mik",
        "outputId": "4bcdbe34-17d7-4723-d423-de0fa7c6e56c",
        "colab": {
          "base_uri": "https://localhost:8080/"
        }
      },
      "execution_count": 33,
      "outputs": [
        {
          "output_type": "stream",
          "name": "stdout",
          "text": [
            "  make  |  type   | count | totalsales \n",
            "--------+---------+-------+------------\n",
            "        |         |    14 |      62000\n",
            " Mazda  | SUV     |     2 |       7000\n",
            " Honda  | SUV     |     6 |      25000\n",
            " Mazda  | Sedan   |     1 |       4000\n",
            " Toyota | Compact |     1 |       7000\n",
            " Toyota | Sedan   |     2 |       9000\n",
            " Honda  | Sedan   |     1 |       5000\n",
            " Mazda  | Compact |     1 |       5000\n",
            " Honda  |         |     7 |      30000\n",
            " Toyota |         |     3 |      16000\n",
            " Mazda  |         |     4 |      16000\n",
            "(11 rows)\n",
            "\n"
          ]
        }
      ]
    },
    {
      "cell_type": "markdown",
      "source": [
        "## Two Full Pivot Tables"
      ],
      "metadata": {
        "id": "ScygUGgjNLe_"
      }
    },
    {
      "cell_type": "code",
      "source": [
        "!psql -h localhost -p 5432 -Uupraxis -ddbpraxis -c  \"\\\n",
        "SELECT \\\n",
        "COALESCE(Make, 'totals') AS Dim, \\\n",
        "sums.SUV, sums.Sedan, sums.Compact,\\\n",
        "sums.SUV + sums.Sedan + sums.Compact  Totals \\\n",
        "FROM ( \\\n",
        "  SELECT \\\n",
        "    Make, \\\n",
        "\tsum(case when (Type = 'Sedan') then Units else 0 end) as Sedan,\\\n",
        "\tsum(case when (Type = 'SUV') then Units else 0 end) as SUV,\\\n",
        "\tsum(case when (Type = 'Compact') then Units else 0 end) as Compact\\\n",
        "  FROM CarSalesFact_S2\\\n",
        "  GROUP BY ROLLUP (Make)\\\n",
        ") AS sums \\\n",
        "\""
      ],
      "metadata": {
        "id": "Q2AO2v2NHB_F",
        "outputId": "a01877b6-348a-46e0-f53f-0711680d24c2",
        "colab": {
          "base_uri": "https://localhost:8080/"
        }
      },
      "execution_count": 34,
      "outputs": [
        {
          "output_type": "stream",
          "name": "stdout",
          "text": [
            "  dim   | suv | sedan | compact | totals \n",
            "--------+-----+-------+---------+--------\n",
            " totals |   8 |     4 |       2 |     14\n",
            " Honda  |   6 |     1 |       0 |      7\n",
            " Toyota |   0 |     2 |       1 |      3\n",
            " Mazda  |   2 |     1 |       1 |      4\n",
            "(4 rows)\n",
            "\n"
          ]
        }
      ]
    },
    {
      "cell_type": "code",
      "source": [
        "!psql -h localhost -p 5432 -Uupraxis -ddbpraxis -c  \"\\\n",
        "SELECT \\\n",
        "COALESCE(Make, 'totals') AS Dim, \\\n",
        "sums.SUV, sums.Sedan, sums.Compact,\\\n",
        "sums.SUV + sums.Sedan + sums.Compact  Totals \\\n",
        "FROM ( \\\n",
        "  SELECT \\\n",
        "    Make, \\\n",
        "\tsum(case when (Type = 'Sedan') then Sales else 0 end) as Sedan,\\\n",
        "\tsum(case when (Type = 'SUV') then Sales else 0 end) as SUV,\\\n",
        "\tsum(case when (Type = 'Compact') then Sales else 0 end) as Compact\\\n",
        "  FROM CarSalesFact_S2\\\n",
        "  GROUP BY ROLLUP (Make)\\\n",
        ") AS sums \\\n",
        "\""
      ],
      "metadata": {
        "id": "FHIML5pHHNI0",
        "outputId": "e798e0f8-f54f-4126-9fcf-dc5d0fed1cdf",
        "colab": {
          "base_uri": "https://localhost:8080/"
        }
      },
      "execution_count": 35,
      "outputs": [
        {
          "output_type": "stream",
          "name": "stdout",
          "text": [
            "  dim   |  suv  | sedan | compact | totals \n",
            "--------+-------+-------+---------+--------\n",
            " totals | 32000 | 18000 |   12000 |  62000\n",
            " Honda  | 25000 |  5000 |       0 |  30000\n",
            " Toyota |     0 |  9000 |    7000 |  16000\n",
            " Mazda  |  7000 |  4000 |    5000 |  16000\n",
            "(4 rows)\n",
            "\n"
          ]
        }
      ]
    },
    {
      "cell_type": "markdown",
      "source": [
        "# FOUR level Nested Select\n",
        "to eliminate the need for the intermediate table"
      ],
      "metadata": {
        "id": "A_Hhh7KhNjb5"
      }
    },
    {
      "cell_type": "code",
      "source": [
        "!psql -h localhost -p 5432 -Uupraxis -ddbpraxis -c  \"\\\n",
        "SELECT \\\n",
        "COALESCE(Make, 'totals') AS Dim, \\\n",
        "sums.SUV, sums.Sedan, sums.Compact,\\\n",
        "sums.SUV + sums.Sedan + sums.Compact  Totals \\\n",
        "FROM ( \\\n",
        "  SELECT \\\n",
        "    Make, \\\n",
        "\tsum(case when (Type = 'Sedan') then Sales else 0 end) as Sedan,\\\n",
        "\tsum(case when (Type = 'SUV') then Sales else 0 end) as SUV,\\\n",
        "\tsum(case when (Type = 'Compact') then Sales else 0 end) as Compact\\\n",
        "  FROM (\\\n",
        "       select  csf0.Make, csf0.Type, csf0.Colour, count(txn) units, sum(csf0.price::int) sales from \\\n",
        "        ( \\\n",
        "        SELECT \\\n",
        "        Txn,\\\n",
        "        string_agg(case when Dim = 'Make' then DimValue else NULL end,';') Make,\\\n",
        "        string_agg(case when Dim = 'Type' then DimValue else NULL end,';') Type,\\\n",
        "        string_agg(case when Dim = 'Colour' then DimValue else NULL end,';') Colour, \\\n",
        "        string_agg(case when Dim = 'Price' then DimValue else NULL end,';') Price \\\n",
        "        FROM CarSalesFact_N \\\n",
        "        GROUP BY txn\\\n",
        "        ) as csf0 \\\n",
        "    group by \\\n",
        "    csf0.Make, csf0.Type, csf0.Colour \\\n",
        "    ) as csf4\\\n",
        "  GROUP BY ROLLUP (Make)\\\n",
        ") AS sums \\\n",
        "\""
      ],
      "metadata": {
        "id": "4XMvS7yKNtI2",
        "outputId": "f4355b47-1186-4d60-c4b6-aeabfe16852d",
        "colab": {
          "base_uri": "https://localhost:8080/"
        }
      },
      "execution_count": 36,
      "outputs": [
        {
          "output_type": "stream",
          "name": "stdout",
          "text": [
            "  dim   |  suv  | sedan | compact | totals \n",
            "--------+-------+-------+---------+--------\n",
            " totals | 32000 | 18000 |   12000 |  62000\n",
            " Honda  | 25000 |  5000 |       0 |  30000\n",
            " Toyota |     0 |  9000 |    7000 |  16000\n",
            " Mazda  |  7000 |  4000 |    5000 |  16000\n",
            "(4 rows)\n",
            "\n"
          ]
        }
      ]
    },
    {
      "cell_type": "code",
      "source": [
        "!psql -h localhost -p 5432 -Uupraxis -ddbpraxis -c  \"\\\n",
        "SELECT \\\n",
        "COALESCE(Make, 'totals') AS Dim, \\\n",
        "sums.SUV, sums.Sedan, sums.Compact,\\\n",
        "sums.SUV + sums.Sedan + sums.Compact  Totals \\\n",
        "FROM ( \\\n",
        "  SELECT \\\n",
        "    Make, \\\n",
        "\tsum(case when (Type = 'Sedan') then Units else 0 end) as Sedan,\\\n",
        "\tsum(case when (Type = 'SUV') then Units else 0 end) as SUV,\\\n",
        "\tsum(case when (Type = 'Compact') then Units else 0 end) as Compact\\\n",
        "  FROM (\\\n",
        "       select  csf0.Make, csf0.Type, csf0.Colour, count(txn) units, sum(csf0.price::int) sales from \\\n",
        "        ( \\\n",
        "        SELECT \\\n",
        "        Txn,\\\n",
        "        string_agg(case when Dim = 'Make' then DimValue else NULL end,';') Make,\\\n",
        "        string_agg(case when Dim = 'Type' then DimValue else NULL end,';') Type,\\\n",
        "        string_agg(case when Dim = 'Colour' then DimValue else NULL end,';') Colour, \\\n",
        "        string_agg(case when Dim = 'Price' then DimValue else NULL end,';') Price \\\n",
        "        FROM CarSalesFact_N \\\n",
        "        GROUP BY txn\\\n",
        "        ) as csf0 \\\n",
        "    group by \\\n",
        "    csf0.Make, csf0.Type, csf0.Colour \\\n",
        "    ) as csf4\\\n",
        "  GROUP BY ROLLUP (Make)\\\n",
        ") AS sums \\\n",
        "\""
      ],
      "metadata": {
        "id": "B9DzHiCmP5qp",
        "outputId": "2bcfa83d-6ce6-4f8b-9a5e-6af8dcc4d85f",
        "colab": {
          "base_uri": "https://localhost:8080/"
        }
      },
      "execution_count": 37,
      "outputs": [
        {
          "output_type": "stream",
          "name": "stdout",
          "text": [
            "  dim   | suv | sedan | compact | totals \n",
            "--------+-----+-------+---------+--------\n",
            " totals |   8 |     4 |       2 |     14\n",
            " Honda  |   6 |     1 |       0 |      7\n",
            " Toyota |   0 |     2 |       1 |      3\n",
            " Mazda  |   2 |     1 |       1 |      4\n",
            "(4 rows)\n",
            "\n"
          ]
        }
      ]
    },
    {
      "cell_type": "markdown",
      "source": [
        "#Chronobooks <br>\n",
        "Two science fiction novels by Prithwis Mukerjee. A dystopian Earth. A technocratic society managed by artificial intelligence. Escape and epiphany on Mars. Can man and machine, carbon and silicon explore and escape into other dimensions of existence? An Indic perspective rooted in Advaita Vedanta and the Divine Feminine.  [More information](http://bit.ly/chronobooks) <br>\n",
        "![alt text](https://github.com/Praxis-QR/RDWH/raw/main/images/CTCYFooter-1.png)"
      ],
      "metadata": {
        "id": "_gNiZpyW3AzJ"
      }
    },
    {
      "cell_type": "code",
      "source": [
        "from datetime import datetime\n",
        "import pytz\n",
        "print('Tested on ',datetime.now(pytz.timezone('Asia/Calcutta')))"
      ],
      "metadata": {
        "id": "y12ZSnsERnBf",
        "outputId": "dfc213d0-2af8-4752-b98f-0f114409c4e7",
        "colab": {
          "base_uri": "https://localhost:8080/"
        }
      },
      "execution_count": 38,
      "outputs": [
        {
          "output_type": "stream",
          "name": "stdout",
          "text": [
            "Tested on  2024-01-07 10:34:03.978697+05:30\n"
          ]
        }
      ]
    }
  ]
}