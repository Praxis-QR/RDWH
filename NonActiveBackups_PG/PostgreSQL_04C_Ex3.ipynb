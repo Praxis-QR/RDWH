{
  "nbformat": 4,
  "nbformat_minor": 0,
  "metadata": {
    "colab": {
      "provenance": [],
      "include_colab_link": true
    },
    "kernelspec": {
      "name": "python3",
      "display_name": "Python 3"
    },
    "language_info": {
      "name": "python"
    }
  },
  "cells": [
    {
      "cell_type": "markdown",
      "metadata": {
        "id": "view-in-github",
        "colab_type": "text"
      },
      "source": [
        "<a href=\"https://colab.research.google.com/github/Praxis-QR/RDWH/blob/main/PostgreSQL_04C_Ex3.ipynb\" target=\"_parent\"><img src=\"https://colab.research.google.com/assets/colab-badge.svg\" alt=\"Open In Colab\"/></a>"
      ]
    },
    {
      "cell_type": "markdown",
      "source": [
        "![Yantrajaal Banner](https://github.com/Praxis-QR/RDWH/raw/main/images/YantraJaalBanner.png)<br>\n",
        "\n",
        "\n",
        "<hr>\n",
        "\n",
        "[Prithwis Mukerjee](http://www.linkedin.com/in/prithwis)<br>"
      ],
      "metadata": {
        "id": "DBzz-qaN2tKu"
      }
    },
    {
      "cell_type": "markdown",
      "source": [
        "#Postgres Exercises\n",
        "Tutorial based on [SQLCourse2](https://www.sqlcourse2.com/) <br>\n",
        "Data is in this [Google Sheet](https://docs.google.com/spreadsheets/d/1m_LE_ahVHY0PrXmtyVVjO5CyqvmOMOwGT6hPYBYHBqw/edit?usp=sharing) <br>\n",
        "The data needs to be downloaded as two CSV files from the Google Docs above"
      ],
      "metadata": {
        "id": "QIfgaOrxZ39z"
      }
    },
    {
      "cell_type": "markdown",
      "source": [
        "#Install & Configure Postgres"
      ],
      "metadata": {
        "id": "nD-QawLT6kDr"
      }
    },
    {
      "cell_type": "code",
      "source": [
        "from datetime import datetime\n",
        "import pytz\n",
        "print('Tested on ',datetime.now(pytz.timezone('Asia/Calcutta')))\n",
        "!python --version\n",
        "!lsb_release -a"
      ],
      "metadata": {
        "id": "txwvst5Hs5mI",
        "outputId": "198b2776-288b-4d32-ed92-d0d92bc172e0",
        "colab": {
          "base_uri": "https://localhost:8080/"
        }
      },
      "execution_count": 1,
      "outputs": [
        {
          "output_type": "stream",
          "name": "stdout",
          "text": [
            "Tested on  2024-01-07 17:16:05.461934+05:30\n",
            "Python 3.10.12\n",
            "No LSB modules are available.\n",
            "Distributor ID:\tUbuntu\n",
            "Description:\tUbuntu 22.04.3 LTS\n",
            "Release:\t22.04\n",
            "Codename:\tjammy\n"
          ]
        }
      ]
    },
    {
      "cell_type": "markdown",
      "source": [
        "For Connecting to a Postgres server on Amazon RDS, see [this notebook](https://github.com/Praxis-QR/RDWH/blob/main/PostgreSQL_01_Install_Config.ipynb)"
      ],
      "metadata": {
        "id": "9w29_O07rTPE"
      }
    },
    {
      "cell_type": "code",
      "source": [
        "# Install postgresql server\n",
        "\n",
        "!apt update > /dev/null\n",
        "!apt install postgresql > /dev/null\n",
        "#!pip install psycopg2\n",
        "import psycopg2\n",
        "import pandas as pd\n",
        "#!sudo -u postgres psql -V\n",
        "!psql -V\n",
        "!service postgresql start"
      ],
      "metadata": {
        "colab": {
          "base_uri": "https://localhost:8080/"
        },
        "id": "o_RaqE0OOHP3",
        "outputId": "9aa7b6e1-7114-4c85-8033-22c40421b903"
      },
      "execution_count": 2,
      "outputs": [
        {
          "output_type": "stream",
          "name": "stdout",
          "text": [
            "\n",
            "WARNING: apt does not have a stable CLI interface. Use with caution in scripts.\n",
            "\n",
            "\n",
            "WARNING: apt does not have a stable CLI interface. Use with caution in scripts.\n",
            "\n",
            "psql (PostgreSQL) 14.10 (Ubuntu 14.10-0ubuntu0.22.04.1)\n",
            " * Starting PostgreSQL 14 database server\n",
            "   ...done.\n"
          ]
        }
      ]
    },
    {
      "cell_type": "markdown",
      "source": [
        "#Create Schema, Tables and Insert Data"
      ],
      "metadata": {
        "id": "JP7hBhEaYzW8"
      }
    },
    {
      "cell_type": "code",
      "source": [
        "# This has created an Ubuntu user 'postgres' AND a Postgres database user 'postgres' both of which are superusers\n",
        "#!cat /etc/passwd\n",
        "# Use these users to create a new database user called 'upraxis' and give it a password 'upass'\n",
        "#!sudo -u postgres createuser --superuser upraxis\n",
        "!sudo -u postgres createuser upraxis\n",
        "!sudo -u postgres psql -U postgres -c \"ALTER USER upraxis PASSWORD 'upass';\"\n",
        "# Change the database superuser 'postgres' to a non-default value 'pass'\n",
        "!sudo -u postgres psql -U postgres -c \"ALTER USER postgres PASSWORD 'pass';\"\n",
        "# Use ubuntu superuser to create database dbpraxis and set its owner to upraxis\n",
        "!sudo -u postgres createdb -O upraxis dbpraxis\n",
        "# Create file to store the password. Else will be prompted each time\n",
        "!echo \"localhost:5432:dbpraxis:postgres:pass\" > ~/.pgpass\n",
        "!echo \"localhost:5432:dbpraxis:upraxis:upass\" >> ~/.pgpass\n",
        "!chmod 0600 ~/.pgpass\n",
        "!cat ~/.pgpass\n"
      ],
      "metadata": {
        "colab": {
          "base_uri": "https://localhost:8080/"
        },
        "id": "NWkT4jeeQXw2",
        "outputId": "266f1d4a-faf0-4ec5-c77f-d237ea511893"
      },
      "execution_count": 3,
      "outputs": [
        {
          "output_type": "stream",
          "name": "stdout",
          "text": [
            "ALTER ROLE\n",
            "ALTER ROLE\n",
            "localhost:5432:praxisdb:postgres:pass\n",
            "localhost:5432:dbpraxis:upraxis:upass\n"
          ]
        }
      ]
    },
    {
      "cell_type": "code",
      "source": [
        "# Download two CSV files from G-Drive into the Colab VM\n",
        "#!gdown https://drive.google.com/uc?id=1WxuruueFwMTjmPb-DvvVnGYB78Ty4OkP\n",
        "#!gdown https://drive.google.com/uc?id=1j49sqYHv0UoskVJDzNObWxECFF7ySsld\n",
        "\n",
        "#!gdown -qq 1Ug15GbEmeTnwJnuH-4fpPeZ1k20ryoGx      # Quiet Mode, not output\n",
        "#!gdown -qq 1qx6duSqzQUJSkpHNQIIZ9l0T6zYtjT-y      # Quiet Mode, not output\n",
        "\n",
        "!wget -O Customers.csv -q https://raw.githubusercontent.com/Praxis-QR/RDWH/main/data/SQLCourse2%20-%20Customers.csv\n",
        "!wget -O ItemsOrdered.csv -q https://raw.githubusercontent.com/Praxis-QR/RDWH/main/data/SQLCourse2%20-%20ItemsOrdered.csv"
      ],
      "metadata": {
        "id": "01kFB_EbXzKg"
      },
      "execution_count": 5,
      "outputs": []
    },
    {
      "cell_type": "code",
      "source": [
        "!psql -h localhost -p 5432 -Uupraxis -d dbpraxis -c 'drop table if exists itemsordered'\n",
        "# --------------------------------------------------------------\n",
        "!psql -h localhost -p 5432 -Uupraxis -d dbpraxis -c '\\\n",
        "CREATE TABLE IF NOT EXISTS itemsordered (\\\n",
        "customerid char(5),orderdate date, item varchar(30), quantity int, price decimal(6,2)) \\\n",
        "'\n",
        "# --------------------------------------------------------------\n",
        "!psql -h localhost -p 5432 -Uupraxis -d dbpraxis -c 'drop table if exists customers'\n",
        "# --------------------------------------------------------------\n",
        "!psql -h localhost -p 5432 -Uupraxis -d dbpraxis -c '\\\n",
        "CREATE TABLE IF NOT EXISTS customers (customerid char(5),firstname varchar(20),lastname varchar(20), city varchar(20), state varchar(20)) \\\n",
        "'\n",
        "!psql -h localhost -p 5432 -Uupraxis -d dbpraxis -c '\\dt+'"
      ],
      "metadata": {
        "colab": {
          "base_uri": "https://localhost:8080/"
        },
        "id": "E6sV6-051qj2",
        "outputId": "8d7f044f-91a1-4923-ceb8-11f9e4b27f12"
      },
      "execution_count": 6,
      "outputs": [
        {
          "output_type": "stream",
          "name": "stdout",
          "text": [
            "NOTICE:  table \"itemsordered\" does not exist, skipping\n",
            "DROP TABLE\n",
            "CREATE TABLE\n",
            "NOTICE:  table \"customers\" does not exist, skipping\n",
            "DROP TABLE\n",
            "CREATE TABLE\n",
            "                                       List of relations\n",
            " Schema |     Name     | Type  |  Owner  | Persistence | Access method |  Size   | Description \n",
            "--------+--------------+-------+---------+-------------+---------------+---------+-------------\n",
            " public | customers    | table | upraxis | permanent   | heap          | 0 bytes | \n",
            " public | itemsordered | table | upraxis | permanent   | heap          | 0 bytes | \n",
            "(2 rows)\n",
            "\n"
          ]
        }
      ]
    },
    {
      "cell_type": "code",
      "source": [
        "# Only superuser ('postgres') can use copy command, not even database owner ('upraxis')\n",
        "# 'postgres' password has to be entered manually, password = 'pass'\n",
        "#\n",
        "!psql -h localhost -p 5432 -Upostgres -ddbpraxis -c \"COPY customers FROM '/content/Customers.csv' DELIMITER ',' CSV HEADER;\"\n",
        "!psql -h localhost -p 5432 -Upostgres -ddbpraxis -c \"COPY itemsordered FROM '/content/ItemsOrdered.csv' DELIMITER ',' CSV HEADER;\""
      ],
      "metadata": {
        "colab": {
          "base_uri": "https://localhost:8080/"
        },
        "id": "KHwy6MLZ2t1t",
        "outputId": "1a45573f-60c3-491b-fae4-7b7335f2b255"
      },
      "execution_count": 7,
      "outputs": [
        {
          "output_type": "stream",
          "name": "stdout",
          "text": [
            "COPY 17\n",
            "COPY 32\n"
          ]
        }
      ]
    },
    {
      "cell_type": "code",
      "source": [
        "#!cat ItemsOrdered.csv\n",
        "#!psql -h localhost -p 5432 -Uupraxis -d dbpraxis -c 'select * from itemsordered'"
      ],
      "metadata": {
        "id": "DpFMdlEz3aV-"
      },
      "execution_count": 9,
      "outputs": []
    },
    {
      "cell_type": "markdown",
      "source": [
        "## Python Access\n",
        "https://www.tutorialspoint.com/python_data_access/python_postgresql_database_connection.htm"
      ],
      "metadata": {
        "id": "faZEj8_7CeZ8"
      }
    },
    {
      "cell_type": "code",
      "source": [
        "# Local Colab server\n",
        "\n",
        "conn = psycopg2.connect(database=\"dbpraxis\", user='upraxis', password='upass', host='127.0.0.1', port= '5432')\n",
        "#Creating a cursor object using the cursor() method\n",
        "cursor = conn.cursor()\n",
        "#Executing an MYSQL function using the execute() method\n",
        "cursor.execute(\"select version()\")\n",
        "# Fetch a single row using fetchone() method.\n",
        "data = cursor.fetchone()\n",
        "print(\"Connection established to: \",data)\n",
        "#Closing the connection\n",
        "conn.close()"
      ],
      "metadata": {
        "id": "wcE-8UBnC4zV",
        "outputId": "2ccaae7b-35c3-4be9-ce76-2dbdf5eb689b",
        "colab": {
          "base_uri": "https://localhost:8080/"
        }
      },
      "execution_count": 10,
      "outputs": [
        {
          "output_type": "stream",
          "name": "stdout",
          "text": [
            "Connection established to:  ('PostgreSQL 14.10 (Ubuntu 14.10-0ubuntu0.22.04.1) on x86_64-pc-linux-gnu, compiled by gcc (Ubuntu 11.4.0-1ubuntu1~22.04) 11.4.0, 64-bit',)\n"
          ]
        }
      ]
    },
    {
      "cell_type": "code",
      "source": [
        "# function to execute SQL select statements with Postgres\n",
        "#\n",
        "def runSelect(s):\n",
        "    #Set up connection\n",
        "\n",
        "    conn = psycopg2.connect(database=\"dbpraxis\", user='upraxis', password='upass', host='127.0.0.1', port= '5432')\n",
        "    #Setting auto commit true\n",
        "    conn.autocommit = True\n",
        "    #Creating a cursor object using the cursor() method\n",
        "    cursor = conn.cursor()\n",
        "    #Retrieving data\n",
        "    cursor.execute(s)\n",
        "    #Fetching all rows from the table\n",
        "    result = cursor.fetchall();\n",
        "    #print(len(result))\n",
        "    if (len(result)) > 0:                                       # result contains at least one row\n",
        "        colnames = [desc[0] for desc in cursor.description]     # get column names\n",
        "        #print(colnames)\n",
        "        resultdf = pd.DataFrame(result)                         # convert list to dataframe\n",
        "        resultdf.columns = colnames                             # add column names\n",
        "        #return resultdf\n",
        "        return resultdf.style.hide()                            # hide the index\n",
        "    else:\n",
        "        print('no records found')\n",
        "        return\n",
        "# function to execute SQL non-select statements with Postgres\n",
        "#\n",
        "def runCmd(s):\n",
        "    #Create Connection\n",
        "    conn = psycopg2.connect(database=\"exercises\", user='postgres', password='pass', host='127.0.0.1', port= '5432')\n",
        "    #Creating a cursor object using the cursor() method\n",
        "    cursor = conn.cursor()\n",
        "    try:\n",
        "        cursor.execute(s)\n",
        "        print('Command executed')\n",
        "        conn.commit()\n",
        "    except:\n",
        "        print('Command failed')\n",
        "    #Closing the connection\n",
        "    conn.close()"
      ],
      "metadata": {
        "id": "ht2k7-3iggNd"
      },
      "execution_count": 11,
      "outputs": []
    },
    {
      "cell_type": "markdown",
      "source": [
        "##Check Data"
      ],
      "metadata": {
        "id": "RvTKboYtbSjZ"
      }
    },
    {
      "cell_type": "code",
      "source": [
        "#runSelect(\"select * from itemsordered\")\n",
        "runSelect(\"select * from customers\")"
      ],
      "metadata": {
        "colab": {
          "base_uri": "https://localhost:8080/",
          "height": 582
        },
        "id": "ctq0ULCvVTsO",
        "outputId": "8ec9e979-7119-40b0-f400-ce1c04354e9b"
      },
      "execution_count": 13,
      "outputs": [
        {
          "output_type": "execute_result",
          "data": {
            "text/plain": [
              "<pandas.io.formats.style.Styler at 0x7d826fbaf6d0>"
            ],
            "text/html": [
              "<style type=\"text/css\">\n",
              "</style>\n",
              "<table id=\"T_385a1\" class=\"dataframe\">\n",
              "  <thead>\n",
              "    <tr>\n",
              "      <th id=\"T_385a1_level0_col0\" class=\"col_heading level0 col0\" >customerid</th>\n",
              "      <th id=\"T_385a1_level0_col1\" class=\"col_heading level0 col1\" >firstname</th>\n",
              "      <th id=\"T_385a1_level0_col2\" class=\"col_heading level0 col2\" >lastname</th>\n",
              "      <th id=\"T_385a1_level0_col3\" class=\"col_heading level0 col3\" >city</th>\n",
              "      <th id=\"T_385a1_level0_col4\" class=\"col_heading level0 col4\" >state</th>\n",
              "    </tr>\n",
              "  </thead>\n",
              "  <tbody>\n",
              "    <tr>\n",
              "      <td id=\"T_385a1_row0_col0\" class=\"data row0 col0\" >10101</td>\n",
              "      <td id=\"T_385a1_row0_col1\" class=\"data row0 col1\" >John</td>\n",
              "      <td id=\"T_385a1_row0_col2\" class=\"data row0 col2\" >Gray</td>\n",
              "      <td id=\"T_385a1_row0_col3\" class=\"data row0 col3\" >Lynden</td>\n",
              "      <td id=\"T_385a1_row0_col4\" class=\"data row0 col4\" >Washington</td>\n",
              "    </tr>\n",
              "    <tr>\n",
              "      <td id=\"T_385a1_row1_col0\" class=\"data row1 col0\" >10298</td>\n",
              "      <td id=\"T_385a1_row1_col1\" class=\"data row1 col1\" >Leroy</td>\n",
              "      <td id=\"T_385a1_row1_col2\" class=\"data row1 col2\" >Brown</td>\n",
              "      <td id=\"T_385a1_row1_col3\" class=\"data row1 col3\" >Pinetop</td>\n",
              "      <td id=\"T_385a1_row1_col4\" class=\"data row1 col4\" >Arizona</td>\n",
              "    </tr>\n",
              "    <tr>\n",
              "      <td id=\"T_385a1_row2_col0\" class=\"data row2 col0\" >10299</td>\n",
              "      <td id=\"T_385a1_row2_col1\" class=\"data row2 col1\" >Elroy</td>\n",
              "      <td id=\"T_385a1_row2_col2\" class=\"data row2 col2\" >Keller</td>\n",
              "      <td id=\"T_385a1_row2_col3\" class=\"data row2 col3\" >Snoqualmie</td>\n",
              "      <td id=\"T_385a1_row2_col4\" class=\"data row2 col4\" >Washington</td>\n",
              "    </tr>\n",
              "    <tr>\n",
              "      <td id=\"T_385a1_row3_col0\" class=\"data row3 col0\" >10315</td>\n",
              "      <td id=\"T_385a1_row3_col1\" class=\"data row3 col1\" >Lisa</td>\n",
              "      <td id=\"T_385a1_row3_col2\" class=\"data row3 col2\" >Jones</td>\n",
              "      <td id=\"T_385a1_row3_col3\" class=\"data row3 col3\" >Oshkosh</td>\n",
              "      <td id=\"T_385a1_row3_col4\" class=\"data row3 col4\" >Wisconsin</td>\n",
              "    </tr>\n",
              "    <tr>\n",
              "      <td id=\"T_385a1_row4_col0\" class=\"data row4 col0\" >10325</td>\n",
              "      <td id=\"T_385a1_row4_col1\" class=\"data row4 col1\" >Ginger</td>\n",
              "      <td id=\"T_385a1_row4_col2\" class=\"data row4 col2\" >Schultz</td>\n",
              "      <td id=\"T_385a1_row4_col3\" class=\"data row4 col3\" >Pocatello</td>\n",
              "      <td id=\"T_385a1_row4_col4\" class=\"data row4 col4\" >Idaho</td>\n",
              "    </tr>\n",
              "    <tr>\n",
              "      <td id=\"T_385a1_row5_col0\" class=\"data row5 col0\" >10329</td>\n",
              "      <td id=\"T_385a1_row5_col1\" class=\"data row5 col1\" >Kelly</td>\n",
              "      <td id=\"T_385a1_row5_col2\" class=\"data row5 col2\" >Mendoza</td>\n",
              "      <td id=\"T_385a1_row5_col3\" class=\"data row5 col3\" >Kailua</td>\n",
              "      <td id=\"T_385a1_row5_col4\" class=\"data row5 col4\" >Hawaii</td>\n",
              "    </tr>\n",
              "    <tr>\n",
              "      <td id=\"T_385a1_row6_col0\" class=\"data row6 col0\" >10330</td>\n",
              "      <td id=\"T_385a1_row6_col1\" class=\"data row6 col1\" >Shawn</td>\n",
              "      <td id=\"T_385a1_row6_col2\" class=\"data row6 col2\" >Dalton</td>\n",
              "      <td id=\"T_385a1_row6_col3\" class=\"data row6 col3\" >Cannon Beach</td>\n",
              "      <td id=\"T_385a1_row6_col4\" class=\"data row6 col4\" >Oregon</td>\n",
              "    </tr>\n",
              "    <tr>\n",
              "      <td id=\"T_385a1_row7_col0\" class=\"data row7 col0\" >10338</td>\n",
              "      <td id=\"T_385a1_row7_col1\" class=\"data row7 col1\" >Michael</td>\n",
              "      <td id=\"T_385a1_row7_col2\" class=\"data row7 col2\" >Howell</td>\n",
              "      <td id=\"T_385a1_row7_col3\" class=\"data row7 col3\" >Tillamook</td>\n",
              "      <td id=\"T_385a1_row7_col4\" class=\"data row7 col4\" >Oregon</td>\n",
              "    </tr>\n",
              "    <tr>\n",
              "      <td id=\"T_385a1_row8_col0\" class=\"data row8 col0\" >10339</td>\n",
              "      <td id=\"T_385a1_row8_col1\" class=\"data row8 col1\" >Anthony</td>\n",
              "      <td id=\"T_385a1_row8_col2\" class=\"data row8 col2\" >Sanchez</td>\n",
              "      <td id=\"T_385a1_row8_col3\" class=\"data row8 col3\" >Winslow</td>\n",
              "      <td id=\"T_385a1_row8_col4\" class=\"data row8 col4\" >Arizona</td>\n",
              "    </tr>\n",
              "    <tr>\n",
              "      <td id=\"T_385a1_row9_col0\" class=\"data row9 col0\" >10408</td>\n",
              "      <td id=\"T_385a1_row9_col1\" class=\"data row9 col1\" >Elroy</td>\n",
              "      <td id=\"T_385a1_row9_col2\" class=\"data row9 col2\" >Cleaver</td>\n",
              "      <td id=\"T_385a1_row9_col3\" class=\"data row9 col3\" >Globe</td>\n",
              "      <td id=\"T_385a1_row9_col4\" class=\"data row9 col4\" >Arizona</td>\n",
              "    </tr>\n",
              "    <tr>\n",
              "      <td id=\"T_385a1_row10_col0\" class=\"data row10 col0\" >10410</td>\n",
              "      <td id=\"T_385a1_row10_col1\" class=\"data row10 col1\" >Mary Ann</td>\n",
              "      <td id=\"T_385a1_row10_col2\" class=\"data row10 col2\" >Howell</td>\n",
              "      <td id=\"T_385a1_row10_col3\" class=\"data row10 col3\" >Charleston</td>\n",
              "      <td id=\"T_385a1_row10_col4\" class=\"data row10 col4\" >South Carolina</td>\n",
              "    </tr>\n",
              "    <tr>\n",
              "      <td id=\"T_385a1_row11_col0\" class=\"data row11 col0\" >10413</td>\n",
              "      <td id=\"T_385a1_row11_col1\" class=\"data row11 col1\" >Donald</td>\n",
              "      <td id=\"T_385a1_row11_col2\" class=\"data row11 col2\" >Davids</td>\n",
              "      <td id=\"T_385a1_row11_col3\" class=\"data row11 col3\" >Gila Bend</td>\n",
              "      <td id=\"T_385a1_row11_col4\" class=\"data row11 col4\" >Arizona</td>\n",
              "    </tr>\n",
              "    <tr>\n",
              "      <td id=\"T_385a1_row12_col0\" class=\"data row12 col0\" >10419</td>\n",
              "      <td id=\"T_385a1_row12_col1\" class=\"data row12 col1\" >Linda</td>\n",
              "      <td id=\"T_385a1_row12_col2\" class=\"data row12 col2\" >Sakahara</td>\n",
              "      <td id=\"T_385a1_row12_col3\" class=\"data row12 col3\" >Nogales</td>\n",
              "      <td id=\"T_385a1_row12_col4\" class=\"data row12 col4\" >Arizona</td>\n",
              "    </tr>\n",
              "    <tr>\n",
              "      <td id=\"T_385a1_row13_col0\" class=\"data row13 col0\" >10429</td>\n",
              "      <td id=\"T_385a1_row13_col1\" class=\"data row13 col1\" >Sarah</td>\n",
              "      <td id=\"T_385a1_row13_col2\" class=\"data row13 col2\" >Graham</td>\n",
              "      <td id=\"T_385a1_row13_col3\" class=\"data row13 col3\" >Greensboro</td>\n",
              "      <td id=\"T_385a1_row13_col4\" class=\"data row13 col4\" >North Carolina</td>\n",
              "    </tr>\n",
              "    <tr>\n",
              "      <td id=\"T_385a1_row14_col0\" class=\"data row14 col0\" >10438</td>\n",
              "      <td id=\"T_385a1_row14_col1\" class=\"data row14 col1\" >Kevin</td>\n",
              "      <td id=\"T_385a1_row14_col2\" class=\"data row14 col2\" >Smith</td>\n",
              "      <td id=\"T_385a1_row14_col3\" class=\"data row14 col3\" >Durango</td>\n",
              "      <td id=\"T_385a1_row14_col4\" class=\"data row14 col4\" >Colorado</td>\n",
              "    </tr>\n",
              "    <tr>\n",
              "      <td id=\"T_385a1_row15_col0\" class=\"data row15 col0\" >10439</td>\n",
              "      <td id=\"T_385a1_row15_col1\" class=\"data row15 col1\" >Conrad</td>\n",
              "      <td id=\"T_385a1_row15_col2\" class=\"data row15 col2\" >Giles</td>\n",
              "      <td id=\"T_385a1_row15_col3\" class=\"data row15 col3\" >Telluride</td>\n",
              "      <td id=\"T_385a1_row15_col4\" class=\"data row15 col4\" >Colorado</td>\n",
              "    </tr>\n",
              "    <tr>\n",
              "      <td id=\"T_385a1_row16_col0\" class=\"data row16 col0\" >10449</td>\n",
              "      <td id=\"T_385a1_row16_col1\" class=\"data row16 col1\" >Isabela</td>\n",
              "      <td id=\"T_385a1_row16_col2\" class=\"data row16 col2\" >Moore</td>\n",
              "      <td id=\"T_385a1_row16_col3\" class=\"data row16 col3\" >Yuma</td>\n",
              "      <td id=\"T_385a1_row16_col4\" class=\"data row16 col4\" >Arizona</td>\n",
              "    </tr>\n",
              "  </tbody>\n",
              "</table>\n"
            ]
          },
          "metadata": {},
          "execution_count": 13
        }
      ]
    },
    {
      "cell_type": "markdown",
      "source": [
        "#Chronobooks <br>\n",
        "Two science fiction novels by Prithwis Mukerjee. A dystopian Earth. A technocratic society managed by artificial intelligence. Escape and epiphany on Mars. Can man and machine, carbon and silicon explore and escape into other dimensions of existence? An Indic perspective rooted in Advaita Vedanta and the Divine Feminine.  [More information](http://bit.ly/chronobooks) <br>\n",
        "![alt text](https://github.com/Praxis-QR/RDWH/raw/main/images/CTCYFooter-1.png)"
      ],
      "metadata": {
        "id": "_gNiZpyW3AzJ"
      }
    },
    {
      "cell_type": "code",
      "source": [
        "from datetime import datetime\n",
        "import pytz\n",
        "print('Last tested  ',datetime.now(pytz.timezone('Asia/Kolkata')))"
      ],
      "metadata": {
        "colab": {
          "base_uri": "https://localhost:8080/"
        },
        "id": "wjBXJVhM605H",
        "outputId": "c6418f4a-db57-43d1-8b6d-30d5ba2731f4"
      },
      "execution_count": null,
      "outputs": [
        {
          "output_type": "stream",
          "name": "stdout",
          "text": [
            "Last tested   2023-12-31 16:01:25.642107+05:30\n"
          ]
        }
      ]
    }
  ]
}