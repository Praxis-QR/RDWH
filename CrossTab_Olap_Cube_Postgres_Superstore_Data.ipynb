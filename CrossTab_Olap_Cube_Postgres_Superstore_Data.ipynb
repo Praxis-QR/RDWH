{
  "nbformat": 4,
  "nbformat_minor": 0,
  "metadata": {
    "colab": {
      "provenance": [],
      "toc_visible": true,
      "authorship_tag": "ABX9TyOVNdLd/Kdh1j4gFIxvIutU",
      "include_colab_link": true
    },
    "kernelspec": {
      "name": "python3",
      "display_name": "Python 3"
    },
    "language_info": {
      "name": "python"
    }
  },
  "cells": [
    {
      "cell_type": "markdown",
      "metadata": {
        "id": "view-in-github",
        "colab_type": "text"
      },
      "source": [
        "<a href=\"https://colab.research.google.com/github/Praxis-QR/RDWH/blob/main/CrossTab_Olap_Cube_Postgres_Superstore_Data.ipynb\" target=\"_parent\"><img src=\"https://colab.research.google.com/assets/colab-badge.svg\" alt=\"Open In Colab\"/></a>"
      ]
    },
    {
      "cell_type": "markdown",
      "source": [
        "![alt text](https://github.com/Praxis-QR/RDWH/raw/main/images/YantraJaalBanner.png)<br>\n",
        "\n",
        "\n",
        "<hr>\n",
        "\n",
        "[Prithwis Mukerjee](http://www.linkedin.com/in/prithwis)<br>"
      ],
      "metadata": {
        "id": "nWuU2Pxojk7O"
      }
    },
    {
      "cell_type": "markdown",
      "source": [
        "For the corresponding exercise with MySQL see this [notebook](https://github.com/Praxis-QR/RDWH/blob/main/Cross_Tab_with_OLAP_Cube_SQL_Superstore.ipynb)"
      ],
      "metadata": {
        "id": "zWVlrJx_UhiR"
      }
    },
    {
      "cell_type": "markdown",
      "source": [
        "#Set Up"
      ],
      "metadata": {
        "id": "70YF-lUdkIk6"
      }
    },
    {
      "cell_type": "code",
      "execution_count": 1,
      "metadata": {
        "colab": {
          "base_uri": "https://localhost:8080/"
        },
        "id": "aZIRPj3hjhAL",
        "outputId": "f99efa73-ffad-478c-c912-fa8e81e9f5fa"
      },
      "outputs": [
        {
          "output_type": "stream",
          "name": "stdout",
          "text": [
            "\n",
            "WARNING: apt does not have a stable CLI interface. Use with caution in scripts.\n",
            "\n",
            "\n",
            "WARNING: apt does not have a stable CLI interface. Use with caution in scripts.\n",
            "\n",
            "psql (PostgreSQL) 12.14 (Ubuntu 12.14-0ubuntu0.20.04.1)\n",
            " * Starting PostgreSQL 12 database server\n",
            "   ...done.\n"
          ]
        }
      ],
      "source": [
        "# Install postgresql server\n",
        "\n",
        "!apt update > /dev/null\n",
        "!apt install postgresql > /dev/null\n",
        "!sudo -u postgres psql -V\n",
        "!service postgresql start"
      ]
    },
    {
      "cell_type": "code",
      "source": [
        "# Setup a password `postgres` for username `postgres`\n",
        "!sudo -u postgres psql -U postgres -c \"ALTER USER postgres PASSWORD 'pass';\"\n",
        "#\n",
        "# Setup a database with name `sampledb` to be used\n",
        "!sudo -u postgres psql -U postgres -c 'DROP DATABASE IF EXISTS praxisdb;'\n",
        "!sudo -u postgres psql -U postgres -c 'CREATE DATABASE praxisdb;'"
      ],
      "metadata": {
        "colab": {
          "base_uri": "https://localhost:8080/"
        },
        "id": "rr-xK55-kcBt",
        "outputId": "dc77f555-af58-406f-bc53-25ae5193f258"
      },
      "execution_count": 2,
      "outputs": [
        {
          "output_type": "stream",
          "name": "stdout",
          "text": [
            "ALTER ROLE\n",
            "NOTICE:  database \"praxisdb\" does not exist, skipping\n",
            "DROP DATABASE\n",
            "CREATE DATABASE\n"
          ]
        }
      ]
    },
    {
      "cell_type": "code",
      "source": [
        "# Create file to store the password. Else will be prompted each time\n",
        "!echo \"localhost:5432:praxisdb:postgres:pass\" > ~/.pgpass\n",
        "!chmod 0600 ~/.pgpass\n",
        "!cat ~/.pgpass"
      ],
      "metadata": {
        "colab": {
          "base_uri": "https://localhost:8080/"
        },
        "id": "J7x6MpNPkhJ-",
        "outputId": "fb01c3d5-b1a4-4944-9aef-914578b35ab3"
      },
      "execution_count": 3,
      "outputs": [
        {
          "output_type": "stream",
          "name": "stdout",
          "text": [
            "localhost:5432:praxisdb:postgres:pass\n"
          ]
        }
      ]
    },
    {
      "cell_type": "code",
      "source": [
        "#!psql -h localhost -p 5432 -Upostgres -W -dpraxisdb -c \\\n",
        "!psql -h localhost -p 5432 -Upostgres -dpraxisdb -c \\\n",
        "\"CREATE TABLE IF NOT EXISTS ss_order (\\\n",
        "RowID smallint,\\\n",
        "OrderID char(14),OrderDate date,\\\n",
        "ShipDate date,ShipMode varchar(16),\\\n",
        "CustomerID char(8),CustomerName varchar(30),Segment varchar(20),\\\n",
        "Country varchar(30),City varchar(30),State varchar(30),PostalCode char(5),Region varchar(15) ,\\\n",
        "ProductID varchar(20), Category varchar(40), SubCategory varchar(40), ProductName varchar(200), \\\n",
        "Sales decimal(8,2), Quantity smallint, Discount decimal(4,2), Profit decimal(8,2) \\\n",
        "); \\\n",
        "\""
      ],
      "metadata": {
        "colab": {
          "base_uri": "https://localhost:8080/"
        },
        "id": "1EgoXGgMkpmG",
        "outputId": "57c8a765-046e-4fef-8fbe-e4285204641a"
      },
      "execution_count": 4,
      "outputs": [
        {
          "output_type": "stream",
          "name": "stdout",
          "text": [
            "CREATE TABLE\n"
          ]
        }
      ]
    },
    {
      "cell_type": "code",
      "source": [
        "!psql -h localhost -p 5432 -Upostgres -dpraxisdb -c '\\d+ ss_order'"
      ],
      "metadata": {
        "colab": {
          "base_uri": "https://localhost:8080/"
        },
        "id": "CpD8ECGHlV1B",
        "outputId": "56de6480-d397-4c95-e2fa-20d906602329"
      },
      "execution_count": 5,
      "outputs": [
        {
          "output_type": "stream",
          "name": "stdout",
          "text": [
            "                                            Table \"public.ss_order\"\n",
            "    Column    |          Type          | Collation | Nullable | Default | Storage  | Stats target | Description \n",
            "--------------+------------------------+-----------+----------+---------+----------+--------------+-------------\n",
            " rowid        | smallint               |           |          |         | plain    |              | \n",
            " orderid      | character(14)          |           |          |         | extended |              | \n",
            " orderdate    | date                   |           |          |         | plain    |              | \n",
            " shipdate     | date                   |           |          |         | plain    |              | \n",
            " shipmode     | character varying(16)  |           |          |         | extended |              | \n",
            " customerid   | character(8)           |           |          |         | extended |              | \n",
            " customername | character varying(30)  |           |          |         | extended |              | \n",
            " segment      | character varying(20)  |           |          |         | extended |              | \n",
            " country      | character varying(30)  |           |          |         | extended |              | \n",
            " city         | character varying(30)  |           |          |         | extended |              | \n",
            " state        | character varying(30)  |           |          |         | extended |              | \n",
            " postalcode   | character(5)           |           |          |         | extended |              | \n",
            " region       | character varying(15)  |           |          |         | extended |              | \n",
            " productid    | character varying(20)  |           |          |         | extended |              | \n",
            " category     | character varying(40)  |           |          |         | extended |              | \n",
            " subcategory  | character varying(40)  |           |          |         | extended |              | \n",
            " productname  | character varying(200) |           |          |         | extended |              | \n",
            " sales        | numeric(8,2)           |           |          |         | main     |              | \n",
            " quantity     | smallint               |           |          |         | plain    |              | \n",
            " discount     | numeric(4,2)           |           |          |         | main     |              | \n",
            " profit       | numeric(8,2)           |           |          |         | main     |              | \n",
            "Access method: heap\n",
            "\n"
          ]
        }
      ]
    },
    {
      "cell_type": "code",
      "source": [
        "#!wget -O SS_Orders2.csv 'https://drive.google.com/uc?export=download&id=13MKOpo8iD-tMkeMLw-4IPFi5-xWhmqFZ'\n",
        "#!gdown https://drive.google.com/uc?id=13MKOpo8iD-tMkeMLw-4IPFi5-xWhmqFZ\n",
        "!wget -q -O SS_Orders.csv 'https://raw.githubusercontent.com/Praxis-QR/RDWH/main/data/SS_Orders.csv'"
      ],
      "metadata": {
        "id": "CmlaHfMkl_8o"
      },
      "execution_count": 6,
      "outputs": []
    },
    {
      "cell_type": "code",
      "source": [
        "!psql -h localhost -p 5432 -Upostgres -dpraxisdb -c \"set datestyle to PostgreSQL,European; show datestyle\""
      ],
      "metadata": {
        "colab": {
          "base_uri": "https://localhost:8080/"
        },
        "id": "uMfiFsKznOqg",
        "outputId": "08f892de-6133-4578-fa4c-57df55c78b0b"
      },
      "execution_count": 7,
      "outputs": [
        {
          "output_type": "stream",
          "name": "stdout",
          "text": [
            "   DateStyle   \n",
            "---------------\n",
            " Postgres, DMY\n",
            "(1 row)\n",
            "\n"
          ]
        }
      ]
    },
    {
      "cell_type": "code",
      "source": [
        "!psql -h localhost -p 5432 -Upostgres -dpraxisdb -c \"set datestyle to PostgreSQL,European;COPY ss_order FROM '/content/SS_Orders.csv' DELIMITER ',' CSV HEADER;\""
      ],
      "metadata": {
        "colab": {
          "base_uri": "https://localhost:8080/"
        },
        "id": "5OTxXusHmOFb",
        "outputId": "2d9f0ca2-755f-494f-bf97-8f586a2f40dd"
      },
      "execution_count": 8,
      "outputs": [
        {
          "output_type": "stream",
          "name": "stdout",
          "text": [
            "COPY 9994\n"
          ]
        }
      ]
    },
    {
      "cell_type": "code",
      "source": [
        "!psql -h localhost -p 5432 -Upostgres -dpraxisdb -c 'select * from ss_order limit 10'\n",
        "#the date data should have loaded correctly"
      ],
      "metadata": {
        "colab": {
          "base_uri": "https://localhost:8080/"
        },
        "id": "2WYob3Mvo8pb",
        "outputId": "f876b957-5c3f-4e5f-a515-76e049690082"
      },
      "execution_count": 9,
      "outputs": [
        {
          "output_type": "stream",
          "name": "stdout",
          "text": [
            " rowid |    orderid     | orderdate  |  shipdate  |    shipmode    | customerid |  customername   |  segment  |    country    |      city       |   state    | postalcode | region |    productid    |    category     | subcategory |                           productname                            | sales  | quantity | discount | profit  \n",
            "-------+----------------+------------+------------+----------------+------------+-----------------+-----------+---------------+-----------------+------------+------------+--------+-----------------+-----------------+-------------+------------------------------------------------------------------+--------+----------+----------+---------\n",
            "     1 | CA-2016-152156 | 2016-11-08 | 2016-11-11 | Second Class   | CG-12520   | Claire Gute     | Consumer  | United States | Henderson       | Kentucky   | 42420      | South  | FUR-BO-10001798 | Furniture       | Bookcases   | Bush Somerset Collection Bookcase                                | 261.96 |        2 |     0.00 |   41.91\n",
            "     2 | CA-2016-152156 | 2016-11-08 | 2016-11-11 | Second Class   | CG-12520   | Claire Gute     | Consumer  | United States | Henderson       | Kentucky   | 42420      | South  | FUR-CH-10000454 | Furniture       | Chairs      | Hon Deluxe Fabric Upholstered Stacking Chairs, Rounded Back      | 731.94 |        3 |     0.00 |  219.58\n",
            "     3 | CA-2016-138688 | 2016-06-12 | 2016-06-16 | Second Class   | DV-13045   | Darrin Van Huff | Corporate | United States | Los Angeles     | California | 90036      | West   | OFF-LA-10000240 | Office Supplies | Labels      | Self-Adhesive Address Labels for Typewriters by Universal        |  14.62 |        2 |     0.00 |    6.87\n",
            "     4 | US-2015-108966 | 2015-10-11 | 2015-10-18 | Standard Class | SO-20335   | Sean O'Donnell  | Consumer  | United States | Fort Lauderdale | Florida    | 33311      | South  | FUR-TA-10000577 | Furniture       | Tables      | Bretford CR4500 Series Slim Rectangular Table                    | 957.58 |        5 |     0.45 | -383.03\n",
            "     5 | US-2015-108966 | 2015-10-11 | 2015-10-18 | Standard Class | SO-20335   | Sean O'Donnell  | Consumer  | United States | Fort Lauderdale | Florida    | 33311      | South  | OFF-ST-10000760 | Office Supplies | Storage     | Eldon Fold 'N Roll Cart System                                   |  22.37 |        2 |     0.20 |    2.52\n",
            "     6 | CA-2014-115812 | 2014-06-09 | 2014-06-14 | Standard Class | BH-11710   | Brosina Hoffman | Consumer  | United States | Los Angeles     | California | 90032      | West   | FUR-FU-10001487 | Furniture       | Furnishings | Eldon Expressions Wood and Plastic Desk Accessories, Cherry Wood |  48.86 |        7 |     0.00 |   14.17\n",
            "     7 | CA-2014-115812 | 2014-06-09 | 2014-06-14 | Standard Class | BH-11710   | Brosina Hoffman | Consumer  | United States | Los Angeles     | California | 90032      | West   | OFF-AR-10002833 | Office Supplies | Art         | Newell 322                                                       |   7.28 |        4 |     0.00 |    1.97\n",
            "     8 | CA-2014-115812 | 2014-06-09 | 2014-06-14 | Standard Class | BH-11710   | Brosina Hoffman | Consumer  | United States | Los Angeles     | California | 90032      | West   | TEC-PH-10002275 | Technology      | Phones      | Mitel 5320 IP Phone VoIP phone                                   | 907.15 |        6 |     0.20 |   90.72\n",
            "     9 | CA-2014-115812 | 2014-06-09 | 2014-06-14 | Standard Class | BH-11710   | Brosina Hoffman | Consumer  | United States | Los Angeles     | California | 90032      | West   | OFF-BI-10003910 | Office Supplies | Binders     | DXL Angle-View Binders with Locking Rings by Samsill             |  18.50 |        3 |     0.20 |    5.78\n",
            "    10 | CA-2014-115812 | 2014-06-09 | 2014-06-14 | Standard Class | BH-11710   | Brosina Hoffman | Consumer  | United States | Los Angeles     | California | 90032      | West   | OFF-AP-10002892 | Office Supplies | Appliances  | Belkin F5C206VTEL 6 Outlet Surge                                 | 114.90 |        5 |     0.00 |   34.47\n",
            "(10 rows)\n",
            "\n"
          ]
        }
      ]
    },
    {
      "cell_type": "markdown",
      "source": [
        "#Group By"
      ],
      "metadata": {
        "id": "77Z1mAEdqkI1"
      }
    },
    {
      "cell_type": "code",
      "source": [
        "!psql -h localhost -p 5432 -Upostgres -dpraxisdb -c \"\\\n",
        "SELECT segment, region, category, SUM (sales) sales \\\n",
        "FROM ss_order \\\n",
        "GROUP BY segment, region, category; \\\n",
        "\""
      ],
      "metadata": {
        "colab": {
          "base_uri": "https://localhost:8080/"
        },
        "id": "HUR02EfXraVn",
        "outputId": "02b75cb0-f1e9-490d-c40b-3597e838cfb9"
      },
      "execution_count": 10,
      "outputs": [
        {
          "output_type": "stream",
          "name": "stdout",
          "text": [
            "   segment   | region  |    category     |   sales   \n",
            "-------------+---------+-----------------+-----------\n",
            " Corporate   | South   | Office Supplies |  45930.19\n",
            " Consumer    | South   | Technology      |  65276.15\n",
            " Corporate   | East    | Technology      |  69725.58\n",
            " Corporate   | East    | Office Supplies |  66474.79\n",
            " Consumer    | East    | Furniture       | 114211.77\n",
            " Consumer    | West    | Furniture       | 119808.16\n",
            " Home Office | West    | Furniture       |  49724.57\n",
            " Corporate   | South   | Technology      |  46310.75\n",
            " Home Office | East    | Furniture       |  29870.32\n",
            " Consumer    | Central | Office Supplies |  93111.40\n",
            " Home Office | Central | Office Supplies |  32777.22\n",
            " Consumer    | South   | Furniture       |  70800.22\n",
            " Consumer    | South   | Office Supplies |  59504.55\n",
            " Corporate   | South   | Furniture       |  29645.01\n",
            " Consumer    | East    | Office Supplies | 101255.11\n",
            " Consumer    | West    | Office Supplies | 110080.90\n",
            " Consumer    | Central | Technology      |  72690.75\n",
            " Home Office | Central | Furniture       |  25482.38\n",
            " Home Office | West    | Office Supplies |  33638.50\n",
            " Home Office | South   | Technology      |  37185.01\n",
            " Home Office | West    | Technology      |  53358.79\n",
            " Corporate   | West    | Office Supplies |  77133.80\n",
            " Home Office | East    | Technology      |  59807.17\n",
            " Corporate   | Central | Technology      |  64772.48\n",
            " Consumer    | East    | Technology      | 135441.29\n",
            " Corporate   | Central | Office Supplies |  41137.71\n",
            " Home Office | South   | Furniture       |  16853.45\n",
            " Corporate   | West    | Furniture       |  83080.14\n",
            " Home Office | South   | Office Supplies |  20216.57\n",
            " Consumer    | West    | Technology      | 132991.76\n",
            " Home Office | Central | Technology      |  32953.06\n",
            " Corporate   | West    | Technology      |  65641.31\n",
            " Home Office | East    | Office Supplies |  37786.25\n",
            " Corporate   | East    | Furniture       |  64209.08\n",
            " Corporate   | Central | Furniture       |  52085.60\n",
            " Consumer    | Central | Furniture       |  86229.28\n",
            "(36 rows)\n",
            "\n"
          ]
        }
      ]
    },
    {
      "cell_type": "code",
      "source": [
        "!psql -h localhost -p 5432 -Upostgres -dpraxisdb -c \"\\\n",
        "SELECT segment, region, SUM (sales) sales \\\n",
        "FROM ss_order \\\n",
        "GROUP BY segment, region; \\\n",
        "\""
      ],
      "metadata": {
        "colab": {
          "base_uri": "https://localhost:8080/"
        },
        "id": "G91X7PRYqmpE",
        "outputId": "2ad19d57-dff3-4838-f7f2-19a1f2cd85de"
      },
      "execution_count": 11,
      "outputs": [
        {
          "output_type": "stream",
          "name": "stdout",
          "text": [
            "   segment   | region  |   sales   \n",
            "-------------+---------+-----------\n",
            " Home Office | Central |  91212.66\n",
            " Corporate   | West    | 225855.25\n",
            " Home Office | South   |  74255.03\n",
            " Consumer    | Central | 252031.43\n",
            " Home Office | West    | 136721.86\n",
            " Corporate   | South   | 121885.95\n",
            " Consumer    | South   | 195580.92\n",
            " Corporate   | Central | 157995.79\n",
            " Consumer    | West    | 362880.82\n",
            " Consumer    | East    | 350908.17\n",
            " Corporate   | East    | 200409.45\n",
            " Home Office | East    | 127463.74\n",
            "(12 rows)\n",
            "\n"
          ]
        }
      ]
    },
    {
      "cell_type": "code",
      "source": [
        "!psql -h localhost -p 5432 -Upostgres -dpraxisdb -c \"\\\n",
        "SELECT segment, SUM (sales) sales \\\n",
        "FROM ss_order \\\n",
        "GROUP BY segment; \\\n",
        "\""
      ],
      "metadata": {
        "colab": {
          "base_uri": "https://localhost:8080/"
        },
        "id": "xLEA18xQsD40",
        "outputId": "97983ae5-0e50-4a1e-8e1f-7aa0ee1553f3"
      },
      "execution_count": 12,
      "outputs": [
        {
          "output_type": "stream",
          "name": "stdout",
          "text": [
            "   segment   |   sales    \n",
            "-------------+------------\n",
            " Consumer    | 1161401.34\n",
            " Corporate   |  706146.44\n",
            " Home Office |  429653.29\n",
            "(3 rows)\n",
            "\n"
          ]
        }
      ]
    },
    {
      "cell_type": "code",
      "source": [
        "!psql -h localhost -p 5432 -Upostgres -dpraxisdb -c \"\\\n",
        "SELECT  SUM (sales) sales \\\n",
        "FROM ss_order  \\\n",
        "\""
      ],
      "metadata": {
        "colab": {
          "base_uri": "https://localhost:8080/"
        },
        "id": "D3Z_XPIXsL6G",
        "outputId": "8c0273d8-936c-48a8-f046-f3822780930c"
      },
      "execution_count": 13,
      "outputs": [
        {
          "output_type": "stream",
          "name": "stdout",
          "text": [
            "   sales    \n",
            "------------\n",
            " 2297201.07\n",
            "(1 row)\n",
            "\n"
          ]
        }
      ]
    },
    {
      "cell_type": "markdown",
      "source": [
        "#Grouping Sets"
      ],
      "metadata": {
        "id": "A2MRlDx-sf-o"
      }
    },
    {
      "cell_type": "code",
      "source": [
        "!psql -h localhost -p 5432 -Upostgres -dpraxisdb -c \"\\\n",
        "SELECT category, region,segment,  SUM (quantity) qty \\\n",
        "FROM ss_order \\\n",
        "GROUP BY \\\n",
        "    GROUPING SETS( \\\n",
        "        (category,region,segment), \\\n",
        "        (category,region), \\\n",
        "        (category, segment), \\\n",
        "        (segment, region), \\\n",
        "        (category), \\\n",
        "        (region), \\\n",
        "        (segment), \\\n",
        "        () \\\n",
        "    ); \\\n",
        "\""
      ],
      "metadata": {
        "colab": {
          "base_uri": "https://localhost:8080/"
        },
        "id": "xMigyVZys3g4",
        "outputId": "c546c79a-4e82-4f43-d648-39e7e32cced7"
      },
      "execution_count": 14,
      "outputs": [
        {
          "output_type": "stream",
          "name": "stdout",
          "text": [
            "    category     | region  |   segment   |  qty  \n",
            "-----------------+---------+-------------+-------\n",
            "                 |         |             | 37873\n",
            " Furniture       | East    | Corporate   |   723\n",
            " Furniture       | West    | Home Office |   476\n",
            " Office Supplies | South   | Corporate   |  1281\n",
            " Technology      | South   | Consumer    |   584\n",
            " Furniture       | South   | Corporate   |   415\n",
            " Technology      | South   | Corporate   |   320\n",
            " Furniture       | South   | Home Office |   181\n",
            " Furniture       | Central | Consumer    |   952\n",
            " Office Supplies | Central | Consumer    |  2777\n",
            " Office Supplies | West    | Home Office |  1301\n",
            " Office Supplies | Central | Corporate   |  1605\n",
            " Office Supplies | East    | Home Office |  1182\n",
            " Office Supplies | East    | Consumer    |  3245\n",
            " Technology      | East    | Corporate   |   600\n",
            " Technology      | West    | Consumer    |  1235\n",
            " Furniture       | East    | Consumer    |  1114\n",
            " Office Supplies | West    | Corporate   |  2097\n",
            " Furniture       | West    | Consumer    |  1405\n",
            " Furniture       | South   | Consumer    |   695\n",
            " Office Supplies | South   | Home Office |   620\n",
            " Furniture       | Central | Corporate   |   542\n",
            " Technology      | Central | Consumer    |   790\n",
            " Technology      | West    | Corporate   |   718\n",
            " Technology      | East    | Consumer    |   988\n",
            " Office Supplies | East    | Corporate   |  2035\n",
            " Technology      | Central | Home Office |   297\n",
            " Furniture       | East    | Home Office |   377\n",
            " Office Supplies | West    | Consumer    |  3837\n",
            " Technology      | South   | Home Office |   214\n",
            " Furniture       | Central | Home Office |   333\n",
            " Technology      | West    | Home Office |   382\n",
            " Technology      | East    | Home Office |   354\n",
            " Technology      | Central | Corporate   |   457\n",
            " Office Supplies | Central | Home Office |  1027\n",
            " Office Supplies | South   | Consumer    |  1899\n",
            " Furniture       | West    | Corporate   |   815\n",
            " Furniture       | West    |             |  2696\n",
            " Office Supplies | South   |             |  3800\n",
            " Furniture       | East    |             |  2214\n",
            " Office Supplies | Central |             |  5409\n",
            " Technology      | East    |             |  1942\n",
            " Technology      | Central |             |  1544\n",
            " Office Supplies | East    |             |  6462\n",
            " Technology      | West    |             |  2335\n",
            " Technology      | South   |             |  1118\n",
            " Office Supplies | West    |             |  7235\n",
            " Furniture       | Central |             |  1827\n",
            " Furniture       | South   |             |  1291\n",
            " Furniture       |         |             |  8028\n",
            " Office Supplies |         |             | 22906\n",
            " Technology      |         |             |  6939\n",
            "                 | Central | Corporate   |  2604\n",
            "                 | West    | Corporate   |  3630\n",
            "                 | South   | Corporate   |  2016\n",
            "                 | South   | Consumer    |  3178\n",
            "                 | West    | Home Office |  2159\n",
            "                 | West    | Consumer    |  6477\n",
            "                 | East    | Corporate   |  3358\n",
            "                 | East    | Consumer    |  5347\n",
            "                 | East    | Home Office |  1913\n",
            "                 | South   | Home Office |  1015\n",
            "                 | Central | Consumer    |  4519\n",
            "                 | Central | Home Office |  1657\n",
            "                 | East    |             | 10618\n",
            "                 | South   |             |  6209\n",
            "                 | West    |             | 12266\n",
            "                 | Central |             |  8780\n",
            " Office Supplies |         | Home Office |  4130\n",
            " Office Supplies |         | Consumer    | 11758\n",
            " Technology      |         | Corporate   |  2095\n",
            " Office Supplies |         | Corporate   |  7018\n",
            " Furniture       |         | Home Office |  1367\n",
            " Technology      |         | Home Office |  1247\n",
            " Furniture       |         | Corporate   |  2495\n",
            " Furniture       |         | Consumer    |  4166\n",
            " Technology      |         | Consumer    |  3597\n",
            "                 |         | Consumer    | 19521\n",
            "                 |         | Corporate   | 11608\n",
            "                 |         | Home Office |  6744\n",
            "(80 rows)\n",
            "\n"
          ]
        }
      ]
    },
    {
      "cell_type": "code",
      "source": [
        "!psql -h localhost -p 5432 -Upostgres -dpraxisdb -c \"\\\n",
        "SELECT category, region,  SUM (quantity) qty \\\n",
        "FROM ss_order \\\n",
        "GROUP BY \\\n",
        "    GROUPING SETS( \\\n",
        "        (category,region), \\\n",
        "        (category), \\\n",
        "        (region), \\\n",
        "        () \\\n",
        "    ); \\\n",
        "\""
      ],
      "metadata": {
        "colab": {
          "base_uri": "https://localhost:8080/"
        },
        "id": "QsU8nYzBsfM0",
        "outputId": "c4b7c388-0fa7-4c2f-8ed8-f1f2e7b4e5a3"
      },
      "execution_count": 15,
      "outputs": [
        {
          "output_type": "stream",
          "name": "stdout",
          "text": [
            "    category     | region  |  qty  \n",
            "-----------------+---------+-------\n",
            "                 |         | 37873\n",
            " Furniture       | West    |  2696\n",
            " Office Supplies | South   |  3800\n",
            " Furniture       | East    |  2214\n",
            " Office Supplies | Central |  5409\n",
            " Technology      | East    |  1942\n",
            " Technology      | Central |  1544\n",
            " Office Supplies | East    |  6462\n",
            " Technology      | West    |  2335\n",
            " Technology      | South   |  1118\n",
            " Office Supplies | West    |  7235\n",
            " Furniture       | Central |  1827\n",
            " Furniture       | South   |  1291\n",
            " Furniture       |         |  8028\n",
            " Office Supplies |         | 22906\n",
            " Technology      |         |  6939\n",
            "                 | East    | 10618\n",
            "                 | South   |  6209\n",
            "                 | West    | 12266\n",
            "                 | Central |  8780\n",
            "(20 rows)\n",
            "\n"
          ]
        }
      ]
    },
    {
      "cell_type": "markdown",
      "source": [
        "#Roll Up"
      ],
      "metadata": {
        "id": "Hgc0fzYUtm9Z"
      }
    },
    {
      "cell_type": "code",
      "source": [
        "!psql -h localhost -p 5432 -Upostgres -dpraxisdb -c \"\\\n",
        "SELECT category, SUM(quantity) \\\n",
        "FROM ss_order \\\n",
        "GROUP BY ROLLUP (category); \\\n",
        "\""
      ],
      "metadata": {
        "colab": {
          "base_uri": "https://localhost:8080/"
        },
        "id": "qKE_Q7ZutpXN",
        "outputId": "8a4155b1-2804-4ad9-8d64-d435c3db65fd"
      },
      "execution_count": 16,
      "outputs": [
        {
          "output_type": "stream",
          "name": "stdout",
          "text": [
            "    category     |  sum  \n",
            "-----------------+-------\n",
            "                 | 37873\n",
            " Furniture       |  8028\n",
            " Office Supplies | 22906\n",
            " Technology      |  6939\n",
            "(4 rows)\n",
            "\n"
          ]
        }
      ]
    },
    {
      "cell_type": "code",
      "source": [
        "!psql -h localhost -p 5432 -Upostgres -dpraxisdb -c \"\\\n",
        "SELECT COALESCE(category, 'All category') AS category, \\\n",
        " SUM(quantity) \\\n",
        "FROM ss_order \\\n",
        "GROUP BY ROLLUP (category); \\\n",
        "\""
      ],
      "metadata": {
        "colab": {
          "base_uri": "https://localhost:8080/"
        },
        "id": "YUAGvztjuIWh",
        "outputId": "d06226ff-27d2-4b7d-c472-5e994b17b400"
      },
      "execution_count": 17,
      "outputs": [
        {
          "output_type": "stream",
          "name": "stdout",
          "text": [
            "    category     |  sum  \n",
            "-----------------+-------\n",
            " All category    | 37873\n",
            " Furniture       |  8028\n",
            " Office Supplies | 22906\n",
            " Technology      |  6939\n",
            "(4 rows)\n",
            "\n"
          ]
        }
      ]
    },
    {
      "cell_type": "markdown",
      "source": [
        "##Multi Column"
      ],
      "metadata": {
        "id": "ejfT0r-tukhB"
      }
    },
    {
      "cell_type": "code",
      "source": [
        "!psql -h localhost -p 5432 -Upostgres -dpraxisdb -c \"\\\n",
        "SELECT category, segment, SUM(quantity) \\\n",
        "FROM ss_order \\\n",
        "GROUP BY ROLLUP (category , segment); \\\n",
        "\""
      ],
      "metadata": {
        "colab": {
          "base_uri": "https://localhost:8080/"
        },
        "id": "CszFsG1_uuaV",
        "outputId": "8cb324e3-1345-4194-c4c1-1a5ebe4992ba"
      },
      "execution_count": 18,
      "outputs": [
        {
          "output_type": "stream",
          "name": "stdout",
          "text": [
            "    category     |   segment   |  sum  \n",
            "-----------------+-------------+-------\n",
            "                 |             | 37873\n",
            " Office Supplies | Corporate   |  7018\n",
            " Furniture       | Corporate   |  2495\n",
            " Office Supplies | Home Office |  4130\n",
            " Technology      | Consumer    |  3597\n",
            " Technology      | Corporate   |  2095\n",
            " Office Supplies | Consumer    | 11758\n",
            " Technology      | Home Office |  1247\n",
            " Furniture       | Home Office |  1367\n",
            " Furniture       | Consumer    |  4166\n",
            " Furniture       |             |  8028\n",
            " Office Supplies |             | 22906\n",
            " Technology      |             |  6939\n",
            "(13 rows)\n",
            "\n"
          ]
        }
      ]
    },
    {
      "cell_type": "code",
      "source": [
        "!psql -h localhost -p 5432 -Upostgres -dpraxisdb -c \"\\\n",
        "SELECT category, segment, SUM(quantity) \\\n",
        "FROM ss_order \\\n",
        "GROUP BY ROLLUP (segment , category); \\\n",
        "\""
      ],
      "metadata": {
        "colab": {
          "base_uri": "https://localhost:8080/"
        },
        "id": "pldNJn0yvNzN",
        "outputId": "e1ac8b75-d405-4ab7-ac61-00c607582a5f"
      },
      "execution_count": 19,
      "outputs": [
        {
          "output_type": "stream",
          "name": "stdout",
          "text": [
            "    category     |   segment   |  sum  \n",
            "-----------------+-------------+-------\n",
            "                 |             | 37873\n",
            " Office Supplies | Home Office |  4130\n",
            " Office Supplies | Consumer    | 11758\n",
            " Technology      | Corporate   |  2095\n",
            " Office Supplies | Corporate   |  7018\n",
            " Furniture       | Home Office |  1367\n",
            " Technology      | Home Office |  1247\n",
            " Furniture       | Corporate   |  2495\n",
            " Furniture       | Consumer    |  4166\n",
            " Technology      | Consumer    |  3597\n",
            "                 | Consumer    | 19521\n",
            "                 | Corporate   | 11608\n",
            "                 | Home Office |  6744\n",
            "(13 rows)\n",
            "\n"
          ]
        }
      ]
    },
    {
      "cell_type": "code",
      "source": [
        "!psql -h localhost -p 5432 -Upostgres -dpraxisdb -c \"\\\n",
        "SELECT COALESCE(category, 'All category') AS category, \\\n",
        " COALESCE(segment, 'All segment') AS segment, \\\n",
        " SUM(quantity) quantity \\\n",
        "FROM ss_order \\\n",
        "GROUP BY ROLLUP (segment , category); \\\n",
        "\""
      ],
      "metadata": {
        "colab": {
          "base_uri": "https://localhost:8080/"
        },
        "id": "8Cq8IJf8vYdA",
        "outputId": "346a3277-4bde-4837-dfdc-7ffe06f9a639"
      },
      "execution_count": 20,
      "outputs": [
        {
          "output_type": "stream",
          "name": "stdout",
          "text": [
            "    category     |   segment   | quantity \n",
            "-----------------+-------------+----------\n",
            " All category    | All segment |    37873\n",
            " Office Supplies | Home Office |     4130\n",
            " Furniture       | Corporate   |     2495\n",
            " Office Supplies | Consumer    |    11758\n",
            " Furniture       | Home Office |     1367\n",
            " Technology      | Consumer    |     3597\n",
            " Office Supplies | Corporate   |     7018\n",
            " Technology      | Corporate   |     2095\n",
            " Technology      | Home Office |     1247\n",
            " Furniture       | Consumer    |     4166\n",
            " All category    | Consumer    |    19521\n",
            " All category    | Corporate   |    11608\n",
            " All category    | Home Office |     6744\n",
            "(13 rows)\n",
            "\n"
          ]
        }
      ]
    },
    {
      "cell_type": "markdown",
      "source": [
        "## Partial Rollup"
      ],
      "metadata": {
        "id": "HXKJEnc9v9HO"
      }
    },
    {
      "cell_type": "code",
      "source": [
        "!psql -h localhost -p 5432 -Upostgres -dpraxisdb -c \"\\\n",
        "SELECT COALESCE(category, 'All category') AS category, \\\n",
        " COALESCE(segment, 'All segment') AS segment, \\\n",
        " SUM(quantity) quantity \\\n",
        "FROM ss_order \\\n",
        "GROUP BY segment, ROLLUP (category); \\\n",
        "\""
      ],
      "metadata": {
        "colab": {
          "base_uri": "https://localhost:8080/"
        },
        "id": "TFE7vRg5v_4-",
        "outputId": "40f0d0e0-d2e8-42df-a101-c2d0739f17ae"
      },
      "execution_count": 21,
      "outputs": [
        {
          "output_type": "stream",
          "name": "stdout",
          "text": [
            "    category     |   segment   | quantity \n",
            "-----------------+-------------+----------\n",
            " Office Supplies | Home Office |     4130\n",
            " Furniture       | Corporate   |     2495\n",
            " Office Supplies | Consumer    |    11758\n",
            " Furniture       | Home Office |     1367\n",
            " Technology      | Consumer    |     3597\n",
            " Office Supplies | Corporate   |     7018\n",
            " Technology      | Corporate   |     2095\n",
            " Technology      | Home Office |     1247\n",
            " Furniture       | Consumer    |     4166\n",
            " All category    | Consumer    |    19521\n",
            " All category    | Corporate   |    11608\n",
            " All category    | Home Office |     6744\n",
            "(12 rows)\n",
            "\n"
          ]
        }
      ]
    },
    {
      "cell_type": "code",
      "source": [
        "!psql -h localhost -p 5432 -Upostgres -dpraxisdb -c \"\\\n",
        "SELECT COALESCE(category, 'All category') AS category, \\\n",
        " COALESCE(segment, 'All segment') AS segment, \\\n",
        " SUM(quantity) quantity \\\n",
        "FROM ss_order \\\n",
        "GROUP BY category, ROLLUP (segment); \\\n",
        "\""
      ],
      "metadata": {
        "colab": {
          "base_uri": "https://localhost:8080/"
        },
        "id": "Axi8dcE9wkeU",
        "outputId": "6c6fd865-cb43-4d24-b1f5-49b8eba4fc64"
      },
      "execution_count": 22,
      "outputs": [
        {
          "output_type": "stream",
          "name": "stdout",
          "text": [
            "    category     |   segment   | quantity \n",
            "-----------------+-------------+----------\n",
            " Furniture       | Corporate   |     2495\n",
            " Furniture       | Home Office |     1367\n",
            " Technology      | Consumer    |     3597\n",
            " Office Supplies | Corporate   |     7018\n",
            " Office Supplies | Consumer    |    11758\n",
            " Technology      | Corporate   |     2095\n",
            " Technology      | Home Office |     1247\n",
            " Office Supplies | Home Office |     4130\n",
            " Furniture       | Consumer    |     4166\n",
            " Furniture       | All segment |     8028\n",
            " Office Supplies | All segment |    22906\n",
            " Technology      | All segment |     6939\n",
            "(12 rows)\n",
            "\n"
          ]
        }
      ]
    },
    {
      "cell_type": "markdown",
      "source": [
        "#Cube"
      ],
      "metadata": {
        "id": "XUwGAn6Vw1b1"
      }
    },
    {
      "cell_type": "code",
      "source": [
        "!psql -h localhost -p 5432 -Upostgres -dpraxisdb -c \"\\\n",
        "SELECT COALESCE(category, 'All category') category, SUM(quantity) quantity \\\n",
        "FROM ss_order \\\n",
        "GROUP BY CUBE(category) \\\n",
        "ORDER BY category;  \\\n",
        "\""
      ],
      "metadata": {
        "colab": {
          "base_uri": "https://localhost:8080/"
        },
        "id": "Or3UebDSw3uX",
        "outputId": "f5462914-ccf0-4d68-c414-2cba79e1dda1"
      },
      "execution_count": 23,
      "outputs": [
        {
          "output_type": "stream",
          "name": "stdout",
          "text": [
            "    category     | quantity \n",
            "-----------------+----------\n",
            " All category    |    37873\n",
            " Furniture       |     8028\n",
            " Office Supplies |    22906\n",
            " Technology      |     6939\n",
            "(4 rows)\n",
            "\n"
          ]
        }
      ]
    },
    {
      "cell_type": "code",
      "source": [
        "!psql -h localhost -p 5432 -Upostgres -dpraxisdb -c \"\\\n",
        "SELECT \\\n",
        "COALESCE(category, 'All category') category, \\\n",
        "COALESCE(segment, 'All segment') segment, \\\n",
        "SUM(quantity) quantity \\\n",
        "FROM ss_order \\\n",
        "GROUP BY CUBE(category, segment) \\\n",
        "ORDER BY category,segment;  \\\n",
        "\""
      ],
      "metadata": {
        "colab": {
          "base_uri": "https://localhost:8080/"
        },
        "id": "zztGLhipxTap",
        "outputId": "32a88521-7fcf-4157-fc8e-cbe618028877"
      },
      "execution_count": 24,
      "outputs": [
        {
          "output_type": "stream",
          "name": "stdout",
          "text": [
            "    category     |   segment   | quantity \n",
            "-----------------+-------------+----------\n",
            " All category    | All segment |    37873\n",
            " All category    | Consumer    |    19521\n",
            " All category    | Corporate   |    11608\n",
            " All category    | Home Office |     6744\n",
            " Furniture       | All segment |     8028\n",
            " Furniture       | Consumer    |     4166\n",
            " Furniture       | Corporate   |     2495\n",
            " Furniture       | Home Office |     1367\n",
            " Office Supplies | All segment |    22906\n",
            " Office Supplies | Consumer    |    11758\n",
            " Office Supplies | Corporate   |     7018\n",
            " Office Supplies | Home Office |     4130\n",
            " Technology      | All segment |     6939\n",
            " Technology      | Consumer    |     3597\n",
            " Technology      | Corporate   |     2095\n",
            " Technology      | Home Office |     1247\n",
            "(16 rows)\n",
            "\n"
          ]
        }
      ]
    },
    {
      "cell_type": "code",
      "source": [
        "!psql -h localhost -p 5432 -Upostgres -dpraxisdb -c \"\\\n",
        "SELECT \\\n",
        "COALESCE(category, 'All category') category, \\\n",
        "COALESCE(segment, 'All segment') segment, \\\n",
        "COALESCE(region, 'All region') region, \\\n",
        "SUM(quantity) quantity \\\n",
        "FROM ss_order \\\n",
        "GROUP BY CUBE(category, segment, region) \\\n",
        "ORDER BY category,segment, region;  \\\n",
        "\""
      ],
      "metadata": {
        "colab": {
          "base_uri": "https://localhost:8080/"
        },
        "id": "EVBN_a2nx1RT",
        "outputId": "1dedf418-b6c6-46d5-9dc4-ca8e47da4751"
      },
      "execution_count": 25,
      "outputs": [
        {
          "output_type": "stream",
          "name": "stdout",
          "text": [
            "    category     |   segment   |   region   | quantity \n",
            "-----------------+-------------+------------+----------\n",
            " All category    | All segment | All region |    37873\n",
            " All category    | All segment | Central    |     8780\n",
            " All category    | All segment | East       |    10618\n",
            " All category    | All segment | South      |     6209\n",
            " All category    | All segment | West       |    12266\n",
            " All category    | Consumer    | All region |    19521\n",
            " All category    | Consumer    | Central    |     4519\n",
            " All category    | Consumer    | East       |     5347\n",
            " All category    | Consumer    | South      |     3178\n",
            " All category    | Consumer    | West       |     6477\n",
            " All category    | Corporate   | All region |    11608\n",
            " All category    | Corporate   | Central    |     2604\n",
            " All category    | Corporate   | East       |     3358\n",
            " All category    | Corporate   | South      |     2016\n",
            " All category    | Corporate   | West       |     3630\n",
            " All category    | Home Office | All region |     6744\n",
            " All category    | Home Office | Central    |     1657\n",
            " All category    | Home Office | East       |     1913\n",
            " All category    | Home Office | South      |     1015\n",
            " All category    | Home Office | West       |     2159\n",
            " Furniture       | All segment | All region |     8028\n",
            " Furniture       | All segment | Central    |     1827\n",
            " Furniture       | All segment | East       |     2214\n",
            " Furniture       | All segment | South      |     1291\n",
            " Furniture       | All segment | West       |     2696\n",
            " Furniture       | Consumer    | All region |     4166\n",
            " Furniture       | Consumer    | Central    |      952\n",
            " Furniture       | Consumer    | East       |     1114\n",
            " Furniture       | Consumer    | South      |      695\n",
            " Furniture       | Consumer    | West       |     1405\n",
            " Furniture       | Corporate   | All region |     2495\n",
            " Furniture       | Corporate   | Central    |      542\n",
            " Furniture       | Corporate   | East       |      723\n",
            " Furniture       | Corporate   | South      |      415\n",
            " Furniture       | Corporate   | West       |      815\n",
            " Furniture       | Home Office | All region |     1367\n",
            " Furniture       | Home Office | Central    |      333\n",
            " Furniture       | Home Office | East       |      377\n",
            " Furniture       | Home Office | South      |      181\n",
            " Furniture       | Home Office | West       |      476\n",
            " Office Supplies | All segment | All region |    22906\n",
            " Office Supplies | All segment | Central    |     5409\n",
            " Office Supplies | All segment | East       |     6462\n",
            " Office Supplies | All segment | South      |     3800\n",
            " Office Supplies | All segment | West       |     7235\n",
            " Office Supplies | Consumer    | All region |    11758\n",
            " Office Supplies | Consumer    | Central    |     2777\n",
            " Office Supplies | Consumer    | East       |     3245\n",
            " Office Supplies | Consumer    | South      |     1899\n",
            " Office Supplies | Consumer    | West       |     3837\n",
            " Office Supplies | Corporate   | All region |     7018\n",
            " Office Supplies | Corporate   | Central    |     1605\n",
            " Office Supplies | Corporate   | East       |     2035\n",
            " Office Supplies | Corporate   | South      |     1281\n",
            " Office Supplies | Corporate   | West       |     2097\n",
            " Office Supplies | Home Office | All region |     4130\n",
            " Office Supplies | Home Office | Central    |     1027\n",
            " Office Supplies | Home Office | East       |     1182\n",
            " Office Supplies | Home Office | South      |      620\n",
            " Office Supplies | Home Office | West       |     1301\n",
            " Technology      | All segment | All region |     6939\n",
            " Technology      | All segment | Central    |     1544\n",
            " Technology      | All segment | East       |     1942\n",
            " Technology      | All segment | South      |     1118\n",
            " Technology      | All segment | West       |     2335\n",
            " Technology      | Consumer    | All region |     3597\n",
            " Technology      | Consumer    | Central    |      790\n",
            " Technology      | Consumer    | East       |      988\n",
            " Technology      | Consumer    | South      |      584\n",
            " Technology      | Consumer    | West       |     1235\n",
            " Technology      | Corporate   | All region |     2095\n",
            " Technology      | Corporate   | Central    |      457\n",
            " Technology      | Corporate   | East       |      600\n",
            " Technology      | Corporate   | South      |      320\n",
            " Technology      | Corporate   | West       |      718\n",
            " Technology      | Home Office | All region |     1247\n",
            " Technology      | Home Office | Central    |      297\n",
            " Technology      | Home Office | East       |      354\n",
            " Technology      | Home Office | South      |      214\n",
            " Technology      | Home Office | West       |      382\n",
            "(80 rows)\n",
            "\n"
          ]
        }
      ]
    },
    {
      "cell_type": "markdown",
      "source": [
        "#Cross Tab"
      ],
      "metadata": {
        "id": "_wFMIcyWyXch"
      }
    },
    {
      "cell_type": "markdown",
      "source": [
        "##Level 1"
      ],
      "metadata": {
        "id": "HGpr7Xykz8KM"
      }
    },
    {
      "cell_type": "code",
      "source": [
        "!psql -h localhost -p 5432 -Upostgres -dpraxisdb -c \" \\\n",
        "    select Category, \\\n",
        "    sum(case when (Region = 'Central') then quantity else 0 end) as Central, \\\n",
        "    sum(case when (Region = 'East') then quantity else 0 end) as East, \\\n",
        "    sum(case when (Region = 'West') then quantity else 0 end) as West, \\\n",
        "    sum(case when (Region = 'South') then quantity else 0 end) as South \\\n",
        "    from ss_order \\\n",
        "    group by Category\""
      ],
      "metadata": {
        "colab": {
          "base_uri": "https://localhost:8080/"
        },
        "id": "Po6IY06hzNCs",
        "outputId": "6e4bd873-2369-4980-be23-1affd815b0c9"
      },
      "execution_count": 27,
      "outputs": [
        {
          "output_type": "stream",
          "name": "stdout",
          "text": [
            "    category     | central | east | west | south \n",
            "-----------------+---------+------+------+-------\n",
            " Furniture       |    1827 | 2214 | 2696 |  1291\n",
            " Office Supplies |    5409 | 6462 | 7235 |  3800\n",
            " Technology      |    1544 | 1942 | 2335 |  1118\n",
            "(3 rows)\n",
            "\n"
          ]
        }
      ]
    },
    {
      "cell_type": "markdown",
      "source": [
        "## Level 2"
      ],
      "metadata": {
        "id": "4e1cvBzM0X-q"
      }
    },
    {
      "cell_type": "code",
      "source": [
        "!psql -h localhost -p 5432 -Upostgres -dpraxisdb -c \" \\\n",
        "  select \\\n",
        "  COALESCE(Category, 'All Category') AS Category, \\\n",
        "  COALESCE(Region, 'All Region') AS Region, \\\n",
        "  Sum(quantity) Quantity \\\n",
        "  from ss_order \\\n",
        "  group by ROLLUP (Category,Region)  \\\n",
        "\""
      ],
      "metadata": {
        "id": "Zdwcu8NxTZvV",
        "outputId": "36a8abce-de6e-4edb-cb1a-31449b92904f",
        "colab": {
          "base_uri": "https://localhost:8080/"
        }
      },
      "execution_count": 29,
      "outputs": [
        {
          "output_type": "stream",
          "name": "stdout",
          "text": [
            "    category     |   region   | quantity \n",
            "-----------------+------------+----------\n",
            " All Category    | All Region |    37873\n",
            " Technology      | West       |     2335\n",
            " Technology      | South      |     1118\n",
            " Office Supplies | South      |     3800\n",
            " Office Supplies | West       |     7235\n",
            " Furniture       | Central    |     1827\n",
            " Office Supplies | East       |     6462\n",
            " Furniture       | East       |     2214\n",
            " Office Supplies | Central    |     5409\n",
            " Furniture       | South      |     1291\n",
            " Technology      | East       |     1942\n",
            " Furniture       | West       |     2696\n",
            " Technology      | Central    |     1544\n",
            " Furniture       | All Region |     8028\n",
            " Office Supplies | All Region |    22906\n",
            " Technology      | All Region |     6939\n",
            "(16 rows)\n",
            "\n"
          ]
        }
      ]
    },
    {
      "cell_type": "markdown",
      "source": [
        "##Level 3"
      ],
      "metadata": {
        "id": "AtvBwS1N0Lkv"
      }
    },
    {
      "cell_type": "code",
      "source": [
        "!psql -h localhost -p 5432 -Upostgres -dpraxisdb -c \" \\\n",
        "SELECT \\\n",
        "COALESCE(Category, 'Totals') AS Dim, \\\n",
        "sums.Central, sums.East, sums.West, sums.South, \\\n",
        "sums.Central + sums.East + sums.West + sums.South  Totals \\\n",
        "FROM ( \\\n",
        "  select Category, \\\n",
        "    sum(case when (Region = 'Central') then quantity else 0 end) as Central, \\\n",
        "    sum(case when (Region = 'East') then quantity else 0 end) as East, \\\n",
        "    sum(case when (Region = 'West') then quantity else 0 end) as West, \\\n",
        "    sum(case when (Region = 'South') then quantity else 0 end) as South \\\n",
        "    from ss_order \\\n",
        "    group by Rollup (Category) \\\n",
        ") AS sums \\\n",
        "\""
      ],
      "metadata": {
        "colab": {
          "base_uri": "https://localhost:8080/"
        },
        "id": "gamj4hgw0rux",
        "outputId": "0bc4af95-fe71-4296-b1a0-9cd017ff70c0"
      },
      "execution_count": 30,
      "outputs": [
        {
          "output_type": "stream",
          "name": "stdout",
          "text": [
            "       dim       | central | east  | west  | south | totals \n",
            "-----------------+---------+-------+-------+-------+--------\n",
            " Totals          |    8780 | 10618 | 12266 |  6209 |  37873\n",
            " Furniture       |    1827 |  2214 |  2696 |  1291 |   8028\n",
            " Office Supplies |    5409 |  6462 |  7235 |  3800 |  22906\n",
            " Technology      |    1544 |  1942 |  2335 |  1118 |   6939\n",
            "(4 rows)\n",
            "\n"
          ]
        }
      ]
    },
    {
      "cell_type": "code",
      "source": [
        "from datetime import datetime\n",
        "import pytz\n",
        "print('Last tested  ',datetime.now(pytz.timezone('Asia/Calcutta')))"
      ],
      "metadata": {
        "colab": {
          "base_uri": "https://localhost:8080/"
        },
        "id": "iloxJ01q2JGt",
        "outputId": "6c49c540-2cd1-4b7e-d05c-4cb43141d4dd"
      },
      "execution_count": 31,
      "outputs": [
        {
          "output_type": "stream",
          "name": "stdout",
          "text": [
            "Last tested   2023-03-29 08:15:25.870166+05:30\n"
          ]
        }
      ]
    },
    {
      "cell_type": "markdown",
      "source": [
        "#Chronobooks <br>\n",
        "Two science fiction novels by Prithwis Mukerjee. A dystopian Earth. A technocratic society managed by artificial intelligence. Escape and epiphany on Mars. Can man and machine, carbon and silicon explore and escape into other dimensions of existence? An Indic perspective rooted in Advaita Vedanta and the Divine Feminine.  [More information](http://bit.ly/chronobooks) <br>\n",
        "![alt text](https://github.com/Praxis-QR/RDWH/raw/main/images/CTCYFooter-1.png)"
      ],
      "metadata": {
        "id": "1C1MgnNT2QmS"
      }
    },
    {
      "cell_type": "code",
      "source": [],
      "metadata": {
        "id": "XeYWMtF32OY0"
      },
      "execution_count": null,
      "outputs": []
    }
  ]
}