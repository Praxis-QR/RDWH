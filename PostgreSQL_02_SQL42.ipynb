{
  "nbformat": 4,
  "nbformat_minor": 0,
  "metadata": {
    "colab": {
      "provenance": [],
      "toc_visible": true,
      "include_colab_link": true
    },
    "kernelspec": {
      "name": "python3",
      "display_name": "Python 3"
    },
    "language_info": {
      "name": "python"
    }
  },
  "cells": [
    {
      "cell_type": "markdown",
      "metadata": {
        "id": "view-in-github",
        "colab_type": "text"
      },
      "source": [
        "<a href=\"https://colab.research.google.com/github/Praxis-QR/RDWH/blob/main/PostgreSQL_02_SQL42.ipynb\" target=\"_parent\"><img src=\"https://colab.research.google.com/assets/colab-badge.svg\" alt=\"Open In Colab\"/></a>"
      ]
    },
    {
      "cell_type": "markdown",
      "source": [
        "![Yantrajaal Banner](https://github.com/Praxis-QR/RDWH/raw/main/images/YantraJaalBanner.png)<br>\n",
        "\n",
        "\n",
        "<hr>\n",
        "\n",
        "[Prithwis Mukerjee](http://www.linkedin.com/in/prithwis)<br>"
      ],
      "metadata": {
        "id": "DBzz-qaN2tKu"
      }
    },
    {
      "cell_type": "markdown",
      "source": [
        "![PostgreSQL 42](https://raw.githubusercontent.com/Praxis-QR/RDWH/main/images/PostgreSQL_24.01.png)<br>\n",
        "[SlideDeck](https://docs.google.com/presentation/d/1hdkAGbMxLfO1GYe7RzEo3LhGZhsXkyjIfBqkA72B6LM/edit?usp=sharing)"
      ],
      "metadata": {
        "id": "dBJ6X0LiJtZ6"
      }
    },
    {
      "cell_type": "markdown",
      "source": [
        "#Install & Configure Postgres"
      ],
      "metadata": {
        "id": "nD-QawLT6kDr"
      }
    },
    {
      "cell_type": "code",
      "source": [
        "from datetime import datetime\n",
        "import pytz\n",
        "print('Tested on |',datetime.now(pytz.timezone('Asia/Calcutta')))\n",
        "!python --version\n",
        "!lsb_release -a"
      ],
      "metadata": {
        "id": "txwvst5Hs5mI",
        "outputId": "b9d3efb7-1cd9-41e2-f59f-4e641b6449f3",
        "colab": {
          "base_uri": "https://localhost:8080/"
        }
      },
      "execution_count": 1,
      "outputs": [
        {
          "output_type": "stream",
          "name": "stdout",
          "text": [
            "Tested on | 2024-01-15 10:36:23.868297+05:30\n",
            "Python 3.10.12\n",
            "No LSB modules are available.\n",
            "Distributor ID:\tUbuntu\n",
            "Description:\tUbuntu 22.04.3 LTS\n",
            "Release:\t22.04\n",
            "Codename:\tjammy\n"
          ]
        }
      ]
    },
    {
      "cell_type": "markdown",
      "source": [
        "For Connecting to a Postgres server on Amazon RDS, see [this notebook](https://github.com/Praxis-QR/RDWH/blob/main/PostgreSQL_01_Install_Config.ipynb)"
      ],
      "metadata": {
        "id": "9w29_O07rTPE"
      }
    },
    {
      "cell_type": "code",
      "source": [
        "# Install postgresql server\n",
        "\n",
        "!apt update > /dev/null\n",
        "!apt install postgresql > /dev/null\n",
        "#!pip install psycopg2\n",
        "import psycopg2\n",
        "import pandas as pd\n",
        "#!sudo -u postgres psql -V\n",
        "!psql -V\n",
        "!service postgresql start"
      ],
      "metadata": {
        "colab": {
          "base_uri": "https://localhost:8080/"
        },
        "id": "o_RaqE0OOHP3",
        "outputId": "0b9da992-0206-4e27-f37c-d933f907e159"
      },
      "execution_count": 2,
      "outputs": [
        {
          "output_type": "stream",
          "name": "stdout",
          "text": [
            "\n",
            "WARNING: apt does not have a stable CLI interface. Use with caution in scripts.\n",
            "\n",
            "\n",
            "WARNING: apt does not have a stable CLI interface. Use with caution in scripts.\n",
            "\n",
            "psql (PostgreSQL) 14.10 (Ubuntu 14.10-0ubuntu0.22.04.1)\n",
            " * Starting PostgreSQL 14 database server\n",
            "   ...done.\n"
          ]
        }
      ]
    },
    {
      "cell_type": "code",
      "source": [
        "# The installation creates Ubuntu user 'postgres' AND a Postgres database user 'postgres' both of which are superusers\n",
        "#!cat /etc/passwd\n",
        "# Use these users to create a new database user called 'upraxis' and give it a password 'upass'\n",
        "#!sudo -u postgres createuser --superuser upraxis\n",
        "!sudo -u postgres createuser upraxis\n",
        "!sudo -u postgres psql -U postgres -c \"ALTER USER upraxis PASSWORD 'upass';\"\n",
        "#\n",
        "# Change the database superuser 'postgres' to a non-default value 'pass'\n",
        "!sudo -u postgres psql -U postgres -c \"ALTER USER postgres PASSWORD 'pass';\"\n",
        "#\n",
        "# Use ubuntu superuser to create database dbpraxis and set its owner to upraxis\n",
        "!sudo -u postgres createdb -O upraxis dbpraxis\n",
        "#\n",
        "# Create file to store the password. Else will be prompted each time\n",
        "#\n",
        "!echo \"localhost:5432:dbpraxis:upraxis:upass\" > ~/.pgpass\n",
        "!echo \"localhost:5432:dbpraxis:postgres:pass\" >> ~/.pgpass\n",
        "!chmod 0600 ~/.pgpass\n",
        "!cat ~/.pgpass\n"
      ],
      "metadata": {
        "colab": {
          "base_uri": "https://localhost:8080/"
        },
        "id": "xr5kHaY_U4CZ",
        "outputId": "edbad192-d5f9-4429-ba6b-4b35cfe9314b"
      },
      "execution_count": 3,
      "outputs": [
        {
          "output_type": "stream",
          "name": "stdout",
          "text": [
            "ALTER ROLE\n",
            "ALTER ROLE\n",
            "localhost:5432:dbpraxis:upraxis:upass\n",
            "localhost:5432:dbpraxis:postgres:pass\n"
          ]
        }
      ]
    },
    {
      "cell_type": "markdown",
      "source": [
        "## Create and Load Tables"
      ],
      "metadata": {
        "id": "pHTdNzrU6qUE"
      }
    },
    {
      "cell_type": "code",
      "source": [
        "# Create Two tables using command line interface\n",
        "#\n",
        "!psql -h localhost -p 5432 -Uupraxis -ddbpraxis -c \\\n",
        "\"drop table if exists Dept;\\\n",
        "create table Dept (\\\n",
        "    DeptID char(2),\\\n",
        "    DeptName varchar(20),\\\n",
        "    ManagerID char(6),\\\n",
        "    Location varchar(10),\\\n",
        "    LocationID char(1)\\\n",
        "    );\\\n",
        "insert into Dept (DeptID, DeptName, ManagerID, Location,LocationID) VALUES \\\n",
        "\t('10', 'Corporate', '299034', 'Calcutta','1'), \\\n",
        "\t('20', 'Sales', '239456', 'Calcutta','1'), \\\n",
        "\t('30', 'Accounts', '822134', 'Calcutta','1'), \\\n",
        "\t('40', 'Production', '349870', 'Bombay','2'),\\\n",
        "    ('60', 'Research', '546224', 'Delhi','3');\\\n",
        "\""
      ],
      "metadata": {
        "colab": {
          "base_uri": "https://localhost:8080/"
        },
        "id": "DsUZ9JlEXIir",
        "outputId": "ef66356e-0782-4e81-9c13-27c0dc757c50"
      },
      "execution_count": 4,
      "outputs": [
        {
          "output_type": "stream",
          "name": "stdout",
          "text": [
            "NOTICE:  table \"dept\" does not exist, skipping\n",
            "INSERT 0 5\n"
          ]
        }
      ]
    },
    {
      "cell_type": "code",
      "source": [
        "!psql -h localhost -p 5432 -Uupraxis -ddbpraxis -c \\\n",
        "\"drop table if exists Empl;\\\n",
        "create table Empl \\\n",
        "    (EmpID char(6),\\\n",
        "    LastName varchar(20),\\\n",
        "    FirstName varchar(20),\\\n",
        "    JobDesc varchar(10),\\\n",
        "    JoinDate date,\\\n",
        "    Salary int,\\\n",
        "    Comm decimal(3,2),\\\n",
        "    DeptID char(2),\\\n",
        "    HiredBy char(6)\\\n",
        "    );\\\n",
        "INSERT INTO Empl (EmpID, LastName, FirstName, JobDesc, JoinDate, Salary, Comm, DeptID, HiredBy) \\\n",
        "    VALUES \\\n",
        "\t('742866', 'Bacchan', 'Amitabh', 'Executive', '2003-03-10', 50000, 0.1, '10', NULL), \\\n",
        "\t('349870', 'Mukherjee', 'Rani', 'Manager', '2005-05-04', 25000, 0.06, '40', '742866'), \\\n",
        "\t('865477', 'Dikshit', 'Madhuri', 'Clerk', '2002-04-04', 10000, 0.02, '20', '239456'), \\\n",
        "\t('239456', 'Khan', 'Shahrukh', 'Manager', '2004-01-03', 30000, 0.07, '20', '742866'), \\\n",
        "\t('897889', 'Sehwag', 'Virender', 'Cus_Rep', '2005-01-02', 15000, 0.05, '20', '239456'), \\\n",
        "\t('123980', 'Dhoni', 'Mahender', 'Clerk', '2004-10-09', 9000, 0.02, '40', '349870'), \\\n",
        "\t('822134', 'Dravid', 'Rahul', 'Sr Manager', '2000-06-04', 40000, 0.08, '30', '742866'), \\\n",
        "\t('997445', 'Dalmia', 'Jagmohan', 'Clerk', '2001-07-01', 12000, 0.02, '30', '822134'), \\\n",
        "\t('989007', 'Ganguly', 'Sourav', 'Cus_Rep', '2002-01-01', 20000, 0.03, '40', '299034'), \\\n",
        "\t('299034', 'Ganesan', 'Rekha', 'Director', '2002-10-10', 60000, 0.11, '10', '742866'), \\\n",
        "\t('546223', 'Karthikeyan', 'Narayan', 'Secretary', '2005-12-04', 40000, 0.09, '10', '299034'), \\\n",
        "    ('546224', 'Sunil', 'Chettri', 'Dy Manager', '2006-12-07', 40000, 0.05, '70', '349870'), \\\n",
        "\t('223112', 'Mirza', 'Sania', 'Cus_Rep', '2001-11-19', 25000, 0.04, '30', '822134');\\\n",
        "\""
      ],
      "metadata": {
        "colab": {
          "base_uri": "https://localhost:8080/"
        },
        "id": "5kWs3wyEd9Tm",
        "outputId": "0f77680a-1902-4fb8-b1e2-888aa354f8c6"
      },
      "execution_count": 5,
      "outputs": [
        {
          "output_type": "stream",
          "name": "stdout",
          "text": [
            "NOTICE:  table \"empl\" does not exist, skipping\n",
            "INSERT 0 13\n"
          ]
        }
      ]
    },
    {
      "cell_type": "code",
      "source": [
        "#!psql -h localhost -p 5432 -Upostgres -dpraxisdb -c \"select * from dept;\"\n",
        "#!psql -h localhost -p 5432 -Uupraxis -ddbpraxis -c \"select * from dept;\""
      ],
      "metadata": {
        "id": "HyBUhbAI2PV1"
      },
      "execution_count": 6,
      "outputs": []
    },
    {
      "cell_type": "code",
      "source": [
        "#!psql -h localhost -p 5432 -U postgres -d praxisdb -c \"select * from empl;\"\n",
        "#!psql -h localhost -p 5432 -U upraxis -d dbpraxis -c \"select * from empl;\""
      ],
      "metadata": {
        "id": "byY2iccO4ctF"
      },
      "execution_count": 7,
      "outputs": []
    },
    {
      "cell_type": "markdown",
      "source": [
        "## Python Access\n",
        "https://www.tutorialspoint.com/python_data_access/python_postgresql_database_connection.htm"
      ],
      "metadata": {
        "id": "faZEj8_7CeZ8"
      }
    },
    {
      "cell_type": "code",
      "source": [
        "# Local Colab server\n",
        "\n",
        "conn = psycopg2.connect(database=\"dbpraxis\", user='upraxis', password='upass', host='127.0.0.1', port= '5432')\n",
        "#Creating a cursor object using the cursor() method\n",
        "cursor = conn.cursor()\n",
        "#Executing an MYSQL function using the execute() method\n",
        "cursor.execute(\"select version()\")\n",
        "# Fetch a single row using fetchone() method.\n",
        "data = cursor.fetchone()\n",
        "print(\"Connection established to: \",data)\n",
        "#Closing the connection\n",
        "conn.close()"
      ],
      "metadata": {
        "id": "wcE-8UBnC4zV",
        "outputId": "0e172d50-3765-4517-c4ae-2065f6e88afb",
        "colab": {
          "base_uri": "https://localhost:8080/"
        }
      },
      "execution_count": 8,
      "outputs": [
        {
          "output_type": "stream",
          "name": "stdout",
          "text": [
            "Connection established to:  ('PostgreSQL 14.10 (Ubuntu 14.10-0ubuntu0.22.04.1) on x86_64-pc-linux-gnu, compiled by gcc (Ubuntu 11.4.0-1ubuntu1~22.04) 11.4.0, 64-bit',)\n"
          ]
        }
      ]
    },
    {
      "cell_type": "code",
      "source": [
        "# function to execute SQL select statements with Postgres\n",
        "#\n",
        "def runSelect(s):\n",
        "    #Set up connection\n",
        "\n",
        "    conn = psycopg2.connect(database=\"dbpraxis\", user='upraxis', password='upass', host='127.0.0.1', port= '5432')\n",
        "    #Setting auto commit true\n",
        "    conn.autocommit = True\n",
        "    #Creating a cursor object using the cursor() method\n",
        "    cursor = conn.cursor()\n",
        "    #Retrieving data\n",
        "    cursor.execute(s)\n",
        "    #Fetching all rows from the table\n",
        "    result = cursor.fetchall();\n",
        "    #print(len(result))\n",
        "    if (len(result)) > 0:                                       # result contains at least one row\n",
        "        colnames = [desc[0] for desc in cursor.description]     # get column names\n",
        "        #print(colnames)\n",
        "        resultdf = pd.DataFrame(result)                         # convert list to dataframe\n",
        "        resultdf.columns = colnames                             # add column names\n",
        "        #return resultdf\n",
        "        return resultdf.style.hide()                            # hide the index\n",
        "    else:\n",
        "        print('no records found')\n",
        "        return\n",
        "# function to execute SQL non-select statements with Postgres\n",
        "#\n",
        "def runCmd(s):\n",
        "    #Create Connection\n",
        "    conn = psycopg2.connect(database=\"dbpraxis\", user='upraxis', password='upass', host='127.0.0.1', port= '5432')\n",
        "    #Creating a cursor object using the cursor() method\n",
        "    cursor = conn.cursor()\n",
        "    try:\n",
        "        cursor.execute(s)\n",
        "        print('Command executed')\n",
        "        conn.commit()\n",
        "    except:\n",
        "        print('Command failed')\n",
        "    #Closing the connection\n",
        "    conn.close()"
      ],
      "metadata": {
        "id": "ht2k7-3iggNd"
      },
      "execution_count": 9,
      "outputs": []
    },
    {
      "cell_type": "markdown",
      "source": [
        "#Select - getting started"
      ],
      "metadata": {
        "id": "k0rXiciVtu7Q"
      }
    },
    {
      "cell_type": "code",
      "source": [
        "#runSelect(\"select * from dept where deptid = '100'\")\n",
        "#runSelect(\"select * from dept where deptid = '10'\")\n",
        "runSelect(\"select * from dept\")"
      ],
      "metadata": {
        "id": "N3NZv0YahSs6",
        "outputId": "2592575d-17fe-475d-9302-b2f2c003fa3b",
        "colab": {
          "base_uri": "https://localhost:8080/",
          "height": 206
        }
      },
      "execution_count": 10,
      "outputs": [
        {
          "output_type": "execute_result",
          "data": {
            "text/plain": [
              "<pandas.io.formats.style.Styler at 0x7b7ea7f87b50>"
            ],
            "text/html": [
              "<style type=\"text/css\">\n",
              "</style>\n",
              "<table id=\"T_4428b\" class=\"dataframe\">\n",
              "  <thead>\n",
              "    <tr>\n",
              "      <th id=\"T_4428b_level0_col0\" class=\"col_heading level0 col0\" >deptid</th>\n",
              "      <th id=\"T_4428b_level0_col1\" class=\"col_heading level0 col1\" >deptname</th>\n",
              "      <th id=\"T_4428b_level0_col2\" class=\"col_heading level0 col2\" >managerid</th>\n",
              "      <th id=\"T_4428b_level0_col3\" class=\"col_heading level0 col3\" >location</th>\n",
              "      <th id=\"T_4428b_level0_col4\" class=\"col_heading level0 col4\" >locationid</th>\n",
              "    </tr>\n",
              "  </thead>\n",
              "  <tbody>\n",
              "    <tr>\n",
              "      <td id=\"T_4428b_row0_col0\" class=\"data row0 col0\" >10</td>\n",
              "      <td id=\"T_4428b_row0_col1\" class=\"data row0 col1\" >Corporate</td>\n",
              "      <td id=\"T_4428b_row0_col2\" class=\"data row0 col2\" >299034</td>\n",
              "      <td id=\"T_4428b_row0_col3\" class=\"data row0 col3\" >Calcutta</td>\n",
              "      <td id=\"T_4428b_row0_col4\" class=\"data row0 col4\" >1</td>\n",
              "    </tr>\n",
              "    <tr>\n",
              "      <td id=\"T_4428b_row1_col0\" class=\"data row1 col0\" >20</td>\n",
              "      <td id=\"T_4428b_row1_col1\" class=\"data row1 col1\" >Sales</td>\n",
              "      <td id=\"T_4428b_row1_col2\" class=\"data row1 col2\" >239456</td>\n",
              "      <td id=\"T_4428b_row1_col3\" class=\"data row1 col3\" >Calcutta</td>\n",
              "      <td id=\"T_4428b_row1_col4\" class=\"data row1 col4\" >1</td>\n",
              "    </tr>\n",
              "    <tr>\n",
              "      <td id=\"T_4428b_row2_col0\" class=\"data row2 col0\" >30</td>\n",
              "      <td id=\"T_4428b_row2_col1\" class=\"data row2 col1\" >Accounts</td>\n",
              "      <td id=\"T_4428b_row2_col2\" class=\"data row2 col2\" >822134</td>\n",
              "      <td id=\"T_4428b_row2_col3\" class=\"data row2 col3\" >Calcutta</td>\n",
              "      <td id=\"T_4428b_row2_col4\" class=\"data row2 col4\" >1</td>\n",
              "    </tr>\n",
              "    <tr>\n",
              "      <td id=\"T_4428b_row3_col0\" class=\"data row3 col0\" >40</td>\n",
              "      <td id=\"T_4428b_row3_col1\" class=\"data row3 col1\" >Production</td>\n",
              "      <td id=\"T_4428b_row3_col2\" class=\"data row3 col2\" >349870</td>\n",
              "      <td id=\"T_4428b_row3_col3\" class=\"data row3 col3\" >Bombay</td>\n",
              "      <td id=\"T_4428b_row3_col4\" class=\"data row3 col4\" >2</td>\n",
              "    </tr>\n",
              "    <tr>\n",
              "      <td id=\"T_4428b_row4_col0\" class=\"data row4 col0\" >60</td>\n",
              "      <td id=\"T_4428b_row4_col1\" class=\"data row4 col1\" >Research</td>\n",
              "      <td id=\"T_4428b_row4_col2\" class=\"data row4 col2\" >546224</td>\n",
              "      <td id=\"T_4428b_row4_col3\" class=\"data row4 col3\" >Delhi</td>\n",
              "      <td id=\"T_4428b_row4_col4\" class=\"data row4 col4\" >3</td>\n",
              "    </tr>\n",
              "  </tbody>\n",
              "</table>\n"
            ]
          },
          "metadata": {},
          "execution_count": 10
        }
      ]
    },
    {
      "cell_type": "code",
      "source": [
        "runSelect('select * from empl')"
      ],
      "metadata": {
        "id": "Otiv4rjSl5Tg",
        "outputId": "505c55fb-c1be-4bdf-c2a1-5495c8ad0b0f",
        "colab": {
          "base_uri": "https://localhost:8080/",
          "height": 457
        }
      },
      "execution_count": 11,
      "outputs": [
        {
          "output_type": "execute_result",
          "data": {
            "text/plain": [
              "<pandas.io.formats.style.Styler at 0x7b7ea7ee6fe0>"
            ],
            "text/html": [
              "<style type=\"text/css\">\n",
              "</style>\n",
              "<table id=\"T_04aae\" class=\"dataframe\">\n",
              "  <thead>\n",
              "    <tr>\n",
              "      <th id=\"T_04aae_level0_col0\" class=\"col_heading level0 col0\" >empid</th>\n",
              "      <th id=\"T_04aae_level0_col1\" class=\"col_heading level0 col1\" >lastname</th>\n",
              "      <th id=\"T_04aae_level0_col2\" class=\"col_heading level0 col2\" >firstname</th>\n",
              "      <th id=\"T_04aae_level0_col3\" class=\"col_heading level0 col3\" >jobdesc</th>\n",
              "      <th id=\"T_04aae_level0_col4\" class=\"col_heading level0 col4\" >joindate</th>\n",
              "      <th id=\"T_04aae_level0_col5\" class=\"col_heading level0 col5\" >salary</th>\n",
              "      <th id=\"T_04aae_level0_col6\" class=\"col_heading level0 col6\" >comm</th>\n",
              "      <th id=\"T_04aae_level0_col7\" class=\"col_heading level0 col7\" >deptid</th>\n",
              "      <th id=\"T_04aae_level0_col8\" class=\"col_heading level0 col8\" >hiredby</th>\n",
              "    </tr>\n",
              "  </thead>\n",
              "  <tbody>\n",
              "    <tr>\n",
              "      <td id=\"T_04aae_row0_col0\" class=\"data row0 col0\" >742866</td>\n",
              "      <td id=\"T_04aae_row0_col1\" class=\"data row0 col1\" >Bacchan</td>\n",
              "      <td id=\"T_04aae_row0_col2\" class=\"data row0 col2\" >Amitabh</td>\n",
              "      <td id=\"T_04aae_row0_col3\" class=\"data row0 col3\" >Executive</td>\n",
              "      <td id=\"T_04aae_row0_col4\" class=\"data row0 col4\" >2003-03-10</td>\n",
              "      <td id=\"T_04aae_row0_col5\" class=\"data row0 col5\" >50000</td>\n",
              "      <td id=\"T_04aae_row0_col6\" class=\"data row0 col6\" >0.10</td>\n",
              "      <td id=\"T_04aae_row0_col7\" class=\"data row0 col7\" >10</td>\n",
              "      <td id=\"T_04aae_row0_col8\" class=\"data row0 col8\" >None</td>\n",
              "    </tr>\n",
              "    <tr>\n",
              "      <td id=\"T_04aae_row1_col0\" class=\"data row1 col0\" >349870</td>\n",
              "      <td id=\"T_04aae_row1_col1\" class=\"data row1 col1\" >Mukherjee</td>\n",
              "      <td id=\"T_04aae_row1_col2\" class=\"data row1 col2\" >Rani</td>\n",
              "      <td id=\"T_04aae_row1_col3\" class=\"data row1 col3\" >Manager</td>\n",
              "      <td id=\"T_04aae_row1_col4\" class=\"data row1 col4\" >2005-05-04</td>\n",
              "      <td id=\"T_04aae_row1_col5\" class=\"data row1 col5\" >25000</td>\n",
              "      <td id=\"T_04aae_row1_col6\" class=\"data row1 col6\" >0.06</td>\n",
              "      <td id=\"T_04aae_row1_col7\" class=\"data row1 col7\" >40</td>\n",
              "      <td id=\"T_04aae_row1_col8\" class=\"data row1 col8\" >742866</td>\n",
              "    </tr>\n",
              "    <tr>\n",
              "      <td id=\"T_04aae_row2_col0\" class=\"data row2 col0\" >865477</td>\n",
              "      <td id=\"T_04aae_row2_col1\" class=\"data row2 col1\" >Dikshit</td>\n",
              "      <td id=\"T_04aae_row2_col2\" class=\"data row2 col2\" >Madhuri</td>\n",
              "      <td id=\"T_04aae_row2_col3\" class=\"data row2 col3\" >Clerk</td>\n",
              "      <td id=\"T_04aae_row2_col4\" class=\"data row2 col4\" >2002-04-04</td>\n",
              "      <td id=\"T_04aae_row2_col5\" class=\"data row2 col5\" >10000</td>\n",
              "      <td id=\"T_04aae_row2_col6\" class=\"data row2 col6\" >0.02</td>\n",
              "      <td id=\"T_04aae_row2_col7\" class=\"data row2 col7\" >20</td>\n",
              "      <td id=\"T_04aae_row2_col8\" class=\"data row2 col8\" >239456</td>\n",
              "    </tr>\n",
              "    <tr>\n",
              "      <td id=\"T_04aae_row3_col0\" class=\"data row3 col0\" >239456</td>\n",
              "      <td id=\"T_04aae_row3_col1\" class=\"data row3 col1\" >Khan</td>\n",
              "      <td id=\"T_04aae_row3_col2\" class=\"data row3 col2\" >Shahrukh</td>\n",
              "      <td id=\"T_04aae_row3_col3\" class=\"data row3 col3\" >Manager</td>\n",
              "      <td id=\"T_04aae_row3_col4\" class=\"data row3 col4\" >2004-01-03</td>\n",
              "      <td id=\"T_04aae_row3_col5\" class=\"data row3 col5\" >30000</td>\n",
              "      <td id=\"T_04aae_row3_col6\" class=\"data row3 col6\" >0.07</td>\n",
              "      <td id=\"T_04aae_row3_col7\" class=\"data row3 col7\" >20</td>\n",
              "      <td id=\"T_04aae_row3_col8\" class=\"data row3 col8\" >742866</td>\n",
              "    </tr>\n",
              "    <tr>\n",
              "      <td id=\"T_04aae_row4_col0\" class=\"data row4 col0\" >897889</td>\n",
              "      <td id=\"T_04aae_row4_col1\" class=\"data row4 col1\" >Sehwag</td>\n",
              "      <td id=\"T_04aae_row4_col2\" class=\"data row4 col2\" >Virender</td>\n",
              "      <td id=\"T_04aae_row4_col3\" class=\"data row4 col3\" >Cus_Rep</td>\n",
              "      <td id=\"T_04aae_row4_col4\" class=\"data row4 col4\" >2005-01-02</td>\n",
              "      <td id=\"T_04aae_row4_col5\" class=\"data row4 col5\" >15000</td>\n",
              "      <td id=\"T_04aae_row4_col6\" class=\"data row4 col6\" >0.05</td>\n",
              "      <td id=\"T_04aae_row4_col7\" class=\"data row4 col7\" >20</td>\n",
              "      <td id=\"T_04aae_row4_col8\" class=\"data row4 col8\" >239456</td>\n",
              "    </tr>\n",
              "    <tr>\n",
              "      <td id=\"T_04aae_row5_col0\" class=\"data row5 col0\" >123980</td>\n",
              "      <td id=\"T_04aae_row5_col1\" class=\"data row5 col1\" >Dhoni</td>\n",
              "      <td id=\"T_04aae_row5_col2\" class=\"data row5 col2\" >Mahender</td>\n",
              "      <td id=\"T_04aae_row5_col3\" class=\"data row5 col3\" >Clerk</td>\n",
              "      <td id=\"T_04aae_row5_col4\" class=\"data row5 col4\" >2004-10-09</td>\n",
              "      <td id=\"T_04aae_row5_col5\" class=\"data row5 col5\" >9000</td>\n",
              "      <td id=\"T_04aae_row5_col6\" class=\"data row5 col6\" >0.02</td>\n",
              "      <td id=\"T_04aae_row5_col7\" class=\"data row5 col7\" >40</td>\n",
              "      <td id=\"T_04aae_row5_col8\" class=\"data row5 col8\" >349870</td>\n",
              "    </tr>\n",
              "    <tr>\n",
              "      <td id=\"T_04aae_row6_col0\" class=\"data row6 col0\" >822134</td>\n",
              "      <td id=\"T_04aae_row6_col1\" class=\"data row6 col1\" >Dravid</td>\n",
              "      <td id=\"T_04aae_row6_col2\" class=\"data row6 col2\" >Rahul</td>\n",
              "      <td id=\"T_04aae_row6_col3\" class=\"data row6 col3\" >Sr Manager</td>\n",
              "      <td id=\"T_04aae_row6_col4\" class=\"data row6 col4\" >2000-06-04</td>\n",
              "      <td id=\"T_04aae_row6_col5\" class=\"data row6 col5\" >40000</td>\n",
              "      <td id=\"T_04aae_row6_col6\" class=\"data row6 col6\" >0.08</td>\n",
              "      <td id=\"T_04aae_row6_col7\" class=\"data row6 col7\" >30</td>\n",
              "      <td id=\"T_04aae_row6_col8\" class=\"data row6 col8\" >742866</td>\n",
              "    </tr>\n",
              "    <tr>\n",
              "      <td id=\"T_04aae_row7_col0\" class=\"data row7 col0\" >997445</td>\n",
              "      <td id=\"T_04aae_row7_col1\" class=\"data row7 col1\" >Dalmia</td>\n",
              "      <td id=\"T_04aae_row7_col2\" class=\"data row7 col2\" >Jagmohan</td>\n",
              "      <td id=\"T_04aae_row7_col3\" class=\"data row7 col3\" >Clerk</td>\n",
              "      <td id=\"T_04aae_row7_col4\" class=\"data row7 col4\" >2001-07-01</td>\n",
              "      <td id=\"T_04aae_row7_col5\" class=\"data row7 col5\" >12000</td>\n",
              "      <td id=\"T_04aae_row7_col6\" class=\"data row7 col6\" >0.02</td>\n",
              "      <td id=\"T_04aae_row7_col7\" class=\"data row7 col7\" >30</td>\n",
              "      <td id=\"T_04aae_row7_col8\" class=\"data row7 col8\" >822134</td>\n",
              "    </tr>\n",
              "    <tr>\n",
              "      <td id=\"T_04aae_row8_col0\" class=\"data row8 col0\" >989007</td>\n",
              "      <td id=\"T_04aae_row8_col1\" class=\"data row8 col1\" >Ganguly</td>\n",
              "      <td id=\"T_04aae_row8_col2\" class=\"data row8 col2\" >Sourav</td>\n",
              "      <td id=\"T_04aae_row8_col3\" class=\"data row8 col3\" >Cus_Rep</td>\n",
              "      <td id=\"T_04aae_row8_col4\" class=\"data row8 col4\" >2002-01-01</td>\n",
              "      <td id=\"T_04aae_row8_col5\" class=\"data row8 col5\" >20000</td>\n",
              "      <td id=\"T_04aae_row8_col6\" class=\"data row8 col6\" >0.03</td>\n",
              "      <td id=\"T_04aae_row8_col7\" class=\"data row8 col7\" >40</td>\n",
              "      <td id=\"T_04aae_row8_col8\" class=\"data row8 col8\" >299034</td>\n",
              "    </tr>\n",
              "    <tr>\n",
              "      <td id=\"T_04aae_row9_col0\" class=\"data row9 col0\" >299034</td>\n",
              "      <td id=\"T_04aae_row9_col1\" class=\"data row9 col1\" >Ganesan</td>\n",
              "      <td id=\"T_04aae_row9_col2\" class=\"data row9 col2\" >Rekha</td>\n",
              "      <td id=\"T_04aae_row9_col3\" class=\"data row9 col3\" >Director</td>\n",
              "      <td id=\"T_04aae_row9_col4\" class=\"data row9 col4\" >2002-10-10</td>\n",
              "      <td id=\"T_04aae_row9_col5\" class=\"data row9 col5\" >60000</td>\n",
              "      <td id=\"T_04aae_row9_col6\" class=\"data row9 col6\" >0.11</td>\n",
              "      <td id=\"T_04aae_row9_col7\" class=\"data row9 col7\" >10</td>\n",
              "      <td id=\"T_04aae_row9_col8\" class=\"data row9 col8\" >742866</td>\n",
              "    </tr>\n",
              "    <tr>\n",
              "      <td id=\"T_04aae_row10_col0\" class=\"data row10 col0\" >546223</td>\n",
              "      <td id=\"T_04aae_row10_col1\" class=\"data row10 col1\" >Karthikeyan</td>\n",
              "      <td id=\"T_04aae_row10_col2\" class=\"data row10 col2\" >Narayan</td>\n",
              "      <td id=\"T_04aae_row10_col3\" class=\"data row10 col3\" >Secretary</td>\n",
              "      <td id=\"T_04aae_row10_col4\" class=\"data row10 col4\" >2005-12-04</td>\n",
              "      <td id=\"T_04aae_row10_col5\" class=\"data row10 col5\" >40000</td>\n",
              "      <td id=\"T_04aae_row10_col6\" class=\"data row10 col6\" >0.09</td>\n",
              "      <td id=\"T_04aae_row10_col7\" class=\"data row10 col7\" >10</td>\n",
              "      <td id=\"T_04aae_row10_col8\" class=\"data row10 col8\" >299034</td>\n",
              "    </tr>\n",
              "    <tr>\n",
              "      <td id=\"T_04aae_row11_col0\" class=\"data row11 col0\" >546224</td>\n",
              "      <td id=\"T_04aae_row11_col1\" class=\"data row11 col1\" >Sunil</td>\n",
              "      <td id=\"T_04aae_row11_col2\" class=\"data row11 col2\" >Chettri</td>\n",
              "      <td id=\"T_04aae_row11_col3\" class=\"data row11 col3\" >Dy Manager</td>\n",
              "      <td id=\"T_04aae_row11_col4\" class=\"data row11 col4\" >2006-12-07</td>\n",
              "      <td id=\"T_04aae_row11_col5\" class=\"data row11 col5\" >40000</td>\n",
              "      <td id=\"T_04aae_row11_col6\" class=\"data row11 col6\" >0.05</td>\n",
              "      <td id=\"T_04aae_row11_col7\" class=\"data row11 col7\" >70</td>\n",
              "      <td id=\"T_04aae_row11_col8\" class=\"data row11 col8\" >349870</td>\n",
              "    </tr>\n",
              "    <tr>\n",
              "      <td id=\"T_04aae_row12_col0\" class=\"data row12 col0\" >223112</td>\n",
              "      <td id=\"T_04aae_row12_col1\" class=\"data row12 col1\" >Mirza</td>\n",
              "      <td id=\"T_04aae_row12_col2\" class=\"data row12 col2\" >Sania</td>\n",
              "      <td id=\"T_04aae_row12_col3\" class=\"data row12 col3\" >Cus_Rep</td>\n",
              "      <td id=\"T_04aae_row12_col4\" class=\"data row12 col4\" >2001-11-19</td>\n",
              "      <td id=\"T_04aae_row12_col5\" class=\"data row12 col5\" >25000</td>\n",
              "      <td id=\"T_04aae_row12_col6\" class=\"data row12 col6\" >0.04</td>\n",
              "      <td id=\"T_04aae_row12_col7\" class=\"data row12 col7\" >30</td>\n",
              "      <td id=\"T_04aae_row12_col8\" class=\"data row12 col8\" >822134</td>\n",
              "    </tr>\n",
              "  </tbody>\n",
              "</table>\n"
            ]
          },
          "metadata": {},
          "execution_count": 11
        }
      ]
    },
    {
      "cell_type": "code",
      "source": [
        "runSelect('select lastname, jobdesc, salary from empl')"
      ],
      "metadata": {
        "id": "z-mxVMPuuxu6",
        "outputId": "be5946a8-cfcb-4a75-88ca-d792120b5ddf",
        "colab": {
          "base_uri": "https://localhost:8080/",
          "height": 457
        }
      },
      "execution_count": 12,
      "outputs": [
        {
          "output_type": "execute_result",
          "data": {
            "text/plain": [
              "<pandas.io.formats.style.Styler at 0x7b7ea7ee7940>"
            ],
            "text/html": [
              "<style type=\"text/css\">\n",
              "</style>\n",
              "<table id=\"T_a5c39\" class=\"dataframe\">\n",
              "  <thead>\n",
              "    <tr>\n",
              "      <th id=\"T_a5c39_level0_col0\" class=\"col_heading level0 col0\" >lastname</th>\n",
              "      <th id=\"T_a5c39_level0_col1\" class=\"col_heading level0 col1\" >jobdesc</th>\n",
              "      <th id=\"T_a5c39_level0_col2\" class=\"col_heading level0 col2\" >salary</th>\n",
              "    </tr>\n",
              "  </thead>\n",
              "  <tbody>\n",
              "    <tr>\n",
              "      <td id=\"T_a5c39_row0_col0\" class=\"data row0 col0\" >Bacchan</td>\n",
              "      <td id=\"T_a5c39_row0_col1\" class=\"data row0 col1\" >Executive</td>\n",
              "      <td id=\"T_a5c39_row0_col2\" class=\"data row0 col2\" >50000</td>\n",
              "    </tr>\n",
              "    <tr>\n",
              "      <td id=\"T_a5c39_row1_col0\" class=\"data row1 col0\" >Mukherjee</td>\n",
              "      <td id=\"T_a5c39_row1_col1\" class=\"data row1 col1\" >Manager</td>\n",
              "      <td id=\"T_a5c39_row1_col2\" class=\"data row1 col2\" >25000</td>\n",
              "    </tr>\n",
              "    <tr>\n",
              "      <td id=\"T_a5c39_row2_col0\" class=\"data row2 col0\" >Dikshit</td>\n",
              "      <td id=\"T_a5c39_row2_col1\" class=\"data row2 col1\" >Clerk</td>\n",
              "      <td id=\"T_a5c39_row2_col2\" class=\"data row2 col2\" >10000</td>\n",
              "    </tr>\n",
              "    <tr>\n",
              "      <td id=\"T_a5c39_row3_col0\" class=\"data row3 col0\" >Khan</td>\n",
              "      <td id=\"T_a5c39_row3_col1\" class=\"data row3 col1\" >Manager</td>\n",
              "      <td id=\"T_a5c39_row3_col2\" class=\"data row3 col2\" >30000</td>\n",
              "    </tr>\n",
              "    <tr>\n",
              "      <td id=\"T_a5c39_row4_col0\" class=\"data row4 col0\" >Sehwag</td>\n",
              "      <td id=\"T_a5c39_row4_col1\" class=\"data row4 col1\" >Cus_Rep</td>\n",
              "      <td id=\"T_a5c39_row4_col2\" class=\"data row4 col2\" >15000</td>\n",
              "    </tr>\n",
              "    <tr>\n",
              "      <td id=\"T_a5c39_row5_col0\" class=\"data row5 col0\" >Dhoni</td>\n",
              "      <td id=\"T_a5c39_row5_col1\" class=\"data row5 col1\" >Clerk</td>\n",
              "      <td id=\"T_a5c39_row5_col2\" class=\"data row5 col2\" >9000</td>\n",
              "    </tr>\n",
              "    <tr>\n",
              "      <td id=\"T_a5c39_row6_col0\" class=\"data row6 col0\" >Dravid</td>\n",
              "      <td id=\"T_a5c39_row6_col1\" class=\"data row6 col1\" >Sr Manager</td>\n",
              "      <td id=\"T_a5c39_row6_col2\" class=\"data row6 col2\" >40000</td>\n",
              "    </tr>\n",
              "    <tr>\n",
              "      <td id=\"T_a5c39_row7_col0\" class=\"data row7 col0\" >Dalmia</td>\n",
              "      <td id=\"T_a5c39_row7_col1\" class=\"data row7 col1\" >Clerk</td>\n",
              "      <td id=\"T_a5c39_row7_col2\" class=\"data row7 col2\" >12000</td>\n",
              "    </tr>\n",
              "    <tr>\n",
              "      <td id=\"T_a5c39_row8_col0\" class=\"data row8 col0\" >Ganguly</td>\n",
              "      <td id=\"T_a5c39_row8_col1\" class=\"data row8 col1\" >Cus_Rep</td>\n",
              "      <td id=\"T_a5c39_row8_col2\" class=\"data row8 col2\" >20000</td>\n",
              "    </tr>\n",
              "    <tr>\n",
              "      <td id=\"T_a5c39_row9_col0\" class=\"data row9 col0\" >Ganesan</td>\n",
              "      <td id=\"T_a5c39_row9_col1\" class=\"data row9 col1\" >Director</td>\n",
              "      <td id=\"T_a5c39_row9_col2\" class=\"data row9 col2\" >60000</td>\n",
              "    </tr>\n",
              "    <tr>\n",
              "      <td id=\"T_a5c39_row10_col0\" class=\"data row10 col0\" >Karthikeyan</td>\n",
              "      <td id=\"T_a5c39_row10_col1\" class=\"data row10 col1\" >Secretary</td>\n",
              "      <td id=\"T_a5c39_row10_col2\" class=\"data row10 col2\" >40000</td>\n",
              "    </tr>\n",
              "    <tr>\n",
              "      <td id=\"T_a5c39_row11_col0\" class=\"data row11 col0\" >Sunil</td>\n",
              "      <td id=\"T_a5c39_row11_col1\" class=\"data row11 col1\" >Dy Manager</td>\n",
              "      <td id=\"T_a5c39_row11_col2\" class=\"data row11 col2\" >40000</td>\n",
              "    </tr>\n",
              "    <tr>\n",
              "      <td id=\"T_a5c39_row12_col0\" class=\"data row12 col0\" >Mirza</td>\n",
              "      <td id=\"T_a5c39_row12_col1\" class=\"data row12 col1\" >Cus_Rep</td>\n",
              "      <td id=\"T_a5c39_row12_col2\" class=\"data row12 col2\" >25000</td>\n",
              "    </tr>\n",
              "  </tbody>\n",
              "</table>\n"
            ]
          },
          "metadata": {},
          "execution_count": 12
        }
      ]
    },
    {
      "cell_type": "code",
      "source": [
        "runSelect('select distinct(jobdesc) from empl')"
      ],
      "metadata": {
        "id": "7uvcAdlCvg-p",
        "outputId": "13982e84-ab2f-4dc1-cf37-38b74a27d72c",
        "colab": {
          "base_uri": "https://localhost:8080/",
          "height": 300
        }
      },
      "execution_count": 13,
      "outputs": [
        {
          "output_type": "execute_result",
          "data": {
            "text/plain": [
              "<pandas.io.formats.style.Styler at 0x7b7ea7ee67d0>"
            ],
            "text/html": [
              "<style type=\"text/css\">\n",
              "</style>\n",
              "<table id=\"T_9bea2\" class=\"dataframe\">\n",
              "  <thead>\n",
              "    <tr>\n",
              "      <th id=\"T_9bea2_level0_col0\" class=\"col_heading level0 col0\" >jobdesc</th>\n",
              "    </tr>\n",
              "  </thead>\n",
              "  <tbody>\n",
              "    <tr>\n",
              "      <td id=\"T_9bea2_row0_col0\" class=\"data row0 col0\" >Director</td>\n",
              "    </tr>\n",
              "    <tr>\n",
              "      <td id=\"T_9bea2_row1_col0\" class=\"data row1 col0\" >Manager</td>\n",
              "    </tr>\n",
              "    <tr>\n",
              "      <td id=\"T_9bea2_row2_col0\" class=\"data row2 col0\" >Dy Manager</td>\n",
              "    </tr>\n",
              "    <tr>\n",
              "      <td id=\"T_9bea2_row3_col0\" class=\"data row3 col0\" >Executive</td>\n",
              "    </tr>\n",
              "    <tr>\n",
              "      <td id=\"T_9bea2_row4_col0\" class=\"data row4 col0\" >Secretary</td>\n",
              "    </tr>\n",
              "    <tr>\n",
              "      <td id=\"T_9bea2_row5_col0\" class=\"data row5 col0\" >Cus_Rep</td>\n",
              "    </tr>\n",
              "    <tr>\n",
              "      <td id=\"T_9bea2_row6_col0\" class=\"data row6 col0\" >Clerk</td>\n",
              "    </tr>\n",
              "    <tr>\n",
              "      <td id=\"T_9bea2_row7_col0\" class=\"data row7 col0\" >Sr Manager</td>\n",
              "    </tr>\n",
              "  </tbody>\n",
              "</table>\n"
            ]
          },
          "metadata": {},
          "execution_count": 13
        }
      ]
    },
    {
      "cell_type": "markdown",
      "source": [
        "#Where"
      ],
      "metadata": {
        "id": "LFbNG59OxVzF"
      }
    },
    {
      "cell_type": "markdown",
      "source": [
        "## Equal, Not Equal, Greater, Less"
      ],
      "metadata": {
        "id": "JM2k29awVQHc"
      }
    },
    {
      "cell_type": "code",
      "source": [
        "runSelect(\"select firstname, lastname, jobdesc from empl where jobdesc = 'Clerk'\")"
      ],
      "metadata": {
        "id": "rRZz9OpLxdEY",
        "outputId": "9dbf7df4-bfdb-4d97-8694-42439b7c3863",
        "colab": {
          "base_uri": "https://localhost:8080/",
          "height": 143
        }
      },
      "execution_count": 14,
      "outputs": [
        {
          "output_type": "execute_result",
          "data": {
            "text/plain": [
              "<pandas.io.formats.style.Styler at 0x7b7ea7ee78e0>"
            ],
            "text/html": [
              "<style type=\"text/css\">\n",
              "</style>\n",
              "<table id=\"T_7a7a9\" class=\"dataframe\">\n",
              "  <thead>\n",
              "    <tr>\n",
              "      <th id=\"T_7a7a9_level0_col0\" class=\"col_heading level0 col0\" >firstname</th>\n",
              "      <th id=\"T_7a7a9_level0_col1\" class=\"col_heading level0 col1\" >lastname</th>\n",
              "      <th id=\"T_7a7a9_level0_col2\" class=\"col_heading level0 col2\" >jobdesc</th>\n",
              "    </tr>\n",
              "  </thead>\n",
              "  <tbody>\n",
              "    <tr>\n",
              "      <td id=\"T_7a7a9_row0_col0\" class=\"data row0 col0\" >Madhuri</td>\n",
              "      <td id=\"T_7a7a9_row0_col1\" class=\"data row0 col1\" >Dikshit</td>\n",
              "      <td id=\"T_7a7a9_row0_col2\" class=\"data row0 col2\" >Clerk</td>\n",
              "    </tr>\n",
              "    <tr>\n",
              "      <td id=\"T_7a7a9_row1_col0\" class=\"data row1 col0\" >Mahender</td>\n",
              "      <td id=\"T_7a7a9_row1_col1\" class=\"data row1 col1\" >Dhoni</td>\n",
              "      <td id=\"T_7a7a9_row1_col2\" class=\"data row1 col2\" >Clerk</td>\n",
              "    </tr>\n",
              "    <tr>\n",
              "      <td id=\"T_7a7a9_row2_col0\" class=\"data row2 col0\" >Jagmohan</td>\n",
              "      <td id=\"T_7a7a9_row2_col1\" class=\"data row2 col1\" >Dalmia</td>\n",
              "      <td id=\"T_7a7a9_row2_col2\" class=\"data row2 col2\" >Clerk</td>\n",
              "    </tr>\n",
              "  </tbody>\n",
              "</table>\n"
            ]
          },
          "metadata": {},
          "execution_count": 14
        }
      ]
    },
    {
      "cell_type": "code",
      "source": [
        "runSelect(\"select firstname, lastname, jobdesc from empl where jobdesc != 'Clerk'\")"
      ],
      "metadata": {
        "id": "3cl0ISR9yG-I",
        "outputId": "f97ea6c9-b120-4783-901a-0d079441e46c",
        "colab": {
          "base_uri": "https://localhost:8080/",
          "height": 363
        }
      },
      "execution_count": 15,
      "outputs": [
        {
          "output_type": "execute_result",
          "data": {
            "text/plain": [
              "<pandas.io.formats.style.Styler at 0x7b7ea7d18640>"
            ],
            "text/html": [
              "<style type=\"text/css\">\n",
              "</style>\n",
              "<table id=\"T_4c2d1\" class=\"dataframe\">\n",
              "  <thead>\n",
              "    <tr>\n",
              "      <th id=\"T_4c2d1_level0_col0\" class=\"col_heading level0 col0\" >firstname</th>\n",
              "      <th id=\"T_4c2d1_level0_col1\" class=\"col_heading level0 col1\" >lastname</th>\n",
              "      <th id=\"T_4c2d1_level0_col2\" class=\"col_heading level0 col2\" >jobdesc</th>\n",
              "    </tr>\n",
              "  </thead>\n",
              "  <tbody>\n",
              "    <tr>\n",
              "      <td id=\"T_4c2d1_row0_col0\" class=\"data row0 col0\" >Amitabh</td>\n",
              "      <td id=\"T_4c2d1_row0_col1\" class=\"data row0 col1\" >Bacchan</td>\n",
              "      <td id=\"T_4c2d1_row0_col2\" class=\"data row0 col2\" >Executive</td>\n",
              "    </tr>\n",
              "    <tr>\n",
              "      <td id=\"T_4c2d1_row1_col0\" class=\"data row1 col0\" >Rani</td>\n",
              "      <td id=\"T_4c2d1_row1_col1\" class=\"data row1 col1\" >Mukherjee</td>\n",
              "      <td id=\"T_4c2d1_row1_col2\" class=\"data row1 col2\" >Manager</td>\n",
              "    </tr>\n",
              "    <tr>\n",
              "      <td id=\"T_4c2d1_row2_col0\" class=\"data row2 col0\" >Shahrukh</td>\n",
              "      <td id=\"T_4c2d1_row2_col1\" class=\"data row2 col1\" >Khan</td>\n",
              "      <td id=\"T_4c2d1_row2_col2\" class=\"data row2 col2\" >Manager</td>\n",
              "    </tr>\n",
              "    <tr>\n",
              "      <td id=\"T_4c2d1_row3_col0\" class=\"data row3 col0\" >Virender</td>\n",
              "      <td id=\"T_4c2d1_row3_col1\" class=\"data row3 col1\" >Sehwag</td>\n",
              "      <td id=\"T_4c2d1_row3_col2\" class=\"data row3 col2\" >Cus_Rep</td>\n",
              "    </tr>\n",
              "    <tr>\n",
              "      <td id=\"T_4c2d1_row4_col0\" class=\"data row4 col0\" >Rahul</td>\n",
              "      <td id=\"T_4c2d1_row4_col1\" class=\"data row4 col1\" >Dravid</td>\n",
              "      <td id=\"T_4c2d1_row4_col2\" class=\"data row4 col2\" >Sr Manager</td>\n",
              "    </tr>\n",
              "    <tr>\n",
              "      <td id=\"T_4c2d1_row5_col0\" class=\"data row5 col0\" >Sourav</td>\n",
              "      <td id=\"T_4c2d1_row5_col1\" class=\"data row5 col1\" >Ganguly</td>\n",
              "      <td id=\"T_4c2d1_row5_col2\" class=\"data row5 col2\" >Cus_Rep</td>\n",
              "    </tr>\n",
              "    <tr>\n",
              "      <td id=\"T_4c2d1_row6_col0\" class=\"data row6 col0\" >Rekha</td>\n",
              "      <td id=\"T_4c2d1_row6_col1\" class=\"data row6 col1\" >Ganesan</td>\n",
              "      <td id=\"T_4c2d1_row6_col2\" class=\"data row6 col2\" >Director</td>\n",
              "    </tr>\n",
              "    <tr>\n",
              "      <td id=\"T_4c2d1_row7_col0\" class=\"data row7 col0\" >Narayan</td>\n",
              "      <td id=\"T_4c2d1_row7_col1\" class=\"data row7 col1\" >Karthikeyan</td>\n",
              "      <td id=\"T_4c2d1_row7_col2\" class=\"data row7 col2\" >Secretary</td>\n",
              "    </tr>\n",
              "    <tr>\n",
              "      <td id=\"T_4c2d1_row8_col0\" class=\"data row8 col0\" >Chettri</td>\n",
              "      <td id=\"T_4c2d1_row8_col1\" class=\"data row8 col1\" >Sunil</td>\n",
              "      <td id=\"T_4c2d1_row8_col2\" class=\"data row8 col2\" >Dy Manager</td>\n",
              "    </tr>\n",
              "    <tr>\n",
              "      <td id=\"T_4c2d1_row9_col0\" class=\"data row9 col0\" >Sania</td>\n",
              "      <td id=\"T_4c2d1_row9_col1\" class=\"data row9 col1\" >Mirza</td>\n",
              "      <td id=\"T_4c2d1_row9_col2\" class=\"data row9 col2\" >Cus_Rep</td>\n",
              "    </tr>\n",
              "  </tbody>\n",
              "</table>\n"
            ]
          },
          "metadata": {},
          "execution_count": 15
        }
      ]
    },
    {
      "cell_type": "code",
      "source": [
        "runSelect(\"select firstname, lastname, salary from empl where salary > 35000\")"
      ],
      "metadata": {
        "id": "obIPpNbDyT4S",
        "outputId": "7767b85e-41eb-44e0-f9cb-6a0fe76f9624",
        "colab": {
          "base_uri": "https://localhost:8080/",
          "height": 206
        }
      },
      "execution_count": 16,
      "outputs": [
        {
          "output_type": "execute_result",
          "data": {
            "text/plain": [
              "<pandas.io.formats.style.Styler at 0x7b7ea7ee73a0>"
            ],
            "text/html": [
              "<style type=\"text/css\">\n",
              "</style>\n",
              "<table id=\"T_6ef89\" class=\"dataframe\">\n",
              "  <thead>\n",
              "    <tr>\n",
              "      <th id=\"T_6ef89_level0_col0\" class=\"col_heading level0 col0\" >firstname</th>\n",
              "      <th id=\"T_6ef89_level0_col1\" class=\"col_heading level0 col1\" >lastname</th>\n",
              "      <th id=\"T_6ef89_level0_col2\" class=\"col_heading level0 col2\" >salary</th>\n",
              "    </tr>\n",
              "  </thead>\n",
              "  <tbody>\n",
              "    <tr>\n",
              "      <td id=\"T_6ef89_row0_col0\" class=\"data row0 col0\" >Amitabh</td>\n",
              "      <td id=\"T_6ef89_row0_col1\" class=\"data row0 col1\" >Bacchan</td>\n",
              "      <td id=\"T_6ef89_row0_col2\" class=\"data row0 col2\" >50000</td>\n",
              "    </tr>\n",
              "    <tr>\n",
              "      <td id=\"T_6ef89_row1_col0\" class=\"data row1 col0\" >Rahul</td>\n",
              "      <td id=\"T_6ef89_row1_col1\" class=\"data row1 col1\" >Dravid</td>\n",
              "      <td id=\"T_6ef89_row1_col2\" class=\"data row1 col2\" >40000</td>\n",
              "    </tr>\n",
              "    <tr>\n",
              "      <td id=\"T_6ef89_row2_col0\" class=\"data row2 col0\" >Rekha</td>\n",
              "      <td id=\"T_6ef89_row2_col1\" class=\"data row2 col1\" >Ganesan</td>\n",
              "      <td id=\"T_6ef89_row2_col2\" class=\"data row2 col2\" >60000</td>\n",
              "    </tr>\n",
              "    <tr>\n",
              "      <td id=\"T_6ef89_row3_col0\" class=\"data row3 col0\" >Narayan</td>\n",
              "      <td id=\"T_6ef89_row3_col1\" class=\"data row3 col1\" >Karthikeyan</td>\n",
              "      <td id=\"T_6ef89_row3_col2\" class=\"data row3 col2\" >40000</td>\n",
              "    </tr>\n",
              "    <tr>\n",
              "      <td id=\"T_6ef89_row4_col0\" class=\"data row4 col0\" >Chettri</td>\n",
              "      <td id=\"T_6ef89_row4_col1\" class=\"data row4 col1\" >Sunil</td>\n",
              "      <td id=\"T_6ef89_row4_col2\" class=\"data row4 col2\" >40000</td>\n",
              "    </tr>\n",
              "  </tbody>\n",
              "</table>\n"
            ]
          },
          "metadata": {},
          "execution_count": 16
        }
      ]
    },
    {
      "cell_type": "code",
      "source": [
        "runSelect(\"select firstname, lastname, salary, joindate from empl where joindate < '2002-01-01'\")"
      ],
      "metadata": {
        "colab": {
          "base_uri": "https://localhost:8080/",
          "height": 143
        },
        "id": "hnIvgy_dMvQl",
        "outputId": "fd4ec0c9-f7fc-43ee-e252-fae199a20a7e"
      },
      "execution_count": 17,
      "outputs": [
        {
          "output_type": "execute_result",
          "data": {
            "text/plain": [
              "<pandas.io.formats.style.Styler at 0x7b7ea7ee6ce0>"
            ],
            "text/html": [
              "<style type=\"text/css\">\n",
              "</style>\n",
              "<table id=\"T_2ec75\" class=\"dataframe\">\n",
              "  <thead>\n",
              "    <tr>\n",
              "      <th id=\"T_2ec75_level0_col0\" class=\"col_heading level0 col0\" >firstname</th>\n",
              "      <th id=\"T_2ec75_level0_col1\" class=\"col_heading level0 col1\" >lastname</th>\n",
              "      <th id=\"T_2ec75_level0_col2\" class=\"col_heading level0 col2\" >salary</th>\n",
              "      <th id=\"T_2ec75_level0_col3\" class=\"col_heading level0 col3\" >joindate</th>\n",
              "    </tr>\n",
              "  </thead>\n",
              "  <tbody>\n",
              "    <tr>\n",
              "      <td id=\"T_2ec75_row0_col0\" class=\"data row0 col0\" >Rahul</td>\n",
              "      <td id=\"T_2ec75_row0_col1\" class=\"data row0 col1\" >Dravid</td>\n",
              "      <td id=\"T_2ec75_row0_col2\" class=\"data row0 col2\" >40000</td>\n",
              "      <td id=\"T_2ec75_row0_col3\" class=\"data row0 col3\" >2000-06-04</td>\n",
              "    </tr>\n",
              "    <tr>\n",
              "      <td id=\"T_2ec75_row1_col0\" class=\"data row1 col0\" >Jagmohan</td>\n",
              "      <td id=\"T_2ec75_row1_col1\" class=\"data row1 col1\" >Dalmia</td>\n",
              "      <td id=\"T_2ec75_row1_col2\" class=\"data row1 col2\" >12000</td>\n",
              "      <td id=\"T_2ec75_row1_col3\" class=\"data row1 col3\" >2001-07-01</td>\n",
              "    </tr>\n",
              "    <tr>\n",
              "      <td id=\"T_2ec75_row2_col0\" class=\"data row2 col0\" >Sania</td>\n",
              "      <td id=\"T_2ec75_row2_col1\" class=\"data row2 col1\" >Mirza</td>\n",
              "      <td id=\"T_2ec75_row2_col2\" class=\"data row2 col2\" >25000</td>\n",
              "      <td id=\"T_2ec75_row2_col3\" class=\"data row2 col3\" >2001-11-19</td>\n",
              "    </tr>\n",
              "  </tbody>\n",
              "</table>\n"
            ]
          },
          "metadata": {},
          "execution_count": 17
        }
      ]
    },
    {
      "cell_type": "markdown",
      "source": [
        "## Like"
      ],
      "metadata": {
        "id": "77DkYhfhU1lJ"
      }
    },
    {
      "cell_type": "code",
      "source": [
        "runSelect(\"select firstname, lastname, salary from empl where lastname like 'D%'\")"
      ],
      "metadata": {
        "colab": {
          "base_uri": "https://localhost:8080/",
          "height": 175
        },
        "id": "PBsdla2eVv1K",
        "outputId": "d2cecfbc-31ee-451a-bb82-d83d56e6af50"
      },
      "execution_count": 18,
      "outputs": [
        {
          "output_type": "execute_result",
          "data": {
            "text/plain": [
              "<pandas.io.formats.style.Styler at 0x7b7ea7d1be80>"
            ],
            "text/html": [
              "<style type=\"text/css\">\n",
              "</style>\n",
              "<table id=\"T_069a8\" class=\"dataframe\">\n",
              "  <thead>\n",
              "    <tr>\n",
              "      <th id=\"T_069a8_level0_col0\" class=\"col_heading level0 col0\" >firstname</th>\n",
              "      <th id=\"T_069a8_level0_col1\" class=\"col_heading level0 col1\" >lastname</th>\n",
              "      <th id=\"T_069a8_level0_col2\" class=\"col_heading level0 col2\" >salary</th>\n",
              "    </tr>\n",
              "  </thead>\n",
              "  <tbody>\n",
              "    <tr>\n",
              "      <td id=\"T_069a8_row0_col0\" class=\"data row0 col0\" >Madhuri</td>\n",
              "      <td id=\"T_069a8_row0_col1\" class=\"data row0 col1\" >Dikshit</td>\n",
              "      <td id=\"T_069a8_row0_col2\" class=\"data row0 col2\" >10000</td>\n",
              "    </tr>\n",
              "    <tr>\n",
              "      <td id=\"T_069a8_row1_col0\" class=\"data row1 col0\" >Mahender</td>\n",
              "      <td id=\"T_069a8_row1_col1\" class=\"data row1 col1\" >Dhoni</td>\n",
              "      <td id=\"T_069a8_row1_col2\" class=\"data row1 col2\" >9000</td>\n",
              "    </tr>\n",
              "    <tr>\n",
              "      <td id=\"T_069a8_row2_col0\" class=\"data row2 col0\" >Rahul</td>\n",
              "      <td id=\"T_069a8_row2_col1\" class=\"data row2 col1\" >Dravid</td>\n",
              "      <td id=\"T_069a8_row2_col2\" class=\"data row2 col2\" >40000</td>\n",
              "    </tr>\n",
              "    <tr>\n",
              "      <td id=\"T_069a8_row3_col0\" class=\"data row3 col0\" >Jagmohan</td>\n",
              "      <td id=\"T_069a8_row3_col1\" class=\"data row3 col1\" >Dalmia</td>\n",
              "      <td id=\"T_069a8_row3_col2\" class=\"data row3 col2\" >12000</td>\n",
              "    </tr>\n",
              "  </tbody>\n",
              "</table>\n"
            ]
          },
          "metadata": {},
          "execution_count": 18
        }
      ]
    },
    {
      "cell_type": "code",
      "source": [
        "runSelect(\"select firstname, lastname, joindate from empl where lastname like '____i_'\")"
      ],
      "metadata": {
        "colab": {
          "base_uri": "https://localhost:8080/",
          "height": 112
        },
        "id": "xxImEDlKbm4U",
        "outputId": "f04f4d77-9ce2-44f6-9041-abbd78183d09"
      },
      "execution_count": 19,
      "outputs": [
        {
          "output_type": "execute_result",
          "data": {
            "text/plain": [
              "<pandas.io.formats.style.Styler at 0x7b7ea7d1a470>"
            ],
            "text/html": [
              "<style type=\"text/css\">\n",
              "</style>\n",
              "<table id=\"T_d310c\" class=\"dataframe\">\n",
              "  <thead>\n",
              "    <tr>\n",
              "      <th id=\"T_d310c_level0_col0\" class=\"col_heading level0 col0\" >firstname</th>\n",
              "      <th id=\"T_d310c_level0_col1\" class=\"col_heading level0 col1\" >lastname</th>\n",
              "      <th id=\"T_d310c_level0_col2\" class=\"col_heading level0 col2\" >joindate</th>\n",
              "    </tr>\n",
              "  </thead>\n",
              "  <tbody>\n",
              "    <tr>\n",
              "      <td id=\"T_d310c_row0_col0\" class=\"data row0 col0\" >Rahul</td>\n",
              "      <td id=\"T_d310c_row0_col1\" class=\"data row0 col1\" >Dravid</td>\n",
              "      <td id=\"T_d310c_row0_col2\" class=\"data row0 col2\" >2000-06-04</td>\n",
              "    </tr>\n",
              "    <tr>\n",
              "      <td id=\"T_d310c_row1_col0\" class=\"data row1 col0\" >Jagmohan</td>\n",
              "      <td id=\"T_d310c_row1_col1\" class=\"data row1 col1\" >Dalmia</td>\n",
              "      <td id=\"T_d310c_row1_col2\" class=\"data row1 col2\" >2001-07-01</td>\n",
              "    </tr>\n",
              "  </tbody>\n",
              "</table>\n"
            ]
          },
          "metadata": {},
          "execution_count": 19
        }
      ]
    },
    {
      "cell_type": "code",
      "source": [
        "runSelect(\"select firstname, lastname, jobdesc from empl where lastname like '____i%'\")"
      ],
      "metadata": {
        "colab": {
          "base_uri": "https://localhost:8080/",
          "height": 143
        },
        "id": "pL7VPLo4b2g3",
        "outputId": "ef2fec06-e482-4e06-c6b6-1ff2994c407e"
      },
      "execution_count": 20,
      "outputs": [
        {
          "output_type": "execute_result",
          "data": {
            "text/plain": [
              "<pandas.io.formats.style.Styler at 0x7b7ea7d1b250>"
            ],
            "text/html": [
              "<style type=\"text/css\">\n",
              "</style>\n",
              "<table id=\"T_21d53\" class=\"dataframe\">\n",
              "  <thead>\n",
              "    <tr>\n",
              "      <th id=\"T_21d53_level0_col0\" class=\"col_heading level0 col0\" >firstname</th>\n",
              "      <th id=\"T_21d53_level0_col1\" class=\"col_heading level0 col1\" >lastname</th>\n",
              "      <th id=\"T_21d53_level0_col2\" class=\"col_heading level0 col2\" >jobdesc</th>\n",
              "    </tr>\n",
              "  </thead>\n",
              "  <tbody>\n",
              "    <tr>\n",
              "      <td id=\"T_21d53_row0_col0\" class=\"data row0 col0\" >Mahender</td>\n",
              "      <td id=\"T_21d53_row0_col1\" class=\"data row0 col1\" >Dhoni</td>\n",
              "      <td id=\"T_21d53_row0_col2\" class=\"data row0 col2\" >Clerk</td>\n",
              "    </tr>\n",
              "    <tr>\n",
              "      <td id=\"T_21d53_row1_col0\" class=\"data row1 col0\" >Rahul</td>\n",
              "      <td id=\"T_21d53_row1_col1\" class=\"data row1 col1\" >Dravid</td>\n",
              "      <td id=\"T_21d53_row1_col2\" class=\"data row1 col2\" >Sr Manager</td>\n",
              "    </tr>\n",
              "    <tr>\n",
              "      <td id=\"T_21d53_row2_col0\" class=\"data row2 col0\" >Jagmohan</td>\n",
              "      <td id=\"T_21d53_row2_col1\" class=\"data row2 col1\" >Dalmia</td>\n",
              "      <td id=\"T_21d53_row2_col2\" class=\"data row2 col2\" >Clerk</td>\n",
              "    </tr>\n",
              "  </tbody>\n",
              "</table>\n"
            ]
          },
          "metadata": {},
          "execution_count": 20
        }
      ]
    },
    {
      "cell_type": "markdown",
      "source": [
        "## Between"
      ],
      "metadata": {
        "id": "qw2h8Vtvey2R"
      }
    },
    {
      "cell_type": "code",
      "source": [
        "runSelect(\"select firstname, lastname, salary from empl where salary between 10000 and 20000\")"
      ],
      "metadata": {
        "colab": {
          "base_uri": "https://localhost:8080/",
          "height": 175
        },
        "id": "sI_qlRdXe7S8",
        "outputId": "a8d22e5b-d6e7-426b-ed37-2a77cb175810"
      },
      "execution_count": 21,
      "outputs": [
        {
          "output_type": "execute_result",
          "data": {
            "text/plain": [
              "<pandas.io.formats.style.Styler at 0x7b7ea7d18f10>"
            ],
            "text/html": [
              "<style type=\"text/css\">\n",
              "</style>\n",
              "<table id=\"T_5a047\" class=\"dataframe\">\n",
              "  <thead>\n",
              "    <tr>\n",
              "      <th id=\"T_5a047_level0_col0\" class=\"col_heading level0 col0\" >firstname</th>\n",
              "      <th id=\"T_5a047_level0_col1\" class=\"col_heading level0 col1\" >lastname</th>\n",
              "      <th id=\"T_5a047_level0_col2\" class=\"col_heading level0 col2\" >salary</th>\n",
              "    </tr>\n",
              "  </thead>\n",
              "  <tbody>\n",
              "    <tr>\n",
              "      <td id=\"T_5a047_row0_col0\" class=\"data row0 col0\" >Madhuri</td>\n",
              "      <td id=\"T_5a047_row0_col1\" class=\"data row0 col1\" >Dikshit</td>\n",
              "      <td id=\"T_5a047_row0_col2\" class=\"data row0 col2\" >10000</td>\n",
              "    </tr>\n",
              "    <tr>\n",
              "      <td id=\"T_5a047_row1_col0\" class=\"data row1 col0\" >Virender</td>\n",
              "      <td id=\"T_5a047_row1_col1\" class=\"data row1 col1\" >Sehwag</td>\n",
              "      <td id=\"T_5a047_row1_col2\" class=\"data row1 col2\" >15000</td>\n",
              "    </tr>\n",
              "    <tr>\n",
              "      <td id=\"T_5a047_row2_col0\" class=\"data row2 col0\" >Jagmohan</td>\n",
              "      <td id=\"T_5a047_row2_col1\" class=\"data row2 col1\" >Dalmia</td>\n",
              "      <td id=\"T_5a047_row2_col2\" class=\"data row2 col2\" >12000</td>\n",
              "    </tr>\n",
              "    <tr>\n",
              "      <td id=\"T_5a047_row3_col0\" class=\"data row3 col0\" >Sourav</td>\n",
              "      <td id=\"T_5a047_row3_col1\" class=\"data row3 col1\" >Ganguly</td>\n",
              "      <td id=\"T_5a047_row3_col2\" class=\"data row3 col2\" >20000</td>\n",
              "    </tr>\n",
              "  </tbody>\n",
              "</table>\n"
            ]
          },
          "metadata": {},
          "execution_count": 21
        }
      ]
    },
    {
      "cell_type": "code",
      "source": [
        "runSelect(\"select firstname, lastname, joindate from empl where joindate between '2004-01-01' and '2005-01-01'\")"
      ],
      "metadata": {
        "colab": {
          "base_uri": "https://localhost:8080/",
          "height": 112
        },
        "id": "b_mWyFTnfIEy",
        "outputId": "f12f7f35-e79f-40b5-9c03-1e2015b792d6"
      },
      "execution_count": 22,
      "outputs": [
        {
          "output_type": "execute_result",
          "data": {
            "text/plain": [
              "<pandas.io.formats.style.Styler at 0x7b7ea7d187c0>"
            ],
            "text/html": [
              "<style type=\"text/css\">\n",
              "</style>\n",
              "<table id=\"T_aff9d\" class=\"dataframe\">\n",
              "  <thead>\n",
              "    <tr>\n",
              "      <th id=\"T_aff9d_level0_col0\" class=\"col_heading level0 col0\" >firstname</th>\n",
              "      <th id=\"T_aff9d_level0_col1\" class=\"col_heading level0 col1\" >lastname</th>\n",
              "      <th id=\"T_aff9d_level0_col2\" class=\"col_heading level0 col2\" >joindate</th>\n",
              "    </tr>\n",
              "  </thead>\n",
              "  <tbody>\n",
              "    <tr>\n",
              "      <td id=\"T_aff9d_row0_col0\" class=\"data row0 col0\" >Shahrukh</td>\n",
              "      <td id=\"T_aff9d_row0_col1\" class=\"data row0 col1\" >Khan</td>\n",
              "      <td id=\"T_aff9d_row0_col2\" class=\"data row0 col2\" >2004-01-03</td>\n",
              "    </tr>\n",
              "    <tr>\n",
              "      <td id=\"T_aff9d_row1_col0\" class=\"data row1 col0\" >Mahender</td>\n",
              "      <td id=\"T_aff9d_row1_col1\" class=\"data row1 col1\" >Dhoni</td>\n",
              "      <td id=\"T_aff9d_row1_col2\" class=\"data row1 col2\" >2004-10-09</td>\n",
              "    </tr>\n",
              "  </tbody>\n",
              "</table>\n"
            ]
          },
          "metadata": {},
          "execution_count": 22
        }
      ]
    },
    {
      "cell_type": "code",
      "source": [
        "runSelect(\"select firstname, lastname, joindate from empl where lastname between 'Dho' and 'Kha'\")"
      ],
      "metadata": {
        "colab": {
          "base_uri": "https://localhost:8080/",
          "height": 238
        },
        "id": "qXs9AeS2fwCS",
        "outputId": "8e4b4517-5c14-4807-97a6-981ce628a57c"
      },
      "execution_count": 23,
      "outputs": [
        {
          "output_type": "execute_result",
          "data": {
            "text/plain": [
              "<pandas.io.formats.style.Styler at 0x7b7ed6909a20>"
            ],
            "text/html": [
              "<style type=\"text/css\">\n",
              "</style>\n",
              "<table id=\"T_3f566\" class=\"dataframe\">\n",
              "  <thead>\n",
              "    <tr>\n",
              "      <th id=\"T_3f566_level0_col0\" class=\"col_heading level0 col0\" >firstname</th>\n",
              "      <th id=\"T_3f566_level0_col1\" class=\"col_heading level0 col1\" >lastname</th>\n",
              "      <th id=\"T_3f566_level0_col2\" class=\"col_heading level0 col2\" >joindate</th>\n",
              "    </tr>\n",
              "  </thead>\n",
              "  <tbody>\n",
              "    <tr>\n",
              "      <td id=\"T_3f566_row0_col0\" class=\"data row0 col0\" >Madhuri</td>\n",
              "      <td id=\"T_3f566_row0_col1\" class=\"data row0 col1\" >Dikshit</td>\n",
              "      <td id=\"T_3f566_row0_col2\" class=\"data row0 col2\" >2002-04-04</td>\n",
              "    </tr>\n",
              "    <tr>\n",
              "      <td id=\"T_3f566_row1_col0\" class=\"data row1 col0\" >Mahender</td>\n",
              "      <td id=\"T_3f566_row1_col1\" class=\"data row1 col1\" >Dhoni</td>\n",
              "      <td id=\"T_3f566_row1_col2\" class=\"data row1 col2\" >2004-10-09</td>\n",
              "    </tr>\n",
              "    <tr>\n",
              "      <td id=\"T_3f566_row2_col0\" class=\"data row2 col0\" >Rahul</td>\n",
              "      <td id=\"T_3f566_row2_col1\" class=\"data row2 col1\" >Dravid</td>\n",
              "      <td id=\"T_3f566_row2_col2\" class=\"data row2 col2\" >2000-06-04</td>\n",
              "    </tr>\n",
              "    <tr>\n",
              "      <td id=\"T_3f566_row3_col0\" class=\"data row3 col0\" >Sourav</td>\n",
              "      <td id=\"T_3f566_row3_col1\" class=\"data row3 col1\" >Ganguly</td>\n",
              "      <td id=\"T_3f566_row3_col2\" class=\"data row3 col2\" >2002-01-01</td>\n",
              "    </tr>\n",
              "    <tr>\n",
              "      <td id=\"T_3f566_row4_col0\" class=\"data row4 col0\" >Rekha</td>\n",
              "      <td id=\"T_3f566_row4_col1\" class=\"data row4 col1\" >Ganesan</td>\n",
              "      <td id=\"T_3f566_row4_col2\" class=\"data row4 col2\" >2002-10-10</td>\n",
              "    </tr>\n",
              "    <tr>\n",
              "      <td id=\"T_3f566_row5_col0\" class=\"data row5 col0\" >Narayan</td>\n",
              "      <td id=\"T_3f566_row5_col1\" class=\"data row5 col1\" >Karthikeyan</td>\n",
              "      <td id=\"T_3f566_row5_col2\" class=\"data row5 col2\" >2005-12-04</td>\n",
              "    </tr>\n",
              "  </tbody>\n",
              "</table>\n"
            ]
          },
          "metadata": {},
          "execution_count": 23
        }
      ]
    },
    {
      "cell_type": "markdown",
      "source": [
        "## IN"
      ],
      "metadata": {
        "id": "azhy0TQLiLy-"
      }
    },
    {
      "cell_type": "code",
      "source": [
        "runSelect(\"select firstname, lastname, deptid from empl where deptid in ('30','20','70')\")"
      ],
      "metadata": {
        "colab": {
          "base_uri": "https://localhost:8080/",
          "height": 269
        },
        "id": "UyBE-FuoibSZ",
        "outputId": "d2a3942b-c480-43e8-8692-f45b9f0781ac"
      },
      "execution_count": 24,
      "outputs": [
        {
          "output_type": "execute_result",
          "data": {
            "text/plain": [
              "<pandas.io.formats.style.Styler at 0x7b7ea7f87df0>"
            ],
            "text/html": [
              "<style type=\"text/css\">\n",
              "</style>\n",
              "<table id=\"T_eca48\" class=\"dataframe\">\n",
              "  <thead>\n",
              "    <tr>\n",
              "      <th id=\"T_eca48_level0_col0\" class=\"col_heading level0 col0\" >firstname</th>\n",
              "      <th id=\"T_eca48_level0_col1\" class=\"col_heading level0 col1\" >lastname</th>\n",
              "      <th id=\"T_eca48_level0_col2\" class=\"col_heading level0 col2\" >deptid</th>\n",
              "    </tr>\n",
              "  </thead>\n",
              "  <tbody>\n",
              "    <tr>\n",
              "      <td id=\"T_eca48_row0_col0\" class=\"data row0 col0\" >Madhuri</td>\n",
              "      <td id=\"T_eca48_row0_col1\" class=\"data row0 col1\" >Dikshit</td>\n",
              "      <td id=\"T_eca48_row0_col2\" class=\"data row0 col2\" >20</td>\n",
              "    </tr>\n",
              "    <tr>\n",
              "      <td id=\"T_eca48_row1_col0\" class=\"data row1 col0\" >Shahrukh</td>\n",
              "      <td id=\"T_eca48_row1_col1\" class=\"data row1 col1\" >Khan</td>\n",
              "      <td id=\"T_eca48_row1_col2\" class=\"data row1 col2\" >20</td>\n",
              "    </tr>\n",
              "    <tr>\n",
              "      <td id=\"T_eca48_row2_col0\" class=\"data row2 col0\" >Virender</td>\n",
              "      <td id=\"T_eca48_row2_col1\" class=\"data row2 col1\" >Sehwag</td>\n",
              "      <td id=\"T_eca48_row2_col2\" class=\"data row2 col2\" >20</td>\n",
              "    </tr>\n",
              "    <tr>\n",
              "      <td id=\"T_eca48_row3_col0\" class=\"data row3 col0\" >Rahul</td>\n",
              "      <td id=\"T_eca48_row3_col1\" class=\"data row3 col1\" >Dravid</td>\n",
              "      <td id=\"T_eca48_row3_col2\" class=\"data row3 col2\" >30</td>\n",
              "    </tr>\n",
              "    <tr>\n",
              "      <td id=\"T_eca48_row4_col0\" class=\"data row4 col0\" >Jagmohan</td>\n",
              "      <td id=\"T_eca48_row4_col1\" class=\"data row4 col1\" >Dalmia</td>\n",
              "      <td id=\"T_eca48_row4_col2\" class=\"data row4 col2\" >30</td>\n",
              "    </tr>\n",
              "    <tr>\n",
              "      <td id=\"T_eca48_row5_col0\" class=\"data row5 col0\" >Chettri</td>\n",
              "      <td id=\"T_eca48_row5_col1\" class=\"data row5 col1\" >Sunil</td>\n",
              "      <td id=\"T_eca48_row5_col2\" class=\"data row5 col2\" >70</td>\n",
              "    </tr>\n",
              "    <tr>\n",
              "      <td id=\"T_eca48_row6_col0\" class=\"data row6 col0\" >Sania</td>\n",
              "      <td id=\"T_eca48_row6_col1\" class=\"data row6 col1\" >Mirza</td>\n",
              "      <td id=\"T_eca48_row6_col2\" class=\"data row6 col2\" >30</td>\n",
              "    </tr>\n",
              "  </tbody>\n",
              "</table>\n"
            ]
          },
          "metadata": {},
          "execution_count": 24
        }
      ]
    },
    {
      "cell_type": "code",
      "source": [
        "runSelect(\"select firstname, lastname, salary from empl where firstname in ('Madhuri','Shahrukh','Virender')\")"
      ],
      "metadata": {
        "colab": {
          "base_uri": "https://localhost:8080/",
          "height": 143
        },
        "id": "9qTEO-OuiN3A",
        "outputId": "0c151b18-b104-4eac-f3a0-62c01e96e9d0"
      },
      "execution_count": 25,
      "outputs": [
        {
          "output_type": "execute_result",
          "data": {
            "text/plain": [
              "<pandas.io.formats.style.Styler at 0x7b7ea7f85000>"
            ],
            "text/html": [
              "<style type=\"text/css\">\n",
              "</style>\n",
              "<table id=\"T_1f19f\" class=\"dataframe\">\n",
              "  <thead>\n",
              "    <tr>\n",
              "      <th id=\"T_1f19f_level0_col0\" class=\"col_heading level0 col0\" >firstname</th>\n",
              "      <th id=\"T_1f19f_level0_col1\" class=\"col_heading level0 col1\" >lastname</th>\n",
              "      <th id=\"T_1f19f_level0_col2\" class=\"col_heading level0 col2\" >salary</th>\n",
              "    </tr>\n",
              "  </thead>\n",
              "  <tbody>\n",
              "    <tr>\n",
              "      <td id=\"T_1f19f_row0_col0\" class=\"data row0 col0\" >Madhuri</td>\n",
              "      <td id=\"T_1f19f_row0_col1\" class=\"data row0 col1\" >Dikshit</td>\n",
              "      <td id=\"T_1f19f_row0_col2\" class=\"data row0 col2\" >10000</td>\n",
              "    </tr>\n",
              "    <tr>\n",
              "      <td id=\"T_1f19f_row1_col0\" class=\"data row1 col0\" >Shahrukh</td>\n",
              "      <td id=\"T_1f19f_row1_col1\" class=\"data row1 col1\" >Khan</td>\n",
              "      <td id=\"T_1f19f_row1_col2\" class=\"data row1 col2\" >30000</td>\n",
              "    </tr>\n",
              "    <tr>\n",
              "      <td id=\"T_1f19f_row2_col0\" class=\"data row2 col0\" >Virender</td>\n",
              "      <td id=\"T_1f19f_row2_col1\" class=\"data row2 col1\" >Sehwag</td>\n",
              "      <td id=\"T_1f19f_row2_col2\" class=\"data row2 col2\" >15000</td>\n",
              "    </tr>\n",
              "  </tbody>\n",
              "</table>\n"
            ]
          },
          "metadata": {},
          "execution_count": 25
        }
      ]
    },
    {
      "cell_type": "markdown",
      "source": [
        "## Order by"
      ],
      "metadata": {
        "id": "vlOCT_zAkzMb"
      }
    },
    {
      "cell_type": "code",
      "source": [
        "runSelect(\"select firstname, lastname, joindate from empl where firstname in ('Madhuri','Shahrukh','Virender') order by joindate\")"
      ],
      "metadata": {
        "colab": {
          "base_uri": "https://localhost:8080/",
          "height": 143
        },
        "id": "WidoGzLVk1in",
        "outputId": "ef08cb11-b402-48ba-8380-870acfeb26bc"
      },
      "execution_count": 26,
      "outputs": [
        {
          "output_type": "execute_result",
          "data": {
            "text/plain": [
              "<pandas.io.formats.style.Styler at 0x7b7ea7ee6c50>"
            ],
            "text/html": [
              "<style type=\"text/css\">\n",
              "</style>\n",
              "<table id=\"T_4ab8f\" class=\"dataframe\">\n",
              "  <thead>\n",
              "    <tr>\n",
              "      <th id=\"T_4ab8f_level0_col0\" class=\"col_heading level0 col0\" >firstname</th>\n",
              "      <th id=\"T_4ab8f_level0_col1\" class=\"col_heading level0 col1\" >lastname</th>\n",
              "      <th id=\"T_4ab8f_level0_col2\" class=\"col_heading level0 col2\" >joindate</th>\n",
              "    </tr>\n",
              "  </thead>\n",
              "  <tbody>\n",
              "    <tr>\n",
              "      <td id=\"T_4ab8f_row0_col0\" class=\"data row0 col0\" >Madhuri</td>\n",
              "      <td id=\"T_4ab8f_row0_col1\" class=\"data row0 col1\" >Dikshit</td>\n",
              "      <td id=\"T_4ab8f_row0_col2\" class=\"data row0 col2\" >2002-04-04</td>\n",
              "    </tr>\n",
              "    <tr>\n",
              "      <td id=\"T_4ab8f_row1_col0\" class=\"data row1 col0\" >Shahrukh</td>\n",
              "      <td id=\"T_4ab8f_row1_col1\" class=\"data row1 col1\" >Khan</td>\n",
              "      <td id=\"T_4ab8f_row1_col2\" class=\"data row1 col2\" >2004-01-03</td>\n",
              "    </tr>\n",
              "    <tr>\n",
              "      <td id=\"T_4ab8f_row2_col0\" class=\"data row2 col0\" >Virender</td>\n",
              "      <td id=\"T_4ab8f_row2_col1\" class=\"data row2 col1\" >Sehwag</td>\n",
              "      <td id=\"T_4ab8f_row2_col2\" class=\"data row2 col2\" >2005-01-02</td>\n",
              "    </tr>\n",
              "  </tbody>\n",
              "</table>\n"
            ]
          },
          "metadata": {},
          "execution_count": 26
        }
      ]
    },
    {
      "cell_type": "code",
      "source": [
        "runSelect(\"select firstname, lastname, jobdesc, salary, deptid from empl where deptid = '10' order by salary desc\")"
      ],
      "metadata": {
        "colab": {
          "base_uri": "https://localhost:8080/",
          "height": 143
        },
        "id": "Iq_7jWr-lRlO",
        "outputId": "c0a3d0fd-727a-4210-f8a1-2127c0e14ffa"
      },
      "execution_count": 27,
      "outputs": [
        {
          "output_type": "execute_result",
          "data": {
            "text/plain": [
              "<pandas.io.formats.style.Styler at 0x7b7ea7d1add0>"
            ],
            "text/html": [
              "<style type=\"text/css\">\n",
              "</style>\n",
              "<table id=\"T_ded32\" class=\"dataframe\">\n",
              "  <thead>\n",
              "    <tr>\n",
              "      <th id=\"T_ded32_level0_col0\" class=\"col_heading level0 col0\" >firstname</th>\n",
              "      <th id=\"T_ded32_level0_col1\" class=\"col_heading level0 col1\" >lastname</th>\n",
              "      <th id=\"T_ded32_level0_col2\" class=\"col_heading level0 col2\" >jobdesc</th>\n",
              "      <th id=\"T_ded32_level0_col3\" class=\"col_heading level0 col3\" >salary</th>\n",
              "      <th id=\"T_ded32_level0_col4\" class=\"col_heading level0 col4\" >deptid</th>\n",
              "    </tr>\n",
              "  </thead>\n",
              "  <tbody>\n",
              "    <tr>\n",
              "      <td id=\"T_ded32_row0_col0\" class=\"data row0 col0\" >Rekha</td>\n",
              "      <td id=\"T_ded32_row0_col1\" class=\"data row0 col1\" >Ganesan</td>\n",
              "      <td id=\"T_ded32_row0_col2\" class=\"data row0 col2\" >Director</td>\n",
              "      <td id=\"T_ded32_row0_col3\" class=\"data row0 col3\" >60000</td>\n",
              "      <td id=\"T_ded32_row0_col4\" class=\"data row0 col4\" >10</td>\n",
              "    </tr>\n",
              "    <tr>\n",
              "      <td id=\"T_ded32_row1_col0\" class=\"data row1 col0\" >Amitabh</td>\n",
              "      <td id=\"T_ded32_row1_col1\" class=\"data row1 col1\" >Bacchan</td>\n",
              "      <td id=\"T_ded32_row1_col2\" class=\"data row1 col2\" >Executive</td>\n",
              "      <td id=\"T_ded32_row1_col3\" class=\"data row1 col3\" >50000</td>\n",
              "      <td id=\"T_ded32_row1_col4\" class=\"data row1 col4\" >10</td>\n",
              "    </tr>\n",
              "    <tr>\n",
              "      <td id=\"T_ded32_row2_col0\" class=\"data row2 col0\" >Narayan</td>\n",
              "      <td id=\"T_ded32_row2_col1\" class=\"data row2 col1\" >Karthikeyan</td>\n",
              "      <td id=\"T_ded32_row2_col2\" class=\"data row2 col2\" >Secretary</td>\n",
              "      <td id=\"T_ded32_row2_col3\" class=\"data row2 col3\" >40000</td>\n",
              "      <td id=\"T_ded32_row2_col4\" class=\"data row2 col4\" >10</td>\n",
              "    </tr>\n",
              "  </tbody>\n",
              "</table>\n"
            ]
          },
          "metadata": {},
          "execution_count": 27
        }
      ]
    },
    {
      "cell_type": "markdown",
      "source": [
        "## Logical AND | OR"
      ],
      "metadata": {
        "id": "-JDEmZtsm0o1"
      }
    },
    {
      "cell_type": "code",
      "source": [
        "runSelect(\"select lastname, jobdesc, salary, deptid from empl where deptid = '20'\")"
      ],
      "metadata": {
        "colab": {
          "base_uri": "https://localhost:8080/",
          "height": 143
        },
        "id": "rli0DBhIm54M",
        "outputId": "83e65525-a757-4959-d5a5-55eb5601f79c"
      },
      "execution_count": 28,
      "outputs": [
        {
          "output_type": "execute_result",
          "data": {
            "text/plain": [
              "<pandas.io.formats.style.Styler at 0x7b7ea7d1a650>"
            ],
            "text/html": [
              "<style type=\"text/css\">\n",
              "</style>\n",
              "<table id=\"T_444a3\" class=\"dataframe\">\n",
              "  <thead>\n",
              "    <tr>\n",
              "      <th id=\"T_444a3_level0_col0\" class=\"col_heading level0 col0\" >lastname</th>\n",
              "      <th id=\"T_444a3_level0_col1\" class=\"col_heading level0 col1\" >jobdesc</th>\n",
              "      <th id=\"T_444a3_level0_col2\" class=\"col_heading level0 col2\" >salary</th>\n",
              "      <th id=\"T_444a3_level0_col3\" class=\"col_heading level0 col3\" >deptid</th>\n",
              "    </tr>\n",
              "  </thead>\n",
              "  <tbody>\n",
              "    <tr>\n",
              "      <td id=\"T_444a3_row0_col0\" class=\"data row0 col0\" >Dikshit</td>\n",
              "      <td id=\"T_444a3_row0_col1\" class=\"data row0 col1\" >Clerk</td>\n",
              "      <td id=\"T_444a3_row0_col2\" class=\"data row0 col2\" >10000</td>\n",
              "      <td id=\"T_444a3_row0_col3\" class=\"data row0 col3\" >20</td>\n",
              "    </tr>\n",
              "    <tr>\n",
              "      <td id=\"T_444a3_row1_col0\" class=\"data row1 col0\" >Khan</td>\n",
              "      <td id=\"T_444a3_row1_col1\" class=\"data row1 col1\" >Manager</td>\n",
              "      <td id=\"T_444a3_row1_col2\" class=\"data row1 col2\" >30000</td>\n",
              "      <td id=\"T_444a3_row1_col3\" class=\"data row1 col3\" >20</td>\n",
              "    </tr>\n",
              "    <tr>\n",
              "      <td id=\"T_444a3_row2_col0\" class=\"data row2 col0\" >Sehwag</td>\n",
              "      <td id=\"T_444a3_row2_col1\" class=\"data row2 col1\" >Cus_Rep</td>\n",
              "      <td id=\"T_444a3_row2_col2\" class=\"data row2 col2\" >15000</td>\n",
              "      <td id=\"T_444a3_row2_col3\" class=\"data row2 col3\" >20</td>\n",
              "    </tr>\n",
              "  </tbody>\n",
              "</table>\n"
            ]
          },
          "metadata": {},
          "execution_count": 28
        }
      ]
    },
    {
      "cell_type": "code",
      "source": [
        "runSelect(\"select lastname, jobdesc, salary, deptid from empl where deptid = '20' and salary > 10000\")"
      ],
      "metadata": {
        "colab": {
          "base_uri": "https://localhost:8080/",
          "height": 112
        },
        "id": "wHIJoUGqnuwa",
        "outputId": "fcee268f-454f-456a-9242-73eec8625897"
      },
      "execution_count": 29,
      "outputs": [
        {
          "output_type": "execute_result",
          "data": {
            "text/plain": [
              "<pandas.io.formats.style.Styler at 0x7b7ea7d1ad10>"
            ],
            "text/html": [
              "<style type=\"text/css\">\n",
              "</style>\n",
              "<table id=\"T_3d8d5\" class=\"dataframe\">\n",
              "  <thead>\n",
              "    <tr>\n",
              "      <th id=\"T_3d8d5_level0_col0\" class=\"col_heading level0 col0\" >lastname</th>\n",
              "      <th id=\"T_3d8d5_level0_col1\" class=\"col_heading level0 col1\" >jobdesc</th>\n",
              "      <th id=\"T_3d8d5_level0_col2\" class=\"col_heading level0 col2\" >salary</th>\n",
              "      <th id=\"T_3d8d5_level0_col3\" class=\"col_heading level0 col3\" >deptid</th>\n",
              "    </tr>\n",
              "  </thead>\n",
              "  <tbody>\n",
              "    <tr>\n",
              "      <td id=\"T_3d8d5_row0_col0\" class=\"data row0 col0\" >Khan</td>\n",
              "      <td id=\"T_3d8d5_row0_col1\" class=\"data row0 col1\" >Manager</td>\n",
              "      <td id=\"T_3d8d5_row0_col2\" class=\"data row0 col2\" >30000</td>\n",
              "      <td id=\"T_3d8d5_row0_col3\" class=\"data row0 col3\" >20</td>\n",
              "    </tr>\n",
              "    <tr>\n",
              "      <td id=\"T_3d8d5_row1_col0\" class=\"data row1 col0\" >Sehwag</td>\n",
              "      <td id=\"T_3d8d5_row1_col1\" class=\"data row1 col1\" >Cus_Rep</td>\n",
              "      <td id=\"T_3d8d5_row1_col2\" class=\"data row1 col2\" >15000</td>\n",
              "      <td id=\"T_3d8d5_row1_col3\" class=\"data row1 col3\" >20</td>\n",
              "    </tr>\n",
              "  </tbody>\n",
              "</table>\n"
            ]
          },
          "metadata": {},
          "execution_count": 29
        }
      ]
    },
    {
      "cell_type": "code",
      "source": [
        "runSelect(\"select lastname, jobdesc, salary, deptid from empl where deptid = '20' and salary > 10000 and jobdesc = 'Clerk'\")"
      ],
      "metadata": {
        "colab": {
          "base_uri": "https://localhost:8080/"
        },
        "id": "fnB8p8-EnzH2",
        "outputId": "c6cb56d1-6dbd-4204-c586-811253c36c23"
      },
      "execution_count": 30,
      "outputs": [
        {
          "output_type": "stream",
          "name": "stdout",
          "text": [
            "no records found\n"
          ]
        }
      ]
    },
    {
      "cell_type": "code",
      "source": [
        "runSelect(\"select lastname, jobdesc, deptid from empl where deptid = '70'\")"
      ],
      "metadata": {
        "colab": {
          "base_uri": "https://localhost:8080/",
          "height": 81
        },
        "id": "uEKUIgOMqtLw",
        "outputId": "9d81ee2a-1005-4a25-d885-ebfc362645c5"
      },
      "execution_count": 31,
      "outputs": [
        {
          "output_type": "execute_result",
          "data": {
            "text/plain": [
              "<pandas.io.formats.style.Styler at 0x7b7ea7d367d0>"
            ],
            "text/html": [
              "<style type=\"text/css\">\n",
              "</style>\n",
              "<table id=\"T_2c21f\" class=\"dataframe\">\n",
              "  <thead>\n",
              "    <tr>\n",
              "      <th id=\"T_2c21f_level0_col0\" class=\"col_heading level0 col0\" >lastname</th>\n",
              "      <th id=\"T_2c21f_level0_col1\" class=\"col_heading level0 col1\" >jobdesc</th>\n",
              "      <th id=\"T_2c21f_level0_col2\" class=\"col_heading level0 col2\" >deptid</th>\n",
              "    </tr>\n",
              "  </thead>\n",
              "  <tbody>\n",
              "    <tr>\n",
              "      <td id=\"T_2c21f_row0_col0\" class=\"data row0 col0\" >Sunil</td>\n",
              "      <td id=\"T_2c21f_row0_col1\" class=\"data row0 col1\" >Dy Manager</td>\n",
              "      <td id=\"T_2c21f_row0_col2\" class=\"data row0 col2\" >70</td>\n",
              "    </tr>\n",
              "  </tbody>\n",
              "</table>\n"
            ]
          },
          "metadata": {},
          "execution_count": 31
        }
      ]
    },
    {
      "cell_type": "code",
      "source": [
        "runSelect(\"select lastname, jobdesc, deptid from empl where deptid = '70' or jobdesc like '%Manager'\")"
      ],
      "metadata": {
        "colab": {
          "base_uri": "https://localhost:8080/",
          "height": 175
        },
        "id": "Ne0eLRV3qyTn",
        "outputId": "b253dee6-32e9-4436-9335-4f01c89309d1"
      },
      "execution_count": 32,
      "outputs": [
        {
          "output_type": "execute_result",
          "data": {
            "text/plain": [
              "<pandas.io.formats.style.Styler at 0x7b7ea7d37040>"
            ],
            "text/html": [
              "<style type=\"text/css\">\n",
              "</style>\n",
              "<table id=\"T_b3f8f\" class=\"dataframe\">\n",
              "  <thead>\n",
              "    <tr>\n",
              "      <th id=\"T_b3f8f_level0_col0\" class=\"col_heading level0 col0\" >lastname</th>\n",
              "      <th id=\"T_b3f8f_level0_col1\" class=\"col_heading level0 col1\" >jobdesc</th>\n",
              "      <th id=\"T_b3f8f_level0_col2\" class=\"col_heading level0 col2\" >deptid</th>\n",
              "    </tr>\n",
              "  </thead>\n",
              "  <tbody>\n",
              "    <tr>\n",
              "      <td id=\"T_b3f8f_row0_col0\" class=\"data row0 col0\" >Mukherjee</td>\n",
              "      <td id=\"T_b3f8f_row0_col1\" class=\"data row0 col1\" >Manager</td>\n",
              "      <td id=\"T_b3f8f_row0_col2\" class=\"data row0 col2\" >40</td>\n",
              "    </tr>\n",
              "    <tr>\n",
              "      <td id=\"T_b3f8f_row1_col0\" class=\"data row1 col0\" >Khan</td>\n",
              "      <td id=\"T_b3f8f_row1_col1\" class=\"data row1 col1\" >Manager</td>\n",
              "      <td id=\"T_b3f8f_row1_col2\" class=\"data row1 col2\" >20</td>\n",
              "    </tr>\n",
              "    <tr>\n",
              "      <td id=\"T_b3f8f_row2_col0\" class=\"data row2 col0\" >Dravid</td>\n",
              "      <td id=\"T_b3f8f_row2_col1\" class=\"data row2 col1\" >Sr Manager</td>\n",
              "      <td id=\"T_b3f8f_row2_col2\" class=\"data row2 col2\" >30</td>\n",
              "    </tr>\n",
              "    <tr>\n",
              "      <td id=\"T_b3f8f_row3_col0\" class=\"data row3 col0\" >Sunil</td>\n",
              "      <td id=\"T_b3f8f_row3_col1\" class=\"data row3 col1\" >Dy Manager</td>\n",
              "      <td id=\"T_b3f8f_row3_col2\" class=\"data row3 col2\" >70</td>\n",
              "    </tr>\n",
              "  </tbody>\n",
              "</table>\n"
            ]
          },
          "metadata": {},
          "execution_count": 32
        }
      ]
    },
    {
      "cell_type": "code",
      "source": [
        "runSelect(\"select lastname, jobdesc, deptid from empl where deptid = '70' or jobdesc like '%Manager' or lastname = 'Dikshit'\")"
      ],
      "metadata": {
        "colab": {
          "base_uri": "https://localhost:8080/",
          "height": 206
        },
        "id": "aR3eNz7xq8Xo",
        "outputId": "880d706b-935a-4320-cb45-6e7bb242f6bf"
      },
      "execution_count": 33,
      "outputs": [
        {
          "output_type": "execute_result",
          "data": {
            "text/plain": [
              "<pandas.io.formats.style.Styler at 0x7b7ea7d37190>"
            ],
            "text/html": [
              "<style type=\"text/css\">\n",
              "</style>\n",
              "<table id=\"T_a9586\" class=\"dataframe\">\n",
              "  <thead>\n",
              "    <tr>\n",
              "      <th id=\"T_a9586_level0_col0\" class=\"col_heading level0 col0\" >lastname</th>\n",
              "      <th id=\"T_a9586_level0_col1\" class=\"col_heading level0 col1\" >jobdesc</th>\n",
              "      <th id=\"T_a9586_level0_col2\" class=\"col_heading level0 col2\" >deptid</th>\n",
              "    </tr>\n",
              "  </thead>\n",
              "  <tbody>\n",
              "    <tr>\n",
              "      <td id=\"T_a9586_row0_col0\" class=\"data row0 col0\" >Mukherjee</td>\n",
              "      <td id=\"T_a9586_row0_col1\" class=\"data row0 col1\" >Manager</td>\n",
              "      <td id=\"T_a9586_row0_col2\" class=\"data row0 col2\" >40</td>\n",
              "    </tr>\n",
              "    <tr>\n",
              "      <td id=\"T_a9586_row1_col0\" class=\"data row1 col0\" >Dikshit</td>\n",
              "      <td id=\"T_a9586_row1_col1\" class=\"data row1 col1\" >Clerk</td>\n",
              "      <td id=\"T_a9586_row1_col2\" class=\"data row1 col2\" >20</td>\n",
              "    </tr>\n",
              "    <tr>\n",
              "      <td id=\"T_a9586_row2_col0\" class=\"data row2 col0\" >Khan</td>\n",
              "      <td id=\"T_a9586_row2_col1\" class=\"data row2 col1\" >Manager</td>\n",
              "      <td id=\"T_a9586_row2_col2\" class=\"data row2 col2\" >20</td>\n",
              "    </tr>\n",
              "    <tr>\n",
              "      <td id=\"T_a9586_row3_col0\" class=\"data row3 col0\" >Dravid</td>\n",
              "      <td id=\"T_a9586_row3_col1\" class=\"data row3 col1\" >Sr Manager</td>\n",
              "      <td id=\"T_a9586_row3_col2\" class=\"data row3 col2\" >30</td>\n",
              "    </tr>\n",
              "    <tr>\n",
              "      <td id=\"T_a9586_row4_col0\" class=\"data row4 col0\" >Sunil</td>\n",
              "      <td id=\"T_a9586_row4_col1\" class=\"data row4 col1\" >Dy Manager</td>\n",
              "      <td id=\"T_a9586_row4_col2\" class=\"data row4 col2\" >70</td>\n",
              "    </tr>\n",
              "  </tbody>\n",
              "</table>\n"
            ]
          },
          "metadata": {},
          "execution_count": 33
        }
      ]
    },
    {
      "cell_type": "code",
      "source": [
        "runSelect(\"select lastname, jobdesc, salary from empl where jobdesc = 'Cus_Rep' or jobdesc = 'Clerk' and salary < 16000\")"
      ],
      "metadata": {
        "colab": {
          "base_uri": "https://localhost:8080/",
          "height": 238
        },
        "id": "Ov0HErC0txm4",
        "outputId": "bc717fc5-286c-4c39-aaa3-a8892e4f0f51"
      },
      "execution_count": 34,
      "outputs": [
        {
          "output_type": "execute_result",
          "data": {
            "text/plain": [
              "<pandas.io.formats.style.Styler at 0x7b7ea7d345e0>"
            ],
            "text/html": [
              "<style type=\"text/css\">\n",
              "</style>\n",
              "<table id=\"T_81c50\" class=\"dataframe\">\n",
              "  <thead>\n",
              "    <tr>\n",
              "      <th id=\"T_81c50_level0_col0\" class=\"col_heading level0 col0\" >lastname</th>\n",
              "      <th id=\"T_81c50_level0_col1\" class=\"col_heading level0 col1\" >jobdesc</th>\n",
              "      <th id=\"T_81c50_level0_col2\" class=\"col_heading level0 col2\" >salary</th>\n",
              "    </tr>\n",
              "  </thead>\n",
              "  <tbody>\n",
              "    <tr>\n",
              "      <td id=\"T_81c50_row0_col0\" class=\"data row0 col0\" >Dikshit</td>\n",
              "      <td id=\"T_81c50_row0_col1\" class=\"data row0 col1\" >Clerk</td>\n",
              "      <td id=\"T_81c50_row0_col2\" class=\"data row0 col2\" >10000</td>\n",
              "    </tr>\n",
              "    <tr>\n",
              "      <td id=\"T_81c50_row1_col0\" class=\"data row1 col0\" >Sehwag</td>\n",
              "      <td id=\"T_81c50_row1_col1\" class=\"data row1 col1\" >Cus_Rep</td>\n",
              "      <td id=\"T_81c50_row1_col2\" class=\"data row1 col2\" >15000</td>\n",
              "    </tr>\n",
              "    <tr>\n",
              "      <td id=\"T_81c50_row2_col0\" class=\"data row2 col0\" >Dhoni</td>\n",
              "      <td id=\"T_81c50_row2_col1\" class=\"data row2 col1\" >Clerk</td>\n",
              "      <td id=\"T_81c50_row2_col2\" class=\"data row2 col2\" >9000</td>\n",
              "    </tr>\n",
              "    <tr>\n",
              "      <td id=\"T_81c50_row3_col0\" class=\"data row3 col0\" >Dalmia</td>\n",
              "      <td id=\"T_81c50_row3_col1\" class=\"data row3 col1\" >Clerk</td>\n",
              "      <td id=\"T_81c50_row3_col2\" class=\"data row3 col2\" >12000</td>\n",
              "    </tr>\n",
              "    <tr>\n",
              "      <td id=\"T_81c50_row4_col0\" class=\"data row4 col0\" >Ganguly</td>\n",
              "      <td id=\"T_81c50_row4_col1\" class=\"data row4 col1\" >Cus_Rep</td>\n",
              "      <td id=\"T_81c50_row4_col2\" class=\"data row4 col2\" >20000</td>\n",
              "    </tr>\n",
              "    <tr>\n",
              "      <td id=\"T_81c50_row5_col0\" class=\"data row5 col0\" >Mirza</td>\n",
              "      <td id=\"T_81c50_row5_col1\" class=\"data row5 col1\" >Cus_Rep</td>\n",
              "      <td id=\"T_81c50_row5_col2\" class=\"data row5 col2\" >25000</td>\n",
              "    </tr>\n",
              "  </tbody>\n",
              "</table>\n"
            ]
          },
          "metadata": {},
          "execution_count": 34
        }
      ]
    },
    {
      "cell_type": "code",
      "source": [
        "runSelect(\"select lastname, jobdesc, salary from empl where (jobdesc = 'Cus_Rep' or jobdesc = 'Clerk') and salary < 16000\")"
      ],
      "metadata": {
        "colab": {
          "base_uri": "https://localhost:8080/",
          "height": 175
        },
        "id": "g7hbzjdxuOt6",
        "outputId": "f50a2274-b250-4e63-fbe7-6f5cd59ebc76"
      },
      "execution_count": 35,
      "outputs": [
        {
          "output_type": "execute_result",
          "data": {
            "text/plain": [
              "<pandas.io.formats.style.Styler at 0x7b7ea7d36e00>"
            ],
            "text/html": [
              "<style type=\"text/css\">\n",
              "</style>\n",
              "<table id=\"T_9888b\" class=\"dataframe\">\n",
              "  <thead>\n",
              "    <tr>\n",
              "      <th id=\"T_9888b_level0_col0\" class=\"col_heading level0 col0\" >lastname</th>\n",
              "      <th id=\"T_9888b_level0_col1\" class=\"col_heading level0 col1\" >jobdesc</th>\n",
              "      <th id=\"T_9888b_level0_col2\" class=\"col_heading level0 col2\" >salary</th>\n",
              "    </tr>\n",
              "  </thead>\n",
              "  <tbody>\n",
              "    <tr>\n",
              "      <td id=\"T_9888b_row0_col0\" class=\"data row0 col0\" >Dikshit</td>\n",
              "      <td id=\"T_9888b_row0_col1\" class=\"data row0 col1\" >Clerk</td>\n",
              "      <td id=\"T_9888b_row0_col2\" class=\"data row0 col2\" >10000</td>\n",
              "    </tr>\n",
              "    <tr>\n",
              "      <td id=\"T_9888b_row1_col0\" class=\"data row1 col0\" >Sehwag</td>\n",
              "      <td id=\"T_9888b_row1_col1\" class=\"data row1 col1\" >Cus_Rep</td>\n",
              "      <td id=\"T_9888b_row1_col2\" class=\"data row1 col2\" >15000</td>\n",
              "    </tr>\n",
              "    <tr>\n",
              "      <td id=\"T_9888b_row2_col0\" class=\"data row2 col0\" >Dhoni</td>\n",
              "      <td id=\"T_9888b_row2_col1\" class=\"data row2 col1\" >Clerk</td>\n",
              "      <td id=\"T_9888b_row2_col2\" class=\"data row2 col2\" >9000</td>\n",
              "    </tr>\n",
              "    <tr>\n",
              "      <td id=\"T_9888b_row3_col0\" class=\"data row3 col0\" >Dalmia</td>\n",
              "      <td id=\"T_9888b_row3_col1\" class=\"data row3 col1\" >Clerk</td>\n",
              "      <td id=\"T_9888b_row3_col2\" class=\"data row3 col2\" >12000</td>\n",
              "    </tr>\n",
              "  </tbody>\n",
              "</table>\n"
            ]
          },
          "metadata": {},
          "execution_count": 35
        }
      ]
    },
    {
      "cell_type": "markdown",
      "source": [
        "# Single Row Functions"
      ],
      "metadata": {
        "id": "ND-8LYQcxsG2"
      }
    },
    {
      "cell_type": "code",
      "source": [
        "runSelect(\"select lastname, deptid, salary, comm, salary+salary*comm payout from empl where deptid = '20'\")"
      ],
      "metadata": {
        "colab": {
          "base_uri": "https://localhost:8080/",
          "height": 143
        },
        "id": "s71weE_hyDwf",
        "outputId": "d5ceaf44-94b7-4d20-9c9b-73cfc16588d5"
      },
      "execution_count": 36,
      "outputs": [
        {
          "output_type": "execute_result",
          "data": {
            "text/plain": [
              "<pandas.io.formats.style.Styler at 0x7b7ea7d34d00>"
            ],
            "text/html": [
              "<style type=\"text/css\">\n",
              "</style>\n",
              "<table id=\"T_8ad0b\" class=\"dataframe\">\n",
              "  <thead>\n",
              "    <tr>\n",
              "      <th id=\"T_8ad0b_level0_col0\" class=\"col_heading level0 col0\" >lastname</th>\n",
              "      <th id=\"T_8ad0b_level0_col1\" class=\"col_heading level0 col1\" >deptid</th>\n",
              "      <th id=\"T_8ad0b_level0_col2\" class=\"col_heading level0 col2\" >salary</th>\n",
              "      <th id=\"T_8ad0b_level0_col3\" class=\"col_heading level0 col3\" >comm</th>\n",
              "      <th id=\"T_8ad0b_level0_col4\" class=\"col_heading level0 col4\" >payout</th>\n",
              "    </tr>\n",
              "  </thead>\n",
              "  <tbody>\n",
              "    <tr>\n",
              "      <td id=\"T_8ad0b_row0_col0\" class=\"data row0 col0\" >Dikshit</td>\n",
              "      <td id=\"T_8ad0b_row0_col1\" class=\"data row0 col1\" >20</td>\n",
              "      <td id=\"T_8ad0b_row0_col2\" class=\"data row0 col2\" >10000</td>\n",
              "      <td id=\"T_8ad0b_row0_col3\" class=\"data row0 col3\" >0.02</td>\n",
              "      <td id=\"T_8ad0b_row0_col4\" class=\"data row0 col4\" >10200.00</td>\n",
              "    </tr>\n",
              "    <tr>\n",
              "      <td id=\"T_8ad0b_row1_col0\" class=\"data row1 col0\" >Khan</td>\n",
              "      <td id=\"T_8ad0b_row1_col1\" class=\"data row1 col1\" >20</td>\n",
              "      <td id=\"T_8ad0b_row1_col2\" class=\"data row1 col2\" >30000</td>\n",
              "      <td id=\"T_8ad0b_row1_col3\" class=\"data row1 col3\" >0.07</td>\n",
              "      <td id=\"T_8ad0b_row1_col4\" class=\"data row1 col4\" >32100.00</td>\n",
              "    </tr>\n",
              "    <tr>\n",
              "      <td id=\"T_8ad0b_row2_col0\" class=\"data row2 col0\" >Sehwag</td>\n",
              "      <td id=\"T_8ad0b_row2_col1\" class=\"data row2 col1\" >20</td>\n",
              "      <td id=\"T_8ad0b_row2_col2\" class=\"data row2 col2\" >15000</td>\n",
              "      <td id=\"T_8ad0b_row2_col3\" class=\"data row2 col3\" >0.05</td>\n",
              "      <td id=\"T_8ad0b_row2_col4\" class=\"data row2 col4\" >15750.00</td>\n",
              "    </tr>\n",
              "  </tbody>\n",
              "</table>\n"
            ]
          },
          "metadata": {},
          "execution_count": 36
        }
      ]
    },
    {
      "cell_type": "code",
      "source": [
        "runSelect(\"select lastname, firstname, deptid, substring(firstname,1,3) nick from empl where deptid = '20'\")"
      ],
      "metadata": {
        "colab": {
          "base_uri": "https://localhost:8080/",
          "height": 143
        },
        "id": "I3rkoZrYyb_P",
        "outputId": "4753afca-d619-4931-e56f-072664de9771"
      },
      "execution_count": 37,
      "outputs": [
        {
          "output_type": "execute_result",
          "data": {
            "text/plain": [
              "<pandas.io.formats.style.Styler at 0x7b7ea7d37520>"
            ],
            "text/html": [
              "<style type=\"text/css\">\n",
              "</style>\n",
              "<table id=\"T_c5f1a\" class=\"dataframe\">\n",
              "  <thead>\n",
              "    <tr>\n",
              "      <th id=\"T_c5f1a_level0_col0\" class=\"col_heading level0 col0\" >lastname</th>\n",
              "      <th id=\"T_c5f1a_level0_col1\" class=\"col_heading level0 col1\" >firstname</th>\n",
              "      <th id=\"T_c5f1a_level0_col2\" class=\"col_heading level0 col2\" >deptid</th>\n",
              "      <th id=\"T_c5f1a_level0_col3\" class=\"col_heading level0 col3\" >nick</th>\n",
              "    </tr>\n",
              "  </thead>\n",
              "  <tbody>\n",
              "    <tr>\n",
              "      <td id=\"T_c5f1a_row0_col0\" class=\"data row0 col0\" >Dikshit</td>\n",
              "      <td id=\"T_c5f1a_row0_col1\" class=\"data row0 col1\" >Madhuri</td>\n",
              "      <td id=\"T_c5f1a_row0_col2\" class=\"data row0 col2\" >20</td>\n",
              "      <td id=\"T_c5f1a_row0_col3\" class=\"data row0 col3\" >Mad</td>\n",
              "    </tr>\n",
              "    <tr>\n",
              "      <td id=\"T_c5f1a_row1_col0\" class=\"data row1 col0\" >Khan</td>\n",
              "      <td id=\"T_c5f1a_row1_col1\" class=\"data row1 col1\" >Shahrukh</td>\n",
              "      <td id=\"T_c5f1a_row1_col2\" class=\"data row1 col2\" >20</td>\n",
              "      <td id=\"T_c5f1a_row1_col3\" class=\"data row1 col3\" >Sha</td>\n",
              "    </tr>\n",
              "    <tr>\n",
              "      <td id=\"T_c5f1a_row2_col0\" class=\"data row2 col0\" >Sehwag</td>\n",
              "      <td id=\"T_c5f1a_row2_col1\" class=\"data row2 col1\" >Virender</td>\n",
              "      <td id=\"T_c5f1a_row2_col2\" class=\"data row2 col2\" >20</td>\n",
              "      <td id=\"T_c5f1a_row2_col3\" class=\"data row2 col3\" >Vir</td>\n",
              "    </tr>\n",
              "  </tbody>\n",
              "</table>\n"
            ]
          },
          "metadata": {},
          "execution_count": 37
        }
      ]
    },
    {
      "cell_type": "code",
      "source": [
        "runSelect(\"select lastname, firstname, deptid, concat('\\\"',substring(firstname,2,3),'\\\" ',lastname) nick from empl where deptid = '20'\")"
      ],
      "metadata": {
        "colab": {
          "base_uri": "https://localhost:8080/",
          "height": 143
        },
        "id": "xNQl1KpSzIQc",
        "outputId": "8f5ba5a5-6625-48c7-c21e-92cc7c5afe7f"
      },
      "execution_count": 38,
      "outputs": [
        {
          "output_type": "execute_result",
          "data": {
            "text/plain": [
              "<pandas.io.formats.style.Styler at 0x7b7ea7d35d20>"
            ],
            "text/html": [
              "<style type=\"text/css\">\n",
              "</style>\n",
              "<table id=\"T_99fee\" class=\"dataframe\">\n",
              "  <thead>\n",
              "    <tr>\n",
              "      <th id=\"T_99fee_level0_col0\" class=\"col_heading level0 col0\" >lastname</th>\n",
              "      <th id=\"T_99fee_level0_col1\" class=\"col_heading level0 col1\" >firstname</th>\n",
              "      <th id=\"T_99fee_level0_col2\" class=\"col_heading level0 col2\" >deptid</th>\n",
              "      <th id=\"T_99fee_level0_col3\" class=\"col_heading level0 col3\" >nick</th>\n",
              "    </tr>\n",
              "  </thead>\n",
              "  <tbody>\n",
              "    <tr>\n",
              "      <td id=\"T_99fee_row0_col0\" class=\"data row0 col0\" >Dikshit</td>\n",
              "      <td id=\"T_99fee_row0_col1\" class=\"data row0 col1\" >Madhuri</td>\n",
              "      <td id=\"T_99fee_row0_col2\" class=\"data row0 col2\" >20</td>\n",
              "      <td id=\"T_99fee_row0_col3\" class=\"data row0 col3\" >\"adh\" Dikshit</td>\n",
              "    </tr>\n",
              "    <tr>\n",
              "      <td id=\"T_99fee_row1_col0\" class=\"data row1 col0\" >Khan</td>\n",
              "      <td id=\"T_99fee_row1_col1\" class=\"data row1 col1\" >Shahrukh</td>\n",
              "      <td id=\"T_99fee_row1_col2\" class=\"data row1 col2\" >20</td>\n",
              "      <td id=\"T_99fee_row1_col3\" class=\"data row1 col3\" >\"hah\" Khan</td>\n",
              "    </tr>\n",
              "    <tr>\n",
              "      <td id=\"T_99fee_row2_col0\" class=\"data row2 col0\" >Sehwag</td>\n",
              "      <td id=\"T_99fee_row2_col1\" class=\"data row2 col1\" >Virender</td>\n",
              "      <td id=\"T_99fee_row2_col2\" class=\"data row2 col2\" >20</td>\n",
              "      <td id=\"T_99fee_row2_col3\" class=\"data row2 col3\" >\"ire\" Sehwag</td>\n",
              "    </tr>\n",
              "  </tbody>\n",
              "</table>\n"
            ]
          },
          "metadata": {},
          "execution_count": 38
        }
      ]
    },
    {
      "cell_type": "code",
      "source": [
        "runSelect(\"select LastName, Current_Date,JoinDate, to_char(JoinDate,'Day') JoinDay, to_char(JoinDate,'DD-mon-YY') JoinDate2, \\\n",
        "Current_Date-JoinDate DaysSince from Empl\")\n",
        "\n",
        "#https://blog.quest.com/exploring-postgres-date-formats-and-their-different-functions/\n"
      ],
      "metadata": {
        "id": "37Rjgkxz-BP0",
        "outputId": "3932cff3-db76-4e71-c296-a1f295c9ed32",
        "colab": {
          "base_uri": "https://localhost:8080/",
          "height": 457
        }
      },
      "execution_count": 39,
      "outputs": [
        {
          "output_type": "execute_result",
          "data": {
            "text/plain": [
              "<pandas.io.formats.style.Styler at 0x7b7ea7d36440>"
            ],
            "text/html": [
              "<style type=\"text/css\">\n",
              "</style>\n",
              "<table id=\"T_a2713\" class=\"dataframe\">\n",
              "  <thead>\n",
              "    <tr>\n",
              "      <th id=\"T_a2713_level0_col0\" class=\"col_heading level0 col0\" >lastname</th>\n",
              "      <th id=\"T_a2713_level0_col1\" class=\"col_heading level0 col1\" >current_date</th>\n",
              "      <th id=\"T_a2713_level0_col2\" class=\"col_heading level0 col2\" >joindate</th>\n",
              "      <th id=\"T_a2713_level0_col3\" class=\"col_heading level0 col3\" >joinday</th>\n",
              "      <th id=\"T_a2713_level0_col4\" class=\"col_heading level0 col4\" >joindate2</th>\n",
              "      <th id=\"T_a2713_level0_col5\" class=\"col_heading level0 col5\" >dayssince</th>\n",
              "    </tr>\n",
              "  </thead>\n",
              "  <tbody>\n",
              "    <tr>\n",
              "      <td id=\"T_a2713_row0_col0\" class=\"data row0 col0\" >Bacchan</td>\n",
              "      <td id=\"T_a2713_row0_col1\" class=\"data row0 col1\" >2024-01-15</td>\n",
              "      <td id=\"T_a2713_row0_col2\" class=\"data row0 col2\" >2003-03-10</td>\n",
              "      <td id=\"T_a2713_row0_col3\" class=\"data row0 col3\" >Monday   </td>\n",
              "      <td id=\"T_a2713_row0_col4\" class=\"data row0 col4\" >10-mar-03</td>\n",
              "      <td id=\"T_a2713_row0_col5\" class=\"data row0 col5\" >7616</td>\n",
              "    </tr>\n",
              "    <tr>\n",
              "      <td id=\"T_a2713_row1_col0\" class=\"data row1 col0\" >Mukherjee</td>\n",
              "      <td id=\"T_a2713_row1_col1\" class=\"data row1 col1\" >2024-01-15</td>\n",
              "      <td id=\"T_a2713_row1_col2\" class=\"data row1 col2\" >2005-05-04</td>\n",
              "      <td id=\"T_a2713_row1_col3\" class=\"data row1 col3\" >Wednesday</td>\n",
              "      <td id=\"T_a2713_row1_col4\" class=\"data row1 col4\" >04-may-05</td>\n",
              "      <td id=\"T_a2713_row1_col5\" class=\"data row1 col5\" >6830</td>\n",
              "    </tr>\n",
              "    <tr>\n",
              "      <td id=\"T_a2713_row2_col0\" class=\"data row2 col0\" >Dikshit</td>\n",
              "      <td id=\"T_a2713_row2_col1\" class=\"data row2 col1\" >2024-01-15</td>\n",
              "      <td id=\"T_a2713_row2_col2\" class=\"data row2 col2\" >2002-04-04</td>\n",
              "      <td id=\"T_a2713_row2_col3\" class=\"data row2 col3\" >Thursday </td>\n",
              "      <td id=\"T_a2713_row2_col4\" class=\"data row2 col4\" >04-apr-02</td>\n",
              "      <td id=\"T_a2713_row2_col5\" class=\"data row2 col5\" >7956</td>\n",
              "    </tr>\n",
              "    <tr>\n",
              "      <td id=\"T_a2713_row3_col0\" class=\"data row3 col0\" >Khan</td>\n",
              "      <td id=\"T_a2713_row3_col1\" class=\"data row3 col1\" >2024-01-15</td>\n",
              "      <td id=\"T_a2713_row3_col2\" class=\"data row3 col2\" >2004-01-03</td>\n",
              "      <td id=\"T_a2713_row3_col3\" class=\"data row3 col3\" >Saturday </td>\n",
              "      <td id=\"T_a2713_row3_col4\" class=\"data row3 col4\" >03-jan-04</td>\n",
              "      <td id=\"T_a2713_row3_col5\" class=\"data row3 col5\" >7317</td>\n",
              "    </tr>\n",
              "    <tr>\n",
              "      <td id=\"T_a2713_row4_col0\" class=\"data row4 col0\" >Sehwag</td>\n",
              "      <td id=\"T_a2713_row4_col1\" class=\"data row4 col1\" >2024-01-15</td>\n",
              "      <td id=\"T_a2713_row4_col2\" class=\"data row4 col2\" >2005-01-02</td>\n",
              "      <td id=\"T_a2713_row4_col3\" class=\"data row4 col3\" >Sunday   </td>\n",
              "      <td id=\"T_a2713_row4_col4\" class=\"data row4 col4\" >02-jan-05</td>\n",
              "      <td id=\"T_a2713_row4_col5\" class=\"data row4 col5\" >6952</td>\n",
              "    </tr>\n",
              "    <tr>\n",
              "      <td id=\"T_a2713_row5_col0\" class=\"data row5 col0\" >Dhoni</td>\n",
              "      <td id=\"T_a2713_row5_col1\" class=\"data row5 col1\" >2024-01-15</td>\n",
              "      <td id=\"T_a2713_row5_col2\" class=\"data row5 col2\" >2004-10-09</td>\n",
              "      <td id=\"T_a2713_row5_col3\" class=\"data row5 col3\" >Saturday </td>\n",
              "      <td id=\"T_a2713_row5_col4\" class=\"data row5 col4\" >09-oct-04</td>\n",
              "      <td id=\"T_a2713_row5_col5\" class=\"data row5 col5\" >7037</td>\n",
              "    </tr>\n",
              "    <tr>\n",
              "      <td id=\"T_a2713_row6_col0\" class=\"data row6 col0\" >Dravid</td>\n",
              "      <td id=\"T_a2713_row6_col1\" class=\"data row6 col1\" >2024-01-15</td>\n",
              "      <td id=\"T_a2713_row6_col2\" class=\"data row6 col2\" >2000-06-04</td>\n",
              "      <td id=\"T_a2713_row6_col3\" class=\"data row6 col3\" >Sunday   </td>\n",
              "      <td id=\"T_a2713_row6_col4\" class=\"data row6 col4\" >04-jun-00</td>\n",
              "      <td id=\"T_a2713_row6_col5\" class=\"data row6 col5\" >8625</td>\n",
              "    </tr>\n",
              "    <tr>\n",
              "      <td id=\"T_a2713_row7_col0\" class=\"data row7 col0\" >Dalmia</td>\n",
              "      <td id=\"T_a2713_row7_col1\" class=\"data row7 col1\" >2024-01-15</td>\n",
              "      <td id=\"T_a2713_row7_col2\" class=\"data row7 col2\" >2001-07-01</td>\n",
              "      <td id=\"T_a2713_row7_col3\" class=\"data row7 col3\" >Sunday   </td>\n",
              "      <td id=\"T_a2713_row7_col4\" class=\"data row7 col4\" >01-jul-01</td>\n",
              "      <td id=\"T_a2713_row7_col5\" class=\"data row7 col5\" >8233</td>\n",
              "    </tr>\n",
              "    <tr>\n",
              "      <td id=\"T_a2713_row8_col0\" class=\"data row8 col0\" >Ganguly</td>\n",
              "      <td id=\"T_a2713_row8_col1\" class=\"data row8 col1\" >2024-01-15</td>\n",
              "      <td id=\"T_a2713_row8_col2\" class=\"data row8 col2\" >2002-01-01</td>\n",
              "      <td id=\"T_a2713_row8_col3\" class=\"data row8 col3\" >Tuesday  </td>\n",
              "      <td id=\"T_a2713_row8_col4\" class=\"data row8 col4\" >01-jan-02</td>\n",
              "      <td id=\"T_a2713_row8_col5\" class=\"data row8 col5\" >8049</td>\n",
              "    </tr>\n",
              "    <tr>\n",
              "      <td id=\"T_a2713_row9_col0\" class=\"data row9 col0\" >Ganesan</td>\n",
              "      <td id=\"T_a2713_row9_col1\" class=\"data row9 col1\" >2024-01-15</td>\n",
              "      <td id=\"T_a2713_row9_col2\" class=\"data row9 col2\" >2002-10-10</td>\n",
              "      <td id=\"T_a2713_row9_col3\" class=\"data row9 col3\" >Thursday </td>\n",
              "      <td id=\"T_a2713_row9_col4\" class=\"data row9 col4\" >10-oct-02</td>\n",
              "      <td id=\"T_a2713_row9_col5\" class=\"data row9 col5\" >7767</td>\n",
              "    </tr>\n",
              "    <tr>\n",
              "      <td id=\"T_a2713_row10_col0\" class=\"data row10 col0\" >Karthikeyan</td>\n",
              "      <td id=\"T_a2713_row10_col1\" class=\"data row10 col1\" >2024-01-15</td>\n",
              "      <td id=\"T_a2713_row10_col2\" class=\"data row10 col2\" >2005-12-04</td>\n",
              "      <td id=\"T_a2713_row10_col3\" class=\"data row10 col3\" >Sunday   </td>\n",
              "      <td id=\"T_a2713_row10_col4\" class=\"data row10 col4\" >04-dec-05</td>\n",
              "      <td id=\"T_a2713_row10_col5\" class=\"data row10 col5\" >6616</td>\n",
              "    </tr>\n",
              "    <tr>\n",
              "      <td id=\"T_a2713_row11_col0\" class=\"data row11 col0\" >Sunil</td>\n",
              "      <td id=\"T_a2713_row11_col1\" class=\"data row11 col1\" >2024-01-15</td>\n",
              "      <td id=\"T_a2713_row11_col2\" class=\"data row11 col2\" >2006-12-07</td>\n",
              "      <td id=\"T_a2713_row11_col3\" class=\"data row11 col3\" >Thursday </td>\n",
              "      <td id=\"T_a2713_row11_col4\" class=\"data row11 col4\" >07-dec-06</td>\n",
              "      <td id=\"T_a2713_row11_col5\" class=\"data row11 col5\" >6248</td>\n",
              "    </tr>\n",
              "    <tr>\n",
              "      <td id=\"T_a2713_row12_col0\" class=\"data row12 col0\" >Mirza</td>\n",
              "      <td id=\"T_a2713_row12_col1\" class=\"data row12 col1\" >2024-01-15</td>\n",
              "      <td id=\"T_a2713_row12_col2\" class=\"data row12 col2\" >2001-11-19</td>\n",
              "      <td id=\"T_a2713_row12_col3\" class=\"data row12 col3\" >Monday   </td>\n",
              "      <td id=\"T_a2713_row12_col4\" class=\"data row12 col4\" >19-nov-01</td>\n",
              "      <td id=\"T_a2713_row12_col5\" class=\"data row12 col5\" >8092</td>\n",
              "    </tr>\n",
              "  </tbody>\n",
              "</table>\n"
            ]
          },
          "metadata": {},
          "execution_count": 39
        }
      ]
    },
    {
      "cell_type": "markdown",
      "source": [
        "# MultiRow Function | Group By | Having\n",
        "for more complex examples that demonstrate Grouping Sets, Cubes, Roll UP, Crosstabs and other OLAP related SQL see [this notebook](https://github.com/Praxis-QR/RDWH/blob/main/PostgreSQL_03B_SQL_Level2.ipynb)"
      ],
      "metadata": {
        "id": "ONgFWUTC2IPK"
      }
    },
    {
      "cell_type": "code",
      "source": [
        "runSelect(\"select sum(salary) Total_Salary from empl\")"
      ],
      "metadata": {
        "colab": {
          "base_uri": "https://localhost:8080/",
          "height": 81
        },
        "id": "7MnnzfJx2PSc",
        "outputId": "7c5fa350-ad80-424c-afc5-f305dc06d0fc"
      },
      "execution_count": 40,
      "outputs": [
        {
          "output_type": "execute_result",
          "data": {
            "text/plain": [
              "<pandas.io.formats.style.Styler at 0x7b7ea7d35720>"
            ],
            "text/html": [
              "<style type=\"text/css\">\n",
              "</style>\n",
              "<table id=\"T_ca5d9\" class=\"dataframe\">\n",
              "  <thead>\n",
              "    <tr>\n",
              "      <th id=\"T_ca5d9_level0_col0\" class=\"col_heading level0 col0\" >total_salary</th>\n",
              "    </tr>\n",
              "  </thead>\n",
              "  <tbody>\n",
              "    <tr>\n",
              "      <td id=\"T_ca5d9_row0_col0\" class=\"data row0 col0\" >376000</td>\n",
              "    </tr>\n",
              "  </tbody>\n",
              "</table>\n"
            ]
          },
          "metadata": {},
          "execution_count": 40
        }
      ]
    },
    {
      "cell_type": "code",
      "source": [
        "runSelect(\"select round(avg(salary),2) Average_Salary from empl\")"
      ],
      "metadata": {
        "colab": {
          "base_uri": "https://localhost:8080/",
          "height": 81
        },
        "id": "e3Avb-HL4QPD",
        "outputId": "7462c8f8-8bbe-4646-b69c-c787c6dac84d"
      },
      "execution_count": 41,
      "outputs": [
        {
          "output_type": "execute_result",
          "data": {
            "text/plain": [
              "<pandas.io.formats.style.Styler at 0x7b7ea7d37310>"
            ],
            "text/html": [
              "<style type=\"text/css\">\n",
              "</style>\n",
              "<table id=\"T_34cf4\" class=\"dataframe\">\n",
              "  <thead>\n",
              "    <tr>\n",
              "      <th id=\"T_34cf4_level0_col0\" class=\"col_heading level0 col0\" >average_salary</th>\n",
              "    </tr>\n",
              "  </thead>\n",
              "  <tbody>\n",
              "    <tr>\n",
              "      <td id=\"T_34cf4_row0_col0\" class=\"data row0 col0\" >28923.08</td>\n",
              "    </tr>\n",
              "  </tbody>\n",
              "</table>\n"
            ]
          },
          "metadata": {},
          "execution_count": 41
        }
      ]
    },
    {
      "cell_type": "code",
      "source": [
        "runSelect(\"select max(salary) Max_Salary from empl\")"
      ],
      "metadata": {
        "colab": {
          "base_uri": "https://localhost:8080/",
          "height": 81
        },
        "id": "Oe1qRQbI4gtY",
        "outputId": "6322404a-20da-4e74-9770-1c22e09f7d8f"
      },
      "execution_count": 42,
      "outputs": [
        {
          "output_type": "execute_result",
          "data": {
            "text/plain": [
              "<pandas.io.formats.style.Styler at 0x7b7ea7d36410>"
            ],
            "text/html": [
              "<style type=\"text/css\">\n",
              "</style>\n",
              "<table id=\"T_bc172\" class=\"dataframe\">\n",
              "  <thead>\n",
              "    <tr>\n",
              "      <th id=\"T_bc172_level0_col0\" class=\"col_heading level0 col0\" >max_salary</th>\n",
              "    </tr>\n",
              "  </thead>\n",
              "  <tbody>\n",
              "    <tr>\n",
              "      <td id=\"T_bc172_row0_col0\" class=\"data row0 col0\" >60000</td>\n",
              "    </tr>\n",
              "  </tbody>\n",
              "</table>\n"
            ]
          },
          "metadata": {},
          "execution_count": 42
        }
      ]
    },
    {
      "cell_type": "code",
      "source": [
        "runSelect(\"select deptid, sum(salary) Total, max(salary) Max from empl group by deptid\")"
      ],
      "metadata": {
        "colab": {
          "base_uri": "https://localhost:8080/",
          "height": 206
        },
        "id": "xpmGXSAX69iU",
        "outputId": "10215aba-b806-4f19-d5fb-cc2d14f82666"
      },
      "execution_count": 43,
      "outputs": [
        {
          "output_type": "execute_result",
          "data": {
            "text/plain": [
              "<pandas.io.formats.style.Styler at 0x7b7ea7d53fd0>"
            ],
            "text/html": [
              "<style type=\"text/css\">\n",
              "</style>\n",
              "<table id=\"T_bf6d8\" class=\"dataframe\">\n",
              "  <thead>\n",
              "    <tr>\n",
              "      <th id=\"T_bf6d8_level0_col0\" class=\"col_heading level0 col0\" >deptid</th>\n",
              "      <th id=\"T_bf6d8_level0_col1\" class=\"col_heading level0 col1\" >total</th>\n",
              "      <th id=\"T_bf6d8_level0_col2\" class=\"col_heading level0 col2\" >max</th>\n",
              "    </tr>\n",
              "  </thead>\n",
              "  <tbody>\n",
              "    <tr>\n",
              "      <td id=\"T_bf6d8_row0_col0\" class=\"data row0 col0\" >10</td>\n",
              "      <td id=\"T_bf6d8_row0_col1\" class=\"data row0 col1\" >150000</td>\n",
              "      <td id=\"T_bf6d8_row0_col2\" class=\"data row0 col2\" >60000</td>\n",
              "    </tr>\n",
              "    <tr>\n",
              "      <td id=\"T_bf6d8_row1_col0\" class=\"data row1 col0\" >40</td>\n",
              "      <td id=\"T_bf6d8_row1_col1\" class=\"data row1 col1\" >54000</td>\n",
              "      <td id=\"T_bf6d8_row1_col2\" class=\"data row1 col2\" >25000</td>\n",
              "    </tr>\n",
              "    <tr>\n",
              "      <td id=\"T_bf6d8_row2_col0\" class=\"data row2 col0\" >70</td>\n",
              "      <td id=\"T_bf6d8_row2_col1\" class=\"data row2 col1\" >40000</td>\n",
              "      <td id=\"T_bf6d8_row2_col2\" class=\"data row2 col2\" >40000</td>\n",
              "    </tr>\n",
              "    <tr>\n",
              "      <td id=\"T_bf6d8_row3_col0\" class=\"data row3 col0\" >20</td>\n",
              "      <td id=\"T_bf6d8_row3_col1\" class=\"data row3 col1\" >55000</td>\n",
              "      <td id=\"T_bf6d8_row3_col2\" class=\"data row3 col2\" >30000</td>\n",
              "    </tr>\n",
              "    <tr>\n",
              "      <td id=\"T_bf6d8_row4_col0\" class=\"data row4 col0\" >30</td>\n",
              "      <td id=\"T_bf6d8_row4_col1\" class=\"data row4 col1\" >77000</td>\n",
              "      <td id=\"T_bf6d8_row4_col2\" class=\"data row4 col2\" >40000</td>\n",
              "    </tr>\n",
              "  </tbody>\n",
              "</table>\n"
            ]
          },
          "metadata": {},
          "execution_count": 43
        }
      ]
    },
    {
      "cell_type": "code",
      "source": [
        "runSelect(\"select deptid, sum(salary) Total, max(salary) Max from empl group by deptid having sum(salary) > 50000\")"
      ],
      "metadata": {
        "colab": {
          "base_uri": "https://localhost:8080/",
          "height": 175
        },
        "id": "AdNDutZl7LCF",
        "outputId": "fdd9d0e5-1ed6-4c14-cd61-5d5ffa773720"
      },
      "execution_count": 44,
      "outputs": [
        {
          "output_type": "execute_result",
          "data": {
            "text/plain": [
              "<pandas.io.formats.style.Styler at 0x7b7ea7d510c0>"
            ],
            "text/html": [
              "<style type=\"text/css\">\n",
              "</style>\n",
              "<table id=\"T_999ce\" class=\"dataframe\">\n",
              "  <thead>\n",
              "    <tr>\n",
              "      <th id=\"T_999ce_level0_col0\" class=\"col_heading level0 col0\" >deptid</th>\n",
              "      <th id=\"T_999ce_level0_col1\" class=\"col_heading level0 col1\" >total</th>\n",
              "      <th id=\"T_999ce_level0_col2\" class=\"col_heading level0 col2\" >max</th>\n",
              "    </tr>\n",
              "  </thead>\n",
              "  <tbody>\n",
              "    <tr>\n",
              "      <td id=\"T_999ce_row0_col0\" class=\"data row0 col0\" >10</td>\n",
              "      <td id=\"T_999ce_row0_col1\" class=\"data row0 col1\" >150000</td>\n",
              "      <td id=\"T_999ce_row0_col2\" class=\"data row0 col2\" >60000</td>\n",
              "    </tr>\n",
              "    <tr>\n",
              "      <td id=\"T_999ce_row1_col0\" class=\"data row1 col0\" >40</td>\n",
              "      <td id=\"T_999ce_row1_col1\" class=\"data row1 col1\" >54000</td>\n",
              "      <td id=\"T_999ce_row1_col2\" class=\"data row1 col2\" >25000</td>\n",
              "    </tr>\n",
              "    <tr>\n",
              "      <td id=\"T_999ce_row2_col0\" class=\"data row2 col0\" >20</td>\n",
              "      <td id=\"T_999ce_row2_col1\" class=\"data row2 col1\" >55000</td>\n",
              "      <td id=\"T_999ce_row2_col2\" class=\"data row2 col2\" >30000</td>\n",
              "    </tr>\n",
              "    <tr>\n",
              "      <td id=\"T_999ce_row3_col0\" class=\"data row3 col0\" >30</td>\n",
              "      <td id=\"T_999ce_row3_col1\" class=\"data row3 col1\" >77000</td>\n",
              "      <td id=\"T_999ce_row3_col2\" class=\"data row3 col2\" >40000</td>\n",
              "    </tr>\n",
              "  </tbody>\n",
              "</table>\n"
            ]
          },
          "metadata": {},
          "execution_count": 44
        }
      ]
    },
    {
      "cell_type": "code",
      "source": [
        "runSelect(\"select deptid, sum(salary) Total, max(salary) Max from empl group by deptid having sum(salary) > 50000 and max(salary) < 35000\")"
      ],
      "metadata": {
        "colab": {
          "base_uri": "https://localhost:8080/",
          "height": 112
        },
        "id": "4VFmL5JF7bYo",
        "outputId": "846a5802-ac8c-45d8-e460-31c0bdfdc2d9"
      },
      "execution_count": 45,
      "outputs": [
        {
          "output_type": "execute_result",
          "data": {
            "text/plain": [
              "<pandas.io.formats.style.Styler at 0x7b7ea7d50e80>"
            ],
            "text/html": [
              "<style type=\"text/css\">\n",
              "</style>\n",
              "<table id=\"T_0867a\" class=\"dataframe\">\n",
              "  <thead>\n",
              "    <tr>\n",
              "      <th id=\"T_0867a_level0_col0\" class=\"col_heading level0 col0\" >deptid</th>\n",
              "      <th id=\"T_0867a_level0_col1\" class=\"col_heading level0 col1\" >total</th>\n",
              "      <th id=\"T_0867a_level0_col2\" class=\"col_heading level0 col2\" >max</th>\n",
              "    </tr>\n",
              "  </thead>\n",
              "  <tbody>\n",
              "    <tr>\n",
              "      <td id=\"T_0867a_row0_col0\" class=\"data row0 col0\" >40</td>\n",
              "      <td id=\"T_0867a_row0_col1\" class=\"data row0 col1\" >54000</td>\n",
              "      <td id=\"T_0867a_row0_col2\" class=\"data row0 col2\" >25000</td>\n",
              "    </tr>\n",
              "    <tr>\n",
              "      <td id=\"T_0867a_row1_col0\" class=\"data row1 col0\" >20</td>\n",
              "      <td id=\"T_0867a_row1_col1\" class=\"data row1 col1\" >55000</td>\n",
              "      <td id=\"T_0867a_row1_col2\" class=\"data row1 col2\" >30000</td>\n",
              "    </tr>\n",
              "  </tbody>\n",
              "</table>\n"
            ]
          },
          "metadata": {},
          "execution_count": 45
        }
      ]
    },
    {
      "cell_type": "markdown",
      "source": [
        "#Conditionals | CASE"
      ],
      "metadata": {
        "id": "xDsapsK8Afpj"
      }
    },
    {
      "cell_type": "code",
      "source": [
        "runSelect(\"select lastname, jobdesc, salary, comm, salary+salary*comm Payout,\\\n",
        "case when jobdesc like '%Manager' then 2000 else 0 end bonus from empl\")"
      ],
      "metadata": {
        "colab": {
          "base_uri": "https://localhost:8080/",
          "height": 457
        },
        "id": "bYRWDlVNAxKx",
        "outputId": "e5ffaf88-2110-4243-ccb2-668d9293c370"
      },
      "execution_count": 46,
      "outputs": [
        {
          "output_type": "execute_result",
          "data": {
            "text/plain": [
              "<pandas.io.formats.style.Styler at 0x7b7ea7d53790>"
            ],
            "text/html": [
              "<style type=\"text/css\">\n",
              "</style>\n",
              "<table id=\"T_29b12\" class=\"dataframe\">\n",
              "  <thead>\n",
              "    <tr>\n",
              "      <th id=\"T_29b12_level0_col0\" class=\"col_heading level0 col0\" >lastname</th>\n",
              "      <th id=\"T_29b12_level0_col1\" class=\"col_heading level0 col1\" >jobdesc</th>\n",
              "      <th id=\"T_29b12_level0_col2\" class=\"col_heading level0 col2\" >salary</th>\n",
              "      <th id=\"T_29b12_level0_col3\" class=\"col_heading level0 col3\" >comm</th>\n",
              "      <th id=\"T_29b12_level0_col4\" class=\"col_heading level0 col4\" >payout</th>\n",
              "      <th id=\"T_29b12_level0_col5\" class=\"col_heading level0 col5\" >bonus</th>\n",
              "    </tr>\n",
              "  </thead>\n",
              "  <tbody>\n",
              "    <tr>\n",
              "      <td id=\"T_29b12_row0_col0\" class=\"data row0 col0\" >Bacchan</td>\n",
              "      <td id=\"T_29b12_row0_col1\" class=\"data row0 col1\" >Executive</td>\n",
              "      <td id=\"T_29b12_row0_col2\" class=\"data row0 col2\" >50000</td>\n",
              "      <td id=\"T_29b12_row0_col3\" class=\"data row0 col3\" >0.10</td>\n",
              "      <td id=\"T_29b12_row0_col4\" class=\"data row0 col4\" >55000.00</td>\n",
              "      <td id=\"T_29b12_row0_col5\" class=\"data row0 col5\" >0</td>\n",
              "    </tr>\n",
              "    <tr>\n",
              "      <td id=\"T_29b12_row1_col0\" class=\"data row1 col0\" >Mukherjee</td>\n",
              "      <td id=\"T_29b12_row1_col1\" class=\"data row1 col1\" >Manager</td>\n",
              "      <td id=\"T_29b12_row1_col2\" class=\"data row1 col2\" >25000</td>\n",
              "      <td id=\"T_29b12_row1_col3\" class=\"data row1 col3\" >0.06</td>\n",
              "      <td id=\"T_29b12_row1_col4\" class=\"data row1 col4\" >26500.00</td>\n",
              "      <td id=\"T_29b12_row1_col5\" class=\"data row1 col5\" >2000</td>\n",
              "    </tr>\n",
              "    <tr>\n",
              "      <td id=\"T_29b12_row2_col0\" class=\"data row2 col0\" >Dikshit</td>\n",
              "      <td id=\"T_29b12_row2_col1\" class=\"data row2 col1\" >Clerk</td>\n",
              "      <td id=\"T_29b12_row2_col2\" class=\"data row2 col2\" >10000</td>\n",
              "      <td id=\"T_29b12_row2_col3\" class=\"data row2 col3\" >0.02</td>\n",
              "      <td id=\"T_29b12_row2_col4\" class=\"data row2 col4\" >10200.00</td>\n",
              "      <td id=\"T_29b12_row2_col5\" class=\"data row2 col5\" >0</td>\n",
              "    </tr>\n",
              "    <tr>\n",
              "      <td id=\"T_29b12_row3_col0\" class=\"data row3 col0\" >Khan</td>\n",
              "      <td id=\"T_29b12_row3_col1\" class=\"data row3 col1\" >Manager</td>\n",
              "      <td id=\"T_29b12_row3_col2\" class=\"data row3 col2\" >30000</td>\n",
              "      <td id=\"T_29b12_row3_col3\" class=\"data row3 col3\" >0.07</td>\n",
              "      <td id=\"T_29b12_row3_col4\" class=\"data row3 col4\" >32100.00</td>\n",
              "      <td id=\"T_29b12_row3_col5\" class=\"data row3 col5\" >2000</td>\n",
              "    </tr>\n",
              "    <tr>\n",
              "      <td id=\"T_29b12_row4_col0\" class=\"data row4 col0\" >Sehwag</td>\n",
              "      <td id=\"T_29b12_row4_col1\" class=\"data row4 col1\" >Cus_Rep</td>\n",
              "      <td id=\"T_29b12_row4_col2\" class=\"data row4 col2\" >15000</td>\n",
              "      <td id=\"T_29b12_row4_col3\" class=\"data row4 col3\" >0.05</td>\n",
              "      <td id=\"T_29b12_row4_col4\" class=\"data row4 col4\" >15750.00</td>\n",
              "      <td id=\"T_29b12_row4_col5\" class=\"data row4 col5\" >0</td>\n",
              "    </tr>\n",
              "    <tr>\n",
              "      <td id=\"T_29b12_row5_col0\" class=\"data row5 col0\" >Dhoni</td>\n",
              "      <td id=\"T_29b12_row5_col1\" class=\"data row5 col1\" >Clerk</td>\n",
              "      <td id=\"T_29b12_row5_col2\" class=\"data row5 col2\" >9000</td>\n",
              "      <td id=\"T_29b12_row5_col3\" class=\"data row5 col3\" >0.02</td>\n",
              "      <td id=\"T_29b12_row5_col4\" class=\"data row5 col4\" >9180.00</td>\n",
              "      <td id=\"T_29b12_row5_col5\" class=\"data row5 col5\" >0</td>\n",
              "    </tr>\n",
              "    <tr>\n",
              "      <td id=\"T_29b12_row6_col0\" class=\"data row6 col0\" >Dravid</td>\n",
              "      <td id=\"T_29b12_row6_col1\" class=\"data row6 col1\" >Sr Manager</td>\n",
              "      <td id=\"T_29b12_row6_col2\" class=\"data row6 col2\" >40000</td>\n",
              "      <td id=\"T_29b12_row6_col3\" class=\"data row6 col3\" >0.08</td>\n",
              "      <td id=\"T_29b12_row6_col4\" class=\"data row6 col4\" >43200.00</td>\n",
              "      <td id=\"T_29b12_row6_col5\" class=\"data row6 col5\" >2000</td>\n",
              "    </tr>\n",
              "    <tr>\n",
              "      <td id=\"T_29b12_row7_col0\" class=\"data row7 col0\" >Dalmia</td>\n",
              "      <td id=\"T_29b12_row7_col1\" class=\"data row7 col1\" >Clerk</td>\n",
              "      <td id=\"T_29b12_row7_col2\" class=\"data row7 col2\" >12000</td>\n",
              "      <td id=\"T_29b12_row7_col3\" class=\"data row7 col3\" >0.02</td>\n",
              "      <td id=\"T_29b12_row7_col4\" class=\"data row7 col4\" >12240.00</td>\n",
              "      <td id=\"T_29b12_row7_col5\" class=\"data row7 col5\" >0</td>\n",
              "    </tr>\n",
              "    <tr>\n",
              "      <td id=\"T_29b12_row8_col0\" class=\"data row8 col0\" >Ganguly</td>\n",
              "      <td id=\"T_29b12_row8_col1\" class=\"data row8 col1\" >Cus_Rep</td>\n",
              "      <td id=\"T_29b12_row8_col2\" class=\"data row8 col2\" >20000</td>\n",
              "      <td id=\"T_29b12_row8_col3\" class=\"data row8 col3\" >0.03</td>\n",
              "      <td id=\"T_29b12_row8_col4\" class=\"data row8 col4\" >20600.00</td>\n",
              "      <td id=\"T_29b12_row8_col5\" class=\"data row8 col5\" >0</td>\n",
              "    </tr>\n",
              "    <tr>\n",
              "      <td id=\"T_29b12_row9_col0\" class=\"data row9 col0\" >Ganesan</td>\n",
              "      <td id=\"T_29b12_row9_col1\" class=\"data row9 col1\" >Director</td>\n",
              "      <td id=\"T_29b12_row9_col2\" class=\"data row9 col2\" >60000</td>\n",
              "      <td id=\"T_29b12_row9_col3\" class=\"data row9 col3\" >0.11</td>\n",
              "      <td id=\"T_29b12_row9_col4\" class=\"data row9 col4\" >66600.00</td>\n",
              "      <td id=\"T_29b12_row9_col5\" class=\"data row9 col5\" >0</td>\n",
              "    </tr>\n",
              "    <tr>\n",
              "      <td id=\"T_29b12_row10_col0\" class=\"data row10 col0\" >Karthikeyan</td>\n",
              "      <td id=\"T_29b12_row10_col1\" class=\"data row10 col1\" >Secretary</td>\n",
              "      <td id=\"T_29b12_row10_col2\" class=\"data row10 col2\" >40000</td>\n",
              "      <td id=\"T_29b12_row10_col3\" class=\"data row10 col3\" >0.09</td>\n",
              "      <td id=\"T_29b12_row10_col4\" class=\"data row10 col4\" >43600.00</td>\n",
              "      <td id=\"T_29b12_row10_col5\" class=\"data row10 col5\" >0</td>\n",
              "    </tr>\n",
              "    <tr>\n",
              "      <td id=\"T_29b12_row11_col0\" class=\"data row11 col0\" >Sunil</td>\n",
              "      <td id=\"T_29b12_row11_col1\" class=\"data row11 col1\" >Dy Manager</td>\n",
              "      <td id=\"T_29b12_row11_col2\" class=\"data row11 col2\" >40000</td>\n",
              "      <td id=\"T_29b12_row11_col3\" class=\"data row11 col3\" >0.05</td>\n",
              "      <td id=\"T_29b12_row11_col4\" class=\"data row11 col4\" >42000.00</td>\n",
              "      <td id=\"T_29b12_row11_col5\" class=\"data row11 col5\" >2000</td>\n",
              "    </tr>\n",
              "    <tr>\n",
              "      <td id=\"T_29b12_row12_col0\" class=\"data row12 col0\" >Mirza</td>\n",
              "      <td id=\"T_29b12_row12_col1\" class=\"data row12 col1\" >Cus_Rep</td>\n",
              "      <td id=\"T_29b12_row12_col2\" class=\"data row12 col2\" >25000</td>\n",
              "      <td id=\"T_29b12_row12_col3\" class=\"data row12 col3\" >0.04</td>\n",
              "      <td id=\"T_29b12_row12_col4\" class=\"data row12 col4\" >26000.00</td>\n",
              "      <td id=\"T_29b12_row12_col5\" class=\"data row12 col5\" >0</td>\n",
              "    </tr>\n",
              "  </tbody>\n",
              "</table>\n"
            ]
          },
          "metadata": {},
          "execution_count": 46
        }
      ]
    },
    {
      "cell_type": "code",
      "source": [
        "runSelect(\"select lastname, deptid,\\\n",
        "case \\\n",
        "when deptid in ('10','20') then 'Head' \\\n",
        "when deptid = '30' then 'Regional'\\\n",
        "else 'Branch' \\\n",
        "end \\\n",
        " office from empl\")"
      ],
      "metadata": {
        "colab": {
          "base_uri": "https://localhost:8080/",
          "height": 457
        },
        "id": "jbpKn1y0DwYG",
        "outputId": "bc304a6e-b304-42e8-ba41-696936c85833"
      },
      "execution_count": 47,
      "outputs": [
        {
          "output_type": "execute_result",
          "data": {
            "text/plain": [
              "<pandas.io.formats.style.Styler at 0x7b7ea7d53fa0>"
            ],
            "text/html": [
              "<style type=\"text/css\">\n",
              "</style>\n",
              "<table id=\"T_e9ff8\" class=\"dataframe\">\n",
              "  <thead>\n",
              "    <tr>\n",
              "      <th id=\"T_e9ff8_level0_col0\" class=\"col_heading level0 col0\" >lastname</th>\n",
              "      <th id=\"T_e9ff8_level0_col1\" class=\"col_heading level0 col1\" >deptid</th>\n",
              "      <th id=\"T_e9ff8_level0_col2\" class=\"col_heading level0 col2\" >office</th>\n",
              "    </tr>\n",
              "  </thead>\n",
              "  <tbody>\n",
              "    <tr>\n",
              "      <td id=\"T_e9ff8_row0_col0\" class=\"data row0 col0\" >Bacchan</td>\n",
              "      <td id=\"T_e9ff8_row0_col1\" class=\"data row0 col1\" >10</td>\n",
              "      <td id=\"T_e9ff8_row0_col2\" class=\"data row0 col2\" >Head</td>\n",
              "    </tr>\n",
              "    <tr>\n",
              "      <td id=\"T_e9ff8_row1_col0\" class=\"data row1 col0\" >Mukherjee</td>\n",
              "      <td id=\"T_e9ff8_row1_col1\" class=\"data row1 col1\" >40</td>\n",
              "      <td id=\"T_e9ff8_row1_col2\" class=\"data row1 col2\" >Branch</td>\n",
              "    </tr>\n",
              "    <tr>\n",
              "      <td id=\"T_e9ff8_row2_col0\" class=\"data row2 col0\" >Dikshit</td>\n",
              "      <td id=\"T_e9ff8_row2_col1\" class=\"data row2 col1\" >20</td>\n",
              "      <td id=\"T_e9ff8_row2_col2\" class=\"data row2 col2\" >Head</td>\n",
              "    </tr>\n",
              "    <tr>\n",
              "      <td id=\"T_e9ff8_row3_col0\" class=\"data row3 col0\" >Khan</td>\n",
              "      <td id=\"T_e9ff8_row3_col1\" class=\"data row3 col1\" >20</td>\n",
              "      <td id=\"T_e9ff8_row3_col2\" class=\"data row3 col2\" >Head</td>\n",
              "    </tr>\n",
              "    <tr>\n",
              "      <td id=\"T_e9ff8_row4_col0\" class=\"data row4 col0\" >Sehwag</td>\n",
              "      <td id=\"T_e9ff8_row4_col1\" class=\"data row4 col1\" >20</td>\n",
              "      <td id=\"T_e9ff8_row4_col2\" class=\"data row4 col2\" >Head</td>\n",
              "    </tr>\n",
              "    <tr>\n",
              "      <td id=\"T_e9ff8_row5_col0\" class=\"data row5 col0\" >Dhoni</td>\n",
              "      <td id=\"T_e9ff8_row5_col1\" class=\"data row5 col1\" >40</td>\n",
              "      <td id=\"T_e9ff8_row5_col2\" class=\"data row5 col2\" >Branch</td>\n",
              "    </tr>\n",
              "    <tr>\n",
              "      <td id=\"T_e9ff8_row6_col0\" class=\"data row6 col0\" >Dravid</td>\n",
              "      <td id=\"T_e9ff8_row6_col1\" class=\"data row6 col1\" >30</td>\n",
              "      <td id=\"T_e9ff8_row6_col2\" class=\"data row6 col2\" >Regional</td>\n",
              "    </tr>\n",
              "    <tr>\n",
              "      <td id=\"T_e9ff8_row7_col0\" class=\"data row7 col0\" >Dalmia</td>\n",
              "      <td id=\"T_e9ff8_row7_col1\" class=\"data row7 col1\" >30</td>\n",
              "      <td id=\"T_e9ff8_row7_col2\" class=\"data row7 col2\" >Regional</td>\n",
              "    </tr>\n",
              "    <tr>\n",
              "      <td id=\"T_e9ff8_row8_col0\" class=\"data row8 col0\" >Ganguly</td>\n",
              "      <td id=\"T_e9ff8_row8_col1\" class=\"data row8 col1\" >40</td>\n",
              "      <td id=\"T_e9ff8_row8_col2\" class=\"data row8 col2\" >Branch</td>\n",
              "    </tr>\n",
              "    <tr>\n",
              "      <td id=\"T_e9ff8_row9_col0\" class=\"data row9 col0\" >Ganesan</td>\n",
              "      <td id=\"T_e9ff8_row9_col1\" class=\"data row9 col1\" >10</td>\n",
              "      <td id=\"T_e9ff8_row9_col2\" class=\"data row9 col2\" >Head</td>\n",
              "    </tr>\n",
              "    <tr>\n",
              "      <td id=\"T_e9ff8_row10_col0\" class=\"data row10 col0\" >Karthikeyan</td>\n",
              "      <td id=\"T_e9ff8_row10_col1\" class=\"data row10 col1\" >10</td>\n",
              "      <td id=\"T_e9ff8_row10_col2\" class=\"data row10 col2\" >Head</td>\n",
              "    </tr>\n",
              "    <tr>\n",
              "      <td id=\"T_e9ff8_row11_col0\" class=\"data row11 col0\" >Sunil</td>\n",
              "      <td id=\"T_e9ff8_row11_col1\" class=\"data row11 col1\" >70</td>\n",
              "      <td id=\"T_e9ff8_row11_col2\" class=\"data row11 col2\" >Branch</td>\n",
              "    </tr>\n",
              "    <tr>\n",
              "      <td id=\"T_e9ff8_row12_col0\" class=\"data row12 col0\" >Mirza</td>\n",
              "      <td id=\"T_e9ff8_row12_col1\" class=\"data row12 col1\" >30</td>\n",
              "      <td id=\"T_e9ff8_row12_col2\" class=\"data row12 col2\" >Regional</td>\n",
              "    </tr>\n",
              "  </tbody>\n",
              "</table>\n"
            ]
          },
          "metadata": {},
          "execution_count": 47
        }
      ]
    },
    {
      "cell_type": "markdown",
      "source": [
        "#Join"
      ],
      "metadata": {
        "id": "Rs10ezIPpP0C"
      }
    },
    {
      "cell_type": "markdown",
      "source": [
        "## Basic Inner Join"
      ],
      "metadata": {
        "id": "XMfZP6HUpT4B"
      }
    },
    {
      "cell_type": "code",
      "source": [
        "sql = 'select firstname, lastname, salary, deptname, location, managerid from empl, dept where empl.deptid = dept.deptid'\n",
        "runSelect(sql)"
      ],
      "metadata": {
        "colab": {
          "base_uri": "https://localhost:8080/",
          "height": 426
        },
        "id": "ISiD-VP6pbUz",
        "outputId": "6c71462e-263e-424e-8679-b419a48b1239"
      },
      "execution_count": 48,
      "outputs": [
        {
          "output_type": "execute_result",
          "data": {
            "text/plain": [
              "<pandas.io.formats.style.Styler at 0x7b7ea7d50640>"
            ],
            "text/html": [
              "<style type=\"text/css\">\n",
              "</style>\n",
              "<table id=\"T_cf50e\" class=\"dataframe\">\n",
              "  <thead>\n",
              "    <tr>\n",
              "      <th id=\"T_cf50e_level0_col0\" class=\"col_heading level0 col0\" >firstname</th>\n",
              "      <th id=\"T_cf50e_level0_col1\" class=\"col_heading level0 col1\" >lastname</th>\n",
              "      <th id=\"T_cf50e_level0_col2\" class=\"col_heading level0 col2\" >salary</th>\n",
              "      <th id=\"T_cf50e_level0_col3\" class=\"col_heading level0 col3\" >deptname</th>\n",
              "      <th id=\"T_cf50e_level0_col4\" class=\"col_heading level0 col4\" >location</th>\n",
              "      <th id=\"T_cf50e_level0_col5\" class=\"col_heading level0 col5\" >managerid</th>\n",
              "    </tr>\n",
              "  </thead>\n",
              "  <tbody>\n",
              "    <tr>\n",
              "      <td id=\"T_cf50e_row0_col0\" class=\"data row0 col0\" >Narayan</td>\n",
              "      <td id=\"T_cf50e_row0_col1\" class=\"data row0 col1\" >Karthikeyan</td>\n",
              "      <td id=\"T_cf50e_row0_col2\" class=\"data row0 col2\" >40000</td>\n",
              "      <td id=\"T_cf50e_row0_col3\" class=\"data row0 col3\" >Corporate</td>\n",
              "      <td id=\"T_cf50e_row0_col4\" class=\"data row0 col4\" >Calcutta</td>\n",
              "      <td id=\"T_cf50e_row0_col5\" class=\"data row0 col5\" >299034</td>\n",
              "    </tr>\n",
              "    <tr>\n",
              "      <td id=\"T_cf50e_row1_col0\" class=\"data row1 col0\" >Rekha</td>\n",
              "      <td id=\"T_cf50e_row1_col1\" class=\"data row1 col1\" >Ganesan</td>\n",
              "      <td id=\"T_cf50e_row1_col2\" class=\"data row1 col2\" >60000</td>\n",
              "      <td id=\"T_cf50e_row1_col3\" class=\"data row1 col3\" >Corporate</td>\n",
              "      <td id=\"T_cf50e_row1_col4\" class=\"data row1 col4\" >Calcutta</td>\n",
              "      <td id=\"T_cf50e_row1_col5\" class=\"data row1 col5\" >299034</td>\n",
              "    </tr>\n",
              "    <tr>\n",
              "      <td id=\"T_cf50e_row2_col0\" class=\"data row2 col0\" >Amitabh</td>\n",
              "      <td id=\"T_cf50e_row2_col1\" class=\"data row2 col1\" >Bacchan</td>\n",
              "      <td id=\"T_cf50e_row2_col2\" class=\"data row2 col2\" >50000</td>\n",
              "      <td id=\"T_cf50e_row2_col3\" class=\"data row2 col3\" >Corporate</td>\n",
              "      <td id=\"T_cf50e_row2_col4\" class=\"data row2 col4\" >Calcutta</td>\n",
              "      <td id=\"T_cf50e_row2_col5\" class=\"data row2 col5\" >299034</td>\n",
              "    </tr>\n",
              "    <tr>\n",
              "      <td id=\"T_cf50e_row3_col0\" class=\"data row3 col0\" >Virender</td>\n",
              "      <td id=\"T_cf50e_row3_col1\" class=\"data row3 col1\" >Sehwag</td>\n",
              "      <td id=\"T_cf50e_row3_col2\" class=\"data row3 col2\" >15000</td>\n",
              "      <td id=\"T_cf50e_row3_col3\" class=\"data row3 col3\" >Sales</td>\n",
              "      <td id=\"T_cf50e_row3_col4\" class=\"data row3 col4\" >Calcutta</td>\n",
              "      <td id=\"T_cf50e_row3_col5\" class=\"data row3 col5\" >239456</td>\n",
              "    </tr>\n",
              "    <tr>\n",
              "      <td id=\"T_cf50e_row4_col0\" class=\"data row4 col0\" >Shahrukh</td>\n",
              "      <td id=\"T_cf50e_row4_col1\" class=\"data row4 col1\" >Khan</td>\n",
              "      <td id=\"T_cf50e_row4_col2\" class=\"data row4 col2\" >30000</td>\n",
              "      <td id=\"T_cf50e_row4_col3\" class=\"data row4 col3\" >Sales</td>\n",
              "      <td id=\"T_cf50e_row4_col4\" class=\"data row4 col4\" >Calcutta</td>\n",
              "      <td id=\"T_cf50e_row4_col5\" class=\"data row4 col5\" >239456</td>\n",
              "    </tr>\n",
              "    <tr>\n",
              "      <td id=\"T_cf50e_row5_col0\" class=\"data row5 col0\" >Madhuri</td>\n",
              "      <td id=\"T_cf50e_row5_col1\" class=\"data row5 col1\" >Dikshit</td>\n",
              "      <td id=\"T_cf50e_row5_col2\" class=\"data row5 col2\" >10000</td>\n",
              "      <td id=\"T_cf50e_row5_col3\" class=\"data row5 col3\" >Sales</td>\n",
              "      <td id=\"T_cf50e_row5_col4\" class=\"data row5 col4\" >Calcutta</td>\n",
              "      <td id=\"T_cf50e_row5_col5\" class=\"data row5 col5\" >239456</td>\n",
              "    </tr>\n",
              "    <tr>\n",
              "      <td id=\"T_cf50e_row6_col0\" class=\"data row6 col0\" >Sania</td>\n",
              "      <td id=\"T_cf50e_row6_col1\" class=\"data row6 col1\" >Mirza</td>\n",
              "      <td id=\"T_cf50e_row6_col2\" class=\"data row6 col2\" >25000</td>\n",
              "      <td id=\"T_cf50e_row6_col3\" class=\"data row6 col3\" >Accounts</td>\n",
              "      <td id=\"T_cf50e_row6_col4\" class=\"data row6 col4\" >Calcutta</td>\n",
              "      <td id=\"T_cf50e_row6_col5\" class=\"data row6 col5\" >822134</td>\n",
              "    </tr>\n",
              "    <tr>\n",
              "      <td id=\"T_cf50e_row7_col0\" class=\"data row7 col0\" >Jagmohan</td>\n",
              "      <td id=\"T_cf50e_row7_col1\" class=\"data row7 col1\" >Dalmia</td>\n",
              "      <td id=\"T_cf50e_row7_col2\" class=\"data row7 col2\" >12000</td>\n",
              "      <td id=\"T_cf50e_row7_col3\" class=\"data row7 col3\" >Accounts</td>\n",
              "      <td id=\"T_cf50e_row7_col4\" class=\"data row7 col4\" >Calcutta</td>\n",
              "      <td id=\"T_cf50e_row7_col5\" class=\"data row7 col5\" >822134</td>\n",
              "    </tr>\n",
              "    <tr>\n",
              "      <td id=\"T_cf50e_row8_col0\" class=\"data row8 col0\" >Rahul</td>\n",
              "      <td id=\"T_cf50e_row8_col1\" class=\"data row8 col1\" >Dravid</td>\n",
              "      <td id=\"T_cf50e_row8_col2\" class=\"data row8 col2\" >40000</td>\n",
              "      <td id=\"T_cf50e_row8_col3\" class=\"data row8 col3\" >Accounts</td>\n",
              "      <td id=\"T_cf50e_row8_col4\" class=\"data row8 col4\" >Calcutta</td>\n",
              "      <td id=\"T_cf50e_row8_col5\" class=\"data row8 col5\" >822134</td>\n",
              "    </tr>\n",
              "    <tr>\n",
              "      <td id=\"T_cf50e_row9_col0\" class=\"data row9 col0\" >Sourav</td>\n",
              "      <td id=\"T_cf50e_row9_col1\" class=\"data row9 col1\" >Ganguly</td>\n",
              "      <td id=\"T_cf50e_row9_col2\" class=\"data row9 col2\" >20000</td>\n",
              "      <td id=\"T_cf50e_row9_col3\" class=\"data row9 col3\" >Production</td>\n",
              "      <td id=\"T_cf50e_row9_col4\" class=\"data row9 col4\" >Bombay</td>\n",
              "      <td id=\"T_cf50e_row9_col5\" class=\"data row9 col5\" >349870</td>\n",
              "    </tr>\n",
              "    <tr>\n",
              "      <td id=\"T_cf50e_row10_col0\" class=\"data row10 col0\" >Mahender</td>\n",
              "      <td id=\"T_cf50e_row10_col1\" class=\"data row10 col1\" >Dhoni</td>\n",
              "      <td id=\"T_cf50e_row10_col2\" class=\"data row10 col2\" >9000</td>\n",
              "      <td id=\"T_cf50e_row10_col3\" class=\"data row10 col3\" >Production</td>\n",
              "      <td id=\"T_cf50e_row10_col4\" class=\"data row10 col4\" >Bombay</td>\n",
              "      <td id=\"T_cf50e_row10_col5\" class=\"data row10 col5\" >349870</td>\n",
              "    </tr>\n",
              "    <tr>\n",
              "      <td id=\"T_cf50e_row11_col0\" class=\"data row11 col0\" >Rani</td>\n",
              "      <td id=\"T_cf50e_row11_col1\" class=\"data row11 col1\" >Mukherjee</td>\n",
              "      <td id=\"T_cf50e_row11_col2\" class=\"data row11 col2\" >25000</td>\n",
              "      <td id=\"T_cf50e_row11_col3\" class=\"data row11 col3\" >Production</td>\n",
              "      <td id=\"T_cf50e_row11_col4\" class=\"data row11 col4\" >Bombay</td>\n",
              "      <td id=\"T_cf50e_row11_col5\" class=\"data row11 col5\" >349870</td>\n",
              "    </tr>\n",
              "  </tbody>\n",
              "</table>\n"
            ]
          },
          "metadata": {},
          "execution_count": 48
        }
      ]
    },
    {
      "cell_type": "code",
      "source": [
        "sql = 'select empid, firstname, deptname, location from empl INNER JOIN dept ON empl.deptid = dept.deptid'\n",
        "runSelect(sql)"
      ],
      "metadata": {
        "colab": {
          "base_uri": "https://localhost:8080/",
          "height": 426
        },
        "id": "LVrEArEc1VcF",
        "outputId": "05dcf8f0-311c-41b3-8feb-848d4205b7dd"
      },
      "execution_count": 49,
      "outputs": [
        {
          "output_type": "execute_result",
          "data": {
            "text/plain": [
              "<pandas.io.formats.style.Styler at 0x7b7ea7d52710>"
            ],
            "text/html": [
              "<style type=\"text/css\">\n",
              "</style>\n",
              "<table id=\"T_33fdc\" class=\"dataframe\">\n",
              "  <thead>\n",
              "    <tr>\n",
              "      <th id=\"T_33fdc_level0_col0\" class=\"col_heading level0 col0\" >empid</th>\n",
              "      <th id=\"T_33fdc_level0_col1\" class=\"col_heading level0 col1\" >firstname</th>\n",
              "      <th id=\"T_33fdc_level0_col2\" class=\"col_heading level0 col2\" >deptname</th>\n",
              "      <th id=\"T_33fdc_level0_col3\" class=\"col_heading level0 col3\" >location</th>\n",
              "    </tr>\n",
              "  </thead>\n",
              "  <tbody>\n",
              "    <tr>\n",
              "      <td id=\"T_33fdc_row0_col0\" class=\"data row0 col0\" >546223</td>\n",
              "      <td id=\"T_33fdc_row0_col1\" class=\"data row0 col1\" >Narayan</td>\n",
              "      <td id=\"T_33fdc_row0_col2\" class=\"data row0 col2\" >Corporate</td>\n",
              "      <td id=\"T_33fdc_row0_col3\" class=\"data row0 col3\" >Calcutta</td>\n",
              "    </tr>\n",
              "    <tr>\n",
              "      <td id=\"T_33fdc_row1_col0\" class=\"data row1 col0\" >299034</td>\n",
              "      <td id=\"T_33fdc_row1_col1\" class=\"data row1 col1\" >Rekha</td>\n",
              "      <td id=\"T_33fdc_row1_col2\" class=\"data row1 col2\" >Corporate</td>\n",
              "      <td id=\"T_33fdc_row1_col3\" class=\"data row1 col3\" >Calcutta</td>\n",
              "    </tr>\n",
              "    <tr>\n",
              "      <td id=\"T_33fdc_row2_col0\" class=\"data row2 col0\" >742866</td>\n",
              "      <td id=\"T_33fdc_row2_col1\" class=\"data row2 col1\" >Amitabh</td>\n",
              "      <td id=\"T_33fdc_row2_col2\" class=\"data row2 col2\" >Corporate</td>\n",
              "      <td id=\"T_33fdc_row2_col3\" class=\"data row2 col3\" >Calcutta</td>\n",
              "    </tr>\n",
              "    <tr>\n",
              "      <td id=\"T_33fdc_row3_col0\" class=\"data row3 col0\" >897889</td>\n",
              "      <td id=\"T_33fdc_row3_col1\" class=\"data row3 col1\" >Virender</td>\n",
              "      <td id=\"T_33fdc_row3_col2\" class=\"data row3 col2\" >Sales</td>\n",
              "      <td id=\"T_33fdc_row3_col3\" class=\"data row3 col3\" >Calcutta</td>\n",
              "    </tr>\n",
              "    <tr>\n",
              "      <td id=\"T_33fdc_row4_col0\" class=\"data row4 col0\" >239456</td>\n",
              "      <td id=\"T_33fdc_row4_col1\" class=\"data row4 col1\" >Shahrukh</td>\n",
              "      <td id=\"T_33fdc_row4_col2\" class=\"data row4 col2\" >Sales</td>\n",
              "      <td id=\"T_33fdc_row4_col3\" class=\"data row4 col3\" >Calcutta</td>\n",
              "    </tr>\n",
              "    <tr>\n",
              "      <td id=\"T_33fdc_row5_col0\" class=\"data row5 col0\" >865477</td>\n",
              "      <td id=\"T_33fdc_row5_col1\" class=\"data row5 col1\" >Madhuri</td>\n",
              "      <td id=\"T_33fdc_row5_col2\" class=\"data row5 col2\" >Sales</td>\n",
              "      <td id=\"T_33fdc_row5_col3\" class=\"data row5 col3\" >Calcutta</td>\n",
              "    </tr>\n",
              "    <tr>\n",
              "      <td id=\"T_33fdc_row6_col0\" class=\"data row6 col0\" >223112</td>\n",
              "      <td id=\"T_33fdc_row6_col1\" class=\"data row6 col1\" >Sania</td>\n",
              "      <td id=\"T_33fdc_row6_col2\" class=\"data row6 col2\" >Accounts</td>\n",
              "      <td id=\"T_33fdc_row6_col3\" class=\"data row6 col3\" >Calcutta</td>\n",
              "    </tr>\n",
              "    <tr>\n",
              "      <td id=\"T_33fdc_row7_col0\" class=\"data row7 col0\" >997445</td>\n",
              "      <td id=\"T_33fdc_row7_col1\" class=\"data row7 col1\" >Jagmohan</td>\n",
              "      <td id=\"T_33fdc_row7_col2\" class=\"data row7 col2\" >Accounts</td>\n",
              "      <td id=\"T_33fdc_row7_col3\" class=\"data row7 col3\" >Calcutta</td>\n",
              "    </tr>\n",
              "    <tr>\n",
              "      <td id=\"T_33fdc_row8_col0\" class=\"data row8 col0\" >822134</td>\n",
              "      <td id=\"T_33fdc_row8_col1\" class=\"data row8 col1\" >Rahul</td>\n",
              "      <td id=\"T_33fdc_row8_col2\" class=\"data row8 col2\" >Accounts</td>\n",
              "      <td id=\"T_33fdc_row8_col3\" class=\"data row8 col3\" >Calcutta</td>\n",
              "    </tr>\n",
              "    <tr>\n",
              "      <td id=\"T_33fdc_row9_col0\" class=\"data row9 col0\" >989007</td>\n",
              "      <td id=\"T_33fdc_row9_col1\" class=\"data row9 col1\" >Sourav</td>\n",
              "      <td id=\"T_33fdc_row9_col2\" class=\"data row9 col2\" >Production</td>\n",
              "      <td id=\"T_33fdc_row9_col3\" class=\"data row9 col3\" >Bombay</td>\n",
              "    </tr>\n",
              "    <tr>\n",
              "      <td id=\"T_33fdc_row10_col0\" class=\"data row10 col0\" >123980</td>\n",
              "      <td id=\"T_33fdc_row10_col1\" class=\"data row10 col1\" >Mahender</td>\n",
              "      <td id=\"T_33fdc_row10_col2\" class=\"data row10 col2\" >Production</td>\n",
              "      <td id=\"T_33fdc_row10_col3\" class=\"data row10 col3\" >Bombay</td>\n",
              "    </tr>\n",
              "    <tr>\n",
              "      <td id=\"T_33fdc_row11_col0\" class=\"data row11 col0\" >349870</td>\n",
              "      <td id=\"T_33fdc_row11_col1\" class=\"data row11 col1\" >Rani</td>\n",
              "      <td id=\"T_33fdc_row11_col2\" class=\"data row11 col2\" >Production</td>\n",
              "      <td id=\"T_33fdc_row11_col3\" class=\"data row11 col3\" >Bombay</td>\n",
              "    </tr>\n",
              "  </tbody>\n",
              "</table>\n"
            ]
          },
          "metadata": {},
          "execution_count": 49
        }
      ]
    },
    {
      "cell_type": "code",
      "source": [
        "sql = 'select deptname,round(sum(salary),0) payroll from empl INNER JOIN dept ON empl.deptid = dept.deptid \\\n",
        "group by deptname'\n",
        "runSelect(sql)"
      ],
      "metadata": {
        "id": "pKk82QRi28DP",
        "outputId": "fdf55dbd-a759-4861-9616-28070ac72181",
        "colab": {
          "base_uri": "https://localhost:8080/",
          "height": 175
        }
      },
      "execution_count": 50,
      "outputs": [
        {
          "output_type": "execute_result",
          "data": {
            "text/plain": [
              "<pandas.io.formats.style.Styler at 0x7b7ea7d51d80>"
            ],
            "text/html": [
              "<style type=\"text/css\">\n",
              "</style>\n",
              "<table id=\"T_a111f\" class=\"dataframe\">\n",
              "  <thead>\n",
              "    <tr>\n",
              "      <th id=\"T_a111f_level0_col0\" class=\"col_heading level0 col0\" >deptname</th>\n",
              "      <th id=\"T_a111f_level0_col1\" class=\"col_heading level0 col1\" >payroll</th>\n",
              "    </tr>\n",
              "  </thead>\n",
              "  <tbody>\n",
              "    <tr>\n",
              "      <td id=\"T_a111f_row0_col0\" class=\"data row0 col0\" >Corporate</td>\n",
              "      <td id=\"T_a111f_row0_col1\" class=\"data row0 col1\" >150000</td>\n",
              "    </tr>\n",
              "    <tr>\n",
              "      <td id=\"T_a111f_row1_col0\" class=\"data row1 col0\" >Accounts</td>\n",
              "      <td id=\"T_a111f_row1_col1\" class=\"data row1 col1\" >77000</td>\n",
              "    </tr>\n",
              "    <tr>\n",
              "      <td id=\"T_a111f_row2_col0\" class=\"data row2 col0\" >Sales</td>\n",
              "      <td id=\"T_a111f_row2_col1\" class=\"data row2 col1\" >55000</td>\n",
              "    </tr>\n",
              "    <tr>\n",
              "      <td id=\"T_a111f_row3_col0\" class=\"data row3 col0\" >Production</td>\n",
              "      <td id=\"T_a111f_row3_col1\" class=\"data row3 col1\" >54000</td>\n",
              "    </tr>\n",
              "  </tbody>\n",
              "</table>\n"
            ]
          },
          "metadata": {},
          "execution_count": 50
        }
      ]
    },
    {
      "cell_type": "markdown",
      "source": [
        "## Outer Join"
      ],
      "metadata": {
        "id": "tK9uJHAL1u6x"
      }
    },
    {
      "cell_type": "markdown",
      "source": [
        "### Left Outer"
      ],
      "metadata": {
        "id": "5wGFVhyJ2x8S"
      }
    },
    {
      "cell_type": "code",
      "source": [
        "sql = 'select empid, firstname, deptname, location from empl LEFT JOIN dept ON empl.deptid = dept.deptid'\n",
        "runSelect(sql)"
      ],
      "metadata": {
        "colab": {
          "base_uri": "https://localhost:8080/",
          "height": 457
        },
        "id": "Ls6VfOXt1zTq",
        "outputId": "b31d7403-1d60-4389-89f1-1502d30296f6"
      },
      "execution_count": 51,
      "outputs": [
        {
          "output_type": "execute_result",
          "data": {
            "text/plain": [
              "<pandas.io.formats.style.Styler at 0x7b7ea7dc4400>"
            ],
            "text/html": [
              "<style type=\"text/css\">\n",
              "</style>\n",
              "<table id=\"T_76cde\" class=\"dataframe\">\n",
              "  <thead>\n",
              "    <tr>\n",
              "      <th id=\"T_76cde_level0_col0\" class=\"col_heading level0 col0\" >empid</th>\n",
              "      <th id=\"T_76cde_level0_col1\" class=\"col_heading level0 col1\" >firstname</th>\n",
              "      <th id=\"T_76cde_level0_col2\" class=\"col_heading level0 col2\" >deptname</th>\n",
              "      <th id=\"T_76cde_level0_col3\" class=\"col_heading level0 col3\" >location</th>\n",
              "    </tr>\n",
              "  </thead>\n",
              "  <tbody>\n",
              "    <tr>\n",
              "      <td id=\"T_76cde_row0_col0\" class=\"data row0 col0\" >546223</td>\n",
              "      <td id=\"T_76cde_row0_col1\" class=\"data row0 col1\" >Narayan</td>\n",
              "      <td id=\"T_76cde_row0_col2\" class=\"data row0 col2\" >Corporate</td>\n",
              "      <td id=\"T_76cde_row0_col3\" class=\"data row0 col3\" >Calcutta</td>\n",
              "    </tr>\n",
              "    <tr>\n",
              "      <td id=\"T_76cde_row1_col0\" class=\"data row1 col0\" >299034</td>\n",
              "      <td id=\"T_76cde_row1_col1\" class=\"data row1 col1\" >Rekha</td>\n",
              "      <td id=\"T_76cde_row1_col2\" class=\"data row1 col2\" >Corporate</td>\n",
              "      <td id=\"T_76cde_row1_col3\" class=\"data row1 col3\" >Calcutta</td>\n",
              "    </tr>\n",
              "    <tr>\n",
              "      <td id=\"T_76cde_row2_col0\" class=\"data row2 col0\" >742866</td>\n",
              "      <td id=\"T_76cde_row2_col1\" class=\"data row2 col1\" >Amitabh</td>\n",
              "      <td id=\"T_76cde_row2_col2\" class=\"data row2 col2\" >Corporate</td>\n",
              "      <td id=\"T_76cde_row2_col3\" class=\"data row2 col3\" >Calcutta</td>\n",
              "    </tr>\n",
              "    <tr>\n",
              "      <td id=\"T_76cde_row3_col0\" class=\"data row3 col0\" >897889</td>\n",
              "      <td id=\"T_76cde_row3_col1\" class=\"data row3 col1\" >Virender</td>\n",
              "      <td id=\"T_76cde_row3_col2\" class=\"data row3 col2\" >Sales</td>\n",
              "      <td id=\"T_76cde_row3_col3\" class=\"data row3 col3\" >Calcutta</td>\n",
              "    </tr>\n",
              "    <tr>\n",
              "      <td id=\"T_76cde_row4_col0\" class=\"data row4 col0\" >239456</td>\n",
              "      <td id=\"T_76cde_row4_col1\" class=\"data row4 col1\" >Shahrukh</td>\n",
              "      <td id=\"T_76cde_row4_col2\" class=\"data row4 col2\" >Sales</td>\n",
              "      <td id=\"T_76cde_row4_col3\" class=\"data row4 col3\" >Calcutta</td>\n",
              "    </tr>\n",
              "    <tr>\n",
              "      <td id=\"T_76cde_row5_col0\" class=\"data row5 col0\" >865477</td>\n",
              "      <td id=\"T_76cde_row5_col1\" class=\"data row5 col1\" >Madhuri</td>\n",
              "      <td id=\"T_76cde_row5_col2\" class=\"data row5 col2\" >Sales</td>\n",
              "      <td id=\"T_76cde_row5_col3\" class=\"data row5 col3\" >Calcutta</td>\n",
              "    </tr>\n",
              "    <tr>\n",
              "      <td id=\"T_76cde_row6_col0\" class=\"data row6 col0\" >223112</td>\n",
              "      <td id=\"T_76cde_row6_col1\" class=\"data row6 col1\" >Sania</td>\n",
              "      <td id=\"T_76cde_row6_col2\" class=\"data row6 col2\" >Accounts</td>\n",
              "      <td id=\"T_76cde_row6_col3\" class=\"data row6 col3\" >Calcutta</td>\n",
              "    </tr>\n",
              "    <tr>\n",
              "      <td id=\"T_76cde_row7_col0\" class=\"data row7 col0\" >997445</td>\n",
              "      <td id=\"T_76cde_row7_col1\" class=\"data row7 col1\" >Jagmohan</td>\n",
              "      <td id=\"T_76cde_row7_col2\" class=\"data row7 col2\" >Accounts</td>\n",
              "      <td id=\"T_76cde_row7_col3\" class=\"data row7 col3\" >Calcutta</td>\n",
              "    </tr>\n",
              "    <tr>\n",
              "      <td id=\"T_76cde_row8_col0\" class=\"data row8 col0\" >822134</td>\n",
              "      <td id=\"T_76cde_row8_col1\" class=\"data row8 col1\" >Rahul</td>\n",
              "      <td id=\"T_76cde_row8_col2\" class=\"data row8 col2\" >Accounts</td>\n",
              "      <td id=\"T_76cde_row8_col3\" class=\"data row8 col3\" >Calcutta</td>\n",
              "    </tr>\n",
              "    <tr>\n",
              "      <td id=\"T_76cde_row9_col0\" class=\"data row9 col0\" >989007</td>\n",
              "      <td id=\"T_76cde_row9_col1\" class=\"data row9 col1\" >Sourav</td>\n",
              "      <td id=\"T_76cde_row9_col2\" class=\"data row9 col2\" >Production</td>\n",
              "      <td id=\"T_76cde_row9_col3\" class=\"data row9 col3\" >Bombay</td>\n",
              "    </tr>\n",
              "    <tr>\n",
              "      <td id=\"T_76cde_row10_col0\" class=\"data row10 col0\" >123980</td>\n",
              "      <td id=\"T_76cde_row10_col1\" class=\"data row10 col1\" >Mahender</td>\n",
              "      <td id=\"T_76cde_row10_col2\" class=\"data row10 col2\" >Production</td>\n",
              "      <td id=\"T_76cde_row10_col3\" class=\"data row10 col3\" >Bombay</td>\n",
              "    </tr>\n",
              "    <tr>\n",
              "      <td id=\"T_76cde_row11_col0\" class=\"data row11 col0\" >349870</td>\n",
              "      <td id=\"T_76cde_row11_col1\" class=\"data row11 col1\" >Rani</td>\n",
              "      <td id=\"T_76cde_row11_col2\" class=\"data row11 col2\" >Production</td>\n",
              "      <td id=\"T_76cde_row11_col3\" class=\"data row11 col3\" >Bombay</td>\n",
              "    </tr>\n",
              "    <tr>\n",
              "      <td id=\"T_76cde_row12_col0\" class=\"data row12 col0\" >546224</td>\n",
              "      <td id=\"T_76cde_row12_col1\" class=\"data row12 col1\" >Chettri</td>\n",
              "      <td id=\"T_76cde_row12_col2\" class=\"data row12 col2\" >None</td>\n",
              "      <td id=\"T_76cde_row12_col3\" class=\"data row12 col3\" >None</td>\n",
              "    </tr>\n",
              "  </tbody>\n",
              "</table>\n"
            ]
          },
          "metadata": {},
          "execution_count": 51
        }
      ]
    },
    {
      "cell_type": "markdown",
      "source": [
        "### Right Outer"
      ],
      "metadata": {
        "id": "iJ6DASb121Og"
      }
    },
    {
      "cell_type": "code",
      "source": [
        "sql = 'select empid, firstname, deptname, location from empl RIGHT JOIN dept ON empl.deptid = dept.deptid'\n",
        "runSelect(sql)"
      ],
      "metadata": {
        "colab": {
          "base_uri": "https://localhost:8080/",
          "height": 457
        },
        "id": "khvQpQ4E2XND",
        "outputId": "0ff1c0f9-0c07-44df-b1a5-3e1e0550411f"
      },
      "execution_count": 52,
      "outputs": [
        {
          "output_type": "execute_result",
          "data": {
            "text/plain": [
              "<pandas.io.formats.style.Styler at 0x7b7ea7dc4220>"
            ],
            "text/html": [
              "<style type=\"text/css\">\n",
              "</style>\n",
              "<table id=\"T_06704\" class=\"dataframe\">\n",
              "  <thead>\n",
              "    <tr>\n",
              "      <th id=\"T_06704_level0_col0\" class=\"col_heading level0 col0\" >empid</th>\n",
              "      <th id=\"T_06704_level0_col1\" class=\"col_heading level0 col1\" >firstname</th>\n",
              "      <th id=\"T_06704_level0_col2\" class=\"col_heading level0 col2\" >deptname</th>\n",
              "      <th id=\"T_06704_level0_col3\" class=\"col_heading level0 col3\" >location</th>\n",
              "    </tr>\n",
              "  </thead>\n",
              "  <tbody>\n",
              "    <tr>\n",
              "      <td id=\"T_06704_row0_col0\" class=\"data row0 col0\" >546223</td>\n",
              "      <td id=\"T_06704_row0_col1\" class=\"data row0 col1\" >Narayan</td>\n",
              "      <td id=\"T_06704_row0_col2\" class=\"data row0 col2\" >Corporate</td>\n",
              "      <td id=\"T_06704_row0_col3\" class=\"data row0 col3\" >Calcutta</td>\n",
              "    </tr>\n",
              "    <tr>\n",
              "      <td id=\"T_06704_row1_col0\" class=\"data row1 col0\" >299034</td>\n",
              "      <td id=\"T_06704_row1_col1\" class=\"data row1 col1\" >Rekha</td>\n",
              "      <td id=\"T_06704_row1_col2\" class=\"data row1 col2\" >Corporate</td>\n",
              "      <td id=\"T_06704_row1_col3\" class=\"data row1 col3\" >Calcutta</td>\n",
              "    </tr>\n",
              "    <tr>\n",
              "      <td id=\"T_06704_row2_col0\" class=\"data row2 col0\" >742866</td>\n",
              "      <td id=\"T_06704_row2_col1\" class=\"data row2 col1\" >Amitabh</td>\n",
              "      <td id=\"T_06704_row2_col2\" class=\"data row2 col2\" >Corporate</td>\n",
              "      <td id=\"T_06704_row2_col3\" class=\"data row2 col3\" >Calcutta</td>\n",
              "    </tr>\n",
              "    <tr>\n",
              "      <td id=\"T_06704_row3_col0\" class=\"data row3 col0\" >897889</td>\n",
              "      <td id=\"T_06704_row3_col1\" class=\"data row3 col1\" >Virender</td>\n",
              "      <td id=\"T_06704_row3_col2\" class=\"data row3 col2\" >Sales</td>\n",
              "      <td id=\"T_06704_row3_col3\" class=\"data row3 col3\" >Calcutta</td>\n",
              "    </tr>\n",
              "    <tr>\n",
              "      <td id=\"T_06704_row4_col0\" class=\"data row4 col0\" >239456</td>\n",
              "      <td id=\"T_06704_row4_col1\" class=\"data row4 col1\" >Shahrukh</td>\n",
              "      <td id=\"T_06704_row4_col2\" class=\"data row4 col2\" >Sales</td>\n",
              "      <td id=\"T_06704_row4_col3\" class=\"data row4 col3\" >Calcutta</td>\n",
              "    </tr>\n",
              "    <tr>\n",
              "      <td id=\"T_06704_row5_col0\" class=\"data row5 col0\" >865477</td>\n",
              "      <td id=\"T_06704_row5_col1\" class=\"data row5 col1\" >Madhuri</td>\n",
              "      <td id=\"T_06704_row5_col2\" class=\"data row5 col2\" >Sales</td>\n",
              "      <td id=\"T_06704_row5_col3\" class=\"data row5 col3\" >Calcutta</td>\n",
              "    </tr>\n",
              "    <tr>\n",
              "      <td id=\"T_06704_row6_col0\" class=\"data row6 col0\" >223112</td>\n",
              "      <td id=\"T_06704_row6_col1\" class=\"data row6 col1\" >Sania</td>\n",
              "      <td id=\"T_06704_row6_col2\" class=\"data row6 col2\" >Accounts</td>\n",
              "      <td id=\"T_06704_row6_col3\" class=\"data row6 col3\" >Calcutta</td>\n",
              "    </tr>\n",
              "    <tr>\n",
              "      <td id=\"T_06704_row7_col0\" class=\"data row7 col0\" >997445</td>\n",
              "      <td id=\"T_06704_row7_col1\" class=\"data row7 col1\" >Jagmohan</td>\n",
              "      <td id=\"T_06704_row7_col2\" class=\"data row7 col2\" >Accounts</td>\n",
              "      <td id=\"T_06704_row7_col3\" class=\"data row7 col3\" >Calcutta</td>\n",
              "    </tr>\n",
              "    <tr>\n",
              "      <td id=\"T_06704_row8_col0\" class=\"data row8 col0\" >822134</td>\n",
              "      <td id=\"T_06704_row8_col1\" class=\"data row8 col1\" >Rahul</td>\n",
              "      <td id=\"T_06704_row8_col2\" class=\"data row8 col2\" >Accounts</td>\n",
              "      <td id=\"T_06704_row8_col3\" class=\"data row8 col3\" >Calcutta</td>\n",
              "    </tr>\n",
              "    <tr>\n",
              "      <td id=\"T_06704_row9_col0\" class=\"data row9 col0\" >989007</td>\n",
              "      <td id=\"T_06704_row9_col1\" class=\"data row9 col1\" >Sourav</td>\n",
              "      <td id=\"T_06704_row9_col2\" class=\"data row9 col2\" >Production</td>\n",
              "      <td id=\"T_06704_row9_col3\" class=\"data row9 col3\" >Bombay</td>\n",
              "    </tr>\n",
              "    <tr>\n",
              "      <td id=\"T_06704_row10_col0\" class=\"data row10 col0\" >123980</td>\n",
              "      <td id=\"T_06704_row10_col1\" class=\"data row10 col1\" >Mahender</td>\n",
              "      <td id=\"T_06704_row10_col2\" class=\"data row10 col2\" >Production</td>\n",
              "      <td id=\"T_06704_row10_col3\" class=\"data row10 col3\" >Bombay</td>\n",
              "    </tr>\n",
              "    <tr>\n",
              "      <td id=\"T_06704_row11_col0\" class=\"data row11 col0\" >349870</td>\n",
              "      <td id=\"T_06704_row11_col1\" class=\"data row11 col1\" >Rani</td>\n",
              "      <td id=\"T_06704_row11_col2\" class=\"data row11 col2\" >Production</td>\n",
              "      <td id=\"T_06704_row11_col3\" class=\"data row11 col3\" >Bombay</td>\n",
              "    </tr>\n",
              "    <tr>\n",
              "      <td id=\"T_06704_row12_col0\" class=\"data row12 col0\" >None</td>\n",
              "      <td id=\"T_06704_row12_col1\" class=\"data row12 col1\" >None</td>\n",
              "      <td id=\"T_06704_row12_col2\" class=\"data row12 col2\" >Research</td>\n",
              "      <td id=\"T_06704_row12_col3\" class=\"data row12 col3\" >Delhi</td>\n",
              "    </tr>\n",
              "  </tbody>\n",
              "</table>\n"
            ]
          },
          "metadata": {},
          "execution_count": 52
        }
      ]
    },
    {
      "cell_type": "markdown",
      "source": [
        "### Full Outer"
      ],
      "metadata": {
        "id": "RsEyhBBp24zy"
      }
    },
    {
      "cell_type": "code",
      "source": [
        "sql = 'select empid, firstname, deptname, location from empl FULL JOIN dept ON empl.deptid = dept.deptid'\n",
        "runSelect(sql)"
      ],
      "metadata": {
        "colab": {
          "base_uri": "https://localhost:8080/",
          "height": 488
        },
        "id": "Ipt14U9o2qFg",
        "outputId": "55883094-233d-4dba-99dd-9928c2257b6b"
      },
      "execution_count": 53,
      "outputs": [
        {
          "output_type": "execute_result",
          "data": {
            "text/plain": [
              "<pandas.io.formats.style.Styler at 0x7b7ea7dc51e0>"
            ],
            "text/html": [
              "<style type=\"text/css\">\n",
              "</style>\n",
              "<table id=\"T_a118b\" class=\"dataframe\">\n",
              "  <thead>\n",
              "    <tr>\n",
              "      <th id=\"T_a118b_level0_col0\" class=\"col_heading level0 col0\" >empid</th>\n",
              "      <th id=\"T_a118b_level0_col1\" class=\"col_heading level0 col1\" >firstname</th>\n",
              "      <th id=\"T_a118b_level0_col2\" class=\"col_heading level0 col2\" >deptname</th>\n",
              "      <th id=\"T_a118b_level0_col3\" class=\"col_heading level0 col3\" >location</th>\n",
              "    </tr>\n",
              "  </thead>\n",
              "  <tbody>\n",
              "    <tr>\n",
              "      <td id=\"T_a118b_row0_col0\" class=\"data row0 col0\" >546223</td>\n",
              "      <td id=\"T_a118b_row0_col1\" class=\"data row0 col1\" >Narayan</td>\n",
              "      <td id=\"T_a118b_row0_col2\" class=\"data row0 col2\" >Corporate</td>\n",
              "      <td id=\"T_a118b_row0_col3\" class=\"data row0 col3\" >Calcutta</td>\n",
              "    </tr>\n",
              "    <tr>\n",
              "      <td id=\"T_a118b_row1_col0\" class=\"data row1 col0\" >299034</td>\n",
              "      <td id=\"T_a118b_row1_col1\" class=\"data row1 col1\" >Rekha</td>\n",
              "      <td id=\"T_a118b_row1_col2\" class=\"data row1 col2\" >Corporate</td>\n",
              "      <td id=\"T_a118b_row1_col3\" class=\"data row1 col3\" >Calcutta</td>\n",
              "    </tr>\n",
              "    <tr>\n",
              "      <td id=\"T_a118b_row2_col0\" class=\"data row2 col0\" >742866</td>\n",
              "      <td id=\"T_a118b_row2_col1\" class=\"data row2 col1\" >Amitabh</td>\n",
              "      <td id=\"T_a118b_row2_col2\" class=\"data row2 col2\" >Corporate</td>\n",
              "      <td id=\"T_a118b_row2_col3\" class=\"data row2 col3\" >Calcutta</td>\n",
              "    </tr>\n",
              "    <tr>\n",
              "      <td id=\"T_a118b_row3_col0\" class=\"data row3 col0\" >897889</td>\n",
              "      <td id=\"T_a118b_row3_col1\" class=\"data row3 col1\" >Virender</td>\n",
              "      <td id=\"T_a118b_row3_col2\" class=\"data row3 col2\" >Sales</td>\n",
              "      <td id=\"T_a118b_row3_col3\" class=\"data row3 col3\" >Calcutta</td>\n",
              "    </tr>\n",
              "    <tr>\n",
              "      <td id=\"T_a118b_row4_col0\" class=\"data row4 col0\" >239456</td>\n",
              "      <td id=\"T_a118b_row4_col1\" class=\"data row4 col1\" >Shahrukh</td>\n",
              "      <td id=\"T_a118b_row4_col2\" class=\"data row4 col2\" >Sales</td>\n",
              "      <td id=\"T_a118b_row4_col3\" class=\"data row4 col3\" >Calcutta</td>\n",
              "    </tr>\n",
              "    <tr>\n",
              "      <td id=\"T_a118b_row5_col0\" class=\"data row5 col0\" >865477</td>\n",
              "      <td id=\"T_a118b_row5_col1\" class=\"data row5 col1\" >Madhuri</td>\n",
              "      <td id=\"T_a118b_row5_col2\" class=\"data row5 col2\" >Sales</td>\n",
              "      <td id=\"T_a118b_row5_col3\" class=\"data row5 col3\" >Calcutta</td>\n",
              "    </tr>\n",
              "    <tr>\n",
              "      <td id=\"T_a118b_row6_col0\" class=\"data row6 col0\" >223112</td>\n",
              "      <td id=\"T_a118b_row6_col1\" class=\"data row6 col1\" >Sania</td>\n",
              "      <td id=\"T_a118b_row6_col2\" class=\"data row6 col2\" >Accounts</td>\n",
              "      <td id=\"T_a118b_row6_col3\" class=\"data row6 col3\" >Calcutta</td>\n",
              "    </tr>\n",
              "    <tr>\n",
              "      <td id=\"T_a118b_row7_col0\" class=\"data row7 col0\" >997445</td>\n",
              "      <td id=\"T_a118b_row7_col1\" class=\"data row7 col1\" >Jagmohan</td>\n",
              "      <td id=\"T_a118b_row7_col2\" class=\"data row7 col2\" >Accounts</td>\n",
              "      <td id=\"T_a118b_row7_col3\" class=\"data row7 col3\" >Calcutta</td>\n",
              "    </tr>\n",
              "    <tr>\n",
              "      <td id=\"T_a118b_row8_col0\" class=\"data row8 col0\" >822134</td>\n",
              "      <td id=\"T_a118b_row8_col1\" class=\"data row8 col1\" >Rahul</td>\n",
              "      <td id=\"T_a118b_row8_col2\" class=\"data row8 col2\" >Accounts</td>\n",
              "      <td id=\"T_a118b_row8_col3\" class=\"data row8 col3\" >Calcutta</td>\n",
              "    </tr>\n",
              "    <tr>\n",
              "      <td id=\"T_a118b_row9_col0\" class=\"data row9 col0\" >989007</td>\n",
              "      <td id=\"T_a118b_row9_col1\" class=\"data row9 col1\" >Sourav</td>\n",
              "      <td id=\"T_a118b_row9_col2\" class=\"data row9 col2\" >Production</td>\n",
              "      <td id=\"T_a118b_row9_col3\" class=\"data row9 col3\" >Bombay</td>\n",
              "    </tr>\n",
              "    <tr>\n",
              "      <td id=\"T_a118b_row10_col0\" class=\"data row10 col0\" >123980</td>\n",
              "      <td id=\"T_a118b_row10_col1\" class=\"data row10 col1\" >Mahender</td>\n",
              "      <td id=\"T_a118b_row10_col2\" class=\"data row10 col2\" >Production</td>\n",
              "      <td id=\"T_a118b_row10_col3\" class=\"data row10 col3\" >Bombay</td>\n",
              "    </tr>\n",
              "    <tr>\n",
              "      <td id=\"T_a118b_row11_col0\" class=\"data row11 col0\" >349870</td>\n",
              "      <td id=\"T_a118b_row11_col1\" class=\"data row11 col1\" >Rani</td>\n",
              "      <td id=\"T_a118b_row11_col2\" class=\"data row11 col2\" >Production</td>\n",
              "      <td id=\"T_a118b_row11_col3\" class=\"data row11 col3\" >Bombay</td>\n",
              "    </tr>\n",
              "    <tr>\n",
              "      <td id=\"T_a118b_row12_col0\" class=\"data row12 col0\" >None</td>\n",
              "      <td id=\"T_a118b_row12_col1\" class=\"data row12 col1\" >None</td>\n",
              "      <td id=\"T_a118b_row12_col2\" class=\"data row12 col2\" >Research</td>\n",
              "      <td id=\"T_a118b_row12_col3\" class=\"data row12 col3\" >Delhi</td>\n",
              "    </tr>\n",
              "    <tr>\n",
              "      <td id=\"T_a118b_row13_col0\" class=\"data row13 col0\" >546224</td>\n",
              "      <td id=\"T_a118b_row13_col1\" class=\"data row13 col1\" >Chettri</td>\n",
              "      <td id=\"T_a118b_row13_col2\" class=\"data row13 col2\" >None</td>\n",
              "      <td id=\"T_a118b_row13_col3\" class=\"data row13 col3\" >None</td>\n",
              "    </tr>\n",
              "  </tbody>\n",
              "</table>\n"
            ]
          },
          "metadata": {},
          "execution_count": 53
        }
      ]
    },
    {
      "cell_type": "code",
      "source": [
        "sql = 'select deptname,round(sum(salary),0) payroll from empl FULL JOIN dept ON empl.deptid = dept.deptid \\\n",
        "group by deptname'\n",
        "runSelect(sql)"
      ],
      "metadata": {
        "id": "EAI2kiYP3p9O",
        "outputId": "ad3e4932-1e8d-49ce-cf21-6074d31cff73",
        "colab": {
          "base_uri": "https://localhost:8080/",
          "height": 238
        }
      },
      "execution_count": 54,
      "outputs": [
        {
          "output_type": "execute_result",
          "data": {
            "text/plain": [
              "<pandas.io.formats.style.Styler at 0x7b7ea7dc6650>"
            ],
            "text/html": [
              "<style type=\"text/css\">\n",
              "</style>\n",
              "<table id=\"T_3e7b5\" class=\"dataframe\">\n",
              "  <thead>\n",
              "    <tr>\n",
              "      <th id=\"T_3e7b5_level0_col0\" class=\"col_heading level0 col0\" >deptname</th>\n",
              "      <th id=\"T_3e7b5_level0_col1\" class=\"col_heading level0 col1\" >payroll</th>\n",
              "    </tr>\n",
              "  </thead>\n",
              "  <tbody>\n",
              "    <tr>\n",
              "      <td id=\"T_3e7b5_row0_col0\" class=\"data row0 col0\" >None</td>\n",
              "      <td id=\"T_3e7b5_row0_col1\" class=\"data row0 col1\" >40000</td>\n",
              "    </tr>\n",
              "    <tr>\n",
              "      <td id=\"T_3e7b5_row1_col0\" class=\"data row1 col0\" >Research</td>\n",
              "      <td id=\"T_3e7b5_row1_col1\" class=\"data row1 col1\" >None</td>\n",
              "    </tr>\n",
              "    <tr>\n",
              "      <td id=\"T_3e7b5_row2_col0\" class=\"data row2 col0\" >Corporate</td>\n",
              "      <td id=\"T_3e7b5_row2_col1\" class=\"data row2 col1\" >150000</td>\n",
              "    </tr>\n",
              "    <tr>\n",
              "      <td id=\"T_3e7b5_row3_col0\" class=\"data row3 col0\" >Accounts</td>\n",
              "      <td id=\"T_3e7b5_row3_col1\" class=\"data row3 col1\" >77000</td>\n",
              "    </tr>\n",
              "    <tr>\n",
              "      <td id=\"T_3e7b5_row4_col0\" class=\"data row4 col0\" >Sales</td>\n",
              "      <td id=\"T_3e7b5_row4_col1\" class=\"data row4 col1\" >55000</td>\n",
              "    </tr>\n",
              "    <tr>\n",
              "      <td id=\"T_3e7b5_row5_col0\" class=\"data row5 col0\" >Production</td>\n",
              "      <td id=\"T_3e7b5_row5_col1\" class=\"data row5 col1\" >54000</td>\n",
              "    </tr>\n",
              "  </tbody>\n",
              "</table>\n"
            ]
          },
          "metadata": {},
          "execution_count": 54
        }
      ]
    },
    {
      "cell_type": "markdown",
      "source": [
        "## Recursive Joins"
      ],
      "metadata": {
        "id": "6nm2xAfn6pIV"
      }
    },
    {
      "cell_type": "markdown",
      "source": [
        "### Three Tables"
      ],
      "metadata": {
        "id": "A1KCGwwyB02z"
      }
    },
    {
      "cell_type": "code",
      "source": [
        "cmd = \"select w.lastname , w.deptID, '>' linksTo  , d.deptID ,d.managerID,'<' linksTo, m.empID, m.lastname \\\n",
        "        from Empl w, Dept d, Empl m \\\n",
        "        where w.deptID = d.deptID   \\\n",
        "        and d.managerID = m.empID \\\n",
        "    \"\n",
        "runSelect(cmd)"
      ],
      "metadata": {
        "colab": {
          "base_uri": "https://localhost:8080/",
          "height": 426
        },
        "id": "W17nS5R7AL0J",
        "outputId": "364f7fa0-2ecb-4fcb-bad9-7652612f6b96"
      },
      "execution_count": 55,
      "outputs": [
        {
          "output_type": "execute_result",
          "data": {
            "text/plain": [
              "<pandas.io.formats.style.Styler at 0x7b7ea7dc6bc0>"
            ],
            "text/html": [
              "<style type=\"text/css\">\n",
              "</style>\n",
              "<table id=\"T_97789\" class=\"dataframe\">\n",
              "  <thead>\n",
              "    <tr>\n",
              "      <th id=\"T_97789_level0_col0\" class=\"col_heading level0 col0\" >lastname</th>\n",
              "      <th id=\"T_97789_level0_col1\" class=\"col_heading level0 col1\" >deptid</th>\n",
              "      <th id=\"T_97789_level0_col2\" class=\"col_heading level0 col2\" >linksto</th>\n",
              "      <th id=\"T_97789_level0_col3\" class=\"col_heading level0 col3\" >deptid</th>\n",
              "      <th id=\"T_97789_level0_col4\" class=\"col_heading level0 col4\" >managerid</th>\n",
              "      <th id=\"T_97789_level0_col5\" class=\"col_heading level0 col5\" >linksto</th>\n",
              "      <th id=\"T_97789_level0_col6\" class=\"col_heading level0 col6\" >empid</th>\n",
              "      <th id=\"T_97789_level0_col7\" class=\"col_heading level0 col7\" >lastname</th>\n",
              "    </tr>\n",
              "  </thead>\n",
              "  <tbody>\n",
              "    <tr>\n",
              "      <td id=\"T_97789_row0_col0\" class=\"data row0 col0\" >Karthikeyan</td>\n",
              "      <td id=\"T_97789_row0_col1\" class=\"data row0 col1\" >10</td>\n",
              "      <td id=\"T_97789_row0_col2\" class=\"data row0 col2\" >></td>\n",
              "      <td id=\"T_97789_row0_col3\" class=\"data row0 col3\" >10</td>\n",
              "      <td id=\"T_97789_row0_col4\" class=\"data row0 col4\" >299034</td>\n",
              "      <td id=\"T_97789_row0_col5\" class=\"data row0 col5\" ><</td>\n",
              "      <td id=\"T_97789_row0_col6\" class=\"data row0 col6\" >299034</td>\n",
              "      <td id=\"T_97789_row0_col7\" class=\"data row0 col7\" >Ganesan</td>\n",
              "    </tr>\n",
              "    <tr>\n",
              "      <td id=\"T_97789_row1_col0\" class=\"data row1 col0\" >Ganesan</td>\n",
              "      <td id=\"T_97789_row1_col1\" class=\"data row1 col1\" >10</td>\n",
              "      <td id=\"T_97789_row1_col2\" class=\"data row1 col2\" >></td>\n",
              "      <td id=\"T_97789_row1_col3\" class=\"data row1 col3\" >10</td>\n",
              "      <td id=\"T_97789_row1_col4\" class=\"data row1 col4\" >299034</td>\n",
              "      <td id=\"T_97789_row1_col5\" class=\"data row1 col5\" ><</td>\n",
              "      <td id=\"T_97789_row1_col6\" class=\"data row1 col6\" >299034</td>\n",
              "      <td id=\"T_97789_row1_col7\" class=\"data row1 col7\" >Ganesan</td>\n",
              "    </tr>\n",
              "    <tr>\n",
              "      <td id=\"T_97789_row2_col0\" class=\"data row2 col0\" >Bacchan</td>\n",
              "      <td id=\"T_97789_row2_col1\" class=\"data row2 col1\" >10</td>\n",
              "      <td id=\"T_97789_row2_col2\" class=\"data row2 col2\" >></td>\n",
              "      <td id=\"T_97789_row2_col3\" class=\"data row2 col3\" >10</td>\n",
              "      <td id=\"T_97789_row2_col4\" class=\"data row2 col4\" >299034</td>\n",
              "      <td id=\"T_97789_row2_col5\" class=\"data row2 col5\" ><</td>\n",
              "      <td id=\"T_97789_row2_col6\" class=\"data row2 col6\" >299034</td>\n",
              "      <td id=\"T_97789_row2_col7\" class=\"data row2 col7\" >Ganesan</td>\n",
              "    </tr>\n",
              "    <tr>\n",
              "      <td id=\"T_97789_row3_col0\" class=\"data row3 col0\" >Sehwag</td>\n",
              "      <td id=\"T_97789_row3_col1\" class=\"data row3 col1\" >20</td>\n",
              "      <td id=\"T_97789_row3_col2\" class=\"data row3 col2\" >></td>\n",
              "      <td id=\"T_97789_row3_col3\" class=\"data row3 col3\" >20</td>\n",
              "      <td id=\"T_97789_row3_col4\" class=\"data row3 col4\" >239456</td>\n",
              "      <td id=\"T_97789_row3_col5\" class=\"data row3 col5\" ><</td>\n",
              "      <td id=\"T_97789_row3_col6\" class=\"data row3 col6\" >239456</td>\n",
              "      <td id=\"T_97789_row3_col7\" class=\"data row3 col7\" >Khan</td>\n",
              "    </tr>\n",
              "    <tr>\n",
              "      <td id=\"T_97789_row4_col0\" class=\"data row4 col0\" >Khan</td>\n",
              "      <td id=\"T_97789_row4_col1\" class=\"data row4 col1\" >20</td>\n",
              "      <td id=\"T_97789_row4_col2\" class=\"data row4 col2\" >></td>\n",
              "      <td id=\"T_97789_row4_col3\" class=\"data row4 col3\" >20</td>\n",
              "      <td id=\"T_97789_row4_col4\" class=\"data row4 col4\" >239456</td>\n",
              "      <td id=\"T_97789_row4_col5\" class=\"data row4 col5\" ><</td>\n",
              "      <td id=\"T_97789_row4_col6\" class=\"data row4 col6\" >239456</td>\n",
              "      <td id=\"T_97789_row4_col7\" class=\"data row4 col7\" >Khan</td>\n",
              "    </tr>\n",
              "    <tr>\n",
              "      <td id=\"T_97789_row5_col0\" class=\"data row5 col0\" >Dikshit</td>\n",
              "      <td id=\"T_97789_row5_col1\" class=\"data row5 col1\" >20</td>\n",
              "      <td id=\"T_97789_row5_col2\" class=\"data row5 col2\" >></td>\n",
              "      <td id=\"T_97789_row5_col3\" class=\"data row5 col3\" >20</td>\n",
              "      <td id=\"T_97789_row5_col4\" class=\"data row5 col4\" >239456</td>\n",
              "      <td id=\"T_97789_row5_col5\" class=\"data row5 col5\" ><</td>\n",
              "      <td id=\"T_97789_row5_col6\" class=\"data row5 col6\" >239456</td>\n",
              "      <td id=\"T_97789_row5_col7\" class=\"data row5 col7\" >Khan</td>\n",
              "    </tr>\n",
              "    <tr>\n",
              "      <td id=\"T_97789_row6_col0\" class=\"data row6 col0\" >Mirza</td>\n",
              "      <td id=\"T_97789_row6_col1\" class=\"data row6 col1\" >30</td>\n",
              "      <td id=\"T_97789_row6_col2\" class=\"data row6 col2\" >></td>\n",
              "      <td id=\"T_97789_row6_col3\" class=\"data row6 col3\" >30</td>\n",
              "      <td id=\"T_97789_row6_col4\" class=\"data row6 col4\" >822134</td>\n",
              "      <td id=\"T_97789_row6_col5\" class=\"data row6 col5\" ><</td>\n",
              "      <td id=\"T_97789_row6_col6\" class=\"data row6 col6\" >822134</td>\n",
              "      <td id=\"T_97789_row6_col7\" class=\"data row6 col7\" >Dravid</td>\n",
              "    </tr>\n",
              "    <tr>\n",
              "      <td id=\"T_97789_row7_col0\" class=\"data row7 col0\" >Dalmia</td>\n",
              "      <td id=\"T_97789_row7_col1\" class=\"data row7 col1\" >30</td>\n",
              "      <td id=\"T_97789_row7_col2\" class=\"data row7 col2\" >></td>\n",
              "      <td id=\"T_97789_row7_col3\" class=\"data row7 col3\" >30</td>\n",
              "      <td id=\"T_97789_row7_col4\" class=\"data row7 col4\" >822134</td>\n",
              "      <td id=\"T_97789_row7_col5\" class=\"data row7 col5\" ><</td>\n",
              "      <td id=\"T_97789_row7_col6\" class=\"data row7 col6\" >822134</td>\n",
              "      <td id=\"T_97789_row7_col7\" class=\"data row7 col7\" >Dravid</td>\n",
              "    </tr>\n",
              "    <tr>\n",
              "      <td id=\"T_97789_row8_col0\" class=\"data row8 col0\" >Dravid</td>\n",
              "      <td id=\"T_97789_row8_col1\" class=\"data row8 col1\" >30</td>\n",
              "      <td id=\"T_97789_row8_col2\" class=\"data row8 col2\" >></td>\n",
              "      <td id=\"T_97789_row8_col3\" class=\"data row8 col3\" >30</td>\n",
              "      <td id=\"T_97789_row8_col4\" class=\"data row8 col4\" >822134</td>\n",
              "      <td id=\"T_97789_row8_col5\" class=\"data row8 col5\" ><</td>\n",
              "      <td id=\"T_97789_row8_col6\" class=\"data row8 col6\" >822134</td>\n",
              "      <td id=\"T_97789_row8_col7\" class=\"data row8 col7\" >Dravid</td>\n",
              "    </tr>\n",
              "    <tr>\n",
              "      <td id=\"T_97789_row9_col0\" class=\"data row9 col0\" >Ganguly</td>\n",
              "      <td id=\"T_97789_row9_col1\" class=\"data row9 col1\" >40</td>\n",
              "      <td id=\"T_97789_row9_col2\" class=\"data row9 col2\" >></td>\n",
              "      <td id=\"T_97789_row9_col3\" class=\"data row9 col3\" >40</td>\n",
              "      <td id=\"T_97789_row9_col4\" class=\"data row9 col4\" >349870</td>\n",
              "      <td id=\"T_97789_row9_col5\" class=\"data row9 col5\" ><</td>\n",
              "      <td id=\"T_97789_row9_col6\" class=\"data row9 col6\" >349870</td>\n",
              "      <td id=\"T_97789_row9_col7\" class=\"data row9 col7\" >Mukherjee</td>\n",
              "    </tr>\n",
              "    <tr>\n",
              "      <td id=\"T_97789_row10_col0\" class=\"data row10 col0\" >Dhoni</td>\n",
              "      <td id=\"T_97789_row10_col1\" class=\"data row10 col1\" >40</td>\n",
              "      <td id=\"T_97789_row10_col2\" class=\"data row10 col2\" >></td>\n",
              "      <td id=\"T_97789_row10_col3\" class=\"data row10 col3\" >40</td>\n",
              "      <td id=\"T_97789_row10_col4\" class=\"data row10 col4\" >349870</td>\n",
              "      <td id=\"T_97789_row10_col5\" class=\"data row10 col5\" ><</td>\n",
              "      <td id=\"T_97789_row10_col6\" class=\"data row10 col6\" >349870</td>\n",
              "      <td id=\"T_97789_row10_col7\" class=\"data row10 col7\" >Mukherjee</td>\n",
              "    </tr>\n",
              "    <tr>\n",
              "      <td id=\"T_97789_row11_col0\" class=\"data row11 col0\" >Mukherjee</td>\n",
              "      <td id=\"T_97789_row11_col1\" class=\"data row11 col1\" >40</td>\n",
              "      <td id=\"T_97789_row11_col2\" class=\"data row11 col2\" >></td>\n",
              "      <td id=\"T_97789_row11_col3\" class=\"data row11 col3\" >40</td>\n",
              "      <td id=\"T_97789_row11_col4\" class=\"data row11 col4\" >349870</td>\n",
              "      <td id=\"T_97789_row11_col5\" class=\"data row11 col5\" ><</td>\n",
              "      <td id=\"T_97789_row11_col6\" class=\"data row11 col6\" >349870</td>\n",
              "      <td id=\"T_97789_row11_col7\" class=\"data row11 col7\" >Mukherjee</td>\n",
              "    </tr>\n",
              "  </tbody>\n",
              "</table>\n"
            ]
          },
          "metadata": {},
          "execution_count": 55
        }
      ]
    },
    {
      "cell_type": "markdown",
      "source": [
        "### Self Join / Single Table"
      ],
      "metadata": {
        "id": "jeknsMbjCA2A"
      }
    },
    {
      "cell_type": "code",
      "source": [
        "cmd = \"Select w.FirstName, w.JobDesc, w.DeptID, \\\n",
        "    ' hired by ' hiredby, \\\n",
        "    m.FirstName,m.JobDesc,m.DeptID \\\n",
        "    from empl w, empl m \\\n",
        "    where w.HiredBy = m.EmpID\"\n",
        "\n",
        "runSelect(cmd)"
      ],
      "metadata": {
        "colab": {
          "base_uri": "https://localhost:8080/",
          "height": 426
        },
        "id": "iDPmUw9-CEBH",
        "outputId": "6b559d0b-0223-4695-f76e-6f2f4e50cc36"
      },
      "execution_count": 56,
      "outputs": [
        {
          "output_type": "execute_result",
          "data": {
            "text/plain": [
              "<pandas.io.formats.style.Styler at 0x7b7ea7dc6440>"
            ],
            "text/html": [
              "<style type=\"text/css\">\n",
              "</style>\n",
              "<table id=\"T_6b180\" class=\"dataframe\">\n",
              "  <thead>\n",
              "    <tr>\n",
              "      <th id=\"T_6b180_level0_col0\" class=\"col_heading level0 col0\" >firstname</th>\n",
              "      <th id=\"T_6b180_level0_col1\" class=\"col_heading level0 col1\" >jobdesc</th>\n",
              "      <th id=\"T_6b180_level0_col2\" class=\"col_heading level0 col2\" >deptid</th>\n",
              "      <th id=\"T_6b180_level0_col3\" class=\"col_heading level0 col3\" >hiredby</th>\n",
              "      <th id=\"T_6b180_level0_col4\" class=\"col_heading level0 col4\" >firstname</th>\n",
              "      <th id=\"T_6b180_level0_col5\" class=\"col_heading level0 col5\" >jobdesc</th>\n",
              "      <th id=\"T_6b180_level0_col6\" class=\"col_heading level0 col6\" >deptid</th>\n",
              "    </tr>\n",
              "  </thead>\n",
              "  <tbody>\n",
              "    <tr>\n",
              "      <td id=\"T_6b180_row0_col0\" class=\"data row0 col0\" >Rani</td>\n",
              "      <td id=\"T_6b180_row0_col1\" class=\"data row0 col1\" >Manager</td>\n",
              "      <td id=\"T_6b180_row0_col2\" class=\"data row0 col2\" >40</td>\n",
              "      <td id=\"T_6b180_row0_col3\" class=\"data row0 col3\" > hired by </td>\n",
              "      <td id=\"T_6b180_row0_col4\" class=\"data row0 col4\" >Amitabh</td>\n",
              "      <td id=\"T_6b180_row0_col5\" class=\"data row0 col5\" >Executive</td>\n",
              "      <td id=\"T_6b180_row0_col6\" class=\"data row0 col6\" >10</td>\n",
              "    </tr>\n",
              "    <tr>\n",
              "      <td id=\"T_6b180_row1_col0\" class=\"data row1 col0\" >Madhuri</td>\n",
              "      <td id=\"T_6b180_row1_col1\" class=\"data row1 col1\" >Clerk</td>\n",
              "      <td id=\"T_6b180_row1_col2\" class=\"data row1 col2\" >20</td>\n",
              "      <td id=\"T_6b180_row1_col3\" class=\"data row1 col3\" > hired by </td>\n",
              "      <td id=\"T_6b180_row1_col4\" class=\"data row1 col4\" >Shahrukh</td>\n",
              "      <td id=\"T_6b180_row1_col5\" class=\"data row1 col5\" >Manager</td>\n",
              "      <td id=\"T_6b180_row1_col6\" class=\"data row1 col6\" >20</td>\n",
              "    </tr>\n",
              "    <tr>\n",
              "      <td id=\"T_6b180_row2_col0\" class=\"data row2 col0\" >Shahrukh</td>\n",
              "      <td id=\"T_6b180_row2_col1\" class=\"data row2 col1\" >Manager</td>\n",
              "      <td id=\"T_6b180_row2_col2\" class=\"data row2 col2\" >20</td>\n",
              "      <td id=\"T_6b180_row2_col3\" class=\"data row2 col3\" > hired by </td>\n",
              "      <td id=\"T_6b180_row2_col4\" class=\"data row2 col4\" >Amitabh</td>\n",
              "      <td id=\"T_6b180_row2_col5\" class=\"data row2 col5\" >Executive</td>\n",
              "      <td id=\"T_6b180_row2_col6\" class=\"data row2 col6\" >10</td>\n",
              "    </tr>\n",
              "    <tr>\n",
              "      <td id=\"T_6b180_row3_col0\" class=\"data row3 col0\" >Virender</td>\n",
              "      <td id=\"T_6b180_row3_col1\" class=\"data row3 col1\" >Cus_Rep</td>\n",
              "      <td id=\"T_6b180_row3_col2\" class=\"data row3 col2\" >20</td>\n",
              "      <td id=\"T_6b180_row3_col3\" class=\"data row3 col3\" > hired by </td>\n",
              "      <td id=\"T_6b180_row3_col4\" class=\"data row3 col4\" >Shahrukh</td>\n",
              "      <td id=\"T_6b180_row3_col5\" class=\"data row3 col5\" >Manager</td>\n",
              "      <td id=\"T_6b180_row3_col6\" class=\"data row3 col6\" >20</td>\n",
              "    </tr>\n",
              "    <tr>\n",
              "      <td id=\"T_6b180_row4_col0\" class=\"data row4 col0\" >Mahender</td>\n",
              "      <td id=\"T_6b180_row4_col1\" class=\"data row4 col1\" >Clerk</td>\n",
              "      <td id=\"T_6b180_row4_col2\" class=\"data row4 col2\" >40</td>\n",
              "      <td id=\"T_6b180_row4_col3\" class=\"data row4 col3\" > hired by </td>\n",
              "      <td id=\"T_6b180_row4_col4\" class=\"data row4 col4\" >Rani</td>\n",
              "      <td id=\"T_6b180_row4_col5\" class=\"data row4 col5\" >Manager</td>\n",
              "      <td id=\"T_6b180_row4_col6\" class=\"data row4 col6\" >40</td>\n",
              "    </tr>\n",
              "    <tr>\n",
              "      <td id=\"T_6b180_row5_col0\" class=\"data row5 col0\" >Rahul</td>\n",
              "      <td id=\"T_6b180_row5_col1\" class=\"data row5 col1\" >Sr Manager</td>\n",
              "      <td id=\"T_6b180_row5_col2\" class=\"data row5 col2\" >30</td>\n",
              "      <td id=\"T_6b180_row5_col3\" class=\"data row5 col3\" > hired by </td>\n",
              "      <td id=\"T_6b180_row5_col4\" class=\"data row5 col4\" >Amitabh</td>\n",
              "      <td id=\"T_6b180_row5_col5\" class=\"data row5 col5\" >Executive</td>\n",
              "      <td id=\"T_6b180_row5_col6\" class=\"data row5 col6\" >10</td>\n",
              "    </tr>\n",
              "    <tr>\n",
              "      <td id=\"T_6b180_row6_col0\" class=\"data row6 col0\" >Jagmohan</td>\n",
              "      <td id=\"T_6b180_row6_col1\" class=\"data row6 col1\" >Clerk</td>\n",
              "      <td id=\"T_6b180_row6_col2\" class=\"data row6 col2\" >30</td>\n",
              "      <td id=\"T_6b180_row6_col3\" class=\"data row6 col3\" > hired by </td>\n",
              "      <td id=\"T_6b180_row6_col4\" class=\"data row6 col4\" >Rahul</td>\n",
              "      <td id=\"T_6b180_row6_col5\" class=\"data row6 col5\" >Sr Manager</td>\n",
              "      <td id=\"T_6b180_row6_col6\" class=\"data row6 col6\" >30</td>\n",
              "    </tr>\n",
              "    <tr>\n",
              "      <td id=\"T_6b180_row7_col0\" class=\"data row7 col0\" >Sourav</td>\n",
              "      <td id=\"T_6b180_row7_col1\" class=\"data row7 col1\" >Cus_Rep</td>\n",
              "      <td id=\"T_6b180_row7_col2\" class=\"data row7 col2\" >40</td>\n",
              "      <td id=\"T_6b180_row7_col3\" class=\"data row7 col3\" > hired by </td>\n",
              "      <td id=\"T_6b180_row7_col4\" class=\"data row7 col4\" >Rekha</td>\n",
              "      <td id=\"T_6b180_row7_col5\" class=\"data row7 col5\" >Director</td>\n",
              "      <td id=\"T_6b180_row7_col6\" class=\"data row7 col6\" >10</td>\n",
              "    </tr>\n",
              "    <tr>\n",
              "      <td id=\"T_6b180_row8_col0\" class=\"data row8 col0\" >Rekha</td>\n",
              "      <td id=\"T_6b180_row8_col1\" class=\"data row8 col1\" >Director</td>\n",
              "      <td id=\"T_6b180_row8_col2\" class=\"data row8 col2\" >10</td>\n",
              "      <td id=\"T_6b180_row8_col3\" class=\"data row8 col3\" > hired by </td>\n",
              "      <td id=\"T_6b180_row8_col4\" class=\"data row8 col4\" >Amitabh</td>\n",
              "      <td id=\"T_6b180_row8_col5\" class=\"data row8 col5\" >Executive</td>\n",
              "      <td id=\"T_6b180_row8_col6\" class=\"data row8 col6\" >10</td>\n",
              "    </tr>\n",
              "    <tr>\n",
              "      <td id=\"T_6b180_row9_col0\" class=\"data row9 col0\" >Narayan</td>\n",
              "      <td id=\"T_6b180_row9_col1\" class=\"data row9 col1\" >Secretary</td>\n",
              "      <td id=\"T_6b180_row9_col2\" class=\"data row9 col2\" >10</td>\n",
              "      <td id=\"T_6b180_row9_col3\" class=\"data row9 col3\" > hired by </td>\n",
              "      <td id=\"T_6b180_row9_col4\" class=\"data row9 col4\" >Rekha</td>\n",
              "      <td id=\"T_6b180_row9_col5\" class=\"data row9 col5\" >Director</td>\n",
              "      <td id=\"T_6b180_row9_col6\" class=\"data row9 col6\" >10</td>\n",
              "    </tr>\n",
              "    <tr>\n",
              "      <td id=\"T_6b180_row10_col0\" class=\"data row10 col0\" >Chettri</td>\n",
              "      <td id=\"T_6b180_row10_col1\" class=\"data row10 col1\" >Dy Manager</td>\n",
              "      <td id=\"T_6b180_row10_col2\" class=\"data row10 col2\" >70</td>\n",
              "      <td id=\"T_6b180_row10_col3\" class=\"data row10 col3\" > hired by </td>\n",
              "      <td id=\"T_6b180_row10_col4\" class=\"data row10 col4\" >Rani</td>\n",
              "      <td id=\"T_6b180_row10_col5\" class=\"data row10 col5\" >Manager</td>\n",
              "      <td id=\"T_6b180_row10_col6\" class=\"data row10 col6\" >40</td>\n",
              "    </tr>\n",
              "    <tr>\n",
              "      <td id=\"T_6b180_row11_col0\" class=\"data row11 col0\" >Sania</td>\n",
              "      <td id=\"T_6b180_row11_col1\" class=\"data row11 col1\" >Cus_Rep</td>\n",
              "      <td id=\"T_6b180_row11_col2\" class=\"data row11 col2\" >30</td>\n",
              "      <td id=\"T_6b180_row11_col3\" class=\"data row11 col3\" > hired by </td>\n",
              "      <td id=\"T_6b180_row11_col4\" class=\"data row11 col4\" >Rahul</td>\n",
              "      <td id=\"T_6b180_row11_col5\" class=\"data row11 col5\" >Sr Manager</td>\n",
              "      <td id=\"T_6b180_row11_col6\" class=\"data row11 col6\" >30</td>\n",
              "    </tr>\n",
              "  </tbody>\n",
              "</table>\n"
            ]
          },
          "metadata": {},
          "execution_count": 56
        }
      ]
    },
    {
      "cell_type": "markdown",
      "source": [
        "#Subquery"
      ],
      "metadata": {
        "id": "tXDgw1RBzUf-"
      }
    },
    {
      "cell_type": "code",
      "source": [
        "sql = \"select lastname, salary, jobdesc, deptid from empl where \\\n",
        "salary = (select max(salary) from empl where deptid = '20') \\\n",
        "and deptid = '20'\"\n",
        "\n",
        "runSelect(sql)"
      ],
      "metadata": {
        "colab": {
          "base_uri": "https://localhost:8080/",
          "height": 81
        },
        "id": "SxQqgOcHzYTF",
        "outputId": "a43052e0-f056-443a-a56b-96d91b1d36c6"
      },
      "execution_count": 57,
      "outputs": [
        {
          "output_type": "execute_result",
          "data": {
            "text/plain": [
              "<pandas.io.formats.style.Styler at 0x7b7ea7dc7820>"
            ],
            "text/html": [
              "<style type=\"text/css\">\n",
              "</style>\n",
              "<table id=\"T_0fe58\" class=\"dataframe\">\n",
              "  <thead>\n",
              "    <tr>\n",
              "      <th id=\"T_0fe58_level0_col0\" class=\"col_heading level0 col0\" >lastname</th>\n",
              "      <th id=\"T_0fe58_level0_col1\" class=\"col_heading level0 col1\" >salary</th>\n",
              "      <th id=\"T_0fe58_level0_col2\" class=\"col_heading level0 col2\" >jobdesc</th>\n",
              "      <th id=\"T_0fe58_level0_col3\" class=\"col_heading level0 col3\" >deptid</th>\n",
              "    </tr>\n",
              "  </thead>\n",
              "  <tbody>\n",
              "    <tr>\n",
              "      <td id=\"T_0fe58_row0_col0\" class=\"data row0 col0\" >Khan</td>\n",
              "      <td id=\"T_0fe58_row0_col1\" class=\"data row0 col1\" >30000</td>\n",
              "      <td id=\"T_0fe58_row0_col2\" class=\"data row0 col2\" >Manager</td>\n",
              "      <td id=\"T_0fe58_row0_col3\" class=\"data row0 col3\" >20</td>\n",
              "    </tr>\n",
              "  </tbody>\n",
              "</table>\n"
            ]
          },
          "metadata": {},
          "execution_count": 57
        }
      ]
    },
    {
      "cell_type": "code",
      "source": [
        "sql = \"select lastname, salary, jobdesc, deptid from empl where salary < (select avg(salary) from empl where deptid = '20')\\\n",
        "and deptid = '20'\"\n",
        "runSelect(sql)"
      ],
      "metadata": {
        "colab": {
          "base_uri": "https://localhost:8080/",
          "height": 112
        },
        "id": "oEhaMtyLz3Tm",
        "outputId": "4fb5237d-3dc0-4fec-b5c5-2a1e808e8df0"
      },
      "execution_count": 58,
      "outputs": [
        {
          "output_type": "execute_result",
          "data": {
            "text/plain": [
              "<pandas.io.formats.style.Styler at 0x7b7ea7dc6f80>"
            ],
            "text/html": [
              "<style type=\"text/css\">\n",
              "</style>\n",
              "<table id=\"T_f4909\" class=\"dataframe\">\n",
              "  <thead>\n",
              "    <tr>\n",
              "      <th id=\"T_f4909_level0_col0\" class=\"col_heading level0 col0\" >lastname</th>\n",
              "      <th id=\"T_f4909_level0_col1\" class=\"col_heading level0 col1\" >salary</th>\n",
              "      <th id=\"T_f4909_level0_col2\" class=\"col_heading level0 col2\" >jobdesc</th>\n",
              "      <th id=\"T_f4909_level0_col3\" class=\"col_heading level0 col3\" >deptid</th>\n",
              "    </tr>\n",
              "  </thead>\n",
              "  <tbody>\n",
              "    <tr>\n",
              "      <td id=\"T_f4909_row0_col0\" class=\"data row0 col0\" >Dikshit</td>\n",
              "      <td id=\"T_f4909_row0_col1\" class=\"data row0 col1\" >10000</td>\n",
              "      <td id=\"T_f4909_row0_col2\" class=\"data row0 col2\" >Clerk</td>\n",
              "      <td id=\"T_f4909_row0_col3\" class=\"data row0 col3\" >20</td>\n",
              "    </tr>\n",
              "    <tr>\n",
              "      <td id=\"T_f4909_row1_col0\" class=\"data row1 col0\" >Sehwag</td>\n",
              "      <td id=\"T_f4909_row1_col1\" class=\"data row1 col1\" >15000</td>\n",
              "      <td id=\"T_f4909_row1_col2\" class=\"data row1 col2\" >Cus_Rep</td>\n",
              "      <td id=\"T_f4909_row1_col3\" class=\"data row1 col3\" >20</td>\n",
              "    </tr>\n",
              "  </tbody>\n",
              "</table>\n"
            ]
          },
          "metadata": {},
          "execution_count": 58
        }
      ]
    },
    {
      "cell_type": "markdown",
      "source": [
        "## Exists | Not Exists"
      ],
      "metadata": {
        "id": "l3GWzCV24a2x"
      }
    },
    {
      "cell_type": "code",
      "source": [
        "#!psql -h localhost -p 5432 -Uupraxis -ddbpraxis -c \"\\\n",
        "sql = \"\\\n",
        "select firstname, jobdesc, deptid from empl \\\n",
        "where exists \\\n",
        "(select * from dept where empl.deptid = dept.deptid)\\\n",
        "order by deptid \\\n",
        "\"\n",
        "runSelect(sql)"
      ],
      "metadata": {
        "colab": {
          "base_uri": "https://localhost:8080/",
          "height": 426
        },
        "id": "9vlJrd584fWu",
        "outputId": "6bd9b486-4444-4c77-a953-dec82be22f73"
      },
      "execution_count": 59,
      "outputs": [
        {
          "output_type": "execute_result",
          "data": {
            "text/plain": [
              "<pandas.io.formats.style.Styler at 0x7b7ea7ddc400>"
            ],
            "text/html": [
              "<style type=\"text/css\">\n",
              "</style>\n",
              "<table id=\"T_5057a\" class=\"dataframe\">\n",
              "  <thead>\n",
              "    <tr>\n",
              "      <th id=\"T_5057a_level0_col0\" class=\"col_heading level0 col0\" >firstname</th>\n",
              "      <th id=\"T_5057a_level0_col1\" class=\"col_heading level0 col1\" >jobdesc</th>\n",
              "      <th id=\"T_5057a_level0_col2\" class=\"col_heading level0 col2\" >deptid</th>\n",
              "    </tr>\n",
              "  </thead>\n",
              "  <tbody>\n",
              "    <tr>\n",
              "      <td id=\"T_5057a_row0_col0\" class=\"data row0 col0\" >Amitabh</td>\n",
              "      <td id=\"T_5057a_row0_col1\" class=\"data row0 col1\" >Executive</td>\n",
              "      <td id=\"T_5057a_row0_col2\" class=\"data row0 col2\" >10</td>\n",
              "    </tr>\n",
              "    <tr>\n",
              "      <td id=\"T_5057a_row1_col0\" class=\"data row1 col0\" >Rekha</td>\n",
              "      <td id=\"T_5057a_row1_col1\" class=\"data row1 col1\" >Director</td>\n",
              "      <td id=\"T_5057a_row1_col2\" class=\"data row1 col2\" >10</td>\n",
              "    </tr>\n",
              "    <tr>\n",
              "      <td id=\"T_5057a_row2_col0\" class=\"data row2 col0\" >Narayan</td>\n",
              "      <td id=\"T_5057a_row2_col1\" class=\"data row2 col1\" >Secretary</td>\n",
              "      <td id=\"T_5057a_row2_col2\" class=\"data row2 col2\" >10</td>\n",
              "    </tr>\n",
              "    <tr>\n",
              "      <td id=\"T_5057a_row3_col0\" class=\"data row3 col0\" >Madhuri</td>\n",
              "      <td id=\"T_5057a_row3_col1\" class=\"data row3 col1\" >Clerk</td>\n",
              "      <td id=\"T_5057a_row3_col2\" class=\"data row3 col2\" >20</td>\n",
              "    </tr>\n",
              "    <tr>\n",
              "      <td id=\"T_5057a_row4_col0\" class=\"data row4 col0\" >Shahrukh</td>\n",
              "      <td id=\"T_5057a_row4_col1\" class=\"data row4 col1\" >Manager</td>\n",
              "      <td id=\"T_5057a_row4_col2\" class=\"data row4 col2\" >20</td>\n",
              "    </tr>\n",
              "    <tr>\n",
              "      <td id=\"T_5057a_row5_col0\" class=\"data row5 col0\" >Virender</td>\n",
              "      <td id=\"T_5057a_row5_col1\" class=\"data row5 col1\" >Cus_Rep</td>\n",
              "      <td id=\"T_5057a_row5_col2\" class=\"data row5 col2\" >20</td>\n",
              "    </tr>\n",
              "    <tr>\n",
              "      <td id=\"T_5057a_row6_col0\" class=\"data row6 col0\" >Sania</td>\n",
              "      <td id=\"T_5057a_row6_col1\" class=\"data row6 col1\" >Cus_Rep</td>\n",
              "      <td id=\"T_5057a_row6_col2\" class=\"data row6 col2\" >30</td>\n",
              "    </tr>\n",
              "    <tr>\n",
              "      <td id=\"T_5057a_row7_col0\" class=\"data row7 col0\" >Rahul</td>\n",
              "      <td id=\"T_5057a_row7_col1\" class=\"data row7 col1\" >Sr Manager</td>\n",
              "      <td id=\"T_5057a_row7_col2\" class=\"data row7 col2\" >30</td>\n",
              "    </tr>\n",
              "    <tr>\n",
              "      <td id=\"T_5057a_row8_col0\" class=\"data row8 col0\" >Jagmohan</td>\n",
              "      <td id=\"T_5057a_row8_col1\" class=\"data row8 col1\" >Clerk</td>\n",
              "      <td id=\"T_5057a_row8_col2\" class=\"data row8 col2\" >30</td>\n",
              "    </tr>\n",
              "    <tr>\n",
              "      <td id=\"T_5057a_row9_col0\" class=\"data row9 col0\" >Sourav</td>\n",
              "      <td id=\"T_5057a_row9_col1\" class=\"data row9 col1\" >Cus_Rep</td>\n",
              "      <td id=\"T_5057a_row9_col2\" class=\"data row9 col2\" >40</td>\n",
              "    </tr>\n",
              "    <tr>\n",
              "      <td id=\"T_5057a_row10_col0\" class=\"data row10 col0\" >Mahender</td>\n",
              "      <td id=\"T_5057a_row10_col1\" class=\"data row10 col1\" >Clerk</td>\n",
              "      <td id=\"T_5057a_row10_col2\" class=\"data row10 col2\" >40</td>\n",
              "    </tr>\n",
              "    <tr>\n",
              "      <td id=\"T_5057a_row11_col0\" class=\"data row11 col0\" >Rani</td>\n",
              "      <td id=\"T_5057a_row11_col1\" class=\"data row11 col1\" >Manager</td>\n",
              "      <td id=\"T_5057a_row11_col2\" class=\"data row11 col2\" >40</td>\n",
              "    </tr>\n",
              "  </tbody>\n",
              "</table>\n"
            ]
          },
          "metadata": {},
          "execution_count": 59
        }
      ]
    },
    {
      "cell_type": "code",
      "source": [
        "#!psql -h localhost -p 5432 -Uupraxis -ddbpraxis -c \"\\\n",
        "sql = \"\\\n",
        "select firstname, jobdesc, deptid from empl \\\n",
        "where not exists \\\n",
        "(select * from dept where empl.deptid = dept.deptid)\\\n",
        "order by deptid \\\n",
        "\"\n",
        "runSelect(sql)"
      ],
      "metadata": {
        "colab": {
          "base_uri": "https://localhost:8080/",
          "height": 81
        },
        "id": "6ntFTYfv5AyB",
        "outputId": "fb8b8dc8-d696-40ba-cde3-581401131be9"
      },
      "execution_count": 60,
      "outputs": [
        {
          "output_type": "execute_result",
          "data": {
            "text/plain": [
              "<pandas.io.formats.style.Styler at 0x7b7ea7d539a0>"
            ],
            "text/html": [
              "<style type=\"text/css\">\n",
              "</style>\n",
              "<table id=\"T_04d80\" class=\"dataframe\">\n",
              "  <thead>\n",
              "    <tr>\n",
              "      <th id=\"T_04d80_level0_col0\" class=\"col_heading level0 col0\" >firstname</th>\n",
              "      <th id=\"T_04d80_level0_col1\" class=\"col_heading level0 col1\" >jobdesc</th>\n",
              "      <th id=\"T_04d80_level0_col2\" class=\"col_heading level0 col2\" >deptid</th>\n",
              "    </tr>\n",
              "  </thead>\n",
              "  <tbody>\n",
              "    <tr>\n",
              "      <td id=\"T_04d80_row0_col0\" class=\"data row0 col0\" >Chettri</td>\n",
              "      <td id=\"T_04d80_row0_col1\" class=\"data row0 col1\" >Dy Manager</td>\n",
              "      <td id=\"T_04d80_row0_col2\" class=\"data row0 col2\" >70</td>\n",
              "    </tr>\n",
              "  </tbody>\n",
              "</table>\n"
            ]
          },
          "metadata": {},
          "execution_count": 60
        }
      ]
    },
    {
      "cell_type": "markdown",
      "source": [
        "## ALL | ANY"
      ],
      "metadata": {
        "id": "Ft9lsq4Uh8-6"
      }
    },
    {
      "cell_type": "code",
      "source": [
        "#!psql -h localhost -p 5432 -Uupraxis -ddbpraxis -c \"\\\n",
        "sql = \"\\\n",
        "select firstname, jobdesc, deptid, salary from empl \\\n",
        "where salary > all \\\n",
        "(select avg(salary) from empl)\\\n",
        "\"\n",
        "runSelect(sql)"
      ],
      "metadata": {
        "id": "ZySW3QRkiBUG",
        "outputId": "4a601d40-c2f3-44eb-b089-2ab40e19e0d5",
        "colab": {
          "base_uri": "https://localhost:8080/",
          "height": 238
        }
      },
      "execution_count": 86,
      "outputs": [
        {
          "output_type": "execute_result",
          "data": {
            "text/plain": [
              "<pandas.io.formats.style.Styler at 0x7b7ed7756da0>"
            ],
            "text/html": [
              "<style type=\"text/css\">\n",
              "</style>\n",
              "<table id=\"T_17e6b\" class=\"dataframe\">\n",
              "  <thead>\n",
              "    <tr>\n",
              "      <th id=\"T_17e6b_level0_col0\" class=\"col_heading level0 col0\" >firstname</th>\n",
              "      <th id=\"T_17e6b_level0_col1\" class=\"col_heading level0 col1\" >jobdesc</th>\n",
              "      <th id=\"T_17e6b_level0_col2\" class=\"col_heading level0 col2\" >deptid</th>\n",
              "      <th id=\"T_17e6b_level0_col3\" class=\"col_heading level0 col3\" >salary</th>\n",
              "    </tr>\n",
              "  </thead>\n",
              "  <tbody>\n",
              "    <tr>\n",
              "      <td id=\"T_17e6b_row0_col0\" class=\"data row0 col0\" >Amitabh</td>\n",
              "      <td id=\"T_17e6b_row0_col1\" class=\"data row0 col1\" >Executive</td>\n",
              "      <td id=\"T_17e6b_row0_col2\" class=\"data row0 col2\" >10</td>\n",
              "      <td id=\"T_17e6b_row0_col3\" class=\"data row0 col3\" >50000</td>\n",
              "    </tr>\n",
              "    <tr>\n",
              "      <td id=\"T_17e6b_row1_col0\" class=\"data row1 col0\" >Shahrukh</td>\n",
              "      <td id=\"T_17e6b_row1_col1\" class=\"data row1 col1\" >Manager</td>\n",
              "      <td id=\"T_17e6b_row1_col2\" class=\"data row1 col2\" >20</td>\n",
              "      <td id=\"T_17e6b_row1_col3\" class=\"data row1 col3\" >30000</td>\n",
              "    </tr>\n",
              "    <tr>\n",
              "      <td id=\"T_17e6b_row2_col0\" class=\"data row2 col0\" >Rahul</td>\n",
              "      <td id=\"T_17e6b_row2_col1\" class=\"data row2 col1\" >Sr Manager</td>\n",
              "      <td id=\"T_17e6b_row2_col2\" class=\"data row2 col2\" >30</td>\n",
              "      <td id=\"T_17e6b_row2_col3\" class=\"data row2 col3\" >40000</td>\n",
              "    </tr>\n",
              "    <tr>\n",
              "      <td id=\"T_17e6b_row3_col0\" class=\"data row3 col0\" >Rekha</td>\n",
              "      <td id=\"T_17e6b_row3_col1\" class=\"data row3 col1\" >Director</td>\n",
              "      <td id=\"T_17e6b_row3_col2\" class=\"data row3 col2\" >10</td>\n",
              "      <td id=\"T_17e6b_row3_col3\" class=\"data row3 col3\" >60000</td>\n",
              "    </tr>\n",
              "    <tr>\n",
              "      <td id=\"T_17e6b_row4_col0\" class=\"data row4 col0\" >Narayan</td>\n",
              "      <td id=\"T_17e6b_row4_col1\" class=\"data row4 col1\" >Secretary</td>\n",
              "      <td id=\"T_17e6b_row4_col2\" class=\"data row4 col2\" >10</td>\n",
              "      <td id=\"T_17e6b_row4_col3\" class=\"data row4 col3\" >40000</td>\n",
              "    </tr>\n",
              "    <tr>\n",
              "      <td id=\"T_17e6b_row5_col0\" class=\"data row5 col0\" >Chettri</td>\n",
              "      <td id=\"T_17e6b_row5_col1\" class=\"data row5 col1\" >Dy Manager</td>\n",
              "      <td id=\"T_17e6b_row5_col2\" class=\"data row5 col2\" >70</td>\n",
              "      <td id=\"T_17e6b_row5_col3\" class=\"data row5 col3\" >40000</td>\n",
              "    </tr>\n",
              "  </tbody>\n",
              "</table>\n"
            ]
          },
          "metadata": {},
          "execution_count": 86
        }
      ]
    },
    {
      "cell_type": "code",
      "source": [
        "#!psql -h localhost -p 5432 -Uupraxis -ddbpraxis -c \"\\\n",
        "sql = \"\\\n",
        "select firstname, jobdesc, deptid, salary from empl \\\n",
        "where salary <= any \\\n",
        "(select min(salary) from empl)\\\n",
        "\"\n",
        "runSelect(sql)"
      ],
      "metadata": {
        "id": "OrNzFUx2i6n1",
        "outputId": "1dd714f7-fc7d-49a5-88f2-30ff35dab366",
        "colab": {
          "base_uri": "https://localhost:8080/",
          "height": 81
        }
      },
      "execution_count": 88,
      "outputs": [
        {
          "output_type": "execute_result",
          "data": {
            "text/plain": [
              "<pandas.io.formats.style.Styler at 0x7b7ea7d1a320>"
            ],
            "text/html": [
              "<style type=\"text/css\">\n",
              "</style>\n",
              "<table id=\"T_f8054\" class=\"dataframe\">\n",
              "  <thead>\n",
              "    <tr>\n",
              "      <th id=\"T_f8054_level0_col0\" class=\"col_heading level0 col0\" >firstname</th>\n",
              "      <th id=\"T_f8054_level0_col1\" class=\"col_heading level0 col1\" >jobdesc</th>\n",
              "      <th id=\"T_f8054_level0_col2\" class=\"col_heading level0 col2\" >deptid</th>\n",
              "      <th id=\"T_f8054_level0_col3\" class=\"col_heading level0 col3\" >salary</th>\n",
              "    </tr>\n",
              "  </thead>\n",
              "  <tbody>\n",
              "    <tr>\n",
              "      <td id=\"T_f8054_row0_col0\" class=\"data row0 col0\" >Mahender</td>\n",
              "      <td id=\"T_f8054_row0_col1\" class=\"data row0 col1\" >Clerk</td>\n",
              "      <td id=\"T_f8054_row0_col2\" class=\"data row0 col2\" >40</td>\n",
              "      <td id=\"T_f8054_row0_col3\" class=\"data row0 col3\" >9000</td>\n",
              "    </tr>\n",
              "  </tbody>\n",
              "</table>\n"
            ]
          },
          "metadata": {},
          "execution_count": 88
        }
      ]
    },
    {
      "cell_type": "markdown",
      "source": [
        "## Common Table Extensions CTE"
      ],
      "metadata": {
        "id": "2gvg8pwe3ale"
      }
    },
    {
      "cell_type": "code",
      "source": [
        "sql = \"\\\n",
        "select jobdesc, avg(salary) avgsalary from empl group by jobdesc \\\n",
        "\"\n",
        "runSelect(sql)"
      ],
      "metadata": {
        "id": "7mu6mmXA3pVn",
        "outputId": "4497fec2-fbd3-4ab5-b963-e765a66b2aef",
        "colab": {
          "base_uri": "https://localhost:8080/",
          "height": 300
        }
      },
      "execution_count": 61,
      "outputs": [
        {
          "output_type": "execute_result",
          "data": {
            "text/plain": [
              "<pandas.io.formats.style.Styler at 0x7b7ea7ddcd90>"
            ],
            "text/html": [
              "<style type=\"text/css\">\n",
              "</style>\n",
              "<table id=\"T_39eab\" class=\"dataframe\">\n",
              "  <thead>\n",
              "    <tr>\n",
              "      <th id=\"T_39eab_level0_col0\" class=\"col_heading level0 col0\" >jobdesc</th>\n",
              "      <th id=\"T_39eab_level0_col1\" class=\"col_heading level0 col1\" >avgsalary</th>\n",
              "    </tr>\n",
              "  </thead>\n",
              "  <tbody>\n",
              "    <tr>\n",
              "      <td id=\"T_39eab_row0_col0\" class=\"data row0 col0\" >Director</td>\n",
              "      <td id=\"T_39eab_row0_col1\" class=\"data row0 col1\" >60000.000000000000</td>\n",
              "    </tr>\n",
              "    <tr>\n",
              "      <td id=\"T_39eab_row1_col0\" class=\"data row1 col0\" >Manager</td>\n",
              "      <td id=\"T_39eab_row1_col1\" class=\"data row1 col1\" >27500.000000000000</td>\n",
              "    </tr>\n",
              "    <tr>\n",
              "      <td id=\"T_39eab_row2_col0\" class=\"data row2 col0\" >Dy Manager</td>\n",
              "      <td id=\"T_39eab_row2_col1\" class=\"data row2 col1\" >40000.000000000000</td>\n",
              "    </tr>\n",
              "    <tr>\n",
              "      <td id=\"T_39eab_row3_col0\" class=\"data row3 col0\" >Executive</td>\n",
              "      <td id=\"T_39eab_row3_col1\" class=\"data row3 col1\" >50000.000000000000</td>\n",
              "    </tr>\n",
              "    <tr>\n",
              "      <td id=\"T_39eab_row4_col0\" class=\"data row4 col0\" >Secretary</td>\n",
              "      <td id=\"T_39eab_row4_col1\" class=\"data row4 col1\" >40000.000000000000</td>\n",
              "    </tr>\n",
              "    <tr>\n",
              "      <td id=\"T_39eab_row5_col0\" class=\"data row5 col0\" >Cus_Rep</td>\n",
              "      <td id=\"T_39eab_row5_col1\" class=\"data row5 col1\" >20000.000000000000</td>\n",
              "    </tr>\n",
              "    <tr>\n",
              "      <td id=\"T_39eab_row6_col0\" class=\"data row6 col0\" >Clerk</td>\n",
              "      <td id=\"T_39eab_row6_col1\" class=\"data row6 col1\" >10333.3333333333333333</td>\n",
              "    </tr>\n",
              "    <tr>\n",
              "      <td id=\"T_39eab_row7_col0\" class=\"data row7 col0\" >Sr Manager</td>\n",
              "      <td id=\"T_39eab_row7_col1\" class=\"data row7 col1\" >40000.000000000000</td>\n",
              "    </tr>\n",
              "  </tbody>\n",
              "</table>\n"
            ]
          },
          "metadata": {},
          "execution_count": 61
        }
      ]
    },
    {
      "cell_type": "code",
      "source": [
        "sql = \"\\\n",
        "with MeanSalary as \\\n",
        "    (select jobdesc, round(avg(salary),0) avgsalary from empl group by jobdesc) \\\n",
        "select lastname, empl.jobdesc, salary, avgsalary from empl, meansalary \\\n",
        "where empl.jobdesc = meansalary.jobdesc \\\n",
        "order  by jobdesc \\\n",
        "\"\n",
        "runSelect(sql)"
      ],
      "metadata": {
        "id": "0i-rIGEzDgFy",
        "outputId": "e6bc62ee-5f7d-4777-ca48-7c2859104a63",
        "colab": {
          "base_uri": "https://localhost:8080/",
          "height": 457
        }
      },
      "execution_count": 62,
      "outputs": [
        {
          "output_type": "execute_result",
          "data": {
            "text/plain": [
              "<pandas.io.formats.style.Styler at 0x7b7ea7dde110>"
            ],
            "text/html": [
              "<style type=\"text/css\">\n",
              "</style>\n",
              "<table id=\"T_f9310\" class=\"dataframe\">\n",
              "  <thead>\n",
              "    <tr>\n",
              "      <th id=\"T_f9310_level0_col0\" class=\"col_heading level0 col0\" >lastname</th>\n",
              "      <th id=\"T_f9310_level0_col1\" class=\"col_heading level0 col1\" >jobdesc</th>\n",
              "      <th id=\"T_f9310_level0_col2\" class=\"col_heading level0 col2\" >salary</th>\n",
              "      <th id=\"T_f9310_level0_col3\" class=\"col_heading level0 col3\" >avgsalary</th>\n",
              "    </tr>\n",
              "  </thead>\n",
              "  <tbody>\n",
              "    <tr>\n",
              "      <td id=\"T_f9310_row0_col0\" class=\"data row0 col0\" >Dalmia</td>\n",
              "      <td id=\"T_f9310_row0_col1\" class=\"data row0 col1\" >Clerk</td>\n",
              "      <td id=\"T_f9310_row0_col2\" class=\"data row0 col2\" >12000</td>\n",
              "      <td id=\"T_f9310_row0_col3\" class=\"data row0 col3\" >10333</td>\n",
              "    </tr>\n",
              "    <tr>\n",
              "      <td id=\"T_f9310_row1_col0\" class=\"data row1 col0\" >Dikshit</td>\n",
              "      <td id=\"T_f9310_row1_col1\" class=\"data row1 col1\" >Clerk</td>\n",
              "      <td id=\"T_f9310_row1_col2\" class=\"data row1 col2\" >10000</td>\n",
              "      <td id=\"T_f9310_row1_col3\" class=\"data row1 col3\" >10333</td>\n",
              "    </tr>\n",
              "    <tr>\n",
              "      <td id=\"T_f9310_row2_col0\" class=\"data row2 col0\" >Dhoni</td>\n",
              "      <td id=\"T_f9310_row2_col1\" class=\"data row2 col1\" >Clerk</td>\n",
              "      <td id=\"T_f9310_row2_col2\" class=\"data row2 col2\" >9000</td>\n",
              "      <td id=\"T_f9310_row2_col3\" class=\"data row2 col3\" >10333</td>\n",
              "    </tr>\n",
              "    <tr>\n",
              "      <td id=\"T_f9310_row3_col0\" class=\"data row3 col0\" >Sehwag</td>\n",
              "      <td id=\"T_f9310_row3_col1\" class=\"data row3 col1\" >Cus_Rep</td>\n",
              "      <td id=\"T_f9310_row3_col2\" class=\"data row3 col2\" >15000</td>\n",
              "      <td id=\"T_f9310_row3_col3\" class=\"data row3 col3\" >20000</td>\n",
              "    </tr>\n",
              "    <tr>\n",
              "      <td id=\"T_f9310_row4_col0\" class=\"data row4 col0\" >Mirza</td>\n",
              "      <td id=\"T_f9310_row4_col1\" class=\"data row4 col1\" >Cus_Rep</td>\n",
              "      <td id=\"T_f9310_row4_col2\" class=\"data row4 col2\" >25000</td>\n",
              "      <td id=\"T_f9310_row4_col3\" class=\"data row4 col3\" >20000</td>\n",
              "    </tr>\n",
              "    <tr>\n",
              "      <td id=\"T_f9310_row5_col0\" class=\"data row5 col0\" >Ganguly</td>\n",
              "      <td id=\"T_f9310_row5_col1\" class=\"data row5 col1\" >Cus_Rep</td>\n",
              "      <td id=\"T_f9310_row5_col2\" class=\"data row5 col2\" >20000</td>\n",
              "      <td id=\"T_f9310_row5_col3\" class=\"data row5 col3\" >20000</td>\n",
              "    </tr>\n",
              "    <tr>\n",
              "      <td id=\"T_f9310_row6_col0\" class=\"data row6 col0\" >Ganesan</td>\n",
              "      <td id=\"T_f9310_row6_col1\" class=\"data row6 col1\" >Director</td>\n",
              "      <td id=\"T_f9310_row6_col2\" class=\"data row6 col2\" >60000</td>\n",
              "      <td id=\"T_f9310_row6_col3\" class=\"data row6 col3\" >60000</td>\n",
              "    </tr>\n",
              "    <tr>\n",
              "      <td id=\"T_f9310_row7_col0\" class=\"data row7 col0\" >Sunil</td>\n",
              "      <td id=\"T_f9310_row7_col1\" class=\"data row7 col1\" >Dy Manager</td>\n",
              "      <td id=\"T_f9310_row7_col2\" class=\"data row7 col2\" >40000</td>\n",
              "      <td id=\"T_f9310_row7_col3\" class=\"data row7 col3\" >40000</td>\n",
              "    </tr>\n",
              "    <tr>\n",
              "      <td id=\"T_f9310_row8_col0\" class=\"data row8 col0\" >Bacchan</td>\n",
              "      <td id=\"T_f9310_row8_col1\" class=\"data row8 col1\" >Executive</td>\n",
              "      <td id=\"T_f9310_row8_col2\" class=\"data row8 col2\" >50000</td>\n",
              "      <td id=\"T_f9310_row8_col3\" class=\"data row8 col3\" >50000</td>\n",
              "    </tr>\n",
              "    <tr>\n",
              "      <td id=\"T_f9310_row9_col0\" class=\"data row9 col0\" >Khan</td>\n",
              "      <td id=\"T_f9310_row9_col1\" class=\"data row9 col1\" >Manager</td>\n",
              "      <td id=\"T_f9310_row9_col2\" class=\"data row9 col2\" >30000</td>\n",
              "      <td id=\"T_f9310_row9_col3\" class=\"data row9 col3\" >27500</td>\n",
              "    </tr>\n",
              "    <tr>\n",
              "      <td id=\"T_f9310_row10_col0\" class=\"data row10 col0\" >Mukherjee</td>\n",
              "      <td id=\"T_f9310_row10_col1\" class=\"data row10 col1\" >Manager</td>\n",
              "      <td id=\"T_f9310_row10_col2\" class=\"data row10 col2\" >25000</td>\n",
              "      <td id=\"T_f9310_row10_col3\" class=\"data row10 col3\" >27500</td>\n",
              "    </tr>\n",
              "    <tr>\n",
              "      <td id=\"T_f9310_row11_col0\" class=\"data row11 col0\" >Karthikeyan</td>\n",
              "      <td id=\"T_f9310_row11_col1\" class=\"data row11 col1\" >Secretary</td>\n",
              "      <td id=\"T_f9310_row11_col2\" class=\"data row11 col2\" >40000</td>\n",
              "      <td id=\"T_f9310_row11_col3\" class=\"data row11 col3\" >40000</td>\n",
              "    </tr>\n",
              "    <tr>\n",
              "      <td id=\"T_f9310_row12_col0\" class=\"data row12 col0\" >Dravid</td>\n",
              "      <td id=\"T_f9310_row12_col1\" class=\"data row12 col1\" >Sr Manager</td>\n",
              "      <td id=\"T_f9310_row12_col2\" class=\"data row12 col2\" >40000</td>\n",
              "      <td id=\"T_f9310_row12_col3\" class=\"data row12 col3\" >40000</td>\n",
              "    </tr>\n",
              "  </tbody>\n",
              "</table>\n"
            ]
          },
          "metadata": {},
          "execution_count": 62
        }
      ]
    },
    {
      "cell_type": "code",
      "source": [
        "sql = \"\\\n",
        "select lastname, empl.jobdesc, salary, avgsalary from \\\n",
        "empl, (select jobdesc, round(avg(salary),0) avgsalary from empl group by jobdesc) meansalary \\\n",
        "where empl.jobdesc = meansalary.jobdesc \\\n",
        "order  by jobdesc \\\n",
        "\"\n",
        "runSelect(sql)"
      ],
      "metadata": {
        "id": "nwrLj4xaExye",
        "outputId": "ef66a0ab-17a2-4111-f626-0082dc6fff42",
        "colab": {
          "base_uri": "https://localhost:8080/",
          "height": 457
        }
      },
      "execution_count": 63,
      "outputs": [
        {
          "output_type": "execute_result",
          "data": {
            "text/plain": [
              "<pandas.io.formats.style.Styler at 0x7b7ea7dde2c0>"
            ],
            "text/html": [
              "<style type=\"text/css\">\n",
              "</style>\n",
              "<table id=\"T_1ab05\" class=\"dataframe\">\n",
              "  <thead>\n",
              "    <tr>\n",
              "      <th id=\"T_1ab05_level0_col0\" class=\"col_heading level0 col0\" >lastname</th>\n",
              "      <th id=\"T_1ab05_level0_col1\" class=\"col_heading level0 col1\" >jobdesc</th>\n",
              "      <th id=\"T_1ab05_level0_col2\" class=\"col_heading level0 col2\" >salary</th>\n",
              "      <th id=\"T_1ab05_level0_col3\" class=\"col_heading level0 col3\" >avgsalary</th>\n",
              "    </tr>\n",
              "  </thead>\n",
              "  <tbody>\n",
              "    <tr>\n",
              "      <td id=\"T_1ab05_row0_col0\" class=\"data row0 col0\" >Dalmia</td>\n",
              "      <td id=\"T_1ab05_row0_col1\" class=\"data row0 col1\" >Clerk</td>\n",
              "      <td id=\"T_1ab05_row0_col2\" class=\"data row0 col2\" >12000</td>\n",
              "      <td id=\"T_1ab05_row0_col3\" class=\"data row0 col3\" >10333</td>\n",
              "    </tr>\n",
              "    <tr>\n",
              "      <td id=\"T_1ab05_row1_col0\" class=\"data row1 col0\" >Dikshit</td>\n",
              "      <td id=\"T_1ab05_row1_col1\" class=\"data row1 col1\" >Clerk</td>\n",
              "      <td id=\"T_1ab05_row1_col2\" class=\"data row1 col2\" >10000</td>\n",
              "      <td id=\"T_1ab05_row1_col3\" class=\"data row1 col3\" >10333</td>\n",
              "    </tr>\n",
              "    <tr>\n",
              "      <td id=\"T_1ab05_row2_col0\" class=\"data row2 col0\" >Dhoni</td>\n",
              "      <td id=\"T_1ab05_row2_col1\" class=\"data row2 col1\" >Clerk</td>\n",
              "      <td id=\"T_1ab05_row2_col2\" class=\"data row2 col2\" >9000</td>\n",
              "      <td id=\"T_1ab05_row2_col3\" class=\"data row2 col3\" >10333</td>\n",
              "    </tr>\n",
              "    <tr>\n",
              "      <td id=\"T_1ab05_row3_col0\" class=\"data row3 col0\" >Sehwag</td>\n",
              "      <td id=\"T_1ab05_row3_col1\" class=\"data row3 col1\" >Cus_Rep</td>\n",
              "      <td id=\"T_1ab05_row3_col2\" class=\"data row3 col2\" >15000</td>\n",
              "      <td id=\"T_1ab05_row3_col3\" class=\"data row3 col3\" >20000</td>\n",
              "    </tr>\n",
              "    <tr>\n",
              "      <td id=\"T_1ab05_row4_col0\" class=\"data row4 col0\" >Mirza</td>\n",
              "      <td id=\"T_1ab05_row4_col1\" class=\"data row4 col1\" >Cus_Rep</td>\n",
              "      <td id=\"T_1ab05_row4_col2\" class=\"data row4 col2\" >25000</td>\n",
              "      <td id=\"T_1ab05_row4_col3\" class=\"data row4 col3\" >20000</td>\n",
              "    </tr>\n",
              "    <tr>\n",
              "      <td id=\"T_1ab05_row5_col0\" class=\"data row5 col0\" >Ganguly</td>\n",
              "      <td id=\"T_1ab05_row5_col1\" class=\"data row5 col1\" >Cus_Rep</td>\n",
              "      <td id=\"T_1ab05_row5_col2\" class=\"data row5 col2\" >20000</td>\n",
              "      <td id=\"T_1ab05_row5_col3\" class=\"data row5 col3\" >20000</td>\n",
              "    </tr>\n",
              "    <tr>\n",
              "      <td id=\"T_1ab05_row6_col0\" class=\"data row6 col0\" >Ganesan</td>\n",
              "      <td id=\"T_1ab05_row6_col1\" class=\"data row6 col1\" >Director</td>\n",
              "      <td id=\"T_1ab05_row6_col2\" class=\"data row6 col2\" >60000</td>\n",
              "      <td id=\"T_1ab05_row6_col3\" class=\"data row6 col3\" >60000</td>\n",
              "    </tr>\n",
              "    <tr>\n",
              "      <td id=\"T_1ab05_row7_col0\" class=\"data row7 col0\" >Sunil</td>\n",
              "      <td id=\"T_1ab05_row7_col1\" class=\"data row7 col1\" >Dy Manager</td>\n",
              "      <td id=\"T_1ab05_row7_col2\" class=\"data row7 col2\" >40000</td>\n",
              "      <td id=\"T_1ab05_row7_col3\" class=\"data row7 col3\" >40000</td>\n",
              "    </tr>\n",
              "    <tr>\n",
              "      <td id=\"T_1ab05_row8_col0\" class=\"data row8 col0\" >Bacchan</td>\n",
              "      <td id=\"T_1ab05_row8_col1\" class=\"data row8 col1\" >Executive</td>\n",
              "      <td id=\"T_1ab05_row8_col2\" class=\"data row8 col2\" >50000</td>\n",
              "      <td id=\"T_1ab05_row8_col3\" class=\"data row8 col3\" >50000</td>\n",
              "    </tr>\n",
              "    <tr>\n",
              "      <td id=\"T_1ab05_row9_col0\" class=\"data row9 col0\" >Khan</td>\n",
              "      <td id=\"T_1ab05_row9_col1\" class=\"data row9 col1\" >Manager</td>\n",
              "      <td id=\"T_1ab05_row9_col2\" class=\"data row9 col2\" >30000</td>\n",
              "      <td id=\"T_1ab05_row9_col3\" class=\"data row9 col3\" >27500</td>\n",
              "    </tr>\n",
              "    <tr>\n",
              "      <td id=\"T_1ab05_row10_col0\" class=\"data row10 col0\" >Mukherjee</td>\n",
              "      <td id=\"T_1ab05_row10_col1\" class=\"data row10 col1\" >Manager</td>\n",
              "      <td id=\"T_1ab05_row10_col2\" class=\"data row10 col2\" >25000</td>\n",
              "      <td id=\"T_1ab05_row10_col3\" class=\"data row10 col3\" >27500</td>\n",
              "    </tr>\n",
              "    <tr>\n",
              "      <td id=\"T_1ab05_row11_col0\" class=\"data row11 col0\" >Karthikeyan</td>\n",
              "      <td id=\"T_1ab05_row11_col1\" class=\"data row11 col1\" >Secretary</td>\n",
              "      <td id=\"T_1ab05_row11_col2\" class=\"data row11 col2\" >40000</td>\n",
              "      <td id=\"T_1ab05_row11_col3\" class=\"data row11 col3\" >40000</td>\n",
              "    </tr>\n",
              "    <tr>\n",
              "      <td id=\"T_1ab05_row12_col0\" class=\"data row12 col0\" >Dravid</td>\n",
              "      <td id=\"T_1ab05_row12_col1\" class=\"data row12 col1\" >Sr Manager</td>\n",
              "      <td id=\"T_1ab05_row12_col2\" class=\"data row12 col2\" >40000</td>\n",
              "      <td id=\"T_1ab05_row12_col3\" class=\"data row12 col3\" >40000</td>\n",
              "    </tr>\n",
              "  </tbody>\n",
              "</table>\n"
            ]
          },
          "metadata": {},
          "execution_count": 63
        }
      ]
    },
    {
      "cell_type": "markdown",
      "source": [
        "#Window Functions"
      ],
      "metadata": {
        "id": "p1v2XtGa1QOq"
      }
    },
    {
      "cell_type": "code",
      "source": [
        "sql = \"select deptid, lastname, salary, \\\n",
        "    avg(salary) over (partition by deptid) \\\n",
        "    from empl\"\n",
        "runSelect(sql)"
      ],
      "metadata": {
        "colab": {
          "base_uri": "https://localhost:8080/",
          "height": 457
        },
        "id": "ffpu5hXo1TfJ",
        "outputId": "35db71c9-9448-4d47-90c0-d61564c8f829"
      },
      "execution_count": 64,
      "outputs": [
        {
          "output_type": "execute_result",
          "data": {
            "text/plain": [
              "<pandas.io.formats.style.Styler at 0x7b7ea7dddb10>"
            ],
            "text/html": [
              "<style type=\"text/css\">\n",
              "</style>\n",
              "<table id=\"T_2da23\" class=\"dataframe\">\n",
              "  <thead>\n",
              "    <tr>\n",
              "      <th id=\"T_2da23_level0_col0\" class=\"col_heading level0 col0\" >deptid</th>\n",
              "      <th id=\"T_2da23_level0_col1\" class=\"col_heading level0 col1\" >lastname</th>\n",
              "      <th id=\"T_2da23_level0_col2\" class=\"col_heading level0 col2\" >salary</th>\n",
              "      <th id=\"T_2da23_level0_col3\" class=\"col_heading level0 col3\" >avg</th>\n",
              "    </tr>\n",
              "  </thead>\n",
              "  <tbody>\n",
              "    <tr>\n",
              "      <td id=\"T_2da23_row0_col0\" class=\"data row0 col0\" >10</td>\n",
              "      <td id=\"T_2da23_row0_col1\" class=\"data row0 col1\" >Bacchan</td>\n",
              "      <td id=\"T_2da23_row0_col2\" class=\"data row0 col2\" >50000</td>\n",
              "      <td id=\"T_2da23_row0_col3\" class=\"data row0 col3\" >50000.000000000000</td>\n",
              "    </tr>\n",
              "    <tr>\n",
              "      <td id=\"T_2da23_row1_col0\" class=\"data row1 col0\" >10</td>\n",
              "      <td id=\"T_2da23_row1_col1\" class=\"data row1 col1\" >Ganesan</td>\n",
              "      <td id=\"T_2da23_row1_col2\" class=\"data row1 col2\" >60000</td>\n",
              "      <td id=\"T_2da23_row1_col3\" class=\"data row1 col3\" >50000.000000000000</td>\n",
              "    </tr>\n",
              "    <tr>\n",
              "      <td id=\"T_2da23_row2_col0\" class=\"data row2 col0\" >10</td>\n",
              "      <td id=\"T_2da23_row2_col1\" class=\"data row2 col1\" >Karthikeyan</td>\n",
              "      <td id=\"T_2da23_row2_col2\" class=\"data row2 col2\" >40000</td>\n",
              "      <td id=\"T_2da23_row2_col3\" class=\"data row2 col3\" >50000.000000000000</td>\n",
              "    </tr>\n",
              "    <tr>\n",
              "      <td id=\"T_2da23_row3_col0\" class=\"data row3 col0\" >20</td>\n",
              "      <td id=\"T_2da23_row3_col1\" class=\"data row3 col1\" >Dikshit</td>\n",
              "      <td id=\"T_2da23_row3_col2\" class=\"data row3 col2\" >10000</td>\n",
              "      <td id=\"T_2da23_row3_col3\" class=\"data row3 col3\" >18333.333333333333</td>\n",
              "    </tr>\n",
              "    <tr>\n",
              "      <td id=\"T_2da23_row4_col0\" class=\"data row4 col0\" >20</td>\n",
              "      <td id=\"T_2da23_row4_col1\" class=\"data row4 col1\" >Khan</td>\n",
              "      <td id=\"T_2da23_row4_col2\" class=\"data row4 col2\" >30000</td>\n",
              "      <td id=\"T_2da23_row4_col3\" class=\"data row4 col3\" >18333.333333333333</td>\n",
              "    </tr>\n",
              "    <tr>\n",
              "      <td id=\"T_2da23_row5_col0\" class=\"data row5 col0\" >20</td>\n",
              "      <td id=\"T_2da23_row5_col1\" class=\"data row5 col1\" >Sehwag</td>\n",
              "      <td id=\"T_2da23_row5_col2\" class=\"data row5 col2\" >15000</td>\n",
              "      <td id=\"T_2da23_row5_col3\" class=\"data row5 col3\" >18333.333333333333</td>\n",
              "    </tr>\n",
              "    <tr>\n",
              "      <td id=\"T_2da23_row6_col0\" class=\"data row6 col0\" >30</td>\n",
              "      <td id=\"T_2da23_row6_col1\" class=\"data row6 col1\" >Mirza</td>\n",
              "      <td id=\"T_2da23_row6_col2\" class=\"data row6 col2\" >25000</td>\n",
              "      <td id=\"T_2da23_row6_col3\" class=\"data row6 col3\" >25666.666666666667</td>\n",
              "    </tr>\n",
              "    <tr>\n",
              "      <td id=\"T_2da23_row7_col0\" class=\"data row7 col0\" >30</td>\n",
              "      <td id=\"T_2da23_row7_col1\" class=\"data row7 col1\" >Dravid</td>\n",
              "      <td id=\"T_2da23_row7_col2\" class=\"data row7 col2\" >40000</td>\n",
              "      <td id=\"T_2da23_row7_col3\" class=\"data row7 col3\" >25666.666666666667</td>\n",
              "    </tr>\n",
              "    <tr>\n",
              "      <td id=\"T_2da23_row8_col0\" class=\"data row8 col0\" >30</td>\n",
              "      <td id=\"T_2da23_row8_col1\" class=\"data row8 col1\" >Dalmia</td>\n",
              "      <td id=\"T_2da23_row8_col2\" class=\"data row8 col2\" >12000</td>\n",
              "      <td id=\"T_2da23_row8_col3\" class=\"data row8 col3\" >25666.666666666667</td>\n",
              "    </tr>\n",
              "    <tr>\n",
              "      <td id=\"T_2da23_row9_col0\" class=\"data row9 col0\" >40</td>\n",
              "      <td id=\"T_2da23_row9_col1\" class=\"data row9 col1\" >Ganguly</td>\n",
              "      <td id=\"T_2da23_row9_col2\" class=\"data row9 col2\" >20000</td>\n",
              "      <td id=\"T_2da23_row9_col3\" class=\"data row9 col3\" >18000.000000000000</td>\n",
              "    </tr>\n",
              "    <tr>\n",
              "      <td id=\"T_2da23_row10_col0\" class=\"data row10 col0\" >40</td>\n",
              "      <td id=\"T_2da23_row10_col1\" class=\"data row10 col1\" >Dhoni</td>\n",
              "      <td id=\"T_2da23_row10_col2\" class=\"data row10 col2\" >9000</td>\n",
              "      <td id=\"T_2da23_row10_col3\" class=\"data row10 col3\" >18000.000000000000</td>\n",
              "    </tr>\n",
              "    <tr>\n",
              "      <td id=\"T_2da23_row11_col0\" class=\"data row11 col0\" >40</td>\n",
              "      <td id=\"T_2da23_row11_col1\" class=\"data row11 col1\" >Mukherjee</td>\n",
              "      <td id=\"T_2da23_row11_col2\" class=\"data row11 col2\" >25000</td>\n",
              "      <td id=\"T_2da23_row11_col3\" class=\"data row11 col3\" >18000.000000000000</td>\n",
              "    </tr>\n",
              "    <tr>\n",
              "      <td id=\"T_2da23_row12_col0\" class=\"data row12 col0\" >70</td>\n",
              "      <td id=\"T_2da23_row12_col1\" class=\"data row12 col1\" >Sunil</td>\n",
              "      <td id=\"T_2da23_row12_col2\" class=\"data row12 col2\" >40000</td>\n",
              "      <td id=\"T_2da23_row12_col3\" class=\"data row12 col3\" >40000.000000000000</td>\n",
              "    </tr>\n",
              "  </tbody>\n",
              "</table>\n"
            ]
          },
          "metadata": {},
          "execution_count": 64
        }
      ]
    },
    {
      "cell_type": "code",
      "source": [
        "sql = \"select deptname, lastname, salary, avg(salary) over (partition by deptname) from empl  inner join dept using(deptid)\"\n",
        "runSelect(sql)"
      ],
      "metadata": {
        "colab": {
          "base_uri": "https://localhost:8080/",
          "height": 426
        },
        "id": "JZC4y3tg2o8A",
        "outputId": "0a978da0-b604-42e5-9aba-48e592f3e739"
      },
      "execution_count": 65,
      "outputs": [
        {
          "output_type": "execute_result",
          "data": {
            "text/plain": [
              "<pandas.io.formats.style.Styler at 0x7b7ea7ddd7b0>"
            ],
            "text/html": [
              "<style type=\"text/css\">\n",
              "</style>\n",
              "<table id=\"T_32054\" class=\"dataframe\">\n",
              "  <thead>\n",
              "    <tr>\n",
              "      <th id=\"T_32054_level0_col0\" class=\"col_heading level0 col0\" >deptname</th>\n",
              "      <th id=\"T_32054_level0_col1\" class=\"col_heading level0 col1\" >lastname</th>\n",
              "      <th id=\"T_32054_level0_col2\" class=\"col_heading level0 col2\" >salary</th>\n",
              "      <th id=\"T_32054_level0_col3\" class=\"col_heading level0 col3\" >avg</th>\n",
              "    </tr>\n",
              "  </thead>\n",
              "  <tbody>\n",
              "    <tr>\n",
              "      <td id=\"T_32054_row0_col0\" class=\"data row0 col0\" >Accounts</td>\n",
              "      <td id=\"T_32054_row0_col1\" class=\"data row0 col1\" >Dravid</td>\n",
              "      <td id=\"T_32054_row0_col2\" class=\"data row0 col2\" >40000</td>\n",
              "      <td id=\"T_32054_row0_col3\" class=\"data row0 col3\" >25666.666666666667</td>\n",
              "    </tr>\n",
              "    <tr>\n",
              "      <td id=\"T_32054_row1_col0\" class=\"data row1 col0\" >Accounts</td>\n",
              "      <td id=\"T_32054_row1_col1\" class=\"data row1 col1\" >Dalmia</td>\n",
              "      <td id=\"T_32054_row1_col2\" class=\"data row1 col2\" >12000</td>\n",
              "      <td id=\"T_32054_row1_col3\" class=\"data row1 col3\" >25666.666666666667</td>\n",
              "    </tr>\n",
              "    <tr>\n",
              "      <td id=\"T_32054_row2_col0\" class=\"data row2 col0\" >Accounts</td>\n",
              "      <td id=\"T_32054_row2_col1\" class=\"data row2 col1\" >Mirza</td>\n",
              "      <td id=\"T_32054_row2_col2\" class=\"data row2 col2\" >25000</td>\n",
              "      <td id=\"T_32054_row2_col3\" class=\"data row2 col3\" >25666.666666666667</td>\n",
              "    </tr>\n",
              "    <tr>\n",
              "      <td id=\"T_32054_row3_col0\" class=\"data row3 col0\" >Corporate</td>\n",
              "      <td id=\"T_32054_row3_col1\" class=\"data row3 col1\" >Karthikeyan</td>\n",
              "      <td id=\"T_32054_row3_col2\" class=\"data row3 col2\" >40000</td>\n",
              "      <td id=\"T_32054_row3_col3\" class=\"data row3 col3\" >50000.000000000000</td>\n",
              "    </tr>\n",
              "    <tr>\n",
              "      <td id=\"T_32054_row4_col0\" class=\"data row4 col0\" >Corporate</td>\n",
              "      <td id=\"T_32054_row4_col1\" class=\"data row4 col1\" >Ganesan</td>\n",
              "      <td id=\"T_32054_row4_col2\" class=\"data row4 col2\" >60000</td>\n",
              "      <td id=\"T_32054_row4_col3\" class=\"data row4 col3\" >50000.000000000000</td>\n",
              "    </tr>\n",
              "    <tr>\n",
              "      <td id=\"T_32054_row5_col0\" class=\"data row5 col0\" >Corporate</td>\n",
              "      <td id=\"T_32054_row5_col1\" class=\"data row5 col1\" >Bacchan</td>\n",
              "      <td id=\"T_32054_row5_col2\" class=\"data row5 col2\" >50000</td>\n",
              "      <td id=\"T_32054_row5_col3\" class=\"data row5 col3\" >50000.000000000000</td>\n",
              "    </tr>\n",
              "    <tr>\n",
              "      <td id=\"T_32054_row6_col0\" class=\"data row6 col0\" >Production</td>\n",
              "      <td id=\"T_32054_row6_col1\" class=\"data row6 col1\" >Ganguly</td>\n",
              "      <td id=\"T_32054_row6_col2\" class=\"data row6 col2\" >20000</td>\n",
              "      <td id=\"T_32054_row6_col3\" class=\"data row6 col3\" >18000.000000000000</td>\n",
              "    </tr>\n",
              "    <tr>\n",
              "      <td id=\"T_32054_row7_col0\" class=\"data row7 col0\" >Production</td>\n",
              "      <td id=\"T_32054_row7_col1\" class=\"data row7 col1\" >Dhoni</td>\n",
              "      <td id=\"T_32054_row7_col2\" class=\"data row7 col2\" >9000</td>\n",
              "      <td id=\"T_32054_row7_col3\" class=\"data row7 col3\" >18000.000000000000</td>\n",
              "    </tr>\n",
              "    <tr>\n",
              "      <td id=\"T_32054_row8_col0\" class=\"data row8 col0\" >Production</td>\n",
              "      <td id=\"T_32054_row8_col1\" class=\"data row8 col1\" >Mukherjee</td>\n",
              "      <td id=\"T_32054_row8_col2\" class=\"data row8 col2\" >25000</td>\n",
              "      <td id=\"T_32054_row8_col3\" class=\"data row8 col3\" >18000.000000000000</td>\n",
              "    </tr>\n",
              "    <tr>\n",
              "      <td id=\"T_32054_row9_col0\" class=\"data row9 col0\" >Sales</td>\n",
              "      <td id=\"T_32054_row9_col1\" class=\"data row9 col1\" >Dikshit</td>\n",
              "      <td id=\"T_32054_row9_col2\" class=\"data row9 col2\" >10000</td>\n",
              "      <td id=\"T_32054_row9_col3\" class=\"data row9 col3\" >18333.333333333333</td>\n",
              "    </tr>\n",
              "    <tr>\n",
              "      <td id=\"T_32054_row10_col0\" class=\"data row10 col0\" >Sales</td>\n",
              "      <td id=\"T_32054_row10_col1\" class=\"data row10 col1\" >Khan</td>\n",
              "      <td id=\"T_32054_row10_col2\" class=\"data row10 col2\" >30000</td>\n",
              "      <td id=\"T_32054_row10_col3\" class=\"data row10 col3\" >18333.333333333333</td>\n",
              "    </tr>\n",
              "    <tr>\n",
              "      <td id=\"T_32054_row11_col0\" class=\"data row11 col0\" >Sales</td>\n",
              "      <td id=\"T_32054_row11_col1\" class=\"data row11 col1\" >Sehwag</td>\n",
              "      <td id=\"T_32054_row11_col2\" class=\"data row11 col2\" >15000</td>\n",
              "      <td id=\"T_32054_row11_col3\" class=\"data row11 col3\" >18333.333333333333</td>\n",
              "    </tr>\n",
              "  </tbody>\n",
              "</table>\n"
            ]
          },
          "metadata": {},
          "execution_count": 65
        }
      ]
    },
    {
      "cell_type": "code",
      "source": [
        "sql = \"select deptname, lastname, salary, \\\n",
        "    row_number() over (partition by deptname order by salary) \\\n",
        "    from empl  inner join dept using(deptid)\"\n",
        "runSelect(sql)"
      ],
      "metadata": {
        "colab": {
          "base_uri": "https://localhost:8080/",
          "height": 426
        },
        "id": "xgP9VShE4Spl",
        "outputId": "031f5656-5026-441f-ab21-d12a7a42e5db"
      },
      "execution_count": 66,
      "outputs": [
        {
          "output_type": "execute_result",
          "data": {
            "text/plain": [
              "<pandas.io.formats.style.Styler at 0x7b7ea7dc48b0>"
            ],
            "text/html": [
              "<style type=\"text/css\">\n",
              "</style>\n",
              "<table id=\"T_c912d\" class=\"dataframe\">\n",
              "  <thead>\n",
              "    <tr>\n",
              "      <th id=\"T_c912d_level0_col0\" class=\"col_heading level0 col0\" >deptname</th>\n",
              "      <th id=\"T_c912d_level0_col1\" class=\"col_heading level0 col1\" >lastname</th>\n",
              "      <th id=\"T_c912d_level0_col2\" class=\"col_heading level0 col2\" >salary</th>\n",
              "      <th id=\"T_c912d_level0_col3\" class=\"col_heading level0 col3\" >row_number</th>\n",
              "    </tr>\n",
              "  </thead>\n",
              "  <tbody>\n",
              "    <tr>\n",
              "      <td id=\"T_c912d_row0_col0\" class=\"data row0 col0\" >Accounts</td>\n",
              "      <td id=\"T_c912d_row0_col1\" class=\"data row0 col1\" >Dalmia</td>\n",
              "      <td id=\"T_c912d_row0_col2\" class=\"data row0 col2\" >12000</td>\n",
              "      <td id=\"T_c912d_row0_col3\" class=\"data row0 col3\" >1</td>\n",
              "    </tr>\n",
              "    <tr>\n",
              "      <td id=\"T_c912d_row1_col0\" class=\"data row1 col0\" >Accounts</td>\n",
              "      <td id=\"T_c912d_row1_col1\" class=\"data row1 col1\" >Mirza</td>\n",
              "      <td id=\"T_c912d_row1_col2\" class=\"data row1 col2\" >25000</td>\n",
              "      <td id=\"T_c912d_row1_col3\" class=\"data row1 col3\" >2</td>\n",
              "    </tr>\n",
              "    <tr>\n",
              "      <td id=\"T_c912d_row2_col0\" class=\"data row2 col0\" >Accounts</td>\n",
              "      <td id=\"T_c912d_row2_col1\" class=\"data row2 col1\" >Dravid</td>\n",
              "      <td id=\"T_c912d_row2_col2\" class=\"data row2 col2\" >40000</td>\n",
              "      <td id=\"T_c912d_row2_col3\" class=\"data row2 col3\" >3</td>\n",
              "    </tr>\n",
              "    <tr>\n",
              "      <td id=\"T_c912d_row3_col0\" class=\"data row3 col0\" >Corporate</td>\n",
              "      <td id=\"T_c912d_row3_col1\" class=\"data row3 col1\" >Karthikeyan</td>\n",
              "      <td id=\"T_c912d_row3_col2\" class=\"data row3 col2\" >40000</td>\n",
              "      <td id=\"T_c912d_row3_col3\" class=\"data row3 col3\" >1</td>\n",
              "    </tr>\n",
              "    <tr>\n",
              "      <td id=\"T_c912d_row4_col0\" class=\"data row4 col0\" >Corporate</td>\n",
              "      <td id=\"T_c912d_row4_col1\" class=\"data row4 col1\" >Bacchan</td>\n",
              "      <td id=\"T_c912d_row4_col2\" class=\"data row4 col2\" >50000</td>\n",
              "      <td id=\"T_c912d_row4_col3\" class=\"data row4 col3\" >2</td>\n",
              "    </tr>\n",
              "    <tr>\n",
              "      <td id=\"T_c912d_row5_col0\" class=\"data row5 col0\" >Corporate</td>\n",
              "      <td id=\"T_c912d_row5_col1\" class=\"data row5 col1\" >Ganesan</td>\n",
              "      <td id=\"T_c912d_row5_col2\" class=\"data row5 col2\" >60000</td>\n",
              "      <td id=\"T_c912d_row5_col3\" class=\"data row5 col3\" >3</td>\n",
              "    </tr>\n",
              "    <tr>\n",
              "      <td id=\"T_c912d_row6_col0\" class=\"data row6 col0\" >Production</td>\n",
              "      <td id=\"T_c912d_row6_col1\" class=\"data row6 col1\" >Dhoni</td>\n",
              "      <td id=\"T_c912d_row6_col2\" class=\"data row6 col2\" >9000</td>\n",
              "      <td id=\"T_c912d_row6_col3\" class=\"data row6 col3\" >1</td>\n",
              "    </tr>\n",
              "    <tr>\n",
              "      <td id=\"T_c912d_row7_col0\" class=\"data row7 col0\" >Production</td>\n",
              "      <td id=\"T_c912d_row7_col1\" class=\"data row7 col1\" >Ganguly</td>\n",
              "      <td id=\"T_c912d_row7_col2\" class=\"data row7 col2\" >20000</td>\n",
              "      <td id=\"T_c912d_row7_col3\" class=\"data row7 col3\" >2</td>\n",
              "    </tr>\n",
              "    <tr>\n",
              "      <td id=\"T_c912d_row8_col0\" class=\"data row8 col0\" >Production</td>\n",
              "      <td id=\"T_c912d_row8_col1\" class=\"data row8 col1\" >Mukherjee</td>\n",
              "      <td id=\"T_c912d_row8_col2\" class=\"data row8 col2\" >25000</td>\n",
              "      <td id=\"T_c912d_row8_col3\" class=\"data row8 col3\" >3</td>\n",
              "    </tr>\n",
              "    <tr>\n",
              "      <td id=\"T_c912d_row9_col0\" class=\"data row9 col0\" >Sales</td>\n",
              "      <td id=\"T_c912d_row9_col1\" class=\"data row9 col1\" >Dikshit</td>\n",
              "      <td id=\"T_c912d_row9_col2\" class=\"data row9 col2\" >10000</td>\n",
              "      <td id=\"T_c912d_row9_col3\" class=\"data row9 col3\" >1</td>\n",
              "    </tr>\n",
              "    <tr>\n",
              "      <td id=\"T_c912d_row10_col0\" class=\"data row10 col0\" >Sales</td>\n",
              "      <td id=\"T_c912d_row10_col1\" class=\"data row10 col1\" >Sehwag</td>\n",
              "      <td id=\"T_c912d_row10_col2\" class=\"data row10 col2\" >15000</td>\n",
              "      <td id=\"T_c912d_row10_col3\" class=\"data row10 col3\" >2</td>\n",
              "    </tr>\n",
              "    <tr>\n",
              "      <td id=\"T_c912d_row11_col0\" class=\"data row11 col0\" >Sales</td>\n",
              "      <td id=\"T_c912d_row11_col1\" class=\"data row11 col1\" >Khan</td>\n",
              "      <td id=\"T_c912d_row11_col2\" class=\"data row11 col2\" >30000</td>\n",
              "      <td id=\"T_c912d_row11_col3\" class=\"data row11 col3\" >3</td>\n",
              "    </tr>\n",
              "  </tbody>\n",
              "</table>\n"
            ]
          },
          "metadata": {},
          "execution_count": 66
        }
      ]
    },
    {
      "cell_type": "code",
      "source": [
        "sql = \"select deptname, lastname, salary, \\\n",
        "        rank() over (partition by deptname order by salary desc) \\\n",
        "        from empl  inner join dept using(deptid)\"\n",
        "runSelect(sql)"
      ],
      "metadata": {
        "colab": {
          "base_uri": "https://localhost:8080/",
          "height": 426
        },
        "id": "rL_1sHBa4ply",
        "outputId": "37c62b63-7302-4b0d-e8c5-76fedb3899d3"
      },
      "execution_count": 67,
      "outputs": [
        {
          "output_type": "execute_result",
          "data": {
            "text/plain": [
              "<pandas.io.formats.style.Styler at 0x7b7ea7dde560>"
            ],
            "text/html": [
              "<style type=\"text/css\">\n",
              "</style>\n",
              "<table id=\"T_9fbb0\" class=\"dataframe\">\n",
              "  <thead>\n",
              "    <tr>\n",
              "      <th id=\"T_9fbb0_level0_col0\" class=\"col_heading level0 col0\" >deptname</th>\n",
              "      <th id=\"T_9fbb0_level0_col1\" class=\"col_heading level0 col1\" >lastname</th>\n",
              "      <th id=\"T_9fbb0_level0_col2\" class=\"col_heading level0 col2\" >salary</th>\n",
              "      <th id=\"T_9fbb0_level0_col3\" class=\"col_heading level0 col3\" >rank</th>\n",
              "    </tr>\n",
              "  </thead>\n",
              "  <tbody>\n",
              "    <tr>\n",
              "      <td id=\"T_9fbb0_row0_col0\" class=\"data row0 col0\" >Accounts</td>\n",
              "      <td id=\"T_9fbb0_row0_col1\" class=\"data row0 col1\" >Dravid</td>\n",
              "      <td id=\"T_9fbb0_row0_col2\" class=\"data row0 col2\" >40000</td>\n",
              "      <td id=\"T_9fbb0_row0_col3\" class=\"data row0 col3\" >1</td>\n",
              "    </tr>\n",
              "    <tr>\n",
              "      <td id=\"T_9fbb0_row1_col0\" class=\"data row1 col0\" >Accounts</td>\n",
              "      <td id=\"T_9fbb0_row1_col1\" class=\"data row1 col1\" >Mirza</td>\n",
              "      <td id=\"T_9fbb0_row1_col2\" class=\"data row1 col2\" >25000</td>\n",
              "      <td id=\"T_9fbb0_row1_col3\" class=\"data row1 col3\" >2</td>\n",
              "    </tr>\n",
              "    <tr>\n",
              "      <td id=\"T_9fbb0_row2_col0\" class=\"data row2 col0\" >Accounts</td>\n",
              "      <td id=\"T_9fbb0_row2_col1\" class=\"data row2 col1\" >Dalmia</td>\n",
              "      <td id=\"T_9fbb0_row2_col2\" class=\"data row2 col2\" >12000</td>\n",
              "      <td id=\"T_9fbb0_row2_col3\" class=\"data row2 col3\" >3</td>\n",
              "    </tr>\n",
              "    <tr>\n",
              "      <td id=\"T_9fbb0_row3_col0\" class=\"data row3 col0\" >Corporate</td>\n",
              "      <td id=\"T_9fbb0_row3_col1\" class=\"data row3 col1\" >Ganesan</td>\n",
              "      <td id=\"T_9fbb0_row3_col2\" class=\"data row3 col2\" >60000</td>\n",
              "      <td id=\"T_9fbb0_row3_col3\" class=\"data row3 col3\" >1</td>\n",
              "    </tr>\n",
              "    <tr>\n",
              "      <td id=\"T_9fbb0_row4_col0\" class=\"data row4 col0\" >Corporate</td>\n",
              "      <td id=\"T_9fbb0_row4_col1\" class=\"data row4 col1\" >Bacchan</td>\n",
              "      <td id=\"T_9fbb0_row4_col2\" class=\"data row4 col2\" >50000</td>\n",
              "      <td id=\"T_9fbb0_row4_col3\" class=\"data row4 col3\" >2</td>\n",
              "    </tr>\n",
              "    <tr>\n",
              "      <td id=\"T_9fbb0_row5_col0\" class=\"data row5 col0\" >Corporate</td>\n",
              "      <td id=\"T_9fbb0_row5_col1\" class=\"data row5 col1\" >Karthikeyan</td>\n",
              "      <td id=\"T_9fbb0_row5_col2\" class=\"data row5 col2\" >40000</td>\n",
              "      <td id=\"T_9fbb0_row5_col3\" class=\"data row5 col3\" >3</td>\n",
              "    </tr>\n",
              "    <tr>\n",
              "      <td id=\"T_9fbb0_row6_col0\" class=\"data row6 col0\" >Production</td>\n",
              "      <td id=\"T_9fbb0_row6_col1\" class=\"data row6 col1\" >Mukherjee</td>\n",
              "      <td id=\"T_9fbb0_row6_col2\" class=\"data row6 col2\" >25000</td>\n",
              "      <td id=\"T_9fbb0_row6_col3\" class=\"data row6 col3\" >1</td>\n",
              "    </tr>\n",
              "    <tr>\n",
              "      <td id=\"T_9fbb0_row7_col0\" class=\"data row7 col0\" >Production</td>\n",
              "      <td id=\"T_9fbb0_row7_col1\" class=\"data row7 col1\" >Ganguly</td>\n",
              "      <td id=\"T_9fbb0_row7_col2\" class=\"data row7 col2\" >20000</td>\n",
              "      <td id=\"T_9fbb0_row7_col3\" class=\"data row7 col3\" >2</td>\n",
              "    </tr>\n",
              "    <tr>\n",
              "      <td id=\"T_9fbb0_row8_col0\" class=\"data row8 col0\" >Production</td>\n",
              "      <td id=\"T_9fbb0_row8_col1\" class=\"data row8 col1\" >Dhoni</td>\n",
              "      <td id=\"T_9fbb0_row8_col2\" class=\"data row8 col2\" >9000</td>\n",
              "      <td id=\"T_9fbb0_row8_col3\" class=\"data row8 col3\" >3</td>\n",
              "    </tr>\n",
              "    <tr>\n",
              "      <td id=\"T_9fbb0_row9_col0\" class=\"data row9 col0\" >Sales</td>\n",
              "      <td id=\"T_9fbb0_row9_col1\" class=\"data row9 col1\" >Khan</td>\n",
              "      <td id=\"T_9fbb0_row9_col2\" class=\"data row9 col2\" >30000</td>\n",
              "      <td id=\"T_9fbb0_row9_col3\" class=\"data row9 col3\" >1</td>\n",
              "    </tr>\n",
              "    <tr>\n",
              "      <td id=\"T_9fbb0_row10_col0\" class=\"data row10 col0\" >Sales</td>\n",
              "      <td id=\"T_9fbb0_row10_col1\" class=\"data row10 col1\" >Sehwag</td>\n",
              "      <td id=\"T_9fbb0_row10_col2\" class=\"data row10 col2\" >15000</td>\n",
              "      <td id=\"T_9fbb0_row10_col3\" class=\"data row10 col3\" >2</td>\n",
              "    </tr>\n",
              "    <tr>\n",
              "      <td id=\"T_9fbb0_row11_col0\" class=\"data row11 col0\" >Sales</td>\n",
              "      <td id=\"T_9fbb0_row11_col1\" class=\"data row11 col1\" >Dikshit</td>\n",
              "      <td id=\"T_9fbb0_row11_col2\" class=\"data row11 col2\" >10000</td>\n",
              "      <td id=\"T_9fbb0_row11_col3\" class=\"data row11 col3\" >3</td>\n",
              "    </tr>\n",
              "  </tbody>\n",
              "</table>\n"
            ]
          },
          "metadata": {},
          "execution_count": 67
        }
      ]
    },
    {
      "cell_type": "code",
      "source": [
        "sql = \"select deptname, lastname, salary, \\\n",
        "first_value(salary) over (partition by deptname order by salary) as deptlow, \\\n",
        "last_value(salary) over (partition by deptname order by salary RANGE BETWEEN UNBOUNDED PRECEDING AND UNBOUNDED FOLLOWING) as depthigh \\\n",
        "from empl  inner join dept using(deptid)\"\n",
        "runSelect(sql)"
      ],
      "metadata": {
        "colab": {
          "base_uri": "https://localhost:8080/",
          "height": 426
        },
        "id": "RO428SVT5T3d",
        "outputId": "87ca8208-34bb-47c7-ca2d-bad6fd78cf08"
      },
      "execution_count": 68,
      "outputs": [
        {
          "output_type": "execute_result",
          "data": {
            "text/plain": [
              "<pandas.io.formats.style.Styler at 0x7b7ed7756bf0>"
            ],
            "text/html": [
              "<style type=\"text/css\">\n",
              "</style>\n",
              "<table id=\"T_ee252\" class=\"dataframe\">\n",
              "  <thead>\n",
              "    <tr>\n",
              "      <th id=\"T_ee252_level0_col0\" class=\"col_heading level0 col0\" >deptname</th>\n",
              "      <th id=\"T_ee252_level0_col1\" class=\"col_heading level0 col1\" >lastname</th>\n",
              "      <th id=\"T_ee252_level0_col2\" class=\"col_heading level0 col2\" >salary</th>\n",
              "      <th id=\"T_ee252_level0_col3\" class=\"col_heading level0 col3\" >deptlow</th>\n",
              "      <th id=\"T_ee252_level0_col4\" class=\"col_heading level0 col4\" >depthigh</th>\n",
              "    </tr>\n",
              "  </thead>\n",
              "  <tbody>\n",
              "    <tr>\n",
              "      <td id=\"T_ee252_row0_col0\" class=\"data row0 col0\" >Accounts</td>\n",
              "      <td id=\"T_ee252_row0_col1\" class=\"data row0 col1\" >Dalmia</td>\n",
              "      <td id=\"T_ee252_row0_col2\" class=\"data row0 col2\" >12000</td>\n",
              "      <td id=\"T_ee252_row0_col3\" class=\"data row0 col3\" >12000</td>\n",
              "      <td id=\"T_ee252_row0_col4\" class=\"data row0 col4\" >40000</td>\n",
              "    </tr>\n",
              "    <tr>\n",
              "      <td id=\"T_ee252_row1_col0\" class=\"data row1 col0\" >Accounts</td>\n",
              "      <td id=\"T_ee252_row1_col1\" class=\"data row1 col1\" >Mirza</td>\n",
              "      <td id=\"T_ee252_row1_col2\" class=\"data row1 col2\" >25000</td>\n",
              "      <td id=\"T_ee252_row1_col3\" class=\"data row1 col3\" >12000</td>\n",
              "      <td id=\"T_ee252_row1_col4\" class=\"data row1 col4\" >40000</td>\n",
              "    </tr>\n",
              "    <tr>\n",
              "      <td id=\"T_ee252_row2_col0\" class=\"data row2 col0\" >Accounts</td>\n",
              "      <td id=\"T_ee252_row2_col1\" class=\"data row2 col1\" >Dravid</td>\n",
              "      <td id=\"T_ee252_row2_col2\" class=\"data row2 col2\" >40000</td>\n",
              "      <td id=\"T_ee252_row2_col3\" class=\"data row2 col3\" >12000</td>\n",
              "      <td id=\"T_ee252_row2_col4\" class=\"data row2 col4\" >40000</td>\n",
              "    </tr>\n",
              "    <tr>\n",
              "      <td id=\"T_ee252_row3_col0\" class=\"data row3 col0\" >Corporate</td>\n",
              "      <td id=\"T_ee252_row3_col1\" class=\"data row3 col1\" >Karthikeyan</td>\n",
              "      <td id=\"T_ee252_row3_col2\" class=\"data row3 col2\" >40000</td>\n",
              "      <td id=\"T_ee252_row3_col3\" class=\"data row3 col3\" >40000</td>\n",
              "      <td id=\"T_ee252_row3_col4\" class=\"data row3 col4\" >60000</td>\n",
              "    </tr>\n",
              "    <tr>\n",
              "      <td id=\"T_ee252_row4_col0\" class=\"data row4 col0\" >Corporate</td>\n",
              "      <td id=\"T_ee252_row4_col1\" class=\"data row4 col1\" >Bacchan</td>\n",
              "      <td id=\"T_ee252_row4_col2\" class=\"data row4 col2\" >50000</td>\n",
              "      <td id=\"T_ee252_row4_col3\" class=\"data row4 col3\" >40000</td>\n",
              "      <td id=\"T_ee252_row4_col4\" class=\"data row4 col4\" >60000</td>\n",
              "    </tr>\n",
              "    <tr>\n",
              "      <td id=\"T_ee252_row5_col0\" class=\"data row5 col0\" >Corporate</td>\n",
              "      <td id=\"T_ee252_row5_col1\" class=\"data row5 col1\" >Ganesan</td>\n",
              "      <td id=\"T_ee252_row5_col2\" class=\"data row5 col2\" >60000</td>\n",
              "      <td id=\"T_ee252_row5_col3\" class=\"data row5 col3\" >40000</td>\n",
              "      <td id=\"T_ee252_row5_col4\" class=\"data row5 col4\" >60000</td>\n",
              "    </tr>\n",
              "    <tr>\n",
              "      <td id=\"T_ee252_row6_col0\" class=\"data row6 col0\" >Production</td>\n",
              "      <td id=\"T_ee252_row6_col1\" class=\"data row6 col1\" >Dhoni</td>\n",
              "      <td id=\"T_ee252_row6_col2\" class=\"data row6 col2\" >9000</td>\n",
              "      <td id=\"T_ee252_row6_col3\" class=\"data row6 col3\" >9000</td>\n",
              "      <td id=\"T_ee252_row6_col4\" class=\"data row6 col4\" >25000</td>\n",
              "    </tr>\n",
              "    <tr>\n",
              "      <td id=\"T_ee252_row7_col0\" class=\"data row7 col0\" >Production</td>\n",
              "      <td id=\"T_ee252_row7_col1\" class=\"data row7 col1\" >Ganguly</td>\n",
              "      <td id=\"T_ee252_row7_col2\" class=\"data row7 col2\" >20000</td>\n",
              "      <td id=\"T_ee252_row7_col3\" class=\"data row7 col3\" >9000</td>\n",
              "      <td id=\"T_ee252_row7_col4\" class=\"data row7 col4\" >25000</td>\n",
              "    </tr>\n",
              "    <tr>\n",
              "      <td id=\"T_ee252_row8_col0\" class=\"data row8 col0\" >Production</td>\n",
              "      <td id=\"T_ee252_row8_col1\" class=\"data row8 col1\" >Mukherjee</td>\n",
              "      <td id=\"T_ee252_row8_col2\" class=\"data row8 col2\" >25000</td>\n",
              "      <td id=\"T_ee252_row8_col3\" class=\"data row8 col3\" >9000</td>\n",
              "      <td id=\"T_ee252_row8_col4\" class=\"data row8 col4\" >25000</td>\n",
              "    </tr>\n",
              "    <tr>\n",
              "      <td id=\"T_ee252_row9_col0\" class=\"data row9 col0\" >Sales</td>\n",
              "      <td id=\"T_ee252_row9_col1\" class=\"data row9 col1\" >Dikshit</td>\n",
              "      <td id=\"T_ee252_row9_col2\" class=\"data row9 col2\" >10000</td>\n",
              "      <td id=\"T_ee252_row9_col3\" class=\"data row9 col3\" >10000</td>\n",
              "      <td id=\"T_ee252_row9_col4\" class=\"data row9 col4\" >30000</td>\n",
              "    </tr>\n",
              "    <tr>\n",
              "      <td id=\"T_ee252_row10_col0\" class=\"data row10 col0\" >Sales</td>\n",
              "      <td id=\"T_ee252_row10_col1\" class=\"data row10 col1\" >Sehwag</td>\n",
              "      <td id=\"T_ee252_row10_col2\" class=\"data row10 col2\" >15000</td>\n",
              "      <td id=\"T_ee252_row10_col3\" class=\"data row10 col3\" >10000</td>\n",
              "      <td id=\"T_ee252_row10_col4\" class=\"data row10 col4\" >30000</td>\n",
              "    </tr>\n",
              "    <tr>\n",
              "      <td id=\"T_ee252_row11_col0\" class=\"data row11 col0\" >Sales</td>\n",
              "      <td id=\"T_ee252_row11_col1\" class=\"data row11 col1\" >Khan</td>\n",
              "      <td id=\"T_ee252_row11_col2\" class=\"data row11 col2\" >30000</td>\n",
              "      <td id=\"T_ee252_row11_col3\" class=\"data row11 col3\" >10000</td>\n",
              "      <td id=\"T_ee252_row11_col4\" class=\"data row11 col4\" >30000</td>\n",
              "    </tr>\n",
              "  </tbody>\n",
              "</table>\n"
            ]
          },
          "metadata": {},
          "execution_count": 68
        }
      ]
    },
    {
      "cell_type": "code",
      "source": [
        "sql = \"select deptname, lastname, salary, \\\n",
        "lag(salary,1) over (partition by deptname order by salary) as prev_emp, \\\n",
        "salary - lag(salary,1) over (partition by deptname order by salary) as gap_up \\\n",
        "from empl  inner join dept using(deptid)\"\n",
        "runSelect(sql)"
      ],
      "metadata": {
        "colab": {
          "base_uri": "https://localhost:8080/",
          "height": 426
        },
        "id": "fnG4S0lF8h77",
        "outputId": "7c154214-781e-4f04-c5d4-5987dba0856e"
      },
      "execution_count": 69,
      "outputs": [
        {
          "output_type": "execute_result",
          "data": {
            "text/plain": [
              "<pandas.io.formats.style.Styler at 0x7b7ea7d507c0>"
            ],
            "text/html": [
              "<style type=\"text/css\">\n",
              "</style>\n",
              "<table id=\"T_d8634\" class=\"dataframe\">\n",
              "  <thead>\n",
              "    <tr>\n",
              "      <th id=\"T_d8634_level0_col0\" class=\"col_heading level0 col0\" >deptname</th>\n",
              "      <th id=\"T_d8634_level0_col1\" class=\"col_heading level0 col1\" >lastname</th>\n",
              "      <th id=\"T_d8634_level0_col2\" class=\"col_heading level0 col2\" >salary</th>\n",
              "      <th id=\"T_d8634_level0_col3\" class=\"col_heading level0 col3\" >prev_emp</th>\n",
              "      <th id=\"T_d8634_level0_col4\" class=\"col_heading level0 col4\" >gap_up</th>\n",
              "    </tr>\n",
              "  </thead>\n",
              "  <tbody>\n",
              "    <tr>\n",
              "      <td id=\"T_d8634_row0_col0\" class=\"data row0 col0\" >Accounts</td>\n",
              "      <td id=\"T_d8634_row0_col1\" class=\"data row0 col1\" >Dalmia</td>\n",
              "      <td id=\"T_d8634_row0_col2\" class=\"data row0 col2\" >12000</td>\n",
              "      <td id=\"T_d8634_row0_col3\" class=\"data row0 col3\" >nan</td>\n",
              "      <td id=\"T_d8634_row0_col4\" class=\"data row0 col4\" >nan</td>\n",
              "    </tr>\n",
              "    <tr>\n",
              "      <td id=\"T_d8634_row1_col0\" class=\"data row1 col0\" >Accounts</td>\n",
              "      <td id=\"T_d8634_row1_col1\" class=\"data row1 col1\" >Mirza</td>\n",
              "      <td id=\"T_d8634_row1_col2\" class=\"data row1 col2\" >25000</td>\n",
              "      <td id=\"T_d8634_row1_col3\" class=\"data row1 col3\" >12000.000000</td>\n",
              "      <td id=\"T_d8634_row1_col4\" class=\"data row1 col4\" >13000.000000</td>\n",
              "    </tr>\n",
              "    <tr>\n",
              "      <td id=\"T_d8634_row2_col0\" class=\"data row2 col0\" >Accounts</td>\n",
              "      <td id=\"T_d8634_row2_col1\" class=\"data row2 col1\" >Dravid</td>\n",
              "      <td id=\"T_d8634_row2_col2\" class=\"data row2 col2\" >40000</td>\n",
              "      <td id=\"T_d8634_row2_col3\" class=\"data row2 col3\" >25000.000000</td>\n",
              "      <td id=\"T_d8634_row2_col4\" class=\"data row2 col4\" >15000.000000</td>\n",
              "    </tr>\n",
              "    <tr>\n",
              "      <td id=\"T_d8634_row3_col0\" class=\"data row3 col0\" >Corporate</td>\n",
              "      <td id=\"T_d8634_row3_col1\" class=\"data row3 col1\" >Karthikeyan</td>\n",
              "      <td id=\"T_d8634_row3_col2\" class=\"data row3 col2\" >40000</td>\n",
              "      <td id=\"T_d8634_row3_col3\" class=\"data row3 col3\" >nan</td>\n",
              "      <td id=\"T_d8634_row3_col4\" class=\"data row3 col4\" >nan</td>\n",
              "    </tr>\n",
              "    <tr>\n",
              "      <td id=\"T_d8634_row4_col0\" class=\"data row4 col0\" >Corporate</td>\n",
              "      <td id=\"T_d8634_row4_col1\" class=\"data row4 col1\" >Bacchan</td>\n",
              "      <td id=\"T_d8634_row4_col2\" class=\"data row4 col2\" >50000</td>\n",
              "      <td id=\"T_d8634_row4_col3\" class=\"data row4 col3\" >40000.000000</td>\n",
              "      <td id=\"T_d8634_row4_col4\" class=\"data row4 col4\" >10000.000000</td>\n",
              "    </tr>\n",
              "    <tr>\n",
              "      <td id=\"T_d8634_row5_col0\" class=\"data row5 col0\" >Corporate</td>\n",
              "      <td id=\"T_d8634_row5_col1\" class=\"data row5 col1\" >Ganesan</td>\n",
              "      <td id=\"T_d8634_row5_col2\" class=\"data row5 col2\" >60000</td>\n",
              "      <td id=\"T_d8634_row5_col3\" class=\"data row5 col3\" >50000.000000</td>\n",
              "      <td id=\"T_d8634_row5_col4\" class=\"data row5 col4\" >10000.000000</td>\n",
              "    </tr>\n",
              "    <tr>\n",
              "      <td id=\"T_d8634_row6_col0\" class=\"data row6 col0\" >Production</td>\n",
              "      <td id=\"T_d8634_row6_col1\" class=\"data row6 col1\" >Dhoni</td>\n",
              "      <td id=\"T_d8634_row6_col2\" class=\"data row6 col2\" >9000</td>\n",
              "      <td id=\"T_d8634_row6_col3\" class=\"data row6 col3\" >nan</td>\n",
              "      <td id=\"T_d8634_row6_col4\" class=\"data row6 col4\" >nan</td>\n",
              "    </tr>\n",
              "    <tr>\n",
              "      <td id=\"T_d8634_row7_col0\" class=\"data row7 col0\" >Production</td>\n",
              "      <td id=\"T_d8634_row7_col1\" class=\"data row7 col1\" >Ganguly</td>\n",
              "      <td id=\"T_d8634_row7_col2\" class=\"data row7 col2\" >20000</td>\n",
              "      <td id=\"T_d8634_row7_col3\" class=\"data row7 col3\" >9000.000000</td>\n",
              "      <td id=\"T_d8634_row7_col4\" class=\"data row7 col4\" >11000.000000</td>\n",
              "    </tr>\n",
              "    <tr>\n",
              "      <td id=\"T_d8634_row8_col0\" class=\"data row8 col0\" >Production</td>\n",
              "      <td id=\"T_d8634_row8_col1\" class=\"data row8 col1\" >Mukherjee</td>\n",
              "      <td id=\"T_d8634_row8_col2\" class=\"data row8 col2\" >25000</td>\n",
              "      <td id=\"T_d8634_row8_col3\" class=\"data row8 col3\" >20000.000000</td>\n",
              "      <td id=\"T_d8634_row8_col4\" class=\"data row8 col4\" >5000.000000</td>\n",
              "    </tr>\n",
              "    <tr>\n",
              "      <td id=\"T_d8634_row9_col0\" class=\"data row9 col0\" >Sales</td>\n",
              "      <td id=\"T_d8634_row9_col1\" class=\"data row9 col1\" >Dikshit</td>\n",
              "      <td id=\"T_d8634_row9_col2\" class=\"data row9 col2\" >10000</td>\n",
              "      <td id=\"T_d8634_row9_col3\" class=\"data row9 col3\" >nan</td>\n",
              "      <td id=\"T_d8634_row9_col4\" class=\"data row9 col4\" >nan</td>\n",
              "    </tr>\n",
              "    <tr>\n",
              "      <td id=\"T_d8634_row10_col0\" class=\"data row10 col0\" >Sales</td>\n",
              "      <td id=\"T_d8634_row10_col1\" class=\"data row10 col1\" >Sehwag</td>\n",
              "      <td id=\"T_d8634_row10_col2\" class=\"data row10 col2\" >15000</td>\n",
              "      <td id=\"T_d8634_row10_col3\" class=\"data row10 col3\" >10000.000000</td>\n",
              "      <td id=\"T_d8634_row10_col4\" class=\"data row10 col4\" >5000.000000</td>\n",
              "    </tr>\n",
              "    <tr>\n",
              "      <td id=\"T_d8634_row11_col0\" class=\"data row11 col0\" >Sales</td>\n",
              "      <td id=\"T_d8634_row11_col1\" class=\"data row11 col1\" >Khan</td>\n",
              "      <td id=\"T_d8634_row11_col2\" class=\"data row11 col2\" >30000</td>\n",
              "      <td id=\"T_d8634_row11_col3\" class=\"data row11 col3\" >15000.000000</td>\n",
              "      <td id=\"T_d8634_row11_col4\" class=\"data row11 col4\" >15000.000000</td>\n",
              "    </tr>\n",
              "  </tbody>\n",
              "</table>\n"
            ]
          },
          "metadata": {},
          "execution_count": 69
        }
      ]
    },
    {
      "cell_type": "markdown",
      "source": [
        "#Transpose / Pivot\n",
        "https://www.sqlshack.com/how-to-use-the-crosstab-function-in-postgresql/"
      ],
      "metadata": {
        "id": "V6Bt-yTXSITF"
      }
    },
    {
      "cell_type": "code",
      "source": [
        "!psql -h localhost -p 5432 -Uupraxis -ddbpraxis -c \"create extension tablefunc;\""
      ],
      "metadata": {
        "colab": {
          "base_uri": "https://localhost:8080/"
        },
        "id": "ZgVgr1DfYs_R",
        "outputId": "82b1c0fd-7e44-48f9-aab9-c112e48afc2b"
      },
      "execution_count": 70,
      "outputs": [
        {
          "output_type": "stream",
          "name": "stdout",
          "text": [
            "CREATE EXTENSION\n"
          ]
        }
      ]
    },
    {
      "cell_type": "code",
      "source": [
        "runSelect('select * from dept')"
      ],
      "metadata": {
        "colab": {
          "base_uri": "https://localhost:8080/",
          "height": 206
        },
        "id": "Sa9IpGXwSKWe",
        "outputId": "807e45b2-2c6c-468c-89d7-b6a048ca65be"
      },
      "execution_count": 71,
      "outputs": [
        {
          "output_type": "execute_result",
          "data": {
            "text/plain": [
              "<pandas.io.formats.style.Styler at 0x7b7ed6908d30>"
            ],
            "text/html": [
              "<style type=\"text/css\">\n",
              "</style>\n",
              "<table id=\"T_6de8d\" class=\"dataframe\">\n",
              "  <thead>\n",
              "    <tr>\n",
              "      <th id=\"T_6de8d_level0_col0\" class=\"col_heading level0 col0\" >deptid</th>\n",
              "      <th id=\"T_6de8d_level0_col1\" class=\"col_heading level0 col1\" >deptname</th>\n",
              "      <th id=\"T_6de8d_level0_col2\" class=\"col_heading level0 col2\" >managerid</th>\n",
              "      <th id=\"T_6de8d_level0_col3\" class=\"col_heading level0 col3\" >location</th>\n",
              "      <th id=\"T_6de8d_level0_col4\" class=\"col_heading level0 col4\" >locationid</th>\n",
              "    </tr>\n",
              "  </thead>\n",
              "  <tbody>\n",
              "    <tr>\n",
              "      <td id=\"T_6de8d_row0_col0\" class=\"data row0 col0\" >10</td>\n",
              "      <td id=\"T_6de8d_row0_col1\" class=\"data row0 col1\" >Corporate</td>\n",
              "      <td id=\"T_6de8d_row0_col2\" class=\"data row0 col2\" >299034</td>\n",
              "      <td id=\"T_6de8d_row0_col3\" class=\"data row0 col3\" >Calcutta</td>\n",
              "      <td id=\"T_6de8d_row0_col4\" class=\"data row0 col4\" >1</td>\n",
              "    </tr>\n",
              "    <tr>\n",
              "      <td id=\"T_6de8d_row1_col0\" class=\"data row1 col0\" >20</td>\n",
              "      <td id=\"T_6de8d_row1_col1\" class=\"data row1 col1\" >Sales</td>\n",
              "      <td id=\"T_6de8d_row1_col2\" class=\"data row1 col2\" >239456</td>\n",
              "      <td id=\"T_6de8d_row1_col3\" class=\"data row1 col3\" >Calcutta</td>\n",
              "      <td id=\"T_6de8d_row1_col4\" class=\"data row1 col4\" >1</td>\n",
              "    </tr>\n",
              "    <tr>\n",
              "      <td id=\"T_6de8d_row2_col0\" class=\"data row2 col0\" >30</td>\n",
              "      <td id=\"T_6de8d_row2_col1\" class=\"data row2 col1\" >Accounts</td>\n",
              "      <td id=\"T_6de8d_row2_col2\" class=\"data row2 col2\" >822134</td>\n",
              "      <td id=\"T_6de8d_row2_col3\" class=\"data row2 col3\" >Calcutta</td>\n",
              "      <td id=\"T_6de8d_row2_col4\" class=\"data row2 col4\" >1</td>\n",
              "    </tr>\n",
              "    <tr>\n",
              "      <td id=\"T_6de8d_row3_col0\" class=\"data row3 col0\" >40</td>\n",
              "      <td id=\"T_6de8d_row3_col1\" class=\"data row3 col1\" >Production</td>\n",
              "      <td id=\"T_6de8d_row3_col2\" class=\"data row3 col2\" >349870</td>\n",
              "      <td id=\"T_6de8d_row3_col3\" class=\"data row3 col3\" >Bombay</td>\n",
              "      <td id=\"T_6de8d_row3_col4\" class=\"data row3 col4\" >2</td>\n",
              "    </tr>\n",
              "    <tr>\n",
              "      <td id=\"T_6de8d_row4_col0\" class=\"data row4 col0\" >60</td>\n",
              "      <td id=\"T_6de8d_row4_col1\" class=\"data row4 col1\" >Research</td>\n",
              "      <td id=\"T_6de8d_row4_col2\" class=\"data row4 col2\" >546224</td>\n",
              "      <td id=\"T_6de8d_row4_col3\" class=\"data row4 col3\" >Delhi</td>\n",
              "      <td id=\"T_6de8d_row4_col4\" class=\"data row4 col4\" >3</td>\n",
              "    </tr>\n",
              "  </tbody>\n",
              "</table>\n"
            ]
          },
          "metadata": {},
          "execution_count": 71
        }
      ]
    },
    {
      "cell_type": "code",
      "source": [
        "sql = \"\\\n",
        "select * from \\\n",
        "crosstab('select location::text,locationid::text,deptname::text from dept order by 1,2') as locations \\\n",
        "(location text, dep1 text, dep2 text, dep3 text, dep4 text)\\\n",
        "\"\n",
        "runSelect(sql)"
      ],
      "metadata": {
        "colab": {
          "base_uri": "https://localhost:8080/",
          "height": 143
        },
        "id": "Iukqh6TRVo-9",
        "outputId": "b99f8f83-26eb-4ce9-bd19-05701a683b3e"
      },
      "execution_count": 72,
      "outputs": [
        {
          "output_type": "execute_result",
          "data": {
            "text/plain": [
              "<pandas.io.formats.style.Styler at 0x7b7ea7d51660>"
            ],
            "text/html": [
              "<style type=\"text/css\">\n",
              "</style>\n",
              "<table id=\"T_9e4d2\" class=\"dataframe\">\n",
              "  <thead>\n",
              "    <tr>\n",
              "      <th id=\"T_9e4d2_level0_col0\" class=\"col_heading level0 col0\" >location</th>\n",
              "      <th id=\"T_9e4d2_level0_col1\" class=\"col_heading level0 col1\" >dep1</th>\n",
              "      <th id=\"T_9e4d2_level0_col2\" class=\"col_heading level0 col2\" >dep2</th>\n",
              "      <th id=\"T_9e4d2_level0_col3\" class=\"col_heading level0 col3\" >dep3</th>\n",
              "      <th id=\"T_9e4d2_level0_col4\" class=\"col_heading level0 col4\" >dep4</th>\n",
              "    </tr>\n",
              "  </thead>\n",
              "  <tbody>\n",
              "    <tr>\n",
              "      <td id=\"T_9e4d2_row0_col0\" class=\"data row0 col0\" >Bombay</td>\n",
              "      <td id=\"T_9e4d2_row0_col1\" class=\"data row0 col1\" >Production</td>\n",
              "      <td id=\"T_9e4d2_row0_col2\" class=\"data row0 col2\" >None</td>\n",
              "      <td id=\"T_9e4d2_row0_col3\" class=\"data row0 col3\" >None</td>\n",
              "      <td id=\"T_9e4d2_row0_col4\" class=\"data row0 col4\" >None</td>\n",
              "    </tr>\n",
              "    <tr>\n",
              "      <td id=\"T_9e4d2_row1_col0\" class=\"data row1 col0\" >Calcutta</td>\n",
              "      <td id=\"T_9e4d2_row1_col1\" class=\"data row1 col1\" >Corporate</td>\n",
              "      <td id=\"T_9e4d2_row1_col2\" class=\"data row1 col2\" >Sales</td>\n",
              "      <td id=\"T_9e4d2_row1_col3\" class=\"data row1 col3\" >Accounts</td>\n",
              "      <td id=\"T_9e4d2_row1_col4\" class=\"data row1 col4\" >None</td>\n",
              "    </tr>\n",
              "    <tr>\n",
              "      <td id=\"T_9e4d2_row2_col0\" class=\"data row2 col0\" >Delhi</td>\n",
              "      <td id=\"T_9e4d2_row2_col1\" class=\"data row2 col1\" >Research</td>\n",
              "      <td id=\"T_9e4d2_row2_col2\" class=\"data row2 col2\" >None</td>\n",
              "      <td id=\"T_9e4d2_row2_col3\" class=\"data row2 col3\" >None</td>\n",
              "      <td id=\"T_9e4d2_row2_col4\" class=\"data row2 col4\" >None</td>\n",
              "    </tr>\n",
              "  </tbody>\n",
              "</table>\n"
            ]
          },
          "metadata": {},
          "execution_count": 72
        }
      ]
    },
    {
      "cell_type": "markdown",
      "source": [
        "# Insert | Delete | Update"
      ],
      "metadata": {
        "id": "REcqZ7K0DYqi"
      }
    },
    {
      "cell_type": "code",
      "source": [
        "runSelect(\"select * from dept\")"
      ],
      "metadata": {
        "id": "xGgCH9vGDlsI",
        "outputId": "4d17c49d-5d29-42ee-ae87-802b245919c0",
        "colab": {
          "base_uri": "https://localhost:8080/",
          "height": 206
        }
      },
      "execution_count": 73,
      "outputs": [
        {
          "output_type": "execute_result",
          "data": {
            "text/plain": [
              "<pandas.io.formats.style.Styler at 0x7b7ea7ee7b80>"
            ],
            "text/html": [
              "<style type=\"text/css\">\n",
              "</style>\n",
              "<table id=\"T_d90d8\" class=\"dataframe\">\n",
              "  <thead>\n",
              "    <tr>\n",
              "      <th id=\"T_d90d8_level0_col0\" class=\"col_heading level0 col0\" >deptid</th>\n",
              "      <th id=\"T_d90d8_level0_col1\" class=\"col_heading level0 col1\" >deptname</th>\n",
              "      <th id=\"T_d90d8_level0_col2\" class=\"col_heading level0 col2\" >managerid</th>\n",
              "      <th id=\"T_d90d8_level0_col3\" class=\"col_heading level0 col3\" >location</th>\n",
              "      <th id=\"T_d90d8_level0_col4\" class=\"col_heading level0 col4\" >locationid</th>\n",
              "    </tr>\n",
              "  </thead>\n",
              "  <tbody>\n",
              "    <tr>\n",
              "      <td id=\"T_d90d8_row0_col0\" class=\"data row0 col0\" >10</td>\n",
              "      <td id=\"T_d90d8_row0_col1\" class=\"data row0 col1\" >Corporate</td>\n",
              "      <td id=\"T_d90d8_row0_col2\" class=\"data row0 col2\" >299034</td>\n",
              "      <td id=\"T_d90d8_row0_col3\" class=\"data row0 col3\" >Calcutta</td>\n",
              "      <td id=\"T_d90d8_row0_col4\" class=\"data row0 col4\" >1</td>\n",
              "    </tr>\n",
              "    <tr>\n",
              "      <td id=\"T_d90d8_row1_col0\" class=\"data row1 col0\" >20</td>\n",
              "      <td id=\"T_d90d8_row1_col1\" class=\"data row1 col1\" >Sales</td>\n",
              "      <td id=\"T_d90d8_row1_col2\" class=\"data row1 col2\" >239456</td>\n",
              "      <td id=\"T_d90d8_row1_col3\" class=\"data row1 col3\" >Calcutta</td>\n",
              "      <td id=\"T_d90d8_row1_col4\" class=\"data row1 col4\" >1</td>\n",
              "    </tr>\n",
              "    <tr>\n",
              "      <td id=\"T_d90d8_row2_col0\" class=\"data row2 col0\" >30</td>\n",
              "      <td id=\"T_d90d8_row2_col1\" class=\"data row2 col1\" >Accounts</td>\n",
              "      <td id=\"T_d90d8_row2_col2\" class=\"data row2 col2\" >822134</td>\n",
              "      <td id=\"T_d90d8_row2_col3\" class=\"data row2 col3\" >Calcutta</td>\n",
              "      <td id=\"T_d90d8_row2_col4\" class=\"data row2 col4\" >1</td>\n",
              "    </tr>\n",
              "    <tr>\n",
              "      <td id=\"T_d90d8_row3_col0\" class=\"data row3 col0\" >40</td>\n",
              "      <td id=\"T_d90d8_row3_col1\" class=\"data row3 col1\" >Production</td>\n",
              "      <td id=\"T_d90d8_row3_col2\" class=\"data row3 col2\" >349870</td>\n",
              "      <td id=\"T_d90d8_row3_col3\" class=\"data row3 col3\" >Bombay</td>\n",
              "      <td id=\"T_d90d8_row3_col4\" class=\"data row3 col4\" >2</td>\n",
              "    </tr>\n",
              "    <tr>\n",
              "      <td id=\"T_d90d8_row4_col0\" class=\"data row4 col0\" >60</td>\n",
              "      <td id=\"T_d90d8_row4_col1\" class=\"data row4 col1\" >Research</td>\n",
              "      <td id=\"T_d90d8_row4_col2\" class=\"data row4 col2\" >546224</td>\n",
              "      <td id=\"T_d90d8_row4_col3\" class=\"data row4 col3\" >Delhi</td>\n",
              "      <td id=\"T_d90d8_row4_col4\" class=\"data row4 col4\" >3</td>\n",
              "    </tr>\n",
              "  </tbody>\n",
              "</table>\n"
            ]
          },
          "metadata": {},
          "execution_count": 73
        }
      ]
    },
    {
      "cell_type": "code",
      "source": [
        "runCmd(\"insert into Dept (DeptID, DeptName, ManagerID, Location,LocationID) VALUES \\\n",
        "\t('11', 'Corporate2', '299035', 'Calcutta','1')\")\n",
        "runSelect(\"select * from dept\")"
      ],
      "metadata": {
        "id": "iyW0EobdDuMY",
        "outputId": "cf25b1c6-65cf-4d53-cc57-8a65145a22aa",
        "colab": {
          "base_uri": "https://localhost:8080/",
          "height": 255
        }
      },
      "execution_count": 74,
      "outputs": [
        {
          "output_type": "stream",
          "name": "stdout",
          "text": [
            "Command executed\n"
          ]
        },
        {
          "output_type": "execute_result",
          "data": {
            "text/plain": [
              "<pandas.io.formats.style.Styler at 0x7b7ea7d19e40>"
            ],
            "text/html": [
              "<style type=\"text/css\">\n",
              "</style>\n",
              "<table id=\"T_fe8d1\" class=\"dataframe\">\n",
              "  <thead>\n",
              "    <tr>\n",
              "      <th id=\"T_fe8d1_level0_col0\" class=\"col_heading level0 col0\" >deptid</th>\n",
              "      <th id=\"T_fe8d1_level0_col1\" class=\"col_heading level0 col1\" >deptname</th>\n",
              "      <th id=\"T_fe8d1_level0_col2\" class=\"col_heading level0 col2\" >managerid</th>\n",
              "      <th id=\"T_fe8d1_level0_col3\" class=\"col_heading level0 col3\" >location</th>\n",
              "      <th id=\"T_fe8d1_level0_col4\" class=\"col_heading level0 col4\" >locationid</th>\n",
              "    </tr>\n",
              "  </thead>\n",
              "  <tbody>\n",
              "    <tr>\n",
              "      <td id=\"T_fe8d1_row0_col0\" class=\"data row0 col0\" >10</td>\n",
              "      <td id=\"T_fe8d1_row0_col1\" class=\"data row0 col1\" >Corporate</td>\n",
              "      <td id=\"T_fe8d1_row0_col2\" class=\"data row0 col2\" >299034</td>\n",
              "      <td id=\"T_fe8d1_row0_col3\" class=\"data row0 col3\" >Calcutta</td>\n",
              "      <td id=\"T_fe8d1_row0_col4\" class=\"data row0 col4\" >1</td>\n",
              "    </tr>\n",
              "    <tr>\n",
              "      <td id=\"T_fe8d1_row1_col0\" class=\"data row1 col0\" >20</td>\n",
              "      <td id=\"T_fe8d1_row1_col1\" class=\"data row1 col1\" >Sales</td>\n",
              "      <td id=\"T_fe8d1_row1_col2\" class=\"data row1 col2\" >239456</td>\n",
              "      <td id=\"T_fe8d1_row1_col3\" class=\"data row1 col3\" >Calcutta</td>\n",
              "      <td id=\"T_fe8d1_row1_col4\" class=\"data row1 col4\" >1</td>\n",
              "    </tr>\n",
              "    <tr>\n",
              "      <td id=\"T_fe8d1_row2_col0\" class=\"data row2 col0\" >30</td>\n",
              "      <td id=\"T_fe8d1_row2_col1\" class=\"data row2 col1\" >Accounts</td>\n",
              "      <td id=\"T_fe8d1_row2_col2\" class=\"data row2 col2\" >822134</td>\n",
              "      <td id=\"T_fe8d1_row2_col3\" class=\"data row2 col3\" >Calcutta</td>\n",
              "      <td id=\"T_fe8d1_row2_col4\" class=\"data row2 col4\" >1</td>\n",
              "    </tr>\n",
              "    <tr>\n",
              "      <td id=\"T_fe8d1_row3_col0\" class=\"data row3 col0\" >40</td>\n",
              "      <td id=\"T_fe8d1_row3_col1\" class=\"data row3 col1\" >Production</td>\n",
              "      <td id=\"T_fe8d1_row3_col2\" class=\"data row3 col2\" >349870</td>\n",
              "      <td id=\"T_fe8d1_row3_col3\" class=\"data row3 col3\" >Bombay</td>\n",
              "      <td id=\"T_fe8d1_row3_col4\" class=\"data row3 col4\" >2</td>\n",
              "    </tr>\n",
              "    <tr>\n",
              "      <td id=\"T_fe8d1_row4_col0\" class=\"data row4 col0\" >60</td>\n",
              "      <td id=\"T_fe8d1_row4_col1\" class=\"data row4 col1\" >Research</td>\n",
              "      <td id=\"T_fe8d1_row4_col2\" class=\"data row4 col2\" >546224</td>\n",
              "      <td id=\"T_fe8d1_row4_col3\" class=\"data row4 col3\" >Delhi</td>\n",
              "      <td id=\"T_fe8d1_row4_col4\" class=\"data row4 col4\" >3</td>\n",
              "    </tr>\n",
              "    <tr>\n",
              "      <td id=\"T_fe8d1_row5_col0\" class=\"data row5 col0\" >11</td>\n",
              "      <td id=\"T_fe8d1_row5_col1\" class=\"data row5 col1\" >Corporate2</td>\n",
              "      <td id=\"T_fe8d1_row5_col2\" class=\"data row5 col2\" >299035</td>\n",
              "      <td id=\"T_fe8d1_row5_col3\" class=\"data row5 col3\" >Calcutta</td>\n",
              "      <td id=\"T_fe8d1_row5_col4\" class=\"data row5 col4\" >1</td>\n",
              "    </tr>\n",
              "  </tbody>\n",
              "</table>\n"
            ]
          },
          "metadata": {},
          "execution_count": 74
        }
      ]
    },
    {
      "cell_type": "code",
      "source": [
        "runCmd(\"update dept set deptname = 'Marketing' where deptid = '11'\")\n",
        "runSelect(\"select * from dept\")"
      ],
      "metadata": {
        "id": "DqdnmD2pEQNq",
        "outputId": "74ffa6aa-dd8c-44e0-81c8-c9caa120dc5f",
        "colab": {
          "base_uri": "https://localhost:8080/",
          "height": 255
        }
      },
      "execution_count": 75,
      "outputs": [
        {
          "output_type": "stream",
          "name": "stdout",
          "text": [
            "Command executed\n"
          ]
        },
        {
          "output_type": "execute_result",
          "data": {
            "text/plain": [
              "<pandas.io.formats.style.Styler at 0x7b7ea7ee7a00>"
            ],
            "text/html": [
              "<style type=\"text/css\">\n",
              "</style>\n",
              "<table id=\"T_37979\" class=\"dataframe\">\n",
              "  <thead>\n",
              "    <tr>\n",
              "      <th id=\"T_37979_level0_col0\" class=\"col_heading level0 col0\" >deptid</th>\n",
              "      <th id=\"T_37979_level0_col1\" class=\"col_heading level0 col1\" >deptname</th>\n",
              "      <th id=\"T_37979_level0_col2\" class=\"col_heading level0 col2\" >managerid</th>\n",
              "      <th id=\"T_37979_level0_col3\" class=\"col_heading level0 col3\" >location</th>\n",
              "      <th id=\"T_37979_level0_col4\" class=\"col_heading level0 col4\" >locationid</th>\n",
              "    </tr>\n",
              "  </thead>\n",
              "  <tbody>\n",
              "    <tr>\n",
              "      <td id=\"T_37979_row0_col0\" class=\"data row0 col0\" >10</td>\n",
              "      <td id=\"T_37979_row0_col1\" class=\"data row0 col1\" >Corporate</td>\n",
              "      <td id=\"T_37979_row0_col2\" class=\"data row0 col2\" >299034</td>\n",
              "      <td id=\"T_37979_row0_col3\" class=\"data row0 col3\" >Calcutta</td>\n",
              "      <td id=\"T_37979_row0_col4\" class=\"data row0 col4\" >1</td>\n",
              "    </tr>\n",
              "    <tr>\n",
              "      <td id=\"T_37979_row1_col0\" class=\"data row1 col0\" >20</td>\n",
              "      <td id=\"T_37979_row1_col1\" class=\"data row1 col1\" >Sales</td>\n",
              "      <td id=\"T_37979_row1_col2\" class=\"data row1 col2\" >239456</td>\n",
              "      <td id=\"T_37979_row1_col3\" class=\"data row1 col3\" >Calcutta</td>\n",
              "      <td id=\"T_37979_row1_col4\" class=\"data row1 col4\" >1</td>\n",
              "    </tr>\n",
              "    <tr>\n",
              "      <td id=\"T_37979_row2_col0\" class=\"data row2 col0\" >30</td>\n",
              "      <td id=\"T_37979_row2_col1\" class=\"data row2 col1\" >Accounts</td>\n",
              "      <td id=\"T_37979_row2_col2\" class=\"data row2 col2\" >822134</td>\n",
              "      <td id=\"T_37979_row2_col3\" class=\"data row2 col3\" >Calcutta</td>\n",
              "      <td id=\"T_37979_row2_col4\" class=\"data row2 col4\" >1</td>\n",
              "    </tr>\n",
              "    <tr>\n",
              "      <td id=\"T_37979_row3_col0\" class=\"data row3 col0\" >40</td>\n",
              "      <td id=\"T_37979_row3_col1\" class=\"data row3 col1\" >Production</td>\n",
              "      <td id=\"T_37979_row3_col2\" class=\"data row3 col2\" >349870</td>\n",
              "      <td id=\"T_37979_row3_col3\" class=\"data row3 col3\" >Bombay</td>\n",
              "      <td id=\"T_37979_row3_col4\" class=\"data row3 col4\" >2</td>\n",
              "    </tr>\n",
              "    <tr>\n",
              "      <td id=\"T_37979_row4_col0\" class=\"data row4 col0\" >60</td>\n",
              "      <td id=\"T_37979_row4_col1\" class=\"data row4 col1\" >Research</td>\n",
              "      <td id=\"T_37979_row4_col2\" class=\"data row4 col2\" >546224</td>\n",
              "      <td id=\"T_37979_row4_col3\" class=\"data row4 col3\" >Delhi</td>\n",
              "      <td id=\"T_37979_row4_col4\" class=\"data row4 col4\" >3</td>\n",
              "    </tr>\n",
              "    <tr>\n",
              "      <td id=\"T_37979_row5_col0\" class=\"data row5 col0\" >11</td>\n",
              "      <td id=\"T_37979_row5_col1\" class=\"data row5 col1\" >Marketing</td>\n",
              "      <td id=\"T_37979_row5_col2\" class=\"data row5 col2\" >299035</td>\n",
              "      <td id=\"T_37979_row5_col3\" class=\"data row5 col3\" >Calcutta</td>\n",
              "      <td id=\"T_37979_row5_col4\" class=\"data row5 col4\" >1</td>\n",
              "    </tr>\n",
              "  </tbody>\n",
              "</table>\n"
            ]
          },
          "metadata": {},
          "execution_count": 75
        }
      ]
    },
    {
      "cell_type": "code",
      "source": [
        "runCmd(\"delete from dept where deptid = '11'\")\n",
        "runSelect(\"select * from dept\")"
      ],
      "metadata": {
        "id": "nsnJnNrEF6iS",
        "outputId": "9defd2ca-d0c3-49e4-93f0-27230147f3d4",
        "colab": {
          "base_uri": "https://localhost:8080/",
          "height": 224
        }
      },
      "execution_count": 76,
      "outputs": [
        {
          "output_type": "stream",
          "name": "stdout",
          "text": [
            "Command executed\n"
          ]
        },
        {
          "output_type": "execute_result",
          "data": {
            "text/plain": [
              "<pandas.io.formats.style.Styler at 0x7b7ea7d50f10>"
            ],
            "text/html": [
              "<style type=\"text/css\">\n",
              "</style>\n",
              "<table id=\"T_ccf3c\" class=\"dataframe\">\n",
              "  <thead>\n",
              "    <tr>\n",
              "      <th id=\"T_ccf3c_level0_col0\" class=\"col_heading level0 col0\" >deptid</th>\n",
              "      <th id=\"T_ccf3c_level0_col1\" class=\"col_heading level0 col1\" >deptname</th>\n",
              "      <th id=\"T_ccf3c_level0_col2\" class=\"col_heading level0 col2\" >managerid</th>\n",
              "      <th id=\"T_ccf3c_level0_col3\" class=\"col_heading level0 col3\" >location</th>\n",
              "      <th id=\"T_ccf3c_level0_col4\" class=\"col_heading level0 col4\" >locationid</th>\n",
              "    </tr>\n",
              "  </thead>\n",
              "  <tbody>\n",
              "    <tr>\n",
              "      <td id=\"T_ccf3c_row0_col0\" class=\"data row0 col0\" >10</td>\n",
              "      <td id=\"T_ccf3c_row0_col1\" class=\"data row0 col1\" >Corporate</td>\n",
              "      <td id=\"T_ccf3c_row0_col2\" class=\"data row0 col2\" >299034</td>\n",
              "      <td id=\"T_ccf3c_row0_col3\" class=\"data row0 col3\" >Calcutta</td>\n",
              "      <td id=\"T_ccf3c_row0_col4\" class=\"data row0 col4\" >1</td>\n",
              "    </tr>\n",
              "    <tr>\n",
              "      <td id=\"T_ccf3c_row1_col0\" class=\"data row1 col0\" >20</td>\n",
              "      <td id=\"T_ccf3c_row1_col1\" class=\"data row1 col1\" >Sales</td>\n",
              "      <td id=\"T_ccf3c_row1_col2\" class=\"data row1 col2\" >239456</td>\n",
              "      <td id=\"T_ccf3c_row1_col3\" class=\"data row1 col3\" >Calcutta</td>\n",
              "      <td id=\"T_ccf3c_row1_col4\" class=\"data row1 col4\" >1</td>\n",
              "    </tr>\n",
              "    <tr>\n",
              "      <td id=\"T_ccf3c_row2_col0\" class=\"data row2 col0\" >30</td>\n",
              "      <td id=\"T_ccf3c_row2_col1\" class=\"data row2 col1\" >Accounts</td>\n",
              "      <td id=\"T_ccf3c_row2_col2\" class=\"data row2 col2\" >822134</td>\n",
              "      <td id=\"T_ccf3c_row2_col3\" class=\"data row2 col3\" >Calcutta</td>\n",
              "      <td id=\"T_ccf3c_row2_col4\" class=\"data row2 col4\" >1</td>\n",
              "    </tr>\n",
              "    <tr>\n",
              "      <td id=\"T_ccf3c_row3_col0\" class=\"data row3 col0\" >40</td>\n",
              "      <td id=\"T_ccf3c_row3_col1\" class=\"data row3 col1\" >Production</td>\n",
              "      <td id=\"T_ccf3c_row3_col2\" class=\"data row3 col2\" >349870</td>\n",
              "      <td id=\"T_ccf3c_row3_col3\" class=\"data row3 col3\" >Bombay</td>\n",
              "      <td id=\"T_ccf3c_row3_col4\" class=\"data row3 col4\" >2</td>\n",
              "    </tr>\n",
              "    <tr>\n",
              "      <td id=\"T_ccf3c_row4_col0\" class=\"data row4 col0\" >60</td>\n",
              "      <td id=\"T_ccf3c_row4_col1\" class=\"data row4 col1\" >Research</td>\n",
              "      <td id=\"T_ccf3c_row4_col2\" class=\"data row4 col2\" >546224</td>\n",
              "      <td id=\"T_ccf3c_row4_col3\" class=\"data row4 col3\" >Delhi</td>\n",
              "      <td id=\"T_ccf3c_row4_col4\" class=\"data row4 col4\" >3</td>\n",
              "    </tr>\n",
              "  </tbody>\n",
              "</table>\n"
            ]
          },
          "metadata": {},
          "execution_count": 76
        }
      ]
    },
    {
      "cell_type": "code",
      "source": [
        "from datetime import datetime\n",
        "import pytz\n",
        "print('Last tested  ',datetime.now(pytz.timezone('Asia/Kolkata')))"
      ],
      "metadata": {
        "colab": {
          "base_uri": "https://localhost:8080/"
        },
        "id": "wjBXJVhM605H",
        "outputId": "bd472f09-c260-4fe2-8a14-0aedcd0941d0"
      },
      "execution_count": 77,
      "outputs": [
        {
          "output_type": "stream",
          "name": "stdout",
          "text": [
            "Last tested   2024-01-15 10:37:07.330590+05:30\n"
          ]
        }
      ]
    },
    {
      "cell_type": "markdown",
      "source": [
        "#Chronobooks <br>\n",
        "Two science fiction novels by Prithwis Mukerjee. A dystopian Earth. A technocratic society managed by artificial intelligence. Escape and epiphany on Mars. Can man and machine, carbon and silicon explore and escape into other dimensions of existence? An Indic perspective rooted in Advaita Vedanta and the Divine Feminine.  [More information](http://bit.ly/chronobooks) <br>\n",
        "![alt text](https://github.com/Praxis-QR/RDWH/raw/main/images/CTCYFooter-1.png)"
      ],
      "metadata": {
        "id": "_gNiZpyW3AzJ"
      }
    }
  ]
}