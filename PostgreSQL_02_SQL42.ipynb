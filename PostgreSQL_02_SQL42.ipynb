{
  "nbformat": 4,
  "nbformat_minor": 0,
  "metadata": {
    "colab": {
      "provenance": [],
      "toc_visible": true,
      "include_colab_link": true
    },
    "kernelspec": {
      "name": "python3",
      "display_name": "Python 3"
    },
    "language_info": {
      "name": "python"
    }
  },
  "cells": [
    {
      "cell_type": "markdown",
      "metadata": {
        "id": "view-in-github",
        "colab_type": "text"
      },
      "source": [
        "<a href=\"https://colab.research.google.com/github/Praxis-QR/RDWH/blob/main/PostgreSQL_02_SQL42.ipynb\" target=\"_parent\"><img src=\"https://colab.research.google.com/assets/colab-badge.svg\" alt=\"Open In Colab\"/></a>"
      ]
    },
    {
      "cell_type": "markdown",
      "source": [
        "![alt text](https://github.com/Praxis-QR/RDWH/raw/main/images/YantraJaalBanner.png)<br>\n",
        "\n",
        "\n",
        "<hr>\n",
        "\n",
        "[Prithwis Mukerjee](http://www.linkedin.com/in/prithwis)<br>"
      ],
      "metadata": {
        "id": "DBzz-qaN2tKu"
      }
    },
    {
      "cell_type": "markdown",
      "source": [
        "PostgreSQL Tutorial https://www.w3resource.com/PostgreSQL/tutorial.php"
      ],
      "metadata": {
        "id": "dBJ6X0LiJtZ6"
      }
    },
    {
      "cell_type": "markdown",
      "source": [
        "#Install & Configure Postgres"
      ],
      "metadata": {
        "id": "nD-QawLT6kDr"
      }
    },
    {
      "cell_type": "code",
      "source": [
        "from datetime import datetime\n",
        "import pytz\n",
        "print('Tested on ',datetime.now(pytz.timezone('Asia/Calcutta')))\n",
        "!python --version\n",
        "!lsb_release -a"
      ],
      "metadata": {
        "id": "txwvst5Hs5mI",
        "outputId": "96fd529b-d872-4b14-e939-c9c692cdeff3",
        "colab": {
          "base_uri": "https://localhost:8080/"
        }
      },
      "execution_count": 1,
      "outputs": [
        {
          "output_type": "stream",
          "name": "stdout",
          "text": [
            "Tested on  2023-12-31 05:22:01.042736+05:30\n",
            "Python 3.10.12\n",
            "No LSB modules are available.\n",
            "Distributor ID:\tUbuntu\n",
            "Description:\tUbuntu 22.04.3 LTS\n",
            "Release:\t22.04\n",
            "Codename:\tjammy\n"
          ]
        }
      ]
    },
    {
      "cell_type": "code",
      "source": [
        "# Install postgresql server\n",
        "\n",
        "!apt update > /dev/null\n",
        "!apt install postgresql > /dev/null\n",
        "#!sudo -u postgres psql -V\n",
        "!psql -V\n",
        "!service postgresql start"
      ],
      "metadata": {
        "colab": {
          "base_uri": "https://localhost:8080/"
        },
        "id": "o_RaqE0OOHP3",
        "outputId": "7dccd58f-42dd-4faf-911b-9bccb4375532"
      },
      "execution_count": 2,
      "outputs": [
        {
          "output_type": "stream",
          "name": "stdout",
          "text": [
            "\n",
            "WARNING: apt does not have a stable CLI interface. Use with caution in scripts.\n",
            "\n",
            "\n",
            "WARNING: apt does not have a stable CLI interface. Use with caution in scripts.\n",
            "\n",
            "psql (PostgreSQL) 14.10 (Ubuntu 14.10-0ubuntu0.22.04.1)\n",
            " * Starting PostgreSQL 14 database server\n",
            "   ...done.\n"
          ]
        }
      ]
    },
    {
      "cell_type": "code",
      "source": [
        "#!pip install psycopg2\n",
        "import psycopg2\n",
        "import pandas as pd"
      ],
      "metadata": {
        "id": "719jvpeIjLZX"
      },
      "execution_count": 3,
      "outputs": []
    },
    {
      "cell_type": "code",
      "source": [
        "# This has created an Ubuntu user 'postgres' AND a Postgres database user 'postgres' both of which are superusers\n",
        "#!cat /etc/passwd\n",
        "# Use these users to create a new database user called 'upraxis' and give it a password 'upass'\n",
        "#!sudo -u postgres createuser --superuser upraxis\n",
        "!sudo -u postgres createuser upraxis\n",
        "!sudo -u postgres psql -U postgres -c \"ALTER USER upraxis PASSWORD 'upass';\"\n",
        "# Change the database superuser 'postgres' to a non-default value 'pass'\n",
        "!sudo -u postgres psql -U postgres -c \"ALTER USER postgres PASSWORD 'pass';\"\n",
        "# Use ubuntu superuser to create database dbpraxis and set its owner to upraxis\n",
        "!sudo -u postgres createdb -O upraxis dbpraxis\n"
      ],
      "metadata": {
        "colab": {
          "base_uri": "https://localhost:8080/"
        },
        "id": "xr5kHaY_U4CZ",
        "outputId": "37508836-a5b7-4cdd-88ba-dda6c98dc8b1"
      },
      "execution_count": 4,
      "outputs": [
        {
          "output_type": "stream",
          "name": "stdout",
          "text": [
            "ALTER ROLE\n",
            "ALTER ROLE\n"
          ]
        }
      ]
    },
    {
      "cell_type": "code",
      "source": [
        "# Create file to store the password. Else will be prompted each time\n",
        "#!echo \"localhost:5432:praxisdb:postgres:pass\" > ~/.pgpass\n",
        "!echo \"localhost:5432:dbpraxis:upraxis:upass\" > ~/.pgpass\n",
        "!chmod 0600 ~/.pgpass\n",
        "!cat ~/.pgpass"
      ],
      "metadata": {
        "colab": {
          "base_uri": "https://localhost:8080/"
        },
        "id": "kFDLMhnTWwuz",
        "outputId": "8375a5ff-aed0-48a6-db49-94a7550c5c70"
      },
      "execution_count": 5,
      "outputs": [
        {
          "output_type": "stream",
          "name": "stdout",
          "text": [
            "localhost:5432:dbpraxis:upraxis:upass\n"
          ]
        }
      ]
    },
    {
      "cell_type": "markdown",
      "source": [
        "## Create and Load Tables"
      ],
      "metadata": {
        "id": "pHTdNzrU6qUE"
      }
    },
    {
      "cell_type": "code",
      "source": [
        "# Create Two tables using command line interface\n",
        "#\n",
        "!psql -h localhost -p 5432 -Uupraxis -ddbpraxis -c \\\n",
        "\"drop table if exists Dept;\\\n",
        "create table Dept (\\\n",
        "    DeptID char(2),\\\n",
        "    DeptName varchar(20),\\\n",
        "    ManagerID char(6),\\\n",
        "    Location varchar(10),\\\n",
        "    LocationID char(1)\\\n",
        "    );\\\n",
        "insert into Dept (DeptID, DeptName, ManagerID, Location,LocationID) VALUES \\\n",
        "\t('10', 'Corporate', '299034', 'Calcutta','1'), \\\n",
        "\t('20', 'Sales', '239456', 'Calcutta','1'), \\\n",
        "\t('30', 'Accounts', '822134', 'Calcutta','1'), \\\n",
        "\t('40', 'Production', '349870', 'Bombay','2'),\\\n",
        "    ('60', 'Research', '546224', 'Delhi','3');\\\n",
        "\""
      ],
      "metadata": {
        "colab": {
          "base_uri": "https://localhost:8080/"
        },
        "id": "DsUZ9JlEXIir",
        "outputId": "2d93f1a1-d9ea-488e-9323-6bbb164e8ee2"
      },
      "execution_count": 6,
      "outputs": [
        {
          "output_type": "stream",
          "name": "stdout",
          "text": [
            "NOTICE:  table \"dept\" does not exist, skipping\n",
            "INSERT 0 5\n"
          ]
        }
      ]
    },
    {
      "cell_type": "code",
      "source": [
        "!psql -h localhost -p 5432 -Uupraxis -ddbpraxis -c \\\n",
        "\"drop table if exists Empl;\\\n",
        "create table Empl \\\n",
        "    (EmpID char(6),\\\n",
        "    LastName varchar(20),\\\n",
        "    FirstName varchar(20),\\\n",
        "    JobDesc varchar(10),\\\n",
        "    JoinDate date,\\\n",
        "    Salary int,\\\n",
        "    Comm decimal(3,2),\\\n",
        "    DeptID char(2),\\\n",
        "    HiredBy char(6)\\\n",
        "    );\\\n",
        "INSERT INTO Empl (EmpID, LastName, FirstName, JobDesc, JoinDate, Salary, Comm, DeptID, HiredBy) \\\n",
        "    VALUES \\\n",
        "\t('742866', 'Bacchan', 'Amitabh', 'Executive', '2003-03-10', 50000, 0.1, '10', NULL), \\\n",
        "\t('349870', 'Mukherjee', 'Rani', 'Manager', '2005-05-04', 25000, 0.06, '40', '742866'), \\\n",
        "\t('865477', 'Dikshit', 'Madhuri', 'Clerk', '2002-04-04', 10000, 0.02, '20', '239456'), \\\n",
        "\t('239456', 'Khan', 'Shahrukh', 'Manager', '2004-01-03', 30000, 0.07, '20', '742866'), \\\n",
        "\t('897889', 'Sehwag', 'Virender', 'Cus_Rep', '2005-01-02', 15000, 0.05, '20', '239456'), \\\n",
        "\t('123980', 'Dhoni', 'Mahender', 'Clerk', '2004-10-09', 9000, 0.02, '40', '349870'), \\\n",
        "\t('822134', 'Dravid', 'Rahul', 'Sr Manager', '2000-06-04', 40000, 0.08, '30', '742866'), \\\n",
        "\t('997445', 'Dalmia', 'Jagmohan', 'Clerk', '2001-07-01', 12000, 0.02, '30', '822134'), \\\n",
        "\t('989007', 'Ganguly', 'Sourav', 'Cus_Rep', '2002-01-01', 20000, 0.03, '40', '299034'), \\\n",
        "\t('299034', 'Ganesan', 'Rekha', 'Director', '2002-10-10', 60000, 0.11, '10', '742866'), \\\n",
        "\t('546223', 'Karthikeyan', 'Narayan', 'Secretary', '2005-12-04', 40000, 0.09, '10', '299034'), \\\n",
        "    ('546224', 'Sunil', 'Chettri', 'Dy Manager', '2006-12-07', 40000, 0.05, '70', '349870'), \\\n",
        "\t('223112', 'Mirza', 'Sania', 'Cus_Rep', '2001-11-19', 25000, 0.04, '30', '822134');\\\n",
        "\""
      ],
      "metadata": {
        "colab": {
          "base_uri": "https://localhost:8080/"
        },
        "id": "5kWs3wyEd9Tm",
        "outputId": "86f0f43b-fbda-4b5f-9d55-914f9a51952a"
      },
      "execution_count": 7,
      "outputs": [
        {
          "output_type": "stream",
          "name": "stdout",
          "text": [
            "NOTICE:  table \"empl\" does not exist, skipping\n",
            "INSERT 0 13\n"
          ]
        }
      ]
    },
    {
      "cell_type": "code",
      "source": [
        "#!psql -h localhost -p 5432 -Upostgres -dpraxisdb -c \"select * from dept;\"\n",
        "#!psql -h localhost -p 5432 -Uupraxis -ddbpraxis -c \"select * from dept;\""
      ],
      "metadata": {
        "id": "HyBUhbAI2PV1"
      },
      "execution_count": 8,
      "outputs": []
    },
    {
      "cell_type": "code",
      "source": [
        "#!psql -h localhost -p 5432 -U postgres -d praxisdb -c \"select * from empl;\"\n",
        "#!psql -h localhost -p 5432 -U upraxis -d dbpraxis -c \"select * from empl;\""
      ],
      "metadata": {
        "id": "byY2iccO4ctF"
      },
      "execution_count": 9,
      "outputs": []
    },
    {
      "cell_type": "markdown",
      "source": [
        "## Python Access\n",
        "https://www.tutorialspoint.com/python_data_access/python_postgresql_database_connection.htm"
      ],
      "metadata": {
        "id": "faZEj8_7CeZ8"
      }
    },
    {
      "cell_type": "code",
      "source": [
        "# Local Colab server\n",
        "\n",
        "conn = psycopg2.connect(database=\"dbpraxis\", user='upraxis', password='upass', host='127.0.0.1', port= '5432')\n",
        "#Creating a cursor object using the cursor() method\n",
        "cursor = conn.cursor()\n",
        "#Executing an MYSQL function using the execute() method\n",
        "cursor.execute(\"select version()\")\n",
        "# Fetch a single row using fetchone() method.\n",
        "data = cursor.fetchone()\n",
        "print(\"Connection established to: \",data)\n",
        "#Closing the connection\n",
        "conn.close()"
      ],
      "metadata": {
        "id": "wcE-8UBnC4zV",
        "outputId": "714c060c-f746-41c2-db5b-fc72098cf8b1",
        "colab": {
          "base_uri": "https://localhost:8080/"
        }
      },
      "execution_count": 10,
      "outputs": [
        {
          "output_type": "stream",
          "name": "stdout",
          "text": [
            "Connection established to:  ('PostgreSQL 14.10 (Ubuntu 14.10-0ubuntu0.22.04.1) on x86_64-pc-linux-gnu, compiled by gcc (Ubuntu 11.4.0-1ubuntu1~22.04) 11.4.0, 64-bit',)\n"
          ]
        }
      ]
    },
    {
      "cell_type": "code",
      "source": [
        "# function to execute SQL select statements with Postgres\n",
        "#\n",
        "def runSelect(s):\n",
        "    #Set up connection\n",
        "\n",
        "    conn = psycopg2.connect(database=\"dbpraxis\", user='upraxis', password='upass', host='127.0.0.1', port= '5432')\n",
        "    #Setting auto commit true\n",
        "    conn.autocommit = True\n",
        "    #Creating a cursor object using the cursor() method\n",
        "    cursor = conn.cursor()\n",
        "    #Retrieving data\n",
        "    cursor.execute(s)\n",
        "    #Fetching all rows from the table\n",
        "    result = cursor.fetchall();\n",
        "    #print(len(result))\n",
        "    if (len(result)) > 0:                                       # result contains at least one row\n",
        "        colnames = [desc[0] for desc in cursor.description]     # get column names\n",
        "        #print(colnames)\n",
        "        resultdf = pd.DataFrame(result)                         # convert list to dataframe\n",
        "        resultdf.columns = colnames                             # add column names\n",
        "        #return resultdf\n",
        "        return resultdf.style.hide()                            # hide the index\n",
        "    else:\n",
        "        print('no records found')\n",
        "        return\n",
        "# function to execute SQL non-select statements with Postgres\n",
        "#\n",
        "def runCmd(s):\n",
        "    #Create Connection\n",
        "    conn = psycopg2.connect(database=\"dbpraxis\", user='upraxis', password='upass', host='127.0.0.1', port= '5432')\n",
        "    #Creating a cursor object using the cursor() method\n",
        "    cursor = conn.cursor()\n",
        "    try:\n",
        "        cursor.execute(s)\n",
        "        print('Command executed')\n",
        "        conn.commit()\n",
        "    except:\n",
        "        print('Command failed')\n",
        "    #Closing the connection\n",
        "    conn.close()"
      ],
      "metadata": {
        "id": "ht2k7-3iggNd"
      },
      "execution_count": 11,
      "outputs": []
    },
    {
      "cell_type": "markdown",
      "source": [
        "#Select - getting started"
      ],
      "metadata": {
        "id": "k0rXiciVtu7Q"
      }
    },
    {
      "cell_type": "code",
      "source": [
        "#runSelect(\"select * from dept where deptid = '100'\")\n",
        "#runSelect(\"select * from dept where deptid = '10'\")\n",
        "runSelect(\"select * from dept\")"
      ],
      "metadata": {
        "id": "N3NZv0YahSs6",
        "outputId": "500f80a6-5dfe-4b57-d12c-57438cbaeb51",
        "colab": {
          "base_uri": "https://localhost:8080/",
          "height": 206
        }
      },
      "execution_count": 12,
      "outputs": [
        {
          "output_type": "execute_result",
          "data": {
            "text/plain": [
              "<pandas.io.formats.style.Styler at 0x78a4712f7460>"
            ],
            "text/html": [
              "<style type=\"text/css\">\n",
              "</style>\n",
              "<table id=\"T_4fc3d\" class=\"dataframe\">\n",
              "  <thead>\n",
              "    <tr>\n",
              "      <th id=\"T_4fc3d_level0_col0\" class=\"col_heading level0 col0\" >deptid</th>\n",
              "      <th id=\"T_4fc3d_level0_col1\" class=\"col_heading level0 col1\" >deptname</th>\n",
              "      <th id=\"T_4fc3d_level0_col2\" class=\"col_heading level0 col2\" >managerid</th>\n",
              "      <th id=\"T_4fc3d_level0_col3\" class=\"col_heading level0 col3\" >location</th>\n",
              "      <th id=\"T_4fc3d_level0_col4\" class=\"col_heading level0 col4\" >locationid</th>\n",
              "    </tr>\n",
              "  </thead>\n",
              "  <tbody>\n",
              "    <tr>\n",
              "      <td id=\"T_4fc3d_row0_col0\" class=\"data row0 col0\" >10</td>\n",
              "      <td id=\"T_4fc3d_row0_col1\" class=\"data row0 col1\" >Corporate</td>\n",
              "      <td id=\"T_4fc3d_row0_col2\" class=\"data row0 col2\" >299034</td>\n",
              "      <td id=\"T_4fc3d_row0_col3\" class=\"data row0 col3\" >Calcutta</td>\n",
              "      <td id=\"T_4fc3d_row0_col4\" class=\"data row0 col4\" >1</td>\n",
              "    </tr>\n",
              "    <tr>\n",
              "      <td id=\"T_4fc3d_row1_col0\" class=\"data row1 col0\" >20</td>\n",
              "      <td id=\"T_4fc3d_row1_col1\" class=\"data row1 col1\" >Sales</td>\n",
              "      <td id=\"T_4fc3d_row1_col2\" class=\"data row1 col2\" >239456</td>\n",
              "      <td id=\"T_4fc3d_row1_col3\" class=\"data row1 col3\" >Calcutta</td>\n",
              "      <td id=\"T_4fc3d_row1_col4\" class=\"data row1 col4\" >1</td>\n",
              "    </tr>\n",
              "    <tr>\n",
              "      <td id=\"T_4fc3d_row2_col0\" class=\"data row2 col0\" >30</td>\n",
              "      <td id=\"T_4fc3d_row2_col1\" class=\"data row2 col1\" >Accounts</td>\n",
              "      <td id=\"T_4fc3d_row2_col2\" class=\"data row2 col2\" >822134</td>\n",
              "      <td id=\"T_4fc3d_row2_col3\" class=\"data row2 col3\" >Calcutta</td>\n",
              "      <td id=\"T_4fc3d_row2_col4\" class=\"data row2 col4\" >1</td>\n",
              "    </tr>\n",
              "    <tr>\n",
              "      <td id=\"T_4fc3d_row3_col0\" class=\"data row3 col0\" >40</td>\n",
              "      <td id=\"T_4fc3d_row3_col1\" class=\"data row3 col1\" >Production</td>\n",
              "      <td id=\"T_4fc3d_row3_col2\" class=\"data row3 col2\" >349870</td>\n",
              "      <td id=\"T_4fc3d_row3_col3\" class=\"data row3 col3\" >Bombay</td>\n",
              "      <td id=\"T_4fc3d_row3_col4\" class=\"data row3 col4\" >2</td>\n",
              "    </tr>\n",
              "    <tr>\n",
              "      <td id=\"T_4fc3d_row4_col0\" class=\"data row4 col0\" >60</td>\n",
              "      <td id=\"T_4fc3d_row4_col1\" class=\"data row4 col1\" >Research</td>\n",
              "      <td id=\"T_4fc3d_row4_col2\" class=\"data row4 col2\" >546224</td>\n",
              "      <td id=\"T_4fc3d_row4_col3\" class=\"data row4 col3\" >Delhi</td>\n",
              "      <td id=\"T_4fc3d_row4_col4\" class=\"data row4 col4\" >3</td>\n",
              "    </tr>\n",
              "  </tbody>\n",
              "</table>\n"
            ]
          },
          "metadata": {},
          "execution_count": 12
        }
      ]
    },
    {
      "cell_type": "code",
      "source": [
        "runSelect('select * from empl')"
      ],
      "metadata": {
        "id": "Otiv4rjSl5Tg",
        "outputId": "3a5e4f88-1999-4ba0-bda1-119635053bc6",
        "colab": {
          "base_uri": "https://localhost:8080/",
          "height": 457
        }
      },
      "execution_count": 13,
      "outputs": [
        {
          "output_type": "execute_result",
          "data": {
            "text/plain": [
              "<pandas.io.formats.style.Styler at 0x78a471247910>"
            ],
            "text/html": [
              "<style type=\"text/css\">\n",
              "</style>\n",
              "<table id=\"T_3b120\" class=\"dataframe\">\n",
              "  <thead>\n",
              "    <tr>\n",
              "      <th id=\"T_3b120_level0_col0\" class=\"col_heading level0 col0\" >empid</th>\n",
              "      <th id=\"T_3b120_level0_col1\" class=\"col_heading level0 col1\" >lastname</th>\n",
              "      <th id=\"T_3b120_level0_col2\" class=\"col_heading level0 col2\" >firstname</th>\n",
              "      <th id=\"T_3b120_level0_col3\" class=\"col_heading level0 col3\" >jobdesc</th>\n",
              "      <th id=\"T_3b120_level0_col4\" class=\"col_heading level0 col4\" >joindate</th>\n",
              "      <th id=\"T_3b120_level0_col5\" class=\"col_heading level0 col5\" >salary</th>\n",
              "      <th id=\"T_3b120_level0_col6\" class=\"col_heading level0 col6\" >comm</th>\n",
              "      <th id=\"T_3b120_level0_col7\" class=\"col_heading level0 col7\" >deptid</th>\n",
              "      <th id=\"T_3b120_level0_col8\" class=\"col_heading level0 col8\" >hiredby</th>\n",
              "    </tr>\n",
              "  </thead>\n",
              "  <tbody>\n",
              "    <tr>\n",
              "      <td id=\"T_3b120_row0_col0\" class=\"data row0 col0\" >742866</td>\n",
              "      <td id=\"T_3b120_row0_col1\" class=\"data row0 col1\" >Bacchan</td>\n",
              "      <td id=\"T_3b120_row0_col2\" class=\"data row0 col2\" >Amitabh</td>\n",
              "      <td id=\"T_3b120_row0_col3\" class=\"data row0 col3\" >Executive</td>\n",
              "      <td id=\"T_3b120_row0_col4\" class=\"data row0 col4\" >2003-03-10</td>\n",
              "      <td id=\"T_3b120_row0_col5\" class=\"data row0 col5\" >50000</td>\n",
              "      <td id=\"T_3b120_row0_col6\" class=\"data row0 col6\" >0.10</td>\n",
              "      <td id=\"T_3b120_row0_col7\" class=\"data row0 col7\" >10</td>\n",
              "      <td id=\"T_3b120_row0_col8\" class=\"data row0 col8\" >None</td>\n",
              "    </tr>\n",
              "    <tr>\n",
              "      <td id=\"T_3b120_row1_col0\" class=\"data row1 col0\" >349870</td>\n",
              "      <td id=\"T_3b120_row1_col1\" class=\"data row1 col1\" >Mukherjee</td>\n",
              "      <td id=\"T_3b120_row1_col2\" class=\"data row1 col2\" >Rani</td>\n",
              "      <td id=\"T_3b120_row1_col3\" class=\"data row1 col3\" >Manager</td>\n",
              "      <td id=\"T_3b120_row1_col4\" class=\"data row1 col4\" >2005-05-04</td>\n",
              "      <td id=\"T_3b120_row1_col5\" class=\"data row1 col5\" >25000</td>\n",
              "      <td id=\"T_3b120_row1_col6\" class=\"data row1 col6\" >0.06</td>\n",
              "      <td id=\"T_3b120_row1_col7\" class=\"data row1 col7\" >40</td>\n",
              "      <td id=\"T_3b120_row1_col8\" class=\"data row1 col8\" >742866</td>\n",
              "    </tr>\n",
              "    <tr>\n",
              "      <td id=\"T_3b120_row2_col0\" class=\"data row2 col0\" >865477</td>\n",
              "      <td id=\"T_3b120_row2_col1\" class=\"data row2 col1\" >Dikshit</td>\n",
              "      <td id=\"T_3b120_row2_col2\" class=\"data row2 col2\" >Madhuri</td>\n",
              "      <td id=\"T_3b120_row2_col3\" class=\"data row2 col3\" >Clerk</td>\n",
              "      <td id=\"T_3b120_row2_col4\" class=\"data row2 col4\" >2002-04-04</td>\n",
              "      <td id=\"T_3b120_row2_col5\" class=\"data row2 col5\" >10000</td>\n",
              "      <td id=\"T_3b120_row2_col6\" class=\"data row2 col6\" >0.02</td>\n",
              "      <td id=\"T_3b120_row2_col7\" class=\"data row2 col7\" >20</td>\n",
              "      <td id=\"T_3b120_row2_col8\" class=\"data row2 col8\" >239456</td>\n",
              "    </tr>\n",
              "    <tr>\n",
              "      <td id=\"T_3b120_row3_col0\" class=\"data row3 col0\" >239456</td>\n",
              "      <td id=\"T_3b120_row3_col1\" class=\"data row3 col1\" >Khan</td>\n",
              "      <td id=\"T_3b120_row3_col2\" class=\"data row3 col2\" >Shahrukh</td>\n",
              "      <td id=\"T_3b120_row3_col3\" class=\"data row3 col3\" >Manager</td>\n",
              "      <td id=\"T_3b120_row3_col4\" class=\"data row3 col4\" >2004-01-03</td>\n",
              "      <td id=\"T_3b120_row3_col5\" class=\"data row3 col5\" >30000</td>\n",
              "      <td id=\"T_3b120_row3_col6\" class=\"data row3 col6\" >0.07</td>\n",
              "      <td id=\"T_3b120_row3_col7\" class=\"data row3 col7\" >20</td>\n",
              "      <td id=\"T_3b120_row3_col8\" class=\"data row3 col8\" >742866</td>\n",
              "    </tr>\n",
              "    <tr>\n",
              "      <td id=\"T_3b120_row4_col0\" class=\"data row4 col0\" >897889</td>\n",
              "      <td id=\"T_3b120_row4_col1\" class=\"data row4 col1\" >Sehwag</td>\n",
              "      <td id=\"T_3b120_row4_col2\" class=\"data row4 col2\" >Virender</td>\n",
              "      <td id=\"T_3b120_row4_col3\" class=\"data row4 col3\" >Cus_Rep</td>\n",
              "      <td id=\"T_3b120_row4_col4\" class=\"data row4 col4\" >2005-01-02</td>\n",
              "      <td id=\"T_3b120_row4_col5\" class=\"data row4 col5\" >15000</td>\n",
              "      <td id=\"T_3b120_row4_col6\" class=\"data row4 col6\" >0.05</td>\n",
              "      <td id=\"T_3b120_row4_col7\" class=\"data row4 col7\" >20</td>\n",
              "      <td id=\"T_3b120_row4_col8\" class=\"data row4 col8\" >239456</td>\n",
              "    </tr>\n",
              "    <tr>\n",
              "      <td id=\"T_3b120_row5_col0\" class=\"data row5 col0\" >123980</td>\n",
              "      <td id=\"T_3b120_row5_col1\" class=\"data row5 col1\" >Dhoni</td>\n",
              "      <td id=\"T_3b120_row5_col2\" class=\"data row5 col2\" >Mahender</td>\n",
              "      <td id=\"T_3b120_row5_col3\" class=\"data row5 col3\" >Clerk</td>\n",
              "      <td id=\"T_3b120_row5_col4\" class=\"data row5 col4\" >2004-10-09</td>\n",
              "      <td id=\"T_3b120_row5_col5\" class=\"data row5 col5\" >9000</td>\n",
              "      <td id=\"T_3b120_row5_col6\" class=\"data row5 col6\" >0.02</td>\n",
              "      <td id=\"T_3b120_row5_col7\" class=\"data row5 col7\" >40</td>\n",
              "      <td id=\"T_3b120_row5_col8\" class=\"data row5 col8\" >349870</td>\n",
              "    </tr>\n",
              "    <tr>\n",
              "      <td id=\"T_3b120_row6_col0\" class=\"data row6 col0\" >822134</td>\n",
              "      <td id=\"T_3b120_row6_col1\" class=\"data row6 col1\" >Dravid</td>\n",
              "      <td id=\"T_3b120_row6_col2\" class=\"data row6 col2\" >Rahul</td>\n",
              "      <td id=\"T_3b120_row6_col3\" class=\"data row6 col3\" >Sr Manager</td>\n",
              "      <td id=\"T_3b120_row6_col4\" class=\"data row6 col4\" >2000-06-04</td>\n",
              "      <td id=\"T_3b120_row6_col5\" class=\"data row6 col5\" >40000</td>\n",
              "      <td id=\"T_3b120_row6_col6\" class=\"data row6 col6\" >0.08</td>\n",
              "      <td id=\"T_3b120_row6_col7\" class=\"data row6 col7\" >30</td>\n",
              "      <td id=\"T_3b120_row6_col8\" class=\"data row6 col8\" >742866</td>\n",
              "    </tr>\n",
              "    <tr>\n",
              "      <td id=\"T_3b120_row7_col0\" class=\"data row7 col0\" >997445</td>\n",
              "      <td id=\"T_3b120_row7_col1\" class=\"data row7 col1\" >Dalmia</td>\n",
              "      <td id=\"T_3b120_row7_col2\" class=\"data row7 col2\" >Jagmohan</td>\n",
              "      <td id=\"T_3b120_row7_col3\" class=\"data row7 col3\" >Clerk</td>\n",
              "      <td id=\"T_3b120_row7_col4\" class=\"data row7 col4\" >2001-07-01</td>\n",
              "      <td id=\"T_3b120_row7_col5\" class=\"data row7 col5\" >12000</td>\n",
              "      <td id=\"T_3b120_row7_col6\" class=\"data row7 col6\" >0.02</td>\n",
              "      <td id=\"T_3b120_row7_col7\" class=\"data row7 col7\" >30</td>\n",
              "      <td id=\"T_3b120_row7_col8\" class=\"data row7 col8\" >822134</td>\n",
              "    </tr>\n",
              "    <tr>\n",
              "      <td id=\"T_3b120_row8_col0\" class=\"data row8 col0\" >989007</td>\n",
              "      <td id=\"T_3b120_row8_col1\" class=\"data row8 col1\" >Ganguly</td>\n",
              "      <td id=\"T_3b120_row8_col2\" class=\"data row8 col2\" >Sourav</td>\n",
              "      <td id=\"T_3b120_row8_col3\" class=\"data row8 col3\" >Cus_Rep</td>\n",
              "      <td id=\"T_3b120_row8_col4\" class=\"data row8 col4\" >2002-01-01</td>\n",
              "      <td id=\"T_3b120_row8_col5\" class=\"data row8 col5\" >20000</td>\n",
              "      <td id=\"T_3b120_row8_col6\" class=\"data row8 col6\" >0.03</td>\n",
              "      <td id=\"T_3b120_row8_col7\" class=\"data row8 col7\" >40</td>\n",
              "      <td id=\"T_3b120_row8_col8\" class=\"data row8 col8\" >299034</td>\n",
              "    </tr>\n",
              "    <tr>\n",
              "      <td id=\"T_3b120_row9_col0\" class=\"data row9 col0\" >299034</td>\n",
              "      <td id=\"T_3b120_row9_col1\" class=\"data row9 col1\" >Ganesan</td>\n",
              "      <td id=\"T_3b120_row9_col2\" class=\"data row9 col2\" >Rekha</td>\n",
              "      <td id=\"T_3b120_row9_col3\" class=\"data row9 col3\" >Director</td>\n",
              "      <td id=\"T_3b120_row9_col4\" class=\"data row9 col4\" >2002-10-10</td>\n",
              "      <td id=\"T_3b120_row9_col5\" class=\"data row9 col5\" >60000</td>\n",
              "      <td id=\"T_3b120_row9_col6\" class=\"data row9 col6\" >0.11</td>\n",
              "      <td id=\"T_3b120_row9_col7\" class=\"data row9 col7\" >10</td>\n",
              "      <td id=\"T_3b120_row9_col8\" class=\"data row9 col8\" >742866</td>\n",
              "    </tr>\n",
              "    <tr>\n",
              "      <td id=\"T_3b120_row10_col0\" class=\"data row10 col0\" >546223</td>\n",
              "      <td id=\"T_3b120_row10_col1\" class=\"data row10 col1\" >Karthikeyan</td>\n",
              "      <td id=\"T_3b120_row10_col2\" class=\"data row10 col2\" >Narayan</td>\n",
              "      <td id=\"T_3b120_row10_col3\" class=\"data row10 col3\" >Secretary</td>\n",
              "      <td id=\"T_3b120_row10_col4\" class=\"data row10 col4\" >2005-12-04</td>\n",
              "      <td id=\"T_3b120_row10_col5\" class=\"data row10 col5\" >40000</td>\n",
              "      <td id=\"T_3b120_row10_col6\" class=\"data row10 col6\" >0.09</td>\n",
              "      <td id=\"T_3b120_row10_col7\" class=\"data row10 col7\" >10</td>\n",
              "      <td id=\"T_3b120_row10_col8\" class=\"data row10 col8\" >299034</td>\n",
              "    </tr>\n",
              "    <tr>\n",
              "      <td id=\"T_3b120_row11_col0\" class=\"data row11 col0\" >546224</td>\n",
              "      <td id=\"T_3b120_row11_col1\" class=\"data row11 col1\" >Sunil</td>\n",
              "      <td id=\"T_3b120_row11_col2\" class=\"data row11 col2\" >Chettri</td>\n",
              "      <td id=\"T_3b120_row11_col3\" class=\"data row11 col3\" >Dy Manager</td>\n",
              "      <td id=\"T_3b120_row11_col4\" class=\"data row11 col4\" >2006-12-07</td>\n",
              "      <td id=\"T_3b120_row11_col5\" class=\"data row11 col5\" >40000</td>\n",
              "      <td id=\"T_3b120_row11_col6\" class=\"data row11 col6\" >0.05</td>\n",
              "      <td id=\"T_3b120_row11_col7\" class=\"data row11 col7\" >70</td>\n",
              "      <td id=\"T_3b120_row11_col8\" class=\"data row11 col8\" >349870</td>\n",
              "    </tr>\n",
              "    <tr>\n",
              "      <td id=\"T_3b120_row12_col0\" class=\"data row12 col0\" >223112</td>\n",
              "      <td id=\"T_3b120_row12_col1\" class=\"data row12 col1\" >Mirza</td>\n",
              "      <td id=\"T_3b120_row12_col2\" class=\"data row12 col2\" >Sania</td>\n",
              "      <td id=\"T_3b120_row12_col3\" class=\"data row12 col3\" >Cus_Rep</td>\n",
              "      <td id=\"T_3b120_row12_col4\" class=\"data row12 col4\" >2001-11-19</td>\n",
              "      <td id=\"T_3b120_row12_col5\" class=\"data row12 col5\" >25000</td>\n",
              "      <td id=\"T_3b120_row12_col6\" class=\"data row12 col6\" >0.04</td>\n",
              "      <td id=\"T_3b120_row12_col7\" class=\"data row12 col7\" >30</td>\n",
              "      <td id=\"T_3b120_row12_col8\" class=\"data row12 col8\" >822134</td>\n",
              "    </tr>\n",
              "  </tbody>\n",
              "</table>\n"
            ]
          },
          "metadata": {},
          "execution_count": 13
        }
      ]
    },
    {
      "cell_type": "code",
      "source": [
        "runSelect('select lastname, jobdesc, salary from empl')"
      ],
      "metadata": {
        "id": "z-mxVMPuuxu6",
        "outputId": "91d0e055-34b9-4ddd-a379-37027badced6",
        "colab": {
          "base_uri": "https://localhost:8080/",
          "height": 457
        }
      },
      "execution_count": 14,
      "outputs": [
        {
          "output_type": "execute_result",
          "data": {
            "text/plain": [
              "<pandas.io.formats.style.Styler at 0x78a471246770>"
            ],
            "text/html": [
              "<style type=\"text/css\">\n",
              "</style>\n",
              "<table id=\"T_5ca09\" class=\"dataframe\">\n",
              "  <thead>\n",
              "    <tr>\n",
              "      <th id=\"T_5ca09_level0_col0\" class=\"col_heading level0 col0\" >lastname</th>\n",
              "      <th id=\"T_5ca09_level0_col1\" class=\"col_heading level0 col1\" >jobdesc</th>\n",
              "      <th id=\"T_5ca09_level0_col2\" class=\"col_heading level0 col2\" >salary</th>\n",
              "    </tr>\n",
              "  </thead>\n",
              "  <tbody>\n",
              "    <tr>\n",
              "      <td id=\"T_5ca09_row0_col0\" class=\"data row0 col0\" >Bacchan</td>\n",
              "      <td id=\"T_5ca09_row0_col1\" class=\"data row0 col1\" >Executive</td>\n",
              "      <td id=\"T_5ca09_row0_col2\" class=\"data row0 col2\" >50000</td>\n",
              "    </tr>\n",
              "    <tr>\n",
              "      <td id=\"T_5ca09_row1_col0\" class=\"data row1 col0\" >Mukherjee</td>\n",
              "      <td id=\"T_5ca09_row1_col1\" class=\"data row1 col1\" >Manager</td>\n",
              "      <td id=\"T_5ca09_row1_col2\" class=\"data row1 col2\" >25000</td>\n",
              "    </tr>\n",
              "    <tr>\n",
              "      <td id=\"T_5ca09_row2_col0\" class=\"data row2 col0\" >Dikshit</td>\n",
              "      <td id=\"T_5ca09_row2_col1\" class=\"data row2 col1\" >Clerk</td>\n",
              "      <td id=\"T_5ca09_row2_col2\" class=\"data row2 col2\" >10000</td>\n",
              "    </tr>\n",
              "    <tr>\n",
              "      <td id=\"T_5ca09_row3_col0\" class=\"data row3 col0\" >Khan</td>\n",
              "      <td id=\"T_5ca09_row3_col1\" class=\"data row3 col1\" >Manager</td>\n",
              "      <td id=\"T_5ca09_row3_col2\" class=\"data row3 col2\" >30000</td>\n",
              "    </tr>\n",
              "    <tr>\n",
              "      <td id=\"T_5ca09_row4_col0\" class=\"data row4 col0\" >Sehwag</td>\n",
              "      <td id=\"T_5ca09_row4_col1\" class=\"data row4 col1\" >Cus_Rep</td>\n",
              "      <td id=\"T_5ca09_row4_col2\" class=\"data row4 col2\" >15000</td>\n",
              "    </tr>\n",
              "    <tr>\n",
              "      <td id=\"T_5ca09_row5_col0\" class=\"data row5 col0\" >Dhoni</td>\n",
              "      <td id=\"T_5ca09_row5_col1\" class=\"data row5 col1\" >Clerk</td>\n",
              "      <td id=\"T_5ca09_row5_col2\" class=\"data row5 col2\" >9000</td>\n",
              "    </tr>\n",
              "    <tr>\n",
              "      <td id=\"T_5ca09_row6_col0\" class=\"data row6 col0\" >Dravid</td>\n",
              "      <td id=\"T_5ca09_row6_col1\" class=\"data row6 col1\" >Sr Manager</td>\n",
              "      <td id=\"T_5ca09_row6_col2\" class=\"data row6 col2\" >40000</td>\n",
              "    </tr>\n",
              "    <tr>\n",
              "      <td id=\"T_5ca09_row7_col0\" class=\"data row7 col0\" >Dalmia</td>\n",
              "      <td id=\"T_5ca09_row7_col1\" class=\"data row7 col1\" >Clerk</td>\n",
              "      <td id=\"T_5ca09_row7_col2\" class=\"data row7 col2\" >12000</td>\n",
              "    </tr>\n",
              "    <tr>\n",
              "      <td id=\"T_5ca09_row8_col0\" class=\"data row8 col0\" >Ganguly</td>\n",
              "      <td id=\"T_5ca09_row8_col1\" class=\"data row8 col1\" >Cus_Rep</td>\n",
              "      <td id=\"T_5ca09_row8_col2\" class=\"data row8 col2\" >20000</td>\n",
              "    </tr>\n",
              "    <tr>\n",
              "      <td id=\"T_5ca09_row9_col0\" class=\"data row9 col0\" >Ganesan</td>\n",
              "      <td id=\"T_5ca09_row9_col1\" class=\"data row9 col1\" >Director</td>\n",
              "      <td id=\"T_5ca09_row9_col2\" class=\"data row9 col2\" >60000</td>\n",
              "    </tr>\n",
              "    <tr>\n",
              "      <td id=\"T_5ca09_row10_col0\" class=\"data row10 col0\" >Karthikeyan</td>\n",
              "      <td id=\"T_5ca09_row10_col1\" class=\"data row10 col1\" >Secretary</td>\n",
              "      <td id=\"T_5ca09_row10_col2\" class=\"data row10 col2\" >40000</td>\n",
              "    </tr>\n",
              "    <tr>\n",
              "      <td id=\"T_5ca09_row11_col0\" class=\"data row11 col0\" >Sunil</td>\n",
              "      <td id=\"T_5ca09_row11_col1\" class=\"data row11 col1\" >Dy Manager</td>\n",
              "      <td id=\"T_5ca09_row11_col2\" class=\"data row11 col2\" >40000</td>\n",
              "    </tr>\n",
              "    <tr>\n",
              "      <td id=\"T_5ca09_row12_col0\" class=\"data row12 col0\" >Mirza</td>\n",
              "      <td id=\"T_5ca09_row12_col1\" class=\"data row12 col1\" >Cus_Rep</td>\n",
              "      <td id=\"T_5ca09_row12_col2\" class=\"data row12 col2\" >25000</td>\n",
              "    </tr>\n",
              "  </tbody>\n",
              "</table>\n"
            ]
          },
          "metadata": {},
          "execution_count": 14
        }
      ]
    },
    {
      "cell_type": "code",
      "source": [
        "runSelect('select distinct(jobdesc) from empl')"
      ],
      "metadata": {
        "id": "7uvcAdlCvg-p",
        "outputId": "e6f8511f-d509-445f-844b-167378cb04a4",
        "colab": {
          "base_uri": "https://localhost:8080/",
          "height": 300
        }
      },
      "execution_count": 15,
      "outputs": [
        {
          "output_type": "execute_result",
          "data": {
            "text/plain": [
              "<pandas.io.formats.style.Styler at 0x78a471247640>"
            ],
            "text/html": [
              "<style type=\"text/css\">\n",
              "</style>\n",
              "<table id=\"T_ab45b\" class=\"dataframe\">\n",
              "  <thead>\n",
              "    <tr>\n",
              "      <th id=\"T_ab45b_level0_col0\" class=\"col_heading level0 col0\" >jobdesc</th>\n",
              "    </tr>\n",
              "  </thead>\n",
              "  <tbody>\n",
              "    <tr>\n",
              "      <td id=\"T_ab45b_row0_col0\" class=\"data row0 col0\" >Director</td>\n",
              "    </tr>\n",
              "    <tr>\n",
              "      <td id=\"T_ab45b_row1_col0\" class=\"data row1 col0\" >Manager</td>\n",
              "    </tr>\n",
              "    <tr>\n",
              "      <td id=\"T_ab45b_row2_col0\" class=\"data row2 col0\" >Dy Manager</td>\n",
              "    </tr>\n",
              "    <tr>\n",
              "      <td id=\"T_ab45b_row3_col0\" class=\"data row3 col0\" >Executive</td>\n",
              "    </tr>\n",
              "    <tr>\n",
              "      <td id=\"T_ab45b_row4_col0\" class=\"data row4 col0\" >Secretary</td>\n",
              "    </tr>\n",
              "    <tr>\n",
              "      <td id=\"T_ab45b_row5_col0\" class=\"data row5 col0\" >Cus_Rep</td>\n",
              "    </tr>\n",
              "    <tr>\n",
              "      <td id=\"T_ab45b_row6_col0\" class=\"data row6 col0\" >Clerk</td>\n",
              "    </tr>\n",
              "    <tr>\n",
              "      <td id=\"T_ab45b_row7_col0\" class=\"data row7 col0\" >Sr Manager</td>\n",
              "    </tr>\n",
              "  </tbody>\n",
              "</table>\n"
            ]
          },
          "metadata": {},
          "execution_count": 15
        }
      ]
    },
    {
      "cell_type": "markdown",
      "source": [
        "#Where"
      ],
      "metadata": {
        "id": "LFbNG59OxVzF"
      }
    },
    {
      "cell_type": "markdown",
      "source": [
        "## Equal, Not Equal, Greater, Less"
      ],
      "metadata": {
        "id": "JM2k29awVQHc"
      }
    },
    {
      "cell_type": "code",
      "source": [
        "runSelect(\"select firstname, lastname, jobdesc from empl where jobdesc = 'Clerk'\")"
      ],
      "metadata": {
        "id": "rRZz9OpLxdEY",
        "outputId": "092d82a3-c94e-4333-e70a-50839e899b13",
        "colab": {
          "base_uri": "https://localhost:8080/",
          "height": 143
        }
      },
      "execution_count": 16,
      "outputs": [
        {
          "output_type": "execute_result",
          "data": {
            "text/plain": [
              "<pandas.io.formats.style.Styler at 0x78a471246e30>"
            ],
            "text/html": [
              "<style type=\"text/css\">\n",
              "</style>\n",
              "<table id=\"T_2e0d9\" class=\"dataframe\">\n",
              "  <thead>\n",
              "    <tr>\n",
              "      <th id=\"T_2e0d9_level0_col0\" class=\"col_heading level0 col0\" >firstname</th>\n",
              "      <th id=\"T_2e0d9_level0_col1\" class=\"col_heading level0 col1\" >lastname</th>\n",
              "      <th id=\"T_2e0d9_level0_col2\" class=\"col_heading level0 col2\" >jobdesc</th>\n",
              "    </tr>\n",
              "  </thead>\n",
              "  <tbody>\n",
              "    <tr>\n",
              "      <td id=\"T_2e0d9_row0_col0\" class=\"data row0 col0\" >Madhuri</td>\n",
              "      <td id=\"T_2e0d9_row0_col1\" class=\"data row0 col1\" >Dikshit</td>\n",
              "      <td id=\"T_2e0d9_row0_col2\" class=\"data row0 col2\" >Clerk</td>\n",
              "    </tr>\n",
              "    <tr>\n",
              "      <td id=\"T_2e0d9_row1_col0\" class=\"data row1 col0\" >Mahender</td>\n",
              "      <td id=\"T_2e0d9_row1_col1\" class=\"data row1 col1\" >Dhoni</td>\n",
              "      <td id=\"T_2e0d9_row1_col2\" class=\"data row1 col2\" >Clerk</td>\n",
              "    </tr>\n",
              "    <tr>\n",
              "      <td id=\"T_2e0d9_row2_col0\" class=\"data row2 col0\" >Jagmohan</td>\n",
              "      <td id=\"T_2e0d9_row2_col1\" class=\"data row2 col1\" >Dalmia</td>\n",
              "      <td id=\"T_2e0d9_row2_col2\" class=\"data row2 col2\" >Clerk</td>\n",
              "    </tr>\n",
              "  </tbody>\n",
              "</table>\n"
            ]
          },
          "metadata": {},
          "execution_count": 16
        }
      ]
    },
    {
      "cell_type": "code",
      "source": [
        "runSelect(\"select firstname, lastname, jobdesc from empl where jobdesc != 'Clerk'\")"
      ],
      "metadata": {
        "id": "3cl0ISR9yG-I",
        "outputId": "3ed37ac4-b20c-4588-9cba-b4fe24eee4c9",
        "colab": {
          "base_uri": "https://localhost:8080/",
          "height": 363
        }
      },
      "execution_count": 17,
      "outputs": [
        {
          "output_type": "execute_result",
          "data": {
            "text/plain": [
              "<pandas.io.formats.style.Styler at 0x78a47127caf0>"
            ],
            "text/html": [
              "<style type=\"text/css\">\n",
              "</style>\n",
              "<table id=\"T_9d489\" class=\"dataframe\">\n",
              "  <thead>\n",
              "    <tr>\n",
              "      <th id=\"T_9d489_level0_col0\" class=\"col_heading level0 col0\" >firstname</th>\n",
              "      <th id=\"T_9d489_level0_col1\" class=\"col_heading level0 col1\" >lastname</th>\n",
              "      <th id=\"T_9d489_level0_col2\" class=\"col_heading level0 col2\" >jobdesc</th>\n",
              "    </tr>\n",
              "  </thead>\n",
              "  <tbody>\n",
              "    <tr>\n",
              "      <td id=\"T_9d489_row0_col0\" class=\"data row0 col0\" >Amitabh</td>\n",
              "      <td id=\"T_9d489_row0_col1\" class=\"data row0 col1\" >Bacchan</td>\n",
              "      <td id=\"T_9d489_row0_col2\" class=\"data row0 col2\" >Executive</td>\n",
              "    </tr>\n",
              "    <tr>\n",
              "      <td id=\"T_9d489_row1_col0\" class=\"data row1 col0\" >Rani</td>\n",
              "      <td id=\"T_9d489_row1_col1\" class=\"data row1 col1\" >Mukherjee</td>\n",
              "      <td id=\"T_9d489_row1_col2\" class=\"data row1 col2\" >Manager</td>\n",
              "    </tr>\n",
              "    <tr>\n",
              "      <td id=\"T_9d489_row2_col0\" class=\"data row2 col0\" >Shahrukh</td>\n",
              "      <td id=\"T_9d489_row2_col1\" class=\"data row2 col1\" >Khan</td>\n",
              "      <td id=\"T_9d489_row2_col2\" class=\"data row2 col2\" >Manager</td>\n",
              "    </tr>\n",
              "    <tr>\n",
              "      <td id=\"T_9d489_row3_col0\" class=\"data row3 col0\" >Virender</td>\n",
              "      <td id=\"T_9d489_row3_col1\" class=\"data row3 col1\" >Sehwag</td>\n",
              "      <td id=\"T_9d489_row3_col2\" class=\"data row3 col2\" >Cus_Rep</td>\n",
              "    </tr>\n",
              "    <tr>\n",
              "      <td id=\"T_9d489_row4_col0\" class=\"data row4 col0\" >Rahul</td>\n",
              "      <td id=\"T_9d489_row4_col1\" class=\"data row4 col1\" >Dravid</td>\n",
              "      <td id=\"T_9d489_row4_col2\" class=\"data row4 col2\" >Sr Manager</td>\n",
              "    </tr>\n",
              "    <tr>\n",
              "      <td id=\"T_9d489_row5_col0\" class=\"data row5 col0\" >Sourav</td>\n",
              "      <td id=\"T_9d489_row5_col1\" class=\"data row5 col1\" >Ganguly</td>\n",
              "      <td id=\"T_9d489_row5_col2\" class=\"data row5 col2\" >Cus_Rep</td>\n",
              "    </tr>\n",
              "    <tr>\n",
              "      <td id=\"T_9d489_row6_col0\" class=\"data row6 col0\" >Rekha</td>\n",
              "      <td id=\"T_9d489_row6_col1\" class=\"data row6 col1\" >Ganesan</td>\n",
              "      <td id=\"T_9d489_row6_col2\" class=\"data row6 col2\" >Director</td>\n",
              "    </tr>\n",
              "    <tr>\n",
              "      <td id=\"T_9d489_row7_col0\" class=\"data row7 col0\" >Narayan</td>\n",
              "      <td id=\"T_9d489_row7_col1\" class=\"data row7 col1\" >Karthikeyan</td>\n",
              "      <td id=\"T_9d489_row7_col2\" class=\"data row7 col2\" >Secretary</td>\n",
              "    </tr>\n",
              "    <tr>\n",
              "      <td id=\"T_9d489_row8_col0\" class=\"data row8 col0\" >Chettri</td>\n",
              "      <td id=\"T_9d489_row8_col1\" class=\"data row8 col1\" >Sunil</td>\n",
              "      <td id=\"T_9d489_row8_col2\" class=\"data row8 col2\" >Dy Manager</td>\n",
              "    </tr>\n",
              "    <tr>\n",
              "      <td id=\"T_9d489_row9_col0\" class=\"data row9 col0\" >Sania</td>\n",
              "      <td id=\"T_9d489_row9_col1\" class=\"data row9 col1\" >Mirza</td>\n",
              "      <td id=\"T_9d489_row9_col2\" class=\"data row9 col2\" >Cus_Rep</td>\n",
              "    </tr>\n",
              "  </tbody>\n",
              "</table>\n"
            ]
          },
          "metadata": {},
          "execution_count": 17
        }
      ]
    },
    {
      "cell_type": "code",
      "source": [
        "runSelect(\"select firstname, lastname, salary from empl where salary > 35000\")"
      ],
      "metadata": {
        "id": "obIPpNbDyT4S",
        "outputId": "317f95bd-60b8-42df-ac8f-e295d1ad40d4",
        "colab": {
          "base_uri": "https://localhost:8080/",
          "height": 206
        }
      },
      "execution_count": 18,
      "outputs": [
        {
          "output_type": "execute_result",
          "data": {
            "text/plain": [
              "<pandas.io.formats.style.Styler at 0x78a471247580>"
            ],
            "text/html": [
              "<style type=\"text/css\">\n",
              "</style>\n",
              "<table id=\"T_76229\" class=\"dataframe\">\n",
              "  <thead>\n",
              "    <tr>\n",
              "      <th id=\"T_76229_level0_col0\" class=\"col_heading level0 col0\" >firstname</th>\n",
              "      <th id=\"T_76229_level0_col1\" class=\"col_heading level0 col1\" >lastname</th>\n",
              "      <th id=\"T_76229_level0_col2\" class=\"col_heading level0 col2\" >salary</th>\n",
              "    </tr>\n",
              "  </thead>\n",
              "  <tbody>\n",
              "    <tr>\n",
              "      <td id=\"T_76229_row0_col0\" class=\"data row0 col0\" >Amitabh</td>\n",
              "      <td id=\"T_76229_row0_col1\" class=\"data row0 col1\" >Bacchan</td>\n",
              "      <td id=\"T_76229_row0_col2\" class=\"data row0 col2\" >50000</td>\n",
              "    </tr>\n",
              "    <tr>\n",
              "      <td id=\"T_76229_row1_col0\" class=\"data row1 col0\" >Rahul</td>\n",
              "      <td id=\"T_76229_row1_col1\" class=\"data row1 col1\" >Dravid</td>\n",
              "      <td id=\"T_76229_row1_col2\" class=\"data row1 col2\" >40000</td>\n",
              "    </tr>\n",
              "    <tr>\n",
              "      <td id=\"T_76229_row2_col0\" class=\"data row2 col0\" >Rekha</td>\n",
              "      <td id=\"T_76229_row2_col1\" class=\"data row2 col1\" >Ganesan</td>\n",
              "      <td id=\"T_76229_row2_col2\" class=\"data row2 col2\" >60000</td>\n",
              "    </tr>\n",
              "    <tr>\n",
              "      <td id=\"T_76229_row3_col0\" class=\"data row3 col0\" >Narayan</td>\n",
              "      <td id=\"T_76229_row3_col1\" class=\"data row3 col1\" >Karthikeyan</td>\n",
              "      <td id=\"T_76229_row3_col2\" class=\"data row3 col2\" >40000</td>\n",
              "    </tr>\n",
              "    <tr>\n",
              "      <td id=\"T_76229_row4_col0\" class=\"data row4 col0\" >Chettri</td>\n",
              "      <td id=\"T_76229_row4_col1\" class=\"data row4 col1\" >Sunil</td>\n",
              "      <td id=\"T_76229_row4_col2\" class=\"data row4 col2\" >40000</td>\n",
              "    </tr>\n",
              "  </tbody>\n",
              "</table>\n"
            ]
          },
          "metadata": {},
          "execution_count": 18
        }
      ]
    },
    {
      "cell_type": "code",
      "source": [
        "runSelect(\"select firstname, lastname, salary, joindate from empl where joindate < '2002-01-01'\")"
      ],
      "metadata": {
        "colab": {
          "base_uri": "https://localhost:8080/",
          "height": 143
        },
        "id": "hnIvgy_dMvQl",
        "outputId": "7bfe34db-74ef-491e-d1d9-3fcaab423a5c"
      },
      "execution_count": 19,
      "outputs": [
        {
          "output_type": "execute_result",
          "data": {
            "text/plain": [
              "<pandas.io.formats.style.Styler at 0x78a471247af0>"
            ],
            "text/html": [
              "<style type=\"text/css\">\n",
              "</style>\n",
              "<table id=\"T_7a96e\" class=\"dataframe\">\n",
              "  <thead>\n",
              "    <tr>\n",
              "      <th id=\"T_7a96e_level0_col0\" class=\"col_heading level0 col0\" >firstname</th>\n",
              "      <th id=\"T_7a96e_level0_col1\" class=\"col_heading level0 col1\" >lastname</th>\n",
              "      <th id=\"T_7a96e_level0_col2\" class=\"col_heading level0 col2\" >salary</th>\n",
              "      <th id=\"T_7a96e_level0_col3\" class=\"col_heading level0 col3\" >joindate</th>\n",
              "    </tr>\n",
              "  </thead>\n",
              "  <tbody>\n",
              "    <tr>\n",
              "      <td id=\"T_7a96e_row0_col0\" class=\"data row0 col0\" >Rahul</td>\n",
              "      <td id=\"T_7a96e_row0_col1\" class=\"data row0 col1\" >Dravid</td>\n",
              "      <td id=\"T_7a96e_row0_col2\" class=\"data row0 col2\" >40000</td>\n",
              "      <td id=\"T_7a96e_row0_col3\" class=\"data row0 col3\" >2000-06-04</td>\n",
              "    </tr>\n",
              "    <tr>\n",
              "      <td id=\"T_7a96e_row1_col0\" class=\"data row1 col0\" >Jagmohan</td>\n",
              "      <td id=\"T_7a96e_row1_col1\" class=\"data row1 col1\" >Dalmia</td>\n",
              "      <td id=\"T_7a96e_row1_col2\" class=\"data row1 col2\" >12000</td>\n",
              "      <td id=\"T_7a96e_row1_col3\" class=\"data row1 col3\" >2001-07-01</td>\n",
              "    </tr>\n",
              "    <tr>\n",
              "      <td id=\"T_7a96e_row2_col0\" class=\"data row2 col0\" >Sania</td>\n",
              "      <td id=\"T_7a96e_row2_col1\" class=\"data row2 col1\" >Mirza</td>\n",
              "      <td id=\"T_7a96e_row2_col2\" class=\"data row2 col2\" >25000</td>\n",
              "      <td id=\"T_7a96e_row2_col3\" class=\"data row2 col3\" >2001-11-19</td>\n",
              "    </tr>\n",
              "  </tbody>\n",
              "</table>\n"
            ]
          },
          "metadata": {},
          "execution_count": 19
        }
      ]
    },
    {
      "cell_type": "markdown",
      "source": [
        "## Like"
      ],
      "metadata": {
        "id": "77DkYhfhU1lJ"
      }
    },
    {
      "cell_type": "code",
      "source": [
        "runSelect(\"select firstname, lastname, salary from empl where lastname like 'D%'\")"
      ],
      "metadata": {
        "colab": {
          "base_uri": "https://localhost:8080/",
          "height": 175
        },
        "id": "PBsdla2eVv1K",
        "outputId": "510284ac-24f0-40ce-cf19-c2a0f18494a0"
      },
      "execution_count": 20,
      "outputs": [
        {
          "output_type": "execute_result",
          "data": {
            "text/plain": [
              "<pandas.io.formats.style.Styler at 0x78a47127e050>"
            ],
            "text/html": [
              "<style type=\"text/css\">\n",
              "</style>\n",
              "<table id=\"T_68e49\" class=\"dataframe\">\n",
              "  <thead>\n",
              "    <tr>\n",
              "      <th id=\"T_68e49_level0_col0\" class=\"col_heading level0 col0\" >firstname</th>\n",
              "      <th id=\"T_68e49_level0_col1\" class=\"col_heading level0 col1\" >lastname</th>\n",
              "      <th id=\"T_68e49_level0_col2\" class=\"col_heading level0 col2\" >salary</th>\n",
              "    </tr>\n",
              "  </thead>\n",
              "  <tbody>\n",
              "    <tr>\n",
              "      <td id=\"T_68e49_row0_col0\" class=\"data row0 col0\" >Madhuri</td>\n",
              "      <td id=\"T_68e49_row0_col1\" class=\"data row0 col1\" >Dikshit</td>\n",
              "      <td id=\"T_68e49_row0_col2\" class=\"data row0 col2\" >10000</td>\n",
              "    </tr>\n",
              "    <tr>\n",
              "      <td id=\"T_68e49_row1_col0\" class=\"data row1 col0\" >Mahender</td>\n",
              "      <td id=\"T_68e49_row1_col1\" class=\"data row1 col1\" >Dhoni</td>\n",
              "      <td id=\"T_68e49_row1_col2\" class=\"data row1 col2\" >9000</td>\n",
              "    </tr>\n",
              "    <tr>\n",
              "      <td id=\"T_68e49_row2_col0\" class=\"data row2 col0\" >Rahul</td>\n",
              "      <td id=\"T_68e49_row2_col1\" class=\"data row2 col1\" >Dravid</td>\n",
              "      <td id=\"T_68e49_row2_col2\" class=\"data row2 col2\" >40000</td>\n",
              "    </tr>\n",
              "    <tr>\n",
              "      <td id=\"T_68e49_row3_col0\" class=\"data row3 col0\" >Jagmohan</td>\n",
              "      <td id=\"T_68e49_row3_col1\" class=\"data row3 col1\" >Dalmia</td>\n",
              "      <td id=\"T_68e49_row3_col2\" class=\"data row3 col2\" >12000</td>\n",
              "    </tr>\n",
              "  </tbody>\n",
              "</table>\n"
            ]
          },
          "metadata": {},
          "execution_count": 20
        }
      ]
    },
    {
      "cell_type": "code",
      "source": [
        "runSelect(\"select firstname, lastname, joindate from empl where lastname like '____i_'\")"
      ],
      "metadata": {
        "colab": {
          "base_uri": "https://localhost:8080/",
          "height": 112
        },
        "id": "xxImEDlKbm4U",
        "outputId": "f2059083-4119-4138-96ff-0c072f19362a"
      },
      "execution_count": 21,
      "outputs": [
        {
          "output_type": "execute_result",
          "data": {
            "text/plain": [
              "<pandas.io.formats.style.Styler at 0x78a47127d630>"
            ],
            "text/html": [
              "<style type=\"text/css\">\n",
              "</style>\n",
              "<table id=\"T_92fd3\" class=\"dataframe\">\n",
              "  <thead>\n",
              "    <tr>\n",
              "      <th id=\"T_92fd3_level0_col0\" class=\"col_heading level0 col0\" >firstname</th>\n",
              "      <th id=\"T_92fd3_level0_col1\" class=\"col_heading level0 col1\" >lastname</th>\n",
              "      <th id=\"T_92fd3_level0_col2\" class=\"col_heading level0 col2\" >joindate</th>\n",
              "    </tr>\n",
              "  </thead>\n",
              "  <tbody>\n",
              "    <tr>\n",
              "      <td id=\"T_92fd3_row0_col0\" class=\"data row0 col0\" >Rahul</td>\n",
              "      <td id=\"T_92fd3_row0_col1\" class=\"data row0 col1\" >Dravid</td>\n",
              "      <td id=\"T_92fd3_row0_col2\" class=\"data row0 col2\" >2000-06-04</td>\n",
              "    </tr>\n",
              "    <tr>\n",
              "      <td id=\"T_92fd3_row1_col0\" class=\"data row1 col0\" >Jagmohan</td>\n",
              "      <td id=\"T_92fd3_row1_col1\" class=\"data row1 col1\" >Dalmia</td>\n",
              "      <td id=\"T_92fd3_row1_col2\" class=\"data row1 col2\" >2001-07-01</td>\n",
              "    </tr>\n",
              "  </tbody>\n",
              "</table>\n"
            ]
          },
          "metadata": {},
          "execution_count": 21
        }
      ]
    },
    {
      "cell_type": "code",
      "source": [
        "runSelect(\"select firstname, lastname, jobdesc from empl where lastname like '____i%'\")"
      ],
      "metadata": {
        "colab": {
          "base_uri": "https://localhost:8080/",
          "height": 143
        },
        "id": "pL7VPLo4b2g3",
        "outputId": "59055be1-59b1-43ff-91e1-29e851fc25a9"
      },
      "execution_count": 22,
      "outputs": [
        {
          "output_type": "execute_result",
          "data": {
            "text/plain": [
              "<pandas.io.formats.style.Styler at 0x78a47127f8e0>"
            ],
            "text/html": [
              "<style type=\"text/css\">\n",
              "</style>\n",
              "<table id=\"T_c5970\" class=\"dataframe\">\n",
              "  <thead>\n",
              "    <tr>\n",
              "      <th id=\"T_c5970_level0_col0\" class=\"col_heading level0 col0\" >firstname</th>\n",
              "      <th id=\"T_c5970_level0_col1\" class=\"col_heading level0 col1\" >lastname</th>\n",
              "      <th id=\"T_c5970_level0_col2\" class=\"col_heading level0 col2\" >jobdesc</th>\n",
              "    </tr>\n",
              "  </thead>\n",
              "  <tbody>\n",
              "    <tr>\n",
              "      <td id=\"T_c5970_row0_col0\" class=\"data row0 col0\" >Mahender</td>\n",
              "      <td id=\"T_c5970_row0_col1\" class=\"data row0 col1\" >Dhoni</td>\n",
              "      <td id=\"T_c5970_row0_col2\" class=\"data row0 col2\" >Clerk</td>\n",
              "    </tr>\n",
              "    <tr>\n",
              "      <td id=\"T_c5970_row1_col0\" class=\"data row1 col0\" >Rahul</td>\n",
              "      <td id=\"T_c5970_row1_col1\" class=\"data row1 col1\" >Dravid</td>\n",
              "      <td id=\"T_c5970_row1_col2\" class=\"data row1 col2\" >Sr Manager</td>\n",
              "    </tr>\n",
              "    <tr>\n",
              "      <td id=\"T_c5970_row2_col0\" class=\"data row2 col0\" >Jagmohan</td>\n",
              "      <td id=\"T_c5970_row2_col1\" class=\"data row2 col1\" >Dalmia</td>\n",
              "      <td id=\"T_c5970_row2_col2\" class=\"data row2 col2\" >Clerk</td>\n",
              "    </tr>\n",
              "  </tbody>\n",
              "</table>\n"
            ]
          },
          "metadata": {},
          "execution_count": 22
        }
      ]
    },
    {
      "cell_type": "markdown",
      "source": [
        "## Between"
      ],
      "metadata": {
        "id": "qw2h8Vtvey2R"
      }
    },
    {
      "cell_type": "code",
      "source": [
        "runSelect(\"select firstname, lastname, salary from empl where salary between 10000 and 20000\")"
      ],
      "metadata": {
        "colab": {
          "base_uri": "https://localhost:8080/",
          "height": 175
        },
        "id": "sI_qlRdXe7S8",
        "outputId": "b0dd3fa6-0bfa-4fce-d364-4ec22d195818"
      },
      "execution_count": 23,
      "outputs": [
        {
          "output_type": "execute_result",
          "data": {
            "text/plain": [
              "<pandas.io.formats.style.Styler at 0x78a471247d30>"
            ],
            "text/html": [
              "<style type=\"text/css\">\n",
              "</style>\n",
              "<table id=\"T_eca2b\" class=\"dataframe\">\n",
              "  <thead>\n",
              "    <tr>\n",
              "      <th id=\"T_eca2b_level0_col0\" class=\"col_heading level0 col0\" >firstname</th>\n",
              "      <th id=\"T_eca2b_level0_col1\" class=\"col_heading level0 col1\" >lastname</th>\n",
              "      <th id=\"T_eca2b_level0_col2\" class=\"col_heading level0 col2\" >salary</th>\n",
              "    </tr>\n",
              "  </thead>\n",
              "  <tbody>\n",
              "    <tr>\n",
              "      <td id=\"T_eca2b_row0_col0\" class=\"data row0 col0\" >Madhuri</td>\n",
              "      <td id=\"T_eca2b_row0_col1\" class=\"data row0 col1\" >Dikshit</td>\n",
              "      <td id=\"T_eca2b_row0_col2\" class=\"data row0 col2\" >10000</td>\n",
              "    </tr>\n",
              "    <tr>\n",
              "      <td id=\"T_eca2b_row1_col0\" class=\"data row1 col0\" >Virender</td>\n",
              "      <td id=\"T_eca2b_row1_col1\" class=\"data row1 col1\" >Sehwag</td>\n",
              "      <td id=\"T_eca2b_row1_col2\" class=\"data row1 col2\" >15000</td>\n",
              "    </tr>\n",
              "    <tr>\n",
              "      <td id=\"T_eca2b_row2_col0\" class=\"data row2 col0\" >Jagmohan</td>\n",
              "      <td id=\"T_eca2b_row2_col1\" class=\"data row2 col1\" >Dalmia</td>\n",
              "      <td id=\"T_eca2b_row2_col2\" class=\"data row2 col2\" >12000</td>\n",
              "    </tr>\n",
              "    <tr>\n",
              "      <td id=\"T_eca2b_row3_col0\" class=\"data row3 col0\" >Sourav</td>\n",
              "      <td id=\"T_eca2b_row3_col1\" class=\"data row3 col1\" >Ganguly</td>\n",
              "      <td id=\"T_eca2b_row3_col2\" class=\"data row3 col2\" >20000</td>\n",
              "    </tr>\n",
              "  </tbody>\n",
              "</table>\n"
            ]
          },
          "metadata": {},
          "execution_count": 23
        }
      ]
    },
    {
      "cell_type": "code",
      "source": [
        "runSelect(\"select firstname, lastname, joindate from empl where joindate between '2004-01-01' and '2005-01-01'\")"
      ],
      "metadata": {
        "colab": {
          "base_uri": "https://localhost:8080/",
          "height": 112
        },
        "id": "b_mWyFTnfIEy",
        "outputId": "c6fe851a-3d3c-43d1-ed87-181bbbbd6fe9"
      },
      "execution_count": 24,
      "outputs": [
        {
          "output_type": "execute_result",
          "data": {
            "text/plain": [
              "<pandas.io.formats.style.Styler at 0x78a4712f6350>"
            ],
            "text/html": [
              "<style type=\"text/css\">\n",
              "</style>\n",
              "<table id=\"T_c8e67\" class=\"dataframe\">\n",
              "  <thead>\n",
              "    <tr>\n",
              "      <th id=\"T_c8e67_level0_col0\" class=\"col_heading level0 col0\" >firstname</th>\n",
              "      <th id=\"T_c8e67_level0_col1\" class=\"col_heading level0 col1\" >lastname</th>\n",
              "      <th id=\"T_c8e67_level0_col2\" class=\"col_heading level0 col2\" >joindate</th>\n",
              "    </tr>\n",
              "  </thead>\n",
              "  <tbody>\n",
              "    <tr>\n",
              "      <td id=\"T_c8e67_row0_col0\" class=\"data row0 col0\" >Shahrukh</td>\n",
              "      <td id=\"T_c8e67_row0_col1\" class=\"data row0 col1\" >Khan</td>\n",
              "      <td id=\"T_c8e67_row0_col2\" class=\"data row0 col2\" >2004-01-03</td>\n",
              "    </tr>\n",
              "    <tr>\n",
              "      <td id=\"T_c8e67_row1_col0\" class=\"data row1 col0\" >Mahender</td>\n",
              "      <td id=\"T_c8e67_row1_col1\" class=\"data row1 col1\" >Dhoni</td>\n",
              "      <td id=\"T_c8e67_row1_col2\" class=\"data row1 col2\" >2004-10-09</td>\n",
              "    </tr>\n",
              "  </tbody>\n",
              "</table>\n"
            ]
          },
          "metadata": {},
          "execution_count": 24
        }
      ]
    },
    {
      "cell_type": "code",
      "source": [
        "runSelect(\"select firstname, lastname, joindate from empl where lastname between 'Dho' and 'Kha'\")"
      ],
      "metadata": {
        "colab": {
          "base_uri": "https://localhost:8080/",
          "height": 238
        },
        "id": "qXs9AeS2fwCS",
        "outputId": "51b0443c-cd5c-402d-9c19-5c27816e5360"
      },
      "execution_count": 25,
      "outputs": [
        {
          "output_type": "execute_result",
          "data": {
            "text/plain": [
              "<pandas.io.formats.style.Styler at 0x78a47127fcd0>"
            ],
            "text/html": [
              "<style type=\"text/css\">\n",
              "</style>\n",
              "<table id=\"T_f19f2\" class=\"dataframe\">\n",
              "  <thead>\n",
              "    <tr>\n",
              "      <th id=\"T_f19f2_level0_col0\" class=\"col_heading level0 col0\" >firstname</th>\n",
              "      <th id=\"T_f19f2_level0_col1\" class=\"col_heading level0 col1\" >lastname</th>\n",
              "      <th id=\"T_f19f2_level0_col2\" class=\"col_heading level0 col2\" >joindate</th>\n",
              "    </tr>\n",
              "  </thead>\n",
              "  <tbody>\n",
              "    <tr>\n",
              "      <td id=\"T_f19f2_row0_col0\" class=\"data row0 col0\" >Madhuri</td>\n",
              "      <td id=\"T_f19f2_row0_col1\" class=\"data row0 col1\" >Dikshit</td>\n",
              "      <td id=\"T_f19f2_row0_col2\" class=\"data row0 col2\" >2002-04-04</td>\n",
              "    </tr>\n",
              "    <tr>\n",
              "      <td id=\"T_f19f2_row1_col0\" class=\"data row1 col0\" >Mahender</td>\n",
              "      <td id=\"T_f19f2_row1_col1\" class=\"data row1 col1\" >Dhoni</td>\n",
              "      <td id=\"T_f19f2_row1_col2\" class=\"data row1 col2\" >2004-10-09</td>\n",
              "    </tr>\n",
              "    <tr>\n",
              "      <td id=\"T_f19f2_row2_col0\" class=\"data row2 col0\" >Rahul</td>\n",
              "      <td id=\"T_f19f2_row2_col1\" class=\"data row2 col1\" >Dravid</td>\n",
              "      <td id=\"T_f19f2_row2_col2\" class=\"data row2 col2\" >2000-06-04</td>\n",
              "    </tr>\n",
              "    <tr>\n",
              "      <td id=\"T_f19f2_row3_col0\" class=\"data row3 col0\" >Sourav</td>\n",
              "      <td id=\"T_f19f2_row3_col1\" class=\"data row3 col1\" >Ganguly</td>\n",
              "      <td id=\"T_f19f2_row3_col2\" class=\"data row3 col2\" >2002-01-01</td>\n",
              "    </tr>\n",
              "    <tr>\n",
              "      <td id=\"T_f19f2_row4_col0\" class=\"data row4 col0\" >Rekha</td>\n",
              "      <td id=\"T_f19f2_row4_col1\" class=\"data row4 col1\" >Ganesan</td>\n",
              "      <td id=\"T_f19f2_row4_col2\" class=\"data row4 col2\" >2002-10-10</td>\n",
              "    </tr>\n",
              "    <tr>\n",
              "      <td id=\"T_f19f2_row5_col0\" class=\"data row5 col0\" >Narayan</td>\n",
              "      <td id=\"T_f19f2_row5_col1\" class=\"data row5 col1\" >Karthikeyan</td>\n",
              "      <td id=\"T_f19f2_row5_col2\" class=\"data row5 col2\" >2005-12-04</td>\n",
              "    </tr>\n",
              "  </tbody>\n",
              "</table>\n"
            ]
          },
          "metadata": {},
          "execution_count": 25
        }
      ]
    },
    {
      "cell_type": "markdown",
      "source": [
        "## IN"
      ],
      "metadata": {
        "id": "azhy0TQLiLy-"
      }
    },
    {
      "cell_type": "code",
      "source": [
        "runSelect(\"select firstname, lastname, deptid from empl where deptid in ('30','20','70')\")"
      ],
      "metadata": {
        "colab": {
          "base_uri": "https://localhost:8080/",
          "height": 269
        },
        "id": "UyBE-FuoibSZ",
        "outputId": "1dc709b0-0302-4ab9-9641-ec18ce2c9a09"
      },
      "execution_count": 26,
      "outputs": [
        {
          "output_type": "execute_result",
          "data": {
            "text/plain": [
              "<pandas.io.formats.style.Styler at 0x78a47127fe20>"
            ],
            "text/html": [
              "<style type=\"text/css\">\n",
              "</style>\n",
              "<table id=\"T_1f011\" class=\"dataframe\">\n",
              "  <thead>\n",
              "    <tr>\n",
              "      <th id=\"T_1f011_level0_col0\" class=\"col_heading level0 col0\" >firstname</th>\n",
              "      <th id=\"T_1f011_level0_col1\" class=\"col_heading level0 col1\" >lastname</th>\n",
              "      <th id=\"T_1f011_level0_col2\" class=\"col_heading level0 col2\" >deptid</th>\n",
              "    </tr>\n",
              "  </thead>\n",
              "  <tbody>\n",
              "    <tr>\n",
              "      <td id=\"T_1f011_row0_col0\" class=\"data row0 col0\" >Madhuri</td>\n",
              "      <td id=\"T_1f011_row0_col1\" class=\"data row0 col1\" >Dikshit</td>\n",
              "      <td id=\"T_1f011_row0_col2\" class=\"data row0 col2\" >20</td>\n",
              "    </tr>\n",
              "    <tr>\n",
              "      <td id=\"T_1f011_row1_col0\" class=\"data row1 col0\" >Shahrukh</td>\n",
              "      <td id=\"T_1f011_row1_col1\" class=\"data row1 col1\" >Khan</td>\n",
              "      <td id=\"T_1f011_row1_col2\" class=\"data row1 col2\" >20</td>\n",
              "    </tr>\n",
              "    <tr>\n",
              "      <td id=\"T_1f011_row2_col0\" class=\"data row2 col0\" >Virender</td>\n",
              "      <td id=\"T_1f011_row2_col1\" class=\"data row2 col1\" >Sehwag</td>\n",
              "      <td id=\"T_1f011_row2_col2\" class=\"data row2 col2\" >20</td>\n",
              "    </tr>\n",
              "    <tr>\n",
              "      <td id=\"T_1f011_row3_col0\" class=\"data row3 col0\" >Rahul</td>\n",
              "      <td id=\"T_1f011_row3_col1\" class=\"data row3 col1\" >Dravid</td>\n",
              "      <td id=\"T_1f011_row3_col2\" class=\"data row3 col2\" >30</td>\n",
              "    </tr>\n",
              "    <tr>\n",
              "      <td id=\"T_1f011_row4_col0\" class=\"data row4 col0\" >Jagmohan</td>\n",
              "      <td id=\"T_1f011_row4_col1\" class=\"data row4 col1\" >Dalmia</td>\n",
              "      <td id=\"T_1f011_row4_col2\" class=\"data row4 col2\" >30</td>\n",
              "    </tr>\n",
              "    <tr>\n",
              "      <td id=\"T_1f011_row5_col0\" class=\"data row5 col0\" >Chettri</td>\n",
              "      <td id=\"T_1f011_row5_col1\" class=\"data row5 col1\" >Sunil</td>\n",
              "      <td id=\"T_1f011_row5_col2\" class=\"data row5 col2\" >70</td>\n",
              "    </tr>\n",
              "    <tr>\n",
              "      <td id=\"T_1f011_row6_col0\" class=\"data row6 col0\" >Sania</td>\n",
              "      <td id=\"T_1f011_row6_col1\" class=\"data row6 col1\" >Mirza</td>\n",
              "      <td id=\"T_1f011_row6_col2\" class=\"data row6 col2\" >30</td>\n",
              "    </tr>\n",
              "  </tbody>\n",
              "</table>\n"
            ]
          },
          "metadata": {},
          "execution_count": 26
        }
      ]
    },
    {
      "cell_type": "code",
      "source": [
        "runSelect(\"select firstname, lastname, salary from empl where firstname in ('Madhuri','Shahrukh','Virender')\")"
      ],
      "metadata": {
        "colab": {
          "base_uri": "https://localhost:8080/",
          "height": 143
        },
        "id": "9qTEO-OuiN3A",
        "outputId": "86556e45-37f8-44ba-9b4b-897bcb1e80dd"
      },
      "execution_count": 27,
      "outputs": [
        {
          "output_type": "execute_result",
          "data": {
            "text/plain": [
              "<pandas.io.formats.style.Styler at 0x78a497b54550>"
            ],
            "text/html": [
              "<style type=\"text/css\">\n",
              "</style>\n",
              "<table id=\"T_cd908\" class=\"dataframe\">\n",
              "  <thead>\n",
              "    <tr>\n",
              "      <th id=\"T_cd908_level0_col0\" class=\"col_heading level0 col0\" >firstname</th>\n",
              "      <th id=\"T_cd908_level0_col1\" class=\"col_heading level0 col1\" >lastname</th>\n",
              "      <th id=\"T_cd908_level0_col2\" class=\"col_heading level0 col2\" >salary</th>\n",
              "    </tr>\n",
              "  </thead>\n",
              "  <tbody>\n",
              "    <tr>\n",
              "      <td id=\"T_cd908_row0_col0\" class=\"data row0 col0\" >Madhuri</td>\n",
              "      <td id=\"T_cd908_row0_col1\" class=\"data row0 col1\" >Dikshit</td>\n",
              "      <td id=\"T_cd908_row0_col2\" class=\"data row0 col2\" >10000</td>\n",
              "    </tr>\n",
              "    <tr>\n",
              "      <td id=\"T_cd908_row1_col0\" class=\"data row1 col0\" >Shahrukh</td>\n",
              "      <td id=\"T_cd908_row1_col1\" class=\"data row1 col1\" >Khan</td>\n",
              "      <td id=\"T_cd908_row1_col2\" class=\"data row1 col2\" >30000</td>\n",
              "    </tr>\n",
              "    <tr>\n",
              "      <td id=\"T_cd908_row2_col0\" class=\"data row2 col0\" >Virender</td>\n",
              "      <td id=\"T_cd908_row2_col1\" class=\"data row2 col1\" >Sehwag</td>\n",
              "      <td id=\"T_cd908_row2_col2\" class=\"data row2 col2\" >15000</td>\n",
              "    </tr>\n",
              "  </tbody>\n",
              "</table>\n"
            ]
          },
          "metadata": {},
          "execution_count": 27
        }
      ]
    },
    {
      "cell_type": "markdown",
      "source": [
        "## Order by"
      ],
      "metadata": {
        "id": "vlOCT_zAkzMb"
      }
    },
    {
      "cell_type": "code",
      "source": [
        "runSelect(\"select firstname, lastname, joindate from empl where firstname in ('Madhuri','Shahrukh','Virender') order by joindate\")"
      ],
      "metadata": {
        "colab": {
          "base_uri": "https://localhost:8080/",
          "height": 143
        },
        "id": "WidoGzLVk1in",
        "outputId": "1f9e3366-f49b-465b-e70a-04b38c1126df"
      },
      "execution_count": 28,
      "outputs": [
        {
          "output_type": "execute_result",
          "data": {
            "text/plain": [
              "<pandas.io.formats.style.Styler at 0x78a47127fa30>"
            ],
            "text/html": [
              "<style type=\"text/css\">\n",
              "</style>\n",
              "<table id=\"T_5ff28\" class=\"dataframe\">\n",
              "  <thead>\n",
              "    <tr>\n",
              "      <th id=\"T_5ff28_level0_col0\" class=\"col_heading level0 col0\" >firstname</th>\n",
              "      <th id=\"T_5ff28_level0_col1\" class=\"col_heading level0 col1\" >lastname</th>\n",
              "      <th id=\"T_5ff28_level0_col2\" class=\"col_heading level0 col2\" >joindate</th>\n",
              "    </tr>\n",
              "  </thead>\n",
              "  <tbody>\n",
              "    <tr>\n",
              "      <td id=\"T_5ff28_row0_col0\" class=\"data row0 col0\" >Madhuri</td>\n",
              "      <td id=\"T_5ff28_row0_col1\" class=\"data row0 col1\" >Dikshit</td>\n",
              "      <td id=\"T_5ff28_row0_col2\" class=\"data row0 col2\" >2002-04-04</td>\n",
              "    </tr>\n",
              "    <tr>\n",
              "      <td id=\"T_5ff28_row1_col0\" class=\"data row1 col0\" >Shahrukh</td>\n",
              "      <td id=\"T_5ff28_row1_col1\" class=\"data row1 col1\" >Khan</td>\n",
              "      <td id=\"T_5ff28_row1_col2\" class=\"data row1 col2\" >2004-01-03</td>\n",
              "    </tr>\n",
              "    <tr>\n",
              "      <td id=\"T_5ff28_row2_col0\" class=\"data row2 col0\" >Virender</td>\n",
              "      <td id=\"T_5ff28_row2_col1\" class=\"data row2 col1\" >Sehwag</td>\n",
              "      <td id=\"T_5ff28_row2_col2\" class=\"data row2 col2\" >2005-01-02</td>\n",
              "    </tr>\n",
              "  </tbody>\n",
              "</table>\n"
            ]
          },
          "metadata": {},
          "execution_count": 28
        }
      ]
    },
    {
      "cell_type": "code",
      "source": [
        "runSelect(\"select firstname, lastname, jobdesc, salary, deptid from empl where deptid = '10' order by salary desc\")"
      ],
      "metadata": {
        "colab": {
          "base_uri": "https://localhost:8080/",
          "height": 143
        },
        "id": "Iq_7jWr-lRlO",
        "outputId": "b3c39a2b-b83d-4ec2-83d9-129d1e5fc9aa"
      },
      "execution_count": 29,
      "outputs": [
        {
          "output_type": "execute_result",
          "data": {
            "text/plain": [
              "<pandas.io.formats.style.Styler at 0x78a47127c1c0>"
            ],
            "text/html": [
              "<style type=\"text/css\">\n",
              "</style>\n",
              "<table id=\"T_8a7fc\" class=\"dataframe\">\n",
              "  <thead>\n",
              "    <tr>\n",
              "      <th id=\"T_8a7fc_level0_col0\" class=\"col_heading level0 col0\" >firstname</th>\n",
              "      <th id=\"T_8a7fc_level0_col1\" class=\"col_heading level0 col1\" >lastname</th>\n",
              "      <th id=\"T_8a7fc_level0_col2\" class=\"col_heading level0 col2\" >jobdesc</th>\n",
              "      <th id=\"T_8a7fc_level0_col3\" class=\"col_heading level0 col3\" >salary</th>\n",
              "      <th id=\"T_8a7fc_level0_col4\" class=\"col_heading level0 col4\" >deptid</th>\n",
              "    </tr>\n",
              "  </thead>\n",
              "  <tbody>\n",
              "    <tr>\n",
              "      <td id=\"T_8a7fc_row0_col0\" class=\"data row0 col0\" >Rekha</td>\n",
              "      <td id=\"T_8a7fc_row0_col1\" class=\"data row0 col1\" >Ganesan</td>\n",
              "      <td id=\"T_8a7fc_row0_col2\" class=\"data row0 col2\" >Director</td>\n",
              "      <td id=\"T_8a7fc_row0_col3\" class=\"data row0 col3\" >60000</td>\n",
              "      <td id=\"T_8a7fc_row0_col4\" class=\"data row0 col4\" >10</td>\n",
              "    </tr>\n",
              "    <tr>\n",
              "      <td id=\"T_8a7fc_row1_col0\" class=\"data row1 col0\" >Amitabh</td>\n",
              "      <td id=\"T_8a7fc_row1_col1\" class=\"data row1 col1\" >Bacchan</td>\n",
              "      <td id=\"T_8a7fc_row1_col2\" class=\"data row1 col2\" >Executive</td>\n",
              "      <td id=\"T_8a7fc_row1_col3\" class=\"data row1 col3\" >50000</td>\n",
              "      <td id=\"T_8a7fc_row1_col4\" class=\"data row1 col4\" >10</td>\n",
              "    </tr>\n",
              "    <tr>\n",
              "      <td id=\"T_8a7fc_row2_col0\" class=\"data row2 col0\" >Narayan</td>\n",
              "      <td id=\"T_8a7fc_row2_col1\" class=\"data row2 col1\" >Karthikeyan</td>\n",
              "      <td id=\"T_8a7fc_row2_col2\" class=\"data row2 col2\" >Secretary</td>\n",
              "      <td id=\"T_8a7fc_row2_col3\" class=\"data row2 col3\" >40000</td>\n",
              "      <td id=\"T_8a7fc_row2_col4\" class=\"data row2 col4\" >10</td>\n",
              "    </tr>\n",
              "  </tbody>\n",
              "</table>\n"
            ]
          },
          "metadata": {},
          "execution_count": 29
        }
      ]
    },
    {
      "cell_type": "markdown",
      "source": [
        "## Logical AND | OR"
      ],
      "metadata": {
        "id": "-JDEmZtsm0o1"
      }
    },
    {
      "cell_type": "code",
      "source": [
        "runSelect(\"select lastname, jobdesc, salary, deptid from empl where deptid = '20'\")"
      ],
      "metadata": {
        "colab": {
          "base_uri": "https://localhost:8080/",
          "height": 143
        },
        "id": "rli0DBhIm54M",
        "outputId": "d048504c-7e0f-4c6e-faad-28bf3c5ab35b"
      },
      "execution_count": 30,
      "outputs": [
        {
          "output_type": "execute_result",
          "data": {
            "text/plain": [
              "<pandas.io.formats.style.Styler at 0x78a47109e890>"
            ],
            "text/html": [
              "<style type=\"text/css\">\n",
              "</style>\n",
              "<table id=\"T_c5f56\" class=\"dataframe\">\n",
              "  <thead>\n",
              "    <tr>\n",
              "      <th id=\"T_c5f56_level0_col0\" class=\"col_heading level0 col0\" >lastname</th>\n",
              "      <th id=\"T_c5f56_level0_col1\" class=\"col_heading level0 col1\" >jobdesc</th>\n",
              "      <th id=\"T_c5f56_level0_col2\" class=\"col_heading level0 col2\" >salary</th>\n",
              "      <th id=\"T_c5f56_level0_col3\" class=\"col_heading level0 col3\" >deptid</th>\n",
              "    </tr>\n",
              "  </thead>\n",
              "  <tbody>\n",
              "    <tr>\n",
              "      <td id=\"T_c5f56_row0_col0\" class=\"data row0 col0\" >Dikshit</td>\n",
              "      <td id=\"T_c5f56_row0_col1\" class=\"data row0 col1\" >Clerk</td>\n",
              "      <td id=\"T_c5f56_row0_col2\" class=\"data row0 col2\" >10000</td>\n",
              "      <td id=\"T_c5f56_row0_col3\" class=\"data row0 col3\" >20</td>\n",
              "    </tr>\n",
              "    <tr>\n",
              "      <td id=\"T_c5f56_row1_col0\" class=\"data row1 col0\" >Khan</td>\n",
              "      <td id=\"T_c5f56_row1_col1\" class=\"data row1 col1\" >Manager</td>\n",
              "      <td id=\"T_c5f56_row1_col2\" class=\"data row1 col2\" >30000</td>\n",
              "      <td id=\"T_c5f56_row1_col3\" class=\"data row1 col3\" >20</td>\n",
              "    </tr>\n",
              "    <tr>\n",
              "      <td id=\"T_c5f56_row2_col0\" class=\"data row2 col0\" >Sehwag</td>\n",
              "      <td id=\"T_c5f56_row2_col1\" class=\"data row2 col1\" >Cus_Rep</td>\n",
              "      <td id=\"T_c5f56_row2_col2\" class=\"data row2 col2\" >15000</td>\n",
              "      <td id=\"T_c5f56_row2_col3\" class=\"data row2 col3\" >20</td>\n",
              "    </tr>\n",
              "  </tbody>\n",
              "</table>\n"
            ]
          },
          "metadata": {},
          "execution_count": 30
        }
      ]
    },
    {
      "cell_type": "code",
      "source": [
        "runSelect(\"select lastname, jobdesc, salary, deptid from empl where deptid = '20' and salary > 10000\")"
      ],
      "metadata": {
        "colab": {
          "base_uri": "https://localhost:8080/",
          "height": 112
        },
        "id": "wHIJoUGqnuwa",
        "outputId": "781ce972-9149-4337-b16e-e1e5dfa03f45"
      },
      "execution_count": 31,
      "outputs": [
        {
          "output_type": "execute_result",
          "data": {
            "text/plain": [
              "<pandas.io.formats.style.Styler at 0x78a47127de40>"
            ],
            "text/html": [
              "<style type=\"text/css\">\n",
              "</style>\n",
              "<table id=\"T_b0041\" class=\"dataframe\">\n",
              "  <thead>\n",
              "    <tr>\n",
              "      <th id=\"T_b0041_level0_col0\" class=\"col_heading level0 col0\" >lastname</th>\n",
              "      <th id=\"T_b0041_level0_col1\" class=\"col_heading level0 col1\" >jobdesc</th>\n",
              "      <th id=\"T_b0041_level0_col2\" class=\"col_heading level0 col2\" >salary</th>\n",
              "      <th id=\"T_b0041_level0_col3\" class=\"col_heading level0 col3\" >deptid</th>\n",
              "    </tr>\n",
              "  </thead>\n",
              "  <tbody>\n",
              "    <tr>\n",
              "      <td id=\"T_b0041_row0_col0\" class=\"data row0 col0\" >Khan</td>\n",
              "      <td id=\"T_b0041_row0_col1\" class=\"data row0 col1\" >Manager</td>\n",
              "      <td id=\"T_b0041_row0_col2\" class=\"data row0 col2\" >30000</td>\n",
              "      <td id=\"T_b0041_row0_col3\" class=\"data row0 col3\" >20</td>\n",
              "    </tr>\n",
              "    <tr>\n",
              "      <td id=\"T_b0041_row1_col0\" class=\"data row1 col0\" >Sehwag</td>\n",
              "      <td id=\"T_b0041_row1_col1\" class=\"data row1 col1\" >Cus_Rep</td>\n",
              "      <td id=\"T_b0041_row1_col2\" class=\"data row1 col2\" >15000</td>\n",
              "      <td id=\"T_b0041_row1_col3\" class=\"data row1 col3\" >20</td>\n",
              "    </tr>\n",
              "  </tbody>\n",
              "</table>\n"
            ]
          },
          "metadata": {},
          "execution_count": 31
        }
      ]
    },
    {
      "cell_type": "code",
      "source": [
        "runSelect(\"select lastname, jobdesc, salary, deptid from empl where deptid = '20' and salary > 10000 and jobdesc = 'Clerk'\")"
      ],
      "metadata": {
        "colab": {
          "base_uri": "https://localhost:8080/"
        },
        "id": "fnB8p8-EnzH2",
        "outputId": "471b4fc7-28ff-465a-b418-05314882898f"
      },
      "execution_count": 32,
      "outputs": [
        {
          "output_type": "stream",
          "name": "stdout",
          "text": [
            "no records found\n"
          ]
        }
      ]
    },
    {
      "cell_type": "code",
      "source": [
        "runSelect(\"select lastname, jobdesc, deptid from empl where deptid = '70'\")"
      ],
      "metadata": {
        "colab": {
          "base_uri": "https://localhost:8080/",
          "height": 81
        },
        "id": "uEKUIgOMqtLw",
        "outputId": "221251ea-2458-412c-f7aa-136acb8b5d39"
      },
      "execution_count": 33,
      "outputs": [
        {
          "output_type": "execute_result",
          "data": {
            "text/plain": [
              "<pandas.io.formats.style.Styler at 0x78a47109f280>"
            ],
            "text/html": [
              "<style type=\"text/css\">\n",
              "</style>\n",
              "<table id=\"T_8b8e4\" class=\"dataframe\">\n",
              "  <thead>\n",
              "    <tr>\n",
              "      <th id=\"T_8b8e4_level0_col0\" class=\"col_heading level0 col0\" >lastname</th>\n",
              "      <th id=\"T_8b8e4_level0_col1\" class=\"col_heading level0 col1\" >jobdesc</th>\n",
              "      <th id=\"T_8b8e4_level0_col2\" class=\"col_heading level0 col2\" >deptid</th>\n",
              "    </tr>\n",
              "  </thead>\n",
              "  <tbody>\n",
              "    <tr>\n",
              "      <td id=\"T_8b8e4_row0_col0\" class=\"data row0 col0\" >Sunil</td>\n",
              "      <td id=\"T_8b8e4_row0_col1\" class=\"data row0 col1\" >Dy Manager</td>\n",
              "      <td id=\"T_8b8e4_row0_col2\" class=\"data row0 col2\" >70</td>\n",
              "    </tr>\n",
              "  </tbody>\n",
              "</table>\n"
            ]
          },
          "metadata": {},
          "execution_count": 33
        }
      ]
    },
    {
      "cell_type": "code",
      "source": [
        "runSelect(\"select lastname, jobdesc, deptid from empl where deptid = '70' or jobdesc like '%Manager'\")"
      ],
      "metadata": {
        "colab": {
          "base_uri": "https://localhost:8080/",
          "height": 175
        },
        "id": "Ne0eLRV3qyTn",
        "outputId": "69618691-b30a-4d7f-c456-e54a24d22d40"
      },
      "execution_count": 34,
      "outputs": [
        {
          "output_type": "execute_result",
          "data": {
            "text/plain": [
              "<pandas.io.formats.style.Styler at 0x78a47109f0d0>"
            ],
            "text/html": [
              "<style type=\"text/css\">\n",
              "</style>\n",
              "<table id=\"T_29989\" class=\"dataframe\">\n",
              "  <thead>\n",
              "    <tr>\n",
              "      <th id=\"T_29989_level0_col0\" class=\"col_heading level0 col0\" >lastname</th>\n",
              "      <th id=\"T_29989_level0_col1\" class=\"col_heading level0 col1\" >jobdesc</th>\n",
              "      <th id=\"T_29989_level0_col2\" class=\"col_heading level0 col2\" >deptid</th>\n",
              "    </tr>\n",
              "  </thead>\n",
              "  <tbody>\n",
              "    <tr>\n",
              "      <td id=\"T_29989_row0_col0\" class=\"data row0 col0\" >Mukherjee</td>\n",
              "      <td id=\"T_29989_row0_col1\" class=\"data row0 col1\" >Manager</td>\n",
              "      <td id=\"T_29989_row0_col2\" class=\"data row0 col2\" >40</td>\n",
              "    </tr>\n",
              "    <tr>\n",
              "      <td id=\"T_29989_row1_col0\" class=\"data row1 col0\" >Khan</td>\n",
              "      <td id=\"T_29989_row1_col1\" class=\"data row1 col1\" >Manager</td>\n",
              "      <td id=\"T_29989_row1_col2\" class=\"data row1 col2\" >20</td>\n",
              "    </tr>\n",
              "    <tr>\n",
              "      <td id=\"T_29989_row2_col0\" class=\"data row2 col0\" >Dravid</td>\n",
              "      <td id=\"T_29989_row2_col1\" class=\"data row2 col1\" >Sr Manager</td>\n",
              "      <td id=\"T_29989_row2_col2\" class=\"data row2 col2\" >30</td>\n",
              "    </tr>\n",
              "    <tr>\n",
              "      <td id=\"T_29989_row3_col0\" class=\"data row3 col0\" >Sunil</td>\n",
              "      <td id=\"T_29989_row3_col1\" class=\"data row3 col1\" >Dy Manager</td>\n",
              "      <td id=\"T_29989_row3_col2\" class=\"data row3 col2\" >70</td>\n",
              "    </tr>\n",
              "  </tbody>\n",
              "</table>\n"
            ]
          },
          "metadata": {},
          "execution_count": 34
        }
      ]
    },
    {
      "cell_type": "code",
      "source": [
        "runSelect(\"select lastname, jobdesc, deptid from empl where deptid = '70' or jobdesc like '%Manager' or lastname = 'Dikshit'\")"
      ],
      "metadata": {
        "colab": {
          "base_uri": "https://localhost:8080/",
          "height": 206
        },
        "id": "aR3eNz7xq8Xo",
        "outputId": "db2737ca-b2df-4122-c028-b7318cb508a5"
      },
      "execution_count": 35,
      "outputs": [
        {
          "output_type": "execute_result",
          "data": {
            "text/plain": [
              "<pandas.io.formats.style.Styler at 0x78a47109f4c0>"
            ],
            "text/html": [
              "<style type=\"text/css\">\n",
              "</style>\n",
              "<table id=\"T_84f13\" class=\"dataframe\">\n",
              "  <thead>\n",
              "    <tr>\n",
              "      <th id=\"T_84f13_level0_col0\" class=\"col_heading level0 col0\" >lastname</th>\n",
              "      <th id=\"T_84f13_level0_col1\" class=\"col_heading level0 col1\" >jobdesc</th>\n",
              "      <th id=\"T_84f13_level0_col2\" class=\"col_heading level0 col2\" >deptid</th>\n",
              "    </tr>\n",
              "  </thead>\n",
              "  <tbody>\n",
              "    <tr>\n",
              "      <td id=\"T_84f13_row0_col0\" class=\"data row0 col0\" >Mukherjee</td>\n",
              "      <td id=\"T_84f13_row0_col1\" class=\"data row0 col1\" >Manager</td>\n",
              "      <td id=\"T_84f13_row0_col2\" class=\"data row0 col2\" >40</td>\n",
              "    </tr>\n",
              "    <tr>\n",
              "      <td id=\"T_84f13_row1_col0\" class=\"data row1 col0\" >Dikshit</td>\n",
              "      <td id=\"T_84f13_row1_col1\" class=\"data row1 col1\" >Clerk</td>\n",
              "      <td id=\"T_84f13_row1_col2\" class=\"data row1 col2\" >20</td>\n",
              "    </tr>\n",
              "    <tr>\n",
              "      <td id=\"T_84f13_row2_col0\" class=\"data row2 col0\" >Khan</td>\n",
              "      <td id=\"T_84f13_row2_col1\" class=\"data row2 col1\" >Manager</td>\n",
              "      <td id=\"T_84f13_row2_col2\" class=\"data row2 col2\" >20</td>\n",
              "    </tr>\n",
              "    <tr>\n",
              "      <td id=\"T_84f13_row3_col0\" class=\"data row3 col0\" >Dravid</td>\n",
              "      <td id=\"T_84f13_row3_col1\" class=\"data row3 col1\" >Sr Manager</td>\n",
              "      <td id=\"T_84f13_row3_col2\" class=\"data row3 col2\" >30</td>\n",
              "    </tr>\n",
              "    <tr>\n",
              "      <td id=\"T_84f13_row4_col0\" class=\"data row4 col0\" >Sunil</td>\n",
              "      <td id=\"T_84f13_row4_col1\" class=\"data row4 col1\" >Dy Manager</td>\n",
              "      <td id=\"T_84f13_row4_col2\" class=\"data row4 col2\" >70</td>\n",
              "    </tr>\n",
              "  </tbody>\n",
              "</table>\n"
            ]
          },
          "metadata": {},
          "execution_count": 35
        }
      ]
    },
    {
      "cell_type": "code",
      "source": [
        "runSelect(\"select lastname, jobdesc, salary from empl where jobdesc = 'Cus_Rep' or jobdesc = 'Clerk' and salary < 16000\")"
      ],
      "metadata": {
        "colab": {
          "base_uri": "https://localhost:8080/",
          "height": 238
        },
        "id": "Ov0HErC0txm4",
        "outputId": "4b67a207-c3f3-47bd-a18c-8f86c3f7afac"
      },
      "execution_count": 36,
      "outputs": [
        {
          "output_type": "execute_result",
          "data": {
            "text/plain": [
              "<pandas.io.formats.style.Styler at 0x78a47109cd30>"
            ],
            "text/html": [
              "<style type=\"text/css\">\n",
              "</style>\n",
              "<table id=\"T_9be47\" class=\"dataframe\">\n",
              "  <thead>\n",
              "    <tr>\n",
              "      <th id=\"T_9be47_level0_col0\" class=\"col_heading level0 col0\" >lastname</th>\n",
              "      <th id=\"T_9be47_level0_col1\" class=\"col_heading level0 col1\" >jobdesc</th>\n",
              "      <th id=\"T_9be47_level0_col2\" class=\"col_heading level0 col2\" >salary</th>\n",
              "    </tr>\n",
              "  </thead>\n",
              "  <tbody>\n",
              "    <tr>\n",
              "      <td id=\"T_9be47_row0_col0\" class=\"data row0 col0\" >Dikshit</td>\n",
              "      <td id=\"T_9be47_row0_col1\" class=\"data row0 col1\" >Clerk</td>\n",
              "      <td id=\"T_9be47_row0_col2\" class=\"data row0 col2\" >10000</td>\n",
              "    </tr>\n",
              "    <tr>\n",
              "      <td id=\"T_9be47_row1_col0\" class=\"data row1 col0\" >Sehwag</td>\n",
              "      <td id=\"T_9be47_row1_col1\" class=\"data row1 col1\" >Cus_Rep</td>\n",
              "      <td id=\"T_9be47_row1_col2\" class=\"data row1 col2\" >15000</td>\n",
              "    </tr>\n",
              "    <tr>\n",
              "      <td id=\"T_9be47_row2_col0\" class=\"data row2 col0\" >Dhoni</td>\n",
              "      <td id=\"T_9be47_row2_col1\" class=\"data row2 col1\" >Clerk</td>\n",
              "      <td id=\"T_9be47_row2_col2\" class=\"data row2 col2\" >9000</td>\n",
              "    </tr>\n",
              "    <tr>\n",
              "      <td id=\"T_9be47_row3_col0\" class=\"data row3 col0\" >Dalmia</td>\n",
              "      <td id=\"T_9be47_row3_col1\" class=\"data row3 col1\" >Clerk</td>\n",
              "      <td id=\"T_9be47_row3_col2\" class=\"data row3 col2\" >12000</td>\n",
              "    </tr>\n",
              "    <tr>\n",
              "      <td id=\"T_9be47_row4_col0\" class=\"data row4 col0\" >Ganguly</td>\n",
              "      <td id=\"T_9be47_row4_col1\" class=\"data row4 col1\" >Cus_Rep</td>\n",
              "      <td id=\"T_9be47_row4_col2\" class=\"data row4 col2\" >20000</td>\n",
              "    </tr>\n",
              "    <tr>\n",
              "      <td id=\"T_9be47_row5_col0\" class=\"data row5 col0\" >Mirza</td>\n",
              "      <td id=\"T_9be47_row5_col1\" class=\"data row5 col1\" >Cus_Rep</td>\n",
              "      <td id=\"T_9be47_row5_col2\" class=\"data row5 col2\" >25000</td>\n",
              "    </tr>\n",
              "  </tbody>\n",
              "</table>\n"
            ]
          },
          "metadata": {},
          "execution_count": 36
        }
      ]
    },
    {
      "cell_type": "code",
      "source": [
        "runSelect(\"select lastname, jobdesc, salary from empl where (jobdesc = 'Cus_Rep' or jobdesc = 'Clerk') and salary < 16000\")"
      ],
      "metadata": {
        "colab": {
          "base_uri": "https://localhost:8080/",
          "height": 175
        },
        "id": "g7hbzjdxuOt6",
        "outputId": "798c014d-728a-4011-d39d-7e43caed2026"
      },
      "execution_count": 37,
      "outputs": [
        {
          "output_type": "execute_result",
          "data": {
            "text/plain": [
              "<pandas.io.formats.style.Styler at 0x78a47109ea40>"
            ],
            "text/html": [
              "<style type=\"text/css\">\n",
              "</style>\n",
              "<table id=\"T_9ef4b\" class=\"dataframe\">\n",
              "  <thead>\n",
              "    <tr>\n",
              "      <th id=\"T_9ef4b_level0_col0\" class=\"col_heading level0 col0\" >lastname</th>\n",
              "      <th id=\"T_9ef4b_level0_col1\" class=\"col_heading level0 col1\" >jobdesc</th>\n",
              "      <th id=\"T_9ef4b_level0_col2\" class=\"col_heading level0 col2\" >salary</th>\n",
              "    </tr>\n",
              "  </thead>\n",
              "  <tbody>\n",
              "    <tr>\n",
              "      <td id=\"T_9ef4b_row0_col0\" class=\"data row0 col0\" >Dikshit</td>\n",
              "      <td id=\"T_9ef4b_row0_col1\" class=\"data row0 col1\" >Clerk</td>\n",
              "      <td id=\"T_9ef4b_row0_col2\" class=\"data row0 col2\" >10000</td>\n",
              "    </tr>\n",
              "    <tr>\n",
              "      <td id=\"T_9ef4b_row1_col0\" class=\"data row1 col0\" >Sehwag</td>\n",
              "      <td id=\"T_9ef4b_row1_col1\" class=\"data row1 col1\" >Cus_Rep</td>\n",
              "      <td id=\"T_9ef4b_row1_col2\" class=\"data row1 col2\" >15000</td>\n",
              "    </tr>\n",
              "    <tr>\n",
              "      <td id=\"T_9ef4b_row2_col0\" class=\"data row2 col0\" >Dhoni</td>\n",
              "      <td id=\"T_9ef4b_row2_col1\" class=\"data row2 col1\" >Clerk</td>\n",
              "      <td id=\"T_9ef4b_row2_col2\" class=\"data row2 col2\" >9000</td>\n",
              "    </tr>\n",
              "    <tr>\n",
              "      <td id=\"T_9ef4b_row3_col0\" class=\"data row3 col0\" >Dalmia</td>\n",
              "      <td id=\"T_9ef4b_row3_col1\" class=\"data row3 col1\" >Clerk</td>\n",
              "      <td id=\"T_9ef4b_row3_col2\" class=\"data row3 col2\" >12000</td>\n",
              "    </tr>\n",
              "  </tbody>\n",
              "</table>\n"
            ]
          },
          "metadata": {},
          "execution_count": 37
        }
      ]
    },
    {
      "cell_type": "markdown",
      "source": [
        "# Single Row Functions"
      ],
      "metadata": {
        "id": "ND-8LYQcxsG2"
      }
    },
    {
      "cell_type": "code",
      "source": [
        "runSelect(\"select lastname, deptid, salary, comm, salary+salary*comm payout from empl where deptid = '20'\")"
      ],
      "metadata": {
        "colab": {
          "base_uri": "https://localhost:8080/",
          "height": 143
        },
        "id": "s71weE_hyDwf",
        "outputId": "3979148c-78ce-4766-a525-a4026e1fbbdf"
      },
      "execution_count": 38,
      "outputs": [
        {
          "output_type": "execute_result",
          "data": {
            "text/plain": [
              "<pandas.io.formats.style.Styler at 0x78a47109c6a0>"
            ],
            "text/html": [
              "<style type=\"text/css\">\n",
              "</style>\n",
              "<table id=\"T_955b5\" class=\"dataframe\">\n",
              "  <thead>\n",
              "    <tr>\n",
              "      <th id=\"T_955b5_level0_col0\" class=\"col_heading level0 col0\" >lastname</th>\n",
              "      <th id=\"T_955b5_level0_col1\" class=\"col_heading level0 col1\" >deptid</th>\n",
              "      <th id=\"T_955b5_level0_col2\" class=\"col_heading level0 col2\" >salary</th>\n",
              "      <th id=\"T_955b5_level0_col3\" class=\"col_heading level0 col3\" >comm</th>\n",
              "      <th id=\"T_955b5_level0_col4\" class=\"col_heading level0 col4\" >payout</th>\n",
              "    </tr>\n",
              "  </thead>\n",
              "  <tbody>\n",
              "    <tr>\n",
              "      <td id=\"T_955b5_row0_col0\" class=\"data row0 col0\" >Dikshit</td>\n",
              "      <td id=\"T_955b5_row0_col1\" class=\"data row0 col1\" >20</td>\n",
              "      <td id=\"T_955b5_row0_col2\" class=\"data row0 col2\" >10000</td>\n",
              "      <td id=\"T_955b5_row0_col3\" class=\"data row0 col3\" >0.02</td>\n",
              "      <td id=\"T_955b5_row0_col4\" class=\"data row0 col4\" >10200.00</td>\n",
              "    </tr>\n",
              "    <tr>\n",
              "      <td id=\"T_955b5_row1_col0\" class=\"data row1 col0\" >Khan</td>\n",
              "      <td id=\"T_955b5_row1_col1\" class=\"data row1 col1\" >20</td>\n",
              "      <td id=\"T_955b5_row1_col2\" class=\"data row1 col2\" >30000</td>\n",
              "      <td id=\"T_955b5_row1_col3\" class=\"data row1 col3\" >0.07</td>\n",
              "      <td id=\"T_955b5_row1_col4\" class=\"data row1 col4\" >32100.00</td>\n",
              "    </tr>\n",
              "    <tr>\n",
              "      <td id=\"T_955b5_row2_col0\" class=\"data row2 col0\" >Sehwag</td>\n",
              "      <td id=\"T_955b5_row2_col1\" class=\"data row2 col1\" >20</td>\n",
              "      <td id=\"T_955b5_row2_col2\" class=\"data row2 col2\" >15000</td>\n",
              "      <td id=\"T_955b5_row2_col3\" class=\"data row2 col3\" >0.05</td>\n",
              "      <td id=\"T_955b5_row2_col4\" class=\"data row2 col4\" >15750.00</td>\n",
              "    </tr>\n",
              "  </tbody>\n",
              "</table>\n"
            ]
          },
          "metadata": {},
          "execution_count": 38
        }
      ]
    },
    {
      "cell_type": "code",
      "source": [
        "runSelect(\"select lastname, firstname, deptid, substring(firstname,1,3) nick from empl where deptid = '20'\")"
      ],
      "metadata": {
        "colab": {
          "base_uri": "https://localhost:8080/",
          "height": 143
        },
        "id": "I3rkoZrYyb_P",
        "outputId": "5f73bfae-07a4-48aa-98d9-ade773673d5b"
      },
      "execution_count": 39,
      "outputs": [
        {
          "output_type": "execute_result",
          "data": {
            "text/plain": [
              "<pandas.io.formats.style.Styler at 0x78a47109ffa0>"
            ],
            "text/html": [
              "<style type=\"text/css\">\n",
              "</style>\n",
              "<table id=\"T_03745\" class=\"dataframe\">\n",
              "  <thead>\n",
              "    <tr>\n",
              "      <th id=\"T_03745_level0_col0\" class=\"col_heading level0 col0\" >lastname</th>\n",
              "      <th id=\"T_03745_level0_col1\" class=\"col_heading level0 col1\" >firstname</th>\n",
              "      <th id=\"T_03745_level0_col2\" class=\"col_heading level0 col2\" >deptid</th>\n",
              "      <th id=\"T_03745_level0_col3\" class=\"col_heading level0 col3\" >nick</th>\n",
              "    </tr>\n",
              "  </thead>\n",
              "  <tbody>\n",
              "    <tr>\n",
              "      <td id=\"T_03745_row0_col0\" class=\"data row0 col0\" >Dikshit</td>\n",
              "      <td id=\"T_03745_row0_col1\" class=\"data row0 col1\" >Madhuri</td>\n",
              "      <td id=\"T_03745_row0_col2\" class=\"data row0 col2\" >20</td>\n",
              "      <td id=\"T_03745_row0_col3\" class=\"data row0 col3\" >Mad</td>\n",
              "    </tr>\n",
              "    <tr>\n",
              "      <td id=\"T_03745_row1_col0\" class=\"data row1 col0\" >Khan</td>\n",
              "      <td id=\"T_03745_row1_col1\" class=\"data row1 col1\" >Shahrukh</td>\n",
              "      <td id=\"T_03745_row1_col2\" class=\"data row1 col2\" >20</td>\n",
              "      <td id=\"T_03745_row1_col3\" class=\"data row1 col3\" >Sha</td>\n",
              "    </tr>\n",
              "    <tr>\n",
              "      <td id=\"T_03745_row2_col0\" class=\"data row2 col0\" >Sehwag</td>\n",
              "      <td id=\"T_03745_row2_col1\" class=\"data row2 col1\" >Virender</td>\n",
              "      <td id=\"T_03745_row2_col2\" class=\"data row2 col2\" >20</td>\n",
              "      <td id=\"T_03745_row2_col3\" class=\"data row2 col3\" >Vir</td>\n",
              "    </tr>\n",
              "  </tbody>\n",
              "</table>\n"
            ]
          },
          "metadata": {},
          "execution_count": 39
        }
      ]
    },
    {
      "cell_type": "code",
      "source": [
        "runSelect(\"select lastname, firstname, deptid, concat('\\\"',substring(firstname,2,3),'\\\" ',lastname) nick from empl where deptid = '20'\")"
      ],
      "metadata": {
        "colab": {
          "base_uri": "https://localhost:8080/",
          "height": 143
        },
        "id": "xNQl1KpSzIQc",
        "outputId": "583886ba-526b-48da-a525-8895c037634a"
      },
      "execution_count": 40,
      "outputs": [
        {
          "output_type": "execute_result",
          "data": {
            "text/plain": [
              "<pandas.io.formats.style.Styler at 0x78a47109e080>"
            ],
            "text/html": [
              "<style type=\"text/css\">\n",
              "</style>\n",
              "<table id=\"T_49673\" class=\"dataframe\">\n",
              "  <thead>\n",
              "    <tr>\n",
              "      <th id=\"T_49673_level0_col0\" class=\"col_heading level0 col0\" >lastname</th>\n",
              "      <th id=\"T_49673_level0_col1\" class=\"col_heading level0 col1\" >firstname</th>\n",
              "      <th id=\"T_49673_level0_col2\" class=\"col_heading level0 col2\" >deptid</th>\n",
              "      <th id=\"T_49673_level0_col3\" class=\"col_heading level0 col3\" >nick</th>\n",
              "    </tr>\n",
              "  </thead>\n",
              "  <tbody>\n",
              "    <tr>\n",
              "      <td id=\"T_49673_row0_col0\" class=\"data row0 col0\" >Dikshit</td>\n",
              "      <td id=\"T_49673_row0_col1\" class=\"data row0 col1\" >Madhuri</td>\n",
              "      <td id=\"T_49673_row0_col2\" class=\"data row0 col2\" >20</td>\n",
              "      <td id=\"T_49673_row0_col3\" class=\"data row0 col3\" >\"adh\" Dikshit</td>\n",
              "    </tr>\n",
              "    <tr>\n",
              "      <td id=\"T_49673_row1_col0\" class=\"data row1 col0\" >Khan</td>\n",
              "      <td id=\"T_49673_row1_col1\" class=\"data row1 col1\" >Shahrukh</td>\n",
              "      <td id=\"T_49673_row1_col2\" class=\"data row1 col2\" >20</td>\n",
              "      <td id=\"T_49673_row1_col3\" class=\"data row1 col3\" >\"hah\" Khan</td>\n",
              "    </tr>\n",
              "    <tr>\n",
              "      <td id=\"T_49673_row2_col0\" class=\"data row2 col0\" >Sehwag</td>\n",
              "      <td id=\"T_49673_row2_col1\" class=\"data row2 col1\" >Virender</td>\n",
              "      <td id=\"T_49673_row2_col2\" class=\"data row2 col2\" >20</td>\n",
              "      <td id=\"T_49673_row2_col3\" class=\"data row2 col3\" >\"ire\" Sehwag</td>\n",
              "    </tr>\n",
              "  </tbody>\n",
              "</table>\n"
            ]
          },
          "metadata": {},
          "execution_count": 40
        }
      ]
    },
    {
      "cell_type": "code",
      "source": [
        "runSelect(\"select LastName, Current_Date,JoinDate, to_char(JoinDate,'Day') JoinDay, to_char(JoinDate,'DD-mon-YY') JoinDate2, \\\n",
        "Current_Date-JoinDate DaysSince from Empl\")\n",
        "\n",
        "#https://blog.quest.com/exploring-postgres-date-formats-and-their-different-functions/\n"
      ],
      "metadata": {
        "id": "37Rjgkxz-BP0",
        "outputId": "6e372ef8-bfeb-412e-c73d-9b99c72698d0",
        "colab": {
          "base_uri": "https://localhost:8080/",
          "height": 457
        }
      },
      "execution_count": 41,
      "outputs": [
        {
          "output_type": "execute_result",
          "data": {
            "text/plain": [
              "<pandas.io.formats.style.Styler at 0x78a47109d2d0>"
            ],
            "text/html": [
              "<style type=\"text/css\">\n",
              "</style>\n",
              "<table id=\"T_ad3c8\" class=\"dataframe\">\n",
              "  <thead>\n",
              "    <tr>\n",
              "      <th id=\"T_ad3c8_level0_col0\" class=\"col_heading level0 col0\" >lastname</th>\n",
              "      <th id=\"T_ad3c8_level0_col1\" class=\"col_heading level0 col1\" >current_date</th>\n",
              "      <th id=\"T_ad3c8_level0_col2\" class=\"col_heading level0 col2\" >joindate</th>\n",
              "      <th id=\"T_ad3c8_level0_col3\" class=\"col_heading level0 col3\" >joinday</th>\n",
              "      <th id=\"T_ad3c8_level0_col4\" class=\"col_heading level0 col4\" >joindate2</th>\n",
              "      <th id=\"T_ad3c8_level0_col5\" class=\"col_heading level0 col5\" >dayssince</th>\n",
              "    </tr>\n",
              "  </thead>\n",
              "  <tbody>\n",
              "    <tr>\n",
              "      <td id=\"T_ad3c8_row0_col0\" class=\"data row0 col0\" >Bacchan</td>\n",
              "      <td id=\"T_ad3c8_row0_col1\" class=\"data row0 col1\" >2023-12-30</td>\n",
              "      <td id=\"T_ad3c8_row0_col2\" class=\"data row0 col2\" >2003-03-10</td>\n",
              "      <td id=\"T_ad3c8_row0_col3\" class=\"data row0 col3\" >Monday   </td>\n",
              "      <td id=\"T_ad3c8_row0_col4\" class=\"data row0 col4\" >10-mar-03</td>\n",
              "      <td id=\"T_ad3c8_row0_col5\" class=\"data row0 col5\" >7600</td>\n",
              "    </tr>\n",
              "    <tr>\n",
              "      <td id=\"T_ad3c8_row1_col0\" class=\"data row1 col0\" >Mukherjee</td>\n",
              "      <td id=\"T_ad3c8_row1_col1\" class=\"data row1 col1\" >2023-12-30</td>\n",
              "      <td id=\"T_ad3c8_row1_col2\" class=\"data row1 col2\" >2005-05-04</td>\n",
              "      <td id=\"T_ad3c8_row1_col3\" class=\"data row1 col3\" >Wednesday</td>\n",
              "      <td id=\"T_ad3c8_row1_col4\" class=\"data row1 col4\" >04-may-05</td>\n",
              "      <td id=\"T_ad3c8_row1_col5\" class=\"data row1 col5\" >6814</td>\n",
              "    </tr>\n",
              "    <tr>\n",
              "      <td id=\"T_ad3c8_row2_col0\" class=\"data row2 col0\" >Dikshit</td>\n",
              "      <td id=\"T_ad3c8_row2_col1\" class=\"data row2 col1\" >2023-12-30</td>\n",
              "      <td id=\"T_ad3c8_row2_col2\" class=\"data row2 col2\" >2002-04-04</td>\n",
              "      <td id=\"T_ad3c8_row2_col3\" class=\"data row2 col3\" >Thursday </td>\n",
              "      <td id=\"T_ad3c8_row2_col4\" class=\"data row2 col4\" >04-apr-02</td>\n",
              "      <td id=\"T_ad3c8_row2_col5\" class=\"data row2 col5\" >7940</td>\n",
              "    </tr>\n",
              "    <tr>\n",
              "      <td id=\"T_ad3c8_row3_col0\" class=\"data row3 col0\" >Khan</td>\n",
              "      <td id=\"T_ad3c8_row3_col1\" class=\"data row3 col1\" >2023-12-30</td>\n",
              "      <td id=\"T_ad3c8_row3_col2\" class=\"data row3 col2\" >2004-01-03</td>\n",
              "      <td id=\"T_ad3c8_row3_col3\" class=\"data row3 col3\" >Saturday </td>\n",
              "      <td id=\"T_ad3c8_row3_col4\" class=\"data row3 col4\" >03-jan-04</td>\n",
              "      <td id=\"T_ad3c8_row3_col5\" class=\"data row3 col5\" >7301</td>\n",
              "    </tr>\n",
              "    <tr>\n",
              "      <td id=\"T_ad3c8_row4_col0\" class=\"data row4 col0\" >Sehwag</td>\n",
              "      <td id=\"T_ad3c8_row4_col1\" class=\"data row4 col1\" >2023-12-30</td>\n",
              "      <td id=\"T_ad3c8_row4_col2\" class=\"data row4 col2\" >2005-01-02</td>\n",
              "      <td id=\"T_ad3c8_row4_col3\" class=\"data row4 col3\" >Sunday   </td>\n",
              "      <td id=\"T_ad3c8_row4_col4\" class=\"data row4 col4\" >02-jan-05</td>\n",
              "      <td id=\"T_ad3c8_row4_col5\" class=\"data row4 col5\" >6936</td>\n",
              "    </tr>\n",
              "    <tr>\n",
              "      <td id=\"T_ad3c8_row5_col0\" class=\"data row5 col0\" >Dhoni</td>\n",
              "      <td id=\"T_ad3c8_row5_col1\" class=\"data row5 col1\" >2023-12-30</td>\n",
              "      <td id=\"T_ad3c8_row5_col2\" class=\"data row5 col2\" >2004-10-09</td>\n",
              "      <td id=\"T_ad3c8_row5_col3\" class=\"data row5 col3\" >Saturday </td>\n",
              "      <td id=\"T_ad3c8_row5_col4\" class=\"data row5 col4\" >09-oct-04</td>\n",
              "      <td id=\"T_ad3c8_row5_col5\" class=\"data row5 col5\" >7021</td>\n",
              "    </tr>\n",
              "    <tr>\n",
              "      <td id=\"T_ad3c8_row6_col0\" class=\"data row6 col0\" >Dravid</td>\n",
              "      <td id=\"T_ad3c8_row6_col1\" class=\"data row6 col1\" >2023-12-30</td>\n",
              "      <td id=\"T_ad3c8_row6_col2\" class=\"data row6 col2\" >2000-06-04</td>\n",
              "      <td id=\"T_ad3c8_row6_col3\" class=\"data row6 col3\" >Sunday   </td>\n",
              "      <td id=\"T_ad3c8_row6_col4\" class=\"data row6 col4\" >04-jun-00</td>\n",
              "      <td id=\"T_ad3c8_row6_col5\" class=\"data row6 col5\" >8609</td>\n",
              "    </tr>\n",
              "    <tr>\n",
              "      <td id=\"T_ad3c8_row7_col0\" class=\"data row7 col0\" >Dalmia</td>\n",
              "      <td id=\"T_ad3c8_row7_col1\" class=\"data row7 col1\" >2023-12-30</td>\n",
              "      <td id=\"T_ad3c8_row7_col2\" class=\"data row7 col2\" >2001-07-01</td>\n",
              "      <td id=\"T_ad3c8_row7_col3\" class=\"data row7 col3\" >Sunday   </td>\n",
              "      <td id=\"T_ad3c8_row7_col4\" class=\"data row7 col4\" >01-jul-01</td>\n",
              "      <td id=\"T_ad3c8_row7_col5\" class=\"data row7 col5\" >8217</td>\n",
              "    </tr>\n",
              "    <tr>\n",
              "      <td id=\"T_ad3c8_row8_col0\" class=\"data row8 col0\" >Ganguly</td>\n",
              "      <td id=\"T_ad3c8_row8_col1\" class=\"data row8 col1\" >2023-12-30</td>\n",
              "      <td id=\"T_ad3c8_row8_col2\" class=\"data row8 col2\" >2002-01-01</td>\n",
              "      <td id=\"T_ad3c8_row8_col3\" class=\"data row8 col3\" >Tuesday  </td>\n",
              "      <td id=\"T_ad3c8_row8_col4\" class=\"data row8 col4\" >01-jan-02</td>\n",
              "      <td id=\"T_ad3c8_row8_col5\" class=\"data row8 col5\" >8033</td>\n",
              "    </tr>\n",
              "    <tr>\n",
              "      <td id=\"T_ad3c8_row9_col0\" class=\"data row9 col0\" >Ganesan</td>\n",
              "      <td id=\"T_ad3c8_row9_col1\" class=\"data row9 col1\" >2023-12-30</td>\n",
              "      <td id=\"T_ad3c8_row9_col2\" class=\"data row9 col2\" >2002-10-10</td>\n",
              "      <td id=\"T_ad3c8_row9_col3\" class=\"data row9 col3\" >Thursday </td>\n",
              "      <td id=\"T_ad3c8_row9_col4\" class=\"data row9 col4\" >10-oct-02</td>\n",
              "      <td id=\"T_ad3c8_row9_col5\" class=\"data row9 col5\" >7751</td>\n",
              "    </tr>\n",
              "    <tr>\n",
              "      <td id=\"T_ad3c8_row10_col0\" class=\"data row10 col0\" >Karthikeyan</td>\n",
              "      <td id=\"T_ad3c8_row10_col1\" class=\"data row10 col1\" >2023-12-30</td>\n",
              "      <td id=\"T_ad3c8_row10_col2\" class=\"data row10 col2\" >2005-12-04</td>\n",
              "      <td id=\"T_ad3c8_row10_col3\" class=\"data row10 col3\" >Sunday   </td>\n",
              "      <td id=\"T_ad3c8_row10_col4\" class=\"data row10 col4\" >04-dec-05</td>\n",
              "      <td id=\"T_ad3c8_row10_col5\" class=\"data row10 col5\" >6600</td>\n",
              "    </tr>\n",
              "    <tr>\n",
              "      <td id=\"T_ad3c8_row11_col0\" class=\"data row11 col0\" >Sunil</td>\n",
              "      <td id=\"T_ad3c8_row11_col1\" class=\"data row11 col1\" >2023-12-30</td>\n",
              "      <td id=\"T_ad3c8_row11_col2\" class=\"data row11 col2\" >2006-12-07</td>\n",
              "      <td id=\"T_ad3c8_row11_col3\" class=\"data row11 col3\" >Thursday </td>\n",
              "      <td id=\"T_ad3c8_row11_col4\" class=\"data row11 col4\" >07-dec-06</td>\n",
              "      <td id=\"T_ad3c8_row11_col5\" class=\"data row11 col5\" >6232</td>\n",
              "    </tr>\n",
              "    <tr>\n",
              "      <td id=\"T_ad3c8_row12_col0\" class=\"data row12 col0\" >Mirza</td>\n",
              "      <td id=\"T_ad3c8_row12_col1\" class=\"data row12 col1\" >2023-12-30</td>\n",
              "      <td id=\"T_ad3c8_row12_col2\" class=\"data row12 col2\" >2001-11-19</td>\n",
              "      <td id=\"T_ad3c8_row12_col3\" class=\"data row12 col3\" >Monday   </td>\n",
              "      <td id=\"T_ad3c8_row12_col4\" class=\"data row12 col4\" >19-nov-01</td>\n",
              "      <td id=\"T_ad3c8_row12_col5\" class=\"data row12 col5\" >8076</td>\n",
              "    </tr>\n",
              "  </tbody>\n",
              "</table>\n"
            ]
          },
          "metadata": {},
          "execution_count": 41
        }
      ]
    },
    {
      "cell_type": "markdown",
      "source": [
        "# MultiRow Function | Group By | Having"
      ],
      "metadata": {
        "id": "ONgFWUTC2IPK"
      }
    },
    {
      "cell_type": "code",
      "source": [
        "runSelect(\"select sum(salary) Total_Salary from empl\")"
      ],
      "metadata": {
        "colab": {
          "base_uri": "https://localhost:8080/",
          "height": 81
        },
        "id": "7MnnzfJx2PSc",
        "outputId": "dfe52e8c-a6da-4626-cbc0-21c3486aafe5"
      },
      "execution_count": 42,
      "outputs": [
        {
          "output_type": "execute_result",
          "data": {
            "text/plain": [
              "<pandas.io.formats.style.Styler at 0x78a4710b9750>"
            ],
            "text/html": [
              "<style type=\"text/css\">\n",
              "</style>\n",
              "<table id=\"T_9a2f1\" class=\"dataframe\">\n",
              "  <thead>\n",
              "    <tr>\n",
              "      <th id=\"T_9a2f1_level0_col0\" class=\"col_heading level0 col0\" >total_salary</th>\n",
              "    </tr>\n",
              "  </thead>\n",
              "  <tbody>\n",
              "    <tr>\n",
              "      <td id=\"T_9a2f1_row0_col0\" class=\"data row0 col0\" >376000</td>\n",
              "    </tr>\n",
              "  </tbody>\n",
              "</table>\n"
            ]
          },
          "metadata": {},
          "execution_count": 42
        }
      ]
    },
    {
      "cell_type": "code",
      "source": [
        "runSelect(\"select round(avg(salary),2) Average_Salary from empl\")"
      ],
      "metadata": {
        "colab": {
          "base_uri": "https://localhost:8080/",
          "height": 81
        },
        "id": "e3Avb-HL4QPD",
        "outputId": "3c0364c2-fdef-4e6f-e674-dfaf8e68c3e6"
      },
      "execution_count": 43,
      "outputs": [
        {
          "output_type": "execute_result",
          "data": {
            "text/plain": [
              "<pandas.io.formats.style.Styler at 0x78a4710bab30>"
            ],
            "text/html": [
              "<style type=\"text/css\">\n",
              "</style>\n",
              "<table id=\"T_5e8f4\" class=\"dataframe\">\n",
              "  <thead>\n",
              "    <tr>\n",
              "      <th id=\"T_5e8f4_level0_col0\" class=\"col_heading level0 col0\" >average_salary</th>\n",
              "    </tr>\n",
              "  </thead>\n",
              "  <tbody>\n",
              "    <tr>\n",
              "      <td id=\"T_5e8f4_row0_col0\" class=\"data row0 col0\" >28923.08</td>\n",
              "    </tr>\n",
              "  </tbody>\n",
              "</table>\n"
            ]
          },
          "metadata": {},
          "execution_count": 43
        }
      ]
    },
    {
      "cell_type": "code",
      "source": [
        "runSelect(\"select max(salary) Max_Salary from empl\")"
      ],
      "metadata": {
        "colab": {
          "base_uri": "https://localhost:8080/",
          "height": 81
        },
        "id": "Oe1qRQbI4gtY",
        "outputId": "93991738-38d9-46ec-f5b2-ad39e64cce1e"
      },
      "execution_count": 44,
      "outputs": [
        {
          "output_type": "execute_result",
          "data": {
            "text/plain": [
              "<pandas.io.formats.style.Styler at 0x78a4710b9db0>"
            ],
            "text/html": [
              "<style type=\"text/css\">\n",
              "</style>\n",
              "<table id=\"T_96ee0\" class=\"dataframe\">\n",
              "  <thead>\n",
              "    <tr>\n",
              "      <th id=\"T_96ee0_level0_col0\" class=\"col_heading level0 col0\" >max_salary</th>\n",
              "    </tr>\n",
              "  </thead>\n",
              "  <tbody>\n",
              "    <tr>\n",
              "      <td id=\"T_96ee0_row0_col0\" class=\"data row0 col0\" >60000</td>\n",
              "    </tr>\n",
              "  </tbody>\n",
              "</table>\n"
            ]
          },
          "metadata": {},
          "execution_count": 44
        }
      ]
    },
    {
      "cell_type": "code",
      "source": [
        "runSelect(\"select deptid, sum(salary) Total, max(salary) Max from empl group by deptid\")"
      ],
      "metadata": {
        "colab": {
          "base_uri": "https://localhost:8080/",
          "height": 206
        },
        "id": "xpmGXSAX69iU",
        "outputId": "a51f35be-8094-4914-9bc7-be9087a1cf0e"
      },
      "execution_count": 45,
      "outputs": [
        {
          "output_type": "execute_result",
          "data": {
            "text/plain": [
              "<pandas.io.formats.style.Styler at 0x78a47109dae0>"
            ],
            "text/html": [
              "<style type=\"text/css\">\n",
              "</style>\n",
              "<table id=\"T_ca810\" class=\"dataframe\">\n",
              "  <thead>\n",
              "    <tr>\n",
              "      <th id=\"T_ca810_level0_col0\" class=\"col_heading level0 col0\" >deptid</th>\n",
              "      <th id=\"T_ca810_level0_col1\" class=\"col_heading level0 col1\" >total</th>\n",
              "      <th id=\"T_ca810_level0_col2\" class=\"col_heading level0 col2\" >max</th>\n",
              "    </tr>\n",
              "  </thead>\n",
              "  <tbody>\n",
              "    <tr>\n",
              "      <td id=\"T_ca810_row0_col0\" class=\"data row0 col0\" >10</td>\n",
              "      <td id=\"T_ca810_row0_col1\" class=\"data row0 col1\" >150000</td>\n",
              "      <td id=\"T_ca810_row0_col2\" class=\"data row0 col2\" >60000</td>\n",
              "    </tr>\n",
              "    <tr>\n",
              "      <td id=\"T_ca810_row1_col0\" class=\"data row1 col0\" >40</td>\n",
              "      <td id=\"T_ca810_row1_col1\" class=\"data row1 col1\" >54000</td>\n",
              "      <td id=\"T_ca810_row1_col2\" class=\"data row1 col2\" >25000</td>\n",
              "    </tr>\n",
              "    <tr>\n",
              "      <td id=\"T_ca810_row2_col0\" class=\"data row2 col0\" >70</td>\n",
              "      <td id=\"T_ca810_row2_col1\" class=\"data row2 col1\" >40000</td>\n",
              "      <td id=\"T_ca810_row2_col2\" class=\"data row2 col2\" >40000</td>\n",
              "    </tr>\n",
              "    <tr>\n",
              "      <td id=\"T_ca810_row3_col0\" class=\"data row3 col0\" >20</td>\n",
              "      <td id=\"T_ca810_row3_col1\" class=\"data row3 col1\" >55000</td>\n",
              "      <td id=\"T_ca810_row3_col2\" class=\"data row3 col2\" >30000</td>\n",
              "    </tr>\n",
              "    <tr>\n",
              "      <td id=\"T_ca810_row4_col0\" class=\"data row4 col0\" >30</td>\n",
              "      <td id=\"T_ca810_row4_col1\" class=\"data row4 col1\" >77000</td>\n",
              "      <td id=\"T_ca810_row4_col2\" class=\"data row4 col2\" >40000</td>\n",
              "    </tr>\n",
              "  </tbody>\n",
              "</table>\n"
            ]
          },
          "metadata": {},
          "execution_count": 45
        }
      ]
    },
    {
      "cell_type": "code",
      "source": [
        "runSelect(\"select deptid, sum(salary) Total, max(salary) Max from empl group by deptid having sum(salary) > 50000\")"
      ],
      "metadata": {
        "colab": {
          "base_uri": "https://localhost:8080/",
          "height": 175
        },
        "id": "AdNDutZl7LCF",
        "outputId": "efe06c7e-4a21-406b-faa1-049629487249"
      },
      "execution_count": 46,
      "outputs": [
        {
          "output_type": "execute_result",
          "data": {
            "text/plain": [
              "<pandas.io.formats.style.Styler at 0x78a4710ba050>"
            ],
            "text/html": [
              "<style type=\"text/css\">\n",
              "</style>\n",
              "<table id=\"T_e9853\" class=\"dataframe\">\n",
              "  <thead>\n",
              "    <tr>\n",
              "      <th id=\"T_e9853_level0_col0\" class=\"col_heading level0 col0\" >deptid</th>\n",
              "      <th id=\"T_e9853_level0_col1\" class=\"col_heading level0 col1\" >total</th>\n",
              "      <th id=\"T_e9853_level0_col2\" class=\"col_heading level0 col2\" >max</th>\n",
              "    </tr>\n",
              "  </thead>\n",
              "  <tbody>\n",
              "    <tr>\n",
              "      <td id=\"T_e9853_row0_col0\" class=\"data row0 col0\" >10</td>\n",
              "      <td id=\"T_e9853_row0_col1\" class=\"data row0 col1\" >150000</td>\n",
              "      <td id=\"T_e9853_row0_col2\" class=\"data row0 col2\" >60000</td>\n",
              "    </tr>\n",
              "    <tr>\n",
              "      <td id=\"T_e9853_row1_col0\" class=\"data row1 col0\" >40</td>\n",
              "      <td id=\"T_e9853_row1_col1\" class=\"data row1 col1\" >54000</td>\n",
              "      <td id=\"T_e9853_row1_col2\" class=\"data row1 col2\" >25000</td>\n",
              "    </tr>\n",
              "    <tr>\n",
              "      <td id=\"T_e9853_row2_col0\" class=\"data row2 col0\" >20</td>\n",
              "      <td id=\"T_e9853_row2_col1\" class=\"data row2 col1\" >55000</td>\n",
              "      <td id=\"T_e9853_row2_col2\" class=\"data row2 col2\" >30000</td>\n",
              "    </tr>\n",
              "    <tr>\n",
              "      <td id=\"T_e9853_row3_col0\" class=\"data row3 col0\" >30</td>\n",
              "      <td id=\"T_e9853_row3_col1\" class=\"data row3 col1\" >77000</td>\n",
              "      <td id=\"T_e9853_row3_col2\" class=\"data row3 col2\" >40000</td>\n",
              "    </tr>\n",
              "  </tbody>\n",
              "</table>\n"
            ]
          },
          "metadata": {},
          "execution_count": 46
        }
      ]
    },
    {
      "cell_type": "code",
      "source": [
        "runSelect(\"select deptid, sum(salary) Total, max(salary) Max from empl group by deptid having sum(salary) > 50000 and max(salary) < 35000\")"
      ],
      "metadata": {
        "colab": {
          "base_uri": "https://localhost:8080/",
          "height": 112
        },
        "id": "4VFmL5JF7bYo",
        "outputId": "af41f213-032e-4a5f-8cc5-ab63ff2ee89a"
      },
      "execution_count": 47,
      "outputs": [
        {
          "output_type": "execute_result",
          "data": {
            "text/plain": [
              "<pandas.io.formats.style.Styler at 0x78a4710b9ed0>"
            ],
            "text/html": [
              "<style type=\"text/css\">\n",
              "</style>\n",
              "<table id=\"T_a4755\" class=\"dataframe\">\n",
              "  <thead>\n",
              "    <tr>\n",
              "      <th id=\"T_a4755_level0_col0\" class=\"col_heading level0 col0\" >deptid</th>\n",
              "      <th id=\"T_a4755_level0_col1\" class=\"col_heading level0 col1\" >total</th>\n",
              "      <th id=\"T_a4755_level0_col2\" class=\"col_heading level0 col2\" >max</th>\n",
              "    </tr>\n",
              "  </thead>\n",
              "  <tbody>\n",
              "    <tr>\n",
              "      <td id=\"T_a4755_row0_col0\" class=\"data row0 col0\" >40</td>\n",
              "      <td id=\"T_a4755_row0_col1\" class=\"data row0 col1\" >54000</td>\n",
              "      <td id=\"T_a4755_row0_col2\" class=\"data row0 col2\" >25000</td>\n",
              "    </tr>\n",
              "    <tr>\n",
              "      <td id=\"T_a4755_row1_col0\" class=\"data row1 col0\" >20</td>\n",
              "      <td id=\"T_a4755_row1_col1\" class=\"data row1 col1\" >55000</td>\n",
              "      <td id=\"T_a4755_row1_col2\" class=\"data row1 col2\" >30000</td>\n",
              "    </tr>\n",
              "  </tbody>\n",
              "</table>\n"
            ]
          },
          "metadata": {},
          "execution_count": 47
        }
      ]
    },
    {
      "cell_type": "markdown",
      "source": [
        "#Conditionals | CASE"
      ],
      "metadata": {
        "id": "xDsapsK8Afpj"
      }
    },
    {
      "cell_type": "code",
      "source": [
        "runSelect(\"select lastname, jobdesc, salary, comm, salary+salary*comm Payout,\\\n",
        "case when jobdesc like '%Manager' then 2000 else 0 end bonus from empl\")"
      ],
      "metadata": {
        "colab": {
          "base_uri": "https://localhost:8080/",
          "height": 457
        },
        "id": "bYRWDlVNAxKx",
        "outputId": "9ece8002-6109-4de9-c8b6-c92c37a3defe"
      },
      "execution_count": 48,
      "outputs": [
        {
          "output_type": "execute_result",
          "data": {
            "text/plain": [
              "<pandas.io.formats.style.Styler at 0x78a4710ba8f0>"
            ],
            "text/html": [
              "<style type=\"text/css\">\n",
              "</style>\n",
              "<table id=\"T_dbaaa\" class=\"dataframe\">\n",
              "  <thead>\n",
              "    <tr>\n",
              "      <th id=\"T_dbaaa_level0_col0\" class=\"col_heading level0 col0\" >lastname</th>\n",
              "      <th id=\"T_dbaaa_level0_col1\" class=\"col_heading level0 col1\" >jobdesc</th>\n",
              "      <th id=\"T_dbaaa_level0_col2\" class=\"col_heading level0 col2\" >salary</th>\n",
              "      <th id=\"T_dbaaa_level0_col3\" class=\"col_heading level0 col3\" >comm</th>\n",
              "      <th id=\"T_dbaaa_level0_col4\" class=\"col_heading level0 col4\" >payout</th>\n",
              "      <th id=\"T_dbaaa_level0_col5\" class=\"col_heading level0 col5\" >bonus</th>\n",
              "    </tr>\n",
              "  </thead>\n",
              "  <tbody>\n",
              "    <tr>\n",
              "      <td id=\"T_dbaaa_row0_col0\" class=\"data row0 col0\" >Bacchan</td>\n",
              "      <td id=\"T_dbaaa_row0_col1\" class=\"data row0 col1\" >Executive</td>\n",
              "      <td id=\"T_dbaaa_row0_col2\" class=\"data row0 col2\" >50000</td>\n",
              "      <td id=\"T_dbaaa_row0_col3\" class=\"data row0 col3\" >0.10</td>\n",
              "      <td id=\"T_dbaaa_row0_col4\" class=\"data row0 col4\" >55000.00</td>\n",
              "      <td id=\"T_dbaaa_row0_col5\" class=\"data row0 col5\" >0</td>\n",
              "    </tr>\n",
              "    <tr>\n",
              "      <td id=\"T_dbaaa_row1_col0\" class=\"data row1 col0\" >Mukherjee</td>\n",
              "      <td id=\"T_dbaaa_row1_col1\" class=\"data row1 col1\" >Manager</td>\n",
              "      <td id=\"T_dbaaa_row1_col2\" class=\"data row1 col2\" >25000</td>\n",
              "      <td id=\"T_dbaaa_row1_col3\" class=\"data row1 col3\" >0.06</td>\n",
              "      <td id=\"T_dbaaa_row1_col4\" class=\"data row1 col4\" >26500.00</td>\n",
              "      <td id=\"T_dbaaa_row1_col5\" class=\"data row1 col5\" >2000</td>\n",
              "    </tr>\n",
              "    <tr>\n",
              "      <td id=\"T_dbaaa_row2_col0\" class=\"data row2 col0\" >Dikshit</td>\n",
              "      <td id=\"T_dbaaa_row2_col1\" class=\"data row2 col1\" >Clerk</td>\n",
              "      <td id=\"T_dbaaa_row2_col2\" class=\"data row2 col2\" >10000</td>\n",
              "      <td id=\"T_dbaaa_row2_col3\" class=\"data row2 col3\" >0.02</td>\n",
              "      <td id=\"T_dbaaa_row2_col4\" class=\"data row2 col4\" >10200.00</td>\n",
              "      <td id=\"T_dbaaa_row2_col5\" class=\"data row2 col5\" >0</td>\n",
              "    </tr>\n",
              "    <tr>\n",
              "      <td id=\"T_dbaaa_row3_col0\" class=\"data row3 col0\" >Khan</td>\n",
              "      <td id=\"T_dbaaa_row3_col1\" class=\"data row3 col1\" >Manager</td>\n",
              "      <td id=\"T_dbaaa_row3_col2\" class=\"data row3 col2\" >30000</td>\n",
              "      <td id=\"T_dbaaa_row3_col3\" class=\"data row3 col3\" >0.07</td>\n",
              "      <td id=\"T_dbaaa_row3_col4\" class=\"data row3 col4\" >32100.00</td>\n",
              "      <td id=\"T_dbaaa_row3_col5\" class=\"data row3 col5\" >2000</td>\n",
              "    </tr>\n",
              "    <tr>\n",
              "      <td id=\"T_dbaaa_row4_col0\" class=\"data row4 col0\" >Sehwag</td>\n",
              "      <td id=\"T_dbaaa_row4_col1\" class=\"data row4 col1\" >Cus_Rep</td>\n",
              "      <td id=\"T_dbaaa_row4_col2\" class=\"data row4 col2\" >15000</td>\n",
              "      <td id=\"T_dbaaa_row4_col3\" class=\"data row4 col3\" >0.05</td>\n",
              "      <td id=\"T_dbaaa_row4_col4\" class=\"data row4 col4\" >15750.00</td>\n",
              "      <td id=\"T_dbaaa_row4_col5\" class=\"data row4 col5\" >0</td>\n",
              "    </tr>\n",
              "    <tr>\n",
              "      <td id=\"T_dbaaa_row5_col0\" class=\"data row5 col0\" >Dhoni</td>\n",
              "      <td id=\"T_dbaaa_row5_col1\" class=\"data row5 col1\" >Clerk</td>\n",
              "      <td id=\"T_dbaaa_row5_col2\" class=\"data row5 col2\" >9000</td>\n",
              "      <td id=\"T_dbaaa_row5_col3\" class=\"data row5 col3\" >0.02</td>\n",
              "      <td id=\"T_dbaaa_row5_col4\" class=\"data row5 col4\" >9180.00</td>\n",
              "      <td id=\"T_dbaaa_row5_col5\" class=\"data row5 col5\" >0</td>\n",
              "    </tr>\n",
              "    <tr>\n",
              "      <td id=\"T_dbaaa_row6_col0\" class=\"data row6 col0\" >Dravid</td>\n",
              "      <td id=\"T_dbaaa_row6_col1\" class=\"data row6 col1\" >Sr Manager</td>\n",
              "      <td id=\"T_dbaaa_row6_col2\" class=\"data row6 col2\" >40000</td>\n",
              "      <td id=\"T_dbaaa_row6_col3\" class=\"data row6 col3\" >0.08</td>\n",
              "      <td id=\"T_dbaaa_row6_col4\" class=\"data row6 col4\" >43200.00</td>\n",
              "      <td id=\"T_dbaaa_row6_col5\" class=\"data row6 col5\" >2000</td>\n",
              "    </tr>\n",
              "    <tr>\n",
              "      <td id=\"T_dbaaa_row7_col0\" class=\"data row7 col0\" >Dalmia</td>\n",
              "      <td id=\"T_dbaaa_row7_col1\" class=\"data row7 col1\" >Clerk</td>\n",
              "      <td id=\"T_dbaaa_row7_col2\" class=\"data row7 col2\" >12000</td>\n",
              "      <td id=\"T_dbaaa_row7_col3\" class=\"data row7 col3\" >0.02</td>\n",
              "      <td id=\"T_dbaaa_row7_col4\" class=\"data row7 col4\" >12240.00</td>\n",
              "      <td id=\"T_dbaaa_row7_col5\" class=\"data row7 col5\" >0</td>\n",
              "    </tr>\n",
              "    <tr>\n",
              "      <td id=\"T_dbaaa_row8_col0\" class=\"data row8 col0\" >Ganguly</td>\n",
              "      <td id=\"T_dbaaa_row8_col1\" class=\"data row8 col1\" >Cus_Rep</td>\n",
              "      <td id=\"T_dbaaa_row8_col2\" class=\"data row8 col2\" >20000</td>\n",
              "      <td id=\"T_dbaaa_row8_col3\" class=\"data row8 col3\" >0.03</td>\n",
              "      <td id=\"T_dbaaa_row8_col4\" class=\"data row8 col4\" >20600.00</td>\n",
              "      <td id=\"T_dbaaa_row8_col5\" class=\"data row8 col5\" >0</td>\n",
              "    </tr>\n",
              "    <tr>\n",
              "      <td id=\"T_dbaaa_row9_col0\" class=\"data row9 col0\" >Ganesan</td>\n",
              "      <td id=\"T_dbaaa_row9_col1\" class=\"data row9 col1\" >Director</td>\n",
              "      <td id=\"T_dbaaa_row9_col2\" class=\"data row9 col2\" >60000</td>\n",
              "      <td id=\"T_dbaaa_row9_col3\" class=\"data row9 col3\" >0.11</td>\n",
              "      <td id=\"T_dbaaa_row9_col4\" class=\"data row9 col4\" >66600.00</td>\n",
              "      <td id=\"T_dbaaa_row9_col5\" class=\"data row9 col5\" >0</td>\n",
              "    </tr>\n",
              "    <tr>\n",
              "      <td id=\"T_dbaaa_row10_col0\" class=\"data row10 col0\" >Karthikeyan</td>\n",
              "      <td id=\"T_dbaaa_row10_col1\" class=\"data row10 col1\" >Secretary</td>\n",
              "      <td id=\"T_dbaaa_row10_col2\" class=\"data row10 col2\" >40000</td>\n",
              "      <td id=\"T_dbaaa_row10_col3\" class=\"data row10 col3\" >0.09</td>\n",
              "      <td id=\"T_dbaaa_row10_col4\" class=\"data row10 col4\" >43600.00</td>\n",
              "      <td id=\"T_dbaaa_row10_col5\" class=\"data row10 col5\" >0</td>\n",
              "    </tr>\n",
              "    <tr>\n",
              "      <td id=\"T_dbaaa_row11_col0\" class=\"data row11 col0\" >Sunil</td>\n",
              "      <td id=\"T_dbaaa_row11_col1\" class=\"data row11 col1\" >Dy Manager</td>\n",
              "      <td id=\"T_dbaaa_row11_col2\" class=\"data row11 col2\" >40000</td>\n",
              "      <td id=\"T_dbaaa_row11_col3\" class=\"data row11 col3\" >0.05</td>\n",
              "      <td id=\"T_dbaaa_row11_col4\" class=\"data row11 col4\" >42000.00</td>\n",
              "      <td id=\"T_dbaaa_row11_col5\" class=\"data row11 col5\" >2000</td>\n",
              "    </tr>\n",
              "    <tr>\n",
              "      <td id=\"T_dbaaa_row12_col0\" class=\"data row12 col0\" >Mirza</td>\n",
              "      <td id=\"T_dbaaa_row12_col1\" class=\"data row12 col1\" >Cus_Rep</td>\n",
              "      <td id=\"T_dbaaa_row12_col2\" class=\"data row12 col2\" >25000</td>\n",
              "      <td id=\"T_dbaaa_row12_col3\" class=\"data row12 col3\" >0.04</td>\n",
              "      <td id=\"T_dbaaa_row12_col4\" class=\"data row12 col4\" >26000.00</td>\n",
              "      <td id=\"T_dbaaa_row12_col5\" class=\"data row12 col5\" >0</td>\n",
              "    </tr>\n",
              "  </tbody>\n",
              "</table>\n"
            ]
          },
          "metadata": {},
          "execution_count": 48
        }
      ]
    },
    {
      "cell_type": "code",
      "source": [
        "runSelect(\"select lastname, deptid,\\\n",
        "case \\\n",
        "when deptid in ('10','20') then 'Head' \\\n",
        "when deptid = '30' then 'Regional'\\\n",
        "else 'Branch' \\\n",
        "end \\\n",
        " office from empl\")"
      ],
      "metadata": {
        "colab": {
          "base_uri": "https://localhost:8080/",
          "height": 457
        },
        "id": "jbpKn1y0DwYG",
        "outputId": "d80608ac-4649-468b-bccb-d18e9ab687dd"
      },
      "execution_count": 49,
      "outputs": [
        {
          "output_type": "execute_result",
          "data": {
            "text/plain": [
              "<pandas.io.formats.style.Styler at 0x78a4710ba530>"
            ],
            "text/html": [
              "<style type=\"text/css\">\n",
              "</style>\n",
              "<table id=\"T_6337b\" class=\"dataframe\">\n",
              "  <thead>\n",
              "    <tr>\n",
              "      <th id=\"T_6337b_level0_col0\" class=\"col_heading level0 col0\" >lastname</th>\n",
              "      <th id=\"T_6337b_level0_col1\" class=\"col_heading level0 col1\" >deptid</th>\n",
              "      <th id=\"T_6337b_level0_col2\" class=\"col_heading level0 col2\" >office</th>\n",
              "    </tr>\n",
              "  </thead>\n",
              "  <tbody>\n",
              "    <tr>\n",
              "      <td id=\"T_6337b_row0_col0\" class=\"data row0 col0\" >Bacchan</td>\n",
              "      <td id=\"T_6337b_row0_col1\" class=\"data row0 col1\" >10</td>\n",
              "      <td id=\"T_6337b_row0_col2\" class=\"data row0 col2\" >Head</td>\n",
              "    </tr>\n",
              "    <tr>\n",
              "      <td id=\"T_6337b_row1_col0\" class=\"data row1 col0\" >Mukherjee</td>\n",
              "      <td id=\"T_6337b_row1_col1\" class=\"data row1 col1\" >40</td>\n",
              "      <td id=\"T_6337b_row1_col2\" class=\"data row1 col2\" >Branch</td>\n",
              "    </tr>\n",
              "    <tr>\n",
              "      <td id=\"T_6337b_row2_col0\" class=\"data row2 col0\" >Dikshit</td>\n",
              "      <td id=\"T_6337b_row2_col1\" class=\"data row2 col1\" >20</td>\n",
              "      <td id=\"T_6337b_row2_col2\" class=\"data row2 col2\" >Head</td>\n",
              "    </tr>\n",
              "    <tr>\n",
              "      <td id=\"T_6337b_row3_col0\" class=\"data row3 col0\" >Khan</td>\n",
              "      <td id=\"T_6337b_row3_col1\" class=\"data row3 col1\" >20</td>\n",
              "      <td id=\"T_6337b_row3_col2\" class=\"data row3 col2\" >Head</td>\n",
              "    </tr>\n",
              "    <tr>\n",
              "      <td id=\"T_6337b_row4_col0\" class=\"data row4 col0\" >Sehwag</td>\n",
              "      <td id=\"T_6337b_row4_col1\" class=\"data row4 col1\" >20</td>\n",
              "      <td id=\"T_6337b_row4_col2\" class=\"data row4 col2\" >Head</td>\n",
              "    </tr>\n",
              "    <tr>\n",
              "      <td id=\"T_6337b_row5_col0\" class=\"data row5 col0\" >Dhoni</td>\n",
              "      <td id=\"T_6337b_row5_col1\" class=\"data row5 col1\" >40</td>\n",
              "      <td id=\"T_6337b_row5_col2\" class=\"data row5 col2\" >Branch</td>\n",
              "    </tr>\n",
              "    <tr>\n",
              "      <td id=\"T_6337b_row6_col0\" class=\"data row6 col0\" >Dravid</td>\n",
              "      <td id=\"T_6337b_row6_col1\" class=\"data row6 col1\" >30</td>\n",
              "      <td id=\"T_6337b_row6_col2\" class=\"data row6 col2\" >Regional</td>\n",
              "    </tr>\n",
              "    <tr>\n",
              "      <td id=\"T_6337b_row7_col0\" class=\"data row7 col0\" >Dalmia</td>\n",
              "      <td id=\"T_6337b_row7_col1\" class=\"data row7 col1\" >30</td>\n",
              "      <td id=\"T_6337b_row7_col2\" class=\"data row7 col2\" >Regional</td>\n",
              "    </tr>\n",
              "    <tr>\n",
              "      <td id=\"T_6337b_row8_col0\" class=\"data row8 col0\" >Ganguly</td>\n",
              "      <td id=\"T_6337b_row8_col1\" class=\"data row8 col1\" >40</td>\n",
              "      <td id=\"T_6337b_row8_col2\" class=\"data row8 col2\" >Branch</td>\n",
              "    </tr>\n",
              "    <tr>\n",
              "      <td id=\"T_6337b_row9_col0\" class=\"data row9 col0\" >Ganesan</td>\n",
              "      <td id=\"T_6337b_row9_col1\" class=\"data row9 col1\" >10</td>\n",
              "      <td id=\"T_6337b_row9_col2\" class=\"data row9 col2\" >Head</td>\n",
              "    </tr>\n",
              "    <tr>\n",
              "      <td id=\"T_6337b_row10_col0\" class=\"data row10 col0\" >Karthikeyan</td>\n",
              "      <td id=\"T_6337b_row10_col1\" class=\"data row10 col1\" >10</td>\n",
              "      <td id=\"T_6337b_row10_col2\" class=\"data row10 col2\" >Head</td>\n",
              "    </tr>\n",
              "    <tr>\n",
              "      <td id=\"T_6337b_row11_col0\" class=\"data row11 col0\" >Sunil</td>\n",
              "      <td id=\"T_6337b_row11_col1\" class=\"data row11 col1\" >70</td>\n",
              "      <td id=\"T_6337b_row11_col2\" class=\"data row11 col2\" >Branch</td>\n",
              "    </tr>\n",
              "    <tr>\n",
              "      <td id=\"T_6337b_row12_col0\" class=\"data row12 col0\" >Mirza</td>\n",
              "      <td id=\"T_6337b_row12_col1\" class=\"data row12 col1\" >30</td>\n",
              "      <td id=\"T_6337b_row12_col2\" class=\"data row12 col2\" >Regional</td>\n",
              "    </tr>\n",
              "  </tbody>\n",
              "</table>\n"
            ]
          },
          "metadata": {},
          "execution_count": 49
        }
      ]
    },
    {
      "cell_type": "markdown",
      "source": [
        "#Join"
      ],
      "metadata": {
        "id": "Rs10ezIPpP0C"
      }
    },
    {
      "cell_type": "markdown",
      "source": [
        "## Basic Inner Join"
      ],
      "metadata": {
        "id": "XMfZP6HUpT4B"
      }
    },
    {
      "cell_type": "code",
      "source": [
        "sql = 'select firstname, lastname, salary, deptname, location, managerid from empl, dept where empl.deptid = dept.deptid'\n",
        "runSelect(sql)"
      ],
      "metadata": {
        "colab": {
          "base_uri": "https://localhost:8080/",
          "height": 426
        },
        "id": "ISiD-VP6pbUz",
        "outputId": "1eb01b7b-173f-42b3-8991-8e94259a8a0a"
      },
      "execution_count": 50,
      "outputs": [
        {
          "output_type": "execute_result",
          "data": {
            "text/plain": [
              "<pandas.io.formats.style.Styler at 0x78a4710ba230>"
            ],
            "text/html": [
              "<style type=\"text/css\">\n",
              "</style>\n",
              "<table id=\"T_54982\" class=\"dataframe\">\n",
              "  <thead>\n",
              "    <tr>\n",
              "      <th id=\"T_54982_level0_col0\" class=\"col_heading level0 col0\" >firstname</th>\n",
              "      <th id=\"T_54982_level0_col1\" class=\"col_heading level0 col1\" >lastname</th>\n",
              "      <th id=\"T_54982_level0_col2\" class=\"col_heading level0 col2\" >salary</th>\n",
              "      <th id=\"T_54982_level0_col3\" class=\"col_heading level0 col3\" >deptname</th>\n",
              "      <th id=\"T_54982_level0_col4\" class=\"col_heading level0 col4\" >location</th>\n",
              "      <th id=\"T_54982_level0_col5\" class=\"col_heading level0 col5\" >managerid</th>\n",
              "    </tr>\n",
              "  </thead>\n",
              "  <tbody>\n",
              "    <tr>\n",
              "      <td id=\"T_54982_row0_col0\" class=\"data row0 col0\" >Narayan</td>\n",
              "      <td id=\"T_54982_row0_col1\" class=\"data row0 col1\" >Karthikeyan</td>\n",
              "      <td id=\"T_54982_row0_col2\" class=\"data row0 col2\" >40000</td>\n",
              "      <td id=\"T_54982_row0_col3\" class=\"data row0 col3\" >Corporate</td>\n",
              "      <td id=\"T_54982_row0_col4\" class=\"data row0 col4\" >Calcutta</td>\n",
              "      <td id=\"T_54982_row0_col5\" class=\"data row0 col5\" >299034</td>\n",
              "    </tr>\n",
              "    <tr>\n",
              "      <td id=\"T_54982_row1_col0\" class=\"data row1 col0\" >Rekha</td>\n",
              "      <td id=\"T_54982_row1_col1\" class=\"data row1 col1\" >Ganesan</td>\n",
              "      <td id=\"T_54982_row1_col2\" class=\"data row1 col2\" >60000</td>\n",
              "      <td id=\"T_54982_row1_col3\" class=\"data row1 col3\" >Corporate</td>\n",
              "      <td id=\"T_54982_row1_col4\" class=\"data row1 col4\" >Calcutta</td>\n",
              "      <td id=\"T_54982_row1_col5\" class=\"data row1 col5\" >299034</td>\n",
              "    </tr>\n",
              "    <tr>\n",
              "      <td id=\"T_54982_row2_col0\" class=\"data row2 col0\" >Amitabh</td>\n",
              "      <td id=\"T_54982_row2_col1\" class=\"data row2 col1\" >Bacchan</td>\n",
              "      <td id=\"T_54982_row2_col2\" class=\"data row2 col2\" >50000</td>\n",
              "      <td id=\"T_54982_row2_col3\" class=\"data row2 col3\" >Corporate</td>\n",
              "      <td id=\"T_54982_row2_col4\" class=\"data row2 col4\" >Calcutta</td>\n",
              "      <td id=\"T_54982_row2_col5\" class=\"data row2 col5\" >299034</td>\n",
              "    </tr>\n",
              "    <tr>\n",
              "      <td id=\"T_54982_row3_col0\" class=\"data row3 col0\" >Virender</td>\n",
              "      <td id=\"T_54982_row3_col1\" class=\"data row3 col1\" >Sehwag</td>\n",
              "      <td id=\"T_54982_row3_col2\" class=\"data row3 col2\" >15000</td>\n",
              "      <td id=\"T_54982_row3_col3\" class=\"data row3 col3\" >Sales</td>\n",
              "      <td id=\"T_54982_row3_col4\" class=\"data row3 col4\" >Calcutta</td>\n",
              "      <td id=\"T_54982_row3_col5\" class=\"data row3 col5\" >239456</td>\n",
              "    </tr>\n",
              "    <tr>\n",
              "      <td id=\"T_54982_row4_col0\" class=\"data row4 col0\" >Shahrukh</td>\n",
              "      <td id=\"T_54982_row4_col1\" class=\"data row4 col1\" >Khan</td>\n",
              "      <td id=\"T_54982_row4_col2\" class=\"data row4 col2\" >30000</td>\n",
              "      <td id=\"T_54982_row4_col3\" class=\"data row4 col3\" >Sales</td>\n",
              "      <td id=\"T_54982_row4_col4\" class=\"data row4 col4\" >Calcutta</td>\n",
              "      <td id=\"T_54982_row4_col5\" class=\"data row4 col5\" >239456</td>\n",
              "    </tr>\n",
              "    <tr>\n",
              "      <td id=\"T_54982_row5_col0\" class=\"data row5 col0\" >Madhuri</td>\n",
              "      <td id=\"T_54982_row5_col1\" class=\"data row5 col1\" >Dikshit</td>\n",
              "      <td id=\"T_54982_row5_col2\" class=\"data row5 col2\" >10000</td>\n",
              "      <td id=\"T_54982_row5_col3\" class=\"data row5 col3\" >Sales</td>\n",
              "      <td id=\"T_54982_row5_col4\" class=\"data row5 col4\" >Calcutta</td>\n",
              "      <td id=\"T_54982_row5_col5\" class=\"data row5 col5\" >239456</td>\n",
              "    </tr>\n",
              "    <tr>\n",
              "      <td id=\"T_54982_row6_col0\" class=\"data row6 col0\" >Sania</td>\n",
              "      <td id=\"T_54982_row6_col1\" class=\"data row6 col1\" >Mirza</td>\n",
              "      <td id=\"T_54982_row6_col2\" class=\"data row6 col2\" >25000</td>\n",
              "      <td id=\"T_54982_row6_col3\" class=\"data row6 col3\" >Accounts</td>\n",
              "      <td id=\"T_54982_row6_col4\" class=\"data row6 col4\" >Calcutta</td>\n",
              "      <td id=\"T_54982_row6_col5\" class=\"data row6 col5\" >822134</td>\n",
              "    </tr>\n",
              "    <tr>\n",
              "      <td id=\"T_54982_row7_col0\" class=\"data row7 col0\" >Jagmohan</td>\n",
              "      <td id=\"T_54982_row7_col1\" class=\"data row7 col1\" >Dalmia</td>\n",
              "      <td id=\"T_54982_row7_col2\" class=\"data row7 col2\" >12000</td>\n",
              "      <td id=\"T_54982_row7_col3\" class=\"data row7 col3\" >Accounts</td>\n",
              "      <td id=\"T_54982_row7_col4\" class=\"data row7 col4\" >Calcutta</td>\n",
              "      <td id=\"T_54982_row7_col5\" class=\"data row7 col5\" >822134</td>\n",
              "    </tr>\n",
              "    <tr>\n",
              "      <td id=\"T_54982_row8_col0\" class=\"data row8 col0\" >Rahul</td>\n",
              "      <td id=\"T_54982_row8_col1\" class=\"data row8 col1\" >Dravid</td>\n",
              "      <td id=\"T_54982_row8_col2\" class=\"data row8 col2\" >40000</td>\n",
              "      <td id=\"T_54982_row8_col3\" class=\"data row8 col3\" >Accounts</td>\n",
              "      <td id=\"T_54982_row8_col4\" class=\"data row8 col4\" >Calcutta</td>\n",
              "      <td id=\"T_54982_row8_col5\" class=\"data row8 col5\" >822134</td>\n",
              "    </tr>\n",
              "    <tr>\n",
              "      <td id=\"T_54982_row9_col0\" class=\"data row9 col0\" >Sourav</td>\n",
              "      <td id=\"T_54982_row9_col1\" class=\"data row9 col1\" >Ganguly</td>\n",
              "      <td id=\"T_54982_row9_col2\" class=\"data row9 col2\" >20000</td>\n",
              "      <td id=\"T_54982_row9_col3\" class=\"data row9 col3\" >Production</td>\n",
              "      <td id=\"T_54982_row9_col4\" class=\"data row9 col4\" >Bombay</td>\n",
              "      <td id=\"T_54982_row9_col5\" class=\"data row9 col5\" >349870</td>\n",
              "    </tr>\n",
              "    <tr>\n",
              "      <td id=\"T_54982_row10_col0\" class=\"data row10 col0\" >Mahender</td>\n",
              "      <td id=\"T_54982_row10_col1\" class=\"data row10 col1\" >Dhoni</td>\n",
              "      <td id=\"T_54982_row10_col2\" class=\"data row10 col2\" >9000</td>\n",
              "      <td id=\"T_54982_row10_col3\" class=\"data row10 col3\" >Production</td>\n",
              "      <td id=\"T_54982_row10_col4\" class=\"data row10 col4\" >Bombay</td>\n",
              "      <td id=\"T_54982_row10_col5\" class=\"data row10 col5\" >349870</td>\n",
              "    </tr>\n",
              "    <tr>\n",
              "      <td id=\"T_54982_row11_col0\" class=\"data row11 col0\" >Rani</td>\n",
              "      <td id=\"T_54982_row11_col1\" class=\"data row11 col1\" >Mukherjee</td>\n",
              "      <td id=\"T_54982_row11_col2\" class=\"data row11 col2\" >25000</td>\n",
              "      <td id=\"T_54982_row11_col3\" class=\"data row11 col3\" >Production</td>\n",
              "      <td id=\"T_54982_row11_col4\" class=\"data row11 col4\" >Bombay</td>\n",
              "      <td id=\"T_54982_row11_col5\" class=\"data row11 col5\" >349870</td>\n",
              "    </tr>\n",
              "  </tbody>\n",
              "</table>\n"
            ]
          },
          "metadata": {},
          "execution_count": 50
        }
      ]
    },
    {
      "cell_type": "code",
      "source": [
        "sql = 'select empid, firstname, deptname, location from empl INNER JOIN dept ON empl.deptid = dept.deptid'\n",
        "runSelect(sql)"
      ],
      "metadata": {
        "colab": {
          "base_uri": "https://localhost:8080/",
          "height": 426
        },
        "id": "LVrEArEc1VcF",
        "outputId": "2c855e92-0736-430e-9015-c8de2f2a5059"
      },
      "execution_count": 51,
      "outputs": [
        {
          "output_type": "execute_result",
          "data": {
            "text/plain": [
              "<pandas.io.formats.style.Styler at 0x78a4710bbeb0>"
            ],
            "text/html": [
              "<style type=\"text/css\">\n",
              "</style>\n",
              "<table id=\"T_3e5cf\" class=\"dataframe\">\n",
              "  <thead>\n",
              "    <tr>\n",
              "      <th id=\"T_3e5cf_level0_col0\" class=\"col_heading level0 col0\" >empid</th>\n",
              "      <th id=\"T_3e5cf_level0_col1\" class=\"col_heading level0 col1\" >firstname</th>\n",
              "      <th id=\"T_3e5cf_level0_col2\" class=\"col_heading level0 col2\" >deptname</th>\n",
              "      <th id=\"T_3e5cf_level0_col3\" class=\"col_heading level0 col3\" >location</th>\n",
              "    </tr>\n",
              "  </thead>\n",
              "  <tbody>\n",
              "    <tr>\n",
              "      <td id=\"T_3e5cf_row0_col0\" class=\"data row0 col0\" >546223</td>\n",
              "      <td id=\"T_3e5cf_row0_col1\" class=\"data row0 col1\" >Narayan</td>\n",
              "      <td id=\"T_3e5cf_row0_col2\" class=\"data row0 col2\" >Corporate</td>\n",
              "      <td id=\"T_3e5cf_row0_col3\" class=\"data row0 col3\" >Calcutta</td>\n",
              "    </tr>\n",
              "    <tr>\n",
              "      <td id=\"T_3e5cf_row1_col0\" class=\"data row1 col0\" >299034</td>\n",
              "      <td id=\"T_3e5cf_row1_col1\" class=\"data row1 col1\" >Rekha</td>\n",
              "      <td id=\"T_3e5cf_row1_col2\" class=\"data row1 col2\" >Corporate</td>\n",
              "      <td id=\"T_3e5cf_row1_col3\" class=\"data row1 col3\" >Calcutta</td>\n",
              "    </tr>\n",
              "    <tr>\n",
              "      <td id=\"T_3e5cf_row2_col0\" class=\"data row2 col0\" >742866</td>\n",
              "      <td id=\"T_3e5cf_row2_col1\" class=\"data row2 col1\" >Amitabh</td>\n",
              "      <td id=\"T_3e5cf_row2_col2\" class=\"data row2 col2\" >Corporate</td>\n",
              "      <td id=\"T_3e5cf_row2_col3\" class=\"data row2 col3\" >Calcutta</td>\n",
              "    </tr>\n",
              "    <tr>\n",
              "      <td id=\"T_3e5cf_row3_col0\" class=\"data row3 col0\" >897889</td>\n",
              "      <td id=\"T_3e5cf_row3_col1\" class=\"data row3 col1\" >Virender</td>\n",
              "      <td id=\"T_3e5cf_row3_col2\" class=\"data row3 col2\" >Sales</td>\n",
              "      <td id=\"T_3e5cf_row3_col3\" class=\"data row3 col3\" >Calcutta</td>\n",
              "    </tr>\n",
              "    <tr>\n",
              "      <td id=\"T_3e5cf_row4_col0\" class=\"data row4 col0\" >239456</td>\n",
              "      <td id=\"T_3e5cf_row4_col1\" class=\"data row4 col1\" >Shahrukh</td>\n",
              "      <td id=\"T_3e5cf_row4_col2\" class=\"data row4 col2\" >Sales</td>\n",
              "      <td id=\"T_3e5cf_row4_col3\" class=\"data row4 col3\" >Calcutta</td>\n",
              "    </tr>\n",
              "    <tr>\n",
              "      <td id=\"T_3e5cf_row5_col0\" class=\"data row5 col0\" >865477</td>\n",
              "      <td id=\"T_3e5cf_row5_col1\" class=\"data row5 col1\" >Madhuri</td>\n",
              "      <td id=\"T_3e5cf_row5_col2\" class=\"data row5 col2\" >Sales</td>\n",
              "      <td id=\"T_3e5cf_row5_col3\" class=\"data row5 col3\" >Calcutta</td>\n",
              "    </tr>\n",
              "    <tr>\n",
              "      <td id=\"T_3e5cf_row6_col0\" class=\"data row6 col0\" >223112</td>\n",
              "      <td id=\"T_3e5cf_row6_col1\" class=\"data row6 col1\" >Sania</td>\n",
              "      <td id=\"T_3e5cf_row6_col2\" class=\"data row6 col2\" >Accounts</td>\n",
              "      <td id=\"T_3e5cf_row6_col3\" class=\"data row6 col3\" >Calcutta</td>\n",
              "    </tr>\n",
              "    <tr>\n",
              "      <td id=\"T_3e5cf_row7_col0\" class=\"data row7 col0\" >997445</td>\n",
              "      <td id=\"T_3e5cf_row7_col1\" class=\"data row7 col1\" >Jagmohan</td>\n",
              "      <td id=\"T_3e5cf_row7_col2\" class=\"data row7 col2\" >Accounts</td>\n",
              "      <td id=\"T_3e5cf_row7_col3\" class=\"data row7 col3\" >Calcutta</td>\n",
              "    </tr>\n",
              "    <tr>\n",
              "      <td id=\"T_3e5cf_row8_col0\" class=\"data row8 col0\" >822134</td>\n",
              "      <td id=\"T_3e5cf_row8_col1\" class=\"data row8 col1\" >Rahul</td>\n",
              "      <td id=\"T_3e5cf_row8_col2\" class=\"data row8 col2\" >Accounts</td>\n",
              "      <td id=\"T_3e5cf_row8_col3\" class=\"data row8 col3\" >Calcutta</td>\n",
              "    </tr>\n",
              "    <tr>\n",
              "      <td id=\"T_3e5cf_row9_col0\" class=\"data row9 col0\" >989007</td>\n",
              "      <td id=\"T_3e5cf_row9_col1\" class=\"data row9 col1\" >Sourav</td>\n",
              "      <td id=\"T_3e5cf_row9_col2\" class=\"data row9 col2\" >Production</td>\n",
              "      <td id=\"T_3e5cf_row9_col3\" class=\"data row9 col3\" >Bombay</td>\n",
              "    </tr>\n",
              "    <tr>\n",
              "      <td id=\"T_3e5cf_row10_col0\" class=\"data row10 col0\" >123980</td>\n",
              "      <td id=\"T_3e5cf_row10_col1\" class=\"data row10 col1\" >Mahender</td>\n",
              "      <td id=\"T_3e5cf_row10_col2\" class=\"data row10 col2\" >Production</td>\n",
              "      <td id=\"T_3e5cf_row10_col3\" class=\"data row10 col3\" >Bombay</td>\n",
              "    </tr>\n",
              "    <tr>\n",
              "      <td id=\"T_3e5cf_row11_col0\" class=\"data row11 col0\" >349870</td>\n",
              "      <td id=\"T_3e5cf_row11_col1\" class=\"data row11 col1\" >Rani</td>\n",
              "      <td id=\"T_3e5cf_row11_col2\" class=\"data row11 col2\" >Production</td>\n",
              "      <td id=\"T_3e5cf_row11_col3\" class=\"data row11 col3\" >Bombay</td>\n",
              "    </tr>\n",
              "  </tbody>\n",
              "</table>\n"
            ]
          },
          "metadata": {},
          "execution_count": 51
        }
      ]
    },
    {
      "cell_type": "code",
      "source": [
        "sql = 'select deptname,round(sum(salary),0) payroll from empl INNER JOIN dept ON empl.deptid = dept.deptid \\\n",
        "group by deptname'\n",
        "runSelect(sql)"
      ],
      "metadata": {
        "id": "pKk82QRi28DP",
        "outputId": "f447a354-dafe-48c4-f761-161c07e76142",
        "colab": {
          "base_uri": "https://localhost:8080/",
          "height": 175
        }
      },
      "execution_count": 52,
      "outputs": [
        {
          "output_type": "execute_result",
          "data": {
            "text/plain": [
              "<pandas.io.formats.style.Styler at 0x78a4710ba140>"
            ],
            "text/html": [
              "<style type=\"text/css\">\n",
              "</style>\n",
              "<table id=\"T_d46dd\" class=\"dataframe\">\n",
              "  <thead>\n",
              "    <tr>\n",
              "      <th id=\"T_d46dd_level0_col0\" class=\"col_heading level0 col0\" >deptname</th>\n",
              "      <th id=\"T_d46dd_level0_col1\" class=\"col_heading level0 col1\" >payroll</th>\n",
              "    </tr>\n",
              "  </thead>\n",
              "  <tbody>\n",
              "    <tr>\n",
              "      <td id=\"T_d46dd_row0_col0\" class=\"data row0 col0\" >Corporate</td>\n",
              "      <td id=\"T_d46dd_row0_col1\" class=\"data row0 col1\" >150000</td>\n",
              "    </tr>\n",
              "    <tr>\n",
              "      <td id=\"T_d46dd_row1_col0\" class=\"data row1 col0\" >Accounts</td>\n",
              "      <td id=\"T_d46dd_row1_col1\" class=\"data row1 col1\" >77000</td>\n",
              "    </tr>\n",
              "    <tr>\n",
              "      <td id=\"T_d46dd_row2_col0\" class=\"data row2 col0\" >Sales</td>\n",
              "      <td id=\"T_d46dd_row2_col1\" class=\"data row2 col1\" >55000</td>\n",
              "    </tr>\n",
              "    <tr>\n",
              "      <td id=\"T_d46dd_row3_col0\" class=\"data row3 col0\" >Production</td>\n",
              "      <td id=\"T_d46dd_row3_col1\" class=\"data row3 col1\" >54000</td>\n",
              "    </tr>\n",
              "  </tbody>\n",
              "</table>\n"
            ]
          },
          "metadata": {},
          "execution_count": 52
        }
      ]
    },
    {
      "cell_type": "markdown",
      "source": [
        "## Outer Join"
      ],
      "metadata": {
        "id": "tK9uJHAL1u6x"
      }
    },
    {
      "cell_type": "markdown",
      "source": [
        "### Left Outer"
      ],
      "metadata": {
        "id": "5wGFVhyJ2x8S"
      }
    },
    {
      "cell_type": "code",
      "source": [
        "sql = 'select empid, firstname, deptname, location from empl LEFT JOIN dept ON empl.deptid = dept.deptid'\n",
        "runSelect(sql)"
      ],
      "metadata": {
        "colab": {
          "base_uri": "https://localhost:8080/",
          "height": 457
        },
        "id": "Ls6VfOXt1zTq",
        "outputId": "521dd8f4-1a28-4434-8aa3-d3746f543159"
      },
      "execution_count": 53,
      "outputs": [
        {
          "output_type": "execute_result",
          "data": {
            "text/plain": [
              "<pandas.io.formats.style.Styler at 0x78a471124160>"
            ],
            "text/html": [
              "<style type=\"text/css\">\n",
              "</style>\n",
              "<table id=\"T_38f8b\" class=\"dataframe\">\n",
              "  <thead>\n",
              "    <tr>\n",
              "      <th id=\"T_38f8b_level0_col0\" class=\"col_heading level0 col0\" >empid</th>\n",
              "      <th id=\"T_38f8b_level0_col1\" class=\"col_heading level0 col1\" >firstname</th>\n",
              "      <th id=\"T_38f8b_level0_col2\" class=\"col_heading level0 col2\" >deptname</th>\n",
              "      <th id=\"T_38f8b_level0_col3\" class=\"col_heading level0 col3\" >location</th>\n",
              "    </tr>\n",
              "  </thead>\n",
              "  <tbody>\n",
              "    <tr>\n",
              "      <td id=\"T_38f8b_row0_col0\" class=\"data row0 col0\" >546223</td>\n",
              "      <td id=\"T_38f8b_row0_col1\" class=\"data row0 col1\" >Narayan</td>\n",
              "      <td id=\"T_38f8b_row0_col2\" class=\"data row0 col2\" >Corporate</td>\n",
              "      <td id=\"T_38f8b_row0_col3\" class=\"data row0 col3\" >Calcutta</td>\n",
              "    </tr>\n",
              "    <tr>\n",
              "      <td id=\"T_38f8b_row1_col0\" class=\"data row1 col0\" >299034</td>\n",
              "      <td id=\"T_38f8b_row1_col1\" class=\"data row1 col1\" >Rekha</td>\n",
              "      <td id=\"T_38f8b_row1_col2\" class=\"data row1 col2\" >Corporate</td>\n",
              "      <td id=\"T_38f8b_row1_col3\" class=\"data row1 col3\" >Calcutta</td>\n",
              "    </tr>\n",
              "    <tr>\n",
              "      <td id=\"T_38f8b_row2_col0\" class=\"data row2 col0\" >742866</td>\n",
              "      <td id=\"T_38f8b_row2_col1\" class=\"data row2 col1\" >Amitabh</td>\n",
              "      <td id=\"T_38f8b_row2_col2\" class=\"data row2 col2\" >Corporate</td>\n",
              "      <td id=\"T_38f8b_row2_col3\" class=\"data row2 col3\" >Calcutta</td>\n",
              "    </tr>\n",
              "    <tr>\n",
              "      <td id=\"T_38f8b_row3_col0\" class=\"data row3 col0\" >897889</td>\n",
              "      <td id=\"T_38f8b_row3_col1\" class=\"data row3 col1\" >Virender</td>\n",
              "      <td id=\"T_38f8b_row3_col2\" class=\"data row3 col2\" >Sales</td>\n",
              "      <td id=\"T_38f8b_row3_col3\" class=\"data row3 col3\" >Calcutta</td>\n",
              "    </tr>\n",
              "    <tr>\n",
              "      <td id=\"T_38f8b_row4_col0\" class=\"data row4 col0\" >239456</td>\n",
              "      <td id=\"T_38f8b_row4_col1\" class=\"data row4 col1\" >Shahrukh</td>\n",
              "      <td id=\"T_38f8b_row4_col2\" class=\"data row4 col2\" >Sales</td>\n",
              "      <td id=\"T_38f8b_row4_col3\" class=\"data row4 col3\" >Calcutta</td>\n",
              "    </tr>\n",
              "    <tr>\n",
              "      <td id=\"T_38f8b_row5_col0\" class=\"data row5 col0\" >865477</td>\n",
              "      <td id=\"T_38f8b_row5_col1\" class=\"data row5 col1\" >Madhuri</td>\n",
              "      <td id=\"T_38f8b_row5_col2\" class=\"data row5 col2\" >Sales</td>\n",
              "      <td id=\"T_38f8b_row5_col3\" class=\"data row5 col3\" >Calcutta</td>\n",
              "    </tr>\n",
              "    <tr>\n",
              "      <td id=\"T_38f8b_row6_col0\" class=\"data row6 col0\" >223112</td>\n",
              "      <td id=\"T_38f8b_row6_col1\" class=\"data row6 col1\" >Sania</td>\n",
              "      <td id=\"T_38f8b_row6_col2\" class=\"data row6 col2\" >Accounts</td>\n",
              "      <td id=\"T_38f8b_row6_col3\" class=\"data row6 col3\" >Calcutta</td>\n",
              "    </tr>\n",
              "    <tr>\n",
              "      <td id=\"T_38f8b_row7_col0\" class=\"data row7 col0\" >997445</td>\n",
              "      <td id=\"T_38f8b_row7_col1\" class=\"data row7 col1\" >Jagmohan</td>\n",
              "      <td id=\"T_38f8b_row7_col2\" class=\"data row7 col2\" >Accounts</td>\n",
              "      <td id=\"T_38f8b_row7_col3\" class=\"data row7 col3\" >Calcutta</td>\n",
              "    </tr>\n",
              "    <tr>\n",
              "      <td id=\"T_38f8b_row8_col0\" class=\"data row8 col0\" >822134</td>\n",
              "      <td id=\"T_38f8b_row8_col1\" class=\"data row8 col1\" >Rahul</td>\n",
              "      <td id=\"T_38f8b_row8_col2\" class=\"data row8 col2\" >Accounts</td>\n",
              "      <td id=\"T_38f8b_row8_col3\" class=\"data row8 col3\" >Calcutta</td>\n",
              "    </tr>\n",
              "    <tr>\n",
              "      <td id=\"T_38f8b_row9_col0\" class=\"data row9 col0\" >989007</td>\n",
              "      <td id=\"T_38f8b_row9_col1\" class=\"data row9 col1\" >Sourav</td>\n",
              "      <td id=\"T_38f8b_row9_col2\" class=\"data row9 col2\" >Production</td>\n",
              "      <td id=\"T_38f8b_row9_col3\" class=\"data row9 col3\" >Bombay</td>\n",
              "    </tr>\n",
              "    <tr>\n",
              "      <td id=\"T_38f8b_row10_col0\" class=\"data row10 col0\" >123980</td>\n",
              "      <td id=\"T_38f8b_row10_col1\" class=\"data row10 col1\" >Mahender</td>\n",
              "      <td id=\"T_38f8b_row10_col2\" class=\"data row10 col2\" >Production</td>\n",
              "      <td id=\"T_38f8b_row10_col3\" class=\"data row10 col3\" >Bombay</td>\n",
              "    </tr>\n",
              "    <tr>\n",
              "      <td id=\"T_38f8b_row11_col0\" class=\"data row11 col0\" >349870</td>\n",
              "      <td id=\"T_38f8b_row11_col1\" class=\"data row11 col1\" >Rani</td>\n",
              "      <td id=\"T_38f8b_row11_col2\" class=\"data row11 col2\" >Production</td>\n",
              "      <td id=\"T_38f8b_row11_col3\" class=\"data row11 col3\" >Bombay</td>\n",
              "    </tr>\n",
              "    <tr>\n",
              "      <td id=\"T_38f8b_row12_col0\" class=\"data row12 col0\" >546224</td>\n",
              "      <td id=\"T_38f8b_row12_col1\" class=\"data row12 col1\" >Chettri</td>\n",
              "      <td id=\"T_38f8b_row12_col2\" class=\"data row12 col2\" >None</td>\n",
              "      <td id=\"T_38f8b_row12_col3\" class=\"data row12 col3\" >None</td>\n",
              "    </tr>\n",
              "  </tbody>\n",
              "</table>\n"
            ]
          },
          "metadata": {},
          "execution_count": 53
        }
      ]
    },
    {
      "cell_type": "markdown",
      "source": [
        "### Right Outer"
      ],
      "metadata": {
        "id": "iJ6DASb121Og"
      }
    },
    {
      "cell_type": "code",
      "source": [
        "sql = 'select empid, firstname, deptname, location from empl RIGHT JOIN dept ON empl.deptid = dept.deptid'\n",
        "runSelect(sql)"
      ],
      "metadata": {
        "colab": {
          "base_uri": "https://localhost:8080/",
          "height": 457
        },
        "id": "khvQpQ4E2XND",
        "outputId": "80443761-068f-4810-a96c-a63ef15c29e4"
      },
      "execution_count": 54,
      "outputs": [
        {
          "output_type": "execute_result",
          "data": {
            "text/plain": [
              "<pandas.io.formats.style.Styler at 0x78a471124190>"
            ],
            "text/html": [
              "<style type=\"text/css\">\n",
              "</style>\n",
              "<table id=\"T_50044\" class=\"dataframe\">\n",
              "  <thead>\n",
              "    <tr>\n",
              "      <th id=\"T_50044_level0_col0\" class=\"col_heading level0 col0\" >empid</th>\n",
              "      <th id=\"T_50044_level0_col1\" class=\"col_heading level0 col1\" >firstname</th>\n",
              "      <th id=\"T_50044_level0_col2\" class=\"col_heading level0 col2\" >deptname</th>\n",
              "      <th id=\"T_50044_level0_col3\" class=\"col_heading level0 col3\" >location</th>\n",
              "    </tr>\n",
              "  </thead>\n",
              "  <tbody>\n",
              "    <tr>\n",
              "      <td id=\"T_50044_row0_col0\" class=\"data row0 col0\" >546223</td>\n",
              "      <td id=\"T_50044_row0_col1\" class=\"data row0 col1\" >Narayan</td>\n",
              "      <td id=\"T_50044_row0_col2\" class=\"data row0 col2\" >Corporate</td>\n",
              "      <td id=\"T_50044_row0_col3\" class=\"data row0 col3\" >Calcutta</td>\n",
              "    </tr>\n",
              "    <tr>\n",
              "      <td id=\"T_50044_row1_col0\" class=\"data row1 col0\" >299034</td>\n",
              "      <td id=\"T_50044_row1_col1\" class=\"data row1 col1\" >Rekha</td>\n",
              "      <td id=\"T_50044_row1_col2\" class=\"data row1 col2\" >Corporate</td>\n",
              "      <td id=\"T_50044_row1_col3\" class=\"data row1 col3\" >Calcutta</td>\n",
              "    </tr>\n",
              "    <tr>\n",
              "      <td id=\"T_50044_row2_col0\" class=\"data row2 col0\" >742866</td>\n",
              "      <td id=\"T_50044_row2_col1\" class=\"data row2 col1\" >Amitabh</td>\n",
              "      <td id=\"T_50044_row2_col2\" class=\"data row2 col2\" >Corporate</td>\n",
              "      <td id=\"T_50044_row2_col3\" class=\"data row2 col3\" >Calcutta</td>\n",
              "    </tr>\n",
              "    <tr>\n",
              "      <td id=\"T_50044_row3_col0\" class=\"data row3 col0\" >897889</td>\n",
              "      <td id=\"T_50044_row3_col1\" class=\"data row3 col1\" >Virender</td>\n",
              "      <td id=\"T_50044_row3_col2\" class=\"data row3 col2\" >Sales</td>\n",
              "      <td id=\"T_50044_row3_col3\" class=\"data row3 col3\" >Calcutta</td>\n",
              "    </tr>\n",
              "    <tr>\n",
              "      <td id=\"T_50044_row4_col0\" class=\"data row4 col0\" >239456</td>\n",
              "      <td id=\"T_50044_row4_col1\" class=\"data row4 col1\" >Shahrukh</td>\n",
              "      <td id=\"T_50044_row4_col2\" class=\"data row4 col2\" >Sales</td>\n",
              "      <td id=\"T_50044_row4_col3\" class=\"data row4 col3\" >Calcutta</td>\n",
              "    </tr>\n",
              "    <tr>\n",
              "      <td id=\"T_50044_row5_col0\" class=\"data row5 col0\" >865477</td>\n",
              "      <td id=\"T_50044_row5_col1\" class=\"data row5 col1\" >Madhuri</td>\n",
              "      <td id=\"T_50044_row5_col2\" class=\"data row5 col2\" >Sales</td>\n",
              "      <td id=\"T_50044_row5_col3\" class=\"data row5 col3\" >Calcutta</td>\n",
              "    </tr>\n",
              "    <tr>\n",
              "      <td id=\"T_50044_row6_col0\" class=\"data row6 col0\" >223112</td>\n",
              "      <td id=\"T_50044_row6_col1\" class=\"data row6 col1\" >Sania</td>\n",
              "      <td id=\"T_50044_row6_col2\" class=\"data row6 col2\" >Accounts</td>\n",
              "      <td id=\"T_50044_row6_col3\" class=\"data row6 col3\" >Calcutta</td>\n",
              "    </tr>\n",
              "    <tr>\n",
              "      <td id=\"T_50044_row7_col0\" class=\"data row7 col0\" >997445</td>\n",
              "      <td id=\"T_50044_row7_col1\" class=\"data row7 col1\" >Jagmohan</td>\n",
              "      <td id=\"T_50044_row7_col2\" class=\"data row7 col2\" >Accounts</td>\n",
              "      <td id=\"T_50044_row7_col3\" class=\"data row7 col3\" >Calcutta</td>\n",
              "    </tr>\n",
              "    <tr>\n",
              "      <td id=\"T_50044_row8_col0\" class=\"data row8 col0\" >822134</td>\n",
              "      <td id=\"T_50044_row8_col1\" class=\"data row8 col1\" >Rahul</td>\n",
              "      <td id=\"T_50044_row8_col2\" class=\"data row8 col2\" >Accounts</td>\n",
              "      <td id=\"T_50044_row8_col3\" class=\"data row8 col3\" >Calcutta</td>\n",
              "    </tr>\n",
              "    <tr>\n",
              "      <td id=\"T_50044_row9_col0\" class=\"data row9 col0\" >989007</td>\n",
              "      <td id=\"T_50044_row9_col1\" class=\"data row9 col1\" >Sourav</td>\n",
              "      <td id=\"T_50044_row9_col2\" class=\"data row9 col2\" >Production</td>\n",
              "      <td id=\"T_50044_row9_col3\" class=\"data row9 col3\" >Bombay</td>\n",
              "    </tr>\n",
              "    <tr>\n",
              "      <td id=\"T_50044_row10_col0\" class=\"data row10 col0\" >123980</td>\n",
              "      <td id=\"T_50044_row10_col1\" class=\"data row10 col1\" >Mahender</td>\n",
              "      <td id=\"T_50044_row10_col2\" class=\"data row10 col2\" >Production</td>\n",
              "      <td id=\"T_50044_row10_col3\" class=\"data row10 col3\" >Bombay</td>\n",
              "    </tr>\n",
              "    <tr>\n",
              "      <td id=\"T_50044_row11_col0\" class=\"data row11 col0\" >349870</td>\n",
              "      <td id=\"T_50044_row11_col1\" class=\"data row11 col1\" >Rani</td>\n",
              "      <td id=\"T_50044_row11_col2\" class=\"data row11 col2\" >Production</td>\n",
              "      <td id=\"T_50044_row11_col3\" class=\"data row11 col3\" >Bombay</td>\n",
              "    </tr>\n",
              "    <tr>\n",
              "      <td id=\"T_50044_row12_col0\" class=\"data row12 col0\" >None</td>\n",
              "      <td id=\"T_50044_row12_col1\" class=\"data row12 col1\" >None</td>\n",
              "      <td id=\"T_50044_row12_col2\" class=\"data row12 col2\" >Research</td>\n",
              "      <td id=\"T_50044_row12_col3\" class=\"data row12 col3\" >Delhi</td>\n",
              "    </tr>\n",
              "  </tbody>\n",
              "</table>\n"
            ]
          },
          "metadata": {},
          "execution_count": 54
        }
      ]
    },
    {
      "cell_type": "markdown",
      "source": [
        "### Full Outer"
      ],
      "metadata": {
        "id": "RsEyhBBp24zy"
      }
    },
    {
      "cell_type": "code",
      "source": [
        "sql = 'select empid, firstname, deptname, location from empl FULL JOIN dept ON empl.deptid = dept.deptid'\n",
        "runSelect(sql)"
      ],
      "metadata": {
        "colab": {
          "base_uri": "https://localhost:8080/",
          "height": 488
        },
        "id": "Ipt14U9o2qFg",
        "outputId": "b7061712-082e-40fc-fb8d-0683e1259fbc"
      },
      "execution_count": 55,
      "outputs": [
        {
          "output_type": "execute_result",
          "data": {
            "text/plain": [
              "<pandas.io.formats.style.Styler at 0x78a471125660>"
            ],
            "text/html": [
              "<style type=\"text/css\">\n",
              "</style>\n",
              "<table id=\"T_23262\" class=\"dataframe\">\n",
              "  <thead>\n",
              "    <tr>\n",
              "      <th id=\"T_23262_level0_col0\" class=\"col_heading level0 col0\" >empid</th>\n",
              "      <th id=\"T_23262_level0_col1\" class=\"col_heading level0 col1\" >firstname</th>\n",
              "      <th id=\"T_23262_level0_col2\" class=\"col_heading level0 col2\" >deptname</th>\n",
              "      <th id=\"T_23262_level0_col3\" class=\"col_heading level0 col3\" >location</th>\n",
              "    </tr>\n",
              "  </thead>\n",
              "  <tbody>\n",
              "    <tr>\n",
              "      <td id=\"T_23262_row0_col0\" class=\"data row0 col0\" >546223</td>\n",
              "      <td id=\"T_23262_row0_col1\" class=\"data row0 col1\" >Narayan</td>\n",
              "      <td id=\"T_23262_row0_col2\" class=\"data row0 col2\" >Corporate</td>\n",
              "      <td id=\"T_23262_row0_col3\" class=\"data row0 col3\" >Calcutta</td>\n",
              "    </tr>\n",
              "    <tr>\n",
              "      <td id=\"T_23262_row1_col0\" class=\"data row1 col0\" >299034</td>\n",
              "      <td id=\"T_23262_row1_col1\" class=\"data row1 col1\" >Rekha</td>\n",
              "      <td id=\"T_23262_row1_col2\" class=\"data row1 col2\" >Corporate</td>\n",
              "      <td id=\"T_23262_row1_col3\" class=\"data row1 col3\" >Calcutta</td>\n",
              "    </tr>\n",
              "    <tr>\n",
              "      <td id=\"T_23262_row2_col0\" class=\"data row2 col0\" >742866</td>\n",
              "      <td id=\"T_23262_row2_col1\" class=\"data row2 col1\" >Amitabh</td>\n",
              "      <td id=\"T_23262_row2_col2\" class=\"data row2 col2\" >Corporate</td>\n",
              "      <td id=\"T_23262_row2_col3\" class=\"data row2 col3\" >Calcutta</td>\n",
              "    </tr>\n",
              "    <tr>\n",
              "      <td id=\"T_23262_row3_col0\" class=\"data row3 col0\" >897889</td>\n",
              "      <td id=\"T_23262_row3_col1\" class=\"data row3 col1\" >Virender</td>\n",
              "      <td id=\"T_23262_row3_col2\" class=\"data row3 col2\" >Sales</td>\n",
              "      <td id=\"T_23262_row3_col3\" class=\"data row3 col3\" >Calcutta</td>\n",
              "    </tr>\n",
              "    <tr>\n",
              "      <td id=\"T_23262_row4_col0\" class=\"data row4 col0\" >239456</td>\n",
              "      <td id=\"T_23262_row4_col1\" class=\"data row4 col1\" >Shahrukh</td>\n",
              "      <td id=\"T_23262_row4_col2\" class=\"data row4 col2\" >Sales</td>\n",
              "      <td id=\"T_23262_row4_col3\" class=\"data row4 col3\" >Calcutta</td>\n",
              "    </tr>\n",
              "    <tr>\n",
              "      <td id=\"T_23262_row5_col0\" class=\"data row5 col0\" >865477</td>\n",
              "      <td id=\"T_23262_row5_col1\" class=\"data row5 col1\" >Madhuri</td>\n",
              "      <td id=\"T_23262_row5_col2\" class=\"data row5 col2\" >Sales</td>\n",
              "      <td id=\"T_23262_row5_col3\" class=\"data row5 col3\" >Calcutta</td>\n",
              "    </tr>\n",
              "    <tr>\n",
              "      <td id=\"T_23262_row6_col0\" class=\"data row6 col0\" >223112</td>\n",
              "      <td id=\"T_23262_row6_col1\" class=\"data row6 col1\" >Sania</td>\n",
              "      <td id=\"T_23262_row6_col2\" class=\"data row6 col2\" >Accounts</td>\n",
              "      <td id=\"T_23262_row6_col3\" class=\"data row6 col3\" >Calcutta</td>\n",
              "    </tr>\n",
              "    <tr>\n",
              "      <td id=\"T_23262_row7_col0\" class=\"data row7 col0\" >997445</td>\n",
              "      <td id=\"T_23262_row7_col1\" class=\"data row7 col1\" >Jagmohan</td>\n",
              "      <td id=\"T_23262_row7_col2\" class=\"data row7 col2\" >Accounts</td>\n",
              "      <td id=\"T_23262_row7_col3\" class=\"data row7 col3\" >Calcutta</td>\n",
              "    </tr>\n",
              "    <tr>\n",
              "      <td id=\"T_23262_row8_col0\" class=\"data row8 col0\" >822134</td>\n",
              "      <td id=\"T_23262_row8_col1\" class=\"data row8 col1\" >Rahul</td>\n",
              "      <td id=\"T_23262_row8_col2\" class=\"data row8 col2\" >Accounts</td>\n",
              "      <td id=\"T_23262_row8_col3\" class=\"data row8 col3\" >Calcutta</td>\n",
              "    </tr>\n",
              "    <tr>\n",
              "      <td id=\"T_23262_row9_col0\" class=\"data row9 col0\" >989007</td>\n",
              "      <td id=\"T_23262_row9_col1\" class=\"data row9 col1\" >Sourav</td>\n",
              "      <td id=\"T_23262_row9_col2\" class=\"data row9 col2\" >Production</td>\n",
              "      <td id=\"T_23262_row9_col3\" class=\"data row9 col3\" >Bombay</td>\n",
              "    </tr>\n",
              "    <tr>\n",
              "      <td id=\"T_23262_row10_col0\" class=\"data row10 col0\" >123980</td>\n",
              "      <td id=\"T_23262_row10_col1\" class=\"data row10 col1\" >Mahender</td>\n",
              "      <td id=\"T_23262_row10_col2\" class=\"data row10 col2\" >Production</td>\n",
              "      <td id=\"T_23262_row10_col3\" class=\"data row10 col3\" >Bombay</td>\n",
              "    </tr>\n",
              "    <tr>\n",
              "      <td id=\"T_23262_row11_col0\" class=\"data row11 col0\" >349870</td>\n",
              "      <td id=\"T_23262_row11_col1\" class=\"data row11 col1\" >Rani</td>\n",
              "      <td id=\"T_23262_row11_col2\" class=\"data row11 col2\" >Production</td>\n",
              "      <td id=\"T_23262_row11_col3\" class=\"data row11 col3\" >Bombay</td>\n",
              "    </tr>\n",
              "    <tr>\n",
              "      <td id=\"T_23262_row12_col0\" class=\"data row12 col0\" >None</td>\n",
              "      <td id=\"T_23262_row12_col1\" class=\"data row12 col1\" >None</td>\n",
              "      <td id=\"T_23262_row12_col2\" class=\"data row12 col2\" >Research</td>\n",
              "      <td id=\"T_23262_row12_col3\" class=\"data row12 col3\" >Delhi</td>\n",
              "    </tr>\n",
              "    <tr>\n",
              "      <td id=\"T_23262_row13_col0\" class=\"data row13 col0\" >546224</td>\n",
              "      <td id=\"T_23262_row13_col1\" class=\"data row13 col1\" >Chettri</td>\n",
              "      <td id=\"T_23262_row13_col2\" class=\"data row13 col2\" >None</td>\n",
              "      <td id=\"T_23262_row13_col3\" class=\"data row13 col3\" >None</td>\n",
              "    </tr>\n",
              "  </tbody>\n",
              "</table>\n"
            ]
          },
          "metadata": {},
          "execution_count": 55
        }
      ]
    },
    {
      "cell_type": "code",
      "source": [
        "sql = 'select deptname,round(sum(salary),0) payroll from empl FULL JOIN dept ON empl.deptid = dept.deptid \\\n",
        "group by deptname'\n",
        "runSelect(sql)"
      ],
      "metadata": {
        "id": "EAI2kiYP3p9O",
        "outputId": "c1eb57fd-06fd-4ea0-961c-0fc82cca0ba4",
        "colab": {
          "base_uri": "https://localhost:8080/",
          "height": 238
        }
      },
      "execution_count": 56,
      "outputs": [
        {
          "output_type": "execute_result",
          "data": {
            "text/plain": [
              "<pandas.io.formats.style.Styler at 0x78a471126260>"
            ],
            "text/html": [
              "<style type=\"text/css\">\n",
              "</style>\n",
              "<table id=\"T_cd8cf\" class=\"dataframe\">\n",
              "  <thead>\n",
              "    <tr>\n",
              "      <th id=\"T_cd8cf_level0_col0\" class=\"col_heading level0 col0\" >deptname</th>\n",
              "      <th id=\"T_cd8cf_level0_col1\" class=\"col_heading level0 col1\" >payroll</th>\n",
              "    </tr>\n",
              "  </thead>\n",
              "  <tbody>\n",
              "    <tr>\n",
              "      <td id=\"T_cd8cf_row0_col0\" class=\"data row0 col0\" >None</td>\n",
              "      <td id=\"T_cd8cf_row0_col1\" class=\"data row0 col1\" >40000</td>\n",
              "    </tr>\n",
              "    <tr>\n",
              "      <td id=\"T_cd8cf_row1_col0\" class=\"data row1 col0\" >Research</td>\n",
              "      <td id=\"T_cd8cf_row1_col1\" class=\"data row1 col1\" >None</td>\n",
              "    </tr>\n",
              "    <tr>\n",
              "      <td id=\"T_cd8cf_row2_col0\" class=\"data row2 col0\" >Corporate</td>\n",
              "      <td id=\"T_cd8cf_row2_col1\" class=\"data row2 col1\" >150000</td>\n",
              "    </tr>\n",
              "    <tr>\n",
              "      <td id=\"T_cd8cf_row3_col0\" class=\"data row3 col0\" >Accounts</td>\n",
              "      <td id=\"T_cd8cf_row3_col1\" class=\"data row3 col1\" >77000</td>\n",
              "    </tr>\n",
              "    <tr>\n",
              "      <td id=\"T_cd8cf_row4_col0\" class=\"data row4 col0\" >Sales</td>\n",
              "      <td id=\"T_cd8cf_row4_col1\" class=\"data row4 col1\" >55000</td>\n",
              "    </tr>\n",
              "    <tr>\n",
              "      <td id=\"T_cd8cf_row5_col0\" class=\"data row5 col0\" >Production</td>\n",
              "      <td id=\"T_cd8cf_row5_col1\" class=\"data row5 col1\" >54000</td>\n",
              "    </tr>\n",
              "  </tbody>\n",
              "</table>\n"
            ]
          },
          "metadata": {},
          "execution_count": 56
        }
      ]
    },
    {
      "cell_type": "markdown",
      "source": [
        "## Recursive Joins"
      ],
      "metadata": {
        "id": "6nm2xAfn6pIV"
      }
    },
    {
      "cell_type": "markdown",
      "source": [
        "### Three Tables"
      ],
      "metadata": {
        "id": "A1KCGwwyB02z"
      }
    },
    {
      "cell_type": "code",
      "source": [
        "cmd = \"select w.lastname , w.deptID, '>' linksTo  , d.deptID ,d.managerID,'<' linksTo, m.empID, m.lastname \\\n",
        "        from Empl w, Dept d, Empl m \\\n",
        "        where w.deptID = d.deptID   \\\n",
        "        and d.managerID = m.empID \\\n",
        "    \"\n",
        "runSelect(cmd)"
      ],
      "metadata": {
        "colab": {
          "base_uri": "https://localhost:8080/",
          "height": 426
        },
        "id": "W17nS5R7AL0J",
        "outputId": "0bff3147-0b14-4ebd-8a26-7472a69a3c41"
      },
      "execution_count": 57,
      "outputs": [
        {
          "output_type": "execute_result",
          "data": {
            "text/plain": [
              "<pandas.io.formats.style.Styler at 0x78a471125f90>"
            ],
            "text/html": [
              "<style type=\"text/css\">\n",
              "</style>\n",
              "<table id=\"T_a5144\" class=\"dataframe\">\n",
              "  <thead>\n",
              "    <tr>\n",
              "      <th id=\"T_a5144_level0_col0\" class=\"col_heading level0 col0\" >lastname</th>\n",
              "      <th id=\"T_a5144_level0_col1\" class=\"col_heading level0 col1\" >deptid</th>\n",
              "      <th id=\"T_a5144_level0_col2\" class=\"col_heading level0 col2\" >linksto</th>\n",
              "      <th id=\"T_a5144_level0_col3\" class=\"col_heading level0 col3\" >deptid</th>\n",
              "      <th id=\"T_a5144_level0_col4\" class=\"col_heading level0 col4\" >managerid</th>\n",
              "      <th id=\"T_a5144_level0_col5\" class=\"col_heading level0 col5\" >linksto</th>\n",
              "      <th id=\"T_a5144_level0_col6\" class=\"col_heading level0 col6\" >empid</th>\n",
              "      <th id=\"T_a5144_level0_col7\" class=\"col_heading level0 col7\" >lastname</th>\n",
              "    </tr>\n",
              "  </thead>\n",
              "  <tbody>\n",
              "    <tr>\n",
              "      <td id=\"T_a5144_row0_col0\" class=\"data row0 col0\" >Karthikeyan</td>\n",
              "      <td id=\"T_a5144_row0_col1\" class=\"data row0 col1\" >10</td>\n",
              "      <td id=\"T_a5144_row0_col2\" class=\"data row0 col2\" >></td>\n",
              "      <td id=\"T_a5144_row0_col3\" class=\"data row0 col3\" >10</td>\n",
              "      <td id=\"T_a5144_row0_col4\" class=\"data row0 col4\" >299034</td>\n",
              "      <td id=\"T_a5144_row0_col5\" class=\"data row0 col5\" ><</td>\n",
              "      <td id=\"T_a5144_row0_col6\" class=\"data row0 col6\" >299034</td>\n",
              "      <td id=\"T_a5144_row0_col7\" class=\"data row0 col7\" >Ganesan</td>\n",
              "    </tr>\n",
              "    <tr>\n",
              "      <td id=\"T_a5144_row1_col0\" class=\"data row1 col0\" >Ganesan</td>\n",
              "      <td id=\"T_a5144_row1_col1\" class=\"data row1 col1\" >10</td>\n",
              "      <td id=\"T_a5144_row1_col2\" class=\"data row1 col2\" >></td>\n",
              "      <td id=\"T_a5144_row1_col3\" class=\"data row1 col3\" >10</td>\n",
              "      <td id=\"T_a5144_row1_col4\" class=\"data row1 col4\" >299034</td>\n",
              "      <td id=\"T_a5144_row1_col5\" class=\"data row1 col5\" ><</td>\n",
              "      <td id=\"T_a5144_row1_col6\" class=\"data row1 col6\" >299034</td>\n",
              "      <td id=\"T_a5144_row1_col7\" class=\"data row1 col7\" >Ganesan</td>\n",
              "    </tr>\n",
              "    <tr>\n",
              "      <td id=\"T_a5144_row2_col0\" class=\"data row2 col0\" >Bacchan</td>\n",
              "      <td id=\"T_a5144_row2_col1\" class=\"data row2 col1\" >10</td>\n",
              "      <td id=\"T_a5144_row2_col2\" class=\"data row2 col2\" >></td>\n",
              "      <td id=\"T_a5144_row2_col3\" class=\"data row2 col3\" >10</td>\n",
              "      <td id=\"T_a5144_row2_col4\" class=\"data row2 col4\" >299034</td>\n",
              "      <td id=\"T_a5144_row2_col5\" class=\"data row2 col5\" ><</td>\n",
              "      <td id=\"T_a5144_row2_col6\" class=\"data row2 col6\" >299034</td>\n",
              "      <td id=\"T_a5144_row2_col7\" class=\"data row2 col7\" >Ganesan</td>\n",
              "    </tr>\n",
              "    <tr>\n",
              "      <td id=\"T_a5144_row3_col0\" class=\"data row3 col0\" >Sehwag</td>\n",
              "      <td id=\"T_a5144_row3_col1\" class=\"data row3 col1\" >20</td>\n",
              "      <td id=\"T_a5144_row3_col2\" class=\"data row3 col2\" >></td>\n",
              "      <td id=\"T_a5144_row3_col3\" class=\"data row3 col3\" >20</td>\n",
              "      <td id=\"T_a5144_row3_col4\" class=\"data row3 col4\" >239456</td>\n",
              "      <td id=\"T_a5144_row3_col5\" class=\"data row3 col5\" ><</td>\n",
              "      <td id=\"T_a5144_row3_col6\" class=\"data row3 col6\" >239456</td>\n",
              "      <td id=\"T_a5144_row3_col7\" class=\"data row3 col7\" >Khan</td>\n",
              "    </tr>\n",
              "    <tr>\n",
              "      <td id=\"T_a5144_row4_col0\" class=\"data row4 col0\" >Khan</td>\n",
              "      <td id=\"T_a5144_row4_col1\" class=\"data row4 col1\" >20</td>\n",
              "      <td id=\"T_a5144_row4_col2\" class=\"data row4 col2\" >></td>\n",
              "      <td id=\"T_a5144_row4_col3\" class=\"data row4 col3\" >20</td>\n",
              "      <td id=\"T_a5144_row4_col4\" class=\"data row4 col4\" >239456</td>\n",
              "      <td id=\"T_a5144_row4_col5\" class=\"data row4 col5\" ><</td>\n",
              "      <td id=\"T_a5144_row4_col6\" class=\"data row4 col6\" >239456</td>\n",
              "      <td id=\"T_a5144_row4_col7\" class=\"data row4 col7\" >Khan</td>\n",
              "    </tr>\n",
              "    <tr>\n",
              "      <td id=\"T_a5144_row5_col0\" class=\"data row5 col0\" >Dikshit</td>\n",
              "      <td id=\"T_a5144_row5_col1\" class=\"data row5 col1\" >20</td>\n",
              "      <td id=\"T_a5144_row5_col2\" class=\"data row5 col2\" >></td>\n",
              "      <td id=\"T_a5144_row5_col3\" class=\"data row5 col3\" >20</td>\n",
              "      <td id=\"T_a5144_row5_col4\" class=\"data row5 col4\" >239456</td>\n",
              "      <td id=\"T_a5144_row5_col5\" class=\"data row5 col5\" ><</td>\n",
              "      <td id=\"T_a5144_row5_col6\" class=\"data row5 col6\" >239456</td>\n",
              "      <td id=\"T_a5144_row5_col7\" class=\"data row5 col7\" >Khan</td>\n",
              "    </tr>\n",
              "    <tr>\n",
              "      <td id=\"T_a5144_row6_col0\" class=\"data row6 col0\" >Mirza</td>\n",
              "      <td id=\"T_a5144_row6_col1\" class=\"data row6 col1\" >30</td>\n",
              "      <td id=\"T_a5144_row6_col2\" class=\"data row6 col2\" >></td>\n",
              "      <td id=\"T_a5144_row6_col3\" class=\"data row6 col3\" >30</td>\n",
              "      <td id=\"T_a5144_row6_col4\" class=\"data row6 col4\" >822134</td>\n",
              "      <td id=\"T_a5144_row6_col5\" class=\"data row6 col5\" ><</td>\n",
              "      <td id=\"T_a5144_row6_col6\" class=\"data row6 col6\" >822134</td>\n",
              "      <td id=\"T_a5144_row6_col7\" class=\"data row6 col7\" >Dravid</td>\n",
              "    </tr>\n",
              "    <tr>\n",
              "      <td id=\"T_a5144_row7_col0\" class=\"data row7 col0\" >Dalmia</td>\n",
              "      <td id=\"T_a5144_row7_col1\" class=\"data row7 col1\" >30</td>\n",
              "      <td id=\"T_a5144_row7_col2\" class=\"data row7 col2\" >></td>\n",
              "      <td id=\"T_a5144_row7_col3\" class=\"data row7 col3\" >30</td>\n",
              "      <td id=\"T_a5144_row7_col4\" class=\"data row7 col4\" >822134</td>\n",
              "      <td id=\"T_a5144_row7_col5\" class=\"data row7 col5\" ><</td>\n",
              "      <td id=\"T_a5144_row7_col6\" class=\"data row7 col6\" >822134</td>\n",
              "      <td id=\"T_a5144_row7_col7\" class=\"data row7 col7\" >Dravid</td>\n",
              "    </tr>\n",
              "    <tr>\n",
              "      <td id=\"T_a5144_row8_col0\" class=\"data row8 col0\" >Dravid</td>\n",
              "      <td id=\"T_a5144_row8_col1\" class=\"data row8 col1\" >30</td>\n",
              "      <td id=\"T_a5144_row8_col2\" class=\"data row8 col2\" >></td>\n",
              "      <td id=\"T_a5144_row8_col3\" class=\"data row8 col3\" >30</td>\n",
              "      <td id=\"T_a5144_row8_col4\" class=\"data row8 col4\" >822134</td>\n",
              "      <td id=\"T_a5144_row8_col5\" class=\"data row8 col5\" ><</td>\n",
              "      <td id=\"T_a5144_row8_col6\" class=\"data row8 col6\" >822134</td>\n",
              "      <td id=\"T_a5144_row8_col7\" class=\"data row8 col7\" >Dravid</td>\n",
              "    </tr>\n",
              "    <tr>\n",
              "      <td id=\"T_a5144_row9_col0\" class=\"data row9 col0\" >Ganguly</td>\n",
              "      <td id=\"T_a5144_row9_col1\" class=\"data row9 col1\" >40</td>\n",
              "      <td id=\"T_a5144_row9_col2\" class=\"data row9 col2\" >></td>\n",
              "      <td id=\"T_a5144_row9_col3\" class=\"data row9 col3\" >40</td>\n",
              "      <td id=\"T_a5144_row9_col4\" class=\"data row9 col4\" >349870</td>\n",
              "      <td id=\"T_a5144_row9_col5\" class=\"data row9 col5\" ><</td>\n",
              "      <td id=\"T_a5144_row9_col6\" class=\"data row9 col6\" >349870</td>\n",
              "      <td id=\"T_a5144_row9_col7\" class=\"data row9 col7\" >Mukherjee</td>\n",
              "    </tr>\n",
              "    <tr>\n",
              "      <td id=\"T_a5144_row10_col0\" class=\"data row10 col0\" >Dhoni</td>\n",
              "      <td id=\"T_a5144_row10_col1\" class=\"data row10 col1\" >40</td>\n",
              "      <td id=\"T_a5144_row10_col2\" class=\"data row10 col2\" >></td>\n",
              "      <td id=\"T_a5144_row10_col3\" class=\"data row10 col3\" >40</td>\n",
              "      <td id=\"T_a5144_row10_col4\" class=\"data row10 col4\" >349870</td>\n",
              "      <td id=\"T_a5144_row10_col5\" class=\"data row10 col5\" ><</td>\n",
              "      <td id=\"T_a5144_row10_col6\" class=\"data row10 col6\" >349870</td>\n",
              "      <td id=\"T_a5144_row10_col7\" class=\"data row10 col7\" >Mukherjee</td>\n",
              "    </tr>\n",
              "    <tr>\n",
              "      <td id=\"T_a5144_row11_col0\" class=\"data row11 col0\" >Mukherjee</td>\n",
              "      <td id=\"T_a5144_row11_col1\" class=\"data row11 col1\" >40</td>\n",
              "      <td id=\"T_a5144_row11_col2\" class=\"data row11 col2\" >></td>\n",
              "      <td id=\"T_a5144_row11_col3\" class=\"data row11 col3\" >40</td>\n",
              "      <td id=\"T_a5144_row11_col4\" class=\"data row11 col4\" >349870</td>\n",
              "      <td id=\"T_a5144_row11_col5\" class=\"data row11 col5\" ><</td>\n",
              "      <td id=\"T_a5144_row11_col6\" class=\"data row11 col6\" >349870</td>\n",
              "      <td id=\"T_a5144_row11_col7\" class=\"data row11 col7\" >Mukherjee</td>\n",
              "    </tr>\n",
              "  </tbody>\n",
              "</table>\n"
            ]
          },
          "metadata": {},
          "execution_count": 57
        }
      ]
    },
    {
      "cell_type": "markdown",
      "source": [
        "### Self Join / Single Table"
      ],
      "metadata": {
        "id": "jeknsMbjCA2A"
      }
    },
    {
      "cell_type": "code",
      "source": [
        "cmd = \"Select w.FirstName, w.JobDesc, w.DeptID, \\\n",
        "    ' hired by ' hiredby, \\\n",
        "    m.FirstName,m.JobDesc,m.DeptID \\\n",
        "    from empl w, empl m \\\n",
        "    where w.HiredBy = m.EmpID\"\n",
        "\n",
        "runSelect(cmd)"
      ],
      "metadata": {
        "colab": {
          "base_uri": "https://localhost:8080/",
          "height": 426
        },
        "id": "iDPmUw9-CEBH",
        "outputId": "1112e50e-5e66-4b5b-d07b-1823b9316bc1"
      },
      "execution_count": 58,
      "outputs": [
        {
          "output_type": "execute_result",
          "data": {
            "text/plain": [
              "<pandas.io.formats.style.Styler at 0x78a47109ed40>"
            ],
            "text/html": [
              "<style type=\"text/css\">\n",
              "</style>\n",
              "<table id=\"T_86318\" class=\"dataframe\">\n",
              "  <thead>\n",
              "    <tr>\n",
              "      <th id=\"T_86318_level0_col0\" class=\"col_heading level0 col0\" >firstname</th>\n",
              "      <th id=\"T_86318_level0_col1\" class=\"col_heading level0 col1\" >jobdesc</th>\n",
              "      <th id=\"T_86318_level0_col2\" class=\"col_heading level0 col2\" >deptid</th>\n",
              "      <th id=\"T_86318_level0_col3\" class=\"col_heading level0 col3\" >hiredby</th>\n",
              "      <th id=\"T_86318_level0_col4\" class=\"col_heading level0 col4\" >firstname</th>\n",
              "      <th id=\"T_86318_level0_col5\" class=\"col_heading level0 col5\" >jobdesc</th>\n",
              "      <th id=\"T_86318_level0_col6\" class=\"col_heading level0 col6\" >deptid</th>\n",
              "    </tr>\n",
              "  </thead>\n",
              "  <tbody>\n",
              "    <tr>\n",
              "      <td id=\"T_86318_row0_col0\" class=\"data row0 col0\" >Rani</td>\n",
              "      <td id=\"T_86318_row0_col1\" class=\"data row0 col1\" >Manager</td>\n",
              "      <td id=\"T_86318_row0_col2\" class=\"data row0 col2\" >40</td>\n",
              "      <td id=\"T_86318_row0_col3\" class=\"data row0 col3\" > hired by </td>\n",
              "      <td id=\"T_86318_row0_col4\" class=\"data row0 col4\" >Amitabh</td>\n",
              "      <td id=\"T_86318_row0_col5\" class=\"data row0 col5\" >Executive</td>\n",
              "      <td id=\"T_86318_row0_col6\" class=\"data row0 col6\" >10</td>\n",
              "    </tr>\n",
              "    <tr>\n",
              "      <td id=\"T_86318_row1_col0\" class=\"data row1 col0\" >Madhuri</td>\n",
              "      <td id=\"T_86318_row1_col1\" class=\"data row1 col1\" >Clerk</td>\n",
              "      <td id=\"T_86318_row1_col2\" class=\"data row1 col2\" >20</td>\n",
              "      <td id=\"T_86318_row1_col3\" class=\"data row1 col3\" > hired by </td>\n",
              "      <td id=\"T_86318_row1_col4\" class=\"data row1 col4\" >Shahrukh</td>\n",
              "      <td id=\"T_86318_row1_col5\" class=\"data row1 col5\" >Manager</td>\n",
              "      <td id=\"T_86318_row1_col6\" class=\"data row1 col6\" >20</td>\n",
              "    </tr>\n",
              "    <tr>\n",
              "      <td id=\"T_86318_row2_col0\" class=\"data row2 col0\" >Shahrukh</td>\n",
              "      <td id=\"T_86318_row2_col1\" class=\"data row2 col1\" >Manager</td>\n",
              "      <td id=\"T_86318_row2_col2\" class=\"data row2 col2\" >20</td>\n",
              "      <td id=\"T_86318_row2_col3\" class=\"data row2 col3\" > hired by </td>\n",
              "      <td id=\"T_86318_row2_col4\" class=\"data row2 col4\" >Amitabh</td>\n",
              "      <td id=\"T_86318_row2_col5\" class=\"data row2 col5\" >Executive</td>\n",
              "      <td id=\"T_86318_row2_col6\" class=\"data row2 col6\" >10</td>\n",
              "    </tr>\n",
              "    <tr>\n",
              "      <td id=\"T_86318_row3_col0\" class=\"data row3 col0\" >Virender</td>\n",
              "      <td id=\"T_86318_row3_col1\" class=\"data row3 col1\" >Cus_Rep</td>\n",
              "      <td id=\"T_86318_row3_col2\" class=\"data row3 col2\" >20</td>\n",
              "      <td id=\"T_86318_row3_col3\" class=\"data row3 col3\" > hired by </td>\n",
              "      <td id=\"T_86318_row3_col4\" class=\"data row3 col4\" >Shahrukh</td>\n",
              "      <td id=\"T_86318_row3_col5\" class=\"data row3 col5\" >Manager</td>\n",
              "      <td id=\"T_86318_row3_col6\" class=\"data row3 col6\" >20</td>\n",
              "    </tr>\n",
              "    <tr>\n",
              "      <td id=\"T_86318_row4_col0\" class=\"data row4 col0\" >Mahender</td>\n",
              "      <td id=\"T_86318_row4_col1\" class=\"data row4 col1\" >Clerk</td>\n",
              "      <td id=\"T_86318_row4_col2\" class=\"data row4 col2\" >40</td>\n",
              "      <td id=\"T_86318_row4_col3\" class=\"data row4 col3\" > hired by </td>\n",
              "      <td id=\"T_86318_row4_col4\" class=\"data row4 col4\" >Rani</td>\n",
              "      <td id=\"T_86318_row4_col5\" class=\"data row4 col5\" >Manager</td>\n",
              "      <td id=\"T_86318_row4_col6\" class=\"data row4 col6\" >40</td>\n",
              "    </tr>\n",
              "    <tr>\n",
              "      <td id=\"T_86318_row5_col0\" class=\"data row5 col0\" >Rahul</td>\n",
              "      <td id=\"T_86318_row5_col1\" class=\"data row5 col1\" >Sr Manager</td>\n",
              "      <td id=\"T_86318_row5_col2\" class=\"data row5 col2\" >30</td>\n",
              "      <td id=\"T_86318_row5_col3\" class=\"data row5 col3\" > hired by </td>\n",
              "      <td id=\"T_86318_row5_col4\" class=\"data row5 col4\" >Amitabh</td>\n",
              "      <td id=\"T_86318_row5_col5\" class=\"data row5 col5\" >Executive</td>\n",
              "      <td id=\"T_86318_row5_col6\" class=\"data row5 col6\" >10</td>\n",
              "    </tr>\n",
              "    <tr>\n",
              "      <td id=\"T_86318_row6_col0\" class=\"data row6 col0\" >Jagmohan</td>\n",
              "      <td id=\"T_86318_row6_col1\" class=\"data row6 col1\" >Clerk</td>\n",
              "      <td id=\"T_86318_row6_col2\" class=\"data row6 col2\" >30</td>\n",
              "      <td id=\"T_86318_row6_col3\" class=\"data row6 col3\" > hired by </td>\n",
              "      <td id=\"T_86318_row6_col4\" class=\"data row6 col4\" >Rahul</td>\n",
              "      <td id=\"T_86318_row6_col5\" class=\"data row6 col5\" >Sr Manager</td>\n",
              "      <td id=\"T_86318_row6_col6\" class=\"data row6 col6\" >30</td>\n",
              "    </tr>\n",
              "    <tr>\n",
              "      <td id=\"T_86318_row7_col0\" class=\"data row7 col0\" >Sourav</td>\n",
              "      <td id=\"T_86318_row7_col1\" class=\"data row7 col1\" >Cus_Rep</td>\n",
              "      <td id=\"T_86318_row7_col2\" class=\"data row7 col2\" >40</td>\n",
              "      <td id=\"T_86318_row7_col3\" class=\"data row7 col3\" > hired by </td>\n",
              "      <td id=\"T_86318_row7_col4\" class=\"data row7 col4\" >Rekha</td>\n",
              "      <td id=\"T_86318_row7_col5\" class=\"data row7 col5\" >Director</td>\n",
              "      <td id=\"T_86318_row7_col6\" class=\"data row7 col6\" >10</td>\n",
              "    </tr>\n",
              "    <tr>\n",
              "      <td id=\"T_86318_row8_col0\" class=\"data row8 col0\" >Rekha</td>\n",
              "      <td id=\"T_86318_row8_col1\" class=\"data row8 col1\" >Director</td>\n",
              "      <td id=\"T_86318_row8_col2\" class=\"data row8 col2\" >10</td>\n",
              "      <td id=\"T_86318_row8_col3\" class=\"data row8 col3\" > hired by </td>\n",
              "      <td id=\"T_86318_row8_col4\" class=\"data row8 col4\" >Amitabh</td>\n",
              "      <td id=\"T_86318_row8_col5\" class=\"data row8 col5\" >Executive</td>\n",
              "      <td id=\"T_86318_row8_col6\" class=\"data row8 col6\" >10</td>\n",
              "    </tr>\n",
              "    <tr>\n",
              "      <td id=\"T_86318_row9_col0\" class=\"data row9 col0\" >Narayan</td>\n",
              "      <td id=\"T_86318_row9_col1\" class=\"data row9 col1\" >Secretary</td>\n",
              "      <td id=\"T_86318_row9_col2\" class=\"data row9 col2\" >10</td>\n",
              "      <td id=\"T_86318_row9_col3\" class=\"data row9 col3\" > hired by </td>\n",
              "      <td id=\"T_86318_row9_col4\" class=\"data row9 col4\" >Rekha</td>\n",
              "      <td id=\"T_86318_row9_col5\" class=\"data row9 col5\" >Director</td>\n",
              "      <td id=\"T_86318_row9_col6\" class=\"data row9 col6\" >10</td>\n",
              "    </tr>\n",
              "    <tr>\n",
              "      <td id=\"T_86318_row10_col0\" class=\"data row10 col0\" >Chettri</td>\n",
              "      <td id=\"T_86318_row10_col1\" class=\"data row10 col1\" >Dy Manager</td>\n",
              "      <td id=\"T_86318_row10_col2\" class=\"data row10 col2\" >70</td>\n",
              "      <td id=\"T_86318_row10_col3\" class=\"data row10 col3\" > hired by </td>\n",
              "      <td id=\"T_86318_row10_col4\" class=\"data row10 col4\" >Rani</td>\n",
              "      <td id=\"T_86318_row10_col5\" class=\"data row10 col5\" >Manager</td>\n",
              "      <td id=\"T_86318_row10_col6\" class=\"data row10 col6\" >40</td>\n",
              "    </tr>\n",
              "    <tr>\n",
              "      <td id=\"T_86318_row11_col0\" class=\"data row11 col0\" >Sania</td>\n",
              "      <td id=\"T_86318_row11_col1\" class=\"data row11 col1\" >Cus_Rep</td>\n",
              "      <td id=\"T_86318_row11_col2\" class=\"data row11 col2\" >30</td>\n",
              "      <td id=\"T_86318_row11_col3\" class=\"data row11 col3\" > hired by </td>\n",
              "      <td id=\"T_86318_row11_col4\" class=\"data row11 col4\" >Rahul</td>\n",
              "      <td id=\"T_86318_row11_col5\" class=\"data row11 col5\" >Sr Manager</td>\n",
              "      <td id=\"T_86318_row11_col6\" class=\"data row11 col6\" >30</td>\n",
              "    </tr>\n",
              "  </tbody>\n",
              "</table>\n"
            ]
          },
          "metadata": {},
          "execution_count": 58
        }
      ]
    },
    {
      "cell_type": "markdown",
      "source": [
        "#Subquery"
      ],
      "metadata": {
        "id": "tXDgw1RBzUf-"
      }
    },
    {
      "cell_type": "code",
      "source": [
        "sql = \"select lastname, salary, jobdesc, deptid from empl where \\\n",
        "salary = (select max(salary) from empl where deptid = '20') \\\n",
        "and deptid = '20'\"\n",
        "\n",
        "runSelect(sql)"
      ],
      "metadata": {
        "colab": {
          "base_uri": "https://localhost:8080/",
          "height": 81
        },
        "id": "SxQqgOcHzYTF",
        "outputId": "1dc1dde7-3bb7-4b6b-c6ad-106808569b1f"
      },
      "execution_count": 59,
      "outputs": [
        {
          "output_type": "execute_result",
          "data": {
            "text/plain": [
              "<pandas.io.formats.style.Styler at 0x78a471127760>"
            ],
            "text/html": [
              "<style type=\"text/css\">\n",
              "</style>\n",
              "<table id=\"T_f0307\" class=\"dataframe\">\n",
              "  <thead>\n",
              "    <tr>\n",
              "      <th id=\"T_f0307_level0_col0\" class=\"col_heading level0 col0\" >lastname</th>\n",
              "      <th id=\"T_f0307_level0_col1\" class=\"col_heading level0 col1\" >salary</th>\n",
              "      <th id=\"T_f0307_level0_col2\" class=\"col_heading level0 col2\" >jobdesc</th>\n",
              "      <th id=\"T_f0307_level0_col3\" class=\"col_heading level0 col3\" >deptid</th>\n",
              "    </tr>\n",
              "  </thead>\n",
              "  <tbody>\n",
              "    <tr>\n",
              "      <td id=\"T_f0307_row0_col0\" class=\"data row0 col0\" >Khan</td>\n",
              "      <td id=\"T_f0307_row0_col1\" class=\"data row0 col1\" >30000</td>\n",
              "      <td id=\"T_f0307_row0_col2\" class=\"data row0 col2\" >Manager</td>\n",
              "      <td id=\"T_f0307_row0_col3\" class=\"data row0 col3\" >20</td>\n",
              "    </tr>\n",
              "  </tbody>\n",
              "</table>\n"
            ]
          },
          "metadata": {},
          "execution_count": 59
        }
      ]
    },
    {
      "cell_type": "code",
      "source": [
        "sql = \"select lastname, salary, jobdesc, deptid from empl where salary < (select avg(salary) from empl where deptid = '20')\\\n",
        "and deptid = '20'\"\n",
        "runSelect(sql)"
      ],
      "metadata": {
        "colab": {
          "base_uri": "https://localhost:8080/",
          "height": 112
        },
        "id": "oEhaMtyLz3Tm",
        "outputId": "f18d1b34-c148-4e35-b57c-23b857cfa3bb"
      },
      "execution_count": 60,
      "outputs": [
        {
          "output_type": "execute_result",
          "data": {
            "text/plain": [
              "<pandas.io.formats.style.Styler at 0x78a471126860>"
            ],
            "text/html": [
              "<style type=\"text/css\">\n",
              "</style>\n",
              "<table id=\"T_01f8e\" class=\"dataframe\">\n",
              "  <thead>\n",
              "    <tr>\n",
              "      <th id=\"T_01f8e_level0_col0\" class=\"col_heading level0 col0\" >lastname</th>\n",
              "      <th id=\"T_01f8e_level0_col1\" class=\"col_heading level0 col1\" >salary</th>\n",
              "      <th id=\"T_01f8e_level0_col2\" class=\"col_heading level0 col2\" >jobdesc</th>\n",
              "      <th id=\"T_01f8e_level0_col3\" class=\"col_heading level0 col3\" >deptid</th>\n",
              "    </tr>\n",
              "  </thead>\n",
              "  <tbody>\n",
              "    <tr>\n",
              "      <td id=\"T_01f8e_row0_col0\" class=\"data row0 col0\" >Dikshit</td>\n",
              "      <td id=\"T_01f8e_row0_col1\" class=\"data row0 col1\" >10000</td>\n",
              "      <td id=\"T_01f8e_row0_col2\" class=\"data row0 col2\" >Clerk</td>\n",
              "      <td id=\"T_01f8e_row0_col3\" class=\"data row0 col3\" >20</td>\n",
              "    </tr>\n",
              "    <tr>\n",
              "      <td id=\"T_01f8e_row1_col0\" class=\"data row1 col0\" >Sehwag</td>\n",
              "      <td id=\"T_01f8e_row1_col1\" class=\"data row1 col1\" >15000</td>\n",
              "      <td id=\"T_01f8e_row1_col2\" class=\"data row1 col2\" >Cus_Rep</td>\n",
              "      <td id=\"T_01f8e_row1_col3\" class=\"data row1 col3\" >20</td>\n",
              "    </tr>\n",
              "  </tbody>\n",
              "</table>\n"
            ]
          },
          "metadata": {},
          "execution_count": 60
        }
      ]
    },
    {
      "cell_type": "markdown",
      "source": [
        "#Window Functions"
      ],
      "metadata": {
        "id": "p1v2XtGa1QOq"
      }
    },
    {
      "cell_type": "code",
      "source": [
        "sql = \"select deptid, lastname, salary, \\\n",
        "    avg(salary) over (partition by deptid) \\\n",
        "    from empl\"\n",
        "runSelect(sql)"
      ],
      "metadata": {
        "colab": {
          "base_uri": "https://localhost:8080/",
          "height": 457
        },
        "id": "ffpu5hXo1TfJ",
        "outputId": "ac204799-3321-48d2-d638-7694a39caa3c"
      },
      "execution_count": 61,
      "outputs": [
        {
          "output_type": "execute_result",
          "data": {
            "text/plain": [
              "<pandas.io.formats.style.Styler at 0x78a471150400>"
            ],
            "text/html": [
              "<style type=\"text/css\">\n",
              "</style>\n",
              "<table id=\"T_f1239\" class=\"dataframe\">\n",
              "  <thead>\n",
              "    <tr>\n",
              "      <th id=\"T_f1239_level0_col0\" class=\"col_heading level0 col0\" >deptid</th>\n",
              "      <th id=\"T_f1239_level0_col1\" class=\"col_heading level0 col1\" >lastname</th>\n",
              "      <th id=\"T_f1239_level0_col2\" class=\"col_heading level0 col2\" >salary</th>\n",
              "      <th id=\"T_f1239_level0_col3\" class=\"col_heading level0 col3\" >avg</th>\n",
              "    </tr>\n",
              "  </thead>\n",
              "  <tbody>\n",
              "    <tr>\n",
              "      <td id=\"T_f1239_row0_col0\" class=\"data row0 col0\" >10</td>\n",
              "      <td id=\"T_f1239_row0_col1\" class=\"data row0 col1\" >Bacchan</td>\n",
              "      <td id=\"T_f1239_row0_col2\" class=\"data row0 col2\" >50000</td>\n",
              "      <td id=\"T_f1239_row0_col3\" class=\"data row0 col3\" >50000.000000000000</td>\n",
              "    </tr>\n",
              "    <tr>\n",
              "      <td id=\"T_f1239_row1_col0\" class=\"data row1 col0\" >10</td>\n",
              "      <td id=\"T_f1239_row1_col1\" class=\"data row1 col1\" >Ganesan</td>\n",
              "      <td id=\"T_f1239_row1_col2\" class=\"data row1 col2\" >60000</td>\n",
              "      <td id=\"T_f1239_row1_col3\" class=\"data row1 col3\" >50000.000000000000</td>\n",
              "    </tr>\n",
              "    <tr>\n",
              "      <td id=\"T_f1239_row2_col0\" class=\"data row2 col0\" >10</td>\n",
              "      <td id=\"T_f1239_row2_col1\" class=\"data row2 col1\" >Karthikeyan</td>\n",
              "      <td id=\"T_f1239_row2_col2\" class=\"data row2 col2\" >40000</td>\n",
              "      <td id=\"T_f1239_row2_col3\" class=\"data row2 col3\" >50000.000000000000</td>\n",
              "    </tr>\n",
              "    <tr>\n",
              "      <td id=\"T_f1239_row3_col0\" class=\"data row3 col0\" >20</td>\n",
              "      <td id=\"T_f1239_row3_col1\" class=\"data row3 col1\" >Dikshit</td>\n",
              "      <td id=\"T_f1239_row3_col2\" class=\"data row3 col2\" >10000</td>\n",
              "      <td id=\"T_f1239_row3_col3\" class=\"data row3 col3\" >18333.333333333333</td>\n",
              "    </tr>\n",
              "    <tr>\n",
              "      <td id=\"T_f1239_row4_col0\" class=\"data row4 col0\" >20</td>\n",
              "      <td id=\"T_f1239_row4_col1\" class=\"data row4 col1\" >Khan</td>\n",
              "      <td id=\"T_f1239_row4_col2\" class=\"data row4 col2\" >30000</td>\n",
              "      <td id=\"T_f1239_row4_col3\" class=\"data row4 col3\" >18333.333333333333</td>\n",
              "    </tr>\n",
              "    <tr>\n",
              "      <td id=\"T_f1239_row5_col0\" class=\"data row5 col0\" >20</td>\n",
              "      <td id=\"T_f1239_row5_col1\" class=\"data row5 col1\" >Sehwag</td>\n",
              "      <td id=\"T_f1239_row5_col2\" class=\"data row5 col2\" >15000</td>\n",
              "      <td id=\"T_f1239_row5_col3\" class=\"data row5 col3\" >18333.333333333333</td>\n",
              "    </tr>\n",
              "    <tr>\n",
              "      <td id=\"T_f1239_row6_col0\" class=\"data row6 col0\" >30</td>\n",
              "      <td id=\"T_f1239_row6_col1\" class=\"data row6 col1\" >Mirza</td>\n",
              "      <td id=\"T_f1239_row6_col2\" class=\"data row6 col2\" >25000</td>\n",
              "      <td id=\"T_f1239_row6_col3\" class=\"data row6 col3\" >25666.666666666667</td>\n",
              "    </tr>\n",
              "    <tr>\n",
              "      <td id=\"T_f1239_row7_col0\" class=\"data row7 col0\" >30</td>\n",
              "      <td id=\"T_f1239_row7_col1\" class=\"data row7 col1\" >Dravid</td>\n",
              "      <td id=\"T_f1239_row7_col2\" class=\"data row7 col2\" >40000</td>\n",
              "      <td id=\"T_f1239_row7_col3\" class=\"data row7 col3\" >25666.666666666667</td>\n",
              "    </tr>\n",
              "    <tr>\n",
              "      <td id=\"T_f1239_row8_col0\" class=\"data row8 col0\" >30</td>\n",
              "      <td id=\"T_f1239_row8_col1\" class=\"data row8 col1\" >Dalmia</td>\n",
              "      <td id=\"T_f1239_row8_col2\" class=\"data row8 col2\" >12000</td>\n",
              "      <td id=\"T_f1239_row8_col3\" class=\"data row8 col3\" >25666.666666666667</td>\n",
              "    </tr>\n",
              "    <tr>\n",
              "      <td id=\"T_f1239_row9_col0\" class=\"data row9 col0\" >40</td>\n",
              "      <td id=\"T_f1239_row9_col1\" class=\"data row9 col1\" >Ganguly</td>\n",
              "      <td id=\"T_f1239_row9_col2\" class=\"data row9 col2\" >20000</td>\n",
              "      <td id=\"T_f1239_row9_col3\" class=\"data row9 col3\" >18000.000000000000</td>\n",
              "    </tr>\n",
              "    <tr>\n",
              "      <td id=\"T_f1239_row10_col0\" class=\"data row10 col0\" >40</td>\n",
              "      <td id=\"T_f1239_row10_col1\" class=\"data row10 col1\" >Dhoni</td>\n",
              "      <td id=\"T_f1239_row10_col2\" class=\"data row10 col2\" >9000</td>\n",
              "      <td id=\"T_f1239_row10_col3\" class=\"data row10 col3\" >18000.000000000000</td>\n",
              "    </tr>\n",
              "    <tr>\n",
              "      <td id=\"T_f1239_row11_col0\" class=\"data row11 col0\" >40</td>\n",
              "      <td id=\"T_f1239_row11_col1\" class=\"data row11 col1\" >Mukherjee</td>\n",
              "      <td id=\"T_f1239_row11_col2\" class=\"data row11 col2\" >25000</td>\n",
              "      <td id=\"T_f1239_row11_col3\" class=\"data row11 col3\" >18000.000000000000</td>\n",
              "    </tr>\n",
              "    <tr>\n",
              "      <td id=\"T_f1239_row12_col0\" class=\"data row12 col0\" >70</td>\n",
              "      <td id=\"T_f1239_row12_col1\" class=\"data row12 col1\" >Sunil</td>\n",
              "      <td id=\"T_f1239_row12_col2\" class=\"data row12 col2\" >40000</td>\n",
              "      <td id=\"T_f1239_row12_col3\" class=\"data row12 col3\" >40000.000000000000</td>\n",
              "    </tr>\n",
              "  </tbody>\n",
              "</table>\n"
            ]
          },
          "metadata": {},
          "execution_count": 61
        }
      ]
    },
    {
      "cell_type": "code",
      "source": [
        "sql = \"select deptname, lastname, salary, avg(salary) over (partition by deptname) from empl  inner join dept using(deptid)\"\n",
        "runSelect(sql)"
      ],
      "metadata": {
        "colab": {
          "base_uri": "https://localhost:8080/",
          "height": 426
        },
        "id": "JZC4y3tg2o8A",
        "outputId": "673a7c86-3056-41a9-efe9-701183f893dd"
      },
      "execution_count": 62,
      "outputs": [
        {
          "output_type": "execute_result",
          "data": {
            "text/plain": [
              "<pandas.io.formats.style.Styler at 0x78a471126f20>"
            ],
            "text/html": [
              "<style type=\"text/css\">\n",
              "</style>\n",
              "<table id=\"T_5a237\" class=\"dataframe\">\n",
              "  <thead>\n",
              "    <tr>\n",
              "      <th id=\"T_5a237_level0_col0\" class=\"col_heading level0 col0\" >deptname</th>\n",
              "      <th id=\"T_5a237_level0_col1\" class=\"col_heading level0 col1\" >lastname</th>\n",
              "      <th id=\"T_5a237_level0_col2\" class=\"col_heading level0 col2\" >salary</th>\n",
              "      <th id=\"T_5a237_level0_col3\" class=\"col_heading level0 col3\" >avg</th>\n",
              "    </tr>\n",
              "  </thead>\n",
              "  <tbody>\n",
              "    <tr>\n",
              "      <td id=\"T_5a237_row0_col0\" class=\"data row0 col0\" >Accounts</td>\n",
              "      <td id=\"T_5a237_row0_col1\" class=\"data row0 col1\" >Dravid</td>\n",
              "      <td id=\"T_5a237_row0_col2\" class=\"data row0 col2\" >40000</td>\n",
              "      <td id=\"T_5a237_row0_col3\" class=\"data row0 col3\" >25666.666666666667</td>\n",
              "    </tr>\n",
              "    <tr>\n",
              "      <td id=\"T_5a237_row1_col0\" class=\"data row1 col0\" >Accounts</td>\n",
              "      <td id=\"T_5a237_row1_col1\" class=\"data row1 col1\" >Dalmia</td>\n",
              "      <td id=\"T_5a237_row1_col2\" class=\"data row1 col2\" >12000</td>\n",
              "      <td id=\"T_5a237_row1_col3\" class=\"data row1 col3\" >25666.666666666667</td>\n",
              "    </tr>\n",
              "    <tr>\n",
              "      <td id=\"T_5a237_row2_col0\" class=\"data row2 col0\" >Accounts</td>\n",
              "      <td id=\"T_5a237_row2_col1\" class=\"data row2 col1\" >Mirza</td>\n",
              "      <td id=\"T_5a237_row2_col2\" class=\"data row2 col2\" >25000</td>\n",
              "      <td id=\"T_5a237_row2_col3\" class=\"data row2 col3\" >25666.666666666667</td>\n",
              "    </tr>\n",
              "    <tr>\n",
              "      <td id=\"T_5a237_row3_col0\" class=\"data row3 col0\" >Corporate</td>\n",
              "      <td id=\"T_5a237_row3_col1\" class=\"data row3 col1\" >Karthikeyan</td>\n",
              "      <td id=\"T_5a237_row3_col2\" class=\"data row3 col2\" >40000</td>\n",
              "      <td id=\"T_5a237_row3_col3\" class=\"data row3 col3\" >50000.000000000000</td>\n",
              "    </tr>\n",
              "    <tr>\n",
              "      <td id=\"T_5a237_row4_col0\" class=\"data row4 col0\" >Corporate</td>\n",
              "      <td id=\"T_5a237_row4_col1\" class=\"data row4 col1\" >Ganesan</td>\n",
              "      <td id=\"T_5a237_row4_col2\" class=\"data row4 col2\" >60000</td>\n",
              "      <td id=\"T_5a237_row4_col3\" class=\"data row4 col3\" >50000.000000000000</td>\n",
              "    </tr>\n",
              "    <tr>\n",
              "      <td id=\"T_5a237_row5_col0\" class=\"data row5 col0\" >Corporate</td>\n",
              "      <td id=\"T_5a237_row5_col1\" class=\"data row5 col1\" >Bacchan</td>\n",
              "      <td id=\"T_5a237_row5_col2\" class=\"data row5 col2\" >50000</td>\n",
              "      <td id=\"T_5a237_row5_col3\" class=\"data row5 col3\" >50000.000000000000</td>\n",
              "    </tr>\n",
              "    <tr>\n",
              "      <td id=\"T_5a237_row6_col0\" class=\"data row6 col0\" >Production</td>\n",
              "      <td id=\"T_5a237_row6_col1\" class=\"data row6 col1\" >Ganguly</td>\n",
              "      <td id=\"T_5a237_row6_col2\" class=\"data row6 col2\" >20000</td>\n",
              "      <td id=\"T_5a237_row6_col3\" class=\"data row6 col3\" >18000.000000000000</td>\n",
              "    </tr>\n",
              "    <tr>\n",
              "      <td id=\"T_5a237_row7_col0\" class=\"data row7 col0\" >Production</td>\n",
              "      <td id=\"T_5a237_row7_col1\" class=\"data row7 col1\" >Dhoni</td>\n",
              "      <td id=\"T_5a237_row7_col2\" class=\"data row7 col2\" >9000</td>\n",
              "      <td id=\"T_5a237_row7_col3\" class=\"data row7 col3\" >18000.000000000000</td>\n",
              "    </tr>\n",
              "    <tr>\n",
              "      <td id=\"T_5a237_row8_col0\" class=\"data row8 col0\" >Production</td>\n",
              "      <td id=\"T_5a237_row8_col1\" class=\"data row8 col1\" >Mukherjee</td>\n",
              "      <td id=\"T_5a237_row8_col2\" class=\"data row8 col2\" >25000</td>\n",
              "      <td id=\"T_5a237_row8_col3\" class=\"data row8 col3\" >18000.000000000000</td>\n",
              "    </tr>\n",
              "    <tr>\n",
              "      <td id=\"T_5a237_row9_col0\" class=\"data row9 col0\" >Sales</td>\n",
              "      <td id=\"T_5a237_row9_col1\" class=\"data row9 col1\" >Dikshit</td>\n",
              "      <td id=\"T_5a237_row9_col2\" class=\"data row9 col2\" >10000</td>\n",
              "      <td id=\"T_5a237_row9_col3\" class=\"data row9 col3\" >18333.333333333333</td>\n",
              "    </tr>\n",
              "    <tr>\n",
              "      <td id=\"T_5a237_row10_col0\" class=\"data row10 col0\" >Sales</td>\n",
              "      <td id=\"T_5a237_row10_col1\" class=\"data row10 col1\" >Khan</td>\n",
              "      <td id=\"T_5a237_row10_col2\" class=\"data row10 col2\" >30000</td>\n",
              "      <td id=\"T_5a237_row10_col3\" class=\"data row10 col3\" >18333.333333333333</td>\n",
              "    </tr>\n",
              "    <tr>\n",
              "      <td id=\"T_5a237_row11_col0\" class=\"data row11 col0\" >Sales</td>\n",
              "      <td id=\"T_5a237_row11_col1\" class=\"data row11 col1\" >Sehwag</td>\n",
              "      <td id=\"T_5a237_row11_col2\" class=\"data row11 col2\" >15000</td>\n",
              "      <td id=\"T_5a237_row11_col3\" class=\"data row11 col3\" >18333.333333333333</td>\n",
              "    </tr>\n",
              "  </tbody>\n",
              "</table>\n"
            ]
          },
          "metadata": {},
          "execution_count": 62
        }
      ]
    },
    {
      "cell_type": "code",
      "source": [
        "sql = \"select deptname, lastname, salary, \\\n",
        "    row_number() over (partition by deptname order by salary) \\\n",
        "    from empl  inner join dept using(deptid)\"\n",
        "runSelect(sql)"
      ],
      "metadata": {
        "colab": {
          "base_uri": "https://localhost:8080/",
          "height": 426
        },
        "id": "xgP9VShE4Spl",
        "outputId": "d87be3f0-15b4-463e-ffe7-e5ba0101a381"
      },
      "execution_count": 63,
      "outputs": [
        {
          "output_type": "execute_result",
          "data": {
            "text/plain": [
              "<pandas.io.formats.style.Styler at 0x78a4711271c0>"
            ],
            "text/html": [
              "<style type=\"text/css\">\n",
              "</style>\n",
              "<table id=\"T_334c8\" class=\"dataframe\">\n",
              "  <thead>\n",
              "    <tr>\n",
              "      <th id=\"T_334c8_level0_col0\" class=\"col_heading level0 col0\" >deptname</th>\n",
              "      <th id=\"T_334c8_level0_col1\" class=\"col_heading level0 col1\" >lastname</th>\n",
              "      <th id=\"T_334c8_level0_col2\" class=\"col_heading level0 col2\" >salary</th>\n",
              "      <th id=\"T_334c8_level0_col3\" class=\"col_heading level0 col3\" >row_number</th>\n",
              "    </tr>\n",
              "  </thead>\n",
              "  <tbody>\n",
              "    <tr>\n",
              "      <td id=\"T_334c8_row0_col0\" class=\"data row0 col0\" >Accounts</td>\n",
              "      <td id=\"T_334c8_row0_col1\" class=\"data row0 col1\" >Dalmia</td>\n",
              "      <td id=\"T_334c8_row0_col2\" class=\"data row0 col2\" >12000</td>\n",
              "      <td id=\"T_334c8_row0_col3\" class=\"data row0 col3\" >1</td>\n",
              "    </tr>\n",
              "    <tr>\n",
              "      <td id=\"T_334c8_row1_col0\" class=\"data row1 col0\" >Accounts</td>\n",
              "      <td id=\"T_334c8_row1_col1\" class=\"data row1 col1\" >Mirza</td>\n",
              "      <td id=\"T_334c8_row1_col2\" class=\"data row1 col2\" >25000</td>\n",
              "      <td id=\"T_334c8_row1_col3\" class=\"data row1 col3\" >2</td>\n",
              "    </tr>\n",
              "    <tr>\n",
              "      <td id=\"T_334c8_row2_col0\" class=\"data row2 col0\" >Accounts</td>\n",
              "      <td id=\"T_334c8_row2_col1\" class=\"data row2 col1\" >Dravid</td>\n",
              "      <td id=\"T_334c8_row2_col2\" class=\"data row2 col2\" >40000</td>\n",
              "      <td id=\"T_334c8_row2_col3\" class=\"data row2 col3\" >3</td>\n",
              "    </tr>\n",
              "    <tr>\n",
              "      <td id=\"T_334c8_row3_col0\" class=\"data row3 col0\" >Corporate</td>\n",
              "      <td id=\"T_334c8_row3_col1\" class=\"data row3 col1\" >Karthikeyan</td>\n",
              "      <td id=\"T_334c8_row3_col2\" class=\"data row3 col2\" >40000</td>\n",
              "      <td id=\"T_334c8_row3_col3\" class=\"data row3 col3\" >1</td>\n",
              "    </tr>\n",
              "    <tr>\n",
              "      <td id=\"T_334c8_row4_col0\" class=\"data row4 col0\" >Corporate</td>\n",
              "      <td id=\"T_334c8_row4_col1\" class=\"data row4 col1\" >Bacchan</td>\n",
              "      <td id=\"T_334c8_row4_col2\" class=\"data row4 col2\" >50000</td>\n",
              "      <td id=\"T_334c8_row4_col3\" class=\"data row4 col3\" >2</td>\n",
              "    </tr>\n",
              "    <tr>\n",
              "      <td id=\"T_334c8_row5_col0\" class=\"data row5 col0\" >Corporate</td>\n",
              "      <td id=\"T_334c8_row5_col1\" class=\"data row5 col1\" >Ganesan</td>\n",
              "      <td id=\"T_334c8_row5_col2\" class=\"data row5 col2\" >60000</td>\n",
              "      <td id=\"T_334c8_row5_col3\" class=\"data row5 col3\" >3</td>\n",
              "    </tr>\n",
              "    <tr>\n",
              "      <td id=\"T_334c8_row6_col0\" class=\"data row6 col0\" >Production</td>\n",
              "      <td id=\"T_334c8_row6_col1\" class=\"data row6 col1\" >Dhoni</td>\n",
              "      <td id=\"T_334c8_row6_col2\" class=\"data row6 col2\" >9000</td>\n",
              "      <td id=\"T_334c8_row6_col3\" class=\"data row6 col3\" >1</td>\n",
              "    </tr>\n",
              "    <tr>\n",
              "      <td id=\"T_334c8_row7_col0\" class=\"data row7 col0\" >Production</td>\n",
              "      <td id=\"T_334c8_row7_col1\" class=\"data row7 col1\" >Ganguly</td>\n",
              "      <td id=\"T_334c8_row7_col2\" class=\"data row7 col2\" >20000</td>\n",
              "      <td id=\"T_334c8_row7_col3\" class=\"data row7 col3\" >2</td>\n",
              "    </tr>\n",
              "    <tr>\n",
              "      <td id=\"T_334c8_row8_col0\" class=\"data row8 col0\" >Production</td>\n",
              "      <td id=\"T_334c8_row8_col1\" class=\"data row8 col1\" >Mukherjee</td>\n",
              "      <td id=\"T_334c8_row8_col2\" class=\"data row8 col2\" >25000</td>\n",
              "      <td id=\"T_334c8_row8_col3\" class=\"data row8 col3\" >3</td>\n",
              "    </tr>\n",
              "    <tr>\n",
              "      <td id=\"T_334c8_row9_col0\" class=\"data row9 col0\" >Sales</td>\n",
              "      <td id=\"T_334c8_row9_col1\" class=\"data row9 col1\" >Dikshit</td>\n",
              "      <td id=\"T_334c8_row9_col2\" class=\"data row9 col2\" >10000</td>\n",
              "      <td id=\"T_334c8_row9_col3\" class=\"data row9 col3\" >1</td>\n",
              "    </tr>\n",
              "    <tr>\n",
              "      <td id=\"T_334c8_row10_col0\" class=\"data row10 col0\" >Sales</td>\n",
              "      <td id=\"T_334c8_row10_col1\" class=\"data row10 col1\" >Sehwag</td>\n",
              "      <td id=\"T_334c8_row10_col2\" class=\"data row10 col2\" >15000</td>\n",
              "      <td id=\"T_334c8_row10_col3\" class=\"data row10 col3\" >2</td>\n",
              "    </tr>\n",
              "    <tr>\n",
              "      <td id=\"T_334c8_row11_col0\" class=\"data row11 col0\" >Sales</td>\n",
              "      <td id=\"T_334c8_row11_col1\" class=\"data row11 col1\" >Khan</td>\n",
              "      <td id=\"T_334c8_row11_col2\" class=\"data row11 col2\" >30000</td>\n",
              "      <td id=\"T_334c8_row11_col3\" class=\"data row11 col3\" >3</td>\n",
              "    </tr>\n",
              "  </tbody>\n",
              "</table>\n"
            ]
          },
          "metadata": {},
          "execution_count": 63
        }
      ]
    },
    {
      "cell_type": "code",
      "source": [
        "sql = \"select deptname, lastname, salary, \\\n",
        "        rank() over (partition by deptname order by salary desc) \\\n",
        "        from empl  inner join dept using(deptid)\"\n",
        "runSelect(sql)"
      ],
      "metadata": {
        "colab": {
          "base_uri": "https://localhost:8080/",
          "height": 426
        },
        "id": "rL_1sHBa4ply",
        "outputId": "d0405b5a-3d75-4b9b-df6a-c86821117591"
      },
      "execution_count": 64,
      "outputs": [
        {
          "output_type": "execute_result",
          "data": {
            "text/plain": [
              "<pandas.io.formats.style.Styler at 0x78a4711279a0>"
            ],
            "text/html": [
              "<style type=\"text/css\">\n",
              "</style>\n",
              "<table id=\"T_e177d\" class=\"dataframe\">\n",
              "  <thead>\n",
              "    <tr>\n",
              "      <th id=\"T_e177d_level0_col0\" class=\"col_heading level0 col0\" >deptname</th>\n",
              "      <th id=\"T_e177d_level0_col1\" class=\"col_heading level0 col1\" >lastname</th>\n",
              "      <th id=\"T_e177d_level0_col2\" class=\"col_heading level0 col2\" >salary</th>\n",
              "      <th id=\"T_e177d_level0_col3\" class=\"col_heading level0 col3\" >rank</th>\n",
              "    </tr>\n",
              "  </thead>\n",
              "  <tbody>\n",
              "    <tr>\n",
              "      <td id=\"T_e177d_row0_col0\" class=\"data row0 col0\" >Accounts</td>\n",
              "      <td id=\"T_e177d_row0_col1\" class=\"data row0 col1\" >Dravid</td>\n",
              "      <td id=\"T_e177d_row0_col2\" class=\"data row0 col2\" >40000</td>\n",
              "      <td id=\"T_e177d_row0_col3\" class=\"data row0 col3\" >1</td>\n",
              "    </tr>\n",
              "    <tr>\n",
              "      <td id=\"T_e177d_row1_col0\" class=\"data row1 col0\" >Accounts</td>\n",
              "      <td id=\"T_e177d_row1_col1\" class=\"data row1 col1\" >Mirza</td>\n",
              "      <td id=\"T_e177d_row1_col2\" class=\"data row1 col2\" >25000</td>\n",
              "      <td id=\"T_e177d_row1_col3\" class=\"data row1 col3\" >2</td>\n",
              "    </tr>\n",
              "    <tr>\n",
              "      <td id=\"T_e177d_row2_col0\" class=\"data row2 col0\" >Accounts</td>\n",
              "      <td id=\"T_e177d_row2_col1\" class=\"data row2 col1\" >Dalmia</td>\n",
              "      <td id=\"T_e177d_row2_col2\" class=\"data row2 col2\" >12000</td>\n",
              "      <td id=\"T_e177d_row2_col3\" class=\"data row2 col3\" >3</td>\n",
              "    </tr>\n",
              "    <tr>\n",
              "      <td id=\"T_e177d_row3_col0\" class=\"data row3 col0\" >Corporate</td>\n",
              "      <td id=\"T_e177d_row3_col1\" class=\"data row3 col1\" >Ganesan</td>\n",
              "      <td id=\"T_e177d_row3_col2\" class=\"data row3 col2\" >60000</td>\n",
              "      <td id=\"T_e177d_row3_col3\" class=\"data row3 col3\" >1</td>\n",
              "    </tr>\n",
              "    <tr>\n",
              "      <td id=\"T_e177d_row4_col0\" class=\"data row4 col0\" >Corporate</td>\n",
              "      <td id=\"T_e177d_row4_col1\" class=\"data row4 col1\" >Bacchan</td>\n",
              "      <td id=\"T_e177d_row4_col2\" class=\"data row4 col2\" >50000</td>\n",
              "      <td id=\"T_e177d_row4_col3\" class=\"data row4 col3\" >2</td>\n",
              "    </tr>\n",
              "    <tr>\n",
              "      <td id=\"T_e177d_row5_col0\" class=\"data row5 col0\" >Corporate</td>\n",
              "      <td id=\"T_e177d_row5_col1\" class=\"data row5 col1\" >Karthikeyan</td>\n",
              "      <td id=\"T_e177d_row5_col2\" class=\"data row5 col2\" >40000</td>\n",
              "      <td id=\"T_e177d_row5_col3\" class=\"data row5 col3\" >3</td>\n",
              "    </tr>\n",
              "    <tr>\n",
              "      <td id=\"T_e177d_row6_col0\" class=\"data row6 col0\" >Production</td>\n",
              "      <td id=\"T_e177d_row6_col1\" class=\"data row6 col1\" >Mukherjee</td>\n",
              "      <td id=\"T_e177d_row6_col2\" class=\"data row6 col2\" >25000</td>\n",
              "      <td id=\"T_e177d_row6_col3\" class=\"data row6 col3\" >1</td>\n",
              "    </tr>\n",
              "    <tr>\n",
              "      <td id=\"T_e177d_row7_col0\" class=\"data row7 col0\" >Production</td>\n",
              "      <td id=\"T_e177d_row7_col1\" class=\"data row7 col1\" >Ganguly</td>\n",
              "      <td id=\"T_e177d_row7_col2\" class=\"data row7 col2\" >20000</td>\n",
              "      <td id=\"T_e177d_row7_col3\" class=\"data row7 col3\" >2</td>\n",
              "    </tr>\n",
              "    <tr>\n",
              "      <td id=\"T_e177d_row8_col0\" class=\"data row8 col0\" >Production</td>\n",
              "      <td id=\"T_e177d_row8_col1\" class=\"data row8 col1\" >Dhoni</td>\n",
              "      <td id=\"T_e177d_row8_col2\" class=\"data row8 col2\" >9000</td>\n",
              "      <td id=\"T_e177d_row8_col3\" class=\"data row8 col3\" >3</td>\n",
              "    </tr>\n",
              "    <tr>\n",
              "      <td id=\"T_e177d_row9_col0\" class=\"data row9 col0\" >Sales</td>\n",
              "      <td id=\"T_e177d_row9_col1\" class=\"data row9 col1\" >Khan</td>\n",
              "      <td id=\"T_e177d_row9_col2\" class=\"data row9 col2\" >30000</td>\n",
              "      <td id=\"T_e177d_row9_col3\" class=\"data row9 col3\" >1</td>\n",
              "    </tr>\n",
              "    <tr>\n",
              "      <td id=\"T_e177d_row10_col0\" class=\"data row10 col0\" >Sales</td>\n",
              "      <td id=\"T_e177d_row10_col1\" class=\"data row10 col1\" >Sehwag</td>\n",
              "      <td id=\"T_e177d_row10_col2\" class=\"data row10 col2\" >15000</td>\n",
              "      <td id=\"T_e177d_row10_col3\" class=\"data row10 col3\" >2</td>\n",
              "    </tr>\n",
              "    <tr>\n",
              "      <td id=\"T_e177d_row11_col0\" class=\"data row11 col0\" >Sales</td>\n",
              "      <td id=\"T_e177d_row11_col1\" class=\"data row11 col1\" >Dikshit</td>\n",
              "      <td id=\"T_e177d_row11_col2\" class=\"data row11 col2\" >10000</td>\n",
              "      <td id=\"T_e177d_row11_col3\" class=\"data row11 col3\" >3</td>\n",
              "    </tr>\n",
              "  </tbody>\n",
              "</table>\n"
            ]
          },
          "metadata": {},
          "execution_count": 64
        }
      ]
    },
    {
      "cell_type": "code",
      "source": [
        "sql = \"select deptname, lastname, salary, \\\n",
        "first_value(salary) over (partition by deptname order by salary) as deptlow, \\\n",
        "last_value(salary) over (partition by deptname order by salary RANGE BETWEEN UNBOUNDED PRECEDING AND UNBOUNDED FOLLOWING) as depthigh \\\n",
        "from empl  inner join dept using(deptid)\"\n",
        "runSelect(sql)"
      ],
      "metadata": {
        "colab": {
          "base_uri": "https://localhost:8080/",
          "height": 426
        },
        "id": "RO428SVT5T3d",
        "outputId": "20dcd358-7b6b-423e-f756-796c8c09c180"
      },
      "execution_count": 65,
      "outputs": [
        {
          "output_type": "execute_result",
          "data": {
            "text/plain": [
              "<pandas.io.formats.style.Styler at 0x78a471152e60>"
            ],
            "text/html": [
              "<style type=\"text/css\">\n",
              "</style>\n",
              "<table id=\"T_742d8\" class=\"dataframe\">\n",
              "  <thead>\n",
              "    <tr>\n",
              "      <th id=\"T_742d8_level0_col0\" class=\"col_heading level0 col0\" >deptname</th>\n",
              "      <th id=\"T_742d8_level0_col1\" class=\"col_heading level0 col1\" >lastname</th>\n",
              "      <th id=\"T_742d8_level0_col2\" class=\"col_heading level0 col2\" >salary</th>\n",
              "      <th id=\"T_742d8_level0_col3\" class=\"col_heading level0 col3\" >deptlow</th>\n",
              "      <th id=\"T_742d8_level0_col4\" class=\"col_heading level0 col4\" >depthigh</th>\n",
              "    </tr>\n",
              "  </thead>\n",
              "  <tbody>\n",
              "    <tr>\n",
              "      <td id=\"T_742d8_row0_col0\" class=\"data row0 col0\" >Accounts</td>\n",
              "      <td id=\"T_742d8_row0_col1\" class=\"data row0 col1\" >Dalmia</td>\n",
              "      <td id=\"T_742d8_row0_col2\" class=\"data row0 col2\" >12000</td>\n",
              "      <td id=\"T_742d8_row0_col3\" class=\"data row0 col3\" >12000</td>\n",
              "      <td id=\"T_742d8_row0_col4\" class=\"data row0 col4\" >40000</td>\n",
              "    </tr>\n",
              "    <tr>\n",
              "      <td id=\"T_742d8_row1_col0\" class=\"data row1 col0\" >Accounts</td>\n",
              "      <td id=\"T_742d8_row1_col1\" class=\"data row1 col1\" >Mirza</td>\n",
              "      <td id=\"T_742d8_row1_col2\" class=\"data row1 col2\" >25000</td>\n",
              "      <td id=\"T_742d8_row1_col3\" class=\"data row1 col3\" >12000</td>\n",
              "      <td id=\"T_742d8_row1_col4\" class=\"data row1 col4\" >40000</td>\n",
              "    </tr>\n",
              "    <tr>\n",
              "      <td id=\"T_742d8_row2_col0\" class=\"data row2 col0\" >Accounts</td>\n",
              "      <td id=\"T_742d8_row2_col1\" class=\"data row2 col1\" >Dravid</td>\n",
              "      <td id=\"T_742d8_row2_col2\" class=\"data row2 col2\" >40000</td>\n",
              "      <td id=\"T_742d8_row2_col3\" class=\"data row2 col3\" >12000</td>\n",
              "      <td id=\"T_742d8_row2_col4\" class=\"data row2 col4\" >40000</td>\n",
              "    </tr>\n",
              "    <tr>\n",
              "      <td id=\"T_742d8_row3_col0\" class=\"data row3 col0\" >Corporate</td>\n",
              "      <td id=\"T_742d8_row3_col1\" class=\"data row3 col1\" >Karthikeyan</td>\n",
              "      <td id=\"T_742d8_row3_col2\" class=\"data row3 col2\" >40000</td>\n",
              "      <td id=\"T_742d8_row3_col3\" class=\"data row3 col3\" >40000</td>\n",
              "      <td id=\"T_742d8_row3_col4\" class=\"data row3 col4\" >60000</td>\n",
              "    </tr>\n",
              "    <tr>\n",
              "      <td id=\"T_742d8_row4_col0\" class=\"data row4 col0\" >Corporate</td>\n",
              "      <td id=\"T_742d8_row4_col1\" class=\"data row4 col1\" >Bacchan</td>\n",
              "      <td id=\"T_742d8_row4_col2\" class=\"data row4 col2\" >50000</td>\n",
              "      <td id=\"T_742d8_row4_col3\" class=\"data row4 col3\" >40000</td>\n",
              "      <td id=\"T_742d8_row4_col4\" class=\"data row4 col4\" >60000</td>\n",
              "    </tr>\n",
              "    <tr>\n",
              "      <td id=\"T_742d8_row5_col0\" class=\"data row5 col0\" >Corporate</td>\n",
              "      <td id=\"T_742d8_row5_col1\" class=\"data row5 col1\" >Ganesan</td>\n",
              "      <td id=\"T_742d8_row5_col2\" class=\"data row5 col2\" >60000</td>\n",
              "      <td id=\"T_742d8_row5_col3\" class=\"data row5 col3\" >40000</td>\n",
              "      <td id=\"T_742d8_row5_col4\" class=\"data row5 col4\" >60000</td>\n",
              "    </tr>\n",
              "    <tr>\n",
              "      <td id=\"T_742d8_row6_col0\" class=\"data row6 col0\" >Production</td>\n",
              "      <td id=\"T_742d8_row6_col1\" class=\"data row6 col1\" >Dhoni</td>\n",
              "      <td id=\"T_742d8_row6_col2\" class=\"data row6 col2\" >9000</td>\n",
              "      <td id=\"T_742d8_row6_col3\" class=\"data row6 col3\" >9000</td>\n",
              "      <td id=\"T_742d8_row6_col4\" class=\"data row6 col4\" >25000</td>\n",
              "    </tr>\n",
              "    <tr>\n",
              "      <td id=\"T_742d8_row7_col0\" class=\"data row7 col0\" >Production</td>\n",
              "      <td id=\"T_742d8_row7_col1\" class=\"data row7 col1\" >Ganguly</td>\n",
              "      <td id=\"T_742d8_row7_col2\" class=\"data row7 col2\" >20000</td>\n",
              "      <td id=\"T_742d8_row7_col3\" class=\"data row7 col3\" >9000</td>\n",
              "      <td id=\"T_742d8_row7_col4\" class=\"data row7 col4\" >25000</td>\n",
              "    </tr>\n",
              "    <tr>\n",
              "      <td id=\"T_742d8_row8_col0\" class=\"data row8 col0\" >Production</td>\n",
              "      <td id=\"T_742d8_row8_col1\" class=\"data row8 col1\" >Mukherjee</td>\n",
              "      <td id=\"T_742d8_row8_col2\" class=\"data row8 col2\" >25000</td>\n",
              "      <td id=\"T_742d8_row8_col3\" class=\"data row8 col3\" >9000</td>\n",
              "      <td id=\"T_742d8_row8_col4\" class=\"data row8 col4\" >25000</td>\n",
              "    </tr>\n",
              "    <tr>\n",
              "      <td id=\"T_742d8_row9_col0\" class=\"data row9 col0\" >Sales</td>\n",
              "      <td id=\"T_742d8_row9_col1\" class=\"data row9 col1\" >Dikshit</td>\n",
              "      <td id=\"T_742d8_row9_col2\" class=\"data row9 col2\" >10000</td>\n",
              "      <td id=\"T_742d8_row9_col3\" class=\"data row9 col3\" >10000</td>\n",
              "      <td id=\"T_742d8_row9_col4\" class=\"data row9 col4\" >30000</td>\n",
              "    </tr>\n",
              "    <tr>\n",
              "      <td id=\"T_742d8_row10_col0\" class=\"data row10 col0\" >Sales</td>\n",
              "      <td id=\"T_742d8_row10_col1\" class=\"data row10 col1\" >Sehwag</td>\n",
              "      <td id=\"T_742d8_row10_col2\" class=\"data row10 col2\" >15000</td>\n",
              "      <td id=\"T_742d8_row10_col3\" class=\"data row10 col3\" >10000</td>\n",
              "      <td id=\"T_742d8_row10_col4\" class=\"data row10 col4\" >30000</td>\n",
              "    </tr>\n",
              "    <tr>\n",
              "      <td id=\"T_742d8_row11_col0\" class=\"data row11 col0\" >Sales</td>\n",
              "      <td id=\"T_742d8_row11_col1\" class=\"data row11 col1\" >Khan</td>\n",
              "      <td id=\"T_742d8_row11_col2\" class=\"data row11 col2\" >30000</td>\n",
              "      <td id=\"T_742d8_row11_col3\" class=\"data row11 col3\" >10000</td>\n",
              "      <td id=\"T_742d8_row11_col4\" class=\"data row11 col4\" >30000</td>\n",
              "    </tr>\n",
              "  </tbody>\n",
              "</table>\n"
            ]
          },
          "metadata": {},
          "execution_count": 65
        }
      ]
    },
    {
      "cell_type": "code",
      "source": [
        "sql = \"select deptname, lastname, salary, \\\n",
        "lag(salary,1) over (partition by deptname order by salary) as prev_emp, \\\n",
        "salary - lag(salary,1) over (partition by deptname order by salary) as gap_up \\\n",
        "from empl  inner join dept using(deptid)\"\n",
        "runSelect(sql)"
      ],
      "metadata": {
        "colab": {
          "base_uri": "https://localhost:8080/",
          "height": 426
        },
        "id": "fnG4S0lF8h77",
        "outputId": "9336210f-1cc7-4089-c3fb-4b8639faf809"
      },
      "execution_count": 66,
      "outputs": [
        {
          "output_type": "execute_result",
          "data": {
            "text/plain": [
              "<pandas.io.formats.style.Styler at 0x78a471152710>"
            ],
            "text/html": [
              "<style type=\"text/css\">\n",
              "</style>\n",
              "<table id=\"T_3a979\" class=\"dataframe\">\n",
              "  <thead>\n",
              "    <tr>\n",
              "      <th id=\"T_3a979_level0_col0\" class=\"col_heading level0 col0\" >deptname</th>\n",
              "      <th id=\"T_3a979_level0_col1\" class=\"col_heading level0 col1\" >lastname</th>\n",
              "      <th id=\"T_3a979_level0_col2\" class=\"col_heading level0 col2\" >salary</th>\n",
              "      <th id=\"T_3a979_level0_col3\" class=\"col_heading level0 col3\" >prev_emp</th>\n",
              "      <th id=\"T_3a979_level0_col4\" class=\"col_heading level0 col4\" >gap_up</th>\n",
              "    </tr>\n",
              "  </thead>\n",
              "  <tbody>\n",
              "    <tr>\n",
              "      <td id=\"T_3a979_row0_col0\" class=\"data row0 col0\" >Accounts</td>\n",
              "      <td id=\"T_3a979_row0_col1\" class=\"data row0 col1\" >Dalmia</td>\n",
              "      <td id=\"T_3a979_row0_col2\" class=\"data row0 col2\" >12000</td>\n",
              "      <td id=\"T_3a979_row0_col3\" class=\"data row0 col3\" >nan</td>\n",
              "      <td id=\"T_3a979_row0_col4\" class=\"data row0 col4\" >nan</td>\n",
              "    </tr>\n",
              "    <tr>\n",
              "      <td id=\"T_3a979_row1_col0\" class=\"data row1 col0\" >Accounts</td>\n",
              "      <td id=\"T_3a979_row1_col1\" class=\"data row1 col1\" >Mirza</td>\n",
              "      <td id=\"T_3a979_row1_col2\" class=\"data row1 col2\" >25000</td>\n",
              "      <td id=\"T_3a979_row1_col3\" class=\"data row1 col3\" >12000.000000</td>\n",
              "      <td id=\"T_3a979_row1_col4\" class=\"data row1 col4\" >13000.000000</td>\n",
              "    </tr>\n",
              "    <tr>\n",
              "      <td id=\"T_3a979_row2_col0\" class=\"data row2 col0\" >Accounts</td>\n",
              "      <td id=\"T_3a979_row2_col1\" class=\"data row2 col1\" >Dravid</td>\n",
              "      <td id=\"T_3a979_row2_col2\" class=\"data row2 col2\" >40000</td>\n",
              "      <td id=\"T_3a979_row2_col3\" class=\"data row2 col3\" >25000.000000</td>\n",
              "      <td id=\"T_3a979_row2_col4\" class=\"data row2 col4\" >15000.000000</td>\n",
              "    </tr>\n",
              "    <tr>\n",
              "      <td id=\"T_3a979_row3_col0\" class=\"data row3 col0\" >Corporate</td>\n",
              "      <td id=\"T_3a979_row3_col1\" class=\"data row3 col1\" >Karthikeyan</td>\n",
              "      <td id=\"T_3a979_row3_col2\" class=\"data row3 col2\" >40000</td>\n",
              "      <td id=\"T_3a979_row3_col3\" class=\"data row3 col3\" >nan</td>\n",
              "      <td id=\"T_3a979_row3_col4\" class=\"data row3 col4\" >nan</td>\n",
              "    </tr>\n",
              "    <tr>\n",
              "      <td id=\"T_3a979_row4_col0\" class=\"data row4 col0\" >Corporate</td>\n",
              "      <td id=\"T_3a979_row4_col1\" class=\"data row4 col1\" >Bacchan</td>\n",
              "      <td id=\"T_3a979_row4_col2\" class=\"data row4 col2\" >50000</td>\n",
              "      <td id=\"T_3a979_row4_col3\" class=\"data row4 col3\" >40000.000000</td>\n",
              "      <td id=\"T_3a979_row4_col4\" class=\"data row4 col4\" >10000.000000</td>\n",
              "    </tr>\n",
              "    <tr>\n",
              "      <td id=\"T_3a979_row5_col0\" class=\"data row5 col0\" >Corporate</td>\n",
              "      <td id=\"T_3a979_row5_col1\" class=\"data row5 col1\" >Ganesan</td>\n",
              "      <td id=\"T_3a979_row5_col2\" class=\"data row5 col2\" >60000</td>\n",
              "      <td id=\"T_3a979_row5_col3\" class=\"data row5 col3\" >50000.000000</td>\n",
              "      <td id=\"T_3a979_row5_col4\" class=\"data row5 col4\" >10000.000000</td>\n",
              "    </tr>\n",
              "    <tr>\n",
              "      <td id=\"T_3a979_row6_col0\" class=\"data row6 col0\" >Production</td>\n",
              "      <td id=\"T_3a979_row6_col1\" class=\"data row6 col1\" >Dhoni</td>\n",
              "      <td id=\"T_3a979_row6_col2\" class=\"data row6 col2\" >9000</td>\n",
              "      <td id=\"T_3a979_row6_col3\" class=\"data row6 col3\" >nan</td>\n",
              "      <td id=\"T_3a979_row6_col4\" class=\"data row6 col4\" >nan</td>\n",
              "    </tr>\n",
              "    <tr>\n",
              "      <td id=\"T_3a979_row7_col0\" class=\"data row7 col0\" >Production</td>\n",
              "      <td id=\"T_3a979_row7_col1\" class=\"data row7 col1\" >Ganguly</td>\n",
              "      <td id=\"T_3a979_row7_col2\" class=\"data row7 col2\" >20000</td>\n",
              "      <td id=\"T_3a979_row7_col3\" class=\"data row7 col3\" >9000.000000</td>\n",
              "      <td id=\"T_3a979_row7_col4\" class=\"data row7 col4\" >11000.000000</td>\n",
              "    </tr>\n",
              "    <tr>\n",
              "      <td id=\"T_3a979_row8_col0\" class=\"data row8 col0\" >Production</td>\n",
              "      <td id=\"T_3a979_row8_col1\" class=\"data row8 col1\" >Mukherjee</td>\n",
              "      <td id=\"T_3a979_row8_col2\" class=\"data row8 col2\" >25000</td>\n",
              "      <td id=\"T_3a979_row8_col3\" class=\"data row8 col3\" >20000.000000</td>\n",
              "      <td id=\"T_3a979_row8_col4\" class=\"data row8 col4\" >5000.000000</td>\n",
              "    </tr>\n",
              "    <tr>\n",
              "      <td id=\"T_3a979_row9_col0\" class=\"data row9 col0\" >Sales</td>\n",
              "      <td id=\"T_3a979_row9_col1\" class=\"data row9 col1\" >Dikshit</td>\n",
              "      <td id=\"T_3a979_row9_col2\" class=\"data row9 col2\" >10000</td>\n",
              "      <td id=\"T_3a979_row9_col3\" class=\"data row9 col3\" >nan</td>\n",
              "      <td id=\"T_3a979_row9_col4\" class=\"data row9 col4\" >nan</td>\n",
              "    </tr>\n",
              "    <tr>\n",
              "      <td id=\"T_3a979_row10_col0\" class=\"data row10 col0\" >Sales</td>\n",
              "      <td id=\"T_3a979_row10_col1\" class=\"data row10 col1\" >Sehwag</td>\n",
              "      <td id=\"T_3a979_row10_col2\" class=\"data row10 col2\" >15000</td>\n",
              "      <td id=\"T_3a979_row10_col3\" class=\"data row10 col3\" >10000.000000</td>\n",
              "      <td id=\"T_3a979_row10_col4\" class=\"data row10 col4\" >5000.000000</td>\n",
              "    </tr>\n",
              "    <tr>\n",
              "      <td id=\"T_3a979_row11_col0\" class=\"data row11 col0\" >Sales</td>\n",
              "      <td id=\"T_3a979_row11_col1\" class=\"data row11 col1\" >Khan</td>\n",
              "      <td id=\"T_3a979_row11_col2\" class=\"data row11 col2\" >30000</td>\n",
              "      <td id=\"T_3a979_row11_col3\" class=\"data row11 col3\" >15000.000000</td>\n",
              "      <td id=\"T_3a979_row11_col4\" class=\"data row11 col4\" >15000.000000</td>\n",
              "    </tr>\n",
              "  </tbody>\n",
              "</table>\n"
            ]
          },
          "metadata": {},
          "execution_count": 66
        }
      ]
    },
    {
      "cell_type": "markdown",
      "source": [
        "#Transpose / Pivot\n",
        "https://www.sqlshack.com/how-to-use-the-crosstab-function-in-postgresql/"
      ],
      "metadata": {
        "id": "V6Bt-yTXSITF"
      }
    },
    {
      "cell_type": "code",
      "source": [
        "!psql -h localhost -p 5432 -Uupraxis -ddbpraxis -c \"create extension tablefunc;\""
      ],
      "metadata": {
        "colab": {
          "base_uri": "https://localhost:8080/"
        },
        "id": "ZgVgr1DfYs_R",
        "outputId": "9d11fd81-bc25-4b78-8ab5-59b5a0250b4e"
      },
      "execution_count": 67,
      "outputs": [
        {
          "output_type": "stream",
          "name": "stdout",
          "text": [
            "CREATE EXTENSION\n"
          ]
        }
      ]
    },
    {
      "cell_type": "code",
      "source": [
        "runSelect('select * from dept')"
      ],
      "metadata": {
        "colab": {
          "base_uri": "https://localhost:8080/",
          "height": 206
        },
        "id": "Sa9IpGXwSKWe",
        "outputId": "76474846-411a-4c31-91e8-7c4bddf4f1db"
      },
      "execution_count": 68,
      "outputs": [
        {
          "output_type": "execute_result",
          "data": {
            "text/plain": [
              "<pandas.io.formats.style.Styler at 0x78a471127100>"
            ],
            "text/html": [
              "<style type=\"text/css\">\n",
              "</style>\n",
              "<table id=\"T_6ed54\" class=\"dataframe\">\n",
              "  <thead>\n",
              "    <tr>\n",
              "      <th id=\"T_6ed54_level0_col0\" class=\"col_heading level0 col0\" >deptid</th>\n",
              "      <th id=\"T_6ed54_level0_col1\" class=\"col_heading level0 col1\" >deptname</th>\n",
              "      <th id=\"T_6ed54_level0_col2\" class=\"col_heading level0 col2\" >managerid</th>\n",
              "      <th id=\"T_6ed54_level0_col3\" class=\"col_heading level0 col3\" >location</th>\n",
              "      <th id=\"T_6ed54_level0_col4\" class=\"col_heading level0 col4\" >locationid</th>\n",
              "    </tr>\n",
              "  </thead>\n",
              "  <tbody>\n",
              "    <tr>\n",
              "      <td id=\"T_6ed54_row0_col0\" class=\"data row0 col0\" >10</td>\n",
              "      <td id=\"T_6ed54_row0_col1\" class=\"data row0 col1\" >Corporate</td>\n",
              "      <td id=\"T_6ed54_row0_col2\" class=\"data row0 col2\" >299034</td>\n",
              "      <td id=\"T_6ed54_row0_col3\" class=\"data row0 col3\" >Calcutta</td>\n",
              "      <td id=\"T_6ed54_row0_col4\" class=\"data row0 col4\" >1</td>\n",
              "    </tr>\n",
              "    <tr>\n",
              "      <td id=\"T_6ed54_row1_col0\" class=\"data row1 col0\" >20</td>\n",
              "      <td id=\"T_6ed54_row1_col1\" class=\"data row1 col1\" >Sales</td>\n",
              "      <td id=\"T_6ed54_row1_col2\" class=\"data row1 col2\" >239456</td>\n",
              "      <td id=\"T_6ed54_row1_col3\" class=\"data row1 col3\" >Calcutta</td>\n",
              "      <td id=\"T_6ed54_row1_col4\" class=\"data row1 col4\" >1</td>\n",
              "    </tr>\n",
              "    <tr>\n",
              "      <td id=\"T_6ed54_row2_col0\" class=\"data row2 col0\" >30</td>\n",
              "      <td id=\"T_6ed54_row2_col1\" class=\"data row2 col1\" >Accounts</td>\n",
              "      <td id=\"T_6ed54_row2_col2\" class=\"data row2 col2\" >822134</td>\n",
              "      <td id=\"T_6ed54_row2_col3\" class=\"data row2 col3\" >Calcutta</td>\n",
              "      <td id=\"T_6ed54_row2_col4\" class=\"data row2 col4\" >1</td>\n",
              "    </tr>\n",
              "    <tr>\n",
              "      <td id=\"T_6ed54_row3_col0\" class=\"data row3 col0\" >40</td>\n",
              "      <td id=\"T_6ed54_row3_col1\" class=\"data row3 col1\" >Production</td>\n",
              "      <td id=\"T_6ed54_row3_col2\" class=\"data row3 col2\" >349870</td>\n",
              "      <td id=\"T_6ed54_row3_col3\" class=\"data row3 col3\" >Bombay</td>\n",
              "      <td id=\"T_6ed54_row3_col4\" class=\"data row3 col4\" >2</td>\n",
              "    </tr>\n",
              "    <tr>\n",
              "      <td id=\"T_6ed54_row4_col0\" class=\"data row4 col0\" >60</td>\n",
              "      <td id=\"T_6ed54_row4_col1\" class=\"data row4 col1\" >Research</td>\n",
              "      <td id=\"T_6ed54_row4_col2\" class=\"data row4 col2\" >546224</td>\n",
              "      <td id=\"T_6ed54_row4_col3\" class=\"data row4 col3\" >Delhi</td>\n",
              "      <td id=\"T_6ed54_row4_col4\" class=\"data row4 col4\" >3</td>\n",
              "    </tr>\n",
              "  </tbody>\n",
              "</table>\n"
            ]
          },
          "metadata": {},
          "execution_count": 68
        }
      ]
    },
    {
      "cell_type": "code",
      "source": [
        "sql = \"\\\n",
        "select * from \\\n",
        "crosstab('select location::text,locationid::text,deptname::text from dept order by 1,2') as locations \\\n",
        "(location text, dep1 text, dep2 text, dep3 text, dep4 text)\\\n",
        "\"\n",
        "runSelect(sql)"
      ],
      "metadata": {
        "colab": {
          "base_uri": "https://localhost:8080/",
          "height": 143
        },
        "id": "Iukqh6TRVo-9",
        "outputId": "35a6eda9-aab0-4035-b888-428c0efe1022"
      },
      "execution_count": 69,
      "outputs": [
        {
          "output_type": "execute_result",
          "data": {
            "text/plain": [
              "<pandas.io.formats.style.Styler at 0x78a471125d20>"
            ],
            "text/html": [
              "<style type=\"text/css\">\n",
              "</style>\n",
              "<table id=\"T_3e80c\" class=\"dataframe\">\n",
              "  <thead>\n",
              "    <tr>\n",
              "      <th id=\"T_3e80c_level0_col0\" class=\"col_heading level0 col0\" >location</th>\n",
              "      <th id=\"T_3e80c_level0_col1\" class=\"col_heading level0 col1\" >dep1</th>\n",
              "      <th id=\"T_3e80c_level0_col2\" class=\"col_heading level0 col2\" >dep2</th>\n",
              "      <th id=\"T_3e80c_level0_col3\" class=\"col_heading level0 col3\" >dep3</th>\n",
              "      <th id=\"T_3e80c_level0_col4\" class=\"col_heading level0 col4\" >dep4</th>\n",
              "    </tr>\n",
              "  </thead>\n",
              "  <tbody>\n",
              "    <tr>\n",
              "      <td id=\"T_3e80c_row0_col0\" class=\"data row0 col0\" >Bombay</td>\n",
              "      <td id=\"T_3e80c_row0_col1\" class=\"data row0 col1\" >Production</td>\n",
              "      <td id=\"T_3e80c_row0_col2\" class=\"data row0 col2\" >None</td>\n",
              "      <td id=\"T_3e80c_row0_col3\" class=\"data row0 col3\" >None</td>\n",
              "      <td id=\"T_3e80c_row0_col4\" class=\"data row0 col4\" >None</td>\n",
              "    </tr>\n",
              "    <tr>\n",
              "      <td id=\"T_3e80c_row1_col0\" class=\"data row1 col0\" >Calcutta</td>\n",
              "      <td id=\"T_3e80c_row1_col1\" class=\"data row1 col1\" >Corporate</td>\n",
              "      <td id=\"T_3e80c_row1_col2\" class=\"data row1 col2\" >Sales</td>\n",
              "      <td id=\"T_3e80c_row1_col3\" class=\"data row1 col3\" >Accounts</td>\n",
              "      <td id=\"T_3e80c_row1_col4\" class=\"data row1 col4\" >None</td>\n",
              "    </tr>\n",
              "    <tr>\n",
              "      <td id=\"T_3e80c_row2_col0\" class=\"data row2 col0\" >Delhi</td>\n",
              "      <td id=\"T_3e80c_row2_col1\" class=\"data row2 col1\" >Research</td>\n",
              "      <td id=\"T_3e80c_row2_col2\" class=\"data row2 col2\" >None</td>\n",
              "      <td id=\"T_3e80c_row2_col3\" class=\"data row2 col3\" >None</td>\n",
              "      <td id=\"T_3e80c_row2_col4\" class=\"data row2 col4\" >None</td>\n",
              "    </tr>\n",
              "  </tbody>\n",
              "</table>\n"
            ]
          },
          "metadata": {},
          "execution_count": 69
        }
      ]
    },
    {
      "cell_type": "markdown",
      "source": [
        "# Insert | Delete | Update"
      ],
      "metadata": {
        "id": "REcqZ7K0DYqi"
      }
    },
    {
      "cell_type": "code",
      "source": [
        "runSelect(\"select * from dept\")"
      ],
      "metadata": {
        "id": "xGgCH9vGDlsI",
        "outputId": "90716cfe-e635-4653-f1da-154b91e26f5e",
        "colab": {
          "base_uri": "https://localhost:8080/",
          "height": 206
        }
      },
      "execution_count": 70,
      "outputs": [
        {
          "output_type": "execute_result",
          "data": {
            "text/plain": [
              "<pandas.io.formats.style.Styler at 0x78a4711241f0>"
            ],
            "text/html": [
              "<style type=\"text/css\">\n",
              "</style>\n",
              "<table id=\"T_75e8b\" class=\"dataframe\">\n",
              "  <thead>\n",
              "    <tr>\n",
              "      <th id=\"T_75e8b_level0_col0\" class=\"col_heading level0 col0\" >deptid</th>\n",
              "      <th id=\"T_75e8b_level0_col1\" class=\"col_heading level0 col1\" >deptname</th>\n",
              "      <th id=\"T_75e8b_level0_col2\" class=\"col_heading level0 col2\" >managerid</th>\n",
              "      <th id=\"T_75e8b_level0_col3\" class=\"col_heading level0 col3\" >location</th>\n",
              "      <th id=\"T_75e8b_level0_col4\" class=\"col_heading level0 col4\" >locationid</th>\n",
              "    </tr>\n",
              "  </thead>\n",
              "  <tbody>\n",
              "    <tr>\n",
              "      <td id=\"T_75e8b_row0_col0\" class=\"data row0 col0\" >10</td>\n",
              "      <td id=\"T_75e8b_row0_col1\" class=\"data row0 col1\" >Corporate</td>\n",
              "      <td id=\"T_75e8b_row0_col2\" class=\"data row0 col2\" >299034</td>\n",
              "      <td id=\"T_75e8b_row0_col3\" class=\"data row0 col3\" >Calcutta</td>\n",
              "      <td id=\"T_75e8b_row0_col4\" class=\"data row0 col4\" >1</td>\n",
              "    </tr>\n",
              "    <tr>\n",
              "      <td id=\"T_75e8b_row1_col0\" class=\"data row1 col0\" >20</td>\n",
              "      <td id=\"T_75e8b_row1_col1\" class=\"data row1 col1\" >Sales</td>\n",
              "      <td id=\"T_75e8b_row1_col2\" class=\"data row1 col2\" >239456</td>\n",
              "      <td id=\"T_75e8b_row1_col3\" class=\"data row1 col3\" >Calcutta</td>\n",
              "      <td id=\"T_75e8b_row1_col4\" class=\"data row1 col4\" >1</td>\n",
              "    </tr>\n",
              "    <tr>\n",
              "      <td id=\"T_75e8b_row2_col0\" class=\"data row2 col0\" >30</td>\n",
              "      <td id=\"T_75e8b_row2_col1\" class=\"data row2 col1\" >Accounts</td>\n",
              "      <td id=\"T_75e8b_row2_col2\" class=\"data row2 col2\" >822134</td>\n",
              "      <td id=\"T_75e8b_row2_col3\" class=\"data row2 col3\" >Calcutta</td>\n",
              "      <td id=\"T_75e8b_row2_col4\" class=\"data row2 col4\" >1</td>\n",
              "    </tr>\n",
              "    <tr>\n",
              "      <td id=\"T_75e8b_row3_col0\" class=\"data row3 col0\" >40</td>\n",
              "      <td id=\"T_75e8b_row3_col1\" class=\"data row3 col1\" >Production</td>\n",
              "      <td id=\"T_75e8b_row3_col2\" class=\"data row3 col2\" >349870</td>\n",
              "      <td id=\"T_75e8b_row3_col3\" class=\"data row3 col3\" >Bombay</td>\n",
              "      <td id=\"T_75e8b_row3_col4\" class=\"data row3 col4\" >2</td>\n",
              "    </tr>\n",
              "    <tr>\n",
              "      <td id=\"T_75e8b_row4_col0\" class=\"data row4 col0\" >60</td>\n",
              "      <td id=\"T_75e8b_row4_col1\" class=\"data row4 col1\" >Research</td>\n",
              "      <td id=\"T_75e8b_row4_col2\" class=\"data row4 col2\" >546224</td>\n",
              "      <td id=\"T_75e8b_row4_col3\" class=\"data row4 col3\" >Delhi</td>\n",
              "      <td id=\"T_75e8b_row4_col4\" class=\"data row4 col4\" >3</td>\n",
              "    </tr>\n",
              "  </tbody>\n",
              "</table>\n"
            ]
          },
          "metadata": {},
          "execution_count": 70
        }
      ]
    },
    {
      "cell_type": "code",
      "source": [
        "runCmd(\"insert into Dept (DeptID, DeptName, ManagerID, Location,LocationID) VALUES \\\n",
        "\t('11', 'Corporate2', '299035', 'Calcutta','1')\")\n",
        "runSelect(\"select * from dept\")"
      ],
      "metadata": {
        "id": "iyW0EobdDuMY",
        "outputId": "f1091124-0446-4ff0-8b95-4f5884afc1b0",
        "colab": {
          "base_uri": "https://localhost:8080/",
          "height": 255
        }
      },
      "execution_count": 71,
      "outputs": [
        {
          "output_type": "stream",
          "name": "stdout",
          "text": [
            "Command executed\n"
          ]
        },
        {
          "output_type": "execute_result",
          "data": {
            "text/plain": [
              "<pandas.io.formats.style.Styler at 0x78a471127550>"
            ],
            "text/html": [
              "<style type=\"text/css\">\n",
              "</style>\n",
              "<table id=\"T_7154b\" class=\"dataframe\">\n",
              "  <thead>\n",
              "    <tr>\n",
              "      <th id=\"T_7154b_level0_col0\" class=\"col_heading level0 col0\" >deptid</th>\n",
              "      <th id=\"T_7154b_level0_col1\" class=\"col_heading level0 col1\" >deptname</th>\n",
              "      <th id=\"T_7154b_level0_col2\" class=\"col_heading level0 col2\" >managerid</th>\n",
              "      <th id=\"T_7154b_level0_col3\" class=\"col_heading level0 col3\" >location</th>\n",
              "      <th id=\"T_7154b_level0_col4\" class=\"col_heading level0 col4\" >locationid</th>\n",
              "    </tr>\n",
              "  </thead>\n",
              "  <tbody>\n",
              "    <tr>\n",
              "      <td id=\"T_7154b_row0_col0\" class=\"data row0 col0\" >10</td>\n",
              "      <td id=\"T_7154b_row0_col1\" class=\"data row0 col1\" >Corporate</td>\n",
              "      <td id=\"T_7154b_row0_col2\" class=\"data row0 col2\" >299034</td>\n",
              "      <td id=\"T_7154b_row0_col3\" class=\"data row0 col3\" >Calcutta</td>\n",
              "      <td id=\"T_7154b_row0_col4\" class=\"data row0 col4\" >1</td>\n",
              "    </tr>\n",
              "    <tr>\n",
              "      <td id=\"T_7154b_row1_col0\" class=\"data row1 col0\" >20</td>\n",
              "      <td id=\"T_7154b_row1_col1\" class=\"data row1 col1\" >Sales</td>\n",
              "      <td id=\"T_7154b_row1_col2\" class=\"data row1 col2\" >239456</td>\n",
              "      <td id=\"T_7154b_row1_col3\" class=\"data row1 col3\" >Calcutta</td>\n",
              "      <td id=\"T_7154b_row1_col4\" class=\"data row1 col4\" >1</td>\n",
              "    </tr>\n",
              "    <tr>\n",
              "      <td id=\"T_7154b_row2_col0\" class=\"data row2 col0\" >30</td>\n",
              "      <td id=\"T_7154b_row2_col1\" class=\"data row2 col1\" >Accounts</td>\n",
              "      <td id=\"T_7154b_row2_col2\" class=\"data row2 col2\" >822134</td>\n",
              "      <td id=\"T_7154b_row2_col3\" class=\"data row2 col3\" >Calcutta</td>\n",
              "      <td id=\"T_7154b_row2_col4\" class=\"data row2 col4\" >1</td>\n",
              "    </tr>\n",
              "    <tr>\n",
              "      <td id=\"T_7154b_row3_col0\" class=\"data row3 col0\" >40</td>\n",
              "      <td id=\"T_7154b_row3_col1\" class=\"data row3 col1\" >Production</td>\n",
              "      <td id=\"T_7154b_row3_col2\" class=\"data row3 col2\" >349870</td>\n",
              "      <td id=\"T_7154b_row3_col3\" class=\"data row3 col3\" >Bombay</td>\n",
              "      <td id=\"T_7154b_row3_col4\" class=\"data row3 col4\" >2</td>\n",
              "    </tr>\n",
              "    <tr>\n",
              "      <td id=\"T_7154b_row4_col0\" class=\"data row4 col0\" >60</td>\n",
              "      <td id=\"T_7154b_row4_col1\" class=\"data row4 col1\" >Research</td>\n",
              "      <td id=\"T_7154b_row4_col2\" class=\"data row4 col2\" >546224</td>\n",
              "      <td id=\"T_7154b_row4_col3\" class=\"data row4 col3\" >Delhi</td>\n",
              "      <td id=\"T_7154b_row4_col4\" class=\"data row4 col4\" >3</td>\n",
              "    </tr>\n",
              "    <tr>\n",
              "      <td id=\"T_7154b_row5_col0\" class=\"data row5 col0\" >11</td>\n",
              "      <td id=\"T_7154b_row5_col1\" class=\"data row5 col1\" >Corporate2</td>\n",
              "      <td id=\"T_7154b_row5_col2\" class=\"data row5 col2\" >299035</td>\n",
              "      <td id=\"T_7154b_row5_col3\" class=\"data row5 col3\" >Calcutta</td>\n",
              "      <td id=\"T_7154b_row5_col4\" class=\"data row5 col4\" >1</td>\n",
              "    </tr>\n",
              "  </tbody>\n",
              "</table>\n"
            ]
          },
          "metadata": {},
          "execution_count": 71
        }
      ]
    },
    {
      "cell_type": "code",
      "source": [
        "runCmd(\"update dept set deptname = 'Marketing' where deptid = '11'\")\n",
        "runSelect(\"select * from dept\")"
      ],
      "metadata": {
        "id": "DqdnmD2pEQNq",
        "outputId": "b4a16668-ba10-4c50-ce74-f80de9e63c02",
        "colab": {
          "base_uri": "https://localhost:8080/",
          "height": 255
        }
      },
      "execution_count": 72,
      "outputs": [
        {
          "output_type": "stream",
          "name": "stdout",
          "text": [
            "Command executed\n"
          ]
        },
        {
          "output_type": "execute_result",
          "data": {
            "text/plain": [
              "<pandas.io.formats.style.Styler at 0x78a4712f6410>"
            ],
            "text/html": [
              "<style type=\"text/css\">\n",
              "</style>\n",
              "<table id=\"T_81b80\" class=\"dataframe\">\n",
              "  <thead>\n",
              "    <tr>\n",
              "      <th id=\"T_81b80_level0_col0\" class=\"col_heading level0 col0\" >deptid</th>\n",
              "      <th id=\"T_81b80_level0_col1\" class=\"col_heading level0 col1\" >deptname</th>\n",
              "      <th id=\"T_81b80_level0_col2\" class=\"col_heading level0 col2\" >managerid</th>\n",
              "      <th id=\"T_81b80_level0_col3\" class=\"col_heading level0 col3\" >location</th>\n",
              "      <th id=\"T_81b80_level0_col4\" class=\"col_heading level0 col4\" >locationid</th>\n",
              "    </tr>\n",
              "  </thead>\n",
              "  <tbody>\n",
              "    <tr>\n",
              "      <td id=\"T_81b80_row0_col0\" class=\"data row0 col0\" >10</td>\n",
              "      <td id=\"T_81b80_row0_col1\" class=\"data row0 col1\" >Corporate</td>\n",
              "      <td id=\"T_81b80_row0_col2\" class=\"data row0 col2\" >299034</td>\n",
              "      <td id=\"T_81b80_row0_col3\" class=\"data row0 col3\" >Calcutta</td>\n",
              "      <td id=\"T_81b80_row0_col4\" class=\"data row0 col4\" >1</td>\n",
              "    </tr>\n",
              "    <tr>\n",
              "      <td id=\"T_81b80_row1_col0\" class=\"data row1 col0\" >20</td>\n",
              "      <td id=\"T_81b80_row1_col1\" class=\"data row1 col1\" >Sales</td>\n",
              "      <td id=\"T_81b80_row1_col2\" class=\"data row1 col2\" >239456</td>\n",
              "      <td id=\"T_81b80_row1_col3\" class=\"data row1 col3\" >Calcutta</td>\n",
              "      <td id=\"T_81b80_row1_col4\" class=\"data row1 col4\" >1</td>\n",
              "    </tr>\n",
              "    <tr>\n",
              "      <td id=\"T_81b80_row2_col0\" class=\"data row2 col0\" >30</td>\n",
              "      <td id=\"T_81b80_row2_col1\" class=\"data row2 col1\" >Accounts</td>\n",
              "      <td id=\"T_81b80_row2_col2\" class=\"data row2 col2\" >822134</td>\n",
              "      <td id=\"T_81b80_row2_col3\" class=\"data row2 col3\" >Calcutta</td>\n",
              "      <td id=\"T_81b80_row2_col4\" class=\"data row2 col4\" >1</td>\n",
              "    </tr>\n",
              "    <tr>\n",
              "      <td id=\"T_81b80_row3_col0\" class=\"data row3 col0\" >40</td>\n",
              "      <td id=\"T_81b80_row3_col1\" class=\"data row3 col1\" >Production</td>\n",
              "      <td id=\"T_81b80_row3_col2\" class=\"data row3 col2\" >349870</td>\n",
              "      <td id=\"T_81b80_row3_col3\" class=\"data row3 col3\" >Bombay</td>\n",
              "      <td id=\"T_81b80_row3_col4\" class=\"data row3 col4\" >2</td>\n",
              "    </tr>\n",
              "    <tr>\n",
              "      <td id=\"T_81b80_row4_col0\" class=\"data row4 col0\" >60</td>\n",
              "      <td id=\"T_81b80_row4_col1\" class=\"data row4 col1\" >Research</td>\n",
              "      <td id=\"T_81b80_row4_col2\" class=\"data row4 col2\" >546224</td>\n",
              "      <td id=\"T_81b80_row4_col3\" class=\"data row4 col3\" >Delhi</td>\n",
              "      <td id=\"T_81b80_row4_col4\" class=\"data row4 col4\" >3</td>\n",
              "    </tr>\n",
              "    <tr>\n",
              "      <td id=\"T_81b80_row5_col0\" class=\"data row5 col0\" >11</td>\n",
              "      <td id=\"T_81b80_row5_col1\" class=\"data row5 col1\" >Marketing</td>\n",
              "      <td id=\"T_81b80_row5_col2\" class=\"data row5 col2\" >299035</td>\n",
              "      <td id=\"T_81b80_row5_col3\" class=\"data row5 col3\" >Calcutta</td>\n",
              "      <td id=\"T_81b80_row5_col4\" class=\"data row5 col4\" >1</td>\n",
              "    </tr>\n",
              "  </tbody>\n",
              "</table>\n"
            ]
          },
          "metadata": {},
          "execution_count": 72
        }
      ]
    },
    {
      "cell_type": "code",
      "source": [
        "runCmd(\"delete from dept where deptid = '11'\")\n",
        "runSelect(\"select * from dept\")"
      ],
      "metadata": {
        "id": "nsnJnNrEF6iS",
        "outputId": "49f917e2-a90a-496e-dcc9-7e279d5c74d8",
        "colab": {
          "base_uri": "https://localhost:8080/",
          "height": 224
        }
      },
      "execution_count": 73,
      "outputs": [
        {
          "output_type": "stream",
          "name": "stdout",
          "text": [
            "Command executed\n"
          ]
        },
        {
          "output_type": "execute_result",
          "data": {
            "text/plain": [
              "<pandas.io.formats.style.Styler at 0x78a471124c10>"
            ],
            "text/html": [
              "<style type=\"text/css\">\n",
              "</style>\n",
              "<table id=\"T_befa8\" class=\"dataframe\">\n",
              "  <thead>\n",
              "    <tr>\n",
              "      <th id=\"T_befa8_level0_col0\" class=\"col_heading level0 col0\" >deptid</th>\n",
              "      <th id=\"T_befa8_level0_col1\" class=\"col_heading level0 col1\" >deptname</th>\n",
              "      <th id=\"T_befa8_level0_col2\" class=\"col_heading level0 col2\" >managerid</th>\n",
              "      <th id=\"T_befa8_level0_col3\" class=\"col_heading level0 col3\" >location</th>\n",
              "      <th id=\"T_befa8_level0_col4\" class=\"col_heading level0 col4\" >locationid</th>\n",
              "    </tr>\n",
              "  </thead>\n",
              "  <tbody>\n",
              "    <tr>\n",
              "      <td id=\"T_befa8_row0_col0\" class=\"data row0 col0\" >10</td>\n",
              "      <td id=\"T_befa8_row0_col1\" class=\"data row0 col1\" >Corporate</td>\n",
              "      <td id=\"T_befa8_row0_col2\" class=\"data row0 col2\" >299034</td>\n",
              "      <td id=\"T_befa8_row0_col3\" class=\"data row0 col3\" >Calcutta</td>\n",
              "      <td id=\"T_befa8_row0_col4\" class=\"data row0 col4\" >1</td>\n",
              "    </tr>\n",
              "    <tr>\n",
              "      <td id=\"T_befa8_row1_col0\" class=\"data row1 col0\" >20</td>\n",
              "      <td id=\"T_befa8_row1_col1\" class=\"data row1 col1\" >Sales</td>\n",
              "      <td id=\"T_befa8_row1_col2\" class=\"data row1 col2\" >239456</td>\n",
              "      <td id=\"T_befa8_row1_col3\" class=\"data row1 col3\" >Calcutta</td>\n",
              "      <td id=\"T_befa8_row1_col4\" class=\"data row1 col4\" >1</td>\n",
              "    </tr>\n",
              "    <tr>\n",
              "      <td id=\"T_befa8_row2_col0\" class=\"data row2 col0\" >30</td>\n",
              "      <td id=\"T_befa8_row2_col1\" class=\"data row2 col1\" >Accounts</td>\n",
              "      <td id=\"T_befa8_row2_col2\" class=\"data row2 col2\" >822134</td>\n",
              "      <td id=\"T_befa8_row2_col3\" class=\"data row2 col3\" >Calcutta</td>\n",
              "      <td id=\"T_befa8_row2_col4\" class=\"data row2 col4\" >1</td>\n",
              "    </tr>\n",
              "    <tr>\n",
              "      <td id=\"T_befa8_row3_col0\" class=\"data row3 col0\" >40</td>\n",
              "      <td id=\"T_befa8_row3_col1\" class=\"data row3 col1\" >Production</td>\n",
              "      <td id=\"T_befa8_row3_col2\" class=\"data row3 col2\" >349870</td>\n",
              "      <td id=\"T_befa8_row3_col3\" class=\"data row3 col3\" >Bombay</td>\n",
              "      <td id=\"T_befa8_row3_col4\" class=\"data row3 col4\" >2</td>\n",
              "    </tr>\n",
              "    <tr>\n",
              "      <td id=\"T_befa8_row4_col0\" class=\"data row4 col0\" >60</td>\n",
              "      <td id=\"T_befa8_row4_col1\" class=\"data row4 col1\" >Research</td>\n",
              "      <td id=\"T_befa8_row4_col2\" class=\"data row4 col2\" >546224</td>\n",
              "      <td id=\"T_befa8_row4_col3\" class=\"data row4 col3\" >Delhi</td>\n",
              "      <td id=\"T_befa8_row4_col4\" class=\"data row4 col4\" >3</td>\n",
              "    </tr>\n",
              "  </tbody>\n",
              "</table>\n"
            ]
          },
          "metadata": {},
          "execution_count": 73
        }
      ]
    },
    {
      "cell_type": "code",
      "source": [
        "from datetime import datetime\n",
        "import pytz\n",
        "print('Last tested  ',datetime.now(pytz.timezone('Asia/Kolkata')))"
      ],
      "metadata": {
        "colab": {
          "base_uri": "https://localhost:8080/"
        },
        "id": "wjBXJVhM605H",
        "outputId": "63105b55-631f-4258-d46d-61e76f3a36c0"
      },
      "execution_count": 74,
      "outputs": [
        {
          "output_type": "stream",
          "name": "stdout",
          "text": [
            "Last tested   2023-12-31 05:22:31.565983+05:30\n"
          ]
        }
      ]
    },
    {
      "cell_type": "markdown",
      "source": [
        "#Chronobooks <br>\n",
        "Two science fiction novels by Prithwis Mukerjee. A dystopian Earth. A technocratic society managed by artificial intelligence. Escape and epiphany on Mars. Can man and machine, carbon and silicon explore and escape into other dimensions of existence? An Indic perspective rooted in Advaita Vedanta and the Divine Feminine.  [More information](http://bit.ly/chronobooks) <br>\n",
        "![alt text](https://github.com/Praxis-QR/RDWH/raw/main/images/CTCYFooter-1.png)"
      ],
      "metadata": {
        "id": "_gNiZpyW3AzJ"
      }
    }
  ]
}