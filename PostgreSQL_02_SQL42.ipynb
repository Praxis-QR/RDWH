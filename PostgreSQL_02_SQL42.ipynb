{
  "nbformat": 4,
  "nbformat_minor": 0,
  "metadata": {
    "colab": {
      "provenance": [],
      "toc_visible": true,
      "include_colab_link": true
    },
    "kernelspec": {
      "name": "python3",
      "display_name": "Python 3"
    },
    "language_info": {
      "name": "python"
    }
  },
  "cells": [
    {
      "cell_type": "markdown",
      "metadata": {
        "id": "view-in-github",
        "colab_type": "text"
      },
      "source": [
        "<a href=\"https://colab.research.google.com/github/Praxis-QR/RDWH/blob/main/PostgreSQL_02_SQL42.ipynb\" target=\"_parent\"><img src=\"https://colab.research.google.com/assets/colab-badge.svg\" alt=\"Open In Colab\"/></a>"
      ]
    },
    {
      "cell_type": "markdown",
      "source": [
        "![Yantrajaal Banner](https://github.com/Praxis-QR/RDWH/raw/main/images/YantraJaalBanner.png)<br>\n",
        "\n",
        "\n",
        "<hr>\n",
        "\n",
        "[Prithwis Mukerjee](http://www.linkedin.com/in/prithwis)<br>"
      ],
      "metadata": {
        "id": "DBzz-qaN2tKu"
      }
    },
    {
      "cell_type": "markdown",
      "source": [
        "![PostgreSQL 42](https://raw.githubusercontent.com/Praxis-QR/RDWH/main/images/PostgreSQL_24.01.png)<br>\n",
        "[SlideDeck](https://docs.google.com/presentation/d/1hdkAGbMxLfO1GYe7RzEo3LhGZhsXkyjIfBqkA72B6LM/edit?usp=sharing)"
      ],
      "metadata": {
        "id": "dBJ6X0LiJtZ6"
      }
    },
    {
      "cell_type": "markdown",
      "source": [
        "#Install & Configure Postgres"
      ],
      "metadata": {
        "id": "nD-QawLT6kDr"
      }
    },
    {
      "cell_type": "code",
      "source": [
        "from datetime import datetime\n",
        "import pytz\n",
        "print('Tested on |',datetime.now(pytz.timezone('Asia/Calcutta')))\n",
        "!python --version\n",
        "!lsb_release -a"
      ],
      "metadata": {
        "id": "txwvst5Hs5mI",
        "outputId": "194ca9d8-20af-484f-8faa-8f7323248eae",
        "colab": {
          "base_uri": "https://localhost:8080/"
        }
      },
      "execution_count": 1,
      "outputs": [
        {
          "output_type": "stream",
          "name": "stdout",
          "text": [
            "Tested on | 2024-01-09 09:13:04.552602+05:30\n",
            "Python 3.10.12\n",
            "No LSB modules are available.\n",
            "Distributor ID:\tUbuntu\n",
            "Description:\tUbuntu 22.04.3 LTS\n",
            "Release:\t22.04\n",
            "Codename:\tjammy\n"
          ]
        }
      ]
    },
    {
      "cell_type": "markdown",
      "source": [
        "For Connecting to a Postgres server on Amazon RDS, see [this notebook](https://github.com/Praxis-QR/RDWH/blob/main/PostgreSQL_01_Install_Config.ipynb)"
      ],
      "metadata": {
        "id": "9w29_O07rTPE"
      }
    },
    {
      "cell_type": "code",
      "source": [
        "# Install postgresql server\n",
        "\n",
        "!apt update > /dev/null\n",
        "!apt install postgresql > /dev/null\n",
        "#!pip install psycopg2\n",
        "import psycopg2\n",
        "import pandas as pd\n",
        "#!sudo -u postgres psql -V\n",
        "!psql -V\n",
        "!service postgresql start"
      ],
      "metadata": {
        "colab": {
          "base_uri": "https://localhost:8080/"
        },
        "id": "o_RaqE0OOHP3",
        "outputId": "e9b83915-e8db-491f-9d56-5e49efc07678"
      },
      "execution_count": 2,
      "outputs": [
        {
          "output_type": "stream",
          "name": "stdout",
          "text": [
            "\n",
            "WARNING: apt does not have a stable CLI interface. Use with caution in scripts.\n",
            "\n",
            "\n",
            "WARNING: apt does not have a stable CLI interface. Use with caution in scripts.\n",
            "\n",
            "psql (PostgreSQL) 14.10 (Ubuntu 14.10-0ubuntu0.22.04.1)\n",
            " * Starting PostgreSQL 14 database server\n",
            "   ...done.\n"
          ]
        }
      ]
    },
    {
      "cell_type": "code",
      "source": [
        "# The installation creates Ubuntu user 'postgres' AND a Postgres database user 'postgres' both of which are superusers\n",
        "#!cat /etc/passwd\n",
        "# Use these users to create a new database user called 'upraxis' and give it a password 'upass'\n",
        "#!sudo -u postgres createuser --superuser upraxis\n",
        "!sudo -u postgres createuser upraxis\n",
        "!sudo -u postgres psql -U postgres -c \"ALTER USER upraxis PASSWORD 'upass';\"\n",
        "#\n",
        "# Change the database superuser 'postgres' to a non-default value 'pass'\n",
        "!sudo -u postgres psql -U postgres -c \"ALTER USER postgres PASSWORD 'pass';\"\n",
        "#\n",
        "# Use ubuntu superuser to create database dbpraxis and set its owner to upraxis\n",
        "!sudo -u postgres createdb -O upraxis dbpraxis\n",
        "#\n",
        "# Create file to store the password. Else will be prompted each time\n",
        "#\n",
        "!echo \"localhost:5432:dbpraxis:upraxis:upass\" > ~/.pgpass\n",
        "!echo \"localhost:5432:dbpraxis:postgres:pass\" >> ~/.pgpass\n",
        "!chmod 0600 ~/.pgpass\n",
        "!cat ~/.pgpass\n"
      ],
      "metadata": {
        "colab": {
          "base_uri": "https://localhost:8080/"
        },
        "id": "xr5kHaY_U4CZ",
        "outputId": "a7d6bd74-9b60-4803-a254-8acfe866ee58"
      },
      "execution_count": 3,
      "outputs": [
        {
          "output_type": "stream",
          "name": "stdout",
          "text": [
            "ALTER ROLE\n",
            "ALTER ROLE\n",
            "localhost:5432:dbpraxis:upraxis:upass\n",
            "localhost:5432:dbpraxis:postgres:pass\n"
          ]
        }
      ]
    },
    {
      "cell_type": "markdown",
      "source": [
        "## Create and Load Tables"
      ],
      "metadata": {
        "id": "pHTdNzrU6qUE"
      }
    },
    {
      "cell_type": "code",
      "source": [
        "# Create Two tables using command line interface\n",
        "#\n",
        "!psql -h localhost -p 5432 -Uupraxis -ddbpraxis -c \\\n",
        "\"drop table if exists Dept;\\\n",
        "create table Dept (\\\n",
        "    DeptID char(2),\\\n",
        "    DeptName varchar(20),\\\n",
        "    ManagerID char(6),\\\n",
        "    Location varchar(10),\\\n",
        "    LocationID char(1)\\\n",
        "    );\\\n",
        "insert into Dept (DeptID, DeptName, ManagerID, Location,LocationID) VALUES \\\n",
        "\t('10', 'Corporate', '299034', 'Calcutta','1'), \\\n",
        "\t('20', 'Sales', '239456', 'Calcutta','1'), \\\n",
        "\t('30', 'Accounts', '822134', 'Calcutta','1'), \\\n",
        "\t('40', 'Production', '349870', 'Bombay','2'),\\\n",
        "    ('60', 'Research', '546224', 'Delhi','3');\\\n",
        "\""
      ],
      "metadata": {
        "colab": {
          "base_uri": "https://localhost:8080/"
        },
        "id": "DsUZ9JlEXIir",
        "outputId": "4bb929b6-e82f-483a-976b-de788f08610f"
      },
      "execution_count": 4,
      "outputs": [
        {
          "output_type": "stream",
          "name": "stdout",
          "text": [
            "NOTICE:  table \"dept\" does not exist, skipping\n",
            "INSERT 0 5\n"
          ]
        }
      ]
    },
    {
      "cell_type": "code",
      "source": [
        "!psql -h localhost -p 5432 -Uupraxis -ddbpraxis -c \\\n",
        "\"drop table if exists Empl;\\\n",
        "create table Empl \\\n",
        "    (EmpID char(6),\\\n",
        "    LastName varchar(20),\\\n",
        "    FirstName varchar(20),\\\n",
        "    JobDesc varchar(10),\\\n",
        "    JoinDate date,\\\n",
        "    Salary int,\\\n",
        "    Comm decimal(3,2),\\\n",
        "    DeptID char(2),\\\n",
        "    HiredBy char(6)\\\n",
        "    );\\\n",
        "INSERT INTO Empl (EmpID, LastName, FirstName, JobDesc, JoinDate, Salary, Comm, DeptID, HiredBy) \\\n",
        "    VALUES \\\n",
        "\t('742866', 'Bacchan', 'Amitabh', 'Executive', '2003-03-10', 50000, 0.1, '10', NULL), \\\n",
        "\t('349870', 'Mukherjee', 'Rani', 'Manager', '2005-05-04', 25000, 0.06, '40', '742866'), \\\n",
        "\t('865477', 'Dikshit', 'Madhuri', 'Clerk', '2002-04-04', 10000, 0.02, '20', '239456'), \\\n",
        "\t('239456', 'Khan', 'Shahrukh', 'Manager', '2004-01-03', 30000, 0.07, '20', '742866'), \\\n",
        "\t('897889', 'Sehwag', 'Virender', 'Cus_Rep', '2005-01-02', 15000, 0.05, '20', '239456'), \\\n",
        "\t('123980', 'Dhoni', 'Mahender', 'Clerk', '2004-10-09', 9000, 0.02, '40', '349870'), \\\n",
        "\t('822134', 'Dravid', 'Rahul', 'Sr Manager', '2000-06-04', 40000, 0.08, '30', '742866'), \\\n",
        "\t('997445', 'Dalmia', 'Jagmohan', 'Clerk', '2001-07-01', 12000, 0.02, '30', '822134'), \\\n",
        "\t('989007', 'Ganguly', 'Sourav', 'Cus_Rep', '2002-01-01', 20000, 0.03, '40', '299034'), \\\n",
        "\t('299034', 'Ganesan', 'Rekha', 'Director', '2002-10-10', 60000, 0.11, '10', '742866'), \\\n",
        "\t('546223', 'Karthikeyan', 'Narayan', 'Secretary', '2005-12-04', 40000, 0.09, '10', '299034'), \\\n",
        "    ('546224', 'Sunil', 'Chettri', 'Dy Manager', '2006-12-07', 40000, 0.05, '70', '349870'), \\\n",
        "\t('223112', 'Mirza', 'Sania', 'Cus_Rep', '2001-11-19', 25000, 0.04, '30', '822134');\\\n",
        "\""
      ],
      "metadata": {
        "colab": {
          "base_uri": "https://localhost:8080/"
        },
        "id": "5kWs3wyEd9Tm",
        "outputId": "4b8f9603-c633-43a2-b70e-f4defa213eec"
      },
      "execution_count": 5,
      "outputs": [
        {
          "output_type": "stream",
          "name": "stdout",
          "text": [
            "NOTICE:  table \"empl\" does not exist, skipping\n",
            "INSERT 0 13\n"
          ]
        }
      ]
    },
    {
      "cell_type": "code",
      "source": [
        "#!psql -h localhost -p 5432 -Upostgres -dpraxisdb -c \"select * from dept;\"\n",
        "#!psql -h localhost -p 5432 -Uupraxis -ddbpraxis -c \"select * from dept;\""
      ],
      "metadata": {
        "id": "HyBUhbAI2PV1"
      },
      "execution_count": null,
      "outputs": []
    },
    {
      "cell_type": "code",
      "source": [
        "#!psql -h localhost -p 5432 -U postgres -d praxisdb -c \"select * from empl;\"\n",
        "#!psql -h localhost -p 5432 -U upraxis -d dbpraxis -c \"select * from empl;\""
      ],
      "metadata": {
        "id": "byY2iccO4ctF"
      },
      "execution_count": null,
      "outputs": []
    },
    {
      "cell_type": "markdown",
      "source": [
        "## Python Access\n",
        "https://www.tutorialspoint.com/python_data_access/python_postgresql_database_connection.htm"
      ],
      "metadata": {
        "id": "faZEj8_7CeZ8"
      }
    },
    {
      "cell_type": "code",
      "source": [
        "# Local Colab server\n",
        "\n",
        "conn = psycopg2.connect(database=\"dbpraxis\", user='upraxis', password='upass', host='127.0.0.1', port= '5432')\n",
        "#Creating a cursor object using the cursor() method\n",
        "cursor = conn.cursor()\n",
        "#Executing an MYSQL function using the execute() method\n",
        "cursor.execute(\"select version()\")\n",
        "# Fetch a single row using fetchone() method.\n",
        "data = cursor.fetchone()\n",
        "print(\"Connection established to: \",data)\n",
        "#Closing the connection\n",
        "conn.close()"
      ],
      "metadata": {
        "id": "wcE-8UBnC4zV",
        "outputId": "5dd96f3e-521a-4c12-a249-18dc04f1771e",
        "colab": {
          "base_uri": "https://localhost:8080/"
        }
      },
      "execution_count": 6,
      "outputs": [
        {
          "output_type": "stream",
          "name": "stdout",
          "text": [
            "Connection established to:  ('PostgreSQL 14.10 (Ubuntu 14.10-0ubuntu0.22.04.1) on x86_64-pc-linux-gnu, compiled by gcc (Ubuntu 11.4.0-1ubuntu1~22.04) 11.4.0, 64-bit',)\n"
          ]
        }
      ]
    },
    {
      "cell_type": "code",
      "source": [
        "# function to execute SQL select statements with Postgres\n",
        "#\n",
        "def runSelect(s):\n",
        "    #Set up connection\n",
        "\n",
        "    conn = psycopg2.connect(database=\"dbpraxis\", user='upraxis', password='upass', host='127.0.0.1', port= '5432')\n",
        "    #Setting auto commit true\n",
        "    conn.autocommit = True\n",
        "    #Creating a cursor object using the cursor() method\n",
        "    cursor = conn.cursor()\n",
        "    #Retrieving data\n",
        "    cursor.execute(s)\n",
        "    #Fetching all rows from the table\n",
        "    result = cursor.fetchall();\n",
        "    #print(len(result))\n",
        "    if (len(result)) > 0:                                       # result contains at least one row\n",
        "        colnames = [desc[0] for desc in cursor.description]     # get column names\n",
        "        #print(colnames)\n",
        "        resultdf = pd.DataFrame(result)                         # convert list to dataframe\n",
        "        resultdf.columns = colnames                             # add column names\n",
        "        #return resultdf\n",
        "        return resultdf.style.hide()                            # hide the index\n",
        "    else:\n",
        "        print('no records found')\n",
        "        return\n",
        "# function to execute SQL non-select statements with Postgres\n",
        "#\n",
        "def runCmd(s):\n",
        "    #Create Connection\n",
        "    conn = psycopg2.connect(database=\"dbpraxis\", user='upraxis', password='upass', host='127.0.0.1', port= '5432')\n",
        "    #Creating a cursor object using the cursor() method\n",
        "    cursor = conn.cursor()\n",
        "    try:\n",
        "        cursor.execute(s)\n",
        "        print('Command executed')\n",
        "        conn.commit()\n",
        "    except:\n",
        "        print('Command failed')\n",
        "    #Closing the connection\n",
        "    conn.close()"
      ],
      "metadata": {
        "id": "ht2k7-3iggNd"
      },
      "execution_count": 7,
      "outputs": []
    },
    {
      "cell_type": "markdown",
      "source": [
        "#Select - getting started"
      ],
      "metadata": {
        "id": "k0rXiciVtu7Q"
      }
    },
    {
      "cell_type": "code",
      "source": [
        "#runSelect(\"select * from dept where deptid = '100'\")\n",
        "#runSelect(\"select * from dept where deptid = '10'\")\n",
        "runSelect(\"select * from dept\")"
      ],
      "metadata": {
        "id": "N3NZv0YahSs6",
        "outputId": "d0899b53-2c6c-48bb-c07a-7920314518f5",
        "colab": {
          "base_uri": "https://localhost:8080/",
          "height": 206
        }
      },
      "execution_count": 8,
      "outputs": [
        {
          "output_type": "execute_result",
          "data": {
            "text/plain": [
              "<pandas.io.formats.style.Styler at 0x7e9c4baf3a90>"
            ],
            "text/html": [
              "<style type=\"text/css\">\n",
              "</style>\n",
              "<table id=\"T_43d78\" class=\"dataframe\">\n",
              "  <thead>\n",
              "    <tr>\n",
              "      <th id=\"T_43d78_level0_col0\" class=\"col_heading level0 col0\" >deptid</th>\n",
              "      <th id=\"T_43d78_level0_col1\" class=\"col_heading level0 col1\" >deptname</th>\n",
              "      <th id=\"T_43d78_level0_col2\" class=\"col_heading level0 col2\" >managerid</th>\n",
              "      <th id=\"T_43d78_level0_col3\" class=\"col_heading level0 col3\" >location</th>\n",
              "      <th id=\"T_43d78_level0_col4\" class=\"col_heading level0 col4\" >locationid</th>\n",
              "    </tr>\n",
              "  </thead>\n",
              "  <tbody>\n",
              "    <tr>\n",
              "      <td id=\"T_43d78_row0_col0\" class=\"data row0 col0\" >10</td>\n",
              "      <td id=\"T_43d78_row0_col1\" class=\"data row0 col1\" >Corporate</td>\n",
              "      <td id=\"T_43d78_row0_col2\" class=\"data row0 col2\" >299034</td>\n",
              "      <td id=\"T_43d78_row0_col3\" class=\"data row0 col3\" >Calcutta</td>\n",
              "      <td id=\"T_43d78_row0_col4\" class=\"data row0 col4\" >1</td>\n",
              "    </tr>\n",
              "    <tr>\n",
              "      <td id=\"T_43d78_row1_col0\" class=\"data row1 col0\" >20</td>\n",
              "      <td id=\"T_43d78_row1_col1\" class=\"data row1 col1\" >Sales</td>\n",
              "      <td id=\"T_43d78_row1_col2\" class=\"data row1 col2\" >239456</td>\n",
              "      <td id=\"T_43d78_row1_col3\" class=\"data row1 col3\" >Calcutta</td>\n",
              "      <td id=\"T_43d78_row1_col4\" class=\"data row1 col4\" >1</td>\n",
              "    </tr>\n",
              "    <tr>\n",
              "      <td id=\"T_43d78_row2_col0\" class=\"data row2 col0\" >30</td>\n",
              "      <td id=\"T_43d78_row2_col1\" class=\"data row2 col1\" >Accounts</td>\n",
              "      <td id=\"T_43d78_row2_col2\" class=\"data row2 col2\" >822134</td>\n",
              "      <td id=\"T_43d78_row2_col3\" class=\"data row2 col3\" >Calcutta</td>\n",
              "      <td id=\"T_43d78_row2_col4\" class=\"data row2 col4\" >1</td>\n",
              "    </tr>\n",
              "    <tr>\n",
              "      <td id=\"T_43d78_row3_col0\" class=\"data row3 col0\" >40</td>\n",
              "      <td id=\"T_43d78_row3_col1\" class=\"data row3 col1\" >Production</td>\n",
              "      <td id=\"T_43d78_row3_col2\" class=\"data row3 col2\" >349870</td>\n",
              "      <td id=\"T_43d78_row3_col3\" class=\"data row3 col3\" >Bombay</td>\n",
              "      <td id=\"T_43d78_row3_col4\" class=\"data row3 col4\" >2</td>\n",
              "    </tr>\n",
              "    <tr>\n",
              "      <td id=\"T_43d78_row4_col0\" class=\"data row4 col0\" >60</td>\n",
              "      <td id=\"T_43d78_row4_col1\" class=\"data row4 col1\" >Research</td>\n",
              "      <td id=\"T_43d78_row4_col2\" class=\"data row4 col2\" >546224</td>\n",
              "      <td id=\"T_43d78_row4_col3\" class=\"data row4 col3\" >Delhi</td>\n",
              "      <td id=\"T_43d78_row4_col4\" class=\"data row4 col4\" >3</td>\n",
              "    </tr>\n",
              "  </tbody>\n",
              "</table>\n"
            ]
          },
          "metadata": {},
          "execution_count": 8
        }
      ]
    },
    {
      "cell_type": "code",
      "source": [
        "runSelect('select * from empl')"
      ],
      "metadata": {
        "id": "Otiv4rjSl5Tg",
        "outputId": "96752153-1020-4fa2-bd2b-795bd3ff6288",
        "colab": {
          "base_uri": "https://localhost:8080/",
          "height": 457
        }
      },
      "execution_count": 9,
      "outputs": [
        {
          "output_type": "execute_result",
          "data": {
            "text/plain": [
              "<pandas.io.formats.style.Styler at 0x7e9c60a56da0>"
            ],
            "text/html": [
              "<style type=\"text/css\">\n",
              "</style>\n",
              "<table id=\"T_511a6\" class=\"dataframe\">\n",
              "  <thead>\n",
              "    <tr>\n",
              "      <th id=\"T_511a6_level0_col0\" class=\"col_heading level0 col0\" >empid</th>\n",
              "      <th id=\"T_511a6_level0_col1\" class=\"col_heading level0 col1\" >lastname</th>\n",
              "      <th id=\"T_511a6_level0_col2\" class=\"col_heading level0 col2\" >firstname</th>\n",
              "      <th id=\"T_511a6_level0_col3\" class=\"col_heading level0 col3\" >jobdesc</th>\n",
              "      <th id=\"T_511a6_level0_col4\" class=\"col_heading level0 col4\" >joindate</th>\n",
              "      <th id=\"T_511a6_level0_col5\" class=\"col_heading level0 col5\" >salary</th>\n",
              "      <th id=\"T_511a6_level0_col6\" class=\"col_heading level0 col6\" >comm</th>\n",
              "      <th id=\"T_511a6_level0_col7\" class=\"col_heading level0 col7\" >deptid</th>\n",
              "      <th id=\"T_511a6_level0_col8\" class=\"col_heading level0 col8\" >hiredby</th>\n",
              "    </tr>\n",
              "  </thead>\n",
              "  <tbody>\n",
              "    <tr>\n",
              "      <td id=\"T_511a6_row0_col0\" class=\"data row0 col0\" >742866</td>\n",
              "      <td id=\"T_511a6_row0_col1\" class=\"data row0 col1\" >Bacchan</td>\n",
              "      <td id=\"T_511a6_row0_col2\" class=\"data row0 col2\" >Amitabh</td>\n",
              "      <td id=\"T_511a6_row0_col3\" class=\"data row0 col3\" >Executive</td>\n",
              "      <td id=\"T_511a6_row0_col4\" class=\"data row0 col4\" >2003-03-10</td>\n",
              "      <td id=\"T_511a6_row0_col5\" class=\"data row0 col5\" >50000</td>\n",
              "      <td id=\"T_511a6_row0_col6\" class=\"data row0 col6\" >0.10</td>\n",
              "      <td id=\"T_511a6_row0_col7\" class=\"data row0 col7\" >10</td>\n",
              "      <td id=\"T_511a6_row0_col8\" class=\"data row0 col8\" >None</td>\n",
              "    </tr>\n",
              "    <tr>\n",
              "      <td id=\"T_511a6_row1_col0\" class=\"data row1 col0\" >349870</td>\n",
              "      <td id=\"T_511a6_row1_col1\" class=\"data row1 col1\" >Mukherjee</td>\n",
              "      <td id=\"T_511a6_row1_col2\" class=\"data row1 col2\" >Rani</td>\n",
              "      <td id=\"T_511a6_row1_col3\" class=\"data row1 col3\" >Manager</td>\n",
              "      <td id=\"T_511a6_row1_col4\" class=\"data row1 col4\" >2005-05-04</td>\n",
              "      <td id=\"T_511a6_row1_col5\" class=\"data row1 col5\" >25000</td>\n",
              "      <td id=\"T_511a6_row1_col6\" class=\"data row1 col6\" >0.06</td>\n",
              "      <td id=\"T_511a6_row1_col7\" class=\"data row1 col7\" >40</td>\n",
              "      <td id=\"T_511a6_row1_col8\" class=\"data row1 col8\" >742866</td>\n",
              "    </tr>\n",
              "    <tr>\n",
              "      <td id=\"T_511a6_row2_col0\" class=\"data row2 col0\" >865477</td>\n",
              "      <td id=\"T_511a6_row2_col1\" class=\"data row2 col1\" >Dikshit</td>\n",
              "      <td id=\"T_511a6_row2_col2\" class=\"data row2 col2\" >Madhuri</td>\n",
              "      <td id=\"T_511a6_row2_col3\" class=\"data row2 col3\" >Clerk</td>\n",
              "      <td id=\"T_511a6_row2_col4\" class=\"data row2 col4\" >2002-04-04</td>\n",
              "      <td id=\"T_511a6_row2_col5\" class=\"data row2 col5\" >10000</td>\n",
              "      <td id=\"T_511a6_row2_col6\" class=\"data row2 col6\" >0.02</td>\n",
              "      <td id=\"T_511a6_row2_col7\" class=\"data row2 col7\" >20</td>\n",
              "      <td id=\"T_511a6_row2_col8\" class=\"data row2 col8\" >239456</td>\n",
              "    </tr>\n",
              "    <tr>\n",
              "      <td id=\"T_511a6_row3_col0\" class=\"data row3 col0\" >239456</td>\n",
              "      <td id=\"T_511a6_row3_col1\" class=\"data row3 col1\" >Khan</td>\n",
              "      <td id=\"T_511a6_row3_col2\" class=\"data row3 col2\" >Shahrukh</td>\n",
              "      <td id=\"T_511a6_row3_col3\" class=\"data row3 col3\" >Manager</td>\n",
              "      <td id=\"T_511a6_row3_col4\" class=\"data row3 col4\" >2004-01-03</td>\n",
              "      <td id=\"T_511a6_row3_col5\" class=\"data row3 col5\" >30000</td>\n",
              "      <td id=\"T_511a6_row3_col6\" class=\"data row3 col6\" >0.07</td>\n",
              "      <td id=\"T_511a6_row3_col7\" class=\"data row3 col7\" >20</td>\n",
              "      <td id=\"T_511a6_row3_col8\" class=\"data row3 col8\" >742866</td>\n",
              "    </tr>\n",
              "    <tr>\n",
              "      <td id=\"T_511a6_row4_col0\" class=\"data row4 col0\" >897889</td>\n",
              "      <td id=\"T_511a6_row4_col1\" class=\"data row4 col1\" >Sehwag</td>\n",
              "      <td id=\"T_511a6_row4_col2\" class=\"data row4 col2\" >Virender</td>\n",
              "      <td id=\"T_511a6_row4_col3\" class=\"data row4 col3\" >Cus_Rep</td>\n",
              "      <td id=\"T_511a6_row4_col4\" class=\"data row4 col4\" >2005-01-02</td>\n",
              "      <td id=\"T_511a6_row4_col5\" class=\"data row4 col5\" >15000</td>\n",
              "      <td id=\"T_511a6_row4_col6\" class=\"data row4 col6\" >0.05</td>\n",
              "      <td id=\"T_511a6_row4_col7\" class=\"data row4 col7\" >20</td>\n",
              "      <td id=\"T_511a6_row4_col8\" class=\"data row4 col8\" >239456</td>\n",
              "    </tr>\n",
              "    <tr>\n",
              "      <td id=\"T_511a6_row5_col0\" class=\"data row5 col0\" >123980</td>\n",
              "      <td id=\"T_511a6_row5_col1\" class=\"data row5 col1\" >Dhoni</td>\n",
              "      <td id=\"T_511a6_row5_col2\" class=\"data row5 col2\" >Mahender</td>\n",
              "      <td id=\"T_511a6_row5_col3\" class=\"data row5 col3\" >Clerk</td>\n",
              "      <td id=\"T_511a6_row5_col4\" class=\"data row5 col4\" >2004-10-09</td>\n",
              "      <td id=\"T_511a6_row5_col5\" class=\"data row5 col5\" >9000</td>\n",
              "      <td id=\"T_511a6_row5_col6\" class=\"data row5 col6\" >0.02</td>\n",
              "      <td id=\"T_511a6_row5_col7\" class=\"data row5 col7\" >40</td>\n",
              "      <td id=\"T_511a6_row5_col8\" class=\"data row5 col8\" >349870</td>\n",
              "    </tr>\n",
              "    <tr>\n",
              "      <td id=\"T_511a6_row6_col0\" class=\"data row6 col0\" >822134</td>\n",
              "      <td id=\"T_511a6_row6_col1\" class=\"data row6 col1\" >Dravid</td>\n",
              "      <td id=\"T_511a6_row6_col2\" class=\"data row6 col2\" >Rahul</td>\n",
              "      <td id=\"T_511a6_row6_col3\" class=\"data row6 col3\" >Sr Manager</td>\n",
              "      <td id=\"T_511a6_row6_col4\" class=\"data row6 col4\" >2000-06-04</td>\n",
              "      <td id=\"T_511a6_row6_col5\" class=\"data row6 col5\" >40000</td>\n",
              "      <td id=\"T_511a6_row6_col6\" class=\"data row6 col6\" >0.08</td>\n",
              "      <td id=\"T_511a6_row6_col7\" class=\"data row6 col7\" >30</td>\n",
              "      <td id=\"T_511a6_row6_col8\" class=\"data row6 col8\" >742866</td>\n",
              "    </tr>\n",
              "    <tr>\n",
              "      <td id=\"T_511a6_row7_col0\" class=\"data row7 col0\" >997445</td>\n",
              "      <td id=\"T_511a6_row7_col1\" class=\"data row7 col1\" >Dalmia</td>\n",
              "      <td id=\"T_511a6_row7_col2\" class=\"data row7 col2\" >Jagmohan</td>\n",
              "      <td id=\"T_511a6_row7_col3\" class=\"data row7 col3\" >Clerk</td>\n",
              "      <td id=\"T_511a6_row7_col4\" class=\"data row7 col4\" >2001-07-01</td>\n",
              "      <td id=\"T_511a6_row7_col5\" class=\"data row7 col5\" >12000</td>\n",
              "      <td id=\"T_511a6_row7_col6\" class=\"data row7 col6\" >0.02</td>\n",
              "      <td id=\"T_511a6_row7_col7\" class=\"data row7 col7\" >30</td>\n",
              "      <td id=\"T_511a6_row7_col8\" class=\"data row7 col8\" >822134</td>\n",
              "    </tr>\n",
              "    <tr>\n",
              "      <td id=\"T_511a6_row8_col0\" class=\"data row8 col0\" >989007</td>\n",
              "      <td id=\"T_511a6_row8_col1\" class=\"data row8 col1\" >Ganguly</td>\n",
              "      <td id=\"T_511a6_row8_col2\" class=\"data row8 col2\" >Sourav</td>\n",
              "      <td id=\"T_511a6_row8_col3\" class=\"data row8 col3\" >Cus_Rep</td>\n",
              "      <td id=\"T_511a6_row8_col4\" class=\"data row8 col4\" >2002-01-01</td>\n",
              "      <td id=\"T_511a6_row8_col5\" class=\"data row8 col5\" >20000</td>\n",
              "      <td id=\"T_511a6_row8_col6\" class=\"data row8 col6\" >0.03</td>\n",
              "      <td id=\"T_511a6_row8_col7\" class=\"data row8 col7\" >40</td>\n",
              "      <td id=\"T_511a6_row8_col8\" class=\"data row8 col8\" >299034</td>\n",
              "    </tr>\n",
              "    <tr>\n",
              "      <td id=\"T_511a6_row9_col0\" class=\"data row9 col0\" >299034</td>\n",
              "      <td id=\"T_511a6_row9_col1\" class=\"data row9 col1\" >Ganesan</td>\n",
              "      <td id=\"T_511a6_row9_col2\" class=\"data row9 col2\" >Rekha</td>\n",
              "      <td id=\"T_511a6_row9_col3\" class=\"data row9 col3\" >Director</td>\n",
              "      <td id=\"T_511a6_row9_col4\" class=\"data row9 col4\" >2002-10-10</td>\n",
              "      <td id=\"T_511a6_row9_col5\" class=\"data row9 col5\" >60000</td>\n",
              "      <td id=\"T_511a6_row9_col6\" class=\"data row9 col6\" >0.11</td>\n",
              "      <td id=\"T_511a6_row9_col7\" class=\"data row9 col7\" >10</td>\n",
              "      <td id=\"T_511a6_row9_col8\" class=\"data row9 col8\" >742866</td>\n",
              "    </tr>\n",
              "    <tr>\n",
              "      <td id=\"T_511a6_row10_col0\" class=\"data row10 col0\" >546223</td>\n",
              "      <td id=\"T_511a6_row10_col1\" class=\"data row10 col1\" >Karthikeyan</td>\n",
              "      <td id=\"T_511a6_row10_col2\" class=\"data row10 col2\" >Narayan</td>\n",
              "      <td id=\"T_511a6_row10_col3\" class=\"data row10 col3\" >Secretary</td>\n",
              "      <td id=\"T_511a6_row10_col4\" class=\"data row10 col4\" >2005-12-04</td>\n",
              "      <td id=\"T_511a6_row10_col5\" class=\"data row10 col5\" >40000</td>\n",
              "      <td id=\"T_511a6_row10_col6\" class=\"data row10 col6\" >0.09</td>\n",
              "      <td id=\"T_511a6_row10_col7\" class=\"data row10 col7\" >10</td>\n",
              "      <td id=\"T_511a6_row10_col8\" class=\"data row10 col8\" >299034</td>\n",
              "    </tr>\n",
              "    <tr>\n",
              "      <td id=\"T_511a6_row11_col0\" class=\"data row11 col0\" >546224</td>\n",
              "      <td id=\"T_511a6_row11_col1\" class=\"data row11 col1\" >Sunil</td>\n",
              "      <td id=\"T_511a6_row11_col2\" class=\"data row11 col2\" >Chettri</td>\n",
              "      <td id=\"T_511a6_row11_col3\" class=\"data row11 col3\" >Dy Manager</td>\n",
              "      <td id=\"T_511a6_row11_col4\" class=\"data row11 col4\" >2006-12-07</td>\n",
              "      <td id=\"T_511a6_row11_col5\" class=\"data row11 col5\" >40000</td>\n",
              "      <td id=\"T_511a6_row11_col6\" class=\"data row11 col6\" >0.05</td>\n",
              "      <td id=\"T_511a6_row11_col7\" class=\"data row11 col7\" >70</td>\n",
              "      <td id=\"T_511a6_row11_col8\" class=\"data row11 col8\" >349870</td>\n",
              "    </tr>\n",
              "    <tr>\n",
              "      <td id=\"T_511a6_row12_col0\" class=\"data row12 col0\" >223112</td>\n",
              "      <td id=\"T_511a6_row12_col1\" class=\"data row12 col1\" >Mirza</td>\n",
              "      <td id=\"T_511a6_row12_col2\" class=\"data row12 col2\" >Sania</td>\n",
              "      <td id=\"T_511a6_row12_col3\" class=\"data row12 col3\" >Cus_Rep</td>\n",
              "      <td id=\"T_511a6_row12_col4\" class=\"data row12 col4\" >2001-11-19</td>\n",
              "      <td id=\"T_511a6_row12_col5\" class=\"data row12 col5\" >25000</td>\n",
              "      <td id=\"T_511a6_row12_col6\" class=\"data row12 col6\" >0.04</td>\n",
              "      <td id=\"T_511a6_row12_col7\" class=\"data row12 col7\" >30</td>\n",
              "      <td id=\"T_511a6_row12_col8\" class=\"data row12 col8\" >822134</td>\n",
              "    </tr>\n",
              "  </tbody>\n",
              "</table>\n"
            ]
          },
          "metadata": {},
          "execution_count": 9
        }
      ]
    },
    {
      "cell_type": "code",
      "source": [
        "runSelect('select lastname, jobdesc, salary from empl')"
      ],
      "metadata": {
        "id": "z-mxVMPuuxu6",
        "outputId": "05c11059-e917-4926-cbd3-75325c56ca84",
        "colab": {
          "base_uri": "https://localhost:8080/",
          "height": 457
        }
      },
      "execution_count": 10,
      "outputs": [
        {
          "output_type": "execute_result",
          "data": {
            "text/plain": [
              "<pandas.io.formats.style.Styler at 0x7e9c251e6ad0>"
            ],
            "text/html": [
              "<style type=\"text/css\">\n",
              "</style>\n",
              "<table id=\"T_51d60\" class=\"dataframe\">\n",
              "  <thead>\n",
              "    <tr>\n",
              "      <th id=\"T_51d60_level0_col0\" class=\"col_heading level0 col0\" >lastname</th>\n",
              "      <th id=\"T_51d60_level0_col1\" class=\"col_heading level0 col1\" >jobdesc</th>\n",
              "      <th id=\"T_51d60_level0_col2\" class=\"col_heading level0 col2\" >salary</th>\n",
              "    </tr>\n",
              "  </thead>\n",
              "  <tbody>\n",
              "    <tr>\n",
              "      <td id=\"T_51d60_row0_col0\" class=\"data row0 col0\" >Bacchan</td>\n",
              "      <td id=\"T_51d60_row0_col1\" class=\"data row0 col1\" >Executive</td>\n",
              "      <td id=\"T_51d60_row0_col2\" class=\"data row0 col2\" >50000</td>\n",
              "    </tr>\n",
              "    <tr>\n",
              "      <td id=\"T_51d60_row1_col0\" class=\"data row1 col0\" >Mukherjee</td>\n",
              "      <td id=\"T_51d60_row1_col1\" class=\"data row1 col1\" >Manager</td>\n",
              "      <td id=\"T_51d60_row1_col2\" class=\"data row1 col2\" >25000</td>\n",
              "    </tr>\n",
              "    <tr>\n",
              "      <td id=\"T_51d60_row2_col0\" class=\"data row2 col0\" >Dikshit</td>\n",
              "      <td id=\"T_51d60_row2_col1\" class=\"data row2 col1\" >Clerk</td>\n",
              "      <td id=\"T_51d60_row2_col2\" class=\"data row2 col2\" >10000</td>\n",
              "    </tr>\n",
              "    <tr>\n",
              "      <td id=\"T_51d60_row3_col0\" class=\"data row3 col0\" >Khan</td>\n",
              "      <td id=\"T_51d60_row3_col1\" class=\"data row3 col1\" >Manager</td>\n",
              "      <td id=\"T_51d60_row3_col2\" class=\"data row3 col2\" >30000</td>\n",
              "    </tr>\n",
              "    <tr>\n",
              "      <td id=\"T_51d60_row4_col0\" class=\"data row4 col0\" >Sehwag</td>\n",
              "      <td id=\"T_51d60_row4_col1\" class=\"data row4 col1\" >Cus_Rep</td>\n",
              "      <td id=\"T_51d60_row4_col2\" class=\"data row4 col2\" >15000</td>\n",
              "    </tr>\n",
              "    <tr>\n",
              "      <td id=\"T_51d60_row5_col0\" class=\"data row5 col0\" >Dhoni</td>\n",
              "      <td id=\"T_51d60_row5_col1\" class=\"data row5 col1\" >Clerk</td>\n",
              "      <td id=\"T_51d60_row5_col2\" class=\"data row5 col2\" >9000</td>\n",
              "    </tr>\n",
              "    <tr>\n",
              "      <td id=\"T_51d60_row6_col0\" class=\"data row6 col0\" >Dravid</td>\n",
              "      <td id=\"T_51d60_row6_col1\" class=\"data row6 col1\" >Sr Manager</td>\n",
              "      <td id=\"T_51d60_row6_col2\" class=\"data row6 col2\" >40000</td>\n",
              "    </tr>\n",
              "    <tr>\n",
              "      <td id=\"T_51d60_row7_col0\" class=\"data row7 col0\" >Dalmia</td>\n",
              "      <td id=\"T_51d60_row7_col1\" class=\"data row7 col1\" >Clerk</td>\n",
              "      <td id=\"T_51d60_row7_col2\" class=\"data row7 col2\" >12000</td>\n",
              "    </tr>\n",
              "    <tr>\n",
              "      <td id=\"T_51d60_row8_col0\" class=\"data row8 col0\" >Ganguly</td>\n",
              "      <td id=\"T_51d60_row8_col1\" class=\"data row8 col1\" >Cus_Rep</td>\n",
              "      <td id=\"T_51d60_row8_col2\" class=\"data row8 col2\" >20000</td>\n",
              "    </tr>\n",
              "    <tr>\n",
              "      <td id=\"T_51d60_row9_col0\" class=\"data row9 col0\" >Ganesan</td>\n",
              "      <td id=\"T_51d60_row9_col1\" class=\"data row9 col1\" >Director</td>\n",
              "      <td id=\"T_51d60_row9_col2\" class=\"data row9 col2\" >60000</td>\n",
              "    </tr>\n",
              "    <tr>\n",
              "      <td id=\"T_51d60_row10_col0\" class=\"data row10 col0\" >Karthikeyan</td>\n",
              "      <td id=\"T_51d60_row10_col1\" class=\"data row10 col1\" >Secretary</td>\n",
              "      <td id=\"T_51d60_row10_col2\" class=\"data row10 col2\" >40000</td>\n",
              "    </tr>\n",
              "    <tr>\n",
              "      <td id=\"T_51d60_row11_col0\" class=\"data row11 col0\" >Sunil</td>\n",
              "      <td id=\"T_51d60_row11_col1\" class=\"data row11 col1\" >Dy Manager</td>\n",
              "      <td id=\"T_51d60_row11_col2\" class=\"data row11 col2\" >40000</td>\n",
              "    </tr>\n",
              "    <tr>\n",
              "      <td id=\"T_51d60_row12_col0\" class=\"data row12 col0\" >Mirza</td>\n",
              "      <td id=\"T_51d60_row12_col1\" class=\"data row12 col1\" >Cus_Rep</td>\n",
              "      <td id=\"T_51d60_row12_col2\" class=\"data row12 col2\" >25000</td>\n",
              "    </tr>\n",
              "  </tbody>\n",
              "</table>\n"
            ]
          },
          "metadata": {},
          "execution_count": 10
        }
      ]
    },
    {
      "cell_type": "code",
      "source": [
        "runSelect('select distinct(jobdesc) from empl')"
      ],
      "metadata": {
        "id": "7uvcAdlCvg-p",
        "outputId": "aab89db8-8ca3-4ba1-a8cd-73a0d102aef7",
        "colab": {
          "base_uri": "https://localhost:8080/",
          "height": 300
        }
      },
      "execution_count": 11,
      "outputs": [
        {
          "output_type": "execute_result",
          "data": {
            "text/plain": [
              "<pandas.io.formats.style.Styler at 0x7e9c4bab7f10>"
            ],
            "text/html": [
              "<style type=\"text/css\">\n",
              "</style>\n",
              "<table id=\"T_9cf70\" class=\"dataframe\">\n",
              "  <thead>\n",
              "    <tr>\n",
              "      <th id=\"T_9cf70_level0_col0\" class=\"col_heading level0 col0\" >jobdesc</th>\n",
              "    </tr>\n",
              "  </thead>\n",
              "  <tbody>\n",
              "    <tr>\n",
              "      <td id=\"T_9cf70_row0_col0\" class=\"data row0 col0\" >Director</td>\n",
              "    </tr>\n",
              "    <tr>\n",
              "      <td id=\"T_9cf70_row1_col0\" class=\"data row1 col0\" >Manager</td>\n",
              "    </tr>\n",
              "    <tr>\n",
              "      <td id=\"T_9cf70_row2_col0\" class=\"data row2 col0\" >Dy Manager</td>\n",
              "    </tr>\n",
              "    <tr>\n",
              "      <td id=\"T_9cf70_row3_col0\" class=\"data row3 col0\" >Executive</td>\n",
              "    </tr>\n",
              "    <tr>\n",
              "      <td id=\"T_9cf70_row4_col0\" class=\"data row4 col0\" >Secretary</td>\n",
              "    </tr>\n",
              "    <tr>\n",
              "      <td id=\"T_9cf70_row5_col0\" class=\"data row5 col0\" >Cus_Rep</td>\n",
              "    </tr>\n",
              "    <tr>\n",
              "      <td id=\"T_9cf70_row6_col0\" class=\"data row6 col0\" >Clerk</td>\n",
              "    </tr>\n",
              "    <tr>\n",
              "      <td id=\"T_9cf70_row7_col0\" class=\"data row7 col0\" >Sr Manager</td>\n",
              "    </tr>\n",
              "  </tbody>\n",
              "</table>\n"
            ]
          },
          "metadata": {},
          "execution_count": 11
        }
      ]
    },
    {
      "cell_type": "markdown",
      "source": [
        "#Where"
      ],
      "metadata": {
        "id": "LFbNG59OxVzF"
      }
    },
    {
      "cell_type": "markdown",
      "source": [
        "## Equal, Not Equal, Greater, Less"
      ],
      "metadata": {
        "id": "JM2k29awVQHc"
      }
    },
    {
      "cell_type": "code",
      "source": [
        "runSelect(\"select firstname, lastname, jobdesc from empl where jobdesc = 'Clerk'\")"
      ],
      "metadata": {
        "id": "rRZz9OpLxdEY",
        "outputId": "ef9b9e8e-958d-4a60-e610-2853353be523",
        "colab": {
          "base_uri": "https://localhost:8080/",
          "height": 143
        }
      },
      "execution_count": 12,
      "outputs": [
        {
          "output_type": "execute_result",
          "data": {
            "text/plain": [
              "<pandas.io.formats.style.Styler at 0x7e9c4baf3280>"
            ],
            "text/html": [
              "<style type=\"text/css\">\n",
              "</style>\n",
              "<table id=\"T_7eda9\" class=\"dataframe\">\n",
              "  <thead>\n",
              "    <tr>\n",
              "      <th id=\"T_7eda9_level0_col0\" class=\"col_heading level0 col0\" >firstname</th>\n",
              "      <th id=\"T_7eda9_level0_col1\" class=\"col_heading level0 col1\" >lastname</th>\n",
              "      <th id=\"T_7eda9_level0_col2\" class=\"col_heading level0 col2\" >jobdesc</th>\n",
              "    </tr>\n",
              "  </thead>\n",
              "  <tbody>\n",
              "    <tr>\n",
              "      <td id=\"T_7eda9_row0_col0\" class=\"data row0 col0\" >Madhuri</td>\n",
              "      <td id=\"T_7eda9_row0_col1\" class=\"data row0 col1\" >Dikshit</td>\n",
              "      <td id=\"T_7eda9_row0_col2\" class=\"data row0 col2\" >Clerk</td>\n",
              "    </tr>\n",
              "    <tr>\n",
              "      <td id=\"T_7eda9_row1_col0\" class=\"data row1 col0\" >Mahender</td>\n",
              "      <td id=\"T_7eda9_row1_col1\" class=\"data row1 col1\" >Dhoni</td>\n",
              "      <td id=\"T_7eda9_row1_col2\" class=\"data row1 col2\" >Clerk</td>\n",
              "    </tr>\n",
              "    <tr>\n",
              "      <td id=\"T_7eda9_row2_col0\" class=\"data row2 col0\" >Jagmohan</td>\n",
              "      <td id=\"T_7eda9_row2_col1\" class=\"data row2 col1\" >Dalmia</td>\n",
              "      <td id=\"T_7eda9_row2_col2\" class=\"data row2 col2\" >Clerk</td>\n",
              "    </tr>\n",
              "  </tbody>\n",
              "</table>\n"
            ]
          },
          "metadata": {},
          "execution_count": 12
        }
      ]
    },
    {
      "cell_type": "code",
      "source": [
        "runSelect(\"select firstname, lastname, jobdesc from empl where jobdesc != 'Clerk'\")"
      ],
      "metadata": {
        "id": "3cl0ISR9yG-I",
        "outputId": "21fcbb8c-e682-46c3-e98b-2d7ea2011e12",
        "colab": {
          "base_uri": "https://localhost:8080/",
          "height": 363
        }
      },
      "execution_count": 13,
      "outputs": [
        {
          "output_type": "execute_result",
          "data": {
            "text/plain": [
              "<pandas.io.formats.style.Styler at 0x7e9c251e6020>"
            ],
            "text/html": [
              "<style type=\"text/css\">\n",
              "</style>\n",
              "<table id=\"T_cd1c2\" class=\"dataframe\">\n",
              "  <thead>\n",
              "    <tr>\n",
              "      <th id=\"T_cd1c2_level0_col0\" class=\"col_heading level0 col0\" >firstname</th>\n",
              "      <th id=\"T_cd1c2_level0_col1\" class=\"col_heading level0 col1\" >lastname</th>\n",
              "      <th id=\"T_cd1c2_level0_col2\" class=\"col_heading level0 col2\" >jobdesc</th>\n",
              "    </tr>\n",
              "  </thead>\n",
              "  <tbody>\n",
              "    <tr>\n",
              "      <td id=\"T_cd1c2_row0_col0\" class=\"data row0 col0\" >Amitabh</td>\n",
              "      <td id=\"T_cd1c2_row0_col1\" class=\"data row0 col1\" >Bacchan</td>\n",
              "      <td id=\"T_cd1c2_row0_col2\" class=\"data row0 col2\" >Executive</td>\n",
              "    </tr>\n",
              "    <tr>\n",
              "      <td id=\"T_cd1c2_row1_col0\" class=\"data row1 col0\" >Rani</td>\n",
              "      <td id=\"T_cd1c2_row1_col1\" class=\"data row1 col1\" >Mukherjee</td>\n",
              "      <td id=\"T_cd1c2_row1_col2\" class=\"data row1 col2\" >Manager</td>\n",
              "    </tr>\n",
              "    <tr>\n",
              "      <td id=\"T_cd1c2_row2_col0\" class=\"data row2 col0\" >Shahrukh</td>\n",
              "      <td id=\"T_cd1c2_row2_col1\" class=\"data row2 col1\" >Khan</td>\n",
              "      <td id=\"T_cd1c2_row2_col2\" class=\"data row2 col2\" >Manager</td>\n",
              "    </tr>\n",
              "    <tr>\n",
              "      <td id=\"T_cd1c2_row3_col0\" class=\"data row3 col0\" >Virender</td>\n",
              "      <td id=\"T_cd1c2_row3_col1\" class=\"data row3 col1\" >Sehwag</td>\n",
              "      <td id=\"T_cd1c2_row3_col2\" class=\"data row3 col2\" >Cus_Rep</td>\n",
              "    </tr>\n",
              "    <tr>\n",
              "      <td id=\"T_cd1c2_row4_col0\" class=\"data row4 col0\" >Rahul</td>\n",
              "      <td id=\"T_cd1c2_row4_col1\" class=\"data row4 col1\" >Dravid</td>\n",
              "      <td id=\"T_cd1c2_row4_col2\" class=\"data row4 col2\" >Sr Manager</td>\n",
              "    </tr>\n",
              "    <tr>\n",
              "      <td id=\"T_cd1c2_row5_col0\" class=\"data row5 col0\" >Sourav</td>\n",
              "      <td id=\"T_cd1c2_row5_col1\" class=\"data row5 col1\" >Ganguly</td>\n",
              "      <td id=\"T_cd1c2_row5_col2\" class=\"data row5 col2\" >Cus_Rep</td>\n",
              "    </tr>\n",
              "    <tr>\n",
              "      <td id=\"T_cd1c2_row6_col0\" class=\"data row6 col0\" >Rekha</td>\n",
              "      <td id=\"T_cd1c2_row6_col1\" class=\"data row6 col1\" >Ganesan</td>\n",
              "      <td id=\"T_cd1c2_row6_col2\" class=\"data row6 col2\" >Director</td>\n",
              "    </tr>\n",
              "    <tr>\n",
              "      <td id=\"T_cd1c2_row7_col0\" class=\"data row7 col0\" >Narayan</td>\n",
              "      <td id=\"T_cd1c2_row7_col1\" class=\"data row7 col1\" >Karthikeyan</td>\n",
              "      <td id=\"T_cd1c2_row7_col2\" class=\"data row7 col2\" >Secretary</td>\n",
              "    </tr>\n",
              "    <tr>\n",
              "      <td id=\"T_cd1c2_row8_col0\" class=\"data row8 col0\" >Chettri</td>\n",
              "      <td id=\"T_cd1c2_row8_col1\" class=\"data row8 col1\" >Sunil</td>\n",
              "      <td id=\"T_cd1c2_row8_col2\" class=\"data row8 col2\" >Dy Manager</td>\n",
              "    </tr>\n",
              "    <tr>\n",
              "      <td id=\"T_cd1c2_row9_col0\" class=\"data row9 col0\" >Sania</td>\n",
              "      <td id=\"T_cd1c2_row9_col1\" class=\"data row9 col1\" >Mirza</td>\n",
              "      <td id=\"T_cd1c2_row9_col2\" class=\"data row9 col2\" >Cus_Rep</td>\n",
              "    </tr>\n",
              "  </tbody>\n",
              "</table>\n"
            ]
          },
          "metadata": {},
          "execution_count": 13
        }
      ]
    },
    {
      "cell_type": "code",
      "source": [
        "runSelect(\"select firstname, lastname, salary from empl where salary > 35000\")"
      ],
      "metadata": {
        "id": "obIPpNbDyT4S",
        "outputId": "4f3bf4c3-aeb0-427e-bc3a-00a92894815e",
        "colab": {
          "base_uri": "https://localhost:8080/",
          "height": 206
        }
      },
      "execution_count": 14,
      "outputs": [
        {
          "output_type": "execute_result",
          "data": {
            "text/plain": [
              "<pandas.io.formats.style.Styler at 0x7e9c251e7d90>"
            ],
            "text/html": [
              "<style type=\"text/css\">\n",
              "</style>\n",
              "<table id=\"T_b7f54\" class=\"dataframe\">\n",
              "  <thead>\n",
              "    <tr>\n",
              "      <th id=\"T_b7f54_level0_col0\" class=\"col_heading level0 col0\" >firstname</th>\n",
              "      <th id=\"T_b7f54_level0_col1\" class=\"col_heading level0 col1\" >lastname</th>\n",
              "      <th id=\"T_b7f54_level0_col2\" class=\"col_heading level0 col2\" >salary</th>\n",
              "    </tr>\n",
              "  </thead>\n",
              "  <tbody>\n",
              "    <tr>\n",
              "      <td id=\"T_b7f54_row0_col0\" class=\"data row0 col0\" >Amitabh</td>\n",
              "      <td id=\"T_b7f54_row0_col1\" class=\"data row0 col1\" >Bacchan</td>\n",
              "      <td id=\"T_b7f54_row0_col2\" class=\"data row0 col2\" >50000</td>\n",
              "    </tr>\n",
              "    <tr>\n",
              "      <td id=\"T_b7f54_row1_col0\" class=\"data row1 col0\" >Rahul</td>\n",
              "      <td id=\"T_b7f54_row1_col1\" class=\"data row1 col1\" >Dravid</td>\n",
              "      <td id=\"T_b7f54_row1_col2\" class=\"data row1 col2\" >40000</td>\n",
              "    </tr>\n",
              "    <tr>\n",
              "      <td id=\"T_b7f54_row2_col0\" class=\"data row2 col0\" >Rekha</td>\n",
              "      <td id=\"T_b7f54_row2_col1\" class=\"data row2 col1\" >Ganesan</td>\n",
              "      <td id=\"T_b7f54_row2_col2\" class=\"data row2 col2\" >60000</td>\n",
              "    </tr>\n",
              "    <tr>\n",
              "      <td id=\"T_b7f54_row3_col0\" class=\"data row3 col0\" >Narayan</td>\n",
              "      <td id=\"T_b7f54_row3_col1\" class=\"data row3 col1\" >Karthikeyan</td>\n",
              "      <td id=\"T_b7f54_row3_col2\" class=\"data row3 col2\" >40000</td>\n",
              "    </tr>\n",
              "    <tr>\n",
              "      <td id=\"T_b7f54_row4_col0\" class=\"data row4 col0\" >Chettri</td>\n",
              "      <td id=\"T_b7f54_row4_col1\" class=\"data row4 col1\" >Sunil</td>\n",
              "      <td id=\"T_b7f54_row4_col2\" class=\"data row4 col2\" >40000</td>\n",
              "    </tr>\n",
              "  </tbody>\n",
              "</table>\n"
            ]
          },
          "metadata": {},
          "execution_count": 14
        }
      ]
    },
    {
      "cell_type": "code",
      "source": [
        "runSelect(\"select firstname, lastname, salary, joindate from empl where joindate < '2002-01-01'\")"
      ],
      "metadata": {
        "colab": {
          "base_uri": "https://localhost:8080/",
          "height": 143
        },
        "id": "hnIvgy_dMvQl",
        "outputId": "0a5818bd-6914-4ce5-bd61-2ebe27820cac"
      },
      "execution_count": 15,
      "outputs": [
        {
          "output_type": "execute_result",
          "data": {
            "text/plain": [
              "<pandas.io.formats.style.Styler at 0x7e9c251e5180>"
            ],
            "text/html": [
              "<style type=\"text/css\">\n",
              "</style>\n",
              "<table id=\"T_bba8f\" class=\"dataframe\">\n",
              "  <thead>\n",
              "    <tr>\n",
              "      <th id=\"T_bba8f_level0_col0\" class=\"col_heading level0 col0\" >firstname</th>\n",
              "      <th id=\"T_bba8f_level0_col1\" class=\"col_heading level0 col1\" >lastname</th>\n",
              "      <th id=\"T_bba8f_level0_col2\" class=\"col_heading level0 col2\" >salary</th>\n",
              "      <th id=\"T_bba8f_level0_col3\" class=\"col_heading level0 col3\" >joindate</th>\n",
              "    </tr>\n",
              "  </thead>\n",
              "  <tbody>\n",
              "    <tr>\n",
              "      <td id=\"T_bba8f_row0_col0\" class=\"data row0 col0\" >Rahul</td>\n",
              "      <td id=\"T_bba8f_row0_col1\" class=\"data row0 col1\" >Dravid</td>\n",
              "      <td id=\"T_bba8f_row0_col2\" class=\"data row0 col2\" >40000</td>\n",
              "      <td id=\"T_bba8f_row0_col3\" class=\"data row0 col3\" >2000-06-04</td>\n",
              "    </tr>\n",
              "    <tr>\n",
              "      <td id=\"T_bba8f_row1_col0\" class=\"data row1 col0\" >Jagmohan</td>\n",
              "      <td id=\"T_bba8f_row1_col1\" class=\"data row1 col1\" >Dalmia</td>\n",
              "      <td id=\"T_bba8f_row1_col2\" class=\"data row1 col2\" >12000</td>\n",
              "      <td id=\"T_bba8f_row1_col3\" class=\"data row1 col3\" >2001-07-01</td>\n",
              "    </tr>\n",
              "    <tr>\n",
              "      <td id=\"T_bba8f_row2_col0\" class=\"data row2 col0\" >Sania</td>\n",
              "      <td id=\"T_bba8f_row2_col1\" class=\"data row2 col1\" >Mirza</td>\n",
              "      <td id=\"T_bba8f_row2_col2\" class=\"data row2 col2\" >25000</td>\n",
              "      <td id=\"T_bba8f_row2_col3\" class=\"data row2 col3\" >2001-11-19</td>\n",
              "    </tr>\n",
              "  </tbody>\n",
              "</table>\n"
            ]
          },
          "metadata": {},
          "execution_count": 15
        }
      ]
    },
    {
      "cell_type": "markdown",
      "source": [
        "## Like"
      ],
      "metadata": {
        "id": "77DkYhfhU1lJ"
      }
    },
    {
      "cell_type": "code",
      "source": [
        "runSelect(\"select firstname, lastname, salary from empl where lastname like 'D%'\")"
      ],
      "metadata": {
        "colab": {
          "base_uri": "https://localhost:8080/",
          "height": 175
        },
        "id": "PBsdla2eVv1K",
        "outputId": "b6710d57-1b32-4584-e48f-cbe1c5c80334"
      },
      "execution_count": 16,
      "outputs": [
        {
          "output_type": "execute_result",
          "data": {
            "text/plain": [
              "<pandas.io.formats.style.Styler at 0x7e9c251e5480>"
            ],
            "text/html": [
              "<style type=\"text/css\">\n",
              "</style>\n",
              "<table id=\"T_24f9f\" class=\"dataframe\">\n",
              "  <thead>\n",
              "    <tr>\n",
              "      <th id=\"T_24f9f_level0_col0\" class=\"col_heading level0 col0\" >firstname</th>\n",
              "      <th id=\"T_24f9f_level0_col1\" class=\"col_heading level0 col1\" >lastname</th>\n",
              "      <th id=\"T_24f9f_level0_col2\" class=\"col_heading level0 col2\" >salary</th>\n",
              "    </tr>\n",
              "  </thead>\n",
              "  <tbody>\n",
              "    <tr>\n",
              "      <td id=\"T_24f9f_row0_col0\" class=\"data row0 col0\" >Madhuri</td>\n",
              "      <td id=\"T_24f9f_row0_col1\" class=\"data row0 col1\" >Dikshit</td>\n",
              "      <td id=\"T_24f9f_row0_col2\" class=\"data row0 col2\" >10000</td>\n",
              "    </tr>\n",
              "    <tr>\n",
              "      <td id=\"T_24f9f_row1_col0\" class=\"data row1 col0\" >Mahender</td>\n",
              "      <td id=\"T_24f9f_row1_col1\" class=\"data row1 col1\" >Dhoni</td>\n",
              "      <td id=\"T_24f9f_row1_col2\" class=\"data row1 col2\" >9000</td>\n",
              "    </tr>\n",
              "    <tr>\n",
              "      <td id=\"T_24f9f_row2_col0\" class=\"data row2 col0\" >Rahul</td>\n",
              "      <td id=\"T_24f9f_row2_col1\" class=\"data row2 col1\" >Dravid</td>\n",
              "      <td id=\"T_24f9f_row2_col2\" class=\"data row2 col2\" >40000</td>\n",
              "    </tr>\n",
              "    <tr>\n",
              "      <td id=\"T_24f9f_row3_col0\" class=\"data row3 col0\" >Jagmohan</td>\n",
              "      <td id=\"T_24f9f_row3_col1\" class=\"data row3 col1\" >Dalmia</td>\n",
              "      <td id=\"T_24f9f_row3_col2\" class=\"data row3 col2\" >12000</td>\n",
              "    </tr>\n",
              "  </tbody>\n",
              "</table>\n"
            ]
          },
          "metadata": {},
          "execution_count": 16
        }
      ]
    },
    {
      "cell_type": "code",
      "source": [
        "runSelect(\"select firstname, lastname, joindate from empl where lastname like '____i_'\")"
      ],
      "metadata": {
        "colab": {
          "base_uri": "https://localhost:8080/",
          "height": 112
        },
        "id": "xxImEDlKbm4U",
        "outputId": "f1e52a49-ca7e-4531-b663-c8a5cadcae2d"
      },
      "execution_count": 17,
      "outputs": [
        {
          "output_type": "execute_result",
          "data": {
            "text/plain": [
              "<pandas.io.formats.style.Styler at 0x7e9c251e7b20>"
            ],
            "text/html": [
              "<style type=\"text/css\">\n",
              "</style>\n",
              "<table id=\"T_2d956\" class=\"dataframe\">\n",
              "  <thead>\n",
              "    <tr>\n",
              "      <th id=\"T_2d956_level0_col0\" class=\"col_heading level0 col0\" >firstname</th>\n",
              "      <th id=\"T_2d956_level0_col1\" class=\"col_heading level0 col1\" >lastname</th>\n",
              "      <th id=\"T_2d956_level0_col2\" class=\"col_heading level0 col2\" >joindate</th>\n",
              "    </tr>\n",
              "  </thead>\n",
              "  <tbody>\n",
              "    <tr>\n",
              "      <td id=\"T_2d956_row0_col0\" class=\"data row0 col0\" >Rahul</td>\n",
              "      <td id=\"T_2d956_row0_col1\" class=\"data row0 col1\" >Dravid</td>\n",
              "      <td id=\"T_2d956_row0_col2\" class=\"data row0 col2\" >2000-06-04</td>\n",
              "    </tr>\n",
              "    <tr>\n",
              "      <td id=\"T_2d956_row1_col0\" class=\"data row1 col0\" >Jagmohan</td>\n",
              "      <td id=\"T_2d956_row1_col1\" class=\"data row1 col1\" >Dalmia</td>\n",
              "      <td id=\"T_2d956_row1_col2\" class=\"data row1 col2\" >2001-07-01</td>\n",
              "    </tr>\n",
              "  </tbody>\n",
              "</table>\n"
            ]
          },
          "metadata": {},
          "execution_count": 17
        }
      ]
    },
    {
      "cell_type": "code",
      "source": [
        "runSelect(\"select firstname, lastname, jobdesc from empl where lastname like '____i%'\")"
      ],
      "metadata": {
        "colab": {
          "base_uri": "https://localhost:8080/",
          "height": 143
        },
        "id": "pL7VPLo4b2g3",
        "outputId": "bd1189a1-b895-470b-9d29-7449297db820"
      },
      "execution_count": 18,
      "outputs": [
        {
          "output_type": "execute_result",
          "data": {
            "text/plain": [
              "<pandas.io.formats.style.Styler at 0x7e9c251e74f0>"
            ],
            "text/html": [
              "<style type=\"text/css\">\n",
              "</style>\n",
              "<table id=\"T_c4616\" class=\"dataframe\">\n",
              "  <thead>\n",
              "    <tr>\n",
              "      <th id=\"T_c4616_level0_col0\" class=\"col_heading level0 col0\" >firstname</th>\n",
              "      <th id=\"T_c4616_level0_col1\" class=\"col_heading level0 col1\" >lastname</th>\n",
              "      <th id=\"T_c4616_level0_col2\" class=\"col_heading level0 col2\" >jobdesc</th>\n",
              "    </tr>\n",
              "  </thead>\n",
              "  <tbody>\n",
              "    <tr>\n",
              "      <td id=\"T_c4616_row0_col0\" class=\"data row0 col0\" >Mahender</td>\n",
              "      <td id=\"T_c4616_row0_col1\" class=\"data row0 col1\" >Dhoni</td>\n",
              "      <td id=\"T_c4616_row0_col2\" class=\"data row0 col2\" >Clerk</td>\n",
              "    </tr>\n",
              "    <tr>\n",
              "      <td id=\"T_c4616_row1_col0\" class=\"data row1 col0\" >Rahul</td>\n",
              "      <td id=\"T_c4616_row1_col1\" class=\"data row1 col1\" >Dravid</td>\n",
              "      <td id=\"T_c4616_row1_col2\" class=\"data row1 col2\" >Sr Manager</td>\n",
              "    </tr>\n",
              "    <tr>\n",
              "      <td id=\"T_c4616_row2_col0\" class=\"data row2 col0\" >Jagmohan</td>\n",
              "      <td id=\"T_c4616_row2_col1\" class=\"data row2 col1\" >Dalmia</td>\n",
              "      <td id=\"T_c4616_row2_col2\" class=\"data row2 col2\" >Clerk</td>\n",
              "    </tr>\n",
              "  </tbody>\n",
              "</table>\n"
            ]
          },
          "metadata": {},
          "execution_count": 18
        }
      ]
    },
    {
      "cell_type": "markdown",
      "source": [
        "## Between"
      ],
      "metadata": {
        "id": "qw2h8Vtvey2R"
      }
    },
    {
      "cell_type": "code",
      "source": [
        "runSelect(\"select firstname, lastname, salary from empl where salary between 10000 and 20000\")"
      ],
      "metadata": {
        "colab": {
          "base_uri": "https://localhost:8080/",
          "height": 175
        },
        "id": "sI_qlRdXe7S8",
        "outputId": "7ce3405e-10db-4d33-8a69-87e01e393ed5"
      },
      "execution_count": 19,
      "outputs": [
        {
          "output_type": "execute_result",
          "data": {
            "text/plain": [
              "<pandas.io.formats.style.Styler at 0x7e9c251e4fd0>"
            ],
            "text/html": [
              "<style type=\"text/css\">\n",
              "</style>\n",
              "<table id=\"T_af362\" class=\"dataframe\">\n",
              "  <thead>\n",
              "    <tr>\n",
              "      <th id=\"T_af362_level0_col0\" class=\"col_heading level0 col0\" >firstname</th>\n",
              "      <th id=\"T_af362_level0_col1\" class=\"col_heading level0 col1\" >lastname</th>\n",
              "      <th id=\"T_af362_level0_col2\" class=\"col_heading level0 col2\" >salary</th>\n",
              "    </tr>\n",
              "  </thead>\n",
              "  <tbody>\n",
              "    <tr>\n",
              "      <td id=\"T_af362_row0_col0\" class=\"data row0 col0\" >Madhuri</td>\n",
              "      <td id=\"T_af362_row0_col1\" class=\"data row0 col1\" >Dikshit</td>\n",
              "      <td id=\"T_af362_row0_col2\" class=\"data row0 col2\" >10000</td>\n",
              "    </tr>\n",
              "    <tr>\n",
              "      <td id=\"T_af362_row1_col0\" class=\"data row1 col0\" >Virender</td>\n",
              "      <td id=\"T_af362_row1_col1\" class=\"data row1 col1\" >Sehwag</td>\n",
              "      <td id=\"T_af362_row1_col2\" class=\"data row1 col2\" >15000</td>\n",
              "    </tr>\n",
              "    <tr>\n",
              "      <td id=\"T_af362_row2_col0\" class=\"data row2 col0\" >Jagmohan</td>\n",
              "      <td id=\"T_af362_row2_col1\" class=\"data row2 col1\" >Dalmia</td>\n",
              "      <td id=\"T_af362_row2_col2\" class=\"data row2 col2\" >12000</td>\n",
              "    </tr>\n",
              "    <tr>\n",
              "      <td id=\"T_af362_row3_col0\" class=\"data row3 col0\" >Sourav</td>\n",
              "      <td id=\"T_af362_row3_col1\" class=\"data row3 col1\" >Ganguly</td>\n",
              "      <td id=\"T_af362_row3_col2\" class=\"data row3 col2\" >20000</td>\n",
              "    </tr>\n",
              "  </tbody>\n",
              "</table>\n"
            ]
          },
          "metadata": {},
          "execution_count": 19
        }
      ]
    },
    {
      "cell_type": "code",
      "source": [
        "runSelect(\"select firstname, lastname, joindate from empl where joindate between '2004-01-01' and '2005-01-01'\")"
      ],
      "metadata": {
        "colab": {
          "base_uri": "https://localhost:8080/",
          "height": 112
        },
        "id": "b_mWyFTnfIEy",
        "outputId": "c968e2f3-a827-42e3-fc05-921ef519b4e5"
      },
      "execution_count": 20,
      "outputs": [
        {
          "output_type": "execute_result",
          "data": {
            "text/plain": [
              "<pandas.io.formats.style.Styler at 0x7e9c25010eb0>"
            ],
            "text/html": [
              "<style type=\"text/css\">\n",
              "</style>\n",
              "<table id=\"T_a2293\" class=\"dataframe\">\n",
              "  <thead>\n",
              "    <tr>\n",
              "      <th id=\"T_a2293_level0_col0\" class=\"col_heading level0 col0\" >firstname</th>\n",
              "      <th id=\"T_a2293_level0_col1\" class=\"col_heading level0 col1\" >lastname</th>\n",
              "      <th id=\"T_a2293_level0_col2\" class=\"col_heading level0 col2\" >joindate</th>\n",
              "    </tr>\n",
              "  </thead>\n",
              "  <tbody>\n",
              "    <tr>\n",
              "      <td id=\"T_a2293_row0_col0\" class=\"data row0 col0\" >Shahrukh</td>\n",
              "      <td id=\"T_a2293_row0_col1\" class=\"data row0 col1\" >Khan</td>\n",
              "      <td id=\"T_a2293_row0_col2\" class=\"data row0 col2\" >2004-01-03</td>\n",
              "    </tr>\n",
              "    <tr>\n",
              "      <td id=\"T_a2293_row1_col0\" class=\"data row1 col0\" >Mahender</td>\n",
              "      <td id=\"T_a2293_row1_col1\" class=\"data row1 col1\" >Dhoni</td>\n",
              "      <td id=\"T_a2293_row1_col2\" class=\"data row1 col2\" >2004-10-09</td>\n",
              "    </tr>\n",
              "  </tbody>\n",
              "</table>\n"
            ]
          },
          "metadata": {},
          "execution_count": 20
        }
      ]
    },
    {
      "cell_type": "code",
      "source": [
        "runSelect(\"select firstname, lastname, joindate from empl where lastname between 'Dho' and 'Kha'\")"
      ],
      "metadata": {
        "colab": {
          "base_uri": "https://localhost:8080/",
          "height": 238
        },
        "id": "qXs9AeS2fwCS",
        "outputId": "7fb872ad-ca9c-4f1c-999c-fecade834122"
      },
      "execution_count": 21,
      "outputs": [
        {
          "output_type": "execute_result",
          "data": {
            "text/plain": [
              "<pandas.io.formats.style.Styler at 0x7e9c251e77c0>"
            ],
            "text/html": [
              "<style type=\"text/css\">\n",
              "</style>\n",
              "<table id=\"T_1af1d\" class=\"dataframe\">\n",
              "  <thead>\n",
              "    <tr>\n",
              "      <th id=\"T_1af1d_level0_col0\" class=\"col_heading level0 col0\" >firstname</th>\n",
              "      <th id=\"T_1af1d_level0_col1\" class=\"col_heading level0 col1\" >lastname</th>\n",
              "      <th id=\"T_1af1d_level0_col2\" class=\"col_heading level0 col2\" >joindate</th>\n",
              "    </tr>\n",
              "  </thead>\n",
              "  <tbody>\n",
              "    <tr>\n",
              "      <td id=\"T_1af1d_row0_col0\" class=\"data row0 col0\" >Madhuri</td>\n",
              "      <td id=\"T_1af1d_row0_col1\" class=\"data row0 col1\" >Dikshit</td>\n",
              "      <td id=\"T_1af1d_row0_col2\" class=\"data row0 col2\" >2002-04-04</td>\n",
              "    </tr>\n",
              "    <tr>\n",
              "      <td id=\"T_1af1d_row1_col0\" class=\"data row1 col0\" >Mahender</td>\n",
              "      <td id=\"T_1af1d_row1_col1\" class=\"data row1 col1\" >Dhoni</td>\n",
              "      <td id=\"T_1af1d_row1_col2\" class=\"data row1 col2\" >2004-10-09</td>\n",
              "    </tr>\n",
              "    <tr>\n",
              "      <td id=\"T_1af1d_row2_col0\" class=\"data row2 col0\" >Rahul</td>\n",
              "      <td id=\"T_1af1d_row2_col1\" class=\"data row2 col1\" >Dravid</td>\n",
              "      <td id=\"T_1af1d_row2_col2\" class=\"data row2 col2\" >2000-06-04</td>\n",
              "    </tr>\n",
              "    <tr>\n",
              "      <td id=\"T_1af1d_row3_col0\" class=\"data row3 col0\" >Sourav</td>\n",
              "      <td id=\"T_1af1d_row3_col1\" class=\"data row3 col1\" >Ganguly</td>\n",
              "      <td id=\"T_1af1d_row3_col2\" class=\"data row3 col2\" >2002-01-01</td>\n",
              "    </tr>\n",
              "    <tr>\n",
              "      <td id=\"T_1af1d_row4_col0\" class=\"data row4 col0\" >Rekha</td>\n",
              "      <td id=\"T_1af1d_row4_col1\" class=\"data row4 col1\" >Ganesan</td>\n",
              "      <td id=\"T_1af1d_row4_col2\" class=\"data row4 col2\" >2002-10-10</td>\n",
              "    </tr>\n",
              "    <tr>\n",
              "      <td id=\"T_1af1d_row5_col0\" class=\"data row5 col0\" >Narayan</td>\n",
              "      <td id=\"T_1af1d_row5_col1\" class=\"data row5 col1\" >Karthikeyan</td>\n",
              "      <td id=\"T_1af1d_row5_col2\" class=\"data row5 col2\" >2005-12-04</td>\n",
              "    </tr>\n",
              "  </tbody>\n",
              "</table>\n"
            ]
          },
          "metadata": {},
          "execution_count": 21
        }
      ]
    },
    {
      "cell_type": "markdown",
      "source": [
        "## IN"
      ],
      "metadata": {
        "id": "azhy0TQLiLy-"
      }
    },
    {
      "cell_type": "code",
      "source": [
        "runSelect(\"select firstname, lastname, deptid from empl where deptid in ('30','20','70')\")"
      ],
      "metadata": {
        "colab": {
          "base_uri": "https://localhost:8080/",
          "height": 269
        },
        "id": "UyBE-FuoibSZ",
        "outputId": "be8cd0fb-0f6e-4e45-84ca-403799774b21"
      },
      "execution_count": 22,
      "outputs": [
        {
          "output_type": "execute_result",
          "data": {
            "text/plain": [
              "<pandas.io.formats.style.Styler at 0x7e9c4baf3af0>"
            ],
            "text/html": [
              "<style type=\"text/css\">\n",
              "</style>\n",
              "<table id=\"T_311ec\" class=\"dataframe\">\n",
              "  <thead>\n",
              "    <tr>\n",
              "      <th id=\"T_311ec_level0_col0\" class=\"col_heading level0 col0\" >firstname</th>\n",
              "      <th id=\"T_311ec_level0_col1\" class=\"col_heading level0 col1\" >lastname</th>\n",
              "      <th id=\"T_311ec_level0_col2\" class=\"col_heading level0 col2\" >deptid</th>\n",
              "    </tr>\n",
              "  </thead>\n",
              "  <tbody>\n",
              "    <tr>\n",
              "      <td id=\"T_311ec_row0_col0\" class=\"data row0 col0\" >Madhuri</td>\n",
              "      <td id=\"T_311ec_row0_col1\" class=\"data row0 col1\" >Dikshit</td>\n",
              "      <td id=\"T_311ec_row0_col2\" class=\"data row0 col2\" >20</td>\n",
              "    </tr>\n",
              "    <tr>\n",
              "      <td id=\"T_311ec_row1_col0\" class=\"data row1 col0\" >Shahrukh</td>\n",
              "      <td id=\"T_311ec_row1_col1\" class=\"data row1 col1\" >Khan</td>\n",
              "      <td id=\"T_311ec_row1_col2\" class=\"data row1 col2\" >20</td>\n",
              "    </tr>\n",
              "    <tr>\n",
              "      <td id=\"T_311ec_row2_col0\" class=\"data row2 col0\" >Virender</td>\n",
              "      <td id=\"T_311ec_row2_col1\" class=\"data row2 col1\" >Sehwag</td>\n",
              "      <td id=\"T_311ec_row2_col2\" class=\"data row2 col2\" >20</td>\n",
              "    </tr>\n",
              "    <tr>\n",
              "      <td id=\"T_311ec_row3_col0\" class=\"data row3 col0\" >Rahul</td>\n",
              "      <td id=\"T_311ec_row3_col1\" class=\"data row3 col1\" >Dravid</td>\n",
              "      <td id=\"T_311ec_row3_col2\" class=\"data row3 col2\" >30</td>\n",
              "    </tr>\n",
              "    <tr>\n",
              "      <td id=\"T_311ec_row4_col0\" class=\"data row4 col0\" >Jagmohan</td>\n",
              "      <td id=\"T_311ec_row4_col1\" class=\"data row4 col1\" >Dalmia</td>\n",
              "      <td id=\"T_311ec_row4_col2\" class=\"data row4 col2\" >30</td>\n",
              "    </tr>\n",
              "    <tr>\n",
              "      <td id=\"T_311ec_row5_col0\" class=\"data row5 col0\" >Chettri</td>\n",
              "      <td id=\"T_311ec_row5_col1\" class=\"data row5 col1\" >Sunil</td>\n",
              "      <td id=\"T_311ec_row5_col2\" class=\"data row5 col2\" >70</td>\n",
              "    </tr>\n",
              "    <tr>\n",
              "      <td id=\"T_311ec_row6_col0\" class=\"data row6 col0\" >Sania</td>\n",
              "      <td id=\"T_311ec_row6_col1\" class=\"data row6 col1\" >Mirza</td>\n",
              "      <td id=\"T_311ec_row6_col2\" class=\"data row6 col2\" >30</td>\n",
              "    </tr>\n",
              "  </tbody>\n",
              "</table>\n"
            ]
          },
          "metadata": {},
          "execution_count": 22
        }
      ]
    },
    {
      "cell_type": "code",
      "source": [
        "runSelect(\"select firstname, lastname, salary from empl where firstname in ('Madhuri','Shahrukh','Virender')\")"
      ],
      "metadata": {
        "colab": {
          "base_uri": "https://localhost:8080/",
          "height": 143
        },
        "id": "9qTEO-OuiN3A",
        "outputId": "3f0b660f-8333-4703-d3c6-aac8ed796fc6"
      },
      "execution_count": 23,
      "outputs": [
        {
          "output_type": "execute_result",
          "data": {
            "text/plain": [
              "<pandas.io.formats.style.Styler at 0x7e9c25013880>"
            ],
            "text/html": [
              "<style type=\"text/css\">\n",
              "</style>\n",
              "<table id=\"T_981fa\" class=\"dataframe\">\n",
              "  <thead>\n",
              "    <tr>\n",
              "      <th id=\"T_981fa_level0_col0\" class=\"col_heading level0 col0\" >firstname</th>\n",
              "      <th id=\"T_981fa_level0_col1\" class=\"col_heading level0 col1\" >lastname</th>\n",
              "      <th id=\"T_981fa_level0_col2\" class=\"col_heading level0 col2\" >salary</th>\n",
              "    </tr>\n",
              "  </thead>\n",
              "  <tbody>\n",
              "    <tr>\n",
              "      <td id=\"T_981fa_row0_col0\" class=\"data row0 col0\" >Madhuri</td>\n",
              "      <td id=\"T_981fa_row0_col1\" class=\"data row0 col1\" >Dikshit</td>\n",
              "      <td id=\"T_981fa_row0_col2\" class=\"data row0 col2\" >10000</td>\n",
              "    </tr>\n",
              "    <tr>\n",
              "      <td id=\"T_981fa_row1_col0\" class=\"data row1 col0\" >Shahrukh</td>\n",
              "      <td id=\"T_981fa_row1_col1\" class=\"data row1 col1\" >Khan</td>\n",
              "      <td id=\"T_981fa_row1_col2\" class=\"data row1 col2\" >30000</td>\n",
              "    </tr>\n",
              "    <tr>\n",
              "      <td id=\"T_981fa_row2_col0\" class=\"data row2 col0\" >Virender</td>\n",
              "      <td id=\"T_981fa_row2_col1\" class=\"data row2 col1\" >Sehwag</td>\n",
              "      <td id=\"T_981fa_row2_col2\" class=\"data row2 col2\" >15000</td>\n",
              "    </tr>\n",
              "  </tbody>\n",
              "</table>\n"
            ]
          },
          "metadata": {},
          "execution_count": 23
        }
      ]
    },
    {
      "cell_type": "markdown",
      "source": [
        "## Order by"
      ],
      "metadata": {
        "id": "vlOCT_zAkzMb"
      }
    },
    {
      "cell_type": "code",
      "source": [
        "runSelect(\"select firstname, lastname, joindate from empl where firstname in ('Madhuri','Shahrukh','Virender') order by joindate\")"
      ],
      "metadata": {
        "colab": {
          "base_uri": "https://localhost:8080/",
          "height": 143
        },
        "id": "WidoGzLVk1in",
        "outputId": "2f0471db-b08c-4927-924a-261955a59607"
      },
      "execution_count": 24,
      "outputs": [
        {
          "output_type": "execute_result",
          "data": {
            "text/plain": [
              "<pandas.io.formats.style.Styler at 0x7e9c25012950>"
            ],
            "text/html": [
              "<style type=\"text/css\">\n",
              "</style>\n",
              "<table id=\"T_ae271\" class=\"dataframe\">\n",
              "  <thead>\n",
              "    <tr>\n",
              "      <th id=\"T_ae271_level0_col0\" class=\"col_heading level0 col0\" >firstname</th>\n",
              "      <th id=\"T_ae271_level0_col1\" class=\"col_heading level0 col1\" >lastname</th>\n",
              "      <th id=\"T_ae271_level0_col2\" class=\"col_heading level0 col2\" >joindate</th>\n",
              "    </tr>\n",
              "  </thead>\n",
              "  <tbody>\n",
              "    <tr>\n",
              "      <td id=\"T_ae271_row0_col0\" class=\"data row0 col0\" >Madhuri</td>\n",
              "      <td id=\"T_ae271_row0_col1\" class=\"data row0 col1\" >Dikshit</td>\n",
              "      <td id=\"T_ae271_row0_col2\" class=\"data row0 col2\" >2002-04-04</td>\n",
              "    </tr>\n",
              "    <tr>\n",
              "      <td id=\"T_ae271_row1_col0\" class=\"data row1 col0\" >Shahrukh</td>\n",
              "      <td id=\"T_ae271_row1_col1\" class=\"data row1 col1\" >Khan</td>\n",
              "      <td id=\"T_ae271_row1_col2\" class=\"data row1 col2\" >2004-01-03</td>\n",
              "    </tr>\n",
              "    <tr>\n",
              "      <td id=\"T_ae271_row2_col0\" class=\"data row2 col0\" >Virender</td>\n",
              "      <td id=\"T_ae271_row2_col1\" class=\"data row2 col1\" >Sehwag</td>\n",
              "      <td id=\"T_ae271_row2_col2\" class=\"data row2 col2\" >2005-01-02</td>\n",
              "    </tr>\n",
              "  </tbody>\n",
              "</table>\n"
            ]
          },
          "metadata": {},
          "execution_count": 24
        }
      ]
    },
    {
      "cell_type": "code",
      "source": [
        "runSelect(\"select firstname, lastname, jobdesc, salary, deptid from empl where deptid = '10' order by salary desc\")"
      ],
      "metadata": {
        "colab": {
          "base_uri": "https://localhost:8080/",
          "height": 143
        },
        "id": "Iq_7jWr-lRlO",
        "outputId": "cc64bcfd-0762-42db-ca55-4a0c6884a812"
      },
      "execution_count": 25,
      "outputs": [
        {
          "output_type": "execute_result",
          "data": {
            "text/plain": [
              "<pandas.io.formats.style.Styler at 0x7e9c25010550>"
            ],
            "text/html": [
              "<style type=\"text/css\">\n",
              "</style>\n",
              "<table id=\"T_b5dc8\" class=\"dataframe\">\n",
              "  <thead>\n",
              "    <tr>\n",
              "      <th id=\"T_b5dc8_level0_col0\" class=\"col_heading level0 col0\" >firstname</th>\n",
              "      <th id=\"T_b5dc8_level0_col1\" class=\"col_heading level0 col1\" >lastname</th>\n",
              "      <th id=\"T_b5dc8_level0_col2\" class=\"col_heading level0 col2\" >jobdesc</th>\n",
              "      <th id=\"T_b5dc8_level0_col3\" class=\"col_heading level0 col3\" >salary</th>\n",
              "      <th id=\"T_b5dc8_level0_col4\" class=\"col_heading level0 col4\" >deptid</th>\n",
              "    </tr>\n",
              "  </thead>\n",
              "  <tbody>\n",
              "    <tr>\n",
              "      <td id=\"T_b5dc8_row0_col0\" class=\"data row0 col0\" >Rekha</td>\n",
              "      <td id=\"T_b5dc8_row0_col1\" class=\"data row0 col1\" >Ganesan</td>\n",
              "      <td id=\"T_b5dc8_row0_col2\" class=\"data row0 col2\" >Director</td>\n",
              "      <td id=\"T_b5dc8_row0_col3\" class=\"data row0 col3\" >60000</td>\n",
              "      <td id=\"T_b5dc8_row0_col4\" class=\"data row0 col4\" >10</td>\n",
              "    </tr>\n",
              "    <tr>\n",
              "      <td id=\"T_b5dc8_row1_col0\" class=\"data row1 col0\" >Amitabh</td>\n",
              "      <td id=\"T_b5dc8_row1_col1\" class=\"data row1 col1\" >Bacchan</td>\n",
              "      <td id=\"T_b5dc8_row1_col2\" class=\"data row1 col2\" >Executive</td>\n",
              "      <td id=\"T_b5dc8_row1_col3\" class=\"data row1 col3\" >50000</td>\n",
              "      <td id=\"T_b5dc8_row1_col4\" class=\"data row1 col4\" >10</td>\n",
              "    </tr>\n",
              "    <tr>\n",
              "      <td id=\"T_b5dc8_row2_col0\" class=\"data row2 col0\" >Narayan</td>\n",
              "      <td id=\"T_b5dc8_row2_col1\" class=\"data row2 col1\" >Karthikeyan</td>\n",
              "      <td id=\"T_b5dc8_row2_col2\" class=\"data row2 col2\" >Secretary</td>\n",
              "      <td id=\"T_b5dc8_row2_col3\" class=\"data row2 col3\" >40000</td>\n",
              "      <td id=\"T_b5dc8_row2_col4\" class=\"data row2 col4\" >10</td>\n",
              "    </tr>\n",
              "  </tbody>\n",
              "</table>\n"
            ]
          },
          "metadata": {},
          "execution_count": 25
        }
      ]
    },
    {
      "cell_type": "markdown",
      "source": [
        "## Logical AND | OR"
      ],
      "metadata": {
        "id": "-JDEmZtsm0o1"
      }
    },
    {
      "cell_type": "code",
      "source": [
        "runSelect(\"select lastname, jobdesc, salary, deptid from empl where deptid = '20'\")"
      ],
      "metadata": {
        "colab": {
          "base_uri": "https://localhost:8080/",
          "height": 143
        },
        "id": "rli0DBhIm54M",
        "outputId": "208cc86e-f045-4091-858e-bb6a9b3861f1"
      },
      "execution_count": 26,
      "outputs": [
        {
          "output_type": "execute_result",
          "data": {
            "text/plain": [
              "<pandas.io.formats.style.Styler at 0x7e9c25013400>"
            ],
            "text/html": [
              "<style type=\"text/css\">\n",
              "</style>\n",
              "<table id=\"T_e7646\" class=\"dataframe\">\n",
              "  <thead>\n",
              "    <tr>\n",
              "      <th id=\"T_e7646_level0_col0\" class=\"col_heading level0 col0\" >lastname</th>\n",
              "      <th id=\"T_e7646_level0_col1\" class=\"col_heading level0 col1\" >jobdesc</th>\n",
              "      <th id=\"T_e7646_level0_col2\" class=\"col_heading level0 col2\" >salary</th>\n",
              "      <th id=\"T_e7646_level0_col3\" class=\"col_heading level0 col3\" >deptid</th>\n",
              "    </tr>\n",
              "  </thead>\n",
              "  <tbody>\n",
              "    <tr>\n",
              "      <td id=\"T_e7646_row0_col0\" class=\"data row0 col0\" >Dikshit</td>\n",
              "      <td id=\"T_e7646_row0_col1\" class=\"data row0 col1\" >Clerk</td>\n",
              "      <td id=\"T_e7646_row0_col2\" class=\"data row0 col2\" >10000</td>\n",
              "      <td id=\"T_e7646_row0_col3\" class=\"data row0 col3\" >20</td>\n",
              "    </tr>\n",
              "    <tr>\n",
              "      <td id=\"T_e7646_row1_col0\" class=\"data row1 col0\" >Khan</td>\n",
              "      <td id=\"T_e7646_row1_col1\" class=\"data row1 col1\" >Manager</td>\n",
              "      <td id=\"T_e7646_row1_col2\" class=\"data row1 col2\" >30000</td>\n",
              "      <td id=\"T_e7646_row1_col3\" class=\"data row1 col3\" >20</td>\n",
              "    </tr>\n",
              "    <tr>\n",
              "      <td id=\"T_e7646_row2_col0\" class=\"data row2 col0\" >Sehwag</td>\n",
              "      <td id=\"T_e7646_row2_col1\" class=\"data row2 col1\" >Cus_Rep</td>\n",
              "      <td id=\"T_e7646_row2_col2\" class=\"data row2 col2\" >15000</td>\n",
              "      <td id=\"T_e7646_row2_col3\" class=\"data row2 col3\" >20</td>\n",
              "    </tr>\n",
              "  </tbody>\n",
              "</table>\n"
            ]
          },
          "metadata": {},
          "execution_count": 26
        }
      ]
    },
    {
      "cell_type": "code",
      "source": [
        "runSelect(\"select lastname, jobdesc, salary, deptid from empl where deptid = '20' and salary > 10000\")"
      ],
      "metadata": {
        "colab": {
          "base_uri": "https://localhost:8080/",
          "height": 112
        },
        "id": "wHIJoUGqnuwa",
        "outputId": "1c000568-eca9-434a-c7c6-a0b70e3dafc0"
      },
      "execution_count": 27,
      "outputs": [
        {
          "output_type": "execute_result",
          "data": {
            "text/plain": [
              "<pandas.io.formats.style.Styler at 0x7e9c25010430>"
            ],
            "text/html": [
              "<style type=\"text/css\">\n",
              "</style>\n",
              "<table id=\"T_8410d\" class=\"dataframe\">\n",
              "  <thead>\n",
              "    <tr>\n",
              "      <th id=\"T_8410d_level0_col0\" class=\"col_heading level0 col0\" >lastname</th>\n",
              "      <th id=\"T_8410d_level0_col1\" class=\"col_heading level0 col1\" >jobdesc</th>\n",
              "      <th id=\"T_8410d_level0_col2\" class=\"col_heading level0 col2\" >salary</th>\n",
              "      <th id=\"T_8410d_level0_col3\" class=\"col_heading level0 col3\" >deptid</th>\n",
              "    </tr>\n",
              "  </thead>\n",
              "  <tbody>\n",
              "    <tr>\n",
              "      <td id=\"T_8410d_row0_col0\" class=\"data row0 col0\" >Khan</td>\n",
              "      <td id=\"T_8410d_row0_col1\" class=\"data row0 col1\" >Manager</td>\n",
              "      <td id=\"T_8410d_row0_col2\" class=\"data row0 col2\" >30000</td>\n",
              "      <td id=\"T_8410d_row0_col3\" class=\"data row0 col3\" >20</td>\n",
              "    </tr>\n",
              "    <tr>\n",
              "      <td id=\"T_8410d_row1_col0\" class=\"data row1 col0\" >Sehwag</td>\n",
              "      <td id=\"T_8410d_row1_col1\" class=\"data row1 col1\" >Cus_Rep</td>\n",
              "      <td id=\"T_8410d_row1_col2\" class=\"data row1 col2\" >15000</td>\n",
              "      <td id=\"T_8410d_row1_col3\" class=\"data row1 col3\" >20</td>\n",
              "    </tr>\n",
              "  </tbody>\n",
              "</table>\n"
            ]
          },
          "metadata": {},
          "execution_count": 27
        }
      ]
    },
    {
      "cell_type": "code",
      "source": [
        "runSelect(\"select lastname, jobdesc, salary, deptid from empl where deptid = '20' and salary > 10000 and jobdesc = 'Clerk'\")"
      ],
      "metadata": {
        "colab": {
          "base_uri": "https://localhost:8080/"
        },
        "id": "fnB8p8-EnzH2",
        "outputId": "a959f455-a535-40ad-b3e4-1cd7d64b591c"
      },
      "execution_count": 28,
      "outputs": [
        {
          "output_type": "stream",
          "name": "stdout",
          "text": [
            "no records found\n"
          ]
        }
      ]
    },
    {
      "cell_type": "code",
      "source": [
        "runSelect(\"select lastname, jobdesc, deptid from empl where deptid = '70'\")"
      ],
      "metadata": {
        "colab": {
          "base_uri": "https://localhost:8080/",
          "height": 81
        },
        "id": "uEKUIgOMqtLw",
        "outputId": "fd8be385-c936-4889-a54c-cad57d8b89f8"
      },
      "execution_count": 29,
      "outputs": [
        {
          "output_type": "execute_result",
          "data": {
            "text/plain": [
              "<pandas.io.formats.style.Styler at 0x7e9c25036170>"
            ],
            "text/html": [
              "<style type=\"text/css\">\n",
              "</style>\n",
              "<table id=\"T_65c0b\" class=\"dataframe\">\n",
              "  <thead>\n",
              "    <tr>\n",
              "      <th id=\"T_65c0b_level0_col0\" class=\"col_heading level0 col0\" >lastname</th>\n",
              "      <th id=\"T_65c0b_level0_col1\" class=\"col_heading level0 col1\" >jobdesc</th>\n",
              "      <th id=\"T_65c0b_level0_col2\" class=\"col_heading level0 col2\" >deptid</th>\n",
              "    </tr>\n",
              "  </thead>\n",
              "  <tbody>\n",
              "    <tr>\n",
              "      <td id=\"T_65c0b_row0_col0\" class=\"data row0 col0\" >Sunil</td>\n",
              "      <td id=\"T_65c0b_row0_col1\" class=\"data row0 col1\" >Dy Manager</td>\n",
              "      <td id=\"T_65c0b_row0_col2\" class=\"data row0 col2\" >70</td>\n",
              "    </tr>\n",
              "  </tbody>\n",
              "</table>\n"
            ]
          },
          "metadata": {},
          "execution_count": 29
        }
      ]
    },
    {
      "cell_type": "code",
      "source": [
        "runSelect(\"select lastname, jobdesc, deptid from empl where deptid = '70' or jobdesc like '%Manager'\")"
      ],
      "metadata": {
        "colab": {
          "base_uri": "https://localhost:8080/",
          "height": 175
        },
        "id": "Ne0eLRV3qyTn",
        "outputId": "fb705820-749e-4f63-d80d-37cc72c4cfa6"
      },
      "execution_count": 30,
      "outputs": [
        {
          "output_type": "execute_result",
          "data": {
            "text/plain": [
              "<pandas.io.formats.style.Styler at 0x7e9c25034070>"
            ],
            "text/html": [
              "<style type=\"text/css\">\n",
              "</style>\n",
              "<table id=\"T_7f618\" class=\"dataframe\">\n",
              "  <thead>\n",
              "    <tr>\n",
              "      <th id=\"T_7f618_level0_col0\" class=\"col_heading level0 col0\" >lastname</th>\n",
              "      <th id=\"T_7f618_level0_col1\" class=\"col_heading level0 col1\" >jobdesc</th>\n",
              "      <th id=\"T_7f618_level0_col2\" class=\"col_heading level0 col2\" >deptid</th>\n",
              "    </tr>\n",
              "  </thead>\n",
              "  <tbody>\n",
              "    <tr>\n",
              "      <td id=\"T_7f618_row0_col0\" class=\"data row0 col0\" >Mukherjee</td>\n",
              "      <td id=\"T_7f618_row0_col1\" class=\"data row0 col1\" >Manager</td>\n",
              "      <td id=\"T_7f618_row0_col2\" class=\"data row0 col2\" >40</td>\n",
              "    </tr>\n",
              "    <tr>\n",
              "      <td id=\"T_7f618_row1_col0\" class=\"data row1 col0\" >Khan</td>\n",
              "      <td id=\"T_7f618_row1_col1\" class=\"data row1 col1\" >Manager</td>\n",
              "      <td id=\"T_7f618_row1_col2\" class=\"data row1 col2\" >20</td>\n",
              "    </tr>\n",
              "    <tr>\n",
              "      <td id=\"T_7f618_row2_col0\" class=\"data row2 col0\" >Dravid</td>\n",
              "      <td id=\"T_7f618_row2_col1\" class=\"data row2 col1\" >Sr Manager</td>\n",
              "      <td id=\"T_7f618_row2_col2\" class=\"data row2 col2\" >30</td>\n",
              "    </tr>\n",
              "    <tr>\n",
              "      <td id=\"T_7f618_row3_col0\" class=\"data row3 col0\" >Sunil</td>\n",
              "      <td id=\"T_7f618_row3_col1\" class=\"data row3 col1\" >Dy Manager</td>\n",
              "      <td id=\"T_7f618_row3_col2\" class=\"data row3 col2\" >70</td>\n",
              "    </tr>\n",
              "  </tbody>\n",
              "</table>\n"
            ]
          },
          "metadata": {},
          "execution_count": 30
        }
      ]
    },
    {
      "cell_type": "code",
      "source": [
        "runSelect(\"select lastname, jobdesc, deptid from empl where deptid = '70' or jobdesc like '%Manager' or lastname = 'Dikshit'\")"
      ],
      "metadata": {
        "colab": {
          "base_uri": "https://localhost:8080/",
          "height": 206
        },
        "id": "aR3eNz7xq8Xo",
        "outputId": "3bbcb280-3332-4223-b3de-4302e0389b7a"
      },
      "execution_count": 31,
      "outputs": [
        {
          "output_type": "execute_result",
          "data": {
            "text/plain": [
              "<pandas.io.formats.style.Styler at 0x7e9c25013280>"
            ],
            "text/html": [
              "<style type=\"text/css\">\n",
              "</style>\n",
              "<table id=\"T_1d3ce\" class=\"dataframe\">\n",
              "  <thead>\n",
              "    <tr>\n",
              "      <th id=\"T_1d3ce_level0_col0\" class=\"col_heading level0 col0\" >lastname</th>\n",
              "      <th id=\"T_1d3ce_level0_col1\" class=\"col_heading level0 col1\" >jobdesc</th>\n",
              "      <th id=\"T_1d3ce_level0_col2\" class=\"col_heading level0 col2\" >deptid</th>\n",
              "    </tr>\n",
              "  </thead>\n",
              "  <tbody>\n",
              "    <tr>\n",
              "      <td id=\"T_1d3ce_row0_col0\" class=\"data row0 col0\" >Mukherjee</td>\n",
              "      <td id=\"T_1d3ce_row0_col1\" class=\"data row0 col1\" >Manager</td>\n",
              "      <td id=\"T_1d3ce_row0_col2\" class=\"data row0 col2\" >40</td>\n",
              "    </tr>\n",
              "    <tr>\n",
              "      <td id=\"T_1d3ce_row1_col0\" class=\"data row1 col0\" >Dikshit</td>\n",
              "      <td id=\"T_1d3ce_row1_col1\" class=\"data row1 col1\" >Clerk</td>\n",
              "      <td id=\"T_1d3ce_row1_col2\" class=\"data row1 col2\" >20</td>\n",
              "    </tr>\n",
              "    <tr>\n",
              "      <td id=\"T_1d3ce_row2_col0\" class=\"data row2 col0\" >Khan</td>\n",
              "      <td id=\"T_1d3ce_row2_col1\" class=\"data row2 col1\" >Manager</td>\n",
              "      <td id=\"T_1d3ce_row2_col2\" class=\"data row2 col2\" >20</td>\n",
              "    </tr>\n",
              "    <tr>\n",
              "      <td id=\"T_1d3ce_row3_col0\" class=\"data row3 col0\" >Dravid</td>\n",
              "      <td id=\"T_1d3ce_row3_col1\" class=\"data row3 col1\" >Sr Manager</td>\n",
              "      <td id=\"T_1d3ce_row3_col2\" class=\"data row3 col2\" >30</td>\n",
              "    </tr>\n",
              "    <tr>\n",
              "      <td id=\"T_1d3ce_row4_col0\" class=\"data row4 col0\" >Sunil</td>\n",
              "      <td id=\"T_1d3ce_row4_col1\" class=\"data row4 col1\" >Dy Manager</td>\n",
              "      <td id=\"T_1d3ce_row4_col2\" class=\"data row4 col2\" >70</td>\n",
              "    </tr>\n",
              "  </tbody>\n",
              "</table>\n"
            ]
          },
          "metadata": {},
          "execution_count": 31
        }
      ]
    },
    {
      "cell_type": "code",
      "source": [
        "runSelect(\"select lastname, jobdesc, salary from empl where jobdesc = 'Cus_Rep' or jobdesc = 'Clerk' and salary < 16000\")"
      ],
      "metadata": {
        "colab": {
          "base_uri": "https://localhost:8080/",
          "height": 238
        },
        "id": "Ov0HErC0txm4",
        "outputId": "954b300d-b97b-453a-ec83-fb4784d595b2"
      },
      "execution_count": 32,
      "outputs": [
        {
          "output_type": "execute_result",
          "data": {
            "text/plain": [
              "<pandas.io.formats.style.Styler at 0x7e9c25035c30>"
            ],
            "text/html": [
              "<style type=\"text/css\">\n",
              "</style>\n",
              "<table id=\"T_ed6bc\" class=\"dataframe\">\n",
              "  <thead>\n",
              "    <tr>\n",
              "      <th id=\"T_ed6bc_level0_col0\" class=\"col_heading level0 col0\" >lastname</th>\n",
              "      <th id=\"T_ed6bc_level0_col1\" class=\"col_heading level0 col1\" >jobdesc</th>\n",
              "      <th id=\"T_ed6bc_level0_col2\" class=\"col_heading level0 col2\" >salary</th>\n",
              "    </tr>\n",
              "  </thead>\n",
              "  <tbody>\n",
              "    <tr>\n",
              "      <td id=\"T_ed6bc_row0_col0\" class=\"data row0 col0\" >Dikshit</td>\n",
              "      <td id=\"T_ed6bc_row0_col1\" class=\"data row0 col1\" >Clerk</td>\n",
              "      <td id=\"T_ed6bc_row0_col2\" class=\"data row0 col2\" >10000</td>\n",
              "    </tr>\n",
              "    <tr>\n",
              "      <td id=\"T_ed6bc_row1_col0\" class=\"data row1 col0\" >Sehwag</td>\n",
              "      <td id=\"T_ed6bc_row1_col1\" class=\"data row1 col1\" >Cus_Rep</td>\n",
              "      <td id=\"T_ed6bc_row1_col2\" class=\"data row1 col2\" >15000</td>\n",
              "    </tr>\n",
              "    <tr>\n",
              "      <td id=\"T_ed6bc_row2_col0\" class=\"data row2 col0\" >Dhoni</td>\n",
              "      <td id=\"T_ed6bc_row2_col1\" class=\"data row2 col1\" >Clerk</td>\n",
              "      <td id=\"T_ed6bc_row2_col2\" class=\"data row2 col2\" >9000</td>\n",
              "    </tr>\n",
              "    <tr>\n",
              "      <td id=\"T_ed6bc_row3_col0\" class=\"data row3 col0\" >Dalmia</td>\n",
              "      <td id=\"T_ed6bc_row3_col1\" class=\"data row3 col1\" >Clerk</td>\n",
              "      <td id=\"T_ed6bc_row3_col2\" class=\"data row3 col2\" >12000</td>\n",
              "    </tr>\n",
              "    <tr>\n",
              "      <td id=\"T_ed6bc_row4_col0\" class=\"data row4 col0\" >Ganguly</td>\n",
              "      <td id=\"T_ed6bc_row4_col1\" class=\"data row4 col1\" >Cus_Rep</td>\n",
              "      <td id=\"T_ed6bc_row4_col2\" class=\"data row4 col2\" >20000</td>\n",
              "    </tr>\n",
              "    <tr>\n",
              "      <td id=\"T_ed6bc_row5_col0\" class=\"data row5 col0\" >Mirza</td>\n",
              "      <td id=\"T_ed6bc_row5_col1\" class=\"data row5 col1\" >Cus_Rep</td>\n",
              "      <td id=\"T_ed6bc_row5_col2\" class=\"data row5 col2\" >25000</td>\n",
              "    </tr>\n",
              "  </tbody>\n",
              "</table>\n"
            ]
          },
          "metadata": {},
          "execution_count": 32
        }
      ]
    },
    {
      "cell_type": "code",
      "source": [
        "runSelect(\"select lastname, jobdesc, salary from empl where (jobdesc = 'Cus_Rep' or jobdesc = 'Clerk') and salary < 16000\")"
      ],
      "metadata": {
        "colab": {
          "base_uri": "https://localhost:8080/",
          "height": 175
        },
        "id": "g7hbzjdxuOt6",
        "outputId": "b1db4f7b-4061-406a-92b4-89404d96b23e"
      },
      "execution_count": 33,
      "outputs": [
        {
          "output_type": "execute_result",
          "data": {
            "text/plain": [
              "<pandas.io.formats.style.Styler at 0x7e9c4bab78e0>"
            ],
            "text/html": [
              "<style type=\"text/css\">\n",
              "</style>\n",
              "<table id=\"T_53baf\" class=\"dataframe\">\n",
              "  <thead>\n",
              "    <tr>\n",
              "      <th id=\"T_53baf_level0_col0\" class=\"col_heading level0 col0\" >lastname</th>\n",
              "      <th id=\"T_53baf_level0_col1\" class=\"col_heading level0 col1\" >jobdesc</th>\n",
              "      <th id=\"T_53baf_level0_col2\" class=\"col_heading level0 col2\" >salary</th>\n",
              "    </tr>\n",
              "  </thead>\n",
              "  <tbody>\n",
              "    <tr>\n",
              "      <td id=\"T_53baf_row0_col0\" class=\"data row0 col0\" >Dikshit</td>\n",
              "      <td id=\"T_53baf_row0_col1\" class=\"data row0 col1\" >Clerk</td>\n",
              "      <td id=\"T_53baf_row0_col2\" class=\"data row0 col2\" >10000</td>\n",
              "    </tr>\n",
              "    <tr>\n",
              "      <td id=\"T_53baf_row1_col0\" class=\"data row1 col0\" >Sehwag</td>\n",
              "      <td id=\"T_53baf_row1_col1\" class=\"data row1 col1\" >Cus_Rep</td>\n",
              "      <td id=\"T_53baf_row1_col2\" class=\"data row1 col2\" >15000</td>\n",
              "    </tr>\n",
              "    <tr>\n",
              "      <td id=\"T_53baf_row2_col0\" class=\"data row2 col0\" >Dhoni</td>\n",
              "      <td id=\"T_53baf_row2_col1\" class=\"data row2 col1\" >Clerk</td>\n",
              "      <td id=\"T_53baf_row2_col2\" class=\"data row2 col2\" >9000</td>\n",
              "    </tr>\n",
              "    <tr>\n",
              "      <td id=\"T_53baf_row3_col0\" class=\"data row3 col0\" >Dalmia</td>\n",
              "      <td id=\"T_53baf_row3_col1\" class=\"data row3 col1\" >Clerk</td>\n",
              "      <td id=\"T_53baf_row3_col2\" class=\"data row3 col2\" >12000</td>\n",
              "    </tr>\n",
              "  </tbody>\n",
              "</table>\n"
            ]
          },
          "metadata": {},
          "execution_count": 33
        }
      ]
    },
    {
      "cell_type": "markdown",
      "source": [
        "# Single Row Functions"
      ],
      "metadata": {
        "id": "ND-8LYQcxsG2"
      }
    },
    {
      "cell_type": "code",
      "source": [
        "runSelect(\"select lastname, deptid, salary, comm, salary+salary*comm payout from empl where deptid = '20'\")"
      ],
      "metadata": {
        "colab": {
          "base_uri": "https://localhost:8080/",
          "height": 143
        },
        "id": "s71weE_hyDwf",
        "outputId": "314ab945-8ade-494f-c8cc-f8a793b499fd"
      },
      "execution_count": 34,
      "outputs": [
        {
          "output_type": "execute_result",
          "data": {
            "text/plain": [
              "<pandas.io.formats.style.Styler at 0x7e9c4baf32b0>"
            ],
            "text/html": [
              "<style type=\"text/css\">\n",
              "</style>\n",
              "<table id=\"T_93675\" class=\"dataframe\">\n",
              "  <thead>\n",
              "    <tr>\n",
              "      <th id=\"T_93675_level0_col0\" class=\"col_heading level0 col0\" >lastname</th>\n",
              "      <th id=\"T_93675_level0_col1\" class=\"col_heading level0 col1\" >deptid</th>\n",
              "      <th id=\"T_93675_level0_col2\" class=\"col_heading level0 col2\" >salary</th>\n",
              "      <th id=\"T_93675_level0_col3\" class=\"col_heading level0 col3\" >comm</th>\n",
              "      <th id=\"T_93675_level0_col4\" class=\"col_heading level0 col4\" >payout</th>\n",
              "    </tr>\n",
              "  </thead>\n",
              "  <tbody>\n",
              "    <tr>\n",
              "      <td id=\"T_93675_row0_col0\" class=\"data row0 col0\" >Dikshit</td>\n",
              "      <td id=\"T_93675_row0_col1\" class=\"data row0 col1\" >20</td>\n",
              "      <td id=\"T_93675_row0_col2\" class=\"data row0 col2\" >10000</td>\n",
              "      <td id=\"T_93675_row0_col3\" class=\"data row0 col3\" >0.02</td>\n",
              "      <td id=\"T_93675_row0_col4\" class=\"data row0 col4\" >10200.00</td>\n",
              "    </tr>\n",
              "    <tr>\n",
              "      <td id=\"T_93675_row1_col0\" class=\"data row1 col0\" >Khan</td>\n",
              "      <td id=\"T_93675_row1_col1\" class=\"data row1 col1\" >20</td>\n",
              "      <td id=\"T_93675_row1_col2\" class=\"data row1 col2\" >30000</td>\n",
              "      <td id=\"T_93675_row1_col3\" class=\"data row1 col3\" >0.07</td>\n",
              "      <td id=\"T_93675_row1_col4\" class=\"data row1 col4\" >32100.00</td>\n",
              "    </tr>\n",
              "    <tr>\n",
              "      <td id=\"T_93675_row2_col0\" class=\"data row2 col0\" >Sehwag</td>\n",
              "      <td id=\"T_93675_row2_col1\" class=\"data row2 col1\" >20</td>\n",
              "      <td id=\"T_93675_row2_col2\" class=\"data row2 col2\" >15000</td>\n",
              "      <td id=\"T_93675_row2_col3\" class=\"data row2 col3\" >0.05</td>\n",
              "      <td id=\"T_93675_row2_col4\" class=\"data row2 col4\" >15750.00</td>\n",
              "    </tr>\n",
              "  </tbody>\n",
              "</table>\n"
            ]
          },
          "metadata": {},
          "execution_count": 34
        }
      ]
    },
    {
      "cell_type": "code",
      "source": [
        "runSelect(\"select lastname, firstname, deptid, substring(firstname,1,3) nick from empl where deptid = '20'\")"
      ],
      "metadata": {
        "colab": {
          "base_uri": "https://localhost:8080/",
          "height": 143
        },
        "id": "I3rkoZrYyb_P",
        "outputId": "fd65641c-e728-4688-eb94-4aa768dd5ff3"
      },
      "execution_count": 35,
      "outputs": [
        {
          "output_type": "execute_result",
          "data": {
            "text/plain": [
              "<pandas.io.formats.style.Styler at 0x7e9c250135e0>"
            ],
            "text/html": [
              "<style type=\"text/css\">\n",
              "</style>\n",
              "<table id=\"T_57f30\" class=\"dataframe\">\n",
              "  <thead>\n",
              "    <tr>\n",
              "      <th id=\"T_57f30_level0_col0\" class=\"col_heading level0 col0\" >lastname</th>\n",
              "      <th id=\"T_57f30_level0_col1\" class=\"col_heading level0 col1\" >firstname</th>\n",
              "      <th id=\"T_57f30_level0_col2\" class=\"col_heading level0 col2\" >deptid</th>\n",
              "      <th id=\"T_57f30_level0_col3\" class=\"col_heading level0 col3\" >nick</th>\n",
              "    </tr>\n",
              "  </thead>\n",
              "  <tbody>\n",
              "    <tr>\n",
              "      <td id=\"T_57f30_row0_col0\" class=\"data row0 col0\" >Dikshit</td>\n",
              "      <td id=\"T_57f30_row0_col1\" class=\"data row0 col1\" >Madhuri</td>\n",
              "      <td id=\"T_57f30_row0_col2\" class=\"data row0 col2\" >20</td>\n",
              "      <td id=\"T_57f30_row0_col3\" class=\"data row0 col3\" >Mad</td>\n",
              "    </tr>\n",
              "    <tr>\n",
              "      <td id=\"T_57f30_row1_col0\" class=\"data row1 col0\" >Khan</td>\n",
              "      <td id=\"T_57f30_row1_col1\" class=\"data row1 col1\" >Shahrukh</td>\n",
              "      <td id=\"T_57f30_row1_col2\" class=\"data row1 col2\" >20</td>\n",
              "      <td id=\"T_57f30_row1_col3\" class=\"data row1 col3\" >Sha</td>\n",
              "    </tr>\n",
              "    <tr>\n",
              "      <td id=\"T_57f30_row2_col0\" class=\"data row2 col0\" >Sehwag</td>\n",
              "      <td id=\"T_57f30_row2_col1\" class=\"data row2 col1\" >Virender</td>\n",
              "      <td id=\"T_57f30_row2_col2\" class=\"data row2 col2\" >20</td>\n",
              "      <td id=\"T_57f30_row2_col3\" class=\"data row2 col3\" >Vir</td>\n",
              "    </tr>\n",
              "  </tbody>\n",
              "</table>\n"
            ]
          },
          "metadata": {},
          "execution_count": 35
        }
      ]
    },
    {
      "cell_type": "code",
      "source": [
        "runSelect(\"select lastname, firstname, deptid, concat('\\\"',substring(firstname,2,3),'\\\" ',lastname) nick from empl where deptid = '20'\")"
      ],
      "metadata": {
        "colab": {
          "base_uri": "https://localhost:8080/",
          "height": 143
        },
        "id": "xNQl1KpSzIQc",
        "outputId": "68f83bd2-941d-40c6-e64c-dc8332490225"
      },
      "execution_count": 36,
      "outputs": [
        {
          "output_type": "execute_result",
          "data": {
            "text/plain": [
              "<pandas.io.formats.style.Styler at 0x7e9c4baf3130>"
            ],
            "text/html": [
              "<style type=\"text/css\">\n",
              "</style>\n",
              "<table id=\"T_2ecbb\" class=\"dataframe\">\n",
              "  <thead>\n",
              "    <tr>\n",
              "      <th id=\"T_2ecbb_level0_col0\" class=\"col_heading level0 col0\" >lastname</th>\n",
              "      <th id=\"T_2ecbb_level0_col1\" class=\"col_heading level0 col1\" >firstname</th>\n",
              "      <th id=\"T_2ecbb_level0_col2\" class=\"col_heading level0 col2\" >deptid</th>\n",
              "      <th id=\"T_2ecbb_level0_col3\" class=\"col_heading level0 col3\" >nick</th>\n",
              "    </tr>\n",
              "  </thead>\n",
              "  <tbody>\n",
              "    <tr>\n",
              "      <td id=\"T_2ecbb_row0_col0\" class=\"data row0 col0\" >Dikshit</td>\n",
              "      <td id=\"T_2ecbb_row0_col1\" class=\"data row0 col1\" >Madhuri</td>\n",
              "      <td id=\"T_2ecbb_row0_col2\" class=\"data row0 col2\" >20</td>\n",
              "      <td id=\"T_2ecbb_row0_col3\" class=\"data row0 col3\" >\"adh\" Dikshit</td>\n",
              "    </tr>\n",
              "    <tr>\n",
              "      <td id=\"T_2ecbb_row1_col0\" class=\"data row1 col0\" >Khan</td>\n",
              "      <td id=\"T_2ecbb_row1_col1\" class=\"data row1 col1\" >Shahrukh</td>\n",
              "      <td id=\"T_2ecbb_row1_col2\" class=\"data row1 col2\" >20</td>\n",
              "      <td id=\"T_2ecbb_row1_col3\" class=\"data row1 col3\" >\"hah\" Khan</td>\n",
              "    </tr>\n",
              "    <tr>\n",
              "      <td id=\"T_2ecbb_row2_col0\" class=\"data row2 col0\" >Sehwag</td>\n",
              "      <td id=\"T_2ecbb_row2_col1\" class=\"data row2 col1\" >Virender</td>\n",
              "      <td id=\"T_2ecbb_row2_col2\" class=\"data row2 col2\" >20</td>\n",
              "      <td id=\"T_2ecbb_row2_col3\" class=\"data row2 col3\" >\"ire\" Sehwag</td>\n",
              "    </tr>\n",
              "  </tbody>\n",
              "</table>\n"
            ]
          },
          "metadata": {},
          "execution_count": 36
        }
      ]
    },
    {
      "cell_type": "code",
      "source": [
        "runSelect(\"select LastName, Current_Date,JoinDate, to_char(JoinDate,'Day') JoinDay, to_char(JoinDate,'DD-mon-YY') JoinDate2, \\\n",
        "Current_Date-JoinDate DaysSince from Empl\")\n",
        "\n",
        "#https://blog.quest.com/exploring-postgres-date-formats-and-their-different-functions/\n"
      ],
      "metadata": {
        "id": "37Rjgkxz-BP0",
        "outputId": "05576cc1-a7ca-4ad5-acfe-f0b1d8377986",
        "colab": {
          "base_uri": "https://localhost:8080/",
          "height": 457
        }
      },
      "execution_count": 37,
      "outputs": [
        {
          "output_type": "execute_result",
          "data": {
            "text/plain": [
              "<pandas.io.formats.style.Styler at 0x7e9c25034af0>"
            ],
            "text/html": [
              "<style type=\"text/css\">\n",
              "</style>\n",
              "<table id=\"T_81ae6\" class=\"dataframe\">\n",
              "  <thead>\n",
              "    <tr>\n",
              "      <th id=\"T_81ae6_level0_col0\" class=\"col_heading level0 col0\" >lastname</th>\n",
              "      <th id=\"T_81ae6_level0_col1\" class=\"col_heading level0 col1\" >current_date</th>\n",
              "      <th id=\"T_81ae6_level0_col2\" class=\"col_heading level0 col2\" >joindate</th>\n",
              "      <th id=\"T_81ae6_level0_col3\" class=\"col_heading level0 col3\" >joinday</th>\n",
              "      <th id=\"T_81ae6_level0_col4\" class=\"col_heading level0 col4\" >joindate2</th>\n",
              "      <th id=\"T_81ae6_level0_col5\" class=\"col_heading level0 col5\" >dayssince</th>\n",
              "    </tr>\n",
              "  </thead>\n",
              "  <tbody>\n",
              "    <tr>\n",
              "      <td id=\"T_81ae6_row0_col0\" class=\"data row0 col0\" >Bacchan</td>\n",
              "      <td id=\"T_81ae6_row0_col1\" class=\"data row0 col1\" >2024-01-09</td>\n",
              "      <td id=\"T_81ae6_row0_col2\" class=\"data row0 col2\" >2003-03-10</td>\n",
              "      <td id=\"T_81ae6_row0_col3\" class=\"data row0 col3\" >Monday   </td>\n",
              "      <td id=\"T_81ae6_row0_col4\" class=\"data row0 col4\" >10-mar-03</td>\n",
              "      <td id=\"T_81ae6_row0_col5\" class=\"data row0 col5\" >7610</td>\n",
              "    </tr>\n",
              "    <tr>\n",
              "      <td id=\"T_81ae6_row1_col0\" class=\"data row1 col0\" >Mukherjee</td>\n",
              "      <td id=\"T_81ae6_row1_col1\" class=\"data row1 col1\" >2024-01-09</td>\n",
              "      <td id=\"T_81ae6_row1_col2\" class=\"data row1 col2\" >2005-05-04</td>\n",
              "      <td id=\"T_81ae6_row1_col3\" class=\"data row1 col3\" >Wednesday</td>\n",
              "      <td id=\"T_81ae6_row1_col4\" class=\"data row1 col4\" >04-may-05</td>\n",
              "      <td id=\"T_81ae6_row1_col5\" class=\"data row1 col5\" >6824</td>\n",
              "    </tr>\n",
              "    <tr>\n",
              "      <td id=\"T_81ae6_row2_col0\" class=\"data row2 col0\" >Dikshit</td>\n",
              "      <td id=\"T_81ae6_row2_col1\" class=\"data row2 col1\" >2024-01-09</td>\n",
              "      <td id=\"T_81ae6_row2_col2\" class=\"data row2 col2\" >2002-04-04</td>\n",
              "      <td id=\"T_81ae6_row2_col3\" class=\"data row2 col3\" >Thursday </td>\n",
              "      <td id=\"T_81ae6_row2_col4\" class=\"data row2 col4\" >04-apr-02</td>\n",
              "      <td id=\"T_81ae6_row2_col5\" class=\"data row2 col5\" >7950</td>\n",
              "    </tr>\n",
              "    <tr>\n",
              "      <td id=\"T_81ae6_row3_col0\" class=\"data row3 col0\" >Khan</td>\n",
              "      <td id=\"T_81ae6_row3_col1\" class=\"data row3 col1\" >2024-01-09</td>\n",
              "      <td id=\"T_81ae6_row3_col2\" class=\"data row3 col2\" >2004-01-03</td>\n",
              "      <td id=\"T_81ae6_row3_col3\" class=\"data row3 col3\" >Saturday </td>\n",
              "      <td id=\"T_81ae6_row3_col4\" class=\"data row3 col4\" >03-jan-04</td>\n",
              "      <td id=\"T_81ae6_row3_col5\" class=\"data row3 col5\" >7311</td>\n",
              "    </tr>\n",
              "    <tr>\n",
              "      <td id=\"T_81ae6_row4_col0\" class=\"data row4 col0\" >Sehwag</td>\n",
              "      <td id=\"T_81ae6_row4_col1\" class=\"data row4 col1\" >2024-01-09</td>\n",
              "      <td id=\"T_81ae6_row4_col2\" class=\"data row4 col2\" >2005-01-02</td>\n",
              "      <td id=\"T_81ae6_row4_col3\" class=\"data row4 col3\" >Sunday   </td>\n",
              "      <td id=\"T_81ae6_row4_col4\" class=\"data row4 col4\" >02-jan-05</td>\n",
              "      <td id=\"T_81ae6_row4_col5\" class=\"data row4 col5\" >6946</td>\n",
              "    </tr>\n",
              "    <tr>\n",
              "      <td id=\"T_81ae6_row5_col0\" class=\"data row5 col0\" >Dhoni</td>\n",
              "      <td id=\"T_81ae6_row5_col1\" class=\"data row5 col1\" >2024-01-09</td>\n",
              "      <td id=\"T_81ae6_row5_col2\" class=\"data row5 col2\" >2004-10-09</td>\n",
              "      <td id=\"T_81ae6_row5_col3\" class=\"data row5 col3\" >Saturday </td>\n",
              "      <td id=\"T_81ae6_row5_col4\" class=\"data row5 col4\" >09-oct-04</td>\n",
              "      <td id=\"T_81ae6_row5_col5\" class=\"data row5 col5\" >7031</td>\n",
              "    </tr>\n",
              "    <tr>\n",
              "      <td id=\"T_81ae6_row6_col0\" class=\"data row6 col0\" >Dravid</td>\n",
              "      <td id=\"T_81ae6_row6_col1\" class=\"data row6 col1\" >2024-01-09</td>\n",
              "      <td id=\"T_81ae6_row6_col2\" class=\"data row6 col2\" >2000-06-04</td>\n",
              "      <td id=\"T_81ae6_row6_col3\" class=\"data row6 col3\" >Sunday   </td>\n",
              "      <td id=\"T_81ae6_row6_col4\" class=\"data row6 col4\" >04-jun-00</td>\n",
              "      <td id=\"T_81ae6_row6_col5\" class=\"data row6 col5\" >8619</td>\n",
              "    </tr>\n",
              "    <tr>\n",
              "      <td id=\"T_81ae6_row7_col0\" class=\"data row7 col0\" >Dalmia</td>\n",
              "      <td id=\"T_81ae6_row7_col1\" class=\"data row7 col1\" >2024-01-09</td>\n",
              "      <td id=\"T_81ae6_row7_col2\" class=\"data row7 col2\" >2001-07-01</td>\n",
              "      <td id=\"T_81ae6_row7_col3\" class=\"data row7 col3\" >Sunday   </td>\n",
              "      <td id=\"T_81ae6_row7_col4\" class=\"data row7 col4\" >01-jul-01</td>\n",
              "      <td id=\"T_81ae6_row7_col5\" class=\"data row7 col5\" >8227</td>\n",
              "    </tr>\n",
              "    <tr>\n",
              "      <td id=\"T_81ae6_row8_col0\" class=\"data row8 col0\" >Ganguly</td>\n",
              "      <td id=\"T_81ae6_row8_col1\" class=\"data row8 col1\" >2024-01-09</td>\n",
              "      <td id=\"T_81ae6_row8_col2\" class=\"data row8 col2\" >2002-01-01</td>\n",
              "      <td id=\"T_81ae6_row8_col3\" class=\"data row8 col3\" >Tuesday  </td>\n",
              "      <td id=\"T_81ae6_row8_col4\" class=\"data row8 col4\" >01-jan-02</td>\n",
              "      <td id=\"T_81ae6_row8_col5\" class=\"data row8 col5\" >8043</td>\n",
              "    </tr>\n",
              "    <tr>\n",
              "      <td id=\"T_81ae6_row9_col0\" class=\"data row9 col0\" >Ganesan</td>\n",
              "      <td id=\"T_81ae6_row9_col1\" class=\"data row9 col1\" >2024-01-09</td>\n",
              "      <td id=\"T_81ae6_row9_col2\" class=\"data row9 col2\" >2002-10-10</td>\n",
              "      <td id=\"T_81ae6_row9_col3\" class=\"data row9 col3\" >Thursday </td>\n",
              "      <td id=\"T_81ae6_row9_col4\" class=\"data row9 col4\" >10-oct-02</td>\n",
              "      <td id=\"T_81ae6_row9_col5\" class=\"data row9 col5\" >7761</td>\n",
              "    </tr>\n",
              "    <tr>\n",
              "      <td id=\"T_81ae6_row10_col0\" class=\"data row10 col0\" >Karthikeyan</td>\n",
              "      <td id=\"T_81ae6_row10_col1\" class=\"data row10 col1\" >2024-01-09</td>\n",
              "      <td id=\"T_81ae6_row10_col2\" class=\"data row10 col2\" >2005-12-04</td>\n",
              "      <td id=\"T_81ae6_row10_col3\" class=\"data row10 col3\" >Sunday   </td>\n",
              "      <td id=\"T_81ae6_row10_col4\" class=\"data row10 col4\" >04-dec-05</td>\n",
              "      <td id=\"T_81ae6_row10_col5\" class=\"data row10 col5\" >6610</td>\n",
              "    </tr>\n",
              "    <tr>\n",
              "      <td id=\"T_81ae6_row11_col0\" class=\"data row11 col0\" >Sunil</td>\n",
              "      <td id=\"T_81ae6_row11_col1\" class=\"data row11 col1\" >2024-01-09</td>\n",
              "      <td id=\"T_81ae6_row11_col2\" class=\"data row11 col2\" >2006-12-07</td>\n",
              "      <td id=\"T_81ae6_row11_col3\" class=\"data row11 col3\" >Thursday </td>\n",
              "      <td id=\"T_81ae6_row11_col4\" class=\"data row11 col4\" >07-dec-06</td>\n",
              "      <td id=\"T_81ae6_row11_col5\" class=\"data row11 col5\" >6242</td>\n",
              "    </tr>\n",
              "    <tr>\n",
              "      <td id=\"T_81ae6_row12_col0\" class=\"data row12 col0\" >Mirza</td>\n",
              "      <td id=\"T_81ae6_row12_col1\" class=\"data row12 col1\" >2024-01-09</td>\n",
              "      <td id=\"T_81ae6_row12_col2\" class=\"data row12 col2\" >2001-11-19</td>\n",
              "      <td id=\"T_81ae6_row12_col3\" class=\"data row12 col3\" >Monday   </td>\n",
              "      <td id=\"T_81ae6_row12_col4\" class=\"data row12 col4\" >19-nov-01</td>\n",
              "      <td id=\"T_81ae6_row12_col5\" class=\"data row12 col5\" >8086</td>\n",
              "    </tr>\n",
              "  </tbody>\n",
              "</table>\n"
            ]
          },
          "metadata": {},
          "execution_count": 37
        }
      ]
    },
    {
      "cell_type": "markdown",
      "source": [
        "# MultiRow Function | Group By | Having\n",
        "for more complex examples that demonstrate Grouping Sets, Cubes, Roll UP, Crosstabs and other OLAP related SQL see [this notebook](https://github.com/Praxis-QR/RDWH/blob/main/PostgreSQL_03B_SQL_Level2.ipynb)"
      ],
      "metadata": {
        "id": "ONgFWUTC2IPK"
      }
    },
    {
      "cell_type": "code",
      "source": [
        "runSelect(\"select sum(salary) Total_Salary from empl\")"
      ],
      "metadata": {
        "colab": {
          "base_uri": "https://localhost:8080/",
          "height": 81
        },
        "id": "7MnnzfJx2PSc",
        "outputId": "610b68fc-7f9d-44e4-ac5c-47eb27ef165f"
      },
      "execution_count": 38,
      "outputs": [
        {
          "output_type": "execute_result",
          "data": {
            "text/plain": [
              "<pandas.io.formats.style.Styler at 0x7e9c25011ab0>"
            ],
            "text/html": [
              "<style type=\"text/css\">\n",
              "</style>\n",
              "<table id=\"T_5bc31\" class=\"dataframe\">\n",
              "  <thead>\n",
              "    <tr>\n",
              "      <th id=\"T_5bc31_level0_col0\" class=\"col_heading level0 col0\" >total_salary</th>\n",
              "    </tr>\n",
              "  </thead>\n",
              "  <tbody>\n",
              "    <tr>\n",
              "      <td id=\"T_5bc31_row0_col0\" class=\"data row0 col0\" >376000</td>\n",
              "    </tr>\n",
              "  </tbody>\n",
              "</table>\n"
            ]
          },
          "metadata": {},
          "execution_count": 38
        }
      ]
    },
    {
      "cell_type": "code",
      "source": [
        "runSelect(\"select round(avg(salary),2) Average_Salary from empl\")"
      ],
      "metadata": {
        "colab": {
          "base_uri": "https://localhost:8080/",
          "height": 81
        },
        "id": "e3Avb-HL4QPD",
        "outputId": "674c35ce-86d2-4575-c5fe-0d73f43fdf8e"
      },
      "execution_count": 39,
      "outputs": [
        {
          "output_type": "execute_result",
          "data": {
            "text/plain": [
              "<pandas.io.formats.style.Styler at 0x7e9c250104f0>"
            ],
            "text/html": [
              "<style type=\"text/css\">\n",
              "</style>\n",
              "<table id=\"T_d91b8\" class=\"dataframe\">\n",
              "  <thead>\n",
              "    <tr>\n",
              "      <th id=\"T_d91b8_level0_col0\" class=\"col_heading level0 col0\" >average_salary</th>\n",
              "    </tr>\n",
              "  </thead>\n",
              "  <tbody>\n",
              "    <tr>\n",
              "      <td id=\"T_d91b8_row0_col0\" class=\"data row0 col0\" >28923.08</td>\n",
              "    </tr>\n",
              "  </tbody>\n",
              "</table>\n"
            ]
          },
          "metadata": {},
          "execution_count": 39
        }
      ]
    },
    {
      "cell_type": "code",
      "source": [
        "runSelect(\"select max(salary) Max_Salary from empl\")"
      ],
      "metadata": {
        "colab": {
          "base_uri": "https://localhost:8080/",
          "height": 81
        },
        "id": "Oe1qRQbI4gtY",
        "outputId": "e2d40828-f0c6-4c73-b901-9b0305b5014d"
      },
      "execution_count": 40,
      "outputs": [
        {
          "output_type": "execute_result",
          "data": {
            "text/plain": [
              "<pandas.io.formats.style.Styler at 0x7e9c25037a00>"
            ],
            "text/html": [
              "<style type=\"text/css\">\n",
              "</style>\n",
              "<table id=\"T_0c8fe\" class=\"dataframe\">\n",
              "  <thead>\n",
              "    <tr>\n",
              "      <th id=\"T_0c8fe_level0_col0\" class=\"col_heading level0 col0\" >max_salary</th>\n",
              "    </tr>\n",
              "  </thead>\n",
              "  <tbody>\n",
              "    <tr>\n",
              "      <td id=\"T_0c8fe_row0_col0\" class=\"data row0 col0\" >60000</td>\n",
              "    </tr>\n",
              "  </tbody>\n",
              "</table>\n"
            ]
          },
          "metadata": {},
          "execution_count": 40
        }
      ]
    },
    {
      "cell_type": "code",
      "source": [
        "runSelect(\"select deptid, sum(salary) Total, max(salary) Max from empl group by deptid\")"
      ],
      "metadata": {
        "colab": {
          "base_uri": "https://localhost:8080/",
          "height": 206
        },
        "id": "xpmGXSAX69iU",
        "outputId": "c53df408-4661-4308-c932-6c1461bb7048"
      },
      "execution_count": 41,
      "outputs": [
        {
          "output_type": "execute_result",
          "data": {
            "text/plain": [
              "<pandas.io.formats.style.Styler at 0x7e9c25037d90>"
            ],
            "text/html": [
              "<style type=\"text/css\">\n",
              "</style>\n",
              "<table id=\"T_5d4a2\" class=\"dataframe\">\n",
              "  <thead>\n",
              "    <tr>\n",
              "      <th id=\"T_5d4a2_level0_col0\" class=\"col_heading level0 col0\" >deptid</th>\n",
              "      <th id=\"T_5d4a2_level0_col1\" class=\"col_heading level0 col1\" >total</th>\n",
              "      <th id=\"T_5d4a2_level0_col2\" class=\"col_heading level0 col2\" >max</th>\n",
              "    </tr>\n",
              "  </thead>\n",
              "  <tbody>\n",
              "    <tr>\n",
              "      <td id=\"T_5d4a2_row0_col0\" class=\"data row0 col0\" >10</td>\n",
              "      <td id=\"T_5d4a2_row0_col1\" class=\"data row0 col1\" >150000</td>\n",
              "      <td id=\"T_5d4a2_row0_col2\" class=\"data row0 col2\" >60000</td>\n",
              "    </tr>\n",
              "    <tr>\n",
              "      <td id=\"T_5d4a2_row1_col0\" class=\"data row1 col0\" >40</td>\n",
              "      <td id=\"T_5d4a2_row1_col1\" class=\"data row1 col1\" >54000</td>\n",
              "      <td id=\"T_5d4a2_row1_col2\" class=\"data row1 col2\" >25000</td>\n",
              "    </tr>\n",
              "    <tr>\n",
              "      <td id=\"T_5d4a2_row2_col0\" class=\"data row2 col0\" >70</td>\n",
              "      <td id=\"T_5d4a2_row2_col1\" class=\"data row2 col1\" >40000</td>\n",
              "      <td id=\"T_5d4a2_row2_col2\" class=\"data row2 col2\" >40000</td>\n",
              "    </tr>\n",
              "    <tr>\n",
              "      <td id=\"T_5d4a2_row3_col0\" class=\"data row3 col0\" >20</td>\n",
              "      <td id=\"T_5d4a2_row3_col1\" class=\"data row3 col1\" >55000</td>\n",
              "      <td id=\"T_5d4a2_row3_col2\" class=\"data row3 col2\" >30000</td>\n",
              "    </tr>\n",
              "    <tr>\n",
              "      <td id=\"T_5d4a2_row4_col0\" class=\"data row4 col0\" >30</td>\n",
              "      <td id=\"T_5d4a2_row4_col1\" class=\"data row4 col1\" >77000</td>\n",
              "      <td id=\"T_5d4a2_row4_col2\" class=\"data row4 col2\" >40000</td>\n",
              "    </tr>\n",
              "  </tbody>\n",
              "</table>\n"
            ]
          },
          "metadata": {},
          "execution_count": 41
        }
      ]
    },
    {
      "cell_type": "code",
      "source": [
        "runSelect(\"select deptid, sum(salary) Total, max(salary) Max from empl group by deptid having sum(salary) > 50000\")"
      ],
      "metadata": {
        "colab": {
          "base_uri": "https://localhost:8080/",
          "height": 175
        },
        "id": "AdNDutZl7LCF",
        "outputId": "a4140077-1b90-4642-cb11-be5f44f3b525"
      },
      "execution_count": 42,
      "outputs": [
        {
          "output_type": "execute_result",
          "data": {
            "text/plain": [
              "<pandas.io.formats.style.Styler at 0x7e9c250374c0>"
            ],
            "text/html": [
              "<style type=\"text/css\">\n",
              "</style>\n",
              "<table id=\"T_ade0b\" class=\"dataframe\">\n",
              "  <thead>\n",
              "    <tr>\n",
              "      <th id=\"T_ade0b_level0_col0\" class=\"col_heading level0 col0\" >deptid</th>\n",
              "      <th id=\"T_ade0b_level0_col1\" class=\"col_heading level0 col1\" >total</th>\n",
              "      <th id=\"T_ade0b_level0_col2\" class=\"col_heading level0 col2\" >max</th>\n",
              "    </tr>\n",
              "  </thead>\n",
              "  <tbody>\n",
              "    <tr>\n",
              "      <td id=\"T_ade0b_row0_col0\" class=\"data row0 col0\" >10</td>\n",
              "      <td id=\"T_ade0b_row0_col1\" class=\"data row0 col1\" >150000</td>\n",
              "      <td id=\"T_ade0b_row0_col2\" class=\"data row0 col2\" >60000</td>\n",
              "    </tr>\n",
              "    <tr>\n",
              "      <td id=\"T_ade0b_row1_col0\" class=\"data row1 col0\" >40</td>\n",
              "      <td id=\"T_ade0b_row1_col1\" class=\"data row1 col1\" >54000</td>\n",
              "      <td id=\"T_ade0b_row1_col2\" class=\"data row1 col2\" >25000</td>\n",
              "    </tr>\n",
              "    <tr>\n",
              "      <td id=\"T_ade0b_row2_col0\" class=\"data row2 col0\" >20</td>\n",
              "      <td id=\"T_ade0b_row2_col1\" class=\"data row2 col1\" >55000</td>\n",
              "      <td id=\"T_ade0b_row2_col2\" class=\"data row2 col2\" >30000</td>\n",
              "    </tr>\n",
              "    <tr>\n",
              "      <td id=\"T_ade0b_row3_col0\" class=\"data row3 col0\" >30</td>\n",
              "      <td id=\"T_ade0b_row3_col1\" class=\"data row3 col1\" >77000</td>\n",
              "      <td id=\"T_ade0b_row3_col2\" class=\"data row3 col2\" >40000</td>\n",
              "    </tr>\n",
              "  </tbody>\n",
              "</table>\n"
            ]
          },
          "metadata": {},
          "execution_count": 42
        }
      ]
    },
    {
      "cell_type": "code",
      "source": [
        "runSelect(\"select deptid, sum(salary) Total, max(salary) Max from empl group by deptid having sum(salary) > 50000 and max(salary) < 35000\")"
      ],
      "metadata": {
        "colab": {
          "base_uri": "https://localhost:8080/",
          "height": 112
        },
        "id": "4VFmL5JF7bYo",
        "outputId": "24c09f14-df25-4f91-d7d1-3ce5d78e07bb"
      },
      "execution_count": 43,
      "outputs": [
        {
          "output_type": "execute_result",
          "data": {
            "text/plain": [
              "<pandas.io.formats.style.Styler at 0x7e9c250351e0>"
            ],
            "text/html": [
              "<style type=\"text/css\">\n",
              "</style>\n",
              "<table id=\"T_08cc0\" class=\"dataframe\">\n",
              "  <thead>\n",
              "    <tr>\n",
              "      <th id=\"T_08cc0_level0_col0\" class=\"col_heading level0 col0\" >deptid</th>\n",
              "      <th id=\"T_08cc0_level0_col1\" class=\"col_heading level0 col1\" >total</th>\n",
              "      <th id=\"T_08cc0_level0_col2\" class=\"col_heading level0 col2\" >max</th>\n",
              "    </tr>\n",
              "  </thead>\n",
              "  <tbody>\n",
              "    <tr>\n",
              "      <td id=\"T_08cc0_row0_col0\" class=\"data row0 col0\" >40</td>\n",
              "      <td id=\"T_08cc0_row0_col1\" class=\"data row0 col1\" >54000</td>\n",
              "      <td id=\"T_08cc0_row0_col2\" class=\"data row0 col2\" >25000</td>\n",
              "    </tr>\n",
              "    <tr>\n",
              "      <td id=\"T_08cc0_row1_col0\" class=\"data row1 col0\" >20</td>\n",
              "      <td id=\"T_08cc0_row1_col1\" class=\"data row1 col1\" >55000</td>\n",
              "      <td id=\"T_08cc0_row1_col2\" class=\"data row1 col2\" >30000</td>\n",
              "    </tr>\n",
              "  </tbody>\n",
              "</table>\n"
            ]
          },
          "metadata": {},
          "execution_count": 43
        }
      ]
    },
    {
      "cell_type": "markdown",
      "source": [
        "#Conditionals | CASE"
      ],
      "metadata": {
        "id": "xDsapsK8Afpj"
      }
    },
    {
      "cell_type": "code",
      "source": [
        "runSelect(\"select lastname, jobdesc, salary, comm, salary+salary*comm Payout,\\\n",
        "case when jobdesc like '%Manager' then 2000 else 0 end bonus from empl\")"
      ],
      "metadata": {
        "colab": {
          "base_uri": "https://localhost:8080/",
          "height": 457
        },
        "id": "bYRWDlVNAxKx",
        "outputId": "fcb491d8-5b6f-401d-a9fa-f00af78d1ad3"
      },
      "execution_count": 44,
      "outputs": [
        {
          "output_type": "execute_result",
          "data": {
            "text/plain": [
              "<pandas.io.formats.style.Styler at 0x7e9c25034fd0>"
            ],
            "text/html": [
              "<style type=\"text/css\">\n",
              "</style>\n",
              "<table id=\"T_be501\" class=\"dataframe\">\n",
              "  <thead>\n",
              "    <tr>\n",
              "      <th id=\"T_be501_level0_col0\" class=\"col_heading level0 col0\" >lastname</th>\n",
              "      <th id=\"T_be501_level0_col1\" class=\"col_heading level0 col1\" >jobdesc</th>\n",
              "      <th id=\"T_be501_level0_col2\" class=\"col_heading level0 col2\" >salary</th>\n",
              "      <th id=\"T_be501_level0_col3\" class=\"col_heading level0 col3\" >comm</th>\n",
              "      <th id=\"T_be501_level0_col4\" class=\"col_heading level0 col4\" >payout</th>\n",
              "      <th id=\"T_be501_level0_col5\" class=\"col_heading level0 col5\" >bonus</th>\n",
              "    </tr>\n",
              "  </thead>\n",
              "  <tbody>\n",
              "    <tr>\n",
              "      <td id=\"T_be501_row0_col0\" class=\"data row0 col0\" >Bacchan</td>\n",
              "      <td id=\"T_be501_row0_col1\" class=\"data row0 col1\" >Executive</td>\n",
              "      <td id=\"T_be501_row0_col2\" class=\"data row0 col2\" >50000</td>\n",
              "      <td id=\"T_be501_row0_col3\" class=\"data row0 col3\" >0.10</td>\n",
              "      <td id=\"T_be501_row0_col4\" class=\"data row0 col4\" >55000.00</td>\n",
              "      <td id=\"T_be501_row0_col5\" class=\"data row0 col5\" >0</td>\n",
              "    </tr>\n",
              "    <tr>\n",
              "      <td id=\"T_be501_row1_col0\" class=\"data row1 col0\" >Mukherjee</td>\n",
              "      <td id=\"T_be501_row1_col1\" class=\"data row1 col1\" >Manager</td>\n",
              "      <td id=\"T_be501_row1_col2\" class=\"data row1 col2\" >25000</td>\n",
              "      <td id=\"T_be501_row1_col3\" class=\"data row1 col3\" >0.06</td>\n",
              "      <td id=\"T_be501_row1_col4\" class=\"data row1 col4\" >26500.00</td>\n",
              "      <td id=\"T_be501_row1_col5\" class=\"data row1 col5\" >2000</td>\n",
              "    </tr>\n",
              "    <tr>\n",
              "      <td id=\"T_be501_row2_col0\" class=\"data row2 col0\" >Dikshit</td>\n",
              "      <td id=\"T_be501_row2_col1\" class=\"data row2 col1\" >Clerk</td>\n",
              "      <td id=\"T_be501_row2_col2\" class=\"data row2 col2\" >10000</td>\n",
              "      <td id=\"T_be501_row2_col3\" class=\"data row2 col3\" >0.02</td>\n",
              "      <td id=\"T_be501_row2_col4\" class=\"data row2 col4\" >10200.00</td>\n",
              "      <td id=\"T_be501_row2_col5\" class=\"data row2 col5\" >0</td>\n",
              "    </tr>\n",
              "    <tr>\n",
              "      <td id=\"T_be501_row3_col0\" class=\"data row3 col0\" >Khan</td>\n",
              "      <td id=\"T_be501_row3_col1\" class=\"data row3 col1\" >Manager</td>\n",
              "      <td id=\"T_be501_row3_col2\" class=\"data row3 col2\" >30000</td>\n",
              "      <td id=\"T_be501_row3_col3\" class=\"data row3 col3\" >0.07</td>\n",
              "      <td id=\"T_be501_row3_col4\" class=\"data row3 col4\" >32100.00</td>\n",
              "      <td id=\"T_be501_row3_col5\" class=\"data row3 col5\" >2000</td>\n",
              "    </tr>\n",
              "    <tr>\n",
              "      <td id=\"T_be501_row4_col0\" class=\"data row4 col0\" >Sehwag</td>\n",
              "      <td id=\"T_be501_row4_col1\" class=\"data row4 col1\" >Cus_Rep</td>\n",
              "      <td id=\"T_be501_row4_col2\" class=\"data row4 col2\" >15000</td>\n",
              "      <td id=\"T_be501_row4_col3\" class=\"data row4 col3\" >0.05</td>\n",
              "      <td id=\"T_be501_row4_col4\" class=\"data row4 col4\" >15750.00</td>\n",
              "      <td id=\"T_be501_row4_col5\" class=\"data row4 col5\" >0</td>\n",
              "    </tr>\n",
              "    <tr>\n",
              "      <td id=\"T_be501_row5_col0\" class=\"data row5 col0\" >Dhoni</td>\n",
              "      <td id=\"T_be501_row5_col1\" class=\"data row5 col1\" >Clerk</td>\n",
              "      <td id=\"T_be501_row5_col2\" class=\"data row5 col2\" >9000</td>\n",
              "      <td id=\"T_be501_row5_col3\" class=\"data row5 col3\" >0.02</td>\n",
              "      <td id=\"T_be501_row5_col4\" class=\"data row5 col4\" >9180.00</td>\n",
              "      <td id=\"T_be501_row5_col5\" class=\"data row5 col5\" >0</td>\n",
              "    </tr>\n",
              "    <tr>\n",
              "      <td id=\"T_be501_row6_col0\" class=\"data row6 col0\" >Dravid</td>\n",
              "      <td id=\"T_be501_row6_col1\" class=\"data row6 col1\" >Sr Manager</td>\n",
              "      <td id=\"T_be501_row6_col2\" class=\"data row6 col2\" >40000</td>\n",
              "      <td id=\"T_be501_row6_col3\" class=\"data row6 col3\" >0.08</td>\n",
              "      <td id=\"T_be501_row6_col4\" class=\"data row6 col4\" >43200.00</td>\n",
              "      <td id=\"T_be501_row6_col5\" class=\"data row6 col5\" >2000</td>\n",
              "    </tr>\n",
              "    <tr>\n",
              "      <td id=\"T_be501_row7_col0\" class=\"data row7 col0\" >Dalmia</td>\n",
              "      <td id=\"T_be501_row7_col1\" class=\"data row7 col1\" >Clerk</td>\n",
              "      <td id=\"T_be501_row7_col2\" class=\"data row7 col2\" >12000</td>\n",
              "      <td id=\"T_be501_row7_col3\" class=\"data row7 col3\" >0.02</td>\n",
              "      <td id=\"T_be501_row7_col4\" class=\"data row7 col4\" >12240.00</td>\n",
              "      <td id=\"T_be501_row7_col5\" class=\"data row7 col5\" >0</td>\n",
              "    </tr>\n",
              "    <tr>\n",
              "      <td id=\"T_be501_row8_col0\" class=\"data row8 col0\" >Ganguly</td>\n",
              "      <td id=\"T_be501_row8_col1\" class=\"data row8 col1\" >Cus_Rep</td>\n",
              "      <td id=\"T_be501_row8_col2\" class=\"data row8 col2\" >20000</td>\n",
              "      <td id=\"T_be501_row8_col3\" class=\"data row8 col3\" >0.03</td>\n",
              "      <td id=\"T_be501_row8_col4\" class=\"data row8 col4\" >20600.00</td>\n",
              "      <td id=\"T_be501_row8_col5\" class=\"data row8 col5\" >0</td>\n",
              "    </tr>\n",
              "    <tr>\n",
              "      <td id=\"T_be501_row9_col0\" class=\"data row9 col0\" >Ganesan</td>\n",
              "      <td id=\"T_be501_row9_col1\" class=\"data row9 col1\" >Director</td>\n",
              "      <td id=\"T_be501_row9_col2\" class=\"data row9 col2\" >60000</td>\n",
              "      <td id=\"T_be501_row9_col3\" class=\"data row9 col3\" >0.11</td>\n",
              "      <td id=\"T_be501_row9_col4\" class=\"data row9 col4\" >66600.00</td>\n",
              "      <td id=\"T_be501_row9_col5\" class=\"data row9 col5\" >0</td>\n",
              "    </tr>\n",
              "    <tr>\n",
              "      <td id=\"T_be501_row10_col0\" class=\"data row10 col0\" >Karthikeyan</td>\n",
              "      <td id=\"T_be501_row10_col1\" class=\"data row10 col1\" >Secretary</td>\n",
              "      <td id=\"T_be501_row10_col2\" class=\"data row10 col2\" >40000</td>\n",
              "      <td id=\"T_be501_row10_col3\" class=\"data row10 col3\" >0.09</td>\n",
              "      <td id=\"T_be501_row10_col4\" class=\"data row10 col4\" >43600.00</td>\n",
              "      <td id=\"T_be501_row10_col5\" class=\"data row10 col5\" >0</td>\n",
              "    </tr>\n",
              "    <tr>\n",
              "      <td id=\"T_be501_row11_col0\" class=\"data row11 col0\" >Sunil</td>\n",
              "      <td id=\"T_be501_row11_col1\" class=\"data row11 col1\" >Dy Manager</td>\n",
              "      <td id=\"T_be501_row11_col2\" class=\"data row11 col2\" >40000</td>\n",
              "      <td id=\"T_be501_row11_col3\" class=\"data row11 col3\" >0.05</td>\n",
              "      <td id=\"T_be501_row11_col4\" class=\"data row11 col4\" >42000.00</td>\n",
              "      <td id=\"T_be501_row11_col5\" class=\"data row11 col5\" >2000</td>\n",
              "    </tr>\n",
              "    <tr>\n",
              "      <td id=\"T_be501_row12_col0\" class=\"data row12 col0\" >Mirza</td>\n",
              "      <td id=\"T_be501_row12_col1\" class=\"data row12 col1\" >Cus_Rep</td>\n",
              "      <td id=\"T_be501_row12_col2\" class=\"data row12 col2\" >25000</td>\n",
              "      <td id=\"T_be501_row12_col3\" class=\"data row12 col3\" >0.04</td>\n",
              "      <td id=\"T_be501_row12_col4\" class=\"data row12 col4\" >26000.00</td>\n",
              "      <td id=\"T_be501_row12_col5\" class=\"data row12 col5\" >0</td>\n",
              "    </tr>\n",
              "  </tbody>\n",
              "</table>\n"
            ]
          },
          "metadata": {},
          "execution_count": 44
        }
      ]
    },
    {
      "cell_type": "code",
      "source": [
        "runSelect(\"select lastname, deptid,\\\n",
        "case \\\n",
        "when deptid in ('10','20') then 'Head' \\\n",
        "when deptid = '30' then 'Regional'\\\n",
        "else 'Branch' \\\n",
        "end \\\n",
        " office from empl\")"
      ],
      "metadata": {
        "colab": {
          "base_uri": "https://localhost:8080/",
          "height": 457
        },
        "id": "jbpKn1y0DwYG",
        "outputId": "4501398c-26f8-4033-a898-a937d9eaf38b"
      },
      "execution_count": 45,
      "outputs": [
        {
          "output_type": "execute_result",
          "data": {
            "text/plain": [
              "<pandas.io.formats.style.Styler at 0x7e9c25035360>"
            ],
            "text/html": [
              "<style type=\"text/css\">\n",
              "</style>\n",
              "<table id=\"T_dea9b\" class=\"dataframe\">\n",
              "  <thead>\n",
              "    <tr>\n",
              "      <th id=\"T_dea9b_level0_col0\" class=\"col_heading level0 col0\" >lastname</th>\n",
              "      <th id=\"T_dea9b_level0_col1\" class=\"col_heading level0 col1\" >deptid</th>\n",
              "      <th id=\"T_dea9b_level0_col2\" class=\"col_heading level0 col2\" >office</th>\n",
              "    </tr>\n",
              "  </thead>\n",
              "  <tbody>\n",
              "    <tr>\n",
              "      <td id=\"T_dea9b_row0_col0\" class=\"data row0 col0\" >Bacchan</td>\n",
              "      <td id=\"T_dea9b_row0_col1\" class=\"data row0 col1\" >10</td>\n",
              "      <td id=\"T_dea9b_row0_col2\" class=\"data row0 col2\" >Head</td>\n",
              "    </tr>\n",
              "    <tr>\n",
              "      <td id=\"T_dea9b_row1_col0\" class=\"data row1 col0\" >Mukherjee</td>\n",
              "      <td id=\"T_dea9b_row1_col1\" class=\"data row1 col1\" >40</td>\n",
              "      <td id=\"T_dea9b_row1_col2\" class=\"data row1 col2\" >Branch</td>\n",
              "    </tr>\n",
              "    <tr>\n",
              "      <td id=\"T_dea9b_row2_col0\" class=\"data row2 col0\" >Dikshit</td>\n",
              "      <td id=\"T_dea9b_row2_col1\" class=\"data row2 col1\" >20</td>\n",
              "      <td id=\"T_dea9b_row2_col2\" class=\"data row2 col2\" >Head</td>\n",
              "    </tr>\n",
              "    <tr>\n",
              "      <td id=\"T_dea9b_row3_col0\" class=\"data row3 col0\" >Khan</td>\n",
              "      <td id=\"T_dea9b_row3_col1\" class=\"data row3 col1\" >20</td>\n",
              "      <td id=\"T_dea9b_row3_col2\" class=\"data row3 col2\" >Head</td>\n",
              "    </tr>\n",
              "    <tr>\n",
              "      <td id=\"T_dea9b_row4_col0\" class=\"data row4 col0\" >Sehwag</td>\n",
              "      <td id=\"T_dea9b_row4_col1\" class=\"data row4 col1\" >20</td>\n",
              "      <td id=\"T_dea9b_row4_col2\" class=\"data row4 col2\" >Head</td>\n",
              "    </tr>\n",
              "    <tr>\n",
              "      <td id=\"T_dea9b_row5_col0\" class=\"data row5 col0\" >Dhoni</td>\n",
              "      <td id=\"T_dea9b_row5_col1\" class=\"data row5 col1\" >40</td>\n",
              "      <td id=\"T_dea9b_row5_col2\" class=\"data row5 col2\" >Branch</td>\n",
              "    </tr>\n",
              "    <tr>\n",
              "      <td id=\"T_dea9b_row6_col0\" class=\"data row6 col0\" >Dravid</td>\n",
              "      <td id=\"T_dea9b_row6_col1\" class=\"data row6 col1\" >30</td>\n",
              "      <td id=\"T_dea9b_row6_col2\" class=\"data row6 col2\" >Regional</td>\n",
              "    </tr>\n",
              "    <tr>\n",
              "      <td id=\"T_dea9b_row7_col0\" class=\"data row7 col0\" >Dalmia</td>\n",
              "      <td id=\"T_dea9b_row7_col1\" class=\"data row7 col1\" >30</td>\n",
              "      <td id=\"T_dea9b_row7_col2\" class=\"data row7 col2\" >Regional</td>\n",
              "    </tr>\n",
              "    <tr>\n",
              "      <td id=\"T_dea9b_row8_col0\" class=\"data row8 col0\" >Ganguly</td>\n",
              "      <td id=\"T_dea9b_row8_col1\" class=\"data row8 col1\" >40</td>\n",
              "      <td id=\"T_dea9b_row8_col2\" class=\"data row8 col2\" >Branch</td>\n",
              "    </tr>\n",
              "    <tr>\n",
              "      <td id=\"T_dea9b_row9_col0\" class=\"data row9 col0\" >Ganesan</td>\n",
              "      <td id=\"T_dea9b_row9_col1\" class=\"data row9 col1\" >10</td>\n",
              "      <td id=\"T_dea9b_row9_col2\" class=\"data row9 col2\" >Head</td>\n",
              "    </tr>\n",
              "    <tr>\n",
              "      <td id=\"T_dea9b_row10_col0\" class=\"data row10 col0\" >Karthikeyan</td>\n",
              "      <td id=\"T_dea9b_row10_col1\" class=\"data row10 col1\" >10</td>\n",
              "      <td id=\"T_dea9b_row10_col2\" class=\"data row10 col2\" >Head</td>\n",
              "    </tr>\n",
              "    <tr>\n",
              "      <td id=\"T_dea9b_row11_col0\" class=\"data row11 col0\" >Sunil</td>\n",
              "      <td id=\"T_dea9b_row11_col1\" class=\"data row11 col1\" >70</td>\n",
              "      <td id=\"T_dea9b_row11_col2\" class=\"data row11 col2\" >Branch</td>\n",
              "    </tr>\n",
              "    <tr>\n",
              "      <td id=\"T_dea9b_row12_col0\" class=\"data row12 col0\" >Mirza</td>\n",
              "      <td id=\"T_dea9b_row12_col1\" class=\"data row12 col1\" >30</td>\n",
              "      <td id=\"T_dea9b_row12_col2\" class=\"data row12 col2\" >Regional</td>\n",
              "    </tr>\n",
              "  </tbody>\n",
              "</table>\n"
            ]
          },
          "metadata": {},
          "execution_count": 45
        }
      ]
    },
    {
      "cell_type": "markdown",
      "source": [
        "#Join"
      ],
      "metadata": {
        "id": "Rs10ezIPpP0C"
      }
    },
    {
      "cell_type": "markdown",
      "source": [
        "## Basic Inner Join"
      ],
      "metadata": {
        "id": "XMfZP6HUpT4B"
      }
    },
    {
      "cell_type": "code",
      "source": [
        "sql = 'select firstname, lastname, salary, deptname, location, managerid from empl, dept where empl.deptid = dept.deptid'\n",
        "runSelect(sql)"
      ],
      "metadata": {
        "colab": {
          "base_uri": "https://localhost:8080/",
          "height": 426
        },
        "id": "ISiD-VP6pbUz",
        "outputId": "65eeb9e2-fd43-4398-feb9-af3bcfb37a82"
      },
      "execution_count": 46,
      "outputs": [
        {
          "output_type": "execute_result",
          "data": {
            "text/plain": [
              "<pandas.io.formats.style.Styler at 0x7e9c25065fc0>"
            ],
            "text/html": [
              "<style type=\"text/css\">\n",
              "</style>\n",
              "<table id=\"T_ce98e\" class=\"dataframe\">\n",
              "  <thead>\n",
              "    <tr>\n",
              "      <th id=\"T_ce98e_level0_col0\" class=\"col_heading level0 col0\" >firstname</th>\n",
              "      <th id=\"T_ce98e_level0_col1\" class=\"col_heading level0 col1\" >lastname</th>\n",
              "      <th id=\"T_ce98e_level0_col2\" class=\"col_heading level0 col2\" >salary</th>\n",
              "      <th id=\"T_ce98e_level0_col3\" class=\"col_heading level0 col3\" >deptname</th>\n",
              "      <th id=\"T_ce98e_level0_col4\" class=\"col_heading level0 col4\" >location</th>\n",
              "      <th id=\"T_ce98e_level0_col5\" class=\"col_heading level0 col5\" >managerid</th>\n",
              "    </tr>\n",
              "  </thead>\n",
              "  <tbody>\n",
              "    <tr>\n",
              "      <td id=\"T_ce98e_row0_col0\" class=\"data row0 col0\" >Narayan</td>\n",
              "      <td id=\"T_ce98e_row0_col1\" class=\"data row0 col1\" >Karthikeyan</td>\n",
              "      <td id=\"T_ce98e_row0_col2\" class=\"data row0 col2\" >40000</td>\n",
              "      <td id=\"T_ce98e_row0_col3\" class=\"data row0 col3\" >Corporate</td>\n",
              "      <td id=\"T_ce98e_row0_col4\" class=\"data row0 col4\" >Calcutta</td>\n",
              "      <td id=\"T_ce98e_row0_col5\" class=\"data row0 col5\" >299034</td>\n",
              "    </tr>\n",
              "    <tr>\n",
              "      <td id=\"T_ce98e_row1_col0\" class=\"data row1 col0\" >Rekha</td>\n",
              "      <td id=\"T_ce98e_row1_col1\" class=\"data row1 col1\" >Ganesan</td>\n",
              "      <td id=\"T_ce98e_row1_col2\" class=\"data row1 col2\" >60000</td>\n",
              "      <td id=\"T_ce98e_row1_col3\" class=\"data row1 col3\" >Corporate</td>\n",
              "      <td id=\"T_ce98e_row1_col4\" class=\"data row1 col4\" >Calcutta</td>\n",
              "      <td id=\"T_ce98e_row1_col5\" class=\"data row1 col5\" >299034</td>\n",
              "    </tr>\n",
              "    <tr>\n",
              "      <td id=\"T_ce98e_row2_col0\" class=\"data row2 col0\" >Amitabh</td>\n",
              "      <td id=\"T_ce98e_row2_col1\" class=\"data row2 col1\" >Bacchan</td>\n",
              "      <td id=\"T_ce98e_row2_col2\" class=\"data row2 col2\" >50000</td>\n",
              "      <td id=\"T_ce98e_row2_col3\" class=\"data row2 col3\" >Corporate</td>\n",
              "      <td id=\"T_ce98e_row2_col4\" class=\"data row2 col4\" >Calcutta</td>\n",
              "      <td id=\"T_ce98e_row2_col5\" class=\"data row2 col5\" >299034</td>\n",
              "    </tr>\n",
              "    <tr>\n",
              "      <td id=\"T_ce98e_row3_col0\" class=\"data row3 col0\" >Virender</td>\n",
              "      <td id=\"T_ce98e_row3_col1\" class=\"data row3 col1\" >Sehwag</td>\n",
              "      <td id=\"T_ce98e_row3_col2\" class=\"data row3 col2\" >15000</td>\n",
              "      <td id=\"T_ce98e_row3_col3\" class=\"data row3 col3\" >Sales</td>\n",
              "      <td id=\"T_ce98e_row3_col4\" class=\"data row3 col4\" >Calcutta</td>\n",
              "      <td id=\"T_ce98e_row3_col5\" class=\"data row3 col5\" >239456</td>\n",
              "    </tr>\n",
              "    <tr>\n",
              "      <td id=\"T_ce98e_row4_col0\" class=\"data row4 col0\" >Shahrukh</td>\n",
              "      <td id=\"T_ce98e_row4_col1\" class=\"data row4 col1\" >Khan</td>\n",
              "      <td id=\"T_ce98e_row4_col2\" class=\"data row4 col2\" >30000</td>\n",
              "      <td id=\"T_ce98e_row4_col3\" class=\"data row4 col3\" >Sales</td>\n",
              "      <td id=\"T_ce98e_row4_col4\" class=\"data row4 col4\" >Calcutta</td>\n",
              "      <td id=\"T_ce98e_row4_col5\" class=\"data row4 col5\" >239456</td>\n",
              "    </tr>\n",
              "    <tr>\n",
              "      <td id=\"T_ce98e_row5_col0\" class=\"data row5 col0\" >Madhuri</td>\n",
              "      <td id=\"T_ce98e_row5_col1\" class=\"data row5 col1\" >Dikshit</td>\n",
              "      <td id=\"T_ce98e_row5_col2\" class=\"data row5 col2\" >10000</td>\n",
              "      <td id=\"T_ce98e_row5_col3\" class=\"data row5 col3\" >Sales</td>\n",
              "      <td id=\"T_ce98e_row5_col4\" class=\"data row5 col4\" >Calcutta</td>\n",
              "      <td id=\"T_ce98e_row5_col5\" class=\"data row5 col5\" >239456</td>\n",
              "    </tr>\n",
              "    <tr>\n",
              "      <td id=\"T_ce98e_row6_col0\" class=\"data row6 col0\" >Sania</td>\n",
              "      <td id=\"T_ce98e_row6_col1\" class=\"data row6 col1\" >Mirza</td>\n",
              "      <td id=\"T_ce98e_row6_col2\" class=\"data row6 col2\" >25000</td>\n",
              "      <td id=\"T_ce98e_row6_col3\" class=\"data row6 col3\" >Accounts</td>\n",
              "      <td id=\"T_ce98e_row6_col4\" class=\"data row6 col4\" >Calcutta</td>\n",
              "      <td id=\"T_ce98e_row6_col5\" class=\"data row6 col5\" >822134</td>\n",
              "    </tr>\n",
              "    <tr>\n",
              "      <td id=\"T_ce98e_row7_col0\" class=\"data row7 col0\" >Jagmohan</td>\n",
              "      <td id=\"T_ce98e_row7_col1\" class=\"data row7 col1\" >Dalmia</td>\n",
              "      <td id=\"T_ce98e_row7_col2\" class=\"data row7 col2\" >12000</td>\n",
              "      <td id=\"T_ce98e_row7_col3\" class=\"data row7 col3\" >Accounts</td>\n",
              "      <td id=\"T_ce98e_row7_col4\" class=\"data row7 col4\" >Calcutta</td>\n",
              "      <td id=\"T_ce98e_row7_col5\" class=\"data row7 col5\" >822134</td>\n",
              "    </tr>\n",
              "    <tr>\n",
              "      <td id=\"T_ce98e_row8_col0\" class=\"data row8 col0\" >Rahul</td>\n",
              "      <td id=\"T_ce98e_row8_col1\" class=\"data row8 col1\" >Dravid</td>\n",
              "      <td id=\"T_ce98e_row8_col2\" class=\"data row8 col2\" >40000</td>\n",
              "      <td id=\"T_ce98e_row8_col3\" class=\"data row8 col3\" >Accounts</td>\n",
              "      <td id=\"T_ce98e_row8_col4\" class=\"data row8 col4\" >Calcutta</td>\n",
              "      <td id=\"T_ce98e_row8_col5\" class=\"data row8 col5\" >822134</td>\n",
              "    </tr>\n",
              "    <tr>\n",
              "      <td id=\"T_ce98e_row9_col0\" class=\"data row9 col0\" >Sourav</td>\n",
              "      <td id=\"T_ce98e_row9_col1\" class=\"data row9 col1\" >Ganguly</td>\n",
              "      <td id=\"T_ce98e_row9_col2\" class=\"data row9 col2\" >20000</td>\n",
              "      <td id=\"T_ce98e_row9_col3\" class=\"data row9 col3\" >Production</td>\n",
              "      <td id=\"T_ce98e_row9_col4\" class=\"data row9 col4\" >Bombay</td>\n",
              "      <td id=\"T_ce98e_row9_col5\" class=\"data row9 col5\" >349870</td>\n",
              "    </tr>\n",
              "    <tr>\n",
              "      <td id=\"T_ce98e_row10_col0\" class=\"data row10 col0\" >Mahender</td>\n",
              "      <td id=\"T_ce98e_row10_col1\" class=\"data row10 col1\" >Dhoni</td>\n",
              "      <td id=\"T_ce98e_row10_col2\" class=\"data row10 col2\" >9000</td>\n",
              "      <td id=\"T_ce98e_row10_col3\" class=\"data row10 col3\" >Production</td>\n",
              "      <td id=\"T_ce98e_row10_col4\" class=\"data row10 col4\" >Bombay</td>\n",
              "      <td id=\"T_ce98e_row10_col5\" class=\"data row10 col5\" >349870</td>\n",
              "    </tr>\n",
              "    <tr>\n",
              "      <td id=\"T_ce98e_row11_col0\" class=\"data row11 col0\" >Rani</td>\n",
              "      <td id=\"T_ce98e_row11_col1\" class=\"data row11 col1\" >Mukherjee</td>\n",
              "      <td id=\"T_ce98e_row11_col2\" class=\"data row11 col2\" >25000</td>\n",
              "      <td id=\"T_ce98e_row11_col3\" class=\"data row11 col3\" >Production</td>\n",
              "      <td id=\"T_ce98e_row11_col4\" class=\"data row11 col4\" >Bombay</td>\n",
              "      <td id=\"T_ce98e_row11_col5\" class=\"data row11 col5\" >349870</td>\n",
              "    </tr>\n",
              "  </tbody>\n",
              "</table>\n"
            ]
          },
          "metadata": {},
          "execution_count": 46
        }
      ]
    },
    {
      "cell_type": "code",
      "source": [
        "sql = 'select empid, firstname, deptname, location from empl INNER JOIN dept ON empl.deptid = dept.deptid'\n",
        "runSelect(sql)"
      ],
      "metadata": {
        "colab": {
          "base_uri": "https://localhost:8080/",
          "height": 426
        },
        "id": "LVrEArEc1VcF",
        "outputId": "01cd9efb-3e85-4a46-8d18-95722cfc5a97"
      },
      "execution_count": 47,
      "outputs": [
        {
          "output_type": "execute_result",
          "data": {
            "text/plain": [
              "<pandas.io.formats.style.Styler at 0x7e9c25034550>"
            ],
            "text/html": [
              "<style type=\"text/css\">\n",
              "</style>\n",
              "<table id=\"T_7612c\" class=\"dataframe\">\n",
              "  <thead>\n",
              "    <tr>\n",
              "      <th id=\"T_7612c_level0_col0\" class=\"col_heading level0 col0\" >empid</th>\n",
              "      <th id=\"T_7612c_level0_col1\" class=\"col_heading level0 col1\" >firstname</th>\n",
              "      <th id=\"T_7612c_level0_col2\" class=\"col_heading level0 col2\" >deptname</th>\n",
              "      <th id=\"T_7612c_level0_col3\" class=\"col_heading level0 col3\" >location</th>\n",
              "    </tr>\n",
              "  </thead>\n",
              "  <tbody>\n",
              "    <tr>\n",
              "      <td id=\"T_7612c_row0_col0\" class=\"data row0 col0\" >546223</td>\n",
              "      <td id=\"T_7612c_row0_col1\" class=\"data row0 col1\" >Narayan</td>\n",
              "      <td id=\"T_7612c_row0_col2\" class=\"data row0 col2\" >Corporate</td>\n",
              "      <td id=\"T_7612c_row0_col3\" class=\"data row0 col3\" >Calcutta</td>\n",
              "    </tr>\n",
              "    <tr>\n",
              "      <td id=\"T_7612c_row1_col0\" class=\"data row1 col0\" >299034</td>\n",
              "      <td id=\"T_7612c_row1_col1\" class=\"data row1 col1\" >Rekha</td>\n",
              "      <td id=\"T_7612c_row1_col2\" class=\"data row1 col2\" >Corporate</td>\n",
              "      <td id=\"T_7612c_row1_col3\" class=\"data row1 col3\" >Calcutta</td>\n",
              "    </tr>\n",
              "    <tr>\n",
              "      <td id=\"T_7612c_row2_col0\" class=\"data row2 col0\" >742866</td>\n",
              "      <td id=\"T_7612c_row2_col1\" class=\"data row2 col1\" >Amitabh</td>\n",
              "      <td id=\"T_7612c_row2_col2\" class=\"data row2 col2\" >Corporate</td>\n",
              "      <td id=\"T_7612c_row2_col3\" class=\"data row2 col3\" >Calcutta</td>\n",
              "    </tr>\n",
              "    <tr>\n",
              "      <td id=\"T_7612c_row3_col0\" class=\"data row3 col0\" >897889</td>\n",
              "      <td id=\"T_7612c_row3_col1\" class=\"data row3 col1\" >Virender</td>\n",
              "      <td id=\"T_7612c_row3_col2\" class=\"data row3 col2\" >Sales</td>\n",
              "      <td id=\"T_7612c_row3_col3\" class=\"data row3 col3\" >Calcutta</td>\n",
              "    </tr>\n",
              "    <tr>\n",
              "      <td id=\"T_7612c_row4_col0\" class=\"data row4 col0\" >239456</td>\n",
              "      <td id=\"T_7612c_row4_col1\" class=\"data row4 col1\" >Shahrukh</td>\n",
              "      <td id=\"T_7612c_row4_col2\" class=\"data row4 col2\" >Sales</td>\n",
              "      <td id=\"T_7612c_row4_col3\" class=\"data row4 col3\" >Calcutta</td>\n",
              "    </tr>\n",
              "    <tr>\n",
              "      <td id=\"T_7612c_row5_col0\" class=\"data row5 col0\" >865477</td>\n",
              "      <td id=\"T_7612c_row5_col1\" class=\"data row5 col1\" >Madhuri</td>\n",
              "      <td id=\"T_7612c_row5_col2\" class=\"data row5 col2\" >Sales</td>\n",
              "      <td id=\"T_7612c_row5_col3\" class=\"data row5 col3\" >Calcutta</td>\n",
              "    </tr>\n",
              "    <tr>\n",
              "      <td id=\"T_7612c_row6_col0\" class=\"data row6 col0\" >223112</td>\n",
              "      <td id=\"T_7612c_row6_col1\" class=\"data row6 col1\" >Sania</td>\n",
              "      <td id=\"T_7612c_row6_col2\" class=\"data row6 col2\" >Accounts</td>\n",
              "      <td id=\"T_7612c_row6_col3\" class=\"data row6 col3\" >Calcutta</td>\n",
              "    </tr>\n",
              "    <tr>\n",
              "      <td id=\"T_7612c_row7_col0\" class=\"data row7 col0\" >997445</td>\n",
              "      <td id=\"T_7612c_row7_col1\" class=\"data row7 col1\" >Jagmohan</td>\n",
              "      <td id=\"T_7612c_row7_col2\" class=\"data row7 col2\" >Accounts</td>\n",
              "      <td id=\"T_7612c_row7_col3\" class=\"data row7 col3\" >Calcutta</td>\n",
              "    </tr>\n",
              "    <tr>\n",
              "      <td id=\"T_7612c_row8_col0\" class=\"data row8 col0\" >822134</td>\n",
              "      <td id=\"T_7612c_row8_col1\" class=\"data row8 col1\" >Rahul</td>\n",
              "      <td id=\"T_7612c_row8_col2\" class=\"data row8 col2\" >Accounts</td>\n",
              "      <td id=\"T_7612c_row8_col3\" class=\"data row8 col3\" >Calcutta</td>\n",
              "    </tr>\n",
              "    <tr>\n",
              "      <td id=\"T_7612c_row9_col0\" class=\"data row9 col0\" >989007</td>\n",
              "      <td id=\"T_7612c_row9_col1\" class=\"data row9 col1\" >Sourav</td>\n",
              "      <td id=\"T_7612c_row9_col2\" class=\"data row9 col2\" >Production</td>\n",
              "      <td id=\"T_7612c_row9_col3\" class=\"data row9 col3\" >Bombay</td>\n",
              "    </tr>\n",
              "    <tr>\n",
              "      <td id=\"T_7612c_row10_col0\" class=\"data row10 col0\" >123980</td>\n",
              "      <td id=\"T_7612c_row10_col1\" class=\"data row10 col1\" >Mahender</td>\n",
              "      <td id=\"T_7612c_row10_col2\" class=\"data row10 col2\" >Production</td>\n",
              "      <td id=\"T_7612c_row10_col3\" class=\"data row10 col3\" >Bombay</td>\n",
              "    </tr>\n",
              "    <tr>\n",
              "      <td id=\"T_7612c_row11_col0\" class=\"data row11 col0\" >349870</td>\n",
              "      <td id=\"T_7612c_row11_col1\" class=\"data row11 col1\" >Rani</td>\n",
              "      <td id=\"T_7612c_row11_col2\" class=\"data row11 col2\" >Production</td>\n",
              "      <td id=\"T_7612c_row11_col3\" class=\"data row11 col3\" >Bombay</td>\n",
              "    </tr>\n",
              "  </tbody>\n",
              "</table>\n"
            ]
          },
          "metadata": {},
          "execution_count": 47
        }
      ]
    },
    {
      "cell_type": "code",
      "source": [
        "sql = 'select deptname,round(sum(salary),0) payroll from empl INNER JOIN dept ON empl.deptid = dept.deptid \\\n",
        "group by deptname'\n",
        "runSelect(sql)"
      ],
      "metadata": {
        "id": "pKk82QRi28DP",
        "outputId": "fb850944-68bb-4072-93d5-7fa5689a9d9c",
        "colab": {
          "base_uri": "https://localhost:8080/",
          "height": 175
        }
      },
      "execution_count": 48,
      "outputs": [
        {
          "output_type": "execute_result",
          "data": {
            "text/plain": [
              "<pandas.io.formats.style.Styler at 0x7e9c250347c0>"
            ],
            "text/html": [
              "<style type=\"text/css\">\n",
              "</style>\n",
              "<table id=\"T_3b65e\" class=\"dataframe\">\n",
              "  <thead>\n",
              "    <tr>\n",
              "      <th id=\"T_3b65e_level0_col0\" class=\"col_heading level0 col0\" >deptname</th>\n",
              "      <th id=\"T_3b65e_level0_col1\" class=\"col_heading level0 col1\" >payroll</th>\n",
              "    </tr>\n",
              "  </thead>\n",
              "  <tbody>\n",
              "    <tr>\n",
              "      <td id=\"T_3b65e_row0_col0\" class=\"data row0 col0\" >Corporate</td>\n",
              "      <td id=\"T_3b65e_row0_col1\" class=\"data row0 col1\" >150000</td>\n",
              "    </tr>\n",
              "    <tr>\n",
              "      <td id=\"T_3b65e_row1_col0\" class=\"data row1 col0\" >Accounts</td>\n",
              "      <td id=\"T_3b65e_row1_col1\" class=\"data row1 col1\" >77000</td>\n",
              "    </tr>\n",
              "    <tr>\n",
              "      <td id=\"T_3b65e_row2_col0\" class=\"data row2 col0\" >Sales</td>\n",
              "      <td id=\"T_3b65e_row2_col1\" class=\"data row2 col1\" >55000</td>\n",
              "    </tr>\n",
              "    <tr>\n",
              "      <td id=\"T_3b65e_row3_col0\" class=\"data row3 col0\" >Production</td>\n",
              "      <td id=\"T_3b65e_row3_col1\" class=\"data row3 col1\" >54000</td>\n",
              "    </tr>\n",
              "  </tbody>\n",
              "</table>\n"
            ]
          },
          "metadata": {},
          "execution_count": 48
        }
      ]
    },
    {
      "cell_type": "markdown",
      "source": [
        "## Outer Join"
      ],
      "metadata": {
        "id": "tK9uJHAL1u6x"
      }
    },
    {
      "cell_type": "markdown",
      "source": [
        "### Left Outer"
      ],
      "metadata": {
        "id": "5wGFVhyJ2x8S"
      }
    },
    {
      "cell_type": "code",
      "source": [
        "sql = 'select empid, firstname, deptname, location from empl LEFT JOIN dept ON empl.deptid = dept.deptid'\n",
        "runSelect(sql)"
      ],
      "metadata": {
        "colab": {
          "base_uri": "https://localhost:8080/",
          "height": 457
        },
        "id": "Ls6VfOXt1zTq",
        "outputId": "2aad4df1-5690-4607-ca9a-51f313a5bbbf"
      },
      "execution_count": 49,
      "outputs": [
        {
          "output_type": "execute_result",
          "data": {
            "text/plain": [
              "<pandas.io.formats.style.Styler at 0x7e9c250642e0>"
            ],
            "text/html": [
              "<style type=\"text/css\">\n",
              "</style>\n",
              "<table id=\"T_cccfc\" class=\"dataframe\">\n",
              "  <thead>\n",
              "    <tr>\n",
              "      <th id=\"T_cccfc_level0_col0\" class=\"col_heading level0 col0\" >empid</th>\n",
              "      <th id=\"T_cccfc_level0_col1\" class=\"col_heading level0 col1\" >firstname</th>\n",
              "      <th id=\"T_cccfc_level0_col2\" class=\"col_heading level0 col2\" >deptname</th>\n",
              "      <th id=\"T_cccfc_level0_col3\" class=\"col_heading level0 col3\" >location</th>\n",
              "    </tr>\n",
              "  </thead>\n",
              "  <tbody>\n",
              "    <tr>\n",
              "      <td id=\"T_cccfc_row0_col0\" class=\"data row0 col0\" >546223</td>\n",
              "      <td id=\"T_cccfc_row0_col1\" class=\"data row0 col1\" >Narayan</td>\n",
              "      <td id=\"T_cccfc_row0_col2\" class=\"data row0 col2\" >Corporate</td>\n",
              "      <td id=\"T_cccfc_row0_col3\" class=\"data row0 col3\" >Calcutta</td>\n",
              "    </tr>\n",
              "    <tr>\n",
              "      <td id=\"T_cccfc_row1_col0\" class=\"data row1 col0\" >299034</td>\n",
              "      <td id=\"T_cccfc_row1_col1\" class=\"data row1 col1\" >Rekha</td>\n",
              "      <td id=\"T_cccfc_row1_col2\" class=\"data row1 col2\" >Corporate</td>\n",
              "      <td id=\"T_cccfc_row1_col3\" class=\"data row1 col3\" >Calcutta</td>\n",
              "    </tr>\n",
              "    <tr>\n",
              "      <td id=\"T_cccfc_row2_col0\" class=\"data row2 col0\" >742866</td>\n",
              "      <td id=\"T_cccfc_row2_col1\" class=\"data row2 col1\" >Amitabh</td>\n",
              "      <td id=\"T_cccfc_row2_col2\" class=\"data row2 col2\" >Corporate</td>\n",
              "      <td id=\"T_cccfc_row2_col3\" class=\"data row2 col3\" >Calcutta</td>\n",
              "    </tr>\n",
              "    <tr>\n",
              "      <td id=\"T_cccfc_row3_col0\" class=\"data row3 col0\" >897889</td>\n",
              "      <td id=\"T_cccfc_row3_col1\" class=\"data row3 col1\" >Virender</td>\n",
              "      <td id=\"T_cccfc_row3_col2\" class=\"data row3 col2\" >Sales</td>\n",
              "      <td id=\"T_cccfc_row3_col3\" class=\"data row3 col3\" >Calcutta</td>\n",
              "    </tr>\n",
              "    <tr>\n",
              "      <td id=\"T_cccfc_row4_col0\" class=\"data row4 col0\" >239456</td>\n",
              "      <td id=\"T_cccfc_row4_col1\" class=\"data row4 col1\" >Shahrukh</td>\n",
              "      <td id=\"T_cccfc_row4_col2\" class=\"data row4 col2\" >Sales</td>\n",
              "      <td id=\"T_cccfc_row4_col3\" class=\"data row4 col3\" >Calcutta</td>\n",
              "    </tr>\n",
              "    <tr>\n",
              "      <td id=\"T_cccfc_row5_col0\" class=\"data row5 col0\" >865477</td>\n",
              "      <td id=\"T_cccfc_row5_col1\" class=\"data row5 col1\" >Madhuri</td>\n",
              "      <td id=\"T_cccfc_row5_col2\" class=\"data row5 col2\" >Sales</td>\n",
              "      <td id=\"T_cccfc_row5_col3\" class=\"data row5 col3\" >Calcutta</td>\n",
              "    </tr>\n",
              "    <tr>\n",
              "      <td id=\"T_cccfc_row6_col0\" class=\"data row6 col0\" >223112</td>\n",
              "      <td id=\"T_cccfc_row6_col1\" class=\"data row6 col1\" >Sania</td>\n",
              "      <td id=\"T_cccfc_row6_col2\" class=\"data row6 col2\" >Accounts</td>\n",
              "      <td id=\"T_cccfc_row6_col3\" class=\"data row6 col3\" >Calcutta</td>\n",
              "    </tr>\n",
              "    <tr>\n",
              "      <td id=\"T_cccfc_row7_col0\" class=\"data row7 col0\" >997445</td>\n",
              "      <td id=\"T_cccfc_row7_col1\" class=\"data row7 col1\" >Jagmohan</td>\n",
              "      <td id=\"T_cccfc_row7_col2\" class=\"data row7 col2\" >Accounts</td>\n",
              "      <td id=\"T_cccfc_row7_col3\" class=\"data row7 col3\" >Calcutta</td>\n",
              "    </tr>\n",
              "    <tr>\n",
              "      <td id=\"T_cccfc_row8_col0\" class=\"data row8 col0\" >822134</td>\n",
              "      <td id=\"T_cccfc_row8_col1\" class=\"data row8 col1\" >Rahul</td>\n",
              "      <td id=\"T_cccfc_row8_col2\" class=\"data row8 col2\" >Accounts</td>\n",
              "      <td id=\"T_cccfc_row8_col3\" class=\"data row8 col3\" >Calcutta</td>\n",
              "    </tr>\n",
              "    <tr>\n",
              "      <td id=\"T_cccfc_row9_col0\" class=\"data row9 col0\" >989007</td>\n",
              "      <td id=\"T_cccfc_row9_col1\" class=\"data row9 col1\" >Sourav</td>\n",
              "      <td id=\"T_cccfc_row9_col2\" class=\"data row9 col2\" >Production</td>\n",
              "      <td id=\"T_cccfc_row9_col3\" class=\"data row9 col3\" >Bombay</td>\n",
              "    </tr>\n",
              "    <tr>\n",
              "      <td id=\"T_cccfc_row10_col0\" class=\"data row10 col0\" >123980</td>\n",
              "      <td id=\"T_cccfc_row10_col1\" class=\"data row10 col1\" >Mahender</td>\n",
              "      <td id=\"T_cccfc_row10_col2\" class=\"data row10 col2\" >Production</td>\n",
              "      <td id=\"T_cccfc_row10_col3\" class=\"data row10 col3\" >Bombay</td>\n",
              "    </tr>\n",
              "    <tr>\n",
              "      <td id=\"T_cccfc_row11_col0\" class=\"data row11 col0\" >349870</td>\n",
              "      <td id=\"T_cccfc_row11_col1\" class=\"data row11 col1\" >Rani</td>\n",
              "      <td id=\"T_cccfc_row11_col2\" class=\"data row11 col2\" >Production</td>\n",
              "      <td id=\"T_cccfc_row11_col3\" class=\"data row11 col3\" >Bombay</td>\n",
              "    </tr>\n",
              "    <tr>\n",
              "      <td id=\"T_cccfc_row12_col0\" class=\"data row12 col0\" >546224</td>\n",
              "      <td id=\"T_cccfc_row12_col1\" class=\"data row12 col1\" >Chettri</td>\n",
              "      <td id=\"T_cccfc_row12_col2\" class=\"data row12 col2\" >None</td>\n",
              "      <td id=\"T_cccfc_row12_col3\" class=\"data row12 col3\" >None</td>\n",
              "    </tr>\n",
              "  </tbody>\n",
              "</table>\n"
            ]
          },
          "metadata": {},
          "execution_count": 49
        }
      ]
    },
    {
      "cell_type": "markdown",
      "source": [
        "### Right Outer"
      ],
      "metadata": {
        "id": "iJ6DASb121Og"
      }
    },
    {
      "cell_type": "code",
      "source": [
        "sql = 'select empid, firstname, deptname, location from empl RIGHT JOIN dept ON empl.deptid = dept.deptid'\n",
        "runSelect(sql)"
      ],
      "metadata": {
        "colab": {
          "base_uri": "https://localhost:8080/",
          "height": 457
        },
        "id": "khvQpQ4E2XND",
        "outputId": "f32d97a4-5d0f-47b7-cb04-8cb41819b3f0"
      },
      "execution_count": 50,
      "outputs": [
        {
          "output_type": "execute_result",
          "data": {
            "text/plain": [
              "<pandas.io.formats.style.Styler at 0x7e9c25067850>"
            ],
            "text/html": [
              "<style type=\"text/css\">\n",
              "</style>\n",
              "<table id=\"T_e822a\" class=\"dataframe\">\n",
              "  <thead>\n",
              "    <tr>\n",
              "      <th id=\"T_e822a_level0_col0\" class=\"col_heading level0 col0\" >empid</th>\n",
              "      <th id=\"T_e822a_level0_col1\" class=\"col_heading level0 col1\" >firstname</th>\n",
              "      <th id=\"T_e822a_level0_col2\" class=\"col_heading level0 col2\" >deptname</th>\n",
              "      <th id=\"T_e822a_level0_col3\" class=\"col_heading level0 col3\" >location</th>\n",
              "    </tr>\n",
              "  </thead>\n",
              "  <tbody>\n",
              "    <tr>\n",
              "      <td id=\"T_e822a_row0_col0\" class=\"data row0 col0\" >546223</td>\n",
              "      <td id=\"T_e822a_row0_col1\" class=\"data row0 col1\" >Narayan</td>\n",
              "      <td id=\"T_e822a_row0_col2\" class=\"data row0 col2\" >Corporate</td>\n",
              "      <td id=\"T_e822a_row0_col3\" class=\"data row0 col3\" >Calcutta</td>\n",
              "    </tr>\n",
              "    <tr>\n",
              "      <td id=\"T_e822a_row1_col0\" class=\"data row1 col0\" >299034</td>\n",
              "      <td id=\"T_e822a_row1_col1\" class=\"data row1 col1\" >Rekha</td>\n",
              "      <td id=\"T_e822a_row1_col2\" class=\"data row1 col2\" >Corporate</td>\n",
              "      <td id=\"T_e822a_row1_col3\" class=\"data row1 col3\" >Calcutta</td>\n",
              "    </tr>\n",
              "    <tr>\n",
              "      <td id=\"T_e822a_row2_col0\" class=\"data row2 col0\" >742866</td>\n",
              "      <td id=\"T_e822a_row2_col1\" class=\"data row2 col1\" >Amitabh</td>\n",
              "      <td id=\"T_e822a_row2_col2\" class=\"data row2 col2\" >Corporate</td>\n",
              "      <td id=\"T_e822a_row2_col3\" class=\"data row2 col3\" >Calcutta</td>\n",
              "    </tr>\n",
              "    <tr>\n",
              "      <td id=\"T_e822a_row3_col0\" class=\"data row3 col0\" >897889</td>\n",
              "      <td id=\"T_e822a_row3_col1\" class=\"data row3 col1\" >Virender</td>\n",
              "      <td id=\"T_e822a_row3_col2\" class=\"data row3 col2\" >Sales</td>\n",
              "      <td id=\"T_e822a_row3_col3\" class=\"data row3 col3\" >Calcutta</td>\n",
              "    </tr>\n",
              "    <tr>\n",
              "      <td id=\"T_e822a_row4_col0\" class=\"data row4 col0\" >239456</td>\n",
              "      <td id=\"T_e822a_row4_col1\" class=\"data row4 col1\" >Shahrukh</td>\n",
              "      <td id=\"T_e822a_row4_col2\" class=\"data row4 col2\" >Sales</td>\n",
              "      <td id=\"T_e822a_row4_col3\" class=\"data row4 col3\" >Calcutta</td>\n",
              "    </tr>\n",
              "    <tr>\n",
              "      <td id=\"T_e822a_row5_col0\" class=\"data row5 col0\" >865477</td>\n",
              "      <td id=\"T_e822a_row5_col1\" class=\"data row5 col1\" >Madhuri</td>\n",
              "      <td id=\"T_e822a_row5_col2\" class=\"data row5 col2\" >Sales</td>\n",
              "      <td id=\"T_e822a_row5_col3\" class=\"data row5 col3\" >Calcutta</td>\n",
              "    </tr>\n",
              "    <tr>\n",
              "      <td id=\"T_e822a_row6_col0\" class=\"data row6 col0\" >223112</td>\n",
              "      <td id=\"T_e822a_row6_col1\" class=\"data row6 col1\" >Sania</td>\n",
              "      <td id=\"T_e822a_row6_col2\" class=\"data row6 col2\" >Accounts</td>\n",
              "      <td id=\"T_e822a_row6_col3\" class=\"data row6 col3\" >Calcutta</td>\n",
              "    </tr>\n",
              "    <tr>\n",
              "      <td id=\"T_e822a_row7_col0\" class=\"data row7 col0\" >997445</td>\n",
              "      <td id=\"T_e822a_row7_col1\" class=\"data row7 col1\" >Jagmohan</td>\n",
              "      <td id=\"T_e822a_row7_col2\" class=\"data row7 col2\" >Accounts</td>\n",
              "      <td id=\"T_e822a_row7_col3\" class=\"data row7 col3\" >Calcutta</td>\n",
              "    </tr>\n",
              "    <tr>\n",
              "      <td id=\"T_e822a_row8_col0\" class=\"data row8 col0\" >822134</td>\n",
              "      <td id=\"T_e822a_row8_col1\" class=\"data row8 col1\" >Rahul</td>\n",
              "      <td id=\"T_e822a_row8_col2\" class=\"data row8 col2\" >Accounts</td>\n",
              "      <td id=\"T_e822a_row8_col3\" class=\"data row8 col3\" >Calcutta</td>\n",
              "    </tr>\n",
              "    <tr>\n",
              "      <td id=\"T_e822a_row9_col0\" class=\"data row9 col0\" >989007</td>\n",
              "      <td id=\"T_e822a_row9_col1\" class=\"data row9 col1\" >Sourav</td>\n",
              "      <td id=\"T_e822a_row9_col2\" class=\"data row9 col2\" >Production</td>\n",
              "      <td id=\"T_e822a_row9_col3\" class=\"data row9 col3\" >Bombay</td>\n",
              "    </tr>\n",
              "    <tr>\n",
              "      <td id=\"T_e822a_row10_col0\" class=\"data row10 col0\" >123980</td>\n",
              "      <td id=\"T_e822a_row10_col1\" class=\"data row10 col1\" >Mahender</td>\n",
              "      <td id=\"T_e822a_row10_col2\" class=\"data row10 col2\" >Production</td>\n",
              "      <td id=\"T_e822a_row10_col3\" class=\"data row10 col3\" >Bombay</td>\n",
              "    </tr>\n",
              "    <tr>\n",
              "      <td id=\"T_e822a_row11_col0\" class=\"data row11 col0\" >349870</td>\n",
              "      <td id=\"T_e822a_row11_col1\" class=\"data row11 col1\" >Rani</td>\n",
              "      <td id=\"T_e822a_row11_col2\" class=\"data row11 col2\" >Production</td>\n",
              "      <td id=\"T_e822a_row11_col3\" class=\"data row11 col3\" >Bombay</td>\n",
              "    </tr>\n",
              "    <tr>\n",
              "      <td id=\"T_e822a_row12_col0\" class=\"data row12 col0\" >None</td>\n",
              "      <td id=\"T_e822a_row12_col1\" class=\"data row12 col1\" >None</td>\n",
              "      <td id=\"T_e822a_row12_col2\" class=\"data row12 col2\" >Research</td>\n",
              "      <td id=\"T_e822a_row12_col3\" class=\"data row12 col3\" >Delhi</td>\n",
              "    </tr>\n",
              "  </tbody>\n",
              "</table>\n"
            ]
          },
          "metadata": {},
          "execution_count": 50
        }
      ]
    },
    {
      "cell_type": "markdown",
      "source": [
        "### Full Outer"
      ],
      "metadata": {
        "id": "RsEyhBBp24zy"
      }
    },
    {
      "cell_type": "code",
      "source": [
        "sql = 'select empid, firstname, deptname, location from empl FULL JOIN dept ON empl.deptid = dept.deptid'\n",
        "runSelect(sql)"
      ],
      "metadata": {
        "colab": {
          "base_uri": "https://localhost:8080/",
          "height": 488
        },
        "id": "Ipt14U9o2qFg",
        "outputId": "b633c874-c88b-4e49-ae63-6bd42dee5408"
      },
      "execution_count": 51,
      "outputs": [
        {
          "output_type": "execute_result",
          "data": {
            "text/plain": [
              "<pandas.io.formats.style.Styler at 0x7e9c25036c80>"
            ],
            "text/html": [
              "<style type=\"text/css\">\n",
              "</style>\n",
              "<table id=\"T_14753\" class=\"dataframe\">\n",
              "  <thead>\n",
              "    <tr>\n",
              "      <th id=\"T_14753_level0_col0\" class=\"col_heading level0 col0\" >empid</th>\n",
              "      <th id=\"T_14753_level0_col1\" class=\"col_heading level0 col1\" >firstname</th>\n",
              "      <th id=\"T_14753_level0_col2\" class=\"col_heading level0 col2\" >deptname</th>\n",
              "      <th id=\"T_14753_level0_col3\" class=\"col_heading level0 col3\" >location</th>\n",
              "    </tr>\n",
              "  </thead>\n",
              "  <tbody>\n",
              "    <tr>\n",
              "      <td id=\"T_14753_row0_col0\" class=\"data row0 col0\" >546223</td>\n",
              "      <td id=\"T_14753_row0_col1\" class=\"data row0 col1\" >Narayan</td>\n",
              "      <td id=\"T_14753_row0_col2\" class=\"data row0 col2\" >Corporate</td>\n",
              "      <td id=\"T_14753_row0_col3\" class=\"data row0 col3\" >Calcutta</td>\n",
              "    </tr>\n",
              "    <tr>\n",
              "      <td id=\"T_14753_row1_col0\" class=\"data row1 col0\" >299034</td>\n",
              "      <td id=\"T_14753_row1_col1\" class=\"data row1 col1\" >Rekha</td>\n",
              "      <td id=\"T_14753_row1_col2\" class=\"data row1 col2\" >Corporate</td>\n",
              "      <td id=\"T_14753_row1_col3\" class=\"data row1 col3\" >Calcutta</td>\n",
              "    </tr>\n",
              "    <tr>\n",
              "      <td id=\"T_14753_row2_col0\" class=\"data row2 col0\" >742866</td>\n",
              "      <td id=\"T_14753_row2_col1\" class=\"data row2 col1\" >Amitabh</td>\n",
              "      <td id=\"T_14753_row2_col2\" class=\"data row2 col2\" >Corporate</td>\n",
              "      <td id=\"T_14753_row2_col3\" class=\"data row2 col3\" >Calcutta</td>\n",
              "    </tr>\n",
              "    <tr>\n",
              "      <td id=\"T_14753_row3_col0\" class=\"data row3 col0\" >897889</td>\n",
              "      <td id=\"T_14753_row3_col1\" class=\"data row3 col1\" >Virender</td>\n",
              "      <td id=\"T_14753_row3_col2\" class=\"data row3 col2\" >Sales</td>\n",
              "      <td id=\"T_14753_row3_col3\" class=\"data row3 col3\" >Calcutta</td>\n",
              "    </tr>\n",
              "    <tr>\n",
              "      <td id=\"T_14753_row4_col0\" class=\"data row4 col0\" >239456</td>\n",
              "      <td id=\"T_14753_row4_col1\" class=\"data row4 col1\" >Shahrukh</td>\n",
              "      <td id=\"T_14753_row4_col2\" class=\"data row4 col2\" >Sales</td>\n",
              "      <td id=\"T_14753_row4_col3\" class=\"data row4 col3\" >Calcutta</td>\n",
              "    </tr>\n",
              "    <tr>\n",
              "      <td id=\"T_14753_row5_col0\" class=\"data row5 col0\" >865477</td>\n",
              "      <td id=\"T_14753_row5_col1\" class=\"data row5 col1\" >Madhuri</td>\n",
              "      <td id=\"T_14753_row5_col2\" class=\"data row5 col2\" >Sales</td>\n",
              "      <td id=\"T_14753_row5_col3\" class=\"data row5 col3\" >Calcutta</td>\n",
              "    </tr>\n",
              "    <tr>\n",
              "      <td id=\"T_14753_row6_col0\" class=\"data row6 col0\" >223112</td>\n",
              "      <td id=\"T_14753_row6_col1\" class=\"data row6 col1\" >Sania</td>\n",
              "      <td id=\"T_14753_row6_col2\" class=\"data row6 col2\" >Accounts</td>\n",
              "      <td id=\"T_14753_row6_col3\" class=\"data row6 col3\" >Calcutta</td>\n",
              "    </tr>\n",
              "    <tr>\n",
              "      <td id=\"T_14753_row7_col0\" class=\"data row7 col0\" >997445</td>\n",
              "      <td id=\"T_14753_row7_col1\" class=\"data row7 col1\" >Jagmohan</td>\n",
              "      <td id=\"T_14753_row7_col2\" class=\"data row7 col2\" >Accounts</td>\n",
              "      <td id=\"T_14753_row7_col3\" class=\"data row7 col3\" >Calcutta</td>\n",
              "    </tr>\n",
              "    <tr>\n",
              "      <td id=\"T_14753_row8_col0\" class=\"data row8 col0\" >822134</td>\n",
              "      <td id=\"T_14753_row8_col1\" class=\"data row8 col1\" >Rahul</td>\n",
              "      <td id=\"T_14753_row8_col2\" class=\"data row8 col2\" >Accounts</td>\n",
              "      <td id=\"T_14753_row8_col3\" class=\"data row8 col3\" >Calcutta</td>\n",
              "    </tr>\n",
              "    <tr>\n",
              "      <td id=\"T_14753_row9_col0\" class=\"data row9 col0\" >989007</td>\n",
              "      <td id=\"T_14753_row9_col1\" class=\"data row9 col1\" >Sourav</td>\n",
              "      <td id=\"T_14753_row9_col2\" class=\"data row9 col2\" >Production</td>\n",
              "      <td id=\"T_14753_row9_col3\" class=\"data row9 col3\" >Bombay</td>\n",
              "    </tr>\n",
              "    <tr>\n",
              "      <td id=\"T_14753_row10_col0\" class=\"data row10 col0\" >123980</td>\n",
              "      <td id=\"T_14753_row10_col1\" class=\"data row10 col1\" >Mahender</td>\n",
              "      <td id=\"T_14753_row10_col2\" class=\"data row10 col2\" >Production</td>\n",
              "      <td id=\"T_14753_row10_col3\" class=\"data row10 col3\" >Bombay</td>\n",
              "    </tr>\n",
              "    <tr>\n",
              "      <td id=\"T_14753_row11_col0\" class=\"data row11 col0\" >349870</td>\n",
              "      <td id=\"T_14753_row11_col1\" class=\"data row11 col1\" >Rani</td>\n",
              "      <td id=\"T_14753_row11_col2\" class=\"data row11 col2\" >Production</td>\n",
              "      <td id=\"T_14753_row11_col3\" class=\"data row11 col3\" >Bombay</td>\n",
              "    </tr>\n",
              "    <tr>\n",
              "      <td id=\"T_14753_row12_col0\" class=\"data row12 col0\" >None</td>\n",
              "      <td id=\"T_14753_row12_col1\" class=\"data row12 col1\" >None</td>\n",
              "      <td id=\"T_14753_row12_col2\" class=\"data row12 col2\" >Research</td>\n",
              "      <td id=\"T_14753_row12_col3\" class=\"data row12 col3\" >Delhi</td>\n",
              "    </tr>\n",
              "    <tr>\n",
              "      <td id=\"T_14753_row13_col0\" class=\"data row13 col0\" >546224</td>\n",
              "      <td id=\"T_14753_row13_col1\" class=\"data row13 col1\" >Chettri</td>\n",
              "      <td id=\"T_14753_row13_col2\" class=\"data row13 col2\" >None</td>\n",
              "      <td id=\"T_14753_row13_col3\" class=\"data row13 col3\" >None</td>\n",
              "    </tr>\n",
              "  </tbody>\n",
              "</table>\n"
            ]
          },
          "metadata": {},
          "execution_count": 51
        }
      ]
    },
    {
      "cell_type": "code",
      "source": [
        "sql = 'select deptname,round(sum(salary),0) payroll from empl FULL JOIN dept ON empl.deptid = dept.deptid \\\n",
        "group by deptname'\n",
        "runSelect(sql)"
      ],
      "metadata": {
        "id": "EAI2kiYP3p9O",
        "outputId": "2538f740-38df-453b-92a0-47986679cf64",
        "colab": {
          "base_uri": "https://localhost:8080/",
          "height": 238
        }
      },
      "execution_count": 52,
      "outputs": [
        {
          "output_type": "execute_result",
          "data": {
            "text/plain": [
              "<pandas.io.formats.style.Styler at 0x7e9c25067880>"
            ],
            "text/html": [
              "<style type=\"text/css\">\n",
              "</style>\n",
              "<table id=\"T_09806\" class=\"dataframe\">\n",
              "  <thead>\n",
              "    <tr>\n",
              "      <th id=\"T_09806_level0_col0\" class=\"col_heading level0 col0\" >deptname</th>\n",
              "      <th id=\"T_09806_level0_col1\" class=\"col_heading level0 col1\" >payroll</th>\n",
              "    </tr>\n",
              "  </thead>\n",
              "  <tbody>\n",
              "    <tr>\n",
              "      <td id=\"T_09806_row0_col0\" class=\"data row0 col0\" >None</td>\n",
              "      <td id=\"T_09806_row0_col1\" class=\"data row0 col1\" >40000</td>\n",
              "    </tr>\n",
              "    <tr>\n",
              "      <td id=\"T_09806_row1_col0\" class=\"data row1 col0\" >Research</td>\n",
              "      <td id=\"T_09806_row1_col1\" class=\"data row1 col1\" >None</td>\n",
              "    </tr>\n",
              "    <tr>\n",
              "      <td id=\"T_09806_row2_col0\" class=\"data row2 col0\" >Corporate</td>\n",
              "      <td id=\"T_09806_row2_col1\" class=\"data row2 col1\" >150000</td>\n",
              "    </tr>\n",
              "    <tr>\n",
              "      <td id=\"T_09806_row3_col0\" class=\"data row3 col0\" >Accounts</td>\n",
              "      <td id=\"T_09806_row3_col1\" class=\"data row3 col1\" >77000</td>\n",
              "    </tr>\n",
              "    <tr>\n",
              "      <td id=\"T_09806_row4_col0\" class=\"data row4 col0\" >Sales</td>\n",
              "      <td id=\"T_09806_row4_col1\" class=\"data row4 col1\" >55000</td>\n",
              "    </tr>\n",
              "    <tr>\n",
              "      <td id=\"T_09806_row5_col0\" class=\"data row5 col0\" >Production</td>\n",
              "      <td id=\"T_09806_row5_col1\" class=\"data row5 col1\" >54000</td>\n",
              "    </tr>\n",
              "  </tbody>\n",
              "</table>\n"
            ]
          },
          "metadata": {},
          "execution_count": 52
        }
      ]
    },
    {
      "cell_type": "markdown",
      "source": [
        "## Recursive Joins"
      ],
      "metadata": {
        "id": "6nm2xAfn6pIV"
      }
    },
    {
      "cell_type": "markdown",
      "source": [
        "### Three Tables"
      ],
      "metadata": {
        "id": "A1KCGwwyB02z"
      }
    },
    {
      "cell_type": "code",
      "source": [
        "cmd = \"select w.lastname , w.deptID, '>' linksTo  , d.deptID ,d.managerID,'<' linksTo, m.empID, m.lastname \\\n",
        "        from Empl w, Dept d, Empl m \\\n",
        "        where w.deptID = d.deptID   \\\n",
        "        and d.managerID = m.empID \\\n",
        "    \"\n",
        "runSelect(cmd)"
      ],
      "metadata": {
        "colab": {
          "base_uri": "https://localhost:8080/",
          "height": 426
        },
        "id": "W17nS5R7AL0J",
        "outputId": "5735f77a-2ec1-4209-913d-7e458f849a09"
      },
      "execution_count": 53,
      "outputs": [
        {
          "output_type": "execute_result",
          "data": {
            "text/plain": [
              "<pandas.io.formats.style.Styler at 0x7e9c25064b20>"
            ],
            "text/html": [
              "<style type=\"text/css\">\n",
              "</style>\n",
              "<table id=\"T_2b0c8\" class=\"dataframe\">\n",
              "  <thead>\n",
              "    <tr>\n",
              "      <th id=\"T_2b0c8_level0_col0\" class=\"col_heading level0 col0\" >lastname</th>\n",
              "      <th id=\"T_2b0c8_level0_col1\" class=\"col_heading level0 col1\" >deptid</th>\n",
              "      <th id=\"T_2b0c8_level0_col2\" class=\"col_heading level0 col2\" >linksto</th>\n",
              "      <th id=\"T_2b0c8_level0_col3\" class=\"col_heading level0 col3\" >deptid</th>\n",
              "      <th id=\"T_2b0c8_level0_col4\" class=\"col_heading level0 col4\" >managerid</th>\n",
              "      <th id=\"T_2b0c8_level0_col5\" class=\"col_heading level0 col5\" >linksto</th>\n",
              "      <th id=\"T_2b0c8_level0_col6\" class=\"col_heading level0 col6\" >empid</th>\n",
              "      <th id=\"T_2b0c8_level0_col7\" class=\"col_heading level0 col7\" >lastname</th>\n",
              "    </tr>\n",
              "  </thead>\n",
              "  <tbody>\n",
              "    <tr>\n",
              "      <td id=\"T_2b0c8_row0_col0\" class=\"data row0 col0\" >Karthikeyan</td>\n",
              "      <td id=\"T_2b0c8_row0_col1\" class=\"data row0 col1\" >10</td>\n",
              "      <td id=\"T_2b0c8_row0_col2\" class=\"data row0 col2\" >></td>\n",
              "      <td id=\"T_2b0c8_row0_col3\" class=\"data row0 col3\" >10</td>\n",
              "      <td id=\"T_2b0c8_row0_col4\" class=\"data row0 col4\" >299034</td>\n",
              "      <td id=\"T_2b0c8_row0_col5\" class=\"data row0 col5\" ><</td>\n",
              "      <td id=\"T_2b0c8_row0_col6\" class=\"data row0 col6\" >299034</td>\n",
              "      <td id=\"T_2b0c8_row0_col7\" class=\"data row0 col7\" >Ganesan</td>\n",
              "    </tr>\n",
              "    <tr>\n",
              "      <td id=\"T_2b0c8_row1_col0\" class=\"data row1 col0\" >Ganesan</td>\n",
              "      <td id=\"T_2b0c8_row1_col1\" class=\"data row1 col1\" >10</td>\n",
              "      <td id=\"T_2b0c8_row1_col2\" class=\"data row1 col2\" >></td>\n",
              "      <td id=\"T_2b0c8_row1_col3\" class=\"data row1 col3\" >10</td>\n",
              "      <td id=\"T_2b0c8_row1_col4\" class=\"data row1 col4\" >299034</td>\n",
              "      <td id=\"T_2b0c8_row1_col5\" class=\"data row1 col5\" ><</td>\n",
              "      <td id=\"T_2b0c8_row1_col6\" class=\"data row1 col6\" >299034</td>\n",
              "      <td id=\"T_2b0c8_row1_col7\" class=\"data row1 col7\" >Ganesan</td>\n",
              "    </tr>\n",
              "    <tr>\n",
              "      <td id=\"T_2b0c8_row2_col0\" class=\"data row2 col0\" >Bacchan</td>\n",
              "      <td id=\"T_2b0c8_row2_col1\" class=\"data row2 col1\" >10</td>\n",
              "      <td id=\"T_2b0c8_row2_col2\" class=\"data row2 col2\" >></td>\n",
              "      <td id=\"T_2b0c8_row2_col3\" class=\"data row2 col3\" >10</td>\n",
              "      <td id=\"T_2b0c8_row2_col4\" class=\"data row2 col4\" >299034</td>\n",
              "      <td id=\"T_2b0c8_row2_col5\" class=\"data row2 col5\" ><</td>\n",
              "      <td id=\"T_2b0c8_row2_col6\" class=\"data row2 col6\" >299034</td>\n",
              "      <td id=\"T_2b0c8_row2_col7\" class=\"data row2 col7\" >Ganesan</td>\n",
              "    </tr>\n",
              "    <tr>\n",
              "      <td id=\"T_2b0c8_row3_col0\" class=\"data row3 col0\" >Sehwag</td>\n",
              "      <td id=\"T_2b0c8_row3_col1\" class=\"data row3 col1\" >20</td>\n",
              "      <td id=\"T_2b0c8_row3_col2\" class=\"data row3 col2\" >></td>\n",
              "      <td id=\"T_2b0c8_row3_col3\" class=\"data row3 col3\" >20</td>\n",
              "      <td id=\"T_2b0c8_row3_col4\" class=\"data row3 col4\" >239456</td>\n",
              "      <td id=\"T_2b0c8_row3_col5\" class=\"data row3 col5\" ><</td>\n",
              "      <td id=\"T_2b0c8_row3_col6\" class=\"data row3 col6\" >239456</td>\n",
              "      <td id=\"T_2b0c8_row3_col7\" class=\"data row3 col7\" >Khan</td>\n",
              "    </tr>\n",
              "    <tr>\n",
              "      <td id=\"T_2b0c8_row4_col0\" class=\"data row4 col0\" >Khan</td>\n",
              "      <td id=\"T_2b0c8_row4_col1\" class=\"data row4 col1\" >20</td>\n",
              "      <td id=\"T_2b0c8_row4_col2\" class=\"data row4 col2\" >></td>\n",
              "      <td id=\"T_2b0c8_row4_col3\" class=\"data row4 col3\" >20</td>\n",
              "      <td id=\"T_2b0c8_row4_col4\" class=\"data row4 col4\" >239456</td>\n",
              "      <td id=\"T_2b0c8_row4_col5\" class=\"data row4 col5\" ><</td>\n",
              "      <td id=\"T_2b0c8_row4_col6\" class=\"data row4 col6\" >239456</td>\n",
              "      <td id=\"T_2b0c8_row4_col7\" class=\"data row4 col7\" >Khan</td>\n",
              "    </tr>\n",
              "    <tr>\n",
              "      <td id=\"T_2b0c8_row5_col0\" class=\"data row5 col0\" >Dikshit</td>\n",
              "      <td id=\"T_2b0c8_row5_col1\" class=\"data row5 col1\" >20</td>\n",
              "      <td id=\"T_2b0c8_row5_col2\" class=\"data row5 col2\" >></td>\n",
              "      <td id=\"T_2b0c8_row5_col3\" class=\"data row5 col3\" >20</td>\n",
              "      <td id=\"T_2b0c8_row5_col4\" class=\"data row5 col4\" >239456</td>\n",
              "      <td id=\"T_2b0c8_row5_col5\" class=\"data row5 col5\" ><</td>\n",
              "      <td id=\"T_2b0c8_row5_col6\" class=\"data row5 col6\" >239456</td>\n",
              "      <td id=\"T_2b0c8_row5_col7\" class=\"data row5 col7\" >Khan</td>\n",
              "    </tr>\n",
              "    <tr>\n",
              "      <td id=\"T_2b0c8_row6_col0\" class=\"data row6 col0\" >Mirza</td>\n",
              "      <td id=\"T_2b0c8_row6_col1\" class=\"data row6 col1\" >30</td>\n",
              "      <td id=\"T_2b0c8_row6_col2\" class=\"data row6 col2\" >></td>\n",
              "      <td id=\"T_2b0c8_row6_col3\" class=\"data row6 col3\" >30</td>\n",
              "      <td id=\"T_2b0c8_row6_col4\" class=\"data row6 col4\" >822134</td>\n",
              "      <td id=\"T_2b0c8_row6_col5\" class=\"data row6 col5\" ><</td>\n",
              "      <td id=\"T_2b0c8_row6_col6\" class=\"data row6 col6\" >822134</td>\n",
              "      <td id=\"T_2b0c8_row6_col7\" class=\"data row6 col7\" >Dravid</td>\n",
              "    </tr>\n",
              "    <tr>\n",
              "      <td id=\"T_2b0c8_row7_col0\" class=\"data row7 col0\" >Dalmia</td>\n",
              "      <td id=\"T_2b0c8_row7_col1\" class=\"data row7 col1\" >30</td>\n",
              "      <td id=\"T_2b0c8_row7_col2\" class=\"data row7 col2\" >></td>\n",
              "      <td id=\"T_2b0c8_row7_col3\" class=\"data row7 col3\" >30</td>\n",
              "      <td id=\"T_2b0c8_row7_col4\" class=\"data row7 col4\" >822134</td>\n",
              "      <td id=\"T_2b0c8_row7_col5\" class=\"data row7 col5\" ><</td>\n",
              "      <td id=\"T_2b0c8_row7_col6\" class=\"data row7 col6\" >822134</td>\n",
              "      <td id=\"T_2b0c8_row7_col7\" class=\"data row7 col7\" >Dravid</td>\n",
              "    </tr>\n",
              "    <tr>\n",
              "      <td id=\"T_2b0c8_row8_col0\" class=\"data row8 col0\" >Dravid</td>\n",
              "      <td id=\"T_2b0c8_row8_col1\" class=\"data row8 col1\" >30</td>\n",
              "      <td id=\"T_2b0c8_row8_col2\" class=\"data row8 col2\" >></td>\n",
              "      <td id=\"T_2b0c8_row8_col3\" class=\"data row8 col3\" >30</td>\n",
              "      <td id=\"T_2b0c8_row8_col4\" class=\"data row8 col4\" >822134</td>\n",
              "      <td id=\"T_2b0c8_row8_col5\" class=\"data row8 col5\" ><</td>\n",
              "      <td id=\"T_2b0c8_row8_col6\" class=\"data row8 col6\" >822134</td>\n",
              "      <td id=\"T_2b0c8_row8_col7\" class=\"data row8 col7\" >Dravid</td>\n",
              "    </tr>\n",
              "    <tr>\n",
              "      <td id=\"T_2b0c8_row9_col0\" class=\"data row9 col0\" >Ganguly</td>\n",
              "      <td id=\"T_2b0c8_row9_col1\" class=\"data row9 col1\" >40</td>\n",
              "      <td id=\"T_2b0c8_row9_col2\" class=\"data row9 col2\" >></td>\n",
              "      <td id=\"T_2b0c8_row9_col3\" class=\"data row9 col3\" >40</td>\n",
              "      <td id=\"T_2b0c8_row9_col4\" class=\"data row9 col4\" >349870</td>\n",
              "      <td id=\"T_2b0c8_row9_col5\" class=\"data row9 col5\" ><</td>\n",
              "      <td id=\"T_2b0c8_row9_col6\" class=\"data row9 col6\" >349870</td>\n",
              "      <td id=\"T_2b0c8_row9_col7\" class=\"data row9 col7\" >Mukherjee</td>\n",
              "    </tr>\n",
              "    <tr>\n",
              "      <td id=\"T_2b0c8_row10_col0\" class=\"data row10 col0\" >Dhoni</td>\n",
              "      <td id=\"T_2b0c8_row10_col1\" class=\"data row10 col1\" >40</td>\n",
              "      <td id=\"T_2b0c8_row10_col2\" class=\"data row10 col2\" >></td>\n",
              "      <td id=\"T_2b0c8_row10_col3\" class=\"data row10 col3\" >40</td>\n",
              "      <td id=\"T_2b0c8_row10_col4\" class=\"data row10 col4\" >349870</td>\n",
              "      <td id=\"T_2b0c8_row10_col5\" class=\"data row10 col5\" ><</td>\n",
              "      <td id=\"T_2b0c8_row10_col6\" class=\"data row10 col6\" >349870</td>\n",
              "      <td id=\"T_2b0c8_row10_col7\" class=\"data row10 col7\" >Mukherjee</td>\n",
              "    </tr>\n",
              "    <tr>\n",
              "      <td id=\"T_2b0c8_row11_col0\" class=\"data row11 col0\" >Mukherjee</td>\n",
              "      <td id=\"T_2b0c8_row11_col1\" class=\"data row11 col1\" >40</td>\n",
              "      <td id=\"T_2b0c8_row11_col2\" class=\"data row11 col2\" >></td>\n",
              "      <td id=\"T_2b0c8_row11_col3\" class=\"data row11 col3\" >40</td>\n",
              "      <td id=\"T_2b0c8_row11_col4\" class=\"data row11 col4\" >349870</td>\n",
              "      <td id=\"T_2b0c8_row11_col5\" class=\"data row11 col5\" ><</td>\n",
              "      <td id=\"T_2b0c8_row11_col6\" class=\"data row11 col6\" >349870</td>\n",
              "      <td id=\"T_2b0c8_row11_col7\" class=\"data row11 col7\" >Mukherjee</td>\n",
              "    </tr>\n",
              "  </tbody>\n",
              "</table>\n"
            ]
          },
          "metadata": {},
          "execution_count": 53
        }
      ]
    },
    {
      "cell_type": "markdown",
      "source": [
        "### Self Join / Single Table"
      ],
      "metadata": {
        "id": "jeknsMbjCA2A"
      }
    },
    {
      "cell_type": "code",
      "source": [
        "cmd = \"Select w.FirstName, w.JobDesc, w.DeptID, \\\n",
        "    ' hired by ' hiredby, \\\n",
        "    m.FirstName,m.JobDesc,m.DeptID \\\n",
        "    from empl w, empl m \\\n",
        "    where w.HiredBy = m.EmpID\"\n",
        "\n",
        "runSelect(cmd)"
      ],
      "metadata": {
        "colab": {
          "base_uri": "https://localhost:8080/",
          "height": 426
        },
        "id": "iDPmUw9-CEBH",
        "outputId": "45d185d5-49bd-488f-a3d8-d67274d34519"
      },
      "execution_count": 54,
      "outputs": [
        {
          "output_type": "execute_result",
          "data": {
            "text/plain": [
              "<pandas.io.formats.style.Styler at 0x7e9c250651e0>"
            ],
            "text/html": [
              "<style type=\"text/css\">\n",
              "</style>\n",
              "<table id=\"T_772b6\" class=\"dataframe\">\n",
              "  <thead>\n",
              "    <tr>\n",
              "      <th id=\"T_772b6_level0_col0\" class=\"col_heading level0 col0\" >firstname</th>\n",
              "      <th id=\"T_772b6_level0_col1\" class=\"col_heading level0 col1\" >jobdesc</th>\n",
              "      <th id=\"T_772b6_level0_col2\" class=\"col_heading level0 col2\" >deptid</th>\n",
              "      <th id=\"T_772b6_level0_col3\" class=\"col_heading level0 col3\" >hiredby</th>\n",
              "      <th id=\"T_772b6_level0_col4\" class=\"col_heading level0 col4\" >firstname</th>\n",
              "      <th id=\"T_772b6_level0_col5\" class=\"col_heading level0 col5\" >jobdesc</th>\n",
              "      <th id=\"T_772b6_level0_col6\" class=\"col_heading level0 col6\" >deptid</th>\n",
              "    </tr>\n",
              "  </thead>\n",
              "  <tbody>\n",
              "    <tr>\n",
              "      <td id=\"T_772b6_row0_col0\" class=\"data row0 col0\" >Rani</td>\n",
              "      <td id=\"T_772b6_row0_col1\" class=\"data row0 col1\" >Manager</td>\n",
              "      <td id=\"T_772b6_row0_col2\" class=\"data row0 col2\" >40</td>\n",
              "      <td id=\"T_772b6_row0_col3\" class=\"data row0 col3\" > hired by </td>\n",
              "      <td id=\"T_772b6_row0_col4\" class=\"data row0 col4\" >Amitabh</td>\n",
              "      <td id=\"T_772b6_row0_col5\" class=\"data row0 col5\" >Executive</td>\n",
              "      <td id=\"T_772b6_row0_col6\" class=\"data row0 col6\" >10</td>\n",
              "    </tr>\n",
              "    <tr>\n",
              "      <td id=\"T_772b6_row1_col0\" class=\"data row1 col0\" >Madhuri</td>\n",
              "      <td id=\"T_772b6_row1_col1\" class=\"data row1 col1\" >Clerk</td>\n",
              "      <td id=\"T_772b6_row1_col2\" class=\"data row1 col2\" >20</td>\n",
              "      <td id=\"T_772b6_row1_col3\" class=\"data row1 col3\" > hired by </td>\n",
              "      <td id=\"T_772b6_row1_col4\" class=\"data row1 col4\" >Shahrukh</td>\n",
              "      <td id=\"T_772b6_row1_col5\" class=\"data row1 col5\" >Manager</td>\n",
              "      <td id=\"T_772b6_row1_col6\" class=\"data row1 col6\" >20</td>\n",
              "    </tr>\n",
              "    <tr>\n",
              "      <td id=\"T_772b6_row2_col0\" class=\"data row2 col0\" >Shahrukh</td>\n",
              "      <td id=\"T_772b6_row2_col1\" class=\"data row2 col1\" >Manager</td>\n",
              "      <td id=\"T_772b6_row2_col2\" class=\"data row2 col2\" >20</td>\n",
              "      <td id=\"T_772b6_row2_col3\" class=\"data row2 col3\" > hired by </td>\n",
              "      <td id=\"T_772b6_row2_col4\" class=\"data row2 col4\" >Amitabh</td>\n",
              "      <td id=\"T_772b6_row2_col5\" class=\"data row2 col5\" >Executive</td>\n",
              "      <td id=\"T_772b6_row2_col6\" class=\"data row2 col6\" >10</td>\n",
              "    </tr>\n",
              "    <tr>\n",
              "      <td id=\"T_772b6_row3_col0\" class=\"data row3 col0\" >Virender</td>\n",
              "      <td id=\"T_772b6_row3_col1\" class=\"data row3 col1\" >Cus_Rep</td>\n",
              "      <td id=\"T_772b6_row3_col2\" class=\"data row3 col2\" >20</td>\n",
              "      <td id=\"T_772b6_row3_col3\" class=\"data row3 col3\" > hired by </td>\n",
              "      <td id=\"T_772b6_row3_col4\" class=\"data row3 col4\" >Shahrukh</td>\n",
              "      <td id=\"T_772b6_row3_col5\" class=\"data row3 col5\" >Manager</td>\n",
              "      <td id=\"T_772b6_row3_col6\" class=\"data row3 col6\" >20</td>\n",
              "    </tr>\n",
              "    <tr>\n",
              "      <td id=\"T_772b6_row4_col0\" class=\"data row4 col0\" >Mahender</td>\n",
              "      <td id=\"T_772b6_row4_col1\" class=\"data row4 col1\" >Clerk</td>\n",
              "      <td id=\"T_772b6_row4_col2\" class=\"data row4 col2\" >40</td>\n",
              "      <td id=\"T_772b6_row4_col3\" class=\"data row4 col3\" > hired by </td>\n",
              "      <td id=\"T_772b6_row4_col4\" class=\"data row4 col4\" >Rani</td>\n",
              "      <td id=\"T_772b6_row4_col5\" class=\"data row4 col5\" >Manager</td>\n",
              "      <td id=\"T_772b6_row4_col6\" class=\"data row4 col6\" >40</td>\n",
              "    </tr>\n",
              "    <tr>\n",
              "      <td id=\"T_772b6_row5_col0\" class=\"data row5 col0\" >Rahul</td>\n",
              "      <td id=\"T_772b6_row5_col1\" class=\"data row5 col1\" >Sr Manager</td>\n",
              "      <td id=\"T_772b6_row5_col2\" class=\"data row5 col2\" >30</td>\n",
              "      <td id=\"T_772b6_row5_col3\" class=\"data row5 col3\" > hired by </td>\n",
              "      <td id=\"T_772b6_row5_col4\" class=\"data row5 col4\" >Amitabh</td>\n",
              "      <td id=\"T_772b6_row5_col5\" class=\"data row5 col5\" >Executive</td>\n",
              "      <td id=\"T_772b6_row5_col6\" class=\"data row5 col6\" >10</td>\n",
              "    </tr>\n",
              "    <tr>\n",
              "      <td id=\"T_772b6_row6_col0\" class=\"data row6 col0\" >Jagmohan</td>\n",
              "      <td id=\"T_772b6_row6_col1\" class=\"data row6 col1\" >Clerk</td>\n",
              "      <td id=\"T_772b6_row6_col2\" class=\"data row6 col2\" >30</td>\n",
              "      <td id=\"T_772b6_row6_col3\" class=\"data row6 col3\" > hired by </td>\n",
              "      <td id=\"T_772b6_row6_col4\" class=\"data row6 col4\" >Rahul</td>\n",
              "      <td id=\"T_772b6_row6_col5\" class=\"data row6 col5\" >Sr Manager</td>\n",
              "      <td id=\"T_772b6_row6_col6\" class=\"data row6 col6\" >30</td>\n",
              "    </tr>\n",
              "    <tr>\n",
              "      <td id=\"T_772b6_row7_col0\" class=\"data row7 col0\" >Sourav</td>\n",
              "      <td id=\"T_772b6_row7_col1\" class=\"data row7 col1\" >Cus_Rep</td>\n",
              "      <td id=\"T_772b6_row7_col2\" class=\"data row7 col2\" >40</td>\n",
              "      <td id=\"T_772b6_row7_col3\" class=\"data row7 col3\" > hired by </td>\n",
              "      <td id=\"T_772b6_row7_col4\" class=\"data row7 col4\" >Rekha</td>\n",
              "      <td id=\"T_772b6_row7_col5\" class=\"data row7 col5\" >Director</td>\n",
              "      <td id=\"T_772b6_row7_col6\" class=\"data row7 col6\" >10</td>\n",
              "    </tr>\n",
              "    <tr>\n",
              "      <td id=\"T_772b6_row8_col0\" class=\"data row8 col0\" >Rekha</td>\n",
              "      <td id=\"T_772b6_row8_col1\" class=\"data row8 col1\" >Director</td>\n",
              "      <td id=\"T_772b6_row8_col2\" class=\"data row8 col2\" >10</td>\n",
              "      <td id=\"T_772b6_row8_col3\" class=\"data row8 col3\" > hired by </td>\n",
              "      <td id=\"T_772b6_row8_col4\" class=\"data row8 col4\" >Amitabh</td>\n",
              "      <td id=\"T_772b6_row8_col5\" class=\"data row8 col5\" >Executive</td>\n",
              "      <td id=\"T_772b6_row8_col6\" class=\"data row8 col6\" >10</td>\n",
              "    </tr>\n",
              "    <tr>\n",
              "      <td id=\"T_772b6_row9_col0\" class=\"data row9 col0\" >Narayan</td>\n",
              "      <td id=\"T_772b6_row9_col1\" class=\"data row9 col1\" >Secretary</td>\n",
              "      <td id=\"T_772b6_row9_col2\" class=\"data row9 col2\" >10</td>\n",
              "      <td id=\"T_772b6_row9_col3\" class=\"data row9 col3\" > hired by </td>\n",
              "      <td id=\"T_772b6_row9_col4\" class=\"data row9 col4\" >Rekha</td>\n",
              "      <td id=\"T_772b6_row9_col5\" class=\"data row9 col5\" >Director</td>\n",
              "      <td id=\"T_772b6_row9_col6\" class=\"data row9 col6\" >10</td>\n",
              "    </tr>\n",
              "    <tr>\n",
              "      <td id=\"T_772b6_row10_col0\" class=\"data row10 col0\" >Chettri</td>\n",
              "      <td id=\"T_772b6_row10_col1\" class=\"data row10 col1\" >Dy Manager</td>\n",
              "      <td id=\"T_772b6_row10_col2\" class=\"data row10 col2\" >70</td>\n",
              "      <td id=\"T_772b6_row10_col3\" class=\"data row10 col3\" > hired by </td>\n",
              "      <td id=\"T_772b6_row10_col4\" class=\"data row10 col4\" >Rani</td>\n",
              "      <td id=\"T_772b6_row10_col5\" class=\"data row10 col5\" >Manager</td>\n",
              "      <td id=\"T_772b6_row10_col6\" class=\"data row10 col6\" >40</td>\n",
              "    </tr>\n",
              "    <tr>\n",
              "      <td id=\"T_772b6_row11_col0\" class=\"data row11 col0\" >Sania</td>\n",
              "      <td id=\"T_772b6_row11_col1\" class=\"data row11 col1\" >Cus_Rep</td>\n",
              "      <td id=\"T_772b6_row11_col2\" class=\"data row11 col2\" >30</td>\n",
              "      <td id=\"T_772b6_row11_col3\" class=\"data row11 col3\" > hired by </td>\n",
              "      <td id=\"T_772b6_row11_col4\" class=\"data row11 col4\" >Rahul</td>\n",
              "      <td id=\"T_772b6_row11_col5\" class=\"data row11 col5\" >Sr Manager</td>\n",
              "      <td id=\"T_772b6_row11_col6\" class=\"data row11 col6\" >30</td>\n",
              "    </tr>\n",
              "  </tbody>\n",
              "</table>\n"
            ]
          },
          "metadata": {},
          "execution_count": 54
        }
      ]
    },
    {
      "cell_type": "markdown",
      "source": [
        "#Subquery"
      ],
      "metadata": {
        "id": "tXDgw1RBzUf-"
      }
    },
    {
      "cell_type": "code",
      "source": [
        "sql = \"select lastname, salary, jobdesc, deptid from empl where \\\n",
        "salary = (select max(salary) from empl where deptid = '20') \\\n",
        "and deptid = '20'\"\n",
        "\n",
        "runSelect(sql)"
      ],
      "metadata": {
        "colab": {
          "base_uri": "https://localhost:8080/",
          "height": 81
        },
        "id": "SxQqgOcHzYTF",
        "outputId": "584ecf4c-3579-4b23-e22a-739a02a508c9"
      },
      "execution_count": 55,
      "outputs": [
        {
          "output_type": "execute_result",
          "data": {
            "text/plain": [
              "<pandas.io.formats.style.Styler at 0x7e9c250664d0>"
            ],
            "text/html": [
              "<style type=\"text/css\">\n",
              "</style>\n",
              "<table id=\"T_8c11d\" class=\"dataframe\">\n",
              "  <thead>\n",
              "    <tr>\n",
              "      <th id=\"T_8c11d_level0_col0\" class=\"col_heading level0 col0\" >lastname</th>\n",
              "      <th id=\"T_8c11d_level0_col1\" class=\"col_heading level0 col1\" >salary</th>\n",
              "      <th id=\"T_8c11d_level0_col2\" class=\"col_heading level0 col2\" >jobdesc</th>\n",
              "      <th id=\"T_8c11d_level0_col3\" class=\"col_heading level0 col3\" >deptid</th>\n",
              "    </tr>\n",
              "  </thead>\n",
              "  <tbody>\n",
              "    <tr>\n",
              "      <td id=\"T_8c11d_row0_col0\" class=\"data row0 col0\" >Khan</td>\n",
              "      <td id=\"T_8c11d_row0_col1\" class=\"data row0 col1\" >30000</td>\n",
              "      <td id=\"T_8c11d_row0_col2\" class=\"data row0 col2\" >Manager</td>\n",
              "      <td id=\"T_8c11d_row0_col3\" class=\"data row0 col3\" >20</td>\n",
              "    </tr>\n",
              "  </tbody>\n",
              "</table>\n"
            ]
          },
          "metadata": {},
          "execution_count": 55
        }
      ]
    },
    {
      "cell_type": "code",
      "source": [
        "sql = \"select lastname, salary, jobdesc, deptid from empl where salary < (select avg(salary) from empl where deptid = '20')\\\n",
        "and deptid = '20'\"\n",
        "runSelect(sql)"
      ],
      "metadata": {
        "colab": {
          "base_uri": "https://localhost:8080/",
          "height": 112
        },
        "id": "oEhaMtyLz3Tm",
        "outputId": "2a5c7a02-9498-45a9-ffd9-780ea9b6acc8"
      },
      "execution_count": 56,
      "outputs": [
        {
          "output_type": "execute_result",
          "data": {
            "text/plain": [
              "<pandas.io.formats.style.Styler at 0x7e9c25066e30>"
            ],
            "text/html": [
              "<style type=\"text/css\">\n",
              "</style>\n",
              "<table id=\"T_3befa\" class=\"dataframe\">\n",
              "  <thead>\n",
              "    <tr>\n",
              "      <th id=\"T_3befa_level0_col0\" class=\"col_heading level0 col0\" >lastname</th>\n",
              "      <th id=\"T_3befa_level0_col1\" class=\"col_heading level0 col1\" >salary</th>\n",
              "      <th id=\"T_3befa_level0_col2\" class=\"col_heading level0 col2\" >jobdesc</th>\n",
              "      <th id=\"T_3befa_level0_col3\" class=\"col_heading level0 col3\" >deptid</th>\n",
              "    </tr>\n",
              "  </thead>\n",
              "  <tbody>\n",
              "    <tr>\n",
              "      <td id=\"T_3befa_row0_col0\" class=\"data row0 col0\" >Dikshit</td>\n",
              "      <td id=\"T_3befa_row0_col1\" class=\"data row0 col1\" >10000</td>\n",
              "      <td id=\"T_3befa_row0_col2\" class=\"data row0 col2\" >Clerk</td>\n",
              "      <td id=\"T_3befa_row0_col3\" class=\"data row0 col3\" >20</td>\n",
              "    </tr>\n",
              "    <tr>\n",
              "      <td id=\"T_3befa_row1_col0\" class=\"data row1 col0\" >Sehwag</td>\n",
              "      <td id=\"T_3befa_row1_col1\" class=\"data row1 col1\" >15000</td>\n",
              "      <td id=\"T_3befa_row1_col2\" class=\"data row1 col2\" >Cus_Rep</td>\n",
              "      <td id=\"T_3befa_row1_col3\" class=\"data row1 col3\" >20</td>\n",
              "    </tr>\n",
              "  </tbody>\n",
              "</table>\n"
            ]
          },
          "metadata": {},
          "execution_count": 56
        }
      ]
    },
    {
      "cell_type": "markdown",
      "source": [
        "## Exists | Not Exists"
      ],
      "metadata": {
        "id": "l3GWzCV24a2x"
      }
    },
    {
      "cell_type": "code",
      "source": [
        "#!psql -h localhost -p 5432 -Uupraxis -ddbpraxis -c \"\\\n",
        "sql = \"\\\n",
        "select firstname, jobdesc, deptid from empl \\\n",
        "where exists \\\n",
        "(select * from dept where empl.deptid = dept.deptid)\\\n",
        "order by deptid \\\n",
        "\"\n",
        "runSelect(sql)"
      ],
      "metadata": {
        "colab": {
          "base_uri": "https://localhost:8080/",
          "height": 426
        },
        "id": "9vlJrd584fWu",
        "outputId": "87314c20-f258-47fa-a74c-a3cfc2ac9e4b"
      },
      "execution_count": 57,
      "outputs": [
        {
          "output_type": "execute_result",
          "data": {
            "text/plain": [
              "<pandas.io.formats.style.Styler at 0x7e9c250670d0>"
            ],
            "text/html": [
              "<style type=\"text/css\">\n",
              "</style>\n",
              "<table id=\"T_113df\" class=\"dataframe\">\n",
              "  <thead>\n",
              "    <tr>\n",
              "      <th id=\"T_113df_level0_col0\" class=\"col_heading level0 col0\" >firstname</th>\n",
              "      <th id=\"T_113df_level0_col1\" class=\"col_heading level0 col1\" >jobdesc</th>\n",
              "      <th id=\"T_113df_level0_col2\" class=\"col_heading level0 col2\" >deptid</th>\n",
              "    </tr>\n",
              "  </thead>\n",
              "  <tbody>\n",
              "    <tr>\n",
              "      <td id=\"T_113df_row0_col0\" class=\"data row0 col0\" >Amitabh</td>\n",
              "      <td id=\"T_113df_row0_col1\" class=\"data row0 col1\" >Executive</td>\n",
              "      <td id=\"T_113df_row0_col2\" class=\"data row0 col2\" >10</td>\n",
              "    </tr>\n",
              "    <tr>\n",
              "      <td id=\"T_113df_row1_col0\" class=\"data row1 col0\" >Rekha</td>\n",
              "      <td id=\"T_113df_row1_col1\" class=\"data row1 col1\" >Director</td>\n",
              "      <td id=\"T_113df_row1_col2\" class=\"data row1 col2\" >10</td>\n",
              "    </tr>\n",
              "    <tr>\n",
              "      <td id=\"T_113df_row2_col0\" class=\"data row2 col0\" >Narayan</td>\n",
              "      <td id=\"T_113df_row2_col1\" class=\"data row2 col1\" >Secretary</td>\n",
              "      <td id=\"T_113df_row2_col2\" class=\"data row2 col2\" >10</td>\n",
              "    </tr>\n",
              "    <tr>\n",
              "      <td id=\"T_113df_row3_col0\" class=\"data row3 col0\" >Madhuri</td>\n",
              "      <td id=\"T_113df_row3_col1\" class=\"data row3 col1\" >Clerk</td>\n",
              "      <td id=\"T_113df_row3_col2\" class=\"data row3 col2\" >20</td>\n",
              "    </tr>\n",
              "    <tr>\n",
              "      <td id=\"T_113df_row4_col0\" class=\"data row4 col0\" >Shahrukh</td>\n",
              "      <td id=\"T_113df_row4_col1\" class=\"data row4 col1\" >Manager</td>\n",
              "      <td id=\"T_113df_row4_col2\" class=\"data row4 col2\" >20</td>\n",
              "    </tr>\n",
              "    <tr>\n",
              "      <td id=\"T_113df_row5_col0\" class=\"data row5 col0\" >Virender</td>\n",
              "      <td id=\"T_113df_row5_col1\" class=\"data row5 col1\" >Cus_Rep</td>\n",
              "      <td id=\"T_113df_row5_col2\" class=\"data row5 col2\" >20</td>\n",
              "    </tr>\n",
              "    <tr>\n",
              "      <td id=\"T_113df_row6_col0\" class=\"data row6 col0\" >Sania</td>\n",
              "      <td id=\"T_113df_row6_col1\" class=\"data row6 col1\" >Cus_Rep</td>\n",
              "      <td id=\"T_113df_row6_col2\" class=\"data row6 col2\" >30</td>\n",
              "    </tr>\n",
              "    <tr>\n",
              "      <td id=\"T_113df_row7_col0\" class=\"data row7 col0\" >Rahul</td>\n",
              "      <td id=\"T_113df_row7_col1\" class=\"data row7 col1\" >Sr Manager</td>\n",
              "      <td id=\"T_113df_row7_col2\" class=\"data row7 col2\" >30</td>\n",
              "    </tr>\n",
              "    <tr>\n",
              "      <td id=\"T_113df_row8_col0\" class=\"data row8 col0\" >Jagmohan</td>\n",
              "      <td id=\"T_113df_row8_col1\" class=\"data row8 col1\" >Clerk</td>\n",
              "      <td id=\"T_113df_row8_col2\" class=\"data row8 col2\" >30</td>\n",
              "    </tr>\n",
              "    <tr>\n",
              "      <td id=\"T_113df_row9_col0\" class=\"data row9 col0\" >Sourav</td>\n",
              "      <td id=\"T_113df_row9_col1\" class=\"data row9 col1\" >Cus_Rep</td>\n",
              "      <td id=\"T_113df_row9_col2\" class=\"data row9 col2\" >40</td>\n",
              "    </tr>\n",
              "    <tr>\n",
              "      <td id=\"T_113df_row10_col0\" class=\"data row10 col0\" >Mahender</td>\n",
              "      <td id=\"T_113df_row10_col1\" class=\"data row10 col1\" >Clerk</td>\n",
              "      <td id=\"T_113df_row10_col2\" class=\"data row10 col2\" >40</td>\n",
              "    </tr>\n",
              "    <tr>\n",
              "      <td id=\"T_113df_row11_col0\" class=\"data row11 col0\" >Rani</td>\n",
              "      <td id=\"T_113df_row11_col1\" class=\"data row11 col1\" >Manager</td>\n",
              "      <td id=\"T_113df_row11_col2\" class=\"data row11 col2\" >40</td>\n",
              "    </tr>\n",
              "  </tbody>\n",
              "</table>\n"
            ]
          },
          "metadata": {},
          "execution_count": 57
        }
      ]
    },
    {
      "cell_type": "code",
      "source": [
        "#!psql -h localhost -p 5432 -Uupraxis -ddbpraxis -c \"\\\n",
        "sql = \"\\\n",
        "select firstname, jobdesc, deptid from empl \\\n",
        "where not exists \\\n",
        "(select * from dept where empl.deptid = dept.deptid)\\\n",
        "order by deptid \\\n",
        "\"\n",
        "runSelect(sql)"
      ],
      "metadata": {
        "colab": {
          "base_uri": "https://localhost:8080/",
          "height": 81
        },
        "id": "6ntFTYfv5AyB",
        "outputId": "4465ff8f-266b-4d50-db7e-a5303c1d394a"
      },
      "execution_count": 58,
      "outputs": [
        {
          "output_type": "execute_result",
          "data": {
            "text/plain": [
              "<pandas.io.formats.style.Styler at 0x7e9c25067ac0>"
            ],
            "text/html": [
              "<style type=\"text/css\">\n",
              "</style>\n",
              "<table id=\"T_12b5f\" class=\"dataframe\">\n",
              "  <thead>\n",
              "    <tr>\n",
              "      <th id=\"T_12b5f_level0_col0\" class=\"col_heading level0 col0\" >firstname</th>\n",
              "      <th id=\"T_12b5f_level0_col1\" class=\"col_heading level0 col1\" >jobdesc</th>\n",
              "      <th id=\"T_12b5f_level0_col2\" class=\"col_heading level0 col2\" >deptid</th>\n",
              "    </tr>\n",
              "  </thead>\n",
              "  <tbody>\n",
              "    <tr>\n",
              "      <td id=\"T_12b5f_row0_col0\" class=\"data row0 col0\" >Chettri</td>\n",
              "      <td id=\"T_12b5f_row0_col1\" class=\"data row0 col1\" >Dy Manager</td>\n",
              "      <td id=\"T_12b5f_row0_col2\" class=\"data row0 col2\" >70</td>\n",
              "    </tr>\n",
              "  </tbody>\n",
              "</table>\n"
            ]
          },
          "metadata": {},
          "execution_count": 58
        }
      ]
    },
    {
      "cell_type": "markdown",
      "source": [
        "## Common Table Extensions CTE"
      ],
      "metadata": {
        "id": "2gvg8pwe3ale"
      }
    },
    {
      "cell_type": "code",
      "source": [
        "sql = \"\\\n",
        "select jobdesc, avg(salary) avgsalary from empl group by jobdesc \\\n",
        "\"\n",
        "runSelect(sql)"
      ],
      "metadata": {
        "id": "7mu6mmXA3pVn",
        "outputId": "2b5ed431-f937-46c1-bf36-3b211b2fcdfe",
        "colab": {
          "base_uri": "https://localhost:8080/",
          "height": 300
        }
      },
      "execution_count": 59,
      "outputs": [
        {
          "output_type": "execute_result",
          "data": {
            "text/plain": [
              "<pandas.io.formats.style.Styler at 0x7e9c25066ef0>"
            ],
            "text/html": [
              "<style type=\"text/css\">\n",
              "</style>\n",
              "<table id=\"T_92b72\" class=\"dataframe\">\n",
              "  <thead>\n",
              "    <tr>\n",
              "      <th id=\"T_92b72_level0_col0\" class=\"col_heading level0 col0\" >jobdesc</th>\n",
              "      <th id=\"T_92b72_level0_col1\" class=\"col_heading level0 col1\" >avgsalary</th>\n",
              "    </tr>\n",
              "  </thead>\n",
              "  <tbody>\n",
              "    <tr>\n",
              "      <td id=\"T_92b72_row0_col0\" class=\"data row0 col0\" >Director</td>\n",
              "      <td id=\"T_92b72_row0_col1\" class=\"data row0 col1\" >60000.000000000000</td>\n",
              "    </tr>\n",
              "    <tr>\n",
              "      <td id=\"T_92b72_row1_col0\" class=\"data row1 col0\" >Manager</td>\n",
              "      <td id=\"T_92b72_row1_col1\" class=\"data row1 col1\" >27500.000000000000</td>\n",
              "    </tr>\n",
              "    <tr>\n",
              "      <td id=\"T_92b72_row2_col0\" class=\"data row2 col0\" >Dy Manager</td>\n",
              "      <td id=\"T_92b72_row2_col1\" class=\"data row2 col1\" >40000.000000000000</td>\n",
              "    </tr>\n",
              "    <tr>\n",
              "      <td id=\"T_92b72_row3_col0\" class=\"data row3 col0\" >Executive</td>\n",
              "      <td id=\"T_92b72_row3_col1\" class=\"data row3 col1\" >50000.000000000000</td>\n",
              "    </tr>\n",
              "    <tr>\n",
              "      <td id=\"T_92b72_row4_col0\" class=\"data row4 col0\" >Secretary</td>\n",
              "      <td id=\"T_92b72_row4_col1\" class=\"data row4 col1\" >40000.000000000000</td>\n",
              "    </tr>\n",
              "    <tr>\n",
              "      <td id=\"T_92b72_row5_col0\" class=\"data row5 col0\" >Cus_Rep</td>\n",
              "      <td id=\"T_92b72_row5_col1\" class=\"data row5 col1\" >20000.000000000000</td>\n",
              "    </tr>\n",
              "    <tr>\n",
              "      <td id=\"T_92b72_row6_col0\" class=\"data row6 col0\" >Clerk</td>\n",
              "      <td id=\"T_92b72_row6_col1\" class=\"data row6 col1\" >10333.3333333333333333</td>\n",
              "    </tr>\n",
              "    <tr>\n",
              "      <td id=\"T_92b72_row7_col0\" class=\"data row7 col0\" >Sr Manager</td>\n",
              "      <td id=\"T_92b72_row7_col1\" class=\"data row7 col1\" >40000.000000000000</td>\n",
              "    </tr>\n",
              "  </tbody>\n",
              "</table>\n"
            ]
          },
          "metadata": {},
          "execution_count": 59
        }
      ]
    },
    {
      "cell_type": "code",
      "source": [
        "sql = \"\\\n",
        "with MeanSalary as \\\n",
        "    (select jobdesc, round(avg(salary),0) avgsalary from empl group by jobdesc) \\\n",
        "select lastname, empl.jobdesc, salary, avgsalary from empl, meansalary \\\n",
        "where empl.jobdesc = meansalary.jobdesc \\\n",
        "order  by jobdesc \\\n",
        "\"\n",
        "runSelect(sql)"
      ],
      "metadata": {
        "id": "0i-rIGEzDgFy",
        "outputId": "63b23d1a-f107-4d4a-a05c-aa470821245e",
        "colab": {
          "base_uri": "https://localhost:8080/",
          "height": 457
        }
      },
      "execution_count": 60,
      "outputs": [
        {
          "output_type": "execute_result",
          "data": {
            "text/plain": [
              "<pandas.io.formats.style.Styler at 0x7e9c25035030>"
            ],
            "text/html": [
              "<style type=\"text/css\">\n",
              "</style>\n",
              "<table id=\"T_329d4\" class=\"dataframe\">\n",
              "  <thead>\n",
              "    <tr>\n",
              "      <th id=\"T_329d4_level0_col0\" class=\"col_heading level0 col0\" >lastname</th>\n",
              "      <th id=\"T_329d4_level0_col1\" class=\"col_heading level0 col1\" >jobdesc</th>\n",
              "      <th id=\"T_329d4_level0_col2\" class=\"col_heading level0 col2\" >salary</th>\n",
              "      <th id=\"T_329d4_level0_col3\" class=\"col_heading level0 col3\" >avgsalary</th>\n",
              "    </tr>\n",
              "  </thead>\n",
              "  <tbody>\n",
              "    <tr>\n",
              "      <td id=\"T_329d4_row0_col0\" class=\"data row0 col0\" >Dalmia</td>\n",
              "      <td id=\"T_329d4_row0_col1\" class=\"data row0 col1\" >Clerk</td>\n",
              "      <td id=\"T_329d4_row0_col2\" class=\"data row0 col2\" >12000</td>\n",
              "      <td id=\"T_329d4_row0_col3\" class=\"data row0 col3\" >10333</td>\n",
              "    </tr>\n",
              "    <tr>\n",
              "      <td id=\"T_329d4_row1_col0\" class=\"data row1 col0\" >Dikshit</td>\n",
              "      <td id=\"T_329d4_row1_col1\" class=\"data row1 col1\" >Clerk</td>\n",
              "      <td id=\"T_329d4_row1_col2\" class=\"data row1 col2\" >10000</td>\n",
              "      <td id=\"T_329d4_row1_col3\" class=\"data row1 col3\" >10333</td>\n",
              "    </tr>\n",
              "    <tr>\n",
              "      <td id=\"T_329d4_row2_col0\" class=\"data row2 col0\" >Dhoni</td>\n",
              "      <td id=\"T_329d4_row2_col1\" class=\"data row2 col1\" >Clerk</td>\n",
              "      <td id=\"T_329d4_row2_col2\" class=\"data row2 col2\" >9000</td>\n",
              "      <td id=\"T_329d4_row2_col3\" class=\"data row2 col3\" >10333</td>\n",
              "    </tr>\n",
              "    <tr>\n",
              "      <td id=\"T_329d4_row3_col0\" class=\"data row3 col0\" >Sehwag</td>\n",
              "      <td id=\"T_329d4_row3_col1\" class=\"data row3 col1\" >Cus_Rep</td>\n",
              "      <td id=\"T_329d4_row3_col2\" class=\"data row3 col2\" >15000</td>\n",
              "      <td id=\"T_329d4_row3_col3\" class=\"data row3 col3\" >20000</td>\n",
              "    </tr>\n",
              "    <tr>\n",
              "      <td id=\"T_329d4_row4_col0\" class=\"data row4 col0\" >Mirza</td>\n",
              "      <td id=\"T_329d4_row4_col1\" class=\"data row4 col1\" >Cus_Rep</td>\n",
              "      <td id=\"T_329d4_row4_col2\" class=\"data row4 col2\" >25000</td>\n",
              "      <td id=\"T_329d4_row4_col3\" class=\"data row4 col3\" >20000</td>\n",
              "    </tr>\n",
              "    <tr>\n",
              "      <td id=\"T_329d4_row5_col0\" class=\"data row5 col0\" >Ganguly</td>\n",
              "      <td id=\"T_329d4_row5_col1\" class=\"data row5 col1\" >Cus_Rep</td>\n",
              "      <td id=\"T_329d4_row5_col2\" class=\"data row5 col2\" >20000</td>\n",
              "      <td id=\"T_329d4_row5_col3\" class=\"data row5 col3\" >20000</td>\n",
              "    </tr>\n",
              "    <tr>\n",
              "      <td id=\"T_329d4_row6_col0\" class=\"data row6 col0\" >Ganesan</td>\n",
              "      <td id=\"T_329d4_row6_col1\" class=\"data row6 col1\" >Director</td>\n",
              "      <td id=\"T_329d4_row6_col2\" class=\"data row6 col2\" >60000</td>\n",
              "      <td id=\"T_329d4_row6_col3\" class=\"data row6 col3\" >60000</td>\n",
              "    </tr>\n",
              "    <tr>\n",
              "      <td id=\"T_329d4_row7_col0\" class=\"data row7 col0\" >Sunil</td>\n",
              "      <td id=\"T_329d4_row7_col1\" class=\"data row7 col1\" >Dy Manager</td>\n",
              "      <td id=\"T_329d4_row7_col2\" class=\"data row7 col2\" >40000</td>\n",
              "      <td id=\"T_329d4_row7_col3\" class=\"data row7 col3\" >40000</td>\n",
              "    </tr>\n",
              "    <tr>\n",
              "      <td id=\"T_329d4_row8_col0\" class=\"data row8 col0\" >Bacchan</td>\n",
              "      <td id=\"T_329d4_row8_col1\" class=\"data row8 col1\" >Executive</td>\n",
              "      <td id=\"T_329d4_row8_col2\" class=\"data row8 col2\" >50000</td>\n",
              "      <td id=\"T_329d4_row8_col3\" class=\"data row8 col3\" >50000</td>\n",
              "    </tr>\n",
              "    <tr>\n",
              "      <td id=\"T_329d4_row9_col0\" class=\"data row9 col0\" >Khan</td>\n",
              "      <td id=\"T_329d4_row9_col1\" class=\"data row9 col1\" >Manager</td>\n",
              "      <td id=\"T_329d4_row9_col2\" class=\"data row9 col2\" >30000</td>\n",
              "      <td id=\"T_329d4_row9_col3\" class=\"data row9 col3\" >27500</td>\n",
              "    </tr>\n",
              "    <tr>\n",
              "      <td id=\"T_329d4_row10_col0\" class=\"data row10 col0\" >Mukherjee</td>\n",
              "      <td id=\"T_329d4_row10_col1\" class=\"data row10 col1\" >Manager</td>\n",
              "      <td id=\"T_329d4_row10_col2\" class=\"data row10 col2\" >25000</td>\n",
              "      <td id=\"T_329d4_row10_col3\" class=\"data row10 col3\" >27500</td>\n",
              "    </tr>\n",
              "    <tr>\n",
              "      <td id=\"T_329d4_row11_col0\" class=\"data row11 col0\" >Karthikeyan</td>\n",
              "      <td id=\"T_329d4_row11_col1\" class=\"data row11 col1\" >Secretary</td>\n",
              "      <td id=\"T_329d4_row11_col2\" class=\"data row11 col2\" >40000</td>\n",
              "      <td id=\"T_329d4_row11_col3\" class=\"data row11 col3\" >40000</td>\n",
              "    </tr>\n",
              "    <tr>\n",
              "      <td id=\"T_329d4_row12_col0\" class=\"data row12 col0\" >Dravid</td>\n",
              "      <td id=\"T_329d4_row12_col1\" class=\"data row12 col1\" >Sr Manager</td>\n",
              "      <td id=\"T_329d4_row12_col2\" class=\"data row12 col2\" >40000</td>\n",
              "      <td id=\"T_329d4_row12_col3\" class=\"data row12 col3\" >40000</td>\n",
              "    </tr>\n",
              "  </tbody>\n",
              "</table>\n"
            ]
          },
          "metadata": {},
          "execution_count": 60
        }
      ]
    },
    {
      "cell_type": "code",
      "source": [
        "sql = \"\\\n",
        "select lastname, empl.jobdesc, salary, avgsalary from \\\n",
        "empl, (select jobdesc, round(avg(salary),0) avgsalary from empl group by jobdesc) meansalary \\\n",
        "where empl.jobdesc = meansalary.jobdesc \\\n",
        "order  by jobdesc \\\n",
        "\"\n",
        "runSelect(sql)"
      ],
      "metadata": {
        "id": "nwrLj4xaExye",
        "outputId": "7a43ee38-6b4b-4c91-9033-0612bac24cf7",
        "colab": {
          "base_uri": "https://localhost:8080/",
          "height": 457
        }
      },
      "execution_count": 61,
      "outputs": [
        {
          "output_type": "execute_result",
          "data": {
            "text/plain": [
              "<pandas.io.formats.style.Styler at 0x7e9c250c8970>"
            ],
            "text/html": [
              "<style type=\"text/css\">\n",
              "</style>\n",
              "<table id=\"T_9e78d\" class=\"dataframe\">\n",
              "  <thead>\n",
              "    <tr>\n",
              "      <th id=\"T_9e78d_level0_col0\" class=\"col_heading level0 col0\" >lastname</th>\n",
              "      <th id=\"T_9e78d_level0_col1\" class=\"col_heading level0 col1\" >jobdesc</th>\n",
              "      <th id=\"T_9e78d_level0_col2\" class=\"col_heading level0 col2\" >salary</th>\n",
              "      <th id=\"T_9e78d_level0_col3\" class=\"col_heading level0 col3\" >avgsalary</th>\n",
              "    </tr>\n",
              "  </thead>\n",
              "  <tbody>\n",
              "    <tr>\n",
              "      <td id=\"T_9e78d_row0_col0\" class=\"data row0 col0\" >Dalmia</td>\n",
              "      <td id=\"T_9e78d_row0_col1\" class=\"data row0 col1\" >Clerk</td>\n",
              "      <td id=\"T_9e78d_row0_col2\" class=\"data row0 col2\" >12000</td>\n",
              "      <td id=\"T_9e78d_row0_col3\" class=\"data row0 col3\" >10333</td>\n",
              "    </tr>\n",
              "    <tr>\n",
              "      <td id=\"T_9e78d_row1_col0\" class=\"data row1 col0\" >Dikshit</td>\n",
              "      <td id=\"T_9e78d_row1_col1\" class=\"data row1 col1\" >Clerk</td>\n",
              "      <td id=\"T_9e78d_row1_col2\" class=\"data row1 col2\" >10000</td>\n",
              "      <td id=\"T_9e78d_row1_col3\" class=\"data row1 col3\" >10333</td>\n",
              "    </tr>\n",
              "    <tr>\n",
              "      <td id=\"T_9e78d_row2_col0\" class=\"data row2 col0\" >Dhoni</td>\n",
              "      <td id=\"T_9e78d_row2_col1\" class=\"data row2 col1\" >Clerk</td>\n",
              "      <td id=\"T_9e78d_row2_col2\" class=\"data row2 col2\" >9000</td>\n",
              "      <td id=\"T_9e78d_row2_col3\" class=\"data row2 col3\" >10333</td>\n",
              "    </tr>\n",
              "    <tr>\n",
              "      <td id=\"T_9e78d_row3_col0\" class=\"data row3 col0\" >Sehwag</td>\n",
              "      <td id=\"T_9e78d_row3_col1\" class=\"data row3 col1\" >Cus_Rep</td>\n",
              "      <td id=\"T_9e78d_row3_col2\" class=\"data row3 col2\" >15000</td>\n",
              "      <td id=\"T_9e78d_row3_col3\" class=\"data row3 col3\" >20000</td>\n",
              "    </tr>\n",
              "    <tr>\n",
              "      <td id=\"T_9e78d_row4_col0\" class=\"data row4 col0\" >Mirza</td>\n",
              "      <td id=\"T_9e78d_row4_col1\" class=\"data row4 col1\" >Cus_Rep</td>\n",
              "      <td id=\"T_9e78d_row4_col2\" class=\"data row4 col2\" >25000</td>\n",
              "      <td id=\"T_9e78d_row4_col3\" class=\"data row4 col3\" >20000</td>\n",
              "    </tr>\n",
              "    <tr>\n",
              "      <td id=\"T_9e78d_row5_col0\" class=\"data row5 col0\" >Ganguly</td>\n",
              "      <td id=\"T_9e78d_row5_col1\" class=\"data row5 col1\" >Cus_Rep</td>\n",
              "      <td id=\"T_9e78d_row5_col2\" class=\"data row5 col2\" >20000</td>\n",
              "      <td id=\"T_9e78d_row5_col3\" class=\"data row5 col3\" >20000</td>\n",
              "    </tr>\n",
              "    <tr>\n",
              "      <td id=\"T_9e78d_row6_col0\" class=\"data row6 col0\" >Ganesan</td>\n",
              "      <td id=\"T_9e78d_row6_col1\" class=\"data row6 col1\" >Director</td>\n",
              "      <td id=\"T_9e78d_row6_col2\" class=\"data row6 col2\" >60000</td>\n",
              "      <td id=\"T_9e78d_row6_col3\" class=\"data row6 col3\" >60000</td>\n",
              "    </tr>\n",
              "    <tr>\n",
              "      <td id=\"T_9e78d_row7_col0\" class=\"data row7 col0\" >Sunil</td>\n",
              "      <td id=\"T_9e78d_row7_col1\" class=\"data row7 col1\" >Dy Manager</td>\n",
              "      <td id=\"T_9e78d_row7_col2\" class=\"data row7 col2\" >40000</td>\n",
              "      <td id=\"T_9e78d_row7_col3\" class=\"data row7 col3\" >40000</td>\n",
              "    </tr>\n",
              "    <tr>\n",
              "      <td id=\"T_9e78d_row8_col0\" class=\"data row8 col0\" >Bacchan</td>\n",
              "      <td id=\"T_9e78d_row8_col1\" class=\"data row8 col1\" >Executive</td>\n",
              "      <td id=\"T_9e78d_row8_col2\" class=\"data row8 col2\" >50000</td>\n",
              "      <td id=\"T_9e78d_row8_col3\" class=\"data row8 col3\" >50000</td>\n",
              "    </tr>\n",
              "    <tr>\n",
              "      <td id=\"T_9e78d_row9_col0\" class=\"data row9 col0\" >Khan</td>\n",
              "      <td id=\"T_9e78d_row9_col1\" class=\"data row9 col1\" >Manager</td>\n",
              "      <td id=\"T_9e78d_row9_col2\" class=\"data row9 col2\" >30000</td>\n",
              "      <td id=\"T_9e78d_row9_col3\" class=\"data row9 col3\" >27500</td>\n",
              "    </tr>\n",
              "    <tr>\n",
              "      <td id=\"T_9e78d_row10_col0\" class=\"data row10 col0\" >Mukherjee</td>\n",
              "      <td id=\"T_9e78d_row10_col1\" class=\"data row10 col1\" >Manager</td>\n",
              "      <td id=\"T_9e78d_row10_col2\" class=\"data row10 col2\" >25000</td>\n",
              "      <td id=\"T_9e78d_row10_col3\" class=\"data row10 col3\" >27500</td>\n",
              "    </tr>\n",
              "    <tr>\n",
              "      <td id=\"T_9e78d_row11_col0\" class=\"data row11 col0\" >Karthikeyan</td>\n",
              "      <td id=\"T_9e78d_row11_col1\" class=\"data row11 col1\" >Secretary</td>\n",
              "      <td id=\"T_9e78d_row11_col2\" class=\"data row11 col2\" >40000</td>\n",
              "      <td id=\"T_9e78d_row11_col3\" class=\"data row11 col3\" >40000</td>\n",
              "    </tr>\n",
              "    <tr>\n",
              "      <td id=\"T_9e78d_row12_col0\" class=\"data row12 col0\" >Dravid</td>\n",
              "      <td id=\"T_9e78d_row12_col1\" class=\"data row12 col1\" >Sr Manager</td>\n",
              "      <td id=\"T_9e78d_row12_col2\" class=\"data row12 col2\" >40000</td>\n",
              "      <td id=\"T_9e78d_row12_col3\" class=\"data row12 col3\" >40000</td>\n",
              "    </tr>\n",
              "  </tbody>\n",
              "</table>\n"
            ]
          },
          "metadata": {},
          "execution_count": 61
        }
      ]
    },
    {
      "cell_type": "markdown",
      "source": [
        "#Window Functions"
      ],
      "metadata": {
        "id": "p1v2XtGa1QOq"
      }
    },
    {
      "cell_type": "code",
      "source": [
        "sql = \"select deptid, lastname, salary, \\\n",
        "    avg(salary) over (partition by deptid) \\\n",
        "    from empl\"\n",
        "runSelect(sql)"
      ],
      "metadata": {
        "colab": {
          "base_uri": "https://localhost:8080/",
          "height": 457
        },
        "id": "ffpu5hXo1TfJ",
        "outputId": "2c0ac229-230a-4b1c-a2a3-c2828f7d42ba"
      },
      "execution_count": 62,
      "outputs": [
        {
          "output_type": "execute_result",
          "data": {
            "text/plain": [
              "<pandas.io.formats.style.Styler at 0x7e9c250c8580>"
            ],
            "text/html": [
              "<style type=\"text/css\">\n",
              "</style>\n",
              "<table id=\"T_af411\" class=\"dataframe\">\n",
              "  <thead>\n",
              "    <tr>\n",
              "      <th id=\"T_af411_level0_col0\" class=\"col_heading level0 col0\" >deptid</th>\n",
              "      <th id=\"T_af411_level0_col1\" class=\"col_heading level0 col1\" >lastname</th>\n",
              "      <th id=\"T_af411_level0_col2\" class=\"col_heading level0 col2\" >salary</th>\n",
              "      <th id=\"T_af411_level0_col3\" class=\"col_heading level0 col3\" >avg</th>\n",
              "    </tr>\n",
              "  </thead>\n",
              "  <tbody>\n",
              "    <tr>\n",
              "      <td id=\"T_af411_row0_col0\" class=\"data row0 col0\" >10</td>\n",
              "      <td id=\"T_af411_row0_col1\" class=\"data row0 col1\" >Bacchan</td>\n",
              "      <td id=\"T_af411_row0_col2\" class=\"data row0 col2\" >50000</td>\n",
              "      <td id=\"T_af411_row0_col3\" class=\"data row0 col3\" >50000.000000000000</td>\n",
              "    </tr>\n",
              "    <tr>\n",
              "      <td id=\"T_af411_row1_col0\" class=\"data row1 col0\" >10</td>\n",
              "      <td id=\"T_af411_row1_col1\" class=\"data row1 col1\" >Ganesan</td>\n",
              "      <td id=\"T_af411_row1_col2\" class=\"data row1 col2\" >60000</td>\n",
              "      <td id=\"T_af411_row1_col3\" class=\"data row1 col3\" >50000.000000000000</td>\n",
              "    </tr>\n",
              "    <tr>\n",
              "      <td id=\"T_af411_row2_col0\" class=\"data row2 col0\" >10</td>\n",
              "      <td id=\"T_af411_row2_col1\" class=\"data row2 col1\" >Karthikeyan</td>\n",
              "      <td id=\"T_af411_row2_col2\" class=\"data row2 col2\" >40000</td>\n",
              "      <td id=\"T_af411_row2_col3\" class=\"data row2 col3\" >50000.000000000000</td>\n",
              "    </tr>\n",
              "    <tr>\n",
              "      <td id=\"T_af411_row3_col0\" class=\"data row3 col0\" >20</td>\n",
              "      <td id=\"T_af411_row3_col1\" class=\"data row3 col1\" >Dikshit</td>\n",
              "      <td id=\"T_af411_row3_col2\" class=\"data row3 col2\" >10000</td>\n",
              "      <td id=\"T_af411_row3_col3\" class=\"data row3 col3\" >18333.333333333333</td>\n",
              "    </tr>\n",
              "    <tr>\n",
              "      <td id=\"T_af411_row4_col0\" class=\"data row4 col0\" >20</td>\n",
              "      <td id=\"T_af411_row4_col1\" class=\"data row4 col1\" >Khan</td>\n",
              "      <td id=\"T_af411_row4_col2\" class=\"data row4 col2\" >30000</td>\n",
              "      <td id=\"T_af411_row4_col3\" class=\"data row4 col3\" >18333.333333333333</td>\n",
              "    </tr>\n",
              "    <tr>\n",
              "      <td id=\"T_af411_row5_col0\" class=\"data row5 col0\" >20</td>\n",
              "      <td id=\"T_af411_row5_col1\" class=\"data row5 col1\" >Sehwag</td>\n",
              "      <td id=\"T_af411_row5_col2\" class=\"data row5 col2\" >15000</td>\n",
              "      <td id=\"T_af411_row5_col3\" class=\"data row5 col3\" >18333.333333333333</td>\n",
              "    </tr>\n",
              "    <tr>\n",
              "      <td id=\"T_af411_row6_col0\" class=\"data row6 col0\" >30</td>\n",
              "      <td id=\"T_af411_row6_col1\" class=\"data row6 col1\" >Mirza</td>\n",
              "      <td id=\"T_af411_row6_col2\" class=\"data row6 col2\" >25000</td>\n",
              "      <td id=\"T_af411_row6_col3\" class=\"data row6 col3\" >25666.666666666667</td>\n",
              "    </tr>\n",
              "    <tr>\n",
              "      <td id=\"T_af411_row7_col0\" class=\"data row7 col0\" >30</td>\n",
              "      <td id=\"T_af411_row7_col1\" class=\"data row7 col1\" >Dravid</td>\n",
              "      <td id=\"T_af411_row7_col2\" class=\"data row7 col2\" >40000</td>\n",
              "      <td id=\"T_af411_row7_col3\" class=\"data row7 col3\" >25666.666666666667</td>\n",
              "    </tr>\n",
              "    <tr>\n",
              "      <td id=\"T_af411_row8_col0\" class=\"data row8 col0\" >30</td>\n",
              "      <td id=\"T_af411_row8_col1\" class=\"data row8 col1\" >Dalmia</td>\n",
              "      <td id=\"T_af411_row8_col2\" class=\"data row8 col2\" >12000</td>\n",
              "      <td id=\"T_af411_row8_col3\" class=\"data row8 col3\" >25666.666666666667</td>\n",
              "    </tr>\n",
              "    <tr>\n",
              "      <td id=\"T_af411_row9_col0\" class=\"data row9 col0\" >40</td>\n",
              "      <td id=\"T_af411_row9_col1\" class=\"data row9 col1\" >Ganguly</td>\n",
              "      <td id=\"T_af411_row9_col2\" class=\"data row9 col2\" >20000</td>\n",
              "      <td id=\"T_af411_row9_col3\" class=\"data row9 col3\" >18000.000000000000</td>\n",
              "    </tr>\n",
              "    <tr>\n",
              "      <td id=\"T_af411_row10_col0\" class=\"data row10 col0\" >40</td>\n",
              "      <td id=\"T_af411_row10_col1\" class=\"data row10 col1\" >Dhoni</td>\n",
              "      <td id=\"T_af411_row10_col2\" class=\"data row10 col2\" >9000</td>\n",
              "      <td id=\"T_af411_row10_col3\" class=\"data row10 col3\" >18000.000000000000</td>\n",
              "    </tr>\n",
              "    <tr>\n",
              "      <td id=\"T_af411_row11_col0\" class=\"data row11 col0\" >40</td>\n",
              "      <td id=\"T_af411_row11_col1\" class=\"data row11 col1\" >Mukherjee</td>\n",
              "      <td id=\"T_af411_row11_col2\" class=\"data row11 col2\" >25000</td>\n",
              "      <td id=\"T_af411_row11_col3\" class=\"data row11 col3\" >18000.000000000000</td>\n",
              "    </tr>\n",
              "    <tr>\n",
              "      <td id=\"T_af411_row12_col0\" class=\"data row12 col0\" >70</td>\n",
              "      <td id=\"T_af411_row12_col1\" class=\"data row12 col1\" >Sunil</td>\n",
              "      <td id=\"T_af411_row12_col2\" class=\"data row12 col2\" >40000</td>\n",
              "      <td id=\"T_af411_row12_col3\" class=\"data row12 col3\" >40000.000000000000</td>\n",
              "    </tr>\n",
              "  </tbody>\n",
              "</table>\n"
            ]
          },
          "metadata": {},
          "execution_count": 62
        }
      ]
    },
    {
      "cell_type": "code",
      "source": [
        "sql = \"select deptname, lastname, salary, avg(salary) over (partition by deptname) from empl  inner join dept using(deptid)\"\n",
        "runSelect(sql)"
      ],
      "metadata": {
        "colab": {
          "base_uri": "https://localhost:8080/",
          "height": 426
        },
        "id": "JZC4y3tg2o8A",
        "outputId": "f9e9c6dc-c053-4913-e01a-2f68de6578c8"
      },
      "execution_count": 63,
      "outputs": [
        {
          "output_type": "execute_result",
          "data": {
            "text/plain": [
              "<pandas.io.formats.style.Styler at 0x7e9c250c8fa0>"
            ],
            "text/html": [
              "<style type=\"text/css\">\n",
              "</style>\n",
              "<table id=\"T_eec06\" class=\"dataframe\">\n",
              "  <thead>\n",
              "    <tr>\n",
              "      <th id=\"T_eec06_level0_col0\" class=\"col_heading level0 col0\" >deptname</th>\n",
              "      <th id=\"T_eec06_level0_col1\" class=\"col_heading level0 col1\" >lastname</th>\n",
              "      <th id=\"T_eec06_level0_col2\" class=\"col_heading level0 col2\" >salary</th>\n",
              "      <th id=\"T_eec06_level0_col3\" class=\"col_heading level0 col3\" >avg</th>\n",
              "    </tr>\n",
              "  </thead>\n",
              "  <tbody>\n",
              "    <tr>\n",
              "      <td id=\"T_eec06_row0_col0\" class=\"data row0 col0\" >Accounts</td>\n",
              "      <td id=\"T_eec06_row0_col1\" class=\"data row0 col1\" >Dravid</td>\n",
              "      <td id=\"T_eec06_row0_col2\" class=\"data row0 col2\" >40000</td>\n",
              "      <td id=\"T_eec06_row0_col3\" class=\"data row0 col3\" >25666.666666666667</td>\n",
              "    </tr>\n",
              "    <tr>\n",
              "      <td id=\"T_eec06_row1_col0\" class=\"data row1 col0\" >Accounts</td>\n",
              "      <td id=\"T_eec06_row1_col1\" class=\"data row1 col1\" >Dalmia</td>\n",
              "      <td id=\"T_eec06_row1_col2\" class=\"data row1 col2\" >12000</td>\n",
              "      <td id=\"T_eec06_row1_col3\" class=\"data row1 col3\" >25666.666666666667</td>\n",
              "    </tr>\n",
              "    <tr>\n",
              "      <td id=\"T_eec06_row2_col0\" class=\"data row2 col0\" >Accounts</td>\n",
              "      <td id=\"T_eec06_row2_col1\" class=\"data row2 col1\" >Mirza</td>\n",
              "      <td id=\"T_eec06_row2_col2\" class=\"data row2 col2\" >25000</td>\n",
              "      <td id=\"T_eec06_row2_col3\" class=\"data row2 col3\" >25666.666666666667</td>\n",
              "    </tr>\n",
              "    <tr>\n",
              "      <td id=\"T_eec06_row3_col0\" class=\"data row3 col0\" >Corporate</td>\n",
              "      <td id=\"T_eec06_row3_col1\" class=\"data row3 col1\" >Karthikeyan</td>\n",
              "      <td id=\"T_eec06_row3_col2\" class=\"data row3 col2\" >40000</td>\n",
              "      <td id=\"T_eec06_row3_col3\" class=\"data row3 col3\" >50000.000000000000</td>\n",
              "    </tr>\n",
              "    <tr>\n",
              "      <td id=\"T_eec06_row4_col0\" class=\"data row4 col0\" >Corporate</td>\n",
              "      <td id=\"T_eec06_row4_col1\" class=\"data row4 col1\" >Ganesan</td>\n",
              "      <td id=\"T_eec06_row4_col2\" class=\"data row4 col2\" >60000</td>\n",
              "      <td id=\"T_eec06_row4_col3\" class=\"data row4 col3\" >50000.000000000000</td>\n",
              "    </tr>\n",
              "    <tr>\n",
              "      <td id=\"T_eec06_row5_col0\" class=\"data row5 col0\" >Corporate</td>\n",
              "      <td id=\"T_eec06_row5_col1\" class=\"data row5 col1\" >Bacchan</td>\n",
              "      <td id=\"T_eec06_row5_col2\" class=\"data row5 col2\" >50000</td>\n",
              "      <td id=\"T_eec06_row5_col3\" class=\"data row5 col3\" >50000.000000000000</td>\n",
              "    </tr>\n",
              "    <tr>\n",
              "      <td id=\"T_eec06_row6_col0\" class=\"data row6 col0\" >Production</td>\n",
              "      <td id=\"T_eec06_row6_col1\" class=\"data row6 col1\" >Ganguly</td>\n",
              "      <td id=\"T_eec06_row6_col2\" class=\"data row6 col2\" >20000</td>\n",
              "      <td id=\"T_eec06_row6_col3\" class=\"data row6 col3\" >18000.000000000000</td>\n",
              "    </tr>\n",
              "    <tr>\n",
              "      <td id=\"T_eec06_row7_col0\" class=\"data row7 col0\" >Production</td>\n",
              "      <td id=\"T_eec06_row7_col1\" class=\"data row7 col1\" >Dhoni</td>\n",
              "      <td id=\"T_eec06_row7_col2\" class=\"data row7 col2\" >9000</td>\n",
              "      <td id=\"T_eec06_row7_col3\" class=\"data row7 col3\" >18000.000000000000</td>\n",
              "    </tr>\n",
              "    <tr>\n",
              "      <td id=\"T_eec06_row8_col0\" class=\"data row8 col0\" >Production</td>\n",
              "      <td id=\"T_eec06_row8_col1\" class=\"data row8 col1\" >Mukherjee</td>\n",
              "      <td id=\"T_eec06_row8_col2\" class=\"data row8 col2\" >25000</td>\n",
              "      <td id=\"T_eec06_row8_col3\" class=\"data row8 col3\" >18000.000000000000</td>\n",
              "    </tr>\n",
              "    <tr>\n",
              "      <td id=\"T_eec06_row9_col0\" class=\"data row9 col0\" >Sales</td>\n",
              "      <td id=\"T_eec06_row9_col1\" class=\"data row9 col1\" >Dikshit</td>\n",
              "      <td id=\"T_eec06_row9_col2\" class=\"data row9 col2\" >10000</td>\n",
              "      <td id=\"T_eec06_row9_col3\" class=\"data row9 col3\" >18333.333333333333</td>\n",
              "    </tr>\n",
              "    <tr>\n",
              "      <td id=\"T_eec06_row10_col0\" class=\"data row10 col0\" >Sales</td>\n",
              "      <td id=\"T_eec06_row10_col1\" class=\"data row10 col1\" >Khan</td>\n",
              "      <td id=\"T_eec06_row10_col2\" class=\"data row10 col2\" >30000</td>\n",
              "      <td id=\"T_eec06_row10_col3\" class=\"data row10 col3\" >18333.333333333333</td>\n",
              "    </tr>\n",
              "    <tr>\n",
              "      <td id=\"T_eec06_row11_col0\" class=\"data row11 col0\" >Sales</td>\n",
              "      <td id=\"T_eec06_row11_col1\" class=\"data row11 col1\" >Sehwag</td>\n",
              "      <td id=\"T_eec06_row11_col2\" class=\"data row11 col2\" >15000</td>\n",
              "      <td id=\"T_eec06_row11_col3\" class=\"data row11 col3\" >18333.333333333333</td>\n",
              "    </tr>\n",
              "  </tbody>\n",
              "</table>\n"
            ]
          },
          "metadata": {},
          "execution_count": 63
        }
      ]
    },
    {
      "cell_type": "code",
      "source": [
        "sql = \"select deptname, lastname, salary, \\\n",
        "    row_number() over (partition by deptname order by salary) \\\n",
        "    from empl  inner join dept using(deptid)\"\n",
        "runSelect(sql)"
      ],
      "metadata": {
        "colab": {
          "base_uri": "https://localhost:8080/",
          "height": 426
        },
        "id": "xgP9VShE4Spl",
        "outputId": "b6eb2d98-4e71-4268-e6d6-650a3f04915d"
      },
      "execution_count": 64,
      "outputs": [
        {
          "output_type": "execute_result",
          "data": {
            "text/plain": [
              "<pandas.io.formats.style.Styler at 0x7e9c250c9f30>"
            ],
            "text/html": [
              "<style type=\"text/css\">\n",
              "</style>\n",
              "<table id=\"T_d1812\" class=\"dataframe\">\n",
              "  <thead>\n",
              "    <tr>\n",
              "      <th id=\"T_d1812_level0_col0\" class=\"col_heading level0 col0\" >deptname</th>\n",
              "      <th id=\"T_d1812_level0_col1\" class=\"col_heading level0 col1\" >lastname</th>\n",
              "      <th id=\"T_d1812_level0_col2\" class=\"col_heading level0 col2\" >salary</th>\n",
              "      <th id=\"T_d1812_level0_col3\" class=\"col_heading level0 col3\" >row_number</th>\n",
              "    </tr>\n",
              "  </thead>\n",
              "  <tbody>\n",
              "    <tr>\n",
              "      <td id=\"T_d1812_row0_col0\" class=\"data row0 col0\" >Accounts</td>\n",
              "      <td id=\"T_d1812_row0_col1\" class=\"data row0 col1\" >Dalmia</td>\n",
              "      <td id=\"T_d1812_row0_col2\" class=\"data row0 col2\" >12000</td>\n",
              "      <td id=\"T_d1812_row0_col3\" class=\"data row0 col3\" >1</td>\n",
              "    </tr>\n",
              "    <tr>\n",
              "      <td id=\"T_d1812_row1_col0\" class=\"data row1 col0\" >Accounts</td>\n",
              "      <td id=\"T_d1812_row1_col1\" class=\"data row1 col1\" >Mirza</td>\n",
              "      <td id=\"T_d1812_row1_col2\" class=\"data row1 col2\" >25000</td>\n",
              "      <td id=\"T_d1812_row1_col3\" class=\"data row1 col3\" >2</td>\n",
              "    </tr>\n",
              "    <tr>\n",
              "      <td id=\"T_d1812_row2_col0\" class=\"data row2 col0\" >Accounts</td>\n",
              "      <td id=\"T_d1812_row2_col1\" class=\"data row2 col1\" >Dravid</td>\n",
              "      <td id=\"T_d1812_row2_col2\" class=\"data row2 col2\" >40000</td>\n",
              "      <td id=\"T_d1812_row2_col3\" class=\"data row2 col3\" >3</td>\n",
              "    </tr>\n",
              "    <tr>\n",
              "      <td id=\"T_d1812_row3_col0\" class=\"data row3 col0\" >Corporate</td>\n",
              "      <td id=\"T_d1812_row3_col1\" class=\"data row3 col1\" >Karthikeyan</td>\n",
              "      <td id=\"T_d1812_row3_col2\" class=\"data row3 col2\" >40000</td>\n",
              "      <td id=\"T_d1812_row3_col3\" class=\"data row3 col3\" >1</td>\n",
              "    </tr>\n",
              "    <tr>\n",
              "      <td id=\"T_d1812_row4_col0\" class=\"data row4 col0\" >Corporate</td>\n",
              "      <td id=\"T_d1812_row4_col1\" class=\"data row4 col1\" >Bacchan</td>\n",
              "      <td id=\"T_d1812_row4_col2\" class=\"data row4 col2\" >50000</td>\n",
              "      <td id=\"T_d1812_row4_col3\" class=\"data row4 col3\" >2</td>\n",
              "    </tr>\n",
              "    <tr>\n",
              "      <td id=\"T_d1812_row5_col0\" class=\"data row5 col0\" >Corporate</td>\n",
              "      <td id=\"T_d1812_row5_col1\" class=\"data row5 col1\" >Ganesan</td>\n",
              "      <td id=\"T_d1812_row5_col2\" class=\"data row5 col2\" >60000</td>\n",
              "      <td id=\"T_d1812_row5_col3\" class=\"data row5 col3\" >3</td>\n",
              "    </tr>\n",
              "    <tr>\n",
              "      <td id=\"T_d1812_row6_col0\" class=\"data row6 col0\" >Production</td>\n",
              "      <td id=\"T_d1812_row6_col1\" class=\"data row6 col1\" >Dhoni</td>\n",
              "      <td id=\"T_d1812_row6_col2\" class=\"data row6 col2\" >9000</td>\n",
              "      <td id=\"T_d1812_row6_col3\" class=\"data row6 col3\" >1</td>\n",
              "    </tr>\n",
              "    <tr>\n",
              "      <td id=\"T_d1812_row7_col0\" class=\"data row7 col0\" >Production</td>\n",
              "      <td id=\"T_d1812_row7_col1\" class=\"data row7 col1\" >Ganguly</td>\n",
              "      <td id=\"T_d1812_row7_col2\" class=\"data row7 col2\" >20000</td>\n",
              "      <td id=\"T_d1812_row7_col3\" class=\"data row7 col3\" >2</td>\n",
              "    </tr>\n",
              "    <tr>\n",
              "      <td id=\"T_d1812_row8_col0\" class=\"data row8 col0\" >Production</td>\n",
              "      <td id=\"T_d1812_row8_col1\" class=\"data row8 col1\" >Mukherjee</td>\n",
              "      <td id=\"T_d1812_row8_col2\" class=\"data row8 col2\" >25000</td>\n",
              "      <td id=\"T_d1812_row8_col3\" class=\"data row8 col3\" >3</td>\n",
              "    </tr>\n",
              "    <tr>\n",
              "      <td id=\"T_d1812_row9_col0\" class=\"data row9 col0\" >Sales</td>\n",
              "      <td id=\"T_d1812_row9_col1\" class=\"data row9 col1\" >Dikshit</td>\n",
              "      <td id=\"T_d1812_row9_col2\" class=\"data row9 col2\" >10000</td>\n",
              "      <td id=\"T_d1812_row9_col3\" class=\"data row9 col3\" >1</td>\n",
              "    </tr>\n",
              "    <tr>\n",
              "      <td id=\"T_d1812_row10_col0\" class=\"data row10 col0\" >Sales</td>\n",
              "      <td id=\"T_d1812_row10_col1\" class=\"data row10 col1\" >Sehwag</td>\n",
              "      <td id=\"T_d1812_row10_col2\" class=\"data row10 col2\" >15000</td>\n",
              "      <td id=\"T_d1812_row10_col3\" class=\"data row10 col3\" >2</td>\n",
              "    </tr>\n",
              "    <tr>\n",
              "      <td id=\"T_d1812_row11_col0\" class=\"data row11 col0\" >Sales</td>\n",
              "      <td id=\"T_d1812_row11_col1\" class=\"data row11 col1\" >Khan</td>\n",
              "      <td id=\"T_d1812_row11_col2\" class=\"data row11 col2\" >30000</td>\n",
              "      <td id=\"T_d1812_row11_col3\" class=\"data row11 col3\" >3</td>\n",
              "    </tr>\n",
              "  </tbody>\n",
              "</table>\n"
            ]
          },
          "metadata": {},
          "execution_count": 64
        }
      ]
    },
    {
      "cell_type": "code",
      "source": [
        "sql = \"select deptname, lastname, salary, \\\n",
        "        rank() over (partition by deptname order by salary desc) \\\n",
        "        from empl  inner join dept using(deptid)\"\n",
        "runSelect(sql)"
      ],
      "metadata": {
        "colab": {
          "base_uri": "https://localhost:8080/",
          "height": 426
        },
        "id": "rL_1sHBa4ply",
        "outputId": "09fd66ee-0adb-4eaf-fb83-44abe7ddffc9"
      },
      "execution_count": 65,
      "outputs": [
        {
          "output_type": "execute_result",
          "data": {
            "text/plain": [
              "<pandas.io.formats.style.Styler at 0x7e9c250ca5f0>"
            ],
            "text/html": [
              "<style type=\"text/css\">\n",
              "</style>\n",
              "<table id=\"T_998da\" class=\"dataframe\">\n",
              "  <thead>\n",
              "    <tr>\n",
              "      <th id=\"T_998da_level0_col0\" class=\"col_heading level0 col0\" >deptname</th>\n",
              "      <th id=\"T_998da_level0_col1\" class=\"col_heading level0 col1\" >lastname</th>\n",
              "      <th id=\"T_998da_level0_col2\" class=\"col_heading level0 col2\" >salary</th>\n",
              "      <th id=\"T_998da_level0_col3\" class=\"col_heading level0 col3\" >rank</th>\n",
              "    </tr>\n",
              "  </thead>\n",
              "  <tbody>\n",
              "    <tr>\n",
              "      <td id=\"T_998da_row0_col0\" class=\"data row0 col0\" >Accounts</td>\n",
              "      <td id=\"T_998da_row0_col1\" class=\"data row0 col1\" >Dravid</td>\n",
              "      <td id=\"T_998da_row0_col2\" class=\"data row0 col2\" >40000</td>\n",
              "      <td id=\"T_998da_row0_col3\" class=\"data row0 col3\" >1</td>\n",
              "    </tr>\n",
              "    <tr>\n",
              "      <td id=\"T_998da_row1_col0\" class=\"data row1 col0\" >Accounts</td>\n",
              "      <td id=\"T_998da_row1_col1\" class=\"data row1 col1\" >Mirza</td>\n",
              "      <td id=\"T_998da_row1_col2\" class=\"data row1 col2\" >25000</td>\n",
              "      <td id=\"T_998da_row1_col3\" class=\"data row1 col3\" >2</td>\n",
              "    </tr>\n",
              "    <tr>\n",
              "      <td id=\"T_998da_row2_col0\" class=\"data row2 col0\" >Accounts</td>\n",
              "      <td id=\"T_998da_row2_col1\" class=\"data row2 col1\" >Dalmia</td>\n",
              "      <td id=\"T_998da_row2_col2\" class=\"data row2 col2\" >12000</td>\n",
              "      <td id=\"T_998da_row2_col3\" class=\"data row2 col3\" >3</td>\n",
              "    </tr>\n",
              "    <tr>\n",
              "      <td id=\"T_998da_row3_col0\" class=\"data row3 col0\" >Corporate</td>\n",
              "      <td id=\"T_998da_row3_col1\" class=\"data row3 col1\" >Ganesan</td>\n",
              "      <td id=\"T_998da_row3_col2\" class=\"data row3 col2\" >60000</td>\n",
              "      <td id=\"T_998da_row3_col3\" class=\"data row3 col3\" >1</td>\n",
              "    </tr>\n",
              "    <tr>\n",
              "      <td id=\"T_998da_row4_col0\" class=\"data row4 col0\" >Corporate</td>\n",
              "      <td id=\"T_998da_row4_col1\" class=\"data row4 col1\" >Bacchan</td>\n",
              "      <td id=\"T_998da_row4_col2\" class=\"data row4 col2\" >50000</td>\n",
              "      <td id=\"T_998da_row4_col3\" class=\"data row4 col3\" >2</td>\n",
              "    </tr>\n",
              "    <tr>\n",
              "      <td id=\"T_998da_row5_col0\" class=\"data row5 col0\" >Corporate</td>\n",
              "      <td id=\"T_998da_row5_col1\" class=\"data row5 col1\" >Karthikeyan</td>\n",
              "      <td id=\"T_998da_row5_col2\" class=\"data row5 col2\" >40000</td>\n",
              "      <td id=\"T_998da_row5_col3\" class=\"data row5 col3\" >3</td>\n",
              "    </tr>\n",
              "    <tr>\n",
              "      <td id=\"T_998da_row6_col0\" class=\"data row6 col0\" >Production</td>\n",
              "      <td id=\"T_998da_row6_col1\" class=\"data row6 col1\" >Mukherjee</td>\n",
              "      <td id=\"T_998da_row6_col2\" class=\"data row6 col2\" >25000</td>\n",
              "      <td id=\"T_998da_row6_col3\" class=\"data row6 col3\" >1</td>\n",
              "    </tr>\n",
              "    <tr>\n",
              "      <td id=\"T_998da_row7_col0\" class=\"data row7 col0\" >Production</td>\n",
              "      <td id=\"T_998da_row7_col1\" class=\"data row7 col1\" >Ganguly</td>\n",
              "      <td id=\"T_998da_row7_col2\" class=\"data row7 col2\" >20000</td>\n",
              "      <td id=\"T_998da_row7_col3\" class=\"data row7 col3\" >2</td>\n",
              "    </tr>\n",
              "    <tr>\n",
              "      <td id=\"T_998da_row8_col0\" class=\"data row8 col0\" >Production</td>\n",
              "      <td id=\"T_998da_row8_col1\" class=\"data row8 col1\" >Dhoni</td>\n",
              "      <td id=\"T_998da_row8_col2\" class=\"data row8 col2\" >9000</td>\n",
              "      <td id=\"T_998da_row8_col3\" class=\"data row8 col3\" >3</td>\n",
              "    </tr>\n",
              "    <tr>\n",
              "      <td id=\"T_998da_row9_col0\" class=\"data row9 col0\" >Sales</td>\n",
              "      <td id=\"T_998da_row9_col1\" class=\"data row9 col1\" >Khan</td>\n",
              "      <td id=\"T_998da_row9_col2\" class=\"data row9 col2\" >30000</td>\n",
              "      <td id=\"T_998da_row9_col3\" class=\"data row9 col3\" >1</td>\n",
              "    </tr>\n",
              "    <tr>\n",
              "      <td id=\"T_998da_row10_col0\" class=\"data row10 col0\" >Sales</td>\n",
              "      <td id=\"T_998da_row10_col1\" class=\"data row10 col1\" >Sehwag</td>\n",
              "      <td id=\"T_998da_row10_col2\" class=\"data row10 col2\" >15000</td>\n",
              "      <td id=\"T_998da_row10_col3\" class=\"data row10 col3\" >2</td>\n",
              "    </tr>\n",
              "    <tr>\n",
              "      <td id=\"T_998da_row11_col0\" class=\"data row11 col0\" >Sales</td>\n",
              "      <td id=\"T_998da_row11_col1\" class=\"data row11 col1\" >Dikshit</td>\n",
              "      <td id=\"T_998da_row11_col2\" class=\"data row11 col2\" >10000</td>\n",
              "      <td id=\"T_998da_row11_col3\" class=\"data row11 col3\" >3</td>\n",
              "    </tr>\n",
              "  </tbody>\n",
              "</table>\n"
            ]
          },
          "metadata": {},
          "execution_count": 65
        }
      ]
    },
    {
      "cell_type": "code",
      "source": [
        "sql = \"select deptname, lastname, salary, \\\n",
        "first_value(salary) over (partition by deptname order by salary) as deptlow, \\\n",
        "last_value(salary) over (partition by deptname order by salary RANGE BETWEEN UNBOUNDED PRECEDING AND UNBOUNDED FOLLOWING) as depthigh \\\n",
        "from empl  inner join dept using(deptid)\"\n",
        "runSelect(sql)"
      ],
      "metadata": {
        "colab": {
          "base_uri": "https://localhost:8080/",
          "height": 426
        },
        "id": "RO428SVT5T3d",
        "outputId": "a8fda5ea-2730-4b2a-9126-5dc15c011b22"
      },
      "execution_count": 66,
      "outputs": [
        {
          "output_type": "execute_result",
          "data": {
            "text/plain": [
              "<pandas.io.formats.style.Styler at 0x7e9c250c9a80>"
            ],
            "text/html": [
              "<style type=\"text/css\">\n",
              "</style>\n",
              "<table id=\"T_171f3\" class=\"dataframe\">\n",
              "  <thead>\n",
              "    <tr>\n",
              "      <th id=\"T_171f3_level0_col0\" class=\"col_heading level0 col0\" >deptname</th>\n",
              "      <th id=\"T_171f3_level0_col1\" class=\"col_heading level0 col1\" >lastname</th>\n",
              "      <th id=\"T_171f3_level0_col2\" class=\"col_heading level0 col2\" >salary</th>\n",
              "      <th id=\"T_171f3_level0_col3\" class=\"col_heading level0 col3\" >deptlow</th>\n",
              "      <th id=\"T_171f3_level0_col4\" class=\"col_heading level0 col4\" >depthigh</th>\n",
              "    </tr>\n",
              "  </thead>\n",
              "  <tbody>\n",
              "    <tr>\n",
              "      <td id=\"T_171f3_row0_col0\" class=\"data row0 col0\" >Accounts</td>\n",
              "      <td id=\"T_171f3_row0_col1\" class=\"data row0 col1\" >Dalmia</td>\n",
              "      <td id=\"T_171f3_row0_col2\" class=\"data row0 col2\" >12000</td>\n",
              "      <td id=\"T_171f3_row0_col3\" class=\"data row0 col3\" >12000</td>\n",
              "      <td id=\"T_171f3_row0_col4\" class=\"data row0 col4\" >40000</td>\n",
              "    </tr>\n",
              "    <tr>\n",
              "      <td id=\"T_171f3_row1_col0\" class=\"data row1 col0\" >Accounts</td>\n",
              "      <td id=\"T_171f3_row1_col1\" class=\"data row1 col1\" >Mirza</td>\n",
              "      <td id=\"T_171f3_row1_col2\" class=\"data row1 col2\" >25000</td>\n",
              "      <td id=\"T_171f3_row1_col3\" class=\"data row1 col3\" >12000</td>\n",
              "      <td id=\"T_171f3_row1_col4\" class=\"data row1 col4\" >40000</td>\n",
              "    </tr>\n",
              "    <tr>\n",
              "      <td id=\"T_171f3_row2_col0\" class=\"data row2 col0\" >Accounts</td>\n",
              "      <td id=\"T_171f3_row2_col1\" class=\"data row2 col1\" >Dravid</td>\n",
              "      <td id=\"T_171f3_row2_col2\" class=\"data row2 col2\" >40000</td>\n",
              "      <td id=\"T_171f3_row2_col3\" class=\"data row2 col3\" >12000</td>\n",
              "      <td id=\"T_171f3_row2_col4\" class=\"data row2 col4\" >40000</td>\n",
              "    </tr>\n",
              "    <tr>\n",
              "      <td id=\"T_171f3_row3_col0\" class=\"data row3 col0\" >Corporate</td>\n",
              "      <td id=\"T_171f3_row3_col1\" class=\"data row3 col1\" >Karthikeyan</td>\n",
              "      <td id=\"T_171f3_row3_col2\" class=\"data row3 col2\" >40000</td>\n",
              "      <td id=\"T_171f3_row3_col3\" class=\"data row3 col3\" >40000</td>\n",
              "      <td id=\"T_171f3_row3_col4\" class=\"data row3 col4\" >60000</td>\n",
              "    </tr>\n",
              "    <tr>\n",
              "      <td id=\"T_171f3_row4_col0\" class=\"data row4 col0\" >Corporate</td>\n",
              "      <td id=\"T_171f3_row4_col1\" class=\"data row4 col1\" >Bacchan</td>\n",
              "      <td id=\"T_171f3_row4_col2\" class=\"data row4 col2\" >50000</td>\n",
              "      <td id=\"T_171f3_row4_col3\" class=\"data row4 col3\" >40000</td>\n",
              "      <td id=\"T_171f3_row4_col4\" class=\"data row4 col4\" >60000</td>\n",
              "    </tr>\n",
              "    <tr>\n",
              "      <td id=\"T_171f3_row5_col0\" class=\"data row5 col0\" >Corporate</td>\n",
              "      <td id=\"T_171f3_row5_col1\" class=\"data row5 col1\" >Ganesan</td>\n",
              "      <td id=\"T_171f3_row5_col2\" class=\"data row5 col2\" >60000</td>\n",
              "      <td id=\"T_171f3_row5_col3\" class=\"data row5 col3\" >40000</td>\n",
              "      <td id=\"T_171f3_row5_col4\" class=\"data row5 col4\" >60000</td>\n",
              "    </tr>\n",
              "    <tr>\n",
              "      <td id=\"T_171f3_row6_col0\" class=\"data row6 col0\" >Production</td>\n",
              "      <td id=\"T_171f3_row6_col1\" class=\"data row6 col1\" >Dhoni</td>\n",
              "      <td id=\"T_171f3_row6_col2\" class=\"data row6 col2\" >9000</td>\n",
              "      <td id=\"T_171f3_row6_col3\" class=\"data row6 col3\" >9000</td>\n",
              "      <td id=\"T_171f3_row6_col4\" class=\"data row6 col4\" >25000</td>\n",
              "    </tr>\n",
              "    <tr>\n",
              "      <td id=\"T_171f3_row7_col0\" class=\"data row7 col0\" >Production</td>\n",
              "      <td id=\"T_171f3_row7_col1\" class=\"data row7 col1\" >Ganguly</td>\n",
              "      <td id=\"T_171f3_row7_col2\" class=\"data row7 col2\" >20000</td>\n",
              "      <td id=\"T_171f3_row7_col3\" class=\"data row7 col3\" >9000</td>\n",
              "      <td id=\"T_171f3_row7_col4\" class=\"data row7 col4\" >25000</td>\n",
              "    </tr>\n",
              "    <tr>\n",
              "      <td id=\"T_171f3_row8_col0\" class=\"data row8 col0\" >Production</td>\n",
              "      <td id=\"T_171f3_row8_col1\" class=\"data row8 col1\" >Mukherjee</td>\n",
              "      <td id=\"T_171f3_row8_col2\" class=\"data row8 col2\" >25000</td>\n",
              "      <td id=\"T_171f3_row8_col3\" class=\"data row8 col3\" >9000</td>\n",
              "      <td id=\"T_171f3_row8_col4\" class=\"data row8 col4\" >25000</td>\n",
              "    </tr>\n",
              "    <tr>\n",
              "      <td id=\"T_171f3_row9_col0\" class=\"data row9 col0\" >Sales</td>\n",
              "      <td id=\"T_171f3_row9_col1\" class=\"data row9 col1\" >Dikshit</td>\n",
              "      <td id=\"T_171f3_row9_col2\" class=\"data row9 col2\" >10000</td>\n",
              "      <td id=\"T_171f3_row9_col3\" class=\"data row9 col3\" >10000</td>\n",
              "      <td id=\"T_171f3_row9_col4\" class=\"data row9 col4\" >30000</td>\n",
              "    </tr>\n",
              "    <tr>\n",
              "      <td id=\"T_171f3_row10_col0\" class=\"data row10 col0\" >Sales</td>\n",
              "      <td id=\"T_171f3_row10_col1\" class=\"data row10 col1\" >Sehwag</td>\n",
              "      <td id=\"T_171f3_row10_col2\" class=\"data row10 col2\" >15000</td>\n",
              "      <td id=\"T_171f3_row10_col3\" class=\"data row10 col3\" >10000</td>\n",
              "      <td id=\"T_171f3_row10_col4\" class=\"data row10 col4\" >30000</td>\n",
              "    </tr>\n",
              "    <tr>\n",
              "      <td id=\"T_171f3_row11_col0\" class=\"data row11 col0\" >Sales</td>\n",
              "      <td id=\"T_171f3_row11_col1\" class=\"data row11 col1\" >Khan</td>\n",
              "      <td id=\"T_171f3_row11_col2\" class=\"data row11 col2\" >30000</td>\n",
              "      <td id=\"T_171f3_row11_col3\" class=\"data row11 col3\" >10000</td>\n",
              "      <td id=\"T_171f3_row11_col4\" class=\"data row11 col4\" >30000</td>\n",
              "    </tr>\n",
              "  </tbody>\n",
              "</table>\n"
            ]
          },
          "metadata": {},
          "execution_count": 66
        }
      ]
    },
    {
      "cell_type": "code",
      "source": [
        "sql = \"select deptname, lastname, salary, \\\n",
        "lag(salary,1) over (partition by deptname order by salary) as prev_emp, \\\n",
        "salary - lag(salary,1) over (partition by deptname order by salary) as gap_up \\\n",
        "from empl  inner join dept using(deptid)\"\n",
        "runSelect(sql)"
      ],
      "metadata": {
        "colab": {
          "base_uri": "https://localhost:8080/",
          "height": 426
        },
        "id": "fnG4S0lF8h77",
        "outputId": "ef19bc31-b568-4163-cee9-b3453fb77e1f"
      },
      "execution_count": 67,
      "outputs": [
        {
          "output_type": "execute_result",
          "data": {
            "text/plain": [
              "<pandas.io.formats.style.Styler at 0x7e9c250ca650>"
            ],
            "text/html": [
              "<style type=\"text/css\">\n",
              "</style>\n",
              "<table id=\"T_4ce47\" class=\"dataframe\">\n",
              "  <thead>\n",
              "    <tr>\n",
              "      <th id=\"T_4ce47_level0_col0\" class=\"col_heading level0 col0\" >deptname</th>\n",
              "      <th id=\"T_4ce47_level0_col1\" class=\"col_heading level0 col1\" >lastname</th>\n",
              "      <th id=\"T_4ce47_level0_col2\" class=\"col_heading level0 col2\" >salary</th>\n",
              "      <th id=\"T_4ce47_level0_col3\" class=\"col_heading level0 col3\" >prev_emp</th>\n",
              "      <th id=\"T_4ce47_level0_col4\" class=\"col_heading level0 col4\" >gap_up</th>\n",
              "    </tr>\n",
              "  </thead>\n",
              "  <tbody>\n",
              "    <tr>\n",
              "      <td id=\"T_4ce47_row0_col0\" class=\"data row0 col0\" >Accounts</td>\n",
              "      <td id=\"T_4ce47_row0_col1\" class=\"data row0 col1\" >Dalmia</td>\n",
              "      <td id=\"T_4ce47_row0_col2\" class=\"data row0 col2\" >12000</td>\n",
              "      <td id=\"T_4ce47_row0_col3\" class=\"data row0 col3\" >nan</td>\n",
              "      <td id=\"T_4ce47_row0_col4\" class=\"data row0 col4\" >nan</td>\n",
              "    </tr>\n",
              "    <tr>\n",
              "      <td id=\"T_4ce47_row1_col0\" class=\"data row1 col0\" >Accounts</td>\n",
              "      <td id=\"T_4ce47_row1_col1\" class=\"data row1 col1\" >Mirza</td>\n",
              "      <td id=\"T_4ce47_row1_col2\" class=\"data row1 col2\" >25000</td>\n",
              "      <td id=\"T_4ce47_row1_col3\" class=\"data row1 col3\" >12000.000000</td>\n",
              "      <td id=\"T_4ce47_row1_col4\" class=\"data row1 col4\" >13000.000000</td>\n",
              "    </tr>\n",
              "    <tr>\n",
              "      <td id=\"T_4ce47_row2_col0\" class=\"data row2 col0\" >Accounts</td>\n",
              "      <td id=\"T_4ce47_row2_col1\" class=\"data row2 col1\" >Dravid</td>\n",
              "      <td id=\"T_4ce47_row2_col2\" class=\"data row2 col2\" >40000</td>\n",
              "      <td id=\"T_4ce47_row2_col3\" class=\"data row2 col3\" >25000.000000</td>\n",
              "      <td id=\"T_4ce47_row2_col4\" class=\"data row2 col4\" >15000.000000</td>\n",
              "    </tr>\n",
              "    <tr>\n",
              "      <td id=\"T_4ce47_row3_col0\" class=\"data row3 col0\" >Corporate</td>\n",
              "      <td id=\"T_4ce47_row3_col1\" class=\"data row3 col1\" >Karthikeyan</td>\n",
              "      <td id=\"T_4ce47_row3_col2\" class=\"data row3 col2\" >40000</td>\n",
              "      <td id=\"T_4ce47_row3_col3\" class=\"data row3 col3\" >nan</td>\n",
              "      <td id=\"T_4ce47_row3_col4\" class=\"data row3 col4\" >nan</td>\n",
              "    </tr>\n",
              "    <tr>\n",
              "      <td id=\"T_4ce47_row4_col0\" class=\"data row4 col0\" >Corporate</td>\n",
              "      <td id=\"T_4ce47_row4_col1\" class=\"data row4 col1\" >Bacchan</td>\n",
              "      <td id=\"T_4ce47_row4_col2\" class=\"data row4 col2\" >50000</td>\n",
              "      <td id=\"T_4ce47_row4_col3\" class=\"data row4 col3\" >40000.000000</td>\n",
              "      <td id=\"T_4ce47_row4_col4\" class=\"data row4 col4\" >10000.000000</td>\n",
              "    </tr>\n",
              "    <tr>\n",
              "      <td id=\"T_4ce47_row5_col0\" class=\"data row5 col0\" >Corporate</td>\n",
              "      <td id=\"T_4ce47_row5_col1\" class=\"data row5 col1\" >Ganesan</td>\n",
              "      <td id=\"T_4ce47_row5_col2\" class=\"data row5 col2\" >60000</td>\n",
              "      <td id=\"T_4ce47_row5_col3\" class=\"data row5 col3\" >50000.000000</td>\n",
              "      <td id=\"T_4ce47_row5_col4\" class=\"data row5 col4\" >10000.000000</td>\n",
              "    </tr>\n",
              "    <tr>\n",
              "      <td id=\"T_4ce47_row6_col0\" class=\"data row6 col0\" >Production</td>\n",
              "      <td id=\"T_4ce47_row6_col1\" class=\"data row6 col1\" >Dhoni</td>\n",
              "      <td id=\"T_4ce47_row6_col2\" class=\"data row6 col2\" >9000</td>\n",
              "      <td id=\"T_4ce47_row6_col3\" class=\"data row6 col3\" >nan</td>\n",
              "      <td id=\"T_4ce47_row6_col4\" class=\"data row6 col4\" >nan</td>\n",
              "    </tr>\n",
              "    <tr>\n",
              "      <td id=\"T_4ce47_row7_col0\" class=\"data row7 col0\" >Production</td>\n",
              "      <td id=\"T_4ce47_row7_col1\" class=\"data row7 col1\" >Ganguly</td>\n",
              "      <td id=\"T_4ce47_row7_col2\" class=\"data row7 col2\" >20000</td>\n",
              "      <td id=\"T_4ce47_row7_col3\" class=\"data row7 col3\" >9000.000000</td>\n",
              "      <td id=\"T_4ce47_row7_col4\" class=\"data row7 col4\" >11000.000000</td>\n",
              "    </tr>\n",
              "    <tr>\n",
              "      <td id=\"T_4ce47_row8_col0\" class=\"data row8 col0\" >Production</td>\n",
              "      <td id=\"T_4ce47_row8_col1\" class=\"data row8 col1\" >Mukherjee</td>\n",
              "      <td id=\"T_4ce47_row8_col2\" class=\"data row8 col2\" >25000</td>\n",
              "      <td id=\"T_4ce47_row8_col3\" class=\"data row8 col3\" >20000.000000</td>\n",
              "      <td id=\"T_4ce47_row8_col4\" class=\"data row8 col4\" >5000.000000</td>\n",
              "    </tr>\n",
              "    <tr>\n",
              "      <td id=\"T_4ce47_row9_col0\" class=\"data row9 col0\" >Sales</td>\n",
              "      <td id=\"T_4ce47_row9_col1\" class=\"data row9 col1\" >Dikshit</td>\n",
              "      <td id=\"T_4ce47_row9_col2\" class=\"data row9 col2\" >10000</td>\n",
              "      <td id=\"T_4ce47_row9_col3\" class=\"data row9 col3\" >nan</td>\n",
              "      <td id=\"T_4ce47_row9_col4\" class=\"data row9 col4\" >nan</td>\n",
              "    </tr>\n",
              "    <tr>\n",
              "      <td id=\"T_4ce47_row10_col0\" class=\"data row10 col0\" >Sales</td>\n",
              "      <td id=\"T_4ce47_row10_col1\" class=\"data row10 col1\" >Sehwag</td>\n",
              "      <td id=\"T_4ce47_row10_col2\" class=\"data row10 col2\" >15000</td>\n",
              "      <td id=\"T_4ce47_row10_col3\" class=\"data row10 col3\" >10000.000000</td>\n",
              "      <td id=\"T_4ce47_row10_col4\" class=\"data row10 col4\" >5000.000000</td>\n",
              "    </tr>\n",
              "    <tr>\n",
              "      <td id=\"T_4ce47_row11_col0\" class=\"data row11 col0\" >Sales</td>\n",
              "      <td id=\"T_4ce47_row11_col1\" class=\"data row11 col1\" >Khan</td>\n",
              "      <td id=\"T_4ce47_row11_col2\" class=\"data row11 col2\" >30000</td>\n",
              "      <td id=\"T_4ce47_row11_col3\" class=\"data row11 col3\" >15000.000000</td>\n",
              "      <td id=\"T_4ce47_row11_col4\" class=\"data row11 col4\" >15000.000000</td>\n",
              "    </tr>\n",
              "  </tbody>\n",
              "</table>\n"
            ]
          },
          "metadata": {},
          "execution_count": 67
        }
      ]
    },
    {
      "cell_type": "markdown",
      "source": [
        "#Transpose / Pivot\n",
        "https://www.sqlshack.com/how-to-use-the-crosstab-function-in-postgresql/"
      ],
      "metadata": {
        "id": "V6Bt-yTXSITF"
      }
    },
    {
      "cell_type": "code",
      "source": [
        "!psql -h localhost -p 5432 -Uupraxis -ddbpraxis -c \"create extension tablefunc;\""
      ],
      "metadata": {
        "colab": {
          "base_uri": "https://localhost:8080/"
        },
        "id": "ZgVgr1DfYs_R",
        "outputId": "9bfea398-1119-46cf-d8bf-c0008e1e5aca"
      },
      "execution_count": 68,
      "outputs": [
        {
          "output_type": "stream",
          "name": "stdout",
          "text": [
            "CREATE EXTENSION\n"
          ]
        }
      ]
    },
    {
      "cell_type": "code",
      "source": [
        "runSelect('select * from dept')"
      ],
      "metadata": {
        "colab": {
          "base_uri": "https://localhost:8080/",
          "height": 206
        },
        "id": "Sa9IpGXwSKWe",
        "outputId": "5110d23a-78d2-4b9a-f012-369eb4007d78"
      },
      "execution_count": 69,
      "outputs": [
        {
          "output_type": "execute_result",
          "data": {
            "text/plain": [
              "<pandas.io.formats.style.Styler at 0x7e9c250cb5e0>"
            ],
            "text/html": [
              "<style type=\"text/css\">\n",
              "</style>\n",
              "<table id=\"T_8c0e5\" class=\"dataframe\">\n",
              "  <thead>\n",
              "    <tr>\n",
              "      <th id=\"T_8c0e5_level0_col0\" class=\"col_heading level0 col0\" >deptid</th>\n",
              "      <th id=\"T_8c0e5_level0_col1\" class=\"col_heading level0 col1\" >deptname</th>\n",
              "      <th id=\"T_8c0e5_level0_col2\" class=\"col_heading level0 col2\" >managerid</th>\n",
              "      <th id=\"T_8c0e5_level0_col3\" class=\"col_heading level0 col3\" >location</th>\n",
              "      <th id=\"T_8c0e5_level0_col4\" class=\"col_heading level0 col4\" >locationid</th>\n",
              "    </tr>\n",
              "  </thead>\n",
              "  <tbody>\n",
              "    <tr>\n",
              "      <td id=\"T_8c0e5_row0_col0\" class=\"data row0 col0\" >10</td>\n",
              "      <td id=\"T_8c0e5_row0_col1\" class=\"data row0 col1\" >Corporate</td>\n",
              "      <td id=\"T_8c0e5_row0_col2\" class=\"data row0 col2\" >299034</td>\n",
              "      <td id=\"T_8c0e5_row0_col3\" class=\"data row0 col3\" >Calcutta</td>\n",
              "      <td id=\"T_8c0e5_row0_col4\" class=\"data row0 col4\" >1</td>\n",
              "    </tr>\n",
              "    <tr>\n",
              "      <td id=\"T_8c0e5_row1_col0\" class=\"data row1 col0\" >20</td>\n",
              "      <td id=\"T_8c0e5_row1_col1\" class=\"data row1 col1\" >Sales</td>\n",
              "      <td id=\"T_8c0e5_row1_col2\" class=\"data row1 col2\" >239456</td>\n",
              "      <td id=\"T_8c0e5_row1_col3\" class=\"data row1 col3\" >Calcutta</td>\n",
              "      <td id=\"T_8c0e5_row1_col4\" class=\"data row1 col4\" >1</td>\n",
              "    </tr>\n",
              "    <tr>\n",
              "      <td id=\"T_8c0e5_row2_col0\" class=\"data row2 col0\" >30</td>\n",
              "      <td id=\"T_8c0e5_row2_col1\" class=\"data row2 col1\" >Accounts</td>\n",
              "      <td id=\"T_8c0e5_row2_col2\" class=\"data row2 col2\" >822134</td>\n",
              "      <td id=\"T_8c0e5_row2_col3\" class=\"data row2 col3\" >Calcutta</td>\n",
              "      <td id=\"T_8c0e5_row2_col4\" class=\"data row2 col4\" >1</td>\n",
              "    </tr>\n",
              "    <tr>\n",
              "      <td id=\"T_8c0e5_row3_col0\" class=\"data row3 col0\" >40</td>\n",
              "      <td id=\"T_8c0e5_row3_col1\" class=\"data row3 col1\" >Production</td>\n",
              "      <td id=\"T_8c0e5_row3_col2\" class=\"data row3 col2\" >349870</td>\n",
              "      <td id=\"T_8c0e5_row3_col3\" class=\"data row3 col3\" >Bombay</td>\n",
              "      <td id=\"T_8c0e5_row3_col4\" class=\"data row3 col4\" >2</td>\n",
              "    </tr>\n",
              "    <tr>\n",
              "      <td id=\"T_8c0e5_row4_col0\" class=\"data row4 col0\" >60</td>\n",
              "      <td id=\"T_8c0e5_row4_col1\" class=\"data row4 col1\" >Research</td>\n",
              "      <td id=\"T_8c0e5_row4_col2\" class=\"data row4 col2\" >546224</td>\n",
              "      <td id=\"T_8c0e5_row4_col3\" class=\"data row4 col3\" >Delhi</td>\n",
              "      <td id=\"T_8c0e5_row4_col4\" class=\"data row4 col4\" >3</td>\n",
              "    </tr>\n",
              "  </tbody>\n",
              "</table>\n"
            ]
          },
          "metadata": {},
          "execution_count": 69
        }
      ]
    },
    {
      "cell_type": "code",
      "source": [
        "sql = \"\\\n",
        "select * from \\\n",
        "crosstab('select location::text,locationid::text,deptname::text from dept order by 1,2') as locations \\\n",
        "(location text, dep1 text, dep2 text, dep3 text, dep4 text)\\\n",
        "\"\n",
        "runSelect(sql)"
      ],
      "metadata": {
        "colab": {
          "base_uri": "https://localhost:8080/",
          "height": 143
        },
        "id": "Iukqh6TRVo-9",
        "outputId": "a8c18ff4-d3bd-41cb-c1e6-aeed0d2d4481"
      },
      "execution_count": 70,
      "outputs": [
        {
          "output_type": "execute_result",
          "data": {
            "text/plain": [
              "<pandas.io.formats.style.Styler at 0x7e9c250cb0a0>"
            ],
            "text/html": [
              "<style type=\"text/css\">\n",
              "</style>\n",
              "<table id=\"T_98a23\" class=\"dataframe\">\n",
              "  <thead>\n",
              "    <tr>\n",
              "      <th id=\"T_98a23_level0_col0\" class=\"col_heading level0 col0\" >location</th>\n",
              "      <th id=\"T_98a23_level0_col1\" class=\"col_heading level0 col1\" >dep1</th>\n",
              "      <th id=\"T_98a23_level0_col2\" class=\"col_heading level0 col2\" >dep2</th>\n",
              "      <th id=\"T_98a23_level0_col3\" class=\"col_heading level0 col3\" >dep3</th>\n",
              "      <th id=\"T_98a23_level0_col4\" class=\"col_heading level0 col4\" >dep4</th>\n",
              "    </tr>\n",
              "  </thead>\n",
              "  <tbody>\n",
              "    <tr>\n",
              "      <td id=\"T_98a23_row0_col0\" class=\"data row0 col0\" >Bombay</td>\n",
              "      <td id=\"T_98a23_row0_col1\" class=\"data row0 col1\" >Production</td>\n",
              "      <td id=\"T_98a23_row0_col2\" class=\"data row0 col2\" >None</td>\n",
              "      <td id=\"T_98a23_row0_col3\" class=\"data row0 col3\" >None</td>\n",
              "      <td id=\"T_98a23_row0_col4\" class=\"data row0 col4\" >None</td>\n",
              "    </tr>\n",
              "    <tr>\n",
              "      <td id=\"T_98a23_row1_col0\" class=\"data row1 col0\" >Calcutta</td>\n",
              "      <td id=\"T_98a23_row1_col1\" class=\"data row1 col1\" >Corporate</td>\n",
              "      <td id=\"T_98a23_row1_col2\" class=\"data row1 col2\" >Sales</td>\n",
              "      <td id=\"T_98a23_row1_col3\" class=\"data row1 col3\" >Accounts</td>\n",
              "      <td id=\"T_98a23_row1_col4\" class=\"data row1 col4\" >None</td>\n",
              "    </tr>\n",
              "    <tr>\n",
              "      <td id=\"T_98a23_row2_col0\" class=\"data row2 col0\" >Delhi</td>\n",
              "      <td id=\"T_98a23_row2_col1\" class=\"data row2 col1\" >Research</td>\n",
              "      <td id=\"T_98a23_row2_col2\" class=\"data row2 col2\" >None</td>\n",
              "      <td id=\"T_98a23_row2_col3\" class=\"data row2 col3\" >None</td>\n",
              "      <td id=\"T_98a23_row2_col4\" class=\"data row2 col4\" >None</td>\n",
              "    </tr>\n",
              "  </tbody>\n",
              "</table>\n"
            ]
          },
          "metadata": {},
          "execution_count": 70
        }
      ]
    },
    {
      "cell_type": "markdown",
      "source": [
        "# Insert | Delete | Update"
      ],
      "metadata": {
        "id": "REcqZ7K0DYqi"
      }
    },
    {
      "cell_type": "code",
      "source": [
        "runSelect(\"select * from dept\")"
      ],
      "metadata": {
        "id": "xGgCH9vGDlsI",
        "outputId": "894e6ed8-c763-4dc2-8b5e-37dc5c150568",
        "colab": {
          "base_uri": "https://localhost:8080/",
          "height": 206
        }
      },
      "execution_count": 71,
      "outputs": [
        {
          "output_type": "execute_result",
          "data": {
            "text/plain": [
              "<pandas.io.formats.style.Styler at 0x7e9c250c80a0>"
            ],
            "text/html": [
              "<style type=\"text/css\">\n",
              "</style>\n",
              "<table id=\"T_e2268\" class=\"dataframe\">\n",
              "  <thead>\n",
              "    <tr>\n",
              "      <th id=\"T_e2268_level0_col0\" class=\"col_heading level0 col0\" >deptid</th>\n",
              "      <th id=\"T_e2268_level0_col1\" class=\"col_heading level0 col1\" >deptname</th>\n",
              "      <th id=\"T_e2268_level0_col2\" class=\"col_heading level0 col2\" >managerid</th>\n",
              "      <th id=\"T_e2268_level0_col3\" class=\"col_heading level0 col3\" >location</th>\n",
              "      <th id=\"T_e2268_level0_col4\" class=\"col_heading level0 col4\" >locationid</th>\n",
              "    </tr>\n",
              "  </thead>\n",
              "  <tbody>\n",
              "    <tr>\n",
              "      <td id=\"T_e2268_row0_col0\" class=\"data row0 col0\" >10</td>\n",
              "      <td id=\"T_e2268_row0_col1\" class=\"data row0 col1\" >Corporate</td>\n",
              "      <td id=\"T_e2268_row0_col2\" class=\"data row0 col2\" >299034</td>\n",
              "      <td id=\"T_e2268_row0_col3\" class=\"data row0 col3\" >Calcutta</td>\n",
              "      <td id=\"T_e2268_row0_col4\" class=\"data row0 col4\" >1</td>\n",
              "    </tr>\n",
              "    <tr>\n",
              "      <td id=\"T_e2268_row1_col0\" class=\"data row1 col0\" >20</td>\n",
              "      <td id=\"T_e2268_row1_col1\" class=\"data row1 col1\" >Sales</td>\n",
              "      <td id=\"T_e2268_row1_col2\" class=\"data row1 col2\" >239456</td>\n",
              "      <td id=\"T_e2268_row1_col3\" class=\"data row1 col3\" >Calcutta</td>\n",
              "      <td id=\"T_e2268_row1_col4\" class=\"data row1 col4\" >1</td>\n",
              "    </tr>\n",
              "    <tr>\n",
              "      <td id=\"T_e2268_row2_col0\" class=\"data row2 col0\" >30</td>\n",
              "      <td id=\"T_e2268_row2_col1\" class=\"data row2 col1\" >Accounts</td>\n",
              "      <td id=\"T_e2268_row2_col2\" class=\"data row2 col2\" >822134</td>\n",
              "      <td id=\"T_e2268_row2_col3\" class=\"data row2 col3\" >Calcutta</td>\n",
              "      <td id=\"T_e2268_row2_col4\" class=\"data row2 col4\" >1</td>\n",
              "    </tr>\n",
              "    <tr>\n",
              "      <td id=\"T_e2268_row3_col0\" class=\"data row3 col0\" >40</td>\n",
              "      <td id=\"T_e2268_row3_col1\" class=\"data row3 col1\" >Production</td>\n",
              "      <td id=\"T_e2268_row3_col2\" class=\"data row3 col2\" >349870</td>\n",
              "      <td id=\"T_e2268_row3_col3\" class=\"data row3 col3\" >Bombay</td>\n",
              "      <td id=\"T_e2268_row3_col4\" class=\"data row3 col4\" >2</td>\n",
              "    </tr>\n",
              "    <tr>\n",
              "      <td id=\"T_e2268_row4_col0\" class=\"data row4 col0\" >60</td>\n",
              "      <td id=\"T_e2268_row4_col1\" class=\"data row4 col1\" >Research</td>\n",
              "      <td id=\"T_e2268_row4_col2\" class=\"data row4 col2\" >546224</td>\n",
              "      <td id=\"T_e2268_row4_col3\" class=\"data row4 col3\" >Delhi</td>\n",
              "      <td id=\"T_e2268_row4_col4\" class=\"data row4 col4\" >3</td>\n",
              "    </tr>\n",
              "  </tbody>\n",
              "</table>\n"
            ]
          },
          "metadata": {},
          "execution_count": 71
        }
      ]
    },
    {
      "cell_type": "code",
      "source": [
        "runCmd(\"insert into Dept (DeptID, DeptName, ManagerID, Location,LocationID) VALUES \\\n",
        "\t('11', 'Corporate2', '299035', 'Calcutta','1')\")\n",
        "runSelect(\"select * from dept\")"
      ],
      "metadata": {
        "id": "iyW0EobdDuMY",
        "outputId": "bbe06893-5d9b-4136-b34f-c5d8f8fadb4c",
        "colab": {
          "base_uri": "https://localhost:8080/",
          "height": 255
        }
      },
      "execution_count": 72,
      "outputs": [
        {
          "output_type": "stream",
          "name": "stdout",
          "text": [
            "Command executed\n"
          ]
        },
        {
          "output_type": "execute_result",
          "data": {
            "text/plain": [
              "<pandas.io.formats.style.Styler at 0x7e9c250c9120>"
            ],
            "text/html": [
              "<style type=\"text/css\">\n",
              "</style>\n",
              "<table id=\"T_687eb\" class=\"dataframe\">\n",
              "  <thead>\n",
              "    <tr>\n",
              "      <th id=\"T_687eb_level0_col0\" class=\"col_heading level0 col0\" >deptid</th>\n",
              "      <th id=\"T_687eb_level0_col1\" class=\"col_heading level0 col1\" >deptname</th>\n",
              "      <th id=\"T_687eb_level0_col2\" class=\"col_heading level0 col2\" >managerid</th>\n",
              "      <th id=\"T_687eb_level0_col3\" class=\"col_heading level0 col3\" >location</th>\n",
              "      <th id=\"T_687eb_level0_col4\" class=\"col_heading level0 col4\" >locationid</th>\n",
              "    </tr>\n",
              "  </thead>\n",
              "  <tbody>\n",
              "    <tr>\n",
              "      <td id=\"T_687eb_row0_col0\" class=\"data row0 col0\" >10</td>\n",
              "      <td id=\"T_687eb_row0_col1\" class=\"data row0 col1\" >Corporate</td>\n",
              "      <td id=\"T_687eb_row0_col2\" class=\"data row0 col2\" >299034</td>\n",
              "      <td id=\"T_687eb_row0_col3\" class=\"data row0 col3\" >Calcutta</td>\n",
              "      <td id=\"T_687eb_row0_col4\" class=\"data row0 col4\" >1</td>\n",
              "    </tr>\n",
              "    <tr>\n",
              "      <td id=\"T_687eb_row1_col0\" class=\"data row1 col0\" >20</td>\n",
              "      <td id=\"T_687eb_row1_col1\" class=\"data row1 col1\" >Sales</td>\n",
              "      <td id=\"T_687eb_row1_col2\" class=\"data row1 col2\" >239456</td>\n",
              "      <td id=\"T_687eb_row1_col3\" class=\"data row1 col3\" >Calcutta</td>\n",
              "      <td id=\"T_687eb_row1_col4\" class=\"data row1 col4\" >1</td>\n",
              "    </tr>\n",
              "    <tr>\n",
              "      <td id=\"T_687eb_row2_col0\" class=\"data row2 col0\" >30</td>\n",
              "      <td id=\"T_687eb_row2_col1\" class=\"data row2 col1\" >Accounts</td>\n",
              "      <td id=\"T_687eb_row2_col2\" class=\"data row2 col2\" >822134</td>\n",
              "      <td id=\"T_687eb_row2_col3\" class=\"data row2 col3\" >Calcutta</td>\n",
              "      <td id=\"T_687eb_row2_col4\" class=\"data row2 col4\" >1</td>\n",
              "    </tr>\n",
              "    <tr>\n",
              "      <td id=\"T_687eb_row3_col0\" class=\"data row3 col0\" >40</td>\n",
              "      <td id=\"T_687eb_row3_col1\" class=\"data row3 col1\" >Production</td>\n",
              "      <td id=\"T_687eb_row3_col2\" class=\"data row3 col2\" >349870</td>\n",
              "      <td id=\"T_687eb_row3_col3\" class=\"data row3 col3\" >Bombay</td>\n",
              "      <td id=\"T_687eb_row3_col4\" class=\"data row3 col4\" >2</td>\n",
              "    </tr>\n",
              "    <tr>\n",
              "      <td id=\"T_687eb_row4_col0\" class=\"data row4 col0\" >60</td>\n",
              "      <td id=\"T_687eb_row4_col1\" class=\"data row4 col1\" >Research</td>\n",
              "      <td id=\"T_687eb_row4_col2\" class=\"data row4 col2\" >546224</td>\n",
              "      <td id=\"T_687eb_row4_col3\" class=\"data row4 col3\" >Delhi</td>\n",
              "      <td id=\"T_687eb_row4_col4\" class=\"data row4 col4\" >3</td>\n",
              "    </tr>\n",
              "    <tr>\n",
              "      <td id=\"T_687eb_row5_col0\" class=\"data row5 col0\" >11</td>\n",
              "      <td id=\"T_687eb_row5_col1\" class=\"data row5 col1\" >Corporate2</td>\n",
              "      <td id=\"T_687eb_row5_col2\" class=\"data row5 col2\" >299035</td>\n",
              "      <td id=\"T_687eb_row5_col3\" class=\"data row5 col3\" >Calcutta</td>\n",
              "      <td id=\"T_687eb_row5_col4\" class=\"data row5 col4\" >1</td>\n",
              "    </tr>\n",
              "  </tbody>\n",
              "</table>\n"
            ]
          },
          "metadata": {},
          "execution_count": 72
        }
      ]
    },
    {
      "cell_type": "code",
      "source": [
        "runCmd(\"update dept set deptname = 'Marketing' where deptid = '11'\")\n",
        "runSelect(\"select * from dept\")"
      ],
      "metadata": {
        "id": "DqdnmD2pEQNq",
        "outputId": "abcac691-72e8-437c-b0ff-dadf5835ca7f",
        "colab": {
          "base_uri": "https://localhost:8080/",
          "height": 255
        }
      },
      "execution_count": 73,
      "outputs": [
        {
          "output_type": "stream",
          "name": "stdout",
          "text": [
            "Command executed\n"
          ]
        },
        {
          "output_type": "execute_result",
          "data": {
            "text/plain": [
              "<pandas.io.formats.style.Styler at 0x7e9c250fd300>"
            ],
            "text/html": [
              "<style type=\"text/css\">\n",
              "</style>\n",
              "<table id=\"T_78c37\" class=\"dataframe\">\n",
              "  <thead>\n",
              "    <tr>\n",
              "      <th id=\"T_78c37_level0_col0\" class=\"col_heading level0 col0\" >deptid</th>\n",
              "      <th id=\"T_78c37_level0_col1\" class=\"col_heading level0 col1\" >deptname</th>\n",
              "      <th id=\"T_78c37_level0_col2\" class=\"col_heading level0 col2\" >managerid</th>\n",
              "      <th id=\"T_78c37_level0_col3\" class=\"col_heading level0 col3\" >location</th>\n",
              "      <th id=\"T_78c37_level0_col4\" class=\"col_heading level0 col4\" >locationid</th>\n",
              "    </tr>\n",
              "  </thead>\n",
              "  <tbody>\n",
              "    <tr>\n",
              "      <td id=\"T_78c37_row0_col0\" class=\"data row0 col0\" >10</td>\n",
              "      <td id=\"T_78c37_row0_col1\" class=\"data row0 col1\" >Corporate</td>\n",
              "      <td id=\"T_78c37_row0_col2\" class=\"data row0 col2\" >299034</td>\n",
              "      <td id=\"T_78c37_row0_col3\" class=\"data row0 col3\" >Calcutta</td>\n",
              "      <td id=\"T_78c37_row0_col4\" class=\"data row0 col4\" >1</td>\n",
              "    </tr>\n",
              "    <tr>\n",
              "      <td id=\"T_78c37_row1_col0\" class=\"data row1 col0\" >20</td>\n",
              "      <td id=\"T_78c37_row1_col1\" class=\"data row1 col1\" >Sales</td>\n",
              "      <td id=\"T_78c37_row1_col2\" class=\"data row1 col2\" >239456</td>\n",
              "      <td id=\"T_78c37_row1_col3\" class=\"data row1 col3\" >Calcutta</td>\n",
              "      <td id=\"T_78c37_row1_col4\" class=\"data row1 col4\" >1</td>\n",
              "    </tr>\n",
              "    <tr>\n",
              "      <td id=\"T_78c37_row2_col0\" class=\"data row2 col0\" >30</td>\n",
              "      <td id=\"T_78c37_row2_col1\" class=\"data row2 col1\" >Accounts</td>\n",
              "      <td id=\"T_78c37_row2_col2\" class=\"data row2 col2\" >822134</td>\n",
              "      <td id=\"T_78c37_row2_col3\" class=\"data row2 col3\" >Calcutta</td>\n",
              "      <td id=\"T_78c37_row2_col4\" class=\"data row2 col4\" >1</td>\n",
              "    </tr>\n",
              "    <tr>\n",
              "      <td id=\"T_78c37_row3_col0\" class=\"data row3 col0\" >40</td>\n",
              "      <td id=\"T_78c37_row3_col1\" class=\"data row3 col1\" >Production</td>\n",
              "      <td id=\"T_78c37_row3_col2\" class=\"data row3 col2\" >349870</td>\n",
              "      <td id=\"T_78c37_row3_col3\" class=\"data row3 col3\" >Bombay</td>\n",
              "      <td id=\"T_78c37_row3_col4\" class=\"data row3 col4\" >2</td>\n",
              "    </tr>\n",
              "    <tr>\n",
              "      <td id=\"T_78c37_row4_col0\" class=\"data row4 col0\" >60</td>\n",
              "      <td id=\"T_78c37_row4_col1\" class=\"data row4 col1\" >Research</td>\n",
              "      <td id=\"T_78c37_row4_col2\" class=\"data row4 col2\" >546224</td>\n",
              "      <td id=\"T_78c37_row4_col3\" class=\"data row4 col3\" >Delhi</td>\n",
              "      <td id=\"T_78c37_row4_col4\" class=\"data row4 col4\" >3</td>\n",
              "    </tr>\n",
              "    <tr>\n",
              "      <td id=\"T_78c37_row5_col0\" class=\"data row5 col0\" >11</td>\n",
              "      <td id=\"T_78c37_row5_col1\" class=\"data row5 col1\" >Marketing</td>\n",
              "      <td id=\"T_78c37_row5_col2\" class=\"data row5 col2\" >299035</td>\n",
              "      <td id=\"T_78c37_row5_col3\" class=\"data row5 col3\" >Calcutta</td>\n",
              "      <td id=\"T_78c37_row5_col4\" class=\"data row5 col4\" >1</td>\n",
              "    </tr>\n",
              "  </tbody>\n",
              "</table>\n"
            ]
          },
          "metadata": {},
          "execution_count": 73
        }
      ]
    },
    {
      "cell_type": "code",
      "source": [
        "runCmd(\"delete from dept where deptid = '11'\")\n",
        "runSelect(\"select * from dept\")"
      ],
      "metadata": {
        "id": "nsnJnNrEF6iS",
        "outputId": "7b5c6184-0002-48dc-a96c-7004f939551a",
        "colab": {
          "base_uri": "https://localhost:8080/",
          "height": 224
        }
      },
      "execution_count": 74,
      "outputs": [
        {
          "output_type": "stream",
          "name": "stdout",
          "text": [
            "Command executed\n"
          ]
        },
        {
          "output_type": "execute_result",
          "data": {
            "text/plain": [
              "<pandas.io.formats.style.Styler at 0x7e9c250fdd80>"
            ],
            "text/html": [
              "<style type=\"text/css\">\n",
              "</style>\n",
              "<table id=\"T_059e6\" class=\"dataframe\">\n",
              "  <thead>\n",
              "    <tr>\n",
              "      <th id=\"T_059e6_level0_col0\" class=\"col_heading level0 col0\" >deptid</th>\n",
              "      <th id=\"T_059e6_level0_col1\" class=\"col_heading level0 col1\" >deptname</th>\n",
              "      <th id=\"T_059e6_level0_col2\" class=\"col_heading level0 col2\" >managerid</th>\n",
              "      <th id=\"T_059e6_level0_col3\" class=\"col_heading level0 col3\" >location</th>\n",
              "      <th id=\"T_059e6_level0_col4\" class=\"col_heading level0 col4\" >locationid</th>\n",
              "    </tr>\n",
              "  </thead>\n",
              "  <tbody>\n",
              "    <tr>\n",
              "      <td id=\"T_059e6_row0_col0\" class=\"data row0 col0\" >10</td>\n",
              "      <td id=\"T_059e6_row0_col1\" class=\"data row0 col1\" >Corporate</td>\n",
              "      <td id=\"T_059e6_row0_col2\" class=\"data row0 col2\" >299034</td>\n",
              "      <td id=\"T_059e6_row0_col3\" class=\"data row0 col3\" >Calcutta</td>\n",
              "      <td id=\"T_059e6_row0_col4\" class=\"data row0 col4\" >1</td>\n",
              "    </tr>\n",
              "    <tr>\n",
              "      <td id=\"T_059e6_row1_col0\" class=\"data row1 col0\" >20</td>\n",
              "      <td id=\"T_059e6_row1_col1\" class=\"data row1 col1\" >Sales</td>\n",
              "      <td id=\"T_059e6_row1_col2\" class=\"data row1 col2\" >239456</td>\n",
              "      <td id=\"T_059e6_row1_col3\" class=\"data row1 col3\" >Calcutta</td>\n",
              "      <td id=\"T_059e6_row1_col4\" class=\"data row1 col4\" >1</td>\n",
              "    </tr>\n",
              "    <tr>\n",
              "      <td id=\"T_059e6_row2_col0\" class=\"data row2 col0\" >30</td>\n",
              "      <td id=\"T_059e6_row2_col1\" class=\"data row2 col1\" >Accounts</td>\n",
              "      <td id=\"T_059e6_row2_col2\" class=\"data row2 col2\" >822134</td>\n",
              "      <td id=\"T_059e6_row2_col3\" class=\"data row2 col3\" >Calcutta</td>\n",
              "      <td id=\"T_059e6_row2_col4\" class=\"data row2 col4\" >1</td>\n",
              "    </tr>\n",
              "    <tr>\n",
              "      <td id=\"T_059e6_row3_col0\" class=\"data row3 col0\" >40</td>\n",
              "      <td id=\"T_059e6_row3_col1\" class=\"data row3 col1\" >Production</td>\n",
              "      <td id=\"T_059e6_row3_col2\" class=\"data row3 col2\" >349870</td>\n",
              "      <td id=\"T_059e6_row3_col3\" class=\"data row3 col3\" >Bombay</td>\n",
              "      <td id=\"T_059e6_row3_col4\" class=\"data row3 col4\" >2</td>\n",
              "    </tr>\n",
              "    <tr>\n",
              "      <td id=\"T_059e6_row4_col0\" class=\"data row4 col0\" >60</td>\n",
              "      <td id=\"T_059e6_row4_col1\" class=\"data row4 col1\" >Research</td>\n",
              "      <td id=\"T_059e6_row4_col2\" class=\"data row4 col2\" >546224</td>\n",
              "      <td id=\"T_059e6_row4_col3\" class=\"data row4 col3\" >Delhi</td>\n",
              "      <td id=\"T_059e6_row4_col4\" class=\"data row4 col4\" >3</td>\n",
              "    </tr>\n",
              "  </tbody>\n",
              "</table>\n"
            ]
          },
          "metadata": {},
          "execution_count": 74
        }
      ]
    },
    {
      "cell_type": "code",
      "source": [
        "from datetime import datetime\n",
        "import pytz\n",
        "print('Last tested  ',datetime.now(pytz.timezone('Asia/Kolkata')))"
      ],
      "metadata": {
        "colab": {
          "base_uri": "https://localhost:8080/"
        },
        "id": "wjBXJVhM605H",
        "outputId": "0f7b61c8-8775-4521-efa2-23852854d228"
      },
      "execution_count": 75,
      "outputs": [
        {
          "output_type": "stream",
          "name": "stdout",
          "text": [
            "Last tested   2024-01-09 09:15:12.661299+05:30\n"
          ]
        }
      ]
    },
    {
      "cell_type": "markdown",
      "source": [
        "#Chronobooks <br>\n",
        "Two science fiction novels by Prithwis Mukerjee. A dystopian Earth. A technocratic society managed by artificial intelligence. Escape and epiphany on Mars. Can man and machine, carbon and silicon explore and escape into other dimensions of existence? An Indic perspective rooted in Advaita Vedanta and the Divine Feminine.  [More information](http://bit.ly/chronobooks) <br>\n",
        "![alt text](https://github.com/Praxis-QR/RDWH/raw/main/images/CTCYFooter-1.png)"
      ],
      "metadata": {
        "id": "_gNiZpyW3AzJ"
      }
    }
  ]
}