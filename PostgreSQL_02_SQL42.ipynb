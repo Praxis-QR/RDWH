{
  "nbformat": 4,
  "nbformat_minor": 0,
  "metadata": {
    "colab": {
      "provenance": [],
      "toc_visible": true,
      "include_colab_link": true
    },
    "kernelspec": {
      "name": "python3",
      "display_name": "Python 3"
    },
    "language_info": {
      "name": "python"
    }
  },
  "cells": [
    {
      "cell_type": "markdown",
      "metadata": {
        "id": "view-in-github",
        "colab_type": "text"
      },
      "source": [
        "<a href=\"https://colab.research.google.com/github/Praxis-QR/RDWH/blob/main/PostgreSQL_02_SQL42.ipynb\" target=\"_parent\"><img src=\"https://colab.research.google.com/assets/colab-badge.svg\" alt=\"Open In Colab\"/></a>"
      ]
    },
    {
      "cell_type": "markdown",
      "source": [
        "![Yantrajaal Banner](https://github.com/Praxis-QR/RDWH/raw/main/images/YantraJaalBanner.png)<br>\n",
        "\n",
        "\n",
        "<hr>\n",
        "\n",
        "[Prithwis Mukerjee](http://www.linkedin.com/in/prithwis)<br>"
      ],
      "metadata": {
        "id": "DBzz-qaN2tKu"
      }
    },
    {
      "cell_type": "markdown",
      "source": [
        "![PostgreSQL 42](https://raw.githubusercontent.com/Praxis-QR/RDWH/main/images/PostgreSQL_24.01.png)<br>\n",
        "[SlideDeck](https://docs.google.com/presentation/d/1hdkAGbMxLfO1GYe7RzEo3LhGZhsXkyjIfBqkA72B6LM/edit?usp=sharing)"
      ],
      "metadata": {
        "id": "dBJ6X0LiJtZ6"
      }
    },
    {
      "cell_type": "markdown",
      "source": [
        "#Install & Configure Postgres"
      ],
      "metadata": {
        "id": "nD-QawLT6kDr"
      }
    },
    {
      "cell_type": "code",
      "source": [
        "from datetime import datetime\n",
        "import pytz\n",
        "print('Tested on ',datetime.now(pytz.timezone('Asia/Calcutta')))\n",
        "!python --version\n",
        "!lsb_release -a"
      ],
      "metadata": {
        "id": "txwvst5Hs5mI",
        "outputId": "9ef10f25-d3d8-469a-fbd4-da1e1a7522f3",
        "colab": {
          "base_uri": "https://localhost:8080/"
        }
      },
      "execution_count": 1,
      "outputs": [
        {
          "output_type": "stream",
          "name": "stdout",
          "text": [
            "Tested on  2024-01-04 05:56:12.962171+05:30\n",
            "Python 3.10.12\n",
            "No LSB modules are available.\n",
            "Distributor ID:\tUbuntu\n",
            "Description:\tUbuntu 22.04.3 LTS\n",
            "Release:\t22.04\n",
            "Codename:\tjammy\n"
          ]
        }
      ]
    },
    {
      "cell_type": "markdown",
      "source": [
        "For Connecting to a Postgres server on Amazon RDS, see [this notebook](https://github.com/Praxis-QR/RDWH/blob/main/PostgreSQL_01_Install_Config.ipynb)"
      ],
      "metadata": {
        "id": "9w29_O07rTPE"
      }
    },
    {
      "cell_type": "code",
      "source": [
        "# Install postgresql server\n",
        "\n",
        "!apt update > /dev/null\n",
        "!apt install postgresql > /dev/null\n",
        "#!sudo -u postgres psql -V\n",
        "!psql -V\n",
        "!service postgresql start"
      ],
      "metadata": {
        "colab": {
          "base_uri": "https://localhost:8080/"
        },
        "id": "o_RaqE0OOHP3",
        "outputId": "75caa5ea-acce-403a-ce72-93b27a2527d2"
      },
      "execution_count": 2,
      "outputs": [
        {
          "output_type": "stream",
          "name": "stdout",
          "text": [
            "\n",
            "WARNING: apt does not have a stable CLI interface. Use with caution in scripts.\n",
            "\n",
            "\n",
            "WARNING: apt does not have a stable CLI interface. Use with caution in scripts.\n",
            "\n",
            "psql (PostgreSQL) 14.10 (Ubuntu 14.10-0ubuntu0.22.04.1)\n",
            " * Starting PostgreSQL 14 database server\n",
            "   ...done.\n"
          ]
        }
      ]
    },
    {
      "cell_type": "code",
      "source": [
        "#!pip install psycopg2\n",
        "import psycopg2\n",
        "import pandas as pd"
      ],
      "metadata": {
        "id": "719jvpeIjLZX"
      },
      "execution_count": 3,
      "outputs": []
    },
    {
      "cell_type": "code",
      "source": [
        "# This has created an Ubuntu user 'postgres' AND a Postgres database user 'postgres' both of which are superusers\n",
        "#!cat /etc/passwd\n",
        "# Use these users to create a new database user called 'upraxis' and give it a password 'upass'\n",
        "#!sudo -u postgres createuser --superuser upraxis\n",
        "!sudo -u postgres createuser upraxis\n",
        "!sudo -u postgres psql -U postgres -c \"ALTER USER upraxis PASSWORD 'upass';\"\n",
        "# Change the database superuser 'postgres' to a non-default value 'pass'\n",
        "!sudo -u postgres psql -U postgres -c \"ALTER USER postgres PASSWORD 'pass';\"\n",
        "# Use ubuntu superuser to create database dbpraxis and set its owner to upraxis\n",
        "!sudo -u postgres createdb -O upraxis dbpraxis\n"
      ],
      "metadata": {
        "colab": {
          "base_uri": "https://localhost:8080/"
        },
        "id": "xr5kHaY_U4CZ",
        "outputId": "d40aba89-a895-4b5d-efe7-c277891a06bd"
      },
      "execution_count": 4,
      "outputs": [
        {
          "output_type": "stream",
          "name": "stdout",
          "text": [
            "ALTER ROLE\n",
            "ALTER ROLE\n"
          ]
        }
      ]
    },
    {
      "cell_type": "code",
      "source": [
        "# Create file to store the password. Else will be prompted each time\n",
        "#!echo \"localhost:5432:praxisdb:postgres:pass\" > ~/.pgpass\n",
        "!echo \"localhost:5432:dbpraxis:upraxis:upass\" > ~/.pgpass\n",
        "!chmod 0600 ~/.pgpass\n",
        "!cat ~/.pgpass"
      ],
      "metadata": {
        "colab": {
          "base_uri": "https://localhost:8080/"
        },
        "id": "kFDLMhnTWwuz",
        "outputId": "72c05950-1ce8-47b4-87b6-14a353162cab"
      },
      "execution_count": 5,
      "outputs": [
        {
          "output_type": "stream",
          "name": "stdout",
          "text": [
            "localhost:5432:dbpraxis:upraxis:upass\n"
          ]
        }
      ]
    },
    {
      "cell_type": "markdown",
      "source": [
        "## Create and Load Tables"
      ],
      "metadata": {
        "id": "pHTdNzrU6qUE"
      }
    },
    {
      "cell_type": "code",
      "source": [
        "# Create Two tables using command line interface\n",
        "#\n",
        "!psql -h localhost -p 5432 -Uupraxis -ddbpraxis -c \\\n",
        "\"drop table if exists Dept;\\\n",
        "create table Dept (\\\n",
        "    DeptID char(2),\\\n",
        "    DeptName varchar(20),\\\n",
        "    ManagerID char(6),\\\n",
        "    Location varchar(10),\\\n",
        "    LocationID char(1)\\\n",
        "    );\\\n",
        "insert into Dept (DeptID, DeptName, ManagerID, Location,LocationID) VALUES \\\n",
        "\t('10', 'Corporate', '299034', 'Calcutta','1'), \\\n",
        "\t('20', 'Sales', '239456', 'Calcutta','1'), \\\n",
        "\t('30', 'Accounts', '822134', 'Calcutta','1'), \\\n",
        "\t('40', 'Production', '349870', 'Bombay','2'),\\\n",
        "    ('60', 'Research', '546224', 'Delhi','3');\\\n",
        "\""
      ],
      "metadata": {
        "colab": {
          "base_uri": "https://localhost:8080/"
        },
        "id": "DsUZ9JlEXIir",
        "outputId": "962d84aa-2b1b-4b92-caba-8e1935637c21"
      },
      "execution_count": 6,
      "outputs": [
        {
          "output_type": "stream",
          "name": "stdout",
          "text": [
            "NOTICE:  table \"dept\" does not exist, skipping\n",
            "INSERT 0 5\n"
          ]
        }
      ]
    },
    {
      "cell_type": "code",
      "source": [
        "!psql -h localhost -p 5432 -Uupraxis -ddbpraxis -c \\\n",
        "\"drop table if exists Empl;\\\n",
        "create table Empl \\\n",
        "    (EmpID char(6),\\\n",
        "    LastName varchar(20),\\\n",
        "    FirstName varchar(20),\\\n",
        "    JobDesc varchar(10),\\\n",
        "    JoinDate date,\\\n",
        "    Salary int,\\\n",
        "    Comm decimal(3,2),\\\n",
        "    DeptID char(2),\\\n",
        "    HiredBy char(6)\\\n",
        "    );\\\n",
        "INSERT INTO Empl (EmpID, LastName, FirstName, JobDesc, JoinDate, Salary, Comm, DeptID, HiredBy) \\\n",
        "    VALUES \\\n",
        "\t('742866', 'Bacchan', 'Amitabh', 'Executive', '2003-03-10', 50000, 0.1, '10', NULL), \\\n",
        "\t('349870', 'Mukherjee', 'Rani', 'Manager', '2005-05-04', 25000, 0.06, '40', '742866'), \\\n",
        "\t('865477', 'Dikshit', 'Madhuri', 'Clerk', '2002-04-04', 10000, 0.02, '20', '239456'), \\\n",
        "\t('239456', 'Khan', 'Shahrukh', 'Manager', '2004-01-03', 30000, 0.07, '20', '742866'), \\\n",
        "\t('897889', 'Sehwag', 'Virender', 'Cus_Rep', '2005-01-02', 15000, 0.05, '20', '239456'), \\\n",
        "\t('123980', 'Dhoni', 'Mahender', 'Clerk', '2004-10-09', 9000, 0.02, '40', '349870'), \\\n",
        "\t('822134', 'Dravid', 'Rahul', 'Sr Manager', '2000-06-04', 40000, 0.08, '30', '742866'), \\\n",
        "\t('997445', 'Dalmia', 'Jagmohan', 'Clerk', '2001-07-01', 12000, 0.02, '30', '822134'), \\\n",
        "\t('989007', 'Ganguly', 'Sourav', 'Cus_Rep', '2002-01-01', 20000, 0.03, '40', '299034'), \\\n",
        "\t('299034', 'Ganesan', 'Rekha', 'Director', '2002-10-10', 60000, 0.11, '10', '742866'), \\\n",
        "\t('546223', 'Karthikeyan', 'Narayan', 'Secretary', '2005-12-04', 40000, 0.09, '10', '299034'), \\\n",
        "    ('546224', 'Sunil', 'Chettri', 'Dy Manager', '2006-12-07', 40000, 0.05, '70', '349870'), \\\n",
        "\t('223112', 'Mirza', 'Sania', 'Cus_Rep', '2001-11-19', 25000, 0.04, '30', '822134');\\\n",
        "\""
      ],
      "metadata": {
        "colab": {
          "base_uri": "https://localhost:8080/"
        },
        "id": "5kWs3wyEd9Tm",
        "outputId": "84f81d0f-61ec-48a1-8041-8ff7b58a9655"
      },
      "execution_count": 7,
      "outputs": [
        {
          "output_type": "stream",
          "name": "stdout",
          "text": [
            "NOTICE:  table \"empl\" does not exist, skipping\n",
            "INSERT 0 13\n"
          ]
        }
      ]
    },
    {
      "cell_type": "code",
      "source": [
        "#!psql -h localhost -p 5432 -Upostgres -dpraxisdb -c \"select * from dept;\"\n",
        "#!psql -h localhost -p 5432 -Uupraxis -ddbpraxis -c \"select * from dept;\""
      ],
      "metadata": {
        "id": "HyBUhbAI2PV1"
      },
      "execution_count": 8,
      "outputs": []
    },
    {
      "cell_type": "code",
      "source": [
        "#!psql -h localhost -p 5432 -U postgres -d praxisdb -c \"select * from empl;\"\n",
        "#!psql -h localhost -p 5432 -U upraxis -d dbpraxis -c \"select * from empl;\""
      ],
      "metadata": {
        "id": "byY2iccO4ctF"
      },
      "execution_count": 9,
      "outputs": []
    },
    {
      "cell_type": "markdown",
      "source": [
        "## Python Access\n",
        "https://www.tutorialspoint.com/python_data_access/python_postgresql_database_connection.htm"
      ],
      "metadata": {
        "id": "faZEj8_7CeZ8"
      }
    },
    {
      "cell_type": "code",
      "source": [
        "# Local Colab server\n",
        "\n",
        "conn = psycopg2.connect(database=\"dbpraxis\", user='upraxis', password='upass', host='127.0.0.1', port= '5432')\n",
        "#Creating a cursor object using the cursor() method\n",
        "cursor = conn.cursor()\n",
        "#Executing an MYSQL function using the execute() method\n",
        "cursor.execute(\"select version()\")\n",
        "# Fetch a single row using fetchone() method.\n",
        "data = cursor.fetchone()\n",
        "print(\"Connection established to: \",data)\n",
        "#Closing the connection\n",
        "conn.close()"
      ],
      "metadata": {
        "id": "wcE-8UBnC4zV",
        "outputId": "a1f4782f-79e7-400d-881e-220d99695c0e",
        "colab": {
          "base_uri": "https://localhost:8080/"
        }
      },
      "execution_count": 10,
      "outputs": [
        {
          "output_type": "stream",
          "name": "stdout",
          "text": [
            "Connection established to:  ('PostgreSQL 14.10 (Ubuntu 14.10-0ubuntu0.22.04.1) on x86_64-pc-linux-gnu, compiled by gcc (Ubuntu 11.4.0-1ubuntu1~22.04) 11.4.0, 64-bit',)\n"
          ]
        }
      ]
    },
    {
      "cell_type": "code",
      "source": [
        "# function to execute SQL select statements with Postgres\n",
        "#\n",
        "def runSelect(s):\n",
        "    #Set up connection\n",
        "\n",
        "    conn = psycopg2.connect(database=\"dbpraxis\", user='upraxis', password='upass', host='127.0.0.1', port= '5432')\n",
        "    #Setting auto commit true\n",
        "    conn.autocommit = True\n",
        "    #Creating a cursor object using the cursor() method\n",
        "    cursor = conn.cursor()\n",
        "    #Retrieving data\n",
        "    cursor.execute(s)\n",
        "    #Fetching all rows from the table\n",
        "    result = cursor.fetchall();\n",
        "    #print(len(result))\n",
        "    if (len(result)) > 0:                                       # result contains at least one row\n",
        "        colnames = [desc[0] for desc in cursor.description]     # get column names\n",
        "        #print(colnames)\n",
        "        resultdf = pd.DataFrame(result)                         # convert list to dataframe\n",
        "        resultdf.columns = colnames                             # add column names\n",
        "        #return resultdf\n",
        "        return resultdf.style.hide()                            # hide the index\n",
        "    else:\n",
        "        print('no records found')\n",
        "        return\n",
        "# function to execute SQL non-select statements with Postgres\n",
        "#\n",
        "def runCmd(s):\n",
        "    #Create Connection\n",
        "    conn = psycopg2.connect(database=\"dbpraxis\", user='upraxis', password='upass', host='127.0.0.1', port= '5432')\n",
        "    #Creating a cursor object using the cursor() method\n",
        "    cursor = conn.cursor()\n",
        "    try:\n",
        "        cursor.execute(s)\n",
        "        print('Command executed')\n",
        "        conn.commit()\n",
        "    except:\n",
        "        print('Command failed')\n",
        "    #Closing the connection\n",
        "    conn.close()"
      ],
      "metadata": {
        "id": "ht2k7-3iggNd"
      },
      "execution_count": 11,
      "outputs": []
    },
    {
      "cell_type": "markdown",
      "source": [
        "#Select - getting started"
      ],
      "metadata": {
        "id": "k0rXiciVtu7Q"
      }
    },
    {
      "cell_type": "code",
      "source": [
        "#runSelect(\"select * from dept where deptid = '100'\")\n",
        "#runSelect(\"select * from dept where deptid = '10'\")\n",
        "runSelect(\"select * from dept\")"
      ],
      "metadata": {
        "id": "N3NZv0YahSs6",
        "outputId": "fa543801-cc15-4d86-cb75-883eed00e57a",
        "colab": {
          "base_uri": "https://localhost:8080/",
          "height": 206
        }
      },
      "execution_count": 12,
      "outputs": [
        {
          "output_type": "execute_result",
          "data": {
            "text/plain": [
              "<pandas.io.formats.style.Styler at 0x7981e567f6a0>"
            ],
            "text/html": [
              "<style type=\"text/css\">\n",
              "</style>\n",
              "<table id=\"T_9071f\" class=\"dataframe\">\n",
              "  <thead>\n",
              "    <tr>\n",
              "      <th id=\"T_9071f_level0_col0\" class=\"col_heading level0 col0\" >deptid</th>\n",
              "      <th id=\"T_9071f_level0_col1\" class=\"col_heading level0 col1\" >deptname</th>\n",
              "      <th id=\"T_9071f_level0_col2\" class=\"col_heading level0 col2\" >managerid</th>\n",
              "      <th id=\"T_9071f_level0_col3\" class=\"col_heading level0 col3\" >location</th>\n",
              "      <th id=\"T_9071f_level0_col4\" class=\"col_heading level0 col4\" >locationid</th>\n",
              "    </tr>\n",
              "  </thead>\n",
              "  <tbody>\n",
              "    <tr>\n",
              "      <td id=\"T_9071f_row0_col0\" class=\"data row0 col0\" >10</td>\n",
              "      <td id=\"T_9071f_row0_col1\" class=\"data row0 col1\" >Corporate</td>\n",
              "      <td id=\"T_9071f_row0_col2\" class=\"data row0 col2\" >299034</td>\n",
              "      <td id=\"T_9071f_row0_col3\" class=\"data row0 col3\" >Calcutta</td>\n",
              "      <td id=\"T_9071f_row0_col4\" class=\"data row0 col4\" >1</td>\n",
              "    </tr>\n",
              "    <tr>\n",
              "      <td id=\"T_9071f_row1_col0\" class=\"data row1 col0\" >20</td>\n",
              "      <td id=\"T_9071f_row1_col1\" class=\"data row1 col1\" >Sales</td>\n",
              "      <td id=\"T_9071f_row1_col2\" class=\"data row1 col2\" >239456</td>\n",
              "      <td id=\"T_9071f_row1_col3\" class=\"data row1 col3\" >Calcutta</td>\n",
              "      <td id=\"T_9071f_row1_col4\" class=\"data row1 col4\" >1</td>\n",
              "    </tr>\n",
              "    <tr>\n",
              "      <td id=\"T_9071f_row2_col0\" class=\"data row2 col0\" >30</td>\n",
              "      <td id=\"T_9071f_row2_col1\" class=\"data row2 col1\" >Accounts</td>\n",
              "      <td id=\"T_9071f_row2_col2\" class=\"data row2 col2\" >822134</td>\n",
              "      <td id=\"T_9071f_row2_col3\" class=\"data row2 col3\" >Calcutta</td>\n",
              "      <td id=\"T_9071f_row2_col4\" class=\"data row2 col4\" >1</td>\n",
              "    </tr>\n",
              "    <tr>\n",
              "      <td id=\"T_9071f_row3_col0\" class=\"data row3 col0\" >40</td>\n",
              "      <td id=\"T_9071f_row3_col1\" class=\"data row3 col1\" >Production</td>\n",
              "      <td id=\"T_9071f_row3_col2\" class=\"data row3 col2\" >349870</td>\n",
              "      <td id=\"T_9071f_row3_col3\" class=\"data row3 col3\" >Bombay</td>\n",
              "      <td id=\"T_9071f_row3_col4\" class=\"data row3 col4\" >2</td>\n",
              "    </tr>\n",
              "    <tr>\n",
              "      <td id=\"T_9071f_row4_col0\" class=\"data row4 col0\" >60</td>\n",
              "      <td id=\"T_9071f_row4_col1\" class=\"data row4 col1\" >Research</td>\n",
              "      <td id=\"T_9071f_row4_col2\" class=\"data row4 col2\" >546224</td>\n",
              "      <td id=\"T_9071f_row4_col3\" class=\"data row4 col3\" >Delhi</td>\n",
              "      <td id=\"T_9071f_row4_col4\" class=\"data row4 col4\" >3</td>\n",
              "    </tr>\n",
              "  </tbody>\n",
              "</table>\n"
            ]
          },
          "metadata": {},
          "execution_count": 12
        }
      ]
    },
    {
      "cell_type": "code",
      "source": [
        "runSelect('select * from empl')"
      ],
      "metadata": {
        "id": "Otiv4rjSl5Tg",
        "outputId": "dfbc2144-a2a1-424e-b07b-9797466459af",
        "colab": {
          "base_uri": "https://localhost:8080/",
          "height": 457
        }
      },
      "execution_count": 13,
      "outputs": [
        {
          "output_type": "execute_result",
          "data": {
            "text/plain": [
              "<pandas.io.formats.style.Styler at 0x7981e55cf550>"
            ],
            "text/html": [
              "<style type=\"text/css\">\n",
              "</style>\n",
              "<table id=\"T_bbc73\" class=\"dataframe\">\n",
              "  <thead>\n",
              "    <tr>\n",
              "      <th id=\"T_bbc73_level0_col0\" class=\"col_heading level0 col0\" >empid</th>\n",
              "      <th id=\"T_bbc73_level0_col1\" class=\"col_heading level0 col1\" >lastname</th>\n",
              "      <th id=\"T_bbc73_level0_col2\" class=\"col_heading level0 col2\" >firstname</th>\n",
              "      <th id=\"T_bbc73_level0_col3\" class=\"col_heading level0 col3\" >jobdesc</th>\n",
              "      <th id=\"T_bbc73_level0_col4\" class=\"col_heading level0 col4\" >joindate</th>\n",
              "      <th id=\"T_bbc73_level0_col5\" class=\"col_heading level0 col5\" >salary</th>\n",
              "      <th id=\"T_bbc73_level0_col6\" class=\"col_heading level0 col6\" >comm</th>\n",
              "      <th id=\"T_bbc73_level0_col7\" class=\"col_heading level0 col7\" >deptid</th>\n",
              "      <th id=\"T_bbc73_level0_col8\" class=\"col_heading level0 col8\" >hiredby</th>\n",
              "    </tr>\n",
              "  </thead>\n",
              "  <tbody>\n",
              "    <tr>\n",
              "      <td id=\"T_bbc73_row0_col0\" class=\"data row0 col0\" >742866</td>\n",
              "      <td id=\"T_bbc73_row0_col1\" class=\"data row0 col1\" >Bacchan</td>\n",
              "      <td id=\"T_bbc73_row0_col2\" class=\"data row0 col2\" >Amitabh</td>\n",
              "      <td id=\"T_bbc73_row0_col3\" class=\"data row0 col3\" >Executive</td>\n",
              "      <td id=\"T_bbc73_row0_col4\" class=\"data row0 col4\" >2003-03-10</td>\n",
              "      <td id=\"T_bbc73_row0_col5\" class=\"data row0 col5\" >50000</td>\n",
              "      <td id=\"T_bbc73_row0_col6\" class=\"data row0 col6\" >0.10</td>\n",
              "      <td id=\"T_bbc73_row0_col7\" class=\"data row0 col7\" >10</td>\n",
              "      <td id=\"T_bbc73_row0_col8\" class=\"data row0 col8\" >None</td>\n",
              "    </tr>\n",
              "    <tr>\n",
              "      <td id=\"T_bbc73_row1_col0\" class=\"data row1 col0\" >349870</td>\n",
              "      <td id=\"T_bbc73_row1_col1\" class=\"data row1 col1\" >Mukherjee</td>\n",
              "      <td id=\"T_bbc73_row1_col2\" class=\"data row1 col2\" >Rani</td>\n",
              "      <td id=\"T_bbc73_row1_col3\" class=\"data row1 col3\" >Manager</td>\n",
              "      <td id=\"T_bbc73_row1_col4\" class=\"data row1 col4\" >2005-05-04</td>\n",
              "      <td id=\"T_bbc73_row1_col5\" class=\"data row1 col5\" >25000</td>\n",
              "      <td id=\"T_bbc73_row1_col6\" class=\"data row1 col6\" >0.06</td>\n",
              "      <td id=\"T_bbc73_row1_col7\" class=\"data row1 col7\" >40</td>\n",
              "      <td id=\"T_bbc73_row1_col8\" class=\"data row1 col8\" >742866</td>\n",
              "    </tr>\n",
              "    <tr>\n",
              "      <td id=\"T_bbc73_row2_col0\" class=\"data row2 col0\" >865477</td>\n",
              "      <td id=\"T_bbc73_row2_col1\" class=\"data row2 col1\" >Dikshit</td>\n",
              "      <td id=\"T_bbc73_row2_col2\" class=\"data row2 col2\" >Madhuri</td>\n",
              "      <td id=\"T_bbc73_row2_col3\" class=\"data row2 col3\" >Clerk</td>\n",
              "      <td id=\"T_bbc73_row2_col4\" class=\"data row2 col4\" >2002-04-04</td>\n",
              "      <td id=\"T_bbc73_row2_col5\" class=\"data row2 col5\" >10000</td>\n",
              "      <td id=\"T_bbc73_row2_col6\" class=\"data row2 col6\" >0.02</td>\n",
              "      <td id=\"T_bbc73_row2_col7\" class=\"data row2 col7\" >20</td>\n",
              "      <td id=\"T_bbc73_row2_col8\" class=\"data row2 col8\" >239456</td>\n",
              "    </tr>\n",
              "    <tr>\n",
              "      <td id=\"T_bbc73_row3_col0\" class=\"data row3 col0\" >239456</td>\n",
              "      <td id=\"T_bbc73_row3_col1\" class=\"data row3 col1\" >Khan</td>\n",
              "      <td id=\"T_bbc73_row3_col2\" class=\"data row3 col2\" >Shahrukh</td>\n",
              "      <td id=\"T_bbc73_row3_col3\" class=\"data row3 col3\" >Manager</td>\n",
              "      <td id=\"T_bbc73_row3_col4\" class=\"data row3 col4\" >2004-01-03</td>\n",
              "      <td id=\"T_bbc73_row3_col5\" class=\"data row3 col5\" >30000</td>\n",
              "      <td id=\"T_bbc73_row3_col6\" class=\"data row3 col6\" >0.07</td>\n",
              "      <td id=\"T_bbc73_row3_col7\" class=\"data row3 col7\" >20</td>\n",
              "      <td id=\"T_bbc73_row3_col8\" class=\"data row3 col8\" >742866</td>\n",
              "    </tr>\n",
              "    <tr>\n",
              "      <td id=\"T_bbc73_row4_col0\" class=\"data row4 col0\" >897889</td>\n",
              "      <td id=\"T_bbc73_row4_col1\" class=\"data row4 col1\" >Sehwag</td>\n",
              "      <td id=\"T_bbc73_row4_col2\" class=\"data row4 col2\" >Virender</td>\n",
              "      <td id=\"T_bbc73_row4_col3\" class=\"data row4 col3\" >Cus_Rep</td>\n",
              "      <td id=\"T_bbc73_row4_col4\" class=\"data row4 col4\" >2005-01-02</td>\n",
              "      <td id=\"T_bbc73_row4_col5\" class=\"data row4 col5\" >15000</td>\n",
              "      <td id=\"T_bbc73_row4_col6\" class=\"data row4 col6\" >0.05</td>\n",
              "      <td id=\"T_bbc73_row4_col7\" class=\"data row4 col7\" >20</td>\n",
              "      <td id=\"T_bbc73_row4_col8\" class=\"data row4 col8\" >239456</td>\n",
              "    </tr>\n",
              "    <tr>\n",
              "      <td id=\"T_bbc73_row5_col0\" class=\"data row5 col0\" >123980</td>\n",
              "      <td id=\"T_bbc73_row5_col1\" class=\"data row5 col1\" >Dhoni</td>\n",
              "      <td id=\"T_bbc73_row5_col2\" class=\"data row5 col2\" >Mahender</td>\n",
              "      <td id=\"T_bbc73_row5_col3\" class=\"data row5 col3\" >Clerk</td>\n",
              "      <td id=\"T_bbc73_row5_col4\" class=\"data row5 col4\" >2004-10-09</td>\n",
              "      <td id=\"T_bbc73_row5_col5\" class=\"data row5 col5\" >9000</td>\n",
              "      <td id=\"T_bbc73_row5_col6\" class=\"data row5 col6\" >0.02</td>\n",
              "      <td id=\"T_bbc73_row5_col7\" class=\"data row5 col7\" >40</td>\n",
              "      <td id=\"T_bbc73_row5_col8\" class=\"data row5 col8\" >349870</td>\n",
              "    </tr>\n",
              "    <tr>\n",
              "      <td id=\"T_bbc73_row6_col0\" class=\"data row6 col0\" >822134</td>\n",
              "      <td id=\"T_bbc73_row6_col1\" class=\"data row6 col1\" >Dravid</td>\n",
              "      <td id=\"T_bbc73_row6_col2\" class=\"data row6 col2\" >Rahul</td>\n",
              "      <td id=\"T_bbc73_row6_col3\" class=\"data row6 col3\" >Sr Manager</td>\n",
              "      <td id=\"T_bbc73_row6_col4\" class=\"data row6 col4\" >2000-06-04</td>\n",
              "      <td id=\"T_bbc73_row6_col5\" class=\"data row6 col5\" >40000</td>\n",
              "      <td id=\"T_bbc73_row6_col6\" class=\"data row6 col6\" >0.08</td>\n",
              "      <td id=\"T_bbc73_row6_col7\" class=\"data row6 col7\" >30</td>\n",
              "      <td id=\"T_bbc73_row6_col8\" class=\"data row6 col8\" >742866</td>\n",
              "    </tr>\n",
              "    <tr>\n",
              "      <td id=\"T_bbc73_row7_col0\" class=\"data row7 col0\" >997445</td>\n",
              "      <td id=\"T_bbc73_row7_col1\" class=\"data row7 col1\" >Dalmia</td>\n",
              "      <td id=\"T_bbc73_row7_col2\" class=\"data row7 col2\" >Jagmohan</td>\n",
              "      <td id=\"T_bbc73_row7_col3\" class=\"data row7 col3\" >Clerk</td>\n",
              "      <td id=\"T_bbc73_row7_col4\" class=\"data row7 col4\" >2001-07-01</td>\n",
              "      <td id=\"T_bbc73_row7_col5\" class=\"data row7 col5\" >12000</td>\n",
              "      <td id=\"T_bbc73_row7_col6\" class=\"data row7 col6\" >0.02</td>\n",
              "      <td id=\"T_bbc73_row7_col7\" class=\"data row7 col7\" >30</td>\n",
              "      <td id=\"T_bbc73_row7_col8\" class=\"data row7 col8\" >822134</td>\n",
              "    </tr>\n",
              "    <tr>\n",
              "      <td id=\"T_bbc73_row8_col0\" class=\"data row8 col0\" >989007</td>\n",
              "      <td id=\"T_bbc73_row8_col1\" class=\"data row8 col1\" >Ganguly</td>\n",
              "      <td id=\"T_bbc73_row8_col2\" class=\"data row8 col2\" >Sourav</td>\n",
              "      <td id=\"T_bbc73_row8_col3\" class=\"data row8 col3\" >Cus_Rep</td>\n",
              "      <td id=\"T_bbc73_row8_col4\" class=\"data row8 col4\" >2002-01-01</td>\n",
              "      <td id=\"T_bbc73_row8_col5\" class=\"data row8 col5\" >20000</td>\n",
              "      <td id=\"T_bbc73_row8_col6\" class=\"data row8 col6\" >0.03</td>\n",
              "      <td id=\"T_bbc73_row8_col7\" class=\"data row8 col7\" >40</td>\n",
              "      <td id=\"T_bbc73_row8_col8\" class=\"data row8 col8\" >299034</td>\n",
              "    </tr>\n",
              "    <tr>\n",
              "      <td id=\"T_bbc73_row9_col0\" class=\"data row9 col0\" >299034</td>\n",
              "      <td id=\"T_bbc73_row9_col1\" class=\"data row9 col1\" >Ganesan</td>\n",
              "      <td id=\"T_bbc73_row9_col2\" class=\"data row9 col2\" >Rekha</td>\n",
              "      <td id=\"T_bbc73_row9_col3\" class=\"data row9 col3\" >Director</td>\n",
              "      <td id=\"T_bbc73_row9_col4\" class=\"data row9 col4\" >2002-10-10</td>\n",
              "      <td id=\"T_bbc73_row9_col5\" class=\"data row9 col5\" >60000</td>\n",
              "      <td id=\"T_bbc73_row9_col6\" class=\"data row9 col6\" >0.11</td>\n",
              "      <td id=\"T_bbc73_row9_col7\" class=\"data row9 col7\" >10</td>\n",
              "      <td id=\"T_bbc73_row9_col8\" class=\"data row9 col8\" >742866</td>\n",
              "    </tr>\n",
              "    <tr>\n",
              "      <td id=\"T_bbc73_row10_col0\" class=\"data row10 col0\" >546223</td>\n",
              "      <td id=\"T_bbc73_row10_col1\" class=\"data row10 col1\" >Karthikeyan</td>\n",
              "      <td id=\"T_bbc73_row10_col2\" class=\"data row10 col2\" >Narayan</td>\n",
              "      <td id=\"T_bbc73_row10_col3\" class=\"data row10 col3\" >Secretary</td>\n",
              "      <td id=\"T_bbc73_row10_col4\" class=\"data row10 col4\" >2005-12-04</td>\n",
              "      <td id=\"T_bbc73_row10_col5\" class=\"data row10 col5\" >40000</td>\n",
              "      <td id=\"T_bbc73_row10_col6\" class=\"data row10 col6\" >0.09</td>\n",
              "      <td id=\"T_bbc73_row10_col7\" class=\"data row10 col7\" >10</td>\n",
              "      <td id=\"T_bbc73_row10_col8\" class=\"data row10 col8\" >299034</td>\n",
              "    </tr>\n",
              "    <tr>\n",
              "      <td id=\"T_bbc73_row11_col0\" class=\"data row11 col0\" >546224</td>\n",
              "      <td id=\"T_bbc73_row11_col1\" class=\"data row11 col1\" >Sunil</td>\n",
              "      <td id=\"T_bbc73_row11_col2\" class=\"data row11 col2\" >Chettri</td>\n",
              "      <td id=\"T_bbc73_row11_col3\" class=\"data row11 col3\" >Dy Manager</td>\n",
              "      <td id=\"T_bbc73_row11_col4\" class=\"data row11 col4\" >2006-12-07</td>\n",
              "      <td id=\"T_bbc73_row11_col5\" class=\"data row11 col5\" >40000</td>\n",
              "      <td id=\"T_bbc73_row11_col6\" class=\"data row11 col6\" >0.05</td>\n",
              "      <td id=\"T_bbc73_row11_col7\" class=\"data row11 col7\" >70</td>\n",
              "      <td id=\"T_bbc73_row11_col8\" class=\"data row11 col8\" >349870</td>\n",
              "    </tr>\n",
              "    <tr>\n",
              "      <td id=\"T_bbc73_row12_col0\" class=\"data row12 col0\" >223112</td>\n",
              "      <td id=\"T_bbc73_row12_col1\" class=\"data row12 col1\" >Mirza</td>\n",
              "      <td id=\"T_bbc73_row12_col2\" class=\"data row12 col2\" >Sania</td>\n",
              "      <td id=\"T_bbc73_row12_col3\" class=\"data row12 col3\" >Cus_Rep</td>\n",
              "      <td id=\"T_bbc73_row12_col4\" class=\"data row12 col4\" >2001-11-19</td>\n",
              "      <td id=\"T_bbc73_row12_col5\" class=\"data row12 col5\" >25000</td>\n",
              "      <td id=\"T_bbc73_row12_col6\" class=\"data row12 col6\" >0.04</td>\n",
              "      <td id=\"T_bbc73_row12_col7\" class=\"data row12 col7\" >30</td>\n",
              "      <td id=\"T_bbc73_row12_col8\" class=\"data row12 col8\" >822134</td>\n",
              "    </tr>\n",
              "  </tbody>\n",
              "</table>\n"
            ]
          },
          "metadata": {},
          "execution_count": 13
        }
      ]
    },
    {
      "cell_type": "code",
      "source": [
        "runSelect('select lastname, jobdesc, salary from empl')"
      ],
      "metadata": {
        "id": "z-mxVMPuuxu6",
        "outputId": "c7b92f01-e647-47f5-9818-2fc926f252a5",
        "colab": {
          "base_uri": "https://localhost:8080/",
          "height": 457
        }
      },
      "execution_count": 14,
      "outputs": [
        {
          "output_type": "execute_result",
          "data": {
            "text/plain": [
              "<pandas.io.formats.style.Styler at 0x7981e55cec20>"
            ],
            "text/html": [
              "<style type=\"text/css\">\n",
              "</style>\n",
              "<table id=\"T_a6dc4\" class=\"dataframe\">\n",
              "  <thead>\n",
              "    <tr>\n",
              "      <th id=\"T_a6dc4_level0_col0\" class=\"col_heading level0 col0\" >lastname</th>\n",
              "      <th id=\"T_a6dc4_level0_col1\" class=\"col_heading level0 col1\" >jobdesc</th>\n",
              "      <th id=\"T_a6dc4_level0_col2\" class=\"col_heading level0 col2\" >salary</th>\n",
              "    </tr>\n",
              "  </thead>\n",
              "  <tbody>\n",
              "    <tr>\n",
              "      <td id=\"T_a6dc4_row0_col0\" class=\"data row0 col0\" >Bacchan</td>\n",
              "      <td id=\"T_a6dc4_row0_col1\" class=\"data row0 col1\" >Executive</td>\n",
              "      <td id=\"T_a6dc4_row0_col2\" class=\"data row0 col2\" >50000</td>\n",
              "    </tr>\n",
              "    <tr>\n",
              "      <td id=\"T_a6dc4_row1_col0\" class=\"data row1 col0\" >Mukherjee</td>\n",
              "      <td id=\"T_a6dc4_row1_col1\" class=\"data row1 col1\" >Manager</td>\n",
              "      <td id=\"T_a6dc4_row1_col2\" class=\"data row1 col2\" >25000</td>\n",
              "    </tr>\n",
              "    <tr>\n",
              "      <td id=\"T_a6dc4_row2_col0\" class=\"data row2 col0\" >Dikshit</td>\n",
              "      <td id=\"T_a6dc4_row2_col1\" class=\"data row2 col1\" >Clerk</td>\n",
              "      <td id=\"T_a6dc4_row2_col2\" class=\"data row2 col2\" >10000</td>\n",
              "    </tr>\n",
              "    <tr>\n",
              "      <td id=\"T_a6dc4_row3_col0\" class=\"data row3 col0\" >Khan</td>\n",
              "      <td id=\"T_a6dc4_row3_col1\" class=\"data row3 col1\" >Manager</td>\n",
              "      <td id=\"T_a6dc4_row3_col2\" class=\"data row3 col2\" >30000</td>\n",
              "    </tr>\n",
              "    <tr>\n",
              "      <td id=\"T_a6dc4_row4_col0\" class=\"data row4 col0\" >Sehwag</td>\n",
              "      <td id=\"T_a6dc4_row4_col1\" class=\"data row4 col1\" >Cus_Rep</td>\n",
              "      <td id=\"T_a6dc4_row4_col2\" class=\"data row4 col2\" >15000</td>\n",
              "    </tr>\n",
              "    <tr>\n",
              "      <td id=\"T_a6dc4_row5_col0\" class=\"data row5 col0\" >Dhoni</td>\n",
              "      <td id=\"T_a6dc4_row5_col1\" class=\"data row5 col1\" >Clerk</td>\n",
              "      <td id=\"T_a6dc4_row5_col2\" class=\"data row5 col2\" >9000</td>\n",
              "    </tr>\n",
              "    <tr>\n",
              "      <td id=\"T_a6dc4_row6_col0\" class=\"data row6 col0\" >Dravid</td>\n",
              "      <td id=\"T_a6dc4_row6_col1\" class=\"data row6 col1\" >Sr Manager</td>\n",
              "      <td id=\"T_a6dc4_row6_col2\" class=\"data row6 col2\" >40000</td>\n",
              "    </tr>\n",
              "    <tr>\n",
              "      <td id=\"T_a6dc4_row7_col0\" class=\"data row7 col0\" >Dalmia</td>\n",
              "      <td id=\"T_a6dc4_row7_col1\" class=\"data row7 col1\" >Clerk</td>\n",
              "      <td id=\"T_a6dc4_row7_col2\" class=\"data row7 col2\" >12000</td>\n",
              "    </tr>\n",
              "    <tr>\n",
              "      <td id=\"T_a6dc4_row8_col0\" class=\"data row8 col0\" >Ganguly</td>\n",
              "      <td id=\"T_a6dc4_row8_col1\" class=\"data row8 col1\" >Cus_Rep</td>\n",
              "      <td id=\"T_a6dc4_row8_col2\" class=\"data row8 col2\" >20000</td>\n",
              "    </tr>\n",
              "    <tr>\n",
              "      <td id=\"T_a6dc4_row9_col0\" class=\"data row9 col0\" >Ganesan</td>\n",
              "      <td id=\"T_a6dc4_row9_col1\" class=\"data row9 col1\" >Director</td>\n",
              "      <td id=\"T_a6dc4_row9_col2\" class=\"data row9 col2\" >60000</td>\n",
              "    </tr>\n",
              "    <tr>\n",
              "      <td id=\"T_a6dc4_row10_col0\" class=\"data row10 col0\" >Karthikeyan</td>\n",
              "      <td id=\"T_a6dc4_row10_col1\" class=\"data row10 col1\" >Secretary</td>\n",
              "      <td id=\"T_a6dc4_row10_col2\" class=\"data row10 col2\" >40000</td>\n",
              "    </tr>\n",
              "    <tr>\n",
              "      <td id=\"T_a6dc4_row11_col0\" class=\"data row11 col0\" >Sunil</td>\n",
              "      <td id=\"T_a6dc4_row11_col1\" class=\"data row11 col1\" >Dy Manager</td>\n",
              "      <td id=\"T_a6dc4_row11_col2\" class=\"data row11 col2\" >40000</td>\n",
              "    </tr>\n",
              "    <tr>\n",
              "      <td id=\"T_a6dc4_row12_col0\" class=\"data row12 col0\" >Mirza</td>\n",
              "      <td id=\"T_a6dc4_row12_col1\" class=\"data row12 col1\" >Cus_Rep</td>\n",
              "      <td id=\"T_a6dc4_row12_col2\" class=\"data row12 col2\" >25000</td>\n",
              "    </tr>\n",
              "  </tbody>\n",
              "</table>\n"
            ]
          },
          "metadata": {},
          "execution_count": 14
        }
      ]
    },
    {
      "cell_type": "code",
      "source": [
        "runSelect('select distinct(jobdesc) from empl')"
      ],
      "metadata": {
        "id": "7uvcAdlCvg-p",
        "outputId": "b13b7c6a-ada7-46ac-9b89-99d22ece2f91",
        "colab": {
          "base_uri": "https://localhost:8080/",
          "height": 300
        }
      },
      "execution_count": 15,
      "outputs": [
        {
          "output_type": "execute_result",
          "data": {
            "text/plain": [
              "<pandas.io.formats.style.Styler at 0x7981e55cf160>"
            ],
            "text/html": [
              "<style type=\"text/css\">\n",
              "</style>\n",
              "<table id=\"T_a1abc\" class=\"dataframe\">\n",
              "  <thead>\n",
              "    <tr>\n",
              "      <th id=\"T_a1abc_level0_col0\" class=\"col_heading level0 col0\" >jobdesc</th>\n",
              "    </tr>\n",
              "  </thead>\n",
              "  <tbody>\n",
              "    <tr>\n",
              "      <td id=\"T_a1abc_row0_col0\" class=\"data row0 col0\" >Director</td>\n",
              "    </tr>\n",
              "    <tr>\n",
              "      <td id=\"T_a1abc_row1_col0\" class=\"data row1 col0\" >Manager</td>\n",
              "    </tr>\n",
              "    <tr>\n",
              "      <td id=\"T_a1abc_row2_col0\" class=\"data row2 col0\" >Dy Manager</td>\n",
              "    </tr>\n",
              "    <tr>\n",
              "      <td id=\"T_a1abc_row3_col0\" class=\"data row3 col0\" >Executive</td>\n",
              "    </tr>\n",
              "    <tr>\n",
              "      <td id=\"T_a1abc_row4_col0\" class=\"data row4 col0\" >Secretary</td>\n",
              "    </tr>\n",
              "    <tr>\n",
              "      <td id=\"T_a1abc_row5_col0\" class=\"data row5 col0\" >Cus_Rep</td>\n",
              "    </tr>\n",
              "    <tr>\n",
              "      <td id=\"T_a1abc_row6_col0\" class=\"data row6 col0\" >Clerk</td>\n",
              "    </tr>\n",
              "    <tr>\n",
              "      <td id=\"T_a1abc_row7_col0\" class=\"data row7 col0\" >Sr Manager</td>\n",
              "    </tr>\n",
              "  </tbody>\n",
              "</table>\n"
            ]
          },
          "metadata": {},
          "execution_count": 15
        }
      ]
    },
    {
      "cell_type": "markdown",
      "source": [
        "#Where"
      ],
      "metadata": {
        "id": "LFbNG59OxVzF"
      }
    },
    {
      "cell_type": "markdown",
      "source": [
        "## Equal, Not Equal, Greater, Less"
      ],
      "metadata": {
        "id": "JM2k29awVQHc"
      }
    },
    {
      "cell_type": "code",
      "source": [
        "runSelect(\"select firstname, lastname, jobdesc from empl where jobdesc = 'Clerk'\")"
      ],
      "metadata": {
        "id": "rRZz9OpLxdEY",
        "outputId": "fb4e9d63-e749-4a5f-fcfe-2cf2bfdb0d18",
        "colab": {
          "base_uri": "https://localhost:8080/",
          "height": 143
        }
      },
      "execution_count": 16,
      "outputs": [
        {
          "output_type": "execute_result",
          "data": {
            "text/plain": [
              "<pandas.io.formats.style.Styler at 0x7981e55cf8e0>"
            ],
            "text/html": [
              "<style type=\"text/css\">\n",
              "</style>\n",
              "<table id=\"T_da6ce\" class=\"dataframe\">\n",
              "  <thead>\n",
              "    <tr>\n",
              "      <th id=\"T_da6ce_level0_col0\" class=\"col_heading level0 col0\" >firstname</th>\n",
              "      <th id=\"T_da6ce_level0_col1\" class=\"col_heading level0 col1\" >lastname</th>\n",
              "      <th id=\"T_da6ce_level0_col2\" class=\"col_heading level0 col2\" >jobdesc</th>\n",
              "    </tr>\n",
              "  </thead>\n",
              "  <tbody>\n",
              "    <tr>\n",
              "      <td id=\"T_da6ce_row0_col0\" class=\"data row0 col0\" >Madhuri</td>\n",
              "      <td id=\"T_da6ce_row0_col1\" class=\"data row0 col1\" >Dikshit</td>\n",
              "      <td id=\"T_da6ce_row0_col2\" class=\"data row0 col2\" >Clerk</td>\n",
              "    </tr>\n",
              "    <tr>\n",
              "      <td id=\"T_da6ce_row1_col0\" class=\"data row1 col0\" >Mahender</td>\n",
              "      <td id=\"T_da6ce_row1_col1\" class=\"data row1 col1\" >Dhoni</td>\n",
              "      <td id=\"T_da6ce_row1_col2\" class=\"data row1 col2\" >Clerk</td>\n",
              "    </tr>\n",
              "    <tr>\n",
              "      <td id=\"T_da6ce_row2_col0\" class=\"data row2 col0\" >Jagmohan</td>\n",
              "      <td id=\"T_da6ce_row2_col1\" class=\"data row2 col1\" >Dalmia</td>\n",
              "      <td id=\"T_da6ce_row2_col2\" class=\"data row2 col2\" >Clerk</td>\n",
              "    </tr>\n",
              "  </tbody>\n",
              "</table>\n"
            ]
          },
          "metadata": {},
          "execution_count": 16
        }
      ]
    },
    {
      "cell_type": "code",
      "source": [
        "runSelect(\"select firstname, lastname, jobdesc from empl where jobdesc != 'Clerk'\")"
      ],
      "metadata": {
        "id": "3cl0ISR9yG-I",
        "outputId": "555543d0-a936-45d9-bbba-c8cb5a034f31",
        "colab": {
          "base_uri": "https://localhost:8080/",
          "height": 363
        }
      },
      "execution_count": 17,
      "outputs": [
        {
          "output_type": "execute_result",
          "data": {
            "text/plain": [
              "<pandas.io.formats.style.Styler at 0x7981e55fcd30>"
            ],
            "text/html": [
              "<style type=\"text/css\">\n",
              "</style>\n",
              "<table id=\"T_4d6b5\" class=\"dataframe\">\n",
              "  <thead>\n",
              "    <tr>\n",
              "      <th id=\"T_4d6b5_level0_col0\" class=\"col_heading level0 col0\" >firstname</th>\n",
              "      <th id=\"T_4d6b5_level0_col1\" class=\"col_heading level0 col1\" >lastname</th>\n",
              "      <th id=\"T_4d6b5_level0_col2\" class=\"col_heading level0 col2\" >jobdesc</th>\n",
              "    </tr>\n",
              "  </thead>\n",
              "  <tbody>\n",
              "    <tr>\n",
              "      <td id=\"T_4d6b5_row0_col0\" class=\"data row0 col0\" >Amitabh</td>\n",
              "      <td id=\"T_4d6b5_row0_col1\" class=\"data row0 col1\" >Bacchan</td>\n",
              "      <td id=\"T_4d6b5_row0_col2\" class=\"data row0 col2\" >Executive</td>\n",
              "    </tr>\n",
              "    <tr>\n",
              "      <td id=\"T_4d6b5_row1_col0\" class=\"data row1 col0\" >Rani</td>\n",
              "      <td id=\"T_4d6b5_row1_col1\" class=\"data row1 col1\" >Mukherjee</td>\n",
              "      <td id=\"T_4d6b5_row1_col2\" class=\"data row1 col2\" >Manager</td>\n",
              "    </tr>\n",
              "    <tr>\n",
              "      <td id=\"T_4d6b5_row2_col0\" class=\"data row2 col0\" >Shahrukh</td>\n",
              "      <td id=\"T_4d6b5_row2_col1\" class=\"data row2 col1\" >Khan</td>\n",
              "      <td id=\"T_4d6b5_row2_col2\" class=\"data row2 col2\" >Manager</td>\n",
              "    </tr>\n",
              "    <tr>\n",
              "      <td id=\"T_4d6b5_row3_col0\" class=\"data row3 col0\" >Virender</td>\n",
              "      <td id=\"T_4d6b5_row3_col1\" class=\"data row3 col1\" >Sehwag</td>\n",
              "      <td id=\"T_4d6b5_row3_col2\" class=\"data row3 col2\" >Cus_Rep</td>\n",
              "    </tr>\n",
              "    <tr>\n",
              "      <td id=\"T_4d6b5_row4_col0\" class=\"data row4 col0\" >Rahul</td>\n",
              "      <td id=\"T_4d6b5_row4_col1\" class=\"data row4 col1\" >Dravid</td>\n",
              "      <td id=\"T_4d6b5_row4_col2\" class=\"data row4 col2\" >Sr Manager</td>\n",
              "    </tr>\n",
              "    <tr>\n",
              "      <td id=\"T_4d6b5_row5_col0\" class=\"data row5 col0\" >Sourav</td>\n",
              "      <td id=\"T_4d6b5_row5_col1\" class=\"data row5 col1\" >Ganguly</td>\n",
              "      <td id=\"T_4d6b5_row5_col2\" class=\"data row5 col2\" >Cus_Rep</td>\n",
              "    </tr>\n",
              "    <tr>\n",
              "      <td id=\"T_4d6b5_row6_col0\" class=\"data row6 col0\" >Rekha</td>\n",
              "      <td id=\"T_4d6b5_row6_col1\" class=\"data row6 col1\" >Ganesan</td>\n",
              "      <td id=\"T_4d6b5_row6_col2\" class=\"data row6 col2\" >Director</td>\n",
              "    </tr>\n",
              "    <tr>\n",
              "      <td id=\"T_4d6b5_row7_col0\" class=\"data row7 col0\" >Narayan</td>\n",
              "      <td id=\"T_4d6b5_row7_col1\" class=\"data row7 col1\" >Karthikeyan</td>\n",
              "      <td id=\"T_4d6b5_row7_col2\" class=\"data row7 col2\" >Secretary</td>\n",
              "    </tr>\n",
              "    <tr>\n",
              "      <td id=\"T_4d6b5_row8_col0\" class=\"data row8 col0\" >Chettri</td>\n",
              "      <td id=\"T_4d6b5_row8_col1\" class=\"data row8 col1\" >Sunil</td>\n",
              "      <td id=\"T_4d6b5_row8_col2\" class=\"data row8 col2\" >Dy Manager</td>\n",
              "    </tr>\n",
              "    <tr>\n",
              "      <td id=\"T_4d6b5_row9_col0\" class=\"data row9 col0\" >Sania</td>\n",
              "      <td id=\"T_4d6b5_row9_col1\" class=\"data row9 col1\" >Mirza</td>\n",
              "      <td id=\"T_4d6b5_row9_col2\" class=\"data row9 col2\" >Cus_Rep</td>\n",
              "    </tr>\n",
              "  </tbody>\n",
              "</table>\n"
            ]
          },
          "metadata": {},
          "execution_count": 17
        }
      ]
    },
    {
      "cell_type": "code",
      "source": [
        "runSelect(\"select firstname, lastname, salary from empl where salary > 35000\")"
      ],
      "metadata": {
        "id": "obIPpNbDyT4S",
        "outputId": "bc920fa5-efd2-4b42-c8d3-1f3a06dbddec",
        "colab": {
          "base_uri": "https://localhost:8080/",
          "height": 206
        }
      },
      "execution_count": 18,
      "outputs": [
        {
          "output_type": "execute_result",
          "data": {
            "text/plain": [
              "<pandas.io.formats.style.Styler at 0x7981e55cf370>"
            ],
            "text/html": [
              "<style type=\"text/css\">\n",
              "</style>\n",
              "<table id=\"T_247e7\" class=\"dataframe\">\n",
              "  <thead>\n",
              "    <tr>\n",
              "      <th id=\"T_247e7_level0_col0\" class=\"col_heading level0 col0\" >firstname</th>\n",
              "      <th id=\"T_247e7_level0_col1\" class=\"col_heading level0 col1\" >lastname</th>\n",
              "      <th id=\"T_247e7_level0_col2\" class=\"col_heading level0 col2\" >salary</th>\n",
              "    </tr>\n",
              "  </thead>\n",
              "  <tbody>\n",
              "    <tr>\n",
              "      <td id=\"T_247e7_row0_col0\" class=\"data row0 col0\" >Amitabh</td>\n",
              "      <td id=\"T_247e7_row0_col1\" class=\"data row0 col1\" >Bacchan</td>\n",
              "      <td id=\"T_247e7_row0_col2\" class=\"data row0 col2\" >50000</td>\n",
              "    </tr>\n",
              "    <tr>\n",
              "      <td id=\"T_247e7_row1_col0\" class=\"data row1 col0\" >Rahul</td>\n",
              "      <td id=\"T_247e7_row1_col1\" class=\"data row1 col1\" >Dravid</td>\n",
              "      <td id=\"T_247e7_row1_col2\" class=\"data row1 col2\" >40000</td>\n",
              "    </tr>\n",
              "    <tr>\n",
              "      <td id=\"T_247e7_row2_col0\" class=\"data row2 col0\" >Rekha</td>\n",
              "      <td id=\"T_247e7_row2_col1\" class=\"data row2 col1\" >Ganesan</td>\n",
              "      <td id=\"T_247e7_row2_col2\" class=\"data row2 col2\" >60000</td>\n",
              "    </tr>\n",
              "    <tr>\n",
              "      <td id=\"T_247e7_row3_col0\" class=\"data row3 col0\" >Narayan</td>\n",
              "      <td id=\"T_247e7_row3_col1\" class=\"data row3 col1\" >Karthikeyan</td>\n",
              "      <td id=\"T_247e7_row3_col2\" class=\"data row3 col2\" >40000</td>\n",
              "    </tr>\n",
              "    <tr>\n",
              "      <td id=\"T_247e7_row4_col0\" class=\"data row4 col0\" >Chettri</td>\n",
              "      <td id=\"T_247e7_row4_col1\" class=\"data row4 col1\" >Sunil</td>\n",
              "      <td id=\"T_247e7_row4_col2\" class=\"data row4 col2\" >40000</td>\n",
              "    </tr>\n",
              "  </tbody>\n",
              "</table>\n"
            ]
          },
          "metadata": {},
          "execution_count": 18
        }
      ]
    },
    {
      "cell_type": "code",
      "source": [
        "runSelect(\"select firstname, lastname, salary, joindate from empl where joindate < '2002-01-01'\")"
      ],
      "metadata": {
        "colab": {
          "base_uri": "https://localhost:8080/",
          "height": 143
        },
        "id": "hnIvgy_dMvQl",
        "outputId": "59e0ed0c-9c36-40a5-814f-baaff3b5980d"
      },
      "execution_count": 19,
      "outputs": [
        {
          "output_type": "execute_result",
          "data": {
            "text/plain": [
              "<pandas.io.formats.style.Styler at 0x7981e55cf970>"
            ],
            "text/html": [
              "<style type=\"text/css\">\n",
              "</style>\n",
              "<table id=\"T_0f50d\" class=\"dataframe\">\n",
              "  <thead>\n",
              "    <tr>\n",
              "      <th id=\"T_0f50d_level0_col0\" class=\"col_heading level0 col0\" >firstname</th>\n",
              "      <th id=\"T_0f50d_level0_col1\" class=\"col_heading level0 col1\" >lastname</th>\n",
              "      <th id=\"T_0f50d_level0_col2\" class=\"col_heading level0 col2\" >salary</th>\n",
              "      <th id=\"T_0f50d_level0_col3\" class=\"col_heading level0 col3\" >joindate</th>\n",
              "    </tr>\n",
              "  </thead>\n",
              "  <tbody>\n",
              "    <tr>\n",
              "      <td id=\"T_0f50d_row0_col0\" class=\"data row0 col0\" >Rahul</td>\n",
              "      <td id=\"T_0f50d_row0_col1\" class=\"data row0 col1\" >Dravid</td>\n",
              "      <td id=\"T_0f50d_row0_col2\" class=\"data row0 col2\" >40000</td>\n",
              "      <td id=\"T_0f50d_row0_col3\" class=\"data row0 col3\" >2000-06-04</td>\n",
              "    </tr>\n",
              "    <tr>\n",
              "      <td id=\"T_0f50d_row1_col0\" class=\"data row1 col0\" >Jagmohan</td>\n",
              "      <td id=\"T_0f50d_row1_col1\" class=\"data row1 col1\" >Dalmia</td>\n",
              "      <td id=\"T_0f50d_row1_col2\" class=\"data row1 col2\" >12000</td>\n",
              "      <td id=\"T_0f50d_row1_col3\" class=\"data row1 col3\" >2001-07-01</td>\n",
              "    </tr>\n",
              "    <tr>\n",
              "      <td id=\"T_0f50d_row2_col0\" class=\"data row2 col0\" >Sania</td>\n",
              "      <td id=\"T_0f50d_row2_col1\" class=\"data row2 col1\" >Mirza</td>\n",
              "      <td id=\"T_0f50d_row2_col2\" class=\"data row2 col2\" >25000</td>\n",
              "      <td id=\"T_0f50d_row2_col3\" class=\"data row2 col3\" >2001-11-19</td>\n",
              "    </tr>\n",
              "  </tbody>\n",
              "</table>\n"
            ]
          },
          "metadata": {},
          "execution_count": 19
        }
      ]
    },
    {
      "cell_type": "markdown",
      "source": [
        "## Like"
      ],
      "metadata": {
        "id": "77DkYhfhU1lJ"
      }
    },
    {
      "cell_type": "code",
      "source": [
        "runSelect(\"select firstname, lastname, salary from empl where lastname like 'D%'\")"
      ],
      "metadata": {
        "colab": {
          "base_uri": "https://localhost:8080/",
          "height": 175
        },
        "id": "PBsdla2eVv1K",
        "outputId": "4225dd1e-0267-46f4-f980-e6d9c635dfd3"
      },
      "execution_count": 20,
      "outputs": [
        {
          "output_type": "execute_result",
          "data": {
            "text/plain": [
              "<pandas.io.formats.style.Styler at 0x798210e0f310>"
            ],
            "text/html": [
              "<style type=\"text/css\">\n",
              "</style>\n",
              "<table id=\"T_81387\" class=\"dataframe\">\n",
              "  <thead>\n",
              "    <tr>\n",
              "      <th id=\"T_81387_level0_col0\" class=\"col_heading level0 col0\" >firstname</th>\n",
              "      <th id=\"T_81387_level0_col1\" class=\"col_heading level0 col1\" >lastname</th>\n",
              "      <th id=\"T_81387_level0_col2\" class=\"col_heading level0 col2\" >salary</th>\n",
              "    </tr>\n",
              "  </thead>\n",
              "  <tbody>\n",
              "    <tr>\n",
              "      <td id=\"T_81387_row0_col0\" class=\"data row0 col0\" >Madhuri</td>\n",
              "      <td id=\"T_81387_row0_col1\" class=\"data row0 col1\" >Dikshit</td>\n",
              "      <td id=\"T_81387_row0_col2\" class=\"data row0 col2\" >10000</td>\n",
              "    </tr>\n",
              "    <tr>\n",
              "      <td id=\"T_81387_row1_col0\" class=\"data row1 col0\" >Mahender</td>\n",
              "      <td id=\"T_81387_row1_col1\" class=\"data row1 col1\" >Dhoni</td>\n",
              "      <td id=\"T_81387_row1_col2\" class=\"data row1 col2\" >9000</td>\n",
              "    </tr>\n",
              "    <tr>\n",
              "      <td id=\"T_81387_row2_col0\" class=\"data row2 col0\" >Rahul</td>\n",
              "      <td id=\"T_81387_row2_col1\" class=\"data row2 col1\" >Dravid</td>\n",
              "      <td id=\"T_81387_row2_col2\" class=\"data row2 col2\" >40000</td>\n",
              "    </tr>\n",
              "    <tr>\n",
              "      <td id=\"T_81387_row3_col0\" class=\"data row3 col0\" >Jagmohan</td>\n",
              "      <td id=\"T_81387_row3_col1\" class=\"data row3 col1\" >Dalmia</td>\n",
              "      <td id=\"T_81387_row3_col2\" class=\"data row3 col2\" >12000</td>\n",
              "    </tr>\n",
              "  </tbody>\n",
              "</table>\n"
            ]
          },
          "metadata": {},
          "execution_count": 20
        }
      ]
    },
    {
      "cell_type": "code",
      "source": [
        "runSelect(\"select firstname, lastname, joindate from empl where lastname like '____i_'\")"
      ],
      "metadata": {
        "colab": {
          "base_uri": "https://localhost:8080/",
          "height": 112
        },
        "id": "xxImEDlKbm4U",
        "outputId": "f86dd89b-b3a8-44aa-e077-619c2fa03d98"
      },
      "execution_count": 21,
      "outputs": [
        {
          "output_type": "execute_result",
          "data": {
            "text/plain": [
              "<pandas.io.formats.style.Styler at 0x7981e55fdb10>"
            ],
            "text/html": [
              "<style type=\"text/css\">\n",
              "</style>\n",
              "<table id=\"T_1872a\" class=\"dataframe\">\n",
              "  <thead>\n",
              "    <tr>\n",
              "      <th id=\"T_1872a_level0_col0\" class=\"col_heading level0 col0\" >firstname</th>\n",
              "      <th id=\"T_1872a_level0_col1\" class=\"col_heading level0 col1\" >lastname</th>\n",
              "      <th id=\"T_1872a_level0_col2\" class=\"col_heading level0 col2\" >joindate</th>\n",
              "    </tr>\n",
              "  </thead>\n",
              "  <tbody>\n",
              "    <tr>\n",
              "      <td id=\"T_1872a_row0_col0\" class=\"data row0 col0\" >Rahul</td>\n",
              "      <td id=\"T_1872a_row0_col1\" class=\"data row0 col1\" >Dravid</td>\n",
              "      <td id=\"T_1872a_row0_col2\" class=\"data row0 col2\" >2000-06-04</td>\n",
              "    </tr>\n",
              "    <tr>\n",
              "      <td id=\"T_1872a_row1_col0\" class=\"data row1 col0\" >Jagmohan</td>\n",
              "      <td id=\"T_1872a_row1_col1\" class=\"data row1 col1\" >Dalmia</td>\n",
              "      <td id=\"T_1872a_row1_col2\" class=\"data row1 col2\" >2001-07-01</td>\n",
              "    </tr>\n",
              "  </tbody>\n",
              "</table>\n"
            ]
          },
          "metadata": {},
          "execution_count": 21
        }
      ]
    },
    {
      "cell_type": "code",
      "source": [
        "runSelect(\"select firstname, lastname, jobdesc from empl where lastname like '____i%'\")"
      ],
      "metadata": {
        "colab": {
          "base_uri": "https://localhost:8080/",
          "height": 143
        },
        "id": "pL7VPLo4b2g3",
        "outputId": "6e19827c-4481-4de9-8629-c5028937f4d9"
      },
      "execution_count": 22,
      "outputs": [
        {
          "output_type": "execute_result",
          "data": {
            "text/plain": [
              "<pandas.io.formats.style.Styler at 0x7981e55fece0>"
            ],
            "text/html": [
              "<style type=\"text/css\">\n",
              "</style>\n",
              "<table id=\"T_a1406\" class=\"dataframe\">\n",
              "  <thead>\n",
              "    <tr>\n",
              "      <th id=\"T_a1406_level0_col0\" class=\"col_heading level0 col0\" >firstname</th>\n",
              "      <th id=\"T_a1406_level0_col1\" class=\"col_heading level0 col1\" >lastname</th>\n",
              "      <th id=\"T_a1406_level0_col2\" class=\"col_heading level0 col2\" >jobdesc</th>\n",
              "    </tr>\n",
              "  </thead>\n",
              "  <tbody>\n",
              "    <tr>\n",
              "      <td id=\"T_a1406_row0_col0\" class=\"data row0 col0\" >Mahender</td>\n",
              "      <td id=\"T_a1406_row0_col1\" class=\"data row0 col1\" >Dhoni</td>\n",
              "      <td id=\"T_a1406_row0_col2\" class=\"data row0 col2\" >Clerk</td>\n",
              "    </tr>\n",
              "    <tr>\n",
              "      <td id=\"T_a1406_row1_col0\" class=\"data row1 col0\" >Rahul</td>\n",
              "      <td id=\"T_a1406_row1_col1\" class=\"data row1 col1\" >Dravid</td>\n",
              "      <td id=\"T_a1406_row1_col2\" class=\"data row1 col2\" >Sr Manager</td>\n",
              "    </tr>\n",
              "    <tr>\n",
              "      <td id=\"T_a1406_row2_col0\" class=\"data row2 col0\" >Jagmohan</td>\n",
              "      <td id=\"T_a1406_row2_col1\" class=\"data row2 col1\" >Dalmia</td>\n",
              "      <td id=\"T_a1406_row2_col2\" class=\"data row2 col2\" >Clerk</td>\n",
              "    </tr>\n",
              "  </tbody>\n",
              "</table>\n"
            ]
          },
          "metadata": {},
          "execution_count": 22
        }
      ]
    },
    {
      "cell_type": "markdown",
      "source": [
        "## Between"
      ],
      "metadata": {
        "id": "qw2h8Vtvey2R"
      }
    },
    {
      "cell_type": "code",
      "source": [
        "runSelect(\"select firstname, lastname, salary from empl where salary between 10000 and 20000\")"
      ],
      "metadata": {
        "colab": {
          "base_uri": "https://localhost:8080/",
          "height": 175
        },
        "id": "sI_qlRdXe7S8",
        "outputId": "08591a89-2c0f-454a-f65f-c2cb8bdf452c"
      },
      "execution_count": 23,
      "outputs": [
        {
          "output_type": "execute_result",
          "data": {
            "text/plain": [
              "<pandas.io.formats.style.Styler at 0x7981e55fcf40>"
            ],
            "text/html": [
              "<style type=\"text/css\">\n",
              "</style>\n",
              "<table id=\"T_72260\" class=\"dataframe\">\n",
              "  <thead>\n",
              "    <tr>\n",
              "      <th id=\"T_72260_level0_col0\" class=\"col_heading level0 col0\" >firstname</th>\n",
              "      <th id=\"T_72260_level0_col1\" class=\"col_heading level0 col1\" >lastname</th>\n",
              "      <th id=\"T_72260_level0_col2\" class=\"col_heading level0 col2\" >salary</th>\n",
              "    </tr>\n",
              "  </thead>\n",
              "  <tbody>\n",
              "    <tr>\n",
              "      <td id=\"T_72260_row0_col0\" class=\"data row0 col0\" >Madhuri</td>\n",
              "      <td id=\"T_72260_row0_col1\" class=\"data row0 col1\" >Dikshit</td>\n",
              "      <td id=\"T_72260_row0_col2\" class=\"data row0 col2\" >10000</td>\n",
              "    </tr>\n",
              "    <tr>\n",
              "      <td id=\"T_72260_row1_col0\" class=\"data row1 col0\" >Virender</td>\n",
              "      <td id=\"T_72260_row1_col1\" class=\"data row1 col1\" >Sehwag</td>\n",
              "      <td id=\"T_72260_row1_col2\" class=\"data row1 col2\" >15000</td>\n",
              "    </tr>\n",
              "    <tr>\n",
              "      <td id=\"T_72260_row2_col0\" class=\"data row2 col0\" >Jagmohan</td>\n",
              "      <td id=\"T_72260_row2_col1\" class=\"data row2 col1\" >Dalmia</td>\n",
              "      <td id=\"T_72260_row2_col2\" class=\"data row2 col2\" >12000</td>\n",
              "    </tr>\n",
              "    <tr>\n",
              "      <td id=\"T_72260_row3_col0\" class=\"data row3 col0\" >Sourav</td>\n",
              "      <td id=\"T_72260_row3_col1\" class=\"data row3 col1\" >Ganguly</td>\n",
              "      <td id=\"T_72260_row3_col2\" class=\"data row3 col2\" >20000</td>\n",
              "    </tr>\n",
              "  </tbody>\n",
              "</table>\n"
            ]
          },
          "metadata": {},
          "execution_count": 23
        }
      ]
    },
    {
      "cell_type": "code",
      "source": [
        "runSelect(\"select firstname, lastname, joindate from empl where joindate between '2004-01-01' and '2005-01-01'\")"
      ],
      "metadata": {
        "colab": {
          "base_uri": "https://localhost:8080/",
          "height": 112
        },
        "id": "b_mWyFTnfIEy",
        "outputId": "4ebfbdcf-2cd8-45e7-ec9e-edbf5a039864"
      },
      "execution_count": 24,
      "outputs": [
        {
          "output_type": "execute_result",
          "data": {
            "text/plain": [
              "<pandas.io.formats.style.Styler at 0x7981e55ce6e0>"
            ],
            "text/html": [
              "<style type=\"text/css\">\n",
              "</style>\n",
              "<table id=\"T_05bb9\" class=\"dataframe\">\n",
              "  <thead>\n",
              "    <tr>\n",
              "      <th id=\"T_05bb9_level0_col0\" class=\"col_heading level0 col0\" >firstname</th>\n",
              "      <th id=\"T_05bb9_level0_col1\" class=\"col_heading level0 col1\" >lastname</th>\n",
              "      <th id=\"T_05bb9_level0_col2\" class=\"col_heading level0 col2\" >joindate</th>\n",
              "    </tr>\n",
              "  </thead>\n",
              "  <tbody>\n",
              "    <tr>\n",
              "      <td id=\"T_05bb9_row0_col0\" class=\"data row0 col0\" >Shahrukh</td>\n",
              "      <td id=\"T_05bb9_row0_col1\" class=\"data row0 col1\" >Khan</td>\n",
              "      <td id=\"T_05bb9_row0_col2\" class=\"data row0 col2\" >2004-01-03</td>\n",
              "    </tr>\n",
              "    <tr>\n",
              "      <td id=\"T_05bb9_row1_col0\" class=\"data row1 col0\" >Mahender</td>\n",
              "      <td id=\"T_05bb9_row1_col1\" class=\"data row1 col1\" >Dhoni</td>\n",
              "      <td id=\"T_05bb9_row1_col2\" class=\"data row1 col2\" >2004-10-09</td>\n",
              "    </tr>\n",
              "  </tbody>\n",
              "</table>\n"
            ]
          },
          "metadata": {},
          "execution_count": 24
        }
      ]
    },
    {
      "cell_type": "code",
      "source": [
        "runSelect(\"select firstname, lastname, joindate from empl where lastname between 'Dho' and 'Kha'\")"
      ],
      "metadata": {
        "colab": {
          "base_uri": "https://localhost:8080/",
          "height": 238
        },
        "id": "qXs9AeS2fwCS",
        "outputId": "26e7f267-b4d7-427f-e881-1c14a6bafa30"
      },
      "execution_count": 25,
      "outputs": [
        {
          "output_type": "execute_result",
          "data": {
            "text/plain": [
              "<pandas.io.formats.style.Styler at 0x7981e567dfc0>"
            ],
            "text/html": [
              "<style type=\"text/css\">\n",
              "</style>\n",
              "<table id=\"T_0e219\" class=\"dataframe\">\n",
              "  <thead>\n",
              "    <tr>\n",
              "      <th id=\"T_0e219_level0_col0\" class=\"col_heading level0 col0\" >firstname</th>\n",
              "      <th id=\"T_0e219_level0_col1\" class=\"col_heading level0 col1\" >lastname</th>\n",
              "      <th id=\"T_0e219_level0_col2\" class=\"col_heading level0 col2\" >joindate</th>\n",
              "    </tr>\n",
              "  </thead>\n",
              "  <tbody>\n",
              "    <tr>\n",
              "      <td id=\"T_0e219_row0_col0\" class=\"data row0 col0\" >Madhuri</td>\n",
              "      <td id=\"T_0e219_row0_col1\" class=\"data row0 col1\" >Dikshit</td>\n",
              "      <td id=\"T_0e219_row0_col2\" class=\"data row0 col2\" >2002-04-04</td>\n",
              "    </tr>\n",
              "    <tr>\n",
              "      <td id=\"T_0e219_row1_col0\" class=\"data row1 col0\" >Mahender</td>\n",
              "      <td id=\"T_0e219_row1_col1\" class=\"data row1 col1\" >Dhoni</td>\n",
              "      <td id=\"T_0e219_row1_col2\" class=\"data row1 col2\" >2004-10-09</td>\n",
              "    </tr>\n",
              "    <tr>\n",
              "      <td id=\"T_0e219_row2_col0\" class=\"data row2 col0\" >Rahul</td>\n",
              "      <td id=\"T_0e219_row2_col1\" class=\"data row2 col1\" >Dravid</td>\n",
              "      <td id=\"T_0e219_row2_col2\" class=\"data row2 col2\" >2000-06-04</td>\n",
              "    </tr>\n",
              "    <tr>\n",
              "      <td id=\"T_0e219_row3_col0\" class=\"data row3 col0\" >Sourav</td>\n",
              "      <td id=\"T_0e219_row3_col1\" class=\"data row3 col1\" >Ganguly</td>\n",
              "      <td id=\"T_0e219_row3_col2\" class=\"data row3 col2\" >2002-01-01</td>\n",
              "    </tr>\n",
              "    <tr>\n",
              "      <td id=\"T_0e219_row4_col0\" class=\"data row4 col0\" >Rekha</td>\n",
              "      <td id=\"T_0e219_row4_col1\" class=\"data row4 col1\" >Ganesan</td>\n",
              "      <td id=\"T_0e219_row4_col2\" class=\"data row4 col2\" >2002-10-10</td>\n",
              "    </tr>\n",
              "    <tr>\n",
              "      <td id=\"T_0e219_row5_col0\" class=\"data row5 col0\" >Narayan</td>\n",
              "      <td id=\"T_0e219_row5_col1\" class=\"data row5 col1\" >Karthikeyan</td>\n",
              "      <td id=\"T_0e219_row5_col2\" class=\"data row5 col2\" >2005-12-04</td>\n",
              "    </tr>\n",
              "  </tbody>\n",
              "</table>\n"
            ]
          },
          "metadata": {},
          "execution_count": 25
        }
      ]
    },
    {
      "cell_type": "markdown",
      "source": [
        "## IN"
      ],
      "metadata": {
        "id": "azhy0TQLiLy-"
      }
    },
    {
      "cell_type": "code",
      "source": [
        "runSelect(\"select firstname, lastname, deptid from empl where deptid in ('30','20','70')\")"
      ],
      "metadata": {
        "colab": {
          "base_uri": "https://localhost:8080/",
          "height": 269
        },
        "id": "UyBE-FuoibSZ",
        "outputId": "05e7e0e2-29d2-4196-ac5e-894f3fcb9837"
      },
      "execution_count": 26,
      "outputs": [
        {
          "output_type": "execute_result",
          "data": {
            "text/plain": [
              "<pandas.io.formats.style.Styler at 0x7981e55fe110>"
            ],
            "text/html": [
              "<style type=\"text/css\">\n",
              "</style>\n",
              "<table id=\"T_d0b21\" class=\"dataframe\">\n",
              "  <thead>\n",
              "    <tr>\n",
              "      <th id=\"T_d0b21_level0_col0\" class=\"col_heading level0 col0\" >firstname</th>\n",
              "      <th id=\"T_d0b21_level0_col1\" class=\"col_heading level0 col1\" >lastname</th>\n",
              "      <th id=\"T_d0b21_level0_col2\" class=\"col_heading level0 col2\" >deptid</th>\n",
              "    </tr>\n",
              "  </thead>\n",
              "  <tbody>\n",
              "    <tr>\n",
              "      <td id=\"T_d0b21_row0_col0\" class=\"data row0 col0\" >Madhuri</td>\n",
              "      <td id=\"T_d0b21_row0_col1\" class=\"data row0 col1\" >Dikshit</td>\n",
              "      <td id=\"T_d0b21_row0_col2\" class=\"data row0 col2\" >20</td>\n",
              "    </tr>\n",
              "    <tr>\n",
              "      <td id=\"T_d0b21_row1_col0\" class=\"data row1 col0\" >Shahrukh</td>\n",
              "      <td id=\"T_d0b21_row1_col1\" class=\"data row1 col1\" >Khan</td>\n",
              "      <td id=\"T_d0b21_row1_col2\" class=\"data row1 col2\" >20</td>\n",
              "    </tr>\n",
              "    <tr>\n",
              "      <td id=\"T_d0b21_row2_col0\" class=\"data row2 col0\" >Virender</td>\n",
              "      <td id=\"T_d0b21_row2_col1\" class=\"data row2 col1\" >Sehwag</td>\n",
              "      <td id=\"T_d0b21_row2_col2\" class=\"data row2 col2\" >20</td>\n",
              "    </tr>\n",
              "    <tr>\n",
              "      <td id=\"T_d0b21_row3_col0\" class=\"data row3 col0\" >Rahul</td>\n",
              "      <td id=\"T_d0b21_row3_col1\" class=\"data row3 col1\" >Dravid</td>\n",
              "      <td id=\"T_d0b21_row3_col2\" class=\"data row3 col2\" >30</td>\n",
              "    </tr>\n",
              "    <tr>\n",
              "      <td id=\"T_d0b21_row4_col0\" class=\"data row4 col0\" >Jagmohan</td>\n",
              "      <td id=\"T_d0b21_row4_col1\" class=\"data row4 col1\" >Dalmia</td>\n",
              "      <td id=\"T_d0b21_row4_col2\" class=\"data row4 col2\" >30</td>\n",
              "    </tr>\n",
              "    <tr>\n",
              "      <td id=\"T_d0b21_row5_col0\" class=\"data row5 col0\" >Chettri</td>\n",
              "      <td id=\"T_d0b21_row5_col1\" class=\"data row5 col1\" >Sunil</td>\n",
              "      <td id=\"T_d0b21_row5_col2\" class=\"data row5 col2\" >70</td>\n",
              "    </tr>\n",
              "    <tr>\n",
              "      <td id=\"T_d0b21_row6_col0\" class=\"data row6 col0\" >Sania</td>\n",
              "      <td id=\"T_d0b21_row6_col1\" class=\"data row6 col1\" >Mirza</td>\n",
              "      <td id=\"T_d0b21_row6_col2\" class=\"data row6 col2\" >30</td>\n",
              "    </tr>\n",
              "  </tbody>\n",
              "</table>\n"
            ]
          },
          "metadata": {},
          "execution_count": 26
        }
      ]
    },
    {
      "cell_type": "code",
      "source": [
        "runSelect(\"select firstname, lastname, salary from empl where firstname in ('Madhuri','Shahrukh','Virender')\")"
      ],
      "metadata": {
        "colab": {
          "base_uri": "https://localhost:8080/",
          "height": 143
        },
        "id": "9qTEO-OuiN3A",
        "outputId": "24bc0792-703f-4b1b-aa3f-b138245d3231"
      },
      "execution_count": 27,
      "outputs": [
        {
          "output_type": "execute_result",
          "data": {
            "text/plain": [
              "<pandas.io.formats.style.Styler at 0x7981e55fe4a0>"
            ],
            "text/html": [
              "<style type=\"text/css\">\n",
              "</style>\n",
              "<table id=\"T_b2ae1\" class=\"dataframe\">\n",
              "  <thead>\n",
              "    <tr>\n",
              "      <th id=\"T_b2ae1_level0_col0\" class=\"col_heading level0 col0\" >firstname</th>\n",
              "      <th id=\"T_b2ae1_level0_col1\" class=\"col_heading level0 col1\" >lastname</th>\n",
              "      <th id=\"T_b2ae1_level0_col2\" class=\"col_heading level0 col2\" >salary</th>\n",
              "    </tr>\n",
              "  </thead>\n",
              "  <tbody>\n",
              "    <tr>\n",
              "      <td id=\"T_b2ae1_row0_col0\" class=\"data row0 col0\" >Madhuri</td>\n",
              "      <td id=\"T_b2ae1_row0_col1\" class=\"data row0 col1\" >Dikshit</td>\n",
              "      <td id=\"T_b2ae1_row0_col2\" class=\"data row0 col2\" >10000</td>\n",
              "    </tr>\n",
              "    <tr>\n",
              "      <td id=\"T_b2ae1_row1_col0\" class=\"data row1 col0\" >Shahrukh</td>\n",
              "      <td id=\"T_b2ae1_row1_col1\" class=\"data row1 col1\" >Khan</td>\n",
              "      <td id=\"T_b2ae1_row1_col2\" class=\"data row1 col2\" >30000</td>\n",
              "    </tr>\n",
              "    <tr>\n",
              "      <td id=\"T_b2ae1_row2_col0\" class=\"data row2 col0\" >Virender</td>\n",
              "      <td id=\"T_b2ae1_row2_col1\" class=\"data row2 col1\" >Sehwag</td>\n",
              "      <td id=\"T_b2ae1_row2_col2\" class=\"data row2 col2\" >15000</td>\n",
              "    </tr>\n",
              "  </tbody>\n",
              "</table>\n"
            ]
          },
          "metadata": {},
          "execution_count": 27
        }
      ]
    },
    {
      "cell_type": "markdown",
      "source": [
        "## Order by"
      ],
      "metadata": {
        "id": "vlOCT_zAkzMb"
      }
    },
    {
      "cell_type": "code",
      "source": [
        "runSelect(\"select firstname, lastname, joindate from empl where firstname in ('Madhuri','Shahrukh','Virender') order by joindate\")"
      ],
      "metadata": {
        "colab": {
          "base_uri": "https://localhost:8080/",
          "height": 143
        },
        "id": "WidoGzLVk1in",
        "outputId": "37d06619-bf0f-49ab-d7ed-7fe87b6a0557"
      },
      "execution_count": 28,
      "outputs": [
        {
          "output_type": "execute_result",
          "data": {
            "text/plain": [
              "<pandas.io.formats.style.Styler at 0x7981e55ff760>"
            ],
            "text/html": [
              "<style type=\"text/css\">\n",
              "</style>\n",
              "<table id=\"T_eff4d\" class=\"dataframe\">\n",
              "  <thead>\n",
              "    <tr>\n",
              "      <th id=\"T_eff4d_level0_col0\" class=\"col_heading level0 col0\" >firstname</th>\n",
              "      <th id=\"T_eff4d_level0_col1\" class=\"col_heading level0 col1\" >lastname</th>\n",
              "      <th id=\"T_eff4d_level0_col2\" class=\"col_heading level0 col2\" >joindate</th>\n",
              "    </tr>\n",
              "  </thead>\n",
              "  <tbody>\n",
              "    <tr>\n",
              "      <td id=\"T_eff4d_row0_col0\" class=\"data row0 col0\" >Madhuri</td>\n",
              "      <td id=\"T_eff4d_row0_col1\" class=\"data row0 col1\" >Dikshit</td>\n",
              "      <td id=\"T_eff4d_row0_col2\" class=\"data row0 col2\" >2002-04-04</td>\n",
              "    </tr>\n",
              "    <tr>\n",
              "      <td id=\"T_eff4d_row1_col0\" class=\"data row1 col0\" >Shahrukh</td>\n",
              "      <td id=\"T_eff4d_row1_col1\" class=\"data row1 col1\" >Khan</td>\n",
              "      <td id=\"T_eff4d_row1_col2\" class=\"data row1 col2\" >2004-01-03</td>\n",
              "    </tr>\n",
              "    <tr>\n",
              "      <td id=\"T_eff4d_row2_col0\" class=\"data row2 col0\" >Virender</td>\n",
              "      <td id=\"T_eff4d_row2_col1\" class=\"data row2 col1\" >Sehwag</td>\n",
              "      <td id=\"T_eff4d_row2_col2\" class=\"data row2 col2\" >2005-01-02</td>\n",
              "    </tr>\n",
              "  </tbody>\n",
              "</table>\n"
            ]
          },
          "metadata": {},
          "execution_count": 28
        }
      ]
    },
    {
      "cell_type": "code",
      "source": [
        "runSelect(\"select firstname, lastname, jobdesc, salary, deptid from empl where deptid = '10' order by salary desc\")"
      ],
      "metadata": {
        "colab": {
          "base_uri": "https://localhost:8080/",
          "height": 143
        },
        "id": "Iq_7jWr-lRlO",
        "outputId": "911f63d8-b027-4823-a335-072dc15295b8"
      },
      "execution_count": 29,
      "outputs": [
        {
          "output_type": "execute_result",
          "data": {
            "text/plain": [
              "<pandas.io.formats.style.Styler at 0x7981e55ce4d0>"
            ],
            "text/html": [
              "<style type=\"text/css\">\n",
              "</style>\n",
              "<table id=\"T_a6116\" class=\"dataframe\">\n",
              "  <thead>\n",
              "    <tr>\n",
              "      <th id=\"T_a6116_level0_col0\" class=\"col_heading level0 col0\" >firstname</th>\n",
              "      <th id=\"T_a6116_level0_col1\" class=\"col_heading level0 col1\" >lastname</th>\n",
              "      <th id=\"T_a6116_level0_col2\" class=\"col_heading level0 col2\" >jobdesc</th>\n",
              "      <th id=\"T_a6116_level0_col3\" class=\"col_heading level0 col3\" >salary</th>\n",
              "      <th id=\"T_a6116_level0_col4\" class=\"col_heading level0 col4\" >deptid</th>\n",
              "    </tr>\n",
              "  </thead>\n",
              "  <tbody>\n",
              "    <tr>\n",
              "      <td id=\"T_a6116_row0_col0\" class=\"data row0 col0\" >Rekha</td>\n",
              "      <td id=\"T_a6116_row0_col1\" class=\"data row0 col1\" >Ganesan</td>\n",
              "      <td id=\"T_a6116_row0_col2\" class=\"data row0 col2\" >Director</td>\n",
              "      <td id=\"T_a6116_row0_col3\" class=\"data row0 col3\" >60000</td>\n",
              "      <td id=\"T_a6116_row0_col4\" class=\"data row0 col4\" >10</td>\n",
              "    </tr>\n",
              "    <tr>\n",
              "      <td id=\"T_a6116_row1_col0\" class=\"data row1 col0\" >Amitabh</td>\n",
              "      <td id=\"T_a6116_row1_col1\" class=\"data row1 col1\" >Bacchan</td>\n",
              "      <td id=\"T_a6116_row1_col2\" class=\"data row1 col2\" >Executive</td>\n",
              "      <td id=\"T_a6116_row1_col3\" class=\"data row1 col3\" >50000</td>\n",
              "      <td id=\"T_a6116_row1_col4\" class=\"data row1 col4\" >10</td>\n",
              "    </tr>\n",
              "    <tr>\n",
              "      <td id=\"T_a6116_row2_col0\" class=\"data row2 col0\" >Narayan</td>\n",
              "      <td id=\"T_a6116_row2_col1\" class=\"data row2 col1\" >Karthikeyan</td>\n",
              "      <td id=\"T_a6116_row2_col2\" class=\"data row2 col2\" >Secretary</td>\n",
              "      <td id=\"T_a6116_row2_col3\" class=\"data row2 col3\" >40000</td>\n",
              "      <td id=\"T_a6116_row2_col4\" class=\"data row2 col4\" >10</td>\n",
              "    </tr>\n",
              "  </tbody>\n",
              "</table>\n"
            ]
          },
          "metadata": {},
          "execution_count": 29
        }
      ]
    },
    {
      "cell_type": "markdown",
      "source": [
        "## Logical AND | OR"
      ],
      "metadata": {
        "id": "-JDEmZtsm0o1"
      }
    },
    {
      "cell_type": "code",
      "source": [
        "runSelect(\"select lastname, jobdesc, salary, deptid from empl where deptid = '20'\")"
      ],
      "metadata": {
        "colab": {
          "base_uri": "https://localhost:8080/",
          "height": 143
        },
        "id": "rli0DBhIm54M",
        "outputId": "fdeb5776-0b3a-4b1a-e1fe-b61ac546e09d"
      },
      "execution_count": 30,
      "outputs": [
        {
          "output_type": "execute_result",
          "data": {
            "text/plain": [
              "<pandas.io.formats.style.Styler at 0x7981e55fdfc0>"
            ],
            "text/html": [
              "<style type=\"text/css\">\n",
              "</style>\n",
              "<table id=\"T_abcb0\" class=\"dataframe\">\n",
              "  <thead>\n",
              "    <tr>\n",
              "      <th id=\"T_abcb0_level0_col0\" class=\"col_heading level0 col0\" >lastname</th>\n",
              "      <th id=\"T_abcb0_level0_col1\" class=\"col_heading level0 col1\" >jobdesc</th>\n",
              "      <th id=\"T_abcb0_level0_col2\" class=\"col_heading level0 col2\" >salary</th>\n",
              "      <th id=\"T_abcb0_level0_col3\" class=\"col_heading level0 col3\" >deptid</th>\n",
              "    </tr>\n",
              "  </thead>\n",
              "  <tbody>\n",
              "    <tr>\n",
              "      <td id=\"T_abcb0_row0_col0\" class=\"data row0 col0\" >Dikshit</td>\n",
              "      <td id=\"T_abcb0_row0_col1\" class=\"data row0 col1\" >Clerk</td>\n",
              "      <td id=\"T_abcb0_row0_col2\" class=\"data row0 col2\" >10000</td>\n",
              "      <td id=\"T_abcb0_row0_col3\" class=\"data row0 col3\" >20</td>\n",
              "    </tr>\n",
              "    <tr>\n",
              "      <td id=\"T_abcb0_row1_col0\" class=\"data row1 col0\" >Khan</td>\n",
              "      <td id=\"T_abcb0_row1_col1\" class=\"data row1 col1\" >Manager</td>\n",
              "      <td id=\"T_abcb0_row1_col2\" class=\"data row1 col2\" >30000</td>\n",
              "      <td id=\"T_abcb0_row1_col3\" class=\"data row1 col3\" >20</td>\n",
              "    </tr>\n",
              "    <tr>\n",
              "      <td id=\"T_abcb0_row2_col0\" class=\"data row2 col0\" >Sehwag</td>\n",
              "      <td id=\"T_abcb0_row2_col1\" class=\"data row2 col1\" >Cus_Rep</td>\n",
              "      <td id=\"T_abcb0_row2_col2\" class=\"data row2 col2\" >15000</td>\n",
              "      <td id=\"T_abcb0_row2_col3\" class=\"data row2 col3\" >20</td>\n",
              "    </tr>\n",
              "  </tbody>\n",
              "</table>\n"
            ]
          },
          "metadata": {},
          "execution_count": 30
        }
      ]
    },
    {
      "cell_type": "code",
      "source": [
        "runSelect(\"select lastname, jobdesc, salary, deptid from empl where deptid = '20' and salary > 10000\")"
      ],
      "metadata": {
        "colab": {
          "base_uri": "https://localhost:8080/",
          "height": 112
        },
        "id": "wHIJoUGqnuwa",
        "outputId": "231b0623-b240-4e1b-8c04-b8a4e189040f"
      },
      "execution_count": 31,
      "outputs": [
        {
          "output_type": "execute_result",
          "data": {
            "text/plain": [
              "<pandas.io.formats.style.Styler at 0x7981e5622aa0>"
            ],
            "text/html": [
              "<style type=\"text/css\">\n",
              "</style>\n",
              "<table id=\"T_3e976\" class=\"dataframe\">\n",
              "  <thead>\n",
              "    <tr>\n",
              "      <th id=\"T_3e976_level0_col0\" class=\"col_heading level0 col0\" >lastname</th>\n",
              "      <th id=\"T_3e976_level0_col1\" class=\"col_heading level0 col1\" >jobdesc</th>\n",
              "      <th id=\"T_3e976_level0_col2\" class=\"col_heading level0 col2\" >salary</th>\n",
              "      <th id=\"T_3e976_level0_col3\" class=\"col_heading level0 col3\" >deptid</th>\n",
              "    </tr>\n",
              "  </thead>\n",
              "  <tbody>\n",
              "    <tr>\n",
              "      <td id=\"T_3e976_row0_col0\" class=\"data row0 col0\" >Khan</td>\n",
              "      <td id=\"T_3e976_row0_col1\" class=\"data row0 col1\" >Manager</td>\n",
              "      <td id=\"T_3e976_row0_col2\" class=\"data row0 col2\" >30000</td>\n",
              "      <td id=\"T_3e976_row0_col3\" class=\"data row0 col3\" >20</td>\n",
              "    </tr>\n",
              "    <tr>\n",
              "      <td id=\"T_3e976_row1_col0\" class=\"data row1 col0\" >Sehwag</td>\n",
              "      <td id=\"T_3e976_row1_col1\" class=\"data row1 col1\" >Cus_Rep</td>\n",
              "      <td id=\"T_3e976_row1_col2\" class=\"data row1 col2\" >15000</td>\n",
              "      <td id=\"T_3e976_row1_col3\" class=\"data row1 col3\" >20</td>\n",
              "    </tr>\n",
              "  </tbody>\n",
              "</table>\n"
            ]
          },
          "metadata": {},
          "execution_count": 31
        }
      ]
    },
    {
      "cell_type": "code",
      "source": [
        "runSelect(\"select lastname, jobdesc, salary, deptid from empl where deptid = '20' and salary > 10000 and jobdesc = 'Clerk'\")"
      ],
      "metadata": {
        "colab": {
          "base_uri": "https://localhost:8080/"
        },
        "id": "fnB8p8-EnzH2",
        "outputId": "5c28c313-b004-4774-9d22-4ddf542d1c99"
      },
      "execution_count": 32,
      "outputs": [
        {
          "output_type": "stream",
          "name": "stdout",
          "text": [
            "no records found\n"
          ]
        }
      ]
    },
    {
      "cell_type": "code",
      "source": [
        "runSelect(\"select lastname, jobdesc, deptid from empl where deptid = '70'\")"
      ],
      "metadata": {
        "colab": {
          "base_uri": "https://localhost:8080/",
          "height": 81
        },
        "id": "uEKUIgOMqtLw",
        "outputId": "b679370e-b423-42ea-bc34-93be2926210c"
      },
      "execution_count": 33,
      "outputs": [
        {
          "output_type": "execute_result",
          "data": {
            "text/plain": [
              "<pandas.io.formats.style.Styler at 0x7981e55fe6e0>"
            ],
            "text/html": [
              "<style type=\"text/css\">\n",
              "</style>\n",
              "<table id=\"T_b43f6\" class=\"dataframe\">\n",
              "  <thead>\n",
              "    <tr>\n",
              "      <th id=\"T_b43f6_level0_col0\" class=\"col_heading level0 col0\" >lastname</th>\n",
              "      <th id=\"T_b43f6_level0_col1\" class=\"col_heading level0 col1\" >jobdesc</th>\n",
              "      <th id=\"T_b43f6_level0_col2\" class=\"col_heading level0 col2\" >deptid</th>\n",
              "    </tr>\n",
              "  </thead>\n",
              "  <tbody>\n",
              "    <tr>\n",
              "      <td id=\"T_b43f6_row0_col0\" class=\"data row0 col0\" >Sunil</td>\n",
              "      <td id=\"T_b43f6_row0_col1\" class=\"data row0 col1\" >Dy Manager</td>\n",
              "      <td id=\"T_b43f6_row0_col2\" class=\"data row0 col2\" >70</td>\n",
              "    </tr>\n",
              "  </tbody>\n",
              "</table>\n"
            ]
          },
          "metadata": {},
          "execution_count": 33
        }
      ]
    },
    {
      "cell_type": "code",
      "source": [
        "runSelect(\"select lastname, jobdesc, deptid from empl where deptid = '70' or jobdesc like '%Manager'\")"
      ],
      "metadata": {
        "colab": {
          "base_uri": "https://localhost:8080/",
          "height": 175
        },
        "id": "Ne0eLRV3qyTn",
        "outputId": "e650ba2a-9fe4-4294-9139-866b17eb0499"
      },
      "execution_count": 34,
      "outputs": [
        {
          "output_type": "execute_result",
          "data": {
            "text/plain": [
              "<pandas.io.formats.style.Styler at 0x7981e55fe800>"
            ],
            "text/html": [
              "<style type=\"text/css\">\n",
              "</style>\n",
              "<table id=\"T_aa46c\" class=\"dataframe\">\n",
              "  <thead>\n",
              "    <tr>\n",
              "      <th id=\"T_aa46c_level0_col0\" class=\"col_heading level0 col0\" >lastname</th>\n",
              "      <th id=\"T_aa46c_level0_col1\" class=\"col_heading level0 col1\" >jobdesc</th>\n",
              "      <th id=\"T_aa46c_level0_col2\" class=\"col_heading level0 col2\" >deptid</th>\n",
              "    </tr>\n",
              "  </thead>\n",
              "  <tbody>\n",
              "    <tr>\n",
              "      <td id=\"T_aa46c_row0_col0\" class=\"data row0 col0\" >Mukherjee</td>\n",
              "      <td id=\"T_aa46c_row0_col1\" class=\"data row0 col1\" >Manager</td>\n",
              "      <td id=\"T_aa46c_row0_col2\" class=\"data row0 col2\" >40</td>\n",
              "    </tr>\n",
              "    <tr>\n",
              "      <td id=\"T_aa46c_row1_col0\" class=\"data row1 col0\" >Khan</td>\n",
              "      <td id=\"T_aa46c_row1_col1\" class=\"data row1 col1\" >Manager</td>\n",
              "      <td id=\"T_aa46c_row1_col2\" class=\"data row1 col2\" >20</td>\n",
              "    </tr>\n",
              "    <tr>\n",
              "      <td id=\"T_aa46c_row2_col0\" class=\"data row2 col0\" >Dravid</td>\n",
              "      <td id=\"T_aa46c_row2_col1\" class=\"data row2 col1\" >Sr Manager</td>\n",
              "      <td id=\"T_aa46c_row2_col2\" class=\"data row2 col2\" >30</td>\n",
              "    </tr>\n",
              "    <tr>\n",
              "      <td id=\"T_aa46c_row3_col0\" class=\"data row3 col0\" >Sunil</td>\n",
              "      <td id=\"T_aa46c_row3_col1\" class=\"data row3 col1\" >Dy Manager</td>\n",
              "      <td id=\"T_aa46c_row3_col2\" class=\"data row3 col2\" >70</td>\n",
              "    </tr>\n",
              "  </tbody>\n",
              "</table>\n"
            ]
          },
          "metadata": {},
          "execution_count": 34
        }
      ]
    },
    {
      "cell_type": "code",
      "source": [
        "runSelect(\"select lastname, jobdesc, deptid from empl where deptid = '70' or jobdesc like '%Manager' or lastname = 'Dikshit'\")"
      ],
      "metadata": {
        "colab": {
          "base_uri": "https://localhost:8080/",
          "height": 206
        },
        "id": "aR3eNz7xq8Xo",
        "outputId": "3b7cc200-ad82-49cb-9f95-2808d64ae398"
      },
      "execution_count": 35,
      "outputs": [
        {
          "output_type": "execute_result",
          "data": {
            "text/plain": [
              "<pandas.io.formats.style.Styler at 0x7981e5622fb0>"
            ],
            "text/html": [
              "<style type=\"text/css\">\n",
              "</style>\n",
              "<table id=\"T_09d7d\" class=\"dataframe\">\n",
              "  <thead>\n",
              "    <tr>\n",
              "      <th id=\"T_09d7d_level0_col0\" class=\"col_heading level0 col0\" >lastname</th>\n",
              "      <th id=\"T_09d7d_level0_col1\" class=\"col_heading level0 col1\" >jobdesc</th>\n",
              "      <th id=\"T_09d7d_level0_col2\" class=\"col_heading level0 col2\" >deptid</th>\n",
              "    </tr>\n",
              "  </thead>\n",
              "  <tbody>\n",
              "    <tr>\n",
              "      <td id=\"T_09d7d_row0_col0\" class=\"data row0 col0\" >Mukherjee</td>\n",
              "      <td id=\"T_09d7d_row0_col1\" class=\"data row0 col1\" >Manager</td>\n",
              "      <td id=\"T_09d7d_row0_col2\" class=\"data row0 col2\" >40</td>\n",
              "    </tr>\n",
              "    <tr>\n",
              "      <td id=\"T_09d7d_row1_col0\" class=\"data row1 col0\" >Dikshit</td>\n",
              "      <td id=\"T_09d7d_row1_col1\" class=\"data row1 col1\" >Clerk</td>\n",
              "      <td id=\"T_09d7d_row1_col2\" class=\"data row1 col2\" >20</td>\n",
              "    </tr>\n",
              "    <tr>\n",
              "      <td id=\"T_09d7d_row2_col0\" class=\"data row2 col0\" >Khan</td>\n",
              "      <td id=\"T_09d7d_row2_col1\" class=\"data row2 col1\" >Manager</td>\n",
              "      <td id=\"T_09d7d_row2_col2\" class=\"data row2 col2\" >20</td>\n",
              "    </tr>\n",
              "    <tr>\n",
              "      <td id=\"T_09d7d_row3_col0\" class=\"data row3 col0\" >Dravid</td>\n",
              "      <td id=\"T_09d7d_row3_col1\" class=\"data row3 col1\" >Sr Manager</td>\n",
              "      <td id=\"T_09d7d_row3_col2\" class=\"data row3 col2\" >30</td>\n",
              "    </tr>\n",
              "    <tr>\n",
              "      <td id=\"T_09d7d_row4_col0\" class=\"data row4 col0\" >Sunil</td>\n",
              "      <td id=\"T_09d7d_row4_col1\" class=\"data row4 col1\" >Dy Manager</td>\n",
              "      <td id=\"T_09d7d_row4_col2\" class=\"data row4 col2\" >70</td>\n",
              "    </tr>\n",
              "  </tbody>\n",
              "</table>\n"
            ]
          },
          "metadata": {},
          "execution_count": 35
        }
      ]
    },
    {
      "cell_type": "code",
      "source": [
        "runSelect(\"select lastname, jobdesc, salary from empl where jobdesc = 'Cus_Rep' or jobdesc = 'Clerk' and salary < 16000\")"
      ],
      "metadata": {
        "colab": {
          "base_uri": "https://localhost:8080/",
          "height": 238
        },
        "id": "Ov0HErC0txm4",
        "outputId": "63a98160-adf3-4a72-8d4f-8cfe8fd927d1"
      },
      "execution_count": 36,
      "outputs": [
        {
          "output_type": "execute_result",
          "data": {
            "text/plain": [
              "<pandas.io.formats.style.Styler at 0x7981e56202e0>"
            ],
            "text/html": [
              "<style type=\"text/css\">\n",
              "</style>\n",
              "<table id=\"T_8d5e1\" class=\"dataframe\">\n",
              "  <thead>\n",
              "    <tr>\n",
              "      <th id=\"T_8d5e1_level0_col0\" class=\"col_heading level0 col0\" >lastname</th>\n",
              "      <th id=\"T_8d5e1_level0_col1\" class=\"col_heading level0 col1\" >jobdesc</th>\n",
              "      <th id=\"T_8d5e1_level0_col2\" class=\"col_heading level0 col2\" >salary</th>\n",
              "    </tr>\n",
              "  </thead>\n",
              "  <tbody>\n",
              "    <tr>\n",
              "      <td id=\"T_8d5e1_row0_col0\" class=\"data row0 col0\" >Dikshit</td>\n",
              "      <td id=\"T_8d5e1_row0_col1\" class=\"data row0 col1\" >Clerk</td>\n",
              "      <td id=\"T_8d5e1_row0_col2\" class=\"data row0 col2\" >10000</td>\n",
              "    </tr>\n",
              "    <tr>\n",
              "      <td id=\"T_8d5e1_row1_col0\" class=\"data row1 col0\" >Sehwag</td>\n",
              "      <td id=\"T_8d5e1_row1_col1\" class=\"data row1 col1\" >Cus_Rep</td>\n",
              "      <td id=\"T_8d5e1_row1_col2\" class=\"data row1 col2\" >15000</td>\n",
              "    </tr>\n",
              "    <tr>\n",
              "      <td id=\"T_8d5e1_row2_col0\" class=\"data row2 col0\" >Dhoni</td>\n",
              "      <td id=\"T_8d5e1_row2_col1\" class=\"data row2 col1\" >Clerk</td>\n",
              "      <td id=\"T_8d5e1_row2_col2\" class=\"data row2 col2\" >9000</td>\n",
              "    </tr>\n",
              "    <tr>\n",
              "      <td id=\"T_8d5e1_row3_col0\" class=\"data row3 col0\" >Dalmia</td>\n",
              "      <td id=\"T_8d5e1_row3_col1\" class=\"data row3 col1\" >Clerk</td>\n",
              "      <td id=\"T_8d5e1_row3_col2\" class=\"data row3 col2\" >12000</td>\n",
              "    </tr>\n",
              "    <tr>\n",
              "      <td id=\"T_8d5e1_row4_col0\" class=\"data row4 col0\" >Ganguly</td>\n",
              "      <td id=\"T_8d5e1_row4_col1\" class=\"data row4 col1\" >Cus_Rep</td>\n",
              "      <td id=\"T_8d5e1_row4_col2\" class=\"data row4 col2\" >20000</td>\n",
              "    </tr>\n",
              "    <tr>\n",
              "      <td id=\"T_8d5e1_row5_col0\" class=\"data row5 col0\" >Mirza</td>\n",
              "      <td id=\"T_8d5e1_row5_col1\" class=\"data row5 col1\" >Cus_Rep</td>\n",
              "      <td id=\"T_8d5e1_row5_col2\" class=\"data row5 col2\" >25000</td>\n",
              "    </tr>\n",
              "  </tbody>\n",
              "</table>\n"
            ]
          },
          "metadata": {},
          "execution_count": 36
        }
      ]
    },
    {
      "cell_type": "code",
      "source": [
        "runSelect(\"select lastname, jobdesc, salary from empl where (jobdesc = 'Cus_Rep' or jobdesc = 'Clerk') and salary < 16000\")"
      ],
      "metadata": {
        "colab": {
          "base_uri": "https://localhost:8080/",
          "height": 175
        },
        "id": "g7hbzjdxuOt6",
        "outputId": "d982775a-2881-49da-84e6-7679dd2a1289"
      },
      "execution_count": 37,
      "outputs": [
        {
          "output_type": "execute_result",
          "data": {
            "text/plain": [
              "<pandas.io.formats.style.Styler at 0x7981e56213c0>"
            ],
            "text/html": [
              "<style type=\"text/css\">\n",
              "</style>\n",
              "<table id=\"T_2a3c6\" class=\"dataframe\">\n",
              "  <thead>\n",
              "    <tr>\n",
              "      <th id=\"T_2a3c6_level0_col0\" class=\"col_heading level0 col0\" >lastname</th>\n",
              "      <th id=\"T_2a3c6_level0_col1\" class=\"col_heading level0 col1\" >jobdesc</th>\n",
              "      <th id=\"T_2a3c6_level0_col2\" class=\"col_heading level0 col2\" >salary</th>\n",
              "    </tr>\n",
              "  </thead>\n",
              "  <tbody>\n",
              "    <tr>\n",
              "      <td id=\"T_2a3c6_row0_col0\" class=\"data row0 col0\" >Dikshit</td>\n",
              "      <td id=\"T_2a3c6_row0_col1\" class=\"data row0 col1\" >Clerk</td>\n",
              "      <td id=\"T_2a3c6_row0_col2\" class=\"data row0 col2\" >10000</td>\n",
              "    </tr>\n",
              "    <tr>\n",
              "      <td id=\"T_2a3c6_row1_col0\" class=\"data row1 col0\" >Sehwag</td>\n",
              "      <td id=\"T_2a3c6_row1_col1\" class=\"data row1 col1\" >Cus_Rep</td>\n",
              "      <td id=\"T_2a3c6_row1_col2\" class=\"data row1 col2\" >15000</td>\n",
              "    </tr>\n",
              "    <tr>\n",
              "      <td id=\"T_2a3c6_row2_col0\" class=\"data row2 col0\" >Dhoni</td>\n",
              "      <td id=\"T_2a3c6_row2_col1\" class=\"data row2 col1\" >Clerk</td>\n",
              "      <td id=\"T_2a3c6_row2_col2\" class=\"data row2 col2\" >9000</td>\n",
              "    </tr>\n",
              "    <tr>\n",
              "      <td id=\"T_2a3c6_row3_col0\" class=\"data row3 col0\" >Dalmia</td>\n",
              "      <td id=\"T_2a3c6_row3_col1\" class=\"data row3 col1\" >Clerk</td>\n",
              "      <td id=\"T_2a3c6_row3_col2\" class=\"data row3 col2\" >12000</td>\n",
              "    </tr>\n",
              "  </tbody>\n",
              "</table>\n"
            ]
          },
          "metadata": {},
          "execution_count": 37
        }
      ]
    },
    {
      "cell_type": "markdown",
      "source": [
        "# Single Row Functions"
      ],
      "metadata": {
        "id": "ND-8LYQcxsG2"
      }
    },
    {
      "cell_type": "code",
      "source": [
        "runSelect(\"select lastname, deptid, salary, comm, salary+salary*comm payout from empl where deptid = '20'\")"
      ],
      "metadata": {
        "colab": {
          "base_uri": "https://localhost:8080/",
          "height": 143
        },
        "id": "s71weE_hyDwf",
        "outputId": "eecad5a5-6034-4f5b-f2ca-70b6aa92d80c"
      },
      "execution_count": 38,
      "outputs": [
        {
          "output_type": "execute_result",
          "data": {
            "text/plain": [
              "<pandas.io.formats.style.Styler at 0x7981e5621150>"
            ],
            "text/html": [
              "<style type=\"text/css\">\n",
              "</style>\n",
              "<table id=\"T_c4d27\" class=\"dataframe\">\n",
              "  <thead>\n",
              "    <tr>\n",
              "      <th id=\"T_c4d27_level0_col0\" class=\"col_heading level0 col0\" >lastname</th>\n",
              "      <th id=\"T_c4d27_level0_col1\" class=\"col_heading level0 col1\" >deptid</th>\n",
              "      <th id=\"T_c4d27_level0_col2\" class=\"col_heading level0 col2\" >salary</th>\n",
              "      <th id=\"T_c4d27_level0_col3\" class=\"col_heading level0 col3\" >comm</th>\n",
              "      <th id=\"T_c4d27_level0_col4\" class=\"col_heading level0 col4\" >payout</th>\n",
              "    </tr>\n",
              "  </thead>\n",
              "  <tbody>\n",
              "    <tr>\n",
              "      <td id=\"T_c4d27_row0_col0\" class=\"data row0 col0\" >Dikshit</td>\n",
              "      <td id=\"T_c4d27_row0_col1\" class=\"data row0 col1\" >20</td>\n",
              "      <td id=\"T_c4d27_row0_col2\" class=\"data row0 col2\" >10000</td>\n",
              "      <td id=\"T_c4d27_row0_col3\" class=\"data row0 col3\" >0.02</td>\n",
              "      <td id=\"T_c4d27_row0_col4\" class=\"data row0 col4\" >10200.00</td>\n",
              "    </tr>\n",
              "    <tr>\n",
              "      <td id=\"T_c4d27_row1_col0\" class=\"data row1 col0\" >Khan</td>\n",
              "      <td id=\"T_c4d27_row1_col1\" class=\"data row1 col1\" >20</td>\n",
              "      <td id=\"T_c4d27_row1_col2\" class=\"data row1 col2\" >30000</td>\n",
              "      <td id=\"T_c4d27_row1_col3\" class=\"data row1 col3\" >0.07</td>\n",
              "      <td id=\"T_c4d27_row1_col4\" class=\"data row1 col4\" >32100.00</td>\n",
              "    </tr>\n",
              "    <tr>\n",
              "      <td id=\"T_c4d27_row2_col0\" class=\"data row2 col0\" >Sehwag</td>\n",
              "      <td id=\"T_c4d27_row2_col1\" class=\"data row2 col1\" >20</td>\n",
              "      <td id=\"T_c4d27_row2_col2\" class=\"data row2 col2\" >15000</td>\n",
              "      <td id=\"T_c4d27_row2_col3\" class=\"data row2 col3\" >0.05</td>\n",
              "      <td id=\"T_c4d27_row2_col4\" class=\"data row2 col4\" >15750.00</td>\n",
              "    </tr>\n",
              "  </tbody>\n",
              "</table>\n"
            ]
          },
          "metadata": {},
          "execution_count": 38
        }
      ]
    },
    {
      "cell_type": "code",
      "source": [
        "runSelect(\"select lastname, firstname, deptid, substring(firstname,1,3) nick from empl where deptid = '20'\")"
      ],
      "metadata": {
        "colab": {
          "base_uri": "https://localhost:8080/",
          "height": 143
        },
        "id": "I3rkoZrYyb_P",
        "outputId": "41af19b1-2eaf-4eab-b796-3166a01902fa"
      },
      "execution_count": 39,
      "outputs": [
        {
          "output_type": "execute_result",
          "data": {
            "text/plain": [
              "<pandas.io.formats.style.Styler at 0x7981e5621a80>"
            ],
            "text/html": [
              "<style type=\"text/css\">\n",
              "</style>\n",
              "<table id=\"T_a39b0\" class=\"dataframe\">\n",
              "  <thead>\n",
              "    <tr>\n",
              "      <th id=\"T_a39b0_level0_col0\" class=\"col_heading level0 col0\" >lastname</th>\n",
              "      <th id=\"T_a39b0_level0_col1\" class=\"col_heading level0 col1\" >firstname</th>\n",
              "      <th id=\"T_a39b0_level0_col2\" class=\"col_heading level0 col2\" >deptid</th>\n",
              "      <th id=\"T_a39b0_level0_col3\" class=\"col_heading level0 col3\" >nick</th>\n",
              "    </tr>\n",
              "  </thead>\n",
              "  <tbody>\n",
              "    <tr>\n",
              "      <td id=\"T_a39b0_row0_col0\" class=\"data row0 col0\" >Dikshit</td>\n",
              "      <td id=\"T_a39b0_row0_col1\" class=\"data row0 col1\" >Madhuri</td>\n",
              "      <td id=\"T_a39b0_row0_col2\" class=\"data row0 col2\" >20</td>\n",
              "      <td id=\"T_a39b0_row0_col3\" class=\"data row0 col3\" >Mad</td>\n",
              "    </tr>\n",
              "    <tr>\n",
              "      <td id=\"T_a39b0_row1_col0\" class=\"data row1 col0\" >Khan</td>\n",
              "      <td id=\"T_a39b0_row1_col1\" class=\"data row1 col1\" >Shahrukh</td>\n",
              "      <td id=\"T_a39b0_row1_col2\" class=\"data row1 col2\" >20</td>\n",
              "      <td id=\"T_a39b0_row1_col3\" class=\"data row1 col3\" >Sha</td>\n",
              "    </tr>\n",
              "    <tr>\n",
              "      <td id=\"T_a39b0_row2_col0\" class=\"data row2 col0\" >Sehwag</td>\n",
              "      <td id=\"T_a39b0_row2_col1\" class=\"data row2 col1\" >Virender</td>\n",
              "      <td id=\"T_a39b0_row2_col2\" class=\"data row2 col2\" >20</td>\n",
              "      <td id=\"T_a39b0_row2_col3\" class=\"data row2 col3\" >Vir</td>\n",
              "    </tr>\n",
              "  </tbody>\n",
              "</table>\n"
            ]
          },
          "metadata": {},
          "execution_count": 39
        }
      ]
    },
    {
      "cell_type": "code",
      "source": [
        "runSelect(\"select lastname, firstname, deptid, concat('\\\"',substring(firstname,2,3),'\\\" ',lastname) nick from empl where deptid = '20'\")"
      ],
      "metadata": {
        "colab": {
          "base_uri": "https://localhost:8080/",
          "height": 143
        },
        "id": "xNQl1KpSzIQc",
        "outputId": "190c0913-51b9-43ec-d820-2d3bdb678f02"
      },
      "execution_count": 40,
      "outputs": [
        {
          "output_type": "execute_result",
          "data": {
            "text/plain": [
              "<pandas.io.formats.style.Styler at 0x7981e5622500>"
            ],
            "text/html": [
              "<style type=\"text/css\">\n",
              "</style>\n",
              "<table id=\"T_cbb20\" class=\"dataframe\">\n",
              "  <thead>\n",
              "    <tr>\n",
              "      <th id=\"T_cbb20_level0_col0\" class=\"col_heading level0 col0\" >lastname</th>\n",
              "      <th id=\"T_cbb20_level0_col1\" class=\"col_heading level0 col1\" >firstname</th>\n",
              "      <th id=\"T_cbb20_level0_col2\" class=\"col_heading level0 col2\" >deptid</th>\n",
              "      <th id=\"T_cbb20_level0_col3\" class=\"col_heading level0 col3\" >nick</th>\n",
              "    </tr>\n",
              "  </thead>\n",
              "  <tbody>\n",
              "    <tr>\n",
              "      <td id=\"T_cbb20_row0_col0\" class=\"data row0 col0\" >Dikshit</td>\n",
              "      <td id=\"T_cbb20_row0_col1\" class=\"data row0 col1\" >Madhuri</td>\n",
              "      <td id=\"T_cbb20_row0_col2\" class=\"data row0 col2\" >20</td>\n",
              "      <td id=\"T_cbb20_row0_col3\" class=\"data row0 col3\" >\"adh\" Dikshit</td>\n",
              "    </tr>\n",
              "    <tr>\n",
              "      <td id=\"T_cbb20_row1_col0\" class=\"data row1 col0\" >Khan</td>\n",
              "      <td id=\"T_cbb20_row1_col1\" class=\"data row1 col1\" >Shahrukh</td>\n",
              "      <td id=\"T_cbb20_row1_col2\" class=\"data row1 col2\" >20</td>\n",
              "      <td id=\"T_cbb20_row1_col3\" class=\"data row1 col3\" >\"hah\" Khan</td>\n",
              "    </tr>\n",
              "    <tr>\n",
              "      <td id=\"T_cbb20_row2_col0\" class=\"data row2 col0\" >Sehwag</td>\n",
              "      <td id=\"T_cbb20_row2_col1\" class=\"data row2 col1\" >Virender</td>\n",
              "      <td id=\"T_cbb20_row2_col2\" class=\"data row2 col2\" >20</td>\n",
              "      <td id=\"T_cbb20_row2_col3\" class=\"data row2 col3\" >\"ire\" Sehwag</td>\n",
              "    </tr>\n",
              "  </tbody>\n",
              "</table>\n"
            ]
          },
          "metadata": {},
          "execution_count": 40
        }
      ]
    },
    {
      "cell_type": "code",
      "source": [
        "runSelect(\"select LastName, Current_Date,JoinDate, to_char(JoinDate,'Day') JoinDay, to_char(JoinDate,'DD-mon-YY') JoinDate2, \\\n",
        "Current_Date-JoinDate DaysSince from Empl\")\n",
        "\n",
        "#https://blog.quest.com/exploring-postgres-date-formats-and-their-different-functions/\n"
      ],
      "metadata": {
        "id": "37Rjgkxz-BP0",
        "outputId": "1e4db33f-2240-4263-9651-31cb25642d7a",
        "colab": {
          "base_uri": "https://localhost:8080/",
          "height": 457
        }
      },
      "execution_count": 41,
      "outputs": [
        {
          "output_type": "execute_result",
          "data": {
            "text/plain": [
              "<pandas.io.formats.style.Styler at 0x7981e56217b0>"
            ],
            "text/html": [
              "<style type=\"text/css\">\n",
              "</style>\n",
              "<table id=\"T_8d8de\" class=\"dataframe\">\n",
              "  <thead>\n",
              "    <tr>\n",
              "      <th id=\"T_8d8de_level0_col0\" class=\"col_heading level0 col0\" >lastname</th>\n",
              "      <th id=\"T_8d8de_level0_col1\" class=\"col_heading level0 col1\" >current_date</th>\n",
              "      <th id=\"T_8d8de_level0_col2\" class=\"col_heading level0 col2\" >joindate</th>\n",
              "      <th id=\"T_8d8de_level0_col3\" class=\"col_heading level0 col3\" >joinday</th>\n",
              "      <th id=\"T_8d8de_level0_col4\" class=\"col_heading level0 col4\" >joindate2</th>\n",
              "      <th id=\"T_8d8de_level0_col5\" class=\"col_heading level0 col5\" >dayssince</th>\n",
              "    </tr>\n",
              "  </thead>\n",
              "  <tbody>\n",
              "    <tr>\n",
              "      <td id=\"T_8d8de_row0_col0\" class=\"data row0 col0\" >Bacchan</td>\n",
              "      <td id=\"T_8d8de_row0_col1\" class=\"data row0 col1\" >2024-01-04</td>\n",
              "      <td id=\"T_8d8de_row0_col2\" class=\"data row0 col2\" >2003-03-10</td>\n",
              "      <td id=\"T_8d8de_row0_col3\" class=\"data row0 col3\" >Monday   </td>\n",
              "      <td id=\"T_8d8de_row0_col4\" class=\"data row0 col4\" >10-mar-03</td>\n",
              "      <td id=\"T_8d8de_row0_col5\" class=\"data row0 col5\" >7605</td>\n",
              "    </tr>\n",
              "    <tr>\n",
              "      <td id=\"T_8d8de_row1_col0\" class=\"data row1 col0\" >Mukherjee</td>\n",
              "      <td id=\"T_8d8de_row1_col1\" class=\"data row1 col1\" >2024-01-04</td>\n",
              "      <td id=\"T_8d8de_row1_col2\" class=\"data row1 col2\" >2005-05-04</td>\n",
              "      <td id=\"T_8d8de_row1_col3\" class=\"data row1 col3\" >Wednesday</td>\n",
              "      <td id=\"T_8d8de_row1_col4\" class=\"data row1 col4\" >04-may-05</td>\n",
              "      <td id=\"T_8d8de_row1_col5\" class=\"data row1 col5\" >6819</td>\n",
              "    </tr>\n",
              "    <tr>\n",
              "      <td id=\"T_8d8de_row2_col0\" class=\"data row2 col0\" >Dikshit</td>\n",
              "      <td id=\"T_8d8de_row2_col1\" class=\"data row2 col1\" >2024-01-04</td>\n",
              "      <td id=\"T_8d8de_row2_col2\" class=\"data row2 col2\" >2002-04-04</td>\n",
              "      <td id=\"T_8d8de_row2_col3\" class=\"data row2 col3\" >Thursday </td>\n",
              "      <td id=\"T_8d8de_row2_col4\" class=\"data row2 col4\" >04-apr-02</td>\n",
              "      <td id=\"T_8d8de_row2_col5\" class=\"data row2 col5\" >7945</td>\n",
              "    </tr>\n",
              "    <tr>\n",
              "      <td id=\"T_8d8de_row3_col0\" class=\"data row3 col0\" >Khan</td>\n",
              "      <td id=\"T_8d8de_row3_col1\" class=\"data row3 col1\" >2024-01-04</td>\n",
              "      <td id=\"T_8d8de_row3_col2\" class=\"data row3 col2\" >2004-01-03</td>\n",
              "      <td id=\"T_8d8de_row3_col3\" class=\"data row3 col3\" >Saturday </td>\n",
              "      <td id=\"T_8d8de_row3_col4\" class=\"data row3 col4\" >03-jan-04</td>\n",
              "      <td id=\"T_8d8de_row3_col5\" class=\"data row3 col5\" >7306</td>\n",
              "    </tr>\n",
              "    <tr>\n",
              "      <td id=\"T_8d8de_row4_col0\" class=\"data row4 col0\" >Sehwag</td>\n",
              "      <td id=\"T_8d8de_row4_col1\" class=\"data row4 col1\" >2024-01-04</td>\n",
              "      <td id=\"T_8d8de_row4_col2\" class=\"data row4 col2\" >2005-01-02</td>\n",
              "      <td id=\"T_8d8de_row4_col3\" class=\"data row4 col3\" >Sunday   </td>\n",
              "      <td id=\"T_8d8de_row4_col4\" class=\"data row4 col4\" >02-jan-05</td>\n",
              "      <td id=\"T_8d8de_row4_col5\" class=\"data row4 col5\" >6941</td>\n",
              "    </tr>\n",
              "    <tr>\n",
              "      <td id=\"T_8d8de_row5_col0\" class=\"data row5 col0\" >Dhoni</td>\n",
              "      <td id=\"T_8d8de_row5_col1\" class=\"data row5 col1\" >2024-01-04</td>\n",
              "      <td id=\"T_8d8de_row5_col2\" class=\"data row5 col2\" >2004-10-09</td>\n",
              "      <td id=\"T_8d8de_row5_col3\" class=\"data row5 col3\" >Saturday </td>\n",
              "      <td id=\"T_8d8de_row5_col4\" class=\"data row5 col4\" >09-oct-04</td>\n",
              "      <td id=\"T_8d8de_row5_col5\" class=\"data row5 col5\" >7026</td>\n",
              "    </tr>\n",
              "    <tr>\n",
              "      <td id=\"T_8d8de_row6_col0\" class=\"data row6 col0\" >Dravid</td>\n",
              "      <td id=\"T_8d8de_row6_col1\" class=\"data row6 col1\" >2024-01-04</td>\n",
              "      <td id=\"T_8d8de_row6_col2\" class=\"data row6 col2\" >2000-06-04</td>\n",
              "      <td id=\"T_8d8de_row6_col3\" class=\"data row6 col3\" >Sunday   </td>\n",
              "      <td id=\"T_8d8de_row6_col4\" class=\"data row6 col4\" >04-jun-00</td>\n",
              "      <td id=\"T_8d8de_row6_col5\" class=\"data row6 col5\" >8614</td>\n",
              "    </tr>\n",
              "    <tr>\n",
              "      <td id=\"T_8d8de_row7_col0\" class=\"data row7 col0\" >Dalmia</td>\n",
              "      <td id=\"T_8d8de_row7_col1\" class=\"data row7 col1\" >2024-01-04</td>\n",
              "      <td id=\"T_8d8de_row7_col2\" class=\"data row7 col2\" >2001-07-01</td>\n",
              "      <td id=\"T_8d8de_row7_col3\" class=\"data row7 col3\" >Sunday   </td>\n",
              "      <td id=\"T_8d8de_row7_col4\" class=\"data row7 col4\" >01-jul-01</td>\n",
              "      <td id=\"T_8d8de_row7_col5\" class=\"data row7 col5\" >8222</td>\n",
              "    </tr>\n",
              "    <tr>\n",
              "      <td id=\"T_8d8de_row8_col0\" class=\"data row8 col0\" >Ganguly</td>\n",
              "      <td id=\"T_8d8de_row8_col1\" class=\"data row8 col1\" >2024-01-04</td>\n",
              "      <td id=\"T_8d8de_row8_col2\" class=\"data row8 col2\" >2002-01-01</td>\n",
              "      <td id=\"T_8d8de_row8_col3\" class=\"data row8 col3\" >Tuesday  </td>\n",
              "      <td id=\"T_8d8de_row8_col4\" class=\"data row8 col4\" >01-jan-02</td>\n",
              "      <td id=\"T_8d8de_row8_col5\" class=\"data row8 col5\" >8038</td>\n",
              "    </tr>\n",
              "    <tr>\n",
              "      <td id=\"T_8d8de_row9_col0\" class=\"data row9 col0\" >Ganesan</td>\n",
              "      <td id=\"T_8d8de_row9_col1\" class=\"data row9 col1\" >2024-01-04</td>\n",
              "      <td id=\"T_8d8de_row9_col2\" class=\"data row9 col2\" >2002-10-10</td>\n",
              "      <td id=\"T_8d8de_row9_col3\" class=\"data row9 col3\" >Thursday </td>\n",
              "      <td id=\"T_8d8de_row9_col4\" class=\"data row9 col4\" >10-oct-02</td>\n",
              "      <td id=\"T_8d8de_row9_col5\" class=\"data row9 col5\" >7756</td>\n",
              "    </tr>\n",
              "    <tr>\n",
              "      <td id=\"T_8d8de_row10_col0\" class=\"data row10 col0\" >Karthikeyan</td>\n",
              "      <td id=\"T_8d8de_row10_col1\" class=\"data row10 col1\" >2024-01-04</td>\n",
              "      <td id=\"T_8d8de_row10_col2\" class=\"data row10 col2\" >2005-12-04</td>\n",
              "      <td id=\"T_8d8de_row10_col3\" class=\"data row10 col3\" >Sunday   </td>\n",
              "      <td id=\"T_8d8de_row10_col4\" class=\"data row10 col4\" >04-dec-05</td>\n",
              "      <td id=\"T_8d8de_row10_col5\" class=\"data row10 col5\" >6605</td>\n",
              "    </tr>\n",
              "    <tr>\n",
              "      <td id=\"T_8d8de_row11_col0\" class=\"data row11 col0\" >Sunil</td>\n",
              "      <td id=\"T_8d8de_row11_col1\" class=\"data row11 col1\" >2024-01-04</td>\n",
              "      <td id=\"T_8d8de_row11_col2\" class=\"data row11 col2\" >2006-12-07</td>\n",
              "      <td id=\"T_8d8de_row11_col3\" class=\"data row11 col3\" >Thursday </td>\n",
              "      <td id=\"T_8d8de_row11_col4\" class=\"data row11 col4\" >07-dec-06</td>\n",
              "      <td id=\"T_8d8de_row11_col5\" class=\"data row11 col5\" >6237</td>\n",
              "    </tr>\n",
              "    <tr>\n",
              "      <td id=\"T_8d8de_row12_col0\" class=\"data row12 col0\" >Mirza</td>\n",
              "      <td id=\"T_8d8de_row12_col1\" class=\"data row12 col1\" >2024-01-04</td>\n",
              "      <td id=\"T_8d8de_row12_col2\" class=\"data row12 col2\" >2001-11-19</td>\n",
              "      <td id=\"T_8d8de_row12_col3\" class=\"data row12 col3\" >Monday   </td>\n",
              "      <td id=\"T_8d8de_row12_col4\" class=\"data row12 col4\" >19-nov-01</td>\n",
              "      <td id=\"T_8d8de_row12_col5\" class=\"data row12 col5\" >8081</td>\n",
              "    </tr>\n",
              "  </tbody>\n",
              "</table>\n"
            ]
          },
          "metadata": {},
          "execution_count": 41
        }
      ]
    },
    {
      "cell_type": "markdown",
      "source": [
        "# MultiRow Function | Group By | Having\n",
        "for more complex examples that demonstrate Grouping Sets, Cubes, Roll UP, Crosstabs and other OLAP related SQL see [this notebook](https://github.com/Praxis-QR/RDWH/blob/main/PostgreSQL_03B_SQL_Level2.ipynb)"
      ],
      "metadata": {
        "id": "ONgFWUTC2IPK"
      }
    },
    {
      "cell_type": "code",
      "source": [
        "runSelect(\"select sum(salary) Total_Salary from empl\")"
      ],
      "metadata": {
        "colab": {
          "base_uri": "https://localhost:8080/",
          "height": 81
        },
        "id": "7MnnzfJx2PSc",
        "outputId": "37bae947-57b8-48ca-f017-68c0e6ab11ca"
      },
      "execution_count": 42,
      "outputs": [
        {
          "output_type": "execute_result",
          "data": {
            "text/plain": [
              "<pandas.io.formats.style.Styler at 0x7981e56221d0>"
            ],
            "text/html": [
              "<style type=\"text/css\">\n",
              "</style>\n",
              "<table id=\"T_c9946\" class=\"dataframe\">\n",
              "  <thead>\n",
              "    <tr>\n",
              "      <th id=\"T_c9946_level0_col0\" class=\"col_heading level0 col0\" >total_salary</th>\n",
              "    </tr>\n",
              "  </thead>\n",
              "  <tbody>\n",
              "    <tr>\n",
              "      <td id=\"T_c9946_row0_col0\" class=\"data row0 col0\" >376000</td>\n",
              "    </tr>\n",
              "  </tbody>\n",
              "</table>\n"
            ]
          },
          "metadata": {},
          "execution_count": 42
        }
      ]
    },
    {
      "cell_type": "code",
      "source": [
        "runSelect(\"select round(avg(salary),2) Average_Salary from empl\")"
      ],
      "metadata": {
        "colab": {
          "base_uri": "https://localhost:8080/",
          "height": 81
        },
        "id": "e3Avb-HL4QPD",
        "outputId": "50442c3c-daaf-4977-85cb-3dfb2dff834f"
      },
      "execution_count": 43,
      "outputs": [
        {
          "output_type": "execute_result",
          "data": {
            "text/plain": [
              "<pandas.io.formats.style.Styler at 0x7981e56205b0>"
            ],
            "text/html": [
              "<style type=\"text/css\">\n",
              "</style>\n",
              "<table id=\"T_8d89a\" class=\"dataframe\">\n",
              "  <thead>\n",
              "    <tr>\n",
              "      <th id=\"T_8d89a_level0_col0\" class=\"col_heading level0 col0\" >average_salary</th>\n",
              "    </tr>\n",
              "  </thead>\n",
              "  <tbody>\n",
              "    <tr>\n",
              "      <td id=\"T_8d89a_row0_col0\" class=\"data row0 col0\" >28923.08</td>\n",
              "    </tr>\n",
              "  </tbody>\n",
              "</table>\n"
            ]
          },
          "metadata": {},
          "execution_count": 43
        }
      ]
    },
    {
      "cell_type": "code",
      "source": [
        "runSelect(\"select max(salary) Max_Salary from empl\")"
      ],
      "metadata": {
        "colab": {
          "base_uri": "https://localhost:8080/",
          "height": 81
        },
        "id": "Oe1qRQbI4gtY",
        "outputId": "51588517-cdbf-4d5f-a9af-bcd81127d2b2"
      },
      "execution_count": 44,
      "outputs": [
        {
          "output_type": "execute_result",
          "data": {
            "text/plain": [
              "<pandas.io.formats.style.Styler at 0x7981e5441300>"
            ],
            "text/html": [
              "<style type=\"text/css\">\n",
              "</style>\n",
              "<table id=\"T_aebec\" class=\"dataframe\">\n",
              "  <thead>\n",
              "    <tr>\n",
              "      <th id=\"T_aebec_level0_col0\" class=\"col_heading level0 col0\" >max_salary</th>\n",
              "    </tr>\n",
              "  </thead>\n",
              "  <tbody>\n",
              "    <tr>\n",
              "      <td id=\"T_aebec_row0_col0\" class=\"data row0 col0\" >60000</td>\n",
              "    </tr>\n",
              "  </tbody>\n",
              "</table>\n"
            ]
          },
          "metadata": {},
          "execution_count": 44
        }
      ]
    },
    {
      "cell_type": "code",
      "source": [
        "runSelect(\"select deptid, sum(salary) Total, max(salary) Max from empl group by deptid\")"
      ],
      "metadata": {
        "colab": {
          "base_uri": "https://localhost:8080/",
          "height": 206
        },
        "id": "xpmGXSAX69iU",
        "outputId": "c6eed3db-b0cf-4362-a07d-8ce00b37de3b"
      },
      "execution_count": 45,
      "outputs": [
        {
          "output_type": "execute_result",
          "data": {
            "text/plain": [
              "<pandas.io.formats.style.Styler at 0x7981e5622470>"
            ],
            "text/html": [
              "<style type=\"text/css\">\n",
              "</style>\n",
              "<table id=\"T_8c359\" class=\"dataframe\">\n",
              "  <thead>\n",
              "    <tr>\n",
              "      <th id=\"T_8c359_level0_col0\" class=\"col_heading level0 col0\" >deptid</th>\n",
              "      <th id=\"T_8c359_level0_col1\" class=\"col_heading level0 col1\" >total</th>\n",
              "      <th id=\"T_8c359_level0_col2\" class=\"col_heading level0 col2\" >max</th>\n",
              "    </tr>\n",
              "  </thead>\n",
              "  <tbody>\n",
              "    <tr>\n",
              "      <td id=\"T_8c359_row0_col0\" class=\"data row0 col0\" >10</td>\n",
              "      <td id=\"T_8c359_row0_col1\" class=\"data row0 col1\" >150000</td>\n",
              "      <td id=\"T_8c359_row0_col2\" class=\"data row0 col2\" >60000</td>\n",
              "    </tr>\n",
              "    <tr>\n",
              "      <td id=\"T_8c359_row1_col0\" class=\"data row1 col0\" >40</td>\n",
              "      <td id=\"T_8c359_row1_col1\" class=\"data row1 col1\" >54000</td>\n",
              "      <td id=\"T_8c359_row1_col2\" class=\"data row1 col2\" >25000</td>\n",
              "    </tr>\n",
              "    <tr>\n",
              "      <td id=\"T_8c359_row2_col0\" class=\"data row2 col0\" >70</td>\n",
              "      <td id=\"T_8c359_row2_col1\" class=\"data row2 col1\" >40000</td>\n",
              "      <td id=\"T_8c359_row2_col2\" class=\"data row2 col2\" >40000</td>\n",
              "    </tr>\n",
              "    <tr>\n",
              "      <td id=\"T_8c359_row3_col0\" class=\"data row3 col0\" >20</td>\n",
              "      <td id=\"T_8c359_row3_col1\" class=\"data row3 col1\" >55000</td>\n",
              "      <td id=\"T_8c359_row3_col2\" class=\"data row3 col2\" >30000</td>\n",
              "    </tr>\n",
              "    <tr>\n",
              "      <td id=\"T_8c359_row4_col0\" class=\"data row4 col0\" >30</td>\n",
              "      <td id=\"T_8c359_row4_col1\" class=\"data row4 col1\" >77000</td>\n",
              "      <td id=\"T_8c359_row4_col2\" class=\"data row4 col2\" >40000</td>\n",
              "    </tr>\n",
              "  </tbody>\n",
              "</table>\n"
            ]
          },
          "metadata": {},
          "execution_count": 45
        }
      ]
    },
    {
      "cell_type": "code",
      "source": [
        "runSelect(\"select deptid, sum(salary) Total, max(salary) Max from empl group by deptid having sum(salary) > 50000\")"
      ],
      "metadata": {
        "colab": {
          "base_uri": "https://localhost:8080/",
          "height": 175
        },
        "id": "AdNDutZl7LCF",
        "outputId": "22364063-b28f-40e8-a71c-1b2b9555336e"
      },
      "execution_count": 46,
      "outputs": [
        {
          "output_type": "execute_result",
          "data": {
            "text/plain": [
              "<pandas.io.formats.style.Styler at 0x7981e5442050>"
            ],
            "text/html": [
              "<style type=\"text/css\">\n",
              "</style>\n",
              "<table id=\"T_cc437\" class=\"dataframe\">\n",
              "  <thead>\n",
              "    <tr>\n",
              "      <th id=\"T_cc437_level0_col0\" class=\"col_heading level0 col0\" >deptid</th>\n",
              "      <th id=\"T_cc437_level0_col1\" class=\"col_heading level0 col1\" >total</th>\n",
              "      <th id=\"T_cc437_level0_col2\" class=\"col_heading level0 col2\" >max</th>\n",
              "    </tr>\n",
              "  </thead>\n",
              "  <tbody>\n",
              "    <tr>\n",
              "      <td id=\"T_cc437_row0_col0\" class=\"data row0 col0\" >10</td>\n",
              "      <td id=\"T_cc437_row0_col1\" class=\"data row0 col1\" >150000</td>\n",
              "      <td id=\"T_cc437_row0_col2\" class=\"data row0 col2\" >60000</td>\n",
              "    </tr>\n",
              "    <tr>\n",
              "      <td id=\"T_cc437_row1_col0\" class=\"data row1 col0\" >40</td>\n",
              "      <td id=\"T_cc437_row1_col1\" class=\"data row1 col1\" >54000</td>\n",
              "      <td id=\"T_cc437_row1_col2\" class=\"data row1 col2\" >25000</td>\n",
              "    </tr>\n",
              "    <tr>\n",
              "      <td id=\"T_cc437_row2_col0\" class=\"data row2 col0\" >20</td>\n",
              "      <td id=\"T_cc437_row2_col1\" class=\"data row2 col1\" >55000</td>\n",
              "      <td id=\"T_cc437_row2_col2\" class=\"data row2 col2\" >30000</td>\n",
              "    </tr>\n",
              "    <tr>\n",
              "      <td id=\"T_cc437_row3_col0\" class=\"data row3 col0\" >30</td>\n",
              "      <td id=\"T_cc437_row3_col1\" class=\"data row3 col1\" >77000</td>\n",
              "      <td id=\"T_cc437_row3_col2\" class=\"data row3 col2\" >40000</td>\n",
              "    </tr>\n",
              "  </tbody>\n",
              "</table>\n"
            ]
          },
          "metadata": {},
          "execution_count": 46
        }
      ]
    },
    {
      "cell_type": "code",
      "source": [
        "runSelect(\"select deptid, sum(salary) Total, max(salary) Max from empl group by deptid having sum(salary) > 50000 and max(salary) < 35000\")"
      ],
      "metadata": {
        "colab": {
          "base_uri": "https://localhost:8080/",
          "height": 112
        },
        "id": "4VFmL5JF7bYo",
        "outputId": "c4572a50-3e60-4233-8220-e8cc912b53a8"
      },
      "execution_count": 47,
      "outputs": [
        {
          "output_type": "execute_result",
          "data": {
            "text/plain": [
              "<pandas.io.formats.style.Styler at 0x7981e5442980>"
            ],
            "text/html": [
              "<style type=\"text/css\">\n",
              "</style>\n",
              "<table id=\"T_6d5ab\" class=\"dataframe\">\n",
              "  <thead>\n",
              "    <tr>\n",
              "      <th id=\"T_6d5ab_level0_col0\" class=\"col_heading level0 col0\" >deptid</th>\n",
              "      <th id=\"T_6d5ab_level0_col1\" class=\"col_heading level0 col1\" >total</th>\n",
              "      <th id=\"T_6d5ab_level0_col2\" class=\"col_heading level0 col2\" >max</th>\n",
              "    </tr>\n",
              "  </thead>\n",
              "  <tbody>\n",
              "    <tr>\n",
              "      <td id=\"T_6d5ab_row0_col0\" class=\"data row0 col0\" >40</td>\n",
              "      <td id=\"T_6d5ab_row0_col1\" class=\"data row0 col1\" >54000</td>\n",
              "      <td id=\"T_6d5ab_row0_col2\" class=\"data row0 col2\" >25000</td>\n",
              "    </tr>\n",
              "    <tr>\n",
              "      <td id=\"T_6d5ab_row1_col0\" class=\"data row1 col0\" >20</td>\n",
              "      <td id=\"T_6d5ab_row1_col1\" class=\"data row1 col1\" >55000</td>\n",
              "      <td id=\"T_6d5ab_row1_col2\" class=\"data row1 col2\" >30000</td>\n",
              "    </tr>\n",
              "  </tbody>\n",
              "</table>\n"
            ]
          },
          "metadata": {},
          "execution_count": 47
        }
      ]
    },
    {
      "cell_type": "markdown",
      "source": [
        "#Conditionals | CASE"
      ],
      "metadata": {
        "id": "xDsapsK8Afpj"
      }
    },
    {
      "cell_type": "code",
      "source": [
        "runSelect(\"select lastname, jobdesc, salary, comm, salary+salary*comm Payout,\\\n",
        "case when jobdesc like '%Manager' then 2000 else 0 end bonus from empl\")"
      ],
      "metadata": {
        "colab": {
          "base_uri": "https://localhost:8080/",
          "height": 457
        },
        "id": "bYRWDlVNAxKx",
        "outputId": "fa4b999f-4bbc-4c07-f930-6b49771e5d90"
      },
      "execution_count": 48,
      "outputs": [
        {
          "output_type": "execute_result",
          "data": {
            "text/plain": [
              "<pandas.io.formats.style.Styler at 0x7981e5442b30>"
            ],
            "text/html": [
              "<style type=\"text/css\">\n",
              "</style>\n",
              "<table id=\"T_47fde\" class=\"dataframe\">\n",
              "  <thead>\n",
              "    <tr>\n",
              "      <th id=\"T_47fde_level0_col0\" class=\"col_heading level0 col0\" >lastname</th>\n",
              "      <th id=\"T_47fde_level0_col1\" class=\"col_heading level0 col1\" >jobdesc</th>\n",
              "      <th id=\"T_47fde_level0_col2\" class=\"col_heading level0 col2\" >salary</th>\n",
              "      <th id=\"T_47fde_level0_col3\" class=\"col_heading level0 col3\" >comm</th>\n",
              "      <th id=\"T_47fde_level0_col4\" class=\"col_heading level0 col4\" >payout</th>\n",
              "      <th id=\"T_47fde_level0_col5\" class=\"col_heading level0 col5\" >bonus</th>\n",
              "    </tr>\n",
              "  </thead>\n",
              "  <tbody>\n",
              "    <tr>\n",
              "      <td id=\"T_47fde_row0_col0\" class=\"data row0 col0\" >Bacchan</td>\n",
              "      <td id=\"T_47fde_row0_col1\" class=\"data row0 col1\" >Executive</td>\n",
              "      <td id=\"T_47fde_row0_col2\" class=\"data row0 col2\" >50000</td>\n",
              "      <td id=\"T_47fde_row0_col3\" class=\"data row0 col3\" >0.10</td>\n",
              "      <td id=\"T_47fde_row0_col4\" class=\"data row0 col4\" >55000.00</td>\n",
              "      <td id=\"T_47fde_row0_col5\" class=\"data row0 col5\" >0</td>\n",
              "    </tr>\n",
              "    <tr>\n",
              "      <td id=\"T_47fde_row1_col0\" class=\"data row1 col0\" >Mukherjee</td>\n",
              "      <td id=\"T_47fde_row1_col1\" class=\"data row1 col1\" >Manager</td>\n",
              "      <td id=\"T_47fde_row1_col2\" class=\"data row1 col2\" >25000</td>\n",
              "      <td id=\"T_47fde_row1_col3\" class=\"data row1 col3\" >0.06</td>\n",
              "      <td id=\"T_47fde_row1_col4\" class=\"data row1 col4\" >26500.00</td>\n",
              "      <td id=\"T_47fde_row1_col5\" class=\"data row1 col5\" >2000</td>\n",
              "    </tr>\n",
              "    <tr>\n",
              "      <td id=\"T_47fde_row2_col0\" class=\"data row2 col0\" >Dikshit</td>\n",
              "      <td id=\"T_47fde_row2_col1\" class=\"data row2 col1\" >Clerk</td>\n",
              "      <td id=\"T_47fde_row2_col2\" class=\"data row2 col2\" >10000</td>\n",
              "      <td id=\"T_47fde_row2_col3\" class=\"data row2 col3\" >0.02</td>\n",
              "      <td id=\"T_47fde_row2_col4\" class=\"data row2 col4\" >10200.00</td>\n",
              "      <td id=\"T_47fde_row2_col5\" class=\"data row2 col5\" >0</td>\n",
              "    </tr>\n",
              "    <tr>\n",
              "      <td id=\"T_47fde_row3_col0\" class=\"data row3 col0\" >Khan</td>\n",
              "      <td id=\"T_47fde_row3_col1\" class=\"data row3 col1\" >Manager</td>\n",
              "      <td id=\"T_47fde_row3_col2\" class=\"data row3 col2\" >30000</td>\n",
              "      <td id=\"T_47fde_row3_col3\" class=\"data row3 col3\" >0.07</td>\n",
              "      <td id=\"T_47fde_row3_col4\" class=\"data row3 col4\" >32100.00</td>\n",
              "      <td id=\"T_47fde_row3_col5\" class=\"data row3 col5\" >2000</td>\n",
              "    </tr>\n",
              "    <tr>\n",
              "      <td id=\"T_47fde_row4_col0\" class=\"data row4 col0\" >Sehwag</td>\n",
              "      <td id=\"T_47fde_row4_col1\" class=\"data row4 col1\" >Cus_Rep</td>\n",
              "      <td id=\"T_47fde_row4_col2\" class=\"data row4 col2\" >15000</td>\n",
              "      <td id=\"T_47fde_row4_col3\" class=\"data row4 col3\" >0.05</td>\n",
              "      <td id=\"T_47fde_row4_col4\" class=\"data row4 col4\" >15750.00</td>\n",
              "      <td id=\"T_47fde_row4_col5\" class=\"data row4 col5\" >0</td>\n",
              "    </tr>\n",
              "    <tr>\n",
              "      <td id=\"T_47fde_row5_col0\" class=\"data row5 col0\" >Dhoni</td>\n",
              "      <td id=\"T_47fde_row5_col1\" class=\"data row5 col1\" >Clerk</td>\n",
              "      <td id=\"T_47fde_row5_col2\" class=\"data row5 col2\" >9000</td>\n",
              "      <td id=\"T_47fde_row5_col3\" class=\"data row5 col3\" >0.02</td>\n",
              "      <td id=\"T_47fde_row5_col4\" class=\"data row5 col4\" >9180.00</td>\n",
              "      <td id=\"T_47fde_row5_col5\" class=\"data row5 col5\" >0</td>\n",
              "    </tr>\n",
              "    <tr>\n",
              "      <td id=\"T_47fde_row6_col0\" class=\"data row6 col0\" >Dravid</td>\n",
              "      <td id=\"T_47fde_row6_col1\" class=\"data row6 col1\" >Sr Manager</td>\n",
              "      <td id=\"T_47fde_row6_col2\" class=\"data row6 col2\" >40000</td>\n",
              "      <td id=\"T_47fde_row6_col3\" class=\"data row6 col3\" >0.08</td>\n",
              "      <td id=\"T_47fde_row6_col4\" class=\"data row6 col4\" >43200.00</td>\n",
              "      <td id=\"T_47fde_row6_col5\" class=\"data row6 col5\" >2000</td>\n",
              "    </tr>\n",
              "    <tr>\n",
              "      <td id=\"T_47fde_row7_col0\" class=\"data row7 col0\" >Dalmia</td>\n",
              "      <td id=\"T_47fde_row7_col1\" class=\"data row7 col1\" >Clerk</td>\n",
              "      <td id=\"T_47fde_row7_col2\" class=\"data row7 col2\" >12000</td>\n",
              "      <td id=\"T_47fde_row7_col3\" class=\"data row7 col3\" >0.02</td>\n",
              "      <td id=\"T_47fde_row7_col4\" class=\"data row7 col4\" >12240.00</td>\n",
              "      <td id=\"T_47fde_row7_col5\" class=\"data row7 col5\" >0</td>\n",
              "    </tr>\n",
              "    <tr>\n",
              "      <td id=\"T_47fde_row8_col0\" class=\"data row8 col0\" >Ganguly</td>\n",
              "      <td id=\"T_47fde_row8_col1\" class=\"data row8 col1\" >Cus_Rep</td>\n",
              "      <td id=\"T_47fde_row8_col2\" class=\"data row8 col2\" >20000</td>\n",
              "      <td id=\"T_47fde_row8_col3\" class=\"data row8 col3\" >0.03</td>\n",
              "      <td id=\"T_47fde_row8_col4\" class=\"data row8 col4\" >20600.00</td>\n",
              "      <td id=\"T_47fde_row8_col5\" class=\"data row8 col5\" >0</td>\n",
              "    </tr>\n",
              "    <tr>\n",
              "      <td id=\"T_47fde_row9_col0\" class=\"data row9 col0\" >Ganesan</td>\n",
              "      <td id=\"T_47fde_row9_col1\" class=\"data row9 col1\" >Director</td>\n",
              "      <td id=\"T_47fde_row9_col2\" class=\"data row9 col2\" >60000</td>\n",
              "      <td id=\"T_47fde_row9_col3\" class=\"data row9 col3\" >0.11</td>\n",
              "      <td id=\"T_47fde_row9_col4\" class=\"data row9 col4\" >66600.00</td>\n",
              "      <td id=\"T_47fde_row9_col5\" class=\"data row9 col5\" >0</td>\n",
              "    </tr>\n",
              "    <tr>\n",
              "      <td id=\"T_47fde_row10_col0\" class=\"data row10 col0\" >Karthikeyan</td>\n",
              "      <td id=\"T_47fde_row10_col1\" class=\"data row10 col1\" >Secretary</td>\n",
              "      <td id=\"T_47fde_row10_col2\" class=\"data row10 col2\" >40000</td>\n",
              "      <td id=\"T_47fde_row10_col3\" class=\"data row10 col3\" >0.09</td>\n",
              "      <td id=\"T_47fde_row10_col4\" class=\"data row10 col4\" >43600.00</td>\n",
              "      <td id=\"T_47fde_row10_col5\" class=\"data row10 col5\" >0</td>\n",
              "    </tr>\n",
              "    <tr>\n",
              "      <td id=\"T_47fde_row11_col0\" class=\"data row11 col0\" >Sunil</td>\n",
              "      <td id=\"T_47fde_row11_col1\" class=\"data row11 col1\" >Dy Manager</td>\n",
              "      <td id=\"T_47fde_row11_col2\" class=\"data row11 col2\" >40000</td>\n",
              "      <td id=\"T_47fde_row11_col3\" class=\"data row11 col3\" >0.05</td>\n",
              "      <td id=\"T_47fde_row11_col4\" class=\"data row11 col4\" >42000.00</td>\n",
              "      <td id=\"T_47fde_row11_col5\" class=\"data row11 col5\" >2000</td>\n",
              "    </tr>\n",
              "    <tr>\n",
              "      <td id=\"T_47fde_row12_col0\" class=\"data row12 col0\" >Mirza</td>\n",
              "      <td id=\"T_47fde_row12_col1\" class=\"data row12 col1\" >Cus_Rep</td>\n",
              "      <td id=\"T_47fde_row12_col2\" class=\"data row12 col2\" >25000</td>\n",
              "      <td id=\"T_47fde_row12_col3\" class=\"data row12 col3\" >0.04</td>\n",
              "      <td id=\"T_47fde_row12_col4\" class=\"data row12 col4\" >26000.00</td>\n",
              "      <td id=\"T_47fde_row12_col5\" class=\"data row12 col5\" >0</td>\n",
              "    </tr>\n",
              "  </tbody>\n",
              "</table>\n"
            ]
          },
          "metadata": {},
          "execution_count": 48
        }
      ]
    },
    {
      "cell_type": "code",
      "source": [
        "runSelect(\"select lastname, deptid,\\\n",
        "case \\\n",
        "when deptid in ('10','20') then 'Head' \\\n",
        "when deptid = '30' then 'Regional'\\\n",
        "else 'Branch' \\\n",
        "end \\\n",
        " office from empl\")"
      ],
      "metadata": {
        "colab": {
          "base_uri": "https://localhost:8080/",
          "height": 457
        },
        "id": "jbpKn1y0DwYG",
        "outputId": "34829d6d-b14d-46cf-a3e4-30f31f3d0331"
      },
      "execution_count": 49,
      "outputs": [
        {
          "output_type": "execute_result",
          "data": {
            "text/plain": [
              "<pandas.io.formats.style.Styler at 0x7981e5443b50>"
            ],
            "text/html": [
              "<style type=\"text/css\">\n",
              "</style>\n",
              "<table id=\"T_5ec74\" class=\"dataframe\">\n",
              "  <thead>\n",
              "    <tr>\n",
              "      <th id=\"T_5ec74_level0_col0\" class=\"col_heading level0 col0\" >lastname</th>\n",
              "      <th id=\"T_5ec74_level0_col1\" class=\"col_heading level0 col1\" >deptid</th>\n",
              "      <th id=\"T_5ec74_level0_col2\" class=\"col_heading level0 col2\" >office</th>\n",
              "    </tr>\n",
              "  </thead>\n",
              "  <tbody>\n",
              "    <tr>\n",
              "      <td id=\"T_5ec74_row0_col0\" class=\"data row0 col0\" >Bacchan</td>\n",
              "      <td id=\"T_5ec74_row0_col1\" class=\"data row0 col1\" >10</td>\n",
              "      <td id=\"T_5ec74_row0_col2\" class=\"data row0 col2\" >Head</td>\n",
              "    </tr>\n",
              "    <tr>\n",
              "      <td id=\"T_5ec74_row1_col0\" class=\"data row1 col0\" >Mukherjee</td>\n",
              "      <td id=\"T_5ec74_row1_col1\" class=\"data row1 col1\" >40</td>\n",
              "      <td id=\"T_5ec74_row1_col2\" class=\"data row1 col2\" >Branch</td>\n",
              "    </tr>\n",
              "    <tr>\n",
              "      <td id=\"T_5ec74_row2_col0\" class=\"data row2 col0\" >Dikshit</td>\n",
              "      <td id=\"T_5ec74_row2_col1\" class=\"data row2 col1\" >20</td>\n",
              "      <td id=\"T_5ec74_row2_col2\" class=\"data row2 col2\" >Head</td>\n",
              "    </tr>\n",
              "    <tr>\n",
              "      <td id=\"T_5ec74_row3_col0\" class=\"data row3 col0\" >Khan</td>\n",
              "      <td id=\"T_5ec74_row3_col1\" class=\"data row3 col1\" >20</td>\n",
              "      <td id=\"T_5ec74_row3_col2\" class=\"data row3 col2\" >Head</td>\n",
              "    </tr>\n",
              "    <tr>\n",
              "      <td id=\"T_5ec74_row4_col0\" class=\"data row4 col0\" >Sehwag</td>\n",
              "      <td id=\"T_5ec74_row4_col1\" class=\"data row4 col1\" >20</td>\n",
              "      <td id=\"T_5ec74_row4_col2\" class=\"data row4 col2\" >Head</td>\n",
              "    </tr>\n",
              "    <tr>\n",
              "      <td id=\"T_5ec74_row5_col0\" class=\"data row5 col0\" >Dhoni</td>\n",
              "      <td id=\"T_5ec74_row5_col1\" class=\"data row5 col1\" >40</td>\n",
              "      <td id=\"T_5ec74_row5_col2\" class=\"data row5 col2\" >Branch</td>\n",
              "    </tr>\n",
              "    <tr>\n",
              "      <td id=\"T_5ec74_row6_col0\" class=\"data row6 col0\" >Dravid</td>\n",
              "      <td id=\"T_5ec74_row6_col1\" class=\"data row6 col1\" >30</td>\n",
              "      <td id=\"T_5ec74_row6_col2\" class=\"data row6 col2\" >Regional</td>\n",
              "    </tr>\n",
              "    <tr>\n",
              "      <td id=\"T_5ec74_row7_col0\" class=\"data row7 col0\" >Dalmia</td>\n",
              "      <td id=\"T_5ec74_row7_col1\" class=\"data row7 col1\" >30</td>\n",
              "      <td id=\"T_5ec74_row7_col2\" class=\"data row7 col2\" >Regional</td>\n",
              "    </tr>\n",
              "    <tr>\n",
              "      <td id=\"T_5ec74_row8_col0\" class=\"data row8 col0\" >Ganguly</td>\n",
              "      <td id=\"T_5ec74_row8_col1\" class=\"data row8 col1\" >40</td>\n",
              "      <td id=\"T_5ec74_row8_col2\" class=\"data row8 col2\" >Branch</td>\n",
              "    </tr>\n",
              "    <tr>\n",
              "      <td id=\"T_5ec74_row9_col0\" class=\"data row9 col0\" >Ganesan</td>\n",
              "      <td id=\"T_5ec74_row9_col1\" class=\"data row9 col1\" >10</td>\n",
              "      <td id=\"T_5ec74_row9_col2\" class=\"data row9 col2\" >Head</td>\n",
              "    </tr>\n",
              "    <tr>\n",
              "      <td id=\"T_5ec74_row10_col0\" class=\"data row10 col0\" >Karthikeyan</td>\n",
              "      <td id=\"T_5ec74_row10_col1\" class=\"data row10 col1\" >10</td>\n",
              "      <td id=\"T_5ec74_row10_col2\" class=\"data row10 col2\" >Head</td>\n",
              "    </tr>\n",
              "    <tr>\n",
              "      <td id=\"T_5ec74_row11_col0\" class=\"data row11 col0\" >Sunil</td>\n",
              "      <td id=\"T_5ec74_row11_col1\" class=\"data row11 col1\" >70</td>\n",
              "      <td id=\"T_5ec74_row11_col2\" class=\"data row11 col2\" >Branch</td>\n",
              "    </tr>\n",
              "    <tr>\n",
              "      <td id=\"T_5ec74_row12_col0\" class=\"data row12 col0\" >Mirza</td>\n",
              "      <td id=\"T_5ec74_row12_col1\" class=\"data row12 col1\" >30</td>\n",
              "      <td id=\"T_5ec74_row12_col2\" class=\"data row12 col2\" >Regional</td>\n",
              "    </tr>\n",
              "  </tbody>\n",
              "</table>\n"
            ]
          },
          "metadata": {},
          "execution_count": 49
        }
      ]
    },
    {
      "cell_type": "markdown",
      "source": [
        "#Join"
      ],
      "metadata": {
        "id": "Rs10ezIPpP0C"
      }
    },
    {
      "cell_type": "markdown",
      "source": [
        "## Basic Inner Join"
      ],
      "metadata": {
        "id": "XMfZP6HUpT4B"
      }
    },
    {
      "cell_type": "code",
      "source": [
        "sql = 'select firstname, lastname, salary, deptname, location, managerid from empl, dept where empl.deptid = dept.deptid'\n",
        "runSelect(sql)"
      ],
      "metadata": {
        "colab": {
          "base_uri": "https://localhost:8080/",
          "height": 426
        },
        "id": "ISiD-VP6pbUz",
        "outputId": "f62a4419-bcd6-4d9d-f893-ab9ad9d60a78"
      },
      "execution_count": 50,
      "outputs": [
        {
          "output_type": "execute_result",
          "data": {
            "text/plain": [
              "<pandas.io.formats.style.Styler at 0x7981e54b8130>"
            ],
            "text/html": [
              "<style type=\"text/css\">\n",
              "</style>\n",
              "<table id=\"T_811b4\" class=\"dataframe\">\n",
              "  <thead>\n",
              "    <tr>\n",
              "      <th id=\"T_811b4_level0_col0\" class=\"col_heading level0 col0\" >firstname</th>\n",
              "      <th id=\"T_811b4_level0_col1\" class=\"col_heading level0 col1\" >lastname</th>\n",
              "      <th id=\"T_811b4_level0_col2\" class=\"col_heading level0 col2\" >salary</th>\n",
              "      <th id=\"T_811b4_level0_col3\" class=\"col_heading level0 col3\" >deptname</th>\n",
              "      <th id=\"T_811b4_level0_col4\" class=\"col_heading level0 col4\" >location</th>\n",
              "      <th id=\"T_811b4_level0_col5\" class=\"col_heading level0 col5\" >managerid</th>\n",
              "    </tr>\n",
              "  </thead>\n",
              "  <tbody>\n",
              "    <tr>\n",
              "      <td id=\"T_811b4_row0_col0\" class=\"data row0 col0\" >Narayan</td>\n",
              "      <td id=\"T_811b4_row0_col1\" class=\"data row0 col1\" >Karthikeyan</td>\n",
              "      <td id=\"T_811b4_row0_col2\" class=\"data row0 col2\" >40000</td>\n",
              "      <td id=\"T_811b4_row0_col3\" class=\"data row0 col3\" >Corporate</td>\n",
              "      <td id=\"T_811b4_row0_col4\" class=\"data row0 col4\" >Calcutta</td>\n",
              "      <td id=\"T_811b4_row0_col5\" class=\"data row0 col5\" >299034</td>\n",
              "    </tr>\n",
              "    <tr>\n",
              "      <td id=\"T_811b4_row1_col0\" class=\"data row1 col0\" >Rekha</td>\n",
              "      <td id=\"T_811b4_row1_col1\" class=\"data row1 col1\" >Ganesan</td>\n",
              "      <td id=\"T_811b4_row1_col2\" class=\"data row1 col2\" >60000</td>\n",
              "      <td id=\"T_811b4_row1_col3\" class=\"data row1 col3\" >Corporate</td>\n",
              "      <td id=\"T_811b4_row1_col4\" class=\"data row1 col4\" >Calcutta</td>\n",
              "      <td id=\"T_811b4_row1_col5\" class=\"data row1 col5\" >299034</td>\n",
              "    </tr>\n",
              "    <tr>\n",
              "      <td id=\"T_811b4_row2_col0\" class=\"data row2 col0\" >Amitabh</td>\n",
              "      <td id=\"T_811b4_row2_col1\" class=\"data row2 col1\" >Bacchan</td>\n",
              "      <td id=\"T_811b4_row2_col2\" class=\"data row2 col2\" >50000</td>\n",
              "      <td id=\"T_811b4_row2_col3\" class=\"data row2 col3\" >Corporate</td>\n",
              "      <td id=\"T_811b4_row2_col4\" class=\"data row2 col4\" >Calcutta</td>\n",
              "      <td id=\"T_811b4_row2_col5\" class=\"data row2 col5\" >299034</td>\n",
              "    </tr>\n",
              "    <tr>\n",
              "      <td id=\"T_811b4_row3_col0\" class=\"data row3 col0\" >Virender</td>\n",
              "      <td id=\"T_811b4_row3_col1\" class=\"data row3 col1\" >Sehwag</td>\n",
              "      <td id=\"T_811b4_row3_col2\" class=\"data row3 col2\" >15000</td>\n",
              "      <td id=\"T_811b4_row3_col3\" class=\"data row3 col3\" >Sales</td>\n",
              "      <td id=\"T_811b4_row3_col4\" class=\"data row3 col4\" >Calcutta</td>\n",
              "      <td id=\"T_811b4_row3_col5\" class=\"data row3 col5\" >239456</td>\n",
              "    </tr>\n",
              "    <tr>\n",
              "      <td id=\"T_811b4_row4_col0\" class=\"data row4 col0\" >Shahrukh</td>\n",
              "      <td id=\"T_811b4_row4_col1\" class=\"data row4 col1\" >Khan</td>\n",
              "      <td id=\"T_811b4_row4_col2\" class=\"data row4 col2\" >30000</td>\n",
              "      <td id=\"T_811b4_row4_col3\" class=\"data row4 col3\" >Sales</td>\n",
              "      <td id=\"T_811b4_row4_col4\" class=\"data row4 col4\" >Calcutta</td>\n",
              "      <td id=\"T_811b4_row4_col5\" class=\"data row4 col5\" >239456</td>\n",
              "    </tr>\n",
              "    <tr>\n",
              "      <td id=\"T_811b4_row5_col0\" class=\"data row5 col0\" >Madhuri</td>\n",
              "      <td id=\"T_811b4_row5_col1\" class=\"data row5 col1\" >Dikshit</td>\n",
              "      <td id=\"T_811b4_row5_col2\" class=\"data row5 col2\" >10000</td>\n",
              "      <td id=\"T_811b4_row5_col3\" class=\"data row5 col3\" >Sales</td>\n",
              "      <td id=\"T_811b4_row5_col4\" class=\"data row5 col4\" >Calcutta</td>\n",
              "      <td id=\"T_811b4_row5_col5\" class=\"data row5 col5\" >239456</td>\n",
              "    </tr>\n",
              "    <tr>\n",
              "      <td id=\"T_811b4_row6_col0\" class=\"data row6 col0\" >Sania</td>\n",
              "      <td id=\"T_811b4_row6_col1\" class=\"data row6 col1\" >Mirza</td>\n",
              "      <td id=\"T_811b4_row6_col2\" class=\"data row6 col2\" >25000</td>\n",
              "      <td id=\"T_811b4_row6_col3\" class=\"data row6 col3\" >Accounts</td>\n",
              "      <td id=\"T_811b4_row6_col4\" class=\"data row6 col4\" >Calcutta</td>\n",
              "      <td id=\"T_811b4_row6_col5\" class=\"data row6 col5\" >822134</td>\n",
              "    </tr>\n",
              "    <tr>\n",
              "      <td id=\"T_811b4_row7_col0\" class=\"data row7 col0\" >Jagmohan</td>\n",
              "      <td id=\"T_811b4_row7_col1\" class=\"data row7 col1\" >Dalmia</td>\n",
              "      <td id=\"T_811b4_row7_col2\" class=\"data row7 col2\" >12000</td>\n",
              "      <td id=\"T_811b4_row7_col3\" class=\"data row7 col3\" >Accounts</td>\n",
              "      <td id=\"T_811b4_row7_col4\" class=\"data row7 col4\" >Calcutta</td>\n",
              "      <td id=\"T_811b4_row7_col5\" class=\"data row7 col5\" >822134</td>\n",
              "    </tr>\n",
              "    <tr>\n",
              "      <td id=\"T_811b4_row8_col0\" class=\"data row8 col0\" >Rahul</td>\n",
              "      <td id=\"T_811b4_row8_col1\" class=\"data row8 col1\" >Dravid</td>\n",
              "      <td id=\"T_811b4_row8_col2\" class=\"data row8 col2\" >40000</td>\n",
              "      <td id=\"T_811b4_row8_col3\" class=\"data row8 col3\" >Accounts</td>\n",
              "      <td id=\"T_811b4_row8_col4\" class=\"data row8 col4\" >Calcutta</td>\n",
              "      <td id=\"T_811b4_row8_col5\" class=\"data row8 col5\" >822134</td>\n",
              "    </tr>\n",
              "    <tr>\n",
              "      <td id=\"T_811b4_row9_col0\" class=\"data row9 col0\" >Sourav</td>\n",
              "      <td id=\"T_811b4_row9_col1\" class=\"data row9 col1\" >Ganguly</td>\n",
              "      <td id=\"T_811b4_row9_col2\" class=\"data row9 col2\" >20000</td>\n",
              "      <td id=\"T_811b4_row9_col3\" class=\"data row9 col3\" >Production</td>\n",
              "      <td id=\"T_811b4_row9_col4\" class=\"data row9 col4\" >Bombay</td>\n",
              "      <td id=\"T_811b4_row9_col5\" class=\"data row9 col5\" >349870</td>\n",
              "    </tr>\n",
              "    <tr>\n",
              "      <td id=\"T_811b4_row10_col0\" class=\"data row10 col0\" >Mahender</td>\n",
              "      <td id=\"T_811b4_row10_col1\" class=\"data row10 col1\" >Dhoni</td>\n",
              "      <td id=\"T_811b4_row10_col2\" class=\"data row10 col2\" >9000</td>\n",
              "      <td id=\"T_811b4_row10_col3\" class=\"data row10 col3\" >Production</td>\n",
              "      <td id=\"T_811b4_row10_col4\" class=\"data row10 col4\" >Bombay</td>\n",
              "      <td id=\"T_811b4_row10_col5\" class=\"data row10 col5\" >349870</td>\n",
              "    </tr>\n",
              "    <tr>\n",
              "      <td id=\"T_811b4_row11_col0\" class=\"data row11 col0\" >Rani</td>\n",
              "      <td id=\"T_811b4_row11_col1\" class=\"data row11 col1\" >Mukherjee</td>\n",
              "      <td id=\"T_811b4_row11_col2\" class=\"data row11 col2\" >25000</td>\n",
              "      <td id=\"T_811b4_row11_col3\" class=\"data row11 col3\" >Production</td>\n",
              "      <td id=\"T_811b4_row11_col4\" class=\"data row11 col4\" >Bombay</td>\n",
              "      <td id=\"T_811b4_row11_col5\" class=\"data row11 col5\" >349870</td>\n",
              "    </tr>\n",
              "  </tbody>\n",
              "</table>\n"
            ]
          },
          "metadata": {},
          "execution_count": 50
        }
      ]
    },
    {
      "cell_type": "code",
      "source": [
        "sql = 'select empid, firstname, deptname, location from empl INNER JOIN dept ON empl.deptid = dept.deptid'\n",
        "runSelect(sql)"
      ],
      "metadata": {
        "colab": {
          "base_uri": "https://localhost:8080/",
          "height": 426
        },
        "id": "LVrEArEc1VcF",
        "outputId": "aeb5eaae-e9c0-44c9-839b-9b60a2389274"
      },
      "execution_count": 51,
      "outputs": [
        {
          "output_type": "execute_result",
          "data": {
            "text/plain": [
              "<pandas.io.formats.style.Styler at 0x7981e5442bf0>"
            ],
            "text/html": [
              "<style type=\"text/css\">\n",
              "</style>\n",
              "<table id=\"T_a1ad5\" class=\"dataframe\">\n",
              "  <thead>\n",
              "    <tr>\n",
              "      <th id=\"T_a1ad5_level0_col0\" class=\"col_heading level0 col0\" >empid</th>\n",
              "      <th id=\"T_a1ad5_level0_col1\" class=\"col_heading level0 col1\" >firstname</th>\n",
              "      <th id=\"T_a1ad5_level0_col2\" class=\"col_heading level0 col2\" >deptname</th>\n",
              "      <th id=\"T_a1ad5_level0_col3\" class=\"col_heading level0 col3\" >location</th>\n",
              "    </tr>\n",
              "  </thead>\n",
              "  <tbody>\n",
              "    <tr>\n",
              "      <td id=\"T_a1ad5_row0_col0\" class=\"data row0 col0\" >546223</td>\n",
              "      <td id=\"T_a1ad5_row0_col1\" class=\"data row0 col1\" >Narayan</td>\n",
              "      <td id=\"T_a1ad5_row0_col2\" class=\"data row0 col2\" >Corporate</td>\n",
              "      <td id=\"T_a1ad5_row0_col3\" class=\"data row0 col3\" >Calcutta</td>\n",
              "    </tr>\n",
              "    <tr>\n",
              "      <td id=\"T_a1ad5_row1_col0\" class=\"data row1 col0\" >299034</td>\n",
              "      <td id=\"T_a1ad5_row1_col1\" class=\"data row1 col1\" >Rekha</td>\n",
              "      <td id=\"T_a1ad5_row1_col2\" class=\"data row1 col2\" >Corporate</td>\n",
              "      <td id=\"T_a1ad5_row1_col3\" class=\"data row1 col3\" >Calcutta</td>\n",
              "    </tr>\n",
              "    <tr>\n",
              "      <td id=\"T_a1ad5_row2_col0\" class=\"data row2 col0\" >742866</td>\n",
              "      <td id=\"T_a1ad5_row2_col1\" class=\"data row2 col1\" >Amitabh</td>\n",
              "      <td id=\"T_a1ad5_row2_col2\" class=\"data row2 col2\" >Corporate</td>\n",
              "      <td id=\"T_a1ad5_row2_col3\" class=\"data row2 col3\" >Calcutta</td>\n",
              "    </tr>\n",
              "    <tr>\n",
              "      <td id=\"T_a1ad5_row3_col0\" class=\"data row3 col0\" >897889</td>\n",
              "      <td id=\"T_a1ad5_row3_col1\" class=\"data row3 col1\" >Virender</td>\n",
              "      <td id=\"T_a1ad5_row3_col2\" class=\"data row3 col2\" >Sales</td>\n",
              "      <td id=\"T_a1ad5_row3_col3\" class=\"data row3 col3\" >Calcutta</td>\n",
              "    </tr>\n",
              "    <tr>\n",
              "      <td id=\"T_a1ad5_row4_col0\" class=\"data row4 col0\" >239456</td>\n",
              "      <td id=\"T_a1ad5_row4_col1\" class=\"data row4 col1\" >Shahrukh</td>\n",
              "      <td id=\"T_a1ad5_row4_col2\" class=\"data row4 col2\" >Sales</td>\n",
              "      <td id=\"T_a1ad5_row4_col3\" class=\"data row4 col3\" >Calcutta</td>\n",
              "    </tr>\n",
              "    <tr>\n",
              "      <td id=\"T_a1ad5_row5_col0\" class=\"data row5 col0\" >865477</td>\n",
              "      <td id=\"T_a1ad5_row5_col1\" class=\"data row5 col1\" >Madhuri</td>\n",
              "      <td id=\"T_a1ad5_row5_col2\" class=\"data row5 col2\" >Sales</td>\n",
              "      <td id=\"T_a1ad5_row5_col3\" class=\"data row5 col3\" >Calcutta</td>\n",
              "    </tr>\n",
              "    <tr>\n",
              "      <td id=\"T_a1ad5_row6_col0\" class=\"data row6 col0\" >223112</td>\n",
              "      <td id=\"T_a1ad5_row6_col1\" class=\"data row6 col1\" >Sania</td>\n",
              "      <td id=\"T_a1ad5_row6_col2\" class=\"data row6 col2\" >Accounts</td>\n",
              "      <td id=\"T_a1ad5_row6_col3\" class=\"data row6 col3\" >Calcutta</td>\n",
              "    </tr>\n",
              "    <tr>\n",
              "      <td id=\"T_a1ad5_row7_col0\" class=\"data row7 col0\" >997445</td>\n",
              "      <td id=\"T_a1ad5_row7_col1\" class=\"data row7 col1\" >Jagmohan</td>\n",
              "      <td id=\"T_a1ad5_row7_col2\" class=\"data row7 col2\" >Accounts</td>\n",
              "      <td id=\"T_a1ad5_row7_col3\" class=\"data row7 col3\" >Calcutta</td>\n",
              "    </tr>\n",
              "    <tr>\n",
              "      <td id=\"T_a1ad5_row8_col0\" class=\"data row8 col0\" >822134</td>\n",
              "      <td id=\"T_a1ad5_row8_col1\" class=\"data row8 col1\" >Rahul</td>\n",
              "      <td id=\"T_a1ad5_row8_col2\" class=\"data row8 col2\" >Accounts</td>\n",
              "      <td id=\"T_a1ad5_row8_col3\" class=\"data row8 col3\" >Calcutta</td>\n",
              "    </tr>\n",
              "    <tr>\n",
              "      <td id=\"T_a1ad5_row9_col0\" class=\"data row9 col0\" >989007</td>\n",
              "      <td id=\"T_a1ad5_row9_col1\" class=\"data row9 col1\" >Sourav</td>\n",
              "      <td id=\"T_a1ad5_row9_col2\" class=\"data row9 col2\" >Production</td>\n",
              "      <td id=\"T_a1ad5_row9_col3\" class=\"data row9 col3\" >Bombay</td>\n",
              "    </tr>\n",
              "    <tr>\n",
              "      <td id=\"T_a1ad5_row10_col0\" class=\"data row10 col0\" >123980</td>\n",
              "      <td id=\"T_a1ad5_row10_col1\" class=\"data row10 col1\" >Mahender</td>\n",
              "      <td id=\"T_a1ad5_row10_col2\" class=\"data row10 col2\" >Production</td>\n",
              "      <td id=\"T_a1ad5_row10_col3\" class=\"data row10 col3\" >Bombay</td>\n",
              "    </tr>\n",
              "    <tr>\n",
              "      <td id=\"T_a1ad5_row11_col0\" class=\"data row11 col0\" >349870</td>\n",
              "      <td id=\"T_a1ad5_row11_col1\" class=\"data row11 col1\" >Rani</td>\n",
              "      <td id=\"T_a1ad5_row11_col2\" class=\"data row11 col2\" >Production</td>\n",
              "      <td id=\"T_a1ad5_row11_col3\" class=\"data row11 col3\" >Bombay</td>\n",
              "    </tr>\n",
              "  </tbody>\n",
              "</table>\n"
            ]
          },
          "metadata": {},
          "execution_count": 51
        }
      ]
    },
    {
      "cell_type": "code",
      "source": [
        "sql = 'select deptname,round(sum(salary),0) payroll from empl INNER JOIN dept ON empl.deptid = dept.deptid \\\n",
        "group by deptname'\n",
        "runSelect(sql)"
      ],
      "metadata": {
        "id": "pKk82QRi28DP",
        "outputId": "a413965b-e4ef-4771-8307-a5961af37f58",
        "colab": {
          "base_uri": "https://localhost:8080/",
          "height": 175
        }
      },
      "execution_count": 52,
      "outputs": [
        {
          "output_type": "execute_result",
          "data": {
            "text/plain": [
              "<pandas.io.formats.style.Styler at 0x7981e5623280>"
            ],
            "text/html": [
              "<style type=\"text/css\">\n",
              "</style>\n",
              "<table id=\"T_94711\" class=\"dataframe\">\n",
              "  <thead>\n",
              "    <tr>\n",
              "      <th id=\"T_94711_level0_col0\" class=\"col_heading level0 col0\" >deptname</th>\n",
              "      <th id=\"T_94711_level0_col1\" class=\"col_heading level0 col1\" >payroll</th>\n",
              "    </tr>\n",
              "  </thead>\n",
              "  <tbody>\n",
              "    <tr>\n",
              "      <td id=\"T_94711_row0_col0\" class=\"data row0 col0\" >Corporate</td>\n",
              "      <td id=\"T_94711_row0_col1\" class=\"data row0 col1\" >150000</td>\n",
              "    </tr>\n",
              "    <tr>\n",
              "      <td id=\"T_94711_row1_col0\" class=\"data row1 col0\" >Accounts</td>\n",
              "      <td id=\"T_94711_row1_col1\" class=\"data row1 col1\" >77000</td>\n",
              "    </tr>\n",
              "    <tr>\n",
              "      <td id=\"T_94711_row2_col0\" class=\"data row2 col0\" >Sales</td>\n",
              "      <td id=\"T_94711_row2_col1\" class=\"data row2 col1\" >55000</td>\n",
              "    </tr>\n",
              "    <tr>\n",
              "      <td id=\"T_94711_row3_col0\" class=\"data row3 col0\" >Production</td>\n",
              "      <td id=\"T_94711_row3_col1\" class=\"data row3 col1\" >54000</td>\n",
              "    </tr>\n",
              "  </tbody>\n",
              "</table>\n"
            ]
          },
          "metadata": {},
          "execution_count": 52
        }
      ]
    },
    {
      "cell_type": "markdown",
      "source": [
        "## Outer Join"
      ],
      "metadata": {
        "id": "tK9uJHAL1u6x"
      }
    },
    {
      "cell_type": "markdown",
      "source": [
        "### Left Outer"
      ],
      "metadata": {
        "id": "5wGFVhyJ2x8S"
      }
    },
    {
      "cell_type": "code",
      "source": [
        "sql = 'select empid, firstname, deptname, location from empl LEFT JOIN dept ON empl.deptid = dept.deptid'\n",
        "runSelect(sql)"
      ],
      "metadata": {
        "colab": {
          "base_uri": "https://localhost:8080/",
          "height": 457
        },
        "id": "Ls6VfOXt1zTq",
        "outputId": "73e3dd54-176a-4d2e-d657-9fd238a2881f"
      },
      "execution_count": 53,
      "outputs": [
        {
          "output_type": "execute_result",
          "data": {
            "text/plain": [
              "<pandas.io.formats.style.Styler at 0x7981e54b9b40>"
            ],
            "text/html": [
              "<style type=\"text/css\">\n",
              "</style>\n",
              "<table id=\"T_b4611\" class=\"dataframe\">\n",
              "  <thead>\n",
              "    <tr>\n",
              "      <th id=\"T_b4611_level0_col0\" class=\"col_heading level0 col0\" >empid</th>\n",
              "      <th id=\"T_b4611_level0_col1\" class=\"col_heading level0 col1\" >firstname</th>\n",
              "      <th id=\"T_b4611_level0_col2\" class=\"col_heading level0 col2\" >deptname</th>\n",
              "      <th id=\"T_b4611_level0_col3\" class=\"col_heading level0 col3\" >location</th>\n",
              "    </tr>\n",
              "  </thead>\n",
              "  <tbody>\n",
              "    <tr>\n",
              "      <td id=\"T_b4611_row0_col0\" class=\"data row0 col0\" >546223</td>\n",
              "      <td id=\"T_b4611_row0_col1\" class=\"data row0 col1\" >Narayan</td>\n",
              "      <td id=\"T_b4611_row0_col2\" class=\"data row0 col2\" >Corporate</td>\n",
              "      <td id=\"T_b4611_row0_col3\" class=\"data row0 col3\" >Calcutta</td>\n",
              "    </tr>\n",
              "    <tr>\n",
              "      <td id=\"T_b4611_row1_col0\" class=\"data row1 col0\" >299034</td>\n",
              "      <td id=\"T_b4611_row1_col1\" class=\"data row1 col1\" >Rekha</td>\n",
              "      <td id=\"T_b4611_row1_col2\" class=\"data row1 col2\" >Corporate</td>\n",
              "      <td id=\"T_b4611_row1_col3\" class=\"data row1 col3\" >Calcutta</td>\n",
              "    </tr>\n",
              "    <tr>\n",
              "      <td id=\"T_b4611_row2_col0\" class=\"data row2 col0\" >742866</td>\n",
              "      <td id=\"T_b4611_row2_col1\" class=\"data row2 col1\" >Amitabh</td>\n",
              "      <td id=\"T_b4611_row2_col2\" class=\"data row2 col2\" >Corporate</td>\n",
              "      <td id=\"T_b4611_row2_col3\" class=\"data row2 col3\" >Calcutta</td>\n",
              "    </tr>\n",
              "    <tr>\n",
              "      <td id=\"T_b4611_row3_col0\" class=\"data row3 col0\" >897889</td>\n",
              "      <td id=\"T_b4611_row3_col1\" class=\"data row3 col1\" >Virender</td>\n",
              "      <td id=\"T_b4611_row3_col2\" class=\"data row3 col2\" >Sales</td>\n",
              "      <td id=\"T_b4611_row3_col3\" class=\"data row3 col3\" >Calcutta</td>\n",
              "    </tr>\n",
              "    <tr>\n",
              "      <td id=\"T_b4611_row4_col0\" class=\"data row4 col0\" >239456</td>\n",
              "      <td id=\"T_b4611_row4_col1\" class=\"data row4 col1\" >Shahrukh</td>\n",
              "      <td id=\"T_b4611_row4_col2\" class=\"data row4 col2\" >Sales</td>\n",
              "      <td id=\"T_b4611_row4_col3\" class=\"data row4 col3\" >Calcutta</td>\n",
              "    </tr>\n",
              "    <tr>\n",
              "      <td id=\"T_b4611_row5_col0\" class=\"data row5 col0\" >865477</td>\n",
              "      <td id=\"T_b4611_row5_col1\" class=\"data row5 col1\" >Madhuri</td>\n",
              "      <td id=\"T_b4611_row5_col2\" class=\"data row5 col2\" >Sales</td>\n",
              "      <td id=\"T_b4611_row5_col3\" class=\"data row5 col3\" >Calcutta</td>\n",
              "    </tr>\n",
              "    <tr>\n",
              "      <td id=\"T_b4611_row6_col0\" class=\"data row6 col0\" >223112</td>\n",
              "      <td id=\"T_b4611_row6_col1\" class=\"data row6 col1\" >Sania</td>\n",
              "      <td id=\"T_b4611_row6_col2\" class=\"data row6 col2\" >Accounts</td>\n",
              "      <td id=\"T_b4611_row6_col3\" class=\"data row6 col3\" >Calcutta</td>\n",
              "    </tr>\n",
              "    <tr>\n",
              "      <td id=\"T_b4611_row7_col0\" class=\"data row7 col0\" >997445</td>\n",
              "      <td id=\"T_b4611_row7_col1\" class=\"data row7 col1\" >Jagmohan</td>\n",
              "      <td id=\"T_b4611_row7_col2\" class=\"data row7 col2\" >Accounts</td>\n",
              "      <td id=\"T_b4611_row7_col3\" class=\"data row7 col3\" >Calcutta</td>\n",
              "    </tr>\n",
              "    <tr>\n",
              "      <td id=\"T_b4611_row8_col0\" class=\"data row8 col0\" >822134</td>\n",
              "      <td id=\"T_b4611_row8_col1\" class=\"data row8 col1\" >Rahul</td>\n",
              "      <td id=\"T_b4611_row8_col2\" class=\"data row8 col2\" >Accounts</td>\n",
              "      <td id=\"T_b4611_row8_col3\" class=\"data row8 col3\" >Calcutta</td>\n",
              "    </tr>\n",
              "    <tr>\n",
              "      <td id=\"T_b4611_row9_col0\" class=\"data row9 col0\" >989007</td>\n",
              "      <td id=\"T_b4611_row9_col1\" class=\"data row9 col1\" >Sourav</td>\n",
              "      <td id=\"T_b4611_row9_col2\" class=\"data row9 col2\" >Production</td>\n",
              "      <td id=\"T_b4611_row9_col3\" class=\"data row9 col3\" >Bombay</td>\n",
              "    </tr>\n",
              "    <tr>\n",
              "      <td id=\"T_b4611_row10_col0\" class=\"data row10 col0\" >123980</td>\n",
              "      <td id=\"T_b4611_row10_col1\" class=\"data row10 col1\" >Mahender</td>\n",
              "      <td id=\"T_b4611_row10_col2\" class=\"data row10 col2\" >Production</td>\n",
              "      <td id=\"T_b4611_row10_col3\" class=\"data row10 col3\" >Bombay</td>\n",
              "    </tr>\n",
              "    <tr>\n",
              "      <td id=\"T_b4611_row11_col0\" class=\"data row11 col0\" >349870</td>\n",
              "      <td id=\"T_b4611_row11_col1\" class=\"data row11 col1\" >Rani</td>\n",
              "      <td id=\"T_b4611_row11_col2\" class=\"data row11 col2\" >Production</td>\n",
              "      <td id=\"T_b4611_row11_col3\" class=\"data row11 col3\" >Bombay</td>\n",
              "    </tr>\n",
              "    <tr>\n",
              "      <td id=\"T_b4611_row12_col0\" class=\"data row12 col0\" >546224</td>\n",
              "      <td id=\"T_b4611_row12_col1\" class=\"data row12 col1\" >Chettri</td>\n",
              "      <td id=\"T_b4611_row12_col2\" class=\"data row12 col2\" >None</td>\n",
              "      <td id=\"T_b4611_row12_col3\" class=\"data row12 col3\" >None</td>\n",
              "    </tr>\n",
              "  </tbody>\n",
              "</table>\n"
            ]
          },
          "metadata": {},
          "execution_count": 53
        }
      ]
    },
    {
      "cell_type": "markdown",
      "source": [
        "### Right Outer"
      ],
      "metadata": {
        "id": "iJ6DASb121Og"
      }
    },
    {
      "cell_type": "code",
      "source": [
        "sql = 'select empid, firstname, deptname, location from empl RIGHT JOIN dept ON empl.deptid = dept.deptid'\n",
        "runSelect(sql)"
      ],
      "metadata": {
        "colab": {
          "base_uri": "https://localhost:8080/",
          "height": 457
        },
        "id": "khvQpQ4E2XND",
        "outputId": "db8069bc-b639-4414-f566-1d54e6cd35b8"
      },
      "execution_count": 54,
      "outputs": [
        {
          "output_type": "execute_result",
          "data": {
            "text/plain": [
              "<pandas.io.formats.style.Styler at 0x7981e54ba4d0>"
            ],
            "text/html": [
              "<style type=\"text/css\">\n",
              "</style>\n",
              "<table id=\"T_081ac\" class=\"dataframe\">\n",
              "  <thead>\n",
              "    <tr>\n",
              "      <th id=\"T_081ac_level0_col0\" class=\"col_heading level0 col0\" >empid</th>\n",
              "      <th id=\"T_081ac_level0_col1\" class=\"col_heading level0 col1\" >firstname</th>\n",
              "      <th id=\"T_081ac_level0_col2\" class=\"col_heading level0 col2\" >deptname</th>\n",
              "      <th id=\"T_081ac_level0_col3\" class=\"col_heading level0 col3\" >location</th>\n",
              "    </tr>\n",
              "  </thead>\n",
              "  <tbody>\n",
              "    <tr>\n",
              "      <td id=\"T_081ac_row0_col0\" class=\"data row0 col0\" >546223</td>\n",
              "      <td id=\"T_081ac_row0_col1\" class=\"data row0 col1\" >Narayan</td>\n",
              "      <td id=\"T_081ac_row0_col2\" class=\"data row0 col2\" >Corporate</td>\n",
              "      <td id=\"T_081ac_row0_col3\" class=\"data row0 col3\" >Calcutta</td>\n",
              "    </tr>\n",
              "    <tr>\n",
              "      <td id=\"T_081ac_row1_col0\" class=\"data row1 col0\" >299034</td>\n",
              "      <td id=\"T_081ac_row1_col1\" class=\"data row1 col1\" >Rekha</td>\n",
              "      <td id=\"T_081ac_row1_col2\" class=\"data row1 col2\" >Corporate</td>\n",
              "      <td id=\"T_081ac_row1_col3\" class=\"data row1 col3\" >Calcutta</td>\n",
              "    </tr>\n",
              "    <tr>\n",
              "      <td id=\"T_081ac_row2_col0\" class=\"data row2 col0\" >742866</td>\n",
              "      <td id=\"T_081ac_row2_col1\" class=\"data row2 col1\" >Amitabh</td>\n",
              "      <td id=\"T_081ac_row2_col2\" class=\"data row2 col2\" >Corporate</td>\n",
              "      <td id=\"T_081ac_row2_col3\" class=\"data row2 col3\" >Calcutta</td>\n",
              "    </tr>\n",
              "    <tr>\n",
              "      <td id=\"T_081ac_row3_col0\" class=\"data row3 col0\" >897889</td>\n",
              "      <td id=\"T_081ac_row3_col1\" class=\"data row3 col1\" >Virender</td>\n",
              "      <td id=\"T_081ac_row3_col2\" class=\"data row3 col2\" >Sales</td>\n",
              "      <td id=\"T_081ac_row3_col3\" class=\"data row3 col3\" >Calcutta</td>\n",
              "    </tr>\n",
              "    <tr>\n",
              "      <td id=\"T_081ac_row4_col0\" class=\"data row4 col0\" >239456</td>\n",
              "      <td id=\"T_081ac_row4_col1\" class=\"data row4 col1\" >Shahrukh</td>\n",
              "      <td id=\"T_081ac_row4_col2\" class=\"data row4 col2\" >Sales</td>\n",
              "      <td id=\"T_081ac_row4_col3\" class=\"data row4 col3\" >Calcutta</td>\n",
              "    </tr>\n",
              "    <tr>\n",
              "      <td id=\"T_081ac_row5_col0\" class=\"data row5 col0\" >865477</td>\n",
              "      <td id=\"T_081ac_row5_col1\" class=\"data row5 col1\" >Madhuri</td>\n",
              "      <td id=\"T_081ac_row5_col2\" class=\"data row5 col2\" >Sales</td>\n",
              "      <td id=\"T_081ac_row5_col3\" class=\"data row5 col3\" >Calcutta</td>\n",
              "    </tr>\n",
              "    <tr>\n",
              "      <td id=\"T_081ac_row6_col0\" class=\"data row6 col0\" >223112</td>\n",
              "      <td id=\"T_081ac_row6_col1\" class=\"data row6 col1\" >Sania</td>\n",
              "      <td id=\"T_081ac_row6_col2\" class=\"data row6 col2\" >Accounts</td>\n",
              "      <td id=\"T_081ac_row6_col3\" class=\"data row6 col3\" >Calcutta</td>\n",
              "    </tr>\n",
              "    <tr>\n",
              "      <td id=\"T_081ac_row7_col0\" class=\"data row7 col0\" >997445</td>\n",
              "      <td id=\"T_081ac_row7_col1\" class=\"data row7 col1\" >Jagmohan</td>\n",
              "      <td id=\"T_081ac_row7_col2\" class=\"data row7 col2\" >Accounts</td>\n",
              "      <td id=\"T_081ac_row7_col3\" class=\"data row7 col3\" >Calcutta</td>\n",
              "    </tr>\n",
              "    <tr>\n",
              "      <td id=\"T_081ac_row8_col0\" class=\"data row8 col0\" >822134</td>\n",
              "      <td id=\"T_081ac_row8_col1\" class=\"data row8 col1\" >Rahul</td>\n",
              "      <td id=\"T_081ac_row8_col2\" class=\"data row8 col2\" >Accounts</td>\n",
              "      <td id=\"T_081ac_row8_col3\" class=\"data row8 col3\" >Calcutta</td>\n",
              "    </tr>\n",
              "    <tr>\n",
              "      <td id=\"T_081ac_row9_col0\" class=\"data row9 col0\" >989007</td>\n",
              "      <td id=\"T_081ac_row9_col1\" class=\"data row9 col1\" >Sourav</td>\n",
              "      <td id=\"T_081ac_row9_col2\" class=\"data row9 col2\" >Production</td>\n",
              "      <td id=\"T_081ac_row9_col3\" class=\"data row9 col3\" >Bombay</td>\n",
              "    </tr>\n",
              "    <tr>\n",
              "      <td id=\"T_081ac_row10_col0\" class=\"data row10 col0\" >123980</td>\n",
              "      <td id=\"T_081ac_row10_col1\" class=\"data row10 col1\" >Mahender</td>\n",
              "      <td id=\"T_081ac_row10_col2\" class=\"data row10 col2\" >Production</td>\n",
              "      <td id=\"T_081ac_row10_col3\" class=\"data row10 col3\" >Bombay</td>\n",
              "    </tr>\n",
              "    <tr>\n",
              "      <td id=\"T_081ac_row11_col0\" class=\"data row11 col0\" >349870</td>\n",
              "      <td id=\"T_081ac_row11_col1\" class=\"data row11 col1\" >Rani</td>\n",
              "      <td id=\"T_081ac_row11_col2\" class=\"data row11 col2\" >Production</td>\n",
              "      <td id=\"T_081ac_row11_col3\" class=\"data row11 col3\" >Bombay</td>\n",
              "    </tr>\n",
              "    <tr>\n",
              "      <td id=\"T_081ac_row12_col0\" class=\"data row12 col0\" >None</td>\n",
              "      <td id=\"T_081ac_row12_col1\" class=\"data row12 col1\" >None</td>\n",
              "      <td id=\"T_081ac_row12_col2\" class=\"data row12 col2\" >Research</td>\n",
              "      <td id=\"T_081ac_row12_col3\" class=\"data row12 col3\" >Delhi</td>\n",
              "    </tr>\n",
              "  </tbody>\n",
              "</table>\n"
            ]
          },
          "metadata": {},
          "execution_count": 54
        }
      ]
    },
    {
      "cell_type": "markdown",
      "source": [
        "### Full Outer"
      ],
      "metadata": {
        "id": "RsEyhBBp24zy"
      }
    },
    {
      "cell_type": "code",
      "source": [
        "sql = 'select empid, firstname, deptname, location from empl FULL JOIN dept ON empl.deptid = dept.deptid'\n",
        "runSelect(sql)"
      ],
      "metadata": {
        "colab": {
          "base_uri": "https://localhost:8080/",
          "height": 488
        },
        "id": "Ipt14U9o2qFg",
        "outputId": "c4e73fe1-ac8a-4d30-d048-f97c67154e71"
      },
      "execution_count": 55,
      "outputs": [
        {
          "output_type": "execute_result",
          "data": {
            "text/plain": [
              "<pandas.io.formats.style.Styler at 0x7981e54b98a0>"
            ],
            "text/html": [
              "<style type=\"text/css\">\n",
              "</style>\n",
              "<table id=\"T_5486a\" class=\"dataframe\">\n",
              "  <thead>\n",
              "    <tr>\n",
              "      <th id=\"T_5486a_level0_col0\" class=\"col_heading level0 col0\" >empid</th>\n",
              "      <th id=\"T_5486a_level0_col1\" class=\"col_heading level0 col1\" >firstname</th>\n",
              "      <th id=\"T_5486a_level0_col2\" class=\"col_heading level0 col2\" >deptname</th>\n",
              "      <th id=\"T_5486a_level0_col3\" class=\"col_heading level0 col3\" >location</th>\n",
              "    </tr>\n",
              "  </thead>\n",
              "  <tbody>\n",
              "    <tr>\n",
              "      <td id=\"T_5486a_row0_col0\" class=\"data row0 col0\" >546223</td>\n",
              "      <td id=\"T_5486a_row0_col1\" class=\"data row0 col1\" >Narayan</td>\n",
              "      <td id=\"T_5486a_row0_col2\" class=\"data row0 col2\" >Corporate</td>\n",
              "      <td id=\"T_5486a_row0_col3\" class=\"data row0 col3\" >Calcutta</td>\n",
              "    </tr>\n",
              "    <tr>\n",
              "      <td id=\"T_5486a_row1_col0\" class=\"data row1 col0\" >299034</td>\n",
              "      <td id=\"T_5486a_row1_col1\" class=\"data row1 col1\" >Rekha</td>\n",
              "      <td id=\"T_5486a_row1_col2\" class=\"data row1 col2\" >Corporate</td>\n",
              "      <td id=\"T_5486a_row1_col3\" class=\"data row1 col3\" >Calcutta</td>\n",
              "    </tr>\n",
              "    <tr>\n",
              "      <td id=\"T_5486a_row2_col0\" class=\"data row2 col0\" >742866</td>\n",
              "      <td id=\"T_5486a_row2_col1\" class=\"data row2 col1\" >Amitabh</td>\n",
              "      <td id=\"T_5486a_row2_col2\" class=\"data row2 col2\" >Corporate</td>\n",
              "      <td id=\"T_5486a_row2_col3\" class=\"data row2 col3\" >Calcutta</td>\n",
              "    </tr>\n",
              "    <tr>\n",
              "      <td id=\"T_5486a_row3_col0\" class=\"data row3 col0\" >897889</td>\n",
              "      <td id=\"T_5486a_row3_col1\" class=\"data row3 col1\" >Virender</td>\n",
              "      <td id=\"T_5486a_row3_col2\" class=\"data row3 col2\" >Sales</td>\n",
              "      <td id=\"T_5486a_row3_col3\" class=\"data row3 col3\" >Calcutta</td>\n",
              "    </tr>\n",
              "    <tr>\n",
              "      <td id=\"T_5486a_row4_col0\" class=\"data row4 col0\" >239456</td>\n",
              "      <td id=\"T_5486a_row4_col1\" class=\"data row4 col1\" >Shahrukh</td>\n",
              "      <td id=\"T_5486a_row4_col2\" class=\"data row4 col2\" >Sales</td>\n",
              "      <td id=\"T_5486a_row4_col3\" class=\"data row4 col3\" >Calcutta</td>\n",
              "    </tr>\n",
              "    <tr>\n",
              "      <td id=\"T_5486a_row5_col0\" class=\"data row5 col0\" >865477</td>\n",
              "      <td id=\"T_5486a_row5_col1\" class=\"data row5 col1\" >Madhuri</td>\n",
              "      <td id=\"T_5486a_row5_col2\" class=\"data row5 col2\" >Sales</td>\n",
              "      <td id=\"T_5486a_row5_col3\" class=\"data row5 col3\" >Calcutta</td>\n",
              "    </tr>\n",
              "    <tr>\n",
              "      <td id=\"T_5486a_row6_col0\" class=\"data row6 col0\" >223112</td>\n",
              "      <td id=\"T_5486a_row6_col1\" class=\"data row6 col1\" >Sania</td>\n",
              "      <td id=\"T_5486a_row6_col2\" class=\"data row6 col2\" >Accounts</td>\n",
              "      <td id=\"T_5486a_row6_col3\" class=\"data row6 col3\" >Calcutta</td>\n",
              "    </tr>\n",
              "    <tr>\n",
              "      <td id=\"T_5486a_row7_col0\" class=\"data row7 col0\" >997445</td>\n",
              "      <td id=\"T_5486a_row7_col1\" class=\"data row7 col1\" >Jagmohan</td>\n",
              "      <td id=\"T_5486a_row7_col2\" class=\"data row7 col2\" >Accounts</td>\n",
              "      <td id=\"T_5486a_row7_col3\" class=\"data row7 col3\" >Calcutta</td>\n",
              "    </tr>\n",
              "    <tr>\n",
              "      <td id=\"T_5486a_row8_col0\" class=\"data row8 col0\" >822134</td>\n",
              "      <td id=\"T_5486a_row8_col1\" class=\"data row8 col1\" >Rahul</td>\n",
              "      <td id=\"T_5486a_row8_col2\" class=\"data row8 col2\" >Accounts</td>\n",
              "      <td id=\"T_5486a_row8_col3\" class=\"data row8 col3\" >Calcutta</td>\n",
              "    </tr>\n",
              "    <tr>\n",
              "      <td id=\"T_5486a_row9_col0\" class=\"data row9 col0\" >989007</td>\n",
              "      <td id=\"T_5486a_row9_col1\" class=\"data row9 col1\" >Sourav</td>\n",
              "      <td id=\"T_5486a_row9_col2\" class=\"data row9 col2\" >Production</td>\n",
              "      <td id=\"T_5486a_row9_col3\" class=\"data row9 col3\" >Bombay</td>\n",
              "    </tr>\n",
              "    <tr>\n",
              "      <td id=\"T_5486a_row10_col0\" class=\"data row10 col0\" >123980</td>\n",
              "      <td id=\"T_5486a_row10_col1\" class=\"data row10 col1\" >Mahender</td>\n",
              "      <td id=\"T_5486a_row10_col2\" class=\"data row10 col2\" >Production</td>\n",
              "      <td id=\"T_5486a_row10_col3\" class=\"data row10 col3\" >Bombay</td>\n",
              "    </tr>\n",
              "    <tr>\n",
              "      <td id=\"T_5486a_row11_col0\" class=\"data row11 col0\" >349870</td>\n",
              "      <td id=\"T_5486a_row11_col1\" class=\"data row11 col1\" >Rani</td>\n",
              "      <td id=\"T_5486a_row11_col2\" class=\"data row11 col2\" >Production</td>\n",
              "      <td id=\"T_5486a_row11_col3\" class=\"data row11 col3\" >Bombay</td>\n",
              "    </tr>\n",
              "    <tr>\n",
              "      <td id=\"T_5486a_row12_col0\" class=\"data row12 col0\" >None</td>\n",
              "      <td id=\"T_5486a_row12_col1\" class=\"data row12 col1\" >None</td>\n",
              "      <td id=\"T_5486a_row12_col2\" class=\"data row12 col2\" >Research</td>\n",
              "      <td id=\"T_5486a_row12_col3\" class=\"data row12 col3\" >Delhi</td>\n",
              "    </tr>\n",
              "    <tr>\n",
              "      <td id=\"T_5486a_row13_col0\" class=\"data row13 col0\" >546224</td>\n",
              "      <td id=\"T_5486a_row13_col1\" class=\"data row13 col1\" >Chettri</td>\n",
              "      <td id=\"T_5486a_row13_col2\" class=\"data row13 col2\" >None</td>\n",
              "      <td id=\"T_5486a_row13_col3\" class=\"data row13 col3\" >None</td>\n",
              "    </tr>\n",
              "  </tbody>\n",
              "</table>\n"
            ]
          },
          "metadata": {},
          "execution_count": 55
        }
      ]
    },
    {
      "cell_type": "code",
      "source": [
        "sql = 'select deptname,round(sum(salary),0) payroll from empl FULL JOIN dept ON empl.deptid = dept.deptid \\\n",
        "group by deptname'\n",
        "runSelect(sql)"
      ],
      "metadata": {
        "id": "EAI2kiYP3p9O",
        "outputId": "7c305720-cbd6-448b-b41a-5fe558249f97",
        "colab": {
          "base_uri": "https://localhost:8080/",
          "height": 238
        }
      },
      "execution_count": 56,
      "outputs": [
        {
          "output_type": "execute_result",
          "data": {
            "text/plain": [
              "<pandas.io.formats.style.Styler at 0x7981e54b9660>"
            ],
            "text/html": [
              "<style type=\"text/css\">\n",
              "</style>\n",
              "<table id=\"T_207cc\" class=\"dataframe\">\n",
              "  <thead>\n",
              "    <tr>\n",
              "      <th id=\"T_207cc_level0_col0\" class=\"col_heading level0 col0\" >deptname</th>\n",
              "      <th id=\"T_207cc_level0_col1\" class=\"col_heading level0 col1\" >payroll</th>\n",
              "    </tr>\n",
              "  </thead>\n",
              "  <tbody>\n",
              "    <tr>\n",
              "      <td id=\"T_207cc_row0_col0\" class=\"data row0 col0\" >None</td>\n",
              "      <td id=\"T_207cc_row0_col1\" class=\"data row0 col1\" >40000</td>\n",
              "    </tr>\n",
              "    <tr>\n",
              "      <td id=\"T_207cc_row1_col0\" class=\"data row1 col0\" >Research</td>\n",
              "      <td id=\"T_207cc_row1_col1\" class=\"data row1 col1\" >None</td>\n",
              "    </tr>\n",
              "    <tr>\n",
              "      <td id=\"T_207cc_row2_col0\" class=\"data row2 col0\" >Corporate</td>\n",
              "      <td id=\"T_207cc_row2_col1\" class=\"data row2 col1\" >150000</td>\n",
              "    </tr>\n",
              "    <tr>\n",
              "      <td id=\"T_207cc_row3_col0\" class=\"data row3 col0\" >Accounts</td>\n",
              "      <td id=\"T_207cc_row3_col1\" class=\"data row3 col1\" >77000</td>\n",
              "    </tr>\n",
              "    <tr>\n",
              "      <td id=\"T_207cc_row4_col0\" class=\"data row4 col0\" >Sales</td>\n",
              "      <td id=\"T_207cc_row4_col1\" class=\"data row4 col1\" >55000</td>\n",
              "    </tr>\n",
              "    <tr>\n",
              "      <td id=\"T_207cc_row5_col0\" class=\"data row5 col0\" >Production</td>\n",
              "      <td id=\"T_207cc_row5_col1\" class=\"data row5 col1\" >54000</td>\n",
              "    </tr>\n",
              "  </tbody>\n",
              "</table>\n"
            ]
          },
          "metadata": {},
          "execution_count": 56
        }
      ]
    },
    {
      "cell_type": "markdown",
      "source": [
        "## Recursive Joins"
      ],
      "metadata": {
        "id": "6nm2xAfn6pIV"
      }
    },
    {
      "cell_type": "markdown",
      "source": [
        "### Three Tables"
      ],
      "metadata": {
        "id": "A1KCGwwyB02z"
      }
    },
    {
      "cell_type": "code",
      "source": [
        "cmd = \"select w.lastname , w.deptID, '>' linksTo  , d.deptID ,d.managerID,'<' linksTo, m.empID, m.lastname \\\n",
        "        from Empl w, Dept d, Empl m \\\n",
        "        where w.deptID = d.deptID   \\\n",
        "        and d.managerID = m.empID \\\n",
        "    \"\n",
        "runSelect(cmd)"
      ],
      "metadata": {
        "colab": {
          "base_uri": "https://localhost:8080/",
          "height": 426
        },
        "id": "W17nS5R7AL0J",
        "outputId": "5b8c52c5-e193-416f-a735-c0acff0c6107"
      },
      "execution_count": 57,
      "outputs": [
        {
          "output_type": "execute_result",
          "data": {
            "text/plain": [
              "<pandas.io.formats.style.Styler at 0x7981e54bb550>"
            ],
            "text/html": [
              "<style type=\"text/css\">\n",
              "</style>\n",
              "<table id=\"T_7d5ea\" class=\"dataframe\">\n",
              "  <thead>\n",
              "    <tr>\n",
              "      <th id=\"T_7d5ea_level0_col0\" class=\"col_heading level0 col0\" >lastname</th>\n",
              "      <th id=\"T_7d5ea_level0_col1\" class=\"col_heading level0 col1\" >deptid</th>\n",
              "      <th id=\"T_7d5ea_level0_col2\" class=\"col_heading level0 col2\" >linksto</th>\n",
              "      <th id=\"T_7d5ea_level0_col3\" class=\"col_heading level0 col3\" >deptid</th>\n",
              "      <th id=\"T_7d5ea_level0_col4\" class=\"col_heading level0 col4\" >managerid</th>\n",
              "      <th id=\"T_7d5ea_level0_col5\" class=\"col_heading level0 col5\" >linksto</th>\n",
              "      <th id=\"T_7d5ea_level0_col6\" class=\"col_heading level0 col6\" >empid</th>\n",
              "      <th id=\"T_7d5ea_level0_col7\" class=\"col_heading level0 col7\" >lastname</th>\n",
              "    </tr>\n",
              "  </thead>\n",
              "  <tbody>\n",
              "    <tr>\n",
              "      <td id=\"T_7d5ea_row0_col0\" class=\"data row0 col0\" >Karthikeyan</td>\n",
              "      <td id=\"T_7d5ea_row0_col1\" class=\"data row0 col1\" >10</td>\n",
              "      <td id=\"T_7d5ea_row0_col2\" class=\"data row0 col2\" >></td>\n",
              "      <td id=\"T_7d5ea_row0_col3\" class=\"data row0 col3\" >10</td>\n",
              "      <td id=\"T_7d5ea_row0_col4\" class=\"data row0 col4\" >299034</td>\n",
              "      <td id=\"T_7d5ea_row0_col5\" class=\"data row0 col5\" ><</td>\n",
              "      <td id=\"T_7d5ea_row0_col6\" class=\"data row0 col6\" >299034</td>\n",
              "      <td id=\"T_7d5ea_row0_col7\" class=\"data row0 col7\" >Ganesan</td>\n",
              "    </tr>\n",
              "    <tr>\n",
              "      <td id=\"T_7d5ea_row1_col0\" class=\"data row1 col0\" >Ganesan</td>\n",
              "      <td id=\"T_7d5ea_row1_col1\" class=\"data row1 col1\" >10</td>\n",
              "      <td id=\"T_7d5ea_row1_col2\" class=\"data row1 col2\" >></td>\n",
              "      <td id=\"T_7d5ea_row1_col3\" class=\"data row1 col3\" >10</td>\n",
              "      <td id=\"T_7d5ea_row1_col4\" class=\"data row1 col4\" >299034</td>\n",
              "      <td id=\"T_7d5ea_row1_col5\" class=\"data row1 col5\" ><</td>\n",
              "      <td id=\"T_7d5ea_row1_col6\" class=\"data row1 col6\" >299034</td>\n",
              "      <td id=\"T_7d5ea_row1_col7\" class=\"data row1 col7\" >Ganesan</td>\n",
              "    </tr>\n",
              "    <tr>\n",
              "      <td id=\"T_7d5ea_row2_col0\" class=\"data row2 col0\" >Bacchan</td>\n",
              "      <td id=\"T_7d5ea_row2_col1\" class=\"data row2 col1\" >10</td>\n",
              "      <td id=\"T_7d5ea_row2_col2\" class=\"data row2 col2\" >></td>\n",
              "      <td id=\"T_7d5ea_row2_col3\" class=\"data row2 col3\" >10</td>\n",
              "      <td id=\"T_7d5ea_row2_col4\" class=\"data row2 col4\" >299034</td>\n",
              "      <td id=\"T_7d5ea_row2_col5\" class=\"data row2 col5\" ><</td>\n",
              "      <td id=\"T_7d5ea_row2_col6\" class=\"data row2 col6\" >299034</td>\n",
              "      <td id=\"T_7d5ea_row2_col7\" class=\"data row2 col7\" >Ganesan</td>\n",
              "    </tr>\n",
              "    <tr>\n",
              "      <td id=\"T_7d5ea_row3_col0\" class=\"data row3 col0\" >Sehwag</td>\n",
              "      <td id=\"T_7d5ea_row3_col1\" class=\"data row3 col1\" >20</td>\n",
              "      <td id=\"T_7d5ea_row3_col2\" class=\"data row3 col2\" >></td>\n",
              "      <td id=\"T_7d5ea_row3_col3\" class=\"data row3 col3\" >20</td>\n",
              "      <td id=\"T_7d5ea_row3_col4\" class=\"data row3 col4\" >239456</td>\n",
              "      <td id=\"T_7d5ea_row3_col5\" class=\"data row3 col5\" ><</td>\n",
              "      <td id=\"T_7d5ea_row3_col6\" class=\"data row3 col6\" >239456</td>\n",
              "      <td id=\"T_7d5ea_row3_col7\" class=\"data row3 col7\" >Khan</td>\n",
              "    </tr>\n",
              "    <tr>\n",
              "      <td id=\"T_7d5ea_row4_col0\" class=\"data row4 col0\" >Khan</td>\n",
              "      <td id=\"T_7d5ea_row4_col1\" class=\"data row4 col1\" >20</td>\n",
              "      <td id=\"T_7d5ea_row4_col2\" class=\"data row4 col2\" >></td>\n",
              "      <td id=\"T_7d5ea_row4_col3\" class=\"data row4 col3\" >20</td>\n",
              "      <td id=\"T_7d5ea_row4_col4\" class=\"data row4 col4\" >239456</td>\n",
              "      <td id=\"T_7d5ea_row4_col5\" class=\"data row4 col5\" ><</td>\n",
              "      <td id=\"T_7d5ea_row4_col6\" class=\"data row4 col6\" >239456</td>\n",
              "      <td id=\"T_7d5ea_row4_col7\" class=\"data row4 col7\" >Khan</td>\n",
              "    </tr>\n",
              "    <tr>\n",
              "      <td id=\"T_7d5ea_row5_col0\" class=\"data row5 col0\" >Dikshit</td>\n",
              "      <td id=\"T_7d5ea_row5_col1\" class=\"data row5 col1\" >20</td>\n",
              "      <td id=\"T_7d5ea_row5_col2\" class=\"data row5 col2\" >></td>\n",
              "      <td id=\"T_7d5ea_row5_col3\" class=\"data row5 col3\" >20</td>\n",
              "      <td id=\"T_7d5ea_row5_col4\" class=\"data row5 col4\" >239456</td>\n",
              "      <td id=\"T_7d5ea_row5_col5\" class=\"data row5 col5\" ><</td>\n",
              "      <td id=\"T_7d5ea_row5_col6\" class=\"data row5 col6\" >239456</td>\n",
              "      <td id=\"T_7d5ea_row5_col7\" class=\"data row5 col7\" >Khan</td>\n",
              "    </tr>\n",
              "    <tr>\n",
              "      <td id=\"T_7d5ea_row6_col0\" class=\"data row6 col0\" >Mirza</td>\n",
              "      <td id=\"T_7d5ea_row6_col1\" class=\"data row6 col1\" >30</td>\n",
              "      <td id=\"T_7d5ea_row6_col2\" class=\"data row6 col2\" >></td>\n",
              "      <td id=\"T_7d5ea_row6_col3\" class=\"data row6 col3\" >30</td>\n",
              "      <td id=\"T_7d5ea_row6_col4\" class=\"data row6 col4\" >822134</td>\n",
              "      <td id=\"T_7d5ea_row6_col5\" class=\"data row6 col5\" ><</td>\n",
              "      <td id=\"T_7d5ea_row6_col6\" class=\"data row6 col6\" >822134</td>\n",
              "      <td id=\"T_7d5ea_row6_col7\" class=\"data row6 col7\" >Dravid</td>\n",
              "    </tr>\n",
              "    <tr>\n",
              "      <td id=\"T_7d5ea_row7_col0\" class=\"data row7 col0\" >Dalmia</td>\n",
              "      <td id=\"T_7d5ea_row7_col1\" class=\"data row7 col1\" >30</td>\n",
              "      <td id=\"T_7d5ea_row7_col2\" class=\"data row7 col2\" >></td>\n",
              "      <td id=\"T_7d5ea_row7_col3\" class=\"data row7 col3\" >30</td>\n",
              "      <td id=\"T_7d5ea_row7_col4\" class=\"data row7 col4\" >822134</td>\n",
              "      <td id=\"T_7d5ea_row7_col5\" class=\"data row7 col5\" ><</td>\n",
              "      <td id=\"T_7d5ea_row7_col6\" class=\"data row7 col6\" >822134</td>\n",
              "      <td id=\"T_7d5ea_row7_col7\" class=\"data row7 col7\" >Dravid</td>\n",
              "    </tr>\n",
              "    <tr>\n",
              "      <td id=\"T_7d5ea_row8_col0\" class=\"data row8 col0\" >Dravid</td>\n",
              "      <td id=\"T_7d5ea_row8_col1\" class=\"data row8 col1\" >30</td>\n",
              "      <td id=\"T_7d5ea_row8_col2\" class=\"data row8 col2\" >></td>\n",
              "      <td id=\"T_7d5ea_row8_col3\" class=\"data row8 col3\" >30</td>\n",
              "      <td id=\"T_7d5ea_row8_col4\" class=\"data row8 col4\" >822134</td>\n",
              "      <td id=\"T_7d5ea_row8_col5\" class=\"data row8 col5\" ><</td>\n",
              "      <td id=\"T_7d5ea_row8_col6\" class=\"data row8 col6\" >822134</td>\n",
              "      <td id=\"T_7d5ea_row8_col7\" class=\"data row8 col7\" >Dravid</td>\n",
              "    </tr>\n",
              "    <tr>\n",
              "      <td id=\"T_7d5ea_row9_col0\" class=\"data row9 col0\" >Ganguly</td>\n",
              "      <td id=\"T_7d5ea_row9_col1\" class=\"data row9 col1\" >40</td>\n",
              "      <td id=\"T_7d5ea_row9_col2\" class=\"data row9 col2\" >></td>\n",
              "      <td id=\"T_7d5ea_row9_col3\" class=\"data row9 col3\" >40</td>\n",
              "      <td id=\"T_7d5ea_row9_col4\" class=\"data row9 col4\" >349870</td>\n",
              "      <td id=\"T_7d5ea_row9_col5\" class=\"data row9 col5\" ><</td>\n",
              "      <td id=\"T_7d5ea_row9_col6\" class=\"data row9 col6\" >349870</td>\n",
              "      <td id=\"T_7d5ea_row9_col7\" class=\"data row9 col7\" >Mukherjee</td>\n",
              "    </tr>\n",
              "    <tr>\n",
              "      <td id=\"T_7d5ea_row10_col0\" class=\"data row10 col0\" >Dhoni</td>\n",
              "      <td id=\"T_7d5ea_row10_col1\" class=\"data row10 col1\" >40</td>\n",
              "      <td id=\"T_7d5ea_row10_col2\" class=\"data row10 col2\" >></td>\n",
              "      <td id=\"T_7d5ea_row10_col3\" class=\"data row10 col3\" >40</td>\n",
              "      <td id=\"T_7d5ea_row10_col4\" class=\"data row10 col4\" >349870</td>\n",
              "      <td id=\"T_7d5ea_row10_col5\" class=\"data row10 col5\" ><</td>\n",
              "      <td id=\"T_7d5ea_row10_col6\" class=\"data row10 col6\" >349870</td>\n",
              "      <td id=\"T_7d5ea_row10_col7\" class=\"data row10 col7\" >Mukherjee</td>\n",
              "    </tr>\n",
              "    <tr>\n",
              "      <td id=\"T_7d5ea_row11_col0\" class=\"data row11 col0\" >Mukherjee</td>\n",
              "      <td id=\"T_7d5ea_row11_col1\" class=\"data row11 col1\" >40</td>\n",
              "      <td id=\"T_7d5ea_row11_col2\" class=\"data row11 col2\" >></td>\n",
              "      <td id=\"T_7d5ea_row11_col3\" class=\"data row11 col3\" >40</td>\n",
              "      <td id=\"T_7d5ea_row11_col4\" class=\"data row11 col4\" >349870</td>\n",
              "      <td id=\"T_7d5ea_row11_col5\" class=\"data row11 col5\" ><</td>\n",
              "      <td id=\"T_7d5ea_row11_col6\" class=\"data row11 col6\" >349870</td>\n",
              "      <td id=\"T_7d5ea_row11_col7\" class=\"data row11 col7\" >Mukherjee</td>\n",
              "    </tr>\n",
              "  </tbody>\n",
              "</table>\n"
            ]
          },
          "metadata": {},
          "execution_count": 57
        }
      ]
    },
    {
      "cell_type": "markdown",
      "source": [
        "### Self Join / Single Table"
      ],
      "metadata": {
        "id": "jeknsMbjCA2A"
      }
    },
    {
      "cell_type": "code",
      "source": [
        "cmd = \"Select w.FirstName, w.JobDesc, w.DeptID, \\\n",
        "    ' hired by ' hiredby, \\\n",
        "    m.FirstName,m.JobDesc,m.DeptID \\\n",
        "    from empl w, empl m \\\n",
        "    where w.HiredBy = m.EmpID\"\n",
        "\n",
        "runSelect(cmd)"
      ],
      "metadata": {
        "colab": {
          "base_uri": "https://localhost:8080/",
          "height": 426
        },
        "id": "iDPmUw9-CEBH",
        "outputId": "7b6fd048-6feb-4d18-e0de-a5df1e684ec1"
      },
      "execution_count": 58,
      "outputs": [
        {
          "output_type": "execute_result",
          "data": {
            "text/plain": [
              "<pandas.io.formats.style.Styler at 0x7981e54bb790>"
            ],
            "text/html": [
              "<style type=\"text/css\">\n",
              "</style>\n",
              "<table id=\"T_a5196\" class=\"dataframe\">\n",
              "  <thead>\n",
              "    <tr>\n",
              "      <th id=\"T_a5196_level0_col0\" class=\"col_heading level0 col0\" >firstname</th>\n",
              "      <th id=\"T_a5196_level0_col1\" class=\"col_heading level0 col1\" >jobdesc</th>\n",
              "      <th id=\"T_a5196_level0_col2\" class=\"col_heading level0 col2\" >deptid</th>\n",
              "      <th id=\"T_a5196_level0_col3\" class=\"col_heading level0 col3\" >hiredby</th>\n",
              "      <th id=\"T_a5196_level0_col4\" class=\"col_heading level0 col4\" >firstname</th>\n",
              "      <th id=\"T_a5196_level0_col5\" class=\"col_heading level0 col5\" >jobdesc</th>\n",
              "      <th id=\"T_a5196_level0_col6\" class=\"col_heading level0 col6\" >deptid</th>\n",
              "    </tr>\n",
              "  </thead>\n",
              "  <tbody>\n",
              "    <tr>\n",
              "      <td id=\"T_a5196_row0_col0\" class=\"data row0 col0\" >Rani</td>\n",
              "      <td id=\"T_a5196_row0_col1\" class=\"data row0 col1\" >Manager</td>\n",
              "      <td id=\"T_a5196_row0_col2\" class=\"data row0 col2\" >40</td>\n",
              "      <td id=\"T_a5196_row0_col3\" class=\"data row0 col3\" > hired by </td>\n",
              "      <td id=\"T_a5196_row0_col4\" class=\"data row0 col4\" >Amitabh</td>\n",
              "      <td id=\"T_a5196_row0_col5\" class=\"data row0 col5\" >Executive</td>\n",
              "      <td id=\"T_a5196_row0_col6\" class=\"data row0 col6\" >10</td>\n",
              "    </tr>\n",
              "    <tr>\n",
              "      <td id=\"T_a5196_row1_col0\" class=\"data row1 col0\" >Madhuri</td>\n",
              "      <td id=\"T_a5196_row1_col1\" class=\"data row1 col1\" >Clerk</td>\n",
              "      <td id=\"T_a5196_row1_col2\" class=\"data row1 col2\" >20</td>\n",
              "      <td id=\"T_a5196_row1_col3\" class=\"data row1 col3\" > hired by </td>\n",
              "      <td id=\"T_a5196_row1_col4\" class=\"data row1 col4\" >Shahrukh</td>\n",
              "      <td id=\"T_a5196_row1_col5\" class=\"data row1 col5\" >Manager</td>\n",
              "      <td id=\"T_a5196_row1_col6\" class=\"data row1 col6\" >20</td>\n",
              "    </tr>\n",
              "    <tr>\n",
              "      <td id=\"T_a5196_row2_col0\" class=\"data row2 col0\" >Shahrukh</td>\n",
              "      <td id=\"T_a5196_row2_col1\" class=\"data row2 col1\" >Manager</td>\n",
              "      <td id=\"T_a5196_row2_col2\" class=\"data row2 col2\" >20</td>\n",
              "      <td id=\"T_a5196_row2_col3\" class=\"data row2 col3\" > hired by </td>\n",
              "      <td id=\"T_a5196_row2_col4\" class=\"data row2 col4\" >Amitabh</td>\n",
              "      <td id=\"T_a5196_row2_col5\" class=\"data row2 col5\" >Executive</td>\n",
              "      <td id=\"T_a5196_row2_col6\" class=\"data row2 col6\" >10</td>\n",
              "    </tr>\n",
              "    <tr>\n",
              "      <td id=\"T_a5196_row3_col0\" class=\"data row3 col0\" >Virender</td>\n",
              "      <td id=\"T_a5196_row3_col1\" class=\"data row3 col1\" >Cus_Rep</td>\n",
              "      <td id=\"T_a5196_row3_col2\" class=\"data row3 col2\" >20</td>\n",
              "      <td id=\"T_a5196_row3_col3\" class=\"data row3 col3\" > hired by </td>\n",
              "      <td id=\"T_a5196_row3_col4\" class=\"data row3 col4\" >Shahrukh</td>\n",
              "      <td id=\"T_a5196_row3_col5\" class=\"data row3 col5\" >Manager</td>\n",
              "      <td id=\"T_a5196_row3_col6\" class=\"data row3 col6\" >20</td>\n",
              "    </tr>\n",
              "    <tr>\n",
              "      <td id=\"T_a5196_row4_col0\" class=\"data row4 col0\" >Mahender</td>\n",
              "      <td id=\"T_a5196_row4_col1\" class=\"data row4 col1\" >Clerk</td>\n",
              "      <td id=\"T_a5196_row4_col2\" class=\"data row4 col2\" >40</td>\n",
              "      <td id=\"T_a5196_row4_col3\" class=\"data row4 col3\" > hired by </td>\n",
              "      <td id=\"T_a5196_row4_col4\" class=\"data row4 col4\" >Rani</td>\n",
              "      <td id=\"T_a5196_row4_col5\" class=\"data row4 col5\" >Manager</td>\n",
              "      <td id=\"T_a5196_row4_col6\" class=\"data row4 col6\" >40</td>\n",
              "    </tr>\n",
              "    <tr>\n",
              "      <td id=\"T_a5196_row5_col0\" class=\"data row5 col0\" >Rahul</td>\n",
              "      <td id=\"T_a5196_row5_col1\" class=\"data row5 col1\" >Sr Manager</td>\n",
              "      <td id=\"T_a5196_row5_col2\" class=\"data row5 col2\" >30</td>\n",
              "      <td id=\"T_a5196_row5_col3\" class=\"data row5 col3\" > hired by </td>\n",
              "      <td id=\"T_a5196_row5_col4\" class=\"data row5 col4\" >Amitabh</td>\n",
              "      <td id=\"T_a5196_row5_col5\" class=\"data row5 col5\" >Executive</td>\n",
              "      <td id=\"T_a5196_row5_col6\" class=\"data row5 col6\" >10</td>\n",
              "    </tr>\n",
              "    <tr>\n",
              "      <td id=\"T_a5196_row6_col0\" class=\"data row6 col0\" >Jagmohan</td>\n",
              "      <td id=\"T_a5196_row6_col1\" class=\"data row6 col1\" >Clerk</td>\n",
              "      <td id=\"T_a5196_row6_col2\" class=\"data row6 col2\" >30</td>\n",
              "      <td id=\"T_a5196_row6_col3\" class=\"data row6 col3\" > hired by </td>\n",
              "      <td id=\"T_a5196_row6_col4\" class=\"data row6 col4\" >Rahul</td>\n",
              "      <td id=\"T_a5196_row6_col5\" class=\"data row6 col5\" >Sr Manager</td>\n",
              "      <td id=\"T_a5196_row6_col6\" class=\"data row6 col6\" >30</td>\n",
              "    </tr>\n",
              "    <tr>\n",
              "      <td id=\"T_a5196_row7_col0\" class=\"data row7 col0\" >Sourav</td>\n",
              "      <td id=\"T_a5196_row7_col1\" class=\"data row7 col1\" >Cus_Rep</td>\n",
              "      <td id=\"T_a5196_row7_col2\" class=\"data row7 col2\" >40</td>\n",
              "      <td id=\"T_a5196_row7_col3\" class=\"data row7 col3\" > hired by </td>\n",
              "      <td id=\"T_a5196_row7_col4\" class=\"data row7 col4\" >Rekha</td>\n",
              "      <td id=\"T_a5196_row7_col5\" class=\"data row7 col5\" >Director</td>\n",
              "      <td id=\"T_a5196_row7_col6\" class=\"data row7 col6\" >10</td>\n",
              "    </tr>\n",
              "    <tr>\n",
              "      <td id=\"T_a5196_row8_col0\" class=\"data row8 col0\" >Rekha</td>\n",
              "      <td id=\"T_a5196_row8_col1\" class=\"data row8 col1\" >Director</td>\n",
              "      <td id=\"T_a5196_row8_col2\" class=\"data row8 col2\" >10</td>\n",
              "      <td id=\"T_a5196_row8_col3\" class=\"data row8 col3\" > hired by </td>\n",
              "      <td id=\"T_a5196_row8_col4\" class=\"data row8 col4\" >Amitabh</td>\n",
              "      <td id=\"T_a5196_row8_col5\" class=\"data row8 col5\" >Executive</td>\n",
              "      <td id=\"T_a5196_row8_col6\" class=\"data row8 col6\" >10</td>\n",
              "    </tr>\n",
              "    <tr>\n",
              "      <td id=\"T_a5196_row9_col0\" class=\"data row9 col0\" >Narayan</td>\n",
              "      <td id=\"T_a5196_row9_col1\" class=\"data row9 col1\" >Secretary</td>\n",
              "      <td id=\"T_a5196_row9_col2\" class=\"data row9 col2\" >10</td>\n",
              "      <td id=\"T_a5196_row9_col3\" class=\"data row9 col3\" > hired by </td>\n",
              "      <td id=\"T_a5196_row9_col4\" class=\"data row9 col4\" >Rekha</td>\n",
              "      <td id=\"T_a5196_row9_col5\" class=\"data row9 col5\" >Director</td>\n",
              "      <td id=\"T_a5196_row9_col6\" class=\"data row9 col6\" >10</td>\n",
              "    </tr>\n",
              "    <tr>\n",
              "      <td id=\"T_a5196_row10_col0\" class=\"data row10 col0\" >Chettri</td>\n",
              "      <td id=\"T_a5196_row10_col1\" class=\"data row10 col1\" >Dy Manager</td>\n",
              "      <td id=\"T_a5196_row10_col2\" class=\"data row10 col2\" >70</td>\n",
              "      <td id=\"T_a5196_row10_col3\" class=\"data row10 col3\" > hired by </td>\n",
              "      <td id=\"T_a5196_row10_col4\" class=\"data row10 col4\" >Rani</td>\n",
              "      <td id=\"T_a5196_row10_col5\" class=\"data row10 col5\" >Manager</td>\n",
              "      <td id=\"T_a5196_row10_col6\" class=\"data row10 col6\" >40</td>\n",
              "    </tr>\n",
              "    <tr>\n",
              "      <td id=\"T_a5196_row11_col0\" class=\"data row11 col0\" >Sania</td>\n",
              "      <td id=\"T_a5196_row11_col1\" class=\"data row11 col1\" >Cus_Rep</td>\n",
              "      <td id=\"T_a5196_row11_col2\" class=\"data row11 col2\" >30</td>\n",
              "      <td id=\"T_a5196_row11_col3\" class=\"data row11 col3\" > hired by </td>\n",
              "      <td id=\"T_a5196_row11_col4\" class=\"data row11 col4\" >Rahul</td>\n",
              "      <td id=\"T_a5196_row11_col5\" class=\"data row11 col5\" >Sr Manager</td>\n",
              "      <td id=\"T_a5196_row11_col6\" class=\"data row11 col6\" >30</td>\n",
              "    </tr>\n",
              "  </tbody>\n",
              "</table>\n"
            ]
          },
          "metadata": {},
          "execution_count": 58
        }
      ]
    },
    {
      "cell_type": "markdown",
      "source": [
        "#Subquery"
      ],
      "metadata": {
        "id": "tXDgw1RBzUf-"
      }
    },
    {
      "cell_type": "code",
      "source": [
        "sql = \"select lastname, salary, jobdesc, deptid from empl where \\\n",
        "salary = (select max(salary) from empl where deptid = '20') \\\n",
        "and deptid = '20'\"\n",
        "\n",
        "runSelect(sql)"
      ],
      "metadata": {
        "colab": {
          "base_uri": "https://localhost:8080/",
          "height": 81
        },
        "id": "SxQqgOcHzYTF",
        "outputId": "294aa2ab-bfec-47ae-caf0-22e4aea67002"
      },
      "execution_count": 59,
      "outputs": [
        {
          "output_type": "execute_result",
          "data": {
            "text/plain": [
              "<pandas.io.formats.style.Styler at 0x7981e54bbb20>"
            ],
            "text/html": [
              "<style type=\"text/css\">\n",
              "</style>\n",
              "<table id=\"T_64751\" class=\"dataframe\">\n",
              "  <thead>\n",
              "    <tr>\n",
              "      <th id=\"T_64751_level0_col0\" class=\"col_heading level0 col0\" >lastname</th>\n",
              "      <th id=\"T_64751_level0_col1\" class=\"col_heading level0 col1\" >salary</th>\n",
              "      <th id=\"T_64751_level0_col2\" class=\"col_heading level0 col2\" >jobdesc</th>\n",
              "      <th id=\"T_64751_level0_col3\" class=\"col_heading level0 col3\" >deptid</th>\n",
              "    </tr>\n",
              "  </thead>\n",
              "  <tbody>\n",
              "    <tr>\n",
              "      <td id=\"T_64751_row0_col0\" class=\"data row0 col0\" >Khan</td>\n",
              "      <td id=\"T_64751_row0_col1\" class=\"data row0 col1\" >30000</td>\n",
              "      <td id=\"T_64751_row0_col2\" class=\"data row0 col2\" >Manager</td>\n",
              "      <td id=\"T_64751_row0_col3\" class=\"data row0 col3\" >20</td>\n",
              "    </tr>\n",
              "  </tbody>\n",
              "</table>\n"
            ]
          },
          "metadata": {},
          "execution_count": 59
        }
      ]
    },
    {
      "cell_type": "code",
      "source": [
        "sql = \"select lastname, salary, jobdesc, deptid from empl where salary < (select avg(salary) from empl where deptid = '20')\\\n",
        "and deptid = '20'\"\n",
        "runSelect(sql)"
      ],
      "metadata": {
        "colab": {
          "base_uri": "https://localhost:8080/",
          "height": 112
        },
        "id": "oEhaMtyLz3Tm",
        "outputId": "fe0c5cd7-0d89-4875-9ced-d2b2bbdd4a89"
      },
      "execution_count": 76,
      "outputs": [
        {
          "output_type": "execute_result",
          "data": {
            "text/plain": [
              "<pandas.io.formats.style.Styler at 0x7981e5622050>"
            ],
            "text/html": [
              "<style type=\"text/css\">\n",
              "</style>\n",
              "<table id=\"T_38dea\" class=\"dataframe\">\n",
              "  <thead>\n",
              "    <tr>\n",
              "      <th id=\"T_38dea_level0_col0\" class=\"col_heading level0 col0\" >lastname</th>\n",
              "      <th id=\"T_38dea_level0_col1\" class=\"col_heading level0 col1\" >salary</th>\n",
              "      <th id=\"T_38dea_level0_col2\" class=\"col_heading level0 col2\" >jobdesc</th>\n",
              "      <th id=\"T_38dea_level0_col3\" class=\"col_heading level0 col3\" >deptid</th>\n",
              "    </tr>\n",
              "  </thead>\n",
              "  <tbody>\n",
              "    <tr>\n",
              "      <td id=\"T_38dea_row0_col0\" class=\"data row0 col0\" >Dikshit</td>\n",
              "      <td id=\"T_38dea_row0_col1\" class=\"data row0 col1\" >10000</td>\n",
              "      <td id=\"T_38dea_row0_col2\" class=\"data row0 col2\" >Clerk</td>\n",
              "      <td id=\"T_38dea_row0_col3\" class=\"data row0 col3\" >20</td>\n",
              "    </tr>\n",
              "    <tr>\n",
              "      <td id=\"T_38dea_row1_col0\" class=\"data row1 col0\" >Sehwag</td>\n",
              "      <td id=\"T_38dea_row1_col1\" class=\"data row1 col1\" >15000</td>\n",
              "      <td id=\"T_38dea_row1_col2\" class=\"data row1 col2\" >Cus_Rep</td>\n",
              "      <td id=\"T_38dea_row1_col3\" class=\"data row1 col3\" >20</td>\n",
              "    </tr>\n",
              "  </tbody>\n",
              "</table>\n"
            ]
          },
          "metadata": {},
          "execution_count": 76
        }
      ]
    },
    {
      "cell_type": "markdown",
      "source": [
        "## Common Table Extensions CTE"
      ],
      "metadata": {
        "id": "2gvg8pwe3ale"
      }
    },
    {
      "cell_type": "code",
      "source": [
        "sql = \"\\\n",
        "select jobdesc, avg(salary) avgsalary from empl group by jobdesc \\\n",
        "\"\n",
        "runSelect(sql)"
      ],
      "metadata": {
        "id": "7mu6mmXA3pVn",
        "outputId": "90caad40-6909-4ca8-efec-1767ca9accaa",
        "colab": {
          "base_uri": "https://localhost:8080/",
          "height": 300
        }
      },
      "execution_count": 75,
      "outputs": [
        {
          "output_type": "execute_result",
          "data": {
            "text/plain": [
              "<pandas.io.formats.style.Styler at 0x798210e0cc70>"
            ],
            "text/html": [
              "<style type=\"text/css\">\n",
              "</style>\n",
              "<table id=\"T_61cce\" class=\"dataframe\">\n",
              "  <thead>\n",
              "    <tr>\n",
              "      <th id=\"T_61cce_level0_col0\" class=\"col_heading level0 col0\" >jobdesc</th>\n",
              "      <th id=\"T_61cce_level0_col1\" class=\"col_heading level0 col1\" >avgsalary</th>\n",
              "    </tr>\n",
              "  </thead>\n",
              "  <tbody>\n",
              "    <tr>\n",
              "      <td id=\"T_61cce_row0_col0\" class=\"data row0 col0\" >Director</td>\n",
              "      <td id=\"T_61cce_row0_col1\" class=\"data row0 col1\" >60000.000000000000</td>\n",
              "    </tr>\n",
              "    <tr>\n",
              "      <td id=\"T_61cce_row1_col0\" class=\"data row1 col0\" >Manager</td>\n",
              "      <td id=\"T_61cce_row1_col1\" class=\"data row1 col1\" >27500.000000000000</td>\n",
              "    </tr>\n",
              "    <tr>\n",
              "      <td id=\"T_61cce_row2_col0\" class=\"data row2 col0\" >Dy Manager</td>\n",
              "      <td id=\"T_61cce_row2_col1\" class=\"data row2 col1\" >40000.000000000000</td>\n",
              "    </tr>\n",
              "    <tr>\n",
              "      <td id=\"T_61cce_row3_col0\" class=\"data row3 col0\" >Executive</td>\n",
              "      <td id=\"T_61cce_row3_col1\" class=\"data row3 col1\" >50000.000000000000</td>\n",
              "    </tr>\n",
              "    <tr>\n",
              "      <td id=\"T_61cce_row4_col0\" class=\"data row4 col0\" >Secretary</td>\n",
              "      <td id=\"T_61cce_row4_col1\" class=\"data row4 col1\" >40000.000000000000</td>\n",
              "    </tr>\n",
              "    <tr>\n",
              "      <td id=\"T_61cce_row5_col0\" class=\"data row5 col0\" >Cus_Rep</td>\n",
              "      <td id=\"T_61cce_row5_col1\" class=\"data row5 col1\" >20000.000000000000</td>\n",
              "    </tr>\n",
              "    <tr>\n",
              "      <td id=\"T_61cce_row6_col0\" class=\"data row6 col0\" >Clerk</td>\n",
              "      <td id=\"T_61cce_row6_col1\" class=\"data row6 col1\" >10333.3333333333333333</td>\n",
              "    </tr>\n",
              "    <tr>\n",
              "      <td id=\"T_61cce_row7_col0\" class=\"data row7 col0\" >Sr Manager</td>\n",
              "      <td id=\"T_61cce_row7_col1\" class=\"data row7 col1\" >40000.000000000000</td>\n",
              "    </tr>\n",
              "  </tbody>\n",
              "</table>\n"
            ]
          },
          "metadata": {},
          "execution_count": 75
        }
      ]
    },
    {
      "cell_type": "code",
      "source": [
        "sql = \"\\\n",
        "with MeanSalary as \\\n",
        "    (select jobdesc, round(avg(salary),0) avgsalary from empl group by jobdesc) \\\n",
        "select lastname, empl.jobdesc, salary, avgsalary from empl, meansalary \\\n",
        "where empl.jobdesc = meansalary.jobdesc \\\n",
        "order  by jobdesc \\\n",
        "\"\n",
        "runSelect(sql)"
      ],
      "metadata": {
        "id": "0i-rIGEzDgFy",
        "outputId": "0b244446-ebf9-438e-9e16-7cebc668ec8a",
        "colab": {
          "base_uri": "https://localhost:8080/",
          "height": 457
        }
      },
      "execution_count": 79,
      "outputs": [
        {
          "output_type": "execute_result",
          "data": {
            "text/plain": [
              "<pandas.io.formats.style.Styler at 0x798210e0efe0>"
            ],
            "text/html": [
              "<style type=\"text/css\">\n",
              "</style>\n",
              "<table id=\"T_4e974\" class=\"dataframe\">\n",
              "  <thead>\n",
              "    <tr>\n",
              "      <th id=\"T_4e974_level0_col0\" class=\"col_heading level0 col0\" >lastname</th>\n",
              "      <th id=\"T_4e974_level0_col1\" class=\"col_heading level0 col1\" >jobdesc</th>\n",
              "      <th id=\"T_4e974_level0_col2\" class=\"col_heading level0 col2\" >salary</th>\n",
              "      <th id=\"T_4e974_level0_col3\" class=\"col_heading level0 col3\" >avgsalary</th>\n",
              "    </tr>\n",
              "  </thead>\n",
              "  <tbody>\n",
              "    <tr>\n",
              "      <td id=\"T_4e974_row0_col0\" class=\"data row0 col0\" >Dalmia</td>\n",
              "      <td id=\"T_4e974_row0_col1\" class=\"data row0 col1\" >Clerk</td>\n",
              "      <td id=\"T_4e974_row0_col2\" class=\"data row0 col2\" >12000</td>\n",
              "      <td id=\"T_4e974_row0_col3\" class=\"data row0 col3\" >10333</td>\n",
              "    </tr>\n",
              "    <tr>\n",
              "      <td id=\"T_4e974_row1_col0\" class=\"data row1 col0\" >Dikshit</td>\n",
              "      <td id=\"T_4e974_row1_col1\" class=\"data row1 col1\" >Clerk</td>\n",
              "      <td id=\"T_4e974_row1_col2\" class=\"data row1 col2\" >10000</td>\n",
              "      <td id=\"T_4e974_row1_col3\" class=\"data row1 col3\" >10333</td>\n",
              "    </tr>\n",
              "    <tr>\n",
              "      <td id=\"T_4e974_row2_col0\" class=\"data row2 col0\" >Dhoni</td>\n",
              "      <td id=\"T_4e974_row2_col1\" class=\"data row2 col1\" >Clerk</td>\n",
              "      <td id=\"T_4e974_row2_col2\" class=\"data row2 col2\" >9000</td>\n",
              "      <td id=\"T_4e974_row2_col3\" class=\"data row2 col3\" >10333</td>\n",
              "    </tr>\n",
              "    <tr>\n",
              "      <td id=\"T_4e974_row3_col0\" class=\"data row3 col0\" >Sehwag</td>\n",
              "      <td id=\"T_4e974_row3_col1\" class=\"data row3 col1\" >Cus_Rep</td>\n",
              "      <td id=\"T_4e974_row3_col2\" class=\"data row3 col2\" >15000</td>\n",
              "      <td id=\"T_4e974_row3_col3\" class=\"data row3 col3\" >20000</td>\n",
              "    </tr>\n",
              "    <tr>\n",
              "      <td id=\"T_4e974_row4_col0\" class=\"data row4 col0\" >Mirza</td>\n",
              "      <td id=\"T_4e974_row4_col1\" class=\"data row4 col1\" >Cus_Rep</td>\n",
              "      <td id=\"T_4e974_row4_col2\" class=\"data row4 col2\" >25000</td>\n",
              "      <td id=\"T_4e974_row4_col3\" class=\"data row4 col3\" >20000</td>\n",
              "    </tr>\n",
              "    <tr>\n",
              "      <td id=\"T_4e974_row5_col0\" class=\"data row5 col0\" >Ganguly</td>\n",
              "      <td id=\"T_4e974_row5_col1\" class=\"data row5 col1\" >Cus_Rep</td>\n",
              "      <td id=\"T_4e974_row5_col2\" class=\"data row5 col2\" >20000</td>\n",
              "      <td id=\"T_4e974_row5_col3\" class=\"data row5 col3\" >20000</td>\n",
              "    </tr>\n",
              "    <tr>\n",
              "      <td id=\"T_4e974_row6_col0\" class=\"data row6 col0\" >Ganesan</td>\n",
              "      <td id=\"T_4e974_row6_col1\" class=\"data row6 col1\" >Director</td>\n",
              "      <td id=\"T_4e974_row6_col2\" class=\"data row6 col2\" >60000</td>\n",
              "      <td id=\"T_4e974_row6_col3\" class=\"data row6 col3\" >60000</td>\n",
              "    </tr>\n",
              "    <tr>\n",
              "      <td id=\"T_4e974_row7_col0\" class=\"data row7 col0\" >Sunil</td>\n",
              "      <td id=\"T_4e974_row7_col1\" class=\"data row7 col1\" >Dy Manager</td>\n",
              "      <td id=\"T_4e974_row7_col2\" class=\"data row7 col2\" >40000</td>\n",
              "      <td id=\"T_4e974_row7_col3\" class=\"data row7 col3\" >40000</td>\n",
              "    </tr>\n",
              "    <tr>\n",
              "      <td id=\"T_4e974_row8_col0\" class=\"data row8 col0\" >Bacchan</td>\n",
              "      <td id=\"T_4e974_row8_col1\" class=\"data row8 col1\" >Executive</td>\n",
              "      <td id=\"T_4e974_row8_col2\" class=\"data row8 col2\" >50000</td>\n",
              "      <td id=\"T_4e974_row8_col3\" class=\"data row8 col3\" >50000</td>\n",
              "    </tr>\n",
              "    <tr>\n",
              "      <td id=\"T_4e974_row9_col0\" class=\"data row9 col0\" >Khan</td>\n",
              "      <td id=\"T_4e974_row9_col1\" class=\"data row9 col1\" >Manager</td>\n",
              "      <td id=\"T_4e974_row9_col2\" class=\"data row9 col2\" >30000</td>\n",
              "      <td id=\"T_4e974_row9_col3\" class=\"data row9 col3\" >27500</td>\n",
              "    </tr>\n",
              "    <tr>\n",
              "      <td id=\"T_4e974_row10_col0\" class=\"data row10 col0\" >Mukherjee</td>\n",
              "      <td id=\"T_4e974_row10_col1\" class=\"data row10 col1\" >Manager</td>\n",
              "      <td id=\"T_4e974_row10_col2\" class=\"data row10 col2\" >25000</td>\n",
              "      <td id=\"T_4e974_row10_col3\" class=\"data row10 col3\" >27500</td>\n",
              "    </tr>\n",
              "    <tr>\n",
              "      <td id=\"T_4e974_row11_col0\" class=\"data row11 col0\" >Karthikeyan</td>\n",
              "      <td id=\"T_4e974_row11_col1\" class=\"data row11 col1\" >Secretary</td>\n",
              "      <td id=\"T_4e974_row11_col2\" class=\"data row11 col2\" >40000</td>\n",
              "      <td id=\"T_4e974_row11_col3\" class=\"data row11 col3\" >40000</td>\n",
              "    </tr>\n",
              "    <tr>\n",
              "      <td id=\"T_4e974_row12_col0\" class=\"data row12 col0\" >Dravid</td>\n",
              "      <td id=\"T_4e974_row12_col1\" class=\"data row12 col1\" >Sr Manager</td>\n",
              "      <td id=\"T_4e974_row12_col2\" class=\"data row12 col2\" >40000</td>\n",
              "      <td id=\"T_4e974_row12_col3\" class=\"data row12 col3\" >40000</td>\n",
              "    </tr>\n",
              "  </tbody>\n",
              "</table>\n"
            ]
          },
          "metadata": {},
          "execution_count": 79
        }
      ]
    },
    {
      "cell_type": "code",
      "source": [
        "sql = \"\\\n",
        "select lastname, empl.jobdesc, salary, avgsalary from \\\n",
        "empl, (select jobdesc, round(avg(salary),0) avgsalary from empl group by jobdesc) meansalary \\\n",
        "where empl.jobdesc = meansalary.jobdesc \\\n",
        "order  by jobdesc \\\n",
        "\"\n",
        "runSelect(sql)"
      ],
      "metadata": {
        "id": "nwrLj4xaExye",
        "outputId": "f15c0f7e-072b-4bd0-a6e9-093e33d1251b",
        "colab": {
          "base_uri": "https://localhost:8080/",
          "height": 457
        }
      },
      "execution_count": 80,
      "outputs": [
        {
          "output_type": "execute_result",
          "data": {
            "text/plain": [
              "<pandas.io.formats.style.Styler at 0x7981e55cee60>"
            ],
            "text/html": [
              "<style type=\"text/css\">\n",
              "</style>\n",
              "<table id=\"T_231b1\" class=\"dataframe\">\n",
              "  <thead>\n",
              "    <tr>\n",
              "      <th id=\"T_231b1_level0_col0\" class=\"col_heading level0 col0\" >lastname</th>\n",
              "      <th id=\"T_231b1_level0_col1\" class=\"col_heading level0 col1\" >jobdesc</th>\n",
              "      <th id=\"T_231b1_level0_col2\" class=\"col_heading level0 col2\" >salary</th>\n",
              "      <th id=\"T_231b1_level0_col3\" class=\"col_heading level0 col3\" >avgsalary</th>\n",
              "    </tr>\n",
              "  </thead>\n",
              "  <tbody>\n",
              "    <tr>\n",
              "      <td id=\"T_231b1_row0_col0\" class=\"data row0 col0\" >Dalmia</td>\n",
              "      <td id=\"T_231b1_row0_col1\" class=\"data row0 col1\" >Clerk</td>\n",
              "      <td id=\"T_231b1_row0_col2\" class=\"data row0 col2\" >12000</td>\n",
              "      <td id=\"T_231b1_row0_col3\" class=\"data row0 col3\" >10333</td>\n",
              "    </tr>\n",
              "    <tr>\n",
              "      <td id=\"T_231b1_row1_col0\" class=\"data row1 col0\" >Dikshit</td>\n",
              "      <td id=\"T_231b1_row1_col1\" class=\"data row1 col1\" >Clerk</td>\n",
              "      <td id=\"T_231b1_row1_col2\" class=\"data row1 col2\" >10000</td>\n",
              "      <td id=\"T_231b1_row1_col3\" class=\"data row1 col3\" >10333</td>\n",
              "    </tr>\n",
              "    <tr>\n",
              "      <td id=\"T_231b1_row2_col0\" class=\"data row2 col0\" >Dhoni</td>\n",
              "      <td id=\"T_231b1_row2_col1\" class=\"data row2 col1\" >Clerk</td>\n",
              "      <td id=\"T_231b1_row2_col2\" class=\"data row2 col2\" >9000</td>\n",
              "      <td id=\"T_231b1_row2_col3\" class=\"data row2 col3\" >10333</td>\n",
              "    </tr>\n",
              "    <tr>\n",
              "      <td id=\"T_231b1_row3_col0\" class=\"data row3 col0\" >Sehwag</td>\n",
              "      <td id=\"T_231b1_row3_col1\" class=\"data row3 col1\" >Cus_Rep</td>\n",
              "      <td id=\"T_231b1_row3_col2\" class=\"data row3 col2\" >15000</td>\n",
              "      <td id=\"T_231b1_row3_col3\" class=\"data row3 col3\" >20000</td>\n",
              "    </tr>\n",
              "    <tr>\n",
              "      <td id=\"T_231b1_row4_col0\" class=\"data row4 col0\" >Mirza</td>\n",
              "      <td id=\"T_231b1_row4_col1\" class=\"data row4 col1\" >Cus_Rep</td>\n",
              "      <td id=\"T_231b1_row4_col2\" class=\"data row4 col2\" >25000</td>\n",
              "      <td id=\"T_231b1_row4_col3\" class=\"data row4 col3\" >20000</td>\n",
              "    </tr>\n",
              "    <tr>\n",
              "      <td id=\"T_231b1_row5_col0\" class=\"data row5 col0\" >Ganguly</td>\n",
              "      <td id=\"T_231b1_row5_col1\" class=\"data row5 col1\" >Cus_Rep</td>\n",
              "      <td id=\"T_231b1_row5_col2\" class=\"data row5 col2\" >20000</td>\n",
              "      <td id=\"T_231b1_row5_col3\" class=\"data row5 col3\" >20000</td>\n",
              "    </tr>\n",
              "    <tr>\n",
              "      <td id=\"T_231b1_row6_col0\" class=\"data row6 col0\" >Ganesan</td>\n",
              "      <td id=\"T_231b1_row6_col1\" class=\"data row6 col1\" >Director</td>\n",
              "      <td id=\"T_231b1_row6_col2\" class=\"data row6 col2\" >60000</td>\n",
              "      <td id=\"T_231b1_row6_col3\" class=\"data row6 col3\" >60000</td>\n",
              "    </tr>\n",
              "    <tr>\n",
              "      <td id=\"T_231b1_row7_col0\" class=\"data row7 col0\" >Sunil</td>\n",
              "      <td id=\"T_231b1_row7_col1\" class=\"data row7 col1\" >Dy Manager</td>\n",
              "      <td id=\"T_231b1_row7_col2\" class=\"data row7 col2\" >40000</td>\n",
              "      <td id=\"T_231b1_row7_col3\" class=\"data row7 col3\" >40000</td>\n",
              "    </tr>\n",
              "    <tr>\n",
              "      <td id=\"T_231b1_row8_col0\" class=\"data row8 col0\" >Bacchan</td>\n",
              "      <td id=\"T_231b1_row8_col1\" class=\"data row8 col1\" >Executive</td>\n",
              "      <td id=\"T_231b1_row8_col2\" class=\"data row8 col2\" >50000</td>\n",
              "      <td id=\"T_231b1_row8_col3\" class=\"data row8 col3\" >50000</td>\n",
              "    </tr>\n",
              "    <tr>\n",
              "      <td id=\"T_231b1_row9_col0\" class=\"data row9 col0\" >Khan</td>\n",
              "      <td id=\"T_231b1_row9_col1\" class=\"data row9 col1\" >Manager</td>\n",
              "      <td id=\"T_231b1_row9_col2\" class=\"data row9 col2\" >30000</td>\n",
              "      <td id=\"T_231b1_row9_col3\" class=\"data row9 col3\" >27500</td>\n",
              "    </tr>\n",
              "    <tr>\n",
              "      <td id=\"T_231b1_row10_col0\" class=\"data row10 col0\" >Mukherjee</td>\n",
              "      <td id=\"T_231b1_row10_col1\" class=\"data row10 col1\" >Manager</td>\n",
              "      <td id=\"T_231b1_row10_col2\" class=\"data row10 col2\" >25000</td>\n",
              "      <td id=\"T_231b1_row10_col3\" class=\"data row10 col3\" >27500</td>\n",
              "    </tr>\n",
              "    <tr>\n",
              "      <td id=\"T_231b1_row11_col0\" class=\"data row11 col0\" >Karthikeyan</td>\n",
              "      <td id=\"T_231b1_row11_col1\" class=\"data row11 col1\" >Secretary</td>\n",
              "      <td id=\"T_231b1_row11_col2\" class=\"data row11 col2\" >40000</td>\n",
              "      <td id=\"T_231b1_row11_col3\" class=\"data row11 col3\" >40000</td>\n",
              "    </tr>\n",
              "    <tr>\n",
              "      <td id=\"T_231b1_row12_col0\" class=\"data row12 col0\" >Dravid</td>\n",
              "      <td id=\"T_231b1_row12_col1\" class=\"data row12 col1\" >Sr Manager</td>\n",
              "      <td id=\"T_231b1_row12_col2\" class=\"data row12 col2\" >40000</td>\n",
              "      <td id=\"T_231b1_row12_col3\" class=\"data row12 col3\" >40000</td>\n",
              "    </tr>\n",
              "  </tbody>\n",
              "</table>\n"
            ]
          },
          "metadata": {},
          "execution_count": 80
        }
      ]
    },
    {
      "cell_type": "markdown",
      "source": [
        "#Window Functions"
      ],
      "metadata": {
        "id": "p1v2XtGa1QOq"
      }
    },
    {
      "cell_type": "code",
      "source": [
        "sql = \"select deptid, lastname, salary, \\\n",
        "    avg(salary) over (partition by deptid) \\\n",
        "    from empl\"\n",
        "runSelect(sql)"
      ],
      "metadata": {
        "colab": {
          "base_uri": "https://localhost:8080/",
          "height": 457
        },
        "id": "ffpu5hXo1TfJ",
        "outputId": "f3c60f67-3b95-43c8-ba78-29bf234d2c0b"
      },
      "execution_count": 61,
      "outputs": [
        {
          "output_type": "execute_result",
          "data": {
            "text/plain": [
              "<pandas.io.formats.style.Styler at 0x7981e54c4790>"
            ],
            "text/html": [
              "<style type=\"text/css\">\n",
              "</style>\n",
              "<table id=\"T_45a04\" class=\"dataframe\">\n",
              "  <thead>\n",
              "    <tr>\n",
              "      <th id=\"T_45a04_level0_col0\" class=\"col_heading level0 col0\" >deptid</th>\n",
              "      <th id=\"T_45a04_level0_col1\" class=\"col_heading level0 col1\" >lastname</th>\n",
              "      <th id=\"T_45a04_level0_col2\" class=\"col_heading level0 col2\" >salary</th>\n",
              "      <th id=\"T_45a04_level0_col3\" class=\"col_heading level0 col3\" >avg</th>\n",
              "    </tr>\n",
              "  </thead>\n",
              "  <tbody>\n",
              "    <tr>\n",
              "      <td id=\"T_45a04_row0_col0\" class=\"data row0 col0\" >10</td>\n",
              "      <td id=\"T_45a04_row0_col1\" class=\"data row0 col1\" >Bacchan</td>\n",
              "      <td id=\"T_45a04_row0_col2\" class=\"data row0 col2\" >50000</td>\n",
              "      <td id=\"T_45a04_row0_col3\" class=\"data row0 col3\" >50000.000000000000</td>\n",
              "    </tr>\n",
              "    <tr>\n",
              "      <td id=\"T_45a04_row1_col0\" class=\"data row1 col0\" >10</td>\n",
              "      <td id=\"T_45a04_row1_col1\" class=\"data row1 col1\" >Ganesan</td>\n",
              "      <td id=\"T_45a04_row1_col2\" class=\"data row1 col2\" >60000</td>\n",
              "      <td id=\"T_45a04_row1_col3\" class=\"data row1 col3\" >50000.000000000000</td>\n",
              "    </tr>\n",
              "    <tr>\n",
              "      <td id=\"T_45a04_row2_col0\" class=\"data row2 col0\" >10</td>\n",
              "      <td id=\"T_45a04_row2_col1\" class=\"data row2 col1\" >Karthikeyan</td>\n",
              "      <td id=\"T_45a04_row2_col2\" class=\"data row2 col2\" >40000</td>\n",
              "      <td id=\"T_45a04_row2_col3\" class=\"data row2 col3\" >50000.000000000000</td>\n",
              "    </tr>\n",
              "    <tr>\n",
              "      <td id=\"T_45a04_row3_col0\" class=\"data row3 col0\" >20</td>\n",
              "      <td id=\"T_45a04_row3_col1\" class=\"data row3 col1\" >Dikshit</td>\n",
              "      <td id=\"T_45a04_row3_col2\" class=\"data row3 col2\" >10000</td>\n",
              "      <td id=\"T_45a04_row3_col3\" class=\"data row3 col3\" >18333.333333333333</td>\n",
              "    </tr>\n",
              "    <tr>\n",
              "      <td id=\"T_45a04_row4_col0\" class=\"data row4 col0\" >20</td>\n",
              "      <td id=\"T_45a04_row4_col1\" class=\"data row4 col1\" >Khan</td>\n",
              "      <td id=\"T_45a04_row4_col2\" class=\"data row4 col2\" >30000</td>\n",
              "      <td id=\"T_45a04_row4_col3\" class=\"data row4 col3\" >18333.333333333333</td>\n",
              "    </tr>\n",
              "    <tr>\n",
              "      <td id=\"T_45a04_row5_col0\" class=\"data row5 col0\" >20</td>\n",
              "      <td id=\"T_45a04_row5_col1\" class=\"data row5 col1\" >Sehwag</td>\n",
              "      <td id=\"T_45a04_row5_col2\" class=\"data row5 col2\" >15000</td>\n",
              "      <td id=\"T_45a04_row5_col3\" class=\"data row5 col3\" >18333.333333333333</td>\n",
              "    </tr>\n",
              "    <tr>\n",
              "      <td id=\"T_45a04_row6_col0\" class=\"data row6 col0\" >30</td>\n",
              "      <td id=\"T_45a04_row6_col1\" class=\"data row6 col1\" >Mirza</td>\n",
              "      <td id=\"T_45a04_row6_col2\" class=\"data row6 col2\" >25000</td>\n",
              "      <td id=\"T_45a04_row6_col3\" class=\"data row6 col3\" >25666.666666666667</td>\n",
              "    </tr>\n",
              "    <tr>\n",
              "      <td id=\"T_45a04_row7_col0\" class=\"data row7 col0\" >30</td>\n",
              "      <td id=\"T_45a04_row7_col1\" class=\"data row7 col1\" >Dravid</td>\n",
              "      <td id=\"T_45a04_row7_col2\" class=\"data row7 col2\" >40000</td>\n",
              "      <td id=\"T_45a04_row7_col3\" class=\"data row7 col3\" >25666.666666666667</td>\n",
              "    </tr>\n",
              "    <tr>\n",
              "      <td id=\"T_45a04_row8_col0\" class=\"data row8 col0\" >30</td>\n",
              "      <td id=\"T_45a04_row8_col1\" class=\"data row8 col1\" >Dalmia</td>\n",
              "      <td id=\"T_45a04_row8_col2\" class=\"data row8 col2\" >12000</td>\n",
              "      <td id=\"T_45a04_row8_col3\" class=\"data row8 col3\" >25666.666666666667</td>\n",
              "    </tr>\n",
              "    <tr>\n",
              "      <td id=\"T_45a04_row9_col0\" class=\"data row9 col0\" >40</td>\n",
              "      <td id=\"T_45a04_row9_col1\" class=\"data row9 col1\" >Ganguly</td>\n",
              "      <td id=\"T_45a04_row9_col2\" class=\"data row9 col2\" >20000</td>\n",
              "      <td id=\"T_45a04_row9_col3\" class=\"data row9 col3\" >18000.000000000000</td>\n",
              "    </tr>\n",
              "    <tr>\n",
              "      <td id=\"T_45a04_row10_col0\" class=\"data row10 col0\" >40</td>\n",
              "      <td id=\"T_45a04_row10_col1\" class=\"data row10 col1\" >Dhoni</td>\n",
              "      <td id=\"T_45a04_row10_col2\" class=\"data row10 col2\" >9000</td>\n",
              "      <td id=\"T_45a04_row10_col3\" class=\"data row10 col3\" >18000.000000000000</td>\n",
              "    </tr>\n",
              "    <tr>\n",
              "      <td id=\"T_45a04_row11_col0\" class=\"data row11 col0\" >40</td>\n",
              "      <td id=\"T_45a04_row11_col1\" class=\"data row11 col1\" >Mukherjee</td>\n",
              "      <td id=\"T_45a04_row11_col2\" class=\"data row11 col2\" >25000</td>\n",
              "      <td id=\"T_45a04_row11_col3\" class=\"data row11 col3\" >18000.000000000000</td>\n",
              "    </tr>\n",
              "    <tr>\n",
              "      <td id=\"T_45a04_row12_col0\" class=\"data row12 col0\" >70</td>\n",
              "      <td id=\"T_45a04_row12_col1\" class=\"data row12 col1\" >Sunil</td>\n",
              "      <td id=\"T_45a04_row12_col2\" class=\"data row12 col2\" >40000</td>\n",
              "      <td id=\"T_45a04_row12_col3\" class=\"data row12 col3\" >40000.000000000000</td>\n",
              "    </tr>\n",
              "  </tbody>\n",
              "</table>\n"
            ]
          },
          "metadata": {},
          "execution_count": 61
        }
      ]
    },
    {
      "cell_type": "code",
      "source": [
        "sql = \"select deptname, lastname, salary, avg(salary) over (partition by deptname) from empl  inner join dept using(deptid)\"\n",
        "runSelect(sql)"
      ],
      "metadata": {
        "colab": {
          "base_uri": "https://localhost:8080/",
          "height": 426
        },
        "id": "JZC4y3tg2o8A",
        "outputId": "c4b626a7-4c1e-4c3a-d17c-8686392a752d"
      },
      "execution_count": 62,
      "outputs": [
        {
          "output_type": "execute_result",
          "data": {
            "text/plain": [
              "<pandas.io.formats.style.Styler at 0x7981e54ba380>"
            ],
            "text/html": [
              "<style type=\"text/css\">\n",
              "</style>\n",
              "<table id=\"T_d5e4a\" class=\"dataframe\">\n",
              "  <thead>\n",
              "    <tr>\n",
              "      <th id=\"T_d5e4a_level0_col0\" class=\"col_heading level0 col0\" >deptname</th>\n",
              "      <th id=\"T_d5e4a_level0_col1\" class=\"col_heading level0 col1\" >lastname</th>\n",
              "      <th id=\"T_d5e4a_level0_col2\" class=\"col_heading level0 col2\" >salary</th>\n",
              "      <th id=\"T_d5e4a_level0_col3\" class=\"col_heading level0 col3\" >avg</th>\n",
              "    </tr>\n",
              "  </thead>\n",
              "  <tbody>\n",
              "    <tr>\n",
              "      <td id=\"T_d5e4a_row0_col0\" class=\"data row0 col0\" >Accounts</td>\n",
              "      <td id=\"T_d5e4a_row0_col1\" class=\"data row0 col1\" >Dravid</td>\n",
              "      <td id=\"T_d5e4a_row0_col2\" class=\"data row0 col2\" >40000</td>\n",
              "      <td id=\"T_d5e4a_row0_col3\" class=\"data row0 col3\" >25666.666666666667</td>\n",
              "    </tr>\n",
              "    <tr>\n",
              "      <td id=\"T_d5e4a_row1_col0\" class=\"data row1 col0\" >Accounts</td>\n",
              "      <td id=\"T_d5e4a_row1_col1\" class=\"data row1 col1\" >Dalmia</td>\n",
              "      <td id=\"T_d5e4a_row1_col2\" class=\"data row1 col2\" >12000</td>\n",
              "      <td id=\"T_d5e4a_row1_col3\" class=\"data row1 col3\" >25666.666666666667</td>\n",
              "    </tr>\n",
              "    <tr>\n",
              "      <td id=\"T_d5e4a_row2_col0\" class=\"data row2 col0\" >Accounts</td>\n",
              "      <td id=\"T_d5e4a_row2_col1\" class=\"data row2 col1\" >Mirza</td>\n",
              "      <td id=\"T_d5e4a_row2_col2\" class=\"data row2 col2\" >25000</td>\n",
              "      <td id=\"T_d5e4a_row2_col3\" class=\"data row2 col3\" >25666.666666666667</td>\n",
              "    </tr>\n",
              "    <tr>\n",
              "      <td id=\"T_d5e4a_row3_col0\" class=\"data row3 col0\" >Corporate</td>\n",
              "      <td id=\"T_d5e4a_row3_col1\" class=\"data row3 col1\" >Karthikeyan</td>\n",
              "      <td id=\"T_d5e4a_row3_col2\" class=\"data row3 col2\" >40000</td>\n",
              "      <td id=\"T_d5e4a_row3_col3\" class=\"data row3 col3\" >50000.000000000000</td>\n",
              "    </tr>\n",
              "    <tr>\n",
              "      <td id=\"T_d5e4a_row4_col0\" class=\"data row4 col0\" >Corporate</td>\n",
              "      <td id=\"T_d5e4a_row4_col1\" class=\"data row4 col1\" >Ganesan</td>\n",
              "      <td id=\"T_d5e4a_row4_col2\" class=\"data row4 col2\" >60000</td>\n",
              "      <td id=\"T_d5e4a_row4_col3\" class=\"data row4 col3\" >50000.000000000000</td>\n",
              "    </tr>\n",
              "    <tr>\n",
              "      <td id=\"T_d5e4a_row5_col0\" class=\"data row5 col0\" >Corporate</td>\n",
              "      <td id=\"T_d5e4a_row5_col1\" class=\"data row5 col1\" >Bacchan</td>\n",
              "      <td id=\"T_d5e4a_row5_col2\" class=\"data row5 col2\" >50000</td>\n",
              "      <td id=\"T_d5e4a_row5_col3\" class=\"data row5 col3\" >50000.000000000000</td>\n",
              "    </tr>\n",
              "    <tr>\n",
              "      <td id=\"T_d5e4a_row6_col0\" class=\"data row6 col0\" >Production</td>\n",
              "      <td id=\"T_d5e4a_row6_col1\" class=\"data row6 col1\" >Ganguly</td>\n",
              "      <td id=\"T_d5e4a_row6_col2\" class=\"data row6 col2\" >20000</td>\n",
              "      <td id=\"T_d5e4a_row6_col3\" class=\"data row6 col3\" >18000.000000000000</td>\n",
              "    </tr>\n",
              "    <tr>\n",
              "      <td id=\"T_d5e4a_row7_col0\" class=\"data row7 col0\" >Production</td>\n",
              "      <td id=\"T_d5e4a_row7_col1\" class=\"data row7 col1\" >Dhoni</td>\n",
              "      <td id=\"T_d5e4a_row7_col2\" class=\"data row7 col2\" >9000</td>\n",
              "      <td id=\"T_d5e4a_row7_col3\" class=\"data row7 col3\" >18000.000000000000</td>\n",
              "    </tr>\n",
              "    <tr>\n",
              "      <td id=\"T_d5e4a_row8_col0\" class=\"data row8 col0\" >Production</td>\n",
              "      <td id=\"T_d5e4a_row8_col1\" class=\"data row8 col1\" >Mukherjee</td>\n",
              "      <td id=\"T_d5e4a_row8_col2\" class=\"data row8 col2\" >25000</td>\n",
              "      <td id=\"T_d5e4a_row8_col3\" class=\"data row8 col3\" >18000.000000000000</td>\n",
              "    </tr>\n",
              "    <tr>\n",
              "      <td id=\"T_d5e4a_row9_col0\" class=\"data row9 col0\" >Sales</td>\n",
              "      <td id=\"T_d5e4a_row9_col1\" class=\"data row9 col1\" >Dikshit</td>\n",
              "      <td id=\"T_d5e4a_row9_col2\" class=\"data row9 col2\" >10000</td>\n",
              "      <td id=\"T_d5e4a_row9_col3\" class=\"data row9 col3\" >18333.333333333333</td>\n",
              "    </tr>\n",
              "    <tr>\n",
              "      <td id=\"T_d5e4a_row10_col0\" class=\"data row10 col0\" >Sales</td>\n",
              "      <td id=\"T_d5e4a_row10_col1\" class=\"data row10 col1\" >Khan</td>\n",
              "      <td id=\"T_d5e4a_row10_col2\" class=\"data row10 col2\" >30000</td>\n",
              "      <td id=\"T_d5e4a_row10_col3\" class=\"data row10 col3\" >18333.333333333333</td>\n",
              "    </tr>\n",
              "    <tr>\n",
              "      <td id=\"T_d5e4a_row11_col0\" class=\"data row11 col0\" >Sales</td>\n",
              "      <td id=\"T_d5e4a_row11_col1\" class=\"data row11 col1\" >Sehwag</td>\n",
              "      <td id=\"T_d5e4a_row11_col2\" class=\"data row11 col2\" >15000</td>\n",
              "      <td id=\"T_d5e4a_row11_col3\" class=\"data row11 col3\" >18333.333333333333</td>\n",
              "    </tr>\n",
              "  </tbody>\n",
              "</table>\n"
            ]
          },
          "metadata": {},
          "execution_count": 62
        }
      ]
    },
    {
      "cell_type": "code",
      "source": [
        "sql = \"select deptname, lastname, salary, \\\n",
        "    row_number() over (partition by deptname order by salary) \\\n",
        "    from empl  inner join dept using(deptid)\"\n",
        "runSelect(sql)"
      ],
      "metadata": {
        "colab": {
          "base_uri": "https://localhost:8080/",
          "height": 426
        },
        "id": "xgP9VShE4Spl",
        "outputId": "efcd1e50-ae6f-4e3b-bd53-698c453428e8"
      },
      "execution_count": 63,
      "outputs": [
        {
          "output_type": "execute_result",
          "data": {
            "text/plain": [
              "<pandas.io.formats.style.Styler at 0x7981e54c4760>"
            ],
            "text/html": [
              "<style type=\"text/css\">\n",
              "</style>\n",
              "<table id=\"T_08885\" class=\"dataframe\">\n",
              "  <thead>\n",
              "    <tr>\n",
              "      <th id=\"T_08885_level0_col0\" class=\"col_heading level0 col0\" >deptname</th>\n",
              "      <th id=\"T_08885_level0_col1\" class=\"col_heading level0 col1\" >lastname</th>\n",
              "      <th id=\"T_08885_level0_col2\" class=\"col_heading level0 col2\" >salary</th>\n",
              "      <th id=\"T_08885_level0_col3\" class=\"col_heading level0 col3\" >row_number</th>\n",
              "    </tr>\n",
              "  </thead>\n",
              "  <tbody>\n",
              "    <tr>\n",
              "      <td id=\"T_08885_row0_col0\" class=\"data row0 col0\" >Accounts</td>\n",
              "      <td id=\"T_08885_row0_col1\" class=\"data row0 col1\" >Dalmia</td>\n",
              "      <td id=\"T_08885_row0_col2\" class=\"data row0 col2\" >12000</td>\n",
              "      <td id=\"T_08885_row0_col3\" class=\"data row0 col3\" >1</td>\n",
              "    </tr>\n",
              "    <tr>\n",
              "      <td id=\"T_08885_row1_col0\" class=\"data row1 col0\" >Accounts</td>\n",
              "      <td id=\"T_08885_row1_col1\" class=\"data row1 col1\" >Mirza</td>\n",
              "      <td id=\"T_08885_row1_col2\" class=\"data row1 col2\" >25000</td>\n",
              "      <td id=\"T_08885_row1_col3\" class=\"data row1 col3\" >2</td>\n",
              "    </tr>\n",
              "    <tr>\n",
              "      <td id=\"T_08885_row2_col0\" class=\"data row2 col0\" >Accounts</td>\n",
              "      <td id=\"T_08885_row2_col1\" class=\"data row2 col1\" >Dravid</td>\n",
              "      <td id=\"T_08885_row2_col2\" class=\"data row2 col2\" >40000</td>\n",
              "      <td id=\"T_08885_row2_col3\" class=\"data row2 col3\" >3</td>\n",
              "    </tr>\n",
              "    <tr>\n",
              "      <td id=\"T_08885_row3_col0\" class=\"data row3 col0\" >Corporate</td>\n",
              "      <td id=\"T_08885_row3_col1\" class=\"data row3 col1\" >Karthikeyan</td>\n",
              "      <td id=\"T_08885_row3_col2\" class=\"data row3 col2\" >40000</td>\n",
              "      <td id=\"T_08885_row3_col3\" class=\"data row3 col3\" >1</td>\n",
              "    </tr>\n",
              "    <tr>\n",
              "      <td id=\"T_08885_row4_col0\" class=\"data row4 col0\" >Corporate</td>\n",
              "      <td id=\"T_08885_row4_col1\" class=\"data row4 col1\" >Bacchan</td>\n",
              "      <td id=\"T_08885_row4_col2\" class=\"data row4 col2\" >50000</td>\n",
              "      <td id=\"T_08885_row4_col3\" class=\"data row4 col3\" >2</td>\n",
              "    </tr>\n",
              "    <tr>\n",
              "      <td id=\"T_08885_row5_col0\" class=\"data row5 col0\" >Corporate</td>\n",
              "      <td id=\"T_08885_row5_col1\" class=\"data row5 col1\" >Ganesan</td>\n",
              "      <td id=\"T_08885_row5_col2\" class=\"data row5 col2\" >60000</td>\n",
              "      <td id=\"T_08885_row5_col3\" class=\"data row5 col3\" >3</td>\n",
              "    </tr>\n",
              "    <tr>\n",
              "      <td id=\"T_08885_row6_col0\" class=\"data row6 col0\" >Production</td>\n",
              "      <td id=\"T_08885_row6_col1\" class=\"data row6 col1\" >Dhoni</td>\n",
              "      <td id=\"T_08885_row6_col2\" class=\"data row6 col2\" >9000</td>\n",
              "      <td id=\"T_08885_row6_col3\" class=\"data row6 col3\" >1</td>\n",
              "    </tr>\n",
              "    <tr>\n",
              "      <td id=\"T_08885_row7_col0\" class=\"data row7 col0\" >Production</td>\n",
              "      <td id=\"T_08885_row7_col1\" class=\"data row7 col1\" >Ganguly</td>\n",
              "      <td id=\"T_08885_row7_col2\" class=\"data row7 col2\" >20000</td>\n",
              "      <td id=\"T_08885_row7_col3\" class=\"data row7 col3\" >2</td>\n",
              "    </tr>\n",
              "    <tr>\n",
              "      <td id=\"T_08885_row8_col0\" class=\"data row8 col0\" >Production</td>\n",
              "      <td id=\"T_08885_row8_col1\" class=\"data row8 col1\" >Mukherjee</td>\n",
              "      <td id=\"T_08885_row8_col2\" class=\"data row8 col2\" >25000</td>\n",
              "      <td id=\"T_08885_row8_col3\" class=\"data row8 col3\" >3</td>\n",
              "    </tr>\n",
              "    <tr>\n",
              "      <td id=\"T_08885_row9_col0\" class=\"data row9 col0\" >Sales</td>\n",
              "      <td id=\"T_08885_row9_col1\" class=\"data row9 col1\" >Dikshit</td>\n",
              "      <td id=\"T_08885_row9_col2\" class=\"data row9 col2\" >10000</td>\n",
              "      <td id=\"T_08885_row9_col3\" class=\"data row9 col3\" >1</td>\n",
              "    </tr>\n",
              "    <tr>\n",
              "      <td id=\"T_08885_row10_col0\" class=\"data row10 col0\" >Sales</td>\n",
              "      <td id=\"T_08885_row10_col1\" class=\"data row10 col1\" >Sehwag</td>\n",
              "      <td id=\"T_08885_row10_col2\" class=\"data row10 col2\" >15000</td>\n",
              "      <td id=\"T_08885_row10_col3\" class=\"data row10 col3\" >2</td>\n",
              "    </tr>\n",
              "    <tr>\n",
              "      <td id=\"T_08885_row11_col0\" class=\"data row11 col0\" >Sales</td>\n",
              "      <td id=\"T_08885_row11_col1\" class=\"data row11 col1\" >Khan</td>\n",
              "      <td id=\"T_08885_row11_col2\" class=\"data row11 col2\" >30000</td>\n",
              "      <td id=\"T_08885_row11_col3\" class=\"data row11 col3\" >3</td>\n",
              "    </tr>\n",
              "  </tbody>\n",
              "</table>\n"
            ]
          },
          "metadata": {},
          "execution_count": 63
        }
      ]
    },
    {
      "cell_type": "code",
      "source": [
        "sql = \"select deptname, lastname, salary, \\\n",
        "        rank() over (partition by deptname order by salary desc) \\\n",
        "        from empl  inner join dept using(deptid)\"\n",
        "runSelect(sql)"
      ],
      "metadata": {
        "colab": {
          "base_uri": "https://localhost:8080/",
          "height": 426
        },
        "id": "rL_1sHBa4ply",
        "outputId": "e169a7d9-d543-4f1e-abf4-e0676ba41f27"
      },
      "execution_count": 64,
      "outputs": [
        {
          "output_type": "execute_result",
          "data": {
            "text/plain": [
              "<pandas.io.formats.style.Styler at 0x7981e54c4fa0>"
            ],
            "text/html": [
              "<style type=\"text/css\">\n",
              "</style>\n",
              "<table id=\"T_df24d\" class=\"dataframe\">\n",
              "  <thead>\n",
              "    <tr>\n",
              "      <th id=\"T_df24d_level0_col0\" class=\"col_heading level0 col0\" >deptname</th>\n",
              "      <th id=\"T_df24d_level0_col1\" class=\"col_heading level0 col1\" >lastname</th>\n",
              "      <th id=\"T_df24d_level0_col2\" class=\"col_heading level0 col2\" >salary</th>\n",
              "      <th id=\"T_df24d_level0_col3\" class=\"col_heading level0 col3\" >rank</th>\n",
              "    </tr>\n",
              "  </thead>\n",
              "  <tbody>\n",
              "    <tr>\n",
              "      <td id=\"T_df24d_row0_col0\" class=\"data row0 col0\" >Accounts</td>\n",
              "      <td id=\"T_df24d_row0_col1\" class=\"data row0 col1\" >Dravid</td>\n",
              "      <td id=\"T_df24d_row0_col2\" class=\"data row0 col2\" >40000</td>\n",
              "      <td id=\"T_df24d_row0_col3\" class=\"data row0 col3\" >1</td>\n",
              "    </tr>\n",
              "    <tr>\n",
              "      <td id=\"T_df24d_row1_col0\" class=\"data row1 col0\" >Accounts</td>\n",
              "      <td id=\"T_df24d_row1_col1\" class=\"data row1 col1\" >Mirza</td>\n",
              "      <td id=\"T_df24d_row1_col2\" class=\"data row1 col2\" >25000</td>\n",
              "      <td id=\"T_df24d_row1_col3\" class=\"data row1 col3\" >2</td>\n",
              "    </tr>\n",
              "    <tr>\n",
              "      <td id=\"T_df24d_row2_col0\" class=\"data row2 col0\" >Accounts</td>\n",
              "      <td id=\"T_df24d_row2_col1\" class=\"data row2 col1\" >Dalmia</td>\n",
              "      <td id=\"T_df24d_row2_col2\" class=\"data row2 col2\" >12000</td>\n",
              "      <td id=\"T_df24d_row2_col3\" class=\"data row2 col3\" >3</td>\n",
              "    </tr>\n",
              "    <tr>\n",
              "      <td id=\"T_df24d_row3_col0\" class=\"data row3 col0\" >Corporate</td>\n",
              "      <td id=\"T_df24d_row3_col1\" class=\"data row3 col1\" >Ganesan</td>\n",
              "      <td id=\"T_df24d_row3_col2\" class=\"data row3 col2\" >60000</td>\n",
              "      <td id=\"T_df24d_row3_col3\" class=\"data row3 col3\" >1</td>\n",
              "    </tr>\n",
              "    <tr>\n",
              "      <td id=\"T_df24d_row4_col0\" class=\"data row4 col0\" >Corporate</td>\n",
              "      <td id=\"T_df24d_row4_col1\" class=\"data row4 col1\" >Bacchan</td>\n",
              "      <td id=\"T_df24d_row4_col2\" class=\"data row4 col2\" >50000</td>\n",
              "      <td id=\"T_df24d_row4_col3\" class=\"data row4 col3\" >2</td>\n",
              "    </tr>\n",
              "    <tr>\n",
              "      <td id=\"T_df24d_row5_col0\" class=\"data row5 col0\" >Corporate</td>\n",
              "      <td id=\"T_df24d_row5_col1\" class=\"data row5 col1\" >Karthikeyan</td>\n",
              "      <td id=\"T_df24d_row5_col2\" class=\"data row5 col2\" >40000</td>\n",
              "      <td id=\"T_df24d_row5_col3\" class=\"data row5 col3\" >3</td>\n",
              "    </tr>\n",
              "    <tr>\n",
              "      <td id=\"T_df24d_row6_col0\" class=\"data row6 col0\" >Production</td>\n",
              "      <td id=\"T_df24d_row6_col1\" class=\"data row6 col1\" >Mukherjee</td>\n",
              "      <td id=\"T_df24d_row6_col2\" class=\"data row6 col2\" >25000</td>\n",
              "      <td id=\"T_df24d_row6_col3\" class=\"data row6 col3\" >1</td>\n",
              "    </tr>\n",
              "    <tr>\n",
              "      <td id=\"T_df24d_row7_col0\" class=\"data row7 col0\" >Production</td>\n",
              "      <td id=\"T_df24d_row7_col1\" class=\"data row7 col1\" >Ganguly</td>\n",
              "      <td id=\"T_df24d_row7_col2\" class=\"data row7 col2\" >20000</td>\n",
              "      <td id=\"T_df24d_row7_col3\" class=\"data row7 col3\" >2</td>\n",
              "    </tr>\n",
              "    <tr>\n",
              "      <td id=\"T_df24d_row8_col0\" class=\"data row8 col0\" >Production</td>\n",
              "      <td id=\"T_df24d_row8_col1\" class=\"data row8 col1\" >Dhoni</td>\n",
              "      <td id=\"T_df24d_row8_col2\" class=\"data row8 col2\" >9000</td>\n",
              "      <td id=\"T_df24d_row8_col3\" class=\"data row8 col3\" >3</td>\n",
              "    </tr>\n",
              "    <tr>\n",
              "      <td id=\"T_df24d_row9_col0\" class=\"data row9 col0\" >Sales</td>\n",
              "      <td id=\"T_df24d_row9_col1\" class=\"data row9 col1\" >Khan</td>\n",
              "      <td id=\"T_df24d_row9_col2\" class=\"data row9 col2\" >30000</td>\n",
              "      <td id=\"T_df24d_row9_col3\" class=\"data row9 col3\" >1</td>\n",
              "    </tr>\n",
              "    <tr>\n",
              "      <td id=\"T_df24d_row10_col0\" class=\"data row10 col0\" >Sales</td>\n",
              "      <td id=\"T_df24d_row10_col1\" class=\"data row10 col1\" >Sehwag</td>\n",
              "      <td id=\"T_df24d_row10_col2\" class=\"data row10 col2\" >15000</td>\n",
              "      <td id=\"T_df24d_row10_col3\" class=\"data row10 col3\" >2</td>\n",
              "    </tr>\n",
              "    <tr>\n",
              "      <td id=\"T_df24d_row11_col0\" class=\"data row11 col0\" >Sales</td>\n",
              "      <td id=\"T_df24d_row11_col1\" class=\"data row11 col1\" >Dikshit</td>\n",
              "      <td id=\"T_df24d_row11_col2\" class=\"data row11 col2\" >10000</td>\n",
              "      <td id=\"T_df24d_row11_col3\" class=\"data row11 col3\" >3</td>\n",
              "    </tr>\n",
              "  </tbody>\n",
              "</table>\n"
            ]
          },
          "metadata": {},
          "execution_count": 64
        }
      ]
    },
    {
      "cell_type": "code",
      "source": [
        "sql = \"select deptname, lastname, salary, \\\n",
        "first_value(salary) over (partition by deptname order by salary) as deptlow, \\\n",
        "last_value(salary) over (partition by deptname order by salary RANGE BETWEEN UNBOUNDED PRECEDING AND UNBOUNDED FOLLOWING) as depthigh \\\n",
        "from empl  inner join dept using(deptid)\"\n",
        "runSelect(sql)"
      ],
      "metadata": {
        "colab": {
          "base_uri": "https://localhost:8080/",
          "height": 426
        },
        "id": "RO428SVT5T3d",
        "outputId": "dacd1226-4886-427c-9126-5ab8af0fd6b8"
      },
      "execution_count": 65,
      "outputs": [
        {
          "output_type": "execute_result",
          "data": {
            "text/plain": [
              "<pandas.io.formats.style.Styler at 0x7981e54c5b10>"
            ],
            "text/html": [
              "<style type=\"text/css\">\n",
              "</style>\n",
              "<table id=\"T_60aea\" class=\"dataframe\">\n",
              "  <thead>\n",
              "    <tr>\n",
              "      <th id=\"T_60aea_level0_col0\" class=\"col_heading level0 col0\" >deptname</th>\n",
              "      <th id=\"T_60aea_level0_col1\" class=\"col_heading level0 col1\" >lastname</th>\n",
              "      <th id=\"T_60aea_level0_col2\" class=\"col_heading level0 col2\" >salary</th>\n",
              "      <th id=\"T_60aea_level0_col3\" class=\"col_heading level0 col3\" >deptlow</th>\n",
              "      <th id=\"T_60aea_level0_col4\" class=\"col_heading level0 col4\" >depthigh</th>\n",
              "    </tr>\n",
              "  </thead>\n",
              "  <tbody>\n",
              "    <tr>\n",
              "      <td id=\"T_60aea_row0_col0\" class=\"data row0 col0\" >Accounts</td>\n",
              "      <td id=\"T_60aea_row0_col1\" class=\"data row0 col1\" >Dalmia</td>\n",
              "      <td id=\"T_60aea_row0_col2\" class=\"data row0 col2\" >12000</td>\n",
              "      <td id=\"T_60aea_row0_col3\" class=\"data row0 col3\" >12000</td>\n",
              "      <td id=\"T_60aea_row0_col4\" class=\"data row0 col4\" >40000</td>\n",
              "    </tr>\n",
              "    <tr>\n",
              "      <td id=\"T_60aea_row1_col0\" class=\"data row1 col0\" >Accounts</td>\n",
              "      <td id=\"T_60aea_row1_col1\" class=\"data row1 col1\" >Mirza</td>\n",
              "      <td id=\"T_60aea_row1_col2\" class=\"data row1 col2\" >25000</td>\n",
              "      <td id=\"T_60aea_row1_col3\" class=\"data row1 col3\" >12000</td>\n",
              "      <td id=\"T_60aea_row1_col4\" class=\"data row1 col4\" >40000</td>\n",
              "    </tr>\n",
              "    <tr>\n",
              "      <td id=\"T_60aea_row2_col0\" class=\"data row2 col0\" >Accounts</td>\n",
              "      <td id=\"T_60aea_row2_col1\" class=\"data row2 col1\" >Dravid</td>\n",
              "      <td id=\"T_60aea_row2_col2\" class=\"data row2 col2\" >40000</td>\n",
              "      <td id=\"T_60aea_row2_col3\" class=\"data row2 col3\" >12000</td>\n",
              "      <td id=\"T_60aea_row2_col4\" class=\"data row2 col4\" >40000</td>\n",
              "    </tr>\n",
              "    <tr>\n",
              "      <td id=\"T_60aea_row3_col0\" class=\"data row3 col0\" >Corporate</td>\n",
              "      <td id=\"T_60aea_row3_col1\" class=\"data row3 col1\" >Karthikeyan</td>\n",
              "      <td id=\"T_60aea_row3_col2\" class=\"data row3 col2\" >40000</td>\n",
              "      <td id=\"T_60aea_row3_col3\" class=\"data row3 col3\" >40000</td>\n",
              "      <td id=\"T_60aea_row3_col4\" class=\"data row3 col4\" >60000</td>\n",
              "    </tr>\n",
              "    <tr>\n",
              "      <td id=\"T_60aea_row4_col0\" class=\"data row4 col0\" >Corporate</td>\n",
              "      <td id=\"T_60aea_row4_col1\" class=\"data row4 col1\" >Bacchan</td>\n",
              "      <td id=\"T_60aea_row4_col2\" class=\"data row4 col2\" >50000</td>\n",
              "      <td id=\"T_60aea_row4_col3\" class=\"data row4 col3\" >40000</td>\n",
              "      <td id=\"T_60aea_row4_col4\" class=\"data row4 col4\" >60000</td>\n",
              "    </tr>\n",
              "    <tr>\n",
              "      <td id=\"T_60aea_row5_col0\" class=\"data row5 col0\" >Corporate</td>\n",
              "      <td id=\"T_60aea_row5_col1\" class=\"data row5 col1\" >Ganesan</td>\n",
              "      <td id=\"T_60aea_row5_col2\" class=\"data row5 col2\" >60000</td>\n",
              "      <td id=\"T_60aea_row5_col3\" class=\"data row5 col3\" >40000</td>\n",
              "      <td id=\"T_60aea_row5_col4\" class=\"data row5 col4\" >60000</td>\n",
              "    </tr>\n",
              "    <tr>\n",
              "      <td id=\"T_60aea_row6_col0\" class=\"data row6 col0\" >Production</td>\n",
              "      <td id=\"T_60aea_row6_col1\" class=\"data row6 col1\" >Dhoni</td>\n",
              "      <td id=\"T_60aea_row6_col2\" class=\"data row6 col2\" >9000</td>\n",
              "      <td id=\"T_60aea_row6_col3\" class=\"data row6 col3\" >9000</td>\n",
              "      <td id=\"T_60aea_row6_col4\" class=\"data row6 col4\" >25000</td>\n",
              "    </tr>\n",
              "    <tr>\n",
              "      <td id=\"T_60aea_row7_col0\" class=\"data row7 col0\" >Production</td>\n",
              "      <td id=\"T_60aea_row7_col1\" class=\"data row7 col1\" >Ganguly</td>\n",
              "      <td id=\"T_60aea_row7_col2\" class=\"data row7 col2\" >20000</td>\n",
              "      <td id=\"T_60aea_row7_col3\" class=\"data row7 col3\" >9000</td>\n",
              "      <td id=\"T_60aea_row7_col4\" class=\"data row7 col4\" >25000</td>\n",
              "    </tr>\n",
              "    <tr>\n",
              "      <td id=\"T_60aea_row8_col0\" class=\"data row8 col0\" >Production</td>\n",
              "      <td id=\"T_60aea_row8_col1\" class=\"data row8 col1\" >Mukherjee</td>\n",
              "      <td id=\"T_60aea_row8_col2\" class=\"data row8 col2\" >25000</td>\n",
              "      <td id=\"T_60aea_row8_col3\" class=\"data row8 col3\" >9000</td>\n",
              "      <td id=\"T_60aea_row8_col4\" class=\"data row8 col4\" >25000</td>\n",
              "    </tr>\n",
              "    <tr>\n",
              "      <td id=\"T_60aea_row9_col0\" class=\"data row9 col0\" >Sales</td>\n",
              "      <td id=\"T_60aea_row9_col1\" class=\"data row9 col1\" >Dikshit</td>\n",
              "      <td id=\"T_60aea_row9_col2\" class=\"data row9 col2\" >10000</td>\n",
              "      <td id=\"T_60aea_row9_col3\" class=\"data row9 col3\" >10000</td>\n",
              "      <td id=\"T_60aea_row9_col4\" class=\"data row9 col4\" >30000</td>\n",
              "    </tr>\n",
              "    <tr>\n",
              "      <td id=\"T_60aea_row10_col0\" class=\"data row10 col0\" >Sales</td>\n",
              "      <td id=\"T_60aea_row10_col1\" class=\"data row10 col1\" >Sehwag</td>\n",
              "      <td id=\"T_60aea_row10_col2\" class=\"data row10 col2\" >15000</td>\n",
              "      <td id=\"T_60aea_row10_col3\" class=\"data row10 col3\" >10000</td>\n",
              "      <td id=\"T_60aea_row10_col4\" class=\"data row10 col4\" >30000</td>\n",
              "    </tr>\n",
              "    <tr>\n",
              "      <td id=\"T_60aea_row11_col0\" class=\"data row11 col0\" >Sales</td>\n",
              "      <td id=\"T_60aea_row11_col1\" class=\"data row11 col1\" >Khan</td>\n",
              "      <td id=\"T_60aea_row11_col2\" class=\"data row11 col2\" >30000</td>\n",
              "      <td id=\"T_60aea_row11_col3\" class=\"data row11 col3\" >10000</td>\n",
              "      <td id=\"T_60aea_row11_col4\" class=\"data row11 col4\" >30000</td>\n",
              "    </tr>\n",
              "  </tbody>\n",
              "</table>\n"
            ]
          },
          "metadata": {},
          "execution_count": 65
        }
      ]
    },
    {
      "cell_type": "code",
      "source": [
        "sql = \"select deptname, lastname, salary, \\\n",
        "lag(salary,1) over (partition by deptname order by salary) as prev_emp, \\\n",
        "salary - lag(salary,1) over (partition by deptname order by salary) as gap_up \\\n",
        "from empl  inner join dept using(deptid)\"\n",
        "runSelect(sql)"
      ],
      "metadata": {
        "colab": {
          "base_uri": "https://localhost:8080/",
          "height": 426
        },
        "id": "fnG4S0lF8h77",
        "outputId": "bab5e900-8d8f-454a-ee38-a67dc2e0dd97"
      },
      "execution_count": 66,
      "outputs": [
        {
          "output_type": "execute_result",
          "data": {
            "text/plain": [
              "<pandas.io.formats.style.Styler at 0x7981e54c6230>"
            ],
            "text/html": [
              "<style type=\"text/css\">\n",
              "</style>\n",
              "<table id=\"T_a8e4d\" class=\"dataframe\">\n",
              "  <thead>\n",
              "    <tr>\n",
              "      <th id=\"T_a8e4d_level0_col0\" class=\"col_heading level0 col0\" >deptname</th>\n",
              "      <th id=\"T_a8e4d_level0_col1\" class=\"col_heading level0 col1\" >lastname</th>\n",
              "      <th id=\"T_a8e4d_level0_col2\" class=\"col_heading level0 col2\" >salary</th>\n",
              "      <th id=\"T_a8e4d_level0_col3\" class=\"col_heading level0 col3\" >prev_emp</th>\n",
              "      <th id=\"T_a8e4d_level0_col4\" class=\"col_heading level0 col4\" >gap_up</th>\n",
              "    </tr>\n",
              "  </thead>\n",
              "  <tbody>\n",
              "    <tr>\n",
              "      <td id=\"T_a8e4d_row0_col0\" class=\"data row0 col0\" >Accounts</td>\n",
              "      <td id=\"T_a8e4d_row0_col1\" class=\"data row0 col1\" >Dalmia</td>\n",
              "      <td id=\"T_a8e4d_row0_col2\" class=\"data row0 col2\" >12000</td>\n",
              "      <td id=\"T_a8e4d_row0_col3\" class=\"data row0 col3\" >nan</td>\n",
              "      <td id=\"T_a8e4d_row0_col4\" class=\"data row0 col4\" >nan</td>\n",
              "    </tr>\n",
              "    <tr>\n",
              "      <td id=\"T_a8e4d_row1_col0\" class=\"data row1 col0\" >Accounts</td>\n",
              "      <td id=\"T_a8e4d_row1_col1\" class=\"data row1 col1\" >Mirza</td>\n",
              "      <td id=\"T_a8e4d_row1_col2\" class=\"data row1 col2\" >25000</td>\n",
              "      <td id=\"T_a8e4d_row1_col3\" class=\"data row1 col3\" >12000.000000</td>\n",
              "      <td id=\"T_a8e4d_row1_col4\" class=\"data row1 col4\" >13000.000000</td>\n",
              "    </tr>\n",
              "    <tr>\n",
              "      <td id=\"T_a8e4d_row2_col0\" class=\"data row2 col0\" >Accounts</td>\n",
              "      <td id=\"T_a8e4d_row2_col1\" class=\"data row2 col1\" >Dravid</td>\n",
              "      <td id=\"T_a8e4d_row2_col2\" class=\"data row2 col2\" >40000</td>\n",
              "      <td id=\"T_a8e4d_row2_col3\" class=\"data row2 col3\" >25000.000000</td>\n",
              "      <td id=\"T_a8e4d_row2_col4\" class=\"data row2 col4\" >15000.000000</td>\n",
              "    </tr>\n",
              "    <tr>\n",
              "      <td id=\"T_a8e4d_row3_col0\" class=\"data row3 col0\" >Corporate</td>\n",
              "      <td id=\"T_a8e4d_row3_col1\" class=\"data row3 col1\" >Karthikeyan</td>\n",
              "      <td id=\"T_a8e4d_row3_col2\" class=\"data row3 col2\" >40000</td>\n",
              "      <td id=\"T_a8e4d_row3_col3\" class=\"data row3 col3\" >nan</td>\n",
              "      <td id=\"T_a8e4d_row3_col4\" class=\"data row3 col4\" >nan</td>\n",
              "    </tr>\n",
              "    <tr>\n",
              "      <td id=\"T_a8e4d_row4_col0\" class=\"data row4 col0\" >Corporate</td>\n",
              "      <td id=\"T_a8e4d_row4_col1\" class=\"data row4 col1\" >Bacchan</td>\n",
              "      <td id=\"T_a8e4d_row4_col2\" class=\"data row4 col2\" >50000</td>\n",
              "      <td id=\"T_a8e4d_row4_col3\" class=\"data row4 col3\" >40000.000000</td>\n",
              "      <td id=\"T_a8e4d_row4_col4\" class=\"data row4 col4\" >10000.000000</td>\n",
              "    </tr>\n",
              "    <tr>\n",
              "      <td id=\"T_a8e4d_row5_col0\" class=\"data row5 col0\" >Corporate</td>\n",
              "      <td id=\"T_a8e4d_row5_col1\" class=\"data row5 col1\" >Ganesan</td>\n",
              "      <td id=\"T_a8e4d_row5_col2\" class=\"data row5 col2\" >60000</td>\n",
              "      <td id=\"T_a8e4d_row5_col3\" class=\"data row5 col3\" >50000.000000</td>\n",
              "      <td id=\"T_a8e4d_row5_col4\" class=\"data row5 col4\" >10000.000000</td>\n",
              "    </tr>\n",
              "    <tr>\n",
              "      <td id=\"T_a8e4d_row6_col0\" class=\"data row6 col0\" >Production</td>\n",
              "      <td id=\"T_a8e4d_row6_col1\" class=\"data row6 col1\" >Dhoni</td>\n",
              "      <td id=\"T_a8e4d_row6_col2\" class=\"data row6 col2\" >9000</td>\n",
              "      <td id=\"T_a8e4d_row6_col3\" class=\"data row6 col3\" >nan</td>\n",
              "      <td id=\"T_a8e4d_row6_col4\" class=\"data row6 col4\" >nan</td>\n",
              "    </tr>\n",
              "    <tr>\n",
              "      <td id=\"T_a8e4d_row7_col0\" class=\"data row7 col0\" >Production</td>\n",
              "      <td id=\"T_a8e4d_row7_col1\" class=\"data row7 col1\" >Ganguly</td>\n",
              "      <td id=\"T_a8e4d_row7_col2\" class=\"data row7 col2\" >20000</td>\n",
              "      <td id=\"T_a8e4d_row7_col3\" class=\"data row7 col3\" >9000.000000</td>\n",
              "      <td id=\"T_a8e4d_row7_col4\" class=\"data row7 col4\" >11000.000000</td>\n",
              "    </tr>\n",
              "    <tr>\n",
              "      <td id=\"T_a8e4d_row8_col0\" class=\"data row8 col0\" >Production</td>\n",
              "      <td id=\"T_a8e4d_row8_col1\" class=\"data row8 col1\" >Mukherjee</td>\n",
              "      <td id=\"T_a8e4d_row8_col2\" class=\"data row8 col2\" >25000</td>\n",
              "      <td id=\"T_a8e4d_row8_col3\" class=\"data row8 col3\" >20000.000000</td>\n",
              "      <td id=\"T_a8e4d_row8_col4\" class=\"data row8 col4\" >5000.000000</td>\n",
              "    </tr>\n",
              "    <tr>\n",
              "      <td id=\"T_a8e4d_row9_col0\" class=\"data row9 col0\" >Sales</td>\n",
              "      <td id=\"T_a8e4d_row9_col1\" class=\"data row9 col1\" >Dikshit</td>\n",
              "      <td id=\"T_a8e4d_row9_col2\" class=\"data row9 col2\" >10000</td>\n",
              "      <td id=\"T_a8e4d_row9_col3\" class=\"data row9 col3\" >nan</td>\n",
              "      <td id=\"T_a8e4d_row9_col4\" class=\"data row9 col4\" >nan</td>\n",
              "    </tr>\n",
              "    <tr>\n",
              "      <td id=\"T_a8e4d_row10_col0\" class=\"data row10 col0\" >Sales</td>\n",
              "      <td id=\"T_a8e4d_row10_col1\" class=\"data row10 col1\" >Sehwag</td>\n",
              "      <td id=\"T_a8e4d_row10_col2\" class=\"data row10 col2\" >15000</td>\n",
              "      <td id=\"T_a8e4d_row10_col3\" class=\"data row10 col3\" >10000.000000</td>\n",
              "      <td id=\"T_a8e4d_row10_col4\" class=\"data row10 col4\" >5000.000000</td>\n",
              "    </tr>\n",
              "    <tr>\n",
              "      <td id=\"T_a8e4d_row11_col0\" class=\"data row11 col0\" >Sales</td>\n",
              "      <td id=\"T_a8e4d_row11_col1\" class=\"data row11 col1\" >Khan</td>\n",
              "      <td id=\"T_a8e4d_row11_col2\" class=\"data row11 col2\" >30000</td>\n",
              "      <td id=\"T_a8e4d_row11_col3\" class=\"data row11 col3\" >15000.000000</td>\n",
              "      <td id=\"T_a8e4d_row11_col4\" class=\"data row11 col4\" >15000.000000</td>\n",
              "    </tr>\n",
              "  </tbody>\n",
              "</table>\n"
            ]
          },
          "metadata": {},
          "execution_count": 66
        }
      ]
    },
    {
      "cell_type": "markdown",
      "source": [
        "#Transpose / Pivot\n",
        "https://www.sqlshack.com/how-to-use-the-crosstab-function-in-postgresql/"
      ],
      "metadata": {
        "id": "V6Bt-yTXSITF"
      }
    },
    {
      "cell_type": "code",
      "source": [
        "!psql -h localhost -p 5432 -Uupraxis -ddbpraxis -c \"create extension tablefunc;\""
      ],
      "metadata": {
        "colab": {
          "base_uri": "https://localhost:8080/"
        },
        "id": "ZgVgr1DfYs_R",
        "outputId": "694d4953-7c64-4e27-f23d-06d3cd25621f"
      },
      "execution_count": 67,
      "outputs": [
        {
          "output_type": "stream",
          "name": "stdout",
          "text": [
            "CREATE EXTENSION\n"
          ]
        }
      ]
    },
    {
      "cell_type": "code",
      "source": [
        "runSelect('select * from dept')"
      ],
      "metadata": {
        "colab": {
          "base_uri": "https://localhost:8080/",
          "height": 206
        },
        "id": "Sa9IpGXwSKWe",
        "outputId": "cfcd2205-fe4e-444c-92bc-8dbfc0f8f19b"
      },
      "execution_count": 68,
      "outputs": [
        {
          "output_type": "execute_result",
          "data": {
            "text/plain": [
              "<pandas.io.formats.style.Styler at 0x7981e54c6950>"
            ],
            "text/html": [
              "<style type=\"text/css\">\n",
              "</style>\n",
              "<table id=\"T_3977a\" class=\"dataframe\">\n",
              "  <thead>\n",
              "    <tr>\n",
              "      <th id=\"T_3977a_level0_col0\" class=\"col_heading level0 col0\" >deptid</th>\n",
              "      <th id=\"T_3977a_level0_col1\" class=\"col_heading level0 col1\" >deptname</th>\n",
              "      <th id=\"T_3977a_level0_col2\" class=\"col_heading level0 col2\" >managerid</th>\n",
              "      <th id=\"T_3977a_level0_col3\" class=\"col_heading level0 col3\" >location</th>\n",
              "      <th id=\"T_3977a_level0_col4\" class=\"col_heading level0 col4\" >locationid</th>\n",
              "    </tr>\n",
              "  </thead>\n",
              "  <tbody>\n",
              "    <tr>\n",
              "      <td id=\"T_3977a_row0_col0\" class=\"data row0 col0\" >10</td>\n",
              "      <td id=\"T_3977a_row0_col1\" class=\"data row0 col1\" >Corporate</td>\n",
              "      <td id=\"T_3977a_row0_col2\" class=\"data row0 col2\" >299034</td>\n",
              "      <td id=\"T_3977a_row0_col3\" class=\"data row0 col3\" >Calcutta</td>\n",
              "      <td id=\"T_3977a_row0_col4\" class=\"data row0 col4\" >1</td>\n",
              "    </tr>\n",
              "    <tr>\n",
              "      <td id=\"T_3977a_row1_col0\" class=\"data row1 col0\" >20</td>\n",
              "      <td id=\"T_3977a_row1_col1\" class=\"data row1 col1\" >Sales</td>\n",
              "      <td id=\"T_3977a_row1_col2\" class=\"data row1 col2\" >239456</td>\n",
              "      <td id=\"T_3977a_row1_col3\" class=\"data row1 col3\" >Calcutta</td>\n",
              "      <td id=\"T_3977a_row1_col4\" class=\"data row1 col4\" >1</td>\n",
              "    </tr>\n",
              "    <tr>\n",
              "      <td id=\"T_3977a_row2_col0\" class=\"data row2 col0\" >30</td>\n",
              "      <td id=\"T_3977a_row2_col1\" class=\"data row2 col1\" >Accounts</td>\n",
              "      <td id=\"T_3977a_row2_col2\" class=\"data row2 col2\" >822134</td>\n",
              "      <td id=\"T_3977a_row2_col3\" class=\"data row2 col3\" >Calcutta</td>\n",
              "      <td id=\"T_3977a_row2_col4\" class=\"data row2 col4\" >1</td>\n",
              "    </tr>\n",
              "    <tr>\n",
              "      <td id=\"T_3977a_row3_col0\" class=\"data row3 col0\" >40</td>\n",
              "      <td id=\"T_3977a_row3_col1\" class=\"data row3 col1\" >Production</td>\n",
              "      <td id=\"T_3977a_row3_col2\" class=\"data row3 col2\" >349870</td>\n",
              "      <td id=\"T_3977a_row3_col3\" class=\"data row3 col3\" >Bombay</td>\n",
              "      <td id=\"T_3977a_row3_col4\" class=\"data row3 col4\" >2</td>\n",
              "    </tr>\n",
              "    <tr>\n",
              "      <td id=\"T_3977a_row4_col0\" class=\"data row4 col0\" >60</td>\n",
              "      <td id=\"T_3977a_row4_col1\" class=\"data row4 col1\" >Research</td>\n",
              "      <td id=\"T_3977a_row4_col2\" class=\"data row4 col2\" >546224</td>\n",
              "      <td id=\"T_3977a_row4_col3\" class=\"data row4 col3\" >Delhi</td>\n",
              "      <td id=\"T_3977a_row4_col4\" class=\"data row4 col4\" >3</td>\n",
              "    </tr>\n",
              "  </tbody>\n",
              "</table>\n"
            ]
          },
          "metadata": {},
          "execution_count": 68
        }
      ]
    },
    {
      "cell_type": "code",
      "source": [
        "sql = \"\\\n",
        "select * from \\\n",
        "crosstab('select location::text,locationid::text,deptname::text from dept order by 1,2') as locations \\\n",
        "(location text, dep1 text, dep2 text, dep3 text, dep4 text)\\\n",
        "\"\n",
        "runSelect(sql)"
      ],
      "metadata": {
        "colab": {
          "base_uri": "https://localhost:8080/",
          "height": 143
        },
        "id": "Iukqh6TRVo-9",
        "outputId": "3a1fb03d-272e-43be-e7f7-abec8226d991"
      },
      "execution_count": 69,
      "outputs": [
        {
          "output_type": "execute_result",
          "data": {
            "text/plain": [
              "<pandas.io.formats.style.Styler at 0x79820be3ef80>"
            ],
            "text/html": [
              "<style type=\"text/css\">\n",
              "</style>\n",
              "<table id=\"T_53cb9\" class=\"dataframe\">\n",
              "  <thead>\n",
              "    <tr>\n",
              "      <th id=\"T_53cb9_level0_col0\" class=\"col_heading level0 col0\" >location</th>\n",
              "      <th id=\"T_53cb9_level0_col1\" class=\"col_heading level0 col1\" >dep1</th>\n",
              "      <th id=\"T_53cb9_level0_col2\" class=\"col_heading level0 col2\" >dep2</th>\n",
              "      <th id=\"T_53cb9_level0_col3\" class=\"col_heading level0 col3\" >dep3</th>\n",
              "      <th id=\"T_53cb9_level0_col4\" class=\"col_heading level0 col4\" >dep4</th>\n",
              "    </tr>\n",
              "  </thead>\n",
              "  <tbody>\n",
              "    <tr>\n",
              "      <td id=\"T_53cb9_row0_col0\" class=\"data row0 col0\" >Bombay</td>\n",
              "      <td id=\"T_53cb9_row0_col1\" class=\"data row0 col1\" >Production</td>\n",
              "      <td id=\"T_53cb9_row0_col2\" class=\"data row0 col2\" >None</td>\n",
              "      <td id=\"T_53cb9_row0_col3\" class=\"data row0 col3\" >None</td>\n",
              "      <td id=\"T_53cb9_row0_col4\" class=\"data row0 col4\" >None</td>\n",
              "    </tr>\n",
              "    <tr>\n",
              "      <td id=\"T_53cb9_row1_col0\" class=\"data row1 col0\" >Calcutta</td>\n",
              "      <td id=\"T_53cb9_row1_col1\" class=\"data row1 col1\" >Corporate</td>\n",
              "      <td id=\"T_53cb9_row1_col2\" class=\"data row1 col2\" >Sales</td>\n",
              "      <td id=\"T_53cb9_row1_col3\" class=\"data row1 col3\" >Accounts</td>\n",
              "      <td id=\"T_53cb9_row1_col4\" class=\"data row1 col4\" >None</td>\n",
              "    </tr>\n",
              "    <tr>\n",
              "      <td id=\"T_53cb9_row2_col0\" class=\"data row2 col0\" >Delhi</td>\n",
              "      <td id=\"T_53cb9_row2_col1\" class=\"data row2 col1\" >Research</td>\n",
              "      <td id=\"T_53cb9_row2_col2\" class=\"data row2 col2\" >None</td>\n",
              "      <td id=\"T_53cb9_row2_col3\" class=\"data row2 col3\" >None</td>\n",
              "      <td id=\"T_53cb9_row2_col4\" class=\"data row2 col4\" >None</td>\n",
              "    </tr>\n",
              "  </tbody>\n",
              "</table>\n"
            ]
          },
          "metadata": {},
          "execution_count": 69
        }
      ]
    },
    {
      "cell_type": "markdown",
      "source": [
        "# Insert | Delete | Update"
      ],
      "metadata": {
        "id": "REcqZ7K0DYqi"
      }
    },
    {
      "cell_type": "code",
      "source": [
        "runSelect(\"select * from dept\")"
      ],
      "metadata": {
        "id": "xGgCH9vGDlsI",
        "outputId": "28b557b9-b125-4bb4-d18c-b01ed14ee496",
        "colab": {
          "base_uri": "https://localhost:8080/",
          "height": 206
        }
      },
      "execution_count": 70,
      "outputs": [
        {
          "output_type": "execute_result",
          "data": {
            "text/plain": [
              "<pandas.io.formats.style.Styler at 0x7981e5843dc0>"
            ],
            "text/html": [
              "<style type=\"text/css\">\n",
              "</style>\n",
              "<table id=\"T_5499e\" class=\"dataframe\">\n",
              "  <thead>\n",
              "    <tr>\n",
              "      <th id=\"T_5499e_level0_col0\" class=\"col_heading level0 col0\" >deptid</th>\n",
              "      <th id=\"T_5499e_level0_col1\" class=\"col_heading level0 col1\" >deptname</th>\n",
              "      <th id=\"T_5499e_level0_col2\" class=\"col_heading level0 col2\" >managerid</th>\n",
              "      <th id=\"T_5499e_level0_col3\" class=\"col_heading level0 col3\" >location</th>\n",
              "      <th id=\"T_5499e_level0_col4\" class=\"col_heading level0 col4\" >locationid</th>\n",
              "    </tr>\n",
              "  </thead>\n",
              "  <tbody>\n",
              "    <tr>\n",
              "      <td id=\"T_5499e_row0_col0\" class=\"data row0 col0\" >10</td>\n",
              "      <td id=\"T_5499e_row0_col1\" class=\"data row0 col1\" >Corporate</td>\n",
              "      <td id=\"T_5499e_row0_col2\" class=\"data row0 col2\" >299034</td>\n",
              "      <td id=\"T_5499e_row0_col3\" class=\"data row0 col3\" >Calcutta</td>\n",
              "      <td id=\"T_5499e_row0_col4\" class=\"data row0 col4\" >1</td>\n",
              "    </tr>\n",
              "    <tr>\n",
              "      <td id=\"T_5499e_row1_col0\" class=\"data row1 col0\" >20</td>\n",
              "      <td id=\"T_5499e_row1_col1\" class=\"data row1 col1\" >Sales</td>\n",
              "      <td id=\"T_5499e_row1_col2\" class=\"data row1 col2\" >239456</td>\n",
              "      <td id=\"T_5499e_row1_col3\" class=\"data row1 col3\" >Calcutta</td>\n",
              "      <td id=\"T_5499e_row1_col4\" class=\"data row1 col4\" >1</td>\n",
              "    </tr>\n",
              "    <tr>\n",
              "      <td id=\"T_5499e_row2_col0\" class=\"data row2 col0\" >30</td>\n",
              "      <td id=\"T_5499e_row2_col1\" class=\"data row2 col1\" >Accounts</td>\n",
              "      <td id=\"T_5499e_row2_col2\" class=\"data row2 col2\" >822134</td>\n",
              "      <td id=\"T_5499e_row2_col3\" class=\"data row2 col3\" >Calcutta</td>\n",
              "      <td id=\"T_5499e_row2_col4\" class=\"data row2 col4\" >1</td>\n",
              "    </tr>\n",
              "    <tr>\n",
              "      <td id=\"T_5499e_row3_col0\" class=\"data row3 col0\" >40</td>\n",
              "      <td id=\"T_5499e_row3_col1\" class=\"data row3 col1\" >Production</td>\n",
              "      <td id=\"T_5499e_row3_col2\" class=\"data row3 col2\" >349870</td>\n",
              "      <td id=\"T_5499e_row3_col3\" class=\"data row3 col3\" >Bombay</td>\n",
              "      <td id=\"T_5499e_row3_col4\" class=\"data row3 col4\" >2</td>\n",
              "    </tr>\n",
              "    <tr>\n",
              "      <td id=\"T_5499e_row4_col0\" class=\"data row4 col0\" >60</td>\n",
              "      <td id=\"T_5499e_row4_col1\" class=\"data row4 col1\" >Research</td>\n",
              "      <td id=\"T_5499e_row4_col2\" class=\"data row4 col2\" >546224</td>\n",
              "      <td id=\"T_5499e_row4_col3\" class=\"data row4 col3\" >Delhi</td>\n",
              "      <td id=\"T_5499e_row4_col4\" class=\"data row4 col4\" >3</td>\n",
              "    </tr>\n",
              "  </tbody>\n",
              "</table>\n"
            ]
          },
          "metadata": {},
          "execution_count": 70
        }
      ]
    },
    {
      "cell_type": "code",
      "source": [
        "runCmd(\"insert into Dept (DeptID, DeptName, ManagerID, Location,LocationID) VALUES \\\n",
        "\t('11', 'Corporate2', '299035', 'Calcutta','1')\")\n",
        "runSelect(\"select * from dept\")"
      ],
      "metadata": {
        "id": "iyW0EobdDuMY",
        "outputId": "5ce3b24c-f264-43dc-cce8-9ccb57680e3c",
        "colab": {
          "base_uri": "https://localhost:8080/",
          "height": 255
        }
      },
      "execution_count": 71,
      "outputs": [
        {
          "output_type": "stream",
          "name": "stdout",
          "text": [
            "Command executed\n"
          ]
        },
        {
          "output_type": "execute_result",
          "data": {
            "text/plain": [
              "<pandas.io.formats.style.Styler at 0x7981e54bae00>"
            ],
            "text/html": [
              "<style type=\"text/css\">\n",
              "</style>\n",
              "<table id=\"T_acaeb\" class=\"dataframe\">\n",
              "  <thead>\n",
              "    <tr>\n",
              "      <th id=\"T_acaeb_level0_col0\" class=\"col_heading level0 col0\" >deptid</th>\n",
              "      <th id=\"T_acaeb_level0_col1\" class=\"col_heading level0 col1\" >deptname</th>\n",
              "      <th id=\"T_acaeb_level0_col2\" class=\"col_heading level0 col2\" >managerid</th>\n",
              "      <th id=\"T_acaeb_level0_col3\" class=\"col_heading level0 col3\" >location</th>\n",
              "      <th id=\"T_acaeb_level0_col4\" class=\"col_heading level0 col4\" >locationid</th>\n",
              "    </tr>\n",
              "  </thead>\n",
              "  <tbody>\n",
              "    <tr>\n",
              "      <td id=\"T_acaeb_row0_col0\" class=\"data row0 col0\" >10</td>\n",
              "      <td id=\"T_acaeb_row0_col1\" class=\"data row0 col1\" >Corporate</td>\n",
              "      <td id=\"T_acaeb_row0_col2\" class=\"data row0 col2\" >299034</td>\n",
              "      <td id=\"T_acaeb_row0_col3\" class=\"data row0 col3\" >Calcutta</td>\n",
              "      <td id=\"T_acaeb_row0_col4\" class=\"data row0 col4\" >1</td>\n",
              "    </tr>\n",
              "    <tr>\n",
              "      <td id=\"T_acaeb_row1_col0\" class=\"data row1 col0\" >20</td>\n",
              "      <td id=\"T_acaeb_row1_col1\" class=\"data row1 col1\" >Sales</td>\n",
              "      <td id=\"T_acaeb_row1_col2\" class=\"data row1 col2\" >239456</td>\n",
              "      <td id=\"T_acaeb_row1_col3\" class=\"data row1 col3\" >Calcutta</td>\n",
              "      <td id=\"T_acaeb_row1_col4\" class=\"data row1 col4\" >1</td>\n",
              "    </tr>\n",
              "    <tr>\n",
              "      <td id=\"T_acaeb_row2_col0\" class=\"data row2 col0\" >30</td>\n",
              "      <td id=\"T_acaeb_row2_col1\" class=\"data row2 col1\" >Accounts</td>\n",
              "      <td id=\"T_acaeb_row2_col2\" class=\"data row2 col2\" >822134</td>\n",
              "      <td id=\"T_acaeb_row2_col3\" class=\"data row2 col3\" >Calcutta</td>\n",
              "      <td id=\"T_acaeb_row2_col4\" class=\"data row2 col4\" >1</td>\n",
              "    </tr>\n",
              "    <tr>\n",
              "      <td id=\"T_acaeb_row3_col0\" class=\"data row3 col0\" >40</td>\n",
              "      <td id=\"T_acaeb_row3_col1\" class=\"data row3 col1\" >Production</td>\n",
              "      <td id=\"T_acaeb_row3_col2\" class=\"data row3 col2\" >349870</td>\n",
              "      <td id=\"T_acaeb_row3_col3\" class=\"data row3 col3\" >Bombay</td>\n",
              "      <td id=\"T_acaeb_row3_col4\" class=\"data row3 col4\" >2</td>\n",
              "    </tr>\n",
              "    <tr>\n",
              "      <td id=\"T_acaeb_row4_col0\" class=\"data row4 col0\" >60</td>\n",
              "      <td id=\"T_acaeb_row4_col1\" class=\"data row4 col1\" >Research</td>\n",
              "      <td id=\"T_acaeb_row4_col2\" class=\"data row4 col2\" >546224</td>\n",
              "      <td id=\"T_acaeb_row4_col3\" class=\"data row4 col3\" >Delhi</td>\n",
              "      <td id=\"T_acaeb_row4_col4\" class=\"data row4 col4\" >3</td>\n",
              "    </tr>\n",
              "    <tr>\n",
              "      <td id=\"T_acaeb_row5_col0\" class=\"data row5 col0\" >11</td>\n",
              "      <td id=\"T_acaeb_row5_col1\" class=\"data row5 col1\" >Corporate2</td>\n",
              "      <td id=\"T_acaeb_row5_col2\" class=\"data row5 col2\" >299035</td>\n",
              "      <td id=\"T_acaeb_row5_col3\" class=\"data row5 col3\" >Calcutta</td>\n",
              "      <td id=\"T_acaeb_row5_col4\" class=\"data row5 col4\" >1</td>\n",
              "    </tr>\n",
              "  </tbody>\n",
              "</table>\n"
            ]
          },
          "metadata": {},
          "execution_count": 71
        }
      ]
    },
    {
      "cell_type": "code",
      "source": [
        "runCmd(\"update dept set deptname = 'Marketing' where deptid = '11'\")\n",
        "runSelect(\"select * from dept\")"
      ],
      "metadata": {
        "id": "DqdnmD2pEQNq",
        "outputId": "faa85726-b31f-4e5b-9cbc-778d62198b04",
        "colab": {
          "base_uri": "https://localhost:8080/",
          "height": 255
        }
      },
      "execution_count": 72,
      "outputs": [
        {
          "output_type": "stream",
          "name": "stdout",
          "text": [
            "Command executed\n"
          ]
        },
        {
          "output_type": "execute_result",
          "data": {
            "text/plain": [
              "<pandas.io.formats.style.Styler at 0x7981e54430a0>"
            ],
            "text/html": [
              "<style type=\"text/css\">\n",
              "</style>\n",
              "<table id=\"T_0e368\" class=\"dataframe\">\n",
              "  <thead>\n",
              "    <tr>\n",
              "      <th id=\"T_0e368_level0_col0\" class=\"col_heading level0 col0\" >deptid</th>\n",
              "      <th id=\"T_0e368_level0_col1\" class=\"col_heading level0 col1\" >deptname</th>\n",
              "      <th id=\"T_0e368_level0_col2\" class=\"col_heading level0 col2\" >managerid</th>\n",
              "      <th id=\"T_0e368_level0_col3\" class=\"col_heading level0 col3\" >location</th>\n",
              "      <th id=\"T_0e368_level0_col4\" class=\"col_heading level0 col4\" >locationid</th>\n",
              "    </tr>\n",
              "  </thead>\n",
              "  <tbody>\n",
              "    <tr>\n",
              "      <td id=\"T_0e368_row0_col0\" class=\"data row0 col0\" >10</td>\n",
              "      <td id=\"T_0e368_row0_col1\" class=\"data row0 col1\" >Corporate</td>\n",
              "      <td id=\"T_0e368_row0_col2\" class=\"data row0 col2\" >299034</td>\n",
              "      <td id=\"T_0e368_row0_col3\" class=\"data row0 col3\" >Calcutta</td>\n",
              "      <td id=\"T_0e368_row0_col4\" class=\"data row0 col4\" >1</td>\n",
              "    </tr>\n",
              "    <tr>\n",
              "      <td id=\"T_0e368_row1_col0\" class=\"data row1 col0\" >20</td>\n",
              "      <td id=\"T_0e368_row1_col1\" class=\"data row1 col1\" >Sales</td>\n",
              "      <td id=\"T_0e368_row1_col2\" class=\"data row1 col2\" >239456</td>\n",
              "      <td id=\"T_0e368_row1_col3\" class=\"data row1 col3\" >Calcutta</td>\n",
              "      <td id=\"T_0e368_row1_col4\" class=\"data row1 col4\" >1</td>\n",
              "    </tr>\n",
              "    <tr>\n",
              "      <td id=\"T_0e368_row2_col0\" class=\"data row2 col0\" >30</td>\n",
              "      <td id=\"T_0e368_row2_col1\" class=\"data row2 col1\" >Accounts</td>\n",
              "      <td id=\"T_0e368_row2_col2\" class=\"data row2 col2\" >822134</td>\n",
              "      <td id=\"T_0e368_row2_col3\" class=\"data row2 col3\" >Calcutta</td>\n",
              "      <td id=\"T_0e368_row2_col4\" class=\"data row2 col4\" >1</td>\n",
              "    </tr>\n",
              "    <tr>\n",
              "      <td id=\"T_0e368_row3_col0\" class=\"data row3 col0\" >40</td>\n",
              "      <td id=\"T_0e368_row3_col1\" class=\"data row3 col1\" >Production</td>\n",
              "      <td id=\"T_0e368_row3_col2\" class=\"data row3 col2\" >349870</td>\n",
              "      <td id=\"T_0e368_row3_col3\" class=\"data row3 col3\" >Bombay</td>\n",
              "      <td id=\"T_0e368_row3_col4\" class=\"data row3 col4\" >2</td>\n",
              "    </tr>\n",
              "    <tr>\n",
              "      <td id=\"T_0e368_row4_col0\" class=\"data row4 col0\" >60</td>\n",
              "      <td id=\"T_0e368_row4_col1\" class=\"data row4 col1\" >Research</td>\n",
              "      <td id=\"T_0e368_row4_col2\" class=\"data row4 col2\" >546224</td>\n",
              "      <td id=\"T_0e368_row4_col3\" class=\"data row4 col3\" >Delhi</td>\n",
              "      <td id=\"T_0e368_row4_col4\" class=\"data row4 col4\" >3</td>\n",
              "    </tr>\n",
              "    <tr>\n",
              "      <td id=\"T_0e368_row5_col0\" class=\"data row5 col0\" >11</td>\n",
              "      <td id=\"T_0e368_row5_col1\" class=\"data row5 col1\" >Marketing</td>\n",
              "      <td id=\"T_0e368_row5_col2\" class=\"data row5 col2\" >299035</td>\n",
              "      <td id=\"T_0e368_row5_col3\" class=\"data row5 col3\" >Calcutta</td>\n",
              "      <td id=\"T_0e368_row5_col4\" class=\"data row5 col4\" >1</td>\n",
              "    </tr>\n",
              "  </tbody>\n",
              "</table>\n"
            ]
          },
          "metadata": {},
          "execution_count": 72
        }
      ]
    },
    {
      "cell_type": "code",
      "source": [
        "runCmd(\"delete from dept where deptid = '11'\")\n",
        "runSelect(\"select * from dept\")"
      ],
      "metadata": {
        "id": "nsnJnNrEF6iS",
        "outputId": "e355ab5b-305e-4366-f7ab-dade6f0e27a3",
        "colab": {
          "base_uri": "https://localhost:8080/",
          "height": 224
        }
      },
      "execution_count": 73,
      "outputs": [
        {
          "output_type": "stream",
          "name": "stdout",
          "text": [
            "Command executed\n"
          ]
        },
        {
          "output_type": "execute_result",
          "data": {
            "text/plain": [
              "<pandas.io.formats.style.Styler at 0x7981e567fac0>"
            ],
            "text/html": [
              "<style type=\"text/css\">\n",
              "</style>\n",
              "<table id=\"T_a4980\" class=\"dataframe\">\n",
              "  <thead>\n",
              "    <tr>\n",
              "      <th id=\"T_a4980_level0_col0\" class=\"col_heading level0 col0\" >deptid</th>\n",
              "      <th id=\"T_a4980_level0_col1\" class=\"col_heading level0 col1\" >deptname</th>\n",
              "      <th id=\"T_a4980_level0_col2\" class=\"col_heading level0 col2\" >managerid</th>\n",
              "      <th id=\"T_a4980_level0_col3\" class=\"col_heading level0 col3\" >location</th>\n",
              "      <th id=\"T_a4980_level0_col4\" class=\"col_heading level0 col4\" >locationid</th>\n",
              "    </tr>\n",
              "  </thead>\n",
              "  <tbody>\n",
              "    <tr>\n",
              "      <td id=\"T_a4980_row0_col0\" class=\"data row0 col0\" >10</td>\n",
              "      <td id=\"T_a4980_row0_col1\" class=\"data row0 col1\" >Corporate</td>\n",
              "      <td id=\"T_a4980_row0_col2\" class=\"data row0 col2\" >299034</td>\n",
              "      <td id=\"T_a4980_row0_col3\" class=\"data row0 col3\" >Calcutta</td>\n",
              "      <td id=\"T_a4980_row0_col4\" class=\"data row0 col4\" >1</td>\n",
              "    </tr>\n",
              "    <tr>\n",
              "      <td id=\"T_a4980_row1_col0\" class=\"data row1 col0\" >20</td>\n",
              "      <td id=\"T_a4980_row1_col1\" class=\"data row1 col1\" >Sales</td>\n",
              "      <td id=\"T_a4980_row1_col2\" class=\"data row1 col2\" >239456</td>\n",
              "      <td id=\"T_a4980_row1_col3\" class=\"data row1 col3\" >Calcutta</td>\n",
              "      <td id=\"T_a4980_row1_col4\" class=\"data row1 col4\" >1</td>\n",
              "    </tr>\n",
              "    <tr>\n",
              "      <td id=\"T_a4980_row2_col0\" class=\"data row2 col0\" >30</td>\n",
              "      <td id=\"T_a4980_row2_col1\" class=\"data row2 col1\" >Accounts</td>\n",
              "      <td id=\"T_a4980_row2_col2\" class=\"data row2 col2\" >822134</td>\n",
              "      <td id=\"T_a4980_row2_col3\" class=\"data row2 col3\" >Calcutta</td>\n",
              "      <td id=\"T_a4980_row2_col4\" class=\"data row2 col4\" >1</td>\n",
              "    </tr>\n",
              "    <tr>\n",
              "      <td id=\"T_a4980_row3_col0\" class=\"data row3 col0\" >40</td>\n",
              "      <td id=\"T_a4980_row3_col1\" class=\"data row3 col1\" >Production</td>\n",
              "      <td id=\"T_a4980_row3_col2\" class=\"data row3 col2\" >349870</td>\n",
              "      <td id=\"T_a4980_row3_col3\" class=\"data row3 col3\" >Bombay</td>\n",
              "      <td id=\"T_a4980_row3_col4\" class=\"data row3 col4\" >2</td>\n",
              "    </tr>\n",
              "    <tr>\n",
              "      <td id=\"T_a4980_row4_col0\" class=\"data row4 col0\" >60</td>\n",
              "      <td id=\"T_a4980_row4_col1\" class=\"data row4 col1\" >Research</td>\n",
              "      <td id=\"T_a4980_row4_col2\" class=\"data row4 col2\" >546224</td>\n",
              "      <td id=\"T_a4980_row4_col3\" class=\"data row4 col3\" >Delhi</td>\n",
              "      <td id=\"T_a4980_row4_col4\" class=\"data row4 col4\" >3</td>\n",
              "    </tr>\n",
              "  </tbody>\n",
              "</table>\n"
            ]
          },
          "metadata": {},
          "execution_count": 73
        }
      ]
    },
    {
      "cell_type": "code",
      "source": [
        "from datetime import datetime\n",
        "import pytz\n",
        "print('Last tested  ',datetime.now(pytz.timezone('Asia/Kolkata')))"
      ],
      "metadata": {
        "colab": {
          "base_uri": "https://localhost:8080/"
        },
        "id": "wjBXJVhM605H",
        "outputId": "7dd0f01b-710e-4f96-efd6-fad3e7bb4695"
      },
      "execution_count": 74,
      "outputs": [
        {
          "output_type": "stream",
          "name": "stdout",
          "text": [
            "Last tested   2024-01-04 05:56:44.770038+05:30\n"
          ]
        }
      ]
    },
    {
      "cell_type": "markdown",
      "source": [
        "#Chronobooks <br>\n",
        "Two science fiction novels by Prithwis Mukerjee. A dystopian Earth. A technocratic society managed by artificial intelligence. Escape and epiphany on Mars. Can man and machine, carbon and silicon explore and escape into other dimensions of existence? An Indic perspective rooted in Advaita Vedanta and the Divine Feminine.  [More information](http://bit.ly/chronobooks) <br>\n",
        "![alt text](https://github.com/Praxis-QR/RDWH/raw/main/images/CTCYFooter-1.png)"
      ],
      "metadata": {
        "id": "_gNiZpyW3AzJ"
      }
    }
  ]
}