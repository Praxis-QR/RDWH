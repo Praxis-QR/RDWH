{
  "nbformat": 4,
  "nbformat_minor": 0,
  "metadata": {
    "colab": {
      "name": "Cross Tab with OLAP Cube SQL - Superstore",
      "provenance": [],
      "include_colab_link": true
    },
    "kernelspec": {
      "name": "python3",
      "display_name": "Python 3"
    }
  },
  "cells": [
    {
      "cell_type": "markdown",
      "metadata": {
        "id": "view-in-github",
        "colab_type": "text"
      },
      "source": [
        "<a href=\"https://colab.research.google.com/github/Praxis-QR/RDWH/blob/main/Cross_Tab_with_OLAP_Cube_SQL_Superstore.ipynb\" target=\"_parent\"><img src=\"https://colab.research.google.com/assets/colab-badge.svg\" alt=\"Open In Colab\"/></a>"
      ]
    },
    {
      "cell_type": "markdown",
      "metadata": {
        "id": "bCIotTZFo-E4"
      },
      "source": [
        "![alt text](https://github.com/Praxis-QR/RDWH/raw/main/images/YantraJaalBanner.png)<br>\n",
        "\n",
        "\n",
        "<hr>\n",
        "\n",
        "[Prithwis Mukerjee](http://www.linkedin.com/in/prithwis)<br>"
      ]
    },
    {
      "cell_type": "markdown",
      "metadata": {
        "id": "55jmLDEpPoox"
      },
      "source": [
        "Reference : Please see [this slide deck](https://docs.google.com/presentation/d/1wQzZoHFo3NVk-dMTebHA4LH7B4KYmOfiSammjsSRGL0/edit?usp=sharing)"
      ]
    },
    {
      "cell_type": "markdown",
      "metadata": {
        "id": "MCb2Qk4Fpajc"
      },
      "source": [
        "#Install MySQL"
      ]
    },
    {
      "cell_type": "code",
      "metadata": {
        "id": "Lz9UOPeupctr",
        "colab": {
          "base_uri": "https://localhost:8080/"
        },
        "outputId": "4a34878d-1ef5-4179-c44c-4c46cd440594"
      },
      "source": [
        "!apt update > /dev/null\n",
        "!apt install -y  mysql-server > /dev/null\n",
        "!/etc/init.d/mysql restart\n",
        "!mysql --version\n"
      ],
      "execution_count": 1,
      "outputs": [
        {
          "output_type": "stream",
          "name": "stdout",
          "text": [
            "\n",
            "WARNING: apt does not have a stable CLI interface. Use with caution in scripts.\n",
            "\n",
            "\n",
            "WARNING: apt does not have a stable CLI interface. Use with caution in scripts.\n",
            "\n",
            " * Stopping MySQL database server mysqld\n",
            "   ...done.\n",
            " * Starting MySQL database server mysqld\n",
            "su: warning: cannot change directory to /nonexistent: No such file or directory\n",
            "   ...done.\n",
            "mysql  Ver 8.0.34-0ubuntu0.22.04.1 for Linux on x86_64 ((Ubuntu))\n"
          ]
        }
      ]
    },
    {
      "cell_type": "code",
      "source": [
        "!mysql -e 'create database praxisDB'\n",
        "!mysql -e 'show databases'"
      ],
      "metadata": {
        "id": "si485V23M2IB",
        "outputId": "a6bac103-440a-4b54-eb9f-9a71ba618d1d",
        "colab": {
          "base_uri": "https://localhost:8080/"
        }
      },
      "execution_count": 2,
      "outputs": [
        {
          "output_type": "stream",
          "name": "stdout",
          "text": [
            "+--------------------+\n",
            "| Database           |\n",
            "+--------------------+\n",
            "| information_schema |\n",
            "| mysql              |\n",
            "| performance_schema |\n",
            "| praxisDB           |\n",
            "| sys                |\n",
            "+--------------------+\n"
          ]
        }
      ]
    },
    {
      "cell_type": "markdown",
      "metadata": {
        "id": "ZGOv_BcWrHu0"
      },
      "source": [
        "#Create and Load Table"
      ]
    },
    {
      "cell_type": "code",
      "metadata": {
        "id": "GeM5mW4wrLdO",
        "colab": {
          "base_uri": "https://localhost:8080/"
        },
        "outputId": "2837fa8d-c17f-40c9-b76f-f603cd425401"
      },
      "source": [
        "!mysql praxisDB -e 'drop table if exists ss_order'\n",
        "# --------------------------------------------------------------\n",
        "!mysql praxisDB -e '\\\n",
        "CREATE TABLE IF NOT EXISTS ss_order (\\\n",
        "RowID int(4),\\\n",
        "OrderID char(14),OrderDate date,\\\n",
        "ShipDate date,ShipMode varchar(16),\\\n",
        "CustomerID char(8),CustomerName varchar(30),Segment varchar(20),\\\n",
        "Country varchar(30),City varchar(30),State varchar(30),PostalCode char(5),Region varchar(15) ,\\\n",
        "ProductID varchar(20), Category varchar(40), SubCategory varchar(40), ProductName varchar(200), \\\n",
        "Sales decimal(8,2), Quantity int(4), Discount decimal(4,2), Profit decimal(8,2) \\\n",
        "); \\\n",
        "'\n",
        "# --------------------------------------------------------------\n",
        "!mysql praxisDB -e 'show tables'\n"
      ],
      "execution_count": 3,
      "outputs": [
        {
          "output_type": "stream",
          "name": "stdout",
          "text": [
            "+--------------------+\n",
            "| Tables_in_praxisDB |\n",
            "+--------------------+\n",
            "| ss_order           |\n",
            "+--------------------+\n"
          ]
        }
      ]
    },
    {
      "cell_type": "code",
      "metadata": {
        "id": "cjlJW2el9VDw",
        "colab": {
          "base_uri": "https://localhost:8080/"
        },
        "outputId": "14639548-8d58-4c16-f917-4e758e15e55f"
      },
      "source": [
        "!mysql praxisDB -e 'desc ss_order'"
      ],
      "execution_count": 4,
      "outputs": [
        {
          "output_type": "stream",
          "name": "stdout",
          "text": [
            "+--------------+--------------+------+-----+---------+-------+\n",
            "| Field        | Type         | Null | Key | Default | Extra |\n",
            "+--------------+--------------+------+-----+---------+-------+\n",
            "| RowID        | int          | YES  |     | NULL    |       |\n",
            "| OrderID      | char(14)     | YES  |     | NULL    |       |\n",
            "| OrderDate    | date         | YES  |     | NULL    |       |\n",
            "| ShipDate     | date         | YES  |     | NULL    |       |\n",
            "| ShipMode     | varchar(16)  | YES  |     | NULL    |       |\n",
            "| CustomerID   | char(8)      | YES  |     | NULL    |       |\n",
            "| CustomerName | varchar(30)  | YES  |     | NULL    |       |\n",
            "| Segment      | varchar(20)  | YES  |     | NULL    |       |\n",
            "| Country      | varchar(30)  | YES  |     | NULL    |       |\n",
            "| City         | varchar(30)  | YES  |     | NULL    |       |\n",
            "| State        | varchar(30)  | YES  |     | NULL    |       |\n",
            "| PostalCode   | char(5)      | YES  |     | NULL    |       |\n",
            "| Region       | varchar(15)  | YES  |     | NULL    |       |\n",
            "| ProductID    | varchar(20)  | YES  |     | NULL    |       |\n",
            "| Category     | varchar(40)  | YES  |     | NULL    |       |\n",
            "| SubCategory  | varchar(40)  | YES  |     | NULL    |       |\n",
            "| ProductName  | varchar(200) | YES  |     | NULL    |       |\n",
            "| Sales        | decimal(8,2) | YES  |     | NULL    |       |\n",
            "| Quantity     | int          | YES  |     | NULL    |       |\n",
            "| Discount     | decimal(4,2) | YES  |     | NULL    |       |\n",
            "| Profit       | decimal(8,2) | YES  |     | NULL    |       |\n",
            "+--------------+--------------+------+-----+---------+-------+\n"
          ]
        }
      ]
    },
    {
      "cell_type": "markdown",
      "metadata": {
        "id": "PEuDXFoD6O3m"
      },
      "source": [
        "Super Store Order Data https://drive.google.com/file/d/13MKOpo8iD-tMkeMLw-4IPFi5-xWhmqFZ/view?usp=sharing <br>\n",
        "Original Data from [Tableau](https://community.tableau.com/docs/DOC-1236)"
      ]
    },
    {
      "cell_type": "code",
      "metadata": {
        "id": "joDEg9Tt6cHU"
      },
      "source": [
        "#!wget -O SS_Orders2.csv 'https://drive.google.com/uc?export=download&id=13MKOpo8iD-tMkeMLw-4IPFi5-xWhmqFZ'\n",
        "#!gdown https://drive.google.com/uc?id=13MKOpo8iD-tMkeMLw-4IPFi5-xWhmqFZ\n",
        "!wget -q -O SS_Orders.csv 'https://raw.githubusercontent.com/Praxis-QR/RDWH/main/data/SS_Orders.csv'"
      ],
      "execution_count": 5,
      "outputs": []
    },
    {
      "cell_type": "code",
      "metadata": {
        "id": "vAOQ5wLy-WgB"
      },
      "source": [
        "#!mysql praxisDB -e \"   \\\n",
        "#LOAD DATA LOCAL INFILE 'SS_Orders_1.csv' INTO TABLE ss_order \\\n",
        "#FIELDS TERMINATED BY ',' LINES TERMINATED BY '\\r\\n' IGNORE 1 LINES;  \\\n",
        "#\""
      ],
      "execution_count": null,
      "outputs": []
    },
    {
      "cell_type": "code",
      "source": [
        "# Allow LOAD on server side   # https://stackoverflow.com/questions/59993844/error-loading-local-data-is-disabled-this-must-be-enabled-on-both-the-client\n",
        "!mysql praxisDB -e 'SET GLOBAL local_infile=1;'"
      ],
      "metadata": {
        "id": "15oHwBtOhLG1"
      },
      "execution_count": 6,
      "outputs": []
    },
    {
      "cell_type": "code",
      "metadata": {
        "id": "BeK66dVE-t6r"
      },
      "source": [
        "!mysql --local-infile=1 praxisDB -e \"   \\\n",
        "LOAD DATA LOCAL INFILE 'SS_Orders.csv' INTO TABLE ss_order \\\n",
        "FIELDS TERMINATED BY ',' enclosed by '\\\"' IGNORE 1 LINES;  \\\n",
        "\""
      ],
      "execution_count": 7,
      "outputs": []
    },
    {
      "cell_type": "code",
      "metadata": {
        "id": "ppvWDJsi-jRa",
        "colab": {
          "base_uri": "https://localhost:8080/"
        },
        "outputId": "8ce38085-e6f8-4fb5-d797-1bdacf2532c5"
      },
      "source": [
        "!mysql praxisDB -e 'select count(*) from ss_order;'"
      ],
      "execution_count": 8,
      "outputs": [
        {
          "output_type": "stream",
          "name": "stdout",
          "text": [
            "+----------+\n",
            "| count(*) |\n",
            "+----------+\n",
            "|     9994 |\n",
            "+----------+\n"
          ]
        }
      ]
    },
    {
      "cell_type": "code",
      "metadata": {
        "id": "F5ODPKaz5bPI",
        "colab": {
          "base_uri": "https://localhost:8080/"
        },
        "outputId": "e24489c4-1b92-42ab-88cf-0023b9a6bbbc"
      },
      "source": [
        "!mysql praxisDB -e 'select * from ss_order limit 10'\n",
        "#the date data would not have loaded correctly"
      ],
      "execution_count": 9,
      "outputs": [
        {
          "output_type": "stream",
          "name": "stdout",
          "text": [
            "+-------+----------------+------------+------------+----------------+------------+-----------------+-----------+---------------+-----------------+------------+------------+--------+-----------------+-----------------+-------------+------------------------------------------------------------------+--------+----------+----------+---------+\n",
            "| RowID | OrderID        | OrderDate  | ShipDate   | ShipMode       | CustomerID | CustomerName    | Segment   | Country       | City            | State      | PostalCode | Region | ProductID       | Category        | SubCategory | ProductName                                                      | Sales  | Quantity | Discount | Profit  |\n",
            "+-------+----------------+------------+------------+----------------+------------+-----------------+-----------+---------------+-----------------+------------+------------+--------+-----------------+-----------------+-------------+------------------------------------------------------------------+--------+----------+----------+---------+\n",
            "|     1 | CA-2016-152156 | 0000-00-00 | 0000-00-00 | Second Class   | CG-12520   | Claire Gute     | Consumer  | United States | Henderson       | Kentucky   | 42420      | South  | FUR-BO-10001798 | Furniture       | Bookcases   | Bush Somerset Collection Bookcase                                | 261.96 |        2 |     0.00 |   41.91 |\n",
            "|     2 | CA-2016-152156 | 0000-00-00 | 0000-00-00 | Second Class   | CG-12520   | Claire Gute     | Consumer  | United States | Henderson       | Kentucky   | 42420      | South  | FUR-CH-10000454 | Furniture       | Chairs      | Hon Deluxe Fabric Upholstered Stacking Chairs, Rounded Back      | 731.94 |        3 |     0.00 |  219.58 |\n",
            "|     3 | CA-2016-138688 | 0000-00-00 | 0000-00-00 | Second Class   | DV-13045   | Darrin Van Huff | Corporate | United States | Los Angeles     | California | 90036      | West   | OFF-LA-10000240 | Office Supplies | Labels      | Self-Adhesive Address Labels for Typewriters by Universal        |  14.62 |        2 |     0.00 |    6.87 |\n",
            "|     4 | US-2015-108966 | 0000-00-00 | 0000-00-00 | Standard Class | SO-20335   | Sean O'Donnell  | Consumer  | United States | Fort Lauderdale | Florida    | 33311      | South  | FUR-TA-10000577 | Furniture       | Tables      | Bretford CR4500 Series Slim Rectangular Table                    | 957.58 |        5 |     0.45 | -383.03 |\n",
            "|     5 | US-2015-108966 | 0000-00-00 | 0000-00-00 | Standard Class | SO-20335   | Sean O'Donnell  | Consumer  | United States | Fort Lauderdale | Florida    | 33311      | South  | OFF-ST-10000760 | Office Supplies | Storage     | Eldon Fold 'N Roll Cart System                                   |  22.37 |        2 |     0.20 |    2.52 |\n",
            "|     6 | CA-2014-115812 | 0000-00-00 | 0000-00-00 | Standard Class | BH-11710   | Brosina Hoffman | Consumer  | United States | Los Angeles     | California | 90032      | West   | FUR-FU-10001487 | Furniture       | Furnishings | Eldon Expressions Wood and Plastic Desk Accessories, Cherry Wood |  48.86 |        7 |     0.00 |   14.17 |\n",
            "|     7 | CA-2014-115812 | 0000-00-00 | 0000-00-00 | Standard Class | BH-11710   | Brosina Hoffman | Consumer  | United States | Los Angeles     | California | 90032      | West   | OFF-AR-10002833 | Office Supplies | Art         | Newell 322                                                       |   7.28 |        4 |     0.00 |    1.97 |\n",
            "|     8 | CA-2014-115812 | 0000-00-00 | 0000-00-00 | Standard Class | BH-11710   | Brosina Hoffman | Consumer  | United States | Los Angeles     | California | 90032      | West   | TEC-PH-10002275 | Technology      | Phones      | Mitel 5320 IP Phone VoIP phone                                   | 907.15 |        6 |     0.20 |   90.72 |\n",
            "|     9 | CA-2014-115812 | 0000-00-00 | 0000-00-00 | Standard Class | BH-11710   | Brosina Hoffman | Consumer  | United States | Los Angeles     | California | 90032      | West   | OFF-BI-10003910 | Office Supplies | Binders     | DXL Angle-View Binders with Locking Rings by Samsill             |  18.50 |        3 |     0.20 |    5.78 |\n",
            "|    10 | CA-2014-115812 | 0000-00-00 | 0000-00-00 | Standard Class | BH-11710   | Brosina Hoffman | Consumer  | United States | Los Angeles     | California | 90032      | West   | OFF-AP-10002892 | Office Supplies | Appliances  | Belkin F5C206VTEL 6 Outlet Surge                                 | 114.90 |        5 |     0.00 |   34.47 |\n",
            "+-------+----------------+------------+------------+----------------+------------+-----------------+-----------+---------------+-----------------+------------+------------+--------+-----------------+-----------------+-------------+------------------------------------------------------------------+--------+----------+----------+---------+\n"
          ]
        }
      ]
    },
    {
      "cell_type": "markdown",
      "metadata": {
        "id": "H_-EF65V94kX"
      },
      "source": [
        "Let us fix the date loading error"
      ]
    },
    {
      "cell_type": "code",
      "metadata": {
        "id": "V7E_3txU4PgR",
        "outputId": "8268659c-7ad0-4e09-be0a-33e293a474ad",
        "colab": {
          "base_uri": "https://localhost:8080/"
        }
      },
      "source": [
        "!head SS_Orders.csv\n",
        "# note that date is dd/mm/yyyy format"
      ],
      "execution_count": 10,
      "outputs": [
        {
          "output_type": "stream",
          "name": "stdout",
          "text": [
            "Row ID,Order ID,Order Date,Ship Date,Ship Mode,Customer ID,Customer Name,Segment,Country,City,State,Postal Code,Region,Product ID,Category,Sub-Category,Product Name,Sales,Quantity,Discount,Profit\n",
            "1,CA-2016-152156,08/11/2016,11/11/2016,Second Class,CG-12520,Claire Gute,Consumer,United States,Henderson,Kentucky,42420,South,FUR-BO-10001798,Furniture,Bookcases,Bush Somerset Collection Bookcase,261.96,2,0,41.9136\n",
            "2,CA-2016-152156,08/11/2016,11/11/2016,Second Class,CG-12520,Claire Gute,Consumer,United States,Henderson,Kentucky,42420,South,FUR-CH-10000454,Furniture,Chairs,\"Hon Deluxe Fabric Upholstered Stacking Chairs, Rounded Back\",731.94,3,0,219.582\n",
            "3,CA-2016-138688,12/06/2016,16/06/2016,Second Class,DV-13045,Darrin Van Huff,Corporate,United States,Los Angeles,California,90036,West,OFF-LA-10000240,Office Supplies,Labels,Self-Adhesive Address Labels for Typewriters by Universal,14.62,2,0,6.8714\n",
            "4,US-2015-108966,11/10/2015,18/10/2015,Standard Class,SO-20335,Sean O'Donnell,Consumer,United States,Fort Lauderdale,Florida,33311,South,FUR-TA-10000577,Furniture,Tables,Bretford CR4500 Series Slim Rectangular Table,957.5775,5,0.45,-383.031\n",
            "5,US-2015-108966,11/10/2015,18/10/2015,Standard Class,SO-20335,Sean O'Donnell,Consumer,United States,Fort Lauderdale,Florida,33311,South,OFF-ST-10000760,Office Supplies,Storage,Eldon Fold 'N Roll Cart System,22.368,2,0.2,2.5164\n",
            "6,CA-2014-115812,09/06/2014,14/06/2014,Standard Class,BH-11710,Brosina Hoffman,Consumer,United States,Los Angeles,California,90032,West,FUR-FU-10001487,Furniture,Furnishings,\"Eldon Expressions Wood and Plastic Desk Accessories, Cherry Wood\",48.86,7,0,14.1694\n",
            "7,CA-2014-115812,09/06/2014,14/06/2014,Standard Class,BH-11710,Brosina Hoffman,Consumer,United States,Los Angeles,California,90032,West,OFF-AR-10002833,Office Supplies,Art,Newell 322,7.28,4,0,1.9656\n",
            "8,CA-2014-115812,09/06/2014,14/06/2014,Standard Class,BH-11710,Brosina Hoffman,Consumer,United States,Los Angeles,California,90032,West,TEC-PH-10002275,Technology,Phones,Mitel 5320 IP Phone VoIP phone,907.152,6,0.2,90.7152\n",
            "9,CA-2014-115812,09/06/2014,14/06/2014,Standard Class,BH-11710,Brosina Hoffman,Consumer,United States,Los Angeles,California,90032,West,OFF-BI-10003910,Office Supplies,Binders,DXL Angle-View Binders with Locking Rings by Samsill,18.504,3,0.2,5.7825\n"
          ]
        }
      ]
    },
    {
      "cell_type": "code",
      "metadata": {
        "id": "9qg9-5Wl5eYo",
        "outputId": "188a0940-172c-4b1f-c533-45efb8a2512b",
        "colab": {
          "base_uri": "https://localhost:8080/"
        }
      },
      "source": [
        "!mysql praxisDB -e \"truncate ss_order;\"\n",
        "!mysql praxisDB -e 'select count(*) from ss_order;'"
      ],
      "execution_count": 11,
      "outputs": [
        {
          "output_type": "stream",
          "name": "stdout",
          "text": [
            "+----------+\n",
            "| count(*) |\n",
            "+----------+\n",
            "|        0 |\n",
            "+----------+\n"
          ]
        }
      ]
    },
    {
      "cell_type": "code",
      "metadata": {
        "id": "lYYSLN2O9fAc"
      },
      "source": [
        "# see https://stackoverflow.com/questions/18927249/how-to-load-date-data-in-mysql-when-using-load-data\n",
        "#\n",
        "!mysql --local-infile=1 praxisDB -e \"   \\\n",
        "LOAD \\\n",
        "DATA LOCAL INFILE 'SS_Orders.csv' \\\n",
        "INTO TABLE ss_order \\\n",
        "FIELDS TERMINATED BY ',' \\\n",
        "enclosed by '\\\"' \\\n",
        "IGNORE 1 LINES  \\\n",
        "(RowID, OrderID, @OrderDate, @ShipDate, ShipMode, CustomerID, CustomerName, Segment, \\\n",
        " Country, City, State, PostalCode, Region, ProductID, Category, SubCategory, \\\n",
        " ProductName, Sales, Quantity, Discount, Profit) \\\n",
        "set \\\n",
        "OrderDate = str_to_date(@OrderDate, '%d/%m/%Y'), \\\n",
        "ShipDate = str_to_date(@ShipDate, '%d/%m/%Y'); \\\n",
        "\""
      ],
      "execution_count": 12,
      "outputs": []
    },
    {
      "cell_type": "code",
      "metadata": {
        "id": "wDqgwoUB-C_n",
        "outputId": "9294c810-d827-432e-be27-59796656a351",
        "colab": {
          "base_uri": "https://localhost:8080/"
        }
      },
      "source": [
        "!mysql praxisDB -e 'select * from ss_order limit 10'\n",
        "#the date data should have loaded correctly"
      ],
      "execution_count": 13,
      "outputs": [
        {
          "output_type": "stream",
          "name": "stdout",
          "text": [
            "+-------+----------------+------------+------------+----------------+------------+-----------------+-----------+---------------+-----------------+------------+------------+--------+-----------------+-----------------+-------------+------------------------------------------------------------------+--------+----------+----------+---------+\n",
            "| RowID | OrderID        | OrderDate  | ShipDate   | ShipMode       | CustomerID | CustomerName    | Segment   | Country       | City            | State      | PostalCode | Region | ProductID       | Category        | SubCategory | ProductName                                                      | Sales  | Quantity | Discount | Profit  |\n",
            "+-------+----------------+------------+------------+----------------+------------+-----------------+-----------+---------------+-----------------+------------+------------+--------+-----------------+-----------------+-------------+------------------------------------------------------------------+--------+----------+----------+---------+\n",
            "|     1 | CA-2016-152156 | 2016-11-08 | 2016-11-11 | Second Class   | CG-12520   | Claire Gute     | Consumer  | United States | Henderson       | Kentucky   | 42420      | South  | FUR-BO-10001798 | Furniture       | Bookcases   | Bush Somerset Collection Bookcase                                | 261.96 |        2 |     0.00 |   41.91 |\n",
            "|     2 | CA-2016-152156 | 2016-11-08 | 2016-11-11 | Second Class   | CG-12520   | Claire Gute     | Consumer  | United States | Henderson       | Kentucky   | 42420      | South  | FUR-CH-10000454 | Furniture       | Chairs      | Hon Deluxe Fabric Upholstered Stacking Chairs, Rounded Back      | 731.94 |        3 |     0.00 |  219.58 |\n",
            "|     3 | CA-2016-138688 | 2016-06-12 | 2016-06-16 | Second Class   | DV-13045   | Darrin Van Huff | Corporate | United States | Los Angeles     | California | 90036      | West   | OFF-LA-10000240 | Office Supplies | Labels      | Self-Adhesive Address Labels for Typewriters by Universal        |  14.62 |        2 |     0.00 |    6.87 |\n",
            "|     4 | US-2015-108966 | 2015-10-11 | 2015-10-18 | Standard Class | SO-20335   | Sean O'Donnell  | Consumer  | United States | Fort Lauderdale | Florida    | 33311      | South  | FUR-TA-10000577 | Furniture       | Tables      | Bretford CR4500 Series Slim Rectangular Table                    | 957.58 |        5 |     0.45 | -383.03 |\n",
            "|     5 | US-2015-108966 | 2015-10-11 | 2015-10-18 | Standard Class | SO-20335   | Sean O'Donnell  | Consumer  | United States | Fort Lauderdale | Florida    | 33311      | South  | OFF-ST-10000760 | Office Supplies | Storage     | Eldon Fold 'N Roll Cart System                                   |  22.37 |        2 |     0.20 |    2.52 |\n",
            "|     6 | CA-2014-115812 | 2014-06-09 | 2014-06-14 | Standard Class | BH-11710   | Brosina Hoffman | Consumer  | United States | Los Angeles     | California | 90032      | West   | FUR-FU-10001487 | Furniture       | Furnishings | Eldon Expressions Wood and Plastic Desk Accessories, Cherry Wood |  48.86 |        7 |     0.00 |   14.17 |\n",
            "|     7 | CA-2014-115812 | 2014-06-09 | 2014-06-14 | Standard Class | BH-11710   | Brosina Hoffman | Consumer  | United States | Los Angeles     | California | 90032      | West   | OFF-AR-10002833 | Office Supplies | Art         | Newell 322                                                       |   7.28 |        4 |     0.00 |    1.97 |\n",
            "|     8 | CA-2014-115812 | 2014-06-09 | 2014-06-14 | Standard Class | BH-11710   | Brosina Hoffman | Consumer  | United States | Los Angeles     | California | 90032      | West   | TEC-PH-10002275 | Technology      | Phones      | Mitel 5320 IP Phone VoIP phone                                   | 907.15 |        6 |     0.20 |   90.72 |\n",
            "|     9 | CA-2014-115812 | 2014-06-09 | 2014-06-14 | Standard Class | BH-11710   | Brosina Hoffman | Consumer  | United States | Los Angeles     | California | 90032      | West   | OFF-BI-10003910 | Office Supplies | Binders     | DXL Angle-View Binders with Locking Rings by Samsill             |  18.50 |        3 |     0.20 |    5.78 |\n",
            "|    10 | CA-2014-115812 | 2014-06-09 | 2014-06-14 | Standard Class | BH-11710   | Brosina Hoffman | Consumer  | United States | Los Angeles     | California | 90032      | West   | OFF-AP-10002892 | Office Supplies | Appliances  | Belkin F5C206VTEL 6 Outlet Surge                                 | 114.90 |        5 |     0.00 |   34.47 |\n",
            "+-------+----------------+------------+------------+----------------+------------+-----------------+-----------+---------------+-----------------+------------+------------+--------+-----------------+-----------------+-------------+------------------------------------------------------------------+--------+----------+----------+---------+\n"
          ]
        }
      ]
    },
    {
      "cell_type": "markdown",
      "metadata": {
        "id": "kWjbIZ51_GB3"
      },
      "source": [
        "# Basic Query"
      ]
    },
    {
      "cell_type": "code",
      "metadata": {
        "colab": {
          "base_uri": "https://localhost:8080/"
        },
        "id": "UdHx9EFXjy5U",
        "outputId": "f498499d-3a1b-4246-a42b-c5b4fcc157bf"
      },
      "source": [
        "!mysql praxisDB -e 'select count(Quantity) from ss_order;'"
      ],
      "execution_count": 14,
      "outputs": [
        {
          "output_type": "stream",
          "name": "stdout",
          "text": [
            "+-----------------+\n",
            "| count(Quantity) |\n",
            "+-----------------+\n",
            "|            9994 |\n",
            "+-----------------+\n"
          ]
        }
      ]
    },
    {
      "cell_type": "code",
      "metadata": {
        "id": "iUvAktJZcmM0"
      },
      "source": [
        "#!mysql praxisDB -e 'select count(*),sum(Quantity),Sum(Sales), Sum(Profit) from ss_order;'"
      ],
      "execution_count": null,
      "outputs": []
    },
    {
      "cell_type": "code",
      "metadata": {
        "id": "CO3RsRJZ_KMg",
        "colab": {
          "base_uri": "https://localhost:8080/"
        },
        "outputId": "31b1e04d-e3d7-46c4-e2c7-16b74ba18aa2"
      },
      "source": [
        "!mysql praxisDB -e 'select Category, Sum(Sales), Sum(Profit) from ss_order group by Category;'"
      ],
      "execution_count": 15,
      "outputs": [
        {
          "output_type": "stream",
          "name": "stdout",
          "text": [
            "+-----------------+------------+-------------+\n",
            "| Category        | Sum(Sales) | Sum(Profit) |\n",
            "+-----------------+------------+-------------+\n",
            "| Furniture       |  741999.98 |    18451.25 |\n",
            "| Office Supplies |  719046.99 |   122490.78 |\n",
            "| Technology      |  836154.10 |   145455.64 |\n",
            "+-----------------+------------+-------------+\n"
          ]
        }
      ]
    },
    {
      "cell_type": "code",
      "metadata": {
        "id": "lbHH8oaY_5o-",
        "colab": {
          "base_uri": "https://localhost:8080/"
        },
        "outputId": "7b0756a5-1598-4e35-952f-8c1b1dbf49d6"
      },
      "source": [
        "!mysql praxisDB -e 'select Region, Sum(Sales), Sum(Profit) from ss_order group by Region;'"
      ],
      "execution_count": 16,
      "outputs": [
        {
          "output_type": "stream",
          "name": "stdout",
          "text": [
            "+---------+------------+-------------+\n",
            "| Region  | Sum(Sales) | Sum(Profit) |\n",
            "+---------+------------+-------------+\n",
            "| South   |  391721.90 |    46749.69 |\n",
            "| West    |  725457.93 |   108418.74 |\n",
            "| Central |  501239.88 |    39706.44 |\n",
            "| East    |  678781.36 |    91522.80 |\n",
            "+---------+------------+-------------+\n"
          ]
        }
      ]
    },
    {
      "cell_type": "code",
      "metadata": {
        "id": "Cm0SRE-_AnaA",
        "colab": {
          "base_uri": "https://localhost:8080/"
        },
        "outputId": "26b2182c-f3f7-436a-e4b5-344bd051eef4"
      },
      "source": [
        "!mysql praxisDB -e 'select Segment, Sum(Sales), Sum(Profit) from ss_order group by Segment;'"
      ],
      "execution_count": 17,
      "outputs": [
        {
          "output_type": "stream",
          "name": "stdout",
          "text": [
            "+-------------+------------+-------------+\n",
            "| Segment     | Sum(Sales) | Sum(Profit) |\n",
            "+-------------+------------+-------------+\n",
            "| Consumer    | 1161401.34 |   134119.27 |\n",
            "| Corporate   |  706146.44 |    91979.41 |\n",
            "| Home Office |  429653.29 |    60298.99 |\n",
            "+-------------+------------+-------------+\n"
          ]
        }
      ]
    },
    {
      "cell_type": "markdown",
      "metadata": {
        "id": "vO2OFsfDBJn4"
      },
      "source": [
        "#Complex Query"
      ]
    },
    {
      "cell_type": "code",
      "metadata": {
        "id": "l7jEeWBiBMdC",
        "colab": {
          "base_uri": "https://localhost:8080/"
        },
        "outputId": "18779314-0e10-48dd-cb9d-b4111fed486a"
      },
      "source": [
        "!mysql praxisDB -e 'select Segment, Region, Sum(Sales) Sales from ss_order group by Segment, Region;'"
      ],
      "execution_count": 18,
      "outputs": [
        {
          "output_type": "stream",
          "name": "stdout",
          "text": [
            "+-------------+---------+-----------+\n",
            "| Segment     | Region  | Sales     |\n",
            "+-------------+---------+-----------+\n",
            "| Consumer    | South   | 195580.92 |\n",
            "| Corporate   | West    | 225855.25 |\n",
            "| Consumer    | West    | 362880.82 |\n",
            "| Home Office | Central |  91212.66 |\n",
            "| Consumer    | Central | 252031.43 |\n",
            "| Corporate   | Central | 157995.79 |\n",
            "| Consumer    | East    | 350908.17 |\n",
            "| Corporate   | South   | 121885.95 |\n",
            "| Corporate   | East    | 200409.45 |\n",
            "| Home Office | West    | 136721.86 |\n",
            "| Home Office | East    | 127463.74 |\n",
            "| Home Office | South   |  74255.03 |\n",
            "+-------------+---------+-----------+\n"
          ]
        }
      ]
    },
    {
      "cell_type": "code",
      "metadata": {
        "id": "BC0XUonvBkds",
        "colab": {
          "base_uri": "https://localhost:8080/"
        },
        "outputId": "4a86ee1d-5bd1-4ab7-902e-6e1d145f4c72"
      },
      "source": [
        "!mysql praxisDB -e 'select Segment, Region, Sum(Sales) Sales from ss_order group by Segment, Region with Rollup;'"
      ],
      "execution_count": 19,
      "outputs": [
        {
          "output_type": "stream",
          "name": "stdout",
          "text": [
            "+-------------+---------+------------+\n",
            "| Segment     | Region  | Sales      |\n",
            "+-------------+---------+------------+\n",
            "| Consumer    | Central |  252031.43 |\n",
            "| Consumer    | East    |  350908.17 |\n",
            "| Consumer    | South   |  195580.92 |\n",
            "| Consumer    | West    |  362880.82 |\n",
            "| Consumer    | NULL    | 1161401.34 |\n",
            "| Corporate   | Central |  157995.79 |\n",
            "| Corporate   | East    |  200409.45 |\n",
            "| Corporate   | South   |  121885.95 |\n",
            "| Corporate   | West    |  225855.25 |\n",
            "| Corporate   | NULL    |  706146.44 |\n",
            "| Home Office | Central |   91212.66 |\n",
            "| Home Office | East    |  127463.74 |\n",
            "| Home Office | South   |   74255.03 |\n",
            "| Home Office | West    |  136721.86 |\n",
            "| Home Office | NULL    |  429653.29 |\n",
            "| NULL        | NULL    | 2297201.07 |\n",
            "+-------------+---------+------------+\n"
          ]
        }
      ]
    },
    {
      "cell_type": "markdown",
      "metadata": {
        "id": "i8LYgwrKE7wR"
      },
      "source": [
        "#Cross Tab"
      ]
    },
    {
      "cell_type": "code",
      "source": [
        "!mysql praxisDB -e \"\\\n",
        "with sums as \\\n",
        "    (SELECT \\\n",
        "        Segment,\\\n",
        "        SUM(IF(Region='Central',Sales,0)) As 'Central',\\\n",
        "        SUM(IF(Region='East',Sales,0)) As 'East',\\\n",
        "        SUM(IF(Region='West',Sales,0)) As 'West',\\\n",
        "        SUM(IF(Region='South',Sales,0)) As 'South'\\\n",
        "    FROM ss_order \\\n",
        "    GROUP BY Segment WITH ROLLUP \\\n",
        "    ) \\\n",
        "SELECT \\\n",
        "  IFNULL(Segment,'Totals') 'Segment, Region', \\\n",
        "  sums.Central, sums.East, sums.West,sums.South,\\\n",
        "  sums.Central + sums.East + sums.West + sums.South Totals \\\n",
        "FROM  \\\n",
        "   sums \\\n",
        "\""
      ],
      "metadata": {
        "id": "g8CsI5_FNftX",
        "outputId": "b7b787c1-997b-4290-cb33-a1511267fc7e",
        "colab": {
          "base_uri": "https://localhost:8080/"
        }
      },
      "execution_count": 23,
      "outputs": [
        {
          "output_type": "stream",
          "name": "stdout",
          "text": [
            "+-----------------+-----------+-----------+-----------+-----------+------------+\n",
            "| Segment, Region | Central   | East      | West      | South     | Totals     |\n",
            "+-----------------+-----------+-----------+-----------+-----------+------------+\n",
            "| Consumer        | 252031.43 | 350908.17 | 362880.82 | 195580.92 | 1161401.34 |\n",
            "| Corporate       | 157995.79 | 200409.45 | 225855.25 | 121885.95 |  706146.44 |\n",
            "| Home Office     |  91212.66 | 127463.74 | 136721.86 |  74255.03 |  429653.29 |\n",
            "| Totals          | 501239.88 | 678781.36 | 725457.93 | 391721.90 | 2297201.07 |\n",
            "+-----------------+-----------+-----------+-----------+-----------+------------+\n"
          ]
        }
      ]
    },
    {
      "cell_type": "code",
      "source": [
        "!mysql praxisDB -e \"\\\n",
        "WITH sums as \\\n",
        "    (SELECT\\\n",
        "        Segment,\\\n",
        "        SUM(IF(Category='Furniture',Sales,0)) As 'Furniture',\\\n",
        "        SUM(IF(Category='Office Supplies',Sales,0)) As 'Office_Supplies',\\\n",
        "        SUM(IF(Category='Technology',Sales,0)) As 'Technology'\\\n",
        "    FROM ss_order \\\n",
        "    GROUP BY Segment WITH ROLLUP\\\n",
        "    ) \\\n",
        "SELECT \\\n",
        "  IFNULL(Segment,'Totals') AS 'Segment, Category', \\\n",
        "  sums.Furniture, sums.Office_Supplies, sums.Technology,\\\n",
        "  sums.Furniture + sums.Office_Supplies + sums.Technology AS Totals \\\n",
        "  FROM \\\n",
        "   sums \\\n",
        "\""
      ],
      "metadata": {
        "id": "HzcTwkakODeE",
        "outputId": "94b88723-5d83-48bf-efdc-35b42d9757b5",
        "colab": {
          "base_uri": "https://localhost:8080/"
        }
      },
      "execution_count": 24,
      "outputs": [
        {
          "output_type": "stream",
          "name": "stdout",
          "text": [
            "+-------------------+-----------+-----------------+------------+------------+\n",
            "| Segment, Category | Furniture | Office_Supplies | Technology | Totals     |\n",
            "+-------------------+-----------+-----------------+------------+------------+\n",
            "| Consumer          | 391049.43 |       363951.96 |  406399.95 | 1161401.34 |\n",
            "| Corporate         | 229019.83 |       230676.49 |  246450.12 |  706146.44 |\n",
            "| Home Office       | 121930.72 |       124418.54 |  183304.03 |  429653.29 |\n",
            "| Totals            | 741999.98 |       719046.99 |  836154.10 | 2297201.07 |\n",
            "+-------------------+-----------+-----------------+------------+------------+\n"
          ]
        }
      ]
    },
    {
      "cell_type": "code",
      "metadata": {
        "colab": {
          "base_uri": "https://localhost:8080/"
        },
        "id": "AhbbnH1mO5lR",
        "outputId": "16da6e1d-a71a-43f1-d54f-65d23662b70f"
      },
      "source": [
        "!mysql praxisDB -e \"\\\n",
        "SELECT\\\n",
        "\tSegment,\\\n",
        "\tSUM(IF(Category='Furniture',Sales,0)) As 'Furniture',\\\n",
        "\tSUM(IF(Category='Office Supplies',Sales,0)) As 'Office_Supplies',\\\n",
        "\tSUM(IF(Category='Technology',Sales,0)) As 'Technology'\\\n",
        "  FROM ss_order \\\n",
        "  GROUP BY Segment WITH ROLLUP\\\n",
        "  \""
      ],
      "execution_count": 36,
      "outputs": [
        {
          "output_type": "stream",
          "name": "stdout",
          "text": [
            "+-------------+-----------+-----------------+------------+\n",
            "| Segment     | Furniture | Office_Supplies | Technology |\n",
            "+-------------+-----------+-----------------+------------+\n",
            "| Consumer    | 391049.43 |       363951.96 |  406399.95 |\n",
            "| Corporate   | 229019.83 |       230676.49 |  246450.12 |\n",
            "| Home Office | 121930.72 |       124418.54 |  183304.03 |\n",
            "| NULL        | 741999.98 |       719046.99 |  836154.10 |\n",
            "+-------------+-----------+-----------------+------------+\n"
          ]
        }
      ]
    },
    {
      "cell_type": "markdown",
      "metadata": {
        "id": "PVGTtmGyuiga"
      },
      "source": [
        "##Cross Tabs in Python\n",
        "can we done wiht Pivot Tables as shown in this [Superstore Pivot](https://github.com/Praxis-QR/RDWH/blob/main/Pivot_Tables_for_OLAP_Cube_Python_Superstore.ipynb) Notebook"
      ]
    },
    {
      "cell_type": "markdown",
      "metadata": {
        "id": "azYOheyl6IdC"
      },
      "source": [
        "#Beyond Totals"
      ]
    },
    {
      "cell_type": "code",
      "source": [
        "!mysql praxisDB -e \"\\\n",
        "SELECT\\\n",
        "\tSegment,\\\n",
        "\tAVG(IF(Category='Furniture',Sales,0)) As 'Furniture',\\\n",
        "\tAVG(IF(Category='Office Supplies',Sales,0)) As 'Office_Supplies',\\\n",
        "\tAVG(IF(Category='Technology',Sales,0)) As 'Technology'\\\n",
        "  FROM ss_order \\\n",
        "  GROUP BY Segment WITH ROLLUP\\\n",
        "\""
      ],
      "metadata": {
        "id": "8XgsVV6RPTDR",
        "outputId": "931c85a1-02e6-4564-da56-28b40adbe068",
        "colab": {
          "base_uri": "https://localhost:8080/"
        }
      },
      "execution_count": 39,
      "outputs": [
        {
          "output_type": "stream",
          "name": "stdout",
          "text": [
            "+-------------+-----------+-----------------+------------+\n",
            "| Segment     | Furniture | Office_Supplies | Technology |\n",
            "+-------------+-----------+-----------------+------------+\n",
            "| Consumer    | 75.332196 |       70.112109 |  78.289337 |\n",
            "| Corporate   | 75.834381 |       76.382944 |  81.606000 |\n",
            "| Home Office | 68.385149 |       69.780449 | 102.806523 |\n",
            "| NULL        | 74.244545 |       71.947868 |  83.665609 |\n",
            "+-------------+-----------+-----------------+------------+\n"
          ]
        }
      ]
    },
    {
      "cell_type": "code",
      "source": [
        "!mysql praxisDB -e \"\\\n",
        "with ttemp as \\\n",
        "    (SELECT\\\n",
        "        Segment,\\\n",
        "        AVG(IF(Category='Furniture',Sales,0)) As 'Furniture',\\\n",
        "        AVG(IF(Category='Office Supplies',Sales,0)) As 'Office_Supplies',\\\n",
        "        AVG(IF(Category='Technology',Sales,0)) As 'Technology'\\\n",
        "    FROM ss_order \\\n",
        "    GROUP BY Segment WITH ROLLUP\\\n",
        "    ) \\\n",
        "SELECT \\\n",
        "  IFNULL(Segment,'Totals') AS 'Segment, Category',\\\n",
        "  ttemp.Furniture, ttemp.Office_Supplies, ttemp.Technology,\\\n",
        "  ttemp.Furniture + ttemp.Office_Supplies + ttemp.Technology AS Totals \\\n",
        "FROM \\\n",
        " ttemp \\\n",
        "\""
      ],
      "metadata": {
        "id": "yURHn3TZQ5SY",
        "outputId": "175e532b-8e06-49ab-cf37-4e7ef48918f7",
        "colab": {
          "base_uri": "https://localhost:8080/"
        }
      },
      "execution_count": 43,
      "outputs": [
        {
          "output_type": "stream",
          "name": "stdout",
          "text": [
            "+-------------------+-----------+-----------------+------------+------------+\n",
            "| Segment, Category | Furniture | Office_Supplies | Technology | Totals     |\n",
            "+-------------------+-----------+-----------------+------------+------------+\n",
            "| Consumer          | 75.332196 |       70.112109 |  78.289337 | 223.733642 |\n",
            "| Corporate         | 75.834381 |       76.382944 |  81.606000 | 233.823325 |\n",
            "| Home Office       | 68.385149 |       69.780449 | 102.806523 | 240.972121 |\n",
            "| Totals            | 74.244545 |       71.947868 |  83.665609 | 229.858022 |\n",
            "+-------------------+-----------+-----------------+------------+------------+\n"
          ]
        }
      ]
    },
    {
      "cell_type": "code",
      "source": [
        "from datetime import datetime\n",
        "import pytz\n",
        "print('Last tested  ',datetime.now(pytz.timezone('Asia/Calcutta')))"
      ],
      "metadata": {
        "id": "qZwK8GAaisGb",
        "outputId": "a466e859-8bbe-4317-f143-e53edc8068a6",
        "colab": {
          "base_uri": "https://localhost:8080/"
        }
      },
      "execution_count": 44,
      "outputs": [
        {
          "output_type": "stream",
          "name": "stdout",
          "text": [
            "Last tested   2023-08-20 10:21:04.207631+05:30\n"
          ]
        }
      ]
    },
    {
      "cell_type": "markdown",
      "metadata": {
        "id": "4phrtjaE_tyS"
      },
      "source": [
        "#Chronobooks <br>\n",
        "Two science fiction novels by Prithwis Mukerjee. A dystopian Earth. A technocratic society managed by artificial intelligence. Escape and epiphany on Mars. Can man and machine, carbon and silicon explore and escape into other dimensions of existence? An Indic perspective rooted in Advaita Vedanta and the Divine Feminine.  [More information](http://bit.ly/chronobooks) <br>\n",
        "![alt text](https://github.com/Praxis-QR/RDWH/raw/main/images/CTCYFooter-1.png)"
      ]
    }
  ]
}