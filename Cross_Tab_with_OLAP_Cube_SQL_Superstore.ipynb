{
  "nbformat": 4,
  "nbformat_minor": 0,
  "metadata": {
    "colab": {
      "name": "Cross Tab with OLAP Cube SQL - Superstore",
      "provenance": [],
      "include_colab_link": true
    },
    "kernelspec": {
      "name": "python3",
      "display_name": "Python 3"
    }
  },
  "cells": [
    {
      "cell_type": "markdown",
      "metadata": {
        "id": "view-in-github",
        "colab_type": "text"
      },
      "source": [
        "<a href=\"https://colab.research.google.com/github/Praxis-QR/RDWH/blob/main/Cross_Tab_with_OLAP_Cube_SQL_Superstore.ipynb\" target=\"_parent\"><img src=\"https://colab.research.google.com/assets/colab-badge.svg\" alt=\"Open In Colab\"/></a>"
      ]
    },
    {
      "cell_type": "markdown",
      "metadata": {
        "id": "bCIotTZFo-E4"
      },
      "source": [
        "![alt text](https://github.com/Praxis-QR/RDWH/raw/main/images/YantraJaalBanner.png)<br>\n",
        "\n",
        "\n",
        "<hr>\n",
        "\n",
        "[Prithwis Mukerjee](http://www.linkedin.com/in/prithwis)<br>"
      ]
    },
    {
      "cell_type": "markdown",
      "metadata": {
        "id": "55jmLDEpPoox"
      },
      "source": [
        "Reference : Please see [this slide deck](https://docs.google.com/presentation/d/1wQzZoHFo3NVk-dMTebHA4LH7B4KYmOfiSammjsSRGL0/edit?usp=sharing)"
      ]
    },
    {
      "cell_type": "markdown",
      "metadata": {
        "id": "MCb2Qk4Fpajc"
      },
      "source": [
        "#Install MySQL"
      ]
    },
    {
      "cell_type": "code",
      "metadata": {
        "id": "Lz9UOPeupctr",
        "colab": {
          "base_uri": "https://localhost:8080/"
        },
        "outputId": "5395b439-6ee5-4a34-87a6-00a92331c717"
      },
      "source": [
        "!apt update > /dev/null\n",
        "!apt install -y  mysql-server > /dev/null\n",
        "!/etc/init.d/mysql restart\n",
        "!mysql -e 'create database praxisDB'\n",
        "!mysql -e 'show databases'"
      ],
      "execution_count": 1,
      "outputs": [
        {
          "output_type": "stream",
          "name": "stdout",
          "text": [
            "\n",
            "WARNING: apt does not have a stable CLI interface. Use with caution in scripts.\n",
            "\n",
            "\n",
            "WARNING: apt does not have a stable CLI interface. Use with caution in scripts.\n",
            "\n",
            " * Stopping MySQL database server mysqld\n",
            "   ...done.\n",
            " * Starting MySQL database server mysqld\n",
            "su: warning: cannot change directory to /nonexistent: No such file or directory\n",
            "   ...done.\n",
            "+--------------------+\n",
            "| Database           |\n",
            "+--------------------+\n",
            "| information_schema |\n",
            "| mysql              |\n",
            "| performance_schema |\n",
            "| praxisDB           |\n",
            "| sys                |\n",
            "+--------------------+\n"
          ]
        }
      ]
    },
    {
      "cell_type": "markdown",
      "metadata": {
        "id": "ZGOv_BcWrHu0"
      },
      "source": [
        "#Create and Load Table"
      ]
    },
    {
      "cell_type": "code",
      "metadata": {
        "id": "GeM5mW4wrLdO",
        "colab": {
          "base_uri": "https://localhost:8080/"
        },
        "outputId": "5e342f16-d9fe-4df9-db67-b7fcb67ee64f"
      },
      "source": [
        "!mysql praxisDB -e 'drop table if exists ss_order'\n",
        "# --------------------------------------------------------------\n",
        "!mysql praxisDB -e '\\\n",
        "CREATE TABLE IF NOT EXISTS ss_order (\\\n",
        "RowID int(4),\\\n",
        "OrderID char(14),OrderDate date,\\\n",
        "ShipDate date,ShipMode varchar(16),\\\n",
        "CustomerID char(8),CustomerName varchar(30),Segment varchar(20),\\\n",
        "Country varchar(30),City varchar(30),State varchar(30),PostalCode char(5),Region varchar(15) ,\\\n",
        "ProductID varchar(20), Category varchar(40), SubCategory varchar(40), ProductName varchar(200), \\\n",
        "Sales decimal(8,2), Quantity int(4), Discount decimal(4,2), Profit decimal(8,2) \\\n",
        "); \\\n",
        "'\n",
        "# --------------------------------------------------------------\n",
        "!mysql praxisDB -e 'show tables'\n"
      ],
      "execution_count": 2,
      "outputs": [
        {
          "output_type": "stream",
          "name": "stdout",
          "text": [
            "+--------------------+\n",
            "| Tables_in_praxisDB |\n",
            "+--------------------+\n",
            "| ss_order           |\n",
            "+--------------------+\n"
          ]
        }
      ]
    },
    {
      "cell_type": "code",
      "metadata": {
        "id": "cjlJW2el9VDw",
        "colab": {
          "base_uri": "https://localhost:8080/"
        },
        "outputId": "1417585f-586c-498a-dd94-0c4611428954"
      },
      "source": [
        "!mysql praxisDB -e 'desc ss_order'"
      ],
      "execution_count": 3,
      "outputs": [
        {
          "output_type": "stream",
          "name": "stdout",
          "text": [
            "+--------------+--------------+------+-----+---------+-------+\n",
            "| Field        | Type         | Null | Key | Default | Extra |\n",
            "+--------------+--------------+------+-----+---------+-------+\n",
            "| RowID        | int          | YES  |     | NULL    |       |\n",
            "| OrderID      | char(14)     | YES  |     | NULL    |       |\n",
            "| OrderDate    | date         | YES  |     | NULL    |       |\n",
            "| ShipDate     | date         | YES  |     | NULL    |       |\n",
            "| ShipMode     | varchar(16)  | YES  |     | NULL    |       |\n",
            "| CustomerID   | char(8)      | YES  |     | NULL    |       |\n",
            "| CustomerName | varchar(30)  | YES  |     | NULL    |       |\n",
            "| Segment      | varchar(20)  | YES  |     | NULL    |       |\n",
            "| Country      | varchar(30)  | YES  |     | NULL    |       |\n",
            "| City         | varchar(30)  | YES  |     | NULL    |       |\n",
            "| State        | varchar(30)  | YES  |     | NULL    |       |\n",
            "| PostalCode   | char(5)      | YES  |     | NULL    |       |\n",
            "| Region       | varchar(15)  | YES  |     | NULL    |       |\n",
            "| ProductID    | varchar(20)  | YES  |     | NULL    |       |\n",
            "| Category     | varchar(40)  | YES  |     | NULL    |       |\n",
            "| SubCategory  | varchar(40)  | YES  |     | NULL    |       |\n",
            "| ProductName  | varchar(200) | YES  |     | NULL    |       |\n",
            "| Sales        | decimal(8,2) | YES  |     | NULL    |       |\n",
            "| Quantity     | int          | YES  |     | NULL    |       |\n",
            "| Discount     | decimal(4,2) | YES  |     | NULL    |       |\n",
            "| Profit       | decimal(8,2) | YES  |     | NULL    |       |\n",
            "+--------------+--------------+------+-----+---------+-------+\n"
          ]
        }
      ]
    },
    {
      "cell_type": "markdown",
      "metadata": {
        "id": "PEuDXFoD6O3m"
      },
      "source": [
        "Super Store Order Data https://drive.google.com/file/d/13MKOpo8iD-tMkeMLw-4IPFi5-xWhmqFZ/view?usp=sharing <br>\n",
        "Original Data from [Tableau](https://community.tableau.com/docs/DOC-1236)"
      ]
    },
    {
      "cell_type": "code",
      "metadata": {
        "id": "joDEg9Tt6cHU"
      },
      "source": [
        "#!wget -O SS_Orders2.csv 'https://drive.google.com/uc?export=download&id=13MKOpo8iD-tMkeMLw-4IPFi5-xWhmqFZ'\n",
        "#!gdown https://drive.google.com/uc?id=13MKOpo8iD-tMkeMLw-4IPFi5-xWhmqFZ\n",
        "!wget -q -O SS_Orders.csv 'https://raw.githubusercontent.com/Praxis-QR/RDWH/main/data/SS_Orders.csv'"
      ],
      "execution_count": 4,
      "outputs": []
    },
    {
      "cell_type": "code",
      "metadata": {
        "id": "vAOQ5wLy-WgB"
      },
      "source": [
        "#!mysql praxisDB -e \"   \\\n",
        "#LOAD DATA LOCAL INFILE 'SS_Orders_1.csv' INTO TABLE ss_order \\\n",
        "#FIELDS TERMINATED BY ',' LINES TERMINATED BY '\\r\\n' IGNORE 1 LINES;  \\\n",
        "#\""
      ],
      "execution_count": 5,
      "outputs": []
    },
    {
      "cell_type": "code",
      "source": [
        "# Allow LOAD on server side   # https://stackoverflow.com/questions/59993844/error-loading-local-data-is-disabled-this-must-be-enabled-on-both-the-client\n",
        "!mysql praxisDB -e 'SET GLOBAL local_infile=1;'"
      ],
      "metadata": {
        "id": "15oHwBtOhLG1"
      },
      "execution_count": 6,
      "outputs": []
    },
    {
      "cell_type": "code",
      "metadata": {
        "id": "BeK66dVE-t6r"
      },
      "source": [
        "!mysql --local-infile=1 praxisDB -e \"   \\\n",
        "LOAD DATA LOCAL INFILE 'SS_Orders.csv' INTO TABLE ss_order \\\n",
        "FIELDS TERMINATED BY ',' enclosed by '\\\"' IGNORE 1 LINES;  \\\n",
        "\""
      ],
      "execution_count": 7,
      "outputs": []
    },
    {
      "cell_type": "code",
      "metadata": {
        "id": "ppvWDJsi-jRa",
        "colab": {
          "base_uri": "https://localhost:8080/"
        },
        "outputId": "6f2cc552-23f8-4942-f9c2-b59842ee6712"
      },
      "source": [
        "!mysql praxisDB -e 'select count(*) from ss_order;'"
      ],
      "execution_count": 8,
      "outputs": [
        {
          "output_type": "stream",
          "name": "stdout",
          "text": [
            "+----------+\n",
            "| count(*) |\n",
            "+----------+\n",
            "|     9994 |\n",
            "+----------+\n"
          ]
        }
      ]
    },
    {
      "cell_type": "code",
      "metadata": {
        "id": "F5ODPKaz5bPI",
        "colab": {
          "base_uri": "https://localhost:8080/"
        },
        "outputId": "efc291d2-55ea-492c-8a7f-d7820bd4bb5e"
      },
      "source": [
        "!mysql praxisDB -e 'select * from ss_order limit 10'\n",
        "#the date data would not have loaded correctly "
      ],
      "execution_count": 9,
      "outputs": [
        {
          "output_type": "stream",
          "name": "stdout",
          "text": [
            "+-------+----------------+------------+------------+----------------+------------+-----------------+-----------+---------------+-----------------+------------+------------+--------+-----------------+-----------------+-------------+------------------------------------------------------------------+--------+----------+----------+---------+\n",
            "| RowID | OrderID        | OrderDate  | ShipDate   | ShipMode       | CustomerID | CustomerName    | Segment   | Country       | City            | State      | PostalCode | Region | ProductID       | Category        | SubCategory | ProductName                                                      | Sales  | Quantity | Discount | Profit  |\n",
            "+-------+----------------+------------+------------+----------------+------------+-----------------+-----------+---------------+-----------------+------------+------------+--------+-----------------+-----------------+-------------+------------------------------------------------------------------+--------+----------+----------+---------+\n",
            "|     1 | CA-2016-152156 | 0000-00-00 | 0000-00-00 | Second Class   | CG-12520   | Claire Gute     | Consumer  | United States | Henderson       | Kentucky   | 42420      | South  | FUR-BO-10001798 | Furniture       | Bookcases   | Bush Somerset Collection Bookcase                                | 261.96 |        2 |     0.00 |   41.91 |\n",
            "|     2 | CA-2016-152156 | 0000-00-00 | 0000-00-00 | Second Class   | CG-12520   | Claire Gute     | Consumer  | United States | Henderson       | Kentucky   | 42420      | South  | FUR-CH-10000454 | Furniture       | Chairs      | Hon Deluxe Fabric Upholstered Stacking Chairs, Rounded Back      | 731.94 |        3 |     0.00 |  219.58 |\n",
            "|     3 | CA-2016-138688 | 0000-00-00 | 0000-00-00 | Second Class   | DV-13045   | Darrin Van Huff | Corporate | United States | Los Angeles     | California | 90036      | West   | OFF-LA-10000240 | Office Supplies | Labels      | Self-Adhesive Address Labels for Typewriters by Universal        |  14.62 |        2 |     0.00 |    6.87 |\n",
            "|     4 | US-2015-108966 | 0000-00-00 | 0000-00-00 | Standard Class | SO-20335   | Sean O'Donnell  | Consumer  | United States | Fort Lauderdale | Florida    | 33311      | South  | FUR-TA-10000577 | Furniture       | Tables      | Bretford CR4500 Series Slim Rectangular Table                    | 957.58 |        5 |     0.45 | -383.03 |\n",
            "|     5 | US-2015-108966 | 0000-00-00 | 0000-00-00 | Standard Class | SO-20335   | Sean O'Donnell  | Consumer  | United States | Fort Lauderdale | Florida    | 33311      | South  | OFF-ST-10000760 | Office Supplies | Storage     | Eldon Fold 'N Roll Cart System                                   |  22.37 |        2 |     0.20 |    2.52 |\n",
            "|     6 | CA-2014-115812 | 0000-00-00 | 0000-00-00 | Standard Class | BH-11710   | Brosina Hoffman | Consumer  | United States | Los Angeles     | California | 90032      | West   | FUR-FU-10001487 | Furniture       | Furnishings | Eldon Expressions Wood and Plastic Desk Accessories, Cherry Wood |  48.86 |        7 |     0.00 |   14.17 |\n",
            "|     7 | CA-2014-115812 | 0000-00-00 | 0000-00-00 | Standard Class | BH-11710   | Brosina Hoffman | Consumer  | United States | Los Angeles     | California | 90032      | West   | OFF-AR-10002833 | Office Supplies | Art         | Newell 322                                                       |   7.28 |        4 |     0.00 |    1.97 |\n",
            "|     8 | CA-2014-115812 | 0000-00-00 | 0000-00-00 | Standard Class | BH-11710   | Brosina Hoffman | Consumer  | United States | Los Angeles     | California | 90032      | West   | TEC-PH-10002275 | Technology      | Phones      | Mitel 5320 IP Phone VoIP phone                                   | 907.15 |        6 |     0.20 |   90.72 |\n",
            "|     9 | CA-2014-115812 | 0000-00-00 | 0000-00-00 | Standard Class | BH-11710   | Brosina Hoffman | Consumer  | United States | Los Angeles     | California | 90032      | West   | OFF-BI-10003910 | Office Supplies | Binders     | DXL Angle-View Binders with Locking Rings by Samsill             |  18.50 |        3 |     0.20 |    5.78 |\n",
            "|    10 | CA-2014-115812 | 0000-00-00 | 0000-00-00 | Standard Class | BH-11710   | Brosina Hoffman | Consumer  | United States | Los Angeles     | California | 90032      | West   | OFF-AP-10002892 | Office Supplies | Appliances  | Belkin F5C206VTEL 6 Outlet Surge                                 | 114.90 |        5 |     0.00 |   34.47 |\n",
            "+-------+----------------+------------+------------+----------------+------------+-----------------+-----------+---------------+-----------------+------------+------------+--------+-----------------+-----------------+-------------+------------------------------------------------------------------+--------+----------+----------+---------+\n"
          ]
        }
      ]
    },
    {
      "cell_type": "markdown",
      "metadata": {
        "id": "H_-EF65V94kX"
      },
      "source": [
        "Let us fix the date loading error"
      ]
    },
    {
      "cell_type": "code",
      "metadata": {
        "id": "V7E_3txU4PgR",
        "outputId": "3d52eaf4-a48b-414f-9802-86424304a724",
        "colab": {
          "base_uri": "https://localhost:8080/"
        }
      },
      "source": [
        "!head SS_Orders.csv\n",
        "# note that date is dd/mm/yyyy format"
      ],
      "execution_count": 10,
      "outputs": [
        {
          "output_type": "stream",
          "name": "stdout",
          "text": [
            "Row ID,Order ID,Order Date,Ship Date,Ship Mode,Customer ID,Customer Name,Segment,Country,City,State,Postal Code,Region,Product ID,Category,Sub-Category,Product Name,Sales,Quantity,Discount,Profit\n",
            "1,CA-2016-152156,08/11/2016,11/11/2016,Second Class,CG-12520,Claire Gute,Consumer,United States,Henderson,Kentucky,42420,South,FUR-BO-10001798,Furniture,Bookcases,Bush Somerset Collection Bookcase,261.96,2,0,41.9136\n",
            "2,CA-2016-152156,08/11/2016,11/11/2016,Second Class,CG-12520,Claire Gute,Consumer,United States,Henderson,Kentucky,42420,South,FUR-CH-10000454,Furniture,Chairs,\"Hon Deluxe Fabric Upholstered Stacking Chairs, Rounded Back\",731.94,3,0,219.582\n",
            "3,CA-2016-138688,12/06/2016,16/06/2016,Second Class,DV-13045,Darrin Van Huff,Corporate,United States,Los Angeles,California,90036,West,OFF-LA-10000240,Office Supplies,Labels,Self-Adhesive Address Labels for Typewriters by Universal,14.62,2,0,6.8714\n",
            "4,US-2015-108966,11/10/2015,18/10/2015,Standard Class,SO-20335,Sean O'Donnell,Consumer,United States,Fort Lauderdale,Florida,33311,South,FUR-TA-10000577,Furniture,Tables,Bretford CR4500 Series Slim Rectangular Table,957.5775,5,0.45,-383.031\n",
            "5,US-2015-108966,11/10/2015,18/10/2015,Standard Class,SO-20335,Sean O'Donnell,Consumer,United States,Fort Lauderdale,Florida,33311,South,OFF-ST-10000760,Office Supplies,Storage,Eldon Fold 'N Roll Cart System,22.368,2,0.2,2.5164\n",
            "6,CA-2014-115812,09/06/2014,14/06/2014,Standard Class,BH-11710,Brosina Hoffman,Consumer,United States,Los Angeles,California,90032,West,FUR-FU-10001487,Furniture,Furnishings,\"Eldon Expressions Wood and Plastic Desk Accessories, Cherry Wood\",48.86,7,0,14.1694\n",
            "7,CA-2014-115812,09/06/2014,14/06/2014,Standard Class,BH-11710,Brosina Hoffman,Consumer,United States,Los Angeles,California,90032,West,OFF-AR-10002833,Office Supplies,Art,Newell 322,7.28,4,0,1.9656\n",
            "8,CA-2014-115812,09/06/2014,14/06/2014,Standard Class,BH-11710,Brosina Hoffman,Consumer,United States,Los Angeles,California,90032,West,TEC-PH-10002275,Technology,Phones,Mitel 5320 IP Phone VoIP phone,907.152,6,0.2,90.7152\n",
            "9,CA-2014-115812,09/06/2014,14/06/2014,Standard Class,BH-11710,Brosina Hoffman,Consumer,United States,Los Angeles,California,90032,West,OFF-BI-10003910,Office Supplies,Binders,DXL Angle-View Binders with Locking Rings by Samsill,18.504,3,0.2,5.7825\n"
          ]
        }
      ]
    },
    {
      "cell_type": "code",
      "metadata": {
        "id": "9qg9-5Wl5eYo",
        "outputId": "e751b591-f7bb-462b-cc07-6c5cfe5af261",
        "colab": {
          "base_uri": "https://localhost:8080/"
        }
      },
      "source": [
        "!mysql praxisDB -e \"truncate ss_order;\"\n",
        "!mysql praxisDB -e 'select count(*) from ss_order;'"
      ],
      "execution_count": 11,
      "outputs": [
        {
          "output_type": "stream",
          "name": "stdout",
          "text": [
            "+----------+\n",
            "| count(*) |\n",
            "+----------+\n",
            "|        0 |\n",
            "+----------+\n"
          ]
        }
      ]
    },
    {
      "cell_type": "code",
      "metadata": {
        "id": "lYYSLN2O9fAc"
      },
      "source": [
        "# see https://stackoverflow.com/questions/18927249/how-to-load-date-data-in-mysql-when-using-load-data\n",
        "#\n",
        "!mysql --local-infile=1 praxisDB -e \"   \\\n",
        "LOAD \\\n",
        "DATA LOCAL INFILE 'SS_Orders.csv' \\\n",
        "INTO TABLE ss_order \\\n",
        "FIELDS TERMINATED BY ',' \\\n",
        "enclosed by '\\\"' \\\n",
        "IGNORE 1 LINES  \\\n",
        "(RowID, OrderID, @OrderDate, @ShipDate, ShipMode, CustomerID, CustomerName, Segment, \\\n",
        " Country, City, State, PostalCode, Region, ProductID, Category, SubCategory, \\\n",
        " ProductName, Sales, Quantity, Discount, Profit) \\\n",
        "set \\\n",
        "OrderDate = str_to_date(@OrderDate, '%d/%m/%Y'), \\\n",
        "ShipDate = str_to_date(@ShipDate, '%d/%m/%Y'); \\\n",
        "\""
      ],
      "execution_count": 12,
      "outputs": []
    },
    {
      "cell_type": "code",
      "metadata": {
        "id": "wDqgwoUB-C_n",
        "outputId": "efbc8792-06d4-48e2-bb1d-85d64581eac3",
        "colab": {
          "base_uri": "https://localhost:8080/"
        }
      },
      "source": [
        "!mysql praxisDB -e 'select * from ss_order limit 10'\n",
        "#the date data should have loaded correctly"
      ],
      "execution_count": 13,
      "outputs": [
        {
          "output_type": "stream",
          "name": "stdout",
          "text": [
            "+-------+----------------+------------+------------+----------------+------------+-----------------+-----------+---------------+-----------------+------------+------------+--------+-----------------+-----------------+-------------+------------------------------------------------------------------+--------+----------+----------+---------+\n",
            "| RowID | OrderID        | OrderDate  | ShipDate   | ShipMode       | CustomerID | CustomerName    | Segment   | Country       | City            | State      | PostalCode | Region | ProductID       | Category        | SubCategory | ProductName                                                      | Sales  | Quantity | Discount | Profit  |\n",
            "+-------+----------------+------------+------------+----------------+------------+-----------------+-----------+---------------+-----------------+------------+------------+--------+-----------------+-----------------+-------------+------------------------------------------------------------------+--------+----------+----------+---------+\n",
            "|     1 | CA-2016-152156 | 2016-11-08 | 2016-11-11 | Second Class   | CG-12520   | Claire Gute     | Consumer  | United States | Henderson       | Kentucky   | 42420      | South  | FUR-BO-10001798 | Furniture       | Bookcases   | Bush Somerset Collection Bookcase                                | 261.96 |        2 |     0.00 |   41.91 |\n",
            "|     2 | CA-2016-152156 | 2016-11-08 | 2016-11-11 | Second Class   | CG-12520   | Claire Gute     | Consumer  | United States | Henderson       | Kentucky   | 42420      | South  | FUR-CH-10000454 | Furniture       | Chairs      | Hon Deluxe Fabric Upholstered Stacking Chairs, Rounded Back      | 731.94 |        3 |     0.00 |  219.58 |\n",
            "|     3 | CA-2016-138688 | 2016-06-12 | 2016-06-16 | Second Class   | DV-13045   | Darrin Van Huff | Corporate | United States | Los Angeles     | California | 90036      | West   | OFF-LA-10000240 | Office Supplies | Labels      | Self-Adhesive Address Labels for Typewriters by Universal        |  14.62 |        2 |     0.00 |    6.87 |\n",
            "|     4 | US-2015-108966 | 2015-10-11 | 2015-10-18 | Standard Class | SO-20335   | Sean O'Donnell  | Consumer  | United States | Fort Lauderdale | Florida    | 33311      | South  | FUR-TA-10000577 | Furniture       | Tables      | Bretford CR4500 Series Slim Rectangular Table                    | 957.58 |        5 |     0.45 | -383.03 |\n",
            "|     5 | US-2015-108966 | 2015-10-11 | 2015-10-18 | Standard Class | SO-20335   | Sean O'Donnell  | Consumer  | United States | Fort Lauderdale | Florida    | 33311      | South  | OFF-ST-10000760 | Office Supplies | Storage     | Eldon Fold 'N Roll Cart System                                   |  22.37 |        2 |     0.20 |    2.52 |\n",
            "|     6 | CA-2014-115812 | 2014-06-09 | 2014-06-14 | Standard Class | BH-11710   | Brosina Hoffman | Consumer  | United States | Los Angeles     | California | 90032      | West   | FUR-FU-10001487 | Furniture       | Furnishings | Eldon Expressions Wood and Plastic Desk Accessories, Cherry Wood |  48.86 |        7 |     0.00 |   14.17 |\n",
            "|     7 | CA-2014-115812 | 2014-06-09 | 2014-06-14 | Standard Class | BH-11710   | Brosina Hoffman | Consumer  | United States | Los Angeles     | California | 90032      | West   | OFF-AR-10002833 | Office Supplies | Art         | Newell 322                                                       |   7.28 |        4 |     0.00 |    1.97 |\n",
            "|     8 | CA-2014-115812 | 2014-06-09 | 2014-06-14 | Standard Class | BH-11710   | Brosina Hoffman | Consumer  | United States | Los Angeles     | California | 90032      | West   | TEC-PH-10002275 | Technology      | Phones      | Mitel 5320 IP Phone VoIP phone                                   | 907.15 |        6 |     0.20 |   90.72 |\n",
            "|     9 | CA-2014-115812 | 2014-06-09 | 2014-06-14 | Standard Class | BH-11710   | Brosina Hoffman | Consumer  | United States | Los Angeles     | California | 90032      | West   | OFF-BI-10003910 | Office Supplies | Binders     | DXL Angle-View Binders with Locking Rings by Samsill             |  18.50 |        3 |     0.20 |    5.78 |\n",
            "|    10 | CA-2014-115812 | 2014-06-09 | 2014-06-14 | Standard Class | BH-11710   | Brosina Hoffman | Consumer  | United States | Los Angeles     | California | 90032      | West   | OFF-AP-10002892 | Office Supplies | Appliances  | Belkin F5C206VTEL 6 Outlet Surge                                 | 114.90 |        5 |     0.00 |   34.47 |\n",
            "+-------+----------------+------------+------------+----------------+------------+-----------------+-----------+---------------+-----------------+------------+------------+--------+-----------------+-----------------+-------------+------------------------------------------------------------------+--------+----------+----------+---------+\n"
          ]
        }
      ]
    },
    {
      "cell_type": "markdown",
      "metadata": {
        "id": "kWjbIZ51_GB3"
      },
      "source": [
        "# Basic Query"
      ]
    },
    {
      "cell_type": "markdown",
      "metadata": {
        "id": "TCg345AS33Mf"
      },
      "source": []
    },
    {
      "cell_type": "code",
      "metadata": {
        "colab": {
          "base_uri": "https://localhost:8080/"
        },
        "id": "UdHx9EFXjy5U",
        "outputId": "14f593e7-4123-415c-bd39-97ef7bcb5698"
      },
      "source": [
        "!mysql praxisDB -e 'select count(Quantity) from ss_order;'"
      ],
      "execution_count": 14,
      "outputs": [
        {
          "output_type": "stream",
          "name": "stdout",
          "text": [
            "+-----------------+\n",
            "| count(Quantity) |\n",
            "+-----------------+\n",
            "|            9994 |\n",
            "+-----------------+\n"
          ]
        }
      ]
    },
    {
      "cell_type": "code",
      "metadata": {
        "id": "iUvAktJZcmM0"
      },
      "source": [
        "#!mysql praxisDB -e 'select count(*),sum(Quantity),Sum(Sales), Sum(Profit) from ss_order;'"
      ],
      "execution_count": 15,
      "outputs": []
    },
    {
      "cell_type": "code",
      "metadata": {
        "id": "CO3RsRJZ_KMg",
        "colab": {
          "base_uri": "https://localhost:8080/"
        },
        "outputId": "c3240fc8-ae13-4efc-e1ca-78c3f22aafd1"
      },
      "source": [
        "!mysql praxisDB -e 'select Category, Sum(Sales), Sum(Profit) from ss_order group by Category;'"
      ],
      "execution_count": 16,
      "outputs": [
        {
          "output_type": "stream",
          "name": "stdout",
          "text": [
            "+-----------------+------------+-------------+\n",
            "| Category        | Sum(Sales) | Sum(Profit) |\n",
            "+-----------------+------------+-------------+\n",
            "| Furniture       |  741999.98 |    18451.25 |\n",
            "| Office Supplies |  719046.99 |   122490.78 |\n",
            "| Technology      |  836154.10 |   145455.64 |\n",
            "+-----------------+------------+-------------+\n"
          ]
        }
      ]
    },
    {
      "cell_type": "code",
      "metadata": {
        "id": "lbHH8oaY_5o-",
        "colab": {
          "base_uri": "https://localhost:8080/"
        },
        "outputId": "a5464d5c-f6cf-48cd-b945-bd6d27b85531"
      },
      "source": [
        "!mysql praxisDB -e 'select Region, Sum(Sales), Sum(Profit) from ss_order group by Region;'"
      ],
      "execution_count": 17,
      "outputs": [
        {
          "output_type": "stream",
          "name": "stdout",
          "text": [
            "+---------+------------+-------------+\n",
            "| Region  | Sum(Sales) | Sum(Profit) |\n",
            "+---------+------------+-------------+\n",
            "| South   |  391721.90 |    46749.69 |\n",
            "| West    |  725457.93 |   108418.74 |\n",
            "| Central |  501239.88 |    39706.44 |\n",
            "| East    |  678781.36 |    91522.80 |\n",
            "+---------+------------+-------------+\n"
          ]
        }
      ]
    },
    {
      "cell_type": "code",
      "metadata": {
        "id": "Cm0SRE-_AnaA",
        "colab": {
          "base_uri": "https://localhost:8080/"
        },
        "outputId": "fdda4131-cfa3-4f74-87df-0f3c513368d0"
      },
      "source": [
        "!mysql praxisDB -e 'select Segment, Sum(Sales), Sum(Profit) from ss_order group by Segment;'"
      ],
      "execution_count": 18,
      "outputs": [
        {
          "output_type": "stream",
          "name": "stdout",
          "text": [
            "+-------------+------------+-------------+\n",
            "| Segment     | Sum(Sales) | Sum(Profit) |\n",
            "+-------------+------------+-------------+\n",
            "| Consumer    | 1161401.34 |   134119.27 |\n",
            "| Corporate   |  706146.44 |    91979.41 |\n",
            "| Home Office |  429653.29 |    60298.99 |\n",
            "+-------------+------------+-------------+\n"
          ]
        }
      ]
    },
    {
      "cell_type": "markdown",
      "metadata": {
        "id": "vO2OFsfDBJn4"
      },
      "source": [
        "#Complex Query"
      ]
    },
    {
      "cell_type": "code",
      "metadata": {
        "id": "l7jEeWBiBMdC",
        "colab": {
          "base_uri": "https://localhost:8080/"
        },
        "outputId": "7546813b-2ca0-4e9f-9fbd-8ba8484b630f"
      },
      "source": [
        "!mysql praxisDB -e 'select Segment, Region, Sum(Sales) Sales from ss_order group by Segment, Region;'"
      ],
      "execution_count": 19,
      "outputs": [
        {
          "output_type": "stream",
          "name": "stdout",
          "text": [
            "+-------------+---------+-----------+\n",
            "| Segment     | Region  | Sales     |\n",
            "+-------------+---------+-----------+\n",
            "| Consumer    | South   | 195580.92 |\n",
            "| Corporate   | West    | 225855.25 |\n",
            "| Consumer    | West    | 362880.82 |\n",
            "| Home Office | Central |  91212.66 |\n",
            "| Consumer    | Central | 252031.43 |\n",
            "| Corporate   | Central | 157995.79 |\n",
            "| Consumer    | East    | 350908.17 |\n",
            "| Corporate   | South   | 121885.95 |\n",
            "| Corporate   | East    | 200409.45 |\n",
            "| Home Office | West    | 136721.86 |\n",
            "| Home Office | East    | 127463.74 |\n",
            "| Home Office | South   |  74255.03 |\n",
            "+-------------+---------+-----------+\n"
          ]
        }
      ]
    },
    {
      "cell_type": "code",
      "metadata": {
        "id": "BC0XUonvBkds",
        "colab": {
          "base_uri": "https://localhost:8080/"
        },
        "outputId": "649ab1e7-769f-4d48-af9d-2a54911fdd03"
      },
      "source": [
        "!mysql praxisDB -e 'select Segment, Region, Sum(Sales) Sales from ss_order group by Segment, Region with Rollup;'"
      ],
      "execution_count": 20,
      "outputs": [
        {
          "output_type": "stream",
          "name": "stdout",
          "text": [
            "+-------------+---------+------------+\n",
            "| Segment     | Region  | Sales      |\n",
            "+-------------+---------+------------+\n",
            "| Consumer    | Central |  252031.43 |\n",
            "| Consumer    | East    |  350908.17 |\n",
            "| Consumer    | South   |  195580.92 |\n",
            "| Consumer    | West    |  362880.82 |\n",
            "| Consumer    | NULL    | 1161401.34 |\n",
            "| Corporate   | Central |  157995.79 |\n",
            "| Corporate   | East    |  200409.45 |\n",
            "| Corporate   | South   |  121885.95 |\n",
            "| Corporate   | West    |  225855.25 |\n",
            "| Corporate   | NULL    |  706146.44 |\n",
            "| Home Office | Central |   91212.66 |\n",
            "| Home Office | East    |  127463.74 |\n",
            "| Home Office | South   |   74255.03 |\n",
            "| Home Office | West    |  136721.86 |\n",
            "| Home Office | NULL    |  429653.29 |\n",
            "| NULL        | NULL    | 2297201.07 |\n",
            "+-------------+---------+------------+\n"
          ]
        }
      ]
    },
    {
      "cell_type": "markdown",
      "metadata": {
        "id": "i8LYgwrKE7wR"
      },
      "source": [
        "#Cross Tab"
      ]
    },
    {
      "cell_type": "code",
      "metadata": {
        "id": "TMWXUbZXCRoV",
        "colab": {
          "base_uri": "https://localhost:8080/"
        },
        "outputId": "f0b8d488-d29d-4e7b-cb5b-a215b61b930f"
      },
      "source": [
        "!mysql praxisDB -e \"\\\n",
        "SELECT \\\n",
        "  IFNULL(Segment,'Totals') 'Segment, Region', \\\n",
        "  sums.Central, sums.East, sums.West,sums.South,\\\n",
        "  sums.Central + sums.East + sums.West + sums.South Totals \\\n",
        "FROM ( \\\n",
        "  SELECT \\\n",
        "\tSegment,\\\n",
        "\tSUM(IF(Region='Central',Sales,0)) As 'Central',\\\n",
        "\tSUM(IF(Region='East',Sales,0)) As 'East',\\\n",
        "    SUM(IF(Region='West',Sales,0)) As 'West',\\\n",
        "\tSUM(IF(Region='South',Sales,0)) As 'South'\\\n",
        "  FROM ss_order \\\n",
        "  GROUP BY Segment WITH ROLLUP \\\n",
        ") AS sums\""
      ],
      "execution_count": 21,
      "outputs": [
        {
          "output_type": "stream",
          "name": "stdout",
          "text": [
            "+-----------------+-----------+-----------+-----------+-----------+------------+\n",
            "| Segment, Region | Central   | East      | West      | South     | Totals     |\n",
            "+-----------------+-----------+-----------+-----------+-----------+------------+\n",
            "| Consumer        | 252031.43 | 350908.17 | 362880.82 | 195580.92 | 1161401.34 |\n",
            "| Corporate       | 157995.79 | 200409.45 | 225855.25 | 121885.95 |  706146.44 |\n",
            "| Home Office     |  91212.66 | 127463.74 | 136721.86 |  74255.03 |  429653.29 |\n",
            "| Totals          | 501239.88 | 678781.36 | 725457.93 | 391721.90 | 2297201.07 |\n",
            "+-----------------+-----------+-----------+-----------+-----------+------------+\n"
          ]
        }
      ]
    },
    {
      "cell_type": "code",
      "metadata": {
        "id": "AmqDZ2yVFjfi",
        "colab": {
          "base_uri": "https://localhost:8080/"
        },
        "outputId": "b0ef36f3-dd95-481a-86e9-54e78b9ae53f"
      },
      "source": [
        "!mysql praxisDB -e \"\\\n",
        "SELECT \\\n",
        "  IFNULL(Segment,'Totals') AS 'Segment, Category', \\\n",
        "  sums.Furniture, sums.Office_Supplies, sums.Technology,\\\n",
        "  sums.Furniture + sums.Office_Supplies + sums.Technology AS Totals \\\n",
        "  FROM (\\\n",
        "  SELECT\\\n",
        "\tSegment,\\\n",
        "\tSUM(IF(Category='Furniture',Sales,0)) As 'Furniture',\\\n",
        "\tSUM(IF(Category='Office Supplies',Sales,0)) As 'Office_Supplies',\\\n",
        "\tSUM(IF(Category='Technology',Sales,0)) As 'Technology'\\\n",
        "  FROM ss_order \\\n",
        "  GROUP BY Segment WITH ROLLUP\\\n",
        ") AS sums \\\n",
        "\"\n"
      ],
      "execution_count": 22,
      "outputs": [
        {
          "output_type": "stream",
          "name": "stdout",
          "text": [
            "+-------------------+-----------+-----------------+------------+------------+\n",
            "| Segment, Category | Furniture | Office_Supplies | Technology | Totals     |\n",
            "+-------------------+-----------+-----------------+------------+------------+\n",
            "| Consumer          | 391049.43 |       363951.96 |  406399.95 | 1161401.34 |\n",
            "| Corporate         | 229019.83 |       230676.49 |  246450.12 |  706146.44 |\n",
            "| Home Office       | 121930.72 |       124418.54 |  183304.03 |  429653.29 |\n",
            "| Totals            | 741999.98 |       719046.99 |  836154.10 | 2297201.07 |\n",
            "+-------------------+-----------+-----------------+------------+------------+\n"
          ]
        }
      ]
    },
    {
      "cell_type": "code",
      "metadata": {
        "colab": {
          "base_uri": "https://localhost:8080/"
        },
        "id": "AhbbnH1mO5lR",
        "outputId": "1a152a9a-77b5-41b3-9d85-176d7706b2b6"
      },
      "source": [
        "!mysql praxisDB -e \"\\\n",
        "SELECT\\\n",
        "\tSegment,\\\n",
        "\tSUM(IF(Category='Furniture',Sales,0)) As 'Furniture',\\\n",
        "\tSUM(IF(Category='Office Supplies',Sales,0)) As 'Office_Supplies',\\\n",
        "\tSUM(IF(Category='Technology',Sales,0)) As 'Technology'\\\n",
        "  FROM ss_order \\\n",
        "  GROUP BY Segment WITH ROLLUP\\\n",
        "  \""
      ],
      "execution_count": 23,
      "outputs": [
        {
          "output_type": "stream",
          "name": "stdout",
          "text": [
            "+-------------+-----------+-----------------+------------+\n",
            "| Segment     | Furniture | Office_Supplies | Technology |\n",
            "+-------------+-----------+-----------------+------------+\n",
            "| Consumer    | 391049.43 |       363951.96 |  406399.95 |\n",
            "| Corporate   | 229019.83 |       230676.49 |  246450.12 |\n",
            "| Home Office | 121930.72 |       124418.54 |  183304.03 |\n",
            "| NULL        | 741999.98 |       719046.99 |  836154.10 |\n",
            "+-------------+-----------+-----------------+------------+\n"
          ]
        }
      ]
    },
    {
      "cell_type": "markdown",
      "metadata": {
        "id": "PVGTtmGyuiga"
      },
      "source": [
        "##Cross Tabs in Python\n",
        "can we done wiht Pivot Tables as shown in this [Superstore Pivot](https://github.com/Praxis-QR/RDWH/blob/a1aa6c2b13fb1f315d4b19d08c4fac19064dfcdd/Pivot_Tables_for_OLAP_Cube_Python_Superstore.ipynb) Notebook"
      ]
    },
    {
      "cell_type": "markdown",
      "metadata": {
        "id": "azYOheyl6IdC"
      },
      "source": [
        "#Beyond Totals"
      ]
    },
    {
      "cell_type": "code",
      "metadata": {
        "id": "5Mxxpbfs6OQh",
        "colab": {
          "base_uri": "https://localhost:8080/"
        },
        "outputId": "304cb311-cb03-4079-b1a4-df02cf1f56c8"
      },
      "source": [
        "%%writefile query2.sql\n",
        "SELECT\n",
        "  IFNULL(Segment,'Totals') AS 'Segment, Category',       \n",
        "  ttemp.Furniture, ttemp.Office_Supplies, ttemp.Technology,   \n",
        "  ttemp.Furniture + ttemp.Office_Supplies + ttemp.Technology AS Totals\n",
        "FROM (                                  \t\n",
        "  SELECT                                \t\n",
        "\tSegment,\n",
        "\tAVG(IF(Category='Furniture',Sales,0)) As 'Furniture',\n",
        "\tAVG(IF(Category='Office Supplies',Sales,0)) As 'Office_Supplies',\n",
        "\tAVG(IF(Category='Technology',Sales,0)) As 'Technology'\n",
        "  FROM ss_order\n",
        "  GROUP BY Segment WITH ROLLUP\n",
        ") AS ttemp\n"
      ],
      "execution_count": 24,
      "outputs": [
        {
          "output_type": "stream",
          "name": "stdout",
          "text": [
            "Writing query2.sql\n"
          ]
        }
      ]
    },
    {
      "cell_type": "code",
      "metadata": {
        "id": "lxbhy09J6mFw",
        "colab": {
          "base_uri": "https://localhost:8080/"
        },
        "outputId": "b4e9268f-545d-4093-d075-79fa2bc58c67"
      },
      "source": [
        "!mysql praxisDB --table < query2.sql"
      ],
      "execution_count": 25,
      "outputs": [
        {
          "output_type": "stream",
          "name": "stdout",
          "text": [
            "+-------------------+-----------+-----------------+------------+------------+\n",
            "| Segment, Category | Furniture | Office_Supplies | Technology | Totals     |\n",
            "+-------------------+-----------+-----------------+------------+------------+\n",
            "| Consumer          | 75.332196 |       70.112109 |  78.289337 | 223.733642 |\n",
            "| Corporate         | 75.834381 |       76.382944 |  81.606000 | 233.823325 |\n",
            "| Home Office       | 68.385149 |       69.780449 | 102.806523 | 240.972121 |\n",
            "| Totals            | 74.244545 |       71.947868 |  83.665609 | 229.858022 |\n",
            "+-------------------+-----------+-----------------+------------+------------+\n"
          ]
        }
      ]
    },
    {
      "cell_type": "code",
      "metadata": {
        "id": "1cPOAN417PXe",
        "colab": {
          "base_uri": "https://localhost:8080/"
        },
        "outputId": "89f26873-134e-4e4d-8b62-78bc82a8e66f"
      },
      "source": [
        "%%writefile query2.sql\n",
        "SELECT\n",
        "  IFNULL(Segment,'Avg') AS 'Segment, Category',       \n",
        "  ttemp.Furniture, ttemp.Office_Supplies, ttemp.Technology,   \n",
        "  ttemp.Furniture + ttemp.Office_Supplies + ttemp.Technology AS Totals\n",
        "FROM (                                  \t\n",
        "  SELECT                                \t\n",
        "\tSegment,\n",
        "\tAVG(IF(Category='Furniture',Sales,0)) As 'Furniture',\n",
        "\tAVG(IF(Category='Office Supplies',Sales,0)) As 'Office_Supplies',\n",
        "\tAVG(IF(Category='Technology',Sales,0)) As 'Technology'\n",
        "  FROM ss_order\n",
        "  GROUP BY Segment WITH ROLLUP\n",
        ") AS ttemp\n"
      ],
      "execution_count": 26,
      "outputs": [
        {
          "output_type": "stream",
          "name": "stdout",
          "text": [
            "Overwriting query2.sql\n"
          ]
        }
      ]
    },
    {
      "cell_type": "code",
      "metadata": {
        "id": "3aVs5IMq7eTi",
        "colab": {
          "base_uri": "https://localhost:8080/"
        },
        "outputId": "d0e06b0c-ee37-49b7-d9a5-e38961b9cea2"
      },
      "source": [
        "!mysql praxisDB --table < query2.sql"
      ],
      "execution_count": 27,
      "outputs": [
        {
          "output_type": "stream",
          "name": "stdout",
          "text": [
            "+-------------------+-----------+-----------------+------------+------------+\n",
            "| Segment, Category | Furniture | Office_Supplies | Technology | Totals     |\n",
            "+-------------------+-----------+-----------------+------------+------------+\n",
            "| Consumer          | 75.332196 |       70.112109 |  78.289337 | 223.733642 |\n",
            "| Corporate         | 75.834381 |       76.382944 |  81.606000 | 233.823325 |\n",
            "| Home Office       | 68.385149 |       69.780449 | 102.806523 | 240.972121 |\n",
            "| Avg               | 74.244545 |       71.947868 |  83.665609 | 229.858022 |\n",
            "+-------------------+-----------+-----------------+------------+------------+\n"
          ]
        }
      ]
    },
    {
      "cell_type": "code",
      "metadata": {
        "id": "gsZpXHYZ8Puo",
        "colab": {
          "base_uri": "https://localhost:8080/"
        },
        "outputId": "2ddf02b2-127f-4c14-fbce-f8176a91f674"
      },
      "source": [
        "%%writefile query2.sql\n",
        "SELECT\n",
        "  IFNULL(Segment,'Avg') AS 'Segment, Category',       \n",
        "  ttemp.Furniture, ttemp.Office_Supplies, ttemp.Technology,   \n",
        "  (ttemp.Furniture + ttemp.Office_Supplies + ttemp.Technology)/3 AS Avg_xx\n",
        "FROM (                                  \t\n",
        "  SELECT                                \t\n",
        "\tSegment,\n",
        "\tAVG(IF(Category='Furniture',Sales,0)) As 'Furniture',\n",
        "\tAVG(IF(Category='Office Supplies',Sales,0)) As 'Office_Supplies',\n",
        "\tAVG(IF(Category='Technology',Sales,0)) As 'Technology'\n",
        "  FROM ss_order\n",
        "  GROUP BY Segment WITH ROLLUP\n",
        ") AS ttemp\n"
      ],
      "execution_count": 28,
      "outputs": [
        {
          "output_type": "stream",
          "name": "stdout",
          "text": [
            "Overwriting query2.sql\n"
          ]
        }
      ]
    },
    {
      "cell_type": "code",
      "metadata": {
        "id": "OQ5zbM0M8g0u",
        "colab": {
          "base_uri": "https://localhost:8080/"
        },
        "outputId": "f20c1fe8-51f5-45b9-f0d2-551514e25ed7"
      },
      "source": [
        "!mysql praxisDB --table < query2.sql"
      ],
      "execution_count": 29,
      "outputs": [
        {
          "output_type": "stream",
          "name": "stdout",
          "text": [
            "+-------------------+-----------+-----------------+------------+---------------+\n",
            "| Segment, Category | Furniture | Office_Supplies | Technology | Avg_xx        |\n",
            "+-------------------+-----------+-----------------+------------+---------------+\n",
            "| Consumer          | 75.332196 |       70.112109 |  78.289337 | 74.5778806667 |\n",
            "| Corporate         | 75.834381 |       76.382944 |  81.606000 | 77.9411083333 |\n",
            "| Home Office       | 68.385149 |       69.780449 | 102.806523 | 80.3240403333 |\n",
            "| Avg               | 74.244545 |       71.947868 |  83.665609 | 76.6193406667 |\n",
            "+-------------------+-----------+-----------------+------------+---------------+\n"
          ]
        }
      ]
    },
    {
      "cell_type": "code",
      "metadata": {
        "id": "ILD7R3f9853P",
        "colab": {
          "base_uri": "https://localhost:8080/"
        },
        "outputId": "b03216fc-f639-4e10-e60e-7a37c99666d3"
      },
      "source": [
        "%%writefile query3.sql\n",
        "\n",
        "SELECT                                \t\n",
        "\tSegment,\n",
        "\tAVG(IF(Category='Furniture',Sales,0)) As 'Furniture',\n",
        "\tAVG(IF(Category='Office Supplies',Sales,0)) As 'Office_Supplies',\n",
        "\tAVG(IF(Category='Technology',Sales,0)) As 'Technology'\n",
        "  FROM ss_order\n",
        "  GROUP BY Segment WITH ROLLUP"
      ],
      "execution_count": 30,
      "outputs": [
        {
          "output_type": "stream",
          "name": "stdout",
          "text": [
            "Writing query3.sql\n"
          ]
        }
      ]
    },
    {
      "cell_type": "code",
      "metadata": {
        "id": "7nzcuNox9Fde",
        "colab": {
          "base_uri": "https://localhost:8080/"
        },
        "outputId": "d1738da7-3f0e-40e4-813b-67c2c6600d88"
      },
      "source": [
        "!mysql praxisDB --table < query3.sql"
      ],
      "execution_count": 31,
      "outputs": [
        {
          "output_type": "stream",
          "name": "stdout",
          "text": [
            "+-------------+-----------+-----------------+------------+\n",
            "| Segment     | Furniture | Office_Supplies | Technology |\n",
            "+-------------+-----------+-----------------+------------+\n",
            "| Consumer    | 75.332196 |       70.112109 |  78.289337 |\n",
            "| Corporate   | 75.834381 |       76.382944 |  81.606000 |\n",
            "| Home Office | 68.385149 |       69.780449 | 102.806523 |\n",
            "| NULL        | 74.244545 |       71.947868 |  83.665609 |\n",
            "+-------------+-----------+-----------------+------------+\n"
          ]
        }
      ]
    },
    {
      "cell_type": "code",
      "metadata": {
        "id": "PECF0dK79__Y",
        "colab": {
          "base_uri": "https://localhost:8080/"
        },
        "outputId": "39ed7fab-5522-4d43-9519-4faadea82f0d"
      },
      "source": [
        "%%writefile query3.sql\n",
        "SELECT\n",
        "  IFNULL(Segment,'Avg') AS 'Segment↓ Category→',       \n",
        "  ttemp.Furniture, ttemp.Office_Supplies, ttemp.Technology\n",
        "FROM (                                  \t\n",
        "  SELECT                                \t\n",
        "\tSegment,\n",
        "\tAVG(IF(Category='Furniture',Sales,0)) As 'Furniture',\n",
        "\tAVG(IF(Category='Office Supplies',Sales,0)) As 'Office_Supplies',\n",
        "\tAVG(IF(Category='Technology',Sales,0)) As 'Technology'\n",
        "  FROM ss_order\n",
        "  GROUP BY Segment WITH ROLLUP\n",
        ") AS ttemp\n",
        "\n",
        "where Segment is not null\n"
      ],
      "execution_count": 32,
      "outputs": [
        {
          "output_type": "stream",
          "name": "stdout",
          "text": [
            "Overwriting query3.sql\n"
          ]
        }
      ]
    },
    {
      "cell_type": "code",
      "metadata": {
        "id": "ZpTgMPP6-Lpc",
        "colab": {
          "base_uri": "https://localhost:8080/"
        },
        "outputId": "48124e95-cd05-4b22-da6a-e32c2fd5b38c"
      },
      "source": [
        "!mysql praxisDB --table < query3.sql"
      ],
      "execution_count": 33,
      "outputs": [
        {
          "output_type": "stream",
          "name": "stdout",
          "text": [
            "+------------------------+-----------+-----------------+------------+\n",
            "| Segment↓ Category→     | Furniture | Office_Supplies | Technology |\n",
            "+------------------------+-----------+-----------------+------------+\n",
            "| Consumer               | 75.332196 |       70.112109 |  78.289337 |\n",
            "| Corporate              | 75.834381 |       76.382944 |  81.606000 |\n",
            "| Home Office            | 68.385149 |       69.780449 | 102.806523 |\n",
            "+------------------------+-----------+-----------------+------------+\n"
          ]
        }
      ]
    },
    {
      "cell_type": "code",
      "source": [
        "from datetime import datetime\n",
        "import pytz\n",
        "print('Last tested  ',datetime.now(pytz.timezone('Asia/Singapore')))"
      ],
      "metadata": {
        "id": "qZwK8GAaisGb",
        "outputId": "b1f1bf0a-d48c-448e-968e-a4de5cd999a3",
        "colab": {
          "base_uri": "https://localhost:8080/"
        }
      },
      "execution_count": 34,
      "outputs": [
        {
          "output_type": "stream",
          "name": "stdout",
          "text": [
            "Last tested   2023-03-16 13:31:40.333752+08:00\n"
          ]
        }
      ]
    },
    {
      "cell_type": "markdown",
      "metadata": {
        "id": "4phrtjaE_tyS"
      },
      "source": [
        "#Chronobooks <br>\n",
        "Two science fiction novels by Prithwis Mukerjee. A dystopian Earth. A technocratic society managed by artificial intelligence. Escape and epiphany on Mars. Can man and machine, carbon and silicon explore and escape into other dimensions of existence? An Indic perspective rooted in Advaita Vedanta and the Divine Feminine.  [More information](http://bit.ly/chronobooks) <br>\n",
        "![alt text](https://github.com/Praxis-QR/RDWH/raw/main/images/CTCYFooter-1.png)"
      ]
    }
  ]
}