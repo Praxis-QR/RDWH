{
  "nbformat": 4,
  "nbformat_minor": 0,
  "metadata": {
    "colab": {
      "provenance": [],
      "toc_visible": true,
      "include_colab_link": true
    },
    "kernelspec": {
      "name": "python3",
      "display_name": "Python 3"
    },
    "language_info": {
      "name": "python"
    }
  },
  "cells": [
    {
      "cell_type": "markdown",
      "metadata": {
        "id": "view-in-github",
        "colab_type": "text"
      },
      "source": [
        "<a href=\"https://colab.research.google.com/github/Praxis-QR/RDWH/blob/main/PG24_3C_Exercise_ChatGPT_version.ipynb\" target=\"_parent\"><img src=\"https://colab.research.google.com/assets/colab-badge.svg\" alt=\"Open In Colab\"/></a>"
      ]
    },
    {
      "cell_type": "markdown",
      "source": [
        "![Yantrajaal Banner](https://github.com/Praxis-QR/RDWH/raw/main/images/YantraJaalBanner.png)<br>\n",
        "\n",
        "\n",
        "<hr>\n",
        "\n",
        "[Prithwis Mukerjee](http://www.linkedin.com/in/prithwis)<br>"
      ],
      "metadata": {
        "id": "DBzz-qaN2tKu"
      }
    },
    {
      "cell_type": "markdown",
      "source": [
        "#Postgres Exercises\n",
        "https://pgexercises.com/ <br>\n",
        "https://pgexercises.com/gettingstarted.html"
      ],
      "metadata": {
        "id": "QIfgaOrxZ39z"
      }
    },
    {
      "cell_type": "code",
      "source": [
        "from datetime import datetime\n",
        "import pytz\n",
        "print('ॐ श्री सरस्वत्यै नमः',datetime.now(pytz.timezone('Asia/Calcutta')))\n",
        "!python --version\n",
        "!lsb_release -a"
      ],
      "metadata": {
        "id": "txwvst5Hs5mI",
        "outputId": "077bb09e-28c7-48e2-c41e-98699616b007",
        "colab": {
          "base_uri": "https://localhost:8080/"
        }
      },
      "execution_count": 1,
      "outputs": [
        {
          "output_type": "stream",
          "name": "stdout",
          "text": [
            "ॐ श्री सरस्वत्यै नमः 2024-03-05 05:39:03.663697+05:30\n",
            "Python 3.10.12\n",
            "No LSB modules are available.\n",
            "Distributor ID:\tUbuntu\n",
            "Description:\tUbuntu 22.04.3 LTS\n",
            "Release:\t22.04\n",
            "Codename:\tjammy\n"
          ]
        }
      ]
    },
    {
      "cell_type": "markdown",
      "source": [
        "#Install & Configure Postgres"
      ],
      "metadata": {
        "id": "nD-QawLT6kDr"
      }
    },
    {
      "cell_type": "code",
      "source": [
        "# Install postgresql server\n",
        "\n",
        "!apt update > /dev/null\n",
        "!apt install postgresql > /dev/null\n",
        "#!sudo -u postgres psql -V\n",
        "!psql -V\n",
        "!service postgresql start"
      ],
      "metadata": {
        "colab": {
          "base_uri": "https://localhost:8080/"
        },
        "id": "o_RaqE0OOHP3",
        "outputId": "f1719dd1-c76b-4b03-b357-6f398dd6eebc"
      },
      "execution_count": 2,
      "outputs": [
        {
          "output_type": "stream",
          "name": "stdout",
          "text": [
            "\n",
            "WARNING: apt does not have a stable CLI interface. Use with caution in scripts.\n",
            "\n",
            "\n",
            "WARNING: apt does not have a stable CLI interface. Use with caution in scripts.\n",
            "\n",
            "psql (PostgreSQL) 14.11 (Ubuntu 14.11-0ubuntu0.22.04.1)\n",
            " * Starting PostgreSQL 14 database server\n",
            "   ...done.\n"
          ]
        }
      ]
    },
    {
      "cell_type": "code",
      "source": [
        "#!pip install psycopg2\n",
        "import psycopg2\n",
        "import pandas as pd"
      ],
      "metadata": {
        "id": "Ol-251fprgOZ"
      },
      "execution_count": 3,
      "outputs": []
    },
    {
      "cell_type": "markdown",
      "source": [
        "#Create Schema, Tables and Insert Data"
      ],
      "metadata": {
        "id": "JP7hBhEaYzW8"
      }
    },
    {
      "cell_type": "code",
      "source": [
        "# Change the database superuser 'postgres' to a non-default value 'pass'\n",
        "!sudo -u postgres psql -U postgres -c \"ALTER USER postgres PASSWORD 'pass';\""
      ],
      "metadata": {
        "colab": {
          "base_uri": "https://localhost:8080/"
        },
        "id": "NWkT4jeeQXw2",
        "outputId": "879edade-beab-42b3-d10b-a84df0bda8cc"
      },
      "execution_count": 4,
      "outputs": [
        {
          "output_type": "stream",
          "name": "stdout",
          "text": [
            "ALTER ROLE\n"
          ]
        }
      ]
    },
    {
      "cell_type": "code",
      "source": [
        "# Download and execute SQL file to create tables, load data\n",
        "#\n",
        "#!wget https://pgexercises.com/dbfiles/clubdata.sql\n",
        "!wget -q https://raw.githubusercontent.com/Praxis-QR/RDWH/main/data/clubdata.sql\n",
        "#Run the batch file to create tables, load data\n",
        "!psql -h localhost -U postgres -f clubdata.sql -d postgres -x -q\n"
      ],
      "metadata": {
        "id": "01kFB_EbXzKg",
        "colab": {
          "base_uri": "https://localhost:8080/"
        },
        "outputId": "8ddd8c8e-1315-4cbc-d300-008831d022cd"
      },
      "execution_count": 5,
      "outputs": [
        {
          "output_type": "stream",
          "name": "stdout",
          "text": [
            "Password for user postgres: \n"
          ]
        }
      ]
    },
    {
      "cell_type": "code",
      "source": [
        "# Create file to store the password. Else will be prompted each time\n",
        "#!echo \"localhost:5432:praxisdb:postgres:pass\" > ~/.pgpass\n",
        "!echo \"localhost:5432:exercises:postgres:pass\" > ~/.pgpass\n",
        "!chmod 0600 ~/.pgpass\n",
        "!cat ~/.pgpass"
      ],
      "metadata": {
        "colab": {
          "base_uri": "https://localhost:8080/"
        },
        "id": "jTtfpsn7P4ak",
        "outputId": "874970e4-5bbe-4bdb-e37c-c975229f7c2e"
      },
      "execution_count": 6,
      "outputs": [
        {
          "output_type": "stream",
          "name": "stdout",
          "text": [
            "localhost:5432:exercises:postgres:pass\n"
          ]
        }
      ]
    },
    {
      "cell_type": "code",
      "source": [
        "#Note new database called exercises\n",
        "!psql -h localhost -p 5432 -Upostgres -c \"\\l\""
      ],
      "metadata": {
        "colab": {
          "base_uri": "https://localhost:8080/"
        },
        "id": "bjHFMAF_QhCD",
        "outputId": "a41b4b8e-a1ef-44ab-fd18-5324c98dd072"
      },
      "execution_count": 7,
      "outputs": [
        {
          "output_type": "stream",
          "name": "stdout",
          "text": [
            "Password for user postgres: \n",
            "                                  List of databases\n",
            "   Name    |  Owner   | Encoding |   Collate   |    Ctype    |   Access privileges   \n",
            "-----------+----------+----------+-------------+-------------+-----------------------\n",
            " exercises | postgres | UTF8     | en_US.UTF-8 | en_US.UTF-8 | \n",
            " postgres  | postgres | UTF8     | en_US.UTF-8 | en_US.UTF-8 | \n",
            " template0 | postgres | UTF8     | en_US.UTF-8 | en_US.UTF-8 | =c/postgres          +\n",
            "           |          |          |             |             | postgres=CTc/postgres\n",
            " template1 | postgres | UTF8     | en_US.UTF-8 | en_US.UTF-8 | =c/postgres          +\n",
            "           |          |          |             |             | postgres=CTc/postgres\n",
            "(4 rows)\n",
            "\n"
          ]
        }
      ]
    },
    {
      "cell_type": "code",
      "source": [
        "#Note three tables under schema cd\n",
        "!psql -h localhost -p 5432 -Upostgres -d exercises -c \"\\dt+ cd.*\""
      ],
      "metadata": {
        "colab": {
          "base_uri": "https://localhost:8080/"
        },
        "id": "AieaKdT9Qr7Z",
        "outputId": "dc1581e5-65f8-4646-b9c4-910e86e4827b"
      },
      "execution_count": 8,
      "outputs": [
        {
          "output_type": "stream",
          "name": "stdout",
          "text": [
            "                                      List of relations\n",
            " Schema |    Name    | Type  |  Owner   | Persistence | Access method |  Size  | Description \n",
            "--------+------------+-------+----------+-------------+---------------+--------+-------------\n",
            " cd     | bookings   | table | postgres | permanent   | heap          | 264 kB | \n",
            " cd     | facilities | table | postgres | permanent   | heap          | 16 kB  | \n",
            " cd     | members    | table | postgres | permanent   | heap          | 16 kB  | \n",
            "(3 rows)\n",
            "\n"
          ]
        }
      ]
    },
    {
      "cell_type": "markdown",
      "source": [
        "## Python Access\n",
        "https://www.tutorialspoint.com/python_data_access/python_postgresql_database_connection.htm"
      ],
      "metadata": {
        "id": "faZEj8_7CeZ8"
      }
    },
    {
      "cell_type": "code",
      "source": [
        "# Local Colab server\n",
        "\n",
        "conn = psycopg2.connect(database=\"exercises\", user='postgres', password='pass', host='127.0.0.1', port= '5432')\n",
        "#Creating a cursor object using the cursor() method\n",
        "cursor = conn.cursor()\n",
        "#Executing an MYSQL function using the execute() method\n",
        "cursor.execute(\"select version()\")\n",
        "# Fetch a single row using fetchone() method.\n",
        "data = cursor.fetchone()\n",
        "print(\"Connection established to: \",data)\n",
        "#Closing the connection\n",
        "conn.close()"
      ],
      "metadata": {
        "id": "wcE-8UBnC4zV",
        "outputId": "4fc570ce-ba92-46e3-fbf6-9dd2420910d7",
        "colab": {
          "base_uri": "https://localhost:8080/"
        }
      },
      "execution_count": 9,
      "outputs": [
        {
          "output_type": "stream",
          "name": "stdout",
          "text": [
            "Connection established to:  ('PostgreSQL 14.11 (Ubuntu 14.11-0ubuntu0.22.04.1) on x86_64-pc-linux-gnu, compiled by gcc (Ubuntu 11.4.0-1ubuntu1~22.04) 11.4.0, 64-bit',)\n"
          ]
        }
      ]
    },
    {
      "cell_type": "code",
      "source": [
        "# function to execute SQL select statements with Postgres\n",
        "#\n",
        "def runSelect(s):\n",
        "    #Set up connection\n",
        "\n",
        "    conn = psycopg2.connect(database=\"exercises\", user='postgres', password='pass', host='127.0.0.1', port= '5432')\n",
        "    #Setting auto commit true\n",
        "    conn.autocommit = True\n",
        "    #Creating a cursor object using the cursor() method\n",
        "    cursor = conn.cursor()\n",
        "    #Retrieving data\n",
        "    cursor.execute(s)\n",
        "    #Fetching all rows from the table\n",
        "    result = cursor.fetchall();\n",
        "    #print(len(result))\n",
        "    if (len(result)) > 0:                                       # result contains at least one row\n",
        "        colnames = [desc[0] for desc in cursor.description]     # get column names\n",
        "        #print(colnames)\n",
        "        resultdf = pd.DataFrame(result)                         # convert list to dataframe\n",
        "        resultdf.columns = colnames                             # add column names\n",
        "        #return resultdf\n",
        "        return resultdf.style.hide()                            # hide the index\n",
        "    else:\n",
        "        print('no records found')\n",
        "        return\n",
        "# function to execute SQL non-select statements with Postgres\n",
        "#\n",
        "def runCmd(s):\n",
        "    #Create Connection\n",
        "    conn = psycopg2.connect(database=\"exercises\", user='postgres', password='pass', host='127.0.0.1', port= '5432')\n",
        "    #Creating a cursor object using the cursor() method\n",
        "    cursor = conn.cursor()\n",
        "    try:\n",
        "        cursor.execute(s)\n",
        "        print('Command executed')\n",
        "        conn.commit()\n",
        "    except:\n",
        "        print('Command failed')\n",
        "    #Closing the connection\n",
        "    conn.close()"
      ],
      "metadata": {
        "id": "ht2k7-3iggNd"
      },
      "execution_count": 10,
      "outputs": []
    },
    {
      "cell_type": "markdown",
      "source": [
        "##Check Data"
      ],
      "metadata": {
        "id": "RvTKboYtbSjZ"
      }
    },
    {
      "cell_type": "code",
      "source": [
        "runSelect(\"select * from cd.members limit 3\")"
      ],
      "metadata": {
        "colab": {
          "base_uri": "https://localhost:8080/",
          "height": 143
        },
        "id": "ctq0ULCvVTsO",
        "outputId": "e067be67-8e5a-46f5-ce74-59229aa2f5a7"
      },
      "execution_count": null,
      "outputs": [
        {
          "output_type": "execute_result",
          "data": {
            "text/plain": [
              "<pandas.io.formats.style.Styler at 0x7c99c02b6fb0>"
            ],
            "text/html": [
              "<style type=\"text/css\">\n",
              "</style>\n",
              "<table id=\"T_e8dae\" class=\"dataframe\">\n",
              "  <thead>\n",
              "    <tr>\n",
              "      <th id=\"T_e8dae_level0_col0\" class=\"col_heading level0 col0\" >memid</th>\n",
              "      <th id=\"T_e8dae_level0_col1\" class=\"col_heading level0 col1\" >surname</th>\n",
              "      <th id=\"T_e8dae_level0_col2\" class=\"col_heading level0 col2\" >firstname</th>\n",
              "      <th id=\"T_e8dae_level0_col3\" class=\"col_heading level0 col3\" >address</th>\n",
              "      <th id=\"T_e8dae_level0_col4\" class=\"col_heading level0 col4\" >zipcode</th>\n",
              "      <th id=\"T_e8dae_level0_col5\" class=\"col_heading level0 col5\" >telephone</th>\n",
              "      <th id=\"T_e8dae_level0_col6\" class=\"col_heading level0 col6\" >recommendedby</th>\n",
              "      <th id=\"T_e8dae_level0_col7\" class=\"col_heading level0 col7\" >joindate</th>\n",
              "    </tr>\n",
              "  </thead>\n",
              "  <tbody>\n",
              "    <tr>\n",
              "      <td id=\"T_e8dae_row0_col0\" class=\"data row0 col0\" >0</td>\n",
              "      <td id=\"T_e8dae_row0_col1\" class=\"data row0 col1\" >GUEST</td>\n",
              "      <td id=\"T_e8dae_row0_col2\" class=\"data row0 col2\" >GUEST</td>\n",
              "      <td id=\"T_e8dae_row0_col3\" class=\"data row0 col3\" >GUEST</td>\n",
              "      <td id=\"T_e8dae_row0_col4\" class=\"data row0 col4\" >0</td>\n",
              "      <td id=\"T_e8dae_row0_col5\" class=\"data row0 col5\" >(000) 000-0000</td>\n",
              "      <td id=\"T_e8dae_row0_col6\" class=\"data row0 col6\" >None</td>\n",
              "      <td id=\"T_e8dae_row0_col7\" class=\"data row0 col7\" >2012-07-01 00:00:00</td>\n",
              "    </tr>\n",
              "    <tr>\n",
              "      <td id=\"T_e8dae_row1_col0\" class=\"data row1 col0\" >1</td>\n",
              "      <td id=\"T_e8dae_row1_col1\" class=\"data row1 col1\" >Smith</td>\n",
              "      <td id=\"T_e8dae_row1_col2\" class=\"data row1 col2\" >Darren</td>\n",
              "      <td id=\"T_e8dae_row1_col3\" class=\"data row1 col3\" >8 Bloomsbury Close, Boston</td>\n",
              "      <td id=\"T_e8dae_row1_col4\" class=\"data row1 col4\" >4321</td>\n",
              "      <td id=\"T_e8dae_row1_col5\" class=\"data row1 col5\" >555-555-5555</td>\n",
              "      <td id=\"T_e8dae_row1_col6\" class=\"data row1 col6\" >None</td>\n",
              "      <td id=\"T_e8dae_row1_col7\" class=\"data row1 col7\" >2012-07-02 12:02:05</td>\n",
              "    </tr>\n",
              "    <tr>\n",
              "      <td id=\"T_e8dae_row2_col0\" class=\"data row2 col0\" >2</td>\n",
              "      <td id=\"T_e8dae_row2_col1\" class=\"data row2 col1\" >Smith</td>\n",
              "      <td id=\"T_e8dae_row2_col2\" class=\"data row2 col2\" >Tracy</td>\n",
              "      <td id=\"T_e8dae_row2_col3\" class=\"data row2 col3\" >8 Bloomsbury Close, New York</td>\n",
              "      <td id=\"T_e8dae_row2_col4\" class=\"data row2 col4\" >4321</td>\n",
              "      <td id=\"T_e8dae_row2_col5\" class=\"data row2 col5\" >555-555-5555</td>\n",
              "      <td id=\"T_e8dae_row2_col6\" class=\"data row2 col6\" >None</td>\n",
              "      <td id=\"T_e8dae_row2_col7\" class=\"data row2 col7\" >2012-07-02 12:08:23</td>\n",
              "    </tr>\n",
              "  </tbody>\n",
              "</table>\n"
            ]
          },
          "metadata": {},
          "execution_count": 11
        }
      ]
    },
    {
      "cell_type": "code",
      "source": [
        "runSelect(\"select * from cd.facilities limit 3\")"
      ],
      "metadata": {
        "colab": {
          "base_uri": "https://localhost:8080/",
          "height": 143
        },
        "id": "Kz0e14SYXGqy",
        "outputId": "d5cb1a6f-03cc-4f2e-d407-5c77d74365e9"
      },
      "execution_count": null,
      "outputs": [
        {
          "output_type": "execute_result",
          "data": {
            "text/plain": [
              "<pandas.io.formats.style.Styler at 0x7c99c02b71f0>"
            ],
            "text/html": [
              "<style type=\"text/css\">\n",
              "</style>\n",
              "<table id=\"T_a4247\" class=\"dataframe\">\n",
              "  <thead>\n",
              "    <tr>\n",
              "      <th id=\"T_a4247_level0_col0\" class=\"col_heading level0 col0\" >facid</th>\n",
              "      <th id=\"T_a4247_level0_col1\" class=\"col_heading level0 col1\" >name</th>\n",
              "      <th id=\"T_a4247_level0_col2\" class=\"col_heading level0 col2\" >membercost</th>\n",
              "      <th id=\"T_a4247_level0_col3\" class=\"col_heading level0 col3\" >guestcost</th>\n",
              "      <th id=\"T_a4247_level0_col4\" class=\"col_heading level0 col4\" >initialoutlay</th>\n",
              "      <th id=\"T_a4247_level0_col5\" class=\"col_heading level0 col5\" >monthlymaintenance</th>\n",
              "    </tr>\n",
              "  </thead>\n",
              "  <tbody>\n",
              "    <tr>\n",
              "      <td id=\"T_a4247_row0_col0\" class=\"data row0 col0\" >0</td>\n",
              "      <td id=\"T_a4247_row0_col1\" class=\"data row0 col1\" >Tennis Court 1</td>\n",
              "      <td id=\"T_a4247_row0_col2\" class=\"data row0 col2\" >5</td>\n",
              "      <td id=\"T_a4247_row0_col3\" class=\"data row0 col3\" >25</td>\n",
              "      <td id=\"T_a4247_row0_col4\" class=\"data row0 col4\" >10000</td>\n",
              "      <td id=\"T_a4247_row0_col5\" class=\"data row0 col5\" >200</td>\n",
              "    </tr>\n",
              "    <tr>\n",
              "      <td id=\"T_a4247_row1_col0\" class=\"data row1 col0\" >1</td>\n",
              "      <td id=\"T_a4247_row1_col1\" class=\"data row1 col1\" >Tennis Court 2</td>\n",
              "      <td id=\"T_a4247_row1_col2\" class=\"data row1 col2\" >5</td>\n",
              "      <td id=\"T_a4247_row1_col3\" class=\"data row1 col3\" >25</td>\n",
              "      <td id=\"T_a4247_row1_col4\" class=\"data row1 col4\" >8000</td>\n",
              "      <td id=\"T_a4247_row1_col5\" class=\"data row1 col5\" >200</td>\n",
              "    </tr>\n",
              "    <tr>\n",
              "      <td id=\"T_a4247_row2_col0\" class=\"data row2 col0\" >2</td>\n",
              "      <td id=\"T_a4247_row2_col1\" class=\"data row2 col1\" >Badminton Court</td>\n",
              "      <td id=\"T_a4247_row2_col2\" class=\"data row2 col2\" >0</td>\n",
              "      <td id=\"T_a4247_row2_col3\" class=\"data row2 col3\" >15.5</td>\n",
              "      <td id=\"T_a4247_row2_col4\" class=\"data row2 col4\" >4000</td>\n",
              "      <td id=\"T_a4247_row2_col5\" class=\"data row2 col5\" >50</td>\n",
              "    </tr>\n",
              "  </tbody>\n",
              "</table>\n"
            ]
          },
          "metadata": {},
          "execution_count": 12
        }
      ]
    },
    {
      "cell_type": "code",
      "source": [
        "runSelect(\"select * from cd.bookings limit 3\")"
      ],
      "metadata": {
        "colab": {
          "base_uri": "https://localhost:8080/",
          "height": 143
        },
        "id": "ZFliVHZwYn_P",
        "outputId": "387f6564-7311-4f0d-8a4a-eb88ec3fbdd0"
      },
      "execution_count": null,
      "outputs": [
        {
          "output_type": "execute_result",
          "data": {
            "text/plain": [
              "<pandas.io.formats.style.Styler at 0x7c99c02b7f10>"
            ],
            "text/html": [
              "<style type=\"text/css\">\n",
              "</style>\n",
              "<table id=\"T_7f621\" class=\"dataframe\">\n",
              "  <thead>\n",
              "    <tr>\n",
              "      <th id=\"T_7f621_level0_col0\" class=\"col_heading level0 col0\" >bookid</th>\n",
              "      <th id=\"T_7f621_level0_col1\" class=\"col_heading level0 col1\" >facid</th>\n",
              "      <th id=\"T_7f621_level0_col2\" class=\"col_heading level0 col2\" >memid</th>\n",
              "      <th id=\"T_7f621_level0_col3\" class=\"col_heading level0 col3\" >starttime</th>\n",
              "      <th id=\"T_7f621_level0_col4\" class=\"col_heading level0 col4\" >slots</th>\n",
              "    </tr>\n",
              "  </thead>\n",
              "  <tbody>\n",
              "    <tr>\n",
              "      <td id=\"T_7f621_row0_col0\" class=\"data row0 col0\" >0</td>\n",
              "      <td id=\"T_7f621_row0_col1\" class=\"data row0 col1\" >3</td>\n",
              "      <td id=\"T_7f621_row0_col2\" class=\"data row0 col2\" >1</td>\n",
              "      <td id=\"T_7f621_row0_col3\" class=\"data row0 col3\" >2012-07-03 11:00:00</td>\n",
              "      <td id=\"T_7f621_row0_col4\" class=\"data row0 col4\" >2</td>\n",
              "    </tr>\n",
              "    <tr>\n",
              "      <td id=\"T_7f621_row1_col0\" class=\"data row1 col0\" >1</td>\n",
              "      <td id=\"T_7f621_row1_col1\" class=\"data row1 col1\" >4</td>\n",
              "      <td id=\"T_7f621_row1_col2\" class=\"data row1 col2\" >1</td>\n",
              "      <td id=\"T_7f621_row1_col3\" class=\"data row1 col3\" >2012-07-03 08:00:00</td>\n",
              "      <td id=\"T_7f621_row1_col4\" class=\"data row1 col4\" >2</td>\n",
              "    </tr>\n",
              "    <tr>\n",
              "      <td id=\"T_7f621_row2_col0\" class=\"data row2 col0\" >2</td>\n",
              "      <td id=\"T_7f621_row2_col1\" class=\"data row2 col1\" >6</td>\n",
              "      <td id=\"T_7f621_row2_col2\" class=\"data row2 col2\" >0</td>\n",
              "      <td id=\"T_7f621_row2_col3\" class=\"data row2 col3\" >2012-07-03 18:00:00</td>\n",
              "      <td id=\"T_7f621_row2_col4\" class=\"data row2 col4\" >2</td>\n",
              "    </tr>\n",
              "  </tbody>\n",
              "</table>\n"
            ]
          },
          "metadata": {},
          "execution_count": 13
        }
      ]
    },
    {
      "cell_type": "markdown",
      "source": [
        "#Over to ChatGPT"
      ],
      "metadata": {
        "id": "oyF8sXXaAFAj"
      }
    },
    {
      "cell_type": "markdown",
      "source": [
        "I will give you the DDL for three tables and will then ask you to generate SQL statements based on my requirements. Can you do this for me?"
      ],
      "metadata": {
        "id": "snyViEB0ACM3"
      }
    },
    {
      "cell_type": "markdown",
      "source": [
        "Of course! Please provide the DDL (Data Definition Language) for the three tables, along with your requirements, and I'll assist you in generating the SQL statements."
      ],
      "metadata": {
        "id": "vaSgKoXLADsx"
      }
    },
    {
      "cell_type": "markdown",
      "source": [
        "\n",
        "\n",
        "CREATE TABLE bookings (\n",
        "    bookid integer NOT NULL,\n",
        "    facid integer NOT NULL,\n",
        "    memid integer NOT NULL,\n",
        "    starttime timestamp without time zone NOT NULL,\n",
        "    slots integer NOT NULL\n",
        ");\n",
        "\n",
        "\n",
        "--\n",
        "-- TOC entry 169 (class 1259 OID 32770)\n",
        "-- Name: facilities; Type: TABLE; Schema: cd; Owner: -; Tablespace:\n",
        "--\n",
        "\n",
        "CREATE TABLE facilities (\n",
        "    facid integer NOT NULL,\n",
        "    name character varying(100) NOT NULL,\n",
        "    membercost numeric NOT NULL,\n",
        "    guestcost numeric NOT NULL,\n",
        "    initialoutlay numeric NOT NULL,\n",
        "    monthlymaintenance numeric NOT NULL\n",
        ");\n",
        "\n",
        "\n",
        "--\n",
        "-- TOC entry 170 (class 1259 OID 32800)\n",
        "-- Name: members; Type: TABLE; Schema: cd; Owner: -; Tablespace:\n",
        "--\n",
        "\n",
        "CREATE TABLE members (\n",
        "    memid integer NOT NULL,\n",
        "    surname character varying(200) NOT NULL,\n",
        "    firstname character varying(200) NOT NULL,\n",
        "    address character varying(300) NOT NULL,\n",
        "    zipcode integer NOT NULL,\n",
        "    telephone character varying(20) NOT NULL,\n",
        "    recommendedby integer,\n",
        "    joindate timestamp without time zone NOT NULL\n",
        ");\n",
        "\n",
        "ALTER TABLE ONLY bookings\n",
        "    ADD CONSTRAINT bookings_pk PRIMARY KEY (bookid);\n",
        "\n",
        "ALTER TABLE ONLY facilities\n",
        "    ADD CONSTRAINT facilities_pk PRIMARY KEY (facid);\n",
        "\n",
        "ALTER TABLE ONLY members\n",
        "    ADD CONSTRAINT members_pk PRIMARY KEY (memid);\n",
        "\n",
        "ALTER TABLE ONLY bookings\n",
        "    ADD CONSTRAINT fk_bookings_facid FOREIGN KEY (facid) REFERENCES facilities(facid);\n",
        "\n",
        "ALTER TABLE ONLY bookings\n",
        "    ADD CONSTRAINT fk_bookings_memid FOREIGN KEY (memid) REFERENCES members(memid);\n",
        "\n",
        "ALTER TABLE ONLY members\n",
        "    ADD CONSTRAINT fk_members_recommendedby FOREIGN KEY (recommendedby) REFERENCES members(memid) ON DELETE SET NULL;\n",
        "\n"
      ],
      "metadata": {
        "id": "J66O7Dd6AMCw"
      }
    },
    {
      "cell_type": "markdown",
      "source": [
        "Great! Please go ahead and let me know your requirements, and I'll assist you in generating the SQL statements accordingly."
      ],
      "metadata": {
        "id": "uHtZMsdhAYrb"
      }
    },
    {
      "cell_type": "markdown",
      "source": [
        "Produce a list of member names, with each row containing the total member count. Order by join date, and include guest members."
      ],
      "metadata": {
        "id": "2oc9vboY_LkH"
      }
    },
    {
      "cell_type": "code",
      "source": [
        "sql = \"\\\n",
        "SELECT  \\\n",
        "    m.surname || ', ' || m.firstname AS member_name, \\\n",
        "    (SELECT COUNT(*) FROM cd.members) AS total_member_count \\\n",
        "FROM  \\\n",
        "    cd.members m \\\n",
        "ORDER BY \\\n",
        "    m.joindate; \\\n",
        "\"\n",
        "runSelect(sql)\n"
      ],
      "metadata": {
        "colab": {
          "base_uri": "https://localhost:8080/",
          "height": 1000
        },
        "id": "7LH5bcaQ_Rh5",
        "outputId": "ac08be18-14a5-4f29-9aaf-30fe0dcba16a"
      },
      "execution_count": 13,
      "outputs": [
        {
          "output_type": "execute_result",
          "data": {
            "text/plain": [
              "<pandas.io.formats.style.Styler at 0x7ebd100e1e70>"
            ],
            "text/html": [
              "<style type=\"text/css\">\n",
              "</style>\n",
              "<table id=\"T_5f60a\" class=\"dataframe\">\n",
              "  <thead>\n",
              "    <tr>\n",
              "      <th id=\"T_5f60a_level0_col0\" class=\"col_heading level0 col0\" >member_name</th>\n",
              "      <th id=\"T_5f60a_level0_col1\" class=\"col_heading level0 col1\" >total_member_count</th>\n",
              "    </tr>\n",
              "  </thead>\n",
              "  <tbody>\n",
              "    <tr>\n",
              "      <td id=\"T_5f60a_row0_col0\" class=\"data row0 col0\" >GUEST, GUEST</td>\n",
              "      <td id=\"T_5f60a_row0_col1\" class=\"data row0 col1\" >31</td>\n",
              "    </tr>\n",
              "    <tr>\n",
              "      <td id=\"T_5f60a_row1_col0\" class=\"data row1 col0\" >Smith, Darren</td>\n",
              "      <td id=\"T_5f60a_row1_col1\" class=\"data row1 col1\" >31</td>\n",
              "    </tr>\n",
              "    <tr>\n",
              "      <td id=\"T_5f60a_row2_col0\" class=\"data row2 col0\" >Smith, Tracy</td>\n",
              "      <td id=\"T_5f60a_row2_col1\" class=\"data row2 col1\" >31</td>\n",
              "    </tr>\n",
              "    <tr>\n",
              "      <td id=\"T_5f60a_row3_col0\" class=\"data row3 col0\" >Rownam, Tim</td>\n",
              "      <td id=\"T_5f60a_row3_col1\" class=\"data row3 col1\" >31</td>\n",
              "    </tr>\n",
              "    <tr>\n",
              "      <td id=\"T_5f60a_row4_col0\" class=\"data row4 col0\" >Joplette, Janice</td>\n",
              "      <td id=\"T_5f60a_row4_col1\" class=\"data row4 col1\" >31</td>\n",
              "    </tr>\n",
              "    <tr>\n",
              "      <td id=\"T_5f60a_row5_col0\" class=\"data row5 col0\" >Butters, Gerald</td>\n",
              "      <td id=\"T_5f60a_row5_col1\" class=\"data row5 col1\" >31</td>\n",
              "    </tr>\n",
              "    <tr>\n",
              "      <td id=\"T_5f60a_row6_col0\" class=\"data row6 col0\" >Tracy, Burton</td>\n",
              "      <td id=\"T_5f60a_row6_col1\" class=\"data row6 col1\" >31</td>\n",
              "    </tr>\n",
              "    <tr>\n",
              "      <td id=\"T_5f60a_row7_col0\" class=\"data row7 col0\" >Dare, Nancy</td>\n",
              "      <td id=\"T_5f60a_row7_col1\" class=\"data row7 col1\" >31</td>\n",
              "    </tr>\n",
              "    <tr>\n",
              "      <td id=\"T_5f60a_row8_col0\" class=\"data row8 col0\" >Boothe, Tim</td>\n",
              "      <td id=\"T_5f60a_row8_col1\" class=\"data row8 col1\" >31</td>\n",
              "    </tr>\n",
              "    <tr>\n",
              "      <td id=\"T_5f60a_row9_col0\" class=\"data row9 col0\" >Stibbons, Ponder</td>\n",
              "      <td id=\"T_5f60a_row9_col1\" class=\"data row9 col1\" >31</td>\n",
              "    </tr>\n",
              "    <tr>\n",
              "      <td id=\"T_5f60a_row10_col0\" class=\"data row10 col0\" >Owen, Charles</td>\n",
              "      <td id=\"T_5f60a_row10_col1\" class=\"data row10 col1\" >31</td>\n",
              "    </tr>\n",
              "    <tr>\n",
              "      <td id=\"T_5f60a_row11_col0\" class=\"data row11 col0\" >Jones, David</td>\n",
              "      <td id=\"T_5f60a_row11_col1\" class=\"data row11 col1\" >31</td>\n",
              "    </tr>\n",
              "    <tr>\n",
              "      <td id=\"T_5f60a_row12_col0\" class=\"data row12 col0\" >Baker, Anne</td>\n",
              "      <td id=\"T_5f60a_row12_col1\" class=\"data row12 col1\" >31</td>\n",
              "    </tr>\n",
              "    <tr>\n",
              "      <td id=\"T_5f60a_row13_col0\" class=\"data row13 col0\" >Farrell, Jemima</td>\n",
              "      <td id=\"T_5f60a_row13_col1\" class=\"data row13 col1\" >31</td>\n",
              "    </tr>\n",
              "    <tr>\n",
              "      <td id=\"T_5f60a_row14_col0\" class=\"data row14 col0\" >Smith, Jack</td>\n",
              "      <td id=\"T_5f60a_row14_col1\" class=\"data row14 col1\" >31</td>\n",
              "    </tr>\n",
              "    <tr>\n",
              "      <td id=\"T_5f60a_row15_col0\" class=\"data row15 col0\" >Bader, Florence</td>\n",
              "      <td id=\"T_5f60a_row15_col1\" class=\"data row15 col1\" >31</td>\n",
              "    </tr>\n",
              "    <tr>\n",
              "      <td id=\"T_5f60a_row16_col0\" class=\"data row16 col0\" >Baker, Timothy</td>\n",
              "      <td id=\"T_5f60a_row16_col1\" class=\"data row16 col1\" >31</td>\n",
              "    </tr>\n",
              "    <tr>\n",
              "      <td id=\"T_5f60a_row17_col0\" class=\"data row17 col0\" >Pinker, David</td>\n",
              "      <td id=\"T_5f60a_row17_col1\" class=\"data row17 col1\" >31</td>\n",
              "    </tr>\n",
              "    <tr>\n",
              "      <td id=\"T_5f60a_row18_col0\" class=\"data row18 col0\" >Genting, Matthew</td>\n",
              "      <td id=\"T_5f60a_row18_col1\" class=\"data row18 col1\" >31</td>\n",
              "    </tr>\n",
              "    <tr>\n",
              "      <td id=\"T_5f60a_row19_col0\" class=\"data row19 col0\" >Mackenzie, Anna</td>\n",
              "      <td id=\"T_5f60a_row19_col1\" class=\"data row19 col1\" >31</td>\n",
              "    </tr>\n",
              "    <tr>\n",
              "      <td id=\"T_5f60a_row20_col0\" class=\"data row20 col0\" >Coplin, Joan</td>\n",
              "      <td id=\"T_5f60a_row20_col1\" class=\"data row20 col1\" >31</td>\n",
              "    </tr>\n",
              "    <tr>\n",
              "      <td id=\"T_5f60a_row21_col0\" class=\"data row21 col0\" >Sarwin, Ramnaresh</td>\n",
              "      <td id=\"T_5f60a_row21_col1\" class=\"data row21 col1\" >31</td>\n",
              "    </tr>\n",
              "    <tr>\n",
              "      <td id=\"T_5f60a_row22_col0\" class=\"data row22 col0\" >Jones, Douglas</td>\n",
              "      <td id=\"T_5f60a_row22_col1\" class=\"data row22 col1\" >31</td>\n",
              "    </tr>\n",
              "    <tr>\n",
              "      <td id=\"T_5f60a_row23_col0\" class=\"data row23 col0\" >Rumney, Henrietta</td>\n",
              "      <td id=\"T_5f60a_row23_col1\" class=\"data row23 col1\" >31</td>\n",
              "    </tr>\n",
              "    <tr>\n",
              "      <td id=\"T_5f60a_row24_col0\" class=\"data row24 col0\" >Farrell, David</td>\n",
              "      <td id=\"T_5f60a_row24_col1\" class=\"data row24 col1\" >31</td>\n",
              "    </tr>\n",
              "    <tr>\n",
              "      <td id=\"T_5f60a_row25_col0\" class=\"data row25 col0\" >Worthington-Smyth, Henry</td>\n",
              "      <td id=\"T_5f60a_row25_col1\" class=\"data row25 col1\" >31</td>\n",
              "    </tr>\n",
              "    <tr>\n",
              "      <td id=\"T_5f60a_row26_col0\" class=\"data row26 col0\" >Purview, Millicent</td>\n",
              "      <td id=\"T_5f60a_row26_col1\" class=\"data row26 col1\" >31</td>\n",
              "    </tr>\n",
              "    <tr>\n",
              "      <td id=\"T_5f60a_row27_col0\" class=\"data row27 col0\" >Tupperware, Hyacinth</td>\n",
              "      <td id=\"T_5f60a_row27_col1\" class=\"data row27 col1\" >31</td>\n",
              "    </tr>\n",
              "    <tr>\n",
              "      <td id=\"T_5f60a_row28_col0\" class=\"data row28 col0\" >Hunt, John</td>\n",
              "      <td id=\"T_5f60a_row28_col1\" class=\"data row28 col1\" >31</td>\n",
              "    </tr>\n",
              "    <tr>\n",
              "      <td id=\"T_5f60a_row29_col0\" class=\"data row29 col0\" >Crumpet, Erica</td>\n",
              "      <td id=\"T_5f60a_row29_col1\" class=\"data row29 col1\" >31</td>\n",
              "    </tr>\n",
              "    <tr>\n",
              "      <td id=\"T_5f60a_row30_col0\" class=\"data row30 col0\" >Smith, Darren</td>\n",
              "      <td id=\"T_5f60a_row30_col1\" class=\"data row30 col1\" >31</td>\n",
              "    </tr>\n",
              "  </tbody>\n",
              "</table>\n"
            ]
          },
          "metadata": {},
          "execution_count": 13
        }
      ]
    },
    {
      "cell_type": "markdown",
      "source": [
        "You, for some reason, want a combined list of all surnames and all facility names."
      ],
      "metadata": {
        "id": "tJdcxcaZAiAi"
      }
    },
    {
      "cell_type": "code",
      "source": [
        "sql = \"\\\n",
        "SELECT surname AS name FROM cd.members \\\n",
        "UNION \\\n",
        "SELECT name FROM cd.facilities; \\\n",
        "\"\n",
        "runSelect(sql)"
      ],
      "metadata": {
        "colab": {
          "base_uri": "https://localhost:8080/",
          "height": 1000
        },
        "id": "_D_x59z9Arbt",
        "outputId": "f99d8b8c-f7a9-4f83-c42e-fd5fc4e00237"
      },
      "execution_count": 14,
      "outputs": [
        {
          "output_type": "execute_result",
          "data": {
            "text/plain": [
              "<pandas.io.formats.style.Styler at 0x7ebce23675e0>"
            ],
            "text/html": [
              "<style type=\"text/css\">\n",
              "</style>\n",
              "<table id=\"T_739a7\" class=\"dataframe\">\n",
              "  <thead>\n",
              "    <tr>\n",
              "      <th id=\"T_739a7_level0_col0\" class=\"col_heading level0 col0\" >name</th>\n",
              "    </tr>\n",
              "  </thead>\n",
              "  <tbody>\n",
              "    <tr>\n",
              "      <td id=\"T_739a7_row0_col0\" class=\"data row0 col0\" >Hunt</td>\n",
              "    </tr>\n",
              "    <tr>\n",
              "      <td id=\"T_739a7_row1_col0\" class=\"data row1 col0\" >Farrell</td>\n",
              "    </tr>\n",
              "    <tr>\n",
              "      <td id=\"T_739a7_row2_col0\" class=\"data row2 col0\" >Tennis Court 2</td>\n",
              "    </tr>\n",
              "    <tr>\n",
              "      <td id=\"T_739a7_row3_col0\" class=\"data row3 col0\" >Table Tennis</td>\n",
              "    </tr>\n",
              "    <tr>\n",
              "      <td id=\"T_739a7_row4_col0\" class=\"data row4 col0\" >Dare</td>\n",
              "    </tr>\n",
              "    <tr>\n",
              "      <td id=\"T_739a7_row5_col0\" class=\"data row5 col0\" >Rownam</td>\n",
              "    </tr>\n",
              "    <tr>\n",
              "      <td id=\"T_739a7_row6_col0\" class=\"data row6 col0\" >GUEST</td>\n",
              "    </tr>\n",
              "    <tr>\n",
              "      <td id=\"T_739a7_row7_col0\" class=\"data row7 col0\" >Badminton Court</td>\n",
              "    </tr>\n",
              "    <tr>\n",
              "      <td id=\"T_739a7_row8_col0\" class=\"data row8 col0\" >Smith</td>\n",
              "    </tr>\n",
              "    <tr>\n",
              "      <td id=\"T_739a7_row9_col0\" class=\"data row9 col0\" >Tupperware</td>\n",
              "    </tr>\n",
              "    <tr>\n",
              "      <td id=\"T_739a7_row10_col0\" class=\"data row10 col0\" >Owen</td>\n",
              "    </tr>\n",
              "    <tr>\n",
              "      <td id=\"T_739a7_row11_col0\" class=\"data row11 col0\" >Worthington-Smyth</td>\n",
              "    </tr>\n",
              "    <tr>\n",
              "      <td id=\"T_739a7_row12_col0\" class=\"data row12 col0\" >Butters</td>\n",
              "    </tr>\n",
              "    <tr>\n",
              "      <td id=\"T_739a7_row13_col0\" class=\"data row13 col0\" >Rumney</td>\n",
              "    </tr>\n",
              "    <tr>\n",
              "      <td id=\"T_739a7_row14_col0\" class=\"data row14 col0\" >Tracy</td>\n",
              "    </tr>\n",
              "    <tr>\n",
              "      <td id=\"T_739a7_row15_col0\" class=\"data row15 col0\" >Crumpet</td>\n",
              "    </tr>\n",
              "    <tr>\n",
              "      <td id=\"T_739a7_row16_col0\" class=\"data row16 col0\" >Purview</td>\n",
              "    </tr>\n",
              "    <tr>\n",
              "      <td id=\"T_739a7_row17_col0\" class=\"data row17 col0\" >Massage Room 2</td>\n",
              "    </tr>\n",
              "    <tr>\n",
              "      <td id=\"T_739a7_row18_col0\" class=\"data row18 col0\" >Sarwin</td>\n",
              "    </tr>\n",
              "    <tr>\n",
              "      <td id=\"T_739a7_row19_col0\" class=\"data row19 col0\" >Baker</td>\n",
              "    </tr>\n",
              "    <tr>\n",
              "      <td id=\"T_739a7_row20_col0\" class=\"data row20 col0\" >Pool Table</td>\n",
              "    </tr>\n",
              "    <tr>\n",
              "      <td id=\"T_739a7_row21_col0\" class=\"data row21 col0\" >Snooker Table</td>\n",
              "    </tr>\n",
              "    <tr>\n",
              "      <td id=\"T_739a7_row22_col0\" class=\"data row22 col0\" >Jones</td>\n",
              "    </tr>\n",
              "    <tr>\n",
              "      <td id=\"T_739a7_row23_col0\" class=\"data row23 col0\" >Coplin</td>\n",
              "    </tr>\n",
              "    <tr>\n",
              "      <td id=\"T_739a7_row24_col0\" class=\"data row24 col0\" >Mackenzie</td>\n",
              "    </tr>\n",
              "    <tr>\n",
              "      <td id=\"T_739a7_row25_col0\" class=\"data row25 col0\" >Boothe</td>\n",
              "    </tr>\n",
              "    <tr>\n",
              "      <td id=\"T_739a7_row26_col0\" class=\"data row26 col0\" >Joplette</td>\n",
              "    </tr>\n",
              "    <tr>\n",
              "      <td id=\"T_739a7_row27_col0\" class=\"data row27 col0\" >Stibbons</td>\n",
              "    </tr>\n",
              "    <tr>\n",
              "      <td id=\"T_739a7_row28_col0\" class=\"data row28 col0\" >Squash Court</td>\n",
              "    </tr>\n",
              "    <tr>\n",
              "      <td id=\"T_739a7_row29_col0\" class=\"data row29 col0\" >Tennis Court 1</td>\n",
              "    </tr>\n",
              "    <tr>\n",
              "      <td id=\"T_739a7_row30_col0\" class=\"data row30 col0\" >Pinker</td>\n",
              "    </tr>\n",
              "    <tr>\n",
              "      <td id=\"T_739a7_row31_col0\" class=\"data row31 col0\" >Genting</td>\n",
              "    </tr>\n",
              "    <tr>\n",
              "      <td id=\"T_739a7_row32_col0\" class=\"data row32 col0\" >Bader</td>\n",
              "    </tr>\n",
              "    <tr>\n",
              "      <td id=\"T_739a7_row33_col0\" class=\"data row33 col0\" >Massage Room 1</td>\n",
              "    </tr>\n",
              "  </tbody>\n",
              "</table>\n"
            ]
          },
          "metadata": {},
          "execution_count": 14
        }
      ]
    },
    {
      "cell_type": "markdown",
      "source": [
        "#Chronobooks <br>\n",
        "Two science fiction novels by Prithwis Mukerjee. A dystopian Earth. A technocratic society managed by artificial intelligence. Escape and epiphany on Mars. Can man and machine, carbon and silicon explore and escape into other dimensions of existence? An Indic perspective rooted in Advaita Vedanta and the Divine Feminine.  [More information](http://bit.ly/chronobooks) <br>\n",
        "![alt text](https://github.com/Praxis-QR/RDWH/raw/main/images/CTCYFooter-1.png)"
      ],
      "metadata": {
        "id": "_gNiZpyW3AzJ"
      }
    },
    {
      "cell_type": "code",
      "source": [
        "from datetime import datetime\n",
        "import pytz\n",
        "print('Last tested  ',datetime.now(pytz.timezone('Asia/Kolkata')))"
      ],
      "metadata": {
        "colab": {
          "base_uri": "https://localhost:8080/"
        },
        "id": "wjBXJVhM605H",
        "outputId": "9f6365a3-3258-478f-915d-1489b4b228d5"
      },
      "execution_count": null,
      "outputs": [
        {
          "output_type": "stream",
          "name": "stdout",
          "text": [
            "Last tested   2024-01-16 09:51:36.113569+05:30\n"
          ]
        }
      ]
    }
  ]
}