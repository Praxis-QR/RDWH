{
  "nbformat": 4,
  "nbformat_minor": 0,
  "metadata": {
    "colab": {
      "provenance": [],
      "toc_visible": true,
      "include_colab_link": true
    },
    "kernelspec": {
      "name": "python3",
      "display_name": "Python 3"
    },
    "language_info": {
      "name": "python"
    }
  },
  "cells": [
    {
      "cell_type": "markdown",
      "metadata": {
        "id": "view-in-github",
        "colab_type": "text"
      },
      "source": [
        "<a href=\"https://colab.research.google.com/github/Praxis-QR/RDWH/blob/main/PostgreSQL_03A_ROLAP.ipynb\" target=\"_parent\"><img src=\"https://colab.research.google.com/assets/colab-badge.svg\" alt=\"Open In Colab\"/></a>"
      ]
    },
    {
      "cell_type": "markdown",
      "source": [
        "![Yantrajaal Banner](https://github.com/Praxis-QR/RDWH/raw/main/images/YantraJaalBanner.png)<br>\n",
        "\n",
        "\n",
        "<hr>\n",
        "\n",
        "[Prithwis Mukerjee](http://www.linkedin.com/in/prithwis)<br>"
      ],
      "metadata": {
        "id": "DBzz-qaN2tKu"
      }
    },
    {
      "cell_type": "markdown",
      "source": [
        "#Install & Configure Postgres"
      ],
      "metadata": {
        "id": "nD-QawLT6kDr"
      }
    },
    {
      "cell_type": "code",
      "source": [
        "from datetime import datetime\n",
        "import pytz\n",
        "print('Tested on ',datetime.now(pytz.timezone('Asia/Calcutta')))\n",
        "!python --version\n",
        "!lsb_release -a"
      ],
      "metadata": {
        "id": "txwvst5Hs5mI",
        "outputId": "89730649-5bf6-498a-e3cf-3fe7e2c38c4a",
        "colab": {
          "base_uri": "https://localhost:8080/"
        }
      },
      "execution_count": 1,
      "outputs": [
        {
          "output_type": "stream",
          "name": "stdout",
          "text": [
            "Tested on  2024-01-05 05:46:40.645692+05:30\n",
            "Python 3.10.12\n",
            "No LSB modules are available.\n",
            "Distributor ID:\tUbuntu\n",
            "Description:\tUbuntu 22.04.3 LTS\n",
            "Release:\t22.04\n",
            "Codename:\tjammy\n"
          ]
        }
      ]
    },
    {
      "cell_type": "markdown",
      "source": [
        "For Connecting to a Postgres server on Amazon RDS, see [this notebook](https://github.com/Praxis-QR/RDWH/blob/main/PostgreSQL_01_Install_Config.ipynb)"
      ],
      "metadata": {
        "id": "9w29_O07rTPE"
      }
    },
    {
      "cell_type": "code",
      "source": [
        "# Install postgresql server\n",
        "\n",
        "!apt update > /dev/null\n",
        "!apt install postgresql > /dev/null\n",
        "#!sudo -u postgres psql -V\n",
        "!psql -V\n",
        "!service postgresql start"
      ],
      "metadata": {
        "colab": {
          "base_uri": "https://localhost:8080/"
        },
        "id": "o_RaqE0OOHP3",
        "outputId": "f51fd77e-c6a0-4deb-fb01-7630e959a6d7"
      },
      "execution_count": 2,
      "outputs": [
        {
          "output_type": "stream",
          "name": "stdout",
          "text": [
            "\n",
            "WARNING: apt does not have a stable CLI interface. Use with caution in scripts.\n",
            "\n",
            "\n",
            "WARNING: apt does not have a stable CLI interface. Use with caution in scripts.\n",
            "\n",
            "psql (PostgreSQL) 14.10 (Ubuntu 14.10-0ubuntu0.22.04.1)\n",
            " * Starting PostgreSQL 14 database server\n",
            "   ...done.\n"
          ]
        }
      ]
    },
    {
      "cell_type": "code",
      "source": [
        "#!pip install psycopg2\n",
        "import psycopg2\n",
        "import pandas as pd"
      ],
      "metadata": {
        "id": "719jvpeIjLZX"
      },
      "execution_count": 3,
      "outputs": []
    },
    {
      "cell_type": "code",
      "source": [
        "# This has created an Ubuntu user 'postgres' AND a Postgres database user 'postgres' both of which are superusers\n",
        "#!cat /etc/passwd\n",
        "# Use these users to create a new database user called 'upraxis' and give it a password 'upass'\n",
        "#!sudo -u postgres createuser --superuser upraxis\n",
        "!sudo -u postgres createuser upraxis\n",
        "!sudo -u postgres psql -U postgres -c \"ALTER USER upraxis PASSWORD 'upass';\"\n",
        "# Change the database superuser 'postgres' to a non-default value 'pass'\n",
        "!sudo -u postgres psql -U postgres -c \"ALTER USER postgres PASSWORD 'pass';\"\n",
        "# Use ubuntu superuser to create database dbpraxis and set its owner to upraxis\n",
        "!sudo -u postgres createdb -O upraxis dbpraxis\n"
      ],
      "metadata": {
        "colab": {
          "base_uri": "https://localhost:8080/"
        },
        "id": "xr5kHaY_U4CZ",
        "outputId": "3826f28f-fc3d-465b-c2f7-1e89faa4855b"
      },
      "execution_count": 4,
      "outputs": [
        {
          "output_type": "stream",
          "name": "stdout",
          "text": [
            "ALTER ROLE\n",
            "ALTER ROLE\n"
          ]
        }
      ]
    },
    {
      "cell_type": "code",
      "source": [
        "# Create file to store the password. Else will be prompted each time\n",
        "#!echo \"localhost:5432:praxisdb:postgres:pass\" > ~/.pgpass\n",
        "!echo \"localhost:5432:dbpraxis:upraxis:upass\" > ~/.pgpass\n",
        "!chmod 0600 ~/.pgpass\n",
        "!cat ~/.pgpass"
      ],
      "metadata": {
        "colab": {
          "base_uri": "https://localhost:8080/"
        },
        "id": "kFDLMhnTWwuz",
        "outputId": "903ddd28-0a6d-48be-b950-7e182bf228fe"
      },
      "execution_count": 5,
      "outputs": [
        {
          "output_type": "stream",
          "name": "stdout",
          "text": [
            "localhost:5432:dbpraxis:upraxis:upass\n"
          ]
        }
      ]
    },
    {
      "cell_type": "markdown",
      "source": [
        "## Python Access\n",
        "https://www.tutorialspoint.com/python_data_access/python_postgresql_database_connection.htm"
      ],
      "metadata": {
        "id": "faZEj8_7CeZ8"
      }
    },
    {
      "cell_type": "code",
      "source": [
        "# Local Colab server\n",
        "\n",
        "conn = psycopg2.connect(database=\"dbpraxis\", user='upraxis', password='upass', host='127.0.0.1', port= '5432')\n",
        "#Creating a cursor object using the cursor() method\n",
        "cursor = conn.cursor()\n",
        "#Executing an MYSQL function using the execute() method\n",
        "cursor.execute(\"select version()\")\n",
        "# Fetch a single row using fetchone() method.\n",
        "data = cursor.fetchone()\n",
        "print(\"Connection established to: \",data)\n",
        "#Closing the connection\n",
        "conn.close()"
      ],
      "metadata": {
        "id": "wcE-8UBnC4zV",
        "outputId": "d878b6bd-9b5c-4235-fd55-99c75536f1de",
        "colab": {
          "base_uri": "https://localhost:8080/"
        }
      },
      "execution_count": 6,
      "outputs": [
        {
          "output_type": "stream",
          "name": "stdout",
          "text": [
            "Connection established to:  ('PostgreSQL 14.10 (Ubuntu 14.10-0ubuntu0.22.04.1) on x86_64-pc-linux-gnu, compiled by gcc (Ubuntu 11.4.0-1ubuntu1~22.04) 11.4.0, 64-bit',)\n"
          ]
        }
      ]
    },
    {
      "cell_type": "code",
      "source": [
        "# function to execute SQL select statements with Postgres\n",
        "#\n",
        "def runSelect(s):\n",
        "    #Set up connection\n",
        "\n",
        "    conn = psycopg2.connect(database=\"dbpraxis\", user='upraxis', password='upass', host='127.0.0.1', port= '5432')\n",
        "    #Setting auto commit true\n",
        "    conn.autocommit = True\n",
        "    #Creating a cursor object using the cursor() method\n",
        "    cursor = conn.cursor()\n",
        "    #Retrieving data\n",
        "    cursor.execute(s)\n",
        "    #Fetching all rows from the table\n",
        "    result = cursor.fetchall();\n",
        "    #print(len(result))\n",
        "    if (len(result)) > 0:                                       # result contains at least one row\n",
        "        colnames = [desc[0] for desc in cursor.description]     # get column names\n",
        "        #print(colnames)\n",
        "        resultdf = pd.DataFrame(result)                         # convert list to dataframe\n",
        "        resultdf.columns = colnames                             # add column names\n",
        "        #return resultdf\n",
        "        return resultdf.style.hide()                            # hide the index\n",
        "    else:\n",
        "        print('no records found')\n",
        "        return\n",
        "# function to execute SQL non-select statements with Postgres\n",
        "#\n",
        "def runCmd(s):\n",
        "    #Create Connection\n",
        "    conn = psycopg2.connect(database=\"dbpraxis\", user='upraxis', password='upass', host='127.0.0.1', port= '5432')\n",
        "    #Creating a cursor object using the cursor() method\n",
        "    cursor = conn.cursor()\n",
        "    try:\n",
        "        cursor.execute(s)\n",
        "        print('Command executed')\n",
        "        conn.commit()\n",
        "    except:\n",
        "        print('Command failed')\n",
        "    #Closing the connection\n",
        "    conn.close()"
      ],
      "metadata": {
        "id": "ht2k7-3iggNd"
      },
      "execution_count": 7,
      "outputs": []
    },
    {
      "cell_type": "markdown",
      "source": [
        "# Build Standard Fact Table"
      ],
      "metadata": {
        "id": "UpKxIxq_7GfT"
      }
    },
    {
      "cell_type": "markdown",
      "source": [
        "## Create Normalised Fact Table"
      ],
      "metadata": {
        "id": "mzJFA1yx7tPe"
      }
    },
    {
      "cell_type": "code",
      "source": [
        "!psql -h localhost -p 5432 -Uupraxis -ddbpraxis -c \"\\\n",
        "DROP table if exists CarSalesFact_N;\\\n",
        "CREATE TABLE if not exists CarSalesFact_N ( Txn int ,  Dim  varchar(8) ,  DimValue varchar(8) );\\\n",
        "INSERT INTO CarSalesFact_N (Txn, Dim, DimValue) VALUES \\\n",
        " (1, 'Make', 'Honda'),(1, 'Type', 'SUV'),(1, 'Colour', 'Red'),\\\n",
        " (2, 'Make', 'Honda'),(2, 'Type', 'SUV'),(2, 'Colour', 'Black'), \\\n",
        " (3, 'Make', 'Honda'),(3, 'Type', 'Sedan'),(3, 'Colour', 'Brown'),\\\n",
        " (4, 'Make', 'Toyota'),(4, 'Type', 'Compact'),(4, 'Colour', 'Red'),\\\n",
        " (5, 'Make', 'Toyota'),(5, 'Colour', 'Black'),(5, 'Type', 'Sedan'),\\\n",
        " (6, 'Make', 'Toyota'),(6, 'Colour', 'Black'),(6, 'Type', 'Sedan'),\\\n",
        " (7, 'Make', 'Honda'),(7, 'Type', 'SUV'),(7, 'Colour', 'Black'),\\\n",
        " (8, 'Make', 'Honda'),(8, 'Type', 'SUV'),(8, 'Colour', 'Red'),\\\n",
        " (9, 'Make', 'Honda'),(9, 'Type', 'SUV'),(9, 'Colour', 'Black'),\\\n",
        " (10, 'Make', 'Honda'),(10, 'Type', 'SUV'),(10, 'Colour', 'Black'),\\\n",
        " (11, 'Make', 'Mazda'),(11, 'Type', 'SUV'),(11, 'Colour', 'Black'),\\\n",
        " (12, 'Make', 'Mazda'),(12, 'Type', 'Compact'),(12, 'Colour', 'Red'),\\\n",
        " (13, 'Make', 'Mazda'),(13, 'Type', 'Sedan'),(13, 'Colour', 'Brown'),\\\n",
        " (14, 'Make', 'Mazda'),(14, 'Type', 'SUV'),(14, 'Colour', 'Red');\\\n",
        "\"\n",
        "#runCmd(ddl)\n"
      ],
      "metadata": {
        "colab": {
          "base_uri": "https://localhost:8080/"
        },
        "id": "MDwbINEO7V-4",
        "outputId": "709b393b-a730-479c-fe78-c836406306fb"
      },
      "execution_count": 8,
      "outputs": [
        {
          "output_type": "stream",
          "name": "stdout",
          "text": [
            "NOTICE:  table \"carsalesfact_n\" does not exist, skipping\n",
            "INSERT 0 42\n"
          ]
        }
      ]
    },
    {
      "cell_type": "markdown",
      "source": [
        "## Transpose (\"Pivot\") Columns to Rows\n",
        "Convert a Normalised Fact Table to a Standard Fact Table"
      ],
      "metadata": {
        "id": "k0rXiciVtu7Q"
      }
    },
    {
      "cell_type": "code",
      "source": [
        "#runSelect(\"select * from CarSalesFact_N\")\n",
        "!psql -h localhost -p 5432 -Uupraxis -ddbpraxis -c \"select * from CarSalesFact_N\""
      ],
      "metadata": {
        "id": "N3NZv0YahSs6",
        "outputId": "4c46c513-7bba-4604-fed6-1c660b4337df",
        "colab": {
          "base_uri": "https://localhost:8080/"
        }
      },
      "execution_count": 9,
      "outputs": [
        {
          "output_type": "stream",
          "name": "stdout",
          "text": [
            " txn |  dim   | dimvalue \n",
            "-----+--------+----------\n",
            "   1 | Make   | Honda\n",
            "   1 | Type   | SUV\n",
            "   1 | Colour | Red\n",
            "   2 | Make   | Honda\n",
            "   2 | Type   | SUV\n",
            "   2 | Colour | Black\n",
            "   3 | Make   | Honda\n",
            "   3 | Type   | Sedan\n",
            "   3 | Colour | Brown\n",
            "   4 | Make   | Toyota\n",
            "   4 | Type   | Compact\n",
            "   4 | Colour | Red\n",
            "   5 | Make   | Toyota\n",
            "   5 | Colour | Black\n",
            "   5 | Type   | Sedan\n",
            "   6 | Make   | Toyota\n",
            "   6 | Colour | Black\n",
            "   6 | Type   | Sedan\n",
            "   7 | Make   | Honda\n",
            "   7 | Type   | SUV\n",
            "   7 | Colour | Black\n",
            "   8 | Make   | Honda\n",
            "   8 | Type   | SUV\n",
            "   8 | Colour | Red\n",
            "   9 | Make   | Honda\n",
            "   9 | Type   | SUV\n",
            "   9 | Colour | Black\n",
            "  10 | Make   | Honda\n",
            "  10 | Type   | SUV\n",
            "  10 | Colour | Black\n",
            "  11 | Make   | Mazda\n",
            "  11 | Type   | SUV\n",
            "  11 | Colour | Black\n",
            "  12 | Make   | Mazda\n",
            "  12 | Type   | Compact\n",
            "  12 | Colour | Red\n",
            "  13 | Make   | Mazda\n",
            "  13 | Type   | Sedan\n",
            "  13 | Colour | Brown\n",
            "  14 | Make   | Mazda\n",
            "  14 | Type   | SUV\n",
            "  14 | Colour | Red\n",
            "(42 rows)\n",
            "\n"
          ]
        }
      ]
    },
    {
      "cell_type": "code",
      "source": [
        "!psql -h localhost -p 5432 -Uupraxis -ddbpraxis -c \" \\\n",
        "SELECT \\\n",
        "  Txn,\\\n",
        "  string_agg(case when Dim = 'Make' then DimValue else NULL end,';') Make,\\\n",
        "  string_agg(case when Dim = 'Type' then DimValue else NULL end,';') Type,\\\n",
        "  string_agg(case when Dim = 'Colour' then DimValue else NULL end,';') Colour \\\n",
        "FROM CarSalesFact_N \\\n",
        "GROUP BY txn\\\n",
        "\"\n",
        "#runSelect(sql)\n"
      ],
      "metadata": {
        "colab": {
          "base_uri": "https://localhost:8080/"
        },
        "id": "5ZdLY4Xuvllk",
        "outputId": "6e18a9d5-9826-4cb6-bbdc-b790c4060d9e"
      },
      "execution_count": 10,
      "outputs": [
        {
          "output_type": "stream",
          "name": "stdout",
          "text": [
            " txn |  make  |  type   | colour \n",
            "-----+--------+---------+--------\n",
            "   1 | Honda  | SUV     | Red\n",
            "   2 | Honda  | SUV     | Black\n",
            "   3 | Honda  | Sedan   | Brown\n",
            "   4 | Toyota | Compact | Red\n",
            "   5 | Toyota | Sedan   | Black\n",
            "   6 | Toyota | Sedan   | Black\n",
            "   7 | Honda  | SUV     | Black\n",
            "   8 | Honda  | SUV     | Red\n",
            "   9 | Honda  | SUV     | Black\n",
            "  10 | Honda  | SUV     | Black\n",
            "  11 | Mazda  | SUV     | Black\n",
            "  12 | Mazda  | Compact | Red\n",
            "  13 | Mazda  | Sedan   | Brown\n",
            "  14 | Mazda  | SUV     | Red\n",
            "(14 rows)\n",
            "\n"
          ]
        }
      ]
    },
    {
      "cell_type": "code",
      "source": [
        "!psql -h localhost -p 5432 -Uupraxis -ddbpraxis -c \" \\\n",
        "select csf0.Make, csf0.Type, csf0.Colour, count(txn) Units from \\\n",
        "    ( \\\n",
        "    SELECT \\\n",
        "    Txn,\\\n",
        "    string_agg(case when Dim = 'Make' then DimValue else NULL end,';') Make,\\\n",
        "    string_agg(case when Dim = 'Type' then DimValue else NULL end,';') Type,\\\n",
        "    string_agg(case when Dim = 'Colour' then DimValue else NULL end,';') Colour \\\n",
        "    FROM CarSalesFact_N \\\n",
        "    GROUP BY txn\\\n",
        "    ) as csf0 \\\n",
        "group by \\\n",
        "csf0.Make, csf0.Type, csf0.Colour \\\n",
        "\"\n",
        "#runSelect(sql)"
      ],
      "metadata": {
        "colab": {
          "base_uri": "https://localhost:8080/"
        },
        "id": "FnRoFQKQ2YUZ",
        "outputId": "4c5da934-c8bc-41f5-dee4-9fc84f6eec3e"
      },
      "execution_count": 11,
      "outputs": [
        {
          "output_type": "stream",
          "name": "stdout",
          "text": [
            "  make  |  type   | colour | units \n",
            "--------+---------+--------+-------\n",
            " Honda  | SUV     | Red    |     2\n",
            " Honda  | SUV     | Black  |     4\n",
            " Toyota | Compact | Red    |     1\n",
            " Mazda  | Compact | Red    |     1\n",
            " Mazda  | SUV     | Red    |     1\n",
            " Toyota | Sedan   | Black  |     2\n",
            " Honda  | Sedan   | Brown  |     1\n",
            " Mazda  | Sedan   | Brown  |     1\n",
            " Mazda  | SUV     | Black  |     1\n",
            "(9 rows)\n",
            "\n"
          ]
        }
      ]
    },
    {
      "cell_type": "markdown",
      "source": [
        "## Create Standard Fact Table"
      ],
      "metadata": {
        "id": "5g0B2epY70xA"
      }
    },
    {
      "cell_type": "code",
      "source": [
        "ddl = \"\\\n",
        "drop table if exists CarSalesFact_S; \\\n",
        "create table if not exists CarSalesFact_S as ( \\\n",
        "    select csf0.Make, csf0.Type, csf0.Colour, count(txn) Units from \\\n",
        "        ( \\\n",
        "        SELECT \\\n",
        "        Txn,\\\n",
        "        string_agg(case when Dim = 'Make' then DimValue else NULL end,';') Make,\\\n",
        "        string_agg(case when Dim = 'Type' then DimValue else NULL end,';') Type,\\\n",
        "        string_agg(case when Dim = 'Colour' then DimValue else NULL end,';') Colour \\\n",
        "        FROM CarSalesFact_N \\\n",
        "        GROUP BY txn\\\n",
        "        ) as csf0 \\\n",
        "    group by \\\n",
        "    csf0.Make, csf0.Type, csf0.Colour \\\n",
        "    ) \\\n",
        "\"\n",
        "runCmd(ddl)"
      ],
      "metadata": {
        "colab": {
          "base_uri": "https://localhost:8080/"
        },
        "id": "fQrVdvuD3OIX",
        "outputId": "1f714813-d3df-4974-bbd0-7bef32ee5523"
      },
      "execution_count": 12,
      "outputs": [
        {
          "output_type": "stream",
          "name": "stdout",
          "text": [
            "Command executed\n"
          ]
        }
      ]
    },
    {
      "cell_type": "code",
      "source": [
        "#runSelect(\"select * from CarSalesFact_S\")\n",
        "!psql -h localhost -p 5432 -Uupraxis -ddbpraxis -c \"select * from CarSalesFact_S\""
      ],
      "metadata": {
        "colab": {
          "base_uri": "https://localhost:8080/"
        },
        "id": "khq53WrI4JGY",
        "outputId": "087cca30-6808-412a-d4aa-03278f0612b9"
      },
      "execution_count": 13,
      "outputs": [
        {
          "output_type": "stream",
          "name": "stdout",
          "text": [
            "  make  |  type   | colour | units \n",
            "--------+---------+--------+-------\n",
            " Honda  | SUV     | Red    |     2\n",
            " Honda  | SUV     | Black  |     4\n",
            " Toyota | Compact | Red    |     1\n",
            " Mazda  | Compact | Red    |     1\n",
            " Mazda  | SUV     | Red    |     1\n",
            " Toyota | Sedan   | Black  |     2\n",
            " Honda  | Sedan   | Brown  |     1\n",
            " Mazda  | Sedan   | Brown  |     1\n",
            " Mazda  | SUV     | Black  |     1\n",
            "(9 rows)\n",
            "\n"
          ]
        }
      ]
    },
    {
      "cell_type": "markdown",
      "source": [
        "#Cross Tab a.k.a Pivot"
      ],
      "metadata": {
        "id": "chK7LJhP8ELu"
      }
    },
    {
      "cell_type": "markdown",
      "source": [
        "## Level 1 - Simple Group By"
      ],
      "metadata": {
        "id": "IosDeDv78L_1"
      }
    },
    {
      "cell_type": "code",
      "source": [
        "!psql -h localhost -p 5432 -Uupraxis -ddbpraxis -c \"\\\n",
        "select Make, Type, Sum(Units) Count \\\n",
        "  from CarSalesFact_S \\\n",
        "  group by Make, Type \\\n",
        "\"\n",
        "#runSelect(sql)"
      ],
      "metadata": {
        "colab": {
          "base_uri": "https://localhost:8080/"
        },
        "id": "oGu4452n8Tpp",
        "outputId": "03ec6574-e5b9-4dd4-ae6d-8af36d24dc61"
      },
      "execution_count": 14,
      "outputs": [
        {
          "output_type": "stream",
          "name": "stdout",
          "text": [
            "  make  |  type   | count \n",
            "--------+---------+-------\n",
            " Mazda  | SUV     |     2\n",
            " Honda  | SUV     |     6\n",
            " Mazda  | Sedan   |     1\n",
            " Toyota | Compact |     1\n",
            " Toyota | Sedan   |     2\n",
            " Honda  | Sedan   |     1\n",
            " Mazda  | Compact |     1\n",
            "(7 rows)\n",
            "\n"
          ]
        }
      ]
    },
    {
      "cell_type": "markdown",
      "source": [
        "## Level 2 : Group BY with ROLLUP"
      ],
      "metadata": {
        "id": "57jOZZMB8qux"
      }
    },
    {
      "cell_type": "markdown",
      "source": [
        "### Basic Rollup"
      ],
      "metadata": {
        "id": "-2GW9MSi_s0e"
      }
    },
    {
      "cell_type": "code",
      "source": [
        "!psql -h localhost -p 5432 -Uupraxis -ddbpraxis -c\"\\\n",
        "select Make, Type, Sum(Units) Count \\\n",
        "  from CarSalesFact_S \\\n",
        "  group by rollup(Make, Type) \\\n",
        "\"\n",
        "#runSelect(sql)"
      ],
      "metadata": {
        "colab": {
          "base_uri": "https://localhost:8080/"
        },
        "id": "me9GMHXS8yTf",
        "outputId": "7a466869-458f-4cb2-927b-92cfe71d6a52"
      },
      "execution_count": 15,
      "outputs": [
        {
          "output_type": "stream",
          "name": "stdout",
          "text": [
            "  make  |  type   | count \n",
            "--------+---------+-------\n",
            "        |         |    14\n",
            " Mazda  | SUV     |     2\n",
            " Honda  | SUV     |     6\n",
            " Mazda  | Sedan   |     1\n",
            " Toyota | Compact |     1\n",
            " Toyota | Sedan   |     2\n",
            " Honda  | Sedan   |     1\n",
            " Mazda  | Compact |     1\n",
            " Honda  |         |     7\n",
            " Toyota |         |     3\n",
            " Mazda  |         |     4\n",
            "(11 rows)\n",
            "\n"
          ]
        }
      ]
    },
    {
      "cell_type": "code",
      "source": [
        "!psql -h localhost -p 5432 -Uupraxis -ddbpraxis -c \"\\\n",
        "select \\\n",
        "    COALESCE(Make, 'All Makes') AS Make, \\\n",
        "    COALESCE(Type, 'All Types') AS Type, \\\n",
        "    Sum(Units) Count \\\n",
        "  from CarSalesFact_S \\\n",
        "  group by rollup(Make, Type) \\\n",
        "\"\n",
        "#runSelect(sql)"
      ],
      "metadata": {
        "colab": {
          "base_uri": "https://localhost:8080/"
        },
        "id": "TXxhmV059xA_",
        "outputId": "1b8f7784-566e-4111-c70f-b26a85f305e6"
      },
      "execution_count": 16,
      "outputs": [
        {
          "output_type": "stream",
          "name": "stdout",
          "text": [
            "   make    |   type    | count \n",
            "-----------+-----------+-------\n",
            " All Makes | All Types |    14\n",
            " Mazda     | SUV       |     2\n",
            " Honda     | SUV       |     6\n",
            " Mazda     | Sedan     |     1\n",
            " Toyota    | Compact   |     1\n",
            " Toyota    | Sedan     |     2\n",
            " Honda     | Sedan     |     1\n",
            " Mazda     | Compact   |     1\n",
            " Honda     | All Types |     7\n",
            " Toyota    | All Types |     3\n",
            " Mazda     | All Types |     4\n",
            "(11 rows)\n",
            "\n"
          ]
        }
      ]
    },
    {
      "cell_type": "markdown",
      "source": [
        "### Roll Up More"
      ],
      "metadata": {
        "id": "oCRVUeL9_yXV"
      }
    },
    {
      "cell_type": "code",
      "source": [
        "!psql -h localhost -p 5432 -Uupraxis -ddbpraxis -c \"\\\n",
        "select \\\n",
        "    COALESCE(Make, 'All Makes') AS Make, \\\n",
        "    Sum(Units) Count \\\n",
        "  from CarSalesFact_S \\\n",
        "  group by rollup(Make) \\\n",
        "\"\n",
        "#runSelect(sql)"
      ],
      "metadata": {
        "colab": {
          "base_uri": "https://localhost:8080/"
        },
        "id": "8N4L5WRy_5ml",
        "outputId": "a20b80fe-164b-47c5-df1a-71504407753b"
      },
      "execution_count": 17,
      "outputs": [
        {
          "output_type": "stream",
          "name": "stdout",
          "text": [
            "   make    | count \n",
            "-----------+-------\n",
            " All Makes |    14\n",
            " Honda     |     7\n",
            " Toyota    |     3\n",
            " Mazda     |     4\n",
            "(4 rows)\n",
            "\n"
          ]
        }
      ]
    },
    {
      "cell_type": "code",
      "source": [
        "!psql -h localhost -p 5432 -Uupraxis -ddbpraxis -c \"\\\n",
        "select \\\n",
        "    COALESCE(Type, 'All Types') AS Type, \\\n",
        "    Sum(Units) Count \\\n",
        "  from CarSalesFact_S \\\n",
        "  group by rollup(Type) \\\n",
        "\"\n",
        "#runSelect(sql)"
      ],
      "metadata": {
        "colab": {
          "base_uri": "https://localhost:8080/"
        },
        "id": "7Vo7Au6ZAYSV",
        "outputId": "2a4612d0-a848-45a3-fc08-4406508b7cd2"
      },
      "execution_count": 18,
      "outputs": [
        {
          "output_type": "stream",
          "name": "stdout",
          "text": [
            "   type    | count \n",
            "-----------+-------\n",
            " All Types |    14\n",
            " SUV       |     8\n",
            " Sedan     |     4\n",
            " Compact   |     2\n",
            "(4 rows)\n",
            "\n"
          ]
        }
      ]
    },
    {
      "cell_type": "markdown",
      "source": [
        "### Roll Up - Even More"
      ],
      "metadata": {
        "id": "Ydc0opQzAg76"
      }
    },
    {
      "cell_type": "code",
      "source": [
        "!psql -h localhost -p 5432 -Uupraxis -ddbpraxis -c \"\\\n",
        "select \\\n",
        "    Sum(Units) Count \\\n",
        "  from CarSalesFact_S \\\n",
        "\"\n",
        "#runSelect(sql)"
      ],
      "metadata": {
        "colab": {
          "base_uri": "https://localhost:8080/"
        },
        "id": "U5u7tFXDAtyZ",
        "outputId": "7c5ad5f4-a337-4863-c58a-d9289b922dba"
      },
      "execution_count": 19,
      "outputs": [
        {
          "output_type": "stream",
          "name": "stdout",
          "text": [
            " count \n",
            "-------\n",
            "    14\n",
            "(1 row)\n",
            "\n"
          ]
        }
      ]
    },
    {
      "cell_type": "markdown",
      "source": [
        "## Level 3 - Full Crosstab"
      ],
      "metadata": {
        "id": "OMf6fJFVD65m"
      }
    },
    {
      "cell_type": "markdown",
      "source": [
        "### \"Jugaad\" Crosstab"
      ],
      "metadata": {
        "id": "94SBIgoUQAiV"
      }
    },
    {
      "cell_type": "code",
      "source": [
        "!psql -h localhost -p 5432 -Uupraxis -ddbpraxis -c \"\\\n",
        "select Make, Type, Sum(Units) Count \\\n",
        "    from CarSalesFact_S \\\n",
        "    group by Make, Type \\\n",
        "union all \\\n",
        "SELECT Make, 'ALL', SUM(Units) \\\n",
        "    FROM CarSalesFact_S \\\n",
        "    GROUP BY Make \\\n",
        "union all \\\n",
        "SELECT 'ALL', Type, SUM(Units) \\\n",
        "    FROM CarSalesFact_S \\\n",
        "    GROUP BY Type \\\n",
        "union all \\\n",
        "SELECT 'ALL', 'ALL', SUM(Units) \\\n",
        "    FROM CarSalesFact_S \\\n",
        "\""
      ],
      "metadata": {
        "id": "PyVtlW-sQnUV",
        "outputId": "55bac94a-0500-4945-ddd9-8f6b2a014a3a",
        "colab": {
          "base_uri": "https://localhost:8080/"
        }
      },
      "execution_count": 33,
      "outputs": [
        {
          "output_type": "stream",
          "name": "stdout",
          "text": [
            "  make  |  type   | count \n",
            "--------+---------+-------\n",
            " Mazda  | SUV     |     2\n",
            " Honda  | SUV     |     6\n",
            " Mazda  | Sedan   |     1\n",
            " Toyota | Compact |     1\n",
            " Toyota | Sedan   |     2\n",
            " Honda  | Sedan   |     1\n",
            " Mazda  | Compact |     1\n",
            " Honda  | ALL     |     7\n",
            " Toyota | ALL     |     3\n",
            " Mazda  | ALL     |     4\n",
            " ALL    | SUV     |     8\n",
            " ALL    | Sedan   |     4\n",
            " ALL    | Compact |     2\n",
            " ALL    | ALL     |    14\n",
            "(14 rows)\n",
            "\n"
          ]
        }
      ]
    },
    {
      "cell_type": "markdown",
      "source": [
        "### CUBE solution"
      ],
      "metadata": {
        "id": "9PRbSzptYIX0"
      }
    },
    {
      "cell_type": "code",
      "source": [
        "!psql -h localhost -p 5432 -Uupraxis -ddbpraxis -c \"\\\n",
        "select \\\n",
        "    COALESCE(Make, 'All Makes') AS Make, \\\n",
        "    COALESCE(Type, 'All Types') AS Type, \\\n",
        "    Sum(Units) Count \\\n",
        "  from CarSalesFact_S \\\n",
        "  group by cube(Make, Type) \\\n",
        "\""
      ],
      "metadata": {
        "id": "Srgeg3VcYmlE",
        "outputId": "c5c88728-bfa4-460d-a9e5-ae390daa0d24",
        "colab": {
          "base_uri": "https://localhost:8080/"
        }
      },
      "execution_count": 35,
      "outputs": [
        {
          "output_type": "stream",
          "name": "stdout",
          "text": [
            "   make    |   type    | count \n",
            "-----------+-----------+-------\n",
            " All Makes | All Types |    14\n",
            " Mazda     | SUV       |     2\n",
            " Honda     | SUV       |     6\n",
            " Mazda     | Sedan     |     1\n",
            " Toyota    | Compact   |     1\n",
            " Toyota    | Sedan     |     2\n",
            " Honda     | Sedan     |     1\n",
            " Mazda     | Compact   |     1\n",
            " Honda     | All Types |     7\n",
            " Toyota    | All Types |     3\n",
            " Mazda     | All Types |     4\n",
            " All Makes | SUV       |     8\n",
            " All Makes | Sedan     |     4\n",
            " All Makes | Compact   |     2\n",
            "(14 rows)\n",
            "\n"
          ]
        }
      ]
    },
    {
      "cell_type": "markdown",
      "source": [
        "### \"True\" Crosstab"
      ],
      "metadata": {
        "id": "sPRlwdXucPSs"
      }
    },
    {
      "cell_type": "code",
      "source": [
        "!psql -h localhost -p 5432 -Uupraxis -ddbpraxis -c \"\\\n",
        "SELECT \\\n",
        "\tMake,\\\n",
        "\tsum(case when (Type = 'Sedan') then Units else 0 end) as Sedan,\\\n",
        "\tsum(case when (Type = 'SUV') then Units else 0 end) as SUV,\\\n",
        "\tsum(case when (Type = 'Compact') then Units else 0 end) as Compact\\\n",
        "  FROM CarSalesFact_S\\\n",
        "  GROUP BY ROLLUP (Make)\\\n",
        "\"\n",
        "#runSelect(sql)"
      ],
      "metadata": {
        "colab": {
          "base_uri": "https://localhost:8080/"
        },
        "id": "DMi2uYowEvfM",
        "outputId": "a88beef7-11ba-4abf-8e18-b696a18f74f1"
      },
      "execution_count": 36,
      "outputs": [
        {
          "output_type": "stream",
          "name": "stdout",
          "text": [
            "  make  | sedan | suv | compact \n",
            "--------+-------+-----+---------\n",
            "        |     4 |   8 |       2\n",
            " Honda  |     1 |   6 |       0\n",
            " Toyota |     2 |   0 |       1\n",
            " Mazda  |     1 |   2 |       1\n",
            "(4 rows)\n",
            "\n"
          ]
        }
      ]
    },
    {
      "cell_type": "code",
      "source": [
        "!psql -h localhost -p 5432 -Uupraxis -ddbpraxis -c\"\\\n",
        "SELECT \\\n",
        "    COALESCE(Make, 'Total') AS Dim, \\\n",
        "\tsum(case when (Type = 'Sedan') then Units else 0 end) as Sedan,\\\n",
        "\tsum(case when (Type = 'SUV') then Units else 0 end) as SUV,\\\n",
        "\tsum(case when (Type = 'Compact') then Units else 0 end) as Compact\\\n",
        "  FROM CarSalesFact_S\\\n",
        "  GROUP BY ROLLUP (Make)\\\n",
        "\"\n",
        "#runSelect(sql)"
      ],
      "metadata": {
        "colab": {
          "base_uri": "https://localhost:8080/"
        },
        "id": "LCivlY1-FBzN",
        "outputId": "8366b1b7-b8a7-43ec-cdb9-3479b335925a"
      },
      "execution_count": 37,
      "outputs": [
        {
          "output_type": "stream",
          "name": "stdout",
          "text": [
            "  dim   | sedan | suv | compact \n",
            "--------+-------+-----+---------\n",
            " Total  |     4 |   8 |       2\n",
            " Honda  |     1 |   6 |       0\n",
            " Toyota |     2 |   0 |       1\n",
            " Mazda  |     1 |   2 |       1\n",
            "(4 rows)\n",
            "\n"
          ]
        }
      ]
    },
    {
      "cell_type": "code",
      "source": [
        "!psql -h localhost -p 5432 -Uupraxis -ddbpraxis -c  \"\\\n",
        "SELECT \\\n",
        "COALESCE(Make, 'totals') AS Dim, \\\n",
        "sums.SUV, sums.Sedan, sums.Compact,\\\n",
        "sums.SUV + sums.Sedan + sums.Compact  Totals \\\n",
        "FROM ( \\\n",
        "  SELECT \\\n",
        "    Make, \\\n",
        "\tsum(case when (Type = 'Sedan') then Units else 0 end) as Sedan,\\\n",
        "\tsum(case when (Type = 'SUV') then Units else 0 end) as SUV,\\\n",
        "\tsum(case when (Type = 'Compact') then Units else 0 end) as Compact\\\n",
        "  FROM CarSalesFact_S\\\n",
        "  GROUP BY ROLLUP (Make)\\\n",
        ") AS sums \\\n",
        "\"\n",
        "#runSelect(sql)"
      ],
      "metadata": {
        "colab": {
          "base_uri": "https://localhost:8080/"
        },
        "id": "Qli_cq_LFPQd",
        "outputId": "3652e71c-bd12-4114-b339-12e9719ca1ab"
      },
      "execution_count": 38,
      "outputs": [
        {
          "output_type": "stream",
          "name": "stdout",
          "text": [
            "  dim   | suv | sedan | compact | totals \n",
            "--------+-----+-------+---------+--------\n",
            " totals |   8 |     4 |       2 |     14\n",
            " Honda  |   6 |     1 |       0 |      7\n",
            " Toyota |   0 |     2 |       1 |      3\n",
            " Mazda  |   2 |     1 |       1 |      4\n",
            "(4 rows)\n",
            "\n"
          ]
        }
      ]
    },
    {
      "cell_type": "code",
      "source": [
        "!psql -h localhost -p 5432 -Uupraxis -ddbpraxis -c  \"\\\n",
        "SELECT \\\n",
        "COALESCE(Colour, 'totals') AS Dim, \\\n",
        "sums.Honda, sums.Toyota, sums.Mazda,\\\n",
        "sums.Honda + sums.Toyota + sums.Mazda  Totals \\\n",
        "FROM ( \\\n",
        "  SELECT \\\n",
        "    Colour, \\\n",
        "\tsum(case when (Make = 'Honda') then Units else 0 end) as Honda,\\\n",
        "\tsum(case when (Make = 'Toyota') then Units else 0 end) as Toyota,\\\n",
        "\tsum(case when (Make = 'Mazda') then Units else 0 end) as Mazda\\\n",
        "  FROM CarSalesFact_S\\\n",
        "  GROUP BY ROLLUP (Colour)\\\n",
        ") AS sums \\\n",
        "\""
      ],
      "metadata": {
        "colab": {
          "base_uri": "https://localhost:8080/"
        },
        "id": "bKfQTYcZk84x",
        "outputId": "2fadeaa4-d951-4ef0-b0e1-c986e6674836"
      },
      "execution_count": 23,
      "outputs": [
        {
          "output_type": "stream",
          "name": "stdout",
          "text": [
            "  dim   | honda | toyota | mazda | totals \n",
            "--------+-------+--------+-------+--------\n",
            " totals |     7 |      3 |     4 |     14\n",
            " Red    |     2 |      1 |     2 |      5\n",
            " Black  |     4 |      2 |     1 |      7\n",
            " Brown  |     1 |      0 |     1 |      2\n",
            "(4 rows)\n",
            "\n"
          ]
        }
      ]
    },
    {
      "cell_type": "code",
      "source": [
        "!psql -h localhost -p 5432 -Uupraxis -ddbpraxis -c  \"\\\n",
        "SELECT \\\n",
        "COALESCE(Type, 'totals') AS Dim, \\\n",
        "sums.Red, sums.Black, sums.Brown,\\\n",
        "sums.Red + sums.Black + sums.Brown  Totals \\\n",
        "FROM ( \\\n",
        "  SELECT \\\n",
        "    Type, \\\n",
        "\tsum(case when (Colour = 'Red') then Units else 0 end) as Red,\\\n",
        "\tsum(case when (Colour = 'Black') then Units else 0 end) as Black,\\\n",
        "\tsum(case when (Colour = 'Brown') then Units else 0 end) as Brown\\\n",
        "  FROM CarSalesFact_S\\\n",
        "  GROUP BY ROLLUP (Type)\\\n",
        ") AS sums \\\n",
        "\""
      ],
      "metadata": {
        "colab": {
          "base_uri": "https://localhost:8080/"
        },
        "id": "rpCc7d2Ul7px",
        "outputId": "44dd9731-3cec-46ed-b43c-ee09c1b42fe6"
      },
      "execution_count": 24,
      "outputs": [
        {
          "output_type": "stream",
          "name": "stdout",
          "text": [
            "   dim   | red | black | brown | totals \n",
            "---------+-----+-------+-------+--------\n",
            " totals  |   5 |     7 |     2 |     14\n",
            " SUV     |   3 |     5 |     0 |      8\n",
            " Sedan   |   0 |     2 |     2 |      4\n",
            " Compact |   2 |     0 |     0 |      2\n",
            "(4 rows)\n",
            "\n"
          ]
        }
      ]
    },
    {
      "cell_type": "markdown",
      "source": [
        "#Chronobooks <br>\n",
        "Two science fiction novels by Prithwis Mukerjee. A dystopian Earth. A technocratic society managed by artificial intelligence. Escape and epiphany on Mars. Can man and machine, carbon and silicon explore and escape into other dimensions of existence? An Indic perspective rooted in Advaita Vedanta and the Divine Feminine.  [More information](http://bit.ly/chronobooks) <br>\n",
        "![alt text](https://github.com/Praxis-QR/RDWH/raw/main/images/CTCYFooter-1.png)"
      ],
      "metadata": {
        "id": "_gNiZpyW3AzJ"
      }
    }
  ]
}