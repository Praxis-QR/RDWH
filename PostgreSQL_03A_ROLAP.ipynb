{
  "nbformat": 4,
  "nbformat_minor": 0,
  "metadata": {
    "colab": {
      "provenance": [],
      "toc_visible": true,
      "include_colab_link": true
    },
    "kernelspec": {
      "name": "python3",
      "display_name": "Python 3"
    },
    "language_info": {
      "name": "python"
    }
  },
  "cells": [
    {
      "cell_type": "markdown",
      "metadata": {
        "id": "view-in-github",
        "colab_type": "text"
      },
      "source": [
        "<a href=\"https://colab.research.google.com/github/Praxis-QR/RDWH/blob/main/PostgreSQL_03A_ROLAP.ipynb\" target=\"_parent\"><img src=\"https://colab.research.google.com/assets/colab-badge.svg\" alt=\"Open In Colab\"/></a>"
      ]
    },
    {
      "cell_type": "markdown",
      "source": [
        "![Yantrajaal Banner](https://github.com/Praxis-QR/RDWH/raw/main/images/YantraJaalBanner.png)<br>\n",
        "\n",
        "\n",
        "<hr>\n",
        "\n",
        "[Prithwis Mukerjee](http://www.linkedin.com/in/prithwis)<br>"
      ],
      "metadata": {
        "id": "DBzz-qaN2tKu"
      }
    },
    {
      "cell_type": "markdown",
      "source": [
        "#Install & Configure Postgres"
      ],
      "metadata": {
        "id": "nD-QawLT6kDr"
      }
    },
    {
      "cell_type": "code",
      "source": [
        "from datetime import datetime\n",
        "import pytz\n",
        "print('Tested on ',datetime.now(pytz.timezone('Asia/Calcutta')))\n",
        "!python --version\n",
        "!lsb_release -a"
      ],
      "metadata": {
        "id": "txwvst5Hs5mI",
        "outputId": "134ffa93-c803-4e20-efe7-1e6bb509fccd",
        "colab": {
          "base_uri": "https://localhost:8080/"
        }
      },
      "execution_count": 1,
      "outputs": [
        {
          "output_type": "stream",
          "name": "stdout",
          "text": [
            "Tested on  2024-01-03 13:50:34.154562+05:30\n",
            "Python 3.10.12\n",
            "No LSB modules are available.\n",
            "Distributor ID:\tUbuntu\n",
            "Description:\tUbuntu 22.04.3 LTS\n",
            "Release:\t22.04\n",
            "Codename:\tjammy\n"
          ]
        }
      ]
    },
    {
      "cell_type": "markdown",
      "source": [
        "For Connecting to a Postgres server on Amazon RDS, see [this notebook](https://github.com/Praxis-QR/RDWH/blob/main/PostgreSQL_01_Install_Config.ipynb)"
      ],
      "metadata": {
        "id": "9w29_O07rTPE"
      }
    },
    {
      "cell_type": "code",
      "source": [
        "# Install postgresql server\n",
        "\n",
        "!apt update > /dev/null\n",
        "!apt install postgresql > /dev/null\n",
        "#!sudo -u postgres psql -V\n",
        "!psql -V\n",
        "!service postgresql start"
      ],
      "metadata": {
        "colab": {
          "base_uri": "https://localhost:8080/"
        },
        "id": "o_RaqE0OOHP3",
        "outputId": "842727f5-a28c-45c4-c1da-72d37fc0c0b3"
      },
      "execution_count": 2,
      "outputs": [
        {
          "output_type": "stream",
          "name": "stdout",
          "text": [
            "\n",
            "WARNING: apt does not have a stable CLI interface. Use with caution in scripts.\n",
            "\n",
            "\n",
            "WARNING: apt does not have a stable CLI interface. Use with caution in scripts.\n",
            "\n",
            "psql (PostgreSQL) 14.10 (Ubuntu 14.10-0ubuntu0.22.04.1)\n",
            " * Starting PostgreSQL 14 database server\n",
            "   ...done.\n"
          ]
        }
      ]
    },
    {
      "cell_type": "code",
      "source": [
        "#!pip install psycopg2\n",
        "import psycopg2\n",
        "import pandas as pd"
      ],
      "metadata": {
        "id": "719jvpeIjLZX"
      },
      "execution_count": 3,
      "outputs": []
    },
    {
      "cell_type": "code",
      "source": [
        "# This has created an Ubuntu user 'postgres' AND a Postgres database user 'postgres' both of which are superusers\n",
        "#!cat /etc/passwd\n",
        "# Use these users to create a new database user called 'upraxis' and give it a password 'upass'\n",
        "#!sudo -u postgres createuser --superuser upraxis\n",
        "!sudo -u postgres createuser upraxis\n",
        "!sudo -u postgres psql -U postgres -c \"ALTER USER upraxis PASSWORD 'upass';\"\n",
        "# Change the database superuser 'postgres' to a non-default value 'pass'\n",
        "!sudo -u postgres psql -U postgres -c \"ALTER USER postgres PASSWORD 'pass';\"\n",
        "# Use ubuntu superuser to create database dbpraxis and set its owner to upraxis\n",
        "!sudo -u postgres createdb -O upraxis dbpraxis\n"
      ],
      "metadata": {
        "colab": {
          "base_uri": "https://localhost:8080/"
        },
        "id": "xr5kHaY_U4CZ",
        "outputId": "07071686-ab23-43dc-b28f-f50c7293db57"
      },
      "execution_count": 4,
      "outputs": [
        {
          "output_type": "stream",
          "name": "stdout",
          "text": [
            "ALTER ROLE\n",
            "ALTER ROLE\n"
          ]
        }
      ]
    },
    {
      "cell_type": "code",
      "source": [
        "# Create file to store the password. Else will be prompted each time\n",
        "#!echo \"localhost:5432:praxisdb:postgres:pass\" > ~/.pgpass\n",
        "!echo \"localhost:5432:dbpraxis:upraxis:upass\" > ~/.pgpass\n",
        "!chmod 0600 ~/.pgpass\n",
        "!cat ~/.pgpass"
      ],
      "metadata": {
        "colab": {
          "base_uri": "https://localhost:8080/"
        },
        "id": "kFDLMhnTWwuz",
        "outputId": "90280552-3c6a-4078-d024-7756a5f5d6bf"
      },
      "execution_count": 5,
      "outputs": [
        {
          "output_type": "stream",
          "name": "stdout",
          "text": [
            "localhost:5432:dbpraxis:upraxis:upass\n"
          ]
        }
      ]
    },
    {
      "cell_type": "markdown",
      "source": [
        "## Python Access\n",
        "https://www.tutorialspoint.com/python_data_access/python_postgresql_database_connection.htm"
      ],
      "metadata": {
        "id": "faZEj8_7CeZ8"
      }
    },
    {
      "cell_type": "code",
      "source": [
        "# Local Colab server\n",
        "\n",
        "conn = psycopg2.connect(database=\"dbpraxis\", user='upraxis', password='upass', host='127.0.0.1', port= '5432')\n",
        "#Creating a cursor object using the cursor() method\n",
        "cursor = conn.cursor()\n",
        "#Executing an MYSQL function using the execute() method\n",
        "cursor.execute(\"select version()\")\n",
        "# Fetch a single row using fetchone() method.\n",
        "data = cursor.fetchone()\n",
        "print(\"Connection established to: \",data)\n",
        "#Closing the connection\n",
        "conn.close()"
      ],
      "metadata": {
        "id": "wcE-8UBnC4zV",
        "outputId": "35b78304-1318-4e4f-feac-1234fd4fc854",
        "colab": {
          "base_uri": "https://localhost:8080/"
        }
      },
      "execution_count": 7,
      "outputs": [
        {
          "output_type": "stream",
          "name": "stdout",
          "text": [
            "Connection established to:  ('PostgreSQL 14.10 (Ubuntu 14.10-0ubuntu0.22.04.1) on x86_64-pc-linux-gnu, compiled by gcc (Ubuntu 11.4.0-1ubuntu1~22.04) 11.4.0, 64-bit',)\n"
          ]
        }
      ]
    },
    {
      "cell_type": "code",
      "source": [
        "# function to execute SQL select statements with Postgres\n",
        "#\n",
        "def runSelect(s):\n",
        "    #Set up connection\n",
        "\n",
        "    conn = psycopg2.connect(database=\"dbpraxis\", user='upraxis', password='upass', host='127.0.0.1', port= '5432')\n",
        "    #Setting auto commit true\n",
        "    conn.autocommit = True\n",
        "    #Creating a cursor object using the cursor() method\n",
        "    cursor = conn.cursor()\n",
        "    #Retrieving data\n",
        "    cursor.execute(s)\n",
        "    #Fetching all rows from the table\n",
        "    result = cursor.fetchall();\n",
        "    #print(len(result))\n",
        "    if (len(result)) > 0:                                       # result contains at least one row\n",
        "        colnames = [desc[0] for desc in cursor.description]     # get column names\n",
        "        #print(colnames)\n",
        "        resultdf = pd.DataFrame(result)                         # convert list to dataframe\n",
        "        resultdf.columns = colnames                             # add column names\n",
        "        #return resultdf\n",
        "        return resultdf.style.hide()                            # hide the index\n",
        "    else:\n",
        "        print('no records found')\n",
        "        return\n",
        "# function to execute SQL non-select statements with Postgres\n",
        "#\n",
        "def runCmd(s):\n",
        "    #Create Connection\n",
        "    conn = psycopg2.connect(database=\"dbpraxis\", user='upraxis', password='upass', host='127.0.0.1', port= '5432')\n",
        "    #Creating a cursor object using the cursor() method\n",
        "    cursor = conn.cursor()\n",
        "    try:\n",
        "        cursor.execute(s)\n",
        "        print('Command executed')\n",
        "        conn.commit()\n",
        "    except:\n",
        "        print('Command failed')\n",
        "    #Closing the connection\n",
        "    conn.close()"
      ],
      "metadata": {
        "id": "ht2k7-3iggNd"
      },
      "execution_count": 8,
      "outputs": []
    },
    {
      "cell_type": "markdown",
      "source": [
        "# Build Standard Fact Table"
      ],
      "metadata": {
        "id": "UpKxIxq_7GfT"
      }
    },
    {
      "cell_type": "markdown",
      "source": [
        "## Create Normalised Fact Table"
      ],
      "metadata": {
        "id": "mzJFA1yx7tPe"
      }
    },
    {
      "cell_type": "code",
      "source": [
        "ddl = \"\\\n",
        "DROP table if exists CarSalesFact_N;\\\n",
        "CREATE TABLE if not exists CarSalesFact_N ( Txn int ,  Dim  varchar(8) ,  DimValue varchar(8) );\\\n",
        "INSERT INTO CarSalesFact_N (Txn, Dim, DimValue) VALUES \\\n",
        " (1, 'Make', 'Honda'),(1, 'Type', 'SUV'),(1, 'Colour', 'Red'),\\\n",
        " (2, 'Make', 'Honda'),(2, 'Type', 'SUV'),(2, 'Colour', 'Black'), \\\n",
        " (3, 'Make', 'Honda'),(3, 'Type', 'Sedan'),(3, 'Colour', 'Brown'),\\\n",
        " (4, 'Make', 'Toyota'),(4, 'Type', 'Compact'),(4, 'Colour', 'Red'),\\\n",
        " (5, 'Make', 'Toyota'),(5, 'Colour', 'Black'),(5, 'Type', 'Sedan'),\\\n",
        " (6, 'Make', 'Toyota'),(6, 'Colour', 'Black'),(6, 'Type', 'Sedan'),\\\n",
        " (7, 'Make', 'Honda'),(7, 'Type', 'SUV'),(7, 'Colour', 'Black'),\\\n",
        " (8, 'Make', 'Honda'),(8, 'Type', 'SUV'),(8, 'Colour', 'Red'),\\\n",
        " (9, 'Make', 'Honda'),(9, 'Type', 'SUV'),(9, 'Colour', 'Black'),\\\n",
        " (10, 'Make', 'Honda'),(10, 'Type', 'SUV'),(10, 'Colour', 'Black'),\\\n",
        " (11, 'Make', 'Mazda'),(11, 'Type', 'SUV'),(11, 'Colour', 'Black'),\\\n",
        " (12, 'Make', 'Mazda'),(12, 'Type', 'Compact'),(12, 'Colour', 'Red'),\\\n",
        " (13, 'Make', 'Mazda'),(13, 'Type', 'Sedan'),(13, 'Colour', 'Brown'),\\\n",
        " (14, 'Make', 'Mazda'),(14, 'Type', 'SUV'),(14, 'Colour', 'Red');\\\n",
        "\"\n",
        "runCmd(ddl)"
      ],
      "metadata": {
        "colab": {
          "base_uri": "https://localhost:8080/"
        },
        "id": "MDwbINEO7V-4",
        "outputId": "da2a61ee-f6ae-4525-e829-d6585c1c50ce"
      },
      "execution_count": 9,
      "outputs": [
        {
          "output_type": "stream",
          "name": "stdout",
          "text": [
            "Command executed\n"
          ]
        }
      ]
    },
    {
      "cell_type": "markdown",
      "source": [
        "## Transpose (\"Pivot\") Columns to Rows\n",
        "Convert a Normalised Fact Table to a Standard Fact Table"
      ],
      "metadata": {
        "id": "k0rXiciVtu7Q"
      }
    },
    {
      "cell_type": "code",
      "source": [
        "runSelect(\"select * from CarSalesFact_N\")"
      ],
      "metadata": {
        "id": "N3NZv0YahSs6",
        "outputId": "7e32c09d-28ac-4871-b7fc-ae1e89587bb8",
        "colab": {
          "base_uri": "https://localhost:8080/",
          "height": 1000
        }
      },
      "execution_count": 10,
      "outputs": [
        {
          "output_type": "execute_result",
          "data": {
            "text/plain": [
              "<pandas.io.formats.style.Styler at 0x780df41c5360>"
            ],
            "text/html": [
              "<style type=\"text/css\">\n",
              "</style>\n",
              "<table id=\"T_a0fde\" class=\"dataframe\">\n",
              "  <thead>\n",
              "    <tr>\n",
              "      <th id=\"T_a0fde_level0_col0\" class=\"col_heading level0 col0\" >txn</th>\n",
              "      <th id=\"T_a0fde_level0_col1\" class=\"col_heading level0 col1\" >dim</th>\n",
              "      <th id=\"T_a0fde_level0_col2\" class=\"col_heading level0 col2\" >dimvalue</th>\n",
              "    </tr>\n",
              "  </thead>\n",
              "  <tbody>\n",
              "    <tr>\n",
              "      <td id=\"T_a0fde_row0_col0\" class=\"data row0 col0\" >1</td>\n",
              "      <td id=\"T_a0fde_row0_col1\" class=\"data row0 col1\" >Make</td>\n",
              "      <td id=\"T_a0fde_row0_col2\" class=\"data row0 col2\" >Honda</td>\n",
              "    </tr>\n",
              "    <tr>\n",
              "      <td id=\"T_a0fde_row1_col0\" class=\"data row1 col0\" >1</td>\n",
              "      <td id=\"T_a0fde_row1_col1\" class=\"data row1 col1\" >Type</td>\n",
              "      <td id=\"T_a0fde_row1_col2\" class=\"data row1 col2\" >SUV</td>\n",
              "    </tr>\n",
              "    <tr>\n",
              "      <td id=\"T_a0fde_row2_col0\" class=\"data row2 col0\" >1</td>\n",
              "      <td id=\"T_a0fde_row2_col1\" class=\"data row2 col1\" >Colour</td>\n",
              "      <td id=\"T_a0fde_row2_col2\" class=\"data row2 col2\" >Red</td>\n",
              "    </tr>\n",
              "    <tr>\n",
              "      <td id=\"T_a0fde_row3_col0\" class=\"data row3 col0\" >2</td>\n",
              "      <td id=\"T_a0fde_row3_col1\" class=\"data row3 col1\" >Make</td>\n",
              "      <td id=\"T_a0fde_row3_col2\" class=\"data row3 col2\" >Honda</td>\n",
              "    </tr>\n",
              "    <tr>\n",
              "      <td id=\"T_a0fde_row4_col0\" class=\"data row4 col0\" >2</td>\n",
              "      <td id=\"T_a0fde_row4_col1\" class=\"data row4 col1\" >Type</td>\n",
              "      <td id=\"T_a0fde_row4_col2\" class=\"data row4 col2\" >SUV</td>\n",
              "    </tr>\n",
              "    <tr>\n",
              "      <td id=\"T_a0fde_row5_col0\" class=\"data row5 col0\" >2</td>\n",
              "      <td id=\"T_a0fde_row5_col1\" class=\"data row5 col1\" >Colour</td>\n",
              "      <td id=\"T_a0fde_row5_col2\" class=\"data row5 col2\" >Black</td>\n",
              "    </tr>\n",
              "    <tr>\n",
              "      <td id=\"T_a0fde_row6_col0\" class=\"data row6 col0\" >3</td>\n",
              "      <td id=\"T_a0fde_row6_col1\" class=\"data row6 col1\" >Make</td>\n",
              "      <td id=\"T_a0fde_row6_col2\" class=\"data row6 col2\" >Honda</td>\n",
              "    </tr>\n",
              "    <tr>\n",
              "      <td id=\"T_a0fde_row7_col0\" class=\"data row7 col0\" >3</td>\n",
              "      <td id=\"T_a0fde_row7_col1\" class=\"data row7 col1\" >Type</td>\n",
              "      <td id=\"T_a0fde_row7_col2\" class=\"data row7 col2\" >Sedan</td>\n",
              "    </tr>\n",
              "    <tr>\n",
              "      <td id=\"T_a0fde_row8_col0\" class=\"data row8 col0\" >3</td>\n",
              "      <td id=\"T_a0fde_row8_col1\" class=\"data row8 col1\" >Colour</td>\n",
              "      <td id=\"T_a0fde_row8_col2\" class=\"data row8 col2\" >Brown</td>\n",
              "    </tr>\n",
              "    <tr>\n",
              "      <td id=\"T_a0fde_row9_col0\" class=\"data row9 col0\" >4</td>\n",
              "      <td id=\"T_a0fde_row9_col1\" class=\"data row9 col1\" >Make</td>\n",
              "      <td id=\"T_a0fde_row9_col2\" class=\"data row9 col2\" >Toyota</td>\n",
              "    </tr>\n",
              "    <tr>\n",
              "      <td id=\"T_a0fde_row10_col0\" class=\"data row10 col0\" >4</td>\n",
              "      <td id=\"T_a0fde_row10_col1\" class=\"data row10 col1\" >Type</td>\n",
              "      <td id=\"T_a0fde_row10_col2\" class=\"data row10 col2\" >Compact</td>\n",
              "    </tr>\n",
              "    <tr>\n",
              "      <td id=\"T_a0fde_row11_col0\" class=\"data row11 col0\" >4</td>\n",
              "      <td id=\"T_a0fde_row11_col1\" class=\"data row11 col1\" >Colour</td>\n",
              "      <td id=\"T_a0fde_row11_col2\" class=\"data row11 col2\" >Red</td>\n",
              "    </tr>\n",
              "    <tr>\n",
              "      <td id=\"T_a0fde_row12_col0\" class=\"data row12 col0\" >5</td>\n",
              "      <td id=\"T_a0fde_row12_col1\" class=\"data row12 col1\" >Make</td>\n",
              "      <td id=\"T_a0fde_row12_col2\" class=\"data row12 col2\" >Toyota</td>\n",
              "    </tr>\n",
              "    <tr>\n",
              "      <td id=\"T_a0fde_row13_col0\" class=\"data row13 col0\" >5</td>\n",
              "      <td id=\"T_a0fde_row13_col1\" class=\"data row13 col1\" >Colour</td>\n",
              "      <td id=\"T_a0fde_row13_col2\" class=\"data row13 col2\" >Black</td>\n",
              "    </tr>\n",
              "    <tr>\n",
              "      <td id=\"T_a0fde_row14_col0\" class=\"data row14 col0\" >5</td>\n",
              "      <td id=\"T_a0fde_row14_col1\" class=\"data row14 col1\" >Type</td>\n",
              "      <td id=\"T_a0fde_row14_col2\" class=\"data row14 col2\" >Sedan</td>\n",
              "    </tr>\n",
              "    <tr>\n",
              "      <td id=\"T_a0fde_row15_col0\" class=\"data row15 col0\" >6</td>\n",
              "      <td id=\"T_a0fde_row15_col1\" class=\"data row15 col1\" >Make</td>\n",
              "      <td id=\"T_a0fde_row15_col2\" class=\"data row15 col2\" >Toyota</td>\n",
              "    </tr>\n",
              "    <tr>\n",
              "      <td id=\"T_a0fde_row16_col0\" class=\"data row16 col0\" >6</td>\n",
              "      <td id=\"T_a0fde_row16_col1\" class=\"data row16 col1\" >Colour</td>\n",
              "      <td id=\"T_a0fde_row16_col2\" class=\"data row16 col2\" >Black</td>\n",
              "    </tr>\n",
              "    <tr>\n",
              "      <td id=\"T_a0fde_row17_col0\" class=\"data row17 col0\" >6</td>\n",
              "      <td id=\"T_a0fde_row17_col1\" class=\"data row17 col1\" >Type</td>\n",
              "      <td id=\"T_a0fde_row17_col2\" class=\"data row17 col2\" >Sedan</td>\n",
              "    </tr>\n",
              "    <tr>\n",
              "      <td id=\"T_a0fde_row18_col0\" class=\"data row18 col0\" >7</td>\n",
              "      <td id=\"T_a0fde_row18_col1\" class=\"data row18 col1\" >Make</td>\n",
              "      <td id=\"T_a0fde_row18_col2\" class=\"data row18 col2\" >Honda</td>\n",
              "    </tr>\n",
              "    <tr>\n",
              "      <td id=\"T_a0fde_row19_col0\" class=\"data row19 col0\" >7</td>\n",
              "      <td id=\"T_a0fde_row19_col1\" class=\"data row19 col1\" >Type</td>\n",
              "      <td id=\"T_a0fde_row19_col2\" class=\"data row19 col2\" >SUV</td>\n",
              "    </tr>\n",
              "    <tr>\n",
              "      <td id=\"T_a0fde_row20_col0\" class=\"data row20 col0\" >7</td>\n",
              "      <td id=\"T_a0fde_row20_col1\" class=\"data row20 col1\" >Colour</td>\n",
              "      <td id=\"T_a0fde_row20_col2\" class=\"data row20 col2\" >Black</td>\n",
              "    </tr>\n",
              "    <tr>\n",
              "      <td id=\"T_a0fde_row21_col0\" class=\"data row21 col0\" >8</td>\n",
              "      <td id=\"T_a0fde_row21_col1\" class=\"data row21 col1\" >Make</td>\n",
              "      <td id=\"T_a0fde_row21_col2\" class=\"data row21 col2\" >Honda</td>\n",
              "    </tr>\n",
              "    <tr>\n",
              "      <td id=\"T_a0fde_row22_col0\" class=\"data row22 col0\" >8</td>\n",
              "      <td id=\"T_a0fde_row22_col1\" class=\"data row22 col1\" >Type</td>\n",
              "      <td id=\"T_a0fde_row22_col2\" class=\"data row22 col2\" >SUV</td>\n",
              "    </tr>\n",
              "    <tr>\n",
              "      <td id=\"T_a0fde_row23_col0\" class=\"data row23 col0\" >8</td>\n",
              "      <td id=\"T_a0fde_row23_col1\" class=\"data row23 col1\" >Colour</td>\n",
              "      <td id=\"T_a0fde_row23_col2\" class=\"data row23 col2\" >Red</td>\n",
              "    </tr>\n",
              "    <tr>\n",
              "      <td id=\"T_a0fde_row24_col0\" class=\"data row24 col0\" >9</td>\n",
              "      <td id=\"T_a0fde_row24_col1\" class=\"data row24 col1\" >Make</td>\n",
              "      <td id=\"T_a0fde_row24_col2\" class=\"data row24 col2\" >Honda</td>\n",
              "    </tr>\n",
              "    <tr>\n",
              "      <td id=\"T_a0fde_row25_col0\" class=\"data row25 col0\" >9</td>\n",
              "      <td id=\"T_a0fde_row25_col1\" class=\"data row25 col1\" >Type</td>\n",
              "      <td id=\"T_a0fde_row25_col2\" class=\"data row25 col2\" >SUV</td>\n",
              "    </tr>\n",
              "    <tr>\n",
              "      <td id=\"T_a0fde_row26_col0\" class=\"data row26 col0\" >9</td>\n",
              "      <td id=\"T_a0fde_row26_col1\" class=\"data row26 col1\" >Colour</td>\n",
              "      <td id=\"T_a0fde_row26_col2\" class=\"data row26 col2\" >Black</td>\n",
              "    </tr>\n",
              "    <tr>\n",
              "      <td id=\"T_a0fde_row27_col0\" class=\"data row27 col0\" >10</td>\n",
              "      <td id=\"T_a0fde_row27_col1\" class=\"data row27 col1\" >Make</td>\n",
              "      <td id=\"T_a0fde_row27_col2\" class=\"data row27 col2\" >Honda</td>\n",
              "    </tr>\n",
              "    <tr>\n",
              "      <td id=\"T_a0fde_row28_col0\" class=\"data row28 col0\" >10</td>\n",
              "      <td id=\"T_a0fde_row28_col1\" class=\"data row28 col1\" >Type</td>\n",
              "      <td id=\"T_a0fde_row28_col2\" class=\"data row28 col2\" >SUV</td>\n",
              "    </tr>\n",
              "    <tr>\n",
              "      <td id=\"T_a0fde_row29_col0\" class=\"data row29 col0\" >10</td>\n",
              "      <td id=\"T_a0fde_row29_col1\" class=\"data row29 col1\" >Colour</td>\n",
              "      <td id=\"T_a0fde_row29_col2\" class=\"data row29 col2\" >Black</td>\n",
              "    </tr>\n",
              "    <tr>\n",
              "      <td id=\"T_a0fde_row30_col0\" class=\"data row30 col0\" >11</td>\n",
              "      <td id=\"T_a0fde_row30_col1\" class=\"data row30 col1\" >Make</td>\n",
              "      <td id=\"T_a0fde_row30_col2\" class=\"data row30 col2\" >Mazda</td>\n",
              "    </tr>\n",
              "    <tr>\n",
              "      <td id=\"T_a0fde_row31_col0\" class=\"data row31 col0\" >11</td>\n",
              "      <td id=\"T_a0fde_row31_col1\" class=\"data row31 col1\" >Type</td>\n",
              "      <td id=\"T_a0fde_row31_col2\" class=\"data row31 col2\" >SUV</td>\n",
              "    </tr>\n",
              "    <tr>\n",
              "      <td id=\"T_a0fde_row32_col0\" class=\"data row32 col0\" >11</td>\n",
              "      <td id=\"T_a0fde_row32_col1\" class=\"data row32 col1\" >Colour</td>\n",
              "      <td id=\"T_a0fde_row32_col2\" class=\"data row32 col2\" >Black</td>\n",
              "    </tr>\n",
              "    <tr>\n",
              "      <td id=\"T_a0fde_row33_col0\" class=\"data row33 col0\" >12</td>\n",
              "      <td id=\"T_a0fde_row33_col1\" class=\"data row33 col1\" >Make</td>\n",
              "      <td id=\"T_a0fde_row33_col2\" class=\"data row33 col2\" >Mazda</td>\n",
              "    </tr>\n",
              "    <tr>\n",
              "      <td id=\"T_a0fde_row34_col0\" class=\"data row34 col0\" >12</td>\n",
              "      <td id=\"T_a0fde_row34_col1\" class=\"data row34 col1\" >Type</td>\n",
              "      <td id=\"T_a0fde_row34_col2\" class=\"data row34 col2\" >Compact</td>\n",
              "    </tr>\n",
              "    <tr>\n",
              "      <td id=\"T_a0fde_row35_col0\" class=\"data row35 col0\" >12</td>\n",
              "      <td id=\"T_a0fde_row35_col1\" class=\"data row35 col1\" >Colour</td>\n",
              "      <td id=\"T_a0fde_row35_col2\" class=\"data row35 col2\" >Red</td>\n",
              "    </tr>\n",
              "    <tr>\n",
              "      <td id=\"T_a0fde_row36_col0\" class=\"data row36 col0\" >13</td>\n",
              "      <td id=\"T_a0fde_row36_col1\" class=\"data row36 col1\" >Make</td>\n",
              "      <td id=\"T_a0fde_row36_col2\" class=\"data row36 col2\" >Mazda</td>\n",
              "    </tr>\n",
              "    <tr>\n",
              "      <td id=\"T_a0fde_row37_col0\" class=\"data row37 col0\" >13</td>\n",
              "      <td id=\"T_a0fde_row37_col1\" class=\"data row37 col1\" >Type</td>\n",
              "      <td id=\"T_a0fde_row37_col2\" class=\"data row37 col2\" >Sedan</td>\n",
              "    </tr>\n",
              "    <tr>\n",
              "      <td id=\"T_a0fde_row38_col0\" class=\"data row38 col0\" >13</td>\n",
              "      <td id=\"T_a0fde_row38_col1\" class=\"data row38 col1\" >Colour</td>\n",
              "      <td id=\"T_a0fde_row38_col2\" class=\"data row38 col2\" >Brown</td>\n",
              "    </tr>\n",
              "    <tr>\n",
              "      <td id=\"T_a0fde_row39_col0\" class=\"data row39 col0\" >14</td>\n",
              "      <td id=\"T_a0fde_row39_col1\" class=\"data row39 col1\" >Make</td>\n",
              "      <td id=\"T_a0fde_row39_col2\" class=\"data row39 col2\" >Mazda</td>\n",
              "    </tr>\n",
              "    <tr>\n",
              "      <td id=\"T_a0fde_row40_col0\" class=\"data row40 col0\" >14</td>\n",
              "      <td id=\"T_a0fde_row40_col1\" class=\"data row40 col1\" >Type</td>\n",
              "      <td id=\"T_a0fde_row40_col2\" class=\"data row40 col2\" >SUV</td>\n",
              "    </tr>\n",
              "    <tr>\n",
              "      <td id=\"T_a0fde_row41_col0\" class=\"data row41 col0\" >14</td>\n",
              "      <td id=\"T_a0fde_row41_col1\" class=\"data row41 col1\" >Colour</td>\n",
              "      <td id=\"T_a0fde_row41_col2\" class=\"data row41 col2\" >Red</td>\n",
              "    </tr>\n",
              "  </tbody>\n",
              "</table>\n"
            ]
          },
          "metadata": {},
          "execution_count": 10
        }
      ]
    },
    {
      "cell_type": "code",
      "source": [
        "sql = \" \\\n",
        "SELECT \\\n",
        "  Txn,\\\n",
        "  string_agg(case when Dim = 'Make' then DimValue else NULL end,';') Make,\\\n",
        "  string_agg(case when Dim = 'Type' then DimValue else NULL end,';') Type,\\\n",
        "  string_agg(case when Dim = 'Colour' then DimValue else NULL end,';') Colour \\\n",
        "FROM CarSalesFact_N \\\n",
        "GROUP BY txn\\\n",
        "\"\n",
        "runSelect(sql)"
      ],
      "metadata": {
        "colab": {
          "base_uri": "https://localhost:8080/",
          "height": 488
        },
        "id": "5ZdLY4Xuvllk",
        "outputId": "fc10385d-ee1a-4238-d8aa-a0b1d2761666"
      },
      "execution_count": 11,
      "outputs": [
        {
          "output_type": "execute_result",
          "data": {
            "text/plain": [
              "<pandas.io.formats.style.Styler at 0x780df418b130>"
            ],
            "text/html": [
              "<style type=\"text/css\">\n",
              "</style>\n",
              "<table id=\"T_13220\" class=\"dataframe\">\n",
              "  <thead>\n",
              "    <tr>\n",
              "      <th id=\"T_13220_level0_col0\" class=\"col_heading level0 col0\" >txn</th>\n",
              "      <th id=\"T_13220_level0_col1\" class=\"col_heading level0 col1\" >make</th>\n",
              "      <th id=\"T_13220_level0_col2\" class=\"col_heading level0 col2\" >type</th>\n",
              "      <th id=\"T_13220_level0_col3\" class=\"col_heading level0 col3\" >colour</th>\n",
              "    </tr>\n",
              "  </thead>\n",
              "  <tbody>\n",
              "    <tr>\n",
              "      <td id=\"T_13220_row0_col0\" class=\"data row0 col0\" >1</td>\n",
              "      <td id=\"T_13220_row0_col1\" class=\"data row0 col1\" >Honda</td>\n",
              "      <td id=\"T_13220_row0_col2\" class=\"data row0 col2\" >SUV</td>\n",
              "      <td id=\"T_13220_row0_col3\" class=\"data row0 col3\" >Red</td>\n",
              "    </tr>\n",
              "    <tr>\n",
              "      <td id=\"T_13220_row1_col0\" class=\"data row1 col0\" >2</td>\n",
              "      <td id=\"T_13220_row1_col1\" class=\"data row1 col1\" >Honda</td>\n",
              "      <td id=\"T_13220_row1_col2\" class=\"data row1 col2\" >SUV</td>\n",
              "      <td id=\"T_13220_row1_col3\" class=\"data row1 col3\" >Black</td>\n",
              "    </tr>\n",
              "    <tr>\n",
              "      <td id=\"T_13220_row2_col0\" class=\"data row2 col0\" >3</td>\n",
              "      <td id=\"T_13220_row2_col1\" class=\"data row2 col1\" >Honda</td>\n",
              "      <td id=\"T_13220_row2_col2\" class=\"data row2 col2\" >Sedan</td>\n",
              "      <td id=\"T_13220_row2_col3\" class=\"data row2 col3\" >Brown</td>\n",
              "    </tr>\n",
              "    <tr>\n",
              "      <td id=\"T_13220_row3_col0\" class=\"data row3 col0\" >4</td>\n",
              "      <td id=\"T_13220_row3_col1\" class=\"data row3 col1\" >Toyota</td>\n",
              "      <td id=\"T_13220_row3_col2\" class=\"data row3 col2\" >Compact</td>\n",
              "      <td id=\"T_13220_row3_col3\" class=\"data row3 col3\" >Red</td>\n",
              "    </tr>\n",
              "    <tr>\n",
              "      <td id=\"T_13220_row4_col0\" class=\"data row4 col0\" >5</td>\n",
              "      <td id=\"T_13220_row4_col1\" class=\"data row4 col1\" >Toyota</td>\n",
              "      <td id=\"T_13220_row4_col2\" class=\"data row4 col2\" >Sedan</td>\n",
              "      <td id=\"T_13220_row4_col3\" class=\"data row4 col3\" >Black</td>\n",
              "    </tr>\n",
              "    <tr>\n",
              "      <td id=\"T_13220_row5_col0\" class=\"data row5 col0\" >6</td>\n",
              "      <td id=\"T_13220_row5_col1\" class=\"data row5 col1\" >Toyota</td>\n",
              "      <td id=\"T_13220_row5_col2\" class=\"data row5 col2\" >Sedan</td>\n",
              "      <td id=\"T_13220_row5_col3\" class=\"data row5 col3\" >Black</td>\n",
              "    </tr>\n",
              "    <tr>\n",
              "      <td id=\"T_13220_row6_col0\" class=\"data row6 col0\" >7</td>\n",
              "      <td id=\"T_13220_row6_col1\" class=\"data row6 col1\" >Honda</td>\n",
              "      <td id=\"T_13220_row6_col2\" class=\"data row6 col2\" >SUV</td>\n",
              "      <td id=\"T_13220_row6_col3\" class=\"data row6 col3\" >Black</td>\n",
              "    </tr>\n",
              "    <tr>\n",
              "      <td id=\"T_13220_row7_col0\" class=\"data row7 col0\" >8</td>\n",
              "      <td id=\"T_13220_row7_col1\" class=\"data row7 col1\" >Honda</td>\n",
              "      <td id=\"T_13220_row7_col2\" class=\"data row7 col2\" >SUV</td>\n",
              "      <td id=\"T_13220_row7_col3\" class=\"data row7 col3\" >Red</td>\n",
              "    </tr>\n",
              "    <tr>\n",
              "      <td id=\"T_13220_row8_col0\" class=\"data row8 col0\" >9</td>\n",
              "      <td id=\"T_13220_row8_col1\" class=\"data row8 col1\" >Honda</td>\n",
              "      <td id=\"T_13220_row8_col2\" class=\"data row8 col2\" >SUV</td>\n",
              "      <td id=\"T_13220_row8_col3\" class=\"data row8 col3\" >Black</td>\n",
              "    </tr>\n",
              "    <tr>\n",
              "      <td id=\"T_13220_row9_col0\" class=\"data row9 col0\" >10</td>\n",
              "      <td id=\"T_13220_row9_col1\" class=\"data row9 col1\" >Honda</td>\n",
              "      <td id=\"T_13220_row9_col2\" class=\"data row9 col2\" >SUV</td>\n",
              "      <td id=\"T_13220_row9_col3\" class=\"data row9 col3\" >Black</td>\n",
              "    </tr>\n",
              "    <tr>\n",
              "      <td id=\"T_13220_row10_col0\" class=\"data row10 col0\" >11</td>\n",
              "      <td id=\"T_13220_row10_col1\" class=\"data row10 col1\" >Mazda</td>\n",
              "      <td id=\"T_13220_row10_col2\" class=\"data row10 col2\" >SUV</td>\n",
              "      <td id=\"T_13220_row10_col3\" class=\"data row10 col3\" >Black</td>\n",
              "    </tr>\n",
              "    <tr>\n",
              "      <td id=\"T_13220_row11_col0\" class=\"data row11 col0\" >12</td>\n",
              "      <td id=\"T_13220_row11_col1\" class=\"data row11 col1\" >Mazda</td>\n",
              "      <td id=\"T_13220_row11_col2\" class=\"data row11 col2\" >Compact</td>\n",
              "      <td id=\"T_13220_row11_col3\" class=\"data row11 col3\" >Red</td>\n",
              "    </tr>\n",
              "    <tr>\n",
              "      <td id=\"T_13220_row12_col0\" class=\"data row12 col0\" >13</td>\n",
              "      <td id=\"T_13220_row12_col1\" class=\"data row12 col1\" >Mazda</td>\n",
              "      <td id=\"T_13220_row12_col2\" class=\"data row12 col2\" >Sedan</td>\n",
              "      <td id=\"T_13220_row12_col3\" class=\"data row12 col3\" >Brown</td>\n",
              "    </tr>\n",
              "    <tr>\n",
              "      <td id=\"T_13220_row13_col0\" class=\"data row13 col0\" >14</td>\n",
              "      <td id=\"T_13220_row13_col1\" class=\"data row13 col1\" >Mazda</td>\n",
              "      <td id=\"T_13220_row13_col2\" class=\"data row13 col2\" >SUV</td>\n",
              "      <td id=\"T_13220_row13_col3\" class=\"data row13 col3\" >Red</td>\n",
              "    </tr>\n",
              "  </tbody>\n",
              "</table>\n"
            ]
          },
          "metadata": {},
          "execution_count": 11
        }
      ]
    },
    {
      "cell_type": "code",
      "source": [
        "sql = \" \\\n",
        "select csf0.Make, csf0.Type, csf0.Colour, count(txn) Units from \\\n",
        "    ( \\\n",
        "    SELECT \\\n",
        "    Txn,\\\n",
        "    string_agg(case when Dim = 'Make' then DimValue else NULL end,';') Make,\\\n",
        "    string_agg(case when Dim = 'Type' then DimValue else NULL end,';') Type,\\\n",
        "    string_agg(case when Dim = 'Colour' then DimValue else NULL end,';') Colour \\\n",
        "    FROM CarSalesFact_N \\\n",
        "    GROUP BY txn\\\n",
        "    ) as csf0 \\\n",
        "group by \\\n",
        "csf0.Make, csf0.Type, csf0.Colour \\\n",
        "\"\n",
        "runSelect(sql)"
      ],
      "metadata": {
        "colab": {
          "base_uri": "https://localhost:8080/",
          "height": 331
        },
        "id": "FnRoFQKQ2YUZ",
        "outputId": "a093344a-22b3-4af2-de77-55043d052d6f"
      },
      "execution_count": 12,
      "outputs": [
        {
          "output_type": "execute_result",
          "data": {
            "text/plain": [
              "<pandas.io.formats.style.Styler at 0x780dc986e7a0>"
            ],
            "text/html": [
              "<style type=\"text/css\">\n",
              "</style>\n",
              "<table id=\"T_2efcb\" class=\"dataframe\">\n",
              "  <thead>\n",
              "    <tr>\n",
              "      <th id=\"T_2efcb_level0_col0\" class=\"col_heading level0 col0\" >make</th>\n",
              "      <th id=\"T_2efcb_level0_col1\" class=\"col_heading level0 col1\" >type</th>\n",
              "      <th id=\"T_2efcb_level0_col2\" class=\"col_heading level0 col2\" >colour</th>\n",
              "      <th id=\"T_2efcb_level0_col3\" class=\"col_heading level0 col3\" >units</th>\n",
              "    </tr>\n",
              "  </thead>\n",
              "  <tbody>\n",
              "    <tr>\n",
              "      <td id=\"T_2efcb_row0_col0\" class=\"data row0 col0\" >Honda</td>\n",
              "      <td id=\"T_2efcb_row0_col1\" class=\"data row0 col1\" >SUV</td>\n",
              "      <td id=\"T_2efcb_row0_col2\" class=\"data row0 col2\" >Red</td>\n",
              "      <td id=\"T_2efcb_row0_col3\" class=\"data row0 col3\" >2</td>\n",
              "    </tr>\n",
              "    <tr>\n",
              "      <td id=\"T_2efcb_row1_col0\" class=\"data row1 col0\" >Honda</td>\n",
              "      <td id=\"T_2efcb_row1_col1\" class=\"data row1 col1\" >SUV</td>\n",
              "      <td id=\"T_2efcb_row1_col2\" class=\"data row1 col2\" >Black</td>\n",
              "      <td id=\"T_2efcb_row1_col3\" class=\"data row1 col3\" >4</td>\n",
              "    </tr>\n",
              "    <tr>\n",
              "      <td id=\"T_2efcb_row2_col0\" class=\"data row2 col0\" >Toyota</td>\n",
              "      <td id=\"T_2efcb_row2_col1\" class=\"data row2 col1\" >Compact</td>\n",
              "      <td id=\"T_2efcb_row2_col2\" class=\"data row2 col2\" >Red</td>\n",
              "      <td id=\"T_2efcb_row2_col3\" class=\"data row2 col3\" >1</td>\n",
              "    </tr>\n",
              "    <tr>\n",
              "      <td id=\"T_2efcb_row3_col0\" class=\"data row3 col0\" >Mazda</td>\n",
              "      <td id=\"T_2efcb_row3_col1\" class=\"data row3 col1\" >Compact</td>\n",
              "      <td id=\"T_2efcb_row3_col2\" class=\"data row3 col2\" >Red</td>\n",
              "      <td id=\"T_2efcb_row3_col3\" class=\"data row3 col3\" >1</td>\n",
              "    </tr>\n",
              "    <tr>\n",
              "      <td id=\"T_2efcb_row4_col0\" class=\"data row4 col0\" >Mazda</td>\n",
              "      <td id=\"T_2efcb_row4_col1\" class=\"data row4 col1\" >SUV</td>\n",
              "      <td id=\"T_2efcb_row4_col2\" class=\"data row4 col2\" >Red</td>\n",
              "      <td id=\"T_2efcb_row4_col3\" class=\"data row4 col3\" >1</td>\n",
              "    </tr>\n",
              "    <tr>\n",
              "      <td id=\"T_2efcb_row5_col0\" class=\"data row5 col0\" >Toyota</td>\n",
              "      <td id=\"T_2efcb_row5_col1\" class=\"data row5 col1\" >Sedan</td>\n",
              "      <td id=\"T_2efcb_row5_col2\" class=\"data row5 col2\" >Black</td>\n",
              "      <td id=\"T_2efcb_row5_col3\" class=\"data row5 col3\" >2</td>\n",
              "    </tr>\n",
              "    <tr>\n",
              "      <td id=\"T_2efcb_row6_col0\" class=\"data row6 col0\" >Honda</td>\n",
              "      <td id=\"T_2efcb_row6_col1\" class=\"data row6 col1\" >Sedan</td>\n",
              "      <td id=\"T_2efcb_row6_col2\" class=\"data row6 col2\" >Brown</td>\n",
              "      <td id=\"T_2efcb_row6_col3\" class=\"data row6 col3\" >1</td>\n",
              "    </tr>\n",
              "    <tr>\n",
              "      <td id=\"T_2efcb_row7_col0\" class=\"data row7 col0\" >Mazda</td>\n",
              "      <td id=\"T_2efcb_row7_col1\" class=\"data row7 col1\" >Sedan</td>\n",
              "      <td id=\"T_2efcb_row7_col2\" class=\"data row7 col2\" >Brown</td>\n",
              "      <td id=\"T_2efcb_row7_col3\" class=\"data row7 col3\" >1</td>\n",
              "    </tr>\n",
              "    <tr>\n",
              "      <td id=\"T_2efcb_row8_col0\" class=\"data row8 col0\" >Mazda</td>\n",
              "      <td id=\"T_2efcb_row8_col1\" class=\"data row8 col1\" >SUV</td>\n",
              "      <td id=\"T_2efcb_row8_col2\" class=\"data row8 col2\" >Black</td>\n",
              "      <td id=\"T_2efcb_row8_col3\" class=\"data row8 col3\" >1</td>\n",
              "    </tr>\n",
              "  </tbody>\n",
              "</table>\n"
            ]
          },
          "metadata": {},
          "execution_count": 12
        }
      ]
    },
    {
      "cell_type": "markdown",
      "source": [
        "## Create Standard Fact Table"
      ],
      "metadata": {
        "id": "5g0B2epY70xA"
      }
    },
    {
      "cell_type": "code",
      "source": [
        "ddl = \"\\\n",
        "drop table if exists CarSalesFact_S; \\\n",
        "create table if not exists CarSalesFact_S as ( \\\n",
        "    select csf0.Make, csf0.Type, csf0.Colour, count(txn) Units from \\\n",
        "        ( \\\n",
        "        SELECT \\\n",
        "        Txn,\\\n",
        "        string_agg(case when Dim = 'Make' then DimValue else NULL end,';') Make,\\\n",
        "        string_agg(case when Dim = 'Type' then DimValue else NULL end,';') Type,\\\n",
        "        string_agg(case when Dim = 'Colour' then DimValue else NULL end,';') Colour \\\n",
        "        FROM CarSalesFact_N \\\n",
        "        GROUP BY txn\\\n",
        "        ) as csf0 \\\n",
        "    group by \\\n",
        "    csf0.Make, csf0.Type, csf0.Colour \\\n",
        "    ) \\\n",
        "\"\n",
        "runCmd(ddl)"
      ],
      "metadata": {
        "colab": {
          "base_uri": "https://localhost:8080/"
        },
        "id": "fQrVdvuD3OIX",
        "outputId": "37ca1f4c-b5e8-4704-d530-4c146ccbb9bb"
      },
      "execution_count": 13,
      "outputs": [
        {
          "output_type": "stream",
          "name": "stdout",
          "text": [
            "Command executed\n"
          ]
        }
      ]
    },
    {
      "cell_type": "code",
      "source": [
        "runSelect(\"select * from CarSalesFact_S\")"
      ],
      "metadata": {
        "colab": {
          "base_uri": "https://localhost:8080/",
          "height": 331
        },
        "id": "khq53WrI4JGY",
        "outputId": "338eb320-ff15-4f65-bd8b-754a46773dcb"
      },
      "execution_count": 14,
      "outputs": [
        {
          "output_type": "execute_result",
          "data": {
            "text/plain": [
              "<pandas.io.formats.style.Styler at 0x780dc986f2b0>"
            ],
            "text/html": [
              "<style type=\"text/css\">\n",
              "</style>\n",
              "<table id=\"T_84989\" class=\"dataframe\">\n",
              "  <thead>\n",
              "    <tr>\n",
              "      <th id=\"T_84989_level0_col0\" class=\"col_heading level0 col0\" >make</th>\n",
              "      <th id=\"T_84989_level0_col1\" class=\"col_heading level0 col1\" >type</th>\n",
              "      <th id=\"T_84989_level0_col2\" class=\"col_heading level0 col2\" >colour</th>\n",
              "      <th id=\"T_84989_level0_col3\" class=\"col_heading level0 col3\" >units</th>\n",
              "    </tr>\n",
              "  </thead>\n",
              "  <tbody>\n",
              "    <tr>\n",
              "      <td id=\"T_84989_row0_col0\" class=\"data row0 col0\" >Honda</td>\n",
              "      <td id=\"T_84989_row0_col1\" class=\"data row0 col1\" >SUV</td>\n",
              "      <td id=\"T_84989_row0_col2\" class=\"data row0 col2\" >Red</td>\n",
              "      <td id=\"T_84989_row0_col3\" class=\"data row0 col3\" >2</td>\n",
              "    </tr>\n",
              "    <tr>\n",
              "      <td id=\"T_84989_row1_col0\" class=\"data row1 col0\" >Honda</td>\n",
              "      <td id=\"T_84989_row1_col1\" class=\"data row1 col1\" >SUV</td>\n",
              "      <td id=\"T_84989_row1_col2\" class=\"data row1 col2\" >Black</td>\n",
              "      <td id=\"T_84989_row1_col3\" class=\"data row1 col3\" >4</td>\n",
              "    </tr>\n",
              "    <tr>\n",
              "      <td id=\"T_84989_row2_col0\" class=\"data row2 col0\" >Toyota</td>\n",
              "      <td id=\"T_84989_row2_col1\" class=\"data row2 col1\" >Compact</td>\n",
              "      <td id=\"T_84989_row2_col2\" class=\"data row2 col2\" >Red</td>\n",
              "      <td id=\"T_84989_row2_col3\" class=\"data row2 col3\" >1</td>\n",
              "    </tr>\n",
              "    <tr>\n",
              "      <td id=\"T_84989_row3_col0\" class=\"data row3 col0\" >Mazda</td>\n",
              "      <td id=\"T_84989_row3_col1\" class=\"data row3 col1\" >Compact</td>\n",
              "      <td id=\"T_84989_row3_col2\" class=\"data row3 col2\" >Red</td>\n",
              "      <td id=\"T_84989_row3_col3\" class=\"data row3 col3\" >1</td>\n",
              "    </tr>\n",
              "    <tr>\n",
              "      <td id=\"T_84989_row4_col0\" class=\"data row4 col0\" >Mazda</td>\n",
              "      <td id=\"T_84989_row4_col1\" class=\"data row4 col1\" >SUV</td>\n",
              "      <td id=\"T_84989_row4_col2\" class=\"data row4 col2\" >Red</td>\n",
              "      <td id=\"T_84989_row4_col3\" class=\"data row4 col3\" >1</td>\n",
              "    </tr>\n",
              "    <tr>\n",
              "      <td id=\"T_84989_row5_col0\" class=\"data row5 col0\" >Toyota</td>\n",
              "      <td id=\"T_84989_row5_col1\" class=\"data row5 col1\" >Sedan</td>\n",
              "      <td id=\"T_84989_row5_col2\" class=\"data row5 col2\" >Black</td>\n",
              "      <td id=\"T_84989_row5_col3\" class=\"data row5 col3\" >2</td>\n",
              "    </tr>\n",
              "    <tr>\n",
              "      <td id=\"T_84989_row6_col0\" class=\"data row6 col0\" >Honda</td>\n",
              "      <td id=\"T_84989_row6_col1\" class=\"data row6 col1\" >Sedan</td>\n",
              "      <td id=\"T_84989_row6_col2\" class=\"data row6 col2\" >Brown</td>\n",
              "      <td id=\"T_84989_row6_col3\" class=\"data row6 col3\" >1</td>\n",
              "    </tr>\n",
              "    <tr>\n",
              "      <td id=\"T_84989_row7_col0\" class=\"data row7 col0\" >Mazda</td>\n",
              "      <td id=\"T_84989_row7_col1\" class=\"data row7 col1\" >Sedan</td>\n",
              "      <td id=\"T_84989_row7_col2\" class=\"data row7 col2\" >Brown</td>\n",
              "      <td id=\"T_84989_row7_col3\" class=\"data row7 col3\" >1</td>\n",
              "    </tr>\n",
              "    <tr>\n",
              "      <td id=\"T_84989_row8_col0\" class=\"data row8 col0\" >Mazda</td>\n",
              "      <td id=\"T_84989_row8_col1\" class=\"data row8 col1\" >SUV</td>\n",
              "      <td id=\"T_84989_row8_col2\" class=\"data row8 col2\" >Black</td>\n",
              "      <td id=\"T_84989_row8_col3\" class=\"data row8 col3\" >1</td>\n",
              "    </tr>\n",
              "  </tbody>\n",
              "</table>\n"
            ]
          },
          "metadata": {},
          "execution_count": 14
        }
      ]
    },
    {
      "cell_type": "markdown",
      "source": [
        "#Cross Tab a.k.a Pivot"
      ],
      "metadata": {
        "id": "chK7LJhP8ELu"
      }
    },
    {
      "cell_type": "markdown",
      "source": [
        "## Level 1 - Simple Group By"
      ],
      "metadata": {
        "id": "IosDeDv78L_1"
      }
    },
    {
      "cell_type": "code",
      "source": [
        "sql = \"\\\n",
        "select Make, Type, Sum(Units) Count \\\n",
        "  from CarSalesFact_S \\\n",
        "  group by Make, Type \\\n",
        "\"\n",
        "runSelect(sql)"
      ],
      "metadata": {
        "colab": {
          "base_uri": "https://localhost:8080/",
          "height": 269
        },
        "id": "oGu4452n8Tpp",
        "outputId": "778c9590-f19a-4121-d730-6a9ec21a409d"
      },
      "execution_count": 15,
      "outputs": [
        {
          "output_type": "execute_result",
          "data": {
            "text/plain": [
              "<pandas.io.formats.style.Styler at 0x780dc986f820>"
            ],
            "text/html": [
              "<style type=\"text/css\">\n",
              "</style>\n",
              "<table id=\"T_f2f33\" class=\"dataframe\">\n",
              "  <thead>\n",
              "    <tr>\n",
              "      <th id=\"T_f2f33_level0_col0\" class=\"col_heading level0 col0\" >make</th>\n",
              "      <th id=\"T_f2f33_level0_col1\" class=\"col_heading level0 col1\" >type</th>\n",
              "      <th id=\"T_f2f33_level0_col2\" class=\"col_heading level0 col2\" >count</th>\n",
              "    </tr>\n",
              "  </thead>\n",
              "  <tbody>\n",
              "    <tr>\n",
              "      <td id=\"T_f2f33_row0_col0\" class=\"data row0 col0\" >Mazda</td>\n",
              "      <td id=\"T_f2f33_row0_col1\" class=\"data row0 col1\" >SUV</td>\n",
              "      <td id=\"T_f2f33_row0_col2\" class=\"data row0 col2\" >2</td>\n",
              "    </tr>\n",
              "    <tr>\n",
              "      <td id=\"T_f2f33_row1_col0\" class=\"data row1 col0\" >Honda</td>\n",
              "      <td id=\"T_f2f33_row1_col1\" class=\"data row1 col1\" >SUV</td>\n",
              "      <td id=\"T_f2f33_row1_col2\" class=\"data row1 col2\" >6</td>\n",
              "    </tr>\n",
              "    <tr>\n",
              "      <td id=\"T_f2f33_row2_col0\" class=\"data row2 col0\" >Mazda</td>\n",
              "      <td id=\"T_f2f33_row2_col1\" class=\"data row2 col1\" >Sedan</td>\n",
              "      <td id=\"T_f2f33_row2_col2\" class=\"data row2 col2\" >1</td>\n",
              "    </tr>\n",
              "    <tr>\n",
              "      <td id=\"T_f2f33_row3_col0\" class=\"data row3 col0\" >Toyota</td>\n",
              "      <td id=\"T_f2f33_row3_col1\" class=\"data row3 col1\" >Compact</td>\n",
              "      <td id=\"T_f2f33_row3_col2\" class=\"data row3 col2\" >1</td>\n",
              "    </tr>\n",
              "    <tr>\n",
              "      <td id=\"T_f2f33_row4_col0\" class=\"data row4 col0\" >Toyota</td>\n",
              "      <td id=\"T_f2f33_row4_col1\" class=\"data row4 col1\" >Sedan</td>\n",
              "      <td id=\"T_f2f33_row4_col2\" class=\"data row4 col2\" >2</td>\n",
              "    </tr>\n",
              "    <tr>\n",
              "      <td id=\"T_f2f33_row5_col0\" class=\"data row5 col0\" >Honda</td>\n",
              "      <td id=\"T_f2f33_row5_col1\" class=\"data row5 col1\" >Sedan</td>\n",
              "      <td id=\"T_f2f33_row5_col2\" class=\"data row5 col2\" >1</td>\n",
              "    </tr>\n",
              "    <tr>\n",
              "      <td id=\"T_f2f33_row6_col0\" class=\"data row6 col0\" >Mazda</td>\n",
              "      <td id=\"T_f2f33_row6_col1\" class=\"data row6 col1\" >Compact</td>\n",
              "      <td id=\"T_f2f33_row6_col2\" class=\"data row6 col2\" >1</td>\n",
              "    </tr>\n",
              "  </tbody>\n",
              "</table>\n"
            ]
          },
          "metadata": {},
          "execution_count": 15
        }
      ]
    },
    {
      "cell_type": "markdown",
      "source": [
        "## Level 2 : Group BY with ROLLUP"
      ],
      "metadata": {
        "id": "57jOZZMB8qux"
      }
    },
    {
      "cell_type": "markdown",
      "source": [
        "### Basic Rollup"
      ],
      "metadata": {
        "id": "-2GW9MSi_s0e"
      }
    },
    {
      "cell_type": "code",
      "source": [
        "sql = \"\\\n",
        "select Make, Type, Sum(Units) Count \\\n",
        "  from CarSalesFact_S \\\n",
        "  group by rollup(Make, Type) \\\n",
        "\"\n",
        "runSelect(sql)"
      ],
      "metadata": {
        "colab": {
          "base_uri": "https://localhost:8080/",
          "height": 394
        },
        "id": "me9GMHXS8yTf",
        "outputId": "9c55f59c-8f3c-4a41-bd41-bbe45e6a5cfb"
      },
      "execution_count": 16,
      "outputs": [
        {
          "output_type": "execute_result",
          "data": {
            "text/plain": [
              "<pandas.io.formats.style.Styler at 0x780dc986ee60>"
            ],
            "text/html": [
              "<style type=\"text/css\">\n",
              "</style>\n",
              "<table id=\"T_02cb1\" class=\"dataframe\">\n",
              "  <thead>\n",
              "    <tr>\n",
              "      <th id=\"T_02cb1_level0_col0\" class=\"col_heading level0 col0\" >make</th>\n",
              "      <th id=\"T_02cb1_level0_col1\" class=\"col_heading level0 col1\" >type</th>\n",
              "      <th id=\"T_02cb1_level0_col2\" class=\"col_heading level0 col2\" >count</th>\n",
              "    </tr>\n",
              "  </thead>\n",
              "  <tbody>\n",
              "    <tr>\n",
              "      <td id=\"T_02cb1_row0_col0\" class=\"data row0 col0\" >None</td>\n",
              "      <td id=\"T_02cb1_row0_col1\" class=\"data row0 col1\" >None</td>\n",
              "      <td id=\"T_02cb1_row0_col2\" class=\"data row0 col2\" >14</td>\n",
              "    </tr>\n",
              "    <tr>\n",
              "      <td id=\"T_02cb1_row1_col0\" class=\"data row1 col0\" >Mazda</td>\n",
              "      <td id=\"T_02cb1_row1_col1\" class=\"data row1 col1\" >SUV</td>\n",
              "      <td id=\"T_02cb1_row1_col2\" class=\"data row1 col2\" >2</td>\n",
              "    </tr>\n",
              "    <tr>\n",
              "      <td id=\"T_02cb1_row2_col0\" class=\"data row2 col0\" >Honda</td>\n",
              "      <td id=\"T_02cb1_row2_col1\" class=\"data row2 col1\" >SUV</td>\n",
              "      <td id=\"T_02cb1_row2_col2\" class=\"data row2 col2\" >6</td>\n",
              "    </tr>\n",
              "    <tr>\n",
              "      <td id=\"T_02cb1_row3_col0\" class=\"data row3 col0\" >Mazda</td>\n",
              "      <td id=\"T_02cb1_row3_col1\" class=\"data row3 col1\" >Sedan</td>\n",
              "      <td id=\"T_02cb1_row3_col2\" class=\"data row3 col2\" >1</td>\n",
              "    </tr>\n",
              "    <tr>\n",
              "      <td id=\"T_02cb1_row4_col0\" class=\"data row4 col0\" >Toyota</td>\n",
              "      <td id=\"T_02cb1_row4_col1\" class=\"data row4 col1\" >Compact</td>\n",
              "      <td id=\"T_02cb1_row4_col2\" class=\"data row4 col2\" >1</td>\n",
              "    </tr>\n",
              "    <tr>\n",
              "      <td id=\"T_02cb1_row5_col0\" class=\"data row5 col0\" >Toyota</td>\n",
              "      <td id=\"T_02cb1_row5_col1\" class=\"data row5 col1\" >Sedan</td>\n",
              "      <td id=\"T_02cb1_row5_col2\" class=\"data row5 col2\" >2</td>\n",
              "    </tr>\n",
              "    <tr>\n",
              "      <td id=\"T_02cb1_row6_col0\" class=\"data row6 col0\" >Honda</td>\n",
              "      <td id=\"T_02cb1_row6_col1\" class=\"data row6 col1\" >Sedan</td>\n",
              "      <td id=\"T_02cb1_row6_col2\" class=\"data row6 col2\" >1</td>\n",
              "    </tr>\n",
              "    <tr>\n",
              "      <td id=\"T_02cb1_row7_col0\" class=\"data row7 col0\" >Mazda</td>\n",
              "      <td id=\"T_02cb1_row7_col1\" class=\"data row7 col1\" >Compact</td>\n",
              "      <td id=\"T_02cb1_row7_col2\" class=\"data row7 col2\" >1</td>\n",
              "    </tr>\n",
              "    <tr>\n",
              "      <td id=\"T_02cb1_row8_col0\" class=\"data row8 col0\" >Honda</td>\n",
              "      <td id=\"T_02cb1_row8_col1\" class=\"data row8 col1\" >None</td>\n",
              "      <td id=\"T_02cb1_row8_col2\" class=\"data row8 col2\" >7</td>\n",
              "    </tr>\n",
              "    <tr>\n",
              "      <td id=\"T_02cb1_row9_col0\" class=\"data row9 col0\" >Toyota</td>\n",
              "      <td id=\"T_02cb1_row9_col1\" class=\"data row9 col1\" >None</td>\n",
              "      <td id=\"T_02cb1_row9_col2\" class=\"data row9 col2\" >3</td>\n",
              "    </tr>\n",
              "    <tr>\n",
              "      <td id=\"T_02cb1_row10_col0\" class=\"data row10 col0\" >Mazda</td>\n",
              "      <td id=\"T_02cb1_row10_col1\" class=\"data row10 col1\" >None</td>\n",
              "      <td id=\"T_02cb1_row10_col2\" class=\"data row10 col2\" >4</td>\n",
              "    </tr>\n",
              "  </tbody>\n",
              "</table>\n"
            ]
          },
          "metadata": {},
          "execution_count": 16
        }
      ]
    },
    {
      "cell_type": "code",
      "source": [
        "sql = \"\\\n",
        "select \\\n",
        "    COALESCE(Make, 'All Makes') AS Make, \\\n",
        "    COALESCE(Type, 'All Types') AS Type, \\\n",
        "    Sum(Units) Count \\\n",
        "  from CarSalesFact_S \\\n",
        "  group by rollup(Make, Type) \\\n",
        "\"\n",
        "runSelect(sql)"
      ],
      "metadata": {
        "colab": {
          "base_uri": "https://localhost:8080/",
          "height": 394
        },
        "id": "TXxhmV059xA_",
        "outputId": "795af913-9266-4524-9d90-0ab453549520"
      },
      "execution_count": 17,
      "outputs": [
        {
          "output_type": "execute_result",
          "data": {
            "text/plain": [
              "<pandas.io.formats.style.Styler at 0x780dc986ffd0>"
            ],
            "text/html": [
              "<style type=\"text/css\">\n",
              "</style>\n",
              "<table id=\"T_a7474\" class=\"dataframe\">\n",
              "  <thead>\n",
              "    <tr>\n",
              "      <th id=\"T_a7474_level0_col0\" class=\"col_heading level0 col0\" >make</th>\n",
              "      <th id=\"T_a7474_level0_col1\" class=\"col_heading level0 col1\" >type</th>\n",
              "      <th id=\"T_a7474_level0_col2\" class=\"col_heading level0 col2\" >count</th>\n",
              "    </tr>\n",
              "  </thead>\n",
              "  <tbody>\n",
              "    <tr>\n",
              "      <td id=\"T_a7474_row0_col0\" class=\"data row0 col0\" >All Makes</td>\n",
              "      <td id=\"T_a7474_row0_col1\" class=\"data row0 col1\" >All Types</td>\n",
              "      <td id=\"T_a7474_row0_col2\" class=\"data row0 col2\" >14</td>\n",
              "    </tr>\n",
              "    <tr>\n",
              "      <td id=\"T_a7474_row1_col0\" class=\"data row1 col0\" >Mazda</td>\n",
              "      <td id=\"T_a7474_row1_col1\" class=\"data row1 col1\" >SUV</td>\n",
              "      <td id=\"T_a7474_row1_col2\" class=\"data row1 col2\" >2</td>\n",
              "    </tr>\n",
              "    <tr>\n",
              "      <td id=\"T_a7474_row2_col0\" class=\"data row2 col0\" >Honda</td>\n",
              "      <td id=\"T_a7474_row2_col1\" class=\"data row2 col1\" >SUV</td>\n",
              "      <td id=\"T_a7474_row2_col2\" class=\"data row2 col2\" >6</td>\n",
              "    </tr>\n",
              "    <tr>\n",
              "      <td id=\"T_a7474_row3_col0\" class=\"data row3 col0\" >Mazda</td>\n",
              "      <td id=\"T_a7474_row3_col1\" class=\"data row3 col1\" >Sedan</td>\n",
              "      <td id=\"T_a7474_row3_col2\" class=\"data row3 col2\" >1</td>\n",
              "    </tr>\n",
              "    <tr>\n",
              "      <td id=\"T_a7474_row4_col0\" class=\"data row4 col0\" >Toyota</td>\n",
              "      <td id=\"T_a7474_row4_col1\" class=\"data row4 col1\" >Compact</td>\n",
              "      <td id=\"T_a7474_row4_col2\" class=\"data row4 col2\" >1</td>\n",
              "    </tr>\n",
              "    <tr>\n",
              "      <td id=\"T_a7474_row5_col0\" class=\"data row5 col0\" >Toyota</td>\n",
              "      <td id=\"T_a7474_row5_col1\" class=\"data row5 col1\" >Sedan</td>\n",
              "      <td id=\"T_a7474_row5_col2\" class=\"data row5 col2\" >2</td>\n",
              "    </tr>\n",
              "    <tr>\n",
              "      <td id=\"T_a7474_row6_col0\" class=\"data row6 col0\" >Honda</td>\n",
              "      <td id=\"T_a7474_row6_col1\" class=\"data row6 col1\" >Sedan</td>\n",
              "      <td id=\"T_a7474_row6_col2\" class=\"data row6 col2\" >1</td>\n",
              "    </tr>\n",
              "    <tr>\n",
              "      <td id=\"T_a7474_row7_col0\" class=\"data row7 col0\" >Mazda</td>\n",
              "      <td id=\"T_a7474_row7_col1\" class=\"data row7 col1\" >Compact</td>\n",
              "      <td id=\"T_a7474_row7_col2\" class=\"data row7 col2\" >1</td>\n",
              "    </tr>\n",
              "    <tr>\n",
              "      <td id=\"T_a7474_row8_col0\" class=\"data row8 col0\" >Honda</td>\n",
              "      <td id=\"T_a7474_row8_col1\" class=\"data row8 col1\" >All Types</td>\n",
              "      <td id=\"T_a7474_row8_col2\" class=\"data row8 col2\" >7</td>\n",
              "    </tr>\n",
              "    <tr>\n",
              "      <td id=\"T_a7474_row9_col0\" class=\"data row9 col0\" >Toyota</td>\n",
              "      <td id=\"T_a7474_row9_col1\" class=\"data row9 col1\" >All Types</td>\n",
              "      <td id=\"T_a7474_row9_col2\" class=\"data row9 col2\" >3</td>\n",
              "    </tr>\n",
              "    <tr>\n",
              "      <td id=\"T_a7474_row10_col0\" class=\"data row10 col0\" >Mazda</td>\n",
              "      <td id=\"T_a7474_row10_col1\" class=\"data row10 col1\" >All Types</td>\n",
              "      <td id=\"T_a7474_row10_col2\" class=\"data row10 col2\" >4</td>\n",
              "    </tr>\n",
              "  </tbody>\n",
              "</table>\n"
            ]
          },
          "metadata": {},
          "execution_count": 17
        }
      ]
    },
    {
      "cell_type": "markdown",
      "source": [
        "### Roll Up More"
      ],
      "metadata": {
        "id": "oCRVUeL9_yXV"
      }
    },
    {
      "cell_type": "code",
      "source": [
        "sql = \"\\\n",
        "select \\\n",
        "    COALESCE(Make, 'All Makes') AS Make, \\\n",
        "    Sum(Units) Count \\\n",
        "  from CarSalesFact_S \\\n",
        "  group by rollup(Make) \\\n",
        "\"\n",
        "runSelect(sql)"
      ],
      "metadata": {
        "colab": {
          "base_uri": "https://localhost:8080/",
          "height": 175
        },
        "id": "8N4L5WRy_5ml",
        "outputId": "a5979e44-ad87-48f2-c0a4-e0928a718a1e"
      },
      "execution_count": 18,
      "outputs": [
        {
          "output_type": "execute_result",
          "data": {
            "text/plain": [
              "<pandas.io.formats.style.Styler at 0x780df41c6dd0>"
            ],
            "text/html": [
              "<style type=\"text/css\">\n",
              "</style>\n",
              "<table id=\"T_f7184\" class=\"dataframe\">\n",
              "  <thead>\n",
              "    <tr>\n",
              "      <th id=\"T_f7184_level0_col0\" class=\"col_heading level0 col0\" >make</th>\n",
              "      <th id=\"T_f7184_level0_col1\" class=\"col_heading level0 col1\" >count</th>\n",
              "    </tr>\n",
              "  </thead>\n",
              "  <tbody>\n",
              "    <tr>\n",
              "      <td id=\"T_f7184_row0_col0\" class=\"data row0 col0\" >All Makes</td>\n",
              "      <td id=\"T_f7184_row0_col1\" class=\"data row0 col1\" >14</td>\n",
              "    </tr>\n",
              "    <tr>\n",
              "      <td id=\"T_f7184_row1_col0\" class=\"data row1 col0\" >Honda</td>\n",
              "      <td id=\"T_f7184_row1_col1\" class=\"data row1 col1\" >7</td>\n",
              "    </tr>\n",
              "    <tr>\n",
              "      <td id=\"T_f7184_row2_col0\" class=\"data row2 col0\" >Toyota</td>\n",
              "      <td id=\"T_f7184_row2_col1\" class=\"data row2 col1\" >3</td>\n",
              "    </tr>\n",
              "    <tr>\n",
              "      <td id=\"T_f7184_row3_col0\" class=\"data row3 col0\" >Mazda</td>\n",
              "      <td id=\"T_f7184_row3_col1\" class=\"data row3 col1\" >4</td>\n",
              "    </tr>\n",
              "  </tbody>\n",
              "</table>\n"
            ]
          },
          "metadata": {},
          "execution_count": 18
        }
      ]
    },
    {
      "cell_type": "code",
      "source": [
        "sql = \"\\\n",
        "select \\\n",
        "    COALESCE(Type, 'All Types') AS Type, \\\n",
        "    Sum(Units) Count \\\n",
        "  from CarSalesFact_S \\\n",
        "  group by rollup(Type) \\\n",
        "\"\n",
        "runSelect(sql)"
      ],
      "metadata": {
        "colab": {
          "base_uri": "https://localhost:8080/",
          "height": 175
        },
        "id": "7Vo7Au6ZAYSV",
        "outputId": "bb6ace0d-851d-4cf6-a0ba-e2810bc43370"
      },
      "execution_count": 19,
      "outputs": [
        {
          "output_type": "execute_result",
          "data": {
            "text/plain": [
              "<pandas.io.formats.style.Styler at 0x780dc986e6b0>"
            ],
            "text/html": [
              "<style type=\"text/css\">\n",
              "</style>\n",
              "<table id=\"T_e29bc\" class=\"dataframe\">\n",
              "  <thead>\n",
              "    <tr>\n",
              "      <th id=\"T_e29bc_level0_col0\" class=\"col_heading level0 col0\" >type</th>\n",
              "      <th id=\"T_e29bc_level0_col1\" class=\"col_heading level0 col1\" >count</th>\n",
              "    </tr>\n",
              "  </thead>\n",
              "  <tbody>\n",
              "    <tr>\n",
              "      <td id=\"T_e29bc_row0_col0\" class=\"data row0 col0\" >All Types</td>\n",
              "      <td id=\"T_e29bc_row0_col1\" class=\"data row0 col1\" >14</td>\n",
              "    </tr>\n",
              "    <tr>\n",
              "      <td id=\"T_e29bc_row1_col0\" class=\"data row1 col0\" >SUV</td>\n",
              "      <td id=\"T_e29bc_row1_col1\" class=\"data row1 col1\" >8</td>\n",
              "    </tr>\n",
              "    <tr>\n",
              "      <td id=\"T_e29bc_row2_col0\" class=\"data row2 col0\" >Sedan</td>\n",
              "      <td id=\"T_e29bc_row2_col1\" class=\"data row2 col1\" >4</td>\n",
              "    </tr>\n",
              "    <tr>\n",
              "      <td id=\"T_e29bc_row3_col0\" class=\"data row3 col0\" >Compact</td>\n",
              "      <td id=\"T_e29bc_row3_col1\" class=\"data row3 col1\" >2</td>\n",
              "    </tr>\n",
              "  </tbody>\n",
              "</table>\n"
            ]
          },
          "metadata": {},
          "execution_count": 19
        }
      ]
    },
    {
      "cell_type": "markdown",
      "source": [
        "### Roll Up - Even More"
      ],
      "metadata": {
        "id": "Ydc0opQzAg76"
      }
    },
    {
      "cell_type": "code",
      "source": [
        "sql = \"\\\n",
        "select \\\n",
        "    Sum(Units) Count \\\n",
        "  from CarSalesFact_S \\\n",
        "\"\n",
        "runSelect(sql)"
      ],
      "metadata": {
        "colab": {
          "base_uri": "https://localhost:8080/",
          "height": 81
        },
        "id": "U5u7tFXDAtyZ",
        "outputId": "51518fc3-76b1-4aa5-f640-65166c9e2324"
      },
      "execution_count": 20,
      "outputs": [
        {
          "output_type": "execute_result",
          "data": {
            "text/plain": [
              "<pandas.io.formats.style.Styler at 0x780dc986f3a0>"
            ],
            "text/html": [
              "<style type=\"text/css\">\n",
              "</style>\n",
              "<table id=\"T_4efdb\" class=\"dataframe\">\n",
              "  <thead>\n",
              "    <tr>\n",
              "      <th id=\"T_4efdb_level0_col0\" class=\"col_heading level0 col0\" >count</th>\n",
              "    </tr>\n",
              "  </thead>\n",
              "  <tbody>\n",
              "    <tr>\n",
              "      <td id=\"T_4efdb_row0_col0\" class=\"data row0 col0\" >14</td>\n",
              "    </tr>\n",
              "  </tbody>\n",
              "</table>\n"
            ]
          },
          "metadata": {},
          "execution_count": 20
        }
      ]
    },
    {
      "cell_type": "markdown",
      "source": [
        "## Level 3 - Full Crosstab"
      ],
      "metadata": {
        "id": "OMf6fJFVD65m"
      }
    },
    {
      "cell_type": "code",
      "source": [
        "sql = \"\\\n",
        "SELECT \\\n",
        "\tMake,\\\n",
        "\tsum(case when (Type = 'Sedan') then Units else 0 end) as Sedan,\\\n",
        "\tsum(case when (Type = 'SUV') then Units else 0 end) as SUV,\\\n",
        "\tsum(case when (Type = 'Compact') then Units else 0 end) as Compact\\\n",
        "  FROM CarSalesFact_S\\\n",
        "  GROUP BY ROLLUP (Make)\\\n",
        "\"\n",
        "runSelect(sql)"
      ],
      "metadata": {
        "colab": {
          "base_uri": "https://localhost:8080/",
          "height": 175
        },
        "id": "DMi2uYowEvfM",
        "outputId": "713dad2e-e4cf-4099-edd4-ad84a2c6fd68"
      },
      "execution_count": 21,
      "outputs": [
        {
          "output_type": "execute_result",
          "data": {
            "text/plain": [
              "<pandas.io.formats.style.Styler at 0x780dc986e980>"
            ],
            "text/html": [
              "<style type=\"text/css\">\n",
              "</style>\n",
              "<table id=\"T_53a9a\" class=\"dataframe\">\n",
              "  <thead>\n",
              "    <tr>\n",
              "      <th id=\"T_53a9a_level0_col0\" class=\"col_heading level0 col0\" >make</th>\n",
              "      <th id=\"T_53a9a_level0_col1\" class=\"col_heading level0 col1\" >sedan</th>\n",
              "      <th id=\"T_53a9a_level0_col2\" class=\"col_heading level0 col2\" >suv</th>\n",
              "      <th id=\"T_53a9a_level0_col3\" class=\"col_heading level0 col3\" >compact</th>\n",
              "    </tr>\n",
              "  </thead>\n",
              "  <tbody>\n",
              "    <tr>\n",
              "      <td id=\"T_53a9a_row0_col0\" class=\"data row0 col0\" >None</td>\n",
              "      <td id=\"T_53a9a_row0_col1\" class=\"data row0 col1\" >4</td>\n",
              "      <td id=\"T_53a9a_row0_col2\" class=\"data row0 col2\" >8</td>\n",
              "      <td id=\"T_53a9a_row0_col3\" class=\"data row0 col3\" >2</td>\n",
              "    </tr>\n",
              "    <tr>\n",
              "      <td id=\"T_53a9a_row1_col0\" class=\"data row1 col0\" >Honda</td>\n",
              "      <td id=\"T_53a9a_row1_col1\" class=\"data row1 col1\" >1</td>\n",
              "      <td id=\"T_53a9a_row1_col2\" class=\"data row1 col2\" >6</td>\n",
              "      <td id=\"T_53a9a_row1_col3\" class=\"data row1 col3\" >0</td>\n",
              "    </tr>\n",
              "    <tr>\n",
              "      <td id=\"T_53a9a_row2_col0\" class=\"data row2 col0\" >Toyota</td>\n",
              "      <td id=\"T_53a9a_row2_col1\" class=\"data row2 col1\" >2</td>\n",
              "      <td id=\"T_53a9a_row2_col2\" class=\"data row2 col2\" >0</td>\n",
              "      <td id=\"T_53a9a_row2_col3\" class=\"data row2 col3\" >1</td>\n",
              "    </tr>\n",
              "    <tr>\n",
              "      <td id=\"T_53a9a_row3_col0\" class=\"data row3 col0\" >Mazda</td>\n",
              "      <td id=\"T_53a9a_row3_col1\" class=\"data row3 col1\" >1</td>\n",
              "      <td id=\"T_53a9a_row3_col2\" class=\"data row3 col2\" >2</td>\n",
              "      <td id=\"T_53a9a_row3_col3\" class=\"data row3 col3\" >1</td>\n",
              "    </tr>\n",
              "  </tbody>\n",
              "</table>\n"
            ]
          },
          "metadata": {},
          "execution_count": 21
        }
      ]
    },
    {
      "cell_type": "code",
      "source": [
        "sql = \"\\\n",
        "SELECT \\\n",
        "    COALESCE(Make, 'Total') AS Dim, \\\n",
        "\tsum(case when (Type = 'Sedan') then Units else 0 end) as Sedan,\\\n",
        "\tsum(case when (Type = 'SUV') then Units else 0 end) as SUV,\\\n",
        "\tsum(case when (Type = 'Compact') then Units else 0 end) as Compact\\\n",
        "  FROM CarSalesFact_S\\\n",
        "  GROUP BY ROLLUP (Make)\\\n",
        "\"\n",
        "runSelect(sql)"
      ],
      "metadata": {
        "colab": {
          "base_uri": "https://localhost:8080/",
          "height": 175
        },
        "id": "LCivlY1-FBzN",
        "outputId": "59d47adf-90c8-4e06-f5fb-2a3bd8fc7e3a"
      },
      "execution_count": 22,
      "outputs": [
        {
          "output_type": "execute_result",
          "data": {
            "text/plain": [
              "<pandas.io.formats.style.Styler at 0x780dc986e170>"
            ],
            "text/html": [
              "<style type=\"text/css\">\n",
              "</style>\n",
              "<table id=\"T_b46fe\" class=\"dataframe\">\n",
              "  <thead>\n",
              "    <tr>\n",
              "      <th id=\"T_b46fe_level0_col0\" class=\"col_heading level0 col0\" >dim</th>\n",
              "      <th id=\"T_b46fe_level0_col1\" class=\"col_heading level0 col1\" >sedan</th>\n",
              "      <th id=\"T_b46fe_level0_col2\" class=\"col_heading level0 col2\" >suv</th>\n",
              "      <th id=\"T_b46fe_level0_col3\" class=\"col_heading level0 col3\" >compact</th>\n",
              "    </tr>\n",
              "  </thead>\n",
              "  <tbody>\n",
              "    <tr>\n",
              "      <td id=\"T_b46fe_row0_col0\" class=\"data row0 col0\" >Total</td>\n",
              "      <td id=\"T_b46fe_row0_col1\" class=\"data row0 col1\" >4</td>\n",
              "      <td id=\"T_b46fe_row0_col2\" class=\"data row0 col2\" >8</td>\n",
              "      <td id=\"T_b46fe_row0_col3\" class=\"data row0 col3\" >2</td>\n",
              "    </tr>\n",
              "    <tr>\n",
              "      <td id=\"T_b46fe_row1_col0\" class=\"data row1 col0\" >Honda</td>\n",
              "      <td id=\"T_b46fe_row1_col1\" class=\"data row1 col1\" >1</td>\n",
              "      <td id=\"T_b46fe_row1_col2\" class=\"data row1 col2\" >6</td>\n",
              "      <td id=\"T_b46fe_row1_col3\" class=\"data row1 col3\" >0</td>\n",
              "    </tr>\n",
              "    <tr>\n",
              "      <td id=\"T_b46fe_row2_col0\" class=\"data row2 col0\" >Toyota</td>\n",
              "      <td id=\"T_b46fe_row2_col1\" class=\"data row2 col1\" >2</td>\n",
              "      <td id=\"T_b46fe_row2_col2\" class=\"data row2 col2\" >0</td>\n",
              "      <td id=\"T_b46fe_row2_col3\" class=\"data row2 col3\" >1</td>\n",
              "    </tr>\n",
              "    <tr>\n",
              "      <td id=\"T_b46fe_row3_col0\" class=\"data row3 col0\" >Mazda</td>\n",
              "      <td id=\"T_b46fe_row3_col1\" class=\"data row3 col1\" >1</td>\n",
              "      <td id=\"T_b46fe_row3_col2\" class=\"data row3 col2\" >2</td>\n",
              "      <td id=\"T_b46fe_row3_col3\" class=\"data row3 col3\" >1</td>\n",
              "    </tr>\n",
              "  </tbody>\n",
              "</table>\n"
            ]
          },
          "metadata": {},
          "execution_count": 22
        }
      ]
    },
    {
      "cell_type": "code",
      "source": [
        "sql = \"\\\n",
        "SELECT \\\n",
        "COALESCE(Make, 'Total') AS Dim, \\\n",
        "sums.SUV, sums.Sedan, sums.Compact,\\\n",
        "sums.SUV + sums.Sedan + sums.Compact  Totals \\\n",
        "FROM ( \\\n",
        "  SELECT \\\n",
        "    Make, \\\n",
        "\tsum(case when (Type = 'Sedan') then Units else 0 end) as Sedan,\\\n",
        "\tsum(case when (Type = 'SUV') then Units else 0 end) as SUV,\\\n",
        "\tsum(case when (Type = 'Compact') then Units else 0 end) as Compact\\\n",
        "  FROM CarSalesFact_S\\\n",
        "  GROUP BY ROLLUP (Make)\\\n",
        ") AS sums \\\n",
        "\"\n",
        "runSelect(sql)"
      ],
      "metadata": {
        "colab": {
          "base_uri": "https://localhost:8080/",
          "height": 175
        },
        "id": "Qli_cq_LFPQd",
        "outputId": "03b08733-ecec-41ac-f482-155a4c572c97"
      },
      "execution_count": 23,
      "outputs": [
        {
          "output_type": "execute_result",
          "data": {
            "text/plain": [
              "<pandas.io.formats.style.Styler at 0x780dc986e920>"
            ],
            "text/html": [
              "<style type=\"text/css\">\n",
              "</style>\n",
              "<table id=\"T_57685\" class=\"dataframe\">\n",
              "  <thead>\n",
              "    <tr>\n",
              "      <th id=\"T_57685_level0_col0\" class=\"col_heading level0 col0\" >dim</th>\n",
              "      <th id=\"T_57685_level0_col1\" class=\"col_heading level0 col1\" >suv</th>\n",
              "      <th id=\"T_57685_level0_col2\" class=\"col_heading level0 col2\" >sedan</th>\n",
              "      <th id=\"T_57685_level0_col3\" class=\"col_heading level0 col3\" >compact</th>\n",
              "      <th id=\"T_57685_level0_col4\" class=\"col_heading level0 col4\" >totals</th>\n",
              "    </tr>\n",
              "  </thead>\n",
              "  <tbody>\n",
              "    <tr>\n",
              "      <td id=\"T_57685_row0_col0\" class=\"data row0 col0\" >Total</td>\n",
              "      <td id=\"T_57685_row0_col1\" class=\"data row0 col1\" >8</td>\n",
              "      <td id=\"T_57685_row0_col2\" class=\"data row0 col2\" >4</td>\n",
              "      <td id=\"T_57685_row0_col3\" class=\"data row0 col3\" >2</td>\n",
              "      <td id=\"T_57685_row0_col4\" class=\"data row0 col4\" >14</td>\n",
              "    </tr>\n",
              "    <tr>\n",
              "      <td id=\"T_57685_row1_col0\" class=\"data row1 col0\" >Honda</td>\n",
              "      <td id=\"T_57685_row1_col1\" class=\"data row1 col1\" >6</td>\n",
              "      <td id=\"T_57685_row1_col2\" class=\"data row1 col2\" >1</td>\n",
              "      <td id=\"T_57685_row1_col3\" class=\"data row1 col3\" >0</td>\n",
              "      <td id=\"T_57685_row1_col4\" class=\"data row1 col4\" >7</td>\n",
              "    </tr>\n",
              "    <tr>\n",
              "      <td id=\"T_57685_row2_col0\" class=\"data row2 col0\" >Toyota</td>\n",
              "      <td id=\"T_57685_row2_col1\" class=\"data row2 col1\" >0</td>\n",
              "      <td id=\"T_57685_row2_col2\" class=\"data row2 col2\" >2</td>\n",
              "      <td id=\"T_57685_row2_col3\" class=\"data row2 col3\" >1</td>\n",
              "      <td id=\"T_57685_row2_col4\" class=\"data row2 col4\" >3</td>\n",
              "    </tr>\n",
              "    <tr>\n",
              "      <td id=\"T_57685_row3_col0\" class=\"data row3 col0\" >Mazda</td>\n",
              "      <td id=\"T_57685_row3_col1\" class=\"data row3 col1\" >2</td>\n",
              "      <td id=\"T_57685_row3_col2\" class=\"data row3 col2\" >1</td>\n",
              "      <td id=\"T_57685_row3_col3\" class=\"data row3 col3\" >1</td>\n",
              "      <td id=\"T_57685_row3_col4\" class=\"data row3 col4\" >4</td>\n",
              "    </tr>\n",
              "  </tbody>\n",
              "</table>\n"
            ]
          },
          "metadata": {},
          "execution_count": 23
        }
      ]
    },
    {
      "cell_type": "markdown",
      "source": [
        "#Transpose / Pivot\n",
        "https://www.sqlshack.com/how-to-use-the-crosstab-function-in-postgresql/"
      ],
      "metadata": {
        "id": "V6Bt-yTXSITF"
      }
    },
    {
      "cell_type": "code",
      "source": [
        "!psql -h localhost -p 5432 -Uupraxis -ddbpraxis -c \"create extension tablefunc;\""
      ],
      "metadata": {
        "colab": {
          "base_uri": "https://localhost:8080/"
        },
        "id": "ZgVgr1DfYs_R",
        "outputId": "d8e3befe-4cb9-4eb7-9d01-605cdc918ddc"
      },
      "execution_count": null,
      "outputs": [
        {
          "output_type": "stream",
          "name": "stdout",
          "text": [
            "CREATE EXTENSION\n"
          ]
        }
      ]
    },
    {
      "cell_type": "code",
      "source": [
        "runSelect('select * from dept')"
      ],
      "metadata": {
        "colab": {
          "base_uri": "https://localhost:8080/",
          "height": 206
        },
        "id": "Sa9IpGXwSKWe",
        "outputId": "0e81e9ba-68d4-4ac1-9d12-0142e408821e"
      },
      "execution_count": null,
      "outputs": [
        {
          "output_type": "execute_result",
          "data": {
            "text/plain": [
              "<pandas.io.formats.style.Styler at 0x7fd2fde4b0d0>"
            ],
            "text/html": [
              "<style type=\"text/css\">\n",
              "</style>\n",
              "<table id=\"T_41ee7\" class=\"dataframe\">\n",
              "  <thead>\n",
              "    <tr>\n",
              "      <th id=\"T_41ee7_level0_col0\" class=\"col_heading level0 col0\" >deptid</th>\n",
              "      <th id=\"T_41ee7_level0_col1\" class=\"col_heading level0 col1\" >deptname</th>\n",
              "      <th id=\"T_41ee7_level0_col2\" class=\"col_heading level0 col2\" >managerid</th>\n",
              "      <th id=\"T_41ee7_level0_col3\" class=\"col_heading level0 col3\" >location</th>\n",
              "      <th id=\"T_41ee7_level0_col4\" class=\"col_heading level0 col4\" >locationid</th>\n",
              "    </tr>\n",
              "  </thead>\n",
              "  <tbody>\n",
              "    <tr>\n",
              "      <td id=\"T_41ee7_row0_col0\" class=\"data row0 col0\" >10</td>\n",
              "      <td id=\"T_41ee7_row0_col1\" class=\"data row0 col1\" >Corporate</td>\n",
              "      <td id=\"T_41ee7_row0_col2\" class=\"data row0 col2\" >299034</td>\n",
              "      <td id=\"T_41ee7_row0_col3\" class=\"data row0 col3\" >Calcutta</td>\n",
              "      <td id=\"T_41ee7_row0_col4\" class=\"data row0 col4\" >1</td>\n",
              "    </tr>\n",
              "    <tr>\n",
              "      <td id=\"T_41ee7_row1_col0\" class=\"data row1 col0\" >20</td>\n",
              "      <td id=\"T_41ee7_row1_col1\" class=\"data row1 col1\" >Sales</td>\n",
              "      <td id=\"T_41ee7_row1_col2\" class=\"data row1 col2\" >239456</td>\n",
              "      <td id=\"T_41ee7_row1_col3\" class=\"data row1 col3\" >Calcutta</td>\n",
              "      <td id=\"T_41ee7_row1_col4\" class=\"data row1 col4\" >1</td>\n",
              "    </tr>\n",
              "    <tr>\n",
              "      <td id=\"T_41ee7_row2_col0\" class=\"data row2 col0\" >30</td>\n",
              "      <td id=\"T_41ee7_row2_col1\" class=\"data row2 col1\" >Accounts</td>\n",
              "      <td id=\"T_41ee7_row2_col2\" class=\"data row2 col2\" >822134</td>\n",
              "      <td id=\"T_41ee7_row2_col3\" class=\"data row2 col3\" >Calcutta</td>\n",
              "      <td id=\"T_41ee7_row2_col4\" class=\"data row2 col4\" >1</td>\n",
              "    </tr>\n",
              "    <tr>\n",
              "      <td id=\"T_41ee7_row3_col0\" class=\"data row3 col0\" >40</td>\n",
              "      <td id=\"T_41ee7_row3_col1\" class=\"data row3 col1\" >Production</td>\n",
              "      <td id=\"T_41ee7_row3_col2\" class=\"data row3 col2\" >349870</td>\n",
              "      <td id=\"T_41ee7_row3_col3\" class=\"data row3 col3\" >Bombay</td>\n",
              "      <td id=\"T_41ee7_row3_col4\" class=\"data row3 col4\" >2</td>\n",
              "    </tr>\n",
              "    <tr>\n",
              "      <td id=\"T_41ee7_row4_col0\" class=\"data row4 col0\" >60</td>\n",
              "      <td id=\"T_41ee7_row4_col1\" class=\"data row4 col1\" >Research</td>\n",
              "      <td id=\"T_41ee7_row4_col2\" class=\"data row4 col2\" >546224</td>\n",
              "      <td id=\"T_41ee7_row4_col3\" class=\"data row4 col3\" >Delhi</td>\n",
              "      <td id=\"T_41ee7_row4_col4\" class=\"data row4 col4\" >3</td>\n",
              "    </tr>\n",
              "  </tbody>\n",
              "</table>\n"
            ]
          },
          "metadata": {},
          "execution_count": 68
        }
      ]
    },
    {
      "cell_type": "code",
      "source": [
        "sql = \"\\\n",
        "select * from \\\n",
        "crosstab('select location::text,locationid::text,deptname::text from dept order by 1,2') as locations \\\n",
        "(location text, dep1 text, dep2 text, dep3 text, dep4 text)\\\n",
        "\"\n",
        "runSelect(sql)"
      ],
      "metadata": {
        "colab": {
          "base_uri": "https://localhost:8080/",
          "height": 143
        },
        "id": "Iukqh6TRVo-9",
        "outputId": "abdf5e7b-57e6-40d8-a6e2-c51e01d8131f"
      },
      "execution_count": null,
      "outputs": [
        {
          "output_type": "execute_result",
          "data": {
            "text/plain": [
              "<pandas.io.formats.style.Styler at 0x7fd2fde4b010>"
            ],
            "text/html": [
              "<style type=\"text/css\">\n",
              "</style>\n",
              "<table id=\"T_551d5\" class=\"dataframe\">\n",
              "  <thead>\n",
              "    <tr>\n",
              "      <th id=\"T_551d5_level0_col0\" class=\"col_heading level0 col0\" >location</th>\n",
              "      <th id=\"T_551d5_level0_col1\" class=\"col_heading level0 col1\" >dep1</th>\n",
              "      <th id=\"T_551d5_level0_col2\" class=\"col_heading level0 col2\" >dep2</th>\n",
              "      <th id=\"T_551d5_level0_col3\" class=\"col_heading level0 col3\" >dep3</th>\n",
              "      <th id=\"T_551d5_level0_col4\" class=\"col_heading level0 col4\" >dep4</th>\n",
              "    </tr>\n",
              "  </thead>\n",
              "  <tbody>\n",
              "    <tr>\n",
              "      <td id=\"T_551d5_row0_col0\" class=\"data row0 col0\" >Bombay</td>\n",
              "      <td id=\"T_551d5_row0_col1\" class=\"data row0 col1\" >Production</td>\n",
              "      <td id=\"T_551d5_row0_col2\" class=\"data row0 col2\" >None</td>\n",
              "      <td id=\"T_551d5_row0_col3\" class=\"data row0 col3\" >None</td>\n",
              "      <td id=\"T_551d5_row0_col4\" class=\"data row0 col4\" >None</td>\n",
              "    </tr>\n",
              "    <tr>\n",
              "      <td id=\"T_551d5_row1_col0\" class=\"data row1 col0\" >Calcutta</td>\n",
              "      <td id=\"T_551d5_row1_col1\" class=\"data row1 col1\" >Corporate</td>\n",
              "      <td id=\"T_551d5_row1_col2\" class=\"data row1 col2\" >Sales</td>\n",
              "      <td id=\"T_551d5_row1_col3\" class=\"data row1 col3\" >Accounts</td>\n",
              "      <td id=\"T_551d5_row1_col4\" class=\"data row1 col4\" >None</td>\n",
              "    </tr>\n",
              "    <tr>\n",
              "      <td id=\"T_551d5_row2_col0\" class=\"data row2 col0\" >Delhi</td>\n",
              "      <td id=\"T_551d5_row2_col1\" class=\"data row2 col1\" >Research</td>\n",
              "      <td id=\"T_551d5_row2_col2\" class=\"data row2 col2\" >None</td>\n",
              "      <td id=\"T_551d5_row2_col3\" class=\"data row2 col3\" >None</td>\n",
              "      <td id=\"T_551d5_row2_col4\" class=\"data row2 col4\" >None</td>\n",
              "    </tr>\n",
              "  </tbody>\n",
              "</table>\n"
            ]
          },
          "metadata": {},
          "execution_count": 69
        }
      ]
    },
    {
      "cell_type": "markdown",
      "source": [
        "#Chronobooks <br>\n",
        "Two science fiction novels by Prithwis Mukerjee. A dystopian Earth. A technocratic society managed by artificial intelligence. Escape and epiphany on Mars. Can man and machine, carbon and silicon explore and escape into other dimensions of existence? An Indic perspective rooted in Advaita Vedanta and the Divine Feminine.  [More information](http://bit.ly/chronobooks) <br>\n",
        "![alt text](https://github.com/Praxis-QR/RDWH/raw/main/images/CTCYFooter-1.png)"
      ],
      "metadata": {
        "id": "_gNiZpyW3AzJ"
      }
    }
  ]
}