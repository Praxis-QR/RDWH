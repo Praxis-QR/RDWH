{
  "nbformat": 4,
  "nbformat_minor": 0,
  "metadata": {
    "colab": {
      "provenance": [],
      "toc_visible": true,
      "authorship_tag": "ABX9TyO74o0pGGk0Fs/726tV90S6",
      "include_colab_link": true
    },
    "kernelspec": {
      "name": "python3",
      "display_name": "Python 3"
    },
    "language_info": {
      "name": "python"
    }
  },
  "cells": [
    {
      "cell_type": "markdown",
      "metadata": {
        "id": "view-in-github",
        "colab_type": "text"
      },
      "source": [
        "<a href=\"https://colab.research.google.com/github/Praxis-QR/RDWH/blob/main/Postgress_Windows_Functions.ipynb\" target=\"_parent\"><img src=\"https://colab.research.google.com/assets/colab-badge.svg\" alt=\"Open In Colab\"/></a>"
      ]
    },
    {
      "cell_type": "markdown",
      "source": [
        "![alt text](https://github.com/Praxis-QR/RDWH/raw/main/images/YantraJaalBanner.png)<br>\n",
        "\n",
        "\n",
        "<hr>\n",
        "\n",
        "[Prithwis Mukerjee](http://www.linkedin.com/in/prithwis)<br>"
      ],
      "metadata": {
        "id": "DBzz-qaN2tKu"
      }
    },
    {
      "cell_type": "markdown",
      "source": [
        "#Install"
      ],
      "metadata": {
        "id": "nD-QawLT6kDr"
      }
    },
    {
      "cell_type": "code",
      "execution_count": 1,
      "metadata": {
        "colab": {
          "base_uri": "https://localhost:8080/"
        },
        "id": "QBxqnsWJ0wA1",
        "outputId": "078725ec-687a-4209-81a9-ba5d5fddcb56"
      },
      "outputs": [
        {
          "output_type": "stream",
          "name": "stdout",
          "text": [
            "\n",
            "WARNING: apt does not have a stable CLI interface. Use with caution in scripts.\n",
            "\n",
            "\n",
            "WARNING: apt does not have a stable CLI interface. Use with caution in scripts.\n",
            "\n",
            " * Starting PostgreSQL 10 database server\n",
            "   ...done.\n"
          ]
        }
      ],
      "source": [
        "# Install postgresql server\n",
        "#!sudo apt-get -y -qq update > /dev/null\n",
        "!apt update > /dev/null\n",
        "#!sudo apt-get -y -qq install postgresql > /dev/null\n",
        "!apt install postgresql > /dev/null\n",
        "#!sudo service postgresql start\n",
        "!service postgresql start"
      ]
    },
    {
      "cell_type": "markdown",
      "source": [
        "## Configure"
      ],
      "metadata": {
        "id": "--pn1fPO6ndu"
      }
    },
    {
      "cell_type": "code",
      "source": [
        "# Setup a password `postgres` for username `postgres`\n",
        "!sudo -u postgres psql -U postgres -c \"ALTER USER postgres PASSWORD 'pass';\"\n",
        "#!sudo -u postgres psql -U postgres -c \"ALTER USER tuser2 PASSWORD 'pw2';\"\n",
        "# Setup a database with name `sampledb` to be used\n",
        "!sudo -u postgres psql -U postgres -c 'DROP DATABASE IF EXISTS praxisdb;'\n",
        "!sudo -u postgres psql -U postgres -c 'CREATE DATABASE praxisdb;'"
      ],
      "metadata": {
        "colab": {
          "base_uri": "https://localhost:8080/"
        },
        "id": "J3PSLjXd1D-J",
        "outputId": "a30feeaf-e132-4991-98fa-ffe0caccc67b"
      },
      "execution_count": 2,
      "outputs": [
        {
          "output_type": "stream",
          "name": "stdout",
          "text": [
            "ALTER ROLE\n",
            "NOTICE:  database \"praxisdb\" does not exist, skipping\n",
            "DROP DATABASE\n",
            "CREATE DATABASE\n"
          ]
        }
      ]
    },
    {
      "cell_type": "markdown",
      "source": [
        "#Windows Functions \n",
        "https://www.postgresqltutorial.com/postgresql-window-function/"
      ],
      "metadata": {
        "id": "pHTdNzrU6qUE"
      }
    },
    {
      "cell_type": "code",
      "source": [
        "!psql -h localhost -p 5432 -Upostgres -W -dpraxisdb -c \" \\\n",
        "CREATE TABLE product_groups (\\\n",
        "\tgroup_id serial PRIMARY KEY,\\\n",
        "\tgroup_name VARCHAR (255) NOT NULL\\\n",
        ");\\\n",
        "\\\n",
        "CREATE TABLE products (\\\n",
        "\tproduct_id serial PRIMARY KEY,\\\n",
        "\tproduct_name VARCHAR (255) NOT NULL,\\\n",
        "\tprice DECIMAL (11, 2),\\\n",
        "\tgroup_id INT NOT NULL,\\\n",
        "\tFOREIGN KEY (group_id) REFERENCES product_groups (group_id)\\\n",
        ");\""
      ],
      "metadata": {
        "colab": {
          "base_uri": "https://localhost:8080/"
        },
        "id": "5CW-LNLl16fT",
        "outputId": "a8a5fa67-d788-44c8-c809-b642864a27f0"
      },
      "execution_count": 3,
      "outputs": [
        {
          "output_type": "stream",
          "name": "stdout",
          "text": [
            "Password for user postgres: \n",
            "CREATE TABLE\n"
          ]
        }
      ]
    },
    {
      "cell_type": "code",
      "source": [
        "!psql -h localhost -p 5432 -Upostgres -W -dpraxisdb -c \" \\\n",
        "INSERT INTO product_groups (group_name) \\\n",
        "VALUES \\\n",
        "\t('Smartphone'), \\\n",
        "\t('Laptop'), \\\n",
        "\t('Tablet'); \\\n",
        "\\\n",
        "INSERT INTO products (product_name, group_id,price) \\\n",
        "VALUES \\\n",
        "\t('Microsoft Lumia', 1, 200),\\\n",
        "\t('HTC One', 1, 400),\\\n",
        "\t('Nexus', 1, 500),\\\n",
        "\t('iPhone', 1, 900),\\\n",
        "\t('HP Elite', 2, 1200),\\\n",
        "\t('Lenovo Thinkpad', 2, 700),\\\n",
        "\t('Sony VAIO', 2, 700),\\\n",
        "\t('Dell Vostro', 2, 800),\\\n",
        "\t('iPad', 3, 700),\\\n",
        "\t('Kindle Fire', 3, 150),\\\n",
        "\t('Samsung Galaxy Tab', 3, 200);\""
      ],
      "metadata": {
        "colab": {
          "base_uri": "https://localhost:8080/"
        },
        "id": "UeDqaTZK9tuA",
        "outputId": "a10625e1-1e16-46cc-f7d1-335ad90f25a1"
      },
      "execution_count": 4,
      "outputs": [
        {
          "output_type": "stream",
          "name": "stdout",
          "text": [
            "Password for user postgres: \n",
            "INSERT 0 11\n"
          ]
        }
      ]
    },
    {
      "cell_type": "code",
      "source": [
        "!psql -h localhost -p 5432 -Upostgres -W -dpraxisdb -c \"select * from product_groups;\""
      ],
      "metadata": {
        "colab": {
          "base_uri": "https://localhost:8080/"
        },
        "id": "wUjhGgWH-Mer",
        "outputId": "5b6d6502-7987-4198-df4f-a370976531be"
      },
      "execution_count": 5,
      "outputs": [
        {
          "output_type": "stream",
          "name": "stdout",
          "text": [
            "Password for user postgres: \n",
            " group_id | group_name \n",
            "----------+------------\n",
            "        1 | Smartphone\n",
            "        2 | Laptop\n",
            "        3 | Tablet\n",
            "(3 rows)\n",
            "\n"
          ]
        }
      ]
    },
    {
      "cell_type": "code",
      "source": [
        "!psql -h localhost -p 5432 -Upostgres -W -dpraxisdb -c \"select * from products;\""
      ],
      "metadata": {
        "colab": {
          "base_uri": "https://localhost:8080/"
        },
        "id": "KQ-fVkY0-VZx",
        "outputId": "5647dc98-1bfe-4b8c-d6fc-9c56488b6b58"
      },
      "execution_count": 6,
      "outputs": [
        {
          "output_type": "stream",
          "name": "stdout",
          "text": [
            "Password for user postgres: \n",
            " product_id |    product_name    |  price  | group_id \n",
            "------------+--------------------+---------+----------\n",
            "          1 | Microsoft Lumia    |  200.00 |        1\n",
            "          2 | HTC One            |  400.00 |        1\n",
            "          3 | Nexus              |  500.00 |        1\n",
            "          4 | iPhone             |  900.00 |        1\n",
            "          5 | HP Elite           | 1200.00 |        2\n",
            "          6 | Lenovo Thinkpad    |  700.00 |        2\n",
            "          7 | Sony VAIO          |  700.00 |        2\n",
            "          8 | Dell Vostro        |  800.00 |        2\n",
            "          9 | iPad               |  700.00 |        3\n",
            "         10 | Kindle Fire        |  150.00 |        3\n",
            "         11 | Samsung Galaxy Tab |  200.00 |        3\n",
            "(11 rows)\n",
            "\n"
          ]
        }
      ]
    },
    {
      "cell_type": "code",
      "source": [
        "!psql -h localhost -p 5432 -Upostgres -W -dpraxisdb -c \"\\\n",
        "SELECT \\\n",
        "\tAVG (price) \\\n",
        "FROM \\\n",
        "\tproducts; \\\n",
        "\""
      ],
      "metadata": {
        "colab": {
          "base_uri": "https://localhost:8080/"
        },
        "id": "PPKXx4Wm-shF",
        "outputId": "f8917297-54e7-4c37-ce73-9a75cbcb80ec"
      },
      "execution_count": 7,
      "outputs": [
        {
          "output_type": "stream",
          "name": "stdout",
          "text": [
            "Password for user postgres: \n",
            "         avg          \n",
            "----------------------\n",
            " 586.3636363636363636\n",
            "(1 row)\n",
            "\n"
          ]
        }
      ]
    },
    {
      "cell_type": "code",
      "source": [
        "!psql -h localhost -p 5432 -U postgres -W -d praxisdb -c \"\\\n",
        "SELECT \\\n",
        "\tgroup_name,\\\n",
        "\tAVG (price)\\\n",
        "FROM\\\n",
        "\tproducts\\\n",
        "INNER JOIN product_groups USING (group_id)\\\n",
        "GROUP BY\\\n",
        "\tgroup_name;\\\n",
        "\""
      ],
      "metadata": {
        "colab": {
          "base_uri": "https://localhost:8080/"
        },
        "id": "B_VhjF9j_D3K",
        "outputId": "f7e734cf-8092-4a68-8ebb-0d0c9a0ee645"
      },
      "execution_count": 8,
      "outputs": [
        {
          "output_type": "stream",
          "name": "stdout",
          "text": [
            "Password for user postgres: \n",
            " group_name |         avg          \n",
            "------------+----------------------\n",
            " Smartphone | 500.0000000000000000\n",
            " Tablet     | 350.0000000000000000\n",
            " Laptop     | 850.0000000000000000\n",
            "(3 rows)\n",
            "\n"
          ]
        }
      ]
    },
    {
      "cell_type": "code",
      "source": [
        "!psql -h localhost -p 5432 -U postgres -W -d praxisdb -c \"\\\n",
        "SELECT\\\n",
        "\tproduct_name,\\\n",
        "\tprice,\\\n",
        "\tgroup_name,\\\n",
        "\tAVG (price) OVER (\\\n",
        "\t   PARTITION BY group_name\\\n",
        "\t)\\\n",
        "FROM\\\n",
        "\tproducts\\\n",
        "\tINNER JOIN \\\n",
        "\t\tproduct_groups USING (group_id);\\\n",
        "\""
      ],
      "metadata": {
        "colab": {
          "base_uri": "https://localhost:8080/"
        },
        "id": "R7HWmqkg_SnA",
        "outputId": "860b3f8c-1a88-4d09-a9ad-a6a2beea1eb1"
      },
      "execution_count": 9,
      "outputs": [
        {
          "output_type": "stream",
          "name": "stdout",
          "text": [
            "Password for user postgres: \n",
            "    product_name    |  price  | group_name |         avg          \n",
            "--------------------+---------+------------+----------------------\n",
            " HP Elite           | 1200.00 | Laptop     | 850.0000000000000000\n",
            " Lenovo Thinkpad    |  700.00 | Laptop     | 850.0000000000000000\n",
            " Sony VAIO          |  700.00 | Laptop     | 850.0000000000000000\n",
            " Dell Vostro        |  800.00 | Laptop     | 850.0000000000000000\n",
            " Microsoft Lumia    |  200.00 | Smartphone | 500.0000000000000000\n",
            " HTC One            |  400.00 | Smartphone | 500.0000000000000000\n",
            " Nexus              |  500.00 | Smartphone | 500.0000000000000000\n",
            " iPhone             |  900.00 | Smartphone | 500.0000000000000000\n",
            " iPad               |  700.00 | Tablet     | 350.0000000000000000\n",
            " Kindle Fire        |  150.00 | Tablet     | 350.0000000000000000\n",
            " Samsung Galaxy Tab |  200.00 | Tablet     | 350.0000000000000000\n",
            "(11 rows)\n",
            "\n"
          ]
        }
      ]
    },
    {
      "cell_type": "code",
      "source": [
        "from datetime import datetime\n",
        "import pytz\n",
        "print('Last tested  ',datetime.now(pytz.timezone('Asia/Kolkata')))"
      ],
      "metadata": {
        "colab": {
          "base_uri": "https://localhost:8080/"
        },
        "id": "wjBXJVhM605H",
        "outputId": "28e7de32-12b6-45c6-8222-4ed14a6f8237"
      },
      "execution_count": 10,
      "outputs": [
        {
          "output_type": "stream",
          "name": "stdout",
          "text": [
            "Last tested   2023-01-17 10:01:34.152206+05:30\n"
          ]
        }
      ]
    },
    {
      "cell_type": "markdown",
      "source": [
        "#Chronobooks <br>\n",
        "Two science fiction novels by Prithwis Mukerjee. A dystopian Earth. A technocratic society managed by artificial intelligence. Escape and epiphany on Mars. Can man and machine, carbon and silicon explore and escape into other dimensions of existence? An Indic perspective rooted in Advaita Vedanta and the Divine Feminine.  [More information](http://bit.ly/chronobooks) <br>\n",
        "![alt text](https://github.com/Praxis-QR/RDWH/raw/main/images/CTCYFooter-1.png)"
      ],
      "metadata": {
        "id": "_gNiZpyW3AzJ"
      }
    }
  ]
}