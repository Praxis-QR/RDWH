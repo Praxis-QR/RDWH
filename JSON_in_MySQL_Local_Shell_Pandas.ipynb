{
  "nbformat": 4,
  "nbformat_minor": 0,
  "metadata": {
    "colab": {
      "provenance": [],
      "include_colab_link": true
    },
    "kernelspec": {
      "name": "python3",
      "display_name": "Python 3"
    }
  },
  "cells": [
    {
      "cell_type": "markdown",
      "metadata": {
        "id": "view-in-github",
        "colab_type": "text"
      },
      "source": [
        "<a href=\"https://colab.research.google.com/github/Praxis-QR/RDWH/blob/main/JSON_in_MySQL_Local_Shell_Pandas.ipynb\" target=\"_parent\"><img src=\"https://colab.research.google.com/assets/colab-badge.svg\" alt=\"Open In Colab\"/></a>"
      ]
    },
    {
      "cell_type": "markdown",
      "metadata": {
        "id": "IEW-uQFCKu5x"
      },
      "source": [
        "![alt text](https://github.com/Praxis-QR/RDWH/raw/main/images/YantraJaalBanner.png)<br>\n",
        "\n",
        "\n",
        "<hr>\n",
        "\n",
        "[Prithwis Mukerjee](http://www.linkedin.com/in/prithwis)<br>"
      ]
    },
    {
      "cell_type": "markdown",
      "source": [
        "https://www.mysqltutorial.org/mysql-json/ <br>\n",
        "https://www.databasestar.com/mysql-json/"
      ],
      "metadata": {
        "id": "MD9bRi37AHRy"
      }
    },
    {
      "cell_type": "markdown",
      "metadata": {
        "id": "VkaZdN7ocStp"
      },
      "source": [
        "#Install & Test Connectivity"
      ]
    },
    {
      "cell_type": "code",
      "source": [
        "!apt-cache policy mysql-server"
      ],
      "metadata": {
        "colab": {
          "base_uri": "https://localhost:8080/"
        },
        "id": "O1c9PRhA2yOT",
        "outputId": "d803bfcc-1f76-4f18-aecc-4248ad347c57"
      },
      "execution_count": null,
      "outputs": [
        {
          "output_type": "stream",
          "name": "stdout",
          "text": [
            "mysql-server:\n",
            "  Installed: 8.0.32-0ubuntu0.20.04.2\n",
            "  Candidate: 8.0.32-0ubuntu0.20.04.2\n",
            "  Version table:\n",
            " *** 8.0.32-0ubuntu0.20.04.2 500\n",
            "        500 http://archive.ubuntu.com/ubuntu focal-updates/main amd64 Packages\n",
            "        500 http://security.ubuntu.com/ubuntu focal-security/main amd64 Packages\n",
            "        100 /var/lib/dpkg/status\n",
            "     8.0.19-0ubuntu5 500\n",
            "        500 http://archive.ubuntu.com/ubuntu focal/main amd64 Packages\n"
          ]
        }
      ]
    },
    {
      "cell_type": "code",
      "metadata": {
        "id": "00jRRfyHcVYH",
        "outputId": "ffb21af7-add2-4214-c832-5cd93be20aa1",
        "colab": {
          "base_uri": "https://localhost:8080/"
        }
      },
      "source": [
        "!apt-get update > /dev/null\n",
        "!apt-get -y install mysql-server > /dev/null\n",
        "!mysql --version\n",
        "!/etc/init.d/mysql restart"
      ],
      "execution_count": null,
      "outputs": [
        {
          "output_type": "stream",
          "name": "stdout",
          "text": [
            "mysql  Ver 8.0.32-0ubuntu0.20.04.2 for Linux on x86_64 ((Ubuntu))\n",
            " * Stopping MySQL database server mysqld\n",
            "   ...done.\n",
            " * Starting MySQL database server mysqld\n",
            "su: warning: cannot change directory to /nonexistent: No such file or directory\n",
            "   ...done.\n"
          ]
        }
      ]
    },
    {
      "cell_type": "code",
      "metadata": {
        "id": "0WNO-pxNdZ3Z",
        "outputId": "3893d9a3-7007-4ca3-b9b0-1c9f33740e2f",
        "colab": {
          "base_uri": "https://localhost:8080/"
        }
      },
      "source": [
        "!mysql -e 'create database praxisDB'\n",
        "!mysql -e 'show databases'"
      ],
      "execution_count": null,
      "outputs": [
        {
          "output_type": "stream",
          "name": "stdout",
          "text": [
            "+--------------------+\n",
            "| Database           |\n",
            "+--------------------+\n",
            "| information_schema |\n",
            "| mysql              |\n",
            "| performance_schema |\n",
            "| praxisDB           |\n",
            "| sys                |\n",
            "+--------------------+\n"
          ]
        }
      ]
    },
    {
      "cell_type": "markdown",
      "metadata": {
        "id": "u-zi9H6Bde-a"
      },
      "source": [
        "#Create Table & Load Data"
      ]
    },
    {
      "cell_type": "markdown",
      "metadata": {
        "id": "_ZtCSY6RdxH_"
      },
      "source": [
        "### Test Data <br>\n",
        "\n"
      ]
    },
    {
      "cell_type": "code",
      "source": [
        "!mysql praxisDB -e 'drop table if exists events'\n",
        "!mysql praxisDB -e '\\\n",
        "CREATE TABLE if not exists events( \\\n",
        "  id int auto_increment primary key, \\\n",
        "  event_name varchar(255), \\\n",
        "  visitor varchar(255), \\\n",
        "  properties json, \\\n",
        "  browser json \\\n",
        ");\\\n",
        "'\n",
        "!mysql praxisDB -e 'desc events'"
      ],
      "metadata": {
        "colab": {
          "base_uri": "https://localhost:8080/"
        },
        "id": "giT6Mm053SYT",
        "outputId": "b4e70854-0d61-4812-c909-7e79bd9a0479"
      },
      "execution_count": null,
      "outputs": [
        {
          "output_type": "stream",
          "name": "stdout",
          "text": [
            "+------------+--------------+------+-----+---------+----------------+\n",
            "| Field      | Type         | Null | Key | Default | Extra          |\n",
            "+------------+--------------+------+-----+---------+----------------+\n",
            "| id         | int          | NO   | PRI | NULL    | auto_increment |\n",
            "| event_name | varchar(255) | YES  |     | NULL    |                |\n",
            "| visitor    | varchar(255) | YES  |     | NULL    |                |\n",
            "| properties | json         | YES  |     | NULL    |                |\n",
            "| browser    | json         | YES  |     | NULL    |                |\n",
            "+------------+--------------+------+-----+---------+----------------+\n"
          ]
        }
      ]
    },
    {
      "cell_type": "code",
      "source": [
        "%%writefile insert.sql\n",
        "INSERT INTO events(event_name, visitor,properties, browser) \n",
        "VALUES \n",
        "('pageview', \n",
        "   '1',\n",
        "   '{ \"page\": \"/\" }',\n",
        "   '{ \"name\": \"Safari\", \"os\": \"Mac\", \"resolution\": { \"x\": 1920, \"y\": 1080 } }'\n",
        "),\n",
        "('pageview', \n",
        "  '2',\n",
        "  '{ \"page\": \"/contact\" }',\n",
        "  '{ \"name\": \"Firefox\", \"os\": \"Windows\", \"resolution\": { \"x\": 2560, \"y\": 1600 } }'\n",
        "),\n",
        "(\n",
        "  'pageview', \n",
        "  '1',\n",
        "  '{ \"page\": \"/products\" }',\n",
        "  '{ \"name\": \"Safari\", \"os\": \"Mac\", \"resolution\": { \"x\": 1920, \"y\": 1080 } }'\n",
        "),\n",
        "(\n",
        "  'purchase', \n",
        "   '3',\n",
        "  '{ \"amount\": 200 }',\n",
        "  '{ \"name\": \"Firefox\", \"os\": \"Windows\", \"resolution\": { \"x\": 1600, \"y\": 900 } }'\n",
        "),\n",
        "(\n",
        "  'purchase', \n",
        "   '4',\n",
        "  '{ \"amount\": 150 }',\n",
        "  '{ \"name\": \"Firefox\", \"os\": \"Windows\", \"resolution\": { \"x\": 1280, \"y\": 800 } }'\n",
        "),\n",
        "(\n",
        "  'purchase', \n",
        "  '4',\n",
        "  '{ \"amount\": 500 }',\n",
        "  '{ \"name\": \"Chrome\", \"os\": \"Windows\", \"resolution\": { \"x\": 1680, \"y\": 1050 } }'\n",
        ");\n"
      ],
      "metadata": {
        "colab": {
          "base_uri": "https://localhost:8080/"
        },
        "id": "O2k7NNQ14f4C",
        "outputId": "6397ec94-a8d9-4115-f3cf-a9f2ce8aed7a"
      },
      "execution_count": null,
      "outputs": [
        {
          "output_type": "stream",
          "name": "stdout",
          "text": [
            "Writing insert.sql\n"
          ]
        }
      ]
    },
    {
      "cell_type": "code",
      "metadata": {
        "id": "nN20x3WHd_Xb"
      },
      "source": [
        "!mysql praxisDB < insert.sql"
      ],
      "execution_count": null,
      "outputs": []
    },
    {
      "cell_type": "code",
      "source": [
        "!mysql praxisDB -e 'select * from events'"
      ],
      "metadata": {
        "colab": {
          "base_uri": "https://localhost:8080/"
        },
        "id": "9w8CT2cN42if",
        "outputId": "5494f361-31d6-4301-8df5-eb9121b2ceb3"
      },
      "execution_count": null,
      "outputs": [
        {
          "output_type": "stream",
          "name": "stdout",
          "text": [
            "+----+------------+---------+-----------------------+----------------------------------------------------------------------------+\n",
            "| id | event_name | visitor | properties            | browser                                                                    |\n",
            "+----+------------+---------+-----------------------+----------------------------------------------------------------------------+\n",
            "|  1 | pageview   | 1       | {\"page\": \"/\"}         | {\"os\": \"Mac\", \"name\": \"Safari\", \"resolution\": {\"x\": 1920, \"y\": 1080}}      |\n",
            "|  2 | pageview   | 2       | {\"page\": \"/contact\"}  | {\"os\": \"Windows\", \"name\": \"Firefox\", \"resolution\": {\"x\": 2560, \"y\": 1600}} |\n",
            "|  3 | pageview   | 1       | {\"page\": \"/products\"} | {\"os\": \"Mac\", \"name\": \"Safari\", \"resolution\": {\"x\": 1920, \"y\": 1080}}      |\n",
            "|  4 | purchase   | 3       | {\"amount\": 200}       | {\"os\": \"Windows\", \"name\": \"Firefox\", \"resolution\": {\"x\": 1600, \"y\": 900}}  |\n",
            "|  5 | purchase   | 4       | {\"amount\": 150}       | {\"os\": \"Windows\", \"name\": \"Firefox\", \"resolution\": {\"x\": 1280, \"y\": 800}}  |\n",
            "|  6 | purchase   | 4       | {\"amount\": 500}       | {\"os\": \"Windows\", \"name\": \"Chrome\", \"resolution\": {\"x\": 1680, \"y\": 1050}}  |\n",
            "+----+------------+---------+-----------------------+----------------------------------------------------------------------------+\n"
          ]
        }
      ]
    },
    {
      "cell_type": "markdown",
      "metadata": {
        "id": "q6sdvbgLfk6n"
      },
      "source": [
        "#Retrieve Data"
      ]
    },
    {
      "cell_type": "code",
      "metadata": {
        "id": "u-cvoaDVfrcb",
        "colab": {
          "base_uri": "https://localhost:8080/"
        },
        "outputId": "1d3772d7-b0b8-4cea-a30f-0480f5ecbef9"
      },
      "source": [
        "!mysql praxisDB -e \"SELECT id, browser->'$.name' browser FROM events;\""
      ],
      "execution_count": null,
      "outputs": [
        {
          "output_type": "stream",
          "name": "stdout",
          "text": [
            "+----+-----------+\n",
            "| id | browser   |\n",
            "+----+-----------+\n",
            "|  1 | \"Safari\"  |\n",
            "|  2 | \"Firefox\" |\n",
            "|  3 | \"Safari\"  |\n",
            "|  4 | \"Firefox\" |\n",
            "|  5 | \"Firefox\" |\n",
            "|  6 | \"Chrome\"  |\n",
            "+----+-----------+\n"
          ]
        }
      ]
    },
    {
      "cell_type": "code",
      "source": [
        "# can you spot what is the difference with the previous query?\n",
        "#\n",
        "!mysql praxisDB -e \"SELECT id, browser->>'$.name' browser FROM events;\""
      ],
      "metadata": {
        "colab": {
          "base_uri": "https://localhost:8080/"
        },
        "id": "mlw9Zn1n8Bex",
        "outputId": "43145fd0-2d67-4aec-b92c-f2e402177a9d"
      },
      "execution_count": null,
      "outputs": [
        {
          "output_type": "stream",
          "name": "stdout",
          "text": [
            "+----+---------+\n",
            "| id | browser |\n",
            "+----+---------+\n",
            "|  1 | Safari  |\n",
            "|  2 | Firefox |\n",
            "|  3 | Safari  |\n",
            "|  4 | Firefox |\n",
            "|  5 | Firefox |\n",
            "|  6 | Chrome  |\n",
            "+----+---------+\n"
          ]
        }
      ]
    },
    {
      "cell_type": "code",
      "metadata": {
        "id": "zA9HMydkf1rp",
        "colab": {
          "base_uri": "https://localhost:8080/"
        },
        "outputId": "f2dbdcdf-d158-430f-8f43-c539b02c689d"
      },
      "source": [
        "!mysql praxisDB -e \"SELECT id, visitor, event_name, browser->>'$.name' browser FROM events where browser->'$.name'= 'Firefox';\""
      ],
      "execution_count": null,
      "outputs": [
        {
          "output_type": "stream",
          "name": "stdout",
          "text": [
            "+----+---------+------------+---------+\n",
            "| id | visitor | event_name | browser |\n",
            "+----+---------+------------+---------+\n",
            "|  2 | 2       | pageview   | Firefox |\n",
            "|  4 | 3       | purchase   | Firefox |\n",
            "|  5 | 4       | purchase   | Firefox |\n",
            "+----+---------+------------+---------+\n"
          ]
        }
      ]
    },
    {
      "cell_type": "code",
      "source": [
        "!mysql praxisDB -e \"SELECT id, visitor, event_name, \\\n",
        "                      browser->>'$.name' browser, \\\n",
        "                      browser->>'$.resolution' resolution \\\n",
        "                      FROM events \\\n",
        "                      where browser->'$.resolution.x'= 1920;\\\n",
        "\""
      ],
      "metadata": {
        "colab": {
          "base_uri": "https://localhost:8080/"
        },
        "id": "_z60esJpCCs3",
        "outputId": "c46b5b64-5883-4734-ebf7-98b2dcf76214"
      },
      "execution_count": null,
      "outputs": [
        {
          "output_type": "stream",
          "name": "stdout",
          "text": [
            "+----+---------+------------+---------+------------------------+\n",
            "| id | visitor | event_name | browser | resolution             |\n",
            "+----+---------+------------+---------+------------------------+\n",
            "|  1 | 1       | pageview   | Safari  | {\"x\": 1920, \"y\": 1080} |\n",
            "|  3 | 1       | pageview   | Safari  | {\"x\": 1920, \"y\": 1080} |\n",
            "+----+---------+------------+---------+------------------------+\n"
          ]
        }
      ]
    },
    {
      "cell_type": "code",
      "metadata": {
        "id": "MojrIHKxf8Su",
        "colab": {
          "base_uri": "https://localhost:8080/"
        },
        "outputId": "85181060-286b-45b3-f77b-41a2eea8b3f5"
      },
      "source": [
        "!mysql praxisDB -e \"\\\n",
        "SELECT browser->>'$.name' browser, \\\n",
        "      count(browser) \\\n",
        "FROM events \\\n",
        "GROUP BY browser->>'$.name';\\\n",
        "\"\n"
      ],
      "execution_count": null,
      "outputs": [
        {
          "output_type": "stream",
          "name": "stdout",
          "text": [
            "+---------+----------------+\n",
            "| browser | count(browser) |\n",
            "+---------+----------------+\n",
            "| Safari  |              2 |\n",
            "| Firefox |              3 |\n",
            "| Chrome  |              1 |\n",
            "+---------+----------------+\n"
          ]
        }
      ]
    },
    {
      "cell_type": "code",
      "source": [
        "!mysql praxisDB -e \"\\\n",
        "SELECT visitor, SUM(properties->>'$.amount') revenue \\\n",
        "FROM events \\\n",
        "WHERE properties->>'$.amount' > 0 \\\n",
        "GROUP BY visitor; \\\n",
        "\""
      ],
      "metadata": {
        "colab": {
          "base_uri": "https://localhost:8080/"
        },
        "id": "14Ka32ZJ9oSK",
        "outputId": "0a812804-a71d-461f-c7b7-fe16f08f81d7"
      },
      "execution_count": null,
      "outputs": [
        {
          "output_type": "stream",
          "name": "stdout",
          "text": [
            "+---------+---------+\n",
            "| visitor | revenue |\n",
            "+---------+---------+\n",
            "| 3       |     200 |\n",
            "| 4       |     650 |\n",
            "+---------+---------+\n"
          ]
        }
      ]
    },
    {
      "cell_type": "markdown",
      "metadata": {
        "id": "Qzikw0YAgsix"
      },
      "source": [
        "#Python with Pandas"
      ]
    },
    {
      "cell_type": "markdown",
      "metadata": {
        "id": "TD2yoJfZvp_2"
      },
      "source": [
        "## Panda Modules"
      ]
    },
    {
      "cell_type": "code",
      "metadata": {
        "colab": {
          "base_uri": "https://localhost:8080/"
        },
        "id": "MV9i272vvy__",
        "outputId": "83c19919-4f65-4d99-b50a-5560ae07a1cc"
      },
      "source": [
        "!apt install libmysqlclient-dev > /dev/null\n",
        "!pip install mysqlclient > /dev/null\n",
        "import pandas as pd\n",
        "import MySQLdb"
      ],
      "execution_count": null,
      "outputs": [
        {
          "output_type": "stream",
          "name": "stdout",
          "text": [
            "\n",
            "WARNING: apt does not have a stable CLI interface. Use with caution in scripts.\n",
            "\n"
          ]
        }
      ]
    },
    {
      "cell_type": "code",
      "metadata": {
        "colab": {
          "base_uri": "https://localhost:8080/"
        },
        "id": "euTFsVg7y29O",
        "outputId": "cd822e62-7cde-45c1-a67e-56cb6c755317"
      },
      "source": [
        "DBConn = MySQLdb.connect(db='praxisDB')\n",
        "#df_mysql = pd.read_sql('select * from emp2;', con=con_mysql)  \n",
        "df_mysql = pd.read_sql('show tables', con=DBConn)    \n",
        "print ('loaded dataframe from MySQL. records:', len(df_mysql))\n",
        "DBConn.close()"
      ],
      "execution_count": null,
      "outputs": [
        {
          "output_type": "stream",
          "name": "stdout",
          "text": [
            "loaded dataframe from MySQL. records: 1\n"
          ]
        }
      ]
    },
    {
      "cell_type": "code",
      "metadata": {
        "colab": {
          "base_uri": "https://localhost:8080/",
          "height": 81
        },
        "id": "XPkUzi0yzI5f",
        "outputId": "0a46f5d5-1c9d-4941-beb6-b57364d07be9"
      },
      "source": [
        "df_mysql"
      ],
      "execution_count": null,
      "outputs": [
        {
          "output_type": "execute_result",
          "data": {
            "text/plain": [
              "  Tables_in_praxisDB\n",
              "0             events"
            ],
            "text/html": [
              "\n",
              "  <div id=\"df-634dccda-5a4e-4823-9327-3c325bc3f0e8\">\n",
              "    <div class=\"colab-df-container\">\n",
              "      <div>\n",
              "<style scoped>\n",
              "    .dataframe tbody tr th:only-of-type {\n",
              "        vertical-align: middle;\n",
              "    }\n",
              "\n",
              "    .dataframe tbody tr th {\n",
              "        vertical-align: top;\n",
              "    }\n",
              "\n",
              "    .dataframe thead th {\n",
              "        text-align: right;\n",
              "    }\n",
              "</style>\n",
              "<table border=\"1\" class=\"dataframe\">\n",
              "  <thead>\n",
              "    <tr style=\"text-align: right;\">\n",
              "      <th></th>\n",
              "      <th>Tables_in_praxisDB</th>\n",
              "    </tr>\n",
              "  </thead>\n",
              "  <tbody>\n",
              "    <tr>\n",
              "      <th>0</th>\n",
              "      <td>events</td>\n",
              "    </tr>\n",
              "  </tbody>\n",
              "</table>\n",
              "</div>\n",
              "      <button class=\"colab-df-convert\" onclick=\"convertToInteractive('df-634dccda-5a4e-4823-9327-3c325bc3f0e8')\"\n",
              "              title=\"Convert this dataframe to an interactive table.\"\n",
              "              style=\"display:none;\">\n",
              "        \n",
              "  <svg xmlns=\"http://www.w3.org/2000/svg\" height=\"24px\"viewBox=\"0 0 24 24\"\n",
              "       width=\"24px\">\n",
              "    <path d=\"M0 0h24v24H0V0z\" fill=\"none\"/>\n",
              "    <path d=\"M18.56 5.44l.94 2.06.94-2.06 2.06-.94-2.06-.94-.94-2.06-.94 2.06-2.06.94zm-11 1L8.5 8.5l.94-2.06 2.06-.94-2.06-.94L8.5 2.5l-.94 2.06-2.06.94zm10 10l.94 2.06.94-2.06 2.06-.94-2.06-.94-.94-2.06-.94 2.06-2.06.94z\"/><path d=\"M17.41 7.96l-1.37-1.37c-.4-.4-.92-.59-1.43-.59-.52 0-1.04.2-1.43.59L10.3 9.45l-7.72 7.72c-.78.78-.78 2.05 0 2.83L4 21.41c.39.39.9.59 1.41.59.51 0 1.02-.2 1.41-.59l7.78-7.78 2.81-2.81c.8-.78.8-2.07 0-2.86zM5.41 20L4 18.59l7.72-7.72 1.47 1.35L5.41 20z\"/>\n",
              "  </svg>\n",
              "      </button>\n",
              "      \n",
              "  <style>\n",
              "    .colab-df-container {\n",
              "      display:flex;\n",
              "      flex-wrap:wrap;\n",
              "      gap: 12px;\n",
              "    }\n",
              "\n",
              "    .colab-df-convert {\n",
              "      background-color: #E8F0FE;\n",
              "      border: none;\n",
              "      border-radius: 50%;\n",
              "      cursor: pointer;\n",
              "      display: none;\n",
              "      fill: #1967D2;\n",
              "      height: 32px;\n",
              "      padding: 0 0 0 0;\n",
              "      width: 32px;\n",
              "    }\n",
              "\n",
              "    .colab-df-convert:hover {\n",
              "      background-color: #E2EBFA;\n",
              "      box-shadow: 0px 1px 2px rgba(60, 64, 67, 0.3), 0px 1px 3px 1px rgba(60, 64, 67, 0.15);\n",
              "      fill: #174EA6;\n",
              "    }\n",
              "\n",
              "    [theme=dark] .colab-df-convert {\n",
              "      background-color: #3B4455;\n",
              "      fill: #D2E3FC;\n",
              "    }\n",
              "\n",
              "    [theme=dark] .colab-df-convert:hover {\n",
              "      background-color: #434B5C;\n",
              "      box-shadow: 0px 1px 3px 1px rgba(0, 0, 0, 0.15);\n",
              "      filter: drop-shadow(0px 1px 2px rgba(0, 0, 0, 0.3));\n",
              "      fill: #FFFFFF;\n",
              "    }\n",
              "  </style>\n",
              "\n",
              "      <script>\n",
              "        const buttonEl =\n",
              "          document.querySelector('#df-634dccda-5a4e-4823-9327-3c325bc3f0e8 button.colab-df-convert');\n",
              "        buttonEl.style.display =\n",
              "          google.colab.kernel.accessAllowed ? 'block' : 'none';\n",
              "\n",
              "        async function convertToInteractive(key) {\n",
              "          const element = document.querySelector('#df-634dccda-5a4e-4823-9327-3c325bc3f0e8');\n",
              "          const dataTable =\n",
              "            await google.colab.kernel.invokeFunction('convertToInteractive',\n",
              "                                                     [key], {});\n",
              "          if (!dataTable) return;\n",
              "\n",
              "          const docLinkHtml = 'Like what you see? Visit the ' +\n",
              "            '<a target=\"_blank\" href=https://colab.research.google.com/notebooks/data_table.ipynb>data table notebook</a>'\n",
              "            + ' to learn more about interactive tables.';\n",
              "          element.innerHTML = '';\n",
              "          dataTable['output_type'] = 'display_data';\n",
              "          await google.colab.output.renderOutput(dataTable, element);\n",
              "          const docLink = document.createElement('div');\n",
              "          docLink.innerHTML = docLinkHtml;\n",
              "          element.appendChild(docLink);\n",
              "        }\n",
              "      </script>\n",
              "    </div>\n",
              "  </div>\n",
              "  "
            ]
          },
          "metadata": {},
          "execution_count": 19
        }
      ]
    },
    {
      "cell_type": "markdown",
      "metadata": {
        "id": "XcCJ3-Y4zyd-"
      },
      "source": [
        "## Pandas Functions"
      ]
    },
    {
      "cell_type": "code",
      "metadata": {
        "id": "Pm9l0mngz180"
      },
      "source": [
        "#To run any non-SELECT SQL command\n",
        "def runCMD (DDL):\n",
        "    DBConn= MySQLdb.connect(db='praxisDB')\n",
        "    myCursor = DBConn.cursor()\n",
        "    try:\n",
        "        retcode = myCursor.execute(DDL)\n",
        "        DBConn.commit()\n",
        "    except :\n",
        "        print('Error : return code = ',retcode)\n",
        "    DBConn.close()\n",
        "\n",
        "#To run any SELECT SQL command\n",
        "def runSELECT (CMD):\n",
        "    DBConn= MySQLdb.connect(db='praxisDB')\n",
        "    df_mysql = pd.read_sql(CMD, con=DBConn)    \n",
        "    DBConn.close()\n",
        "    return df_mysql"
      ],
      "execution_count": null,
      "outputs": []
    },
    {
      "cell_type": "markdown",
      "metadata": {
        "id": "Gobem9DjzcAu"
      },
      "source": [
        "#Operations with Python"
      ]
    },
    {
      "cell_type": "code",
      "source": [
        "sql = \"\\\n",
        "SELECT browser->>'$.name' browser, \\\n",
        "      count(browser) \\\n",
        "FROM events \\\n",
        "GROUP BY browser->>'$.name';\\\n",
        "\"\n",
        "runSELECT(sql)"
      ],
      "metadata": {
        "colab": {
          "base_uri": "https://localhost:8080/",
          "height": 143
        },
        "id": "lGjvCY9p-G_R",
        "outputId": "2bbf913c-d87c-4ccd-d4ea-b93b3793d547"
      },
      "execution_count": null,
      "outputs": [
        {
          "output_type": "execute_result",
          "data": {
            "text/plain": [
              "   browser  count(browser)\n",
              "0   Safari               2\n",
              "1  Firefox               3\n",
              "2   Chrome               1"
            ],
            "text/html": [
              "\n",
              "  <div id=\"df-39aa4abf-39a4-479e-8592-e9a35fd79020\">\n",
              "    <div class=\"colab-df-container\">\n",
              "      <div>\n",
              "<style scoped>\n",
              "    .dataframe tbody tr th:only-of-type {\n",
              "        vertical-align: middle;\n",
              "    }\n",
              "\n",
              "    .dataframe tbody tr th {\n",
              "        vertical-align: top;\n",
              "    }\n",
              "\n",
              "    .dataframe thead th {\n",
              "        text-align: right;\n",
              "    }\n",
              "</style>\n",
              "<table border=\"1\" class=\"dataframe\">\n",
              "  <thead>\n",
              "    <tr style=\"text-align: right;\">\n",
              "      <th></th>\n",
              "      <th>browser</th>\n",
              "      <th>count(browser)</th>\n",
              "    </tr>\n",
              "  </thead>\n",
              "  <tbody>\n",
              "    <tr>\n",
              "      <th>0</th>\n",
              "      <td>Safari</td>\n",
              "      <td>2</td>\n",
              "    </tr>\n",
              "    <tr>\n",
              "      <th>1</th>\n",
              "      <td>Firefox</td>\n",
              "      <td>3</td>\n",
              "    </tr>\n",
              "    <tr>\n",
              "      <th>2</th>\n",
              "      <td>Chrome</td>\n",
              "      <td>1</td>\n",
              "    </tr>\n",
              "  </tbody>\n",
              "</table>\n",
              "</div>\n",
              "      <button class=\"colab-df-convert\" onclick=\"convertToInteractive('df-39aa4abf-39a4-479e-8592-e9a35fd79020')\"\n",
              "              title=\"Convert this dataframe to an interactive table.\"\n",
              "              style=\"display:none;\">\n",
              "        \n",
              "  <svg xmlns=\"http://www.w3.org/2000/svg\" height=\"24px\"viewBox=\"0 0 24 24\"\n",
              "       width=\"24px\">\n",
              "    <path d=\"M0 0h24v24H0V0z\" fill=\"none\"/>\n",
              "    <path d=\"M18.56 5.44l.94 2.06.94-2.06 2.06-.94-2.06-.94-.94-2.06-.94 2.06-2.06.94zm-11 1L8.5 8.5l.94-2.06 2.06-.94-2.06-.94L8.5 2.5l-.94 2.06-2.06.94zm10 10l.94 2.06.94-2.06 2.06-.94-2.06-.94-.94-2.06-.94 2.06-2.06.94z\"/><path d=\"M17.41 7.96l-1.37-1.37c-.4-.4-.92-.59-1.43-.59-.52 0-1.04.2-1.43.59L10.3 9.45l-7.72 7.72c-.78.78-.78 2.05 0 2.83L4 21.41c.39.39.9.59 1.41.59.51 0 1.02-.2 1.41-.59l7.78-7.78 2.81-2.81c.8-.78.8-2.07 0-2.86zM5.41 20L4 18.59l7.72-7.72 1.47 1.35L5.41 20z\"/>\n",
              "  </svg>\n",
              "      </button>\n",
              "      \n",
              "  <style>\n",
              "    .colab-df-container {\n",
              "      display:flex;\n",
              "      flex-wrap:wrap;\n",
              "      gap: 12px;\n",
              "    }\n",
              "\n",
              "    .colab-df-convert {\n",
              "      background-color: #E8F0FE;\n",
              "      border: none;\n",
              "      border-radius: 50%;\n",
              "      cursor: pointer;\n",
              "      display: none;\n",
              "      fill: #1967D2;\n",
              "      height: 32px;\n",
              "      padding: 0 0 0 0;\n",
              "      width: 32px;\n",
              "    }\n",
              "\n",
              "    .colab-df-convert:hover {\n",
              "      background-color: #E2EBFA;\n",
              "      box-shadow: 0px 1px 2px rgba(60, 64, 67, 0.3), 0px 1px 3px 1px rgba(60, 64, 67, 0.15);\n",
              "      fill: #174EA6;\n",
              "    }\n",
              "\n",
              "    [theme=dark] .colab-df-convert {\n",
              "      background-color: #3B4455;\n",
              "      fill: #D2E3FC;\n",
              "    }\n",
              "\n",
              "    [theme=dark] .colab-df-convert:hover {\n",
              "      background-color: #434B5C;\n",
              "      box-shadow: 0px 1px 3px 1px rgba(0, 0, 0, 0.15);\n",
              "      filter: drop-shadow(0px 1px 2px rgba(0, 0, 0, 0.3));\n",
              "      fill: #FFFFFF;\n",
              "    }\n",
              "  </style>\n",
              "\n",
              "      <script>\n",
              "        const buttonEl =\n",
              "          document.querySelector('#df-39aa4abf-39a4-479e-8592-e9a35fd79020 button.colab-df-convert');\n",
              "        buttonEl.style.display =\n",
              "          google.colab.kernel.accessAllowed ? 'block' : 'none';\n",
              "\n",
              "        async function convertToInteractive(key) {\n",
              "          const element = document.querySelector('#df-39aa4abf-39a4-479e-8592-e9a35fd79020');\n",
              "          const dataTable =\n",
              "            await google.colab.kernel.invokeFunction('convertToInteractive',\n",
              "                                                     [key], {});\n",
              "          if (!dataTable) return;\n",
              "\n",
              "          const docLinkHtml = 'Like what you see? Visit the ' +\n",
              "            '<a target=\"_blank\" href=https://colab.research.google.com/notebooks/data_table.ipynb>data table notebook</a>'\n",
              "            + ' to learn more about interactive tables.';\n",
              "          element.innerHTML = '';\n",
              "          dataTable['output_type'] = 'display_data';\n",
              "          await google.colab.output.renderOutput(dataTable, element);\n",
              "          const docLink = document.createElement('div');\n",
              "          docLink.innerHTML = docLinkHtml;\n",
              "          element.appendChild(docLink);\n",
              "        }\n",
              "      </script>\n",
              "    </div>\n",
              "  </div>\n",
              "  "
            ]
          },
          "metadata": {},
          "execution_count": 21
        }
      ]
    },
    {
      "cell_type": "markdown",
      "metadata": {
        "id": "iWzgRTt9JR4u"
      },
      "source": [
        "#Chronobooks <br>\n",
        "Two science fiction novels by Prithwis Mukerjee. A dystopian Earth. A technocratic society managed by artificial intelligence. Escape and epiphany on Mars. Can man and machine, carbon and silicon explore and escape into other dimensions of existence? An Indic perspective rooted in Advaita Vedanta and the Divine Feminine.  [More information](http://bit.ly/chronobooks) <br>\n",
        "![alt text](https://github.com/Praxis-QR/RDWH/raw/main/images/CTCYFooter-1.png)"
      ]
    }
  ]
}