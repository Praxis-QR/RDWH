{
  "nbformat": 4,
  "nbformat_minor": 0,
  "metadata": {
    "colab": {
      "provenance": [],
      "toc_visible": true,
      "include_colab_link": true
    },
    "kernelspec": {
      "name": "python3",
      "display_name": "Python 3"
    },
    "language_info": {
      "name": "python"
    }
  },
  "cells": [
    {
      "cell_type": "markdown",
      "metadata": {
        "id": "view-in-github",
        "colab_type": "text"
      },
      "source": [
        "<a href=\"https://colab.research.google.com/github/Praxis-QR/RDWH/blob/main/PG24_2B_ROLAP.ipynb\" target=\"_parent\"><img src=\"https://colab.research.google.com/assets/colab-badge.svg\" alt=\"Open In Colab\"/></a>"
      ]
    },
    {
      "cell_type": "markdown",
      "source": [
        "![Yantrajaal Banner](https://github.com/Praxis-QR/RDWH/raw/main/images/YantraJaalBanner.png)<br>\n",
        "\n",
        "\n",
        "<hr>\n",
        "\n",
        "[Prithwis Mukerjee](http://www.linkedin.com/in/prithwis)<br>\n",
        "![RolapCube](https://raw.githubusercontent.com/Praxis-QR/RDWH/main/images/rolapcubes.png) <br>\n",
        "[Slide Deck](https://docs.google.com/presentation/d/1IwaB6Gy6InZUUGWsbp_m4JpHyZdqkBw-dVlSLNVLr6Y/edit?usp=sharing)"
      ],
      "metadata": {
        "id": "DBzz-qaN2tKu"
      }
    },
    {
      "cell_type": "code",
      "source": [
        "from datetime import datetime\n",
        "import pytz\n",
        "print('ॐ श्री सरस्वत्यै नमः',datetime.now(pytz.timezone('Asia/Calcutta')))\n",
        "!python --version\n",
        "!lsb_release -a"
      ],
      "metadata": {
        "id": "txwvst5Hs5mI",
        "outputId": "e3fc2cc0-90c9-4cd2-b610-8ef3743081bf",
        "colab": {
          "base_uri": "https://localhost:8080/"
        }
      },
      "execution_count": 2,
      "outputs": [
        {
          "output_type": "stream",
          "name": "stdout",
          "text": [
            "ॐ श्री सरस्वत्यै नमः 2024-01-16 10:34:40.312550+05:30\n",
            "Python 3.10.12\n",
            "No LSB modules are available.\n",
            "Distributor ID:\tUbuntu\n",
            "Description:\tUbuntu 22.04.3 LTS\n",
            "Release:\t22.04\n",
            "Codename:\tjammy\n"
          ]
        }
      ]
    },
    {
      "cell_type": "markdown",
      "source": [
        "#Install & Configure Postgres"
      ],
      "metadata": {
        "id": "nD-QawLT6kDr"
      }
    },
    {
      "cell_type": "code",
      "source": [
        "# Install postgresql server\n",
        "\n",
        "!apt update > /dev/null\n",
        "!apt install postgresql > /dev/null\n",
        "#!pip install psycopg2\n",
        "import psycopg2\n",
        "import pandas as pd\n",
        "#!sudo -u postgres psql -V\n",
        "!psql -V\n",
        "!service postgresql start"
      ],
      "metadata": {
        "colab": {
          "base_uri": "https://localhost:8080/"
        },
        "id": "o_RaqE0OOHP3",
        "outputId": "82702b60-d640-430c-f27f-9ba9e4768ff8"
      },
      "execution_count": 3,
      "outputs": [
        {
          "output_type": "stream",
          "name": "stdout",
          "text": [
            "\n",
            "WARNING: apt does not have a stable CLI interface. Use with caution in scripts.\n",
            "\n",
            "\n",
            "WARNING: apt does not have a stable CLI interface. Use with caution in scripts.\n",
            "\n",
            "psql (PostgreSQL) 14.10 (Ubuntu 14.10-0ubuntu0.22.04.1)\n",
            " * Starting PostgreSQL 14 database server\n",
            "   ...done.\n"
          ]
        }
      ]
    },
    {
      "cell_type": "code",
      "source": [
        "# This has created an Ubuntu user 'postgres' AND a Postgres database user 'postgres' both of which are superusers\n",
        "#!cat /etc/passwd\n",
        "# Use these users to create a new database user called 'upraxis' and give it a password 'upass'\n",
        "#!sudo -u postgres createuser --superuser upraxis\n",
        "!sudo -u postgres createuser upraxis\n",
        "!sudo -u postgres psql -U postgres -c \"ALTER USER upraxis PASSWORD 'upass';\"\n",
        "# Change the database superuser 'postgres' to a non-default value 'pass'\n",
        "!sudo -u postgres psql -U postgres -c \"ALTER USER postgres PASSWORD 'pass';\"\n",
        "# Use ubuntu superuser to create database dbpraxis and set its owner to upraxis\n",
        "!sudo -u postgres createdb -O upraxis dbpraxis\n",
        "# Create file to store the password. Else will be prompted each time\n",
        "!echo \"localhost:5432:dbpraxis:postgres:pass\" > ~/.pgpass\n",
        "!echo \"localhost:5432:dbpraxis:upraxis:upass\" >> ~/.pgpass\n",
        "!chmod 0600 ~/.pgpass\n",
        "!cat ~/.pgpass\n"
      ],
      "metadata": {
        "colab": {
          "base_uri": "https://localhost:8080/"
        },
        "id": "xr5kHaY_U4CZ",
        "outputId": "a26a71cb-fcd0-44ec-f85b-85902ea3c1a7"
      },
      "execution_count": 4,
      "outputs": [
        {
          "output_type": "stream",
          "name": "stdout",
          "text": [
            "ALTER ROLE\n",
            "ALTER ROLE\n",
            "localhost:5432:dbpraxis:postgres:pass\n",
            "localhost:5432:dbpraxis:upraxis:upass\n"
          ]
        }
      ]
    },
    {
      "cell_type": "markdown",
      "source": [
        "## Python Access\n",
        "https://www.tutorialspoint.com/python_data_access/python_postgresql_database_connection.htm"
      ],
      "metadata": {
        "id": "faZEj8_7CeZ8"
      }
    },
    {
      "cell_type": "code",
      "source": [
        "# Local Colab server\n",
        "\n",
        "conn = psycopg2.connect(database=\"dbpraxis\", user='upraxis', password='upass', host='127.0.0.1', port= '5432')\n",
        "#Creating a cursor object using the cursor() method\n",
        "cursor = conn.cursor()\n",
        "#Executing an MYSQL function using the execute() method\n",
        "cursor.execute(\"select version()\")\n",
        "# Fetch a single row using fetchone() method.\n",
        "data = cursor.fetchone()\n",
        "print(\"Connection established to: \",data)\n",
        "#Closing the connection\n",
        "conn.close()"
      ],
      "metadata": {
        "id": "wcE-8UBnC4zV",
        "outputId": "392470e2-eecd-45d6-81cb-7de795e716ad",
        "colab": {
          "base_uri": "https://localhost:8080/"
        }
      },
      "execution_count": 5,
      "outputs": [
        {
          "output_type": "stream",
          "name": "stdout",
          "text": [
            "Connection established to:  ('PostgreSQL 14.10 (Ubuntu 14.10-0ubuntu0.22.04.1) on x86_64-pc-linux-gnu, compiled by gcc (Ubuntu 11.4.0-1ubuntu1~22.04) 11.4.0, 64-bit',)\n"
          ]
        }
      ]
    },
    {
      "cell_type": "code",
      "source": [
        "# function to execute SQL select statements with Postgres\n",
        "#\n",
        "def runSelect(s):\n",
        "    #Set up connection\n",
        "\n",
        "    conn = psycopg2.connect(database=\"dbpraxis\", user='upraxis', password='upass', host='127.0.0.1', port= '5432')\n",
        "    #Setting auto commit true\n",
        "    conn.autocommit = True\n",
        "    #Creating a cursor object using the cursor() method\n",
        "    cursor = conn.cursor()\n",
        "    #Retrieving data\n",
        "    cursor.execute(s)\n",
        "    #Fetching all rows from the table\n",
        "    result = cursor.fetchall();\n",
        "    #print(len(result))\n",
        "    if (len(result)) > 0:                                       # result contains at least one row\n",
        "        colnames = [desc[0] for desc in cursor.description]     # get column names\n",
        "        #print(colnames)\n",
        "        resultdf = pd.DataFrame(result)                         # convert list to dataframe\n",
        "        resultdf.columns = colnames                             # add column names\n",
        "        #return resultdf\n",
        "        return resultdf.style.hide()                            # hide the index\n",
        "    else:\n",
        "        print('no records found')\n",
        "        return\n",
        "# function to execute SQL non-select statements with Postgres\n",
        "#\n",
        "def runCmd(s):\n",
        "    #Create Connection\n",
        "    conn = psycopg2.connect(database=\"dbpraxis\", user='upraxis', password='upass', host='127.0.0.1', port= '5432')\n",
        "    #Creating a cursor object using the cursor() method\n",
        "    cursor = conn.cursor()\n",
        "    try:\n",
        "        cursor.execute(s)\n",
        "        print('Command executed')\n",
        "        conn.commit()\n",
        "    except:\n",
        "        print('Command failed')\n",
        "    #Closing the connection\n",
        "    conn.close()"
      ],
      "metadata": {
        "id": "ht2k7-3iggNd"
      },
      "execution_count": 6,
      "outputs": []
    },
    {
      "cell_type": "markdown",
      "source": [
        "# Build Standard Fact Table"
      ],
      "metadata": {
        "id": "UpKxIxq_7GfT"
      }
    },
    {
      "cell_type": "markdown",
      "source": [
        "## Create Normalised Fact Table"
      ],
      "metadata": {
        "id": "mzJFA1yx7tPe"
      }
    },
    {
      "cell_type": "code",
      "source": [
        "!psql -h localhost -p 5432 -Uupraxis -ddbpraxis -c \"\\\n",
        "DROP table if exists CarSalesFact_N;\\\n",
        "CREATE TABLE if not exists CarSalesFact_N ( Txn int ,  Dim  varchar(8) ,  DimValue varchar(8) );\\\n",
        "INSERT INTO CarSalesFact_N (Txn, Dim, DimValue) VALUES \\\n",
        " (1, 'Make', 'Honda'),(1, 'Type', 'SUV'),(1, 'Colour', 'Red'),\\\n",
        " (2, 'Make', 'Honda'),(2, 'Type', 'SUV'),(2, 'Colour', 'Black'), \\\n",
        " (3, 'Make', 'Honda'),(3, 'Type', 'Sedan'),(3, 'Colour', 'Brown'),\\\n",
        " (4, 'Make', 'Toyota'),(4, 'Type', 'Compact'),(4, 'Colour', 'Red'),\\\n",
        " (5, 'Make', 'Toyota'),(5, 'Colour', 'Black'),(5, 'Type', 'Sedan'),\\\n",
        " (6, 'Make', 'Toyota'),(6, 'Colour', 'Black'),(6, 'Type', 'Sedan'),\\\n",
        " (7, 'Make', 'Honda'),(7, 'Type', 'SUV'),(7, 'Colour', 'Black'),\\\n",
        " (8, 'Make', 'Honda'),(8, 'Type', 'SUV'),(8, 'Colour', 'Red'),\\\n",
        " (9, 'Make', 'Honda'),(9, 'Type', 'SUV'),(9, 'Colour', 'Black'),\\\n",
        " (10, 'Make', 'Honda'),(10, 'Type', 'SUV'),(10, 'Colour', 'Black'),\\\n",
        " (11, 'Make', 'Mazda'),(11, 'Type', 'SUV'),(11, 'Colour', 'Black'),\\\n",
        " (12, 'Make', 'Mazda'),(12, 'Type', 'Compact'),(12, 'Colour', 'Red'),\\\n",
        " (13, 'Make', 'Mazda'),(13, 'Type', 'Sedan'),(13, 'Colour', 'Brown'),\\\n",
        " (14, 'Make', 'Mazda'),(14, 'Type', 'SUV'),(14, 'Colour', 'Red');\\\n",
        "\"\n",
        "#runCmd(ddl)\n"
      ],
      "metadata": {
        "colab": {
          "base_uri": "https://localhost:8080/"
        },
        "id": "MDwbINEO7V-4",
        "outputId": "687a2a7e-9d19-4787-f4be-42c3f3966bc7"
      },
      "execution_count": 7,
      "outputs": [
        {
          "output_type": "stream",
          "name": "stdout",
          "text": [
            "NOTICE:  table \"carsalesfact_n\" does not exist, skipping\n",
            "INSERT 0 42\n"
          ]
        }
      ]
    },
    {
      "cell_type": "markdown",
      "source": [
        "## Transpose (\"Pivot\") Columns to Rows\n",
        "Convert a Normalised Fact Table to a Standard Fact Table"
      ],
      "metadata": {
        "id": "k0rXiciVtu7Q"
      }
    },
    {
      "cell_type": "code",
      "source": [
        "#runSelect(\"select * from CarSalesFact_N\")\n",
        "!psql -h localhost -p 5432 -Uupraxis -ddbpraxis -c \"select * from CarSalesFact_N\""
      ],
      "metadata": {
        "id": "N3NZv0YahSs6",
        "outputId": "d68517d9-4e6c-4da0-bc35-0c7da385b5fb",
        "colab": {
          "base_uri": "https://localhost:8080/"
        }
      },
      "execution_count": 8,
      "outputs": [
        {
          "output_type": "stream",
          "name": "stdout",
          "text": [
            " txn |  dim   | dimvalue \n",
            "-----+--------+----------\n",
            "   1 | Make   | Honda\n",
            "   1 | Type   | SUV\n",
            "   1 | Colour | Red\n",
            "   2 | Make   | Honda\n",
            "   2 | Type   | SUV\n",
            "   2 | Colour | Black\n",
            "   3 | Make   | Honda\n",
            "   3 | Type   | Sedan\n",
            "   3 | Colour | Brown\n",
            "   4 | Make   | Toyota\n",
            "   4 | Type   | Compact\n",
            "   4 | Colour | Red\n",
            "   5 | Make   | Toyota\n",
            "   5 | Colour | Black\n",
            "   5 | Type   | Sedan\n",
            "   6 | Make   | Toyota\n",
            "   6 | Colour | Black\n",
            "   6 | Type   | Sedan\n",
            "   7 | Make   | Honda\n",
            "   7 | Type   | SUV\n",
            "   7 | Colour | Black\n",
            "   8 | Make   | Honda\n",
            "   8 | Type   | SUV\n",
            "   8 | Colour | Red\n",
            "   9 | Make   | Honda\n",
            "   9 | Type   | SUV\n",
            "   9 | Colour | Black\n",
            "  10 | Make   | Honda\n",
            "  10 | Type   | SUV\n",
            "  10 | Colour | Black\n",
            "  11 | Make   | Mazda\n",
            "  11 | Type   | SUV\n",
            "  11 | Colour | Black\n",
            "  12 | Make   | Mazda\n",
            "  12 | Type   | Compact\n",
            "  12 | Colour | Red\n",
            "  13 | Make   | Mazda\n",
            "  13 | Type   | Sedan\n",
            "  13 | Colour | Brown\n",
            "  14 | Make   | Mazda\n",
            "  14 | Type   | SUV\n",
            "  14 | Colour | Red\n",
            "(42 rows)\n",
            "\n"
          ]
        }
      ]
    },
    {
      "cell_type": "code",
      "source": [
        "!psql -h localhost -p 5432 -Uupraxis -ddbpraxis -c \" \\\n",
        "SELECT \\\n",
        "  Txn,\\\n",
        "  string_agg(case when Dim = 'Make' then DimValue else NULL end,';') Make,\\\n",
        "  string_agg(case when Dim = 'Type' then DimValue else NULL end,';') Type,\\\n",
        "  string_agg(case when Dim = 'Colour' then DimValue else NULL end,';') Colour \\\n",
        "FROM CarSalesFact_N \\\n",
        "GROUP BY txn\\\n",
        "\"\n",
        "#runSelect(sql)\n"
      ],
      "metadata": {
        "colab": {
          "base_uri": "https://localhost:8080/"
        },
        "id": "5ZdLY4Xuvllk",
        "outputId": "00662a93-92e6-4129-b971-cb5f9137c81d"
      },
      "execution_count": 9,
      "outputs": [
        {
          "output_type": "stream",
          "name": "stdout",
          "text": [
            " txn |  make  |  type   | colour \n",
            "-----+--------+---------+--------\n",
            "   1 | Honda  | SUV     | Red\n",
            "   2 | Honda  | SUV     | Black\n",
            "   3 | Honda  | Sedan   | Brown\n",
            "   4 | Toyota | Compact | Red\n",
            "   5 | Toyota | Sedan   | Black\n",
            "   6 | Toyota | Sedan   | Black\n",
            "   7 | Honda  | SUV     | Black\n",
            "   8 | Honda  | SUV     | Red\n",
            "   9 | Honda  | SUV     | Black\n",
            "  10 | Honda  | SUV     | Black\n",
            "  11 | Mazda  | SUV     | Black\n",
            "  12 | Mazda  | Compact | Red\n",
            "  13 | Mazda  | Sedan   | Brown\n",
            "  14 | Mazda  | SUV     | Red\n",
            "(14 rows)\n",
            "\n"
          ]
        }
      ]
    },
    {
      "cell_type": "code",
      "source": [
        "!psql -h localhost -p 5432 -Uupraxis -ddbpraxis -c \" \\\n",
        "select csf0.Make, csf0.Type, csf0.Colour, count(txn) Units from \\\n",
        "    ( \\\n",
        "    SELECT \\\n",
        "    Txn,\\\n",
        "    string_agg(case when Dim = 'Make' then DimValue else NULL end,';') Make,\\\n",
        "    string_agg(case when Dim = 'Type' then DimValue else NULL end,';') Type,\\\n",
        "    string_agg(case when Dim = 'Colour' then DimValue else NULL end,';') Colour \\\n",
        "    FROM CarSalesFact_N \\\n",
        "    GROUP BY txn\\\n",
        "    ) as csf0 \\\n",
        "group by \\\n",
        "csf0.Make, csf0.Type, csf0.Colour \\\n",
        "\"\n",
        "#runSelect(sql)"
      ],
      "metadata": {
        "colab": {
          "base_uri": "https://localhost:8080/"
        },
        "id": "FnRoFQKQ2YUZ",
        "outputId": "cf8fc6c3-1cc1-4963-d199-8d940c5efb9f"
      },
      "execution_count": 10,
      "outputs": [
        {
          "output_type": "stream",
          "name": "stdout",
          "text": [
            "  make  |  type   | colour | units \n",
            "--------+---------+--------+-------\n",
            " Honda  | SUV     | Red    |     2\n",
            " Honda  | SUV     | Black  |     4\n",
            " Toyota | Compact | Red    |     1\n",
            " Mazda  | Compact | Red    |     1\n",
            " Mazda  | SUV     | Red    |     1\n",
            " Toyota | Sedan   | Black  |     2\n",
            " Honda  | Sedan   | Brown  |     1\n",
            " Mazda  | Sedan   | Brown  |     1\n",
            " Mazda  | SUV     | Black  |     1\n",
            "(9 rows)\n",
            "\n"
          ]
        }
      ]
    },
    {
      "cell_type": "markdown",
      "source": [
        "## Create Standard Fact Table"
      ],
      "metadata": {
        "id": "5g0B2epY70xA"
      }
    },
    {
      "cell_type": "code",
      "source": [
        "ddl = \"\\\n",
        "drop table if exists CarSalesFact_S; \\\n",
        "create table if not exists CarSalesFact_S as ( \\\n",
        "    select csf0.Make, csf0.Type, csf0.Colour, count(txn) Units from \\\n",
        "        ( \\\n",
        "        SELECT \\\n",
        "        Txn,\\\n",
        "        string_agg(case when Dim = 'Make' then DimValue else NULL end,';') Make,\\\n",
        "        string_agg(case when Dim = 'Type' then DimValue else NULL end,';') Type,\\\n",
        "        string_agg(case when Dim = 'Colour' then DimValue else NULL end,';') Colour \\\n",
        "        FROM CarSalesFact_N \\\n",
        "        GROUP BY txn\\\n",
        "        ) as csf0 \\\n",
        "    group by \\\n",
        "    csf0.Make, csf0.Type, csf0.Colour \\\n",
        "    ) \\\n",
        "\"\n",
        "runCmd(ddl)"
      ],
      "metadata": {
        "colab": {
          "base_uri": "https://localhost:8080/"
        },
        "id": "fQrVdvuD3OIX",
        "outputId": "4bdcd98c-9237-4d1d-f541-26dbf7d11af0"
      },
      "execution_count": 11,
      "outputs": [
        {
          "output_type": "stream",
          "name": "stdout",
          "text": [
            "Command executed\n"
          ]
        }
      ]
    },
    {
      "cell_type": "code",
      "source": [
        "#runSelect(\"select * from CarSalesFact_S\")\n",
        "!psql -h localhost -p 5432 -Uupraxis -ddbpraxis -c \"select * from CarSalesFact_S\""
      ],
      "metadata": {
        "colab": {
          "base_uri": "https://localhost:8080/"
        },
        "id": "khq53WrI4JGY",
        "outputId": "5e9e8018-0890-435a-869b-bcf026ffc89c"
      },
      "execution_count": 12,
      "outputs": [
        {
          "output_type": "stream",
          "name": "stdout",
          "text": [
            "  make  |  type   | colour | units \n",
            "--------+---------+--------+-------\n",
            " Honda  | SUV     | Red    |     2\n",
            " Honda  | SUV     | Black  |     4\n",
            " Toyota | Compact | Red    |     1\n",
            " Mazda  | Compact | Red    |     1\n",
            " Mazda  | SUV     | Red    |     1\n",
            " Toyota | Sedan   | Black  |     2\n",
            " Honda  | Sedan   | Brown  |     1\n",
            " Mazda  | Sedan   | Brown  |     1\n",
            " Mazda  | SUV     | Black  |     1\n",
            "(9 rows)\n",
            "\n"
          ]
        }
      ]
    },
    {
      "cell_type": "markdown",
      "source": [
        "#PIVOT a.k.a. Crosstab"
      ],
      "metadata": {
        "id": "chK7LJhP8ELu"
      }
    },
    {
      "cell_type": "markdown",
      "source": [
        "## Level 1 - Simple Group By"
      ],
      "metadata": {
        "id": "IosDeDv78L_1"
      }
    },
    {
      "cell_type": "code",
      "source": [
        "!psql -h localhost -p 5432 -Uupraxis -ddbpraxis -c \"\\\n",
        "select Make, Type, Sum(Units) Count \\\n",
        "  from CarSalesFact_S \\\n",
        "  group by Make, Type \\\n",
        "\"\n",
        "#runSelect(sql)"
      ],
      "metadata": {
        "colab": {
          "base_uri": "https://localhost:8080/"
        },
        "id": "oGu4452n8Tpp",
        "outputId": "0fa1844d-6b90-4aac-de24-693bb605532e"
      },
      "execution_count": 13,
      "outputs": [
        {
          "output_type": "stream",
          "name": "stdout",
          "text": [
            "  make  |  type   | count \n",
            "--------+---------+-------\n",
            " Mazda  | SUV     |     2\n",
            " Honda  | SUV     |     6\n",
            " Mazda  | Sedan   |     1\n",
            " Toyota | Compact |     1\n",
            " Toyota | Sedan   |     2\n",
            " Honda  | Sedan   |     1\n",
            " Mazda  | Compact |     1\n",
            "(7 rows)\n",
            "\n"
          ]
        }
      ]
    },
    {
      "cell_type": "markdown",
      "source": [
        "## Level 2 : Group BY with ROLLUP"
      ],
      "metadata": {
        "id": "57jOZZMB8qux"
      }
    },
    {
      "cell_type": "markdown",
      "source": [
        "### Basic Rollup"
      ],
      "metadata": {
        "id": "-2GW9MSi_s0e"
      }
    },
    {
      "cell_type": "code",
      "source": [
        "!psql -h localhost -p 5432 -Uupraxis -ddbpraxis -c\"\\\n",
        "select Make, Type, Sum(Units) Count \\\n",
        "  from CarSalesFact_S \\\n",
        "  group by rollup(Make, Type) \\\n",
        "\"\n",
        "#runSelect(sql)"
      ],
      "metadata": {
        "colab": {
          "base_uri": "https://localhost:8080/"
        },
        "id": "me9GMHXS8yTf",
        "outputId": "45d16193-3959-4c03-819d-38127fc2fbbb"
      },
      "execution_count": 14,
      "outputs": [
        {
          "output_type": "stream",
          "name": "stdout",
          "text": [
            "  make  |  type   | count \n",
            "--------+---------+-------\n",
            "        |         |    14\n",
            " Mazda  | SUV     |     2\n",
            " Honda  | SUV     |     6\n",
            " Mazda  | Sedan   |     1\n",
            " Toyota | Compact |     1\n",
            " Toyota | Sedan   |     2\n",
            " Honda  | Sedan   |     1\n",
            " Mazda  | Compact |     1\n",
            " Honda  |         |     7\n",
            " Toyota |         |     3\n",
            " Mazda  |         |     4\n",
            "(11 rows)\n",
            "\n"
          ]
        }
      ]
    },
    {
      "cell_type": "code",
      "source": [
        "!psql -h localhost -p 5432 -Uupraxis -ddbpraxis -c \"\\\n",
        "select \\\n",
        "    COALESCE(Make, 'All Makes') AS Make, \\\n",
        "    COALESCE(Type, 'All Types') AS Type, \\\n",
        "    Sum(Units) Count \\\n",
        "  from CarSalesFact_S \\\n",
        "  group by rollup(Make, Type) \\\n",
        "\"\n",
        "#runSelect(sql)"
      ],
      "metadata": {
        "colab": {
          "base_uri": "https://localhost:8080/"
        },
        "id": "TXxhmV059xA_",
        "outputId": "d0769061-4308-4ac6-b838-60d89a5baf3e"
      },
      "execution_count": 15,
      "outputs": [
        {
          "output_type": "stream",
          "name": "stdout",
          "text": [
            "   make    |   type    | count \n",
            "-----------+-----------+-------\n",
            " All Makes | All Types |    14\n",
            " Mazda     | SUV       |     2\n",
            " Honda     | SUV       |     6\n",
            " Mazda     | Sedan     |     1\n",
            " Toyota    | Compact   |     1\n",
            " Toyota    | Sedan     |     2\n",
            " Honda     | Sedan     |     1\n",
            " Mazda     | Compact   |     1\n",
            " Honda     | All Types |     7\n",
            " Toyota    | All Types |     3\n",
            " Mazda     | All Types |     4\n",
            "(11 rows)\n",
            "\n"
          ]
        }
      ]
    },
    {
      "cell_type": "markdown",
      "source": [
        "### Roll Up More"
      ],
      "metadata": {
        "id": "oCRVUeL9_yXV"
      }
    },
    {
      "cell_type": "code",
      "source": [
        "!psql -h localhost -p 5432 -Uupraxis -ddbpraxis -c \"\\\n",
        "select \\\n",
        "    COALESCE(Make, 'All Makes') AS Make, \\\n",
        "    Sum(Units) Count \\\n",
        "  from CarSalesFact_S \\\n",
        "  group by rollup(Make) \\\n",
        "\"\n",
        "#runSelect(sql)"
      ],
      "metadata": {
        "colab": {
          "base_uri": "https://localhost:8080/"
        },
        "id": "8N4L5WRy_5ml",
        "outputId": "27bf26b7-8c3b-4815-fa04-bf879658d863"
      },
      "execution_count": 16,
      "outputs": [
        {
          "output_type": "stream",
          "name": "stdout",
          "text": [
            "   make    | count \n",
            "-----------+-------\n",
            " All Makes |    14\n",
            " Honda     |     7\n",
            " Toyota    |     3\n",
            " Mazda     |     4\n",
            "(4 rows)\n",
            "\n"
          ]
        }
      ]
    },
    {
      "cell_type": "code",
      "source": [
        "!psql -h localhost -p 5432 -Uupraxis -ddbpraxis -c \"\\\n",
        "select \\\n",
        "    COALESCE(Type, 'All Types') AS Type, \\\n",
        "    Sum(Units) Count \\\n",
        "  from CarSalesFact_S \\\n",
        "  group by rollup(Type) \\\n",
        "\"\n",
        "#runSelect(sql)"
      ],
      "metadata": {
        "colab": {
          "base_uri": "https://localhost:8080/"
        },
        "id": "7Vo7Au6ZAYSV",
        "outputId": "e1b96133-a5d9-4722-a524-777086f1a5f7"
      },
      "execution_count": 17,
      "outputs": [
        {
          "output_type": "stream",
          "name": "stdout",
          "text": [
            "   type    | count \n",
            "-----------+-------\n",
            " All Types |    14\n",
            " SUV       |     8\n",
            " Sedan     |     4\n",
            " Compact   |     2\n",
            "(4 rows)\n",
            "\n"
          ]
        }
      ]
    },
    {
      "cell_type": "markdown",
      "source": [
        "### Roll Up - Even More"
      ],
      "metadata": {
        "id": "Ydc0opQzAg76"
      }
    },
    {
      "cell_type": "code",
      "source": [
        "!psql -h localhost -p 5432 -Uupraxis -ddbpraxis -c \"\\\n",
        "select \\\n",
        "    Sum(Units) Count \\\n",
        "  from CarSalesFact_S \\\n",
        "\"\n",
        "#runSelect(sql)"
      ],
      "metadata": {
        "colab": {
          "base_uri": "https://localhost:8080/"
        },
        "id": "U5u7tFXDAtyZ",
        "outputId": "1016ba11-e573-4079-bdbf-0f9856edc170"
      },
      "execution_count": 18,
      "outputs": [
        {
          "output_type": "stream",
          "name": "stdout",
          "text": [
            " count \n",
            "-------\n",
            "    14\n",
            "(1 row)\n",
            "\n"
          ]
        }
      ]
    },
    {
      "cell_type": "markdown",
      "source": [
        "## Level 3 - Full Pivot"
      ],
      "metadata": {
        "id": "OMf6fJFVD65m"
      }
    },
    {
      "cell_type": "markdown",
      "source": [
        "### \"Jugaad\" Pivot"
      ],
      "metadata": {
        "id": "94SBIgoUQAiV"
      }
    },
    {
      "cell_type": "code",
      "source": [
        "!psql -h localhost -p 5432 -Uupraxis -ddbpraxis -c \"\\\n",
        "select Make, Type, Sum(Units) Count \\\n",
        "    from CarSalesFact_S \\\n",
        "    group by Make, Type \\\n",
        "union all \\\n",
        "SELECT Make, 'ALL', SUM(Units) \\\n",
        "    FROM CarSalesFact_S \\\n",
        "    GROUP BY Make \\\n",
        "union all \\\n",
        "SELECT 'ALL', Type, SUM(Units) \\\n",
        "    FROM CarSalesFact_S \\\n",
        "    GROUP BY Type \\\n",
        "union all \\\n",
        "SELECT 'ALL', 'ALL', SUM(Units) \\\n",
        "    FROM CarSalesFact_S \\\n",
        "\""
      ],
      "metadata": {
        "id": "PyVtlW-sQnUV",
        "outputId": "4aa112b7-b762-4137-feef-856c5f17d052",
        "colab": {
          "base_uri": "https://localhost:8080/"
        }
      },
      "execution_count": 19,
      "outputs": [
        {
          "output_type": "stream",
          "name": "stdout",
          "text": [
            "  make  |  type   | count \n",
            "--------+---------+-------\n",
            " Mazda  | SUV     |     2\n",
            " Honda  | SUV     |     6\n",
            " Mazda  | Sedan   |     1\n",
            " Toyota | Compact |     1\n",
            " Toyota | Sedan   |     2\n",
            " Honda  | Sedan   |     1\n",
            " Mazda  | Compact |     1\n",
            " Honda  | ALL     |     7\n",
            " Toyota | ALL     |     3\n",
            " Mazda  | ALL     |     4\n",
            " ALL    | SUV     |     8\n",
            " ALL    | Sedan   |     4\n",
            " ALL    | Compact |     2\n",
            " ALL    | ALL     |    14\n",
            "(14 rows)\n",
            "\n"
          ]
        }
      ]
    },
    {
      "cell_type": "markdown",
      "source": [
        "### CUBE solution"
      ],
      "metadata": {
        "id": "9PRbSzptYIX0"
      }
    },
    {
      "cell_type": "code",
      "source": [
        "!psql -h localhost -p 5432 -Uupraxis -ddbpraxis -c \"\\\n",
        "select \\\n",
        "    COALESCE(Make, 'All Makes') AS Make, \\\n",
        "    COALESCE(Type, 'All Types') AS Type, \\\n",
        "    Sum(Units) Count \\\n",
        "  from CarSalesFact_S \\\n",
        "  group by cube(Make, Type) \\\n",
        "\""
      ],
      "metadata": {
        "id": "Srgeg3VcYmlE",
        "outputId": "0de7d869-614c-40cf-e1a7-53d294cc911b",
        "colab": {
          "base_uri": "https://localhost:8080/"
        }
      },
      "execution_count": 20,
      "outputs": [
        {
          "output_type": "stream",
          "name": "stdout",
          "text": [
            "   make    |   type    | count \n",
            "-----------+-----------+-------\n",
            " All Makes | All Types |    14\n",
            " Mazda     | SUV       |     2\n",
            " Honda     | SUV       |     6\n",
            " Mazda     | Sedan     |     1\n",
            " Toyota    | Compact   |     1\n",
            " Toyota    | Sedan     |     2\n",
            " Honda     | Sedan     |     1\n",
            " Mazda     | Compact   |     1\n",
            " Honda     | All Types |     7\n",
            " Toyota    | All Types |     3\n",
            " Mazda     | All Types |     4\n",
            " All Makes | SUV       |     8\n",
            " All Makes | Sedan     |     4\n",
            " All Makes | Compact   |     2\n",
            "(14 rows)\n",
            "\n"
          ]
        }
      ]
    },
    {
      "cell_type": "markdown",
      "source": [
        "### Correct Pivot"
      ],
      "metadata": {
        "id": "sPRlwdXucPSs"
      }
    },
    {
      "cell_type": "code",
      "source": [
        "!psql -h localhost -p 5432 -Uupraxis -ddbpraxis -c \"\\\n",
        "SELECT \\\n",
        "\tMake,\\\n",
        "\tsum(case when (Type = 'Sedan') then Units else 0 end) as Sedan,\\\n",
        "\tsum(case when (Type = 'SUV') then Units else 0 end) as SUV,\\\n",
        "\tsum(case when (Type = 'Compact') then Units else 0 end) as Compact\\\n",
        "  FROM CarSalesFact_S\\\n",
        "  GROUP BY ROLLUP (Make)\\\n",
        "\"\n",
        "#runSelect(sql)"
      ],
      "metadata": {
        "colab": {
          "base_uri": "https://localhost:8080/"
        },
        "id": "DMi2uYowEvfM",
        "outputId": "c37956e2-d979-48cc-a610-296a56a16ae9"
      },
      "execution_count": 21,
      "outputs": [
        {
          "output_type": "stream",
          "name": "stdout",
          "text": [
            "  make  | sedan | suv | compact \n",
            "--------+-------+-----+---------\n",
            "        |     4 |   8 |       2\n",
            " Honda  |     1 |   6 |       0\n",
            " Toyota |     2 |   0 |       1\n",
            " Mazda  |     1 |   2 |       1\n",
            "(4 rows)\n",
            "\n"
          ]
        }
      ]
    },
    {
      "cell_type": "code",
      "source": [
        "!psql -h localhost -p 5432 -Uupraxis -ddbpraxis -c\"\\\n",
        "SELECT \\\n",
        "    COALESCE(Make, 'Total') AS Dim, \\\n",
        "\tsum(case when (Type = 'Sedan') then Units else 0 end) as Sedan,\\\n",
        "\tsum(case when (Type = 'SUV') then Units else 0 end) as SUV,\\\n",
        "\tsum(case when (Type = 'Compact') then Units else 0 end) as Compact\\\n",
        "  FROM CarSalesFact_S\\\n",
        "  GROUP BY ROLLUP (Make)\\\n",
        "\"\n",
        "#runSelect(sql)"
      ],
      "metadata": {
        "colab": {
          "base_uri": "https://localhost:8080/"
        },
        "id": "LCivlY1-FBzN",
        "outputId": "4f06009d-1553-4319-ab01-3131925201d1"
      },
      "execution_count": 22,
      "outputs": [
        {
          "output_type": "stream",
          "name": "stdout",
          "text": [
            "  dim   | sedan | suv | compact \n",
            "--------+-------+-----+---------\n",
            " Total  |     4 |   8 |       2\n",
            " Honda  |     1 |   6 |       0\n",
            " Toyota |     2 |   0 |       1\n",
            " Mazda  |     1 |   2 |       1\n",
            "(4 rows)\n",
            "\n"
          ]
        }
      ]
    },
    {
      "cell_type": "code",
      "source": [
        "!psql -h localhost -p 5432 -Uupraxis -ddbpraxis -c  \"\\\n",
        "SELECT \\\n",
        "COALESCE(Make, 'totals') AS Dim, \\\n",
        "sums.SUV, sums.Sedan, sums.Compact,\\\n",
        "sums.SUV + sums.Sedan + sums.Compact  Totals \\\n",
        "FROM ( \\\n",
        "  SELECT \\\n",
        "    Make, \\\n",
        "\tsum(case when (Type = 'Sedan') then Units else 0 end) as Sedan,\\\n",
        "\tsum(case when (Type = 'SUV') then Units else 0 end) as SUV,\\\n",
        "\tsum(case when (Type = 'Compact') then Units else 0 end) as Compact\\\n",
        "  FROM CarSalesFact_S\\\n",
        "  GROUP BY ROLLUP (Make)\\\n",
        ") AS sums \\\n",
        "\"\n",
        "#runSelect(sql)"
      ],
      "metadata": {
        "colab": {
          "base_uri": "https://localhost:8080/"
        },
        "id": "Qli_cq_LFPQd",
        "outputId": "ce186206-6368-43d0-97ab-0653c2e207d7"
      },
      "execution_count": 23,
      "outputs": [
        {
          "output_type": "stream",
          "name": "stdout",
          "text": [
            "  dim   | suv | sedan | compact | totals \n",
            "--------+-----+-------+---------+--------\n",
            " totals |   8 |     4 |       2 |     14\n",
            " Honda  |   6 |     1 |       0 |      7\n",
            " Toyota |   0 |     2 |       1 |      3\n",
            " Mazda  |   2 |     1 |       1 |      4\n",
            "(4 rows)\n",
            "\n"
          ]
        }
      ]
    },
    {
      "cell_type": "markdown",
      "source": [
        "#### Rotate the Pivot"
      ],
      "metadata": {
        "id": "Z7rEGqyRMe5n"
      }
    },
    {
      "cell_type": "code",
      "source": [
        "!psql -h localhost -p 5432 -Uupraxis -ddbpraxis -c  \"\\\n",
        "SELECT \\\n",
        "COALESCE(Colour, 'totals') AS Dim, \\\n",
        "sums.Honda, sums.Toyota, sums.Mazda,\\\n",
        "sums.Honda + sums.Toyota + sums.Mazda  Totals \\\n",
        "FROM ( \\\n",
        "  SELECT \\\n",
        "    Colour, \\\n",
        "\tsum(case when (Make = 'Honda') then Units else 0 end) as Honda,\\\n",
        "\tsum(case when (Make = 'Toyota') then Units else 0 end) as Toyota,\\\n",
        "\tsum(case when (Make = 'Mazda') then Units else 0 end) as Mazda\\\n",
        "  FROM CarSalesFact_S\\\n",
        "  GROUP BY ROLLUP (Colour)\\\n",
        ") AS sums \\\n",
        "\""
      ],
      "metadata": {
        "colab": {
          "base_uri": "https://localhost:8080/"
        },
        "id": "bKfQTYcZk84x",
        "outputId": "b322793d-56e8-4bfd-8cce-3fee6310dcb8"
      },
      "execution_count": 24,
      "outputs": [
        {
          "output_type": "stream",
          "name": "stdout",
          "text": [
            "  dim   | honda | toyota | mazda | totals \n",
            "--------+-------+--------+-------+--------\n",
            " totals |     7 |      3 |     4 |     14\n",
            " Red    |     2 |      1 |     2 |      5\n",
            " Black  |     4 |      2 |     1 |      7\n",
            " Brown  |     1 |      0 |     1 |      2\n",
            "(4 rows)\n",
            "\n"
          ]
        }
      ]
    },
    {
      "cell_type": "code",
      "source": [
        "!psql -h localhost -p 5432 -Uupraxis -ddbpraxis -c  \"\\\n",
        "SELECT \\\n",
        "COALESCE(Type, 'totals') AS Dim, \\\n",
        "sums.Red, sums.Black, sums.Brown,\\\n",
        "sums.Red + sums.Black + sums.Brown  Totals \\\n",
        "FROM ( \\\n",
        "  SELECT \\\n",
        "    Type, \\\n",
        "\tsum(case when (Colour = 'Red') then Units else 0 end) as Red,\\\n",
        "\tsum(case when (Colour = 'Black') then Units else 0 end) as Black,\\\n",
        "\tsum(case when (Colour = 'Brown') then Units else 0 end) as Brown\\\n",
        "  FROM CarSalesFact_S\\\n",
        "  GROUP BY ROLLUP (Type)\\\n",
        ") AS sums \\\n",
        "\""
      ],
      "metadata": {
        "colab": {
          "base_uri": "https://localhost:8080/"
        },
        "id": "rpCc7d2Ul7px",
        "outputId": "4d1592df-f457-4a22-c091-26e2829a44e6"
      },
      "execution_count": 25,
      "outputs": [
        {
          "output_type": "stream",
          "name": "stdout",
          "text": [
            "   dim   | red | black | brown | totals \n",
            "---------+-----+-------+-------+--------\n",
            " totals  |   5 |     7 |     2 |     14\n",
            " SUV     |   3 |     5 |     0 |      8\n",
            " Sedan   |   0 |     2 |     2 |      4\n",
            " Compact |   2 |     0 |     0 |      2\n",
            "(4 rows)\n",
            "\n"
          ]
        }
      ]
    },
    {
      "cell_type": "markdown",
      "source": [
        "# Add an EXTRA FACT\n",
        "to normalised fact table"
      ],
      "metadata": {
        "id": "eufSwRk06p0Q"
      }
    },
    {
      "cell_type": "code",
      "source": [
        "!psql -h localhost -p 5432 -Uupraxis -ddbpraxis -c \"\\\n",
        "INSERT INTO CarSalesFact_N (Txn, Dim, DimValue) VALUES \\\n",
        " (1, 'Price', '5000'), (2, 'Price', '6000'), (3, 'Price', '5000'), (4, 'Price', '7000'), (5, 'Price', '5000'), \\\n",
        " (6, 'Price', '4000'), (7, 'Price', '3000'), (8, 'Price', '2000'), (9, 'Price', '4000'), (10, 'Price', '5000'), \\\n",
        " (11, 'Price', '4000'), (12, 'Price', '5000'), (13, 'Price', '4000'), (14, 'Price', '3000'); \\\n",
        " \"\n",
        "!psql -h localhost -p 5432 -Uupraxis -ddbpraxis -c \"select * from carsalesfact_n\"\n"
      ],
      "metadata": {
        "id": "bSpOmtnv6xJO",
        "outputId": "f4bec3c9-cc6c-4db8-bbaa-7d4cfbac3641",
        "colab": {
          "base_uri": "https://localhost:8080/"
        }
      },
      "execution_count": 26,
      "outputs": [
        {
          "output_type": "stream",
          "name": "stdout",
          "text": [
            "INSERT 0 14\n",
            " txn |  dim   | dimvalue \n",
            "-----+--------+----------\n",
            "   1 | Make   | Honda\n",
            "   1 | Type   | SUV\n",
            "   1 | Colour | Red\n",
            "   2 | Make   | Honda\n",
            "   2 | Type   | SUV\n",
            "   2 | Colour | Black\n",
            "   3 | Make   | Honda\n",
            "   3 | Type   | Sedan\n",
            "   3 | Colour | Brown\n",
            "   4 | Make   | Toyota\n",
            "   4 | Type   | Compact\n",
            "   4 | Colour | Red\n",
            "   5 | Make   | Toyota\n",
            "   5 | Colour | Black\n",
            "   5 | Type   | Sedan\n",
            "   6 | Make   | Toyota\n",
            "   6 | Colour | Black\n",
            "   6 | Type   | Sedan\n",
            "   7 | Make   | Honda\n",
            "   7 | Type   | SUV\n",
            "   7 | Colour | Black\n",
            "   8 | Make   | Honda\n",
            "   8 | Type   | SUV\n",
            "   8 | Colour | Red\n",
            "   9 | Make   | Honda\n",
            "   9 | Type   | SUV\n",
            "   9 | Colour | Black\n",
            "  10 | Make   | Honda\n",
            "  10 | Type   | SUV\n",
            "  10 | Colour | Black\n",
            "  11 | Make   | Mazda\n",
            "  11 | Type   | SUV\n",
            "  11 | Colour | Black\n",
            "  12 | Make   | Mazda\n",
            "  12 | Type   | Compact\n",
            "  12 | Colour | Red\n",
            "  13 | Make   | Mazda\n",
            "  13 | Type   | Sedan\n",
            "  13 | Colour | Brown\n",
            "  14 | Make   | Mazda\n",
            "  14 | Type   | SUV\n",
            "  14 | Colour | Red\n",
            "   1 | Price  | 5000\n",
            "   2 | Price  | 6000\n",
            "   3 | Price  | 5000\n",
            "   4 | Price  | 7000\n",
            "   5 | Price  | 5000\n",
            "   6 | Price  | 4000\n",
            "   7 | Price  | 3000\n",
            "   8 | Price  | 2000\n",
            "   9 | Price  | 4000\n",
            "  10 | Price  | 5000\n",
            "  11 | Price  | 4000\n",
            "  12 | Price  | 5000\n",
            "  13 | Price  | 4000\n",
            "  14 | Price  | 3000\n",
            "(56 rows)\n",
            "\n"
          ]
        }
      ]
    },
    {
      "cell_type": "code",
      "source": [
        "!psql -h localhost -p 5432 -Uupraxis -ddbpraxis -c \" \\\n",
        "SELECT \\\n",
        "  Txn,\\\n",
        "  string_agg(case when Dim = 'Make' then DimValue else NULL end,';') Make,\\\n",
        "  string_agg(case when Dim = 'Type' then DimValue else NULL end,';') Type,\\\n",
        "  string_agg(case when Dim = 'Colour' then DimValue else NULL end,';') Colour \\\n",
        "FROM CarSalesFact_N \\\n",
        "GROUP BY txn\\\n",
        "\""
      ],
      "metadata": {
        "id": "Z_5Y2qsM8v1N",
        "outputId": "6df85e28-3e6e-406c-da35-03d47f7e957b",
        "colab": {
          "base_uri": "https://localhost:8080/"
        }
      },
      "execution_count": 27,
      "outputs": [
        {
          "output_type": "stream",
          "name": "stdout",
          "text": [
            " txn |  make  |  type   | colour \n",
            "-----+--------+---------+--------\n",
            "   1 | Honda  | SUV     | Red\n",
            "   2 | Honda  | SUV     | Black\n",
            "   3 | Honda  | Sedan   | Brown\n",
            "   4 | Toyota | Compact | Red\n",
            "   5 | Toyota | Sedan   | Black\n",
            "   6 | Toyota | Sedan   | Black\n",
            "   7 | Honda  | SUV     | Black\n",
            "   8 | Honda  | SUV     | Red\n",
            "   9 | Honda  | SUV     | Black\n",
            "  10 | Honda  | SUV     | Black\n",
            "  11 | Mazda  | SUV     | Black\n",
            "  12 | Mazda  | Compact | Red\n",
            "  13 | Mazda  | Sedan   | Brown\n",
            "  14 | Mazda  | SUV     | Red\n",
            "(14 rows)\n",
            "\n"
          ]
        }
      ]
    },
    {
      "cell_type": "code",
      "source": [
        "!psql -h localhost -p 5432 -Uupraxis -ddbpraxis -c \" \\\n",
        "SELECT \\\n",
        "  Txn,\\\n",
        "  string_agg(case when Dim = 'Make' then DimValue else NULL end,';') Make,\\\n",
        "  string_agg(case when Dim = 'Type' then DimValue else NULL end,';') Type,\\\n",
        "  string_agg(case when Dim = 'Colour' then DimValue else NULL end,';') Colour, \\\n",
        "  string_agg(case when Dim = 'Price' then DimValue else NULL end,';') Price \\\n",
        "FROM CarSalesFact_N \\\n",
        "GROUP BY txn\\\n",
        "Order by txn \\\n",
        "\""
      ],
      "metadata": {
        "id": "Cr-9Osgx9Ify",
        "outputId": "d8c7de8a-d884-4217-8347-8a076e9eba57",
        "colab": {
          "base_uri": "https://localhost:8080/"
        }
      },
      "execution_count": 28,
      "outputs": [
        {
          "output_type": "stream",
          "name": "stdout",
          "text": [
            " txn |  make  |  type   | colour | price \n",
            "-----+--------+---------+--------+-------\n",
            "   1 | Honda  | SUV     | Red    | 5000\n",
            "   2 | Honda  | SUV     | Black  | 6000\n",
            "   3 | Honda  | Sedan   | Brown  | 5000\n",
            "   4 | Toyota | Compact | Red    | 7000\n",
            "   5 | Toyota | Sedan   | Black  | 5000\n",
            "   6 | Toyota | Sedan   | Black  | 4000\n",
            "   7 | Honda  | SUV     | Black  | 3000\n",
            "   8 | Honda  | SUV     | Red    | 2000\n",
            "   9 | Honda  | SUV     | Black  | 4000\n",
            "  10 | Honda  | SUV     | Black  | 5000\n",
            "  11 | Mazda  | SUV     | Black  | 4000\n",
            "  12 | Mazda  | Compact | Red    | 5000\n",
            "  13 | Mazda  | Sedan   | Brown  | 4000\n",
            "  14 | Mazda  | SUV     | Red    | 3000\n",
            "(14 rows)\n",
            "\n"
          ]
        }
      ]
    },
    {
      "cell_type": "markdown",
      "source": [
        "## Recreate New Fact Table"
      ],
      "metadata": {
        "id": "dTYw72rj3mla"
      }
    },
    {
      "cell_type": "code",
      "source": [
        "ddl = \"\\\n",
        "drop table if exists CarSalesFact_S2; \\\n",
        "create table CarSalesFact_S2 as ( \\\n",
        "    select  csf0.Make, csf0.Type, csf0.Colour, count(txn) units, sum(csf0.price::int) sales from \\\n",
        "        ( \\\n",
        "        SELECT \\\n",
        "        Txn,\\\n",
        "        string_agg(case when Dim = 'Make' then DimValue else NULL end,';') Make,\\\n",
        "        string_agg(case when Dim = 'Type' then DimValue else NULL end,';') Type,\\\n",
        "        string_agg(case when Dim = 'Colour' then DimValue else NULL end,';') Colour, \\\n",
        "        string_agg(case when Dim = 'Price' then DimValue else NULL end,';') Price \\\n",
        "        FROM CarSalesFact_N \\\n",
        "        GROUP BY txn\\\n",
        "        ) as csf0 \\\n",
        "    group by \\\n",
        "    csf0.Make, csf0.Type, csf0.Colour \\\n",
        "    )\\\n",
        "\"\n",
        "runCmd(ddl)"
      ],
      "metadata": {
        "id": "ZZgn8WUe-Ose",
        "outputId": "f25d2332-70f2-4cec-a603-72aaf9211216",
        "colab": {
          "base_uri": "https://localhost:8080/"
        }
      },
      "execution_count": 29,
      "outputs": [
        {
          "output_type": "stream",
          "name": "stdout",
          "text": [
            "Command executed\n"
          ]
        }
      ]
    },
    {
      "cell_type": "code",
      "source": [
        "!psql -h localhost -p 5432 -Uupraxis -ddbpraxis -c \"select * from carsalesfact_s2\""
      ],
      "metadata": {
        "id": "yNBkCZYa_E1x",
        "outputId": "5d5e7ed1-402d-4064-b44c-c6195e0accfe",
        "colab": {
          "base_uri": "https://localhost:8080/"
        }
      },
      "execution_count": 30,
      "outputs": [
        {
          "output_type": "stream",
          "name": "stdout",
          "text": [
            "  make  |  type   | colour | units | sales \n",
            "--------+---------+--------+-------+-------\n",
            " Honda  | SUV     | Red    |     2 |  7000\n",
            " Honda  | SUV     | Black  |     4 | 18000\n",
            " Toyota | Compact | Red    |     1 |  7000\n",
            " Mazda  | Compact | Red    |     1 |  5000\n",
            " Mazda  | SUV     | Red    |     1 |  3000\n",
            " Toyota | Sedan   | Black  |     2 |  9000\n",
            " Honda  | Sedan   | Brown  |     1 |  5000\n",
            " Mazda  | Sedan   | Brown  |     1 |  4000\n",
            " Mazda  | SUV     | Black  |     1 |  4000\n",
            "(9 rows)\n",
            "\n"
          ]
        }
      ]
    },
    {
      "cell_type": "markdown",
      "source": [
        "## Simple Group By"
      ],
      "metadata": {
        "id": "kCJ8uZAY396Z"
      }
    },
    {
      "cell_type": "code",
      "source": [
        "!psql -h localhost -p 5432 -Uupraxis -ddbpraxis -c \"\\\n",
        "select Make, Type, sum(Units) Count, sum(Sales) TotalSales from carsalesfact_s2 \\\n",
        "group by Make, Type \\\n",
        "\""
      ],
      "metadata": {
        "id": "SQ8XgjOz4Ifh",
        "outputId": "ffc63d28-7e80-4d6d-e5e9-49a8ddab2655",
        "colab": {
          "base_uri": "https://localhost:8080/"
        }
      },
      "execution_count": 31,
      "outputs": [
        {
          "output_type": "stream",
          "name": "stdout",
          "text": [
            "  make  |  type   | count | totalsales \n",
            "--------+---------+-------+------------\n",
            " Mazda  | SUV     |     2 |       7000\n",
            " Honda  | SUV     |     6 |      25000\n",
            " Mazda  | Sedan   |     1 |       4000\n",
            " Toyota | Compact |     1 |       7000\n",
            " Toyota | Sedan   |     2 |       9000\n",
            " Honda  | Sedan   |     1 |       5000\n",
            " Mazda  | Compact |     1 |       5000\n",
            "(7 rows)\n",
            "\n"
          ]
        }
      ]
    },
    {
      "cell_type": "code",
      "source": [
        "!psql -h localhost -p 5432 -Uupraxis -ddbpraxis -c \"\\\n",
        "select Make, Type, sum(Units) Count, sum(Sales) TotalSales from carsalesfact_s2 \\\n",
        "group by rollup(Make, Type) \\\n",
        "\""
      ],
      "metadata": {
        "id": "ojJ849Py5Mik",
        "outputId": "db67f5d3-be32-41cc-be5f-be91e529d61a",
        "colab": {
          "base_uri": "https://localhost:8080/"
        }
      },
      "execution_count": 32,
      "outputs": [
        {
          "output_type": "stream",
          "name": "stdout",
          "text": [
            "  make  |  type   | count | totalsales \n",
            "--------+---------+-------+------------\n",
            "        |         |    14 |      62000\n",
            " Mazda  | SUV     |     2 |       7000\n",
            " Honda  | SUV     |     6 |      25000\n",
            " Mazda  | Sedan   |     1 |       4000\n",
            " Toyota | Compact |     1 |       7000\n",
            " Toyota | Sedan   |     2 |       9000\n",
            " Honda  | Sedan   |     1 |       5000\n",
            " Mazda  | Compact |     1 |       5000\n",
            " Honda  |         |     7 |      30000\n",
            " Toyota |         |     3 |      16000\n",
            " Mazda  |         |     4 |      16000\n",
            "(11 rows)\n",
            "\n"
          ]
        }
      ]
    },
    {
      "cell_type": "markdown",
      "source": [
        "## Two Full Pivot Tables"
      ],
      "metadata": {
        "id": "ScygUGgjNLe_"
      }
    },
    {
      "cell_type": "code",
      "source": [
        "!psql -h localhost -p 5432 -Uupraxis -ddbpraxis -c  \"\\\n",
        "SELECT \\\n",
        "COALESCE(Make, 'totals') AS Dim, \\\n",
        "sums.SUV, sums.Sedan, sums.Compact,\\\n",
        "sums.SUV + sums.Sedan + sums.Compact  Totals \\\n",
        "FROM ( \\\n",
        "  SELECT \\\n",
        "    Make, \\\n",
        "\tsum(case when (Type = 'Sedan') then Units else 0 end) as Sedan,\\\n",
        "\tsum(case when (Type = 'SUV') then Units else 0 end) as SUV,\\\n",
        "\tsum(case when (Type = 'Compact') then Units else 0 end) as Compact\\\n",
        "  FROM CarSalesFact_S2\\\n",
        "  GROUP BY ROLLUP (Make)\\\n",
        ") AS sums \\\n",
        "\""
      ],
      "metadata": {
        "id": "Q2AO2v2NHB_F",
        "outputId": "e99ba416-e35f-4095-c602-2b58c4c1b6fe",
        "colab": {
          "base_uri": "https://localhost:8080/"
        }
      },
      "execution_count": 33,
      "outputs": [
        {
          "output_type": "stream",
          "name": "stdout",
          "text": [
            "  dim   | suv | sedan | compact | totals \n",
            "--------+-----+-------+---------+--------\n",
            " totals |   8 |     4 |       2 |     14\n",
            " Honda  |   6 |     1 |       0 |      7\n",
            " Toyota |   0 |     2 |       1 |      3\n",
            " Mazda  |   2 |     1 |       1 |      4\n",
            "(4 rows)\n",
            "\n"
          ]
        }
      ]
    },
    {
      "cell_type": "code",
      "source": [
        "!psql -h localhost -p 5432 -Uupraxis -ddbpraxis -c  \"\\\n",
        "SELECT \\\n",
        "COALESCE(Make, 'totals') AS Dim, \\\n",
        "sums.SUV, sums.Sedan, sums.Compact,\\\n",
        "sums.SUV + sums.Sedan + sums.Compact  Totals \\\n",
        "FROM ( \\\n",
        "  SELECT \\\n",
        "    Make, \\\n",
        "\tsum(case when (Type = 'Sedan') then Sales else 0 end) as Sedan,\\\n",
        "\tsum(case when (Type = 'SUV') then Sales else 0 end) as SUV,\\\n",
        "\tsum(case when (Type = 'Compact') then Sales else 0 end) as Compact\\\n",
        "  FROM CarSalesFact_S2\\\n",
        "  GROUP BY ROLLUP (Make)\\\n",
        ") AS sums \\\n",
        "\""
      ],
      "metadata": {
        "id": "FHIML5pHHNI0",
        "outputId": "c3e1302f-571d-458c-c103-9a5c9eaa18d3",
        "colab": {
          "base_uri": "https://localhost:8080/"
        }
      },
      "execution_count": 34,
      "outputs": [
        {
          "output_type": "stream",
          "name": "stdout",
          "text": [
            "  dim   |  suv  | sedan | compact | totals \n",
            "--------+-------+-------+---------+--------\n",
            " totals | 32000 | 18000 |   12000 |  62000\n",
            " Honda  | 25000 |  5000 |       0 |  30000\n",
            " Toyota |     0 |  9000 |    7000 |  16000\n",
            " Mazda  |  7000 |  4000 |    5000 |  16000\n",
            "(4 rows)\n",
            "\n"
          ]
        }
      ]
    },
    {
      "cell_type": "markdown",
      "source": [
        "# FOUR level Nested Select\n",
        "to eliminate the need for the intermediate table"
      ],
      "metadata": {
        "id": "A_Hhh7KhNjb5"
      }
    },
    {
      "cell_type": "code",
      "source": [
        "!psql -h localhost -p 5432 -Uupraxis -ddbpraxis -c  \"\\\n",
        "SELECT \\\n",
        "COALESCE(Make, 'totals') AS Dim, \\\n",
        "sums.SUV, sums.Sedan, sums.Compact,\\\n",
        "sums.SUV + sums.Sedan + sums.Compact  Totals \\\n",
        "FROM ( \\\n",
        "  SELECT \\\n",
        "    Make, \\\n",
        "\tsum(case when (Type = 'Sedan') then Sales else 0 end) as Sedan,\\\n",
        "\tsum(case when (Type = 'SUV') then Sales else 0 end) as SUV,\\\n",
        "\tsum(case when (Type = 'Compact') then Sales else 0 end) as Compact\\\n",
        "  FROM (\\\n",
        "       select  csf0.Make, csf0.Type, csf0.Colour, count(txn) units, sum(csf0.price::int) sales from \\\n",
        "        ( \\\n",
        "        SELECT \\\n",
        "        Txn,\\\n",
        "        string_agg(case when Dim = 'Make' then DimValue else NULL end,';') Make,\\\n",
        "        string_agg(case when Dim = 'Type' then DimValue else NULL end,';') Type,\\\n",
        "        string_agg(case when Dim = 'Colour' then DimValue else NULL end,';') Colour, \\\n",
        "        string_agg(case when Dim = 'Price' then DimValue else NULL end,';') Price \\\n",
        "        FROM CarSalesFact_N \\\n",
        "        GROUP BY txn\\\n",
        "        ) as csf0 \\\n",
        "    group by \\\n",
        "    csf0.Make, csf0.Type, csf0.Colour \\\n",
        "    ) as csf4\\\n",
        "  GROUP BY ROLLUP (Make)\\\n",
        ") AS sums \\\n",
        "\""
      ],
      "metadata": {
        "id": "4XMvS7yKNtI2",
        "outputId": "3d455064-3f35-4990-d7f5-fd667c13f761",
        "colab": {
          "base_uri": "https://localhost:8080/"
        }
      },
      "execution_count": 35,
      "outputs": [
        {
          "output_type": "stream",
          "name": "stdout",
          "text": [
            "  dim   |  suv  | sedan | compact | totals \n",
            "--------+-------+-------+---------+--------\n",
            " totals | 32000 | 18000 |   12000 |  62000\n",
            " Honda  | 25000 |  5000 |       0 |  30000\n",
            " Toyota |     0 |  9000 |    7000 |  16000\n",
            " Mazda  |  7000 |  4000 |    5000 |  16000\n",
            "(4 rows)\n",
            "\n"
          ]
        }
      ]
    },
    {
      "cell_type": "code",
      "source": [
        "!psql -h localhost -p 5432 -Uupraxis -ddbpraxis -c  \"\\\n",
        "SELECT \\\n",
        "COALESCE(Make, 'totals') AS Dim, \\\n",
        "sums.SUV, sums.Sedan, sums.Compact,\\\n",
        "sums.SUV + sums.Sedan + sums.Compact  Totals \\\n",
        "FROM ( \\\n",
        "  SELECT \\\n",
        "    Make, \\\n",
        "\tsum(case when (Type = 'Sedan') then Units else 0 end) as Sedan,\\\n",
        "\tsum(case when (Type = 'SUV') then Units else 0 end) as SUV,\\\n",
        "\tsum(case when (Type = 'Compact') then Units else 0 end) as Compact\\\n",
        "  FROM (\\\n",
        "       select  csf0.Make, csf0.Type, csf0.Colour, count(txn) units, sum(csf0.price::int) sales from \\\n",
        "        ( \\\n",
        "        SELECT \\\n",
        "        Txn,\\\n",
        "        string_agg(case when Dim = 'Make' then DimValue else NULL end,';') Make,\\\n",
        "        string_agg(case when Dim = 'Type' then DimValue else NULL end,';') Type,\\\n",
        "        string_agg(case when Dim = 'Colour' then DimValue else NULL end,';') Colour, \\\n",
        "        string_agg(case when Dim = 'Price' then DimValue else NULL end,';') Price \\\n",
        "        FROM CarSalesFact_N \\\n",
        "        GROUP BY txn\\\n",
        "        ) as csf0 \\\n",
        "    group by \\\n",
        "    csf0.Make, csf0.Type, csf0.Colour \\\n",
        "    ) as csf4\\\n",
        "  GROUP BY ROLLUP (Make)\\\n",
        ") AS sums \\\n",
        "\""
      ],
      "metadata": {
        "id": "B9DzHiCmP5qp",
        "outputId": "c50082e6-13ac-4b2c-bbc3-b0b07baa7def",
        "colab": {
          "base_uri": "https://localhost:8080/"
        }
      },
      "execution_count": 36,
      "outputs": [
        {
          "output_type": "stream",
          "name": "stdout",
          "text": [
            "  dim   | suv | sedan | compact | totals \n",
            "--------+-----+-------+---------+--------\n",
            " totals |   8 |     4 |       2 |     14\n",
            " Honda  |   6 |     1 |       0 |      7\n",
            " Toyota |   0 |     2 |       1 |      3\n",
            " Mazda  |   2 |     1 |       1 |      4\n",
            "(4 rows)\n",
            "\n"
          ]
        }
      ]
    },
    {
      "cell_type": "markdown",
      "source": [
        "#Chronobooks <br>\n",
        "Two science fiction novels by Prithwis Mukerjee. A dystopian Earth. A technocratic society managed by artificial intelligence. Escape and epiphany on Mars. Can man and machine, carbon and silicon explore and escape into other dimensions of existence? An Indic perspective rooted in Advaita Vedanta and the Divine Feminine.  [More information](http://bit.ly/chronobooks) <br>\n",
        "![alt text](https://github.com/Praxis-QR/RDWH/raw/main/images/CTCYFooter-1.png)"
      ],
      "metadata": {
        "id": "_gNiZpyW3AzJ"
      }
    },
    {
      "cell_type": "code",
      "source": [
        "from datetime import datetime\n",
        "import pytz\n",
        "print('Tested on ',datetime.now(pytz.timezone('Asia/Calcutta')))"
      ],
      "metadata": {
        "id": "y12ZSnsERnBf",
        "outputId": "987c3ac8-0e4a-41c2-fad2-a838182ec199",
        "colab": {
          "base_uri": "https://localhost:8080/"
        }
      },
      "execution_count": 37,
      "outputs": [
        {
          "output_type": "stream",
          "name": "stdout",
          "text": [
            "Tested on  2024-01-16 10:35:15.581200+05:30\n"
          ]
        }
      ]
    }
  ]
}