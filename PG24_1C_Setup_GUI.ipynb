{
  "nbformat": 4,
  "nbformat_minor": 0,
  "metadata": {
    "colab": {
      "provenance": [],
      "include_colab_link": true
    },
    "kernelspec": {
      "name": "python3",
      "display_name": "Python 3"
    },
    "language_info": {
      "name": "python"
    }
  },
  "cells": [
    {
      "cell_type": "markdown",
      "metadata": {
        "id": "view-in-github",
        "colab_type": "text"
      },
      "source": [
        "<a href=\"https://colab.research.google.com/github/Praxis-QR/RDWH/blob/main/PG24_1C_Setup_GUI.ipynb\" target=\"_parent\"><img src=\"https://colab.research.google.com/assets/colab-badge.svg\" alt=\"Open In Colab\"/></a>"
      ]
    },
    {
      "cell_type": "markdown",
      "source": [
        "![alt text](https://github.com/Praxis-QR/RDWH/raw/main/images/YantraJaalBanner.png)<br>\n",
        "\n",
        "\n",
        "<hr>\n",
        "\n",
        "[Prithwis Mukerjee](http://www.linkedin.com/in/prithwis)<br>"
      ],
      "metadata": {
        "id": "DBzz-qaN2tKu"
      }
    },
    {
      "cell_type": "code",
      "source": [
        "from datetime import datetime\n",
        "import pytz\n",
        "print('ॐ श्री सरस्वत्यै नमः',datetime.now(pytz.timezone('Asia/Calcutta')))\n",
        "!python --version\n",
        "!lsb_release -a"
      ],
      "metadata": {
        "colab": {
          "base_uri": "https://localhost:8080/"
        },
        "id": "2oSx6H-2_IFF",
        "outputId": "ca56334d-5dd5-435b-ccda-ccc877e217c5"
      },
      "execution_count": 1,
      "outputs": [
        {
          "output_type": "stream",
          "name": "stdout",
          "text": [
            "ॐ श्री सरस्वत्यै नमः 2024-02-25 16:50:56.785104+05:30\n",
            "Python 3.10.12\n",
            "No LSB modules are available.\n",
            "Distributor ID:\tUbuntu\n",
            "Description:\tUbuntu 22.04.3 LTS\n",
            "Release:\t22.04\n",
            "Codename:\tjammy\n"
          ]
        }
      ]
    },
    {
      "cell_type": "markdown",
      "source": [
        "#Install"
      ],
      "metadata": {
        "id": "nD-QawLT6kDr"
      }
    },
    {
      "cell_type": "code",
      "source": [
        "# Install postgresql server\n",
        "\n",
        "!apt update > /dev/null\n",
        "!apt install postgresql > /dev/null\n",
        "#\n",
        "!psql -V\n",
        "!service postgresql start"
      ],
      "metadata": {
        "colab": {
          "base_uri": "https://localhost:8080/"
        },
        "id": "o_RaqE0OOHP3",
        "outputId": "5eae7f38-a258-47df-ebbf-9fbf8a3f3af6"
      },
      "execution_count": 2,
      "outputs": [
        {
          "output_type": "stream",
          "name": "stdout",
          "text": [
            "\n",
            "WARNING: apt does not have a stable CLI interface. Use with caution in scripts.\n",
            "\n",
            "\n",
            "WARNING: apt does not have a stable CLI interface. Use with caution in scripts.\n",
            "\n",
            "psql (PostgreSQL) 14.10 (Ubuntu 14.10-0ubuntu0.22.04.1)\n",
            " * Starting PostgreSQL 14 database server\n",
            "   ...done.\n"
          ]
        }
      ]
    },
    {
      "cell_type": "markdown",
      "source": [
        "## Basic Configuration"
      ],
      "metadata": {
        "id": "--pn1fPO6ndu"
      }
    },
    {
      "cell_type": "code",
      "source": [
        "# This install creates an Ubuntu user 'postgres' AND a Postgres database user 'postgres' both of which are superusers\n",
        "#!cat /etc/passwd\n",
        "# Use these users to create a new database user called 'upraxis' and give it a password 'upass'\n",
        "#!sudo -u postgres createuser --superuser upraxis\n",
        "!sudo -u postgres createuser upraxis\n",
        "!sudo -u postgres psql -U postgres -c \"ALTER USER upraxis PASSWORD 'upass';\"\n",
        "# Change the database superuser 'postgres' to a non-default value 'pass'\n",
        "!sudo -u postgres psql -U postgres -c \"ALTER USER postgres PASSWORD 'pass';\"\n",
        "#\n",
        "# Use ubuntu superuser to create database dbpraxis and set its owner to upraxis\n",
        "!sudo -u postgres createdb -O upraxis dbpraxis\n",
        "#\n",
        "# Create file to store the password. Else will be prompted each time\n",
        "!echo \"localhost:5432:dbpraxis:postgres:pass\" > ~/.pgpass\n",
        "!echo \"localhost:5432:dbpraxis:upraxis:upass\" >> ~/.pgpass\n",
        "!chmod 0600 ~/.pgpass\n",
        "!cat ~/.pgpass"
      ],
      "metadata": {
        "colab": {
          "base_uri": "https://localhost:8080/"
        },
        "id": "xr5kHaY_U4CZ",
        "outputId": "ab2c3b67-3981-43d5-bae2-aaf6a8ea1b01"
      },
      "execution_count": 3,
      "outputs": [
        {
          "output_type": "stream",
          "name": "stdout",
          "text": [
            "ALTER ROLE\n",
            "ALTER ROLE\n",
            "localhost:5432:dbpraxis:postgres:pass\n",
            "localhost:5432:dbpraxis:upraxis:upass\n"
          ]
        }
      ]
    },
    {
      "cell_type": "markdown",
      "source": [
        "#Local Database"
      ],
      "metadata": {
        "id": "pHTdNzrU6qUE"
      }
    },
    {
      "cell_type": "markdown",
      "source": [
        "## Create Two Tables"
      ],
      "metadata": {
        "id": "uo61Cp0oaPHL"
      }
    },
    {
      "cell_type": "code",
      "source": [
        "# Create Two tables using command line interface\n",
        "#\n",
        "!psql -h localhost -p 5432 -Uupraxis -ddbpraxis -c \\\n",
        "'drop table if exists dept;\\\n",
        "create table dept (\\\n",
        "    deptid char(2),\\\n",
        "    deptname varchar(20),\\\n",
        "    managerid char(6),\\\n",
        "    location varchar(10)\\\n",
        "    );'\n",
        "\n",
        "!psql -h localhost -p 5432 -Uupraxis -ddbpraxis -c \\\n",
        "\"drop table if exists empl;\\\n",
        "create table empl \\\n",
        "(empid char(6),\\\n",
        "    lastname varchar(20),\\\n",
        "    firstname varchar(20),\\\n",
        "    jobdesc varchar(10),\\\n",
        "    joindate date,\\\n",
        "    salary int,\\\n",
        "    comm decimal(3,2),\\\n",
        "    deptid char(2)\\\n",
        "    );\\\n",
        "\""
      ],
      "metadata": {
        "colab": {
          "base_uri": "https://localhost:8080/"
        },
        "id": "DsUZ9JlEXIir",
        "outputId": "6f93cfe7-8c6b-4616-a72f-816bf9588a06"
      },
      "execution_count": 4,
      "outputs": [
        {
          "output_type": "stream",
          "name": "stdout",
          "text": [
            "NOTICE:  table \"dept\" does not exist, skipping\n",
            "CREATE TABLE\n",
            "NOTICE:  table \"empl\" does not exist, skipping\n",
            "CREATE TABLE\n"
          ]
        }
      ]
    },
    {
      "cell_type": "markdown",
      "source": [
        "## Load Data - Insert Option"
      ],
      "metadata": {
        "id": "9_OLx3qk_7qR"
      }
    },
    {
      "cell_type": "code",
      "source": [
        "#!psql -h localhost -p 5432 -Upostgres -dpraxisdb -c \"INSERT INTO Dept (DeptID, DeptName, ManagerID, Location) VALUES \\\n",
        "!psql -h localhost -p 5432 -Uupraxis -ddbpraxis -c \"INSERT INTO Dept (DeptID, DeptName, ManagerID, Location) VALUES \\\n",
        "\t('10', 'Corporate', '299034', 'Calcutta'), \\\n",
        "\t('20', 'Sales', '239456', 'Calcutta'), \\\n",
        "\t('30', 'Accounts', '822134', 'Calcutta'), \\\n",
        "\t('40', 'Production', '349870', 'Bombay');\"\n",
        "\n",
        "#!psql -h localhost -p 5432 -Upostgres -dpraxisdb -c \\\n",
        "!psql -h localhost -p 5432 -Uupraxis -ddbpraxis -c \\\n",
        "\"INSERT INTO Empl (EmpID, LastName, FirstName, JobDesc, JoinDate, Salary, Comm, DeptID) \\\n",
        "    VALUES \\\n",
        "\t('742866', 'Bacchan', 'Amitabh', 'Executive', '2003-03-10', 50000, 0.1, '10'), \\\n",
        "\t('349870', 'Mukherjee', 'Rani', 'Manager', '2005-05-04', 25000, 0.06, '40'), \\\n",
        "\t('865477', 'Dikshit', 'Madhuri', 'Clerk', '2002-04-04', 10000, 0.02, '20'), \\\n",
        "\t('239456', 'Khan', 'Shahrukh', 'Manager', '2004-01-03', 30000, 0.07, '20'), \\\n",
        "\t('897889', 'Sehwag', 'Virender', 'Cus_Rep', '2005-01-02', 15000, 0.05, '20'), \\\n",
        "\t('123980', 'Dhoni', 'Mahender', 'Clerk', '2004-10-09', 9000, 0.02, '40'), \\\n",
        "\t('822134', 'Dravid', 'Rahul', 'Sr Manager', '2000-06-04', 40000, 0.08, '30'), \\\n",
        "\t('997445', 'Dalmia', 'Jagmohan', 'Clerk', '2001-07-01', 12000, 0.02, '30'), \\\n",
        "\t('989007', 'Ganguly', 'Sourav', 'Cus_Rep', '2002-01-01', 20000, 0.03, '40'), \\\n",
        "\t('299034', 'Ganesan', 'Rekha', 'Director', '2002-10-10', 60000, 0.11, '10'), \\\n",
        "\t('546223', 'Karthikeyan', 'Narayan', 'Secretary', '2005-12-04', 40000, 0.09, '10'), \\\n",
        "\t('223112', 'Mirza', 'Sania', 'Cus_Rep', '2001-11-19', 25000, 0.04, '30');\""
      ],
      "metadata": {
        "colab": {
          "base_uri": "https://localhost:8080/"
        },
        "id": "WhL5hfIF2DMn",
        "outputId": "c5fde4a4-617f-458f-b16d-8035cc3a701d"
      },
      "execution_count": 5,
      "outputs": [
        {
          "output_type": "stream",
          "name": "stdout",
          "text": [
            "INSERT 0 4\n",
            "INSERT 0 12\n"
          ]
        }
      ]
    },
    {
      "cell_type": "markdown",
      "source": [
        "## View Data"
      ],
      "metadata": {
        "id": "hZscFeNNB1ja"
      }
    },
    {
      "cell_type": "code",
      "source": [
        "#!psql -h localhost -p 5432 -Upostgres -dpraxisdb -c \"select * from dept;\"\n",
        "!psql -h localhost -p 5432 -Uupraxis -ddbpraxis -c \"select * from dept;\""
      ],
      "metadata": {
        "colab": {
          "base_uri": "https://localhost:8080/"
        },
        "id": "HyBUhbAI2PV1",
        "outputId": "a4ddf571-5923-4039-cf4d-9b26d36b20bf"
      },
      "execution_count": 6,
      "outputs": [
        {
          "output_type": "stream",
          "name": "stdout",
          "text": [
            " deptid |  deptname  | managerid | location \n",
            "--------+------------+-----------+----------\n",
            " 10     | Corporate  | 299034    | Calcutta\n",
            " 20     | Sales      | 239456    | Calcutta\n",
            " 30     | Accounts   | 822134    | Calcutta\n",
            " 40     | Production | 349870    | Bombay\n",
            "(4 rows)\n",
            "\n"
          ]
        }
      ]
    },
    {
      "cell_type": "code",
      "source": [
        "#!psql -h localhost -p 5432 -U postgres -d praxisdb -c \"select * from empl;\"\n",
        "!psql -h localhost -p 5432 -U upraxis -d dbpraxis -c \"select * from empl;\""
      ],
      "metadata": {
        "colab": {
          "base_uri": "https://localhost:8080/"
        },
        "id": "byY2iccO4ctF",
        "outputId": "592fb07a-4158-49b6-845c-0798243dec74"
      },
      "execution_count": 7,
      "outputs": [
        {
          "output_type": "stream",
          "name": "stdout",
          "text": [
            " empid  |  lastname   | firstname |  jobdesc   |  joindate  | salary | comm | deptid \n",
            "--------+-------------+-----------+------------+------------+--------+------+--------\n",
            " 742866 | Bacchan     | Amitabh   | Executive  | 2003-03-10 |  50000 | 0.10 | 10\n",
            " 349870 | Mukherjee   | Rani      | Manager    | 2005-05-04 |  25000 | 0.06 | 40\n",
            " 865477 | Dikshit     | Madhuri   | Clerk      | 2002-04-04 |  10000 | 0.02 | 20\n",
            " 239456 | Khan        | Shahrukh  | Manager    | 2004-01-03 |  30000 | 0.07 | 20\n",
            " 897889 | Sehwag      | Virender  | Cus_Rep    | 2005-01-02 |  15000 | 0.05 | 20\n",
            " 123980 | Dhoni       | Mahender  | Clerk      | 2004-10-09 |   9000 | 0.02 | 40\n",
            " 822134 | Dravid      | Rahul     | Sr Manager | 2000-06-04 |  40000 | 0.08 | 30\n",
            " 997445 | Dalmia      | Jagmohan  | Clerk      | 2001-07-01 |  12000 | 0.02 | 30\n",
            " 989007 | Ganguly     | Sourav    | Cus_Rep    | 2002-01-01 |  20000 | 0.03 | 40\n",
            " 299034 | Ganesan     | Rekha     | Director   | 2002-10-10 |  60000 | 0.11 | 10\n",
            " 546223 | Karthikeyan | Narayan   | Secretary  | 2005-12-04 |  40000 | 0.09 | 10\n",
            " 223112 | Mirza       | Sania     | Cus_Rep    | 2001-11-19 |  25000 | 0.04 | 30\n",
            "(12 rows)\n",
            "\n"
          ]
        }
      ]
    },
    {
      "cell_type": "markdown",
      "source": [
        "# Additional Configuration for External GUI Access\n",
        "https://blog.devart.com/configure-postgresql-to-allow-remote-connection.html"
      ],
      "metadata": {
        "id": "OO5z-0bHFLiL"
      }
    },
    {
      "cell_type": "code",
      "source": [
        "# Check for existence of configuration files\n",
        "#\n",
        "#!ls /etc/postgresql/14/main/postgresql.conf\n",
        "#!ls /etc/postgresql/14/main/pg_hba.conf\n",
        "#\n",
        "# Note the two lines that have to be modified\n",
        "#\n",
        "!cat /etc/postgresql/14/main/postgresql.conf | grep \"#listen_addresses = \"\n",
        "!cat /etc/postgresql/14/main/pg_hba.conf | grep \"host    all             all             127.0.0.1/32            scram-sha-256\"\n",
        "#\n",
        "# Create backup for these two files\n",
        "!cp /etc/postgresql/14/main/postgresql.conf /etc/postgresql/14/main/postgresql.conf_bak\n",
        "!cp /etc/postgresql/14/main/pg_hba.conf /etc/postgresql/14/main/pg_hba.conf_bak\n",
        "#!ls /etc/postgresql/14/main/*.conf*\n",
        "#\n",
        "# Change / Edit these two files\n",
        "#\n",
        "!sed -i \"s/#listen_addresses = 'localhost'/listen_addresses = '*'/g\" /etc/postgresql/14/main/postgresql.conf\n",
        "!sed -i \"s\\host    all             all             127.0.0.1/32            scram-sha-256\\host    all             all             0.0.0.0/0            scram-sha-256\\g\" /etc/postgresql/14/main/pg_hba.conf\n",
        "#\n",
        "# Note that changes have been saved\n",
        "#\n",
        "!cat /etc/postgresql/14/main/postgresql.conf | grep \"listen_addresses = \"\n",
        "!cat /etc/postgresql/14/main/pg_hba.conf | grep \"host    all             all             0.0.0.0/0            scram-sha-256\"\n",
        "#\n",
        "# Firewall configuration not required\n",
        "#!sudo ufw allow 5432/tcp\n",
        "#\n",
        "# Restart server\n",
        "!service postgresql start\n"
      ],
      "metadata": {
        "colab": {
          "base_uri": "https://localhost:8080/"
        },
        "id": "jw9IfTgxFQYw",
        "outputId": "46a8d5f0-0a31-487c-d1c1-26d374e494c2"
      },
      "execution_count": 8,
      "outputs": [
        {
          "output_type": "stream",
          "name": "stdout",
          "text": [
            "#listen_addresses = 'localhost'\t\t# what IP address(es) to listen on;\n",
            "host    all             all             127.0.0.1/32            scram-sha-256\n",
            "listen_addresses = '*'\t\t# what IP address(es) to listen on;\n",
            "host    all             all             0.0.0.0/0            scram-sha-256\n",
            " * Starting PostgreSQL 14 database server\n",
            "   ...done.\n"
          ]
        }
      ]
    },
    {
      "cell_type": "markdown",
      "source": [
        "# Setting up Tunnel"
      ],
      "metadata": {
        "id": "citYrr4yM0OE"
      }
    },
    {
      "cell_type": "code",
      "source": [
        "from google.colab import drive\n",
        "drive.mount('/content/drive')\n",
        "\n",
        "!cp /content/drive/'My Drive'/Praxis/WebCredentials/ngrokToken.py .\n",
        "# credential file for Prithwis Mukerjee\n",
        "# this file needs to be uploaded into the VM\n",
        "\n",
        "from ngrokToken import ngrokToken\n",
        "\n",
        "#for the sake of privacy\n",
        "#the following credentials need to be stored in a text file called ngrokToken.py\n",
        "\n",
        "\n",
        "#otherwise, the values can be directly placed here\n",
        "\n",
        "#ngrokToken = 'xxxxxxxxxxxxxxx'   # uncomment this line and place your own credentials here\n",
        "#token is available at https://dashboard.ngrok.com/get-started/setup\n",
        "\n",
        "\n",
        "#print(ngrokToken)\n",
        "ngrokTokenCmd = 'ngrok authtoken '+ngrokToken"
      ],
      "metadata": {
        "colab": {
          "base_uri": "https://localhost:8080/"
        },
        "id": "3NRO9YnhNB7V",
        "outputId": "565715dc-599a-4e2a-b60e-f997e0433245"
      },
      "execution_count": 9,
      "outputs": [
        {
          "output_type": "stream",
          "name": "stdout",
          "text": [
            "Mounted at /content/drive\n"
          ]
        }
      ]
    },
    {
      "cell_type": "code",
      "source": [
        "!pip -q install pyngrok\n",
        "\n",
        "from pyngrok import ngrok\n",
        "# you may place the token directly here\n",
        "#!ngrok authtoken xxxxxxxxxxxxxxxxxxxxxxxxxxxxxx\n",
        "get_ipython().system_raw(ngrokTokenCmd)"
      ],
      "metadata": {
        "id": "72W_6r5eMzZu"
      },
      "execution_count": 10,
      "outputs": []
    },
    {
      "cell_type": "code",
      "source": [
        "tcp_tunnel = ngrok.connect(5432, \"tcp\")\n",
        "tcp_tunnel\n",
        "tHost = str(tcp_tunnel)[20:40]\n",
        "print('Tunnel to MySQL is at ',tHost)"
      ],
      "metadata": {
        "colab": {
          "base_uri": "https://localhost:8080/"
        },
        "id": "CtNNFPfZNc2q",
        "outputId": "a12f84c5-633d-46a4-f4b6-28bdc69a232c"
      },
      "execution_count": 11,
      "outputs": [
        {
          "output_type": "stream",
          "name": "stdout",
          "text": [
            "Tunnel to MySQL is at  2.tcp.ngrok.io:13781\n"
          ]
        }
      ]
    },
    {
      "cell_type": "code",
      "source": [
        "!curl -s http://localhost:4040/api/tunnels | python3 -c \\\n",
        "    \"import sys, json; print(json.load(sys.stdin)['tunnels'][0]['public_url'])\""
      ],
      "metadata": {
        "id": "JwGl6e9bytGz",
        "outputId": "9bfc48f1-80c6-41d3-ab29-62298d66db08",
        "colab": {
          "base_uri": "https://localhost:8080/"
        }
      },
      "execution_count": 12,
      "outputs": [
        {
          "output_type": "stream",
          "name": "stdout",
          "text": [
            "tcp://2.tcp.ngrok.io:13781\n"
          ]
        }
      ]
    },
    {
      "cell_type": "code",
      "source": [
        "# Check access through tunnel\n",
        "# Password will be required\n",
        "#\n",
        "!psql -h 2.tcp.ngrok.io -p 13781 -U upraxis -d dbpraxis -c \"select * from dept;\""
      ],
      "metadata": {
        "colab": {
          "base_uri": "https://localhost:8080/"
        },
        "id": "bALNbm6EPcA0",
        "outputId": "feb2a48b-60d0-4a0f-ef02-ae7eb4eb63d7"
      },
      "execution_count": 13,
      "outputs": [
        {
          "output_type": "stream",
          "name": "stdout",
          "text": [
            "Password for user upraxis: \n",
            " deptid |  deptname  | managerid | location \n",
            "--------+------------+-----------+----------\n",
            " 10     | Corporate  | 299034    | Calcutta\n",
            " 20     | Sales      | 239456    | Calcutta\n",
            " 30     | Accounts   | 822134    | Calcutta\n",
            " 40     | Production | 349870    | Bombay\n",
            "(4 rows)\n",
            "\n"
          ]
        }
      ]
    },
    {
      "cell_type": "code",
      "source": [
        "disConnectURL = 'tcp://'+tHost\n",
        "# Incase we need to disconnect the ngrok tunnel, uncomment and execute the line below\n",
        "ngrok.disconnect(disConnectURL)"
      ],
      "metadata": {
        "id": "6PgOOktlTRwk"
      },
      "execution_count": null,
      "outputs": []
    },
    {
      "cell_type": "code",
      "source": [
        "# Club Data\n",
        "!wget -q https://raw.githubusercontent.com/Praxis-QR/RDWH/main/data/clubdata.sql"
      ],
      "metadata": {
        "id": "dT4p8__2Bo0y"
      },
      "execution_count": 14,
      "outputs": []
    },
    {
      "cell_type": "code",
      "source": [
        "!head -20 clubdata.sql"
      ],
      "metadata": {
        "id": "PIv8PylTCJJd",
        "outputId": "dbd72fe0-a008-4b1d-ecda-d50ccb77804f",
        "colab": {
          "base_uri": "https://localhost:8080/"
        }
      },
      "execution_count": 18,
      "outputs": [
        {
          "output_type": "stream",
          "name": "stdout",
          "text": [
            "--\n",
            "-- PostgreSQL database dump\n",
            "--\n",
            "CREATE DATABASE exercises;\n",
            "\\c exercises\n",
            "CREATE SCHEMA cd;\n",
            "\n",
            "\n",
            "\n",
            "-- Dumped from database version 9.2.0\n",
            "-- Dumped by pg_dump version 9.2.0\n",
            "-- Started on 2013-05-19 16:05:10 BST\n",
            "\n",
            "SET client_encoding = 'UTF8';\n",
            "SET standard_conforming_strings = on;\n",
            "SET check_function_bodies = false;\n",
            "SET client_min_messages = warning;\n",
            "\n",
            "--\n",
            "-- TOC entry 7 (class 2615 OID 32769)\n"
          ]
        }
      ]
    },
    {
      "cell_type": "code",
      "source": [
        "from datetime import datetime\n",
        "import pytz\n",
        "print('Last tested  ',datetime.now(pytz.timezone('Asia/Kolkata')))"
      ],
      "metadata": {
        "colab": {
          "base_uri": "https://localhost:8080/"
        },
        "id": "JkxnbW48epvi",
        "outputId": "5a12dae1-9552-419b-dddb-0410d77028be"
      },
      "execution_count": null,
      "outputs": [
        {
          "output_type": "stream",
          "name": "stdout",
          "text": [
            "Last tested   2024-01-19 13:51:14.191615+05:30\n"
          ]
        }
      ]
    },
    {
      "cell_type": "markdown",
      "source": [
        "#Chronobooks <br>\n",
        "Two science fiction novels by Prithwis Mukerjee. A dystopian Earth. A technocratic society managed by artificial intelligence. Escape and epiphany on Mars. Can man and machine, carbon and silicon explore and escape into other dimensions of existence? An Indic perspective rooted in Advaita Vedanta and the Divine Feminine.  [More information](http://bit.ly/chronobooks) <br>\n",
        "![alt text](https://github.com/Praxis-QR/RDWH/raw/main/images/CTCYFooter-1.png)"
      ],
      "metadata": {
        "id": "_gNiZpyW3AzJ"
      }
    }
  ]
}