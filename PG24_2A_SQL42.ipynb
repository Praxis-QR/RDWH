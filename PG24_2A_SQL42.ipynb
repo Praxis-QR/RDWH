{
  "nbformat": 4,
  "nbformat_minor": 0,
  "metadata": {
    "colab": {
      "provenance": [],
      "toc_visible": true,
      "include_colab_link": true
    },
    "kernelspec": {
      "name": "python3",
      "display_name": "Python 3"
    },
    "language_info": {
      "name": "python"
    }
  },
  "cells": [
    {
      "cell_type": "markdown",
      "metadata": {
        "id": "view-in-github",
        "colab_type": "text"
      },
      "source": [
        "<a href=\"https://colab.research.google.com/github/Praxis-QR/RDWH/blob/main/PG24_2A_SQL42.ipynb\" target=\"_parent\"><img src=\"https://colab.research.google.com/assets/colab-badge.svg\" alt=\"Open In Colab\"/></a>"
      ]
    },
    {
      "cell_type": "markdown",
      "source": [
        "![Yantrajaal Banner](https://github.com/Praxis-QR/RDWH/raw/main/images/YantraJaalBanner.png)<br>\n",
        "\n",
        "\n",
        "<hr>\n",
        "\n",
        "[Prithwis Mukerjee](http://www.linkedin.com/in/prithwis)<br>"
      ],
      "metadata": {
        "id": "DBzz-qaN2tKu"
      }
    },
    {
      "cell_type": "markdown",
      "source": [
        "![PostgreSQL 42](https://raw.githubusercontent.com/Praxis-QR/RDWH/main/images/PostgreSQL_24.01.png)<br>\n",
        "[SlideDeck](https://docs.google.com/presentation/d/1hdkAGbMxLfO1GYe7RzEo3LhGZhsXkyjIfBqkA72B6LM/edit?usp=sharing)"
      ],
      "metadata": {
        "id": "dBJ6X0LiJtZ6"
      }
    },
    {
      "cell_type": "code",
      "source": [
        "from datetime import datetime\n",
        "import pytz\n",
        "print('ॐ श्री सरस्वत्यै नमः',datetime.now(pytz.timezone('Asia/Calcutta')))\n",
        "!python --version\n",
        "!lsb_release -a"
      ],
      "metadata": {
        "colab": {
          "base_uri": "https://localhost:8080/"
        },
        "id": "XZ9dGt-eUikL",
        "outputId": "cd62d1b6-8c38-4494-cbf7-729885a1ff70"
      },
      "execution_count": null,
      "outputs": [
        {
          "output_type": "stream",
          "name": "stdout",
          "text": [
            "ॐ श्री सरस्वत्यै नमः 2025-07-28 13:25:54.969056+05:30\n",
            "Python 3.11.13\n",
            "No LSB modules are available.\n",
            "Distributor ID:\tUbuntu\n",
            "Description:\tUbuntu 22.04.4 LTS\n",
            "Release:\t22.04\n",
            "Codename:\tjammy\n"
          ]
        }
      ]
    },
    {
      "cell_type": "markdown",
      "source": [
        "#Install & Configure Postgres"
      ],
      "metadata": {
        "id": "nD-QawLT6kDr"
      }
    },
    {
      "cell_type": "markdown",
      "source": [
        "For Connecting to a Postgres server hosted in the cloud Neon DB, see [this notebook](https://github.com/Praxis-QR/RDWH/blob/main/PG24_1B_SQL_CloudLab.ipynb)"
      ],
      "metadata": {
        "id": "9w29_O07rTPE"
      }
    },
    {
      "cell_type": "code",
      "source": [
        "# Install postgresql server\n",
        "\n",
        "!apt update > /dev/null\n",
        "!apt install postgresql > /dev/null\n",
        "#!pip install psycopg2\n",
        "import psycopg2\n",
        "import pandas as pd\n",
        "#!sudo -u postgres psql -V\n",
        "!psql -V\n",
        "!service postgresql start"
      ],
      "metadata": {
        "colab": {
          "base_uri": "https://localhost:8080/"
        },
        "id": "o_RaqE0OOHP3",
        "outputId": "1477c571-b750-4fb7-e52e-d9b6a9bc5888"
      },
      "execution_count": null,
      "outputs": [
        {
          "output_type": "stream",
          "name": "stdout",
          "text": [
            "\n",
            "WARNING: apt does not have a stable CLI interface. Use with caution in scripts.\n",
            "\n",
            "W: Skipping acquire of configured file 'main/source/Sources' as repository 'https://r2u.stat.illinois.edu/ubuntu jammy InRelease' does not seem to provide it (sources.list entry misspelt?)\n",
            "\n",
            "WARNING: apt does not have a stable CLI interface. Use with caution in scripts.\n",
            "\n",
            "psql (PostgreSQL) 14.18 (Ubuntu 14.18-0ubuntu0.22.04.1)\n",
            " * Starting PostgreSQL 14 database server\n",
            "   ...done.\n"
          ]
        }
      ]
    },
    {
      "cell_type": "code",
      "source": [
        "# The installation creates Ubuntu user 'postgres' AND a Postgres database user 'postgres' both of which are superusers\n",
        "#!cat /etc/passwd\n",
        "# Use these users to create a new database user called 'upraxis' and give it a password 'upass'\n",
        "#!sudo -u postgres createuser --superuser upraxis\n",
        "!sudo -u postgres createuser upraxis\n",
        "!sudo -u postgres psql -U postgres -c \"ALTER USER upraxis PASSWORD 'upass';\"\n",
        "#\n",
        "# Change the database superuser 'postgres' to a non-default value 'pass'\n",
        "!sudo -u postgres psql -U postgres -c \"ALTER USER postgres PASSWORD 'pass';\"\n",
        "#\n",
        "# Use ubuntu superuser to create database dbpraxis and set its owner to upraxis\n",
        "!sudo -u postgres createdb -O upraxis dbpraxis\n",
        "#\n",
        "# Create file to store the password. Else will be prompted each time\n",
        "#\n",
        "!echo \"localhost:5432:dbpraxis:upraxis:upass\" > ~/.pgpass\n",
        "!echo \"localhost:5432:dbpraxis:postgres:pass\" >> ~/.pgpass\n",
        "!chmod 0600 ~/.pgpass\n",
        "!cat ~/.pgpass\n"
      ],
      "metadata": {
        "colab": {
          "base_uri": "https://localhost:8080/"
        },
        "id": "xr5kHaY_U4CZ",
        "outputId": "2daa2d9a-830a-4682-987a-9a6c1867f8ae"
      },
      "execution_count": null,
      "outputs": [
        {
          "output_type": "stream",
          "name": "stdout",
          "text": [
            "ALTER ROLE\n",
            "ALTER ROLE\n",
            "localhost:5432:dbpraxis:upraxis:upass\n",
            "localhost:5432:dbpraxis:postgres:pass\n"
          ]
        }
      ]
    },
    {
      "cell_type": "markdown",
      "source": [
        "## Create and Load Tables"
      ],
      "metadata": {
        "id": "pHTdNzrU6qUE"
      }
    },
    {
      "cell_type": "code",
      "source": [
        "# Create Two tables using command line interface\n",
        "#\n",
        "!psql -h localhost -p 5432 -Uupraxis -ddbpraxis -c \\\n",
        "\"drop table if exists Dept;\\\n",
        "create table Dept (\\\n",
        "    DeptID char(2),\\\n",
        "    DeptName varchar(20),\\\n",
        "    ManagerID char(6),\\\n",
        "    Location varchar(10),\\\n",
        "    LocationID char(1)\\\n",
        "    );\\\n",
        "insert into Dept (DeptID, DeptName, ManagerID, Location,LocationID) VALUES \\\n",
        "\t('10', 'Corporate', '299034', 'Calcutta','1'), \\\n",
        "\t('20', 'Sales', '239456', 'Calcutta','1'), \\\n",
        "\t('30', 'Accounts', '822134', 'Calcutta','1'), \\\n",
        "\t('40', 'Production', '349870', 'Bombay','2'),\\\n",
        "    ('60', 'Research', '546224', 'Delhi','3');\\\n",
        "\""
      ],
      "metadata": {
        "colab": {
          "base_uri": "https://localhost:8080/"
        },
        "id": "DsUZ9JlEXIir",
        "outputId": "508c954b-61c4-4fb5-cdf9-76a6a25a1ac1"
      },
      "execution_count": null,
      "outputs": [
        {
          "output_type": "stream",
          "name": "stdout",
          "text": [
            "NOTICE:  table \"dept\" does not exist, skipping\n",
            "INSERT 0 5\n"
          ]
        }
      ]
    },
    {
      "cell_type": "code",
      "source": [
        "!psql -h localhost -p 5432 -Uupraxis -ddbpraxis -c \\\n",
        "\"drop table if exists Empl;\\\n",
        "create table Empl \\\n",
        "    (EmpID char(6),\\\n",
        "    LastName varchar(20),\\\n",
        "    FirstName varchar(20),\\\n",
        "    JobDesc varchar(10),\\\n",
        "    JoinDate date,\\\n",
        "    Salary int,\\\n",
        "    Comm decimal(3,2),\\\n",
        "    DeptID char(2),\\\n",
        "    HiredBy char(6)\\\n",
        "    );\\\n",
        "INSERT INTO Empl (EmpID, LastName, FirstName, JobDesc, JoinDate, Salary, Comm, DeptID, HiredBy) \\\n",
        "    VALUES \\\n",
        "\t('742866', 'Bacchan', 'Amitabh', 'Executive', '2003-03-10', 50000, 0.1, '10', NULL), \\\n",
        "\t('349870', 'Mukherjee', 'Rani', 'Manager', '2005-05-04', 25000, 0.06, '40', '742866'), \\\n",
        "\t('865477', 'Dikshit', 'Madhuri', 'Clerk', '2002-04-04', 10000, 0.02, '20', '239456'), \\\n",
        "\t('239456', 'Khan', 'Shahrukh', 'Manager', '2004-01-03', 30000, 0.07, '20', '742866'), \\\n",
        "\t('897889', 'Sehwag', 'Virender', 'Cus_Rep', '2005-01-02', 15000, 0.05, '20', '239456'), \\\n",
        "\t('123980', 'Dhoni', 'Mahender', 'Clerk', '2004-10-09', 9000, 0.02, '40', '349870'), \\\n",
        "\t('822134', 'Dravid', 'Rahul', 'Sr Manager', '2000-06-04', 40000, 0.08, '30', '742866'), \\\n",
        "\t('997445', 'Dalmia', 'Jagmohan', 'Clerk', '2001-07-01', 12000, 0.02, '30', '822134'), \\\n",
        "\t('989007', 'Ganguly', 'Sourav', 'Cus_Rep', '2002-01-01', 20000, 0.03, '40', '299034'), \\\n",
        "\t('299034', 'Ganesan', 'Rekha', 'Director', '2002-10-10', 60000, 0.11, '10', '742866'), \\\n",
        "\t('546223', 'Karthikeyan', 'Narayan', 'Secretary', '2005-12-04', 40000, 0.09, '10', '299034'), \\\n",
        "    ('546224', 'Sunil', 'Chettri', 'Dy Manager', '2006-12-07', 40000, 0.05, '70', '989007'), \\\n",
        "\t('223112', 'Mirza', 'Sania', 'Cus_Rep', '2001-11-19', 25000, 0.04, '30', '822134');\\\n",
        "\""
      ],
      "metadata": {
        "colab": {
          "base_uri": "https://localhost:8080/"
        },
        "id": "5kWs3wyEd9Tm",
        "outputId": "095fd951-03ae-49c2-b3c5-c12ee869c300"
      },
      "execution_count": null,
      "outputs": [
        {
          "output_type": "stream",
          "name": "stdout",
          "text": [
            "NOTICE:  table \"empl\" does not exist, skipping\n",
            "INSERT 0 13\n"
          ]
        }
      ]
    },
    {
      "cell_type": "code",
      "source": [
        "#!psql -h localhost -p 5432 -Upostgres -dpraxisdb -c \"select * from dept;\"\n",
        "#!psql -h localhost -p 5432 -Uupraxis -ddbpraxis -c \"select * from dept;\""
      ],
      "metadata": {
        "id": "HyBUhbAI2PV1"
      },
      "execution_count": null,
      "outputs": []
    },
    {
      "cell_type": "code",
      "source": [
        "#!psql -h localhost -p 5432 -U postgres -d praxisdb -c \"select * from empl;\"\n",
        "#!psql -h localhost -p 5432 -U upraxis -d dbpraxis -c \"select * from empl;\""
      ],
      "metadata": {
        "id": "byY2iccO4ctF"
      },
      "execution_count": null,
      "outputs": []
    },
    {
      "cell_type": "markdown",
      "source": [
        "## Python Access\n",
        "https://www.tutorialspoint.com/python_data_access/python_postgresql_database_connection.htm"
      ],
      "metadata": {
        "id": "faZEj8_7CeZ8"
      }
    },
    {
      "cell_type": "code",
      "source": [
        "# Local Colab server\n",
        "\n",
        "conn = psycopg2.connect(database=\"dbpraxis\", user='upraxis', password='upass', host='127.0.0.1', port= '5432')\n",
        "#Creating a cursor object using the cursor() method\n",
        "cursor = conn.cursor()\n",
        "#Executing an MYSQL function using the execute() method\n",
        "cursor.execute(\"select version()\")\n",
        "# Fetch a single row using fetchone() method.\n",
        "data = cursor.fetchone()\n",
        "print(\"Connection established to: \",data)\n",
        "#Closing the connection\n",
        "conn.close()"
      ],
      "metadata": {
        "id": "wcE-8UBnC4zV",
        "outputId": "73f8ed5e-f124-46c8-fcfd-5ffc1778d6b9",
        "colab": {
          "base_uri": "https://localhost:8080/"
        }
      },
      "execution_count": null,
      "outputs": [
        {
          "output_type": "stream",
          "name": "stdout",
          "text": [
            "Connection established to:  ('PostgreSQL 14.18 (Ubuntu 14.18-0ubuntu0.22.04.1) on x86_64-pc-linux-gnu, compiled by gcc (Ubuntu 11.4.0-1ubuntu1~22.04) 11.4.0, 64-bit',)\n"
          ]
        }
      ]
    },
    {
      "cell_type": "code",
      "source": [
        "# function to execute SQL select statements with Postgres\n",
        "#\n",
        "def runSelect(s):\n",
        "    #Set up connection\n",
        "\n",
        "    conn = psycopg2.connect(database=\"dbpraxis\", user='upraxis', password='upass', host='127.0.0.1', port= '5432')\n",
        "    #Setting auto commit true\n",
        "    conn.autocommit = True\n",
        "    #Creating a cursor object using the cursor() method\n",
        "    cursor = conn.cursor()\n",
        "    #Retrieving data\n",
        "    cursor.execute(s)\n",
        "    #Fetching all rows from the table\n",
        "    result = cursor.fetchall();\n",
        "    #print(len(result))\n",
        "    if (len(result)) > 0:                                       # result contains at least one row\n",
        "        colnames = [desc[0] for desc in cursor.description]     # get column names\n",
        "        #print(colnames)\n",
        "        resultdf = pd.DataFrame(result)                         # convert list to dataframe\n",
        "        resultdf.columns = colnames                             # add column names\n",
        "        #return resultdf\n",
        "        return resultdf.style.hide()                            # hide the index\n",
        "    else:\n",
        "        print('no records found')\n",
        "        return\n",
        "# function to execute SQL select statements with Postgres\n",
        "#\n",
        "def runSelect2(s):\n",
        "    #Set up connection\n",
        "\n",
        "    conn = psycopg2.connect(database=\"dbpraxis\", user='upraxis', password='upass', host='127.0.0.1', port= '5432')\n",
        "    #Setting auto commit true\n",
        "    conn.autocommit = True\n",
        "    #Creating a cursor object using the cursor() method\n",
        "    cursor = conn.cursor()\n",
        "    #Retrieving data\n",
        "    cursor.execute(s)\n",
        "    #Fetching all rows from the table\n",
        "    result = cursor.fetchall();\n",
        "    #print(len(result))\n",
        "    if (len(result)) > 0:                                       # result contains at least one row\n",
        "        colnames = [desc[0] for desc in cursor.description]     # get column names\n",
        "        #print(colnames)\n",
        "        resultdf = pd.DataFrame(result)                         # convert list to dataframe\n",
        "        resultdf.columns = colnames                             # add column names\n",
        "        return resultdf\n",
        "        #return resultdf.style.hide()                            # hide the index\n",
        "    else:\n",
        "        print('no records found')\n",
        "        return\n",
        "# function to execute SQL non-select statements with Postgres\n",
        "#\n",
        "def runCmd(s):\n",
        "    #Create Connection\n",
        "    conn = psycopg2.connect(database=\"dbpraxis\", user='upraxis', password='upass', host='127.0.0.1', port= '5432')\n",
        "    #Creating a cursor object using the cursor() method\n",
        "    cursor = conn.cursor()\n",
        "    try:\n",
        "        cursor.execute(s)\n",
        "        print('Command executed')\n",
        "        conn.commit()\n",
        "    except:\n",
        "        print('Command failed')\n",
        "    #Closing the connection\n",
        "    conn.close()"
      ],
      "metadata": {
        "id": "ht2k7-3iggNd"
      },
      "execution_count": 94,
      "outputs": []
    },
    {
      "cell_type": "markdown",
      "source": [
        "#Select - getting started"
      ],
      "metadata": {
        "id": "k0rXiciVtu7Q"
      }
    },
    {
      "cell_type": "code",
      "source": [
        "#runSelect(\"select * from dept where deptid = '100'\")\n",
        "#runSelect(\"select * from dept where deptid = '10'\")\n",
        "runSelect(\"select * from dept\")"
      ],
      "metadata": {
        "id": "N3NZv0YahSs6",
        "outputId": "77426824-67a8-4d07-b263-ba2d3c197f4f",
        "colab": {
          "base_uri": "https://localhost:8080/",
          "height": 206
        }
      },
      "execution_count": null,
      "outputs": [
        {
          "output_type": "execute_result",
          "data": {
            "text/plain": [
              "<pandas.io.formats.style.Styler at 0x7bb7d3fb4c90>"
            ],
            "text/html": [
              "<style type=\"text/css\">\n",
              "</style>\n",
              "<table id=\"T_1d32a\" class=\"dataframe\">\n",
              "  <thead>\n",
              "    <tr>\n",
              "      <th id=\"T_1d32a_level0_col0\" class=\"col_heading level0 col0\" >deptid</th>\n",
              "      <th id=\"T_1d32a_level0_col1\" class=\"col_heading level0 col1\" >deptname</th>\n",
              "      <th id=\"T_1d32a_level0_col2\" class=\"col_heading level0 col2\" >managerid</th>\n",
              "      <th id=\"T_1d32a_level0_col3\" class=\"col_heading level0 col3\" >location</th>\n",
              "      <th id=\"T_1d32a_level0_col4\" class=\"col_heading level0 col4\" >locationid</th>\n",
              "    </tr>\n",
              "  </thead>\n",
              "  <tbody>\n",
              "    <tr>\n",
              "      <td id=\"T_1d32a_row0_col0\" class=\"data row0 col0\" >10</td>\n",
              "      <td id=\"T_1d32a_row0_col1\" class=\"data row0 col1\" >Corporate</td>\n",
              "      <td id=\"T_1d32a_row0_col2\" class=\"data row0 col2\" >299034</td>\n",
              "      <td id=\"T_1d32a_row0_col3\" class=\"data row0 col3\" >Calcutta</td>\n",
              "      <td id=\"T_1d32a_row0_col4\" class=\"data row0 col4\" >1</td>\n",
              "    </tr>\n",
              "    <tr>\n",
              "      <td id=\"T_1d32a_row1_col0\" class=\"data row1 col0\" >20</td>\n",
              "      <td id=\"T_1d32a_row1_col1\" class=\"data row1 col1\" >Sales</td>\n",
              "      <td id=\"T_1d32a_row1_col2\" class=\"data row1 col2\" >239456</td>\n",
              "      <td id=\"T_1d32a_row1_col3\" class=\"data row1 col3\" >Calcutta</td>\n",
              "      <td id=\"T_1d32a_row1_col4\" class=\"data row1 col4\" >1</td>\n",
              "    </tr>\n",
              "    <tr>\n",
              "      <td id=\"T_1d32a_row2_col0\" class=\"data row2 col0\" >30</td>\n",
              "      <td id=\"T_1d32a_row2_col1\" class=\"data row2 col1\" >Accounts</td>\n",
              "      <td id=\"T_1d32a_row2_col2\" class=\"data row2 col2\" >822134</td>\n",
              "      <td id=\"T_1d32a_row2_col3\" class=\"data row2 col3\" >Calcutta</td>\n",
              "      <td id=\"T_1d32a_row2_col4\" class=\"data row2 col4\" >1</td>\n",
              "    </tr>\n",
              "    <tr>\n",
              "      <td id=\"T_1d32a_row3_col0\" class=\"data row3 col0\" >40</td>\n",
              "      <td id=\"T_1d32a_row3_col1\" class=\"data row3 col1\" >Production</td>\n",
              "      <td id=\"T_1d32a_row3_col2\" class=\"data row3 col2\" >349870</td>\n",
              "      <td id=\"T_1d32a_row3_col3\" class=\"data row3 col3\" >Bombay</td>\n",
              "      <td id=\"T_1d32a_row3_col4\" class=\"data row3 col4\" >2</td>\n",
              "    </tr>\n",
              "    <tr>\n",
              "      <td id=\"T_1d32a_row4_col0\" class=\"data row4 col0\" >60</td>\n",
              "      <td id=\"T_1d32a_row4_col1\" class=\"data row4 col1\" >Research</td>\n",
              "      <td id=\"T_1d32a_row4_col2\" class=\"data row4 col2\" >546224</td>\n",
              "      <td id=\"T_1d32a_row4_col3\" class=\"data row4 col3\" >Delhi</td>\n",
              "      <td id=\"T_1d32a_row4_col4\" class=\"data row4 col4\" >3</td>\n",
              "    </tr>\n",
              "  </tbody>\n",
              "</table>\n"
            ]
          },
          "metadata": {},
          "execution_count": 10
        }
      ]
    },
    {
      "cell_type": "code",
      "source": [
        "runSelect2('select * from empl').style.hide()\n",
        "#runSelect2('select * from empl')"
      ],
      "metadata": {
        "id": "9RARmjHUlGTr",
        "outputId": "adde5f63-77cf-4910-cd85-cac24b7c71de",
        "colab": {
          "base_uri": "https://localhost:8080/",
          "height": 457
        }
      },
      "execution_count": 102,
      "outputs": [
        {
          "output_type": "execute_result",
          "data": {
            "text/plain": [
              "<pandas.io.formats.style.Styler at 0x7fae9c08d6d0>"
            ],
            "text/html": [
              "<style type=\"text/css\">\n",
              "</style>\n",
              "<table id=\"T_d0032\" class=\"dataframe\">\n",
              "  <thead>\n",
              "    <tr>\n",
              "      <th id=\"T_d0032_level0_col0\" class=\"col_heading level0 col0\" >empid</th>\n",
              "      <th id=\"T_d0032_level0_col1\" class=\"col_heading level0 col1\" >lastname</th>\n",
              "      <th id=\"T_d0032_level0_col2\" class=\"col_heading level0 col2\" >firstname</th>\n",
              "      <th id=\"T_d0032_level0_col3\" class=\"col_heading level0 col3\" >jobdesc</th>\n",
              "      <th id=\"T_d0032_level0_col4\" class=\"col_heading level0 col4\" >joindate</th>\n",
              "      <th id=\"T_d0032_level0_col5\" class=\"col_heading level0 col5\" >salary</th>\n",
              "      <th id=\"T_d0032_level0_col6\" class=\"col_heading level0 col6\" >comm</th>\n",
              "      <th id=\"T_d0032_level0_col7\" class=\"col_heading level0 col7\" >deptid</th>\n",
              "      <th id=\"T_d0032_level0_col8\" class=\"col_heading level0 col8\" >hiredby</th>\n",
              "    </tr>\n",
              "  </thead>\n",
              "  <tbody>\n",
              "    <tr>\n",
              "      <td id=\"T_d0032_row0_col0\" class=\"data row0 col0\" >742866</td>\n",
              "      <td id=\"T_d0032_row0_col1\" class=\"data row0 col1\" >Bacchan</td>\n",
              "      <td id=\"T_d0032_row0_col2\" class=\"data row0 col2\" >Amitabh</td>\n",
              "      <td id=\"T_d0032_row0_col3\" class=\"data row0 col3\" >Executive</td>\n",
              "      <td id=\"T_d0032_row0_col4\" class=\"data row0 col4\" >2003-03-10</td>\n",
              "      <td id=\"T_d0032_row0_col5\" class=\"data row0 col5\" >50000</td>\n",
              "      <td id=\"T_d0032_row0_col6\" class=\"data row0 col6\" >0.10</td>\n",
              "      <td id=\"T_d0032_row0_col7\" class=\"data row0 col7\" >10</td>\n",
              "      <td id=\"T_d0032_row0_col8\" class=\"data row0 col8\" >None</td>\n",
              "    </tr>\n",
              "    <tr>\n",
              "      <td id=\"T_d0032_row1_col0\" class=\"data row1 col0\" >349870</td>\n",
              "      <td id=\"T_d0032_row1_col1\" class=\"data row1 col1\" >Mukherjee</td>\n",
              "      <td id=\"T_d0032_row1_col2\" class=\"data row1 col2\" >Rani</td>\n",
              "      <td id=\"T_d0032_row1_col3\" class=\"data row1 col3\" >Manager</td>\n",
              "      <td id=\"T_d0032_row1_col4\" class=\"data row1 col4\" >2005-05-04</td>\n",
              "      <td id=\"T_d0032_row1_col5\" class=\"data row1 col5\" >25000</td>\n",
              "      <td id=\"T_d0032_row1_col6\" class=\"data row1 col6\" >0.06</td>\n",
              "      <td id=\"T_d0032_row1_col7\" class=\"data row1 col7\" >40</td>\n",
              "      <td id=\"T_d0032_row1_col8\" class=\"data row1 col8\" >742866</td>\n",
              "    </tr>\n",
              "    <tr>\n",
              "      <td id=\"T_d0032_row2_col0\" class=\"data row2 col0\" >865477</td>\n",
              "      <td id=\"T_d0032_row2_col1\" class=\"data row2 col1\" >Dikshit</td>\n",
              "      <td id=\"T_d0032_row2_col2\" class=\"data row2 col2\" >Madhuri</td>\n",
              "      <td id=\"T_d0032_row2_col3\" class=\"data row2 col3\" >Clerk</td>\n",
              "      <td id=\"T_d0032_row2_col4\" class=\"data row2 col4\" >2002-04-04</td>\n",
              "      <td id=\"T_d0032_row2_col5\" class=\"data row2 col5\" >10000</td>\n",
              "      <td id=\"T_d0032_row2_col6\" class=\"data row2 col6\" >0.02</td>\n",
              "      <td id=\"T_d0032_row2_col7\" class=\"data row2 col7\" >20</td>\n",
              "      <td id=\"T_d0032_row2_col8\" class=\"data row2 col8\" >239456</td>\n",
              "    </tr>\n",
              "    <tr>\n",
              "      <td id=\"T_d0032_row3_col0\" class=\"data row3 col0\" >239456</td>\n",
              "      <td id=\"T_d0032_row3_col1\" class=\"data row3 col1\" >Khan</td>\n",
              "      <td id=\"T_d0032_row3_col2\" class=\"data row3 col2\" >Shahrukh</td>\n",
              "      <td id=\"T_d0032_row3_col3\" class=\"data row3 col3\" >Manager</td>\n",
              "      <td id=\"T_d0032_row3_col4\" class=\"data row3 col4\" >2004-01-03</td>\n",
              "      <td id=\"T_d0032_row3_col5\" class=\"data row3 col5\" >30000</td>\n",
              "      <td id=\"T_d0032_row3_col6\" class=\"data row3 col6\" >0.07</td>\n",
              "      <td id=\"T_d0032_row3_col7\" class=\"data row3 col7\" >20</td>\n",
              "      <td id=\"T_d0032_row3_col8\" class=\"data row3 col8\" >742866</td>\n",
              "    </tr>\n",
              "    <tr>\n",
              "      <td id=\"T_d0032_row4_col0\" class=\"data row4 col0\" >897889</td>\n",
              "      <td id=\"T_d0032_row4_col1\" class=\"data row4 col1\" >Sehwag</td>\n",
              "      <td id=\"T_d0032_row4_col2\" class=\"data row4 col2\" >Virender</td>\n",
              "      <td id=\"T_d0032_row4_col3\" class=\"data row4 col3\" >Cus_Rep</td>\n",
              "      <td id=\"T_d0032_row4_col4\" class=\"data row4 col4\" >2005-01-02</td>\n",
              "      <td id=\"T_d0032_row4_col5\" class=\"data row4 col5\" >15000</td>\n",
              "      <td id=\"T_d0032_row4_col6\" class=\"data row4 col6\" >0.05</td>\n",
              "      <td id=\"T_d0032_row4_col7\" class=\"data row4 col7\" >20</td>\n",
              "      <td id=\"T_d0032_row4_col8\" class=\"data row4 col8\" >239456</td>\n",
              "    </tr>\n",
              "    <tr>\n",
              "      <td id=\"T_d0032_row5_col0\" class=\"data row5 col0\" >123980</td>\n",
              "      <td id=\"T_d0032_row5_col1\" class=\"data row5 col1\" >Dhoni</td>\n",
              "      <td id=\"T_d0032_row5_col2\" class=\"data row5 col2\" >Mahender</td>\n",
              "      <td id=\"T_d0032_row5_col3\" class=\"data row5 col3\" >Clerk</td>\n",
              "      <td id=\"T_d0032_row5_col4\" class=\"data row5 col4\" >2004-10-09</td>\n",
              "      <td id=\"T_d0032_row5_col5\" class=\"data row5 col5\" >9000</td>\n",
              "      <td id=\"T_d0032_row5_col6\" class=\"data row5 col6\" >0.02</td>\n",
              "      <td id=\"T_d0032_row5_col7\" class=\"data row5 col7\" >40</td>\n",
              "      <td id=\"T_d0032_row5_col8\" class=\"data row5 col8\" >349870</td>\n",
              "    </tr>\n",
              "    <tr>\n",
              "      <td id=\"T_d0032_row6_col0\" class=\"data row6 col0\" >822134</td>\n",
              "      <td id=\"T_d0032_row6_col1\" class=\"data row6 col1\" >Dravid</td>\n",
              "      <td id=\"T_d0032_row6_col2\" class=\"data row6 col2\" >Rahul</td>\n",
              "      <td id=\"T_d0032_row6_col3\" class=\"data row6 col3\" >Sr Manager</td>\n",
              "      <td id=\"T_d0032_row6_col4\" class=\"data row6 col4\" >2000-06-04</td>\n",
              "      <td id=\"T_d0032_row6_col5\" class=\"data row6 col5\" >40000</td>\n",
              "      <td id=\"T_d0032_row6_col6\" class=\"data row6 col6\" >0.08</td>\n",
              "      <td id=\"T_d0032_row6_col7\" class=\"data row6 col7\" >30</td>\n",
              "      <td id=\"T_d0032_row6_col8\" class=\"data row6 col8\" >742866</td>\n",
              "    </tr>\n",
              "    <tr>\n",
              "      <td id=\"T_d0032_row7_col0\" class=\"data row7 col0\" >997445</td>\n",
              "      <td id=\"T_d0032_row7_col1\" class=\"data row7 col1\" >Dalmia</td>\n",
              "      <td id=\"T_d0032_row7_col2\" class=\"data row7 col2\" >Jagmohan</td>\n",
              "      <td id=\"T_d0032_row7_col3\" class=\"data row7 col3\" >Clerk</td>\n",
              "      <td id=\"T_d0032_row7_col4\" class=\"data row7 col4\" >2001-07-01</td>\n",
              "      <td id=\"T_d0032_row7_col5\" class=\"data row7 col5\" >12000</td>\n",
              "      <td id=\"T_d0032_row7_col6\" class=\"data row7 col6\" >0.02</td>\n",
              "      <td id=\"T_d0032_row7_col7\" class=\"data row7 col7\" >30</td>\n",
              "      <td id=\"T_d0032_row7_col8\" class=\"data row7 col8\" >822134</td>\n",
              "    </tr>\n",
              "    <tr>\n",
              "      <td id=\"T_d0032_row8_col0\" class=\"data row8 col0\" >989007</td>\n",
              "      <td id=\"T_d0032_row8_col1\" class=\"data row8 col1\" >Ganguly</td>\n",
              "      <td id=\"T_d0032_row8_col2\" class=\"data row8 col2\" >Sourav</td>\n",
              "      <td id=\"T_d0032_row8_col3\" class=\"data row8 col3\" >Cus_Rep</td>\n",
              "      <td id=\"T_d0032_row8_col4\" class=\"data row8 col4\" >2002-01-01</td>\n",
              "      <td id=\"T_d0032_row8_col5\" class=\"data row8 col5\" >20000</td>\n",
              "      <td id=\"T_d0032_row8_col6\" class=\"data row8 col6\" >0.03</td>\n",
              "      <td id=\"T_d0032_row8_col7\" class=\"data row8 col7\" >40</td>\n",
              "      <td id=\"T_d0032_row8_col8\" class=\"data row8 col8\" >299034</td>\n",
              "    </tr>\n",
              "    <tr>\n",
              "      <td id=\"T_d0032_row9_col0\" class=\"data row9 col0\" >299034</td>\n",
              "      <td id=\"T_d0032_row9_col1\" class=\"data row9 col1\" >Ganesan</td>\n",
              "      <td id=\"T_d0032_row9_col2\" class=\"data row9 col2\" >Rekha</td>\n",
              "      <td id=\"T_d0032_row9_col3\" class=\"data row9 col3\" >Director</td>\n",
              "      <td id=\"T_d0032_row9_col4\" class=\"data row9 col4\" >2002-10-10</td>\n",
              "      <td id=\"T_d0032_row9_col5\" class=\"data row9 col5\" >60000</td>\n",
              "      <td id=\"T_d0032_row9_col6\" class=\"data row9 col6\" >0.11</td>\n",
              "      <td id=\"T_d0032_row9_col7\" class=\"data row9 col7\" >10</td>\n",
              "      <td id=\"T_d0032_row9_col8\" class=\"data row9 col8\" >742866</td>\n",
              "    </tr>\n",
              "    <tr>\n",
              "      <td id=\"T_d0032_row10_col0\" class=\"data row10 col0\" >546223</td>\n",
              "      <td id=\"T_d0032_row10_col1\" class=\"data row10 col1\" >Karthikeyan</td>\n",
              "      <td id=\"T_d0032_row10_col2\" class=\"data row10 col2\" >Narayan</td>\n",
              "      <td id=\"T_d0032_row10_col3\" class=\"data row10 col3\" >Secretary</td>\n",
              "      <td id=\"T_d0032_row10_col4\" class=\"data row10 col4\" >2005-12-04</td>\n",
              "      <td id=\"T_d0032_row10_col5\" class=\"data row10 col5\" >40000</td>\n",
              "      <td id=\"T_d0032_row10_col6\" class=\"data row10 col6\" >0.09</td>\n",
              "      <td id=\"T_d0032_row10_col7\" class=\"data row10 col7\" >10</td>\n",
              "      <td id=\"T_d0032_row10_col8\" class=\"data row10 col8\" >299034</td>\n",
              "    </tr>\n",
              "    <tr>\n",
              "      <td id=\"T_d0032_row11_col0\" class=\"data row11 col0\" >546224</td>\n",
              "      <td id=\"T_d0032_row11_col1\" class=\"data row11 col1\" >Sunil</td>\n",
              "      <td id=\"T_d0032_row11_col2\" class=\"data row11 col2\" >Chettri</td>\n",
              "      <td id=\"T_d0032_row11_col3\" class=\"data row11 col3\" >Dy Manager</td>\n",
              "      <td id=\"T_d0032_row11_col4\" class=\"data row11 col4\" >2006-12-07</td>\n",
              "      <td id=\"T_d0032_row11_col5\" class=\"data row11 col5\" >40000</td>\n",
              "      <td id=\"T_d0032_row11_col6\" class=\"data row11 col6\" >0.05</td>\n",
              "      <td id=\"T_d0032_row11_col7\" class=\"data row11 col7\" >70</td>\n",
              "      <td id=\"T_d0032_row11_col8\" class=\"data row11 col8\" >989007</td>\n",
              "    </tr>\n",
              "    <tr>\n",
              "      <td id=\"T_d0032_row12_col0\" class=\"data row12 col0\" >223112</td>\n",
              "      <td id=\"T_d0032_row12_col1\" class=\"data row12 col1\" >Mirza</td>\n",
              "      <td id=\"T_d0032_row12_col2\" class=\"data row12 col2\" >Sania</td>\n",
              "      <td id=\"T_d0032_row12_col3\" class=\"data row12 col3\" >Cus_Rep</td>\n",
              "      <td id=\"T_d0032_row12_col4\" class=\"data row12 col4\" >2001-11-19</td>\n",
              "      <td id=\"T_d0032_row12_col5\" class=\"data row12 col5\" >25000</td>\n",
              "      <td id=\"T_d0032_row12_col6\" class=\"data row12 col6\" >0.04</td>\n",
              "      <td id=\"T_d0032_row12_col7\" class=\"data row12 col7\" >30</td>\n",
              "      <td id=\"T_d0032_row12_col8\" class=\"data row12 col8\" >822134</td>\n",
              "    </tr>\n",
              "  </tbody>\n",
              "</table>\n"
            ]
          },
          "metadata": {},
          "execution_count": 102
        }
      ]
    },
    {
      "cell_type": "code",
      "source": [
        "df= runSelect2('select * from empl')\n",
        "df.head()"
      ],
      "metadata": {
        "id": "Otiv4rjSl5Tg",
        "outputId": "7ab1cafc-bd43-4798-88a1-82d1cc2697ac",
        "colab": {
          "base_uri": "https://localhost:8080/",
          "height": 206
        }
      },
      "execution_count": 98,
      "outputs": [
        {
          "output_type": "execute_result",
          "data": {
            "text/plain": [
              "    empid   lastname firstname    jobdesc    joindate  salary  comm deptid  \\\n",
              "0  742866    Bacchan   Amitabh  Executive  2003-03-10   50000  0.10     10   \n",
              "1  349870  Mukherjee      Rani    Manager  2005-05-04   25000  0.06     40   \n",
              "2  865477    Dikshit   Madhuri      Clerk  2002-04-04   10000  0.02     20   \n",
              "3  239456       Khan  Shahrukh    Manager  2004-01-03   30000  0.07     20   \n",
              "4  897889     Sehwag  Virender    Cus_Rep  2005-01-02   15000  0.05     20   \n",
              "\n",
              "  hiredby  \n",
              "0    None  \n",
              "1  742866  \n",
              "2  239456  \n",
              "3  742866  \n",
              "4  239456  "
            ],
            "text/html": [
              "\n",
              "  <div id=\"df-1afe6a0a-945a-4cd0-9dbd-c0b8b488b760\" class=\"colab-df-container\">\n",
              "    <div>\n",
              "<style scoped>\n",
              "    .dataframe tbody tr th:only-of-type {\n",
              "        vertical-align: middle;\n",
              "    }\n",
              "\n",
              "    .dataframe tbody tr th {\n",
              "        vertical-align: top;\n",
              "    }\n",
              "\n",
              "    .dataframe thead th {\n",
              "        text-align: right;\n",
              "    }\n",
              "</style>\n",
              "<table border=\"1\" class=\"dataframe\">\n",
              "  <thead>\n",
              "    <tr style=\"text-align: right;\">\n",
              "      <th></th>\n",
              "      <th>empid</th>\n",
              "      <th>lastname</th>\n",
              "      <th>firstname</th>\n",
              "      <th>jobdesc</th>\n",
              "      <th>joindate</th>\n",
              "      <th>salary</th>\n",
              "      <th>comm</th>\n",
              "      <th>deptid</th>\n",
              "      <th>hiredby</th>\n",
              "    </tr>\n",
              "  </thead>\n",
              "  <tbody>\n",
              "    <tr>\n",
              "      <th>0</th>\n",
              "      <td>742866</td>\n",
              "      <td>Bacchan</td>\n",
              "      <td>Amitabh</td>\n",
              "      <td>Executive</td>\n",
              "      <td>2003-03-10</td>\n",
              "      <td>50000</td>\n",
              "      <td>0.10</td>\n",
              "      <td>10</td>\n",
              "      <td>None</td>\n",
              "    </tr>\n",
              "    <tr>\n",
              "      <th>1</th>\n",
              "      <td>349870</td>\n",
              "      <td>Mukherjee</td>\n",
              "      <td>Rani</td>\n",
              "      <td>Manager</td>\n",
              "      <td>2005-05-04</td>\n",
              "      <td>25000</td>\n",
              "      <td>0.06</td>\n",
              "      <td>40</td>\n",
              "      <td>742866</td>\n",
              "    </tr>\n",
              "    <tr>\n",
              "      <th>2</th>\n",
              "      <td>865477</td>\n",
              "      <td>Dikshit</td>\n",
              "      <td>Madhuri</td>\n",
              "      <td>Clerk</td>\n",
              "      <td>2002-04-04</td>\n",
              "      <td>10000</td>\n",
              "      <td>0.02</td>\n",
              "      <td>20</td>\n",
              "      <td>239456</td>\n",
              "    </tr>\n",
              "    <tr>\n",
              "      <th>3</th>\n",
              "      <td>239456</td>\n",
              "      <td>Khan</td>\n",
              "      <td>Shahrukh</td>\n",
              "      <td>Manager</td>\n",
              "      <td>2004-01-03</td>\n",
              "      <td>30000</td>\n",
              "      <td>0.07</td>\n",
              "      <td>20</td>\n",
              "      <td>742866</td>\n",
              "    </tr>\n",
              "    <tr>\n",
              "      <th>4</th>\n",
              "      <td>897889</td>\n",
              "      <td>Sehwag</td>\n",
              "      <td>Virender</td>\n",
              "      <td>Cus_Rep</td>\n",
              "      <td>2005-01-02</td>\n",
              "      <td>15000</td>\n",
              "      <td>0.05</td>\n",
              "      <td>20</td>\n",
              "      <td>239456</td>\n",
              "    </tr>\n",
              "  </tbody>\n",
              "</table>\n",
              "</div>\n",
              "    <div class=\"colab-df-buttons\">\n",
              "\n",
              "  <div class=\"colab-df-container\">\n",
              "    <button class=\"colab-df-convert\" onclick=\"convertToInteractive('df-1afe6a0a-945a-4cd0-9dbd-c0b8b488b760')\"\n",
              "            title=\"Convert this dataframe to an interactive table.\"\n",
              "            style=\"display:none;\">\n",
              "\n",
              "  <svg xmlns=\"http://www.w3.org/2000/svg\" height=\"24px\" viewBox=\"0 -960 960 960\">\n",
              "    <path d=\"M120-120v-720h720v720H120Zm60-500h600v-160H180v160Zm220 220h160v-160H400v160Zm0 220h160v-160H400v160ZM180-400h160v-160H180v160Zm440 0h160v-160H620v160ZM180-180h160v-160H180v160Zm440 0h160v-160H620v160Z\"/>\n",
              "  </svg>\n",
              "    </button>\n",
              "\n",
              "  <style>\n",
              "    .colab-df-container {\n",
              "      display:flex;\n",
              "      gap: 12px;\n",
              "    }\n",
              "\n",
              "    .colab-df-convert {\n",
              "      background-color: #E8F0FE;\n",
              "      border: none;\n",
              "      border-radius: 50%;\n",
              "      cursor: pointer;\n",
              "      display: none;\n",
              "      fill: #1967D2;\n",
              "      height: 32px;\n",
              "      padding: 0 0 0 0;\n",
              "      width: 32px;\n",
              "    }\n",
              "\n",
              "    .colab-df-convert:hover {\n",
              "      background-color: #E2EBFA;\n",
              "      box-shadow: 0px 1px 2px rgba(60, 64, 67, 0.3), 0px 1px 3px 1px rgba(60, 64, 67, 0.15);\n",
              "      fill: #174EA6;\n",
              "    }\n",
              "\n",
              "    .colab-df-buttons div {\n",
              "      margin-bottom: 4px;\n",
              "    }\n",
              "\n",
              "    [theme=dark] .colab-df-convert {\n",
              "      background-color: #3B4455;\n",
              "      fill: #D2E3FC;\n",
              "    }\n",
              "\n",
              "    [theme=dark] .colab-df-convert:hover {\n",
              "      background-color: #434B5C;\n",
              "      box-shadow: 0px 1px 3px 1px rgba(0, 0, 0, 0.15);\n",
              "      filter: drop-shadow(0px 1px 2px rgba(0, 0, 0, 0.3));\n",
              "      fill: #FFFFFF;\n",
              "    }\n",
              "  </style>\n",
              "\n",
              "    <script>\n",
              "      const buttonEl =\n",
              "        document.querySelector('#df-1afe6a0a-945a-4cd0-9dbd-c0b8b488b760 button.colab-df-convert');\n",
              "      buttonEl.style.display =\n",
              "        google.colab.kernel.accessAllowed ? 'block' : 'none';\n",
              "\n",
              "      async function convertToInteractive(key) {\n",
              "        const element = document.querySelector('#df-1afe6a0a-945a-4cd0-9dbd-c0b8b488b760');\n",
              "        const dataTable =\n",
              "          await google.colab.kernel.invokeFunction('convertToInteractive',\n",
              "                                                    [key], {});\n",
              "        if (!dataTable) return;\n",
              "\n",
              "        const docLinkHtml = 'Like what you see? Visit the ' +\n",
              "          '<a target=\"_blank\" href=https://colab.research.google.com/notebooks/data_table.ipynb>data table notebook</a>'\n",
              "          + ' to learn more about interactive tables.';\n",
              "        element.innerHTML = '';\n",
              "        dataTable['output_type'] = 'display_data';\n",
              "        await google.colab.output.renderOutput(dataTable, element);\n",
              "        const docLink = document.createElement('div');\n",
              "        docLink.innerHTML = docLinkHtml;\n",
              "        element.appendChild(docLink);\n",
              "      }\n",
              "    </script>\n",
              "  </div>\n",
              "\n",
              "\n",
              "    <div id=\"df-05eccea3-5485-48a1-b2ae-3a64b72abd3d\">\n",
              "      <button class=\"colab-df-quickchart\" onclick=\"quickchart('df-05eccea3-5485-48a1-b2ae-3a64b72abd3d')\"\n",
              "                title=\"Suggest charts\"\n",
              "                style=\"display:none;\">\n",
              "\n",
              "<svg xmlns=\"http://www.w3.org/2000/svg\" height=\"24px\"viewBox=\"0 0 24 24\"\n",
              "     width=\"24px\">\n",
              "    <g>\n",
              "        <path d=\"M19 3H5c-1.1 0-2 .9-2 2v14c0 1.1.9 2 2 2h14c1.1 0 2-.9 2-2V5c0-1.1-.9-2-2-2zM9 17H7v-7h2v7zm4 0h-2V7h2v10zm4 0h-2v-4h2v4z\"/>\n",
              "    </g>\n",
              "</svg>\n",
              "      </button>\n",
              "\n",
              "<style>\n",
              "  .colab-df-quickchart {\n",
              "      --bg-color: #E8F0FE;\n",
              "      --fill-color: #1967D2;\n",
              "      --hover-bg-color: #E2EBFA;\n",
              "      --hover-fill-color: #174EA6;\n",
              "      --disabled-fill-color: #AAA;\n",
              "      --disabled-bg-color: #DDD;\n",
              "  }\n",
              "\n",
              "  [theme=dark] .colab-df-quickchart {\n",
              "      --bg-color: #3B4455;\n",
              "      --fill-color: #D2E3FC;\n",
              "      --hover-bg-color: #434B5C;\n",
              "      --hover-fill-color: #FFFFFF;\n",
              "      --disabled-bg-color: #3B4455;\n",
              "      --disabled-fill-color: #666;\n",
              "  }\n",
              "\n",
              "  .colab-df-quickchart {\n",
              "    background-color: var(--bg-color);\n",
              "    border: none;\n",
              "    border-radius: 50%;\n",
              "    cursor: pointer;\n",
              "    display: none;\n",
              "    fill: var(--fill-color);\n",
              "    height: 32px;\n",
              "    padding: 0;\n",
              "    width: 32px;\n",
              "  }\n",
              "\n",
              "  .colab-df-quickchart:hover {\n",
              "    background-color: var(--hover-bg-color);\n",
              "    box-shadow: 0 1px 2px rgba(60, 64, 67, 0.3), 0 1px 3px 1px rgba(60, 64, 67, 0.15);\n",
              "    fill: var(--button-hover-fill-color);\n",
              "  }\n",
              "\n",
              "  .colab-df-quickchart-complete:disabled,\n",
              "  .colab-df-quickchart-complete:disabled:hover {\n",
              "    background-color: var(--disabled-bg-color);\n",
              "    fill: var(--disabled-fill-color);\n",
              "    box-shadow: none;\n",
              "  }\n",
              "\n",
              "  .colab-df-spinner {\n",
              "    border: 2px solid var(--fill-color);\n",
              "    border-color: transparent;\n",
              "    border-bottom-color: var(--fill-color);\n",
              "    animation:\n",
              "      spin 1s steps(1) infinite;\n",
              "  }\n",
              "\n",
              "  @keyframes spin {\n",
              "    0% {\n",
              "      border-color: transparent;\n",
              "      border-bottom-color: var(--fill-color);\n",
              "      border-left-color: var(--fill-color);\n",
              "    }\n",
              "    20% {\n",
              "      border-color: transparent;\n",
              "      border-left-color: var(--fill-color);\n",
              "      border-top-color: var(--fill-color);\n",
              "    }\n",
              "    30% {\n",
              "      border-color: transparent;\n",
              "      border-left-color: var(--fill-color);\n",
              "      border-top-color: var(--fill-color);\n",
              "      border-right-color: var(--fill-color);\n",
              "    }\n",
              "    40% {\n",
              "      border-color: transparent;\n",
              "      border-right-color: var(--fill-color);\n",
              "      border-top-color: var(--fill-color);\n",
              "    }\n",
              "    60% {\n",
              "      border-color: transparent;\n",
              "      border-right-color: var(--fill-color);\n",
              "    }\n",
              "    80% {\n",
              "      border-color: transparent;\n",
              "      border-right-color: var(--fill-color);\n",
              "      border-bottom-color: var(--fill-color);\n",
              "    }\n",
              "    90% {\n",
              "      border-color: transparent;\n",
              "      border-bottom-color: var(--fill-color);\n",
              "    }\n",
              "  }\n",
              "</style>\n",
              "\n",
              "      <script>\n",
              "        async function quickchart(key) {\n",
              "          const quickchartButtonEl =\n",
              "            document.querySelector('#' + key + ' button');\n",
              "          quickchartButtonEl.disabled = true;  // To prevent multiple clicks.\n",
              "          quickchartButtonEl.classList.add('colab-df-spinner');\n",
              "          try {\n",
              "            const charts = await google.colab.kernel.invokeFunction(\n",
              "                'suggestCharts', [key], {});\n",
              "          } catch (error) {\n",
              "            console.error('Error during call to suggestCharts:', error);\n",
              "          }\n",
              "          quickchartButtonEl.classList.remove('colab-df-spinner');\n",
              "          quickchartButtonEl.classList.add('colab-df-quickchart-complete');\n",
              "        }\n",
              "        (() => {\n",
              "          let quickchartButtonEl =\n",
              "            document.querySelector('#df-05eccea3-5485-48a1-b2ae-3a64b72abd3d button');\n",
              "          quickchartButtonEl.style.display =\n",
              "            google.colab.kernel.accessAllowed ? 'block' : 'none';\n",
              "        })();\n",
              "      </script>\n",
              "    </div>\n",
              "\n",
              "    </div>\n",
              "  </div>\n"
            ],
            "application/vnd.google.colaboratory.intrinsic+json": {
              "type": "dataframe",
              "variable_name": "df",
              "summary": "{\n  \"name\": \"df\",\n  \"rows\": 13,\n  \"fields\": [\n    {\n      \"column\": \"empid\",\n      \"properties\": {\n        \"dtype\": \"string\",\n        \"num_unique_values\": 13,\n        \"samples\": [\n          \"546224\",\n          \"299034\",\n          \"742866\"\n        ],\n        \"semantic_type\": \"\",\n        \"description\": \"\"\n      }\n    },\n    {\n      \"column\": \"lastname\",\n      \"properties\": {\n        \"dtype\": \"string\",\n        \"num_unique_values\": 13,\n        \"samples\": [\n          \"Sunil\",\n          \"Ganesan\",\n          \"Bacchan\"\n        ],\n        \"semantic_type\": \"\",\n        \"description\": \"\"\n      }\n    },\n    {\n      \"column\": \"firstname\",\n      \"properties\": {\n        \"dtype\": \"string\",\n        \"num_unique_values\": 13,\n        \"samples\": [\n          \"Chettri\",\n          \"Rekha\",\n          \"Amitabh\"\n        ],\n        \"semantic_type\": \"\",\n        \"description\": \"\"\n      }\n    },\n    {\n      \"column\": \"jobdesc\",\n      \"properties\": {\n        \"dtype\": \"string\",\n        \"num_unique_values\": 8,\n        \"samples\": [\n          \"Manager\",\n          \"Director\",\n          \"Executive\"\n        ],\n        \"semantic_type\": \"\",\n        \"description\": \"\"\n      }\n    },\n    {\n      \"column\": \"joindate\",\n      \"properties\": {\n        \"dtype\": \"date\",\n        \"min\": \"2000-06-04\",\n        \"max\": \"2006-12-07\",\n        \"num_unique_values\": 13,\n        \"samples\": [\n          \"2006-12-07\",\n          \"2002-10-10\",\n          \"2003-03-10\"\n        ],\n        \"semantic_type\": \"\",\n        \"description\": \"\"\n      }\n    },\n    {\n      \"column\": \"salary\",\n      \"properties\": {\n        \"dtype\": \"number\",\n        \"std\": 16137,\n        \"min\": 9000,\n        \"max\": 60000,\n        \"num_unique_values\": 10,\n        \"samples\": [\n          20000,\n          25000,\n          9000\n        ],\n        \"semantic_type\": \"\",\n        \"description\": \"\"\n      }\n    },\n    {\n      \"column\": \"comm\",\n      \"properties\": {\n        \"dtype\": \"string\",\n        \"num_unique_values\": 10,\n        \"samples\": [\n          \"0.09\",\n          \"0.06\",\n          \"0.08\"\n        ],\n        \"semantic_type\": \"\",\n        \"description\": \"\"\n      }\n    },\n    {\n      \"column\": \"deptid\",\n      \"properties\": {\n        \"dtype\": \"category\",\n        \"num_unique_values\": 5,\n        \"samples\": [\n          \"40\",\n          \"70\",\n          \"20\"\n        ],\n        \"semantic_type\": \"\",\n        \"description\": \"\"\n      }\n    },\n    {\n      \"column\": \"hiredby\",\n      \"properties\": {\n        \"dtype\": \"category\",\n        \"num_unique_values\": 6,\n        \"samples\": [\n          \"742866\",\n          \"239456\",\n          \"989007\"\n        ],\n        \"semantic_type\": \"\",\n        \"description\": \"\"\n      }\n    }\n  ]\n}"
            }
          },
          "metadata": {},
          "execution_count": 98
        }
      ]
    },
    {
      "cell_type": "code",
      "source": [
        "runSelect('select lastname, jobdesc, salary from empl')"
      ],
      "metadata": {
        "id": "z-mxVMPuuxu6",
        "outputId": "3527d755-70bb-4f0d-b114-6fc09949c23a",
        "colab": {
          "base_uri": "https://localhost:8080/",
          "height": 457
        }
      },
      "execution_count": null,
      "outputs": [
        {
          "output_type": "execute_result",
          "data": {
            "text/plain": [
              "<pandas.io.formats.style.Styler at 0x7bb7a7baacd0>"
            ],
            "text/html": [
              "<style type=\"text/css\">\n",
              "</style>\n",
              "<table id=\"T_45215\" class=\"dataframe\">\n",
              "  <thead>\n",
              "    <tr>\n",
              "      <th id=\"T_45215_level0_col0\" class=\"col_heading level0 col0\" >lastname</th>\n",
              "      <th id=\"T_45215_level0_col1\" class=\"col_heading level0 col1\" >jobdesc</th>\n",
              "      <th id=\"T_45215_level0_col2\" class=\"col_heading level0 col2\" >salary</th>\n",
              "    </tr>\n",
              "  </thead>\n",
              "  <tbody>\n",
              "    <tr>\n",
              "      <td id=\"T_45215_row0_col0\" class=\"data row0 col0\" >Bacchan</td>\n",
              "      <td id=\"T_45215_row0_col1\" class=\"data row0 col1\" >Executive</td>\n",
              "      <td id=\"T_45215_row0_col2\" class=\"data row0 col2\" >50000</td>\n",
              "    </tr>\n",
              "    <tr>\n",
              "      <td id=\"T_45215_row1_col0\" class=\"data row1 col0\" >Mukherjee</td>\n",
              "      <td id=\"T_45215_row1_col1\" class=\"data row1 col1\" >Manager</td>\n",
              "      <td id=\"T_45215_row1_col2\" class=\"data row1 col2\" >25000</td>\n",
              "    </tr>\n",
              "    <tr>\n",
              "      <td id=\"T_45215_row2_col0\" class=\"data row2 col0\" >Dikshit</td>\n",
              "      <td id=\"T_45215_row2_col1\" class=\"data row2 col1\" >Clerk</td>\n",
              "      <td id=\"T_45215_row2_col2\" class=\"data row2 col2\" >10000</td>\n",
              "    </tr>\n",
              "    <tr>\n",
              "      <td id=\"T_45215_row3_col0\" class=\"data row3 col0\" >Khan</td>\n",
              "      <td id=\"T_45215_row3_col1\" class=\"data row3 col1\" >Manager</td>\n",
              "      <td id=\"T_45215_row3_col2\" class=\"data row3 col2\" >30000</td>\n",
              "    </tr>\n",
              "    <tr>\n",
              "      <td id=\"T_45215_row4_col0\" class=\"data row4 col0\" >Sehwag</td>\n",
              "      <td id=\"T_45215_row4_col1\" class=\"data row4 col1\" >Cus_Rep</td>\n",
              "      <td id=\"T_45215_row4_col2\" class=\"data row4 col2\" >15000</td>\n",
              "    </tr>\n",
              "    <tr>\n",
              "      <td id=\"T_45215_row5_col0\" class=\"data row5 col0\" >Dhoni</td>\n",
              "      <td id=\"T_45215_row5_col1\" class=\"data row5 col1\" >Clerk</td>\n",
              "      <td id=\"T_45215_row5_col2\" class=\"data row5 col2\" >9000</td>\n",
              "    </tr>\n",
              "    <tr>\n",
              "      <td id=\"T_45215_row6_col0\" class=\"data row6 col0\" >Dravid</td>\n",
              "      <td id=\"T_45215_row6_col1\" class=\"data row6 col1\" >Sr Manager</td>\n",
              "      <td id=\"T_45215_row6_col2\" class=\"data row6 col2\" >40000</td>\n",
              "    </tr>\n",
              "    <tr>\n",
              "      <td id=\"T_45215_row7_col0\" class=\"data row7 col0\" >Dalmia</td>\n",
              "      <td id=\"T_45215_row7_col1\" class=\"data row7 col1\" >Clerk</td>\n",
              "      <td id=\"T_45215_row7_col2\" class=\"data row7 col2\" >12000</td>\n",
              "    </tr>\n",
              "    <tr>\n",
              "      <td id=\"T_45215_row8_col0\" class=\"data row8 col0\" >Ganguly</td>\n",
              "      <td id=\"T_45215_row8_col1\" class=\"data row8 col1\" >Cus_Rep</td>\n",
              "      <td id=\"T_45215_row8_col2\" class=\"data row8 col2\" >20000</td>\n",
              "    </tr>\n",
              "    <tr>\n",
              "      <td id=\"T_45215_row9_col0\" class=\"data row9 col0\" >Ganesan</td>\n",
              "      <td id=\"T_45215_row9_col1\" class=\"data row9 col1\" >Director</td>\n",
              "      <td id=\"T_45215_row9_col2\" class=\"data row9 col2\" >60000</td>\n",
              "    </tr>\n",
              "    <tr>\n",
              "      <td id=\"T_45215_row10_col0\" class=\"data row10 col0\" >Karthikeyan</td>\n",
              "      <td id=\"T_45215_row10_col1\" class=\"data row10 col1\" >Secretary</td>\n",
              "      <td id=\"T_45215_row10_col2\" class=\"data row10 col2\" >40000</td>\n",
              "    </tr>\n",
              "    <tr>\n",
              "      <td id=\"T_45215_row11_col0\" class=\"data row11 col0\" >Sunil</td>\n",
              "      <td id=\"T_45215_row11_col1\" class=\"data row11 col1\" >Dy Manager</td>\n",
              "      <td id=\"T_45215_row11_col2\" class=\"data row11 col2\" >40000</td>\n",
              "    </tr>\n",
              "    <tr>\n",
              "      <td id=\"T_45215_row12_col0\" class=\"data row12 col0\" >Mirza</td>\n",
              "      <td id=\"T_45215_row12_col1\" class=\"data row12 col1\" >Cus_Rep</td>\n",
              "      <td id=\"T_45215_row12_col2\" class=\"data row12 col2\" >25000</td>\n",
              "    </tr>\n",
              "  </tbody>\n",
              "</table>\n"
            ]
          },
          "metadata": {},
          "execution_count": 12
        }
      ]
    },
    {
      "cell_type": "code",
      "source": [
        "runSelect('select distinct(jobdesc) from empl')"
      ],
      "metadata": {
        "id": "7uvcAdlCvg-p",
        "outputId": "017b330b-57bc-456f-e278-5855dc824d00",
        "colab": {
          "base_uri": "https://localhost:8080/",
          "height": 300
        }
      },
      "execution_count": null,
      "outputs": [
        {
          "output_type": "execute_result",
          "data": {
            "text/plain": [
              "<pandas.io.formats.style.Styler at 0x7bb7a7be0250>"
            ],
            "text/html": [
              "<style type=\"text/css\">\n",
              "</style>\n",
              "<table id=\"T_9593b\" class=\"dataframe\">\n",
              "  <thead>\n",
              "    <tr>\n",
              "      <th id=\"T_9593b_level0_col0\" class=\"col_heading level0 col0\" >jobdesc</th>\n",
              "    </tr>\n",
              "  </thead>\n",
              "  <tbody>\n",
              "    <tr>\n",
              "      <td id=\"T_9593b_row0_col0\" class=\"data row0 col0\" >Director</td>\n",
              "    </tr>\n",
              "    <tr>\n",
              "      <td id=\"T_9593b_row1_col0\" class=\"data row1 col0\" >Manager</td>\n",
              "    </tr>\n",
              "    <tr>\n",
              "      <td id=\"T_9593b_row2_col0\" class=\"data row2 col0\" >Dy Manager</td>\n",
              "    </tr>\n",
              "    <tr>\n",
              "      <td id=\"T_9593b_row3_col0\" class=\"data row3 col0\" >Executive</td>\n",
              "    </tr>\n",
              "    <tr>\n",
              "      <td id=\"T_9593b_row4_col0\" class=\"data row4 col0\" >Secretary</td>\n",
              "    </tr>\n",
              "    <tr>\n",
              "      <td id=\"T_9593b_row5_col0\" class=\"data row5 col0\" >Cus_Rep</td>\n",
              "    </tr>\n",
              "    <tr>\n",
              "      <td id=\"T_9593b_row6_col0\" class=\"data row6 col0\" >Clerk</td>\n",
              "    </tr>\n",
              "    <tr>\n",
              "      <td id=\"T_9593b_row7_col0\" class=\"data row7 col0\" >Sr Manager</td>\n",
              "    </tr>\n",
              "  </tbody>\n",
              "</table>\n"
            ]
          },
          "metadata": {},
          "execution_count": 13
        }
      ]
    },
    {
      "cell_type": "markdown",
      "source": [
        "#Where"
      ],
      "metadata": {
        "id": "LFbNG59OxVzF"
      }
    },
    {
      "cell_type": "markdown",
      "source": [
        "## Equal, Not Equal, Greater, Less"
      ],
      "metadata": {
        "id": "JM2k29awVQHc"
      }
    },
    {
      "cell_type": "code",
      "source": [
        "runSelect(\"select firstname, lastname, jobdesc from empl where jobdesc = 'Clerk'\")"
      ],
      "metadata": {
        "id": "rRZz9OpLxdEY",
        "outputId": "3adbd4e4-5d10-404c-89ec-0abb35be05f6",
        "colab": {
          "base_uri": "https://localhost:8080/",
          "height": 143
        }
      },
      "execution_count": null,
      "outputs": [
        {
          "output_type": "execute_result",
          "data": {
            "text/plain": [
              "<pandas.io.formats.style.Styler at 0x7bb7a7df70d0>"
            ],
            "text/html": [
              "<style type=\"text/css\">\n",
              "</style>\n",
              "<table id=\"T_9531b\" class=\"dataframe\">\n",
              "  <thead>\n",
              "    <tr>\n",
              "      <th id=\"T_9531b_level0_col0\" class=\"col_heading level0 col0\" >firstname</th>\n",
              "      <th id=\"T_9531b_level0_col1\" class=\"col_heading level0 col1\" >lastname</th>\n",
              "      <th id=\"T_9531b_level0_col2\" class=\"col_heading level0 col2\" >jobdesc</th>\n",
              "    </tr>\n",
              "  </thead>\n",
              "  <tbody>\n",
              "    <tr>\n",
              "      <td id=\"T_9531b_row0_col0\" class=\"data row0 col0\" >Madhuri</td>\n",
              "      <td id=\"T_9531b_row0_col1\" class=\"data row0 col1\" >Dikshit</td>\n",
              "      <td id=\"T_9531b_row0_col2\" class=\"data row0 col2\" >Clerk</td>\n",
              "    </tr>\n",
              "    <tr>\n",
              "      <td id=\"T_9531b_row1_col0\" class=\"data row1 col0\" >Mahender</td>\n",
              "      <td id=\"T_9531b_row1_col1\" class=\"data row1 col1\" >Dhoni</td>\n",
              "      <td id=\"T_9531b_row1_col2\" class=\"data row1 col2\" >Clerk</td>\n",
              "    </tr>\n",
              "    <tr>\n",
              "      <td id=\"T_9531b_row2_col0\" class=\"data row2 col0\" >Jagmohan</td>\n",
              "      <td id=\"T_9531b_row2_col1\" class=\"data row2 col1\" >Dalmia</td>\n",
              "      <td id=\"T_9531b_row2_col2\" class=\"data row2 col2\" >Clerk</td>\n",
              "    </tr>\n",
              "  </tbody>\n",
              "</table>\n"
            ]
          },
          "metadata": {},
          "execution_count": 14
        }
      ]
    },
    {
      "cell_type": "code",
      "source": [
        "runSelect(\"select firstname, lastname, jobdesc from empl where jobdesc != 'Clerk'\")"
      ],
      "metadata": {
        "id": "3cl0ISR9yG-I",
        "outputId": "2e19078e-9683-421e-90e3-3b8ec84f3c2b",
        "colab": {
          "base_uri": "https://localhost:8080/",
          "height": 363
        }
      },
      "execution_count": null,
      "outputs": [
        {
          "output_type": "execute_result",
          "data": {
            "text/plain": [
              "<pandas.io.formats.style.Styler at 0x7bb7a7ba8f90>"
            ],
            "text/html": [
              "<style type=\"text/css\">\n",
              "</style>\n",
              "<table id=\"T_eaf6a\" class=\"dataframe\">\n",
              "  <thead>\n",
              "    <tr>\n",
              "      <th id=\"T_eaf6a_level0_col0\" class=\"col_heading level0 col0\" >firstname</th>\n",
              "      <th id=\"T_eaf6a_level0_col1\" class=\"col_heading level0 col1\" >lastname</th>\n",
              "      <th id=\"T_eaf6a_level0_col2\" class=\"col_heading level0 col2\" >jobdesc</th>\n",
              "    </tr>\n",
              "  </thead>\n",
              "  <tbody>\n",
              "    <tr>\n",
              "      <td id=\"T_eaf6a_row0_col0\" class=\"data row0 col0\" >Amitabh</td>\n",
              "      <td id=\"T_eaf6a_row0_col1\" class=\"data row0 col1\" >Bacchan</td>\n",
              "      <td id=\"T_eaf6a_row0_col2\" class=\"data row0 col2\" >Executive</td>\n",
              "    </tr>\n",
              "    <tr>\n",
              "      <td id=\"T_eaf6a_row1_col0\" class=\"data row1 col0\" >Rani</td>\n",
              "      <td id=\"T_eaf6a_row1_col1\" class=\"data row1 col1\" >Mukherjee</td>\n",
              "      <td id=\"T_eaf6a_row1_col2\" class=\"data row1 col2\" >Manager</td>\n",
              "    </tr>\n",
              "    <tr>\n",
              "      <td id=\"T_eaf6a_row2_col0\" class=\"data row2 col0\" >Shahrukh</td>\n",
              "      <td id=\"T_eaf6a_row2_col1\" class=\"data row2 col1\" >Khan</td>\n",
              "      <td id=\"T_eaf6a_row2_col2\" class=\"data row2 col2\" >Manager</td>\n",
              "    </tr>\n",
              "    <tr>\n",
              "      <td id=\"T_eaf6a_row3_col0\" class=\"data row3 col0\" >Virender</td>\n",
              "      <td id=\"T_eaf6a_row3_col1\" class=\"data row3 col1\" >Sehwag</td>\n",
              "      <td id=\"T_eaf6a_row3_col2\" class=\"data row3 col2\" >Cus_Rep</td>\n",
              "    </tr>\n",
              "    <tr>\n",
              "      <td id=\"T_eaf6a_row4_col0\" class=\"data row4 col0\" >Rahul</td>\n",
              "      <td id=\"T_eaf6a_row4_col1\" class=\"data row4 col1\" >Dravid</td>\n",
              "      <td id=\"T_eaf6a_row4_col2\" class=\"data row4 col2\" >Sr Manager</td>\n",
              "    </tr>\n",
              "    <tr>\n",
              "      <td id=\"T_eaf6a_row5_col0\" class=\"data row5 col0\" >Sourav</td>\n",
              "      <td id=\"T_eaf6a_row5_col1\" class=\"data row5 col1\" >Ganguly</td>\n",
              "      <td id=\"T_eaf6a_row5_col2\" class=\"data row5 col2\" >Cus_Rep</td>\n",
              "    </tr>\n",
              "    <tr>\n",
              "      <td id=\"T_eaf6a_row6_col0\" class=\"data row6 col0\" >Rekha</td>\n",
              "      <td id=\"T_eaf6a_row6_col1\" class=\"data row6 col1\" >Ganesan</td>\n",
              "      <td id=\"T_eaf6a_row6_col2\" class=\"data row6 col2\" >Director</td>\n",
              "    </tr>\n",
              "    <tr>\n",
              "      <td id=\"T_eaf6a_row7_col0\" class=\"data row7 col0\" >Narayan</td>\n",
              "      <td id=\"T_eaf6a_row7_col1\" class=\"data row7 col1\" >Karthikeyan</td>\n",
              "      <td id=\"T_eaf6a_row7_col2\" class=\"data row7 col2\" >Secretary</td>\n",
              "    </tr>\n",
              "    <tr>\n",
              "      <td id=\"T_eaf6a_row8_col0\" class=\"data row8 col0\" >Chettri</td>\n",
              "      <td id=\"T_eaf6a_row8_col1\" class=\"data row8 col1\" >Sunil</td>\n",
              "      <td id=\"T_eaf6a_row8_col2\" class=\"data row8 col2\" >Dy Manager</td>\n",
              "    </tr>\n",
              "    <tr>\n",
              "      <td id=\"T_eaf6a_row9_col0\" class=\"data row9 col0\" >Sania</td>\n",
              "      <td id=\"T_eaf6a_row9_col1\" class=\"data row9 col1\" >Mirza</td>\n",
              "      <td id=\"T_eaf6a_row9_col2\" class=\"data row9 col2\" >Cus_Rep</td>\n",
              "    </tr>\n",
              "  </tbody>\n",
              "</table>\n"
            ]
          },
          "metadata": {},
          "execution_count": 15
        }
      ]
    },
    {
      "cell_type": "code",
      "source": [
        "runSelect(\"select firstname, lastname, salary from empl where salary > 35000\")"
      ],
      "metadata": {
        "id": "obIPpNbDyT4S",
        "outputId": "0ba8d581-2a5e-4376-8caa-ba09bb9ea7a4",
        "colab": {
          "base_uri": "https://localhost:8080/",
          "height": 206
        }
      },
      "execution_count": null,
      "outputs": [
        {
          "output_type": "execute_result",
          "data": {
            "text/plain": [
              "<pandas.io.formats.style.Styler at 0x7bb7a7c00a50>"
            ],
            "text/html": [
              "<style type=\"text/css\">\n",
              "</style>\n",
              "<table id=\"T_c337d\" class=\"dataframe\">\n",
              "  <thead>\n",
              "    <tr>\n",
              "      <th id=\"T_c337d_level0_col0\" class=\"col_heading level0 col0\" >firstname</th>\n",
              "      <th id=\"T_c337d_level0_col1\" class=\"col_heading level0 col1\" >lastname</th>\n",
              "      <th id=\"T_c337d_level0_col2\" class=\"col_heading level0 col2\" >salary</th>\n",
              "    </tr>\n",
              "  </thead>\n",
              "  <tbody>\n",
              "    <tr>\n",
              "      <td id=\"T_c337d_row0_col0\" class=\"data row0 col0\" >Amitabh</td>\n",
              "      <td id=\"T_c337d_row0_col1\" class=\"data row0 col1\" >Bacchan</td>\n",
              "      <td id=\"T_c337d_row0_col2\" class=\"data row0 col2\" >50000</td>\n",
              "    </tr>\n",
              "    <tr>\n",
              "      <td id=\"T_c337d_row1_col0\" class=\"data row1 col0\" >Rahul</td>\n",
              "      <td id=\"T_c337d_row1_col1\" class=\"data row1 col1\" >Dravid</td>\n",
              "      <td id=\"T_c337d_row1_col2\" class=\"data row1 col2\" >40000</td>\n",
              "    </tr>\n",
              "    <tr>\n",
              "      <td id=\"T_c337d_row2_col0\" class=\"data row2 col0\" >Rekha</td>\n",
              "      <td id=\"T_c337d_row2_col1\" class=\"data row2 col1\" >Ganesan</td>\n",
              "      <td id=\"T_c337d_row2_col2\" class=\"data row2 col2\" >60000</td>\n",
              "    </tr>\n",
              "    <tr>\n",
              "      <td id=\"T_c337d_row3_col0\" class=\"data row3 col0\" >Narayan</td>\n",
              "      <td id=\"T_c337d_row3_col1\" class=\"data row3 col1\" >Karthikeyan</td>\n",
              "      <td id=\"T_c337d_row3_col2\" class=\"data row3 col2\" >40000</td>\n",
              "    </tr>\n",
              "    <tr>\n",
              "      <td id=\"T_c337d_row4_col0\" class=\"data row4 col0\" >Chettri</td>\n",
              "      <td id=\"T_c337d_row4_col1\" class=\"data row4 col1\" >Sunil</td>\n",
              "      <td id=\"T_c337d_row4_col2\" class=\"data row4 col2\" >40000</td>\n",
              "    </tr>\n",
              "  </tbody>\n",
              "</table>\n"
            ]
          },
          "metadata": {},
          "execution_count": 16
        }
      ]
    },
    {
      "cell_type": "code",
      "source": [
        "runSelect(\"select firstname, lastname, salary, joindate from empl where joindate < '2002-01-01'\")"
      ],
      "metadata": {
        "colab": {
          "base_uri": "https://localhost:8080/",
          "height": 143
        },
        "id": "hnIvgy_dMvQl",
        "outputId": "80c6515a-5b1b-4d1f-f959-56f59245eac4"
      },
      "execution_count": null,
      "outputs": [
        {
          "output_type": "execute_result",
          "data": {
            "text/plain": [
              "<pandas.io.formats.style.Styler at 0x7bb7a7c01e90>"
            ],
            "text/html": [
              "<style type=\"text/css\">\n",
              "</style>\n",
              "<table id=\"T_58fff\" class=\"dataframe\">\n",
              "  <thead>\n",
              "    <tr>\n",
              "      <th id=\"T_58fff_level0_col0\" class=\"col_heading level0 col0\" >firstname</th>\n",
              "      <th id=\"T_58fff_level0_col1\" class=\"col_heading level0 col1\" >lastname</th>\n",
              "      <th id=\"T_58fff_level0_col2\" class=\"col_heading level0 col2\" >salary</th>\n",
              "      <th id=\"T_58fff_level0_col3\" class=\"col_heading level0 col3\" >joindate</th>\n",
              "    </tr>\n",
              "  </thead>\n",
              "  <tbody>\n",
              "    <tr>\n",
              "      <td id=\"T_58fff_row0_col0\" class=\"data row0 col0\" >Rahul</td>\n",
              "      <td id=\"T_58fff_row0_col1\" class=\"data row0 col1\" >Dravid</td>\n",
              "      <td id=\"T_58fff_row0_col2\" class=\"data row0 col2\" >40000</td>\n",
              "      <td id=\"T_58fff_row0_col3\" class=\"data row0 col3\" >2000-06-04</td>\n",
              "    </tr>\n",
              "    <tr>\n",
              "      <td id=\"T_58fff_row1_col0\" class=\"data row1 col0\" >Jagmohan</td>\n",
              "      <td id=\"T_58fff_row1_col1\" class=\"data row1 col1\" >Dalmia</td>\n",
              "      <td id=\"T_58fff_row1_col2\" class=\"data row1 col2\" >12000</td>\n",
              "      <td id=\"T_58fff_row1_col3\" class=\"data row1 col3\" >2001-07-01</td>\n",
              "    </tr>\n",
              "    <tr>\n",
              "      <td id=\"T_58fff_row2_col0\" class=\"data row2 col0\" >Sania</td>\n",
              "      <td id=\"T_58fff_row2_col1\" class=\"data row2 col1\" >Mirza</td>\n",
              "      <td id=\"T_58fff_row2_col2\" class=\"data row2 col2\" >25000</td>\n",
              "      <td id=\"T_58fff_row2_col3\" class=\"data row2 col3\" >2001-11-19</td>\n",
              "    </tr>\n",
              "  </tbody>\n",
              "</table>\n"
            ]
          },
          "metadata": {},
          "execution_count": 17
        }
      ]
    },
    {
      "cell_type": "markdown",
      "source": [
        "## Like"
      ],
      "metadata": {
        "id": "77DkYhfhU1lJ"
      }
    },
    {
      "cell_type": "code",
      "source": [
        "runSelect(\"select firstname, lastname, salary from empl where lastname like 'D%'\")"
      ],
      "metadata": {
        "colab": {
          "base_uri": "https://localhost:8080/",
          "height": 175
        },
        "id": "PBsdla2eVv1K",
        "outputId": "a9326df0-5321-43f5-9bed-5d089310ff9a"
      },
      "execution_count": null,
      "outputs": [
        {
          "output_type": "execute_result",
          "data": {
            "text/plain": [
              "<pandas.io.formats.style.Styler at 0x7bb7a7c01a10>"
            ],
            "text/html": [
              "<style type=\"text/css\">\n",
              "</style>\n",
              "<table id=\"T_eac7f\" class=\"dataframe\">\n",
              "  <thead>\n",
              "    <tr>\n",
              "      <th id=\"T_eac7f_level0_col0\" class=\"col_heading level0 col0\" >firstname</th>\n",
              "      <th id=\"T_eac7f_level0_col1\" class=\"col_heading level0 col1\" >lastname</th>\n",
              "      <th id=\"T_eac7f_level0_col2\" class=\"col_heading level0 col2\" >salary</th>\n",
              "    </tr>\n",
              "  </thead>\n",
              "  <tbody>\n",
              "    <tr>\n",
              "      <td id=\"T_eac7f_row0_col0\" class=\"data row0 col0\" >Madhuri</td>\n",
              "      <td id=\"T_eac7f_row0_col1\" class=\"data row0 col1\" >Dikshit</td>\n",
              "      <td id=\"T_eac7f_row0_col2\" class=\"data row0 col2\" >10000</td>\n",
              "    </tr>\n",
              "    <tr>\n",
              "      <td id=\"T_eac7f_row1_col0\" class=\"data row1 col0\" >Mahender</td>\n",
              "      <td id=\"T_eac7f_row1_col1\" class=\"data row1 col1\" >Dhoni</td>\n",
              "      <td id=\"T_eac7f_row1_col2\" class=\"data row1 col2\" >9000</td>\n",
              "    </tr>\n",
              "    <tr>\n",
              "      <td id=\"T_eac7f_row2_col0\" class=\"data row2 col0\" >Rahul</td>\n",
              "      <td id=\"T_eac7f_row2_col1\" class=\"data row2 col1\" >Dravid</td>\n",
              "      <td id=\"T_eac7f_row2_col2\" class=\"data row2 col2\" >40000</td>\n",
              "    </tr>\n",
              "    <tr>\n",
              "      <td id=\"T_eac7f_row3_col0\" class=\"data row3 col0\" >Jagmohan</td>\n",
              "      <td id=\"T_eac7f_row3_col1\" class=\"data row3 col1\" >Dalmia</td>\n",
              "      <td id=\"T_eac7f_row3_col2\" class=\"data row3 col2\" >12000</td>\n",
              "    </tr>\n",
              "  </tbody>\n",
              "</table>\n"
            ]
          },
          "metadata": {},
          "execution_count": 18
        }
      ]
    },
    {
      "cell_type": "code",
      "source": [
        "runSelect(\"select firstname, lastname, joindate from empl where lastname like '____i_'\")"
      ],
      "metadata": {
        "colab": {
          "base_uri": "https://localhost:8080/",
          "height": 112
        },
        "id": "xxImEDlKbm4U",
        "outputId": "ae8fc7b6-e8d6-4940-8354-cf739cfb6905"
      },
      "execution_count": null,
      "outputs": [
        {
          "output_type": "execute_result",
          "data": {
            "text/plain": [
              "<pandas.io.formats.style.Styler at 0x7bb7a7bf8e50>"
            ],
            "text/html": [
              "<style type=\"text/css\">\n",
              "</style>\n",
              "<table id=\"T_9609c\" class=\"dataframe\">\n",
              "  <thead>\n",
              "    <tr>\n",
              "      <th id=\"T_9609c_level0_col0\" class=\"col_heading level0 col0\" >firstname</th>\n",
              "      <th id=\"T_9609c_level0_col1\" class=\"col_heading level0 col1\" >lastname</th>\n",
              "      <th id=\"T_9609c_level0_col2\" class=\"col_heading level0 col2\" >joindate</th>\n",
              "    </tr>\n",
              "  </thead>\n",
              "  <tbody>\n",
              "    <tr>\n",
              "      <td id=\"T_9609c_row0_col0\" class=\"data row0 col0\" >Rahul</td>\n",
              "      <td id=\"T_9609c_row0_col1\" class=\"data row0 col1\" >Dravid</td>\n",
              "      <td id=\"T_9609c_row0_col2\" class=\"data row0 col2\" >2000-06-04</td>\n",
              "    </tr>\n",
              "    <tr>\n",
              "      <td id=\"T_9609c_row1_col0\" class=\"data row1 col0\" >Jagmohan</td>\n",
              "      <td id=\"T_9609c_row1_col1\" class=\"data row1 col1\" >Dalmia</td>\n",
              "      <td id=\"T_9609c_row1_col2\" class=\"data row1 col2\" >2001-07-01</td>\n",
              "    </tr>\n",
              "  </tbody>\n",
              "</table>\n"
            ]
          },
          "metadata": {},
          "execution_count": 19
        }
      ]
    },
    {
      "cell_type": "code",
      "source": [
        "runSelect(\"select firstname, lastname, jobdesc from empl where lastname like '____i%'\")"
      ],
      "metadata": {
        "colab": {
          "base_uri": "https://localhost:8080/",
          "height": 143
        },
        "id": "pL7VPLo4b2g3",
        "outputId": "d4184910-0ddb-4183-d2f5-9bc1ed610f94"
      },
      "execution_count": null,
      "outputs": [
        {
          "output_type": "execute_result",
          "data": {
            "text/plain": [
              "<pandas.io.formats.style.Styler at 0x7bb7a7bf9110>"
            ],
            "text/html": [
              "<style type=\"text/css\">\n",
              "</style>\n",
              "<table id=\"T_13e94\" class=\"dataframe\">\n",
              "  <thead>\n",
              "    <tr>\n",
              "      <th id=\"T_13e94_level0_col0\" class=\"col_heading level0 col0\" >firstname</th>\n",
              "      <th id=\"T_13e94_level0_col1\" class=\"col_heading level0 col1\" >lastname</th>\n",
              "      <th id=\"T_13e94_level0_col2\" class=\"col_heading level0 col2\" >jobdesc</th>\n",
              "    </tr>\n",
              "  </thead>\n",
              "  <tbody>\n",
              "    <tr>\n",
              "      <td id=\"T_13e94_row0_col0\" class=\"data row0 col0\" >Mahender</td>\n",
              "      <td id=\"T_13e94_row0_col1\" class=\"data row0 col1\" >Dhoni</td>\n",
              "      <td id=\"T_13e94_row0_col2\" class=\"data row0 col2\" >Clerk</td>\n",
              "    </tr>\n",
              "    <tr>\n",
              "      <td id=\"T_13e94_row1_col0\" class=\"data row1 col0\" >Rahul</td>\n",
              "      <td id=\"T_13e94_row1_col1\" class=\"data row1 col1\" >Dravid</td>\n",
              "      <td id=\"T_13e94_row1_col2\" class=\"data row1 col2\" >Sr Manager</td>\n",
              "    </tr>\n",
              "    <tr>\n",
              "      <td id=\"T_13e94_row2_col0\" class=\"data row2 col0\" >Jagmohan</td>\n",
              "      <td id=\"T_13e94_row2_col1\" class=\"data row2 col1\" >Dalmia</td>\n",
              "      <td id=\"T_13e94_row2_col2\" class=\"data row2 col2\" >Clerk</td>\n",
              "    </tr>\n",
              "  </tbody>\n",
              "</table>\n"
            ]
          },
          "metadata": {},
          "execution_count": 20
        }
      ]
    },
    {
      "cell_type": "markdown",
      "source": [
        "## Between"
      ],
      "metadata": {
        "id": "qw2h8Vtvey2R"
      }
    },
    {
      "cell_type": "code",
      "source": [
        "runSelect(\"select firstname, lastname, salary from empl where salary between 10000 and 20000\")"
      ],
      "metadata": {
        "colab": {
          "base_uri": "https://localhost:8080/",
          "height": 175
        },
        "id": "sI_qlRdXe7S8",
        "outputId": "19af5426-8c17-4e03-9d8e-65f8cbc4de29"
      },
      "execution_count": null,
      "outputs": [
        {
          "output_type": "execute_result",
          "data": {
            "text/plain": [
              "<pandas.io.formats.style.Styler at 0x7bb7a7bfb8d0>"
            ],
            "text/html": [
              "<style type=\"text/css\">\n",
              "</style>\n",
              "<table id=\"T_3984f\" class=\"dataframe\">\n",
              "  <thead>\n",
              "    <tr>\n",
              "      <th id=\"T_3984f_level0_col0\" class=\"col_heading level0 col0\" >firstname</th>\n",
              "      <th id=\"T_3984f_level0_col1\" class=\"col_heading level0 col1\" >lastname</th>\n",
              "      <th id=\"T_3984f_level0_col2\" class=\"col_heading level0 col2\" >salary</th>\n",
              "    </tr>\n",
              "  </thead>\n",
              "  <tbody>\n",
              "    <tr>\n",
              "      <td id=\"T_3984f_row0_col0\" class=\"data row0 col0\" >Madhuri</td>\n",
              "      <td id=\"T_3984f_row0_col1\" class=\"data row0 col1\" >Dikshit</td>\n",
              "      <td id=\"T_3984f_row0_col2\" class=\"data row0 col2\" >10000</td>\n",
              "    </tr>\n",
              "    <tr>\n",
              "      <td id=\"T_3984f_row1_col0\" class=\"data row1 col0\" >Virender</td>\n",
              "      <td id=\"T_3984f_row1_col1\" class=\"data row1 col1\" >Sehwag</td>\n",
              "      <td id=\"T_3984f_row1_col2\" class=\"data row1 col2\" >15000</td>\n",
              "    </tr>\n",
              "    <tr>\n",
              "      <td id=\"T_3984f_row2_col0\" class=\"data row2 col0\" >Jagmohan</td>\n",
              "      <td id=\"T_3984f_row2_col1\" class=\"data row2 col1\" >Dalmia</td>\n",
              "      <td id=\"T_3984f_row2_col2\" class=\"data row2 col2\" >12000</td>\n",
              "    </tr>\n",
              "    <tr>\n",
              "      <td id=\"T_3984f_row3_col0\" class=\"data row3 col0\" >Sourav</td>\n",
              "      <td id=\"T_3984f_row3_col1\" class=\"data row3 col1\" >Ganguly</td>\n",
              "      <td id=\"T_3984f_row3_col2\" class=\"data row3 col2\" >20000</td>\n",
              "    </tr>\n",
              "  </tbody>\n",
              "</table>\n"
            ]
          },
          "metadata": {},
          "execution_count": 21
        }
      ]
    },
    {
      "cell_type": "code",
      "source": [
        "runSelect(\"select firstname, lastname, joindate from empl where joindate between '2004-01-01' and '2005-01-01'\")"
      ],
      "metadata": {
        "colab": {
          "base_uri": "https://localhost:8080/",
          "height": 112
        },
        "id": "b_mWyFTnfIEy",
        "outputId": "974b18d1-7f2e-463e-96cb-9c55807d4cad"
      },
      "execution_count": null,
      "outputs": [
        {
          "output_type": "execute_result",
          "data": {
            "text/plain": [
              "<pandas.io.formats.style.Styler at 0x7bb7a7bf8f90>"
            ],
            "text/html": [
              "<style type=\"text/css\">\n",
              "</style>\n",
              "<table id=\"T_59958\" class=\"dataframe\">\n",
              "  <thead>\n",
              "    <tr>\n",
              "      <th id=\"T_59958_level0_col0\" class=\"col_heading level0 col0\" >firstname</th>\n",
              "      <th id=\"T_59958_level0_col1\" class=\"col_heading level0 col1\" >lastname</th>\n",
              "      <th id=\"T_59958_level0_col2\" class=\"col_heading level0 col2\" >joindate</th>\n",
              "    </tr>\n",
              "  </thead>\n",
              "  <tbody>\n",
              "    <tr>\n",
              "      <td id=\"T_59958_row0_col0\" class=\"data row0 col0\" >Shahrukh</td>\n",
              "      <td id=\"T_59958_row0_col1\" class=\"data row0 col1\" >Khan</td>\n",
              "      <td id=\"T_59958_row0_col2\" class=\"data row0 col2\" >2004-01-03</td>\n",
              "    </tr>\n",
              "    <tr>\n",
              "      <td id=\"T_59958_row1_col0\" class=\"data row1 col0\" >Mahender</td>\n",
              "      <td id=\"T_59958_row1_col1\" class=\"data row1 col1\" >Dhoni</td>\n",
              "      <td id=\"T_59958_row1_col2\" class=\"data row1 col2\" >2004-10-09</td>\n",
              "    </tr>\n",
              "  </tbody>\n",
              "</table>\n"
            ]
          },
          "metadata": {},
          "execution_count": 22
        }
      ]
    },
    {
      "cell_type": "code",
      "source": [
        "runSelect(\"select firstname, lastname, joindate from empl where lastname between 'Dho' and 'Kha'\")"
      ],
      "metadata": {
        "colab": {
          "base_uri": "https://localhost:8080/",
          "height": 237
        },
        "id": "qXs9AeS2fwCS",
        "outputId": "6ac18513-9b2e-48f7-e2f2-59e3e61f5917"
      },
      "execution_count": null,
      "outputs": [
        {
          "output_type": "execute_result",
          "data": {
            "text/plain": [
              "<pandas.io.formats.style.Styler at 0x7bb7a7bc0650>"
            ],
            "text/html": [
              "<style type=\"text/css\">\n",
              "</style>\n",
              "<table id=\"T_097ae\" class=\"dataframe\">\n",
              "  <thead>\n",
              "    <tr>\n",
              "      <th id=\"T_097ae_level0_col0\" class=\"col_heading level0 col0\" >firstname</th>\n",
              "      <th id=\"T_097ae_level0_col1\" class=\"col_heading level0 col1\" >lastname</th>\n",
              "      <th id=\"T_097ae_level0_col2\" class=\"col_heading level0 col2\" >joindate</th>\n",
              "    </tr>\n",
              "  </thead>\n",
              "  <tbody>\n",
              "    <tr>\n",
              "      <td id=\"T_097ae_row0_col0\" class=\"data row0 col0\" >Madhuri</td>\n",
              "      <td id=\"T_097ae_row0_col1\" class=\"data row0 col1\" >Dikshit</td>\n",
              "      <td id=\"T_097ae_row0_col2\" class=\"data row0 col2\" >2002-04-04</td>\n",
              "    </tr>\n",
              "    <tr>\n",
              "      <td id=\"T_097ae_row1_col0\" class=\"data row1 col0\" >Mahender</td>\n",
              "      <td id=\"T_097ae_row1_col1\" class=\"data row1 col1\" >Dhoni</td>\n",
              "      <td id=\"T_097ae_row1_col2\" class=\"data row1 col2\" >2004-10-09</td>\n",
              "    </tr>\n",
              "    <tr>\n",
              "      <td id=\"T_097ae_row2_col0\" class=\"data row2 col0\" >Rahul</td>\n",
              "      <td id=\"T_097ae_row2_col1\" class=\"data row2 col1\" >Dravid</td>\n",
              "      <td id=\"T_097ae_row2_col2\" class=\"data row2 col2\" >2000-06-04</td>\n",
              "    </tr>\n",
              "    <tr>\n",
              "      <td id=\"T_097ae_row3_col0\" class=\"data row3 col0\" >Sourav</td>\n",
              "      <td id=\"T_097ae_row3_col1\" class=\"data row3 col1\" >Ganguly</td>\n",
              "      <td id=\"T_097ae_row3_col2\" class=\"data row3 col2\" >2002-01-01</td>\n",
              "    </tr>\n",
              "    <tr>\n",
              "      <td id=\"T_097ae_row4_col0\" class=\"data row4 col0\" >Rekha</td>\n",
              "      <td id=\"T_097ae_row4_col1\" class=\"data row4 col1\" >Ganesan</td>\n",
              "      <td id=\"T_097ae_row4_col2\" class=\"data row4 col2\" >2002-10-10</td>\n",
              "    </tr>\n",
              "    <tr>\n",
              "      <td id=\"T_097ae_row5_col0\" class=\"data row5 col0\" >Narayan</td>\n",
              "      <td id=\"T_097ae_row5_col1\" class=\"data row5 col1\" >Karthikeyan</td>\n",
              "      <td id=\"T_097ae_row5_col2\" class=\"data row5 col2\" >2005-12-04</td>\n",
              "    </tr>\n",
              "  </tbody>\n",
              "</table>\n"
            ]
          },
          "metadata": {},
          "execution_count": 23
        }
      ]
    },
    {
      "cell_type": "markdown",
      "source": [
        "## IN"
      ],
      "metadata": {
        "id": "azhy0TQLiLy-"
      }
    },
    {
      "cell_type": "code",
      "source": [
        "runSelect(\"select firstname, lastname, deptid from empl where deptid in ('30','20','70')\")"
      ],
      "metadata": {
        "colab": {
          "base_uri": "https://localhost:8080/",
          "height": 269
        },
        "id": "UyBE-FuoibSZ",
        "outputId": "00b1b377-3c90-4906-f87d-f40aff87e54f"
      },
      "execution_count": null,
      "outputs": [
        {
          "output_type": "execute_result",
          "data": {
            "text/plain": [
              "<pandas.io.formats.style.Styler at 0x7bb7a7bc2390>"
            ],
            "text/html": [
              "<style type=\"text/css\">\n",
              "</style>\n",
              "<table id=\"T_be8b7\" class=\"dataframe\">\n",
              "  <thead>\n",
              "    <tr>\n",
              "      <th id=\"T_be8b7_level0_col0\" class=\"col_heading level0 col0\" >firstname</th>\n",
              "      <th id=\"T_be8b7_level0_col1\" class=\"col_heading level0 col1\" >lastname</th>\n",
              "      <th id=\"T_be8b7_level0_col2\" class=\"col_heading level0 col2\" >deptid</th>\n",
              "    </tr>\n",
              "  </thead>\n",
              "  <tbody>\n",
              "    <tr>\n",
              "      <td id=\"T_be8b7_row0_col0\" class=\"data row0 col0\" >Madhuri</td>\n",
              "      <td id=\"T_be8b7_row0_col1\" class=\"data row0 col1\" >Dikshit</td>\n",
              "      <td id=\"T_be8b7_row0_col2\" class=\"data row0 col2\" >20</td>\n",
              "    </tr>\n",
              "    <tr>\n",
              "      <td id=\"T_be8b7_row1_col0\" class=\"data row1 col0\" >Shahrukh</td>\n",
              "      <td id=\"T_be8b7_row1_col1\" class=\"data row1 col1\" >Khan</td>\n",
              "      <td id=\"T_be8b7_row1_col2\" class=\"data row1 col2\" >20</td>\n",
              "    </tr>\n",
              "    <tr>\n",
              "      <td id=\"T_be8b7_row2_col0\" class=\"data row2 col0\" >Virender</td>\n",
              "      <td id=\"T_be8b7_row2_col1\" class=\"data row2 col1\" >Sehwag</td>\n",
              "      <td id=\"T_be8b7_row2_col2\" class=\"data row2 col2\" >20</td>\n",
              "    </tr>\n",
              "    <tr>\n",
              "      <td id=\"T_be8b7_row3_col0\" class=\"data row3 col0\" >Rahul</td>\n",
              "      <td id=\"T_be8b7_row3_col1\" class=\"data row3 col1\" >Dravid</td>\n",
              "      <td id=\"T_be8b7_row3_col2\" class=\"data row3 col2\" >30</td>\n",
              "    </tr>\n",
              "    <tr>\n",
              "      <td id=\"T_be8b7_row4_col0\" class=\"data row4 col0\" >Jagmohan</td>\n",
              "      <td id=\"T_be8b7_row4_col1\" class=\"data row4 col1\" >Dalmia</td>\n",
              "      <td id=\"T_be8b7_row4_col2\" class=\"data row4 col2\" >30</td>\n",
              "    </tr>\n",
              "    <tr>\n",
              "      <td id=\"T_be8b7_row5_col0\" class=\"data row5 col0\" >Chettri</td>\n",
              "      <td id=\"T_be8b7_row5_col1\" class=\"data row5 col1\" >Sunil</td>\n",
              "      <td id=\"T_be8b7_row5_col2\" class=\"data row5 col2\" >70</td>\n",
              "    </tr>\n",
              "    <tr>\n",
              "      <td id=\"T_be8b7_row6_col0\" class=\"data row6 col0\" >Sania</td>\n",
              "      <td id=\"T_be8b7_row6_col1\" class=\"data row6 col1\" >Mirza</td>\n",
              "      <td id=\"T_be8b7_row6_col2\" class=\"data row6 col2\" >30</td>\n",
              "    </tr>\n",
              "  </tbody>\n",
              "</table>\n"
            ]
          },
          "metadata": {},
          "execution_count": 24
        }
      ]
    },
    {
      "cell_type": "code",
      "source": [
        "runSelect(\"select firstname, lastname, salary from empl where firstname in ('Madhuri','Shahrukh','Virender')\")"
      ],
      "metadata": {
        "colab": {
          "base_uri": "https://localhost:8080/",
          "height": 143
        },
        "id": "9qTEO-OuiN3A",
        "outputId": "b4522b79-dd33-4d2c-e55c-3851ca05efd8"
      },
      "execution_count": null,
      "outputs": [
        {
          "output_type": "execute_result",
          "data": {
            "text/plain": [
              "<pandas.io.formats.style.Styler at 0x7bb7a7bc3f10>"
            ],
            "text/html": [
              "<style type=\"text/css\">\n",
              "</style>\n",
              "<table id=\"T_60dd8\" class=\"dataframe\">\n",
              "  <thead>\n",
              "    <tr>\n",
              "      <th id=\"T_60dd8_level0_col0\" class=\"col_heading level0 col0\" >firstname</th>\n",
              "      <th id=\"T_60dd8_level0_col1\" class=\"col_heading level0 col1\" >lastname</th>\n",
              "      <th id=\"T_60dd8_level0_col2\" class=\"col_heading level0 col2\" >salary</th>\n",
              "    </tr>\n",
              "  </thead>\n",
              "  <tbody>\n",
              "    <tr>\n",
              "      <td id=\"T_60dd8_row0_col0\" class=\"data row0 col0\" >Madhuri</td>\n",
              "      <td id=\"T_60dd8_row0_col1\" class=\"data row0 col1\" >Dikshit</td>\n",
              "      <td id=\"T_60dd8_row0_col2\" class=\"data row0 col2\" >10000</td>\n",
              "    </tr>\n",
              "    <tr>\n",
              "      <td id=\"T_60dd8_row1_col0\" class=\"data row1 col0\" >Shahrukh</td>\n",
              "      <td id=\"T_60dd8_row1_col1\" class=\"data row1 col1\" >Khan</td>\n",
              "      <td id=\"T_60dd8_row1_col2\" class=\"data row1 col2\" >30000</td>\n",
              "    </tr>\n",
              "    <tr>\n",
              "      <td id=\"T_60dd8_row2_col0\" class=\"data row2 col0\" >Virender</td>\n",
              "      <td id=\"T_60dd8_row2_col1\" class=\"data row2 col1\" >Sehwag</td>\n",
              "      <td id=\"T_60dd8_row2_col2\" class=\"data row2 col2\" >15000</td>\n",
              "    </tr>\n",
              "  </tbody>\n",
              "</table>\n"
            ]
          },
          "metadata": {},
          "execution_count": 25
        }
      ]
    },
    {
      "cell_type": "markdown",
      "source": [
        "## Order by"
      ],
      "metadata": {
        "id": "vlOCT_zAkzMb"
      }
    },
    {
      "cell_type": "code",
      "source": [
        "runSelect(\"select firstname, lastname, joindate from empl where firstname in ('Madhuri','Shahrukh','Virender') order by joindate\")"
      ],
      "metadata": {
        "colab": {
          "base_uri": "https://localhost:8080/",
          "height": 143
        },
        "id": "WidoGzLVk1in",
        "outputId": "94caf3f2-3208-4b02-e567-b575642ae3cd"
      },
      "execution_count": null,
      "outputs": [
        {
          "output_type": "execute_result",
          "data": {
            "text/plain": [
              "<pandas.io.formats.style.Styler at 0x7bb7a7c043d0>"
            ],
            "text/html": [
              "<style type=\"text/css\">\n",
              "</style>\n",
              "<table id=\"T_2d10e\" class=\"dataframe\">\n",
              "  <thead>\n",
              "    <tr>\n",
              "      <th id=\"T_2d10e_level0_col0\" class=\"col_heading level0 col0\" >firstname</th>\n",
              "      <th id=\"T_2d10e_level0_col1\" class=\"col_heading level0 col1\" >lastname</th>\n",
              "      <th id=\"T_2d10e_level0_col2\" class=\"col_heading level0 col2\" >joindate</th>\n",
              "    </tr>\n",
              "  </thead>\n",
              "  <tbody>\n",
              "    <tr>\n",
              "      <td id=\"T_2d10e_row0_col0\" class=\"data row0 col0\" >Madhuri</td>\n",
              "      <td id=\"T_2d10e_row0_col1\" class=\"data row0 col1\" >Dikshit</td>\n",
              "      <td id=\"T_2d10e_row0_col2\" class=\"data row0 col2\" >2002-04-04</td>\n",
              "    </tr>\n",
              "    <tr>\n",
              "      <td id=\"T_2d10e_row1_col0\" class=\"data row1 col0\" >Shahrukh</td>\n",
              "      <td id=\"T_2d10e_row1_col1\" class=\"data row1 col1\" >Khan</td>\n",
              "      <td id=\"T_2d10e_row1_col2\" class=\"data row1 col2\" >2004-01-03</td>\n",
              "    </tr>\n",
              "    <tr>\n",
              "      <td id=\"T_2d10e_row2_col0\" class=\"data row2 col0\" >Virender</td>\n",
              "      <td id=\"T_2d10e_row2_col1\" class=\"data row2 col1\" >Sehwag</td>\n",
              "      <td id=\"T_2d10e_row2_col2\" class=\"data row2 col2\" >2005-01-02</td>\n",
              "    </tr>\n",
              "  </tbody>\n",
              "</table>\n"
            ]
          },
          "metadata": {},
          "execution_count": 26
        }
      ]
    },
    {
      "cell_type": "code",
      "source": [
        "runSelect(\"select firstname, lastname, jobdesc, salary, deptid from empl where deptid = '10' order by salary desc\")"
      ],
      "metadata": {
        "colab": {
          "base_uri": "https://localhost:8080/",
          "height": 143
        },
        "id": "Iq_7jWr-lRlO",
        "outputId": "692e9057-157f-4572-90c3-c1cc5cab2579"
      },
      "execution_count": null,
      "outputs": [
        {
          "output_type": "execute_result",
          "data": {
            "text/plain": [
              "<pandas.io.formats.style.Styler at 0x7bb7a7beaed0>"
            ],
            "text/html": [
              "<style type=\"text/css\">\n",
              "</style>\n",
              "<table id=\"T_5ab12\" class=\"dataframe\">\n",
              "  <thead>\n",
              "    <tr>\n",
              "      <th id=\"T_5ab12_level0_col0\" class=\"col_heading level0 col0\" >firstname</th>\n",
              "      <th id=\"T_5ab12_level0_col1\" class=\"col_heading level0 col1\" >lastname</th>\n",
              "      <th id=\"T_5ab12_level0_col2\" class=\"col_heading level0 col2\" >jobdesc</th>\n",
              "      <th id=\"T_5ab12_level0_col3\" class=\"col_heading level0 col3\" >salary</th>\n",
              "      <th id=\"T_5ab12_level0_col4\" class=\"col_heading level0 col4\" >deptid</th>\n",
              "    </tr>\n",
              "  </thead>\n",
              "  <tbody>\n",
              "    <tr>\n",
              "      <td id=\"T_5ab12_row0_col0\" class=\"data row0 col0\" >Rekha</td>\n",
              "      <td id=\"T_5ab12_row0_col1\" class=\"data row0 col1\" >Ganesan</td>\n",
              "      <td id=\"T_5ab12_row0_col2\" class=\"data row0 col2\" >Director</td>\n",
              "      <td id=\"T_5ab12_row0_col3\" class=\"data row0 col3\" >60000</td>\n",
              "      <td id=\"T_5ab12_row0_col4\" class=\"data row0 col4\" >10</td>\n",
              "    </tr>\n",
              "    <tr>\n",
              "      <td id=\"T_5ab12_row1_col0\" class=\"data row1 col0\" >Amitabh</td>\n",
              "      <td id=\"T_5ab12_row1_col1\" class=\"data row1 col1\" >Bacchan</td>\n",
              "      <td id=\"T_5ab12_row1_col2\" class=\"data row1 col2\" >Executive</td>\n",
              "      <td id=\"T_5ab12_row1_col3\" class=\"data row1 col3\" >50000</td>\n",
              "      <td id=\"T_5ab12_row1_col4\" class=\"data row1 col4\" >10</td>\n",
              "    </tr>\n",
              "    <tr>\n",
              "      <td id=\"T_5ab12_row2_col0\" class=\"data row2 col0\" >Narayan</td>\n",
              "      <td id=\"T_5ab12_row2_col1\" class=\"data row2 col1\" >Karthikeyan</td>\n",
              "      <td id=\"T_5ab12_row2_col2\" class=\"data row2 col2\" >Secretary</td>\n",
              "      <td id=\"T_5ab12_row2_col3\" class=\"data row2 col3\" >40000</td>\n",
              "      <td id=\"T_5ab12_row2_col4\" class=\"data row2 col4\" >10</td>\n",
              "    </tr>\n",
              "  </tbody>\n",
              "</table>\n"
            ]
          },
          "metadata": {},
          "execution_count": 27
        }
      ]
    },
    {
      "cell_type": "markdown",
      "source": [
        "## Logical AND | OR"
      ],
      "metadata": {
        "id": "-JDEmZtsm0o1"
      }
    },
    {
      "cell_type": "code",
      "source": [
        "runSelect(\"select lastname, jobdesc, salary, deptid from empl where deptid = '20'\")"
      ],
      "metadata": {
        "colab": {
          "base_uri": "https://localhost:8080/",
          "height": 143
        },
        "id": "rli0DBhIm54M",
        "outputId": "615122d8-749d-4704-d75b-c24e5e34c222"
      },
      "execution_count": null,
      "outputs": [
        {
          "output_type": "execute_result",
          "data": {
            "text/plain": [
              "<pandas.io.formats.style.Styler at 0x7bb7a7bd4ad0>"
            ],
            "text/html": [
              "<style type=\"text/css\">\n",
              "</style>\n",
              "<table id=\"T_2307f\" class=\"dataframe\">\n",
              "  <thead>\n",
              "    <tr>\n",
              "      <th id=\"T_2307f_level0_col0\" class=\"col_heading level0 col0\" >lastname</th>\n",
              "      <th id=\"T_2307f_level0_col1\" class=\"col_heading level0 col1\" >jobdesc</th>\n",
              "      <th id=\"T_2307f_level0_col2\" class=\"col_heading level0 col2\" >salary</th>\n",
              "      <th id=\"T_2307f_level0_col3\" class=\"col_heading level0 col3\" >deptid</th>\n",
              "    </tr>\n",
              "  </thead>\n",
              "  <tbody>\n",
              "    <tr>\n",
              "      <td id=\"T_2307f_row0_col0\" class=\"data row0 col0\" >Dikshit</td>\n",
              "      <td id=\"T_2307f_row0_col1\" class=\"data row0 col1\" >Clerk</td>\n",
              "      <td id=\"T_2307f_row0_col2\" class=\"data row0 col2\" >10000</td>\n",
              "      <td id=\"T_2307f_row0_col3\" class=\"data row0 col3\" >20</td>\n",
              "    </tr>\n",
              "    <tr>\n",
              "      <td id=\"T_2307f_row1_col0\" class=\"data row1 col0\" >Khan</td>\n",
              "      <td id=\"T_2307f_row1_col1\" class=\"data row1 col1\" >Manager</td>\n",
              "      <td id=\"T_2307f_row1_col2\" class=\"data row1 col2\" >30000</td>\n",
              "      <td id=\"T_2307f_row1_col3\" class=\"data row1 col3\" >20</td>\n",
              "    </tr>\n",
              "    <tr>\n",
              "      <td id=\"T_2307f_row2_col0\" class=\"data row2 col0\" >Sehwag</td>\n",
              "      <td id=\"T_2307f_row2_col1\" class=\"data row2 col1\" >Cus_Rep</td>\n",
              "      <td id=\"T_2307f_row2_col2\" class=\"data row2 col2\" >15000</td>\n",
              "      <td id=\"T_2307f_row2_col3\" class=\"data row2 col3\" >20</td>\n",
              "    </tr>\n",
              "  </tbody>\n",
              "</table>\n"
            ]
          },
          "metadata": {},
          "execution_count": 28
        }
      ]
    },
    {
      "cell_type": "code",
      "source": [
        "runSelect(\"select lastname, jobdesc, salary, deptid from empl where deptid = '20' and salary > 10000\")"
      ],
      "metadata": {
        "colab": {
          "base_uri": "https://localhost:8080/",
          "height": 112
        },
        "id": "wHIJoUGqnuwa",
        "outputId": "2d365a6e-45f8-4abc-a8ce-18414b829a0b"
      },
      "execution_count": null,
      "outputs": [
        {
          "output_type": "execute_result",
          "data": {
            "text/plain": [
              "<pandas.io.formats.style.Styler at 0x7bb7a7bd5450>"
            ],
            "text/html": [
              "<style type=\"text/css\">\n",
              "</style>\n",
              "<table id=\"T_5a930\" class=\"dataframe\">\n",
              "  <thead>\n",
              "    <tr>\n",
              "      <th id=\"T_5a930_level0_col0\" class=\"col_heading level0 col0\" >lastname</th>\n",
              "      <th id=\"T_5a930_level0_col1\" class=\"col_heading level0 col1\" >jobdesc</th>\n",
              "      <th id=\"T_5a930_level0_col2\" class=\"col_heading level0 col2\" >salary</th>\n",
              "      <th id=\"T_5a930_level0_col3\" class=\"col_heading level0 col3\" >deptid</th>\n",
              "    </tr>\n",
              "  </thead>\n",
              "  <tbody>\n",
              "    <tr>\n",
              "      <td id=\"T_5a930_row0_col0\" class=\"data row0 col0\" >Khan</td>\n",
              "      <td id=\"T_5a930_row0_col1\" class=\"data row0 col1\" >Manager</td>\n",
              "      <td id=\"T_5a930_row0_col2\" class=\"data row0 col2\" >30000</td>\n",
              "      <td id=\"T_5a930_row0_col3\" class=\"data row0 col3\" >20</td>\n",
              "    </tr>\n",
              "    <tr>\n",
              "      <td id=\"T_5a930_row1_col0\" class=\"data row1 col0\" >Sehwag</td>\n",
              "      <td id=\"T_5a930_row1_col1\" class=\"data row1 col1\" >Cus_Rep</td>\n",
              "      <td id=\"T_5a930_row1_col2\" class=\"data row1 col2\" >15000</td>\n",
              "      <td id=\"T_5a930_row1_col3\" class=\"data row1 col3\" >20</td>\n",
              "    </tr>\n",
              "  </tbody>\n",
              "</table>\n"
            ]
          },
          "metadata": {},
          "execution_count": 29
        }
      ]
    },
    {
      "cell_type": "code",
      "source": [
        "runSelect(\"select lastname, jobdesc, salary, deptid from empl where deptid = '20' and salary > 10000 and jobdesc = 'Clerk'\")"
      ],
      "metadata": {
        "colab": {
          "base_uri": "https://localhost:8080/"
        },
        "id": "fnB8p8-EnzH2",
        "outputId": "75e5871b-1a1b-40bf-94cb-d4ed0a3e6b06"
      },
      "execution_count": null,
      "outputs": [
        {
          "output_type": "stream",
          "name": "stdout",
          "text": [
            "no records found\n"
          ]
        }
      ]
    },
    {
      "cell_type": "code",
      "source": [
        "runSelect(\"select lastname, jobdesc, deptid from empl where deptid = '70'\")"
      ],
      "metadata": {
        "colab": {
          "base_uri": "https://localhost:8080/",
          "height": 81
        },
        "id": "uEKUIgOMqtLw",
        "outputId": "6f807e5a-d8c9-46f2-9a1f-1ca6211564fa"
      },
      "execution_count": null,
      "outputs": [
        {
          "output_type": "execute_result",
          "data": {
            "text/plain": [
              "<pandas.io.formats.style.Styler at 0x7bb7a7a78bd0>"
            ],
            "text/html": [
              "<style type=\"text/css\">\n",
              "</style>\n",
              "<table id=\"T_92483\" class=\"dataframe\">\n",
              "  <thead>\n",
              "    <tr>\n",
              "      <th id=\"T_92483_level0_col0\" class=\"col_heading level0 col0\" >lastname</th>\n",
              "      <th id=\"T_92483_level0_col1\" class=\"col_heading level0 col1\" >jobdesc</th>\n",
              "      <th id=\"T_92483_level0_col2\" class=\"col_heading level0 col2\" >deptid</th>\n",
              "    </tr>\n",
              "  </thead>\n",
              "  <tbody>\n",
              "    <tr>\n",
              "      <td id=\"T_92483_row0_col0\" class=\"data row0 col0\" >Sunil</td>\n",
              "      <td id=\"T_92483_row0_col1\" class=\"data row0 col1\" >Dy Manager</td>\n",
              "      <td id=\"T_92483_row0_col2\" class=\"data row0 col2\" >70</td>\n",
              "    </tr>\n",
              "  </tbody>\n",
              "</table>\n"
            ]
          },
          "metadata": {},
          "execution_count": 31
        }
      ]
    },
    {
      "cell_type": "code",
      "source": [
        "runSelect(\"select lastname, jobdesc, deptid from empl where deptid = '70' or jobdesc like '%Manager'\")"
      ],
      "metadata": {
        "colab": {
          "base_uri": "https://localhost:8080/",
          "height": 175
        },
        "id": "Ne0eLRV3qyTn",
        "outputId": "733f9241-ed4e-4e4f-8aeb-c7135baff624"
      },
      "execution_count": null,
      "outputs": [
        {
          "output_type": "execute_result",
          "data": {
            "text/plain": [
              "<pandas.io.formats.style.Styler at 0x7bb7a7a7a690>"
            ],
            "text/html": [
              "<style type=\"text/css\">\n",
              "</style>\n",
              "<table id=\"T_455e1\" class=\"dataframe\">\n",
              "  <thead>\n",
              "    <tr>\n",
              "      <th id=\"T_455e1_level0_col0\" class=\"col_heading level0 col0\" >lastname</th>\n",
              "      <th id=\"T_455e1_level0_col1\" class=\"col_heading level0 col1\" >jobdesc</th>\n",
              "      <th id=\"T_455e1_level0_col2\" class=\"col_heading level0 col2\" >deptid</th>\n",
              "    </tr>\n",
              "  </thead>\n",
              "  <tbody>\n",
              "    <tr>\n",
              "      <td id=\"T_455e1_row0_col0\" class=\"data row0 col0\" >Mukherjee</td>\n",
              "      <td id=\"T_455e1_row0_col1\" class=\"data row0 col1\" >Manager</td>\n",
              "      <td id=\"T_455e1_row0_col2\" class=\"data row0 col2\" >40</td>\n",
              "    </tr>\n",
              "    <tr>\n",
              "      <td id=\"T_455e1_row1_col0\" class=\"data row1 col0\" >Khan</td>\n",
              "      <td id=\"T_455e1_row1_col1\" class=\"data row1 col1\" >Manager</td>\n",
              "      <td id=\"T_455e1_row1_col2\" class=\"data row1 col2\" >20</td>\n",
              "    </tr>\n",
              "    <tr>\n",
              "      <td id=\"T_455e1_row2_col0\" class=\"data row2 col0\" >Dravid</td>\n",
              "      <td id=\"T_455e1_row2_col1\" class=\"data row2 col1\" >Sr Manager</td>\n",
              "      <td id=\"T_455e1_row2_col2\" class=\"data row2 col2\" >30</td>\n",
              "    </tr>\n",
              "    <tr>\n",
              "      <td id=\"T_455e1_row3_col0\" class=\"data row3 col0\" >Sunil</td>\n",
              "      <td id=\"T_455e1_row3_col1\" class=\"data row3 col1\" >Dy Manager</td>\n",
              "      <td id=\"T_455e1_row3_col2\" class=\"data row3 col2\" >70</td>\n",
              "    </tr>\n",
              "  </tbody>\n",
              "</table>\n"
            ]
          },
          "metadata": {},
          "execution_count": 32
        }
      ]
    },
    {
      "cell_type": "code",
      "source": [
        "runSelect(\"select lastname, jobdesc, deptid from empl where deptid = '70' or jobdesc like '%Manager' or lastname = 'Dikshit'\")"
      ],
      "metadata": {
        "colab": {
          "base_uri": "https://localhost:8080/",
          "height": 206
        },
        "id": "aR3eNz7xq8Xo",
        "outputId": "468d6936-1819-45b7-b394-de119d3c567c"
      },
      "execution_count": null,
      "outputs": [
        {
          "output_type": "execute_result",
          "data": {
            "text/plain": [
              "<pandas.io.formats.style.Styler at 0x7bb7a7a7a390>"
            ],
            "text/html": [
              "<style type=\"text/css\">\n",
              "</style>\n",
              "<table id=\"T_98d04\" class=\"dataframe\">\n",
              "  <thead>\n",
              "    <tr>\n",
              "      <th id=\"T_98d04_level0_col0\" class=\"col_heading level0 col0\" >lastname</th>\n",
              "      <th id=\"T_98d04_level0_col1\" class=\"col_heading level0 col1\" >jobdesc</th>\n",
              "      <th id=\"T_98d04_level0_col2\" class=\"col_heading level0 col2\" >deptid</th>\n",
              "    </tr>\n",
              "  </thead>\n",
              "  <tbody>\n",
              "    <tr>\n",
              "      <td id=\"T_98d04_row0_col0\" class=\"data row0 col0\" >Mukherjee</td>\n",
              "      <td id=\"T_98d04_row0_col1\" class=\"data row0 col1\" >Manager</td>\n",
              "      <td id=\"T_98d04_row0_col2\" class=\"data row0 col2\" >40</td>\n",
              "    </tr>\n",
              "    <tr>\n",
              "      <td id=\"T_98d04_row1_col0\" class=\"data row1 col0\" >Dikshit</td>\n",
              "      <td id=\"T_98d04_row1_col1\" class=\"data row1 col1\" >Clerk</td>\n",
              "      <td id=\"T_98d04_row1_col2\" class=\"data row1 col2\" >20</td>\n",
              "    </tr>\n",
              "    <tr>\n",
              "      <td id=\"T_98d04_row2_col0\" class=\"data row2 col0\" >Khan</td>\n",
              "      <td id=\"T_98d04_row2_col1\" class=\"data row2 col1\" >Manager</td>\n",
              "      <td id=\"T_98d04_row2_col2\" class=\"data row2 col2\" >20</td>\n",
              "    </tr>\n",
              "    <tr>\n",
              "      <td id=\"T_98d04_row3_col0\" class=\"data row3 col0\" >Dravid</td>\n",
              "      <td id=\"T_98d04_row3_col1\" class=\"data row3 col1\" >Sr Manager</td>\n",
              "      <td id=\"T_98d04_row3_col2\" class=\"data row3 col2\" >30</td>\n",
              "    </tr>\n",
              "    <tr>\n",
              "      <td id=\"T_98d04_row4_col0\" class=\"data row4 col0\" >Sunil</td>\n",
              "      <td id=\"T_98d04_row4_col1\" class=\"data row4 col1\" >Dy Manager</td>\n",
              "      <td id=\"T_98d04_row4_col2\" class=\"data row4 col2\" >70</td>\n",
              "    </tr>\n",
              "  </tbody>\n",
              "</table>\n"
            ]
          },
          "metadata": {},
          "execution_count": 33
        }
      ]
    },
    {
      "cell_type": "code",
      "source": [
        "runSelect(\"select lastname, jobdesc, salary from empl where jobdesc = 'Cus_Rep' or jobdesc = 'Clerk' and salary < 16000\")"
      ],
      "metadata": {
        "colab": {
          "base_uri": "https://localhost:8080/",
          "height": 237
        },
        "id": "Ov0HErC0txm4",
        "outputId": "b151f446-67ef-4cb4-d64b-f7eb742ea090"
      },
      "execution_count": null,
      "outputs": [
        {
          "output_type": "execute_result",
          "data": {
            "text/plain": [
              "<pandas.io.formats.style.Styler at 0x7bb7a7a7a750>"
            ],
            "text/html": [
              "<style type=\"text/css\">\n",
              "</style>\n",
              "<table id=\"T_1c9cc\" class=\"dataframe\">\n",
              "  <thead>\n",
              "    <tr>\n",
              "      <th id=\"T_1c9cc_level0_col0\" class=\"col_heading level0 col0\" >lastname</th>\n",
              "      <th id=\"T_1c9cc_level0_col1\" class=\"col_heading level0 col1\" >jobdesc</th>\n",
              "      <th id=\"T_1c9cc_level0_col2\" class=\"col_heading level0 col2\" >salary</th>\n",
              "    </tr>\n",
              "  </thead>\n",
              "  <tbody>\n",
              "    <tr>\n",
              "      <td id=\"T_1c9cc_row0_col0\" class=\"data row0 col0\" >Dikshit</td>\n",
              "      <td id=\"T_1c9cc_row0_col1\" class=\"data row0 col1\" >Clerk</td>\n",
              "      <td id=\"T_1c9cc_row0_col2\" class=\"data row0 col2\" >10000</td>\n",
              "    </tr>\n",
              "    <tr>\n",
              "      <td id=\"T_1c9cc_row1_col0\" class=\"data row1 col0\" >Sehwag</td>\n",
              "      <td id=\"T_1c9cc_row1_col1\" class=\"data row1 col1\" >Cus_Rep</td>\n",
              "      <td id=\"T_1c9cc_row1_col2\" class=\"data row1 col2\" >15000</td>\n",
              "    </tr>\n",
              "    <tr>\n",
              "      <td id=\"T_1c9cc_row2_col0\" class=\"data row2 col0\" >Dhoni</td>\n",
              "      <td id=\"T_1c9cc_row2_col1\" class=\"data row2 col1\" >Clerk</td>\n",
              "      <td id=\"T_1c9cc_row2_col2\" class=\"data row2 col2\" >9000</td>\n",
              "    </tr>\n",
              "    <tr>\n",
              "      <td id=\"T_1c9cc_row3_col0\" class=\"data row3 col0\" >Dalmia</td>\n",
              "      <td id=\"T_1c9cc_row3_col1\" class=\"data row3 col1\" >Clerk</td>\n",
              "      <td id=\"T_1c9cc_row3_col2\" class=\"data row3 col2\" >12000</td>\n",
              "    </tr>\n",
              "    <tr>\n",
              "      <td id=\"T_1c9cc_row4_col0\" class=\"data row4 col0\" >Ganguly</td>\n",
              "      <td id=\"T_1c9cc_row4_col1\" class=\"data row4 col1\" >Cus_Rep</td>\n",
              "      <td id=\"T_1c9cc_row4_col2\" class=\"data row4 col2\" >20000</td>\n",
              "    </tr>\n",
              "    <tr>\n",
              "      <td id=\"T_1c9cc_row5_col0\" class=\"data row5 col0\" >Mirza</td>\n",
              "      <td id=\"T_1c9cc_row5_col1\" class=\"data row5 col1\" >Cus_Rep</td>\n",
              "      <td id=\"T_1c9cc_row5_col2\" class=\"data row5 col2\" >25000</td>\n",
              "    </tr>\n",
              "  </tbody>\n",
              "</table>\n"
            ]
          },
          "metadata": {},
          "execution_count": 34
        }
      ]
    },
    {
      "cell_type": "code",
      "source": [
        "runSelect(\"select lastname, jobdesc, salary from empl where (jobdesc = 'Cus_Rep' or jobdesc = 'Clerk') and salary < 16000\")"
      ],
      "metadata": {
        "colab": {
          "base_uri": "https://localhost:8080/",
          "height": 175
        },
        "id": "g7hbzjdxuOt6",
        "outputId": "cb48fbcc-9653-4e73-cfc2-29adbabae545"
      },
      "execution_count": null,
      "outputs": [
        {
          "output_type": "execute_result",
          "data": {
            "text/plain": [
              "<pandas.io.formats.style.Styler at 0x7bb7a7a6bc90>"
            ],
            "text/html": [
              "<style type=\"text/css\">\n",
              "</style>\n",
              "<table id=\"T_24e8f\" class=\"dataframe\">\n",
              "  <thead>\n",
              "    <tr>\n",
              "      <th id=\"T_24e8f_level0_col0\" class=\"col_heading level0 col0\" >lastname</th>\n",
              "      <th id=\"T_24e8f_level0_col1\" class=\"col_heading level0 col1\" >jobdesc</th>\n",
              "      <th id=\"T_24e8f_level0_col2\" class=\"col_heading level0 col2\" >salary</th>\n",
              "    </tr>\n",
              "  </thead>\n",
              "  <tbody>\n",
              "    <tr>\n",
              "      <td id=\"T_24e8f_row0_col0\" class=\"data row0 col0\" >Dikshit</td>\n",
              "      <td id=\"T_24e8f_row0_col1\" class=\"data row0 col1\" >Clerk</td>\n",
              "      <td id=\"T_24e8f_row0_col2\" class=\"data row0 col2\" >10000</td>\n",
              "    </tr>\n",
              "    <tr>\n",
              "      <td id=\"T_24e8f_row1_col0\" class=\"data row1 col0\" >Sehwag</td>\n",
              "      <td id=\"T_24e8f_row1_col1\" class=\"data row1 col1\" >Cus_Rep</td>\n",
              "      <td id=\"T_24e8f_row1_col2\" class=\"data row1 col2\" >15000</td>\n",
              "    </tr>\n",
              "    <tr>\n",
              "      <td id=\"T_24e8f_row2_col0\" class=\"data row2 col0\" >Dhoni</td>\n",
              "      <td id=\"T_24e8f_row2_col1\" class=\"data row2 col1\" >Clerk</td>\n",
              "      <td id=\"T_24e8f_row2_col2\" class=\"data row2 col2\" >9000</td>\n",
              "    </tr>\n",
              "    <tr>\n",
              "      <td id=\"T_24e8f_row3_col0\" class=\"data row3 col0\" >Dalmia</td>\n",
              "      <td id=\"T_24e8f_row3_col1\" class=\"data row3 col1\" >Clerk</td>\n",
              "      <td id=\"T_24e8f_row3_col2\" class=\"data row3 col2\" >12000</td>\n",
              "    </tr>\n",
              "  </tbody>\n",
              "</table>\n"
            ]
          },
          "metadata": {},
          "execution_count": 35
        }
      ]
    },
    {
      "cell_type": "markdown",
      "source": [
        "# Single Row Functions"
      ],
      "metadata": {
        "id": "ND-8LYQcxsG2"
      }
    },
    {
      "cell_type": "code",
      "source": [
        "runSelect(\"select lastname, deptid, salary, comm, salary+salary*comm payout from empl where deptid = '20'\")"
      ],
      "metadata": {
        "colab": {
          "base_uri": "https://localhost:8080/",
          "height": 143
        },
        "id": "s71weE_hyDwf",
        "outputId": "dafbf7cd-a31e-4e12-fcfc-502e384dd97b"
      },
      "execution_count": null,
      "outputs": [
        {
          "output_type": "execute_result",
          "data": {
            "text/plain": [
              "<pandas.io.formats.style.Styler at 0x7bb7a7a693d0>"
            ],
            "text/html": [
              "<style type=\"text/css\">\n",
              "</style>\n",
              "<table id=\"T_fa0cd\" class=\"dataframe\">\n",
              "  <thead>\n",
              "    <tr>\n",
              "      <th id=\"T_fa0cd_level0_col0\" class=\"col_heading level0 col0\" >lastname</th>\n",
              "      <th id=\"T_fa0cd_level0_col1\" class=\"col_heading level0 col1\" >deptid</th>\n",
              "      <th id=\"T_fa0cd_level0_col2\" class=\"col_heading level0 col2\" >salary</th>\n",
              "      <th id=\"T_fa0cd_level0_col3\" class=\"col_heading level0 col3\" >comm</th>\n",
              "      <th id=\"T_fa0cd_level0_col4\" class=\"col_heading level0 col4\" >payout</th>\n",
              "    </tr>\n",
              "  </thead>\n",
              "  <tbody>\n",
              "    <tr>\n",
              "      <td id=\"T_fa0cd_row0_col0\" class=\"data row0 col0\" >Dikshit</td>\n",
              "      <td id=\"T_fa0cd_row0_col1\" class=\"data row0 col1\" >20</td>\n",
              "      <td id=\"T_fa0cd_row0_col2\" class=\"data row0 col2\" >10000</td>\n",
              "      <td id=\"T_fa0cd_row0_col3\" class=\"data row0 col3\" >0.02</td>\n",
              "      <td id=\"T_fa0cd_row0_col4\" class=\"data row0 col4\" >10200.00</td>\n",
              "    </tr>\n",
              "    <tr>\n",
              "      <td id=\"T_fa0cd_row1_col0\" class=\"data row1 col0\" >Khan</td>\n",
              "      <td id=\"T_fa0cd_row1_col1\" class=\"data row1 col1\" >20</td>\n",
              "      <td id=\"T_fa0cd_row1_col2\" class=\"data row1 col2\" >30000</td>\n",
              "      <td id=\"T_fa0cd_row1_col3\" class=\"data row1 col3\" >0.07</td>\n",
              "      <td id=\"T_fa0cd_row1_col4\" class=\"data row1 col4\" >32100.00</td>\n",
              "    </tr>\n",
              "    <tr>\n",
              "      <td id=\"T_fa0cd_row2_col0\" class=\"data row2 col0\" >Sehwag</td>\n",
              "      <td id=\"T_fa0cd_row2_col1\" class=\"data row2 col1\" >20</td>\n",
              "      <td id=\"T_fa0cd_row2_col2\" class=\"data row2 col2\" >15000</td>\n",
              "      <td id=\"T_fa0cd_row2_col3\" class=\"data row2 col3\" >0.05</td>\n",
              "      <td id=\"T_fa0cd_row2_col4\" class=\"data row2 col4\" >15750.00</td>\n",
              "    </tr>\n",
              "  </tbody>\n",
              "</table>\n"
            ]
          },
          "metadata": {},
          "execution_count": 36
        }
      ]
    },
    {
      "cell_type": "code",
      "source": [
        "runSelect(\"select lastname, firstname, deptid, substring(firstname,1,3) nick from empl where deptid = '20'\")"
      ],
      "metadata": {
        "colab": {
          "base_uri": "https://localhost:8080/",
          "height": 143
        },
        "id": "I3rkoZrYyb_P",
        "outputId": "da022807-864d-4c2d-841f-a7d04814e36f"
      },
      "execution_count": null,
      "outputs": [
        {
          "output_type": "execute_result",
          "data": {
            "text/plain": [
              "<pandas.io.formats.style.Styler at 0x7bb7a7a6b350>"
            ],
            "text/html": [
              "<style type=\"text/css\">\n",
              "</style>\n",
              "<table id=\"T_3de1b\" class=\"dataframe\">\n",
              "  <thead>\n",
              "    <tr>\n",
              "      <th id=\"T_3de1b_level0_col0\" class=\"col_heading level0 col0\" >lastname</th>\n",
              "      <th id=\"T_3de1b_level0_col1\" class=\"col_heading level0 col1\" >firstname</th>\n",
              "      <th id=\"T_3de1b_level0_col2\" class=\"col_heading level0 col2\" >deptid</th>\n",
              "      <th id=\"T_3de1b_level0_col3\" class=\"col_heading level0 col3\" >nick</th>\n",
              "    </tr>\n",
              "  </thead>\n",
              "  <tbody>\n",
              "    <tr>\n",
              "      <td id=\"T_3de1b_row0_col0\" class=\"data row0 col0\" >Dikshit</td>\n",
              "      <td id=\"T_3de1b_row0_col1\" class=\"data row0 col1\" >Madhuri</td>\n",
              "      <td id=\"T_3de1b_row0_col2\" class=\"data row0 col2\" >20</td>\n",
              "      <td id=\"T_3de1b_row0_col3\" class=\"data row0 col3\" >Mad</td>\n",
              "    </tr>\n",
              "    <tr>\n",
              "      <td id=\"T_3de1b_row1_col0\" class=\"data row1 col0\" >Khan</td>\n",
              "      <td id=\"T_3de1b_row1_col1\" class=\"data row1 col1\" >Shahrukh</td>\n",
              "      <td id=\"T_3de1b_row1_col2\" class=\"data row1 col2\" >20</td>\n",
              "      <td id=\"T_3de1b_row1_col3\" class=\"data row1 col3\" >Sha</td>\n",
              "    </tr>\n",
              "    <tr>\n",
              "      <td id=\"T_3de1b_row2_col0\" class=\"data row2 col0\" >Sehwag</td>\n",
              "      <td id=\"T_3de1b_row2_col1\" class=\"data row2 col1\" >Virender</td>\n",
              "      <td id=\"T_3de1b_row2_col2\" class=\"data row2 col2\" >20</td>\n",
              "      <td id=\"T_3de1b_row2_col3\" class=\"data row2 col3\" >Vir</td>\n",
              "    </tr>\n",
              "  </tbody>\n",
              "</table>\n"
            ]
          },
          "metadata": {},
          "execution_count": 37
        }
      ]
    },
    {
      "cell_type": "code",
      "source": [
        "runSelect(\"select lastname, firstname, deptid, concat('\\\"',substring(firstname,2,3),'\\\" ',lastname) nick from empl where deptid = '20'\")"
      ],
      "metadata": {
        "colab": {
          "base_uri": "https://localhost:8080/",
          "height": 143
        },
        "id": "xNQl1KpSzIQc",
        "outputId": "d95c5a49-baa6-447b-9112-8f84452a80a9"
      },
      "execution_count": null,
      "outputs": [
        {
          "output_type": "execute_result",
          "data": {
            "text/plain": [
              "<pandas.io.formats.style.Styler at 0x7bb7a7a68d50>"
            ],
            "text/html": [
              "<style type=\"text/css\">\n",
              "</style>\n",
              "<table id=\"T_d34b4\" class=\"dataframe\">\n",
              "  <thead>\n",
              "    <tr>\n",
              "      <th id=\"T_d34b4_level0_col0\" class=\"col_heading level0 col0\" >lastname</th>\n",
              "      <th id=\"T_d34b4_level0_col1\" class=\"col_heading level0 col1\" >firstname</th>\n",
              "      <th id=\"T_d34b4_level0_col2\" class=\"col_heading level0 col2\" >deptid</th>\n",
              "      <th id=\"T_d34b4_level0_col3\" class=\"col_heading level0 col3\" >nick</th>\n",
              "    </tr>\n",
              "  </thead>\n",
              "  <tbody>\n",
              "    <tr>\n",
              "      <td id=\"T_d34b4_row0_col0\" class=\"data row0 col0\" >Dikshit</td>\n",
              "      <td id=\"T_d34b4_row0_col1\" class=\"data row0 col1\" >Madhuri</td>\n",
              "      <td id=\"T_d34b4_row0_col2\" class=\"data row0 col2\" >20</td>\n",
              "      <td id=\"T_d34b4_row0_col3\" class=\"data row0 col3\" >\"adh\" Dikshit</td>\n",
              "    </tr>\n",
              "    <tr>\n",
              "      <td id=\"T_d34b4_row1_col0\" class=\"data row1 col0\" >Khan</td>\n",
              "      <td id=\"T_d34b4_row1_col1\" class=\"data row1 col1\" >Shahrukh</td>\n",
              "      <td id=\"T_d34b4_row1_col2\" class=\"data row1 col2\" >20</td>\n",
              "      <td id=\"T_d34b4_row1_col3\" class=\"data row1 col3\" >\"hah\" Khan</td>\n",
              "    </tr>\n",
              "    <tr>\n",
              "      <td id=\"T_d34b4_row2_col0\" class=\"data row2 col0\" >Sehwag</td>\n",
              "      <td id=\"T_d34b4_row2_col1\" class=\"data row2 col1\" >Virender</td>\n",
              "      <td id=\"T_d34b4_row2_col2\" class=\"data row2 col2\" >20</td>\n",
              "      <td id=\"T_d34b4_row2_col3\" class=\"data row2 col3\" >\"ire\" Sehwag</td>\n",
              "    </tr>\n",
              "  </tbody>\n",
              "</table>\n"
            ]
          },
          "metadata": {},
          "execution_count": 38
        }
      ]
    },
    {
      "cell_type": "code",
      "source": [
        "runSelect(\"select LastName, Current_Date,JoinDate, to_char(JoinDate,'Day') JoinDay, to_char(JoinDate,'DD-mon-YY') JoinDate2, \\\n",
        "Current_Date-JoinDate DaysSince from Empl\")\n",
        "\n",
        "#https://blog.quest.com/exploring-postgres-date-formats-and-their-different-functions/\n"
      ],
      "metadata": {
        "id": "37Rjgkxz-BP0",
        "outputId": "91275680-6e77-424b-be70-5b6ba99ee14c",
        "colab": {
          "base_uri": "https://localhost:8080/",
          "height": 457
        }
      },
      "execution_count": null,
      "outputs": [
        {
          "output_type": "execute_result",
          "data": {
            "text/plain": [
              "<pandas.io.formats.style.Styler at 0x7bb7a7a5ad50>"
            ],
            "text/html": [
              "<style type=\"text/css\">\n",
              "</style>\n",
              "<table id=\"T_22f56\" class=\"dataframe\">\n",
              "  <thead>\n",
              "    <tr>\n",
              "      <th id=\"T_22f56_level0_col0\" class=\"col_heading level0 col0\" >lastname</th>\n",
              "      <th id=\"T_22f56_level0_col1\" class=\"col_heading level0 col1\" >current_date</th>\n",
              "      <th id=\"T_22f56_level0_col2\" class=\"col_heading level0 col2\" >joindate</th>\n",
              "      <th id=\"T_22f56_level0_col3\" class=\"col_heading level0 col3\" >joinday</th>\n",
              "      <th id=\"T_22f56_level0_col4\" class=\"col_heading level0 col4\" >joindate2</th>\n",
              "      <th id=\"T_22f56_level0_col5\" class=\"col_heading level0 col5\" >dayssince</th>\n",
              "    </tr>\n",
              "  </thead>\n",
              "  <tbody>\n",
              "    <tr>\n",
              "      <td id=\"T_22f56_row0_col0\" class=\"data row0 col0\" >Bacchan</td>\n",
              "      <td id=\"T_22f56_row0_col1\" class=\"data row0 col1\" >2025-07-28</td>\n",
              "      <td id=\"T_22f56_row0_col2\" class=\"data row0 col2\" >2003-03-10</td>\n",
              "      <td id=\"T_22f56_row0_col3\" class=\"data row0 col3\" >Monday   </td>\n",
              "      <td id=\"T_22f56_row0_col4\" class=\"data row0 col4\" >10-mar-03</td>\n",
              "      <td id=\"T_22f56_row0_col5\" class=\"data row0 col5\" >8176</td>\n",
              "    </tr>\n",
              "    <tr>\n",
              "      <td id=\"T_22f56_row1_col0\" class=\"data row1 col0\" >Mukherjee</td>\n",
              "      <td id=\"T_22f56_row1_col1\" class=\"data row1 col1\" >2025-07-28</td>\n",
              "      <td id=\"T_22f56_row1_col2\" class=\"data row1 col2\" >2005-05-04</td>\n",
              "      <td id=\"T_22f56_row1_col3\" class=\"data row1 col3\" >Wednesday</td>\n",
              "      <td id=\"T_22f56_row1_col4\" class=\"data row1 col4\" >04-may-05</td>\n",
              "      <td id=\"T_22f56_row1_col5\" class=\"data row1 col5\" >7390</td>\n",
              "    </tr>\n",
              "    <tr>\n",
              "      <td id=\"T_22f56_row2_col0\" class=\"data row2 col0\" >Dikshit</td>\n",
              "      <td id=\"T_22f56_row2_col1\" class=\"data row2 col1\" >2025-07-28</td>\n",
              "      <td id=\"T_22f56_row2_col2\" class=\"data row2 col2\" >2002-04-04</td>\n",
              "      <td id=\"T_22f56_row2_col3\" class=\"data row2 col3\" >Thursday </td>\n",
              "      <td id=\"T_22f56_row2_col4\" class=\"data row2 col4\" >04-apr-02</td>\n",
              "      <td id=\"T_22f56_row2_col5\" class=\"data row2 col5\" >8516</td>\n",
              "    </tr>\n",
              "    <tr>\n",
              "      <td id=\"T_22f56_row3_col0\" class=\"data row3 col0\" >Khan</td>\n",
              "      <td id=\"T_22f56_row3_col1\" class=\"data row3 col1\" >2025-07-28</td>\n",
              "      <td id=\"T_22f56_row3_col2\" class=\"data row3 col2\" >2004-01-03</td>\n",
              "      <td id=\"T_22f56_row3_col3\" class=\"data row3 col3\" >Saturday </td>\n",
              "      <td id=\"T_22f56_row3_col4\" class=\"data row3 col4\" >03-jan-04</td>\n",
              "      <td id=\"T_22f56_row3_col5\" class=\"data row3 col5\" >7877</td>\n",
              "    </tr>\n",
              "    <tr>\n",
              "      <td id=\"T_22f56_row4_col0\" class=\"data row4 col0\" >Sehwag</td>\n",
              "      <td id=\"T_22f56_row4_col1\" class=\"data row4 col1\" >2025-07-28</td>\n",
              "      <td id=\"T_22f56_row4_col2\" class=\"data row4 col2\" >2005-01-02</td>\n",
              "      <td id=\"T_22f56_row4_col3\" class=\"data row4 col3\" >Sunday   </td>\n",
              "      <td id=\"T_22f56_row4_col4\" class=\"data row4 col4\" >02-jan-05</td>\n",
              "      <td id=\"T_22f56_row4_col5\" class=\"data row4 col5\" >7512</td>\n",
              "    </tr>\n",
              "    <tr>\n",
              "      <td id=\"T_22f56_row5_col0\" class=\"data row5 col0\" >Dhoni</td>\n",
              "      <td id=\"T_22f56_row5_col1\" class=\"data row5 col1\" >2025-07-28</td>\n",
              "      <td id=\"T_22f56_row5_col2\" class=\"data row5 col2\" >2004-10-09</td>\n",
              "      <td id=\"T_22f56_row5_col3\" class=\"data row5 col3\" >Saturday </td>\n",
              "      <td id=\"T_22f56_row5_col4\" class=\"data row5 col4\" >09-oct-04</td>\n",
              "      <td id=\"T_22f56_row5_col5\" class=\"data row5 col5\" >7597</td>\n",
              "    </tr>\n",
              "    <tr>\n",
              "      <td id=\"T_22f56_row6_col0\" class=\"data row6 col0\" >Dravid</td>\n",
              "      <td id=\"T_22f56_row6_col1\" class=\"data row6 col1\" >2025-07-28</td>\n",
              "      <td id=\"T_22f56_row6_col2\" class=\"data row6 col2\" >2000-06-04</td>\n",
              "      <td id=\"T_22f56_row6_col3\" class=\"data row6 col3\" >Sunday   </td>\n",
              "      <td id=\"T_22f56_row6_col4\" class=\"data row6 col4\" >04-jun-00</td>\n",
              "      <td id=\"T_22f56_row6_col5\" class=\"data row6 col5\" >9185</td>\n",
              "    </tr>\n",
              "    <tr>\n",
              "      <td id=\"T_22f56_row7_col0\" class=\"data row7 col0\" >Dalmia</td>\n",
              "      <td id=\"T_22f56_row7_col1\" class=\"data row7 col1\" >2025-07-28</td>\n",
              "      <td id=\"T_22f56_row7_col2\" class=\"data row7 col2\" >2001-07-01</td>\n",
              "      <td id=\"T_22f56_row7_col3\" class=\"data row7 col3\" >Sunday   </td>\n",
              "      <td id=\"T_22f56_row7_col4\" class=\"data row7 col4\" >01-jul-01</td>\n",
              "      <td id=\"T_22f56_row7_col5\" class=\"data row7 col5\" >8793</td>\n",
              "    </tr>\n",
              "    <tr>\n",
              "      <td id=\"T_22f56_row8_col0\" class=\"data row8 col0\" >Ganguly</td>\n",
              "      <td id=\"T_22f56_row8_col1\" class=\"data row8 col1\" >2025-07-28</td>\n",
              "      <td id=\"T_22f56_row8_col2\" class=\"data row8 col2\" >2002-01-01</td>\n",
              "      <td id=\"T_22f56_row8_col3\" class=\"data row8 col3\" >Tuesday  </td>\n",
              "      <td id=\"T_22f56_row8_col4\" class=\"data row8 col4\" >01-jan-02</td>\n",
              "      <td id=\"T_22f56_row8_col5\" class=\"data row8 col5\" >8609</td>\n",
              "    </tr>\n",
              "    <tr>\n",
              "      <td id=\"T_22f56_row9_col0\" class=\"data row9 col0\" >Ganesan</td>\n",
              "      <td id=\"T_22f56_row9_col1\" class=\"data row9 col1\" >2025-07-28</td>\n",
              "      <td id=\"T_22f56_row9_col2\" class=\"data row9 col2\" >2002-10-10</td>\n",
              "      <td id=\"T_22f56_row9_col3\" class=\"data row9 col3\" >Thursday </td>\n",
              "      <td id=\"T_22f56_row9_col4\" class=\"data row9 col4\" >10-oct-02</td>\n",
              "      <td id=\"T_22f56_row9_col5\" class=\"data row9 col5\" >8327</td>\n",
              "    </tr>\n",
              "    <tr>\n",
              "      <td id=\"T_22f56_row10_col0\" class=\"data row10 col0\" >Karthikeyan</td>\n",
              "      <td id=\"T_22f56_row10_col1\" class=\"data row10 col1\" >2025-07-28</td>\n",
              "      <td id=\"T_22f56_row10_col2\" class=\"data row10 col2\" >2005-12-04</td>\n",
              "      <td id=\"T_22f56_row10_col3\" class=\"data row10 col3\" >Sunday   </td>\n",
              "      <td id=\"T_22f56_row10_col4\" class=\"data row10 col4\" >04-dec-05</td>\n",
              "      <td id=\"T_22f56_row10_col5\" class=\"data row10 col5\" >7176</td>\n",
              "    </tr>\n",
              "    <tr>\n",
              "      <td id=\"T_22f56_row11_col0\" class=\"data row11 col0\" >Sunil</td>\n",
              "      <td id=\"T_22f56_row11_col1\" class=\"data row11 col1\" >2025-07-28</td>\n",
              "      <td id=\"T_22f56_row11_col2\" class=\"data row11 col2\" >2006-12-07</td>\n",
              "      <td id=\"T_22f56_row11_col3\" class=\"data row11 col3\" >Thursday </td>\n",
              "      <td id=\"T_22f56_row11_col4\" class=\"data row11 col4\" >07-dec-06</td>\n",
              "      <td id=\"T_22f56_row11_col5\" class=\"data row11 col5\" >6808</td>\n",
              "    </tr>\n",
              "    <tr>\n",
              "      <td id=\"T_22f56_row12_col0\" class=\"data row12 col0\" >Mirza</td>\n",
              "      <td id=\"T_22f56_row12_col1\" class=\"data row12 col1\" >2025-07-28</td>\n",
              "      <td id=\"T_22f56_row12_col2\" class=\"data row12 col2\" >2001-11-19</td>\n",
              "      <td id=\"T_22f56_row12_col3\" class=\"data row12 col3\" >Monday   </td>\n",
              "      <td id=\"T_22f56_row12_col4\" class=\"data row12 col4\" >19-nov-01</td>\n",
              "      <td id=\"T_22f56_row12_col5\" class=\"data row12 col5\" >8652</td>\n",
              "    </tr>\n",
              "  </tbody>\n",
              "</table>\n"
            ]
          },
          "metadata": {},
          "execution_count": 39
        }
      ]
    },
    {
      "cell_type": "markdown",
      "source": [
        "# MultiRow Function | Group By | Having\n",
        "for more complex examples that demonstrate Grouping Sets, Cubes, Roll UP, Crosstabs and other OLAP related SQL see [this notebook](https://github.com/Praxis-QR/RDWH/blob/main/PostgreSQL_03B_SQL_Level2.ipynb)"
      ],
      "metadata": {
        "id": "ONgFWUTC2IPK"
      }
    },
    {
      "cell_type": "code",
      "source": [
        "runSelect(\"select sum(salary) Total_Salary from empl\")"
      ],
      "metadata": {
        "colab": {
          "base_uri": "https://localhost:8080/",
          "height": 81
        },
        "id": "7MnnzfJx2PSc",
        "outputId": "1254fe87-336c-4a13-a27b-818bd3233dfe"
      },
      "execution_count": null,
      "outputs": [
        {
          "output_type": "execute_result",
          "data": {
            "text/plain": [
              "<pandas.io.formats.style.Styler at 0x7bb7a7a57790>"
            ],
            "text/html": [
              "<style type=\"text/css\">\n",
              "</style>\n",
              "<table id=\"T_749f9\" class=\"dataframe\">\n",
              "  <thead>\n",
              "    <tr>\n",
              "      <th id=\"T_749f9_level0_col0\" class=\"col_heading level0 col0\" >total_salary</th>\n",
              "    </tr>\n",
              "  </thead>\n",
              "  <tbody>\n",
              "    <tr>\n",
              "      <td id=\"T_749f9_row0_col0\" class=\"data row0 col0\" >376000</td>\n",
              "    </tr>\n",
              "  </tbody>\n",
              "</table>\n"
            ]
          },
          "metadata": {},
          "execution_count": 40
        }
      ]
    },
    {
      "cell_type": "code",
      "source": [
        "runSelect(\"select round(avg(salary),2) Average_Salary from empl\")"
      ],
      "metadata": {
        "colab": {
          "base_uri": "https://localhost:8080/",
          "height": 81
        },
        "id": "e3Avb-HL4QPD",
        "outputId": "8698580e-2660-4894-c0a3-20e538fa5dec"
      },
      "execution_count": null,
      "outputs": [
        {
          "output_type": "execute_result",
          "data": {
            "text/plain": [
              "<pandas.io.formats.style.Styler at 0x7bb7a7a54650>"
            ],
            "text/html": [
              "<style type=\"text/css\">\n",
              "</style>\n",
              "<table id=\"T_45c42\" class=\"dataframe\">\n",
              "  <thead>\n",
              "    <tr>\n",
              "      <th id=\"T_45c42_level0_col0\" class=\"col_heading level0 col0\" >average_salary</th>\n",
              "    </tr>\n",
              "  </thead>\n",
              "  <tbody>\n",
              "    <tr>\n",
              "      <td id=\"T_45c42_row0_col0\" class=\"data row0 col0\" >28923.08</td>\n",
              "    </tr>\n",
              "  </tbody>\n",
              "</table>\n"
            ]
          },
          "metadata": {},
          "execution_count": 41
        }
      ]
    },
    {
      "cell_type": "code",
      "source": [
        "runSelect(\"select max(salary) Max_Salary from empl\")"
      ],
      "metadata": {
        "colab": {
          "base_uri": "https://localhost:8080/",
          "height": 81
        },
        "id": "Oe1qRQbI4gtY",
        "outputId": "39b1f308-5db6-4327-ce12-2b414286f707"
      },
      "execution_count": null,
      "outputs": [
        {
          "output_type": "execute_result",
          "data": {
            "text/plain": [
              "<pandas.io.formats.style.Styler at 0x7bb7a7a57210>"
            ],
            "text/html": [
              "<style type=\"text/css\">\n",
              "</style>\n",
              "<table id=\"T_0df17\" class=\"dataframe\">\n",
              "  <thead>\n",
              "    <tr>\n",
              "      <th id=\"T_0df17_level0_col0\" class=\"col_heading level0 col0\" >max_salary</th>\n",
              "    </tr>\n",
              "  </thead>\n",
              "  <tbody>\n",
              "    <tr>\n",
              "      <td id=\"T_0df17_row0_col0\" class=\"data row0 col0\" >60000</td>\n",
              "    </tr>\n",
              "  </tbody>\n",
              "</table>\n"
            ]
          },
          "metadata": {},
          "execution_count": 42
        }
      ]
    },
    {
      "cell_type": "code",
      "source": [
        "runSelect(\"select deptid, sum(salary) Total, max(salary) Max from empl group by deptid\")"
      ],
      "metadata": {
        "colab": {
          "base_uri": "https://localhost:8080/",
          "height": 206
        },
        "id": "xpmGXSAX69iU",
        "outputId": "c1dbd407-5867-4e34-f817-8b1eb4273de7"
      },
      "execution_count": null,
      "outputs": [
        {
          "output_type": "execute_result",
          "data": {
            "text/plain": [
              "<pandas.io.formats.style.Styler at 0x7bb7a7a5ac50>"
            ],
            "text/html": [
              "<style type=\"text/css\">\n",
              "</style>\n",
              "<table id=\"T_80718\" class=\"dataframe\">\n",
              "  <thead>\n",
              "    <tr>\n",
              "      <th id=\"T_80718_level0_col0\" class=\"col_heading level0 col0\" >deptid</th>\n",
              "      <th id=\"T_80718_level0_col1\" class=\"col_heading level0 col1\" >total</th>\n",
              "      <th id=\"T_80718_level0_col2\" class=\"col_heading level0 col2\" >max</th>\n",
              "    </tr>\n",
              "  </thead>\n",
              "  <tbody>\n",
              "    <tr>\n",
              "      <td id=\"T_80718_row0_col0\" class=\"data row0 col0\" >10</td>\n",
              "      <td id=\"T_80718_row0_col1\" class=\"data row0 col1\" >150000</td>\n",
              "      <td id=\"T_80718_row0_col2\" class=\"data row0 col2\" >60000</td>\n",
              "    </tr>\n",
              "    <tr>\n",
              "      <td id=\"T_80718_row1_col0\" class=\"data row1 col0\" >40</td>\n",
              "      <td id=\"T_80718_row1_col1\" class=\"data row1 col1\" >54000</td>\n",
              "      <td id=\"T_80718_row1_col2\" class=\"data row1 col2\" >25000</td>\n",
              "    </tr>\n",
              "    <tr>\n",
              "      <td id=\"T_80718_row2_col0\" class=\"data row2 col0\" >70</td>\n",
              "      <td id=\"T_80718_row2_col1\" class=\"data row2 col1\" >40000</td>\n",
              "      <td id=\"T_80718_row2_col2\" class=\"data row2 col2\" >40000</td>\n",
              "    </tr>\n",
              "    <tr>\n",
              "      <td id=\"T_80718_row3_col0\" class=\"data row3 col0\" >20</td>\n",
              "      <td id=\"T_80718_row3_col1\" class=\"data row3 col1\" >55000</td>\n",
              "      <td id=\"T_80718_row3_col2\" class=\"data row3 col2\" >30000</td>\n",
              "    </tr>\n",
              "    <tr>\n",
              "      <td id=\"T_80718_row4_col0\" class=\"data row4 col0\" >30</td>\n",
              "      <td id=\"T_80718_row4_col1\" class=\"data row4 col1\" >77000</td>\n",
              "      <td id=\"T_80718_row4_col2\" class=\"data row4 col2\" >40000</td>\n",
              "    </tr>\n",
              "  </tbody>\n",
              "</table>\n"
            ]
          },
          "metadata": {},
          "execution_count": 43
        }
      ]
    },
    {
      "cell_type": "code",
      "source": [
        "runSelect(\"select deptid, sum(salary) Total, max(salary) Max from empl group by deptid having sum(salary) > 50000\")"
      ],
      "metadata": {
        "colab": {
          "base_uri": "https://localhost:8080/",
          "height": 175
        },
        "id": "AdNDutZl7LCF",
        "outputId": "505d7241-738d-4640-8e04-170b1067623e"
      },
      "execution_count": null,
      "outputs": [
        {
          "output_type": "execute_result",
          "data": {
            "text/plain": [
              "<pandas.io.formats.style.Styler at 0x7bb7a7bd7810>"
            ],
            "text/html": [
              "<style type=\"text/css\">\n",
              "</style>\n",
              "<table id=\"T_a86e0\" class=\"dataframe\">\n",
              "  <thead>\n",
              "    <tr>\n",
              "      <th id=\"T_a86e0_level0_col0\" class=\"col_heading level0 col0\" >deptid</th>\n",
              "      <th id=\"T_a86e0_level0_col1\" class=\"col_heading level0 col1\" >total</th>\n",
              "      <th id=\"T_a86e0_level0_col2\" class=\"col_heading level0 col2\" >max</th>\n",
              "    </tr>\n",
              "  </thead>\n",
              "  <tbody>\n",
              "    <tr>\n",
              "      <td id=\"T_a86e0_row0_col0\" class=\"data row0 col0\" >10</td>\n",
              "      <td id=\"T_a86e0_row0_col1\" class=\"data row0 col1\" >150000</td>\n",
              "      <td id=\"T_a86e0_row0_col2\" class=\"data row0 col2\" >60000</td>\n",
              "    </tr>\n",
              "    <tr>\n",
              "      <td id=\"T_a86e0_row1_col0\" class=\"data row1 col0\" >40</td>\n",
              "      <td id=\"T_a86e0_row1_col1\" class=\"data row1 col1\" >54000</td>\n",
              "      <td id=\"T_a86e0_row1_col2\" class=\"data row1 col2\" >25000</td>\n",
              "    </tr>\n",
              "    <tr>\n",
              "      <td id=\"T_a86e0_row2_col0\" class=\"data row2 col0\" >20</td>\n",
              "      <td id=\"T_a86e0_row2_col1\" class=\"data row2 col1\" >55000</td>\n",
              "      <td id=\"T_a86e0_row2_col2\" class=\"data row2 col2\" >30000</td>\n",
              "    </tr>\n",
              "    <tr>\n",
              "      <td id=\"T_a86e0_row3_col0\" class=\"data row3 col0\" >30</td>\n",
              "      <td id=\"T_a86e0_row3_col1\" class=\"data row3 col1\" >77000</td>\n",
              "      <td id=\"T_a86e0_row3_col2\" class=\"data row3 col2\" >40000</td>\n",
              "    </tr>\n",
              "  </tbody>\n",
              "</table>\n"
            ]
          },
          "metadata": {},
          "execution_count": 44
        }
      ]
    },
    {
      "cell_type": "code",
      "source": [
        "runSelect(\"select deptid, sum(salary) Total, max(salary) Max from empl group by deptid having sum(salary) > 50000 and max(salary) < 35000\")"
      ],
      "metadata": {
        "colab": {
          "base_uri": "https://localhost:8080/",
          "height": 112
        },
        "id": "4VFmL5JF7bYo",
        "outputId": "f41df53f-9f35-4c00-fd48-b0f41ec90470"
      },
      "execution_count": null,
      "outputs": [
        {
          "output_type": "execute_result",
          "data": {
            "text/plain": [
              "<pandas.io.formats.style.Styler at 0x7bb7a7a5a090>"
            ],
            "text/html": [
              "<style type=\"text/css\">\n",
              "</style>\n",
              "<table id=\"T_89b03\" class=\"dataframe\">\n",
              "  <thead>\n",
              "    <tr>\n",
              "      <th id=\"T_89b03_level0_col0\" class=\"col_heading level0 col0\" >deptid</th>\n",
              "      <th id=\"T_89b03_level0_col1\" class=\"col_heading level0 col1\" >total</th>\n",
              "      <th id=\"T_89b03_level0_col2\" class=\"col_heading level0 col2\" >max</th>\n",
              "    </tr>\n",
              "  </thead>\n",
              "  <tbody>\n",
              "    <tr>\n",
              "      <td id=\"T_89b03_row0_col0\" class=\"data row0 col0\" >40</td>\n",
              "      <td id=\"T_89b03_row0_col1\" class=\"data row0 col1\" >54000</td>\n",
              "      <td id=\"T_89b03_row0_col2\" class=\"data row0 col2\" >25000</td>\n",
              "    </tr>\n",
              "    <tr>\n",
              "      <td id=\"T_89b03_row1_col0\" class=\"data row1 col0\" >20</td>\n",
              "      <td id=\"T_89b03_row1_col1\" class=\"data row1 col1\" >55000</td>\n",
              "      <td id=\"T_89b03_row1_col2\" class=\"data row1 col2\" >30000</td>\n",
              "    </tr>\n",
              "  </tbody>\n",
              "</table>\n"
            ]
          },
          "metadata": {},
          "execution_count": 45
        }
      ]
    },
    {
      "cell_type": "markdown",
      "source": [
        "#Conditionals | CASE"
      ],
      "metadata": {
        "id": "xDsapsK8Afpj"
      }
    },
    {
      "cell_type": "code",
      "source": [
        "runSelect(\"select lastname, jobdesc, salary, comm, salary+salary*comm Payout,\\\n",
        "case when jobdesc like '%Manager' then 2000 else 0 end bonus from empl\")"
      ],
      "metadata": {
        "colab": {
          "base_uri": "https://localhost:8080/",
          "height": 457
        },
        "id": "bYRWDlVNAxKx",
        "outputId": "19a10fcd-6762-4644-f132-a33d0d455017"
      },
      "execution_count": null,
      "outputs": [
        {
          "output_type": "execute_result",
          "data": {
            "text/plain": [
              "<pandas.io.formats.style.Styler at 0x7bb7a7a49750>"
            ],
            "text/html": [
              "<style type=\"text/css\">\n",
              "</style>\n",
              "<table id=\"T_156dc\" class=\"dataframe\">\n",
              "  <thead>\n",
              "    <tr>\n",
              "      <th id=\"T_156dc_level0_col0\" class=\"col_heading level0 col0\" >lastname</th>\n",
              "      <th id=\"T_156dc_level0_col1\" class=\"col_heading level0 col1\" >jobdesc</th>\n",
              "      <th id=\"T_156dc_level0_col2\" class=\"col_heading level0 col2\" >salary</th>\n",
              "      <th id=\"T_156dc_level0_col3\" class=\"col_heading level0 col3\" >comm</th>\n",
              "      <th id=\"T_156dc_level0_col4\" class=\"col_heading level0 col4\" >payout</th>\n",
              "      <th id=\"T_156dc_level0_col5\" class=\"col_heading level0 col5\" >bonus</th>\n",
              "    </tr>\n",
              "  </thead>\n",
              "  <tbody>\n",
              "    <tr>\n",
              "      <td id=\"T_156dc_row0_col0\" class=\"data row0 col0\" >Bacchan</td>\n",
              "      <td id=\"T_156dc_row0_col1\" class=\"data row0 col1\" >Executive</td>\n",
              "      <td id=\"T_156dc_row0_col2\" class=\"data row0 col2\" >50000</td>\n",
              "      <td id=\"T_156dc_row0_col3\" class=\"data row0 col3\" >0.10</td>\n",
              "      <td id=\"T_156dc_row0_col4\" class=\"data row0 col4\" >55000.00</td>\n",
              "      <td id=\"T_156dc_row0_col5\" class=\"data row0 col5\" >0</td>\n",
              "    </tr>\n",
              "    <tr>\n",
              "      <td id=\"T_156dc_row1_col0\" class=\"data row1 col0\" >Mukherjee</td>\n",
              "      <td id=\"T_156dc_row1_col1\" class=\"data row1 col1\" >Manager</td>\n",
              "      <td id=\"T_156dc_row1_col2\" class=\"data row1 col2\" >25000</td>\n",
              "      <td id=\"T_156dc_row1_col3\" class=\"data row1 col3\" >0.06</td>\n",
              "      <td id=\"T_156dc_row1_col4\" class=\"data row1 col4\" >26500.00</td>\n",
              "      <td id=\"T_156dc_row1_col5\" class=\"data row1 col5\" >2000</td>\n",
              "    </tr>\n",
              "    <tr>\n",
              "      <td id=\"T_156dc_row2_col0\" class=\"data row2 col0\" >Dikshit</td>\n",
              "      <td id=\"T_156dc_row2_col1\" class=\"data row2 col1\" >Clerk</td>\n",
              "      <td id=\"T_156dc_row2_col2\" class=\"data row2 col2\" >10000</td>\n",
              "      <td id=\"T_156dc_row2_col3\" class=\"data row2 col3\" >0.02</td>\n",
              "      <td id=\"T_156dc_row2_col4\" class=\"data row2 col4\" >10200.00</td>\n",
              "      <td id=\"T_156dc_row2_col5\" class=\"data row2 col5\" >0</td>\n",
              "    </tr>\n",
              "    <tr>\n",
              "      <td id=\"T_156dc_row3_col0\" class=\"data row3 col0\" >Khan</td>\n",
              "      <td id=\"T_156dc_row3_col1\" class=\"data row3 col1\" >Manager</td>\n",
              "      <td id=\"T_156dc_row3_col2\" class=\"data row3 col2\" >30000</td>\n",
              "      <td id=\"T_156dc_row3_col3\" class=\"data row3 col3\" >0.07</td>\n",
              "      <td id=\"T_156dc_row3_col4\" class=\"data row3 col4\" >32100.00</td>\n",
              "      <td id=\"T_156dc_row3_col5\" class=\"data row3 col5\" >2000</td>\n",
              "    </tr>\n",
              "    <tr>\n",
              "      <td id=\"T_156dc_row4_col0\" class=\"data row4 col0\" >Sehwag</td>\n",
              "      <td id=\"T_156dc_row4_col1\" class=\"data row4 col1\" >Cus_Rep</td>\n",
              "      <td id=\"T_156dc_row4_col2\" class=\"data row4 col2\" >15000</td>\n",
              "      <td id=\"T_156dc_row4_col3\" class=\"data row4 col3\" >0.05</td>\n",
              "      <td id=\"T_156dc_row4_col4\" class=\"data row4 col4\" >15750.00</td>\n",
              "      <td id=\"T_156dc_row4_col5\" class=\"data row4 col5\" >0</td>\n",
              "    </tr>\n",
              "    <tr>\n",
              "      <td id=\"T_156dc_row5_col0\" class=\"data row5 col0\" >Dhoni</td>\n",
              "      <td id=\"T_156dc_row5_col1\" class=\"data row5 col1\" >Clerk</td>\n",
              "      <td id=\"T_156dc_row5_col2\" class=\"data row5 col2\" >9000</td>\n",
              "      <td id=\"T_156dc_row5_col3\" class=\"data row5 col3\" >0.02</td>\n",
              "      <td id=\"T_156dc_row5_col4\" class=\"data row5 col4\" >9180.00</td>\n",
              "      <td id=\"T_156dc_row5_col5\" class=\"data row5 col5\" >0</td>\n",
              "    </tr>\n",
              "    <tr>\n",
              "      <td id=\"T_156dc_row6_col0\" class=\"data row6 col0\" >Dravid</td>\n",
              "      <td id=\"T_156dc_row6_col1\" class=\"data row6 col1\" >Sr Manager</td>\n",
              "      <td id=\"T_156dc_row6_col2\" class=\"data row6 col2\" >40000</td>\n",
              "      <td id=\"T_156dc_row6_col3\" class=\"data row6 col3\" >0.08</td>\n",
              "      <td id=\"T_156dc_row6_col4\" class=\"data row6 col4\" >43200.00</td>\n",
              "      <td id=\"T_156dc_row6_col5\" class=\"data row6 col5\" >2000</td>\n",
              "    </tr>\n",
              "    <tr>\n",
              "      <td id=\"T_156dc_row7_col0\" class=\"data row7 col0\" >Dalmia</td>\n",
              "      <td id=\"T_156dc_row7_col1\" class=\"data row7 col1\" >Clerk</td>\n",
              "      <td id=\"T_156dc_row7_col2\" class=\"data row7 col2\" >12000</td>\n",
              "      <td id=\"T_156dc_row7_col3\" class=\"data row7 col3\" >0.02</td>\n",
              "      <td id=\"T_156dc_row7_col4\" class=\"data row7 col4\" >12240.00</td>\n",
              "      <td id=\"T_156dc_row7_col5\" class=\"data row7 col5\" >0</td>\n",
              "    </tr>\n",
              "    <tr>\n",
              "      <td id=\"T_156dc_row8_col0\" class=\"data row8 col0\" >Ganguly</td>\n",
              "      <td id=\"T_156dc_row8_col1\" class=\"data row8 col1\" >Cus_Rep</td>\n",
              "      <td id=\"T_156dc_row8_col2\" class=\"data row8 col2\" >20000</td>\n",
              "      <td id=\"T_156dc_row8_col3\" class=\"data row8 col3\" >0.03</td>\n",
              "      <td id=\"T_156dc_row8_col4\" class=\"data row8 col4\" >20600.00</td>\n",
              "      <td id=\"T_156dc_row8_col5\" class=\"data row8 col5\" >0</td>\n",
              "    </tr>\n",
              "    <tr>\n",
              "      <td id=\"T_156dc_row9_col0\" class=\"data row9 col0\" >Ganesan</td>\n",
              "      <td id=\"T_156dc_row9_col1\" class=\"data row9 col1\" >Director</td>\n",
              "      <td id=\"T_156dc_row9_col2\" class=\"data row9 col2\" >60000</td>\n",
              "      <td id=\"T_156dc_row9_col3\" class=\"data row9 col3\" >0.11</td>\n",
              "      <td id=\"T_156dc_row9_col4\" class=\"data row9 col4\" >66600.00</td>\n",
              "      <td id=\"T_156dc_row9_col5\" class=\"data row9 col5\" >0</td>\n",
              "    </tr>\n",
              "    <tr>\n",
              "      <td id=\"T_156dc_row10_col0\" class=\"data row10 col0\" >Karthikeyan</td>\n",
              "      <td id=\"T_156dc_row10_col1\" class=\"data row10 col1\" >Secretary</td>\n",
              "      <td id=\"T_156dc_row10_col2\" class=\"data row10 col2\" >40000</td>\n",
              "      <td id=\"T_156dc_row10_col3\" class=\"data row10 col3\" >0.09</td>\n",
              "      <td id=\"T_156dc_row10_col4\" class=\"data row10 col4\" >43600.00</td>\n",
              "      <td id=\"T_156dc_row10_col5\" class=\"data row10 col5\" >0</td>\n",
              "    </tr>\n",
              "    <tr>\n",
              "      <td id=\"T_156dc_row11_col0\" class=\"data row11 col0\" >Sunil</td>\n",
              "      <td id=\"T_156dc_row11_col1\" class=\"data row11 col1\" >Dy Manager</td>\n",
              "      <td id=\"T_156dc_row11_col2\" class=\"data row11 col2\" >40000</td>\n",
              "      <td id=\"T_156dc_row11_col3\" class=\"data row11 col3\" >0.05</td>\n",
              "      <td id=\"T_156dc_row11_col4\" class=\"data row11 col4\" >42000.00</td>\n",
              "      <td id=\"T_156dc_row11_col5\" class=\"data row11 col5\" >2000</td>\n",
              "    </tr>\n",
              "    <tr>\n",
              "      <td id=\"T_156dc_row12_col0\" class=\"data row12 col0\" >Mirza</td>\n",
              "      <td id=\"T_156dc_row12_col1\" class=\"data row12 col1\" >Cus_Rep</td>\n",
              "      <td id=\"T_156dc_row12_col2\" class=\"data row12 col2\" >25000</td>\n",
              "      <td id=\"T_156dc_row12_col3\" class=\"data row12 col3\" >0.04</td>\n",
              "      <td id=\"T_156dc_row12_col4\" class=\"data row12 col4\" >26000.00</td>\n",
              "      <td id=\"T_156dc_row12_col5\" class=\"data row12 col5\" >0</td>\n",
              "    </tr>\n",
              "  </tbody>\n",
              "</table>\n"
            ]
          },
          "metadata": {},
          "execution_count": 46
        }
      ]
    },
    {
      "cell_type": "code",
      "source": [
        "runSelect(\"select lastname, deptid,\\\n",
        "case \\\n",
        "when deptid in ('10','20') then 'Head' \\\n",
        "when deptid = '30' then 'Regional'\\\n",
        "else 'Branch' \\\n",
        "end \\\n",
        " office from empl\")"
      ],
      "metadata": {
        "colab": {
          "base_uri": "https://localhost:8080/",
          "height": 457
        },
        "id": "jbpKn1y0DwYG",
        "outputId": "fafcdeca-83ed-4e97-f7d6-6dd7a9b3af5b"
      },
      "execution_count": null,
      "outputs": [
        {
          "output_type": "execute_result",
          "data": {
            "text/plain": [
              "<pandas.io.formats.style.Styler at 0x7bb7a7a390d0>"
            ],
            "text/html": [
              "<style type=\"text/css\">\n",
              "</style>\n",
              "<table id=\"T_076e9\" class=\"dataframe\">\n",
              "  <thead>\n",
              "    <tr>\n",
              "      <th id=\"T_076e9_level0_col0\" class=\"col_heading level0 col0\" >lastname</th>\n",
              "      <th id=\"T_076e9_level0_col1\" class=\"col_heading level0 col1\" >deptid</th>\n",
              "      <th id=\"T_076e9_level0_col2\" class=\"col_heading level0 col2\" >office</th>\n",
              "    </tr>\n",
              "  </thead>\n",
              "  <tbody>\n",
              "    <tr>\n",
              "      <td id=\"T_076e9_row0_col0\" class=\"data row0 col0\" >Bacchan</td>\n",
              "      <td id=\"T_076e9_row0_col1\" class=\"data row0 col1\" >10</td>\n",
              "      <td id=\"T_076e9_row0_col2\" class=\"data row0 col2\" >Head</td>\n",
              "    </tr>\n",
              "    <tr>\n",
              "      <td id=\"T_076e9_row1_col0\" class=\"data row1 col0\" >Mukherjee</td>\n",
              "      <td id=\"T_076e9_row1_col1\" class=\"data row1 col1\" >40</td>\n",
              "      <td id=\"T_076e9_row1_col2\" class=\"data row1 col2\" >Branch</td>\n",
              "    </tr>\n",
              "    <tr>\n",
              "      <td id=\"T_076e9_row2_col0\" class=\"data row2 col0\" >Dikshit</td>\n",
              "      <td id=\"T_076e9_row2_col1\" class=\"data row2 col1\" >20</td>\n",
              "      <td id=\"T_076e9_row2_col2\" class=\"data row2 col2\" >Head</td>\n",
              "    </tr>\n",
              "    <tr>\n",
              "      <td id=\"T_076e9_row3_col0\" class=\"data row3 col0\" >Khan</td>\n",
              "      <td id=\"T_076e9_row3_col1\" class=\"data row3 col1\" >20</td>\n",
              "      <td id=\"T_076e9_row3_col2\" class=\"data row3 col2\" >Head</td>\n",
              "    </tr>\n",
              "    <tr>\n",
              "      <td id=\"T_076e9_row4_col0\" class=\"data row4 col0\" >Sehwag</td>\n",
              "      <td id=\"T_076e9_row4_col1\" class=\"data row4 col1\" >20</td>\n",
              "      <td id=\"T_076e9_row4_col2\" class=\"data row4 col2\" >Head</td>\n",
              "    </tr>\n",
              "    <tr>\n",
              "      <td id=\"T_076e9_row5_col0\" class=\"data row5 col0\" >Dhoni</td>\n",
              "      <td id=\"T_076e9_row5_col1\" class=\"data row5 col1\" >40</td>\n",
              "      <td id=\"T_076e9_row5_col2\" class=\"data row5 col2\" >Branch</td>\n",
              "    </tr>\n",
              "    <tr>\n",
              "      <td id=\"T_076e9_row6_col0\" class=\"data row6 col0\" >Dravid</td>\n",
              "      <td id=\"T_076e9_row6_col1\" class=\"data row6 col1\" >30</td>\n",
              "      <td id=\"T_076e9_row6_col2\" class=\"data row6 col2\" >Regional</td>\n",
              "    </tr>\n",
              "    <tr>\n",
              "      <td id=\"T_076e9_row7_col0\" class=\"data row7 col0\" >Dalmia</td>\n",
              "      <td id=\"T_076e9_row7_col1\" class=\"data row7 col1\" >30</td>\n",
              "      <td id=\"T_076e9_row7_col2\" class=\"data row7 col2\" >Regional</td>\n",
              "    </tr>\n",
              "    <tr>\n",
              "      <td id=\"T_076e9_row8_col0\" class=\"data row8 col0\" >Ganguly</td>\n",
              "      <td id=\"T_076e9_row8_col1\" class=\"data row8 col1\" >40</td>\n",
              "      <td id=\"T_076e9_row8_col2\" class=\"data row8 col2\" >Branch</td>\n",
              "    </tr>\n",
              "    <tr>\n",
              "      <td id=\"T_076e9_row9_col0\" class=\"data row9 col0\" >Ganesan</td>\n",
              "      <td id=\"T_076e9_row9_col1\" class=\"data row9 col1\" >10</td>\n",
              "      <td id=\"T_076e9_row9_col2\" class=\"data row9 col2\" >Head</td>\n",
              "    </tr>\n",
              "    <tr>\n",
              "      <td id=\"T_076e9_row10_col0\" class=\"data row10 col0\" >Karthikeyan</td>\n",
              "      <td id=\"T_076e9_row10_col1\" class=\"data row10 col1\" >10</td>\n",
              "      <td id=\"T_076e9_row10_col2\" class=\"data row10 col2\" >Head</td>\n",
              "    </tr>\n",
              "    <tr>\n",
              "      <td id=\"T_076e9_row11_col0\" class=\"data row11 col0\" >Sunil</td>\n",
              "      <td id=\"T_076e9_row11_col1\" class=\"data row11 col1\" >70</td>\n",
              "      <td id=\"T_076e9_row11_col2\" class=\"data row11 col2\" >Branch</td>\n",
              "    </tr>\n",
              "    <tr>\n",
              "      <td id=\"T_076e9_row12_col0\" class=\"data row12 col0\" >Mirza</td>\n",
              "      <td id=\"T_076e9_row12_col1\" class=\"data row12 col1\" >30</td>\n",
              "      <td id=\"T_076e9_row12_col2\" class=\"data row12 col2\" >Regional</td>\n",
              "    </tr>\n",
              "  </tbody>\n",
              "</table>\n"
            ]
          },
          "metadata": {},
          "execution_count": 47
        }
      ]
    },
    {
      "cell_type": "markdown",
      "source": [
        "#Join"
      ],
      "metadata": {
        "id": "Rs10ezIPpP0C"
      }
    },
    {
      "cell_type": "markdown",
      "source": [
        "## Basic Inner Join"
      ],
      "metadata": {
        "id": "XMfZP6HUpT4B"
      }
    },
    {
      "cell_type": "code",
      "source": [
        "sql = 'select firstname, lastname, salary, deptname, location, managerid from empl, dept where empl.deptid = dept.deptid'\n",
        "runSelect(sql)"
      ],
      "metadata": {
        "colab": {
          "base_uri": "https://localhost:8080/",
          "height": 425
        },
        "id": "ISiD-VP6pbUz",
        "outputId": "7425329f-609e-4139-bd7f-c212342a9ba1"
      },
      "execution_count": null,
      "outputs": [
        {
          "output_type": "execute_result",
          "data": {
            "text/plain": [
              "<pandas.io.formats.style.Styler at 0x7bb7a7a39710>"
            ],
            "text/html": [
              "<style type=\"text/css\">\n",
              "</style>\n",
              "<table id=\"T_b20c3\" class=\"dataframe\">\n",
              "  <thead>\n",
              "    <tr>\n",
              "      <th id=\"T_b20c3_level0_col0\" class=\"col_heading level0 col0\" >firstname</th>\n",
              "      <th id=\"T_b20c3_level0_col1\" class=\"col_heading level0 col1\" >lastname</th>\n",
              "      <th id=\"T_b20c3_level0_col2\" class=\"col_heading level0 col2\" >salary</th>\n",
              "      <th id=\"T_b20c3_level0_col3\" class=\"col_heading level0 col3\" >deptname</th>\n",
              "      <th id=\"T_b20c3_level0_col4\" class=\"col_heading level0 col4\" >location</th>\n",
              "      <th id=\"T_b20c3_level0_col5\" class=\"col_heading level0 col5\" >managerid</th>\n",
              "    </tr>\n",
              "  </thead>\n",
              "  <tbody>\n",
              "    <tr>\n",
              "      <td id=\"T_b20c3_row0_col0\" class=\"data row0 col0\" >Narayan</td>\n",
              "      <td id=\"T_b20c3_row0_col1\" class=\"data row0 col1\" >Karthikeyan</td>\n",
              "      <td id=\"T_b20c3_row0_col2\" class=\"data row0 col2\" >40000</td>\n",
              "      <td id=\"T_b20c3_row0_col3\" class=\"data row0 col3\" >Corporate</td>\n",
              "      <td id=\"T_b20c3_row0_col4\" class=\"data row0 col4\" >Calcutta</td>\n",
              "      <td id=\"T_b20c3_row0_col5\" class=\"data row0 col5\" >299034</td>\n",
              "    </tr>\n",
              "    <tr>\n",
              "      <td id=\"T_b20c3_row1_col0\" class=\"data row1 col0\" >Rekha</td>\n",
              "      <td id=\"T_b20c3_row1_col1\" class=\"data row1 col1\" >Ganesan</td>\n",
              "      <td id=\"T_b20c3_row1_col2\" class=\"data row1 col2\" >60000</td>\n",
              "      <td id=\"T_b20c3_row1_col3\" class=\"data row1 col3\" >Corporate</td>\n",
              "      <td id=\"T_b20c3_row1_col4\" class=\"data row1 col4\" >Calcutta</td>\n",
              "      <td id=\"T_b20c3_row1_col5\" class=\"data row1 col5\" >299034</td>\n",
              "    </tr>\n",
              "    <tr>\n",
              "      <td id=\"T_b20c3_row2_col0\" class=\"data row2 col0\" >Amitabh</td>\n",
              "      <td id=\"T_b20c3_row2_col1\" class=\"data row2 col1\" >Bacchan</td>\n",
              "      <td id=\"T_b20c3_row2_col2\" class=\"data row2 col2\" >50000</td>\n",
              "      <td id=\"T_b20c3_row2_col3\" class=\"data row2 col3\" >Corporate</td>\n",
              "      <td id=\"T_b20c3_row2_col4\" class=\"data row2 col4\" >Calcutta</td>\n",
              "      <td id=\"T_b20c3_row2_col5\" class=\"data row2 col5\" >299034</td>\n",
              "    </tr>\n",
              "    <tr>\n",
              "      <td id=\"T_b20c3_row3_col0\" class=\"data row3 col0\" >Virender</td>\n",
              "      <td id=\"T_b20c3_row3_col1\" class=\"data row3 col1\" >Sehwag</td>\n",
              "      <td id=\"T_b20c3_row3_col2\" class=\"data row3 col2\" >15000</td>\n",
              "      <td id=\"T_b20c3_row3_col3\" class=\"data row3 col3\" >Sales</td>\n",
              "      <td id=\"T_b20c3_row3_col4\" class=\"data row3 col4\" >Calcutta</td>\n",
              "      <td id=\"T_b20c3_row3_col5\" class=\"data row3 col5\" >239456</td>\n",
              "    </tr>\n",
              "    <tr>\n",
              "      <td id=\"T_b20c3_row4_col0\" class=\"data row4 col0\" >Shahrukh</td>\n",
              "      <td id=\"T_b20c3_row4_col1\" class=\"data row4 col1\" >Khan</td>\n",
              "      <td id=\"T_b20c3_row4_col2\" class=\"data row4 col2\" >30000</td>\n",
              "      <td id=\"T_b20c3_row4_col3\" class=\"data row4 col3\" >Sales</td>\n",
              "      <td id=\"T_b20c3_row4_col4\" class=\"data row4 col4\" >Calcutta</td>\n",
              "      <td id=\"T_b20c3_row4_col5\" class=\"data row4 col5\" >239456</td>\n",
              "    </tr>\n",
              "    <tr>\n",
              "      <td id=\"T_b20c3_row5_col0\" class=\"data row5 col0\" >Madhuri</td>\n",
              "      <td id=\"T_b20c3_row5_col1\" class=\"data row5 col1\" >Dikshit</td>\n",
              "      <td id=\"T_b20c3_row5_col2\" class=\"data row5 col2\" >10000</td>\n",
              "      <td id=\"T_b20c3_row5_col3\" class=\"data row5 col3\" >Sales</td>\n",
              "      <td id=\"T_b20c3_row5_col4\" class=\"data row5 col4\" >Calcutta</td>\n",
              "      <td id=\"T_b20c3_row5_col5\" class=\"data row5 col5\" >239456</td>\n",
              "    </tr>\n",
              "    <tr>\n",
              "      <td id=\"T_b20c3_row6_col0\" class=\"data row6 col0\" >Sania</td>\n",
              "      <td id=\"T_b20c3_row6_col1\" class=\"data row6 col1\" >Mirza</td>\n",
              "      <td id=\"T_b20c3_row6_col2\" class=\"data row6 col2\" >25000</td>\n",
              "      <td id=\"T_b20c3_row6_col3\" class=\"data row6 col3\" >Accounts</td>\n",
              "      <td id=\"T_b20c3_row6_col4\" class=\"data row6 col4\" >Calcutta</td>\n",
              "      <td id=\"T_b20c3_row6_col5\" class=\"data row6 col5\" >822134</td>\n",
              "    </tr>\n",
              "    <tr>\n",
              "      <td id=\"T_b20c3_row7_col0\" class=\"data row7 col0\" >Jagmohan</td>\n",
              "      <td id=\"T_b20c3_row7_col1\" class=\"data row7 col1\" >Dalmia</td>\n",
              "      <td id=\"T_b20c3_row7_col2\" class=\"data row7 col2\" >12000</td>\n",
              "      <td id=\"T_b20c3_row7_col3\" class=\"data row7 col3\" >Accounts</td>\n",
              "      <td id=\"T_b20c3_row7_col4\" class=\"data row7 col4\" >Calcutta</td>\n",
              "      <td id=\"T_b20c3_row7_col5\" class=\"data row7 col5\" >822134</td>\n",
              "    </tr>\n",
              "    <tr>\n",
              "      <td id=\"T_b20c3_row8_col0\" class=\"data row8 col0\" >Rahul</td>\n",
              "      <td id=\"T_b20c3_row8_col1\" class=\"data row8 col1\" >Dravid</td>\n",
              "      <td id=\"T_b20c3_row8_col2\" class=\"data row8 col2\" >40000</td>\n",
              "      <td id=\"T_b20c3_row8_col3\" class=\"data row8 col3\" >Accounts</td>\n",
              "      <td id=\"T_b20c3_row8_col4\" class=\"data row8 col4\" >Calcutta</td>\n",
              "      <td id=\"T_b20c3_row8_col5\" class=\"data row8 col5\" >822134</td>\n",
              "    </tr>\n",
              "    <tr>\n",
              "      <td id=\"T_b20c3_row9_col0\" class=\"data row9 col0\" >Sourav</td>\n",
              "      <td id=\"T_b20c3_row9_col1\" class=\"data row9 col1\" >Ganguly</td>\n",
              "      <td id=\"T_b20c3_row9_col2\" class=\"data row9 col2\" >20000</td>\n",
              "      <td id=\"T_b20c3_row9_col3\" class=\"data row9 col3\" >Production</td>\n",
              "      <td id=\"T_b20c3_row9_col4\" class=\"data row9 col4\" >Bombay</td>\n",
              "      <td id=\"T_b20c3_row9_col5\" class=\"data row9 col5\" >349870</td>\n",
              "    </tr>\n",
              "    <tr>\n",
              "      <td id=\"T_b20c3_row10_col0\" class=\"data row10 col0\" >Mahender</td>\n",
              "      <td id=\"T_b20c3_row10_col1\" class=\"data row10 col1\" >Dhoni</td>\n",
              "      <td id=\"T_b20c3_row10_col2\" class=\"data row10 col2\" >9000</td>\n",
              "      <td id=\"T_b20c3_row10_col3\" class=\"data row10 col3\" >Production</td>\n",
              "      <td id=\"T_b20c3_row10_col4\" class=\"data row10 col4\" >Bombay</td>\n",
              "      <td id=\"T_b20c3_row10_col5\" class=\"data row10 col5\" >349870</td>\n",
              "    </tr>\n",
              "    <tr>\n",
              "      <td id=\"T_b20c3_row11_col0\" class=\"data row11 col0\" >Rani</td>\n",
              "      <td id=\"T_b20c3_row11_col1\" class=\"data row11 col1\" >Mukherjee</td>\n",
              "      <td id=\"T_b20c3_row11_col2\" class=\"data row11 col2\" >25000</td>\n",
              "      <td id=\"T_b20c3_row11_col3\" class=\"data row11 col3\" >Production</td>\n",
              "      <td id=\"T_b20c3_row11_col4\" class=\"data row11 col4\" >Bombay</td>\n",
              "      <td id=\"T_b20c3_row11_col5\" class=\"data row11 col5\" >349870</td>\n",
              "    </tr>\n",
              "  </tbody>\n",
              "</table>\n"
            ]
          },
          "metadata": {},
          "execution_count": 48
        }
      ]
    },
    {
      "cell_type": "code",
      "source": [
        "sql = 'select empid, firstname, deptname, location from empl INNER JOIN dept ON empl.deptid = dept.deptid'\n",
        "runSelect(sql)"
      ],
      "metadata": {
        "colab": {
          "base_uri": "https://localhost:8080/",
          "height": 425
        },
        "id": "LVrEArEc1VcF",
        "outputId": "886c314d-5860-4ca5-ca26-222b92b4cca2"
      },
      "execution_count": null,
      "outputs": [
        {
          "output_type": "execute_result",
          "data": {
            "text/plain": [
              "<pandas.io.formats.style.Styler at 0x7bb7a7a316d0>"
            ],
            "text/html": [
              "<style type=\"text/css\">\n",
              "</style>\n",
              "<table id=\"T_84184\" class=\"dataframe\">\n",
              "  <thead>\n",
              "    <tr>\n",
              "      <th id=\"T_84184_level0_col0\" class=\"col_heading level0 col0\" >empid</th>\n",
              "      <th id=\"T_84184_level0_col1\" class=\"col_heading level0 col1\" >firstname</th>\n",
              "      <th id=\"T_84184_level0_col2\" class=\"col_heading level0 col2\" >deptname</th>\n",
              "      <th id=\"T_84184_level0_col3\" class=\"col_heading level0 col3\" >location</th>\n",
              "    </tr>\n",
              "  </thead>\n",
              "  <tbody>\n",
              "    <tr>\n",
              "      <td id=\"T_84184_row0_col0\" class=\"data row0 col0\" >546223</td>\n",
              "      <td id=\"T_84184_row0_col1\" class=\"data row0 col1\" >Narayan</td>\n",
              "      <td id=\"T_84184_row0_col2\" class=\"data row0 col2\" >Corporate</td>\n",
              "      <td id=\"T_84184_row0_col3\" class=\"data row0 col3\" >Calcutta</td>\n",
              "    </tr>\n",
              "    <tr>\n",
              "      <td id=\"T_84184_row1_col0\" class=\"data row1 col0\" >299034</td>\n",
              "      <td id=\"T_84184_row1_col1\" class=\"data row1 col1\" >Rekha</td>\n",
              "      <td id=\"T_84184_row1_col2\" class=\"data row1 col2\" >Corporate</td>\n",
              "      <td id=\"T_84184_row1_col3\" class=\"data row1 col3\" >Calcutta</td>\n",
              "    </tr>\n",
              "    <tr>\n",
              "      <td id=\"T_84184_row2_col0\" class=\"data row2 col0\" >742866</td>\n",
              "      <td id=\"T_84184_row2_col1\" class=\"data row2 col1\" >Amitabh</td>\n",
              "      <td id=\"T_84184_row2_col2\" class=\"data row2 col2\" >Corporate</td>\n",
              "      <td id=\"T_84184_row2_col3\" class=\"data row2 col3\" >Calcutta</td>\n",
              "    </tr>\n",
              "    <tr>\n",
              "      <td id=\"T_84184_row3_col0\" class=\"data row3 col0\" >897889</td>\n",
              "      <td id=\"T_84184_row3_col1\" class=\"data row3 col1\" >Virender</td>\n",
              "      <td id=\"T_84184_row3_col2\" class=\"data row3 col2\" >Sales</td>\n",
              "      <td id=\"T_84184_row3_col3\" class=\"data row3 col3\" >Calcutta</td>\n",
              "    </tr>\n",
              "    <tr>\n",
              "      <td id=\"T_84184_row4_col0\" class=\"data row4 col0\" >239456</td>\n",
              "      <td id=\"T_84184_row4_col1\" class=\"data row4 col1\" >Shahrukh</td>\n",
              "      <td id=\"T_84184_row4_col2\" class=\"data row4 col2\" >Sales</td>\n",
              "      <td id=\"T_84184_row4_col3\" class=\"data row4 col3\" >Calcutta</td>\n",
              "    </tr>\n",
              "    <tr>\n",
              "      <td id=\"T_84184_row5_col0\" class=\"data row5 col0\" >865477</td>\n",
              "      <td id=\"T_84184_row5_col1\" class=\"data row5 col1\" >Madhuri</td>\n",
              "      <td id=\"T_84184_row5_col2\" class=\"data row5 col2\" >Sales</td>\n",
              "      <td id=\"T_84184_row5_col3\" class=\"data row5 col3\" >Calcutta</td>\n",
              "    </tr>\n",
              "    <tr>\n",
              "      <td id=\"T_84184_row6_col0\" class=\"data row6 col0\" >223112</td>\n",
              "      <td id=\"T_84184_row6_col1\" class=\"data row6 col1\" >Sania</td>\n",
              "      <td id=\"T_84184_row6_col2\" class=\"data row6 col2\" >Accounts</td>\n",
              "      <td id=\"T_84184_row6_col3\" class=\"data row6 col3\" >Calcutta</td>\n",
              "    </tr>\n",
              "    <tr>\n",
              "      <td id=\"T_84184_row7_col0\" class=\"data row7 col0\" >997445</td>\n",
              "      <td id=\"T_84184_row7_col1\" class=\"data row7 col1\" >Jagmohan</td>\n",
              "      <td id=\"T_84184_row7_col2\" class=\"data row7 col2\" >Accounts</td>\n",
              "      <td id=\"T_84184_row7_col3\" class=\"data row7 col3\" >Calcutta</td>\n",
              "    </tr>\n",
              "    <tr>\n",
              "      <td id=\"T_84184_row8_col0\" class=\"data row8 col0\" >822134</td>\n",
              "      <td id=\"T_84184_row8_col1\" class=\"data row8 col1\" >Rahul</td>\n",
              "      <td id=\"T_84184_row8_col2\" class=\"data row8 col2\" >Accounts</td>\n",
              "      <td id=\"T_84184_row8_col3\" class=\"data row8 col3\" >Calcutta</td>\n",
              "    </tr>\n",
              "    <tr>\n",
              "      <td id=\"T_84184_row9_col0\" class=\"data row9 col0\" >989007</td>\n",
              "      <td id=\"T_84184_row9_col1\" class=\"data row9 col1\" >Sourav</td>\n",
              "      <td id=\"T_84184_row9_col2\" class=\"data row9 col2\" >Production</td>\n",
              "      <td id=\"T_84184_row9_col3\" class=\"data row9 col3\" >Bombay</td>\n",
              "    </tr>\n",
              "    <tr>\n",
              "      <td id=\"T_84184_row10_col0\" class=\"data row10 col0\" >123980</td>\n",
              "      <td id=\"T_84184_row10_col1\" class=\"data row10 col1\" >Mahender</td>\n",
              "      <td id=\"T_84184_row10_col2\" class=\"data row10 col2\" >Production</td>\n",
              "      <td id=\"T_84184_row10_col3\" class=\"data row10 col3\" >Bombay</td>\n",
              "    </tr>\n",
              "    <tr>\n",
              "      <td id=\"T_84184_row11_col0\" class=\"data row11 col0\" >349870</td>\n",
              "      <td id=\"T_84184_row11_col1\" class=\"data row11 col1\" >Rani</td>\n",
              "      <td id=\"T_84184_row11_col2\" class=\"data row11 col2\" >Production</td>\n",
              "      <td id=\"T_84184_row11_col3\" class=\"data row11 col3\" >Bombay</td>\n",
              "    </tr>\n",
              "  </tbody>\n",
              "</table>\n"
            ]
          },
          "metadata": {},
          "execution_count": 49
        }
      ]
    },
    {
      "cell_type": "code",
      "source": [
        "sql = 'select deptname,round(sum(salary),0) payroll from empl INNER JOIN dept ON empl.deptid = dept.deptid \\\n",
        "group by deptname'\n",
        "runSelect(sql)"
      ],
      "metadata": {
        "id": "pKk82QRi28DP",
        "outputId": "116f703d-ca75-4999-ab6b-4d84c0be6672",
        "colab": {
          "base_uri": "https://localhost:8080/",
          "height": 175
        }
      },
      "execution_count": null,
      "outputs": [
        {
          "output_type": "execute_result",
          "data": {
            "text/plain": [
              "<pandas.io.formats.style.Styler at 0x7bb7a7a4b4d0>"
            ],
            "text/html": [
              "<style type=\"text/css\">\n",
              "</style>\n",
              "<table id=\"T_d93df\" class=\"dataframe\">\n",
              "  <thead>\n",
              "    <tr>\n",
              "      <th id=\"T_d93df_level0_col0\" class=\"col_heading level0 col0\" >deptname</th>\n",
              "      <th id=\"T_d93df_level0_col1\" class=\"col_heading level0 col1\" >payroll</th>\n",
              "    </tr>\n",
              "  </thead>\n",
              "  <tbody>\n",
              "    <tr>\n",
              "      <td id=\"T_d93df_row0_col0\" class=\"data row0 col0\" >Corporate</td>\n",
              "      <td id=\"T_d93df_row0_col1\" class=\"data row0 col1\" >150000</td>\n",
              "    </tr>\n",
              "    <tr>\n",
              "      <td id=\"T_d93df_row1_col0\" class=\"data row1 col0\" >Accounts</td>\n",
              "      <td id=\"T_d93df_row1_col1\" class=\"data row1 col1\" >77000</td>\n",
              "    </tr>\n",
              "    <tr>\n",
              "      <td id=\"T_d93df_row2_col0\" class=\"data row2 col0\" >Sales</td>\n",
              "      <td id=\"T_d93df_row2_col1\" class=\"data row2 col1\" >55000</td>\n",
              "    </tr>\n",
              "    <tr>\n",
              "      <td id=\"T_d93df_row3_col0\" class=\"data row3 col0\" >Production</td>\n",
              "      <td id=\"T_d93df_row3_col1\" class=\"data row3 col1\" >54000</td>\n",
              "    </tr>\n",
              "  </tbody>\n",
              "</table>\n"
            ]
          },
          "metadata": {},
          "execution_count": 50
        }
      ]
    },
    {
      "cell_type": "markdown",
      "source": [
        "## Outer Join"
      ],
      "metadata": {
        "id": "tK9uJHAL1u6x"
      }
    },
    {
      "cell_type": "markdown",
      "source": [
        "### Left Outer"
      ],
      "metadata": {
        "id": "5wGFVhyJ2x8S"
      }
    },
    {
      "cell_type": "code",
      "source": [
        "sql = 'select empid, firstname, deptname, location from empl LEFT JOIN dept ON empl.deptid = dept.deptid'\n",
        "runSelect(sql)"
      ],
      "metadata": {
        "colab": {
          "base_uri": "https://localhost:8080/",
          "height": 457
        },
        "id": "Ls6VfOXt1zTq",
        "outputId": "55145d93-d0c3-44be-97a4-70cf3492e9b1"
      },
      "execution_count": null,
      "outputs": [
        {
          "output_type": "execute_result",
          "data": {
            "text/plain": [
              "<pandas.io.formats.style.Styler at 0x7bb7a7a33810>"
            ],
            "text/html": [
              "<style type=\"text/css\">\n",
              "</style>\n",
              "<table id=\"T_59229\" class=\"dataframe\">\n",
              "  <thead>\n",
              "    <tr>\n",
              "      <th id=\"T_59229_level0_col0\" class=\"col_heading level0 col0\" >empid</th>\n",
              "      <th id=\"T_59229_level0_col1\" class=\"col_heading level0 col1\" >firstname</th>\n",
              "      <th id=\"T_59229_level0_col2\" class=\"col_heading level0 col2\" >deptname</th>\n",
              "      <th id=\"T_59229_level0_col3\" class=\"col_heading level0 col3\" >location</th>\n",
              "    </tr>\n",
              "  </thead>\n",
              "  <tbody>\n",
              "    <tr>\n",
              "      <td id=\"T_59229_row0_col0\" class=\"data row0 col0\" >546223</td>\n",
              "      <td id=\"T_59229_row0_col1\" class=\"data row0 col1\" >Narayan</td>\n",
              "      <td id=\"T_59229_row0_col2\" class=\"data row0 col2\" >Corporate</td>\n",
              "      <td id=\"T_59229_row0_col3\" class=\"data row0 col3\" >Calcutta</td>\n",
              "    </tr>\n",
              "    <tr>\n",
              "      <td id=\"T_59229_row1_col0\" class=\"data row1 col0\" >299034</td>\n",
              "      <td id=\"T_59229_row1_col1\" class=\"data row1 col1\" >Rekha</td>\n",
              "      <td id=\"T_59229_row1_col2\" class=\"data row1 col2\" >Corporate</td>\n",
              "      <td id=\"T_59229_row1_col3\" class=\"data row1 col3\" >Calcutta</td>\n",
              "    </tr>\n",
              "    <tr>\n",
              "      <td id=\"T_59229_row2_col0\" class=\"data row2 col0\" >742866</td>\n",
              "      <td id=\"T_59229_row2_col1\" class=\"data row2 col1\" >Amitabh</td>\n",
              "      <td id=\"T_59229_row2_col2\" class=\"data row2 col2\" >Corporate</td>\n",
              "      <td id=\"T_59229_row2_col3\" class=\"data row2 col3\" >Calcutta</td>\n",
              "    </tr>\n",
              "    <tr>\n",
              "      <td id=\"T_59229_row3_col0\" class=\"data row3 col0\" >897889</td>\n",
              "      <td id=\"T_59229_row3_col1\" class=\"data row3 col1\" >Virender</td>\n",
              "      <td id=\"T_59229_row3_col2\" class=\"data row3 col2\" >Sales</td>\n",
              "      <td id=\"T_59229_row3_col3\" class=\"data row3 col3\" >Calcutta</td>\n",
              "    </tr>\n",
              "    <tr>\n",
              "      <td id=\"T_59229_row4_col0\" class=\"data row4 col0\" >239456</td>\n",
              "      <td id=\"T_59229_row4_col1\" class=\"data row4 col1\" >Shahrukh</td>\n",
              "      <td id=\"T_59229_row4_col2\" class=\"data row4 col2\" >Sales</td>\n",
              "      <td id=\"T_59229_row4_col3\" class=\"data row4 col3\" >Calcutta</td>\n",
              "    </tr>\n",
              "    <tr>\n",
              "      <td id=\"T_59229_row5_col0\" class=\"data row5 col0\" >865477</td>\n",
              "      <td id=\"T_59229_row5_col1\" class=\"data row5 col1\" >Madhuri</td>\n",
              "      <td id=\"T_59229_row5_col2\" class=\"data row5 col2\" >Sales</td>\n",
              "      <td id=\"T_59229_row5_col3\" class=\"data row5 col3\" >Calcutta</td>\n",
              "    </tr>\n",
              "    <tr>\n",
              "      <td id=\"T_59229_row6_col0\" class=\"data row6 col0\" >223112</td>\n",
              "      <td id=\"T_59229_row6_col1\" class=\"data row6 col1\" >Sania</td>\n",
              "      <td id=\"T_59229_row6_col2\" class=\"data row6 col2\" >Accounts</td>\n",
              "      <td id=\"T_59229_row6_col3\" class=\"data row6 col3\" >Calcutta</td>\n",
              "    </tr>\n",
              "    <tr>\n",
              "      <td id=\"T_59229_row7_col0\" class=\"data row7 col0\" >997445</td>\n",
              "      <td id=\"T_59229_row7_col1\" class=\"data row7 col1\" >Jagmohan</td>\n",
              "      <td id=\"T_59229_row7_col2\" class=\"data row7 col2\" >Accounts</td>\n",
              "      <td id=\"T_59229_row7_col3\" class=\"data row7 col3\" >Calcutta</td>\n",
              "    </tr>\n",
              "    <tr>\n",
              "      <td id=\"T_59229_row8_col0\" class=\"data row8 col0\" >822134</td>\n",
              "      <td id=\"T_59229_row8_col1\" class=\"data row8 col1\" >Rahul</td>\n",
              "      <td id=\"T_59229_row8_col2\" class=\"data row8 col2\" >Accounts</td>\n",
              "      <td id=\"T_59229_row8_col3\" class=\"data row8 col3\" >Calcutta</td>\n",
              "    </tr>\n",
              "    <tr>\n",
              "      <td id=\"T_59229_row9_col0\" class=\"data row9 col0\" >989007</td>\n",
              "      <td id=\"T_59229_row9_col1\" class=\"data row9 col1\" >Sourav</td>\n",
              "      <td id=\"T_59229_row9_col2\" class=\"data row9 col2\" >Production</td>\n",
              "      <td id=\"T_59229_row9_col3\" class=\"data row9 col3\" >Bombay</td>\n",
              "    </tr>\n",
              "    <tr>\n",
              "      <td id=\"T_59229_row10_col0\" class=\"data row10 col0\" >123980</td>\n",
              "      <td id=\"T_59229_row10_col1\" class=\"data row10 col1\" >Mahender</td>\n",
              "      <td id=\"T_59229_row10_col2\" class=\"data row10 col2\" >Production</td>\n",
              "      <td id=\"T_59229_row10_col3\" class=\"data row10 col3\" >Bombay</td>\n",
              "    </tr>\n",
              "    <tr>\n",
              "      <td id=\"T_59229_row11_col0\" class=\"data row11 col0\" >349870</td>\n",
              "      <td id=\"T_59229_row11_col1\" class=\"data row11 col1\" >Rani</td>\n",
              "      <td id=\"T_59229_row11_col2\" class=\"data row11 col2\" >Production</td>\n",
              "      <td id=\"T_59229_row11_col3\" class=\"data row11 col3\" >Bombay</td>\n",
              "    </tr>\n",
              "    <tr>\n",
              "      <td id=\"T_59229_row12_col0\" class=\"data row12 col0\" >546224</td>\n",
              "      <td id=\"T_59229_row12_col1\" class=\"data row12 col1\" >Chettri</td>\n",
              "      <td id=\"T_59229_row12_col2\" class=\"data row12 col2\" >None</td>\n",
              "      <td id=\"T_59229_row12_col3\" class=\"data row12 col3\" >None</td>\n",
              "    </tr>\n",
              "  </tbody>\n",
              "</table>\n"
            ]
          },
          "metadata": {},
          "execution_count": 51
        }
      ]
    },
    {
      "cell_type": "markdown",
      "source": [
        "### Right Outer"
      ],
      "metadata": {
        "id": "iJ6DASb121Og"
      }
    },
    {
      "cell_type": "code",
      "source": [
        "sql = 'select empid, firstname, deptname, location from empl RIGHT JOIN dept ON empl.deptid = dept.deptid'\n",
        "runSelect(sql)"
      ],
      "metadata": {
        "colab": {
          "base_uri": "https://localhost:8080/",
          "height": 457
        },
        "id": "khvQpQ4E2XND",
        "outputId": "2a6231a6-0a1f-4909-bd62-80b55f19f2e5"
      },
      "execution_count": null,
      "outputs": [
        {
          "output_type": "execute_result",
          "data": {
            "text/plain": [
              "<pandas.io.formats.style.Styler at 0x7bb7a7a2dbd0>"
            ],
            "text/html": [
              "<style type=\"text/css\">\n",
              "</style>\n",
              "<table id=\"T_20658\" class=\"dataframe\">\n",
              "  <thead>\n",
              "    <tr>\n",
              "      <th id=\"T_20658_level0_col0\" class=\"col_heading level0 col0\" >empid</th>\n",
              "      <th id=\"T_20658_level0_col1\" class=\"col_heading level0 col1\" >firstname</th>\n",
              "      <th id=\"T_20658_level0_col2\" class=\"col_heading level0 col2\" >deptname</th>\n",
              "      <th id=\"T_20658_level0_col3\" class=\"col_heading level0 col3\" >location</th>\n",
              "    </tr>\n",
              "  </thead>\n",
              "  <tbody>\n",
              "    <tr>\n",
              "      <td id=\"T_20658_row0_col0\" class=\"data row0 col0\" >546223</td>\n",
              "      <td id=\"T_20658_row0_col1\" class=\"data row0 col1\" >Narayan</td>\n",
              "      <td id=\"T_20658_row0_col2\" class=\"data row0 col2\" >Corporate</td>\n",
              "      <td id=\"T_20658_row0_col3\" class=\"data row0 col3\" >Calcutta</td>\n",
              "    </tr>\n",
              "    <tr>\n",
              "      <td id=\"T_20658_row1_col0\" class=\"data row1 col0\" >299034</td>\n",
              "      <td id=\"T_20658_row1_col1\" class=\"data row1 col1\" >Rekha</td>\n",
              "      <td id=\"T_20658_row1_col2\" class=\"data row1 col2\" >Corporate</td>\n",
              "      <td id=\"T_20658_row1_col3\" class=\"data row1 col3\" >Calcutta</td>\n",
              "    </tr>\n",
              "    <tr>\n",
              "      <td id=\"T_20658_row2_col0\" class=\"data row2 col0\" >742866</td>\n",
              "      <td id=\"T_20658_row2_col1\" class=\"data row2 col1\" >Amitabh</td>\n",
              "      <td id=\"T_20658_row2_col2\" class=\"data row2 col2\" >Corporate</td>\n",
              "      <td id=\"T_20658_row2_col3\" class=\"data row2 col3\" >Calcutta</td>\n",
              "    </tr>\n",
              "    <tr>\n",
              "      <td id=\"T_20658_row3_col0\" class=\"data row3 col0\" >897889</td>\n",
              "      <td id=\"T_20658_row3_col1\" class=\"data row3 col1\" >Virender</td>\n",
              "      <td id=\"T_20658_row3_col2\" class=\"data row3 col2\" >Sales</td>\n",
              "      <td id=\"T_20658_row3_col3\" class=\"data row3 col3\" >Calcutta</td>\n",
              "    </tr>\n",
              "    <tr>\n",
              "      <td id=\"T_20658_row4_col0\" class=\"data row4 col0\" >239456</td>\n",
              "      <td id=\"T_20658_row4_col1\" class=\"data row4 col1\" >Shahrukh</td>\n",
              "      <td id=\"T_20658_row4_col2\" class=\"data row4 col2\" >Sales</td>\n",
              "      <td id=\"T_20658_row4_col3\" class=\"data row4 col3\" >Calcutta</td>\n",
              "    </tr>\n",
              "    <tr>\n",
              "      <td id=\"T_20658_row5_col0\" class=\"data row5 col0\" >865477</td>\n",
              "      <td id=\"T_20658_row5_col1\" class=\"data row5 col1\" >Madhuri</td>\n",
              "      <td id=\"T_20658_row5_col2\" class=\"data row5 col2\" >Sales</td>\n",
              "      <td id=\"T_20658_row5_col3\" class=\"data row5 col3\" >Calcutta</td>\n",
              "    </tr>\n",
              "    <tr>\n",
              "      <td id=\"T_20658_row6_col0\" class=\"data row6 col0\" >223112</td>\n",
              "      <td id=\"T_20658_row6_col1\" class=\"data row6 col1\" >Sania</td>\n",
              "      <td id=\"T_20658_row6_col2\" class=\"data row6 col2\" >Accounts</td>\n",
              "      <td id=\"T_20658_row6_col3\" class=\"data row6 col3\" >Calcutta</td>\n",
              "    </tr>\n",
              "    <tr>\n",
              "      <td id=\"T_20658_row7_col0\" class=\"data row7 col0\" >997445</td>\n",
              "      <td id=\"T_20658_row7_col1\" class=\"data row7 col1\" >Jagmohan</td>\n",
              "      <td id=\"T_20658_row7_col2\" class=\"data row7 col2\" >Accounts</td>\n",
              "      <td id=\"T_20658_row7_col3\" class=\"data row7 col3\" >Calcutta</td>\n",
              "    </tr>\n",
              "    <tr>\n",
              "      <td id=\"T_20658_row8_col0\" class=\"data row8 col0\" >822134</td>\n",
              "      <td id=\"T_20658_row8_col1\" class=\"data row8 col1\" >Rahul</td>\n",
              "      <td id=\"T_20658_row8_col2\" class=\"data row8 col2\" >Accounts</td>\n",
              "      <td id=\"T_20658_row8_col3\" class=\"data row8 col3\" >Calcutta</td>\n",
              "    </tr>\n",
              "    <tr>\n",
              "      <td id=\"T_20658_row9_col0\" class=\"data row9 col0\" >989007</td>\n",
              "      <td id=\"T_20658_row9_col1\" class=\"data row9 col1\" >Sourav</td>\n",
              "      <td id=\"T_20658_row9_col2\" class=\"data row9 col2\" >Production</td>\n",
              "      <td id=\"T_20658_row9_col3\" class=\"data row9 col3\" >Bombay</td>\n",
              "    </tr>\n",
              "    <tr>\n",
              "      <td id=\"T_20658_row10_col0\" class=\"data row10 col0\" >123980</td>\n",
              "      <td id=\"T_20658_row10_col1\" class=\"data row10 col1\" >Mahender</td>\n",
              "      <td id=\"T_20658_row10_col2\" class=\"data row10 col2\" >Production</td>\n",
              "      <td id=\"T_20658_row10_col3\" class=\"data row10 col3\" >Bombay</td>\n",
              "    </tr>\n",
              "    <tr>\n",
              "      <td id=\"T_20658_row11_col0\" class=\"data row11 col0\" >349870</td>\n",
              "      <td id=\"T_20658_row11_col1\" class=\"data row11 col1\" >Rani</td>\n",
              "      <td id=\"T_20658_row11_col2\" class=\"data row11 col2\" >Production</td>\n",
              "      <td id=\"T_20658_row11_col3\" class=\"data row11 col3\" >Bombay</td>\n",
              "    </tr>\n",
              "    <tr>\n",
              "      <td id=\"T_20658_row12_col0\" class=\"data row12 col0\" >None</td>\n",
              "      <td id=\"T_20658_row12_col1\" class=\"data row12 col1\" >None</td>\n",
              "      <td id=\"T_20658_row12_col2\" class=\"data row12 col2\" >Research</td>\n",
              "      <td id=\"T_20658_row12_col3\" class=\"data row12 col3\" >Delhi</td>\n",
              "    </tr>\n",
              "  </tbody>\n",
              "</table>\n"
            ]
          },
          "metadata": {},
          "execution_count": 52
        }
      ]
    },
    {
      "cell_type": "markdown",
      "source": [
        "### Full Outer"
      ],
      "metadata": {
        "id": "RsEyhBBp24zy"
      }
    },
    {
      "cell_type": "code",
      "source": [
        "sql = 'select empid, firstname, deptname, location from empl FULL JOIN dept ON empl.deptid = dept.deptid'\n",
        "runSelect(sql)"
      ],
      "metadata": {
        "colab": {
          "base_uri": "https://localhost:8080/",
          "height": 488
        },
        "id": "Ipt14U9o2qFg",
        "outputId": "16a72411-33d5-4e63-a697-9ac0d3a37094"
      },
      "execution_count": null,
      "outputs": [
        {
          "output_type": "execute_result",
          "data": {
            "text/plain": [
              "<pandas.io.formats.style.Styler at 0x7bb7a7a2c310>"
            ],
            "text/html": [
              "<style type=\"text/css\">\n",
              "</style>\n",
              "<table id=\"T_b08a0\" class=\"dataframe\">\n",
              "  <thead>\n",
              "    <tr>\n",
              "      <th id=\"T_b08a0_level0_col0\" class=\"col_heading level0 col0\" >empid</th>\n",
              "      <th id=\"T_b08a0_level0_col1\" class=\"col_heading level0 col1\" >firstname</th>\n",
              "      <th id=\"T_b08a0_level0_col2\" class=\"col_heading level0 col2\" >deptname</th>\n",
              "      <th id=\"T_b08a0_level0_col3\" class=\"col_heading level0 col3\" >location</th>\n",
              "    </tr>\n",
              "  </thead>\n",
              "  <tbody>\n",
              "    <tr>\n",
              "      <td id=\"T_b08a0_row0_col0\" class=\"data row0 col0\" >546223</td>\n",
              "      <td id=\"T_b08a0_row0_col1\" class=\"data row0 col1\" >Narayan</td>\n",
              "      <td id=\"T_b08a0_row0_col2\" class=\"data row0 col2\" >Corporate</td>\n",
              "      <td id=\"T_b08a0_row0_col3\" class=\"data row0 col3\" >Calcutta</td>\n",
              "    </tr>\n",
              "    <tr>\n",
              "      <td id=\"T_b08a0_row1_col0\" class=\"data row1 col0\" >299034</td>\n",
              "      <td id=\"T_b08a0_row1_col1\" class=\"data row1 col1\" >Rekha</td>\n",
              "      <td id=\"T_b08a0_row1_col2\" class=\"data row1 col2\" >Corporate</td>\n",
              "      <td id=\"T_b08a0_row1_col3\" class=\"data row1 col3\" >Calcutta</td>\n",
              "    </tr>\n",
              "    <tr>\n",
              "      <td id=\"T_b08a0_row2_col0\" class=\"data row2 col0\" >742866</td>\n",
              "      <td id=\"T_b08a0_row2_col1\" class=\"data row2 col1\" >Amitabh</td>\n",
              "      <td id=\"T_b08a0_row2_col2\" class=\"data row2 col2\" >Corporate</td>\n",
              "      <td id=\"T_b08a0_row2_col3\" class=\"data row2 col3\" >Calcutta</td>\n",
              "    </tr>\n",
              "    <tr>\n",
              "      <td id=\"T_b08a0_row3_col0\" class=\"data row3 col0\" >897889</td>\n",
              "      <td id=\"T_b08a0_row3_col1\" class=\"data row3 col1\" >Virender</td>\n",
              "      <td id=\"T_b08a0_row3_col2\" class=\"data row3 col2\" >Sales</td>\n",
              "      <td id=\"T_b08a0_row3_col3\" class=\"data row3 col3\" >Calcutta</td>\n",
              "    </tr>\n",
              "    <tr>\n",
              "      <td id=\"T_b08a0_row4_col0\" class=\"data row4 col0\" >239456</td>\n",
              "      <td id=\"T_b08a0_row4_col1\" class=\"data row4 col1\" >Shahrukh</td>\n",
              "      <td id=\"T_b08a0_row4_col2\" class=\"data row4 col2\" >Sales</td>\n",
              "      <td id=\"T_b08a0_row4_col3\" class=\"data row4 col3\" >Calcutta</td>\n",
              "    </tr>\n",
              "    <tr>\n",
              "      <td id=\"T_b08a0_row5_col0\" class=\"data row5 col0\" >865477</td>\n",
              "      <td id=\"T_b08a0_row5_col1\" class=\"data row5 col1\" >Madhuri</td>\n",
              "      <td id=\"T_b08a0_row5_col2\" class=\"data row5 col2\" >Sales</td>\n",
              "      <td id=\"T_b08a0_row5_col3\" class=\"data row5 col3\" >Calcutta</td>\n",
              "    </tr>\n",
              "    <tr>\n",
              "      <td id=\"T_b08a0_row6_col0\" class=\"data row6 col0\" >223112</td>\n",
              "      <td id=\"T_b08a0_row6_col1\" class=\"data row6 col1\" >Sania</td>\n",
              "      <td id=\"T_b08a0_row6_col2\" class=\"data row6 col2\" >Accounts</td>\n",
              "      <td id=\"T_b08a0_row6_col3\" class=\"data row6 col3\" >Calcutta</td>\n",
              "    </tr>\n",
              "    <tr>\n",
              "      <td id=\"T_b08a0_row7_col0\" class=\"data row7 col0\" >997445</td>\n",
              "      <td id=\"T_b08a0_row7_col1\" class=\"data row7 col1\" >Jagmohan</td>\n",
              "      <td id=\"T_b08a0_row7_col2\" class=\"data row7 col2\" >Accounts</td>\n",
              "      <td id=\"T_b08a0_row7_col3\" class=\"data row7 col3\" >Calcutta</td>\n",
              "    </tr>\n",
              "    <tr>\n",
              "      <td id=\"T_b08a0_row8_col0\" class=\"data row8 col0\" >822134</td>\n",
              "      <td id=\"T_b08a0_row8_col1\" class=\"data row8 col1\" >Rahul</td>\n",
              "      <td id=\"T_b08a0_row8_col2\" class=\"data row8 col2\" >Accounts</td>\n",
              "      <td id=\"T_b08a0_row8_col3\" class=\"data row8 col3\" >Calcutta</td>\n",
              "    </tr>\n",
              "    <tr>\n",
              "      <td id=\"T_b08a0_row9_col0\" class=\"data row9 col0\" >989007</td>\n",
              "      <td id=\"T_b08a0_row9_col1\" class=\"data row9 col1\" >Sourav</td>\n",
              "      <td id=\"T_b08a0_row9_col2\" class=\"data row9 col2\" >Production</td>\n",
              "      <td id=\"T_b08a0_row9_col3\" class=\"data row9 col3\" >Bombay</td>\n",
              "    </tr>\n",
              "    <tr>\n",
              "      <td id=\"T_b08a0_row10_col0\" class=\"data row10 col0\" >123980</td>\n",
              "      <td id=\"T_b08a0_row10_col1\" class=\"data row10 col1\" >Mahender</td>\n",
              "      <td id=\"T_b08a0_row10_col2\" class=\"data row10 col2\" >Production</td>\n",
              "      <td id=\"T_b08a0_row10_col3\" class=\"data row10 col3\" >Bombay</td>\n",
              "    </tr>\n",
              "    <tr>\n",
              "      <td id=\"T_b08a0_row11_col0\" class=\"data row11 col0\" >349870</td>\n",
              "      <td id=\"T_b08a0_row11_col1\" class=\"data row11 col1\" >Rani</td>\n",
              "      <td id=\"T_b08a0_row11_col2\" class=\"data row11 col2\" >Production</td>\n",
              "      <td id=\"T_b08a0_row11_col3\" class=\"data row11 col3\" >Bombay</td>\n",
              "    </tr>\n",
              "    <tr>\n",
              "      <td id=\"T_b08a0_row12_col0\" class=\"data row12 col0\" >None</td>\n",
              "      <td id=\"T_b08a0_row12_col1\" class=\"data row12 col1\" >None</td>\n",
              "      <td id=\"T_b08a0_row12_col2\" class=\"data row12 col2\" >Research</td>\n",
              "      <td id=\"T_b08a0_row12_col3\" class=\"data row12 col3\" >Delhi</td>\n",
              "    </tr>\n",
              "    <tr>\n",
              "      <td id=\"T_b08a0_row13_col0\" class=\"data row13 col0\" >546224</td>\n",
              "      <td id=\"T_b08a0_row13_col1\" class=\"data row13 col1\" >Chettri</td>\n",
              "      <td id=\"T_b08a0_row13_col2\" class=\"data row13 col2\" >None</td>\n",
              "      <td id=\"T_b08a0_row13_col3\" class=\"data row13 col3\" >None</td>\n",
              "    </tr>\n",
              "  </tbody>\n",
              "</table>\n"
            ]
          },
          "metadata": {},
          "execution_count": 53
        }
      ]
    },
    {
      "cell_type": "code",
      "source": [
        "sql = 'select deptname,round(sum(salary),0) payroll from empl FULL JOIN dept ON empl.deptid = dept.deptid \\\n",
        "group by deptname'\n",
        "runSelect(sql)"
      ],
      "metadata": {
        "id": "EAI2kiYP3p9O",
        "outputId": "9628c7f5-44ad-4c47-adcf-27cb195f21f1",
        "colab": {
          "base_uri": "https://localhost:8080/",
          "height": 237
        }
      },
      "execution_count": null,
      "outputs": [
        {
          "output_type": "execute_result",
          "data": {
            "text/plain": [
              "<pandas.io.formats.style.Styler at 0x7bb7a7a2ffd0>"
            ],
            "text/html": [
              "<style type=\"text/css\">\n",
              "</style>\n",
              "<table id=\"T_ba663\" class=\"dataframe\">\n",
              "  <thead>\n",
              "    <tr>\n",
              "      <th id=\"T_ba663_level0_col0\" class=\"col_heading level0 col0\" >deptname</th>\n",
              "      <th id=\"T_ba663_level0_col1\" class=\"col_heading level0 col1\" >payroll</th>\n",
              "    </tr>\n",
              "  </thead>\n",
              "  <tbody>\n",
              "    <tr>\n",
              "      <td id=\"T_ba663_row0_col0\" class=\"data row0 col0\" >None</td>\n",
              "      <td id=\"T_ba663_row0_col1\" class=\"data row0 col1\" >40000</td>\n",
              "    </tr>\n",
              "    <tr>\n",
              "      <td id=\"T_ba663_row1_col0\" class=\"data row1 col0\" >Research</td>\n",
              "      <td id=\"T_ba663_row1_col1\" class=\"data row1 col1\" >None</td>\n",
              "    </tr>\n",
              "    <tr>\n",
              "      <td id=\"T_ba663_row2_col0\" class=\"data row2 col0\" >Corporate</td>\n",
              "      <td id=\"T_ba663_row2_col1\" class=\"data row2 col1\" >150000</td>\n",
              "    </tr>\n",
              "    <tr>\n",
              "      <td id=\"T_ba663_row3_col0\" class=\"data row3 col0\" >Accounts</td>\n",
              "      <td id=\"T_ba663_row3_col1\" class=\"data row3 col1\" >77000</td>\n",
              "    </tr>\n",
              "    <tr>\n",
              "      <td id=\"T_ba663_row4_col0\" class=\"data row4 col0\" >Sales</td>\n",
              "      <td id=\"T_ba663_row4_col1\" class=\"data row4 col1\" >55000</td>\n",
              "    </tr>\n",
              "    <tr>\n",
              "      <td id=\"T_ba663_row5_col0\" class=\"data row5 col0\" >Production</td>\n",
              "      <td id=\"T_ba663_row5_col1\" class=\"data row5 col1\" >54000</td>\n",
              "    </tr>\n",
              "  </tbody>\n",
              "</table>\n"
            ]
          },
          "metadata": {},
          "execution_count": 54
        }
      ]
    },
    {
      "cell_type": "markdown",
      "source": [
        "## Recursive Joins"
      ],
      "metadata": {
        "id": "6nm2xAfn6pIV"
      }
    },
    {
      "cell_type": "markdown",
      "source": [
        "### Three Tables"
      ],
      "metadata": {
        "id": "A1KCGwwyB02z"
      }
    },
    {
      "cell_type": "code",
      "source": [
        "cmd = \"select w.lastname , w.deptID, '>' linksTo  , d.deptID ,d.managerID,'<' linksTo, m.empID, m.lastname \\\n",
        "        from Empl w, Dept d, Empl m \\\n",
        "        where w.deptID = d.deptID   \\\n",
        "        and d.managerID = m.empID \\\n",
        "    \"\n",
        "runSelect(cmd)"
      ],
      "metadata": {
        "colab": {
          "base_uri": "https://localhost:8080/",
          "height": 425
        },
        "id": "W17nS5R7AL0J",
        "outputId": "77590e50-615a-4094-8b2c-8c2bca42b43e"
      },
      "execution_count": null,
      "outputs": [
        {
          "output_type": "execute_result",
          "data": {
            "text/plain": [
              "<pandas.io.formats.style.Styler at 0x7bb7a7a235d0>"
            ],
            "text/html": [
              "<style type=\"text/css\">\n",
              "</style>\n",
              "<table id=\"T_b409b\" class=\"dataframe\">\n",
              "  <thead>\n",
              "    <tr>\n",
              "      <th id=\"T_b409b_level0_col0\" class=\"col_heading level0 col0\" >lastname</th>\n",
              "      <th id=\"T_b409b_level0_col1\" class=\"col_heading level0 col1\" >deptid</th>\n",
              "      <th id=\"T_b409b_level0_col2\" class=\"col_heading level0 col2\" >linksto</th>\n",
              "      <th id=\"T_b409b_level0_col3\" class=\"col_heading level0 col3\" >deptid</th>\n",
              "      <th id=\"T_b409b_level0_col4\" class=\"col_heading level0 col4\" >managerid</th>\n",
              "      <th id=\"T_b409b_level0_col5\" class=\"col_heading level0 col5\" >linksto</th>\n",
              "      <th id=\"T_b409b_level0_col6\" class=\"col_heading level0 col6\" >empid</th>\n",
              "      <th id=\"T_b409b_level0_col7\" class=\"col_heading level0 col7\" >lastname</th>\n",
              "    </tr>\n",
              "  </thead>\n",
              "  <tbody>\n",
              "    <tr>\n",
              "      <td id=\"T_b409b_row0_col0\" class=\"data row0 col0\" >Karthikeyan</td>\n",
              "      <td id=\"T_b409b_row0_col1\" class=\"data row0 col1\" >10</td>\n",
              "      <td id=\"T_b409b_row0_col2\" class=\"data row0 col2\" >></td>\n",
              "      <td id=\"T_b409b_row0_col3\" class=\"data row0 col3\" >10</td>\n",
              "      <td id=\"T_b409b_row0_col4\" class=\"data row0 col4\" >299034</td>\n",
              "      <td id=\"T_b409b_row0_col5\" class=\"data row0 col5\" ><</td>\n",
              "      <td id=\"T_b409b_row0_col6\" class=\"data row0 col6\" >299034</td>\n",
              "      <td id=\"T_b409b_row0_col7\" class=\"data row0 col7\" >Ganesan</td>\n",
              "    </tr>\n",
              "    <tr>\n",
              "      <td id=\"T_b409b_row1_col0\" class=\"data row1 col0\" >Ganesan</td>\n",
              "      <td id=\"T_b409b_row1_col1\" class=\"data row1 col1\" >10</td>\n",
              "      <td id=\"T_b409b_row1_col2\" class=\"data row1 col2\" >></td>\n",
              "      <td id=\"T_b409b_row1_col3\" class=\"data row1 col3\" >10</td>\n",
              "      <td id=\"T_b409b_row1_col4\" class=\"data row1 col4\" >299034</td>\n",
              "      <td id=\"T_b409b_row1_col5\" class=\"data row1 col5\" ><</td>\n",
              "      <td id=\"T_b409b_row1_col6\" class=\"data row1 col6\" >299034</td>\n",
              "      <td id=\"T_b409b_row1_col7\" class=\"data row1 col7\" >Ganesan</td>\n",
              "    </tr>\n",
              "    <tr>\n",
              "      <td id=\"T_b409b_row2_col0\" class=\"data row2 col0\" >Bacchan</td>\n",
              "      <td id=\"T_b409b_row2_col1\" class=\"data row2 col1\" >10</td>\n",
              "      <td id=\"T_b409b_row2_col2\" class=\"data row2 col2\" >></td>\n",
              "      <td id=\"T_b409b_row2_col3\" class=\"data row2 col3\" >10</td>\n",
              "      <td id=\"T_b409b_row2_col4\" class=\"data row2 col4\" >299034</td>\n",
              "      <td id=\"T_b409b_row2_col5\" class=\"data row2 col5\" ><</td>\n",
              "      <td id=\"T_b409b_row2_col6\" class=\"data row2 col6\" >299034</td>\n",
              "      <td id=\"T_b409b_row2_col7\" class=\"data row2 col7\" >Ganesan</td>\n",
              "    </tr>\n",
              "    <tr>\n",
              "      <td id=\"T_b409b_row3_col0\" class=\"data row3 col0\" >Sehwag</td>\n",
              "      <td id=\"T_b409b_row3_col1\" class=\"data row3 col1\" >20</td>\n",
              "      <td id=\"T_b409b_row3_col2\" class=\"data row3 col2\" >></td>\n",
              "      <td id=\"T_b409b_row3_col3\" class=\"data row3 col3\" >20</td>\n",
              "      <td id=\"T_b409b_row3_col4\" class=\"data row3 col4\" >239456</td>\n",
              "      <td id=\"T_b409b_row3_col5\" class=\"data row3 col5\" ><</td>\n",
              "      <td id=\"T_b409b_row3_col6\" class=\"data row3 col6\" >239456</td>\n",
              "      <td id=\"T_b409b_row3_col7\" class=\"data row3 col7\" >Khan</td>\n",
              "    </tr>\n",
              "    <tr>\n",
              "      <td id=\"T_b409b_row4_col0\" class=\"data row4 col0\" >Khan</td>\n",
              "      <td id=\"T_b409b_row4_col1\" class=\"data row4 col1\" >20</td>\n",
              "      <td id=\"T_b409b_row4_col2\" class=\"data row4 col2\" >></td>\n",
              "      <td id=\"T_b409b_row4_col3\" class=\"data row4 col3\" >20</td>\n",
              "      <td id=\"T_b409b_row4_col4\" class=\"data row4 col4\" >239456</td>\n",
              "      <td id=\"T_b409b_row4_col5\" class=\"data row4 col5\" ><</td>\n",
              "      <td id=\"T_b409b_row4_col6\" class=\"data row4 col6\" >239456</td>\n",
              "      <td id=\"T_b409b_row4_col7\" class=\"data row4 col7\" >Khan</td>\n",
              "    </tr>\n",
              "    <tr>\n",
              "      <td id=\"T_b409b_row5_col0\" class=\"data row5 col0\" >Dikshit</td>\n",
              "      <td id=\"T_b409b_row5_col1\" class=\"data row5 col1\" >20</td>\n",
              "      <td id=\"T_b409b_row5_col2\" class=\"data row5 col2\" >></td>\n",
              "      <td id=\"T_b409b_row5_col3\" class=\"data row5 col3\" >20</td>\n",
              "      <td id=\"T_b409b_row5_col4\" class=\"data row5 col4\" >239456</td>\n",
              "      <td id=\"T_b409b_row5_col5\" class=\"data row5 col5\" ><</td>\n",
              "      <td id=\"T_b409b_row5_col6\" class=\"data row5 col6\" >239456</td>\n",
              "      <td id=\"T_b409b_row5_col7\" class=\"data row5 col7\" >Khan</td>\n",
              "    </tr>\n",
              "    <tr>\n",
              "      <td id=\"T_b409b_row6_col0\" class=\"data row6 col0\" >Mirza</td>\n",
              "      <td id=\"T_b409b_row6_col1\" class=\"data row6 col1\" >30</td>\n",
              "      <td id=\"T_b409b_row6_col2\" class=\"data row6 col2\" >></td>\n",
              "      <td id=\"T_b409b_row6_col3\" class=\"data row6 col3\" >30</td>\n",
              "      <td id=\"T_b409b_row6_col4\" class=\"data row6 col4\" >822134</td>\n",
              "      <td id=\"T_b409b_row6_col5\" class=\"data row6 col5\" ><</td>\n",
              "      <td id=\"T_b409b_row6_col6\" class=\"data row6 col6\" >822134</td>\n",
              "      <td id=\"T_b409b_row6_col7\" class=\"data row6 col7\" >Dravid</td>\n",
              "    </tr>\n",
              "    <tr>\n",
              "      <td id=\"T_b409b_row7_col0\" class=\"data row7 col0\" >Dalmia</td>\n",
              "      <td id=\"T_b409b_row7_col1\" class=\"data row7 col1\" >30</td>\n",
              "      <td id=\"T_b409b_row7_col2\" class=\"data row7 col2\" >></td>\n",
              "      <td id=\"T_b409b_row7_col3\" class=\"data row7 col3\" >30</td>\n",
              "      <td id=\"T_b409b_row7_col4\" class=\"data row7 col4\" >822134</td>\n",
              "      <td id=\"T_b409b_row7_col5\" class=\"data row7 col5\" ><</td>\n",
              "      <td id=\"T_b409b_row7_col6\" class=\"data row7 col6\" >822134</td>\n",
              "      <td id=\"T_b409b_row7_col7\" class=\"data row7 col7\" >Dravid</td>\n",
              "    </tr>\n",
              "    <tr>\n",
              "      <td id=\"T_b409b_row8_col0\" class=\"data row8 col0\" >Dravid</td>\n",
              "      <td id=\"T_b409b_row8_col1\" class=\"data row8 col1\" >30</td>\n",
              "      <td id=\"T_b409b_row8_col2\" class=\"data row8 col2\" >></td>\n",
              "      <td id=\"T_b409b_row8_col3\" class=\"data row8 col3\" >30</td>\n",
              "      <td id=\"T_b409b_row8_col4\" class=\"data row8 col4\" >822134</td>\n",
              "      <td id=\"T_b409b_row8_col5\" class=\"data row8 col5\" ><</td>\n",
              "      <td id=\"T_b409b_row8_col6\" class=\"data row8 col6\" >822134</td>\n",
              "      <td id=\"T_b409b_row8_col7\" class=\"data row8 col7\" >Dravid</td>\n",
              "    </tr>\n",
              "    <tr>\n",
              "      <td id=\"T_b409b_row9_col0\" class=\"data row9 col0\" >Ganguly</td>\n",
              "      <td id=\"T_b409b_row9_col1\" class=\"data row9 col1\" >40</td>\n",
              "      <td id=\"T_b409b_row9_col2\" class=\"data row9 col2\" >></td>\n",
              "      <td id=\"T_b409b_row9_col3\" class=\"data row9 col3\" >40</td>\n",
              "      <td id=\"T_b409b_row9_col4\" class=\"data row9 col4\" >349870</td>\n",
              "      <td id=\"T_b409b_row9_col5\" class=\"data row9 col5\" ><</td>\n",
              "      <td id=\"T_b409b_row9_col6\" class=\"data row9 col6\" >349870</td>\n",
              "      <td id=\"T_b409b_row9_col7\" class=\"data row9 col7\" >Mukherjee</td>\n",
              "    </tr>\n",
              "    <tr>\n",
              "      <td id=\"T_b409b_row10_col0\" class=\"data row10 col0\" >Dhoni</td>\n",
              "      <td id=\"T_b409b_row10_col1\" class=\"data row10 col1\" >40</td>\n",
              "      <td id=\"T_b409b_row10_col2\" class=\"data row10 col2\" >></td>\n",
              "      <td id=\"T_b409b_row10_col3\" class=\"data row10 col3\" >40</td>\n",
              "      <td id=\"T_b409b_row10_col4\" class=\"data row10 col4\" >349870</td>\n",
              "      <td id=\"T_b409b_row10_col5\" class=\"data row10 col5\" ><</td>\n",
              "      <td id=\"T_b409b_row10_col6\" class=\"data row10 col6\" >349870</td>\n",
              "      <td id=\"T_b409b_row10_col7\" class=\"data row10 col7\" >Mukherjee</td>\n",
              "    </tr>\n",
              "    <tr>\n",
              "      <td id=\"T_b409b_row11_col0\" class=\"data row11 col0\" >Mukherjee</td>\n",
              "      <td id=\"T_b409b_row11_col1\" class=\"data row11 col1\" >40</td>\n",
              "      <td id=\"T_b409b_row11_col2\" class=\"data row11 col2\" >></td>\n",
              "      <td id=\"T_b409b_row11_col3\" class=\"data row11 col3\" >40</td>\n",
              "      <td id=\"T_b409b_row11_col4\" class=\"data row11 col4\" >349870</td>\n",
              "      <td id=\"T_b409b_row11_col5\" class=\"data row11 col5\" ><</td>\n",
              "      <td id=\"T_b409b_row11_col6\" class=\"data row11 col6\" >349870</td>\n",
              "      <td id=\"T_b409b_row11_col7\" class=\"data row11 col7\" >Mukherjee</td>\n",
              "    </tr>\n",
              "  </tbody>\n",
              "</table>\n"
            ]
          },
          "metadata": {},
          "execution_count": 55
        }
      ]
    },
    {
      "cell_type": "markdown",
      "source": [
        "### Self Join / Single Table"
      ],
      "metadata": {
        "id": "jeknsMbjCA2A"
      }
    },
    {
      "cell_type": "code",
      "source": [
        "cmd = \"Select w.FirstName, w.JobDesc, w.DeptID, \\\n",
        "    ' hired by ' hiredby, \\\n",
        "    m.FirstName,m.JobDesc,m.DeptID \\\n",
        "    from empl w, empl m \\\n",
        "    where w.HiredBy = m.EmpID\"\n",
        "\n",
        "runSelect(cmd)"
      ],
      "metadata": {
        "colab": {
          "base_uri": "https://localhost:8080/",
          "height": 425
        },
        "id": "iDPmUw9-CEBH",
        "outputId": "81beea44-1acd-45d4-c61d-648e25b03f96"
      },
      "execution_count": null,
      "outputs": [
        {
          "output_type": "execute_result",
          "data": {
            "text/plain": [
              "<pandas.io.formats.style.Styler at 0x7bb7a7a1ad10>"
            ],
            "text/html": [
              "<style type=\"text/css\">\n",
              "</style>\n",
              "<table id=\"T_cf3b3\" class=\"dataframe\">\n",
              "  <thead>\n",
              "    <tr>\n",
              "      <th id=\"T_cf3b3_level0_col0\" class=\"col_heading level0 col0\" >firstname</th>\n",
              "      <th id=\"T_cf3b3_level0_col1\" class=\"col_heading level0 col1\" >jobdesc</th>\n",
              "      <th id=\"T_cf3b3_level0_col2\" class=\"col_heading level0 col2\" >deptid</th>\n",
              "      <th id=\"T_cf3b3_level0_col3\" class=\"col_heading level0 col3\" >hiredby</th>\n",
              "      <th id=\"T_cf3b3_level0_col4\" class=\"col_heading level0 col4\" >firstname</th>\n",
              "      <th id=\"T_cf3b3_level0_col5\" class=\"col_heading level0 col5\" >jobdesc</th>\n",
              "      <th id=\"T_cf3b3_level0_col6\" class=\"col_heading level0 col6\" >deptid</th>\n",
              "    </tr>\n",
              "  </thead>\n",
              "  <tbody>\n",
              "    <tr>\n",
              "      <td id=\"T_cf3b3_row0_col0\" class=\"data row0 col0\" >Rani</td>\n",
              "      <td id=\"T_cf3b3_row0_col1\" class=\"data row0 col1\" >Manager</td>\n",
              "      <td id=\"T_cf3b3_row0_col2\" class=\"data row0 col2\" >40</td>\n",
              "      <td id=\"T_cf3b3_row0_col3\" class=\"data row0 col3\" > hired by </td>\n",
              "      <td id=\"T_cf3b3_row0_col4\" class=\"data row0 col4\" >Amitabh</td>\n",
              "      <td id=\"T_cf3b3_row0_col5\" class=\"data row0 col5\" >Executive</td>\n",
              "      <td id=\"T_cf3b3_row0_col6\" class=\"data row0 col6\" >10</td>\n",
              "    </tr>\n",
              "    <tr>\n",
              "      <td id=\"T_cf3b3_row1_col0\" class=\"data row1 col0\" >Madhuri</td>\n",
              "      <td id=\"T_cf3b3_row1_col1\" class=\"data row1 col1\" >Clerk</td>\n",
              "      <td id=\"T_cf3b3_row1_col2\" class=\"data row1 col2\" >20</td>\n",
              "      <td id=\"T_cf3b3_row1_col3\" class=\"data row1 col3\" > hired by </td>\n",
              "      <td id=\"T_cf3b3_row1_col4\" class=\"data row1 col4\" >Shahrukh</td>\n",
              "      <td id=\"T_cf3b3_row1_col5\" class=\"data row1 col5\" >Manager</td>\n",
              "      <td id=\"T_cf3b3_row1_col6\" class=\"data row1 col6\" >20</td>\n",
              "    </tr>\n",
              "    <tr>\n",
              "      <td id=\"T_cf3b3_row2_col0\" class=\"data row2 col0\" >Shahrukh</td>\n",
              "      <td id=\"T_cf3b3_row2_col1\" class=\"data row2 col1\" >Manager</td>\n",
              "      <td id=\"T_cf3b3_row2_col2\" class=\"data row2 col2\" >20</td>\n",
              "      <td id=\"T_cf3b3_row2_col3\" class=\"data row2 col3\" > hired by </td>\n",
              "      <td id=\"T_cf3b3_row2_col4\" class=\"data row2 col4\" >Amitabh</td>\n",
              "      <td id=\"T_cf3b3_row2_col5\" class=\"data row2 col5\" >Executive</td>\n",
              "      <td id=\"T_cf3b3_row2_col6\" class=\"data row2 col6\" >10</td>\n",
              "    </tr>\n",
              "    <tr>\n",
              "      <td id=\"T_cf3b3_row3_col0\" class=\"data row3 col0\" >Virender</td>\n",
              "      <td id=\"T_cf3b3_row3_col1\" class=\"data row3 col1\" >Cus_Rep</td>\n",
              "      <td id=\"T_cf3b3_row3_col2\" class=\"data row3 col2\" >20</td>\n",
              "      <td id=\"T_cf3b3_row3_col3\" class=\"data row3 col3\" > hired by </td>\n",
              "      <td id=\"T_cf3b3_row3_col4\" class=\"data row3 col4\" >Shahrukh</td>\n",
              "      <td id=\"T_cf3b3_row3_col5\" class=\"data row3 col5\" >Manager</td>\n",
              "      <td id=\"T_cf3b3_row3_col6\" class=\"data row3 col6\" >20</td>\n",
              "    </tr>\n",
              "    <tr>\n",
              "      <td id=\"T_cf3b3_row4_col0\" class=\"data row4 col0\" >Mahender</td>\n",
              "      <td id=\"T_cf3b3_row4_col1\" class=\"data row4 col1\" >Clerk</td>\n",
              "      <td id=\"T_cf3b3_row4_col2\" class=\"data row4 col2\" >40</td>\n",
              "      <td id=\"T_cf3b3_row4_col3\" class=\"data row4 col3\" > hired by </td>\n",
              "      <td id=\"T_cf3b3_row4_col4\" class=\"data row4 col4\" >Rani</td>\n",
              "      <td id=\"T_cf3b3_row4_col5\" class=\"data row4 col5\" >Manager</td>\n",
              "      <td id=\"T_cf3b3_row4_col6\" class=\"data row4 col6\" >40</td>\n",
              "    </tr>\n",
              "    <tr>\n",
              "      <td id=\"T_cf3b3_row5_col0\" class=\"data row5 col0\" >Rahul</td>\n",
              "      <td id=\"T_cf3b3_row5_col1\" class=\"data row5 col1\" >Sr Manager</td>\n",
              "      <td id=\"T_cf3b3_row5_col2\" class=\"data row5 col2\" >30</td>\n",
              "      <td id=\"T_cf3b3_row5_col3\" class=\"data row5 col3\" > hired by </td>\n",
              "      <td id=\"T_cf3b3_row5_col4\" class=\"data row5 col4\" >Amitabh</td>\n",
              "      <td id=\"T_cf3b3_row5_col5\" class=\"data row5 col5\" >Executive</td>\n",
              "      <td id=\"T_cf3b3_row5_col6\" class=\"data row5 col6\" >10</td>\n",
              "    </tr>\n",
              "    <tr>\n",
              "      <td id=\"T_cf3b3_row6_col0\" class=\"data row6 col0\" >Jagmohan</td>\n",
              "      <td id=\"T_cf3b3_row6_col1\" class=\"data row6 col1\" >Clerk</td>\n",
              "      <td id=\"T_cf3b3_row6_col2\" class=\"data row6 col2\" >30</td>\n",
              "      <td id=\"T_cf3b3_row6_col3\" class=\"data row6 col3\" > hired by </td>\n",
              "      <td id=\"T_cf3b3_row6_col4\" class=\"data row6 col4\" >Rahul</td>\n",
              "      <td id=\"T_cf3b3_row6_col5\" class=\"data row6 col5\" >Sr Manager</td>\n",
              "      <td id=\"T_cf3b3_row6_col6\" class=\"data row6 col6\" >30</td>\n",
              "    </tr>\n",
              "    <tr>\n",
              "      <td id=\"T_cf3b3_row7_col0\" class=\"data row7 col0\" >Sourav</td>\n",
              "      <td id=\"T_cf3b3_row7_col1\" class=\"data row7 col1\" >Cus_Rep</td>\n",
              "      <td id=\"T_cf3b3_row7_col2\" class=\"data row7 col2\" >40</td>\n",
              "      <td id=\"T_cf3b3_row7_col3\" class=\"data row7 col3\" > hired by </td>\n",
              "      <td id=\"T_cf3b3_row7_col4\" class=\"data row7 col4\" >Rekha</td>\n",
              "      <td id=\"T_cf3b3_row7_col5\" class=\"data row7 col5\" >Director</td>\n",
              "      <td id=\"T_cf3b3_row7_col6\" class=\"data row7 col6\" >10</td>\n",
              "    </tr>\n",
              "    <tr>\n",
              "      <td id=\"T_cf3b3_row8_col0\" class=\"data row8 col0\" >Rekha</td>\n",
              "      <td id=\"T_cf3b3_row8_col1\" class=\"data row8 col1\" >Director</td>\n",
              "      <td id=\"T_cf3b3_row8_col2\" class=\"data row8 col2\" >10</td>\n",
              "      <td id=\"T_cf3b3_row8_col3\" class=\"data row8 col3\" > hired by </td>\n",
              "      <td id=\"T_cf3b3_row8_col4\" class=\"data row8 col4\" >Amitabh</td>\n",
              "      <td id=\"T_cf3b3_row8_col5\" class=\"data row8 col5\" >Executive</td>\n",
              "      <td id=\"T_cf3b3_row8_col6\" class=\"data row8 col6\" >10</td>\n",
              "    </tr>\n",
              "    <tr>\n",
              "      <td id=\"T_cf3b3_row9_col0\" class=\"data row9 col0\" >Narayan</td>\n",
              "      <td id=\"T_cf3b3_row9_col1\" class=\"data row9 col1\" >Secretary</td>\n",
              "      <td id=\"T_cf3b3_row9_col2\" class=\"data row9 col2\" >10</td>\n",
              "      <td id=\"T_cf3b3_row9_col3\" class=\"data row9 col3\" > hired by </td>\n",
              "      <td id=\"T_cf3b3_row9_col4\" class=\"data row9 col4\" >Rekha</td>\n",
              "      <td id=\"T_cf3b3_row9_col5\" class=\"data row9 col5\" >Director</td>\n",
              "      <td id=\"T_cf3b3_row9_col6\" class=\"data row9 col6\" >10</td>\n",
              "    </tr>\n",
              "    <tr>\n",
              "      <td id=\"T_cf3b3_row10_col0\" class=\"data row10 col0\" >Chettri</td>\n",
              "      <td id=\"T_cf3b3_row10_col1\" class=\"data row10 col1\" >Dy Manager</td>\n",
              "      <td id=\"T_cf3b3_row10_col2\" class=\"data row10 col2\" >70</td>\n",
              "      <td id=\"T_cf3b3_row10_col3\" class=\"data row10 col3\" > hired by </td>\n",
              "      <td id=\"T_cf3b3_row10_col4\" class=\"data row10 col4\" >Sourav</td>\n",
              "      <td id=\"T_cf3b3_row10_col5\" class=\"data row10 col5\" >Cus_Rep</td>\n",
              "      <td id=\"T_cf3b3_row10_col6\" class=\"data row10 col6\" >40</td>\n",
              "    </tr>\n",
              "    <tr>\n",
              "      <td id=\"T_cf3b3_row11_col0\" class=\"data row11 col0\" >Sania</td>\n",
              "      <td id=\"T_cf3b3_row11_col1\" class=\"data row11 col1\" >Cus_Rep</td>\n",
              "      <td id=\"T_cf3b3_row11_col2\" class=\"data row11 col2\" >30</td>\n",
              "      <td id=\"T_cf3b3_row11_col3\" class=\"data row11 col3\" > hired by </td>\n",
              "      <td id=\"T_cf3b3_row11_col4\" class=\"data row11 col4\" >Rahul</td>\n",
              "      <td id=\"T_cf3b3_row11_col5\" class=\"data row11 col5\" >Sr Manager</td>\n",
              "      <td id=\"T_cf3b3_row11_col6\" class=\"data row11 col6\" >30</td>\n",
              "    </tr>\n",
              "  </tbody>\n",
              "</table>\n"
            ]
          },
          "metadata": {},
          "execution_count": 56
        }
      ]
    },
    {
      "cell_type": "markdown",
      "source": [
        "#Subquery"
      ],
      "metadata": {
        "id": "tXDgw1RBzUf-"
      }
    },
    {
      "cell_type": "code",
      "source": [
        "sql = \"select lastname, salary, jobdesc, deptid from empl where \\\n",
        "salary = (select max(salary) from empl where deptid = '20') \\\n",
        "and deptid = '20'\"\n",
        "\n",
        "runSelect(sql)"
      ],
      "metadata": {
        "colab": {
          "base_uri": "https://localhost:8080/",
          "height": 81
        },
        "id": "SxQqgOcHzYTF",
        "outputId": "51045f18-c5ee-4f77-98b1-37598a08d3df"
      },
      "execution_count": null,
      "outputs": [
        {
          "output_type": "execute_result",
          "data": {
            "text/plain": [
              "<pandas.io.formats.style.Styler at 0x7bb7a7a20790>"
            ],
            "text/html": [
              "<style type=\"text/css\">\n",
              "</style>\n",
              "<table id=\"T_a8910\" class=\"dataframe\">\n",
              "  <thead>\n",
              "    <tr>\n",
              "      <th id=\"T_a8910_level0_col0\" class=\"col_heading level0 col0\" >lastname</th>\n",
              "      <th id=\"T_a8910_level0_col1\" class=\"col_heading level0 col1\" >salary</th>\n",
              "      <th id=\"T_a8910_level0_col2\" class=\"col_heading level0 col2\" >jobdesc</th>\n",
              "      <th id=\"T_a8910_level0_col3\" class=\"col_heading level0 col3\" >deptid</th>\n",
              "    </tr>\n",
              "  </thead>\n",
              "  <tbody>\n",
              "    <tr>\n",
              "      <td id=\"T_a8910_row0_col0\" class=\"data row0 col0\" >Khan</td>\n",
              "      <td id=\"T_a8910_row0_col1\" class=\"data row0 col1\" >30000</td>\n",
              "      <td id=\"T_a8910_row0_col2\" class=\"data row0 col2\" >Manager</td>\n",
              "      <td id=\"T_a8910_row0_col3\" class=\"data row0 col3\" >20</td>\n",
              "    </tr>\n",
              "  </tbody>\n",
              "</table>\n"
            ]
          },
          "metadata": {},
          "execution_count": 57
        }
      ]
    },
    {
      "cell_type": "code",
      "source": [
        "sql = \"select lastname, salary, jobdesc, deptid from empl where salary < (select avg(salary) from empl where deptid = '20')\\\n",
        "and deptid = '20'\"\n",
        "runSelect(sql)"
      ],
      "metadata": {
        "colab": {
          "base_uri": "https://localhost:8080/",
          "height": 112
        },
        "id": "oEhaMtyLz3Tm",
        "outputId": "944fa21e-aa17-4baa-8e15-c6996afa0373"
      },
      "execution_count": null,
      "outputs": [
        {
          "output_type": "execute_result",
          "data": {
            "text/plain": [
              "<pandas.io.formats.style.Styler at 0x7bb7a7a22950>"
            ],
            "text/html": [
              "<style type=\"text/css\">\n",
              "</style>\n",
              "<table id=\"T_b94ad\" class=\"dataframe\">\n",
              "  <thead>\n",
              "    <tr>\n",
              "      <th id=\"T_b94ad_level0_col0\" class=\"col_heading level0 col0\" >lastname</th>\n",
              "      <th id=\"T_b94ad_level0_col1\" class=\"col_heading level0 col1\" >salary</th>\n",
              "      <th id=\"T_b94ad_level0_col2\" class=\"col_heading level0 col2\" >jobdesc</th>\n",
              "      <th id=\"T_b94ad_level0_col3\" class=\"col_heading level0 col3\" >deptid</th>\n",
              "    </tr>\n",
              "  </thead>\n",
              "  <tbody>\n",
              "    <tr>\n",
              "      <td id=\"T_b94ad_row0_col0\" class=\"data row0 col0\" >Dikshit</td>\n",
              "      <td id=\"T_b94ad_row0_col1\" class=\"data row0 col1\" >10000</td>\n",
              "      <td id=\"T_b94ad_row0_col2\" class=\"data row0 col2\" >Clerk</td>\n",
              "      <td id=\"T_b94ad_row0_col3\" class=\"data row0 col3\" >20</td>\n",
              "    </tr>\n",
              "    <tr>\n",
              "      <td id=\"T_b94ad_row1_col0\" class=\"data row1 col0\" >Sehwag</td>\n",
              "      <td id=\"T_b94ad_row1_col1\" class=\"data row1 col1\" >15000</td>\n",
              "      <td id=\"T_b94ad_row1_col2\" class=\"data row1 col2\" >Cus_Rep</td>\n",
              "      <td id=\"T_b94ad_row1_col3\" class=\"data row1 col3\" >20</td>\n",
              "    </tr>\n",
              "  </tbody>\n",
              "</table>\n"
            ]
          },
          "metadata": {},
          "execution_count": 58
        }
      ]
    },
    {
      "cell_type": "markdown",
      "source": [
        "## Exists | Not Exists"
      ],
      "metadata": {
        "id": "l3GWzCV24a2x"
      }
    },
    {
      "cell_type": "code",
      "source": [
        "#!psql -h localhost -p 5432 -Uupraxis -ddbpraxis -c \"\\\n",
        "sql = \"\\\n",
        "select firstname, jobdesc, deptid from empl \\\n",
        "where exists \\\n",
        "(select * from dept where empl.deptid = dept.deptid)\\\n",
        "order by deptid \\\n",
        "\"\n",
        "runSelect(sql)"
      ],
      "metadata": {
        "colab": {
          "base_uri": "https://localhost:8080/",
          "height": 425
        },
        "id": "9vlJrd584fWu",
        "outputId": "799094db-57b5-49d4-a1dd-137e3d5b4386"
      },
      "execution_count": null,
      "outputs": [
        {
          "output_type": "execute_result",
          "data": {
            "text/plain": [
              "<pandas.io.formats.style.Styler at 0x7bb7a7a7ff50>"
            ],
            "text/html": [
              "<style type=\"text/css\">\n",
              "</style>\n",
              "<table id=\"T_fa0fb\" class=\"dataframe\">\n",
              "  <thead>\n",
              "    <tr>\n",
              "      <th id=\"T_fa0fb_level0_col0\" class=\"col_heading level0 col0\" >firstname</th>\n",
              "      <th id=\"T_fa0fb_level0_col1\" class=\"col_heading level0 col1\" >jobdesc</th>\n",
              "      <th id=\"T_fa0fb_level0_col2\" class=\"col_heading level0 col2\" >deptid</th>\n",
              "    </tr>\n",
              "  </thead>\n",
              "  <tbody>\n",
              "    <tr>\n",
              "      <td id=\"T_fa0fb_row0_col0\" class=\"data row0 col0\" >Amitabh</td>\n",
              "      <td id=\"T_fa0fb_row0_col1\" class=\"data row0 col1\" >Executive</td>\n",
              "      <td id=\"T_fa0fb_row0_col2\" class=\"data row0 col2\" >10</td>\n",
              "    </tr>\n",
              "    <tr>\n",
              "      <td id=\"T_fa0fb_row1_col0\" class=\"data row1 col0\" >Rekha</td>\n",
              "      <td id=\"T_fa0fb_row1_col1\" class=\"data row1 col1\" >Director</td>\n",
              "      <td id=\"T_fa0fb_row1_col2\" class=\"data row1 col2\" >10</td>\n",
              "    </tr>\n",
              "    <tr>\n",
              "      <td id=\"T_fa0fb_row2_col0\" class=\"data row2 col0\" >Narayan</td>\n",
              "      <td id=\"T_fa0fb_row2_col1\" class=\"data row2 col1\" >Secretary</td>\n",
              "      <td id=\"T_fa0fb_row2_col2\" class=\"data row2 col2\" >10</td>\n",
              "    </tr>\n",
              "    <tr>\n",
              "      <td id=\"T_fa0fb_row3_col0\" class=\"data row3 col0\" >Madhuri</td>\n",
              "      <td id=\"T_fa0fb_row3_col1\" class=\"data row3 col1\" >Clerk</td>\n",
              "      <td id=\"T_fa0fb_row3_col2\" class=\"data row3 col2\" >20</td>\n",
              "    </tr>\n",
              "    <tr>\n",
              "      <td id=\"T_fa0fb_row4_col0\" class=\"data row4 col0\" >Shahrukh</td>\n",
              "      <td id=\"T_fa0fb_row4_col1\" class=\"data row4 col1\" >Manager</td>\n",
              "      <td id=\"T_fa0fb_row4_col2\" class=\"data row4 col2\" >20</td>\n",
              "    </tr>\n",
              "    <tr>\n",
              "      <td id=\"T_fa0fb_row5_col0\" class=\"data row5 col0\" >Virender</td>\n",
              "      <td id=\"T_fa0fb_row5_col1\" class=\"data row5 col1\" >Cus_Rep</td>\n",
              "      <td id=\"T_fa0fb_row5_col2\" class=\"data row5 col2\" >20</td>\n",
              "    </tr>\n",
              "    <tr>\n",
              "      <td id=\"T_fa0fb_row6_col0\" class=\"data row6 col0\" >Sania</td>\n",
              "      <td id=\"T_fa0fb_row6_col1\" class=\"data row6 col1\" >Cus_Rep</td>\n",
              "      <td id=\"T_fa0fb_row6_col2\" class=\"data row6 col2\" >30</td>\n",
              "    </tr>\n",
              "    <tr>\n",
              "      <td id=\"T_fa0fb_row7_col0\" class=\"data row7 col0\" >Rahul</td>\n",
              "      <td id=\"T_fa0fb_row7_col1\" class=\"data row7 col1\" >Sr Manager</td>\n",
              "      <td id=\"T_fa0fb_row7_col2\" class=\"data row7 col2\" >30</td>\n",
              "    </tr>\n",
              "    <tr>\n",
              "      <td id=\"T_fa0fb_row8_col0\" class=\"data row8 col0\" >Jagmohan</td>\n",
              "      <td id=\"T_fa0fb_row8_col1\" class=\"data row8 col1\" >Clerk</td>\n",
              "      <td id=\"T_fa0fb_row8_col2\" class=\"data row8 col2\" >30</td>\n",
              "    </tr>\n",
              "    <tr>\n",
              "      <td id=\"T_fa0fb_row9_col0\" class=\"data row9 col0\" >Sourav</td>\n",
              "      <td id=\"T_fa0fb_row9_col1\" class=\"data row9 col1\" >Cus_Rep</td>\n",
              "      <td id=\"T_fa0fb_row9_col2\" class=\"data row9 col2\" >40</td>\n",
              "    </tr>\n",
              "    <tr>\n",
              "      <td id=\"T_fa0fb_row10_col0\" class=\"data row10 col0\" >Mahender</td>\n",
              "      <td id=\"T_fa0fb_row10_col1\" class=\"data row10 col1\" >Clerk</td>\n",
              "      <td id=\"T_fa0fb_row10_col2\" class=\"data row10 col2\" >40</td>\n",
              "    </tr>\n",
              "    <tr>\n",
              "      <td id=\"T_fa0fb_row11_col0\" class=\"data row11 col0\" >Rani</td>\n",
              "      <td id=\"T_fa0fb_row11_col1\" class=\"data row11 col1\" >Manager</td>\n",
              "      <td id=\"T_fa0fb_row11_col2\" class=\"data row11 col2\" >40</td>\n",
              "    </tr>\n",
              "  </tbody>\n",
              "</table>\n"
            ]
          },
          "metadata": {},
          "execution_count": 59
        }
      ]
    },
    {
      "cell_type": "code",
      "source": [
        "#!psql -h localhost -p 5432 -Uupraxis -ddbpraxis -c \"\\\n",
        "sql = \"\\\n",
        "select firstname, jobdesc, deptid from empl \\\n",
        "where not exists \\\n",
        "(select * from dept where empl.deptid = dept.deptid)\\\n",
        "order by deptid \\\n",
        "\"\n",
        "runSelect(sql)"
      ],
      "metadata": {
        "colab": {
          "base_uri": "https://localhost:8080/",
          "height": 81
        },
        "id": "6ntFTYfv5AyB",
        "outputId": "4cf07ff7-391f-468f-de03-445e5af3eaed"
      },
      "execution_count": null,
      "outputs": [
        {
          "output_type": "execute_result",
          "data": {
            "text/plain": [
              "<pandas.io.formats.style.Styler at 0x7bb7a7a7d810>"
            ],
            "text/html": [
              "<style type=\"text/css\">\n",
              "</style>\n",
              "<table id=\"T_ce889\" class=\"dataframe\">\n",
              "  <thead>\n",
              "    <tr>\n",
              "      <th id=\"T_ce889_level0_col0\" class=\"col_heading level0 col0\" >firstname</th>\n",
              "      <th id=\"T_ce889_level0_col1\" class=\"col_heading level0 col1\" >jobdesc</th>\n",
              "      <th id=\"T_ce889_level0_col2\" class=\"col_heading level0 col2\" >deptid</th>\n",
              "    </tr>\n",
              "  </thead>\n",
              "  <tbody>\n",
              "    <tr>\n",
              "      <td id=\"T_ce889_row0_col0\" class=\"data row0 col0\" >Chettri</td>\n",
              "      <td id=\"T_ce889_row0_col1\" class=\"data row0 col1\" >Dy Manager</td>\n",
              "      <td id=\"T_ce889_row0_col2\" class=\"data row0 col2\" >70</td>\n",
              "    </tr>\n",
              "  </tbody>\n",
              "</table>\n"
            ]
          },
          "metadata": {},
          "execution_count": 60
        }
      ]
    },
    {
      "cell_type": "markdown",
      "source": [
        "## ALL | ANY"
      ],
      "metadata": {
        "id": "Ft9lsq4Uh8-6"
      }
    },
    {
      "cell_type": "code",
      "source": [
        "#!psql -h localhost -p 5432 -Uupraxis -ddbpraxis -c \"\\\n",
        "sql = \"\\\n",
        "select firstname, jobdesc, deptid, salary from empl \\\n",
        "where salary > all \\\n",
        "(select avg(salary) from empl)\\\n",
        "\"\n",
        "runSelect(sql)"
      ],
      "metadata": {
        "id": "ZySW3QRkiBUG",
        "outputId": "97b4f986-720c-4509-923c-c5ca0e82e5c2",
        "colab": {
          "base_uri": "https://localhost:8080/",
          "height": 237
        }
      },
      "execution_count": null,
      "outputs": [
        {
          "output_type": "execute_result",
          "data": {
            "text/plain": [
              "<pandas.io.formats.style.Styler at 0x7bb7a7a7fe90>"
            ],
            "text/html": [
              "<style type=\"text/css\">\n",
              "</style>\n",
              "<table id=\"T_8f9da\" class=\"dataframe\">\n",
              "  <thead>\n",
              "    <tr>\n",
              "      <th id=\"T_8f9da_level0_col0\" class=\"col_heading level0 col0\" >firstname</th>\n",
              "      <th id=\"T_8f9da_level0_col1\" class=\"col_heading level0 col1\" >jobdesc</th>\n",
              "      <th id=\"T_8f9da_level0_col2\" class=\"col_heading level0 col2\" >deptid</th>\n",
              "      <th id=\"T_8f9da_level0_col3\" class=\"col_heading level0 col3\" >salary</th>\n",
              "    </tr>\n",
              "  </thead>\n",
              "  <tbody>\n",
              "    <tr>\n",
              "      <td id=\"T_8f9da_row0_col0\" class=\"data row0 col0\" >Amitabh</td>\n",
              "      <td id=\"T_8f9da_row0_col1\" class=\"data row0 col1\" >Executive</td>\n",
              "      <td id=\"T_8f9da_row0_col2\" class=\"data row0 col2\" >10</td>\n",
              "      <td id=\"T_8f9da_row0_col3\" class=\"data row0 col3\" >50000</td>\n",
              "    </tr>\n",
              "    <tr>\n",
              "      <td id=\"T_8f9da_row1_col0\" class=\"data row1 col0\" >Shahrukh</td>\n",
              "      <td id=\"T_8f9da_row1_col1\" class=\"data row1 col1\" >Manager</td>\n",
              "      <td id=\"T_8f9da_row1_col2\" class=\"data row1 col2\" >20</td>\n",
              "      <td id=\"T_8f9da_row1_col3\" class=\"data row1 col3\" >30000</td>\n",
              "    </tr>\n",
              "    <tr>\n",
              "      <td id=\"T_8f9da_row2_col0\" class=\"data row2 col0\" >Rahul</td>\n",
              "      <td id=\"T_8f9da_row2_col1\" class=\"data row2 col1\" >Sr Manager</td>\n",
              "      <td id=\"T_8f9da_row2_col2\" class=\"data row2 col2\" >30</td>\n",
              "      <td id=\"T_8f9da_row2_col3\" class=\"data row2 col3\" >40000</td>\n",
              "    </tr>\n",
              "    <tr>\n",
              "      <td id=\"T_8f9da_row3_col0\" class=\"data row3 col0\" >Rekha</td>\n",
              "      <td id=\"T_8f9da_row3_col1\" class=\"data row3 col1\" >Director</td>\n",
              "      <td id=\"T_8f9da_row3_col2\" class=\"data row3 col2\" >10</td>\n",
              "      <td id=\"T_8f9da_row3_col3\" class=\"data row3 col3\" >60000</td>\n",
              "    </tr>\n",
              "    <tr>\n",
              "      <td id=\"T_8f9da_row4_col0\" class=\"data row4 col0\" >Narayan</td>\n",
              "      <td id=\"T_8f9da_row4_col1\" class=\"data row4 col1\" >Secretary</td>\n",
              "      <td id=\"T_8f9da_row4_col2\" class=\"data row4 col2\" >10</td>\n",
              "      <td id=\"T_8f9da_row4_col3\" class=\"data row4 col3\" >40000</td>\n",
              "    </tr>\n",
              "    <tr>\n",
              "      <td id=\"T_8f9da_row5_col0\" class=\"data row5 col0\" >Chettri</td>\n",
              "      <td id=\"T_8f9da_row5_col1\" class=\"data row5 col1\" >Dy Manager</td>\n",
              "      <td id=\"T_8f9da_row5_col2\" class=\"data row5 col2\" >70</td>\n",
              "      <td id=\"T_8f9da_row5_col3\" class=\"data row5 col3\" >40000</td>\n",
              "    </tr>\n",
              "  </tbody>\n",
              "</table>\n"
            ]
          },
          "metadata": {},
          "execution_count": 61
        }
      ]
    },
    {
      "cell_type": "code",
      "source": [
        "#!psql -h localhost -p 5432 -Uupraxis -ddbpraxis -c \"\\\n",
        "sql = \"\\\n",
        "select firstname, jobdesc, deptid, salary from empl \\\n",
        "where salary <= any \\\n",
        "(select min(salary) from empl)\\\n",
        "\"\n",
        "runSelect(sql)"
      ],
      "metadata": {
        "id": "OrNzFUx2i6n1",
        "outputId": "6cec411c-c5c4-4e79-d204-8403609299d4",
        "colab": {
          "base_uri": "https://localhost:8080/",
          "height": 81
        }
      },
      "execution_count": null,
      "outputs": [
        {
          "output_type": "execute_result",
          "data": {
            "text/plain": [
              "<pandas.io.formats.style.Styler at 0x7bb7a7a7f790>"
            ],
            "text/html": [
              "<style type=\"text/css\">\n",
              "</style>\n",
              "<table id=\"T_e3d66\" class=\"dataframe\">\n",
              "  <thead>\n",
              "    <tr>\n",
              "      <th id=\"T_e3d66_level0_col0\" class=\"col_heading level0 col0\" >firstname</th>\n",
              "      <th id=\"T_e3d66_level0_col1\" class=\"col_heading level0 col1\" >jobdesc</th>\n",
              "      <th id=\"T_e3d66_level0_col2\" class=\"col_heading level0 col2\" >deptid</th>\n",
              "      <th id=\"T_e3d66_level0_col3\" class=\"col_heading level0 col3\" >salary</th>\n",
              "    </tr>\n",
              "  </thead>\n",
              "  <tbody>\n",
              "    <tr>\n",
              "      <td id=\"T_e3d66_row0_col0\" class=\"data row0 col0\" >Mahender</td>\n",
              "      <td id=\"T_e3d66_row0_col1\" class=\"data row0 col1\" >Clerk</td>\n",
              "      <td id=\"T_e3d66_row0_col2\" class=\"data row0 col2\" >40</td>\n",
              "      <td id=\"T_e3d66_row0_col3\" class=\"data row0 col3\" >9000</td>\n",
              "    </tr>\n",
              "  </tbody>\n",
              "</table>\n"
            ]
          },
          "metadata": {},
          "execution_count": 62
        }
      ]
    },
    {
      "cell_type": "code",
      "source": [
        "#!psql -h localhost -p 5432 -Uupraxis -ddbpraxis -c \"\\\n",
        "sql = \"\\\n",
        "select firstname, jobdesc, deptid, salary from empl \\\n",
        "where salary >= any \\\n",
        "(select max(salary) from empl)\\\n",
        "\"\n",
        "runSelect(sql)"
      ],
      "metadata": {
        "id": "_i2nkl8yvjyr",
        "outputId": "187793d5-423e-4f1d-e669-0af920d8142a",
        "colab": {
          "base_uri": "https://localhost:8080/",
          "height": 81
        }
      },
      "execution_count": null,
      "outputs": [
        {
          "output_type": "execute_result",
          "data": {
            "text/plain": [
              "<pandas.io.formats.style.Styler at 0x7bb7a7a8ae90>"
            ],
            "text/html": [
              "<style type=\"text/css\">\n",
              "</style>\n",
              "<table id=\"T_0db80\" class=\"dataframe\">\n",
              "  <thead>\n",
              "    <tr>\n",
              "      <th id=\"T_0db80_level0_col0\" class=\"col_heading level0 col0\" >firstname</th>\n",
              "      <th id=\"T_0db80_level0_col1\" class=\"col_heading level0 col1\" >jobdesc</th>\n",
              "      <th id=\"T_0db80_level0_col2\" class=\"col_heading level0 col2\" >deptid</th>\n",
              "      <th id=\"T_0db80_level0_col3\" class=\"col_heading level0 col3\" >salary</th>\n",
              "    </tr>\n",
              "  </thead>\n",
              "  <tbody>\n",
              "    <tr>\n",
              "      <td id=\"T_0db80_row0_col0\" class=\"data row0 col0\" >Rekha</td>\n",
              "      <td id=\"T_0db80_row0_col1\" class=\"data row0 col1\" >Director</td>\n",
              "      <td id=\"T_0db80_row0_col2\" class=\"data row0 col2\" >10</td>\n",
              "      <td id=\"T_0db80_row0_col3\" class=\"data row0 col3\" >60000</td>\n",
              "    </tr>\n",
              "  </tbody>\n",
              "</table>\n"
            ]
          },
          "metadata": {},
          "execution_count": 63
        }
      ]
    },
    {
      "cell_type": "code",
      "source": [
        "!psql -h localhost -p 5432 -Uupraxis -ddbpraxis -c \"\\\n",
        "select firstname, jobdesc, deptid, salary from empl \\\n",
        "where deptid = ALL  \\\n",
        "(select deptid from dept where location = 'Calcutta' )\\\n",
        "\"\n",
        "#runSelect(sql)"
      ],
      "metadata": {
        "id": "DodcUMruPCYv",
        "outputId": "ac64f914-5206-4670-f809-3bc916845da4",
        "colab": {
          "base_uri": "https://localhost:8080/"
        }
      },
      "execution_count": null,
      "outputs": [
        {
          "output_type": "stream",
          "name": "stdout",
          "text": [
            " firstname | jobdesc | deptid | salary \n",
            "-----------+---------+--------+--------\n",
            "(0 rows)\n",
            "\n"
          ]
        }
      ]
    },
    {
      "cell_type": "code",
      "source": [
        "!psql -h localhost -p 5432 -Uupraxis -ddbpraxis -c \"\\\n",
        "select firstname, jobdesc, deptid, salary from empl \\\n",
        "where deptid = any  \\\n",
        "(select deptid from dept where location = 'Calcutta' )\\\n",
        "\""
      ],
      "metadata": {
        "id": "e-v3Rp0qv3TJ",
        "outputId": "fb706857-4ed9-4107-ff76-05dac013eb3f",
        "colab": {
          "base_uri": "https://localhost:8080/"
        }
      },
      "execution_count": null,
      "outputs": [
        {
          "output_type": "stream",
          "name": "stdout",
          "text": [
            " firstname |  jobdesc   | deptid | salary \n",
            "-----------+------------+--------+--------\n",
            " Amitabh   | Executive  | 10     |  50000\n",
            " Madhuri   | Clerk      | 20     |  10000\n",
            " Shahrukh  | Manager    | 20     |  30000\n",
            " Virender  | Cus_Rep    | 20     |  15000\n",
            " Rahul     | Sr Manager | 30     |  40000\n",
            " Jagmohan  | Clerk      | 30     |  12000\n",
            " Rekha     | Director   | 10     |  60000\n",
            " Narayan   | Secretary  | 10     |  40000\n",
            " Sania     | Cus_Rep    | 30     |  25000\n",
            "(9 rows)\n",
            "\n"
          ]
        }
      ]
    },
    {
      "cell_type": "code",
      "source": [
        "!psql -h localhost -p 5432 -Uupraxis -ddbpraxis -c \"\\\n",
        "select firstname, jobdesc, salary from empl \\\n",
        "where salary > ANY  \\\n",
        "(select salary from empl where jobdesc like '%Manager%' )\\\n",
        "\""
      ],
      "metadata": {
        "id": "9T_Rw43iUs6z",
        "outputId": "aa058118-50ef-42be-c554-d4b81c079daf",
        "colab": {
          "base_uri": "https://localhost:8080/"
        }
      },
      "execution_count": null,
      "outputs": [
        {
          "output_type": "stream",
          "name": "stdout",
          "text": [
            " firstname |  jobdesc   | salary \n",
            "-----------+------------+--------\n",
            " Amitabh   | Executive  |  50000\n",
            " Shahrukh  | Manager    |  30000\n",
            " Rahul     | Sr Manager |  40000\n",
            " Rekha     | Director   |  60000\n",
            " Narayan   | Secretary  |  40000\n",
            " Chettri   | Dy Manager |  40000\n",
            "(6 rows)\n",
            "\n"
          ]
        }
      ]
    },
    {
      "cell_type": "code",
      "source": [
        "!psql -h localhost -p 5432 -Uupraxis -ddbpraxis -c \"\\\n",
        "select firstname, jobdesc, salary from empl \\\n",
        "where salary > ALL  \\\n",
        "(select salary from empl where jobdesc like '%Manager%' )\\\n",
        "\""
      ],
      "metadata": {
        "id": "gBMwfFDLkOhd",
        "outputId": "a7b76ef5-5a74-4108-b5fa-f62fd8ba9298",
        "colab": {
          "base_uri": "https://localhost:8080/"
        }
      },
      "execution_count": null,
      "outputs": [
        {
          "output_type": "stream",
          "name": "stdout",
          "text": [
            " firstname |  jobdesc  | salary \n",
            "-----------+-----------+--------\n",
            " Amitabh   | Executive |  50000\n",
            " Rekha     | Director  |  60000\n",
            "(2 rows)\n",
            "\n"
          ]
        }
      ]
    },
    {
      "cell_type": "markdown",
      "source": [
        "## Common Table Extensions CTE"
      ],
      "metadata": {
        "id": "2gvg8pwe3ale"
      }
    },
    {
      "cell_type": "code",
      "source": [
        "sql = \"\\\n",
        "select jobdesc, avg(salary) avgsalary from empl group by jobdesc \\\n",
        "\"\n",
        "runSelect(sql)"
      ],
      "metadata": {
        "id": "7mu6mmXA3pVn",
        "outputId": "91ea91d0-94e3-4eb4-bfe4-5d93a57f1a38",
        "colab": {
          "base_uri": "https://localhost:8080/",
          "height": 300
        }
      },
      "execution_count": null,
      "outputs": [
        {
          "output_type": "execute_result",
          "data": {
            "text/plain": [
              "<pandas.io.formats.style.Styler at 0x7bb7a7a8b350>"
            ],
            "text/html": [
              "<style type=\"text/css\">\n",
              "</style>\n",
              "<table id=\"T_c2512\" class=\"dataframe\">\n",
              "  <thead>\n",
              "    <tr>\n",
              "      <th id=\"T_c2512_level0_col0\" class=\"col_heading level0 col0\" >jobdesc</th>\n",
              "      <th id=\"T_c2512_level0_col1\" class=\"col_heading level0 col1\" >avgsalary</th>\n",
              "    </tr>\n",
              "  </thead>\n",
              "  <tbody>\n",
              "    <tr>\n",
              "      <td id=\"T_c2512_row0_col0\" class=\"data row0 col0\" >Director</td>\n",
              "      <td id=\"T_c2512_row0_col1\" class=\"data row0 col1\" >60000.000000000000</td>\n",
              "    </tr>\n",
              "    <tr>\n",
              "      <td id=\"T_c2512_row1_col0\" class=\"data row1 col0\" >Manager</td>\n",
              "      <td id=\"T_c2512_row1_col1\" class=\"data row1 col1\" >27500.000000000000</td>\n",
              "    </tr>\n",
              "    <tr>\n",
              "      <td id=\"T_c2512_row2_col0\" class=\"data row2 col0\" >Dy Manager</td>\n",
              "      <td id=\"T_c2512_row2_col1\" class=\"data row2 col1\" >40000.000000000000</td>\n",
              "    </tr>\n",
              "    <tr>\n",
              "      <td id=\"T_c2512_row3_col0\" class=\"data row3 col0\" >Executive</td>\n",
              "      <td id=\"T_c2512_row3_col1\" class=\"data row3 col1\" >50000.000000000000</td>\n",
              "    </tr>\n",
              "    <tr>\n",
              "      <td id=\"T_c2512_row4_col0\" class=\"data row4 col0\" >Secretary</td>\n",
              "      <td id=\"T_c2512_row4_col1\" class=\"data row4 col1\" >40000.000000000000</td>\n",
              "    </tr>\n",
              "    <tr>\n",
              "      <td id=\"T_c2512_row5_col0\" class=\"data row5 col0\" >Cus_Rep</td>\n",
              "      <td id=\"T_c2512_row5_col1\" class=\"data row5 col1\" >20000.000000000000</td>\n",
              "    </tr>\n",
              "    <tr>\n",
              "      <td id=\"T_c2512_row6_col0\" class=\"data row6 col0\" >Clerk</td>\n",
              "      <td id=\"T_c2512_row6_col1\" class=\"data row6 col1\" >10333.3333333333333333</td>\n",
              "    </tr>\n",
              "    <tr>\n",
              "      <td id=\"T_c2512_row7_col0\" class=\"data row7 col0\" >Sr Manager</td>\n",
              "      <td id=\"T_c2512_row7_col1\" class=\"data row7 col1\" >40000.000000000000</td>\n",
              "    </tr>\n",
              "  </tbody>\n",
              "</table>\n"
            ]
          },
          "metadata": {},
          "execution_count": 68
        }
      ]
    },
    {
      "cell_type": "code",
      "source": [
        "sql = \"\\\n",
        "with MeanSalary as \\\n",
        "    (select jobdesc, round(avg(salary),0) avgsalary from empl group by jobdesc) \\\n",
        "select lastname, empl.jobdesc, salary, avgsalary from empl, meansalary \\\n",
        "where empl.jobdesc = meansalary.jobdesc \\\n",
        "order  by jobdesc \\\n",
        "\"\n",
        "runSelect(sql)"
      ],
      "metadata": {
        "id": "0i-rIGEzDgFy",
        "outputId": "16ca6a8a-a781-404c-aece-52f339cff1ec",
        "colab": {
          "base_uri": "https://localhost:8080/",
          "height": 457
        }
      },
      "execution_count": null,
      "outputs": [
        {
          "output_type": "execute_result",
          "data": {
            "text/plain": [
              "<pandas.io.formats.style.Styler at 0x7bb7a7a8b150>"
            ],
            "text/html": [
              "<style type=\"text/css\">\n",
              "</style>\n",
              "<table id=\"T_df4fc\" class=\"dataframe\">\n",
              "  <thead>\n",
              "    <tr>\n",
              "      <th id=\"T_df4fc_level0_col0\" class=\"col_heading level0 col0\" >lastname</th>\n",
              "      <th id=\"T_df4fc_level0_col1\" class=\"col_heading level0 col1\" >jobdesc</th>\n",
              "      <th id=\"T_df4fc_level0_col2\" class=\"col_heading level0 col2\" >salary</th>\n",
              "      <th id=\"T_df4fc_level0_col3\" class=\"col_heading level0 col3\" >avgsalary</th>\n",
              "    </tr>\n",
              "  </thead>\n",
              "  <tbody>\n",
              "    <tr>\n",
              "      <td id=\"T_df4fc_row0_col0\" class=\"data row0 col0\" >Dalmia</td>\n",
              "      <td id=\"T_df4fc_row0_col1\" class=\"data row0 col1\" >Clerk</td>\n",
              "      <td id=\"T_df4fc_row0_col2\" class=\"data row0 col2\" >12000</td>\n",
              "      <td id=\"T_df4fc_row0_col3\" class=\"data row0 col3\" >10333</td>\n",
              "    </tr>\n",
              "    <tr>\n",
              "      <td id=\"T_df4fc_row1_col0\" class=\"data row1 col0\" >Dikshit</td>\n",
              "      <td id=\"T_df4fc_row1_col1\" class=\"data row1 col1\" >Clerk</td>\n",
              "      <td id=\"T_df4fc_row1_col2\" class=\"data row1 col2\" >10000</td>\n",
              "      <td id=\"T_df4fc_row1_col3\" class=\"data row1 col3\" >10333</td>\n",
              "    </tr>\n",
              "    <tr>\n",
              "      <td id=\"T_df4fc_row2_col0\" class=\"data row2 col0\" >Dhoni</td>\n",
              "      <td id=\"T_df4fc_row2_col1\" class=\"data row2 col1\" >Clerk</td>\n",
              "      <td id=\"T_df4fc_row2_col2\" class=\"data row2 col2\" >9000</td>\n",
              "      <td id=\"T_df4fc_row2_col3\" class=\"data row2 col3\" >10333</td>\n",
              "    </tr>\n",
              "    <tr>\n",
              "      <td id=\"T_df4fc_row3_col0\" class=\"data row3 col0\" >Sehwag</td>\n",
              "      <td id=\"T_df4fc_row3_col1\" class=\"data row3 col1\" >Cus_Rep</td>\n",
              "      <td id=\"T_df4fc_row3_col2\" class=\"data row3 col2\" >15000</td>\n",
              "      <td id=\"T_df4fc_row3_col3\" class=\"data row3 col3\" >20000</td>\n",
              "    </tr>\n",
              "    <tr>\n",
              "      <td id=\"T_df4fc_row4_col0\" class=\"data row4 col0\" >Mirza</td>\n",
              "      <td id=\"T_df4fc_row4_col1\" class=\"data row4 col1\" >Cus_Rep</td>\n",
              "      <td id=\"T_df4fc_row4_col2\" class=\"data row4 col2\" >25000</td>\n",
              "      <td id=\"T_df4fc_row4_col3\" class=\"data row4 col3\" >20000</td>\n",
              "    </tr>\n",
              "    <tr>\n",
              "      <td id=\"T_df4fc_row5_col0\" class=\"data row5 col0\" >Ganguly</td>\n",
              "      <td id=\"T_df4fc_row5_col1\" class=\"data row5 col1\" >Cus_Rep</td>\n",
              "      <td id=\"T_df4fc_row5_col2\" class=\"data row5 col2\" >20000</td>\n",
              "      <td id=\"T_df4fc_row5_col3\" class=\"data row5 col3\" >20000</td>\n",
              "    </tr>\n",
              "    <tr>\n",
              "      <td id=\"T_df4fc_row6_col0\" class=\"data row6 col0\" >Ganesan</td>\n",
              "      <td id=\"T_df4fc_row6_col1\" class=\"data row6 col1\" >Director</td>\n",
              "      <td id=\"T_df4fc_row6_col2\" class=\"data row6 col2\" >60000</td>\n",
              "      <td id=\"T_df4fc_row6_col3\" class=\"data row6 col3\" >60000</td>\n",
              "    </tr>\n",
              "    <tr>\n",
              "      <td id=\"T_df4fc_row7_col0\" class=\"data row7 col0\" >Sunil</td>\n",
              "      <td id=\"T_df4fc_row7_col1\" class=\"data row7 col1\" >Dy Manager</td>\n",
              "      <td id=\"T_df4fc_row7_col2\" class=\"data row7 col2\" >40000</td>\n",
              "      <td id=\"T_df4fc_row7_col3\" class=\"data row7 col3\" >40000</td>\n",
              "    </tr>\n",
              "    <tr>\n",
              "      <td id=\"T_df4fc_row8_col0\" class=\"data row8 col0\" >Bacchan</td>\n",
              "      <td id=\"T_df4fc_row8_col1\" class=\"data row8 col1\" >Executive</td>\n",
              "      <td id=\"T_df4fc_row8_col2\" class=\"data row8 col2\" >50000</td>\n",
              "      <td id=\"T_df4fc_row8_col3\" class=\"data row8 col3\" >50000</td>\n",
              "    </tr>\n",
              "    <tr>\n",
              "      <td id=\"T_df4fc_row9_col0\" class=\"data row9 col0\" >Khan</td>\n",
              "      <td id=\"T_df4fc_row9_col1\" class=\"data row9 col1\" >Manager</td>\n",
              "      <td id=\"T_df4fc_row9_col2\" class=\"data row9 col2\" >30000</td>\n",
              "      <td id=\"T_df4fc_row9_col3\" class=\"data row9 col3\" >27500</td>\n",
              "    </tr>\n",
              "    <tr>\n",
              "      <td id=\"T_df4fc_row10_col0\" class=\"data row10 col0\" >Mukherjee</td>\n",
              "      <td id=\"T_df4fc_row10_col1\" class=\"data row10 col1\" >Manager</td>\n",
              "      <td id=\"T_df4fc_row10_col2\" class=\"data row10 col2\" >25000</td>\n",
              "      <td id=\"T_df4fc_row10_col3\" class=\"data row10 col3\" >27500</td>\n",
              "    </tr>\n",
              "    <tr>\n",
              "      <td id=\"T_df4fc_row11_col0\" class=\"data row11 col0\" >Karthikeyan</td>\n",
              "      <td id=\"T_df4fc_row11_col1\" class=\"data row11 col1\" >Secretary</td>\n",
              "      <td id=\"T_df4fc_row11_col2\" class=\"data row11 col2\" >40000</td>\n",
              "      <td id=\"T_df4fc_row11_col3\" class=\"data row11 col3\" >40000</td>\n",
              "    </tr>\n",
              "    <tr>\n",
              "      <td id=\"T_df4fc_row12_col0\" class=\"data row12 col0\" >Dravid</td>\n",
              "      <td id=\"T_df4fc_row12_col1\" class=\"data row12 col1\" >Sr Manager</td>\n",
              "      <td id=\"T_df4fc_row12_col2\" class=\"data row12 col2\" >40000</td>\n",
              "      <td id=\"T_df4fc_row12_col3\" class=\"data row12 col3\" >40000</td>\n",
              "    </tr>\n",
              "  </tbody>\n",
              "</table>\n"
            ]
          },
          "metadata": {},
          "execution_count": 69
        }
      ]
    },
    {
      "cell_type": "code",
      "source": [
        "sql = \"\\\n",
        "select lastname, empl.jobdesc, salary, avgsalary from \\\n",
        "empl, (select jobdesc, round(avg(salary),0) avgsalary from empl group by jobdesc) meansalary \\\n",
        "where empl.jobdesc = meansalary.jobdesc \\\n",
        "order  by jobdesc \\\n",
        "\"\n",
        "runSelect(sql)"
      ],
      "metadata": {
        "id": "nwrLj4xaExye",
        "outputId": "083caeb0-4288-45ee-c42d-af17c7074422",
        "colab": {
          "base_uri": "https://localhost:8080/",
          "height": 457
        }
      },
      "execution_count": null,
      "outputs": [
        {
          "output_type": "execute_result",
          "data": {
            "text/plain": [
              "<pandas.io.formats.style.Styler at 0x7bb7a7a96d90>"
            ],
            "text/html": [
              "<style type=\"text/css\">\n",
              "</style>\n",
              "<table id=\"T_77ced\" class=\"dataframe\">\n",
              "  <thead>\n",
              "    <tr>\n",
              "      <th id=\"T_77ced_level0_col0\" class=\"col_heading level0 col0\" >lastname</th>\n",
              "      <th id=\"T_77ced_level0_col1\" class=\"col_heading level0 col1\" >jobdesc</th>\n",
              "      <th id=\"T_77ced_level0_col2\" class=\"col_heading level0 col2\" >salary</th>\n",
              "      <th id=\"T_77ced_level0_col3\" class=\"col_heading level0 col3\" >avgsalary</th>\n",
              "    </tr>\n",
              "  </thead>\n",
              "  <tbody>\n",
              "    <tr>\n",
              "      <td id=\"T_77ced_row0_col0\" class=\"data row0 col0\" >Dalmia</td>\n",
              "      <td id=\"T_77ced_row0_col1\" class=\"data row0 col1\" >Clerk</td>\n",
              "      <td id=\"T_77ced_row0_col2\" class=\"data row0 col2\" >12000</td>\n",
              "      <td id=\"T_77ced_row0_col3\" class=\"data row0 col3\" >10333</td>\n",
              "    </tr>\n",
              "    <tr>\n",
              "      <td id=\"T_77ced_row1_col0\" class=\"data row1 col0\" >Dikshit</td>\n",
              "      <td id=\"T_77ced_row1_col1\" class=\"data row1 col1\" >Clerk</td>\n",
              "      <td id=\"T_77ced_row1_col2\" class=\"data row1 col2\" >10000</td>\n",
              "      <td id=\"T_77ced_row1_col3\" class=\"data row1 col3\" >10333</td>\n",
              "    </tr>\n",
              "    <tr>\n",
              "      <td id=\"T_77ced_row2_col0\" class=\"data row2 col0\" >Dhoni</td>\n",
              "      <td id=\"T_77ced_row2_col1\" class=\"data row2 col1\" >Clerk</td>\n",
              "      <td id=\"T_77ced_row2_col2\" class=\"data row2 col2\" >9000</td>\n",
              "      <td id=\"T_77ced_row2_col3\" class=\"data row2 col3\" >10333</td>\n",
              "    </tr>\n",
              "    <tr>\n",
              "      <td id=\"T_77ced_row3_col0\" class=\"data row3 col0\" >Sehwag</td>\n",
              "      <td id=\"T_77ced_row3_col1\" class=\"data row3 col1\" >Cus_Rep</td>\n",
              "      <td id=\"T_77ced_row3_col2\" class=\"data row3 col2\" >15000</td>\n",
              "      <td id=\"T_77ced_row3_col3\" class=\"data row3 col3\" >20000</td>\n",
              "    </tr>\n",
              "    <tr>\n",
              "      <td id=\"T_77ced_row4_col0\" class=\"data row4 col0\" >Mirza</td>\n",
              "      <td id=\"T_77ced_row4_col1\" class=\"data row4 col1\" >Cus_Rep</td>\n",
              "      <td id=\"T_77ced_row4_col2\" class=\"data row4 col2\" >25000</td>\n",
              "      <td id=\"T_77ced_row4_col3\" class=\"data row4 col3\" >20000</td>\n",
              "    </tr>\n",
              "    <tr>\n",
              "      <td id=\"T_77ced_row5_col0\" class=\"data row5 col0\" >Ganguly</td>\n",
              "      <td id=\"T_77ced_row5_col1\" class=\"data row5 col1\" >Cus_Rep</td>\n",
              "      <td id=\"T_77ced_row5_col2\" class=\"data row5 col2\" >20000</td>\n",
              "      <td id=\"T_77ced_row5_col3\" class=\"data row5 col3\" >20000</td>\n",
              "    </tr>\n",
              "    <tr>\n",
              "      <td id=\"T_77ced_row6_col0\" class=\"data row6 col0\" >Ganesan</td>\n",
              "      <td id=\"T_77ced_row6_col1\" class=\"data row6 col1\" >Director</td>\n",
              "      <td id=\"T_77ced_row6_col2\" class=\"data row6 col2\" >60000</td>\n",
              "      <td id=\"T_77ced_row6_col3\" class=\"data row6 col3\" >60000</td>\n",
              "    </tr>\n",
              "    <tr>\n",
              "      <td id=\"T_77ced_row7_col0\" class=\"data row7 col0\" >Sunil</td>\n",
              "      <td id=\"T_77ced_row7_col1\" class=\"data row7 col1\" >Dy Manager</td>\n",
              "      <td id=\"T_77ced_row7_col2\" class=\"data row7 col2\" >40000</td>\n",
              "      <td id=\"T_77ced_row7_col3\" class=\"data row7 col3\" >40000</td>\n",
              "    </tr>\n",
              "    <tr>\n",
              "      <td id=\"T_77ced_row8_col0\" class=\"data row8 col0\" >Bacchan</td>\n",
              "      <td id=\"T_77ced_row8_col1\" class=\"data row8 col1\" >Executive</td>\n",
              "      <td id=\"T_77ced_row8_col2\" class=\"data row8 col2\" >50000</td>\n",
              "      <td id=\"T_77ced_row8_col3\" class=\"data row8 col3\" >50000</td>\n",
              "    </tr>\n",
              "    <tr>\n",
              "      <td id=\"T_77ced_row9_col0\" class=\"data row9 col0\" >Khan</td>\n",
              "      <td id=\"T_77ced_row9_col1\" class=\"data row9 col1\" >Manager</td>\n",
              "      <td id=\"T_77ced_row9_col2\" class=\"data row9 col2\" >30000</td>\n",
              "      <td id=\"T_77ced_row9_col3\" class=\"data row9 col3\" >27500</td>\n",
              "    </tr>\n",
              "    <tr>\n",
              "      <td id=\"T_77ced_row10_col0\" class=\"data row10 col0\" >Mukherjee</td>\n",
              "      <td id=\"T_77ced_row10_col1\" class=\"data row10 col1\" >Manager</td>\n",
              "      <td id=\"T_77ced_row10_col2\" class=\"data row10 col2\" >25000</td>\n",
              "      <td id=\"T_77ced_row10_col3\" class=\"data row10 col3\" >27500</td>\n",
              "    </tr>\n",
              "    <tr>\n",
              "      <td id=\"T_77ced_row11_col0\" class=\"data row11 col0\" >Karthikeyan</td>\n",
              "      <td id=\"T_77ced_row11_col1\" class=\"data row11 col1\" >Secretary</td>\n",
              "      <td id=\"T_77ced_row11_col2\" class=\"data row11 col2\" >40000</td>\n",
              "      <td id=\"T_77ced_row11_col3\" class=\"data row11 col3\" >40000</td>\n",
              "    </tr>\n",
              "    <tr>\n",
              "      <td id=\"T_77ced_row12_col0\" class=\"data row12 col0\" >Dravid</td>\n",
              "      <td id=\"T_77ced_row12_col1\" class=\"data row12 col1\" >Sr Manager</td>\n",
              "      <td id=\"T_77ced_row12_col2\" class=\"data row12 col2\" >40000</td>\n",
              "      <td id=\"T_77ced_row12_col3\" class=\"data row12 col3\" >40000</td>\n",
              "    </tr>\n",
              "  </tbody>\n",
              "</table>\n"
            ]
          },
          "metadata": {},
          "execution_count": 70
        }
      ]
    },
    {
      "cell_type": "markdown",
      "source": [
        "### CTE Recursion"
      ],
      "metadata": {
        "id": "d3j9PbgaADoB"
      }
    },
    {
      "cell_type": "code",
      "source": [
        "# recursion\n",
        "sql = \"\\\n",
        "with recursive hiring_chain as (\\\n",
        "select empid, lastname, hiredby \\\n",
        "    from empl where lastname = 'Ganesan' \\\n",
        "union all \\\n",
        "select \\\n",
        "e.empid, e.lastname,e.hiredby \\\n",
        "    from empl e \\\n",
        "    inner join hiring_chain hc on hc.empid = e.hiredby \\\n",
        ") \\\n",
        "select * from hiring_chain \\\n",
        "\"\n",
        "\n",
        "runSelect(sql)"
      ],
      "metadata": {
        "id": "HA-RyLoz0D3Z",
        "outputId": "7f980fe6-d9ef-4b85-c047-0232f8b5b878",
        "colab": {
          "base_uri": "https://localhost:8080/",
          "height": 175
        }
      },
      "execution_count": null,
      "outputs": [
        {
          "output_type": "execute_result",
          "data": {
            "text/plain": [
              "<pandas.io.formats.style.Styler at 0x7bb7a7a9c290>"
            ],
            "text/html": [
              "<style type=\"text/css\">\n",
              "</style>\n",
              "<table id=\"T_7ebfe\" class=\"dataframe\">\n",
              "  <thead>\n",
              "    <tr>\n",
              "      <th id=\"T_7ebfe_level0_col0\" class=\"col_heading level0 col0\" >empid</th>\n",
              "      <th id=\"T_7ebfe_level0_col1\" class=\"col_heading level0 col1\" >lastname</th>\n",
              "      <th id=\"T_7ebfe_level0_col2\" class=\"col_heading level0 col2\" >hiredby</th>\n",
              "    </tr>\n",
              "  </thead>\n",
              "  <tbody>\n",
              "    <tr>\n",
              "      <td id=\"T_7ebfe_row0_col0\" class=\"data row0 col0\" >299034</td>\n",
              "      <td id=\"T_7ebfe_row0_col1\" class=\"data row0 col1\" >Ganesan</td>\n",
              "      <td id=\"T_7ebfe_row0_col2\" class=\"data row0 col2\" >742866</td>\n",
              "    </tr>\n",
              "    <tr>\n",
              "      <td id=\"T_7ebfe_row1_col0\" class=\"data row1 col0\" >989007</td>\n",
              "      <td id=\"T_7ebfe_row1_col1\" class=\"data row1 col1\" >Ganguly</td>\n",
              "      <td id=\"T_7ebfe_row1_col2\" class=\"data row1 col2\" >299034</td>\n",
              "    </tr>\n",
              "    <tr>\n",
              "      <td id=\"T_7ebfe_row2_col0\" class=\"data row2 col0\" >546223</td>\n",
              "      <td id=\"T_7ebfe_row2_col1\" class=\"data row2 col1\" >Karthikeyan</td>\n",
              "      <td id=\"T_7ebfe_row2_col2\" class=\"data row2 col2\" >299034</td>\n",
              "    </tr>\n",
              "    <tr>\n",
              "      <td id=\"T_7ebfe_row3_col0\" class=\"data row3 col0\" >546224</td>\n",
              "      <td id=\"T_7ebfe_row3_col1\" class=\"data row3 col1\" >Sunil</td>\n",
              "      <td id=\"T_7ebfe_row3_col2\" class=\"data row3 col2\" >989007</td>\n",
              "    </tr>\n",
              "  </tbody>\n",
              "</table>\n"
            ]
          },
          "metadata": {},
          "execution_count": 71
        }
      ]
    },
    {
      "cell_type": "markdown",
      "source": [
        "### More Sophisticated Recursion\n",
        "note the switch between upward chain and downward chain in the JOIN column <br>\n",
        "\n",
        "\n",
        "*   Downward > e.hiredby = hc.empid\n",
        "*   Upward   > e.empid = hc.hiredby\n",
        "\n",
        "Courtesy [ChatGPT](https://chat.openai.com/share/80e291a6-bbd2-42d8-ba3d-6e01be4eafd7)"
      ],
      "metadata": {
        "id": "a5zh-tdQAxJp"
      }
    },
    {
      "cell_type": "code",
      "source": [
        "# Downward Chain\n",
        "#\n",
        "sql = \"\\\n",
        "with recursive hiring_chain as (\\\n",
        "select empid, lastname, hiredby, 1 as level \\\n",
        "    from empl where hiredby = '299034' \\\n",
        "union all \\\n",
        "select \\\n",
        "e.empid, e.lastname,e.hiredby, hc.level+1 \\\n",
        "    from empl e \\\n",
        "    inner join hiring_chain hc on e.hiredby = hc.empid  \\\n",
        ") \\\n",
        "select * from hiring_chain \\\n",
        "\"\n",
        "\n",
        "runSelect(sql)"
      ],
      "metadata": {
        "id": "wEsTzZbxA9Y9",
        "outputId": "32bd46cf-b048-4060-9954-93c44c3581f5",
        "colab": {
          "base_uri": "https://localhost:8080/",
          "height": 143
        }
      },
      "execution_count": null,
      "outputs": [
        {
          "output_type": "execute_result",
          "data": {
            "text/plain": [
              "<pandas.io.formats.style.Styler at 0x7bb7a7a9e690>"
            ],
            "text/html": [
              "<style type=\"text/css\">\n",
              "</style>\n",
              "<table id=\"T_1ac37\" class=\"dataframe\">\n",
              "  <thead>\n",
              "    <tr>\n",
              "      <th id=\"T_1ac37_level0_col0\" class=\"col_heading level0 col0\" >empid</th>\n",
              "      <th id=\"T_1ac37_level0_col1\" class=\"col_heading level0 col1\" >lastname</th>\n",
              "      <th id=\"T_1ac37_level0_col2\" class=\"col_heading level0 col2\" >hiredby</th>\n",
              "      <th id=\"T_1ac37_level0_col3\" class=\"col_heading level0 col3\" >level</th>\n",
              "    </tr>\n",
              "  </thead>\n",
              "  <tbody>\n",
              "    <tr>\n",
              "      <td id=\"T_1ac37_row0_col0\" class=\"data row0 col0\" >989007</td>\n",
              "      <td id=\"T_1ac37_row0_col1\" class=\"data row0 col1\" >Ganguly</td>\n",
              "      <td id=\"T_1ac37_row0_col2\" class=\"data row0 col2\" >299034</td>\n",
              "      <td id=\"T_1ac37_row0_col3\" class=\"data row0 col3\" >1</td>\n",
              "    </tr>\n",
              "    <tr>\n",
              "      <td id=\"T_1ac37_row1_col0\" class=\"data row1 col0\" >546223</td>\n",
              "      <td id=\"T_1ac37_row1_col1\" class=\"data row1 col1\" >Karthikeyan</td>\n",
              "      <td id=\"T_1ac37_row1_col2\" class=\"data row1 col2\" >299034</td>\n",
              "      <td id=\"T_1ac37_row1_col3\" class=\"data row1 col3\" >1</td>\n",
              "    </tr>\n",
              "    <tr>\n",
              "      <td id=\"T_1ac37_row2_col0\" class=\"data row2 col0\" >546224</td>\n",
              "      <td id=\"T_1ac37_row2_col1\" class=\"data row2 col1\" >Sunil</td>\n",
              "      <td id=\"T_1ac37_row2_col2\" class=\"data row2 col2\" >989007</td>\n",
              "      <td id=\"T_1ac37_row2_col3\" class=\"data row2 col3\" >2</td>\n",
              "    </tr>\n",
              "  </tbody>\n",
              "</table>\n"
            ]
          },
          "metadata": {},
          "execution_count": 72
        }
      ]
    },
    {
      "cell_type": "code",
      "source": [
        "# Downward Chain - Style 2\n",
        "#\n",
        "sql = \"\\\n",
        "with recursive hiring_chain as (\\\n",
        "select empid, lastname, hiredby, 1 as level \\\n",
        "    from empl where hiredby = (select empid from empl where lastname = 'Ganesan') \\\n",
        "union all \\\n",
        "select \\\n",
        "e.empid, e.lastname,e.hiredby, hc.level+1 \\\n",
        "    from empl e \\\n",
        "    inner join hiring_chain hc on e.hiredby = hc.empid  \\\n",
        ") \\\n",
        "select * from hiring_chain \\\n",
        "\"\n",
        "\n",
        "runSelect(sql)"
      ],
      "metadata": {
        "id": "jKvfW2HiQF5O",
        "outputId": "b3cba77f-9771-4b41-ee7c-fea65202dd5a",
        "colab": {
          "base_uri": "https://localhost:8080/",
          "height": 143
        }
      },
      "execution_count": null,
      "outputs": [
        {
          "output_type": "execute_result",
          "data": {
            "text/plain": [
              "<pandas.io.formats.style.Styler at 0x7bb7a7a9d850>"
            ],
            "text/html": [
              "<style type=\"text/css\">\n",
              "</style>\n",
              "<table id=\"T_5f4ee\" class=\"dataframe\">\n",
              "  <thead>\n",
              "    <tr>\n",
              "      <th id=\"T_5f4ee_level0_col0\" class=\"col_heading level0 col0\" >empid</th>\n",
              "      <th id=\"T_5f4ee_level0_col1\" class=\"col_heading level0 col1\" >lastname</th>\n",
              "      <th id=\"T_5f4ee_level0_col2\" class=\"col_heading level0 col2\" >hiredby</th>\n",
              "      <th id=\"T_5f4ee_level0_col3\" class=\"col_heading level0 col3\" >level</th>\n",
              "    </tr>\n",
              "  </thead>\n",
              "  <tbody>\n",
              "    <tr>\n",
              "      <td id=\"T_5f4ee_row0_col0\" class=\"data row0 col0\" >989007</td>\n",
              "      <td id=\"T_5f4ee_row0_col1\" class=\"data row0 col1\" >Ganguly</td>\n",
              "      <td id=\"T_5f4ee_row0_col2\" class=\"data row0 col2\" >299034</td>\n",
              "      <td id=\"T_5f4ee_row0_col3\" class=\"data row0 col3\" >1</td>\n",
              "    </tr>\n",
              "    <tr>\n",
              "      <td id=\"T_5f4ee_row1_col0\" class=\"data row1 col0\" >546223</td>\n",
              "      <td id=\"T_5f4ee_row1_col1\" class=\"data row1 col1\" >Karthikeyan</td>\n",
              "      <td id=\"T_5f4ee_row1_col2\" class=\"data row1 col2\" >299034</td>\n",
              "      <td id=\"T_5f4ee_row1_col3\" class=\"data row1 col3\" >1</td>\n",
              "    </tr>\n",
              "    <tr>\n",
              "      <td id=\"T_5f4ee_row2_col0\" class=\"data row2 col0\" >546224</td>\n",
              "      <td id=\"T_5f4ee_row2_col1\" class=\"data row2 col1\" >Sunil</td>\n",
              "      <td id=\"T_5f4ee_row2_col2\" class=\"data row2 col2\" >989007</td>\n",
              "      <td id=\"T_5f4ee_row2_col3\" class=\"data row2 col3\" >2</td>\n",
              "    </tr>\n",
              "  </tbody>\n",
              "</table>\n"
            ]
          },
          "metadata": {},
          "execution_count": 73
        }
      ]
    },
    {
      "cell_type": "code",
      "source": [
        "# Upward Chain\n",
        "#\n",
        "sql = \"\\\n",
        "with recursive hiring_chain as (\\\n",
        "select empid, lastname, hiredby, 1 as level \\\n",
        "    from empl where lastname = 'Ganesan' \\\n",
        "union all \\\n",
        "select \\\n",
        "e.empid, e.lastname,e.hiredby, hc.level+1 \\\n",
        "    from empl e \\\n",
        "    inner join hiring_chain hc on e.empid = hc.hiredby  \\\n",
        ") \\\n",
        "select * from hiring_chain \\\n",
        "\"\n",
        "\n",
        "runSelect(sql)"
      ],
      "metadata": {
        "id": "ZtH1410DCaOT",
        "outputId": "93b66e5f-fa35-4439-8b18-347f7ff9622e",
        "colab": {
          "base_uri": "https://localhost:8080/",
          "height": 112
        }
      },
      "execution_count": null,
      "outputs": [
        {
          "output_type": "execute_result",
          "data": {
            "text/plain": [
              "<pandas.io.formats.style.Styler at 0x7bb7a7a95490>"
            ],
            "text/html": [
              "<style type=\"text/css\">\n",
              "</style>\n",
              "<table id=\"T_19de3\" class=\"dataframe\">\n",
              "  <thead>\n",
              "    <tr>\n",
              "      <th id=\"T_19de3_level0_col0\" class=\"col_heading level0 col0\" >empid</th>\n",
              "      <th id=\"T_19de3_level0_col1\" class=\"col_heading level0 col1\" >lastname</th>\n",
              "      <th id=\"T_19de3_level0_col2\" class=\"col_heading level0 col2\" >hiredby</th>\n",
              "      <th id=\"T_19de3_level0_col3\" class=\"col_heading level0 col3\" >level</th>\n",
              "    </tr>\n",
              "  </thead>\n",
              "  <tbody>\n",
              "    <tr>\n",
              "      <td id=\"T_19de3_row0_col0\" class=\"data row0 col0\" >299034</td>\n",
              "      <td id=\"T_19de3_row0_col1\" class=\"data row0 col1\" >Ganesan</td>\n",
              "      <td id=\"T_19de3_row0_col2\" class=\"data row0 col2\" >742866</td>\n",
              "      <td id=\"T_19de3_row0_col3\" class=\"data row0 col3\" >1</td>\n",
              "    </tr>\n",
              "    <tr>\n",
              "      <td id=\"T_19de3_row1_col0\" class=\"data row1 col0\" >742866</td>\n",
              "      <td id=\"T_19de3_row1_col1\" class=\"data row1 col1\" >Bacchan</td>\n",
              "      <td id=\"T_19de3_row1_col2\" class=\"data row1 col2\" >None</td>\n",
              "      <td id=\"T_19de3_row1_col3\" class=\"data row1 col3\" >2</td>\n",
              "    </tr>\n",
              "  </tbody>\n",
              "</table>\n"
            ]
          },
          "metadata": {},
          "execution_count": 74
        }
      ]
    },
    {
      "cell_type": "code",
      "source": [
        "# Upward Chain\n",
        "#\n",
        "sql = \"\\\n",
        "with recursive hiring_chain as (\\\n",
        "select empid, lastname, hiredby, 1 as level \\\n",
        "    from empl where lastname = 'Sunil' \\\n",
        "union all \\\n",
        "select \\\n",
        "e.empid, e.lastname,e.hiredby, hc.level+1 \\\n",
        "    from empl e \\\n",
        "    inner join hiring_chain hc on e.empid = hc.hiredby  \\\n",
        ") \\\n",
        "select * from hiring_chain \\\n",
        "\"\n",
        "\n",
        "runSelect(sql)"
      ],
      "metadata": {
        "id": "ZmBHyLXbPMQF",
        "outputId": "af86df31-84fd-40e3-e563-2c4ecf8a097c",
        "colab": {
          "base_uri": "https://localhost:8080/",
          "height": 175
        }
      },
      "execution_count": null,
      "outputs": [
        {
          "output_type": "execute_result",
          "data": {
            "text/plain": [
              "<pandas.io.formats.style.Styler at 0x7bb7a7aad790>"
            ],
            "text/html": [
              "<style type=\"text/css\">\n",
              "</style>\n",
              "<table id=\"T_3633d\" class=\"dataframe\">\n",
              "  <thead>\n",
              "    <tr>\n",
              "      <th id=\"T_3633d_level0_col0\" class=\"col_heading level0 col0\" >empid</th>\n",
              "      <th id=\"T_3633d_level0_col1\" class=\"col_heading level0 col1\" >lastname</th>\n",
              "      <th id=\"T_3633d_level0_col2\" class=\"col_heading level0 col2\" >hiredby</th>\n",
              "      <th id=\"T_3633d_level0_col3\" class=\"col_heading level0 col3\" >level</th>\n",
              "    </tr>\n",
              "  </thead>\n",
              "  <tbody>\n",
              "    <tr>\n",
              "      <td id=\"T_3633d_row0_col0\" class=\"data row0 col0\" >546224</td>\n",
              "      <td id=\"T_3633d_row0_col1\" class=\"data row0 col1\" >Sunil</td>\n",
              "      <td id=\"T_3633d_row0_col2\" class=\"data row0 col2\" >989007</td>\n",
              "      <td id=\"T_3633d_row0_col3\" class=\"data row0 col3\" >1</td>\n",
              "    </tr>\n",
              "    <tr>\n",
              "      <td id=\"T_3633d_row1_col0\" class=\"data row1 col0\" >989007</td>\n",
              "      <td id=\"T_3633d_row1_col1\" class=\"data row1 col1\" >Ganguly</td>\n",
              "      <td id=\"T_3633d_row1_col2\" class=\"data row1 col2\" >299034</td>\n",
              "      <td id=\"T_3633d_row1_col3\" class=\"data row1 col3\" >2</td>\n",
              "    </tr>\n",
              "    <tr>\n",
              "      <td id=\"T_3633d_row2_col0\" class=\"data row2 col0\" >299034</td>\n",
              "      <td id=\"T_3633d_row2_col1\" class=\"data row2 col1\" >Ganesan</td>\n",
              "      <td id=\"T_3633d_row2_col2\" class=\"data row2 col2\" >742866</td>\n",
              "      <td id=\"T_3633d_row2_col3\" class=\"data row2 col3\" >3</td>\n",
              "    </tr>\n",
              "    <tr>\n",
              "      <td id=\"T_3633d_row3_col0\" class=\"data row3 col0\" >742866</td>\n",
              "      <td id=\"T_3633d_row3_col1\" class=\"data row3 col1\" >Bacchan</td>\n",
              "      <td id=\"T_3633d_row3_col2\" class=\"data row3 col2\" >None</td>\n",
              "      <td id=\"T_3633d_row3_col3\" class=\"data row3 col3\" >4</td>\n",
              "    </tr>\n",
              "  </tbody>\n",
              "</table>\n"
            ]
          },
          "metadata": {},
          "execution_count": 75
        }
      ]
    },
    {
      "cell_type": "markdown",
      "source": [
        "#Window Functions"
      ],
      "metadata": {
        "id": "p1v2XtGa1QOq"
      }
    },
    {
      "cell_type": "code",
      "source": [
        "sql = \"select deptid, lastname, salary, \\\n",
        "    avg(salary) over (partition by deptid) \\\n",
        "    from empl\"\n",
        "runSelect(sql)"
      ],
      "metadata": {
        "colab": {
          "base_uri": "https://localhost:8080/",
          "height": 457
        },
        "id": "ffpu5hXo1TfJ",
        "outputId": "cada43c7-41e3-42ca-e1be-acce043bdb5e"
      },
      "execution_count": null,
      "outputs": [
        {
          "output_type": "execute_result",
          "data": {
            "text/plain": [
              "<pandas.io.formats.style.Styler at 0x7bb7a7aad350>"
            ],
            "text/html": [
              "<style type=\"text/css\">\n",
              "</style>\n",
              "<table id=\"T_a6aa5\" class=\"dataframe\">\n",
              "  <thead>\n",
              "    <tr>\n",
              "      <th id=\"T_a6aa5_level0_col0\" class=\"col_heading level0 col0\" >deptid</th>\n",
              "      <th id=\"T_a6aa5_level0_col1\" class=\"col_heading level0 col1\" >lastname</th>\n",
              "      <th id=\"T_a6aa5_level0_col2\" class=\"col_heading level0 col2\" >salary</th>\n",
              "      <th id=\"T_a6aa5_level0_col3\" class=\"col_heading level0 col3\" >avg</th>\n",
              "    </tr>\n",
              "  </thead>\n",
              "  <tbody>\n",
              "    <tr>\n",
              "      <td id=\"T_a6aa5_row0_col0\" class=\"data row0 col0\" >10</td>\n",
              "      <td id=\"T_a6aa5_row0_col1\" class=\"data row0 col1\" >Bacchan</td>\n",
              "      <td id=\"T_a6aa5_row0_col2\" class=\"data row0 col2\" >50000</td>\n",
              "      <td id=\"T_a6aa5_row0_col3\" class=\"data row0 col3\" >50000.000000000000</td>\n",
              "    </tr>\n",
              "    <tr>\n",
              "      <td id=\"T_a6aa5_row1_col0\" class=\"data row1 col0\" >10</td>\n",
              "      <td id=\"T_a6aa5_row1_col1\" class=\"data row1 col1\" >Ganesan</td>\n",
              "      <td id=\"T_a6aa5_row1_col2\" class=\"data row1 col2\" >60000</td>\n",
              "      <td id=\"T_a6aa5_row1_col3\" class=\"data row1 col3\" >50000.000000000000</td>\n",
              "    </tr>\n",
              "    <tr>\n",
              "      <td id=\"T_a6aa5_row2_col0\" class=\"data row2 col0\" >10</td>\n",
              "      <td id=\"T_a6aa5_row2_col1\" class=\"data row2 col1\" >Karthikeyan</td>\n",
              "      <td id=\"T_a6aa5_row2_col2\" class=\"data row2 col2\" >40000</td>\n",
              "      <td id=\"T_a6aa5_row2_col3\" class=\"data row2 col3\" >50000.000000000000</td>\n",
              "    </tr>\n",
              "    <tr>\n",
              "      <td id=\"T_a6aa5_row3_col0\" class=\"data row3 col0\" >20</td>\n",
              "      <td id=\"T_a6aa5_row3_col1\" class=\"data row3 col1\" >Dikshit</td>\n",
              "      <td id=\"T_a6aa5_row3_col2\" class=\"data row3 col2\" >10000</td>\n",
              "      <td id=\"T_a6aa5_row3_col3\" class=\"data row3 col3\" >18333.333333333333</td>\n",
              "    </tr>\n",
              "    <tr>\n",
              "      <td id=\"T_a6aa5_row4_col0\" class=\"data row4 col0\" >20</td>\n",
              "      <td id=\"T_a6aa5_row4_col1\" class=\"data row4 col1\" >Khan</td>\n",
              "      <td id=\"T_a6aa5_row4_col2\" class=\"data row4 col2\" >30000</td>\n",
              "      <td id=\"T_a6aa5_row4_col3\" class=\"data row4 col3\" >18333.333333333333</td>\n",
              "    </tr>\n",
              "    <tr>\n",
              "      <td id=\"T_a6aa5_row5_col0\" class=\"data row5 col0\" >20</td>\n",
              "      <td id=\"T_a6aa5_row5_col1\" class=\"data row5 col1\" >Sehwag</td>\n",
              "      <td id=\"T_a6aa5_row5_col2\" class=\"data row5 col2\" >15000</td>\n",
              "      <td id=\"T_a6aa5_row5_col3\" class=\"data row5 col3\" >18333.333333333333</td>\n",
              "    </tr>\n",
              "    <tr>\n",
              "      <td id=\"T_a6aa5_row6_col0\" class=\"data row6 col0\" >30</td>\n",
              "      <td id=\"T_a6aa5_row6_col1\" class=\"data row6 col1\" >Mirza</td>\n",
              "      <td id=\"T_a6aa5_row6_col2\" class=\"data row6 col2\" >25000</td>\n",
              "      <td id=\"T_a6aa5_row6_col3\" class=\"data row6 col3\" >25666.666666666667</td>\n",
              "    </tr>\n",
              "    <tr>\n",
              "      <td id=\"T_a6aa5_row7_col0\" class=\"data row7 col0\" >30</td>\n",
              "      <td id=\"T_a6aa5_row7_col1\" class=\"data row7 col1\" >Dravid</td>\n",
              "      <td id=\"T_a6aa5_row7_col2\" class=\"data row7 col2\" >40000</td>\n",
              "      <td id=\"T_a6aa5_row7_col3\" class=\"data row7 col3\" >25666.666666666667</td>\n",
              "    </tr>\n",
              "    <tr>\n",
              "      <td id=\"T_a6aa5_row8_col0\" class=\"data row8 col0\" >30</td>\n",
              "      <td id=\"T_a6aa5_row8_col1\" class=\"data row8 col1\" >Dalmia</td>\n",
              "      <td id=\"T_a6aa5_row8_col2\" class=\"data row8 col2\" >12000</td>\n",
              "      <td id=\"T_a6aa5_row8_col3\" class=\"data row8 col3\" >25666.666666666667</td>\n",
              "    </tr>\n",
              "    <tr>\n",
              "      <td id=\"T_a6aa5_row9_col0\" class=\"data row9 col0\" >40</td>\n",
              "      <td id=\"T_a6aa5_row9_col1\" class=\"data row9 col1\" >Ganguly</td>\n",
              "      <td id=\"T_a6aa5_row9_col2\" class=\"data row9 col2\" >20000</td>\n",
              "      <td id=\"T_a6aa5_row9_col3\" class=\"data row9 col3\" >18000.000000000000</td>\n",
              "    </tr>\n",
              "    <tr>\n",
              "      <td id=\"T_a6aa5_row10_col0\" class=\"data row10 col0\" >40</td>\n",
              "      <td id=\"T_a6aa5_row10_col1\" class=\"data row10 col1\" >Dhoni</td>\n",
              "      <td id=\"T_a6aa5_row10_col2\" class=\"data row10 col2\" >9000</td>\n",
              "      <td id=\"T_a6aa5_row10_col3\" class=\"data row10 col3\" >18000.000000000000</td>\n",
              "    </tr>\n",
              "    <tr>\n",
              "      <td id=\"T_a6aa5_row11_col0\" class=\"data row11 col0\" >40</td>\n",
              "      <td id=\"T_a6aa5_row11_col1\" class=\"data row11 col1\" >Mukherjee</td>\n",
              "      <td id=\"T_a6aa5_row11_col2\" class=\"data row11 col2\" >25000</td>\n",
              "      <td id=\"T_a6aa5_row11_col3\" class=\"data row11 col3\" >18000.000000000000</td>\n",
              "    </tr>\n",
              "    <tr>\n",
              "      <td id=\"T_a6aa5_row12_col0\" class=\"data row12 col0\" >70</td>\n",
              "      <td id=\"T_a6aa5_row12_col1\" class=\"data row12 col1\" >Sunil</td>\n",
              "      <td id=\"T_a6aa5_row12_col2\" class=\"data row12 col2\" >40000</td>\n",
              "      <td id=\"T_a6aa5_row12_col3\" class=\"data row12 col3\" >40000.000000000000</td>\n",
              "    </tr>\n",
              "  </tbody>\n",
              "</table>\n"
            ]
          },
          "metadata": {},
          "execution_count": 76
        }
      ]
    },
    {
      "cell_type": "code",
      "source": [
        "sql = \"select deptname, lastname, salary, avg(salary) over (partition by deptname) from empl  inner join dept using(deptid)\"\n",
        "runSelect(sql)"
      ],
      "metadata": {
        "colab": {
          "base_uri": "https://localhost:8080/",
          "height": 425
        },
        "id": "JZC4y3tg2o8A",
        "outputId": "aa6ab236-0627-43f0-9f79-005c2db8f230"
      },
      "execution_count": null,
      "outputs": [
        {
          "output_type": "execute_result",
          "data": {
            "text/plain": [
              "<pandas.io.formats.style.Styler at 0x7bb7a7aaee50>"
            ],
            "text/html": [
              "<style type=\"text/css\">\n",
              "</style>\n",
              "<table id=\"T_007a2\" class=\"dataframe\">\n",
              "  <thead>\n",
              "    <tr>\n",
              "      <th id=\"T_007a2_level0_col0\" class=\"col_heading level0 col0\" >deptname</th>\n",
              "      <th id=\"T_007a2_level0_col1\" class=\"col_heading level0 col1\" >lastname</th>\n",
              "      <th id=\"T_007a2_level0_col2\" class=\"col_heading level0 col2\" >salary</th>\n",
              "      <th id=\"T_007a2_level0_col3\" class=\"col_heading level0 col3\" >avg</th>\n",
              "    </tr>\n",
              "  </thead>\n",
              "  <tbody>\n",
              "    <tr>\n",
              "      <td id=\"T_007a2_row0_col0\" class=\"data row0 col0\" >Accounts</td>\n",
              "      <td id=\"T_007a2_row0_col1\" class=\"data row0 col1\" >Dravid</td>\n",
              "      <td id=\"T_007a2_row0_col2\" class=\"data row0 col2\" >40000</td>\n",
              "      <td id=\"T_007a2_row0_col3\" class=\"data row0 col3\" >25666.666666666667</td>\n",
              "    </tr>\n",
              "    <tr>\n",
              "      <td id=\"T_007a2_row1_col0\" class=\"data row1 col0\" >Accounts</td>\n",
              "      <td id=\"T_007a2_row1_col1\" class=\"data row1 col1\" >Dalmia</td>\n",
              "      <td id=\"T_007a2_row1_col2\" class=\"data row1 col2\" >12000</td>\n",
              "      <td id=\"T_007a2_row1_col3\" class=\"data row1 col3\" >25666.666666666667</td>\n",
              "    </tr>\n",
              "    <tr>\n",
              "      <td id=\"T_007a2_row2_col0\" class=\"data row2 col0\" >Accounts</td>\n",
              "      <td id=\"T_007a2_row2_col1\" class=\"data row2 col1\" >Mirza</td>\n",
              "      <td id=\"T_007a2_row2_col2\" class=\"data row2 col2\" >25000</td>\n",
              "      <td id=\"T_007a2_row2_col3\" class=\"data row2 col3\" >25666.666666666667</td>\n",
              "    </tr>\n",
              "    <tr>\n",
              "      <td id=\"T_007a2_row3_col0\" class=\"data row3 col0\" >Corporate</td>\n",
              "      <td id=\"T_007a2_row3_col1\" class=\"data row3 col1\" >Karthikeyan</td>\n",
              "      <td id=\"T_007a2_row3_col2\" class=\"data row3 col2\" >40000</td>\n",
              "      <td id=\"T_007a2_row3_col3\" class=\"data row3 col3\" >50000.000000000000</td>\n",
              "    </tr>\n",
              "    <tr>\n",
              "      <td id=\"T_007a2_row4_col0\" class=\"data row4 col0\" >Corporate</td>\n",
              "      <td id=\"T_007a2_row4_col1\" class=\"data row4 col1\" >Ganesan</td>\n",
              "      <td id=\"T_007a2_row4_col2\" class=\"data row4 col2\" >60000</td>\n",
              "      <td id=\"T_007a2_row4_col3\" class=\"data row4 col3\" >50000.000000000000</td>\n",
              "    </tr>\n",
              "    <tr>\n",
              "      <td id=\"T_007a2_row5_col0\" class=\"data row5 col0\" >Corporate</td>\n",
              "      <td id=\"T_007a2_row5_col1\" class=\"data row5 col1\" >Bacchan</td>\n",
              "      <td id=\"T_007a2_row5_col2\" class=\"data row5 col2\" >50000</td>\n",
              "      <td id=\"T_007a2_row5_col3\" class=\"data row5 col3\" >50000.000000000000</td>\n",
              "    </tr>\n",
              "    <tr>\n",
              "      <td id=\"T_007a2_row6_col0\" class=\"data row6 col0\" >Production</td>\n",
              "      <td id=\"T_007a2_row6_col1\" class=\"data row6 col1\" >Ganguly</td>\n",
              "      <td id=\"T_007a2_row6_col2\" class=\"data row6 col2\" >20000</td>\n",
              "      <td id=\"T_007a2_row6_col3\" class=\"data row6 col3\" >18000.000000000000</td>\n",
              "    </tr>\n",
              "    <tr>\n",
              "      <td id=\"T_007a2_row7_col0\" class=\"data row7 col0\" >Production</td>\n",
              "      <td id=\"T_007a2_row7_col1\" class=\"data row7 col1\" >Dhoni</td>\n",
              "      <td id=\"T_007a2_row7_col2\" class=\"data row7 col2\" >9000</td>\n",
              "      <td id=\"T_007a2_row7_col3\" class=\"data row7 col3\" >18000.000000000000</td>\n",
              "    </tr>\n",
              "    <tr>\n",
              "      <td id=\"T_007a2_row8_col0\" class=\"data row8 col0\" >Production</td>\n",
              "      <td id=\"T_007a2_row8_col1\" class=\"data row8 col1\" >Mukherjee</td>\n",
              "      <td id=\"T_007a2_row8_col2\" class=\"data row8 col2\" >25000</td>\n",
              "      <td id=\"T_007a2_row8_col3\" class=\"data row8 col3\" >18000.000000000000</td>\n",
              "    </tr>\n",
              "    <tr>\n",
              "      <td id=\"T_007a2_row9_col0\" class=\"data row9 col0\" >Sales</td>\n",
              "      <td id=\"T_007a2_row9_col1\" class=\"data row9 col1\" >Dikshit</td>\n",
              "      <td id=\"T_007a2_row9_col2\" class=\"data row9 col2\" >10000</td>\n",
              "      <td id=\"T_007a2_row9_col3\" class=\"data row9 col3\" >18333.333333333333</td>\n",
              "    </tr>\n",
              "    <tr>\n",
              "      <td id=\"T_007a2_row10_col0\" class=\"data row10 col0\" >Sales</td>\n",
              "      <td id=\"T_007a2_row10_col1\" class=\"data row10 col1\" >Khan</td>\n",
              "      <td id=\"T_007a2_row10_col2\" class=\"data row10 col2\" >30000</td>\n",
              "      <td id=\"T_007a2_row10_col3\" class=\"data row10 col3\" >18333.333333333333</td>\n",
              "    </tr>\n",
              "    <tr>\n",
              "      <td id=\"T_007a2_row11_col0\" class=\"data row11 col0\" >Sales</td>\n",
              "      <td id=\"T_007a2_row11_col1\" class=\"data row11 col1\" >Sehwag</td>\n",
              "      <td id=\"T_007a2_row11_col2\" class=\"data row11 col2\" >15000</td>\n",
              "      <td id=\"T_007a2_row11_col3\" class=\"data row11 col3\" >18333.333333333333</td>\n",
              "    </tr>\n",
              "  </tbody>\n",
              "</table>\n"
            ]
          },
          "metadata": {},
          "execution_count": 77
        }
      ]
    },
    {
      "cell_type": "code",
      "source": [
        "sql = \"select deptname, lastname, salary, \\\n",
        "    row_number() over (partition by deptname order by salary) \\\n",
        "    from empl  inner join dept using(deptid)\"\n",
        "runSelect(sql)"
      ],
      "metadata": {
        "colab": {
          "base_uri": "https://localhost:8080/",
          "height": 425
        },
        "id": "xgP9VShE4Spl",
        "outputId": "38ff8d21-5376-4e8e-b848-960ac1511fca"
      },
      "execution_count": null,
      "outputs": [
        {
          "output_type": "execute_result",
          "data": {
            "text/plain": [
              "<pandas.io.formats.style.Styler at 0x7bb7a7aad410>"
            ],
            "text/html": [
              "<style type=\"text/css\">\n",
              "</style>\n",
              "<table id=\"T_5c2ad\" class=\"dataframe\">\n",
              "  <thead>\n",
              "    <tr>\n",
              "      <th id=\"T_5c2ad_level0_col0\" class=\"col_heading level0 col0\" >deptname</th>\n",
              "      <th id=\"T_5c2ad_level0_col1\" class=\"col_heading level0 col1\" >lastname</th>\n",
              "      <th id=\"T_5c2ad_level0_col2\" class=\"col_heading level0 col2\" >salary</th>\n",
              "      <th id=\"T_5c2ad_level0_col3\" class=\"col_heading level0 col3\" >row_number</th>\n",
              "    </tr>\n",
              "  </thead>\n",
              "  <tbody>\n",
              "    <tr>\n",
              "      <td id=\"T_5c2ad_row0_col0\" class=\"data row0 col0\" >Accounts</td>\n",
              "      <td id=\"T_5c2ad_row0_col1\" class=\"data row0 col1\" >Dalmia</td>\n",
              "      <td id=\"T_5c2ad_row0_col2\" class=\"data row0 col2\" >12000</td>\n",
              "      <td id=\"T_5c2ad_row0_col3\" class=\"data row0 col3\" >1</td>\n",
              "    </tr>\n",
              "    <tr>\n",
              "      <td id=\"T_5c2ad_row1_col0\" class=\"data row1 col0\" >Accounts</td>\n",
              "      <td id=\"T_5c2ad_row1_col1\" class=\"data row1 col1\" >Mirza</td>\n",
              "      <td id=\"T_5c2ad_row1_col2\" class=\"data row1 col2\" >25000</td>\n",
              "      <td id=\"T_5c2ad_row1_col3\" class=\"data row1 col3\" >2</td>\n",
              "    </tr>\n",
              "    <tr>\n",
              "      <td id=\"T_5c2ad_row2_col0\" class=\"data row2 col0\" >Accounts</td>\n",
              "      <td id=\"T_5c2ad_row2_col1\" class=\"data row2 col1\" >Dravid</td>\n",
              "      <td id=\"T_5c2ad_row2_col2\" class=\"data row2 col2\" >40000</td>\n",
              "      <td id=\"T_5c2ad_row2_col3\" class=\"data row2 col3\" >3</td>\n",
              "    </tr>\n",
              "    <tr>\n",
              "      <td id=\"T_5c2ad_row3_col0\" class=\"data row3 col0\" >Corporate</td>\n",
              "      <td id=\"T_5c2ad_row3_col1\" class=\"data row3 col1\" >Karthikeyan</td>\n",
              "      <td id=\"T_5c2ad_row3_col2\" class=\"data row3 col2\" >40000</td>\n",
              "      <td id=\"T_5c2ad_row3_col3\" class=\"data row3 col3\" >1</td>\n",
              "    </tr>\n",
              "    <tr>\n",
              "      <td id=\"T_5c2ad_row4_col0\" class=\"data row4 col0\" >Corporate</td>\n",
              "      <td id=\"T_5c2ad_row4_col1\" class=\"data row4 col1\" >Bacchan</td>\n",
              "      <td id=\"T_5c2ad_row4_col2\" class=\"data row4 col2\" >50000</td>\n",
              "      <td id=\"T_5c2ad_row4_col3\" class=\"data row4 col3\" >2</td>\n",
              "    </tr>\n",
              "    <tr>\n",
              "      <td id=\"T_5c2ad_row5_col0\" class=\"data row5 col0\" >Corporate</td>\n",
              "      <td id=\"T_5c2ad_row5_col1\" class=\"data row5 col1\" >Ganesan</td>\n",
              "      <td id=\"T_5c2ad_row5_col2\" class=\"data row5 col2\" >60000</td>\n",
              "      <td id=\"T_5c2ad_row5_col3\" class=\"data row5 col3\" >3</td>\n",
              "    </tr>\n",
              "    <tr>\n",
              "      <td id=\"T_5c2ad_row6_col0\" class=\"data row6 col0\" >Production</td>\n",
              "      <td id=\"T_5c2ad_row6_col1\" class=\"data row6 col1\" >Dhoni</td>\n",
              "      <td id=\"T_5c2ad_row6_col2\" class=\"data row6 col2\" >9000</td>\n",
              "      <td id=\"T_5c2ad_row6_col3\" class=\"data row6 col3\" >1</td>\n",
              "    </tr>\n",
              "    <tr>\n",
              "      <td id=\"T_5c2ad_row7_col0\" class=\"data row7 col0\" >Production</td>\n",
              "      <td id=\"T_5c2ad_row7_col1\" class=\"data row7 col1\" >Ganguly</td>\n",
              "      <td id=\"T_5c2ad_row7_col2\" class=\"data row7 col2\" >20000</td>\n",
              "      <td id=\"T_5c2ad_row7_col3\" class=\"data row7 col3\" >2</td>\n",
              "    </tr>\n",
              "    <tr>\n",
              "      <td id=\"T_5c2ad_row8_col0\" class=\"data row8 col0\" >Production</td>\n",
              "      <td id=\"T_5c2ad_row8_col1\" class=\"data row8 col1\" >Mukherjee</td>\n",
              "      <td id=\"T_5c2ad_row8_col2\" class=\"data row8 col2\" >25000</td>\n",
              "      <td id=\"T_5c2ad_row8_col3\" class=\"data row8 col3\" >3</td>\n",
              "    </tr>\n",
              "    <tr>\n",
              "      <td id=\"T_5c2ad_row9_col0\" class=\"data row9 col0\" >Sales</td>\n",
              "      <td id=\"T_5c2ad_row9_col1\" class=\"data row9 col1\" >Dikshit</td>\n",
              "      <td id=\"T_5c2ad_row9_col2\" class=\"data row9 col2\" >10000</td>\n",
              "      <td id=\"T_5c2ad_row9_col3\" class=\"data row9 col3\" >1</td>\n",
              "    </tr>\n",
              "    <tr>\n",
              "      <td id=\"T_5c2ad_row10_col0\" class=\"data row10 col0\" >Sales</td>\n",
              "      <td id=\"T_5c2ad_row10_col1\" class=\"data row10 col1\" >Sehwag</td>\n",
              "      <td id=\"T_5c2ad_row10_col2\" class=\"data row10 col2\" >15000</td>\n",
              "      <td id=\"T_5c2ad_row10_col3\" class=\"data row10 col3\" >2</td>\n",
              "    </tr>\n",
              "    <tr>\n",
              "      <td id=\"T_5c2ad_row11_col0\" class=\"data row11 col0\" >Sales</td>\n",
              "      <td id=\"T_5c2ad_row11_col1\" class=\"data row11 col1\" >Khan</td>\n",
              "      <td id=\"T_5c2ad_row11_col2\" class=\"data row11 col2\" >30000</td>\n",
              "      <td id=\"T_5c2ad_row11_col3\" class=\"data row11 col3\" >3</td>\n",
              "    </tr>\n",
              "  </tbody>\n",
              "</table>\n"
            ]
          },
          "metadata": {},
          "execution_count": 78
        }
      ]
    },
    {
      "cell_type": "code",
      "source": [
        "sql = \"select deptname, lastname, salary, \\\n",
        "        rank() over (partition by deptname order by salary desc) \\\n",
        "        from empl  inner join dept using(deptid)\"\n",
        "runSelect(sql)"
      ],
      "metadata": {
        "colab": {
          "base_uri": "https://localhost:8080/",
          "height": 425
        },
        "id": "rL_1sHBa4ply",
        "outputId": "52cf8817-3bdb-4d0a-da21-e4b5b89e2759"
      },
      "execution_count": null,
      "outputs": [
        {
          "output_type": "execute_result",
          "data": {
            "text/plain": [
              "<pandas.io.formats.style.Styler at 0x7bb7a7abba50>"
            ],
            "text/html": [
              "<style type=\"text/css\">\n",
              "</style>\n",
              "<table id=\"T_99ab1\" class=\"dataframe\">\n",
              "  <thead>\n",
              "    <tr>\n",
              "      <th id=\"T_99ab1_level0_col0\" class=\"col_heading level0 col0\" >deptname</th>\n",
              "      <th id=\"T_99ab1_level0_col1\" class=\"col_heading level0 col1\" >lastname</th>\n",
              "      <th id=\"T_99ab1_level0_col2\" class=\"col_heading level0 col2\" >salary</th>\n",
              "      <th id=\"T_99ab1_level0_col3\" class=\"col_heading level0 col3\" >rank</th>\n",
              "    </tr>\n",
              "  </thead>\n",
              "  <tbody>\n",
              "    <tr>\n",
              "      <td id=\"T_99ab1_row0_col0\" class=\"data row0 col0\" >Accounts</td>\n",
              "      <td id=\"T_99ab1_row0_col1\" class=\"data row0 col1\" >Dravid</td>\n",
              "      <td id=\"T_99ab1_row0_col2\" class=\"data row0 col2\" >40000</td>\n",
              "      <td id=\"T_99ab1_row0_col3\" class=\"data row0 col3\" >1</td>\n",
              "    </tr>\n",
              "    <tr>\n",
              "      <td id=\"T_99ab1_row1_col0\" class=\"data row1 col0\" >Accounts</td>\n",
              "      <td id=\"T_99ab1_row1_col1\" class=\"data row1 col1\" >Mirza</td>\n",
              "      <td id=\"T_99ab1_row1_col2\" class=\"data row1 col2\" >25000</td>\n",
              "      <td id=\"T_99ab1_row1_col3\" class=\"data row1 col3\" >2</td>\n",
              "    </tr>\n",
              "    <tr>\n",
              "      <td id=\"T_99ab1_row2_col0\" class=\"data row2 col0\" >Accounts</td>\n",
              "      <td id=\"T_99ab1_row2_col1\" class=\"data row2 col1\" >Dalmia</td>\n",
              "      <td id=\"T_99ab1_row2_col2\" class=\"data row2 col2\" >12000</td>\n",
              "      <td id=\"T_99ab1_row2_col3\" class=\"data row2 col3\" >3</td>\n",
              "    </tr>\n",
              "    <tr>\n",
              "      <td id=\"T_99ab1_row3_col0\" class=\"data row3 col0\" >Corporate</td>\n",
              "      <td id=\"T_99ab1_row3_col1\" class=\"data row3 col1\" >Ganesan</td>\n",
              "      <td id=\"T_99ab1_row3_col2\" class=\"data row3 col2\" >60000</td>\n",
              "      <td id=\"T_99ab1_row3_col3\" class=\"data row3 col3\" >1</td>\n",
              "    </tr>\n",
              "    <tr>\n",
              "      <td id=\"T_99ab1_row4_col0\" class=\"data row4 col0\" >Corporate</td>\n",
              "      <td id=\"T_99ab1_row4_col1\" class=\"data row4 col1\" >Bacchan</td>\n",
              "      <td id=\"T_99ab1_row4_col2\" class=\"data row4 col2\" >50000</td>\n",
              "      <td id=\"T_99ab1_row4_col3\" class=\"data row4 col3\" >2</td>\n",
              "    </tr>\n",
              "    <tr>\n",
              "      <td id=\"T_99ab1_row5_col0\" class=\"data row5 col0\" >Corporate</td>\n",
              "      <td id=\"T_99ab1_row5_col1\" class=\"data row5 col1\" >Karthikeyan</td>\n",
              "      <td id=\"T_99ab1_row5_col2\" class=\"data row5 col2\" >40000</td>\n",
              "      <td id=\"T_99ab1_row5_col3\" class=\"data row5 col3\" >3</td>\n",
              "    </tr>\n",
              "    <tr>\n",
              "      <td id=\"T_99ab1_row6_col0\" class=\"data row6 col0\" >Production</td>\n",
              "      <td id=\"T_99ab1_row6_col1\" class=\"data row6 col1\" >Mukherjee</td>\n",
              "      <td id=\"T_99ab1_row6_col2\" class=\"data row6 col2\" >25000</td>\n",
              "      <td id=\"T_99ab1_row6_col3\" class=\"data row6 col3\" >1</td>\n",
              "    </tr>\n",
              "    <tr>\n",
              "      <td id=\"T_99ab1_row7_col0\" class=\"data row7 col0\" >Production</td>\n",
              "      <td id=\"T_99ab1_row7_col1\" class=\"data row7 col1\" >Ganguly</td>\n",
              "      <td id=\"T_99ab1_row7_col2\" class=\"data row7 col2\" >20000</td>\n",
              "      <td id=\"T_99ab1_row7_col3\" class=\"data row7 col3\" >2</td>\n",
              "    </tr>\n",
              "    <tr>\n",
              "      <td id=\"T_99ab1_row8_col0\" class=\"data row8 col0\" >Production</td>\n",
              "      <td id=\"T_99ab1_row8_col1\" class=\"data row8 col1\" >Dhoni</td>\n",
              "      <td id=\"T_99ab1_row8_col2\" class=\"data row8 col2\" >9000</td>\n",
              "      <td id=\"T_99ab1_row8_col3\" class=\"data row8 col3\" >3</td>\n",
              "    </tr>\n",
              "    <tr>\n",
              "      <td id=\"T_99ab1_row9_col0\" class=\"data row9 col0\" >Sales</td>\n",
              "      <td id=\"T_99ab1_row9_col1\" class=\"data row9 col1\" >Khan</td>\n",
              "      <td id=\"T_99ab1_row9_col2\" class=\"data row9 col2\" >30000</td>\n",
              "      <td id=\"T_99ab1_row9_col3\" class=\"data row9 col3\" >1</td>\n",
              "    </tr>\n",
              "    <tr>\n",
              "      <td id=\"T_99ab1_row10_col0\" class=\"data row10 col0\" >Sales</td>\n",
              "      <td id=\"T_99ab1_row10_col1\" class=\"data row10 col1\" >Sehwag</td>\n",
              "      <td id=\"T_99ab1_row10_col2\" class=\"data row10 col2\" >15000</td>\n",
              "      <td id=\"T_99ab1_row10_col3\" class=\"data row10 col3\" >2</td>\n",
              "    </tr>\n",
              "    <tr>\n",
              "      <td id=\"T_99ab1_row11_col0\" class=\"data row11 col0\" >Sales</td>\n",
              "      <td id=\"T_99ab1_row11_col1\" class=\"data row11 col1\" >Dikshit</td>\n",
              "      <td id=\"T_99ab1_row11_col2\" class=\"data row11 col2\" >10000</td>\n",
              "      <td id=\"T_99ab1_row11_col3\" class=\"data row11 col3\" >3</td>\n",
              "    </tr>\n",
              "  </tbody>\n",
              "</table>\n"
            ]
          },
          "metadata": {},
          "execution_count": 79
        }
      ]
    },
    {
      "cell_type": "code",
      "source": [
        "sql = \"select deptname, lastname, salary, \\\n",
        "first_value(salary) over (partition by deptname order by salary) as deptlow, \\\n",
        "last_value(salary) over (partition by deptname order by salary RANGE BETWEEN UNBOUNDED PRECEDING AND UNBOUNDED FOLLOWING) as depthigh \\\n",
        "from empl  inner join dept using(deptid)\"\n",
        "runSelect(sql)"
      ],
      "metadata": {
        "colab": {
          "base_uri": "https://localhost:8080/",
          "height": 425
        },
        "id": "RO428SVT5T3d",
        "outputId": "32bbf3ef-ffc5-42f1-86b9-bdf2099564d1"
      },
      "execution_count": null,
      "outputs": [
        {
          "output_type": "execute_result",
          "data": {
            "text/plain": [
              "<pandas.io.formats.style.Styler at 0x7bb7a7a7f650>"
            ],
            "text/html": [
              "<style type=\"text/css\">\n",
              "</style>\n",
              "<table id=\"T_fbd63\" class=\"dataframe\">\n",
              "  <thead>\n",
              "    <tr>\n",
              "      <th id=\"T_fbd63_level0_col0\" class=\"col_heading level0 col0\" >deptname</th>\n",
              "      <th id=\"T_fbd63_level0_col1\" class=\"col_heading level0 col1\" >lastname</th>\n",
              "      <th id=\"T_fbd63_level0_col2\" class=\"col_heading level0 col2\" >salary</th>\n",
              "      <th id=\"T_fbd63_level0_col3\" class=\"col_heading level0 col3\" >deptlow</th>\n",
              "      <th id=\"T_fbd63_level0_col4\" class=\"col_heading level0 col4\" >depthigh</th>\n",
              "    </tr>\n",
              "  </thead>\n",
              "  <tbody>\n",
              "    <tr>\n",
              "      <td id=\"T_fbd63_row0_col0\" class=\"data row0 col0\" >Accounts</td>\n",
              "      <td id=\"T_fbd63_row0_col1\" class=\"data row0 col1\" >Dalmia</td>\n",
              "      <td id=\"T_fbd63_row0_col2\" class=\"data row0 col2\" >12000</td>\n",
              "      <td id=\"T_fbd63_row0_col3\" class=\"data row0 col3\" >12000</td>\n",
              "      <td id=\"T_fbd63_row0_col4\" class=\"data row0 col4\" >40000</td>\n",
              "    </tr>\n",
              "    <tr>\n",
              "      <td id=\"T_fbd63_row1_col0\" class=\"data row1 col0\" >Accounts</td>\n",
              "      <td id=\"T_fbd63_row1_col1\" class=\"data row1 col1\" >Mirza</td>\n",
              "      <td id=\"T_fbd63_row1_col2\" class=\"data row1 col2\" >25000</td>\n",
              "      <td id=\"T_fbd63_row1_col3\" class=\"data row1 col3\" >12000</td>\n",
              "      <td id=\"T_fbd63_row1_col4\" class=\"data row1 col4\" >40000</td>\n",
              "    </tr>\n",
              "    <tr>\n",
              "      <td id=\"T_fbd63_row2_col0\" class=\"data row2 col0\" >Accounts</td>\n",
              "      <td id=\"T_fbd63_row2_col1\" class=\"data row2 col1\" >Dravid</td>\n",
              "      <td id=\"T_fbd63_row2_col2\" class=\"data row2 col2\" >40000</td>\n",
              "      <td id=\"T_fbd63_row2_col3\" class=\"data row2 col3\" >12000</td>\n",
              "      <td id=\"T_fbd63_row2_col4\" class=\"data row2 col4\" >40000</td>\n",
              "    </tr>\n",
              "    <tr>\n",
              "      <td id=\"T_fbd63_row3_col0\" class=\"data row3 col0\" >Corporate</td>\n",
              "      <td id=\"T_fbd63_row3_col1\" class=\"data row3 col1\" >Karthikeyan</td>\n",
              "      <td id=\"T_fbd63_row3_col2\" class=\"data row3 col2\" >40000</td>\n",
              "      <td id=\"T_fbd63_row3_col3\" class=\"data row3 col3\" >40000</td>\n",
              "      <td id=\"T_fbd63_row3_col4\" class=\"data row3 col4\" >60000</td>\n",
              "    </tr>\n",
              "    <tr>\n",
              "      <td id=\"T_fbd63_row4_col0\" class=\"data row4 col0\" >Corporate</td>\n",
              "      <td id=\"T_fbd63_row4_col1\" class=\"data row4 col1\" >Bacchan</td>\n",
              "      <td id=\"T_fbd63_row4_col2\" class=\"data row4 col2\" >50000</td>\n",
              "      <td id=\"T_fbd63_row4_col3\" class=\"data row4 col3\" >40000</td>\n",
              "      <td id=\"T_fbd63_row4_col4\" class=\"data row4 col4\" >60000</td>\n",
              "    </tr>\n",
              "    <tr>\n",
              "      <td id=\"T_fbd63_row5_col0\" class=\"data row5 col0\" >Corporate</td>\n",
              "      <td id=\"T_fbd63_row5_col1\" class=\"data row5 col1\" >Ganesan</td>\n",
              "      <td id=\"T_fbd63_row5_col2\" class=\"data row5 col2\" >60000</td>\n",
              "      <td id=\"T_fbd63_row5_col3\" class=\"data row5 col3\" >40000</td>\n",
              "      <td id=\"T_fbd63_row5_col4\" class=\"data row5 col4\" >60000</td>\n",
              "    </tr>\n",
              "    <tr>\n",
              "      <td id=\"T_fbd63_row6_col0\" class=\"data row6 col0\" >Production</td>\n",
              "      <td id=\"T_fbd63_row6_col1\" class=\"data row6 col1\" >Dhoni</td>\n",
              "      <td id=\"T_fbd63_row6_col2\" class=\"data row6 col2\" >9000</td>\n",
              "      <td id=\"T_fbd63_row6_col3\" class=\"data row6 col3\" >9000</td>\n",
              "      <td id=\"T_fbd63_row6_col4\" class=\"data row6 col4\" >25000</td>\n",
              "    </tr>\n",
              "    <tr>\n",
              "      <td id=\"T_fbd63_row7_col0\" class=\"data row7 col0\" >Production</td>\n",
              "      <td id=\"T_fbd63_row7_col1\" class=\"data row7 col1\" >Ganguly</td>\n",
              "      <td id=\"T_fbd63_row7_col2\" class=\"data row7 col2\" >20000</td>\n",
              "      <td id=\"T_fbd63_row7_col3\" class=\"data row7 col3\" >9000</td>\n",
              "      <td id=\"T_fbd63_row7_col4\" class=\"data row7 col4\" >25000</td>\n",
              "    </tr>\n",
              "    <tr>\n",
              "      <td id=\"T_fbd63_row8_col0\" class=\"data row8 col0\" >Production</td>\n",
              "      <td id=\"T_fbd63_row8_col1\" class=\"data row8 col1\" >Mukherjee</td>\n",
              "      <td id=\"T_fbd63_row8_col2\" class=\"data row8 col2\" >25000</td>\n",
              "      <td id=\"T_fbd63_row8_col3\" class=\"data row8 col3\" >9000</td>\n",
              "      <td id=\"T_fbd63_row8_col4\" class=\"data row8 col4\" >25000</td>\n",
              "    </tr>\n",
              "    <tr>\n",
              "      <td id=\"T_fbd63_row9_col0\" class=\"data row9 col0\" >Sales</td>\n",
              "      <td id=\"T_fbd63_row9_col1\" class=\"data row9 col1\" >Dikshit</td>\n",
              "      <td id=\"T_fbd63_row9_col2\" class=\"data row9 col2\" >10000</td>\n",
              "      <td id=\"T_fbd63_row9_col3\" class=\"data row9 col3\" >10000</td>\n",
              "      <td id=\"T_fbd63_row9_col4\" class=\"data row9 col4\" >30000</td>\n",
              "    </tr>\n",
              "    <tr>\n",
              "      <td id=\"T_fbd63_row10_col0\" class=\"data row10 col0\" >Sales</td>\n",
              "      <td id=\"T_fbd63_row10_col1\" class=\"data row10 col1\" >Sehwag</td>\n",
              "      <td id=\"T_fbd63_row10_col2\" class=\"data row10 col2\" >15000</td>\n",
              "      <td id=\"T_fbd63_row10_col3\" class=\"data row10 col3\" >10000</td>\n",
              "      <td id=\"T_fbd63_row10_col4\" class=\"data row10 col4\" >30000</td>\n",
              "    </tr>\n",
              "    <tr>\n",
              "      <td id=\"T_fbd63_row11_col0\" class=\"data row11 col0\" >Sales</td>\n",
              "      <td id=\"T_fbd63_row11_col1\" class=\"data row11 col1\" >Khan</td>\n",
              "      <td id=\"T_fbd63_row11_col2\" class=\"data row11 col2\" >30000</td>\n",
              "      <td id=\"T_fbd63_row11_col3\" class=\"data row11 col3\" >10000</td>\n",
              "      <td id=\"T_fbd63_row11_col4\" class=\"data row11 col4\" >30000</td>\n",
              "    </tr>\n",
              "  </tbody>\n",
              "</table>\n"
            ]
          },
          "metadata": {},
          "execution_count": 80
        }
      ]
    },
    {
      "cell_type": "code",
      "source": [
        "sql = \"select deptname, lastname, salary, \\\n",
        "lag(salary,1) over (partition by deptname order by salary) as prev_emp, \\\n",
        "salary - lag(salary,1) over (partition by deptname order by salary) as gap_up \\\n",
        "from empl  inner join dept using(deptid)\"\n",
        "runSelect(sql)"
      ],
      "metadata": {
        "colab": {
          "base_uri": "https://localhost:8080/",
          "height": 425
        },
        "id": "fnG4S0lF8h77",
        "outputId": "785fa800-16b7-4c3f-e70c-c24364ab2e96"
      },
      "execution_count": null,
      "outputs": [
        {
          "output_type": "execute_result",
          "data": {
            "text/plain": [
              "<pandas.io.formats.style.Styler at 0x7bb7a7abbb10>"
            ],
            "text/html": [
              "<style type=\"text/css\">\n",
              "</style>\n",
              "<table id=\"T_05f15\" class=\"dataframe\">\n",
              "  <thead>\n",
              "    <tr>\n",
              "      <th id=\"T_05f15_level0_col0\" class=\"col_heading level0 col0\" >deptname</th>\n",
              "      <th id=\"T_05f15_level0_col1\" class=\"col_heading level0 col1\" >lastname</th>\n",
              "      <th id=\"T_05f15_level0_col2\" class=\"col_heading level0 col2\" >salary</th>\n",
              "      <th id=\"T_05f15_level0_col3\" class=\"col_heading level0 col3\" >prev_emp</th>\n",
              "      <th id=\"T_05f15_level0_col4\" class=\"col_heading level0 col4\" >gap_up</th>\n",
              "    </tr>\n",
              "  </thead>\n",
              "  <tbody>\n",
              "    <tr>\n",
              "      <td id=\"T_05f15_row0_col0\" class=\"data row0 col0\" >Accounts</td>\n",
              "      <td id=\"T_05f15_row0_col1\" class=\"data row0 col1\" >Dalmia</td>\n",
              "      <td id=\"T_05f15_row0_col2\" class=\"data row0 col2\" >12000</td>\n",
              "      <td id=\"T_05f15_row0_col3\" class=\"data row0 col3\" >nan</td>\n",
              "      <td id=\"T_05f15_row0_col4\" class=\"data row0 col4\" >nan</td>\n",
              "    </tr>\n",
              "    <tr>\n",
              "      <td id=\"T_05f15_row1_col0\" class=\"data row1 col0\" >Accounts</td>\n",
              "      <td id=\"T_05f15_row1_col1\" class=\"data row1 col1\" >Mirza</td>\n",
              "      <td id=\"T_05f15_row1_col2\" class=\"data row1 col2\" >25000</td>\n",
              "      <td id=\"T_05f15_row1_col3\" class=\"data row1 col3\" >12000.000000</td>\n",
              "      <td id=\"T_05f15_row1_col4\" class=\"data row1 col4\" >13000.000000</td>\n",
              "    </tr>\n",
              "    <tr>\n",
              "      <td id=\"T_05f15_row2_col0\" class=\"data row2 col0\" >Accounts</td>\n",
              "      <td id=\"T_05f15_row2_col1\" class=\"data row2 col1\" >Dravid</td>\n",
              "      <td id=\"T_05f15_row2_col2\" class=\"data row2 col2\" >40000</td>\n",
              "      <td id=\"T_05f15_row2_col3\" class=\"data row2 col3\" >25000.000000</td>\n",
              "      <td id=\"T_05f15_row2_col4\" class=\"data row2 col4\" >15000.000000</td>\n",
              "    </tr>\n",
              "    <tr>\n",
              "      <td id=\"T_05f15_row3_col0\" class=\"data row3 col0\" >Corporate</td>\n",
              "      <td id=\"T_05f15_row3_col1\" class=\"data row3 col1\" >Karthikeyan</td>\n",
              "      <td id=\"T_05f15_row3_col2\" class=\"data row3 col2\" >40000</td>\n",
              "      <td id=\"T_05f15_row3_col3\" class=\"data row3 col3\" >nan</td>\n",
              "      <td id=\"T_05f15_row3_col4\" class=\"data row3 col4\" >nan</td>\n",
              "    </tr>\n",
              "    <tr>\n",
              "      <td id=\"T_05f15_row4_col0\" class=\"data row4 col0\" >Corporate</td>\n",
              "      <td id=\"T_05f15_row4_col1\" class=\"data row4 col1\" >Bacchan</td>\n",
              "      <td id=\"T_05f15_row4_col2\" class=\"data row4 col2\" >50000</td>\n",
              "      <td id=\"T_05f15_row4_col3\" class=\"data row4 col3\" >40000.000000</td>\n",
              "      <td id=\"T_05f15_row4_col4\" class=\"data row4 col4\" >10000.000000</td>\n",
              "    </tr>\n",
              "    <tr>\n",
              "      <td id=\"T_05f15_row5_col0\" class=\"data row5 col0\" >Corporate</td>\n",
              "      <td id=\"T_05f15_row5_col1\" class=\"data row5 col1\" >Ganesan</td>\n",
              "      <td id=\"T_05f15_row5_col2\" class=\"data row5 col2\" >60000</td>\n",
              "      <td id=\"T_05f15_row5_col3\" class=\"data row5 col3\" >50000.000000</td>\n",
              "      <td id=\"T_05f15_row5_col4\" class=\"data row5 col4\" >10000.000000</td>\n",
              "    </tr>\n",
              "    <tr>\n",
              "      <td id=\"T_05f15_row6_col0\" class=\"data row6 col0\" >Production</td>\n",
              "      <td id=\"T_05f15_row6_col1\" class=\"data row6 col1\" >Dhoni</td>\n",
              "      <td id=\"T_05f15_row6_col2\" class=\"data row6 col2\" >9000</td>\n",
              "      <td id=\"T_05f15_row6_col3\" class=\"data row6 col3\" >nan</td>\n",
              "      <td id=\"T_05f15_row6_col4\" class=\"data row6 col4\" >nan</td>\n",
              "    </tr>\n",
              "    <tr>\n",
              "      <td id=\"T_05f15_row7_col0\" class=\"data row7 col0\" >Production</td>\n",
              "      <td id=\"T_05f15_row7_col1\" class=\"data row7 col1\" >Ganguly</td>\n",
              "      <td id=\"T_05f15_row7_col2\" class=\"data row7 col2\" >20000</td>\n",
              "      <td id=\"T_05f15_row7_col3\" class=\"data row7 col3\" >9000.000000</td>\n",
              "      <td id=\"T_05f15_row7_col4\" class=\"data row7 col4\" >11000.000000</td>\n",
              "    </tr>\n",
              "    <tr>\n",
              "      <td id=\"T_05f15_row8_col0\" class=\"data row8 col0\" >Production</td>\n",
              "      <td id=\"T_05f15_row8_col1\" class=\"data row8 col1\" >Mukherjee</td>\n",
              "      <td id=\"T_05f15_row8_col2\" class=\"data row8 col2\" >25000</td>\n",
              "      <td id=\"T_05f15_row8_col3\" class=\"data row8 col3\" >20000.000000</td>\n",
              "      <td id=\"T_05f15_row8_col4\" class=\"data row8 col4\" >5000.000000</td>\n",
              "    </tr>\n",
              "    <tr>\n",
              "      <td id=\"T_05f15_row9_col0\" class=\"data row9 col0\" >Sales</td>\n",
              "      <td id=\"T_05f15_row9_col1\" class=\"data row9 col1\" >Dikshit</td>\n",
              "      <td id=\"T_05f15_row9_col2\" class=\"data row9 col2\" >10000</td>\n",
              "      <td id=\"T_05f15_row9_col3\" class=\"data row9 col3\" >nan</td>\n",
              "      <td id=\"T_05f15_row9_col4\" class=\"data row9 col4\" >nan</td>\n",
              "    </tr>\n",
              "    <tr>\n",
              "      <td id=\"T_05f15_row10_col0\" class=\"data row10 col0\" >Sales</td>\n",
              "      <td id=\"T_05f15_row10_col1\" class=\"data row10 col1\" >Sehwag</td>\n",
              "      <td id=\"T_05f15_row10_col2\" class=\"data row10 col2\" >15000</td>\n",
              "      <td id=\"T_05f15_row10_col3\" class=\"data row10 col3\" >10000.000000</td>\n",
              "      <td id=\"T_05f15_row10_col4\" class=\"data row10 col4\" >5000.000000</td>\n",
              "    </tr>\n",
              "    <tr>\n",
              "      <td id=\"T_05f15_row11_col0\" class=\"data row11 col0\" >Sales</td>\n",
              "      <td id=\"T_05f15_row11_col1\" class=\"data row11 col1\" >Khan</td>\n",
              "      <td id=\"T_05f15_row11_col2\" class=\"data row11 col2\" >30000</td>\n",
              "      <td id=\"T_05f15_row11_col3\" class=\"data row11 col3\" >15000.000000</td>\n",
              "      <td id=\"T_05f15_row11_col4\" class=\"data row11 col4\" >15000.000000</td>\n",
              "    </tr>\n",
              "  </tbody>\n",
              "</table>\n"
            ]
          },
          "metadata": {},
          "execution_count": 81
        }
      ]
    },
    {
      "cell_type": "markdown",
      "source": [
        "#Transpose / Pivot\n",
        "https://www.sqlshack.com/how-to-use-the-crosstab-function-in-postgresql/"
      ],
      "metadata": {
        "id": "V6Bt-yTXSITF"
      }
    },
    {
      "cell_type": "code",
      "source": [
        "!psql -h localhost -p 5432 -Uupraxis -ddbpraxis -c \"create extension tablefunc;\""
      ],
      "metadata": {
        "colab": {
          "base_uri": "https://localhost:8080/"
        },
        "id": "ZgVgr1DfYs_R",
        "outputId": "d423a01d-4542-49de-e263-64859404c50b"
      },
      "execution_count": null,
      "outputs": [
        {
          "output_type": "stream",
          "name": "stdout",
          "text": [
            "CREATE EXTENSION\n"
          ]
        }
      ]
    },
    {
      "cell_type": "code",
      "source": [
        "runSelect('select * from dept')"
      ],
      "metadata": {
        "colab": {
          "base_uri": "https://localhost:8080/",
          "height": 206
        },
        "id": "Sa9IpGXwSKWe",
        "outputId": "970ab84f-594e-41ab-c57b-d8dfa490d924"
      },
      "execution_count": null,
      "outputs": [
        {
          "output_type": "execute_result",
          "data": {
            "text/plain": [
              "<pandas.io.formats.style.Styler at 0x7bb7a7e00f90>"
            ],
            "text/html": [
              "<style type=\"text/css\">\n",
              "</style>\n",
              "<table id=\"T_80cdf\" class=\"dataframe\">\n",
              "  <thead>\n",
              "    <tr>\n",
              "      <th id=\"T_80cdf_level0_col0\" class=\"col_heading level0 col0\" >deptid</th>\n",
              "      <th id=\"T_80cdf_level0_col1\" class=\"col_heading level0 col1\" >deptname</th>\n",
              "      <th id=\"T_80cdf_level0_col2\" class=\"col_heading level0 col2\" >managerid</th>\n",
              "      <th id=\"T_80cdf_level0_col3\" class=\"col_heading level0 col3\" >location</th>\n",
              "      <th id=\"T_80cdf_level0_col4\" class=\"col_heading level0 col4\" >locationid</th>\n",
              "    </tr>\n",
              "  </thead>\n",
              "  <tbody>\n",
              "    <tr>\n",
              "      <td id=\"T_80cdf_row0_col0\" class=\"data row0 col0\" >10</td>\n",
              "      <td id=\"T_80cdf_row0_col1\" class=\"data row0 col1\" >Corporate</td>\n",
              "      <td id=\"T_80cdf_row0_col2\" class=\"data row0 col2\" >299034</td>\n",
              "      <td id=\"T_80cdf_row0_col3\" class=\"data row0 col3\" >Calcutta</td>\n",
              "      <td id=\"T_80cdf_row0_col4\" class=\"data row0 col4\" >1</td>\n",
              "    </tr>\n",
              "    <tr>\n",
              "      <td id=\"T_80cdf_row1_col0\" class=\"data row1 col0\" >20</td>\n",
              "      <td id=\"T_80cdf_row1_col1\" class=\"data row1 col1\" >Sales</td>\n",
              "      <td id=\"T_80cdf_row1_col2\" class=\"data row1 col2\" >239456</td>\n",
              "      <td id=\"T_80cdf_row1_col3\" class=\"data row1 col3\" >Calcutta</td>\n",
              "      <td id=\"T_80cdf_row1_col4\" class=\"data row1 col4\" >1</td>\n",
              "    </tr>\n",
              "    <tr>\n",
              "      <td id=\"T_80cdf_row2_col0\" class=\"data row2 col0\" >30</td>\n",
              "      <td id=\"T_80cdf_row2_col1\" class=\"data row2 col1\" >Accounts</td>\n",
              "      <td id=\"T_80cdf_row2_col2\" class=\"data row2 col2\" >822134</td>\n",
              "      <td id=\"T_80cdf_row2_col3\" class=\"data row2 col3\" >Calcutta</td>\n",
              "      <td id=\"T_80cdf_row2_col4\" class=\"data row2 col4\" >1</td>\n",
              "    </tr>\n",
              "    <tr>\n",
              "      <td id=\"T_80cdf_row3_col0\" class=\"data row3 col0\" >40</td>\n",
              "      <td id=\"T_80cdf_row3_col1\" class=\"data row3 col1\" >Production</td>\n",
              "      <td id=\"T_80cdf_row3_col2\" class=\"data row3 col2\" >349870</td>\n",
              "      <td id=\"T_80cdf_row3_col3\" class=\"data row3 col3\" >Bombay</td>\n",
              "      <td id=\"T_80cdf_row3_col4\" class=\"data row3 col4\" >2</td>\n",
              "    </tr>\n",
              "    <tr>\n",
              "      <td id=\"T_80cdf_row4_col0\" class=\"data row4 col0\" >60</td>\n",
              "      <td id=\"T_80cdf_row4_col1\" class=\"data row4 col1\" >Research</td>\n",
              "      <td id=\"T_80cdf_row4_col2\" class=\"data row4 col2\" >546224</td>\n",
              "      <td id=\"T_80cdf_row4_col3\" class=\"data row4 col3\" >Delhi</td>\n",
              "      <td id=\"T_80cdf_row4_col4\" class=\"data row4 col4\" >3</td>\n",
              "    </tr>\n",
              "  </tbody>\n",
              "</table>\n"
            ]
          },
          "metadata": {},
          "execution_count": 83
        }
      ]
    },
    {
      "cell_type": "code",
      "source": [
        "sql = \"\\\n",
        "select * from \\\n",
        "crosstab('select location::text,locationid::text,deptname::text from dept order by 1,2') as locations \\\n",
        "(location text, dep1 text, dep2 text, dep3 text, dep4 text)\\\n",
        "\"\n",
        "runSelect(sql)"
      ],
      "metadata": {
        "colab": {
          "base_uri": "https://localhost:8080/",
          "height": 143
        },
        "id": "Iukqh6TRVo-9",
        "outputId": "1c179410-a92c-4ee0-ea77-d93431c52ba1"
      },
      "execution_count": null,
      "outputs": [
        {
          "output_type": "execute_result",
          "data": {
            "text/plain": [
              "<pandas.io.formats.style.Styler at 0x7bb7a7c06f50>"
            ],
            "text/html": [
              "<style type=\"text/css\">\n",
              "</style>\n",
              "<table id=\"T_b70dc\" class=\"dataframe\">\n",
              "  <thead>\n",
              "    <tr>\n",
              "      <th id=\"T_b70dc_level0_col0\" class=\"col_heading level0 col0\" >location</th>\n",
              "      <th id=\"T_b70dc_level0_col1\" class=\"col_heading level0 col1\" >dep1</th>\n",
              "      <th id=\"T_b70dc_level0_col2\" class=\"col_heading level0 col2\" >dep2</th>\n",
              "      <th id=\"T_b70dc_level0_col3\" class=\"col_heading level0 col3\" >dep3</th>\n",
              "      <th id=\"T_b70dc_level0_col4\" class=\"col_heading level0 col4\" >dep4</th>\n",
              "    </tr>\n",
              "  </thead>\n",
              "  <tbody>\n",
              "    <tr>\n",
              "      <td id=\"T_b70dc_row0_col0\" class=\"data row0 col0\" >Bombay</td>\n",
              "      <td id=\"T_b70dc_row0_col1\" class=\"data row0 col1\" >Production</td>\n",
              "      <td id=\"T_b70dc_row0_col2\" class=\"data row0 col2\" >None</td>\n",
              "      <td id=\"T_b70dc_row0_col3\" class=\"data row0 col3\" >None</td>\n",
              "      <td id=\"T_b70dc_row0_col4\" class=\"data row0 col4\" >None</td>\n",
              "    </tr>\n",
              "    <tr>\n",
              "      <td id=\"T_b70dc_row1_col0\" class=\"data row1 col0\" >Calcutta</td>\n",
              "      <td id=\"T_b70dc_row1_col1\" class=\"data row1 col1\" >Corporate</td>\n",
              "      <td id=\"T_b70dc_row1_col2\" class=\"data row1 col2\" >Sales</td>\n",
              "      <td id=\"T_b70dc_row1_col3\" class=\"data row1 col3\" >Accounts</td>\n",
              "      <td id=\"T_b70dc_row1_col4\" class=\"data row1 col4\" >None</td>\n",
              "    </tr>\n",
              "    <tr>\n",
              "      <td id=\"T_b70dc_row2_col0\" class=\"data row2 col0\" >Delhi</td>\n",
              "      <td id=\"T_b70dc_row2_col1\" class=\"data row2 col1\" >Research</td>\n",
              "      <td id=\"T_b70dc_row2_col2\" class=\"data row2 col2\" >None</td>\n",
              "      <td id=\"T_b70dc_row2_col3\" class=\"data row2 col3\" >None</td>\n",
              "      <td id=\"T_b70dc_row2_col4\" class=\"data row2 col4\" >None</td>\n",
              "    </tr>\n",
              "  </tbody>\n",
              "</table>\n"
            ]
          },
          "metadata": {},
          "execution_count": 84
        }
      ]
    },
    {
      "cell_type": "markdown",
      "source": [
        "# Insert | Delete | Update"
      ],
      "metadata": {
        "id": "REcqZ7K0DYqi"
      }
    },
    {
      "cell_type": "code",
      "source": [
        "runSelect(\"select * from dept\")"
      ],
      "metadata": {
        "id": "xGgCH9vGDlsI",
        "outputId": "31f8d211-f6ef-49ec-cf7d-4cc627c48d01",
        "colab": {
          "base_uri": "https://localhost:8080/",
          "height": 206
        }
      },
      "execution_count": null,
      "outputs": [
        {
          "output_type": "execute_result",
          "data": {
            "text/plain": [
              "<pandas.io.formats.style.Styler at 0x7bb7a7abb450>"
            ],
            "text/html": [
              "<style type=\"text/css\">\n",
              "</style>\n",
              "<table id=\"T_1c412\" class=\"dataframe\">\n",
              "  <thead>\n",
              "    <tr>\n",
              "      <th id=\"T_1c412_level0_col0\" class=\"col_heading level0 col0\" >deptid</th>\n",
              "      <th id=\"T_1c412_level0_col1\" class=\"col_heading level0 col1\" >deptname</th>\n",
              "      <th id=\"T_1c412_level0_col2\" class=\"col_heading level0 col2\" >managerid</th>\n",
              "      <th id=\"T_1c412_level0_col3\" class=\"col_heading level0 col3\" >location</th>\n",
              "      <th id=\"T_1c412_level0_col4\" class=\"col_heading level0 col4\" >locationid</th>\n",
              "    </tr>\n",
              "  </thead>\n",
              "  <tbody>\n",
              "    <tr>\n",
              "      <td id=\"T_1c412_row0_col0\" class=\"data row0 col0\" >10</td>\n",
              "      <td id=\"T_1c412_row0_col1\" class=\"data row0 col1\" >Corporate</td>\n",
              "      <td id=\"T_1c412_row0_col2\" class=\"data row0 col2\" >299034</td>\n",
              "      <td id=\"T_1c412_row0_col3\" class=\"data row0 col3\" >Calcutta</td>\n",
              "      <td id=\"T_1c412_row0_col4\" class=\"data row0 col4\" >1</td>\n",
              "    </tr>\n",
              "    <tr>\n",
              "      <td id=\"T_1c412_row1_col0\" class=\"data row1 col0\" >20</td>\n",
              "      <td id=\"T_1c412_row1_col1\" class=\"data row1 col1\" >Sales</td>\n",
              "      <td id=\"T_1c412_row1_col2\" class=\"data row1 col2\" >239456</td>\n",
              "      <td id=\"T_1c412_row1_col3\" class=\"data row1 col3\" >Calcutta</td>\n",
              "      <td id=\"T_1c412_row1_col4\" class=\"data row1 col4\" >1</td>\n",
              "    </tr>\n",
              "    <tr>\n",
              "      <td id=\"T_1c412_row2_col0\" class=\"data row2 col0\" >30</td>\n",
              "      <td id=\"T_1c412_row2_col1\" class=\"data row2 col1\" >Accounts</td>\n",
              "      <td id=\"T_1c412_row2_col2\" class=\"data row2 col2\" >822134</td>\n",
              "      <td id=\"T_1c412_row2_col3\" class=\"data row2 col3\" >Calcutta</td>\n",
              "      <td id=\"T_1c412_row2_col4\" class=\"data row2 col4\" >1</td>\n",
              "    </tr>\n",
              "    <tr>\n",
              "      <td id=\"T_1c412_row3_col0\" class=\"data row3 col0\" >40</td>\n",
              "      <td id=\"T_1c412_row3_col1\" class=\"data row3 col1\" >Production</td>\n",
              "      <td id=\"T_1c412_row3_col2\" class=\"data row3 col2\" >349870</td>\n",
              "      <td id=\"T_1c412_row3_col3\" class=\"data row3 col3\" >Bombay</td>\n",
              "      <td id=\"T_1c412_row3_col4\" class=\"data row3 col4\" >2</td>\n",
              "    </tr>\n",
              "    <tr>\n",
              "      <td id=\"T_1c412_row4_col0\" class=\"data row4 col0\" >60</td>\n",
              "      <td id=\"T_1c412_row4_col1\" class=\"data row4 col1\" >Research</td>\n",
              "      <td id=\"T_1c412_row4_col2\" class=\"data row4 col2\" >546224</td>\n",
              "      <td id=\"T_1c412_row4_col3\" class=\"data row4 col3\" >Delhi</td>\n",
              "      <td id=\"T_1c412_row4_col4\" class=\"data row4 col4\" >3</td>\n",
              "    </tr>\n",
              "  </tbody>\n",
              "</table>\n"
            ]
          },
          "metadata": {},
          "execution_count": 85
        }
      ]
    },
    {
      "cell_type": "code",
      "source": [
        "runCmd(\"insert into Dept (DeptID, DeptName, ManagerID, Location,LocationID) VALUES \\\n",
        "\t('12', 'Corporate2', '29903A', 'Calcutta','1'), \\\n",
        "\t('13', 'Corporate2', '29903A', 'Calcutta','1'), \\\n",
        "\t('14', 'Corporate2', '29903A', 'Calcutta','1') \\\n",
        "\t\")\n",
        "runSelect(\"select * from dept\")"
      ],
      "metadata": {
        "id": "iyW0EobdDuMY",
        "outputId": "56c04b55-a115-49d5-d75d-ced9f6c7f951",
        "colab": {
          "base_uri": "https://localhost:8080/",
          "height": 317
        }
      },
      "execution_count": null,
      "outputs": [
        {
          "output_type": "stream",
          "name": "stdout",
          "text": [
            "Command executed\n"
          ]
        },
        {
          "output_type": "execute_result",
          "data": {
            "text/plain": [
              "<pandas.io.formats.style.Styler at 0x7bb7a7ad0790>"
            ],
            "text/html": [
              "<style type=\"text/css\">\n",
              "</style>\n",
              "<table id=\"T_76a98\" class=\"dataframe\">\n",
              "  <thead>\n",
              "    <tr>\n",
              "      <th id=\"T_76a98_level0_col0\" class=\"col_heading level0 col0\" >deptid</th>\n",
              "      <th id=\"T_76a98_level0_col1\" class=\"col_heading level0 col1\" >deptname</th>\n",
              "      <th id=\"T_76a98_level0_col2\" class=\"col_heading level0 col2\" >managerid</th>\n",
              "      <th id=\"T_76a98_level0_col3\" class=\"col_heading level0 col3\" >location</th>\n",
              "      <th id=\"T_76a98_level0_col4\" class=\"col_heading level0 col4\" >locationid</th>\n",
              "    </tr>\n",
              "  </thead>\n",
              "  <tbody>\n",
              "    <tr>\n",
              "      <td id=\"T_76a98_row0_col0\" class=\"data row0 col0\" >10</td>\n",
              "      <td id=\"T_76a98_row0_col1\" class=\"data row0 col1\" >Corporate</td>\n",
              "      <td id=\"T_76a98_row0_col2\" class=\"data row0 col2\" >299034</td>\n",
              "      <td id=\"T_76a98_row0_col3\" class=\"data row0 col3\" >Calcutta</td>\n",
              "      <td id=\"T_76a98_row0_col4\" class=\"data row0 col4\" >1</td>\n",
              "    </tr>\n",
              "    <tr>\n",
              "      <td id=\"T_76a98_row1_col0\" class=\"data row1 col0\" >20</td>\n",
              "      <td id=\"T_76a98_row1_col1\" class=\"data row1 col1\" >Sales</td>\n",
              "      <td id=\"T_76a98_row1_col2\" class=\"data row1 col2\" >239456</td>\n",
              "      <td id=\"T_76a98_row1_col3\" class=\"data row1 col3\" >Calcutta</td>\n",
              "      <td id=\"T_76a98_row1_col4\" class=\"data row1 col4\" >1</td>\n",
              "    </tr>\n",
              "    <tr>\n",
              "      <td id=\"T_76a98_row2_col0\" class=\"data row2 col0\" >30</td>\n",
              "      <td id=\"T_76a98_row2_col1\" class=\"data row2 col1\" >Accounts</td>\n",
              "      <td id=\"T_76a98_row2_col2\" class=\"data row2 col2\" >822134</td>\n",
              "      <td id=\"T_76a98_row2_col3\" class=\"data row2 col3\" >Calcutta</td>\n",
              "      <td id=\"T_76a98_row2_col4\" class=\"data row2 col4\" >1</td>\n",
              "    </tr>\n",
              "    <tr>\n",
              "      <td id=\"T_76a98_row3_col0\" class=\"data row3 col0\" >40</td>\n",
              "      <td id=\"T_76a98_row3_col1\" class=\"data row3 col1\" >Production</td>\n",
              "      <td id=\"T_76a98_row3_col2\" class=\"data row3 col2\" >349870</td>\n",
              "      <td id=\"T_76a98_row3_col3\" class=\"data row3 col3\" >Bombay</td>\n",
              "      <td id=\"T_76a98_row3_col4\" class=\"data row3 col4\" >2</td>\n",
              "    </tr>\n",
              "    <tr>\n",
              "      <td id=\"T_76a98_row4_col0\" class=\"data row4 col0\" >60</td>\n",
              "      <td id=\"T_76a98_row4_col1\" class=\"data row4 col1\" >Research</td>\n",
              "      <td id=\"T_76a98_row4_col2\" class=\"data row4 col2\" >546224</td>\n",
              "      <td id=\"T_76a98_row4_col3\" class=\"data row4 col3\" >Delhi</td>\n",
              "      <td id=\"T_76a98_row4_col4\" class=\"data row4 col4\" >3</td>\n",
              "    </tr>\n",
              "    <tr>\n",
              "      <td id=\"T_76a98_row5_col0\" class=\"data row5 col0\" >12</td>\n",
              "      <td id=\"T_76a98_row5_col1\" class=\"data row5 col1\" >Corporate2</td>\n",
              "      <td id=\"T_76a98_row5_col2\" class=\"data row5 col2\" >29903A</td>\n",
              "      <td id=\"T_76a98_row5_col3\" class=\"data row5 col3\" >Calcutta</td>\n",
              "      <td id=\"T_76a98_row5_col4\" class=\"data row5 col4\" >1</td>\n",
              "    </tr>\n",
              "    <tr>\n",
              "      <td id=\"T_76a98_row6_col0\" class=\"data row6 col0\" >13</td>\n",
              "      <td id=\"T_76a98_row6_col1\" class=\"data row6 col1\" >Corporate2</td>\n",
              "      <td id=\"T_76a98_row6_col2\" class=\"data row6 col2\" >29903A</td>\n",
              "      <td id=\"T_76a98_row6_col3\" class=\"data row6 col3\" >Calcutta</td>\n",
              "      <td id=\"T_76a98_row6_col4\" class=\"data row6 col4\" >1</td>\n",
              "    </tr>\n",
              "    <tr>\n",
              "      <td id=\"T_76a98_row7_col0\" class=\"data row7 col0\" >14</td>\n",
              "      <td id=\"T_76a98_row7_col1\" class=\"data row7 col1\" >Corporate2</td>\n",
              "      <td id=\"T_76a98_row7_col2\" class=\"data row7 col2\" >29903A</td>\n",
              "      <td id=\"T_76a98_row7_col3\" class=\"data row7 col3\" >Calcutta</td>\n",
              "      <td id=\"T_76a98_row7_col4\" class=\"data row7 col4\" >1</td>\n",
              "    </tr>\n",
              "  </tbody>\n",
              "</table>\n"
            ]
          },
          "metadata": {},
          "execution_count": 86
        }
      ]
    },
    {
      "cell_type": "code",
      "source": [
        "runCmd(\"update dept set deptname = 'Marketing' where managerid = '29903A'\")\n",
        "runSelect(\"select * from dept\")"
      ],
      "metadata": {
        "id": "DqdnmD2pEQNq",
        "outputId": "119a88b0-b83d-4c3a-ebca-c73293a8bad1",
        "colab": {
          "base_uri": "https://localhost:8080/",
          "height": 317
        }
      },
      "execution_count": null,
      "outputs": [
        {
          "output_type": "stream",
          "name": "stdout",
          "text": [
            "Command executed\n"
          ]
        },
        {
          "output_type": "execute_result",
          "data": {
            "text/plain": [
              "<pandas.io.formats.style.Styler at 0x7bb7a7c05450>"
            ],
            "text/html": [
              "<style type=\"text/css\">\n",
              "</style>\n",
              "<table id=\"T_d5555\" class=\"dataframe\">\n",
              "  <thead>\n",
              "    <tr>\n",
              "      <th id=\"T_d5555_level0_col0\" class=\"col_heading level0 col0\" >deptid</th>\n",
              "      <th id=\"T_d5555_level0_col1\" class=\"col_heading level0 col1\" >deptname</th>\n",
              "      <th id=\"T_d5555_level0_col2\" class=\"col_heading level0 col2\" >managerid</th>\n",
              "      <th id=\"T_d5555_level0_col3\" class=\"col_heading level0 col3\" >location</th>\n",
              "      <th id=\"T_d5555_level0_col4\" class=\"col_heading level0 col4\" >locationid</th>\n",
              "    </tr>\n",
              "  </thead>\n",
              "  <tbody>\n",
              "    <tr>\n",
              "      <td id=\"T_d5555_row0_col0\" class=\"data row0 col0\" >10</td>\n",
              "      <td id=\"T_d5555_row0_col1\" class=\"data row0 col1\" >Corporate</td>\n",
              "      <td id=\"T_d5555_row0_col2\" class=\"data row0 col2\" >299034</td>\n",
              "      <td id=\"T_d5555_row0_col3\" class=\"data row0 col3\" >Calcutta</td>\n",
              "      <td id=\"T_d5555_row0_col4\" class=\"data row0 col4\" >1</td>\n",
              "    </tr>\n",
              "    <tr>\n",
              "      <td id=\"T_d5555_row1_col0\" class=\"data row1 col0\" >20</td>\n",
              "      <td id=\"T_d5555_row1_col1\" class=\"data row1 col1\" >Sales</td>\n",
              "      <td id=\"T_d5555_row1_col2\" class=\"data row1 col2\" >239456</td>\n",
              "      <td id=\"T_d5555_row1_col3\" class=\"data row1 col3\" >Calcutta</td>\n",
              "      <td id=\"T_d5555_row1_col4\" class=\"data row1 col4\" >1</td>\n",
              "    </tr>\n",
              "    <tr>\n",
              "      <td id=\"T_d5555_row2_col0\" class=\"data row2 col0\" >30</td>\n",
              "      <td id=\"T_d5555_row2_col1\" class=\"data row2 col1\" >Accounts</td>\n",
              "      <td id=\"T_d5555_row2_col2\" class=\"data row2 col2\" >822134</td>\n",
              "      <td id=\"T_d5555_row2_col3\" class=\"data row2 col3\" >Calcutta</td>\n",
              "      <td id=\"T_d5555_row2_col4\" class=\"data row2 col4\" >1</td>\n",
              "    </tr>\n",
              "    <tr>\n",
              "      <td id=\"T_d5555_row3_col0\" class=\"data row3 col0\" >40</td>\n",
              "      <td id=\"T_d5555_row3_col1\" class=\"data row3 col1\" >Production</td>\n",
              "      <td id=\"T_d5555_row3_col2\" class=\"data row3 col2\" >349870</td>\n",
              "      <td id=\"T_d5555_row3_col3\" class=\"data row3 col3\" >Bombay</td>\n",
              "      <td id=\"T_d5555_row3_col4\" class=\"data row3 col4\" >2</td>\n",
              "    </tr>\n",
              "    <tr>\n",
              "      <td id=\"T_d5555_row4_col0\" class=\"data row4 col0\" >60</td>\n",
              "      <td id=\"T_d5555_row4_col1\" class=\"data row4 col1\" >Research</td>\n",
              "      <td id=\"T_d5555_row4_col2\" class=\"data row4 col2\" >546224</td>\n",
              "      <td id=\"T_d5555_row4_col3\" class=\"data row4 col3\" >Delhi</td>\n",
              "      <td id=\"T_d5555_row4_col4\" class=\"data row4 col4\" >3</td>\n",
              "    </tr>\n",
              "    <tr>\n",
              "      <td id=\"T_d5555_row5_col0\" class=\"data row5 col0\" >12</td>\n",
              "      <td id=\"T_d5555_row5_col1\" class=\"data row5 col1\" >Marketing</td>\n",
              "      <td id=\"T_d5555_row5_col2\" class=\"data row5 col2\" >29903A</td>\n",
              "      <td id=\"T_d5555_row5_col3\" class=\"data row5 col3\" >Calcutta</td>\n",
              "      <td id=\"T_d5555_row5_col4\" class=\"data row5 col4\" >1</td>\n",
              "    </tr>\n",
              "    <tr>\n",
              "      <td id=\"T_d5555_row6_col0\" class=\"data row6 col0\" >13</td>\n",
              "      <td id=\"T_d5555_row6_col1\" class=\"data row6 col1\" >Marketing</td>\n",
              "      <td id=\"T_d5555_row6_col2\" class=\"data row6 col2\" >29903A</td>\n",
              "      <td id=\"T_d5555_row6_col3\" class=\"data row6 col3\" >Calcutta</td>\n",
              "      <td id=\"T_d5555_row6_col4\" class=\"data row6 col4\" >1</td>\n",
              "    </tr>\n",
              "    <tr>\n",
              "      <td id=\"T_d5555_row7_col0\" class=\"data row7 col0\" >14</td>\n",
              "      <td id=\"T_d5555_row7_col1\" class=\"data row7 col1\" >Marketing</td>\n",
              "      <td id=\"T_d5555_row7_col2\" class=\"data row7 col2\" >29903A</td>\n",
              "      <td id=\"T_d5555_row7_col3\" class=\"data row7 col3\" >Calcutta</td>\n",
              "      <td id=\"T_d5555_row7_col4\" class=\"data row7 col4\" >1</td>\n",
              "    </tr>\n",
              "  </tbody>\n",
              "</table>\n"
            ]
          },
          "metadata": {},
          "execution_count": 87
        }
      ]
    },
    {
      "cell_type": "code",
      "source": [
        "runCmd(\"delete from dept where managerid = '29903A'\")\n",
        "runSelect(\"select * from dept\")"
      ],
      "metadata": {
        "id": "nsnJnNrEF6iS",
        "outputId": "6be96879-5da4-49e0-94c2-a7ceac953bcb",
        "colab": {
          "base_uri": "https://localhost:8080/",
          "height": 223
        }
      },
      "execution_count": null,
      "outputs": [
        {
          "output_type": "stream",
          "name": "stdout",
          "text": [
            "Command executed\n"
          ]
        },
        {
          "output_type": "execute_result",
          "data": {
            "text/plain": [
              "<pandas.io.formats.style.Styler at 0x7bb7a7adb990>"
            ],
            "text/html": [
              "<style type=\"text/css\">\n",
              "</style>\n",
              "<table id=\"T_b42f0\" class=\"dataframe\">\n",
              "  <thead>\n",
              "    <tr>\n",
              "      <th id=\"T_b42f0_level0_col0\" class=\"col_heading level0 col0\" >deptid</th>\n",
              "      <th id=\"T_b42f0_level0_col1\" class=\"col_heading level0 col1\" >deptname</th>\n",
              "      <th id=\"T_b42f0_level0_col2\" class=\"col_heading level0 col2\" >managerid</th>\n",
              "      <th id=\"T_b42f0_level0_col3\" class=\"col_heading level0 col3\" >location</th>\n",
              "      <th id=\"T_b42f0_level0_col4\" class=\"col_heading level0 col4\" >locationid</th>\n",
              "    </tr>\n",
              "  </thead>\n",
              "  <tbody>\n",
              "    <tr>\n",
              "      <td id=\"T_b42f0_row0_col0\" class=\"data row0 col0\" >10</td>\n",
              "      <td id=\"T_b42f0_row0_col1\" class=\"data row0 col1\" >Corporate</td>\n",
              "      <td id=\"T_b42f0_row0_col2\" class=\"data row0 col2\" >299034</td>\n",
              "      <td id=\"T_b42f0_row0_col3\" class=\"data row0 col3\" >Calcutta</td>\n",
              "      <td id=\"T_b42f0_row0_col4\" class=\"data row0 col4\" >1</td>\n",
              "    </tr>\n",
              "    <tr>\n",
              "      <td id=\"T_b42f0_row1_col0\" class=\"data row1 col0\" >20</td>\n",
              "      <td id=\"T_b42f0_row1_col1\" class=\"data row1 col1\" >Sales</td>\n",
              "      <td id=\"T_b42f0_row1_col2\" class=\"data row1 col2\" >239456</td>\n",
              "      <td id=\"T_b42f0_row1_col3\" class=\"data row1 col3\" >Calcutta</td>\n",
              "      <td id=\"T_b42f0_row1_col4\" class=\"data row1 col4\" >1</td>\n",
              "    </tr>\n",
              "    <tr>\n",
              "      <td id=\"T_b42f0_row2_col0\" class=\"data row2 col0\" >30</td>\n",
              "      <td id=\"T_b42f0_row2_col1\" class=\"data row2 col1\" >Accounts</td>\n",
              "      <td id=\"T_b42f0_row2_col2\" class=\"data row2 col2\" >822134</td>\n",
              "      <td id=\"T_b42f0_row2_col3\" class=\"data row2 col3\" >Calcutta</td>\n",
              "      <td id=\"T_b42f0_row2_col4\" class=\"data row2 col4\" >1</td>\n",
              "    </tr>\n",
              "    <tr>\n",
              "      <td id=\"T_b42f0_row3_col0\" class=\"data row3 col0\" >40</td>\n",
              "      <td id=\"T_b42f0_row3_col1\" class=\"data row3 col1\" >Production</td>\n",
              "      <td id=\"T_b42f0_row3_col2\" class=\"data row3 col2\" >349870</td>\n",
              "      <td id=\"T_b42f0_row3_col3\" class=\"data row3 col3\" >Bombay</td>\n",
              "      <td id=\"T_b42f0_row3_col4\" class=\"data row3 col4\" >2</td>\n",
              "    </tr>\n",
              "    <tr>\n",
              "      <td id=\"T_b42f0_row4_col0\" class=\"data row4 col0\" >60</td>\n",
              "      <td id=\"T_b42f0_row4_col1\" class=\"data row4 col1\" >Research</td>\n",
              "      <td id=\"T_b42f0_row4_col2\" class=\"data row4 col2\" >546224</td>\n",
              "      <td id=\"T_b42f0_row4_col3\" class=\"data row4 col3\" >Delhi</td>\n",
              "      <td id=\"T_b42f0_row4_col4\" class=\"data row4 col4\" >3</td>\n",
              "    </tr>\n",
              "  </tbody>\n",
              "</table>\n"
            ]
          },
          "metadata": {},
          "execution_count": 88
        }
      ]
    },
    {
      "cell_type": "code",
      "source": [
        "from datetime import datetime\n",
        "import pytz\n",
        "print('Last tested  ',datetime.now(pytz.timezone('Asia/Kolkata')))"
      ],
      "metadata": {
        "colab": {
          "base_uri": "https://localhost:8080/"
        },
        "id": "wjBXJVhM605H",
        "outputId": "3a3d4cb5-b448-4680-c2a4-0e4aa3fd31ed"
      },
      "execution_count": null,
      "outputs": [
        {
          "output_type": "stream",
          "name": "stdout",
          "text": [
            "Last tested   2025-07-28 13:26:35.141807+05:30\n"
          ]
        }
      ]
    },
    {
      "cell_type": "markdown",
      "source": [
        "#ChronoTYM <br>\n",
        "In Indic phraseology, tantra is knowledge, a yantra is a device to explore this knowledge and a mantra is the code that unlocks both the tantra and its yantra. Chrono/TYM a sci-fi trilogy that recreates this framework where the first novel Chronotantra defines the contours of a tech driven, futuristic society, the second, Chronoyantra, describes a device used to explore the genesis of this society, while the third, Chronomantra finally reveals the code, the key, that unlocks this puzzle.  [More information](http://bit.ly/chronobooks) <br>\n",
        "![alt text](https://blogger.googleusercontent.com/img/b/R29vZ2xl/AVvXsEjdu_ajYwBRzk5iFYlcs59ZoRMMg6rhNm4JERKspvFJoveJsnfwRlzMICiC37UOja_Bd4sbfLA1pyyBbe0mj3tUfDBXoqCzNUDw3Wux7acoJBaLkWjAvJXfa7drRY2GQRAlFxEY9O7a7raY4RKy7cA3Uxgf5QsaZQ99C9GfXxFSex_rke8ROhAn41t8zOqK/s1640/tymBanner01_3.png)"
      ],
      "metadata": {
        "id": "_gNiZpyW3AzJ"
      }
    }
  ]
}