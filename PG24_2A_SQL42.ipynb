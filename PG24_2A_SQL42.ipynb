{
  "nbformat": 4,
  "nbformat_minor": 0,
  "metadata": {
    "colab": {
      "provenance": [],
      "toc_visible": true,
      "include_colab_link": true
    },
    "kernelspec": {
      "name": "python3",
      "display_name": "Python 3"
    },
    "language_info": {
      "name": "python"
    }
  },
  "cells": [
    {
      "cell_type": "markdown",
      "metadata": {
        "id": "view-in-github",
        "colab_type": "text"
      },
      "source": [
        "<a href=\"https://colab.research.google.com/github/Praxis-QR/RDWH/blob/main/PG24_2A_SQL42.ipynb\" target=\"_parent\"><img src=\"https://colab.research.google.com/assets/colab-badge.svg\" alt=\"Open In Colab\"/></a>"
      ]
    },
    {
      "cell_type": "markdown",
      "source": [
        "![Yantrajaal Banner](https://github.com/Praxis-QR/RDWH/raw/main/images/YantraJaalBanner.png)<br>\n",
        "\n",
        "\n",
        "<hr>\n",
        "\n",
        "[Prithwis Mukerjee](http://www.linkedin.com/in/prithwis)<br>"
      ],
      "metadata": {
        "id": "DBzz-qaN2tKu"
      }
    },
    {
      "cell_type": "markdown",
      "source": [
        "![PostgreSQL 42](https://raw.githubusercontent.com/Praxis-QR/RDWH/main/images/PostgreSQL_24.01.png)<br>\n",
        "[SlideDeck](https://docs.google.com/presentation/d/1hdkAGbMxLfO1GYe7RzEo3LhGZhsXkyjIfBqkA72B6LM/edit?usp=sharing)"
      ],
      "metadata": {
        "id": "dBJ6X0LiJtZ6"
      }
    },
    {
      "cell_type": "code",
      "source": [
        "from datetime import datetime\n",
        "import pytz\n",
        "print('ॐ श्री सरस्वत्यै नमः',datetime.now(pytz.timezone('Asia/Calcutta')))\n",
        "!python --version\n",
        "!lsb_release -a"
      ],
      "metadata": {
        "colab": {
          "base_uri": "https://localhost:8080/"
        },
        "id": "XZ9dGt-eUikL",
        "outputId": "9aede2be-222d-4be6-9948-d1bc7cf5fd3e"
      },
      "execution_count": 1,
      "outputs": [
        {
          "output_type": "stream",
          "name": "stdout",
          "text": [
            "ॐ श्री सरस्वत्यै नमः 2024-02-24 15:59:41.292186+05:30\n",
            "Python 3.10.12\n",
            "No LSB modules are available.\n",
            "Distributor ID:\tUbuntu\n",
            "Description:\tUbuntu 22.04.3 LTS\n",
            "Release:\t22.04\n",
            "Codename:\tjammy\n"
          ]
        }
      ]
    },
    {
      "cell_type": "markdown",
      "source": [
        "#Install & Configure Postgres"
      ],
      "metadata": {
        "id": "nD-QawLT6kDr"
      }
    },
    {
      "cell_type": "markdown",
      "source": [
        "For Connecting to a Postgres server hosted in the cloud Neon DB, see [this notebook](https://github.com/Praxis-QR/RDWH/blob/main/PG24_1B_SQL_CloudLab.ipynb)"
      ],
      "metadata": {
        "id": "9w29_O07rTPE"
      }
    },
    {
      "cell_type": "code",
      "source": [
        "# Install postgresql server\n",
        "\n",
        "!apt update > /dev/null\n",
        "!apt install postgresql > /dev/null\n",
        "#!pip install psycopg2\n",
        "import psycopg2\n",
        "import pandas as pd\n",
        "#!sudo -u postgres psql -V\n",
        "!psql -V\n",
        "!service postgresql start"
      ],
      "metadata": {
        "colab": {
          "base_uri": "https://localhost:8080/"
        },
        "id": "o_RaqE0OOHP3",
        "outputId": "8a22736d-af38-4d5d-b344-785ddbbc5c2b"
      },
      "execution_count": 2,
      "outputs": [
        {
          "output_type": "stream",
          "name": "stdout",
          "text": [
            "\n",
            "WARNING: apt does not have a stable CLI interface. Use with caution in scripts.\n",
            "\n",
            "\n",
            "WARNING: apt does not have a stable CLI interface. Use with caution in scripts.\n",
            "\n",
            "psql (PostgreSQL) 14.10 (Ubuntu 14.10-0ubuntu0.22.04.1)\n",
            " * Starting PostgreSQL 14 database server\n",
            "   ...done.\n"
          ]
        }
      ]
    },
    {
      "cell_type": "code",
      "source": [
        "# The installation creates Ubuntu user 'postgres' AND a Postgres database user 'postgres' both of which are superusers\n",
        "#!cat /etc/passwd\n",
        "# Use these users to create a new database user called 'upraxis' and give it a password 'upass'\n",
        "#!sudo -u postgres createuser --superuser upraxis\n",
        "!sudo -u postgres createuser upraxis\n",
        "!sudo -u postgres psql -U postgres -c \"ALTER USER upraxis PASSWORD 'upass';\"\n",
        "#\n",
        "# Change the database superuser 'postgres' to a non-default value 'pass'\n",
        "!sudo -u postgres psql -U postgres -c \"ALTER USER postgres PASSWORD 'pass';\"\n",
        "#\n",
        "# Use ubuntu superuser to create database dbpraxis and set its owner to upraxis\n",
        "!sudo -u postgres createdb -O upraxis dbpraxis\n",
        "#\n",
        "# Create file to store the password. Else will be prompted each time\n",
        "#\n",
        "!echo \"localhost:5432:dbpraxis:upraxis:upass\" > ~/.pgpass\n",
        "!echo \"localhost:5432:dbpraxis:postgres:pass\" >> ~/.pgpass\n",
        "!chmod 0600 ~/.pgpass\n",
        "!cat ~/.pgpass\n"
      ],
      "metadata": {
        "colab": {
          "base_uri": "https://localhost:8080/"
        },
        "id": "xr5kHaY_U4CZ",
        "outputId": "1cb0c9a9-2a9c-481e-e5ad-4feaae678c56"
      },
      "execution_count": 3,
      "outputs": [
        {
          "output_type": "stream",
          "name": "stdout",
          "text": [
            "ALTER ROLE\n",
            "ALTER ROLE\n",
            "localhost:5432:dbpraxis:upraxis:upass\n",
            "localhost:5432:dbpraxis:postgres:pass\n"
          ]
        }
      ]
    },
    {
      "cell_type": "markdown",
      "source": [
        "## Create and Load Tables"
      ],
      "metadata": {
        "id": "pHTdNzrU6qUE"
      }
    },
    {
      "cell_type": "code",
      "source": [
        "# Create Two tables using command line interface\n",
        "#\n",
        "!psql -h localhost -p 5432 -Uupraxis -ddbpraxis -c \\\n",
        "\"drop table if exists Dept;\\\n",
        "create table Dept (\\\n",
        "    DeptID char(2),\\\n",
        "    DeptName varchar(20),\\\n",
        "    ManagerID char(6),\\\n",
        "    Location varchar(10),\\\n",
        "    LocationID char(1)\\\n",
        "    );\\\n",
        "insert into Dept (DeptID, DeptName, ManagerID, Location,LocationID) VALUES \\\n",
        "\t('10', 'Corporate', '299034', 'Calcutta','1'), \\\n",
        "\t('20', 'Sales', '239456', 'Calcutta','1'), \\\n",
        "\t('30', 'Accounts', '822134', 'Calcutta','1'), \\\n",
        "\t('40', 'Production', '349870', 'Bombay','2'),\\\n",
        "    ('60', 'Research', '546224', 'Delhi','3');\\\n",
        "\""
      ],
      "metadata": {
        "colab": {
          "base_uri": "https://localhost:8080/"
        },
        "id": "DsUZ9JlEXIir",
        "outputId": "36ed595d-2ca4-4d7a-c362-24d09c746c0a"
      },
      "execution_count": 4,
      "outputs": [
        {
          "output_type": "stream",
          "name": "stdout",
          "text": [
            "NOTICE:  table \"dept\" does not exist, skipping\n",
            "INSERT 0 5\n"
          ]
        }
      ]
    },
    {
      "cell_type": "code",
      "source": [
        "!psql -h localhost -p 5432 -Uupraxis -ddbpraxis -c \\\n",
        "\"drop table if exists Empl;\\\n",
        "create table Empl \\\n",
        "    (EmpID char(6),\\\n",
        "    LastName varchar(20),\\\n",
        "    FirstName varchar(20),\\\n",
        "    JobDesc varchar(10),\\\n",
        "    JoinDate date,\\\n",
        "    Salary int,\\\n",
        "    Comm decimal(3,2),\\\n",
        "    DeptID char(2),\\\n",
        "    HiredBy char(6)\\\n",
        "    );\\\n",
        "INSERT INTO Empl (EmpID, LastName, FirstName, JobDesc, JoinDate, Salary, Comm, DeptID, HiredBy) \\\n",
        "    VALUES \\\n",
        "\t('742866', 'Bacchan', 'Amitabh', 'Executive', '2003-03-10', 50000, 0.1, '10', NULL), \\\n",
        "\t('349870', 'Mukherjee', 'Rani', 'Manager', '2005-05-04', 25000, 0.06, '40', '742866'), \\\n",
        "\t('865477', 'Dikshit', 'Madhuri', 'Clerk', '2002-04-04', 10000, 0.02, '20', '239456'), \\\n",
        "\t('239456', 'Khan', 'Shahrukh', 'Manager', '2004-01-03', 30000, 0.07, '20', '742866'), \\\n",
        "\t('897889', 'Sehwag', 'Virender', 'Cus_Rep', '2005-01-02', 15000, 0.05, '20', '239456'), \\\n",
        "\t('123980', 'Dhoni', 'Mahender', 'Clerk', '2004-10-09', 9000, 0.02, '40', '349870'), \\\n",
        "\t('822134', 'Dravid', 'Rahul', 'Sr Manager', '2000-06-04', 40000, 0.08, '30', '742866'), \\\n",
        "\t('997445', 'Dalmia', 'Jagmohan', 'Clerk', '2001-07-01', 12000, 0.02, '30', '822134'), \\\n",
        "\t('989007', 'Ganguly', 'Sourav', 'Cus_Rep', '2002-01-01', 20000, 0.03, '40', '299034'), \\\n",
        "\t('299034', 'Ganesan', 'Rekha', 'Director', '2002-10-10', 60000, 0.11, '10', '742866'), \\\n",
        "\t('546223', 'Karthikeyan', 'Narayan', 'Secretary', '2005-12-04', 40000, 0.09, '10', '299034'), \\\n",
        "    ('546224', 'Sunil', 'Chettri', 'Dy Manager', '2006-12-07', 40000, 0.05, '70', '989007'), \\\n",
        "\t('223112', 'Mirza', 'Sania', 'Cus_Rep', '2001-11-19', 25000, 0.04, '30', '822134');\\\n",
        "\""
      ],
      "metadata": {
        "colab": {
          "base_uri": "https://localhost:8080/"
        },
        "id": "5kWs3wyEd9Tm",
        "outputId": "4d92ef6f-759c-46da-99b7-becd8d7ac0c3"
      },
      "execution_count": 5,
      "outputs": [
        {
          "output_type": "stream",
          "name": "stdout",
          "text": [
            "NOTICE:  table \"empl\" does not exist, skipping\n",
            "INSERT 0 13\n"
          ]
        }
      ]
    },
    {
      "cell_type": "code",
      "source": [
        "#!psql -h localhost -p 5432 -Upostgres -dpraxisdb -c \"select * from dept;\"\n",
        "#!psql -h localhost -p 5432 -Uupraxis -ddbpraxis -c \"select * from dept;\""
      ],
      "metadata": {
        "id": "HyBUhbAI2PV1"
      },
      "execution_count": 6,
      "outputs": []
    },
    {
      "cell_type": "code",
      "source": [
        "#!psql -h localhost -p 5432 -U postgres -d praxisdb -c \"select * from empl;\"\n",
        "#!psql -h localhost -p 5432 -U upraxis -d dbpraxis -c \"select * from empl;\""
      ],
      "metadata": {
        "id": "byY2iccO4ctF"
      },
      "execution_count": 7,
      "outputs": []
    },
    {
      "cell_type": "markdown",
      "source": [
        "## Python Access\n",
        "https://www.tutorialspoint.com/python_data_access/python_postgresql_database_connection.htm"
      ],
      "metadata": {
        "id": "faZEj8_7CeZ8"
      }
    },
    {
      "cell_type": "code",
      "source": [
        "# Local Colab server\n",
        "\n",
        "conn = psycopg2.connect(database=\"dbpraxis\", user='upraxis', password='upass', host='127.0.0.1', port= '5432')\n",
        "#Creating a cursor object using the cursor() method\n",
        "cursor = conn.cursor()\n",
        "#Executing an MYSQL function using the execute() method\n",
        "cursor.execute(\"select version()\")\n",
        "# Fetch a single row using fetchone() method.\n",
        "data = cursor.fetchone()\n",
        "print(\"Connection established to: \",data)\n",
        "#Closing the connection\n",
        "conn.close()"
      ],
      "metadata": {
        "id": "wcE-8UBnC4zV",
        "outputId": "78c95b2a-e568-432f-c341-864aa4a6349a",
        "colab": {
          "base_uri": "https://localhost:8080/"
        }
      },
      "execution_count": 8,
      "outputs": [
        {
          "output_type": "stream",
          "name": "stdout",
          "text": [
            "Connection established to:  ('PostgreSQL 14.10 (Ubuntu 14.10-0ubuntu0.22.04.1) on x86_64-pc-linux-gnu, compiled by gcc (Ubuntu 11.4.0-1ubuntu1~22.04) 11.4.0, 64-bit',)\n"
          ]
        }
      ]
    },
    {
      "cell_type": "code",
      "source": [
        "# function to execute SQL select statements with Postgres\n",
        "#\n",
        "def runSelect(s):\n",
        "    #Set up connection\n",
        "\n",
        "    conn = psycopg2.connect(database=\"dbpraxis\", user='upraxis', password='upass', host='127.0.0.1', port= '5432')\n",
        "    #Setting auto commit true\n",
        "    conn.autocommit = True\n",
        "    #Creating a cursor object using the cursor() method\n",
        "    cursor = conn.cursor()\n",
        "    #Retrieving data\n",
        "    cursor.execute(s)\n",
        "    #Fetching all rows from the table\n",
        "    result = cursor.fetchall();\n",
        "    #print(len(result))\n",
        "    if (len(result)) > 0:                                       # result contains at least one row\n",
        "        colnames = [desc[0] for desc in cursor.description]     # get column names\n",
        "        #print(colnames)\n",
        "        resultdf = pd.DataFrame(result)                         # convert list to dataframe\n",
        "        resultdf.columns = colnames                             # add column names\n",
        "        #return resultdf\n",
        "        return resultdf.style.hide()                            # hide the index\n",
        "    else:\n",
        "        print('no records found')\n",
        "        return\n",
        "# function to execute SQL non-select statements with Postgres\n",
        "#\n",
        "def runCmd(s):\n",
        "    #Create Connection\n",
        "    conn = psycopg2.connect(database=\"dbpraxis\", user='upraxis', password='upass', host='127.0.0.1', port= '5432')\n",
        "    #Creating a cursor object using the cursor() method\n",
        "    cursor = conn.cursor()\n",
        "    try:\n",
        "        cursor.execute(s)\n",
        "        print('Command executed')\n",
        "        conn.commit()\n",
        "    except:\n",
        "        print('Command failed')\n",
        "    #Closing the connection\n",
        "    conn.close()"
      ],
      "metadata": {
        "id": "ht2k7-3iggNd"
      },
      "execution_count": 9,
      "outputs": []
    },
    {
      "cell_type": "markdown",
      "source": [
        "#Select - getting started"
      ],
      "metadata": {
        "id": "k0rXiciVtu7Q"
      }
    },
    {
      "cell_type": "code",
      "source": [
        "#runSelect(\"select * from dept where deptid = '100'\")\n",
        "#runSelect(\"select * from dept where deptid = '10'\")\n",
        "runSelect(\"select * from dept\")"
      ],
      "metadata": {
        "id": "N3NZv0YahSs6",
        "outputId": "aecd4f94-5c6c-4c91-c021-1dade7b95dda",
        "colab": {
          "base_uri": "https://localhost:8080/",
          "height": 206
        }
      },
      "execution_count": 10,
      "outputs": [
        {
          "output_type": "execute_result",
          "data": {
            "text/plain": [
              "<pandas.io.formats.style.Styler at 0x7c7f1718d7e0>"
            ],
            "text/html": [
              "<style type=\"text/css\">\n",
              "</style>\n",
              "<table id=\"T_120d6\" class=\"dataframe\">\n",
              "  <thead>\n",
              "    <tr>\n",
              "      <th id=\"T_120d6_level0_col0\" class=\"col_heading level0 col0\" >deptid</th>\n",
              "      <th id=\"T_120d6_level0_col1\" class=\"col_heading level0 col1\" >deptname</th>\n",
              "      <th id=\"T_120d6_level0_col2\" class=\"col_heading level0 col2\" >managerid</th>\n",
              "      <th id=\"T_120d6_level0_col3\" class=\"col_heading level0 col3\" >location</th>\n",
              "      <th id=\"T_120d6_level0_col4\" class=\"col_heading level0 col4\" >locationid</th>\n",
              "    </tr>\n",
              "  </thead>\n",
              "  <tbody>\n",
              "    <tr>\n",
              "      <td id=\"T_120d6_row0_col0\" class=\"data row0 col0\" >10</td>\n",
              "      <td id=\"T_120d6_row0_col1\" class=\"data row0 col1\" >Corporate</td>\n",
              "      <td id=\"T_120d6_row0_col2\" class=\"data row0 col2\" >299034</td>\n",
              "      <td id=\"T_120d6_row0_col3\" class=\"data row0 col3\" >Calcutta</td>\n",
              "      <td id=\"T_120d6_row0_col4\" class=\"data row0 col4\" >1</td>\n",
              "    </tr>\n",
              "    <tr>\n",
              "      <td id=\"T_120d6_row1_col0\" class=\"data row1 col0\" >20</td>\n",
              "      <td id=\"T_120d6_row1_col1\" class=\"data row1 col1\" >Sales</td>\n",
              "      <td id=\"T_120d6_row1_col2\" class=\"data row1 col2\" >239456</td>\n",
              "      <td id=\"T_120d6_row1_col3\" class=\"data row1 col3\" >Calcutta</td>\n",
              "      <td id=\"T_120d6_row1_col4\" class=\"data row1 col4\" >1</td>\n",
              "    </tr>\n",
              "    <tr>\n",
              "      <td id=\"T_120d6_row2_col0\" class=\"data row2 col0\" >30</td>\n",
              "      <td id=\"T_120d6_row2_col1\" class=\"data row2 col1\" >Accounts</td>\n",
              "      <td id=\"T_120d6_row2_col2\" class=\"data row2 col2\" >822134</td>\n",
              "      <td id=\"T_120d6_row2_col3\" class=\"data row2 col3\" >Calcutta</td>\n",
              "      <td id=\"T_120d6_row2_col4\" class=\"data row2 col4\" >1</td>\n",
              "    </tr>\n",
              "    <tr>\n",
              "      <td id=\"T_120d6_row3_col0\" class=\"data row3 col0\" >40</td>\n",
              "      <td id=\"T_120d6_row3_col1\" class=\"data row3 col1\" >Production</td>\n",
              "      <td id=\"T_120d6_row3_col2\" class=\"data row3 col2\" >349870</td>\n",
              "      <td id=\"T_120d6_row3_col3\" class=\"data row3 col3\" >Bombay</td>\n",
              "      <td id=\"T_120d6_row3_col4\" class=\"data row3 col4\" >2</td>\n",
              "    </tr>\n",
              "    <tr>\n",
              "      <td id=\"T_120d6_row4_col0\" class=\"data row4 col0\" >60</td>\n",
              "      <td id=\"T_120d6_row4_col1\" class=\"data row4 col1\" >Research</td>\n",
              "      <td id=\"T_120d6_row4_col2\" class=\"data row4 col2\" >546224</td>\n",
              "      <td id=\"T_120d6_row4_col3\" class=\"data row4 col3\" >Delhi</td>\n",
              "      <td id=\"T_120d6_row4_col4\" class=\"data row4 col4\" >3</td>\n",
              "    </tr>\n",
              "  </tbody>\n",
              "</table>\n"
            ]
          },
          "metadata": {},
          "execution_count": 10
        }
      ]
    },
    {
      "cell_type": "code",
      "source": [
        "runSelect('select * from empl')"
      ],
      "metadata": {
        "id": "Otiv4rjSl5Tg",
        "outputId": "e29de65c-36dc-44ee-fafb-3bb59e5a5c2f",
        "colab": {
          "base_uri": "https://localhost:8080/",
          "height": 457
        }
      },
      "execution_count": 11,
      "outputs": [
        {
          "output_type": "execute_result",
          "data": {
            "text/plain": [
              "<pandas.io.formats.style.Styler at 0x7c7ee7e9bfa0>"
            ],
            "text/html": [
              "<style type=\"text/css\">\n",
              "</style>\n",
              "<table id=\"T_c6677\" class=\"dataframe\">\n",
              "  <thead>\n",
              "    <tr>\n",
              "      <th id=\"T_c6677_level0_col0\" class=\"col_heading level0 col0\" >empid</th>\n",
              "      <th id=\"T_c6677_level0_col1\" class=\"col_heading level0 col1\" >lastname</th>\n",
              "      <th id=\"T_c6677_level0_col2\" class=\"col_heading level0 col2\" >firstname</th>\n",
              "      <th id=\"T_c6677_level0_col3\" class=\"col_heading level0 col3\" >jobdesc</th>\n",
              "      <th id=\"T_c6677_level0_col4\" class=\"col_heading level0 col4\" >joindate</th>\n",
              "      <th id=\"T_c6677_level0_col5\" class=\"col_heading level0 col5\" >salary</th>\n",
              "      <th id=\"T_c6677_level0_col6\" class=\"col_heading level0 col6\" >comm</th>\n",
              "      <th id=\"T_c6677_level0_col7\" class=\"col_heading level0 col7\" >deptid</th>\n",
              "      <th id=\"T_c6677_level0_col8\" class=\"col_heading level0 col8\" >hiredby</th>\n",
              "    </tr>\n",
              "  </thead>\n",
              "  <tbody>\n",
              "    <tr>\n",
              "      <td id=\"T_c6677_row0_col0\" class=\"data row0 col0\" >742866</td>\n",
              "      <td id=\"T_c6677_row0_col1\" class=\"data row0 col1\" >Bacchan</td>\n",
              "      <td id=\"T_c6677_row0_col2\" class=\"data row0 col2\" >Amitabh</td>\n",
              "      <td id=\"T_c6677_row0_col3\" class=\"data row0 col3\" >Executive</td>\n",
              "      <td id=\"T_c6677_row0_col4\" class=\"data row0 col4\" >2003-03-10</td>\n",
              "      <td id=\"T_c6677_row0_col5\" class=\"data row0 col5\" >50000</td>\n",
              "      <td id=\"T_c6677_row0_col6\" class=\"data row0 col6\" >0.10</td>\n",
              "      <td id=\"T_c6677_row0_col7\" class=\"data row0 col7\" >10</td>\n",
              "      <td id=\"T_c6677_row0_col8\" class=\"data row0 col8\" >None</td>\n",
              "    </tr>\n",
              "    <tr>\n",
              "      <td id=\"T_c6677_row1_col0\" class=\"data row1 col0\" >349870</td>\n",
              "      <td id=\"T_c6677_row1_col1\" class=\"data row1 col1\" >Mukherjee</td>\n",
              "      <td id=\"T_c6677_row1_col2\" class=\"data row1 col2\" >Rani</td>\n",
              "      <td id=\"T_c6677_row1_col3\" class=\"data row1 col3\" >Manager</td>\n",
              "      <td id=\"T_c6677_row1_col4\" class=\"data row1 col4\" >2005-05-04</td>\n",
              "      <td id=\"T_c6677_row1_col5\" class=\"data row1 col5\" >25000</td>\n",
              "      <td id=\"T_c6677_row1_col6\" class=\"data row1 col6\" >0.06</td>\n",
              "      <td id=\"T_c6677_row1_col7\" class=\"data row1 col7\" >40</td>\n",
              "      <td id=\"T_c6677_row1_col8\" class=\"data row1 col8\" >742866</td>\n",
              "    </tr>\n",
              "    <tr>\n",
              "      <td id=\"T_c6677_row2_col0\" class=\"data row2 col0\" >865477</td>\n",
              "      <td id=\"T_c6677_row2_col1\" class=\"data row2 col1\" >Dikshit</td>\n",
              "      <td id=\"T_c6677_row2_col2\" class=\"data row2 col2\" >Madhuri</td>\n",
              "      <td id=\"T_c6677_row2_col3\" class=\"data row2 col3\" >Clerk</td>\n",
              "      <td id=\"T_c6677_row2_col4\" class=\"data row2 col4\" >2002-04-04</td>\n",
              "      <td id=\"T_c6677_row2_col5\" class=\"data row2 col5\" >10000</td>\n",
              "      <td id=\"T_c6677_row2_col6\" class=\"data row2 col6\" >0.02</td>\n",
              "      <td id=\"T_c6677_row2_col7\" class=\"data row2 col7\" >20</td>\n",
              "      <td id=\"T_c6677_row2_col8\" class=\"data row2 col8\" >239456</td>\n",
              "    </tr>\n",
              "    <tr>\n",
              "      <td id=\"T_c6677_row3_col0\" class=\"data row3 col0\" >239456</td>\n",
              "      <td id=\"T_c6677_row3_col1\" class=\"data row3 col1\" >Khan</td>\n",
              "      <td id=\"T_c6677_row3_col2\" class=\"data row3 col2\" >Shahrukh</td>\n",
              "      <td id=\"T_c6677_row3_col3\" class=\"data row3 col3\" >Manager</td>\n",
              "      <td id=\"T_c6677_row3_col4\" class=\"data row3 col4\" >2004-01-03</td>\n",
              "      <td id=\"T_c6677_row3_col5\" class=\"data row3 col5\" >30000</td>\n",
              "      <td id=\"T_c6677_row3_col6\" class=\"data row3 col6\" >0.07</td>\n",
              "      <td id=\"T_c6677_row3_col7\" class=\"data row3 col7\" >20</td>\n",
              "      <td id=\"T_c6677_row3_col8\" class=\"data row3 col8\" >742866</td>\n",
              "    </tr>\n",
              "    <tr>\n",
              "      <td id=\"T_c6677_row4_col0\" class=\"data row4 col0\" >897889</td>\n",
              "      <td id=\"T_c6677_row4_col1\" class=\"data row4 col1\" >Sehwag</td>\n",
              "      <td id=\"T_c6677_row4_col2\" class=\"data row4 col2\" >Virender</td>\n",
              "      <td id=\"T_c6677_row4_col3\" class=\"data row4 col3\" >Cus_Rep</td>\n",
              "      <td id=\"T_c6677_row4_col4\" class=\"data row4 col4\" >2005-01-02</td>\n",
              "      <td id=\"T_c6677_row4_col5\" class=\"data row4 col5\" >15000</td>\n",
              "      <td id=\"T_c6677_row4_col6\" class=\"data row4 col6\" >0.05</td>\n",
              "      <td id=\"T_c6677_row4_col7\" class=\"data row4 col7\" >20</td>\n",
              "      <td id=\"T_c6677_row4_col8\" class=\"data row4 col8\" >239456</td>\n",
              "    </tr>\n",
              "    <tr>\n",
              "      <td id=\"T_c6677_row5_col0\" class=\"data row5 col0\" >123980</td>\n",
              "      <td id=\"T_c6677_row5_col1\" class=\"data row5 col1\" >Dhoni</td>\n",
              "      <td id=\"T_c6677_row5_col2\" class=\"data row5 col2\" >Mahender</td>\n",
              "      <td id=\"T_c6677_row5_col3\" class=\"data row5 col3\" >Clerk</td>\n",
              "      <td id=\"T_c6677_row5_col4\" class=\"data row5 col4\" >2004-10-09</td>\n",
              "      <td id=\"T_c6677_row5_col5\" class=\"data row5 col5\" >9000</td>\n",
              "      <td id=\"T_c6677_row5_col6\" class=\"data row5 col6\" >0.02</td>\n",
              "      <td id=\"T_c6677_row5_col7\" class=\"data row5 col7\" >40</td>\n",
              "      <td id=\"T_c6677_row5_col8\" class=\"data row5 col8\" >349870</td>\n",
              "    </tr>\n",
              "    <tr>\n",
              "      <td id=\"T_c6677_row6_col0\" class=\"data row6 col0\" >822134</td>\n",
              "      <td id=\"T_c6677_row6_col1\" class=\"data row6 col1\" >Dravid</td>\n",
              "      <td id=\"T_c6677_row6_col2\" class=\"data row6 col2\" >Rahul</td>\n",
              "      <td id=\"T_c6677_row6_col3\" class=\"data row6 col3\" >Sr Manager</td>\n",
              "      <td id=\"T_c6677_row6_col4\" class=\"data row6 col4\" >2000-06-04</td>\n",
              "      <td id=\"T_c6677_row6_col5\" class=\"data row6 col5\" >40000</td>\n",
              "      <td id=\"T_c6677_row6_col6\" class=\"data row6 col6\" >0.08</td>\n",
              "      <td id=\"T_c6677_row6_col7\" class=\"data row6 col7\" >30</td>\n",
              "      <td id=\"T_c6677_row6_col8\" class=\"data row6 col8\" >742866</td>\n",
              "    </tr>\n",
              "    <tr>\n",
              "      <td id=\"T_c6677_row7_col0\" class=\"data row7 col0\" >997445</td>\n",
              "      <td id=\"T_c6677_row7_col1\" class=\"data row7 col1\" >Dalmia</td>\n",
              "      <td id=\"T_c6677_row7_col2\" class=\"data row7 col2\" >Jagmohan</td>\n",
              "      <td id=\"T_c6677_row7_col3\" class=\"data row7 col3\" >Clerk</td>\n",
              "      <td id=\"T_c6677_row7_col4\" class=\"data row7 col4\" >2001-07-01</td>\n",
              "      <td id=\"T_c6677_row7_col5\" class=\"data row7 col5\" >12000</td>\n",
              "      <td id=\"T_c6677_row7_col6\" class=\"data row7 col6\" >0.02</td>\n",
              "      <td id=\"T_c6677_row7_col7\" class=\"data row7 col7\" >30</td>\n",
              "      <td id=\"T_c6677_row7_col8\" class=\"data row7 col8\" >822134</td>\n",
              "    </tr>\n",
              "    <tr>\n",
              "      <td id=\"T_c6677_row8_col0\" class=\"data row8 col0\" >989007</td>\n",
              "      <td id=\"T_c6677_row8_col1\" class=\"data row8 col1\" >Ganguly</td>\n",
              "      <td id=\"T_c6677_row8_col2\" class=\"data row8 col2\" >Sourav</td>\n",
              "      <td id=\"T_c6677_row8_col3\" class=\"data row8 col3\" >Cus_Rep</td>\n",
              "      <td id=\"T_c6677_row8_col4\" class=\"data row8 col4\" >2002-01-01</td>\n",
              "      <td id=\"T_c6677_row8_col5\" class=\"data row8 col5\" >20000</td>\n",
              "      <td id=\"T_c6677_row8_col6\" class=\"data row8 col6\" >0.03</td>\n",
              "      <td id=\"T_c6677_row8_col7\" class=\"data row8 col7\" >40</td>\n",
              "      <td id=\"T_c6677_row8_col8\" class=\"data row8 col8\" >299034</td>\n",
              "    </tr>\n",
              "    <tr>\n",
              "      <td id=\"T_c6677_row9_col0\" class=\"data row9 col0\" >299034</td>\n",
              "      <td id=\"T_c6677_row9_col1\" class=\"data row9 col1\" >Ganesan</td>\n",
              "      <td id=\"T_c6677_row9_col2\" class=\"data row9 col2\" >Rekha</td>\n",
              "      <td id=\"T_c6677_row9_col3\" class=\"data row9 col3\" >Director</td>\n",
              "      <td id=\"T_c6677_row9_col4\" class=\"data row9 col4\" >2002-10-10</td>\n",
              "      <td id=\"T_c6677_row9_col5\" class=\"data row9 col5\" >60000</td>\n",
              "      <td id=\"T_c6677_row9_col6\" class=\"data row9 col6\" >0.11</td>\n",
              "      <td id=\"T_c6677_row9_col7\" class=\"data row9 col7\" >10</td>\n",
              "      <td id=\"T_c6677_row9_col8\" class=\"data row9 col8\" >742866</td>\n",
              "    </tr>\n",
              "    <tr>\n",
              "      <td id=\"T_c6677_row10_col0\" class=\"data row10 col0\" >546223</td>\n",
              "      <td id=\"T_c6677_row10_col1\" class=\"data row10 col1\" >Karthikeyan</td>\n",
              "      <td id=\"T_c6677_row10_col2\" class=\"data row10 col2\" >Narayan</td>\n",
              "      <td id=\"T_c6677_row10_col3\" class=\"data row10 col3\" >Secretary</td>\n",
              "      <td id=\"T_c6677_row10_col4\" class=\"data row10 col4\" >2005-12-04</td>\n",
              "      <td id=\"T_c6677_row10_col5\" class=\"data row10 col5\" >40000</td>\n",
              "      <td id=\"T_c6677_row10_col6\" class=\"data row10 col6\" >0.09</td>\n",
              "      <td id=\"T_c6677_row10_col7\" class=\"data row10 col7\" >10</td>\n",
              "      <td id=\"T_c6677_row10_col8\" class=\"data row10 col8\" >299034</td>\n",
              "    </tr>\n",
              "    <tr>\n",
              "      <td id=\"T_c6677_row11_col0\" class=\"data row11 col0\" >546224</td>\n",
              "      <td id=\"T_c6677_row11_col1\" class=\"data row11 col1\" >Sunil</td>\n",
              "      <td id=\"T_c6677_row11_col2\" class=\"data row11 col2\" >Chettri</td>\n",
              "      <td id=\"T_c6677_row11_col3\" class=\"data row11 col3\" >Dy Manager</td>\n",
              "      <td id=\"T_c6677_row11_col4\" class=\"data row11 col4\" >2006-12-07</td>\n",
              "      <td id=\"T_c6677_row11_col5\" class=\"data row11 col5\" >40000</td>\n",
              "      <td id=\"T_c6677_row11_col6\" class=\"data row11 col6\" >0.05</td>\n",
              "      <td id=\"T_c6677_row11_col7\" class=\"data row11 col7\" >70</td>\n",
              "      <td id=\"T_c6677_row11_col8\" class=\"data row11 col8\" >989007</td>\n",
              "    </tr>\n",
              "    <tr>\n",
              "      <td id=\"T_c6677_row12_col0\" class=\"data row12 col0\" >223112</td>\n",
              "      <td id=\"T_c6677_row12_col1\" class=\"data row12 col1\" >Mirza</td>\n",
              "      <td id=\"T_c6677_row12_col2\" class=\"data row12 col2\" >Sania</td>\n",
              "      <td id=\"T_c6677_row12_col3\" class=\"data row12 col3\" >Cus_Rep</td>\n",
              "      <td id=\"T_c6677_row12_col4\" class=\"data row12 col4\" >2001-11-19</td>\n",
              "      <td id=\"T_c6677_row12_col5\" class=\"data row12 col5\" >25000</td>\n",
              "      <td id=\"T_c6677_row12_col6\" class=\"data row12 col6\" >0.04</td>\n",
              "      <td id=\"T_c6677_row12_col7\" class=\"data row12 col7\" >30</td>\n",
              "      <td id=\"T_c6677_row12_col8\" class=\"data row12 col8\" >822134</td>\n",
              "    </tr>\n",
              "  </tbody>\n",
              "</table>\n"
            ]
          },
          "metadata": {},
          "execution_count": 11
        }
      ]
    },
    {
      "cell_type": "code",
      "source": [
        "runSelect('select lastname, jobdesc, salary from empl')"
      ],
      "metadata": {
        "id": "z-mxVMPuuxu6",
        "outputId": "00e66636-0789-453a-b64a-ec3b641bc18d",
        "colab": {
          "base_uri": "https://localhost:8080/",
          "height": 457
        }
      },
      "execution_count": 12,
      "outputs": [
        {
          "output_type": "execute_result",
          "data": {
            "text/plain": [
              "<pandas.io.formats.style.Styler at 0x7c7f1718cc10>"
            ],
            "text/html": [
              "<style type=\"text/css\">\n",
              "</style>\n",
              "<table id=\"T_fa850\" class=\"dataframe\">\n",
              "  <thead>\n",
              "    <tr>\n",
              "      <th id=\"T_fa850_level0_col0\" class=\"col_heading level0 col0\" >lastname</th>\n",
              "      <th id=\"T_fa850_level0_col1\" class=\"col_heading level0 col1\" >jobdesc</th>\n",
              "      <th id=\"T_fa850_level0_col2\" class=\"col_heading level0 col2\" >salary</th>\n",
              "    </tr>\n",
              "  </thead>\n",
              "  <tbody>\n",
              "    <tr>\n",
              "      <td id=\"T_fa850_row0_col0\" class=\"data row0 col0\" >Bacchan</td>\n",
              "      <td id=\"T_fa850_row0_col1\" class=\"data row0 col1\" >Executive</td>\n",
              "      <td id=\"T_fa850_row0_col2\" class=\"data row0 col2\" >50000</td>\n",
              "    </tr>\n",
              "    <tr>\n",
              "      <td id=\"T_fa850_row1_col0\" class=\"data row1 col0\" >Mukherjee</td>\n",
              "      <td id=\"T_fa850_row1_col1\" class=\"data row1 col1\" >Manager</td>\n",
              "      <td id=\"T_fa850_row1_col2\" class=\"data row1 col2\" >25000</td>\n",
              "    </tr>\n",
              "    <tr>\n",
              "      <td id=\"T_fa850_row2_col0\" class=\"data row2 col0\" >Dikshit</td>\n",
              "      <td id=\"T_fa850_row2_col1\" class=\"data row2 col1\" >Clerk</td>\n",
              "      <td id=\"T_fa850_row2_col2\" class=\"data row2 col2\" >10000</td>\n",
              "    </tr>\n",
              "    <tr>\n",
              "      <td id=\"T_fa850_row3_col0\" class=\"data row3 col0\" >Khan</td>\n",
              "      <td id=\"T_fa850_row3_col1\" class=\"data row3 col1\" >Manager</td>\n",
              "      <td id=\"T_fa850_row3_col2\" class=\"data row3 col2\" >30000</td>\n",
              "    </tr>\n",
              "    <tr>\n",
              "      <td id=\"T_fa850_row4_col0\" class=\"data row4 col0\" >Sehwag</td>\n",
              "      <td id=\"T_fa850_row4_col1\" class=\"data row4 col1\" >Cus_Rep</td>\n",
              "      <td id=\"T_fa850_row4_col2\" class=\"data row4 col2\" >15000</td>\n",
              "    </tr>\n",
              "    <tr>\n",
              "      <td id=\"T_fa850_row5_col0\" class=\"data row5 col0\" >Dhoni</td>\n",
              "      <td id=\"T_fa850_row5_col1\" class=\"data row5 col1\" >Clerk</td>\n",
              "      <td id=\"T_fa850_row5_col2\" class=\"data row5 col2\" >9000</td>\n",
              "    </tr>\n",
              "    <tr>\n",
              "      <td id=\"T_fa850_row6_col0\" class=\"data row6 col0\" >Dravid</td>\n",
              "      <td id=\"T_fa850_row6_col1\" class=\"data row6 col1\" >Sr Manager</td>\n",
              "      <td id=\"T_fa850_row6_col2\" class=\"data row6 col2\" >40000</td>\n",
              "    </tr>\n",
              "    <tr>\n",
              "      <td id=\"T_fa850_row7_col0\" class=\"data row7 col0\" >Dalmia</td>\n",
              "      <td id=\"T_fa850_row7_col1\" class=\"data row7 col1\" >Clerk</td>\n",
              "      <td id=\"T_fa850_row7_col2\" class=\"data row7 col2\" >12000</td>\n",
              "    </tr>\n",
              "    <tr>\n",
              "      <td id=\"T_fa850_row8_col0\" class=\"data row8 col0\" >Ganguly</td>\n",
              "      <td id=\"T_fa850_row8_col1\" class=\"data row8 col1\" >Cus_Rep</td>\n",
              "      <td id=\"T_fa850_row8_col2\" class=\"data row8 col2\" >20000</td>\n",
              "    </tr>\n",
              "    <tr>\n",
              "      <td id=\"T_fa850_row9_col0\" class=\"data row9 col0\" >Ganesan</td>\n",
              "      <td id=\"T_fa850_row9_col1\" class=\"data row9 col1\" >Director</td>\n",
              "      <td id=\"T_fa850_row9_col2\" class=\"data row9 col2\" >60000</td>\n",
              "    </tr>\n",
              "    <tr>\n",
              "      <td id=\"T_fa850_row10_col0\" class=\"data row10 col0\" >Karthikeyan</td>\n",
              "      <td id=\"T_fa850_row10_col1\" class=\"data row10 col1\" >Secretary</td>\n",
              "      <td id=\"T_fa850_row10_col2\" class=\"data row10 col2\" >40000</td>\n",
              "    </tr>\n",
              "    <tr>\n",
              "      <td id=\"T_fa850_row11_col0\" class=\"data row11 col0\" >Sunil</td>\n",
              "      <td id=\"T_fa850_row11_col1\" class=\"data row11 col1\" >Dy Manager</td>\n",
              "      <td id=\"T_fa850_row11_col2\" class=\"data row11 col2\" >40000</td>\n",
              "    </tr>\n",
              "    <tr>\n",
              "      <td id=\"T_fa850_row12_col0\" class=\"data row12 col0\" >Mirza</td>\n",
              "      <td id=\"T_fa850_row12_col1\" class=\"data row12 col1\" >Cus_Rep</td>\n",
              "      <td id=\"T_fa850_row12_col2\" class=\"data row12 col2\" >25000</td>\n",
              "    </tr>\n",
              "  </tbody>\n",
              "</table>\n"
            ]
          },
          "metadata": {},
          "execution_count": 12
        }
      ]
    },
    {
      "cell_type": "code",
      "source": [
        "runSelect('select distinct(jobdesc) from empl')"
      ],
      "metadata": {
        "id": "7uvcAdlCvg-p",
        "outputId": "c049222e-5b60-4d95-bff7-f8dd20058b0a",
        "colab": {
          "base_uri": "https://localhost:8080/",
          "height": 300
        }
      },
      "execution_count": 13,
      "outputs": [
        {
          "output_type": "execute_result",
          "data": {
            "text/plain": [
              "<pandas.io.formats.style.Styler at 0x7c7ee7ed2c20>"
            ],
            "text/html": [
              "<style type=\"text/css\">\n",
              "</style>\n",
              "<table id=\"T_2f138\" class=\"dataframe\">\n",
              "  <thead>\n",
              "    <tr>\n",
              "      <th id=\"T_2f138_level0_col0\" class=\"col_heading level0 col0\" >jobdesc</th>\n",
              "    </tr>\n",
              "  </thead>\n",
              "  <tbody>\n",
              "    <tr>\n",
              "      <td id=\"T_2f138_row0_col0\" class=\"data row0 col0\" >Director</td>\n",
              "    </tr>\n",
              "    <tr>\n",
              "      <td id=\"T_2f138_row1_col0\" class=\"data row1 col0\" >Manager</td>\n",
              "    </tr>\n",
              "    <tr>\n",
              "      <td id=\"T_2f138_row2_col0\" class=\"data row2 col0\" >Dy Manager</td>\n",
              "    </tr>\n",
              "    <tr>\n",
              "      <td id=\"T_2f138_row3_col0\" class=\"data row3 col0\" >Executive</td>\n",
              "    </tr>\n",
              "    <tr>\n",
              "      <td id=\"T_2f138_row4_col0\" class=\"data row4 col0\" >Secretary</td>\n",
              "    </tr>\n",
              "    <tr>\n",
              "      <td id=\"T_2f138_row5_col0\" class=\"data row5 col0\" >Cus_Rep</td>\n",
              "    </tr>\n",
              "    <tr>\n",
              "      <td id=\"T_2f138_row6_col0\" class=\"data row6 col0\" >Clerk</td>\n",
              "    </tr>\n",
              "    <tr>\n",
              "      <td id=\"T_2f138_row7_col0\" class=\"data row7 col0\" >Sr Manager</td>\n",
              "    </tr>\n",
              "  </tbody>\n",
              "</table>\n"
            ]
          },
          "metadata": {},
          "execution_count": 13
        }
      ]
    },
    {
      "cell_type": "markdown",
      "source": [
        "#Where"
      ],
      "metadata": {
        "id": "LFbNG59OxVzF"
      }
    },
    {
      "cell_type": "markdown",
      "source": [
        "## Equal, Not Equal, Greater, Less"
      ],
      "metadata": {
        "id": "JM2k29awVQHc"
      }
    },
    {
      "cell_type": "code",
      "source": [
        "runSelect(\"select firstname, lastname, jobdesc from empl where jobdesc = 'Clerk'\")"
      ],
      "metadata": {
        "id": "rRZz9OpLxdEY",
        "outputId": "f609a110-f3f8-444d-813a-d5d3868ebcca",
        "colab": {
          "base_uri": "https://localhost:8080/",
          "height": 143
        }
      },
      "execution_count": 14,
      "outputs": [
        {
          "output_type": "execute_result",
          "data": {
            "text/plain": [
              "<pandas.io.formats.style.Styler at 0x7c7ee7ed3ac0>"
            ],
            "text/html": [
              "<style type=\"text/css\">\n",
              "</style>\n",
              "<table id=\"T_3b30c\" class=\"dataframe\">\n",
              "  <thead>\n",
              "    <tr>\n",
              "      <th id=\"T_3b30c_level0_col0\" class=\"col_heading level0 col0\" >firstname</th>\n",
              "      <th id=\"T_3b30c_level0_col1\" class=\"col_heading level0 col1\" >lastname</th>\n",
              "      <th id=\"T_3b30c_level0_col2\" class=\"col_heading level0 col2\" >jobdesc</th>\n",
              "    </tr>\n",
              "  </thead>\n",
              "  <tbody>\n",
              "    <tr>\n",
              "      <td id=\"T_3b30c_row0_col0\" class=\"data row0 col0\" >Madhuri</td>\n",
              "      <td id=\"T_3b30c_row0_col1\" class=\"data row0 col1\" >Dikshit</td>\n",
              "      <td id=\"T_3b30c_row0_col2\" class=\"data row0 col2\" >Clerk</td>\n",
              "    </tr>\n",
              "    <tr>\n",
              "      <td id=\"T_3b30c_row1_col0\" class=\"data row1 col0\" >Mahender</td>\n",
              "      <td id=\"T_3b30c_row1_col1\" class=\"data row1 col1\" >Dhoni</td>\n",
              "      <td id=\"T_3b30c_row1_col2\" class=\"data row1 col2\" >Clerk</td>\n",
              "    </tr>\n",
              "    <tr>\n",
              "      <td id=\"T_3b30c_row2_col0\" class=\"data row2 col0\" >Jagmohan</td>\n",
              "      <td id=\"T_3b30c_row2_col1\" class=\"data row2 col1\" >Dalmia</td>\n",
              "      <td id=\"T_3b30c_row2_col2\" class=\"data row2 col2\" >Clerk</td>\n",
              "    </tr>\n",
              "  </tbody>\n",
              "</table>\n"
            ]
          },
          "metadata": {},
          "execution_count": 14
        }
      ]
    },
    {
      "cell_type": "code",
      "source": [
        "runSelect(\"select firstname, lastname, jobdesc from empl where jobdesc != 'Clerk'\")"
      ],
      "metadata": {
        "id": "3cl0ISR9yG-I",
        "outputId": "1f1935dd-e7a5-4ecc-f2a7-52978be23006",
        "colab": {
          "base_uri": "https://localhost:8080/",
          "height": 363
        }
      },
      "execution_count": 15,
      "outputs": [
        {
          "output_type": "execute_result",
          "data": {
            "text/plain": [
              "<pandas.io.formats.style.Styler at 0x7c7f1718f370>"
            ],
            "text/html": [
              "<style type=\"text/css\">\n",
              "</style>\n",
              "<table id=\"T_3f35e\" class=\"dataframe\">\n",
              "  <thead>\n",
              "    <tr>\n",
              "      <th id=\"T_3f35e_level0_col0\" class=\"col_heading level0 col0\" >firstname</th>\n",
              "      <th id=\"T_3f35e_level0_col1\" class=\"col_heading level0 col1\" >lastname</th>\n",
              "      <th id=\"T_3f35e_level0_col2\" class=\"col_heading level0 col2\" >jobdesc</th>\n",
              "    </tr>\n",
              "  </thead>\n",
              "  <tbody>\n",
              "    <tr>\n",
              "      <td id=\"T_3f35e_row0_col0\" class=\"data row0 col0\" >Amitabh</td>\n",
              "      <td id=\"T_3f35e_row0_col1\" class=\"data row0 col1\" >Bacchan</td>\n",
              "      <td id=\"T_3f35e_row0_col2\" class=\"data row0 col2\" >Executive</td>\n",
              "    </tr>\n",
              "    <tr>\n",
              "      <td id=\"T_3f35e_row1_col0\" class=\"data row1 col0\" >Rani</td>\n",
              "      <td id=\"T_3f35e_row1_col1\" class=\"data row1 col1\" >Mukherjee</td>\n",
              "      <td id=\"T_3f35e_row1_col2\" class=\"data row1 col2\" >Manager</td>\n",
              "    </tr>\n",
              "    <tr>\n",
              "      <td id=\"T_3f35e_row2_col0\" class=\"data row2 col0\" >Shahrukh</td>\n",
              "      <td id=\"T_3f35e_row2_col1\" class=\"data row2 col1\" >Khan</td>\n",
              "      <td id=\"T_3f35e_row2_col2\" class=\"data row2 col2\" >Manager</td>\n",
              "    </tr>\n",
              "    <tr>\n",
              "      <td id=\"T_3f35e_row3_col0\" class=\"data row3 col0\" >Virender</td>\n",
              "      <td id=\"T_3f35e_row3_col1\" class=\"data row3 col1\" >Sehwag</td>\n",
              "      <td id=\"T_3f35e_row3_col2\" class=\"data row3 col2\" >Cus_Rep</td>\n",
              "    </tr>\n",
              "    <tr>\n",
              "      <td id=\"T_3f35e_row4_col0\" class=\"data row4 col0\" >Rahul</td>\n",
              "      <td id=\"T_3f35e_row4_col1\" class=\"data row4 col1\" >Dravid</td>\n",
              "      <td id=\"T_3f35e_row4_col2\" class=\"data row4 col2\" >Sr Manager</td>\n",
              "    </tr>\n",
              "    <tr>\n",
              "      <td id=\"T_3f35e_row5_col0\" class=\"data row5 col0\" >Sourav</td>\n",
              "      <td id=\"T_3f35e_row5_col1\" class=\"data row5 col1\" >Ganguly</td>\n",
              "      <td id=\"T_3f35e_row5_col2\" class=\"data row5 col2\" >Cus_Rep</td>\n",
              "    </tr>\n",
              "    <tr>\n",
              "      <td id=\"T_3f35e_row6_col0\" class=\"data row6 col0\" >Rekha</td>\n",
              "      <td id=\"T_3f35e_row6_col1\" class=\"data row6 col1\" >Ganesan</td>\n",
              "      <td id=\"T_3f35e_row6_col2\" class=\"data row6 col2\" >Director</td>\n",
              "    </tr>\n",
              "    <tr>\n",
              "      <td id=\"T_3f35e_row7_col0\" class=\"data row7 col0\" >Narayan</td>\n",
              "      <td id=\"T_3f35e_row7_col1\" class=\"data row7 col1\" >Karthikeyan</td>\n",
              "      <td id=\"T_3f35e_row7_col2\" class=\"data row7 col2\" >Secretary</td>\n",
              "    </tr>\n",
              "    <tr>\n",
              "      <td id=\"T_3f35e_row8_col0\" class=\"data row8 col0\" >Chettri</td>\n",
              "      <td id=\"T_3f35e_row8_col1\" class=\"data row8 col1\" >Sunil</td>\n",
              "      <td id=\"T_3f35e_row8_col2\" class=\"data row8 col2\" >Dy Manager</td>\n",
              "    </tr>\n",
              "    <tr>\n",
              "      <td id=\"T_3f35e_row9_col0\" class=\"data row9 col0\" >Sania</td>\n",
              "      <td id=\"T_3f35e_row9_col1\" class=\"data row9 col1\" >Mirza</td>\n",
              "      <td id=\"T_3f35e_row9_col2\" class=\"data row9 col2\" >Cus_Rep</td>\n",
              "    </tr>\n",
              "  </tbody>\n",
              "</table>\n"
            ]
          },
          "metadata": {},
          "execution_count": 15
        }
      ]
    },
    {
      "cell_type": "code",
      "source": [
        "runSelect(\"select firstname, lastname, salary from empl where salary > 35000\")"
      ],
      "metadata": {
        "id": "obIPpNbDyT4S",
        "outputId": "7bc12f0f-7c8e-404d-83ff-28c779c59dd4",
        "colab": {
          "base_uri": "https://localhost:8080/",
          "height": 206
        }
      },
      "execution_count": 16,
      "outputs": [
        {
          "output_type": "execute_result",
          "data": {
            "text/plain": [
              "<pandas.io.formats.style.Styler at 0x7c7ee7ed3d30>"
            ],
            "text/html": [
              "<style type=\"text/css\">\n",
              "</style>\n",
              "<table id=\"T_7183b\" class=\"dataframe\">\n",
              "  <thead>\n",
              "    <tr>\n",
              "      <th id=\"T_7183b_level0_col0\" class=\"col_heading level0 col0\" >firstname</th>\n",
              "      <th id=\"T_7183b_level0_col1\" class=\"col_heading level0 col1\" >lastname</th>\n",
              "      <th id=\"T_7183b_level0_col2\" class=\"col_heading level0 col2\" >salary</th>\n",
              "    </tr>\n",
              "  </thead>\n",
              "  <tbody>\n",
              "    <tr>\n",
              "      <td id=\"T_7183b_row0_col0\" class=\"data row0 col0\" >Amitabh</td>\n",
              "      <td id=\"T_7183b_row0_col1\" class=\"data row0 col1\" >Bacchan</td>\n",
              "      <td id=\"T_7183b_row0_col2\" class=\"data row0 col2\" >50000</td>\n",
              "    </tr>\n",
              "    <tr>\n",
              "      <td id=\"T_7183b_row1_col0\" class=\"data row1 col0\" >Rahul</td>\n",
              "      <td id=\"T_7183b_row1_col1\" class=\"data row1 col1\" >Dravid</td>\n",
              "      <td id=\"T_7183b_row1_col2\" class=\"data row1 col2\" >40000</td>\n",
              "    </tr>\n",
              "    <tr>\n",
              "      <td id=\"T_7183b_row2_col0\" class=\"data row2 col0\" >Rekha</td>\n",
              "      <td id=\"T_7183b_row2_col1\" class=\"data row2 col1\" >Ganesan</td>\n",
              "      <td id=\"T_7183b_row2_col2\" class=\"data row2 col2\" >60000</td>\n",
              "    </tr>\n",
              "    <tr>\n",
              "      <td id=\"T_7183b_row3_col0\" class=\"data row3 col0\" >Narayan</td>\n",
              "      <td id=\"T_7183b_row3_col1\" class=\"data row3 col1\" >Karthikeyan</td>\n",
              "      <td id=\"T_7183b_row3_col2\" class=\"data row3 col2\" >40000</td>\n",
              "    </tr>\n",
              "    <tr>\n",
              "      <td id=\"T_7183b_row4_col0\" class=\"data row4 col0\" >Chettri</td>\n",
              "      <td id=\"T_7183b_row4_col1\" class=\"data row4 col1\" >Sunil</td>\n",
              "      <td id=\"T_7183b_row4_col2\" class=\"data row4 col2\" >40000</td>\n",
              "    </tr>\n",
              "  </tbody>\n",
              "</table>\n"
            ]
          },
          "metadata": {},
          "execution_count": 16
        }
      ]
    },
    {
      "cell_type": "code",
      "source": [
        "runSelect(\"select firstname, lastname, salary, joindate from empl where joindate < '2002-01-01'\")"
      ],
      "metadata": {
        "colab": {
          "base_uri": "https://localhost:8080/",
          "height": 143
        },
        "id": "hnIvgy_dMvQl",
        "outputId": "2c9deb59-d15d-4a7f-ad4a-dc092dfe4e00"
      },
      "execution_count": 17,
      "outputs": [
        {
          "output_type": "execute_result",
          "data": {
            "text/plain": [
              "<pandas.io.formats.style.Styler at 0x7c7ee7ed3e80>"
            ],
            "text/html": [
              "<style type=\"text/css\">\n",
              "</style>\n",
              "<table id=\"T_0fe62\" class=\"dataframe\">\n",
              "  <thead>\n",
              "    <tr>\n",
              "      <th id=\"T_0fe62_level0_col0\" class=\"col_heading level0 col0\" >firstname</th>\n",
              "      <th id=\"T_0fe62_level0_col1\" class=\"col_heading level0 col1\" >lastname</th>\n",
              "      <th id=\"T_0fe62_level0_col2\" class=\"col_heading level0 col2\" >salary</th>\n",
              "      <th id=\"T_0fe62_level0_col3\" class=\"col_heading level0 col3\" >joindate</th>\n",
              "    </tr>\n",
              "  </thead>\n",
              "  <tbody>\n",
              "    <tr>\n",
              "      <td id=\"T_0fe62_row0_col0\" class=\"data row0 col0\" >Rahul</td>\n",
              "      <td id=\"T_0fe62_row0_col1\" class=\"data row0 col1\" >Dravid</td>\n",
              "      <td id=\"T_0fe62_row0_col2\" class=\"data row0 col2\" >40000</td>\n",
              "      <td id=\"T_0fe62_row0_col3\" class=\"data row0 col3\" >2000-06-04</td>\n",
              "    </tr>\n",
              "    <tr>\n",
              "      <td id=\"T_0fe62_row1_col0\" class=\"data row1 col0\" >Jagmohan</td>\n",
              "      <td id=\"T_0fe62_row1_col1\" class=\"data row1 col1\" >Dalmia</td>\n",
              "      <td id=\"T_0fe62_row1_col2\" class=\"data row1 col2\" >12000</td>\n",
              "      <td id=\"T_0fe62_row1_col3\" class=\"data row1 col3\" >2001-07-01</td>\n",
              "    </tr>\n",
              "    <tr>\n",
              "      <td id=\"T_0fe62_row2_col0\" class=\"data row2 col0\" >Sania</td>\n",
              "      <td id=\"T_0fe62_row2_col1\" class=\"data row2 col1\" >Mirza</td>\n",
              "      <td id=\"T_0fe62_row2_col2\" class=\"data row2 col2\" >25000</td>\n",
              "      <td id=\"T_0fe62_row2_col3\" class=\"data row2 col3\" >2001-11-19</td>\n",
              "    </tr>\n",
              "  </tbody>\n",
              "</table>\n"
            ]
          },
          "metadata": {},
          "execution_count": 17
        }
      ]
    },
    {
      "cell_type": "markdown",
      "source": [
        "## Like"
      ],
      "metadata": {
        "id": "77DkYhfhU1lJ"
      }
    },
    {
      "cell_type": "code",
      "source": [
        "runSelect(\"select firstname, lastname, salary from empl where lastname like 'D%'\")"
      ],
      "metadata": {
        "colab": {
          "base_uri": "https://localhost:8080/",
          "height": 175
        },
        "id": "PBsdla2eVv1K",
        "outputId": "24d92ba6-b018-4934-cace-715610aae51c"
      },
      "execution_count": 18,
      "outputs": [
        {
          "output_type": "execute_result",
          "data": {
            "text/plain": [
              "<pandas.io.formats.style.Styler at 0x7c7ee7ed28c0>"
            ],
            "text/html": [
              "<style type=\"text/css\">\n",
              "</style>\n",
              "<table id=\"T_82130\" class=\"dataframe\">\n",
              "  <thead>\n",
              "    <tr>\n",
              "      <th id=\"T_82130_level0_col0\" class=\"col_heading level0 col0\" >firstname</th>\n",
              "      <th id=\"T_82130_level0_col1\" class=\"col_heading level0 col1\" >lastname</th>\n",
              "      <th id=\"T_82130_level0_col2\" class=\"col_heading level0 col2\" >salary</th>\n",
              "    </tr>\n",
              "  </thead>\n",
              "  <tbody>\n",
              "    <tr>\n",
              "      <td id=\"T_82130_row0_col0\" class=\"data row0 col0\" >Madhuri</td>\n",
              "      <td id=\"T_82130_row0_col1\" class=\"data row0 col1\" >Dikshit</td>\n",
              "      <td id=\"T_82130_row0_col2\" class=\"data row0 col2\" >10000</td>\n",
              "    </tr>\n",
              "    <tr>\n",
              "      <td id=\"T_82130_row1_col0\" class=\"data row1 col0\" >Mahender</td>\n",
              "      <td id=\"T_82130_row1_col1\" class=\"data row1 col1\" >Dhoni</td>\n",
              "      <td id=\"T_82130_row1_col2\" class=\"data row1 col2\" >9000</td>\n",
              "    </tr>\n",
              "    <tr>\n",
              "      <td id=\"T_82130_row2_col0\" class=\"data row2 col0\" >Rahul</td>\n",
              "      <td id=\"T_82130_row2_col1\" class=\"data row2 col1\" >Dravid</td>\n",
              "      <td id=\"T_82130_row2_col2\" class=\"data row2 col2\" >40000</td>\n",
              "    </tr>\n",
              "    <tr>\n",
              "      <td id=\"T_82130_row3_col0\" class=\"data row3 col0\" >Jagmohan</td>\n",
              "      <td id=\"T_82130_row3_col1\" class=\"data row3 col1\" >Dalmia</td>\n",
              "      <td id=\"T_82130_row3_col2\" class=\"data row3 col2\" >12000</td>\n",
              "    </tr>\n",
              "  </tbody>\n",
              "</table>\n"
            ]
          },
          "metadata": {},
          "execution_count": 18
        }
      ]
    },
    {
      "cell_type": "code",
      "source": [
        "runSelect(\"select firstname, lastname, joindate from empl where lastname like '____i_'\")"
      ],
      "metadata": {
        "colab": {
          "base_uri": "https://localhost:8080/",
          "height": 112
        },
        "id": "xxImEDlKbm4U",
        "outputId": "697ab876-ba16-4833-be7b-a185bf789993"
      },
      "execution_count": 19,
      "outputs": [
        {
          "output_type": "execute_result",
          "data": {
            "text/plain": [
              "<pandas.io.formats.style.Styler at 0x7c7ee7efb730>"
            ],
            "text/html": [
              "<style type=\"text/css\">\n",
              "</style>\n",
              "<table id=\"T_3741b\" class=\"dataframe\">\n",
              "  <thead>\n",
              "    <tr>\n",
              "      <th id=\"T_3741b_level0_col0\" class=\"col_heading level0 col0\" >firstname</th>\n",
              "      <th id=\"T_3741b_level0_col1\" class=\"col_heading level0 col1\" >lastname</th>\n",
              "      <th id=\"T_3741b_level0_col2\" class=\"col_heading level0 col2\" >joindate</th>\n",
              "    </tr>\n",
              "  </thead>\n",
              "  <tbody>\n",
              "    <tr>\n",
              "      <td id=\"T_3741b_row0_col0\" class=\"data row0 col0\" >Rahul</td>\n",
              "      <td id=\"T_3741b_row0_col1\" class=\"data row0 col1\" >Dravid</td>\n",
              "      <td id=\"T_3741b_row0_col2\" class=\"data row0 col2\" >2000-06-04</td>\n",
              "    </tr>\n",
              "    <tr>\n",
              "      <td id=\"T_3741b_row1_col0\" class=\"data row1 col0\" >Jagmohan</td>\n",
              "      <td id=\"T_3741b_row1_col1\" class=\"data row1 col1\" >Dalmia</td>\n",
              "      <td id=\"T_3741b_row1_col2\" class=\"data row1 col2\" >2001-07-01</td>\n",
              "    </tr>\n",
              "  </tbody>\n",
              "</table>\n"
            ]
          },
          "metadata": {},
          "execution_count": 19
        }
      ]
    },
    {
      "cell_type": "code",
      "source": [
        "runSelect(\"select firstname, lastname, jobdesc from empl where lastname like '____i%'\")"
      ],
      "metadata": {
        "colab": {
          "base_uri": "https://localhost:8080/",
          "height": 143
        },
        "id": "pL7VPLo4b2g3",
        "outputId": "05dfe11a-0225-415a-c37d-fd6b37e5dea5"
      },
      "execution_count": 20,
      "outputs": [
        {
          "output_type": "execute_result",
          "data": {
            "text/plain": [
              "<pandas.io.formats.style.Styler at 0x7c7ee7ef84c0>"
            ],
            "text/html": [
              "<style type=\"text/css\">\n",
              "</style>\n",
              "<table id=\"T_10618\" class=\"dataframe\">\n",
              "  <thead>\n",
              "    <tr>\n",
              "      <th id=\"T_10618_level0_col0\" class=\"col_heading level0 col0\" >firstname</th>\n",
              "      <th id=\"T_10618_level0_col1\" class=\"col_heading level0 col1\" >lastname</th>\n",
              "      <th id=\"T_10618_level0_col2\" class=\"col_heading level0 col2\" >jobdesc</th>\n",
              "    </tr>\n",
              "  </thead>\n",
              "  <tbody>\n",
              "    <tr>\n",
              "      <td id=\"T_10618_row0_col0\" class=\"data row0 col0\" >Mahender</td>\n",
              "      <td id=\"T_10618_row0_col1\" class=\"data row0 col1\" >Dhoni</td>\n",
              "      <td id=\"T_10618_row0_col2\" class=\"data row0 col2\" >Clerk</td>\n",
              "    </tr>\n",
              "    <tr>\n",
              "      <td id=\"T_10618_row1_col0\" class=\"data row1 col0\" >Rahul</td>\n",
              "      <td id=\"T_10618_row1_col1\" class=\"data row1 col1\" >Dravid</td>\n",
              "      <td id=\"T_10618_row1_col2\" class=\"data row1 col2\" >Sr Manager</td>\n",
              "    </tr>\n",
              "    <tr>\n",
              "      <td id=\"T_10618_row2_col0\" class=\"data row2 col0\" >Jagmohan</td>\n",
              "      <td id=\"T_10618_row2_col1\" class=\"data row2 col1\" >Dalmia</td>\n",
              "      <td id=\"T_10618_row2_col2\" class=\"data row2 col2\" >Clerk</td>\n",
              "    </tr>\n",
              "  </tbody>\n",
              "</table>\n"
            ]
          },
          "metadata": {},
          "execution_count": 20
        }
      ]
    },
    {
      "cell_type": "markdown",
      "source": [
        "## Between"
      ],
      "metadata": {
        "id": "qw2h8Vtvey2R"
      }
    },
    {
      "cell_type": "code",
      "source": [
        "runSelect(\"select firstname, lastname, salary from empl where salary between 10000 and 20000\")"
      ],
      "metadata": {
        "colab": {
          "base_uri": "https://localhost:8080/",
          "height": 175
        },
        "id": "sI_qlRdXe7S8",
        "outputId": "aca97443-2d57-4b40-eec1-fbf91663212b"
      },
      "execution_count": 21,
      "outputs": [
        {
          "output_type": "execute_result",
          "data": {
            "text/plain": [
              "<pandas.io.formats.style.Styler at 0x7c7ee7ed1de0>"
            ],
            "text/html": [
              "<style type=\"text/css\">\n",
              "</style>\n",
              "<table id=\"T_ba659\" class=\"dataframe\">\n",
              "  <thead>\n",
              "    <tr>\n",
              "      <th id=\"T_ba659_level0_col0\" class=\"col_heading level0 col0\" >firstname</th>\n",
              "      <th id=\"T_ba659_level0_col1\" class=\"col_heading level0 col1\" >lastname</th>\n",
              "      <th id=\"T_ba659_level0_col2\" class=\"col_heading level0 col2\" >salary</th>\n",
              "    </tr>\n",
              "  </thead>\n",
              "  <tbody>\n",
              "    <tr>\n",
              "      <td id=\"T_ba659_row0_col0\" class=\"data row0 col0\" >Madhuri</td>\n",
              "      <td id=\"T_ba659_row0_col1\" class=\"data row0 col1\" >Dikshit</td>\n",
              "      <td id=\"T_ba659_row0_col2\" class=\"data row0 col2\" >10000</td>\n",
              "    </tr>\n",
              "    <tr>\n",
              "      <td id=\"T_ba659_row1_col0\" class=\"data row1 col0\" >Virender</td>\n",
              "      <td id=\"T_ba659_row1_col1\" class=\"data row1 col1\" >Sehwag</td>\n",
              "      <td id=\"T_ba659_row1_col2\" class=\"data row1 col2\" >15000</td>\n",
              "    </tr>\n",
              "    <tr>\n",
              "      <td id=\"T_ba659_row2_col0\" class=\"data row2 col0\" >Jagmohan</td>\n",
              "      <td id=\"T_ba659_row2_col1\" class=\"data row2 col1\" >Dalmia</td>\n",
              "      <td id=\"T_ba659_row2_col2\" class=\"data row2 col2\" >12000</td>\n",
              "    </tr>\n",
              "    <tr>\n",
              "      <td id=\"T_ba659_row3_col0\" class=\"data row3 col0\" >Sourav</td>\n",
              "      <td id=\"T_ba659_row3_col1\" class=\"data row3 col1\" >Ganguly</td>\n",
              "      <td id=\"T_ba659_row3_col2\" class=\"data row3 col2\" >20000</td>\n",
              "    </tr>\n",
              "  </tbody>\n",
              "</table>\n"
            ]
          },
          "metadata": {},
          "execution_count": 21
        }
      ]
    },
    {
      "cell_type": "code",
      "source": [
        "runSelect(\"select firstname, lastname, joindate from empl where joindate between '2004-01-01' and '2005-01-01'\")"
      ],
      "metadata": {
        "colab": {
          "base_uri": "https://localhost:8080/",
          "height": 112
        },
        "id": "b_mWyFTnfIEy",
        "outputId": "9ef105fc-fac9-496d-9e09-66c177d0f438"
      },
      "execution_count": 22,
      "outputs": [
        {
          "output_type": "execute_result",
          "data": {
            "text/plain": [
              "<pandas.io.formats.style.Styler at 0x7c7ee7efa5f0>"
            ],
            "text/html": [
              "<style type=\"text/css\">\n",
              "</style>\n",
              "<table id=\"T_14434\" class=\"dataframe\">\n",
              "  <thead>\n",
              "    <tr>\n",
              "      <th id=\"T_14434_level0_col0\" class=\"col_heading level0 col0\" >firstname</th>\n",
              "      <th id=\"T_14434_level0_col1\" class=\"col_heading level0 col1\" >lastname</th>\n",
              "      <th id=\"T_14434_level0_col2\" class=\"col_heading level0 col2\" >joindate</th>\n",
              "    </tr>\n",
              "  </thead>\n",
              "  <tbody>\n",
              "    <tr>\n",
              "      <td id=\"T_14434_row0_col0\" class=\"data row0 col0\" >Shahrukh</td>\n",
              "      <td id=\"T_14434_row0_col1\" class=\"data row0 col1\" >Khan</td>\n",
              "      <td id=\"T_14434_row0_col2\" class=\"data row0 col2\" >2004-01-03</td>\n",
              "    </tr>\n",
              "    <tr>\n",
              "      <td id=\"T_14434_row1_col0\" class=\"data row1 col0\" >Mahender</td>\n",
              "      <td id=\"T_14434_row1_col1\" class=\"data row1 col1\" >Dhoni</td>\n",
              "      <td id=\"T_14434_row1_col2\" class=\"data row1 col2\" >2004-10-09</td>\n",
              "    </tr>\n",
              "  </tbody>\n",
              "</table>\n"
            ]
          },
          "metadata": {},
          "execution_count": 22
        }
      ]
    },
    {
      "cell_type": "code",
      "source": [
        "runSelect(\"select firstname, lastname, joindate from empl where lastname between 'Dho' and 'Kha'\")"
      ],
      "metadata": {
        "colab": {
          "base_uri": "https://localhost:8080/",
          "height": 238
        },
        "id": "qXs9AeS2fwCS",
        "outputId": "3cb124e2-6c5b-4fb8-f9fd-37ff6bab77ce"
      },
      "execution_count": 23,
      "outputs": [
        {
          "output_type": "execute_result",
          "data": {
            "text/plain": [
              "<pandas.io.formats.style.Styler at 0x7c7ee7ed2e90>"
            ],
            "text/html": [
              "<style type=\"text/css\">\n",
              "</style>\n",
              "<table id=\"T_b87d7\" class=\"dataframe\">\n",
              "  <thead>\n",
              "    <tr>\n",
              "      <th id=\"T_b87d7_level0_col0\" class=\"col_heading level0 col0\" >firstname</th>\n",
              "      <th id=\"T_b87d7_level0_col1\" class=\"col_heading level0 col1\" >lastname</th>\n",
              "      <th id=\"T_b87d7_level0_col2\" class=\"col_heading level0 col2\" >joindate</th>\n",
              "    </tr>\n",
              "  </thead>\n",
              "  <tbody>\n",
              "    <tr>\n",
              "      <td id=\"T_b87d7_row0_col0\" class=\"data row0 col0\" >Madhuri</td>\n",
              "      <td id=\"T_b87d7_row0_col1\" class=\"data row0 col1\" >Dikshit</td>\n",
              "      <td id=\"T_b87d7_row0_col2\" class=\"data row0 col2\" >2002-04-04</td>\n",
              "    </tr>\n",
              "    <tr>\n",
              "      <td id=\"T_b87d7_row1_col0\" class=\"data row1 col0\" >Mahender</td>\n",
              "      <td id=\"T_b87d7_row1_col1\" class=\"data row1 col1\" >Dhoni</td>\n",
              "      <td id=\"T_b87d7_row1_col2\" class=\"data row1 col2\" >2004-10-09</td>\n",
              "    </tr>\n",
              "    <tr>\n",
              "      <td id=\"T_b87d7_row2_col0\" class=\"data row2 col0\" >Rahul</td>\n",
              "      <td id=\"T_b87d7_row2_col1\" class=\"data row2 col1\" >Dravid</td>\n",
              "      <td id=\"T_b87d7_row2_col2\" class=\"data row2 col2\" >2000-06-04</td>\n",
              "    </tr>\n",
              "    <tr>\n",
              "      <td id=\"T_b87d7_row3_col0\" class=\"data row3 col0\" >Sourav</td>\n",
              "      <td id=\"T_b87d7_row3_col1\" class=\"data row3 col1\" >Ganguly</td>\n",
              "      <td id=\"T_b87d7_row3_col2\" class=\"data row3 col2\" >2002-01-01</td>\n",
              "    </tr>\n",
              "    <tr>\n",
              "      <td id=\"T_b87d7_row4_col0\" class=\"data row4 col0\" >Rekha</td>\n",
              "      <td id=\"T_b87d7_row4_col1\" class=\"data row4 col1\" >Ganesan</td>\n",
              "      <td id=\"T_b87d7_row4_col2\" class=\"data row4 col2\" >2002-10-10</td>\n",
              "    </tr>\n",
              "    <tr>\n",
              "      <td id=\"T_b87d7_row5_col0\" class=\"data row5 col0\" >Narayan</td>\n",
              "      <td id=\"T_b87d7_row5_col1\" class=\"data row5 col1\" >Karthikeyan</td>\n",
              "      <td id=\"T_b87d7_row5_col2\" class=\"data row5 col2\" >2005-12-04</td>\n",
              "    </tr>\n",
              "  </tbody>\n",
              "</table>\n"
            ]
          },
          "metadata": {},
          "execution_count": 23
        }
      ]
    },
    {
      "cell_type": "markdown",
      "source": [
        "## IN"
      ],
      "metadata": {
        "id": "azhy0TQLiLy-"
      }
    },
    {
      "cell_type": "code",
      "source": [
        "runSelect(\"select firstname, lastname, deptid from empl where deptid in ('30','20','70')\")"
      ],
      "metadata": {
        "colab": {
          "base_uri": "https://localhost:8080/",
          "height": 269
        },
        "id": "UyBE-FuoibSZ",
        "outputId": "4cda460a-7c51-4fba-e70e-4c7fe44fd377"
      },
      "execution_count": 24,
      "outputs": [
        {
          "output_type": "execute_result",
          "data": {
            "text/plain": [
              "<pandas.io.formats.style.Styler at 0x7c7ee7efa2f0>"
            ],
            "text/html": [
              "<style type=\"text/css\">\n",
              "</style>\n",
              "<table id=\"T_e4238\" class=\"dataframe\">\n",
              "  <thead>\n",
              "    <tr>\n",
              "      <th id=\"T_e4238_level0_col0\" class=\"col_heading level0 col0\" >firstname</th>\n",
              "      <th id=\"T_e4238_level0_col1\" class=\"col_heading level0 col1\" >lastname</th>\n",
              "      <th id=\"T_e4238_level0_col2\" class=\"col_heading level0 col2\" >deptid</th>\n",
              "    </tr>\n",
              "  </thead>\n",
              "  <tbody>\n",
              "    <tr>\n",
              "      <td id=\"T_e4238_row0_col0\" class=\"data row0 col0\" >Madhuri</td>\n",
              "      <td id=\"T_e4238_row0_col1\" class=\"data row0 col1\" >Dikshit</td>\n",
              "      <td id=\"T_e4238_row0_col2\" class=\"data row0 col2\" >20</td>\n",
              "    </tr>\n",
              "    <tr>\n",
              "      <td id=\"T_e4238_row1_col0\" class=\"data row1 col0\" >Shahrukh</td>\n",
              "      <td id=\"T_e4238_row1_col1\" class=\"data row1 col1\" >Khan</td>\n",
              "      <td id=\"T_e4238_row1_col2\" class=\"data row1 col2\" >20</td>\n",
              "    </tr>\n",
              "    <tr>\n",
              "      <td id=\"T_e4238_row2_col0\" class=\"data row2 col0\" >Virender</td>\n",
              "      <td id=\"T_e4238_row2_col1\" class=\"data row2 col1\" >Sehwag</td>\n",
              "      <td id=\"T_e4238_row2_col2\" class=\"data row2 col2\" >20</td>\n",
              "    </tr>\n",
              "    <tr>\n",
              "      <td id=\"T_e4238_row3_col0\" class=\"data row3 col0\" >Rahul</td>\n",
              "      <td id=\"T_e4238_row3_col1\" class=\"data row3 col1\" >Dravid</td>\n",
              "      <td id=\"T_e4238_row3_col2\" class=\"data row3 col2\" >30</td>\n",
              "    </tr>\n",
              "    <tr>\n",
              "      <td id=\"T_e4238_row4_col0\" class=\"data row4 col0\" >Jagmohan</td>\n",
              "      <td id=\"T_e4238_row4_col1\" class=\"data row4 col1\" >Dalmia</td>\n",
              "      <td id=\"T_e4238_row4_col2\" class=\"data row4 col2\" >30</td>\n",
              "    </tr>\n",
              "    <tr>\n",
              "      <td id=\"T_e4238_row5_col0\" class=\"data row5 col0\" >Chettri</td>\n",
              "      <td id=\"T_e4238_row5_col1\" class=\"data row5 col1\" >Sunil</td>\n",
              "      <td id=\"T_e4238_row5_col2\" class=\"data row5 col2\" >70</td>\n",
              "    </tr>\n",
              "    <tr>\n",
              "      <td id=\"T_e4238_row6_col0\" class=\"data row6 col0\" >Sania</td>\n",
              "      <td id=\"T_e4238_row6_col1\" class=\"data row6 col1\" >Mirza</td>\n",
              "      <td id=\"T_e4238_row6_col2\" class=\"data row6 col2\" >30</td>\n",
              "    </tr>\n",
              "  </tbody>\n",
              "</table>\n"
            ]
          },
          "metadata": {},
          "execution_count": 24
        }
      ]
    },
    {
      "cell_type": "code",
      "source": [
        "runSelect(\"select firstname, lastname, salary from empl where firstname in ('Madhuri','Shahrukh','Virender')\")"
      ],
      "metadata": {
        "colab": {
          "base_uri": "https://localhost:8080/",
          "height": 143
        },
        "id": "9qTEO-OuiN3A",
        "outputId": "2a45f5f4-5c59-49b0-abfa-764d10daff3b"
      },
      "execution_count": 25,
      "outputs": [
        {
          "output_type": "execute_result",
          "data": {
            "text/plain": [
              "<pandas.io.formats.style.Styler at 0x7c7ee7ef9900>"
            ],
            "text/html": [
              "<style type=\"text/css\">\n",
              "</style>\n",
              "<table id=\"T_4078d\" class=\"dataframe\">\n",
              "  <thead>\n",
              "    <tr>\n",
              "      <th id=\"T_4078d_level0_col0\" class=\"col_heading level0 col0\" >firstname</th>\n",
              "      <th id=\"T_4078d_level0_col1\" class=\"col_heading level0 col1\" >lastname</th>\n",
              "      <th id=\"T_4078d_level0_col2\" class=\"col_heading level0 col2\" >salary</th>\n",
              "    </tr>\n",
              "  </thead>\n",
              "  <tbody>\n",
              "    <tr>\n",
              "      <td id=\"T_4078d_row0_col0\" class=\"data row0 col0\" >Madhuri</td>\n",
              "      <td id=\"T_4078d_row0_col1\" class=\"data row0 col1\" >Dikshit</td>\n",
              "      <td id=\"T_4078d_row0_col2\" class=\"data row0 col2\" >10000</td>\n",
              "    </tr>\n",
              "    <tr>\n",
              "      <td id=\"T_4078d_row1_col0\" class=\"data row1 col0\" >Shahrukh</td>\n",
              "      <td id=\"T_4078d_row1_col1\" class=\"data row1 col1\" >Khan</td>\n",
              "      <td id=\"T_4078d_row1_col2\" class=\"data row1 col2\" >30000</td>\n",
              "    </tr>\n",
              "    <tr>\n",
              "      <td id=\"T_4078d_row2_col0\" class=\"data row2 col0\" >Virender</td>\n",
              "      <td id=\"T_4078d_row2_col1\" class=\"data row2 col1\" >Sehwag</td>\n",
              "      <td id=\"T_4078d_row2_col2\" class=\"data row2 col2\" >15000</td>\n",
              "    </tr>\n",
              "  </tbody>\n",
              "</table>\n"
            ]
          },
          "metadata": {},
          "execution_count": 25
        }
      ]
    },
    {
      "cell_type": "markdown",
      "source": [
        "## Order by"
      ],
      "metadata": {
        "id": "vlOCT_zAkzMb"
      }
    },
    {
      "cell_type": "code",
      "source": [
        "runSelect(\"select firstname, lastname, joindate from empl where firstname in ('Madhuri','Shahrukh','Virender') order by joindate\")"
      ],
      "metadata": {
        "colab": {
          "base_uri": "https://localhost:8080/",
          "height": 143
        },
        "id": "WidoGzLVk1in",
        "outputId": "86f3000a-ec0b-4425-8e08-2fd333864555"
      },
      "execution_count": 26,
      "outputs": [
        {
          "output_type": "execute_result",
          "data": {
            "text/plain": [
              "<pandas.io.formats.style.Styler at 0x7c7ee7efbaf0>"
            ],
            "text/html": [
              "<style type=\"text/css\">\n",
              "</style>\n",
              "<table id=\"T_2d005\" class=\"dataframe\">\n",
              "  <thead>\n",
              "    <tr>\n",
              "      <th id=\"T_2d005_level0_col0\" class=\"col_heading level0 col0\" >firstname</th>\n",
              "      <th id=\"T_2d005_level0_col1\" class=\"col_heading level0 col1\" >lastname</th>\n",
              "      <th id=\"T_2d005_level0_col2\" class=\"col_heading level0 col2\" >joindate</th>\n",
              "    </tr>\n",
              "  </thead>\n",
              "  <tbody>\n",
              "    <tr>\n",
              "      <td id=\"T_2d005_row0_col0\" class=\"data row0 col0\" >Madhuri</td>\n",
              "      <td id=\"T_2d005_row0_col1\" class=\"data row0 col1\" >Dikshit</td>\n",
              "      <td id=\"T_2d005_row0_col2\" class=\"data row0 col2\" >2002-04-04</td>\n",
              "    </tr>\n",
              "    <tr>\n",
              "      <td id=\"T_2d005_row1_col0\" class=\"data row1 col0\" >Shahrukh</td>\n",
              "      <td id=\"T_2d005_row1_col1\" class=\"data row1 col1\" >Khan</td>\n",
              "      <td id=\"T_2d005_row1_col2\" class=\"data row1 col2\" >2004-01-03</td>\n",
              "    </tr>\n",
              "    <tr>\n",
              "      <td id=\"T_2d005_row2_col0\" class=\"data row2 col0\" >Virender</td>\n",
              "      <td id=\"T_2d005_row2_col1\" class=\"data row2 col1\" >Sehwag</td>\n",
              "      <td id=\"T_2d005_row2_col2\" class=\"data row2 col2\" >2005-01-02</td>\n",
              "    </tr>\n",
              "  </tbody>\n",
              "</table>\n"
            ]
          },
          "metadata": {},
          "execution_count": 26
        }
      ]
    },
    {
      "cell_type": "code",
      "source": [
        "runSelect(\"select firstname, lastname, jobdesc, salary, deptid from empl where deptid = '10' order by salary desc\")"
      ],
      "metadata": {
        "colab": {
          "base_uri": "https://localhost:8080/",
          "height": 143
        },
        "id": "Iq_7jWr-lRlO",
        "outputId": "908fd13b-c838-463d-8073-49c536fa0fbd"
      },
      "execution_count": 27,
      "outputs": [
        {
          "output_type": "execute_result",
          "data": {
            "text/plain": [
              "<pandas.io.formats.style.Styler at 0x7c7ee7efb940>"
            ],
            "text/html": [
              "<style type=\"text/css\">\n",
              "</style>\n",
              "<table id=\"T_b2fc7\" class=\"dataframe\">\n",
              "  <thead>\n",
              "    <tr>\n",
              "      <th id=\"T_b2fc7_level0_col0\" class=\"col_heading level0 col0\" >firstname</th>\n",
              "      <th id=\"T_b2fc7_level0_col1\" class=\"col_heading level0 col1\" >lastname</th>\n",
              "      <th id=\"T_b2fc7_level0_col2\" class=\"col_heading level0 col2\" >jobdesc</th>\n",
              "      <th id=\"T_b2fc7_level0_col3\" class=\"col_heading level0 col3\" >salary</th>\n",
              "      <th id=\"T_b2fc7_level0_col4\" class=\"col_heading level0 col4\" >deptid</th>\n",
              "    </tr>\n",
              "  </thead>\n",
              "  <tbody>\n",
              "    <tr>\n",
              "      <td id=\"T_b2fc7_row0_col0\" class=\"data row0 col0\" >Rekha</td>\n",
              "      <td id=\"T_b2fc7_row0_col1\" class=\"data row0 col1\" >Ganesan</td>\n",
              "      <td id=\"T_b2fc7_row0_col2\" class=\"data row0 col2\" >Director</td>\n",
              "      <td id=\"T_b2fc7_row0_col3\" class=\"data row0 col3\" >60000</td>\n",
              "      <td id=\"T_b2fc7_row0_col4\" class=\"data row0 col4\" >10</td>\n",
              "    </tr>\n",
              "    <tr>\n",
              "      <td id=\"T_b2fc7_row1_col0\" class=\"data row1 col0\" >Amitabh</td>\n",
              "      <td id=\"T_b2fc7_row1_col1\" class=\"data row1 col1\" >Bacchan</td>\n",
              "      <td id=\"T_b2fc7_row1_col2\" class=\"data row1 col2\" >Executive</td>\n",
              "      <td id=\"T_b2fc7_row1_col3\" class=\"data row1 col3\" >50000</td>\n",
              "      <td id=\"T_b2fc7_row1_col4\" class=\"data row1 col4\" >10</td>\n",
              "    </tr>\n",
              "    <tr>\n",
              "      <td id=\"T_b2fc7_row2_col0\" class=\"data row2 col0\" >Narayan</td>\n",
              "      <td id=\"T_b2fc7_row2_col1\" class=\"data row2 col1\" >Karthikeyan</td>\n",
              "      <td id=\"T_b2fc7_row2_col2\" class=\"data row2 col2\" >Secretary</td>\n",
              "      <td id=\"T_b2fc7_row2_col3\" class=\"data row2 col3\" >40000</td>\n",
              "      <td id=\"T_b2fc7_row2_col4\" class=\"data row2 col4\" >10</td>\n",
              "    </tr>\n",
              "  </tbody>\n",
              "</table>\n"
            ]
          },
          "metadata": {},
          "execution_count": 27
        }
      ]
    },
    {
      "cell_type": "markdown",
      "source": [
        "## Logical AND | OR"
      ],
      "metadata": {
        "id": "-JDEmZtsm0o1"
      }
    },
    {
      "cell_type": "code",
      "source": [
        "runSelect(\"select lastname, jobdesc, salary, deptid from empl where deptid = '20'\")"
      ],
      "metadata": {
        "colab": {
          "base_uri": "https://localhost:8080/",
          "height": 143
        },
        "id": "rli0DBhIm54M",
        "outputId": "d95bd549-f92a-4495-b245-b6b09ec40734"
      },
      "execution_count": 28,
      "outputs": [
        {
          "output_type": "execute_result",
          "data": {
            "text/plain": [
              "<pandas.io.formats.style.Styler at 0x7c7ee7f184c0>"
            ],
            "text/html": [
              "<style type=\"text/css\">\n",
              "</style>\n",
              "<table id=\"T_99755\" class=\"dataframe\">\n",
              "  <thead>\n",
              "    <tr>\n",
              "      <th id=\"T_99755_level0_col0\" class=\"col_heading level0 col0\" >lastname</th>\n",
              "      <th id=\"T_99755_level0_col1\" class=\"col_heading level0 col1\" >jobdesc</th>\n",
              "      <th id=\"T_99755_level0_col2\" class=\"col_heading level0 col2\" >salary</th>\n",
              "      <th id=\"T_99755_level0_col3\" class=\"col_heading level0 col3\" >deptid</th>\n",
              "    </tr>\n",
              "  </thead>\n",
              "  <tbody>\n",
              "    <tr>\n",
              "      <td id=\"T_99755_row0_col0\" class=\"data row0 col0\" >Dikshit</td>\n",
              "      <td id=\"T_99755_row0_col1\" class=\"data row0 col1\" >Clerk</td>\n",
              "      <td id=\"T_99755_row0_col2\" class=\"data row0 col2\" >10000</td>\n",
              "      <td id=\"T_99755_row0_col3\" class=\"data row0 col3\" >20</td>\n",
              "    </tr>\n",
              "    <tr>\n",
              "      <td id=\"T_99755_row1_col0\" class=\"data row1 col0\" >Khan</td>\n",
              "      <td id=\"T_99755_row1_col1\" class=\"data row1 col1\" >Manager</td>\n",
              "      <td id=\"T_99755_row1_col2\" class=\"data row1 col2\" >30000</td>\n",
              "      <td id=\"T_99755_row1_col3\" class=\"data row1 col3\" >20</td>\n",
              "    </tr>\n",
              "    <tr>\n",
              "      <td id=\"T_99755_row2_col0\" class=\"data row2 col0\" >Sehwag</td>\n",
              "      <td id=\"T_99755_row2_col1\" class=\"data row2 col1\" >Cus_Rep</td>\n",
              "      <td id=\"T_99755_row2_col2\" class=\"data row2 col2\" >15000</td>\n",
              "      <td id=\"T_99755_row2_col3\" class=\"data row2 col3\" >20</td>\n",
              "    </tr>\n",
              "  </tbody>\n",
              "</table>\n"
            ]
          },
          "metadata": {},
          "execution_count": 28
        }
      ]
    },
    {
      "cell_type": "code",
      "source": [
        "runSelect(\"select lastname, jobdesc, salary, deptid from empl where deptid = '20' and salary > 10000\")"
      ],
      "metadata": {
        "colab": {
          "base_uri": "https://localhost:8080/",
          "height": 112
        },
        "id": "wHIJoUGqnuwa",
        "outputId": "7178ebfb-c986-403b-8b6b-14a4bc113e03"
      },
      "execution_count": 29,
      "outputs": [
        {
          "output_type": "execute_result",
          "data": {
            "text/plain": [
              "<pandas.io.formats.style.Styler at 0x7c7ee7f18760>"
            ],
            "text/html": [
              "<style type=\"text/css\">\n",
              "</style>\n",
              "<table id=\"T_31218\" class=\"dataframe\">\n",
              "  <thead>\n",
              "    <tr>\n",
              "      <th id=\"T_31218_level0_col0\" class=\"col_heading level0 col0\" >lastname</th>\n",
              "      <th id=\"T_31218_level0_col1\" class=\"col_heading level0 col1\" >jobdesc</th>\n",
              "      <th id=\"T_31218_level0_col2\" class=\"col_heading level0 col2\" >salary</th>\n",
              "      <th id=\"T_31218_level0_col3\" class=\"col_heading level0 col3\" >deptid</th>\n",
              "    </tr>\n",
              "  </thead>\n",
              "  <tbody>\n",
              "    <tr>\n",
              "      <td id=\"T_31218_row0_col0\" class=\"data row0 col0\" >Khan</td>\n",
              "      <td id=\"T_31218_row0_col1\" class=\"data row0 col1\" >Manager</td>\n",
              "      <td id=\"T_31218_row0_col2\" class=\"data row0 col2\" >30000</td>\n",
              "      <td id=\"T_31218_row0_col3\" class=\"data row0 col3\" >20</td>\n",
              "    </tr>\n",
              "    <tr>\n",
              "      <td id=\"T_31218_row1_col0\" class=\"data row1 col0\" >Sehwag</td>\n",
              "      <td id=\"T_31218_row1_col1\" class=\"data row1 col1\" >Cus_Rep</td>\n",
              "      <td id=\"T_31218_row1_col2\" class=\"data row1 col2\" >15000</td>\n",
              "      <td id=\"T_31218_row1_col3\" class=\"data row1 col3\" >20</td>\n",
              "    </tr>\n",
              "  </tbody>\n",
              "</table>\n"
            ]
          },
          "metadata": {},
          "execution_count": 29
        }
      ]
    },
    {
      "cell_type": "code",
      "source": [
        "runSelect(\"select lastname, jobdesc, salary, deptid from empl where deptid = '20' and salary > 10000 and jobdesc = 'Clerk'\")"
      ],
      "metadata": {
        "colab": {
          "base_uri": "https://localhost:8080/"
        },
        "id": "fnB8p8-EnzH2",
        "outputId": "fa642e9b-d906-4f76-84a6-a9bfab974d58"
      },
      "execution_count": 30,
      "outputs": [
        {
          "output_type": "stream",
          "name": "stdout",
          "text": [
            "no records found\n"
          ]
        }
      ]
    },
    {
      "cell_type": "code",
      "source": [
        "runSelect(\"select lastname, jobdesc, deptid from empl where deptid = '70'\")"
      ],
      "metadata": {
        "colab": {
          "base_uri": "https://localhost:8080/",
          "height": 81
        },
        "id": "uEKUIgOMqtLw",
        "outputId": "ac178c53-3414-478b-9480-d7da53127f0d"
      },
      "execution_count": 31,
      "outputs": [
        {
          "output_type": "execute_result",
          "data": {
            "text/plain": [
              "<pandas.io.formats.style.Styler at 0x7c7ee7ed3880>"
            ],
            "text/html": [
              "<style type=\"text/css\">\n",
              "</style>\n",
              "<table id=\"T_06bd9\" class=\"dataframe\">\n",
              "  <thead>\n",
              "    <tr>\n",
              "      <th id=\"T_06bd9_level0_col0\" class=\"col_heading level0 col0\" >lastname</th>\n",
              "      <th id=\"T_06bd9_level0_col1\" class=\"col_heading level0 col1\" >jobdesc</th>\n",
              "      <th id=\"T_06bd9_level0_col2\" class=\"col_heading level0 col2\" >deptid</th>\n",
              "    </tr>\n",
              "  </thead>\n",
              "  <tbody>\n",
              "    <tr>\n",
              "      <td id=\"T_06bd9_row0_col0\" class=\"data row0 col0\" >Sunil</td>\n",
              "      <td id=\"T_06bd9_row0_col1\" class=\"data row0 col1\" >Dy Manager</td>\n",
              "      <td id=\"T_06bd9_row0_col2\" class=\"data row0 col2\" >70</td>\n",
              "    </tr>\n",
              "  </tbody>\n",
              "</table>\n"
            ]
          },
          "metadata": {},
          "execution_count": 31
        }
      ]
    },
    {
      "cell_type": "code",
      "source": [
        "runSelect(\"select lastname, jobdesc, deptid from empl where deptid = '70' or jobdesc like '%Manager'\")"
      ],
      "metadata": {
        "colab": {
          "base_uri": "https://localhost:8080/",
          "height": 175
        },
        "id": "Ne0eLRV3qyTn",
        "outputId": "394ef95b-b0d2-46aa-8bb5-9c4ed516281c"
      },
      "execution_count": 32,
      "outputs": [
        {
          "output_type": "execute_result",
          "data": {
            "text/plain": [
              "<pandas.io.formats.style.Styler at 0x7c7ee7efac20>"
            ],
            "text/html": [
              "<style type=\"text/css\">\n",
              "</style>\n",
              "<table id=\"T_15b5d\" class=\"dataframe\">\n",
              "  <thead>\n",
              "    <tr>\n",
              "      <th id=\"T_15b5d_level0_col0\" class=\"col_heading level0 col0\" >lastname</th>\n",
              "      <th id=\"T_15b5d_level0_col1\" class=\"col_heading level0 col1\" >jobdesc</th>\n",
              "      <th id=\"T_15b5d_level0_col2\" class=\"col_heading level0 col2\" >deptid</th>\n",
              "    </tr>\n",
              "  </thead>\n",
              "  <tbody>\n",
              "    <tr>\n",
              "      <td id=\"T_15b5d_row0_col0\" class=\"data row0 col0\" >Mukherjee</td>\n",
              "      <td id=\"T_15b5d_row0_col1\" class=\"data row0 col1\" >Manager</td>\n",
              "      <td id=\"T_15b5d_row0_col2\" class=\"data row0 col2\" >40</td>\n",
              "    </tr>\n",
              "    <tr>\n",
              "      <td id=\"T_15b5d_row1_col0\" class=\"data row1 col0\" >Khan</td>\n",
              "      <td id=\"T_15b5d_row1_col1\" class=\"data row1 col1\" >Manager</td>\n",
              "      <td id=\"T_15b5d_row1_col2\" class=\"data row1 col2\" >20</td>\n",
              "    </tr>\n",
              "    <tr>\n",
              "      <td id=\"T_15b5d_row2_col0\" class=\"data row2 col0\" >Dravid</td>\n",
              "      <td id=\"T_15b5d_row2_col1\" class=\"data row2 col1\" >Sr Manager</td>\n",
              "      <td id=\"T_15b5d_row2_col2\" class=\"data row2 col2\" >30</td>\n",
              "    </tr>\n",
              "    <tr>\n",
              "      <td id=\"T_15b5d_row3_col0\" class=\"data row3 col0\" >Sunil</td>\n",
              "      <td id=\"T_15b5d_row3_col1\" class=\"data row3 col1\" >Dy Manager</td>\n",
              "      <td id=\"T_15b5d_row3_col2\" class=\"data row3 col2\" >70</td>\n",
              "    </tr>\n",
              "  </tbody>\n",
              "</table>\n"
            ]
          },
          "metadata": {},
          "execution_count": 32
        }
      ]
    },
    {
      "cell_type": "code",
      "source": [
        "runSelect(\"select lastname, jobdesc, deptid from empl where deptid = '70' or jobdesc like '%Manager' or lastname = 'Dikshit'\")"
      ],
      "metadata": {
        "colab": {
          "base_uri": "https://localhost:8080/",
          "height": 206
        },
        "id": "aR3eNz7xq8Xo",
        "outputId": "26754ad3-1d1d-4b5c-a4f1-c0a512a4b717"
      },
      "execution_count": 33,
      "outputs": [
        {
          "output_type": "execute_result",
          "data": {
            "text/plain": [
              "<pandas.io.formats.style.Styler at 0x7c7ee7ef9d80>"
            ],
            "text/html": [
              "<style type=\"text/css\">\n",
              "</style>\n",
              "<table id=\"T_990ba\" class=\"dataframe\">\n",
              "  <thead>\n",
              "    <tr>\n",
              "      <th id=\"T_990ba_level0_col0\" class=\"col_heading level0 col0\" >lastname</th>\n",
              "      <th id=\"T_990ba_level0_col1\" class=\"col_heading level0 col1\" >jobdesc</th>\n",
              "      <th id=\"T_990ba_level0_col2\" class=\"col_heading level0 col2\" >deptid</th>\n",
              "    </tr>\n",
              "  </thead>\n",
              "  <tbody>\n",
              "    <tr>\n",
              "      <td id=\"T_990ba_row0_col0\" class=\"data row0 col0\" >Mukherjee</td>\n",
              "      <td id=\"T_990ba_row0_col1\" class=\"data row0 col1\" >Manager</td>\n",
              "      <td id=\"T_990ba_row0_col2\" class=\"data row0 col2\" >40</td>\n",
              "    </tr>\n",
              "    <tr>\n",
              "      <td id=\"T_990ba_row1_col0\" class=\"data row1 col0\" >Dikshit</td>\n",
              "      <td id=\"T_990ba_row1_col1\" class=\"data row1 col1\" >Clerk</td>\n",
              "      <td id=\"T_990ba_row1_col2\" class=\"data row1 col2\" >20</td>\n",
              "    </tr>\n",
              "    <tr>\n",
              "      <td id=\"T_990ba_row2_col0\" class=\"data row2 col0\" >Khan</td>\n",
              "      <td id=\"T_990ba_row2_col1\" class=\"data row2 col1\" >Manager</td>\n",
              "      <td id=\"T_990ba_row2_col2\" class=\"data row2 col2\" >20</td>\n",
              "    </tr>\n",
              "    <tr>\n",
              "      <td id=\"T_990ba_row3_col0\" class=\"data row3 col0\" >Dravid</td>\n",
              "      <td id=\"T_990ba_row3_col1\" class=\"data row3 col1\" >Sr Manager</td>\n",
              "      <td id=\"T_990ba_row3_col2\" class=\"data row3 col2\" >30</td>\n",
              "    </tr>\n",
              "    <tr>\n",
              "      <td id=\"T_990ba_row4_col0\" class=\"data row4 col0\" >Sunil</td>\n",
              "      <td id=\"T_990ba_row4_col1\" class=\"data row4 col1\" >Dy Manager</td>\n",
              "      <td id=\"T_990ba_row4_col2\" class=\"data row4 col2\" >70</td>\n",
              "    </tr>\n",
              "  </tbody>\n",
              "</table>\n"
            ]
          },
          "metadata": {},
          "execution_count": 33
        }
      ]
    },
    {
      "cell_type": "code",
      "source": [
        "runSelect(\"select lastname, jobdesc, salary from empl where jobdesc = 'Cus_Rep' or jobdesc = 'Clerk' and salary < 16000\")"
      ],
      "metadata": {
        "colab": {
          "base_uri": "https://localhost:8080/",
          "height": 238
        },
        "id": "Ov0HErC0txm4",
        "outputId": "f15185d4-36e1-484b-c7a3-1918c9f3969c"
      },
      "execution_count": 34,
      "outputs": [
        {
          "output_type": "execute_result",
          "data": {
            "text/plain": [
              "<pandas.io.formats.style.Styler at 0x7c7ee7f1a7a0>"
            ],
            "text/html": [
              "<style type=\"text/css\">\n",
              "</style>\n",
              "<table id=\"T_e26e1\" class=\"dataframe\">\n",
              "  <thead>\n",
              "    <tr>\n",
              "      <th id=\"T_e26e1_level0_col0\" class=\"col_heading level0 col0\" >lastname</th>\n",
              "      <th id=\"T_e26e1_level0_col1\" class=\"col_heading level0 col1\" >jobdesc</th>\n",
              "      <th id=\"T_e26e1_level0_col2\" class=\"col_heading level0 col2\" >salary</th>\n",
              "    </tr>\n",
              "  </thead>\n",
              "  <tbody>\n",
              "    <tr>\n",
              "      <td id=\"T_e26e1_row0_col0\" class=\"data row0 col0\" >Dikshit</td>\n",
              "      <td id=\"T_e26e1_row0_col1\" class=\"data row0 col1\" >Clerk</td>\n",
              "      <td id=\"T_e26e1_row0_col2\" class=\"data row0 col2\" >10000</td>\n",
              "    </tr>\n",
              "    <tr>\n",
              "      <td id=\"T_e26e1_row1_col0\" class=\"data row1 col0\" >Sehwag</td>\n",
              "      <td id=\"T_e26e1_row1_col1\" class=\"data row1 col1\" >Cus_Rep</td>\n",
              "      <td id=\"T_e26e1_row1_col2\" class=\"data row1 col2\" >15000</td>\n",
              "    </tr>\n",
              "    <tr>\n",
              "      <td id=\"T_e26e1_row2_col0\" class=\"data row2 col0\" >Dhoni</td>\n",
              "      <td id=\"T_e26e1_row2_col1\" class=\"data row2 col1\" >Clerk</td>\n",
              "      <td id=\"T_e26e1_row2_col2\" class=\"data row2 col2\" >9000</td>\n",
              "    </tr>\n",
              "    <tr>\n",
              "      <td id=\"T_e26e1_row3_col0\" class=\"data row3 col0\" >Dalmia</td>\n",
              "      <td id=\"T_e26e1_row3_col1\" class=\"data row3 col1\" >Clerk</td>\n",
              "      <td id=\"T_e26e1_row3_col2\" class=\"data row3 col2\" >12000</td>\n",
              "    </tr>\n",
              "    <tr>\n",
              "      <td id=\"T_e26e1_row4_col0\" class=\"data row4 col0\" >Ganguly</td>\n",
              "      <td id=\"T_e26e1_row4_col1\" class=\"data row4 col1\" >Cus_Rep</td>\n",
              "      <td id=\"T_e26e1_row4_col2\" class=\"data row4 col2\" >20000</td>\n",
              "    </tr>\n",
              "    <tr>\n",
              "      <td id=\"T_e26e1_row5_col0\" class=\"data row5 col0\" >Mirza</td>\n",
              "      <td id=\"T_e26e1_row5_col1\" class=\"data row5 col1\" >Cus_Rep</td>\n",
              "      <td id=\"T_e26e1_row5_col2\" class=\"data row5 col2\" >25000</td>\n",
              "    </tr>\n",
              "  </tbody>\n",
              "</table>\n"
            ]
          },
          "metadata": {},
          "execution_count": 34
        }
      ]
    },
    {
      "cell_type": "code",
      "source": [
        "runSelect(\"select lastname, jobdesc, salary from empl where (jobdesc = 'Cus_Rep' or jobdesc = 'Clerk') and salary < 16000\")"
      ],
      "metadata": {
        "colab": {
          "base_uri": "https://localhost:8080/",
          "height": 175
        },
        "id": "g7hbzjdxuOt6",
        "outputId": "8ee85286-c42f-42b1-8eef-57533c2dc000"
      },
      "execution_count": 35,
      "outputs": [
        {
          "output_type": "execute_result",
          "data": {
            "text/plain": [
              "<pandas.io.formats.style.Styler at 0x7c7ee7efacb0>"
            ],
            "text/html": [
              "<style type=\"text/css\">\n",
              "</style>\n",
              "<table id=\"T_44b5b\" class=\"dataframe\">\n",
              "  <thead>\n",
              "    <tr>\n",
              "      <th id=\"T_44b5b_level0_col0\" class=\"col_heading level0 col0\" >lastname</th>\n",
              "      <th id=\"T_44b5b_level0_col1\" class=\"col_heading level0 col1\" >jobdesc</th>\n",
              "      <th id=\"T_44b5b_level0_col2\" class=\"col_heading level0 col2\" >salary</th>\n",
              "    </tr>\n",
              "  </thead>\n",
              "  <tbody>\n",
              "    <tr>\n",
              "      <td id=\"T_44b5b_row0_col0\" class=\"data row0 col0\" >Dikshit</td>\n",
              "      <td id=\"T_44b5b_row0_col1\" class=\"data row0 col1\" >Clerk</td>\n",
              "      <td id=\"T_44b5b_row0_col2\" class=\"data row0 col2\" >10000</td>\n",
              "    </tr>\n",
              "    <tr>\n",
              "      <td id=\"T_44b5b_row1_col0\" class=\"data row1 col0\" >Sehwag</td>\n",
              "      <td id=\"T_44b5b_row1_col1\" class=\"data row1 col1\" >Cus_Rep</td>\n",
              "      <td id=\"T_44b5b_row1_col2\" class=\"data row1 col2\" >15000</td>\n",
              "    </tr>\n",
              "    <tr>\n",
              "      <td id=\"T_44b5b_row2_col0\" class=\"data row2 col0\" >Dhoni</td>\n",
              "      <td id=\"T_44b5b_row2_col1\" class=\"data row2 col1\" >Clerk</td>\n",
              "      <td id=\"T_44b5b_row2_col2\" class=\"data row2 col2\" >9000</td>\n",
              "    </tr>\n",
              "    <tr>\n",
              "      <td id=\"T_44b5b_row3_col0\" class=\"data row3 col0\" >Dalmia</td>\n",
              "      <td id=\"T_44b5b_row3_col1\" class=\"data row3 col1\" >Clerk</td>\n",
              "      <td id=\"T_44b5b_row3_col2\" class=\"data row3 col2\" >12000</td>\n",
              "    </tr>\n",
              "  </tbody>\n",
              "</table>\n"
            ]
          },
          "metadata": {},
          "execution_count": 35
        }
      ]
    },
    {
      "cell_type": "markdown",
      "source": [
        "# Single Row Functions"
      ],
      "metadata": {
        "id": "ND-8LYQcxsG2"
      }
    },
    {
      "cell_type": "code",
      "source": [
        "runSelect(\"select lastname, deptid, salary, comm, salary+salary*comm payout from empl where deptid = '20'\")"
      ],
      "metadata": {
        "colab": {
          "base_uri": "https://localhost:8080/",
          "height": 143
        },
        "id": "s71weE_hyDwf",
        "outputId": "8201d4c7-0a29-4589-a507-03852d84422d"
      },
      "execution_count": 36,
      "outputs": [
        {
          "output_type": "execute_result",
          "data": {
            "text/plain": [
              "<pandas.io.formats.style.Styler at 0x7c7ee7f18e50>"
            ],
            "text/html": [
              "<style type=\"text/css\">\n",
              "</style>\n",
              "<table id=\"T_f0748\" class=\"dataframe\">\n",
              "  <thead>\n",
              "    <tr>\n",
              "      <th id=\"T_f0748_level0_col0\" class=\"col_heading level0 col0\" >lastname</th>\n",
              "      <th id=\"T_f0748_level0_col1\" class=\"col_heading level0 col1\" >deptid</th>\n",
              "      <th id=\"T_f0748_level0_col2\" class=\"col_heading level0 col2\" >salary</th>\n",
              "      <th id=\"T_f0748_level0_col3\" class=\"col_heading level0 col3\" >comm</th>\n",
              "      <th id=\"T_f0748_level0_col4\" class=\"col_heading level0 col4\" >payout</th>\n",
              "    </tr>\n",
              "  </thead>\n",
              "  <tbody>\n",
              "    <tr>\n",
              "      <td id=\"T_f0748_row0_col0\" class=\"data row0 col0\" >Dikshit</td>\n",
              "      <td id=\"T_f0748_row0_col1\" class=\"data row0 col1\" >20</td>\n",
              "      <td id=\"T_f0748_row0_col2\" class=\"data row0 col2\" >10000</td>\n",
              "      <td id=\"T_f0748_row0_col3\" class=\"data row0 col3\" >0.02</td>\n",
              "      <td id=\"T_f0748_row0_col4\" class=\"data row0 col4\" >10200.00</td>\n",
              "    </tr>\n",
              "    <tr>\n",
              "      <td id=\"T_f0748_row1_col0\" class=\"data row1 col0\" >Khan</td>\n",
              "      <td id=\"T_f0748_row1_col1\" class=\"data row1 col1\" >20</td>\n",
              "      <td id=\"T_f0748_row1_col2\" class=\"data row1 col2\" >30000</td>\n",
              "      <td id=\"T_f0748_row1_col3\" class=\"data row1 col3\" >0.07</td>\n",
              "      <td id=\"T_f0748_row1_col4\" class=\"data row1 col4\" >32100.00</td>\n",
              "    </tr>\n",
              "    <tr>\n",
              "      <td id=\"T_f0748_row2_col0\" class=\"data row2 col0\" >Sehwag</td>\n",
              "      <td id=\"T_f0748_row2_col1\" class=\"data row2 col1\" >20</td>\n",
              "      <td id=\"T_f0748_row2_col2\" class=\"data row2 col2\" >15000</td>\n",
              "      <td id=\"T_f0748_row2_col3\" class=\"data row2 col3\" >0.05</td>\n",
              "      <td id=\"T_f0748_row2_col4\" class=\"data row2 col4\" >15750.00</td>\n",
              "    </tr>\n",
              "  </tbody>\n",
              "</table>\n"
            ]
          },
          "metadata": {},
          "execution_count": 36
        }
      ]
    },
    {
      "cell_type": "code",
      "source": [
        "runSelect(\"select lastname, firstname, deptid, substring(firstname,1,3) nick from empl where deptid = '20'\")"
      ],
      "metadata": {
        "colab": {
          "base_uri": "https://localhost:8080/",
          "height": 143
        },
        "id": "I3rkoZrYyb_P",
        "outputId": "19e05605-bc08-49a4-edcc-0333f1317646"
      },
      "execution_count": 37,
      "outputs": [
        {
          "output_type": "execute_result",
          "data": {
            "text/plain": [
              "<pandas.io.formats.style.Styler at 0x7c7ee7f1bc40>"
            ],
            "text/html": [
              "<style type=\"text/css\">\n",
              "</style>\n",
              "<table id=\"T_35037\" class=\"dataframe\">\n",
              "  <thead>\n",
              "    <tr>\n",
              "      <th id=\"T_35037_level0_col0\" class=\"col_heading level0 col0\" >lastname</th>\n",
              "      <th id=\"T_35037_level0_col1\" class=\"col_heading level0 col1\" >firstname</th>\n",
              "      <th id=\"T_35037_level0_col2\" class=\"col_heading level0 col2\" >deptid</th>\n",
              "      <th id=\"T_35037_level0_col3\" class=\"col_heading level0 col3\" >nick</th>\n",
              "    </tr>\n",
              "  </thead>\n",
              "  <tbody>\n",
              "    <tr>\n",
              "      <td id=\"T_35037_row0_col0\" class=\"data row0 col0\" >Dikshit</td>\n",
              "      <td id=\"T_35037_row0_col1\" class=\"data row0 col1\" >Madhuri</td>\n",
              "      <td id=\"T_35037_row0_col2\" class=\"data row0 col2\" >20</td>\n",
              "      <td id=\"T_35037_row0_col3\" class=\"data row0 col3\" >Mad</td>\n",
              "    </tr>\n",
              "    <tr>\n",
              "      <td id=\"T_35037_row1_col0\" class=\"data row1 col0\" >Khan</td>\n",
              "      <td id=\"T_35037_row1_col1\" class=\"data row1 col1\" >Shahrukh</td>\n",
              "      <td id=\"T_35037_row1_col2\" class=\"data row1 col2\" >20</td>\n",
              "      <td id=\"T_35037_row1_col3\" class=\"data row1 col3\" >Sha</td>\n",
              "    </tr>\n",
              "    <tr>\n",
              "      <td id=\"T_35037_row2_col0\" class=\"data row2 col0\" >Sehwag</td>\n",
              "      <td id=\"T_35037_row2_col1\" class=\"data row2 col1\" >Virender</td>\n",
              "      <td id=\"T_35037_row2_col2\" class=\"data row2 col2\" >20</td>\n",
              "      <td id=\"T_35037_row2_col3\" class=\"data row2 col3\" >Vir</td>\n",
              "    </tr>\n",
              "  </tbody>\n",
              "</table>\n"
            ]
          },
          "metadata": {},
          "execution_count": 37
        }
      ]
    },
    {
      "cell_type": "code",
      "source": [
        "runSelect(\"select lastname, firstname, deptid, concat('\\\"',substring(firstname,2,3),'\\\" ',lastname) nick from empl where deptid = '20'\")"
      ],
      "metadata": {
        "colab": {
          "base_uri": "https://localhost:8080/",
          "height": 143
        },
        "id": "xNQl1KpSzIQc",
        "outputId": "3427449b-cf97-43ff-b66e-7ddca18c125d"
      },
      "execution_count": 38,
      "outputs": [
        {
          "output_type": "execute_result",
          "data": {
            "text/plain": [
              "<pandas.io.formats.style.Styler at 0x7c7ee7f189d0>"
            ],
            "text/html": [
              "<style type=\"text/css\">\n",
              "</style>\n",
              "<table id=\"T_4e6b6\" class=\"dataframe\">\n",
              "  <thead>\n",
              "    <tr>\n",
              "      <th id=\"T_4e6b6_level0_col0\" class=\"col_heading level0 col0\" >lastname</th>\n",
              "      <th id=\"T_4e6b6_level0_col1\" class=\"col_heading level0 col1\" >firstname</th>\n",
              "      <th id=\"T_4e6b6_level0_col2\" class=\"col_heading level0 col2\" >deptid</th>\n",
              "      <th id=\"T_4e6b6_level0_col3\" class=\"col_heading level0 col3\" >nick</th>\n",
              "    </tr>\n",
              "  </thead>\n",
              "  <tbody>\n",
              "    <tr>\n",
              "      <td id=\"T_4e6b6_row0_col0\" class=\"data row0 col0\" >Dikshit</td>\n",
              "      <td id=\"T_4e6b6_row0_col1\" class=\"data row0 col1\" >Madhuri</td>\n",
              "      <td id=\"T_4e6b6_row0_col2\" class=\"data row0 col2\" >20</td>\n",
              "      <td id=\"T_4e6b6_row0_col3\" class=\"data row0 col3\" >\"adh\" Dikshit</td>\n",
              "    </tr>\n",
              "    <tr>\n",
              "      <td id=\"T_4e6b6_row1_col0\" class=\"data row1 col0\" >Khan</td>\n",
              "      <td id=\"T_4e6b6_row1_col1\" class=\"data row1 col1\" >Shahrukh</td>\n",
              "      <td id=\"T_4e6b6_row1_col2\" class=\"data row1 col2\" >20</td>\n",
              "      <td id=\"T_4e6b6_row1_col3\" class=\"data row1 col3\" >\"hah\" Khan</td>\n",
              "    </tr>\n",
              "    <tr>\n",
              "      <td id=\"T_4e6b6_row2_col0\" class=\"data row2 col0\" >Sehwag</td>\n",
              "      <td id=\"T_4e6b6_row2_col1\" class=\"data row2 col1\" >Virender</td>\n",
              "      <td id=\"T_4e6b6_row2_col2\" class=\"data row2 col2\" >20</td>\n",
              "      <td id=\"T_4e6b6_row2_col3\" class=\"data row2 col3\" >\"ire\" Sehwag</td>\n",
              "    </tr>\n",
              "  </tbody>\n",
              "</table>\n"
            ]
          },
          "metadata": {},
          "execution_count": 38
        }
      ]
    },
    {
      "cell_type": "code",
      "source": [
        "runSelect(\"select LastName, Current_Date,JoinDate, to_char(JoinDate,'Day') JoinDay, to_char(JoinDate,'DD-mon-YY') JoinDate2, \\\n",
        "Current_Date-JoinDate DaysSince from Empl\")\n",
        "\n",
        "#https://blog.quest.com/exploring-postgres-date-formats-and-their-different-functions/\n"
      ],
      "metadata": {
        "id": "37Rjgkxz-BP0",
        "outputId": "3850ba46-ca76-4af3-d658-8f4442c8ff29",
        "colab": {
          "base_uri": "https://localhost:8080/",
          "height": 457
        }
      },
      "execution_count": 39,
      "outputs": [
        {
          "output_type": "execute_result",
          "data": {
            "text/plain": [
              "<pandas.io.formats.style.Styler at 0x7c7ee7f1ae30>"
            ],
            "text/html": [
              "<style type=\"text/css\">\n",
              "</style>\n",
              "<table id=\"T_2a1e0\" class=\"dataframe\">\n",
              "  <thead>\n",
              "    <tr>\n",
              "      <th id=\"T_2a1e0_level0_col0\" class=\"col_heading level0 col0\" >lastname</th>\n",
              "      <th id=\"T_2a1e0_level0_col1\" class=\"col_heading level0 col1\" >current_date</th>\n",
              "      <th id=\"T_2a1e0_level0_col2\" class=\"col_heading level0 col2\" >joindate</th>\n",
              "      <th id=\"T_2a1e0_level0_col3\" class=\"col_heading level0 col3\" >joinday</th>\n",
              "      <th id=\"T_2a1e0_level0_col4\" class=\"col_heading level0 col4\" >joindate2</th>\n",
              "      <th id=\"T_2a1e0_level0_col5\" class=\"col_heading level0 col5\" >dayssince</th>\n",
              "    </tr>\n",
              "  </thead>\n",
              "  <tbody>\n",
              "    <tr>\n",
              "      <td id=\"T_2a1e0_row0_col0\" class=\"data row0 col0\" >Bacchan</td>\n",
              "      <td id=\"T_2a1e0_row0_col1\" class=\"data row0 col1\" >2024-02-24</td>\n",
              "      <td id=\"T_2a1e0_row0_col2\" class=\"data row0 col2\" >2003-03-10</td>\n",
              "      <td id=\"T_2a1e0_row0_col3\" class=\"data row0 col3\" >Monday   </td>\n",
              "      <td id=\"T_2a1e0_row0_col4\" class=\"data row0 col4\" >10-mar-03</td>\n",
              "      <td id=\"T_2a1e0_row0_col5\" class=\"data row0 col5\" >7656</td>\n",
              "    </tr>\n",
              "    <tr>\n",
              "      <td id=\"T_2a1e0_row1_col0\" class=\"data row1 col0\" >Mukherjee</td>\n",
              "      <td id=\"T_2a1e0_row1_col1\" class=\"data row1 col1\" >2024-02-24</td>\n",
              "      <td id=\"T_2a1e0_row1_col2\" class=\"data row1 col2\" >2005-05-04</td>\n",
              "      <td id=\"T_2a1e0_row1_col3\" class=\"data row1 col3\" >Wednesday</td>\n",
              "      <td id=\"T_2a1e0_row1_col4\" class=\"data row1 col4\" >04-may-05</td>\n",
              "      <td id=\"T_2a1e0_row1_col5\" class=\"data row1 col5\" >6870</td>\n",
              "    </tr>\n",
              "    <tr>\n",
              "      <td id=\"T_2a1e0_row2_col0\" class=\"data row2 col0\" >Dikshit</td>\n",
              "      <td id=\"T_2a1e0_row2_col1\" class=\"data row2 col1\" >2024-02-24</td>\n",
              "      <td id=\"T_2a1e0_row2_col2\" class=\"data row2 col2\" >2002-04-04</td>\n",
              "      <td id=\"T_2a1e0_row2_col3\" class=\"data row2 col3\" >Thursday </td>\n",
              "      <td id=\"T_2a1e0_row2_col4\" class=\"data row2 col4\" >04-apr-02</td>\n",
              "      <td id=\"T_2a1e0_row2_col5\" class=\"data row2 col5\" >7996</td>\n",
              "    </tr>\n",
              "    <tr>\n",
              "      <td id=\"T_2a1e0_row3_col0\" class=\"data row3 col0\" >Khan</td>\n",
              "      <td id=\"T_2a1e0_row3_col1\" class=\"data row3 col1\" >2024-02-24</td>\n",
              "      <td id=\"T_2a1e0_row3_col2\" class=\"data row3 col2\" >2004-01-03</td>\n",
              "      <td id=\"T_2a1e0_row3_col3\" class=\"data row3 col3\" >Saturday </td>\n",
              "      <td id=\"T_2a1e0_row3_col4\" class=\"data row3 col4\" >03-jan-04</td>\n",
              "      <td id=\"T_2a1e0_row3_col5\" class=\"data row3 col5\" >7357</td>\n",
              "    </tr>\n",
              "    <tr>\n",
              "      <td id=\"T_2a1e0_row4_col0\" class=\"data row4 col0\" >Sehwag</td>\n",
              "      <td id=\"T_2a1e0_row4_col1\" class=\"data row4 col1\" >2024-02-24</td>\n",
              "      <td id=\"T_2a1e0_row4_col2\" class=\"data row4 col2\" >2005-01-02</td>\n",
              "      <td id=\"T_2a1e0_row4_col3\" class=\"data row4 col3\" >Sunday   </td>\n",
              "      <td id=\"T_2a1e0_row4_col4\" class=\"data row4 col4\" >02-jan-05</td>\n",
              "      <td id=\"T_2a1e0_row4_col5\" class=\"data row4 col5\" >6992</td>\n",
              "    </tr>\n",
              "    <tr>\n",
              "      <td id=\"T_2a1e0_row5_col0\" class=\"data row5 col0\" >Dhoni</td>\n",
              "      <td id=\"T_2a1e0_row5_col1\" class=\"data row5 col1\" >2024-02-24</td>\n",
              "      <td id=\"T_2a1e0_row5_col2\" class=\"data row5 col2\" >2004-10-09</td>\n",
              "      <td id=\"T_2a1e0_row5_col3\" class=\"data row5 col3\" >Saturday </td>\n",
              "      <td id=\"T_2a1e0_row5_col4\" class=\"data row5 col4\" >09-oct-04</td>\n",
              "      <td id=\"T_2a1e0_row5_col5\" class=\"data row5 col5\" >7077</td>\n",
              "    </tr>\n",
              "    <tr>\n",
              "      <td id=\"T_2a1e0_row6_col0\" class=\"data row6 col0\" >Dravid</td>\n",
              "      <td id=\"T_2a1e0_row6_col1\" class=\"data row6 col1\" >2024-02-24</td>\n",
              "      <td id=\"T_2a1e0_row6_col2\" class=\"data row6 col2\" >2000-06-04</td>\n",
              "      <td id=\"T_2a1e0_row6_col3\" class=\"data row6 col3\" >Sunday   </td>\n",
              "      <td id=\"T_2a1e0_row6_col4\" class=\"data row6 col4\" >04-jun-00</td>\n",
              "      <td id=\"T_2a1e0_row6_col5\" class=\"data row6 col5\" >8665</td>\n",
              "    </tr>\n",
              "    <tr>\n",
              "      <td id=\"T_2a1e0_row7_col0\" class=\"data row7 col0\" >Dalmia</td>\n",
              "      <td id=\"T_2a1e0_row7_col1\" class=\"data row7 col1\" >2024-02-24</td>\n",
              "      <td id=\"T_2a1e0_row7_col2\" class=\"data row7 col2\" >2001-07-01</td>\n",
              "      <td id=\"T_2a1e0_row7_col3\" class=\"data row7 col3\" >Sunday   </td>\n",
              "      <td id=\"T_2a1e0_row7_col4\" class=\"data row7 col4\" >01-jul-01</td>\n",
              "      <td id=\"T_2a1e0_row7_col5\" class=\"data row7 col5\" >8273</td>\n",
              "    </tr>\n",
              "    <tr>\n",
              "      <td id=\"T_2a1e0_row8_col0\" class=\"data row8 col0\" >Ganguly</td>\n",
              "      <td id=\"T_2a1e0_row8_col1\" class=\"data row8 col1\" >2024-02-24</td>\n",
              "      <td id=\"T_2a1e0_row8_col2\" class=\"data row8 col2\" >2002-01-01</td>\n",
              "      <td id=\"T_2a1e0_row8_col3\" class=\"data row8 col3\" >Tuesday  </td>\n",
              "      <td id=\"T_2a1e0_row8_col4\" class=\"data row8 col4\" >01-jan-02</td>\n",
              "      <td id=\"T_2a1e0_row8_col5\" class=\"data row8 col5\" >8089</td>\n",
              "    </tr>\n",
              "    <tr>\n",
              "      <td id=\"T_2a1e0_row9_col0\" class=\"data row9 col0\" >Ganesan</td>\n",
              "      <td id=\"T_2a1e0_row9_col1\" class=\"data row9 col1\" >2024-02-24</td>\n",
              "      <td id=\"T_2a1e0_row9_col2\" class=\"data row9 col2\" >2002-10-10</td>\n",
              "      <td id=\"T_2a1e0_row9_col3\" class=\"data row9 col3\" >Thursday </td>\n",
              "      <td id=\"T_2a1e0_row9_col4\" class=\"data row9 col4\" >10-oct-02</td>\n",
              "      <td id=\"T_2a1e0_row9_col5\" class=\"data row9 col5\" >7807</td>\n",
              "    </tr>\n",
              "    <tr>\n",
              "      <td id=\"T_2a1e0_row10_col0\" class=\"data row10 col0\" >Karthikeyan</td>\n",
              "      <td id=\"T_2a1e0_row10_col1\" class=\"data row10 col1\" >2024-02-24</td>\n",
              "      <td id=\"T_2a1e0_row10_col2\" class=\"data row10 col2\" >2005-12-04</td>\n",
              "      <td id=\"T_2a1e0_row10_col3\" class=\"data row10 col3\" >Sunday   </td>\n",
              "      <td id=\"T_2a1e0_row10_col4\" class=\"data row10 col4\" >04-dec-05</td>\n",
              "      <td id=\"T_2a1e0_row10_col5\" class=\"data row10 col5\" >6656</td>\n",
              "    </tr>\n",
              "    <tr>\n",
              "      <td id=\"T_2a1e0_row11_col0\" class=\"data row11 col0\" >Sunil</td>\n",
              "      <td id=\"T_2a1e0_row11_col1\" class=\"data row11 col1\" >2024-02-24</td>\n",
              "      <td id=\"T_2a1e0_row11_col2\" class=\"data row11 col2\" >2006-12-07</td>\n",
              "      <td id=\"T_2a1e0_row11_col3\" class=\"data row11 col3\" >Thursday </td>\n",
              "      <td id=\"T_2a1e0_row11_col4\" class=\"data row11 col4\" >07-dec-06</td>\n",
              "      <td id=\"T_2a1e0_row11_col5\" class=\"data row11 col5\" >6288</td>\n",
              "    </tr>\n",
              "    <tr>\n",
              "      <td id=\"T_2a1e0_row12_col0\" class=\"data row12 col0\" >Mirza</td>\n",
              "      <td id=\"T_2a1e0_row12_col1\" class=\"data row12 col1\" >2024-02-24</td>\n",
              "      <td id=\"T_2a1e0_row12_col2\" class=\"data row12 col2\" >2001-11-19</td>\n",
              "      <td id=\"T_2a1e0_row12_col3\" class=\"data row12 col3\" >Monday   </td>\n",
              "      <td id=\"T_2a1e0_row12_col4\" class=\"data row12 col4\" >19-nov-01</td>\n",
              "      <td id=\"T_2a1e0_row12_col5\" class=\"data row12 col5\" >8132</td>\n",
              "    </tr>\n",
              "  </tbody>\n",
              "</table>\n"
            ]
          },
          "metadata": {},
          "execution_count": 39
        }
      ]
    },
    {
      "cell_type": "markdown",
      "source": [
        "# MultiRow Function | Group By | Having\n",
        "for more complex examples that demonstrate Grouping Sets, Cubes, Roll UP, Crosstabs and other OLAP related SQL see [this notebook](https://github.com/Praxis-QR/RDWH/blob/main/PostgreSQL_03B_SQL_Level2.ipynb)"
      ],
      "metadata": {
        "id": "ONgFWUTC2IPK"
      }
    },
    {
      "cell_type": "code",
      "source": [
        "runSelect(\"select sum(salary) Total_Salary from empl\")"
      ],
      "metadata": {
        "colab": {
          "base_uri": "https://localhost:8080/",
          "height": 81
        },
        "id": "7MnnzfJx2PSc",
        "outputId": "2306973a-0d65-4d78-fdb6-6d18651591ec"
      },
      "execution_count": 40,
      "outputs": [
        {
          "output_type": "execute_result",
          "data": {
            "text/plain": [
              "<pandas.io.formats.style.Styler at 0x7c7ee7f1b4c0>"
            ],
            "text/html": [
              "<style type=\"text/css\">\n",
              "</style>\n",
              "<table id=\"T_307b1\" class=\"dataframe\">\n",
              "  <thead>\n",
              "    <tr>\n",
              "      <th id=\"T_307b1_level0_col0\" class=\"col_heading level0 col0\" >total_salary</th>\n",
              "    </tr>\n",
              "  </thead>\n",
              "  <tbody>\n",
              "    <tr>\n",
              "      <td id=\"T_307b1_row0_col0\" class=\"data row0 col0\" >376000</td>\n",
              "    </tr>\n",
              "  </tbody>\n",
              "</table>\n"
            ]
          },
          "metadata": {},
          "execution_count": 40
        }
      ]
    },
    {
      "cell_type": "code",
      "source": [
        "runSelect(\"select round(avg(salary),2) Average_Salary from empl\")"
      ],
      "metadata": {
        "colab": {
          "base_uri": "https://localhost:8080/",
          "height": 81
        },
        "id": "e3Avb-HL4QPD",
        "outputId": "75e29f3f-edce-4a3f-f460-306419bcb1dc"
      },
      "execution_count": 41,
      "outputs": [
        {
          "output_type": "execute_result",
          "data": {
            "text/plain": [
              "<pandas.io.formats.style.Styler at 0x7c7ee7f19cf0>"
            ],
            "text/html": [
              "<style type=\"text/css\">\n",
              "</style>\n",
              "<table id=\"T_686e4\" class=\"dataframe\">\n",
              "  <thead>\n",
              "    <tr>\n",
              "      <th id=\"T_686e4_level0_col0\" class=\"col_heading level0 col0\" >average_salary</th>\n",
              "    </tr>\n",
              "  </thead>\n",
              "  <tbody>\n",
              "    <tr>\n",
              "      <td id=\"T_686e4_row0_col0\" class=\"data row0 col0\" >28923.08</td>\n",
              "    </tr>\n",
              "  </tbody>\n",
              "</table>\n"
            ]
          },
          "metadata": {},
          "execution_count": 41
        }
      ]
    },
    {
      "cell_type": "code",
      "source": [
        "runSelect(\"select max(salary) Max_Salary from empl\")"
      ],
      "metadata": {
        "colab": {
          "base_uri": "https://localhost:8080/",
          "height": 81
        },
        "id": "Oe1qRQbI4gtY",
        "outputId": "490bd34f-4d39-4a65-d4d8-9012e27a8861"
      },
      "execution_count": 42,
      "outputs": [
        {
          "output_type": "execute_result",
          "data": {
            "text/plain": [
              "<pandas.io.formats.style.Styler at 0x7c7ee7f19bd0>"
            ],
            "text/html": [
              "<style type=\"text/css\">\n",
              "</style>\n",
              "<table id=\"T_b1469\" class=\"dataframe\">\n",
              "  <thead>\n",
              "    <tr>\n",
              "      <th id=\"T_b1469_level0_col0\" class=\"col_heading level0 col0\" >max_salary</th>\n",
              "    </tr>\n",
              "  </thead>\n",
              "  <tbody>\n",
              "    <tr>\n",
              "      <td id=\"T_b1469_row0_col0\" class=\"data row0 col0\" >60000</td>\n",
              "    </tr>\n",
              "  </tbody>\n",
              "</table>\n"
            ]
          },
          "metadata": {},
          "execution_count": 42
        }
      ]
    },
    {
      "cell_type": "code",
      "source": [
        "runSelect(\"select deptid, sum(salary) Total, max(salary) Max from empl group by deptid\")"
      ],
      "metadata": {
        "colab": {
          "base_uri": "https://localhost:8080/",
          "height": 206
        },
        "id": "xpmGXSAX69iU",
        "outputId": "6dc83545-4a2e-4bce-b69b-0870c67d5d78"
      },
      "execution_count": 43,
      "outputs": [
        {
          "output_type": "execute_result",
          "data": {
            "text/plain": [
              "<pandas.io.formats.style.Styler at 0x7c7ee7f2dd50>"
            ],
            "text/html": [
              "<style type=\"text/css\">\n",
              "</style>\n",
              "<table id=\"T_b0639\" class=\"dataframe\">\n",
              "  <thead>\n",
              "    <tr>\n",
              "      <th id=\"T_b0639_level0_col0\" class=\"col_heading level0 col0\" >deptid</th>\n",
              "      <th id=\"T_b0639_level0_col1\" class=\"col_heading level0 col1\" >total</th>\n",
              "      <th id=\"T_b0639_level0_col2\" class=\"col_heading level0 col2\" >max</th>\n",
              "    </tr>\n",
              "  </thead>\n",
              "  <tbody>\n",
              "    <tr>\n",
              "      <td id=\"T_b0639_row0_col0\" class=\"data row0 col0\" >10</td>\n",
              "      <td id=\"T_b0639_row0_col1\" class=\"data row0 col1\" >150000</td>\n",
              "      <td id=\"T_b0639_row0_col2\" class=\"data row0 col2\" >60000</td>\n",
              "    </tr>\n",
              "    <tr>\n",
              "      <td id=\"T_b0639_row1_col0\" class=\"data row1 col0\" >40</td>\n",
              "      <td id=\"T_b0639_row1_col1\" class=\"data row1 col1\" >54000</td>\n",
              "      <td id=\"T_b0639_row1_col2\" class=\"data row1 col2\" >25000</td>\n",
              "    </tr>\n",
              "    <tr>\n",
              "      <td id=\"T_b0639_row2_col0\" class=\"data row2 col0\" >70</td>\n",
              "      <td id=\"T_b0639_row2_col1\" class=\"data row2 col1\" >40000</td>\n",
              "      <td id=\"T_b0639_row2_col2\" class=\"data row2 col2\" >40000</td>\n",
              "    </tr>\n",
              "    <tr>\n",
              "      <td id=\"T_b0639_row3_col0\" class=\"data row3 col0\" >20</td>\n",
              "      <td id=\"T_b0639_row3_col1\" class=\"data row3 col1\" >55000</td>\n",
              "      <td id=\"T_b0639_row3_col2\" class=\"data row3 col2\" >30000</td>\n",
              "    </tr>\n",
              "    <tr>\n",
              "      <td id=\"T_b0639_row4_col0\" class=\"data row4 col0\" >30</td>\n",
              "      <td id=\"T_b0639_row4_col1\" class=\"data row4 col1\" >77000</td>\n",
              "      <td id=\"T_b0639_row4_col2\" class=\"data row4 col2\" >40000</td>\n",
              "    </tr>\n",
              "  </tbody>\n",
              "</table>\n"
            ]
          },
          "metadata": {},
          "execution_count": 43
        }
      ]
    },
    {
      "cell_type": "code",
      "source": [
        "runSelect(\"select deptid, sum(salary) Total, max(salary) Max from empl group by deptid having sum(salary) > 50000\")"
      ],
      "metadata": {
        "colab": {
          "base_uri": "https://localhost:8080/",
          "height": 175
        },
        "id": "AdNDutZl7LCF",
        "outputId": "96ab1cd6-f936-41d3-9ccf-668e720819ae"
      },
      "execution_count": 44,
      "outputs": [
        {
          "output_type": "execute_result",
          "data": {
            "text/plain": [
              "<pandas.io.formats.style.Styler at 0x7c7ee7f2c1c0>"
            ],
            "text/html": [
              "<style type=\"text/css\">\n",
              "</style>\n",
              "<table id=\"T_bf07d\" class=\"dataframe\">\n",
              "  <thead>\n",
              "    <tr>\n",
              "      <th id=\"T_bf07d_level0_col0\" class=\"col_heading level0 col0\" >deptid</th>\n",
              "      <th id=\"T_bf07d_level0_col1\" class=\"col_heading level0 col1\" >total</th>\n",
              "      <th id=\"T_bf07d_level0_col2\" class=\"col_heading level0 col2\" >max</th>\n",
              "    </tr>\n",
              "  </thead>\n",
              "  <tbody>\n",
              "    <tr>\n",
              "      <td id=\"T_bf07d_row0_col0\" class=\"data row0 col0\" >10</td>\n",
              "      <td id=\"T_bf07d_row0_col1\" class=\"data row0 col1\" >150000</td>\n",
              "      <td id=\"T_bf07d_row0_col2\" class=\"data row0 col2\" >60000</td>\n",
              "    </tr>\n",
              "    <tr>\n",
              "      <td id=\"T_bf07d_row1_col0\" class=\"data row1 col0\" >40</td>\n",
              "      <td id=\"T_bf07d_row1_col1\" class=\"data row1 col1\" >54000</td>\n",
              "      <td id=\"T_bf07d_row1_col2\" class=\"data row1 col2\" >25000</td>\n",
              "    </tr>\n",
              "    <tr>\n",
              "      <td id=\"T_bf07d_row2_col0\" class=\"data row2 col0\" >20</td>\n",
              "      <td id=\"T_bf07d_row2_col1\" class=\"data row2 col1\" >55000</td>\n",
              "      <td id=\"T_bf07d_row2_col2\" class=\"data row2 col2\" >30000</td>\n",
              "    </tr>\n",
              "    <tr>\n",
              "      <td id=\"T_bf07d_row3_col0\" class=\"data row3 col0\" >30</td>\n",
              "      <td id=\"T_bf07d_row3_col1\" class=\"data row3 col1\" >77000</td>\n",
              "      <td id=\"T_bf07d_row3_col2\" class=\"data row3 col2\" >40000</td>\n",
              "    </tr>\n",
              "  </tbody>\n",
              "</table>\n"
            ]
          },
          "metadata": {},
          "execution_count": 44
        }
      ]
    },
    {
      "cell_type": "code",
      "source": [
        "runSelect(\"select deptid, sum(salary) Total, max(salary) Max from empl group by deptid having sum(salary) > 50000 and max(salary) < 35000\")"
      ],
      "metadata": {
        "colab": {
          "base_uri": "https://localhost:8080/",
          "height": 112
        },
        "id": "4VFmL5JF7bYo",
        "outputId": "220657bf-6fa1-4c13-cfa6-787019fd1d79"
      },
      "execution_count": 45,
      "outputs": [
        {
          "output_type": "execute_result",
          "data": {
            "text/plain": [
              "<pandas.io.formats.style.Styler at 0x7c7ee7f1be20>"
            ],
            "text/html": [
              "<style type=\"text/css\">\n",
              "</style>\n",
              "<table id=\"T_be083\" class=\"dataframe\">\n",
              "  <thead>\n",
              "    <tr>\n",
              "      <th id=\"T_be083_level0_col0\" class=\"col_heading level0 col0\" >deptid</th>\n",
              "      <th id=\"T_be083_level0_col1\" class=\"col_heading level0 col1\" >total</th>\n",
              "      <th id=\"T_be083_level0_col2\" class=\"col_heading level0 col2\" >max</th>\n",
              "    </tr>\n",
              "  </thead>\n",
              "  <tbody>\n",
              "    <tr>\n",
              "      <td id=\"T_be083_row0_col0\" class=\"data row0 col0\" >40</td>\n",
              "      <td id=\"T_be083_row0_col1\" class=\"data row0 col1\" >54000</td>\n",
              "      <td id=\"T_be083_row0_col2\" class=\"data row0 col2\" >25000</td>\n",
              "    </tr>\n",
              "    <tr>\n",
              "      <td id=\"T_be083_row1_col0\" class=\"data row1 col0\" >20</td>\n",
              "      <td id=\"T_be083_row1_col1\" class=\"data row1 col1\" >55000</td>\n",
              "      <td id=\"T_be083_row1_col2\" class=\"data row1 col2\" >30000</td>\n",
              "    </tr>\n",
              "  </tbody>\n",
              "</table>\n"
            ]
          },
          "metadata": {},
          "execution_count": 45
        }
      ]
    },
    {
      "cell_type": "markdown",
      "source": [
        "#Conditionals | CASE"
      ],
      "metadata": {
        "id": "xDsapsK8Afpj"
      }
    },
    {
      "cell_type": "code",
      "source": [
        "runSelect(\"select lastname, jobdesc, salary, comm, salary+salary*comm Payout,\\\n",
        "case when jobdesc like '%Manager' then 2000 else 0 end bonus from empl\")"
      ],
      "metadata": {
        "colab": {
          "base_uri": "https://localhost:8080/",
          "height": 457
        },
        "id": "bYRWDlVNAxKx",
        "outputId": "94e82bae-f955-40f7-eba5-720e3353a844"
      },
      "execution_count": 46,
      "outputs": [
        {
          "output_type": "execute_result",
          "data": {
            "text/plain": [
              "<pandas.io.formats.style.Styler at 0x7c7ee7f2d7b0>"
            ],
            "text/html": [
              "<style type=\"text/css\">\n",
              "</style>\n",
              "<table id=\"T_581ce\" class=\"dataframe\">\n",
              "  <thead>\n",
              "    <tr>\n",
              "      <th id=\"T_581ce_level0_col0\" class=\"col_heading level0 col0\" >lastname</th>\n",
              "      <th id=\"T_581ce_level0_col1\" class=\"col_heading level0 col1\" >jobdesc</th>\n",
              "      <th id=\"T_581ce_level0_col2\" class=\"col_heading level0 col2\" >salary</th>\n",
              "      <th id=\"T_581ce_level0_col3\" class=\"col_heading level0 col3\" >comm</th>\n",
              "      <th id=\"T_581ce_level0_col4\" class=\"col_heading level0 col4\" >payout</th>\n",
              "      <th id=\"T_581ce_level0_col5\" class=\"col_heading level0 col5\" >bonus</th>\n",
              "    </tr>\n",
              "  </thead>\n",
              "  <tbody>\n",
              "    <tr>\n",
              "      <td id=\"T_581ce_row0_col0\" class=\"data row0 col0\" >Bacchan</td>\n",
              "      <td id=\"T_581ce_row0_col1\" class=\"data row0 col1\" >Executive</td>\n",
              "      <td id=\"T_581ce_row0_col2\" class=\"data row0 col2\" >50000</td>\n",
              "      <td id=\"T_581ce_row0_col3\" class=\"data row0 col3\" >0.10</td>\n",
              "      <td id=\"T_581ce_row0_col4\" class=\"data row0 col4\" >55000.00</td>\n",
              "      <td id=\"T_581ce_row0_col5\" class=\"data row0 col5\" >0</td>\n",
              "    </tr>\n",
              "    <tr>\n",
              "      <td id=\"T_581ce_row1_col0\" class=\"data row1 col0\" >Mukherjee</td>\n",
              "      <td id=\"T_581ce_row1_col1\" class=\"data row1 col1\" >Manager</td>\n",
              "      <td id=\"T_581ce_row1_col2\" class=\"data row1 col2\" >25000</td>\n",
              "      <td id=\"T_581ce_row1_col3\" class=\"data row1 col3\" >0.06</td>\n",
              "      <td id=\"T_581ce_row1_col4\" class=\"data row1 col4\" >26500.00</td>\n",
              "      <td id=\"T_581ce_row1_col5\" class=\"data row1 col5\" >2000</td>\n",
              "    </tr>\n",
              "    <tr>\n",
              "      <td id=\"T_581ce_row2_col0\" class=\"data row2 col0\" >Dikshit</td>\n",
              "      <td id=\"T_581ce_row2_col1\" class=\"data row2 col1\" >Clerk</td>\n",
              "      <td id=\"T_581ce_row2_col2\" class=\"data row2 col2\" >10000</td>\n",
              "      <td id=\"T_581ce_row2_col3\" class=\"data row2 col3\" >0.02</td>\n",
              "      <td id=\"T_581ce_row2_col4\" class=\"data row2 col4\" >10200.00</td>\n",
              "      <td id=\"T_581ce_row2_col5\" class=\"data row2 col5\" >0</td>\n",
              "    </tr>\n",
              "    <tr>\n",
              "      <td id=\"T_581ce_row3_col0\" class=\"data row3 col0\" >Khan</td>\n",
              "      <td id=\"T_581ce_row3_col1\" class=\"data row3 col1\" >Manager</td>\n",
              "      <td id=\"T_581ce_row3_col2\" class=\"data row3 col2\" >30000</td>\n",
              "      <td id=\"T_581ce_row3_col3\" class=\"data row3 col3\" >0.07</td>\n",
              "      <td id=\"T_581ce_row3_col4\" class=\"data row3 col4\" >32100.00</td>\n",
              "      <td id=\"T_581ce_row3_col5\" class=\"data row3 col5\" >2000</td>\n",
              "    </tr>\n",
              "    <tr>\n",
              "      <td id=\"T_581ce_row4_col0\" class=\"data row4 col0\" >Sehwag</td>\n",
              "      <td id=\"T_581ce_row4_col1\" class=\"data row4 col1\" >Cus_Rep</td>\n",
              "      <td id=\"T_581ce_row4_col2\" class=\"data row4 col2\" >15000</td>\n",
              "      <td id=\"T_581ce_row4_col3\" class=\"data row4 col3\" >0.05</td>\n",
              "      <td id=\"T_581ce_row4_col4\" class=\"data row4 col4\" >15750.00</td>\n",
              "      <td id=\"T_581ce_row4_col5\" class=\"data row4 col5\" >0</td>\n",
              "    </tr>\n",
              "    <tr>\n",
              "      <td id=\"T_581ce_row5_col0\" class=\"data row5 col0\" >Dhoni</td>\n",
              "      <td id=\"T_581ce_row5_col1\" class=\"data row5 col1\" >Clerk</td>\n",
              "      <td id=\"T_581ce_row5_col2\" class=\"data row5 col2\" >9000</td>\n",
              "      <td id=\"T_581ce_row5_col3\" class=\"data row5 col3\" >0.02</td>\n",
              "      <td id=\"T_581ce_row5_col4\" class=\"data row5 col4\" >9180.00</td>\n",
              "      <td id=\"T_581ce_row5_col5\" class=\"data row5 col5\" >0</td>\n",
              "    </tr>\n",
              "    <tr>\n",
              "      <td id=\"T_581ce_row6_col0\" class=\"data row6 col0\" >Dravid</td>\n",
              "      <td id=\"T_581ce_row6_col1\" class=\"data row6 col1\" >Sr Manager</td>\n",
              "      <td id=\"T_581ce_row6_col2\" class=\"data row6 col2\" >40000</td>\n",
              "      <td id=\"T_581ce_row6_col3\" class=\"data row6 col3\" >0.08</td>\n",
              "      <td id=\"T_581ce_row6_col4\" class=\"data row6 col4\" >43200.00</td>\n",
              "      <td id=\"T_581ce_row6_col5\" class=\"data row6 col5\" >2000</td>\n",
              "    </tr>\n",
              "    <tr>\n",
              "      <td id=\"T_581ce_row7_col0\" class=\"data row7 col0\" >Dalmia</td>\n",
              "      <td id=\"T_581ce_row7_col1\" class=\"data row7 col1\" >Clerk</td>\n",
              "      <td id=\"T_581ce_row7_col2\" class=\"data row7 col2\" >12000</td>\n",
              "      <td id=\"T_581ce_row7_col3\" class=\"data row7 col3\" >0.02</td>\n",
              "      <td id=\"T_581ce_row7_col4\" class=\"data row7 col4\" >12240.00</td>\n",
              "      <td id=\"T_581ce_row7_col5\" class=\"data row7 col5\" >0</td>\n",
              "    </tr>\n",
              "    <tr>\n",
              "      <td id=\"T_581ce_row8_col0\" class=\"data row8 col0\" >Ganguly</td>\n",
              "      <td id=\"T_581ce_row8_col1\" class=\"data row8 col1\" >Cus_Rep</td>\n",
              "      <td id=\"T_581ce_row8_col2\" class=\"data row8 col2\" >20000</td>\n",
              "      <td id=\"T_581ce_row8_col3\" class=\"data row8 col3\" >0.03</td>\n",
              "      <td id=\"T_581ce_row8_col4\" class=\"data row8 col4\" >20600.00</td>\n",
              "      <td id=\"T_581ce_row8_col5\" class=\"data row8 col5\" >0</td>\n",
              "    </tr>\n",
              "    <tr>\n",
              "      <td id=\"T_581ce_row9_col0\" class=\"data row9 col0\" >Ganesan</td>\n",
              "      <td id=\"T_581ce_row9_col1\" class=\"data row9 col1\" >Director</td>\n",
              "      <td id=\"T_581ce_row9_col2\" class=\"data row9 col2\" >60000</td>\n",
              "      <td id=\"T_581ce_row9_col3\" class=\"data row9 col3\" >0.11</td>\n",
              "      <td id=\"T_581ce_row9_col4\" class=\"data row9 col4\" >66600.00</td>\n",
              "      <td id=\"T_581ce_row9_col5\" class=\"data row9 col5\" >0</td>\n",
              "    </tr>\n",
              "    <tr>\n",
              "      <td id=\"T_581ce_row10_col0\" class=\"data row10 col0\" >Karthikeyan</td>\n",
              "      <td id=\"T_581ce_row10_col1\" class=\"data row10 col1\" >Secretary</td>\n",
              "      <td id=\"T_581ce_row10_col2\" class=\"data row10 col2\" >40000</td>\n",
              "      <td id=\"T_581ce_row10_col3\" class=\"data row10 col3\" >0.09</td>\n",
              "      <td id=\"T_581ce_row10_col4\" class=\"data row10 col4\" >43600.00</td>\n",
              "      <td id=\"T_581ce_row10_col5\" class=\"data row10 col5\" >0</td>\n",
              "    </tr>\n",
              "    <tr>\n",
              "      <td id=\"T_581ce_row11_col0\" class=\"data row11 col0\" >Sunil</td>\n",
              "      <td id=\"T_581ce_row11_col1\" class=\"data row11 col1\" >Dy Manager</td>\n",
              "      <td id=\"T_581ce_row11_col2\" class=\"data row11 col2\" >40000</td>\n",
              "      <td id=\"T_581ce_row11_col3\" class=\"data row11 col3\" >0.05</td>\n",
              "      <td id=\"T_581ce_row11_col4\" class=\"data row11 col4\" >42000.00</td>\n",
              "      <td id=\"T_581ce_row11_col5\" class=\"data row11 col5\" >2000</td>\n",
              "    </tr>\n",
              "    <tr>\n",
              "      <td id=\"T_581ce_row12_col0\" class=\"data row12 col0\" >Mirza</td>\n",
              "      <td id=\"T_581ce_row12_col1\" class=\"data row12 col1\" >Cus_Rep</td>\n",
              "      <td id=\"T_581ce_row12_col2\" class=\"data row12 col2\" >25000</td>\n",
              "      <td id=\"T_581ce_row12_col3\" class=\"data row12 col3\" >0.04</td>\n",
              "      <td id=\"T_581ce_row12_col4\" class=\"data row12 col4\" >26000.00</td>\n",
              "      <td id=\"T_581ce_row12_col5\" class=\"data row12 col5\" >0</td>\n",
              "    </tr>\n",
              "  </tbody>\n",
              "</table>\n"
            ]
          },
          "metadata": {},
          "execution_count": 46
        }
      ]
    },
    {
      "cell_type": "code",
      "source": [
        "runSelect(\"select lastname, deptid,\\\n",
        "case \\\n",
        "when deptid in ('10','20') then 'Head' \\\n",
        "when deptid = '30' then 'Regional'\\\n",
        "else 'Branch' \\\n",
        "end \\\n",
        " office from empl\")"
      ],
      "metadata": {
        "colab": {
          "base_uri": "https://localhost:8080/",
          "height": 457
        },
        "id": "jbpKn1y0DwYG",
        "outputId": "66aedf0f-eab6-4f65-8884-2e0637688fd3"
      },
      "execution_count": 47,
      "outputs": [
        {
          "output_type": "execute_result",
          "data": {
            "text/plain": [
              "<pandas.io.formats.style.Styler at 0x7c7ee7f2f7f0>"
            ],
            "text/html": [
              "<style type=\"text/css\">\n",
              "</style>\n",
              "<table id=\"T_42c25\" class=\"dataframe\">\n",
              "  <thead>\n",
              "    <tr>\n",
              "      <th id=\"T_42c25_level0_col0\" class=\"col_heading level0 col0\" >lastname</th>\n",
              "      <th id=\"T_42c25_level0_col1\" class=\"col_heading level0 col1\" >deptid</th>\n",
              "      <th id=\"T_42c25_level0_col2\" class=\"col_heading level0 col2\" >office</th>\n",
              "    </tr>\n",
              "  </thead>\n",
              "  <tbody>\n",
              "    <tr>\n",
              "      <td id=\"T_42c25_row0_col0\" class=\"data row0 col0\" >Bacchan</td>\n",
              "      <td id=\"T_42c25_row0_col1\" class=\"data row0 col1\" >10</td>\n",
              "      <td id=\"T_42c25_row0_col2\" class=\"data row0 col2\" >Head</td>\n",
              "    </tr>\n",
              "    <tr>\n",
              "      <td id=\"T_42c25_row1_col0\" class=\"data row1 col0\" >Mukherjee</td>\n",
              "      <td id=\"T_42c25_row1_col1\" class=\"data row1 col1\" >40</td>\n",
              "      <td id=\"T_42c25_row1_col2\" class=\"data row1 col2\" >Branch</td>\n",
              "    </tr>\n",
              "    <tr>\n",
              "      <td id=\"T_42c25_row2_col0\" class=\"data row2 col0\" >Dikshit</td>\n",
              "      <td id=\"T_42c25_row2_col1\" class=\"data row2 col1\" >20</td>\n",
              "      <td id=\"T_42c25_row2_col2\" class=\"data row2 col2\" >Head</td>\n",
              "    </tr>\n",
              "    <tr>\n",
              "      <td id=\"T_42c25_row3_col0\" class=\"data row3 col0\" >Khan</td>\n",
              "      <td id=\"T_42c25_row3_col1\" class=\"data row3 col1\" >20</td>\n",
              "      <td id=\"T_42c25_row3_col2\" class=\"data row3 col2\" >Head</td>\n",
              "    </tr>\n",
              "    <tr>\n",
              "      <td id=\"T_42c25_row4_col0\" class=\"data row4 col0\" >Sehwag</td>\n",
              "      <td id=\"T_42c25_row4_col1\" class=\"data row4 col1\" >20</td>\n",
              "      <td id=\"T_42c25_row4_col2\" class=\"data row4 col2\" >Head</td>\n",
              "    </tr>\n",
              "    <tr>\n",
              "      <td id=\"T_42c25_row5_col0\" class=\"data row5 col0\" >Dhoni</td>\n",
              "      <td id=\"T_42c25_row5_col1\" class=\"data row5 col1\" >40</td>\n",
              "      <td id=\"T_42c25_row5_col2\" class=\"data row5 col2\" >Branch</td>\n",
              "    </tr>\n",
              "    <tr>\n",
              "      <td id=\"T_42c25_row6_col0\" class=\"data row6 col0\" >Dravid</td>\n",
              "      <td id=\"T_42c25_row6_col1\" class=\"data row6 col1\" >30</td>\n",
              "      <td id=\"T_42c25_row6_col2\" class=\"data row6 col2\" >Regional</td>\n",
              "    </tr>\n",
              "    <tr>\n",
              "      <td id=\"T_42c25_row7_col0\" class=\"data row7 col0\" >Dalmia</td>\n",
              "      <td id=\"T_42c25_row7_col1\" class=\"data row7 col1\" >30</td>\n",
              "      <td id=\"T_42c25_row7_col2\" class=\"data row7 col2\" >Regional</td>\n",
              "    </tr>\n",
              "    <tr>\n",
              "      <td id=\"T_42c25_row8_col0\" class=\"data row8 col0\" >Ganguly</td>\n",
              "      <td id=\"T_42c25_row8_col1\" class=\"data row8 col1\" >40</td>\n",
              "      <td id=\"T_42c25_row8_col2\" class=\"data row8 col2\" >Branch</td>\n",
              "    </tr>\n",
              "    <tr>\n",
              "      <td id=\"T_42c25_row9_col0\" class=\"data row9 col0\" >Ganesan</td>\n",
              "      <td id=\"T_42c25_row9_col1\" class=\"data row9 col1\" >10</td>\n",
              "      <td id=\"T_42c25_row9_col2\" class=\"data row9 col2\" >Head</td>\n",
              "    </tr>\n",
              "    <tr>\n",
              "      <td id=\"T_42c25_row10_col0\" class=\"data row10 col0\" >Karthikeyan</td>\n",
              "      <td id=\"T_42c25_row10_col1\" class=\"data row10 col1\" >10</td>\n",
              "      <td id=\"T_42c25_row10_col2\" class=\"data row10 col2\" >Head</td>\n",
              "    </tr>\n",
              "    <tr>\n",
              "      <td id=\"T_42c25_row11_col0\" class=\"data row11 col0\" >Sunil</td>\n",
              "      <td id=\"T_42c25_row11_col1\" class=\"data row11 col1\" >70</td>\n",
              "      <td id=\"T_42c25_row11_col2\" class=\"data row11 col2\" >Branch</td>\n",
              "    </tr>\n",
              "    <tr>\n",
              "      <td id=\"T_42c25_row12_col0\" class=\"data row12 col0\" >Mirza</td>\n",
              "      <td id=\"T_42c25_row12_col1\" class=\"data row12 col1\" >30</td>\n",
              "      <td id=\"T_42c25_row12_col2\" class=\"data row12 col2\" >Regional</td>\n",
              "    </tr>\n",
              "  </tbody>\n",
              "</table>\n"
            ]
          },
          "metadata": {},
          "execution_count": 47
        }
      ]
    },
    {
      "cell_type": "markdown",
      "source": [
        "#Join"
      ],
      "metadata": {
        "id": "Rs10ezIPpP0C"
      }
    },
    {
      "cell_type": "markdown",
      "source": [
        "## Basic Inner Join"
      ],
      "metadata": {
        "id": "XMfZP6HUpT4B"
      }
    },
    {
      "cell_type": "code",
      "source": [
        "sql = 'select firstname, lastname, salary, deptname, location, managerid from empl, dept where empl.deptid = dept.deptid'\n",
        "runSelect(sql)"
      ],
      "metadata": {
        "colab": {
          "base_uri": "https://localhost:8080/",
          "height": 426
        },
        "id": "ISiD-VP6pbUz",
        "outputId": "90160c34-900a-4081-ba4a-781c0a1d15a7"
      },
      "execution_count": 48,
      "outputs": [
        {
          "output_type": "execute_result",
          "data": {
            "text/plain": [
              "<pandas.io.formats.style.Styler at 0x7c7ee7f2f610>"
            ],
            "text/html": [
              "<style type=\"text/css\">\n",
              "</style>\n",
              "<table id=\"T_67d99\" class=\"dataframe\">\n",
              "  <thead>\n",
              "    <tr>\n",
              "      <th id=\"T_67d99_level0_col0\" class=\"col_heading level0 col0\" >firstname</th>\n",
              "      <th id=\"T_67d99_level0_col1\" class=\"col_heading level0 col1\" >lastname</th>\n",
              "      <th id=\"T_67d99_level0_col2\" class=\"col_heading level0 col2\" >salary</th>\n",
              "      <th id=\"T_67d99_level0_col3\" class=\"col_heading level0 col3\" >deptname</th>\n",
              "      <th id=\"T_67d99_level0_col4\" class=\"col_heading level0 col4\" >location</th>\n",
              "      <th id=\"T_67d99_level0_col5\" class=\"col_heading level0 col5\" >managerid</th>\n",
              "    </tr>\n",
              "  </thead>\n",
              "  <tbody>\n",
              "    <tr>\n",
              "      <td id=\"T_67d99_row0_col0\" class=\"data row0 col0\" >Narayan</td>\n",
              "      <td id=\"T_67d99_row0_col1\" class=\"data row0 col1\" >Karthikeyan</td>\n",
              "      <td id=\"T_67d99_row0_col2\" class=\"data row0 col2\" >40000</td>\n",
              "      <td id=\"T_67d99_row0_col3\" class=\"data row0 col3\" >Corporate</td>\n",
              "      <td id=\"T_67d99_row0_col4\" class=\"data row0 col4\" >Calcutta</td>\n",
              "      <td id=\"T_67d99_row0_col5\" class=\"data row0 col5\" >299034</td>\n",
              "    </tr>\n",
              "    <tr>\n",
              "      <td id=\"T_67d99_row1_col0\" class=\"data row1 col0\" >Rekha</td>\n",
              "      <td id=\"T_67d99_row1_col1\" class=\"data row1 col1\" >Ganesan</td>\n",
              "      <td id=\"T_67d99_row1_col2\" class=\"data row1 col2\" >60000</td>\n",
              "      <td id=\"T_67d99_row1_col3\" class=\"data row1 col3\" >Corporate</td>\n",
              "      <td id=\"T_67d99_row1_col4\" class=\"data row1 col4\" >Calcutta</td>\n",
              "      <td id=\"T_67d99_row1_col5\" class=\"data row1 col5\" >299034</td>\n",
              "    </tr>\n",
              "    <tr>\n",
              "      <td id=\"T_67d99_row2_col0\" class=\"data row2 col0\" >Amitabh</td>\n",
              "      <td id=\"T_67d99_row2_col1\" class=\"data row2 col1\" >Bacchan</td>\n",
              "      <td id=\"T_67d99_row2_col2\" class=\"data row2 col2\" >50000</td>\n",
              "      <td id=\"T_67d99_row2_col3\" class=\"data row2 col3\" >Corporate</td>\n",
              "      <td id=\"T_67d99_row2_col4\" class=\"data row2 col4\" >Calcutta</td>\n",
              "      <td id=\"T_67d99_row2_col5\" class=\"data row2 col5\" >299034</td>\n",
              "    </tr>\n",
              "    <tr>\n",
              "      <td id=\"T_67d99_row3_col0\" class=\"data row3 col0\" >Virender</td>\n",
              "      <td id=\"T_67d99_row3_col1\" class=\"data row3 col1\" >Sehwag</td>\n",
              "      <td id=\"T_67d99_row3_col2\" class=\"data row3 col2\" >15000</td>\n",
              "      <td id=\"T_67d99_row3_col3\" class=\"data row3 col3\" >Sales</td>\n",
              "      <td id=\"T_67d99_row3_col4\" class=\"data row3 col4\" >Calcutta</td>\n",
              "      <td id=\"T_67d99_row3_col5\" class=\"data row3 col5\" >239456</td>\n",
              "    </tr>\n",
              "    <tr>\n",
              "      <td id=\"T_67d99_row4_col0\" class=\"data row4 col0\" >Shahrukh</td>\n",
              "      <td id=\"T_67d99_row4_col1\" class=\"data row4 col1\" >Khan</td>\n",
              "      <td id=\"T_67d99_row4_col2\" class=\"data row4 col2\" >30000</td>\n",
              "      <td id=\"T_67d99_row4_col3\" class=\"data row4 col3\" >Sales</td>\n",
              "      <td id=\"T_67d99_row4_col4\" class=\"data row4 col4\" >Calcutta</td>\n",
              "      <td id=\"T_67d99_row4_col5\" class=\"data row4 col5\" >239456</td>\n",
              "    </tr>\n",
              "    <tr>\n",
              "      <td id=\"T_67d99_row5_col0\" class=\"data row5 col0\" >Madhuri</td>\n",
              "      <td id=\"T_67d99_row5_col1\" class=\"data row5 col1\" >Dikshit</td>\n",
              "      <td id=\"T_67d99_row5_col2\" class=\"data row5 col2\" >10000</td>\n",
              "      <td id=\"T_67d99_row5_col3\" class=\"data row5 col3\" >Sales</td>\n",
              "      <td id=\"T_67d99_row5_col4\" class=\"data row5 col4\" >Calcutta</td>\n",
              "      <td id=\"T_67d99_row5_col5\" class=\"data row5 col5\" >239456</td>\n",
              "    </tr>\n",
              "    <tr>\n",
              "      <td id=\"T_67d99_row6_col0\" class=\"data row6 col0\" >Sania</td>\n",
              "      <td id=\"T_67d99_row6_col1\" class=\"data row6 col1\" >Mirza</td>\n",
              "      <td id=\"T_67d99_row6_col2\" class=\"data row6 col2\" >25000</td>\n",
              "      <td id=\"T_67d99_row6_col3\" class=\"data row6 col3\" >Accounts</td>\n",
              "      <td id=\"T_67d99_row6_col4\" class=\"data row6 col4\" >Calcutta</td>\n",
              "      <td id=\"T_67d99_row6_col5\" class=\"data row6 col5\" >822134</td>\n",
              "    </tr>\n",
              "    <tr>\n",
              "      <td id=\"T_67d99_row7_col0\" class=\"data row7 col0\" >Jagmohan</td>\n",
              "      <td id=\"T_67d99_row7_col1\" class=\"data row7 col1\" >Dalmia</td>\n",
              "      <td id=\"T_67d99_row7_col2\" class=\"data row7 col2\" >12000</td>\n",
              "      <td id=\"T_67d99_row7_col3\" class=\"data row7 col3\" >Accounts</td>\n",
              "      <td id=\"T_67d99_row7_col4\" class=\"data row7 col4\" >Calcutta</td>\n",
              "      <td id=\"T_67d99_row7_col5\" class=\"data row7 col5\" >822134</td>\n",
              "    </tr>\n",
              "    <tr>\n",
              "      <td id=\"T_67d99_row8_col0\" class=\"data row8 col0\" >Rahul</td>\n",
              "      <td id=\"T_67d99_row8_col1\" class=\"data row8 col1\" >Dravid</td>\n",
              "      <td id=\"T_67d99_row8_col2\" class=\"data row8 col2\" >40000</td>\n",
              "      <td id=\"T_67d99_row8_col3\" class=\"data row8 col3\" >Accounts</td>\n",
              "      <td id=\"T_67d99_row8_col4\" class=\"data row8 col4\" >Calcutta</td>\n",
              "      <td id=\"T_67d99_row8_col5\" class=\"data row8 col5\" >822134</td>\n",
              "    </tr>\n",
              "    <tr>\n",
              "      <td id=\"T_67d99_row9_col0\" class=\"data row9 col0\" >Sourav</td>\n",
              "      <td id=\"T_67d99_row9_col1\" class=\"data row9 col1\" >Ganguly</td>\n",
              "      <td id=\"T_67d99_row9_col2\" class=\"data row9 col2\" >20000</td>\n",
              "      <td id=\"T_67d99_row9_col3\" class=\"data row9 col3\" >Production</td>\n",
              "      <td id=\"T_67d99_row9_col4\" class=\"data row9 col4\" >Bombay</td>\n",
              "      <td id=\"T_67d99_row9_col5\" class=\"data row9 col5\" >349870</td>\n",
              "    </tr>\n",
              "    <tr>\n",
              "      <td id=\"T_67d99_row10_col0\" class=\"data row10 col0\" >Mahender</td>\n",
              "      <td id=\"T_67d99_row10_col1\" class=\"data row10 col1\" >Dhoni</td>\n",
              "      <td id=\"T_67d99_row10_col2\" class=\"data row10 col2\" >9000</td>\n",
              "      <td id=\"T_67d99_row10_col3\" class=\"data row10 col3\" >Production</td>\n",
              "      <td id=\"T_67d99_row10_col4\" class=\"data row10 col4\" >Bombay</td>\n",
              "      <td id=\"T_67d99_row10_col5\" class=\"data row10 col5\" >349870</td>\n",
              "    </tr>\n",
              "    <tr>\n",
              "      <td id=\"T_67d99_row11_col0\" class=\"data row11 col0\" >Rani</td>\n",
              "      <td id=\"T_67d99_row11_col1\" class=\"data row11 col1\" >Mukherjee</td>\n",
              "      <td id=\"T_67d99_row11_col2\" class=\"data row11 col2\" >25000</td>\n",
              "      <td id=\"T_67d99_row11_col3\" class=\"data row11 col3\" >Production</td>\n",
              "      <td id=\"T_67d99_row11_col4\" class=\"data row11 col4\" >Bombay</td>\n",
              "      <td id=\"T_67d99_row11_col5\" class=\"data row11 col5\" >349870</td>\n",
              "    </tr>\n",
              "  </tbody>\n",
              "</table>\n"
            ]
          },
          "metadata": {},
          "execution_count": 48
        }
      ]
    },
    {
      "cell_type": "code",
      "source": [
        "sql = 'select empid, firstname, deptname, location from empl INNER JOIN dept ON empl.deptid = dept.deptid'\n",
        "runSelect(sql)"
      ],
      "metadata": {
        "colab": {
          "base_uri": "https://localhost:8080/",
          "height": 426
        },
        "id": "LVrEArEc1VcF",
        "outputId": "ed8e0753-0480-4acc-bf9f-5b9d0e6e557f"
      },
      "execution_count": 49,
      "outputs": [
        {
          "output_type": "execute_result",
          "data": {
            "text/plain": [
              "<pandas.io.formats.style.Styler at 0x7c7ee7f2d600>"
            ],
            "text/html": [
              "<style type=\"text/css\">\n",
              "</style>\n",
              "<table id=\"T_6633d\" class=\"dataframe\">\n",
              "  <thead>\n",
              "    <tr>\n",
              "      <th id=\"T_6633d_level0_col0\" class=\"col_heading level0 col0\" >empid</th>\n",
              "      <th id=\"T_6633d_level0_col1\" class=\"col_heading level0 col1\" >firstname</th>\n",
              "      <th id=\"T_6633d_level0_col2\" class=\"col_heading level0 col2\" >deptname</th>\n",
              "      <th id=\"T_6633d_level0_col3\" class=\"col_heading level0 col3\" >location</th>\n",
              "    </tr>\n",
              "  </thead>\n",
              "  <tbody>\n",
              "    <tr>\n",
              "      <td id=\"T_6633d_row0_col0\" class=\"data row0 col0\" >546223</td>\n",
              "      <td id=\"T_6633d_row0_col1\" class=\"data row0 col1\" >Narayan</td>\n",
              "      <td id=\"T_6633d_row0_col2\" class=\"data row0 col2\" >Corporate</td>\n",
              "      <td id=\"T_6633d_row0_col3\" class=\"data row0 col3\" >Calcutta</td>\n",
              "    </tr>\n",
              "    <tr>\n",
              "      <td id=\"T_6633d_row1_col0\" class=\"data row1 col0\" >299034</td>\n",
              "      <td id=\"T_6633d_row1_col1\" class=\"data row1 col1\" >Rekha</td>\n",
              "      <td id=\"T_6633d_row1_col2\" class=\"data row1 col2\" >Corporate</td>\n",
              "      <td id=\"T_6633d_row1_col3\" class=\"data row1 col3\" >Calcutta</td>\n",
              "    </tr>\n",
              "    <tr>\n",
              "      <td id=\"T_6633d_row2_col0\" class=\"data row2 col0\" >742866</td>\n",
              "      <td id=\"T_6633d_row2_col1\" class=\"data row2 col1\" >Amitabh</td>\n",
              "      <td id=\"T_6633d_row2_col2\" class=\"data row2 col2\" >Corporate</td>\n",
              "      <td id=\"T_6633d_row2_col3\" class=\"data row2 col3\" >Calcutta</td>\n",
              "    </tr>\n",
              "    <tr>\n",
              "      <td id=\"T_6633d_row3_col0\" class=\"data row3 col0\" >897889</td>\n",
              "      <td id=\"T_6633d_row3_col1\" class=\"data row3 col1\" >Virender</td>\n",
              "      <td id=\"T_6633d_row3_col2\" class=\"data row3 col2\" >Sales</td>\n",
              "      <td id=\"T_6633d_row3_col3\" class=\"data row3 col3\" >Calcutta</td>\n",
              "    </tr>\n",
              "    <tr>\n",
              "      <td id=\"T_6633d_row4_col0\" class=\"data row4 col0\" >239456</td>\n",
              "      <td id=\"T_6633d_row4_col1\" class=\"data row4 col1\" >Shahrukh</td>\n",
              "      <td id=\"T_6633d_row4_col2\" class=\"data row4 col2\" >Sales</td>\n",
              "      <td id=\"T_6633d_row4_col3\" class=\"data row4 col3\" >Calcutta</td>\n",
              "    </tr>\n",
              "    <tr>\n",
              "      <td id=\"T_6633d_row5_col0\" class=\"data row5 col0\" >865477</td>\n",
              "      <td id=\"T_6633d_row5_col1\" class=\"data row5 col1\" >Madhuri</td>\n",
              "      <td id=\"T_6633d_row5_col2\" class=\"data row5 col2\" >Sales</td>\n",
              "      <td id=\"T_6633d_row5_col3\" class=\"data row5 col3\" >Calcutta</td>\n",
              "    </tr>\n",
              "    <tr>\n",
              "      <td id=\"T_6633d_row6_col0\" class=\"data row6 col0\" >223112</td>\n",
              "      <td id=\"T_6633d_row6_col1\" class=\"data row6 col1\" >Sania</td>\n",
              "      <td id=\"T_6633d_row6_col2\" class=\"data row6 col2\" >Accounts</td>\n",
              "      <td id=\"T_6633d_row6_col3\" class=\"data row6 col3\" >Calcutta</td>\n",
              "    </tr>\n",
              "    <tr>\n",
              "      <td id=\"T_6633d_row7_col0\" class=\"data row7 col0\" >997445</td>\n",
              "      <td id=\"T_6633d_row7_col1\" class=\"data row7 col1\" >Jagmohan</td>\n",
              "      <td id=\"T_6633d_row7_col2\" class=\"data row7 col2\" >Accounts</td>\n",
              "      <td id=\"T_6633d_row7_col3\" class=\"data row7 col3\" >Calcutta</td>\n",
              "    </tr>\n",
              "    <tr>\n",
              "      <td id=\"T_6633d_row8_col0\" class=\"data row8 col0\" >822134</td>\n",
              "      <td id=\"T_6633d_row8_col1\" class=\"data row8 col1\" >Rahul</td>\n",
              "      <td id=\"T_6633d_row8_col2\" class=\"data row8 col2\" >Accounts</td>\n",
              "      <td id=\"T_6633d_row8_col3\" class=\"data row8 col3\" >Calcutta</td>\n",
              "    </tr>\n",
              "    <tr>\n",
              "      <td id=\"T_6633d_row9_col0\" class=\"data row9 col0\" >989007</td>\n",
              "      <td id=\"T_6633d_row9_col1\" class=\"data row9 col1\" >Sourav</td>\n",
              "      <td id=\"T_6633d_row9_col2\" class=\"data row9 col2\" >Production</td>\n",
              "      <td id=\"T_6633d_row9_col3\" class=\"data row9 col3\" >Bombay</td>\n",
              "    </tr>\n",
              "    <tr>\n",
              "      <td id=\"T_6633d_row10_col0\" class=\"data row10 col0\" >123980</td>\n",
              "      <td id=\"T_6633d_row10_col1\" class=\"data row10 col1\" >Mahender</td>\n",
              "      <td id=\"T_6633d_row10_col2\" class=\"data row10 col2\" >Production</td>\n",
              "      <td id=\"T_6633d_row10_col3\" class=\"data row10 col3\" >Bombay</td>\n",
              "    </tr>\n",
              "    <tr>\n",
              "      <td id=\"T_6633d_row11_col0\" class=\"data row11 col0\" >349870</td>\n",
              "      <td id=\"T_6633d_row11_col1\" class=\"data row11 col1\" >Rani</td>\n",
              "      <td id=\"T_6633d_row11_col2\" class=\"data row11 col2\" >Production</td>\n",
              "      <td id=\"T_6633d_row11_col3\" class=\"data row11 col3\" >Bombay</td>\n",
              "    </tr>\n",
              "  </tbody>\n",
              "</table>\n"
            ]
          },
          "metadata": {},
          "execution_count": 49
        }
      ]
    },
    {
      "cell_type": "code",
      "source": [
        "sql = 'select deptname,round(sum(salary),0) payroll from empl INNER JOIN dept ON empl.deptid = dept.deptid \\\n",
        "group by deptname'\n",
        "runSelect(sql)"
      ],
      "metadata": {
        "id": "pKk82QRi28DP",
        "outputId": "3127b6a5-cb7a-4b10-f187-89938126ec94",
        "colab": {
          "base_uri": "https://localhost:8080/",
          "height": 175
        }
      },
      "execution_count": 50,
      "outputs": [
        {
          "output_type": "execute_result",
          "data": {
            "text/plain": [
              "<pandas.io.formats.style.Styler at 0x7c7ee7f2d990>"
            ],
            "text/html": [
              "<style type=\"text/css\">\n",
              "</style>\n",
              "<table id=\"T_0b6d3\" class=\"dataframe\">\n",
              "  <thead>\n",
              "    <tr>\n",
              "      <th id=\"T_0b6d3_level0_col0\" class=\"col_heading level0 col0\" >deptname</th>\n",
              "      <th id=\"T_0b6d3_level0_col1\" class=\"col_heading level0 col1\" >payroll</th>\n",
              "    </tr>\n",
              "  </thead>\n",
              "  <tbody>\n",
              "    <tr>\n",
              "      <td id=\"T_0b6d3_row0_col0\" class=\"data row0 col0\" >Corporate</td>\n",
              "      <td id=\"T_0b6d3_row0_col1\" class=\"data row0 col1\" >150000</td>\n",
              "    </tr>\n",
              "    <tr>\n",
              "      <td id=\"T_0b6d3_row1_col0\" class=\"data row1 col0\" >Accounts</td>\n",
              "      <td id=\"T_0b6d3_row1_col1\" class=\"data row1 col1\" >77000</td>\n",
              "    </tr>\n",
              "    <tr>\n",
              "      <td id=\"T_0b6d3_row2_col0\" class=\"data row2 col0\" >Sales</td>\n",
              "      <td id=\"T_0b6d3_row2_col1\" class=\"data row2 col1\" >55000</td>\n",
              "    </tr>\n",
              "    <tr>\n",
              "      <td id=\"T_0b6d3_row3_col0\" class=\"data row3 col0\" >Production</td>\n",
              "      <td id=\"T_0b6d3_row3_col1\" class=\"data row3 col1\" >54000</td>\n",
              "    </tr>\n",
              "  </tbody>\n",
              "</table>\n"
            ]
          },
          "metadata": {},
          "execution_count": 50
        }
      ]
    },
    {
      "cell_type": "markdown",
      "source": [
        "## Outer Join"
      ],
      "metadata": {
        "id": "tK9uJHAL1u6x"
      }
    },
    {
      "cell_type": "markdown",
      "source": [
        "### Left Outer"
      ],
      "metadata": {
        "id": "5wGFVhyJ2x8S"
      }
    },
    {
      "cell_type": "code",
      "source": [
        "sql = 'select empid, firstname, deptname, location from empl LEFT JOIN dept ON empl.deptid = dept.deptid'\n",
        "runSelect(sql)"
      ],
      "metadata": {
        "colab": {
          "base_uri": "https://localhost:8080/",
          "height": 457
        },
        "id": "Ls6VfOXt1zTq",
        "outputId": "6b411796-afea-48ad-e760-04afb143c118"
      },
      "execution_count": 51,
      "outputs": [
        {
          "output_type": "execute_result",
          "data": {
            "text/plain": [
              "<pandas.io.formats.style.Styler at 0x7c7ee7f2f400>"
            ],
            "text/html": [
              "<style type=\"text/css\">\n",
              "</style>\n",
              "<table id=\"T_2632b\" class=\"dataframe\">\n",
              "  <thead>\n",
              "    <tr>\n",
              "      <th id=\"T_2632b_level0_col0\" class=\"col_heading level0 col0\" >empid</th>\n",
              "      <th id=\"T_2632b_level0_col1\" class=\"col_heading level0 col1\" >firstname</th>\n",
              "      <th id=\"T_2632b_level0_col2\" class=\"col_heading level0 col2\" >deptname</th>\n",
              "      <th id=\"T_2632b_level0_col3\" class=\"col_heading level0 col3\" >location</th>\n",
              "    </tr>\n",
              "  </thead>\n",
              "  <tbody>\n",
              "    <tr>\n",
              "      <td id=\"T_2632b_row0_col0\" class=\"data row0 col0\" >546223</td>\n",
              "      <td id=\"T_2632b_row0_col1\" class=\"data row0 col1\" >Narayan</td>\n",
              "      <td id=\"T_2632b_row0_col2\" class=\"data row0 col2\" >Corporate</td>\n",
              "      <td id=\"T_2632b_row0_col3\" class=\"data row0 col3\" >Calcutta</td>\n",
              "    </tr>\n",
              "    <tr>\n",
              "      <td id=\"T_2632b_row1_col0\" class=\"data row1 col0\" >299034</td>\n",
              "      <td id=\"T_2632b_row1_col1\" class=\"data row1 col1\" >Rekha</td>\n",
              "      <td id=\"T_2632b_row1_col2\" class=\"data row1 col2\" >Corporate</td>\n",
              "      <td id=\"T_2632b_row1_col3\" class=\"data row1 col3\" >Calcutta</td>\n",
              "    </tr>\n",
              "    <tr>\n",
              "      <td id=\"T_2632b_row2_col0\" class=\"data row2 col0\" >742866</td>\n",
              "      <td id=\"T_2632b_row2_col1\" class=\"data row2 col1\" >Amitabh</td>\n",
              "      <td id=\"T_2632b_row2_col2\" class=\"data row2 col2\" >Corporate</td>\n",
              "      <td id=\"T_2632b_row2_col3\" class=\"data row2 col3\" >Calcutta</td>\n",
              "    </tr>\n",
              "    <tr>\n",
              "      <td id=\"T_2632b_row3_col0\" class=\"data row3 col0\" >897889</td>\n",
              "      <td id=\"T_2632b_row3_col1\" class=\"data row3 col1\" >Virender</td>\n",
              "      <td id=\"T_2632b_row3_col2\" class=\"data row3 col2\" >Sales</td>\n",
              "      <td id=\"T_2632b_row3_col3\" class=\"data row3 col3\" >Calcutta</td>\n",
              "    </tr>\n",
              "    <tr>\n",
              "      <td id=\"T_2632b_row4_col0\" class=\"data row4 col0\" >239456</td>\n",
              "      <td id=\"T_2632b_row4_col1\" class=\"data row4 col1\" >Shahrukh</td>\n",
              "      <td id=\"T_2632b_row4_col2\" class=\"data row4 col2\" >Sales</td>\n",
              "      <td id=\"T_2632b_row4_col3\" class=\"data row4 col3\" >Calcutta</td>\n",
              "    </tr>\n",
              "    <tr>\n",
              "      <td id=\"T_2632b_row5_col0\" class=\"data row5 col0\" >865477</td>\n",
              "      <td id=\"T_2632b_row5_col1\" class=\"data row5 col1\" >Madhuri</td>\n",
              "      <td id=\"T_2632b_row5_col2\" class=\"data row5 col2\" >Sales</td>\n",
              "      <td id=\"T_2632b_row5_col3\" class=\"data row5 col3\" >Calcutta</td>\n",
              "    </tr>\n",
              "    <tr>\n",
              "      <td id=\"T_2632b_row6_col0\" class=\"data row6 col0\" >223112</td>\n",
              "      <td id=\"T_2632b_row6_col1\" class=\"data row6 col1\" >Sania</td>\n",
              "      <td id=\"T_2632b_row6_col2\" class=\"data row6 col2\" >Accounts</td>\n",
              "      <td id=\"T_2632b_row6_col3\" class=\"data row6 col3\" >Calcutta</td>\n",
              "    </tr>\n",
              "    <tr>\n",
              "      <td id=\"T_2632b_row7_col0\" class=\"data row7 col0\" >997445</td>\n",
              "      <td id=\"T_2632b_row7_col1\" class=\"data row7 col1\" >Jagmohan</td>\n",
              "      <td id=\"T_2632b_row7_col2\" class=\"data row7 col2\" >Accounts</td>\n",
              "      <td id=\"T_2632b_row7_col3\" class=\"data row7 col3\" >Calcutta</td>\n",
              "    </tr>\n",
              "    <tr>\n",
              "      <td id=\"T_2632b_row8_col0\" class=\"data row8 col0\" >822134</td>\n",
              "      <td id=\"T_2632b_row8_col1\" class=\"data row8 col1\" >Rahul</td>\n",
              "      <td id=\"T_2632b_row8_col2\" class=\"data row8 col2\" >Accounts</td>\n",
              "      <td id=\"T_2632b_row8_col3\" class=\"data row8 col3\" >Calcutta</td>\n",
              "    </tr>\n",
              "    <tr>\n",
              "      <td id=\"T_2632b_row9_col0\" class=\"data row9 col0\" >989007</td>\n",
              "      <td id=\"T_2632b_row9_col1\" class=\"data row9 col1\" >Sourav</td>\n",
              "      <td id=\"T_2632b_row9_col2\" class=\"data row9 col2\" >Production</td>\n",
              "      <td id=\"T_2632b_row9_col3\" class=\"data row9 col3\" >Bombay</td>\n",
              "    </tr>\n",
              "    <tr>\n",
              "      <td id=\"T_2632b_row10_col0\" class=\"data row10 col0\" >123980</td>\n",
              "      <td id=\"T_2632b_row10_col1\" class=\"data row10 col1\" >Mahender</td>\n",
              "      <td id=\"T_2632b_row10_col2\" class=\"data row10 col2\" >Production</td>\n",
              "      <td id=\"T_2632b_row10_col3\" class=\"data row10 col3\" >Bombay</td>\n",
              "    </tr>\n",
              "    <tr>\n",
              "      <td id=\"T_2632b_row11_col0\" class=\"data row11 col0\" >349870</td>\n",
              "      <td id=\"T_2632b_row11_col1\" class=\"data row11 col1\" >Rani</td>\n",
              "      <td id=\"T_2632b_row11_col2\" class=\"data row11 col2\" >Production</td>\n",
              "      <td id=\"T_2632b_row11_col3\" class=\"data row11 col3\" >Bombay</td>\n",
              "    </tr>\n",
              "    <tr>\n",
              "      <td id=\"T_2632b_row12_col0\" class=\"data row12 col0\" >546224</td>\n",
              "      <td id=\"T_2632b_row12_col1\" class=\"data row12 col1\" >Chettri</td>\n",
              "      <td id=\"T_2632b_row12_col2\" class=\"data row12 col2\" >None</td>\n",
              "      <td id=\"T_2632b_row12_col3\" class=\"data row12 col3\" >None</td>\n",
              "    </tr>\n",
              "  </tbody>\n",
              "</table>\n"
            ]
          },
          "metadata": {},
          "execution_count": 51
        }
      ]
    },
    {
      "cell_type": "markdown",
      "source": [
        "### Right Outer"
      ],
      "metadata": {
        "id": "iJ6DASb121Og"
      }
    },
    {
      "cell_type": "code",
      "source": [
        "sql = 'select empid, firstname, deptname, location from empl RIGHT JOIN dept ON empl.deptid = dept.deptid'\n",
        "runSelect(sql)"
      ],
      "metadata": {
        "colab": {
          "base_uri": "https://localhost:8080/",
          "height": 457
        },
        "id": "khvQpQ4E2XND",
        "outputId": "3cf33ec5-1597-4ecc-af57-34175063e5f5"
      },
      "execution_count": 52,
      "outputs": [
        {
          "output_type": "execute_result",
          "data": {
            "text/plain": [
              "<pandas.io.formats.style.Styler at 0x7c7ee7f2e560>"
            ],
            "text/html": [
              "<style type=\"text/css\">\n",
              "</style>\n",
              "<table id=\"T_e0efe\" class=\"dataframe\">\n",
              "  <thead>\n",
              "    <tr>\n",
              "      <th id=\"T_e0efe_level0_col0\" class=\"col_heading level0 col0\" >empid</th>\n",
              "      <th id=\"T_e0efe_level0_col1\" class=\"col_heading level0 col1\" >firstname</th>\n",
              "      <th id=\"T_e0efe_level0_col2\" class=\"col_heading level0 col2\" >deptname</th>\n",
              "      <th id=\"T_e0efe_level0_col3\" class=\"col_heading level0 col3\" >location</th>\n",
              "    </tr>\n",
              "  </thead>\n",
              "  <tbody>\n",
              "    <tr>\n",
              "      <td id=\"T_e0efe_row0_col0\" class=\"data row0 col0\" >546223</td>\n",
              "      <td id=\"T_e0efe_row0_col1\" class=\"data row0 col1\" >Narayan</td>\n",
              "      <td id=\"T_e0efe_row0_col2\" class=\"data row0 col2\" >Corporate</td>\n",
              "      <td id=\"T_e0efe_row0_col3\" class=\"data row0 col3\" >Calcutta</td>\n",
              "    </tr>\n",
              "    <tr>\n",
              "      <td id=\"T_e0efe_row1_col0\" class=\"data row1 col0\" >299034</td>\n",
              "      <td id=\"T_e0efe_row1_col1\" class=\"data row1 col1\" >Rekha</td>\n",
              "      <td id=\"T_e0efe_row1_col2\" class=\"data row1 col2\" >Corporate</td>\n",
              "      <td id=\"T_e0efe_row1_col3\" class=\"data row1 col3\" >Calcutta</td>\n",
              "    </tr>\n",
              "    <tr>\n",
              "      <td id=\"T_e0efe_row2_col0\" class=\"data row2 col0\" >742866</td>\n",
              "      <td id=\"T_e0efe_row2_col1\" class=\"data row2 col1\" >Amitabh</td>\n",
              "      <td id=\"T_e0efe_row2_col2\" class=\"data row2 col2\" >Corporate</td>\n",
              "      <td id=\"T_e0efe_row2_col3\" class=\"data row2 col3\" >Calcutta</td>\n",
              "    </tr>\n",
              "    <tr>\n",
              "      <td id=\"T_e0efe_row3_col0\" class=\"data row3 col0\" >897889</td>\n",
              "      <td id=\"T_e0efe_row3_col1\" class=\"data row3 col1\" >Virender</td>\n",
              "      <td id=\"T_e0efe_row3_col2\" class=\"data row3 col2\" >Sales</td>\n",
              "      <td id=\"T_e0efe_row3_col3\" class=\"data row3 col3\" >Calcutta</td>\n",
              "    </tr>\n",
              "    <tr>\n",
              "      <td id=\"T_e0efe_row4_col0\" class=\"data row4 col0\" >239456</td>\n",
              "      <td id=\"T_e0efe_row4_col1\" class=\"data row4 col1\" >Shahrukh</td>\n",
              "      <td id=\"T_e0efe_row4_col2\" class=\"data row4 col2\" >Sales</td>\n",
              "      <td id=\"T_e0efe_row4_col3\" class=\"data row4 col3\" >Calcutta</td>\n",
              "    </tr>\n",
              "    <tr>\n",
              "      <td id=\"T_e0efe_row5_col0\" class=\"data row5 col0\" >865477</td>\n",
              "      <td id=\"T_e0efe_row5_col1\" class=\"data row5 col1\" >Madhuri</td>\n",
              "      <td id=\"T_e0efe_row5_col2\" class=\"data row5 col2\" >Sales</td>\n",
              "      <td id=\"T_e0efe_row5_col3\" class=\"data row5 col3\" >Calcutta</td>\n",
              "    </tr>\n",
              "    <tr>\n",
              "      <td id=\"T_e0efe_row6_col0\" class=\"data row6 col0\" >223112</td>\n",
              "      <td id=\"T_e0efe_row6_col1\" class=\"data row6 col1\" >Sania</td>\n",
              "      <td id=\"T_e0efe_row6_col2\" class=\"data row6 col2\" >Accounts</td>\n",
              "      <td id=\"T_e0efe_row6_col3\" class=\"data row6 col3\" >Calcutta</td>\n",
              "    </tr>\n",
              "    <tr>\n",
              "      <td id=\"T_e0efe_row7_col0\" class=\"data row7 col0\" >997445</td>\n",
              "      <td id=\"T_e0efe_row7_col1\" class=\"data row7 col1\" >Jagmohan</td>\n",
              "      <td id=\"T_e0efe_row7_col2\" class=\"data row7 col2\" >Accounts</td>\n",
              "      <td id=\"T_e0efe_row7_col3\" class=\"data row7 col3\" >Calcutta</td>\n",
              "    </tr>\n",
              "    <tr>\n",
              "      <td id=\"T_e0efe_row8_col0\" class=\"data row8 col0\" >822134</td>\n",
              "      <td id=\"T_e0efe_row8_col1\" class=\"data row8 col1\" >Rahul</td>\n",
              "      <td id=\"T_e0efe_row8_col2\" class=\"data row8 col2\" >Accounts</td>\n",
              "      <td id=\"T_e0efe_row8_col3\" class=\"data row8 col3\" >Calcutta</td>\n",
              "    </tr>\n",
              "    <tr>\n",
              "      <td id=\"T_e0efe_row9_col0\" class=\"data row9 col0\" >989007</td>\n",
              "      <td id=\"T_e0efe_row9_col1\" class=\"data row9 col1\" >Sourav</td>\n",
              "      <td id=\"T_e0efe_row9_col2\" class=\"data row9 col2\" >Production</td>\n",
              "      <td id=\"T_e0efe_row9_col3\" class=\"data row9 col3\" >Bombay</td>\n",
              "    </tr>\n",
              "    <tr>\n",
              "      <td id=\"T_e0efe_row10_col0\" class=\"data row10 col0\" >123980</td>\n",
              "      <td id=\"T_e0efe_row10_col1\" class=\"data row10 col1\" >Mahender</td>\n",
              "      <td id=\"T_e0efe_row10_col2\" class=\"data row10 col2\" >Production</td>\n",
              "      <td id=\"T_e0efe_row10_col3\" class=\"data row10 col3\" >Bombay</td>\n",
              "    </tr>\n",
              "    <tr>\n",
              "      <td id=\"T_e0efe_row11_col0\" class=\"data row11 col0\" >349870</td>\n",
              "      <td id=\"T_e0efe_row11_col1\" class=\"data row11 col1\" >Rani</td>\n",
              "      <td id=\"T_e0efe_row11_col2\" class=\"data row11 col2\" >Production</td>\n",
              "      <td id=\"T_e0efe_row11_col3\" class=\"data row11 col3\" >Bombay</td>\n",
              "    </tr>\n",
              "    <tr>\n",
              "      <td id=\"T_e0efe_row12_col0\" class=\"data row12 col0\" >None</td>\n",
              "      <td id=\"T_e0efe_row12_col1\" class=\"data row12 col1\" >None</td>\n",
              "      <td id=\"T_e0efe_row12_col2\" class=\"data row12 col2\" >Research</td>\n",
              "      <td id=\"T_e0efe_row12_col3\" class=\"data row12 col3\" >Delhi</td>\n",
              "    </tr>\n",
              "  </tbody>\n",
              "</table>\n"
            ]
          },
          "metadata": {},
          "execution_count": 52
        }
      ]
    },
    {
      "cell_type": "markdown",
      "source": [
        "### Full Outer"
      ],
      "metadata": {
        "id": "RsEyhBBp24zy"
      }
    },
    {
      "cell_type": "code",
      "source": [
        "sql = 'select empid, firstname, deptname, location from empl FULL JOIN dept ON empl.deptid = dept.deptid'\n",
        "runSelect(sql)"
      ],
      "metadata": {
        "colab": {
          "base_uri": "https://localhost:8080/",
          "height": 488
        },
        "id": "Ipt14U9o2qFg",
        "outputId": "9505eb66-181b-4700-f8ba-d45c1479428e"
      },
      "execution_count": 53,
      "outputs": [
        {
          "output_type": "execute_result",
          "data": {
            "text/plain": [
              "<pandas.io.formats.style.Styler at 0x7c7ee7dbcbb0>"
            ],
            "text/html": [
              "<style type=\"text/css\">\n",
              "</style>\n",
              "<table id=\"T_4a8dc\" class=\"dataframe\">\n",
              "  <thead>\n",
              "    <tr>\n",
              "      <th id=\"T_4a8dc_level0_col0\" class=\"col_heading level0 col0\" >empid</th>\n",
              "      <th id=\"T_4a8dc_level0_col1\" class=\"col_heading level0 col1\" >firstname</th>\n",
              "      <th id=\"T_4a8dc_level0_col2\" class=\"col_heading level0 col2\" >deptname</th>\n",
              "      <th id=\"T_4a8dc_level0_col3\" class=\"col_heading level0 col3\" >location</th>\n",
              "    </tr>\n",
              "  </thead>\n",
              "  <tbody>\n",
              "    <tr>\n",
              "      <td id=\"T_4a8dc_row0_col0\" class=\"data row0 col0\" >546223</td>\n",
              "      <td id=\"T_4a8dc_row0_col1\" class=\"data row0 col1\" >Narayan</td>\n",
              "      <td id=\"T_4a8dc_row0_col2\" class=\"data row0 col2\" >Corporate</td>\n",
              "      <td id=\"T_4a8dc_row0_col3\" class=\"data row0 col3\" >Calcutta</td>\n",
              "    </tr>\n",
              "    <tr>\n",
              "      <td id=\"T_4a8dc_row1_col0\" class=\"data row1 col0\" >299034</td>\n",
              "      <td id=\"T_4a8dc_row1_col1\" class=\"data row1 col1\" >Rekha</td>\n",
              "      <td id=\"T_4a8dc_row1_col2\" class=\"data row1 col2\" >Corporate</td>\n",
              "      <td id=\"T_4a8dc_row1_col3\" class=\"data row1 col3\" >Calcutta</td>\n",
              "    </tr>\n",
              "    <tr>\n",
              "      <td id=\"T_4a8dc_row2_col0\" class=\"data row2 col0\" >742866</td>\n",
              "      <td id=\"T_4a8dc_row2_col1\" class=\"data row2 col1\" >Amitabh</td>\n",
              "      <td id=\"T_4a8dc_row2_col2\" class=\"data row2 col2\" >Corporate</td>\n",
              "      <td id=\"T_4a8dc_row2_col3\" class=\"data row2 col3\" >Calcutta</td>\n",
              "    </tr>\n",
              "    <tr>\n",
              "      <td id=\"T_4a8dc_row3_col0\" class=\"data row3 col0\" >897889</td>\n",
              "      <td id=\"T_4a8dc_row3_col1\" class=\"data row3 col1\" >Virender</td>\n",
              "      <td id=\"T_4a8dc_row3_col2\" class=\"data row3 col2\" >Sales</td>\n",
              "      <td id=\"T_4a8dc_row3_col3\" class=\"data row3 col3\" >Calcutta</td>\n",
              "    </tr>\n",
              "    <tr>\n",
              "      <td id=\"T_4a8dc_row4_col0\" class=\"data row4 col0\" >239456</td>\n",
              "      <td id=\"T_4a8dc_row4_col1\" class=\"data row4 col1\" >Shahrukh</td>\n",
              "      <td id=\"T_4a8dc_row4_col2\" class=\"data row4 col2\" >Sales</td>\n",
              "      <td id=\"T_4a8dc_row4_col3\" class=\"data row4 col3\" >Calcutta</td>\n",
              "    </tr>\n",
              "    <tr>\n",
              "      <td id=\"T_4a8dc_row5_col0\" class=\"data row5 col0\" >865477</td>\n",
              "      <td id=\"T_4a8dc_row5_col1\" class=\"data row5 col1\" >Madhuri</td>\n",
              "      <td id=\"T_4a8dc_row5_col2\" class=\"data row5 col2\" >Sales</td>\n",
              "      <td id=\"T_4a8dc_row5_col3\" class=\"data row5 col3\" >Calcutta</td>\n",
              "    </tr>\n",
              "    <tr>\n",
              "      <td id=\"T_4a8dc_row6_col0\" class=\"data row6 col0\" >223112</td>\n",
              "      <td id=\"T_4a8dc_row6_col1\" class=\"data row6 col1\" >Sania</td>\n",
              "      <td id=\"T_4a8dc_row6_col2\" class=\"data row6 col2\" >Accounts</td>\n",
              "      <td id=\"T_4a8dc_row6_col3\" class=\"data row6 col3\" >Calcutta</td>\n",
              "    </tr>\n",
              "    <tr>\n",
              "      <td id=\"T_4a8dc_row7_col0\" class=\"data row7 col0\" >997445</td>\n",
              "      <td id=\"T_4a8dc_row7_col1\" class=\"data row7 col1\" >Jagmohan</td>\n",
              "      <td id=\"T_4a8dc_row7_col2\" class=\"data row7 col2\" >Accounts</td>\n",
              "      <td id=\"T_4a8dc_row7_col3\" class=\"data row7 col3\" >Calcutta</td>\n",
              "    </tr>\n",
              "    <tr>\n",
              "      <td id=\"T_4a8dc_row8_col0\" class=\"data row8 col0\" >822134</td>\n",
              "      <td id=\"T_4a8dc_row8_col1\" class=\"data row8 col1\" >Rahul</td>\n",
              "      <td id=\"T_4a8dc_row8_col2\" class=\"data row8 col2\" >Accounts</td>\n",
              "      <td id=\"T_4a8dc_row8_col3\" class=\"data row8 col3\" >Calcutta</td>\n",
              "    </tr>\n",
              "    <tr>\n",
              "      <td id=\"T_4a8dc_row9_col0\" class=\"data row9 col0\" >989007</td>\n",
              "      <td id=\"T_4a8dc_row9_col1\" class=\"data row9 col1\" >Sourav</td>\n",
              "      <td id=\"T_4a8dc_row9_col2\" class=\"data row9 col2\" >Production</td>\n",
              "      <td id=\"T_4a8dc_row9_col3\" class=\"data row9 col3\" >Bombay</td>\n",
              "    </tr>\n",
              "    <tr>\n",
              "      <td id=\"T_4a8dc_row10_col0\" class=\"data row10 col0\" >123980</td>\n",
              "      <td id=\"T_4a8dc_row10_col1\" class=\"data row10 col1\" >Mahender</td>\n",
              "      <td id=\"T_4a8dc_row10_col2\" class=\"data row10 col2\" >Production</td>\n",
              "      <td id=\"T_4a8dc_row10_col3\" class=\"data row10 col3\" >Bombay</td>\n",
              "    </tr>\n",
              "    <tr>\n",
              "      <td id=\"T_4a8dc_row11_col0\" class=\"data row11 col0\" >349870</td>\n",
              "      <td id=\"T_4a8dc_row11_col1\" class=\"data row11 col1\" >Rani</td>\n",
              "      <td id=\"T_4a8dc_row11_col2\" class=\"data row11 col2\" >Production</td>\n",
              "      <td id=\"T_4a8dc_row11_col3\" class=\"data row11 col3\" >Bombay</td>\n",
              "    </tr>\n",
              "    <tr>\n",
              "      <td id=\"T_4a8dc_row12_col0\" class=\"data row12 col0\" >None</td>\n",
              "      <td id=\"T_4a8dc_row12_col1\" class=\"data row12 col1\" >None</td>\n",
              "      <td id=\"T_4a8dc_row12_col2\" class=\"data row12 col2\" >Research</td>\n",
              "      <td id=\"T_4a8dc_row12_col3\" class=\"data row12 col3\" >Delhi</td>\n",
              "    </tr>\n",
              "    <tr>\n",
              "      <td id=\"T_4a8dc_row13_col0\" class=\"data row13 col0\" >546224</td>\n",
              "      <td id=\"T_4a8dc_row13_col1\" class=\"data row13 col1\" >Chettri</td>\n",
              "      <td id=\"T_4a8dc_row13_col2\" class=\"data row13 col2\" >None</td>\n",
              "      <td id=\"T_4a8dc_row13_col3\" class=\"data row13 col3\" >None</td>\n",
              "    </tr>\n",
              "  </tbody>\n",
              "</table>\n"
            ]
          },
          "metadata": {},
          "execution_count": 53
        }
      ]
    },
    {
      "cell_type": "code",
      "source": [
        "sql = 'select deptname,round(sum(salary),0) payroll from empl FULL JOIN dept ON empl.deptid = dept.deptid \\\n",
        "group by deptname'\n",
        "runSelect(sql)"
      ],
      "metadata": {
        "id": "EAI2kiYP3p9O",
        "outputId": "200212a3-6716-4190-d15a-ee7eeb8d96cf",
        "colab": {
          "base_uri": "https://localhost:8080/",
          "height": 238
        }
      },
      "execution_count": 54,
      "outputs": [
        {
          "output_type": "execute_result",
          "data": {
            "text/plain": [
              "<pandas.io.formats.style.Styler at 0x7c7ee7dbc580>"
            ],
            "text/html": [
              "<style type=\"text/css\">\n",
              "</style>\n",
              "<table id=\"T_91024\" class=\"dataframe\">\n",
              "  <thead>\n",
              "    <tr>\n",
              "      <th id=\"T_91024_level0_col0\" class=\"col_heading level0 col0\" >deptname</th>\n",
              "      <th id=\"T_91024_level0_col1\" class=\"col_heading level0 col1\" >payroll</th>\n",
              "    </tr>\n",
              "  </thead>\n",
              "  <tbody>\n",
              "    <tr>\n",
              "      <td id=\"T_91024_row0_col0\" class=\"data row0 col0\" >None</td>\n",
              "      <td id=\"T_91024_row0_col1\" class=\"data row0 col1\" >40000</td>\n",
              "    </tr>\n",
              "    <tr>\n",
              "      <td id=\"T_91024_row1_col0\" class=\"data row1 col0\" >Research</td>\n",
              "      <td id=\"T_91024_row1_col1\" class=\"data row1 col1\" >None</td>\n",
              "    </tr>\n",
              "    <tr>\n",
              "      <td id=\"T_91024_row2_col0\" class=\"data row2 col0\" >Corporate</td>\n",
              "      <td id=\"T_91024_row2_col1\" class=\"data row2 col1\" >150000</td>\n",
              "    </tr>\n",
              "    <tr>\n",
              "      <td id=\"T_91024_row3_col0\" class=\"data row3 col0\" >Accounts</td>\n",
              "      <td id=\"T_91024_row3_col1\" class=\"data row3 col1\" >77000</td>\n",
              "    </tr>\n",
              "    <tr>\n",
              "      <td id=\"T_91024_row4_col0\" class=\"data row4 col0\" >Sales</td>\n",
              "      <td id=\"T_91024_row4_col1\" class=\"data row4 col1\" >55000</td>\n",
              "    </tr>\n",
              "    <tr>\n",
              "      <td id=\"T_91024_row5_col0\" class=\"data row5 col0\" >Production</td>\n",
              "      <td id=\"T_91024_row5_col1\" class=\"data row5 col1\" >54000</td>\n",
              "    </tr>\n",
              "  </tbody>\n",
              "</table>\n"
            ]
          },
          "metadata": {},
          "execution_count": 54
        }
      ]
    },
    {
      "cell_type": "markdown",
      "source": [
        "## Recursive Joins"
      ],
      "metadata": {
        "id": "6nm2xAfn6pIV"
      }
    },
    {
      "cell_type": "markdown",
      "source": [
        "### Three Tables"
      ],
      "metadata": {
        "id": "A1KCGwwyB02z"
      }
    },
    {
      "cell_type": "code",
      "source": [
        "cmd = \"select w.lastname , w.deptID, '>' linksTo  , d.deptID ,d.managerID,'<' linksTo, m.empID, m.lastname \\\n",
        "        from Empl w, Dept d, Empl m \\\n",
        "        where w.deptID = d.deptID   \\\n",
        "        and d.managerID = m.empID \\\n",
        "    \"\n",
        "runSelect(cmd)"
      ],
      "metadata": {
        "colab": {
          "base_uri": "https://localhost:8080/",
          "height": 426
        },
        "id": "W17nS5R7AL0J",
        "outputId": "35fdb556-5366-490b-e619-ec685b796b68"
      },
      "execution_count": 55,
      "outputs": [
        {
          "output_type": "execute_result",
          "data": {
            "text/plain": [
              "<pandas.io.formats.style.Styler at 0x7c7ee7f2f130>"
            ],
            "text/html": [
              "<style type=\"text/css\">\n",
              "</style>\n",
              "<table id=\"T_a1701\" class=\"dataframe\">\n",
              "  <thead>\n",
              "    <tr>\n",
              "      <th id=\"T_a1701_level0_col0\" class=\"col_heading level0 col0\" >lastname</th>\n",
              "      <th id=\"T_a1701_level0_col1\" class=\"col_heading level0 col1\" >deptid</th>\n",
              "      <th id=\"T_a1701_level0_col2\" class=\"col_heading level0 col2\" >linksto</th>\n",
              "      <th id=\"T_a1701_level0_col3\" class=\"col_heading level0 col3\" >deptid</th>\n",
              "      <th id=\"T_a1701_level0_col4\" class=\"col_heading level0 col4\" >managerid</th>\n",
              "      <th id=\"T_a1701_level0_col5\" class=\"col_heading level0 col5\" >linksto</th>\n",
              "      <th id=\"T_a1701_level0_col6\" class=\"col_heading level0 col6\" >empid</th>\n",
              "      <th id=\"T_a1701_level0_col7\" class=\"col_heading level0 col7\" >lastname</th>\n",
              "    </tr>\n",
              "  </thead>\n",
              "  <tbody>\n",
              "    <tr>\n",
              "      <td id=\"T_a1701_row0_col0\" class=\"data row0 col0\" >Karthikeyan</td>\n",
              "      <td id=\"T_a1701_row0_col1\" class=\"data row0 col1\" >10</td>\n",
              "      <td id=\"T_a1701_row0_col2\" class=\"data row0 col2\" >></td>\n",
              "      <td id=\"T_a1701_row0_col3\" class=\"data row0 col3\" >10</td>\n",
              "      <td id=\"T_a1701_row0_col4\" class=\"data row0 col4\" >299034</td>\n",
              "      <td id=\"T_a1701_row0_col5\" class=\"data row0 col5\" ><</td>\n",
              "      <td id=\"T_a1701_row0_col6\" class=\"data row0 col6\" >299034</td>\n",
              "      <td id=\"T_a1701_row0_col7\" class=\"data row0 col7\" >Ganesan</td>\n",
              "    </tr>\n",
              "    <tr>\n",
              "      <td id=\"T_a1701_row1_col0\" class=\"data row1 col0\" >Ganesan</td>\n",
              "      <td id=\"T_a1701_row1_col1\" class=\"data row1 col1\" >10</td>\n",
              "      <td id=\"T_a1701_row1_col2\" class=\"data row1 col2\" >></td>\n",
              "      <td id=\"T_a1701_row1_col3\" class=\"data row1 col3\" >10</td>\n",
              "      <td id=\"T_a1701_row1_col4\" class=\"data row1 col4\" >299034</td>\n",
              "      <td id=\"T_a1701_row1_col5\" class=\"data row1 col5\" ><</td>\n",
              "      <td id=\"T_a1701_row1_col6\" class=\"data row1 col6\" >299034</td>\n",
              "      <td id=\"T_a1701_row1_col7\" class=\"data row1 col7\" >Ganesan</td>\n",
              "    </tr>\n",
              "    <tr>\n",
              "      <td id=\"T_a1701_row2_col0\" class=\"data row2 col0\" >Bacchan</td>\n",
              "      <td id=\"T_a1701_row2_col1\" class=\"data row2 col1\" >10</td>\n",
              "      <td id=\"T_a1701_row2_col2\" class=\"data row2 col2\" >></td>\n",
              "      <td id=\"T_a1701_row2_col3\" class=\"data row2 col3\" >10</td>\n",
              "      <td id=\"T_a1701_row2_col4\" class=\"data row2 col4\" >299034</td>\n",
              "      <td id=\"T_a1701_row2_col5\" class=\"data row2 col5\" ><</td>\n",
              "      <td id=\"T_a1701_row2_col6\" class=\"data row2 col6\" >299034</td>\n",
              "      <td id=\"T_a1701_row2_col7\" class=\"data row2 col7\" >Ganesan</td>\n",
              "    </tr>\n",
              "    <tr>\n",
              "      <td id=\"T_a1701_row3_col0\" class=\"data row3 col0\" >Sehwag</td>\n",
              "      <td id=\"T_a1701_row3_col1\" class=\"data row3 col1\" >20</td>\n",
              "      <td id=\"T_a1701_row3_col2\" class=\"data row3 col2\" >></td>\n",
              "      <td id=\"T_a1701_row3_col3\" class=\"data row3 col3\" >20</td>\n",
              "      <td id=\"T_a1701_row3_col4\" class=\"data row3 col4\" >239456</td>\n",
              "      <td id=\"T_a1701_row3_col5\" class=\"data row3 col5\" ><</td>\n",
              "      <td id=\"T_a1701_row3_col6\" class=\"data row3 col6\" >239456</td>\n",
              "      <td id=\"T_a1701_row3_col7\" class=\"data row3 col7\" >Khan</td>\n",
              "    </tr>\n",
              "    <tr>\n",
              "      <td id=\"T_a1701_row4_col0\" class=\"data row4 col0\" >Khan</td>\n",
              "      <td id=\"T_a1701_row4_col1\" class=\"data row4 col1\" >20</td>\n",
              "      <td id=\"T_a1701_row4_col2\" class=\"data row4 col2\" >></td>\n",
              "      <td id=\"T_a1701_row4_col3\" class=\"data row4 col3\" >20</td>\n",
              "      <td id=\"T_a1701_row4_col4\" class=\"data row4 col4\" >239456</td>\n",
              "      <td id=\"T_a1701_row4_col5\" class=\"data row4 col5\" ><</td>\n",
              "      <td id=\"T_a1701_row4_col6\" class=\"data row4 col6\" >239456</td>\n",
              "      <td id=\"T_a1701_row4_col7\" class=\"data row4 col7\" >Khan</td>\n",
              "    </tr>\n",
              "    <tr>\n",
              "      <td id=\"T_a1701_row5_col0\" class=\"data row5 col0\" >Dikshit</td>\n",
              "      <td id=\"T_a1701_row5_col1\" class=\"data row5 col1\" >20</td>\n",
              "      <td id=\"T_a1701_row5_col2\" class=\"data row5 col2\" >></td>\n",
              "      <td id=\"T_a1701_row5_col3\" class=\"data row5 col3\" >20</td>\n",
              "      <td id=\"T_a1701_row5_col4\" class=\"data row5 col4\" >239456</td>\n",
              "      <td id=\"T_a1701_row5_col5\" class=\"data row5 col5\" ><</td>\n",
              "      <td id=\"T_a1701_row5_col6\" class=\"data row5 col6\" >239456</td>\n",
              "      <td id=\"T_a1701_row5_col7\" class=\"data row5 col7\" >Khan</td>\n",
              "    </tr>\n",
              "    <tr>\n",
              "      <td id=\"T_a1701_row6_col0\" class=\"data row6 col0\" >Mirza</td>\n",
              "      <td id=\"T_a1701_row6_col1\" class=\"data row6 col1\" >30</td>\n",
              "      <td id=\"T_a1701_row6_col2\" class=\"data row6 col2\" >></td>\n",
              "      <td id=\"T_a1701_row6_col3\" class=\"data row6 col3\" >30</td>\n",
              "      <td id=\"T_a1701_row6_col4\" class=\"data row6 col4\" >822134</td>\n",
              "      <td id=\"T_a1701_row6_col5\" class=\"data row6 col5\" ><</td>\n",
              "      <td id=\"T_a1701_row6_col6\" class=\"data row6 col6\" >822134</td>\n",
              "      <td id=\"T_a1701_row6_col7\" class=\"data row6 col7\" >Dravid</td>\n",
              "    </tr>\n",
              "    <tr>\n",
              "      <td id=\"T_a1701_row7_col0\" class=\"data row7 col0\" >Dalmia</td>\n",
              "      <td id=\"T_a1701_row7_col1\" class=\"data row7 col1\" >30</td>\n",
              "      <td id=\"T_a1701_row7_col2\" class=\"data row7 col2\" >></td>\n",
              "      <td id=\"T_a1701_row7_col3\" class=\"data row7 col3\" >30</td>\n",
              "      <td id=\"T_a1701_row7_col4\" class=\"data row7 col4\" >822134</td>\n",
              "      <td id=\"T_a1701_row7_col5\" class=\"data row7 col5\" ><</td>\n",
              "      <td id=\"T_a1701_row7_col6\" class=\"data row7 col6\" >822134</td>\n",
              "      <td id=\"T_a1701_row7_col7\" class=\"data row7 col7\" >Dravid</td>\n",
              "    </tr>\n",
              "    <tr>\n",
              "      <td id=\"T_a1701_row8_col0\" class=\"data row8 col0\" >Dravid</td>\n",
              "      <td id=\"T_a1701_row8_col1\" class=\"data row8 col1\" >30</td>\n",
              "      <td id=\"T_a1701_row8_col2\" class=\"data row8 col2\" >></td>\n",
              "      <td id=\"T_a1701_row8_col3\" class=\"data row8 col3\" >30</td>\n",
              "      <td id=\"T_a1701_row8_col4\" class=\"data row8 col4\" >822134</td>\n",
              "      <td id=\"T_a1701_row8_col5\" class=\"data row8 col5\" ><</td>\n",
              "      <td id=\"T_a1701_row8_col6\" class=\"data row8 col6\" >822134</td>\n",
              "      <td id=\"T_a1701_row8_col7\" class=\"data row8 col7\" >Dravid</td>\n",
              "    </tr>\n",
              "    <tr>\n",
              "      <td id=\"T_a1701_row9_col0\" class=\"data row9 col0\" >Ganguly</td>\n",
              "      <td id=\"T_a1701_row9_col1\" class=\"data row9 col1\" >40</td>\n",
              "      <td id=\"T_a1701_row9_col2\" class=\"data row9 col2\" >></td>\n",
              "      <td id=\"T_a1701_row9_col3\" class=\"data row9 col3\" >40</td>\n",
              "      <td id=\"T_a1701_row9_col4\" class=\"data row9 col4\" >349870</td>\n",
              "      <td id=\"T_a1701_row9_col5\" class=\"data row9 col5\" ><</td>\n",
              "      <td id=\"T_a1701_row9_col6\" class=\"data row9 col6\" >349870</td>\n",
              "      <td id=\"T_a1701_row9_col7\" class=\"data row9 col7\" >Mukherjee</td>\n",
              "    </tr>\n",
              "    <tr>\n",
              "      <td id=\"T_a1701_row10_col0\" class=\"data row10 col0\" >Dhoni</td>\n",
              "      <td id=\"T_a1701_row10_col1\" class=\"data row10 col1\" >40</td>\n",
              "      <td id=\"T_a1701_row10_col2\" class=\"data row10 col2\" >></td>\n",
              "      <td id=\"T_a1701_row10_col3\" class=\"data row10 col3\" >40</td>\n",
              "      <td id=\"T_a1701_row10_col4\" class=\"data row10 col4\" >349870</td>\n",
              "      <td id=\"T_a1701_row10_col5\" class=\"data row10 col5\" ><</td>\n",
              "      <td id=\"T_a1701_row10_col6\" class=\"data row10 col6\" >349870</td>\n",
              "      <td id=\"T_a1701_row10_col7\" class=\"data row10 col7\" >Mukherjee</td>\n",
              "    </tr>\n",
              "    <tr>\n",
              "      <td id=\"T_a1701_row11_col0\" class=\"data row11 col0\" >Mukherjee</td>\n",
              "      <td id=\"T_a1701_row11_col1\" class=\"data row11 col1\" >40</td>\n",
              "      <td id=\"T_a1701_row11_col2\" class=\"data row11 col2\" >></td>\n",
              "      <td id=\"T_a1701_row11_col3\" class=\"data row11 col3\" >40</td>\n",
              "      <td id=\"T_a1701_row11_col4\" class=\"data row11 col4\" >349870</td>\n",
              "      <td id=\"T_a1701_row11_col5\" class=\"data row11 col5\" ><</td>\n",
              "      <td id=\"T_a1701_row11_col6\" class=\"data row11 col6\" >349870</td>\n",
              "      <td id=\"T_a1701_row11_col7\" class=\"data row11 col7\" >Mukherjee</td>\n",
              "    </tr>\n",
              "  </tbody>\n",
              "</table>\n"
            ]
          },
          "metadata": {},
          "execution_count": 55
        }
      ]
    },
    {
      "cell_type": "markdown",
      "source": [
        "### Self Join / Single Table"
      ],
      "metadata": {
        "id": "jeknsMbjCA2A"
      }
    },
    {
      "cell_type": "code",
      "source": [
        "cmd = \"Select w.FirstName, w.JobDesc, w.DeptID, \\\n",
        "    ' hired by ' hiredby, \\\n",
        "    m.FirstName,m.JobDesc,m.DeptID \\\n",
        "    from empl w, empl m \\\n",
        "    where w.HiredBy = m.EmpID\"\n",
        "\n",
        "runSelect(cmd)"
      ],
      "metadata": {
        "colab": {
          "base_uri": "https://localhost:8080/",
          "height": 426
        },
        "id": "iDPmUw9-CEBH",
        "outputId": "80948e9f-a0a3-4aeb-84f7-a3540951c46c"
      },
      "execution_count": 56,
      "outputs": [
        {
          "output_type": "execute_result",
          "data": {
            "text/plain": [
              "<pandas.io.formats.style.Styler at 0x7c7ee7dbf730>"
            ],
            "text/html": [
              "<style type=\"text/css\">\n",
              "</style>\n",
              "<table id=\"T_05562\" class=\"dataframe\">\n",
              "  <thead>\n",
              "    <tr>\n",
              "      <th id=\"T_05562_level0_col0\" class=\"col_heading level0 col0\" >firstname</th>\n",
              "      <th id=\"T_05562_level0_col1\" class=\"col_heading level0 col1\" >jobdesc</th>\n",
              "      <th id=\"T_05562_level0_col2\" class=\"col_heading level0 col2\" >deptid</th>\n",
              "      <th id=\"T_05562_level0_col3\" class=\"col_heading level0 col3\" >hiredby</th>\n",
              "      <th id=\"T_05562_level0_col4\" class=\"col_heading level0 col4\" >firstname</th>\n",
              "      <th id=\"T_05562_level0_col5\" class=\"col_heading level0 col5\" >jobdesc</th>\n",
              "      <th id=\"T_05562_level0_col6\" class=\"col_heading level0 col6\" >deptid</th>\n",
              "    </tr>\n",
              "  </thead>\n",
              "  <tbody>\n",
              "    <tr>\n",
              "      <td id=\"T_05562_row0_col0\" class=\"data row0 col0\" >Rani</td>\n",
              "      <td id=\"T_05562_row0_col1\" class=\"data row0 col1\" >Manager</td>\n",
              "      <td id=\"T_05562_row0_col2\" class=\"data row0 col2\" >40</td>\n",
              "      <td id=\"T_05562_row0_col3\" class=\"data row0 col3\" > hired by </td>\n",
              "      <td id=\"T_05562_row0_col4\" class=\"data row0 col4\" >Amitabh</td>\n",
              "      <td id=\"T_05562_row0_col5\" class=\"data row0 col5\" >Executive</td>\n",
              "      <td id=\"T_05562_row0_col6\" class=\"data row0 col6\" >10</td>\n",
              "    </tr>\n",
              "    <tr>\n",
              "      <td id=\"T_05562_row1_col0\" class=\"data row1 col0\" >Madhuri</td>\n",
              "      <td id=\"T_05562_row1_col1\" class=\"data row1 col1\" >Clerk</td>\n",
              "      <td id=\"T_05562_row1_col2\" class=\"data row1 col2\" >20</td>\n",
              "      <td id=\"T_05562_row1_col3\" class=\"data row1 col3\" > hired by </td>\n",
              "      <td id=\"T_05562_row1_col4\" class=\"data row1 col4\" >Shahrukh</td>\n",
              "      <td id=\"T_05562_row1_col5\" class=\"data row1 col5\" >Manager</td>\n",
              "      <td id=\"T_05562_row1_col6\" class=\"data row1 col6\" >20</td>\n",
              "    </tr>\n",
              "    <tr>\n",
              "      <td id=\"T_05562_row2_col0\" class=\"data row2 col0\" >Shahrukh</td>\n",
              "      <td id=\"T_05562_row2_col1\" class=\"data row2 col1\" >Manager</td>\n",
              "      <td id=\"T_05562_row2_col2\" class=\"data row2 col2\" >20</td>\n",
              "      <td id=\"T_05562_row2_col3\" class=\"data row2 col3\" > hired by </td>\n",
              "      <td id=\"T_05562_row2_col4\" class=\"data row2 col4\" >Amitabh</td>\n",
              "      <td id=\"T_05562_row2_col5\" class=\"data row2 col5\" >Executive</td>\n",
              "      <td id=\"T_05562_row2_col6\" class=\"data row2 col6\" >10</td>\n",
              "    </tr>\n",
              "    <tr>\n",
              "      <td id=\"T_05562_row3_col0\" class=\"data row3 col0\" >Virender</td>\n",
              "      <td id=\"T_05562_row3_col1\" class=\"data row3 col1\" >Cus_Rep</td>\n",
              "      <td id=\"T_05562_row3_col2\" class=\"data row3 col2\" >20</td>\n",
              "      <td id=\"T_05562_row3_col3\" class=\"data row3 col3\" > hired by </td>\n",
              "      <td id=\"T_05562_row3_col4\" class=\"data row3 col4\" >Shahrukh</td>\n",
              "      <td id=\"T_05562_row3_col5\" class=\"data row3 col5\" >Manager</td>\n",
              "      <td id=\"T_05562_row3_col6\" class=\"data row3 col6\" >20</td>\n",
              "    </tr>\n",
              "    <tr>\n",
              "      <td id=\"T_05562_row4_col0\" class=\"data row4 col0\" >Mahender</td>\n",
              "      <td id=\"T_05562_row4_col1\" class=\"data row4 col1\" >Clerk</td>\n",
              "      <td id=\"T_05562_row4_col2\" class=\"data row4 col2\" >40</td>\n",
              "      <td id=\"T_05562_row4_col3\" class=\"data row4 col3\" > hired by </td>\n",
              "      <td id=\"T_05562_row4_col4\" class=\"data row4 col4\" >Rani</td>\n",
              "      <td id=\"T_05562_row4_col5\" class=\"data row4 col5\" >Manager</td>\n",
              "      <td id=\"T_05562_row4_col6\" class=\"data row4 col6\" >40</td>\n",
              "    </tr>\n",
              "    <tr>\n",
              "      <td id=\"T_05562_row5_col0\" class=\"data row5 col0\" >Rahul</td>\n",
              "      <td id=\"T_05562_row5_col1\" class=\"data row5 col1\" >Sr Manager</td>\n",
              "      <td id=\"T_05562_row5_col2\" class=\"data row5 col2\" >30</td>\n",
              "      <td id=\"T_05562_row5_col3\" class=\"data row5 col3\" > hired by </td>\n",
              "      <td id=\"T_05562_row5_col4\" class=\"data row5 col4\" >Amitabh</td>\n",
              "      <td id=\"T_05562_row5_col5\" class=\"data row5 col5\" >Executive</td>\n",
              "      <td id=\"T_05562_row5_col6\" class=\"data row5 col6\" >10</td>\n",
              "    </tr>\n",
              "    <tr>\n",
              "      <td id=\"T_05562_row6_col0\" class=\"data row6 col0\" >Jagmohan</td>\n",
              "      <td id=\"T_05562_row6_col1\" class=\"data row6 col1\" >Clerk</td>\n",
              "      <td id=\"T_05562_row6_col2\" class=\"data row6 col2\" >30</td>\n",
              "      <td id=\"T_05562_row6_col3\" class=\"data row6 col3\" > hired by </td>\n",
              "      <td id=\"T_05562_row6_col4\" class=\"data row6 col4\" >Rahul</td>\n",
              "      <td id=\"T_05562_row6_col5\" class=\"data row6 col5\" >Sr Manager</td>\n",
              "      <td id=\"T_05562_row6_col6\" class=\"data row6 col6\" >30</td>\n",
              "    </tr>\n",
              "    <tr>\n",
              "      <td id=\"T_05562_row7_col0\" class=\"data row7 col0\" >Sourav</td>\n",
              "      <td id=\"T_05562_row7_col1\" class=\"data row7 col1\" >Cus_Rep</td>\n",
              "      <td id=\"T_05562_row7_col2\" class=\"data row7 col2\" >40</td>\n",
              "      <td id=\"T_05562_row7_col3\" class=\"data row7 col3\" > hired by </td>\n",
              "      <td id=\"T_05562_row7_col4\" class=\"data row7 col4\" >Rekha</td>\n",
              "      <td id=\"T_05562_row7_col5\" class=\"data row7 col5\" >Director</td>\n",
              "      <td id=\"T_05562_row7_col6\" class=\"data row7 col6\" >10</td>\n",
              "    </tr>\n",
              "    <tr>\n",
              "      <td id=\"T_05562_row8_col0\" class=\"data row8 col0\" >Rekha</td>\n",
              "      <td id=\"T_05562_row8_col1\" class=\"data row8 col1\" >Director</td>\n",
              "      <td id=\"T_05562_row8_col2\" class=\"data row8 col2\" >10</td>\n",
              "      <td id=\"T_05562_row8_col3\" class=\"data row8 col3\" > hired by </td>\n",
              "      <td id=\"T_05562_row8_col4\" class=\"data row8 col4\" >Amitabh</td>\n",
              "      <td id=\"T_05562_row8_col5\" class=\"data row8 col5\" >Executive</td>\n",
              "      <td id=\"T_05562_row8_col6\" class=\"data row8 col6\" >10</td>\n",
              "    </tr>\n",
              "    <tr>\n",
              "      <td id=\"T_05562_row9_col0\" class=\"data row9 col0\" >Narayan</td>\n",
              "      <td id=\"T_05562_row9_col1\" class=\"data row9 col1\" >Secretary</td>\n",
              "      <td id=\"T_05562_row9_col2\" class=\"data row9 col2\" >10</td>\n",
              "      <td id=\"T_05562_row9_col3\" class=\"data row9 col3\" > hired by </td>\n",
              "      <td id=\"T_05562_row9_col4\" class=\"data row9 col4\" >Rekha</td>\n",
              "      <td id=\"T_05562_row9_col5\" class=\"data row9 col5\" >Director</td>\n",
              "      <td id=\"T_05562_row9_col6\" class=\"data row9 col6\" >10</td>\n",
              "    </tr>\n",
              "    <tr>\n",
              "      <td id=\"T_05562_row10_col0\" class=\"data row10 col0\" >Chettri</td>\n",
              "      <td id=\"T_05562_row10_col1\" class=\"data row10 col1\" >Dy Manager</td>\n",
              "      <td id=\"T_05562_row10_col2\" class=\"data row10 col2\" >70</td>\n",
              "      <td id=\"T_05562_row10_col3\" class=\"data row10 col3\" > hired by </td>\n",
              "      <td id=\"T_05562_row10_col4\" class=\"data row10 col4\" >Sourav</td>\n",
              "      <td id=\"T_05562_row10_col5\" class=\"data row10 col5\" >Cus_Rep</td>\n",
              "      <td id=\"T_05562_row10_col6\" class=\"data row10 col6\" >40</td>\n",
              "    </tr>\n",
              "    <tr>\n",
              "      <td id=\"T_05562_row11_col0\" class=\"data row11 col0\" >Sania</td>\n",
              "      <td id=\"T_05562_row11_col1\" class=\"data row11 col1\" >Cus_Rep</td>\n",
              "      <td id=\"T_05562_row11_col2\" class=\"data row11 col2\" >30</td>\n",
              "      <td id=\"T_05562_row11_col3\" class=\"data row11 col3\" > hired by </td>\n",
              "      <td id=\"T_05562_row11_col4\" class=\"data row11 col4\" >Rahul</td>\n",
              "      <td id=\"T_05562_row11_col5\" class=\"data row11 col5\" >Sr Manager</td>\n",
              "      <td id=\"T_05562_row11_col6\" class=\"data row11 col6\" >30</td>\n",
              "    </tr>\n",
              "  </tbody>\n",
              "</table>\n"
            ]
          },
          "metadata": {},
          "execution_count": 56
        }
      ]
    },
    {
      "cell_type": "markdown",
      "source": [
        "#Subquery"
      ],
      "metadata": {
        "id": "tXDgw1RBzUf-"
      }
    },
    {
      "cell_type": "code",
      "source": [
        "sql = \"select lastname, salary, jobdesc, deptid from empl where \\\n",
        "salary = (select max(salary) from empl where deptid = '20') \\\n",
        "and deptid = '20'\"\n",
        "\n",
        "runSelect(sql)"
      ],
      "metadata": {
        "colab": {
          "base_uri": "https://localhost:8080/",
          "height": 81
        },
        "id": "SxQqgOcHzYTF",
        "outputId": "0b3fde1a-2ed2-4f9f-f676-7681d698a6ca"
      },
      "execution_count": 57,
      "outputs": [
        {
          "output_type": "execute_result",
          "data": {
            "text/plain": [
              "<pandas.io.formats.style.Styler at 0x7c7ee7dbe890>"
            ],
            "text/html": [
              "<style type=\"text/css\">\n",
              "</style>\n",
              "<table id=\"T_6862a\" class=\"dataframe\">\n",
              "  <thead>\n",
              "    <tr>\n",
              "      <th id=\"T_6862a_level0_col0\" class=\"col_heading level0 col0\" >lastname</th>\n",
              "      <th id=\"T_6862a_level0_col1\" class=\"col_heading level0 col1\" >salary</th>\n",
              "      <th id=\"T_6862a_level0_col2\" class=\"col_heading level0 col2\" >jobdesc</th>\n",
              "      <th id=\"T_6862a_level0_col3\" class=\"col_heading level0 col3\" >deptid</th>\n",
              "    </tr>\n",
              "  </thead>\n",
              "  <tbody>\n",
              "    <tr>\n",
              "      <td id=\"T_6862a_row0_col0\" class=\"data row0 col0\" >Khan</td>\n",
              "      <td id=\"T_6862a_row0_col1\" class=\"data row0 col1\" >30000</td>\n",
              "      <td id=\"T_6862a_row0_col2\" class=\"data row0 col2\" >Manager</td>\n",
              "      <td id=\"T_6862a_row0_col3\" class=\"data row0 col3\" >20</td>\n",
              "    </tr>\n",
              "  </tbody>\n",
              "</table>\n"
            ]
          },
          "metadata": {},
          "execution_count": 57
        }
      ]
    },
    {
      "cell_type": "code",
      "source": [
        "sql = \"select lastname, salary, jobdesc, deptid from empl where salary < (select avg(salary) from empl where deptid = '20')\\\n",
        "and deptid = '20'\"\n",
        "runSelect(sql)"
      ],
      "metadata": {
        "colab": {
          "base_uri": "https://localhost:8080/",
          "height": 112
        },
        "id": "oEhaMtyLz3Tm",
        "outputId": "327f249e-1f52-47cb-f582-fb94adae7d75"
      },
      "execution_count": 58,
      "outputs": [
        {
          "output_type": "execute_result",
          "data": {
            "text/plain": [
              "<pandas.io.formats.style.Styler at 0x7c7ee7dbe6b0>"
            ],
            "text/html": [
              "<style type=\"text/css\">\n",
              "</style>\n",
              "<table id=\"T_304af\" class=\"dataframe\">\n",
              "  <thead>\n",
              "    <tr>\n",
              "      <th id=\"T_304af_level0_col0\" class=\"col_heading level0 col0\" >lastname</th>\n",
              "      <th id=\"T_304af_level0_col1\" class=\"col_heading level0 col1\" >salary</th>\n",
              "      <th id=\"T_304af_level0_col2\" class=\"col_heading level0 col2\" >jobdesc</th>\n",
              "      <th id=\"T_304af_level0_col3\" class=\"col_heading level0 col3\" >deptid</th>\n",
              "    </tr>\n",
              "  </thead>\n",
              "  <tbody>\n",
              "    <tr>\n",
              "      <td id=\"T_304af_row0_col0\" class=\"data row0 col0\" >Dikshit</td>\n",
              "      <td id=\"T_304af_row0_col1\" class=\"data row0 col1\" >10000</td>\n",
              "      <td id=\"T_304af_row0_col2\" class=\"data row0 col2\" >Clerk</td>\n",
              "      <td id=\"T_304af_row0_col3\" class=\"data row0 col3\" >20</td>\n",
              "    </tr>\n",
              "    <tr>\n",
              "      <td id=\"T_304af_row1_col0\" class=\"data row1 col0\" >Sehwag</td>\n",
              "      <td id=\"T_304af_row1_col1\" class=\"data row1 col1\" >15000</td>\n",
              "      <td id=\"T_304af_row1_col2\" class=\"data row1 col2\" >Cus_Rep</td>\n",
              "      <td id=\"T_304af_row1_col3\" class=\"data row1 col3\" >20</td>\n",
              "    </tr>\n",
              "  </tbody>\n",
              "</table>\n"
            ]
          },
          "metadata": {},
          "execution_count": 58
        }
      ]
    },
    {
      "cell_type": "markdown",
      "source": [
        "## Exists | Not Exists"
      ],
      "metadata": {
        "id": "l3GWzCV24a2x"
      }
    },
    {
      "cell_type": "code",
      "source": [
        "#!psql -h localhost -p 5432 -Uupraxis -ddbpraxis -c \"\\\n",
        "sql = \"\\\n",
        "select firstname, jobdesc, deptid from empl \\\n",
        "where exists \\\n",
        "(select * from dept where empl.deptid = dept.deptid)\\\n",
        "order by deptid \\\n",
        "\"\n",
        "runSelect(sql)"
      ],
      "metadata": {
        "colab": {
          "base_uri": "https://localhost:8080/",
          "height": 426
        },
        "id": "9vlJrd584fWu",
        "outputId": "4997a9e4-312d-4915-954c-fc4ff7d67003"
      },
      "execution_count": 59,
      "outputs": [
        {
          "output_type": "execute_result",
          "data": {
            "text/plain": [
              "<pandas.io.formats.style.Styler at 0x7c7ee7dbeec0>"
            ],
            "text/html": [
              "<style type=\"text/css\">\n",
              "</style>\n",
              "<table id=\"T_fa0be\" class=\"dataframe\">\n",
              "  <thead>\n",
              "    <tr>\n",
              "      <th id=\"T_fa0be_level0_col0\" class=\"col_heading level0 col0\" >firstname</th>\n",
              "      <th id=\"T_fa0be_level0_col1\" class=\"col_heading level0 col1\" >jobdesc</th>\n",
              "      <th id=\"T_fa0be_level0_col2\" class=\"col_heading level0 col2\" >deptid</th>\n",
              "    </tr>\n",
              "  </thead>\n",
              "  <tbody>\n",
              "    <tr>\n",
              "      <td id=\"T_fa0be_row0_col0\" class=\"data row0 col0\" >Amitabh</td>\n",
              "      <td id=\"T_fa0be_row0_col1\" class=\"data row0 col1\" >Executive</td>\n",
              "      <td id=\"T_fa0be_row0_col2\" class=\"data row0 col2\" >10</td>\n",
              "    </tr>\n",
              "    <tr>\n",
              "      <td id=\"T_fa0be_row1_col0\" class=\"data row1 col0\" >Rekha</td>\n",
              "      <td id=\"T_fa0be_row1_col1\" class=\"data row1 col1\" >Director</td>\n",
              "      <td id=\"T_fa0be_row1_col2\" class=\"data row1 col2\" >10</td>\n",
              "    </tr>\n",
              "    <tr>\n",
              "      <td id=\"T_fa0be_row2_col0\" class=\"data row2 col0\" >Narayan</td>\n",
              "      <td id=\"T_fa0be_row2_col1\" class=\"data row2 col1\" >Secretary</td>\n",
              "      <td id=\"T_fa0be_row2_col2\" class=\"data row2 col2\" >10</td>\n",
              "    </tr>\n",
              "    <tr>\n",
              "      <td id=\"T_fa0be_row3_col0\" class=\"data row3 col0\" >Madhuri</td>\n",
              "      <td id=\"T_fa0be_row3_col1\" class=\"data row3 col1\" >Clerk</td>\n",
              "      <td id=\"T_fa0be_row3_col2\" class=\"data row3 col2\" >20</td>\n",
              "    </tr>\n",
              "    <tr>\n",
              "      <td id=\"T_fa0be_row4_col0\" class=\"data row4 col0\" >Shahrukh</td>\n",
              "      <td id=\"T_fa0be_row4_col1\" class=\"data row4 col1\" >Manager</td>\n",
              "      <td id=\"T_fa0be_row4_col2\" class=\"data row4 col2\" >20</td>\n",
              "    </tr>\n",
              "    <tr>\n",
              "      <td id=\"T_fa0be_row5_col0\" class=\"data row5 col0\" >Virender</td>\n",
              "      <td id=\"T_fa0be_row5_col1\" class=\"data row5 col1\" >Cus_Rep</td>\n",
              "      <td id=\"T_fa0be_row5_col2\" class=\"data row5 col2\" >20</td>\n",
              "    </tr>\n",
              "    <tr>\n",
              "      <td id=\"T_fa0be_row6_col0\" class=\"data row6 col0\" >Sania</td>\n",
              "      <td id=\"T_fa0be_row6_col1\" class=\"data row6 col1\" >Cus_Rep</td>\n",
              "      <td id=\"T_fa0be_row6_col2\" class=\"data row6 col2\" >30</td>\n",
              "    </tr>\n",
              "    <tr>\n",
              "      <td id=\"T_fa0be_row7_col0\" class=\"data row7 col0\" >Rahul</td>\n",
              "      <td id=\"T_fa0be_row7_col1\" class=\"data row7 col1\" >Sr Manager</td>\n",
              "      <td id=\"T_fa0be_row7_col2\" class=\"data row7 col2\" >30</td>\n",
              "    </tr>\n",
              "    <tr>\n",
              "      <td id=\"T_fa0be_row8_col0\" class=\"data row8 col0\" >Jagmohan</td>\n",
              "      <td id=\"T_fa0be_row8_col1\" class=\"data row8 col1\" >Clerk</td>\n",
              "      <td id=\"T_fa0be_row8_col2\" class=\"data row8 col2\" >30</td>\n",
              "    </tr>\n",
              "    <tr>\n",
              "      <td id=\"T_fa0be_row9_col0\" class=\"data row9 col0\" >Sourav</td>\n",
              "      <td id=\"T_fa0be_row9_col1\" class=\"data row9 col1\" >Cus_Rep</td>\n",
              "      <td id=\"T_fa0be_row9_col2\" class=\"data row9 col2\" >40</td>\n",
              "    </tr>\n",
              "    <tr>\n",
              "      <td id=\"T_fa0be_row10_col0\" class=\"data row10 col0\" >Mahender</td>\n",
              "      <td id=\"T_fa0be_row10_col1\" class=\"data row10 col1\" >Clerk</td>\n",
              "      <td id=\"T_fa0be_row10_col2\" class=\"data row10 col2\" >40</td>\n",
              "    </tr>\n",
              "    <tr>\n",
              "      <td id=\"T_fa0be_row11_col0\" class=\"data row11 col0\" >Rani</td>\n",
              "      <td id=\"T_fa0be_row11_col1\" class=\"data row11 col1\" >Manager</td>\n",
              "      <td id=\"T_fa0be_row11_col2\" class=\"data row11 col2\" >40</td>\n",
              "    </tr>\n",
              "  </tbody>\n",
              "</table>\n"
            ]
          },
          "metadata": {},
          "execution_count": 59
        }
      ]
    },
    {
      "cell_type": "code",
      "source": [
        "#!psql -h localhost -p 5432 -Uupraxis -ddbpraxis -c \"\\\n",
        "sql = \"\\\n",
        "select firstname, jobdesc, deptid from empl \\\n",
        "where not exists \\\n",
        "(select * from dept where empl.deptid = dept.deptid)\\\n",
        "order by deptid \\\n",
        "\"\n",
        "runSelect(sql)"
      ],
      "metadata": {
        "colab": {
          "base_uri": "https://localhost:8080/",
          "height": 81
        },
        "id": "6ntFTYfv5AyB",
        "outputId": "a77cf387-d71d-4fdf-e42c-f8a9480cac17"
      },
      "execution_count": 60,
      "outputs": [
        {
          "output_type": "execute_result",
          "data": {
            "text/plain": [
              "<pandas.io.formats.style.Styler at 0x7c7ee7dbcb20>"
            ],
            "text/html": [
              "<style type=\"text/css\">\n",
              "</style>\n",
              "<table id=\"T_8f35c\" class=\"dataframe\">\n",
              "  <thead>\n",
              "    <tr>\n",
              "      <th id=\"T_8f35c_level0_col0\" class=\"col_heading level0 col0\" >firstname</th>\n",
              "      <th id=\"T_8f35c_level0_col1\" class=\"col_heading level0 col1\" >jobdesc</th>\n",
              "      <th id=\"T_8f35c_level0_col2\" class=\"col_heading level0 col2\" >deptid</th>\n",
              "    </tr>\n",
              "  </thead>\n",
              "  <tbody>\n",
              "    <tr>\n",
              "      <td id=\"T_8f35c_row0_col0\" class=\"data row0 col0\" >Chettri</td>\n",
              "      <td id=\"T_8f35c_row0_col1\" class=\"data row0 col1\" >Dy Manager</td>\n",
              "      <td id=\"T_8f35c_row0_col2\" class=\"data row0 col2\" >70</td>\n",
              "    </tr>\n",
              "  </tbody>\n",
              "</table>\n"
            ]
          },
          "metadata": {},
          "execution_count": 60
        }
      ]
    },
    {
      "cell_type": "markdown",
      "source": [
        "## ALL | ANY"
      ],
      "metadata": {
        "id": "Ft9lsq4Uh8-6"
      }
    },
    {
      "cell_type": "code",
      "source": [
        "#!psql -h localhost -p 5432 -Uupraxis -ddbpraxis -c \"\\\n",
        "sql = \"\\\n",
        "select firstname, jobdesc, deptid, salary from empl \\\n",
        "where salary > all \\\n",
        "(select avg(salary) from empl)\\\n",
        "\"\n",
        "runSelect(sql)"
      ],
      "metadata": {
        "id": "ZySW3QRkiBUG",
        "outputId": "bc9b4506-8b08-42b3-b094-015333b1be4c",
        "colab": {
          "base_uri": "https://localhost:8080/",
          "height": 238
        }
      },
      "execution_count": 61,
      "outputs": [
        {
          "output_type": "execute_result",
          "data": {
            "text/plain": [
              "<pandas.io.formats.style.Styler at 0x7c7ee7dbcca0>"
            ],
            "text/html": [
              "<style type=\"text/css\">\n",
              "</style>\n",
              "<table id=\"T_01454\" class=\"dataframe\">\n",
              "  <thead>\n",
              "    <tr>\n",
              "      <th id=\"T_01454_level0_col0\" class=\"col_heading level0 col0\" >firstname</th>\n",
              "      <th id=\"T_01454_level0_col1\" class=\"col_heading level0 col1\" >jobdesc</th>\n",
              "      <th id=\"T_01454_level0_col2\" class=\"col_heading level0 col2\" >deptid</th>\n",
              "      <th id=\"T_01454_level0_col3\" class=\"col_heading level0 col3\" >salary</th>\n",
              "    </tr>\n",
              "  </thead>\n",
              "  <tbody>\n",
              "    <tr>\n",
              "      <td id=\"T_01454_row0_col0\" class=\"data row0 col0\" >Amitabh</td>\n",
              "      <td id=\"T_01454_row0_col1\" class=\"data row0 col1\" >Executive</td>\n",
              "      <td id=\"T_01454_row0_col2\" class=\"data row0 col2\" >10</td>\n",
              "      <td id=\"T_01454_row0_col3\" class=\"data row0 col3\" >50000</td>\n",
              "    </tr>\n",
              "    <tr>\n",
              "      <td id=\"T_01454_row1_col0\" class=\"data row1 col0\" >Shahrukh</td>\n",
              "      <td id=\"T_01454_row1_col1\" class=\"data row1 col1\" >Manager</td>\n",
              "      <td id=\"T_01454_row1_col2\" class=\"data row1 col2\" >20</td>\n",
              "      <td id=\"T_01454_row1_col3\" class=\"data row1 col3\" >30000</td>\n",
              "    </tr>\n",
              "    <tr>\n",
              "      <td id=\"T_01454_row2_col0\" class=\"data row2 col0\" >Rahul</td>\n",
              "      <td id=\"T_01454_row2_col1\" class=\"data row2 col1\" >Sr Manager</td>\n",
              "      <td id=\"T_01454_row2_col2\" class=\"data row2 col2\" >30</td>\n",
              "      <td id=\"T_01454_row2_col3\" class=\"data row2 col3\" >40000</td>\n",
              "    </tr>\n",
              "    <tr>\n",
              "      <td id=\"T_01454_row3_col0\" class=\"data row3 col0\" >Rekha</td>\n",
              "      <td id=\"T_01454_row3_col1\" class=\"data row3 col1\" >Director</td>\n",
              "      <td id=\"T_01454_row3_col2\" class=\"data row3 col2\" >10</td>\n",
              "      <td id=\"T_01454_row3_col3\" class=\"data row3 col3\" >60000</td>\n",
              "    </tr>\n",
              "    <tr>\n",
              "      <td id=\"T_01454_row4_col0\" class=\"data row4 col0\" >Narayan</td>\n",
              "      <td id=\"T_01454_row4_col1\" class=\"data row4 col1\" >Secretary</td>\n",
              "      <td id=\"T_01454_row4_col2\" class=\"data row4 col2\" >10</td>\n",
              "      <td id=\"T_01454_row4_col3\" class=\"data row4 col3\" >40000</td>\n",
              "    </tr>\n",
              "    <tr>\n",
              "      <td id=\"T_01454_row5_col0\" class=\"data row5 col0\" >Chettri</td>\n",
              "      <td id=\"T_01454_row5_col1\" class=\"data row5 col1\" >Dy Manager</td>\n",
              "      <td id=\"T_01454_row5_col2\" class=\"data row5 col2\" >70</td>\n",
              "      <td id=\"T_01454_row5_col3\" class=\"data row5 col3\" >40000</td>\n",
              "    </tr>\n",
              "  </tbody>\n",
              "</table>\n"
            ]
          },
          "metadata": {},
          "execution_count": 61
        }
      ]
    },
    {
      "cell_type": "code",
      "source": [
        "#!psql -h localhost -p 5432 -Uupraxis -ddbpraxis -c \"\\\n",
        "sql = \"\\\n",
        "select firstname, jobdesc, deptid, salary from empl \\\n",
        "where salary <= any \\\n",
        "(select min(salary) from empl)\\\n",
        "\"\n",
        "runSelect(sql)"
      ],
      "metadata": {
        "id": "OrNzFUx2i6n1",
        "outputId": "f5f3294b-8520-433f-b87d-031f522bbbf9",
        "colab": {
          "base_uri": "https://localhost:8080/",
          "height": 81
        }
      },
      "execution_count": 62,
      "outputs": [
        {
          "output_type": "execute_result",
          "data": {
            "text/plain": [
              "<pandas.io.formats.style.Styler at 0x7c7ee7dbfbe0>"
            ],
            "text/html": [
              "<style type=\"text/css\">\n",
              "</style>\n",
              "<table id=\"T_61eca\" class=\"dataframe\">\n",
              "  <thead>\n",
              "    <tr>\n",
              "      <th id=\"T_61eca_level0_col0\" class=\"col_heading level0 col0\" >firstname</th>\n",
              "      <th id=\"T_61eca_level0_col1\" class=\"col_heading level0 col1\" >jobdesc</th>\n",
              "      <th id=\"T_61eca_level0_col2\" class=\"col_heading level0 col2\" >deptid</th>\n",
              "      <th id=\"T_61eca_level0_col3\" class=\"col_heading level0 col3\" >salary</th>\n",
              "    </tr>\n",
              "  </thead>\n",
              "  <tbody>\n",
              "    <tr>\n",
              "      <td id=\"T_61eca_row0_col0\" class=\"data row0 col0\" >Mahender</td>\n",
              "      <td id=\"T_61eca_row0_col1\" class=\"data row0 col1\" >Clerk</td>\n",
              "      <td id=\"T_61eca_row0_col2\" class=\"data row0 col2\" >40</td>\n",
              "      <td id=\"T_61eca_row0_col3\" class=\"data row0 col3\" >9000</td>\n",
              "    </tr>\n",
              "  </tbody>\n",
              "</table>\n"
            ]
          },
          "metadata": {},
          "execution_count": 62
        }
      ]
    },
    {
      "cell_type": "markdown",
      "source": [
        "## Common Table Extensions CTE"
      ],
      "metadata": {
        "id": "2gvg8pwe3ale"
      }
    },
    {
      "cell_type": "code",
      "source": [
        "sql = \"\\\n",
        "select jobdesc, avg(salary) avgsalary from empl group by jobdesc \\\n",
        "\"\n",
        "runSelect(sql)"
      ],
      "metadata": {
        "id": "7mu6mmXA3pVn",
        "outputId": "87b458ba-6de9-4e90-a214-e1b0b9639890",
        "colab": {
          "base_uri": "https://localhost:8080/",
          "height": 300
        }
      },
      "execution_count": 63,
      "outputs": [
        {
          "output_type": "execute_result",
          "data": {
            "text/plain": [
              "<pandas.io.formats.style.Styler at 0x7c7ee7ddce20>"
            ],
            "text/html": [
              "<style type=\"text/css\">\n",
              "</style>\n",
              "<table id=\"T_c8ae2\" class=\"dataframe\">\n",
              "  <thead>\n",
              "    <tr>\n",
              "      <th id=\"T_c8ae2_level0_col0\" class=\"col_heading level0 col0\" >jobdesc</th>\n",
              "      <th id=\"T_c8ae2_level0_col1\" class=\"col_heading level0 col1\" >avgsalary</th>\n",
              "    </tr>\n",
              "  </thead>\n",
              "  <tbody>\n",
              "    <tr>\n",
              "      <td id=\"T_c8ae2_row0_col0\" class=\"data row0 col0\" >Director</td>\n",
              "      <td id=\"T_c8ae2_row0_col1\" class=\"data row0 col1\" >60000.000000000000</td>\n",
              "    </tr>\n",
              "    <tr>\n",
              "      <td id=\"T_c8ae2_row1_col0\" class=\"data row1 col0\" >Manager</td>\n",
              "      <td id=\"T_c8ae2_row1_col1\" class=\"data row1 col1\" >27500.000000000000</td>\n",
              "    </tr>\n",
              "    <tr>\n",
              "      <td id=\"T_c8ae2_row2_col0\" class=\"data row2 col0\" >Dy Manager</td>\n",
              "      <td id=\"T_c8ae2_row2_col1\" class=\"data row2 col1\" >40000.000000000000</td>\n",
              "    </tr>\n",
              "    <tr>\n",
              "      <td id=\"T_c8ae2_row3_col0\" class=\"data row3 col0\" >Executive</td>\n",
              "      <td id=\"T_c8ae2_row3_col1\" class=\"data row3 col1\" >50000.000000000000</td>\n",
              "    </tr>\n",
              "    <tr>\n",
              "      <td id=\"T_c8ae2_row4_col0\" class=\"data row4 col0\" >Secretary</td>\n",
              "      <td id=\"T_c8ae2_row4_col1\" class=\"data row4 col1\" >40000.000000000000</td>\n",
              "    </tr>\n",
              "    <tr>\n",
              "      <td id=\"T_c8ae2_row5_col0\" class=\"data row5 col0\" >Cus_Rep</td>\n",
              "      <td id=\"T_c8ae2_row5_col1\" class=\"data row5 col1\" >20000.000000000000</td>\n",
              "    </tr>\n",
              "    <tr>\n",
              "      <td id=\"T_c8ae2_row6_col0\" class=\"data row6 col0\" >Clerk</td>\n",
              "      <td id=\"T_c8ae2_row6_col1\" class=\"data row6 col1\" >10333.3333333333333333</td>\n",
              "    </tr>\n",
              "    <tr>\n",
              "      <td id=\"T_c8ae2_row7_col0\" class=\"data row7 col0\" >Sr Manager</td>\n",
              "      <td id=\"T_c8ae2_row7_col1\" class=\"data row7 col1\" >40000.000000000000</td>\n",
              "    </tr>\n",
              "  </tbody>\n",
              "</table>\n"
            ]
          },
          "metadata": {},
          "execution_count": 63
        }
      ]
    },
    {
      "cell_type": "code",
      "source": [
        "sql = \"\\\n",
        "with MeanSalary as \\\n",
        "    (select jobdesc, round(avg(salary),0) avgsalary from empl group by jobdesc) \\\n",
        "select lastname, empl.jobdesc, salary, avgsalary from empl, meansalary \\\n",
        "where empl.jobdesc = meansalary.jobdesc \\\n",
        "order  by jobdesc \\\n",
        "\"\n",
        "runSelect(sql)"
      ],
      "metadata": {
        "id": "0i-rIGEzDgFy",
        "outputId": "d7e84d10-1285-4bf7-c0fc-d7131d8dbe16",
        "colab": {
          "base_uri": "https://localhost:8080/",
          "height": 457
        }
      },
      "execution_count": 64,
      "outputs": [
        {
          "output_type": "execute_result",
          "data": {
            "text/plain": [
              "<pandas.io.formats.style.Styler at 0x7c7ee7ddd1e0>"
            ],
            "text/html": [
              "<style type=\"text/css\">\n",
              "</style>\n",
              "<table id=\"T_7f853\" class=\"dataframe\">\n",
              "  <thead>\n",
              "    <tr>\n",
              "      <th id=\"T_7f853_level0_col0\" class=\"col_heading level0 col0\" >lastname</th>\n",
              "      <th id=\"T_7f853_level0_col1\" class=\"col_heading level0 col1\" >jobdesc</th>\n",
              "      <th id=\"T_7f853_level0_col2\" class=\"col_heading level0 col2\" >salary</th>\n",
              "      <th id=\"T_7f853_level0_col3\" class=\"col_heading level0 col3\" >avgsalary</th>\n",
              "    </tr>\n",
              "  </thead>\n",
              "  <tbody>\n",
              "    <tr>\n",
              "      <td id=\"T_7f853_row0_col0\" class=\"data row0 col0\" >Dalmia</td>\n",
              "      <td id=\"T_7f853_row0_col1\" class=\"data row0 col1\" >Clerk</td>\n",
              "      <td id=\"T_7f853_row0_col2\" class=\"data row0 col2\" >12000</td>\n",
              "      <td id=\"T_7f853_row0_col3\" class=\"data row0 col3\" >10333</td>\n",
              "    </tr>\n",
              "    <tr>\n",
              "      <td id=\"T_7f853_row1_col0\" class=\"data row1 col0\" >Dikshit</td>\n",
              "      <td id=\"T_7f853_row1_col1\" class=\"data row1 col1\" >Clerk</td>\n",
              "      <td id=\"T_7f853_row1_col2\" class=\"data row1 col2\" >10000</td>\n",
              "      <td id=\"T_7f853_row1_col3\" class=\"data row1 col3\" >10333</td>\n",
              "    </tr>\n",
              "    <tr>\n",
              "      <td id=\"T_7f853_row2_col0\" class=\"data row2 col0\" >Dhoni</td>\n",
              "      <td id=\"T_7f853_row2_col1\" class=\"data row2 col1\" >Clerk</td>\n",
              "      <td id=\"T_7f853_row2_col2\" class=\"data row2 col2\" >9000</td>\n",
              "      <td id=\"T_7f853_row2_col3\" class=\"data row2 col3\" >10333</td>\n",
              "    </tr>\n",
              "    <tr>\n",
              "      <td id=\"T_7f853_row3_col0\" class=\"data row3 col0\" >Sehwag</td>\n",
              "      <td id=\"T_7f853_row3_col1\" class=\"data row3 col1\" >Cus_Rep</td>\n",
              "      <td id=\"T_7f853_row3_col2\" class=\"data row3 col2\" >15000</td>\n",
              "      <td id=\"T_7f853_row3_col3\" class=\"data row3 col3\" >20000</td>\n",
              "    </tr>\n",
              "    <tr>\n",
              "      <td id=\"T_7f853_row4_col0\" class=\"data row4 col0\" >Mirza</td>\n",
              "      <td id=\"T_7f853_row4_col1\" class=\"data row4 col1\" >Cus_Rep</td>\n",
              "      <td id=\"T_7f853_row4_col2\" class=\"data row4 col2\" >25000</td>\n",
              "      <td id=\"T_7f853_row4_col3\" class=\"data row4 col3\" >20000</td>\n",
              "    </tr>\n",
              "    <tr>\n",
              "      <td id=\"T_7f853_row5_col0\" class=\"data row5 col0\" >Ganguly</td>\n",
              "      <td id=\"T_7f853_row5_col1\" class=\"data row5 col1\" >Cus_Rep</td>\n",
              "      <td id=\"T_7f853_row5_col2\" class=\"data row5 col2\" >20000</td>\n",
              "      <td id=\"T_7f853_row5_col3\" class=\"data row5 col3\" >20000</td>\n",
              "    </tr>\n",
              "    <tr>\n",
              "      <td id=\"T_7f853_row6_col0\" class=\"data row6 col0\" >Ganesan</td>\n",
              "      <td id=\"T_7f853_row6_col1\" class=\"data row6 col1\" >Director</td>\n",
              "      <td id=\"T_7f853_row6_col2\" class=\"data row6 col2\" >60000</td>\n",
              "      <td id=\"T_7f853_row6_col3\" class=\"data row6 col3\" >60000</td>\n",
              "    </tr>\n",
              "    <tr>\n",
              "      <td id=\"T_7f853_row7_col0\" class=\"data row7 col0\" >Sunil</td>\n",
              "      <td id=\"T_7f853_row7_col1\" class=\"data row7 col1\" >Dy Manager</td>\n",
              "      <td id=\"T_7f853_row7_col2\" class=\"data row7 col2\" >40000</td>\n",
              "      <td id=\"T_7f853_row7_col3\" class=\"data row7 col3\" >40000</td>\n",
              "    </tr>\n",
              "    <tr>\n",
              "      <td id=\"T_7f853_row8_col0\" class=\"data row8 col0\" >Bacchan</td>\n",
              "      <td id=\"T_7f853_row8_col1\" class=\"data row8 col1\" >Executive</td>\n",
              "      <td id=\"T_7f853_row8_col2\" class=\"data row8 col2\" >50000</td>\n",
              "      <td id=\"T_7f853_row8_col3\" class=\"data row8 col3\" >50000</td>\n",
              "    </tr>\n",
              "    <tr>\n",
              "      <td id=\"T_7f853_row9_col0\" class=\"data row9 col0\" >Khan</td>\n",
              "      <td id=\"T_7f853_row9_col1\" class=\"data row9 col1\" >Manager</td>\n",
              "      <td id=\"T_7f853_row9_col2\" class=\"data row9 col2\" >30000</td>\n",
              "      <td id=\"T_7f853_row9_col3\" class=\"data row9 col3\" >27500</td>\n",
              "    </tr>\n",
              "    <tr>\n",
              "      <td id=\"T_7f853_row10_col0\" class=\"data row10 col0\" >Mukherjee</td>\n",
              "      <td id=\"T_7f853_row10_col1\" class=\"data row10 col1\" >Manager</td>\n",
              "      <td id=\"T_7f853_row10_col2\" class=\"data row10 col2\" >25000</td>\n",
              "      <td id=\"T_7f853_row10_col3\" class=\"data row10 col3\" >27500</td>\n",
              "    </tr>\n",
              "    <tr>\n",
              "      <td id=\"T_7f853_row11_col0\" class=\"data row11 col0\" >Karthikeyan</td>\n",
              "      <td id=\"T_7f853_row11_col1\" class=\"data row11 col1\" >Secretary</td>\n",
              "      <td id=\"T_7f853_row11_col2\" class=\"data row11 col2\" >40000</td>\n",
              "      <td id=\"T_7f853_row11_col3\" class=\"data row11 col3\" >40000</td>\n",
              "    </tr>\n",
              "    <tr>\n",
              "      <td id=\"T_7f853_row12_col0\" class=\"data row12 col0\" >Dravid</td>\n",
              "      <td id=\"T_7f853_row12_col1\" class=\"data row12 col1\" >Sr Manager</td>\n",
              "      <td id=\"T_7f853_row12_col2\" class=\"data row12 col2\" >40000</td>\n",
              "      <td id=\"T_7f853_row12_col3\" class=\"data row12 col3\" >40000</td>\n",
              "    </tr>\n",
              "  </tbody>\n",
              "</table>\n"
            ]
          },
          "metadata": {},
          "execution_count": 64
        }
      ]
    },
    {
      "cell_type": "code",
      "source": [
        "sql = \"\\\n",
        "select lastname, empl.jobdesc, salary, avgsalary from \\\n",
        "empl, (select jobdesc, round(avg(salary),0) avgsalary from empl group by jobdesc) meansalary \\\n",
        "where empl.jobdesc = meansalary.jobdesc \\\n",
        "order  by jobdesc \\\n",
        "\"\n",
        "runSelect(sql)"
      ],
      "metadata": {
        "id": "nwrLj4xaExye",
        "outputId": "a5be3f7f-6f2d-40bf-dbfd-30b85b6478d5",
        "colab": {
          "base_uri": "https://localhost:8080/",
          "height": 457
        }
      },
      "execution_count": 65,
      "outputs": [
        {
          "output_type": "execute_result",
          "data": {
            "text/plain": [
              "<pandas.io.formats.style.Styler at 0x7c7ee7ddd630>"
            ],
            "text/html": [
              "<style type=\"text/css\">\n",
              "</style>\n",
              "<table id=\"T_878bb\" class=\"dataframe\">\n",
              "  <thead>\n",
              "    <tr>\n",
              "      <th id=\"T_878bb_level0_col0\" class=\"col_heading level0 col0\" >lastname</th>\n",
              "      <th id=\"T_878bb_level0_col1\" class=\"col_heading level0 col1\" >jobdesc</th>\n",
              "      <th id=\"T_878bb_level0_col2\" class=\"col_heading level0 col2\" >salary</th>\n",
              "      <th id=\"T_878bb_level0_col3\" class=\"col_heading level0 col3\" >avgsalary</th>\n",
              "    </tr>\n",
              "  </thead>\n",
              "  <tbody>\n",
              "    <tr>\n",
              "      <td id=\"T_878bb_row0_col0\" class=\"data row0 col0\" >Dalmia</td>\n",
              "      <td id=\"T_878bb_row0_col1\" class=\"data row0 col1\" >Clerk</td>\n",
              "      <td id=\"T_878bb_row0_col2\" class=\"data row0 col2\" >12000</td>\n",
              "      <td id=\"T_878bb_row0_col3\" class=\"data row0 col3\" >10333</td>\n",
              "    </tr>\n",
              "    <tr>\n",
              "      <td id=\"T_878bb_row1_col0\" class=\"data row1 col0\" >Dikshit</td>\n",
              "      <td id=\"T_878bb_row1_col1\" class=\"data row1 col1\" >Clerk</td>\n",
              "      <td id=\"T_878bb_row1_col2\" class=\"data row1 col2\" >10000</td>\n",
              "      <td id=\"T_878bb_row1_col3\" class=\"data row1 col3\" >10333</td>\n",
              "    </tr>\n",
              "    <tr>\n",
              "      <td id=\"T_878bb_row2_col0\" class=\"data row2 col0\" >Dhoni</td>\n",
              "      <td id=\"T_878bb_row2_col1\" class=\"data row2 col1\" >Clerk</td>\n",
              "      <td id=\"T_878bb_row2_col2\" class=\"data row2 col2\" >9000</td>\n",
              "      <td id=\"T_878bb_row2_col3\" class=\"data row2 col3\" >10333</td>\n",
              "    </tr>\n",
              "    <tr>\n",
              "      <td id=\"T_878bb_row3_col0\" class=\"data row3 col0\" >Sehwag</td>\n",
              "      <td id=\"T_878bb_row3_col1\" class=\"data row3 col1\" >Cus_Rep</td>\n",
              "      <td id=\"T_878bb_row3_col2\" class=\"data row3 col2\" >15000</td>\n",
              "      <td id=\"T_878bb_row3_col3\" class=\"data row3 col3\" >20000</td>\n",
              "    </tr>\n",
              "    <tr>\n",
              "      <td id=\"T_878bb_row4_col0\" class=\"data row4 col0\" >Mirza</td>\n",
              "      <td id=\"T_878bb_row4_col1\" class=\"data row4 col1\" >Cus_Rep</td>\n",
              "      <td id=\"T_878bb_row4_col2\" class=\"data row4 col2\" >25000</td>\n",
              "      <td id=\"T_878bb_row4_col3\" class=\"data row4 col3\" >20000</td>\n",
              "    </tr>\n",
              "    <tr>\n",
              "      <td id=\"T_878bb_row5_col0\" class=\"data row5 col0\" >Ganguly</td>\n",
              "      <td id=\"T_878bb_row5_col1\" class=\"data row5 col1\" >Cus_Rep</td>\n",
              "      <td id=\"T_878bb_row5_col2\" class=\"data row5 col2\" >20000</td>\n",
              "      <td id=\"T_878bb_row5_col3\" class=\"data row5 col3\" >20000</td>\n",
              "    </tr>\n",
              "    <tr>\n",
              "      <td id=\"T_878bb_row6_col0\" class=\"data row6 col0\" >Ganesan</td>\n",
              "      <td id=\"T_878bb_row6_col1\" class=\"data row6 col1\" >Director</td>\n",
              "      <td id=\"T_878bb_row6_col2\" class=\"data row6 col2\" >60000</td>\n",
              "      <td id=\"T_878bb_row6_col3\" class=\"data row6 col3\" >60000</td>\n",
              "    </tr>\n",
              "    <tr>\n",
              "      <td id=\"T_878bb_row7_col0\" class=\"data row7 col0\" >Sunil</td>\n",
              "      <td id=\"T_878bb_row7_col1\" class=\"data row7 col1\" >Dy Manager</td>\n",
              "      <td id=\"T_878bb_row7_col2\" class=\"data row7 col2\" >40000</td>\n",
              "      <td id=\"T_878bb_row7_col3\" class=\"data row7 col3\" >40000</td>\n",
              "    </tr>\n",
              "    <tr>\n",
              "      <td id=\"T_878bb_row8_col0\" class=\"data row8 col0\" >Bacchan</td>\n",
              "      <td id=\"T_878bb_row8_col1\" class=\"data row8 col1\" >Executive</td>\n",
              "      <td id=\"T_878bb_row8_col2\" class=\"data row8 col2\" >50000</td>\n",
              "      <td id=\"T_878bb_row8_col3\" class=\"data row8 col3\" >50000</td>\n",
              "    </tr>\n",
              "    <tr>\n",
              "      <td id=\"T_878bb_row9_col0\" class=\"data row9 col0\" >Khan</td>\n",
              "      <td id=\"T_878bb_row9_col1\" class=\"data row9 col1\" >Manager</td>\n",
              "      <td id=\"T_878bb_row9_col2\" class=\"data row9 col2\" >30000</td>\n",
              "      <td id=\"T_878bb_row9_col3\" class=\"data row9 col3\" >27500</td>\n",
              "    </tr>\n",
              "    <tr>\n",
              "      <td id=\"T_878bb_row10_col0\" class=\"data row10 col0\" >Mukherjee</td>\n",
              "      <td id=\"T_878bb_row10_col1\" class=\"data row10 col1\" >Manager</td>\n",
              "      <td id=\"T_878bb_row10_col2\" class=\"data row10 col2\" >25000</td>\n",
              "      <td id=\"T_878bb_row10_col3\" class=\"data row10 col3\" >27500</td>\n",
              "    </tr>\n",
              "    <tr>\n",
              "      <td id=\"T_878bb_row11_col0\" class=\"data row11 col0\" >Karthikeyan</td>\n",
              "      <td id=\"T_878bb_row11_col1\" class=\"data row11 col1\" >Secretary</td>\n",
              "      <td id=\"T_878bb_row11_col2\" class=\"data row11 col2\" >40000</td>\n",
              "      <td id=\"T_878bb_row11_col3\" class=\"data row11 col3\" >40000</td>\n",
              "    </tr>\n",
              "    <tr>\n",
              "      <td id=\"T_878bb_row12_col0\" class=\"data row12 col0\" >Dravid</td>\n",
              "      <td id=\"T_878bb_row12_col1\" class=\"data row12 col1\" >Sr Manager</td>\n",
              "      <td id=\"T_878bb_row12_col2\" class=\"data row12 col2\" >40000</td>\n",
              "      <td id=\"T_878bb_row12_col3\" class=\"data row12 col3\" >40000</td>\n",
              "    </tr>\n",
              "  </tbody>\n",
              "</table>\n"
            ]
          },
          "metadata": {},
          "execution_count": 65
        }
      ]
    },
    {
      "cell_type": "markdown",
      "source": [
        "### CTE Recursion"
      ],
      "metadata": {
        "id": "d3j9PbgaADoB"
      }
    },
    {
      "cell_type": "code",
      "source": [
        "# recursion\n",
        "sql = \"\\\n",
        "with recursive hiring_chain as (\\\n",
        "select empid, lastname, hiredby \\\n",
        "    from empl where lastname = 'Ganesan' \\\n",
        "union \\\n",
        "select \\\n",
        "e.empid, e.lastname,e.hiredby \\\n",
        "    from empl e \\\n",
        "    inner join hiring_chain hc on hc.empid = e.hiredby \\\n",
        ") \\\n",
        "select * from hiring_chain \\\n",
        "\"\n",
        "\n",
        "runSelect(sql)"
      ],
      "metadata": {
        "id": "HA-RyLoz0D3Z",
        "outputId": "1d4afb94-cf28-4bff-c904-ccd3cf35b5d7",
        "colab": {
          "base_uri": "https://localhost:8080/",
          "height": 175
        }
      },
      "execution_count": 66,
      "outputs": [
        {
          "output_type": "execute_result",
          "data": {
            "text/plain": [
              "<pandas.io.formats.style.Styler at 0x7c7ee7dde380>"
            ],
            "text/html": [
              "<style type=\"text/css\">\n",
              "</style>\n",
              "<table id=\"T_8607f\" class=\"dataframe\">\n",
              "  <thead>\n",
              "    <tr>\n",
              "      <th id=\"T_8607f_level0_col0\" class=\"col_heading level0 col0\" >empid</th>\n",
              "      <th id=\"T_8607f_level0_col1\" class=\"col_heading level0 col1\" >lastname</th>\n",
              "      <th id=\"T_8607f_level0_col2\" class=\"col_heading level0 col2\" >hiredby</th>\n",
              "    </tr>\n",
              "  </thead>\n",
              "  <tbody>\n",
              "    <tr>\n",
              "      <td id=\"T_8607f_row0_col0\" class=\"data row0 col0\" >299034</td>\n",
              "      <td id=\"T_8607f_row0_col1\" class=\"data row0 col1\" >Ganesan</td>\n",
              "      <td id=\"T_8607f_row0_col2\" class=\"data row0 col2\" >742866</td>\n",
              "    </tr>\n",
              "    <tr>\n",
              "      <td id=\"T_8607f_row1_col0\" class=\"data row1 col0\" >989007</td>\n",
              "      <td id=\"T_8607f_row1_col1\" class=\"data row1 col1\" >Ganguly</td>\n",
              "      <td id=\"T_8607f_row1_col2\" class=\"data row1 col2\" >299034</td>\n",
              "    </tr>\n",
              "    <tr>\n",
              "      <td id=\"T_8607f_row2_col0\" class=\"data row2 col0\" >546223</td>\n",
              "      <td id=\"T_8607f_row2_col1\" class=\"data row2 col1\" >Karthikeyan</td>\n",
              "      <td id=\"T_8607f_row2_col2\" class=\"data row2 col2\" >299034</td>\n",
              "    </tr>\n",
              "    <tr>\n",
              "      <td id=\"T_8607f_row3_col0\" class=\"data row3 col0\" >546224</td>\n",
              "      <td id=\"T_8607f_row3_col1\" class=\"data row3 col1\" >Sunil</td>\n",
              "      <td id=\"T_8607f_row3_col2\" class=\"data row3 col2\" >989007</td>\n",
              "    </tr>\n",
              "  </tbody>\n",
              "</table>\n"
            ]
          },
          "metadata": {},
          "execution_count": 66
        }
      ]
    },
    {
      "cell_type": "markdown",
      "source": [
        "#Window Functions"
      ],
      "metadata": {
        "id": "p1v2XtGa1QOq"
      }
    },
    {
      "cell_type": "code",
      "source": [
        "sql = \"select deptid, lastname, salary, \\\n",
        "    avg(salary) over (partition by deptid) \\\n",
        "    from empl\"\n",
        "runSelect(sql)"
      ],
      "metadata": {
        "colab": {
          "base_uri": "https://localhost:8080/",
          "height": 457
        },
        "id": "ffpu5hXo1TfJ",
        "outputId": "3a2ed75c-1903-4801-94ab-1bc806da61a4"
      },
      "execution_count": 67,
      "outputs": [
        {
          "output_type": "execute_result",
          "data": {
            "text/plain": [
              "<pandas.io.formats.style.Styler at 0x7c7ee7dde710>"
            ],
            "text/html": [
              "<style type=\"text/css\">\n",
              "</style>\n",
              "<table id=\"T_20b0c\" class=\"dataframe\">\n",
              "  <thead>\n",
              "    <tr>\n",
              "      <th id=\"T_20b0c_level0_col0\" class=\"col_heading level0 col0\" >deptid</th>\n",
              "      <th id=\"T_20b0c_level0_col1\" class=\"col_heading level0 col1\" >lastname</th>\n",
              "      <th id=\"T_20b0c_level0_col2\" class=\"col_heading level0 col2\" >salary</th>\n",
              "      <th id=\"T_20b0c_level0_col3\" class=\"col_heading level0 col3\" >avg</th>\n",
              "    </tr>\n",
              "  </thead>\n",
              "  <tbody>\n",
              "    <tr>\n",
              "      <td id=\"T_20b0c_row0_col0\" class=\"data row0 col0\" >10</td>\n",
              "      <td id=\"T_20b0c_row0_col1\" class=\"data row0 col1\" >Bacchan</td>\n",
              "      <td id=\"T_20b0c_row0_col2\" class=\"data row0 col2\" >50000</td>\n",
              "      <td id=\"T_20b0c_row0_col3\" class=\"data row0 col3\" >50000.000000000000</td>\n",
              "    </tr>\n",
              "    <tr>\n",
              "      <td id=\"T_20b0c_row1_col0\" class=\"data row1 col0\" >10</td>\n",
              "      <td id=\"T_20b0c_row1_col1\" class=\"data row1 col1\" >Ganesan</td>\n",
              "      <td id=\"T_20b0c_row1_col2\" class=\"data row1 col2\" >60000</td>\n",
              "      <td id=\"T_20b0c_row1_col3\" class=\"data row1 col3\" >50000.000000000000</td>\n",
              "    </tr>\n",
              "    <tr>\n",
              "      <td id=\"T_20b0c_row2_col0\" class=\"data row2 col0\" >10</td>\n",
              "      <td id=\"T_20b0c_row2_col1\" class=\"data row2 col1\" >Karthikeyan</td>\n",
              "      <td id=\"T_20b0c_row2_col2\" class=\"data row2 col2\" >40000</td>\n",
              "      <td id=\"T_20b0c_row2_col3\" class=\"data row2 col3\" >50000.000000000000</td>\n",
              "    </tr>\n",
              "    <tr>\n",
              "      <td id=\"T_20b0c_row3_col0\" class=\"data row3 col0\" >20</td>\n",
              "      <td id=\"T_20b0c_row3_col1\" class=\"data row3 col1\" >Dikshit</td>\n",
              "      <td id=\"T_20b0c_row3_col2\" class=\"data row3 col2\" >10000</td>\n",
              "      <td id=\"T_20b0c_row3_col3\" class=\"data row3 col3\" >18333.333333333333</td>\n",
              "    </tr>\n",
              "    <tr>\n",
              "      <td id=\"T_20b0c_row4_col0\" class=\"data row4 col0\" >20</td>\n",
              "      <td id=\"T_20b0c_row4_col1\" class=\"data row4 col1\" >Khan</td>\n",
              "      <td id=\"T_20b0c_row4_col2\" class=\"data row4 col2\" >30000</td>\n",
              "      <td id=\"T_20b0c_row4_col3\" class=\"data row4 col3\" >18333.333333333333</td>\n",
              "    </tr>\n",
              "    <tr>\n",
              "      <td id=\"T_20b0c_row5_col0\" class=\"data row5 col0\" >20</td>\n",
              "      <td id=\"T_20b0c_row5_col1\" class=\"data row5 col1\" >Sehwag</td>\n",
              "      <td id=\"T_20b0c_row5_col2\" class=\"data row5 col2\" >15000</td>\n",
              "      <td id=\"T_20b0c_row5_col3\" class=\"data row5 col3\" >18333.333333333333</td>\n",
              "    </tr>\n",
              "    <tr>\n",
              "      <td id=\"T_20b0c_row6_col0\" class=\"data row6 col0\" >30</td>\n",
              "      <td id=\"T_20b0c_row6_col1\" class=\"data row6 col1\" >Mirza</td>\n",
              "      <td id=\"T_20b0c_row6_col2\" class=\"data row6 col2\" >25000</td>\n",
              "      <td id=\"T_20b0c_row6_col3\" class=\"data row6 col3\" >25666.666666666667</td>\n",
              "    </tr>\n",
              "    <tr>\n",
              "      <td id=\"T_20b0c_row7_col0\" class=\"data row7 col0\" >30</td>\n",
              "      <td id=\"T_20b0c_row7_col1\" class=\"data row7 col1\" >Dravid</td>\n",
              "      <td id=\"T_20b0c_row7_col2\" class=\"data row7 col2\" >40000</td>\n",
              "      <td id=\"T_20b0c_row7_col3\" class=\"data row7 col3\" >25666.666666666667</td>\n",
              "    </tr>\n",
              "    <tr>\n",
              "      <td id=\"T_20b0c_row8_col0\" class=\"data row8 col0\" >30</td>\n",
              "      <td id=\"T_20b0c_row8_col1\" class=\"data row8 col1\" >Dalmia</td>\n",
              "      <td id=\"T_20b0c_row8_col2\" class=\"data row8 col2\" >12000</td>\n",
              "      <td id=\"T_20b0c_row8_col3\" class=\"data row8 col3\" >25666.666666666667</td>\n",
              "    </tr>\n",
              "    <tr>\n",
              "      <td id=\"T_20b0c_row9_col0\" class=\"data row9 col0\" >40</td>\n",
              "      <td id=\"T_20b0c_row9_col1\" class=\"data row9 col1\" >Ganguly</td>\n",
              "      <td id=\"T_20b0c_row9_col2\" class=\"data row9 col2\" >20000</td>\n",
              "      <td id=\"T_20b0c_row9_col3\" class=\"data row9 col3\" >18000.000000000000</td>\n",
              "    </tr>\n",
              "    <tr>\n",
              "      <td id=\"T_20b0c_row10_col0\" class=\"data row10 col0\" >40</td>\n",
              "      <td id=\"T_20b0c_row10_col1\" class=\"data row10 col1\" >Dhoni</td>\n",
              "      <td id=\"T_20b0c_row10_col2\" class=\"data row10 col2\" >9000</td>\n",
              "      <td id=\"T_20b0c_row10_col3\" class=\"data row10 col3\" >18000.000000000000</td>\n",
              "    </tr>\n",
              "    <tr>\n",
              "      <td id=\"T_20b0c_row11_col0\" class=\"data row11 col0\" >40</td>\n",
              "      <td id=\"T_20b0c_row11_col1\" class=\"data row11 col1\" >Mukherjee</td>\n",
              "      <td id=\"T_20b0c_row11_col2\" class=\"data row11 col2\" >25000</td>\n",
              "      <td id=\"T_20b0c_row11_col3\" class=\"data row11 col3\" >18000.000000000000</td>\n",
              "    </tr>\n",
              "    <tr>\n",
              "      <td id=\"T_20b0c_row12_col0\" class=\"data row12 col0\" >70</td>\n",
              "      <td id=\"T_20b0c_row12_col1\" class=\"data row12 col1\" >Sunil</td>\n",
              "      <td id=\"T_20b0c_row12_col2\" class=\"data row12 col2\" >40000</td>\n",
              "      <td id=\"T_20b0c_row12_col3\" class=\"data row12 col3\" >40000.000000000000</td>\n",
              "    </tr>\n",
              "  </tbody>\n",
              "</table>\n"
            ]
          },
          "metadata": {},
          "execution_count": 67
        }
      ]
    },
    {
      "cell_type": "code",
      "source": [
        "sql = \"select deptname, lastname, salary, avg(salary) over (partition by deptname) from empl  inner join dept using(deptid)\"\n",
        "runSelect(sql)"
      ],
      "metadata": {
        "colab": {
          "base_uri": "https://localhost:8080/",
          "height": 426
        },
        "id": "JZC4y3tg2o8A",
        "outputId": "bc55c5ad-ed01-42e8-9871-4fa3f678bdf3"
      },
      "execution_count": 68,
      "outputs": [
        {
          "output_type": "execute_result",
          "data": {
            "text/plain": [
              "<pandas.io.formats.style.Styler at 0x7c7ee7ddf100>"
            ],
            "text/html": [
              "<style type=\"text/css\">\n",
              "</style>\n",
              "<table id=\"T_75736\" class=\"dataframe\">\n",
              "  <thead>\n",
              "    <tr>\n",
              "      <th id=\"T_75736_level0_col0\" class=\"col_heading level0 col0\" >deptname</th>\n",
              "      <th id=\"T_75736_level0_col1\" class=\"col_heading level0 col1\" >lastname</th>\n",
              "      <th id=\"T_75736_level0_col2\" class=\"col_heading level0 col2\" >salary</th>\n",
              "      <th id=\"T_75736_level0_col3\" class=\"col_heading level0 col3\" >avg</th>\n",
              "    </tr>\n",
              "  </thead>\n",
              "  <tbody>\n",
              "    <tr>\n",
              "      <td id=\"T_75736_row0_col0\" class=\"data row0 col0\" >Accounts</td>\n",
              "      <td id=\"T_75736_row0_col1\" class=\"data row0 col1\" >Dravid</td>\n",
              "      <td id=\"T_75736_row0_col2\" class=\"data row0 col2\" >40000</td>\n",
              "      <td id=\"T_75736_row0_col3\" class=\"data row0 col3\" >25666.666666666667</td>\n",
              "    </tr>\n",
              "    <tr>\n",
              "      <td id=\"T_75736_row1_col0\" class=\"data row1 col0\" >Accounts</td>\n",
              "      <td id=\"T_75736_row1_col1\" class=\"data row1 col1\" >Dalmia</td>\n",
              "      <td id=\"T_75736_row1_col2\" class=\"data row1 col2\" >12000</td>\n",
              "      <td id=\"T_75736_row1_col3\" class=\"data row1 col3\" >25666.666666666667</td>\n",
              "    </tr>\n",
              "    <tr>\n",
              "      <td id=\"T_75736_row2_col0\" class=\"data row2 col0\" >Accounts</td>\n",
              "      <td id=\"T_75736_row2_col1\" class=\"data row2 col1\" >Mirza</td>\n",
              "      <td id=\"T_75736_row2_col2\" class=\"data row2 col2\" >25000</td>\n",
              "      <td id=\"T_75736_row2_col3\" class=\"data row2 col3\" >25666.666666666667</td>\n",
              "    </tr>\n",
              "    <tr>\n",
              "      <td id=\"T_75736_row3_col0\" class=\"data row3 col0\" >Corporate</td>\n",
              "      <td id=\"T_75736_row3_col1\" class=\"data row3 col1\" >Karthikeyan</td>\n",
              "      <td id=\"T_75736_row3_col2\" class=\"data row3 col2\" >40000</td>\n",
              "      <td id=\"T_75736_row3_col3\" class=\"data row3 col3\" >50000.000000000000</td>\n",
              "    </tr>\n",
              "    <tr>\n",
              "      <td id=\"T_75736_row4_col0\" class=\"data row4 col0\" >Corporate</td>\n",
              "      <td id=\"T_75736_row4_col1\" class=\"data row4 col1\" >Ganesan</td>\n",
              "      <td id=\"T_75736_row4_col2\" class=\"data row4 col2\" >60000</td>\n",
              "      <td id=\"T_75736_row4_col3\" class=\"data row4 col3\" >50000.000000000000</td>\n",
              "    </tr>\n",
              "    <tr>\n",
              "      <td id=\"T_75736_row5_col0\" class=\"data row5 col0\" >Corporate</td>\n",
              "      <td id=\"T_75736_row5_col1\" class=\"data row5 col1\" >Bacchan</td>\n",
              "      <td id=\"T_75736_row5_col2\" class=\"data row5 col2\" >50000</td>\n",
              "      <td id=\"T_75736_row5_col3\" class=\"data row5 col3\" >50000.000000000000</td>\n",
              "    </tr>\n",
              "    <tr>\n",
              "      <td id=\"T_75736_row6_col0\" class=\"data row6 col0\" >Production</td>\n",
              "      <td id=\"T_75736_row6_col1\" class=\"data row6 col1\" >Ganguly</td>\n",
              "      <td id=\"T_75736_row6_col2\" class=\"data row6 col2\" >20000</td>\n",
              "      <td id=\"T_75736_row6_col3\" class=\"data row6 col3\" >18000.000000000000</td>\n",
              "    </tr>\n",
              "    <tr>\n",
              "      <td id=\"T_75736_row7_col0\" class=\"data row7 col0\" >Production</td>\n",
              "      <td id=\"T_75736_row7_col1\" class=\"data row7 col1\" >Dhoni</td>\n",
              "      <td id=\"T_75736_row7_col2\" class=\"data row7 col2\" >9000</td>\n",
              "      <td id=\"T_75736_row7_col3\" class=\"data row7 col3\" >18000.000000000000</td>\n",
              "    </tr>\n",
              "    <tr>\n",
              "      <td id=\"T_75736_row8_col0\" class=\"data row8 col0\" >Production</td>\n",
              "      <td id=\"T_75736_row8_col1\" class=\"data row8 col1\" >Mukherjee</td>\n",
              "      <td id=\"T_75736_row8_col2\" class=\"data row8 col2\" >25000</td>\n",
              "      <td id=\"T_75736_row8_col3\" class=\"data row8 col3\" >18000.000000000000</td>\n",
              "    </tr>\n",
              "    <tr>\n",
              "      <td id=\"T_75736_row9_col0\" class=\"data row9 col0\" >Sales</td>\n",
              "      <td id=\"T_75736_row9_col1\" class=\"data row9 col1\" >Dikshit</td>\n",
              "      <td id=\"T_75736_row9_col2\" class=\"data row9 col2\" >10000</td>\n",
              "      <td id=\"T_75736_row9_col3\" class=\"data row9 col3\" >18333.333333333333</td>\n",
              "    </tr>\n",
              "    <tr>\n",
              "      <td id=\"T_75736_row10_col0\" class=\"data row10 col0\" >Sales</td>\n",
              "      <td id=\"T_75736_row10_col1\" class=\"data row10 col1\" >Khan</td>\n",
              "      <td id=\"T_75736_row10_col2\" class=\"data row10 col2\" >30000</td>\n",
              "      <td id=\"T_75736_row10_col3\" class=\"data row10 col3\" >18333.333333333333</td>\n",
              "    </tr>\n",
              "    <tr>\n",
              "      <td id=\"T_75736_row11_col0\" class=\"data row11 col0\" >Sales</td>\n",
              "      <td id=\"T_75736_row11_col1\" class=\"data row11 col1\" >Sehwag</td>\n",
              "      <td id=\"T_75736_row11_col2\" class=\"data row11 col2\" >15000</td>\n",
              "      <td id=\"T_75736_row11_col3\" class=\"data row11 col3\" >18333.333333333333</td>\n",
              "    </tr>\n",
              "  </tbody>\n",
              "</table>\n"
            ]
          },
          "metadata": {},
          "execution_count": 68
        }
      ]
    },
    {
      "cell_type": "code",
      "source": [
        "sql = \"select deptname, lastname, salary, \\\n",
        "    row_number() over (partition by deptname order by salary) \\\n",
        "    from empl  inner join dept using(deptid)\"\n",
        "runSelect(sql)"
      ],
      "metadata": {
        "colab": {
          "base_uri": "https://localhost:8080/",
          "height": 426
        },
        "id": "xgP9VShE4Spl",
        "outputId": "b0bb1f2d-0140-4408-daf5-16f74e3246c1"
      },
      "execution_count": 69,
      "outputs": [
        {
          "output_type": "execute_result",
          "data": {
            "text/plain": [
              "<pandas.io.formats.style.Styler at 0x7c7ee7dde890>"
            ],
            "text/html": [
              "<style type=\"text/css\">\n",
              "</style>\n",
              "<table id=\"T_d4ce0\" class=\"dataframe\">\n",
              "  <thead>\n",
              "    <tr>\n",
              "      <th id=\"T_d4ce0_level0_col0\" class=\"col_heading level0 col0\" >deptname</th>\n",
              "      <th id=\"T_d4ce0_level0_col1\" class=\"col_heading level0 col1\" >lastname</th>\n",
              "      <th id=\"T_d4ce0_level0_col2\" class=\"col_heading level0 col2\" >salary</th>\n",
              "      <th id=\"T_d4ce0_level0_col3\" class=\"col_heading level0 col3\" >row_number</th>\n",
              "    </tr>\n",
              "  </thead>\n",
              "  <tbody>\n",
              "    <tr>\n",
              "      <td id=\"T_d4ce0_row0_col0\" class=\"data row0 col0\" >Accounts</td>\n",
              "      <td id=\"T_d4ce0_row0_col1\" class=\"data row0 col1\" >Dalmia</td>\n",
              "      <td id=\"T_d4ce0_row0_col2\" class=\"data row0 col2\" >12000</td>\n",
              "      <td id=\"T_d4ce0_row0_col3\" class=\"data row0 col3\" >1</td>\n",
              "    </tr>\n",
              "    <tr>\n",
              "      <td id=\"T_d4ce0_row1_col0\" class=\"data row1 col0\" >Accounts</td>\n",
              "      <td id=\"T_d4ce0_row1_col1\" class=\"data row1 col1\" >Mirza</td>\n",
              "      <td id=\"T_d4ce0_row1_col2\" class=\"data row1 col2\" >25000</td>\n",
              "      <td id=\"T_d4ce0_row1_col3\" class=\"data row1 col3\" >2</td>\n",
              "    </tr>\n",
              "    <tr>\n",
              "      <td id=\"T_d4ce0_row2_col0\" class=\"data row2 col0\" >Accounts</td>\n",
              "      <td id=\"T_d4ce0_row2_col1\" class=\"data row2 col1\" >Dravid</td>\n",
              "      <td id=\"T_d4ce0_row2_col2\" class=\"data row2 col2\" >40000</td>\n",
              "      <td id=\"T_d4ce0_row2_col3\" class=\"data row2 col3\" >3</td>\n",
              "    </tr>\n",
              "    <tr>\n",
              "      <td id=\"T_d4ce0_row3_col0\" class=\"data row3 col0\" >Corporate</td>\n",
              "      <td id=\"T_d4ce0_row3_col1\" class=\"data row3 col1\" >Karthikeyan</td>\n",
              "      <td id=\"T_d4ce0_row3_col2\" class=\"data row3 col2\" >40000</td>\n",
              "      <td id=\"T_d4ce0_row3_col3\" class=\"data row3 col3\" >1</td>\n",
              "    </tr>\n",
              "    <tr>\n",
              "      <td id=\"T_d4ce0_row4_col0\" class=\"data row4 col0\" >Corporate</td>\n",
              "      <td id=\"T_d4ce0_row4_col1\" class=\"data row4 col1\" >Bacchan</td>\n",
              "      <td id=\"T_d4ce0_row4_col2\" class=\"data row4 col2\" >50000</td>\n",
              "      <td id=\"T_d4ce0_row4_col3\" class=\"data row4 col3\" >2</td>\n",
              "    </tr>\n",
              "    <tr>\n",
              "      <td id=\"T_d4ce0_row5_col0\" class=\"data row5 col0\" >Corporate</td>\n",
              "      <td id=\"T_d4ce0_row5_col1\" class=\"data row5 col1\" >Ganesan</td>\n",
              "      <td id=\"T_d4ce0_row5_col2\" class=\"data row5 col2\" >60000</td>\n",
              "      <td id=\"T_d4ce0_row5_col3\" class=\"data row5 col3\" >3</td>\n",
              "    </tr>\n",
              "    <tr>\n",
              "      <td id=\"T_d4ce0_row6_col0\" class=\"data row6 col0\" >Production</td>\n",
              "      <td id=\"T_d4ce0_row6_col1\" class=\"data row6 col1\" >Dhoni</td>\n",
              "      <td id=\"T_d4ce0_row6_col2\" class=\"data row6 col2\" >9000</td>\n",
              "      <td id=\"T_d4ce0_row6_col3\" class=\"data row6 col3\" >1</td>\n",
              "    </tr>\n",
              "    <tr>\n",
              "      <td id=\"T_d4ce0_row7_col0\" class=\"data row7 col0\" >Production</td>\n",
              "      <td id=\"T_d4ce0_row7_col1\" class=\"data row7 col1\" >Ganguly</td>\n",
              "      <td id=\"T_d4ce0_row7_col2\" class=\"data row7 col2\" >20000</td>\n",
              "      <td id=\"T_d4ce0_row7_col3\" class=\"data row7 col3\" >2</td>\n",
              "    </tr>\n",
              "    <tr>\n",
              "      <td id=\"T_d4ce0_row8_col0\" class=\"data row8 col0\" >Production</td>\n",
              "      <td id=\"T_d4ce0_row8_col1\" class=\"data row8 col1\" >Mukherjee</td>\n",
              "      <td id=\"T_d4ce0_row8_col2\" class=\"data row8 col2\" >25000</td>\n",
              "      <td id=\"T_d4ce0_row8_col3\" class=\"data row8 col3\" >3</td>\n",
              "    </tr>\n",
              "    <tr>\n",
              "      <td id=\"T_d4ce0_row9_col0\" class=\"data row9 col0\" >Sales</td>\n",
              "      <td id=\"T_d4ce0_row9_col1\" class=\"data row9 col1\" >Dikshit</td>\n",
              "      <td id=\"T_d4ce0_row9_col2\" class=\"data row9 col2\" >10000</td>\n",
              "      <td id=\"T_d4ce0_row9_col3\" class=\"data row9 col3\" >1</td>\n",
              "    </tr>\n",
              "    <tr>\n",
              "      <td id=\"T_d4ce0_row10_col0\" class=\"data row10 col0\" >Sales</td>\n",
              "      <td id=\"T_d4ce0_row10_col1\" class=\"data row10 col1\" >Sehwag</td>\n",
              "      <td id=\"T_d4ce0_row10_col2\" class=\"data row10 col2\" >15000</td>\n",
              "      <td id=\"T_d4ce0_row10_col3\" class=\"data row10 col3\" >2</td>\n",
              "    </tr>\n",
              "    <tr>\n",
              "      <td id=\"T_d4ce0_row11_col0\" class=\"data row11 col0\" >Sales</td>\n",
              "      <td id=\"T_d4ce0_row11_col1\" class=\"data row11 col1\" >Khan</td>\n",
              "      <td id=\"T_d4ce0_row11_col2\" class=\"data row11 col2\" >30000</td>\n",
              "      <td id=\"T_d4ce0_row11_col3\" class=\"data row11 col3\" >3</td>\n",
              "    </tr>\n",
              "  </tbody>\n",
              "</table>\n"
            ]
          },
          "metadata": {},
          "execution_count": 69
        }
      ]
    },
    {
      "cell_type": "code",
      "source": [
        "sql = \"select deptname, lastname, salary, \\\n",
        "        rank() over (partition by deptname order by salary desc) \\\n",
        "        from empl  inner join dept using(deptid)\"\n",
        "runSelect(sql)"
      ],
      "metadata": {
        "colab": {
          "base_uri": "https://localhost:8080/",
          "height": 426
        },
        "id": "rL_1sHBa4ply",
        "outputId": "13270f23-1e37-485e-86a2-04a9600e44ae"
      },
      "execution_count": 70,
      "outputs": [
        {
          "output_type": "execute_result",
          "data": {
            "text/plain": [
              "<pandas.io.formats.style.Styler at 0x7c7ee7dde0b0>"
            ],
            "text/html": [
              "<style type=\"text/css\">\n",
              "</style>\n",
              "<table id=\"T_58ac7\" class=\"dataframe\">\n",
              "  <thead>\n",
              "    <tr>\n",
              "      <th id=\"T_58ac7_level0_col0\" class=\"col_heading level0 col0\" >deptname</th>\n",
              "      <th id=\"T_58ac7_level0_col1\" class=\"col_heading level0 col1\" >lastname</th>\n",
              "      <th id=\"T_58ac7_level0_col2\" class=\"col_heading level0 col2\" >salary</th>\n",
              "      <th id=\"T_58ac7_level0_col3\" class=\"col_heading level0 col3\" >rank</th>\n",
              "    </tr>\n",
              "  </thead>\n",
              "  <tbody>\n",
              "    <tr>\n",
              "      <td id=\"T_58ac7_row0_col0\" class=\"data row0 col0\" >Accounts</td>\n",
              "      <td id=\"T_58ac7_row0_col1\" class=\"data row0 col1\" >Dravid</td>\n",
              "      <td id=\"T_58ac7_row0_col2\" class=\"data row0 col2\" >40000</td>\n",
              "      <td id=\"T_58ac7_row0_col3\" class=\"data row0 col3\" >1</td>\n",
              "    </tr>\n",
              "    <tr>\n",
              "      <td id=\"T_58ac7_row1_col0\" class=\"data row1 col0\" >Accounts</td>\n",
              "      <td id=\"T_58ac7_row1_col1\" class=\"data row1 col1\" >Mirza</td>\n",
              "      <td id=\"T_58ac7_row1_col2\" class=\"data row1 col2\" >25000</td>\n",
              "      <td id=\"T_58ac7_row1_col3\" class=\"data row1 col3\" >2</td>\n",
              "    </tr>\n",
              "    <tr>\n",
              "      <td id=\"T_58ac7_row2_col0\" class=\"data row2 col0\" >Accounts</td>\n",
              "      <td id=\"T_58ac7_row2_col1\" class=\"data row2 col1\" >Dalmia</td>\n",
              "      <td id=\"T_58ac7_row2_col2\" class=\"data row2 col2\" >12000</td>\n",
              "      <td id=\"T_58ac7_row2_col3\" class=\"data row2 col3\" >3</td>\n",
              "    </tr>\n",
              "    <tr>\n",
              "      <td id=\"T_58ac7_row3_col0\" class=\"data row3 col0\" >Corporate</td>\n",
              "      <td id=\"T_58ac7_row3_col1\" class=\"data row3 col1\" >Ganesan</td>\n",
              "      <td id=\"T_58ac7_row3_col2\" class=\"data row3 col2\" >60000</td>\n",
              "      <td id=\"T_58ac7_row3_col3\" class=\"data row3 col3\" >1</td>\n",
              "    </tr>\n",
              "    <tr>\n",
              "      <td id=\"T_58ac7_row4_col0\" class=\"data row4 col0\" >Corporate</td>\n",
              "      <td id=\"T_58ac7_row4_col1\" class=\"data row4 col1\" >Bacchan</td>\n",
              "      <td id=\"T_58ac7_row4_col2\" class=\"data row4 col2\" >50000</td>\n",
              "      <td id=\"T_58ac7_row4_col3\" class=\"data row4 col3\" >2</td>\n",
              "    </tr>\n",
              "    <tr>\n",
              "      <td id=\"T_58ac7_row5_col0\" class=\"data row5 col0\" >Corporate</td>\n",
              "      <td id=\"T_58ac7_row5_col1\" class=\"data row5 col1\" >Karthikeyan</td>\n",
              "      <td id=\"T_58ac7_row5_col2\" class=\"data row5 col2\" >40000</td>\n",
              "      <td id=\"T_58ac7_row5_col3\" class=\"data row5 col3\" >3</td>\n",
              "    </tr>\n",
              "    <tr>\n",
              "      <td id=\"T_58ac7_row6_col0\" class=\"data row6 col0\" >Production</td>\n",
              "      <td id=\"T_58ac7_row6_col1\" class=\"data row6 col1\" >Mukherjee</td>\n",
              "      <td id=\"T_58ac7_row6_col2\" class=\"data row6 col2\" >25000</td>\n",
              "      <td id=\"T_58ac7_row6_col3\" class=\"data row6 col3\" >1</td>\n",
              "    </tr>\n",
              "    <tr>\n",
              "      <td id=\"T_58ac7_row7_col0\" class=\"data row7 col0\" >Production</td>\n",
              "      <td id=\"T_58ac7_row7_col1\" class=\"data row7 col1\" >Ganguly</td>\n",
              "      <td id=\"T_58ac7_row7_col2\" class=\"data row7 col2\" >20000</td>\n",
              "      <td id=\"T_58ac7_row7_col3\" class=\"data row7 col3\" >2</td>\n",
              "    </tr>\n",
              "    <tr>\n",
              "      <td id=\"T_58ac7_row8_col0\" class=\"data row8 col0\" >Production</td>\n",
              "      <td id=\"T_58ac7_row8_col1\" class=\"data row8 col1\" >Dhoni</td>\n",
              "      <td id=\"T_58ac7_row8_col2\" class=\"data row8 col2\" >9000</td>\n",
              "      <td id=\"T_58ac7_row8_col3\" class=\"data row8 col3\" >3</td>\n",
              "    </tr>\n",
              "    <tr>\n",
              "      <td id=\"T_58ac7_row9_col0\" class=\"data row9 col0\" >Sales</td>\n",
              "      <td id=\"T_58ac7_row9_col1\" class=\"data row9 col1\" >Khan</td>\n",
              "      <td id=\"T_58ac7_row9_col2\" class=\"data row9 col2\" >30000</td>\n",
              "      <td id=\"T_58ac7_row9_col3\" class=\"data row9 col3\" >1</td>\n",
              "    </tr>\n",
              "    <tr>\n",
              "      <td id=\"T_58ac7_row10_col0\" class=\"data row10 col0\" >Sales</td>\n",
              "      <td id=\"T_58ac7_row10_col1\" class=\"data row10 col1\" >Sehwag</td>\n",
              "      <td id=\"T_58ac7_row10_col2\" class=\"data row10 col2\" >15000</td>\n",
              "      <td id=\"T_58ac7_row10_col3\" class=\"data row10 col3\" >2</td>\n",
              "    </tr>\n",
              "    <tr>\n",
              "      <td id=\"T_58ac7_row11_col0\" class=\"data row11 col0\" >Sales</td>\n",
              "      <td id=\"T_58ac7_row11_col1\" class=\"data row11 col1\" >Dikshit</td>\n",
              "      <td id=\"T_58ac7_row11_col2\" class=\"data row11 col2\" >10000</td>\n",
              "      <td id=\"T_58ac7_row11_col3\" class=\"data row11 col3\" >3</td>\n",
              "    </tr>\n",
              "  </tbody>\n",
              "</table>\n"
            ]
          },
          "metadata": {},
          "execution_count": 70
        }
      ]
    },
    {
      "cell_type": "code",
      "source": [
        "sql = \"select deptname, lastname, salary, \\\n",
        "first_value(salary) over (partition by deptname order by salary) as deptlow, \\\n",
        "last_value(salary) over (partition by deptname order by salary RANGE BETWEEN UNBOUNDED PRECEDING AND UNBOUNDED FOLLOWING) as depthigh \\\n",
        "from empl  inner join dept using(deptid)\"\n",
        "runSelect(sql)"
      ],
      "metadata": {
        "colab": {
          "base_uri": "https://localhost:8080/",
          "height": 426
        },
        "id": "RO428SVT5T3d",
        "outputId": "fe6ba87a-7bc2-4609-945b-10e43d3c9a73"
      },
      "execution_count": 71,
      "outputs": [
        {
          "output_type": "execute_result",
          "data": {
            "text/plain": [
              "<pandas.io.formats.style.Styler at 0x7c7ee7dde5f0>"
            ],
            "text/html": [
              "<style type=\"text/css\">\n",
              "</style>\n",
              "<table id=\"T_6dccd\" class=\"dataframe\">\n",
              "  <thead>\n",
              "    <tr>\n",
              "      <th id=\"T_6dccd_level0_col0\" class=\"col_heading level0 col0\" >deptname</th>\n",
              "      <th id=\"T_6dccd_level0_col1\" class=\"col_heading level0 col1\" >lastname</th>\n",
              "      <th id=\"T_6dccd_level0_col2\" class=\"col_heading level0 col2\" >salary</th>\n",
              "      <th id=\"T_6dccd_level0_col3\" class=\"col_heading level0 col3\" >deptlow</th>\n",
              "      <th id=\"T_6dccd_level0_col4\" class=\"col_heading level0 col4\" >depthigh</th>\n",
              "    </tr>\n",
              "  </thead>\n",
              "  <tbody>\n",
              "    <tr>\n",
              "      <td id=\"T_6dccd_row0_col0\" class=\"data row0 col0\" >Accounts</td>\n",
              "      <td id=\"T_6dccd_row0_col1\" class=\"data row0 col1\" >Dalmia</td>\n",
              "      <td id=\"T_6dccd_row0_col2\" class=\"data row0 col2\" >12000</td>\n",
              "      <td id=\"T_6dccd_row0_col3\" class=\"data row0 col3\" >12000</td>\n",
              "      <td id=\"T_6dccd_row0_col4\" class=\"data row0 col4\" >40000</td>\n",
              "    </tr>\n",
              "    <tr>\n",
              "      <td id=\"T_6dccd_row1_col0\" class=\"data row1 col0\" >Accounts</td>\n",
              "      <td id=\"T_6dccd_row1_col1\" class=\"data row1 col1\" >Mirza</td>\n",
              "      <td id=\"T_6dccd_row1_col2\" class=\"data row1 col2\" >25000</td>\n",
              "      <td id=\"T_6dccd_row1_col3\" class=\"data row1 col3\" >12000</td>\n",
              "      <td id=\"T_6dccd_row1_col4\" class=\"data row1 col4\" >40000</td>\n",
              "    </tr>\n",
              "    <tr>\n",
              "      <td id=\"T_6dccd_row2_col0\" class=\"data row2 col0\" >Accounts</td>\n",
              "      <td id=\"T_6dccd_row2_col1\" class=\"data row2 col1\" >Dravid</td>\n",
              "      <td id=\"T_6dccd_row2_col2\" class=\"data row2 col2\" >40000</td>\n",
              "      <td id=\"T_6dccd_row2_col3\" class=\"data row2 col3\" >12000</td>\n",
              "      <td id=\"T_6dccd_row2_col4\" class=\"data row2 col4\" >40000</td>\n",
              "    </tr>\n",
              "    <tr>\n",
              "      <td id=\"T_6dccd_row3_col0\" class=\"data row3 col0\" >Corporate</td>\n",
              "      <td id=\"T_6dccd_row3_col1\" class=\"data row3 col1\" >Karthikeyan</td>\n",
              "      <td id=\"T_6dccd_row3_col2\" class=\"data row3 col2\" >40000</td>\n",
              "      <td id=\"T_6dccd_row3_col3\" class=\"data row3 col3\" >40000</td>\n",
              "      <td id=\"T_6dccd_row3_col4\" class=\"data row3 col4\" >60000</td>\n",
              "    </tr>\n",
              "    <tr>\n",
              "      <td id=\"T_6dccd_row4_col0\" class=\"data row4 col0\" >Corporate</td>\n",
              "      <td id=\"T_6dccd_row4_col1\" class=\"data row4 col1\" >Bacchan</td>\n",
              "      <td id=\"T_6dccd_row4_col2\" class=\"data row4 col2\" >50000</td>\n",
              "      <td id=\"T_6dccd_row4_col3\" class=\"data row4 col3\" >40000</td>\n",
              "      <td id=\"T_6dccd_row4_col4\" class=\"data row4 col4\" >60000</td>\n",
              "    </tr>\n",
              "    <tr>\n",
              "      <td id=\"T_6dccd_row5_col0\" class=\"data row5 col0\" >Corporate</td>\n",
              "      <td id=\"T_6dccd_row5_col1\" class=\"data row5 col1\" >Ganesan</td>\n",
              "      <td id=\"T_6dccd_row5_col2\" class=\"data row5 col2\" >60000</td>\n",
              "      <td id=\"T_6dccd_row5_col3\" class=\"data row5 col3\" >40000</td>\n",
              "      <td id=\"T_6dccd_row5_col4\" class=\"data row5 col4\" >60000</td>\n",
              "    </tr>\n",
              "    <tr>\n",
              "      <td id=\"T_6dccd_row6_col0\" class=\"data row6 col0\" >Production</td>\n",
              "      <td id=\"T_6dccd_row6_col1\" class=\"data row6 col1\" >Dhoni</td>\n",
              "      <td id=\"T_6dccd_row6_col2\" class=\"data row6 col2\" >9000</td>\n",
              "      <td id=\"T_6dccd_row6_col3\" class=\"data row6 col3\" >9000</td>\n",
              "      <td id=\"T_6dccd_row6_col4\" class=\"data row6 col4\" >25000</td>\n",
              "    </tr>\n",
              "    <tr>\n",
              "      <td id=\"T_6dccd_row7_col0\" class=\"data row7 col0\" >Production</td>\n",
              "      <td id=\"T_6dccd_row7_col1\" class=\"data row7 col1\" >Ganguly</td>\n",
              "      <td id=\"T_6dccd_row7_col2\" class=\"data row7 col2\" >20000</td>\n",
              "      <td id=\"T_6dccd_row7_col3\" class=\"data row7 col3\" >9000</td>\n",
              "      <td id=\"T_6dccd_row7_col4\" class=\"data row7 col4\" >25000</td>\n",
              "    </tr>\n",
              "    <tr>\n",
              "      <td id=\"T_6dccd_row8_col0\" class=\"data row8 col0\" >Production</td>\n",
              "      <td id=\"T_6dccd_row8_col1\" class=\"data row8 col1\" >Mukherjee</td>\n",
              "      <td id=\"T_6dccd_row8_col2\" class=\"data row8 col2\" >25000</td>\n",
              "      <td id=\"T_6dccd_row8_col3\" class=\"data row8 col3\" >9000</td>\n",
              "      <td id=\"T_6dccd_row8_col4\" class=\"data row8 col4\" >25000</td>\n",
              "    </tr>\n",
              "    <tr>\n",
              "      <td id=\"T_6dccd_row9_col0\" class=\"data row9 col0\" >Sales</td>\n",
              "      <td id=\"T_6dccd_row9_col1\" class=\"data row9 col1\" >Dikshit</td>\n",
              "      <td id=\"T_6dccd_row9_col2\" class=\"data row9 col2\" >10000</td>\n",
              "      <td id=\"T_6dccd_row9_col3\" class=\"data row9 col3\" >10000</td>\n",
              "      <td id=\"T_6dccd_row9_col4\" class=\"data row9 col4\" >30000</td>\n",
              "    </tr>\n",
              "    <tr>\n",
              "      <td id=\"T_6dccd_row10_col0\" class=\"data row10 col0\" >Sales</td>\n",
              "      <td id=\"T_6dccd_row10_col1\" class=\"data row10 col1\" >Sehwag</td>\n",
              "      <td id=\"T_6dccd_row10_col2\" class=\"data row10 col2\" >15000</td>\n",
              "      <td id=\"T_6dccd_row10_col3\" class=\"data row10 col3\" >10000</td>\n",
              "      <td id=\"T_6dccd_row10_col4\" class=\"data row10 col4\" >30000</td>\n",
              "    </tr>\n",
              "    <tr>\n",
              "      <td id=\"T_6dccd_row11_col0\" class=\"data row11 col0\" >Sales</td>\n",
              "      <td id=\"T_6dccd_row11_col1\" class=\"data row11 col1\" >Khan</td>\n",
              "      <td id=\"T_6dccd_row11_col2\" class=\"data row11 col2\" >30000</td>\n",
              "      <td id=\"T_6dccd_row11_col3\" class=\"data row11 col3\" >10000</td>\n",
              "      <td id=\"T_6dccd_row11_col4\" class=\"data row11 col4\" >30000</td>\n",
              "    </tr>\n",
              "  </tbody>\n",
              "</table>\n"
            ]
          },
          "metadata": {},
          "execution_count": 71
        }
      ]
    },
    {
      "cell_type": "code",
      "source": [
        "sql = \"select deptname, lastname, salary, \\\n",
        "lag(salary,1) over (partition by deptname order by salary) as prev_emp, \\\n",
        "salary - lag(salary,1) over (partition by deptname order by salary) as gap_up \\\n",
        "from empl  inner join dept using(deptid)\"\n",
        "runSelect(sql)"
      ],
      "metadata": {
        "colab": {
          "base_uri": "https://localhost:8080/",
          "height": 426
        },
        "id": "fnG4S0lF8h77",
        "outputId": "4577a08b-37dc-4dcc-b5d9-aad331769ff6"
      },
      "execution_count": 72,
      "outputs": [
        {
          "output_type": "execute_result",
          "data": {
            "text/plain": [
              "<pandas.io.formats.style.Styler at 0x7c7ee7ddc430>"
            ],
            "text/html": [
              "<style type=\"text/css\">\n",
              "</style>\n",
              "<table id=\"T_88f66\" class=\"dataframe\">\n",
              "  <thead>\n",
              "    <tr>\n",
              "      <th id=\"T_88f66_level0_col0\" class=\"col_heading level0 col0\" >deptname</th>\n",
              "      <th id=\"T_88f66_level0_col1\" class=\"col_heading level0 col1\" >lastname</th>\n",
              "      <th id=\"T_88f66_level0_col2\" class=\"col_heading level0 col2\" >salary</th>\n",
              "      <th id=\"T_88f66_level0_col3\" class=\"col_heading level0 col3\" >prev_emp</th>\n",
              "      <th id=\"T_88f66_level0_col4\" class=\"col_heading level0 col4\" >gap_up</th>\n",
              "    </tr>\n",
              "  </thead>\n",
              "  <tbody>\n",
              "    <tr>\n",
              "      <td id=\"T_88f66_row0_col0\" class=\"data row0 col0\" >Accounts</td>\n",
              "      <td id=\"T_88f66_row0_col1\" class=\"data row0 col1\" >Dalmia</td>\n",
              "      <td id=\"T_88f66_row0_col2\" class=\"data row0 col2\" >12000</td>\n",
              "      <td id=\"T_88f66_row0_col3\" class=\"data row0 col3\" >nan</td>\n",
              "      <td id=\"T_88f66_row0_col4\" class=\"data row0 col4\" >nan</td>\n",
              "    </tr>\n",
              "    <tr>\n",
              "      <td id=\"T_88f66_row1_col0\" class=\"data row1 col0\" >Accounts</td>\n",
              "      <td id=\"T_88f66_row1_col1\" class=\"data row1 col1\" >Mirza</td>\n",
              "      <td id=\"T_88f66_row1_col2\" class=\"data row1 col2\" >25000</td>\n",
              "      <td id=\"T_88f66_row1_col3\" class=\"data row1 col3\" >12000.000000</td>\n",
              "      <td id=\"T_88f66_row1_col4\" class=\"data row1 col4\" >13000.000000</td>\n",
              "    </tr>\n",
              "    <tr>\n",
              "      <td id=\"T_88f66_row2_col0\" class=\"data row2 col0\" >Accounts</td>\n",
              "      <td id=\"T_88f66_row2_col1\" class=\"data row2 col1\" >Dravid</td>\n",
              "      <td id=\"T_88f66_row2_col2\" class=\"data row2 col2\" >40000</td>\n",
              "      <td id=\"T_88f66_row2_col3\" class=\"data row2 col3\" >25000.000000</td>\n",
              "      <td id=\"T_88f66_row2_col4\" class=\"data row2 col4\" >15000.000000</td>\n",
              "    </tr>\n",
              "    <tr>\n",
              "      <td id=\"T_88f66_row3_col0\" class=\"data row3 col0\" >Corporate</td>\n",
              "      <td id=\"T_88f66_row3_col1\" class=\"data row3 col1\" >Karthikeyan</td>\n",
              "      <td id=\"T_88f66_row3_col2\" class=\"data row3 col2\" >40000</td>\n",
              "      <td id=\"T_88f66_row3_col3\" class=\"data row3 col3\" >nan</td>\n",
              "      <td id=\"T_88f66_row3_col4\" class=\"data row3 col4\" >nan</td>\n",
              "    </tr>\n",
              "    <tr>\n",
              "      <td id=\"T_88f66_row4_col0\" class=\"data row4 col0\" >Corporate</td>\n",
              "      <td id=\"T_88f66_row4_col1\" class=\"data row4 col1\" >Bacchan</td>\n",
              "      <td id=\"T_88f66_row4_col2\" class=\"data row4 col2\" >50000</td>\n",
              "      <td id=\"T_88f66_row4_col3\" class=\"data row4 col3\" >40000.000000</td>\n",
              "      <td id=\"T_88f66_row4_col4\" class=\"data row4 col4\" >10000.000000</td>\n",
              "    </tr>\n",
              "    <tr>\n",
              "      <td id=\"T_88f66_row5_col0\" class=\"data row5 col0\" >Corporate</td>\n",
              "      <td id=\"T_88f66_row5_col1\" class=\"data row5 col1\" >Ganesan</td>\n",
              "      <td id=\"T_88f66_row5_col2\" class=\"data row5 col2\" >60000</td>\n",
              "      <td id=\"T_88f66_row5_col3\" class=\"data row5 col3\" >50000.000000</td>\n",
              "      <td id=\"T_88f66_row5_col4\" class=\"data row5 col4\" >10000.000000</td>\n",
              "    </tr>\n",
              "    <tr>\n",
              "      <td id=\"T_88f66_row6_col0\" class=\"data row6 col0\" >Production</td>\n",
              "      <td id=\"T_88f66_row6_col1\" class=\"data row6 col1\" >Dhoni</td>\n",
              "      <td id=\"T_88f66_row6_col2\" class=\"data row6 col2\" >9000</td>\n",
              "      <td id=\"T_88f66_row6_col3\" class=\"data row6 col3\" >nan</td>\n",
              "      <td id=\"T_88f66_row6_col4\" class=\"data row6 col4\" >nan</td>\n",
              "    </tr>\n",
              "    <tr>\n",
              "      <td id=\"T_88f66_row7_col0\" class=\"data row7 col0\" >Production</td>\n",
              "      <td id=\"T_88f66_row7_col1\" class=\"data row7 col1\" >Ganguly</td>\n",
              "      <td id=\"T_88f66_row7_col2\" class=\"data row7 col2\" >20000</td>\n",
              "      <td id=\"T_88f66_row7_col3\" class=\"data row7 col3\" >9000.000000</td>\n",
              "      <td id=\"T_88f66_row7_col4\" class=\"data row7 col4\" >11000.000000</td>\n",
              "    </tr>\n",
              "    <tr>\n",
              "      <td id=\"T_88f66_row8_col0\" class=\"data row8 col0\" >Production</td>\n",
              "      <td id=\"T_88f66_row8_col1\" class=\"data row8 col1\" >Mukherjee</td>\n",
              "      <td id=\"T_88f66_row8_col2\" class=\"data row8 col2\" >25000</td>\n",
              "      <td id=\"T_88f66_row8_col3\" class=\"data row8 col3\" >20000.000000</td>\n",
              "      <td id=\"T_88f66_row8_col4\" class=\"data row8 col4\" >5000.000000</td>\n",
              "    </tr>\n",
              "    <tr>\n",
              "      <td id=\"T_88f66_row9_col0\" class=\"data row9 col0\" >Sales</td>\n",
              "      <td id=\"T_88f66_row9_col1\" class=\"data row9 col1\" >Dikshit</td>\n",
              "      <td id=\"T_88f66_row9_col2\" class=\"data row9 col2\" >10000</td>\n",
              "      <td id=\"T_88f66_row9_col3\" class=\"data row9 col3\" >nan</td>\n",
              "      <td id=\"T_88f66_row9_col4\" class=\"data row9 col4\" >nan</td>\n",
              "    </tr>\n",
              "    <tr>\n",
              "      <td id=\"T_88f66_row10_col0\" class=\"data row10 col0\" >Sales</td>\n",
              "      <td id=\"T_88f66_row10_col1\" class=\"data row10 col1\" >Sehwag</td>\n",
              "      <td id=\"T_88f66_row10_col2\" class=\"data row10 col2\" >15000</td>\n",
              "      <td id=\"T_88f66_row10_col3\" class=\"data row10 col3\" >10000.000000</td>\n",
              "      <td id=\"T_88f66_row10_col4\" class=\"data row10 col4\" >5000.000000</td>\n",
              "    </tr>\n",
              "    <tr>\n",
              "      <td id=\"T_88f66_row11_col0\" class=\"data row11 col0\" >Sales</td>\n",
              "      <td id=\"T_88f66_row11_col1\" class=\"data row11 col1\" >Khan</td>\n",
              "      <td id=\"T_88f66_row11_col2\" class=\"data row11 col2\" >30000</td>\n",
              "      <td id=\"T_88f66_row11_col3\" class=\"data row11 col3\" >15000.000000</td>\n",
              "      <td id=\"T_88f66_row11_col4\" class=\"data row11 col4\" >15000.000000</td>\n",
              "    </tr>\n",
              "  </tbody>\n",
              "</table>\n"
            ]
          },
          "metadata": {},
          "execution_count": 72
        }
      ]
    },
    {
      "cell_type": "markdown",
      "source": [
        "#Transpose / Pivot\n",
        "https://www.sqlshack.com/how-to-use-the-crosstab-function-in-postgresql/"
      ],
      "metadata": {
        "id": "V6Bt-yTXSITF"
      }
    },
    {
      "cell_type": "code",
      "source": [
        "!psql -h localhost -p 5432 -Uupraxis -ddbpraxis -c \"create extension tablefunc;\""
      ],
      "metadata": {
        "colab": {
          "base_uri": "https://localhost:8080/"
        },
        "id": "ZgVgr1DfYs_R",
        "outputId": "56e36fb4-8d02-44e7-b720-7a29a0fda3c7"
      },
      "execution_count": 73,
      "outputs": [
        {
          "output_type": "stream",
          "name": "stdout",
          "text": [
            "CREATE EXTENSION\n"
          ]
        }
      ]
    },
    {
      "cell_type": "code",
      "source": [
        "runSelect('select * from dept')"
      ],
      "metadata": {
        "colab": {
          "base_uri": "https://localhost:8080/",
          "height": 206
        },
        "id": "Sa9IpGXwSKWe",
        "outputId": "4c3cb410-98d8-43ff-95eb-0a54bfb2d607"
      },
      "execution_count": 74,
      "outputs": [
        {
          "output_type": "execute_result",
          "data": {
            "text/plain": [
              "<pandas.io.formats.style.Styler at 0x7c7ee7f191b0>"
            ],
            "text/html": [
              "<style type=\"text/css\">\n",
              "</style>\n",
              "<table id=\"T_efbf1\" class=\"dataframe\">\n",
              "  <thead>\n",
              "    <tr>\n",
              "      <th id=\"T_efbf1_level0_col0\" class=\"col_heading level0 col0\" >deptid</th>\n",
              "      <th id=\"T_efbf1_level0_col1\" class=\"col_heading level0 col1\" >deptname</th>\n",
              "      <th id=\"T_efbf1_level0_col2\" class=\"col_heading level0 col2\" >managerid</th>\n",
              "      <th id=\"T_efbf1_level0_col3\" class=\"col_heading level0 col3\" >location</th>\n",
              "      <th id=\"T_efbf1_level0_col4\" class=\"col_heading level0 col4\" >locationid</th>\n",
              "    </tr>\n",
              "  </thead>\n",
              "  <tbody>\n",
              "    <tr>\n",
              "      <td id=\"T_efbf1_row0_col0\" class=\"data row0 col0\" >10</td>\n",
              "      <td id=\"T_efbf1_row0_col1\" class=\"data row0 col1\" >Corporate</td>\n",
              "      <td id=\"T_efbf1_row0_col2\" class=\"data row0 col2\" >299034</td>\n",
              "      <td id=\"T_efbf1_row0_col3\" class=\"data row0 col3\" >Calcutta</td>\n",
              "      <td id=\"T_efbf1_row0_col4\" class=\"data row0 col4\" >1</td>\n",
              "    </tr>\n",
              "    <tr>\n",
              "      <td id=\"T_efbf1_row1_col0\" class=\"data row1 col0\" >20</td>\n",
              "      <td id=\"T_efbf1_row1_col1\" class=\"data row1 col1\" >Sales</td>\n",
              "      <td id=\"T_efbf1_row1_col2\" class=\"data row1 col2\" >239456</td>\n",
              "      <td id=\"T_efbf1_row1_col3\" class=\"data row1 col3\" >Calcutta</td>\n",
              "      <td id=\"T_efbf1_row1_col4\" class=\"data row1 col4\" >1</td>\n",
              "    </tr>\n",
              "    <tr>\n",
              "      <td id=\"T_efbf1_row2_col0\" class=\"data row2 col0\" >30</td>\n",
              "      <td id=\"T_efbf1_row2_col1\" class=\"data row2 col1\" >Accounts</td>\n",
              "      <td id=\"T_efbf1_row2_col2\" class=\"data row2 col2\" >822134</td>\n",
              "      <td id=\"T_efbf1_row2_col3\" class=\"data row2 col3\" >Calcutta</td>\n",
              "      <td id=\"T_efbf1_row2_col4\" class=\"data row2 col4\" >1</td>\n",
              "    </tr>\n",
              "    <tr>\n",
              "      <td id=\"T_efbf1_row3_col0\" class=\"data row3 col0\" >40</td>\n",
              "      <td id=\"T_efbf1_row3_col1\" class=\"data row3 col1\" >Production</td>\n",
              "      <td id=\"T_efbf1_row3_col2\" class=\"data row3 col2\" >349870</td>\n",
              "      <td id=\"T_efbf1_row3_col3\" class=\"data row3 col3\" >Bombay</td>\n",
              "      <td id=\"T_efbf1_row3_col4\" class=\"data row3 col4\" >2</td>\n",
              "    </tr>\n",
              "    <tr>\n",
              "      <td id=\"T_efbf1_row4_col0\" class=\"data row4 col0\" >60</td>\n",
              "      <td id=\"T_efbf1_row4_col1\" class=\"data row4 col1\" >Research</td>\n",
              "      <td id=\"T_efbf1_row4_col2\" class=\"data row4 col2\" >546224</td>\n",
              "      <td id=\"T_efbf1_row4_col3\" class=\"data row4 col3\" >Delhi</td>\n",
              "      <td id=\"T_efbf1_row4_col4\" class=\"data row4 col4\" >3</td>\n",
              "    </tr>\n",
              "  </tbody>\n",
              "</table>\n"
            ]
          },
          "metadata": {},
          "execution_count": 74
        }
      ]
    },
    {
      "cell_type": "code",
      "source": [
        "sql = \"\\\n",
        "select * from \\\n",
        "crosstab('select location::text,locationid::text,deptname::text from dept order by 1,2') as locations \\\n",
        "(location text, dep1 text, dep2 text, dep3 text, dep4 text)\\\n",
        "\"\n",
        "runSelect(sql)"
      ],
      "metadata": {
        "colab": {
          "base_uri": "https://localhost:8080/",
          "height": 143
        },
        "id": "Iukqh6TRVo-9",
        "outputId": "fa99acdc-8036-4290-c4c3-ec7670189c95"
      },
      "execution_count": 75,
      "outputs": [
        {
          "output_type": "execute_result",
          "data": {
            "text/plain": [
              "<pandas.io.formats.style.Styler at 0x7c7ee7ed1990>"
            ],
            "text/html": [
              "<style type=\"text/css\">\n",
              "</style>\n",
              "<table id=\"T_05a5e\" class=\"dataframe\">\n",
              "  <thead>\n",
              "    <tr>\n",
              "      <th id=\"T_05a5e_level0_col0\" class=\"col_heading level0 col0\" >location</th>\n",
              "      <th id=\"T_05a5e_level0_col1\" class=\"col_heading level0 col1\" >dep1</th>\n",
              "      <th id=\"T_05a5e_level0_col2\" class=\"col_heading level0 col2\" >dep2</th>\n",
              "      <th id=\"T_05a5e_level0_col3\" class=\"col_heading level0 col3\" >dep3</th>\n",
              "      <th id=\"T_05a5e_level0_col4\" class=\"col_heading level0 col4\" >dep4</th>\n",
              "    </tr>\n",
              "  </thead>\n",
              "  <tbody>\n",
              "    <tr>\n",
              "      <td id=\"T_05a5e_row0_col0\" class=\"data row0 col0\" >Bombay</td>\n",
              "      <td id=\"T_05a5e_row0_col1\" class=\"data row0 col1\" >Production</td>\n",
              "      <td id=\"T_05a5e_row0_col2\" class=\"data row0 col2\" >None</td>\n",
              "      <td id=\"T_05a5e_row0_col3\" class=\"data row0 col3\" >None</td>\n",
              "      <td id=\"T_05a5e_row0_col4\" class=\"data row0 col4\" >None</td>\n",
              "    </tr>\n",
              "    <tr>\n",
              "      <td id=\"T_05a5e_row1_col0\" class=\"data row1 col0\" >Calcutta</td>\n",
              "      <td id=\"T_05a5e_row1_col1\" class=\"data row1 col1\" >Corporate</td>\n",
              "      <td id=\"T_05a5e_row1_col2\" class=\"data row1 col2\" >Sales</td>\n",
              "      <td id=\"T_05a5e_row1_col3\" class=\"data row1 col3\" >Accounts</td>\n",
              "      <td id=\"T_05a5e_row1_col4\" class=\"data row1 col4\" >None</td>\n",
              "    </tr>\n",
              "    <tr>\n",
              "      <td id=\"T_05a5e_row2_col0\" class=\"data row2 col0\" >Delhi</td>\n",
              "      <td id=\"T_05a5e_row2_col1\" class=\"data row2 col1\" >Research</td>\n",
              "      <td id=\"T_05a5e_row2_col2\" class=\"data row2 col2\" >None</td>\n",
              "      <td id=\"T_05a5e_row2_col3\" class=\"data row2 col3\" >None</td>\n",
              "      <td id=\"T_05a5e_row2_col4\" class=\"data row2 col4\" >None</td>\n",
              "    </tr>\n",
              "  </tbody>\n",
              "</table>\n"
            ]
          },
          "metadata": {},
          "execution_count": 75
        }
      ]
    },
    {
      "cell_type": "markdown",
      "source": [
        "# Insert | Delete | Update"
      ],
      "metadata": {
        "id": "REcqZ7K0DYqi"
      }
    },
    {
      "cell_type": "code",
      "source": [
        "runSelect(\"select * from dept\")"
      ],
      "metadata": {
        "id": "xGgCH9vGDlsI",
        "outputId": "031d2e13-a684-474f-8f48-659098c05075",
        "colab": {
          "base_uri": "https://localhost:8080/",
          "height": 206
        }
      },
      "execution_count": 76,
      "outputs": [
        {
          "output_type": "execute_result",
          "data": {
            "text/plain": [
              "<pandas.io.formats.style.Styler at 0x7c7ee7ed2b60>"
            ],
            "text/html": [
              "<style type=\"text/css\">\n",
              "</style>\n",
              "<table id=\"T_a1ce7\" class=\"dataframe\">\n",
              "  <thead>\n",
              "    <tr>\n",
              "      <th id=\"T_a1ce7_level0_col0\" class=\"col_heading level0 col0\" >deptid</th>\n",
              "      <th id=\"T_a1ce7_level0_col1\" class=\"col_heading level0 col1\" >deptname</th>\n",
              "      <th id=\"T_a1ce7_level0_col2\" class=\"col_heading level0 col2\" >managerid</th>\n",
              "      <th id=\"T_a1ce7_level0_col3\" class=\"col_heading level0 col3\" >location</th>\n",
              "      <th id=\"T_a1ce7_level0_col4\" class=\"col_heading level0 col4\" >locationid</th>\n",
              "    </tr>\n",
              "  </thead>\n",
              "  <tbody>\n",
              "    <tr>\n",
              "      <td id=\"T_a1ce7_row0_col0\" class=\"data row0 col0\" >10</td>\n",
              "      <td id=\"T_a1ce7_row0_col1\" class=\"data row0 col1\" >Corporate</td>\n",
              "      <td id=\"T_a1ce7_row0_col2\" class=\"data row0 col2\" >299034</td>\n",
              "      <td id=\"T_a1ce7_row0_col3\" class=\"data row0 col3\" >Calcutta</td>\n",
              "      <td id=\"T_a1ce7_row0_col4\" class=\"data row0 col4\" >1</td>\n",
              "    </tr>\n",
              "    <tr>\n",
              "      <td id=\"T_a1ce7_row1_col0\" class=\"data row1 col0\" >20</td>\n",
              "      <td id=\"T_a1ce7_row1_col1\" class=\"data row1 col1\" >Sales</td>\n",
              "      <td id=\"T_a1ce7_row1_col2\" class=\"data row1 col2\" >239456</td>\n",
              "      <td id=\"T_a1ce7_row1_col3\" class=\"data row1 col3\" >Calcutta</td>\n",
              "      <td id=\"T_a1ce7_row1_col4\" class=\"data row1 col4\" >1</td>\n",
              "    </tr>\n",
              "    <tr>\n",
              "      <td id=\"T_a1ce7_row2_col0\" class=\"data row2 col0\" >30</td>\n",
              "      <td id=\"T_a1ce7_row2_col1\" class=\"data row2 col1\" >Accounts</td>\n",
              "      <td id=\"T_a1ce7_row2_col2\" class=\"data row2 col2\" >822134</td>\n",
              "      <td id=\"T_a1ce7_row2_col3\" class=\"data row2 col3\" >Calcutta</td>\n",
              "      <td id=\"T_a1ce7_row2_col4\" class=\"data row2 col4\" >1</td>\n",
              "    </tr>\n",
              "    <tr>\n",
              "      <td id=\"T_a1ce7_row3_col0\" class=\"data row3 col0\" >40</td>\n",
              "      <td id=\"T_a1ce7_row3_col1\" class=\"data row3 col1\" >Production</td>\n",
              "      <td id=\"T_a1ce7_row3_col2\" class=\"data row3 col2\" >349870</td>\n",
              "      <td id=\"T_a1ce7_row3_col3\" class=\"data row3 col3\" >Bombay</td>\n",
              "      <td id=\"T_a1ce7_row3_col4\" class=\"data row3 col4\" >2</td>\n",
              "    </tr>\n",
              "    <tr>\n",
              "      <td id=\"T_a1ce7_row4_col0\" class=\"data row4 col0\" >60</td>\n",
              "      <td id=\"T_a1ce7_row4_col1\" class=\"data row4 col1\" >Research</td>\n",
              "      <td id=\"T_a1ce7_row4_col2\" class=\"data row4 col2\" >546224</td>\n",
              "      <td id=\"T_a1ce7_row4_col3\" class=\"data row4 col3\" >Delhi</td>\n",
              "      <td id=\"T_a1ce7_row4_col4\" class=\"data row4 col4\" >3</td>\n",
              "    </tr>\n",
              "  </tbody>\n",
              "</table>\n"
            ]
          },
          "metadata": {},
          "execution_count": 76
        }
      ]
    },
    {
      "cell_type": "code",
      "source": [
        "runCmd(\"insert into Dept (DeptID, DeptName, ManagerID, Location,LocationID) VALUES \\\n",
        "\t('11', 'Corporate2', '299035', 'Calcutta','1')\")\n",
        "runSelect(\"select * from dept\")"
      ],
      "metadata": {
        "id": "iyW0EobdDuMY",
        "outputId": "afee3145-0e97-4642-8649-19b414ec0758",
        "colab": {
          "base_uri": "https://localhost:8080/",
          "height": 255
        }
      },
      "execution_count": 77,
      "outputs": [
        {
          "output_type": "stream",
          "name": "stdout",
          "text": [
            "Command executed\n"
          ]
        },
        {
          "output_type": "execute_result",
          "data": {
            "text/plain": [
              "<pandas.io.formats.style.Styler at 0x7c7f17ff2c20>"
            ],
            "text/html": [
              "<style type=\"text/css\">\n",
              "</style>\n",
              "<table id=\"T_61539\" class=\"dataframe\">\n",
              "  <thead>\n",
              "    <tr>\n",
              "      <th id=\"T_61539_level0_col0\" class=\"col_heading level0 col0\" >deptid</th>\n",
              "      <th id=\"T_61539_level0_col1\" class=\"col_heading level0 col1\" >deptname</th>\n",
              "      <th id=\"T_61539_level0_col2\" class=\"col_heading level0 col2\" >managerid</th>\n",
              "      <th id=\"T_61539_level0_col3\" class=\"col_heading level0 col3\" >location</th>\n",
              "      <th id=\"T_61539_level0_col4\" class=\"col_heading level0 col4\" >locationid</th>\n",
              "    </tr>\n",
              "  </thead>\n",
              "  <tbody>\n",
              "    <tr>\n",
              "      <td id=\"T_61539_row0_col0\" class=\"data row0 col0\" >10</td>\n",
              "      <td id=\"T_61539_row0_col1\" class=\"data row0 col1\" >Corporate</td>\n",
              "      <td id=\"T_61539_row0_col2\" class=\"data row0 col2\" >299034</td>\n",
              "      <td id=\"T_61539_row0_col3\" class=\"data row0 col3\" >Calcutta</td>\n",
              "      <td id=\"T_61539_row0_col4\" class=\"data row0 col4\" >1</td>\n",
              "    </tr>\n",
              "    <tr>\n",
              "      <td id=\"T_61539_row1_col0\" class=\"data row1 col0\" >20</td>\n",
              "      <td id=\"T_61539_row1_col1\" class=\"data row1 col1\" >Sales</td>\n",
              "      <td id=\"T_61539_row1_col2\" class=\"data row1 col2\" >239456</td>\n",
              "      <td id=\"T_61539_row1_col3\" class=\"data row1 col3\" >Calcutta</td>\n",
              "      <td id=\"T_61539_row1_col4\" class=\"data row1 col4\" >1</td>\n",
              "    </tr>\n",
              "    <tr>\n",
              "      <td id=\"T_61539_row2_col0\" class=\"data row2 col0\" >30</td>\n",
              "      <td id=\"T_61539_row2_col1\" class=\"data row2 col1\" >Accounts</td>\n",
              "      <td id=\"T_61539_row2_col2\" class=\"data row2 col2\" >822134</td>\n",
              "      <td id=\"T_61539_row2_col3\" class=\"data row2 col3\" >Calcutta</td>\n",
              "      <td id=\"T_61539_row2_col4\" class=\"data row2 col4\" >1</td>\n",
              "    </tr>\n",
              "    <tr>\n",
              "      <td id=\"T_61539_row3_col0\" class=\"data row3 col0\" >40</td>\n",
              "      <td id=\"T_61539_row3_col1\" class=\"data row3 col1\" >Production</td>\n",
              "      <td id=\"T_61539_row3_col2\" class=\"data row3 col2\" >349870</td>\n",
              "      <td id=\"T_61539_row3_col3\" class=\"data row3 col3\" >Bombay</td>\n",
              "      <td id=\"T_61539_row3_col4\" class=\"data row3 col4\" >2</td>\n",
              "    </tr>\n",
              "    <tr>\n",
              "      <td id=\"T_61539_row4_col0\" class=\"data row4 col0\" >60</td>\n",
              "      <td id=\"T_61539_row4_col1\" class=\"data row4 col1\" >Research</td>\n",
              "      <td id=\"T_61539_row4_col2\" class=\"data row4 col2\" >546224</td>\n",
              "      <td id=\"T_61539_row4_col3\" class=\"data row4 col3\" >Delhi</td>\n",
              "      <td id=\"T_61539_row4_col4\" class=\"data row4 col4\" >3</td>\n",
              "    </tr>\n",
              "    <tr>\n",
              "      <td id=\"T_61539_row5_col0\" class=\"data row5 col0\" >11</td>\n",
              "      <td id=\"T_61539_row5_col1\" class=\"data row5 col1\" >Corporate2</td>\n",
              "      <td id=\"T_61539_row5_col2\" class=\"data row5 col2\" >299035</td>\n",
              "      <td id=\"T_61539_row5_col3\" class=\"data row5 col3\" >Calcutta</td>\n",
              "      <td id=\"T_61539_row5_col4\" class=\"data row5 col4\" >1</td>\n",
              "    </tr>\n",
              "  </tbody>\n",
              "</table>\n"
            ]
          },
          "metadata": {},
          "execution_count": 77
        }
      ]
    },
    {
      "cell_type": "code",
      "source": [
        "runCmd(\"update dept set deptname = 'Marketing' where deptid = '11'\")\n",
        "runSelect(\"select * from dept\")"
      ],
      "metadata": {
        "id": "DqdnmD2pEQNq",
        "outputId": "e8bd530c-bc5d-4a17-f262-2cdcd523123f",
        "colab": {
          "base_uri": "https://localhost:8080/",
          "height": 255
        }
      },
      "execution_count": 78,
      "outputs": [
        {
          "output_type": "stream",
          "name": "stdout",
          "text": [
            "Command executed\n"
          ]
        },
        {
          "output_type": "execute_result",
          "data": {
            "text/plain": [
              "<pandas.io.formats.style.Styler at 0x7c7ee7ed3b50>"
            ],
            "text/html": [
              "<style type=\"text/css\">\n",
              "</style>\n",
              "<table id=\"T_7a15a\" class=\"dataframe\">\n",
              "  <thead>\n",
              "    <tr>\n",
              "      <th id=\"T_7a15a_level0_col0\" class=\"col_heading level0 col0\" >deptid</th>\n",
              "      <th id=\"T_7a15a_level0_col1\" class=\"col_heading level0 col1\" >deptname</th>\n",
              "      <th id=\"T_7a15a_level0_col2\" class=\"col_heading level0 col2\" >managerid</th>\n",
              "      <th id=\"T_7a15a_level0_col3\" class=\"col_heading level0 col3\" >location</th>\n",
              "      <th id=\"T_7a15a_level0_col4\" class=\"col_heading level0 col4\" >locationid</th>\n",
              "    </tr>\n",
              "  </thead>\n",
              "  <tbody>\n",
              "    <tr>\n",
              "      <td id=\"T_7a15a_row0_col0\" class=\"data row0 col0\" >10</td>\n",
              "      <td id=\"T_7a15a_row0_col1\" class=\"data row0 col1\" >Corporate</td>\n",
              "      <td id=\"T_7a15a_row0_col2\" class=\"data row0 col2\" >299034</td>\n",
              "      <td id=\"T_7a15a_row0_col3\" class=\"data row0 col3\" >Calcutta</td>\n",
              "      <td id=\"T_7a15a_row0_col4\" class=\"data row0 col4\" >1</td>\n",
              "    </tr>\n",
              "    <tr>\n",
              "      <td id=\"T_7a15a_row1_col0\" class=\"data row1 col0\" >20</td>\n",
              "      <td id=\"T_7a15a_row1_col1\" class=\"data row1 col1\" >Sales</td>\n",
              "      <td id=\"T_7a15a_row1_col2\" class=\"data row1 col2\" >239456</td>\n",
              "      <td id=\"T_7a15a_row1_col3\" class=\"data row1 col3\" >Calcutta</td>\n",
              "      <td id=\"T_7a15a_row1_col4\" class=\"data row1 col4\" >1</td>\n",
              "    </tr>\n",
              "    <tr>\n",
              "      <td id=\"T_7a15a_row2_col0\" class=\"data row2 col0\" >30</td>\n",
              "      <td id=\"T_7a15a_row2_col1\" class=\"data row2 col1\" >Accounts</td>\n",
              "      <td id=\"T_7a15a_row2_col2\" class=\"data row2 col2\" >822134</td>\n",
              "      <td id=\"T_7a15a_row2_col3\" class=\"data row2 col3\" >Calcutta</td>\n",
              "      <td id=\"T_7a15a_row2_col4\" class=\"data row2 col4\" >1</td>\n",
              "    </tr>\n",
              "    <tr>\n",
              "      <td id=\"T_7a15a_row3_col0\" class=\"data row3 col0\" >40</td>\n",
              "      <td id=\"T_7a15a_row3_col1\" class=\"data row3 col1\" >Production</td>\n",
              "      <td id=\"T_7a15a_row3_col2\" class=\"data row3 col2\" >349870</td>\n",
              "      <td id=\"T_7a15a_row3_col3\" class=\"data row3 col3\" >Bombay</td>\n",
              "      <td id=\"T_7a15a_row3_col4\" class=\"data row3 col4\" >2</td>\n",
              "    </tr>\n",
              "    <tr>\n",
              "      <td id=\"T_7a15a_row4_col0\" class=\"data row4 col0\" >60</td>\n",
              "      <td id=\"T_7a15a_row4_col1\" class=\"data row4 col1\" >Research</td>\n",
              "      <td id=\"T_7a15a_row4_col2\" class=\"data row4 col2\" >546224</td>\n",
              "      <td id=\"T_7a15a_row4_col3\" class=\"data row4 col3\" >Delhi</td>\n",
              "      <td id=\"T_7a15a_row4_col4\" class=\"data row4 col4\" >3</td>\n",
              "    </tr>\n",
              "    <tr>\n",
              "      <td id=\"T_7a15a_row5_col0\" class=\"data row5 col0\" >11</td>\n",
              "      <td id=\"T_7a15a_row5_col1\" class=\"data row5 col1\" >Marketing</td>\n",
              "      <td id=\"T_7a15a_row5_col2\" class=\"data row5 col2\" >299035</td>\n",
              "      <td id=\"T_7a15a_row5_col3\" class=\"data row5 col3\" >Calcutta</td>\n",
              "      <td id=\"T_7a15a_row5_col4\" class=\"data row5 col4\" >1</td>\n",
              "    </tr>\n",
              "  </tbody>\n",
              "</table>\n"
            ]
          },
          "metadata": {},
          "execution_count": 78
        }
      ]
    },
    {
      "cell_type": "code",
      "source": [
        "runCmd(\"delete from dept where deptid = '11'\")\n",
        "runSelect(\"select * from dept\")"
      ],
      "metadata": {
        "id": "nsnJnNrEF6iS",
        "outputId": "10a087c8-e078-4c0b-9aec-b4dad8c9928b",
        "colab": {
          "base_uri": "https://localhost:8080/",
          "height": 224
        }
      },
      "execution_count": 79,
      "outputs": [
        {
          "output_type": "stream",
          "name": "stdout",
          "text": [
            "Command executed\n"
          ]
        },
        {
          "output_type": "execute_result",
          "data": {
            "text/plain": [
              "<pandas.io.formats.style.Styler at 0x7c7ee7ef8850>"
            ],
            "text/html": [
              "<style type=\"text/css\">\n",
              "</style>\n",
              "<table id=\"T_2cb8c\" class=\"dataframe\">\n",
              "  <thead>\n",
              "    <tr>\n",
              "      <th id=\"T_2cb8c_level0_col0\" class=\"col_heading level0 col0\" >deptid</th>\n",
              "      <th id=\"T_2cb8c_level0_col1\" class=\"col_heading level0 col1\" >deptname</th>\n",
              "      <th id=\"T_2cb8c_level0_col2\" class=\"col_heading level0 col2\" >managerid</th>\n",
              "      <th id=\"T_2cb8c_level0_col3\" class=\"col_heading level0 col3\" >location</th>\n",
              "      <th id=\"T_2cb8c_level0_col4\" class=\"col_heading level0 col4\" >locationid</th>\n",
              "    </tr>\n",
              "  </thead>\n",
              "  <tbody>\n",
              "    <tr>\n",
              "      <td id=\"T_2cb8c_row0_col0\" class=\"data row0 col0\" >10</td>\n",
              "      <td id=\"T_2cb8c_row0_col1\" class=\"data row0 col1\" >Corporate</td>\n",
              "      <td id=\"T_2cb8c_row0_col2\" class=\"data row0 col2\" >299034</td>\n",
              "      <td id=\"T_2cb8c_row0_col3\" class=\"data row0 col3\" >Calcutta</td>\n",
              "      <td id=\"T_2cb8c_row0_col4\" class=\"data row0 col4\" >1</td>\n",
              "    </tr>\n",
              "    <tr>\n",
              "      <td id=\"T_2cb8c_row1_col0\" class=\"data row1 col0\" >20</td>\n",
              "      <td id=\"T_2cb8c_row1_col1\" class=\"data row1 col1\" >Sales</td>\n",
              "      <td id=\"T_2cb8c_row1_col2\" class=\"data row1 col2\" >239456</td>\n",
              "      <td id=\"T_2cb8c_row1_col3\" class=\"data row1 col3\" >Calcutta</td>\n",
              "      <td id=\"T_2cb8c_row1_col4\" class=\"data row1 col4\" >1</td>\n",
              "    </tr>\n",
              "    <tr>\n",
              "      <td id=\"T_2cb8c_row2_col0\" class=\"data row2 col0\" >30</td>\n",
              "      <td id=\"T_2cb8c_row2_col1\" class=\"data row2 col1\" >Accounts</td>\n",
              "      <td id=\"T_2cb8c_row2_col2\" class=\"data row2 col2\" >822134</td>\n",
              "      <td id=\"T_2cb8c_row2_col3\" class=\"data row2 col3\" >Calcutta</td>\n",
              "      <td id=\"T_2cb8c_row2_col4\" class=\"data row2 col4\" >1</td>\n",
              "    </tr>\n",
              "    <tr>\n",
              "      <td id=\"T_2cb8c_row3_col0\" class=\"data row3 col0\" >40</td>\n",
              "      <td id=\"T_2cb8c_row3_col1\" class=\"data row3 col1\" >Production</td>\n",
              "      <td id=\"T_2cb8c_row3_col2\" class=\"data row3 col2\" >349870</td>\n",
              "      <td id=\"T_2cb8c_row3_col3\" class=\"data row3 col3\" >Bombay</td>\n",
              "      <td id=\"T_2cb8c_row3_col4\" class=\"data row3 col4\" >2</td>\n",
              "    </tr>\n",
              "    <tr>\n",
              "      <td id=\"T_2cb8c_row4_col0\" class=\"data row4 col0\" >60</td>\n",
              "      <td id=\"T_2cb8c_row4_col1\" class=\"data row4 col1\" >Research</td>\n",
              "      <td id=\"T_2cb8c_row4_col2\" class=\"data row4 col2\" >546224</td>\n",
              "      <td id=\"T_2cb8c_row4_col3\" class=\"data row4 col3\" >Delhi</td>\n",
              "      <td id=\"T_2cb8c_row4_col4\" class=\"data row4 col4\" >3</td>\n",
              "    </tr>\n",
              "  </tbody>\n",
              "</table>\n"
            ]
          },
          "metadata": {},
          "execution_count": 79
        }
      ]
    },
    {
      "cell_type": "code",
      "source": [
        "from datetime import datetime\n",
        "import pytz\n",
        "print('Last tested  ',datetime.now(pytz.timezone('Asia/Kolkata')))"
      ],
      "metadata": {
        "colab": {
          "base_uri": "https://localhost:8080/"
        },
        "id": "wjBXJVhM605H",
        "outputId": "fa00710d-c702-49af-c3c6-0ef4b4054973"
      },
      "execution_count": 80,
      "outputs": [
        {
          "output_type": "stream",
          "name": "stdout",
          "text": [
            "Last tested   2024-02-24 16:01:54.253534+05:30\n"
          ]
        }
      ]
    },
    {
      "cell_type": "markdown",
      "source": [
        "#Chronobooks <br>\n",
        "Two science fiction novels by Prithwis Mukerjee. A dystopian Earth. A technocratic society managed by artificial intelligence. Escape and epiphany on Mars. Can man and machine, carbon and silicon explore and escape into other dimensions of existence? An Indic perspective rooted in Advaita Vedanta and the Divine Feminine.  [More information](http://bit.ly/chronobooks) <br>\n",
        "![alt text](https://github.com/Praxis-QR/RDWH/raw/main/images/CTCYFooter-1.png)"
      ],
      "metadata": {
        "id": "_gNiZpyW3AzJ"
      }
    }
  ]
}