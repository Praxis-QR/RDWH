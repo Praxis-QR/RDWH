{
  "nbformat": 4,
  "nbformat_minor": 0,
  "metadata": {
    "colab": {
      "provenance": [],
      "toc_visible": true,
      "include_colab_link": true
    },
    "kernelspec": {
      "name": "python3",
      "display_name": "Python 3"
    },
    "language_info": {
      "name": "python"
    }
  },
  "cells": [
    {
      "cell_type": "markdown",
      "metadata": {
        "id": "view-in-github",
        "colab_type": "text"
      },
      "source": [
        "<a href=\"https://colab.research.google.com/github/Praxis-QR/RDWH/blob/main/PG24_2A_SQL42.ipynb\" target=\"_parent\"><img src=\"https://colab.research.google.com/assets/colab-badge.svg\" alt=\"Open In Colab\"/></a>"
      ]
    },
    {
      "cell_type": "markdown",
      "source": [
        "![Yantrajaal Banner](https://github.com/Praxis-QR/RDWH/raw/main/images/YantraJaalBanner.png)<br>\n",
        "\n",
        "\n",
        "<hr>\n",
        "\n",
        "[Prithwis Mukerjee](http://www.linkedin.com/in/prithwis)<br>"
      ],
      "metadata": {
        "id": "DBzz-qaN2tKu"
      }
    },
    {
      "cell_type": "markdown",
      "source": [
        "![PostgreSQL 42](https://raw.githubusercontent.com/Praxis-QR/RDWH/main/images/PostgreSQL_24.01.png)<br>\n",
        "[SlideDeck](https://docs.google.com/presentation/d/1hdkAGbMxLfO1GYe7RzEo3LhGZhsXkyjIfBqkA72B6LM/edit?usp=sharing)"
      ],
      "metadata": {
        "id": "dBJ6X0LiJtZ6"
      }
    },
    {
      "cell_type": "code",
      "source": [
        "from datetime import datetime\n",
        "import pytz\n",
        "print('ॐ श्री सरस्वत्यै नमः',datetime.now(pytz.timezone('Asia/Calcutta')))\n",
        "!python --version\n",
        "!lsb_release -a"
      ],
      "metadata": {
        "colab": {
          "base_uri": "https://localhost:8080/"
        },
        "id": "XZ9dGt-eUikL",
        "outputId": "18bcf456-527f-400d-d5a6-e2c2907e4a07"
      },
      "execution_count": 1,
      "outputs": [
        {
          "output_type": "stream",
          "name": "stdout",
          "text": [
            "ॐ श्री सरस्वत्यै नमः 2024-08-07 08:15:15.227955+05:30\n",
            "Python 3.10.12\n",
            "No LSB modules are available.\n",
            "Distributor ID:\tUbuntu\n",
            "Description:\tUbuntu 22.04.3 LTS\n",
            "Release:\t22.04\n",
            "Codename:\tjammy\n"
          ]
        }
      ]
    },
    {
      "cell_type": "markdown",
      "source": [
        "#Install & Configure Postgres"
      ],
      "metadata": {
        "id": "nD-QawLT6kDr"
      }
    },
    {
      "cell_type": "markdown",
      "source": [
        "For Connecting to a Postgres server hosted in the cloud Neon DB, see [this notebook](https://github.com/Praxis-QR/RDWH/blob/main/PG24_1B_SQL_CloudLab.ipynb)"
      ],
      "metadata": {
        "id": "9w29_O07rTPE"
      }
    },
    {
      "cell_type": "code",
      "source": [
        "# Install postgresql server\n",
        "\n",
        "!apt update > /dev/null\n",
        "!apt install postgresql > /dev/null\n",
        "#!pip install psycopg2\n",
        "import psycopg2\n",
        "import pandas as pd\n",
        "#!sudo -u postgres psql -V\n",
        "!psql -V\n",
        "!service postgresql start"
      ],
      "metadata": {
        "colab": {
          "base_uri": "https://localhost:8080/"
        },
        "id": "o_RaqE0OOHP3",
        "outputId": "b72100c3-64b2-4801-ea12-4154c43fdf74"
      },
      "execution_count": 2,
      "outputs": [
        {
          "output_type": "stream",
          "name": "stdout",
          "text": [
            "\n",
            "WARNING: apt does not have a stable CLI interface. Use with caution in scripts.\n",
            "\n",
            "W: Skipping acquire of configured file 'main/source/Sources' as repository 'https://r2u.stat.illinois.edu/ubuntu jammy InRelease' does not seem to provide it (sources.list entry misspelt?)\n",
            "\n",
            "WARNING: apt does not have a stable CLI interface. Use with caution in scripts.\n",
            "\n",
            "psql (PostgreSQL) 14.12 (Ubuntu 14.12-0ubuntu0.22.04.1)\n",
            " * Starting PostgreSQL 14 database server\n",
            "   ...done.\n"
          ]
        }
      ]
    },
    {
      "cell_type": "code",
      "source": [
        "# The installation creates Ubuntu user 'postgres' AND a Postgres database user 'postgres' both of which are superusers\n",
        "#!cat /etc/passwd\n",
        "# Use these users to create a new database user called 'upraxis' and give it a password 'upass'\n",
        "#!sudo -u postgres createuser --superuser upraxis\n",
        "!sudo -u postgres createuser upraxis\n",
        "!sudo -u postgres psql -U postgres -c \"ALTER USER upraxis PASSWORD 'upass';\"\n",
        "#\n",
        "# Change the database superuser 'postgres' to a non-default value 'pass'\n",
        "!sudo -u postgres psql -U postgres -c \"ALTER USER postgres PASSWORD 'pass';\"\n",
        "#\n",
        "# Use ubuntu superuser to create database dbpraxis and set its owner to upraxis\n",
        "!sudo -u postgres createdb -O upraxis dbpraxis\n",
        "#\n",
        "# Create file to store the password. Else will be prompted each time\n",
        "#\n",
        "!echo \"localhost:5432:dbpraxis:upraxis:upass\" > ~/.pgpass\n",
        "!echo \"localhost:5432:dbpraxis:postgres:pass\" >> ~/.pgpass\n",
        "!chmod 0600 ~/.pgpass\n",
        "!cat ~/.pgpass\n"
      ],
      "metadata": {
        "colab": {
          "base_uri": "https://localhost:8080/"
        },
        "id": "xr5kHaY_U4CZ",
        "outputId": "a7af9c04-efe2-4a39-a9fa-ddd5b780244a"
      },
      "execution_count": 3,
      "outputs": [
        {
          "output_type": "stream",
          "name": "stdout",
          "text": [
            "ALTER ROLE\n",
            "ALTER ROLE\n",
            "localhost:5432:dbpraxis:upraxis:upass\n",
            "localhost:5432:dbpraxis:postgres:pass\n"
          ]
        }
      ]
    },
    {
      "cell_type": "markdown",
      "source": [
        "## Create and Load Tables"
      ],
      "metadata": {
        "id": "pHTdNzrU6qUE"
      }
    },
    {
      "cell_type": "code",
      "source": [
        "# Create Two tables using command line interface\n",
        "#\n",
        "!psql -h localhost -p 5432 -Uupraxis -ddbpraxis -c \\\n",
        "\"drop table if exists Dept;\\\n",
        "create table Dept (\\\n",
        "    DeptID char(2),\\\n",
        "    DeptName varchar(20),\\\n",
        "    ManagerID char(6),\\\n",
        "    Location varchar(10),\\\n",
        "    LocationID char(1)\\\n",
        "    );\\\n",
        "insert into Dept (DeptID, DeptName, ManagerID, Location,LocationID) VALUES \\\n",
        "\t('10', 'Corporate', '299034', 'Calcutta','1'), \\\n",
        "\t('20', 'Sales', '239456', 'Calcutta','1'), \\\n",
        "\t('30', 'Accounts', '822134', 'Calcutta','1'), \\\n",
        "\t('40', 'Production', '349870', 'Bombay','2'),\\\n",
        "    ('60', 'Research', '546224', 'Delhi','3');\\\n",
        "\""
      ],
      "metadata": {
        "colab": {
          "base_uri": "https://localhost:8080/"
        },
        "id": "DsUZ9JlEXIir",
        "outputId": "cfb08c52-eafc-4c38-ce29-a12f278c6c34"
      },
      "execution_count": 4,
      "outputs": [
        {
          "output_type": "stream",
          "name": "stdout",
          "text": [
            "NOTICE:  table \"dept\" does not exist, skipping\n",
            "INSERT 0 5\n"
          ]
        }
      ]
    },
    {
      "cell_type": "code",
      "source": [
        "!psql -h localhost -p 5432 -Uupraxis -ddbpraxis -c \\\n",
        "\"drop table if exists Empl;\\\n",
        "create table Empl \\\n",
        "    (EmpID char(6),\\\n",
        "    LastName varchar(20),\\\n",
        "    FirstName varchar(20),\\\n",
        "    JobDesc varchar(10),\\\n",
        "    JoinDate date,\\\n",
        "    Salary int,\\\n",
        "    Comm decimal(3,2),\\\n",
        "    DeptID char(2),\\\n",
        "    HiredBy char(6)\\\n",
        "    );\\\n",
        "INSERT INTO Empl (EmpID, LastName, FirstName, JobDesc, JoinDate, Salary, Comm, DeptID, HiredBy) \\\n",
        "    VALUES \\\n",
        "\t('742866', 'Bacchan', 'Amitabh', 'Executive', '2003-03-10', 50000, 0.1, '10', NULL), \\\n",
        "\t('349870', 'Mukherjee', 'Rani', 'Manager', '2005-05-04', 25000, 0.06, '40', '742866'), \\\n",
        "\t('865477', 'Dikshit', 'Madhuri', 'Clerk', '2002-04-04', 10000, 0.02, '20', '239456'), \\\n",
        "\t('239456', 'Khan', 'Shahrukh', 'Manager', '2004-01-03', 30000, 0.07, '20', '742866'), \\\n",
        "\t('897889', 'Sehwag', 'Virender', 'Cus_Rep', '2005-01-02', 15000, 0.05, '20', '239456'), \\\n",
        "\t('123980', 'Dhoni', 'Mahender', 'Clerk', '2004-10-09', 9000, 0.02, '40', '349870'), \\\n",
        "\t('822134', 'Dravid', 'Rahul', 'Sr Manager', '2000-06-04', 40000, 0.08, '30', '742866'), \\\n",
        "\t('997445', 'Dalmia', 'Jagmohan', 'Clerk', '2001-07-01', 12000, 0.02, '30', '822134'), \\\n",
        "\t('989007', 'Ganguly', 'Sourav', 'Cus_Rep', '2002-01-01', 20000, 0.03, '40', '299034'), \\\n",
        "\t('299034', 'Ganesan', 'Rekha', 'Director', '2002-10-10', 60000, 0.11, '10', '742866'), \\\n",
        "\t('546223', 'Karthikeyan', 'Narayan', 'Secretary', '2005-12-04', 40000, 0.09, '10', '299034'), \\\n",
        "    ('546224', 'Sunil', 'Chettri', 'Dy Manager', '2006-12-07', 40000, 0.05, '70', '989007'), \\\n",
        "\t('223112', 'Mirza', 'Sania', 'Cus_Rep', '2001-11-19', 25000, 0.04, '30', '822134');\\\n",
        "\""
      ],
      "metadata": {
        "colab": {
          "base_uri": "https://localhost:8080/"
        },
        "id": "5kWs3wyEd9Tm",
        "outputId": "a628a813-36ca-4c12-e883-04b47e93ac24"
      },
      "execution_count": 5,
      "outputs": [
        {
          "output_type": "stream",
          "name": "stdout",
          "text": [
            "NOTICE:  table \"empl\" does not exist, skipping\n",
            "INSERT 0 13\n"
          ]
        }
      ]
    },
    {
      "cell_type": "code",
      "source": [
        "#!psql -h localhost -p 5432 -Upostgres -dpraxisdb -c \"select * from dept;\"\n",
        "#!psql -h localhost -p 5432 -Uupraxis -ddbpraxis -c \"select * from dept;\""
      ],
      "metadata": {
        "id": "HyBUhbAI2PV1"
      },
      "execution_count": 6,
      "outputs": []
    },
    {
      "cell_type": "code",
      "source": [
        "#!psql -h localhost -p 5432 -U postgres -d praxisdb -c \"select * from empl;\"\n",
        "#!psql -h localhost -p 5432 -U upraxis -d dbpraxis -c \"select * from empl;\""
      ],
      "metadata": {
        "id": "byY2iccO4ctF"
      },
      "execution_count": 7,
      "outputs": []
    },
    {
      "cell_type": "markdown",
      "source": [
        "## Python Access\n",
        "https://www.tutorialspoint.com/python_data_access/python_postgresql_database_connection.htm"
      ],
      "metadata": {
        "id": "faZEj8_7CeZ8"
      }
    },
    {
      "cell_type": "code",
      "source": [
        "# Local Colab server\n",
        "\n",
        "conn = psycopg2.connect(database=\"dbpraxis\", user='upraxis', password='upass', host='127.0.0.1', port= '5432')\n",
        "#Creating a cursor object using the cursor() method\n",
        "cursor = conn.cursor()\n",
        "#Executing an MYSQL function using the execute() method\n",
        "cursor.execute(\"select version()\")\n",
        "# Fetch a single row using fetchone() method.\n",
        "data = cursor.fetchone()\n",
        "print(\"Connection established to: \",data)\n",
        "#Closing the connection\n",
        "conn.close()"
      ],
      "metadata": {
        "id": "wcE-8UBnC4zV",
        "outputId": "943c34ee-0655-4a8e-b65e-f5d5639d0876",
        "colab": {
          "base_uri": "https://localhost:8080/"
        }
      },
      "execution_count": 8,
      "outputs": [
        {
          "output_type": "stream",
          "name": "stdout",
          "text": [
            "Connection established to:  ('PostgreSQL 14.12 (Ubuntu 14.12-0ubuntu0.22.04.1) on x86_64-pc-linux-gnu, compiled by gcc (Ubuntu 11.4.0-1ubuntu1~22.04) 11.4.0, 64-bit',)\n"
          ]
        }
      ]
    },
    {
      "cell_type": "code",
      "source": [
        "# function to execute SQL select statements with Postgres\n",
        "#\n",
        "def runSelect(s):\n",
        "    #Set up connection\n",
        "\n",
        "    conn = psycopg2.connect(database=\"dbpraxis\", user='upraxis', password='upass', host='127.0.0.1', port= '5432')\n",
        "    #Setting auto commit true\n",
        "    conn.autocommit = True\n",
        "    #Creating a cursor object using the cursor() method\n",
        "    cursor = conn.cursor()\n",
        "    #Retrieving data\n",
        "    cursor.execute(s)\n",
        "    #Fetching all rows from the table\n",
        "    result = cursor.fetchall();\n",
        "    #print(len(result))\n",
        "    if (len(result)) > 0:                                       # result contains at least one row\n",
        "        colnames = [desc[0] for desc in cursor.description]     # get column names\n",
        "        #print(colnames)\n",
        "        resultdf = pd.DataFrame(result)                         # convert list to dataframe\n",
        "        resultdf.columns = colnames                             # add column names\n",
        "        #return resultdf\n",
        "        return resultdf.style.hide()                            # hide the index\n",
        "    else:\n",
        "        print('no records found')\n",
        "        return\n",
        "# function to execute SQL non-select statements with Postgres\n",
        "#\n",
        "def runCmd(s):\n",
        "    #Create Connection\n",
        "    conn = psycopg2.connect(database=\"dbpraxis\", user='upraxis', password='upass', host='127.0.0.1', port= '5432')\n",
        "    #Creating a cursor object using the cursor() method\n",
        "    cursor = conn.cursor()\n",
        "    try:\n",
        "        cursor.execute(s)\n",
        "        print('Command executed')\n",
        "        conn.commit()\n",
        "    except:\n",
        "        print('Command failed')\n",
        "    #Closing the connection\n",
        "    conn.close()"
      ],
      "metadata": {
        "id": "ht2k7-3iggNd"
      },
      "execution_count": 9,
      "outputs": []
    },
    {
      "cell_type": "markdown",
      "source": [
        "#Select - getting started"
      ],
      "metadata": {
        "id": "k0rXiciVtu7Q"
      }
    },
    {
      "cell_type": "code",
      "source": [
        "#runSelect(\"select * from dept where deptid = '100'\")\n",
        "#runSelect(\"select * from dept where deptid = '10'\")\n",
        "runSelect(\"select * from dept\")"
      ],
      "metadata": {
        "id": "N3NZv0YahSs6",
        "outputId": "e8aaa8d5-83a6-4a8b-e749-477177c7e881",
        "colab": {
          "base_uri": "https://localhost:8080/",
          "height": 206
        }
      },
      "execution_count": 10,
      "outputs": [
        {
          "output_type": "execute_result",
          "data": {
            "text/plain": [
              "<pandas.io.formats.style.Styler at 0x782ef51678b0>"
            ],
            "text/html": [
              "<style type=\"text/css\">\n",
              "</style>\n",
              "<table id=\"T_fa5a1\" class=\"dataframe\">\n",
              "  <thead>\n",
              "    <tr>\n",
              "      <th id=\"T_fa5a1_level0_col0\" class=\"col_heading level0 col0\" >deptid</th>\n",
              "      <th id=\"T_fa5a1_level0_col1\" class=\"col_heading level0 col1\" >deptname</th>\n",
              "      <th id=\"T_fa5a1_level0_col2\" class=\"col_heading level0 col2\" >managerid</th>\n",
              "      <th id=\"T_fa5a1_level0_col3\" class=\"col_heading level0 col3\" >location</th>\n",
              "      <th id=\"T_fa5a1_level0_col4\" class=\"col_heading level0 col4\" >locationid</th>\n",
              "    </tr>\n",
              "  </thead>\n",
              "  <tbody>\n",
              "    <tr>\n",
              "      <td id=\"T_fa5a1_row0_col0\" class=\"data row0 col0\" >10</td>\n",
              "      <td id=\"T_fa5a1_row0_col1\" class=\"data row0 col1\" >Corporate</td>\n",
              "      <td id=\"T_fa5a1_row0_col2\" class=\"data row0 col2\" >299034</td>\n",
              "      <td id=\"T_fa5a1_row0_col3\" class=\"data row0 col3\" >Calcutta</td>\n",
              "      <td id=\"T_fa5a1_row0_col4\" class=\"data row0 col4\" >1</td>\n",
              "    </tr>\n",
              "    <tr>\n",
              "      <td id=\"T_fa5a1_row1_col0\" class=\"data row1 col0\" >20</td>\n",
              "      <td id=\"T_fa5a1_row1_col1\" class=\"data row1 col1\" >Sales</td>\n",
              "      <td id=\"T_fa5a1_row1_col2\" class=\"data row1 col2\" >239456</td>\n",
              "      <td id=\"T_fa5a1_row1_col3\" class=\"data row1 col3\" >Calcutta</td>\n",
              "      <td id=\"T_fa5a1_row1_col4\" class=\"data row1 col4\" >1</td>\n",
              "    </tr>\n",
              "    <tr>\n",
              "      <td id=\"T_fa5a1_row2_col0\" class=\"data row2 col0\" >30</td>\n",
              "      <td id=\"T_fa5a1_row2_col1\" class=\"data row2 col1\" >Accounts</td>\n",
              "      <td id=\"T_fa5a1_row2_col2\" class=\"data row2 col2\" >822134</td>\n",
              "      <td id=\"T_fa5a1_row2_col3\" class=\"data row2 col3\" >Calcutta</td>\n",
              "      <td id=\"T_fa5a1_row2_col4\" class=\"data row2 col4\" >1</td>\n",
              "    </tr>\n",
              "    <tr>\n",
              "      <td id=\"T_fa5a1_row3_col0\" class=\"data row3 col0\" >40</td>\n",
              "      <td id=\"T_fa5a1_row3_col1\" class=\"data row3 col1\" >Production</td>\n",
              "      <td id=\"T_fa5a1_row3_col2\" class=\"data row3 col2\" >349870</td>\n",
              "      <td id=\"T_fa5a1_row3_col3\" class=\"data row3 col3\" >Bombay</td>\n",
              "      <td id=\"T_fa5a1_row3_col4\" class=\"data row3 col4\" >2</td>\n",
              "    </tr>\n",
              "    <tr>\n",
              "      <td id=\"T_fa5a1_row4_col0\" class=\"data row4 col0\" >60</td>\n",
              "      <td id=\"T_fa5a1_row4_col1\" class=\"data row4 col1\" >Research</td>\n",
              "      <td id=\"T_fa5a1_row4_col2\" class=\"data row4 col2\" >546224</td>\n",
              "      <td id=\"T_fa5a1_row4_col3\" class=\"data row4 col3\" >Delhi</td>\n",
              "      <td id=\"T_fa5a1_row4_col4\" class=\"data row4 col4\" >3</td>\n",
              "    </tr>\n",
              "  </tbody>\n",
              "</table>\n"
            ]
          },
          "metadata": {},
          "execution_count": 10
        }
      ]
    },
    {
      "cell_type": "code",
      "source": [
        "runSelect('select * from empl')"
      ],
      "metadata": {
        "id": "Otiv4rjSl5Tg",
        "outputId": "bea0e9cd-adc4-4717-e8f6-0b6cf1eacec4",
        "colab": {
          "base_uri": "https://localhost:8080/",
          "height": 457
        }
      },
      "execution_count": 11,
      "outputs": [
        {
          "output_type": "execute_result",
          "data": {
            "text/plain": [
              "<pandas.io.formats.style.Styler at 0x782ef5109ab0>"
            ],
            "text/html": [
              "<style type=\"text/css\">\n",
              "</style>\n",
              "<table id=\"T_6d431\" class=\"dataframe\">\n",
              "  <thead>\n",
              "    <tr>\n",
              "      <th id=\"T_6d431_level0_col0\" class=\"col_heading level0 col0\" >empid</th>\n",
              "      <th id=\"T_6d431_level0_col1\" class=\"col_heading level0 col1\" >lastname</th>\n",
              "      <th id=\"T_6d431_level0_col2\" class=\"col_heading level0 col2\" >firstname</th>\n",
              "      <th id=\"T_6d431_level0_col3\" class=\"col_heading level0 col3\" >jobdesc</th>\n",
              "      <th id=\"T_6d431_level0_col4\" class=\"col_heading level0 col4\" >joindate</th>\n",
              "      <th id=\"T_6d431_level0_col5\" class=\"col_heading level0 col5\" >salary</th>\n",
              "      <th id=\"T_6d431_level0_col6\" class=\"col_heading level0 col6\" >comm</th>\n",
              "      <th id=\"T_6d431_level0_col7\" class=\"col_heading level0 col7\" >deptid</th>\n",
              "      <th id=\"T_6d431_level0_col8\" class=\"col_heading level0 col8\" >hiredby</th>\n",
              "    </tr>\n",
              "  </thead>\n",
              "  <tbody>\n",
              "    <tr>\n",
              "      <td id=\"T_6d431_row0_col0\" class=\"data row0 col0\" >742866</td>\n",
              "      <td id=\"T_6d431_row0_col1\" class=\"data row0 col1\" >Bacchan</td>\n",
              "      <td id=\"T_6d431_row0_col2\" class=\"data row0 col2\" >Amitabh</td>\n",
              "      <td id=\"T_6d431_row0_col3\" class=\"data row0 col3\" >Executive</td>\n",
              "      <td id=\"T_6d431_row0_col4\" class=\"data row0 col4\" >2003-03-10</td>\n",
              "      <td id=\"T_6d431_row0_col5\" class=\"data row0 col5\" >50000</td>\n",
              "      <td id=\"T_6d431_row0_col6\" class=\"data row0 col6\" >0.10</td>\n",
              "      <td id=\"T_6d431_row0_col7\" class=\"data row0 col7\" >10</td>\n",
              "      <td id=\"T_6d431_row0_col8\" class=\"data row0 col8\" >None</td>\n",
              "    </tr>\n",
              "    <tr>\n",
              "      <td id=\"T_6d431_row1_col0\" class=\"data row1 col0\" >349870</td>\n",
              "      <td id=\"T_6d431_row1_col1\" class=\"data row1 col1\" >Mukherjee</td>\n",
              "      <td id=\"T_6d431_row1_col2\" class=\"data row1 col2\" >Rani</td>\n",
              "      <td id=\"T_6d431_row1_col3\" class=\"data row1 col3\" >Manager</td>\n",
              "      <td id=\"T_6d431_row1_col4\" class=\"data row1 col4\" >2005-05-04</td>\n",
              "      <td id=\"T_6d431_row1_col5\" class=\"data row1 col5\" >25000</td>\n",
              "      <td id=\"T_6d431_row1_col6\" class=\"data row1 col6\" >0.06</td>\n",
              "      <td id=\"T_6d431_row1_col7\" class=\"data row1 col7\" >40</td>\n",
              "      <td id=\"T_6d431_row1_col8\" class=\"data row1 col8\" >742866</td>\n",
              "    </tr>\n",
              "    <tr>\n",
              "      <td id=\"T_6d431_row2_col0\" class=\"data row2 col0\" >865477</td>\n",
              "      <td id=\"T_6d431_row2_col1\" class=\"data row2 col1\" >Dikshit</td>\n",
              "      <td id=\"T_6d431_row2_col2\" class=\"data row2 col2\" >Madhuri</td>\n",
              "      <td id=\"T_6d431_row2_col3\" class=\"data row2 col3\" >Clerk</td>\n",
              "      <td id=\"T_6d431_row2_col4\" class=\"data row2 col4\" >2002-04-04</td>\n",
              "      <td id=\"T_6d431_row2_col5\" class=\"data row2 col5\" >10000</td>\n",
              "      <td id=\"T_6d431_row2_col6\" class=\"data row2 col6\" >0.02</td>\n",
              "      <td id=\"T_6d431_row2_col7\" class=\"data row2 col7\" >20</td>\n",
              "      <td id=\"T_6d431_row2_col8\" class=\"data row2 col8\" >239456</td>\n",
              "    </tr>\n",
              "    <tr>\n",
              "      <td id=\"T_6d431_row3_col0\" class=\"data row3 col0\" >239456</td>\n",
              "      <td id=\"T_6d431_row3_col1\" class=\"data row3 col1\" >Khan</td>\n",
              "      <td id=\"T_6d431_row3_col2\" class=\"data row3 col2\" >Shahrukh</td>\n",
              "      <td id=\"T_6d431_row3_col3\" class=\"data row3 col3\" >Manager</td>\n",
              "      <td id=\"T_6d431_row3_col4\" class=\"data row3 col4\" >2004-01-03</td>\n",
              "      <td id=\"T_6d431_row3_col5\" class=\"data row3 col5\" >30000</td>\n",
              "      <td id=\"T_6d431_row3_col6\" class=\"data row3 col6\" >0.07</td>\n",
              "      <td id=\"T_6d431_row3_col7\" class=\"data row3 col7\" >20</td>\n",
              "      <td id=\"T_6d431_row3_col8\" class=\"data row3 col8\" >742866</td>\n",
              "    </tr>\n",
              "    <tr>\n",
              "      <td id=\"T_6d431_row4_col0\" class=\"data row4 col0\" >897889</td>\n",
              "      <td id=\"T_6d431_row4_col1\" class=\"data row4 col1\" >Sehwag</td>\n",
              "      <td id=\"T_6d431_row4_col2\" class=\"data row4 col2\" >Virender</td>\n",
              "      <td id=\"T_6d431_row4_col3\" class=\"data row4 col3\" >Cus_Rep</td>\n",
              "      <td id=\"T_6d431_row4_col4\" class=\"data row4 col4\" >2005-01-02</td>\n",
              "      <td id=\"T_6d431_row4_col5\" class=\"data row4 col5\" >15000</td>\n",
              "      <td id=\"T_6d431_row4_col6\" class=\"data row4 col6\" >0.05</td>\n",
              "      <td id=\"T_6d431_row4_col7\" class=\"data row4 col7\" >20</td>\n",
              "      <td id=\"T_6d431_row4_col8\" class=\"data row4 col8\" >239456</td>\n",
              "    </tr>\n",
              "    <tr>\n",
              "      <td id=\"T_6d431_row5_col0\" class=\"data row5 col0\" >123980</td>\n",
              "      <td id=\"T_6d431_row5_col1\" class=\"data row5 col1\" >Dhoni</td>\n",
              "      <td id=\"T_6d431_row5_col2\" class=\"data row5 col2\" >Mahender</td>\n",
              "      <td id=\"T_6d431_row5_col3\" class=\"data row5 col3\" >Clerk</td>\n",
              "      <td id=\"T_6d431_row5_col4\" class=\"data row5 col4\" >2004-10-09</td>\n",
              "      <td id=\"T_6d431_row5_col5\" class=\"data row5 col5\" >9000</td>\n",
              "      <td id=\"T_6d431_row5_col6\" class=\"data row5 col6\" >0.02</td>\n",
              "      <td id=\"T_6d431_row5_col7\" class=\"data row5 col7\" >40</td>\n",
              "      <td id=\"T_6d431_row5_col8\" class=\"data row5 col8\" >349870</td>\n",
              "    </tr>\n",
              "    <tr>\n",
              "      <td id=\"T_6d431_row6_col0\" class=\"data row6 col0\" >822134</td>\n",
              "      <td id=\"T_6d431_row6_col1\" class=\"data row6 col1\" >Dravid</td>\n",
              "      <td id=\"T_6d431_row6_col2\" class=\"data row6 col2\" >Rahul</td>\n",
              "      <td id=\"T_6d431_row6_col3\" class=\"data row6 col3\" >Sr Manager</td>\n",
              "      <td id=\"T_6d431_row6_col4\" class=\"data row6 col4\" >2000-06-04</td>\n",
              "      <td id=\"T_6d431_row6_col5\" class=\"data row6 col5\" >40000</td>\n",
              "      <td id=\"T_6d431_row6_col6\" class=\"data row6 col6\" >0.08</td>\n",
              "      <td id=\"T_6d431_row6_col7\" class=\"data row6 col7\" >30</td>\n",
              "      <td id=\"T_6d431_row6_col8\" class=\"data row6 col8\" >742866</td>\n",
              "    </tr>\n",
              "    <tr>\n",
              "      <td id=\"T_6d431_row7_col0\" class=\"data row7 col0\" >997445</td>\n",
              "      <td id=\"T_6d431_row7_col1\" class=\"data row7 col1\" >Dalmia</td>\n",
              "      <td id=\"T_6d431_row7_col2\" class=\"data row7 col2\" >Jagmohan</td>\n",
              "      <td id=\"T_6d431_row7_col3\" class=\"data row7 col3\" >Clerk</td>\n",
              "      <td id=\"T_6d431_row7_col4\" class=\"data row7 col4\" >2001-07-01</td>\n",
              "      <td id=\"T_6d431_row7_col5\" class=\"data row7 col5\" >12000</td>\n",
              "      <td id=\"T_6d431_row7_col6\" class=\"data row7 col6\" >0.02</td>\n",
              "      <td id=\"T_6d431_row7_col7\" class=\"data row7 col7\" >30</td>\n",
              "      <td id=\"T_6d431_row7_col8\" class=\"data row7 col8\" >822134</td>\n",
              "    </tr>\n",
              "    <tr>\n",
              "      <td id=\"T_6d431_row8_col0\" class=\"data row8 col0\" >989007</td>\n",
              "      <td id=\"T_6d431_row8_col1\" class=\"data row8 col1\" >Ganguly</td>\n",
              "      <td id=\"T_6d431_row8_col2\" class=\"data row8 col2\" >Sourav</td>\n",
              "      <td id=\"T_6d431_row8_col3\" class=\"data row8 col3\" >Cus_Rep</td>\n",
              "      <td id=\"T_6d431_row8_col4\" class=\"data row8 col4\" >2002-01-01</td>\n",
              "      <td id=\"T_6d431_row8_col5\" class=\"data row8 col5\" >20000</td>\n",
              "      <td id=\"T_6d431_row8_col6\" class=\"data row8 col6\" >0.03</td>\n",
              "      <td id=\"T_6d431_row8_col7\" class=\"data row8 col7\" >40</td>\n",
              "      <td id=\"T_6d431_row8_col8\" class=\"data row8 col8\" >299034</td>\n",
              "    </tr>\n",
              "    <tr>\n",
              "      <td id=\"T_6d431_row9_col0\" class=\"data row9 col0\" >299034</td>\n",
              "      <td id=\"T_6d431_row9_col1\" class=\"data row9 col1\" >Ganesan</td>\n",
              "      <td id=\"T_6d431_row9_col2\" class=\"data row9 col2\" >Rekha</td>\n",
              "      <td id=\"T_6d431_row9_col3\" class=\"data row9 col3\" >Director</td>\n",
              "      <td id=\"T_6d431_row9_col4\" class=\"data row9 col4\" >2002-10-10</td>\n",
              "      <td id=\"T_6d431_row9_col5\" class=\"data row9 col5\" >60000</td>\n",
              "      <td id=\"T_6d431_row9_col6\" class=\"data row9 col6\" >0.11</td>\n",
              "      <td id=\"T_6d431_row9_col7\" class=\"data row9 col7\" >10</td>\n",
              "      <td id=\"T_6d431_row9_col8\" class=\"data row9 col8\" >742866</td>\n",
              "    </tr>\n",
              "    <tr>\n",
              "      <td id=\"T_6d431_row10_col0\" class=\"data row10 col0\" >546223</td>\n",
              "      <td id=\"T_6d431_row10_col1\" class=\"data row10 col1\" >Karthikeyan</td>\n",
              "      <td id=\"T_6d431_row10_col2\" class=\"data row10 col2\" >Narayan</td>\n",
              "      <td id=\"T_6d431_row10_col3\" class=\"data row10 col3\" >Secretary</td>\n",
              "      <td id=\"T_6d431_row10_col4\" class=\"data row10 col4\" >2005-12-04</td>\n",
              "      <td id=\"T_6d431_row10_col5\" class=\"data row10 col5\" >40000</td>\n",
              "      <td id=\"T_6d431_row10_col6\" class=\"data row10 col6\" >0.09</td>\n",
              "      <td id=\"T_6d431_row10_col7\" class=\"data row10 col7\" >10</td>\n",
              "      <td id=\"T_6d431_row10_col8\" class=\"data row10 col8\" >299034</td>\n",
              "    </tr>\n",
              "    <tr>\n",
              "      <td id=\"T_6d431_row11_col0\" class=\"data row11 col0\" >546224</td>\n",
              "      <td id=\"T_6d431_row11_col1\" class=\"data row11 col1\" >Sunil</td>\n",
              "      <td id=\"T_6d431_row11_col2\" class=\"data row11 col2\" >Chettri</td>\n",
              "      <td id=\"T_6d431_row11_col3\" class=\"data row11 col3\" >Dy Manager</td>\n",
              "      <td id=\"T_6d431_row11_col4\" class=\"data row11 col4\" >2006-12-07</td>\n",
              "      <td id=\"T_6d431_row11_col5\" class=\"data row11 col5\" >40000</td>\n",
              "      <td id=\"T_6d431_row11_col6\" class=\"data row11 col6\" >0.05</td>\n",
              "      <td id=\"T_6d431_row11_col7\" class=\"data row11 col7\" >70</td>\n",
              "      <td id=\"T_6d431_row11_col8\" class=\"data row11 col8\" >989007</td>\n",
              "    </tr>\n",
              "    <tr>\n",
              "      <td id=\"T_6d431_row12_col0\" class=\"data row12 col0\" >223112</td>\n",
              "      <td id=\"T_6d431_row12_col1\" class=\"data row12 col1\" >Mirza</td>\n",
              "      <td id=\"T_6d431_row12_col2\" class=\"data row12 col2\" >Sania</td>\n",
              "      <td id=\"T_6d431_row12_col3\" class=\"data row12 col3\" >Cus_Rep</td>\n",
              "      <td id=\"T_6d431_row12_col4\" class=\"data row12 col4\" >2001-11-19</td>\n",
              "      <td id=\"T_6d431_row12_col5\" class=\"data row12 col5\" >25000</td>\n",
              "      <td id=\"T_6d431_row12_col6\" class=\"data row12 col6\" >0.04</td>\n",
              "      <td id=\"T_6d431_row12_col7\" class=\"data row12 col7\" >30</td>\n",
              "      <td id=\"T_6d431_row12_col8\" class=\"data row12 col8\" >822134</td>\n",
              "    </tr>\n",
              "  </tbody>\n",
              "</table>\n"
            ]
          },
          "metadata": {},
          "execution_count": 11
        }
      ]
    },
    {
      "cell_type": "code",
      "source": [
        "runSelect('select lastname, jobdesc, salary from empl')"
      ],
      "metadata": {
        "id": "z-mxVMPuuxu6",
        "outputId": "2fbc4d8c-424e-413a-df6e-60054dbb861a",
        "colab": {
          "base_uri": "https://localhost:8080/",
          "height": 457
        }
      },
      "execution_count": 12,
      "outputs": [
        {
          "output_type": "execute_result",
          "data": {
            "text/plain": [
              "<pandas.io.formats.style.Styler at 0x782ef5109db0>"
            ],
            "text/html": [
              "<style type=\"text/css\">\n",
              "</style>\n",
              "<table id=\"T_82bfe\" class=\"dataframe\">\n",
              "  <thead>\n",
              "    <tr>\n",
              "      <th id=\"T_82bfe_level0_col0\" class=\"col_heading level0 col0\" >lastname</th>\n",
              "      <th id=\"T_82bfe_level0_col1\" class=\"col_heading level0 col1\" >jobdesc</th>\n",
              "      <th id=\"T_82bfe_level0_col2\" class=\"col_heading level0 col2\" >salary</th>\n",
              "    </tr>\n",
              "  </thead>\n",
              "  <tbody>\n",
              "    <tr>\n",
              "      <td id=\"T_82bfe_row0_col0\" class=\"data row0 col0\" >Bacchan</td>\n",
              "      <td id=\"T_82bfe_row0_col1\" class=\"data row0 col1\" >Executive</td>\n",
              "      <td id=\"T_82bfe_row0_col2\" class=\"data row0 col2\" >50000</td>\n",
              "    </tr>\n",
              "    <tr>\n",
              "      <td id=\"T_82bfe_row1_col0\" class=\"data row1 col0\" >Mukherjee</td>\n",
              "      <td id=\"T_82bfe_row1_col1\" class=\"data row1 col1\" >Manager</td>\n",
              "      <td id=\"T_82bfe_row1_col2\" class=\"data row1 col2\" >25000</td>\n",
              "    </tr>\n",
              "    <tr>\n",
              "      <td id=\"T_82bfe_row2_col0\" class=\"data row2 col0\" >Dikshit</td>\n",
              "      <td id=\"T_82bfe_row2_col1\" class=\"data row2 col1\" >Clerk</td>\n",
              "      <td id=\"T_82bfe_row2_col2\" class=\"data row2 col2\" >10000</td>\n",
              "    </tr>\n",
              "    <tr>\n",
              "      <td id=\"T_82bfe_row3_col0\" class=\"data row3 col0\" >Khan</td>\n",
              "      <td id=\"T_82bfe_row3_col1\" class=\"data row3 col1\" >Manager</td>\n",
              "      <td id=\"T_82bfe_row3_col2\" class=\"data row3 col2\" >30000</td>\n",
              "    </tr>\n",
              "    <tr>\n",
              "      <td id=\"T_82bfe_row4_col0\" class=\"data row4 col0\" >Sehwag</td>\n",
              "      <td id=\"T_82bfe_row4_col1\" class=\"data row4 col1\" >Cus_Rep</td>\n",
              "      <td id=\"T_82bfe_row4_col2\" class=\"data row4 col2\" >15000</td>\n",
              "    </tr>\n",
              "    <tr>\n",
              "      <td id=\"T_82bfe_row5_col0\" class=\"data row5 col0\" >Dhoni</td>\n",
              "      <td id=\"T_82bfe_row5_col1\" class=\"data row5 col1\" >Clerk</td>\n",
              "      <td id=\"T_82bfe_row5_col2\" class=\"data row5 col2\" >9000</td>\n",
              "    </tr>\n",
              "    <tr>\n",
              "      <td id=\"T_82bfe_row6_col0\" class=\"data row6 col0\" >Dravid</td>\n",
              "      <td id=\"T_82bfe_row6_col1\" class=\"data row6 col1\" >Sr Manager</td>\n",
              "      <td id=\"T_82bfe_row6_col2\" class=\"data row6 col2\" >40000</td>\n",
              "    </tr>\n",
              "    <tr>\n",
              "      <td id=\"T_82bfe_row7_col0\" class=\"data row7 col0\" >Dalmia</td>\n",
              "      <td id=\"T_82bfe_row7_col1\" class=\"data row7 col1\" >Clerk</td>\n",
              "      <td id=\"T_82bfe_row7_col2\" class=\"data row7 col2\" >12000</td>\n",
              "    </tr>\n",
              "    <tr>\n",
              "      <td id=\"T_82bfe_row8_col0\" class=\"data row8 col0\" >Ganguly</td>\n",
              "      <td id=\"T_82bfe_row8_col1\" class=\"data row8 col1\" >Cus_Rep</td>\n",
              "      <td id=\"T_82bfe_row8_col2\" class=\"data row8 col2\" >20000</td>\n",
              "    </tr>\n",
              "    <tr>\n",
              "      <td id=\"T_82bfe_row9_col0\" class=\"data row9 col0\" >Ganesan</td>\n",
              "      <td id=\"T_82bfe_row9_col1\" class=\"data row9 col1\" >Director</td>\n",
              "      <td id=\"T_82bfe_row9_col2\" class=\"data row9 col2\" >60000</td>\n",
              "    </tr>\n",
              "    <tr>\n",
              "      <td id=\"T_82bfe_row10_col0\" class=\"data row10 col0\" >Karthikeyan</td>\n",
              "      <td id=\"T_82bfe_row10_col1\" class=\"data row10 col1\" >Secretary</td>\n",
              "      <td id=\"T_82bfe_row10_col2\" class=\"data row10 col2\" >40000</td>\n",
              "    </tr>\n",
              "    <tr>\n",
              "      <td id=\"T_82bfe_row11_col0\" class=\"data row11 col0\" >Sunil</td>\n",
              "      <td id=\"T_82bfe_row11_col1\" class=\"data row11 col1\" >Dy Manager</td>\n",
              "      <td id=\"T_82bfe_row11_col2\" class=\"data row11 col2\" >40000</td>\n",
              "    </tr>\n",
              "    <tr>\n",
              "      <td id=\"T_82bfe_row12_col0\" class=\"data row12 col0\" >Mirza</td>\n",
              "      <td id=\"T_82bfe_row12_col1\" class=\"data row12 col1\" >Cus_Rep</td>\n",
              "      <td id=\"T_82bfe_row12_col2\" class=\"data row12 col2\" >25000</td>\n",
              "    </tr>\n",
              "  </tbody>\n",
              "</table>\n"
            ]
          },
          "metadata": {},
          "execution_count": 12
        }
      ]
    },
    {
      "cell_type": "code",
      "source": [
        "runSelect('select distinct(jobdesc) from empl')"
      ],
      "metadata": {
        "id": "7uvcAdlCvg-p",
        "outputId": "d956e2a7-8bfe-4920-acd1-620539a85fec",
        "colab": {
          "base_uri": "https://localhost:8080/",
          "height": 300
        }
      },
      "execution_count": 13,
      "outputs": [
        {
          "output_type": "execute_result",
          "data": {
            "text/plain": [
              "<pandas.io.formats.style.Styler at 0x782ef51080d0>"
            ],
            "text/html": [
              "<style type=\"text/css\">\n",
              "</style>\n",
              "<table id=\"T_bc2d4\" class=\"dataframe\">\n",
              "  <thead>\n",
              "    <tr>\n",
              "      <th id=\"T_bc2d4_level0_col0\" class=\"col_heading level0 col0\" >jobdesc</th>\n",
              "    </tr>\n",
              "  </thead>\n",
              "  <tbody>\n",
              "    <tr>\n",
              "      <td id=\"T_bc2d4_row0_col0\" class=\"data row0 col0\" >Director</td>\n",
              "    </tr>\n",
              "    <tr>\n",
              "      <td id=\"T_bc2d4_row1_col0\" class=\"data row1 col0\" >Manager</td>\n",
              "    </tr>\n",
              "    <tr>\n",
              "      <td id=\"T_bc2d4_row2_col0\" class=\"data row2 col0\" >Dy Manager</td>\n",
              "    </tr>\n",
              "    <tr>\n",
              "      <td id=\"T_bc2d4_row3_col0\" class=\"data row3 col0\" >Executive</td>\n",
              "    </tr>\n",
              "    <tr>\n",
              "      <td id=\"T_bc2d4_row4_col0\" class=\"data row4 col0\" >Secretary</td>\n",
              "    </tr>\n",
              "    <tr>\n",
              "      <td id=\"T_bc2d4_row5_col0\" class=\"data row5 col0\" >Cus_Rep</td>\n",
              "    </tr>\n",
              "    <tr>\n",
              "      <td id=\"T_bc2d4_row6_col0\" class=\"data row6 col0\" >Clerk</td>\n",
              "    </tr>\n",
              "    <tr>\n",
              "      <td id=\"T_bc2d4_row7_col0\" class=\"data row7 col0\" >Sr Manager</td>\n",
              "    </tr>\n",
              "  </tbody>\n",
              "</table>\n"
            ]
          },
          "metadata": {},
          "execution_count": 13
        }
      ]
    },
    {
      "cell_type": "markdown",
      "source": [
        "#Where"
      ],
      "metadata": {
        "id": "LFbNG59OxVzF"
      }
    },
    {
      "cell_type": "markdown",
      "source": [
        "## Equal, Not Equal, Greater, Less"
      ],
      "metadata": {
        "id": "JM2k29awVQHc"
      }
    },
    {
      "cell_type": "code",
      "source": [
        "runSelect(\"select firstname, lastname, jobdesc from empl where jobdesc = 'Clerk'\")"
      ],
      "metadata": {
        "id": "rRZz9OpLxdEY",
        "outputId": "b0ba08b7-fa7f-4dc2-ba57-1085c5be2451",
        "colab": {
          "base_uri": "https://localhost:8080/",
          "height": 143
        }
      },
      "execution_count": 14,
      "outputs": [
        {
          "output_type": "execute_result",
          "data": {
            "text/plain": [
              "<pandas.io.formats.style.Styler at 0x782ef5108610>"
            ],
            "text/html": [
              "<style type=\"text/css\">\n",
              "</style>\n",
              "<table id=\"T_c289c\" class=\"dataframe\">\n",
              "  <thead>\n",
              "    <tr>\n",
              "      <th id=\"T_c289c_level0_col0\" class=\"col_heading level0 col0\" >firstname</th>\n",
              "      <th id=\"T_c289c_level0_col1\" class=\"col_heading level0 col1\" >lastname</th>\n",
              "      <th id=\"T_c289c_level0_col2\" class=\"col_heading level0 col2\" >jobdesc</th>\n",
              "    </tr>\n",
              "  </thead>\n",
              "  <tbody>\n",
              "    <tr>\n",
              "      <td id=\"T_c289c_row0_col0\" class=\"data row0 col0\" >Madhuri</td>\n",
              "      <td id=\"T_c289c_row0_col1\" class=\"data row0 col1\" >Dikshit</td>\n",
              "      <td id=\"T_c289c_row0_col2\" class=\"data row0 col2\" >Clerk</td>\n",
              "    </tr>\n",
              "    <tr>\n",
              "      <td id=\"T_c289c_row1_col0\" class=\"data row1 col0\" >Mahender</td>\n",
              "      <td id=\"T_c289c_row1_col1\" class=\"data row1 col1\" >Dhoni</td>\n",
              "      <td id=\"T_c289c_row1_col2\" class=\"data row1 col2\" >Clerk</td>\n",
              "    </tr>\n",
              "    <tr>\n",
              "      <td id=\"T_c289c_row2_col0\" class=\"data row2 col0\" >Jagmohan</td>\n",
              "      <td id=\"T_c289c_row2_col1\" class=\"data row2 col1\" >Dalmia</td>\n",
              "      <td id=\"T_c289c_row2_col2\" class=\"data row2 col2\" >Clerk</td>\n",
              "    </tr>\n",
              "  </tbody>\n",
              "</table>\n"
            ]
          },
          "metadata": {},
          "execution_count": 14
        }
      ]
    },
    {
      "cell_type": "code",
      "source": [
        "runSelect(\"select firstname, lastname, jobdesc from empl where jobdesc != 'Clerk'\")"
      ],
      "metadata": {
        "id": "3cl0ISR9yG-I",
        "outputId": "7b6a590f-6c69-4e58-b793-47c7414c3be6",
        "colab": {
          "base_uri": "https://localhost:8080/",
          "height": 363
        }
      },
      "execution_count": 15,
      "outputs": [
        {
          "output_type": "execute_result",
          "data": {
            "text/plain": [
              "<pandas.io.formats.style.Styler at 0x782ef5109390>"
            ],
            "text/html": [
              "<style type=\"text/css\">\n",
              "</style>\n",
              "<table id=\"T_09a8c\" class=\"dataframe\">\n",
              "  <thead>\n",
              "    <tr>\n",
              "      <th id=\"T_09a8c_level0_col0\" class=\"col_heading level0 col0\" >firstname</th>\n",
              "      <th id=\"T_09a8c_level0_col1\" class=\"col_heading level0 col1\" >lastname</th>\n",
              "      <th id=\"T_09a8c_level0_col2\" class=\"col_heading level0 col2\" >jobdesc</th>\n",
              "    </tr>\n",
              "  </thead>\n",
              "  <tbody>\n",
              "    <tr>\n",
              "      <td id=\"T_09a8c_row0_col0\" class=\"data row0 col0\" >Amitabh</td>\n",
              "      <td id=\"T_09a8c_row0_col1\" class=\"data row0 col1\" >Bacchan</td>\n",
              "      <td id=\"T_09a8c_row0_col2\" class=\"data row0 col2\" >Executive</td>\n",
              "    </tr>\n",
              "    <tr>\n",
              "      <td id=\"T_09a8c_row1_col0\" class=\"data row1 col0\" >Rani</td>\n",
              "      <td id=\"T_09a8c_row1_col1\" class=\"data row1 col1\" >Mukherjee</td>\n",
              "      <td id=\"T_09a8c_row1_col2\" class=\"data row1 col2\" >Manager</td>\n",
              "    </tr>\n",
              "    <tr>\n",
              "      <td id=\"T_09a8c_row2_col0\" class=\"data row2 col0\" >Shahrukh</td>\n",
              "      <td id=\"T_09a8c_row2_col1\" class=\"data row2 col1\" >Khan</td>\n",
              "      <td id=\"T_09a8c_row2_col2\" class=\"data row2 col2\" >Manager</td>\n",
              "    </tr>\n",
              "    <tr>\n",
              "      <td id=\"T_09a8c_row3_col0\" class=\"data row3 col0\" >Virender</td>\n",
              "      <td id=\"T_09a8c_row3_col1\" class=\"data row3 col1\" >Sehwag</td>\n",
              "      <td id=\"T_09a8c_row3_col2\" class=\"data row3 col2\" >Cus_Rep</td>\n",
              "    </tr>\n",
              "    <tr>\n",
              "      <td id=\"T_09a8c_row4_col0\" class=\"data row4 col0\" >Rahul</td>\n",
              "      <td id=\"T_09a8c_row4_col1\" class=\"data row4 col1\" >Dravid</td>\n",
              "      <td id=\"T_09a8c_row4_col2\" class=\"data row4 col2\" >Sr Manager</td>\n",
              "    </tr>\n",
              "    <tr>\n",
              "      <td id=\"T_09a8c_row5_col0\" class=\"data row5 col0\" >Sourav</td>\n",
              "      <td id=\"T_09a8c_row5_col1\" class=\"data row5 col1\" >Ganguly</td>\n",
              "      <td id=\"T_09a8c_row5_col2\" class=\"data row5 col2\" >Cus_Rep</td>\n",
              "    </tr>\n",
              "    <tr>\n",
              "      <td id=\"T_09a8c_row6_col0\" class=\"data row6 col0\" >Rekha</td>\n",
              "      <td id=\"T_09a8c_row6_col1\" class=\"data row6 col1\" >Ganesan</td>\n",
              "      <td id=\"T_09a8c_row6_col2\" class=\"data row6 col2\" >Director</td>\n",
              "    </tr>\n",
              "    <tr>\n",
              "      <td id=\"T_09a8c_row7_col0\" class=\"data row7 col0\" >Narayan</td>\n",
              "      <td id=\"T_09a8c_row7_col1\" class=\"data row7 col1\" >Karthikeyan</td>\n",
              "      <td id=\"T_09a8c_row7_col2\" class=\"data row7 col2\" >Secretary</td>\n",
              "    </tr>\n",
              "    <tr>\n",
              "      <td id=\"T_09a8c_row8_col0\" class=\"data row8 col0\" >Chettri</td>\n",
              "      <td id=\"T_09a8c_row8_col1\" class=\"data row8 col1\" >Sunil</td>\n",
              "      <td id=\"T_09a8c_row8_col2\" class=\"data row8 col2\" >Dy Manager</td>\n",
              "    </tr>\n",
              "    <tr>\n",
              "      <td id=\"T_09a8c_row9_col0\" class=\"data row9 col0\" >Sania</td>\n",
              "      <td id=\"T_09a8c_row9_col1\" class=\"data row9 col1\" >Mirza</td>\n",
              "      <td id=\"T_09a8c_row9_col2\" class=\"data row9 col2\" >Cus_Rep</td>\n",
              "    </tr>\n",
              "  </tbody>\n",
              "</table>\n"
            ]
          },
          "metadata": {},
          "execution_count": 15
        }
      ]
    },
    {
      "cell_type": "code",
      "source": [
        "runSelect(\"select firstname, lastname, salary from empl where salary > 35000\")"
      ],
      "metadata": {
        "id": "obIPpNbDyT4S",
        "outputId": "3afb83a0-806c-4f88-9156-f8ef6c92c383",
        "colab": {
          "base_uri": "https://localhost:8080/",
          "height": 206
        }
      },
      "execution_count": 16,
      "outputs": [
        {
          "output_type": "execute_result",
          "data": {
            "text/plain": [
              "<pandas.io.formats.style.Styler at 0x782ef510b8e0>"
            ],
            "text/html": [
              "<style type=\"text/css\">\n",
              "</style>\n",
              "<table id=\"T_31a1f\" class=\"dataframe\">\n",
              "  <thead>\n",
              "    <tr>\n",
              "      <th id=\"T_31a1f_level0_col0\" class=\"col_heading level0 col0\" >firstname</th>\n",
              "      <th id=\"T_31a1f_level0_col1\" class=\"col_heading level0 col1\" >lastname</th>\n",
              "      <th id=\"T_31a1f_level0_col2\" class=\"col_heading level0 col2\" >salary</th>\n",
              "    </tr>\n",
              "  </thead>\n",
              "  <tbody>\n",
              "    <tr>\n",
              "      <td id=\"T_31a1f_row0_col0\" class=\"data row0 col0\" >Amitabh</td>\n",
              "      <td id=\"T_31a1f_row0_col1\" class=\"data row0 col1\" >Bacchan</td>\n",
              "      <td id=\"T_31a1f_row0_col2\" class=\"data row0 col2\" >50000</td>\n",
              "    </tr>\n",
              "    <tr>\n",
              "      <td id=\"T_31a1f_row1_col0\" class=\"data row1 col0\" >Rahul</td>\n",
              "      <td id=\"T_31a1f_row1_col1\" class=\"data row1 col1\" >Dravid</td>\n",
              "      <td id=\"T_31a1f_row1_col2\" class=\"data row1 col2\" >40000</td>\n",
              "    </tr>\n",
              "    <tr>\n",
              "      <td id=\"T_31a1f_row2_col0\" class=\"data row2 col0\" >Rekha</td>\n",
              "      <td id=\"T_31a1f_row2_col1\" class=\"data row2 col1\" >Ganesan</td>\n",
              "      <td id=\"T_31a1f_row2_col2\" class=\"data row2 col2\" >60000</td>\n",
              "    </tr>\n",
              "    <tr>\n",
              "      <td id=\"T_31a1f_row3_col0\" class=\"data row3 col0\" >Narayan</td>\n",
              "      <td id=\"T_31a1f_row3_col1\" class=\"data row3 col1\" >Karthikeyan</td>\n",
              "      <td id=\"T_31a1f_row3_col2\" class=\"data row3 col2\" >40000</td>\n",
              "    </tr>\n",
              "    <tr>\n",
              "      <td id=\"T_31a1f_row4_col0\" class=\"data row4 col0\" >Chettri</td>\n",
              "      <td id=\"T_31a1f_row4_col1\" class=\"data row4 col1\" >Sunil</td>\n",
              "      <td id=\"T_31a1f_row4_col2\" class=\"data row4 col2\" >40000</td>\n",
              "    </tr>\n",
              "  </tbody>\n",
              "</table>\n"
            ]
          },
          "metadata": {},
          "execution_count": 16
        }
      ]
    },
    {
      "cell_type": "code",
      "source": [
        "runSelect(\"select firstname, lastname, salary, joindate from empl where joindate < '2002-01-01'\")"
      ],
      "metadata": {
        "colab": {
          "base_uri": "https://localhost:8080/",
          "height": 143
        },
        "id": "hnIvgy_dMvQl",
        "outputId": "519db8e0-639a-4453-c122-9dd89d1e62e5"
      },
      "execution_count": 17,
      "outputs": [
        {
          "output_type": "execute_result",
          "data": {
            "text/plain": [
              "<pandas.io.formats.style.Styler at 0x782ef510abc0>"
            ],
            "text/html": [
              "<style type=\"text/css\">\n",
              "</style>\n",
              "<table id=\"T_defad\" class=\"dataframe\">\n",
              "  <thead>\n",
              "    <tr>\n",
              "      <th id=\"T_defad_level0_col0\" class=\"col_heading level0 col0\" >firstname</th>\n",
              "      <th id=\"T_defad_level0_col1\" class=\"col_heading level0 col1\" >lastname</th>\n",
              "      <th id=\"T_defad_level0_col2\" class=\"col_heading level0 col2\" >salary</th>\n",
              "      <th id=\"T_defad_level0_col3\" class=\"col_heading level0 col3\" >joindate</th>\n",
              "    </tr>\n",
              "  </thead>\n",
              "  <tbody>\n",
              "    <tr>\n",
              "      <td id=\"T_defad_row0_col0\" class=\"data row0 col0\" >Rahul</td>\n",
              "      <td id=\"T_defad_row0_col1\" class=\"data row0 col1\" >Dravid</td>\n",
              "      <td id=\"T_defad_row0_col2\" class=\"data row0 col2\" >40000</td>\n",
              "      <td id=\"T_defad_row0_col3\" class=\"data row0 col3\" >2000-06-04</td>\n",
              "    </tr>\n",
              "    <tr>\n",
              "      <td id=\"T_defad_row1_col0\" class=\"data row1 col0\" >Jagmohan</td>\n",
              "      <td id=\"T_defad_row1_col1\" class=\"data row1 col1\" >Dalmia</td>\n",
              "      <td id=\"T_defad_row1_col2\" class=\"data row1 col2\" >12000</td>\n",
              "      <td id=\"T_defad_row1_col3\" class=\"data row1 col3\" >2001-07-01</td>\n",
              "    </tr>\n",
              "    <tr>\n",
              "      <td id=\"T_defad_row2_col0\" class=\"data row2 col0\" >Sania</td>\n",
              "      <td id=\"T_defad_row2_col1\" class=\"data row2 col1\" >Mirza</td>\n",
              "      <td id=\"T_defad_row2_col2\" class=\"data row2 col2\" >25000</td>\n",
              "      <td id=\"T_defad_row2_col3\" class=\"data row2 col3\" >2001-11-19</td>\n",
              "    </tr>\n",
              "  </tbody>\n",
              "</table>\n"
            ]
          },
          "metadata": {},
          "execution_count": 17
        }
      ]
    },
    {
      "cell_type": "markdown",
      "source": [
        "## Like"
      ],
      "metadata": {
        "id": "77DkYhfhU1lJ"
      }
    },
    {
      "cell_type": "code",
      "source": [
        "runSelect(\"select firstname, lastname, salary from empl where lastname like 'D%'\")"
      ],
      "metadata": {
        "colab": {
          "base_uri": "https://localhost:8080/",
          "height": 175
        },
        "id": "PBsdla2eVv1K",
        "outputId": "38616167-d9ce-4ea9-f281-0ad19087877e"
      },
      "execution_count": 18,
      "outputs": [
        {
          "output_type": "execute_result",
          "data": {
            "text/plain": [
              "<pandas.io.formats.style.Styler at 0x782ef510a590>"
            ],
            "text/html": [
              "<style type=\"text/css\">\n",
              "</style>\n",
              "<table id=\"T_59395\" class=\"dataframe\">\n",
              "  <thead>\n",
              "    <tr>\n",
              "      <th id=\"T_59395_level0_col0\" class=\"col_heading level0 col0\" >firstname</th>\n",
              "      <th id=\"T_59395_level0_col1\" class=\"col_heading level0 col1\" >lastname</th>\n",
              "      <th id=\"T_59395_level0_col2\" class=\"col_heading level0 col2\" >salary</th>\n",
              "    </tr>\n",
              "  </thead>\n",
              "  <tbody>\n",
              "    <tr>\n",
              "      <td id=\"T_59395_row0_col0\" class=\"data row0 col0\" >Madhuri</td>\n",
              "      <td id=\"T_59395_row0_col1\" class=\"data row0 col1\" >Dikshit</td>\n",
              "      <td id=\"T_59395_row0_col2\" class=\"data row0 col2\" >10000</td>\n",
              "    </tr>\n",
              "    <tr>\n",
              "      <td id=\"T_59395_row1_col0\" class=\"data row1 col0\" >Mahender</td>\n",
              "      <td id=\"T_59395_row1_col1\" class=\"data row1 col1\" >Dhoni</td>\n",
              "      <td id=\"T_59395_row1_col2\" class=\"data row1 col2\" >9000</td>\n",
              "    </tr>\n",
              "    <tr>\n",
              "      <td id=\"T_59395_row2_col0\" class=\"data row2 col0\" >Rahul</td>\n",
              "      <td id=\"T_59395_row2_col1\" class=\"data row2 col1\" >Dravid</td>\n",
              "      <td id=\"T_59395_row2_col2\" class=\"data row2 col2\" >40000</td>\n",
              "    </tr>\n",
              "    <tr>\n",
              "      <td id=\"T_59395_row3_col0\" class=\"data row3 col0\" >Jagmohan</td>\n",
              "      <td id=\"T_59395_row3_col1\" class=\"data row3 col1\" >Dalmia</td>\n",
              "      <td id=\"T_59395_row3_col2\" class=\"data row3 col2\" >12000</td>\n",
              "    </tr>\n",
              "  </tbody>\n",
              "</table>\n"
            ]
          },
          "metadata": {},
          "execution_count": 18
        }
      ]
    },
    {
      "cell_type": "code",
      "source": [
        "runSelect(\"select firstname, lastname, joindate from empl where lastname like '____i_'\")"
      ],
      "metadata": {
        "colab": {
          "base_uri": "https://localhost:8080/",
          "height": 112
        },
        "id": "xxImEDlKbm4U",
        "outputId": "212a9db4-40cd-4edd-ea70-35a447c2f757"
      },
      "execution_count": 19,
      "outputs": [
        {
          "output_type": "execute_result",
          "data": {
            "text/plain": [
              "<pandas.io.formats.style.Styler at 0x782ef4f24580>"
            ],
            "text/html": [
              "<style type=\"text/css\">\n",
              "</style>\n",
              "<table id=\"T_a04b3\" class=\"dataframe\">\n",
              "  <thead>\n",
              "    <tr>\n",
              "      <th id=\"T_a04b3_level0_col0\" class=\"col_heading level0 col0\" >firstname</th>\n",
              "      <th id=\"T_a04b3_level0_col1\" class=\"col_heading level0 col1\" >lastname</th>\n",
              "      <th id=\"T_a04b3_level0_col2\" class=\"col_heading level0 col2\" >joindate</th>\n",
              "    </tr>\n",
              "  </thead>\n",
              "  <tbody>\n",
              "    <tr>\n",
              "      <td id=\"T_a04b3_row0_col0\" class=\"data row0 col0\" >Rahul</td>\n",
              "      <td id=\"T_a04b3_row0_col1\" class=\"data row0 col1\" >Dravid</td>\n",
              "      <td id=\"T_a04b3_row0_col2\" class=\"data row0 col2\" >2000-06-04</td>\n",
              "    </tr>\n",
              "    <tr>\n",
              "      <td id=\"T_a04b3_row1_col0\" class=\"data row1 col0\" >Jagmohan</td>\n",
              "      <td id=\"T_a04b3_row1_col1\" class=\"data row1 col1\" >Dalmia</td>\n",
              "      <td id=\"T_a04b3_row1_col2\" class=\"data row1 col2\" >2001-07-01</td>\n",
              "    </tr>\n",
              "  </tbody>\n",
              "</table>\n"
            ]
          },
          "metadata": {},
          "execution_count": 19
        }
      ]
    },
    {
      "cell_type": "code",
      "source": [
        "runSelect(\"select firstname, lastname, jobdesc from empl where lastname like '____i%'\")"
      ],
      "metadata": {
        "colab": {
          "base_uri": "https://localhost:8080/",
          "height": 143
        },
        "id": "pL7VPLo4b2g3",
        "outputId": "63fb78ec-5ed1-4543-9cbc-cffa8e1ae286"
      },
      "execution_count": 20,
      "outputs": [
        {
          "output_type": "execute_result",
          "data": {
            "text/plain": [
              "<pandas.io.formats.style.Styler at 0x782ef4f26290>"
            ],
            "text/html": [
              "<style type=\"text/css\">\n",
              "</style>\n",
              "<table id=\"T_29a1b\" class=\"dataframe\">\n",
              "  <thead>\n",
              "    <tr>\n",
              "      <th id=\"T_29a1b_level0_col0\" class=\"col_heading level0 col0\" >firstname</th>\n",
              "      <th id=\"T_29a1b_level0_col1\" class=\"col_heading level0 col1\" >lastname</th>\n",
              "      <th id=\"T_29a1b_level0_col2\" class=\"col_heading level0 col2\" >jobdesc</th>\n",
              "    </tr>\n",
              "  </thead>\n",
              "  <tbody>\n",
              "    <tr>\n",
              "      <td id=\"T_29a1b_row0_col0\" class=\"data row0 col0\" >Mahender</td>\n",
              "      <td id=\"T_29a1b_row0_col1\" class=\"data row0 col1\" >Dhoni</td>\n",
              "      <td id=\"T_29a1b_row0_col2\" class=\"data row0 col2\" >Clerk</td>\n",
              "    </tr>\n",
              "    <tr>\n",
              "      <td id=\"T_29a1b_row1_col0\" class=\"data row1 col0\" >Rahul</td>\n",
              "      <td id=\"T_29a1b_row1_col1\" class=\"data row1 col1\" >Dravid</td>\n",
              "      <td id=\"T_29a1b_row1_col2\" class=\"data row1 col2\" >Sr Manager</td>\n",
              "    </tr>\n",
              "    <tr>\n",
              "      <td id=\"T_29a1b_row2_col0\" class=\"data row2 col0\" >Jagmohan</td>\n",
              "      <td id=\"T_29a1b_row2_col1\" class=\"data row2 col1\" >Dalmia</td>\n",
              "      <td id=\"T_29a1b_row2_col2\" class=\"data row2 col2\" >Clerk</td>\n",
              "    </tr>\n",
              "  </tbody>\n",
              "</table>\n"
            ]
          },
          "metadata": {},
          "execution_count": 20
        }
      ]
    },
    {
      "cell_type": "markdown",
      "source": [
        "## Between"
      ],
      "metadata": {
        "id": "qw2h8Vtvey2R"
      }
    },
    {
      "cell_type": "code",
      "source": [
        "runSelect(\"select firstname, lastname, salary from empl where salary between 10000 and 20000\")"
      ],
      "metadata": {
        "colab": {
          "base_uri": "https://localhost:8080/",
          "height": 175
        },
        "id": "sI_qlRdXe7S8",
        "outputId": "387edd94-1308-4883-acba-956384db48e9"
      },
      "execution_count": 21,
      "outputs": [
        {
          "output_type": "execute_result",
          "data": {
            "text/plain": [
              "<pandas.io.formats.style.Styler at 0x782ef5167c10>"
            ],
            "text/html": [
              "<style type=\"text/css\">\n",
              "</style>\n",
              "<table id=\"T_6be07\" class=\"dataframe\">\n",
              "  <thead>\n",
              "    <tr>\n",
              "      <th id=\"T_6be07_level0_col0\" class=\"col_heading level0 col0\" >firstname</th>\n",
              "      <th id=\"T_6be07_level0_col1\" class=\"col_heading level0 col1\" >lastname</th>\n",
              "      <th id=\"T_6be07_level0_col2\" class=\"col_heading level0 col2\" >salary</th>\n",
              "    </tr>\n",
              "  </thead>\n",
              "  <tbody>\n",
              "    <tr>\n",
              "      <td id=\"T_6be07_row0_col0\" class=\"data row0 col0\" >Madhuri</td>\n",
              "      <td id=\"T_6be07_row0_col1\" class=\"data row0 col1\" >Dikshit</td>\n",
              "      <td id=\"T_6be07_row0_col2\" class=\"data row0 col2\" >10000</td>\n",
              "    </tr>\n",
              "    <tr>\n",
              "      <td id=\"T_6be07_row1_col0\" class=\"data row1 col0\" >Virender</td>\n",
              "      <td id=\"T_6be07_row1_col1\" class=\"data row1 col1\" >Sehwag</td>\n",
              "      <td id=\"T_6be07_row1_col2\" class=\"data row1 col2\" >15000</td>\n",
              "    </tr>\n",
              "    <tr>\n",
              "      <td id=\"T_6be07_row2_col0\" class=\"data row2 col0\" >Jagmohan</td>\n",
              "      <td id=\"T_6be07_row2_col1\" class=\"data row2 col1\" >Dalmia</td>\n",
              "      <td id=\"T_6be07_row2_col2\" class=\"data row2 col2\" >12000</td>\n",
              "    </tr>\n",
              "    <tr>\n",
              "      <td id=\"T_6be07_row3_col0\" class=\"data row3 col0\" >Sourav</td>\n",
              "      <td id=\"T_6be07_row3_col1\" class=\"data row3 col1\" >Ganguly</td>\n",
              "      <td id=\"T_6be07_row3_col2\" class=\"data row3 col2\" >20000</td>\n",
              "    </tr>\n",
              "  </tbody>\n",
              "</table>\n"
            ]
          },
          "metadata": {},
          "execution_count": 21
        }
      ]
    },
    {
      "cell_type": "code",
      "source": [
        "runSelect(\"select firstname, lastname, joindate from empl where joindate between '2004-01-01' and '2005-01-01'\")"
      ],
      "metadata": {
        "colab": {
          "base_uri": "https://localhost:8080/",
          "height": 112
        },
        "id": "b_mWyFTnfIEy",
        "outputId": "10fb0421-644f-4f4d-cfa8-78c4e5fa8151"
      },
      "execution_count": 22,
      "outputs": [
        {
          "output_type": "execute_result",
          "data": {
            "text/plain": [
              "<pandas.io.formats.style.Styler at 0x782ef4f25690>"
            ],
            "text/html": [
              "<style type=\"text/css\">\n",
              "</style>\n",
              "<table id=\"T_6b54f\" class=\"dataframe\">\n",
              "  <thead>\n",
              "    <tr>\n",
              "      <th id=\"T_6b54f_level0_col0\" class=\"col_heading level0 col0\" >firstname</th>\n",
              "      <th id=\"T_6b54f_level0_col1\" class=\"col_heading level0 col1\" >lastname</th>\n",
              "      <th id=\"T_6b54f_level0_col2\" class=\"col_heading level0 col2\" >joindate</th>\n",
              "    </tr>\n",
              "  </thead>\n",
              "  <tbody>\n",
              "    <tr>\n",
              "      <td id=\"T_6b54f_row0_col0\" class=\"data row0 col0\" >Shahrukh</td>\n",
              "      <td id=\"T_6b54f_row0_col1\" class=\"data row0 col1\" >Khan</td>\n",
              "      <td id=\"T_6b54f_row0_col2\" class=\"data row0 col2\" >2004-01-03</td>\n",
              "    </tr>\n",
              "    <tr>\n",
              "      <td id=\"T_6b54f_row1_col0\" class=\"data row1 col0\" >Mahender</td>\n",
              "      <td id=\"T_6b54f_row1_col1\" class=\"data row1 col1\" >Dhoni</td>\n",
              "      <td id=\"T_6b54f_row1_col2\" class=\"data row1 col2\" >2004-10-09</td>\n",
              "    </tr>\n",
              "  </tbody>\n",
              "</table>\n"
            ]
          },
          "metadata": {},
          "execution_count": 22
        }
      ]
    },
    {
      "cell_type": "code",
      "source": [
        "runSelect(\"select firstname, lastname, joindate from empl where lastname between 'Dho' and 'Kha'\")"
      ],
      "metadata": {
        "colab": {
          "base_uri": "https://localhost:8080/",
          "height": 238
        },
        "id": "qXs9AeS2fwCS",
        "outputId": "400d587c-357d-4416-c8a9-6829255abe36"
      },
      "execution_count": 23,
      "outputs": [
        {
          "output_type": "execute_result",
          "data": {
            "text/plain": [
              "<pandas.io.formats.style.Styler at 0x782ef510bca0>"
            ],
            "text/html": [
              "<style type=\"text/css\">\n",
              "</style>\n",
              "<table id=\"T_dceb1\" class=\"dataframe\">\n",
              "  <thead>\n",
              "    <tr>\n",
              "      <th id=\"T_dceb1_level0_col0\" class=\"col_heading level0 col0\" >firstname</th>\n",
              "      <th id=\"T_dceb1_level0_col1\" class=\"col_heading level0 col1\" >lastname</th>\n",
              "      <th id=\"T_dceb1_level0_col2\" class=\"col_heading level0 col2\" >joindate</th>\n",
              "    </tr>\n",
              "  </thead>\n",
              "  <tbody>\n",
              "    <tr>\n",
              "      <td id=\"T_dceb1_row0_col0\" class=\"data row0 col0\" >Madhuri</td>\n",
              "      <td id=\"T_dceb1_row0_col1\" class=\"data row0 col1\" >Dikshit</td>\n",
              "      <td id=\"T_dceb1_row0_col2\" class=\"data row0 col2\" >2002-04-04</td>\n",
              "    </tr>\n",
              "    <tr>\n",
              "      <td id=\"T_dceb1_row1_col0\" class=\"data row1 col0\" >Mahender</td>\n",
              "      <td id=\"T_dceb1_row1_col1\" class=\"data row1 col1\" >Dhoni</td>\n",
              "      <td id=\"T_dceb1_row1_col2\" class=\"data row1 col2\" >2004-10-09</td>\n",
              "    </tr>\n",
              "    <tr>\n",
              "      <td id=\"T_dceb1_row2_col0\" class=\"data row2 col0\" >Rahul</td>\n",
              "      <td id=\"T_dceb1_row2_col1\" class=\"data row2 col1\" >Dravid</td>\n",
              "      <td id=\"T_dceb1_row2_col2\" class=\"data row2 col2\" >2000-06-04</td>\n",
              "    </tr>\n",
              "    <tr>\n",
              "      <td id=\"T_dceb1_row3_col0\" class=\"data row3 col0\" >Sourav</td>\n",
              "      <td id=\"T_dceb1_row3_col1\" class=\"data row3 col1\" >Ganguly</td>\n",
              "      <td id=\"T_dceb1_row3_col2\" class=\"data row3 col2\" >2002-01-01</td>\n",
              "    </tr>\n",
              "    <tr>\n",
              "      <td id=\"T_dceb1_row4_col0\" class=\"data row4 col0\" >Rekha</td>\n",
              "      <td id=\"T_dceb1_row4_col1\" class=\"data row4 col1\" >Ganesan</td>\n",
              "      <td id=\"T_dceb1_row4_col2\" class=\"data row4 col2\" >2002-10-10</td>\n",
              "    </tr>\n",
              "    <tr>\n",
              "      <td id=\"T_dceb1_row5_col0\" class=\"data row5 col0\" >Narayan</td>\n",
              "      <td id=\"T_dceb1_row5_col1\" class=\"data row5 col1\" >Karthikeyan</td>\n",
              "      <td id=\"T_dceb1_row5_col2\" class=\"data row5 col2\" >2005-12-04</td>\n",
              "    </tr>\n",
              "  </tbody>\n",
              "</table>\n"
            ]
          },
          "metadata": {},
          "execution_count": 23
        }
      ]
    },
    {
      "cell_type": "markdown",
      "source": [
        "## IN"
      ],
      "metadata": {
        "id": "azhy0TQLiLy-"
      }
    },
    {
      "cell_type": "code",
      "source": [
        "runSelect(\"select firstname, lastname, deptid from empl where deptid in ('30','20','70')\")"
      ],
      "metadata": {
        "colab": {
          "base_uri": "https://localhost:8080/",
          "height": 269
        },
        "id": "UyBE-FuoibSZ",
        "outputId": "f2c6ab38-41e9-4a48-e292-48539ca3ad4d"
      },
      "execution_count": 24,
      "outputs": [
        {
          "output_type": "execute_result",
          "data": {
            "text/plain": [
              "<pandas.io.formats.style.Styler at 0x782ef510a230>"
            ],
            "text/html": [
              "<style type=\"text/css\">\n",
              "</style>\n",
              "<table id=\"T_c41be\" class=\"dataframe\">\n",
              "  <thead>\n",
              "    <tr>\n",
              "      <th id=\"T_c41be_level0_col0\" class=\"col_heading level0 col0\" >firstname</th>\n",
              "      <th id=\"T_c41be_level0_col1\" class=\"col_heading level0 col1\" >lastname</th>\n",
              "      <th id=\"T_c41be_level0_col2\" class=\"col_heading level0 col2\" >deptid</th>\n",
              "    </tr>\n",
              "  </thead>\n",
              "  <tbody>\n",
              "    <tr>\n",
              "      <td id=\"T_c41be_row0_col0\" class=\"data row0 col0\" >Madhuri</td>\n",
              "      <td id=\"T_c41be_row0_col1\" class=\"data row0 col1\" >Dikshit</td>\n",
              "      <td id=\"T_c41be_row0_col2\" class=\"data row0 col2\" >20</td>\n",
              "    </tr>\n",
              "    <tr>\n",
              "      <td id=\"T_c41be_row1_col0\" class=\"data row1 col0\" >Shahrukh</td>\n",
              "      <td id=\"T_c41be_row1_col1\" class=\"data row1 col1\" >Khan</td>\n",
              "      <td id=\"T_c41be_row1_col2\" class=\"data row1 col2\" >20</td>\n",
              "    </tr>\n",
              "    <tr>\n",
              "      <td id=\"T_c41be_row2_col0\" class=\"data row2 col0\" >Virender</td>\n",
              "      <td id=\"T_c41be_row2_col1\" class=\"data row2 col1\" >Sehwag</td>\n",
              "      <td id=\"T_c41be_row2_col2\" class=\"data row2 col2\" >20</td>\n",
              "    </tr>\n",
              "    <tr>\n",
              "      <td id=\"T_c41be_row3_col0\" class=\"data row3 col0\" >Rahul</td>\n",
              "      <td id=\"T_c41be_row3_col1\" class=\"data row3 col1\" >Dravid</td>\n",
              "      <td id=\"T_c41be_row3_col2\" class=\"data row3 col2\" >30</td>\n",
              "    </tr>\n",
              "    <tr>\n",
              "      <td id=\"T_c41be_row4_col0\" class=\"data row4 col0\" >Jagmohan</td>\n",
              "      <td id=\"T_c41be_row4_col1\" class=\"data row4 col1\" >Dalmia</td>\n",
              "      <td id=\"T_c41be_row4_col2\" class=\"data row4 col2\" >30</td>\n",
              "    </tr>\n",
              "    <tr>\n",
              "      <td id=\"T_c41be_row5_col0\" class=\"data row5 col0\" >Chettri</td>\n",
              "      <td id=\"T_c41be_row5_col1\" class=\"data row5 col1\" >Sunil</td>\n",
              "      <td id=\"T_c41be_row5_col2\" class=\"data row5 col2\" >70</td>\n",
              "    </tr>\n",
              "    <tr>\n",
              "      <td id=\"T_c41be_row6_col0\" class=\"data row6 col0\" >Sania</td>\n",
              "      <td id=\"T_c41be_row6_col1\" class=\"data row6 col1\" >Mirza</td>\n",
              "      <td id=\"T_c41be_row6_col2\" class=\"data row6 col2\" >30</td>\n",
              "    </tr>\n",
              "  </tbody>\n",
              "</table>\n"
            ]
          },
          "metadata": {},
          "execution_count": 24
        }
      ]
    },
    {
      "cell_type": "code",
      "source": [
        "runSelect(\"select firstname, lastname, salary from empl where firstname in ('Madhuri','Shahrukh','Virender')\")"
      ],
      "metadata": {
        "colab": {
          "base_uri": "https://localhost:8080/",
          "height": 143
        },
        "id": "9qTEO-OuiN3A",
        "outputId": "350f4e73-cf30-4c0f-9203-937a5fc71bb5"
      },
      "execution_count": 25,
      "outputs": [
        {
          "output_type": "execute_result",
          "data": {
            "text/plain": [
              "<pandas.io.formats.style.Styler at 0x782ef510a020>"
            ],
            "text/html": [
              "<style type=\"text/css\">\n",
              "</style>\n",
              "<table id=\"T_3d773\" class=\"dataframe\">\n",
              "  <thead>\n",
              "    <tr>\n",
              "      <th id=\"T_3d773_level0_col0\" class=\"col_heading level0 col0\" >firstname</th>\n",
              "      <th id=\"T_3d773_level0_col1\" class=\"col_heading level0 col1\" >lastname</th>\n",
              "      <th id=\"T_3d773_level0_col2\" class=\"col_heading level0 col2\" >salary</th>\n",
              "    </tr>\n",
              "  </thead>\n",
              "  <tbody>\n",
              "    <tr>\n",
              "      <td id=\"T_3d773_row0_col0\" class=\"data row0 col0\" >Madhuri</td>\n",
              "      <td id=\"T_3d773_row0_col1\" class=\"data row0 col1\" >Dikshit</td>\n",
              "      <td id=\"T_3d773_row0_col2\" class=\"data row0 col2\" >10000</td>\n",
              "    </tr>\n",
              "    <tr>\n",
              "      <td id=\"T_3d773_row1_col0\" class=\"data row1 col0\" >Shahrukh</td>\n",
              "      <td id=\"T_3d773_row1_col1\" class=\"data row1 col1\" >Khan</td>\n",
              "      <td id=\"T_3d773_row1_col2\" class=\"data row1 col2\" >30000</td>\n",
              "    </tr>\n",
              "    <tr>\n",
              "      <td id=\"T_3d773_row2_col0\" class=\"data row2 col0\" >Virender</td>\n",
              "      <td id=\"T_3d773_row2_col1\" class=\"data row2 col1\" >Sehwag</td>\n",
              "      <td id=\"T_3d773_row2_col2\" class=\"data row2 col2\" >15000</td>\n",
              "    </tr>\n",
              "  </tbody>\n",
              "</table>\n"
            ]
          },
          "metadata": {},
          "execution_count": 25
        }
      ]
    },
    {
      "cell_type": "markdown",
      "source": [
        "## Order by"
      ],
      "metadata": {
        "id": "vlOCT_zAkzMb"
      }
    },
    {
      "cell_type": "code",
      "source": [
        "runSelect(\"select firstname, lastname, joindate from empl where firstname in ('Madhuri','Shahrukh','Virender') order by joindate\")"
      ],
      "metadata": {
        "colab": {
          "base_uri": "https://localhost:8080/",
          "height": 143
        },
        "id": "WidoGzLVk1in",
        "outputId": "e40b75e6-54a9-4e57-8d2d-154d713f7f61"
      },
      "execution_count": 26,
      "outputs": [
        {
          "output_type": "execute_result",
          "data": {
            "text/plain": [
              "<pandas.io.formats.style.Styler at 0x782ef4f26890>"
            ],
            "text/html": [
              "<style type=\"text/css\">\n",
              "</style>\n",
              "<table id=\"T_31ac9\" class=\"dataframe\">\n",
              "  <thead>\n",
              "    <tr>\n",
              "      <th id=\"T_31ac9_level0_col0\" class=\"col_heading level0 col0\" >firstname</th>\n",
              "      <th id=\"T_31ac9_level0_col1\" class=\"col_heading level0 col1\" >lastname</th>\n",
              "      <th id=\"T_31ac9_level0_col2\" class=\"col_heading level0 col2\" >joindate</th>\n",
              "    </tr>\n",
              "  </thead>\n",
              "  <tbody>\n",
              "    <tr>\n",
              "      <td id=\"T_31ac9_row0_col0\" class=\"data row0 col0\" >Madhuri</td>\n",
              "      <td id=\"T_31ac9_row0_col1\" class=\"data row0 col1\" >Dikshit</td>\n",
              "      <td id=\"T_31ac9_row0_col2\" class=\"data row0 col2\" >2002-04-04</td>\n",
              "    </tr>\n",
              "    <tr>\n",
              "      <td id=\"T_31ac9_row1_col0\" class=\"data row1 col0\" >Shahrukh</td>\n",
              "      <td id=\"T_31ac9_row1_col1\" class=\"data row1 col1\" >Khan</td>\n",
              "      <td id=\"T_31ac9_row1_col2\" class=\"data row1 col2\" >2004-01-03</td>\n",
              "    </tr>\n",
              "    <tr>\n",
              "      <td id=\"T_31ac9_row2_col0\" class=\"data row2 col0\" >Virender</td>\n",
              "      <td id=\"T_31ac9_row2_col1\" class=\"data row2 col1\" >Sehwag</td>\n",
              "      <td id=\"T_31ac9_row2_col2\" class=\"data row2 col2\" >2005-01-02</td>\n",
              "    </tr>\n",
              "  </tbody>\n",
              "</table>\n"
            ]
          },
          "metadata": {},
          "execution_count": 26
        }
      ]
    },
    {
      "cell_type": "code",
      "source": [
        "runSelect(\"select firstname, lastname, jobdesc, salary, deptid from empl where deptid = '10' order by salary desc\")"
      ],
      "metadata": {
        "colab": {
          "base_uri": "https://localhost:8080/",
          "height": 143
        },
        "id": "Iq_7jWr-lRlO",
        "outputId": "435a8817-c5e1-4e8f-88cc-fc6c6e867ca9"
      },
      "execution_count": 27,
      "outputs": [
        {
          "output_type": "execute_result",
          "data": {
            "text/plain": [
              "<pandas.io.formats.style.Styler at 0x782ef4f24a60>"
            ],
            "text/html": [
              "<style type=\"text/css\">\n",
              "</style>\n",
              "<table id=\"T_dd658\" class=\"dataframe\">\n",
              "  <thead>\n",
              "    <tr>\n",
              "      <th id=\"T_dd658_level0_col0\" class=\"col_heading level0 col0\" >firstname</th>\n",
              "      <th id=\"T_dd658_level0_col1\" class=\"col_heading level0 col1\" >lastname</th>\n",
              "      <th id=\"T_dd658_level0_col2\" class=\"col_heading level0 col2\" >jobdesc</th>\n",
              "      <th id=\"T_dd658_level0_col3\" class=\"col_heading level0 col3\" >salary</th>\n",
              "      <th id=\"T_dd658_level0_col4\" class=\"col_heading level0 col4\" >deptid</th>\n",
              "    </tr>\n",
              "  </thead>\n",
              "  <tbody>\n",
              "    <tr>\n",
              "      <td id=\"T_dd658_row0_col0\" class=\"data row0 col0\" >Rekha</td>\n",
              "      <td id=\"T_dd658_row0_col1\" class=\"data row0 col1\" >Ganesan</td>\n",
              "      <td id=\"T_dd658_row0_col2\" class=\"data row0 col2\" >Director</td>\n",
              "      <td id=\"T_dd658_row0_col3\" class=\"data row0 col3\" >60000</td>\n",
              "      <td id=\"T_dd658_row0_col4\" class=\"data row0 col4\" >10</td>\n",
              "    </tr>\n",
              "    <tr>\n",
              "      <td id=\"T_dd658_row1_col0\" class=\"data row1 col0\" >Amitabh</td>\n",
              "      <td id=\"T_dd658_row1_col1\" class=\"data row1 col1\" >Bacchan</td>\n",
              "      <td id=\"T_dd658_row1_col2\" class=\"data row1 col2\" >Executive</td>\n",
              "      <td id=\"T_dd658_row1_col3\" class=\"data row1 col3\" >50000</td>\n",
              "      <td id=\"T_dd658_row1_col4\" class=\"data row1 col4\" >10</td>\n",
              "    </tr>\n",
              "    <tr>\n",
              "      <td id=\"T_dd658_row2_col0\" class=\"data row2 col0\" >Narayan</td>\n",
              "      <td id=\"T_dd658_row2_col1\" class=\"data row2 col1\" >Karthikeyan</td>\n",
              "      <td id=\"T_dd658_row2_col2\" class=\"data row2 col2\" >Secretary</td>\n",
              "      <td id=\"T_dd658_row2_col3\" class=\"data row2 col3\" >40000</td>\n",
              "      <td id=\"T_dd658_row2_col4\" class=\"data row2 col4\" >10</td>\n",
              "    </tr>\n",
              "  </tbody>\n",
              "</table>\n"
            ]
          },
          "metadata": {},
          "execution_count": 27
        }
      ]
    },
    {
      "cell_type": "markdown",
      "source": [
        "## Logical AND | OR"
      ],
      "metadata": {
        "id": "-JDEmZtsm0o1"
      }
    },
    {
      "cell_type": "code",
      "source": [
        "runSelect(\"select lastname, jobdesc, salary, deptid from empl where deptid = '20'\")"
      ],
      "metadata": {
        "colab": {
          "base_uri": "https://localhost:8080/",
          "height": 143
        },
        "id": "rli0DBhIm54M",
        "outputId": "c90b60a1-11c0-411c-b24a-19d7872f620b"
      },
      "execution_count": 28,
      "outputs": [
        {
          "output_type": "execute_result",
          "data": {
            "text/plain": [
              "<pandas.io.formats.style.Styler at 0x782ef4f26680>"
            ],
            "text/html": [
              "<style type=\"text/css\">\n",
              "</style>\n",
              "<table id=\"T_ae4f9\" class=\"dataframe\">\n",
              "  <thead>\n",
              "    <tr>\n",
              "      <th id=\"T_ae4f9_level0_col0\" class=\"col_heading level0 col0\" >lastname</th>\n",
              "      <th id=\"T_ae4f9_level0_col1\" class=\"col_heading level0 col1\" >jobdesc</th>\n",
              "      <th id=\"T_ae4f9_level0_col2\" class=\"col_heading level0 col2\" >salary</th>\n",
              "      <th id=\"T_ae4f9_level0_col3\" class=\"col_heading level0 col3\" >deptid</th>\n",
              "    </tr>\n",
              "  </thead>\n",
              "  <tbody>\n",
              "    <tr>\n",
              "      <td id=\"T_ae4f9_row0_col0\" class=\"data row0 col0\" >Dikshit</td>\n",
              "      <td id=\"T_ae4f9_row0_col1\" class=\"data row0 col1\" >Clerk</td>\n",
              "      <td id=\"T_ae4f9_row0_col2\" class=\"data row0 col2\" >10000</td>\n",
              "      <td id=\"T_ae4f9_row0_col3\" class=\"data row0 col3\" >20</td>\n",
              "    </tr>\n",
              "    <tr>\n",
              "      <td id=\"T_ae4f9_row1_col0\" class=\"data row1 col0\" >Khan</td>\n",
              "      <td id=\"T_ae4f9_row1_col1\" class=\"data row1 col1\" >Manager</td>\n",
              "      <td id=\"T_ae4f9_row1_col2\" class=\"data row1 col2\" >30000</td>\n",
              "      <td id=\"T_ae4f9_row1_col3\" class=\"data row1 col3\" >20</td>\n",
              "    </tr>\n",
              "    <tr>\n",
              "      <td id=\"T_ae4f9_row2_col0\" class=\"data row2 col0\" >Sehwag</td>\n",
              "      <td id=\"T_ae4f9_row2_col1\" class=\"data row2 col1\" >Cus_Rep</td>\n",
              "      <td id=\"T_ae4f9_row2_col2\" class=\"data row2 col2\" >15000</td>\n",
              "      <td id=\"T_ae4f9_row2_col3\" class=\"data row2 col3\" >20</td>\n",
              "    </tr>\n",
              "  </tbody>\n",
              "</table>\n"
            ]
          },
          "metadata": {},
          "execution_count": 28
        }
      ]
    },
    {
      "cell_type": "code",
      "source": [
        "runSelect(\"select lastname, jobdesc, salary, deptid from empl where deptid = '20' and salary > 10000\")"
      ],
      "metadata": {
        "colab": {
          "base_uri": "https://localhost:8080/",
          "height": 112
        },
        "id": "wHIJoUGqnuwa",
        "outputId": "bda66dc1-ed32-40be-cb6b-8d6b410ee260"
      },
      "execution_count": 29,
      "outputs": [
        {
          "output_type": "execute_result",
          "data": {
            "text/plain": [
              "<pandas.io.formats.style.Styler at 0x782ef4f25c30>"
            ],
            "text/html": [
              "<style type=\"text/css\">\n",
              "</style>\n",
              "<table id=\"T_e8bc9\" class=\"dataframe\">\n",
              "  <thead>\n",
              "    <tr>\n",
              "      <th id=\"T_e8bc9_level0_col0\" class=\"col_heading level0 col0\" >lastname</th>\n",
              "      <th id=\"T_e8bc9_level0_col1\" class=\"col_heading level0 col1\" >jobdesc</th>\n",
              "      <th id=\"T_e8bc9_level0_col2\" class=\"col_heading level0 col2\" >salary</th>\n",
              "      <th id=\"T_e8bc9_level0_col3\" class=\"col_heading level0 col3\" >deptid</th>\n",
              "    </tr>\n",
              "  </thead>\n",
              "  <tbody>\n",
              "    <tr>\n",
              "      <td id=\"T_e8bc9_row0_col0\" class=\"data row0 col0\" >Khan</td>\n",
              "      <td id=\"T_e8bc9_row0_col1\" class=\"data row0 col1\" >Manager</td>\n",
              "      <td id=\"T_e8bc9_row0_col2\" class=\"data row0 col2\" >30000</td>\n",
              "      <td id=\"T_e8bc9_row0_col3\" class=\"data row0 col3\" >20</td>\n",
              "    </tr>\n",
              "    <tr>\n",
              "      <td id=\"T_e8bc9_row1_col0\" class=\"data row1 col0\" >Sehwag</td>\n",
              "      <td id=\"T_e8bc9_row1_col1\" class=\"data row1 col1\" >Cus_Rep</td>\n",
              "      <td id=\"T_e8bc9_row1_col2\" class=\"data row1 col2\" >15000</td>\n",
              "      <td id=\"T_e8bc9_row1_col3\" class=\"data row1 col3\" >20</td>\n",
              "    </tr>\n",
              "  </tbody>\n",
              "</table>\n"
            ]
          },
          "metadata": {},
          "execution_count": 29
        }
      ]
    },
    {
      "cell_type": "code",
      "source": [
        "runSelect(\"select lastname, jobdesc, salary, deptid from empl where deptid = '20' and salary > 10000 and jobdesc = 'Clerk'\")"
      ],
      "metadata": {
        "colab": {
          "base_uri": "https://localhost:8080/"
        },
        "id": "fnB8p8-EnzH2",
        "outputId": "56639fa0-1ff8-488b-af6c-e6815c8283b2"
      },
      "execution_count": 30,
      "outputs": [
        {
          "output_type": "stream",
          "name": "stdout",
          "text": [
            "no records found\n"
          ]
        }
      ]
    },
    {
      "cell_type": "code",
      "source": [
        "runSelect(\"select lastname, jobdesc, deptid from empl where deptid = '70'\")"
      ],
      "metadata": {
        "colab": {
          "base_uri": "https://localhost:8080/",
          "height": 81
        },
        "id": "uEKUIgOMqtLw",
        "outputId": "e05538b3-54ea-426f-e116-71da56efa24e"
      },
      "execution_count": 31,
      "outputs": [
        {
          "output_type": "execute_result",
          "data": {
            "text/plain": [
              "<pandas.io.formats.style.Styler at 0x782ef4f27e50>"
            ],
            "text/html": [
              "<style type=\"text/css\">\n",
              "</style>\n",
              "<table id=\"T_84402\" class=\"dataframe\">\n",
              "  <thead>\n",
              "    <tr>\n",
              "      <th id=\"T_84402_level0_col0\" class=\"col_heading level0 col0\" >lastname</th>\n",
              "      <th id=\"T_84402_level0_col1\" class=\"col_heading level0 col1\" >jobdesc</th>\n",
              "      <th id=\"T_84402_level0_col2\" class=\"col_heading level0 col2\" >deptid</th>\n",
              "    </tr>\n",
              "  </thead>\n",
              "  <tbody>\n",
              "    <tr>\n",
              "      <td id=\"T_84402_row0_col0\" class=\"data row0 col0\" >Sunil</td>\n",
              "      <td id=\"T_84402_row0_col1\" class=\"data row0 col1\" >Dy Manager</td>\n",
              "      <td id=\"T_84402_row0_col2\" class=\"data row0 col2\" >70</td>\n",
              "    </tr>\n",
              "  </tbody>\n",
              "</table>\n"
            ]
          },
          "metadata": {},
          "execution_count": 31
        }
      ]
    },
    {
      "cell_type": "code",
      "source": [
        "runSelect(\"select lastname, jobdesc, deptid from empl where deptid = '70' or jobdesc like '%Manager'\")"
      ],
      "metadata": {
        "colab": {
          "base_uri": "https://localhost:8080/",
          "height": 175
        },
        "id": "Ne0eLRV3qyTn",
        "outputId": "7d2407b5-eb42-4a64-eb86-e2b8609f88ad"
      },
      "execution_count": 32,
      "outputs": [
        {
          "output_type": "execute_result",
          "data": {
            "text/plain": [
              "<pandas.io.formats.style.Styler at 0x782ef4f27280>"
            ],
            "text/html": [
              "<style type=\"text/css\">\n",
              "</style>\n",
              "<table id=\"T_85239\" class=\"dataframe\">\n",
              "  <thead>\n",
              "    <tr>\n",
              "      <th id=\"T_85239_level0_col0\" class=\"col_heading level0 col0\" >lastname</th>\n",
              "      <th id=\"T_85239_level0_col1\" class=\"col_heading level0 col1\" >jobdesc</th>\n",
              "      <th id=\"T_85239_level0_col2\" class=\"col_heading level0 col2\" >deptid</th>\n",
              "    </tr>\n",
              "  </thead>\n",
              "  <tbody>\n",
              "    <tr>\n",
              "      <td id=\"T_85239_row0_col0\" class=\"data row0 col0\" >Mukherjee</td>\n",
              "      <td id=\"T_85239_row0_col1\" class=\"data row0 col1\" >Manager</td>\n",
              "      <td id=\"T_85239_row0_col2\" class=\"data row0 col2\" >40</td>\n",
              "    </tr>\n",
              "    <tr>\n",
              "      <td id=\"T_85239_row1_col0\" class=\"data row1 col0\" >Khan</td>\n",
              "      <td id=\"T_85239_row1_col1\" class=\"data row1 col1\" >Manager</td>\n",
              "      <td id=\"T_85239_row1_col2\" class=\"data row1 col2\" >20</td>\n",
              "    </tr>\n",
              "    <tr>\n",
              "      <td id=\"T_85239_row2_col0\" class=\"data row2 col0\" >Dravid</td>\n",
              "      <td id=\"T_85239_row2_col1\" class=\"data row2 col1\" >Sr Manager</td>\n",
              "      <td id=\"T_85239_row2_col2\" class=\"data row2 col2\" >30</td>\n",
              "    </tr>\n",
              "    <tr>\n",
              "      <td id=\"T_85239_row3_col0\" class=\"data row3 col0\" >Sunil</td>\n",
              "      <td id=\"T_85239_row3_col1\" class=\"data row3 col1\" >Dy Manager</td>\n",
              "      <td id=\"T_85239_row3_col2\" class=\"data row3 col2\" >70</td>\n",
              "    </tr>\n",
              "  </tbody>\n",
              "</table>\n"
            ]
          },
          "metadata": {},
          "execution_count": 32
        }
      ]
    },
    {
      "cell_type": "code",
      "source": [
        "runSelect(\"select lastname, jobdesc, deptid from empl where deptid = '70' or jobdesc like '%Manager' or lastname = 'Dikshit'\")"
      ],
      "metadata": {
        "colab": {
          "base_uri": "https://localhost:8080/",
          "height": 206
        },
        "id": "aR3eNz7xq8Xo",
        "outputId": "04f269ea-d6e9-497d-a53a-f8212d55754c"
      },
      "execution_count": 33,
      "outputs": [
        {
          "output_type": "execute_result",
          "data": {
            "text/plain": [
              "<pandas.io.formats.style.Styler at 0x782ef4f38430>"
            ],
            "text/html": [
              "<style type=\"text/css\">\n",
              "</style>\n",
              "<table id=\"T_a3812\" class=\"dataframe\">\n",
              "  <thead>\n",
              "    <tr>\n",
              "      <th id=\"T_a3812_level0_col0\" class=\"col_heading level0 col0\" >lastname</th>\n",
              "      <th id=\"T_a3812_level0_col1\" class=\"col_heading level0 col1\" >jobdesc</th>\n",
              "      <th id=\"T_a3812_level0_col2\" class=\"col_heading level0 col2\" >deptid</th>\n",
              "    </tr>\n",
              "  </thead>\n",
              "  <tbody>\n",
              "    <tr>\n",
              "      <td id=\"T_a3812_row0_col0\" class=\"data row0 col0\" >Mukherjee</td>\n",
              "      <td id=\"T_a3812_row0_col1\" class=\"data row0 col1\" >Manager</td>\n",
              "      <td id=\"T_a3812_row0_col2\" class=\"data row0 col2\" >40</td>\n",
              "    </tr>\n",
              "    <tr>\n",
              "      <td id=\"T_a3812_row1_col0\" class=\"data row1 col0\" >Dikshit</td>\n",
              "      <td id=\"T_a3812_row1_col1\" class=\"data row1 col1\" >Clerk</td>\n",
              "      <td id=\"T_a3812_row1_col2\" class=\"data row1 col2\" >20</td>\n",
              "    </tr>\n",
              "    <tr>\n",
              "      <td id=\"T_a3812_row2_col0\" class=\"data row2 col0\" >Khan</td>\n",
              "      <td id=\"T_a3812_row2_col1\" class=\"data row2 col1\" >Manager</td>\n",
              "      <td id=\"T_a3812_row2_col2\" class=\"data row2 col2\" >20</td>\n",
              "    </tr>\n",
              "    <tr>\n",
              "      <td id=\"T_a3812_row3_col0\" class=\"data row3 col0\" >Dravid</td>\n",
              "      <td id=\"T_a3812_row3_col1\" class=\"data row3 col1\" >Sr Manager</td>\n",
              "      <td id=\"T_a3812_row3_col2\" class=\"data row3 col2\" >30</td>\n",
              "    </tr>\n",
              "    <tr>\n",
              "      <td id=\"T_a3812_row4_col0\" class=\"data row4 col0\" >Sunil</td>\n",
              "      <td id=\"T_a3812_row4_col1\" class=\"data row4 col1\" >Dy Manager</td>\n",
              "      <td id=\"T_a3812_row4_col2\" class=\"data row4 col2\" >70</td>\n",
              "    </tr>\n",
              "  </tbody>\n",
              "</table>\n"
            ]
          },
          "metadata": {},
          "execution_count": 33
        }
      ]
    },
    {
      "cell_type": "code",
      "source": [
        "runSelect(\"select lastname, jobdesc, salary from empl where jobdesc = 'Cus_Rep' or jobdesc = 'Clerk' and salary < 16000\")"
      ],
      "metadata": {
        "colab": {
          "base_uri": "https://localhost:8080/",
          "height": 238
        },
        "id": "Ov0HErC0txm4",
        "outputId": "df601ef1-ee63-4e6c-fe2d-15f4b7456a78"
      },
      "execution_count": 34,
      "outputs": [
        {
          "output_type": "execute_result",
          "data": {
            "text/plain": [
              "<pandas.io.formats.style.Styler at 0x782ef4f38b50>"
            ],
            "text/html": [
              "<style type=\"text/css\">\n",
              "</style>\n",
              "<table id=\"T_b42f7\" class=\"dataframe\">\n",
              "  <thead>\n",
              "    <tr>\n",
              "      <th id=\"T_b42f7_level0_col0\" class=\"col_heading level0 col0\" >lastname</th>\n",
              "      <th id=\"T_b42f7_level0_col1\" class=\"col_heading level0 col1\" >jobdesc</th>\n",
              "      <th id=\"T_b42f7_level0_col2\" class=\"col_heading level0 col2\" >salary</th>\n",
              "    </tr>\n",
              "  </thead>\n",
              "  <tbody>\n",
              "    <tr>\n",
              "      <td id=\"T_b42f7_row0_col0\" class=\"data row0 col0\" >Dikshit</td>\n",
              "      <td id=\"T_b42f7_row0_col1\" class=\"data row0 col1\" >Clerk</td>\n",
              "      <td id=\"T_b42f7_row0_col2\" class=\"data row0 col2\" >10000</td>\n",
              "    </tr>\n",
              "    <tr>\n",
              "      <td id=\"T_b42f7_row1_col0\" class=\"data row1 col0\" >Sehwag</td>\n",
              "      <td id=\"T_b42f7_row1_col1\" class=\"data row1 col1\" >Cus_Rep</td>\n",
              "      <td id=\"T_b42f7_row1_col2\" class=\"data row1 col2\" >15000</td>\n",
              "    </tr>\n",
              "    <tr>\n",
              "      <td id=\"T_b42f7_row2_col0\" class=\"data row2 col0\" >Dhoni</td>\n",
              "      <td id=\"T_b42f7_row2_col1\" class=\"data row2 col1\" >Clerk</td>\n",
              "      <td id=\"T_b42f7_row2_col2\" class=\"data row2 col2\" >9000</td>\n",
              "    </tr>\n",
              "    <tr>\n",
              "      <td id=\"T_b42f7_row3_col0\" class=\"data row3 col0\" >Dalmia</td>\n",
              "      <td id=\"T_b42f7_row3_col1\" class=\"data row3 col1\" >Clerk</td>\n",
              "      <td id=\"T_b42f7_row3_col2\" class=\"data row3 col2\" >12000</td>\n",
              "    </tr>\n",
              "    <tr>\n",
              "      <td id=\"T_b42f7_row4_col0\" class=\"data row4 col0\" >Ganguly</td>\n",
              "      <td id=\"T_b42f7_row4_col1\" class=\"data row4 col1\" >Cus_Rep</td>\n",
              "      <td id=\"T_b42f7_row4_col2\" class=\"data row4 col2\" >20000</td>\n",
              "    </tr>\n",
              "    <tr>\n",
              "      <td id=\"T_b42f7_row5_col0\" class=\"data row5 col0\" >Mirza</td>\n",
              "      <td id=\"T_b42f7_row5_col1\" class=\"data row5 col1\" >Cus_Rep</td>\n",
              "      <td id=\"T_b42f7_row5_col2\" class=\"data row5 col2\" >25000</td>\n",
              "    </tr>\n",
              "  </tbody>\n",
              "</table>\n"
            ]
          },
          "metadata": {},
          "execution_count": 34
        }
      ]
    },
    {
      "cell_type": "code",
      "source": [
        "runSelect(\"select lastname, jobdesc, salary from empl where (jobdesc = 'Cus_Rep' or jobdesc = 'Clerk') and salary < 16000\")"
      ],
      "metadata": {
        "colab": {
          "base_uri": "https://localhost:8080/",
          "height": 175
        },
        "id": "g7hbzjdxuOt6",
        "outputId": "ccaeaa00-82fa-4969-d211-098d226b5c60"
      },
      "execution_count": 35,
      "outputs": [
        {
          "output_type": "execute_result",
          "data": {
            "text/plain": [
              "<pandas.io.formats.style.Styler at 0x782ef4f27d60>"
            ],
            "text/html": [
              "<style type=\"text/css\">\n",
              "</style>\n",
              "<table id=\"T_1c108\" class=\"dataframe\">\n",
              "  <thead>\n",
              "    <tr>\n",
              "      <th id=\"T_1c108_level0_col0\" class=\"col_heading level0 col0\" >lastname</th>\n",
              "      <th id=\"T_1c108_level0_col1\" class=\"col_heading level0 col1\" >jobdesc</th>\n",
              "      <th id=\"T_1c108_level0_col2\" class=\"col_heading level0 col2\" >salary</th>\n",
              "    </tr>\n",
              "  </thead>\n",
              "  <tbody>\n",
              "    <tr>\n",
              "      <td id=\"T_1c108_row0_col0\" class=\"data row0 col0\" >Dikshit</td>\n",
              "      <td id=\"T_1c108_row0_col1\" class=\"data row0 col1\" >Clerk</td>\n",
              "      <td id=\"T_1c108_row0_col2\" class=\"data row0 col2\" >10000</td>\n",
              "    </tr>\n",
              "    <tr>\n",
              "      <td id=\"T_1c108_row1_col0\" class=\"data row1 col0\" >Sehwag</td>\n",
              "      <td id=\"T_1c108_row1_col1\" class=\"data row1 col1\" >Cus_Rep</td>\n",
              "      <td id=\"T_1c108_row1_col2\" class=\"data row1 col2\" >15000</td>\n",
              "    </tr>\n",
              "    <tr>\n",
              "      <td id=\"T_1c108_row2_col0\" class=\"data row2 col0\" >Dhoni</td>\n",
              "      <td id=\"T_1c108_row2_col1\" class=\"data row2 col1\" >Clerk</td>\n",
              "      <td id=\"T_1c108_row2_col2\" class=\"data row2 col2\" >9000</td>\n",
              "    </tr>\n",
              "    <tr>\n",
              "      <td id=\"T_1c108_row3_col0\" class=\"data row3 col0\" >Dalmia</td>\n",
              "      <td id=\"T_1c108_row3_col1\" class=\"data row3 col1\" >Clerk</td>\n",
              "      <td id=\"T_1c108_row3_col2\" class=\"data row3 col2\" >12000</td>\n",
              "    </tr>\n",
              "  </tbody>\n",
              "</table>\n"
            ]
          },
          "metadata": {},
          "execution_count": 35
        }
      ]
    },
    {
      "cell_type": "markdown",
      "source": [
        "# Single Row Functions"
      ],
      "metadata": {
        "id": "ND-8LYQcxsG2"
      }
    },
    {
      "cell_type": "code",
      "source": [
        "runSelect(\"select lastname, deptid, salary, comm, salary+salary*comm payout from empl where deptid = '20'\")"
      ],
      "metadata": {
        "colab": {
          "base_uri": "https://localhost:8080/",
          "height": 143
        },
        "id": "s71weE_hyDwf",
        "outputId": "c8822cb7-f142-44f4-e5fb-5d2987c7ae15"
      },
      "execution_count": 36,
      "outputs": [
        {
          "output_type": "execute_result",
          "data": {
            "text/plain": [
              "<pandas.io.formats.style.Styler at 0x782ef4f25c00>"
            ],
            "text/html": [
              "<style type=\"text/css\">\n",
              "</style>\n",
              "<table id=\"T_57a81\" class=\"dataframe\">\n",
              "  <thead>\n",
              "    <tr>\n",
              "      <th id=\"T_57a81_level0_col0\" class=\"col_heading level0 col0\" >lastname</th>\n",
              "      <th id=\"T_57a81_level0_col1\" class=\"col_heading level0 col1\" >deptid</th>\n",
              "      <th id=\"T_57a81_level0_col2\" class=\"col_heading level0 col2\" >salary</th>\n",
              "      <th id=\"T_57a81_level0_col3\" class=\"col_heading level0 col3\" >comm</th>\n",
              "      <th id=\"T_57a81_level0_col4\" class=\"col_heading level0 col4\" >payout</th>\n",
              "    </tr>\n",
              "  </thead>\n",
              "  <tbody>\n",
              "    <tr>\n",
              "      <td id=\"T_57a81_row0_col0\" class=\"data row0 col0\" >Dikshit</td>\n",
              "      <td id=\"T_57a81_row0_col1\" class=\"data row0 col1\" >20</td>\n",
              "      <td id=\"T_57a81_row0_col2\" class=\"data row0 col2\" >10000</td>\n",
              "      <td id=\"T_57a81_row0_col3\" class=\"data row0 col3\" >0.02</td>\n",
              "      <td id=\"T_57a81_row0_col4\" class=\"data row0 col4\" >10200.00</td>\n",
              "    </tr>\n",
              "    <tr>\n",
              "      <td id=\"T_57a81_row1_col0\" class=\"data row1 col0\" >Khan</td>\n",
              "      <td id=\"T_57a81_row1_col1\" class=\"data row1 col1\" >20</td>\n",
              "      <td id=\"T_57a81_row1_col2\" class=\"data row1 col2\" >30000</td>\n",
              "      <td id=\"T_57a81_row1_col3\" class=\"data row1 col3\" >0.07</td>\n",
              "      <td id=\"T_57a81_row1_col4\" class=\"data row1 col4\" >32100.00</td>\n",
              "    </tr>\n",
              "    <tr>\n",
              "      <td id=\"T_57a81_row2_col0\" class=\"data row2 col0\" >Sehwag</td>\n",
              "      <td id=\"T_57a81_row2_col1\" class=\"data row2 col1\" >20</td>\n",
              "      <td id=\"T_57a81_row2_col2\" class=\"data row2 col2\" >15000</td>\n",
              "      <td id=\"T_57a81_row2_col3\" class=\"data row2 col3\" >0.05</td>\n",
              "      <td id=\"T_57a81_row2_col4\" class=\"data row2 col4\" >15750.00</td>\n",
              "    </tr>\n",
              "  </tbody>\n",
              "</table>\n"
            ]
          },
          "metadata": {},
          "execution_count": 36
        }
      ]
    },
    {
      "cell_type": "code",
      "source": [
        "runSelect(\"select lastname, firstname, deptid, substring(firstname,1,3) nick from empl where deptid = '20'\")"
      ],
      "metadata": {
        "colab": {
          "base_uri": "https://localhost:8080/",
          "height": 143
        },
        "id": "I3rkoZrYyb_P",
        "outputId": "9e7c99ac-9a79-45a7-97f9-ef7882edc19f"
      },
      "execution_count": 37,
      "outputs": [
        {
          "output_type": "execute_result",
          "data": {
            "text/plain": [
              "<pandas.io.formats.style.Styler at 0x782ef4f24e80>"
            ],
            "text/html": [
              "<style type=\"text/css\">\n",
              "</style>\n",
              "<table id=\"T_5d480\" class=\"dataframe\">\n",
              "  <thead>\n",
              "    <tr>\n",
              "      <th id=\"T_5d480_level0_col0\" class=\"col_heading level0 col0\" >lastname</th>\n",
              "      <th id=\"T_5d480_level0_col1\" class=\"col_heading level0 col1\" >firstname</th>\n",
              "      <th id=\"T_5d480_level0_col2\" class=\"col_heading level0 col2\" >deptid</th>\n",
              "      <th id=\"T_5d480_level0_col3\" class=\"col_heading level0 col3\" >nick</th>\n",
              "    </tr>\n",
              "  </thead>\n",
              "  <tbody>\n",
              "    <tr>\n",
              "      <td id=\"T_5d480_row0_col0\" class=\"data row0 col0\" >Dikshit</td>\n",
              "      <td id=\"T_5d480_row0_col1\" class=\"data row0 col1\" >Madhuri</td>\n",
              "      <td id=\"T_5d480_row0_col2\" class=\"data row0 col2\" >20</td>\n",
              "      <td id=\"T_5d480_row0_col3\" class=\"data row0 col3\" >Mad</td>\n",
              "    </tr>\n",
              "    <tr>\n",
              "      <td id=\"T_5d480_row1_col0\" class=\"data row1 col0\" >Khan</td>\n",
              "      <td id=\"T_5d480_row1_col1\" class=\"data row1 col1\" >Shahrukh</td>\n",
              "      <td id=\"T_5d480_row1_col2\" class=\"data row1 col2\" >20</td>\n",
              "      <td id=\"T_5d480_row1_col3\" class=\"data row1 col3\" >Sha</td>\n",
              "    </tr>\n",
              "    <tr>\n",
              "      <td id=\"T_5d480_row2_col0\" class=\"data row2 col0\" >Sehwag</td>\n",
              "      <td id=\"T_5d480_row2_col1\" class=\"data row2 col1\" >Virender</td>\n",
              "      <td id=\"T_5d480_row2_col2\" class=\"data row2 col2\" >20</td>\n",
              "      <td id=\"T_5d480_row2_col3\" class=\"data row2 col3\" >Vir</td>\n",
              "    </tr>\n",
              "  </tbody>\n",
              "</table>\n"
            ]
          },
          "metadata": {},
          "execution_count": 37
        }
      ]
    },
    {
      "cell_type": "code",
      "source": [
        "runSelect(\"select lastname, firstname, deptid, concat('\\\"',substring(firstname,2,3),'\\\" ',lastname) nick from empl where deptid = '20'\")"
      ],
      "metadata": {
        "colab": {
          "base_uri": "https://localhost:8080/",
          "height": 143
        },
        "id": "xNQl1KpSzIQc",
        "outputId": "bcc9c691-c4f3-4c42-d84a-19264f6d2d09"
      },
      "execution_count": 38,
      "outputs": [
        {
          "output_type": "execute_result",
          "data": {
            "text/plain": [
              "<pandas.io.formats.style.Styler at 0x782ef4f276a0>"
            ],
            "text/html": [
              "<style type=\"text/css\">\n",
              "</style>\n",
              "<table id=\"T_57967\" class=\"dataframe\">\n",
              "  <thead>\n",
              "    <tr>\n",
              "      <th id=\"T_57967_level0_col0\" class=\"col_heading level0 col0\" >lastname</th>\n",
              "      <th id=\"T_57967_level0_col1\" class=\"col_heading level0 col1\" >firstname</th>\n",
              "      <th id=\"T_57967_level0_col2\" class=\"col_heading level0 col2\" >deptid</th>\n",
              "      <th id=\"T_57967_level0_col3\" class=\"col_heading level0 col3\" >nick</th>\n",
              "    </tr>\n",
              "  </thead>\n",
              "  <tbody>\n",
              "    <tr>\n",
              "      <td id=\"T_57967_row0_col0\" class=\"data row0 col0\" >Dikshit</td>\n",
              "      <td id=\"T_57967_row0_col1\" class=\"data row0 col1\" >Madhuri</td>\n",
              "      <td id=\"T_57967_row0_col2\" class=\"data row0 col2\" >20</td>\n",
              "      <td id=\"T_57967_row0_col3\" class=\"data row0 col3\" >\"adh\" Dikshit</td>\n",
              "    </tr>\n",
              "    <tr>\n",
              "      <td id=\"T_57967_row1_col0\" class=\"data row1 col0\" >Khan</td>\n",
              "      <td id=\"T_57967_row1_col1\" class=\"data row1 col1\" >Shahrukh</td>\n",
              "      <td id=\"T_57967_row1_col2\" class=\"data row1 col2\" >20</td>\n",
              "      <td id=\"T_57967_row1_col3\" class=\"data row1 col3\" >\"hah\" Khan</td>\n",
              "    </tr>\n",
              "    <tr>\n",
              "      <td id=\"T_57967_row2_col0\" class=\"data row2 col0\" >Sehwag</td>\n",
              "      <td id=\"T_57967_row2_col1\" class=\"data row2 col1\" >Virender</td>\n",
              "      <td id=\"T_57967_row2_col2\" class=\"data row2 col2\" >20</td>\n",
              "      <td id=\"T_57967_row2_col3\" class=\"data row2 col3\" >\"ire\" Sehwag</td>\n",
              "    </tr>\n",
              "  </tbody>\n",
              "</table>\n"
            ]
          },
          "metadata": {},
          "execution_count": 38
        }
      ]
    },
    {
      "cell_type": "code",
      "source": [
        "runSelect(\"select LastName, Current_Date,JoinDate, to_char(JoinDate,'Day') JoinDay, to_char(JoinDate,'DD-mon-YY') JoinDate2, \\\n",
        "Current_Date-JoinDate DaysSince from Empl\")\n",
        "\n",
        "#https://blog.quest.com/exploring-postgres-date-formats-and-their-different-functions/\n"
      ],
      "metadata": {
        "id": "37Rjgkxz-BP0",
        "outputId": "f1ea3c74-3a30-4c9a-8f31-efd3febd101a",
        "colab": {
          "base_uri": "https://localhost:8080/",
          "height": 457
        }
      },
      "execution_count": 39,
      "outputs": [
        {
          "output_type": "execute_result",
          "data": {
            "text/plain": [
              "<pandas.io.formats.style.Styler at 0x782ef4f3b490>"
            ],
            "text/html": [
              "<style type=\"text/css\">\n",
              "</style>\n",
              "<table id=\"T_ebeb7\" class=\"dataframe\">\n",
              "  <thead>\n",
              "    <tr>\n",
              "      <th id=\"T_ebeb7_level0_col0\" class=\"col_heading level0 col0\" >lastname</th>\n",
              "      <th id=\"T_ebeb7_level0_col1\" class=\"col_heading level0 col1\" >current_date</th>\n",
              "      <th id=\"T_ebeb7_level0_col2\" class=\"col_heading level0 col2\" >joindate</th>\n",
              "      <th id=\"T_ebeb7_level0_col3\" class=\"col_heading level0 col3\" >joinday</th>\n",
              "      <th id=\"T_ebeb7_level0_col4\" class=\"col_heading level0 col4\" >joindate2</th>\n",
              "      <th id=\"T_ebeb7_level0_col5\" class=\"col_heading level0 col5\" >dayssince</th>\n",
              "    </tr>\n",
              "  </thead>\n",
              "  <tbody>\n",
              "    <tr>\n",
              "      <td id=\"T_ebeb7_row0_col0\" class=\"data row0 col0\" >Bacchan</td>\n",
              "      <td id=\"T_ebeb7_row0_col1\" class=\"data row0 col1\" >2024-08-07</td>\n",
              "      <td id=\"T_ebeb7_row0_col2\" class=\"data row0 col2\" >2003-03-10</td>\n",
              "      <td id=\"T_ebeb7_row0_col3\" class=\"data row0 col3\" >Monday   </td>\n",
              "      <td id=\"T_ebeb7_row0_col4\" class=\"data row0 col4\" >10-mar-03</td>\n",
              "      <td id=\"T_ebeb7_row0_col5\" class=\"data row0 col5\" >7821</td>\n",
              "    </tr>\n",
              "    <tr>\n",
              "      <td id=\"T_ebeb7_row1_col0\" class=\"data row1 col0\" >Mukherjee</td>\n",
              "      <td id=\"T_ebeb7_row1_col1\" class=\"data row1 col1\" >2024-08-07</td>\n",
              "      <td id=\"T_ebeb7_row1_col2\" class=\"data row1 col2\" >2005-05-04</td>\n",
              "      <td id=\"T_ebeb7_row1_col3\" class=\"data row1 col3\" >Wednesday</td>\n",
              "      <td id=\"T_ebeb7_row1_col4\" class=\"data row1 col4\" >04-may-05</td>\n",
              "      <td id=\"T_ebeb7_row1_col5\" class=\"data row1 col5\" >7035</td>\n",
              "    </tr>\n",
              "    <tr>\n",
              "      <td id=\"T_ebeb7_row2_col0\" class=\"data row2 col0\" >Dikshit</td>\n",
              "      <td id=\"T_ebeb7_row2_col1\" class=\"data row2 col1\" >2024-08-07</td>\n",
              "      <td id=\"T_ebeb7_row2_col2\" class=\"data row2 col2\" >2002-04-04</td>\n",
              "      <td id=\"T_ebeb7_row2_col3\" class=\"data row2 col3\" >Thursday </td>\n",
              "      <td id=\"T_ebeb7_row2_col4\" class=\"data row2 col4\" >04-apr-02</td>\n",
              "      <td id=\"T_ebeb7_row2_col5\" class=\"data row2 col5\" >8161</td>\n",
              "    </tr>\n",
              "    <tr>\n",
              "      <td id=\"T_ebeb7_row3_col0\" class=\"data row3 col0\" >Khan</td>\n",
              "      <td id=\"T_ebeb7_row3_col1\" class=\"data row3 col1\" >2024-08-07</td>\n",
              "      <td id=\"T_ebeb7_row3_col2\" class=\"data row3 col2\" >2004-01-03</td>\n",
              "      <td id=\"T_ebeb7_row3_col3\" class=\"data row3 col3\" >Saturday </td>\n",
              "      <td id=\"T_ebeb7_row3_col4\" class=\"data row3 col4\" >03-jan-04</td>\n",
              "      <td id=\"T_ebeb7_row3_col5\" class=\"data row3 col5\" >7522</td>\n",
              "    </tr>\n",
              "    <tr>\n",
              "      <td id=\"T_ebeb7_row4_col0\" class=\"data row4 col0\" >Sehwag</td>\n",
              "      <td id=\"T_ebeb7_row4_col1\" class=\"data row4 col1\" >2024-08-07</td>\n",
              "      <td id=\"T_ebeb7_row4_col2\" class=\"data row4 col2\" >2005-01-02</td>\n",
              "      <td id=\"T_ebeb7_row4_col3\" class=\"data row4 col3\" >Sunday   </td>\n",
              "      <td id=\"T_ebeb7_row4_col4\" class=\"data row4 col4\" >02-jan-05</td>\n",
              "      <td id=\"T_ebeb7_row4_col5\" class=\"data row4 col5\" >7157</td>\n",
              "    </tr>\n",
              "    <tr>\n",
              "      <td id=\"T_ebeb7_row5_col0\" class=\"data row5 col0\" >Dhoni</td>\n",
              "      <td id=\"T_ebeb7_row5_col1\" class=\"data row5 col1\" >2024-08-07</td>\n",
              "      <td id=\"T_ebeb7_row5_col2\" class=\"data row5 col2\" >2004-10-09</td>\n",
              "      <td id=\"T_ebeb7_row5_col3\" class=\"data row5 col3\" >Saturday </td>\n",
              "      <td id=\"T_ebeb7_row5_col4\" class=\"data row5 col4\" >09-oct-04</td>\n",
              "      <td id=\"T_ebeb7_row5_col5\" class=\"data row5 col5\" >7242</td>\n",
              "    </tr>\n",
              "    <tr>\n",
              "      <td id=\"T_ebeb7_row6_col0\" class=\"data row6 col0\" >Dravid</td>\n",
              "      <td id=\"T_ebeb7_row6_col1\" class=\"data row6 col1\" >2024-08-07</td>\n",
              "      <td id=\"T_ebeb7_row6_col2\" class=\"data row6 col2\" >2000-06-04</td>\n",
              "      <td id=\"T_ebeb7_row6_col3\" class=\"data row6 col3\" >Sunday   </td>\n",
              "      <td id=\"T_ebeb7_row6_col4\" class=\"data row6 col4\" >04-jun-00</td>\n",
              "      <td id=\"T_ebeb7_row6_col5\" class=\"data row6 col5\" >8830</td>\n",
              "    </tr>\n",
              "    <tr>\n",
              "      <td id=\"T_ebeb7_row7_col0\" class=\"data row7 col0\" >Dalmia</td>\n",
              "      <td id=\"T_ebeb7_row7_col1\" class=\"data row7 col1\" >2024-08-07</td>\n",
              "      <td id=\"T_ebeb7_row7_col2\" class=\"data row7 col2\" >2001-07-01</td>\n",
              "      <td id=\"T_ebeb7_row7_col3\" class=\"data row7 col3\" >Sunday   </td>\n",
              "      <td id=\"T_ebeb7_row7_col4\" class=\"data row7 col4\" >01-jul-01</td>\n",
              "      <td id=\"T_ebeb7_row7_col5\" class=\"data row7 col5\" >8438</td>\n",
              "    </tr>\n",
              "    <tr>\n",
              "      <td id=\"T_ebeb7_row8_col0\" class=\"data row8 col0\" >Ganguly</td>\n",
              "      <td id=\"T_ebeb7_row8_col1\" class=\"data row8 col1\" >2024-08-07</td>\n",
              "      <td id=\"T_ebeb7_row8_col2\" class=\"data row8 col2\" >2002-01-01</td>\n",
              "      <td id=\"T_ebeb7_row8_col3\" class=\"data row8 col3\" >Tuesday  </td>\n",
              "      <td id=\"T_ebeb7_row8_col4\" class=\"data row8 col4\" >01-jan-02</td>\n",
              "      <td id=\"T_ebeb7_row8_col5\" class=\"data row8 col5\" >8254</td>\n",
              "    </tr>\n",
              "    <tr>\n",
              "      <td id=\"T_ebeb7_row9_col0\" class=\"data row9 col0\" >Ganesan</td>\n",
              "      <td id=\"T_ebeb7_row9_col1\" class=\"data row9 col1\" >2024-08-07</td>\n",
              "      <td id=\"T_ebeb7_row9_col2\" class=\"data row9 col2\" >2002-10-10</td>\n",
              "      <td id=\"T_ebeb7_row9_col3\" class=\"data row9 col3\" >Thursday </td>\n",
              "      <td id=\"T_ebeb7_row9_col4\" class=\"data row9 col4\" >10-oct-02</td>\n",
              "      <td id=\"T_ebeb7_row9_col5\" class=\"data row9 col5\" >7972</td>\n",
              "    </tr>\n",
              "    <tr>\n",
              "      <td id=\"T_ebeb7_row10_col0\" class=\"data row10 col0\" >Karthikeyan</td>\n",
              "      <td id=\"T_ebeb7_row10_col1\" class=\"data row10 col1\" >2024-08-07</td>\n",
              "      <td id=\"T_ebeb7_row10_col2\" class=\"data row10 col2\" >2005-12-04</td>\n",
              "      <td id=\"T_ebeb7_row10_col3\" class=\"data row10 col3\" >Sunday   </td>\n",
              "      <td id=\"T_ebeb7_row10_col4\" class=\"data row10 col4\" >04-dec-05</td>\n",
              "      <td id=\"T_ebeb7_row10_col5\" class=\"data row10 col5\" >6821</td>\n",
              "    </tr>\n",
              "    <tr>\n",
              "      <td id=\"T_ebeb7_row11_col0\" class=\"data row11 col0\" >Sunil</td>\n",
              "      <td id=\"T_ebeb7_row11_col1\" class=\"data row11 col1\" >2024-08-07</td>\n",
              "      <td id=\"T_ebeb7_row11_col2\" class=\"data row11 col2\" >2006-12-07</td>\n",
              "      <td id=\"T_ebeb7_row11_col3\" class=\"data row11 col3\" >Thursday </td>\n",
              "      <td id=\"T_ebeb7_row11_col4\" class=\"data row11 col4\" >07-dec-06</td>\n",
              "      <td id=\"T_ebeb7_row11_col5\" class=\"data row11 col5\" >6453</td>\n",
              "    </tr>\n",
              "    <tr>\n",
              "      <td id=\"T_ebeb7_row12_col0\" class=\"data row12 col0\" >Mirza</td>\n",
              "      <td id=\"T_ebeb7_row12_col1\" class=\"data row12 col1\" >2024-08-07</td>\n",
              "      <td id=\"T_ebeb7_row12_col2\" class=\"data row12 col2\" >2001-11-19</td>\n",
              "      <td id=\"T_ebeb7_row12_col3\" class=\"data row12 col3\" >Monday   </td>\n",
              "      <td id=\"T_ebeb7_row12_col4\" class=\"data row12 col4\" >19-nov-01</td>\n",
              "      <td id=\"T_ebeb7_row12_col5\" class=\"data row12 col5\" >8297</td>\n",
              "    </tr>\n",
              "  </tbody>\n",
              "</table>\n"
            ]
          },
          "metadata": {},
          "execution_count": 39
        }
      ]
    },
    {
      "cell_type": "markdown",
      "source": [
        "# MultiRow Function | Group By | Having\n",
        "for more complex examples that demonstrate Grouping Sets, Cubes, Roll UP, Crosstabs and other OLAP related SQL see [this notebook](https://github.com/Praxis-QR/RDWH/blob/main/PostgreSQL_03B_SQL_Level2.ipynb)"
      ],
      "metadata": {
        "id": "ONgFWUTC2IPK"
      }
    },
    {
      "cell_type": "code",
      "source": [
        "runSelect(\"select sum(salary) Total_Salary from empl\")"
      ],
      "metadata": {
        "colab": {
          "base_uri": "https://localhost:8080/",
          "height": 81
        },
        "id": "7MnnzfJx2PSc",
        "outputId": "7ffb1fc5-9336-479f-9636-dfb3640051d8"
      },
      "execution_count": 40,
      "outputs": [
        {
          "output_type": "execute_result",
          "data": {
            "text/plain": [
              "<pandas.io.formats.style.Styler at 0x782ef4f3b940>"
            ],
            "text/html": [
              "<style type=\"text/css\">\n",
              "</style>\n",
              "<table id=\"T_bd095\" class=\"dataframe\">\n",
              "  <thead>\n",
              "    <tr>\n",
              "      <th id=\"T_bd095_level0_col0\" class=\"col_heading level0 col0\" >total_salary</th>\n",
              "    </tr>\n",
              "  </thead>\n",
              "  <tbody>\n",
              "    <tr>\n",
              "      <td id=\"T_bd095_row0_col0\" class=\"data row0 col0\" >376000</td>\n",
              "    </tr>\n",
              "  </tbody>\n",
              "</table>\n"
            ]
          },
          "metadata": {},
          "execution_count": 40
        }
      ]
    },
    {
      "cell_type": "code",
      "source": [
        "runSelect(\"select round(avg(salary),2) Average_Salary from empl\")"
      ],
      "metadata": {
        "colab": {
          "base_uri": "https://localhost:8080/",
          "height": 81
        },
        "id": "e3Avb-HL4QPD",
        "outputId": "76ff271c-c789-4ee5-af01-9c4e52868a04"
      },
      "execution_count": 41,
      "outputs": [
        {
          "output_type": "execute_result",
          "data": {
            "text/plain": [
              "<pandas.io.formats.style.Styler at 0x782ef4f3bc70>"
            ],
            "text/html": [
              "<style type=\"text/css\">\n",
              "</style>\n",
              "<table id=\"T_9fb1c\" class=\"dataframe\">\n",
              "  <thead>\n",
              "    <tr>\n",
              "      <th id=\"T_9fb1c_level0_col0\" class=\"col_heading level0 col0\" >average_salary</th>\n",
              "    </tr>\n",
              "  </thead>\n",
              "  <tbody>\n",
              "    <tr>\n",
              "      <td id=\"T_9fb1c_row0_col0\" class=\"data row0 col0\" >28923.08</td>\n",
              "    </tr>\n",
              "  </tbody>\n",
              "</table>\n"
            ]
          },
          "metadata": {},
          "execution_count": 41
        }
      ]
    },
    {
      "cell_type": "code",
      "source": [
        "runSelect(\"select max(salary) Max_Salary from empl\")"
      ],
      "metadata": {
        "colab": {
          "base_uri": "https://localhost:8080/",
          "height": 81
        },
        "id": "Oe1qRQbI4gtY",
        "outputId": "1a658de2-a7d7-48bf-d541-590fd6035c7b"
      },
      "execution_count": 42,
      "outputs": [
        {
          "output_type": "execute_result",
          "data": {
            "text/plain": [
              "<pandas.io.formats.style.Styler at 0x782ef4f38d90>"
            ],
            "text/html": [
              "<style type=\"text/css\">\n",
              "</style>\n",
              "<table id=\"T_e5220\" class=\"dataframe\">\n",
              "  <thead>\n",
              "    <tr>\n",
              "      <th id=\"T_e5220_level0_col0\" class=\"col_heading level0 col0\" >max_salary</th>\n",
              "    </tr>\n",
              "  </thead>\n",
              "  <tbody>\n",
              "    <tr>\n",
              "      <td id=\"T_e5220_row0_col0\" class=\"data row0 col0\" >60000</td>\n",
              "    </tr>\n",
              "  </tbody>\n",
              "</table>\n"
            ]
          },
          "metadata": {},
          "execution_count": 42
        }
      ]
    },
    {
      "cell_type": "code",
      "source": [
        "runSelect(\"select deptid, sum(salary) Total, max(salary) Max from empl group by deptid\")"
      ],
      "metadata": {
        "colab": {
          "base_uri": "https://localhost:8080/",
          "height": 206
        },
        "id": "xpmGXSAX69iU",
        "outputId": "213777aa-b89d-4811-88fc-79f658b335a3"
      },
      "execution_count": 43,
      "outputs": [
        {
          "output_type": "execute_result",
          "data": {
            "text/plain": [
              "<pandas.io.formats.style.Styler at 0x782ef4f5dd80>"
            ],
            "text/html": [
              "<style type=\"text/css\">\n",
              "</style>\n",
              "<table id=\"T_fa63b\" class=\"dataframe\">\n",
              "  <thead>\n",
              "    <tr>\n",
              "      <th id=\"T_fa63b_level0_col0\" class=\"col_heading level0 col0\" >deptid</th>\n",
              "      <th id=\"T_fa63b_level0_col1\" class=\"col_heading level0 col1\" >total</th>\n",
              "      <th id=\"T_fa63b_level0_col2\" class=\"col_heading level0 col2\" >max</th>\n",
              "    </tr>\n",
              "  </thead>\n",
              "  <tbody>\n",
              "    <tr>\n",
              "      <td id=\"T_fa63b_row0_col0\" class=\"data row0 col0\" >10</td>\n",
              "      <td id=\"T_fa63b_row0_col1\" class=\"data row0 col1\" >150000</td>\n",
              "      <td id=\"T_fa63b_row0_col2\" class=\"data row0 col2\" >60000</td>\n",
              "    </tr>\n",
              "    <tr>\n",
              "      <td id=\"T_fa63b_row1_col0\" class=\"data row1 col0\" >40</td>\n",
              "      <td id=\"T_fa63b_row1_col1\" class=\"data row1 col1\" >54000</td>\n",
              "      <td id=\"T_fa63b_row1_col2\" class=\"data row1 col2\" >25000</td>\n",
              "    </tr>\n",
              "    <tr>\n",
              "      <td id=\"T_fa63b_row2_col0\" class=\"data row2 col0\" >70</td>\n",
              "      <td id=\"T_fa63b_row2_col1\" class=\"data row2 col1\" >40000</td>\n",
              "      <td id=\"T_fa63b_row2_col2\" class=\"data row2 col2\" >40000</td>\n",
              "    </tr>\n",
              "    <tr>\n",
              "      <td id=\"T_fa63b_row3_col0\" class=\"data row3 col0\" >20</td>\n",
              "      <td id=\"T_fa63b_row3_col1\" class=\"data row3 col1\" >55000</td>\n",
              "      <td id=\"T_fa63b_row3_col2\" class=\"data row3 col2\" >30000</td>\n",
              "    </tr>\n",
              "    <tr>\n",
              "      <td id=\"T_fa63b_row4_col0\" class=\"data row4 col0\" >30</td>\n",
              "      <td id=\"T_fa63b_row4_col1\" class=\"data row4 col1\" >77000</td>\n",
              "      <td id=\"T_fa63b_row4_col2\" class=\"data row4 col2\" >40000</td>\n",
              "    </tr>\n",
              "  </tbody>\n",
              "</table>\n"
            ]
          },
          "metadata": {},
          "execution_count": 43
        }
      ]
    },
    {
      "cell_type": "code",
      "source": [
        "runSelect(\"select deptid, sum(salary) Total, max(salary) Max from empl group by deptid having sum(salary) > 50000\")"
      ],
      "metadata": {
        "colab": {
          "base_uri": "https://localhost:8080/",
          "height": 175
        },
        "id": "AdNDutZl7LCF",
        "outputId": "5b7e5b5b-f0c1-4b40-a5a0-6b750d52f47d"
      },
      "execution_count": 44,
      "outputs": [
        {
          "output_type": "execute_result",
          "data": {
            "text/plain": [
              "<pandas.io.formats.style.Styler at 0x782ef4f38250>"
            ],
            "text/html": [
              "<style type=\"text/css\">\n",
              "</style>\n",
              "<table id=\"T_e6396\" class=\"dataframe\">\n",
              "  <thead>\n",
              "    <tr>\n",
              "      <th id=\"T_e6396_level0_col0\" class=\"col_heading level0 col0\" >deptid</th>\n",
              "      <th id=\"T_e6396_level0_col1\" class=\"col_heading level0 col1\" >total</th>\n",
              "      <th id=\"T_e6396_level0_col2\" class=\"col_heading level0 col2\" >max</th>\n",
              "    </tr>\n",
              "  </thead>\n",
              "  <tbody>\n",
              "    <tr>\n",
              "      <td id=\"T_e6396_row0_col0\" class=\"data row0 col0\" >10</td>\n",
              "      <td id=\"T_e6396_row0_col1\" class=\"data row0 col1\" >150000</td>\n",
              "      <td id=\"T_e6396_row0_col2\" class=\"data row0 col2\" >60000</td>\n",
              "    </tr>\n",
              "    <tr>\n",
              "      <td id=\"T_e6396_row1_col0\" class=\"data row1 col0\" >40</td>\n",
              "      <td id=\"T_e6396_row1_col1\" class=\"data row1 col1\" >54000</td>\n",
              "      <td id=\"T_e6396_row1_col2\" class=\"data row1 col2\" >25000</td>\n",
              "    </tr>\n",
              "    <tr>\n",
              "      <td id=\"T_e6396_row2_col0\" class=\"data row2 col0\" >20</td>\n",
              "      <td id=\"T_e6396_row2_col1\" class=\"data row2 col1\" >55000</td>\n",
              "      <td id=\"T_e6396_row2_col2\" class=\"data row2 col2\" >30000</td>\n",
              "    </tr>\n",
              "    <tr>\n",
              "      <td id=\"T_e6396_row3_col0\" class=\"data row3 col0\" >30</td>\n",
              "      <td id=\"T_e6396_row3_col1\" class=\"data row3 col1\" >77000</td>\n",
              "      <td id=\"T_e6396_row3_col2\" class=\"data row3 col2\" >40000</td>\n",
              "    </tr>\n",
              "  </tbody>\n",
              "</table>\n"
            ]
          },
          "metadata": {},
          "execution_count": 44
        }
      ]
    },
    {
      "cell_type": "code",
      "source": [
        "runSelect(\"select deptid, sum(salary) Total, max(salary) Max from empl group by deptid having sum(salary) > 50000 and max(salary) < 35000\")"
      ],
      "metadata": {
        "colab": {
          "base_uri": "https://localhost:8080/",
          "height": 112
        },
        "id": "4VFmL5JF7bYo",
        "outputId": "d80520b1-47d2-4c2c-8575-d152bf9d2ac8"
      },
      "execution_count": 45,
      "outputs": [
        {
          "output_type": "execute_result",
          "data": {
            "text/plain": [
              "<pandas.io.formats.style.Styler at 0x782ef4f5ed40>"
            ],
            "text/html": [
              "<style type=\"text/css\">\n",
              "</style>\n",
              "<table id=\"T_e1da3\" class=\"dataframe\">\n",
              "  <thead>\n",
              "    <tr>\n",
              "      <th id=\"T_e1da3_level0_col0\" class=\"col_heading level0 col0\" >deptid</th>\n",
              "      <th id=\"T_e1da3_level0_col1\" class=\"col_heading level0 col1\" >total</th>\n",
              "      <th id=\"T_e1da3_level0_col2\" class=\"col_heading level0 col2\" >max</th>\n",
              "    </tr>\n",
              "  </thead>\n",
              "  <tbody>\n",
              "    <tr>\n",
              "      <td id=\"T_e1da3_row0_col0\" class=\"data row0 col0\" >40</td>\n",
              "      <td id=\"T_e1da3_row0_col1\" class=\"data row0 col1\" >54000</td>\n",
              "      <td id=\"T_e1da3_row0_col2\" class=\"data row0 col2\" >25000</td>\n",
              "    </tr>\n",
              "    <tr>\n",
              "      <td id=\"T_e1da3_row1_col0\" class=\"data row1 col0\" >20</td>\n",
              "      <td id=\"T_e1da3_row1_col1\" class=\"data row1 col1\" >55000</td>\n",
              "      <td id=\"T_e1da3_row1_col2\" class=\"data row1 col2\" >30000</td>\n",
              "    </tr>\n",
              "  </tbody>\n",
              "</table>\n"
            ]
          },
          "metadata": {},
          "execution_count": 45
        }
      ]
    },
    {
      "cell_type": "markdown",
      "source": [
        "#Conditionals | CASE"
      ],
      "metadata": {
        "id": "xDsapsK8Afpj"
      }
    },
    {
      "cell_type": "code",
      "source": [
        "runSelect(\"select lastname, jobdesc, salary, comm, salary+salary*comm Payout,\\\n",
        "case when jobdesc like '%Manager' then 2000 else 0 end bonus from empl\")"
      ],
      "metadata": {
        "colab": {
          "base_uri": "https://localhost:8080/",
          "height": 457
        },
        "id": "bYRWDlVNAxKx",
        "outputId": "14038aab-b5e3-4150-ee3e-421ebbd628e1"
      },
      "execution_count": 46,
      "outputs": [
        {
          "output_type": "execute_result",
          "data": {
            "text/plain": [
              "<pandas.io.formats.style.Styler at 0x782ef4f5fd00>"
            ],
            "text/html": [
              "<style type=\"text/css\">\n",
              "</style>\n",
              "<table id=\"T_c1887\" class=\"dataframe\">\n",
              "  <thead>\n",
              "    <tr>\n",
              "      <th id=\"T_c1887_level0_col0\" class=\"col_heading level0 col0\" >lastname</th>\n",
              "      <th id=\"T_c1887_level0_col1\" class=\"col_heading level0 col1\" >jobdesc</th>\n",
              "      <th id=\"T_c1887_level0_col2\" class=\"col_heading level0 col2\" >salary</th>\n",
              "      <th id=\"T_c1887_level0_col3\" class=\"col_heading level0 col3\" >comm</th>\n",
              "      <th id=\"T_c1887_level0_col4\" class=\"col_heading level0 col4\" >payout</th>\n",
              "      <th id=\"T_c1887_level0_col5\" class=\"col_heading level0 col5\" >bonus</th>\n",
              "    </tr>\n",
              "  </thead>\n",
              "  <tbody>\n",
              "    <tr>\n",
              "      <td id=\"T_c1887_row0_col0\" class=\"data row0 col0\" >Bacchan</td>\n",
              "      <td id=\"T_c1887_row0_col1\" class=\"data row0 col1\" >Executive</td>\n",
              "      <td id=\"T_c1887_row0_col2\" class=\"data row0 col2\" >50000</td>\n",
              "      <td id=\"T_c1887_row0_col3\" class=\"data row0 col3\" >0.10</td>\n",
              "      <td id=\"T_c1887_row0_col4\" class=\"data row0 col4\" >55000.00</td>\n",
              "      <td id=\"T_c1887_row0_col5\" class=\"data row0 col5\" >0</td>\n",
              "    </tr>\n",
              "    <tr>\n",
              "      <td id=\"T_c1887_row1_col0\" class=\"data row1 col0\" >Mukherjee</td>\n",
              "      <td id=\"T_c1887_row1_col1\" class=\"data row1 col1\" >Manager</td>\n",
              "      <td id=\"T_c1887_row1_col2\" class=\"data row1 col2\" >25000</td>\n",
              "      <td id=\"T_c1887_row1_col3\" class=\"data row1 col3\" >0.06</td>\n",
              "      <td id=\"T_c1887_row1_col4\" class=\"data row1 col4\" >26500.00</td>\n",
              "      <td id=\"T_c1887_row1_col5\" class=\"data row1 col5\" >2000</td>\n",
              "    </tr>\n",
              "    <tr>\n",
              "      <td id=\"T_c1887_row2_col0\" class=\"data row2 col0\" >Dikshit</td>\n",
              "      <td id=\"T_c1887_row2_col1\" class=\"data row2 col1\" >Clerk</td>\n",
              "      <td id=\"T_c1887_row2_col2\" class=\"data row2 col2\" >10000</td>\n",
              "      <td id=\"T_c1887_row2_col3\" class=\"data row2 col3\" >0.02</td>\n",
              "      <td id=\"T_c1887_row2_col4\" class=\"data row2 col4\" >10200.00</td>\n",
              "      <td id=\"T_c1887_row2_col5\" class=\"data row2 col5\" >0</td>\n",
              "    </tr>\n",
              "    <tr>\n",
              "      <td id=\"T_c1887_row3_col0\" class=\"data row3 col0\" >Khan</td>\n",
              "      <td id=\"T_c1887_row3_col1\" class=\"data row3 col1\" >Manager</td>\n",
              "      <td id=\"T_c1887_row3_col2\" class=\"data row3 col2\" >30000</td>\n",
              "      <td id=\"T_c1887_row3_col3\" class=\"data row3 col3\" >0.07</td>\n",
              "      <td id=\"T_c1887_row3_col4\" class=\"data row3 col4\" >32100.00</td>\n",
              "      <td id=\"T_c1887_row3_col5\" class=\"data row3 col5\" >2000</td>\n",
              "    </tr>\n",
              "    <tr>\n",
              "      <td id=\"T_c1887_row4_col0\" class=\"data row4 col0\" >Sehwag</td>\n",
              "      <td id=\"T_c1887_row4_col1\" class=\"data row4 col1\" >Cus_Rep</td>\n",
              "      <td id=\"T_c1887_row4_col2\" class=\"data row4 col2\" >15000</td>\n",
              "      <td id=\"T_c1887_row4_col3\" class=\"data row4 col3\" >0.05</td>\n",
              "      <td id=\"T_c1887_row4_col4\" class=\"data row4 col4\" >15750.00</td>\n",
              "      <td id=\"T_c1887_row4_col5\" class=\"data row4 col5\" >0</td>\n",
              "    </tr>\n",
              "    <tr>\n",
              "      <td id=\"T_c1887_row5_col0\" class=\"data row5 col0\" >Dhoni</td>\n",
              "      <td id=\"T_c1887_row5_col1\" class=\"data row5 col1\" >Clerk</td>\n",
              "      <td id=\"T_c1887_row5_col2\" class=\"data row5 col2\" >9000</td>\n",
              "      <td id=\"T_c1887_row5_col3\" class=\"data row5 col3\" >0.02</td>\n",
              "      <td id=\"T_c1887_row5_col4\" class=\"data row5 col4\" >9180.00</td>\n",
              "      <td id=\"T_c1887_row5_col5\" class=\"data row5 col5\" >0</td>\n",
              "    </tr>\n",
              "    <tr>\n",
              "      <td id=\"T_c1887_row6_col0\" class=\"data row6 col0\" >Dravid</td>\n",
              "      <td id=\"T_c1887_row6_col1\" class=\"data row6 col1\" >Sr Manager</td>\n",
              "      <td id=\"T_c1887_row6_col2\" class=\"data row6 col2\" >40000</td>\n",
              "      <td id=\"T_c1887_row6_col3\" class=\"data row6 col3\" >0.08</td>\n",
              "      <td id=\"T_c1887_row6_col4\" class=\"data row6 col4\" >43200.00</td>\n",
              "      <td id=\"T_c1887_row6_col5\" class=\"data row6 col5\" >2000</td>\n",
              "    </tr>\n",
              "    <tr>\n",
              "      <td id=\"T_c1887_row7_col0\" class=\"data row7 col0\" >Dalmia</td>\n",
              "      <td id=\"T_c1887_row7_col1\" class=\"data row7 col1\" >Clerk</td>\n",
              "      <td id=\"T_c1887_row7_col2\" class=\"data row7 col2\" >12000</td>\n",
              "      <td id=\"T_c1887_row7_col3\" class=\"data row7 col3\" >0.02</td>\n",
              "      <td id=\"T_c1887_row7_col4\" class=\"data row7 col4\" >12240.00</td>\n",
              "      <td id=\"T_c1887_row7_col5\" class=\"data row7 col5\" >0</td>\n",
              "    </tr>\n",
              "    <tr>\n",
              "      <td id=\"T_c1887_row8_col0\" class=\"data row8 col0\" >Ganguly</td>\n",
              "      <td id=\"T_c1887_row8_col1\" class=\"data row8 col1\" >Cus_Rep</td>\n",
              "      <td id=\"T_c1887_row8_col2\" class=\"data row8 col2\" >20000</td>\n",
              "      <td id=\"T_c1887_row8_col3\" class=\"data row8 col3\" >0.03</td>\n",
              "      <td id=\"T_c1887_row8_col4\" class=\"data row8 col4\" >20600.00</td>\n",
              "      <td id=\"T_c1887_row8_col5\" class=\"data row8 col5\" >0</td>\n",
              "    </tr>\n",
              "    <tr>\n",
              "      <td id=\"T_c1887_row9_col0\" class=\"data row9 col0\" >Ganesan</td>\n",
              "      <td id=\"T_c1887_row9_col1\" class=\"data row9 col1\" >Director</td>\n",
              "      <td id=\"T_c1887_row9_col2\" class=\"data row9 col2\" >60000</td>\n",
              "      <td id=\"T_c1887_row9_col3\" class=\"data row9 col3\" >0.11</td>\n",
              "      <td id=\"T_c1887_row9_col4\" class=\"data row9 col4\" >66600.00</td>\n",
              "      <td id=\"T_c1887_row9_col5\" class=\"data row9 col5\" >0</td>\n",
              "    </tr>\n",
              "    <tr>\n",
              "      <td id=\"T_c1887_row10_col0\" class=\"data row10 col0\" >Karthikeyan</td>\n",
              "      <td id=\"T_c1887_row10_col1\" class=\"data row10 col1\" >Secretary</td>\n",
              "      <td id=\"T_c1887_row10_col2\" class=\"data row10 col2\" >40000</td>\n",
              "      <td id=\"T_c1887_row10_col3\" class=\"data row10 col3\" >0.09</td>\n",
              "      <td id=\"T_c1887_row10_col4\" class=\"data row10 col4\" >43600.00</td>\n",
              "      <td id=\"T_c1887_row10_col5\" class=\"data row10 col5\" >0</td>\n",
              "    </tr>\n",
              "    <tr>\n",
              "      <td id=\"T_c1887_row11_col0\" class=\"data row11 col0\" >Sunil</td>\n",
              "      <td id=\"T_c1887_row11_col1\" class=\"data row11 col1\" >Dy Manager</td>\n",
              "      <td id=\"T_c1887_row11_col2\" class=\"data row11 col2\" >40000</td>\n",
              "      <td id=\"T_c1887_row11_col3\" class=\"data row11 col3\" >0.05</td>\n",
              "      <td id=\"T_c1887_row11_col4\" class=\"data row11 col4\" >42000.00</td>\n",
              "      <td id=\"T_c1887_row11_col5\" class=\"data row11 col5\" >2000</td>\n",
              "    </tr>\n",
              "    <tr>\n",
              "      <td id=\"T_c1887_row12_col0\" class=\"data row12 col0\" >Mirza</td>\n",
              "      <td id=\"T_c1887_row12_col1\" class=\"data row12 col1\" >Cus_Rep</td>\n",
              "      <td id=\"T_c1887_row12_col2\" class=\"data row12 col2\" >25000</td>\n",
              "      <td id=\"T_c1887_row12_col3\" class=\"data row12 col3\" >0.04</td>\n",
              "      <td id=\"T_c1887_row12_col4\" class=\"data row12 col4\" >26000.00</td>\n",
              "      <td id=\"T_c1887_row12_col5\" class=\"data row12 col5\" >0</td>\n",
              "    </tr>\n",
              "  </tbody>\n",
              "</table>\n"
            ]
          },
          "metadata": {},
          "execution_count": 46
        }
      ]
    },
    {
      "cell_type": "code",
      "source": [
        "runSelect(\"select lastname, deptid,\\\n",
        "case \\\n",
        "when deptid in ('10','20') then 'Head' \\\n",
        "when deptid = '30' then 'Regional'\\\n",
        "else 'Branch' \\\n",
        "end \\\n",
        " office from empl\")"
      ],
      "metadata": {
        "colab": {
          "base_uri": "https://localhost:8080/",
          "height": 457
        },
        "id": "jbpKn1y0DwYG",
        "outputId": "e449a1b8-7cdd-49dc-b63d-375dbd434148"
      },
      "execution_count": 47,
      "outputs": [
        {
          "output_type": "execute_result",
          "data": {
            "text/plain": [
              "<pandas.io.formats.style.Styler at 0x782ef4f38220>"
            ],
            "text/html": [
              "<style type=\"text/css\">\n",
              "</style>\n",
              "<table id=\"T_9fb11\" class=\"dataframe\">\n",
              "  <thead>\n",
              "    <tr>\n",
              "      <th id=\"T_9fb11_level0_col0\" class=\"col_heading level0 col0\" >lastname</th>\n",
              "      <th id=\"T_9fb11_level0_col1\" class=\"col_heading level0 col1\" >deptid</th>\n",
              "      <th id=\"T_9fb11_level0_col2\" class=\"col_heading level0 col2\" >office</th>\n",
              "    </tr>\n",
              "  </thead>\n",
              "  <tbody>\n",
              "    <tr>\n",
              "      <td id=\"T_9fb11_row0_col0\" class=\"data row0 col0\" >Bacchan</td>\n",
              "      <td id=\"T_9fb11_row0_col1\" class=\"data row0 col1\" >10</td>\n",
              "      <td id=\"T_9fb11_row0_col2\" class=\"data row0 col2\" >Head</td>\n",
              "    </tr>\n",
              "    <tr>\n",
              "      <td id=\"T_9fb11_row1_col0\" class=\"data row1 col0\" >Mukherjee</td>\n",
              "      <td id=\"T_9fb11_row1_col1\" class=\"data row1 col1\" >40</td>\n",
              "      <td id=\"T_9fb11_row1_col2\" class=\"data row1 col2\" >Branch</td>\n",
              "    </tr>\n",
              "    <tr>\n",
              "      <td id=\"T_9fb11_row2_col0\" class=\"data row2 col0\" >Dikshit</td>\n",
              "      <td id=\"T_9fb11_row2_col1\" class=\"data row2 col1\" >20</td>\n",
              "      <td id=\"T_9fb11_row2_col2\" class=\"data row2 col2\" >Head</td>\n",
              "    </tr>\n",
              "    <tr>\n",
              "      <td id=\"T_9fb11_row3_col0\" class=\"data row3 col0\" >Khan</td>\n",
              "      <td id=\"T_9fb11_row3_col1\" class=\"data row3 col1\" >20</td>\n",
              "      <td id=\"T_9fb11_row3_col2\" class=\"data row3 col2\" >Head</td>\n",
              "    </tr>\n",
              "    <tr>\n",
              "      <td id=\"T_9fb11_row4_col0\" class=\"data row4 col0\" >Sehwag</td>\n",
              "      <td id=\"T_9fb11_row4_col1\" class=\"data row4 col1\" >20</td>\n",
              "      <td id=\"T_9fb11_row4_col2\" class=\"data row4 col2\" >Head</td>\n",
              "    </tr>\n",
              "    <tr>\n",
              "      <td id=\"T_9fb11_row5_col0\" class=\"data row5 col0\" >Dhoni</td>\n",
              "      <td id=\"T_9fb11_row5_col1\" class=\"data row5 col1\" >40</td>\n",
              "      <td id=\"T_9fb11_row5_col2\" class=\"data row5 col2\" >Branch</td>\n",
              "    </tr>\n",
              "    <tr>\n",
              "      <td id=\"T_9fb11_row6_col0\" class=\"data row6 col0\" >Dravid</td>\n",
              "      <td id=\"T_9fb11_row6_col1\" class=\"data row6 col1\" >30</td>\n",
              "      <td id=\"T_9fb11_row6_col2\" class=\"data row6 col2\" >Regional</td>\n",
              "    </tr>\n",
              "    <tr>\n",
              "      <td id=\"T_9fb11_row7_col0\" class=\"data row7 col0\" >Dalmia</td>\n",
              "      <td id=\"T_9fb11_row7_col1\" class=\"data row7 col1\" >30</td>\n",
              "      <td id=\"T_9fb11_row7_col2\" class=\"data row7 col2\" >Regional</td>\n",
              "    </tr>\n",
              "    <tr>\n",
              "      <td id=\"T_9fb11_row8_col0\" class=\"data row8 col0\" >Ganguly</td>\n",
              "      <td id=\"T_9fb11_row8_col1\" class=\"data row8 col1\" >40</td>\n",
              "      <td id=\"T_9fb11_row8_col2\" class=\"data row8 col2\" >Branch</td>\n",
              "    </tr>\n",
              "    <tr>\n",
              "      <td id=\"T_9fb11_row9_col0\" class=\"data row9 col0\" >Ganesan</td>\n",
              "      <td id=\"T_9fb11_row9_col1\" class=\"data row9 col1\" >10</td>\n",
              "      <td id=\"T_9fb11_row9_col2\" class=\"data row9 col2\" >Head</td>\n",
              "    </tr>\n",
              "    <tr>\n",
              "      <td id=\"T_9fb11_row10_col0\" class=\"data row10 col0\" >Karthikeyan</td>\n",
              "      <td id=\"T_9fb11_row10_col1\" class=\"data row10 col1\" >10</td>\n",
              "      <td id=\"T_9fb11_row10_col2\" class=\"data row10 col2\" >Head</td>\n",
              "    </tr>\n",
              "    <tr>\n",
              "      <td id=\"T_9fb11_row11_col0\" class=\"data row11 col0\" >Sunil</td>\n",
              "      <td id=\"T_9fb11_row11_col1\" class=\"data row11 col1\" >70</td>\n",
              "      <td id=\"T_9fb11_row11_col2\" class=\"data row11 col2\" >Branch</td>\n",
              "    </tr>\n",
              "    <tr>\n",
              "      <td id=\"T_9fb11_row12_col0\" class=\"data row12 col0\" >Mirza</td>\n",
              "      <td id=\"T_9fb11_row12_col1\" class=\"data row12 col1\" >30</td>\n",
              "      <td id=\"T_9fb11_row12_col2\" class=\"data row12 col2\" >Regional</td>\n",
              "    </tr>\n",
              "  </tbody>\n",
              "</table>\n"
            ]
          },
          "metadata": {},
          "execution_count": 47
        }
      ]
    },
    {
      "cell_type": "markdown",
      "source": [
        "#Join"
      ],
      "metadata": {
        "id": "Rs10ezIPpP0C"
      }
    },
    {
      "cell_type": "markdown",
      "source": [
        "## Basic Inner Join"
      ],
      "metadata": {
        "id": "XMfZP6HUpT4B"
      }
    },
    {
      "cell_type": "code",
      "source": [
        "sql = 'select firstname, lastname, salary, deptname, location, managerid from empl, dept where empl.deptid = dept.deptid'\n",
        "runSelect(sql)"
      ],
      "metadata": {
        "colab": {
          "base_uri": "https://localhost:8080/",
          "height": 426
        },
        "id": "ISiD-VP6pbUz",
        "outputId": "d967c1b7-cfbe-4cb0-fe78-73acfc8169e6"
      },
      "execution_count": 48,
      "outputs": [
        {
          "output_type": "execute_result",
          "data": {
            "text/plain": [
              "<pandas.io.formats.style.Styler at 0x782ef4f5ed10>"
            ],
            "text/html": [
              "<style type=\"text/css\">\n",
              "</style>\n",
              "<table id=\"T_668d6\" class=\"dataframe\">\n",
              "  <thead>\n",
              "    <tr>\n",
              "      <th id=\"T_668d6_level0_col0\" class=\"col_heading level0 col0\" >firstname</th>\n",
              "      <th id=\"T_668d6_level0_col1\" class=\"col_heading level0 col1\" >lastname</th>\n",
              "      <th id=\"T_668d6_level0_col2\" class=\"col_heading level0 col2\" >salary</th>\n",
              "      <th id=\"T_668d6_level0_col3\" class=\"col_heading level0 col3\" >deptname</th>\n",
              "      <th id=\"T_668d6_level0_col4\" class=\"col_heading level0 col4\" >location</th>\n",
              "      <th id=\"T_668d6_level0_col5\" class=\"col_heading level0 col5\" >managerid</th>\n",
              "    </tr>\n",
              "  </thead>\n",
              "  <tbody>\n",
              "    <tr>\n",
              "      <td id=\"T_668d6_row0_col0\" class=\"data row0 col0\" >Narayan</td>\n",
              "      <td id=\"T_668d6_row0_col1\" class=\"data row0 col1\" >Karthikeyan</td>\n",
              "      <td id=\"T_668d6_row0_col2\" class=\"data row0 col2\" >40000</td>\n",
              "      <td id=\"T_668d6_row0_col3\" class=\"data row0 col3\" >Corporate</td>\n",
              "      <td id=\"T_668d6_row0_col4\" class=\"data row0 col4\" >Calcutta</td>\n",
              "      <td id=\"T_668d6_row0_col5\" class=\"data row0 col5\" >299034</td>\n",
              "    </tr>\n",
              "    <tr>\n",
              "      <td id=\"T_668d6_row1_col0\" class=\"data row1 col0\" >Rekha</td>\n",
              "      <td id=\"T_668d6_row1_col1\" class=\"data row1 col1\" >Ganesan</td>\n",
              "      <td id=\"T_668d6_row1_col2\" class=\"data row1 col2\" >60000</td>\n",
              "      <td id=\"T_668d6_row1_col3\" class=\"data row1 col3\" >Corporate</td>\n",
              "      <td id=\"T_668d6_row1_col4\" class=\"data row1 col4\" >Calcutta</td>\n",
              "      <td id=\"T_668d6_row1_col5\" class=\"data row1 col5\" >299034</td>\n",
              "    </tr>\n",
              "    <tr>\n",
              "      <td id=\"T_668d6_row2_col0\" class=\"data row2 col0\" >Amitabh</td>\n",
              "      <td id=\"T_668d6_row2_col1\" class=\"data row2 col1\" >Bacchan</td>\n",
              "      <td id=\"T_668d6_row2_col2\" class=\"data row2 col2\" >50000</td>\n",
              "      <td id=\"T_668d6_row2_col3\" class=\"data row2 col3\" >Corporate</td>\n",
              "      <td id=\"T_668d6_row2_col4\" class=\"data row2 col4\" >Calcutta</td>\n",
              "      <td id=\"T_668d6_row2_col5\" class=\"data row2 col5\" >299034</td>\n",
              "    </tr>\n",
              "    <tr>\n",
              "      <td id=\"T_668d6_row3_col0\" class=\"data row3 col0\" >Virender</td>\n",
              "      <td id=\"T_668d6_row3_col1\" class=\"data row3 col1\" >Sehwag</td>\n",
              "      <td id=\"T_668d6_row3_col2\" class=\"data row3 col2\" >15000</td>\n",
              "      <td id=\"T_668d6_row3_col3\" class=\"data row3 col3\" >Sales</td>\n",
              "      <td id=\"T_668d6_row3_col4\" class=\"data row3 col4\" >Calcutta</td>\n",
              "      <td id=\"T_668d6_row3_col5\" class=\"data row3 col5\" >239456</td>\n",
              "    </tr>\n",
              "    <tr>\n",
              "      <td id=\"T_668d6_row4_col0\" class=\"data row4 col0\" >Shahrukh</td>\n",
              "      <td id=\"T_668d6_row4_col1\" class=\"data row4 col1\" >Khan</td>\n",
              "      <td id=\"T_668d6_row4_col2\" class=\"data row4 col2\" >30000</td>\n",
              "      <td id=\"T_668d6_row4_col3\" class=\"data row4 col3\" >Sales</td>\n",
              "      <td id=\"T_668d6_row4_col4\" class=\"data row4 col4\" >Calcutta</td>\n",
              "      <td id=\"T_668d6_row4_col5\" class=\"data row4 col5\" >239456</td>\n",
              "    </tr>\n",
              "    <tr>\n",
              "      <td id=\"T_668d6_row5_col0\" class=\"data row5 col0\" >Madhuri</td>\n",
              "      <td id=\"T_668d6_row5_col1\" class=\"data row5 col1\" >Dikshit</td>\n",
              "      <td id=\"T_668d6_row5_col2\" class=\"data row5 col2\" >10000</td>\n",
              "      <td id=\"T_668d6_row5_col3\" class=\"data row5 col3\" >Sales</td>\n",
              "      <td id=\"T_668d6_row5_col4\" class=\"data row5 col4\" >Calcutta</td>\n",
              "      <td id=\"T_668d6_row5_col5\" class=\"data row5 col5\" >239456</td>\n",
              "    </tr>\n",
              "    <tr>\n",
              "      <td id=\"T_668d6_row6_col0\" class=\"data row6 col0\" >Sania</td>\n",
              "      <td id=\"T_668d6_row6_col1\" class=\"data row6 col1\" >Mirza</td>\n",
              "      <td id=\"T_668d6_row6_col2\" class=\"data row6 col2\" >25000</td>\n",
              "      <td id=\"T_668d6_row6_col3\" class=\"data row6 col3\" >Accounts</td>\n",
              "      <td id=\"T_668d6_row6_col4\" class=\"data row6 col4\" >Calcutta</td>\n",
              "      <td id=\"T_668d6_row6_col5\" class=\"data row6 col5\" >822134</td>\n",
              "    </tr>\n",
              "    <tr>\n",
              "      <td id=\"T_668d6_row7_col0\" class=\"data row7 col0\" >Jagmohan</td>\n",
              "      <td id=\"T_668d6_row7_col1\" class=\"data row7 col1\" >Dalmia</td>\n",
              "      <td id=\"T_668d6_row7_col2\" class=\"data row7 col2\" >12000</td>\n",
              "      <td id=\"T_668d6_row7_col3\" class=\"data row7 col3\" >Accounts</td>\n",
              "      <td id=\"T_668d6_row7_col4\" class=\"data row7 col4\" >Calcutta</td>\n",
              "      <td id=\"T_668d6_row7_col5\" class=\"data row7 col5\" >822134</td>\n",
              "    </tr>\n",
              "    <tr>\n",
              "      <td id=\"T_668d6_row8_col0\" class=\"data row8 col0\" >Rahul</td>\n",
              "      <td id=\"T_668d6_row8_col1\" class=\"data row8 col1\" >Dravid</td>\n",
              "      <td id=\"T_668d6_row8_col2\" class=\"data row8 col2\" >40000</td>\n",
              "      <td id=\"T_668d6_row8_col3\" class=\"data row8 col3\" >Accounts</td>\n",
              "      <td id=\"T_668d6_row8_col4\" class=\"data row8 col4\" >Calcutta</td>\n",
              "      <td id=\"T_668d6_row8_col5\" class=\"data row8 col5\" >822134</td>\n",
              "    </tr>\n",
              "    <tr>\n",
              "      <td id=\"T_668d6_row9_col0\" class=\"data row9 col0\" >Sourav</td>\n",
              "      <td id=\"T_668d6_row9_col1\" class=\"data row9 col1\" >Ganguly</td>\n",
              "      <td id=\"T_668d6_row9_col2\" class=\"data row9 col2\" >20000</td>\n",
              "      <td id=\"T_668d6_row9_col3\" class=\"data row9 col3\" >Production</td>\n",
              "      <td id=\"T_668d6_row9_col4\" class=\"data row9 col4\" >Bombay</td>\n",
              "      <td id=\"T_668d6_row9_col5\" class=\"data row9 col5\" >349870</td>\n",
              "    </tr>\n",
              "    <tr>\n",
              "      <td id=\"T_668d6_row10_col0\" class=\"data row10 col0\" >Mahender</td>\n",
              "      <td id=\"T_668d6_row10_col1\" class=\"data row10 col1\" >Dhoni</td>\n",
              "      <td id=\"T_668d6_row10_col2\" class=\"data row10 col2\" >9000</td>\n",
              "      <td id=\"T_668d6_row10_col3\" class=\"data row10 col3\" >Production</td>\n",
              "      <td id=\"T_668d6_row10_col4\" class=\"data row10 col4\" >Bombay</td>\n",
              "      <td id=\"T_668d6_row10_col5\" class=\"data row10 col5\" >349870</td>\n",
              "    </tr>\n",
              "    <tr>\n",
              "      <td id=\"T_668d6_row11_col0\" class=\"data row11 col0\" >Rani</td>\n",
              "      <td id=\"T_668d6_row11_col1\" class=\"data row11 col1\" >Mukherjee</td>\n",
              "      <td id=\"T_668d6_row11_col2\" class=\"data row11 col2\" >25000</td>\n",
              "      <td id=\"T_668d6_row11_col3\" class=\"data row11 col3\" >Production</td>\n",
              "      <td id=\"T_668d6_row11_col4\" class=\"data row11 col4\" >Bombay</td>\n",
              "      <td id=\"T_668d6_row11_col5\" class=\"data row11 col5\" >349870</td>\n",
              "    </tr>\n",
              "  </tbody>\n",
              "</table>\n"
            ]
          },
          "metadata": {},
          "execution_count": 48
        }
      ]
    },
    {
      "cell_type": "code",
      "source": [
        "sql = 'select empid, firstname, deptname, location from empl INNER JOIN dept ON empl.deptid = dept.deptid'\n",
        "runSelect(sql)"
      ],
      "metadata": {
        "colab": {
          "base_uri": "https://localhost:8080/",
          "height": 426
        },
        "id": "LVrEArEc1VcF",
        "outputId": "cf81f42b-349a-482b-bbee-e1671c428a25"
      },
      "execution_count": 49,
      "outputs": [
        {
          "output_type": "execute_result",
          "data": {
            "text/plain": [
              "<pandas.io.formats.style.Styler at 0x782ef4f5d540>"
            ],
            "text/html": [
              "<style type=\"text/css\">\n",
              "</style>\n",
              "<table id=\"T_55059\" class=\"dataframe\">\n",
              "  <thead>\n",
              "    <tr>\n",
              "      <th id=\"T_55059_level0_col0\" class=\"col_heading level0 col0\" >empid</th>\n",
              "      <th id=\"T_55059_level0_col1\" class=\"col_heading level0 col1\" >firstname</th>\n",
              "      <th id=\"T_55059_level0_col2\" class=\"col_heading level0 col2\" >deptname</th>\n",
              "      <th id=\"T_55059_level0_col3\" class=\"col_heading level0 col3\" >location</th>\n",
              "    </tr>\n",
              "  </thead>\n",
              "  <tbody>\n",
              "    <tr>\n",
              "      <td id=\"T_55059_row0_col0\" class=\"data row0 col0\" >546223</td>\n",
              "      <td id=\"T_55059_row0_col1\" class=\"data row0 col1\" >Narayan</td>\n",
              "      <td id=\"T_55059_row0_col2\" class=\"data row0 col2\" >Corporate</td>\n",
              "      <td id=\"T_55059_row0_col3\" class=\"data row0 col3\" >Calcutta</td>\n",
              "    </tr>\n",
              "    <tr>\n",
              "      <td id=\"T_55059_row1_col0\" class=\"data row1 col0\" >299034</td>\n",
              "      <td id=\"T_55059_row1_col1\" class=\"data row1 col1\" >Rekha</td>\n",
              "      <td id=\"T_55059_row1_col2\" class=\"data row1 col2\" >Corporate</td>\n",
              "      <td id=\"T_55059_row1_col3\" class=\"data row1 col3\" >Calcutta</td>\n",
              "    </tr>\n",
              "    <tr>\n",
              "      <td id=\"T_55059_row2_col0\" class=\"data row2 col0\" >742866</td>\n",
              "      <td id=\"T_55059_row2_col1\" class=\"data row2 col1\" >Amitabh</td>\n",
              "      <td id=\"T_55059_row2_col2\" class=\"data row2 col2\" >Corporate</td>\n",
              "      <td id=\"T_55059_row2_col3\" class=\"data row2 col3\" >Calcutta</td>\n",
              "    </tr>\n",
              "    <tr>\n",
              "      <td id=\"T_55059_row3_col0\" class=\"data row3 col0\" >897889</td>\n",
              "      <td id=\"T_55059_row3_col1\" class=\"data row3 col1\" >Virender</td>\n",
              "      <td id=\"T_55059_row3_col2\" class=\"data row3 col2\" >Sales</td>\n",
              "      <td id=\"T_55059_row3_col3\" class=\"data row3 col3\" >Calcutta</td>\n",
              "    </tr>\n",
              "    <tr>\n",
              "      <td id=\"T_55059_row4_col0\" class=\"data row4 col0\" >239456</td>\n",
              "      <td id=\"T_55059_row4_col1\" class=\"data row4 col1\" >Shahrukh</td>\n",
              "      <td id=\"T_55059_row4_col2\" class=\"data row4 col2\" >Sales</td>\n",
              "      <td id=\"T_55059_row4_col3\" class=\"data row4 col3\" >Calcutta</td>\n",
              "    </tr>\n",
              "    <tr>\n",
              "      <td id=\"T_55059_row5_col0\" class=\"data row5 col0\" >865477</td>\n",
              "      <td id=\"T_55059_row5_col1\" class=\"data row5 col1\" >Madhuri</td>\n",
              "      <td id=\"T_55059_row5_col2\" class=\"data row5 col2\" >Sales</td>\n",
              "      <td id=\"T_55059_row5_col3\" class=\"data row5 col3\" >Calcutta</td>\n",
              "    </tr>\n",
              "    <tr>\n",
              "      <td id=\"T_55059_row6_col0\" class=\"data row6 col0\" >223112</td>\n",
              "      <td id=\"T_55059_row6_col1\" class=\"data row6 col1\" >Sania</td>\n",
              "      <td id=\"T_55059_row6_col2\" class=\"data row6 col2\" >Accounts</td>\n",
              "      <td id=\"T_55059_row6_col3\" class=\"data row6 col3\" >Calcutta</td>\n",
              "    </tr>\n",
              "    <tr>\n",
              "      <td id=\"T_55059_row7_col0\" class=\"data row7 col0\" >997445</td>\n",
              "      <td id=\"T_55059_row7_col1\" class=\"data row7 col1\" >Jagmohan</td>\n",
              "      <td id=\"T_55059_row7_col2\" class=\"data row7 col2\" >Accounts</td>\n",
              "      <td id=\"T_55059_row7_col3\" class=\"data row7 col3\" >Calcutta</td>\n",
              "    </tr>\n",
              "    <tr>\n",
              "      <td id=\"T_55059_row8_col0\" class=\"data row8 col0\" >822134</td>\n",
              "      <td id=\"T_55059_row8_col1\" class=\"data row8 col1\" >Rahul</td>\n",
              "      <td id=\"T_55059_row8_col2\" class=\"data row8 col2\" >Accounts</td>\n",
              "      <td id=\"T_55059_row8_col3\" class=\"data row8 col3\" >Calcutta</td>\n",
              "    </tr>\n",
              "    <tr>\n",
              "      <td id=\"T_55059_row9_col0\" class=\"data row9 col0\" >989007</td>\n",
              "      <td id=\"T_55059_row9_col1\" class=\"data row9 col1\" >Sourav</td>\n",
              "      <td id=\"T_55059_row9_col2\" class=\"data row9 col2\" >Production</td>\n",
              "      <td id=\"T_55059_row9_col3\" class=\"data row9 col3\" >Bombay</td>\n",
              "    </tr>\n",
              "    <tr>\n",
              "      <td id=\"T_55059_row10_col0\" class=\"data row10 col0\" >123980</td>\n",
              "      <td id=\"T_55059_row10_col1\" class=\"data row10 col1\" >Mahender</td>\n",
              "      <td id=\"T_55059_row10_col2\" class=\"data row10 col2\" >Production</td>\n",
              "      <td id=\"T_55059_row10_col3\" class=\"data row10 col3\" >Bombay</td>\n",
              "    </tr>\n",
              "    <tr>\n",
              "      <td id=\"T_55059_row11_col0\" class=\"data row11 col0\" >349870</td>\n",
              "      <td id=\"T_55059_row11_col1\" class=\"data row11 col1\" >Rani</td>\n",
              "      <td id=\"T_55059_row11_col2\" class=\"data row11 col2\" >Production</td>\n",
              "      <td id=\"T_55059_row11_col3\" class=\"data row11 col3\" >Bombay</td>\n",
              "    </tr>\n",
              "  </tbody>\n",
              "</table>\n"
            ]
          },
          "metadata": {},
          "execution_count": 49
        }
      ]
    },
    {
      "cell_type": "code",
      "source": [
        "sql = 'select deptname,round(sum(salary),0) payroll from empl INNER JOIN dept ON empl.deptid = dept.deptid \\\n",
        "group by deptname'\n",
        "runSelect(sql)"
      ],
      "metadata": {
        "id": "pKk82QRi28DP",
        "outputId": "356e7694-1dc5-4d8a-8ae4-bdab2c741832",
        "colab": {
          "base_uri": "https://localhost:8080/",
          "height": 175
        }
      },
      "execution_count": 50,
      "outputs": [
        {
          "output_type": "execute_result",
          "data": {
            "text/plain": [
              "<pandas.io.formats.style.Styler at 0x782ef4f5c910>"
            ],
            "text/html": [
              "<style type=\"text/css\">\n",
              "</style>\n",
              "<table id=\"T_7e529\" class=\"dataframe\">\n",
              "  <thead>\n",
              "    <tr>\n",
              "      <th id=\"T_7e529_level0_col0\" class=\"col_heading level0 col0\" >deptname</th>\n",
              "      <th id=\"T_7e529_level0_col1\" class=\"col_heading level0 col1\" >payroll</th>\n",
              "    </tr>\n",
              "  </thead>\n",
              "  <tbody>\n",
              "    <tr>\n",
              "      <td id=\"T_7e529_row0_col0\" class=\"data row0 col0\" >Corporate</td>\n",
              "      <td id=\"T_7e529_row0_col1\" class=\"data row0 col1\" >150000</td>\n",
              "    </tr>\n",
              "    <tr>\n",
              "      <td id=\"T_7e529_row1_col0\" class=\"data row1 col0\" >Accounts</td>\n",
              "      <td id=\"T_7e529_row1_col1\" class=\"data row1 col1\" >77000</td>\n",
              "    </tr>\n",
              "    <tr>\n",
              "      <td id=\"T_7e529_row2_col0\" class=\"data row2 col0\" >Sales</td>\n",
              "      <td id=\"T_7e529_row2_col1\" class=\"data row2 col1\" >55000</td>\n",
              "    </tr>\n",
              "    <tr>\n",
              "      <td id=\"T_7e529_row3_col0\" class=\"data row3 col0\" >Production</td>\n",
              "      <td id=\"T_7e529_row3_col1\" class=\"data row3 col1\" >54000</td>\n",
              "    </tr>\n",
              "  </tbody>\n",
              "</table>\n"
            ]
          },
          "metadata": {},
          "execution_count": 50
        }
      ]
    },
    {
      "cell_type": "markdown",
      "source": [
        "## Outer Join"
      ],
      "metadata": {
        "id": "tK9uJHAL1u6x"
      }
    },
    {
      "cell_type": "markdown",
      "source": [
        "### Left Outer"
      ],
      "metadata": {
        "id": "5wGFVhyJ2x8S"
      }
    },
    {
      "cell_type": "code",
      "source": [
        "sql = 'select empid, firstname, deptname, location from empl LEFT JOIN dept ON empl.deptid = dept.deptid'\n",
        "runSelect(sql)"
      ],
      "metadata": {
        "colab": {
          "base_uri": "https://localhost:8080/",
          "height": 457
        },
        "id": "Ls6VfOXt1zTq",
        "outputId": "5b2a0ec5-cb5c-4c45-f27d-c0e38a09bc13"
      },
      "execution_count": 51,
      "outputs": [
        {
          "output_type": "execute_result",
          "data": {
            "text/plain": [
              "<pandas.io.formats.style.Styler at 0x782f2c28d720>"
            ],
            "text/html": [
              "<style type=\"text/css\">\n",
              "</style>\n",
              "<table id=\"T_bf6d0\" class=\"dataframe\">\n",
              "  <thead>\n",
              "    <tr>\n",
              "      <th id=\"T_bf6d0_level0_col0\" class=\"col_heading level0 col0\" >empid</th>\n",
              "      <th id=\"T_bf6d0_level0_col1\" class=\"col_heading level0 col1\" >firstname</th>\n",
              "      <th id=\"T_bf6d0_level0_col2\" class=\"col_heading level0 col2\" >deptname</th>\n",
              "      <th id=\"T_bf6d0_level0_col3\" class=\"col_heading level0 col3\" >location</th>\n",
              "    </tr>\n",
              "  </thead>\n",
              "  <tbody>\n",
              "    <tr>\n",
              "      <td id=\"T_bf6d0_row0_col0\" class=\"data row0 col0\" >546223</td>\n",
              "      <td id=\"T_bf6d0_row0_col1\" class=\"data row0 col1\" >Narayan</td>\n",
              "      <td id=\"T_bf6d0_row0_col2\" class=\"data row0 col2\" >Corporate</td>\n",
              "      <td id=\"T_bf6d0_row0_col3\" class=\"data row0 col3\" >Calcutta</td>\n",
              "    </tr>\n",
              "    <tr>\n",
              "      <td id=\"T_bf6d0_row1_col0\" class=\"data row1 col0\" >299034</td>\n",
              "      <td id=\"T_bf6d0_row1_col1\" class=\"data row1 col1\" >Rekha</td>\n",
              "      <td id=\"T_bf6d0_row1_col2\" class=\"data row1 col2\" >Corporate</td>\n",
              "      <td id=\"T_bf6d0_row1_col3\" class=\"data row1 col3\" >Calcutta</td>\n",
              "    </tr>\n",
              "    <tr>\n",
              "      <td id=\"T_bf6d0_row2_col0\" class=\"data row2 col0\" >742866</td>\n",
              "      <td id=\"T_bf6d0_row2_col1\" class=\"data row2 col1\" >Amitabh</td>\n",
              "      <td id=\"T_bf6d0_row2_col2\" class=\"data row2 col2\" >Corporate</td>\n",
              "      <td id=\"T_bf6d0_row2_col3\" class=\"data row2 col3\" >Calcutta</td>\n",
              "    </tr>\n",
              "    <tr>\n",
              "      <td id=\"T_bf6d0_row3_col0\" class=\"data row3 col0\" >897889</td>\n",
              "      <td id=\"T_bf6d0_row3_col1\" class=\"data row3 col1\" >Virender</td>\n",
              "      <td id=\"T_bf6d0_row3_col2\" class=\"data row3 col2\" >Sales</td>\n",
              "      <td id=\"T_bf6d0_row3_col3\" class=\"data row3 col3\" >Calcutta</td>\n",
              "    </tr>\n",
              "    <tr>\n",
              "      <td id=\"T_bf6d0_row4_col0\" class=\"data row4 col0\" >239456</td>\n",
              "      <td id=\"T_bf6d0_row4_col1\" class=\"data row4 col1\" >Shahrukh</td>\n",
              "      <td id=\"T_bf6d0_row4_col2\" class=\"data row4 col2\" >Sales</td>\n",
              "      <td id=\"T_bf6d0_row4_col3\" class=\"data row4 col3\" >Calcutta</td>\n",
              "    </tr>\n",
              "    <tr>\n",
              "      <td id=\"T_bf6d0_row5_col0\" class=\"data row5 col0\" >865477</td>\n",
              "      <td id=\"T_bf6d0_row5_col1\" class=\"data row5 col1\" >Madhuri</td>\n",
              "      <td id=\"T_bf6d0_row5_col2\" class=\"data row5 col2\" >Sales</td>\n",
              "      <td id=\"T_bf6d0_row5_col3\" class=\"data row5 col3\" >Calcutta</td>\n",
              "    </tr>\n",
              "    <tr>\n",
              "      <td id=\"T_bf6d0_row6_col0\" class=\"data row6 col0\" >223112</td>\n",
              "      <td id=\"T_bf6d0_row6_col1\" class=\"data row6 col1\" >Sania</td>\n",
              "      <td id=\"T_bf6d0_row6_col2\" class=\"data row6 col2\" >Accounts</td>\n",
              "      <td id=\"T_bf6d0_row6_col3\" class=\"data row6 col3\" >Calcutta</td>\n",
              "    </tr>\n",
              "    <tr>\n",
              "      <td id=\"T_bf6d0_row7_col0\" class=\"data row7 col0\" >997445</td>\n",
              "      <td id=\"T_bf6d0_row7_col1\" class=\"data row7 col1\" >Jagmohan</td>\n",
              "      <td id=\"T_bf6d0_row7_col2\" class=\"data row7 col2\" >Accounts</td>\n",
              "      <td id=\"T_bf6d0_row7_col3\" class=\"data row7 col3\" >Calcutta</td>\n",
              "    </tr>\n",
              "    <tr>\n",
              "      <td id=\"T_bf6d0_row8_col0\" class=\"data row8 col0\" >822134</td>\n",
              "      <td id=\"T_bf6d0_row8_col1\" class=\"data row8 col1\" >Rahul</td>\n",
              "      <td id=\"T_bf6d0_row8_col2\" class=\"data row8 col2\" >Accounts</td>\n",
              "      <td id=\"T_bf6d0_row8_col3\" class=\"data row8 col3\" >Calcutta</td>\n",
              "    </tr>\n",
              "    <tr>\n",
              "      <td id=\"T_bf6d0_row9_col0\" class=\"data row9 col0\" >989007</td>\n",
              "      <td id=\"T_bf6d0_row9_col1\" class=\"data row9 col1\" >Sourav</td>\n",
              "      <td id=\"T_bf6d0_row9_col2\" class=\"data row9 col2\" >Production</td>\n",
              "      <td id=\"T_bf6d0_row9_col3\" class=\"data row9 col3\" >Bombay</td>\n",
              "    </tr>\n",
              "    <tr>\n",
              "      <td id=\"T_bf6d0_row10_col0\" class=\"data row10 col0\" >123980</td>\n",
              "      <td id=\"T_bf6d0_row10_col1\" class=\"data row10 col1\" >Mahender</td>\n",
              "      <td id=\"T_bf6d0_row10_col2\" class=\"data row10 col2\" >Production</td>\n",
              "      <td id=\"T_bf6d0_row10_col3\" class=\"data row10 col3\" >Bombay</td>\n",
              "    </tr>\n",
              "    <tr>\n",
              "      <td id=\"T_bf6d0_row11_col0\" class=\"data row11 col0\" >349870</td>\n",
              "      <td id=\"T_bf6d0_row11_col1\" class=\"data row11 col1\" >Rani</td>\n",
              "      <td id=\"T_bf6d0_row11_col2\" class=\"data row11 col2\" >Production</td>\n",
              "      <td id=\"T_bf6d0_row11_col3\" class=\"data row11 col3\" >Bombay</td>\n",
              "    </tr>\n",
              "    <tr>\n",
              "      <td id=\"T_bf6d0_row12_col0\" class=\"data row12 col0\" >546224</td>\n",
              "      <td id=\"T_bf6d0_row12_col1\" class=\"data row12 col1\" >Chettri</td>\n",
              "      <td id=\"T_bf6d0_row12_col2\" class=\"data row12 col2\" >None</td>\n",
              "      <td id=\"T_bf6d0_row12_col3\" class=\"data row12 col3\" >None</td>\n",
              "    </tr>\n",
              "  </tbody>\n",
              "</table>\n"
            ]
          },
          "metadata": {},
          "execution_count": 51
        }
      ]
    },
    {
      "cell_type": "markdown",
      "source": [
        "### Right Outer"
      ],
      "metadata": {
        "id": "iJ6DASb121Og"
      }
    },
    {
      "cell_type": "code",
      "source": [
        "sql = 'select empid, firstname, deptname, location from empl RIGHT JOIN dept ON empl.deptid = dept.deptid'\n",
        "runSelect(sql)"
      ],
      "metadata": {
        "colab": {
          "base_uri": "https://localhost:8080/",
          "height": 457
        },
        "id": "khvQpQ4E2XND",
        "outputId": "d70d7870-b06d-4f26-c374-7c05949b53b6"
      },
      "execution_count": 52,
      "outputs": [
        {
          "output_type": "execute_result",
          "data": {
            "text/plain": [
              "<pandas.io.formats.style.Styler at 0x782ef4fd97b0>"
            ],
            "text/html": [
              "<style type=\"text/css\">\n",
              "</style>\n",
              "<table id=\"T_a6618\" class=\"dataframe\">\n",
              "  <thead>\n",
              "    <tr>\n",
              "      <th id=\"T_a6618_level0_col0\" class=\"col_heading level0 col0\" >empid</th>\n",
              "      <th id=\"T_a6618_level0_col1\" class=\"col_heading level0 col1\" >firstname</th>\n",
              "      <th id=\"T_a6618_level0_col2\" class=\"col_heading level0 col2\" >deptname</th>\n",
              "      <th id=\"T_a6618_level0_col3\" class=\"col_heading level0 col3\" >location</th>\n",
              "    </tr>\n",
              "  </thead>\n",
              "  <tbody>\n",
              "    <tr>\n",
              "      <td id=\"T_a6618_row0_col0\" class=\"data row0 col0\" >546223</td>\n",
              "      <td id=\"T_a6618_row0_col1\" class=\"data row0 col1\" >Narayan</td>\n",
              "      <td id=\"T_a6618_row0_col2\" class=\"data row0 col2\" >Corporate</td>\n",
              "      <td id=\"T_a6618_row0_col3\" class=\"data row0 col3\" >Calcutta</td>\n",
              "    </tr>\n",
              "    <tr>\n",
              "      <td id=\"T_a6618_row1_col0\" class=\"data row1 col0\" >299034</td>\n",
              "      <td id=\"T_a6618_row1_col1\" class=\"data row1 col1\" >Rekha</td>\n",
              "      <td id=\"T_a6618_row1_col2\" class=\"data row1 col2\" >Corporate</td>\n",
              "      <td id=\"T_a6618_row1_col3\" class=\"data row1 col3\" >Calcutta</td>\n",
              "    </tr>\n",
              "    <tr>\n",
              "      <td id=\"T_a6618_row2_col0\" class=\"data row2 col0\" >742866</td>\n",
              "      <td id=\"T_a6618_row2_col1\" class=\"data row2 col1\" >Amitabh</td>\n",
              "      <td id=\"T_a6618_row2_col2\" class=\"data row2 col2\" >Corporate</td>\n",
              "      <td id=\"T_a6618_row2_col3\" class=\"data row2 col3\" >Calcutta</td>\n",
              "    </tr>\n",
              "    <tr>\n",
              "      <td id=\"T_a6618_row3_col0\" class=\"data row3 col0\" >897889</td>\n",
              "      <td id=\"T_a6618_row3_col1\" class=\"data row3 col1\" >Virender</td>\n",
              "      <td id=\"T_a6618_row3_col2\" class=\"data row3 col2\" >Sales</td>\n",
              "      <td id=\"T_a6618_row3_col3\" class=\"data row3 col3\" >Calcutta</td>\n",
              "    </tr>\n",
              "    <tr>\n",
              "      <td id=\"T_a6618_row4_col0\" class=\"data row4 col0\" >239456</td>\n",
              "      <td id=\"T_a6618_row4_col1\" class=\"data row4 col1\" >Shahrukh</td>\n",
              "      <td id=\"T_a6618_row4_col2\" class=\"data row4 col2\" >Sales</td>\n",
              "      <td id=\"T_a6618_row4_col3\" class=\"data row4 col3\" >Calcutta</td>\n",
              "    </tr>\n",
              "    <tr>\n",
              "      <td id=\"T_a6618_row5_col0\" class=\"data row5 col0\" >865477</td>\n",
              "      <td id=\"T_a6618_row5_col1\" class=\"data row5 col1\" >Madhuri</td>\n",
              "      <td id=\"T_a6618_row5_col2\" class=\"data row5 col2\" >Sales</td>\n",
              "      <td id=\"T_a6618_row5_col3\" class=\"data row5 col3\" >Calcutta</td>\n",
              "    </tr>\n",
              "    <tr>\n",
              "      <td id=\"T_a6618_row6_col0\" class=\"data row6 col0\" >223112</td>\n",
              "      <td id=\"T_a6618_row6_col1\" class=\"data row6 col1\" >Sania</td>\n",
              "      <td id=\"T_a6618_row6_col2\" class=\"data row6 col2\" >Accounts</td>\n",
              "      <td id=\"T_a6618_row6_col3\" class=\"data row6 col3\" >Calcutta</td>\n",
              "    </tr>\n",
              "    <tr>\n",
              "      <td id=\"T_a6618_row7_col0\" class=\"data row7 col0\" >997445</td>\n",
              "      <td id=\"T_a6618_row7_col1\" class=\"data row7 col1\" >Jagmohan</td>\n",
              "      <td id=\"T_a6618_row7_col2\" class=\"data row7 col2\" >Accounts</td>\n",
              "      <td id=\"T_a6618_row7_col3\" class=\"data row7 col3\" >Calcutta</td>\n",
              "    </tr>\n",
              "    <tr>\n",
              "      <td id=\"T_a6618_row8_col0\" class=\"data row8 col0\" >822134</td>\n",
              "      <td id=\"T_a6618_row8_col1\" class=\"data row8 col1\" >Rahul</td>\n",
              "      <td id=\"T_a6618_row8_col2\" class=\"data row8 col2\" >Accounts</td>\n",
              "      <td id=\"T_a6618_row8_col3\" class=\"data row8 col3\" >Calcutta</td>\n",
              "    </tr>\n",
              "    <tr>\n",
              "      <td id=\"T_a6618_row9_col0\" class=\"data row9 col0\" >989007</td>\n",
              "      <td id=\"T_a6618_row9_col1\" class=\"data row9 col1\" >Sourav</td>\n",
              "      <td id=\"T_a6618_row9_col2\" class=\"data row9 col2\" >Production</td>\n",
              "      <td id=\"T_a6618_row9_col3\" class=\"data row9 col3\" >Bombay</td>\n",
              "    </tr>\n",
              "    <tr>\n",
              "      <td id=\"T_a6618_row10_col0\" class=\"data row10 col0\" >123980</td>\n",
              "      <td id=\"T_a6618_row10_col1\" class=\"data row10 col1\" >Mahender</td>\n",
              "      <td id=\"T_a6618_row10_col2\" class=\"data row10 col2\" >Production</td>\n",
              "      <td id=\"T_a6618_row10_col3\" class=\"data row10 col3\" >Bombay</td>\n",
              "    </tr>\n",
              "    <tr>\n",
              "      <td id=\"T_a6618_row11_col0\" class=\"data row11 col0\" >349870</td>\n",
              "      <td id=\"T_a6618_row11_col1\" class=\"data row11 col1\" >Rani</td>\n",
              "      <td id=\"T_a6618_row11_col2\" class=\"data row11 col2\" >Production</td>\n",
              "      <td id=\"T_a6618_row11_col3\" class=\"data row11 col3\" >Bombay</td>\n",
              "    </tr>\n",
              "    <tr>\n",
              "      <td id=\"T_a6618_row12_col0\" class=\"data row12 col0\" >None</td>\n",
              "      <td id=\"T_a6618_row12_col1\" class=\"data row12 col1\" >None</td>\n",
              "      <td id=\"T_a6618_row12_col2\" class=\"data row12 col2\" >Research</td>\n",
              "      <td id=\"T_a6618_row12_col3\" class=\"data row12 col3\" >Delhi</td>\n",
              "    </tr>\n",
              "  </tbody>\n",
              "</table>\n"
            ]
          },
          "metadata": {},
          "execution_count": 52
        }
      ]
    },
    {
      "cell_type": "markdown",
      "source": [
        "### Full Outer"
      ],
      "metadata": {
        "id": "RsEyhBBp24zy"
      }
    },
    {
      "cell_type": "code",
      "source": [
        "sql = 'select empid, firstname, deptname, location from empl FULL JOIN dept ON empl.deptid = dept.deptid'\n",
        "runSelect(sql)"
      ],
      "metadata": {
        "colab": {
          "base_uri": "https://localhost:8080/",
          "height": 488
        },
        "id": "Ipt14U9o2qFg",
        "outputId": "d4058dcd-2e1a-4690-e02d-950251a3e829"
      },
      "execution_count": 53,
      "outputs": [
        {
          "output_type": "execute_result",
          "data": {
            "text/plain": [
              "<pandas.io.formats.style.Styler at 0x782ef4fda260>"
            ],
            "text/html": [
              "<style type=\"text/css\">\n",
              "</style>\n",
              "<table id=\"T_8c29f\" class=\"dataframe\">\n",
              "  <thead>\n",
              "    <tr>\n",
              "      <th id=\"T_8c29f_level0_col0\" class=\"col_heading level0 col0\" >empid</th>\n",
              "      <th id=\"T_8c29f_level0_col1\" class=\"col_heading level0 col1\" >firstname</th>\n",
              "      <th id=\"T_8c29f_level0_col2\" class=\"col_heading level0 col2\" >deptname</th>\n",
              "      <th id=\"T_8c29f_level0_col3\" class=\"col_heading level0 col3\" >location</th>\n",
              "    </tr>\n",
              "  </thead>\n",
              "  <tbody>\n",
              "    <tr>\n",
              "      <td id=\"T_8c29f_row0_col0\" class=\"data row0 col0\" >546223</td>\n",
              "      <td id=\"T_8c29f_row0_col1\" class=\"data row0 col1\" >Narayan</td>\n",
              "      <td id=\"T_8c29f_row0_col2\" class=\"data row0 col2\" >Corporate</td>\n",
              "      <td id=\"T_8c29f_row0_col3\" class=\"data row0 col3\" >Calcutta</td>\n",
              "    </tr>\n",
              "    <tr>\n",
              "      <td id=\"T_8c29f_row1_col0\" class=\"data row1 col0\" >299034</td>\n",
              "      <td id=\"T_8c29f_row1_col1\" class=\"data row1 col1\" >Rekha</td>\n",
              "      <td id=\"T_8c29f_row1_col2\" class=\"data row1 col2\" >Corporate</td>\n",
              "      <td id=\"T_8c29f_row1_col3\" class=\"data row1 col3\" >Calcutta</td>\n",
              "    </tr>\n",
              "    <tr>\n",
              "      <td id=\"T_8c29f_row2_col0\" class=\"data row2 col0\" >742866</td>\n",
              "      <td id=\"T_8c29f_row2_col1\" class=\"data row2 col1\" >Amitabh</td>\n",
              "      <td id=\"T_8c29f_row2_col2\" class=\"data row2 col2\" >Corporate</td>\n",
              "      <td id=\"T_8c29f_row2_col3\" class=\"data row2 col3\" >Calcutta</td>\n",
              "    </tr>\n",
              "    <tr>\n",
              "      <td id=\"T_8c29f_row3_col0\" class=\"data row3 col0\" >897889</td>\n",
              "      <td id=\"T_8c29f_row3_col1\" class=\"data row3 col1\" >Virender</td>\n",
              "      <td id=\"T_8c29f_row3_col2\" class=\"data row3 col2\" >Sales</td>\n",
              "      <td id=\"T_8c29f_row3_col3\" class=\"data row3 col3\" >Calcutta</td>\n",
              "    </tr>\n",
              "    <tr>\n",
              "      <td id=\"T_8c29f_row4_col0\" class=\"data row4 col0\" >239456</td>\n",
              "      <td id=\"T_8c29f_row4_col1\" class=\"data row4 col1\" >Shahrukh</td>\n",
              "      <td id=\"T_8c29f_row4_col2\" class=\"data row4 col2\" >Sales</td>\n",
              "      <td id=\"T_8c29f_row4_col3\" class=\"data row4 col3\" >Calcutta</td>\n",
              "    </tr>\n",
              "    <tr>\n",
              "      <td id=\"T_8c29f_row5_col0\" class=\"data row5 col0\" >865477</td>\n",
              "      <td id=\"T_8c29f_row5_col1\" class=\"data row5 col1\" >Madhuri</td>\n",
              "      <td id=\"T_8c29f_row5_col2\" class=\"data row5 col2\" >Sales</td>\n",
              "      <td id=\"T_8c29f_row5_col3\" class=\"data row5 col3\" >Calcutta</td>\n",
              "    </tr>\n",
              "    <tr>\n",
              "      <td id=\"T_8c29f_row6_col0\" class=\"data row6 col0\" >223112</td>\n",
              "      <td id=\"T_8c29f_row6_col1\" class=\"data row6 col1\" >Sania</td>\n",
              "      <td id=\"T_8c29f_row6_col2\" class=\"data row6 col2\" >Accounts</td>\n",
              "      <td id=\"T_8c29f_row6_col3\" class=\"data row6 col3\" >Calcutta</td>\n",
              "    </tr>\n",
              "    <tr>\n",
              "      <td id=\"T_8c29f_row7_col0\" class=\"data row7 col0\" >997445</td>\n",
              "      <td id=\"T_8c29f_row7_col1\" class=\"data row7 col1\" >Jagmohan</td>\n",
              "      <td id=\"T_8c29f_row7_col2\" class=\"data row7 col2\" >Accounts</td>\n",
              "      <td id=\"T_8c29f_row7_col3\" class=\"data row7 col3\" >Calcutta</td>\n",
              "    </tr>\n",
              "    <tr>\n",
              "      <td id=\"T_8c29f_row8_col0\" class=\"data row8 col0\" >822134</td>\n",
              "      <td id=\"T_8c29f_row8_col1\" class=\"data row8 col1\" >Rahul</td>\n",
              "      <td id=\"T_8c29f_row8_col2\" class=\"data row8 col2\" >Accounts</td>\n",
              "      <td id=\"T_8c29f_row8_col3\" class=\"data row8 col3\" >Calcutta</td>\n",
              "    </tr>\n",
              "    <tr>\n",
              "      <td id=\"T_8c29f_row9_col0\" class=\"data row9 col0\" >989007</td>\n",
              "      <td id=\"T_8c29f_row9_col1\" class=\"data row9 col1\" >Sourav</td>\n",
              "      <td id=\"T_8c29f_row9_col2\" class=\"data row9 col2\" >Production</td>\n",
              "      <td id=\"T_8c29f_row9_col3\" class=\"data row9 col3\" >Bombay</td>\n",
              "    </tr>\n",
              "    <tr>\n",
              "      <td id=\"T_8c29f_row10_col0\" class=\"data row10 col0\" >123980</td>\n",
              "      <td id=\"T_8c29f_row10_col1\" class=\"data row10 col1\" >Mahender</td>\n",
              "      <td id=\"T_8c29f_row10_col2\" class=\"data row10 col2\" >Production</td>\n",
              "      <td id=\"T_8c29f_row10_col3\" class=\"data row10 col3\" >Bombay</td>\n",
              "    </tr>\n",
              "    <tr>\n",
              "      <td id=\"T_8c29f_row11_col0\" class=\"data row11 col0\" >349870</td>\n",
              "      <td id=\"T_8c29f_row11_col1\" class=\"data row11 col1\" >Rani</td>\n",
              "      <td id=\"T_8c29f_row11_col2\" class=\"data row11 col2\" >Production</td>\n",
              "      <td id=\"T_8c29f_row11_col3\" class=\"data row11 col3\" >Bombay</td>\n",
              "    </tr>\n",
              "    <tr>\n",
              "      <td id=\"T_8c29f_row12_col0\" class=\"data row12 col0\" >None</td>\n",
              "      <td id=\"T_8c29f_row12_col1\" class=\"data row12 col1\" >None</td>\n",
              "      <td id=\"T_8c29f_row12_col2\" class=\"data row12 col2\" >Research</td>\n",
              "      <td id=\"T_8c29f_row12_col3\" class=\"data row12 col3\" >Delhi</td>\n",
              "    </tr>\n",
              "    <tr>\n",
              "      <td id=\"T_8c29f_row13_col0\" class=\"data row13 col0\" >546224</td>\n",
              "      <td id=\"T_8c29f_row13_col1\" class=\"data row13 col1\" >Chettri</td>\n",
              "      <td id=\"T_8c29f_row13_col2\" class=\"data row13 col2\" >None</td>\n",
              "      <td id=\"T_8c29f_row13_col3\" class=\"data row13 col3\" >None</td>\n",
              "    </tr>\n",
              "  </tbody>\n",
              "</table>\n"
            ]
          },
          "metadata": {},
          "execution_count": 53
        }
      ]
    },
    {
      "cell_type": "code",
      "source": [
        "sql = 'select deptname,round(sum(salary),0) payroll from empl FULL JOIN dept ON empl.deptid = dept.deptid \\\n",
        "group by deptname'\n",
        "runSelect(sql)"
      ],
      "metadata": {
        "id": "EAI2kiYP3p9O",
        "outputId": "a251375a-aa69-4356-9b07-3881536495a9",
        "colab": {
          "base_uri": "https://localhost:8080/",
          "height": 238
        }
      },
      "execution_count": 54,
      "outputs": [
        {
          "output_type": "execute_result",
          "data": {
            "text/plain": [
              "<pandas.io.formats.style.Styler at 0x782ef4fdad40>"
            ],
            "text/html": [
              "<style type=\"text/css\">\n",
              "</style>\n",
              "<table id=\"T_ba71e\" class=\"dataframe\">\n",
              "  <thead>\n",
              "    <tr>\n",
              "      <th id=\"T_ba71e_level0_col0\" class=\"col_heading level0 col0\" >deptname</th>\n",
              "      <th id=\"T_ba71e_level0_col1\" class=\"col_heading level0 col1\" >payroll</th>\n",
              "    </tr>\n",
              "  </thead>\n",
              "  <tbody>\n",
              "    <tr>\n",
              "      <td id=\"T_ba71e_row0_col0\" class=\"data row0 col0\" >None</td>\n",
              "      <td id=\"T_ba71e_row0_col1\" class=\"data row0 col1\" >40000</td>\n",
              "    </tr>\n",
              "    <tr>\n",
              "      <td id=\"T_ba71e_row1_col0\" class=\"data row1 col0\" >Research</td>\n",
              "      <td id=\"T_ba71e_row1_col1\" class=\"data row1 col1\" >None</td>\n",
              "    </tr>\n",
              "    <tr>\n",
              "      <td id=\"T_ba71e_row2_col0\" class=\"data row2 col0\" >Corporate</td>\n",
              "      <td id=\"T_ba71e_row2_col1\" class=\"data row2 col1\" >150000</td>\n",
              "    </tr>\n",
              "    <tr>\n",
              "      <td id=\"T_ba71e_row3_col0\" class=\"data row3 col0\" >Accounts</td>\n",
              "      <td id=\"T_ba71e_row3_col1\" class=\"data row3 col1\" >77000</td>\n",
              "    </tr>\n",
              "    <tr>\n",
              "      <td id=\"T_ba71e_row4_col0\" class=\"data row4 col0\" >Sales</td>\n",
              "      <td id=\"T_ba71e_row4_col1\" class=\"data row4 col1\" >55000</td>\n",
              "    </tr>\n",
              "    <tr>\n",
              "      <td id=\"T_ba71e_row5_col0\" class=\"data row5 col0\" >Production</td>\n",
              "      <td id=\"T_ba71e_row5_col1\" class=\"data row5 col1\" >54000</td>\n",
              "    </tr>\n",
              "  </tbody>\n",
              "</table>\n"
            ]
          },
          "metadata": {},
          "execution_count": 54
        }
      ]
    },
    {
      "cell_type": "markdown",
      "source": [
        "## Recursive Joins"
      ],
      "metadata": {
        "id": "6nm2xAfn6pIV"
      }
    },
    {
      "cell_type": "markdown",
      "source": [
        "### Three Tables"
      ],
      "metadata": {
        "id": "A1KCGwwyB02z"
      }
    },
    {
      "cell_type": "code",
      "source": [
        "cmd = \"select w.lastname , w.deptID, '>' linksTo  , d.deptID ,d.managerID,'<' linksTo, m.empID, m.lastname \\\n",
        "        from Empl w, Dept d, Empl m \\\n",
        "        where w.deptID = d.deptID   \\\n",
        "        and d.managerID = m.empID \\\n",
        "    \"\n",
        "runSelect(cmd)"
      ],
      "metadata": {
        "colab": {
          "base_uri": "https://localhost:8080/",
          "height": 426
        },
        "id": "W17nS5R7AL0J",
        "outputId": "cc8a7a65-c4b8-4ba5-a4ba-40ea9315fa4c"
      },
      "execution_count": 55,
      "outputs": [
        {
          "output_type": "execute_result",
          "data": {
            "text/plain": [
              "<pandas.io.formats.style.Styler at 0x782ef4fd9150>"
            ],
            "text/html": [
              "<style type=\"text/css\">\n",
              "</style>\n",
              "<table id=\"T_cffe8\" class=\"dataframe\">\n",
              "  <thead>\n",
              "    <tr>\n",
              "      <th id=\"T_cffe8_level0_col0\" class=\"col_heading level0 col0\" >lastname</th>\n",
              "      <th id=\"T_cffe8_level0_col1\" class=\"col_heading level0 col1\" >deptid</th>\n",
              "      <th id=\"T_cffe8_level0_col2\" class=\"col_heading level0 col2\" >linksto</th>\n",
              "      <th id=\"T_cffe8_level0_col3\" class=\"col_heading level0 col3\" >deptid</th>\n",
              "      <th id=\"T_cffe8_level0_col4\" class=\"col_heading level0 col4\" >managerid</th>\n",
              "      <th id=\"T_cffe8_level0_col5\" class=\"col_heading level0 col5\" >linksto</th>\n",
              "      <th id=\"T_cffe8_level0_col6\" class=\"col_heading level0 col6\" >empid</th>\n",
              "      <th id=\"T_cffe8_level0_col7\" class=\"col_heading level0 col7\" >lastname</th>\n",
              "    </tr>\n",
              "  </thead>\n",
              "  <tbody>\n",
              "    <tr>\n",
              "      <td id=\"T_cffe8_row0_col0\" class=\"data row0 col0\" >Karthikeyan</td>\n",
              "      <td id=\"T_cffe8_row0_col1\" class=\"data row0 col1\" >10</td>\n",
              "      <td id=\"T_cffe8_row0_col2\" class=\"data row0 col2\" >></td>\n",
              "      <td id=\"T_cffe8_row0_col3\" class=\"data row0 col3\" >10</td>\n",
              "      <td id=\"T_cffe8_row0_col4\" class=\"data row0 col4\" >299034</td>\n",
              "      <td id=\"T_cffe8_row0_col5\" class=\"data row0 col5\" ><</td>\n",
              "      <td id=\"T_cffe8_row0_col6\" class=\"data row0 col6\" >299034</td>\n",
              "      <td id=\"T_cffe8_row0_col7\" class=\"data row0 col7\" >Ganesan</td>\n",
              "    </tr>\n",
              "    <tr>\n",
              "      <td id=\"T_cffe8_row1_col0\" class=\"data row1 col0\" >Ganesan</td>\n",
              "      <td id=\"T_cffe8_row1_col1\" class=\"data row1 col1\" >10</td>\n",
              "      <td id=\"T_cffe8_row1_col2\" class=\"data row1 col2\" >></td>\n",
              "      <td id=\"T_cffe8_row1_col3\" class=\"data row1 col3\" >10</td>\n",
              "      <td id=\"T_cffe8_row1_col4\" class=\"data row1 col4\" >299034</td>\n",
              "      <td id=\"T_cffe8_row1_col5\" class=\"data row1 col5\" ><</td>\n",
              "      <td id=\"T_cffe8_row1_col6\" class=\"data row1 col6\" >299034</td>\n",
              "      <td id=\"T_cffe8_row1_col7\" class=\"data row1 col7\" >Ganesan</td>\n",
              "    </tr>\n",
              "    <tr>\n",
              "      <td id=\"T_cffe8_row2_col0\" class=\"data row2 col0\" >Bacchan</td>\n",
              "      <td id=\"T_cffe8_row2_col1\" class=\"data row2 col1\" >10</td>\n",
              "      <td id=\"T_cffe8_row2_col2\" class=\"data row2 col2\" >></td>\n",
              "      <td id=\"T_cffe8_row2_col3\" class=\"data row2 col3\" >10</td>\n",
              "      <td id=\"T_cffe8_row2_col4\" class=\"data row2 col4\" >299034</td>\n",
              "      <td id=\"T_cffe8_row2_col5\" class=\"data row2 col5\" ><</td>\n",
              "      <td id=\"T_cffe8_row2_col6\" class=\"data row2 col6\" >299034</td>\n",
              "      <td id=\"T_cffe8_row2_col7\" class=\"data row2 col7\" >Ganesan</td>\n",
              "    </tr>\n",
              "    <tr>\n",
              "      <td id=\"T_cffe8_row3_col0\" class=\"data row3 col0\" >Sehwag</td>\n",
              "      <td id=\"T_cffe8_row3_col1\" class=\"data row3 col1\" >20</td>\n",
              "      <td id=\"T_cffe8_row3_col2\" class=\"data row3 col2\" >></td>\n",
              "      <td id=\"T_cffe8_row3_col3\" class=\"data row3 col3\" >20</td>\n",
              "      <td id=\"T_cffe8_row3_col4\" class=\"data row3 col4\" >239456</td>\n",
              "      <td id=\"T_cffe8_row3_col5\" class=\"data row3 col5\" ><</td>\n",
              "      <td id=\"T_cffe8_row3_col6\" class=\"data row3 col6\" >239456</td>\n",
              "      <td id=\"T_cffe8_row3_col7\" class=\"data row3 col7\" >Khan</td>\n",
              "    </tr>\n",
              "    <tr>\n",
              "      <td id=\"T_cffe8_row4_col0\" class=\"data row4 col0\" >Khan</td>\n",
              "      <td id=\"T_cffe8_row4_col1\" class=\"data row4 col1\" >20</td>\n",
              "      <td id=\"T_cffe8_row4_col2\" class=\"data row4 col2\" >></td>\n",
              "      <td id=\"T_cffe8_row4_col3\" class=\"data row4 col3\" >20</td>\n",
              "      <td id=\"T_cffe8_row4_col4\" class=\"data row4 col4\" >239456</td>\n",
              "      <td id=\"T_cffe8_row4_col5\" class=\"data row4 col5\" ><</td>\n",
              "      <td id=\"T_cffe8_row4_col6\" class=\"data row4 col6\" >239456</td>\n",
              "      <td id=\"T_cffe8_row4_col7\" class=\"data row4 col7\" >Khan</td>\n",
              "    </tr>\n",
              "    <tr>\n",
              "      <td id=\"T_cffe8_row5_col0\" class=\"data row5 col0\" >Dikshit</td>\n",
              "      <td id=\"T_cffe8_row5_col1\" class=\"data row5 col1\" >20</td>\n",
              "      <td id=\"T_cffe8_row5_col2\" class=\"data row5 col2\" >></td>\n",
              "      <td id=\"T_cffe8_row5_col3\" class=\"data row5 col3\" >20</td>\n",
              "      <td id=\"T_cffe8_row5_col4\" class=\"data row5 col4\" >239456</td>\n",
              "      <td id=\"T_cffe8_row5_col5\" class=\"data row5 col5\" ><</td>\n",
              "      <td id=\"T_cffe8_row5_col6\" class=\"data row5 col6\" >239456</td>\n",
              "      <td id=\"T_cffe8_row5_col7\" class=\"data row5 col7\" >Khan</td>\n",
              "    </tr>\n",
              "    <tr>\n",
              "      <td id=\"T_cffe8_row6_col0\" class=\"data row6 col0\" >Mirza</td>\n",
              "      <td id=\"T_cffe8_row6_col1\" class=\"data row6 col1\" >30</td>\n",
              "      <td id=\"T_cffe8_row6_col2\" class=\"data row6 col2\" >></td>\n",
              "      <td id=\"T_cffe8_row6_col3\" class=\"data row6 col3\" >30</td>\n",
              "      <td id=\"T_cffe8_row6_col4\" class=\"data row6 col4\" >822134</td>\n",
              "      <td id=\"T_cffe8_row6_col5\" class=\"data row6 col5\" ><</td>\n",
              "      <td id=\"T_cffe8_row6_col6\" class=\"data row6 col6\" >822134</td>\n",
              "      <td id=\"T_cffe8_row6_col7\" class=\"data row6 col7\" >Dravid</td>\n",
              "    </tr>\n",
              "    <tr>\n",
              "      <td id=\"T_cffe8_row7_col0\" class=\"data row7 col0\" >Dalmia</td>\n",
              "      <td id=\"T_cffe8_row7_col1\" class=\"data row7 col1\" >30</td>\n",
              "      <td id=\"T_cffe8_row7_col2\" class=\"data row7 col2\" >></td>\n",
              "      <td id=\"T_cffe8_row7_col3\" class=\"data row7 col3\" >30</td>\n",
              "      <td id=\"T_cffe8_row7_col4\" class=\"data row7 col4\" >822134</td>\n",
              "      <td id=\"T_cffe8_row7_col5\" class=\"data row7 col5\" ><</td>\n",
              "      <td id=\"T_cffe8_row7_col6\" class=\"data row7 col6\" >822134</td>\n",
              "      <td id=\"T_cffe8_row7_col7\" class=\"data row7 col7\" >Dravid</td>\n",
              "    </tr>\n",
              "    <tr>\n",
              "      <td id=\"T_cffe8_row8_col0\" class=\"data row8 col0\" >Dravid</td>\n",
              "      <td id=\"T_cffe8_row8_col1\" class=\"data row8 col1\" >30</td>\n",
              "      <td id=\"T_cffe8_row8_col2\" class=\"data row8 col2\" >></td>\n",
              "      <td id=\"T_cffe8_row8_col3\" class=\"data row8 col3\" >30</td>\n",
              "      <td id=\"T_cffe8_row8_col4\" class=\"data row8 col4\" >822134</td>\n",
              "      <td id=\"T_cffe8_row8_col5\" class=\"data row8 col5\" ><</td>\n",
              "      <td id=\"T_cffe8_row8_col6\" class=\"data row8 col6\" >822134</td>\n",
              "      <td id=\"T_cffe8_row8_col7\" class=\"data row8 col7\" >Dravid</td>\n",
              "    </tr>\n",
              "    <tr>\n",
              "      <td id=\"T_cffe8_row9_col0\" class=\"data row9 col0\" >Ganguly</td>\n",
              "      <td id=\"T_cffe8_row9_col1\" class=\"data row9 col1\" >40</td>\n",
              "      <td id=\"T_cffe8_row9_col2\" class=\"data row9 col2\" >></td>\n",
              "      <td id=\"T_cffe8_row9_col3\" class=\"data row9 col3\" >40</td>\n",
              "      <td id=\"T_cffe8_row9_col4\" class=\"data row9 col4\" >349870</td>\n",
              "      <td id=\"T_cffe8_row9_col5\" class=\"data row9 col5\" ><</td>\n",
              "      <td id=\"T_cffe8_row9_col6\" class=\"data row9 col6\" >349870</td>\n",
              "      <td id=\"T_cffe8_row9_col7\" class=\"data row9 col7\" >Mukherjee</td>\n",
              "    </tr>\n",
              "    <tr>\n",
              "      <td id=\"T_cffe8_row10_col0\" class=\"data row10 col0\" >Dhoni</td>\n",
              "      <td id=\"T_cffe8_row10_col1\" class=\"data row10 col1\" >40</td>\n",
              "      <td id=\"T_cffe8_row10_col2\" class=\"data row10 col2\" >></td>\n",
              "      <td id=\"T_cffe8_row10_col3\" class=\"data row10 col3\" >40</td>\n",
              "      <td id=\"T_cffe8_row10_col4\" class=\"data row10 col4\" >349870</td>\n",
              "      <td id=\"T_cffe8_row10_col5\" class=\"data row10 col5\" ><</td>\n",
              "      <td id=\"T_cffe8_row10_col6\" class=\"data row10 col6\" >349870</td>\n",
              "      <td id=\"T_cffe8_row10_col7\" class=\"data row10 col7\" >Mukherjee</td>\n",
              "    </tr>\n",
              "    <tr>\n",
              "      <td id=\"T_cffe8_row11_col0\" class=\"data row11 col0\" >Mukherjee</td>\n",
              "      <td id=\"T_cffe8_row11_col1\" class=\"data row11 col1\" >40</td>\n",
              "      <td id=\"T_cffe8_row11_col2\" class=\"data row11 col2\" >></td>\n",
              "      <td id=\"T_cffe8_row11_col3\" class=\"data row11 col3\" >40</td>\n",
              "      <td id=\"T_cffe8_row11_col4\" class=\"data row11 col4\" >349870</td>\n",
              "      <td id=\"T_cffe8_row11_col5\" class=\"data row11 col5\" ><</td>\n",
              "      <td id=\"T_cffe8_row11_col6\" class=\"data row11 col6\" >349870</td>\n",
              "      <td id=\"T_cffe8_row11_col7\" class=\"data row11 col7\" >Mukherjee</td>\n",
              "    </tr>\n",
              "  </tbody>\n",
              "</table>\n"
            ]
          },
          "metadata": {},
          "execution_count": 55
        }
      ]
    },
    {
      "cell_type": "markdown",
      "source": [
        "### Self Join / Single Table"
      ],
      "metadata": {
        "id": "jeknsMbjCA2A"
      }
    },
    {
      "cell_type": "code",
      "source": [
        "cmd = \"Select w.FirstName, w.JobDesc, w.DeptID, \\\n",
        "    ' hired by ' hiredby, \\\n",
        "    m.FirstName,m.JobDesc,m.DeptID \\\n",
        "    from empl w, empl m \\\n",
        "    where w.HiredBy = m.EmpID\"\n",
        "\n",
        "runSelect(cmd)"
      ],
      "metadata": {
        "colab": {
          "base_uri": "https://localhost:8080/",
          "height": 426
        },
        "id": "iDPmUw9-CEBH",
        "outputId": "8ac98b6f-8493-4f31-e75e-b2ba36932be6"
      },
      "execution_count": 56,
      "outputs": [
        {
          "output_type": "execute_result",
          "data": {
            "text/plain": [
              "<pandas.io.formats.style.Styler at 0x782ef4fdba90>"
            ],
            "text/html": [
              "<style type=\"text/css\">\n",
              "</style>\n",
              "<table id=\"T_e3eaf\" class=\"dataframe\">\n",
              "  <thead>\n",
              "    <tr>\n",
              "      <th id=\"T_e3eaf_level0_col0\" class=\"col_heading level0 col0\" >firstname</th>\n",
              "      <th id=\"T_e3eaf_level0_col1\" class=\"col_heading level0 col1\" >jobdesc</th>\n",
              "      <th id=\"T_e3eaf_level0_col2\" class=\"col_heading level0 col2\" >deptid</th>\n",
              "      <th id=\"T_e3eaf_level0_col3\" class=\"col_heading level0 col3\" >hiredby</th>\n",
              "      <th id=\"T_e3eaf_level0_col4\" class=\"col_heading level0 col4\" >firstname</th>\n",
              "      <th id=\"T_e3eaf_level0_col5\" class=\"col_heading level0 col5\" >jobdesc</th>\n",
              "      <th id=\"T_e3eaf_level0_col6\" class=\"col_heading level0 col6\" >deptid</th>\n",
              "    </tr>\n",
              "  </thead>\n",
              "  <tbody>\n",
              "    <tr>\n",
              "      <td id=\"T_e3eaf_row0_col0\" class=\"data row0 col0\" >Rani</td>\n",
              "      <td id=\"T_e3eaf_row0_col1\" class=\"data row0 col1\" >Manager</td>\n",
              "      <td id=\"T_e3eaf_row0_col2\" class=\"data row0 col2\" >40</td>\n",
              "      <td id=\"T_e3eaf_row0_col3\" class=\"data row0 col3\" > hired by </td>\n",
              "      <td id=\"T_e3eaf_row0_col4\" class=\"data row0 col4\" >Amitabh</td>\n",
              "      <td id=\"T_e3eaf_row0_col5\" class=\"data row0 col5\" >Executive</td>\n",
              "      <td id=\"T_e3eaf_row0_col6\" class=\"data row0 col6\" >10</td>\n",
              "    </tr>\n",
              "    <tr>\n",
              "      <td id=\"T_e3eaf_row1_col0\" class=\"data row1 col0\" >Madhuri</td>\n",
              "      <td id=\"T_e3eaf_row1_col1\" class=\"data row1 col1\" >Clerk</td>\n",
              "      <td id=\"T_e3eaf_row1_col2\" class=\"data row1 col2\" >20</td>\n",
              "      <td id=\"T_e3eaf_row1_col3\" class=\"data row1 col3\" > hired by </td>\n",
              "      <td id=\"T_e3eaf_row1_col4\" class=\"data row1 col4\" >Shahrukh</td>\n",
              "      <td id=\"T_e3eaf_row1_col5\" class=\"data row1 col5\" >Manager</td>\n",
              "      <td id=\"T_e3eaf_row1_col6\" class=\"data row1 col6\" >20</td>\n",
              "    </tr>\n",
              "    <tr>\n",
              "      <td id=\"T_e3eaf_row2_col0\" class=\"data row2 col0\" >Shahrukh</td>\n",
              "      <td id=\"T_e3eaf_row2_col1\" class=\"data row2 col1\" >Manager</td>\n",
              "      <td id=\"T_e3eaf_row2_col2\" class=\"data row2 col2\" >20</td>\n",
              "      <td id=\"T_e3eaf_row2_col3\" class=\"data row2 col3\" > hired by </td>\n",
              "      <td id=\"T_e3eaf_row2_col4\" class=\"data row2 col4\" >Amitabh</td>\n",
              "      <td id=\"T_e3eaf_row2_col5\" class=\"data row2 col5\" >Executive</td>\n",
              "      <td id=\"T_e3eaf_row2_col6\" class=\"data row2 col6\" >10</td>\n",
              "    </tr>\n",
              "    <tr>\n",
              "      <td id=\"T_e3eaf_row3_col0\" class=\"data row3 col0\" >Virender</td>\n",
              "      <td id=\"T_e3eaf_row3_col1\" class=\"data row3 col1\" >Cus_Rep</td>\n",
              "      <td id=\"T_e3eaf_row3_col2\" class=\"data row3 col2\" >20</td>\n",
              "      <td id=\"T_e3eaf_row3_col3\" class=\"data row3 col3\" > hired by </td>\n",
              "      <td id=\"T_e3eaf_row3_col4\" class=\"data row3 col4\" >Shahrukh</td>\n",
              "      <td id=\"T_e3eaf_row3_col5\" class=\"data row3 col5\" >Manager</td>\n",
              "      <td id=\"T_e3eaf_row3_col6\" class=\"data row3 col6\" >20</td>\n",
              "    </tr>\n",
              "    <tr>\n",
              "      <td id=\"T_e3eaf_row4_col0\" class=\"data row4 col0\" >Mahender</td>\n",
              "      <td id=\"T_e3eaf_row4_col1\" class=\"data row4 col1\" >Clerk</td>\n",
              "      <td id=\"T_e3eaf_row4_col2\" class=\"data row4 col2\" >40</td>\n",
              "      <td id=\"T_e3eaf_row4_col3\" class=\"data row4 col3\" > hired by </td>\n",
              "      <td id=\"T_e3eaf_row4_col4\" class=\"data row4 col4\" >Rani</td>\n",
              "      <td id=\"T_e3eaf_row4_col5\" class=\"data row4 col5\" >Manager</td>\n",
              "      <td id=\"T_e3eaf_row4_col6\" class=\"data row4 col6\" >40</td>\n",
              "    </tr>\n",
              "    <tr>\n",
              "      <td id=\"T_e3eaf_row5_col0\" class=\"data row5 col0\" >Rahul</td>\n",
              "      <td id=\"T_e3eaf_row5_col1\" class=\"data row5 col1\" >Sr Manager</td>\n",
              "      <td id=\"T_e3eaf_row5_col2\" class=\"data row5 col2\" >30</td>\n",
              "      <td id=\"T_e3eaf_row5_col3\" class=\"data row5 col3\" > hired by </td>\n",
              "      <td id=\"T_e3eaf_row5_col4\" class=\"data row5 col4\" >Amitabh</td>\n",
              "      <td id=\"T_e3eaf_row5_col5\" class=\"data row5 col5\" >Executive</td>\n",
              "      <td id=\"T_e3eaf_row5_col6\" class=\"data row5 col6\" >10</td>\n",
              "    </tr>\n",
              "    <tr>\n",
              "      <td id=\"T_e3eaf_row6_col0\" class=\"data row6 col0\" >Jagmohan</td>\n",
              "      <td id=\"T_e3eaf_row6_col1\" class=\"data row6 col1\" >Clerk</td>\n",
              "      <td id=\"T_e3eaf_row6_col2\" class=\"data row6 col2\" >30</td>\n",
              "      <td id=\"T_e3eaf_row6_col3\" class=\"data row6 col3\" > hired by </td>\n",
              "      <td id=\"T_e3eaf_row6_col4\" class=\"data row6 col4\" >Rahul</td>\n",
              "      <td id=\"T_e3eaf_row6_col5\" class=\"data row6 col5\" >Sr Manager</td>\n",
              "      <td id=\"T_e3eaf_row6_col6\" class=\"data row6 col6\" >30</td>\n",
              "    </tr>\n",
              "    <tr>\n",
              "      <td id=\"T_e3eaf_row7_col0\" class=\"data row7 col0\" >Sourav</td>\n",
              "      <td id=\"T_e3eaf_row7_col1\" class=\"data row7 col1\" >Cus_Rep</td>\n",
              "      <td id=\"T_e3eaf_row7_col2\" class=\"data row7 col2\" >40</td>\n",
              "      <td id=\"T_e3eaf_row7_col3\" class=\"data row7 col3\" > hired by </td>\n",
              "      <td id=\"T_e3eaf_row7_col4\" class=\"data row7 col4\" >Rekha</td>\n",
              "      <td id=\"T_e3eaf_row7_col5\" class=\"data row7 col5\" >Director</td>\n",
              "      <td id=\"T_e3eaf_row7_col6\" class=\"data row7 col6\" >10</td>\n",
              "    </tr>\n",
              "    <tr>\n",
              "      <td id=\"T_e3eaf_row8_col0\" class=\"data row8 col0\" >Rekha</td>\n",
              "      <td id=\"T_e3eaf_row8_col1\" class=\"data row8 col1\" >Director</td>\n",
              "      <td id=\"T_e3eaf_row8_col2\" class=\"data row8 col2\" >10</td>\n",
              "      <td id=\"T_e3eaf_row8_col3\" class=\"data row8 col3\" > hired by </td>\n",
              "      <td id=\"T_e3eaf_row8_col4\" class=\"data row8 col4\" >Amitabh</td>\n",
              "      <td id=\"T_e3eaf_row8_col5\" class=\"data row8 col5\" >Executive</td>\n",
              "      <td id=\"T_e3eaf_row8_col6\" class=\"data row8 col6\" >10</td>\n",
              "    </tr>\n",
              "    <tr>\n",
              "      <td id=\"T_e3eaf_row9_col0\" class=\"data row9 col0\" >Narayan</td>\n",
              "      <td id=\"T_e3eaf_row9_col1\" class=\"data row9 col1\" >Secretary</td>\n",
              "      <td id=\"T_e3eaf_row9_col2\" class=\"data row9 col2\" >10</td>\n",
              "      <td id=\"T_e3eaf_row9_col3\" class=\"data row9 col3\" > hired by </td>\n",
              "      <td id=\"T_e3eaf_row9_col4\" class=\"data row9 col4\" >Rekha</td>\n",
              "      <td id=\"T_e3eaf_row9_col5\" class=\"data row9 col5\" >Director</td>\n",
              "      <td id=\"T_e3eaf_row9_col6\" class=\"data row9 col6\" >10</td>\n",
              "    </tr>\n",
              "    <tr>\n",
              "      <td id=\"T_e3eaf_row10_col0\" class=\"data row10 col0\" >Chettri</td>\n",
              "      <td id=\"T_e3eaf_row10_col1\" class=\"data row10 col1\" >Dy Manager</td>\n",
              "      <td id=\"T_e3eaf_row10_col2\" class=\"data row10 col2\" >70</td>\n",
              "      <td id=\"T_e3eaf_row10_col3\" class=\"data row10 col3\" > hired by </td>\n",
              "      <td id=\"T_e3eaf_row10_col4\" class=\"data row10 col4\" >Sourav</td>\n",
              "      <td id=\"T_e3eaf_row10_col5\" class=\"data row10 col5\" >Cus_Rep</td>\n",
              "      <td id=\"T_e3eaf_row10_col6\" class=\"data row10 col6\" >40</td>\n",
              "    </tr>\n",
              "    <tr>\n",
              "      <td id=\"T_e3eaf_row11_col0\" class=\"data row11 col0\" >Sania</td>\n",
              "      <td id=\"T_e3eaf_row11_col1\" class=\"data row11 col1\" >Cus_Rep</td>\n",
              "      <td id=\"T_e3eaf_row11_col2\" class=\"data row11 col2\" >30</td>\n",
              "      <td id=\"T_e3eaf_row11_col3\" class=\"data row11 col3\" > hired by </td>\n",
              "      <td id=\"T_e3eaf_row11_col4\" class=\"data row11 col4\" >Rahul</td>\n",
              "      <td id=\"T_e3eaf_row11_col5\" class=\"data row11 col5\" >Sr Manager</td>\n",
              "      <td id=\"T_e3eaf_row11_col6\" class=\"data row11 col6\" >30</td>\n",
              "    </tr>\n",
              "  </tbody>\n",
              "</table>\n"
            ]
          },
          "metadata": {},
          "execution_count": 56
        }
      ]
    },
    {
      "cell_type": "markdown",
      "source": [
        "#Subquery"
      ],
      "metadata": {
        "id": "tXDgw1RBzUf-"
      }
    },
    {
      "cell_type": "code",
      "source": [
        "sql = \"select lastname, salary, jobdesc, deptid from empl where \\\n",
        "salary = (select max(salary) from empl where deptid = '20') \\\n",
        "and deptid = '20'\"\n",
        "\n",
        "runSelect(sql)"
      ],
      "metadata": {
        "colab": {
          "base_uri": "https://localhost:8080/",
          "height": 81
        },
        "id": "SxQqgOcHzYTF",
        "outputId": "fbc714de-d540-4df8-fea6-504e26728695"
      },
      "execution_count": 57,
      "outputs": [
        {
          "output_type": "execute_result",
          "data": {
            "text/plain": [
              "<pandas.io.formats.style.Styler at 0x782ef4fdb400>"
            ],
            "text/html": [
              "<style type=\"text/css\">\n",
              "</style>\n",
              "<table id=\"T_6d96b\" class=\"dataframe\">\n",
              "  <thead>\n",
              "    <tr>\n",
              "      <th id=\"T_6d96b_level0_col0\" class=\"col_heading level0 col0\" >lastname</th>\n",
              "      <th id=\"T_6d96b_level0_col1\" class=\"col_heading level0 col1\" >salary</th>\n",
              "      <th id=\"T_6d96b_level0_col2\" class=\"col_heading level0 col2\" >jobdesc</th>\n",
              "      <th id=\"T_6d96b_level0_col3\" class=\"col_heading level0 col3\" >deptid</th>\n",
              "    </tr>\n",
              "  </thead>\n",
              "  <tbody>\n",
              "    <tr>\n",
              "      <td id=\"T_6d96b_row0_col0\" class=\"data row0 col0\" >Khan</td>\n",
              "      <td id=\"T_6d96b_row0_col1\" class=\"data row0 col1\" >30000</td>\n",
              "      <td id=\"T_6d96b_row0_col2\" class=\"data row0 col2\" >Manager</td>\n",
              "      <td id=\"T_6d96b_row0_col3\" class=\"data row0 col3\" >20</td>\n",
              "    </tr>\n",
              "  </tbody>\n",
              "</table>\n"
            ]
          },
          "metadata": {},
          "execution_count": 57
        }
      ]
    },
    {
      "cell_type": "code",
      "source": [
        "sql = \"select lastname, salary, jobdesc, deptid from empl where salary < (select avg(salary) from empl where deptid = '20')\\\n",
        "and deptid = '20'\"\n",
        "runSelect(sql)"
      ],
      "metadata": {
        "colab": {
          "base_uri": "https://localhost:8080/",
          "height": 112
        },
        "id": "oEhaMtyLz3Tm",
        "outputId": "7c927d7f-32fb-4e4c-aca0-8a5edb7433f8"
      },
      "execution_count": 58,
      "outputs": [
        {
          "output_type": "execute_result",
          "data": {
            "text/plain": [
              "<pandas.io.formats.style.Styler at 0x782ef4fdb790>"
            ],
            "text/html": [
              "<style type=\"text/css\">\n",
              "</style>\n",
              "<table id=\"T_4aea8\" class=\"dataframe\">\n",
              "  <thead>\n",
              "    <tr>\n",
              "      <th id=\"T_4aea8_level0_col0\" class=\"col_heading level0 col0\" >lastname</th>\n",
              "      <th id=\"T_4aea8_level0_col1\" class=\"col_heading level0 col1\" >salary</th>\n",
              "      <th id=\"T_4aea8_level0_col2\" class=\"col_heading level0 col2\" >jobdesc</th>\n",
              "      <th id=\"T_4aea8_level0_col3\" class=\"col_heading level0 col3\" >deptid</th>\n",
              "    </tr>\n",
              "  </thead>\n",
              "  <tbody>\n",
              "    <tr>\n",
              "      <td id=\"T_4aea8_row0_col0\" class=\"data row0 col0\" >Dikshit</td>\n",
              "      <td id=\"T_4aea8_row0_col1\" class=\"data row0 col1\" >10000</td>\n",
              "      <td id=\"T_4aea8_row0_col2\" class=\"data row0 col2\" >Clerk</td>\n",
              "      <td id=\"T_4aea8_row0_col3\" class=\"data row0 col3\" >20</td>\n",
              "    </tr>\n",
              "    <tr>\n",
              "      <td id=\"T_4aea8_row1_col0\" class=\"data row1 col0\" >Sehwag</td>\n",
              "      <td id=\"T_4aea8_row1_col1\" class=\"data row1 col1\" >15000</td>\n",
              "      <td id=\"T_4aea8_row1_col2\" class=\"data row1 col2\" >Cus_Rep</td>\n",
              "      <td id=\"T_4aea8_row1_col3\" class=\"data row1 col3\" >20</td>\n",
              "    </tr>\n",
              "  </tbody>\n",
              "</table>\n"
            ]
          },
          "metadata": {},
          "execution_count": 58
        }
      ]
    },
    {
      "cell_type": "markdown",
      "source": [
        "## Exists | Not Exists"
      ],
      "metadata": {
        "id": "l3GWzCV24a2x"
      }
    },
    {
      "cell_type": "code",
      "source": [
        "#!psql -h localhost -p 5432 -Uupraxis -ddbpraxis -c \"\\\n",
        "sql = \"\\\n",
        "select firstname, jobdesc, deptid from empl \\\n",
        "where exists \\\n",
        "(select * from dept where empl.deptid = dept.deptid)\\\n",
        "order by deptid \\\n",
        "\"\n",
        "runSelect(sql)"
      ],
      "metadata": {
        "colab": {
          "base_uri": "https://localhost:8080/",
          "height": 426
        },
        "id": "9vlJrd584fWu",
        "outputId": "0ca56253-1ea0-4261-e63d-1145d68d51db"
      },
      "execution_count": 59,
      "outputs": [
        {
          "output_type": "execute_result",
          "data": {
            "text/plain": [
              "<pandas.io.formats.style.Styler at 0x782ef4fda8c0>"
            ],
            "text/html": [
              "<style type=\"text/css\">\n",
              "</style>\n",
              "<table id=\"T_79bdb\" class=\"dataframe\">\n",
              "  <thead>\n",
              "    <tr>\n",
              "      <th id=\"T_79bdb_level0_col0\" class=\"col_heading level0 col0\" >firstname</th>\n",
              "      <th id=\"T_79bdb_level0_col1\" class=\"col_heading level0 col1\" >jobdesc</th>\n",
              "      <th id=\"T_79bdb_level0_col2\" class=\"col_heading level0 col2\" >deptid</th>\n",
              "    </tr>\n",
              "  </thead>\n",
              "  <tbody>\n",
              "    <tr>\n",
              "      <td id=\"T_79bdb_row0_col0\" class=\"data row0 col0\" >Amitabh</td>\n",
              "      <td id=\"T_79bdb_row0_col1\" class=\"data row0 col1\" >Executive</td>\n",
              "      <td id=\"T_79bdb_row0_col2\" class=\"data row0 col2\" >10</td>\n",
              "    </tr>\n",
              "    <tr>\n",
              "      <td id=\"T_79bdb_row1_col0\" class=\"data row1 col0\" >Rekha</td>\n",
              "      <td id=\"T_79bdb_row1_col1\" class=\"data row1 col1\" >Director</td>\n",
              "      <td id=\"T_79bdb_row1_col2\" class=\"data row1 col2\" >10</td>\n",
              "    </tr>\n",
              "    <tr>\n",
              "      <td id=\"T_79bdb_row2_col0\" class=\"data row2 col0\" >Narayan</td>\n",
              "      <td id=\"T_79bdb_row2_col1\" class=\"data row2 col1\" >Secretary</td>\n",
              "      <td id=\"T_79bdb_row2_col2\" class=\"data row2 col2\" >10</td>\n",
              "    </tr>\n",
              "    <tr>\n",
              "      <td id=\"T_79bdb_row3_col0\" class=\"data row3 col0\" >Madhuri</td>\n",
              "      <td id=\"T_79bdb_row3_col1\" class=\"data row3 col1\" >Clerk</td>\n",
              "      <td id=\"T_79bdb_row3_col2\" class=\"data row3 col2\" >20</td>\n",
              "    </tr>\n",
              "    <tr>\n",
              "      <td id=\"T_79bdb_row4_col0\" class=\"data row4 col0\" >Shahrukh</td>\n",
              "      <td id=\"T_79bdb_row4_col1\" class=\"data row4 col1\" >Manager</td>\n",
              "      <td id=\"T_79bdb_row4_col2\" class=\"data row4 col2\" >20</td>\n",
              "    </tr>\n",
              "    <tr>\n",
              "      <td id=\"T_79bdb_row5_col0\" class=\"data row5 col0\" >Virender</td>\n",
              "      <td id=\"T_79bdb_row5_col1\" class=\"data row5 col1\" >Cus_Rep</td>\n",
              "      <td id=\"T_79bdb_row5_col2\" class=\"data row5 col2\" >20</td>\n",
              "    </tr>\n",
              "    <tr>\n",
              "      <td id=\"T_79bdb_row6_col0\" class=\"data row6 col0\" >Sania</td>\n",
              "      <td id=\"T_79bdb_row6_col1\" class=\"data row6 col1\" >Cus_Rep</td>\n",
              "      <td id=\"T_79bdb_row6_col2\" class=\"data row6 col2\" >30</td>\n",
              "    </tr>\n",
              "    <tr>\n",
              "      <td id=\"T_79bdb_row7_col0\" class=\"data row7 col0\" >Rahul</td>\n",
              "      <td id=\"T_79bdb_row7_col1\" class=\"data row7 col1\" >Sr Manager</td>\n",
              "      <td id=\"T_79bdb_row7_col2\" class=\"data row7 col2\" >30</td>\n",
              "    </tr>\n",
              "    <tr>\n",
              "      <td id=\"T_79bdb_row8_col0\" class=\"data row8 col0\" >Jagmohan</td>\n",
              "      <td id=\"T_79bdb_row8_col1\" class=\"data row8 col1\" >Clerk</td>\n",
              "      <td id=\"T_79bdb_row8_col2\" class=\"data row8 col2\" >30</td>\n",
              "    </tr>\n",
              "    <tr>\n",
              "      <td id=\"T_79bdb_row9_col0\" class=\"data row9 col0\" >Sourav</td>\n",
              "      <td id=\"T_79bdb_row9_col1\" class=\"data row9 col1\" >Cus_Rep</td>\n",
              "      <td id=\"T_79bdb_row9_col2\" class=\"data row9 col2\" >40</td>\n",
              "    </tr>\n",
              "    <tr>\n",
              "      <td id=\"T_79bdb_row10_col0\" class=\"data row10 col0\" >Mahender</td>\n",
              "      <td id=\"T_79bdb_row10_col1\" class=\"data row10 col1\" >Clerk</td>\n",
              "      <td id=\"T_79bdb_row10_col2\" class=\"data row10 col2\" >40</td>\n",
              "    </tr>\n",
              "    <tr>\n",
              "      <td id=\"T_79bdb_row11_col0\" class=\"data row11 col0\" >Rani</td>\n",
              "      <td id=\"T_79bdb_row11_col1\" class=\"data row11 col1\" >Manager</td>\n",
              "      <td id=\"T_79bdb_row11_col2\" class=\"data row11 col2\" >40</td>\n",
              "    </tr>\n",
              "  </tbody>\n",
              "</table>\n"
            ]
          },
          "metadata": {},
          "execution_count": 59
        }
      ]
    },
    {
      "cell_type": "code",
      "source": [
        "#!psql -h localhost -p 5432 -Uupraxis -ddbpraxis -c \"\\\n",
        "sql = \"\\\n",
        "select firstname, jobdesc, deptid from empl \\\n",
        "where not exists \\\n",
        "(select * from dept where empl.deptid = dept.deptid)\\\n",
        "order by deptid \\\n",
        "\"\n",
        "runSelect(sql)"
      ],
      "metadata": {
        "colab": {
          "base_uri": "https://localhost:8080/",
          "height": 81
        },
        "id": "6ntFTYfv5AyB",
        "outputId": "81a22b9f-8392-4593-8bb0-bca24d6710e1"
      },
      "execution_count": 60,
      "outputs": [
        {
          "output_type": "execute_result",
          "data": {
            "text/plain": [
              "<pandas.io.formats.style.Styler at 0x782ef4fda290>"
            ],
            "text/html": [
              "<style type=\"text/css\">\n",
              "</style>\n",
              "<table id=\"T_670f9\" class=\"dataframe\">\n",
              "  <thead>\n",
              "    <tr>\n",
              "      <th id=\"T_670f9_level0_col0\" class=\"col_heading level0 col0\" >firstname</th>\n",
              "      <th id=\"T_670f9_level0_col1\" class=\"col_heading level0 col1\" >jobdesc</th>\n",
              "      <th id=\"T_670f9_level0_col2\" class=\"col_heading level0 col2\" >deptid</th>\n",
              "    </tr>\n",
              "  </thead>\n",
              "  <tbody>\n",
              "    <tr>\n",
              "      <td id=\"T_670f9_row0_col0\" class=\"data row0 col0\" >Chettri</td>\n",
              "      <td id=\"T_670f9_row0_col1\" class=\"data row0 col1\" >Dy Manager</td>\n",
              "      <td id=\"T_670f9_row0_col2\" class=\"data row0 col2\" >70</td>\n",
              "    </tr>\n",
              "  </tbody>\n",
              "</table>\n"
            ]
          },
          "metadata": {},
          "execution_count": 60
        }
      ]
    },
    {
      "cell_type": "markdown",
      "source": [
        "## ALL | ANY"
      ],
      "metadata": {
        "id": "Ft9lsq4Uh8-6"
      }
    },
    {
      "cell_type": "code",
      "source": [
        "#!psql -h localhost -p 5432 -Uupraxis -ddbpraxis -c \"\\\n",
        "sql = \"\\\n",
        "select firstname, jobdesc, deptid, salary from empl \\\n",
        "where salary > all \\\n",
        "(select avg(salary) from empl)\\\n",
        "\"\n",
        "runSelect(sql)"
      ],
      "metadata": {
        "id": "ZySW3QRkiBUG",
        "outputId": "c17f7270-5da8-4713-e19b-70903cbca878",
        "colab": {
          "base_uri": "https://localhost:8080/",
          "height": 238
        }
      },
      "execution_count": 61,
      "outputs": [
        {
          "output_type": "execute_result",
          "data": {
            "text/plain": [
              "<pandas.io.formats.style.Styler at 0x782ef4fdb9d0>"
            ],
            "text/html": [
              "<style type=\"text/css\">\n",
              "</style>\n",
              "<table id=\"T_8ed27\" class=\"dataframe\">\n",
              "  <thead>\n",
              "    <tr>\n",
              "      <th id=\"T_8ed27_level0_col0\" class=\"col_heading level0 col0\" >firstname</th>\n",
              "      <th id=\"T_8ed27_level0_col1\" class=\"col_heading level0 col1\" >jobdesc</th>\n",
              "      <th id=\"T_8ed27_level0_col2\" class=\"col_heading level0 col2\" >deptid</th>\n",
              "      <th id=\"T_8ed27_level0_col3\" class=\"col_heading level0 col3\" >salary</th>\n",
              "    </tr>\n",
              "  </thead>\n",
              "  <tbody>\n",
              "    <tr>\n",
              "      <td id=\"T_8ed27_row0_col0\" class=\"data row0 col0\" >Amitabh</td>\n",
              "      <td id=\"T_8ed27_row0_col1\" class=\"data row0 col1\" >Executive</td>\n",
              "      <td id=\"T_8ed27_row0_col2\" class=\"data row0 col2\" >10</td>\n",
              "      <td id=\"T_8ed27_row0_col3\" class=\"data row0 col3\" >50000</td>\n",
              "    </tr>\n",
              "    <tr>\n",
              "      <td id=\"T_8ed27_row1_col0\" class=\"data row1 col0\" >Shahrukh</td>\n",
              "      <td id=\"T_8ed27_row1_col1\" class=\"data row1 col1\" >Manager</td>\n",
              "      <td id=\"T_8ed27_row1_col2\" class=\"data row1 col2\" >20</td>\n",
              "      <td id=\"T_8ed27_row1_col3\" class=\"data row1 col3\" >30000</td>\n",
              "    </tr>\n",
              "    <tr>\n",
              "      <td id=\"T_8ed27_row2_col0\" class=\"data row2 col0\" >Rahul</td>\n",
              "      <td id=\"T_8ed27_row2_col1\" class=\"data row2 col1\" >Sr Manager</td>\n",
              "      <td id=\"T_8ed27_row2_col2\" class=\"data row2 col2\" >30</td>\n",
              "      <td id=\"T_8ed27_row2_col3\" class=\"data row2 col3\" >40000</td>\n",
              "    </tr>\n",
              "    <tr>\n",
              "      <td id=\"T_8ed27_row3_col0\" class=\"data row3 col0\" >Rekha</td>\n",
              "      <td id=\"T_8ed27_row3_col1\" class=\"data row3 col1\" >Director</td>\n",
              "      <td id=\"T_8ed27_row3_col2\" class=\"data row3 col2\" >10</td>\n",
              "      <td id=\"T_8ed27_row3_col3\" class=\"data row3 col3\" >60000</td>\n",
              "    </tr>\n",
              "    <tr>\n",
              "      <td id=\"T_8ed27_row4_col0\" class=\"data row4 col0\" >Narayan</td>\n",
              "      <td id=\"T_8ed27_row4_col1\" class=\"data row4 col1\" >Secretary</td>\n",
              "      <td id=\"T_8ed27_row4_col2\" class=\"data row4 col2\" >10</td>\n",
              "      <td id=\"T_8ed27_row4_col3\" class=\"data row4 col3\" >40000</td>\n",
              "    </tr>\n",
              "    <tr>\n",
              "      <td id=\"T_8ed27_row5_col0\" class=\"data row5 col0\" >Chettri</td>\n",
              "      <td id=\"T_8ed27_row5_col1\" class=\"data row5 col1\" >Dy Manager</td>\n",
              "      <td id=\"T_8ed27_row5_col2\" class=\"data row5 col2\" >70</td>\n",
              "      <td id=\"T_8ed27_row5_col3\" class=\"data row5 col3\" >40000</td>\n",
              "    </tr>\n",
              "  </tbody>\n",
              "</table>\n"
            ]
          },
          "metadata": {},
          "execution_count": 61
        }
      ]
    },
    {
      "cell_type": "code",
      "source": [
        "#!psql -h localhost -p 5432 -Uupraxis -ddbpraxis -c \"\\\n",
        "sql = \"\\\n",
        "select firstname, jobdesc, deptid, salary from empl \\\n",
        "where salary <= any \\\n",
        "(select min(salary) from empl)\\\n",
        "\"\n",
        "runSelect(sql)"
      ],
      "metadata": {
        "id": "OrNzFUx2i6n1",
        "outputId": "045a9e42-b30e-4c7d-9b37-3d606dc5b020",
        "colab": {
          "base_uri": "https://localhost:8080/",
          "height": 81
        }
      },
      "execution_count": 62,
      "outputs": [
        {
          "output_type": "execute_result",
          "data": {
            "text/plain": [
              "<pandas.io.formats.style.Styler at 0x782ef4fdaf50>"
            ],
            "text/html": [
              "<style type=\"text/css\">\n",
              "</style>\n",
              "<table id=\"T_3517e\" class=\"dataframe\">\n",
              "  <thead>\n",
              "    <tr>\n",
              "      <th id=\"T_3517e_level0_col0\" class=\"col_heading level0 col0\" >firstname</th>\n",
              "      <th id=\"T_3517e_level0_col1\" class=\"col_heading level0 col1\" >jobdesc</th>\n",
              "      <th id=\"T_3517e_level0_col2\" class=\"col_heading level0 col2\" >deptid</th>\n",
              "      <th id=\"T_3517e_level0_col3\" class=\"col_heading level0 col3\" >salary</th>\n",
              "    </tr>\n",
              "  </thead>\n",
              "  <tbody>\n",
              "    <tr>\n",
              "      <td id=\"T_3517e_row0_col0\" class=\"data row0 col0\" >Mahender</td>\n",
              "      <td id=\"T_3517e_row0_col1\" class=\"data row0 col1\" >Clerk</td>\n",
              "      <td id=\"T_3517e_row0_col2\" class=\"data row0 col2\" >40</td>\n",
              "      <td id=\"T_3517e_row0_col3\" class=\"data row0 col3\" >9000</td>\n",
              "    </tr>\n",
              "  </tbody>\n",
              "</table>\n"
            ]
          },
          "metadata": {},
          "execution_count": 62
        }
      ]
    },
    {
      "cell_type": "code",
      "source": [
        "#!psql -h localhost -p 5432 -Uupraxis -ddbpraxis -c \"\\\n",
        "sql = \"\\\n",
        "select firstname, jobdesc, deptid, salary from empl \\\n",
        "where salary >= any \\\n",
        "(select max(salary) from empl)\\\n",
        "\"\n",
        "runSelect(sql)"
      ],
      "metadata": {
        "id": "_i2nkl8yvjyr",
        "outputId": "55431073-8339-4642-a9af-41239faf0dfd",
        "colab": {
          "base_uri": "https://localhost:8080/",
          "height": 81
        }
      },
      "execution_count": 90,
      "outputs": [
        {
          "output_type": "execute_result",
          "data": {
            "text/plain": [
              "<pandas.io.formats.style.Styler at 0x782ef51088b0>"
            ],
            "text/html": [
              "<style type=\"text/css\">\n",
              "</style>\n",
              "<table id=\"T_08c9f\" class=\"dataframe\">\n",
              "  <thead>\n",
              "    <tr>\n",
              "      <th id=\"T_08c9f_level0_col0\" class=\"col_heading level0 col0\" >firstname</th>\n",
              "      <th id=\"T_08c9f_level0_col1\" class=\"col_heading level0 col1\" >jobdesc</th>\n",
              "      <th id=\"T_08c9f_level0_col2\" class=\"col_heading level0 col2\" >deptid</th>\n",
              "      <th id=\"T_08c9f_level0_col3\" class=\"col_heading level0 col3\" >salary</th>\n",
              "    </tr>\n",
              "  </thead>\n",
              "  <tbody>\n",
              "    <tr>\n",
              "      <td id=\"T_08c9f_row0_col0\" class=\"data row0 col0\" >Rekha</td>\n",
              "      <td id=\"T_08c9f_row0_col1\" class=\"data row0 col1\" >Director</td>\n",
              "      <td id=\"T_08c9f_row0_col2\" class=\"data row0 col2\" >10</td>\n",
              "      <td id=\"T_08c9f_row0_col3\" class=\"data row0 col3\" >60000</td>\n",
              "    </tr>\n",
              "  </tbody>\n",
              "</table>\n"
            ]
          },
          "metadata": {},
          "execution_count": 90
        }
      ]
    },
    {
      "cell_type": "code",
      "source": [
        "#!psql -h localhost -p 5432 -Uupraxis -ddbpraxis -c \"\\\n",
        "sql = \"\\\n",
        "select firstname, jobdesc, deptid, salary from empl \\\n",
        "where salary =  \\\n",
        "(select max(salary) from empl)\\\n",
        "\"\n",
        "runSelect(sql)"
      ],
      "metadata": {
        "id": "k85F_1b4v4hc",
        "outputId": "108cef34-0ef1-4147-a4a4-0a1b3c2fec53",
        "colab": {
          "base_uri": "https://localhost:8080/",
          "height": 81
        }
      },
      "execution_count": 92,
      "outputs": [
        {
          "output_type": "execute_result",
          "data": {
            "text/plain": [
              "<pandas.io.formats.style.Styler at 0x782ef510acb0>"
            ],
            "text/html": [
              "<style type=\"text/css\">\n",
              "</style>\n",
              "<table id=\"T_e7d12\" class=\"dataframe\">\n",
              "  <thead>\n",
              "    <tr>\n",
              "      <th id=\"T_e7d12_level0_col0\" class=\"col_heading level0 col0\" >firstname</th>\n",
              "      <th id=\"T_e7d12_level0_col1\" class=\"col_heading level0 col1\" >jobdesc</th>\n",
              "      <th id=\"T_e7d12_level0_col2\" class=\"col_heading level0 col2\" >deptid</th>\n",
              "      <th id=\"T_e7d12_level0_col3\" class=\"col_heading level0 col3\" >salary</th>\n",
              "    </tr>\n",
              "  </thead>\n",
              "  <tbody>\n",
              "    <tr>\n",
              "      <td id=\"T_e7d12_row0_col0\" class=\"data row0 col0\" >Rekha</td>\n",
              "      <td id=\"T_e7d12_row0_col1\" class=\"data row0 col1\" >Director</td>\n",
              "      <td id=\"T_e7d12_row0_col2\" class=\"data row0 col2\" >10</td>\n",
              "      <td id=\"T_e7d12_row0_col3\" class=\"data row0 col3\" >60000</td>\n",
              "    </tr>\n",
              "  </tbody>\n",
              "</table>\n"
            ]
          },
          "metadata": {},
          "execution_count": 92
        }
      ]
    },
    {
      "cell_type": "markdown",
      "source": [
        "## Common Table Extensions CTE"
      ],
      "metadata": {
        "id": "2gvg8pwe3ale"
      }
    },
    {
      "cell_type": "code",
      "source": [
        "sql = \"\\\n",
        "select jobdesc, avg(salary) avgsalary from empl group by jobdesc \\\n",
        "\"\n",
        "runSelect(sql)"
      ],
      "metadata": {
        "id": "7mu6mmXA3pVn",
        "outputId": "7f1da2fc-946f-4055-d177-73b9c963462d",
        "colab": {
          "base_uri": "https://localhost:8080/",
          "height": 300
        }
      },
      "execution_count": 63,
      "outputs": [
        {
          "output_type": "execute_result",
          "data": {
            "text/plain": [
              "<pandas.io.formats.style.Styler at 0x782ef5006500>"
            ],
            "text/html": [
              "<style type=\"text/css\">\n",
              "</style>\n",
              "<table id=\"T_80a0b\" class=\"dataframe\">\n",
              "  <thead>\n",
              "    <tr>\n",
              "      <th id=\"T_80a0b_level0_col0\" class=\"col_heading level0 col0\" >jobdesc</th>\n",
              "      <th id=\"T_80a0b_level0_col1\" class=\"col_heading level0 col1\" >avgsalary</th>\n",
              "    </tr>\n",
              "  </thead>\n",
              "  <tbody>\n",
              "    <tr>\n",
              "      <td id=\"T_80a0b_row0_col0\" class=\"data row0 col0\" >Director</td>\n",
              "      <td id=\"T_80a0b_row0_col1\" class=\"data row0 col1\" >60000.000000000000</td>\n",
              "    </tr>\n",
              "    <tr>\n",
              "      <td id=\"T_80a0b_row1_col0\" class=\"data row1 col0\" >Manager</td>\n",
              "      <td id=\"T_80a0b_row1_col1\" class=\"data row1 col1\" >27500.000000000000</td>\n",
              "    </tr>\n",
              "    <tr>\n",
              "      <td id=\"T_80a0b_row2_col0\" class=\"data row2 col0\" >Dy Manager</td>\n",
              "      <td id=\"T_80a0b_row2_col1\" class=\"data row2 col1\" >40000.000000000000</td>\n",
              "    </tr>\n",
              "    <tr>\n",
              "      <td id=\"T_80a0b_row3_col0\" class=\"data row3 col0\" >Executive</td>\n",
              "      <td id=\"T_80a0b_row3_col1\" class=\"data row3 col1\" >50000.000000000000</td>\n",
              "    </tr>\n",
              "    <tr>\n",
              "      <td id=\"T_80a0b_row4_col0\" class=\"data row4 col0\" >Secretary</td>\n",
              "      <td id=\"T_80a0b_row4_col1\" class=\"data row4 col1\" >40000.000000000000</td>\n",
              "    </tr>\n",
              "    <tr>\n",
              "      <td id=\"T_80a0b_row5_col0\" class=\"data row5 col0\" >Cus_Rep</td>\n",
              "      <td id=\"T_80a0b_row5_col1\" class=\"data row5 col1\" >20000.000000000000</td>\n",
              "    </tr>\n",
              "    <tr>\n",
              "      <td id=\"T_80a0b_row6_col0\" class=\"data row6 col0\" >Clerk</td>\n",
              "      <td id=\"T_80a0b_row6_col1\" class=\"data row6 col1\" >10333.3333333333333333</td>\n",
              "    </tr>\n",
              "    <tr>\n",
              "      <td id=\"T_80a0b_row7_col0\" class=\"data row7 col0\" >Sr Manager</td>\n",
              "      <td id=\"T_80a0b_row7_col1\" class=\"data row7 col1\" >40000.000000000000</td>\n",
              "    </tr>\n",
              "  </tbody>\n",
              "</table>\n"
            ]
          },
          "metadata": {},
          "execution_count": 63
        }
      ]
    },
    {
      "cell_type": "code",
      "source": [
        "sql = \"\\\n",
        "with MeanSalary as \\\n",
        "    (select jobdesc, round(avg(salary),0) avgsalary from empl group by jobdesc) \\\n",
        "select lastname, empl.jobdesc, salary, avgsalary from empl, meansalary \\\n",
        "where empl.jobdesc = meansalary.jobdesc \\\n",
        "order  by jobdesc \\\n",
        "\"\n",
        "runSelect(sql)"
      ],
      "metadata": {
        "id": "0i-rIGEzDgFy",
        "outputId": "efcf74fd-176b-4826-9b55-c5d28fd2f114",
        "colab": {
          "base_uri": "https://localhost:8080/",
          "height": 457
        }
      },
      "execution_count": 64,
      "outputs": [
        {
          "output_type": "execute_result",
          "data": {
            "text/plain": [
              "<pandas.io.formats.style.Styler at 0x782ef4fd8790>"
            ],
            "text/html": [
              "<style type=\"text/css\">\n",
              "</style>\n",
              "<table id=\"T_8c7f7\" class=\"dataframe\">\n",
              "  <thead>\n",
              "    <tr>\n",
              "      <th id=\"T_8c7f7_level0_col0\" class=\"col_heading level0 col0\" >lastname</th>\n",
              "      <th id=\"T_8c7f7_level0_col1\" class=\"col_heading level0 col1\" >jobdesc</th>\n",
              "      <th id=\"T_8c7f7_level0_col2\" class=\"col_heading level0 col2\" >salary</th>\n",
              "      <th id=\"T_8c7f7_level0_col3\" class=\"col_heading level0 col3\" >avgsalary</th>\n",
              "    </tr>\n",
              "  </thead>\n",
              "  <tbody>\n",
              "    <tr>\n",
              "      <td id=\"T_8c7f7_row0_col0\" class=\"data row0 col0\" >Dalmia</td>\n",
              "      <td id=\"T_8c7f7_row0_col1\" class=\"data row0 col1\" >Clerk</td>\n",
              "      <td id=\"T_8c7f7_row0_col2\" class=\"data row0 col2\" >12000</td>\n",
              "      <td id=\"T_8c7f7_row0_col3\" class=\"data row0 col3\" >10333</td>\n",
              "    </tr>\n",
              "    <tr>\n",
              "      <td id=\"T_8c7f7_row1_col0\" class=\"data row1 col0\" >Dikshit</td>\n",
              "      <td id=\"T_8c7f7_row1_col1\" class=\"data row1 col1\" >Clerk</td>\n",
              "      <td id=\"T_8c7f7_row1_col2\" class=\"data row1 col2\" >10000</td>\n",
              "      <td id=\"T_8c7f7_row1_col3\" class=\"data row1 col3\" >10333</td>\n",
              "    </tr>\n",
              "    <tr>\n",
              "      <td id=\"T_8c7f7_row2_col0\" class=\"data row2 col0\" >Dhoni</td>\n",
              "      <td id=\"T_8c7f7_row2_col1\" class=\"data row2 col1\" >Clerk</td>\n",
              "      <td id=\"T_8c7f7_row2_col2\" class=\"data row2 col2\" >9000</td>\n",
              "      <td id=\"T_8c7f7_row2_col3\" class=\"data row2 col3\" >10333</td>\n",
              "    </tr>\n",
              "    <tr>\n",
              "      <td id=\"T_8c7f7_row3_col0\" class=\"data row3 col0\" >Sehwag</td>\n",
              "      <td id=\"T_8c7f7_row3_col1\" class=\"data row3 col1\" >Cus_Rep</td>\n",
              "      <td id=\"T_8c7f7_row3_col2\" class=\"data row3 col2\" >15000</td>\n",
              "      <td id=\"T_8c7f7_row3_col3\" class=\"data row3 col3\" >20000</td>\n",
              "    </tr>\n",
              "    <tr>\n",
              "      <td id=\"T_8c7f7_row4_col0\" class=\"data row4 col0\" >Mirza</td>\n",
              "      <td id=\"T_8c7f7_row4_col1\" class=\"data row4 col1\" >Cus_Rep</td>\n",
              "      <td id=\"T_8c7f7_row4_col2\" class=\"data row4 col2\" >25000</td>\n",
              "      <td id=\"T_8c7f7_row4_col3\" class=\"data row4 col3\" >20000</td>\n",
              "    </tr>\n",
              "    <tr>\n",
              "      <td id=\"T_8c7f7_row5_col0\" class=\"data row5 col0\" >Ganguly</td>\n",
              "      <td id=\"T_8c7f7_row5_col1\" class=\"data row5 col1\" >Cus_Rep</td>\n",
              "      <td id=\"T_8c7f7_row5_col2\" class=\"data row5 col2\" >20000</td>\n",
              "      <td id=\"T_8c7f7_row5_col3\" class=\"data row5 col3\" >20000</td>\n",
              "    </tr>\n",
              "    <tr>\n",
              "      <td id=\"T_8c7f7_row6_col0\" class=\"data row6 col0\" >Ganesan</td>\n",
              "      <td id=\"T_8c7f7_row6_col1\" class=\"data row6 col1\" >Director</td>\n",
              "      <td id=\"T_8c7f7_row6_col2\" class=\"data row6 col2\" >60000</td>\n",
              "      <td id=\"T_8c7f7_row6_col3\" class=\"data row6 col3\" >60000</td>\n",
              "    </tr>\n",
              "    <tr>\n",
              "      <td id=\"T_8c7f7_row7_col0\" class=\"data row7 col0\" >Sunil</td>\n",
              "      <td id=\"T_8c7f7_row7_col1\" class=\"data row7 col1\" >Dy Manager</td>\n",
              "      <td id=\"T_8c7f7_row7_col2\" class=\"data row7 col2\" >40000</td>\n",
              "      <td id=\"T_8c7f7_row7_col3\" class=\"data row7 col3\" >40000</td>\n",
              "    </tr>\n",
              "    <tr>\n",
              "      <td id=\"T_8c7f7_row8_col0\" class=\"data row8 col0\" >Bacchan</td>\n",
              "      <td id=\"T_8c7f7_row8_col1\" class=\"data row8 col1\" >Executive</td>\n",
              "      <td id=\"T_8c7f7_row8_col2\" class=\"data row8 col2\" >50000</td>\n",
              "      <td id=\"T_8c7f7_row8_col3\" class=\"data row8 col3\" >50000</td>\n",
              "    </tr>\n",
              "    <tr>\n",
              "      <td id=\"T_8c7f7_row9_col0\" class=\"data row9 col0\" >Khan</td>\n",
              "      <td id=\"T_8c7f7_row9_col1\" class=\"data row9 col1\" >Manager</td>\n",
              "      <td id=\"T_8c7f7_row9_col2\" class=\"data row9 col2\" >30000</td>\n",
              "      <td id=\"T_8c7f7_row9_col3\" class=\"data row9 col3\" >27500</td>\n",
              "    </tr>\n",
              "    <tr>\n",
              "      <td id=\"T_8c7f7_row10_col0\" class=\"data row10 col0\" >Mukherjee</td>\n",
              "      <td id=\"T_8c7f7_row10_col1\" class=\"data row10 col1\" >Manager</td>\n",
              "      <td id=\"T_8c7f7_row10_col2\" class=\"data row10 col2\" >25000</td>\n",
              "      <td id=\"T_8c7f7_row10_col3\" class=\"data row10 col3\" >27500</td>\n",
              "    </tr>\n",
              "    <tr>\n",
              "      <td id=\"T_8c7f7_row11_col0\" class=\"data row11 col0\" >Karthikeyan</td>\n",
              "      <td id=\"T_8c7f7_row11_col1\" class=\"data row11 col1\" >Secretary</td>\n",
              "      <td id=\"T_8c7f7_row11_col2\" class=\"data row11 col2\" >40000</td>\n",
              "      <td id=\"T_8c7f7_row11_col3\" class=\"data row11 col3\" >40000</td>\n",
              "    </tr>\n",
              "    <tr>\n",
              "      <td id=\"T_8c7f7_row12_col0\" class=\"data row12 col0\" >Dravid</td>\n",
              "      <td id=\"T_8c7f7_row12_col1\" class=\"data row12 col1\" >Sr Manager</td>\n",
              "      <td id=\"T_8c7f7_row12_col2\" class=\"data row12 col2\" >40000</td>\n",
              "      <td id=\"T_8c7f7_row12_col3\" class=\"data row12 col3\" >40000</td>\n",
              "    </tr>\n",
              "  </tbody>\n",
              "</table>\n"
            ]
          },
          "metadata": {},
          "execution_count": 64
        }
      ]
    },
    {
      "cell_type": "code",
      "source": [
        "sql = \"\\\n",
        "select lastname, empl.jobdesc, salary, avgsalary from \\\n",
        "empl, (select jobdesc, round(avg(salary),0) avgsalary from empl group by jobdesc) meansalary \\\n",
        "where empl.jobdesc = meansalary.jobdesc \\\n",
        "order  by jobdesc \\\n",
        "\"\n",
        "runSelect(sql)"
      ],
      "metadata": {
        "id": "nwrLj4xaExye",
        "outputId": "9f8c8f1a-4718-4184-ff67-28591978f7b3",
        "colab": {
          "base_uri": "https://localhost:8080/",
          "height": 457
        }
      },
      "execution_count": 65,
      "outputs": [
        {
          "output_type": "execute_result",
          "data": {
            "text/plain": [
              "<pandas.io.formats.style.Styler at 0x782ef5006950>"
            ],
            "text/html": [
              "<style type=\"text/css\">\n",
              "</style>\n",
              "<table id=\"T_1c5a6\" class=\"dataframe\">\n",
              "  <thead>\n",
              "    <tr>\n",
              "      <th id=\"T_1c5a6_level0_col0\" class=\"col_heading level0 col0\" >lastname</th>\n",
              "      <th id=\"T_1c5a6_level0_col1\" class=\"col_heading level0 col1\" >jobdesc</th>\n",
              "      <th id=\"T_1c5a6_level0_col2\" class=\"col_heading level0 col2\" >salary</th>\n",
              "      <th id=\"T_1c5a6_level0_col3\" class=\"col_heading level0 col3\" >avgsalary</th>\n",
              "    </tr>\n",
              "  </thead>\n",
              "  <tbody>\n",
              "    <tr>\n",
              "      <td id=\"T_1c5a6_row0_col0\" class=\"data row0 col0\" >Dalmia</td>\n",
              "      <td id=\"T_1c5a6_row0_col1\" class=\"data row0 col1\" >Clerk</td>\n",
              "      <td id=\"T_1c5a6_row0_col2\" class=\"data row0 col2\" >12000</td>\n",
              "      <td id=\"T_1c5a6_row0_col3\" class=\"data row0 col3\" >10333</td>\n",
              "    </tr>\n",
              "    <tr>\n",
              "      <td id=\"T_1c5a6_row1_col0\" class=\"data row1 col0\" >Dikshit</td>\n",
              "      <td id=\"T_1c5a6_row1_col1\" class=\"data row1 col1\" >Clerk</td>\n",
              "      <td id=\"T_1c5a6_row1_col2\" class=\"data row1 col2\" >10000</td>\n",
              "      <td id=\"T_1c5a6_row1_col3\" class=\"data row1 col3\" >10333</td>\n",
              "    </tr>\n",
              "    <tr>\n",
              "      <td id=\"T_1c5a6_row2_col0\" class=\"data row2 col0\" >Dhoni</td>\n",
              "      <td id=\"T_1c5a6_row2_col1\" class=\"data row2 col1\" >Clerk</td>\n",
              "      <td id=\"T_1c5a6_row2_col2\" class=\"data row2 col2\" >9000</td>\n",
              "      <td id=\"T_1c5a6_row2_col3\" class=\"data row2 col3\" >10333</td>\n",
              "    </tr>\n",
              "    <tr>\n",
              "      <td id=\"T_1c5a6_row3_col0\" class=\"data row3 col0\" >Sehwag</td>\n",
              "      <td id=\"T_1c5a6_row3_col1\" class=\"data row3 col1\" >Cus_Rep</td>\n",
              "      <td id=\"T_1c5a6_row3_col2\" class=\"data row3 col2\" >15000</td>\n",
              "      <td id=\"T_1c5a6_row3_col3\" class=\"data row3 col3\" >20000</td>\n",
              "    </tr>\n",
              "    <tr>\n",
              "      <td id=\"T_1c5a6_row4_col0\" class=\"data row4 col0\" >Mirza</td>\n",
              "      <td id=\"T_1c5a6_row4_col1\" class=\"data row4 col1\" >Cus_Rep</td>\n",
              "      <td id=\"T_1c5a6_row4_col2\" class=\"data row4 col2\" >25000</td>\n",
              "      <td id=\"T_1c5a6_row4_col3\" class=\"data row4 col3\" >20000</td>\n",
              "    </tr>\n",
              "    <tr>\n",
              "      <td id=\"T_1c5a6_row5_col0\" class=\"data row5 col0\" >Ganguly</td>\n",
              "      <td id=\"T_1c5a6_row5_col1\" class=\"data row5 col1\" >Cus_Rep</td>\n",
              "      <td id=\"T_1c5a6_row5_col2\" class=\"data row5 col2\" >20000</td>\n",
              "      <td id=\"T_1c5a6_row5_col3\" class=\"data row5 col3\" >20000</td>\n",
              "    </tr>\n",
              "    <tr>\n",
              "      <td id=\"T_1c5a6_row6_col0\" class=\"data row6 col0\" >Ganesan</td>\n",
              "      <td id=\"T_1c5a6_row6_col1\" class=\"data row6 col1\" >Director</td>\n",
              "      <td id=\"T_1c5a6_row6_col2\" class=\"data row6 col2\" >60000</td>\n",
              "      <td id=\"T_1c5a6_row6_col3\" class=\"data row6 col3\" >60000</td>\n",
              "    </tr>\n",
              "    <tr>\n",
              "      <td id=\"T_1c5a6_row7_col0\" class=\"data row7 col0\" >Sunil</td>\n",
              "      <td id=\"T_1c5a6_row7_col1\" class=\"data row7 col1\" >Dy Manager</td>\n",
              "      <td id=\"T_1c5a6_row7_col2\" class=\"data row7 col2\" >40000</td>\n",
              "      <td id=\"T_1c5a6_row7_col3\" class=\"data row7 col3\" >40000</td>\n",
              "    </tr>\n",
              "    <tr>\n",
              "      <td id=\"T_1c5a6_row8_col0\" class=\"data row8 col0\" >Bacchan</td>\n",
              "      <td id=\"T_1c5a6_row8_col1\" class=\"data row8 col1\" >Executive</td>\n",
              "      <td id=\"T_1c5a6_row8_col2\" class=\"data row8 col2\" >50000</td>\n",
              "      <td id=\"T_1c5a6_row8_col3\" class=\"data row8 col3\" >50000</td>\n",
              "    </tr>\n",
              "    <tr>\n",
              "      <td id=\"T_1c5a6_row9_col0\" class=\"data row9 col0\" >Khan</td>\n",
              "      <td id=\"T_1c5a6_row9_col1\" class=\"data row9 col1\" >Manager</td>\n",
              "      <td id=\"T_1c5a6_row9_col2\" class=\"data row9 col2\" >30000</td>\n",
              "      <td id=\"T_1c5a6_row9_col3\" class=\"data row9 col3\" >27500</td>\n",
              "    </tr>\n",
              "    <tr>\n",
              "      <td id=\"T_1c5a6_row10_col0\" class=\"data row10 col0\" >Mukherjee</td>\n",
              "      <td id=\"T_1c5a6_row10_col1\" class=\"data row10 col1\" >Manager</td>\n",
              "      <td id=\"T_1c5a6_row10_col2\" class=\"data row10 col2\" >25000</td>\n",
              "      <td id=\"T_1c5a6_row10_col3\" class=\"data row10 col3\" >27500</td>\n",
              "    </tr>\n",
              "    <tr>\n",
              "      <td id=\"T_1c5a6_row11_col0\" class=\"data row11 col0\" >Karthikeyan</td>\n",
              "      <td id=\"T_1c5a6_row11_col1\" class=\"data row11 col1\" >Secretary</td>\n",
              "      <td id=\"T_1c5a6_row11_col2\" class=\"data row11 col2\" >40000</td>\n",
              "      <td id=\"T_1c5a6_row11_col3\" class=\"data row11 col3\" >40000</td>\n",
              "    </tr>\n",
              "    <tr>\n",
              "      <td id=\"T_1c5a6_row12_col0\" class=\"data row12 col0\" >Dravid</td>\n",
              "      <td id=\"T_1c5a6_row12_col1\" class=\"data row12 col1\" >Sr Manager</td>\n",
              "      <td id=\"T_1c5a6_row12_col2\" class=\"data row12 col2\" >40000</td>\n",
              "      <td id=\"T_1c5a6_row12_col3\" class=\"data row12 col3\" >40000</td>\n",
              "    </tr>\n",
              "  </tbody>\n",
              "</table>\n"
            ]
          },
          "metadata": {},
          "execution_count": 65
        }
      ]
    },
    {
      "cell_type": "markdown",
      "source": [
        "### CTE Recursion"
      ],
      "metadata": {
        "id": "d3j9PbgaADoB"
      }
    },
    {
      "cell_type": "code",
      "source": [
        "# recursion\n",
        "sql = \"\\\n",
        "with recursive hiring_chain as (\\\n",
        "select empid, lastname, hiredby \\\n",
        "    from empl where lastname = 'Ganesan' \\\n",
        "union all \\\n",
        "select \\\n",
        "e.empid, e.lastname,e.hiredby \\\n",
        "    from empl e \\\n",
        "    inner join hiring_chain hc on hc.empid = e.hiredby \\\n",
        ") \\\n",
        "select * from hiring_chain \\\n",
        "\"\n",
        "\n",
        "runSelect(sql)"
      ],
      "metadata": {
        "id": "HA-RyLoz0D3Z",
        "outputId": "6a89986b-248c-4b59-dedd-1cb21852a41f",
        "colab": {
          "base_uri": "https://localhost:8080/",
          "height": 175
        }
      },
      "execution_count": 66,
      "outputs": [
        {
          "output_type": "execute_result",
          "data": {
            "text/plain": [
              "<pandas.io.formats.style.Styler at 0x782ef50067a0>"
            ],
            "text/html": [
              "<style type=\"text/css\">\n",
              "</style>\n",
              "<table id=\"T_27cb2\" class=\"dataframe\">\n",
              "  <thead>\n",
              "    <tr>\n",
              "      <th id=\"T_27cb2_level0_col0\" class=\"col_heading level0 col0\" >empid</th>\n",
              "      <th id=\"T_27cb2_level0_col1\" class=\"col_heading level0 col1\" >lastname</th>\n",
              "      <th id=\"T_27cb2_level0_col2\" class=\"col_heading level0 col2\" >hiredby</th>\n",
              "    </tr>\n",
              "  </thead>\n",
              "  <tbody>\n",
              "    <tr>\n",
              "      <td id=\"T_27cb2_row0_col0\" class=\"data row0 col0\" >299034</td>\n",
              "      <td id=\"T_27cb2_row0_col1\" class=\"data row0 col1\" >Ganesan</td>\n",
              "      <td id=\"T_27cb2_row0_col2\" class=\"data row0 col2\" >742866</td>\n",
              "    </tr>\n",
              "    <tr>\n",
              "      <td id=\"T_27cb2_row1_col0\" class=\"data row1 col0\" >989007</td>\n",
              "      <td id=\"T_27cb2_row1_col1\" class=\"data row1 col1\" >Ganguly</td>\n",
              "      <td id=\"T_27cb2_row1_col2\" class=\"data row1 col2\" >299034</td>\n",
              "    </tr>\n",
              "    <tr>\n",
              "      <td id=\"T_27cb2_row2_col0\" class=\"data row2 col0\" >546223</td>\n",
              "      <td id=\"T_27cb2_row2_col1\" class=\"data row2 col1\" >Karthikeyan</td>\n",
              "      <td id=\"T_27cb2_row2_col2\" class=\"data row2 col2\" >299034</td>\n",
              "    </tr>\n",
              "    <tr>\n",
              "      <td id=\"T_27cb2_row3_col0\" class=\"data row3 col0\" >546224</td>\n",
              "      <td id=\"T_27cb2_row3_col1\" class=\"data row3 col1\" >Sunil</td>\n",
              "      <td id=\"T_27cb2_row3_col2\" class=\"data row3 col2\" >989007</td>\n",
              "    </tr>\n",
              "  </tbody>\n",
              "</table>\n"
            ]
          },
          "metadata": {},
          "execution_count": 66
        }
      ]
    },
    {
      "cell_type": "markdown",
      "source": [
        "### More Sophisticated Recursion\n",
        "note the switch between upward chain and downward chain in the JOIN column <br>\n",
        "\n",
        "\n",
        "*   Downward > e.hiredby = hc.empid\n",
        "*   Upward   > e.empid = hc.hiredby\n",
        "\n",
        "Courtesy [ChatGPT](https://chat.openai.com/share/80e291a6-bbd2-42d8-ba3d-6e01be4eafd7)"
      ],
      "metadata": {
        "id": "a5zh-tdQAxJp"
      }
    },
    {
      "cell_type": "code",
      "source": [
        "# Downward Chain\n",
        "#\n",
        "sql = \"\\\n",
        "with recursive hiring_chain as (\\\n",
        "select empid, lastname, hiredby, 1 as level \\\n",
        "    from empl where hiredby = '299034' \\\n",
        "union all \\\n",
        "select \\\n",
        "e.empid, e.lastname,e.hiredby, hc.level+1 \\\n",
        "    from empl e \\\n",
        "    inner join hiring_chain hc on e.hiredby = hc.empid  \\\n",
        ") \\\n",
        "select * from hiring_chain \\\n",
        "\"\n",
        "\n",
        "runSelect(sql)"
      ],
      "metadata": {
        "id": "wEsTzZbxA9Y9",
        "outputId": "1de4e5f9-455c-4c0e-dd5c-215274979a81",
        "colab": {
          "base_uri": "https://localhost:8080/",
          "height": 143
        }
      },
      "execution_count": 67,
      "outputs": [
        {
          "output_type": "execute_result",
          "data": {
            "text/plain": [
              "<pandas.io.formats.style.Styler at 0x782ef50041c0>"
            ],
            "text/html": [
              "<style type=\"text/css\">\n",
              "</style>\n",
              "<table id=\"T_3ad97\" class=\"dataframe\">\n",
              "  <thead>\n",
              "    <tr>\n",
              "      <th id=\"T_3ad97_level0_col0\" class=\"col_heading level0 col0\" >empid</th>\n",
              "      <th id=\"T_3ad97_level0_col1\" class=\"col_heading level0 col1\" >lastname</th>\n",
              "      <th id=\"T_3ad97_level0_col2\" class=\"col_heading level0 col2\" >hiredby</th>\n",
              "      <th id=\"T_3ad97_level0_col3\" class=\"col_heading level0 col3\" >level</th>\n",
              "    </tr>\n",
              "  </thead>\n",
              "  <tbody>\n",
              "    <tr>\n",
              "      <td id=\"T_3ad97_row0_col0\" class=\"data row0 col0\" >989007</td>\n",
              "      <td id=\"T_3ad97_row0_col1\" class=\"data row0 col1\" >Ganguly</td>\n",
              "      <td id=\"T_3ad97_row0_col2\" class=\"data row0 col2\" >299034</td>\n",
              "      <td id=\"T_3ad97_row0_col3\" class=\"data row0 col3\" >1</td>\n",
              "    </tr>\n",
              "    <tr>\n",
              "      <td id=\"T_3ad97_row1_col0\" class=\"data row1 col0\" >546223</td>\n",
              "      <td id=\"T_3ad97_row1_col1\" class=\"data row1 col1\" >Karthikeyan</td>\n",
              "      <td id=\"T_3ad97_row1_col2\" class=\"data row1 col2\" >299034</td>\n",
              "      <td id=\"T_3ad97_row1_col3\" class=\"data row1 col3\" >1</td>\n",
              "    </tr>\n",
              "    <tr>\n",
              "      <td id=\"T_3ad97_row2_col0\" class=\"data row2 col0\" >546224</td>\n",
              "      <td id=\"T_3ad97_row2_col1\" class=\"data row2 col1\" >Sunil</td>\n",
              "      <td id=\"T_3ad97_row2_col2\" class=\"data row2 col2\" >989007</td>\n",
              "      <td id=\"T_3ad97_row2_col3\" class=\"data row2 col3\" >2</td>\n",
              "    </tr>\n",
              "  </tbody>\n",
              "</table>\n"
            ]
          },
          "metadata": {},
          "execution_count": 67
        }
      ]
    },
    {
      "cell_type": "code",
      "source": [
        "# Downward Chain - Style 2\n",
        "#\n",
        "sql = \"\\\n",
        "with recursive hiring_chain as (\\\n",
        "select empid, lastname, hiredby, 1 as level \\\n",
        "    from empl where hiredby = (select empid from empl where lastname = 'Ganesan') \\\n",
        "union all \\\n",
        "select \\\n",
        "e.empid, e.lastname,e.hiredby, hc.level+1 \\\n",
        "    from empl e \\\n",
        "    inner join hiring_chain hc on e.hiredby = hc.empid  \\\n",
        ") \\\n",
        "select * from hiring_chain \\\n",
        "\"\n",
        "\n",
        "runSelect(sql)"
      ],
      "metadata": {
        "id": "jKvfW2HiQF5O",
        "outputId": "620975d1-b4c3-44ab-f717-fdf6be286a0a",
        "colab": {
          "base_uri": "https://localhost:8080/",
          "height": 143
        }
      },
      "execution_count": 68,
      "outputs": [
        {
          "output_type": "execute_result",
          "data": {
            "text/plain": [
              "<pandas.io.formats.style.Styler at 0x782ef4fd9f00>"
            ],
            "text/html": [
              "<style type=\"text/css\">\n",
              "</style>\n",
              "<table id=\"T_8cb54\" class=\"dataframe\">\n",
              "  <thead>\n",
              "    <tr>\n",
              "      <th id=\"T_8cb54_level0_col0\" class=\"col_heading level0 col0\" >empid</th>\n",
              "      <th id=\"T_8cb54_level0_col1\" class=\"col_heading level0 col1\" >lastname</th>\n",
              "      <th id=\"T_8cb54_level0_col2\" class=\"col_heading level0 col2\" >hiredby</th>\n",
              "      <th id=\"T_8cb54_level0_col3\" class=\"col_heading level0 col3\" >level</th>\n",
              "    </tr>\n",
              "  </thead>\n",
              "  <tbody>\n",
              "    <tr>\n",
              "      <td id=\"T_8cb54_row0_col0\" class=\"data row0 col0\" >989007</td>\n",
              "      <td id=\"T_8cb54_row0_col1\" class=\"data row0 col1\" >Ganguly</td>\n",
              "      <td id=\"T_8cb54_row0_col2\" class=\"data row0 col2\" >299034</td>\n",
              "      <td id=\"T_8cb54_row0_col3\" class=\"data row0 col3\" >1</td>\n",
              "    </tr>\n",
              "    <tr>\n",
              "      <td id=\"T_8cb54_row1_col0\" class=\"data row1 col0\" >546223</td>\n",
              "      <td id=\"T_8cb54_row1_col1\" class=\"data row1 col1\" >Karthikeyan</td>\n",
              "      <td id=\"T_8cb54_row1_col2\" class=\"data row1 col2\" >299034</td>\n",
              "      <td id=\"T_8cb54_row1_col3\" class=\"data row1 col3\" >1</td>\n",
              "    </tr>\n",
              "    <tr>\n",
              "      <td id=\"T_8cb54_row2_col0\" class=\"data row2 col0\" >546224</td>\n",
              "      <td id=\"T_8cb54_row2_col1\" class=\"data row2 col1\" >Sunil</td>\n",
              "      <td id=\"T_8cb54_row2_col2\" class=\"data row2 col2\" >989007</td>\n",
              "      <td id=\"T_8cb54_row2_col3\" class=\"data row2 col3\" >2</td>\n",
              "    </tr>\n",
              "  </tbody>\n",
              "</table>\n"
            ]
          },
          "metadata": {},
          "execution_count": 68
        }
      ]
    },
    {
      "cell_type": "code",
      "source": [
        "# Upward Chain\n",
        "#\n",
        "sql = \"\\\n",
        "with recursive hiring_chain as (\\\n",
        "select empid, lastname, hiredby, 1 as level \\\n",
        "    from empl where lastname = 'Ganesan' \\\n",
        "union all \\\n",
        "select \\\n",
        "e.empid, e.lastname,e.hiredby, hc.level+1 \\\n",
        "    from empl e \\\n",
        "    inner join hiring_chain hc on e.empid = hc.hiredby  \\\n",
        ") \\\n",
        "select * from hiring_chain \\\n",
        "\"\n",
        "\n",
        "runSelect(sql)"
      ],
      "metadata": {
        "id": "ZtH1410DCaOT",
        "outputId": "49667aae-9a5a-46fe-d2e9-0106aee5147b",
        "colab": {
          "base_uri": "https://localhost:8080/",
          "height": 112
        }
      },
      "execution_count": 69,
      "outputs": [
        {
          "output_type": "execute_result",
          "data": {
            "text/plain": [
              "<pandas.io.formats.style.Styler at 0x782f2c28d6c0>"
            ],
            "text/html": [
              "<style type=\"text/css\">\n",
              "</style>\n",
              "<table id=\"T_900f2\" class=\"dataframe\">\n",
              "  <thead>\n",
              "    <tr>\n",
              "      <th id=\"T_900f2_level0_col0\" class=\"col_heading level0 col0\" >empid</th>\n",
              "      <th id=\"T_900f2_level0_col1\" class=\"col_heading level0 col1\" >lastname</th>\n",
              "      <th id=\"T_900f2_level0_col2\" class=\"col_heading level0 col2\" >hiredby</th>\n",
              "      <th id=\"T_900f2_level0_col3\" class=\"col_heading level0 col3\" >level</th>\n",
              "    </tr>\n",
              "  </thead>\n",
              "  <tbody>\n",
              "    <tr>\n",
              "      <td id=\"T_900f2_row0_col0\" class=\"data row0 col0\" >299034</td>\n",
              "      <td id=\"T_900f2_row0_col1\" class=\"data row0 col1\" >Ganesan</td>\n",
              "      <td id=\"T_900f2_row0_col2\" class=\"data row0 col2\" >742866</td>\n",
              "      <td id=\"T_900f2_row0_col3\" class=\"data row0 col3\" >1</td>\n",
              "    </tr>\n",
              "    <tr>\n",
              "      <td id=\"T_900f2_row1_col0\" class=\"data row1 col0\" >742866</td>\n",
              "      <td id=\"T_900f2_row1_col1\" class=\"data row1 col1\" >Bacchan</td>\n",
              "      <td id=\"T_900f2_row1_col2\" class=\"data row1 col2\" >None</td>\n",
              "      <td id=\"T_900f2_row1_col3\" class=\"data row1 col3\" >2</td>\n",
              "    </tr>\n",
              "  </tbody>\n",
              "</table>\n"
            ]
          },
          "metadata": {},
          "execution_count": 69
        }
      ]
    },
    {
      "cell_type": "code",
      "source": [
        "# Upward Chain\n",
        "#\n",
        "sql = \"\\\n",
        "with recursive hiring_chain as (\\\n",
        "select empid, lastname, hiredby, 1 as level \\\n",
        "    from empl where lastname = 'Sunil' \\\n",
        "union all \\\n",
        "select \\\n",
        "e.empid, e.lastname,e.hiredby, hc.level+1 \\\n",
        "    from empl e \\\n",
        "    inner join hiring_chain hc on e.empid = hc.hiredby  \\\n",
        ") \\\n",
        "select * from hiring_chain \\\n",
        "\"\n",
        "\n",
        "runSelect(sql)"
      ],
      "metadata": {
        "id": "ZmBHyLXbPMQF",
        "outputId": "87db4409-3984-48cc-b9f4-4ab421f16a27",
        "colab": {
          "base_uri": "https://localhost:8080/",
          "height": 175
        }
      },
      "execution_count": 70,
      "outputs": [
        {
          "output_type": "execute_result",
          "data": {
            "text/plain": [
              "<pandas.io.formats.style.Styler at 0x782ef5167a00>"
            ],
            "text/html": [
              "<style type=\"text/css\">\n",
              "</style>\n",
              "<table id=\"T_30614\" class=\"dataframe\">\n",
              "  <thead>\n",
              "    <tr>\n",
              "      <th id=\"T_30614_level0_col0\" class=\"col_heading level0 col0\" >empid</th>\n",
              "      <th id=\"T_30614_level0_col1\" class=\"col_heading level0 col1\" >lastname</th>\n",
              "      <th id=\"T_30614_level0_col2\" class=\"col_heading level0 col2\" >hiredby</th>\n",
              "      <th id=\"T_30614_level0_col3\" class=\"col_heading level0 col3\" >level</th>\n",
              "    </tr>\n",
              "  </thead>\n",
              "  <tbody>\n",
              "    <tr>\n",
              "      <td id=\"T_30614_row0_col0\" class=\"data row0 col0\" >546224</td>\n",
              "      <td id=\"T_30614_row0_col1\" class=\"data row0 col1\" >Sunil</td>\n",
              "      <td id=\"T_30614_row0_col2\" class=\"data row0 col2\" >989007</td>\n",
              "      <td id=\"T_30614_row0_col3\" class=\"data row0 col3\" >1</td>\n",
              "    </tr>\n",
              "    <tr>\n",
              "      <td id=\"T_30614_row1_col0\" class=\"data row1 col0\" >989007</td>\n",
              "      <td id=\"T_30614_row1_col1\" class=\"data row1 col1\" >Ganguly</td>\n",
              "      <td id=\"T_30614_row1_col2\" class=\"data row1 col2\" >299034</td>\n",
              "      <td id=\"T_30614_row1_col3\" class=\"data row1 col3\" >2</td>\n",
              "    </tr>\n",
              "    <tr>\n",
              "      <td id=\"T_30614_row2_col0\" class=\"data row2 col0\" >299034</td>\n",
              "      <td id=\"T_30614_row2_col1\" class=\"data row2 col1\" >Ganesan</td>\n",
              "      <td id=\"T_30614_row2_col2\" class=\"data row2 col2\" >742866</td>\n",
              "      <td id=\"T_30614_row2_col3\" class=\"data row2 col3\" >3</td>\n",
              "    </tr>\n",
              "    <tr>\n",
              "      <td id=\"T_30614_row3_col0\" class=\"data row3 col0\" >742866</td>\n",
              "      <td id=\"T_30614_row3_col1\" class=\"data row3 col1\" >Bacchan</td>\n",
              "      <td id=\"T_30614_row3_col2\" class=\"data row3 col2\" >None</td>\n",
              "      <td id=\"T_30614_row3_col3\" class=\"data row3 col3\" >4</td>\n",
              "    </tr>\n",
              "  </tbody>\n",
              "</table>\n"
            ]
          },
          "metadata": {},
          "execution_count": 70
        }
      ]
    },
    {
      "cell_type": "markdown",
      "source": [
        "#Window Functions"
      ],
      "metadata": {
        "id": "p1v2XtGa1QOq"
      }
    },
    {
      "cell_type": "code",
      "source": [
        "sql = \"select deptid, lastname, salary, \\\n",
        "    avg(salary) over (partition by deptid) \\\n",
        "    from empl\"\n",
        "runSelect(sql)"
      ],
      "metadata": {
        "colab": {
          "base_uri": "https://localhost:8080/",
          "height": 457
        },
        "id": "ffpu5hXo1TfJ",
        "outputId": "a7a656d9-c52e-4ab6-cbe1-fce02c63dde6"
      },
      "execution_count": 71,
      "outputs": [
        {
          "output_type": "execute_result",
          "data": {
            "text/plain": [
              "<pandas.io.formats.style.Styler at 0x782ef4f5fee0>"
            ],
            "text/html": [
              "<style type=\"text/css\">\n",
              "</style>\n",
              "<table id=\"T_044be\" class=\"dataframe\">\n",
              "  <thead>\n",
              "    <tr>\n",
              "      <th id=\"T_044be_level0_col0\" class=\"col_heading level0 col0\" >deptid</th>\n",
              "      <th id=\"T_044be_level0_col1\" class=\"col_heading level0 col1\" >lastname</th>\n",
              "      <th id=\"T_044be_level0_col2\" class=\"col_heading level0 col2\" >salary</th>\n",
              "      <th id=\"T_044be_level0_col3\" class=\"col_heading level0 col3\" >avg</th>\n",
              "    </tr>\n",
              "  </thead>\n",
              "  <tbody>\n",
              "    <tr>\n",
              "      <td id=\"T_044be_row0_col0\" class=\"data row0 col0\" >10</td>\n",
              "      <td id=\"T_044be_row0_col1\" class=\"data row0 col1\" >Bacchan</td>\n",
              "      <td id=\"T_044be_row0_col2\" class=\"data row0 col2\" >50000</td>\n",
              "      <td id=\"T_044be_row0_col3\" class=\"data row0 col3\" >50000.000000000000</td>\n",
              "    </tr>\n",
              "    <tr>\n",
              "      <td id=\"T_044be_row1_col0\" class=\"data row1 col0\" >10</td>\n",
              "      <td id=\"T_044be_row1_col1\" class=\"data row1 col1\" >Ganesan</td>\n",
              "      <td id=\"T_044be_row1_col2\" class=\"data row1 col2\" >60000</td>\n",
              "      <td id=\"T_044be_row1_col3\" class=\"data row1 col3\" >50000.000000000000</td>\n",
              "    </tr>\n",
              "    <tr>\n",
              "      <td id=\"T_044be_row2_col0\" class=\"data row2 col0\" >10</td>\n",
              "      <td id=\"T_044be_row2_col1\" class=\"data row2 col1\" >Karthikeyan</td>\n",
              "      <td id=\"T_044be_row2_col2\" class=\"data row2 col2\" >40000</td>\n",
              "      <td id=\"T_044be_row2_col3\" class=\"data row2 col3\" >50000.000000000000</td>\n",
              "    </tr>\n",
              "    <tr>\n",
              "      <td id=\"T_044be_row3_col0\" class=\"data row3 col0\" >20</td>\n",
              "      <td id=\"T_044be_row3_col1\" class=\"data row3 col1\" >Dikshit</td>\n",
              "      <td id=\"T_044be_row3_col2\" class=\"data row3 col2\" >10000</td>\n",
              "      <td id=\"T_044be_row3_col3\" class=\"data row3 col3\" >18333.333333333333</td>\n",
              "    </tr>\n",
              "    <tr>\n",
              "      <td id=\"T_044be_row4_col0\" class=\"data row4 col0\" >20</td>\n",
              "      <td id=\"T_044be_row4_col1\" class=\"data row4 col1\" >Khan</td>\n",
              "      <td id=\"T_044be_row4_col2\" class=\"data row4 col2\" >30000</td>\n",
              "      <td id=\"T_044be_row4_col3\" class=\"data row4 col3\" >18333.333333333333</td>\n",
              "    </tr>\n",
              "    <tr>\n",
              "      <td id=\"T_044be_row5_col0\" class=\"data row5 col0\" >20</td>\n",
              "      <td id=\"T_044be_row5_col1\" class=\"data row5 col1\" >Sehwag</td>\n",
              "      <td id=\"T_044be_row5_col2\" class=\"data row5 col2\" >15000</td>\n",
              "      <td id=\"T_044be_row5_col3\" class=\"data row5 col3\" >18333.333333333333</td>\n",
              "    </tr>\n",
              "    <tr>\n",
              "      <td id=\"T_044be_row6_col0\" class=\"data row6 col0\" >30</td>\n",
              "      <td id=\"T_044be_row6_col1\" class=\"data row6 col1\" >Mirza</td>\n",
              "      <td id=\"T_044be_row6_col2\" class=\"data row6 col2\" >25000</td>\n",
              "      <td id=\"T_044be_row6_col3\" class=\"data row6 col3\" >25666.666666666667</td>\n",
              "    </tr>\n",
              "    <tr>\n",
              "      <td id=\"T_044be_row7_col0\" class=\"data row7 col0\" >30</td>\n",
              "      <td id=\"T_044be_row7_col1\" class=\"data row7 col1\" >Dravid</td>\n",
              "      <td id=\"T_044be_row7_col2\" class=\"data row7 col2\" >40000</td>\n",
              "      <td id=\"T_044be_row7_col3\" class=\"data row7 col3\" >25666.666666666667</td>\n",
              "    </tr>\n",
              "    <tr>\n",
              "      <td id=\"T_044be_row8_col0\" class=\"data row8 col0\" >30</td>\n",
              "      <td id=\"T_044be_row8_col1\" class=\"data row8 col1\" >Dalmia</td>\n",
              "      <td id=\"T_044be_row8_col2\" class=\"data row8 col2\" >12000</td>\n",
              "      <td id=\"T_044be_row8_col3\" class=\"data row8 col3\" >25666.666666666667</td>\n",
              "    </tr>\n",
              "    <tr>\n",
              "      <td id=\"T_044be_row9_col0\" class=\"data row9 col0\" >40</td>\n",
              "      <td id=\"T_044be_row9_col1\" class=\"data row9 col1\" >Ganguly</td>\n",
              "      <td id=\"T_044be_row9_col2\" class=\"data row9 col2\" >20000</td>\n",
              "      <td id=\"T_044be_row9_col3\" class=\"data row9 col3\" >18000.000000000000</td>\n",
              "    </tr>\n",
              "    <tr>\n",
              "      <td id=\"T_044be_row10_col0\" class=\"data row10 col0\" >40</td>\n",
              "      <td id=\"T_044be_row10_col1\" class=\"data row10 col1\" >Dhoni</td>\n",
              "      <td id=\"T_044be_row10_col2\" class=\"data row10 col2\" >9000</td>\n",
              "      <td id=\"T_044be_row10_col3\" class=\"data row10 col3\" >18000.000000000000</td>\n",
              "    </tr>\n",
              "    <tr>\n",
              "      <td id=\"T_044be_row11_col0\" class=\"data row11 col0\" >40</td>\n",
              "      <td id=\"T_044be_row11_col1\" class=\"data row11 col1\" >Mukherjee</td>\n",
              "      <td id=\"T_044be_row11_col2\" class=\"data row11 col2\" >25000</td>\n",
              "      <td id=\"T_044be_row11_col3\" class=\"data row11 col3\" >18000.000000000000</td>\n",
              "    </tr>\n",
              "    <tr>\n",
              "      <td id=\"T_044be_row12_col0\" class=\"data row12 col0\" >70</td>\n",
              "      <td id=\"T_044be_row12_col1\" class=\"data row12 col1\" >Sunil</td>\n",
              "      <td id=\"T_044be_row12_col2\" class=\"data row12 col2\" >40000</td>\n",
              "      <td id=\"T_044be_row12_col3\" class=\"data row12 col3\" >40000.000000000000</td>\n",
              "    </tr>\n",
              "  </tbody>\n",
              "</table>\n"
            ]
          },
          "metadata": {},
          "execution_count": 71
        }
      ]
    },
    {
      "cell_type": "code",
      "source": [
        "sql = \"select deptname, lastname, salary, avg(salary) over (partition by deptname) from empl  inner join dept using(deptid)\"\n",
        "runSelect(sql)"
      ],
      "metadata": {
        "colab": {
          "base_uri": "https://localhost:8080/",
          "height": 426
        },
        "id": "JZC4y3tg2o8A",
        "outputId": "c628b9e9-3949-4015-cb33-99eb6c464962"
      },
      "execution_count": 72,
      "outputs": [
        {
          "output_type": "execute_result",
          "data": {
            "text/plain": [
              "<pandas.io.formats.style.Styler at 0x782ef4f5fd60>"
            ],
            "text/html": [
              "<style type=\"text/css\">\n",
              "</style>\n",
              "<table id=\"T_b0524\" class=\"dataframe\">\n",
              "  <thead>\n",
              "    <tr>\n",
              "      <th id=\"T_b0524_level0_col0\" class=\"col_heading level0 col0\" >deptname</th>\n",
              "      <th id=\"T_b0524_level0_col1\" class=\"col_heading level0 col1\" >lastname</th>\n",
              "      <th id=\"T_b0524_level0_col2\" class=\"col_heading level0 col2\" >salary</th>\n",
              "      <th id=\"T_b0524_level0_col3\" class=\"col_heading level0 col3\" >avg</th>\n",
              "    </tr>\n",
              "  </thead>\n",
              "  <tbody>\n",
              "    <tr>\n",
              "      <td id=\"T_b0524_row0_col0\" class=\"data row0 col0\" >Accounts</td>\n",
              "      <td id=\"T_b0524_row0_col1\" class=\"data row0 col1\" >Dravid</td>\n",
              "      <td id=\"T_b0524_row0_col2\" class=\"data row0 col2\" >40000</td>\n",
              "      <td id=\"T_b0524_row0_col3\" class=\"data row0 col3\" >25666.666666666667</td>\n",
              "    </tr>\n",
              "    <tr>\n",
              "      <td id=\"T_b0524_row1_col0\" class=\"data row1 col0\" >Accounts</td>\n",
              "      <td id=\"T_b0524_row1_col1\" class=\"data row1 col1\" >Dalmia</td>\n",
              "      <td id=\"T_b0524_row1_col2\" class=\"data row1 col2\" >12000</td>\n",
              "      <td id=\"T_b0524_row1_col3\" class=\"data row1 col3\" >25666.666666666667</td>\n",
              "    </tr>\n",
              "    <tr>\n",
              "      <td id=\"T_b0524_row2_col0\" class=\"data row2 col0\" >Accounts</td>\n",
              "      <td id=\"T_b0524_row2_col1\" class=\"data row2 col1\" >Mirza</td>\n",
              "      <td id=\"T_b0524_row2_col2\" class=\"data row2 col2\" >25000</td>\n",
              "      <td id=\"T_b0524_row2_col3\" class=\"data row2 col3\" >25666.666666666667</td>\n",
              "    </tr>\n",
              "    <tr>\n",
              "      <td id=\"T_b0524_row3_col0\" class=\"data row3 col0\" >Corporate</td>\n",
              "      <td id=\"T_b0524_row3_col1\" class=\"data row3 col1\" >Karthikeyan</td>\n",
              "      <td id=\"T_b0524_row3_col2\" class=\"data row3 col2\" >40000</td>\n",
              "      <td id=\"T_b0524_row3_col3\" class=\"data row3 col3\" >50000.000000000000</td>\n",
              "    </tr>\n",
              "    <tr>\n",
              "      <td id=\"T_b0524_row4_col0\" class=\"data row4 col0\" >Corporate</td>\n",
              "      <td id=\"T_b0524_row4_col1\" class=\"data row4 col1\" >Ganesan</td>\n",
              "      <td id=\"T_b0524_row4_col2\" class=\"data row4 col2\" >60000</td>\n",
              "      <td id=\"T_b0524_row4_col3\" class=\"data row4 col3\" >50000.000000000000</td>\n",
              "    </tr>\n",
              "    <tr>\n",
              "      <td id=\"T_b0524_row5_col0\" class=\"data row5 col0\" >Corporate</td>\n",
              "      <td id=\"T_b0524_row5_col1\" class=\"data row5 col1\" >Bacchan</td>\n",
              "      <td id=\"T_b0524_row5_col2\" class=\"data row5 col2\" >50000</td>\n",
              "      <td id=\"T_b0524_row5_col3\" class=\"data row5 col3\" >50000.000000000000</td>\n",
              "    </tr>\n",
              "    <tr>\n",
              "      <td id=\"T_b0524_row6_col0\" class=\"data row6 col0\" >Production</td>\n",
              "      <td id=\"T_b0524_row6_col1\" class=\"data row6 col1\" >Ganguly</td>\n",
              "      <td id=\"T_b0524_row6_col2\" class=\"data row6 col2\" >20000</td>\n",
              "      <td id=\"T_b0524_row6_col3\" class=\"data row6 col3\" >18000.000000000000</td>\n",
              "    </tr>\n",
              "    <tr>\n",
              "      <td id=\"T_b0524_row7_col0\" class=\"data row7 col0\" >Production</td>\n",
              "      <td id=\"T_b0524_row7_col1\" class=\"data row7 col1\" >Dhoni</td>\n",
              "      <td id=\"T_b0524_row7_col2\" class=\"data row7 col2\" >9000</td>\n",
              "      <td id=\"T_b0524_row7_col3\" class=\"data row7 col3\" >18000.000000000000</td>\n",
              "    </tr>\n",
              "    <tr>\n",
              "      <td id=\"T_b0524_row8_col0\" class=\"data row8 col0\" >Production</td>\n",
              "      <td id=\"T_b0524_row8_col1\" class=\"data row8 col1\" >Mukherjee</td>\n",
              "      <td id=\"T_b0524_row8_col2\" class=\"data row8 col2\" >25000</td>\n",
              "      <td id=\"T_b0524_row8_col3\" class=\"data row8 col3\" >18000.000000000000</td>\n",
              "    </tr>\n",
              "    <tr>\n",
              "      <td id=\"T_b0524_row9_col0\" class=\"data row9 col0\" >Sales</td>\n",
              "      <td id=\"T_b0524_row9_col1\" class=\"data row9 col1\" >Dikshit</td>\n",
              "      <td id=\"T_b0524_row9_col2\" class=\"data row9 col2\" >10000</td>\n",
              "      <td id=\"T_b0524_row9_col3\" class=\"data row9 col3\" >18333.333333333333</td>\n",
              "    </tr>\n",
              "    <tr>\n",
              "      <td id=\"T_b0524_row10_col0\" class=\"data row10 col0\" >Sales</td>\n",
              "      <td id=\"T_b0524_row10_col1\" class=\"data row10 col1\" >Khan</td>\n",
              "      <td id=\"T_b0524_row10_col2\" class=\"data row10 col2\" >30000</td>\n",
              "      <td id=\"T_b0524_row10_col3\" class=\"data row10 col3\" >18333.333333333333</td>\n",
              "    </tr>\n",
              "    <tr>\n",
              "      <td id=\"T_b0524_row11_col0\" class=\"data row11 col0\" >Sales</td>\n",
              "      <td id=\"T_b0524_row11_col1\" class=\"data row11 col1\" >Sehwag</td>\n",
              "      <td id=\"T_b0524_row11_col2\" class=\"data row11 col2\" >15000</td>\n",
              "      <td id=\"T_b0524_row11_col3\" class=\"data row11 col3\" >18333.333333333333</td>\n",
              "    </tr>\n",
              "  </tbody>\n",
              "</table>\n"
            ]
          },
          "metadata": {},
          "execution_count": 72
        }
      ]
    },
    {
      "cell_type": "code",
      "source": [
        "sql = \"select deptname, lastname, salary, \\\n",
        "    row_number() over (partition by deptname order by salary) \\\n",
        "    from empl  inner join dept using(deptid)\"\n",
        "runSelect(sql)"
      ],
      "metadata": {
        "colab": {
          "base_uri": "https://localhost:8080/",
          "height": 426
        },
        "id": "xgP9VShE4Spl",
        "outputId": "ab988e7a-df4e-44f4-8dd5-aab58510e5b5"
      },
      "execution_count": 73,
      "outputs": [
        {
          "output_type": "execute_result",
          "data": {
            "text/plain": [
              "<pandas.io.formats.style.Styler at 0x782ef4fdae60>"
            ],
            "text/html": [
              "<style type=\"text/css\">\n",
              "</style>\n",
              "<table id=\"T_5fdd0\" class=\"dataframe\">\n",
              "  <thead>\n",
              "    <tr>\n",
              "      <th id=\"T_5fdd0_level0_col0\" class=\"col_heading level0 col0\" >deptname</th>\n",
              "      <th id=\"T_5fdd0_level0_col1\" class=\"col_heading level0 col1\" >lastname</th>\n",
              "      <th id=\"T_5fdd0_level0_col2\" class=\"col_heading level0 col2\" >salary</th>\n",
              "      <th id=\"T_5fdd0_level0_col3\" class=\"col_heading level0 col3\" >row_number</th>\n",
              "    </tr>\n",
              "  </thead>\n",
              "  <tbody>\n",
              "    <tr>\n",
              "      <td id=\"T_5fdd0_row0_col0\" class=\"data row0 col0\" >Accounts</td>\n",
              "      <td id=\"T_5fdd0_row0_col1\" class=\"data row0 col1\" >Dalmia</td>\n",
              "      <td id=\"T_5fdd0_row0_col2\" class=\"data row0 col2\" >12000</td>\n",
              "      <td id=\"T_5fdd0_row0_col3\" class=\"data row0 col3\" >1</td>\n",
              "    </tr>\n",
              "    <tr>\n",
              "      <td id=\"T_5fdd0_row1_col0\" class=\"data row1 col0\" >Accounts</td>\n",
              "      <td id=\"T_5fdd0_row1_col1\" class=\"data row1 col1\" >Mirza</td>\n",
              "      <td id=\"T_5fdd0_row1_col2\" class=\"data row1 col2\" >25000</td>\n",
              "      <td id=\"T_5fdd0_row1_col3\" class=\"data row1 col3\" >2</td>\n",
              "    </tr>\n",
              "    <tr>\n",
              "      <td id=\"T_5fdd0_row2_col0\" class=\"data row2 col0\" >Accounts</td>\n",
              "      <td id=\"T_5fdd0_row2_col1\" class=\"data row2 col1\" >Dravid</td>\n",
              "      <td id=\"T_5fdd0_row2_col2\" class=\"data row2 col2\" >40000</td>\n",
              "      <td id=\"T_5fdd0_row2_col3\" class=\"data row2 col3\" >3</td>\n",
              "    </tr>\n",
              "    <tr>\n",
              "      <td id=\"T_5fdd0_row3_col0\" class=\"data row3 col0\" >Corporate</td>\n",
              "      <td id=\"T_5fdd0_row3_col1\" class=\"data row3 col1\" >Karthikeyan</td>\n",
              "      <td id=\"T_5fdd0_row3_col2\" class=\"data row3 col2\" >40000</td>\n",
              "      <td id=\"T_5fdd0_row3_col3\" class=\"data row3 col3\" >1</td>\n",
              "    </tr>\n",
              "    <tr>\n",
              "      <td id=\"T_5fdd0_row4_col0\" class=\"data row4 col0\" >Corporate</td>\n",
              "      <td id=\"T_5fdd0_row4_col1\" class=\"data row4 col1\" >Bacchan</td>\n",
              "      <td id=\"T_5fdd0_row4_col2\" class=\"data row4 col2\" >50000</td>\n",
              "      <td id=\"T_5fdd0_row4_col3\" class=\"data row4 col3\" >2</td>\n",
              "    </tr>\n",
              "    <tr>\n",
              "      <td id=\"T_5fdd0_row5_col0\" class=\"data row5 col0\" >Corporate</td>\n",
              "      <td id=\"T_5fdd0_row5_col1\" class=\"data row5 col1\" >Ganesan</td>\n",
              "      <td id=\"T_5fdd0_row5_col2\" class=\"data row5 col2\" >60000</td>\n",
              "      <td id=\"T_5fdd0_row5_col3\" class=\"data row5 col3\" >3</td>\n",
              "    </tr>\n",
              "    <tr>\n",
              "      <td id=\"T_5fdd0_row6_col0\" class=\"data row6 col0\" >Production</td>\n",
              "      <td id=\"T_5fdd0_row6_col1\" class=\"data row6 col1\" >Dhoni</td>\n",
              "      <td id=\"T_5fdd0_row6_col2\" class=\"data row6 col2\" >9000</td>\n",
              "      <td id=\"T_5fdd0_row6_col3\" class=\"data row6 col3\" >1</td>\n",
              "    </tr>\n",
              "    <tr>\n",
              "      <td id=\"T_5fdd0_row7_col0\" class=\"data row7 col0\" >Production</td>\n",
              "      <td id=\"T_5fdd0_row7_col1\" class=\"data row7 col1\" >Ganguly</td>\n",
              "      <td id=\"T_5fdd0_row7_col2\" class=\"data row7 col2\" >20000</td>\n",
              "      <td id=\"T_5fdd0_row7_col3\" class=\"data row7 col3\" >2</td>\n",
              "    </tr>\n",
              "    <tr>\n",
              "      <td id=\"T_5fdd0_row8_col0\" class=\"data row8 col0\" >Production</td>\n",
              "      <td id=\"T_5fdd0_row8_col1\" class=\"data row8 col1\" >Mukherjee</td>\n",
              "      <td id=\"T_5fdd0_row8_col2\" class=\"data row8 col2\" >25000</td>\n",
              "      <td id=\"T_5fdd0_row8_col3\" class=\"data row8 col3\" >3</td>\n",
              "    </tr>\n",
              "    <tr>\n",
              "      <td id=\"T_5fdd0_row9_col0\" class=\"data row9 col0\" >Sales</td>\n",
              "      <td id=\"T_5fdd0_row9_col1\" class=\"data row9 col1\" >Dikshit</td>\n",
              "      <td id=\"T_5fdd0_row9_col2\" class=\"data row9 col2\" >10000</td>\n",
              "      <td id=\"T_5fdd0_row9_col3\" class=\"data row9 col3\" >1</td>\n",
              "    </tr>\n",
              "    <tr>\n",
              "      <td id=\"T_5fdd0_row10_col0\" class=\"data row10 col0\" >Sales</td>\n",
              "      <td id=\"T_5fdd0_row10_col1\" class=\"data row10 col1\" >Sehwag</td>\n",
              "      <td id=\"T_5fdd0_row10_col2\" class=\"data row10 col2\" >15000</td>\n",
              "      <td id=\"T_5fdd0_row10_col3\" class=\"data row10 col3\" >2</td>\n",
              "    </tr>\n",
              "    <tr>\n",
              "      <td id=\"T_5fdd0_row11_col0\" class=\"data row11 col0\" >Sales</td>\n",
              "      <td id=\"T_5fdd0_row11_col1\" class=\"data row11 col1\" >Khan</td>\n",
              "      <td id=\"T_5fdd0_row11_col2\" class=\"data row11 col2\" >30000</td>\n",
              "      <td id=\"T_5fdd0_row11_col3\" class=\"data row11 col3\" >3</td>\n",
              "    </tr>\n",
              "  </tbody>\n",
              "</table>\n"
            ]
          },
          "metadata": {},
          "execution_count": 73
        }
      ]
    },
    {
      "cell_type": "code",
      "source": [
        "sql = \"select deptname, lastname, salary, \\\n",
        "        rank() over (partition by deptname order by salary desc) \\\n",
        "        from empl  inner join dept using(deptid)\"\n",
        "runSelect(sql)"
      ],
      "metadata": {
        "colab": {
          "base_uri": "https://localhost:8080/",
          "height": 426
        },
        "id": "rL_1sHBa4ply",
        "outputId": "3d97393e-719f-43d2-8852-e7d2720ce539"
      },
      "execution_count": 74,
      "outputs": [
        {
          "output_type": "execute_result",
          "data": {
            "text/plain": [
              "<pandas.io.formats.style.Styler at 0x782ef4f5c8e0>"
            ],
            "text/html": [
              "<style type=\"text/css\">\n",
              "</style>\n",
              "<table id=\"T_435f3\" class=\"dataframe\">\n",
              "  <thead>\n",
              "    <tr>\n",
              "      <th id=\"T_435f3_level0_col0\" class=\"col_heading level0 col0\" >deptname</th>\n",
              "      <th id=\"T_435f3_level0_col1\" class=\"col_heading level0 col1\" >lastname</th>\n",
              "      <th id=\"T_435f3_level0_col2\" class=\"col_heading level0 col2\" >salary</th>\n",
              "      <th id=\"T_435f3_level0_col3\" class=\"col_heading level0 col3\" >rank</th>\n",
              "    </tr>\n",
              "  </thead>\n",
              "  <tbody>\n",
              "    <tr>\n",
              "      <td id=\"T_435f3_row0_col0\" class=\"data row0 col0\" >Accounts</td>\n",
              "      <td id=\"T_435f3_row0_col1\" class=\"data row0 col1\" >Dravid</td>\n",
              "      <td id=\"T_435f3_row0_col2\" class=\"data row0 col2\" >40000</td>\n",
              "      <td id=\"T_435f3_row0_col3\" class=\"data row0 col3\" >1</td>\n",
              "    </tr>\n",
              "    <tr>\n",
              "      <td id=\"T_435f3_row1_col0\" class=\"data row1 col0\" >Accounts</td>\n",
              "      <td id=\"T_435f3_row1_col1\" class=\"data row1 col1\" >Mirza</td>\n",
              "      <td id=\"T_435f3_row1_col2\" class=\"data row1 col2\" >25000</td>\n",
              "      <td id=\"T_435f3_row1_col3\" class=\"data row1 col3\" >2</td>\n",
              "    </tr>\n",
              "    <tr>\n",
              "      <td id=\"T_435f3_row2_col0\" class=\"data row2 col0\" >Accounts</td>\n",
              "      <td id=\"T_435f3_row2_col1\" class=\"data row2 col1\" >Dalmia</td>\n",
              "      <td id=\"T_435f3_row2_col2\" class=\"data row2 col2\" >12000</td>\n",
              "      <td id=\"T_435f3_row2_col3\" class=\"data row2 col3\" >3</td>\n",
              "    </tr>\n",
              "    <tr>\n",
              "      <td id=\"T_435f3_row3_col0\" class=\"data row3 col0\" >Corporate</td>\n",
              "      <td id=\"T_435f3_row3_col1\" class=\"data row3 col1\" >Ganesan</td>\n",
              "      <td id=\"T_435f3_row3_col2\" class=\"data row3 col2\" >60000</td>\n",
              "      <td id=\"T_435f3_row3_col3\" class=\"data row3 col3\" >1</td>\n",
              "    </tr>\n",
              "    <tr>\n",
              "      <td id=\"T_435f3_row4_col0\" class=\"data row4 col0\" >Corporate</td>\n",
              "      <td id=\"T_435f3_row4_col1\" class=\"data row4 col1\" >Bacchan</td>\n",
              "      <td id=\"T_435f3_row4_col2\" class=\"data row4 col2\" >50000</td>\n",
              "      <td id=\"T_435f3_row4_col3\" class=\"data row4 col3\" >2</td>\n",
              "    </tr>\n",
              "    <tr>\n",
              "      <td id=\"T_435f3_row5_col0\" class=\"data row5 col0\" >Corporate</td>\n",
              "      <td id=\"T_435f3_row5_col1\" class=\"data row5 col1\" >Karthikeyan</td>\n",
              "      <td id=\"T_435f3_row5_col2\" class=\"data row5 col2\" >40000</td>\n",
              "      <td id=\"T_435f3_row5_col3\" class=\"data row5 col3\" >3</td>\n",
              "    </tr>\n",
              "    <tr>\n",
              "      <td id=\"T_435f3_row6_col0\" class=\"data row6 col0\" >Production</td>\n",
              "      <td id=\"T_435f3_row6_col1\" class=\"data row6 col1\" >Mukherjee</td>\n",
              "      <td id=\"T_435f3_row6_col2\" class=\"data row6 col2\" >25000</td>\n",
              "      <td id=\"T_435f3_row6_col3\" class=\"data row6 col3\" >1</td>\n",
              "    </tr>\n",
              "    <tr>\n",
              "      <td id=\"T_435f3_row7_col0\" class=\"data row7 col0\" >Production</td>\n",
              "      <td id=\"T_435f3_row7_col1\" class=\"data row7 col1\" >Ganguly</td>\n",
              "      <td id=\"T_435f3_row7_col2\" class=\"data row7 col2\" >20000</td>\n",
              "      <td id=\"T_435f3_row7_col3\" class=\"data row7 col3\" >2</td>\n",
              "    </tr>\n",
              "    <tr>\n",
              "      <td id=\"T_435f3_row8_col0\" class=\"data row8 col0\" >Production</td>\n",
              "      <td id=\"T_435f3_row8_col1\" class=\"data row8 col1\" >Dhoni</td>\n",
              "      <td id=\"T_435f3_row8_col2\" class=\"data row8 col2\" >9000</td>\n",
              "      <td id=\"T_435f3_row8_col3\" class=\"data row8 col3\" >3</td>\n",
              "    </tr>\n",
              "    <tr>\n",
              "      <td id=\"T_435f3_row9_col0\" class=\"data row9 col0\" >Sales</td>\n",
              "      <td id=\"T_435f3_row9_col1\" class=\"data row9 col1\" >Khan</td>\n",
              "      <td id=\"T_435f3_row9_col2\" class=\"data row9 col2\" >30000</td>\n",
              "      <td id=\"T_435f3_row9_col3\" class=\"data row9 col3\" >1</td>\n",
              "    </tr>\n",
              "    <tr>\n",
              "      <td id=\"T_435f3_row10_col0\" class=\"data row10 col0\" >Sales</td>\n",
              "      <td id=\"T_435f3_row10_col1\" class=\"data row10 col1\" >Sehwag</td>\n",
              "      <td id=\"T_435f3_row10_col2\" class=\"data row10 col2\" >15000</td>\n",
              "      <td id=\"T_435f3_row10_col3\" class=\"data row10 col3\" >2</td>\n",
              "    </tr>\n",
              "    <tr>\n",
              "      <td id=\"T_435f3_row11_col0\" class=\"data row11 col0\" >Sales</td>\n",
              "      <td id=\"T_435f3_row11_col1\" class=\"data row11 col1\" >Dikshit</td>\n",
              "      <td id=\"T_435f3_row11_col2\" class=\"data row11 col2\" >10000</td>\n",
              "      <td id=\"T_435f3_row11_col3\" class=\"data row11 col3\" >3</td>\n",
              "    </tr>\n",
              "  </tbody>\n",
              "</table>\n"
            ]
          },
          "metadata": {},
          "execution_count": 74
        }
      ]
    },
    {
      "cell_type": "code",
      "source": [
        "sql = \"select deptname, lastname, salary, \\\n",
        "first_value(salary) over (partition by deptname order by salary) as deptlow, \\\n",
        "last_value(salary) over (partition by deptname order by salary RANGE BETWEEN UNBOUNDED PRECEDING AND UNBOUNDED FOLLOWING) as depthigh \\\n",
        "from empl  inner join dept using(deptid)\"\n",
        "runSelect(sql)"
      ],
      "metadata": {
        "colab": {
          "base_uri": "https://localhost:8080/",
          "height": 426
        },
        "id": "RO428SVT5T3d",
        "outputId": "4f1bc791-a776-4f74-ec5d-37aee6f2f083"
      },
      "execution_count": 75,
      "outputs": [
        {
          "output_type": "execute_result",
          "data": {
            "text/plain": [
              "<pandas.io.formats.style.Styler at 0x782ef4f5d9f0>"
            ],
            "text/html": [
              "<style type=\"text/css\">\n",
              "</style>\n",
              "<table id=\"T_3e7a1\" class=\"dataframe\">\n",
              "  <thead>\n",
              "    <tr>\n",
              "      <th id=\"T_3e7a1_level0_col0\" class=\"col_heading level0 col0\" >deptname</th>\n",
              "      <th id=\"T_3e7a1_level0_col1\" class=\"col_heading level0 col1\" >lastname</th>\n",
              "      <th id=\"T_3e7a1_level0_col2\" class=\"col_heading level0 col2\" >salary</th>\n",
              "      <th id=\"T_3e7a1_level0_col3\" class=\"col_heading level0 col3\" >deptlow</th>\n",
              "      <th id=\"T_3e7a1_level0_col4\" class=\"col_heading level0 col4\" >depthigh</th>\n",
              "    </tr>\n",
              "  </thead>\n",
              "  <tbody>\n",
              "    <tr>\n",
              "      <td id=\"T_3e7a1_row0_col0\" class=\"data row0 col0\" >Accounts</td>\n",
              "      <td id=\"T_3e7a1_row0_col1\" class=\"data row0 col1\" >Dalmia</td>\n",
              "      <td id=\"T_3e7a1_row0_col2\" class=\"data row0 col2\" >12000</td>\n",
              "      <td id=\"T_3e7a1_row0_col3\" class=\"data row0 col3\" >12000</td>\n",
              "      <td id=\"T_3e7a1_row0_col4\" class=\"data row0 col4\" >40000</td>\n",
              "    </tr>\n",
              "    <tr>\n",
              "      <td id=\"T_3e7a1_row1_col0\" class=\"data row1 col0\" >Accounts</td>\n",
              "      <td id=\"T_3e7a1_row1_col1\" class=\"data row1 col1\" >Mirza</td>\n",
              "      <td id=\"T_3e7a1_row1_col2\" class=\"data row1 col2\" >25000</td>\n",
              "      <td id=\"T_3e7a1_row1_col3\" class=\"data row1 col3\" >12000</td>\n",
              "      <td id=\"T_3e7a1_row1_col4\" class=\"data row1 col4\" >40000</td>\n",
              "    </tr>\n",
              "    <tr>\n",
              "      <td id=\"T_3e7a1_row2_col0\" class=\"data row2 col0\" >Accounts</td>\n",
              "      <td id=\"T_3e7a1_row2_col1\" class=\"data row2 col1\" >Dravid</td>\n",
              "      <td id=\"T_3e7a1_row2_col2\" class=\"data row2 col2\" >40000</td>\n",
              "      <td id=\"T_3e7a1_row2_col3\" class=\"data row2 col3\" >12000</td>\n",
              "      <td id=\"T_3e7a1_row2_col4\" class=\"data row2 col4\" >40000</td>\n",
              "    </tr>\n",
              "    <tr>\n",
              "      <td id=\"T_3e7a1_row3_col0\" class=\"data row3 col0\" >Corporate</td>\n",
              "      <td id=\"T_3e7a1_row3_col1\" class=\"data row3 col1\" >Karthikeyan</td>\n",
              "      <td id=\"T_3e7a1_row3_col2\" class=\"data row3 col2\" >40000</td>\n",
              "      <td id=\"T_3e7a1_row3_col3\" class=\"data row3 col3\" >40000</td>\n",
              "      <td id=\"T_3e7a1_row3_col4\" class=\"data row3 col4\" >60000</td>\n",
              "    </tr>\n",
              "    <tr>\n",
              "      <td id=\"T_3e7a1_row4_col0\" class=\"data row4 col0\" >Corporate</td>\n",
              "      <td id=\"T_3e7a1_row4_col1\" class=\"data row4 col1\" >Bacchan</td>\n",
              "      <td id=\"T_3e7a1_row4_col2\" class=\"data row4 col2\" >50000</td>\n",
              "      <td id=\"T_3e7a1_row4_col3\" class=\"data row4 col3\" >40000</td>\n",
              "      <td id=\"T_3e7a1_row4_col4\" class=\"data row4 col4\" >60000</td>\n",
              "    </tr>\n",
              "    <tr>\n",
              "      <td id=\"T_3e7a1_row5_col0\" class=\"data row5 col0\" >Corporate</td>\n",
              "      <td id=\"T_3e7a1_row5_col1\" class=\"data row5 col1\" >Ganesan</td>\n",
              "      <td id=\"T_3e7a1_row5_col2\" class=\"data row5 col2\" >60000</td>\n",
              "      <td id=\"T_3e7a1_row5_col3\" class=\"data row5 col3\" >40000</td>\n",
              "      <td id=\"T_3e7a1_row5_col4\" class=\"data row5 col4\" >60000</td>\n",
              "    </tr>\n",
              "    <tr>\n",
              "      <td id=\"T_3e7a1_row6_col0\" class=\"data row6 col0\" >Production</td>\n",
              "      <td id=\"T_3e7a1_row6_col1\" class=\"data row6 col1\" >Dhoni</td>\n",
              "      <td id=\"T_3e7a1_row6_col2\" class=\"data row6 col2\" >9000</td>\n",
              "      <td id=\"T_3e7a1_row6_col3\" class=\"data row6 col3\" >9000</td>\n",
              "      <td id=\"T_3e7a1_row6_col4\" class=\"data row6 col4\" >25000</td>\n",
              "    </tr>\n",
              "    <tr>\n",
              "      <td id=\"T_3e7a1_row7_col0\" class=\"data row7 col0\" >Production</td>\n",
              "      <td id=\"T_3e7a1_row7_col1\" class=\"data row7 col1\" >Ganguly</td>\n",
              "      <td id=\"T_3e7a1_row7_col2\" class=\"data row7 col2\" >20000</td>\n",
              "      <td id=\"T_3e7a1_row7_col3\" class=\"data row7 col3\" >9000</td>\n",
              "      <td id=\"T_3e7a1_row7_col4\" class=\"data row7 col4\" >25000</td>\n",
              "    </tr>\n",
              "    <tr>\n",
              "      <td id=\"T_3e7a1_row8_col0\" class=\"data row8 col0\" >Production</td>\n",
              "      <td id=\"T_3e7a1_row8_col1\" class=\"data row8 col1\" >Mukherjee</td>\n",
              "      <td id=\"T_3e7a1_row8_col2\" class=\"data row8 col2\" >25000</td>\n",
              "      <td id=\"T_3e7a1_row8_col3\" class=\"data row8 col3\" >9000</td>\n",
              "      <td id=\"T_3e7a1_row8_col4\" class=\"data row8 col4\" >25000</td>\n",
              "    </tr>\n",
              "    <tr>\n",
              "      <td id=\"T_3e7a1_row9_col0\" class=\"data row9 col0\" >Sales</td>\n",
              "      <td id=\"T_3e7a1_row9_col1\" class=\"data row9 col1\" >Dikshit</td>\n",
              "      <td id=\"T_3e7a1_row9_col2\" class=\"data row9 col2\" >10000</td>\n",
              "      <td id=\"T_3e7a1_row9_col3\" class=\"data row9 col3\" >10000</td>\n",
              "      <td id=\"T_3e7a1_row9_col4\" class=\"data row9 col4\" >30000</td>\n",
              "    </tr>\n",
              "    <tr>\n",
              "      <td id=\"T_3e7a1_row10_col0\" class=\"data row10 col0\" >Sales</td>\n",
              "      <td id=\"T_3e7a1_row10_col1\" class=\"data row10 col1\" >Sehwag</td>\n",
              "      <td id=\"T_3e7a1_row10_col2\" class=\"data row10 col2\" >15000</td>\n",
              "      <td id=\"T_3e7a1_row10_col3\" class=\"data row10 col3\" >10000</td>\n",
              "      <td id=\"T_3e7a1_row10_col4\" class=\"data row10 col4\" >30000</td>\n",
              "    </tr>\n",
              "    <tr>\n",
              "      <td id=\"T_3e7a1_row11_col0\" class=\"data row11 col0\" >Sales</td>\n",
              "      <td id=\"T_3e7a1_row11_col1\" class=\"data row11 col1\" >Khan</td>\n",
              "      <td id=\"T_3e7a1_row11_col2\" class=\"data row11 col2\" >30000</td>\n",
              "      <td id=\"T_3e7a1_row11_col3\" class=\"data row11 col3\" >10000</td>\n",
              "      <td id=\"T_3e7a1_row11_col4\" class=\"data row11 col4\" >30000</td>\n",
              "    </tr>\n",
              "  </tbody>\n",
              "</table>\n"
            ]
          },
          "metadata": {},
          "execution_count": 75
        }
      ]
    },
    {
      "cell_type": "code",
      "source": [
        "sql = \"select deptname, lastname, salary, \\\n",
        "lag(salary,1) over (partition by deptname order by salary) as prev_emp, \\\n",
        "salary - lag(salary,1) over (partition by deptname order by salary) as gap_up \\\n",
        "from empl  inner join dept using(deptid)\"\n",
        "runSelect(sql)"
      ],
      "metadata": {
        "colab": {
          "base_uri": "https://localhost:8080/",
          "height": 426
        },
        "id": "fnG4S0lF8h77",
        "outputId": "c6b700a8-65a2-4420-8150-0532e247305e"
      },
      "execution_count": 76,
      "outputs": [
        {
          "output_type": "execute_result",
          "data": {
            "text/plain": [
              "<pandas.io.formats.style.Styler at 0x782ef4f3ac80>"
            ],
            "text/html": [
              "<style type=\"text/css\">\n",
              "</style>\n",
              "<table id=\"T_a0dba\" class=\"dataframe\">\n",
              "  <thead>\n",
              "    <tr>\n",
              "      <th id=\"T_a0dba_level0_col0\" class=\"col_heading level0 col0\" >deptname</th>\n",
              "      <th id=\"T_a0dba_level0_col1\" class=\"col_heading level0 col1\" >lastname</th>\n",
              "      <th id=\"T_a0dba_level0_col2\" class=\"col_heading level0 col2\" >salary</th>\n",
              "      <th id=\"T_a0dba_level0_col3\" class=\"col_heading level0 col3\" >prev_emp</th>\n",
              "      <th id=\"T_a0dba_level0_col4\" class=\"col_heading level0 col4\" >gap_up</th>\n",
              "    </tr>\n",
              "  </thead>\n",
              "  <tbody>\n",
              "    <tr>\n",
              "      <td id=\"T_a0dba_row0_col0\" class=\"data row0 col0\" >Accounts</td>\n",
              "      <td id=\"T_a0dba_row0_col1\" class=\"data row0 col1\" >Dalmia</td>\n",
              "      <td id=\"T_a0dba_row0_col2\" class=\"data row0 col2\" >12000</td>\n",
              "      <td id=\"T_a0dba_row0_col3\" class=\"data row0 col3\" >nan</td>\n",
              "      <td id=\"T_a0dba_row0_col4\" class=\"data row0 col4\" >nan</td>\n",
              "    </tr>\n",
              "    <tr>\n",
              "      <td id=\"T_a0dba_row1_col0\" class=\"data row1 col0\" >Accounts</td>\n",
              "      <td id=\"T_a0dba_row1_col1\" class=\"data row1 col1\" >Mirza</td>\n",
              "      <td id=\"T_a0dba_row1_col2\" class=\"data row1 col2\" >25000</td>\n",
              "      <td id=\"T_a0dba_row1_col3\" class=\"data row1 col3\" >12000.000000</td>\n",
              "      <td id=\"T_a0dba_row1_col4\" class=\"data row1 col4\" >13000.000000</td>\n",
              "    </tr>\n",
              "    <tr>\n",
              "      <td id=\"T_a0dba_row2_col0\" class=\"data row2 col0\" >Accounts</td>\n",
              "      <td id=\"T_a0dba_row2_col1\" class=\"data row2 col1\" >Dravid</td>\n",
              "      <td id=\"T_a0dba_row2_col2\" class=\"data row2 col2\" >40000</td>\n",
              "      <td id=\"T_a0dba_row2_col3\" class=\"data row2 col3\" >25000.000000</td>\n",
              "      <td id=\"T_a0dba_row2_col4\" class=\"data row2 col4\" >15000.000000</td>\n",
              "    </tr>\n",
              "    <tr>\n",
              "      <td id=\"T_a0dba_row3_col0\" class=\"data row3 col0\" >Corporate</td>\n",
              "      <td id=\"T_a0dba_row3_col1\" class=\"data row3 col1\" >Karthikeyan</td>\n",
              "      <td id=\"T_a0dba_row3_col2\" class=\"data row3 col2\" >40000</td>\n",
              "      <td id=\"T_a0dba_row3_col3\" class=\"data row3 col3\" >nan</td>\n",
              "      <td id=\"T_a0dba_row3_col4\" class=\"data row3 col4\" >nan</td>\n",
              "    </tr>\n",
              "    <tr>\n",
              "      <td id=\"T_a0dba_row4_col0\" class=\"data row4 col0\" >Corporate</td>\n",
              "      <td id=\"T_a0dba_row4_col1\" class=\"data row4 col1\" >Bacchan</td>\n",
              "      <td id=\"T_a0dba_row4_col2\" class=\"data row4 col2\" >50000</td>\n",
              "      <td id=\"T_a0dba_row4_col3\" class=\"data row4 col3\" >40000.000000</td>\n",
              "      <td id=\"T_a0dba_row4_col4\" class=\"data row4 col4\" >10000.000000</td>\n",
              "    </tr>\n",
              "    <tr>\n",
              "      <td id=\"T_a0dba_row5_col0\" class=\"data row5 col0\" >Corporate</td>\n",
              "      <td id=\"T_a0dba_row5_col1\" class=\"data row5 col1\" >Ganesan</td>\n",
              "      <td id=\"T_a0dba_row5_col2\" class=\"data row5 col2\" >60000</td>\n",
              "      <td id=\"T_a0dba_row5_col3\" class=\"data row5 col3\" >50000.000000</td>\n",
              "      <td id=\"T_a0dba_row5_col4\" class=\"data row5 col4\" >10000.000000</td>\n",
              "    </tr>\n",
              "    <tr>\n",
              "      <td id=\"T_a0dba_row6_col0\" class=\"data row6 col0\" >Production</td>\n",
              "      <td id=\"T_a0dba_row6_col1\" class=\"data row6 col1\" >Dhoni</td>\n",
              "      <td id=\"T_a0dba_row6_col2\" class=\"data row6 col2\" >9000</td>\n",
              "      <td id=\"T_a0dba_row6_col3\" class=\"data row6 col3\" >nan</td>\n",
              "      <td id=\"T_a0dba_row6_col4\" class=\"data row6 col4\" >nan</td>\n",
              "    </tr>\n",
              "    <tr>\n",
              "      <td id=\"T_a0dba_row7_col0\" class=\"data row7 col0\" >Production</td>\n",
              "      <td id=\"T_a0dba_row7_col1\" class=\"data row7 col1\" >Ganguly</td>\n",
              "      <td id=\"T_a0dba_row7_col2\" class=\"data row7 col2\" >20000</td>\n",
              "      <td id=\"T_a0dba_row7_col3\" class=\"data row7 col3\" >9000.000000</td>\n",
              "      <td id=\"T_a0dba_row7_col4\" class=\"data row7 col4\" >11000.000000</td>\n",
              "    </tr>\n",
              "    <tr>\n",
              "      <td id=\"T_a0dba_row8_col0\" class=\"data row8 col0\" >Production</td>\n",
              "      <td id=\"T_a0dba_row8_col1\" class=\"data row8 col1\" >Mukherjee</td>\n",
              "      <td id=\"T_a0dba_row8_col2\" class=\"data row8 col2\" >25000</td>\n",
              "      <td id=\"T_a0dba_row8_col3\" class=\"data row8 col3\" >20000.000000</td>\n",
              "      <td id=\"T_a0dba_row8_col4\" class=\"data row8 col4\" >5000.000000</td>\n",
              "    </tr>\n",
              "    <tr>\n",
              "      <td id=\"T_a0dba_row9_col0\" class=\"data row9 col0\" >Sales</td>\n",
              "      <td id=\"T_a0dba_row9_col1\" class=\"data row9 col1\" >Dikshit</td>\n",
              "      <td id=\"T_a0dba_row9_col2\" class=\"data row9 col2\" >10000</td>\n",
              "      <td id=\"T_a0dba_row9_col3\" class=\"data row9 col3\" >nan</td>\n",
              "      <td id=\"T_a0dba_row9_col4\" class=\"data row9 col4\" >nan</td>\n",
              "    </tr>\n",
              "    <tr>\n",
              "      <td id=\"T_a0dba_row10_col0\" class=\"data row10 col0\" >Sales</td>\n",
              "      <td id=\"T_a0dba_row10_col1\" class=\"data row10 col1\" >Sehwag</td>\n",
              "      <td id=\"T_a0dba_row10_col2\" class=\"data row10 col2\" >15000</td>\n",
              "      <td id=\"T_a0dba_row10_col3\" class=\"data row10 col3\" >10000.000000</td>\n",
              "      <td id=\"T_a0dba_row10_col4\" class=\"data row10 col4\" >5000.000000</td>\n",
              "    </tr>\n",
              "    <tr>\n",
              "      <td id=\"T_a0dba_row11_col0\" class=\"data row11 col0\" >Sales</td>\n",
              "      <td id=\"T_a0dba_row11_col1\" class=\"data row11 col1\" >Khan</td>\n",
              "      <td id=\"T_a0dba_row11_col2\" class=\"data row11 col2\" >30000</td>\n",
              "      <td id=\"T_a0dba_row11_col3\" class=\"data row11 col3\" >15000.000000</td>\n",
              "      <td id=\"T_a0dba_row11_col4\" class=\"data row11 col4\" >15000.000000</td>\n",
              "    </tr>\n",
              "  </tbody>\n",
              "</table>\n"
            ]
          },
          "metadata": {},
          "execution_count": 76
        }
      ]
    },
    {
      "cell_type": "markdown",
      "source": [
        "#Transpose / Pivot\n",
        "https://www.sqlshack.com/how-to-use-the-crosstab-function-in-postgresql/"
      ],
      "metadata": {
        "id": "V6Bt-yTXSITF"
      }
    },
    {
      "cell_type": "code",
      "source": [
        "!psql -h localhost -p 5432 -Uupraxis -ddbpraxis -c \"create extension tablefunc;\""
      ],
      "metadata": {
        "colab": {
          "base_uri": "https://localhost:8080/"
        },
        "id": "ZgVgr1DfYs_R",
        "outputId": "a81c4d71-41b6-4f0b-d240-f3fc20082980"
      },
      "execution_count": 77,
      "outputs": [
        {
          "output_type": "stream",
          "name": "stdout",
          "text": [
            "CREATE EXTENSION\n"
          ]
        }
      ]
    },
    {
      "cell_type": "code",
      "source": [
        "runSelect('select * from dept')"
      ],
      "metadata": {
        "colab": {
          "base_uri": "https://localhost:8080/",
          "height": 206
        },
        "id": "Sa9IpGXwSKWe",
        "outputId": "95d2f796-e996-4af3-e874-aa68a1960052"
      },
      "execution_count": 78,
      "outputs": [
        {
          "output_type": "execute_result",
          "data": {
            "text/plain": [
              "<pandas.io.formats.style.Styler at 0x782f2c44dab0>"
            ],
            "text/html": [
              "<style type=\"text/css\">\n",
              "</style>\n",
              "<table id=\"T_3a139\" class=\"dataframe\">\n",
              "  <thead>\n",
              "    <tr>\n",
              "      <th id=\"T_3a139_level0_col0\" class=\"col_heading level0 col0\" >deptid</th>\n",
              "      <th id=\"T_3a139_level0_col1\" class=\"col_heading level0 col1\" >deptname</th>\n",
              "      <th id=\"T_3a139_level0_col2\" class=\"col_heading level0 col2\" >managerid</th>\n",
              "      <th id=\"T_3a139_level0_col3\" class=\"col_heading level0 col3\" >location</th>\n",
              "      <th id=\"T_3a139_level0_col4\" class=\"col_heading level0 col4\" >locationid</th>\n",
              "    </tr>\n",
              "  </thead>\n",
              "  <tbody>\n",
              "    <tr>\n",
              "      <td id=\"T_3a139_row0_col0\" class=\"data row0 col0\" >10</td>\n",
              "      <td id=\"T_3a139_row0_col1\" class=\"data row0 col1\" >Corporate</td>\n",
              "      <td id=\"T_3a139_row0_col2\" class=\"data row0 col2\" >299034</td>\n",
              "      <td id=\"T_3a139_row0_col3\" class=\"data row0 col3\" >Calcutta</td>\n",
              "      <td id=\"T_3a139_row0_col4\" class=\"data row0 col4\" >1</td>\n",
              "    </tr>\n",
              "    <tr>\n",
              "      <td id=\"T_3a139_row1_col0\" class=\"data row1 col0\" >20</td>\n",
              "      <td id=\"T_3a139_row1_col1\" class=\"data row1 col1\" >Sales</td>\n",
              "      <td id=\"T_3a139_row1_col2\" class=\"data row1 col2\" >239456</td>\n",
              "      <td id=\"T_3a139_row1_col3\" class=\"data row1 col3\" >Calcutta</td>\n",
              "      <td id=\"T_3a139_row1_col4\" class=\"data row1 col4\" >1</td>\n",
              "    </tr>\n",
              "    <tr>\n",
              "      <td id=\"T_3a139_row2_col0\" class=\"data row2 col0\" >30</td>\n",
              "      <td id=\"T_3a139_row2_col1\" class=\"data row2 col1\" >Accounts</td>\n",
              "      <td id=\"T_3a139_row2_col2\" class=\"data row2 col2\" >822134</td>\n",
              "      <td id=\"T_3a139_row2_col3\" class=\"data row2 col3\" >Calcutta</td>\n",
              "      <td id=\"T_3a139_row2_col4\" class=\"data row2 col4\" >1</td>\n",
              "    </tr>\n",
              "    <tr>\n",
              "      <td id=\"T_3a139_row3_col0\" class=\"data row3 col0\" >40</td>\n",
              "      <td id=\"T_3a139_row3_col1\" class=\"data row3 col1\" >Production</td>\n",
              "      <td id=\"T_3a139_row3_col2\" class=\"data row3 col2\" >349870</td>\n",
              "      <td id=\"T_3a139_row3_col3\" class=\"data row3 col3\" >Bombay</td>\n",
              "      <td id=\"T_3a139_row3_col4\" class=\"data row3 col4\" >2</td>\n",
              "    </tr>\n",
              "    <tr>\n",
              "      <td id=\"T_3a139_row4_col0\" class=\"data row4 col0\" >60</td>\n",
              "      <td id=\"T_3a139_row4_col1\" class=\"data row4 col1\" >Research</td>\n",
              "      <td id=\"T_3a139_row4_col2\" class=\"data row4 col2\" >546224</td>\n",
              "      <td id=\"T_3a139_row4_col3\" class=\"data row4 col3\" >Delhi</td>\n",
              "      <td id=\"T_3a139_row4_col4\" class=\"data row4 col4\" >3</td>\n",
              "    </tr>\n",
              "  </tbody>\n",
              "</table>\n"
            ]
          },
          "metadata": {},
          "execution_count": 78
        }
      ]
    },
    {
      "cell_type": "code",
      "source": [
        "sql = \"\\\n",
        "select * from \\\n",
        "crosstab('select location::text,locationid::text,deptname::text from dept order by 1,2') as locations \\\n",
        "(location text, dep1 text, dep2 text, dep3 text, dep4 text)\\\n",
        "\"\n",
        "runSelect(sql)"
      ],
      "metadata": {
        "colab": {
          "base_uri": "https://localhost:8080/",
          "height": 143
        },
        "id": "Iukqh6TRVo-9",
        "outputId": "a5f4129a-c6ab-4964-da6c-a54f12326f86"
      },
      "execution_count": 79,
      "outputs": [
        {
          "output_type": "execute_result",
          "data": {
            "text/plain": [
              "<pandas.io.formats.style.Styler at 0x782ef51094e0>"
            ],
            "text/html": [
              "<style type=\"text/css\">\n",
              "</style>\n",
              "<table id=\"T_6bf90\" class=\"dataframe\">\n",
              "  <thead>\n",
              "    <tr>\n",
              "      <th id=\"T_6bf90_level0_col0\" class=\"col_heading level0 col0\" >location</th>\n",
              "      <th id=\"T_6bf90_level0_col1\" class=\"col_heading level0 col1\" >dep1</th>\n",
              "      <th id=\"T_6bf90_level0_col2\" class=\"col_heading level0 col2\" >dep2</th>\n",
              "      <th id=\"T_6bf90_level0_col3\" class=\"col_heading level0 col3\" >dep3</th>\n",
              "      <th id=\"T_6bf90_level0_col4\" class=\"col_heading level0 col4\" >dep4</th>\n",
              "    </tr>\n",
              "  </thead>\n",
              "  <tbody>\n",
              "    <tr>\n",
              "      <td id=\"T_6bf90_row0_col0\" class=\"data row0 col0\" >Bombay</td>\n",
              "      <td id=\"T_6bf90_row0_col1\" class=\"data row0 col1\" >Production</td>\n",
              "      <td id=\"T_6bf90_row0_col2\" class=\"data row0 col2\" >None</td>\n",
              "      <td id=\"T_6bf90_row0_col3\" class=\"data row0 col3\" >None</td>\n",
              "      <td id=\"T_6bf90_row0_col4\" class=\"data row0 col4\" >None</td>\n",
              "    </tr>\n",
              "    <tr>\n",
              "      <td id=\"T_6bf90_row1_col0\" class=\"data row1 col0\" >Calcutta</td>\n",
              "      <td id=\"T_6bf90_row1_col1\" class=\"data row1 col1\" >Corporate</td>\n",
              "      <td id=\"T_6bf90_row1_col2\" class=\"data row1 col2\" >Sales</td>\n",
              "      <td id=\"T_6bf90_row1_col3\" class=\"data row1 col3\" >Accounts</td>\n",
              "      <td id=\"T_6bf90_row1_col4\" class=\"data row1 col4\" >None</td>\n",
              "    </tr>\n",
              "    <tr>\n",
              "      <td id=\"T_6bf90_row2_col0\" class=\"data row2 col0\" >Delhi</td>\n",
              "      <td id=\"T_6bf90_row2_col1\" class=\"data row2 col1\" >Research</td>\n",
              "      <td id=\"T_6bf90_row2_col2\" class=\"data row2 col2\" >None</td>\n",
              "      <td id=\"T_6bf90_row2_col3\" class=\"data row2 col3\" >None</td>\n",
              "      <td id=\"T_6bf90_row2_col4\" class=\"data row2 col4\" >None</td>\n",
              "    </tr>\n",
              "  </tbody>\n",
              "</table>\n"
            ]
          },
          "metadata": {},
          "execution_count": 79
        }
      ]
    },
    {
      "cell_type": "markdown",
      "source": [
        "# Insert | Delete | Update"
      ],
      "metadata": {
        "id": "REcqZ7K0DYqi"
      }
    },
    {
      "cell_type": "code",
      "source": [
        "runSelect(\"select * from dept\")"
      ],
      "metadata": {
        "id": "xGgCH9vGDlsI",
        "outputId": "f99ddb7e-e00e-4225-f790-2aa902777d1c",
        "colab": {
          "base_uri": "https://localhost:8080/",
          "height": 206
        }
      },
      "execution_count": 80,
      "outputs": [
        {
          "output_type": "execute_result",
          "data": {
            "text/plain": [
              "<pandas.io.formats.style.Styler at 0x782ef4f26a70>"
            ],
            "text/html": [
              "<style type=\"text/css\">\n",
              "</style>\n",
              "<table id=\"T_9df9a\" class=\"dataframe\">\n",
              "  <thead>\n",
              "    <tr>\n",
              "      <th id=\"T_9df9a_level0_col0\" class=\"col_heading level0 col0\" >deptid</th>\n",
              "      <th id=\"T_9df9a_level0_col1\" class=\"col_heading level0 col1\" >deptname</th>\n",
              "      <th id=\"T_9df9a_level0_col2\" class=\"col_heading level0 col2\" >managerid</th>\n",
              "      <th id=\"T_9df9a_level0_col3\" class=\"col_heading level0 col3\" >location</th>\n",
              "      <th id=\"T_9df9a_level0_col4\" class=\"col_heading level0 col4\" >locationid</th>\n",
              "    </tr>\n",
              "  </thead>\n",
              "  <tbody>\n",
              "    <tr>\n",
              "      <td id=\"T_9df9a_row0_col0\" class=\"data row0 col0\" >10</td>\n",
              "      <td id=\"T_9df9a_row0_col1\" class=\"data row0 col1\" >Corporate</td>\n",
              "      <td id=\"T_9df9a_row0_col2\" class=\"data row0 col2\" >299034</td>\n",
              "      <td id=\"T_9df9a_row0_col3\" class=\"data row0 col3\" >Calcutta</td>\n",
              "      <td id=\"T_9df9a_row0_col4\" class=\"data row0 col4\" >1</td>\n",
              "    </tr>\n",
              "    <tr>\n",
              "      <td id=\"T_9df9a_row1_col0\" class=\"data row1 col0\" >20</td>\n",
              "      <td id=\"T_9df9a_row1_col1\" class=\"data row1 col1\" >Sales</td>\n",
              "      <td id=\"T_9df9a_row1_col2\" class=\"data row1 col2\" >239456</td>\n",
              "      <td id=\"T_9df9a_row1_col3\" class=\"data row1 col3\" >Calcutta</td>\n",
              "      <td id=\"T_9df9a_row1_col4\" class=\"data row1 col4\" >1</td>\n",
              "    </tr>\n",
              "    <tr>\n",
              "      <td id=\"T_9df9a_row2_col0\" class=\"data row2 col0\" >30</td>\n",
              "      <td id=\"T_9df9a_row2_col1\" class=\"data row2 col1\" >Accounts</td>\n",
              "      <td id=\"T_9df9a_row2_col2\" class=\"data row2 col2\" >822134</td>\n",
              "      <td id=\"T_9df9a_row2_col3\" class=\"data row2 col3\" >Calcutta</td>\n",
              "      <td id=\"T_9df9a_row2_col4\" class=\"data row2 col4\" >1</td>\n",
              "    </tr>\n",
              "    <tr>\n",
              "      <td id=\"T_9df9a_row3_col0\" class=\"data row3 col0\" >40</td>\n",
              "      <td id=\"T_9df9a_row3_col1\" class=\"data row3 col1\" >Production</td>\n",
              "      <td id=\"T_9df9a_row3_col2\" class=\"data row3 col2\" >349870</td>\n",
              "      <td id=\"T_9df9a_row3_col3\" class=\"data row3 col3\" >Bombay</td>\n",
              "      <td id=\"T_9df9a_row3_col4\" class=\"data row3 col4\" >2</td>\n",
              "    </tr>\n",
              "    <tr>\n",
              "      <td id=\"T_9df9a_row4_col0\" class=\"data row4 col0\" >60</td>\n",
              "      <td id=\"T_9df9a_row4_col1\" class=\"data row4 col1\" >Research</td>\n",
              "      <td id=\"T_9df9a_row4_col2\" class=\"data row4 col2\" >546224</td>\n",
              "      <td id=\"T_9df9a_row4_col3\" class=\"data row4 col3\" >Delhi</td>\n",
              "      <td id=\"T_9df9a_row4_col4\" class=\"data row4 col4\" >3</td>\n",
              "    </tr>\n",
              "  </tbody>\n",
              "</table>\n"
            ]
          },
          "metadata": {},
          "execution_count": 80
        }
      ]
    },
    {
      "cell_type": "code",
      "source": [
        "runCmd(\"insert into Dept (DeptID, DeptName, ManagerID, Location,LocationID) VALUES \\\n",
        "\t('11', 'Corporate2', '299035', 'Calcutta','1')\")\n",
        "runSelect(\"select * from dept\")"
      ],
      "metadata": {
        "id": "iyW0EobdDuMY",
        "outputId": "ffbd3940-2896-4732-e0d0-e3b195a1d71c",
        "colab": {
          "base_uri": "https://localhost:8080/",
          "height": 255
        }
      },
      "execution_count": 81,
      "outputs": [
        {
          "output_type": "stream",
          "name": "stdout",
          "text": [
            "Command executed\n"
          ]
        },
        {
          "output_type": "execute_result",
          "data": {
            "text/plain": [
              "<pandas.io.formats.style.Styler at 0x782ef50065f0>"
            ],
            "text/html": [
              "<style type=\"text/css\">\n",
              "</style>\n",
              "<table id=\"T_55591\" class=\"dataframe\">\n",
              "  <thead>\n",
              "    <tr>\n",
              "      <th id=\"T_55591_level0_col0\" class=\"col_heading level0 col0\" >deptid</th>\n",
              "      <th id=\"T_55591_level0_col1\" class=\"col_heading level0 col1\" >deptname</th>\n",
              "      <th id=\"T_55591_level0_col2\" class=\"col_heading level0 col2\" >managerid</th>\n",
              "      <th id=\"T_55591_level0_col3\" class=\"col_heading level0 col3\" >location</th>\n",
              "      <th id=\"T_55591_level0_col4\" class=\"col_heading level0 col4\" >locationid</th>\n",
              "    </tr>\n",
              "  </thead>\n",
              "  <tbody>\n",
              "    <tr>\n",
              "      <td id=\"T_55591_row0_col0\" class=\"data row0 col0\" >10</td>\n",
              "      <td id=\"T_55591_row0_col1\" class=\"data row0 col1\" >Corporate</td>\n",
              "      <td id=\"T_55591_row0_col2\" class=\"data row0 col2\" >299034</td>\n",
              "      <td id=\"T_55591_row0_col3\" class=\"data row0 col3\" >Calcutta</td>\n",
              "      <td id=\"T_55591_row0_col4\" class=\"data row0 col4\" >1</td>\n",
              "    </tr>\n",
              "    <tr>\n",
              "      <td id=\"T_55591_row1_col0\" class=\"data row1 col0\" >20</td>\n",
              "      <td id=\"T_55591_row1_col1\" class=\"data row1 col1\" >Sales</td>\n",
              "      <td id=\"T_55591_row1_col2\" class=\"data row1 col2\" >239456</td>\n",
              "      <td id=\"T_55591_row1_col3\" class=\"data row1 col3\" >Calcutta</td>\n",
              "      <td id=\"T_55591_row1_col4\" class=\"data row1 col4\" >1</td>\n",
              "    </tr>\n",
              "    <tr>\n",
              "      <td id=\"T_55591_row2_col0\" class=\"data row2 col0\" >30</td>\n",
              "      <td id=\"T_55591_row2_col1\" class=\"data row2 col1\" >Accounts</td>\n",
              "      <td id=\"T_55591_row2_col2\" class=\"data row2 col2\" >822134</td>\n",
              "      <td id=\"T_55591_row2_col3\" class=\"data row2 col3\" >Calcutta</td>\n",
              "      <td id=\"T_55591_row2_col4\" class=\"data row2 col4\" >1</td>\n",
              "    </tr>\n",
              "    <tr>\n",
              "      <td id=\"T_55591_row3_col0\" class=\"data row3 col0\" >40</td>\n",
              "      <td id=\"T_55591_row3_col1\" class=\"data row3 col1\" >Production</td>\n",
              "      <td id=\"T_55591_row3_col2\" class=\"data row3 col2\" >349870</td>\n",
              "      <td id=\"T_55591_row3_col3\" class=\"data row3 col3\" >Bombay</td>\n",
              "      <td id=\"T_55591_row3_col4\" class=\"data row3 col4\" >2</td>\n",
              "    </tr>\n",
              "    <tr>\n",
              "      <td id=\"T_55591_row4_col0\" class=\"data row4 col0\" >60</td>\n",
              "      <td id=\"T_55591_row4_col1\" class=\"data row4 col1\" >Research</td>\n",
              "      <td id=\"T_55591_row4_col2\" class=\"data row4 col2\" >546224</td>\n",
              "      <td id=\"T_55591_row4_col3\" class=\"data row4 col3\" >Delhi</td>\n",
              "      <td id=\"T_55591_row4_col4\" class=\"data row4 col4\" >3</td>\n",
              "    </tr>\n",
              "    <tr>\n",
              "      <td id=\"T_55591_row5_col0\" class=\"data row5 col0\" >11</td>\n",
              "      <td id=\"T_55591_row5_col1\" class=\"data row5 col1\" >Corporate2</td>\n",
              "      <td id=\"T_55591_row5_col2\" class=\"data row5 col2\" >299035</td>\n",
              "      <td id=\"T_55591_row5_col3\" class=\"data row5 col3\" >Calcutta</td>\n",
              "      <td id=\"T_55591_row5_col4\" class=\"data row5 col4\" >1</td>\n",
              "    </tr>\n",
              "  </tbody>\n",
              "</table>\n"
            ]
          },
          "metadata": {},
          "execution_count": 81
        }
      ]
    },
    {
      "cell_type": "code",
      "source": [
        "runCmd(\"update dept set deptname = 'Marketing' where deptid = '11'\")\n",
        "runSelect(\"select * from dept\")"
      ],
      "metadata": {
        "id": "DqdnmD2pEQNq",
        "outputId": "b336a21d-ddff-48d5-ff2f-16b76f45fae3",
        "colab": {
          "base_uri": "https://localhost:8080/",
          "height": 255
        }
      },
      "execution_count": 82,
      "outputs": [
        {
          "output_type": "stream",
          "name": "stdout",
          "text": [
            "Command executed\n"
          ]
        },
        {
          "output_type": "execute_result",
          "data": {
            "text/plain": [
              "<pandas.io.formats.style.Styler at 0x782ef50078b0>"
            ],
            "text/html": [
              "<style type=\"text/css\">\n",
              "</style>\n",
              "<table id=\"T_82e95\" class=\"dataframe\">\n",
              "  <thead>\n",
              "    <tr>\n",
              "      <th id=\"T_82e95_level0_col0\" class=\"col_heading level0 col0\" >deptid</th>\n",
              "      <th id=\"T_82e95_level0_col1\" class=\"col_heading level0 col1\" >deptname</th>\n",
              "      <th id=\"T_82e95_level0_col2\" class=\"col_heading level0 col2\" >managerid</th>\n",
              "      <th id=\"T_82e95_level0_col3\" class=\"col_heading level0 col3\" >location</th>\n",
              "      <th id=\"T_82e95_level0_col4\" class=\"col_heading level0 col4\" >locationid</th>\n",
              "    </tr>\n",
              "  </thead>\n",
              "  <tbody>\n",
              "    <tr>\n",
              "      <td id=\"T_82e95_row0_col0\" class=\"data row0 col0\" >10</td>\n",
              "      <td id=\"T_82e95_row0_col1\" class=\"data row0 col1\" >Corporate</td>\n",
              "      <td id=\"T_82e95_row0_col2\" class=\"data row0 col2\" >299034</td>\n",
              "      <td id=\"T_82e95_row0_col3\" class=\"data row0 col3\" >Calcutta</td>\n",
              "      <td id=\"T_82e95_row0_col4\" class=\"data row0 col4\" >1</td>\n",
              "    </tr>\n",
              "    <tr>\n",
              "      <td id=\"T_82e95_row1_col0\" class=\"data row1 col0\" >20</td>\n",
              "      <td id=\"T_82e95_row1_col1\" class=\"data row1 col1\" >Sales</td>\n",
              "      <td id=\"T_82e95_row1_col2\" class=\"data row1 col2\" >239456</td>\n",
              "      <td id=\"T_82e95_row1_col3\" class=\"data row1 col3\" >Calcutta</td>\n",
              "      <td id=\"T_82e95_row1_col4\" class=\"data row1 col4\" >1</td>\n",
              "    </tr>\n",
              "    <tr>\n",
              "      <td id=\"T_82e95_row2_col0\" class=\"data row2 col0\" >30</td>\n",
              "      <td id=\"T_82e95_row2_col1\" class=\"data row2 col1\" >Accounts</td>\n",
              "      <td id=\"T_82e95_row2_col2\" class=\"data row2 col2\" >822134</td>\n",
              "      <td id=\"T_82e95_row2_col3\" class=\"data row2 col3\" >Calcutta</td>\n",
              "      <td id=\"T_82e95_row2_col4\" class=\"data row2 col4\" >1</td>\n",
              "    </tr>\n",
              "    <tr>\n",
              "      <td id=\"T_82e95_row3_col0\" class=\"data row3 col0\" >40</td>\n",
              "      <td id=\"T_82e95_row3_col1\" class=\"data row3 col1\" >Production</td>\n",
              "      <td id=\"T_82e95_row3_col2\" class=\"data row3 col2\" >349870</td>\n",
              "      <td id=\"T_82e95_row3_col3\" class=\"data row3 col3\" >Bombay</td>\n",
              "      <td id=\"T_82e95_row3_col4\" class=\"data row3 col4\" >2</td>\n",
              "    </tr>\n",
              "    <tr>\n",
              "      <td id=\"T_82e95_row4_col0\" class=\"data row4 col0\" >60</td>\n",
              "      <td id=\"T_82e95_row4_col1\" class=\"data row4 col1\" >Research</td>\n",
              "      <td id=\"T_82e95_row4_col2\" class=\"data row4 col2\" >546224</td>\n",
              "      <td id=\"T_82e95_row4_col3\" class=\"data row4 col3\" >Delhi</td>\n",
              "      <td id=\"T_82e95_row4_col4\" class=\"data row4 col4\" >3</td>\n",
              "    </tr>\n",
              "    <tr>\n",
              "      <td id=\"T_82e95_row5_col0\" class=\"data row5 col0\" >11</td>\n",
              "      <td id=\"T_82e95_row5_col1\" class=\"data row5 col1\" >Marketing</td>\n",
              "      <td id=\"T_82e95_row5_col2\" class=\"data row5 col2\" >299035</td>\n",
              "      <td id=\"T_82e95_row5_col3\" class=\"data row5 col3\" >Calcutta</td>\n",
              "      <td id=\"T_82e95_row5_col4\" class=\"data row5 col4\" >1</td>\n",
              "    </tr>\n",
              "  </tbody>\n",
              "</table>\n"
            ]
          },
          "metadata": {},
          "execution_count": 82
        }
      ]
    },
    {
      "cell_type": "code",
      "source": [
        "runCmd(\"delete from dept where deptid = '11'\")\n",
        "runSelect(\"select * from dept\")"
      ],
      "metadata": {
        "id": "nsnJnNrEF6iS",
        "outputId": "cc82bfad-f5f6-45bc-f0bf-113c5733b612",
        "colab": {
          "base_uri": "https://localhost:8080/",
          "height": 224
        }
      },
      "execution_count": 83,
      "outputs": [
        {
          "output_type": "stream",
          "name": "stdout",
          "text": [
            "Command executed\n"
          ]
        },
        {
          "output_type": "execute_result",
          "data": {
            "text/plain": [
              "<pandas.io.formats.style.Styler at 0x782ef4f26200>"
            ],
            "text/html": [
              "<style type=\"text/css\">\n",
              "</style>\n",
              "<table id=\"T_5efe6\" class=\"dataframe\">\n",
              "  <thead>\n",
              "    <tr>\n",
              "      <th id=\"T_5efe6_level0_col0\" class=\"col_heading level0 col0\" >deptid</th>\n",
              "      <th id=\"T_5efe6_level0_col1\" class=\"col_heading level0 col1\" >deptname</th>\n",
              "      <th id=\"T_5efe6_level0_col2\" class=\"col_heading level0 col2\" >managerid</th>\n",
              "      <th id=\"T_5efe6_level0_col3\" class=\"col_heading level0 col3\" >location</th>\n",
              "      <th id=\"T_5efe6_level0_col4\" class=\"col_heading level0 col4\" >locationid</th>\n",
              "    </tr>\n",
              "  </thead>\n",
              "  <tbody>\n",
              "    <tr>\n",
              "      <td id=\"T_5efe6_row0_col0\" class=\"data row0 col0\" >10</td>\n",
              "      <td id=\"T_5efe6_row0_col1\" class=\"data row0 col1\" >Corporate</td>\n",
              "      <td id=\"T_5efe6_row0_col2\" class=\"data row0 col2\" >299034</td>\n",
              "      <td id=\"T_5efe6_row0_col3\" class=\"data row0 col3\" >Calcutta</td>\n",
              "      <td id=\"T_5efe6_row0_col4\" class=\"data row0 col4\" >1</td>\n",
              "    </tr>\n",
              "    <tr>\n",
              "      <td id=\"T_5efe6_row1_col0\" class=\"data row1 col0\" >20</td>\n",
              "      <td id=\"T_5efe6_row1_col1\" class=\"data row1 col1\" >Sales</td>\n",
              "      <td id=\"T_5efe6_row1_col2\" class=\"data row1 col2\" >239456</td>\n",
              "      <td id=\"T_5efe6_row1_col3\" class=\"data row1 col3\" >Calcutta</td>\n",
              "      <td id=\"T_5efe6_row1_col4\" class=\"data row1 col4\" >1</td>\n",
              "    </tr>\n",
              "    <tr>\n",
              "      <td id=\"T_5efe6_row2_col0\" class=\"data row2 col0\" >30</td>\n",
              "      <td id=\"T_5efe6_row2_col1\" class=\"data row2 col1\" >Accounts</td>\n",
              "      <td id=\"T_5efe6_row2_col2\" class=\"data row2 col2\" >822134</td>\n",
              "      <td id=\"T_5efe6_row2_col3\" class=\"data row2 col3\" >Calcutta</td>\n",
              "      <td id=\"T_5efe6_row2_col4\" class=\"data row2 col4\" >1</td>\n",
              "    </tr>\n",
              "    <tr>\n",
              "      <td id=\"T_5efe6_row3_col0\" class=\"data row3 col0\" >40</td>\n",
              "      <td id=\"T_5efe6_row3_col1\" class=\"data row3 col1\" >Production</td>\n",
              "      <td id=\"T_5efe6_row3_col2\" class=\"data row3 col2\" >349870</td>\n",
              "      <td id=\"T_5efe6_row3_col3\" class=\"data row3 col3\" >Bombay</td>\n",
              "      <td id=\"T_5efe6_row3_col4\" class=\"data row3 col4\" >2</td>\n",
              "    </tr>\n",
              "    <tr>\n",
              "      <td id=\"T_5efe6_row4_col0\" class=\"data row4 col0\" >60</td>\n",
              "      <td id=\"T_5efe6_row4_col1\" class=\"data row4 col1\" >Research</td>\n",
              "      <td id=\"T_5efe6_row4_col2\" class=\"data row4 col2\" >546224</td>\n",
              "      <td id=\"T_5efe6_row4_col3\" class=\"data row4 col3\" >Delhi</td>\n",
              "      <td id=\"T_5efe6_row4_col4\" class=\"data row4 col4\" >3</td>\n",
              "    </tr>\n",
              "  </tbody>\n",
              "</table>\n"
            ]
          },
          "metadata": {},
          "execution_count": 83
        }
      ]
    },
    {
      "cell_type": "code",
      "source": [
        "from datetime import datetime\n",
        "import pytz\n",
        "print('Last tested  ',datetime.now(pytz.timezone('Asia/Kolkata')))"
      ],
      "metadata": {
        "colab": {
          "base_uri": "https://localhost:8080/"
        },
        "id": "wjBXJVhM605H",
        "outputId": "1657c01e-312c-4ef5-ce6b-d78c93c05e4f"
      },
      "execution_count": 84,
      "outputs": [
        {
          "output_type": "stream",
          "name": "stdout",
          "text": [
            "Last tested   2024-08-07 08:15:59.158910+05:30\n"
          ]
        }
      ]
    },
    {
      "cell_type": "markdown",
      "source": [
        "#Chronobooks <br>\n",
        "Two science fiction novels by Prithwis Mukerjee. A dystopian Earth. A technocratic society managed by artificial intelligence. Escape and epiphany on Mars. Can man and machine, carbon and silicon explore and escape into other dimensions of existence? An Indic perspective rooted in Advaita Vedanta and the Divine Feminine.  [More information](http://bit.ly/chronobooks) <br>\n",
        "![alt text](https://github.com/Praxis-QR/RDWH/raw/main/images/CTCYFooter-1.png)"
      ],
      "metadata": {
        "id": "_gNiZpyW3AzJ"
      }
    }
  ]
}