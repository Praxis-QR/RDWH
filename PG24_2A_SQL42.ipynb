{
  "nbformat": 4,
  "nbformat_minor": 0,
  "metadata": {
    "colab": {
      "provenance": [],
      "toc_visible": true,
      "include_colab_link": true
    },
    "kernelspec": {
      "name": "python3",
      "display_name": "Python 3"
    },
    "language_info": {
      "name": "python"
    }
  },
  "cells": [
    {
      "cell_type": "markdown",
      "metadata": {
        "id": "view-in-github",
        "colab_type": "text"
      },
      "source": [
        "<a href=\"https://colab.research.google.com/github/Praxis-QR/RDWH/blob/main/PG24_2A_SQL42.ipynb\" target=\"_parent\"><img src=\"https://colab.research.google.com/assets/colab-badge.svg\" alt=\"Open In Colab\"/></a>"
      ]
    },
    {
      "cell_type": "markdown",
      "source": [
        "![Yantrajaal Banner](https://github.com/Praxis-QR/RDWH/raw/main/images/YantraJaalBanner.png)<br>\n",
        "\n",
        "\n",
        "<hr>\n",
        "\n",
        "[Prithwis Mukerjee](http://www.linkedin.com/in/prithwis)<br>"
      ],
      "metadata": {
        "id": "DBzz-qaN2tKu"
      }
    },
    {
      "cell_type": "markdown",
      "source": [
        "![PostgreSQL 42](https://raw.githubusercontent.com/Praxis-QR/RDWH/main/images/PostgreSQL_24.01.png)<br>\n",
        "[SlideDeck](https://docs.google.com/presentation/d/1hdkAGbMxLfO1GYe7RzEo3LhGZhsXkyjIfBqkA72B6LM/edit?usp=sharing)"
      ],
      "metadata": {
        "id": "dBJ6X0LiJtZ6"
      }
    },
    {
      "cell_type": "code",
      "source": [
        "from datetime import datetime\n",
        "import pytz\n",
        "print('ॐ श्री सरस्वत्यै नमः',datetime.now(pytz.timezone('Asia/Calcutta')))\n",
        "!python --version\n",
        "!lsb_release -a"
      ],
      "metadata": {
        "colab": {
          "base_uri": "https://localhost:8080/"
        },
        "id": "XZ9dGt-eUikL",
        "outputId": "cb478a60-f62c-437f-ce0a-dcde6ecf0efc"
      },
      "execution_count": 1,
      "outputs": [
        {
          "output_type": "stream",
          "name": "stdout",
          "text": [
            "ॐ श्री सरस्वत्यै नमः 2025-08-11 17:21:58.944981+05:30\n",
            "Python 3.11.13\n",
            "No LSB modules are available.\n",
            "Distributor ID:\tUbuntu\n",
            "Description:\tUbuntu 22.04.4 LTS\n",
            "Release:\t22.04\n",
            "Codename:\tjammy\n"
          ]
        }
      ]
    },
    {
      "cell_type": "markdown",
      "source": [
        "#Install & Configure Postgres"
      ],
      "metadata": {
        "id": "nD-QawLT6kDr"
      }
    },
    {
      "cell_type": "markdown",
      "source": [
        "For Connecting to a Postgres server hosted in the cloud Neon DB, see [this notebook](https://github.com/Praxis-QR/RDWH/blob/main/PG24_1B_SQL_CloudLab.ipynb)"
      ],
      "metadata": {
        "id": "9w29_O07rTPE"
      }
    },
    {
      "cell_type": "code",
      "source": [
        "# Install postgresql server\n",
        "\n",
        "!apt update > /dev/null\n",
        "!apt install postgresql > /dev/null\n",
        "#!pip install psycopg2\n",
        "import psycopg2\n",
        "import pandas as pd\n",
        "#!sudo -u postgres psql -V\n",
        "!psql -V\n",
        "!service postgresql start"
      ],
      "metadata": {
        "colab": {
          "base_uri": "https://localhost:8080/"
        },
        "id": "o_RaqE0OOHP3",
        "outputId": "7e3119a2-38f8-47d2-87cb-1ca91489a14b"
      },
      "execution_count": 2,
      "outputs": [
        {
          "output_type": "stream",
          "name": "stdout",
          "text": [
            "\n",
            "WARNING: apt does not have a stable CLI interface. Use with caution in scripts.\n",
            "\n",
            "W: Skipping acquire of configured file 'main/source/Sources' as repository 'https://r2u.stat.illinois.edu/ubuntu jammy InRelease' does not seem to provide it (sources.list entry misspelt?)\n",
            "\n",
            "WARNING: apt does not have a stable CLI interface. Use with caution in scripts.\n",
            "\n",
            "psql (PostgreSQL) 14.18 (Ubuntu 14.18-0ubuntu0.22.04.1)\n",
            " * Starting PostgreSQL 14 database server\n",
            "   ...done.\n"
          ]
        }
      ]
    },
    {
      "cell_type": "code",
      "source": [
        "# The installation creates Ubuntu user 'postgres' AND a Postgres database user 'postgres' both of which are superusers\n",
        "#!cat /etc/passwd\n",
        "# Use these users to create a new database user called 'upraxis' and give it a password 'upass'\n",
        "#!sudo -u postgres createuser --superuser upraxis\n",
        "!sudo -u postgres createuser upraxis\n",
        "!sudo -u postgres psql -U postgres -c \"ALTER USER upraxis PASSWORD 'upass';\"\n",
        "#\n",
        "# Change the database superuser 'postgres' to a non-default value 'pass'\n",
        "!sudo -u postgres psql -U postgres -c \"ALTER USER postgres PASSWORD 'pass';\"\n",
        "#\n",
        "# Use ubuntu superuser to create database dbpraxis and set its owner to upraxis\n",
        "!sudo -u postgres createdb -O upraxis dbpraxis\n",
        "#\n",
        "# Create file to store the password. Else will be prompted each time\n",
        "#\n",
        "!echo \"localhost:5432:dbpraxis:upraxis:upass\" > ~/.pgpass\n",
        "!echo \"localhost:5432:dbpraxis:postgres:pass\" >> ~/.pgpass\n",
        "!chmod 0600 ~/.pgpass\n",
        "!cat ~/.pgpass\n"
      ],
      "metadata": {
        "colab": {
          "base_uri": "https://localhost:8080/"
        },
        "id": "xr5kHaY_U4CZ",
        "outputId": "0f95e779-b09b-471c-c1c3-18e169222137"
      },
      "execution_count": 3,
      "outputs": [
        {
          "output_type": "stream",
          "name": "stdout",
          "text": [
            "ALTER ROLE\n",
            "ALTER ROLE\n",
            "localhost:5432:dbpraxis:upraxis:upass\n",
            "localhost:5432:dbpraxis:postgres:pass\n"
          ]
        }
      ]
    },
    {
      "cell_type": "markdown",
      "source": [
        "## Create and Load Tables"
      ],
      "metadata": {
        "id": "pHTdNzrU6qUE"
      }
    },
    {
      "cell_type": "code",
      "source": [
        "# Create Two tables using command line interface\n",
        "#\n",
        "!psql -h localhost -p 5432 -Uupraxis -ddbpraxis -c \\\n",
        "\"drop table if exists Dept;\\\n",
        "create table Dept (\\\n",
        "    DeptID char(2),\\\n",
        "    DeptName varchar(20),\\\n",
        "    ManagerID char(6),\\\n",
        "    Location varchar(10),\\\n",
        "    LocationID char(1)\\\n",
        "    );\\\n",
        "insert into Dept (DeptID, DeptName, ManagerID, Location,LocationID) VALUES \\\n",
        "\t('10', 'Corporate', '299034', 'Calcutta','1'), \\\n",
        "\t('20', 'Sales', '239456', 'Calcutta','1'), \\\n",
        "\t('30', 'Accounts', '822134', 'Calcutta','1'), \\\n",
        "\t('40', 'Production', '349870', 'Bombay','2'),\\\n",
        "    ('60', 'Research', '546224', 'Delhi','3');\\\n",
        "\""
      ],
      "metadata": {
        "colab": {
          "base_uri": "https://localhost:8080/"
        },
        "id": "DsUZ9JlEXIir",
        "outputId": "bfa29d84-b983-424f-f16d-db8f53815764"
      },
      "execution_count": 4,
      "outputs": [
        {
          "output_type": "stream",
          "name": "stdout",
          "text": [
            "NOTICE:  table \"dept\" does not exist, skipping\n",
            "INSERT 0 5\n"
          ]
        }
      ]
    },
    {
      "cell_type": "code",
      "source": [
        "!psql -h localhost -p 5432 -Uupraxis -ddbpraxis -c \\\n",
        "\"drop table if exists Empl;\\\n",
        "create table Empl \\\n",
        "    (EmpID char(6),\\\n",
        "    LastName varchar(20),\\\n",
        "    FirstName varchar(20),\\\n",
        "    JobDesc varchar(10),\\\n",
        "    JoinDate date,\\\n",
        "    Salary int,\\\n",
        "    Comm decimal(3,2),\\\n",
        "    DeptID char(2),\\\n",
        "    HiredBy char(6)\\\n",
        "    );\\\n",
        "INSERT INTO Empl (EmpID, LastName, FirstName, JobDesc, JoinDate, Salary, Comm, DeptID, HiredBy) \\\n",
        "    VALUES \\\n",
        "\t('742866', 'Bacchan', 'Amitabh', 'Executive', '2003-03-10', 50000, 0.1, '10', NULL), \\\n",
        "\t('349870', 'Mukherjee', 'Rani', 'Manager', '2005-05-04', 25000, 0.06, '40', '742866'), \\\n",
        "\t('865477', 'Dikshit', 'Madhuri', 'Clerk', '2002-04-04', 10000, 0.02, '20', '239456'), \\\n",
        "\t('239456', 'Khan', 'Shahrukh', 'Manager', '2004-01-03', 30000, 0.07, '20', '742866'), \\\n",
        "\t('897889', 'Sehwag', 'Virender', 'Cus_Rep', '2005-01-02', 15000, 0.05, '20', '239456'), \\\n",
        "\t('123980', 'Dhoni', 'Mahender', 'Clerk', '2004-10-09', 9000, 0.02, '40', '349870'), \\\n",
        "\t('822134', 'Dravid', 'Rahul', 'Sr Manager', '2000-06-04', 40000, 0.08, '30', '742866'), \\\n",
        "\t('997445', 'Dalmia', 'Jagmohan', 'Clerk', '2001-07-01', 12000, 0.02, '30', '822134'), \\\n",
        "\t('989007', 'Ganguly', 'Sourav', 'Cus_Rep', '2002-01-01', 20000, 0.03, '40', '299034'), \\\n",
        "\t('299034', 'Ganesan', 'Rekha', 'Director', '2002-10-10', 60000, 0.11, '10', '742866'), \\\n",
        "\t('546223', 'Karthikeyan', 'Narayan', 'Secretary', '2005-12-04', 40000, 0.09, '10', '299034'), \\\n",
        "    ('546224', 'Sunil', 'Chettri', 'Dy Manager', '2006-12-07', 40000, 0.05, '70', '989007'), \\\n",
        "\t('223112', 'Mirza', 'Sania', 'Cus_Rep', '2001-11-19', 25000, 0.04, '30', '822134');\\\n",
        "\""
      ],
      "metadata": {
        "colab": {
          "base_uri": "https://localhost:8080/"
        },
        "id": "5kWs3wyEd9Tm",
        "outputId": "f082e981-4282-42aa-a523-b1750513b36a"
      },
      "execution_count": 5,
      "outputs": [
        {
          "output_type": "stream",
          "name": "stdout",
          "text": [
            "NOTICE:  table \"empl\" does not exist, skipping\n",
            "INSERT 0 13\n"
          ]
        }
      ]
    },
    {
      "cell_type": "code",
      "source": [
        "#!psql -h localhost -p 5432 -Upostgres -dpraxisdb -c \"select * from dept;\"\n",
        "#!psql -h localhost -p 5432 -Uupraxis -ddbpraxis -c \"select * from dept;\""
      ],
      "metadata": {
        "id": "HyBUhbAI2PV1"
      },
      "execution_count": 6,
      "outputs": []
    },
    {
      "cell_type": "code",
      "source": [
        "#!psql -h localhost -p 5432 -U postgres -d praxisdb -c \"select * from empl;\"\n",
        "#!psql -h localhost -p 5432 -U upraxis -d dbpraxis -c \"select * from empl;\""
      ],
      "metadata": {
        "id": "byY2iccO4ctF"
      },
      "execution_count": 7,
      "outputs": []
    },
    {
      "cell_type": "markdown",
      "source": [
        "## Python Access\n",
        "https://www.tutorialspoint.com/python_data_access/python_postgresql_database_connection.htm"
      ],
      "metadata": {
        "id": "faZEj8_7CeZ8"
      }
    },
    {
      "cell_type": "code",
      "source": [
        "# Local Colab server\n",
        "\n",
        "conn = psycopg2.connect(database=\"dbpraxis\", user='upraxis', password='upass', host='127.0.0.1', port= '5432')\n",
        "#Creating a cursor object using the cursor() method\n",
        "cursor = conn.cursor()\n",
        "#Executing an MYSQL function using the execute() method\n",
        "cursor.execute(\"select version()\")\n",
        "# Fetch a single row using fetchone() method.\n",
        "data = cursor.fetchone()\n",
        "print(\"Connection established to: \",data)\n",
        "#Closing the connection\n",
        "conn.close()"
      ],
      "metadata": {
        "id": "wcE-8UBnC4zV",
        "outputId": "7295bd13-f785-4d62-a376-4b99af3eeab1",
        "colab": {
          "base_uri": "https://localhost:8080/"
        }
      },
      "execution_count": 8,
      "outputs": [
        {
          "output_type": "stream",
          "name": "stdout",
          "text": [
            "Connection established to:  ('PostgreSQL 14.18 (Ubuntu 14.18-0ubuntu0.22.04.1) on x86_64-pc-linux-gnu, compiled by gcc (Ubuntu 11.4.0-1ubuntu1~22.04) 11.4.0, 64-bit',)\n"
          ]
        }
      ]
    },
    {
      "cell_type": "code",
      "source": [
        "# function to execute SQL select statements with Postgres\n",
        "#\n",
        "def runSelect(s):\n",
        "    #Set up connection\n",
        "\n",
        "    conn = psycopg2.connect(database=\"dbpraxis\", user='upraxis', password='upass', host='127.0.0.1', port= '5432')\n",
        "    #Setting auto commit true\n",
        "    conn.autocommit = True\n",
        "    #Creating a cursor object using the cursor() method\n",
        "    cursor = conn.cursor()\n",
        "    #Retrieving data\n",
        "    cursor.execute(s)\n",
        "    #Fetching all rows from the table\n",
        "    result = cursor.fetchall();\n",
        "    #print(len(result))\n",
        "    if (len(result)) > 0:                                       # result contains at least one row\n",
        "        colnames = [desc[0] for desc in cursor.description]     # get column names\n",
        "        #print(colnames)\n",
        "        resultdf = pd.DataFrame(result)                         # convert list to dataframe\n",
        "        resultdf.columns = colnames                             # add column names\n",
        "        #return resultdf\n",
        "        return resultdf.style.hide()                            # hide the index\n",
        "    else:\n",
        "        print('no records found')\n",
        "        return\n",
        "# function to execute SQL select statements with Postgres\n",
        "#\n",
        "def runSelect2(s):\n",
        "    #Set up connection\n",
        "\n",
        "    conn = psycopg2.connect(database=\"dbpraxis\", user='upraxis', password='upass', host='127.0.0.1', port= '5432')\n",
        "    #Setting auto commit true\n",
        "    conn.autocommit = True\n",
        "    #Creating a cursor object using the cursor() method\n",
        "    cursor = conn.cursor()\n",
        "    #Retrieving data\n",
        "    cursor.execute(s)\n",
        "    #Fetching all rows from the table\n",
        "    result = cursor.fetchall();\n",
        "    #print(len(result))\n",
        "    if (len(result)) > 0:                                       # result contains at least one row\n",
        "        colnames = [desc[0] for desc in cursor.description]     # get column names\n",
        "        #print(colnames)\n",
        "        resultdf = pd.DataFrame(result)                         # convert list to dataframe\n",
        "        resultdf.columns = colnames                             # add column names\n",
        "        return resultdf\n",
        "        #return resultdf.style.hide()                            # hide the index\n",
        "    else:\n",
        "        print('no records found')\n",
        "        return\n",
        "# function to execute SQL non-select statements with Postgres\n",
        "#\n",
        "def runCmd(s):\n",
        "    #Create Connection\n",
        "    conn = psycopg2.connect(database=\"dbpraxis\", user='upraxis', password='upass', host='127.0.0.1', port= '5432')\n",
        "    #Creating a cursor object using the cursor() method\n",
        "    cursor = conn.cursor()\n",
        "    try:\n",
        "        cursor.execute(s)\n",
        "        print('Command executed')\n",
        "        conn.commit()\n",
        "    except:\n",
        "        print('Command failed')\n",
        "    #Closing the connection\n",
        "    conn.close()"
      ],
      "metadata": {
        "id": "ht2k7-3iggNd"
      },
      "execution_count": 9,
      "outputs": []
    },
    {
      "cell_type": "markdown",
      "source": [
        "#Select - getting started"
      ],
      "metadata": {
        "id": "k0rXiciVtu7Q"
      }
    },
    {
      "cell_type": "code",
      "source": [
        "#runSelect(\"select * from dept where deptid = '100'\")\n",
        "#runSelect(\"select * from dept where deptid = '10'\")\n",
        "runSelect(\"select * from dept\")"
      ],
      "metadata": {
        "id": "N3NZv0YahSs6",
        "outputId": "0a0fda3f-28dd-46b8-ac0a-c800007c2bdc",
        "colab": {
          "base_uri": "https://localhost:8080/",
          "height": 206
        }
      },
      "execution_count": 10,
      "outputs": [
        {
          "output_type": "execute_result",
          "data": {
            "text/plain": [
              "<pandas.io.formats.style.Styler at 0x7a1197133e10>"
            ],
            "text/html": [
              "<style type=\"text/css\">\n",
              "</style>\n",
              "<table id=\"T_b129b\" class=\"dataframe\">\n",
              "  <thead>\n",
              "    <tr>\n",
              "      <th id=\"T_b129b_level0_col0\" class=\"col_heading level0 col0\" >deptid</th>\n",
              "      <th id=\"T_b129b_level0_col1\" class=\"col_heading level0 col1\" >deptname</th>\n",
              "      <th id=\"T_b129b_level0_col2\" class=\"col_heading level0 col2\" >managerid</th>\n",
              "      <th id=\"T_b129b_level0_col3\" class=\"col_heading level0 col3\" >location</th>\n",
              "      <th id=\"T_b129b_level0_col4\" class=\"col_heading level0 col4\" >locationid</th>\n",
              "    </tr>\n",
              "  </thead>\n",
              "  <tbody>\n",
              "    <tr>\n",
              "      <td id=\"T_b129b_row0_col0\" class=\"data row0 col0\" >10</td>\n",
              "      <td id=\"T_b129b_row0_col1\" class=\"data row0 col1\" >Corporate</td>\n",
              "      <td id=\"T_b129b_row0_col2\" class=\"data row0 col2\" >299034</td>\n",
              "      <td id=\"T_b129b_row0_col3\" class=\"data row0 col3\" >Calcutta</td>\n",
              "      <td id=\"T_b129b_row0_col4\" class=\"data row0 col4\" >1</td>\n",
              "    </tr>\n",
              "    <tr>\n",
              "      <td id=\"T_b129b_row1_col0\" class=\"data row1 col0\" >20</td>\n",
              "      <td id=\"T_b129b_row1_col1\" class=\"data row1 col1\" >Sales</td>\n",
              "      <td id=\"T_b129b_row1_col2\" class=\"data row1 col2\" >239456</td>\n",
              "      <td id=\"T_b129b_row1_col3\" class=\"data row1 col3\" >Calcutta</td>\n",
              "      <td id=\"T_b129b_row1_col4\" class=\"data row1 col4\" >1</td>\n",
              "    </tr>\n",
              "    <tr>\n",
              "      <td id=\"T_b129b_row2_col0\" class=\"data row2 col0\" >30</td>\n",
              "      <td id=\"T_b129b_row2_col1\" class=\"data row2 col1\" >Accounts</td>\n",
              "      <td id=\"T_b129b_row2_col2\" class=\"data row2 col2\" >822134</td>\n",
              "      <td id=\"T_b129b_row2_col3\" class=\"data row2 col3\" >Calcutta</td>\n",
              "      <td id=\"T_b129b_row2_col4\" class=\"data row2 col4\" >1</td>\n",
              "    </tr>\n",
              "    <tr>\n",
              "      <td id=\"T_b129b_row3_col0\" class=\"data row3 col0\" >40</td>\n",
              "      <td id=\"T_b129b_row3_col1\" class=\"data row3 col1\" >Production</td>\n",
              "      <td id=\"T_b129b_row3_col2\" class=\"data row3 col2\" >349870</td>\n",
              "      <td id=\"T_b129b_row3_col3\" class=\"data row3 col3\" >Bombay</td>\n",
              "      <td id=\"T_b129b_row3_col4\" class=\"data row3 col4\" >2</td>\n",
              "    </tr>\n",
              "    <tr>\n",
              "      <td id=\"T_b129b_row4_col0\" class=\"data row4 col0\" >60</td>\n",
              "      <td id=\"T_b129b_row4_col1\" class=\"data row4 col1\" >Research</td>\n",
              "      <td id=\"T_b129b_row4_col2\" class=\"data row4 col2\" >546224</td>\n",
              "      <td id=\"T_b129b_row4_col3\" class=\"data row4 col3\" >Delhi</td>\n",
              "      <td id=\"T_b129b_row4_col4\" class=\"data row4 col4\" >3</td>\n",
              "    </tr>\n",
              "  </tbody>\n",
              "</table>\n"
            ]
          },
          "metadata": {},
          "execution_count": 10
        }
      ]
    },
    {
      "cell_type": "code",
      "source": [
        "runSelect2('select * from empl').style.hide()\n",
        "#runSelect2('select * from empl')"
      ],
      "metadata": {
        "id": "9RARmjHUlGTr",
        "outputId": "8d6459e2-b8ab-40ea-cb70-5fa6a7a96251",
        "colab": {
          "base_uri": "https://localhost:8080/",
          "height": 457
        }
      },
      "execution_count": 11,
      "outputs": [
        {
          "output_type": "execute_result",
          "data": {
            "text/plain": [
              "<pandas.io.formats.style.Styler at 0x7a1194b79450>"
            ],
            "text/html": [
              "<style type=\"text/css\">\n",
              "</style>\n",
              "<table id=\"T_3c48c\" class=\"dataframe\">\n",
              "  <thead>\n",
              "    <tr>\n",
              "      <th id=\"T_3c48c_level0_col0\" class=\"col_heading level0 col0\" >empid</th>\n",
              "      <th id=\"T_3c48c_level0_col1\" class=\"col_heading level0 col1\" >lastname</th>\n",
              "      <th id=\"T_3c48c_level0_col2\" class=\"col_heading level0 col2\" >firstname</th>\n",
              "      <th id=\"T_3c48c_level0_col3\" class=\"col_heading level0 col3\" >jobdesc</th>\n",
              "      <th id=\"T_3c48c_level0_col4\" class=\"col_heading level0 col4\" >joindate</th>\n",
              "      <th id=\"T_3c48c_level0_col5\" class=\"col_heading level0 col5\" >salary</th>\n",
              "      <th id=\"T_3c48c_level0_col6\" class=\"col_heading level0 col6\" >comm</th>\n",
              "      <th id=\"T_3c48c_level0_col7\" class=\"col_heading level0 col7\" >deptid</th>\n",
              "      <th id=\"T_3c48c_level0_col8\" class=\"col_heading level0 col8\" >hiredby</th>\n",
              "    </tr>\n",
              "  </thead>\n",
              "  <tbody>\n",
              "    <tr>\n",
              "      <td id=\"T_3c48c_row0_col0\" class=\"data row0 col0\" >742866</td>\n",
              "      <td id=\"T_3c48c_row0_col1\" class=\"data row0 col1\" >Bacchan</td>\n",
              "      <td id=\"T_3c48c_row0_col2\" class=\"data row0 col2\" >Amitabh</td>\n",
              "      <td id=\"T_3c48c_row0_col3\" class=\"data row0 col3\" >Executive</td>\n",
              "      <td id=\"T_3c48c_row0_col4\" class=\"data row0 col4\" >2003-03-10</td>\n",
              "      <td id=\"T_3c48c_row0_col5\" class=\"data row0 col5\" >50000</td>\n",
              "      <td id=\"T_3c48c_row0_col6\" class=\"data row0 col6\" >0.10</td>\n",
              "      <td id=\"T_3c48c_row0_col7\" class=\"data row0 col7\" >10</td>\n",
              "      <td id=\"T_3c48c_row0_col8\" class=\"data row0 col8\" >None</td>\n",
              "    </tr>\n",
              "    <tr>\n",
              "      <td id=\"T_3c48c_row1_col0\" class=\"data row1 col0\" >349870</td>\n",
              "      <td id=\"T_3c48c_row1_col1\" class=\"data row1 col1\" >Mukherjee</td>\n",
              "      <td id=\"T_3c48c_row1_col2\" class=\"data row1 col2\" >Rani</td>\n",
              "      <td id=\"T_3c48c_row1_col3\" class=\"data row1 col3\" >Manager</td>\n",
              "      <td id=\"T_3c48c_row1_col4\" class=\"data row1 col4\" >2005-05-04</td>\n",
              "      <td id=\"T_3c48c_row1_col5\" class=\"data row1 col5\" >25000</td>\n",
              "      <td id=\"T_3c48c_row1_col6\" class=\"data row1 col6\" >0.06</td>\n",
              "      <td id=\"T_3c48c_row1_col7\" class=\"data row1 col7\" >40</td>\n",
              "      <td id=\"T_3c48c_row1_col8\" class=\"data row1 col8\" >742866</td>\n",
              "    </tr>\n",
              "    <tr>\n",
              "      <td id=\"T_3c48c_row2_col0\" class=\"data row2 col0\" >865477</td>\n",
              "      <td id=\"T_3c48c_row2_col1\" class=\"data row2 col1\" >Dikshit</td>\n",
              "      <td id=\"T_3c48c_row2_col2\" class=\"data row2 col2\" >Madhuri</td>\n",
              "      <td id=\"T_3c48c_row2_col3\" class=\"data row2 col3\" >Clerk</td>\n",
              "      <td id=\"T_3c48c_row2_col4\" class=\"data row2 col4\" >2002-04-04</td>\n",
              "      <td id=\"T_3c48c_row2_col5\" class=\"data row2 col5\" >10000</td>\n",
              "      <td id=\"T_3c48c_row2_col6\" class=\"data row2 col6\" >0.02</td>\n",
              "      <td id=\"T_3c48c_row2_col7\" class=\"data row2 col7\" >20</td>\n",
              "      <td id=\"T_3c48c_row2_col8\" class=\"data row2 col8\" >239456</td>\n",
              "    </tr>\n",
              "    <tr>\n",
              "      <td id=\"T_3c48c_row3_col0\" class=\"data row3 col0\" >239456</td>\n",
              "      <td id=\"T_3c48c_row3_col1\" class=\"data row3 col1\" >Khan</td>\n",
              "      <td id=\"T_3c48c_row3_col2\" class=\"data row3 col2\" >Shahrukh</td>\n",
              "      <td id=\"T_3c48c_row3_col3\" class=\"data row3 col3\" >Manager</td>\n",
              "      <td id=\"T_3c48c_row3_col4\" class=\"data row3 col4\" >2004-01-03</td>\n",
              "      <td id=\"T_3c48c_row3_col5\" class=\"data row3 col5\" >30000</td>\n",
              "      <td id=\"T_3c48c_row3_col6\" class=\"data row3 col6\" >0.07</td>\n",
              "      <td id=\"T_3c48c_row3_col7\" class=\"data row3 col7\" >20</td>\n",
              "      <td id=\"T_3c48c_row3_col8\" class=\"data row3 col8\" >742866</td>\n",
              "    </tr>\n",
              "    <tr>\n",
              "      <td id=\"T_3c48c_row4_col0\" class=\"data row4 col0\" >897889</td>\n",
              "      <td id=\"T_3c48c_row4_col1\" class=\"data row4 col1\" >Sehwag</td>\n",
              "      <td id=\"T_3c48c_row4_col2\" class=\"data row4 col2\" >Virender</td>\n",
              "      <td id=\"T_3c48c_row4_col3\" class=\"data row4 col3\" >Cus_Rep</td>\n",
              "      <td id=\"T_3c48c_row4_col4\" class=\"data row4 col4\" >2005-01-02</td>\n",
              "      <td id=\"T_3c48c_row4_col5\" class=\"data row4 col5\" >15000</td>\n",
              "      <td id=\"T_3c48c_row4_col6\" class=\"data row4 col6\" >0.05</td>\n",
              "      <td id=\"T_3c48c_row4_col7\" class=\"data row4 col7\" >20</td>\n",
              "      <td id=\"T_3c48c_row4_col8\" class=\"data row4 col8\" >239456</td>\n",
              "    </tr>\n",
              "    <tr>\n",
              "      <td id=\"T_3c48c_row5_col0\" class=\"data row5 col0\" >123980</td>\n",
              "      <td id=\"T_3c48c_row5_col1\" class=\"data row5 col1\" >Dhoni</td>\n",
              "      <td id=\"T_3c48c_row5_col2\" class=\"data row5 col2\" >Mahender</td>\n",
              "      <td id=\"T_3c48c_row5_col3\" class=\"data row5 col3\" >Clerk</td>\n",
              "      <td id=\"T_3c48c_row5_col4\" class=\"data row5 col4\" >2004-10-09</td>\n",
              "      <td id=\"T_3c48c_row5_col5\" class=\"data row5 col5\" >9000</td>\n",
              "      <td id=\"T_3c48c_row5_col6\" class=\"data row5 col6\" >0.02</td>\n",
              "      <td id=\"T_3c48c_row5_col7\" class=\"data row5 col7\" >40</td>\n",
              "      <td id=\"T_3c48c_row5_col8\" class=\"data row5 col8\" >349870</td>\n",
              "    </tr>\n",
              "    <tr>\n",
              "      <td id=\"T_3c48c_row6_col0\" class=\"data row6 col0\" >822134</td>\n",
              "      <td id=\"T_3c48c_row6_col1\" class=\"data row6 col1\" >Dravid</td>\n",
              "      <td id=\"T_3c48c_row6_col2\" class=\"data row6 col2\" >Rahul</td>\n",
              "      <td id=\"T_3c48c_row6_col3\" class=\"data row6 col3\" >Sr Manager</td>\n",
              "      <td id=\"T_3c48c_row6_col4\" class=\"data row6 col4\" >2000-06-04</td>\n",
              "      <td id=\"T_3c48c_row6_col5\" class=\"data row6 col5\" >40000</td>\n",
              "      <td id=\"T_3c48c_row6_col6\" class=\"data row6 col6\" >0.08</td>\n",
              "      <td id=\"T_3c48c_row6_col7\" class=\"data row6 col7\" >30</td>\n",
              "      <td id=\"T_3c48c_row6_col8\" class=\"data row6 col8\" >742866</td>\n",
              "    </tr>\n",
              "    <tr>\n",
              "      <td id=\"T_3c48c_row7_col0\" class=\"data row7 col0\" >997445</td>\n",
              "      <td id=\"T_3c48c_row7_col1\" class=\"data row7 col1\" >Dalmia</td>\n",
              "      <td id=\"T_3c48c_row7_col2\" class=\"data row7 col2\" >Jagmohan</td>\n",
              "      <td id=\"T_3c48c_row7_col3\" class=\"data row7 col3\" >Clerk</td>\n",
              "      <td id=\"T_3c48c_row7_col4\" class=\"data row7 col4\" >2001-07-01</td>\n",
              "      <td id=\"T_3c48c_row7_col5\" class=\"data row7 col5\" >12000</td>\n",
              "      <td id=\"T_3c48c_row7_col6\" class=\"data row7 col6\" >0.02</td>\n",
              "      <td id=\"T_3c48c_row7_col7\" class=\"data row7 col7\" >30</td>\n",
              "      <td id=\"T_3c48c_row7_col8\" class=\"data row7 col8\" >822134</td>\n",
              "    </tr>\n",
              "    <tr>\n",
              "      <td id=\"T_3c48c_row8_col0\" class=\"data row8 col0\" >989007</td>\n",
              "      <td id=\"T_3c48c_row8_col1\" class=\"data row8 col1\" >Ganguly</td>\n",
              "      <td id=\"T_3c48c_row8_col2\" class=\"data row8 col2\" >Sourav</td>\n",
              "      <td id=\"T_3c48c_row8_col3\" class=\"data row8 col3\" >Cus_Rep</td>\n",
              "      <td id=\"T_3c48c_row8_col4\" class=\"data row8 col4\" >2002-01-01</td>\n",
              "      <td id=\"T_3c48c_row8_col5\" class=\"data row8 col5\" >20000</td>\n",
              "      <td id=\"T_3c48c_row8_col6\" class=\"data row8 col6\" >0.03</td>\n",
              "      <td id=\"T_3c48c_row8_col7\" class=\"data row8 col7\" >40</td>\n",
              "      <td id=\"T_3c48c_row8_col8\" class=\"data row8 col8\" >299034</td>\n",
              "    </tr>\n",
              "    <tr>\n",
              "      <td id=\"T_3c48c_row9_col0\" class=\"data row9 col0\" >299034</td>\n",
              "      <td id=\"T_3c48c_row9_col1\" class=\"data row9 col1\" >Ganesan</td>\n",
              "      <td id=\"T_3c48c_row9_col2\" class=\"data row9 col2\" >Rekha</td>\n",
              "      <td id=\"T_3c48c_row9_col3\" class=\"data row9 col3\" >Director</td>\n",
              "      <td id=\"T_3c48c_row9_col4\" class=\"data row9 col4\" >2002-10-10</td>\n",
              "      <td id=\"T_3c48c_row9_col5\" class=\"data row9 col5\" >60000</td>\n",
              "      <td id=\"T_3c48c_row9_col6\" class=\"data row9 col6\" >0.11</td>\n",
              "      <td id=\"T_3c48c_row9_col7\" class=\"data row9 col7\" >10</td>\n",
              "      <td id=\"T_3c48c_row9_col8\" class=\"data row9 col8\" >742866</td>\n",
              "    </tr>\n",
              "    <tr>\n",
              "      <td id=\"T_3c48c_row10_col0\" class=\"data row10 col0\" >546223</td>\n",
              "      <td id=\"T_3c48c_row10_col1\" class=\"data row10 col1\" >Karthikeyan</td>\n",
              "      <td id=\"T_3c48c_row10_col2\" class=\"data row10 col2\" >Narayan</td>\n",
              "      <td id=\"T_3c48c_row10_col3\" class=\"data row10 col3\" >Secretary</td>\n",
              "      <td id=\"T_3c48c_row10_col4\" class=\"data row10 col4\" >2005-12-04</td>\n",
              "      <td id=\"T_3c48c_row10_col5\" class=\"data row10 col5\" >40000</td>\n",
              "      <td id=\"T_3c48c_row10_col6\" class=\"data row10 col6\" >0.09</td>\n",
              "      <td id=\"T_3c48c_row10_col7\" class=\"data row10 col7\" >10</td>\n",
              "      <td id=\"T_3c48c_row10_col8\" class=\"data row10 col8\" >299034</td>\n",
              "    </tr>\n",
              "    <tr>\n",
              "      <td id=\"T_3c48c_row11_col0\" class=\"data row11 col0\" >546224</td>\n",
              "      <td id=\"T_3c48c_row11_col1\" class=\"data row11 col1\" >Sunil</td>\n",
              "      <td id=\"T_3c48c_row11_col2\" class=\"data row11 col2\" >Chettri</td>\n",
              "      <td id=\"T_3c48c_row11_col3\" class=\"data row11 col3\" >Dy Manager</td>\n",
              "      <td id=\"T_3c48c_row11_col4\" class=\"data row11 col4\" >2006-12-07</td>\n",
              "      <td id=\"T_3c48c_row11_col5\" class=\"data row11 col5\" >40000</td>\n",
              "      <td id=\"T_3c48c_row11_col6\" class=\"data row11 col6\" >0.05</td>\n",
              "      <td id=\"T_3c48c_row11_col7\" class=\"data row11 col7\" >70</td>\n",
              "      <td id=\"T_3c48c_row11_col8\" class=\"data row11 col8\" >989007</td>\n",
              "    </tr>\n",
              "    <tr>\n",
              "      <td id=\"T_3c48c_row12_col0\" class=\"data row12 col0\" >223112</td>\n",
              "      <td id=\"T_3c48c_row12_col1\" class=\"data row12 col1\" >Mirza</td>\n",
              "      <td id=\"T_3c48c_row12_col2\" class=\"data row12 col2\" >Sania</td>\n",
              "      <td id=\"T_3c48c_row12_col3\" class=\"data row12 col3\" >Cus_Rep</td>\n",
              "      <td id=\"T_3c48c_row12_col4\" class=\"data row12 col4\" >2001-11-19</td>\n",
              "      <td id=\"T_3c48c_row12_col5\" class=\"data row12 col5\" >25000</td>\n",
              "      <td id=\"T_3c48c_row12_col6\" class=\"data row12 col6\" >0.04</td>\n",
              "      <td id=\"T_3c48c_row12_col7\" class=\"data row12 col7\" >30</td>\n",
              "      <td id=\"T_3c48c_row12_col8\" class=\"data row12 col8\" >822134</td>\n",
              "    </tr>\n",
              "  </tbody>\n",
              "</table>\n"
            ]
          },
          "metadata": {},
          "execution_count": 11
        }
      ]
    },
    {
      "cell_type": "code",
      "source": [
        "df= runSelect2('select * from empl')\n",
        "df.head()"
      ],
      "metadata": {
        "id": "Otiv4rjSl5Tg",
        "outputId": "378254eb-15b2-4372-dda2-83d44e7f2793",
        "colab": {
          "base_uri": "https://localhost:8080/",
          "height": 206
        }
      },
      "execution_count": 12,
      "outputs": [
        {
          "output_type": "execute_result",
          "data": {
            "text/plain": [
              "    empid   lastname firstname    jobdesc    joindate  salary  comm deptid  \\\n",
              "0  742866    Bacchan   Amitabh  Executive  2003-03-10   50000  0.10     10   \n",
              "1  349870  Mukherjee      Rani    Manager  2005-05-04   25000  0.06     40   \n",
              "2  865477    Dikshit   Madhuri      Clerk  2002-04-04   10000  0.02     20   \n",
              "3  239456       Khan  Shahrukh    Manager  2004-01-03   30000  0.07     20   \n",
              "4  897889     Sehwag  Virender    Cus_Rep  2005-01-02   15000  0.05     20   \n",
              "\n",
              "  hiredby  \n",
              "0    None  \n",
              "1  742866  \n",
              "2  239456  \n",
              "3  742866  \n",
              "4  239456  "
            ],
            "text/html": [
              "\n",
              "  <div id=\"df-d0c1d9d8-6da2-4f7c-b239-20e15ca9533e\" class=\"colab-df-container\">\n",
              "    <div>\n",
              "<style scoped>\n",
              "    .dataframe tbody tr th:only-of-type {\n",
              "        vertical-align: middle;\n",
              "    }\n",
              "\n",
              "    .dataframe tbody tr th {\n",
              "        vertical-align: top;\n",
              "    }\n",
              "\n",
              "    .dataframe thead th {\n",
              "        text-align: right;\n",
              "    }\n",
              "</style>\n",
              "<table border=\"1\" class=\"dataframe\">\n",
              "  <thead>\n",
              "    <tr style=\"text-align: right;\">\n",
              "      <th></th>\n",
              "      <th>empid</th>\n",
              "      <th>lastname</th>\n",
              "      <th>firstname</th>\n",
              "      <th>jobdesc</th>\n",
              "      <th>joindate</th>\n",
              "      <th>salary</th>\n",
              "      <th>comm</th>\n",
              "      <th>deptid</th>\n",
              "      <th>hiredby</th>\n",
              "    </tr>\n",
              "  </thead>\n",
              "  <tbody>\n",
              "    <tr>\n",
              "      <th>0</th>\n",
              "      <td>742866</td>\n",
              "      <td>Bacchan</td>\n",
              "      <td>Amitabh</td>\n",
              "      <td>Executive</td>\n",
              "      <td>2003-03-10</td>\n",
              "      <td>50000</td>\n",
              "      <td>0.10</td>\n",
              "      <td>10</td>\n",
              "      <td>None</td>\n",
              "    </tr>\n",
              "    <tr>\n",
              "      <th>1</th>\n",
              "      <td>349870</td>\n",
              "      <td>Mukherjee</td>\n",
              "      <td>Rani</td>\n",
              "      <td>Manager</td>\n",
              "      <td>2005-05-04</td>\n",
              "      <td>25000</td>\n",
              "      <td>0.06</td>\n",
              "      <td>40</td>\n",
              "      <td>742866</td>\n",
              "    </tr>\n",
              "    <tr>\n",
              "      <th>2</th>\n",
              "      <td>865477</td>\n",
              "      <td>Dikshit</td>\n",
              "      <td>Madhuri</td>\n",
              "      <td>Clerk</td>\n",
              "      <td>2002-04-04</td>\n",
              "      <td>10000</td>\n",
              "      <td>0.02</td>\n",
              "      <td>20</td>\n",
              "      <td>239456</td>\n",
              "    </tr>\n",
              "    <tr>\n",
              "      <th>3</th>\n",
              "      <td>239456</td>\n",
              "      <td>Khan</td>\n",
              "      <td>Shahrukh</td>\n",
              "      <td>Manager</td>\n",
              "      <td>2004-01-03</td>\n",
              "      <td>30000</td>\n",
              "      <td>0.07</td>\n",
              "      <td>20</td>\n",
              "      <td>742866</td>\n",
              "    </tr>\n",
              "    <tr>\n",
              "      <th>4</th>\n",
              "      <td>897889</td>\n",
              "      <td>Sehwag</td>\n",
              "      <td>Virender</td>\n",
              "      <td>Cus_Rep</td>\n",
              "      <td>2005-01-02</td>\n",
              "      <td>15000</td>\n",
              "      <td>0.05</td>\n",
              "      <td>20</td>\n",
              "      <td>239456</td>\n",
              "    </tr>\n",
              "  </tbody>\n",
              "</table>\n",
              "</div>\n",
              "    <div class=\"colab-df-buttons\">\n",
              "\n",
              "  <div class=\"colab-df-container\">\n",
              "    <button class=\"colab-df-convert\" onclick=\"convertToInteractive('df-d0c1d9d8-6da2-4f7c-b239-20e15ca9533e')\"\n",
              "            title=\"Convert this dataframe to an interactive table.\"\n",
              "            style=\"display:none;\">\n",
              "\n",
              "  <svg xmlns=\"http://www.w3.org/2000/svg\" height=\"24px\" viewBox=\"0 -960 960 960\">\n",
              "    <path d=\"M120-120v-720h720v720H120Zm60-500h600v-160H180v160Zm220 220h160v-160H400v160Zm0 220h160v-160H400v160ZM180-400h160v-160H180v160Zm440 0h160v-160H620v160ZM180-180h160v-160H180v160Zm440 0h160v-160H620v160Z\"/>\n",
              "  </svg>\n",
              "    </button>\n",
              "\n",
              "  <style>\n",
              "    .colab-df-container {\n",
              "      display:flex;\n",
              "      gap: 12px;\n",
              "    }\n",
              "\n",
              "    .colab-df-convert {\n",
              "      background-color: #E8F0FE;\n",
              "      border: none;\n",
              "      border-radius: 50%;\n",
              "      cursor: pointer;\n",
              "      display: none;\n",
              "      fill: #1967D2;\n",
              "      height: 32px;\n",
              "      padding: 0 0 0 0;\n",
              "      width: 32px;\n",
              "    }\n",
              "\n",
              "    .colab-df-convert:hover {\n",
              "      background-color: #E2EBFA;\n",
              "      box-shadow: 0px 1px 2px rgba(60, 64, 67, 0.3), 0px 1px 3px 1px rgba(60, 64, 67, 0.15);\n",
              "      fill: #174EA6;\n",
              "    }\n",
              "\n",
              "    .colab-df-buttons div {\n",
              "      margin-bottom: 4px;\n",
              "    }\n",
              "\n",
              "    [theme=dark] .colab-df-convert {\n",
              "      background-color: #3B4455;\n",
              "      fill: #D2E3FC;\n",
              "    }\n",
              "\n",
              "    [theme=dark] .colab-df-convert:hover {\n",
              "      background-color: #434B5C;\n",
              "      box-shadow: 0px 1px 3px 1px rgba(0, 0, 0, 0.15);\n",
              "      filter: drop-shadow(0px 1px 2px rgba(0, 0, 0, 0.3));\n",
              "      fill: #FFFFFF;\n",
              "    }\n",
              "  </style>\n",
              "\n",
              "    <script>\n",
              "      const buttonEl =\n",
              "        document.querySelector('#df-d0c1d9d8-6da2-4f7c-b239-20e15ca9533e button.colab-df-convert');\n",
              "      buttonEl.style.display =\n",
              "        google.colab.kernel.accessAllowed ? 'block' : 'none';\n",
              "\n",
              "      async function convertToInteractive(key) {\n",
              "        const element = document.querySelector('#df-d0c1d9d8-6da2-4f7c-b239-20e15ca9533e');\n",
              "        const dataTable =\n",
              "          await google.colab.kernel.invokeFunction('convertToInteractive',\n",
              "                                                    [key], {});\n",
              "        if (!dataTable) return;\n",
              "\n",
              "        const docLinkHtml = 'Like what you see? Visit the ' +\n",
              "          '<a target=\"_blank\" href=https://colab.research.google.com/notebooks/data_table.ipynb>data table notebook</a>'\n",
              "          + ' to learn more about interactive tables.';\n",
              "        element.innerHTML = '';\n",
              "        dataTable['output_type'] = 'display_data';\n",
              "        await google.colab.output.renderOutput(dataTable, element);\n",
              "        const docLink = document.createElement('div');\n",
              "        docLink.innerHTML = docLinkHtml;\n",
              "        element.appendChild(docLink);\n",
              "      }\n",
              "    </script>\n",
              "  </div>\n",
              "\n",
              "\n",
              "    <div id=\"df-0f5f550f-4e9d-4618-b2ef-58b298ece4ce\">\n",
              "      <button class=\"colab-df-quickchart\" onclick=\"quickchart('df-0f5f550f-4e9d-4618-b2ef-58b298ece4ce')\"\n",
              "                title=\"Suggest charts\"\n",
              "                style=\"display:none;\">\n",
              "\n",
              "<svg xmlns=\"http://www.w3.org/2000/svg\" height=\"24px\"viewBox=\"0 0 24 24\"\n",
              "     width=\"24px\">\n",
              "    <g>\n",
              "        <path d=\"M19 3H5c-1.1 0-2 .9-2 2v14c0 1.1.9 2 2 2h14c1.1 0 2-.9 2-2V5c0-1.1-.9-2-2-2zM9 17H7v-7h2v7zm4 0h-2V7h2v10zm4 0h-2v-4h2v4z\"/>\n",
              "    </g>\n",
              "</svg>\n",
              "      </button>\n",
              "\n",
              "<style>\n",
              "  .colab-df-quickchart {\n",
              "      --bg-color: #E8F0FE;\n",
              "      --fill-color: #1967D2;\n",
              "      --hover-bg-color: #E2EBFA;\n",
              "      --hover-fill-color: #174EA6;\n",
              "      --disabled-fill-color: #AAA;\n",
              "      --disabled-bg-color: #DDD;\n",
              "  }\n",
              "\n",
              "  [theme=dark] .colab-df-quickchart {\n",
              "      --bg-color: #3B4455;\n",
              "      --fill-color: #D2E3FC;\n",
              "      --hover-bg-color: #434B5C;\n",
              "      --hover-fill-color: #FFFFFF;\n",
              "      --disabled-bg-color: #3B4455;\n",
              "      --disabled-fill-color: #666;\n",
              "  }\n",
              "\n",
              "  .colab-df-quickchart {\n",
              "    background-color: var(--bg-color);\n",
              "    border: none;\n",
              "    border-radius: 50%;\n",
              "    cursor: pointer;\n",
              "    display: none;\n",
              "    fill: var(--fill-color);\n",
              "    height: 32px;\n",
              "    padding: 0;\n",
              "    width: 32px;\n",
              "  }\n",
              "\n",
              "  .colab-df-quickchart:hover {\n",
              "    background-color: var(--hover-bg-color);\n",
              "    box-shadow: 0 1px 2px rgba(60, 64, 67, 0.3), 0 1px 3px 1px rgba(60, 64, 67, 0.15);\n",
              "    fill: var(--button-hover-fill-color);\n",
              "  }\n",
              "\n",
              "  .colab-df-quickchart-complete:disabled,\n",
              "  .colab-df-quickchart-complete:disabled:hover {\n",
              "    background-color: var(--disabled-bg-color);\n",
              "    fill: var(--disabled-fill-color);\n",
              "    box-shadow: none;\n",
              "  }\n",
              "\n",
              "  .colab-df-spinner {\n",
              "    border: 2px solid var(--fill-color);\n",
              "    border-color: transparent;\n",
              "    border-bottom-color: var(--fill-color);\n",
              "    animation:\n",
              "      spin 1s steps(1) infinite;\n",
              "  }\n",
              "\n",
              "  @keyframes spin {\n",
              "    0% {\n",
              "      border-color: transparent;\n",
              "      border-bottom-color: var(--fill-color);\n",
              "      border-left-color: var(--fill-color);\n",
              "    }\n",
              "    20% {\n",
              "      border-color: transparent;\n",
              "      border-left-color: var(--fill-color);\n",
              "      border-top-color: var(--fill-color);\n",
              "    }\n",
              "    30% {\n",
              "      border-color: transparent;\n",
              "      border-left-color: var(--fill-color);\n",
              "      border-top-color: var(--fill-color);\n",
              "      border-right-color: var(--fill-color);\n",
              "    }\n",
              "    40% {\n",
              "      border-color: transparent;\n",
              "      border-right-color: var(--fill-color);\n",
              "      border-top-color: var(--fill-color);\n",
              "    }\n",
              "    60% {\n",
              "      border-color: transparent;\n",
              "      border-right-color: var(--fill-color);\n",
              "    }\n",
              "    80% {\n",
              "      border-color: transparent;\n",
              "      border-right-color: var(--fill-color);\n",
              "      border-bottom-color: var(--fill-color);\n",
              "    }\n",
              "    90% {\n",
              "      border-color: transparent;\n",
              "      border-bottom-color: var(--fill-color);\n",
              "    }\n",
              "  }\n",
              "</style>\n",
              "\n",
              "      <script>\n",
              "        async function quickchart(key) {\n",
              "          const quickchartButtonEl =\n",
              "            document.querySelector('#' + key + ' button');\n",
              "          quickchartButtonEl.disabled = true;  // To prevent multiple clicks.\n",
              "          quickchartButtonEl.classList.add('colab-df-spinner');\n",
              "          try {\n",
              "            const charts = await google.colab.kernel.invokeFunction(\n",
              "                'suggestCharts', [key], {});\n",
              "          } catch (error) {\n",
              "            console.error('Error during call to suggestCharts:', error);\n",
              "          }\n",
              "          quickchartButtonEl.classList.remove('colab-df-spinner');\n",
              "          quickchartButtonEl.classList.add('colab-df-quickchart-complete');\n",
              "        }\n",
              "        (() => {\n",
              "          let quickchartButtonEl =\n",
              "            document.querySelector('#df-0f5f550f-4e9d-4618-b2ef-58b298ece4ce button');\n",
              "          quickchartButtonEl.style.display =\n",
              "            google.colab.kernel.accessAllowed ? 'block' : 'none';\n",
              "        })();\n",
              "      </script>\n",
              "    </div>\n",
              "\n",
              "    </div>\n",
              "  </div>\n"
            ],
            "application/vnd.google.colaboratory.intrinsic+json": {
              "type": "dataframe",
              "variable_name": "df",
              "summary": "{\n  \"name\": \"df\",\n  \"rows\": 13,\n  \"fields\": [\n    {\n      \"column\": \"empid\",\n      \"properties\": {\n        \"dtype\": \"string\",\n        \"num_unique_values\": 13,\n        \"samples\": [\n          \"546224\",\n          \"299034\",\n          \"742866\"\n        ],\n        \"semantic_type\": \"\",\n        \"description\": \"\"\n      }\n    },\n    {\n      \"column\": \"lastname\",\n      \"properties\": {\n        \"dtype\": \"string\",\n        \"num_unique_values\": 13,\n        \"samples\": [\n          \"Sunil\",\n          \"Ganesan\",\n          \"Bacchan\"\n        ],\n        \"semantic_type\": \"\",\n        \"description\": \"\"\n      }\n    },\n    {\n      \"column\": \"firstname\",\n      \"properties\": {\n        \"dtype\": \"string\",\n        \"num_unique_values\": 13,\n        \"samples\": [\n          \"Chettri\",\n          \"Rekha\",\n          \"Amitabh\"\n        ],\n        \"semantic_type\": \"\",\n        \"description\": \"\"\n      }\n    },\n    {\n      \"column\": \"jobdesc\",\n      \"properties\": {\n        \"dtype\": \"string\",\n        \"num_unique_values\": 8,\n        \"samples\": [\n          \"Manager\",\n          \"Director\",\n          \"Executive\"\n        ],\n        \"semantic_type\": \"\",\n        \"description\": \"\"\n      }\n    },\n    {\n      \"column\": \"joindate\",\n      \"properties\": {\n        \"dtype\": \"date\",\n        \"min\": \"2000-06-04\",\n        \"max\": \"2006-12-07\",\n        \"num_unique_values\": 13,\n        \"samples\": [\n          \"2006-12-07\",\n          \"2002-10-10\",\n          \"2003-03-10\"\n        ],\n        \"semantic_type\": \"\",\n        \"description\": \"\"\n      }\n    },\n    {\n      \"column\": \"salary\",\n      \"properties\": {\n        \"dtype\": \"number\",\n        \"std\": 16137,\n        \"min\": 9000,\n        \"max\": 60000,\n        \"num_unique_values\": 10,\n        \"samples\": [\n          20000,\n          25000,\n          9000\n        ],\n        \"semantic_type\": \"\",\n        \"description\": \"\"\n      }\n    },\n    {\n      \"column\": \"comm\",\n      \"properties\": {\n        \"dtype\": \"string\",\n        \"num_unique_values\": 10,\n        \"samples\": [\n          \"0.09\",\n          \"0.06\",\n          \"0.08\"\n        ],\n        \"semantic_type\": \"\",\n        \"description\": \"\"\n      }\n    },\n    {\n      \"column\": \"deptid\",\n      \"properties\": {\n        \"dtype\": \"category\",\n        \"num_unique_values\": 5,\n        \"samples\": [\n          \"40\",\n          \"70\",\n          \"20\"\n        ],\n        \"semantic_type\": \"\",\n        \"description\": \"\"\n      }\n    },\n    {\n      \"column\": \"hiredby\",\n      \"properties\": {\n        \"dtype\": \"category\",\n        \"num_unique_values\": 6,\n        \"samples\": [\n          \"742866\",\n          \"239456\",\n          \"989007\"\n        ],\n        \"semantic_type\": \"\",\n        \"description\": \"\"\n      }\n    }\n  ]\n}"
            }
          },
          "metadata": {},
          "execution_count": 12
        }
      ]
    },
    {
      "cell_type": "code",
      "source": [
        "runSelect('select lastname, jobdesc, salary from empl')"
      ],
      "metadata": {
        "id": "z-mxVMPuuxu6",
        "outputId": "5653884e-08bd-4fc0-993b-f9067b63b8ab",
        "colab": {
          "base_uri": "https://localhost:8080/",
          "height": 457
        }
      },
      "execution_count": 13,
      "outputs": [
        {
          "output_type": "execute_result",
          "data": {
            "text/plain": [
              "<pandas.io.formats.style.Styler at 0x7a11948f7090>"
            ],
            "text/html": [
              "<style type=\"text/css\">\n",
              "</style>\n",
              "<table id=\"T_deb30\" class=\"dataframe\">\n",
              "  <thead>\n",
              "    <tr>\n",
              "      <th id=\"T_deb30_level0_col0\" class=\"col_heading level0 col0\" >lastname</th>\n",
              "      <th id=\"T_deb30_level0_col1\" class=\"col_heading level0 col1\" >jobdesc</th>\n",
              "      <th id=\"T_deb30_level0_col2\" class=\"col_heading level0 col2\" >salary</th>\n",
              "    </tr>\n",
              "  </thead>\n",
              "  <tbody>\n",
              "    <tr>\n",
              "      <td id=\"T_deb30_row0_col0\" class=\"data row0 col0\" >Bacchan</td>\n",
              "      <td id=\"T_deb30_row0_col1\" class=\"data row0 col1\" >Executive</td>\n",
              "      <td id=\"T_deb30_row0_col2\" class=\"data row0 col2\" >50000</td>\n",
              "    </tr>\n",
              "    <tr>\n",
              "      <td id=\"T_deb30_row1_col0\" class=\"data row1 col0\" >Mukherjee</td>\n",
              "      <td id=\"T_deb30_row1_col1\" class=\"data row1 col1\" >Manager</td>\n",
              "      <td id=\"T_deb30_row1_col2\" class=\"data row1 col2\" >25000</td>\n",
              "    </tr>\n",
              "    <tr>\n",
              "      <td id=\"T_deb30_row2_col0\" class=\"data row2 col0\" >Dikshit</td>\n",
              "      <td id=\"T_deb30_row2_col1\" class=\"data row2 col1\" >Clerk</td>\n",
              "      <td id=\"T_deb30_row2_col2\" class=\"data row2 col2\" >10000</td>\n",
              "    </tr>\n",
              "    <tr>\n",
              "      <td id=\"T_deb30_row3_col0\" class=\"data row3 col0\" >Khan</td>\n",
              "      <td id=\"T_deb30_row3_col1\" class=\"data row3 col1\" >Manager</td>\n",
              "      <td id=\"T_deb30_row3_col2\" class=\"data row3 col2\" >30000</td>\n",
              "    </tr>\n",
              "    <tr>\n",
              "      <td id=\"T_deb30_row4_col0\" class=\"data row4 col0\" >Sehwag</td>\n",
              "      <td id=\"T_deb30_row4_col1\" class=\"data row4 col1\" >Cus_Rep</td>\n",
              "      <td id=\"T_deb30_row4_col2\" class=\"data row4 col2\" >15000</td>\n",
              "    </tr>\n",
              "    <tr>\n",
              "      <td id=\"T_deb30_row5_col0\" class=\"data row5 col0\" >Dhoni</td>\n",
              "      <td id=\"T_deb30_row5_col1\" class=\"data row5 col1\" >Clerk</td>\n",
              "      <td id=\"T_deb30_row5_col2\" class=\"data row5 col2\" >9000</td>\n",
              "    </tr>\n",
              "    <tr>\n",
              "      <td id=\"T_deb30_row6_col0\" class=\"data row6 col0\" >Dravid</td>\n",
              "      <td id=\"T_deb30_row6_col1\" class=\"data row6 col1\" >Sr Manager</td>\n",
              "      <td id=\"T_deb30_row6_col2\" class=\"data row6 col2\" >40000</td>\n",
              "    </tr>\n",
              "    <tr>\n",
              "      <td id=\"T_deb30_row7_col0\" class=\"data row7 col0\" >Dalmia</td>\n",
              "      <td id=\"T_deb30_row7_col1\" class=\"data row7 col1\" >Clerk</td>\n",
              "      <td id=\"T_deb30_row7_col2\" class=\"data row7 col2\" >12000</td>\n",
              "    </tr>\n",
              "    <tr>\n",
              "      <td id=\"T_deb30_row8_col0\" class=\"data row8 col0\" >Ganguly</td>\n",
              "      <td id=\"T_deb30_row8_col1\" class=\"data row8 col1\" >Cus_Rep</td>\n",
              "      <td id=\"T_deb30_row8_col2\" class=\"data row8 col2\" >20000</td>\n",
              "    </tr>\n",
              "    <tr>\n",
              "      <td id=\"T_deb30_row9_col0\" class=\"data row9 col0\" >Ganesan</td>\n",
              "      <td id=\"T_deb30_row9_col1\" class=\"data row9 col1\" >Director</td>\n",
              "      <td id=\"T_deb30_row9_col2\" class=\"data row9 col2\" >60000</td>\n",
              "    </tr>\n",
              "    <tr>\n",
              "      <td id=\"T_deb30_row10_col0\" class=\"data row10 col0\" >Karthikeyan</td>\n",
              "      <td id=\"T_deb30_row10_col1\" class=\"data row10 col1\" >Secretary</td>\n",
              "      <td id=\"T_deb30_row10_col2\" class=\"data row10 col2\" >40000</td>\n",
              "    </tr>\n",
              "    <tr>\n",
              "      <td id=\"T_deb30_row11_col0\" class=\"data row11 col0\" >Sunil</td>\n",
              "      <td id=\"T_deb30_row11_col1\" class=\"data row11 col1\" >Dy Manager</td>\n",
              "      <td id=\"T_deb30_row11_col2\" class=\"data row11 col2\" >40000</td>\n",
              "    </tr>\n",
              "    <tr>\n",
              "      <td id=\"T_deb30_row12_col0\" class=\"data row12 col0\" >Mirza</td>\n",
              "      <td id=\"T_deb30_row12_col1\" class=\"data row12 col1\" >Cus_Rep</td>\n",
              "      <td id=\"T_deb30_row12_col2\" class=\"data row12 col2\" >25000</td>\n",
              "    </tr>\n",
              "  </tbody>\n",
              "</table>\n"
            ]
          },
          "metadata": {},
          "execution_count": 13
        }
      ]
    },
    {
      "cell_type": "code",
      "source": [
        "runSelect('select distinct(jobdesc) from empl')"
      ],
      "metadata": {
        "id": "7uvcAdlCvg-p",
        "outputId": "e49c5981-b81d-45c0-df55-f274ee8fb6f5",
        "colab": {
          "base_uri": "https://localhost:8080/",
          "height": 300
        }
      },
      "execution_count": 14,
      "outputs": [
        {
          "output_type": "execute_result",
          "data": {
            "text/plain": [
              "<pandas.io.formats.style.Styler at 0x7a119494c410>"
            ],
            "text/html": [
              "<style type=\"text/css\">\n",
              "</style>\n",
              "<table id=\"T_506f9\" class=\"dataframe\">\n",
              "  <thead>\n",
              "    <tr>\n",
              "      <th id=\"T_506f9_level0_col0\" class=\"col_heading level0 col0\" >jobdesc</th>\n",
              "    </tr>\n",
              "  </thead>\n",
              "  <tbody>\n",
              "    <tr>\n",
              "      <td id=\"T_506f9_row0_col0\" class=\"data row0 col0\" >Director</td>\n",
              "    </tr>\n",
              "    <tr>\n",
              "      <td id=\"T_506f9_row1_col0\" class=\"data row1 col0\" >Manager</td>\n",
              "    </tr>\n",
              "    <tr>\n",
              "      <td id=\"T_506f9_row2_col0\" class=\"data row2 col0\" >Dy Manager</td>\n",
              "    </tr>\n",
              "    <tr>\n",
              "      <td id=\"T_506f9_row3_col0\" class=\"data row3 col0\" >Executive</td>\n",
              "    </tr>\n",
              "    <tr>\n",
              "      <td id=\"T_506f9_row4_col0\" class=\"data row4 col0\" >Secretary</td>\n",
              "    </tr>\n",
              "    <tr>\n",
              "      <td id=\"T_506f9_row5_col0\" class=\"data row5 col0\" >Cus_Rep</td>\n",
              "    </tr>\n",
              "    <tr>\n",
              "      <td id=\"T_506f9_row6_col0\" class=\"data row6 col0\" >Clerk</td>\n",
              "    </tr>\n",
              "    <tr>\n",
              "      <td id=\"T_506f9_row7_col0\" class=\"data row7 col0\" >Sr Manager</td>\n",
              "    </tr>\n",
              "  </tbody>\n",
              "</table>\n"
            ]
          },
          "metadata": {},
          "execution_count": 14
        }
      ]
    },
    {
      "cell_type": "markdown",
      "source": [
        "#Where"
      ],
      "metadata": {
        "id": "LFbNG59OxVzF"
      }
    },
    {
      "cell_type": "markdown",
      "source": [
        "## Equal, Not Equal, Greater, Less"
      ],
      "metadata": {
        "id": "JM2k29awVQHc"
      }
    },
    {
      "cell_type": "code",
      "source": [
        "runSelect(\"select firstname, lastname, jobdesc from empl where jobdesc = 'Clerk'\")"
      ],
      "metadata": {
        "id": "rRZz9OpLxdEY",
        "outputId": "009853a4-7cad-4722-fa43-a89ee1598838",
        "colab": {
          "base_uri": "https://localhost:8080/",
          "height": 143
        }
      },
      "execution_count": 15,
      "outputs": [
        {
          "output_type": "execute_result",
          "data": {
            "text/plain": [
              "<pandas.io.formats.style.Styler at 0x7a119494f250>"
            ],
            "text/html": [
              "<style type=\"text/css\">\n",
              "</style>\n",
              "<table id=\"T_51d24\" class=\"dataframe\">\n",
              "  <thead>\n",
              "    <tr>\n",
              "      <th id=\"T_51d24_level0_col0\" class=\"col_heading level0 col0\" >firstname</th>\n",
              "      <th id=\"T_51d24_level0_col1\" class=\"col_heading level0 col1\" >lastname</th>\n",
              "      <th id=\"T_51d24_level0_col2\" class=\"col_heading level0 col2\" >jobdesc</th>\n",
              "    </tr>\n",
              "  </thead>\n",
              "  <tbody>\n",
              "    <tr>\n",
              "      <td id=\"T_51d24_row0_col0\" class=\"data row0 col0\" >Madhuri</td>\n",
              "      <td id=\"T_51d24_row0_col1\" class=\"data row0 col1\" >Dikshit</td>\n",
              "      <td id=\"T_51d24_row0_col2\" class=\"data row0 col2\" >Clerk</td>\n",
              "    </tr>\n",
              "    <tr>\n",
              "      <td id=\"T_51d24_row1_col0\" class=\"data row1 col0\" >Mahender</td>\n",
              "      <td id=\"T_51d24_row1_col1\" class=\"data row1 col1\" >Dhoni</td>\n",
              "      <td id=\"T_51d24_row1_col2\" class=\"data row1 col2\" >Clerk</td>\n",
              "    </tr>\n",
              "    <tr>\n",
              "      <td id=\"T_51d24_row2_col0\" class=\"data row2 col0\" >Jagmohan</td>\n",
              "      <td id=\"T_51d24_row2_col1\" class=\"data row2 col1\" >Dalmia</td>\n",
              "      <td id=\"T_51d24_row2_col2\" class=\"data row2 col2\" >Clerk</td>\n",
              "    </tr>\n",
              "  </tbody>\n",
              "</table>\n"
            ]
          },
          "metadata": {},
          "execution_count": 15
        }
      ]
    },
    {
      "cell_type": "code",
      "source": [
        "runSelect(\"select firstname, lastname, jobdesc from empl where jobdesc != 'Clerk'\")"
      ],
      "metadata": {
        "id": "3cl0ISR9yG-I",
        "outputId": "19f4925d-d7e3-494f-9cb3-b989900ce956",
        "colab": {
          "base_uri": "https://localhost:8080/",
          "height": 363
        }
      },
      "execution_count": 16,
      "outputs": [
        {
          "output_type": "execute_result",
          "data": {
            "text/plain": [
              "<pandas.io.formats.style.Styler at 0x7a11948dc250>"
            ],
            "text/html": [
              "<style type=\"text/css\">\n",
              "</style>\n",
              "<table id=\"T_75209\" class=\"dataframe\">\n",
              "  <thead>\n",
              "    <tr>\n",
              "      <th id=\"T_75209_level0_col0\" class=\"col_heading level0 col0\" >firstname</th>\n",
              "      <th id=\"T_75209_level0_col1\" class=\"col_heading level0 col1\" >lastname</th>\n",
              "      <th id=\"T_75209_level0_col2\" class=\"col_heading level0 col2\" >jobdesc</th>\n",
              "    </tr>\n",
              "  </thead>\n",
              "  <tbody>\n",
              "    <tr>\n",
              "      <td id=\"T_75209_row0_col0\" class=\"data row0 col0\" >Amitabh</td>\n",
              "      <td id=\"T_75209_row0_col1\" class=\"data row0 col1\" >Bacchan</td>\n",
              "      <td id=\"T_75209_row0_col2\" class=\"data row0 col2\" >Executive</td>\n",
              "    </tr>\n",
              "    <tr>\n",
              "      <td id=\"T_75209_row1_col0\" class=\"data row1 col0\" >Rani</td>\n",
              "      <td id=\"T_75209_row1_col1\" class=\"data row1 col1\" >Mukherjee</td>\n",
              "      <td id=\"T_75209_row1_col2\" class=\"data row1 col2\" >Manager</td>\n",
              "    </tr>\n",
              "    <tr>\n",
              "      <td id=\"T_75209_row2_col0\" class=\"data row2 col0\" >Shahrukh</td>\n",
              "      <td id=\"T_75209_row2_col1\" class=\"data row2 col1\" >Khan</td>\n",
              "      <td id=\"T_75209_row2_col2\" class=\"data row2 col2\" >Manager</td>\n",
              "    </tr>\n",
              "    <tr>\n",
              "      <td id=\"T_75209_row3_col0\" class=\"data row3 col0\" >Virender</td>\n",
              "      <td id=\"T_75209_row3_col1\" class=\"data row3 col1\" >Sehwag</td>\n",
              "      <td id=\"T_75209_row3_col2\" class=\"data row3 col2\" >Cus_Rep</td>\n",
              "    </tr>\n",
              "    <tr>\n",
              "      <td id=\"T_75209_row4_col0\" class=\"data row4 col0\" >Rahul</td>\n",
              "      <td id=\"T_75209_row4_col1\" class=\"data row4 col1\" >Dravid</td>\n",
              "      <td id=\"T_75209_row4_col2\" class=\"data row4 col2\" >Sr Manager</td>\n",
              "    </tr>\n",
              "    <tr>\n",
              "      <td id=\"T_75209_row5_col0\" class=\"data row5 col0\" >Sourav</td>\n",
              "      <td id=\"T_75209_row5_col1\" class=\"data row5 col1\" >Ganguly</td>\n",
              "      <td id=\"T_75209_row5_col2\" class=\"data row5 col2\" >Cus_Rep</td>\n",
              "    </tr>\n",
              "    <tr>\n",
              "      <td id=\"T_75209_row6_col0\" class=\"data row6 col0\" >Rekha</td>\n",
              "      <td id=\"T_75209_row6_col1\" class=\"data row6 col1\" >Ganesan</td>\n",
              "      <td id=\"T_75209_row6_col2\" class=\"data row6 col2\" >Director</td>\n",
              "    </tr>\n",
              "    <tr>\n",
              "      <td id=\"T_75209_row7_col0\" class=\"data row7 col0\" >Narayan</td>\n",
              "      <td id=\"T_75209_row7_col1\" class=\"data row7 col1\" >Karthikeyan</td>\n",
              "      <td id=\"T_75209_row7_col2\" class=\"data row7 col2\" >Secretary</td>\n",
              "    </tr>\n",
              "    <tr>\n",
              "      <td id=\"T_75209_row8_col0\" class=\"data row8 col0\" >Chettri</td>\n",
              "      <td id=\"T_75209_row8_col1\" class=\"data row8 col1\" >Sunil</td>\n",
              "      <td id=\"T_75209_row8_col2\" class=\"data row8 col2\" >Dy Manager</td>\n",
              "    </tr>\n",
              "    <tr>\n",
              "      <td id=\"T_75209_row9_col0\" class=\"data row9 col0\" >Sania</td>\n",
              "      <td id=\"T_75209_row9_col1\" class=\"data row9 col1\" >Mirza</td>\n",
              "      <td id=\"T_75209_row9_col2\" class=\"data row9 col2\" >Cus_Rep</td>\n",
              "    </tr>\n",
              "  </tbody>\n",
              "</table>\n"
            ]
          },
          "metadata": {},
          "execution_count": 16
        }
      ]
    },
    {
      "cell_type": "code",
      "source": [
        "runSelect(\"select firstname, lastname, salary from empl where salary > 35000\")"
      ],
      "metadata": {
        "id": "obIPpNbDyT4S",
        "outputId": "4f350892-2298-424c-d1d1-5bd4628fe146",
        "colab": {
          "base_uri": "https://localhost:8080/",
          "height": 206
        }
      },
      "execution_count": 17,
      "outputs": [
        {
          "output_type": "execute_result",
          "data": {
            "text/plain": [
              "<pandas.io.formats.style.Styler at 0x7a11948dd790>"
            ],
            "text/html": [
              "<style type=\"text/css\">\n",
              "</style>\n",
              "<table id=\"T_b3bd3\" class=\"dataframe\">\n",
              "  <thead>\n",
              "    <tr>\n",
              "      <th id=\"T_b3bd3_level0_col0\" class=\"col_heading level0 col0\" >firstname</th>\n",
              "      <th id=\"T_b3bd3_level0_col1\" class=\"col_heading level0 col1\" >lastname</th>\n",
              "      <th id=\"T_b3bd3_level0_col2\" class=\"col_heading level0 col2\" >salary</th>\n",
              "    </tr>\n",
              "  </thead>\n",
              "  <tbody>\n",
              "    <tr>\n",
              "      <td id=\"T_b3bd3_row0_col0\" class=\"data row0 col0\" >Amitabh</td>\n",
              "      <td id=\"T_b3bd3_row0_col1\" class=\"data row0 col1\" >Bacchan</td>\n",
              "      <td id=\"T_b3bd3_row0_col2\" class=\"data row0 col2\" >50000</td>\n",
              "    </tr>\n",
              "    <tr>\n",
              "      <td id=\"T_b3bd3_row1_col0\" class=\"data row1 col0\" >Rahul</td>\n",
              "      <td id=\"T_b3bd3_row1_col1\" class=\"data row1 col1\" >Dravid</td>\n",
              "      <td id=\"T_b3bd3_row1_col2\" class=\"data row1 col2\" >40000</td>\n",
              "    </tr>\n",
              "    <tr>\n",
              "      <td id=\"T_b3bd3_row2_col0\" class=\"data row2 col0\" >Rekha</td>\n",
              "      <td id=\"T_b3bd3_row2_col1\" class=\"data row2 col1\" >Ganesan</td>\n",
              "      <td id=\"T_b3bd3_row2_col2\" class=\"data row2 col2\" >60000</td>\n",
              "    </tr>\n",
              "    <tr>\n",
              "      <td id=\"T_b3bd3_row3_col0\" class=\"data row3 col0\" >Narayan</td>\n",
              "      <td id=\"T_b3bd3_row3_col1\" class=\"data row3 col1\" >Karthikeyan</td>\n",
              "      <td id=\"T_b3bd3_row3_col2\" class=\"data row3 col2\" >40000</td>\n",
              "    </tr>\n",
              "    <tr>\n",
              "      <td id=\"T_b3bd3_row4_col0\" class=\"data row4 col0\" >Chettri</td>\n",
              "      <td id=\"T_b3bd3_row4_col1\" class=\"data row4 col1\" >Sunil</td>\n",
              "      <td id=\"T_b3bd3_row4_col2\" class=\"data row4 col2\" >40000</td>\n",
              "    </tr>\n",
              "  </tbody>\n",
              "</table>\n"
            ]
          },
          "metadata": {},
          "execution_count": 17
        }
      ]
    },
    {
      "cell_type": "code",
      "source": [
        "runSelect(\"select firstname, lastname, salary, joindate from empl where joindate < '2002-01-01'\")"
      ],
      "metadata": {
        "colab": {
          "base_uri": "https://localhost:8080/",
          "height": 143
        },
        "id": "hnIvgy_dMvQl",
        "outputId": "b0b5aca6-f3e3-4cc4-ed2d-dbb2ac272dc3"
      },
      "execution_count": 18,
      "outputs": [
        {
          "output_type": "execute_result",
          "data": {
            "text/plain": [
              "<pandas.io.formats.style.Styler at 0x7a11948dd590>"
            ],
            "text/html": [
              "<style type=\"text/css\">\n",
              "</style>\n",
              "<table id=\"T_abff3\" class=\"dataframe\">\n",
              "  <thead>\n",
              "    <tr>\n",
              "      <th id=\"T_abff3_level0_col0\" class=\"col_heading level0 col0\" >firstname</th>\n",
              "      <th id=\"T_abff3_level0_col1\" class=\"col_heading level0 col1\" >lastname</th>\n",
              "      <th id=\"T_abff3_level0_col2\" class=\"col_heading level0 col2\" >salary</th>\n",
              "      <th id=\"T_abff3_level0_col3\" class=\"col_heading level0 col3\" >joindate</th>\n",
              "    </tr>\n",
              "  </thead>\n",
              "  <tbody>\n",
              "    <tr>\n",
              "      <td id=\"T_abff3_row0_col0\" class=\"data row0 col0\" >Rahul</td>\n",
              "      <td id=\"T_abff3_row0_col1\" class=\"data row0 col1\" >Dravid</td>\n",
              "      <td id=\"T_abff3_row0_col2\" class=\"data row0 col2\" >40000</td>\n",
              "      <td id=\"T_abff3_row0_col3\" class=\"data row0 col3\" >2000-06-04</td>\n",
              "    </tr>\n",
              "    <tr>\n",
              "      <td id=\"T_abff3_row1_col0\" class=\"data row1 col0\" >Jagmohan</td>\n",
              "      <td id=\"T_abff3_row1_col1\" class=\"data row1 col1\" >Dalmia</td>\n",
              "      <td id=\"T_abff3_row1_col2\" class=\"data row1 col2\" >12000</td>\n",
              "      <td id=\"T_abff3_row1_col3\" class=\"data row1 col3\" >2001-07-01</td>\n",
              "    </tr>\n",
              "    <tr>\n",
              "      <td id=\"T_abff3_row2_col0\" class=\"data row2 col0\" >Sania</td>\n",
              "      <td id=\"T_abff3_row2_col1\" class=\"data row2 col1\" >Mirza</td>\n",
              "      <td id=\"T_abff3_row2_col2\" class=\"data row2 col2\" >25000</td>\n",
              "      <td id=\"T_abff3_row2_col3\" class=\"data row2 col3\" >2001-11-19</td>\n",
              "    </tr>\n",
              "  </tbody>\n",
              "</table>\n"
            ]
          },
          "metadata": {},
          "execution_count": 18
        }
      ]
    },
    {
      "cell_type": "markdown",
      "source": [
        "## Like"
      ],
      "metadata": {
        "id": "77DkYhfhU1lJ"
      }
    },
    {
      "cell_type": "code",
      "source": [
        "runSelect(\"select firstname, lastname, salary from empl where lastname like 'D%'\")"
      ],
      "metadata": {
        "colab": {
          "base_uri": "https://localhost:8080/",
          "height": 175
        },
        "id": "PBsdla2eVv1K",
        "outputId": "a813209e-13a7-47de-a2aa-235ee98574d4"
      },
      "execution_count": 19,
      "outputs": [
        {
          "output_type": "execute_result",
          "data": {
            "text/plain": [
              "<pandas.io.formats.style.Styler at 0x7a1194971b90>"
            ],
            "text/html": [
              "<style type=\"text/css\">\n",
              "</style>\n",
              "<table id=\"T_f55d2\" class=\"dataframe\">\n",
              "  <thead>\n",
              "    <tr>\n",
              "      <th id=\"T_f55d2_level0_col0\" class=\"col_heading level0 col0\" >firstname</th>\n",
              "      <th id=\"T_f55d2_level0_col1\" class=\"col_heading level0 col1\" >lastname</th>\n",
              "      <th id=\"T_f55d2_level0_col2\" class=\"col_heading level0 col2\" >salary</th>\n",
              "    </tr>\n",
              "  </thead>\n",
              "  <tbody>\n",
              "    <tr>\n",
              "      <td id=\"T_f55d2_row0_col0\" class=\"data row0 col0\" >Madhuri</td>\n",
              "      <td id=\"T_f55d2_row0_col1\" class=\"data row0 col1\" >Dikshit</td>\n",
              "      <td id=\"T_f55d2_row0_col2\" class=\"data row0 col2\" >10000</td>\n",
              "    </tr>\n",
              "    <tr>\n",
              "      <td id=\"T_f55d2_row1_col0\" class=\"data row1 col0\" >Mahender</td>\n",
              "      <td id=\"T_f55d2_row1_col1\" class=\"data row1 col1\" >Dhoni</td>\n",
              "      <td id=\"T_f55d2_row1_col2\" class=\"data row1 col2\" >9000</td>\n",
              "    </tr>\n",
              "    <tr>\n",
              "      <td id=\"T_f55d2_row2_col0\" class=\"data row2 col0\" >Rahul</td>\n",
              "      <td id=\"T_f55d2_row2_col1\" class=\"data row2 col1\" >Dravid</td>\n",
              "      <td id=\"T_f55d2_row2_col2\" class=\"data row2 col2\" >40000</td>\n",
              "    </tr>\n",
              "    <tr>\n",
              "      <td id=\"T_f55d2_row3_col0\" class=\"data row3 col0\" >Jagmohan</td>\n",
              "      <td id=\"T_f55d2_row3_col1\" class=\"data row3 col1\" >Dalmia</td>\n",
              "      <td id=\"T_f55d2_row3_col2\" class=\"data row3 col2\" >12000</td>\n",
              "    </tr>\n",
              "  </tbody>\n",
              "</table>\n"
            ]
          },
          "metadata": {},
          "execution_count": 19
        }
      ]
    },
    {
      "cell_type": "code",
      "source": [
        "runSelect(\"select firstname, lastname, joindate from empl where lastname like '____i_'\")"
      ],
      "metadata": {
        "colab": {
          "base_uri": "https://localhost:8080/",
          "height": 112
        },
        "id": "xxImEDlKbm4U",
        "outputId": "c74bb405-8ff9-428d-cfa8-175e277ffab1"
      },
      "execution_count": 20,
      "outputs": [
        {
          "output_type": "execute_result",
          "data": {
            "text/plain": [
              "<pandas.io.formats.style.Styler at 0x7a1194970990>"
            ],
            "text/html": [
              "<style type=\"text/css\">\n",
              "</style>\n",
              "<table id=\"T_4d17c\" class=\"dataframe\">\n",
              "  <thead>\n",
              "    <tr>\n",
              "      <th id=\"T_4d17c_level0_col0\" class=\"col_heading level0 col0\" >firstname</th>\n",
              "      <th id=\"T_4d17c_level0_col1\" class=\"col_heading level0 col1\" >lastname</th>\n",
              "      <th id=\"T_4d17c_level0_col2\" class=\"col_heading level0 col2\" >joindate</th>\n",
              "    </tr>\n",
              "  </thead>\n",
              "  <tbody>\n",
              "    <tr>\n",
              "      <td id=\"T_4d17c_row0_col0\" class=\"data row0 col0\" >Rahul</td>\n",
              "      <td id=\"T_4d17c_row0_col1\" class=\"data row0 col1\" >Dravid</td>\n",
              "      <td id=\"T_4d17c_row0_col2\" class=\"data row0 col2\" >2000-06-04</td>\n",
              "    </tr>\n",
              "    <tr>\n",
              "      <td id=\"T_4d17c_row1_col0\" class=\"data row1 col0\" >Jagmohan</td>\n",
              "      <td id=\"T_4d17c_row1_col1\" class=\"data row1 col1\" >Dalmia</td>\n",
              "      <td id=\"T_4d17c_row1_col2\" class=\"data row1 col2\" >2001-07-01</td>\n",
              "    </tr>\n",
              "  </tbody>\n",
              "</table>\n"
            ]
          },
          "metadata": {},
          "execution_count": 20
        }
      ]
    },
    {
      "cell_type": "code",
      "source": [
        "runSelect(\"select firstname, lastname, jobdesc from empl where lastname like '____i%'\")"
      ],
      "metadata": {
        "colab": {
          "base_uri": "https://localhost:8080/",
          "height": 143
        },
        "id": "pL7VPLo4b2g3",
        "outputId": "ab4fa3d7-3c86-4a26-d497-1742f20b2be0"
      },
      "execution_count": 21,
      "outputs": [
        {
          "output_type": "execute_result",
          "data": {
            "text/plain": [
              "<pandas.io.formats.style.Styler at 0x7a1194973910>"
            ],
            "text/html": [
              "<style type=\"text/css\">\n",
              "</style>\n",
              "<table id=\"T_46922\" class=\"dataframe\">\n",
              "  <thead>\n",
              "    <tr>\n",
              "      <th id=\"T_46922_level0_col0\" class=\"col_heading level0 col0\" >firstname</th>\n",
              "      <th id=\"T_46922_level0_col1\" class=\"col_heading level0 col1\" >lastname</th>\n",
              "      <th id=\"T_46922_level0_col2\" class=\"col_heading level0 col2\" >jobdesc</th>\n",
              "    </tr>\n",
              "  </thead>\n",
              "  <tbody>\n",
              "    <tr>\n",
              "      <td id=\"T_46922_row0_col0\" class=\"data row0 col0\" >Mahender</td>\n",
              "      <td id=\"T_46922_row0_col1\" class=\"data row0 col1\" >Dhoni</td>\n",
              "      <td id=\"T_46922_row0_col2\" class=\"data row0 col2\" >Clerk</td>\n",
              "    </tr>\n",
              "    <tr>\n",
              "      <td id=\"T_46922_row1_col0\" class=\"data row1 col0\" >Rahul</td>\n",
              "      <td id=\"T_46922_row1_col1\" class=\"data row1 col1\" >Dravid</td>\n",
              "      <td id=\"T_46922_row1_col2\" class=\"data row1 col2\" >Sr Manager</td>\n",
              "    </tr>\n",
              "    <tr>\n",
              "      <td id=\"T_46922_row2_col0\" class=\"data row2 col0\" >Jagmohan</td>\n",
              "      <td id=\"T_46922_row2_col1\" class=\"data row2 col1\" >Dalmia</td>\n",
              "      <td id=\"T_46922_row2_col2\" class=\"data row2 col2\" >Clerk</td>\n",
              "    </tr>\n",
              "  </tbody>\n",
              "</table>\n"
            ]
          },
          "metadata": {},
          "execution_count": 21
        }
      ]
    },
    {
      "cell_type": "markdown",
      "source": [
        "## Between"
      ],
      "metadata": {
        "id": "qw2h8Vtvey2R"
      }
    },
    {
      "cell_type": "code",
      "source": [
        "runSelect(\"select firstname, lastname, salary from empl where salary between 10000 and 20000\")"
      ],
      "metadata": {
        "colab": {
          "base_uri": "https://localhost:8080/",
          "height": 175
        },
        "id": "sI_qlRdXe7S8",
        "outputId": "283d5c87-f053-484a-dcd4-faecd65e3bb8"
      },
      "execution_count": 22,
      "outputs": [
        {
          "output_type": "execute_result",
          "data": {
            "text/plain": [
              "<pandas.io.formats.style.Styler at 0x7a11949452d0>"
            ],
            "text/html": [
              "<style type=\"text/css\">\n",
              "</style>\n",
              "<table id=\"T_88b58\" class=\"dataframe\">\n",
              "  <thead>\n",
              "    <tr>\n",
              "      <th id=\"T_88b58_level0_col0\" class=\"col_heading level0 col0\" >firstname</th>\n",
              "      <th id=\"T_88b58_level0_col1\" class=\"col_heading level0 col1\" >lastname</th>\n",
              "      <th id=\"T_88b58_level0_col2\" class=\"col_heading level0 col2\" >salary</th>\n",
              "    </tr>\n",
              "  </thead>\n",
              "  <tbody>\n",
              "    <tr>\n",
              "      <td id=\"T_88b58_row0_col0\" class=\"data row0 col0\" >Madhuri</td>\n",
              "      <td id=\"T_88b58_row0_col1\" class=\"data row0 col1\" >Dikshit</td>\n",
              "      <td id=\"T_88b58_row0_col2\" class=\"data row0 col2\" >10000</td>\n",
              "    </tr>\n",
              "    <tr>\n",
              "      <td id=\"T_88b58_row1_col0\" class=\"data row1 col0\" >Virender</td>\n",
              "      <td id=\"T_88b58_row1_col1\" class=\"data row1 col1\" >Sehwag</td>\n",
              "      <td id=\"T_88b58_row1_col2\" class=\"data row1 col2\" >15000</td>\n",
              "    </tr>\n",
              "    <tr>\n",
              "      <td id=\"T_88b58_row2_col0\" class=\"data row2 col0\" >Jagmohan</td>\n",
              "      <td id=\"T_88b58_row2_col1\" class=\"data row2 col1\" >Dalmia</td>\n",
              "      <td id=\"T_88b58_row2_col2\" class=\"data row2 col2\" >12000</td>\n",
              "    </tr>\n",
              "    <tr>\n",
              "      <td id=\"T_88b58_row3_col0\" class=\"data row3 col0\" >Sourav</td>\n",
              "      <td id=\"T_88b58_row3_col1\" class=\"data row3 col1\" >Ganguly</td>\n",
              "      <td id=\"T_88b58_row3_col2\" class=\"data row3 col2\" >20000</td>\n",
              "    </tr>\n",
              "  </tbody>\n",
              "</table>\n"
            ]
          },
          "metadata": {},
          "execution_count": 22
        }
      ]
    },
    {
      "cell_type": "code",
      "source": [
        "runSelect(\"select firstname, lastname, joindate from empl where joindate between '2004-01-01' and '2005-01-01'\")"
      ],
      "metadata": {
        "colab": {
          "base_uri": "https://localhost:8080/",
          "height": 112
        },
        "id": "b_mWyFTnfIEy",
        "outputId": "bea264eb-31c4-460a-e5e1-3477e1d94dd0"
      },
      "execution_count": 23,
      "outputs": [
        {
          "output_type": "execute_result",
          "data": {
            "text/plain": [
              "<pandas.io.formats.style.Styler at 0x7a1194944410>"
            ],
            "text/html": [
              "<style type=\"text/css\">\n",
              "</style>\n",
              "<table id=\"T_f2fac\" class=\"dataframe\">\n",
              "  <thead>\n",
              "    <tr>\n",
              "      <th id=\"T_f2fac_level0_col0\" class=\"col_heading level0 col0\" >firstname</th>\n",
              "      <th id=\"T_f2fac_level0_col1\" class=\"col_heading level0 col1\" >lastname</th>\n",
              "      <th id=\"T_f2fac_level0_col2\" class=\"col_heading level0 col2\" >joindate</th>\n",
              "    </tr>\n",
              "  </thead>\n",
              "  <tbody>\n",
              "    <tr>\n",
              "      <td id=\"T_f2fac_row0_col0\" class=\"data row0 col0\" >Shahrukh</td>\n",
              "      <td id=\"T_f2fac_row0_col1\" class=\"data row0 col1\" >Khan</td>\n",
              "      <td id=\"T_f2fac_row0_col2\" class=\"data row0 col2\" >2004-01-03</td>\n",
              "    </tr>\n",
              "    <tr>\n",
              "      <td id=\"T_f2fac_row1_col0\" class=\"data row1 col0\" >Mahender</td>\n",
              "      <td id=\"T_f2fac_row1_col1\" class=\"data row1 col1\" >Dhoni</td>\n",
              "      <td id=\"T_f2fac_row1_col2\" class=\"data row1 col2\" >2004-10-09</td>\n",
              "    </tr>\n",
              "  </tbody>\n",
              "</table>\n"
            ]
          },
          "metadata": {},
          "execution_count": 23
        }
      ]
    },
    {
      "cell_type": "code",
      "source": [
        "runSelect(\"select firstname, lastname, joindate from empl where lastname between 'Dho' and 'Kha'\")"
      ],
      "metadata": {
        "colab": {
          "base_uri": "https://localhost:8080/",
          "height": 238
        },
        "id": "qXs9AeS2fwCS",
        "outputId": "9831e1cd-2035-46fc-d8f6-9095e1067b26"
      },
      "execution_count": 24,
      "outputs": [
        {
          "output_type": "execute_result",
          "data": {
            "text/plain": [
              "<pandas.io.formats.style.Styler at 0x7a1194947850>"
            ],
            "text/html": [
              "<style type=\"text/css\">\n",
              "</style>\n",
              "<table id=\"T_1b99c\" class=\"dataframe\">\n",
              "  <thead>\n",
              "    <tr>\n",
              "      <th id=\"T_1b99c_level0_col0\" class=\"col_heading level0 col0\" >firstname</th>\n",
              "      <th id=\"T_1b99c_level0_col1\" class=\"col_heading level0 col1\" >lastname</th>\n",
              "      <th id=\"T_1b99c_level0_col2\" class=\"col_heading level0 col2\" >joindate</th>\n",
              "    </tr>\n",
              "  </thead>\n",
              "  <tbody>\n",
              "    <tr>\n",
              "      <td id=\"T_1b99c_row0_col0\" class=\"data row0 col0\" >Madhuri</td>\n",
              "      <td id=\"T_1b99c_row0_col1\" class=\"data row0 col1\" >Dikshit</td>\n",
              "      <td id=\"T_1b99c_row0_col2\" class=\"data row0 col2\" >2002-04-04</td>\n",
              "    </tr>\n",
              "    <tr>\n",
              "      <td id=\"T_1b99c_row1_col0\" class=\"data row1 col0\" >Mahender</td>\n",
              "      <td id=\"T_1b99c_row1_col1\" class=\"data row1 col1\" >Dhoni</td>\n",
              "      <td id=\"T_1b99c_row1_col2\" class=\"data row1 col2\" >2004-10-09</td>\n",
              "    </tr>\n",
              "    <tr>\n",
              "      <td id=\"T_1b99c_row2_col0\" class=\"data row2 col0\" >Rahul</td>\n",
              "      <td id=\"T_1b99c_row2_col1\" class=\"data row2 col1\" >Dravid</td>\n",
              "      <td id=\"T_1b99c_row2_col2\" class=\"data row2 col2\" >2000-06-04</td>\n",
              "    </tr>\n",
              "    <tr>\n",
              "      <td id=\"T_1b99c_row3_col0\" class=\"data row3 col0\" >Sourav</td>\n",
              "      <td id=\"T_1b99c_row3_col1\" class=\"data row3 col1\" >Ganguly</td>\n",
              "      <td id=\"T_1b99c_row3_col2\" class=\"data row3 col2\" >2002-01-01</td>\n",
              "    </tr>\n",
              "    <tr>\n",
              "      <td id=\"T_1b99c_row4_col0\" class=\"data row4 col0\" >Rekha</td>\n",
              "      <td id=\"T_1b99c_row4_col1\" class=\"data row4 col1\" >Ganesan</td>\n",
              "      <td id=\"T_1b99c_row4_col2\" class=\"data row4 col2\" >2002-10-10</td>\n",
              "    </tr>\n",
              "    <tr>\n",
              "      <td id=\"T_1b99c_row5_col0\" class=\"data row5 col0\" >Narayan</td>\n",
              "      <td id=\"T_1b99c_row5_col1\" class=\"data row5 col1\" >Karthikeyan</td>\n",
              "      <td id=\"T_1b99c_row5_col2\" class=\"data row5 col2\" >2005-12-04</td>\n",
              "    </tr>\n",
              "  </tbody>\n",
              "</table>\n"
            ]
          },
          "metadata": {},
          "execution_count": 24
        }
      ]
    },
    {
      "cell_type": "markdown",
      "source": [
        "## IN"
      ],
      "metadata": {
        "id": "azhy0TQLiLy-"
      }
    },
    {
      "cell_type": "code",
      "source": [
        "runSelect(\"select firstname, lastname, deptid from empl where deptid in ('30','20','70')\")"
      ],
      "metadata": {
        "colab": {
          "base_uri": "https://localhost:8080/",
          "height": 269
        },
        "id": "UyBE-FuoibSZ",
        "outputId": "d2ad72ce-abbc-445c-9a7f-1c8b39dae859"
      },
      "execution_count": 25,
      "outputs": [
        {
          "output_type": "execute_result",
          "data": {
            "text/plain": [
              "<pandas.io.formats.style.Styler at 0x7a1194941c10>"
            ],
            "text/html": [
              "<style type=\"text/css\">\n",
              "</style>\n",
              "<table id=\"T_f2332\" class=\"dataframe\">\n",
              "  <thead>\n",
              "    <tr>\n",
              "      <th id=\"T_f2332_level0_col0\" class=\"col_heading level0 col0\" >firstname</th>\n",
              "      <th id=\"T_f2332_level0_col1\" class=\"col_heading level0 col1\" >lastname</th>\n",
              "      <th id=\"T_f2332_level0_col2\" class=\"col_heading level0 col2\" >deptid</th>\n",
              "    </tr>\n",
              "  </thead>\n",
              "  <tbody>\n",
              "    <tr>\n",
              "      <td id=\"T_f2332_row0_col0\" class=\"data row0 col0\" >Madhuri</td>\n",
              "      <td id=\"T_f2332_row0_col1\" class=\"data row0 col1\" >Dikshit</td>\n",
              "      <td id=\"T_f2332_row0_col2\" class=\"data row0 col2\" >20</td>\n",
              "    </tr>\n",
              "    <tr>\n",
              "      <td id=\"T_f2332_row1_col0\" class=\"data row1 col0\" >Shahrukh</td>\n",
              "      <td id=\"T_f2332_row1_col1\" class=\"data row1 col1\" >Khan</td>\n",
              "      <td id=\"T_f2332_row1_col2\" class=\"data row1 col2\" >20</td>\n",
              "    </tr>\n",
              "    <tr>\n",
              "      <td id=\"T_f2332_row2_col0\" class=\"data row2 col0\" >Virender</td>\n",
              "      <td id=\"T_f2332_row2_col1\" class=\"data row2 col1\" >Sehwag</td>\n",
              "      <td id=\"T_f2332_row2_col2\" class=\"data row2 col2\" >20</td>\n",
              "    </tr>\n",
              "    <tr>\n",
              "      <td id=\"T_f2332_row3_col0\" class=\"data row3 col0\" >Rahul</td>\n",
              "      <td id=\"T_f2332_row3_col1\" class=\"data row3 col1\" >Dravid</td>\n",
              "      <td id=\"T_f2332_row3_col2\" class=\"data row3 col2\" >30</td>\n",
              "    </tr>\n",
              "    <tr>\n",
              "      <td id=\"T_f2332_row4_col0\" class=\"data row4 col0\" >Jagmohan</td>\n",
              "      <td id=\"T_f2332_row4_col1\" class=\"data row4 col1\" >Dalmia</td>\n",
              "      <td id=\"T_f2332_row4_col2\" class=\"data row4 col2\" >30</td>\n",
              "    </tr>\n",
              "    <tr>\n",
              "      <td id=\"T_f2332_row5_col0\" class=\"data row5 col0\" >Chettri</td>\n",
              "      <td id=\"T_f2332_row5_col1\" class=\"data row5 col1\" >Sunil</td>\n",
              "      <td id=\"T_f2332_row5_col2\" class=\"data row5 col2\" >70</td>\n",
              "    </tr>\n",
              "    <tr>\n",
              "      <td id=\"T_f2332_row6_col0\" class=\"data row6 col0\" >Sania</td>\n",
              "      <td id=\"T_f2332_row6_col1\" class=\"data row6 col1\" >Mirza</td>\n",
              "      <td id=\"T_f2332_row6_col2\" class=\"data row6 col2\" >30</td>\n",
              "    </tr>\n",
              "  </tbody>\n",
              "</table>\n"
            ]
          },
          "metadata": {},
          "execution_count": 25
        }
      ]
    },
    {
      "cell_type": "code",
      "source": [
        "runSelect(\"select firstname, lastname, salary from empl where firstname in ('Madhuri','Shahrukh','Virender')\")"
      ],
      "metadata": {
        "colab": {
          "base_uri": "https://localhost:8080/",
          "height": 143
        },
        "id": "9qTEO-OuiN3A",
        "outputId": "5b875abe-2289-4b50-ac3a-b545fdc74e64"
      },
      "execution_count": 26,
      "outputs": [
        {
          "output_type": "execute_result",
          "data": {
            "text/plain": [
              "<pandas.io.formats.style.Styler at 0x7a1194943750>"
            ],
            "text/html": [
              "<style type=\"text/css\">\n",
              "</style>\n",
              "<table id=\"T_cbdfb\" class=\"dataframe\">\n",
              "  <thead>\n",
              "    <tr>\n",
              "      <th id=\"T_cbdfb_level0_col0\" class=\"col_heading level0 col0\" >firstname</th>\n",
              "      <th id=\"T_cbdfb_level0_col1\" class=\"col_heading level0 col1\" >lastname</th>\n",
              "      <th id=\"T_cbdfb_level0_col2\" class=\"col_heading level0 col2\" >salary</th>\n",
              "    </tr>\n",
              "  </thead>\n",
              "  <tbody>\n",
              "    <tr>\n",
              "      <td id=\"T_cbdfb_row0_col0\" class=\"data row0 col0\" >Madhuri</td>\n",
              "      <td id=\"T_cbdfb_row0_col1\" class=\"data row0 col1\" >Dikshit</td>\n",
              "      <td id=\"T_cbdfb_row0_col2\" class=\"data row0 col2\" >10000</td>\n",
              "    </tr>\n",
              "    <tr>\n",
              "      <td id=\"T_cbdfb_row1_col0\" class=\"data row1 col0\" >Shahrukh</td>\n",
              "      <td id=\"T_cbdfb_row1_col1\" class=\"data row1 col1\" >Khan</td>\n",
              "      <td id=\"T_cbdfb_row1_col2\" class=\"data row1 col2\" >30000</td>\n",
              "    </tr>\n",
              "    <tr>\n",
              "      <td id=\"T_cbdfb_row2_col0\" class=\"data row2 col0\" >Virender</td>\n",
              "      <td id=\"T_cbdfb_row2_col1\" class=\"data row2 col1\" >Sehwag</td>\n",
              "      <td id=\"T_cbdfb_row2_col2\" class=\"data row2 col2\" >15000</td>\n",
              "    </tr>\n",
              "  </tbody>\n",
              "</table>\n"
            ]
          },
          "metadata": {},
          "execution_count": 26
        }
      ]
    },
    {
      "cell_type": "markdown",
      "source": [
        "## Order by"
      ],
      "metadata": {
        "id": "vlOCT_zAkzMb"
      }
    },
    {
      "cell_type": "code",
      "source": [
        "runSelect(\"select firstname, lastname, joindate from empl where firstname in ('Madhuri','Shahrukh','Virender') order by joindate\")"
      ],
      "metadata": {
        "colab": {
          "base_uri": "https://localhost:8080/",
          "height": 143
        },
        "id": "WidoGzLVk1in",
        "outputId": "47277181-6ec2-4ca4-ab8f-f41ee6213ac7"
      },
      "execution_count": 27,
      "outputs": [
        {
          "output_type": "execute_result",
          "data": {
            "text/plain": [
              "<pandas.io.formats.style.Styler at 0x7a1194942650>"
            ],
            "text/html": [
              "<style type=\"text/css\">\n",
              "</style>\n",
              "<table id=\"T_c6923\" class=\"dataframe\">\n",
              "  <thead>\n",
              "    <tr>\n",
              "      <th id=\"T_c6923_level0_col0\" class=\"col_heading level0 col0\" >firstname</th>\n",
              "      <th id=\"T_c6923_level0_col1\" class=\"col_heading level0 col1\" >lastname</th>\n",
              "      <th id=\"T_c6923_level0_col2\" class=\"col_heading level0 col2\" >joindate</th>\n",
              "    </tr>\n",
              "  </thead>\n",
              "  <tbody>\n",
              "    <tr>\n",
              "      <td id=\"T_c6923_row0_col0\" class=\"data row0 col0\" >Madhuri</td>\n",
              "      <td id=\"T_c6923_row0_col1\" class=\"data row0 col1\" >Dikshit</td>\n",
              "      <td id=\"T_c6923_row0_col2\" class=\"data row0 col2\" >2002-04-04</td>\n",
              "    </tr>\n",
              "    <tr>\n",
              "      <td id=\"T_c6923_row1_col0\" class=\"data row1 col0\" >Shahrukh</td>\n",
              "      <td id=\"T_c6923_row1_col1\" class=\"data row1 col1\" >Khan</td>\n",
              "      <td id=\"T_c6923_row1_col2\" class=\"data row1 col2\" >2004-01-03</td>\n",
              "    </tr>\n",
              "    <tr>\n",
              "      <td id=\"T_c6923_row2_col0\" class=\"data row2 col0\" >Virender</td>\n",
              "      <td id=\"T_c6923_row2_col1\" class=\"data row2 col1\" >Sehwag</td>\n",
              "      <td id=\"T_c6923_row2_col2\" class=\"data row2 col2\" >2005-01-02</td>\n",
              "    </tr>\n",
              "  </tbody>\n",
              "</table>\n"
            ]
          },
          "metadata": {},
          "execution_count": 27
        }
      ]
    },
    {
      "cell_type": "code",
      "source": [
        "runSelect(\"select firstname, lastname, jobdesc, salary, deptid from empl where deptid = '10' order by salary desc\")"
      ],
      "metadata": {
        "colab": {
          "base_uri": "https://localhost:8080/",
          "height": 143
        },
        "id": "Iq_7jWr-lRlO",
        "outputId": "e0de5f6f-f3e6-429b-cd48-7be96b9da105"
      },
      "execution_count": 28,
      "outputs": [
        {
          "output_type": "execute_result",
          "data": {
            "text/plain": [
              "<pandas.io.formats.style.Styler at 0x7a1194934410>"
            ],
            "text/html": [
              "<style type=\"text/css\">\n",
              "</style>\n",
              "<table id=\"T_1b9a6\" class=\"dataframe\">\n",
              "  <thead>\n",
              "    <tr>\n",
              "      <th id=\"T_1b9a6_level0_col0\" class=\"col_heading level0 col0\" >firstname</th>\n",
              "      <th id=\"T_1b9a6_level0_col1\" class=\"col_heading level0 col1\" >lastname</th>\n",
              "      <th id=\"T_1b9a6_level0_col2\" class=\"col_heading level0 col2\" >jobdesc</th>\n",
              "      <th id=\"T_1b9a6_level0_col3\" class=\"col_heading level0 col3\" >salary</th>\n",
              "      <th id=\"T_1b9a6_level0_col4\" class=\"col_heading level0 col4\" >deptid</th>\n",
              "    </tr>\n",
              "  </thead>\n",
              "  <tbody>\n",
              "    <tr>\n",
              "      <td id=\"T_1b9a6_row0_col0\" class=\"data row0 col0\" >Rekha</td>\n",
              "      <td id=\"T_1b9a6_row0_col1\" class=\"data row0 col1\" >Ganesan</td>\n",
              "      <td id=\"T_1b9a6_row0_col2\" class=\"data row0 col2\" >Director</td>\n",
              "      <td id=\"T_1b9a6_row0_col3\" class=\"data row0 col3\" >60000</td>\n",
              "      <td id=\"T_1b9a6_row0_col4\" class=\"data row0 col4\" >10</td>\n",
              "    </tr>\n",
              "    <tr>\n",
              "      <td id=\"T_1b9a6_row1_col0\" class=\"data row1 col0\" >Amitabh</td>\n",
              "      <td id=\"T_1b9a6_row1_col1\" class=\"data row1 col1\" >Bacchan</td>\n",
              "      <td id=\"T_1b9a6_row1_col2\" class=\"data row1 col2\" >Executive</td>\n",
              "      <td id=\"T_1b9a6_row1_col3\" class=\"data row1 col3\" >50000</td>\n",
              "      <td id=\"T_1b9a6_row1_col4\" class=\"data row1 col4\" >10</td>\n",
              "    </tr>\n",
              "    <tr>\n",
              "      <td id=\"T_1b9a6_row2_col0\" class=\"data row2 col0\" >Narayan</td>\n",
              "      <td id=\"T_1b9a6_row2_col1\" class=\"data row2 col1\" >Karthikeyan</td>\n",
              "      <td id=\"T_1b9a6_row2_col2\" class=\"data row2 col2\" >Secretary</td>\n",
              "      <td id=\"T_1b9a6_row2_col3\" class=\"data row2 col3\" >40000</td>\n",
              "      <td id=\"T_1b9a6_row2_col4\" class=\"data row2 col4\" >10</td>\n",
              "    </tr>\n",
              "  </tbody>\n",
              "</table>\n"
            ]
          },
          "metadata": {},
          "execution_count": 28
        }
      ]
    },
    {
      "cell_type": "markdown",
      "source": [
        "## Logical AND | OR"
      ],
      "metadata": {
        "id": "-JDEmZtsm0o1"
      }
    },
    {
      "cell_type": "code",
      "source": [
        "runSelect(\"select lastname, jobdesc, salary, deptid from empl where deptid = '20'\")"
      ],
      "metadata": {
        "colab": {
          "base_uri": "https://localhost:8080/",
          "height": 143
        },
        "id": "rli0DBhIm54M",
        "outputId": "3ad06706-2e31-41c8-d80f-45e4e633251d"
      },
      "execution_count": 29,
      "outputs": [
        {
          "output_type": "execute_result",
          "data": {
            "text/plain": [
              "<pandas.io.formats.style.Styler at 0x7a1194935c50>"
            ],
            "text/html": [
              "<style type=\"text/css\">\n",
              "</style>\n",
              "<table id=\"T_bd2d0\" class=\"dataframe\">\n",
              "  <thead>\n",
              "    <tr>\n",
              "      <th id=\"T_bd2d0_level0_col0\" class=\"col_heading level0 col0\" >lastname</th>\n",
              "      <th id=\"T_bd2d0_level0_col1\" class=\"col_heading level0 col1\" >jobdesc</th>\n",
              "      <th id=\"T_bd2d0_level0_col2\" class=\"col_heading level0 col2\" >salary</th>\n",
              "      <th id=\"T_bd2d0_level0_col3\" class=\"col_heading level0 col3\" >deptid</th>\n",
              "    </tr>\n",
              "  </thead>\n",
              "  <tbody>\n",
              "    <tr>\n",
              "      <td id=\"T_bd2d0_row0_col0\" class=\"data row0 col0\" >Dikshit</td>\n",
              "      <td id=\"T_bd2d0_row0_col1\" class=\"data row0 col1\" >Clerk</td>\n",
              "      <td id=\"T_bd2d0_row0_col2\" class=\"data row0 col2\" >10000</td>\n",
              "      <td id=\"T_bd2d0_row0_col3\" class=\"data row0 col3\" >20</td>\n",
              "    </tr>\n",
              "    <tr>\n",
              "      <td id=\"T_bd2d0_row1_col0\" class=\"data row1 col0\" >Khan</td>\n",
              "      <td id=\"T_bd2d0_row1_col1\" class=\"data row1 col1\" >Manager</td>\n",
              "      <td id=\"T_bd2d0_row1_col2\" class=\"data row1 col2\" >30000</td>\n",
              "      <td id=\"T_bd2d0_row1_col3\" class=\"data row1 col3\" >20</td>\n",
              "    </tr>\n",
              "    <tr>\n",
              "      <td id=\"T_bd2d0_row2_col0\" class=\"data row2 col0\" >Sehwag</td>\n",
              "      <td id=\"T_bd2d0_row2_col1\" class=\"data row2 col1\" >Cus_Rep</td>\n",
              "      <td id=\"T_bd2d0_row2_col2\" class=\"data row2 col2\" >15000</td>\n",
              "      <td id=\"T_bd2d0_row2_col3\" class=\"data row2 col3\" >20</td>\n",
              "    </tr>\n",
              "  </tbody>\n",
              "</table>\n"
            ]
          },
          "metadata": {},
          "execution_count": 29
        }
      ]
    },
    {
      "cell_type": "code",
      "source": [
        "runSelect(\"select lastname, jobdesc, salary, deptid from empl where deptid = '20' and salary > 10000\")"
      ],
      "metadata": {
        "colab": {
          "base_uri": "https://localhost:8080/",
          "height": 112
        },
        "id": "wHIJoUGqnuwa",
        "outputId": "84dc8ffe-886f-4365-99c7-3f96f62a48a1"
      },
      "execution_count": 30,
      "outputs": [
        {
          "output_type": "execute_result",
          "data": {
            "text/plain": [
              "<pandas.io.formats.style.Styler at 0x7a1194934f90>"
            ],
            "text/html": [
              "<style type=\"text/css\">\n",
              "</style>\n",
              "<table id=\"T_90815\" class=\"dataframe\">\n",
              "  <thead>\n",
              "    <tr>\n",
              "      <th id=\"T_90815_level0_col0\" class=\"col_heading level0 col0\" >lastname</th>\n",
              "      <th id=\"T_90815_level0_col1\" class=\"col_heading level0 col1\" >jobdesc</th>\n",
              "      <th id=\"T_90815_level0_col2\" class=\"col_heading level0 col2\" >salary</th>\n",
              "      <th id=\"T_90815_level0_col3\" class=\"col_heading level0 col3\" >deptid</th>\n",
              "    </tr>\n",
              "  </thead>\n",
              "  <tbody>\n",
              "    <tr>\n",
              "      <td id=\"T_90815_row0_col0\" class=\"data row0 col0\" >Khan</td>\n",
              "      <td id=\"T_90815_row0_col1\" class=\"data row0 col1\" >Manager</td>\n",
              "      <td id=\"T_90815_row0_col2\" class=\"data row0 col2\" >30000</td>\n",
              "      <td id=\"T_90815_row0_col3\" class=\"data row0 col3\" >20</td>\n",
              "    </tr>\n",
              "    <tr>\n",
              "      <td id=\"T_90815_row1_col0\" class=\"data row1 col0\" >Sehwag</td>\n",
              "      <td id=\"T_90815_row1_col1\" class=\"data row1 col1\" >Cus_Rep</td>\n",
              "      <td id=\"T_90815_row1_col2\" class=\"data row1 col2\" >15000</td>\n",
              "      <td id=\"T_90815_row1_col3\" class=\"data row1 col3\" >20</td>\n",
              "    </tr>\n",
              "  </tbody>\n",
              "</table>\n"
            ]
          },
          "metadata": {},
          "execution_count": 30
        }
      ]
    },
    {
      "cell_type": "code",
      "source": [
        "runSelect(\"select lastname, jobdesc, salary, deptid from empl where deptid = '20' and salary > 10000 and jobdesc = 'Clerk'\")"
      ],
      "metadata": {
        "colab": {
          "base_uri": "https://localhost:8080/"
        },
        "id": "fnB8p8-EnzH2",
        "outputId": "04b1e61f-5a38-406a-cf72-84f5ab40bac7"
      },
      "execution_count": 31,
      "outputs": [
        {
          "output_type": "stream",
          "name": "stdout",
          "text": [
            "no records found\n"
          ]
        }
      ]
    },
    {
      "cell_type": "code",
      "source": [
        "runSelect(\"select lastname, jobdesc, deptid from empl where deptid = '70'\")"
      ],
      "metadata": {
        "colab": {
          "base_uri": "https://localhost:8080/",
          "height": 81
        },
        "id": "uEKUIgOMqtLw",
        "outputId": "21ca288d-e56e-4b2d-c5b6-b873d2c69670"
      },
      "execution_count": 32,
      "outputs": [
        {
          "output_type": "execute_result",
          "data": {
            "text/plain": [
              "<pandas.io.formats.style.Styler at 0x7a1194934cd0>"
            ],
            "text/html": [
              "<style type=\"text/css\">\n",
              "</style>\n",
              "<table id=\"T_179f6\" class=\"dataframe\">\n",
              "  <thead>\n",
              "    <tr>\n",
              "      <th id=\"T_179f6_level0_col0\" class=\"col_heading level0 col0\" >lastname</th>\n",
              "      <th id=\"T_179f6_level0_col1\" class=\"col_heading level0 col1\" >jobdesc</th>\n",
              "      <th id=\"T_179f6_level0_col2\" class=\"col_heading level0 col2\" >deptid</th>\n",
              "    </tr>\n",
              "  </thead>\n",
              "  <tbody>\n",
              "    <tr>\n",
              "      <td id=\"T_179f6_row0_col0\" class=\"data row0 col0\" >Sunil</td>\n",
              "      <td id=\"T_179f6_row0_col1\" class=\"data row0 col1\" >Dy Manager</td>\n",
              "      <td id=\"T_179f6_row0_col2\" class=\"data row0 col2\" >70</td>\n",
              "    </tr>\n",
              "  </tbody>\n",
              "</table>\n"
            ]
          },
          "metadata": {},
          "execution_count": 32
        }
      ]
    },
    {
      "cell_type": "code",
      "source": [
        "runSelect(\"select lastname, jobdesc, deptid from empl where deptid = '70' or jobdesc like '%Manager'\")"
      ],
      "metadata": {
        "colab": {
          "base_uri": "https://localhost:8080/",
          "height": 175
        },
        "id": "Ne0eLRV3qyTn",
        "outputId": "78ca7521-2aa2-4323-cf61-a12ce0c79afa"
      },
      "execution_count": 33,
      "outputs": [
        {
          "output_type": "execute_result",
          "data": {
            "text/plain": [
              "<pandas.io.formats.style.Styler at 0x7a1194929c90>"
            ],
            "text/html": [
              "<style type=\"text/css\">\n",
              "</style>\n",
              "<table id=\"T_2e7ea\" class=\"dataframe\">\n",
              "  <thead>\n",
              "    <tr>\n",
              "      <th id=\"T_2e7ea_level0_col0\" class=\"col_heading level0 col0\" >lastname</th>\n",
              "      <th id=\"T_2e7ea_level0_col1\" class=\"col_heading level0 col1\" >jobdesc</th>\n",
              "      <th id=\"T_2e7ea_level0_col2\" class=\"col_heading level0 col2\" >deptid</th>\n",
              "    </tr>\n",
              "  </thead>\n",
              "  <tbody>\n",
              "    <tr>\n",
              "      <td id=\"T_2e7ea_row0_col0\" class=\"data row0 col0\" >Mukherjee</td>\n",
              "      <td id=\"T_2e7ea_row0_col1\" class=\"data row0 col1\" >Manager</td>\n",
              "      <td id=\"T_2e7ea_row0_col2\" class=\"data row0 col2\" >40</td>\n",
              "    </tr>\n",
              "    <tr>\n",
              "      <td id=\"T_2e7ea_row1_col0\" class=\"data row1 col0\" >Khan</td>\n",
              "      <td id=\"T_2e7ea_row1_col1\" class=\"data row1 col1\" >Manager</td>\n",
              "      <td id=\"T_2e7ea_row1_col2\" class=\"data row1 col2\" >20</td>\n",
              "    </tr>\n",
              "    <tr>\n",
              "      <td id=\"T_2e7ea_row2_col0\" class=\"data row2 col0\" >Dravid</td>\n",
              "      <td id=\"T_2e7ea_row2_col1\" class=\"data row2 col1\" >Sr Manager</td>\n",
              "      <td id=\"T_2e7ea_row2_col2\" class=\"data row2 col2\" >30</td>\n",
              "    </tr>\n",
              "    <tr>\n",
              "      <td id=\"T_2e7ea_row3_col0\" class=\"data row3 col0\" >Sunil</td>\n",
              "      <td id=\"T_2e7ea_row3_col1\" class=\"data row3 col1\" >Dy Manager</td>\n",
              "      <td id=\"T_2e7ea_row3_col2\" class=\"data row3 col2\" >70</td>\n",
              "    </tr>\n",
              "  </tbody>\n",
              "</table>\n"
            ]
          },
          "metadata": {},
          "execution_count": 33
        }
      ]
    },
    {
      "cell_type": "code",
      "source": [
        "runSelect(\"select lastname, jobdesc, deptid from empl where deptid = '70' or jobdesc like '%Manager' or lastname = 'Dikshit'\")"
      ],
      "metadata": {
        "colab": {
          "base_uri": "https://localhost:8080/",
          "height": 206
        },
        "id": "aR3eNz7xq8Xo",
        "outputId": "acaae5ca-4558-4797-9164-073b485c0ea9"
      },
      "execution_count": 34,
      "outputs": [
        {
          "output_type": "execute_result",
          "data": {
            "text/plain": [
              "<pandas.io.formats.style.Styler at 0x7a119492aa10>"
            ],
            "text/html": [
              "<style type=\"text/css\">\n",
              "</style>\n",
              "<table id=\"T_58604\" class=\"dataframe\">\n",
              "  <thead>\n",
              "    <tr>\n",
              "      <th id=\"T_58604_level0_col0\" class=\"col_heading level0 col0\" >lastname</th>\n",
              "      <th id=\"T_58604_level0_col1\" class=\"col_heading level0 col1\" >jobdesc</th>\n",
              "      <th id=\"T_58604_level0_col2\" class=\"col_heading level0 col2\" >deptid</th>\n",
              "    </tr>\n",
              "  </thead>\n",
              "  <tbody>\n",
              "    <tr>\n",
              "      <td id=\"T_58604_row0_col0\" class=\"data row0 col0\" >Mukherjee</td>\n",
              "      <td id=\"T_58604_row0_col1\" class=\"data row0 col1\" >Manager</td>\n",
              "      <td id=\"T_58604_row0_col2\" class=\"data row0 col2\" >40</td>\n",
              "    </tr>\n",
              "    <tr>\n",
              "      <td id=\"T_58604_row1_col0\" class=\"data row1 col0\" >Dikshit</td>\n",
              "      <td id=\"T_58604_row1_col1\" class=\"data row1 col1\" >Clerk</td>\n",
              "      <td id=\"T_58604_row1_col2\" class=\"data row1 col2\" >20</td>\n",
              "    </tr>\n",
              "    <tr>\n",
              "      <td id=\"T_58604_row2_col0\" class=\"data row2 col0\" >Khan</td>\n",
              "      <td id=\"T_58604_row2_col1\" class=\"data row2 col1\" >Manager</td>\n",
              "      <td id=\"T_58604_row2_col2\" class=\"data row2 col2\" >20</td>\n",
              "    </tr>\n",
              "    <tr>\n",
              "      <td id=\"T_58604_row3_col0\" class=\"data row3 col0\" >Dravid</td>\n",
              "      <td id=\"T_58604_row3_col1\" class=\"data row3 col1\" >Sr Manager</td>\n",
              "      <td id=\"T_58604_row3_col2\" class=\"data row3 col2\" >30</td>\n",
              "    </tr>\n",
              "    <tr>\n",
              "      <td id=\"T_58604_row4_col0\" class=\"data row4 col0\" >Sunil</td>\n",
              "      <td id=\"T_58604_row4_col1\" class=\"data row4 col1\" >Dy Manager</td>\n",
              "      <td id=\"T_58604_row4_col2\" class=\"data row4 col2\" >70</td>\n",
              "    </tr>\n",
              "  </tbody>\n",
              "</table>\n"
            ]
          },
          "metadata": {},
          "execution_count": 34
        }
      ]
    },
    {
      "cell_type": "code",
      "source": [
        "runSelect(\"select lastname, jobdesc, salary from empl where jobdesc = 'Cus_Rep' or jobdesc = 'Clerk' and salary < 16000\")"
      ],
      "metadata": {
        "colab": {
          "base_uri": "https://localhost:8080/",
          "height": 238
        },
        "id": "Ov0HErC0txm4",
        "outputId": "84aca174-6dcc-44c1-f21d-50b53040b0dd"
      },
      "execution_count": 35,
      "outputs": [
        {
          "output_type": "execute_result",
          "data": {
            "text/plain": [
              "<pandas.io.formats.style.Styler at 0x7a119492b650>"
            ],
            "text/html": [
              "<style type=\"text/css\">\n",
              "</style>\n",
              "<table id=\"T_c8f24\" class=\"dataframe\">\n",
              "  <thead>\n",
              "    <tr>\n",
              "      <th id=\"T_c8f24_level0_col0\" class=\"col_heading level0 col0\" >lastname</th>\n",
              "      <th id=\"T_c8f24_level0_col1\" class=\"col_heading level0 col1\" >jobdesc</th>\n",
              "      <th id=\"T_c8f24_level0_col2\" class=\"col_heading level0 col2\" >salary</th>\n",
              "    </tr>\n",
              "  </thead>\n",
              "  <tbody>\n",
              "    <tr>\n",
              "      <td id=\"T_c8f24_row0_col0\" class=\"data row0 col0\" >Dikshit</td>\n",
              "      <td id=\"T_c8f24_row0_col1\" class=\"data row0 col1\" >Clerk</td>\n",
              "      <td id=\"T_c8f24_row0_col2\" class=\"data row0 col2\" >10000</td>\n",
              "    </tr>\n",
              "    <tr>\n",
              "      <td id=\"T_c8f24_row1_col0\" class=\"data row1 col0\" >Sehwag</td>\n",
              "      <td id=\"T_c8f24_row1_col1\" class=\"data row1 col1\" >Cus_Rep</td>\n",
              "      <td id=\"T_c8f24_row1_col2\" class=\"data row1 col2\" >15000</td>\n",
              "    </tr>\n",
              "    <tr>\n",
              "      <td id=\"T_c8f24_row2_col0\" class=\"data row2 col0\" >Dhoni</td>\n",
              "      <td id=\"T_c8f24_row2_col1\" class=\"data row2 col1\" >Clerk</td>\n",
              "      <td id=\"T_c8f24_row2_col2\" class=\"data row2 col2\" >9000</td>\n",
              "    </tr>\n",
              "    <tr>\n",
              "      <td id=\"T_c8f24_row3_col0\" class=\"data row3 col0\" >Dalmia</td>\n",
              "      <td id=\"T_c8f24_row3_col1\" class=\"data row3 col1\" >Clerk</td>\n",
              "      <td id=\"T_c8f24_row3_col2\" class=\"data row3 col2\" >12000</td>\n",
              "    </tr>\n",
              "    <tr>\n",
              "      <td id=\"T_c8f24_row4_col0\" class=\"data row4 col0\" >Ganguly</td>\n",
              "      <td id=\"T_c8f24_row4_col1\" class=\"data row4 col1\" >Cus_Rep</td>\n",
              "      <td id=\"T_c8f24_row4_col2\" class=\"data row4 col2\" >20000</td>\n",
              "    </tr>\n",
              "    <tr>\n",
              "      <td id=\"T_c8f24_row5_col0\" class=\"data row5 col0\" >Mirza</td>\n",
              "      <td id=\"T_c8f24_row5_col1\" class=\"data row5 col1\" >Cus_Rep</td>\n",
              "      <td id=\"T_c8f24_row5_col2\" class=\"data row5 col2\" >25000</td>\n",
              "    </tr>\n",
              "  </tbody>\n",
              "</table>\n"
            ]
          },
          "metadata": {},
          "execution_count": 35
        }
      ]
    },
    {
      "cell_type": "code",
      "source": [
        "runSelect(\"select lastname, jobdesc, salary from empl where (jobdesc = 'Cus_Rep' or jobdesc = 'Clerk') and salary < 16000\")"
      ],
      "metadata": {
        "colab": {
          "base_uri": "https://localhost:8080/",
          "height": 175
        },
        "id": "g7hbzjdxuOt6",
        "outputId": "dc63db89-b799-4488-ab73-76e7516afdfc"
      },
      "execution_count": 36,
      "outputs": [
        {
          "output_type": "execute_result",
          "data": {
            "text/plain": [
              "<pandas.io.formats.style.Styler at 0x7a119492bb90>"
            ],
            "text/html": [
              "<style type=\"text/css\">\n",
              "</style>\n",
              "<table id=\"T_d4c21\" class=\"dataframe\">\n",
              "  <thead>\n",
              "    <tr>\n",
              "      <th id=\"T_d4c21_level0_col0\" class=\"col_heading level0 col0\" >lastname</th>\n",
              "      <th id=\"T_d4c21_level0_col1\" class=\"col_heading level0 col1\" >jobdesc</th>\n",
              "      <th id=\"T_d4c21_level0_col2\" class=\"col_heading level0 col2\" >salary</th>\n",
              "    </tr>\n",
              "  </thead>\n",
              "  <tbody>\n",
              "    <tr>\n",
              "      <td id=\"T_d4c21_row0_col0\" class=\"data row0 col0\" >Dikshit</td>\n",
              "      <td id=\"T_d4c21_row0_col1\" class=\"data row0 col1\" >Clerk</td>\n",
              "      <td id=\"T_d4c21_row0_col2\" class=\"data row0 col2\" >10000</td>\n",
              "    </tr>\n",
              "    <tr>\n",
              "      <td id=\"T_d4c21_row1_col0\" class=\"data row1 col0\" >Sehwag</td>\n",
              "      <td id=\"T_d4c21_row1_col1\" class=\"data row1 col1\" >Cus_Rep</td>\n",
              "      <td id=\"T_d4c21_row1_col2\" class=\"data row1 col2\" >15000</td>\n",
              "    </tr>\n",
              "    <tr>\n",
              "      <td id=\"T_d4c21_row2_col0\" class=\"data row2 col0\" >Dhoni</td>\n",
              "      <td id=\"T_d4c21_row2_col1\" class=\"data row2 col1\" >Clerk</td>\n",
              "      <td id=\"T_d4c21_row2_col2\" class=\"data row2 col2\" >9000</td>\n",
              "    </tr>\n",
              "    <tr>\n",
              "      <td id=\"T_d4c21_row3_col0\" class=\"data row3 col0\" >Dalmia</td>\n",
              "      <td id=\"T_d4c21_row3_col1\" class=\"data row3 col1\" >Clerk</td>\n",
              "      <td id=\"T_d4c21_row3_col2\" class=\"data row3 col2\" >12000</td>\n",
              "    </tr>\n",
              "  </tbody>\n",
              "</table>\n"
            ]
          },
          "metadata": {},
          "execution_count": 36
        }
      ]
    },
    {
      "cell_type": "markdown",
      "source": [
        "# Single Row Functions"
      ],
      "metadata": {
        "id": "ND-8LYQcxsG2"
      }
    },
    {
      "cell_type": "code",
      "source": [
        "runSelect(\"select lastname, deptid, salary, comm, salary+salary*comm payout from empl where deptid = '20'\")"
      ],
      "metadata": {
        "colab": {
          "base_uri": "https://localhost:8080/",
          "height": 143
        },
        "id": "s71weE_hyDwf",
        "outputId": "a56af5a5-8505-45a6-96b7-808973a4a9ce"
      },
      "execution_count": 37,
      "outputs": [
        {
          "output_type": "execute_result",
          "data": {
            "text/plain": [
              "<pandas.io.formats.style.Styler at 0x7a1194944750>"
            ],
            "text/html": [
              "<style type=\"text/css\">\n",
              "</style>\n",
              "<table id=\"T_c3d54\" class=\"dataframe\">\n",
              "  <thead>\n",
              "    <tr>\n",
              "      <th id=\"T_c3d54_level0_col0\" class=\"col_heading level0 col0\" >lastname</th>\n",
              "      <th id=\"T_c3d54_level0_col1\" class=\"col_heading level0 col1\" >deptid</th>\n",
              "      <th id=\"T_c3d54_level0_col2\" class=\"col_heading level0 col2\" >salary</th>\n",
              "      <th id=\"T_c3d54_level0_col3\" class=\"col_heading level0 col3\" >comm</th>\n",
              "      <th id=\"T_c3d54_level0_col4\" class=\"col_heading level0 col4\" >payout</th>\n",
              "    </tr>\n",
              "  </thead>\n",
              "  <tbody>\n",
              "    <tr>\n",
              "      <td id=\"T_c3d54_row0_col0\" class=\"data row0 col0\" >Dikshit</td>\n",
              "      <td id=\"T_c3d54_row0_col1\" class=\"data row0 col1\" >20</td>\n",
              "      <td id=\"T_c3d54_row0_col2\" class=\"data row0 col2\" >10000</td>\n",
              "      <td id=\"T_c3d54_row0_col3\" class=\"data row0 col3\" >0.02</td>\n",
              "      <td id=\"T_c3d54_row0_col4\" class=\"data row0 col4\" >10200.00</td>\n",
              "    </tr>\n",
              "    <tr>\n",
              "      <td id=\"T_c3d54_row1_col0\" class=\"data row1 col0\" >Khan</td>\n",
              "      <td id=\"T_c3d54_row1_col1\" class=\"data row1 col1\" >20</td>\n",
              "      <td id=\"T_c3d54_row1_col2\" class=\"data row1 col2\" >30000</td>\n",
              "      <td id=\"T_c3d54_row1_col3\" class=\"data row1 col3\" >0.07</td>\n",
              "      <td id=\"T_c3d54_row1_col4\" class=\"data row1 col4\" >32100.00</td>\n",
              "    </tr>\n",
              "    <tr>\n",
              "      <td id=\"T_c3d54_row2_col0\" class=\"data row2 col0\" >Sehwag</td>\n",
              "      <td id=\"T_c3d54_row2_col1\" class=\"data row2 col1\" >20</td>\n",
              "      <td id=\"T_c3d54_row2_col2\" class=\"data row2 col2\" >15000</td>\n",
              "      <td id=\"T_c3d54_row2_col3\" class=\"data row2 col3\" >0.05</td>\n",
              "      <td id=\"T_c3d54_row2_col4\" class=\"data row2 col4\" >15750.00</td>\n",
              "    </tr>\n",
              "  </tbody>\n",
              "</table>\n"
            ]
          },
          "metadata": {},
          "execution_count": 37
        }
      ]
    },
    {
      "cell_type": "code",
      "source": [
        "runSelect(\"select lastname, firstname, deptid, substring(firstname,1,3) nick from empl where deptid = '20'\")"
      ],
      "metadata": {
        "colab": {
          "base_uri": "https://localhost:8080/",
          "height": 143
        },
        "id": "I3rkoZrYyb_P",
        "outputId": "24055f8f-8330-4ec1-d69b-16003f252ca6"
      },
      "execution_count": 38,
      "outputs": [
        {
          "output_type": "execute_result",
          "data": {
            "text/plain": [
              "<pandas.io.formats.style.Styler at 0x7a1194921010>"
            ],
            "text/html": [
              "<style type=\"text/css\">\n",
              "</style>\n",
              "<table id=\"T_d8597\" class=\"dataframe\">\n",
              "  <thead>\n",
              "    <tr>\n",
              "      <th id=\"T_d8597_level0_col0\" class=\"col_heading level0 col0\" >lastname</th>\n",
              "      <th id=\"T_d8597_level0_col1\" class=\"col_heading level0 col1\" >firstname</th>\n",
              "      <th id=\"T_d8597_level0_col2\" class=\"col_heading level0 col2\" >deptid</th>\n",
              "      <th id=\"T_d8597_level0_col3\" class=\"col_heading level0 col3\" >nick</th>\n",
              "    </tr>\n",
              "  </thead>\n",
              "  <tbody>\n",
              "    <tr>\n",
              "      <td id=\"T_d8597_row0_col0\" class=\"data row0 col0\" >Dikshit</td>\n",
              "      <td id=\"T_d8597_row0_col1\" class=\"data row0 col1\" >Madhuri</td>\n",
              "      <td id=\"T_d8597_row0_col2\" class=\"data row0 col2\" >20</td>\n",
              "      <td id=\"T_d8597_row0_col3\" class=\"data row0 col3\" >Mad</td>\n",
              "    </tr>\n",
              "    <tr>\n",
              "      <td id=\"T_d8597_row1_col0\" class=\"data row1 col0\" >Khan</td>\n",
              "      <td id=\"T_d8597_row1_col1\" class=\"data row1 col1\" >Shahrukh</td>\n",
              "      <td id=\"T_d8597_row1_col2\" class=\"data row1 col2\" >20</td>\n",
              "      <td id=\"T_d8597_row1_col3\" class=\"data row1 col3\" >Sha</td>\n",
              "    </tr>\n",
              "    <tr>\n",
              "      <td id=\"T_d8597_row2_col0\" class=\"data row2 col0\" >Sehwag</td>\n",
              "      <td id=\"T_d8597_row2_col1\" class=\"data row2 col1\" >Virender</td>\n",
              "      <td id=\"T_d8597_row2_col2\" class=\"data row2 col2\" >20</td>\n",
              "      <td id=\"T_d8597_row2_col3\" class=\"data row2 col3\" >Vir</td>\n",
              "    </tr>\n",
              "  </tbody>\n",
              "</table>\n"
            ]
          },
          "metadata": {},
          "execution_count": 38
        }
      ]
    },
    {
      "cell_type": "code",
      "source": [
        "runSelect(\"select lastname, firstname, deptid, concat('\\\"',substring(firstname,2,3),'\\\" ',lastname) nick from empl where deptid = '20'\")"
      ],
      "metadata": {
        "colab": {
          "base_uri": "https://localhost:8080/",
          "height": 143
        },
        "id": "xNQl1KpSzIQc",
        "outputId": "8210938a-74b3-4e21-f1fb-d7928f65f639"
      },
      "execution_count": 39,
      "outputs": [
        {
          "output_type": "execute_result",
          "data": {
            "text/plain": [
              "<pandas.io.formats.style.Styler at 0x7a1194908f50>"
            ],
            "text/html": [
              "<style type=\"text/css\">\n",
              "</style>\n",
              "<table id=\"T_03db7\" class=\"dataframe\">\n",
              "  <thead>\n",
              "    <tr>\n",
              "      <th id=\"T_03db7_level0_col0\" class=\"col_heading level0 col0\" >lastname</th>\n",
              "      <th id=\"T_03db7_level0_col1\" class=\"col_heading level0 col1\" >firstname</th>\n",
              "      <th id=\"T_03db7_level0_col2\" class=\"col_heading level0 col2\" >deptid</th>\n",
              "      <th id=\"T_03db7_level0_col3\" class=\"col_heading level0 col3\" >nick</th>\n",
              "    </tr>\n",
              "  </thead>\n",
              "  <tbody>\n",
              "    <tr>\n",
              "      <td id=\"T_03db7_row0_col0\" class=\"data row0 col0\" >Dikshit</td>\n",
              "      <td id=\"T_03db7_row0_col1\" class=\"data row0 col1\" >Madhuri</td>\n",
              "      <td id=\"T_03db7_row0_col2\" class=\"data row0 col2\" >20</td>\n",
              "      <td id=\"T_03db7_row0_col3\" class=\"data row0 col3\" >\"adh\" Dikshit</td>\n",
              "    </tr>\n",
              "    <tr>\n",
              "      <td id=\"T_03db7_row1_col0\" class=\"data row1 col0\" >Khan</td>\n",
              "      <td id=\"T_03db7_row1_col1\" class=\"data row1 col1\" >Shahrukh</td>\n",
              "      <td id=\"T_03db7_row1_col2\" class=\"data row1 col2\" >20</td>\n",
              "      <td id=\"T_03db7_row1_col3\" class=\"data row1 col3\" >\"hah\" Khan</td>\n",
              "    </tr>\n",
              "    <tr>\n",
              "      <td id=\"T_03db7_row2_col0\" class=\"data row2 col0\" >Sehwag</td>\n",
              "      <td id=\"T_03db7_row2_col1\" class=\"data row2 col1\" >Virender</td>\n",
              "      <td id=\"T_03db7_row2_col2\" class=\"data row2 col2\" >20</td>\n",
              "      <td id=\"T_03db7_row2_col3\" class=\"data row2 col3\" >\"ire\" Sehwag</td>\n",
              "    </tr>\n",
              "  </tbody>\n",
              "</table>\n"
            ]
          },
          "metadata": {},
          "execution_count": 39
        }
      ]
    },
    {
      "cell_type": "code",
      "source": [
        "runSelect(\"select LastName, Current_Date,JoinDate, to_char(JoinDate,'Day') JoinDay, to_char(JoinDate,'DD-mon-YY') JoinDate2, \\\n",
        "Current_Date-JoinDate DaysSince from Empl\")\n",
        "\n",
        "#https://blog.quest.com/exploring-postgres-date-formats-and-their-different-functions/\n"
      ],
      "metadata": {
        "id": "37Rjgkxz-BP0",
        "outputId": "cbfa4e0a-b5e7-47ca-e565-04998ce1b881",
        "colab": {
          "base_uri": "https://localhost:8080/",
          "height": 457
        }
      },
      "execution_count": 40,
      "outputs": [
        {
          "output_type": "execute_result",
          "data": {
            "text/plain": [
              "<pandas.io.formats.style.Styler at 0x7a1194909a50>"
            ],
            "text/html": [
              "<style type=\"text/css\">\n",
              "</style>\n",
              "<table id=\"T_9ac72\" class=\"dataframe\">\n",
              "  <thead>\n",
              "    <tr>\n",
              "      <th id=\"T_9ac72_level0_col0\" class=\"col_heading level0 col0\" >lastname</th>\n",
              "      <th id=\"T_9ac72_level0_col1\" class=\"col_heading level0 col1\" >current_date</th>\n",
              "      <th id=\"T_9ac72_level0_col2\" class=\"col_heading level0 col2\" >joindate</th>\n",
              "      <th id=\"T_9ac72_level0_col3\" class=\"col_heading level0 col3\" >joinday</th>\n",
              "      <th id=\"T_9ac72_level0_col4\" class=\"col_heading level0 col4\" >joindate2</th>\n",
              "      <th id=\"T_9ac72_level0_col5\" class=\"col_heading level0 col5\" >dayssince</th>\n",
              "    </tr>\n",
              "  </thead>\n",
              "  <tbody>\n",
              "    <tr>\n",
              "      <td id=\"T_9ac72_row0_col0\" class=\"data row0 col0\" >Bacchan</td>\n",
              "      <td id=\"T_9ac72_row0_col1\" class=\"data row0 col1\" >2025-08-11</td>\n",
              "      <td id=\"T_9ac72_row0_col2\" class=\"data row0 col2\" >2003-03-10</td>\n",
              "      <td id=\"T_9ac72_row0_col3\" class=\"data row0 col3\" >Monday   </td>\n",
              "      <td id=\"T_9ac72_row0_col4\" class=\"data row0 col4\" >10-mar-03</td>\n",
              "      <td id=\"T_9ac72_row0_col5\" class=\"data row0 col5\" >8190</td>\n",
              "    </tr>\n",
              "    <tr>\n",
              "      <td id=\"T_9ac72_row1_col0\" class=\"data row1 col0\" >Mukherjee</td>\n",
              "      <td id=\"T_9ac72_row1_col1\" class=\"data row1 col1\" >2025-08-11</td>\n",
              "      <td id=\"T_9ac72_row1_col2\" class=\"data row1 col2\" >2005-05-04</td>\n",
              "      <td id=\"T_9ac72_row1_col3\" class=\"data row1 col3\" >Wednesday</td>\n",
              "      <td id=\"T_9ac72_row1_col4\" class=\"data row1 col4\" >04-may-05</td>\n",
              "      <td id=\"T_9ac72_row1_col5\" class=\"data row1 col5\" >7404</td>\n",
              "    </tr>\n",
              "    <tr>\n",
              "      <td id=\"T_9ac72_row2_col0\" class=\"data row2 col0\" >Dikshit</td>\n",
              "      <td id=\"T_9ac72_row2_col1\" class=\"data row2 col1\" >2025-08-11</td>\n",
              "      <td id=\"T_9ac72_row2_col2\" class=\"data row2 col2\" >2002-04-04</td>\n",
              "      <td id=\"T_9ac72_row2_col3\" class=\"data row2 col3\" >Thursday </td>\n",
              "      <td id=\"T_9ac72_row2_col4\" class=\"data row2 col4\" >04-apr-02</td>\n",
              "      <td id=\"T_9ac72_row2_col5\" class=\"data row2 col5\" >8530</td>\n",
              "    </tr>\n",
              "    <tr>\n",
              "      <td id=\"T_9ac72_row3_col0\" class=\"data row3 col0\" >Khan</td>\n",
              "      <td id=\"T_9ac72_row3_col1\" class=\"data row3 col1\" >2025-08-11</td>\n",
              "      <td id=\"T_9ac72_row3_col2\" class=\"data row3 col2\" >2004-01-03</td>\n",
              "      <td id=\"T_9ac72_row3_col3\" class=\"data row3 col3\" >Saturday </td>\n",
              "      <td id=\"T_9ac72_row3_col4\" class=\"data row3 col4\" >03-jan-04</td>\n",
              "      <td id=\"T_9ac72_row3_col5\" class=\"data row3 col5\" >7891</td>\n",
              "    </tr>\n",
              "    <tr>\n",
              "      <td id=\"T_9ac72_row4_col0\" class=\"data row4 col0\" >Sehwag</td>\n",
              "      <td id=\"T_9ac72_row4_col1\" class=\"data row4 col1\" >2025-08-11</td>\n",
              "      <td id=\"T_9ac72_row4_col2\" class=\"data row4 col2\" >2005-01-02</td>\n",
              "      <td id=\"T_9ac72_row4_col3\" class=\"data row4 col3\" >Sunday   </td>\n",
              "      <td id=\"T_9ac72_row4_col4\" class=\"data row4 col4\" >02-jan-05</td>\n",
              "      <td id=\"T_9ac72_row4_col5\" class=\"data row4 col5\" >7526</td>\n",
              "    </tr>\n",
              "    <tr>\n",
              "      <td id=\"T_9ac72_row5_col0\" class=\"data row5 col0\" >Dhoni</td>\n",
              "      <td id=\"T_9ac72_row5_col1\" class=\"data row5 col1\" >2025-08-11</td>\n",
              "      <td id=\"T_9ac72_row5_col2\" class=\"data row5 col2\" >2004-10-09</td>\n",
              "      <td id=\"T_9ac72_row5_col3\" class=\"data row5 col3\" >Saturday </td>\n",
              "      <td id=\"T_9ac72_row5_col4\" class=\"data row5 col4\" >09-oct-04</td>\n",
              "      <td id=\"T_9ac72_row5_col5\" class=\"data row5 col5\" >7611</td>\n",
              "    </tr>\n",
              "    <tr>\n",
              "      <td id=\"T_9ac72_row6_col0\" class=\"data row6 col0\" >Dravid</td>\n",
              "      <td id=\"T_9ac72_row6_col1\" class=\"data row6 col1\" >2025-08-11</td>\n",
              "      <td id=\"T_9ac72_row6_col2\" class=\"data row6 col2\" >2000-06-04</td>\n",
              "      <td id=\"T_9ac72_row6_col3\" class=\"data row6 col3\" >Sunday   </td>\n",
              "      <td id=\"T_9ac72_row6_col4\" class=\"data row6 col4\" >04-jun-00</td>\n",
              "      <td id=\"T_9ac72_row6_col5\" class=\"data row6 col5\" >9199</td>\n",
              "    </tr>\n",
              "    <tr>\n",
              "      <td id=\"T_9ac72_row7_col0\" class=\"data row7 col0\" >Dalmia</td>\n",
              "      <td id=\"T_9ac72_row7_col1\" class=\"data row7 col1\" >2025-08-11</td>\n",
              "      <td id=\"T_9ac72_row7_col2\" class=\"data row7 col2\" >2001-07-01</td>\n",
              "      <td id=\"T_9ac72_row7_col3\" class=\"data row7 col3\" >Sunday   </td>\n",
              "      <td id=\"T_9ac72_row7_col4\" class=\"data row7 col4\" >01-jul-01</td>\n",
              "      <td id=\"T_9ac72_row7_col5\" class=\"data row7 col5\" >8807</td>\n",
              "    </tr>\n",
              "    <tr>\n",
              "      <td id=\"T_9ac72_row8_col0\" class=\"data row8 col0\" >Ganguly</td>\n",
              "      <td id=\"T_9ac72_row8_col1\" class=\"data row8 col1\" >2025-08-11</td>\n",
              "      <td id=\"T_9ac72_row8_col2\" class=\"data row8 col2\" >2002-01-01</td>\n",
              "      <td id=\"T_9ac72_row8_col3\" class=\"data row8 col3\" >Tuesday  </td>\n",
              "      <td id=\"T_9ac72_row8_col4\" class=\"data row8 col4\" >01-jan-02</td>\n",
              "      <td id=\"T_9ac72_row8_col5\" class=\"data row8 col5\" >8623</td>\n",
              "    </tr>\n",
              "    <tr>\n",
              "      <td id=\"T_9ac72_row9_col0\" class=\"data row9 col0\" >Ganesan</td>\n",
              "      <td id=\"T_9ac72_row9_col1\" class=\"data row9 col1\" >2025-08-11</td>\n",
              "      <td id=\"T_9ac72_row9_col2\" class=\"data row9 col2\" >2002-10-10</td>\n",
              "      <td id=\"T_9ac72_row9_col3\" class=\"data row9 col3\" >Thursday </td>\n",
              "      <td id=\"T_9ac72_row9_col4\" class=\"data row9 col4\" >10-oct-02</td>\n",
              "      <td id=\"T_9ac72_row9_col5\" class=\"data row9 col5\" >8341</td>\n",
              "    </tr>\n",
              "    <tr>\n",
              "      <td id=\"T_9ac72_row10_col0\" class=\"data row10 col0\" >Karthikeyan</td>\n",
              "      <td id=\"T_9ac72_row10_col1\" class=\"data row10 col1\" >2025-08-11</td>\n",
              "      <td id=\"T_9ac72_row10_col2\" class=\"data row10 col2\" >2005-12-04</td>\n",
              "      <td id=\"T_9ac72_row10_col3\" class=\"data row10 col3\" >Sunday   </td>\n",
              "      <td id=\"T_9ac72_row10_col4\" class=\"data row10 col4\" >04-dec-05</td>\n",
              "      <td id=\"T_9ac72_row10_col5\" class=\"data row10 col5\" >7190</td>\n",
              "    </tr>\n",
              "    <tr>\n",
              "      <td id=\"T_9ac72_row11_col0\" class=\"data row11 col0\" >Sunil</td>\n",
              "      <td id=\"T_9ac72_row11_col1\" class=\"data row11 col1\" >2025-08-11</td>\n",
              "      <td id=\"T_9ac72_row11_col2\" class=\"data row11 col2\" >2006-12-07</td>\n",
              "      <td id=\"T_9ac72_row11_col3\" class=\"data row11 col3\" >Thursday </td>\n",
              "      <td id=\"T_9ac72_row11_col4\" class=\"data row11 col4\" >07-dec-06</td>\n",
              "      <td id=\"T_9ac72_row11_col5\" class=\"data row11 col5\" >6822</td>\n",
              "    </tr>\n",
              "    <tr>\n",
              "      <td id=\"T_9ac72_row12_col0\" class=\"data row12 col0\" >Mirza</td>\n",
              "      <td id=\"T_9ac72_row12_col1\" class=\"data row12 col1\" >2025-08-11</td>\n",
              "      <td id=\"T_9ac72_row12_col2\" class=\"data row12 col2\" >2001-11-19</td>\n",
              "      <td id=\"T_9ac72_row12_col3\" class=\"data row12 col3\" >Monday   </td>\n",
              "      <td id=\"T_9ac72_row12_col4\" class=\"data row12 col4\" >19-nov-01</td>\n",
              "      <td id=\"T_9ac72_row12_col5\" class=\"data row12 col5\" >8666</td>\n",
              "    </tr>\n",
              "  </tbody>\n",
              "</table>\n"
            ]
          },
          "metadata": {},
          "execution_count": 40
        }
      ]
    },
    {
      "cell_type": "markdown",
      "source": [
        "# MultiRow Function | Group By | Having\n",
        "for more complex examples that demonstrate Grouping Sets, Cubes, Roll UP, Crosstabs and other OLAP related SQL see [this notebook](https://github.com/Praxis-QR/RDWH/blob/main/PostgreSQL_03B_SQL_Level2.ipynb)"
      ],
      "metadata": {
        "id": "ONgFWUTC2IPK"
      }
    },
    {
      "cell_type": "code",
      "source": [
        "runSelect(\"select sum(salary) Total_Salary from empl\")"
      ],
      "metadata": {
        "colab": {
          "base_uri": "https://localhost:8080/",
          "height": 81
        },
        "id": "7MnnzfJx2PSc",
        "outputId": "55204beb-ee72-4f59-b19c-b8f319104c20"
      },
      "execution_count": 41,
      "outputs": [
        {
          "output_type": "execute_result",
          "data": {
            "text/plain": [
              "<pandas.io.formats.style.Styler at 0x7a11949a5f50>"
            ],
            "text/html": [
              "<style type=\"text/css\">\n",
              "</style>\n",
              "<table id=\"T_2e36c\" class=\"dataframe\">\n",
              "  <thead>\n",
              "    <tr>\n",
              "      <th id=\"T_2e36c_level0_col0\" class=\"col_heading level0 col0\" >total_salary</th>\n",
              "    </tr>\n",
              "  </thead>\n",
              "  <tbody>\n",
              "    <tr>\n",
              "      <td id=\"T_2e36c_row0_col0\" class=\"data row0 col0\" >376000</td>\n",
              "    </tr>\n",
              "  </tbody>\n",
              "</table>\n"
            ]
          },
          "metadata": {},
          "execution_count": 41
        }
      ]
    },
    {
      "cell_type": "code",
      "source": [
        "runSelect(\"select round(avg(salary),2) Average_Salary from empl\")"
      ],
      "metadata": {
        "colab": {
          "base_uri": "https://localhost:8080/",
          "height": 81
        },
        "id": "e3Avb-HL4QPD",
        "outputId": "be659caa-2660-41c9-e9fc-04ceeaa26296"
      },
      "execution_count": 42,
      "outputs": [
        {
          "output_type": "execute_result",
          "data": {
            "text/plain": [
              "<pandas.io.formats.style.Styler at 0x7a11949439d0>"
            ],
            "text/html": [
              "<style type=\"text/css\">\n",
              "</style>\n",
              "<table id=\"T_29755\" class=\"dataframe\">\n",
              "  <thead>\n",
              "    <tr>\n",
              "      <th id=\"T_29755_level0_col0\" class=\"col_heading level0 col0\" >average_salary</th>\n",
              "    </tr>\n",
              "  </thead>\n",
              "  <tbody>\n",
              "    <tr>\n",
              "      <td id=\"T_29755_row0_col0\" class=\"data row0 col0\" >28923.08</td>\n",
              "    </tr>\n",
              "  </tbody>\n",
              "</table>\n"
            ]
          },
          "metadata": {},
          "execution_count": 42
        }
      ]
    },
    {
      "cell_type": "code",
      "source": [
        "runSelect(\"select max(salary) Max_Salary from empl\")"
      ],
      "metadata": {
        "colab": {
          "base_uri": "https://localhost:8080/",
          "height": 81
        },
        "id": "Oe1qRQbI4gtY",
        "outputId": "f328fd75-0c6c-4229-87d7-b6fde31d5655"
      },
      "execution_count": 43,
      "outputs": [
        {
          "output_type": "execute_result",
          "data": {
            "text/plain": [
              "<pandas.io.formats.style.Styler at 0x7a11949215d0>"
            ],
            "text/html": [
              "<style type=\"text/css\">\n",
              "</style>\n",
              "<table id=\"T_ecd33\" class=\"dataframe\">\n",
              "  <thead>\n",
              "    <tr>\n",
              "      <th id=\"T_ecd33_level0_col0\" class=\"col_heading level0 col0\" >max_salary</th>\n",
              "    </tr>\n",
              "  </thead>\n",
              "  <tbody>\n",
              "    <tr>\n",
              "      <td id=\"T_ecd33_row0_col0\" class=\"data row0 col0\" >60000</td>\n",
              "    </tr>\n",
              "  </tbody>\n",
              "</table>\n"
            ]
          },
          "metadata": {},
          "execution_count": 43
        }
      ]
    },
    {
      "cell_type": "code",
      "source": [
        "runSelect(\"select deptid, sum(salary) Total, max(salary) Max from empl group by deptid\")"
      ],
      "metadata": {
        "colab": {
          "base_uri": "https://localhost:8080/",
          "height": 206
        },
        "id": "xpmGXSAX69iU",
        "outputId": "e909b1fc-553d-42c5-ef46-5af45032497e"
      },
      "execution_count": 44,
      "outputs": [
        {
          "output_type": "execute_result",
          "data": {
            "text/plain": [
              "<pandas.io.formats.style.Styler at 0x7a11948fb310>"
            ],
            "text/html": [
              "<style type=\"text/css\">\n",
              "</style>\n",
              "<table id=\"T_1548b\" class=\"dataframe\">\n",
              "  <thead>\n",
              "    <tr>\n",
              "      <th id=\"T_1548b_level0_col0\" class=\"col_heading level0 col0\" >deptid</th>\n",
              "      <th id=\"T_1548b_level0_col1\" class=\"col_heading level0 col1\" >total</th>\n",
              "      <th id=\"T_1548b_level0_col2\" class=\"col_heading level0 col2\" >max</th>\n",
              "    </tr>\n",
              "  </thead>\n",
              "  <tbody>\n",
              "    <tr>\n",
              "      <td id=\"T_1548b_row0_col0\" class=\"data row0 col0\" >10</td>\n",
              "      <td id=\"T_1548b_row0_col1\" class=\"data row0 col1\" >150000</td>\n",
              "      <td id=\"T_1548b_row0_col2\" class=\"data row0 col2\" >60000</td>\n",
              "    </tr>\n",
              "    <tr>\n",
              "      <td id=\"T_1548b_row1_col0\" class=\"data row1 col0\" >40</td>\n",
              "      <td id=\"T_1548b_row1_col1\" class=\"data row1 col1\" >54000</td>\n",
              "      <td id=\"T_1548b_row1_col2\" class=\"data row1 col2\" >25000</td>\n",
              "    </tr>\n",
              "    <tr>\n",
              "      <td id=\"T_1548b_row2_col0\" class=\"data row2 col0\" >70</td>\n",
              "      <td id=\"T_1548b_row2_col1\" class=\"data row2 col1\" >40000</td>\n",
              "      <td id=\"T_1548b_row2_col2\" class=\"data row2 col2\" >40000</td>\n",
              "    </tr>\n",
              "    <tr>\n",
              "      <td id=\"T_1548b_row3_col0\" class=\"data row3 col0\" >20</td>\n",
              "      <td id=\"T_1548b_row3_col1\" class=\"data row3 col1\" >55000</td>\n",
              "      <td id=\"T_1548b_row3_col2\" class=\"data row3 col2\" >30000</td>\n",
              "    </tr>\n",
              "    <tr>\n",
              "      <td id=\"T_1548b_row4_col0\" class=\"data row4 col0\" >30</td>\n",
              "      <td id=\"T_1548b_row4_col1\" class=\"data row4 col1\" >77000</td>\n",
              "      <td id=\"T_1548b_row4_col2\" class=\"data row4 col2\" >40000</td>\n",
              "    </tr>\n",
              "  </tbody>\n",
              "</table>\n"
            ]
          },
          "metadata": {},
          "execution_count": 44
        }
      ]
    },
    {
      "cell_type": "code",
      "source": [
        "runSelect(\"select deptid, sum(salary) Total, max(salary) Max from empl group by deptid having sum(salary) > 50000\")"
      ],
      "metadata": {
        "colab": {
          "base_uri": "https://localhost:8080/",
          "height": 175
        },
        "id": "AdNDutZl7LCF",
        "outputId": "f8e04f4c-c694-4fec-a60b-31f809a00863"
      },
      "execution_count": 45,
      "outputs": [
        {
          "output_type": "execute_result",
          "data": {
            "text/plain": [
              "<pandas.io.formats.style.Styler at 0x7a11948f8450>"
            ],
            "text/html": [
              "<style type=\"text/css\">\n",
              "</style>\n",
              "<table id=\"T_50f16\" class=\"dataframe\">\n",
              "  <thead>\n",
              "    <tr>\n",
              "      <th id=\"T_50f16_level0_col0\" class=\"col_heading level0 col0\" >deptid</th>\n",
              "      <th id=\"T_50f16_level0_col1\" class=\"col_heading level0 col1\" >total</th>\n",
              "      <th id=\"T_50f16_level0_col2\" class=\"col_heading level0 col2\" >max</th>\n",
              "    </tr>\n",
              "  </thead>\n",
              "  <tbody>\n",
              "    <tr>\n",
              "      <td id=\"T_50f16_row0_col0\" class=\"data row0 col0\" >10</td>\n",
              "      <td id=\"T_50f16_row0_col1\" class=\"data row0 col1\" >150000</td>\n",
              "      <td id=\"T_50f16_row0_col2\" class=\"data row0 col2\" >60000</td>\n",
              "    </tr>\n",
              "    <tr>\n",
              "      <td id=\"T_50f16_row1_col0\" class=\"data row1 col0\" >40</td>\n",
              "      <td id=\"T_50f16_row1_col1\" class=\"data row1 col1\" >54000</td>\n",
              "      <td id=\"T_50f16_row1_col2\" class=\"data row1 col2\" >25000</td>\n",
              "    </tr>\n",
              "    <tr>\n",
              "      <td id=\"T_50f16_row2_col0\" class=\"data row2 col0\" >20</td>\n",
              "      <td id=\"T_50f16_row2_col1\" class=\"data row2 col1\" >55000</td>\n",
              "      <td id=\"T_50f16_row2_col2\" class=\"data row2 col2\" >30000</td>\n",
              "    </tr>\n",
              "    <tr>\n",
              "      <td id=\"T_50f16_row3_col0\" class=\"data row3 col0\" >30</td>\n",
              "      <td id=\"T_50f16_row3_col1\" class=\"data row3 col1\" >77000</td>\n",
              "      <td id=\"T_50f16_row3_col2\" class=\"data row3 col2\" >40000</td>\n",
              "    </tr>\n",
              "  </tbody>\n",
              "</table>\n"
            ]
          },
          "metadata": {},
          "execution_count": 45
        }
      ]
    },
    {
      "cell_type": "code",
      "source": [
        "runSelect(\"select deptid, sum(salary) Total, max(salary) Max from empl group by deptid having sum(salary) > 50000 and max(salary) < 35000\")"
      ],
      "metadata": {
        "colab": {
          "base_uri": "https://localhost:8080/",
          "height": 112
        },
        "id": "4VFmL5JF7bYo",
        "outputId": "83180650-59b8-4b64-ad4d-ca4b935b3bd3"
      },
      "execution_count": 46,
      "outputs": [
        {
          "output_type": "execute_result",
          "data": {
            "text/plain": [
              "<pandas.io.formats.style.Styler at 0x7a1194972590>"
            ],
            "text/html": [
              "<style type=\"text/css\">\n",
              "</style>\n",
              "<table id=\"T_58340\" class=\"dataframe\">\n",
              "  <thead>\n",
              "    <tr>\n",
              "      <th id=\"T_58340_level0_col0\" class=\"col_heading level0 col0\" >deptid</th>\n",
              "      <th id=\"T_58340_level0_col1\" class=\"col_heading level0 col1\" >total</th>\n",
              "      <th id=\"T_58340_level0_col2\" class=\"col_heading level0 col2\" >max</th>\n",
              "    </tr>\n",
              "  </thead>\n",
              "  <tbody>\n",
              "    <tr>\n",
              "      <td id=\"T_58340_row0_col0\" class=\"data row0 col0\" >40</td>\n",
              "      <td id=\"T_58340_row0_col1\" class=\"data row0 col1\" >54000</td>\n",
              "      <td id=\"T_58340_row0_col2\" class=\"data row0 col2\" >25000</td>\n",
              "    </tr>\n",
              "    <tr>\n",
              "      <td id=\"T_58340_row1_col0\" class=\"data row1 col0\" >20</td>\n",
              "      <td id=\"T_58340_row1_col1\" class=\"data row1 col1\" >55000</td>\n",
              "      <td id=\"T_58340_row1_col2\" class=\"data row1 col2\" >30000</td>\n",
              "    </tr>\n",
              "  </tbody>\n",
              "</table>\n"
            ]
          },
          "metadata": {},
          "execution_count": 46
        }
      ]
    },
    {
      "cell_type": "markdown",
      "source": [
        "#Conditionals | CASE"
      ],
      "metadata": {
        "id": "xDsapsK8Afpj"
      }
    },
    {
      "cell_type": "code",
      "source": [
        "runSelect(\"select lastname, jobdesc, salary, comm, salary+salary*comm Payout,\\\n",
        "case when jobdesc like '%Manager' then 2000 else 0 end bonus from empl\")"
      ],
      "metadata": {
        "colab": {
          "base_uri": "https://localhost:8080/",
          "height": 457
        },
        "id": "bYRWDlVNAxKx",
        "outputId": "99b12756-4d91-4412-d8cc-4156cee0d58f"
      },
      "execution_count": 47,
      "outputs": [
        {
          "output_type": "execute_result",
          "data": {
            "text/plain": [
              "<pandas.io.formats.style.Styler at 0x7a11947bb150>"
            ],
            "text/html": [
              "<style type=\"text/css\">\n",
              "</style>\n",
              "<table id=\"T_3720d\" class=\"dataframe\">\n",
              "  <thead>\n",
              "    <tr>\n",
              "      <th id=\"T_3720d_level0_col0\" class=\"col_heading level0 col0\" >lastname</th>\n",
              "      <th id=\"T_3720d_level0_col1\" class=\"col_heading level0 col1\" >jobdesc</th>\n",
              "      <th id=\"T_3720d_level0_col2\" class=\"col_heading level0 col2\" >salary</th>\n",
              "      <th id=\"T_3720d_level0_col3\" class=\"col_heading level0 col3\" >comm</th>\n",
              "      <th id=\"T_3720d_level0_col4\" class=\"col_heading level0 col4\" >payout</th>\n",
              "      <th id=\"T_3720d_level0_col5\" class=\"col_heading level0 col5\" >bonus</th>\n",
              "    </tr>\n",
              "  </thead>\n",
              "  <tbody>\n",
              "    <tr>\n",
              "      <td id=\"T_3720d_row0_col0\" class=\"data row0 col0\" >Bacchan</td>\n",
              "      <td id=\"T_3720d_row0_col1\" class=\"data row0 col1\" >Executive</td>\n",
              "      <td id=\"T_3720d_row0_col2\" class=\"data row0 col2\" >50000</td>\n",
              "      <td id=\"T_3720d_row0_col3\" class=\"data row0 col3\" >0.10</td>\n",
              "      <td id=\"T_3720d_row0_col4\" class=\"data row0 col4\" >55000.00</td>\n",
              "      <td id=\"T_3720d_row0_col5\" class=\"data row0 col5\" >0</td>\n",
              "    </tr>\n",
              "    <tr>\n",
              "      <td id=\"T_3720d_row1_col0\" class=\"data row1 col0\" >Mukherjee</td>\n",
              "      <td id=\"T_3720d_row1_col1\" class=\"data row1 col1\" >Manager</td>\n",
              "      <td id=\"T_3720d_row1_col2\" class=\"data row1 col2\" >25000</td>\n",
              "      <td id=\"T_3720d_row1_col3\" class=\"data row1 col3\" >0.06</td>\n",
              "      <td id=\"T_3720d_row1_col4\" class=\"data row1 col4\" >26500.00</td>\n",
              "      <td id=\"T_3720d_row1_col5\" class=\"data row1 col5\" >2000</td>\n",
              "    </tr>\n",
              "    <tr>\n",
              "      <td id=\"T_3720d_row2_col0\" class=\"data row2 col0\" >Dikshit</td>\n",
              "      <td id=\"T_3720d_row2_col1\" class=\"data row2 col1\" >Clerk</td>\n",
              "      <td id=\"T_3720d_row2_col2\" class=\"data row2 col2\" >10000</td>\n",
              "      <td id=\"T_3720d_row2_col3\" class=\"data row2 col3\" >0.02</td>\n",
              "      <td id=\"T_3720d_row2_col4\" class=\"data row2 col4\" >10200.00</td>\n",
              "      <td id=\"T_3720d_row2_col5\" class=\"data row2 col5\" >0</td>\n",
              "    </tr>\n",
              "    <tr>\n",
              "      <td id=\"T_3720d_row3_col0\" class=\"data row3 col0\" >Khan</td>\n",
              "      <td id=\"T_3720d_row3_col1\" class=\"data row3 col1\" >Manager</td>\n",
              "      <td id=\"T_3720d_row3_col2\" class=\"data row3 col2\" >30000</td>\n",
              "      <td id=\"T_3720d_row3_col3\" class=\"data row3 col3\" >0.07</td>\n",
              "      <td id=\"T_3720d_row3_col4\" class=\"data row3 col4\" >32100.00</td>\n",
              "      <td id=\"T_3720d_row3_col5\" class=\"data row3 col5\" >2000</td>\n",
              "    </tr>\n",
              "    <tr>\n",
              "      <td id=\"T_3720d_row4_col0\" class=\"data row4 col0\" >Sehwag</td>\n",
              "      <td id=\"T_3720d_row4_col1\" class=\"data row4 col1\" >Cus_Rep</td>\n",
              "      <td id=\"T_3720d_row4_col2\" class=\"data row4 col2\" >15000</td>\n",
              "      <td id=\"T_3720d_row4_col3\" class=\"data row4 col3\" >0.05</td>\n",
              "      <td id=\"T_3720d_row4_col4\" class=\"data row4 col4\" >15750.00</td>\n",
              "      <td id=\"T_3720d_row4_col5\" class=\"data row4 col5\" >0</td>\n",
              "    </tr>\n",
              "    <tr>\n",
              "      <td id=\"T_3720d_row5_col0\" class=\"data row5 col0\" >Dhoni</td>\n",
              "      <td id=\"T_3720d_row5_col1\" class=\"data row5 col1\" >Clerk</td>\n",
              "      <td id=\"T_3720d_row5_col2\" class=\"data row5 col2\" >9000</td>\n",
              "      <td id=\"T_3720d_row5_col3\" class=\"data row5 col3\" >0.02</td>\n",
              "      <td id=\"T_3720d_row5_col4\" class=\"data row5 col4\" >9180.00</td>\n",
              "      <td id=\"T_3720d_row5_col5\" class=\"data row5 col5\" >0</td>\n",
              "    </tr>\n",
              "    <tr>\n",
              "      <td id=\"T_3720d_row6_col0\" class=\"data row6 col0\" >Dravid</td>\n",
              "      <td id=\"T_3720d_row6_col1\" class=\"data row6 col1\" >Sr Manager</td>\n",
              "      <td id=\"T_3720d_row6_col2\" class=\"data row6 col2\" >40000</td>\n",
              "      <td id=\"T_3720d_row6_col3\" class=\"data row6 col3\" >0.08</td>\n",
              "      <td id=\"T_3720d_row6_col4\" class=\"data row6 col4\" >43200.00</td>\n",
              "      <td id=\"T_3720d_row6_col5\" class=\"data row6 col5\" >2000</td>\n",
              "    </tr>\n",
              "    <tr>\n",
              "      <td id=\"T_3720d_row7_col0\" class=\"data row7 col0\" >Dalmia</td>\n",
              "      <td id=\"T_3720d_row7_col1\" class=\"data row7 col1\" >Clerk</td>\n",
              "      <td id=\"T_3720d_row7_col2\" class=\"data row7 col2\" >12000</td>\n",
              "      <td id=\"T_3720d_row7_col3\" class=\"data row7 col3\" >0.02</td>\n",
              "      <td id=\"T_3720d_row7_col4\" class=\"data row7 col4\" >12240.00</td>\n",
              "      <td id=\"T_3720d_row7_col5\" class=\"data row7 col5\" >0</td>\n",
              "    </tr>\n",
              "    <tr>\n",
              "      <td id=\"T_3720d_row8_col0\" class=\"data row8 col0\" >Ganguly</td>\n",
              "      <td id=\"T_3720d_row8_col1\" class=\"data row8 col1\" >Cus_Rep</td>\n",
              "      <td id=\"T_3720d_row8_col2\" class=\"data row8 col2\" >20000</td>\n",
              "      <td id=\"T_3720d_row8_col3\" class=\"data row8 col3\" >0.03</td>\n",
              "      <td id=\"T_3720d_row8_col4\" class=\"data row8 col4\" >20600.00</td>\n",
              "      <td id=\"T_3720d_row8_col5\" class=\"data row8 col5\" >0</td>\n",
              "    </tr>\n",
              "    <tr>\n",
              "      <td id=\"T_3720d_row9_col0\" class=\"data row9 col0\" >Ganesan</td>\n",
              "      <td id=\"T_3720d_row9_col1\" class=\"data row9 col1\" >Director</td>\n",
              "      <td id=\"T_3720d_row9_col2\" class=\"data row9 col2\" >60000</td>\n",
              "      <td id=\"T_3720d_row9_col3\" class=\"data row9 col3\" >0.11</td>\n",
              "      <td id=\"T_3720d_row9_col4\" class=\"data row9 col4\" >66600.00</td>\n",
              "      <td id=\"T_3720d_row9_col5\" class=\"data row9 col5\" >0</td>\n",
              "    </tr>\n",
              "    <tr>\n",
              "      <td id=\"T_3720d_row10_col0\" class=\"data row10 col0\" >Karthikeyan</td>\n",
              "      <td id=\"T_3720d_row10_col1\" class=\"data row10 col1\" >Secretary</td>\n",
              "      <td id=\"T_3720d_row10_col2\" class=\"data row10 col2\" >40000</td>\n",
              "      <td id=\"T_3720d_row10_col3\" class=\"data row10 col3\" >0.09</td>\n",
              "      <td id=\"T_3720d_row10_col4\" class=\"data row10 col4\" >43600.00</td>\n",
              "      <td id=\"T_3720d_row10_col5\" class=\"data row10 col5\" >0</td>\n",
              "    </tr>\n",
              "    <tr>\n",
              "      <td id=\"T_3720d_row11_col0\" class=\"data row11 col0\" >Sunil</td>\n",
              "      <td id=\"T_3720d_row11_col1\" class=\"data row11 col1\" >Dy Manager</td>\n",
              "      <td id=\"T_3720d_row11_col2\" class=\"data row11 col2\" >40000</td>\n",
              "      <td id=\"T_3720d_row11_col3\" class=\"data row11 col3\" >0.05</td>\n",
              "      <td id=\"T_3720d_row11_col4\" class=\"data row11 col4\" >42000.00</td>\n",
              "      <td id=\"T_3720d_row11_col5\" class=\"data row11 col5\" >2000</td>\n",
              "    </tr>\n",
              "    <tr>\n",
              "      <td id=\"T_3720d_row12_col0\" class=\"data row12 col0\" >Mirza</td>\n",
              "      <td id=\"T_3720d_row12_col1\" class=\"data row12 col1\" >Cus_Rep</td>\n",
              "      <td id=\"T_3720d_row12_col2\" class=\"data row12 col2\" >25000</td>\n",
              "      <td id=\"T_3720d_row12_col3\" class=\"data row12 col3\" >0.04</td>\n",
              "      <td id=\"T_3720d_row12_col4\" class=\"data row12 col4\" >26000.00</td>\n",
              "      <td id=\"T_3720d_row12_col5\" class=\"data row12 col5\" >0</td>\n",
              "    </tr>\n",
              "  </tbody>\n",
              "</table>\n"
            ]
          },
          "metadata": {},
          "execution_count": 47
        }
      ]
    },
    {
      "cell_type": "code",
      "source": [
        "runSelect(\"select lastname, deptid,\\\n",
        "case \\\n",
        "when deptid in ('10','20') then 'Head' \\\n",
        "when deptid = '30' then 'Regional'\\\n",
        "else 'Branch' \\\n",
        "end \\\n",
        " office from empl\")"
      ],
      "metadata": {
        "colab": {
          "base_uri": "https://localhost:8080/",
          "height": 457
        },
        "id": "jbpKn1y0DwYG",
        "outputId": "b15fd874-d45e-4cb5-db73-0aff074c0dcf"
      },
      "execution_count": 48,
      "outputs": [
        {
          "output_type": "execute_result",
          "data": {
            "text/plain": [
              "<pandas.io.formats.style.Styler at 0x7a119490b750>"
            ],
            "text/html": [
              "<style type=\"text/css\">\n",
              "</style>\n",
              "<table id=\"T_5fca8\" class=\"dataframe\">\n",
              "  <thead>\n",
              "    <tr>\n",
              "      <th id=\"T_5fca8_level0_col0\" class=\"col_heading level0 col0\" >lastname</th>\n",
              "      <th id=\"T_5fca8_level0_col1\" class=\"col_heading level0 col1\" >deptid</th>\n",
              "      <th id=\"T_5fca8_level0_col2\" class=\"col_heading level0 col2\" >office</th>\n",
              "    </tr>\n",
              "  </thead>\n",
              "  <tbody>\n",
              "    <tr>\n",
              "      <td id=\"T_5fca8_row0_col0\" class=\"data row0 col0\" >Bacchan</td>\n",
              "      <td id=\"T_5fca8_row0_col1\" class=\"data row0 col1\" >10</td>\n",
              "      <td id=\"T_5fca8_row0_col2\" class=\"data row0 col2\" >Head</td>\n",
              "    </tr>\n",
              "    <tr>\n",
              "      <td id=\"T_5fca8_row1_col0\" class=\"data row1 col0\" >Mukherjee</td>\n",
              "      <td id=\"T_5fca8_row1_col1\" class=\"data row1 col1\" >40</td>\n",
              "      <td id=\"T_5fca8_row1_col2\" class=\"data row1 col2\" >Branch</td>\n",
              "    </tr>\n",
              "    <tr>\n",
              "      <td id=\"T_5fca8_row2_col0\" class=\"data row2 col0\" >Dikshit</td>\n",
              "      <td id=\"T_5fca8_row2_col1\" class=\"data row2 col1\" >20</td>\n",
              "      <td id=\"T_5fca8_row2_col2\" class=\"data row2 col2\" >Head</td>\n",
              "    </tr>\n",
              "    <tr>\n",
              "      <td id=\"T_5fca8_row3_col0\" class=\"data row3 col0\" >Khan</td>\n",
              "      <td id=\"T_5fca8_row3_col1\" class=\"data row3 col1\" >20</td>\n",
              "      <td id=\"T_5fca8_row3_col2\" class=\"data row3 col2\" >Head</td>\n",
              "    </tr>\n",
              "    <tr>\n",
              "      <td id=\"T_5fca8_row4_col0\" class=\"data row4 col0\" >Sehwag</td>\n",
              "      <td id=\"T_5fca8_row4_col1\" class=\"data row4 col1\" >20</td>\n",
              "      <td id=\"T_5fca8_row4_col2\" class=\"data row4 col2\" >Head</td>\n",
              "    </tr>\n",
              "    <tr>\n",
              "      <td id=\"T_5fca8_row5_col0\" class=\"data row5 col0\" >Dhoni</td>\n",
              "      <td id=\"T_5fca8_row5_col1\" class=\"data row5 col1\" >40</td>\n",
              "      <td id=\"T_5fca8_row5_col2\" class=\"data row5 col2\" >Branch</td>\n",
              "    </tr>\n",
              "    <tr>\n",
              "      <td id=\"T_5fca8_row6_col0\" class=\"data row6 col0\" >Dravid</td>\n",
              "      <td id=\"T_5fca8_row6_col1\" class=\"data row6 col1\" >30</td>\n",
              "      <td id=\"T_5fca8_row6_col2\" class=\"data row6 col2\" >Regional</td>\n",
              "    </tr>\n",
              "    <tr>\n",
              "      <td id=\"T_5fca8_row7_col0\" class=\"data row7 col0\" >Dalmia</td>\n",
              "      <td id=\"T_5fca8_row7_col1\" class=\"data row7 col1\" >30</td>\n",
              "      <td id=\"T_5fca8_row7_col2\" class=\"data row7 col2\" >Regional</td>\n",
              "    </tr>\n",
              "    <tr>\n",
              "      <td id=\"T_5fca8_row8_col0\" class=\"data row8 col0\" >Ganguly</td>\n",
              "      <td id=\"T_5fca8_row8_col1\" class=\"data row8 col1\" >40</td>\n",
              "      <td id=\"T_5fca8_row8_col2\" class=\"data row8 col2\" >Branch</td>\n",
              "    </tr>\n",
              "    <tr>\n",
              "      <td id=\"T_5fca8_row9_col0\" class=\"data row9 col0\" >Ganesan</td>\n",
              "      <td id=\"T_5fca8_row9_col1\" class=\"data row9 col1\" >10</td>\n",
              "      <td id=\"T_5fca8_row9_col2\" class=\"data row9 col2\" >Head</td>\n",
              "    </tr>\n",
              "    <tr>\n",
              "      <td id=\"T_5fca8_row10_col0\" class=\"data row10 col0\" >Karthikeyan</td>\n",
              "      <td id=\"T_5fca8_row10_col1\" class=\"data row10 col1\" >10</td>\n",
              "      <td id=\"T_5fca8_row10_col2\" class=\"data row10 col2\" >Head</td>\n",
              "    </tr>\n",
              "    <tr>\n",
              "      <td id=\"T_5fca8_row11_col0\" class=\"data row11 col0\" >Sunil</td>\n",
              "      <td id=\"T_5fca8_row11_col1\" class=\"data row11 col1\" >70</td>\n",
              "      <td id=\"T_5fca8_row11_col2\" class=\"data row11 col2\" >Branch</td>\n",
              "    </tr>\n",
              "    <tr>\n",
              "      <td id=\"T_5fca8_row12_col0\" class=\"data row12 col0\" >Mirza</td>\n",
              "      <td id=\"T_5fca8_row12_col1\" class=\"data row12 col1\" >30</td>\n",
              "      <td id=\"T_5fca8_row12_col2\" class=\"data row12 col2\" >Regional</td>\n",
              "    </tr>\n",
              "  </tbody>\n",
              "</table>\n"
            ]
          },
          "metadata": {},
          "execution_count": 48
        }
      ]
    },
    {
      "cell_type": "markdown",
      "source": [
        "#Join"
      ],
      "metadata": {
        "id": "Rs10ezIPpP0C"
      }
    },
    {
      "cell_type": "markdown",
      "source": [
        "## Basic Inner Join"
      ],
      "metadata": {
        "id": "XMfZP6HUpT4B"
      }
    },
    {
      "cell_type": "code",
      "source": [
        "sql = 'select firstname, lastname, salary, deptname, location, managerid from empl, dept where empl.deptid = dept.deptid'\n",
        "runSelect(sql)"
      ],
      "metadata": {
        "colab": {
          "base_uri": "https://localhost:8080/",
          "height": 426
        },
        "id": "ISiD-VP6pbUz",
        "outputId": "d0f89980-d299-4b6f-81ed-8b86a245174a"
      },
      "execution_count": 49,
      "outputs": [
        {
          "output_type": "execute_result",
          "data": {
            "text/plain": [
              "<pandas.io.formats.style.Styler at 0x7a11947d5310>"
            ],
            "text/html": [
              "<style type=\"text/css\">\n",
              "</style>\n",
              "<table id=\"T_15d87\" class=\"dataframe\">\n",
              "  <thead>\n",
              "    <tr>\n",
              "      <th id=\"T_15d87_level0_col0\" class=\"col_heading level0 col0\" >firstname</th>\n",
              "      <th id=\"T_15d87_level0_col1\" class=\"col_heading level0 col1\" >lastname</th>\n",
              "      <th id=\"T_15d87_level0_col2\" class=\"col_heading level0 col2\" >salary</th>\n",
              "      <th id=\"T_15d87_level0_col3\" class=\"col_heading level0 col3\" >deptname</th>\n",
              "      <th id=\"T_15d87_level0_col4\" class=\"col_heading level0 col4\" >location</th>\n",
              "      <th id=\"T_15d87_level0_col5\" class=\"col_heading level0 col5\" >managerid</th>\n",
              "    </tr>\n",
              "  </thead>\n",
              "  <tbody>\n",
              "    <tr>\n",
              "      <td id=\"T_15d87_row0_col0\" class=\"data row0 col0\" >Narayan</td>\n",
              "      <td id=\"T_15d87_row0_col1\" class=\"data row0 col1\" >Karthikeyan</td>\n",
              "      <td id=\"T_15d87_row0_col2\" class=\"data row0 col2\" >40000</td>\n",
              "      <td id=\"T_15d87_row0_col3\" class=\"data row0 col3\" >Corporate</td>\n",
              "      <td id=\"T_15d87_row0_col4\" class=\"data row0 col4\" >Calcutta</td>\n",
              "      <td id=\"T_15d87_row0_col5\" class=\"data row0 col5\" >299034</td>\n",
              "    </tr>\n",
              "    <tr>\n",
              "      <td id=\"T_15d87_row1_col0\" class=\"data row1 col0\" >Rekha</td>\n",
              "      <td id=\"T_15d87_row1_col1\" class=\"data row1 col1\" >Ganesan</td>\n",
              "      <td id=\"T_15d87_row1_col2\" class=\"data row1 col2\" >60000</td>\n",
              "      <td id=\"T_15d87_row1_col3\" class=\"data row1 col3\" >Corporate</td>\n",
              "      <td id=\"T_15d87_row1_col4\" class=\"data row1 col4\" >Calcutta</td>\n",
              "      <td id=\"T_15d87_row1_col5\" class=\"data row1 col5\" >299034</td>\n",
              "    </tr>\n",
              "    <tr>\n",
              "      <td id=\"T_15d87_row2_col0\" class=\"data row2 col0\" >Amitabh</td>\n",
              "      <td id=\"T_15d87_row2_col1\" class=\"data row2 col1\" >Bacchan</td>\n",
              "      <td id=\"T_15d87_row2_col2\" class=\"data row2 col2\" >50000</td>\n",
              "      <td id=\"T_15d87_row2_col3\" class=\"data row2 col3\" >Corporate</td>\n",
              "      <td id=\"T_15d87_row2_col4\" class=\"data row2 col4\" >Calcutta</td>\n",
              "      <td id=\"T_15d87_row2_col5\" class=\"data row2 col5\" >299034</td>\n",
              "    </tr>\n",
              "    <tr>\n",
              "      <td id=\"T_15d87_row3_col0\" class=\"data row3 col0\" >Virender</td>\n",
              "      <td id=\"T_15d87_row3_col1\" class=\"data row3 col1\" >Sehwag</td>\n",
              "      <td id=\"T_15d87_row3_col2\" class=\"data row3 col2\" >15000</td>\n",
              "      <td id=\"T_15d87_row3_col3\" class=\"data row3 col3\" >Sales</td>\n",
              "      <td id=\"T_15d87_row3_col4\" class=\"data row3 col4\" >Calcutta</td>\n",
              "      <td id=\"T_15d87_row3_col5\" class=\"data row3 col5\" >239456</td>\n",
              "    </tr>\n",
              "    <tr>\n",
              "      <td id=\"T_15d87_row4_col0\" class=\"data row4 col0\" >Shahrukh</td>\n",
              "      <td id=\"T_15d87_row4_col1\" class=\"data row4 col1\" >Khan</td>\n",
              "      <td id=\"T_15d87_row4_col2\" class=\"data row4 col2\" >30000</td>\n",
              "      <td id=\"T_15d87_row4_col3\" class=\"data row4 col3\" >Sales</td>\n",
              "      <td id=\"T_15d87_row4_col4\" class=\"data row4 col4\" >Calcutta</td>\n",
              "      <td id=\"T_15d87_row4_col5\" class=\"data row4 col5\" >239456</td>\n",
              "    </tr>\n",
              "    <tr>\n",
              "      <td id=\"T_15d87_row5_col0\" class=\"data row5 col0\" >Madhuri</td>\n",
              "      <td id=\"T_15d87_row5_col1\" class=\"data row5 col1\" >Dikshit</td>\n",
              "      <td id=\"T_15d87_row5_col2\" class=\"data row5 col2\" >10000</td>\n",
              "      <td id=\"T_15d87_row5_col3\" class=\"data row5 col3\" >Sales</td>\n",
              "      <td id=\"T_15d87_row5_col4\" class=\"data row5 col4\" >Calcutta</td>\n",
              "      <td id=\"T_15d87_row5_col5\" class=\"data row5 col5\" >239456</td>\n",
              "    </tr>\n",
              "    <tr>\n",
              "      <td id=\"T_15d87_row6_col0\" class=\"data row6 col0\" >Sania</td>\n",
              "      <td id=\"T_15d87_row6_col1\" class=\"data row6 col1\" >Mirza</td>\n",
              "      <td id=\"T_15d87_row6_col2\" class=\"data row6 col2\" >25000</td>\n",
              "      <td id=\"T_15d87_row6_col3\" class=\"data row6 col3\" >Accounts</td>\n",
              "      <td id=\"T_15d87_row6_col4\" class=\"data row6 col4\" >Calcutta</td>\n",
              "      <td id=\"T_15d87_row6_col5\" class=\"data row6 col5\" >822134</td>\n",
              "    </tr>\n",
              "    <tr>\n",
              "      <td id=\"T_15d87_row7_col0\" class=\"data row7 col0\" >Jagmohan</td>\n",
              "      <td id=\"T_15d87_row7_col1\" class=\"data row7 col1\" >Dalmia</td>\n",
              "      <td id=\"T_15d87_row7_col2\" class=\"data row7 col2\" >12000</td>\n",
              "      <td id=\"T_15d87_row7_col3\" class=\"data row7 col3\" >Accounts</td>\n",
              "      <td id=\"T_15d87_row7_col4\" class=\"data row7 col4\" >Calcutta</td>\n",
              "      <td id=\"T_15d87_row7_col5\" class=\"data row7 col5\" >822134</td>\n",
              "    </tr>\n",
              "    <tr>\n",
              "      <td id=\"T_15d87_row8_col0\" class=\"data row8 col0\" >Rahul</td>\n",
              "      <td id=\"T_15d87_row8_col1\" class=\"data row8 col1\" >Dravid</td>\n",
              "      <td id=\"T_15d87_row8_col2\" class=\"data row8 col2\" >40000</td>\n",
              "      <td id=\"T_15d87_row8_col3\" class=\"data row8 col3\" >Accounts</td>\n",
              "      <td id=\"T_15d87_row8_col4\" class=\"data row8 col4\" >Calcutta</td>\n",
              "      <td id=\"T_15d87_row8_col5\" class=\"data row8 col5\" >822134</td>\n",
              "    </tr>\n",
              "    <tr>\n",
              "      <td id=\"T_15d87_row9_col0\" class=\"data row9 col0\" >Sourav</td>\n",
              "      <td id=\"T_15d87_row9_col1\" class=\"data row9 col1\" >Ganguly</td>\n",
              "      <td id=\"T_15d87_row9_col2\" class=\"data row9 col2\" >20000</td>\n",
              "      <td id=\"T_15d87_row9_col3\" class=\"data row9 col3\" >Production</td>\n",
              "      <td id=\"T_15d87_row9_col4\" class=\"data row9 col4\" >Bombay</td>\n",
              "      <td id=\"T_15d87_row9_col5\" class=\"data row9 col5\" >349870</td>\n",
              "    </tr>\n",
              "    <tr>\n",
              "      <td id=\"T_15d87_row10_col0\" class=\"data row10 col0\" >Mahender</td>\n",
              "      <td id=\"T_15d87_row10_col1\" class=\"data row10 col1\" >Dhoni</td>\n",
              "      <td id=\"T_15d87_row10_col2\" class=\"data row10 col2\" >9000</td>\n",
              "      <td id=\"T_15d87_row10_col3\" class=\"data row10 col3\" >Production</td>\n",
              "      <td id=\"T_15d87_row10_col4\" class=\"data row10 col4\" >Bombay</td>\n",
              "      <td id=\"T_15d87_row10_col5\" class=\"data row10 col5\" >349870</td>\n",
              "    </tr>\n",
              "    <tr>\n",
              "      <td id=\"T_15d87_row11_col0\" class=\"data row11 col0\" >Rani</td>\n",
              "      <td id=\"T_15d87_row11_col1\" class=\"data row11 col1\" >Mukherjee</td>\n",
              "      <td id=\"T_15d87_row11_col2\" class=\"data row11 col2\" >25000</td>\n",
              "      <td id=\"T_15d87_row11_col3\" class=\"data row11 col3\" >Production</td>\n",
              "      <td id=\"T_15d87_row11_col4\" class=\"data row11 col4\" >Bombay</td>\n",
              "      <td id=\"T_15d87_row11_col5\" class=\"data row11 col5\" >349870</td>\n",
              "    </tr>\n",
              "  </tbody>\n",
              "</table>\n"
            ]
          },
          "metadata": {},
          "execution_count": 49
        }
      ]
    },
    {
      "cell_type": "code",
      "source": [
        "sql = 'select empid, firstname, deptname, location from empl INNER JOIN dept ON empl.deptid = dept.deptid'\n",
        "runSelect(sql)"
      ],
      "metadata": {
        "colab": {
          "base_uri": "https://localhost:8080/",
          "height": 426
        },
        "id": "LVrEArEc1VcF",
        "outputId": "ee37a20b-2c1b-467a-fdd3-ee9f15ba9620"
      },
      "execution_count": 50,
      "outputs": [
        {
          "output_type": "execute_result",
          "data": {
            "text/plain": [
              "<pandas.io.formats.style.Styler at 0x7a11947e3510>"
            ],
            "text/html": [
              "<style type=\"text/css\">\n",
              "</style>\n",
              "<table id=\"T_42c18\" class=\"dataframe\">\n",
              "  <thead>\n",
              "    <tr>\n",
              "      <th id=\"T_42c18_level0_col0\" class=\"col_heading level0 col0\" >empid</th>\n",
              "      <th id=\"T_42c18_level0_col1\" class=\"col_heading level0 col1\" >firstname</th>\n",
              "      <th id=\"T_42c18_level0_col2\" class=\"col_heading level0 col2\" >deptname</th>\n",
              "      <th id=\"T_42c18_level0_col3\" class=\"col_heading level0 col3\" >location</th>\n",
              "    </tr>\n",
              "  </thead>\n",
              "  <tbody>\n",
              "    <tr>\n",
              "      <td id=\"T_42c18_row0_col0\" class=\"data row0 col0\" >546223</td>\n",
              "      <td id=\"T_42c18_row0_col1\" class=\"data row0 col1\" >Narayan</td>\n",
              "      <td id=\"T_42c18_row0_col2\" class=\"data row0 col2\" >Corporate</td>\n",
              "      <td id=\"T_42c18_row0_col3\" class=\"data row0 col3\" >Calcutta</td>\n",
              "    </tr>\n",
              "    <tr>\n",
              "      <td id=\"T_42c18_row1_col0\" class=\"data row1 col0\" >299034</td>\n",
              "      <td id=\"T_42c18_row1_col1\" class=\"data row1 col1\" >Rekha</td>\n",
              "      <td id=\"T_42c18_row1_col2\" class=\"data row1 col2\" >Corporate</td>\n",
              "      <td id=\"T_42c18_row1_col3\" class=\"data row1 col3\" >Calcutta</td>\n",
              "    </tr>\n",
              "    <tr>\n",
              "      <td id=\"T_42c18_row2_col0\" class=\"data row2 col0\" >742866</td>\n",
              "      <td id=\"T_42c18_row2_col1\" class=\"data row2 col1\" >Amitabh</td>\n",
              "      <td id=\"T_42c18_row2_col2\" class=\"data row2 col2\" >Corporate</td>\n",
              "      <td id=\"T_42c18_row2_col3\" class=\"data row2 col3\" >Calcutta</td>\n",
              "    </tr>\n",
              "    <tr>\n",
              "      <td id=\"T_42c18_row3_col0\" class=\"data row3 col0\" >897889</td>\n",
              "      <td id=\"T_42c18_row3_col1\" class=\"data row3 col1\" >Virender</td>\n",
              "      <td id=\"T_42c18_row3_col2\" class=\"data row3 col2\" >Sales</td>\n",
              "      <td id=\"T_42c18_row3_col3\" class=\"data row3 col3\" >Calcutta</td>\n",
              "    </tr>\n",
              "    <tr>\n",
              "      <td id=\"T_42c18_row4_col0\" class=\"data row4 col0\" >239456</td>\n",
              "      <td id=\"T_42c18_row4_col1\" class=\"data row4 col1\" >Shahrukh</td>\n",
              "      <td id=\"T_42c18_row4_col2\" class=\"data row4 col2\" >Sales</td>\n",
              "      <td id=\"T_42c18_row4_col3\" class=\"data row4 col3\" >Calcutta</td>\n",
              "    </tr>\n",
              "    <tr>\n",
              "      <td id=\"T_42c18_row5_col0\" class=\"data row5 col0\" >865477</td>\n",
              "      <td id=\"T_42c18_row5_col1\" class=\"data row5 col1\" >Madhuri</td>\n",
              "      <td id=\"T_42c18_row5_col2\" class=\"data row5 col2\" >Sales</td>\n",
              "      <td id=\"T_42c18_row5_col3\" class=\"data row5 col3\" >Calcutta</td>\n",
              "    </tr>\n",
              "    <tr>\n",
              "      <td id=\"T_42c18_row6_col0\" class=\"data row6 col0\" >223112</td>\n",
              "      <td id=\"T_42c18_row6_col1\" class=\"data row6 col1\" >Sania</td>\n",
              "      <td id=\"T_42c18_row6_col2\" class=\"data row6 col2\" >Accounts</td>\n",
              "      <td id=\"T_42c18_row6_col3\" class=\"data row6 col3\" >Calcutta</td>\n",
              "    </tr>\n",
              "    <tr>\n",
              "      <td id=\"T_42c18_row7_col0\" class=\"data row7 col0\" >997445</td>\n",
              "      <td id=\"T_42c18_row7_col1\" class=\"data row7 col1\" >Jagmohan</td>\n",
              "      <td id=\"T_42c18_row7_col2\" class=\"data row7 col2\" >Accounts</td>\n",
              "      <td id=\"T_42c18_row7_col3\" class=\"data row7 col3\" >Calcutta</td>\n",
              "    </tr>\n",
              "    <tr>\n",
              "      <td id=\"T_42c18_row8_col0\" class=\"data row8 col0\" >822134</td>\n",
              "      <td id=\"T_42c18_row8_col1\" class=\"data row8 col1\" >Rahul</td>\n",
              "      <td id=\"T_42c18_row8_col2\" class=\"data row8 col2\" >Accounts</td>\n",
              "      <td id=\"T_42c18_row8_col3\" class=\"data row8 col3\" >Calcutta</td>\n",
              "    </tr>\n",
              "    <tr>\n",
              "      <td id=\"T_42c18_row9_col0\" class=\"data row9 col0\" >989007</td>\n",
              "      <td id=\"T_42c18_row9_col1\" class=\"data row9 col1\" >Sourav</td>\n",
              "      <td id=\"T_42c18_row9_col2\" class=\"data row9 col2\" >Production</td>\n",
              "      <td id=\"T_42c18_row9_col3\" class=\"data row9 col3\" >Bombay</td>\n",
              "    </tr>\n",
              "    <tr>\n",
              "      <td id=\"T_42c18_row10_col0\" class=\"data row10 col0\" >123980</td>\n",
              "      <td id=\"T_42c18_row10_col1\" class=\"data row10 col1\" >Mahender</td>\n",
              "      <td id=\"T_42c18_row10_col2\" class=\"data row10 col2\" >Production</td>\n",
              "      <td id=\"T_42c18_row10_col3\" class=\"data row10 col3\" >Bombay</td>\n",
              "    </tr>\n",
              "    <tr>\n",
              "      <td id=\"T_42c18_row11_col0\" class=\"data row11 col0\" >349870</td>\n",
              "      <td id=\"T_42c18_row11_col1\" class=\"data row11 col1\" >Rani</td>\n",
              "      <td id=\"T_42c18_row11_col2\" class=\"data row11 col2\" >Production</td>\n",
              "      <td id=\"T_42c18_row11_col3\" class=\"data row11 col3\" >Bombay</td>\n",
              "    </tr>\n",
              "  </tbody>\n",
              "</table>\n"
            ]
          },
          "metadata": {},
          "execution_count": 50
        }
      ]
    },
    {
      "cell_type": "code",
      "source": [
        "sql = 'select deptname,round(sum(salary),0) payroll from empl INNER JOIN dept ON empl.deptid = dept.deptid \\\n",
        "group by deptname'\n",
        "runSelect(sql)"
      ],
      "metadata": {
        "id": "pKk82QRi28DP",
        "outputId": "fc5076bc-667e-43aa-81cf-ed498d4d085d",
        "colab": {
          "base_uri": "https://localhost:8080/",
          "height": 175
        }
      },
      "execution_count": 51,
      "outputs": [
        {
          "output_type": "execute_result",
          "data": {
            "text/plain": [
              "<pandas.io.formats.style.Styler at 0x7a11949061d0>"
            ],
            "text/html": [
              "<style type=\"text/css\">\n",
              "</style>\n",
              "<table id=\"T_46f29\" class=\"dataframe\">\n",
              "  <thead>\n",
              "    <tr>\n",
              "      <th id=\"T_46f29_level0_col0\" class=\"col_heading level0 col0\" >deptname</th>\n",
              "      <th id=\"T_46f29_level0_col1\" class=\"col_heading level0 col1\" >payroll</th>\n",
              "    </tr>\n",
              "  </thead>\n",
              "  <tbody>\n",
              "    <tr>\n",
              "      <td id=\"T_46f29_row0_col0\" class=\"data row0 col0\" >Corporate</td>\n",
              "      <td id=\"T_46f29_row0_col1\" class=\"data row0 col1\" >150000</td>\n",
              "    </tr>\n",
              "    <tr>\n",
              "      <td id=\"T_46f29_row1_col0\" class=\"data row1 col0\" >Accounts</td>\n",
              "      <td id=\"T_46f29_row1_col1\" class=\"data row1 col1\" >77000</td>\n",
              "    </tr>\n",
              "    <tr>\n",
              "      <td id=\"T_46f29_row2_col0\" class=\"data row2 col0\" >Sales</td>\n",
              "      <td id=\"T_46f29_row2_col1\" class=\"data row2 col1\" >55000</td>\n",
              "    </tr>\n",
              "    <tr>\n",
              "      <td id=\"T_46f29_row3_col0\" class=\"data row3 col0\" >Production</td>\n",
              "      <td id=\"T_46f29_row3_col1\" class=\"data row3 col1\" >54000</td>\n",
              "    </tr>\n",
              "  </tbody>\n",
              "</table>\n"
            ]
          },
          "metadata": {},
          "execution_count": 51
        }
      ]
    },
    {
      "cell_type": "markdown",
      "source": [
        "## Outer Join"
      ],
      "metadata": {
        "id": "tK9uJHAL1u6x"
      }
    },
    {
      "cell_type": "markdown",
      "source": [
        "### Left Outer"
      ],
      "metadata": {
        "id": "5wGFVhyJ2x8S"
      }
    },
    {
      "cell_type": "code",
      "source": [
        "sql = 'select empid, firstname, deptname, location from empl LEFT JOIN dept ON empl.deptid = dept.deptid'\n",
        "runSelect(sql)"
      ],
      "metadata": {
        "colab": {
          "base_uri": "https://localhost:8080/",
          "height": 457
        },
        "id": "Ls6VfOXt1zTq",
        "outputId": "a327743c-df03-4fa4-a15e-7ea1be7d3e5f"
      },
      "execution_count": 52,
      "outputs": [
        {
          "output_type": "execute_result",
          "data": {
            "text/plain": [
              "<pandas.io.formats.style.Styler at 0x7a11948f3710>"
            ],
            "text/html": [
              "<style type=\"text/css\">\n",
              "</style>\n",
              "<table id=\"T_249fd\" class=\"dataframe\">\n",
              "  <thead>\n",
              "    <tr>\n",
              "      <th id=\"T_249fd_level0_col0\" class=\"col_heading level0 col0\" >empid</th>\n",
              "      <th id=\"T_249fd_level0_col1\" class=\"col_heading level0 col1\" >firstname</th>\n",
              "      <th id=\"T_249fd_level0_col2\" class=\"col_heading level0 col2\" >deptname</th>\n",
              "      <th id=\"T_249fd_level0_col3\" class=\"col_heading level0 col3\" >location</th>\n",
              "    </tr>\n",
              "  </thead>\n",
              "  <tbody>\n",
              "    <tr>\n",
              "      <td id=\"T_249fd_row0_col0\" class=\"data row0 col0\" >546223</td>\n",
              "      <td id=\"T_249fd_row0_col1\" class=\"data row0 col1\" >Narayan</td>\n",
              "      <td id=\"T_249fd_row0_col2\" class=\"data row0 col2\" >Corporate</td>\n",
              "      <td id=\"T_249fd_row0_col3\" class=\"data row0 col3\" >Calcutta</td>\n",
              "    </tr>\n",
              "    <tr>\n",
              "      <td id=\"T_249fd_row1_col0\" class=\"data row1 col0\" >299034</td>\n",
              "      <td id=\"T_249fd_row1_col1\" class=\"data row1 col1\" >Rekha</td>\n",
              "      <td id=\"T_249fd_row1_col2\" class=\"data row1 col2\" >Corporate</td>\n",
              "      <td id=\"T_249fd_row1_col3\" class=\"data row1 col3\" >Calcutta</td>\n",
              "    </tr>\n",
              "    <tr>\n",
              "      <td id=\"T_249fd_row2_col0\" class=\"data row2 col0\" >742866</td>\n",
              "      <td id=\"T_249fd_row2_col1\" class=\"data row2 col1\" >Amitabh</td>\n",
              "      <td id=\"T_249fd_row2_col2\" class=\"data row2 col2\" >Corporate</td>\n",
              "      <td id=\"T_249fd_row2_col3\" class=\"data row2 col3\" >Calcutta</td>\n",
              "    </tr>\n",
              "    <tr>\n",
              "      <td id=\"T_249fd_row3_col0\" class=\"data row3 col0\" >897889</td>\n",
              "      <td id=\"T_249fd_row3_col1\" class=\"data row3 col1\" >Virender</td>\n",
              "      <td id=\"T_249fd_row3_col2\" class=\"data row3 col2\" >Sales</td>\n",
              "      <td id=\"T_249fd_row3_col3\" class=\"data row3 col3\" >Calcutta</td>\n",
              "    </tr>\n",
              "    <tr>\n",
              "      <td id=\"T_249fd_row4_col0\" class=\"data row4 col0\" >239456</td>\n",
              "      <td id=\"T_249fd_row4_col1\" class=\"data row4 col1\" >Shahrukh</td>\n",
              "      <td id=\"T_249fd_row4_col2\" class=\"data row4 col2\" >Sales</td>\n",
              "      <td id=\"T_249fd_row4_col3\" class=\"data row4 col3\" >Calcutta</td>\n",
              "    </tr>\n",
              "    <tr>\n",
              "      <td id=\"T_249fd_row5_col0\" class=\"data row5 col0\" >865477</td>\n",
              "      <td id=\"T_249fd_row5_col1\" class=\"data row5 col1\" >Madhuri</td>\n",
              "      <td id=\"T_249fd_row5_col2\" class=\"data row5 col2\" >Sales</td>\n",
              "      <td id=\"T_249fd_row5_col3\" class=\"data row5 col3\" >Calcutta</td>\n",
              "    </tr>\n",
              "    <tr>\n",
              "      <td id=\"T_249fd_row6_col0\" class=\"data row6 col0\" >223112</td>\n",
              "      <td id=\"T_249fd_row6_col1\" class=\"data row6 col1\" >Sania</td>\n",
              "      <td id=\"T_249fd_row6_col2\" class=\"data row6 col2\" >Accounts</td>\n",
              "      <td id=\"T_249fd_row6_col3\" class=\"data row6 col3\" >Calcutta</td>\n",
              "    </tr>\n",
              "    <tr>\n",
              "      <td id=\"T_249fd_row7_col0\" class=\"data row7 col0\" >997445</td>\n",
              "      <td id=\"T_249fd_row7_col1\" class=\"data row7 col1\" >Jagmohan</td>\n",
              "      <td id=\"T_249fd_row7_col2\" class=\"data row7 col2\" >Accounts</td>\n",
              "      <td id=\"T_249fd_row7_col3\" class=\"data row7 col3\" >Calcutta</td>\n",
              "    </tr>\n",
              "    <tr>\n",
              "      <td id=\"T_249fd_row8_col0\" class=\"data row8 col0\" >822134</td>\n",
              "      <td id=\"T_249fd_row8_col1\" class=\"data row8 col1\" >Rahul</td>\n",
              "      <td id=\"T_249fd_row8_col2\" class=\"data row8 col2\" >Accounts</td>\n",
              "      <td id=\"T_249fd_row8_col3\" class=\"data row8 col3\" >Calcutta</td>\n",
              "    </tr>\n",
              "    <tr>\n",
              "      <td id=\"T_249fd_row9_col0\" class=\"data row9 col0\" >989007</td>\n",
              "      <td id=\"T_249fd_row9_col1\" class=\"data row9 col1\" >Sourav</td>\n",
              "      <td id=\"T_249fd_row9_col2\" class=\"data row9 col2\" >Production</td>\n",
              "      <td id=\"T_249fd_row9_col3\" class=\"data row9 col3\" >Bombay</td>\n",
              "    </tr>\n",
              "    <tr>\n",
              "      <td id=\"T_249fd_row10_col0\" class=\"data row10 col0\" >123980</td>\n",
              "      <td id=\"T_249fd_row10_col1\" class=\"data row10 col1\" >Mahender</td>\n",
              "      <td id=\"T_249fd_row10_col2\" class=\"data row10 col2\" >Production</td>\n",
              "      <td id=\"T_249fd_row10_col3\" class=\"data row10 col3\" >Bombay</td>\n",
              "    </tr>\n",
              "    <tr>\n",
              "      <td id=\"T_249fd_row11_col0\" class=\"data row11 col0\" >349870</td>\n",
              "      <td id=\"T_249fd_row11_col1\" class=\"data row11 col1\" >Rani</td>\n",
              "      <td id=\"T_249fd_row11_col2\" class=\"data row11 col2\" >Production</td>\n",
              "      <td id=\"T_249fd_row11_col3\" class=\"data row11 col3\" >Bombay</td>\n",
              "    </tr>\n",
              "    <tr>\n",
              "      <td id=\"T_249fd_row12_col0\" class=\"data row12 col0\" >546224</td>\n",
              "      <td id=\"T_249fd_row12_col1\" class=\"data row12 col1\" >Chettri</td>\n",
              "      <td id=\"T_249fd_row12_col2\" class=\"data row12 col2\" >None</td>\n",
              "      <td id=\"T_249fd_row12_col3\" class=\"data row12 col3\" >None</td>\n",
              "    </tr>\n",
              "  </tbody>\n",
              "</table>\n"
            ]
          },
          "metadata": {},
          "execution_count": 52
        }
      ]
    },
    {
      "cell_type": "markdown",
      "source": [
        "### Right Outer"
      ],
      "metadata": {
        "id": "iJ6DASb121Og"
      }
    },
    {
      "cell_type": "code",
      "source": [
        "sql = 'select empid, firstname, deptname, location from empl RIGHT JOIN dept ON empl.deptid = dept.deptid'\n",
        "runSelect(sql)"
      ],
      "metadata": {
        "colab": {
          "base_uri": "https://localhost:8080/",
          "height": 457
        },
        "id": "khvQpQ4E2XND",
        "outputId": "819e9d63-fa62-47c8-82cf-56987e1fdee3"
      },
      "execution_count": 53,
      "outputs": [
        {
          "output_type": "execute_result",
          "data": {
            "text/plain": [
              "<pandas.io.formats.style.Styler at 0x7a11947d4410>"
            ],
            "text/html": [
              "<style type=\"text/css\">\n",
              "</style>\n",
              "<table id=\"T_23797\" class=\"dataframe\">\n",
              "  <thead>\n",
              "    <tr>\n",
              "      <th id=\"T_23797_level0_col0\" class=\"col_heading level0 col0\" >empid</th>\n",
              "      <th id=\"T_23797_level0_col1\" class=\"col_heading level0 col1\" >firstname</th>\n",
              "      <th id=\"T_23797_level0_col2\" class=\"col_heading level0 col2\" >deptname</th>\n",
              "      <th id=\"T_23797_level0_col3\" class=\"col_heading level0 col3\" >location</th>\n",
              "    </tr>\n",
              "  </thead>\n",
              "  <tbody>\n",
              "    <tr>\n",
              "      <td id=\"T_23797_row0_col0\" class=\"data row0 col0\" >546223</td>\n",
              "      <td id=\"T_23797_row0_col1\" class=\"data row0 col1\" >Narayan</td>\n",
              "      <td id=\"T_23797_row0_col2\" class=\"data row0 col2\" >Corporate</td>\n",
              "      <td id=\"T_23797_row0_col3\" class=\"data row0 col3\" >Calcutta</td>\n",
              "    </tr>\n",
              "    <tr>\n",
              "      <td id=\"T_23797_row1_col0\" class=\"data row1 col0\" >299034</td>\n",
              "      <td id=\"T_23797_row1_col1\" class=\"data row1 col1\" >Rekha</td>\n",
              "      <td id=\"T_23797_row1_col2\" class=\"data row1 col2\" >Corporate</td>\n",
              "      <td id=\"T_23797_row1_col3\" class=\"data row1 col3\" >Calcutta</td>\n",
              "    </tr>\n",
              "    <tr>\n",
              "      <td id=\"T_23797_row2_col0\" class=\"data row2 col0\" >742866</td>\n",
              "      <td id=\"T_23797_row2_col1\" class=\"data row2 col1\" >Amitabh</td>\n",
              "      <td id=\"T_23797_row2_col2\" class=\"data row2 col2\" >Corporate</td>\n",
              "      <td id=\"T_23797_row2_col3\" class=\"data row2 col3\" >Calcutta</td>\n",
              "    </tr>\n",
              "    <tr>\n",
              "      <td id=\"T_23797_row3_col0\" class=\"data row3 col0\" >897889</td>\n",
              "      <td id=\"T_23797_row3_col1\" class=\"data row3 col1\" >Virender</td>\n",
              "      <td id=\"T_23797_row3_col2\" class=\"data row3 col2\" >Sales</td>\n",
              "      <td id=\"T_23797_row3_col3\" class=\"data row3 col3\" >Calcutta</td>\n",
              "    </tr>\n",
              "    <tr>\n",
              "      <td id=\"T_23797_row4_col0\" class=\"data row4 col0\" >239456</td>\n",
              "      <td id=\"T_23797_row4_col1\" class=\"data row4 col1\" >Shahrukh</td>\n",
              "      <td id=\"T_23797_row4_col2\" class=\"data row4 col2\" >Sales</td>\n",
              "      <td id=\"T_23797_row4_col3\" class=\"data row4 col3\" >Calcutta</td>\n",
              "    </tr>\n",
              "    <tr>\n",
              "      <td id=\"T_23797_row5_col0\" class=\"data row5 col0\" >865477</td>\n",
              "      <td id=\"T_23797_row5_col1\" class=\"data row5 col1\" >Madhuri</td>\n",
              "      <td id=\"T_23797_row5_col2\" class=\"data row5 col2\" >Sales</td>\n",
              "      <td id=\"T_23797_row5_col3\" class=\"data row5 col3\" >Calcutta</td>\n",
              "    </tr>\n",
              "    <tr>\n",
              "      <td id=\"T_23797_row6_col0\" class=\"data row6 col0\" >223112</td>\n",
              "      <td id=\"T_23797_row6_col1\" class=\"data row6 col1\" >Sania</td>\n",
              "      <td id=\"T_23797_row6_col2\" class=\"data row6 col2\" >Accounts</td>\n",
              "      <td id=\"T_23797_row6_col3\" class=\"data row6 col3\" >Calcutta</td>\n",
              "    </tr>\n",
              "    <tr>\n",
              "      <td id=\"T_23797_row7_col0\" class=\"data row7 col0\" >997445</td>\n",
              "      <td id=\"T_23797_row7_col1\" class=\"data row7 col1\" >Jagmohan</td>\n",
              "      <td id=\"T_23797_row7_col2\" class=\"data row7 col2\" >Accounts</td>\n",
              "      <td id=\"T_23797_row7_col3\" class=\"data row7 col3\" >Calcutta</td>\n",
              "    </tr>\n",
              "    <tr>\n",
              "      <td id=\"T_23797_row8_col0\" class=\"data row8 col0\" >822134</td>\n",
              "      <td id=\"T_23797_row8_col1\" class=\"data row8 col1\" >Rahul</td>\n",
              "      <td id=\"T_23797_row8_col2\" class=\"data row8 col2\" >Accounts</td>\n",
              "      <td id=\"T_23797_row8_col3\" class=\"data row8 col3\" >Calcutta</td>\n",
              "    </tr>\n",
              "    <tr>\n",
              "      <td id=\"T_23797_row9_col0\" class=\"data row9 col0\" >989007</td>\n",
              "      <td id=\"T_23797_row9_col1\" class=\"data row9 col1\" >Sourav</td>\n",
              "      <td id=\"T_23797_row9_col2\" class=\"data row9 col2\" >Production</td>\n",
              "      <td id=\"T_23797_row9_col3\" class=\"data row9 col3\" >Bombay</td>\n",
              "    </tr>\n",
              "    <tr>\n",
              "      <td id=\"T_23797_row10_col0\" class=\"data row10 col0\" >123980</td>\n",
              "      <td id=\"T_23797_row10_col1\" class=\"data row10 col1\" >Mahender</td>\n",
              "      <td id=\"T_23797_row10_col2\" class=\"data row10 col2\" >Production</td>\n",
              "      <td id=\"T_23797_row10_col3\" class=\"data row10 col3\" >Bombay</td>\n",
              "    </tr>\n",
              "    <tr>\n",
              "      <td id=\"T_23797_row11_col0\" class=\"data row11 col0\" >349870</td>\n",
              "      <td id=\"T_23797_row11_col1\" class=\"data row11 col1\" >Rani</td>\n",
              "      <td id=\"T_23797_row11_col2\" class=\"data row11 col2\" >Production</td>\n",
              "      <td id=\"T_23797_row11_col3\" class=\"data row11 col3\" >Bombay</td>\n",
              "    </tr>\n",
              "    <tr>\n",
              "      <td id=\"T_23797_row12_col0\" class=\"data row12 col0\" >None</td>\n",
              "      <td id=\"T_23797_row12_col1\" class=\"data row12 col1\" >None</td>\n",
              "      <td id=\"T_23797_row12_col2\" class=\"data row12 col2\" >Research</td>\n",
              "      <td id=\"T_23797_row12_col3\" class=\"data row12 col3\" >Delhi</td>\n",
              "    </tr>\n",
              "  </tbody>\n",
              "</table>\n"
            ]
          },
          "metadata": {},
          "execution_count": 53
        }
      ]
    },
    {
      "cell_type": "markdown",
      "source": [
        "### Full Outer"
      ],
      "metadata": {
        "id": "RsEyhBBp24zy"
      }
    },
    {
      "cell_type": "code",
      "source": [
        "sql = 'select empid, firstname, deptname, location from empl FULL JOIN dept ON empl.deptid = dept.deptid'\n",
        "runSelect(sql)"
      ],
      "metadata": {
        "colab": {
          "base_uri": "https://localhost:8080/",
          "height": 488
        },
        "id": "Ipt14U9o2qFg",
        "outputId": "0f3ea133-9d10-4b87-c46a-417ff14c794f"
      },
      "execution_count": 54,
      "outputs": [
        {
          "output_type": "execute_result",
          "data": {
            "text/plain": [
              "<pandas.io.formats.style.Styler at 0x7a11947e4310>"
            ],
            "text/html": [
              "<style type=\"text/css\">\n",
              "</style>\n",
              "<table id=\"T_b7989\" class=\"dataframe\">\n",
              "  <thead>\n",
              "    <tr>\n",
              "      <th id=\"T_b7989_level0_col0\" class=\"col_heading level0 col0\" >empid</th>\n",
              "      <th id=\"T_b7989_level0_col1\" class=\"col_heading level0 col1\" >firstname</th>\n",
              "      <th id=\"T_b7989_level0_col2\" class=\"col_heading level0 col2\" >deptname</th>\n",
              "      <th id=\"T_b7989_level0_col3\" class=\"col_heading level0 col3\" >location</th>\n",
              "    </tr>\n",
              "  </thead>\n",
              "  <tbody>\n",
              "    <tr>\n",
              "      <td id=\"T_b7989_row0_col0\" class=\"data row0 col0\" >546223</td>\n",
              "      <td id=\"T_b7989_row0_col1\" class=\"data row0 col1\" >Narayan</td>\n",
              "      <td id=\"T_b7989_row0_col2\" class=\"data row0 col2\" >Corporate</td>\n",
              "      <td id=\"T_b7989_row0_col3\" class=\"data row0 col3\" >Calcutta</td>\n",
              "    </tr>\n",
              "    <tr>\n",
              "      <td id=\"T_b7989_row1_col0\" class=\"data row1 col0\" >299034</td>\n",
              "      <td id=\"T_b7989_row1_col1\" class=\"data row1 col1\" >Rekha</td>\n",
              "      <td id=\"T_b7989_row1_col2\" class=\"data row1 col2\" >Corporate</td>\n",
              "      <td id=\"T_b7989_row1_col3\" class=\"data row1 col3\" >Calcutta</td>\n",
              "    </tr>\n",
              "    <tr>\n",
              "      <td id=\"T_b7989_row2_col0\" class=\"data row2 col0\" >742866</td>\n",
              "      <td id=\"T_b7989_row2_col1\" class=\"data row2 col1\" >Amitabh</td>\n",
              "      <td id=\"T_b7989_row2_col2\" class=\"data row2 col2\" >Corporate</td>\n",
              "      <td id=\"T_b7989_row2_col3\" class=\"data row2 col3\" >Calcutta</td>\n",
              "    </tr>\n",
              "    <tr>\n",
              "      <td id=\"T_b7989_row3_col0\" class=\"data row3 col0\" >897889</td>\n",
              "      <td id=\"T_b7989_row3_col1\" class=\"data row3 col1\" >Virender</td>\n",
              "      <td id=\"T_b7989_row3_col2\" class=\"data row3 col2\" >Sales</td>\n",
              "      <td id=\"T_b7989_row3_col3\" class=\"data row3 col3\" >Calcutta</td>\n",
              "    </tr>\n",
              "    <tr>\n",
              "      <td id=\"T_b7989_row4_col0\" class=\"data row4 col0\" >239456</td>\n",
              "      <td id=\"T_b7989_row4_col1\" class=\"data row4 col1\" >Shahrukh</td>\n",
              "      <td id=\"T_b7989_row4_col2\" class=\"data row4 col2\" >Sales</td>\n",
              "      <td id=\"T_b7989_row4_col3\" class=\"data row4 col3\" >Calcutta</td>\n",
              "    </tr>\n",
              "    <tr>\n",
              "      <td id=\"T_b7989_row5_col0\" class=\"data row5 col0\" >865477</td>\n",
              "      <td id=\"T_b7989_row5_col1\" class=\"data row5 col1\" >Madhuri</td>\n",
              "      <td id=\"T_b7989_row5_col2\" class=\"data row5 col2\" >Sales</td>\n",
              "      <td id=\"T_b7989_row5_col3\" class=\"data row5 col3\" >Calcutta</td>\n",
              "    </tr>\n",
              "    <tr>\n",
              "      <td id=\"T_b7989_row6_col0\" class=\"data row6 col0\" >223112</td>\n",
              "      <td id=\"T_b7989_row6_col1\" class=\"data row6 col1\" >Sania</td>\n",
              "      <td id=\"T_b7989_row6_col2\" class=\"data row6 col2\" >Accounts</td>\n",
              "      <td id=\"T_b7989_row6_col3\" class=\"data row6 col3\" >Calcutta</td>\n",
              "    </tr>\n",
              "    <tr>\n",
              "      <td id=\"T_b7989_row7_col0\" class=\"data row7 col0\" >997445</td>\n",
              "      <td id=\"T_b7989_row7_col1\" class=\"data row7 col1\" >Jagmohan</td>\n",
              "      <td id=\"T_b7989_row7_col2\" class=\"data row7 col2\" >Accounts</td>\n",
              "      <td id=\"T_b7989_row7_col3\" class=\"data row7 col3\" >Calcutta</td>\n",
              "    </tr>\n",
              "    <tr>\n",
              "      <td id=\"T_b7989_row8_col0\" class=\"data row8 col0\" >822134</td>\n",
              "      <td id=\"T_b7989_row8_col1\" class=\"data row8 col1\" >Rahul</td>\n",
              "      <td id=\"T_b7989_row8_col2\" class=\"data row8 col2\" >Accounts</td>\n",
              "      <td id=\"T_b7989_row8_col3\" class=\"data row8 col3\" >Calcutta</td>\n",
              "    </tr>\n",
              "    <tr>\n",
              "      <td id=\"T_b7989_row9_col0\" class=\"data row9 col0\" >989007</td>\n",
              "      <td id=\"T_b7989_row9_col1\" class=\"data row9 col1\" >Sourav</td>\n",
              "      <td id=\"T_b7989_row9_col2\" class=\"data row9 col2\" >Production</td>\n",
              "      <td id=\"T_b7989_row9_col3\" class=\"data row9 col3\" >Bombay</td>\n",
              "    </tr>\n",
              "    <tr>\n",
              "      <td id=\"T_b7989_row10_col0\" class=\"data row10 col0\" >123980</td>\n",
              "      <td id=\"T_b7989_row10_col1\" class=\"data row10 col1\" >Mahender</td>\n",
              "      <td id=\"T_b7989_row10_col2\" class=\"data row10 col2\" >Production</td>\n",
              "      <td id=\"T_b7989_row10_col3\" class=\"data row10 col3\" >Bombay</td>\n",
              "    </tr>\n",
              "    <tr>\n",
              "      <td id=\"T_b7989_row11_col0\" class=\"data row11 col0\" >349870</td>\n",
              "      <td id=\"T_b7989_row11_col1\" class=\"data row11 col1\" >Rani</td>\n",
              "      <td id=\"T_b7989_row11_col2\" class=\"data row11 col2\" >Production</td>\n",
              "      <td id=\"T_b7989_row11_col3\" class=\"data row11 col3\" >Bombay</td>\n",
              "    </tr>\n",
              "    <tr>\n",
              "      <td id=\"T_b7989_row12_col0\" class=\"data row12 col0\" >None</td>\n",
              "      <td id=\"T_b7989_row12_col1\" class=\"data row12 col1\" >None</td>\n",
              "      <td id=\"T_b7989_row12_col2\" class=\"data row12 col2\" >Research</td>\n",
              "      <td id=\"T_b7989_row12_col3\" class=\"data row12 col3\" >Delhi</td>\n",
              "    </tr>\n",
              "    <tr>\n",
              "      <td id=\"T_b7989_row13_col0\" class=\"data row13 col0\" >546224</td>\n",
              "      <td id=\"T_b7989_row13_col1\" class=\"data row13 col1\" >Chettri</td>\n",
              "      <td id=\"T_b7989_row13_col2\" class=\"data row13 col2\" >None</td>\n",
              "      <td id=\"T_b7989_row13_col3\" class=\"data row13 col3\" >None</td>\n",
              "    </tr>\n",
              "  </tbody>\n",
              "</table>\n"
            ]
          },
          "metadata": {},
          "execution_count": 54
        }
      ]
    },
    {
      "cell_type": "code",
      "source": [
        "sql = 'select deptname,round(sum(salary),0) payroll from empl FULL JOIN dept ON empl.deptid = dept.deptid \\\n",
        "group by deptname'\n",
        "runSelect(sql)"
      ],
      "metadata": {
        "id": "EAI2kiYP3p9O",
        "outputId": "bdd189a2-04ca-4339-c2b1-2768e660b093",
        "colab": {
          "base_uri": "https://localhost:8080/",
          "height": 238
        }
      },
      "execution_count": 55,
      "outputs": [
        {
          "output_type": "execute_result",
          "data": {
            "text/plain": [
              "<pandas.io.formats.style.Styler at 0x7a11947e7990>"
            ],
            "text/html": [
              "<style type=\"text/css\">\n",
              "</style>\n",
              "<table id=\"T_b6a34\" class=\"dataframe\">\n",
              "  <thead>\n",
              "    <tr>\n",
              "      <th id=\"T_b6a34_level0_col0\" class=\"col_heading level0 col0\" >deptname</th>\n",
              "      <th id=\"T_b6a34_level0_col1\" class=\"col_heading level0 col1\" >payroll</th>\n",
              "    </tr>\n",
              "  </thead>\n",
              "  <tbody>\n",
              "    <tr>\n",
              "      <td id=\"T_b6a34_row0_col0\" class=\"data row0 col0\" >None</td>\n",
              "      <td id=\"T_b6a34_row0_col1\" class=\"data row0 col1\" >40000</td>\n",
              "    </tr>\n",
              "    <tr>\n",
              "      <td id=\"T_b6a34_row1_col0\" class=\"data row1 col0\" >Research</td>\n",
              "      <td id=\"T_b6a34_row1_col1\" class=\"data row1 col1\" >None</td>\n",
              "    </tr>\n",
              "    <tr>\n",
              "      <td id=\"T_b6a34_row2_col0\" class=\"data row2 col0\" >Corporate</td>\n",
              "      <td id=\"T_b6a34_row2_col1\" class=\"data row2 col1\" >150000</td>\n",
              "    </tr>\n",
              "    <tr>\n",
              "      <td id=\"T_b6a34_row3_col0\" class=\"data row3 col0\" >Accounts</td>\n",
              "      <td id=\"T_b6a34_row3_col1\" class=\"data row3 col1\" >77000</td>\n",
              "    </tr>\n",
              "    <tr>\n",
              "      <td id=\"T_b6a34_row4_col0\" class=\"data row4 col0\" >Sales</td>\n",
              "      <td id=\"T_b6a34_row4_col1\" class=\"data row4 col1\" >55000</td>\n",
              "    </tr>\n",
              "    <tr>\n",
              "      <td id=\"T_b6a34_row5_col0\" class=\"data row5 col0\" >Production</td>\n",
              "      <td id=\"T_b6a34_row5_col1\" class=\"data row5 col1\" >54000</td>\n",
              "    </tr>\n",
              "  </tbody>\n",
              "</table>\n"
            ]
          },
          "metadata": {},
          "execution_count": 55
        }
      ]
    },
    {
      "cell_type": "markdown",
      "source": [
        "## Recursive Joins"
      ],
      "metadata": {
        "id": "6nm2xAfn6pIV"
      }
    },
    {
      "cell_type": "markdown",
      "source": [
        "### Three Tables"
      ],
      "metadata": {
        "id": "A1KCGwwyB02z"
      }
    },
    {
      "cell_type": "code",
      "source": [
        "cmd = \"select w.lastname , w.deptID, '>' linksTo  , d.deptID ,d.managerID,'<' linksTo, m.empID, m.lastname \\\n",
        "        from Empl w, Dept d, Empl m \\\n",
        "        where w.deptID = d.deptID   \\\n",
        "        and d.managerID = m.empID \\\n",
        "    \"\n",
        "runSelect(cmd)"
      ],
      "metadata": {
        "colab": {
          "base_uri": "https://localhost:8080/",
          "height": 426
        },
        "id": "W17nS5R7AL0J",
        "outputId": "5431eace-138c-4289-8547-cf41213f570a"
      },
      "execution_count": 56,
      "outputs": [
        {
          "output_type": "execute_result",
          "data": {
            "text/plain": [
              "<pandas.io.formats.style.Styler at 0x7a11947edc50>"
            ],
            "text/html": [
              "<style type=\"text/css\">\n",
              "</style>\n",
              "<table id=\"T_4d904\" class=\"dataframe\">\n",
              "  <thead>\n",
              "    <tr>\n",
              "      <th id=\"T_4d904_level0_col0\" class=\"col_heading level0 col0\" >lastname</th>\n",
              "      <th id=\"T_4d904_level0_col1\" class=\"col_heading level0 col1\" >deptid</th>\n",
              "      <th id=\"T_4d904_level0_col2\" class=\"col_heading level0 col2\" >linksto</th>\n",
              "      <th id=\"T_4d904_level0_col3\" class=\"col_heading level0 col3\" >deptid</th>\n",
              "      <th id=\"T_4d904_level0_col4\" class=\"col_heading level0 col4\" >managerid</th>\n",
              "      <th id=\"T_4d904_level0_col5\" class=\"col_heading level0 col5\" >linksto</th>\n",
              "      <th id=\"T_4d904_level0_col6\" class=\"col_heading level0 col6\" >empid</th>\n",
              "      <th id=\"T_4d904_level0_col7\" class=\"col_heading level0 col7\" >lastname</th>\n",
              "    </tr>\n",
              "  </thead>\n",
              "  <tbody>\n",
              "    <tr>\n",
              "      <td id=\"T_4d904_row0_col0\" class=\"data row0 col0\" >Karthikeyan</td>\n",
              "      <td id=\"T_4d904_row0_col1\" class=\"data row0 col1\" >10</td>\n",
              "      <td id=\"T_4d904_row0_col2\" class=\"data row0 col2\" >></td>\n",
              "      <td id=\"T_4d904_row0_col3\" class=\"data row0 col3\" >10</td>\n",
              "      <td id=\"T_4d904_row0_col4\" class=\"data row0 col4\" >299034</td>\n",
              "      <td id=\"T_4d904_row0_col5\" class=\"data row0 col5\" ><</td>\n",
              "      <td id=\"T_4d904_row0_col6\" class=\"data row0 col6\" >299034</td>\n",
              "      <td id=\"T_4d904_row0_col7\" class=\"data row0 col7\" >Ganesan</td>\n",
              "    </tr>\n",
              "    <tr>\n",
              "      <td id=\"T_4d904_row1_col0\" class=\"data row1 col0\" >Ganesan</td>\n",
              "      <td id=\"T_4d904_row1_col1\" class=\"data row1 col1\" >10</td>\n",
              "      <td id=\"T_4d904_row1_col2\" class=\"data row1 col2\" >></td>\n",
              "      <td id=\"T_4d904_row1_col3\" class=\"data row1 col3\" >10</td>\n",
              "      <td id=\"T_4d904_row1_col4\" class=\"data row1 col4\" >299034</td>\n",
              "      <td id=\"T_4d904_row1_col5\" class=\"data row1 col5\" ><</td>\n",
              "      <td id=\"T_4d904_row1_col6\" class=\"data row1 col6\" >299034</td>\n",
              "      <td id=\"T_4d904_row1_col7\" class=\"data row1 col7\" >Ganesan</td>\n",
              "    </tr>\n",
              "    <tr>\n",
              "      <td id=\"T_4d904_row2_col0\" class=\"data row2 col0\" >Bacchan</td>\n",
              "      <td id=\"T_4d904_row2_col1\" class=\"data row2 col1\" >10</td>\n",
              "      <td id=\"T_4d904_row2_col2\" class=\"data row2 col2\" >></td>\n",
              "      <td id=\"T_4d904_row2_col3\" class=\"data row2 col3\" >10</td>\n",
              "      <td id=\"T_4d904_row2_col4\" class=\"data row2 col4\" >299034</td>\n",
              "      <td id=\"T_4d904_row2_col5\" class=\"data row2 col5\" ><</td>\n",
              "      <td id=\"T_4d904_row2_col6\" class=\"data row2 col6\" >299034</td>\n",
              "      <td id=\"T_4d904_row2_col7\" class=\"data row2 col7\" >Ganesan</td>\n",
              "    </tr>\n",
              "    <tr>\n",
              "      <td id=\"T_4d904_row3_col0\" class=\"data row3 col0\" >Sehwag</td>\n",
              "      <td id=\"T_4d904_row3_col1\" class=\"data row3 col1\" >20</td>\n",
              "      <td id=\"T_4d904_row3_col2\" class=\"data row3 col2\" >></td>\n",
              "      <td id=\"T_4d904_row3_col3\" class=\"data row3 col3\" >20</td>\n",
              "      <td id=\"T_4d904_row3_col4\" class=\"data row3 col4\" >239456</td>\n",
              "      <td id=\"T_4d904_row3_col5\" class=\"data row3 col5\" ><</td>\n",
              "      <td id=\"T_4d904_row3_col6\" class=\"data row3 col6\" >239456</td>\n",
              "      <td id=\"T_4d904_row3_col7\" class=\"data row3 col7\" >Khan</td>\n",
              "    </tr>\n",
              "    <tr>\n",
              "      <td id=\"T_4d904_row4_col0\" class=\"data row4 col0\" >Khan</td>\n",
              "      <td id=\"T_4d904_row4_col1\" class=\"data row4 col1\" >20</td>\n",
              "      <td id=\"T_4d904_row4_col2\" class=\"data row4 col2\" >></td>\n",
              "      <td id=\"T_4d904_row4_col3\" class=\"data row4 col3\" >20</td>\n",
              "      <td id=\"T_4d904_row4_col4\" class=\"data row4 col4\" >239456</td>\n",
              "      <td id=\"T_4d904_row4_col5\" class=\"data row4 col5\" ><</td>\n",
              "      <td id=\"T_4d904_row4_col6\" class=\"data row4 col6\" >239456</td>\n",
              "      <td id=\"T_4d904_row4_col7\" class=\"data row4 col7\" >Khan</td>\n",
              "    </tr>\n",
              "    <tr>\n",
              "      <td id=\"T_4d904_row5_col0\" class=\"data row5 col0\" >Dikshit</td>\n",
              "      <td id=\"T_4d904_row5_col1\" class=\"data row5 col1\" >20</td>\n",
              "      <td id=\"T_4d904_row5_col2\" class=\"data row5 col2\" >></td>\n",
              "      <td id=\"T_4d904_row5_col3\" class=\"data row5 col3\" >20</td>\n",
              "      <td id=\"T_4d904_row5_col4\" class=\"data row5 col4\" >239456</td>\n",
              "      <td id=\"T_4d904_row5_col5\" class=\"data row5 col5\" ><</td>\n",
              "      <td id=\"T_4d904_row5_col6\" class=\"data row5 col6\" >239456</td>\n",
              "      <td id=\"T_4d904_row5_col7\" class=\"data row5 col7\" >Khan</td>\n",
              "    </tr>\n",
              "    <tr>\n",
              "      <td id=\"T_4d904_row6_col0\" class=\"data row6 col0\" >Mirza</td>\n",
              "      <td id=\"T_4d904_row6_col1\" class=\"data row6 col1\" >30</td>\n",
              "      <td id=\"T_4d904_row6_col2\" class=\"data row6 col2\" >></td>\n",
              "      <td id=\"T_4d904_row6_col3\" class=\"data row6 col3\" >30</td>\n",
              "      <td id=\"T_4d904_row6_col4\" class=\"data row6 col4\" >822134</td>\n",
              "      <td id=\"T_4d904_row6_col5\" class=\"data row6 col5\" ><</td>\n",
              "      <td id=\"T_4d904_row6_col6\" class=\"data row6 col6\" >822134</td>\n",
              "      <td id=\"T_4d904_row6_col7\" class=\"data row6 col7\" >Dravid</td>\n",
              "    </tr>\n",
              "    <tr>\n",
              "      <td id=\"T_4d904_row7_col0\" class=\"data row7 col0\" >Dalmia</td>\n",
              "      <td id=\"T_4d904_row7_col1\" class=\"data row7 col1\" >30</td>\n",
              "      <td id=\"T_4d904_row7_col2\" class=\"data row7 col2\" >></td>\n",
              "      <td id=\"T_4d904_row7_col3\" class=\"data row7 col3\" >30</td>\n",
              "      <td id=\"T_4d904_row7_col4\" class=\"data row7 col4\" >822134</td>\n",
              "      <td id=\"T_4d904_row7_col5\" class=\"data row7 col5\" ><</td>\n",
              "      <td id=\"T_4d904_row7_col6\" class=\"data row7 col6\" >822134</td>\n",
              "      <td id=\"T_4d904_row7_col7\" class=\"data row7 col7\" >Dravid</td>\n",
              "    </tr>\n",
              "    <tr>\n",
              "      <td id=\"T_4d904_row8_col0\" class=\"data row8 col0\" >Dravid</td>\n",
              "      <td id=\"T_4d904_row8_col1\" class=\"data row8 col1\" >30</td>\n",
              "      <td id=\"T_4d904_row8_col2\" class=\"data row8 col2\" >></td>\n",
              "      <td id=\"T_4d904_row8_col3\" class=\"data row8 col3\" >30</td>\n",
              "      <td id=\"T_4d904_row8_col4\" class=\"data row8 col4\" >822134</td>\n",
              "      <td id=\"T_4d904_row8_col5\" class=\"data row8 col5\" ><</td>\n",
              "      <td id=\"T_4d904_row8_col6\" class=\"data row8 col6\" >822134</td>\n",
              "      <td id=\"T_4d904_row8_col7\" class=\"data row8 col7\" >Dravid</td>\n",
              "    </tr>\n",
              "    <tr>\n",
              "      <td id=\"T_4d904_row9_col0\" class=\"data row9 col0\" >Ganguly</td>\n",
              "      <td id=\"T_4d904_row9_col1\" class=\"data row9 col1\" >40</td>\n",
              "      <td id=\"T_4d904_row9_col2\" class=\"data row9 col2\" >></td>\n",
              "      <td id=\"T_4d904_row9_col3\" class=\"data row9 col3\" >40</td>\n",
              "      <td id=\"T_4d904_row9_col4\" class=\"data row9 col4\" >349870</td>\n",
              "      <td id=\"T_4d904_row9_col5\" class=\"data row9 col5\" ><</td>\n",
              "      <td id=\"T_4d904_row9_col6\" class=\"data row9 col6\" >349870</td>\n",
              "      <td id=\"T_4d904_row9_col7\" class=\"data row9 col7\" >Mukherjee</td>\n",
              "    </tr>\n",
              "    <tr>\n",
              "      <td id=\"T_4d904_row10_col0\" class=\"data row10 col0\" >Dhoni</td>\n",
              "      <td id=\"T_4d904_row10_col1\" class=\"data row10 col1\" >40</td>\n",
              "      <td id=\"T_4d904_row10_col2\" class=\"data row10 col2\" >></td>\n",
              "      <td id=\"T_4d904_row10_col3\" class=\"data row10 col3\" >40</td>\n",
              "      <td id=\"T_4d904_row10_col4\" class=\"data row10 col4\" >349870</td>\n",
              "      <td id=\"T_4d904_row10_col5\" class=\"data row10 col5\" ><</td>\n",
              "      <td id=\"T_4d904_row10_col6\" class=\"data row10 col6\" >349870</td>\n",
              "      <td id=\"T_4d904_row10_col7\" class=\"data row10 col7\" >Mukherjee</td>\n",
              "    </tr>\n",
              "    <tr>\n",
              "      <td id=\"T_4d904_row11_col0\" class=\"data row11 col0\" >Mukherjee</td>\n",
              "      <td id=\"T_4d904_row11_col1\" class=\"data row11 col1\" >40</td>\n",
              "      <td id=\"T_4d904_row11_col2\" class=\"data row11 col2\" >></td>\n",
              "      <td id=\"T_4d904_row11_col3\" class=\"data row11 col3\" >40</td>\n",
              "      <td id=\"T_4d904_row11_col4\" class=\"data row11 col4\" >349870</td>\n",
              "      <td id=\"T_4d904_row11_col5\" class=\"data row11 col5\" ><</td>\n",
              "      <td id=\"T_4d904_row11_col6\" class=\"data row11 col6\" >349870</td>\n",
              "      <td id=\"T_4d904_row11_col7\" class=\"data row11 col7\" >Mukherjee</td>\n",
              "    </tr>\n",
              "  </tbody>\n",
              "</table>\n"
            ]
          },
          "metadata": {},
          "execution_count": 56
        }
      ]
    },
    {
      "cell_type": "markdown",
      "source": [
        "### Self Join / Single Table"
      ],
      "metadata": {
        "id": "jeknsMbjCA2A"
      }
    },
    {
      "cell_type": "code",
      "source": [
        "cmd = \"Select w.FirstName, w.JobDesc, w.DeptID, \\\n",
        "    ' hired by ' hiredby, \\\n",
        "    m.FirstName,m.JobDesc,m.DeptID \\\n",
        "    from empl w, empl m \\\n",
        "    where w.HiredBy = m.EmpID\"\n",
        "\n",
        "runSelect(cmd)"
      ],
      "metadata": {
        "colab": {
          "base_uri": "https://localhost:8080/",
          "height": 426
        },
        "id": "iDPmUw9-CEBH",
        "outputId": "38fe72c6-0bbc-4407-8e9c-1c406546ba96"
      },
      "execution_count": 57,
      "outputs": [
        {
          "output_type": "execute_result",
          "data": {
            "text/plain": [
              "<pandas.io.formats.style.Styler at 0x7a11947f9e10>"
            ],
            "text/html": [
              "<style type=\"text/css\">\n",
              "</style>\n",
              "<table id=\"T_cd44c\" class=\"dataframe\">\n",
              "  <thead>\n",
              "    <tr>\n",
              "      <th id=\"T_cd44c_level0_col0\" class=\"col_heading level0 col0\" >firstname</th>\n",
              "      <th id=\"T_cd44c_level0_col1\" class=\"col_heading level0 col1\" >jobdesc</th>\n",
              "      <th id=\"T_cd44c_level0_col2\" class=\"col_heading level0 col2\" >deptid</th>\n",
              "      <th id=\"T_cd44c_level0_col3\" class=\"col_heading level0 col3\" >hiredby</th>\n",
              "      <th id=\"T_cd44c_level0_col4\" class=\"col_heading level0 col4\" >firstname</th>\n",
              "      <th id=\"T_cd44c_level0_col5\" class=\"col_heading level0 col5\" >jobdesc</th>\n",
              "      <th id=\"T_cd44c_level0_col6\" class=\"col_heading level0 col6\" >deptid</th>\n",
              "    </tr>\n",
              "  </thead>\n",
              "  <tbody>\n",
              "    <tr>\n",
              "      <td id=\"T_cd44c_row0_col0\" class=\"data row0 col0\" >Rani</td>\n",
              "      <td id=\"T_cd44c_row0_col1\" class=\"data row0 col1\" >Manager</td>\n",
              "      <td id=\"T_cd44c_row0_col2\" class=\"data row0 col2\" >40</td>\n",
              "      <td id=\"T_cd44c_row0_col3\" class=\"data row0 col3\" > hired by </td>\n",
              "      <td id=\"T_cd44c_row0_col4\" class=\"data row0 col4\" >Amitabh</td>\n",
              "      <td id=\"T_cd44c_row0_col5\" class=\"data row0 col5\" >Executive</td>\n",
              "      <td id=\"T_cd44c_row0_col6\" class=\"data row0 col6\" >10</td>\n",
              "    </tr>\n",
              "    <tr>\n",
              "      <td id=\"T_cd44c_row1_col0\" class=\"data row1 col0\" >Madhuri</td>\n",
              "      <td id=\"T_cd44c_row1_col1\" class=\"data row1 col1\" >Clerk</td>\n",
              "      <td id=\"T_cd44c_row1_col2\" class=\"data row1 col2\" >20</td>\n",
              "      <td id=\"T_cd44c_row1_col3\" class=\"data row1 col3\" > hired by </td>\n",
              "      <td id=\"T_cd44c_row1_col4\" class=\"data row1 col4\" >Shahrukh</td>\n",
              "      <td id=\"T_cd44c_row1_col5\" class=\"data row1 col5\" >Manager</td>\n",
              "      <td id=\"T_cd44c_row1_col6\" class=\"data row1 col6\" >20</td>\n",
              "    </tr>\n",
              "    <tr>\n",
              "      <td id=\"T_cd44c_row2_col0\" class=\"data row2 col0\" >Shahrukh</td>\n",
              "      <td id=\"T_cd44c_row2_col1\" class=\"data row2 col1\" >Manager</td>\n",
              "      <td id=\"T_cd44c_row2_col2\" class=\"data row2 col2\" >20</td>\n",
              "      <td id=\"T_cd44c_row2_col3\" class=\"data row2 col3\" > hired by </td>\n",
              "      <td id=\"T_cd44c_row2_col4\" class=\"data row2 col4\" >Amitabh</td>\n",
              "      <td id=\"T_cd44c_row2_col5\" class=\"data row2 col5\" >Executive</td>\n",
              "      <td id=\"T_cd44c_row2_col6\" class=\"data row2 col6\" >10</td>\n",
              "    </tr>\n",
              "    <tr>\n",
              "      <td id=\"T_cd44c_row3_col0\" class=\"data row3 col0\" >Virender</td>\n",
              "      <td id=\"T_cd44c_row3_col1\" class=\"data row3 col1\" >Cus_Rep</td>\n",
              "      <td id=\"T_cd44c_row3_col2\" class=\"data row3 col2\" >20</td>\n",
              "      <td id=\"T_cd44c_row3_col3\" class=\"data row3 col3\" > hired by </td>\n",
              "      <td id=\"T_cd44c_row3_col4\" class=\"data row3 col4\" >Shahrukh</td>\n",
              "      <td id=\"T_cd44c_row3_col5\" class=\"data row3 col5\" >Manager</td>\n",
              "      <td id=\"T_cd44c_row3_col6\" class=\"data row3 col6\" >20</td>\n",
              "    </tr>\n",
              "    <tr>\n",
              "      <td id=\"T_cd44c_row4_col0\" class=\"data row4 col0\" >Mahender</td>\n",
              "      <td id=\"T_cd44c_row4_col1\" class=\"data row4 col1\" >Clerk</td>\n",
              "      <td id=\"T_cd44c_row4_col2\" class=\"data row4 col2\" >40</td>\n",
              "      <td id=\"T_cd44c_row4_col3\" class=\"data row4 col3\" > hired by </td>\n",
              "      <td id=\"T_cd44c_row4_col4\" class=\"data row4 col4\" >Rani</td>\n",
              "      <td id=\"T_cd44c_row4_col5\" class=\"data row4 col5\" >Manager</td>\n",
              "      <td id=\"T_cd44c_row4_col6\" class=\"data row4 col6\" >40</td>\n",
              "    </tr>\n",
              "    <tr>\n",
              "      <td id=\"T_cd44c_row5_col0\" class=\"data row5 col0\" >Rahul</td>\n",
              "      <td id=\"T_cd44c_row5_col1\" class=\"data row5 col1\" >Sr Manager</td>\n",
              "      <td id=\"T_cd44c_row5_col2\" class=\"data row5 col2\" >30</td>\n",
              "      <td id=\"T_cd44c_row5_col3\" class=\"data row5 col3\" > hired by </td>\n",
              "      <td id=\"T_cd44c_row5_col4\" class=\"data row5 col4\" >Amitabh</td>\n",
              "      <td id=\"T_cd44c_row5_col5\" class=\"data row5 col5\" >Executive</td>\n",
              "      <td id=\"T_cd44c_row5_col6\" class=\"data row5 col6\" >10</td>\n",
              "    </tr>\n",
              "    <tr>\n",
              "      <td id=\"T_cd44c_row6_col0\" class=\"data row6 col0\" >Jagmohan</td>\n",
              "      <td id=\"T_cd44c_row6_col1\" class=\"data row6 col1\" >Clerk</td>\n",
              "      <td id=\"T_cd44c_row6_col2\" class=\"data row6 col2\" >30</td>\n",
              "      <td id=\"T_cd44c_row6_col3\" class=\"data row6 col3\" > hired by </td>\n",
              "      <td id=\"T_cd44c_row6_col4\" class=\"data row6 col4\" >Rahul</td>\n",
              "      <td id=\"T_cd44c_row6_col5\" class=\"data row6 col5\" >Sr Manager</td>\n",
              "      <td id=\"T_cd44c_row6_col6\" class=\"data row6 col6\" >30</td>\n",
              "    </tr>\n",
              "    <tr>\n",
              "      <td id=\"T_cd44c_row7_col0\" class=\"data row7 col0\" >Sourav</td>\n",
              "      <td id=\"T_cd44c_row7_col1\" class=\"data row7 col1\" >Cus_Rep</td>\n",
              "      <td id=\"T_cd44c_row7_col2\" class=\"data row7 col2\" >40</td>\n",
              "      <td id=\"T_cd44c_row7_col3\" class=\"data row7 col3\" > hired by </td>\n",
              "      <td id=\"T_cd44c_row7_col4\" class=\"data row7 col4\" >Rekha</td>\n",
              "      <td id=\"T_cd44c_row7_col5\" class=\"data row7 col5\" >Director</td>\n",
              "      <td id=\"T_cd44c_row7_col6\" class=\"data row7 col6\" >10</td>\n",
              "    </tr>\n",
              "    <tr>\n",
              "      <td id=\"T_cd44c_row8_col0\" class=\"data row8 col0\" >Rekha</td>\n",
              "      <td id=\"T_cd44c_row8_col1\" class=\"data row8 col1\" >Director</td>\n",
              "      <td id=\"T_cd44c_row8_col2\" class=\"data row8 col2\" >10</td>\n",
              "      <td id=\"T_cd44c_row8_col3\" class=\"data row8 col3\" > hired by </td>\n",
              "      <td id=\"T_cd44c_row8_col4\" class=\"data row8 col4\" >Amitabh</td>\n",
              "      <td id=\"T_cd44c_row8_col5\" class=\"data row8 col5\" >Executive</td>\n",
              "      <td id=\"T_cd44c_row8_col6\" class=\"data row8 col6\" >10</td>\n",
              "    </tr>\n",
              "    <tr>\n",
              "      <td id=\"T_cd44c_row9_col0\" class=\"data row9 col0\" >Narayan</td>\n",
              "      <td id=\"T_cd44c_row9_col1\" class=\"data row9 col1\" >Secretary</td>\n",
              "      <td id=\"T_cd44c_row9_col2\" class=\"data row9 col2\" >10</td>\n",
              "      <td id=\"T_cd44c_row9_col3\" class=\"data row9 col3\" > hired by </td>\n",
              "      <td id=\"T_cd44c_row9_col4\" class=\"data row9 col4\" >Rekha</td>\n",
              "      <td id=\"T_cd44c_row9_col5\" class=\"data row9 col5\" >Director</td>\n",
              "      <td id=\"T_cd44c_row9_col6\" class=\"data row9 col6\" >10</td>\n",
              "    </tr>\n",
              "    <tr>\n",
              "      <td id=\"T_cd44c_row10_col0\" class=\"data row10 col0\" >Chettri</td>\n",
              "      <td id=\"T_cd44c_row10_col1\" class=\"data row10 col1\" >Dy Manager</td>\n",
              "      <td id=\"T_cd44c_row10_col2\" class=\"data row10 col2\" >70</td>\n",
              "      <td id=\"T_cd44c_row10_col3\" class=\"data row10 col3\" > hired by </td>\n",
              "      <td id=\"T_cd44c_row10_col4\" class=\"data row10 col4\" >Sourav</td>\n",
              "      <td id=\"T_cd44c_row10_col5\" class=\"data row10 col5\" >Cus_Rep</td>\n",
              "      <td id=\"T_cd44c_row10_col6\" class=\"data row10 col6\" >40</td>\n",
              "    </tr>\n",
              "    <tr>\n",
              "      <td id=\"T_cd44c_row11_col0\" class=\"data row11 col0\" >Sania</td>\n",
              "      <td id=\"T_cd44c_row11_col1\" class=\"data row11 col1\" >Cus_Rep</td>\n",
              "      <td id=\"T_cd44c_row11_col2\" class=\"data row11 col2\" >30</td>\n",
              "      <td id=\"T_cd44c_row11_col3\" class=\"data row11 col3\" > hired by </td>\n",
              "      <td id=\"T_cd44c_row11_col4\" class=\"data row11 col4\" >Rahul</td>\n",
              "      <td id=\"T_cd44c_row11_col5\" class=\"data row11 col5\" >Sr Manager</td>\n",
              "      <td id=\"T_cd44c_row11_col6\" class=\"data row11 col6\" >30</td>\n",
              "    </tr>\n",
              "  </tbody>\n",
              "</table>\n"
            ]
          },
          "metadata": {},
          "execution_count": 57
        }
      ]
    },
    {
      "cell_type": "markdown",
      "source": [
        "#Subquery"
      ],
      "metadata": {
        "id": "tXDgw1RBzUf-"
      }
    },
    {
      "cell_type": "code",
      "source": [
        "sql = \"select lastname, salary, jobdesc, deptid from empl where \\\n",
        "salary = (select max(salary) from empl where deptid = '20') \\\n",
        "and deptid = '20'\"\n",
        "\n",
        "runSelect(sql)"
      ],
      "metadata": {
        "colab": {
          "base_uri": "https://localhost:8080/",
          "height": 81
        },
        "id": "SxQqgOcHzYTF",
        "outputId": "91af31e6-20ac-400f-a93f-3452c81bd717"
      },
      "execution_count": 58,
      "outputs": [
        {
          "output_type": "execute_result",
          "data": {
            "text/plain": [
              "<pandas.io.formats.style.Styler at 0x7a11947ed050>"
            ],
            "text/html": [
              "<style type=\"text/css\">\n",
              "</style>\n",
              "<table id=\"T_ed440\" class=\"dataframe\">\n",
              "  <thead>\n",
              "    <tr>\n",
              "      <th id=\"T_ed440_level0_col0\" class=\"col_heading level0 col0\" >lastname</th>\n",
              "      <th id=\"T_ed440_level0_col1\" class=\"col_heading level0 col1\" >salary</th>\n",
              "      <th id=\"T_ed440_level0_col2\" class=\"col_heading level0 col2\" >jobdesc</th>\n",
              "      <th id=\"T_ed440_level0_col3\" class=\"col_heading level0 col3\" >deptid</th>\n",
              "    </tr>\n",
              "  </thead>\n",
              "  <tbody>\n",
              "    <tr>\n",
              "      <td id=\"T_ed440_row0_col0\" class=\"data row0 col0\" >Khan</td>\n",
              "      <td id=\"T_ed440_row0_col1\" class=\"data row0 col1\" >30000</td>\n",
              "      <td id=\"T_ed440_row0_col2\" class=\"data row0 col2\" >Manager</td>\n",
              "      <td id=\"T_ed440_row0_col3\" class=\"data row0 col3\" >20</td>\n",
              "    </tr>\n",
              "  </tbody>\n",
              "</table>\n"
            ]
          },
          "metadata": {},
          "execution_count": 58
        }
      ]
    },
    {
      "cell_type": "code",
      "source": [
        "sql = \"select lastname, salary, jobdesc, deptid from empl where salary < (select avg(salary) from empl where deptid = '20')\\\n",
        "and deptid = '20'\"\n",
        "runSelect(sql)"
      ],
      "metadata": {
        "colab": {
          "base_uri": "https://localhost:8080/",
          "height": 112
        },
        "id": "oEhaMtyLz3Tm",
        "outputId": "15a5a662-f5cc-46d0-f4b7-4e0d27cf544a"
      },
      "execution_count": 59,
      "outputs": [
        {
          "output_type": "execute_result",
          "data": {
            "text/plain": [
              "<pandas.io.formats.style.Styler at 0x7a11948fa250>"
            ],
            "text/html": [
              "<style type=\"text/css\">\n",
              "</style>\n",
              "<table id=\"T_70d79\" class=\"dataframe\">\n",
              "  <thead>\n",
              "    <tr>\n",
              "      <th id=\"T_70d79_level0_col0\" class=\"col_heading level0 col0\" >lastname</th>\n",
              "      <th id=\"T_70d79_level0_col1\" class=\"col_heading level0 col1\" >salary</th>\n",
              "      <th id=\"T_70d79_level0_col2\" class=\"col_heading level0 col2\" >jobdesc</th>\n",
              "      <th id=\"T_70d79_level0_col3\" class=\"col_heading level0 col3\" >deptid</th>\n",
              "    </tr>\n",
              "  </thead>\n",
              "  <tbody>\n",
              "    <tr>\n",
              "      <td id=\"T_70d79_row0_col0\" class=\"data row0 col0\" >Dikshit</td>\n",
              "      <td id=\"T_70d79_row0_col1\" class=\"data row0 col1\" >10000</td>\n",
              "      <td id=\"T_70d79_row0_col2\" class=\"data row0 col2\" >Clerk</td>\n",
              "      <td id=\"T_70d79_row0_col3\" class=\"data row0 col3\" >20</td>\n",
              "    </tr>\n",
              "    <tr>\n",
              "      <td id=\"T_70d79_row1_col0\" class=\"data row1 col0\" >Sehwag</td>\n",
              "      <td id=\"T_70d79_row1_col1\" class=\"data row1 col1\" >15000</td>\n",
              "      <td id=\"T_70d79_row1_col2\" class=\"data row1 col2\" >Cus_Rep</td>\n",
              "      <td id=\"T_70d79_row1_col3\" class=\"data row1 col3\" >20</td>\n",
              "    </tr>\n",
              "  </tbody>\n",
              "</table>\n"
            ]
          },
          "metadata": {},
          "execution_count": 59
        }
      ]
    },
    {
      "cell_type": "markdown",
      "source": [
        "## Exists | Not Exists"
      ],
      "metadata": {
        "id": "l3GWzCV24a2x"
      }
    },
    {
      "cell_type": "code",
      "source": [
        "#!psql -h localhost -p 5432 -Uupraxis -ddbpraxis -c \"\\\n",
        "sql = \"\\\n",
        "select firstname, jobdesc, deptid from empl \\\n",
        "where exists \\\n",
        "(select * from dept where empl.deptid = dept.deptid)\\\n",
        "order by deptid \\\n",
        "\"\n",
        "runSelect(sql)"
      ],
      "metadata": {
        "colab": {
          "base_uri": "https://localhost:8080/",
          "height": 426
        },
        "id": "9vlJrd584fWu",
        "outputId": "19ff906d-a1b8-44a1-ee99-f92dec8bae47"
      },
      "execution_count": 60,
      "outputs": [
        {
          "output_type": "execute_result",
          "data": {
            "text/plain": [
              "<pandas.io.formats.style.Styler at 0x7a11947fb510>"
            ],
            "text/html": [
              "<style type=\"text/css\">\n",
              "</style>\n",
              "<table id=\"T_d18e6\" class=\"dataframe\">\n",
              "  <thead>\n",
              "    <tr>\n",
              "      <th id=\"T_d18e6_level0_col0\" class=\"col_heading level0 col0\" >firstname</th>\n",
              "      <th id=\"T_d18e6_level0_col1\" class=\"col_heading level0 col1\" >jobdesc</th>\n",
              "      <th id=\"T_d18e6_level0_col2\" class=\"col_heading level0 col2\" >deptid</th>\n",
              "    </tr>\n",
              "  </thead>\n",
              "  <tbody>\n",
              "    <tr>\n",
              "      <td id=\"T_d18e6_row0_col0\" class=\"data row0 col0\" >Amitabh</td>\n",
              "      <td id=\"T_d18e6_row0_col1\" class=\"data row0 col1\" >Executive</td>\n",
              "      <td id=\"T_d18e6_row0_col2\" class=\"data row0 col2\" >10</td>\n",
              "    </tr>\n",
              "    <tr>\n",
              "      <td id=\"T_d18e6_row1_col0\" class=\"data row1 col0\" >Rekha</td>\n",
              "      <td id=\"T_d18e6_row1_col1\" class=\"data row1 col1\" >Director</td>\n",
              "      <td id=\"T_d18e6_row1_col2\" class=\"data row1 col2\" >10</td>\n",
              "    </tr>\n",
              "    <tr>\n",
              "      <td id=\"T_d18e6_row2_col0\" class=\"data row2 col0\" >Narayan</td>\n",
              "      <td id=\"T_d18e6_row2_col1\" class=\"data row2 col1\" >Secretary</td>\n",
              "      <td id=\"T_d18e6_row2_col2\" class=\"data row2 col2\" >10</td>\n",
              "    </tr>\n",
              "    <tr>\n",
              "      <td id=\"T_d18e6_row3_col0\" class=\"data row3 col0\" >Madhuri</td>\n",
              "      <td id=\"T_d18e6_row3_col1\" class=\"data row3 col1\" >Clerk</td>\n",
              "      <td id=\"T_d18e6_row3_col2\" class=\"data row3 col2\" >20</td>\n",
              "    </tr>\n",
              "    <tr>\n",
              "      <td id=\"T_d18e6_row4_col0\" class=\"data row4 col0\" >Shahrukh</td>\n",
              "      <td id=\"T_d18e6_row4_col1\" class=\"data row4 col1\" >Manager</td>\n",
              "      <td id=\"T_d18e6_row4_col2\" class=\"data row4 col2\" >20</td>\n",
              "    </tr>\n",
              "    <tr>\n",
              "      <td id=\"T_d18e6_row5_col0\" class=\"data row5 col0\" >Virender</td>\n",
              "      <td id=\"T_d18e6_row5_col1\" class=\"data row5 col1\" >Cus_Rep</td>\n",
              "      <td id=\"T_d18e6_row5_col2\" class=\"data row5 col2\" >20</td>\n",
              "    </tr>\n",
              "    <tr>\n",
              "      <td id=\"T_d18e6_row6_col0\" class=\"data row6 col0\" >Sania</td>\n",
              "      <td id=\"T_d18e6_row6_col1\" class=\"data row6 col1\" >Cus_Rep</td>\n",
              "      <td id=\"T_d18e6_row6_col2\" class=\"data row6 col2\" >30</td>\n",
              "    </tr>\n",
              "    <tr>\n",
              "      <td id=\"T_d18e6_row7_col0\" class=\"data row7 col0\" >Rahul</td>\n",
              "      <td id=\"T_d18e6_row7_col1\" class=\"data row7 col1\" >Sr Manager</td>\n",
              "      <td id=\"T_d18e6_row7_col2\" class=\"data row7 col2\" >30</td>\n",
              "    </tr>\n",
              "    <tr>\n",
              "      <td id=\"T_d18e6_row8_col0\" class=\"data row8 col0\" >Jagmohan</td>\n",
              "      <td id=\"T_d18e6_row8_col1\" class=\"data row8 col1\" >Clerk</td>\n",
              "      <td id=\"T_d18e6_row8_col2\" class=\"data row8 col2\" >30</td>\n",
              "    </tr>\n",
              "    <tr>\n",
              "      <td id=\"T_d18e6_row9_col0\" class=\"data row9 col0\" >Sourav</td>\n",
              "      <td id=\"T_d18e6_row9_col1\" class=\"data row9 col1\" >Cus_Rep</td>\n",
              "      <td id=\"T_d18e6_row9_col2\" class=\"data row9 col2\" >40</td>\n",
              "    </tr>\n",
              "    <tr>\n",
              "      <td id=\"T_d18e6_row10_col0\" class=\"data row10 col0\" >Mahender</td>\n",
              "      <td id=\"T_d18e6_row10_col1\" class=\"data row10 col1\" >Clerk</td>\n",
              "      <td id=\"T_d18e6_row10_col2\" class=\"data row10 col2\" >40</td>\n",
              "    </tr>\n",
              "    <tr>\n",
              "      <td id=\"T_d18e6_row11_col0\" class=\"data row11 col0\" >Rani</td>\n",
              "      <td id=\"T_d18e6_row11_col1\" class=\"data row11 col1\" >Manager</td>\n",
              "      <td id=\"T_d18e6_row11_col2\" class=\"data row11 col2\" >40</td>\n",
              "    </tr>\n",
              "  </tbody>\n",
              "</table>\n"
            ]
          },
          "metadata": {},
          "execution_count": 60
        }
      ]
    },
    {
      "cell_type": "code",
      "source": [
        "#!psql -h localhost -p 5432 -Uupraxis -ddbpraxis -c \"\\\n",
        "sql = \"\\\n",
        "select firstname, jobdesc, deptid from empl \\\n",
        "where not exists \\\n",
        "(select * from dept where empl.deptid = dept.deptid)\\\n",
        "order by deptid \\\n",
        "\"\n",
        "runSelect(sql)"
      ],
      "metadata": {
        "colab": {
          "base_uri": "https://localhost:8080/",
          "height": 81
        },
        "id": "6ntFTYfv5AyB",
        "outputId": "f227668e-4ba6-4e19-df44-070e28df5bdc"
      },
      "execution_count": 61,
      "outputs": [
        {
          "output_type": "execute_result",
          "data": {
            "text/plain": [
              "<pandas.io.formats.style.Styler at 0x7a11947fb010>"
            ],
            "text/html": [
              "<style type=\"text/css\">\n",
              "</style>\n",
              "<table id=\"T_4194f\" class=\"dataframe\">\n",
              "  <thead>\n",
              "    <tr>\n",
              "      <th id=\"T_4194f_level0_col0\" class=\"col_heading level0 col0\" >firstname</th>\n",
              "      <th id=\"T_4194f_level0_col1\" class=\"col_heading level0 col1\" >jobdesc</th>\n",
              "      <th id=\"T_4194f_level0_col2\" class=\"col_heading level0 col2\" >deptid</th>\n",
              "    </tr>\n",
              "  </thead>\n",
              "  <tbody>\n",
              "    <tr>\n",
              "      <td id=\"T_4194f_row0_col0\" class=\"data row0 col0\" >Chettri</td>\n",
              "      <td id=\"T_4194f_row0_col1\" class=\"data row0 col1\" >Dy Manager</td>\n",
              "      <td id=\"T_4194f_row0_col2\" class=\"data row0 col2\" >70</td>\n",
              "    </tr>\n",
              "  </tbody>\n",
              "</table>\n"
            ]
          },
          "metadata": {},
          "execution_count": 61
        }
      ]
    },
    {
      "cell_type": "markdown",
      "source": [
        "## ALL | ANY"
      ],
      "metadata": {
        "id": "Ft9lsq4Uh8-6"
      }
    },
    {
      "cell_type": "code",
      "source": [
        "#!psql -h localhost -p 5432 -Uupraxis -ddbpraxis -c \"\\\n",
        "sql = \"\\\n",
        "select firstname, jobdesc, deptid, salary from empl \\\n",
        "where salary > all \\\n",
        "(select avg(salary) from empl)\\\n",
        "\"\n",
        "runSelect(sql)"
      ],
      "metadata": {
        "id": "ZySW3QRkiBUG",
        "outputId": "f5b26e25-ac4c-4ee8-c699-14ba11516f19",
        "colab": {
          "base_uri": "https://localhost:8080/",
          "height": 238
        }
      },
      "execution_count": 62,
      "outputs": [
        {
          "output_type": "execute_result",
          "data": {
            "text/plain": [
              "<pandas.io.formats.style.Styler at 0x7a1194800650>"
            ],
            "text/html": [
              "<style type=\"text/css\">\n",
              "</style>\n",
              "<table id=\"T_f45bc\" class=\"dataframe\">\n",
              "  <thead>\n",
              "    <tr>\n",
              "      <th id=\"T_f45bc_level0_col0\" class=\"col_heading level0 col0\" >firstname</th>\n",
              "      <th id=\"T_f45bc_level0_col1\" class=\"col_heading level0 col1\" >jobdesc</th>\n",
              "      <th id=\"T_f45bc_level0_col2\" class=\"col_heading level0 col2\" >deptid</th>\n",
              "      <th id=\"T_f45bc_level0_col3\" class=\"col_heading level0 col3\" >salary</th>\n",
              "    </tr>\n",
              "  </thead>\n",
              "  <tbody>\n",
              "    <tr>\n",
              "      <td id=\"T_f45bc_row0_col0\" class=\"data row0 col0\" >Amitabh</td>\n",
              "      <td id=\"T_f45bc_row0_col1\" class=\"data row0 col1\" >Executive</td>\n",
              "      <td id=\"T_f45bc_row0_col2\" class=\"data row0 col2\" >10</td>\n",
              "      <td id=\"T_f45bc_row0_col3\" class=\"data row0 col3\" >50000</td>\n",
              "    </tr>\n",
              "    <tr>\n",
              "      <td id=\"T_f45bc_row1_col0\" class=\"data row1 col0\" >Shahrukh</td>\n",
              "      <td id=\"T_f45bc_row1_col1\" class=\"data row1 col1\" >Manager</td>\n",
              "      <td id=\"T_f45bc_row1_col2\" class=\"data row1 col2\" >20</td>\n",
              "      <td id=\"T_f45bc_row1_col3\" class=\"data row1 col3\" >30000</td>\n",
              "    </tr>\n",
              "    <tr>\n",
              "      <td id=\"T_f45bc_row2_col0\" class=\"data row2 col0\" >Rahul</td>\n",
              "      <td id=\"T_f45bc_row2_col1\" class=\"data row2 col1\" >Sr Manager</td>\n",
              "      <td id=\"T_f45bc_row2_col2\" class=\"data row2 col2\" >30</td>\n",
              "      <td id=\"T_f45bc_row2_col3\" class=\"data row2 col3\" >40000</td>\n",
              "    </tr>\n",
              "    <tr>\n",
              "      <td id=\"T_f45bc_row3_col0\" class=\"data row3 col0\" >Rekha</td>\n",
              "      <td id=\"T_f45bc_row3_col1\" class=\"data row3 col1\" >Director</td>\n",
              "      <td id=\"T_f45bc_row3_col2\" class=\"data row3 col2\" >10</td>\n",
              "      <td id=\"T_f45bc_row3_col3\" class=\"data row3 col3\" >60000</td>\n",
              "    </tr>\n",
              "    <tr>\n",
              "      <td id=\"T_f45bc_row4_col0\" class=\"data row4 col0\" >Narayan</td>\n",
              "      <td id=\"T_f45bc_row4_col1\" class=\"data row4 col1\" >Secretary</td>\n",
              "      <td id=\"T_f45bc_row4_col2\" class=\"data row4 col2\" >10</td>\n",
              "      <td id=\"T_f45bc_row4_col3\" class=\"data row4 col3\" >40000</td>\n",
              "    </tr>\n",
              "    <tr>\n",
              "      <td id=\"T_f45bc_row5_col0\" class=\"data row5 col0\" >Chettri</td>\n",
              "      <td id=\"T_f45bc_row5_col1\" class=\"data row5 col1\" >Dy Manager</td>\n",
              "      <td id=\"T_f45bc_row5_col2\" class=\"data row5 col2\" >70</td>\n",
              "      <td id=\"T_f45bc_row5_col3\" class=\"data row5 col3\" >40000</td>\n",
              "    </tr>\n",
              "  </tbody>\n",
              "</table>\n"
            ]
          },
          "metadata": {},
          "execution_count": 62
        }
      ]
    },
    {
      "cell_type": "code",
      "source": [
        "#!psql -h localhost -p 5432 -Uupraxis -ddbpraxis -c \"\\\n",
        "sql = \"\\\n",
        "select firstname, jobdesc, deptid, salary from empl \\\n",
        "where salary <= any \\\n",
        "(select min(salary) from empl)\\\n",
        "\"\n",
        "runSelect(sql)"
      ],
      "metadata": {
        "id": "OrNzFUx2i6n1",
        "outputId": "04fd7ce1-cf17-496f-d530-91f30141deef",
        "colab": {
          "base_uri": "https://localhost:8080/",
          "height": 81
        }
      },
      "execution_count": 63,
      "outputs": [
        {
          "output_type": "execute_result",
          "data": {
            "text/plain": [
              "<pandas.io.formats.style.Styler at 0x7a1194802510>"
            ],
            "text/html": [
              "<style type=\"text/css\">\n",
              "</style>\n",
              "<table id=\"T_67f43\" class=\"dataframe\">\n",
              "  <thead>\n",
              "    <tr>\n",
              "      <th id=\"T_67f43_level0_col0\" class=\"col_heading level0 col0\" >firstname</th>\n",
              "      <th id=\"T_67f43_level0_col1\" class=\"col_heading level0 col1\" >jobdesc</th>\n",
              "      <th id=\"T_67f43_level0_col2\" class=\"col_heading level0 col2\" >deptid</th>\n",
              "      <th id=\"T_67f43_level0_col3\" class=\"col_heading level0 col3\" >salary</th>\n",
              "    </tr>\n",
              "  </thead>\n",
              "  <tbody>\n",
              "    <tr>\n",
              "      <td id=\"T_67f43_row0_col0\" class=\"data row0 col0\" >Mahender</td>\n",
              "      <td id=\"T_67f43_row0_col1\" class=\"data row0 col1\" >Clerk</td>\n",
              "      <td id=\"T_67f43_row0_col2\" class=\"data row0 col2\" >40</td>\n",
              "      <td id=\"T_67f43_row0_col3\" class=\"data row0 col3\" >9000</td>\n",
              "    </tr>\n",
              "  </tbody>\n",
              "</table>\n"
            ]
          },
          "metadata": {},
          "execution_count": 63
        }
      ]
    },
    {
      "cell_type": "code",
      "source": [
        "#!psql -h localhost -p 5432 -Uupraxis -ddbpraxis -c \"\\\n",
        "sql = \"\\\n",
        "select firstname, jobdesc, deptid, salary from empl \\\n",
        "where salary >= any \\\n",
        "(select max(salary) from empl)\\\n",
        "\"\n",
        "runSelect(sql)"
      ],
      "metadata": {
        "id": "_i2nkl8yvjyr",
        "outputId": "235fc320-e7d2-44b6-99c4-170fb5a8bb70",
        "colab": {
          "base_uri": "https://localhost:8080/",
          "height": 81
        }
      },
      "execution_count": 64,
      "outputs": [
        {
          "output_type": "execute_result",
          "data": {
            "text/plain": [
              "<pandas.io.formats.style.Styler at 0x7a1194804d50>"
            ],
            "text/html": [
              "<style type=\"text/css\">\n",
              "</style>\n",
              "<table id=\"T_65003\" class=\"dataframe\">\n",
              "  <thead>\n",
              "    <tr>\n",
              "      <th id=\"T_65003_level0_col0\" class=\"col_heading level0 col0\" >firstname</th>\n",
              "      <th id=\"T_65003_level0_col1\" class=\"col_heading level0 col1\" >jobdesc</th>\n",
              "      <th id=\"T_65003_level0_col2\" class=\"col_heading level0 col2\" >deptid</th>\n",
              "      <th id=\"T_65003_level0_col3\" class=\"col_heading level0 col3\" >salary</th>\n",
              "    </tr>\n",
              "  </thead>\n",
              "  <tbody>\n",
              "    <tr>\n",
              "      <td id=\"T_65003_row0_col0\" class=\"data row0 col0\" >Rekha</td>\n",
              "      <td id=\"T_65003_row0_col1\" class=\"data row0 col1\" >Director</td>\n",
              "      <td id=\"T_65003_row0_col2\" class=\"data row0 col2\" >10</td>\n",
              "      <td id=\"T_65003_row0_col3\" class=\"data row0 col3\" >60000</td>\n",
              "    </tr>\n",
              "  </tbody>\n",
              "</table>\n"
            ]
          },
          "metadata": {},
          "execution_count": 64
        }
      ]
    },
    {
      "cell_type": "code",
      "source": [
        "!psql -h localhost -p 5432 -Uupraxis -ddbpraxis -c \"\\\n",
        "select firstname, jobdesc, deptid, salary from empl \\\n",
        "where deptid = ALL  \\\n",
        "(select deptid from dept where location = 'Calcutta' )\\\n",
        "\"\n",
        "#runSelect(sql)"
      ],
      "metadata": {
        "id": "DodcUMruPCYv",
        "outputId": "6e9f2a85-b741-4e36-8f73-682775ad2cdb",
        "colab": {
          "base_uri": "https://localhost:8080/"
        }
      },
      "execution_count": 65,
      "outputs": [
        {
          "output_type": "stream",
          "name": "stdout",
          "text": [
            " firstname | jobdesc | deptid | salary \n",
            "-----------+---------+--------+--------\n",
            "(0 rows)\n",
            "\n"
          ]
        }
      ]
    },
    {
      "cell_type": "code",
      "source": [
        "!psql -h localhost -p 5432 -Uupraxis -ddbpraxis -c \"\\\n",
        "select firstname, jobdesc, deptid, salary from empl \\\n",
        "where deptid = any  \\\n",
        "(select deptid from dept where location = 'Calcutta' )\\\n",
        "\""
      ],
      "metadata": {
        "id": "e-v3Rp0qv3TJ",
        "outputId": "c749015f-cbcf-4711-d4b4-f2d0ffa5ba0a",
        "colab": {
          "base_uri": "https://localhost:8080/"
        }
      },
      "execution_count": 66,
      "outputs": [
        {
          "output_type": "stream",
          "name": "stdout",
          "text": [
            " firstname |  jobdesc   | deptid | salary \n",
            "-----------+------------+--------+--------\n",
            " Amitabh   | Executive  | 10     |  50000\n",
            " Madhuri   | Clerk      | 20     |  10000\n",
            " Shahrukh  | Manager    | 20     |  30000\n",
            " Virender  | Cus_Rep    | 20     |  15000\n",
            " Rahul     | Sr Manager | 30     |  40000\n",
            " Jagmohan  | Clerk      | 30     |  12000\n",
            " Rekha     | Director   | 10     |  60000\n",
            " Narayan   | Secretary  | 10     |  40000\n",
            " Sania     | Cus_Rep    | 30     |  25000\n",
            "(9 rows)\n",
            "\n"
          ]
        }
      ]
    },
    {
      "cell_type": "code",
      "source": [
        "!psql -h localhost -p 5432 -Uupraxis -ddbpraxis -c \"\\\n",
        "select firstname, jobdesc, salary from empl \\\n",
        "where salary > ANY  \\\n",
        "(select salary from empl where jobdesc like '%Manager%' )\\\n",
        "\""
      ],
      "metadata": {
        "id": "9T_Rw43iUs6z",
        "outputId": "f9c82630-c54e-4c1c-cba1-1e5724369105",
        "colab": {
          "base_uri": "https://localhost:8080/"
        }
      },
      "execution_count": 67,
      "outputs": [
        {
          "output_type": "stream",
          "name": "stdout",
          "text": [
            " firstname |  jobdesc   | salary \n",
            "-----------+------------+--------\n",
            " Amitabh   | Executive  |  50000\n",
            " Shahrukh  | Manager    |  30000\n",
            " Rahul     | Sr Manager |  40000\n",
            " Rekha     | Director   |  60000\n",
            " Narayan   | Secretary  |  40000\n",
            " Chettri   | Dy Manager |  40000\n",
            "(6 rows)\n",
            "\n"
          ]
        }
      ]
    },
    {
      "cell_type": "code",
      "source": [
        "!psql -h localhost -p 5432 -Uupraxis -ddbpraxis -c \"\\\n",
        "select firstname, jobdesc, salary from empl \\\n",
        "where salary > ALL  \\\n",
        "(select salary from empl where jobdesc like '%Manager%' )\\\n",
        "\""
      ],
      "metadata": {
        "id": "gBMwfFDLkOhd",
        "outputId": "3d821311-cb1b-4b25-d716-267c84b5ec00",
        "colab": {
          "base_uri": "https://localhost:8080/"
        }
      },
      "execution_count": 68,
      "outputs": [
        {
          "output_type": "stream",
          "name": "stdout",
          "text": [
            " firstname |  jobdesc  | salary \n",
            "-----------+-----------+--------\n",
            " Amitabh   | Executive |  50000\n",
            " Rekha     | Director  |  60000\n",
            "(2 rows)\n",
            "\n"
          ]
        }
      ]
    },
    {
      "cell_type": "markdown",
      "source": [
        "## Common Table Extensions CTE"
      ],
      "metadata": {
        "id": "2gvg8pwe3ale"
      }
    },
    {
      "cell_type": "code",
      "source": [
        "sql = \"\\\n",
        "select jobdesc, avg(salary) avgsalary from empl group by jobdesc \\\n",
        "\"\n",
        "runSelect(sql)"
      ],
      "metadata": {
        "id": "7mu6mmXA3pVn",
        "outputId": "9685bb51-aeaf-4b76-a97e-3a8d6930ff8c",
        "colab": {
          "base_uri": "https://localhost:8080/",
          "height": 300
        }
      },
      "execution_count": 69,
      "outputs": [
        {
          "output_type": "execute_result",
          "data": {
            "text/plain": [
              "<pandas.io.formats.style.Styler at 0x7a1194804a90>"
            ],
            "text/html": [
              "<style type=\"text/css\">\n",
              "</style>\n",
              "<table id=\"T_89eae\" class=\"dataframe\">\n",
              "  <thead>\n",
              "    <tr>\n",
              "      <th id=\"T_89eae_level0_col0\" class=\"col_heading level0 col0\" >jobdesc</th>\n",
              "      <th id=\"T_89eae_level0_col1\" class=\"col_heading level0 col1\" >avgsalary</th>\n",
              "    </tr>\n",
              "  </thead>\n",
              "  <tbody>\n",
              "    <tr>\n",
              "      <td id=\"T_89eae_row0_col0\" class=\"data row0 col0\" >Director</td>\n",
              "      <td id=\"T_89eae_row0_col1\" class=\"data row0 col1\" >60000.000000000000</td>\n",
              "    </tr>\n",
              "    <tr>\n",
              "      <td id=\"T_89eae_row1_col0\" class=\"data row1 col0\" >Manager</td>\n",
              "      <td id=\"T_89eae_row1_col1\" class=\"data row1 col1\" >27500.000000000000</td>\n",
              "    </tr>\n",
              "    <tr>\n",
              "      <td id=\"T_89eae_row2_col0\" class=\"data row2 col0\" >Dy Manager</td>\n",
              "      <td id=\"T_89eae_row2_col1\" class=\"data row2 col1\" >40000.000000000000</td>\n",
              "    </tr>\n",
              "    <tr>\n",
              "      <td id=\"T_89eae_row3_col0\" class=\"data row3 col0\" >Executive</td>\n",
              "      <td id=\"T_89eae_row3_col1\" class=\"data row3 col1\" >50000.000000000000</td>\n",
              "    </tr>\n",
              "    <tr>\n",
              "      <td id=\"T_89eae_row4_col0\" class=\"data row4 col0\" >Secretary</td>\n",
              "      <td id=\"T_89eae_row4_col1\" class=\"data row4 col1\" >40000.000000000000</td>\n",
              "    </tr>\n",
              "    <tr>\n",
              "      <td id=\"T_89eae_row5_col0\" class=\"data row5 col0\" >Cus_Rep</td>\n",
              "      <td id=\"T_89eae_row5_col1\" class=\"data row5 col1\" >20000.000000000000</td>\n",
              "    </tr>\n",
              "    <tr>\n",
              "      <td id=\"T_89eae_row6_col0\" class=\"data row6 col0\" >Clerk</td>\n",
              "      <td id=\"T_89eae_row6_col1\" class=\"data row6 col1\" >10333.3333333333333333</td>\n",
              "    </tr>\n",
              "    <tr>\n",
              "      <td id=\"T_89eae_row7_col0\" class=\"data row7 col0\" >Sr Manager</td>\n",
              "      <td id=\"T_89eae_row7_col1\" class=\"data row7 col1\" >40000.000000000000</td>\n",
              "    </tr>\n",
              "  </tbody>\n",
              "</table>\n"
            ]
          },
          "metadata": {},
          "execution_count": 69
        }
      ]
    },
    {
      "cell_type": "code",
      "source": [
        "sql = \"\\\n",
        "with MeanSalary as \\\n",
        "    (select jobdesc, round(avg(salary),0) avgsalary from empl group by jobdesc) \\\n",
        "select lastname, empl.jobdesc, salary, avgsalary from empl, meansalary \\\n",
        "where empl.jobdesc = meansalary.jobdesc \\\n",
        "order  by jobdesc \\\n",
        "\"\n",
        "runSelect(sql)"
      ],
      "metadata": {
        "id": "0i-rIGEzDgFy",
        "outputId": "4991be95-dac7-43c0-a7bf-5f11472dc2d5",
        "colab": {
          "base_uri": "https://localhost:8080/",
          "height": 457
        }
      },
      "execution_count": 70,
      "outputs": [
        {
          "output_type": "execute_result",
          "data": {
            "text/plain": [
              "<pandas.io.formats.style.Styler at 0x7a1194803750>"
            ],
            "text/html": [
              "<style type=\"text/css\">\n",
              "</style>\n",
              "<table id=\"T_07c95\" class=\"dataframe\">\n",
              "  <thead>\n",
              "    <tr>\n",
              "      <th id=\"T_07c95_level0_col0\" class=\"col_heading level0 col0\" >lastname</th>\n",
              "      <th id=\"T_07c95_level0_col1\" class=\"col_heading level0 col1\" >jobdesc</th>\n",
              "      <th id=\"T_07c95_level0_col2\" class=\"col_heading level0 col2\" >salary</th>\n",
              "      <th id=\"T_07c95_level0_col3\" class=\"col_heading level0 col3\" >avgsalary</th>\n",
              "    </tr>\n",
              "  </thead>\n",
              "  <tbody>\n",
              "    <tr>\n",
              "      <td id=\"T_07c95_row0_col0\" class=\"data row0 col0\" >Dalmia</td>\n",
              "      <td id=\"T_07c95_row0_col1\" class=\"data row0 col1\" >Clerk</td>\n",
              "      <td id=\"T_07c95_row0_col2\" class=\"data row0 col2\" >12000</td>\n",
              "      <td id=\"T_07c95_row0_col3\" class=\"data row0 col3\" >10333</td>\n",
              "    </tr>\n",
              "    <tr>\n",
              "      <td id=\"T_07c95_row1_col0\" class=\"data row1 col0\" >Dikshit</td>\n",
              "      <td id=\"T_07c95_row1_col1\" class=\"data row1 col1\" >Clerk</td>\n",
              "      <td id=\"T_07c95_row1_col2\" class=\"data row1 col2\" >10000</td>\n",
              "      <td id=\"T_07c95_row1_col3\" class=\"data row1 col3\" >10333</td>\n",
              "    </tr>\n",
              "    <tr>\n",
              "      <td id=\"T_07c95_row2_col0\" class=\"data row2 col0\" >Dhoni</td>\n",
              "      <td id=\"T_07c95_row2_col1\" class=\"data row2 col1\" >Clerk</td>\n",
              "      <td id=\"T_07c95_row2_col2\" class=\"data row2 col2\" >9000</td>\n",
              "      <td id=\"T_07c95_row2_col3\" class=\"data row2 col3\" >10333</td>\n",
              "    </tr>\n",
              "    <tr>\n",
              "      <td id=\"T_07c95_row3_col0\" class=\"data row3 col0\" >Sehwag</td>\n",
              "      <td id=\"T_07c95_row3_col1\" class=\"data row3 col1\" >Cus_Rep</td>\n",
              "      <td id=\"T_07c95_row3_col2\" class=\"data row3 col2\" >15000</td>\n",
              "      <td id=\"T_07c95_row3_col3\" class=\"data row3 col3\" >20000</td>\n",
              "    </tr>\n",
              "    <tr>\n",
              "      <td id=\"T_07c95_row4_col0\" class=\"data row4 col0\" >Mirza</td>\n",
              "      <td id=\"T_07c95_row4_col1\" class=\"data row4 col1\" >Cus_Rep</td>\n",
              "      <td id=\"T_07c95_row4_col2\" class=\"data row4 col2\" >25000</td>\n",
              "      <td id=\"T_07c95_row4_col3\" class=\"data row4 col3\" >20000</td>\n",
              "    </tr>\n",
              "    <tr>\n",
              "      <td id=\"T_07c95_row5_col0\" class=\"data row5 col0\" >Ganguly</td>\n",
              "      <td id=\"T_07c95_row5_col1\" class=\"data row5 col1\" >Cus_Rep</td>\n",
              "      <td id=\"T_07c95_row5_col2\" class=\"data row5 col2\" >20000</td>\n",
              "      <td id=\"T_07c95_row5_col3\" class=\"data row5 col3\" >20000</td>\n",
              "    </tr>\n",
              "    <tr>\n",
              "      <td id=\"T_07c95_row6_col0\" class=\"data row6 col0\" >Ganesan</td>\n",
              "      <td id=\"T_07c95_row6_col1\" class=\"data row6 col1\" >Director</td>\n",
              "      <td id=\"T_07c95_row6_col2\" class=\"data row6 col2\" >60000</td>\n",
              "      <td id=\"T_07c95_row6_col3\" class=\"data row6 col3\" >60000</td>\n",
              "    </tr>\n",
              "    <tr>\n",
              "      <td id=\"T_07c95_row7_col0\" class=\"data row7 col0\" >Sunil</td>\n",
              "      <td id=\"T_07c95_row7_col1\" class=\"data row7 col1\" >Dy Manager</td>\n",
              "      <td id=\"T_07c95_row7_col2\" class=\"data row7 col2\" >40000</td>\n",
              "      <td id=\"T_07c95_row7_col3\" class=\"data row7 col3\" >40000</td>\n",
              "    </tr>\n",
              "    <tr>\n",
              "      <td id=\"T_07c95_row8_col0\" class=\"data row8 col0\" >Bacchan</td>\n",
              "      <td id=\"T_07c95_row8_col1\" class=\"data row8 col1\" >Executive</td>\n",
              "      <td id=\"T_07c95_row8_col2\" class=\"data row8 col2\" >50000</td>\n",
              "      <td id=\"T_07c95_row8_col3\" class=\"data row8 col3\" >50000</td>\n",
              "    </tr>\n",
              "    <tr>\n",
              "      <td id=\"T_07c95_row9_col0\" class=\"data row9 col0\" >Khan</td>\n",
              "      <td id=\"T_07c95_row9_col1\" class=\"data row9 col1\" >Manager</td>\n",
              "      <td id=\"T_07c95_row9_col2\" class=\"data row9 col2\" >30000</td>\n",
              "      <td id=\"T_07c95_row9_col3\" class=\"data row9 col3\" >27500</td>\n",
              "    </tr>\n",
              "    <tr>\n",
              "      <td id=\"T_07c95_row10_col0\" class=\"data row10 col0\" >Mukherjee</td>\n",
              "      <td id=\"T_07c95_row10_col1\" class=\"data row10 col1\" >Manager</td>\n",
              "      <td id=\"T_07c95_row10_col2\" class=\"data row10 col2\" >25000</td>\n",
              "      <td id=\"T_07c95_row10_col3\" class=\"data row10 col3\" >27500</td>\n",
              "    </tr>\n",
              "    <tr>\n",
              "      <td id=\"T_07c95_row11_col0\" class=\"data row11 col0\" >Karthikeyan</td>\n",
              "      <td id=\"T_07c95_row11_col1\" class=\"data row11 col1\" >Secretary</td>\n",
              "      <td id=\"T_07c95_row11_col2\" class=\"data row11 col2\" >40000</td>\n",
              "      <td id=\"T_07c95_row11_col3\" class=\"data row11 col3\" >40000</td>\n",
              "    </tr>\n",
              "    <tr>\n",
              "      <td id=\"T_07c95_row12_col0\" class=\"data row12 col0\" >Dravid</td>\n",
              "      <td id=\"T_07c95_row12_col1\" class=\"data row12 col1\" >Sr Manager</td>\n",
              "      <td id=\"T_07c95_row12_col2\" class=\"data row12 col2\" >40000</td>\n",
              "      <td id=\"T_07c95_row12_col3\" class=\"data row12 col3\" >40000</td>\n",
              "    </tr>\n",
              "  </tbody>\n",
              "</table>\n"
            ]
          },
          "metadata": {},
          "execution_count": 70
        }
      ]
    },
    {
      "cell_type": "code",
      "source": [
        "sql = \"\\\n",
        "select lastname, empl.jobdesc, salary, avgsalary from \\\n",
        "empl, (select jobdesc, round(avg(salary),0) avgsalary from empl group by jobdesc) meansalary \\\n",
        "where empl.jobdesc = meansalary.jobdesc \\\n",
        "order  by jobdesc \\\n",
        "\"\n",
        "runSelect(sql)"
      ],
      "metadata": {
        "id": "nwrLj4xaExye",
        "outputId": "abedb1ec-7a70-47d7-e82f-46a8abc5fb37",
        "colab": {
          "base_uri": "https://localhost:8080/",
          "height": 457
        }
      },
      "execution_count": 71,
      "outputs": [
        {
          "output_type": "execute_result",
          "data": {
            "text/plain": [
              "<pandas.io.formats.style.Styler at 0x7a11948176d0>"
            ],
            "text/html": [
              "<style type=\"text/css\">\n",
              "</style>\n",
              "<table id=\"T_f9850\" class=\"dataframe\">\n",
              "  <thead>\n",
              "    <tr>\n",
              "      <th id=\"T_f9850_level0_col0\" class=\"col_heading level0 col0\" >lastname</th>\n",
              "      <th id=\"T_f9850_level0_col1\" class=\"col_heading level0 col1\" >jobdesc</th>\n",
              "      <th id=\"T_f9850_level0_col2\" class=\"col_heading level0 col2\" >salary</th>\n",
              "      <th id=\"T_f9850_level0_col3\" class=\"col_heading level0 col3\" >avgsalary</th>\n",
              "    </tr>\n",
              "  </thead>\n",
              "  <tbody>\n",
              "    <tr>\n",
              "      <td id=\"T_f9850_row0_col0\" class=\"data row0 col0\" >Dalmia</td>\n",
              "      <td id=\"T_f9850_row0_col1\" class=\"data row0 col1\" >Clerk</td>\n",
              "      <td id=\"T_f9850_row0_col2\" class=\"data row0 col2\" >12000</td>\n",
              "      <td id=\"T_f9850_row0_col3\" class=\"data row0 col3\" >10333</td>\n",
              "    </tr>\n",
              "    <tr>\n",
              "      <td id=\"T_f9850_row1_col0\" class=\"data row1 col0\" >Dikshit</td>\n",
              "      <td id=\"T_f9850_row1_col1\" class=\"data row1 col1\" >Clerk</td>\n",
              "      <td id=\"T_f9850_row1_col2\" class=\"data row1 col2\" >10000</td>\n",
              "      <td id=\"T_f9850_row1_col3\" class=\"data row1 col3\" >10333</td>\n",
              "    </tr>\n",
              "    <tr>\n",
              "      <td id=\"T_f9850_row2_col0\" class=\"data row2 col0\" >Dhoni</td>\n",
              "      <td id=\"T_f9850_row2_col1\" class=\"data row2 col1\" >Clerk</td>\n",
              "      <td id=\"T_f9850_row2_col2\" class=\"data row2 col2\" >9000</td>\n",
              "      <td id=\"T_f9850_row2_col3\" class=\"data row2 col3\" >10333</td>\n",
              "    </tr>\n",
              "    <tr>\n",
              "      <td id=\"T_f9850_row3_col0\" class=\"data row3 col0\" >Sehwag</td>\n",
              "      <td id=\"T_f9850_row3_col1\" class=\"data row3 col1\" >Cus_Rep</td>\n",
              "      <td id=\"T_f9850_row3_col2\" class=\"data row3 col2\" >15000</td>\n",
              "      <td id=\"T_f9850_row3_col3\" class=\"data row3 col3\" >20000</td>\n",
              "    </tr>\n",
              "    <tr>\n",
              "      <td id=\"T_f9850_row4_col0\" class=\"data row4 col0\" >Mirza</td>\n",
              "      <td id=\"T_f9850_row4_col1\" class=\"data row4 col1\" >Cus_Rep</td>\n",
              "      <td id=\"T_f9850_row4_col2\" class=\"data row4 col2\" >25000</td>\n",
              "      <td id=\"T_f9850_row4_col3\" class=\"data row4 col3\" >20000</td>\n",
              "    </tr>\n",
              "    <tr>\n",
              "      <td id=\"T_f9850_row5_col0\" class=\"data row5 col0\" >Ganguly</td>\n",
              "      <td id=\"T_f9850_row5_col1\" class=\"data row5 col1\" >Cus_Rep</td>\n",
              "      <td id=\"T_f9850_row5_col2\" class=\"data row5 col2\" >20000</td>\n",
              "      <td id=\"T_f9850_row5_col3\" class=\"data row5 col3\" >20000</td>\n",
              "    </tr>\n",
              "    <tr>\n",
              "      <td id=\"T_f9850_row6_col0\" class=\"data row6 col0\" >Ganesan</td>\n",
              "      <td id=\"T_f9850_row6_col1\" class=\"data row6 col1\" >Director</td>\n",
              "      <td id=\"T_f9850_row6_col2\" class=\"data row6 col2\" >60000</td>\n",
              "      <td id=\"T_f9850_row6_col3\" class=\"data row6 col3\" >60000</td>\n",
              "    </tr>\n",
              "    <tr>\n",
              "      <td id=\"T_f9850_row7_col0\" class=\"data row7 col0\" >Sunil</td>\n",
              "      <td id=\"T_f9850_row7_col1\" class=\"data row7 col1\" >Dy Manager</td>\n",
              "      <td id=\"T_f9850_row7_col2\" class=\"data row7 col2\" >40000</td>\n",
              "      <td id=\"T_f9850_row7_col3\" class=\"data row7 col3\" >40000</td>\n",
              "    </tr>\n",
              "    <tr>\n",
              "      <td id=\"T_f9850_row8_col0\" class=\"data row8 col0\" >Bacchan</td>\n",
              "      <td id=\"T_f9850_row8_col1\" class=\"data row8 col1\" >Executive</td>\n",
              "      <td id=\"T_f9850_row8_col2\" class=\"data row8 col2\" >50000</td>\n",
              "      <td id=\"T_f9850_row8_col3\" class=\"data row8 col3\" >50000</td>\n",
              "    </tr>\n",
              "    <tr>\n",
              "      <td id=\"T_f9850_row9_col0\" class=\"data row9 col0\" >Khan</td>\n",
              "      <td id=\"T_f9850_row9_col1\" class=\"data row9 col1\" >Manager</td>\n",
              "      <td id=\"T_f9850_row9_col2\" class=\"data row9 col2\" >30000</td>\n",
              "      <td id=\"T_f9850_row9_col3\" class=\"data row9 col3\" >27500</td>\n",
              "    </tr>\n",
              "    <tr>\n",
              "      <td id=\"T_f9850_row10_col0\" class=\"data row10 col0\" >Mukherjee</td>\n",
              "      <td id=\"T_f9850_row10_col1\" class=\"data row10 col1\" >Manager</td>\n",
              "      <td id=\"T_f9850_row10_col2\" class=\"data row10 col2\" >25000</td>\n",
              "      <td id=\"T_f9850_row10_col3\" class=\"data row10 col3\" >27500</td>\n",
              "    </tr>\n",
              "    <tr>\n",
              "      <td id=\"T_f9850_row11_col0\" class=\"data row11 col0\" >Karthikeyan</td>\n",
              "      <td id=\"T_f9850_row11_col1\" class=\"data row11 col1\" >Secretary</td>\n",
              "      <td id=\"T_f9850_row11_col2\" class=\"data row11 col2\" >40000</td>\n",
              "      <td id=\"T_f9850_row11_col3\" class=\"data row11 col3\" >40000</td>\n",
              "    </tr>\n",
              "    <tr>\n",
              "      <td id=\"T_f9850_row12_col0\" class=\"data row12 col0\" >Dravid</td>\n",
              "      <td id=\"T_f9850_row12_col1\" class=\"data row12 col1\" >Sr Manager</td>\n",
              "      <td id=\"T_f9850_row12_col2\" class=\"data row12 col2\" >40000</td>\n",
              "      <td id=\"T_f9850_row12_col3\" class=\"data row12 col3\" >40000</td>\n",
              "    </tr>\n",
              "  </tbody>\n",
              "</table>\n"
            ]
          },
          "metadata": {},
          "execution_count": 71
        }
      ]
    },
    {
      "cell_type": "markdown",
      "source": [
        "### CTE Recursion"
      ],
      "metadata": {
        "id": "d3j9PbgaADoB"
      }
    },
    {
      "cell_type": "code",
      "source": [
        "# recursion\n",
        "sql = \"\\\n",
        "with recursive hiring_chain as (\\\n",
        "select empid, lastname, hiredby \\\n",
        "    from empl where lastname = 'Ganesan' \\\n",
        "union all \\\n",
        "select \\\n",
        "e.empid, e.lastname,e.hiredby \\\n",
        "    from empl e \\\n",
        "    inner join hiring_chain hc on hc.empid = e.hiredby \\\n",
        ") \\\n",
        "select * from hiring_chain \\\n",
        "\"\n",
        "\n",
        "runSelect(sql)"
      ],
      "metadata": {
        "id": "HA-RyLoz0D3Z",
        "outputId": "23ddecfb-692d-4e33-9730-6d13e0fd3b90",
        "colab": {
          "base_uri": "https://localhost:8080/",
          "height": 175
        }
      },
      "execution_count": 72,
      "outputs": [
        {
          "output_type": "execute_result",
          "data": {
            "text/plain": [
              "<pandas.io.formats.style.Styler at 0x7a11948262d0>"
            ],
            "text/html": [
              "<style type=\"text/css\">\n",
              "</style>\n",
              "<table id=\"T_c9d32\" class=\"dataframe\">\n",
              "  <thead>\n",
              "    <tr>\n",
              "      <th id=\"T_c9d32_level0_col0\" class=\"col_heading level0 col0\" >empid</th>\n",
              "      <th id=\"T_c9d32_level0_col1\" class=\"col_heading level0 col1\" >lastname</th>\n",
              "      <th id=\"T_c9d32_level0_col2\" class=\"col_heading level0 col2\" >hiredby</th>\n",
              "    </tr>\n",
              "  </thead>\n",
              "  <tbody>\n",
              "    <tr>\n",
              "      <td id=\"T_c9d32_row0_col0\" class=\"data row0 col0\" >299034</td>\n",
              "      <td id=\"T_c9d32_row0_col1\" class=\"data row0 col1\" >Ganesan</td>\n",
              "      <td id=\"T_c9d32_row0_col2\" class=\"data row0 col2\" >742866</td>\n",
              "    </tr>\n",
              "    <tr>\n",
              "      <td id=\"T_c9d32_row1_col0\" class=\"data row1 col0\" >989007</td>\n",
              "      <td id=\"T_c9d32_row1_col1\" class=\"data row1 col1\" >Ganguly</td>\n",
              "      <td id=\"T_c9d32_row1_col2\" class=\"data row1 col2\" >299034</td>\n",
              "    </tr>\n",
              "    <tr>\n",
              "      <td id=\"T_c9d32_row2_col0\" class=\"data row2 col0\" >546223</td>\n",
              "      <td id=\"T_c9d32_row2_col1\" class=\"data row2 col1\" >Karthikeyan</td>\n",
              "      <td id=\"T_c9d32_row2_col2\" class=\"data row2 col2\" >299034</td>\n",
              "    </tr>\n",
              "    <tr>\n",
              "      <td id=\"T_c9d32_row3_col0\" class=\"data row3 col0\" >546224</td>\n",
              "      <td id=\"T_c9d32_row3_col1\" class=\"data row3 col1\" >Sunil</td>\n",
              "      <td id=\"T_c9d32_row3_col2\" class=\"data row3 col2\" >989007</td>\n",
              "    </tr>\n",
              "  </tbody>\n",
              "</table>\n"
            ]
          },
          "metadata": {},
          "execution_count": 72
        }
      ]
    },
    {
      "cell_type": "markdown",
      "source": [
        "### More Sophisticated Recursion\n",
        "note the switch between upward chain and downward chain in the JOIN column <br>\n",
        "\n",
        "\n",
        "*   Downward > e.hiredby = hc.empid\n",
        "*   Upward   > e.empid = hc.hiredby\n",
        "\n",
        "Courtesy [ChatGPT](https://chat.openai.com/share/80e291a6-bbd2-42d8-ba3d-6e01be4eafd7)"
      ],
      "metadata": {
        "id": "a5zh-tdQAxJp"
      }
    },
    {
      "cell_type": "code",
      "source": [
        "# Downward Chain\n",
        "#\n",
        "sql = \"\\\n",
        "with recursive hiring_chain as (\\\n",
        "select empid, lastname, hiredby, 1 as level \\\n",
        "    from empl where hiredby = '299034' \\\n",
        "union all \\\n",
        "select \\\n",
        "e.empid, e.lastname,e.hiredby, hc.level+1 \\\n",
        "    from empl e \\\n",
        "    inner join hiring_chain hc on e.hiredby = hc.empid  \\\n",
        ") \\\n",
        "select * from hiring_chain \\\n",
        "\"\n",
        "\n",
        "runSelect(sql)"
      ],
      "metadata": {
        "id": "wEsTzZbxA9Y9",
        "outputId": "85cc23dc-bbed-47b4-bb99-4d789d80081f",
        "colab": {
          "base_uri": "https://localhost:8080/",
          "height": 143
        }
      },
      "execution_count": 73,
      "outputs": [
        {
          "output_type": "execute_result",
          "data": {
            "text/plain": [
              "<pandas.io.formats.style.Styler at 0x7a1194826410>"
            ],
            "text/html": [
              "<style type=\"text/css\">\n",
              "</style>\n",
              "<table id=\"T_18742\" class=\"dataframe\">\n",
              "  <thead>\n",
              "    <tr>\n",
              "      <th id=\"T_18742_level0_col0\" class=\"col_heading level0 col0\" >empid</th>\n",
              "      <th id=\"T_18742_level0_col1\" class=\"col_heading level0 col1\" >lastname</th>\n",
              "      <th id=\"T_18742_level0_col2\" class=\"col_heading level0 col2\" >hiredby</th>\n",
              "      <th id=\"T_18742_level0_col3\" class=\"col_heading level0 col3\" >level</th>\n",
              "    </tr>\n",
              "  </thead>\n",
              "  <tbody>\n",
              "    <tr>\n",
              "      <td id=\"T_18742_row0_col0\" class=\"data row0 col0\" >989007</td>\n",
              "      <td id=\"T_18742_row0_col1\" class=\"data row0 col1\" >Ganguly</td>\n",
              "      <td id=\"T_18742_row0_col2\" class=\"data row0 col2\" >299034</td>\n",
              "      <td id=\"T_18742_row0_col3\" class=\"data row0 col3\" >1</td>\n",
              "    </tr>\n",
              "    <tr>\n",
              "      <td id=\"T_18742_row1_col0\" class=\"data row1 col0\" >546223</td>\n",
              "      <td id=\"T_18742_row1_col1\" class=\"data row1 col1\" >Karthikeyan</td>\n",
              "      <td id=\"T_18742_row1_col2\" class=\"data row1 col2\" >299034</td>\n",
              "      <td id=\"T_18742_row1_col3\" class=\"data row1 col3\" >1</td>\n",
              "    </tr>\n",
              "    <tr>\n",
              "      <td id=\"T_18742_row2_col0\" class=\"data row2 col0\" >546224</td>\n",
              "      <td id=\"T_18742_row2_col1\" class=\"data row2 col1\" >Sunil</td>\n",
              "      <td id=\"T_18742_row2_col2\" class=\"data row2 col2\" >989007</td>\n",
              "      <td id=\"T_18742_row2_col3\" class=\"data row2 col3\" >2</td>\n",
              "    </tr>\n",
              "  </tbody>\n",
              "</table>\n"
            ]
          },
          "metadata": {},
          "execution_count": 73
        }
      ]
    },
    {
      "cell_type": "code",
      "source": [
        "# Downward Chain - Style 2\n",
        "#\n",
        "sql = \"\\\n",
        "with recursive hiring_chain as (\\\n",
        "select empid, lastname, hiredby, 1 as level \\\n",
        "    from empl where hiredby = (select empid from empl where lastname = 'Ganesan') \\\n",
        "union all \\\n",
        "select \\\n",
        "e.empid, e.lastname,e.hiredby, hc.level+1 \\\n",
        "    from empl e \\\n",
        "    inner join hiring_chain hc on e.hiredby = hc.empid  \\\n",
        ") \\\n",
        "select * from hiring_chain \\\n",
        "\"\n",
        "\n",
        "runSelect(sql)"
      ],
      "metadata": {
        "id": "jKvfW2HiQF5O",
        "outputId": "6a042d21-8406-48d8-a715-f38cf3bbbcdf",
        "colab": {
          "base_uri": "https://localhost:8080/",
          "height": 143
        }
      },
      "execution_count": 74,
      "outputs": [
        {
          "output_type": "execute_result",
          "data": {
            "text/plain": [
              "<pandas.io.formats.style.Styler at 0x7a1194827710>"
            ],
            "text/html": [
              "<style type=\"text/css\">\n",
              "</style>\n",
              "<table id=\"T_20560\" class=\"dataframe\">\n",
              "  <thead>\n",
              "    <tr>\n",
              "      <th id=\"T_20560_level0_col0\" class=\"col_heading level0 col0\" >empid</th>\n",
              "      <th id=\"T_20560_level0_col1\" class=\"col_heading level0 col1\" >lastname</th>\n",
              "      <th id=\"T_20560_level0_col2\" class=\"col_heading level0 col2\" >hiredby</th>\n",
              "      <th id=\"T_20560_level0_col3\" class=\"col_heading level0 col3\" >level</th>\n",
              "    </tr>\n",
              "  </thead>\n",
              "  <tbody>\n",
              "    <tr>\n",
              "      <td id=\"T_20560_row0_col0\" class=\"data row0 col0\" >989007</td>\n",
              "      <td id=\"T_20560_row0_col1\" class=\"data row0 col1\" >Ganguly</td>\n",
              "      <td id=\"T_20560_row0_col2\" class=\"data row0 col2\" >299034</td>\n",
              "      <td id=\"T_20560_row0_col3\" class=\"data row0 col3\" >1</td>\n",
              "    </tr>\n",
              "    <tr>\n",
              "      <td id=\"T_20560_row1_col0\" class=\"data row1 col0\" >546223</td>\n",
              "      <td id=\"T_20560_row1_col1\" class=\"data row1 col1\" >Karthikeyan</td>\n",
              "      <td id=\"T_20560_row1_col2\" class=\"data row1 col2\" >299034</td>\n",
              "      <td id=\"T_20560_row1_col3\" class=\"data row1 col3\" >1</td>\n",
              "    </tr>\n",
              "    <tr>\n",
              "      <td id=\"T_20560_row2_col0\" class=\"data row2 col0\" >546224</td>\n",
              "      <td id=\"T_20560_row2_col1\" class=\"data row2 col1\" >Sunil</td>\n",
              "      <td id=\"T_20560_row2_col2\" class=\"data row2 col2\" >989007</td>\n",
              "      <td id=\"T_20560_row2_col3\" class=\"data row2 col3\" >2</td>\n",
              "    </tr>\n",
              "  </tbody>\n",
              "</table>\n"
            ]
          },
          "metadata": {},
          "execution_count": 74
        }
      ]
    },
    {
      "cell_type": "code",
      "source": [
        "# Upward Chain\n",
        "#\n",
        "sql = \"\\\n",
        "with recursive hiring_chain as (\\\n",
        "select empid, lastname, hiredby, 1 as level \\\n",
        "    from empl where lastname = 'Ganesan' \\\n",
        "union all \\\n",
        "select \\\n",
        "e.empid, e.lastname,e.hiredby, hc.level+1 \\\n",
        "    from empl e \\\n",
        "    inner join hiring_chain hc on e.empid = hc.hiredby  \\\n",
        ") \\\n",
        "select * from hiring_chain \\\n",
        "\"\n",
        "\n",
        "runSelect(sql)"
      ],
      "metadata": {
        "id": "ZtH1410DCaOT",
        "outputId": "65f58ca3-643d-47ac-a5d2-7d7a26eae081",
        "colab": {
          "base_uri": "https://localhost:8080/",
          "height": 112
        }
      },
      "execution_count": 75,
      "outputs": [
        {
          "output_type": "execute_result",
          "data": {
            "text/plain": [
              "<pandas.io.formats.style.Styler at 0x7a1194817f90>"
            ],
            "text/html": [
              "<style type=\"text/css\">\n",
              "</style>\n",
              "<table id=\"T_33ad0\" class=\"dataframe\">\n",
              "  <thead>\n",
              "    <tr>\n",
              "      <th id=\"T_33ad0_level0_col0\" class=\"col_heading level0 col0\" >empid</th>\n",
              "      <th id=\"T_33ad0_level0_col1\" class=\"col_heading level0 col1\" >lastname</th>\n",
              "      <th id=\"T_33ad0_level0_col2\" class=\"col_heading level0 col2\" >hiredby</th>\n",
              "      <th id=\"T_33ad0_level0_col3\" class=\"col_heading level0 col3\" >level</th>\n",
              "    </tr>\n",
              "  </thead>\n",
              "  <tbody>\n",
              "    <tr>\n",
              "      <td id=\"T_33ad0_row0_col0\" class=\"data row0 col0\" >299034</td>\n",
              "      <td id=\"T_33ad0_row0_col1\" class=\"data row0 col1\" >Ganesan</td>\n",
              "      <td id=\"T_33ad0_row0_col2\" class=\"data row0 col2\" >742866</td>\n",
              "      <td id=\"T_33ad0_row0_col3\" class=\"data row0 col3\" >1</td>\n",
              "    </tr>\n",
              "    <tr>\n",
              "      <td id=\"T_33ad0_row1_col0\" class=\"data row1 col0\" >742866</td>\n",
              "      <td id=\"T_33ad0_row1_col1\" class=\"data row1 col1\" >Bacchan</td>\n",
              "      <td id=\"T_33ad0_row1_col2\" class=\"data row1 col2\" >None</td>\n",
              "      <td id=\"T_33ad0_row1_col3\" class=\"data row1 col3\" >2</td>\n",
              "    </tr>\n",
              "  </tbody>\n",
              "</table>\n"
            ]
          },
          "metadata": {},
          "execution_count": 75
        }
      ]
    },
    {
      "cell_type": "code",
      "source": [
        "# Upward Chain\n",
        "#\n",
        "sql = \"\\\n",
        "with recursive hiring_chain as (\\\n",
        "select empid, lastname, hiredby, 1 as level \\\n",
        "    from empl where lastname = 'Sunil' \\\n",
        "union all \\\n",
        "select \\\n",
        "e.empid, e.lastname,e.hiredby, hc.level+1 \\\n",
        "    from empl e \\\n",
        "    inner join hiring_chain hc on e.empid = hc.hiredby  \\\n",
        ") \\\n",
        "select * from hiring_chain \\\n",
        "\"\n",
        "\n",
        "runSelect(sql)"
      ],
      "metadata": {
        "id": "ZmBHyLXbPMQF",
        "outputId": "b39c3edc-0e47-4a38-bee6-83e3d1c48f54",
        "colab": {
          "base_uri": "https://localhost:8080/",
          "height": 175
        }
      },
      "execution_count": 76,
      "outputs": [
        {
          "output_type": "execute_result",
          "data": {
            "text/plain": [
              "<pandas.io.formats.style.Styler at 0x7a1194831090>"
            ],
            "text/html": [
              "<style type=\"text/css\">\n",
              "</style>\n",
              "<table id=\"T_c6efb\" class=\"dataframe\">\n",
              "  <thead>\n",
              "    <tr>\n",
              "      <th id=\"T_c6efb_level0_col0\" class=\"col_heading level0 col0\" >empid</th>\n",
              "      <th id=\"T_c6efb_level0_col1\" class=\"col_heading level0 col1\" >lastname</th>\n",
              "      <th id=\"T_c6efb_level0_col2\" class=\"col_heading level0 col2\" >hiredby</th>\n",
              "      <th id=\"T_c6efb_level0_col3\" class=\"col_heading level0 col3\" >level</th>\n",
              "    </tr>\n",
              "  </thead>\n",
              "  <tbody>\n",
              "    <tr>\n",
              "      <td id=\"T_c6efb_row0_col0\" class=\"data row0 col0\" >546224</td>\n",
              "      <td id=\"T_c6efb_row0_col1\" class=\"data row0 col1\" >Sunil</td>\n",
              "      <td id=\"T_c6efb_row0_col2\" class=\"data row0 col2\" >989007</td>\n",
              "      <td id=\"T_c6efb_row0_col3\" class=\"data row0 col3\" >1</td>\n",
              "    </tr>\n",
              "    <tr>\n",
              "      <td id=\"T_c6efb_row1_col0\" class=\"data row1 col0\" >989007</td>\n",
              "      <td id=\"T_c6efb_row1_col1\" class=\"data row1 col1\" >Ganguly</td>\n",
              "      <td id=\"T_c6efb_row1_col2\" class=\"data row1 col2\" >299034</td>\n",
              "      <td id=\"T_c6efb_row1_col3\" class=\"data row1 col3\" >2</td>\n",
              "    </tr>\n",
              "    <tr>\n",
              "      <td id=\"T_c6efb_row2_col0\" class=\"data row2 col0\" >299034</td>\n",
              "      <td id=\"T_c6efb_row2_col1\" class=\"data row2 col1\" >Ganesan</td>\n",
              "      <td id=\"T_c6efb_row2_col2\" class=\"data row2 col2\" >742866</td>\n",
              "      <td id=\"T_c6efb_row2_col3\" class=\"data row2 col3\" >3</td>\n",
              "    </tr>\n",
              "    <tr>\n",
              "      <td id=\"T_c6efb_row3_col0\" class=\"data row3 col0\" >742866</td>\n",
              "      <td id=\"T_c6efb_row3_col1\" class=\"data row3 col1\" >Bacchan</td>\n",
              "      <td id=\"T_c6efb_row3_col2\" class=\"data row3 col2\" >None</td>\n",
              "      <td id=\"T_c6efb_row3_col3\" class=\"data row3 col3\" >4</td>\n",
              "    </tr>\n",
              "  </tbody>\n",
              "</table>\n"
            ]
          },
          "metadata": {},
          "execution_count": 76
        }
      ]
    },
    {
      "cell_type": "markdown",
      "source": [
        "#Window Functions"
      ],
      "metadata": {
        "id": "p1v2XtGa1QOq"
      }
    },
    {
      "cell_type": "code",
      "source": [
        "sql = \"select deptid, lastname, salary, \\\n",
        "    avg(salary) over (partition by deptid) \\\n",
        "    from empl\"\n",
        "runSelect(sql)"
      ],
      "metadata": {
        "colab": {
          "base_uri": "https://localhost:8080/",
          "height": 457
        },
        "id": "ffpu5hXo1TfJ",
        "outputId": "a4281d5b-9c13-4954-cc20-e3365024da46"
      },
      "execution_count": 77,
      "outputs": [
        {
          "output_type": "execute_result",
          "data": {
            "text/plain": [
              "<pandas.io.formats.style.Styler at 0x7a1194831d90>"
            ],
            "text/html": [
              "<style type=\"text/css\">\n",
              "</style>\n",
              "<table id=\"T_a3f6b\" class=\"dataframe\">\n",
              "  <thead>\n",
              "    <tr>\n",
              "      <th id=\"T_a3f6b_level0_col0\" class=\"col_heading level0 col0\" >deptid</th>\n",
              "      <th id=\"T_a3f6b_level0_col1\" class=\"col_heading level0 col1\" >lastname</th>\n",
              "      <th id=\"T_a3f6b_level0_col2\" class=\"col_heading level0 col2\" >salary</th>\n",
              "      <th id=\"T_a3f6b_level0_col3\" class=\"col_heading level0 col3\" >avg</th>\n",
              "    </tr>\n",
              "  </thead>\n",
              "  <tbody>\n",
              "    <tr>\n",
              "      <td id=\"T_a3f6b_row0_col0\" class=\"data row0 col0\" >10</td>\n",
              "      <td id=\"T_a3f6b_row0_col1\" class=\"data row0 col1\" >Bacchan</td>\n",
              "      <td id=\"T_a3f6b_row0_col2\" class=\"data row0 col2\" >50000</td>\n",
              "      <td id=\"T_a3f6b_row0_col3\" class=\"data row0 col3\" >50000.000000000000</td>\n",
              "    </tr>\n",
              "    <tr>\n",
              "      <td id=\"T_a3f6b_row1_col0\" class=\"data row1 col0\" >10</td>\n",
              "      <td id=\"T_a3f6b_row1_col1\" class=\"data row1 col1\" >Ganesan</td>\n",
              "      <td id=\"T_a3f6b_row1_col2\" class=\"data row1 col2\" >60000</td>\n",
              "      <td id=\"T_a3f6b_row1_col3\" class=\"data row1 col3\" >50000.000000000000</td>\n",
              "    </tr>\n",
              "    <tr>\n",
              "      <td id=\"T_a3f6b_row2_col0\" class=\"data row2 col0\" >10</td>\n",
              "      <td id=\"T_a3f6b_row2_col1\" class=\"data row2 col1\" >Karthikeyan</td>\n",
              "      <td id=\"T_a3f6b_row2_col2\" class=\"data row2 col2\" >40000</td>\n",
              "      <td id=\"T_a3f6b_row2_col3\" class=\"data row2 col3\" >50000.000000000000</td>\n",
              "    </tr>\n",
              "    <tr>\n",
              "      <td id=\"T_a3f6b_row3_col0\" class=\"data row3 col0\" >20</td>\n",
              "      <td id=\"T_a3f6b_row3_col1\" class=\"data row3 col1\" >Dikshit</td>\n",
              "      <td id=\"T_a3f6b_row3_col2\" class=\"data row3 col2\" >10000</td>\n",
              "      <td id=\"T_a3f6b_row3_col3\" class=\"data row3 col3\" >18333.333333333333</td>\n",
              "    </tr>\n",
              "    <tr>\n",
              "      <td id=\"T_a3f6b_row4_col0\" class=\"data row4 col0\" >20</td>\n",
              "      <td id=\"T_a3f6b_row4_col1\" class=\"data row4 col1\" >Khan</td>\n",
              "      <td id=\"T_a3f6b_row4_col2\" class=\"data row4 col2\" >30000</td>\n",
              "      <td id=\"T_a3f6b_row4_col3\" class=\"data row4 col3\" >18333.333333333333</td>\n",
              "    </tr>\n",
              "    <tr>\n",
              "      <td id=\"T_a3f6b_row5_col0\" class=\"data row5 col0\" >20</td>\n",
              "      <td id=\"T_a3f6b_row5_col1\" class=\"data row5 col1\" >Sehwag</td>\n",
              "      <td id=\"T_a3f6b_row5_col2\" class=\"data row5 col2\" >15000</td>\n",
              "      <td id=\"T_a3f6b_row5_col3\" class=\"data row5 col3\" >18333.333333333333</td>\n",
              "    </tr>\n",
              "    <tr>\n",
              "      <td id=\"T_a3f6b_row6_col0\" class=\"data row6 col0\" >30</td>\n",
              "      <td id=\"T_a3f6b_row6_col1\" class=\"data row6 col1\" >Mirza</td>\n",
              "      <td id=\"T_a3f6b_row6_col2\" class=\"data row6 col2\" >25000</td>\n",
              "      <td id=\"T_a3f6b_row6_col3\" class=\"data row6 col3\" >25666.666666666667</td>\n",
              "    </tr>\n",
              "    <tr>\n",
              "      <td id=\"T_a3f6b_row7_col0\" class=\"data row7 col0\" >30</td>\n",
              "      <td id=\"T_a3f6b_row7_col1\" class=\"data row7 col1\" >Dravid</td>\n",
              "      <td id=\"T_a3f6b_row7_col2\" class=\"data row7 col2\" >40000</td>\n",
              "      <td id=\"T_a3f6b_row7_col3\" class=\"data row7 col3\" >25666.666666666667</td>\n",
              "    </tr>\n",
              "    <tr>\n",
              "      <td id=\"T_a3f6b_row8_col0\" class=\"data row8 col0\" >30</td>\n",
              "      <td id=\"T_a3f6b_row8_col1\" class=\"data row8 col1\" >Dalmia</td>\n",
              "      <td id=\"T_a3f6b_row8_col2\" class=\"data row8 col2\" >12000</td>\n",
              "      <td id=\"T_a3f6b_row8_col3\" class=\"data row8 col3\" >25666.666666666667</td>\n",
              "    </tr>\n",
              "    <tr>\n",
              "      <td id=\"T_a3f6b_row9_col0\" class=\"data row9 col0\" >40</td>\n",
              "      <td id=\"T_a3f6b_row9_col1\" class=\"data row9 col1\" >Ganguly</td>\n",
              "      <td id=\"T_a3f6b_row9_col2\" class=\"data row9 col2\" >20000</td>\n",
              "      <td id=\"T_a3f6b_row9_col3\" class=\"data row9 col3\" >18000.000000000000</td>\n",
              "    </tr>\n",
              "    <tr>\n",
              "      <td id=\"T_a3f6b_row10_col0\" class=\"data row10 col0\" >40</td>\n",
              "      <td id=\"T_a3f6b_row10_col1\" class=\"data row10 col1\" >Dhoni</td>\n",
              "      <td id=\"T_a3f6b_row10_col2\" class=\"data row10 col2\" >9000</td>\n",
              "      <td id=\"T_a3f6b_row10_col3\" class=\"data row10 col3\" >18000.000000000000</td>\n",
              "    </tr>\n",
              "    <tr>\n",
              "      <td id=\"T_a3f6b_row11_col0\" class=\"data row11 col0\" >40</td>\n",
              "      <td id=\"T_a3f6b_row11_col1\" class=\"data row11 col1\" >Mukherjee</td>\n",
              "      <td id=\"T_a3f6b_row11_col2\" class=\"data row11 col2\" >25000</td>\n",
              "      <td id=\"T_a3f6b_row11_col3\" class=\"data row11 col3\" >18000.000000000000</td>\n",
              "    </tr>\n",
              "    <tr>\n",
              "      <td id=\"T_a3f6b_row12_col0\" class=\"data row12 col0\" >70</td>\n",
              "      <td id=\"T_a3f6b_row12_col1\" class=\"data row12 col1\" >Sunil</td>\n",
              "      <td id=\"T_a3f6b_row12_col2\" class=\"data row12 col2\" >40000</td>\n",
              "      <td id=\"T_a3f6b_row12_col3\" class=\"data row12 col3\" >40000.000000000000</td>\n",
              "    </tr>\n",
              "  </tbody>\n",
              "</table>\n"
            ]
          },
          "metadata": {},
          "execution_count": 77
        }
      ]
    },
    {
      "cell_type": "code",
      "source": [
        "sql = \"select deptid,jobdesc, lastname, salary, \\\n",
        "    round(avg(salary) over (partition by jobdesc),2) as avg_salary \\\n",
        "    from empl\"\n",
        "runSelect(sql)"
      ],
      "metadata": {
        "id": "EwZ68eWL_GMl",
        "outputId": "6b020eb0-8eb4-4c53-8a7e-284c37528038",
        "colab": {
          "base_uri": "https://localhost:8080/",
          "height": 457
        }
      },
      "execution_count": 94,
      "outputs": [
        {
          "output_type": "execute_result",
          "data": {
            "text/plain": [
              "<pandas.io.formats.style.Styler at 0x7a1194904110>"
            ],
            "text/html": [
              "<style type=\"text/css\">\n",
              "</style>\n",
              "<table id=\"T_3ff39\" class=\"dataframe\">\n",
              "  <thead>\n",
              "    <tr>\n",
              "      <th id=\"T_3ff39_level0_col0\" class=\"col_heading level0 col0\" >deptid</th>\n",
              "      <th id=\"T_3ff39_level0_col1\" class=\"col_heading level0 col1\" >jobdesc</th>\n",
              "      <th id=\"T_3ff39_level0_col2\" class=\"col_heading level0 col2\" >lastname</th>\n",
              "      <th id=\"T_3ff39_level0_col3\" class=\"col_heading level0 col3\" >salary</th>\n",
              "      <th id=\"T_3ff39_level0_col4\" class=\"col_heading level0 col4\" >avg_salary</th>\n",
              "    </tr>\n",
              "  </thead>\n",
              "  <tbody>\n",
              "    <tr>\n",
              "      <td id=\"T_3ff39_row0_col0\" class=\"data row0 col0\" >30</td>\n",
              "      <td id=\"T_3ff39_row0_col1\" class=\"data row0 col1\" >Clerk</td>\n",
              "      <td id=\"T_3ff39_row0_col2\" class=\"data row0 col2\" >Dalmia</td>\n",
              "      <td id=\"T_3ff39_row0_col3\" class=\"data row0 col3\" >12000</td>\n",
              "      <td id=\"T_3ff39_row0_col4\" class=\"data row0 col4\" >10333.33</td>\n",
              "    </tr>\n",
              "    <tr>\n",
              "      <td id=\"T_3ff39_row1_col0\" class=\"data row1 col0\" >20</td>\n",
              "      <td id=\"T_3ff39_row1_col1\" class=\"data row1 col1\" >Clerk</td>\n",
              "      <td id=\"T_3ff39_row1_col2\" class=\"data row1 col2\" >Dikshit</td>\n",
              "      <td id=\"T_3ff39_row1_col3\" class=\"data row1 col3\" >10000</td>\n",
              "      <td id=\"T_3ff39_row1_col4\" class=\"data row1 col4\" >10333.33</td>\n",
              "    </tr>\n",
              "    <tr>\n",
              "      <td id=\"T_3ff39_row2_col0\" class=\"data row2 col0\" >40</td>\n",
              "      <td id=\"T_3ff39_row2_col1\" class=\"data row2 col1\" >Clerk</td>\n",
              "      <td id=\"T_3ff39_row2_col2\" class=\"data row2 col2\" >Dhoni</td>\n",
              "      <td id=\"T_3ff39_row2_col3\" class=\"data row2 col3\" >9000</td>\n",
              "      <td id=\"T_3ff39_row2_col4\" class=\"data row2 col4\" >10333.33</td>\n",
              "    </tr>\n",
              "    <tr>\n",
              "      <td id=\"T_3ff39_row3_col0\" class=\"data row3 col0\" >20</td>\n",
              "      <td id=\"T_3ff39_row3_col1\" class=\"data row3 col1\" >Cus_Rep</td>\n",
              "      <td id=\"T_3ff39_row3_col2\" class=\"data row3 col2\" >Sehwag</td>\n",
              "      <td id=\"T_3ff39_row3_col3\" class=\"data row3 col3\" >15000</td>\n",
              "      <td id=\"T_3ff39_row3_col4\" class=\"data row3 col4\" >20000.00</td>\n",
              "    </tr>\n",
              "    <tr>\n",
              "      <td id=\"T_3ff39_row4_col0\" class=\"data row4 col0\" >30</td>\n",
              "      <td id=\"T_3ff39_row4_col1\" class=\"data row4 col1\" >Cus_Rep</td>\n",
              "      <td id=\"T_3ff39_row4_col2\" class=\"data row4 col2\" >Mirza</td>\n",
              "      <td id=\"T_3ff39_row4_col3\" class=\"data row4 col3\" >25000</td>\n",
              "      <td id=\"T_3ff39_row4_col4\" class=\"data row4 col4\" >20000.00</td>\n",
              "    </tr>\n",
              "    <tr>\n",
              "      <td id=\"T_3ff39_row5_col0\" class=\"data row5 col0\" >40</td>\n",
              "      <td id=\"T_3ff39_row5_col1\" class=\"data row5 col1\" >Cus_Rep</td>\n",
              "      <td id=\"T_3ff39_row5_col2\" class=\"data row5 col2\" >Ganguly</td>\n",
              "      <td id=\"T_3ff39_row5_col3\" class=\"data row5 col3\" >20000</td>\n",
              "      <td id=\"T_3ff39_row5_col4\" class=\"data row5 col4\" >20000.00</td>\n",
              "    </tr>\n",
              "    <tr>\n",
              "      <td id=\"T_3ff39_row6_col0\" class=\"data row6 col0\" >10</td>\n",
              "      <td id=\"T_3ff39_row6_col1\" class=\"data row6 col1\" >Director</td>\n",
              "      <td id=\"T_3ff39_row6_col2\" class=\"data row6 col2\" >Ganesan</td>\n",
              "      <td id=\"T_3ff39_row6_col3\" class=\"data row6 col3\" >60000</td>\n",
              "      <td id=\"T_3ff39_row6_col4\" class=\"data row6 col4\" >60000.00</td>\n",
              "    </tr>\n",
              "    <tr>\n",
              "      <td id=\"T_3ff39_row7_col0\" class=\"data row7 col0\" >70</td>\n",
              "      <td id=\"T_3ff39_row7_col1\" class=\"data row7 col1\" >Dy Manager</td>\n",
              "      <td id=\"T_3ff39_row7_col2\" class=\"data row7 col2\" >Sunil</td>\n",
              "      <td id=\"T_3ff39_row7_col3\" class=\"data row7 col3\" >40000</td>\n",
              "      <td id=\"T_3ff39_row7_col4\" class=\"data row7 col4\" >40000.00</td>\n",
              "    </tr>\n",
              "    <tr>\n",
              "      <td id=\"T_3ff39_row8_col0\" class=\"data row8 col0\" >10</td>\n",
              "      <td id=\"T_3ff39_row8_col1\" class=\"data row8 col1\" >Executive</td>\n",
              "      <td id=\"T_3ff39_row8_col2\" class=\"data row8 col2\" >Bacchan</td>\n",
              "      <td id=\"T_3ff39_row8_col3\" class=\"data row8 col3\" >50000</td>\n",
              "      <td id=\"T_3ff39_row8_col4\" class=\"data row8 col4\" >50000.00</td>\n",
              "    </tr>\n",
              "    <tr>\n",
              "      <td id=\"T_3ff39_row9_col0\" class=\"data row9 col0\" >20</td>\n",
              "      <td id=\"T_3ff39_row9_col1\" class=\"data row9 col1\" >Manager</td>\n",
              "      <td id=\"T_3ff39_row9_col2\" class=\"data row9 col2\" >Khan</td>\n",
              "      <td id=\"T_3ff39_row9_col3\" class=\"data row9 col3\" >30000</td>\n",
              "      <td id=\"T_3ff39_row9_col4\" class=\"data row9 col4\" >27500.00</td>\n",
              "    </tr>\n",
              "    <tr>\n",
              "      <td id=\"T_3ff39_row10_col0\" class=\"data row10 col0\" >40</td>\n",
              "      <td id=\"T_3ff39_row10_col1\" class=\"data row10 col1\" >Manager</td>\n",
              "      <td id=\"T_3ff39_row10_col2\" class=\"data row10 col2\" >Mukherjee</td>\n",
              "      <td id=\"T_3ff39_row10_col3\" class=\"data row10 col3\" >25000</td>\n",
              "      <td id=\"T_3ff39_row10_col4\" class=\"data row10 col4\" >27500.00</td>\n",
              "    </tr>\n",
              "    <tr>\n",
              "      <td id=\"T_3ff39_row11_col0\" class=\"data row11 col0\" >10</td>\n",
              "      <td id=\"T_3ff39_row11_col1\" class=\"data row11 col1\" >Secretary</td>\n",
              "      <td id=\"T_3ff39_row11_col2\" class=\"data row11 col2\" >Karthikeyan</td>\n",
              "      <td id=\"T_3ff39_row11_col3\" class=\"data row11 col3\" >40000</td>\n",
              "      <td id=\"T_3ff39_row11_col4\" class=\"data row11 col4\" >40000.00</td>\n",
              "    </tr>\n",
              "    <tr>\n",
              "      <td id=\"T_3ff39_row12_col0\" class=\"data row12 col0\" >30</td>\n",
              "      <td id=\"T_3ff39_row12_col1\" class=\"data row12 col1\" >Sr Manager</td>\n",
              "      <td id=\"T_3ff39_row12_col2\" class=\"data row12 col2\" >Dravid</td>\n",
              "      <td id=\"T_3ff39_row12_col3\" class=\"data row12 col3\" >40000</td>\n",
              "      <td id=\"T_3ff39_row12_col4\" class=\"data row12 col4\" >40000.00</td>\n",
              "    </tr>\n",
              "  </tbody>\n",
              "</table>\n"
            ]
          },
          "metadata": {},
          "execution_count": 94
        }
      ]
    },
    {
      "cell_type": "code",
      "source": [
        "sql = \"select deptname, lastname, salary, round(avg(salary) over (partition by deptname),0) avg_salary from empl  inner join dept using(deptid)\"\n",
        "runSelect(sql)"
      ],
      "metadata": {
        "colab": {
          "base_uri": "https://localhost:8080/",
          "height": 426
        },
        "id": "JZC4y3tg2o8A",
        "outputId": "ae5ca163-fec7-4621-99ce-d54da0e1b5a3"
      },
      "execution_count": 96,
      "outputs": [
        {
          "output_type": "execute_result",
          "data": {
            "text/plain": [
              "<pandas.io.formats.style.Styler at 0x7a11948f8bd0>"
            ],
            "text/html": [
              "<style type=\"text/css\">\n",
              "</style>\n",
              "<table id=\"T_52eb8\" class=\"dataframe\">\n",
              "  <thead>\n",
              "    <tr>\n",
              "      <th id=\"T_52eb8_level0_col0\" class=\"col_heading level0 col0\" >deptname</th>\n",
              "      <th id=\"T_52eb8_level0_col1\" class=\"col_heading level0 col1\" >lastname</th>\n",
              "      <th id=\"T_52eb8_level0_col2\" class=\"col_heading level0 col2\" >salary</th>\n",
              "      <th id=\"T_52eb8_level0_col3\" class=\"col_heading level0 col3\" >avg_salary</th>\n",
              "    </tr>\n",
              "  </thead>\n",
              "  <tbody>\n",
              "    <tr>\n",
              "      <td id=\"T_52eb8_row0_col0\" class=\"data row0 col0\" >Accounts</td>\n",
              "      <td id=\"T_52eb8_row0_col1\" class=\"data row0 col1\" >Dravid</td>\n",
              "      <td id=\"T_52eb8_row0_col2\" class=\"data row0 col2\" >40000</td>\n",
              "      <td id=\"T_52eb8_row0_col3\" class=\"data row0 col3\" >25667</td>\n",
              "    </tr>\n",
              "    <tr>\n",
              "      <td id=\"T_52eb8_row1_col0\" class=\"data row1 col0\" >Accounts</td>\n",
              "      <td id=\"T_52eb8_row1_col1\" class=\"data row1 col1\" >Dalmia</td>\n",
              "      <td id=\"T_52eb8_row1_col2\" class=\"data row1 col2\" >12000</td>\n",
              "      <td id=\"T_52eb8_row1_col3\" class=\"data row1 col3\" >25667</td>\n",
              "    </tr>\n",
              "    <tr>\n",
              "      <td id=\"T_52eb8_row2_col0\" class=\"data row2 col0\" >Accounts</td>\n",
              "      <td id=\"T_52eb8_row2_col1\" class=\"data row2 col1\" >Mirza</td>\n",
              "      <td id=\"T_52eb8_row2_col2\" class=\"data row2 col2\" >25000</td>\n",
              "      <td id=\"T_52eb8_row2_col3\" class=\"data row2 col3\" >25667</td>\n",
              "    </tr>\n",
              "    <tr>\n",
              "      <td id=\"T_52eb8_row3_col0\" class=\"data row3 col0\" >Corporate</td>\n",
              "      <td id=\"T_52eb8_row3_col1\" class=\"data row3 col1\" >Karthikeyan</td>\n",
              "      <td id=\"T_52eb8_row3_col2\" class=\"data row3 col2\" >40000</td>\n",
              "      <td id=\"T_52eb8_row3_col3\" class=\"data row3 col3\" >50000</td>\n",
              "    </tr>\n",
              "    <tr>\n",
              "      <td id=\"T_52eb8_row4_col0\" class=\"data row4 col0\" >Corporate</td>\n",
              "      <td id=\"T_52eb8_row4_col1\" class=\"data row4 col1\" >Ganesan</td>\n",
              "      <td id=\"T_52eb8_row4_col2\" class=\"data row4 col2\" >60000</td>\n",
              "      <td id=\"T_52eb8_row4_col3\" class=\"data row4 col3\" >50000</td>\n",
              "    </tr>\n",
              "    <tr>\n",
              "      <td id=\"T_52eb8_row5_col0\" class=\"data row5 col0\" >Corporate</td>\n",
              "      <td id=\"T_52eb8_row5_col1\" class=\"data row5 col1\" >Bacchan</td>\n",
              "      <td id=\"T_52eb8_row5_col2\" class=\"data row5 col2\" >50000</td>\n",
              "      <td id=\"T_52eb8_row5_col3\" class=\"data row5 col3\" >50000</td>\n",
              "    </tr>\n",
              "    <tr>\n",
              "      <td id=\"T_52eb8_row6_col0\" class=\"data row6 col0\" >Production</td>\n",
              "      <td id=\"T_52eb8_row6_col1\" class=\"data row6 col1\" >Ganguly</td>\n",
              "      <td id=\"T_52eb8_row6_col2\" class=\"data row6 col2\" >20000</td>\n",
              "      <td id=\"T_52eb8_row6_col3\" class=\"data row6 col3\" >18000</td>\n",
              "    </tr>\n",
              "    <tr>\n",
              "      <td id=\"T_52eb8_row7_col0\" class=\"data row7 col0\" >Production</td>\n",
              "      <td id=\"T_52eb8_row7_col1\" class=\"data row7 col1\" >Dhoni</td>\n",
              "      <td id=\"T_52eb8_row7_col2\" class=\"data row7 col2\" >9000</td>\n",
              "      <td id=\"T_52eb8_row7_col3\" class=\"data row7 col3\" >18000</td>\n",
              "    </tr>\n",
              "    <tr>\n",
              "      <td id=\"T_52eb8_row8_col0\" class=\"data row8 col0\" >Production</td>\n",
              "      <td id=\"T_52eb8_row8_col1\" class=\"data row8 col1\" >Mukherjee</td>\n",
              "      <td id=\"T_52eb8_row8_col2\" class=\"data row8 col2\" >25000</td>\n",
              "      <td id=\"T_52eb8_row8_col3\" class=\"data row8 col3\" >18000</td>\n",
              "    </tr>\n",
              "    <tr>\n",
              "      <td id=\"T_52eb8_row9_col0\" class=\"data row9 col0\" >Sales</td>\n",
              "      <td id=\"T_52eb8_row9_col1\" class=\"data row9 col1\" >Dikshit</td>\n",
              "      <td id=\"T_52eb8_row9_col2\" class=\"data row9 col2\" >10000</td>\n",
              "      <td id=\"T_52eb8_row9_col3\" class=\"data row9 col3\" >18333</td>\n",
              "    </tr>\n",
              "    <tr>\n",
              "      <td id=\"T_52eb8_row10_col0\" class=\"data row10 col0\" >Sales</td>\n",
              "      <td id=\"T_52eb8_row10_col1\" class=\"data row10 col1\" >Khan</td>\n",
              "      <td id=\"T_52eb8_row10_col2\" class=\"data row10 col2\" >30000</td>\n",
              "      <td id=\"T_52eb8_row10_col3\" class=\"data row10 col3\" >18333</td>\n",
              "    </tr>\n",
              "    <tr>\n",
              "      <td id=\"T_52eb8_row11_col0\" class=\"data row11 col0\" >Sales</td>\n",
              "      <td id=\"T_52eb8_row11_col1\" class=\"data row11 col1\" >Sehwag</td>\n",
              "      <td id=\"T_52eb8_row11_col2\" class=\"data row11 col2\" >15000</td>\n",
              "      <td id=\"T_52eb8_row11_col3\" class=\"data row11 col3\" >18333</td>\n",
              "    </tr>\n",
              "  </tbody>\n",
              "</table>\n"
            ]
          },
          "metadata": {},
          "execution_count": 96
        }
      ]
    },
    {
      "cell_type": "code",
      "source": [
        "sql = \"select deptname, lastname, salary, \\\n",
        "    row_number() over (partition by deptname order by salary) \\\n",
        "    from empl  inner join dept using(deptid)\"\n",
        "runSelect(sql)"
      ],
      "metadata": {
        "colab": {
          "base_uri": "https://localhost:8080/",
          "height": 426
        },
        "id": "xgP9VShE4Spl",
        "outputId": "d14703e7-e046-42fb-dfbf-7701a412caaf"
      },
      "execution_count": 79,
      "outputs": [
        {
          "output_type": "execute_result",
          "data": {
            "text/plain": [
              "<pandas.io.formats.style.Styler at 0x7a1194830090>"
            ],
            "text/html": [
              "<style type=\"text/css\">\n",
              "</style>\n",
              "<table id=\"T_f3586\" class=\"dataframe\">\n",
              "  <thead>\n",
              "    <tr>\n",
              "      <th id=\"T_f3586_level0_col0\" class=\"col_heading level0 col0\" >deptname</th>\n",
              "      <th id=\"T_f3586_level0_col1\" class=\"col_heading level0 col1\" >lastname</th>\n",
              "      <th id=\"T_f3586_level0_col2\" class=\"col_heading level0 col2\" >salary</th>\n",
              "      <th id=\"T_f3586_level0_col3\" class=\"col_heading level0 col3\" >row_number</th>\n",
              "    </tr>\n",
              "  </thead>\n",
              "  <tbody>\n",
              "    <tr>\n",
              "      <td id=\"T_f3586_row0_col0\" class=\"data row0 col0\" >Accounts</td>\n",
              "      <td id=\"T_f3586_row0_col1\" class=\"data row0 col1\" >Dalmia</td>\n",
              "      <td id=\"T_f3586_row0_col2\" class=\"data row0 col2\" >12000</td>\n",
              "      <td id=\"T_f3586_row0_col3\" class=\"data row0 col3\" >1</td>\n",
              "    </tr>\n",
              "    <tr>\n",
              "      <td id=\"T_f3586_row1_col0\" class=\"data row1 col0\" >Accounts</td>\n",
              "      <td id=\"T_f3586_row1_col1\" class=\"data row1 col1\" >Mirza</td>\n",
              "      <td id=\"T_f3586_row1_col2\" class=\"data row1 col2\" >25000</td>\n",
              "      <td id=\"T_f3586_row1_col3\" class=\"data row1 col3\" >2</td>\n",
              "    </tr>\n",
              "    <tr>\n",
              "      <td id=\"T_f3586_row2_col0\" class=\"data row2 col0\" >Accounts</td>\n",
              "      <td id=\"T_f3586_row2_col1\" class=\"data row2 col1\" >Dravid</td>\n",
              "      <td id=\"T_f3586_row2_col2\" class=\"data row2 col2\" >40000</td>\n",
              "      <td id=\"T_f3586_row2_col3\" class=\"data row2 col3\" >3</td>\n",
              "    </tr>\n",
              "    <tr>\n",
              "      <td id=\"T_f3586_row3_col0\" class=\"data row3 col0\" >Corporate</td>\n",
              "      <td id=\"T_f3586_row3_col1\" class=\"data row3 col1\" >Karthikeyan</td>\n",
              "      <td id=\"T_f3586_row3_col2\" class=\"data row3 col2\" >40000</td>\n",
              "      <td id=\"T_f3586_row3_col3\" class=\"data row3 col3\" >1</td>\n",
              "    </tr>\n",
              "    <tr>\n",
              "      <td id=\"T_f3586_row4_col0\" class=\"data row4 col0\" >Corporate</td>\n",
              "      <td id=\"T_f3586_row4_col1\" class=\"data row4 col1\" >Bacchan</td>\n",
              "      <td id=\"T_f3586_row4_col2\" class=\"data row4 col2\" >50000</td>\n",
              "      <td id=\"T_f3586_row4_col3\" class=\"data row4 col3\" >2</td>\n",
              "    </tr>\n",
              "    <tr>\n",
              "      <td id=\"T_f3586_row5_col0\" class=\"data row5 col0\" >Corporate</td>\n",
              "      <td id=\"T_f3586_row5_col1\" class=\"data row5 col1\" >Ganesan</td>\n",
              "      <td id=\"T_f3586_row5_col2\" class=\"data row5 col2\" >60000</td>\n",
              "      <td id=\"T_f3586_row5_col3\" class=\"data row5 col3\" >3</td>\n",
              "    </tr>\n",
              "    <tr>\n",
              "      <td id=\"T_f3586_row6_col0\" class=\"data row6 col0\" >Production</td>\n",
              "      <td id=\"T_f3586_row6_col1\" class=\"data row6 col1\" >Dhoni</td>\n",
              "      <td id=\"T_f3586_row6_col2\" class=\"data row6 col2\" >9000</td>\n",
              "      <td id=\"T_f3586_row6_col3\" class=\"data row6 col3\" >1</td>\n",
              "    </tr>\n",
              "    <tr>\n",
              "      <td id=\"T_f3586_row7_col0\" class=\"data row7 col0\" >Production</td>\n",
              "      <td id=\"T_f3586_row7_col1\" class=\"data row7 col1\" >Ganguly</td>\n",
              "      <td id=\"T_f3586_row7_col2\" class=\"data row7 col2\" >20000</td>\n",
              "      <td id=\"T_f3586_row7_col3\" class=\"data row7 col3\" >2</td>\n",
              "    </tr>\n",
              "    <tr>\n",
              "      <td id=\"T_f3586_row8_col0\" class=\"data row8 col0\" >Production</td>\n",
              "      <td id=\"T_f3586_row8_col1\" class=\"data row8 col1\" >Mukherjee</td>\n",
              "      <td id=\"T_f3586_row8_col2\" class=\"data row8 col2\" >25000</td>\n",
              "      <td id=\"T_f3586_row8_col3\" class=\"data row8 col3\" >3</td>\n",
              "    </tr>\n",
              "    <tr>\n",
              "      <td id=\"T_f3586_row9_col0\" class=\"data row9 col0\" >Sales</td>\n",
              "      <td id=\"T_f3586_row9_col1\" class=\"data row9 col1\" >Dikshit</td>\n",
              "      <td id=\"T_f3586_row9_col2\" class=\"data row9 col2\" >10000</td>\n",
              "      <td id=\"T_f3586_row9_col3\" class=\"data row9 col3\" >1</td>\n",
              "    </tr>\n",
              "    <tr>\n",
              "      <td id=\"T_f3586_row10_col0\" class=\"data row10 col0\" >Sales</td>\n",
              "      <td id=\"T_f3586_row10_col1\" class=\"data row10 col1\" >Sehwag</td>\n",
              "      <td id=\"T_f3586_row10_col2\" class=\"data row10 col2\" >15000</td>\n",
              "      <td id=\"T_f3586_row10_col3\" class=\"data row10 col3\" >2</td>\n",
              "    </tr>\n",
              "    <tr>\n",
              "      <td id=\"T_f3586_row11_col0\" class=\"data row11 col0\" >Sales</td>\n",
              "      <td id=\"T_f3586_row11_col1\" class=\"data row11 col1\" >Khan</td>\n",
              "      <td id=\"T_f3586_row11_col2\" class=\"data row11 col2\" >30000</td>\n",
              "      <td id=\"T_f3586_row11_col3\" class=\"data row11 col3\" >3</td>\n",
              "    </tr>\n",
              "  </tbody>\n",
              "</table>\n"
            ]
          },
          "metadata": {},
          "execution_count": 79
        }
      ]
    },
    {
      "cell_type": "code",
      "source": [
        "sql = \"select deptname, lastname, salary, \\\n",
        "        rank() over (partition by deptname order by salary desc) \\\n",
        "        from empl  inner join dept using(deptid)\"\n",
        "runSelect(sql)"
      ],
      "metadata": {
        "colab": {
          "base_uri": "https://localhost:8080/",
          "height": 426
        },
        "id": "rL_1sHBa4ply",
        "outputId": "b5c5ac9d-310c-47b1-e2d5-ea5c21e73ffd"
      },
      "execution_count": 80,
      "outputs": [
        {
          "output_type": "execute_result",
          "data": {
            "text/plain": [
              "<pandas.io.formats.style.Styler at 0x7a119483d790>"
            ],
            "text/html": [
              "<style type=\"text/css\">\n",
              "</style>\n",
              "<table id=\"T_be269\" class=\"dataframe\">\n",
              "  <thead>\n",
              "    <tr>\n",
              "      <th id=\"T_be269_level0_col0\" class=\"col_heading level0 col0\" >deptname</th>\n",
              "      <th id=\"T_be269_level0_col1\" class=\"col_heading level0 col1\" >lastname</th>\n",
              "      <th id=\"T_be269_level0_col2\" class=\"col_heading level0 col2\" >salary</th>\n",
              "      <th id=\"T_be269_level0_col3\" class=\"col_heading level0 col3\" >rank</th>\n",
              "    </tr>\n",
              "  </thead>\n",
              "  <tbody>\n",
              "    <tr>\n",
              "      <td id=\"T_be269_row0_col0\" class=\"data row0 col0\" >Accounts</td>\n",
              "      <td id=\"T_be269_row0_col1\" class=\"data row0 col1\" >Dravid</td>\n",
              "      <td id=\"T_be269_row0_col2\" class=\"data row0 col2\" >40000</td>\n",
              "      <td id=\"T_be269_row0_col3\" class=\"data row0 col3\" >1</td>\n",
              "    </tr>\n",
              "    <tr>\n",
              "      <td id=\"T_be269_row1_col0\" class=\"data row1 col0\" >Accounts</td>\n",
              "      <td id=\"T_be269_row1_col1\" class=\"data row1 col1\" >Mirza</td>\n",
              "      <td id=\"T_be269_row1_col2\" class=\"data row1 col2\" >25000</td>\n",
              "      <td id=\"T_be269_row1_col3\" class=\"data row1 col3\" >2</td>\n",
              "    </tr>\n",
              "    <tr>\n",
              "      <td id=\"T_be269_row2_col0\" class=\"data row2 col0\" >Accounts</td>\n",
              "      <td id=\"T_be269_row2_col1\" class=\"data row2 col1\" >Dalmia</td>\n",
              "      <td id=\"T_be269_row2_col2\" class=\"data row2 col2\" >12000</td>\n",
              "      <td id=\"T_be269_row2_col3\" class=\"data row2 col3\" >3</td>\n",
              "    </tr>\n",
              "    <tr>\n",
              "      <td id=\"T_be269_row3_col0\" class=\"data row3 col0\" >Corporate</td>\n",
              "      <td id=\"T_be269_row3_col1\" class=\"data row3 col1\" >Ganesan</td>\n",
              "      <td id=\"T_be269_row3_col2\" class=\"data row3 col2\" >60000</td>\n",
              "      <td id=\"T_be269_row3_col3\" class=\"data row3 col3\" >1</td>\n",
              "    </tr>\n",
              "    <tr>\n",
              "      <td id=\"T_be269_row4_col0\" class=\"data row4 col0\" >Corporate</td>\n",
              "      <td id=\"T_be269_row4_col1\" class=\"data row4 col1\" >Bacchan</td>\n",
              "      <td id=\"T_be269_row4_col2\" class=\"data row4 col2\" >50000</td>\n",
              "      <td id=\"T_be269_row4_col3\" class=\"data row4 col3\" >2</td>\n",
              "    </tr>\n",
              "    <tr>\n",
              "      <td id=\"T_be269_row5_col0\" class=\"data row5 col0\" >Corporate</td>\n",
              "      <td id=\"T_be269_row5_col1\" class=\"data row5 col1\" >Karthikeyan</td>\n",
              "      <td id=\"T_be269_row5_col2\" class=\"data row5 col2\" >40000</td>\n",
              "      <td id=\"T_be269_row5_col3\" class=\"data row5 col3\" >3</td>\n",
              "    </tr>\n",
              "    <tr>\n",
              "      <td id=\"T_be269_row6_col0\" class=\"data row6 col0\" >Production</td>\n",
              "      <td id=\"T_be269_row6_col1\" class=\"data row6 col1\" >Mukherjee</td>\n",
              "      <td id=\"T_be269_row6_col2\" class=\"data row6 col2\" >25000</td>\n",
              "      <td id=\"T_be269_row6_col3\" class=\"data row6 col3\" >1</td>\n",
              "    </tr>\n",
              "    <tr>\n",
              "      <td id=\"T_be269_row7_col0\" class=\"data row7 col0\" >Production</td>\n",
              "      <td id=\"T_be269_row7_col1\" class=\"data row7 col1\" >Ganguly</td>\n",
              "      <td id=\"T_be269_row7_col2\" class=\"data row7 col2\" >20000</td>\n",
              "      <td id=\"T_be269_row7_col3\" class=\"data row7 col3\" >2</td>\n",
              "    </tr>\n",
              "    <tr>\n",
              "      <td id=\"T_be269_row8_col0\" class=\"data row8 col0\" >Production</td>\n",
              "      <td id=\"T_be269_row8_col1\" class=\"data row8 col1\" >Dhoni</td>\n",
              "      <td id=\"T_be269_row8_col2\" class=\"data row8 col2\" >9000</td>\n",
              "      <td id=\"T_be269_row8_col3\" class=\"data row8 col3\" >3</td>\n",
              "    </tr>\n",
              "    <tr>\n",
              "      <td id=\"T_be269_row9_col0\" class=\"data row9 col0\" >Sales</td>\n",
              "      <td id=\"T_be269_row9_col1\" class=\"data row9 col1\" >Khan</td>\n",
              "      <td id=\"T_be269_row9_col2\" class=\"data row9 col2\" >30000</td>\n",
              "      <td id=\"T_be269_row9_col3\" class=\"data row9 col3\" >1</td>\n",
              "    </tr>\n",
              "    <tr>\n",
              "      <td id=\"T_be269_row10_col0\" class=\"data row10 col0\" >Sales</td>\n",
              "      <td id=\"T_be269_row10_col1\" class=\"data row10 col1\" >Sehwag</td>\n",
              "      <td id=\"T_be269_row10_col2\" class=\"data row10 col2\" >15000</td>\n",
              "      <td id=\"T_be269_row10_col3\" class=\"data row10 col3\" >2</td>\n",
              "    </tr>\n",
              "    <tr>\n",
              "      <td id=\"T_be269_row11_col0\" class=\"data row11 col0\" >Sales</td>\n",
              "      <td id=\"T_be269_row11_col1\" class=\"data row11 col1\" >Dikshit</td>\n",
              "      <td id=\"T_be269_row11_col2\" class=\"data row11 col2\" >10000</td>\n",
              "      <td id=\"T_be269_row11_col3\" class=\"data row11 col3\" >3</td>\n",
              "    </tr>\n",
              "  </tbody>\n",
              "</table>\n"
            ]
          },
          "metadata": {},
          "execution_count": 80
        }
      ]
    },
    {
      "cell_type": "code",
      "source": [
        "sql = \"select deptname, lastname, salary, \\\n",
        "first_value(salary) over (partition by deptname order by salary) as deptlow, \\\n",
        "last_value(salary) over (partition by deptname order by salary RANGE BETWEEN UNBOUNDED PRECEDING AND UNBOUNDED FOLLOWING) as depthigh \\\n",
        "from empl  inner join dept using(deptid)\"\n",
        "runSelect(sql)"
      ],
      "metadata": {
        "colab": {
          "base_uri": "https://localhost:8080/",
          "height": 426
        },
        "id": "RO428SVT5T3d",
        "outputId": "3581a255-a84c-4ab2-dd62-23abfff9752e"
      },
      "execution_count": 81,
      "outputs": [
        {
          "output_type": "execute_result",
          "data": {
            "text/plain": [
              "<pandas.io.formats.style.Styler at 0x7a119483c410>"
            ],
            "text/html": [
              "<style type=\"text/css\">\n",
              "</style>\n",
              "<table id=\"T_c5ce6\" class=\"dataframe\">\n",
              "  <thead>\n",
              "    <tr>\n",
              "      <th id=\"T_c5ce6_level0_col0\" class=\"col_heading level0 col0\" >deptname</th>\n",
              "      <th id=\"T_c5ce6_level0_col1\" class=\"col_heading level0 col1\" >lastname</th>\n",
              "      <th id=\"T_c5ce6_level0_col2\" class=\"col_heading level0 col2\" >salary</th>\n",
              "      <th id=\"T_c5ce6_level0_col3\" class=\"col_heading level0 col3\" >deptlow</th>\n",
              "      <th id=\"T_c5ce6_level0_col4\" class=\"col_heading level0 col4\" >depthigh</th>\n",
              "    </tr>\n",
              "  </thead>\n",
              "  <tbody>\n",
              "    <tr>\n",
              "      <td id=\"T_c5ce6_row0_col0\" class=\"data row0 col0\" >Accounts</td>\n",
              "      <td id=\"T_c5ce6_row0_col1\" class=\"data row0 col1\" >Dalmia</td>\n",
              "      <td id=\"T_c5ce6_row0_col2\" class=\"data row0 col2\" >12000</td>\n",
              "      <td id=\"T_c5ce6_row0_col3\" class=\"data row0 col3\" >12000</td>\n",
              "      <td id=\"T_c5ce6_row0_col4\" class=\"data row0 col4\" >40000</td>\n",
              "    </tr>\n",
              "    <tr>\n",
              "      <td id=\"T_c5ce6_row1_col0\" class=\"data row1 col0\" >Accounts</td>\n",
              "      <td id=\"T_c5ce6_row1_col1\" class=\"data row1 col1\" >Mirza</td>\n",
              "      <td id=\"T_c5ce6_row1_col2\" class=\"data row1 col2\" >25000</td>\n",
              "      <td id=\"T_c5ce6_row1_col3\" class=\"data row1 col3\" >12000</td>\n",
              "      <td id=\"T_c5ce6_row1_col4\" class=\"data row1 col4\" >40000</td>\n",
              "    </tr>\n",
              "    <tr>\n",
              "      <td id=\"T_c5ce6_row2_col0\" class=\"data row2 col0\" >Accounts</td>\n",
              "      <td id=\"T_c5ce6_row2_col1\" class=\"data row2 col1\" >Dravid</td>\n",
              "      <td id=\"T_c5ce6_row2_col2\" class=\"data row2 col2\" >40000</td>\n",
              "      <td id=\"T_c5ce6_row2_col3\" class=\"data row2 col3\" >12000</td>\n",
              "      <td id=\"T_c5ce6_row2_col4\" class=\"data row2 col4\" >40000</td>\n",
              "    </tr>\n",
              "    <tr>\n",
              "      <td id=\"T_c5ce6_row3_col0\" class=\"data row3 col0\" >Corporate</td>\n",
              "      <td id=\"T_c5ce6_row3_col1\" class=\"data row3 col1\" >Karthikeyan</td>\n",
              "      <td id=\"T_c5ce6_row3_col2\" class=\"data row3 col2\" >40000</td>\n",
              "      <td id=\"T_c5ce6_row3_col3\" class=\"data row3 col3\" >40000</td>\n",
              "      <td id=\"T_c5ce6_row3_col4\" class=\"data row3 col4\" >60000</td>\n",
              "    </tr>\n",
              "    <tr>\n",
              "      <td id=\"T_c5ce6_row4_col0\" class=\"data row4 col0\" >Corporate</td>\n",
              "      <td id=\"T_c5ce6_row4_col1\" class=\"data row4 col1\" >Bacchan</td>\n",
              "      <td id=\"T_c5ce6_row4_col2\" class=\"data row4 col2\" >50000</td>\n",
              "      <td id=\"T_c5ce6_row4_col3\" class=\"data row4 col3\" >40000</td>\n",
              "      <td id=\"T_c5ce6_row4_col4\" class=\"data row4 col4\" >60000</td>\n",
              "    </tr>\n",
              "    <tr>\n",
              "      <td id=\"T_c5ce6_row5_col0\" class=\"data row5 col0\" >Corporate</td>\n",
              "      <td id=\"T_c5ce6_row5_col1\" class=\"data row5 col1\" >Ganesan</td>\n",
              "      <td id=\"T_c5ce6_row5_col2\" class=\"data row5 col2\" >60000</td>\n",
              "      <td id=\"T_c5ce6_row5_col3\" class=\"data row5 col3\" >40000</td>\n",
              "      <td id=\"T_c5ce6_row5_col4\" class=\"data row5 col4\" >60000</td>\n",
              "    </tr>\n",
              "    <tr>\n",
              "      <td id=\"T_c5ce6_row6_col0\" class=\"data row6 col0\" >Production</td>\n",
              "      <td id=\"T_c5ce6_row6_col1\" class=\"data row6 col1\" >Dhoni</td>\n",
              "      <td id=\"T_c5ce6_row6_col2\" class=\"data row6 col2\" >9000</td>\n",
              "      <td id=\"T_c5ce6_row6_col3\" class=\"data row6 col3\" >9000</td>\n",
              "      <td id=\"T_c5ce6_row6_col4\" class=\"data row6 col4\" >25000</td>\n",
              "    </tr>\n",
              "    <tr>\n",
              "      <td id=\"T_c5ce6_row7_col0\" class=\"data row7 col0\" >Production</td>\n",
              "      <td id=\"T_c5ce6_row7_col1\" class=\"data row7 col1\" >Ganguly</td>\n",
              "      <td id=\"T_c5ce6_row7_col2\" class=\"data row7 col2\" >20000</td>\n",
              "      <td id=\"T_c5ce6_row7_col3\" class=\"data row7 col3\" >9000</td>\n",
              "      <td id=\"T_c5ce6_row7_col4\" class=\"data row7 col4\" >25000</td>\n",
              "    </tr>\n",
              "    <tr>\n",
              "      <td id=\"T_c5ce6_row8_col0\" class=\"data row8 col0\" >Production</td>\n",
              "      <td id=\"T_c5ce6_row8_col1\" class=\"data row8 col1\" >Mukherjee</td>\n",
              "      <td id=\"T_c5ce6_row8_col2\" class=\"data row8 col2\" >25000</td>\n",
              "      <td id=\"T_c5ce6_row8_col3\" class=\"data row8 col3\" >9000</td>\n",
              "      <td id=\"T_c5ce6_row8_col4\" class=\"data row8 col4\" >25000</td>\n",
              "    </tr>\n",
              "    <tr>\n",
              "      <td id=\"T_c5ce6_row9_col0\" class=\"data row9 col0\" >Sales</td>\n",
              "      <td id=\"T_c5ce6_row9_col1\" class=\"data row9 col1\" >Dikshit</td>\n",
              "      <td id=\"T_c5ce6_row9_col2\" class=\"data row9 col2\" >10000</td>\n",
              "      <td id=\"T_c5ce6_row9_col3\" class=\"data row9 col3\" >10000</td>\n",
              "      <td id=\"T_c5ce6_row9_col4\" class=\"data row9 col4\" >30000</td>\n",
              "    </tr>\n",
              "    <tr>\n",
              "      <td id=\"T_c5ce6_row10_col0\" class=\"data row10 col0\" >Sales</td>\n",
              "      <td id=\"T_c5ce6_row10_col1\" class=\"data row10 col1\" >Sehwag</td>\n",
              "      <td id=\"T_c5ce6_row10_col2\" class=\"data row10 col2\" >15000</td>\n",
              "      <td id=\"T_c5ce6_row10_col3\" class=\"data row10 col3\" >10000</td>\n",
              "      <td id=\"T_c5ce6_row10_col4\" class=\"data row10 col4\" >30000</td>\n",
              "    </tr>\n",
              "    <tr>\n",
              "      <td id=\"T_c5ce6_row11_col0\" class=\"data row11 col0\" >Sales</td>\n",
              "      <td id=\"T_c5ce6_row11_col1\" class=\"data row11 col1\" >Khan</td>\n",
              "      <td id=\"T_c5ce6_row11_col2\" class=\"data row11 col2\" >30000</td>\n",
              "      <td id=\"T_c5ce6_row11_col3\" class=\"data row11 col3\" >10000</td>\n",
              "      <td id=\"T_c5ce6_row11_col4\" class=\"data row11 col4\" >30000</td>\n",
              "    </tr>\n",
              "  </tbody>\n",
              "</table>\n"
            ]
          },
          "metadata": {},
          "execution_count": 81
        }
      ]
    },
    {
      "cell_type": "code",
      "source": [
        "sql = \"select deptname, lastname, salary, \\\n",
        "lag(salary,1) over (partition by deptname order by salary) as prev_emp, \\\n",
        "salary - lag(salary,1) over (partition by deptname order by salary) as gap_up \\\n",
        "from empl  inner join dept using(deptid)\"\n",
        "runSelect(sql)"
      ],
      "metadata": {
        "colab": {
          "base_uri": "https://localhost:8080/",
          "height": 426
        },
        "id": "fnG4S0lF8h77",
        "outputId": "043fc922-496f-42cf-e069-02b2684ced15"
      },
      "execution_count": 82,
      "outputs": [
        {
          "output_type": "execute_result",
          "data": {
            "text/plain": [
              "<pandas.io.formats.style.Styler at 0x7a119483c290>"
            ],
            "text/html": [
              "<style type=\"text/css\">\n",
              "</style>\n",
              "<table id=\"T_df749\" class=\"dataframe\">\n",
              "  <thead>\n",
              "    <tr>\n",
              "      <th id=\"T_df749_level0_col0\" class=\"col_heading level0 col0\" >deptname</th>\n",
              "      <th id=\"T_df749_level0_col1\" class=\"col_heading level0 col1\" >lastname</th>\n",
              "      <th id=\"T_df749_level0_col2\" class=\"col_heading level0 col2\" >salary</th>\n",
              "      <th id=\"T_df749_level0_col3\" class=\"col_heading level0 col3\" >prev_emp</th>\n",
              "      <th id=\"T_df749_level0_col4\" class=\"col_heading level0 col4\" >gap_up</th>\n",
              "    </tr>\n",
              "  </thead>\n",
              "  <tbody>\n",
              "    <tr>\n",
              "      <td id=\"T_df749_row0_col0\" class=\"data row0 col0\" >Accounts</td>\n",
              "      <td id=\"T_df749_row0_col1\" class=\"data row0 col1\" >Dalmia</td>\n",
              "      <td id=\"T_df749_row0_col2\" class=\"data row0 col2\" >12000</td>\n",
              "      <td id=\"T_df749_row0_col3\" class=\"data row0 col3\" >nan</td>\n",
              "      <td id=\"T_df749_row0_col4\" class=\"data row0 col4\" >nan</td>\n",
              "    </tr>\n",
              "    <tr>\n",
              "      <td id=\"T_df749_row1_col0\" class=\"data row1 col0\" >Accounts</td>\n",
              "      <td id=\"T_df749_row1_col1\" class=\"data row1 col1\" >Mirza</td>\n",
              "      <td id=\"T_df749_row1_col2\" class=\"data row1 col2\" >25000</td>\n",
              "      <td id=\"T_df749_row1_col3\" class=\"data row1 col3\" >12000.000000</td>\n",
              "      <td id=\"T_df749_row1_col4\" class=\"data row1 col4\" >13000.000000</td>\n",
              "    </tr>\n",
              "    <tr>\n",
              "      <td id=\"T_df749_row2_col0\" class=\"data row2 col0\" >Accounts</td>\n",
              "      <td id=\"T_df749_row2_col1\" class=\"data row2 col1\" >Dravid</td>\n",
              "      <td id=\"T_df749_row2_col2\" class=\"data row2 col2\" >40000</td>\n",
              "      <td id=\"T_df749_row2_col3\" class=\"data row2 col3\" >25000.000000</td>\n",
              "      <td id=\"T_df749_row2_col4\" class=\"data row2 col4\" >15000.000000</td>\n",
              "    </tr>\n",
              "    <tr>\n",
              "      <td id=\"T_df749_row3_col0\" class=\"data row3 col0\" >Corporate</td>\n",
              "      <td id=\"T_df749_row3_col1\" class=\"data row3 col1\" >Karthikeyan</td>\n",
              "      <td id=\"T_df749_row3_col2\" class=\"data row3 col2\" >40000</td>\n",
              "      <td id=\"T_df749_row3_col3\" class=\"data row3 col3\" >nan</td>\n",
              "      <td id=\"T_df749_row3_col4\" class=\"data row3 col4\" >nan</td>\n",
              "    </tr>\n",
              "    <tr>\n",
              "      <td id=\"T_df749_row4_col0\" class=\"data row4 col0\" >Corporate</td>\n",
              "      <td id=\"T_df749_row4_col1\" class=\"data row4 col1\" >Bacchan</td>\n",
              "      <td id=\"T_df749_row4_col2\" class=\"data row4 col2\" >50000</td>\n",
              "      <td id=\"T_df749_row4_col3\" class=\"data row4 col3\" >40000.000000</td>\n",
              "      <td id=\"T_df749_row4_col4\" class=\"data row4 col4\" >10000.000000</td>\n",
              "    </tr>\n",
              "    <tr>\n",
              "      <td id=\"T_df749_row5_col0\" class=\"data row5 col0\" >Corporate</td>\n",
              "      <td id=\"T_df749_row5_col1\" class=\"data row5 col1\" >Ganesan</td>\n",
              "      <td id=\"T_df749_row5_col2\" class=\"data row5 col2\" >60000</td>\n",
              "      <td id=\"T_df749_row5_col3\" class=\"data row5 col3\" >50000.000000</td>\n",
              "      <td id=\"T_df749_row5_col4\" class=\"data row5 col4\" >10000.000000</td>\n",
              "    </tr>\n",
              "    <tr>\n",
              "      <td id=\"T_df749_row6_col0\" class=\"data row6 col0\" >Production</td>\n",
              "      <td id=\"T_df749_row6_col1\" class=\"data row6 col1\" >Dhoni</td>\n",
              "      <td id=\"T_df749_row6_col2\" class=\"data row6 col2\" >9000</td>\n",
              "      <td id=\"T_df749_row6_col3\" class=\"data row6 col3\" >nan</td>\n",
              "      <td id=\"T_df749_row6_col4\" class=\"data row6 col4\" >nan</td>\n",
              "    </tr>\n",
              "    <tr>\n",
              "      <td id=\"T_df749_row7_col0\" class=\"data row7 col0\" >Production</td>\n",
              "      <td id=\"T_df749_row7_col1\" class=\"data row7 col1\" >Ganguly</td>\n",
              "      <td id=\"T_df749_row7_col2\" class=\"data row7 col2\" >20000</td>\n",
              "      <td id=\"T_df749_row7_col3\" class=\"data row7 col3\" >9000.000000</td>\n",
              "      <td id=\"T_df749_row7_col4\" class=\"data row7 col4\" >11000.000000</td>\n",
              "    </tr>\n",
              "    <tr>\n",
              "      <td id=\"T_df749_row8_col0\" class=\"data row8 col0\" >Production</td>\n",
              "      <td id=\"T_df749_row8_col1\" class=\"data row8 col1\" >Mukherjee</td>\n",
              "      <td id=\"T_df749_row8_col2\" class=\"data row8 col2\" >25000</td>\n",
              "      <td id=\"T_df749_row8_col3\" class=\"data row8 col3\" >20000.000000</td>\n",
              "      <td id=\"T_df749_row8_col4\" class=\"data row8 col4\" >5000.000000</td>\n",
              "    </tr>\n",
              "    <tr>\n",
              "      <td id=\"T_df749_row9_col0\" class=\"data row9 col0\" >Sales</td>\n",
              "      <td id=\"T_df749_row9_col1\" class=\"data row9 col1\" >Dikshit</td>\n",
              "      <td id=\"T_df749_row9_col2\" class=\"data row9 col2\" >10000</td>\n",
              "      <td id=\"T_df749_row9_col3\" class=\"data row9 col3\" >nan</td>\n",
              "      <td id=\"T_df749_row9_col4\" class=\"data row9 col4\" >nan</td>\n",
              "    </tr>\n",
              "    <tr>\n",
              "      <td id=\"T_df749_row10_col0\" class=\"data row10 col0\" >Sales</td>\n",
              "      <td id=\"T_df749_row10_col1\" class=\"data row10 col1\" >Sehwag</td>\n",
              "      <td id=\"T_df749_row10_col2\" class=\"data row10 col2\" >15000</td>\n",
              "      <td id=\"T_df749_row10_col3\" class=\"data row10 col3\" >10000.000000</td>\n",
              "      <td id=\"T_df749_row10_col4\" class=\"data row10 col4\" >5000.000000</td>\n",
              "    </tr>\n",
              "    <tr>\n",
              "      <td id=\"T_df749_row11_col0\" class=\"data row11 col0\" >Sales</td>\n",
              "      <td id=\"T_df749_row11_col1\" class=\"data row11 col1\" >Khan</td>\n",
              "      <td id=\"T_df749_row11_col2\" class=\"data row11 col2\" >30000</td>\n",
              "      <td id=\"T_df749_row11_col3\" class=\"data row11 col3\" >15000.000000</td>\n",
              "      <td id=\"T_df749_row11_col4\" class=\"data row11 col4\" >15000.000000</td>\n",
              "    </tr>\n",
              "  </tbody>\n",
              "</table>\n"
            ]
          },
          "metadata": {},
          "execution_count": 82
        }
      ]
    },
    {
      "cell_type": "markdown",
      "source": [
        "#Transpose / Pivot\n",
        "https://www.sqlshack.com/how-to-use-the-crosstab-function-in-postgresql/"
      ],
      "metadata": {
        "id": "V6Bt-yTXSITF"
      }
    },
    {
      "cell_type": "code",
      "source": [
        "!psql -h localhost -p 5432 -Uupraxis -ddbpraxis -c \"create extension tablefunc;\""
      ],
      "metadata": {
        "colab": {
          "base_uri": "https://localhost:8080/"
        },
        "id": "ZgVgr1DfYs_R",
        "outputId": "5c3ea287-29fb-4e4b-fb04-c711f7df7459"
      },
      "execution_count": 83,
      "outputs": [
        {
          "output_type": "stream",
          "name": "stdout",
          "text": [
            "CREATE EXTENSION\n"
          ]
        }
      ]
    },
    {
      "cell_type": "code",
      "source": [
        "runSelect('select * from dept')"
      ],
      "metadata": {
        "colab": {
          "base_uri": "https://localhost:8080/",
          "height": 206
        },
        "id": "Sa9IpGXwSKWe",
        "outputId": "7c98e670-bbfe-4de1-b332-d5b26f89bdff"
      },
      "execution_count": 84,
      "outputs": [
        {
          "output_type": "execute_result",
          "data": {
            "text/plain": [
              "<pandas.io.formats.style.Styler at 0x7a11948465d0>"
            ],
            "text/html": [
              "<style type=\"text/css\">\n",
              "</style>\n",
              "<table id=\"T_bf5db\" class=\"dataframe\">\n",
              "  <thead>\n",
              "    <tr>\n",
              "      <th id=\"T_bf5db_level0_col0\" class=\"col_heading level0 col0\" >deptid</th>\n",
              "      <th id=\"T_bf5db_level0_col1\" class=\"col_heading level0 col1\" >deptname</th>\n",
              "      <th id=\"T_bf5db_level0_col2\" class=\"col_heading level0 col2\" >managerid</th>\n",
              "      <th id=\"T_bf5db_level0_col3\" class=\"col_heading level0 col3\" >location</th>\n",
              "      <th id=\"T_bf5db_level0_col4\" class=\"col_heading level0 col4\" >locationid</th>\n",
              "    </tr>\n",
              "  </thead>\n",
              "  <tbody>\n",
              "    <tr>\n",
              "      <td id=\"T_bf5db_row0_col0\" class=\"data row0 col0\" >10</td>\n",
              "      <td id=\"T_bf5db_row0_col1\" class=\"data row0 col1\" >Corporate</td>\n",
              "      <td id=\"T_bf5db_row0_col2\" class=\"data row0 col2\" >299034</td>\n",
              "      <td id=\"T_bf5db_row0_col3\" class=\"data row0 col3\" >Calcutta</td>\n",
              "      <td id=\"T_bf5db_row0_col4\" class=\"data row0 col4\" >1</td>\n",
              "    </tr>\n",
              "    <tr>\n",
              "      <td id=\"T_bf5db_row1_col0\" class=\"data row1 col0\" >20</td>\n",
              "      <td id=\"T_bf5db_row1_col1\" class=\"data row1 col1\" >Sales</td>\n",
              "      <td id=\"T_bf5db_row1_col2\" class=\"data row1 col2\" >239456</td>\n",
              "      <td id=\"T_bf5db_row1_col3\" class=\"data row1 col3\" >Calcutta</td>\n",
              "      <td id=\"T_bf5db_row1_col4\" class=\"data row1 col4\" >1</td>\n",
              "    </tr>\n",
              "    <tr>\n",
              "      <td id=\"T_bf5db_row2_col0\" class=\"data row2 col0\" >30</td>\n",
              "      <td id=\"T_bf5db_row2_col1\" class=\"data row2 col1\" >Accounts</td>\n",
              "      <td id=\"T_bf5db_row2_col2\" class=\"data row2 col2\" >822134</td>\n",
              "      <td id=\"T_bf5db_row2_col3\" class=\"data row2 col3\" >Calcutta</td>\n",
              "      <td id=\"T_bf5db_row2_col4\" class=\"data row2 col4\" >1</td>\n",
              "    </tr>\n",
              "    <tr>\n",
              "      <td id=\"T_bf5db_row3_col0\" class=\"data row3 col0\" >40</td>\n",
              "      <td id=\"T_bf5db_row3_col1\" class=\"data row3 col1\" >Production</td>\n",
              "      <td id=\"T_bf5db_row3_col2\" class=\"data row3 col2\" >349870</td>\n",
              "      <td id=\"T_bf5db_row3_col3\" class=\"data row3 col3\" >Bombay</td>\n",
              "      <td id=\"T_bf5db_row3_col4\" class=\"data row3 col4\" >2</td>\n",
              "    </tr>\n",
              "    <tr>\n",
              "      <td id=\"T_bf5db_row4_col0\" class=\"data row4 col0\" >60</td>\n",
              "      <td id=\"T_bf5db_row4_col1\" class=\"data row4 col1\" >Research</td>\n",
              "      <td id=\"T_bf5db_row4_col2\" class=\"data row4 col2\" >546224</td>\n",
              "      <td id=\"T_bf5db_row4_col3\" class=\"data row4 col3\" >Delhi</td>\n",
              "      <td id=\"T_bf5db_row4_col4\" class=\"data row4 col4\" >3</td>\n",
              "    </tr>\n",
              "  </tbody>\n",
              "</table>\n"
            ]
          },
          "metadata": {},
          "execution_count": 84
        }
      ]
    },
    {
      "cell_type": "code",
      "source": [
        "sql = \"\\\n",
        "select * from \\\n",
        "crosstab('select location::text,locationid::text,deptname::text from dept order by 1,2') as locations \\\n",
        "(location text, dep1 text, dep2 text, dep3 text, dep4 text)\\\n",
        "\"\n",
        "runSelect(sql)"
      ],
      "metadata": {
        "colab": {
          "base_uri": "https://localhost:8080/",
          "height": 143
        },
        "id": "Iukqh6TRVo-9",
        "outputId": "89d48560-8a4b-4012-aa2d-5208401ee56d"
      },
      "execution_count": 85,
      "outputs": [
        {
          "output_type": "execute_result",
          "data": {
            "text/plain": [
              "<pandas.io.formats.style.Styler at 0x7a1194844550>"
            ],
            "text/html": [
              "<style type=\"text/css\">\n",
              "</style>\n",
              "<table id=\"T_342e0\" class=\"dataframe\">\n",
              "  <thead>\n",
              "    <tr>\n",
              "      <th id=\"T_342e0_level0_col0\" class=\"col_heading level0 col0\" >location</th>\n",
              "      <th id=\"T_342e0_level0_col1\" class=\"col_heading level0 col1\" >dep1</th>\n",
              "      <th id=\"T_342e0_level0_col2\" class=\"col_heading level0 col2\" >dep2</th>\n",
              "      <th id=\"T_342e0_level0_col3\" class=\"col_heading level0 col3\" >dep3</th>\n",
              "      <th id=\"T_342e0_level0_col4\" class=\"col_heading level0 col4\" >dep4</th>\n",
              "    </tr>\n",
              "  </thead>\n",
              "  <tbody>\n",
              "    <tr>\n",
              "      <td id=\"T_342e0_row0_col0\" class=\"data row0 col0\" >Bombay</td>\n",
              "      <td id=\"T_342e0_row0_col1\" class=\"data row0 col1\" >Production</td>\n",
              "      <td id=\"T_342e0_row0_col2\" class=\"data row0 col2\" >None</td>\n",
              "      <td id=\"T_342e0_row0_col3\" class=\"data row0 col3\" >None</td>\n",
              "      <td id=\"T_342e0_row0_col4\" class=\"data row0 col4\" >None</td>\n",
              "    </tr>\n",
              "    <tr>\n",
              "      <td id=\"T_342e0_row1_col0\" class=\"data row1 col0\" >Calcutta</td>\n",
              "      <td id=\"T_342e0_row1_col1\" class=\"data row1 col1\" >Corporate</td>\n",
              "      <td id=\"T_342e0_row1_col2\" class=\"data row1 col2\" >Sales</td>\n",
              "      <td id=\"T_342e0_row1_col3\" class=\"data row1 col3\" >Accounts</td>\n",
              "      <td id=\"T_342e0_row1_col4\" class=\"data row1 col4\" >None</td>\n",
              "    </tr>\n",
              "    <tr>\n",
              "      <td id=\"T_342e0_row2_col0\" class=\"data row2 col0\" >Delhi</td>\n",
              "      <td id=\"T_342e0_row2_col1\" class=\"data row2 col1\" >Research</td>\n",
              "      <td id=\"T_342e0_row2_col2\" class=\"data row2 col2\" >None</td>\n",
              "      <td id=\"T_342e0_row2_col3\" class=\"data row2 col3\" >None</td>\n",
              "      <td id=\"T_342e0_row2_col4\" class=\"data row2 col4\" >None</td>\n",
              "    </tr>\n",
              "  </tbody>\n",
              "</table>\n"
            ]
          },
          "metadata": {},
          "execution_count": 85
        }
      ]
    },
    {
      "cell_type": "markdown",
      "source": [
        "# Insert | Delete | Update"
      ],
      "metadata": {
        "id": "REcqZ7K0DYqi"
      }
    },
    {
      "cell_type": "code",
      "source": [
        "runSelect(\"select * from dept\")"
      ],
      "metadata": {
        "id": "xGgCH9vGDlsI",
        "outputId": "ae7cd4b0-1b54-4cc0-a62e-ebdbb79a3c9c",
        "colab": {
          "base_uri": "https://localhost:8080/",
          "height": 206
        }
      },
      "execution_count": 86,
      "outputs": [
        {
          "output_type": "execute_result",
          "data": {
            "text/plain": [
              "<pandas.io.formats.style.Styler at 0x7a1194844cd0>"
            ],
            "text/html": [
              "<style type=\"text/css\">\n",
              "</style>\n",
              "<table id=\"T_f2e7c\" class=\"dataframe\">\n",
              "  <thead>\n",
              "    <tr>\n",
              "      <th id=\"T_f2e7c_level0_col0\" class=\"col_heading level0 col0\" >deptid</th>\n",
              "      <th id=\"T_f2e7c_level0_col1\" class=\"col_heading level0 col1\" >deptname</th>\n",
              "      <th id=\"T_f2e7c_level0_col2\" class=\"col_heading level0 col2\" >managerid</th>\n",
              "      <th id=\"T_f2e7c_level0_col3\" class=\"col_heading level0 col3\" >location</th>\n",
              "      <th id=\"T_f2e7c_level0_col4\" class=\"col_heading level0 col4\" >locationid</th>\n",
              "    </tr>\n",
              "  </thead>\n",
              "  <tbody>\n",
              "    <tr>\n",
              "      <td id=\"T_f2e7c_row0_col0\" class=\"data row0 col0\" >10</td>\n",
              "      <td id=\"T_f2e7c_row0_col1\" class=\"data row0 col1\" >Corporate</td>\n",
              "      <td id=\"T_f2e7c_row0_col2\" class=\"data row0 col2\" >299034</td>\n",
              "      <td id=\"T_f2e7c_row0_col3\" class=\"data row0 col3\" >Calcutta</td>\n",
              "      <td id=\"T_f2e7c_row0_col4\" class=\"data row0 col4\" >1</td>\n",
              "    </tr>\n",
              "    <tr>\n",
              "      <td id=\"T_f2e7c_row1_col0\" class=\"data row1 col0\" >20</td>\n",
              "      <td id=\"T_f2e7c_row1_col1\" class=\"data row1 col1\" >Sales</td>\n",
              "      <td id=\"T_f2e7c_row1_col2\" class=\"data row1 col2\" >239456</td>\n",
              "      <td id=\"T_f2e7c_row1_col3\" class=\"data row1 col3\" >Calcutta</td>\n",
              "      <td id=\"T_f2e7c_row1_col4\" class=\"data row1 col4\" >1</td>\n",
              "    </tr>\n",
              "    <tr>\n",
              "      <td id=\"T_f2e7c_row2_col0\" class=\"data row2 col0\" >30</td>\n",
              "      <td id=\"T_f2e7c_row2_col1\" class=\"data row2 col1\" >Accounts</td>\n",
              "      <td id=\"T_f2e7c_row2_col2\" class=\"data row2 col2\" >822134</td>\n",
              "      <td id=\"T_f2e7c_row2_col3\" class=\"data row2 col3\" >Calcutta</td>\n",
              "      <td id=\"T_f2e7c_row2_col4\" class=\"data row2 col4\" >1</td>\n",
              "    </tr>\n",
              "    <tr>\n",
              "      <td id=\"T_f2e7c_row3_col0\" class=\"data row3 col0\" >40</td>\n",
              "      <td id=\"T_f2e7c_row3_col1\" class=\"data row3 col1\" >Production</td>\n",
              "      <td id=\"T_f2e7c_row3_col2\" class=\"data row3 col2\" >349870</td>\n",
              "      <td id=\"T_f2e7c_row3_col3\" class=\"data row3 col3\" >Bombay</td>\n",
              "      <td id=\"T_f2e7c_row3_col4\" class=\"data row3 col4\" >2</td>\n",
              "    </tr>\n",
              "    <tr>\n",
              "      <td id=\"T_f2e7c_row4_col0\" class=\"data row4 col0\" >60</td>\n",
              "      <td id=\"T_f2e7c_row4_col1\" class=\"data row4 col1\" >Research</td>\n",
              "      <td id=\"T_f2e7c_row4_col2\" class=\"data row4 col2\" >546224</td>\n",
              "      <td id=\"T_f2e7c_row4_col3\" class=\"data row4 col3\" >Delhi</td>\n",
              "      <td id=\"T_f2e7c_row4_col4\" class=\"data row4 col4\" >3</td>\n",
              "    </tr>\n",
              "  </tbody>\n",
              "</table>\n"
            ]
          },
          "metadata": {},
          "execution_count": 86
        }
      ]
    },
    {
      "cell_type": "code",
      "source": [
        "runCmd(\"insert into Dept (DeptID, DeptName, ManagerID, Location,LocationID) VALUES \\\n",
        "\t('12', 'Corporate2', '29903A', 'Calcutta','1'), \\\n",
        "\t('13', 'Corporate2', '29903A', 'Calcutta','1'), \\\n",
        "\t('14', 'Corporate2', '29903A', 'Calcutta','1') \\\n",
        "\t\")\n",
        "runSelect(\"select * from dept\")"
      ],
      "metadata": {
        "id": "iyW0EobdDuMY",
        "outputId": "f21c2faa-bbbe-4087-9a25-af189a02d6f9",
        "colab": {
          "base_uri": "https://localhost:8080/",
          "height": 318
        }
      },
      "execution_count": 87,
      "outputs": [
        {
          "output_type": "stream",
          "name": "stdout",
          "text": [
            "Command executed\n"
          ]
        },
        {
          "output_type": "execute_result",
          "data": {
            "text/plain": [
              "<pandas.io.formats.style.Styler at 0x7a119484d010>"
            ],
            "text/html": [
              "<style type=\"text/css\">\n",
              "</style>\n",
              "<table id=\"T_faacb\" class=\"dataframe\">\n",
              "  <thead>\n",
              "    <tr>\n",
              "      <th id=\"T_faacb_level0_col0\" class=\"col_heading level0 col0\" >deptid</th>\n",
              "      <th id=\"T_faacb_level0_col1\" class=\"col_heading level0 col1\" >deptname</th>\n",
              "      <th id=\"T_faacb_level0_col2\" class=\"col_heading level0 col2\" >managerid</th>\n",
              "      <th id=\"T_faacb_level0_col3\" class=\"col_heading level0 col3\" >location</th>\n",
              "      <th id=\"T_faacb_level0_col4\" class=\"col_heading level0 col4\" >locationid</th>\n",
              "    </tr>\n",
              "  </thead>\n",
              "  <tbody>\n",
              "    <tr>\n",
              "      <td id=\"T_faacb_row0_col0\" class=\"data row0 col0\" >10</td>\n",
              "      <td id=\"T_faacb_row0_col1\" class=\"data row0 col1\" >Corporate</td>\n",
              "      <td id=\"T_faacb_row0_col2\" class=\"data row0 col2\" >299034</td>\n",
              "      <td id=\"T_faacb_row0_col3\" class=\"data row0 col3\" >Calcutta</td>\n",
              "      <td id=\"T_faacb_row0_col4\" class=\"data row0 col4\" >1</td>\n",
              "    </tr>\n",
              "    <tr>\n",
              "      <td id=\"T_faacb_row1_col0\" class=\"data row1 col0\" >20</td>\n",
              "      <td id=\"T_faacb_row1_col1\" class=\"data row1 col1\" >Sales</td>\n",
              "      <td id=\"T_faacb_row1_col2\" class=\"data row1 col2\" >239456</td>\n",
              "      <td id=\"T_faacb_row1_col3\" class=\"data row1 col3\" >Calcutta</td>\n",
              "      <td id=\"T_faacb_row1_col4\" class=\"data row1 col4\" >1</td>\n",
              "    </tr>\n",
              "    <tr>\n",
              "      <td id=\"T_faacb_row2_col0\" class=\"data row2 col0\" >30</td>\n",
              "      <td id=\"T_faacb_row2_col1\" class=\"data row2 col1\" >Accounts</td>\n",
              "      <td id=\"T_faacb_row2_col2\" class=\"data row2 col2\" >822134</td>\n",
              "      <td id=\"T_faacb_row2_col3\" class=\"data row2 col3\" >Calcutta</td>\n",
              "      <td id=\"T_faacb_row2_col4\" class=\"data row2 col4\" >1</td>\n",
              "    </tr>\n",
              "    <tr>\n",
              "      <td id=\"T_faacb_row3_col0\" class=\"data row3 col0\" >40</td>\n",
              "      <td id=\"T_faacb_row3_col1\" class=\"data row3 col1\" >Production</td>\n",
              "      <td id=\"T_faacb_row3_col2\" class=\"data row3 col2\" >349870</td>\n",
              "      <td id=\"T_faacb_row3_col3\" class=\"data row3 col3\" >Bombay</td>\n",
              "      <td id=\"T_faacb_row3_col4\" class=\"data row3 col4\" >2</td>\n",
              "    </tr>\n",
              "    <tr>\n",
              "      <td id=\"T_faacb_row4_col0\" class=\"data row4 col0\" >60</td>\n",
              "      <td id=\"T_faacb_row4_col1\" class=\"data row4 col1\" >Research</td>\n",
              "      <td id=\"T_faacb_row4_col2\" class=\"data row4 col2\" >546224</td>\n",
              "      <td id=\"T_faacb_row4_col3\" class=\"data row4 col3\" >Delhi</td>\n",
              "      <td id=\"T_faacb_row4_col4\" class=\"data row4 col4\" >3</td>\n",
              "    </tr>\n",
              "    <tr>\n",
              "      <td id=\"T_faacb_row5_col0\" class=\"data row5 col0\" >12</td>\n",
              "      <td id=\"T_faacb_row5_col1\" class=\"data row5 col1\" >Corporate2</td>\n",
              "      <td id=\"T_faacb_row5_col2\" class=\"data row5 col2\" >29903A</td>\n",
              "      <td id=\"T_faacb_row5_col3\" class=\"data row5 col3\" >Calcutta</td>\n",
              "      <td id=\"T_faacb_row5_col4\" class=\"data row5 col4\" >1</td>\n",
              "    </tr>\n",
              "    <tr>\n",
              "      <td id=\"T_faacb_row6_col0\" class=\"data row6 col0\" >13</td>\n",
              "      <td id=\"T_faacb_row6_col1\" class=\"data row6 col1\" >Corporate2</td>\n",
              "      <td id=\"T_faacb_row6_col2\" class=\"data row6 col2\" >29903A</td>\n",
              "      <td id=\"T_faacb_row6_col3\" class=\"data row6 col3\" >Calcutta</td>\n",
              "      <td id=\"T_faacb_row6_col4\" class=\"data row6 col4\" >1</td>\n",
              "    </tr>\n",
              "    <tr>\n",
              "      <td id=\"T_faacb_row7_col0\" class=\"data row7 col0\" >14</td>\n",
              "      <td id=\"T_faacb_row7_col1\" class=\"data row7 col1\" >Corporate2</td>\n",
              "      <td id=\"T_faacb_row7_col2\" class=\"data row7 col2\" >29903A</td>\n",
              "      <td id=\"T_faacb_row7_col3\" class=\"data row7 col3\" >Calcutta</td>\n",
              "      <td id=\"T_faacb_row7_col4\" class=\"data row7 col4\" >1</td>\n",
              "    </tr>\n",
              "  </tbody>\n",
              "</table>\n"
            ]
          },
          "metadata": {},
          "execution_count": 87
        }
      ]
    },
    {
      "cell_type": "code",
      "source": [
        "runCmd(\"update dept set deptname = 'Marketing' where managerid = '29903A'\")\n",
        "runSelect(\"select * from dept\")"
      ],
      "metadata": {
        "id": "DqdnmD2pEQNq",
        "outputId": "b14bb898-fa2b-4e77-dbb6-f99e8e02f87c",
        "colab": {
          "base_uri": "https://localhost:8080/",
          "height": 318
        }
      },
      "execution_count": 88,
      "outputs": [
        {
          "output_type": "stream",
          "name": "stdout",
          "text": [
            "Command executed\n"
          ]
        },
        {
          "output_type": "execute_result",
          "data": {
            "text/plain": [
              "<pandas.io.formats.style.Styler at 0x7a119484f9d0>"
            ],
            "text/html": [
              "<style type=\"text/css\">\n",
              "</style>\n",
              "<table id=\"T_13135\" class=\"dataframe\">\n",
              "  <thead>\n",
              "    <tr>\n",
              "      <th id=\"T_13135_level0_col0\" class=\"col_heading level0 col0\" >deptid</th>\n",
              "      <th id=\"T_13135_level0_col1\" class=\"col_heading level0 col1\" >deptname</th>\n",
              "      <th id=\"T_13135_level0_col2\" class=\"col_heading level0 col2\" >managerid</th>\n",
              "      <th id=\"T_13135_level0_col3\" class=\"col_heading level0 col3\" >location</th>\n",
              "      <th id=\"T_13135_level0_col4\" class=\"col_heading level0 col4\" >locationid</th>\n",
              "    </tr>\n",
              "  </thead>\n",
              "  <tbody>\n",
              "    <tr>\n",
              "      <td id=\"T_13135_row0_col0\" class=\"data row0 col0\" >10</td>\n",
              "      <td id=\"T_13135_row0_col1\" class=\"data row0 col1\" >Corporate</td>\n",
              "      <td id=\"T_13135_row0_col2\" class=\"data row0 col2\" >299034</td>\n",
              "      <td id=\"T_13135_row0_col3\" class=\"data row0 col3\" >Calcutta</td>\n",
              "      <td id=\"T_13135_row0_col4\" class=\"data row0 col4\" >1</td>\n",
              "    </tr>\n",
              "    <tr>\n",
              "      <td id=\"T_13135_row1_col0\" class=\"data row1 col0\" >20</td>\n",
              "      <td id=\"T_13135_row1_col1\" class=\"data row1 col1\" >Sales</td>\n",
              "      <td id=\"T_13135_row1_col2\" class=\"data row1 col2\" >239456</td>\n",
              "      <td id=\"T_13135_row1_col3\" class=\"data row1 col3\" >Calcutta</td>\n",
              "      <td id=\"T_13135_row1_col4\" class=\"data row1 col4\" >1</td>\n",
              "    </tr>\n",
              "    <tr>\n",
              "      <td id=\"T_13135_row2_col0\" class=\"data row2 col0\" >30</td>\n",
              "      <td id=\"T_13135_row2_col1\" class=\"data row2 col1\" >Accounts</td>\n",
              "      <td id=\"T_13135_row2_col2\" class=\"data row2 col2\" >822134</td>\n",
              "      <td id=\"T_13135_row2_col3\" class=\"data row2 col3\" >Calcutta</td>\n",
              "      <td id=\"T_13135_row2_col4\" class=\"data row2 col4\" >1</td>\n",
              "    </tr>\n",
              "    <tr>\n",
              "      <td id=\"T_13135_row3_col0\" class=\"data row3 col0\" >40</td>\n",
              "      <td id=\"T_13135_row3_col1\" class=\"data row3 col1\" >Production</td>\n",
              "      <td id=\"T_13135_row3_col2\" class=\"data row3 col2\" >349870</td>\n",
              "      <td id=\"T_13135_row3_col3\" class=\"data row3 col3\" >Bombay</td>\n",
              "      <td id=\"T_13135_row3_col4\" class=\"data row3 col4\" >2</td>\n",
              "    </tr>\n",
              "    <tr>\n",
              "      <td id=\"T_13135_row4_col0\" class=\"data row4 col0\" >60</td>\n",
              "      <td id=\"T_13135_row4_col1\" class=\"data row4 col1\" >Research</td>\n",
              "      <td id=\"T_13135_row4_col2\" class=\"data row4 col2\" >546224</td>\n",
              "      <td id=\"T_13135_row4_col3\" class=\"data row4 col3\" >Delhi</td>\n",
              "      <td id=\"T_13135_row4_col4\" class=\"data row4 col4\" >3</td>\n",
              "    </tr>\n",
              "    <tr>\n",
              "      <td id=\"T_13135_row5_col0\" class=\"data row5 col0\" >12</td>\n",
              "      <td id=\"T_13135_row5_col1\" class=\"data row5 col1\" >Marketing</td>\n",
              "      <td id=\"T_13135_row5_col2\" class=\"data row5 col2\" >29903A</td>\n",
              "      <td id=\"T_13135_row5_col3\" class=\"data row5 col3\" >Calcutta</td>\n",
              "      <td id=\"T_13135_row5_col4\" class=\"data row5 col4\" >1</td>\n",
              "    </tr>\n",
              "    <tr>\n",
              "      <td id=\"T_13135_row6_col0\" class=\"data row6 col0\" >13</td>\n",
              "      <td id=\"T_13135_row6_col1\" class=\"data row6 col1\" >Marketing</td>\n",
              "      <td id=\"T_13135_row6_col2\" class=\"data row6 col2\" >29903A</td>\n",
              "      <td id=\"T_13135_row6_col3\" class=\"data row6 col3\" >Calcutta</td>\n",
              "      <td id=\"T_13135_row6_col4\" class=\"data row6 col4\" >1</td>\n",
              "    </tr>\n",
              "    <tr>\n",
              "      <td id=\"T_13135_row7_col0\" class=\"data row7 col0\" >14</td>\n",
              "      <td id=\"T_13135_row7_col1\" class=\"data row7 col1\" >Marketing</td>\n",
              "      <td id=\"T_13135_row7_col2\" class=\"data row7 col2\" >29903A</td>\n",
              "      <td id=\"T_13135_row7_col3\" class=\"data row7 col3\" >Calcutta</td>\n",
              "      <td id=\"T_13135_row7_col4\" class=\"data row7 col4\" >1</td>\n",
              "    </tr>\n",
              "  </tbody>\n",
              "</table>\n"
            ]
          },
          "metadata": {},
          "execution_count": 88
        }
      ]
    },
    {
      "cell_type": "code",
      "source": [
        "runCmd(\"delete from dept where managerid = '29903A'\")\n",
        "runSelect(\"select * from dept\")"
      ],
      "metadata": {
        "id": "nsnJnNrEF6iS",
        "outputId": "43606e4d-b62b-42bf-9765-bbafc66a1d6c",
        "colab": {
          "base_uri": "https://localhost:8080/",
          "height": 224
        }
      },
      "execution_count": 89,
      "outputs": [
        {
          "output_type": "stream",
          "name": "stdout",
          "text": [
            "Command executed\n"
          ]
        },
        {
          "output_type": "execute_result",
          "data": {
            "text/plain": [
              "<pandas.io.formats.style.Styler at 0x7a119484c410>"
            ],
            "text/html": [
              "<style type=\"text/css\">\n",
              "</style>\n",
              "<table id=\"T_7b133\" class=\"dataframe\">\n",
              "  <thead>\n",
              "    <tr>\n",
              "      <th id=\"T_7b133_level0_col0\" class=\"col_heading level0 col0\" >deptid</th>\n",
              "      <th id=\"T_7b133_level0_col1\" class=\"col_heading level0 col1\" >deptname</th>\n",
              "      <th id=\"T_7b133_level0_col2\" class=\"col_heading level0 col2\" >managerid</th>\n",
              "      <th id=\"T_7b133_level0_col3\" class=\"col_heading level0 col3\" >location</th>\n",
              "      <th id=\"T_7b133_level0_col4\" class=\"col_heading level0 col4\" >locationid</th>\n",
              "    </tr>\n",
              "  </thead>\n",
              "  <tbody>\n",
              "    <tr>\n",
              "      <td id=\"T_7b133_row0_col0\" class=\"data row0 col0\" >10</td>\n",
              "      <td id=\"T_7b133_row0_col1\" class=\"data row0 col1\" >Corporate</td>\n",
              "      <td id=\"T_7b133_row0_col2\" class=\"data row0 col2\" >299034</td>\n",
              "      <td id=\"T_7b133_row0_col3\" class=\"data row0 col3\" >Calcutta</td>\n",
              "      <td id=\"T_7b133_row0_col4\" class=\"data row0 col4\" >1</td>\n",
              "    </tr>\n",
              "    <tr>\n",
              "      <td id=\"T_7b133_row1_col0\" class=\"data row1 col0\" >20</td>\n",
              "      <td id=\"T_7b133_row1_col1\" class=\"data row1 col1\" >Sales</td>\n",
              "      <td id=\"T_7b133_row1_col2\" class=\"data row1 col2\" >239456</td>\n",
              "      <td id=\"T_7b133_row1_col3\" class=\"data row1 col3\" >Calcutta</td>\n",
              "      <td id=\"T_7b133_row1_col4\" class=\"data row1 col4\" >1</td>\n",
              "    </tr>\n",
              "    <tr>\n",
              "      <td id=\"T_7b133_row2_col0\" class=\"data row2 col0\" >30</td>\n",
              "      <td id=\"T_7b133_row2_col1\" class=\"data row2 col1\" >Accounts</td>\n",
              "      <td id=\"T_7b133_row2_col2\" class=\"data row2 col2\" >822134</td>\n",
              "      <td id=\"T_7b133_row2_col3\" class=\"data row2 col3\" >Calcutta</td>\n",
              "      <td id=\"T_7b133_row2_col4\" class=\"data row2 col4\" >1</td>\n",
              "    </tr>\n",
              "    <tr>\n",
              "      <td id=\"T_7b133_row3_col0\" class=\"data row3 col0\" >40</td>\n",
              "      <td id=\"T_7b133_row3_col1\" class=\"data row3 col1\" >Production</td>\n",
              "      <td id=\"T_7b133_row3_col2\" class=\"data row3 col2\" >349870</td>\n",
              "      <td id=\"T_7b133_row3_col3\" class=\"data row3 col3\" >Bombay</td>\n",
              "      <td id=\"T_7b133_row3_col4\" class=\"data row3 col4\" >2</td>\n",
              "    </tr>\n",
              "    <tr>\n",
              "      <td id=\"T_7b133_row4_col0\" class=\"data row4 col0\" >60</td>\n",
              "      <td id=\"T_7b133_row4_col1\" class=\"data row4 col1\" >Research</td>\n",
              "      <td id=\"T_7b133_row4_col2\" class=\"data row4 col2\" >546224</td>\n",
              "      <td id=\"T_7b133_row4_col3\" class=\"data row4 col3\" >Delhi</td>\n",
              "      <td id=\"T_7b133_row4_col4\" class=\"data row4 col4\" >3</td>\n",
              "    </tr>\n",
              "  </tbody>\n",
              "</table>\n"
            ]
          },
          "metadata": {},
          "execution_count": 89
        }
      ]
    },
    {
      "cell_type": "code",
      "source": [
        "from datetime import datetime\n",
        "import pytz\n",
        "print('Last tested  ',datetime.now(pytz.timezone('Asia/Kolkata')))"
      ],
      "metadata": {
        "colab": {
          "base_uri": "https://localhost:8080/"
        },
        "id": "wjBXJVhM605H",
        "outputId": "5c55f782-2d05-4d43-bc10-1ef275cafb49"
      },
      "execution_count": 90,
      "outputs": [
        {
          "output_type": "stream",
          "name": "stdout",
          "text": [
            "Last tested   2025-08-11 17:22:40.379427+05:30\n"
          ]
        }
      ]
    },
    {
      "cell_type": "markdown",
      "source": [
        "#ChronoTYM <br>\n",
        "In Indic phraseology, tantra is knowledge, a yantra is a device to explore this knowledge and a mantra is the code that unlocks both the tantra and its yantra. Chrono/TYM a sci-fi trilogy that recreates this framework where the first novel Chronotantra defines the contours of a tech driven, futuristic society, the second, Chronoyantra, describes a device used to explore the genesis of this society, while the third, Chronomantra finally reveals the code, the key, that unlocks this puzzle.  [More information](http://bit.ly/chronobooks) <br>\n",
        "![alt text](https://blogger.googleusercontent.com/img/b/R29vZ2xl/AVvXsEjdu_ajYwBRzk5iFYlcs59ZoRMMg6rhNm4JERKspvFJoveJsnfwRlzMICiC37UOja_Bd4sbfLA1pyyBbe0mj3tUfDBXoqCzNUDw3Wux7acoJBaLkWjAvJXfa7drRY2GQRAlFxEY9O7a7raY4RKy7cA3Uxgf5QsaZQ99C9GfXxFSex_rke8ROhAn41t8zOqK/s1640/tymBanner01_3.png)"
      ],
      "metadata": {
        "id": "_gNiZpyW3AzJ"
      }
    }
  ]
}