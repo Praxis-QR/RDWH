{
  "nbformat": 4,
  "nbformat_minor": 0,
  "metadata": {
    "colab": {
      "provenance": [],
      "toc_visible": true,
      "include_colab_link": true
    },
    "kernelspec": {
      "name": "python3",
      "display_name": "Python 3"
    },
    "language_info": {
      "name": "python"
    }
  },
  "cells": [
    {
      "cell_type": "markdown",
      "metadata": {
        "id": "view-in-github",
        "colab_type": "text"
      },
      "source": [
        "<a href=\"https://colab.research.google.com/github/Praxis-QR/RDWH/blob/main/PG24_2A_SQL42.ipynb\" target=\"_parent\"><img src=\"https://colab.research.google.com/assets/colab-badge.svg\" alt=\"Open In Colab\"/></a>"
      ]
    },
    {
      "cell_type": "markdown",
      "source": [
        "![Yantrajaal Banner](https://github.com/Praxis-QR/RDWH/raw/main/images/YantraJaalBanner.png)<br>\n",
        "\n",
        "\n",
        "<hr>\n",
        "\n",
        "[Prithwis Mukerjee](http://www.linkedin.com/in/prithwis)<br>"
      ],
      "metadata": {
        "id": "DBzz-qaN2tKu"
      }
    },
    {
      "cell_type": "markdown",
      "source": [
        "![PostgreSQL 42](https://raw.githubusercontent.com/Praxis-QR/RDWH/main/images/PostgreSQL_24.01.png)<br>\n",
        "[SlideDeck](https://docs.google.com/presentation/d/1hdkAGbMxLfO1GYe7RzEo3LhGZhsXkyjIfBqkA72B6LM/edit?usp=sharing)"
      ],
      "metadata": {
        "id": "dBJ6X0LiJtZ6"
      }
    },
    {
      "cell_type": "code",
      "source": [
        "from datetime import datetime\n",
        "import pytz\n",
        "print('ॐ श्री सरस्वत्यै नमः',datetime.now(pytz.timezone('Asia/Calcutta')))\n",
        "!python --version\n",
        "!lsb_release -a"
      ],
      "metadata": {
        "colab": {
          "base_uri": "https://localhost:8080/"
        },
        "id": "XZ9dGt-eUikL",
        "outputId": "2256ccdc-ce15-47e2-c0c9-5c725e3cd366"
      },
      "execution_count": 1,
      "outputs": [
        {
          "output_type": "stream",
          "name": "stdout",
          "text": [
            "ॐ श्री सरस्वत्यै नमः 2025-02-27 05:44:13.787229+05:30\n",
            "Python 3.11.11\n",
            "No LSB modules are available.\n",
            "Distributor ID:\tUbuntu\n",
            "Description:\tUbuntu 22.04.4 LTS\n",
            "Release:\t22.04\n",
            "Codename:\tjammy\n"
          ]
        }
      ]
    },
    {
      "cell_type": "markdown",
      "source": [
        "#Install & Configure Postgres"
      ],
      "metadata": {
        "id": "nD-QawLT6kDr"
      }
    },
    {
      "cell_type": "markdown",
      "source": [
        "For Connecting to a Postgres server hosted in the cloud Neon DB, see [this notebook](https://github.com/Praxis-QR/RDWH/blob/main/PG24_1B_SQL_CloudLab.ipynb)"
      ],
      "metadata": {
        "id": "9w29_O07rTPE"
      }
    },
    {
      "cell_type": "code",
      "source": [
        "# Install postgresql server\n",
        "\n",
        "!apt update > /dev/null\n",
        "!apt install postgresql > /dev/null\n",
        "#!pip install psycopg2\n",
        "import psycopg2\n",
        "import pandas as pd\n",
        "#!sudo -u postgres psql -V\n",
        "!psql -V\n",
        "!service postgresql start"
      ],
      "metadata": {
        "colab": {
          "base_uri": "https://localhost:8080/"
        },
        "id": "o_RaqE0OOHP3",
        "outputId": "cdd71555-0c3c-40f4-9e02-6716b7185c15"
      },
      "execution_count": 2,
      "outputs": [
        {
          "output_type": "stream",
          "name": "stdout",
          "text": [
            "\n",
            "WARNING: apt does not have a stable CLI interface. Use with caution in scripts.\n",
            "\n",
            "W: Skipping acquire of configured file 'main/source/Sources' as repository 'https://r2u.stat.illinois.edu/ubuntu jammy InRelease' does not seem to provide it (sources.list entry misspelt?)\n",
            "\n",
            "WARNING: apt does not have a stable CLI interface. Use with caution in scripts.\n",
            "\n",
            "psql (PostgreSQL) 14.15 (Ubuntu 14.15-0ubuntu0.22.04.1)\n",
            " * Starting PostgreSQL 14 database server\n",
            "   ...done.\n"
          ]
        }
      ]
    },
    {
      "cell_type": "code",
      "source": [
        "# The installation creates Ubuntu user 'postgres' AND a Postgres database user 'postgres' both of which are superusers\n",
        "#!cat /etc/passwd\n",
        "# Use these users to create a new database user called 'upraxis' and give it a password 'upass'\n",
        "#!sudo -u postgres createuser --superuser upraxis\n",
        "!sudo -u postgres createuser upraxis\n",
        "!sudo -u postgres psql -U postgres -c \"ALTER USER upraxis PASSWORD 'upass';\"\n",
        "#\n",
        "# Change the database superuser 'postgres' to a non-default value 'pass'\n",
        "!sudo -u postgres psql -U postgres -c \"ALTER USER postgres PASSWORD 'pass';\"\n",
        "#\n",
        "# Use ubuntu superuser to create database dbpraxis and set its owner to upraxis\n",
        "!sudo -u postgres createdb -O upraxis dbpraxis\n",
        "#\n",
        "# Create file to store the password. Else will be prompted each time\n",
        "#\n",
        "!echo \"localhost:5432:dbpraxis:upraxis:upass\" > ~/.pgpass\n",
        "!echo \"localhost:5432:dbpraxis:postgres:pass\" >> ~/.pgpass\n",
        "!chmod 0600 ~/.pgpass\n",
        "!cat ~/.pgpass\n"
      ],
      "metadata": {
        "colab": {
          "base_uri": "https://localhost:8080/"
        },
        "id": "xr5kHaY_U4CZ",
        "outputId": "1e32b2b4-5667-44d7-a7b0-8d3149e98144"
      },
      "execution_count": 3,
      "outputs": [
        {
          "output_type": "stream",
          "name": "stdout",
          "text": [
            "ALTER ROLE\n",
            "ALTER ROLE\n",
            "localhost:5432:dbpraxis:upraxis:upass\n",
            "localhost:5432:dbpraxis:postgres:pass\n"
          ]
        }
      ]
    },
    {
      "cell_type": "markdown",
      "source": [
        "## Create and Load Tables"
      ],
      "metadata": {
        "id": "pHTdNzrU6qUE"
      }
    },
    {
      "cell_type": "code",
      "source": [
        "# Create Two tables using command line interface\n",
        "#\n",
        "!psql -h localhost -p 5432 -Uupraxis -ddbpraxis -c \\\n",
        "\"drop table if exists Dept;\\\n",
        "create table Dept (\\\n",
        "    DeptID char(2),\\\n",
        "    DeptName varchar(20),\\\n",
        "    ManagerID char(6),\\\n",
        "    Location varchar(10),\\\n",
        "    LocationID char(1)\\\n",
        "    );\\\n",
        "insert into Dept (DeptID, DeptName, ManagerID, Location,LocationID) VALUES \\\n",
        "\t('10', 'Corporate', '299034', 'Calcutta','1'), \\\n",
        "\t('20', 'Sales', '239456', 'Calcutta','1'), \\\n",
        "\t('30', 'Accounts', '822134', 'Calcutta','1'), \\\n",
        "\t('40', 'Production', '349870', 'Bombay','2'),\\\n",
        "    ('60', 'Research', '546224', 'Delhi','3');\\\n",
        "\""
      ],
      "metadata": {
        "colab": {
          "base_uri": "https://localhost:8080/"
        },
        "id": "DsUZ9JlEXIir",
        "outputId": "c1218b9b-152d-4ac9-9c85-51292bbd0a67"
      },
      "execution_count": 4,
      "outputs": [
        {
          "output_type": "stream",
          "name": "stdout",
          "text": [
            "NOTICE:  table \"dept\" does not exist, skipping\n",
            "INSERT 0 5\n"
          ]
        }
      ]
    },
    {
      "cell_type": "code",
      "source": [
        "!psql -h localhost -p 5432 -Uupraxis -ddbpraxis -c \\\n",
        "\"drop table if exists Empl;\\\n",
        "create table Empl \\\n",
        "    (EmpID char(6),\\\n",
        "    LastName varchar(20),\\\n",
        "    FirstName varchar(20),\\\n",
        "    JobDesc varchar(10),\\\n",
        "    JoinDate date,\\\n",
        "    Salary int,\\\n",
        "    Comm decimal(3,2),\\\n",
        "    DeptID char(2),\\\n",
        "    HiredBy char(6)\\\n",
        "    );\\\n",
        "INSERT INTO Empl (EmpID, LastName, FirstName, JobDesc, JoinDate, Salary, Comm, DeptID, HiredBy) \\\n",
        "    VALUES \\\n",
        "\t('742866', 'Bacchan', 'Amitabh', 'Executive', '2003-03-10', 50000, 0.1, '10', NULL), \\\n",
        "\t('349870', 'Mukherjee', 'Rani', 'Manager', '2005-05-04', 25000, 0.06, '40', '742866'), \\\n",
        "\t('865477', 'Dikshit', 'Madhuri', 'Clerk', '2002-04-04', 10000, 0.02, '20', '239456'), \\\n",
        "\t('239456', 'Khan', 'Shahrukh', 'Manager', '2004-01-03', 30000, 0.07, '20', '742866'), \\\n",
        "\t('897889', 'Sehwag', 'Virender', 'Cus_Rep', '2005-01-02', 15000, 0.05, '20', '239456'), \\\n",
        "\t('123980', 'Dhoni', 'Mahender', 'Clerk', '2004-10-09', 9000, 0.02, '40', '349870'), \\\n",
        "\t('822134', 'Dravid', 'Rahul', 'Sr Manager', '2000-06-04', 40000, 0.08, '30', '742866'), \\\n",
        "\t('997445', 'Dalmia', 'Jagmohan', 'Clerk', '2001-07-01', 12000, 0.02, '30', '822134'), \\\n",
        "\t('989007', 'Ganguly', 'Sourav', 'Cus_Rep', '2002-01-01', 20000, 0.03, '40', '299034'), \\\n",
        "\t('299034', 'Ganesan', 'Rekha', 'Director', '2002-10-10', 60000, 0.11, '10', '742866'), \\\n",
        "\t('546223', 'Karthikeyan', 'Narayan', 'Secretary', '2005-12-04', 40000, 0.09, '10', '299034'), \\\n",
        "    ('546224', 'Sunil', 'Chettri', 'Dy Manager', '2006-12-07', 40000, 0.05, '70', '989007'), \\\n",
        "\t('223112', 'Mirza', 'Sania', 'Cus_Rep', '2001-11-19', 25000, 0.04, '30', '822134');\\\n",
        "\""
      ],
      "metadata": {
        "colab": {
          "base_uri": "https://localhost:8080/"
        },
        "id": "5kWs3wyEd9Tm",
        "outputId": "fed75f79-c62f-4b05-9fb8-d7299d29c765"
      },
      "execution_count": 5,
      "outputs": [
        {
          "output_type": "stream",
          "name": "stdout",
          "text": [
            "NOTICE:  table \"empl\" does not exist, skipping\n",
            "INSERT 0 13\n"
          ]
        }
      ]
    },
    {
      "cell_type": "code",
      "source": [
        "#!psql -h localhost -p 5432 -Upostgres -dpraxisdb -c \"select * from dept;\"\n",
        "#!psql -h localhost -p 5432 -Uupraxis -ddbpraxis -c \"select * from dept;\""
      ],
      "metadata": {
        "id": "HyBUhbAI2PV1"
      },
      "execution_count": 6,
      "outputs": []
    },
    {
      "cell_type": "code",
      "source": [
        "#!psql -h localhost -p 5432 -U postgres -d praxisdb -c \"select * from empl;\"\n",
        "#!psql -h localhost -p 5432 -U upraxis -d dbpraxis -c \"select * from empl;\""
      ],
      "metadata": {
        "id": "byY2iccO4ctF"
      },
      "execution_count": 7,
      "outputs": []
    },
    {
      "cell_type": "markdown",
      "source": [
        "## Python Access\n",
        "https://www.tutorialspoint.com/python_data_access/python_postgresql_database_connection.htm"
      ],
      "metadata": {
        "id": "faZEj8_7CeZ8"
      }
    },
    {
      "cell_type": "code",
      "source": [
        "# Local Colab server\n",
        "\n",
        "conn = psycopg2.connect(database=\"dbpraxis\", user='upraxis', password='upass', host='127.0.0.1', port= '5432')\n",
        "#Creating a cursor object using the cursor() method\n",
        "cursor = conn.cursor()\n",
        "#Executing an MYSQL function using the execute() method\n",
        "cursor.execute(\"select version()\")\n",
        "# Fetch a single row using fetchone() method.\n",
        "data = cursor.fetchone()\n",
        "print(\"Connection established to: \",data)\n",
        "#Closing the connection\n",
        "conn.close()"
      ],
      "metadata": {
        "id": "wcE-8UBnC4zV",
        "outputId": "800ce755-498b-454a-bcc9-4038c8fe6c31",
        "colab": {
          "base_uri": "https://localhost:8080/"
        }
      },
      "execution_count": 8,
      "outputs": [
        {
          "output_type": "stream",
          "name": "stdout",
          "text": [
            "Connection established to:  ('PostgreSQL 14.15 (Ubuntu 14.15-0ubuntu0.22.04.1) on x86_64-pc-linux-gnu, compiled by gcc (Ubuntu 11.4.0-1ubuntu1~22.04) 11.4.0, 64-bit',)\n"
          ]
        }
      ]
    },
    {
      "cell_type": "code",
      "source": [
        "# function to execute SQL select statements with Postgres\n",
        "#\n",
        "def runSelect(s):\n",
        "    #Set up connection\n",
        "\n",
        "    conn = psycopg2.connect(database=\"dbpraxis\", user='upraxis', password='upass', host='127.0.0.1', port= '5432')\n",
        "    #Setting auto commit true\n",
        "    conn.autocommit = True\n",
        "    #Creating a cursor object using the cursor() method\n",
        "    cursor = conn.cursor()\n",
        "    #Retrieving data\n",
        "    cursor.execute(s)\n",
        "    #Fetching all rows from the table\n",
        "    result = cursor.fetchall();\n",
        "    #print(len(result))\n",
        "    if (len(result)) > 0:                                       # result contains at least one row\n",
        "        colnames = [desc[0] for desc in cursor.description]     # get column names\n",
        "        #print(colnames)\n",
        "        resultdf = pd.DataFrame(result)                         # convert list to dataframe\n",
        "        resultdf.columns = colnames                             # add column names\n",
        "        #return resultdf\n",
        "        return resultdf.style.hide()                            # hide the index\n",
        "    else:\n",
        "        print('no records found')\n",
        "        return\n",
        "# function to execute SQL non-select statements with Postgres\n",
        "#\n",
        "def runCmd(s):\n",
        "    #Create Connection\n",
        "    conn = psycopg2.connect(database=\"dbpraxis\", user='upraxis', password='upass', host='127.0.0.1', port= '5432')\n",
        "    #Creating a cursor object using the cursor() method\n",
        "    cursor = conn.cursor()\n",
        "    try:\n",
        "        cursor.execute(s)\n",
        "        print('Command executed')\n",
        "        conn.commit()\n",
        "    except:\n",
        "        print('Command failed')\n",
        "    #Closing the connection\n",
        "    conn.close()"
      ],
      "metadata": {
        "id": "ht2k7-3iggNd"
      },
      "execution_count": 9,
      "outputs": []
    },
    {
      "cell_type": "markdown",
      "source": [
        "#Select - getting started"
      ],
      "metadata": {
        "id": "k0rXiciVtu7Q"
      }
    },
    {
      "cell_type": "code",
      "source": [
        "#runSelect(\"select * from dept where deptid = '100'\")\n",
        "#runSelect(\"select * from dept where deptid = '10'\")\n",
        "runSelect(\"select * from dept\")"
      ],
      "metadata": {
        "id": "N3NZv0YahSs6",
        "outputId": "b22bbc9c-5d0a-49a0-d74c-bf8ed543099d",
        "colab": {
          "base_uri": "https://localhost:8080/",
          "height": 206
        }
      },
      "execution_count": 10,
      "outputs": [
        {
          "output_type": "execute_result",
          "data": {
            "text/plain": [
              "<pandas.io.formats.style.Styler at 0x7e1860426910>"
            ],
            "text/html": [
              "<style type=\"text/css\">\n",
              "</style>\n",
              "<table id=\"T_3a09a\" class=\"dataframe\">\n",
              "  <thead>\n",
              "    <tr>\n",
              "      <th id=\"T_3a09a_level0_col0\" class=\"col_heading level0 col0\" >deptid</th>\n",
              "      <th id=\"T_3a09a_level0_col1\" class=\"col_heading level0 col1\" >deptname</th>\n",
              "      <th id=\"T_3a09a_level0_col2\" class=\"col_heading level0 col2\" >managerid</th>\n",
              "      <th id=\"T_3a09a_level0_col3\" class=\"col_heading level0 col3\" >location</th>\n",
              "      <th id=\"T_3a09a_level0_col4\" class=\"col_heading level0 col4\" >locationid</th>\n",
              "    </tr>\n",
              "  </thead>\n",
              "  <tbody>\n",
              "    <tr>\n",
              "      <td id=\"T_3a09a_row0_col0\" class=\"data row0 col0\" >10</td>\n",
              "      <td id=\"T_3a09a_row0_col1\" class=\"data row0 col1\" >Corporate</td>\n",
              "      <td id=\"T_3a09a_row0_col2\" class=\"data row0 col2\" >299034</td>\n",
              "      <td id=\"T_3a09a_row0_col3\" class=\"data row0 col3\" >Calcutta</td>\n",
              "      <td id=\"T_3a09a_row0_col4\" class=\"data row0 col4\" >1</td>\n",
              "    </tr>\n",
              "    <tr>\n",
              "      <td id=\"T_3a09a_row1_col0\" class=\"data row1 col0\" >20</td>\n",
              "      <td id=\"T_3a09a_row1_col1\" class=\"data row1 col1\" >Sales</td>\n",
              "      <td id=\"T_3a09a_row1_col2\" class=\"data row1 col2\" >239456</td>\n",
              "      <td id=\"T_3a09a_row1_col3\" class=\"data row1 col3\" >Calcutta</td>\n",
              "      <td id=\"T_3a09a_row1_col4\" class=\"data row1 col4\" >1</td>\n",
              "    </tr>\n",
              "    <tr>\n",
              "      <td id=\"T_3a09a_row2_col0\" class=\"data row2 col0\" >30</td>\n",
              "      <td id=\"T_3a09a_row2_col1\" class=\"data row2 col1\" >Accounts</td>\n",
              "      <td id=\"T_3a09a_row2_col2\" class=\"data row2 col2\" >822134</td>\n",
              "      <td id=\"T_3a09a_row2_col3\" class=\"data row2 col3\" >Calcutta</td>\n",
              "      <td id=\"T_3a09a_row2_col4\" class=\"data row2 col4\" >1</td>\n",
              "    </tr>\n",
              "    <tr>\n",
              "      <td id=\"T_3a09a_row3_col0\" class=\"data row3 col0\" >40</td>\n",
              "      <td id=\"T_3a09a_row3_col1\" class=\"data row3 col1\" >Production</td>\n",
              "      <td id=\"T_3a09a_row3_col2\" class=\"data row3 col2\" >349870</td>\n",
              "      <td id=\"T_3a09a_row3_col3\" class=\"data row3 col3\" >Bombay</td>\n",
              "      <td id=\"T_3a09a_row3_col4\" class=\"data row3 col4\" >2</td>\n",
              "    </tr>\n",
              "    <tr>\n",
              "      <td id=\"T_3a09a_row4_col0\" class=\"data row4 col0\" >60</td>\n",
              "      <td id=\"T_3a09a_row4_col1\" class=\"data row4 col1\" >Research</td>\n",
              "      <td id=\"T_3a09a_row4_col2\" class=\"data row4 col2\" >546224</td>\n",
              "      <td id=\"T_3a09a_row4_col3\" class=\"data row4 col3\" >Delhi</td>\n",
              "      <td id=\"T_3a09a_row4_col4\" class=\"data row4 col4\" >3</td>\n",
              "    </tr>\n",
              "  </tbody>\n",
              "</table>\n"
            ]
          },
          "metadata": {},
          "execution_count": 10
        }
      ]
    },
    {
      "cell_type": "code",
      "source": [
        "runSelect('select * from empl')"
      ],
      "metadata": {
        "id": "Otiv4rjSl5Tg",
        "outputId": "7180bc5c-c91c-4e01-e95e-75f29c3be8c5",
        "colab": {
          "base_uri": "https://localhost:8080/",
          "height": 457
        }
      },
      "execution_count": 11,
      "outputs": [
        {
          "output_type": "execute_result",
          "data": {
            "text/plain": [
              "<pandas.io.formats.style.Styler at 0x7e181f984ad0>"
            ],
            "text/html": [
              "<style type=\"text/css\">\n",
              "</style>\n",
              "<table id=\"T_de196\" class=\"dataframe\">\n",
              "  <thead>\n",
              "    <tr>\n",
              "      <th id=\"T_de196_level0_col0\" class=\"col_heading level0 col0\" >empid</th>\n",
              "      <th id=\"T_de196_level0_col1\" class=\"col_heading level0 col1\" >lastname</th>\n",
              "      <th id=\"T_de196_level0_col2\" class=\"col_heading level0 col2\" >firstname</th>\n",
              "      <th id=\"T_de196_level0_col3\" class=\"col_heading level0 col3\" >jobdesc</th>\n",
              "      <th id=\"T_de196_level0_col4\" class=\"col_heading level0 col4\" >joindate</th>\n",
              "      <th id=\"T_de196_level0_col5\" class=\"col_heading level0 col5\" >salary</th>\n",
              "      <th id=\"T_de196_level0_col6\" class=\"col_heading level0 col6\" >comm</th>\n",
              "      <th id=\"T_de196_level0_col7\" class=\"col_heading level0 col7\" >deptid</th>\n",
              "      <th id=\"T_de196_level0_col8\" class=\"col_heading level0 col8\" >hiredby</th>\n",
              "    </tr>\n",
              "  </thead>\n",
              "  <tbody>\n",
              "    <tr>\n",
              "      <td id=\"T_de196_row0_col0\" class=\"data row0 col0\" >742866</td>\n",
              "      <td id=\"T_de196_row0_col1\" class=\"data row0 col1\" >Bacchan</td>\n",
              "      <td id=\"T_de196_row0_col2\" class=\"data row0 col2\" >Amitabh</td>\n",
              "      <td id=\"T_de196_row0_col3\" class=\"data row0 col3\" >Executive</td>\n",
              "      <td id=\"T_de196_row0_col4\" class=\"data row0 col4\" >2003-03-10</td>\n",
              "      <td id=\"T_de196_row0_col5\" class=\"data row0 col5\" >50000</td>\n",
              "      <td id=\"T_de196_row0_col6\" class=\"data row0 col6\" >0.10</td>\n",
              "      <td id=\"T_de196_row0_col7\" class=\"data row0 col7\" >10</td>\n",
              "      <td id=\"T_de196_row0_col8\" class=\"data row0 col8\" >None</td>\n",
              "    </tr>\n",
              "    <tr>\n",
              "      <td id=\"T_de196_row1_col0\" class=\"data row1 col0\" >349870</td>\n",
              "      <td id=\"T_de196_row1_col1\" class=\"data row1 col1\" >Mukherjee</td>\n",
              "      <td id=\"T_de196_row1_col2\" class=\"data row1 col2\" >Rani</td>\n",
              "      <td id=\"T_de196_row1_col3\" class=\"data row1 col3\" >Manager</td>\n",
              "      <td id=\"T_de196_row1_col4\" class=\"data row1 col4\" >2005-05-04</td>\n",
              "      <td id=\"T_de196_row1_col5\" class=\"data row1 col5\" >25000</td>\n",
              "      <td id=\"T_de196_row1_col6\" class=\"data row1 col6\" >0.06</td>\n",
              "      <td id=\"T_de196_row1_col7\" class=\"data row1 col7\" >40</td>\n",
              "      <td id=\"T_de196_row1_col8\" class=\"data row1 col8\" >742866</td>\n",
              "    </tr>\n",
              "    <tr>\n",
              "      <td id=\"T_de196_row2_col0\" class=\"data row2 col0\" >865477</td>\n",
              "      <td id=\"T_de196_row2_col1\" class=\"data row2 col1\" >Dikshit</td>\n",
              "      <td id=\"T_de196_row2_col2\" class=\"data row2 col2\" >Madhuri</td>\n",
              "      <td id=\"T_de196_row2_col3\" class=\"data row2 col3\" >Clerk</td>\n",
              "      <td id=\"T_de196_row2_col4\" class=\"data row2 col4\" >2002-04-04</td>\n",
              "      <td id=\"T_de196_row2_col5\" class=\"data row2 col5\" >10000</td>\n",
              "      <td id=\"T_de196_row2_col6\" class=\"data row2 col6\" >0.02</td>\n",
              "      <td id=\"T_de196_row2_col7\" class=\"data row2 col7\" >20</td>\n",
              "      <td id=\"T_de196_row2_col8\" class=\"data row2 col8\" >239456</td>\n",
              "    </tr>\n",
              "    <tr>\n",
              "      <td id=\"T_de196_row3_col0\" class=\"data row3 col0\" >239456</td>\n",
              "      <td id=\"T_de196_row3_col1\" class=\"data row3 col1\" >Khan</td>\n",
              "      <td id=\"T_de196_row3_col2\" class=\"data row3 col2\" >Shahrukh</td>\n",
              "      <td id=\"T_de196_row3_col3\" class=\"data row3 col3\" >Manager</td>\n",
              "      <td id=\"T_de196_row3_col4\" class=\"data row3 col4\" >2004-01-03</td>\n",
              "      <td id=\"T_de196_row3_col5\" class=\"data row3 col5\" >30000</td>\n",
              "      <td id=\"T_de196_row3_col6\" class=\"data row3 col6\" >0.07</td>\n",
              "      <td id=\"T_de196_row3_col7\" class=\"data row3 col7\" >20</td>\n",
              "      <td id=\"T_de196_row3_col8\" class=\"data row3 col8\" >742866</td>\n",
              "    </tr>\n",
              "    <tr>\n",
              "      <td id=\"T_de196_row4_col0\" class=\"data row4 col0\" >897889</td>\n",
              "      <td id=\"T_de196_row4_col1\" class=\"data row4 col1\" >Sehwag</td>\n",
              "      <td id=\"T_de196_row4_col2\" class=\"data row4 col2\" >Virender</td>\n",
              "      <td id=\"T_de196_row4_col3\" class=\"data row4 col3\" >Cus_Rep</td>\n",
              "      <td id=\"T_de196_row4_col4\" class=\"data row4 col4\" >2005-01-02</td>\n",
              "      <td id=\"T_de196_row4_col5\" class=\"data row4 col5\" >15000</td>\n",
              "      <td id=\"T_de196_row4_col6\" class=\"data row4 col6\" >0.05</td>\n",
              "      <td id=\"T_de196_row4_col7\" class=\"data row4 col7\" >20</td>\n",
              "      <td id=\"T_de196_row4_col8\" class=\"data row4 col8\" >239456</td>\n",
              "    </tr>\n",
              "    <tr>\n",
              "      <td id=\"T_de196_row5_col0\" class=\"data row5 col0\" >123980</td>\n",
              "      <td id=\"T_de196_row5_col1\" class=\"data row5 col1\" >Dhoni</td>\n",
              "      <td id=\"T_de196_row5_col2\" class=\"data row5 col2\" >Mahender</td>\n",
              "      <td id=\"T_de196_row5_col3\" class=\"data row5 col3\" >Clerk</td>\n",
              "      <td id=\"T_de196_row5_col4\" class=\"data row5 col4\" >2004-10-09</td>\n",
              "      <td id=\"T_de196_row5_col5\" class=\"data row5 col5\" >9000</td>\n",
              "      <td id=\"T_de196_row5_col6\" class=\"data row5 col6\" >0.02</td>\n",
              "      <td id=\"T_de196_row5_col7\" class=\"data row5 col7\" >40</td>\n",
              "      <td id=\"T_de196_row5_col8\" class=\"data row5 col8\" >349870</td>\n",
              "    </tr>\n",
              "    <tr>\n",
              "      <td id=\"T_de196_row6_col0\" class=\"data row6 col0\" >822134</td>\n",
              "      <td id=\"T_de196_row6_col1\" class=\"data row6 col1\" >Dravid</td>\n",
              "      <td id=\"T_de196_row6_col2\" class=\"data row6 col2\" >Rahul</td>\n",
              "      <td id=\"T_de196_row6_col3\" class=\"data row6 col3\" >Sr Manager</td>\n",
              "      <td id=\"T_de196_row6_col4\" class=\"data row6 col4\" >2000-06-04</td>\n",
              "      <td id=\"T_de196_row6_col5\" class=\"data row6 col5\" >40000</td>\n",
              "      <td id=\"T_de196_row6_col6\" class=\"data row6 col6\" >0.08</td>\n",
              "      <td id=\"T_de196_row6_col7\" class=\"data row6 col7\" >30</td>\n",
              "      <td id=\"T_de196_row6_col8\" class=\"data row6 col8\" >742866</td>\n",
              "    </tr>\n",
              "    <tr>\n",
              "      <td id=\"T_de196_row7_col0\" class=\"data row7 col0\" >997445</td>\n",
              "      <td id=\"T_de196_row7_col1\" class=\"data row7 col1\" >Dalmia</td>\n",
              "      <td id=\"T_de196_row7_col2\" class=\"data row7 col2\" >Jagmohan</td>\n",
              "      <td id=\"T_de196_row7_col3\" class=\"data row7 col3\" >Clerk</td>\n",
              "      <td id=\"T_de196_row7_col4\" class=\"data row7 col4\" >2001-07-01</td>\n",
              "      <td id=\"T_de196_row7_col5\" class=\"data row7 col5\" >12000</td>\n",
              "      <td id=\"T_de196_row7_col6\" class=\"data row7 col6\" >0.02</td>\n",
              "      <td id=\"T_de196_row7_col7\" class=\"data row7 col7\" >30</td>\n",
              "      <td id=\"T_de196_row7_col8\" class=\"data row7 col8\" >822134</td>\n",
              "    </tr>\n",
              "    <tr>\n",
              "      <td id=\"T_de196_row8_col0\" class=\"data row8 col0\" >989007</td>\n",
              "      <td id=\"T_de196_row8_col1\" class=\"data row8 col1\" >Ganguly</td>\n",
              "      <td id=\"T_de196_row8_col2\" class=\"data row8 col2\" >Sourav</td>\n",
              "      <td id=\"T_de196_row8_col3\" class=\"data row8 col3\" >Cus_Rep</td>\n",
              "      <td id=\"T_de196_row8_col4\" class=\"data row8 col4\" >2002-01-01</td>\n",
              "      <td id=\"T_de196_row8_col5\" class=\"data row8 col5\" >20000</td>\n",
              "      <td id=\"T_de196_row8_col6\" class=\"data row8 col6\" >0.03</td>\n",
              "      <td id=\"T_de196_row8_col7\" class=\"data row8 col7\" >40</td>\n",
              "      <td id=\"T_de196_row8_col8\" class=\"data row8 col8\" >299034</td>\n",
              "    </tr>\n",
              "    <tr>\n",
              "      <td id=\"T_de196_row9_col0\" class=\"data row9 col0\" >299034</td>\n",
              "      <td id=\"T_de196_row9_col1\" class=\"data row9 col1\" >Ganesan</td>\n",
              "      <td id=\"T_de196_row9_col2\" class=\"data row9 col2\" >Rekha</td>\n",
              "      <td id=\"T_de196_row9_col3\" class=\"data row9 col3\" >Director</td>\n",
              "      <td id=\"T_de196_row9_col4\" class=\"data row9 col4\" >2002-10-10</td>\n",
              "      <td id=\"T_de196_row9_col5\" class=\"data row9 col5\" >60000</td>\n",
              "      <td id=\"T_de196_row9_col6\" class=\"data row9 col6\" >0.11</td>\n",
              "      <td id=\"T_de196_row9_col7\" class=\"data row9 col7\" >10</td>\n",
              "      <td id=\"T_de196_row9_col8\" class=\"data row9 col8\" >742866</td>\n",
              "    </tr>\n",
              "    <tr>\n",
              "      <td id=\"T_de196_row10_col0\" class=\"data row10 col0\" >546223</td>\n",
              "      <td id=\"T_de196_row10_col1\" class=\"data row10 col1\" >Karthikeyan</td>\n",
              "      <td id=\"T_de196_row10_col2\" class=\"data row10 col2\" >Narayan</td>\n",
              "      <td id=\"T_de196_row10_col3\" class=\"data row10 col3\" >Secretary</td>\n",
              "      <td id=\"T_de196_row10_col4\" class=\"data row10 col4\" >2005-12-04</td>\n",
              "      <td id=\"T_de196_row10_col5\" class=\"data row10 col5\" >40000</td>\n",
              "      <td id=\"T_de196_row10_col6\" class=\"data row10 col6\" >0.09</td>\n",
              "      <td id=\"T_de196_row10_col7\" class=\"data row10 col7\" >10</td>\n",
              "      <td id=\"T_de196_row10_col8\" class=\"data row10 col8\" >299034</td>\n",
              "    </tr>\n",
              "    <tr>\n",
              "      <td id=\"T_de196_row11_col0\" class=\"data row11 col0\" >546224</td>\n",
              "      <td id=\"T_de196_row11_col1\" class=\"data row11 col1\" >Sunil</td>\n",
              "      <td id=\"T_de196_row11_col2\" class=\"data row11 col2\" >Chettri</td>\n",
              "      <td id=\"T_de196_row11_col3\" class=\"data row11 col3\" >Dy Manager</td>\n",
              "      <td id=\"T_de196_row11_col4\" class=\"data row11 col4\" >2006-12-07</td>\n",
              "      <td id=\"T_de196_row11_col5\" class=\"data row11 col5\" >40000</td>\n",
              "      <td id=\"T_de196_row11_col6\" class=\"data row11 col6\" >0.05</td>\n",
              "      <td id=\"T_de196_row11_col7\" class=\"data row11 col7\" >70</td>\n",
              "      <td id=\"T_de196_row11_col8\" class=\"data row11 col8\" >989007</td>\n",
              "    </tr>\n",
              "    <tr>\n",
              "      <td id=\"T_de196_row12_col0\" class=\"data row12 col0\" >223112</td>\n",
              "      <td id=\"T_de196_row12_col1\" class=\"data row12 col1\" >Mirza</td>\n",
              "      <td id=\"T_de196_row12_col2\" class=\"data row12 col2\" >Sania</td>\n",
              "      <td id=\"T_de196_row12_col3\" class=\"data row12 col3\" >Cus_Rep</td>\n",
              "      <td id=\"T_de196_row12_col4\" class=\"data row12 col4\" >2001-11-19</td>\n",
              "      <td id=\"T_de196_row12_col5\" class=\"data row12 col5\" >25000</td>\n",
              "      <td id=\"T_de196_row12_col6\" class=\"data row12 col6\" >0.04</td>\n",
              "      <td id=\"T_de196_row12_col7\" class=\"data row12 col7\" >30</td>\n",
              "      <td id=\"T_de196_row12_col8\" class=\"data row12 col8\" >822134</td>\n",
              "    </tr>\n",
              "  </tbody>\n",
              "</table>\n"
            ]
          },
          "metadata": {},
          "execution_count": 11
        }
      ]
    },
    {
      "cell_type": "code",
      "source": [
        "runSelect('select lastname, jobdesc, salary from empl')"
      ],
      "metadata": {
        "id": "z-mxVMPuuxu6",
        "outputId": "12491f17-a0c5-49d0-d014-c1c494ca32c7",
        "colab": {
          "base_uri": "https://localhost:8080/",
          "height": 457
        }
      },
      "execution_count": 12,
      "outputs": [
        {
          "output_type": "execute_result",
          "data": {
            "text/plain": [
              "<pandas.io.formats.style.Styler at 0x7e181f99a3d0>"
            ],
            "text/html": [
              "<style type=\"text/css\">\n",
              "</style>\n",
              "<table id=\"T_1877e\" class=\"dataframe\">\n",
              "  <thead>\n",
              "    <tr>\n",
              "      <th id=\"T_1877e_level0_col0\" class=\"col_heading level0 col0\" >lastname</th>\n",
              "      <th id=\"T_1877e_level0_col1\" class=\"col_heading level0 col1\" >jobdesc</th>\n",
              "      <th id=\"T_1877e_level0_col2\" class=\"col_heading level0 col2\" >salary</th>\n",
              "    </tr>\n",
              "  </thead>\n",
              "  <tbody>\n",
              "    <tr>\n",
              "      <td id=\"T_1877e_row0_col0\" class=\"data row0 col0\" >Bacchan</td>\n",
              "      <td id=\"T_1877e_row0_col1\" class=\"data row0 col1\" >Executive</td>\n",
              "      <td id=\"T_1877e_row0_col2\" class=\"data row0 col2\" >50000</td>\n",
              "    </tr>\n",
              "    <tr>\n",
              "      <td id=\"T_1877e_row1_col0\" class=\"data row1 col0\" >Mukherjee</td>\n",
              "      <td id=\"T_1877e_row1_col1\" class=\"data row1 col1\" >Manager</td>\n",
              "      <td id=\"T_1877e_row1_col2\" class=\"data row1 col2\" >25000</td>\n",
              "    </tr>\n",
              "    <tr>\n",
              "      <td id=\"T_1877e_row2_col0\" class=\"data row2 col0\" >Dikshit</td>\n",
              "      <td id=\"T_1877e_row2_col1\" class=\"data row2 col1\" >Clerk</td>\n",
              "      <td id=\"T_1877e_row2_col2\" class=\"data row2 col2\" >10000</td>\n",
              "    </tr>\n",
              "    <tr>\n",
              "      <td id=\"T_1877e_row3_col0\" class=\"data row3 col0\" >Khan</td>\n",
              "      <td id=\"T_1877e_row3_col1\" class=\"data row3 col1\" >Manager</td>\n",
              "      <td id=\"T_1877e_row3_col2\" class=\"data row3 col2\" >30000</td>\n",
              "    </tr>\n",
              "    <tr>\n",
              "      <td id=\"T_1877e_row4_col0\" class=\"data row4 col0\" >Sehwag</td>\n",
              "      <td id=\"T_1877e_row4_col1\" class=\"data row4 col1\" >Cus_Rep</td>\n",
              "      <td id=\"T_1877e_row4_col2\" class=\"data row4 col2\" >15000</td>\n",
              "    </tr>\n",
              "    <tr>\n",
              "      <td id=\"T_1877e_row5_col0\" class=\"data row5 col0\" >Dhoni</td>\n",
              "      <td id=\"T_1877e_row5_col1\" class=\"data row5 col1\" >Clerk</td>\n",
              "      <td id=\"T_1877e_row5_col2\" class=\"data row5 col2\" >9000</td>\n",
              "    </tr>\n",
              "    <tr>\n",
              "      <td id=\"T_1877e_row6_col0\" class=\"data row6 col0\" >Dravid</td>\n",
              "      <td id=\"T_1877e_row6_col1\" class=\"data row6 col1\" >Sr Manager</td>\n",
              "      <td id=\"T_1877e_row6_col2\" class=\"data row6 col2\" >40000</td>\n",
              "    </tr>\n",
              "    <tr>\n",
              "      <td id=\"T_1877e_row7_col0\" class=\"data row7 col0\" >Dalmia</td>\n",
              "      <td id=\"T_1877e_row7_col1\" class=\"data row7 col1\" >Clerk</td>\n",
              "      <td id=\"T_1877e_row7_col2\" class=\"data row7 col2\" >12000</td>\n",
              "    </tr>\n",
              "    <tr>\n",
              "      <td id=\"T_1877e_row8_col0\" class=\"data row8 col0\" >Ganguly</td>\n",
              "      <td id=\"T_1877e_row8_col1\" class=\"data row8 col1\" >Cus_Rep</td>\n",
              "      <td id=\"T_1877e_row8_col2\" class=\"data row8 col2\" >20000</td>\n",
              "    </tr>\n",
              "    <tr>\n",
              "      <td id=\"T_1877e_row9_col0\" class=\"data row9 col0\" >Ganesan</td>\n",
              "      <td id=\"T_1877e_row9_col1\" class=\"data row9 col1\" >Director</td>\n",
              "      <td id=\"T_1877e_row9_col2\" class=\"data row9 col2\" >60000</td>\n",
              "    </tr>\n",
              "    <tr>\n",
              "      <td id=\"T_1877e_row10_col0\" class=\"data row10 col0\" >Karthikeyan</td>\n",
              "      <td id=\"T_1877e_row10_col1\" class=\"data row10 col1\" >Secretary</td>\n",
              "      <td id=\"T_1877e_row10_col2\" class=\"data row10 col2\" >40000</td>\n",
              "    </tr>\n",
              "    <tr>\n",
              "      <td id=\"T_1877e_row11_col0\" class=\"data row11 col0\" >Sunil</td>\n",
              "      <td id=\"T_1877e_row11_col1\" class=\"data row11 col1\" >Dy Manager</td>\n",
              "      <td id=\"T_1877e_row11_col2\" class=\"data row11 col2\" >40000</td>\n",
              "    </tr>\n",
              "    <tr>\n",
              "      <td id=\"T_1877e_row12_col0\" class=\"data row12 col0\" >Mirza</td>\n",
              "      <td id=\"T_1877e_row12_col1\" class=\"data row12 col1\" >Cus_Rep</td>\n",
              "      <td id=\"T_1877e_row12_col2\" class=\"data row12 col2\" >25000</td>\n",
              "    </tr>\n",
              "  </tbody>\n",
              "</table>\n"
            ]
          },
          "metadata": {},
          "execution_count": 12
        }
      ]
    },
    {
      "cell_type": "code",
      "source": [
        "runSelect('select distinct(jobdesc) from empl')"
      ],
      "metadata": {
        "id": "7uvcAdlCvg-p",
        "outputId": "6aa8e073-cd63-4162-a054-6bde2c95886a",
        "colab": {
          "base_uri": "https://localhost:8080/",
          "height": 300
        }
      },
      "execution_count": 13,
      "outputs": [
        {
          "output_type": "execute_result",
          "data": {
            "text/plain": [
              "<pandas.io.formats.style.Styler at 0x7e181f99a490>"
            ],
            "text/html": [
              "<style type=\"text/css\">\n",
              "</style>\n",
              "<table id=\"T_dad4d\" class=\"dataframe\">\n",
              "  <thead>\n",
              "    <tr>\n",
              "      <th id=\"T_dad4d_level0_col0\" class=\"col_heading level0 col0\" >jobdesc</th>\n",
              "    </tr>\n",
              "  </thead>\n",
              "  <tbody>\n",
              "    <tr>\n",
              "      <td id=\"T_dad4d_row0_col0\" class=\"data row0 col0\" >Director</td>\n",
              "    </tr>\n",
              "    <tr>\n",
              "      <td id=\"T_dad4d_row1_col0\" class=\"data row1 col0\" >Manager</td>\n",
              "    </tr>\n",
              "    <tr>\n",
              "      <td id=\"T_dad4d_row2_col0\" class=\"data row2 col0\" >Dy Manager</td>\n",
              "    </tr>\n",
              "    <tr>\n",
              "      <td id=\"T_dad4d_row3_col0\" class=\"data row3 col0\" >Executive</td>\n",
              "    </tr>\n",
              "    <tr>\n",
              "      <td id=\"T_dad4d_row4_col0\" class=\"data row4 col0\" >Secretary</td>\n",
              "    </tr>\n",
              "    <tr>\n",
              "      <td id=\"T_dad4d_row5_col0\" class=\"data row5 col0\" >Cus_Rep</td>\n",
              "    </tr>\n",
              "    <tr>\n",
              "      <td id=\"T_dad4d_row6_col0\" class=\"data row6 col0\" >Clerk</td>\n",
              "    </tr>\n",
              "    <tr>\n",
              "      <td id=\"T_dad4d_row7_col0\" class=\"data row7 col0\" >Sr Manager</td>\n",
              "    </tr>\n",
              "  </tbody>\n",
              "</table>\n"
            ]
          },
          "metadata": {},
          "execution_count": 13
        }
      ]
    },
    {
      "cell_type": "markdown",
      "source": [
        "#Where"
      ],
      "metadata": {
        "id": "LFbNG59OxVzF"
      }
    },
    {
      "cell_type": "markdown",
      "source": [
        "## Equal, Not Equal, Greater, Less"
      ],
      "metadata": {
        "id": "JM2k29awVQHc"
      }
    },
    {
      "cell_type": "code",
      "source": [
        "runSelect(\"select firstname, lastname, jobdesc from empl where jobdesc = 'Clerk'\")"
      ],
      "metadata": {
        "id": "rRZz9OpLxdEY",
        "outputId": "f194957b-63e7-429f-b752-7f2246eda8bd",
        "colab": {
          "base_uri": "https://localhost:8080/",
          "height": 143
        }
      },
      "execution_count": 14,
      "outputs": [
        {
          "output_type": "execute_result",
          "data": {
            "text/plain": [
              "<pandas.io.formats.style.Styler at 0x7e186031fb10>"
            ],
            "text/html": [
              "<style type=\"text/css\">\n",
              "</style>\n",
              "<table id=\"T_b3af0\" class=\"dataframe\">\n",
              "  <thead>\n",
              "    <tr>\n",
              "      <th id=\"T_b3af0_level0_col0\" class=\"col_heading level0 col0\" >firstname</th>\n",
              "      <th id=\"T_b3af0_level0_col1\" class=\"col_heading level0 col1\" >lastname</th>\n",
              "      <th id=\"T_b3af0_level0_col2\" class=\"col_heading level0 col2\" >jobdesc</th>\n",
              "    </tr>\n",
              "  </thead>\n",
              "  <tbody>\n",
              "    <tr>\n",
              "      <td id=\"T_b3af0_row0_col0\" class=\"data row0 col0\" >Madhuri</td>\n",
              "      <td id=\"T_b3af0_row0_col1\" class=\"data row0 col1\" >Dikshit</td>\n",
              "      <td id=\"T_b3af0_row0_col2\" class=\"data row0 col2\" >Clerk</td>\n",
              "    </tr>\n",
              "    <tr>\n",
              "      <td id=\"T_b3af0_row1_col0\" class=\"data row1 col0\" >Mahender</td>\n",
              "      <td id=\"T_b3af0_row1_col1\" class=\"data row1 col1\" >Dhoni</td>\n",
              "      <td id=\"T_b3af0_row1_col2\" class=\"data row1 col2\" >Clerk</td>\n",
              "    </tr>\n",
              "    <tr>\n",
              "      <td id=\"T_b3af0_row2_col0\" class=\"data row2 col0\" >Jagmohan</td>\n",
              "      <td id=\"T_b3af0_row2_col1\" class=\"data row2 col1\" >Dalmia</td>\n",
              "      <td id=\"T_b3af0_row2_col2\" class=\"data row2 col2\" >Clerk</td>\n",
              "    </tr>\n",
              "  </tbody>\n",
              "</table>\n"
            ]
          },
          "metadata": {},
          "execution_count": 14
        }
      ]
    },
    {
      "cell_type": "code",
      "source": [
        "runSelect(\"select firstname, lastname, jobdesc from empl where jobdesc != 'Clerk'\")"
      ],
      "metadata": {
        "id": "3cl0ISR9yG-I",
        "outputId": "6bb98e19-c08f-4560-a1c3-ddcc47e64a9c",
        "colab": {
          "base_uri": "https://localhost:8080/",
          "height": 363
        }
      },
      "execution_count": 15,
      "outputs": [
        {
          "output_type": "execute_result",
          "data": {
            "text/plain": [
              "<pandas.io.formats.style.Styler at 0x7e181f987b10>"
            ],
            "text/html": [
              "<style type=\"text/css\">\n",
              "</style>\n",
              "<table id=\"T_ec06f\" class=\"dataframe\">\n",
              "  <thead>\n",
              "    <tr>\n",
              "      <th id=\"T_ec06f_level0_col0\" class=\"col_heading level0 col0\" >firstname</th>\n",
              "      <th id=\"T_ec06f_level0_col1\" class=\"col_heading level0 col1\" >lastname</th>\n",
              "      <th id=\"T_ec06f_level0_col2\" class=\"col_heading level0 col2\" >jobdesc</th>\n",
              "    </tr>\n",
              "  </thead>\n",
              "  <tbody>\n",
              "    <tr>\n",
              "      <td id=\"T_ec06f_row0_col0\" class=\"data row0 col0\" >Amitabh</td>\n",
              "      <td id=\"T_ec06f_row0_col1\" class=\"data row0 col1\" >Bacchan</td>\n",
              "      <td id=\"T_ec06f_row0_col2\" class=\"data row0 col2\" >Executive</td>\n",
              "    </tr>\n",
              "    <tr>\n",
              "      <td id=\"T_ec06f_row1_col0\" class=\"data row1 col0\" >Rani</td>\n",
              "      <td id=\"T_ec06f_row1_col1\" class=\"data row1 col1\" >Mukherjee</td>\n",
              "      <td id=\"T_ec06f_row1_col2\" class=\"data row1 col2\" >Manager</td>\n",
              "    </tr>\n",
              "    <tr>\n",
              "      <td id=\"T_ec06f_row2_col0\" class=\"data row2 col0\" >Shahrukh</td>\n",
              "      <td id=\"T_ec06f_row2_col1\" class=\"data row2 col1\" >Khan</td>\n",
              "      <td id=\"T_ec06f_row2_col2\" class=\"data row2 col2\" >Manager</td>\n",
              "    </tr>\n",
              "    <tr>\n",
              "      <td id=\"T_ec06f_row3_col0\" class=\"data row3 col0\" >Virender</td>\n",
              "      <td id=\"T_ec06f_row3_col1\" class=\"data row3 col1\" >Sehwag</td>\n",
              "      <td id=\"T_ec06f_row3_col2\" class=\"data row3 col2\" >Cus_Rep</td>\n",
              "    </tr>\n",
              "    <tr>\n",
              "      <td id=\"T_ec06f_row4_col0\" class=\"data row4 col0\" >Rahul</td>\n",
              "      <td id=\"T_ec06f_row4_col1\" class=\"data row4 col1\" >Dravid</td>\n",
              "      <td id=\"T_ec06f_row4_col2\" class=\"data row4 col2\" >Sr Manager</td>\n",
              "    </tr>\n",
              "    <tr>\n",
              "      <td id=\"T_ec06f_row5_col0\" class=\"data row5 col0\" >Sourav</td>\n",
              "      <td id=\"T_ec06f_row5_col1\" class=\"data row5 col1\" >Ganguly</td>\n",
              "      <td id=\"T_ec06f_row5_col2\" class=\"data row5 col2\" >Cus_Rep</td>\n",
              "    </tr>\n",
              "    <tr>\n",
              "      <td id=\"T_ec06f_row6_col0\" class=\"data row6 col0\" >Rekha</td>\n",
              "      <td id=\"T_ec06f_row6_col1\" class=\"data row6 col1\" >Ganesan</td>\n",
              "      <td id=\"T_ec06f_row6_col2\" class=\"data row6 col2\" >Director</td>\n",
              "    </tr>\n",
              "    <tr>\n",
              "      <td id=\"T_ec06f_row7_col0\" class=\"data row7 col0\" >Narayan</td>\n",
              "      <td id=\"T_ec06f_row7_col1\" class=\"data row7 col1\" >Karthikeyan</td>\n",
              "      <td id=\"T_ec06f_row7_col2\" class=\"data row7 col2\" >Secretary</td>\n",
              "    </tr>\n",
              "    <tr>\n",
              "      <td id=\"T_ec06f_row8_col0\" class=\"data row8 col0\" >Chettri</td>\n",
              "      <td id=\"T_ec06f_row8_col1\" class=\"data row8 col1\" >Sunil</td>\n",
              "      <td id=\"T_ec06f_row8_col2\" class=\"data row8 col2\" >Dy Manager</td>\n",
              "    </tr>\n",
              "    <tr>\n",
              "      <td id=\"T_ec06f_row9_col0\" class=\"data row9 col0\" >Sania</td>\n",
              "      <td id=\"T_ec06f_row9_col1\" class=\"data row9 col1\" >Mirza</td>\n",
              "      <td id=\"T_ec06f_row9_col2\" class=\"data row9 col2\" >Cus_Rep</td>\n",
              "    </tr>\n",
              "  </tbody>\n",
              "</table>\n"
            ]
          },
          "metadata": {},
          "execution_count": 15
        }
      ]
    },
    {
      "cell_type": "code",
      "source": [
        "runSelect(\"select firstname, lastname, salary from empl where salary > 35000\")"
      ],
      "metadata": {
        "id": "obIPpNbDyT4S",
        "outputId": "e98aab96-f4a1-40ab-cb43-1a12551436af",
        "colab": {
          "base_uri": "https://localhost:8080/",
          "height": 206
        }
      },
      "execution_count": 16,
      "outputs": [
        {
          "output_type": "execute_result",
          "data": {
            "text/plain": [
              "<pandas.io.formats.style.Styler at 0x7e181f9b0a90>"
            ],
            "text/html": [
              "<style type=\"text/css\">\n",
              "</style>\n",
              "<table id=\"T_4b98f\" class=\"dataframe\">\n",
              "  <thead>\n",
              "    <tr>\n",
              "      <th id=\"T_4b98f_level0_col0\" class=\"col_heading level0 col0\" >firstname</th>\n",
              "      <th id=\"T_4b98f_level0_col1\" class=\"col_heading level0 col1\" >lastname</th>\n",
              "      <th id=\"T_4b98f_level0_col2\" class=\"col_heading level0 col2\" >salary</th>\n",
              "    </tr>\n",
              "  </thead>\n",
              "  <tbody>\n",
              "    <tr>\n",
              "      <td id=\"T_4b98f_row0_col0\" class=\"data row0 col0\" >Amitabh</td>\n",
              "      <td id=\"T_4b98f_row0_col1\" class=\"data row0 col1\" >Bacchan</td>\n",
              "      <td id=\"T_4b98f_row0_col2\" class=\"data row0 col2\" >50000</td>\n",
              "    </tr>\n",
              "    <tr>\n",
              "      <td id=\"T_4b98f_row1_col0\" class=\"data row1 col0\" >Rahul</td>\n",
              "      <td id=\"T_4b98f_row1_col1\" class=\"data row1 col1\" >Dravid</td>\n",
              "      <td id=\"T_4b98f_row1_col2\" class=\"data row1 col2\" >40000</td>\n",
              "    </tr>\n",
              "    <tr>\n",
              "      <td id=\"T_4b98f_row2_col0\" class=\"data row2 col0\" >Rekha</td>\n",
              "      <td id=\"T_4b98f_row2_col1\" class=\"data row2 col1\" >Ganesan</td>\n",
              "      <td id=\"T_4b98f_row2_col2\" class=\"data row2 col2\" >60000</td>\n",
              "    </tr>\n",
              "    <tr>\n",
              "      <td id=\"T_4b98f_row3_col0\" class=\"data row3 col0\" >Narayan</td>\n",
              "      <td id=\"T_4b98f_row3_col1\" class=\"data row3 col1\" >Karthikeyan</td>\n",
              "      <td id=\"T_4b98f_row3_col2\" class=\"data row3 col2\" >40000</td>\n",
              "    </tr>\n",
              "    <tr>\n",
              "      <td id=\"T_4b98f_row4_col0\" class=\"data row4 col0\" >Chettri</td>\n",
              "      <td id=\"T_4b98f_row4_col1\" class=\"data row4 col1\" >Sunil</td>\n",
              "      <td id=\"T_4b98f_row4_col2\" class=\"data row4 col2\" >40000</td>\n",
              "    </tr>\n",
              "  </tbody>\n",
              "</table>\n"
            ]
          },
          "metadata": {},
          "execution_count": 16
        }
      ]
    },
    {
      "cell_type": "code",
      "source": [
        "runSelect(\"select firstname, lastname, salary, joindate from empl where joindate < '2002-01-01'\")"
      ],
      "metadata": {
        "colab": {
          "base_uri": "https://localhost:8080/",
          "height": 143
        },
        "id": "hnIvgy_dMvQl",
        "outputId": "0cd28073-c270-40aa-ea61-145fa42049d3"
      },
      "execution_count": 17,
      "outputs": [
        {
          "output_type": "execute_result",
          "data": {
            "text/plain": [
              "<pandas.io.formats.style.Styler at 0x7e181f9fb250>"
            ],
            "text/html": [
              "<style type=\"text/css\">\n",
              "</style>\n",
              "<table id=\"T_aacc7\" class=\"dataframe\">\n",
              "  <thead>\n",
              "    <tr>\n",
              "      <th id=\"T_aacc7_level0_col0\" class=\"col_heading level0 col0\" >firstname</th>\n",
              "      <th id=\"T_aacc7_level0_col1\" class=\"col_heading level0 col1\" >lastname</th>\n",
              "      <th id=\"T_aacc7_level0_col2\" class=\"col_heading level0 col2\" >salary</th>\n",
              "      <th id=\"T_aacc7_level0_col3\" class=\"col_heading level0 col3\" >joindate</th>\n",
              "    </tr>\n",
              "  </thead>\n",
              "  <tbody>\n",
              "    <tr>\n",
              "      <td id=\"T_aacc7_row0_col0\" class=\"data row0 col0\" >Rahul</td>\n",
              "      <td id=\"T_aacc7_row0_col1\" class=\"data row0 col1\" >Dravid</td>\n",
              "      <td id=\"T_aacc7_row0_col2\" class=\"data row0 col2\" >40000</td>\n",
              "      <td id=\"T_aacc7_row0_col3\" class=\"data row0 col3\" >2000-06-04</td>\n",
              "    </tr>\n",
              "    <tr>\n",
              "      <td id=\"T_aacc7_row1_col0\" class=\"data row1 col0\" >Jagmohan</td>\n",
              "      <td id=\"T_aacc7_row1_col1\" class=\"data row1 col1\" >Dalmia</td>\n",
              "      <td id=\"T_aacc7_row1_col2\" class=\"data row1 col2\" >12000</td>\n",
              "      <td id=\"T_aacc7_row1_col3\" class=\"data row1 col3\" >2001-07-01</td>\n",
              "    </tr>\n",
              "    <tr>\n",
              "      <td id=\"T_aacc7_row2_col0\" class=\"data row2 col0\" >Sania</td>\n",
              "      <td id=\"T_aacc7_row2_col1\" class=\"data row2 col1\" >Mirza</td>\n",
              "      <td id=\"T_aacc7_row2_col2\" class=\"data row2 col2\" >25000</td>\n",
              "      <td id=\"T_aacc7_row2_col3\" class=\"data row2 col3\" >2001-11-19</td>\n",
              "    </tr>\n",
              "  </tbody>\n",
              "</table>\n"
            ]
          },
          "metadata": {},
          "execution_count": 17
        }
      ]
    },
    {
      "cell_type": "markdown",
      "source": [
        "## Like"
      ],
      "metadata": {
        "id": "77DkYhfhU1lJ"
      }
    },
    {
      "cell_type": "code",
      "source": [
        "runSelect(\"select firstname, lastname, salary from empl where lastname like 'D%'\")"
      ],
      "metadata": {
        "colab": {
          "base_uri": "https://localhost:8080/",
          "height": 175
        },
        "id": "PBsdla2eVv1K",
        "outputId": "74646a82-57e2-4930-bb6a-109dd18819dd"
      },
      "execution_count": 18,
      "outputs": [
        {
          "output_type": "execute_result",
          "data": {
            "text/plain": [
              "<pandas.io.formats.style.Styler at 0x7e181f9f9810>"
            ],
            "text/html": [
              "<style type=\"text/css\">\n",
              "</style>\n",
              "<table id=\"T_814c5\" class=\"dataframe\">\n",
              "  <thead>\n",
              "    <tr>\n",
              "      <th id=\"T_814c5_level0_col0\" class=\"col_heading level0 col0\" >firstname</th>\n",
              "      <th id=\"T_814c5_level0_col1\" class=\"col_heading level0 col1\" >lastname</th>\n",
              "      <th id=\"T_814c5_level0_col2\" class=\"col_heading level0 col2\" >salary</th>\n",
              "    </tr>\n",
              "  </thead>\n",
              "  <tbody>\n",
              "    <tr>\n",
              "      <td id=\"T_814c5_row0_col0\" class=\"data row0 col0\" >Madhuri</td>\n",
              "      <td id=\"T_814c5_row0_col1\" class=\"data row0 col1\" >Dikshit</td>\n",
              "      <td id=\"T_814c5_row0_col2\" class=\"data row0 col2\" >10000</td>\n",
              "    </tr>\n",
              "    <tr>\n",
              "      <td id=\"T_814c5_row1_col0\" class=\"data row1 col0\" >Mahender</td>\n",
              "      <td id=\"T_814c5_row1_col1\" class=\"data row1 col1\" >Dhoni</td>\n",
              "      <td id=\"T_814c5_row1_col2\" class=\"data row1 col2\" >9000</td>\n",
              "    </tr>\n",
              "    <tr>\n",
              "      <td id=\"T_814c5_row2_col0\" class=\"data row2 col0\" >Rahul</td>\n",
              "      <td id=\"T_814c5_row2_col1\" class=\"data row2 col1\" >Dravid</td>\n",
              "      <td id=\"T_814c5_row2_col2\" class=\"data row2 col2\" >40000</td>\n",
              "    </tr>\n",
              "    <tr>\n",
              "      <td id=\"T_814c5_row3_col0\" class=\"data row3 col0\" >Jagmohan</td>\n",
              "      <td id=\"T_814c5_row3_col1\" class=\"data row3 col1\" >Dalmia</td>\n",
              "      <td id=\"T_814c5_row3_col2\" class=\"data row3 col2\" >12000</td>\n",
              "    </tr>\n",
              "  </tbody>\n",
              "</table>\n"
            ]
          },
          "metadata": {},
          "execution_count": 18
        }
      ]
    },
    {
      "cell_type": "code",
      "source": [
        "runSelect(\"select firstname, lastname, joindate from empl where lastname like '____i_'\")"
      ],
      "metadata": {
        "colab": {
          "base_uri": "https://localhost:8080/",
          "height": 112
        },
        "id": "xxImEDlKbm4U",
        "outputId": "f568ace6-70d7-467c-a81b-4a5530538bae"
      },
      "execution_count": 19,
      "outputs": [
        {
          "output_type": "execute_result",
          "data": {
            "text/plain": [
              "<pandas.io.formats.style.Styler at 0x7e181fa0a2d0>"
            ],
            "text/html": [
              "<style type=\"text/css\">\n",
              "</style>\n",
              "<table id=\"T_4ebaf\" class=\"dataframe\">\n",
              "  <thead>\n",
              "    <tr>\n",
              "      <th id=\"T_4ebaf_level0_col0\" class=\"col_heading level0 col0\" >firstname</th>\n",
              "      <th id=\"T_4ebaf_level0_col1\" class=\"col_heading level0 col1\" >lastname</th>\n",
              "      <th id=\"T_4ebaf_level0_col2\" class=\"col_heading level0 col2\" >joindate</th>\n",
              "    </tr>\n",
              "  </thead>\n",
              "  <tbody>\n",
              "    <tr>\n",
              "      <td id=\"T_4ebaf_row0_col0\" class=\"data row0 col0\" >Rahul</td>\n",
              "      <td id=\"T_4ebaf_row0_col1\" class=\"data row0 col1\" >Dravid</td>\n",
              "      <td id=\"T_4ebaf_row0_col2\" class=\"data row0 col2\" >2000-06-04</td>\n",
              "    </tr>\n",
              "    <tr>\n",
              "      <td id=\"T_4ebaf_row1_col0\" class=\"data row1 col0\" >Jagmohan</td>\n",
              "      <td id=\"T_4ebaf_row1_col1\" class=\"data row1 col1\" >Dalmia</td>\n",
              "      <td id=\"T_4ebaf_row1_col2\" class=\"data row1 col2\" >2001-07-01</td>\n",
              "    </tr>\n",
              "  </tbody>\n",
              "</table>\n"
            ]
          },
          "metadata": {},
          "execution_count": 19
        }
      ]
    },
    {
      "cell_type": "code",
      "source": [
        "runSelect(\"select firstname, lastname, jobdesc from empl where lastname like '____i%'\")"
      ],
      "metadata": {
        "colab": {
          "base_uri": "https://localhost:8080/",
          "height": 143
        },
        "id": "pL7VPLo4b2g3",
        "outputId": "a4892623-7c16-4117-b5c8-8acf2a9b5619"
      },
      "execution_count": 20,
      "outputs": [
        {
          "output_type": "execute_result",
          "data": {
            "text/plain": [
              "<pandas.io.formats.style.Styler at 0x7e181fa0a910>"
            ],
            "text/html": [
              "<style type=\"text/css\">\n",
              "</style>\n",
              "<table id=\"T_63ad0\" class=\"dataframe\">\n",
              "  <thead>\n",
              "    <tr>\n",
              "      <th id=\"T_63ad0_level0_col0\" class=\"col_heading level0 col0\" >firstname</th>\n",
              "      <th id=\"T_63ad0_level0_col1\" class=\"col_heading level0 col1\" >lastname</th>\n",
              "      <th id=\"T_63ad0_level0_col2\" class=\"col_heading level0 col2\" >jobdesc</th>\n",
              "    </tr>\n",
              "  </thead>\n",
              "  <tbody>\n",
              "    <tr>\n",
              "      <td id=\"T_63ad0_row0_col0\" class=\"data row0 col0\" >Mahender</td>\n",
              "      <td id=\"T_63ad0_row0_col1\" class=\"data row0 col1\" >Dhoni</td>\n",
              "      <td id=\"T_63ad0_row0_col2\" class=\"data row0 col2\" >Clerk</td>\n",
              "    </tr>\n",
              "    <tr>\n",
              "      <td id=\"T_63ad0_row1_col0\" class=\"data row1 col0\" >Rahul</td>\n",
              "      <td id=\"T_63ad0_row1_col1\" class=\"data row1 col1\" >Dravid</td>\n",
              "      <td id=\"T_63ad0_row1_col2\" class=\"data row1 col2\" >Sr Manager</td>\n",
              "    </tr>\n",
              "    <tr>\n",
              "      <td id=\"T_63ad0_row2_col0\" class=\"data row2 col0\" >Jagmohan</td>\n",
              "      <td id=\"T_63ad0_row2_col1\" class=\"data row2 col1\" >Dalmia</td>\n",
              "      <td id=\"T_63ad0_row2_col2\" class=\"data row2 col2\" >Clerk</td>\n",
              "    </tr>\n",
              "  </tbody>\n",
              "</table>\n"
            ]
          },
          "metadata": {},
          "execution_count": 20
        }
      ]
    },
    {
      "cell_type": "markdown",
      "source": [
        "## Between"
      ],
      "metadata": {
        "id": "qw2h8Vtvey2R"
      }
    },
    {
      "cell_type": "code",
      "source": [
        "runSelect(\"select firstname, lastname, salary from empl where salary between 10000 and 20000\")"
      ],
      "metadata": {
        "colab": {
          "base_uri": "https://localhost:8080/",
          "height": 175
        },
        "id": "sI_qlRdXe7S8",
        "outputId": "c19cd835-e0cb-4c87-8b1f-8e40e9d977cb"
      },
      "execution_count": 21,
      "outputs": [
        {
          "output_type": "execute_result",
          "data": {
            "text/plain": [
              "<pandas.io.formats.style.Styler at 0x7e181f9c4850>"
            ],
            "text/html": [
              "<style type=\"text/css\">\n",
              "</style>\n",
              "<table id=\"T_5cf5f\" class=\"dataframe\">\n",
              "  <thead>\n",
              "    <tr>\n",
              "      <th id=\"T_5cf5f_level0_col0\" class=\"col_heading level0 col0\" >firstname</th>\n",
              "      <th id=\"T_5cf5f_level0_col1\" class=\"col_heading level0 col1\" >lastname</th>\n",
              "      <th id=\"T_5cf5f_level0_col2\" class=\"col_heading level0 col2\" >salary</th>\n",
              "    </tr>\n",
              "  </thead>\n",
              "  <tbody>\n",
              "    <tr>\n",
              "      <td id=\"T_5cf5f_row0_col0\" class=\"data row0 col0\" >Madhuri</td>\n",
              "      <td id=\"T_5cf5f_row0_col1\" class=\"data row0 col1\" >Dikshit</td>\n",
              "      <td id=\"T_5cf5f_row0_col2\" class=\"data row0 col2\" >10000</td>\n",
              "    </tr>\n",
              "    <tr>\n",
              "      <td id=\"T_5cf5f_row1_col0\" class=\"data row1 col0\" >Virender</td>\n",
              "      <td id=\"T_5cf5f_row1_col1\" class=\"data row1 col1\" >Sehwag</td>\n",
              "      <td id=\"T_5cf5f_row1_col2\" class=\"data row1 col2\" >15000</td>\n",
              "    </tr>\n",
              "    <tr>\n",
              "      <td id=\"T_5cf5f_row2_col0\" class=\"data row2 col0\" >Jagmohan</td>\n",
              "      <td id=\"T_5cf5f_row2_col1\" class=\"data row2 col1\" >Dalmia</td>\n",
              "      <td id=\"T_5cf5f_row2_col2\" class=\"data row2 col2\" >12000</td>\n",
              "    </tr>\n",
              "    <tr>\n",
              "      <td id=\"T_5cf5f_row3_col0\" class=\"data row3 col0\" >Sourav</td>\n",
              "      <td id=\"T_5cf5f_row3_col1\" class=\"data row3 col1\" >Ganguly</td>\n",
              "      <td id=\"T_5cf5f_row3_col2\" class=\"data row3 col2\" >20000</td>\n",
              "    </tr>\n",
              "  </tbody>\n",
              "</table>\n"
            ]
          },
          "metadata": {},
          "execution_count": 21
        }
      ]
    },
    {
      "cell_type": "code",
      "source": [
        "runSelect(\"select firstname, lastname, joindate from empl where joindate between '2004-01-01' and '2005-01-01'\")"
      ],
      "metadata": {
        "colab": {
          "base_uri": "https://localhost:8080/",
          "height": 112
        },
        "id": "b_mWyFTnfIEy",
        "outputId": "e87fd307-0457-48e0-f368-b463dc095b38"
      },
      "execution_count": 22,
      "outputs": [
        {
          "output_type": "execute_result",
          "data": {
            "text/plain": [
              "<pandas.io.formats.style.Styler at 0x7e181f9c5dd0>"
            ],
            "text/html": [
              "<style type=\"text/css\">\n",
              "</style>\n",
              "<table id=\"T_08997\" class=\"dataframe\">\n",
              "  <thead>\n",
              "    <tr>\n",
              "      <th id=\"T_08997_level0_col0\" class=\"col_heading level0 col0\" >firstname</th>\n",
              "      <th id=\"T_08997_level0_col1\" class=\"col_heading level0 col1\" >lastname</th>\n",
              "      <th id=\"T_08997_level0_col2\" class=\"col_heading level0 col2\" >joindate</th>\n",
              "    </tr>\n",
              "  </thead>\n",
              "  <tbody>\n",
              "    <tr>\n",
              "      <td id=\"T_08997_row0_col0\" class=\"data row0 col0\" >Shahrukh</td>\n",
              "      <td id=\"T_08997_row0_col1\" class=\"data row0 col1\" >Khan</td>\n",
              "      <td id=\"T_08997_row0_col2\" class=\"data row0 col2\" >2004-01-03</td>\n",
              "    </tr>\n",
              "    <tr>\n",
              "      <td id=\"T_08997_row1_col0\" class=\"data row1 col0\" >Mahender</td>\n",
              "      <td id=\"T_08997_row1_col1\" class=\"data row1 col1\" >Dhoni</td>\n",
              "      <td id=\"T_08997_row1_col2\" class=\"data row1 col2\" >2004-10-09</td>\n",
              "    </tr>\n",
              "  </tbody>\n",
              "</table>\n"
            ]
          },
          "metadata": {},
          "execution_count": 22
        }
      ]
    },
    {
      "cell_type": "code",
      "source": [
        "runSelect(\"select firstname, lastname, joindate from empl where lastname between 'Dho' and 'Kha'\")"
      ],
      "metadata": {
        "colab": {
          "base_uri": "https://localhost:8080/",
          "height": 238
        },
        "id": "qXs9AeS2fwCS",
        "outputId": "1c70c826-d567-4947-de01-324aa4b753e7"
      },
      "execution_count": 23,
      "outputs": [
        {
          "output_type": "execute_result",
          "data": {
            "text/plain": [
              "<pandas.io.formats.style.Styler at 0x7e181f9c6ad0>"
            ],
            "text/html": [
              "<style type=\"text/css\">\n",
              "</style>\n",
              "<table id=\"T_a92f3\" class=\"dataframe\">\n",
              "  <thead>\n",
              "    <tr>\n",
              "      <th id=\"T_a92f3_level0_col0\" class=\"col_heading level0 col0\" >firstname</th>\n",
              "      <th id=\"T_a92f3_level0_col1\" class=\"col_heading level0 col1\" >lastname</th>\n",
              "      <th id=\"T_a92f3_level0_col2\" class=\"col_heading level0 col2\" >joindate</th>\n",
              "    </tr>\n",
              "  </thead>\n",
              "  <tbody>\n",
              "    <tr>\n",
              "      <td id=\"T_a92f3_row0_col0\" class=\"data row0 col0\" >Madhuri</td>\n",
              "      <td id=\"T_a92f3_row0_col1\" class=\"data row0 col1\" >Dikshit</td>\n",
              "      <td id=\"T_a92f3_row0_col2\" class=\"data row0 col2\" >2002-04-04</td>\n",
              "    </tr>\n",
              "    <tr>\n",
              "      <td id=\"T_a92f3_row1_col0\" class=\"data row1 col0\" >Mahender</td>\n",
              "      <td id=\"T_a92f3_row1_col1\" class=\"data row1 col1\" >Dhoni</td>\n",
              "      <td id=\"T_a92f3_row1_col2\" class=\"data row1 col2\" >2004-10-09</td>\n",
              "    </tr>\n",
              "    <tr>\n",
              "      <td id=\"T_a92f3_row2_col0\" class=\"data row2 col0\" >Rahul</td>\n",
              "      <td id=\"T_a92f3_row2_col1\" class=\"data row2 col1\" >Dravid</td>\n",
              "      <td id=\"T_a92f3_row2_col2\" class=\"data row2 col2\" >2000-06-04</td>\n",
              "    </tr>\n",
              "    <tr>\n",
              "      <td id=\"T_a92f3_row3_col0\" class=\"data row3 col0\" >Sourav</td>\n",
              "      <td id=\"T_a92f3_row3_col1\" class=\"data row3 col1\" >Ganguly</td>\n",
              "      <td id=\"T_a92f3_row3_col2\" class=\"data row3 col2\" >2002-01-01</td>\n",
              "    </tr>\n",
              "    <tr>\n",
              "      <td id=\"T_a92f3_row4_col0\" class=\"data row4 col0\" >Rekha</td>\n",
              "      <td id=\"T_a92f3_row4_col1\" class=\"data row4 col1\" >Ganesan</td>\n",
              "      <td id=\"T_a92f3_row4_col2\" class=\"data row4 col2\" >2002-10-10</td>\n",
              "    </tr>\n",
              "    <tr>\n",
              "      <td id=\"T_a92f3_row5_col0\" class=\"data row5 col0\" >Narayan</td>\n",
              "      <td id=\"T_a92f3_row5_col1\" class=\"data row5 col1\" >Karthikeyan</td>\n",
              "      <td id=\"T_a92f3_row5_col2\" class=\"data row5 col2\" >2005-12-04</td>\n",
              "    </tr>\n",
              "  </tbody>\n",
              "</table>\n"
            ]
          },
          "metadata": {},
          "execution_count": 23
        }
      ]
    },
    {
      "cell_type": "markdown",
      "source": [
        "## IN"
      ],
      "metadata": {
        "id": "azhy0TQLiLy-"
      }
    },
    {
      "cell_type": "code",
      "source": [
        "runSelect(\"select firstname, lastname, deptid from empl where deptid in ('30','20','70')\")"
      ],
      "metadata": {
        "colab": {
          "base_uri": "https://localhost:8080/",
          "height": 269
        },
        "id": "UyBE-FuoibSZ",
        "outputId": "52a7d495-0734-4b49-b979-0fb789e299d6"
      },
      "execution_count": 24,
      "outputs": [
        {
          "output_type": "execute_result",
          "data": {
            "text/plain": [
              "<pandas.io.formats.style.Styler at 0x7e181f9c7650>"
            ],
            "text/html": [
              "<style type=\"text/css\">\n",
              "</style>\n",
              "<table id=\"T_ad5c1\" class=\"dataframe\">\n",
              "  <thead>\n",
              "    <tr>\n",
              "      <th id=\"T_ad5c1_level0_col0\" class=\"col_heading level0 col0\" >firstname</th>\n",
              "      <th id=\"T_ad5c1_level0_col1\" class=\"col_heading level0 col1\" >lastname</th>\n",
              "      <th id=\"T_ad5c1_level0_col2\" class=\"col_heading level0 col2\" >deptid</th>\n",
              "    </tr>\n",
              "  </thead>\n",
              "  <tbody>\n",
              "    <tr>\n",
              "      <td id=\"T_ad5c1_row0_col0\" class=\"data row0 col0\" >Madhuri</td>\n",
              "      <td id=\"T_ad5c1_row0_col1\" class=\"data row0 col1\" >Dikshit</td>\n",
              "      <td id=\"T_ad5c1_row0_col2\" class=\"data row0 col2\" >20</td>\n",
              "    </tr>\n",
              "    <tr>\n",
              "      <td id=\"T_ad5c1_row1_col0\" class=\"data row1 col0\" >Shahrukh</td>\n",
              "      <td id=\"T_ad5c1_row1_col1\" class=\"data row1 col1\" >Khan</td>\n",
              "      <td id=\"T_ad5c1_row1_col2\" class=\"data row1 col2\" >20</td>\n",
              "    </tr>\n",
              "    <tr>\n",
              "      <td id=\"T_ad5c1_row2_col0\" class=\"data row2 col0\" >Virender</td>\n",
              "      <td id=\"T_ad5c1_row2_col1\" class=\"data row2 col1\" >Sehwag</td>\n",
              "      <td id=\"T_ad5c1_row2_col2\" class=\"data row2 col2\" >20</td>\n",
              "    </tr>\n",
              "    <tr>\n",
              "      <td id=\"T_ad5c1_row3_col0\" class=\"data row3 col0\" >Rahul</td>\n",
              "      <td id=\"T_ad5c1_row3_col1\" class=\"data row3 col1\" >Dravid</td>\n",
              "      <td id=\"T_ad5c1_row3_col2\" class=\"data row3 col2\" >30</td>\n",
              "    </tr>\n",
              "    <tr>\n",
              "      <td id=\"T_ad5c1_row4_col0\" class=\"data row4 col0\" >Jagmohan</td>\n",
              "      <td id=\"T_ad5c1_row4_col1\" class=\"data row4 col1\" >Dalmia</td>\n",
              "      <td id=\"T_ad5c1_row4_col2\" class=\"data row4 col2\" >30</td>\n",
              "    </tr>\n",
              "    <tr>\n",
              "      <td id=\"T_ad5c1_row5_col0\" class=\"data row5 col0\" >Chettri</td>\n",
              "      <td id=\"T_ad5c1_row5_col1\" class=\"data row5 col1\" >Sunil</td>\n",
              "      <td id=\"T_ad5c1_row5_col2\" class=\"data row5 col2\" >70</td>\n",
              "    </tr>\n",
              "    <tr>\n",
              "      <td id=\"T_ad5c1_row6_col0\" class=\"data row6 col0\" >Sania</td>\n",
              "      <td id=\"T_ad5c1_row6_col1\" class=\"data row6 col1\" >Mirza</td>\n",
              "      <td id=\"T_ad5c1_row6_col2\" class=\"data row6 col2\" >30</td>\n",
              "    </tr>\n",
              "  </tbody>\n",
              "</table>\n"
            ]
          },
          "metadata": {},
          "execution_count": 24
        }
      ]
    },
    {
      "cell_type": "code",
      "source": [
        "runSelect(\"select firstname, lastname, salary from empl where firstname in ('Madhuri','Shahrukh','Virender')\")"
      ],
      "metadata": {
        "colab": {
          "base_uri": "https://localhost:8080/",
          "height": 143
        },
        "id": "9qTEO-OuiN3A",
        "outputId": "1f9d5631-b6ae-4c7f-e196-0959190fd1f8"
      },
      "execution_count": 25,
      "outputs": [
        {
          "output_type": "execute_result",
          "data": {
            "text/plain": [
              "<pandas.io.formats.style.Styler at 0x7e181f9a63d0>"
            ],
            "text/html": [
              "<style type=\"text/css\">\n",
              "</style>\n",
              "<table id=\"T_d1925\" class=\"dataframe\">\n",
              "  <thead>\n",
              "    <tr>\n",
              "      <th id=\"T_d1925_level0_col0\" class=\"col_heading level0 col0\" >firstname</th>\n",
              "      <th id=\"T_d1925_level0_col1\" class=\"col_heading level0 col1\" >lastname</th>\n",
              "      <th id=\"T_d1925_level0_col2\" class=\"col_heading level0 col2\" >salary</th>\n",
              "    </tr>\n",
              "  </thead>\n",
              "  <tbody>\n",
              "    <tr>\n",
              "      <td id=\"T_d1925_row0_col0\" class=\"data row0 col0\" >Madhuri</td>\n",
              "      <td id=\"T_d1925_row0_col1\" class=\"data row0 col1\" >Dikshit</td>\n",
              "      <td id=\"T_d1925_row0_col2\" class=\"data row0 col2\" >10000</td>\n",
              "    </tr>\n",
              "    <tr>\n",
              "      <td id=\"T_d1925_row1_col0\" class=\"data row1 col0\" >Shahrukh</td>\n",
              "      <td id=\"T_d1925_row1_col1\" class=\"data row1 col1\" >Khan</td>\n",
              "      <td id=\"T_d1925_row1_col2\" class=\"data row1 col2\" >30000</td>\n",
              "    </tr>\n",
              "    <tr>\n",
              "      <td id=\"T_d1925_row2_col0\" class=\"data row2 col0\" >Virender</td>\n",
              "      <td id=\"T_d1925_row2_col1\" class=\"data row2 col1\" >Sehwag</td>\n",
              "      <td id=\"T_d1925_row2_col2\" class=\"data row2 col2\" >15000</td>\n",
              "    </tr>\n",
              "  </tbody>\n",
              "</table>\n"
            ]
          },
          "metadata": {},
          "execution_count": 25
        }
      ]
    },
    {
      "cell_type": "markdown",
      "source": [
        "## Order by"
      ],
      "metadata": {
        "id": "vlOCT_zAkzMb"
      }
    },
    {
      "cell_type": "code",
      "source": [
        "runSelect(\"select firstname, lastname, joindate from empl where firstname in ('Madhuri','Shahrukh','Virender') order by joindate\")"
      ],
      "metadata": {
        "colab": {
          "base_uri": "https://localhost:8080/",
          "height": 143
        },
        "id": "WidoGzLVk1in",
        "outputId": "c9375c27-e12f-4757-f5bb-a2ed7a3531bb"
      },
      "execution_count": 26,
      "outputs": [
        {
          "output_type": "execute_result",
          "data": {
            "text/plain": [
              "<pandas.io.formats.style.Styler at 0x7e181f9a6b90>"
            ],
            "text/html": [
              "<style type=\"text/css\">\n",
              "</style>\n",
              "<table id=\"T_adff9\" class=\"dataframe\">\n",
              "  <thead>\n",
              "    <tr>\n",
              "      <th id=\"T_adff9_level0_col0\" class=\"col_heading level0 col0\" >firstname</th>\n",
              "      <th id=\"T_adff9_level0_col1\" class=\"col_heading level0 col1\" >lastname</th>\n",
              "      <th id=\"T_adff9_level0_col2\" class=\"col_heading level0 col2\" >joindate</th>\n",
              "    </tr>\n",
              "  </thead>\n",
              "  <tbody>\n",
              "    <tr>\n",
              "      <td id=\"T_adff9_row0_col0\" class=\"data row0 col0\" >Madhuri</td>\n",
              "      <td id=\"T_adff9_row0_col1\" class=\"data row0 col1\" >Dikshit</td>\n",
              "      <td id=\"T_adff9_row0_col2\" class=\"data row0 col2\" >2002-04-04</td>\n",
              "    </tr>\n",
              "    <tr>\n",
              "      <td id=\"T_adff9_row1_col0\" class=\"data row1 col0\" >Shahrukh</td>\n",
              "      <td id=\"T_adff9_row1_col1\" class=\"data row1 col1\" >Khan</td>\n",
              "      <td id=\"T_adff9_row1_col2\" class=\"data row1 col2\" >2004-01-03</td>\n",
              "    </tr>\n",
              "    <tr>\n",
              "      <td id=\"T_adff9_row2_col0\" class=\"data row2 col0\" >Virender</td>\n",
              "      <td id=\"T_adff9_row2_col1\" class=\"data row2 col1\" >Sehwag</td>\n",
              "      <td id=\"T_adff9_row2_col2\" class=\"data row2 col2\" >2005-01-02</td>\n",
              "    </tr>\n",
              "  </tbody>\n",
              "</table>\n"
            ]
          },
          "metadata": {},
          "execution_count": 26
        }
      ]
    },
    {
      "cell_type": "code",
      "source": [
        "runSelect(\"select firstname, lastname, jobdesc, salary, deptid from empl where deptid = '10' order by salary desc\")"
      ],
      "metadata": {
        "colab": {
          "base_uri": "https://localhost:8080/",
          "height": 143
        },
        "id": "Iq_7jWr-lRlO",
        "outputId": "16b94ae6-1f0c-43ba-f8c6-0173200b7736"
      },
      "execution_count": 27,
      "outputs": [
        {
          "output_type": "execute_result",
          "data": {
            "text/plain": [
              "<pandas.io.formats.style.Styler at 0x7e181f9a01d0>"
            ],
            "text/html": [
              "<style type=\"text/css\">\n",
              "</style>\n",
              "<table id=\"T_cf9d9\" class=\"dataframe\">\n",
              "  <thead>\n",
              "    <tr>\n",
              "      <th id=\"T_cf9d9_level0_col0\" class=\"col_heading level0 col0\" >firstname</th>\n",
              "      <th id=\"T_cf9d9_level0_col1\" class=\"col_heading level0 col1\" >lastname</th>\n",
              "      <th id=\"T_cf9d9_level0_col2\" class=\"col_heading level0 col2\" >jobdesc</th>\n",
              "      <th id=\"T_cf9d9_level0_col3\" class=\"col_heading level0 col3\" >salary</th>\n",
              "      <th id=\"T_cf9d9_level0_col4\" class=\"col_heading level0 col4\" >deptid</th>\n",
              "    </tr>\n",
              "  </thead>\n",
              "  <tbody>\n",
              "    <tr>\n",
              "      <td id=\"T_cf9d9_row0_col0\" class=\"data row0 col0\" >Rekha</td>\n",
              "      <td id=\"T_cf9d9_row0_col1\" class=\"data row0 col1\" >Ganesan</td>\n",
              "      <td id=\"T_cf9d9_row0_col2\" class=\"data row0 col2\" >Director</td>\n",
              "      <td id=\"T_cf9d9_row0_col3\" class=\"data row0 col3\" >60000</td>\n",
              "      <td id=\"T_cf9d9_row0_col4\" class=\"data row0 col4\" >10</td>\n",
              "    </tr>\n",
              "    <tr>\n",
              "      <td id=\"T_cf9d9_row1_col0\" class=\"data row1 col0\" >Amitabh</td>\n",
              "      <td id=\"T_cf9d9_row1_col1\" class=\"data row1 col1\" >Bacchan</td>\n",
              "      <td id=\"T_cf9d9_row1_col2\" class=\"data row1 col2\" >Executive</td>\n",
              "      <td id=\"T_cf9d9_row1_col3\" class=\"data row1 col3\" >50000</td>\n",
              "      <td id=\"T_cf9d9_row1_col4\" class=\"data row1 col4\" >10</td>\n",
              "    </tr>\n",
              "    <tr>\n",
              "      <td id=\"T_cf9d9_row2_col0\" class=\"data row2 col0\" >Narayan</td>\n",
              "      <td id=\"T_cf9d9_row2_col1\" class=\"data row2 col1\" >Karthikeyan</td>\n",
              "      <td id=\"T_cf9d9_row2_col2\" class=\"data row2 col2\" >Secretary</td>\n",
              "      <td id=\"T_cf9d9_row2_col3\" class=\"data row2 col3\" >40000</td>\n",
              "      <td id=\"T_cf9d9_row2_col4\" class=\"data row2 col4\" >10</td>\n",
              "    </tr>\n",
              "  </tbody>\n",
              "</table>\n"
            ]
          },
          "metadata": {},
          "execution_count": 27
        }
      ]
    },
    {
      "cell_type": "markdown",
      "source": [
        "## Logical AND | OR"
      ],
      "metadata": {
        "id": "-JDEmZtsm0o1"
      }
    },
    {
      "cell_type": "code",
      "source": [
        "runSelect(\"select lastname, jobdesc, salary, deptid from empl where deptid = '20'\")"
      ],
      "metadata": {
        "colab": {
          "base_uri": "https://localhost:8080/",
          "height": 143
        },
        "id": "rli0DBhIm54M",
        "outputId": "d911d200-416e-4434-eec5-1bb9b8828066"
      },
      "execution_count": 28,
      "outputs": [
        {
          "output_type": "execute_result",
          "data": {
            "text/plain": [
              "<pandas.io.formats.style.Styler at 0x7e181f9a1590>"
            ],
            "text/html": [
              "<style type=\"text/css\">\n",
              "</style>\n",
              "<table id=\"T_170b6\" class=\"dataframe\">\n",
              "  <thead>\n",
              "    <tr>\n",
              "      <th id=\"T_170b6_level0_col0\" class=\"col_heading level0 col0\" >lastname</th>\n",
              "      <th id=\"T_170b6_level0_col1\" class=\"col_heading level0 col1\" >jobdesc</th>\n",
              "      <th id=\"T_170b6_level0_col2\" class=\"col_heading level0 col2\" >salary</th>\n",
              "      <th id=\"T_170b6_level0_col3\" class=\"col_heading level0 col3\" >deptid</th>\n",
              "    </tr>\n",
              "  </thead>\n",
              "  <tbody>\n",
              "    <tr>\n",
              "      <td id=\"T_170b6_row0_col0\" class=\"data row0 col0\" >Dikshit</td>\n",
              "      <td id=\"T_170b6_row0_col1\" class=\"data row0 col1\" >Clerk</td>\n",
              "      <td id=\"T_170b6_row0_col2\" class=\"data row0 col2\" >10000</td>\n",
              "      <td id=\"T_170b6_row0_col3\" class=\"data row0 col3\" >20</td>\n",
              "    </tr>\n",
              "    <tr>\n",
              "      <td id=\"T_170b6_row1_col0\" class=\"data row1 col0\" >Khan</td>\n",
              "      <td id=\"T_170b6_row1_col1\" class=\"data row1 col1\" >Manager</td>\n",
              "      <td id=\"T_170b6_row1_col2\" class=\"data row1 col2\" >30000</td>\n",
              "      <td id=\"T_170b6_row1_col3\" class=\"data row1 col3\" >20</td>\n",
              "    </tr>\n",
              "    <tr>\n",
              "      <td id=\"T_170b6_row2_col0\" class=\"data row2 col0\" >Sehwag</td>\n",
              "      <td id=\"T_170b6_row2_col1\" class=\"data row2 col1\" >Cus_Rep</td>\n",
              "      <td id=\"T_170b6_row2_col2\" class=\"data row2 col2\" >15000</td>\n",
              "      <td id=\"T_170b6_row2_col3\" class=\"data row2 col3\" >20</td>\n",
              "    </tr>\n",
              "  </tbody>\n",
              "</table>\n"
            ]
          },
          "metadata": {},
          "execution_count": 28
        }
      ]
    },
    {
      "cell_type": "code",
      "source": [
        "runSelect(\"select lastname, jobdesc, salary, deptid from empl where deptid = '20' and salary > 10000\")"
      ],
      "metadata": {
        "colab": {
          "base_uri": "https://localhost:8080/",
          "height": 112
        },
        "id": "wHIJoUGqnuwa",
        "outputId": "e7797458-80eb-4cd9-f246-854c8bfe878d"
      },
      "execution_count": 29,
      "outputs": [
        {
          "output_type": "execute_result",
          "data": {
            "text/plain": [
              "<pandas.io.formats.style.Styler at 0x7e181f9a2850>"
            ],
            "text/html": [
              "<style type=\"text/css\">\n",
              "</style>\n",
              "<table id=\"T_9ed06\" class=\"dataframe\">\n",
              "  <thead>\n",
              "    <tr>\n",
              "      <th id=\"T_9ed06_level0_col0\" class=\"col_heading level0 col0\" >lastname</th>\n",
              "      <th id=\"T_9ed06_level0_col1\" class=\"col_heading level0 col1\" >jobdesc</th>\n",
              "      <th id=\"T_9ed06_level0_col2\" class=\"col_heading level0 col2\" >salary</th>\n",
              "      <th id=\"T_9ed06_level0_col3\" class=\"col_heading level0 col3\" >deptid</th>\n",
              "    </tr>\n",
              "  </thead>\n",
              "  <tbody>\n",
              "    <tr>\n",
              "      <td id=\"T_9ed06_row0_col0\" class=\"data row0 col0\" >Khan</td>\n",
              "      <td id=\"T_9ed06_row0_col1\" class=\"data row0 col1\" >Manager</td>\n",
              "      <td id=\"T_9ed06_row0_col2\" class=\"data row0 col2\" >30000</td>\n",
              "      <td id=\"T_9ed06_row0_col3\" class=\"data row0 col3\" >20</td>\n",
              "    </tr>\n",
              "    <tr>\n",
              "      <td id=\"T_9ed06_row1_col0\" class=\"data row1 col0\" >Sehwag</td>\n",
              "      <td id=\"T_9ed06_row1_col1\" class=\"data row1 col1\" >Cus_Rep</td>\n",
              "      <td id=\"T_9ed06_row1_col2\" class=\"data row1 col2\" >15000</td>\n",
              "      <td id=\"T_9ed06_row1_col3\" class=\"data row1 col3\" >20</td>\n",
              "    </tr>\n",
              "  </tbody>\n",
              "</table>\n"
            ]
          },
          "metadata": {},
          "execution_count": 29
        }
      ]
    },
    {
      "cell_type": "code",
      "source": [
        "runSelect(\"select lastname, jobdesc, salary, deptid from empl where deptid = '20' and salary > 10000 and jobdesc = 'Clerk'\")"
      ],
      "metadata": {
        "colab": {
          "base_uri": "https://localhost:8080/"
        },
        "id": "fnB8p8-EnzH2",
        "outputId": "a35a4827-3c7c-4a29-82d3-7a39504f7bad"
      },
      "execution_count": 30,
      "outputs": [
        {
          "output_type": "stream",
          "name": "stdout",
          "text": [
            "no records found\n"
          ]
        }
      ]
    },
    {
      "cell_type": "code",
      "source": [
        "runSelect(\"select lastname, jobdesc, deptid from empl where deptid = '70'\")"
      ],
      "metadata": {
        "colab": {
          "base_uri": "https://localhost:8080/",
          "height": 81
        },
        "id": "uEKUIgOMqtLw",
        "outputId": "f570c9f1-cb5b-4131-9fa6-96da8744d031"
      },
      "execution_count": 31,
      "outputs": [
        {
          "output_type": "execute_result",
          "data": {
            "text/plain": [
              "<pandas.io.formats.style.Styler at 0x7e181f9a22d0>"
            ],
            "text/html": [
              "<style type=\"text/css\">\n",
              "</style>\n",
              "<table id=\"T_491ea\" class=\"dataframe\">\n",
              "  <thead>\n",
              "    <tr>\n",
              "      <th id=\"T_491ea_level0_col0\" class=\"col_heading level0 col0\" >lastname</th>\n",
              "      <th id=\"T_491ea_level0_col1\" class=\"col_heading level0 col1\" >jobdesc</th>\n",
              "      <th id=\"T_491ea_level0_col2\" class=\"col_heading level0 col2\" >deptid</th>\n",
              "    </tr>\n",
              "  </thead>\n",
              "  <tbody>\n",
              "    <tr>\n",
              "      <td id=\"T_491ea_row0_col0\" class=\"data row0 col0\" >Sunil</td>\n",
              "      <td id=\"T_491ea_row0_col1\" class=\"data row0 col1\" >Dy Manager</td>\n",
              "      <td id=\"T_491ea_row0_col2\" class=\"data row0 col2\" >70</td>\n",
              "    </tr>\n",
              "  </tbody>\n",
              "</table>\n"
            ]
          },
          "metadata": {},
          "execution_count": 31
        }
      ]
    },
    {
      "cell_type": "code",
      "source": [
        "runSelect(\"select lastname, jobdesc, deptid from empl where deptid = '70' or jobdesc like '%Manager'\")"
      ],
      "metadata": {
        "colab": {
          "base_uri": "https://localhost:8080/",
          "height": 175
        },
        "id": "Ne0eLRV3qyTn",
        "outputId": "97c847d2-5181-4a18-b06f-4d1e4b9b1ade"
      },
      "execution_count": 32,
      "outputs": [
        {
          "output_type": "execute_result",
          "data": {
            "text/plain": [
              "<pandas.io.formats.style.Styler at 0x7e181f878510>"
            ],
            "text/html": [
              "<style type=\"text/css\">\n",
              "</style>\n",
              "<table id=\"T_24df0\" class=\"dataframe\">\n",
              "  <thead>\n",
              "    <tr>\n",
              "      <th id=\"T_24df0_level0_col0\" class=\"col_heading level0 col0\" >lastname</th>\n",
              "      <th id=\"T_24df0_level0_col1\" class=\"col_heading level0 col1\" >jobdesc</th>\n",
              "      <th id=\"T_24df0_level0_col2\" class=\"col_heading level0 col2\" >deptid</th>\n",
              "    </tr>\n",
              "  </thead>\n",
              "  <tbody>\n",
              "    <tr>\n",
              "      <td id=\"T_24df0_row0_col0\" class=\"data row0 col0\" >Mukherjee</td>\n",
              "      <td id=\"T_24df0_row0_col1\" class=\"data row0 col1\" >Manager</td>\n",
              "      <td id=\"T_24df0_row0_col2\" class=\"data row0 col2\" >40</td>\n",
              "    </tr>\n",
              "    <tr>\n",
              "      <td id=\"T_24df0_row1_col0\" class=\"data row1 col0\" >Khan</td>\n",
              "      <td id=\"T_24df0_row1_col1\" class=\"data row1 col1\" >Manager</td>\n",
              "      <td id=\"T_24df0_row1_col2\" class=\"data row1 col2\" >20</td>\n",
              "    </tr>\n",
              "    <tr>\n",
              "      <td id=\"T_24df0_row2_col0\" class=\"data row2 col0\" >Dravid</td>\n",
              "      <td id=\"T_24df0_row2_col1\" class=\"data row2 col1\" >Sr Manager</td>\n",
              "      <td id=\"T_24df0_row2_col2\" class=\"data row2 col2\" >30</td>\n",
              "    </tr>\n",
              "    <tr>\n",
              "      <td id=\"T_24df0_row3_col0\" class=\"data row3 col0\" >Sunil</td>\n",
              "      <td id=\"T_24df0_row3_col1\" class=\"data row3 col1\" >Dy Manager</td>\n",
              "      <td id=\"T_24df0_row3_col2\" class=\"data row3 col2\" >70</td>\n",
              "    </tr>\n",
              "  </tbody>\n",
              "</table>\n"
            ]
          },
          "metadata": {},
          "execution_count": 32
        }
      ]
    },
    {
      "cell_type": "code",
      "source": [
        "runSelect(\"select lastname, jobdesc, deptid from empl where deptid = '70' or jobdesc like '%Manager' or lastname = 'Dikshit'\")"
      ],
      "metadata": {
        "colab": {
          "base_uri": "https://localhost:8080/",
          "height": 206
        },
        "id": "aR3eNz7xq8Xo",
        "outputId": "61f92029-02b3-4619-a85c-62cfd5de432e"
      },
      "execution_count": 33,
      "outputs": [
        {
          "output_type": "execute_result",
          "data": {
            "text/plain": [
              "<pandas.io.formats.style.Styler at 0x7e181f87a8d0>"
            ],
            "text/html": [
              "<style type=\"text/css\">\n",
              "</style>\n",
              "<table id=\"T_97aee\" class=\"dataframe\">\n",
              "  <thead>\n",
              "    <tr>\n",
              "      <th id=\"T_97aee_level0_col0\" class=\"col_heading level0 col0\" >lastname</th>\n",
              "      <th id=\"T_97aee_level0_col1\" class=\"col_heading level0 col1\" >jobdesc</th>\n",
              "      <th id=\"T_97aee_level0_col2\" class=\"col_heading level0 col2\" >deptid</th>\n",
              "    </tr>\n",
              "  </thead>\n",
              "  <tbody>\n",
              "    <tr>\n",
              "      <td id=\"T_97aee_row0_col0\" class=\"data row0 col0\" >Mukherjee</td>\n",
              "      <td id=\"T_97aee_row0_col1\" class=\"data row0 col1\" >Manager</td>\n",
              "      <td id=\"T_97aee_row0_col2\" class=\"data row0 col2\" >40</td>\n",
              "    </tr>\n",
              "    <tr>\n",
              "      <td id=\"T_97aee_row1_col0\" class=\"data row1 col0\" >Dikshit</td>\n",
              "      <td id=\"T_97aee_row1_col1\" class=\"data row1 col1\" >Clerk</td>\n",
              "      <td id=\"T_97aee_row1_col2\" class=\"data row1 col2\" >20</td>\n",
              "    </tr>\n",
              "    <tr>\n",
              "      <td id=\"T_97aee_row2_col0\" class=\"data row2 col0\" >Khan</td>\n",
              "      <td id=\"T_97aee_row2_col1\" class=\"data row2 col1\" >Manager</td>\n",
              "      <td id=\"T_97aee_row2_col2\" class=\"data row2 col2\" >20</td>\n",
              "    </tr>\n",
              "    <tr>\n",
              "      <td id=\"T_97aee_row3_col0\" class=\"data row3 col0\" >Dravid</td>\n",
              "      <td id=\"T_97aee_row3_col1\" class=\"data row3 col1\" >Sr Manager</td>\n",
              "      <td id=\"T_97aee_row3_col2\" class=\"data row3 col2\" >30</td>\n",
              "    </tr>\n",
              "    <tr>\n",
              "      <td id=\"T_97aee_row4_col0\" class=\"data row4 col0\" >Sunil</td>\n",
              "      <td id=\"T_97aee_row4_col1\" class=\"data row4 col1\" >Dy Manager</td>\n",
              "      <td id=\"T_97aee_row4_col2\" class=\"data row4 col2\" >70</td>\n",
              "    </tr>\n",
              "  </tbody>\n",
              "</table>\n"
            ]
          },
          "metadata": {},
          "execution_count": 33
        }
      ]
    },
    {
      "cell_type": "code",
      "source": [
        "runSelect(\"select lastname, jobdesc, salary from empl where jobdesc = 'Cus_Rep' or jobdesc = 'Clerk' and salary < 16000\")"
      ],
      "metadata": {
        "colab": {
          "base_uri": "https://localhost:8080/",
          "height": 238
        },
        "id": "Ov0HErC0txm4",
        "outputId": "f9b8c3e8-b573-46cb-d39d-46b6b5e9cad6"
      },
      "execution_count": 34,
      "outputs": [
        {
          "output_type": "execute_result",
          "data": {
            "text/plain": [
              "<pandas.io.formats.style.Styler at 0x7e181f87af90>"
            ],
            "text/html": [
              "<style type=\"text/css\">\n",
              "</style>\n",
              "<table id=\"T_2b0c4\" class=\"dataframe\">\n",
              "  <thead>\n",
              "    <tr>\n",
              "      <th id=\"T_2b0c4_level0_col0\" class=\"col_heading level0 col0\" >lastname</th>\n",
              "      <th id=\"T_2b0c4_level0_col1\" class=\"col_heading level0 col1\" >jobdesc</th>\n",
              "      <th id=\"T_2b0c4_level0_col2\" class=\"col_heading level0 col2\" >salary</th>\n",
              "    </tr>\n",
              "  </thead>\n",
              "  <tbody>\n",
              "    <tr>\n",
              "      <td id=\"T_2b0c4_row0_col0\" class=\"data row0 col0\" >Dikshit</td>\n",
              "      <td id=\"T_2b0c4_row0_col1\" class=\"data row0 col1\" >Clerk</td>\n",
              "      <td id=\"T_2b0c4_row0_col2\" class=\"data row0 col2\" >10000</td>\n",
              "    </tr>\n",
              "    <tr>\n",
              "      <td id=\"T_2b0c4_row1_col0\" class=\"data row1 col0\" >Sehwag</td>\n",
              "      <td id=\"T_2b0c4_row1_col1\" class=\"data row1 col1\" >Cus_Rep</td>\n",
              "      <td id=\"T_2b0c4_row1_col2\" class=\"data row1 col2\" >15000</td>\n",
              "    </tr>\n",
              "    <tr>\n",
              "      <td id=\"T_2b0c4_row2_col0\" class=\"data row2 col0\" >Dhoni</td>\n",
              "      <td id=\"T_2b0c4_row2_col1\" class=\"data row2 col1\" >Clerk</td>\n",
              "      <td id=\"T_2b0c4_row2_col2\" class=\"data row2 col2\" >9000</td>\n",
              "    </tr>\n",
              "    <tr>\n",
              "      <td id=\"T_2b0c4_row3_col0\" class=\"data row3 col0\" >Dalmia</td>\n",
              "      <td id=\"T_2b0c4_row3_col1\" class=\"data row3 col1\" >Clerk</td>\n",
              "      <td id=\"T_2b0c4_row3_col2\" class=\"data row3 col2\" >12000</td>\n",
              "    </tr>\n",
              "    <tr>\n",
              "      <td id=\"T_2b0c4_row4_col0\" class=\"data row4 col0\" >Ganguly</td>\n",
              "      <td id=\"T_2b0c4_row4_col1\" class=\"data row4 col1\" >Cus_Rep</td>\n",
              "      <td id=\"T_2b0c4_row4_col2\" class=\"data row4 col2\" >20000</td>\n",
              "    </tr>\n",
              "    <tr>\n",
              "      <td id=\"T_2b0c4_row5_col0\" class=\"data row5 col0\" >Mirza</td>\n",
              "      <td id=\"T_2b0c4_row5_col1\" class=\"data row5 col1\" >Cus_Rep</td>\n",
              "      <td id=\"T_2b0c4_row5_col2\" class=\"data row5 col2\" >25000</td>\n",
              "    </tr>\n",
              "  </tbody>\n",
              "</table>\n"
            ]
          },
          "metadata": {},
          "execution_count": 34
        }
      ]
    },
    {
      "cell_type": "code",
      "source": [
        "runSelect(\"select lastname, jobdesc, salary from empl where (jobdesc = 'Cus_Rep' or jobdesc = 'Clerk') and salary < 16000\")"
      ],
      "metadata": {
        "colab": {
          "base_uri": "https://localhost:8080/",
          "height": 175
        },
        "id": "g7hbzjdxuOt6",
        "outputId": "b60b1711-7714-412e-82a5-9ae6288a2c31"
      },
      "execution_count": 35,
      "outputs": [
        {
          "output_type": "execute_result",
          "data": {
            "text/plain": [
              "<pandas.io.formats.style.Styler at 0x7e181f9a2290>"
            ],
            "text/html": [
              "<style type=\"text/css\">\n",
              "</style>\n",
              "<table id=\"T_cd950\" class=\"dataframe\">\n",
              "  <thead>\n",
              "    <tr>\n",
              "      <th id=\"T_cd950_level0_col0\" class=\"col_heading level0 col0\" >lastname</th>\n",
              "      <th id=\"T_cd950_level0_col1\" class=\"col_heading level0 col1\" >jobdesc</th>\n",
              "      <th id=\"T_cd950_level0_col2\" class=\"col_heading level0 col2\" >salary</th>\n",
              "    </tr>\n",
              "  </thead>\n",
              "  <tbody>\n",
              "    <tr>\n",
              "      <td id=\"T_cd950_row0_col0\" class=\"data row0 col0\" >Dikshit</td>\n",
              "      <td id=\"T_cd950_row0_col1\" class=\"data row0 col1\" >Clerk</td>\n",
              "      <td id=\"T_cd950_row0_col2\" class=\"data row0 col2\" >10000</td>\n",
              "    </tr>\n",
              "    <tr>\n",
              "      <td id=\"T_cd950_row1_col0\" class=\"data row1 col0\" >Sehwag</td>\n",
              "      <td id=\"T_cd950_row1_col1\" class=\"data row1 col1\" >Cus_Rep</td>\n",
              "      <td id=\"T_cd950_row1_col2\" class=\"data row1 col2\" >15000</td>\n",
              "    </tr>\n",
              "    <tr>\n",
              "      <td id=\"T_cd950_row2_col0\" class=\"data row2 col0\" >Dhoni</td>\n",
              "      <td id=\"T_cd950_row2_col1\" class=\"data row2 col1\" >Clerk</td>\n",
              "      <td id=\"T_cd950_row2_col2\" class=\"data row2 col2\" >9000</td>\n",
              "    </tr>\n",
              "    <tr>\n",
              "      <td id=\"T_cd950_row3_col0\" class=\"data row3 col0\" >Dalmia</td>\n",
              "      <td id=\"T_cd950_row3_col1\" class=\"data row3 col1\" >Clerk</td>\n",
              "      <td id=\"T_cd950_row3_col2\" class=\"data row3 col2\" >12000</td>\n",
              "    </tr>\n",
              "  </tbody>\n",
              "</table>\n"
            ]
          },
          "metadata": {},
          "execution_count": 35
        }
      ]
    },
    {
      "cell_type": "markdown",
      "source": [
        "# Single Row Functions"
      ],
      "metadata": {
        "id": "ND-8LYQcxsG2"
      }
    },
    {
      "cell_type": "code",
      "source": [
        "runSelect(\"select lastname, deptid, salary, comm, salary+salary*comm payout from empl where deptid = '20'\")"
      ],
      "metadata": {
        "colab": {
          "base_uri": "https://localhost:8080/",
          "height": 143
        },
        "id": "s71weE_hyDwf",
        "outputId": "944131aa-4ff9-4bf9-e173-5e75080fdac3"
      },
      "execution_count": 36,
      "outputs": [
        {
          "output_type": "execute_result",
          "data": {
            "text/plain": [
              "<pandas.io.formats.style.Styler at 0x7e181f871510>"
            ],
            "text/html": [
              "<style type=\"text/css\">\n",
              "</style>\n",
              "<table id=\"T_22982\" class=\"dataframe\">\n",
              "  <thead>\n",
              "    <tr>\n",
              "      <th id=\"T_22982_level0_col0\" class=\"col_heading level0 col0\" >lastname</th>\n",
              "      <th id=\"T_22982_level0_col1\" class=\"col_heading level0 col1\" >deptid</th>\n",
              "      <th id=\"T_22982_level0_col2\" class=\"col_heading level0 col2\" >salary</th>\n",
              "      <th id=\"T_22982_level0_col3\" class=\"col_heading level0 col3\" >comm</th>\n",
              "      <th id=\"T_22982_level0_col4\" class=\"col_heading level0 col4\" >payout</th>\n",
              "    </tr>\n",
              "  </thead>\n",
              "  <tbody>\n",
              "    <tr>\n",
              "      <td id=\"T_22982_row0_col0\" class=\"data row0 col0\" >Dikshit</td>\n",
              "      <td id=\"T_22982_row0_col1\" class=\"data row0 col1\" >20</td>\n",
              "      <td id=\"T_22982_row0_col2\" class=\"data row0 col2\" >10000</td>\n",
              "      <td id=\"T_22982_row0_col3\" class=\"data row0 col3\" >0.02</td>\n",
              "      <td id=\"T_22982_row0_col4\" class=\"data row0 col4\" >10200.00</td>\n",
              "    </tr>\n",
              "    <tr>\n",
              "      <td id=\"T_22982_row1_col0\" class=\"data row1 col0\" >Khan</td>\n",
              "      <td id=\"T_22982_row1_col1\" class=\"data row1 col1\" >20</td>\n",
              "      <td id=\"T_22982_row1_col2\" class=\"data row1 col2\" >30000</td>\n",
              "      <td id=\"T_22982_row1_col3\" class=\"data row1 col3\" >0.07</td>\n",
              "      <td id=\"T_22982_row1_col4\" class=\"data row1 col4\" >32100.00</td>\n",
              "    </tr>\n",
              "    <tr>\n",
              "      <td id=\"T_22982_row2_col0\" class=\"data row2 col0\" >Sehwag</td>\n",
              "      <td id=\"T_22982_row2_col1\" class=\"data row2 col1\" >20</td>\n",
              "      <td id=\"T_22982_row2_col2\" class=\"data row2 col2\" >15000</td>\n",
              "      <td id=\"T_22982_row2_col3\" class=\"data row2 col3\" >0.05</td>\n",
              "      <td id=\"T_22982_row2_col4\" class=\"data row2 col4\" >15750.00</td>\n",
              "    </tr>\n",
              "  </tbody>\n",
              "</table>\n"
            ]
          },
          "metadata": {},
          "execution_count": 36
        }
      ]
    },
    {
      "cell_type": "code",
      "source": [
        "runSelect(\"select lastname, firstname, deptid, substring(firstname,1,3) nick from empl where deptid = '20'\")"
      ],
      "metadata": {
        "colab": {
          "base_uri": "https://localhost:8080/",
          "height": 143
        },
        "id": "I3rkoZrYyb_P",
        "outputId": "da2c0503-8ef6-4954-c6cd-4e36a4c60899"
      },
      "execution_count": 37,
      "outputs": [
        {
          "output_type": "execute_result",
          "data": {
            "text/plain": [
              "<pandas.io.formats.style.Styler at 0x7e181f872fd0>"
            ],
            "text/html": [
              "<style type=\"text/css\">\n",
              "</style>\n",
              "<table id=\"T_03e75\" class=\"dataframe\">\n",
              "  <thead>\n",
              "    <tr>\n",
              "      <th id=\"T_03e75_level0_col0\" class=\"col_heading level0 col0\" >lastname</th>\n",
              "      <th id=\"T_03e75_level0_col1\" class=\"col_heading level0 col1\" >firstname</th>\n",
              "      <th id=\"T_03e75_level0_col2\" class=\"col_heading level0 col2\" >deptid</th>\n",
              "      <th id=\"T_03e75_level0_col3\" class=\"col_heading level0 col3\" >nick</th>\n",
              "    </tr>\n",
              "  </thead>\n",
              "  <tbody>\n",
              "    <tr>\n",
              "      <td id=\"T_03e75_row0_col0\" class=\"data row0 col0\" >Dikshit</td>\n",
              "      <td id=\"T_03e75_row0_col1\" class=\"data row0 col1\" >Madhuri</td>\n",
              "      <td id=\"T_03e75_row0_col2\" class=\"data row0 col2\" >20</td>\n",
              "      <td id=\"T_03e75_row0_col3\" class=\"data row0 col3\" >Mad</td>\n",
              "    </tr>\n",
              "    <tr>\n",
              "      <td id=\"T_03e75_row1_col0\" class=\"data row1 col0\" >Khan</td>\n",
              "      <td id=\"T_03e75_row1_col1\" class=\"data row1 col1\" >Shahrukh</td>\n",
              "      <td id=\"T_03e75_row1_col2\" class=\"data row1 col2\" >20</td>\n",
              "      <td id=\"T_03e75_row1_col3\" class=\"data row1 col3\" >Sha</td>\n",
              "    </tr>\n",
              "    <tr>\n",
              "      <td id=\"T_03e75_row2_col0\" class=\"data row2 col0\" >Sehwag</td>\n",
              "      <td id=\"T_03e75_row2_col1\" class=\"data row2 col1\" >Virender</td>\n",
              "      <td id=\"T_03e75_row2_col2\" class=\"data row2 col2\" >20</td>\n",
              "      <td id=\"T_03e75_row2_col3\" class=\"data row2 col3\" >Vir</td>\n",
              "    </tr>\n",
              "  </tbody>\n",
              "</table>\n"
            ]
          },
          "metadata": {},
          "execution_count": 37
        }
      ]
    },
    {
      "cell_type": "code",
      "source": [
        "runSelect(\"select lastname, firstname, deptid, concat('\\\"',substring(firstname,2,3),'\\\" ',lastname) nick from empl where deptid = '20'\")"
      ],
      "metadata": {
        "colab": {
          "base_uri": "https://localhost:8080/",
          "height": 143
        },
        "id": "xNQl1KpSzIQc",
        "outputId": "78ea8fe2-45a3-42f0-8f0b-ff9c1c26f86e"
      },
      "execution_count": 38,
      "outputs": [
        {
          "output_type": "execute_result",
          "data": {
            "text/plain": [
              "<pandas.io.formats.style.Styler at 0x7e181f8725d0>"
            ],
            "text/html": [
              "<style type=\"text/css\">\n",
              "</style>\n",
              "<table id=\"T_60d3d\" class=\"dataframe\">\n",
              "  <thead>\n",
              "    <tr>\n",
              "      <th id=\"T_60d3d_level0_col0\" class=\"col_heading level0 col0\" >lastname</th>\n",
              "      <th id=\"T_60d3d_level0_col1\" class=\"col_heading level0 col1\" >firstname</th>\n",
              "      <th id=\"T_60d3d_level0_col2\" class=\"col_heading level0 col2\" >deptid</th>\n",
              "      <th id=\"T_60d3d_level0_col3\" class=\"col_heading level0 col3\" >nick</th>\n",
              "    </tr>\n",
              "  </thead>\n",
              "  <tbody>\n",
              "    <tr>\n",
              "      <td id=\"T_60d3d_row0_col0\" class=\"data row0 col0\" >Dikshit</td>\n",
              "      <td id=\"T_60d3d_row0_col1\" class=\"data row0 col1\" >Madhuri</td>\n",
              "      <td id=\"T_60d3d_row0_col2\" class=\"data row0 col2\" >20</td>\n",
              "      <td id=\"T_60d3d_row0_col3\" class=\"data row0 col3\" >\"adh\" Dikshit</td>\n",
              "    </tr>\n",
              "    <tr>\n",
              "      <td id=\"T_60d3d_row1_col0\" class=\"data row1 col0\" >Khan</td>\n",
              "      <td id=\"T_60d3d_row1_col1\" class=\"data row1 col1\" >Shahrukh</td>\n",
              "      <td id=\"T_60d3d_row1_col2\" class=\"data row1 col2\" >20</td>\n",
              "      <td id=\"T_60d3d_row1_col3\" class=\"data row1 col3\" >\"hah\" Khan</td>\n",
              "    </tr>\n",
              "    <tr>\n",
              "      <td id=\"T_60d3d_row2_col0\" class=\"data row2 col0\" >Sehwag</td>\n",
              "      <td id=\"T_60d3d_row2_col1\" class=\"data row2 col1\" >Virender</td>\n",
              "      <td id=\"T_60d3d_row2_col2\" class=\"data row2 col2\" >20</td>\n",
              "      <td id=\"T_60d3d_row2_col3\" class=\"data row2 col3\" >\"ire\" Sehwag</td>\n",
              "    </tr>\n",
              "  </tbody>\n",
              "</table>\n"
            ]
          },
          "metadata": {},
          "execution_count": 38
        }
      ]
    },
    {
      "cell_type": "code",
      "source": [
        "runSelect(\"select LastName, Current_Date,JoinDate, to_char(JoinDate,'Day') JoinDay, to_char(JoinDate,'DD-mon-YY') JoinDate2, \\\n",
        "Current_Date-JoinDate DaysSince from Empl\")\n",
        "\n",
        "#https://blog.quest.com/exploring-postgres-date-formats-and-their-different-functions/\n"
      ],
      "metadata": {
        "id": "37Rjgkxz-BP0",
        "outputId": "cc638922-428c-447d-d67a-d3cbc0a77a89",
        "colab": {
          "base_uri": "https://localhost:8080/",
          "height": 457
        }
      },
      "execution_count": 39,
      "outputs": [
        {
          "output_type": "execute_result",
          "data": {
            "text/plain": [
              "<pandas.io.formats.style.Styler at 0x7e181f86a910>"
            ],
            "text/html": [
              "<style type=\"text/css\">\n",
              "</style>\n",
              "<table id=\"T_46f19\" class=\"dataframe\">\n",
              "  <thead>\n",
              "    <tr>\n",
              "      <th id=\"T_46f19_level0_col0\" class=\"col_heading level0 col0\" >lastname</th>\n",
              "      <th id=\"T_46f19_level0_col1\" class=\"col_heading level0 col1\" >current_date</th>\n",
              "      <th id=\"T_46f19_level0_col2\" class=\"col_heading level0 col2\" >joindate</th>\n",
              "      <th id=\"T_46f19_level0_col3\" class=\"col_heading level0 col3\" >joinday</th>\n",
              "      <th id=\"T_46f19_level0_col4\" class=\"col_heading level0 col4\" >joindate2</th>\n",
              "      <th id=\"T_46f19_level0_col5\" class=\"col_heading level0 col5\" >dayssince</th>\n",
              "    </tr>\n",
              "  </thead>\n",
              "  <tbody>\n",
              "    <tr>\n",
              "      <td id=\"T_46f19_row0_col0\" class=\"data row0 col0\" >Bacchan</td>\n",
              "      <td id=\"T_46f19_row0_col1\" class=\"data row0 col1\" >2025-02-27</td>\n",
              "      <td id=\"T_46f19_row0_col2\" class=\"data row0 col2\" >2003-03-10</td>\n",
              "      <td id=\"T_46f19_row0_col3\" class=\"data row0 col3\" >Monday   </td>\n",
              "      <td id=\"T_46f19_row0_col4\" class=\"data row0 col4\" >10-mar-03</td>\n",
              "      <td id=\"T_46f19_row0_col5\" class=\"data row0 col5\" >8025</td>\n",
              "    </tr>\n",
              "    <tr>\n",
              "      <td id=\"T_46f19_row1_col0\" class=\"data row1 col0\" >Mukherjee</td>\n",
              "      <td id=\"T_46f19_row1_col1\" class=\"data row1 col1\" >2025-02-27</td>\n",
              "      <td id=\"T_46f19_row1_col2\" class=\"data row1 col2\" >2005-05-04</td>\n",
              "      <td id=\"T_46f19_row1_col3\" class=\"data row1 col3\" >Wednesday</td>\n",
              "      <td id=\"T_46f19_row1_col4\" class=\"data row1 col4\" >04-may-05</td>\n",
              "      <td id=\"T_46f19_row1_col5\" class=\"data row1 col5\" >7239</td>\n",
              "    </tr>\n",
              "    <tr>\n",
              "      <td id=\"T_46f19_row2_col0\" class=\"data row2 col0\" >Dikshit</td>\n",
              "      <td id=\"T_46f19_row2_col1\" class=\"data row2 col1\" >2025-02-27</td>\n",
              "      <td id=\"T_46f19_row2_col2\" class=\"data row2 col2\" >2002-04-04</td>\n",
              "      <td id=\"T_46f19_row2_col3\" class=\"data row2 col3\" >Thursday </td>\n",
              "      <td id=\"T_46f19_row2_col4\" class=\"data row2 col4\" >04-apr-02</td>\n",
              "      <td id=\"T_46f19_row2_col5\" class=\"data row2 col5\" >8365</td>\n",
              "    </tr>\n",
              "    <tr>\n",
              "      <td id=\"T_46f19_row3_col0\" class=\"data row3 col0\" >Khan</td>\n",
              "      <td id=\"T_46f19_row3_col1\" class=\"data row3 col1\" >2025-02-27</td>\n",
              "      <td id=\"T_46f19_row3_col2\" class=\"data row3 col2\" >2004-01-03</td>\n",
              "      <td id=\"T_46f19_row3_col3\" class=\"data row3 col3\" >Saturday </td>\n",
              "      <td id=\"T_46f19_row3_col4\" class=\"data row3 col4\" >03-jan-04</td>\n",
              "      <td id=\"T_46f19_row3_col5\" class=\"data row3 col5\" >7726</td>\n",
              "    </tr>\n",
              "    <tr>\n",
              "      <td id=\"T_46f19_row4_col0\" class=\"data row4 col0\" >Sehwag</td>\n",
              "      <td id=\"T_46f19_row4_col1\" class=\"data row4 col1\" >2025-02-27</td>\n",
              "      <td id=\"T_46f19_row4_col2\" class=\"data row4 col2\" >2005-01-02</td>\n",
              "      <td id=\"T_46f19_row4_col3\" class=\"data row4 col3\" >Sunday   </td>\n",
              "      <td id=\"T_46f19_row4_col4\" class=\"data row4 col4\" >02-jan-05</td>\n",
              "      <td id=\"T_46f19_row4_col5\" class=\"data row4 col5\" >7361</td>\n",
              "    </tr>\n",
              "    <tr>\n",
              "      <td id=\"T_46f19_row5_col0\" class=\"data row5 col0\" >Dhoni</td>\n",
              "      <td id=\"T_46f19_row5_col1\" class=\"data row5 col1\" >2025-02-27</td>\n",
              "      <td id=\"T_46f19_row5_col2\" class=\"data row5 col2\" >2004-10-09</td>\n",
              "      <td id=\"T_46f19_row5_col3\" class=\"data row5 col3\" >Saturday </td>\n",
              "      <td id=\"T_46f19_row5_col4\" class=\"data row5 col4\" >09-oct-04</td>\n",
              "      <td id=\"T_46f19_row5_col5\" class=\"data row5 col5\" >7446</td>\n",
              "    </tr>\n",
              "    <tr>\n",
              "      <td id=\"T_46f19_row6_col0\" class=\"data row6 col0\" >Dravid</td>\n",
              "      <td id=\"T_46f19_row6_col1\" class=\"data row6 col1\" >2025-02-27</td>\n",
              "      <td id=\"T_46f19_row6_col2\" class=\"data row6 col2\" >2000-06-04</td>\n",
              "      <td id=\"T_46f19_row6_col3\" class=\"data row6 col3\" >Sunday   </td>\n",
              "      <td id=\"T_46f19_row6_col4\" class=\"data row6 col4\" >04-jun-00</td>\n",
              "      <td id=\"T_46f19_row6_col5\" class=\"data row6 col5\" >9034</td>\n",
              "    </tr>\n",
              "    <tr>\n",
              "      <td id=\"T_46f19_row7_col0\" class=\"data row7 col0\" >Dalmia</td>\n",
              "      <td id=\"T_46f19_row7_col1\" class=\"data row7 col1\" >2025-02-27</td>\n",
              "      <td id=\"T_46f19_row7_col2\" class=\"data row7 col2\" >2001-07-01</td>\n",
              "      <td id=\"T_46f19_row7_col3\" class=\"data row7 col3\" >Sunday   </td>\n",
              "      <td id=\"T_46f19_row7_col4\" class=\"data row7 col4\" >01-jul-01</td>\n",
              "      <td id=\"T_46f19_row7_col5\" class=\"data row7 col5\" >8642</td>\n",
              "    </tr>\n",
              "    <tr>\n",
              "      <td id=\"T_46f19_row8_col0\" class=\"data row8 col0\" >Ganguly</td>\n",
              "      <td id=\"T_46f19_row8_col1\" class=\"data row8 col1\" >2025-02-27</td>\n",
              "      <td id=\"T_46f19_row8_col2\" class=\"data row8 col2\" >2002-01-01</td>\n",
              "      <td id=\"T_46f19_row8_col3\" class=\"data row8 col3\" >Tuesday  </td>\n",
              "      <td id=\"T_46f19_row8_col4\" class=\"data row8 col4\" >01-jan-02</td>\n",
              "      <td id=\"T_46f19_row8_col5\" class=\"data row8 col5\" >8458</td>\n",
              "    </tr>\n",
              "    <tr>\n",
              "      <td id=\"T_46f19_row9_col0\" class=\"data row9 col0\" >Ganesan</td>\n",
              "      <td id=\"T_46f19_row9_col1\" class=\"data row9 col1\" >2025-02-27</td>\n",
              "      <td id=\"T_46f19_row9_col2\" class=\"data row9 col2\" >2002-10-10</td>\n",
              "      <td id=\"T_46f19_row9_col3\" class=\"data row9 col3\" >Thursday </td>\n",
              "      <td id=\"T_46f19_row9_col4\" class=\"data row9 col4\" >10-oct-02</td>\n",
              "      <td id=\"T_46f19_row9_col5\" class=\"data row9 col5\" >8176</td>\n",
              "    </tr>\n",
              "    <tr>\n",
              "      <td id=\"T_46f19_row10_col0\" class=\"data row10 col0\" >Karthikeyan</td>\n",
              "      <td id=\"T_46f19_row10_col1\" class=\"data row10 col1\" >2025-02-27</td>\n",
              "      <td id=\"T_46f19_row10_col2\" class=\"data row10 col2\" >2005-12-04</td>\n",
              "      <td id=\"T_46f19_row10_col3\" class=\"data row10 col3\" >Sunday   </td>\n",
              "      <td id=\"T_46f19_row10_col4\" class=\"data row10 col4\" >04-dec-05</td>\n",
              "      <td id=\"T_46f19_row10_col5\" class=\"data row10 col5\" >7025</td>\n",
              "    </tr>\n",
              "    <tr>\n",
              "      <td id=\"T_46f19_row11_col0\" class=\"data row11 col0\" >Sunil</td>\n",
              "      <td id=\"T_46f19_row11_col1\" class=\"data row11 col1\" >2025-02-27</td>\n",
              "      <td id=\"T_46f19_row11_col2\" class=\"data row11 col2\" >2006-12-07</td>\n",
              "      <td id=\"T_46f19_row11_col3\" class=\"data row11 col3\" >Thursday </td>\n",
              "      <td id=\"T_46f19_row11_col4\" class=\"data row11 col4\" >07-dec-06</td>\n",
              "      <td id=\"T_46f19_row11_col5\" class=\"data row11 col5\" >6657</td>\n",
              "    </tr>\n",
              "    <tr>\n",
              "      <td id=\"T_46f19_row12_col0\" class=\"data row12 col0\" >Mirza</td>\n",
              "      <td id=\"T_46f19_row12_col1\" class=\"data row12 col1\" >2025-02-27</td>\n",
              "      <td id=\"T_46f19_row12_col2\" class=\"data row12 col2\" >2001-11-19</td>\n",
              "      <td id=\"T_46f19_row12_col3\" class=\"data row12 col3\" >Monday   </td>\n",
              "      <td id=\"T_46f19_row12_col4\" class=\"data row12 col4\" >19-nov-01</td>\n",
              "      <td id=\"T_46f19_row12_col5\" class=\"data row12 col5\" >8501</td>\n",
              "    </tr>\n",
              "  </tbody>\n",
              "</table>\n"
            ]
          },
          "metadata": {},
          "execution_count": 39
        }
      ]
    },
    {
      "cell_type": "markdown",
      "source": [
        "# MultiRow Function | Group By | Having\n",
        "for more complex examples that demonstrate Grouping Sets, Cubes, Roll UP, Crosstabs and other OLAP related SQL see [this notebook](https://github.com/Praxis-QR/RDWH/blob/main/PostgreSQL_03B_SQL_Level2.ipynb)"
      ],
      "metadata": {
        "id": "ONgFWUTC2IPK"
      }
    },
    {
      "cell_type": "code",
      "source": [
        "runSelect(\"select sum(salary) Total_Salary from empl\")"
      ],
      "metadata": {
        "colab": {
          "base_uri": "https://localhost:8080/",
          "height": 81
        },
        "id": "7MnnzfJx2PSc",
        "outputId": "32902bb7-1fab-4f25-f77b-1997cc1ac091"
      },
      "execution_count": 40,
      "outputs": [
        {
          "output_type": "execute_result",
          "data": {
            "text/plain": [
              "<pandas.io.formats.style.Styler at 0x7e181f872a10>"
            ],
            "text/html": [
              "<style type=\"text/css\">\n",
              "</style>\n",
              "<table id=\"T_b1a7f\" class=\"dataframe\">\n",
              "  <thead>\n",
              "    <tr>\n",
              "      <th id=\"T_b1a7f_level0_col0\" class=\"col_heading level0 col0\" >total_salary</th>\n",
              "    </tr>\n",
              "  </thead>\n",
              "  <tbody>\n",
              "    <tr>\n",
              "      <td id=\"T_b1a7f_row0_col0\" class=\"data row0 col0\" >376000</td>\n",
              "    </tr>\n",
              "  </tbody>\n",
              "</table>\n"
            ]
          },
          "metadata": {},
          "execution_count": 40
        }
      ]
    },
    {
      "cell_type": "code",
      "source": [
        "runSelect(\"select round(avg(salary),2) Average_Salary from empl\")"
      ],
      "metadata": {
        "colab": {
          "base_uri": "https://localhost:8080/",
          "height": 81
        },
        "id": "e3Avb-HL4QPD",
        "outputId": "6316403a-e6b3-41a4-fe14-7e58719a7b87"
      },
      "execution_count": 41,
      "outputs": [
        {
          "output_type": "execute_result",
          "data": {
            "text/plain": [
              "<pandas.io.formats.style.Styler at 0x7e181f998910>"
            ],
            "text/html": [
              "<style type=\"text/css\">\n",
              "</style>\n",
              "<table id=\"T_c6c04\" class=\"dataframe\">\n",
              "  <thead>\n",
              "    <tr>\n",
              "      <th id=\"T_c6c04_level0_col0\" class=\"col_heading level0 col0\" >average_salary</th>\n",
              "    </tr>\n",
              "  </thead>\n",
              "  <tbody>\n",
              "    <tr>\n",
              "      <td id=\"T_c6c04_row0_col0\" class=\"data row0 col0\" >28923.08</td>\n",
              "    </tr>\n",
              "  </tbody>\n",
              "</table>\n"
            ]
          },
          "metadata": {},
          "execution_count": 41
        }
      ]
    },
    {
      "cell_type": "code",
      "source": [
        "runSelect(\"select max(salary) Max_Salary from empl\")"
      ],
      "metadata": {
        "colab": {
          "base_uri": "https://localhost:8080/",
          "height": 81
        },
        "id": "Oe1qRQbI4gtY",
        "outputId": "99d60c1a-e5e0-4d93-dfa5-574f95affd42"
      },
      "execution_count": 42,
      "outputs": [
        {
          "output_type": "execute_result",
          "data": {
            "text/plain": [
              "<pandas.io.formats.style.Styler at 0x7e181f9c5a10>"
            ],
            "text/html": [
              "<style type=\"text/css\">\n",
              "</style>\n",
              "<table id=\"T_f6441\" class=\"dataframe\">\n",
              "  <thead>\n",
              "    <tr>\n",
              "      <th id=\"T_f6441_level0_col0\" class=\"col_heading level0 col0\" >max_salary</th>\n",
              "    </tr>\n",
              "  </thead>\n",
              "  <tbody>\n",
              "    <tr>\n",
              "      <td id=\"T_f6441_row0_col0\" class=\"data row0 col0\" >60000</td>\n",
              "    </tr>\n",
              "  </tbody>\n",
              "</table>\n"
            ]
          },
          "metadata": {},
          "execution_count": 42
        }
      ]
    },
    {
      "cell_type": "code",
      "source": [
        "runSelect(\"select deptid, sum(salary) Total, max(salary) Max from empl group by deptid\")"
      ],
      "metadata": {
        "colab": {
          "base_uri": "https://localhost:8080/",
          "height": 206
        },
        "id": "xpmGXSAX69iU",
        "outputId": "d8a1eb78-d080-4c4c-b3c8-2e33ea133747"
      },
      "execution_count": 43,
      "outputs": [
        {
          "output_type": "execute_result",
          "data": {
            "text/plain": [
              "<pandas.io.formats.style.Styler at 0x7e181f85a210>"
            ],
            "text/html": [
              "<style type=\"text/css\">\n",
              "</style>\n",
              "<table id=\"T_527dc\" class=\"dataframe\">\n",
              "  <thead>\n",
              "    <tr>\n",
              "      <th id=\"T_527dc_level0_col0\" class=\"col_heading level0 col0\" >deptid</th>\n",
              "      <th id=\"T_527dc_level0_col1\" class=\"col_heading level0 col1\" >total</th>\n",
              "      <th id=\"T_527dc_level0_col2\" class=\"col_heading level0 col2\" >max</th>\n",
              "    </tr>\n",
              "  </thead>\n",
              "  <tbody>\n",
              "    <tr>\n",
              "      <td id=\"T_527dc_row0_col0\" class=\"data row0 col0\" >10</td>\n",
              "      <td id=\"T_527dc_row0_col1\" class=\"data row0 col1\" >150000</td>\n",
              "      <td id=\"T_527dc_row0_col2\" class=\"data row0 col2\" >60000</td>\n",
              "    </tr>\n",
              "    <tr>\n",
              "      <td id=\"T_527dc_row1_col0\" class=\"data row1 col0\" >40</td>\n",
              "      <td id=\"T_527dc_row1_col1\" class=\"data row1 col1\" >54000</td>\n",
              "      <td id=\"T_527dc_row1_col2\" class=\"data row1 col2\" >25000</td>\n",
              "    </tr>\n",
              "    <tr>\n",
              "      <td id=\"T_527dc_row2_col0\" class=\"data row2 col0\" >70</td>\n",
              "      <td id=\"T_527dc_row2_col1\" class=\"data row2 col1\" >40000</td>\n",
              "      <td id=\"T_527dc_row2_col2\" class=\"data row2 col2\" >40000</td>\n",
              "    </tr>\n",
              "    <tr>\n",
              "      <td id=\"T_527dc_row3_col0\" class=\"data row3 col0\" >20</td>\n",
              "      <td id=\"T_527dc_row3_col1\" class=\"data row3 col1\" >55000</td>\n",
              "      <td id=\"T_527dc_row3_col2\" class=\"data row3 col2\" >30000</td>\n",
              "    </tr>\n",
              "    <tr>\n",
              "      <td id=\"T_527dc_row4_col0\" class=\"data row4 col0\" >30</td>\n",
              "      <td id=\"T_527dc_row4_col1\" class=\"data row4 col1\" >77000</td>\n",
              "      <td id=\"T_527dc_row4_col2\" class=\"data row4 col2\" >40000</td>\n",
              "    </tr>\n",
              "  </tbody>\n",
              "</table>\n"
            ]
          },
          "metadata": {},
          "execution_count": 43
        }
      ]
    },
    {
      "cell_type": "code",
      "source": [
        "runSelect(\"select deptid, sum(salary) Total, max(salary) Max from empl group by deptid having sum(salary) > 50000\")"
      ],
      "metadata": {
        "colab": {
          "base_uri": "https://localhost:8080/",
          "height": 175
        },
        "id": "AdNDutZl7LCF",
        "outputId": "f689a44a-1944-4a02-83ed-5ad587ad5adf"
      },
      "execution_count": 44,
      "outputs": [
        {
          "output_type": "execute_result",
          "data": {
            "text/plain": [
              "<pandas.io.formats.style.Styler at 0x7e181f867b10>"
            ],
            "text/html": [
              "<style type=\"text/css\">\n",
              "</style>\n",
              "<table id=\"T_0b477\" class=\"dataframe\">\n",
              "  <thead>\n",
              "    <tr>\n",
              "      <th id=\"T_0b477_level0_col0\" class=\"col_heading level0 col0\" >deptid</th>\n",
              "      <th id=\"T_0b477_level0_col1\" class=\"col_heading level0 col1\" >total</th>\n",
              "      <th id=\"T_0b477_level0_col2\" class=\"col_heading level0 col2\" >max</th>\n",
              "    </tr>\n",
              "  </thead>\n",
              "  <tbody>\n",
              "    <tr>\n",
              "      <td id=\"T_0b477_row0_col0\" class=\"data row0 col0\" >10</td>\n",
              "      <td id=\"T_0b477_row0_col1\" class=\"data row0 col1\" >150000</td>\n",
              "      <td id=\"T_0b477_row0_col2\" class=\"data row0 col2\" >60000</td>\n",
              "    </tr>\n",
              "    <tr>\n",
              "      <td id=\"T_0b477_row1_col0\" class=\"data row1 col0\" >40</td>\n",
              "      <td id=\"T_0b477_row1_col1\" class=\"data row1 col1\" >54000</td>\n",
              "      <td id=\"T_0b477_row1_col2\" class=\"data row1 col2\" >25000</td>\n",
              "    </tr>\n",
              "    <tr>\n",
              "      <td id=\"T_0b477_row2_col0\" class=\"data row2 col0\" >20</td>\n",
              "      <td id=\"T_0b477_row2_col1\" class=\"data row2 col1\" >55000</td>\n",
              "      <td id=\"T_0b477_row2_col2\" class=\"data row2 col2\" >30000</td>\n",
              "    </tr>\n",
              "    <tr>\n",
              "      <td id=\"T_0b477_row3_col0\" class=\"data row3 col0\" >30</td>\n",
              "      <td id=\"T_0b477_row3_col1\" class=\"data row3 col1\" >77000</td>\n",
              "      <td id=\"T_0b477_row3_col2\" class=\"data row3 col2\" >40000</td>\n",
              "    </tr>\n",
              "  </tbody>\n",
              "</table>\n"
            ]
          },
          "metadata": {},
          "execution_count": 44
        }
      ]
    },
    {
      "cell_type": "code",
      "source": [
        "runSelect(\"select deptid, sum(salary) Total, max(salary) Max from empl group by deptid having sum(salary) > 50000 and max(salary) < 35000\")"
      ],
      "metadata": {
        "colab": {
          "base_uri": "https://localhost:8080/",
          "height": 112
        },
        "id": "4VFmL5JF7bYo",
        "outputId": "2f0498f1-e0ff-4db2-a868-dd2062dafd63"
      },
      "execution_count": 45,
      "outputs": [
        {
          "output_type": "execute_result",
          "data": {
            "text/plain": [
              "<pandas.io.formats.style.Styler at 0x7e181f85bc10>"
            ],
            "text/html": [
              "<style type=\"text/css\">\n",
              "</style>\n",
              "<table id=\"T_07cd7\" class=\"dataframe\">\n",
              "  <thead>\n",
              "    <tr>\n",
              "      <th id=\"T_07cd7_level0_col0\" class=\"col_heading level0 col0\" >deptid</th>\n",
              "      <th id=\"T_07cd7_level0_col1\" class=\"col_heading level0 col1\" >total</th>\n",
              "      <th id=\"T_07cd7_level0_col2\" class=\"col_heading level0 col2\" >max</th>\n",
              "    </tr>\n",
              "  </thead>\n",
              "  <tbody>\n",
              "    <tr>\n",
              "      <td id=\"T_07cd7_row0_col0\" class=\"data row0 col0\" >40</td>\n",
              "      <td id=\"T_07cd7_row0_col1\" class=\"data row0 col1\" >54000</td>\n",
              "      <td id=\"T_07cd7_row0_col2\" class=\"data row0 col2\" >25000</td>\n",
              "    </tr>\n",
              "    <tr>\n",
              "      <td id=\"T_07cd7_row1_col0\" class=\"data row1 col0\" >20</td>\n",
              "      <td id=\"T_07cd7_row1_col1\" class=\"data row1 col1\" >55000</td>\n",
              "      <td id=\"T_07cd7_row1_col2\" class=\"data row1 col2\" >30000</td>\n",
              "    </tr>\n",
              "  </tbody>\n",
              "</table>\n"
            ]
          },
          "metadata": {},
          "execution_count": 45
        }
      ]
    },
    {
      "cell_type": "markdown",
      "source": [
        "#Conditionals | CASE"
      ],
      "metadata": {
        "id": "xDsapsK8Afpj"
      }
    },
    {
      "cell_type": "code",
      "source": [
        "runSelect(\"select lastname, jobdesc, salary, comm, salary+salary*comm Payout,\\\n",
        "case when jobdesc like '%Manager' then 2000 else 0 end bonus from empl\")"
      ],
      "metadata": {
        "colab": {
          "base_uri": "https://localhost:8080/",
          "height": 457
        },
        "id": "bYRWDlVNAxKx",
        "outputId": "33b1fc7b-ea5f-493c-8f7b-3e8d60572921"
      },
      "execution_count": 46,
      "outputs": [
        {
          "output_type": "execute_result",
          "data": {
            "text/plain": [
              "<pandas.io.formats.style.Styler at 0x7e181f836210>"
            ],
            "text/html": [
              "<style type=\"text/css\">\n",
              "</style>\n",
              "<table id=\"T_bcdb9\" class=\"dataframe\">\n",
              "  <thead>\n",
              "    <tr>\n",
              "      <th id=\"T_bcdb9_level0_col0\" class=\"col_heading level0 col0\" >lastname</th>\n",
              "      <th id=\"T_bcdb9_level0_col1\" class=\"col_heading level0 col1\" >jobdesc</th>\n",
              "      <th id=\"T_bcdb9_level0_col2\" class=\"col_heading level0 col2\" >salary</th>\n",
              "      <th id=\"T_bcdb9_level0_col3\" class=\"col_heading level0 col3\" >comm</th>\n",
              "      <th id=\"T_bcdb9_level0_col4\" class=\"col_heading level0 col4\" >payout</th>\n",
              "      <th id=\"T_bcdb9_level0_col5\" class=\"col_heading level0 col5\" >bonus</th>\n",
              "    </tr>\n",
              "  </thead>\n",
              "  <tbody>\n",
              "    <tr>\n",
              "      <td id=\"T_bcdb9_row0_col0\" class=\"data row0 col0\" >Bacchan</td>\n",
              "      <td id=\"T_bcdb9_row0_col1\" class=\"data row0 col1\" >Executive</td>\n",
              "      <td id=\"T_bcdb9_row0_col2\" class=\"data row0 col2\" >50000</td>\n",
              "      <td id=\"T_bcdb9_row0_col3\" class=\"data row0 col3\" >0.10</td>\n",
              "      <td id=\"T_bcdb9_row0_col4\" class=\"data row0 col4\" >55000.00</td>\n",
              "      <td id=\"T_bcdb9_row0_col5\" class=\"data row0 col5\" >0</td>\n",
              "    </tr>\n",
              "    <tr>\n",
              "      <td id=\"T_bcdb9_row1_col0\" class=\"data row1 col0\" >Mukherjee</td>\n",
              "      <td id=\"T_bcdb9_row1_col1\" class=\"data row1 col1\" >Manager</td>\n",
              "      <td id=\"T_bcdb9_row1_col2\" class=\"data row1 col2\" >25000</td>\n",
              "      <td id=\"T_bcdb9_row1_col3\" class=\"data row1 col3\" >0.06</td>\n",
              "      <td id=\"T_bcdb9_row1_col4\" class=\"data row1 col4\" >26500.00</td>\n",
              "      <td id=\"T_bcdb9_row1_col5\" class=\"data row1 col5\" >2000</td>\n",
              "    </tr>\n",
              "    <tr>\n",
              "      <td id=\"T_bcdb9_row2_col0\" class=\"data row2 col0\" >Dikshit</td>\n",
              "      <td id=\"T_bcdb9_row2_col1\" class=\"data row2 col1\" >Clerk</td>\n",
              "      <td id=\"T_bcdb9_row2_col2\" class=\"data row2 col2\" >10000</td>\n",
              "      <td id=\"T_bcdb9_row2_col3\" class=\"data row2 col3\" >0.02</td>\n",
              "      <td id=\"T_bcdb9_row2_col4\" class=\"data row2 col4\" >10200.00</td>\n",
              "      <td id=\"T_bcdb9_row2_col5\" class=\"data row2 col5\" >0</td>\n",
              "    </tr>\n",
              "    <tr>\n",
              "      <td id=\"T_bcdb9_row3_col0\" class=\"data row3 col0\" >Khan</td>\n",
              "      <td id=\"T_bcdb9_row3_col1\" class=\"data row3 col1\" >Manager</td>\n",
              "      <td id=\"T_bcdb9_row3_col2\" class=\"data row3 col2\" >30000</td>\n",
              "      <td id=\"T_bcdb9_row3_col3\" class=\"data row3 col3\" >0.07</td>\n",
              "      <td id=\"T_bcdb9_row3_col4\" class=\"data row3 col4\" >32100.00</td>\n",
              "      <td id=\"T_bcdb9_row3_col5\" class=\"data row3 col5\" >2000</td>\n",
              "    </tr>\n",
              "    <tr>\n",
              "      <td id=\"T_bcdb9_row4_col0\" class=\"data row4 col0\" >Sehwag</td>\n",
              "      <td id=\"T_bcdb9_row4_col1\" class=\"data row4 col1\" >Cus_Rep</td>\n",
              "      <td id=\"T_bcdb9_row4_col2\" class=\"data row4 col2\" >15000</td>\n",
              "      <td id=\"T_bcdb9_row4_col3\" class=\"data row4 col3\" >0.05</td>\n",
              "      <td id=\"T_bcdb9_row4_col4\" class=\"data row4 col4\" >15750.00</td>\n",
              "      <td id=\"T_bcdb9_row4_col5\" class=\"data row4 col5\" >0</td>\n",
              "    </tr>\n",
              "    <tr>\n",
              "      <td id=\"T_bcdb9_row5_col0\" class=\"data row5 col0\" >Dhoni</td>\n",
              "      <td id=\"T_bcdb9_row5_col1\" class=\"data row5 col1\" >Clerk</td>\n",
              "      <td id=\"T_bcdb9_row5_col2\" class=\"data row5 col2\" >9000</td>\n",
              "      <td id=\"T_bcdb9_row5_col3\" class=\"data row5 col3\" >0.02</td>\n",
              "      <td id=\"T_bcdb9_row5_col4\" class=\"data row5 col4\" >9180.00</td>\n",
              "      <td id=\"T_bcdb9_row5_col5\" class=\"data row5 col5\" >0</td>\n",
              "    </tr>\n",
              "    <tr>\n",
              "      <td id=\"T_bcdb9_row6_col0\" class=\"data row6 col0\" >Dravid</td>\n",
              "      <td id=\"T_bcdb9_row6_col1\" class=\"data row6 col1\" >Sr Manager</td>\n",
              "      <td id=\"T_bcdb9_row6_col2\" class=\"data row6 col2\" >40000</td>\n",
              "      <td id=\"T_bcdb9_row6_col3\" class=\"data row6 col3\" >0.08</td>\n",
              "      <td id=\"T_bcdb9_row6_col4\" class=\"data row6 col4\" >43200.00</td>\n",
              "      <td id=\"T_bcdb9_row6_col5\" class=\"data row6 col5\" >2000</td>\n",
              "    </tr>\n",
              "    <tr>\n",
              "      <td id=\"T_bcdb9_row7_col0\" class=\"data row7 col0\" >Dalmia</td>\n",
              "      <td id=\"T_bcdb9_row7_col1\" class=\"data row7 col1\" >Clerk</td>\n",
              "      <td id=\"T_bcdb9_row7_col2\" class=\"data row7 col2\" >12000</td>\n",
              "      <td id=\"T_bcdb9_row7_col3\" class=\"data row7 col3\" >0.02</td>\n",
              "      <td id=\"T_bcdb9_row7_col4\" class=\"data row7 col4\" >12240.00</td>\n",
              "      <td id=\"T_bcdb9_row7_col5\" class=\"data row7 col5\" >0</td>\n",
              "    </tr>\n",
              "    <tr>\n",
              "      <td id=\"T_bcdb9_row8_col0\" class=\"data row8 col0\" >Ganguly</td>\n",
              "      <td id=\"T_bcdb9_row8_col1\" class=\"data row8 col1\" >Cus_Rep</td>\n",
              "      <td id=\"T_bcdb9_row8_col2\" class=\"data row8 col2\" >20000</td>\n",
              "      <td id=\"T_bcdb9_row8_col3\" class=\"data row8 col3\" >0.03</td>\n",
              "      <td id=\"T_bcdb9_row8_col4\" class=\"data row8 col4\" >20600.00</td>\n",
              "      <td id=\"T_bcdb9_row8_col5\" class=\"data row8 col5\" >0</td>\n",
              "    </tr>\n",
              "    <tr>\n",
              "      <td id=\"T_bcdb9_row9_col0\" class=\"data row9 col0\" >Ganesan</td>\n",
              "      <td id=\"T_bcdb9_row9_col1\" class=\"data row9 col1\" >Director</td>\n",
              "      <td id=\"T_bcdb9_row9_col2\" class=\"data row9 col2\" >60000</td>\n",
              "      <td id=\"T_bcdb9_row9_col3\" class=\"data row9 col3\" >0.11</td>\n",
              "      <td id=\"T_bcdb9_row9_col4\" class=\"data row9 col4\" >66600.00</td>\n",
              "      <td id=\"T_bcdb9_row9_col5\" class=\"data row9 col5\" >0</td>\n",
              "    </tr>\n",
              "    <tr>\n",
              "      <td id=\"T_bcdb9_row10_col0\" class=\"data row10 col0\" >Karthikeyan</td>\n",
              "      <td id=\"T_bcdb9_row10_col1\" class=\"data row10 col1\" >Secretary</td>\n",
              "      <td id=\"T_bcdb9_row10_col2\" class=\"data row10 col2\" >40000</td>\n",
              "      <td id=\"T_bcdb9_row10_col3\" class=\"data row10 col3\" >0.09</td>\n",
              "      <td id=\"T_bcdb9_row10_col4\" class=\"data row10 col4\" >43600.00</td>\n",
              "      <td id=\"T_bcdb9_row10_col5\" class=\"data row10 col5\" >0</td>\n",
              "    </tr>\n",
              "    <tr>\n",
              "      <td id=\"T_bcdb9_row11_col0\" class=\"data row11 col0\" >Sunil</td>\n",
              "      <td id=\"T_bcdb9_row11_col1\" class=\"data row11 col1\" >Dy Manager</td>\n",
              "      <td id=\"T_bcdb9_row11_col2\" class=\"data row11 col2\" >40000</td>\n",
              "      <td id=\"T_bcdb9_row11_col3\" class=\"data row11 col3\" >0.05</td>\n",
              "      <td id=\"T_bcdb9_row11_col4\" class=\"data row11 col4\" >42000.00</td>\n",
              "      <td id=\"T_bcdb9_row11_col5\" class=\"data row11 col5\" >2000</td>\n",
              "    </tr>\n",
              "    <tr>\n",
              "      <td id=\"T_bcdb9_row12_col0\" class=\"data row12 col0\" >Mirza</td>\n",
              "      <td id=\"T_bcdb9_row12_col1\" class=\"data row12 col1\" >Cus_Rep</td>\n",
              "      <td id=\"T_bcdb9_row12_col2\" class=\"data row12 col2\" >25000</td>\n",
              "      <td id=\"T_bcdb9_row12_col3\" class=\"data row12 col3\" >0.04</td>\n",
              "      <td id=\"T_bcdb9_row12_col4\" class=\"data row12 col4\" >26000.00</td>\n",
              "      <td id=\"T_bcdb9_row12_col5\" class=\"data row12 col5\" >0</td>\n",
              "    </tr>\n",
              "  </tbody>\n",
              "</table>\n"
            ]
          },
          "metadata": {},
          "execution_count": 46
        }
      ]
    },
    {
      "cell_type": "code",
      "source": [
        "runSelect(\"select lastname, deptid,\\\n",
        "case \\\n",
        "when deptid in ('10','20') then 'Head' \\\n",
        "when deptid = '30' then 'Regional'\\\n",
        "else 'Branch' \\\n",
        "end \\\n",
        " office from empl\")"
      ],
      "metadata": {
        "colab": {
          "base_uri": "https://localhost:8080/",
          "height": 457
        },
        "id": "jbpKn1y0DwYG",
        "outputId": "d6861a38-17e2-4266-ac2b-4d783493f9bb"
      },
      "execution_count": 47,
      "outputs": [
        {
          "output_type": "execute_result",
          "data": {
            "text/plain": [
              "<pandas.io.formats.style.Styler at 0x7e181f82d3d0>"
            ],
            "text/html": [
              "<style type=\"text/css\">\n",
              "</style>\n",
              "<table id=\"T_51593\" class=\"dataframe\">\n",
              "  <thead>\n",
              "    <tr>\n",
              "      <th id=\"T_51593_level0_col0\" class=\"col_heading level0 col0\" >lastname</th>\n",
              "      <th id=\"T_51593_level0_col1\" class=\"col_heading level0 col1\" >deptid</th>\n",
              "      <th id=\"T_51593_level0_col2\" class=\"col_heading level0 col2\" >office</th>\n",
              "    </tr>\n",
              "  </thead>\n",
              "  <tbody>\n",
              "    <tr>\n",
              "      <td id=\"T_51593_row0_col0\" class=\"data row0 col0\" >Bacchan</td>\n",
              "      <td id=\"T_51593_row0_col1\" class=\"data row0 col1\" >10</td>\n",
              "      <td id=\"T_51593_row0_col2\" class=\"data row0 col2\" >Head</td>\n",
              "    </tr>\n",
              "    <tr>\n",
              "      <td id=\"T_51593_row1_col0\" class=\"data row1 col0\" >Mukherjee</td>\n",
              "      <td id=\"T_51593_row1_col1\" class=\"data row1 col1\" >40</td>\n",
              "      <td id=\"T_51593_row1_col2\" class=\"data row1 col2\" >Branch</td>\n",
              "    </tr>\n",
              "    <tr>\n",
              "      <td id=\"T_51593_row2_col0\" class=\"data row2 col0\" >Dikshit</td>\n",
              "      <td id=\"T_51593_row2_col1\" class=\"data row2 col1\" >20</td>\n",
              "      <td id=\"T_51593_row2_col2\" class=\"data row2 col2\" >Head</td>\n",
              "    </tr>\n",
              "    <tr>\n",
              "      <td id=\"T_51593_row3_col0\" class=\"data row3 col0\" >Khan</td>\n",
              "      <td id=\"T_51593_row3_col1\" class=\"data row3 col1\" >20</td>\n",
              "      <td id=\"T_51593_row3_col2\" class=\"data row3 col2\" >Head</td>\n",
              "    </tr>\n",
              "    <tr>\n",
              "      <td id=\"T_51593_row4_col0\" class=\"data row4 col0\" >Sehwag</td>\n",
              "      <td id=\"T_51593_row4_col1\" class=\"data row4 col1\" >20</td>\n",
              "      <td id=\"T_51593_row4_col2\" class=\"data row4 col2\" >Head</td>\n",
              "    </tr>\n",
              "    <tr>\n",
              "      <td id=\"T_51593_row5_col0\" class=\"data row5 col0\" >Dhoni</td>\n",
              "      <td id=\"T_51593_row5_col1\" class=\"data row5 col1\" >40</td>\n",
              "      <td id=\"T_51593_row5_col2\" class=\"data row5 col2\" >Branch</td>\n",
              "    </tr>\n",
              "    <tr>\n",
              "      <td id=\"T_51593_row6_col0\" class=\"data row6 col0\" >Dravid</td>\n",
              "      <td id=\"T_51593_row6_col1\" class=\"data row6 col1\" >30</td>\n",
              "      <td id=\"T_51593_row6_col2\" class=\"data row6 col2\" >Regional</td>\n",
              "    </tr>\n",
              "    <tr>\n",
              "      <td id=\"T_51593_row7_col0\" class=\"data row7 col0\" >Dalmia</td>\n",
              "      <td id=\"T_51593_row7_col1\" class=\"data row7 col1\" >30</td>\n",
              "      <td id=\"T_51593_row7_col2\" class=\"data row7 col2\" >Regional</td>\n",
              "    </tr>\n",
              "    <tr>\n",
              "      <td id=\"T_51593_row8_col0\" class=\"data row8 col0\" >Ganguly</td>\n",
              "      <td id=\"T_51593_row8_col1\" class=\"data row8 col1\" >40</td>\n",
              "      <td id=\"T_51593_row8_col2\" class=\"data row8 col2\" >Branch</td>\n",
              "    </tr>\n",
              "    <tr>\n",
              "      <td id=\"T_51593_row9_col0\" class=\"data row9 col0\" >Ganesan</td>\n",
              "      <td id=\"T_51593_row9_col1\" class=\"data row9 col1\" >10</td>\n",
              "      <td id=\"T_51593_row9_col2\" class=\"data row9 col2\" >Head</td>\n",
              "    </tr>\n",
              "    <tr>\n",
              "      <td id=\"T_51593_row10_col0\" class=\"data row10 col0\" >Karthikeyan</td>\n",
              "      <td id=\"T_51593_row10_col1\" class=\"data row10 col1\" >10</td>\n",
              "      <td id=\"T_51593_row10_col2\" class=\"data row10 col2\" >Head</td>\n",
              "    </tr>\n",
              "    <tr>\n",
              "      <td id=\"T_51593_row11_col0\" class=\"data row11 col0\" >Sunil</td>\n",
              "      <td id=\"T_51593_row11_col1\" class=\"data row11 col1\" >70</td>\n",
              "      <td id=\"T_51593_row11_col2\" class=\"data row11 col2\" >Branch</td>\n",
              "    </tr>\n",
              "    <tr>\n",
              "      <td id=\"T_51593_row12_col0\" class=\"data row12 col0\" >Mirza</td>\n",
              "      <td id=\"T_51593_row12_col1\" class=\"data row12 col1\" >30</td>\n",
              "      <td id=\"T_51593_row12_col2\" class=\"data row12 col2\" >Regional</td>\n",
              "    </tr>\n",
              "  </tbody>\n",
              "</table>\n"
            ]
          },
          "metadata": {},
          "execution_count": 47
        }
      ]
    },
    {
      "cell_type": "markdown",
      "source": [
        "#Join"
      ],
      "metadata": {
        "id": "Rs10ezIPpP0C"
      }
    },
    {
      "cell_type": "markdown",
      "source": [
        "## Basic Inner Join"
      ],
      "metadata": {
        "id": "XMfZP6HUpT4B"
      }
    },
    {
      "cell_type": "code",
      "source": [
        "sql = 'select firstname, lastname, salary, deptname, location, managerid from empl, dept where empl.deptid = dept.deptid'\n",
        "runSelect(sql)"
      ],
      "metadata": {
        "colab": {
          "base_uri": "https://localhost:8080/",
          "height": 426
        },
        "id": "ISiD-VP6pbUz",
        "outputId": "30b8c444-132b-49fe-882b-86bfdc4cc96c"
      },
      "execution_count": 48,
      "outputs": [
        {
          "output_type": "execute_result",
          "data": {
            "text/plain": [
              "<pandas.io.formats.style.Styler at 0x7e181f82ed50>"
            ],
            "text/html": [
              "<style type=\"text/css\">\n",
              "</style>\n",
              "<table id=\"T_9488a\" class=\"dataframe\">\n",
              "  <thead>\n",
              "    <tr>\n",
              "      <th id=\"T_9488a_level0_col0\" class=\"col_heading level0 col0\" >firstname</th>\n",
              "      <th id=\"T_9488a_level0_col1\" class=\"col_heading level0 col1\" >lastname</th>\n",
              "      <th id=\"T_9488a_level0_col2\" class=\"col_heading level0 col2\" >salary</th>\n",
              "      <th id=\"T_9488a_level0_col3\" class=\"col_heading level0 col3\" >deptname</th>\n",
              "      <th id=\"T_9488a_level0_col4\" class=\"col_heading level0 col4\" >location</th>\n",
              "      <th id=\"T_9488a_level0_col5\" class=\"col_heading level0 col5\" >managerid</th>\n",
              "    </tr>\n",
              "  </thead>\n",
              "  <tbody>\n",
              "    <tr>\n",
              "      <td id=\"T_9488a_row0_col0\" class=\"data row0 col0\" >Narayan</td>\n",
              "      <td id=\"T_9488a_row0_col1\" class=\"data row0 col1\" >Karthikeyan</td>\n",
              "      <td id=\"T_9488a_row0_col2\" class=\"data row0 col2\" >40000</td>\n",
              "      <td id=\"T_9488a_row0_col3\" class=\"data row0 col3\" >Corporate</td>\n",
              "      <td id=\"T_9488a_row0_col4\" class=\"data row0 col4\" >Calcutta</td>\n",
              "      <td id=\"T_9488a_row0_col5\" class=\"data row0 col5\" >299034</td>\n",
              "    </tr>\n",
              "    <tr>\n",
              "      <td id=\"T_9488a_row1_col0\" class=\"data row1 col0\" >Rekha</td>\n",
              "      <td id=\"T_9488a_row1_col1\" class=\"data row1 col1\" >Ganesan</td>\n",
              "      <td id=\"T_9488a_row1_col2\" class=\"data row1 col2\" >60000</td>\n",
              "      <td id=\"T_9488a_row1_col3\" class=\"data row1 col3\" >Corporate</td>\n",
              "      <td id=\"T_9488a_row1_col4\" class=\"data row1 col4\" >Calcutta</td>\n",
              "      <td id=\"T_9488a_row1_col5\" class=\"data row1 col5\" >299034</td>\n",
              "    </tr>\n",
              "    <tr>\n",
              "      <td id=\"T_9488a_row2_col0\" class=\"data row2 col0\" >Amitabh</td>\n",
              "      <td id=\"T_9488a_row2_col1\" class=\"data row2 col1\" >Bacchan</td>\n",
              "      <td id=\"T_9488a_row2_col2\" class=\"data row2 col2\" >50000</td>\n",
              "      <td id=\"T_9488a_row2_col3\" class=\"data row2 col3\" >Corporate</td>\n",
              "      <td id=\"T_9488a_row2_col4\" class=\"data row2 col4\" >Calcutta</td>\n",
              "      <td id=\"T_9488a_row2_col5\" class=\"data row2 col5\" >299034</td>\n",
              "    </tr>\n",
              "    <tr>\n",
              "      <td id=\"T_9488a_row3_col0\" class=\"data row3 col0\" >Virender</td>\n",
              "      <td id=\"T_9488a_row3_col1\" class=\"data row3 col1\" >Sehwag</td>\n",
              "      <td id=\"T_9488a_row3_col2\" class=\"data row3 col2\" >15000</td>\n",
              "      <td id=\"T_9488a_row3_col3\" class=\"data row3 col3\" >Sales</td>\n",
              "      <td id=\"T_9488a_row3_col4\" class=\"data row3 col4\" >Calcutta</td>\n",
              "      <td id=\"T_9488a_row3_col5\" class=\"data row3 col5\" >239456</td>\n",
              "    </tr>\n",
              "    <tr>\n",
              "      <td id=\"T_9488a_row4_col0\" class=\"data row4 col0\" >Shahrukh</td>\n",
              "      <td id=\"T_9488a_row4_col1\" class=\"data row4 col1\" >Khan</td>\n",
              "      <td id=\"T_9488a_row4_col2\" class=\"data row4 col2\" >30000</td>\n",
              "      <td id=\"T_9488a_row4_col3\" class=\"data row4 col3\" >Sales</td>\n",
              "      <td id=\"T_9488a_row4_col4\" class=\"data row4 col4\" >Calcutta</td>\n",
              "      <td id=\"T_9488a_row4_col5\" class=\"data row4 col5\" >239456</td>\n",
              "    </tr>\n",
              "    <tr>\n",
              "      <td id=\"T_9488a_row5_col0\" class=\"data row5 col0\" >Madhuri</td>\n",
              "      <td id=\"T_9488a_row5_col1\" class=\"data row5 col1\" >Dikshit</td>\n",
              "      <td id=\"T_9488a_row5_col2\" class=\"data row5 col2\" >10000</td>\n",
              "      <td id=\"T_9488a_row5_col3\" class=\"data row5 col3\" >Sales</td>\n",
              "      <td id=\"T_9488a_row5_col4\" class=\"data row5 col4\" >Calcutta</td>\n",
              "      <td id=\"T_9488a_row5_col5\" class=\"data row5 col5\" >239456</td>\n",
              "    </tr>\n",
              "    <tr>\n",
              "      <td id=\"T_9488a_row6_col0\" class=\"data row6 col0\" >Sania</td>\n",
              "      <td id=\"T_9488a_row6_col1\" class=\"data row6 col1\" >Mirza</td>\n",
              "      <td id=\"T_9488a_row6_col2\" class=\"data row6 col2\" >25000</td>\n",
              "      <td id=\"T_9488a_row6_col3\" class=\"data row6 col3\" >Accounts</td>\n",
              "      <td id=\"T_9488a_row6_col4\" class=\"data row6 col4\" >Calcutta</td>\n",
              "      <td id=\"T_9488a_row6_col5\" class=\"data row6 col5\" >822134</td>\n",
              "    </tr>\n",
              "    <tr>\n",
              "      <td id=\"T_9488a_row7_col0\" class=\"data row7 col0\" >Jagmohan</td>\n",
              "      <td id=\"T_9488a_row7_col1\" class=\"data row7 col1\" >Dalmia</td>\n",
              "      <td id=\"T_9488a_row7_col2\" class=\"data row7 col2\" >12000</td>\n",
              "      <td id=\"T_9488a_row7_col3\" class=\"data row7 col3\" >Accounts</td>\n",
              "      <td id=\"T_9488a_row7_col4\" class=\"data row7 col4\" >Calcutta</td>\n",
              "      <td id=\"T_9488a_row7_col5\" class=\"data row7 col5\" >822134</td>\n",
              "    </tr>\n",
              "    <tr>\n",
              "      <td id=\"T_9488a_row8_col0\" class=\"data row8 col0\" >Rahul</td>\n",
              "      <td id=\"T_9488a_row8_col1\" class=\"data row8 col1\" >Dravid</td>\n",
              "      <td id=\"T_9488a_row8_col2\" class=\"data row8 col2\" >40000</td>\n",
              "      <td id=\"T_9488a_row8_col3\" class=\"data row8 col3\" >Accounts</td>\n",
              "      <td id=\"T_9488a_row8_col4\" class=\"data row8 col4\" >Calcutta</td>\n",
              "      <td id=\"T_9488a_row8_col5\" class=\"data row8 col5\" >822134</td>\n",
              "    </tr>\n",
              "    <tr>\n",
              "      <td id=\"T_9488a_row9_col0\" class=\"data row9 col0\" >Sourav</td>\n",
              "      <td id=\"T_9488a_row9_col1\" class=\"data row9 col1\" >Ganguly</td>\n",
              "      <td id=\"T_9488a_row9_col2\" class=\"data row9 col2\" >20000</td>\n",
              "      <td id=\"T_9488a_row9_col3\" class=\"data row9 col3\" >Production</td>\n",
              "      <td id=\"T_9488a_row9_col4\" class=\"data row9 col4\" >Bombay</td>\n",
              "      <td id=\"T_9488a_row9_col5\" class=\"data row9 col5\" >349870</td>\n",
              "    </tr>\n",
              "    <tr>\n",
              "      <td id=\"T_9488a_row10_col0\" class=\"data row10 col0\" >Mahender</td>\n",
              "      <td id=\"T_9488a_row10_col1\" class=\"data row10 col1\" >Dhoni</td>\n",
              "      <td id=\"T_9488a_row10_col2\" class=\"data row10 col2\" >9000</td>\n",
              "      <td id=\"T_9488a_row10_col3\" class=\"data row10 col3\" >Production</td>\n",
              "      <td id=\"T_9488a_row10_col4\" class=\"data row10 col4\" >Bombay</td>\n",
              "      <td id=\"T_9488a_row10_col5\" class=\"data row10 col5\" >349870</td>\n",
              "    </tr>\n",
              "    <tr>\n",
              "      <td id=\"T_9488a_row11_col0\" class=\"data row11 col0\" >Rani</td>\n",
              "      <td id=\"T_9488a_row11_col1\" class=\"data row11 col1\" >Mukherjee</td>\n",
              "      <td id=\"T_9488a_row11_col2\" class=\"data row11 col2\" >25000</td>\n",
              "      <td id=\"T_9488a_row11_col3\" class=\"data row11 col3\" >Production</td>\n",
              "      <td id=\"T_9488a_row11_col4\" class=\"data row11 col4\" >Bombay</td>\n",
              "      <td id=\"T_9488a_row11_col5\" class=\"data row11 col5\" >349870</td>\n",
              "    </tr>\n",
              "  </tbody>\n",
              "</table>\n"
            ]
          },
          "metadata": {},
          "execution_count": 48
        }
      ]
    },
    {
      "cell_type": "code",
      "source": [
        "sql = 'select empid, firstname, deptname, location from empl INNER JOIN dept ON empl.deptid = dept.deptid'\n",
        "runSelect(sql)"
      ],
      "metadata": {
        "colab": {
          "base_uri": "https://localhost:8080/",
          "height": 426
        },
        "id": "LVrEArEc1VcF",
        "outputId": "fd36635a-8bbf-4e0a-bb0d-bd999073c237"
      },
      "execution_count": 49,
      "outputs": [
        {
          "output_type": "execute_result",
          "data": {
            "text/plain": [
              "<pandas.io.formats.style.Styler at 0x7e181f82db10>"
            ],
            "text/html": [
              "<style type=\"text/css\">\n",
              "</style>\n",
              "<table id=\"T_4e1ef\" class=\"dataframe\">\n",
              "  <thead>\n",
              "    <tr>\n",
              "      <th id=\"T_4e1ef_level0_col0\" class=\"col_heading level0 col0\" >empid</th>\n",
              "      <th id=\"T_4e1ef_level0_col1\" class=\"col_heading level0 col1\" >firstname</th>\n",
              "      <th id=\"T_4e1ef_level0_col2\" class=\"col_heading level0 col2\" >deptname</th>\n",
              "      <th id=\"T_4e1ef_level0_col3\" class=\"col_heading level0 col3\" >location</th>\n",
              "    </tr>\n",
              "  </thead>\n",
              "  <tbody>\n",
              "    <tr>\n",
              "      <td id=\"T_4e1ef_row0_col0\" class=\"data row0 col0\" >546223</td>\n",
              "      <td id=\"T_4e1ef_row0_col1\" class=\"data row0 col1\" >Narayan</td>\n",
              "      <td id=\"T_4e1ef_row0_col2\" class=\"data row0 col2\" >Corporate</td>\n",
              "      <td id=\"T_4e1ef_row0_col3\" class=\"data row0 col3\" >Calcutta</td>\n",
              "    </tr>\n",
              "    <tr>\n",
              "      <td id=\"T_4e1ef_row1_col0\" class=\"data row1 col0\" >299034</td>\n",
              "      <td id=\"T_4e1ef_row1_col1\" class=\"data row1 col1\" >Rekha</td>\n",
              "      <td id=\"T_4e1ef_row1_col2\" class=\"data row1 col2\" >Corporate</td>\n",
              "      <td id=\"T_4e1ef_row1_col3\" class=\"data row1 col3\" >Calcutta</td>\n",
              "    </tr>\n",
              "    <tr>\n",
              "      <td id=\"T_4e1ef_row2_col0\" class=\"data row2 col0\" >742866</td>\n",
              "      <td id=\"T_4e1ef_row2_col1\" class=\"data row2 col1\" >Amitabh</td>\n",
              "      <td id=\"T_4e1ef_row2_col2\" class=\"data row2 col2\" >Corporate</td>\n",
              "      <td id=\"T_4e1ef_row2_col3\" class=\"data row2 col3\" >Calcutta</td>\n",
              "    </tr>\n",
              "    <tr>\n",
              "      <td id=\"T_4e1ef_row3_col0\" class=\"data row3 col0\" >897889</td>\n",
              "      <td id=\"T_4e1ef_row3_col1\" class=\"data row3 col1\" >Virender</td>\n",
              "      <td id=\"T_4e1ef_row3_col2\" class=\"data row3 col2\" >Sales</td>\n",
              "      <td id=\"T_4e1ef_row3_col3\" class=\"data row3 col3\" >Calcutta</td>\n",
              "    </tr>\n",
              "    <tr>\n",
              "      <td id=\"T_4e1ef_row4_col0\" class=\"data row4 col0\" >239456</td>\n",
              "      <td id=\"T_4e1ef_row4_col1\" class=\"data row4 col1\" >Shahrukh</td>\n",
              "      <td id=\"T_4e1ef_row4_col2\" class=\"data row4 col2\" >Sales</td>\n",
              "      <td id=\"T_4e1ef_row4_col3\" class=\"data row4 col3\" >Calcutta</td>\n",
              "    </tr>\n",
              "    <tr>\n",
              "      <td id=\"T_4e1ef_row5_col0\" class=\"data row5 col0\" >865477</td>\n",
              "      <td id=\"T_4e1ef_row5_col1\" class=\"data row5 col1\" >Madhuri</td>\n",
              "      <td id=\"T_4e1ef_row5_col2\" class=\"data row5 col2\" >Sales</td>\n",
              "      <td id=\"T_4e1ef_row5_col3\" class=\"data row5 col3\" >Calcutta</td>\n",
              "    </tr>\n",
              "    <tr>\n",
              "      <td id=\"T_4e1ef_row6_col0\" class=\"data row6 col0\" >223112</td>\n",
              "      <td id=\"T_4e1ef_row6_col1\" class=\"data row6 col1\" >Sania</td>\n",
              "      <td id=\"T_4e1ef_row6_col2\" class=\"data row6 col2\" >Accounts</td>\n",
              "      <td id=\"T_4e1ef_row6_col3\" class=\"data row6 col3\" >Calcutta</td>\n",
              "    </tr>\n",
              "    <tr>\n",
              "      <td id=\"T_4e1ef_row7_col0\" class=\"data row7 col0\" >997445</td>\n",
              "      <td id=\"T_4e1ef_row7_col1\" class=\"data row7 col1\" >Jagmohan</td>\n",
              "      <td id=\"T_4e1ef_row7_col2\" class=\"data row7 col2\" >Accounts</td>\n",
              "      <td id=\"T_4e1ef_row7_col3\" class=\"data row7 col3\" >Calcutta</td>\n",
              "    </tr>\n",
              "    <tr>\n",
              "      <td id=\"T_4e1ef_row8_col0\" class=\"data row8 col0\" >822134</td>\n",
              "      <td id=\"T_4e1ef_row8_col1\" class=\"data row8 col1\" >Rahul</td>\n",
              "      <td id=\"T_4e1ef_row8_col2\" class=\"data row8 col2\" >Accounts</td>\n",
              "      <td id=\"T_4e1ef_row8_col3\" class=\"data row8 col3\" >Calcutta</td>\n",
              "    </tr>\n",
              "    <tr>\n",
              "      <td id=\"T_4e1ef_row9_col0\" class=\"data row9 col0\" >989007</td>\n",
              "      <td id=\"T_4e1ef_row9_col1\" class=\"data row9 col1\" >Sourav</td>\n",
              "      <td id=\"T_4e1ef_row9_col2\" class=\"data row9 col2\" >Production</td>\n",
              "      <td id=\"T_4e1ef_row9_col3\" class=\"data row9 col3\" >Bombay</td>\n",
              "    </tr>\n",
              "    <tr>\n",
              "      <td id=\"T_4e1ef_row10_col0\" class=\"data row10 col0\" >123980</td>\n",
              "      <td id=\"T_4e1ef_row10_col1\" class=\"data row10 col1\" >Mahender</td>\n",
              "      <td id=\"T_4e1ef_row10_col2\" class=\"data row10 col2\" >Production</td>\n",
              "      <td id=\"T_4e1ef_row10_col3\" class=\"data row10 col3\" >Bombay</td>\n",
              "    </tr>\n",
              "    <tr>\n",
              "      <td id=\"T_4e1ef_row11_col0\" class=\"data row11 col0\" >349870</td>\n",
              "      <td id=\"T_4e1ef_row11_col1\" class=\"data row11 col1\" >Rani</td>\n",
              "      <td id=\"T_4e1ef_row11_col2\" class=\"data row11 col2\" >Production</td>\n",
              "      <td id=\"T_4e1ef_row11_col3\" class=\"data row11 col3\" >Bombay</td>\n",
              "    </tr>\n",
              "  </tbody>\n",
              "</table>\n"
            ]
          },
          "metadata": {},
          "execution_count": 49
        }
      ]
    },
    {
      "cell_type": "code",
      "source": [
        "sql = 'select deptname,round(sum(salary),0) payroll from empl INNER JOIN dept ON empl.deptid = dept.deptid \\\n",
        "group by deptname'\n",
        "runSelect(sql)"
      ],
      "metadata": {
        "id": "pKk82QRi28DP",
        "outputId": "e6c2ffb4-2f32-4ece-f9fe-ea14b225665c",
        "colab": {
          "base_uri": "https://localhost:8080/",
          "height": 175
        }
      },
      "execution_count": 50,
      "outputs": [
        {
          "output_type": "execute_result",
          "data": {
            "text/plain": [
              "<pandas.io.formats.style.Styler at 0x7e181f834110>"
            ],
            "text/html": [
              "<style type=\"text/css\">\n",
              "</style>\n",
              "<table id=\"T_91081\" class=\"dataframe\">\n",
              "  <thead>\n",
              "    <tr>\n",
              "      <th id=\"T_91081_level0_col0\" class=\"col_heading level0 col0\" >deptname</th>\n",
              "      <th id=\"T_91081_level0_col1\" class=\"col_heading level0 col1\" >payroll</th>\n",
              "    </tr>\n",
              "  </thead>\n",
              "  <tbody>\n",
              "    <tr>\n",
              "      <td id=\"T_91081_row0_col0\" class=\"data row0 col0\" >Corporate</td>\n",
              "      <td id=\"T_91081_row0_col1\" class=\"data row0 col1\" >150000</td>\n",
              "    </tr>\n",
              "    <tr>\n",
              "      <td id=\"T_91081_row1_col0\" class=\"data row1 col0\" >Accounts</td>\n",
              "      <td id=\"T_91081_row1_col1\" class=\"data row1 col1\" >77000</td>\n",
              "    </tr>\n",
              "    <tr>\n",
              "      <td id=\"T_91081_row2_col0\" class=\"data row2 col0\" >Sales</td>\n",
              "      <td id=\"T_91081_row2_col1\" class=\"data row2 col1\" >55000</td>\n",
              "    </tr>\n",
              "    <tr>\n",
              "      <td id=\"T_91081_row3_col0\" class=\"data row3 col0\" >Production</td>\n",
              "      <td id=\"T_91081_row3_col1\" class=\"data row3 col1\" >54000</td>\n",
              "    </tr>\n",
              "  </tbody>\n",
              "</table>\n"
            ]
          },
          "metadata": {},
          "execution_count": 50
        }
      ]
    },
    {
      "cell_type": "markdown",
      "source": [
        "## Outer Join"
      ],
      "metadata": {
        "id": "tK9uJHAL1u6x"
      }
    },
    {
      "cell_type": "markdown",
      "source": [
        "### Left Outer"
      ],
      "metadata": {
        "id": "5wGFVhyJ2x8S"
      }
    },
    {
      "cell_type": "code",
      "source": [
        "sql = 'select empid, firstname, deptname, location from empl LEFT JOIN dept ON empl.deptid = dept.deptid'\n",
        "runSelect(sql)"
      ],
      "metadata": {
        "colab": {
          "base_uri": "https://localhost:8080/",
          "height": 457
        },
        "id": "Ls6VfOXt1zTq",
        "outputId": "681efdca-e64e-4a38-cb99-bb5b5a252e04"
      },
      "execution_count": 51,
      "outputs": [
        {
          "output_type": "execute_result",
          "data": {
            "text/plain": [
              "<pandas.io.formats.style.Styler at 0x7e181f837650>"
            ],
            "text/html": [
              "<style type=\"text/css\">\n",
              "</style>\n",
              "<table id=\"T_7eeed\" class=\"dataframe\">\n",
              "  <thead>\n",
              "    <tr>\n",
              "      <th id=\"T_7eeed_level0_col0\" class=\"col_heading level0 col0\" >empid</th>\n",
              "      <th id=\"T_7eeed_level0_col1\" class=\"col_heading level0 col1\" >firstname</th>\n",
              "      <th id=\"T_7eeed_level0_col2\" class=\"col_heading level0 col2\" >deptname</th>\n",
              "      <th id=\"T_7eeed_level0_col3\" class=\"col_heading level0 col3\" >location</th>\n",
              "    </tr>\n",
              "  </thead>\n",
              "  <tbody>\n",
              "    <tr>\n",
              "      <td id=\"T_7eeed_row0_col0\" class=\"data row0 col0\" >546223</td>\n",
              "      <td id=\"T_7eeed_row0_col1\" class=\"data row0 col1\" >Narayan</td>\n",
              "      <td id=\"T_7eeed_row0_col2\" class=\"data row0 col2\" >Corporate</td>\n",
              "      <td id=\"T_7eeed_row0_col3\" class=\"data row0 col3\" >Calcutta</td>\n",
              "    </tr>\n",
              "    <tr>\n",
              "      <td id=\"T_7eeed_row1_col0\" class=\"data row1 col0\" >299034</td>\n",
              "      <td id=\"T_7eeed_row1_col1\" class=\"data row1 col1\" >Rekha</td>\n",
              "      <td id=\"T_7eeed_row1_col2\" class=\"data row1 col2\" >Corporate</td>\n",
              "      <td id=\"T_7eeed_row1_col3\" class=\"data row1 col3\" >Calcutta</td>\n",
              "    </tr>\n",
              "    <tr>\n",
              "      <td id=\"T_7eeed_row2_col0\" class=\"data row2 col0\" >742866</td>\n",
              "      <td id=\"T_7eeed_row2_col1\" class=\"data row2 col1\" >Amitabh</td>\n",
              "      <td id=\"T_7eeed_row2_col2\" class=\"data row2 col2\" >Corporate</td>\n",
              "      <td id=\"T_7eeed_row2_col3\" class=\"data row2 col3\" >Calcutta</td>\n",
              "    </tr>\n",
              "    <tr>\n",
              "      <td id=\"T_7eeed_row3_col0\" class=\"data row3 col0\" >897889</td>\n",
              "      <td id=\"T_7eeed_row3_col1\" class=\"data row3 col1\" >Virender</td>\n",
              "      <td id=\"T_7eeed_row3_col2\" class=\"data row3 col2\" >Sales</td>\n",
              "      <td id=\"T_7eeed_row3_col3\" class=\"data row3 col3\" >Calcutta</td>\n",
              "    </tr>\n",
              "    <tr>\n",
              "      <td id=\"T_7eeed_row4_col0\" class=\"data row4 col0\" >239456</td>\n",
              "      <td id=\"T_7eeed_row4_col1\" class=\"data row4 col1\" >Shahrukh</td>\n",
              "      <td id=\"T_7eeed_row4_col2\" class=\"data row4 col2\" >Sales</td>\n",
              "      <td id=\"T_7eeed_row4_col3\" class=\"data row4 col3\" >Calcutta</td>\n",
              "    </tr>\n",
              "    <tr>\n",
              "      <td id=\"T_7eeed_row5_col0\" class=\"data row5 col0\" >865477</td>\n",
              "      <td id=\"T_7eeed_row5_col1\" class=\"data row5 col1\" >Madhuri</td>\n",
              "      <td id=\"T_7eeed_row5_col2\" class=\"data row5 col2\" >Sales</td>\n",
              "      <td id=\"T_7eeed_row5_col3\" class=\"data row5 col3\" >Calcutta</td>\n",
              "    </tr>\n",
              "    <tr>\n",
              "      <td id=\"T_7eeed_row6_col0\" class=\"data row6 col0\" >223112</td>\n",
              "      <td id=\"T_7eeed_row6_col1\" class=\"data row6 col1\" >Sania</td>\n",
              "      <td id=\"T_7eeed_row6_col2\" class=\"data row6 col2\" >Accounts</td>\n",
              "      <td id=\"T_7eeed_row6_col3\" class=\"data row6 col3\" >Calcutta</td>\n",
              "    </tr>\n",
              "    <tr>\n",
              "      <td id=\"T_7eeed_row7_col0\" class=\"data row7 col0\" >997445</td>\n",
              "      <td id=\"T_7eeed_row7_col1\" class=\"data row7 col1\" >Jagmohan</td>\n",
              "      <td id=\"T_7eeed_row7_col2\" class=\"data row7 col2\" >Accounts</td>\n",
              "      <td id=\"T_7eeed_row7_col3\" class=\"data row7 col3\" >Calcutta</td>\n",
              "    </tr>\n",
              "    <tr>\n",
              "      <td id=\"T_7eeed_row8_col0\" class=\"data row8 col0\" >822134</td>\n",
              "      <td id=\"T_7eeed_row8_col1\" class=\"data row8 col1\" >Rahul</td>\n",
              "      <td id=\"T_7eeed_row8_col2\" class=\"data row8 col2\" >Accounts</td>\n",
              "      <td id=\"T_7eeed_row8_col3\" class=\"data row8 col3\" >Calcutta</td>\n",
              "    </tr>\n",
              "    <tr>\n",
              "      <td id=\"T_7eeed_row9_col0\" class=\"data row9 col0\" >989007</td>\n",
              "      <td id=\"T_7eeed_row9_col1\" class=\"data row9 col1\" >Sourav</td>\n",
              "      <td id=\"T_7eeed_row9_col2\" class=\"data row9 col2\" >Production</td>\n",
              "      <td id=\"T_7eeed_row9_col3\" class=\"data row9 col3\" >Bombay</td>\n",
              "    </tr>\n",
              "    <tr>\n",
              "      <td id=\"T_7eeed_row10_col0\" class=\"data row10 col0\" >123980</td>\n",
              "      <td id=\"T_7eeed_row10_col1\" class=\"data row10 col1\" >Mahender</td>\n",
              "      <td id=\"T_7eeed_row10_col2\" class=\"data row10 col2\" >Production</td>\n",
              "      <td id=\"T_7eeed_row10_col3\" class=\"data row10 col3\" >Bombay</td>\n",
              "    </tr>\n",
              "    <tr>\n",
              "      <td id=\"T_7eeed_row11_col0\" class=\"data row11 col0\" >349870</td>\n",
              "      <td id=\"T_7eeed_row11_col1\" class=\"data row11 col1\" >Rani</td>\n",
              "      <td id=\"T_7eeed_row11_col2\" class=\"data row11 col2\" >Production</td>\n",
              "      <td id=\"T_7eeed_row11_col3\" class=\"data row11 col3\" >Bombay</td>\n",
              "    </tr>\n",
              "    <tr>\n",
              "      <td id=\"T_7eeed_row12_col0\" class=\"data row12 col0\" >546224</td>\n",
              "      <td id=\"T_7eeed_row12_col1\" class=\"data row12 col1\" >Chettri</td>\n",
              "      <td id=\"T_7eeed_row12_col2\" class=\"data row12 col2\" >None</td>\n",
              "      <td id=\"T_7eeed_row12_col3\" class=\"data row12 col3\" >None</td>\n",
              "    </tr>\n",
              "  </tbody>\n",
              "</table>\n"
            ]
          },
          "metadata": {},
          "execution_count": 51
        }
      ]
    },
    {
      "cell_type": "markdown",
      "source": [
        "### Right Outer"
      ],
      "metadata": {
        "id": "iJ6DASb121Og"
      }
    },
    {
      "cell_type": "code",
      "source": [
        "sql = 'select empid, firstname, deptname, location from empl RIGHT JOIN dept ON empl.deptid = dept.deptid'\n",
        "runSelect(sql)"
      ],
      "metadata": {
        "colab": {
          "base_uri": "https://localhost:8080/",
          "height": 457
        },
        "id": "khvQpQ4E2XND",
        "outputId": "577f2088-c5f3-4522-9032-b2b484779d2d"
      },
      "execution_count": 52,
      "outputs": [
        {
          "output_type": "execute_result",
          "data": {
            "text/plain": [
              "<pandas.io.formats.style.Styler at 0x7e181f888b50>"
            ],
            "text/html": [
              "<style type=\"text/css\">\n",
              "</style>\n",
              "<table id=\"T_6c950\" class=\"dataframe\">\n",
              "  <thead>\n",
              "    <tr>\n",
              "      <th id=\"T_6c950_level0_col0\" class=\"col_heading level0 col0\" >empid</th>\n",
              "      <th id=\"T_6c950_level0_col1\" class=\"col_heading level0 col1\" >firstname</th>\n",
              "      <th id=\"T_6c950_level0_col2\" class=\"col_heading level0 col2\" >deptname</th>\n",
              "      <th id=\"T_6c950_level0_col3\" class=\"col_heading level0 col3\" >location</th>\n",
              "    </tr>\n",
              "  </thead>\n",
              "  <tbody>\n",
              "    <tr>\n",
              "      <td id=\"T_6c950_row0_col0\" class=\"data row0 col0\" >546223</td>\n",
              "      <td id=\"T_6c950_row0_col1\" class=\"data row0 col1\" >Narayan</td>\n",
              "      <td id=\"T_6c950_row0_col2\" class=\"data row0 col2\" >Corporate</td>\n",
              "      <td id=\"T_6c950_row0_col3\" class=\"data row0 col3\" >Calcutta</td>\n",
              "    </tr>\n",
              "    <tr>\n",
              "      <td id=\"T_6c950_row1_col0\" class=\"data row1 col0\" >299034</td>\n",
              "      <td id=\"T_6c950_row1_col1\" class=\"data row1 col1\" >Rekha</td>\n",
              "      <td id=\"T_6c950_row1_col2\" class=\"data row1 col2\" >Corporate</td>\n",
              "      <td id=\"T_6c950_row1_col3\" class=\"data row1 col3\" >Calcutta</td>\n",
              "    </tr>\n",
              "    <tr>\n",
              "      <td id=\"T_6c950_row2_col0\" class=\"data row2 col0\" >742866</td>\n",
              "      <td id=\"T_6c950_row2_col1\" class=\"data row2 col1\" >Amitabh</td>\n",
              "      <td id=\"T_6c950_row2_col2\" class=\"data row2 col2\" >Corporate</td>\n",
              "      <td id=\"T_6c950_row2_col3\" class=\"data row2 col3\" >Calcutta</td>\n",
              "    </tr>\n",
              "    <tr>\n",
              "      <td id=\"T_6c950_row3_col0\" class=\"data row3 col0\" >897889</td>\n",
              "      <td id=\"T_6c950_row3_col1\" class=\"data row3 col1\" >Virender</td>\n",
              "      <td id=\"T_6c950_row3_col2\" class=\"data row3 col2\" >Sales</td>\n",
              "      <td id=\"T_6c950_row3_col3\" class=\"data row3 col3\" >Calcutta</td>\n",
              "    </tr>\n",
              "    <tr>\n",
              "      <td id=\"T_6c950_row4_col0\" class=\"data row4 col0\" >239456</td>\n",
              "      <td id=\"T_6c950_row4_col1\" class=\"data row4 col1\" >Shahrukh</td>\n",
              "      <td id=\"T_6c950_row4_col2\" class=\"data row4 col2\" >Sales</td>\n",
              "      <td id=\"T_6c950_row4_col3\" class=\"data row4 col3\" >Calcutta</td>\n",
              "    </tr>\n",
              "    <tr>\n",
              "      <td id=\"T_6c950_row5_col0\" class=\"data row5 col0\" >865477</td>\n",
              "      <td id=\"T_6c950_row5_col1\" class=\"data row5 col1\" >Madhuri</td>\n",
              "      <td id=\"T_6c950_row5_col2\" class=\"data row5 col2\" >Sales</td>\n",
              "      <td id=\"T_6c950_row5_col3\" class=\"data row5 col3\" >Calcutta</td>\n",
              "    </tr>\n",
              "    <tr>\n",
              "      <td id=\"T_6c950_row6_col0\" class=\"data row6 col0\" >223112</td>\n",
              "      <td id=\"T_6c950_row6_col1\" class=\"data row6 col1\" >Sania</td>\n",
              "      <td id=\"T_6c950_row6_col2\" class=\"data row6 col2\" >Accounts</td>\n",
              "      <td id=\"T_6c950_row6_col3\" class=\"data row6 col3\" >Calcutta</td>\n",
              "    </tr>\n",
              "    <tr>\n",
              "      <td id=\"T_6c950_row7_col0\" class=\"data row7 col0\" >997445</td>\n",
              "      <td id=\"T_6c950_row7_col1\" class=\"data row7 col1\" >Jagmohan</td>\n",
              "      <td id=\"T_6c950_row7_col2\" class=\"data row7 col2\" >Accounts</td>\n",
              "      <td id=\"T_6c950_row7_col3\" class=\"data row7 col3\" >Calcutta</td>\n",
              "    </tr>\n",
              "    <tr>\n",
              "      <td id=\"T_6c950_row8_col0\" class=\"data row8 col0\" >822134</td>\n",
              "      <td id=\"T_6c950_row8_col1\" class=\"data row8 col1\" >Rahul</td>\n",
              "      <td id=\"T_6c950_row8_col2\" class=\"data row8 col2\" >Accounts</td>\n",
              "      <td id=\"T_6c950_row8_col3\" class=\"data row8 col3\" >Calcutta</td>\n",
              "    </tr>\n",
              "    <tr>\n",
              "      <td id=\"T_6c950_row9_col0\" class=\"data row9 col0\" >989007</td>\n",
              "      <td id=\"T_6c950_row9_col1\" class=\"data row9 col1\" >Sourav</td>\n",
              "      <td id=\"T_6c950_row9_col2\" class=\"data row9 col2\" >Production</td>\n",
              "      <td id=\"T_6c950_row9_col3\" class=\"data row9 col3\" >Bombay</td>\n",
              "    </tr>\n",
              "    <tr>\n",
              "      <td id=\"T_6c950_row10_col0\" class=\"data row10 col0\" >123980</td>\n",
              "      <td id=\"T_6c950_row10_col1\" class=\"data row10 col1\" >Mahender</td>\n",
              "      <td id=\"T_6c950_row10_col2\" class=\"data row10 col2\" >Production</td>\n",
              "      <td id=\"T_6c950_row10_col3\" class=\"data row10 col3\" >Bombay</td>\n",
              "    </tr>\n",
              "    <tr>\n",
              "      <td id=\"T_6c950_row11_col0\" class=\"data row11 col0\" >349870</td>\n",
              "      <td id=\"T_6c950_row11_col1\" class=\"data row11 col1\" >Rani</td>\n",
              "      <td id=\"T_6c950_row11_col2\" class=\"data row11 col2\" >Production</td>\n",
              "      <td id=\"T_6c950_row11_col3\" class=\"data row11 col3\" >Bombay</td>\n",
              "    </tr>\n",
              "    <tr>\n",
              "      <td id=\"T_6c950_row12_col0\" class=\"data row12 col0\" >None</td>\n",
              "      <td id=\"T_6c950_row12_col1\" class=\"data row12 col1\" >None</td>\n",
              "      <td id=\"T_6c950_row12_col2\" class=\"data row12 col2\" >Research</td>\n",
              "      <td id=\"T_6c950_row12_col3\" class=\"data row12 col3\" >Delhi</td>\n",
              "    </tr>\n",
              "  </tbody>\n",
              "</table>\n"
            ]
          },
          "metadata": {},
          "execution_count": 52
        }
      ]
    },
    {
      "cell_type": "markdown",
      "source": [
        "### Full Outer"
      ],
      "metadata": {
        "id": "RsEyhBBp24zy"
      }
    },
    {
      "cell_type": "code",
      "source": [
        "sql = 'select empid, firstname, deptname, location from empl FULL JOIN dept ON empl.deptid = dept.deptid'\n",
        "runSelect(sql)"
      ],
      "metadata": {
        "colab": {
          "base_uri": "https://localhost:8080/",
          "height": 488
        },
        "id": "Ipt14U9o2qFg",
        "outputId": "3ff6838c-d171-4990-9b4e-4a0bbceabce4"
      },
      "execution_count": 53,
      "outputs": [
        {
          "output_type": "execute_result",
          "data": {
            "text/plain": [
              "<pandas.io.formats.style.Styler at 0x7e181f88d210>"
            ],
            "text/html": [
              "<style type=\"text/css\">\n",
              "</style>\n",
              "<table id=\"T_9ed47\" class=\"dataframe\">\n",
              "  <thead>\n",
              "    <tr>\n",
              "      <th id=\"T_9ed47_level0_col0\" class=\"col_heading level0 col0\" >empid</th>\n",
              "      <th id=\"T_9ed47_level0_col1\" class=\"col_heading level0 col1\" >firstname</th>\n",
              "      <th id=\"T_9ed47_level0_col2\" class=\"col_heading level0 col2\" >deptname</th>\n",
              "      <th id=\"T_9ed47_level0_col3\" class=\"col_heading level0 col3\" >location</th>\n",
              "    </tr>\n",
              "  </thead>\n",
              "  <tbody>\n",
              "    <tr>\n",
              "      <td id=\"T_9ed47_row0_col0\" class=\"data row0 col0\" >546223</td>\n",
              "      <td id=\"T_9ed47_row0_col1\" class=\"data row0 col1\" >Narayan</td>\n",
              "      <td id=\"T_9ed47_row0_col2\" class=\"data row0 col2\" >Corporate</td>\n",
              "      <td id=\"T_9ed47_row0_col3\" class=\"data row0 col3\" >Calcutta</td>\n",
              "    </tr>\n",
              "    <tr>\n",
              "      <td id=\"T_9ed47_row1_col0\" class=\"data row1 col0\" >299034</td>\n",
              "      <td id=\"T_9ed47_row1_col1\" class=\"data row1 col1\" >Rekha</td>\n",
              "      <td id=\"T_9ed47_row1_col2\" class=\"data row1 col2\" >Corporate</td>\n",
              "      <td id=\"T_9ed47_row1_col3\" class=\"data row1 col3\" >Calcutta</td>\n",
              "    </tr>\n",
              "    <tr>\n",
              "      <td id=\"T_9ed47_row2_col0\" class=\"data row2 col0\" >742866</td>\n",
              "      <td id=\"T_9ed47_row2_col1\" class=\"data row2 col1\" >Amitabh</td>\n",
              "      <td id=\"T_9ed47_row2_col2\" class=\"data row2 col2\" >Corporate</td>\n",
              "      <td id=\"T_9ed47_row2_col3\" class=\"data row2 col3\" >Calcutta</td>\n",
              "    </tr>\n",
              "    <tr>\n",
              "      <td id=\"T_9ed47_row3_col0\" class=\"data row3 col0\" >897889</td>\n",
              "      <td id=\"T_9ed47_row3_col1\" class=\"data row3 col1\" >Virender</td>\n",
              "      <td id=\"T_9ed47_row3_col2\" class=\"data row3 col2\" >Sales</td>\n",
              "      <td id=\"T_9ed47_row3_col3\" class=\"data row3 col3\" >Calcutta</td>\n",
              "    </tr>\n",
              "    <tr>\n",
              "      <td id=\"T_9ed47_row4_col0\" class=\"data row4 col0\" >239456</td>\n",
              "      <td id=\"T_9ed47_row4_col1\" class=\"data row4 col1\" >Shahrukh</td>\n",
              "      <td id=\"T_9ed47_row4_col2\" class=\"data row4 col2\" >Sales</td>\n",
              "      <td id=\"T_9ed47_row4_col3\" class=\"data row4 col3\" >Calcutta</td>\n",
              "    </tr>\n",
              "    <tr>\n",
              "      <td id=\"T_9ed47_row5_col0\" class=\"data row5 col0\" >865477</td>\n",
              "      <td id=\"T_9ed47_row5_col1\" class=\"data row5 col1\" >Madhuri</td>\n",
              "      <td id=\"T_9ed47_row5_col2\" class=\"data row5 col2\" >Sales</td>\n",
              "      <td id=\"T_9ed47_row5_col3\" class=\"data row5 col3\" >Calcutta</td>\n",
              "    </tr>\n",
              "    <tr>\n",
              "      <td id=\"T_9ed47_row6_col0\" class=\"data row6 col0\" >223112</td>\n",
              "      <td id=\"T_9ed47_row6_col1\" class=\"data row6 col1\" >Sania</td>\n",
              "      <td id=\"T_9ed47_row6_col2\" class=\"data row6 col2\" >Accounts</td>\n",
              "      <td id=\"T_9ed47_row6_col3\" class=\"data row6 col3\" >Calcutta</td>\n",
              "    </tr>\n",
              "    <tr>\n",
              "      <td id=\"T_9ed47_row7_col0\" class=\"data row7 col0\" >997445</td>\n",
              "      <td id=\"T_9ed47_row7_col1\" class=\"data row7 col1\" >Jagmohan</td>\n",
              "      <td id=\"T_9ed47_row7_col2\" class=\"data row7 col2\" >Accounts</td>\n",
              "      <td id=\"T_9ed47_row7_col3\" class=\"data row7 col3\" >Calcutta</td>\n",
              "    </tr>\n",
              "    <tr>\n",
              "      <td id=\"T_9ed47_row8_col0\" class=\"data row8 col0\" >822134</td>\n",
              "      <td id=\"T_9ed47_row8_col1\" class=\"data row8 col1\" >Rahul</td>\n",
              "      <td id=\"T_9ed47_row8_col2\" class=\"data row8 col2\" >Accounts</td>\n",
              "      <td id=\"T_9ed47_row8_col3\" class=\"data row8 col3\" >Calcutta</td>\n",
              "    </tr>\n",
              "    <tr>\n",
              "      <td id=\"T_9ed47_row9_col0\" class=\"data row9 col0\" >989007</td>\n",
              "      <td id=\"T_9ed47_row9_col1\" class=\"data row9 col1\" >Sourav</td>\n",
              "      <td id=\"T_9ed47_row9_col2\" class=\"data row9 col2\" >Production</td>\n",
              "      <td id=\"T_9ed47_row9_col3\" class=\"data row9 col3\" >Bombay</td>\n",
              "    </tr>\n",
              "    <tr>\n",
              "      <td id=\"T_9ed47_row10_col0\" class=\"data row10 col0\" >123980</td>\n",
              "      <td id=\"T_9ed47_row10_col1\" class=\"data row10 col1\" >Mahender</td>\n",
              "      <td id=\"T_9ed47_row10_col2\" class=\"data row10 col2\" >Production</td>\n",
              "      <td id=\"T_9ed47_row10_col3\" class=\"data row10 col3\" >Bombay</td>\n",
              "    </tr>\n",
              "    <tr>\n",
              "      <td id=\"T_9ed47_row11_col0\" class=\"data row11 col0\" >349870</td>\n",
              "      <td id=\"T_9ed47_row11_col1\" class=\"data row11 col1\" >Rani</td>\n",
              "      <td id=\"T_9ed47_row11_col2\" class=\"data row11 col2\" >Production</td>\n",
              "      <td id=\"T_9ed47_row11_col3\" class=\"data row11 col3\" >Bombay</td>\n",
              "    </tr>\n",
              "    <tr>\n",
              "      <td id=\"T_9ed47_row12_col0\" class=\"data row12 col0\" >None</td>\n",
              "      <td id=\"T_9ed47_row12_col1\" class=\"data row12 col1\" >None</td>\n",
              "      <td id=\"T_9ed47_row12_col2\" class=\"data row12 col2\" >Research</td>\n",
              "      <td id=\"T_9ed47_row12_col3\" class=\"data row12 col3\" >Delhi</td>\n",
              "    </tr>\n",
              "    <tr>\n",
              "      <td id=\"T_9ed47_row13_col0\" class=\"data row13 col0\" >546224</td>\n",
              "      <td id=\"T_9ed47_row13_col1\" class=\"data row13 col1\" >Chettri</td>\n",
              "      <td id=\"T_9ed47_row13_col2\" class=\"data row13 col2\" >None</td>\n",
              "      <td id=\"T_9ed47_row13_col3\" class=\"data row13 col3\" >None</td>\n",
              "    </tr>\n",
              "  </tbody>\n",
              "</table>\n"
            ]
          },
          "metadata": {},
          "execution_count": 53
        }
      ]
    },
    {
      "cell_type": "code",
      "source": [
        "sql = 'select deptname,round(sum(salary),0) payroll from empl FULL JOIN dept ON empl.deptid = dept.deptid \\\n",
        "group by deptname'\n",
        "runSelect(sql)"
      ],
      "metadata": {
        "id": "EAI2kiYP3p9O",
        "outputId": "17f3bb60-e8fb-49f8-d994-622fcc55a692",
        "colab": {
          "base_uri": "https://localhost:8080/",
          "height": 238
        }
      },
      "execution_count": 54,
      "outputs": [
        {
          "output_type": "execute_result",
          "data": {
            "text/plain": [
              "<pandas.io.formats.style.Styler at 0x7e181f891950>"
            ],
            "text/html": [
              "<style type=\"text/css\">\n",
              "</style>\n",
              "<table id=\"T_7f139\" class=\"dataframe\">\n",
              "  <thead>\n",
              "    <tr>\n",
              "      <th id=\"T_7f139_level0_col0\" class=\"col_heading level0 col0\" >deptname</th>\n",
              "      <th id=\"T_7f139_level0_col1\" class=\"col_heading level0 col1\" >payroll</th>\n",
              "    </tr>\n",
              "  </thead>\n",
              "  <tbody>\n",
              "    <tr>\n",
              "      <td id=\"T_7f139_row0_col0\" class=\"data row0 col0\" >None</td>\n",
              "      <td id=\"T_7f139_row0_col1\" class=\"data row0 col1\" >40000</td>\n",
              "    </tr>\n",
              "    <tr>\n",
              "      <td id=\"T_7f139_row1_col0\" class=\"data row1 col0\" >Research</td>\n",
              "      <td id=\"T_7f139_row1_col1\" class=\"data row1 col1\" >None</td>\n",
              "    </tr>\n",
              "    <tr>\n",
              "      <td id=\"T_7f139_row2_col0\" class=\"data row2 col0\" >Corporate</td>\n",
              "      <td id=\"T_7f139_row2_col1\" class=\"data row2 col1\" >150000</td>\n",
              "    </tr>\n",
              "    <tr>\n",
              "      <td id=\"T_7f139_row3_col0\" class=\"data row3 col0\" >Accounts</td>\n",
              "      <td id=\"T_7f139_row3_col1\" class=\"data row3 col1\" >77000</td>\n",
              "    </tr>\n",
              "    <tr>\n",
              "      <td id=\"T_7f139_row4_col0\" class=\"data row4 col0\" >Sales</td>\n",
              "      <td id=\"T_7f139_row4_col1\" class=\"data row4 col1\" >55000</td>\n",
              "    </tr>\n",
              "    <tr>\n",
              "      <td id=\"T_7f139_row5_col0\" class=\"data row5 col0\" >Production</td>\n",
              "      <td id=\"T_7f139_row5_col1\" class=\"data row5 col1\" >54000</td>\n",
              "    </tr>\n",
              "  </tbody>\n",
              "</table>\n"
            ]
          },
          "metadata": {},
          "execution_count": 54
        }
      ]
    },
    {
      "cell_type": "markdown",
      "source": [
        "## Recursive Joins"
      ],
      "metadata": {
        "id": "6nm2xAfn6pIV"
      }
    },
    {
      "cell_type": "markdown",
      "source": [
        "### Three Tables"
      ],
      "metadata": {
        "id": "A1KCGwwyB02z"
      }
    },
    {
      "cell_type": "code",
      "source": [
        "cmd = \"select w.lastname , w.deptID, '>' linksTo  , d.deptID ,d.managerID,'<' linksTo, m.empID, m.lastname \\\n",
        "        from Empl w, Dept d, Empl m \\\n",
        "        where w.deptID = d.deptID   \\\n",
        "        and d.managerID = m.empID \\\n",
        "    \"\n",
        "runSelect(cmd)"
      ],
      "metadata": {
        "colab": {
          "base_uri": "https://localhost:8080/",
          "height": 426
        },
        "id": "W17nS5R7AL0J",
        "outputId": "26f74d94-3889-49c4-8a6b-f7e427986c3c"
      },
      "execution_count": 55,
      "outputs": [
        {
          "output_type": "execute_result",
          "data": {
            "text/plain": [
              "<pandas.io.formats.style.Styler at 0x7e181f88ef90>"
            ],
            "text/html": [
              "<style type=\"text/css\">\n",
              "</style>\n",
              "<table id=\"T_0febd\" class=\"dataframe\">\n",
              "  <thead>\n",
              "    <tr>\n",
              "      <th id=\"T_0febd_level0_col0\" class=\"col_heading level0 col0\" >lastname</th>\n",
              "      <th id=\"T_0febd_level0_col1\" class=\"col_heading level0 col1\" >deptid</th>\n",
              "      <th id=\"T_0febd_level0_col2\" class=\"col_heading level0 col2\" >linksto</th>\n",
              "      <th id=\"T_0febd_level0_col3\" class=\"col_heading level0 col3\" >deptid</th>\n",
              "      <th id=\"T_0febd_level0_col4\" class=\"col_heading level0 col4\" >managerid</th>\n",
              "      <th id=\"T_0febd_level0_col5\" class=\"col_heading level0 col5\" >linksto</th>\n",
              "      <th id=\"T_0febd_level0_col6\" class=\"col_heading level0 col6\" >empid</th>\n",
              "      <th id=\"T_0febd_level0_col7\" class=\"col_heading level0 col7\" >lastname</th>\n",
              "    </tr>\n",
              "  </thead>\n",
              "  <tbody>\n",
              "    <tr>\n",
              "      <td id=\"T_0febd_row0_col0\" class=\"data row0 col0\" >Karthikeyan</td>\n",
              "      <td id=\"T_0febd_row0_col1\" class=\"data row0 col1\" >10</td>\n",
              "      <td id=\"T_0febd_row0_col2\" class=\"data row0 col2\" >></td>\n",
              "      <td id=\"T_0febd_row0_col3\" class=\"data row0 col3\" >10</td>\n",
              "      <td id=\"T_0febd_row0_col4\" class=\"data row0 col4\" >299034</td>\n",
              "      <td id=\"T_0febd_row0_col5\" class=\"data row0 col5\" ><</td>\n",
              "      <td id=\"T_0febd_row0_col6\" class=\"data row0 col6\" >299034</td>\n",
              "      <td id=\"T_0febd_row0_col7\" class=\"data row0 col7\" >Ganesan</td>\n",
              "    </tr>\n",
              "    <tr>\n",
              "      <td id=\"T_0febd_row1_col0\" class=\"data row1 col0\" >Ganesan</td>\n",
              "      <td id=\"T_0febd_row1_col1\" class=\"data row1 col1\" >10</td>\n",
              "      <td id=\"T_0febd_row1_col2\" class=\"data row1 col2\" >></td>\n",
              "      <td id=\"T_0febd_row1_col3\" class=\"data row1 col3\" >10</td>\n",
              "      <td id=\"T_0febd_row1_col4\" class=\"data row1 col4\" >299034</td>\n",
              "      <td id=\"T_0febd_row1_col5\" class=\"data row1 col5\" ><</td>\n",
              "      <td id=\"T_0febd_row1_col6\" class=\"data row1 col6\" >299034</td>\n",
              "      <td id=\"T_0febd_row1_col7\" class=\"data row1 col7\" >Ganesan</td>\n",
              "    </tr>\n",
              "    <tr>\n",
              "      <td id=\"T_0febd_row2_col0\" class=\"data row2 col0\" >Bacchan</td>\n",
              "      <td id=\"T_0febd_row2_col1\" class=\"data row2 col1\" >10</td>\n",
              "      <td id=\"T_0febd_row2_col2\" class=\"data row2 col2\" >></td>\n",
              "      <td id=\"T_0febd_row2_col3\" class=\"data row2 col3\" >10</td>\n",
              "      <td id=\"T_0febd_row2_col4\" class=\"data row2 col4\" >299034</td>\n",
              "      <td id=\"T_0febd_row2_col5\" class=\"data row2 col5\" ><</td>\n",
              "      <td id=\"T_0febd_row2_col6\" class=\"data row2 col6\" >299034</td>\n",
              "      <td id=\"T_0febd_row2_col7\" class=\"data row2 col7\" >Ganesan</td>\n",
              "    </tr>\n",
              "    <tr>\n",
              "      <td id=\"T_0febd_row3_col0\" class=\"data row3 col0\" >Sehwag</td>\n",
              "      <td id=\"T_0febd_row3_col1\" class=\"data row3 col1\" >20</td>\n",
              "      <td id=\"T_0febd_row3_col2\" class=\"data row3 col2\" >></td>\n",
              "      <td id=\"T_0febd_row3_col3\" class=\"data row3 col3\" >20</td>\n",
              "      <td id=\"T_0febd_row3_col4\" class=\"data row3 col4\" >239456</td>\n",
              "      <td id=\"T_0febd_row3_col5\" class=\"data row3 col5\" ><</td>\n",
              "      <td id=\"T_0febd_row3_col6\" class=\"data row3 col6\" >239456</td>\n",
              "      <td id=\"T_0febd_row3_col7\" class=\"data row3 col7\" >Khan</td>\n",
              "    </tr>\n",
              "    <tr>\n",
              "      <td id=\"T_0febd_row4_col0\" class=\"data row4 col0\" >Khan</td>\n",
              "      <td id=\"T_0febd_row4_col1\" class=\"data row4 col1\" >20</td>\n",
              "      <td id=\"T_0febd_row4_col2\" class=\"data row4 col2\" >></td>\n",
              "      <td id=\"T_0febd_row4_col3\" class=\"data row4 col3\" >20</td>\n",
              "      <td id=\"T_0febd_row4_col4\" class=\"data row4 col4\" >239456</td>\n",
              "      <td id=\"T_0febd_row4_col5\" class=\"data row4 col5\" ><</td>\n",
              "      <td id=\"T_0febd_row4_col6\" class=\"data row4 col6\" >239456</td>\n",
              "      <td id=\"T_0febd_row4_col7\" class=\"data row4 col7\" >Khan</td>\n",
              "    </tr>\n",
              "    <tr>\n",
              "      <td id=\"T_0febd_row5_col0\" class=\"data row5 col0\" >Dikshit</td>\n",
              "      <td id=\"T_0febd_row5_col1\" class=\"data row5 col1\" >20</td>\n",
              "      <td id=\"T_0febd_row5_col2\" class=\"data row5 col2\" >></td>\n",
              "      <td id=\"T_0febd_row5_col3\" class=\"data row5 col3\" >20</td>\n",
              "      <td id=\"T_0febd_row5_col4\" class=\"data row5 col4\" >239456</td>\n",
              "      <td id=\"T_0febd_row5_col5\" class=\"data row5 col5\" ><</td>\n",
              "      <td id=\"T_0febd_row5_col6\" class=\"data row5 col6\" >239456</td>\n",
              "      <td id=\"T_0febd_row5_col7\" class=\"data row5 col7\" >Khan</td>\n",
              "    </tr>\n",
              "    <tr>\n",
              "      <td id=\"T_0febd_row6_col0\" class=\"data row6 col0\" >Mirza</td>\n",
              "      <td id=\"T_0febd_row6_col1\" class=\"data row6 col1\" >30</td>\n",
              "      <td id=\"T_0febd_row6_col2\" class=\"data row6 col2\" >></td>\n",
              "      <td id=\"T_0febd_row6_col3\" class=\"data row6 col3\" >30</td>\n",
              "      <td id=\"T_0febd_row6_col4\" class=\"data row6 col4\" >822134</td>\n",
              "      <td id=\"T_0febd_row6_col5\" class=\"data row6 col5\" ><</td>\n",
              "      <td id=\"T_0febd_row6_col6\" class=\"data row6 col6\" >822134</td>\n",
              "      <td id=\"T_0febd_row6_col7\" class=\"data row6 col7\" >Dravid</td>\n",
              "    </tr>\n",
              "    <tr>\n",
              "      <td id=\"T_0febd_row7_col0\" class=\"data row7 col0\" >Dalmia</td>\n",
              "      <td id=\"T_0febd_row7_col1\" class=\"data row7 col1\" >30</td>\n",
              "      <td id=\"T_0febd_row7_col2\" class=\"data row7 col2\" >></td>\n",
              "      <td id=\"T_0febd_row7_col3\" class=\"data row7 col3\" >30</td>\n",
              "      <td id=\"T_0febd_row7_col4\" class=\"data row7 col4\" >822134</td>\n",
              "      <td id=\"T_0febd_row7_col5\" class=\"data row7 col5\" ><</td>\n",
              "      <td id=\"T_0febd_row7_col6\" class=\"data row7 col6\" >822134</td>\n",
              "      <td id=\"T_0febd_row7_col7\" class=\"data row7 col7\" >Dravid</td>\n",
              "    </tr>\n",
              "    <tr>\n",
              "      <td id=\"T_0febd_row8_col0\" class=\"data row8 col0\" >Dravid</td>\n",
              "      <td id=\"T_0febd_row8_col1\" class=\"data row8 col1\" >30</td>\n",
              "      <td id=\"T_0febd_row8_col2\" class=\"data row8 col2\" >></td>\n",
              "      <td id=\"T_0febd_row8_col3\" class=\"data row8 col3\" >30</td>\n",
              "      <td id=\"T_0febd_row8_col4\" class=\"data row8 col4\" >822134</td>\n",
              "      <td id=\"T_0febd_row8_col5\" class=\"data row8 col5\" ><</td>\n",
              "      <td id=\"T_0febd_row8_col6\" class=\"data row8 col6\" >822134</td>\n",
              "      <td id=\"T_0febd_row8_col7\" class=\"data row8 col7\" >Dravid</td>\n",
              "    </tr>\n",
              "    <tr>\n",
              "      <td id=\"T_0febd_row9_col0\" class=\"data row9 col0\" >Ganguly</td>\n",
              "      <td id=\"T_0febd_row9_col1\" class=\"data row9 col1\" >40</td>\n",
              "      <td id=\"T_0febd_row9_col2\" class=\"data row9 col2\" >></td>\n",
              "      <td id=\"T_0febd_row9_col3\" class=\"data row9 col3\" >40</td>\n",
              "      <td id=\"T_0febd_row9_col4\" class=\"data row9 col4\" >349870</td>\n",
              "      <td id=\"T_0febd_row9_col5\" class=\"data row9 col5\" ><</td>\n",
              "      <td id=\"T_0febd_row9_col6\" class=\"data row9 col6\" >349870</td>\n",
              "      <td id=\"T_0febd_row9_col7\" class=\"data row9 col7\" >Mukherjee</td>\n",
              "    </tr>\n",
              "    <tr>\n",
              "      <td id=\"T_0febd_row10_col0\" class=\"data row10 col0\" >Dhoni</td>\n",
              "      <td id=\"T_0febd_row10_col1\" class=\"data row10 col1\" >40</td>\n",
              "      <td id=\"T_0febd_row10_col2\" class=\"data row10 col2\" >></td>\n",
              "      <td id=\"T_0febd_row10_col3\" class=\"data row10 col3\" >40</td>\n",
              "      <td id=\"T_0febd_row10_col4\" class=\"data row10 col4\" >349870</td>\n",
              "      <td id=\"T_0febd_row10_col5\" class=\"data row10 col5\" ><</td>\n",
              "      <td id=\"T_0febd_row10_col6\" class=\"data row10 col6\" >349870</td>\n",
              "      <td id=\"T_0febd_row10_col7\" class=\"data row10 col7\" >Mukherjee</td>\n",
              "    </tr>\n",
              "    <tr>\n",
              "      <td id=\"T_0febd_row11_col0\" class=\"data row11 col0\" >Mukherjee</td>\n",
              "      <td id=\"T_0febd_row11_col1\" class=\"data row11 col1\" >40</td>\n",
              "      <td id=\"T_0febd_row11_col2\" class=\"data row11 col2\" >></td>\n",
              "      <td id=\"T_0febd_row11_col3\" class=\"data row11 col3\" >40</td>\n",
              "      <td id=\"T_0febd_row11_col4\" class=\"data row11 col4\" >349870</td>\n",
              "      <td id=\"T_0febd_row11_col5\" class=\"data row11 col5\" ><</td>\n",
              "      <td id=\"T_0febd_row11_col6\" class=\"data row11 col6\" >349870</td>\n",
              "      <td id=\"T_0febd_row11_col7\" class=\"data row11 col7\" >Mukherjee</td>\n",
              "    </tr>\n",
              "  </tbody>\n",
              "</table>\n"
            ]
          },
          "metadata": {},
          "execution_count": 55
        }
      ]
    },
    {
      "cell_type": "markdown",
      "source": [
        "### Self Join / Single Table"
      ],
      "metadata": {
        "id": "jeknsMbjCA2A"
      }
    },
    {
      "cell_type": "code",
      "source": [
        "cmd = \"Select w.FirstName, w.JobDesc, w.DeptID, \\\n",
        "    ' hired by ' hiredby, \\\n",
        "    m.FirstName,m.JobDesc,m.DeptID \\\n",
        "    from empl w, empl m \\\n",
        "    where w.HiredBy = m.EmpID\"\n",
        "\n",
        "runSelect(cmd)"
      ],
      "metadata": {
        "colab": {
          "base_uri": "https://localhost:8080/",
          "height": 426
        },
        "id": "iDPmUw9-CEBH",
        "outputId": "67c9acab-12d3-419c-dfeb-245c8cb9c4b9"
      },
      "execution_count": 56,
      "outputs": [
        {
          "output_type": "execute_result",
          "data": {
            "text/plain": [
              "<pandas.io.formats.style.Styler at 0x7e181f89d910>"
            ],
            "text/html": [
              "<style type=\"text/css\">\n",
              "</style>\n",
              "<table id=\"T_8549b\" class=\"dataframe\">\n",
              "  <thead>\n",
              "    <tr>\n",
              "      <th id=\"T_8549b_level0_col0\" class=\"col_heading level0 col0\" >firstname</th>\n",
              "      <th id=\"T_8549b_level0_col1\" class=\"col_heading level0 col1\" >jobdesc</th>\n",
              "      <th id=\"T_8549b_level0_col2\" class=\"col_heading level0 col2\" >deptid</th>\n",
              "      <th id=\"T_8549b_level0_col3\" class=\"col_heading level0 col3\" >hiredby</th>\n",
              "      <th id=\"T_8549b_level0_col4\" class=\"col_heading level0 col4\" >firstname</th>\n",
              "      <th id=\"T_8549b_level0_col5\" class=\"col_heading level0 col5\" >jobdesc</th>\n",
              "      <th id=\"T_8549b_level0_col6\" class=\"col_heading level0 col6\" >deptid</th>\n",
              "    </tr>\n",
              "  </thead>\n",
              "  <tbody>\n",
              "    <tr>\n",
              "      <td id=\"T_8549b_row0_col0\" class=\"data row0 col0\" >Rani</td>\n",
              "      <td id=\"T_8549b_row0_col1\" class=\"data row0 col1\" >Manager</td>\n",
              "      <td id=\"T_8549b_row0_col2\" class=\"data row0 col2\" >40</td>\n",
              "      <td id=\"T_8549b_row0_col3\" class=\"data row0 col3\" > hired by </td>\n",
              "      <td id=\"T_8549b_row0_col4\" class=\"data row0 col4\" >Amitabh</td>\n",
              "      <td id=\"T_8549b_row0_col5\" class=\"data row0 col5\" >Executive</td>\n",
              "      <td id=\"T_8549b_row0_col6\" class=\"data row0 col6\" >10</td>\n",
              "    </tr>\n",
              "    <tr>\n",
              "      <td id=\"T_8549b_row1_col0\" class=\"data row1 col0\" >Madhuri</td>\n",
              "      <td id=\"T_8549b_row1_col1\" class=\"data row1 col1\" >Clerk</td>\n",
              "      <td id=\"T_8549b_row1_col2\" class=\"data row1 col2\" >20</td>\n",
              "      <td id=\"T_8549b_row1_col3\" class=\"data row1 col3\" > hired by </td>\n",
              "      <td id=\"T_8549b_row1_col4\" class=\"data row1 col4\" >Shahrukh</td>\n",
              "      <td id=\"T_8549b_row1_col5\" class=\"data row1 col5\" >Manager</td>\n",
              "      <td id=\"T_8549b_row1_col6\" class=\"data row1 col6\" >20</td>\n",
              "    </tr>\n",
              "    <tr>\n",
              "      <td id=\"T_8549b_row2_col0\" class=\"data row2 col0\" >Shahrukh</td>\n",
              "      <td id=\"T_8549b_row2_col1\" class=\"data row2 col1\" >Manager</td>\n",
              "      <td id=\"T_8549b_row2_col2\" class=\"data row2 col2\" >20</td>\n",
              "      <td id=\"T_8549b_row2_col3\" class=\"data row2 col3\" > hired by </td>\n",
              "      <td id=\"T_8549b_row2_col4\" class=\"data row2 col4\" >Amitabh</td>\n",
              "      <td id=\"T_8549b_row2_col5\" class=\"data row2 col5\" >Executive</td>\n",
              "      <td id=\"T_8549b_row2_col6\" class=\"data row2 col6\" >10</td>\n",
              "    </tr>\n",
              "    <tr>\n",
              "      <td id=\"T_8549b_row3_col0\" class=\"data row3 col0\" >Virender</td>\n",
              "      <td id=\"T_8549b_row3_col1\" class=\"data row3 col1\" >Cus_Rep</td>\n",
              "      <td id=\"T_8549b_row3_col2\" class=\"data row3 col2\" >20</td>\n",
              "      <td id=\"T_8549b_row3_col3\" class=\"data row3 col3\" > hired by </td>\n",
              "      <td id=\"T_8549b_row3_col4\" class=\"data row3 col4\" >Shahrukh</td>\n",
              "      <td id=\"T_8549b_row3_col5\" class=\"data row3 col5\" >Manager</td>\n",
              "      <td id=\"T_8549b_row3_col6\" class=\"data row3 col6\" >20</td>\n",
              "    </tr>\n",
              "    <tr>\n",
              "      <td id=\"T_8549b_row4_col0\" class=\"data row4 col0\" >Mahender</td>\n",
              "      <td id=\"T_8549b_row4_col1\" class=\"data row4 col1\" >Clerk</td>\n",
              "      <td id=\"T_8549b_row4_col2\" class=\"data row4 col2\" >40</td>\n",
              "      <td id=\"T_8549b_row4_col3\" class=\"data row4 col3\" > hired by </td>\n",
              "      <td id=\"T_8549b_row4_col4\" class=\"data row4 col4\" >Rani</td>\n",
              "      <td id=\"T_8549b_row4_col5\" class=\"data row4 col5\" >Manager</td>\n",
              "      <td id=\"T_8549b_row4_col6\" class=\"data row4 col6\" >40</td>\n",
              "    </tr>\n",
              "    <tr>\n",
              "      <td id=\"T_8549b_row5_col0\" class=\"data row5 col0\" >Rahul</td>\n",
              "      <td id=\"T_8549b_row5_col1\" class=\"data row5 col1\" >Sr Manager</td>\n",
              "      <td id=\"T_8549b_row5_col2\" class=\"data row5 col2\" >30</td>\n",
              "      <td id=\"T_8549b_row5_col3\" class=\"data row5 col3\" > hired by </td>\n",
              "      <td id=\"T_8549b_row5_col4\" class=\"data row5 col4\" >Amitabh</td>\n",
              "      <td id=\"T_8549b_row5_col5\" class=\"data row5 col5\" >Executive</td>\n",
              "      <td id=\"T_8549b_row5_col6\" class=\"data row5 col6\" >10</td>\n",
              "    </tr>\n",
              "    <tr>\n",
              "      <td id=\"T_8549b_row6_col0\" class=\"data row6 col0\" >Jagmohan</td>\n",
              "      <td id=\"T_8549b_row6_col1\" class=\"data row6 col1\" >Clerk</td>\n",
              "      <td id=\"T_8549b_row6_col2\" class=\"data row6 col2\" >30</td>\n",
              "      <td id=\"T_8549b_row6_col3\" class=\"data row6 col3\" > hired by </td>\n",
              "      <td id=\"T_8549b_row6_col4\" class=\"data row6 col4\" >Rahul</td>\n",
              "      <td id=\"T_8549b_row6_col5\" class=\"data row6 col5\" >Sr Manager</td>\n",
              "      <td id=\"T_8549b_row6_col6\" class=\"data row6 col6\" >30</td>\n",
              "    </tr>\n",
              "    <tr>\n",
              "      <td id=\"T_8549b_row7_col0\" class=\"data row7 col0\" >Sourav</td>\n",
              "      <td id=\"T_8549b_row7_col1\" class=\"data row7 col1\" >Cus_Rep</td>\n",
              "      <td id=\"T_8549b_row7_col2\" class=\"data row7 col2\" >40</td>\n",
              "      <td id=\"T_8549b_row7_col3\" class=\"data row7 col3\" > hired by </td>\n",
              "      <td id=\"T_8549b_row7_col4\" class=\"data row7 col4\" >Rekha</td>\n",
              "      <td id=\"T_8549b_row7_col5\" class=\"data row7 col5\" >Director</td>\n",
              "      <td id=\"T_8549b_row7_col6\" class=\"data row7 col6\" >10</td>\n",
              "    </tr>\n",
              "    <tr>\n",
              "      <td id=\"T_8549b_row8_col0\" class=\"data row8 col0\" >Rekha</td>\n",
              "      <td id=\"T_8549b_row8_col1\" class=\"data row8 col1\" >Director</td>\n",
              "      <td id=\"T_8549b_row8_col2\" class=\"data row8 col2\" >10</td>\n",
              "      <td id=\"T_8549b_row8_col3\" class=\"data row8 col3\" > hired by </td>\n",
              "      <td id=\"T_8549b_row8_col4\" class=\"data row8 col4\" >Amitabh</td>\n",
              "      <td id=\"T_8549b_row8_col5\" class=\"data row8 col5\" >Executive</td>\n",
              "      <td id=\"T_8549b_row8_col6\" class=\"data row8 col6\" >10</td>\n",
              "    </tr>\n",
              "    <tr>\n",
              "      <td id=\"T_8549b_row9_col0\" class=\"data row9 col0\" >Narayan</td>\n",
              "      <td id=\"T_8549b_row9_col1\" class=\"data row9 col1\" >Secretary</td>\n",
              "      <td id=\"T_8549b_row9_col2\" class=\"data row9 col2\" >10</td>\n",
              "      <td id=\"T_8549b_row9_col3\" class=\"data row9 col3\" > hired by </td>\n",
              "      <td id=\"T_8549b_row9_col4\" class=\"data row9 col4\" >Rekha</td>\n",
              "      <td id=\"T_8549b_row9_col5\" class=\"data row9 col5\" >Director</td>\n",
              "      <td id=\"T_8549b_row9_col6\" class=\"data row9 col6\" >10</td>\n",
              "    </tr>\n",
              "    <tr>\n",
              "      <td id=\"T_8549b_row10_col0\" class=\"data row10 col0\" >Chettri</td>\n",
              "      <td id=\"T_8549b_row10_col1\" class=\"data row10 col1\" >Dy Manager</td>\n",
              "      <td id=\"T_8549b_row10_col2\" class=\"data row10 col2\" >70</td>\n",
              "      <td id=\"T_8549b_row10_col3\" class=\"data row10 col3\" > hired by </td>\n",
              "      <td id=\"T_8549b_row10_col4\" class=\"data row10 col4\" >Sourav</td>\n",
              "      <td id=\"T_8549b_row10_col5\" class=\"data row10 col5\" >Cus_Rep</td>\n",
              "      <td id=\"T_8549b_row10_col6\" class=\"data row10 col6\" >40</td>\n",
              "    </tr>\n",
              "    <tr>\n",
              "      <td id=\"T_8549b_row11_col0\" class=\"data row11 col0\" >Sania</td>\n",
              "      <td id=\"T_8549b_row11_col1\" class=\"data row11 col1\" >Cus_Rep</td>\n",
              "      <td id=\"T_8549b_row11_col2\" class=\"data row11 col2\" >30</td>\n",
              "      <td id=\"T_8549b_row11_col3\" class=\"data row11 col3\" > hired by </td>\n",
              "      <td id=\"T_8549b_row11_col4\" class=\"data row11 col4\" >Rahul</td>\n",
              "      <td id=\"T_8549b_row11_col5\" class=\"data row11 col5\" >Sr Manager</td>\n",
              "      <td id=\"T_8549b_row11_col6\" class=\"data row11 col6\" >30</td>\n",
              "    </tr>\n",
              "  </tbody>\n",
              "</table>\n"
            ]
          },
          "metadata": {},
          "execution_count": 56
        }
      ]
    },
    {
      "cell_type": "markdown",
      "source": [
        "#Subquery"
      ],
      "metadata": {
        "id": "tXDgw1RBzUf-"
      }
    },
    {
      "cell_type": "code",
      "source": [
        "sql = \"select lastname, salary, jobdesc, deptid from empl where \\\n",
        "salary = (select max(salary) from empl where deptid = '20') \\\n",
        "and deptid = '20'\"\n",
        "\n",
        "runSelect(sql)"
      ],
      "metadata": {
        "colab": {
          "base_uri": "https://localhost:8080/",
          "height": 81
        },
        "id": "SxQqgOcHzYTF",
        "outputId": "17a64f1b-0e0a-4dc2-bbc8-34c998900ec9"
      },
      "execution_count": 57,
      "outputs": [
        {
          "output_type": "execute_result",
          "data": {
            "text/plain": [
              "<pandas.io.formats.style.Styler at 0x7e181f88fb10>"
            ],
            "text/html": [
              "<style type=\"text/css\">\n",
              "</style>\n",
              "<table id=\"T_dfe05\" class=\"dataframe\">\n",
              "  <thead>\n",
              "    <tr>\n",
              "      <th id=\"T_dfe05_level0_col0\" class=\"col_heading level0 col0\" >lastname</th>\n",
              "      <th id=\"T_dfe05_level0_col1\" class=\"col_heading level0 col1\" >salary</th>\n",
              "      <th id=\"T_dfe05_level0_col2\" class=\"col_heading level0 col2\" >jobdesc</th>\n",
              "      <th id=\"T_dfe05_level0_col3\" class=\"col_heading level0 col3\" >deptid</th>\n",
              "    </tr>\n",
              "  </thead>\n",
              "  <tbody>\n",
              "    <tr>\n",
              "      <td id=\"T_dfe05_row0_col0\" class=\"data row0 col0\" >Khan</td>\n",
              "      <td id=\"T_dfe05_row0_col1\" class=\"data row0 col1\" >30000</td>\n",
              "      <td id=\"T_dfe05_row0_col2\" class=\"data row0 col2\" >Manager</td>\n",
              "      <td id=\"T_dfe05_row0_col3\" class=\"data row0 col3\" >20</td>\n",
              "    </tr>\n",
              "  </tbody>\n",
              "</table>\n"
            ]
          },
          "metadata": {},
          "execution_count": 57
        }
      ]
    },
    {
      "cell_type": "code",
      "source": [
        "sql = \"select lastname, salary, jobdesc, deptid from empl where salary < (select avg(salary) from empl where deptid = '20')\\\n",
        "and deptid = '20'\"\n",
        "runSelect(sql)"
      ],
      "metadata": {
        "colab": {
          "base_uri": "https://localhost:8080/",
          "height": 112
        },
        "id": "oEhaMtyLz3Tm",
        "outputId": "f5c40ae3-10e7-4d62-fba3-ebf09fc900ce"
      },
      "execution_count": 58,
      "outputs": [
        {
          "output_type": "execute_result",
          "data": {
            "text/plain": [
              "<pandas.io.formats.style.Styler at 0x7e181f892910>"
            ],
            "text/html": [
              "<style type=\"text/css\">\n",
              "</style>\n",
              "<table id=\"T_7f687\" class=\"dataframe\">\n",
              "  <thead>\n",
              "    <tr>\n",
              "      <th id=\"T_7f687_level0_col0\" class=\"col_heading level0 col0\" >lastname</th>\n",
              "      <th id=\"T_7f687_level0_col1\" class=\"col_heading level0 col1\" >salary</th>\n",
              "      <th id=\"T_7f687_level0_col2\" class=\"col_heading level0 col2\" >jobdesc</th>\n",
              "      <th id=\"T_7f687_level0_col3\" class=\"col_heading level0 col3\" >deptid</th>\n",
              "    </tr>\n",
              "  </thead>\n",
              "  <tbody>\n",
              "    <tr>\n",
              "      <td id=\"T_7f687_row0_col0\" class=\"data row0 col0\" >Dikshit</td>\n",
              "      <td id=\"T_7f687_row0_col1\" class=\"data row0 col1\" >10000</td>\n",
              "      <td id=\"T_7f687_row0_col2\" class=\"data row0 col2\" >Clerk</td>\n",
              "      <td id=\"T_7f687_row0_col3\" class=\"data row0 col3\" >20</td>\n",
              "    </tr>\n",
              "    <tr>\n",
              "      <td id=\"T_7f687_row1_col0\" class=\"data row1 col0\" >Sehwag</td>\n",
              "      <td id=\"T_7f687_row1_col1\" class=\"data row1 col1\" >15000</td>\n",
              "      <td id=\"T_7f687_row1_col2\" class=\"data row1 col2\" >Cus_Rep</td>\n",
              "      <td id=\"T_7f687_row1_col3\" class=\"data row1 col3\" >20</td>\n",
              "    </tr>\n",
              "  </tbody>\n",
              "</table>\n"
            ]
          },
          "metadata": {},
          "execution_count": 58
        }
      ]
    },
    {
      "cell_type": "markdown",
      "source": [
        "## Exists | Not Exists"
      ],
      "metadata": {
        "id": "l3GWzCV24a2x"
      }
    },
    {
      "cell_type": "code",
      "source": [
        "#!psql -h localhost -p 5432 -Uupraxis -ddbpraxis -c \"\\\n",
        "sql = \"\\\n",
        "select firstname, jobdesc, deptid from empl \\\n",
        "where exists \\\n",
        "(select * from dept where empl.deptid = dept.deptid)\\\n",
        "order by deptid \\\n",
        "\"\n",
        "runSelect(sql)"
      ],
      "metadata": {
        "colab": {
          "base_uri": "https://localhost:8080/",
          "height": 426
        },
        "id": "9vlJrd584fWu",
        "outputId": "5a486ae1-c561-45b7-9bdb-f21462185b6a"
      },
      "execution_count": 59,
      "outputs": [
        {
          "output_type": "execute_result",
          "data": {
            "text/plain": [
              "<pandas.io.formats.style.Styler at 0x7e181f89f7d0>"
            ],
            "text/html": [
              "<style type=\"text/css\">\n",
              "</style>\n",
              "<table id=\"T_6d693\" class=\"dataframe\">\n",
              "  <thead>\n",
              "    <tr>\n",
              "      <th id=\"T_6d693_level0_col0\" class=\"col_heading level0 col0\" >firstname</th>\n",
              "      <th id=\"T_6d693_level0_col1\" class=\"col_heading level0 col1\" >jobdesc</th>\n",
              "      <th id=\"T_6d693_level0_col2\" class=\"col_heading level0 col2\" >deptid</th>\n",
              "    </tr>\n",
              "  </thead>\n",
              "  <tbody>\n",
              "    <tr>\n",
              "      <td id=\"T_6d693_row0_col0\" class=\"data row0 col0\" >Amitabh</td>\n",
              "      <td id=\"T_6d693_row0_col1\" class=\"data row0 col1\" >Executive</td>\n",
              "      <td id=\"T_6d693_row0_col2\" class=\"data row0 col2\" >10</td>\n",
              "    </tr>\n",
              "    <tr>\n",
              "      <td id=\"T_6d693_row1_col0\" class=\"data row1 col0\" >Rekha</td>\n",
              "      <td id=\"T_6d693_row1_col1\" class=\"data row1 col1\" >Director</td>\n",
              "      <td id=\"T_6d693_row1_col2\" class=\"data row1 col2\" >10</td>\n",
              "    </tr>\n",
              "    <tr>\n",
              "      <td id=\"T_6d693_row2_col0\" class=\"data row2 col0\" >Narayan</td>\n",
              "      <td id=\"T_6d693_row2_col1\" class=\"data row2 col1\" >Secretary</td>\n",
              "      <td id=\"T_6d693_row2_col2\" class=\"data row2 col2\" >10</td>\n",
              "    </tr>\n",
              "    <tr>\n",
              "      <td id=\"T_6d693_row3_col0\" class=\"data row3 col0\" >Madhuri</td>\n",
              "      <td id=\"T_6d693_row3_col1\" class=\"data row3 col1\" >Clerk</td>\n",
              "      <td id=\"T_6d693_row3_col2\" class=\"data row3 col2\" >20</td>\n",
              "    </tr>\n",
              "    <tr>\n",
              "      <td id=\"T_6d693_row4_col0\" class=\"data row4 col0\" >Shahrukh</td>\n",
              "      <td id=\"T_6d693_row4_col1\" class=\"data row4 col1\" >Manager</td>\n",
              "      <td id=\"T_6d693_row4_col2\" class=\"data row4 col2\" >20</td>\n",
              "    </tr>\n",
              "    <tr>\n",
              "      <td id=\"T_6d693_row5_col0\" class=\"data row5 col0\" >Virender</td>\n",
              "      <td id=\"T_6d693_row5_col1\" class=\"data row5 col1\" >Cus_Rep</td>\n",
              "      <td id=\"T_6d693_row5_col2\" class=\"data row5 col2\" >20</td>\n",
              "    </tr>\n",
              "    <tr>\n",
              "      <td id=\"T_6d693_row6_col0\" class=\"data row6 col0\" >Sania</td>\n",
              "      <td id=\"T_6d693_row6_col1\" class=\"data row6 col1\" >Cus_Rep</td>\n",
              "      <td id=\"T_6d693_row6_col2\" class=\"data row6 col2\" >30</td>\n",
              "    </tr>\n",
              "    <tr>\n",
              "      <td id=\"T_6d693_row7_col0\" class=\"data row7 col0\" >Rahul</td>\n",
              "      <td id=\"T_6d693_row7_col1\" class=\"data row7 col1\" >Sr Manager</td>\n",
              "      <td id=\"T_6d693_row7_col2\" class=\"data row7 col2\" >30</td>\n",
              "    </tr>\n",
              "    <tr>\n",
              "      <td id=\"T_6d693_row8_col0\" class=\"data row8 col0\" >Jagmohan</td>\n",
              "      <td id=\"T_6d693_row8_col1\" class=\"data row8 col1\" >Clerk</td>\n",
              "      <td id=\"T_6d693_row8_col2\" class=\"data row8 col2\" >30</td>\n",
              "    </tr>\n",
              "    <tr>\n",
              "      <td id=\"T_6d693_row9_col0\" class=\"data row9 col0\" >Sourav</td>\n",
              "      <td id=\"T_6d693_row9_col1\" class=\"data row9 col1\" >Cus_Rep</td>\n",
              "      <td id=\"T_6d693_row9_col2\" class=\"data row9 col2\" >40</td>\n",
              "    </tr>\n",
              "    <tr>\n",
              "      <td id=\"T_6d693_row10_col0\" class=\"data row10 col0\" >Mahender</td>\n",
              "      <td id=\"T_6d693_row10_col1\" class=\"data row10 col1\" >Clerk</td>\n",
              "      <td id=\"T_6d693_row10_col2\" class=\"data row10 col2\" >40</td>\n",
              "    </tr>\n",
              "    <tr>\n",
              "      <td id=\"T_6d693_row11_col0\" class=\"data row11 col0\" >Rani</td>\n",
              "      <td id=\"T_6d693_row11_col1\" class=\"data row11 col1\" >Manager</td>\n",
              "      <td id=\"T_6d693_row11_col2\" class=\"data row11 col2\" >40</td>\n",
              "    </tr>\n",
              "  </tbody>\n",
              "</table>\n"
            ]
          },
          "metadata": {},
          "execution_count": 59
        }
      ]
    },
    {
      "cell_type": "code",
      "source": [
        "#!psql -h localhost -p 5432 -Uupraxis -ddbpraxis -c \"\\\n",
        "sql = \"\\\n",
        "select firstname, jobdesc, deptid from empl \\\n",
        "where not exists \\\n",
        "(select * from dept where empl.deptid = dept.deptid)\\\n",
        "order by deptid \\\n",
        "\"\n",
        "runSelect(sql)"
      ],
      "metadata": {
        "colab": {
          "base_uri": "https://localhost:8080/",
          "height": 81
        },
        "id": "6ntFTYfv5AyB",
        "outputId": "e4e3d60f-90b4-4dee-d3e9-48838b4e2238"
      },
      "execution_count": 60,
      "outputs": [
        {
          "output_type": "execute_result",
          "data": {
            "text/plain": [
              "<pandas.io.formats.style.Styler at 0x7e181f88c7d0>"
            ],
            "text/html": [
              "<style type=\"text/css\">\n",
              "</style>\n",
              "<table id=\"T_76664\" class=\"dataframe\">\n",
              "  <thead>\n",
              "    <tr>\n",
              "      <th id=\"T_76664_level0_col0\" class=\"col_heading level0 col0\" >firstname</th>\n",
              "      <th id=\"T_76664_level0_col1\" class=\"col_heading level0 col1\" >jobdesc</th>\n",
              "      <th id=\"T_76664_level0_col2\" class=\"col_heading level0 col2\" >deptid</th>\n",
              "    </tr>\n",
              "  </thead>\n",
              "  <tbody>\n",
              "    <tr>\n",
              "      <td id=\"T_76664_row0_col0\" class=\"data row0 col0\" >Chettri</td>\n",
              "      <td id=\"T_76664_row0_col1\" class=\"data row0 col1\" >Dy Manager</td>\n",
              "      <td id=\"T_76664_row0_col2\" class=\"data row0 col2\" >70</td>\n",
              "    </tr>\n",
              "  </tbody>\n",
              "</table>\n"
            ]
          },
          "metadata": {},
          "execution_count": 60
        }
      ]
    },
    {
      "cell_type": "markdown",
      "source": [
        "## ALL | ANY"
      ],
      "metadata": {
        "id": "Ft9lsq4Uh8-6"
      }
    },
    {
      "cell_type": "code",
      "source": [
        "#!psql -h localhost -p 5432 -Uupraxis -ddbpraxis -c \"\\\n",
        "sql = \"\\\n",
        "select firstname, jobdesc, deptid, salary from empl \\\n",
        "where salary > all \\\n",
        "(select avg(salary) from empl)\\\n",
        "\"\n",
        "runSelect(sql)"
      ],
      "metadata": {
        "id": "ZySW3QRkiBUG",
        "outputId": "63f4e58f-9e96-44e7-bbae-6a5605d13f99",
        "colab": {
          "base_uri": "https://localhost:8080/",
          "height": 238
        }
      },
      "execution_count": 61,
      "outputs": [
        {
          "output_type": "execute_result",
          "data": {
            "text/plain": [
              "<pandas.io.formats.style.Styler at 0x7e181f8a5410>"
            ],
            "text/html": [
              "<style type=\"text/css\">\n",
              "</style>\n",
              "<table id=\"T_f0d47\" class=\"dataframe\">\n",
              "  <thead>\n",
              "    <tr>\n",
              "      <th id=\"T_f0d47_level0_col0\" class=\"col_heading level0 col0\" >firstname</th>\n",
              "      <th id=\"T_f0d47_level0_col1\" class=\"col_heading level0 col1\" >jobdesc</th>\n",
              "      <th id=\"T_f0d47_level0_col2\" class=\"col_heading level0 col2\" >deptid</th>\n",
              "      <th id=\"T_f0d47_level0_col3\" class=\"col_heading level0 col3\" >salary</th>\n",
              "    </tr>\n",
              "  </thead>\n",
              "  <tbody>\n",
              "    <tr>\n",
              "      <td id=\"T_f0d47_row0_col0\" class=\"data row0 col0\" >Amitabh</td>\n",
              "      <td id=\"T_f0d47_row0_col1\" class=\"data row0 col1\" >Executive</td>\n",
              "      <td id=\"T_f0d47_row0_col2\" class=\"data row0 col2\" >10</td>\n",
              "      <td id=\"T_f0d47_row0_col3\" class=\"data row0 col3\" >50000</td>\n",
              "    </tr>\n",
              "    <tr>\n",
              "      <td id=\"T_f0d47_row1_col0\" class=\"data row1 col0\" >Shahrukh</td>\n",
              "      <td id=\"T_f0d47_row1_col1\" class=\"data row1 col1\" >Manager</td>\n",
              "      <td id=\"T_f0d47_row1_col2\" class=\"data row1 col2\" >20</td>\n",
              "      <td id=\"T_f0d47_row1_col3\" class=\"data row1 col3\" >30000</td>\n",
              "    </tr>\n",
              "    <tr>\n",
              "      <td id=\"T_f0d47_row2_col0\" class=\"data row2 col0\" >Rahul</td>\n",
              "      <td id=\"T_f0d47_row2_col1\" class=\"data row2 col1\" >Sr Manager</td>\n",
              "      <td id=\"T_f0d47_row2_col2\" class=\"data row2 col2\" >30</td>\n",
              "      <td id=\"T_f0d47_row2_col3\" class=\"data row2 col3\" >40000</td>\n",
              "    </tr>\n",
              "    <tr>\n",
              "      <td id=\"T_f0d47_row3_col0\" class=\"data row3 col0\" >Rekha</td>\n",
              "      <td id=\"T_f0d47_row3_col1\" class=\"data row3 col1\" >Director</td>\n",
              "      <td id=\"T_f0d47_row3_col2\" class=\"data row3 col2\" >10</td>\n",
              "      <td id=\"T_f0d47_row3_col3\" class=\"data row3 col3\" >60000</td>\n",
              "    </tr>\n",
              "    <tr>\n",
              "      <td id=\"T_f0d47_row4_col0\" class=\"data row4 col0\" >Narayan</td>\n",
              "      <td id=\"T_f0d47_row4_col1\" class=\"data row4 col1\" >Secretary</td>\n",
              "      <td id=\"T_f0d47_row4_col2\" class=\"data row4 col2\" >10</td>\n",
              "      <td id=\"T_f0d47_row4_col3\" class=\"data row4 col3\" >40000</td>\n",
              "    </tr>\n",
              "    <tr>\n",
              "      <td id=\"T_f0d47_row5_col0\" class=\"data row5 col0\" >Chettri</td>\n",
              "      <td id=\"T_f0d47_row5_col1\" class=\"data row5 col1\" >Dy Manager</td>\n",
              "      <td id=\"T_f0d47_row5_col2\" class=\"data row5 col2\" >70</td>\n",
              "      <td id=\"T_f0d47_row5_col3\" class=\"data row5 col3\" >40000</td>\n",
              "    </tr>\n",
              "  </tbody>\n",
              "</table>\n"
            ]
          },
          "metadata": {},
          "execution_count": 61
        }
      ]
    },
    {
      "cell_type": "code",
      "source": [
        "#!psql -h localhost -p 5432 -Uupraxis -ddbpraxis -c \"\\\n",
        "sql = \"\\\n",
        "select firstname, jobdesc, deptid, salary from empl \\\n",
        "where salary <= any \\\n",
        "(select min(salary) from empl)\\\n",
        "\"\n",
        "runSelect(sql)"
      ],
      "metadata": {
        "id": "OrNzFUx2i6n1",
        "outputId": "8a2fdc6d-c797-4fab-8c53-39a1beb70f00",
        "colab": {
          "base_uri": "https://localhost:8080/",
          "height": 81
        }
      },
      "execution_count": 62,
      "outputs": [
        {
          "output_type": "execute_result",
          "data": {
            "text/plain": [
              "<pandas.io.formats.style.Styler at 0x7e181f8a6090>"
            ],
            "text/html": [
              "<style type=\"text/css\">\n",
              "</style>\n",
              "<table id=\"T_3afe2\" class=\"dataframe\">\n",
              "  <thead>\n",
              "    <tr>\n",
              "      <th id=\"T_3afe2_level0_col0\" class=\"col_heading level0 col0\" >firstname</th>\n",
              "      <th id=\"T_3afe2_level0_col1\" class=\"col_heading level0 col1\" >jobdesc</th>\n",
              "      <th id=\"T_3afe2_level0_col2\" class=\"col_heading level0 col2\" >deptid</th>\n",
              "      <th id=\"T_3afe2_level0_col3\" class=\"col_heading level0 col3\" >salary</th>\n",
              "    </tr>\n",
              "  </thead>\n",
              "  <tbody>\n",
              "    <tr>\n",
              "      <td id=\"T_3afe2_row0_col0\" class=\"data row0 col0\" >Mahender</td>\n",
              "      <td id=\"T_3afe2_row0_col1\" class=\"data row0 col1\" >Clerk</td>\n",
              "      <td id=\"T_3afe2_row0_col2\" class=\"data row0 col2\" >40</td>\n",
              "      <td id=\"T_3afe2_row0_col3\" class=\"data row0 col3\" >9000</td>\n",
              "    </tr>\n",
              "  </tbody>\n",
              "</table>\n"
            ]
          },
          "metadata": {},
          "execution_count": 62
        }
      ]
    },
    {
      "cell_type": "code",
      "source": [
        "#!psql -h localhost -p 5432 -Uupraxis -ddbpraxis -c \"\\\n",
        "sql = \"\\\n",
        "select firstname, jobdesc, deptid, salary from empl \\\n",
        "where salary >= any \\\n",
        "(select max(salary) from empl)\\\n",
        "\"\n",
        "runSelect(sql)"
      ],
      "metadata": {
        "id": "_i2nkl8yvjyr",
        "outputId": "2cd65ea4-caf2-4fbb-97e0-adcf9dafd5e7",
        "colab": {
          "base_uri": "https://localhost:8080/",
          "height": 81
        }
      },
      "execution_count": 63,
      "outputs": [
        {
          "output_type": "execute_result",
          "data": {
            "text/plain": [
              "<pandas.io.formats.style.Styler at 0x7e181f835b10>"
            ],
            "text/html": [
              "<style type=\"text/css\">\n",
              "</style>\n",
              "<table id=\"T_66f4d\" class=\"dataframe\">\n",
              "  <thead>\n",
              "    <tr>\n",
              "      <th id=\"T_66f4d_level0_col0\" class=\"col_heading level0 col0\" >firstname</th>\n",
              "      <th id=\"T_66f4d_level0_col1\" class=\"col_heading level0 col1\" >jobdesc</th>\n",
              "      <th id=\"T_66f4d_level0_col2\" class=\"col_heading level0 col2\" >deptid</th>\n",
              "      <th id=\"T_66f4d_level0_col3\" class=\"col_heading level0 col3\" >salary</th>\n",
              "    </tr>\n",
              "  </thead>\n",
              "  <tbody>\n",
              "    <tr>\n",
              "      <td id=\"T_66f4d_row0_col0\" class=\"data row0 col0\" >Rekha</td>\n",
              "      <td id=\"T_66f4d_row0_col1\" class=\"data row0 col1\" >Director</td>\n",
              "      <td id=\"T_66f4d_row0_col2\" class=\"data row0 col2\" >10</td>\n",
              "      <td id=\"T_66f4d_row0_col3\" class=\"data row0 col3\" >60000</td>\n",
              "    </tr>\n",
              "  </tbody>\n",
              "</table>\n"
            ]
          },
          "metadata": {},
          "execution_count": 63
        }
      ]
    },
    {
      "cell_type": "code",
      "source": [
        "!psql -h localhost -p 5432 -Uupraxis -ddbpraxis -c \"\\\n",
        "select firstname, jobdesc, deptid, salary from empl \\\n",
        "where deptid = ALL  \\\n",
        "(select deptid from dept where location = 'Calcutta' )\\\n",
        "\"\n",
        "#runSelect(sql)"
      ],
      "metadata": {
        "id": "DodcUMruPCYv",
        "outputId": "c34cc058-3fdc-4a6f-d7bd-da263acb2335",
        "colab": {
          "base_uri": "https://localhost:8080/"
        }
      },
      "execution_count": 64,
      "outputs": [
        {
          "output_type": "stream",
          "name": "stdout",
          "text": [
            " firstname | jobdesc | deptid | salary \n",
            "-----------+---------+--------+--------\n",
            "(0 rows)\n",
            "\n"
          ]
        }
      ]
    },
    {
      "cell_type": "code",
      "source": [
        "!psql -h localhost -p 5432 -Uupraxis -ddbpraxis -c \"\\\n",
        "select firstname, jobdesc, deptid, salary from empl \\\n",
        "where deptid = any  \\\n",
        "(select deptid from dept where location = 'Calcutta' )\\\n",
        "\""
      ],
      "metadata": {
        "id": "e-v3Rp0qv3TJ",
        "outputId": "e8caa434-d467-4ce9-c0ec-c3ba688b2f05",
        "colab": {
          "base_uri": "https://localhost:8080/"
        }
      },
      "execution_count": 65,
      "outputs": [
        {
          "output_type": "stream",
          "name": "stdout",
          "text": [
            " firstname |  jobdesc   | deptid | salary \n",
            "-----------+------------+--------+--------\n",
            " Amitabh   | Executive  | 10     |  50000\n",
            " Madhuri   | Clerk      | 20     |  10000\n",
            " Shahrukh  | Manager    | 20     |  30000\n",
            " Virender  | Cus_Rep    | 20     |  15000\n",
            " Rahul     | Sr Manager | 30     |  40000\n",
            " Jagmohan  | Clerk      | 30     |  12000\n",
            " Rekha     | Director   | 10     |  60000\n",
            " Narayan   | Secretary  | 10     |  40000\n",
            " Sania     | Cus_Rep    | 30     |  25000\n",
            "(9 rows)\n",
            "\n"
          ]
        }
      ]
    },
    {
      "cell_type": "code",
      "source": [
        "!psql -h localhost -p 5432 -Uupraxis -ddbpraxis -c \"\\\n",
        "select firstname, jobdesc, salary from empl \\\n",
        "where salary > ANY  \\\n",
        "(select salary from empl where jobdesc like '%Manager%' )\\\n",
        "\""
      ],
      "metadata": {
        "id": "9T_Rw43iUs6z",
        "outputId": "abce072b-ab95-45f5-8ebe-23d6be52a113",
        "colab": {
          "base_uri": "https://localhost:8080/"
        }
      },
      "execution_count": 66,
      "outputs": [
        {
          "output_type": "stream",
          "name": "stdout",
          "text": [
            " firstname |  jobdesc   | salary \n",
            "-----------+------------+--------\n",
            " Amitabh   | Executive  |  50000\n",
            " Shahrukh  | Manager    |  30000\n",
            " Rahul     | Sr Manager |  40000\n",
            " Rekha     | Director   |  60000\n",
            " Narayan   | Secretary  |  40000\n",
            " Chettri   | Dy Manager |  40000\n",
            "(6 rows)\n",
            "\n"
          ]
        }
      ]
    },
    {
      "cell_type": "code",
      "source": [
        "!psql -h localhost -p 5432 -Uupraxis -ddbpraxis -c \"\\\n",
        "select firstname, jobdesc, salary from empl \\\n",
        "where salary > ALL  \\\n",
        "(select salary from empl where jobdesc like '%Manager%' )\\\n",
        "\""
      ],
      "metadata": {
        "id": "gBMwfFDLkOhd",
        "outputId": "f9c1911c-d41c-4461-d04c-ff9648d86228",
        "colab": {
          "base_uri": "https://localhost:8080/"
        }
      },
      "execution_count": 67,
      "outputs": [
        {
          "output_type": "stream",
          "name": "stdout",
          "text": [
            " firstname |  jobdesc  | salary \n",
            "-----------+-----------+--------\n",
            " Amitabh   | Executive |  50000\n",
            " Rekha     | Director  |  60000\n",
            "(2 rows)\n",
            "\n"
          ]
        }
      ]
    },
    {
      "cell_type": "markdown",
      "source": [
        "## Common Table Extensions CTE"
      ],
      "metadata": {
        "id": "2gvg8pwe3ale"
      }
    },
    {
      "cell_type": "code",
      "source": [
        "sql = \"\\\n",
        "select jobdesc, avg(salary) avgsalary from empl group by jobdesc \\\n",
        "\"\n",
        "runSelect(sql)"
      ],
      "metadata": {
        "id": "7mu6mmXA3pVn",
        "outputId": "1765df99-221e-40ff-c5c4-abe6938ab902",
        "colab": {
          "base_uri": "https://localhost:8080/",
          "height": 300
        }
      },
      "execution_count": 68,
      "outputs": [
        {
          "output_type": "execute_result",
          "data": {
            "text/plain": [
              "<pandas.io.formats.style.Styler at 0x7e181f8a7050>"
            ],
            "text/html": [
              "<style type=\"text/css\">\n",
              "</style>\n",
              "<table id=\"T_71a97\" class=\"dataframe\">\n",
              "  <thead>\n",
              "    <tr>\n",
              "      <th id=\"T_71a97_level0_col0\" class=\"col_heading level0 col0\" >jobdesc</th>\n",
              "      <th id=\"T_71a97_level0_col1\" class=\"col_heading level0 col1\" >avgsalary</th>\n",
              "    </tr>\n",
              "  </thead>\n",
              "  <tbody>\n",
              "    <tr>\n",
              "      <td id=\"T_71a97_row0_col0\" class=\"data row0 col0\" >Director</td>\n",
              "      <td id=\"T_71a97_row0_col1\" class=\"data row0 col1\" >60000.000000000000</td>\n",
              "    </tr>\n",
              "    <tr>\n",
              "      <td id=\"T_71a97_row1_col0\" class=\"data row1 col0\" >Manager</td>\n",
              "      <td id=\"T_71a97_row1_col1\" class=\"data row1 col1\" >27500.000000000000</td>\n",
              "    </tr>\n",
              "    <tr>\n",
              "      <td id=\"T_71a97_row2_col0\" class=\"data row2 col0\" >Dy Manager</td>\n",
              "      <td id=\"T_71a97_row2_col1\" class=\"data row2 col1\" >40000.000000000000</td>\n",
              "    </tr>\n",
              "    <tr>\n",
              "      <td id=\"T_71a97_row3_col0\" class=\"data row3 col0\" >Executive</td>\n",
              "      <td id=\"T_71a97_row3_col1\" class=\"data row3 col1\" >50000.000000000000</td>\n",
              "    </tr>\n",
              "    <tr>\n",
              "      <td id=\"T_71a97_row4_col0\" class=\"data row4 col0\" >Secretary</td>\n",
              "      <td id=\"T_71a97_row4_col1\" class=\"data row4 col1\" >40000.000000000000</td>\n",
              "    </tr>\n",
              "    <tr>\n",
              "      <td id=\"T_71a97_row5_col0\" class=\"data row5 col0\" >Cus_Rep</td>\n",
              "      <td id=\"T_71a97_row5_col1\" class=\"data row5 col1\" >20000.000000000000</td>\n",
              "    </tr>\n",
              "    <tr>\n",
              "      <td id=\"T_71a97_row6_col0\" class=\"data row6 col0\" >Clerk</td>\n",
              "      <td id=\"T_71a97_row6_col1\" class=\"data row6 col1\" >10333.3333333333333333</td>\n",
              "    </tr>\n",
              "    <tr>\n",
              "      <td id=\"T_71a97_row7_col0\" class=\"data row7 col0\" >Sr Manager</td>\n",
              "      <td id=\"T_71a97_row7_col1\" class=\"data row7 col1\" >40000.000000000000</td>\n",
              "    </tr>\n",
              "  </tbody>\n",
              "</table>\n"
            ]
          },
          "metadata": {},
          "execution_count": 68
        }
      ]
    },
    {
      "cell_type": "code",
      "source": [
        "sql = \"\\\n",
        "with MeanSalary as \\\n",
        "    (select jobdesc, round(avg(salary),0) avgsalary from empl group by jobdesc) \\\n",
        "select lastname, empl.jobdesc, salary, avgsalary from empl, meansalary \\\n",
        "where empl.jobdesc = meansalary.jobdesc \\\n",
        "order  by jobdesc \\\n",
        "\"\n",
        "runSelect(sql)"
      ],
      "metadata": {
        "id": "0i-rIGEzDgFy",
        "outputId": "444457e9-52f5-4140-dd95-c441f45e5b4a",
        "colab": {
          "base_uri": "https://localhost:8080/",
          "height": 457
        }
      },
      "execution_count": 69,
      "outputs": [
        {
          "output_type": "execute_result",
          "data": {
            "text/plain": [
              "<pandas.io.formats.style.Styler at 0x7e181f8ae010>"
            ],
            "text/html": [
              "<style type=\"text/css\">\n",
              "</style>\n",
              "<table id=\"T_fb838\" class=\"dataframe\">\n",
              "  <thead>\n",
              "    <tr>\n",
              "      <th id=\"T_fb838_level0_col0\" class=\"col_heading level0 col0\" >lastname</th>\n",
              "      <th id=\"T_fb838_level0_col1\" class=\"col_heading level0 col1\" >jobdesc</th>\n",
              "      <th id=\"T_fb838_level0_col2\" class=\"col_heading level0 col2\" >salary</th>\n",
              "      <th id=\"T_fb838_level0_col3\" class=\"col_heading level0 col3\" >avgsalary</th>\n",
              "    </tr>\n",
              "  </thead>\n",
              "  <tbody>\n",
              "    <tr>\n",
              "      <td id=\"T_fb838_row0_col0\" class=\"data row0 col0\" >Dalmia</td>\n",
              "      <td id=\"T_fb838_row0_col1\" class=\"data row0 col1\" >Clerk</td>\n",
              "      <td id=\"T_fb838_row0_col2\" class=\"data row0 col2\" >12000</td>\n",
              "      <td id=\"T_fb838_row0_col3\" class=\"data row0 col3\" >10333</td>\n",
              "    </tr>\n",
              "    <tr>\n",
              "      <td id=\"T_fb838_row1_col0\" class=\"data row1 col0\" >Dikshit</td>\n",
              "      <td id=\"T_fb838_row1_col1\" class=\"data row1 col1\" >Clerk</td>\n",
              "      <td id=\"T_fb838_row1_col2\" class=\"data row1 col2\" >10000</td>\n",
              "      <td id=\"T_fb838_row1_col3\" class=\"data row1 col3\" >10333</td>\n",
              "    </tr>\n",
              "    <tr>\n",
              "      <td id=\"T_fb838_row2_col0\" class=\"data row2 col0\" >Dhoni</td>\n",
              "      <td id=\"T_fb838_row2_col1\" class=\"data row2 col1\" >Clerk</td>\n",
              "      <td id=\"T_fb838_row2_col2\" class=\"data row2 col2\" >9000</td>\n",
              "      <td id=\"T_fb838_row2_col3\" class=\"data row2 col3\" >10333</td>\n",
              "    </tr>\n",
              "    <tr>\n",
              "      <td id=\"T_fb838_row3_col0\" class=\"data row3 col0\" >Sehwag</td>\n",
              "      <td id=\"T_fb838_row3_col1\" class=\"data row3 col1\" >Cus_Rep</td>\n",
              "      <td id=\"T_fb838_row3_col2\" class=\"data row3 col2\" >15000</td>\n",
              "      <td id=\"T_fb838_row3_col3\" class=\"data row3 col3\" >20000</td>\n",
              "    </tr>\n",
              "    <tr>\n",
              "      <td id=\"T_fb838_row4_col0\" class=\"data row4 col0\" >Mirza</td>\n",
              "      <td id=\"T_fb838_row4_col1\" class=\"data row4 col1\" >Cus_Rep</td>\n",
              "      <td id=\"T_fb838_row4_col2\" class=\"data row4 col2\" >25000</td>\n",
              "      <td id=\"T_fb838_row4_col3\" class=\"data row4 col3\" >20000</td>\n",
              "    </tr>\n",
              "    <tr>\n",
              "      <td id=\"T_fb838_row5_col0\" class=\"data row5 col0\" >Ganguly</td>\n",
              "      <td id=\"T_fb838_row5_col1\" class=\"data row5 col1\" >Cus_Rep</td>\n",
              "      <td id=\"T_fb838_row5_col2\" class=\"data row5 col2\" >20000</td>\n",
              "      <td id=\"T_fb838_row5_col3\" class=\"data row5 col3\" >20000</td>\n",
              "    </tr>\n",
              "    <tr>\n",
              "      <td id=\"T_fb838_row6_col0\" class=\"data row6 col0\" >Ganesan</td>\n",
              "      <td id=\"T_fb838_row6_col1\" class=\"data row6 col1\" >Director</td>\n",
              "      <td id=\"T_fb838_row6_col2\" class=\"data row6 col2\" >60000</td>\n",
              "      <td id=\"T_fb838_row6_col3\" class=\"data row6 col3\" >60000</td>\n",
              "    </tr>\n",
              "    <tr>\n",
              "      <td id=\"T_fb838_row7_col0\" class=\"data row7 col0\" >Sunil</td>\n",
              "      <td id=\"T_fb838_row7_col1\" class=\"data row7 col1\" >Dy Manager</td>\n",
              "      <td id=\"T_fb838_row7_col2\" class=\"data row7 col2\" >40000</td>\n",
              "      <td id=\"T_fb838_row7_col3\" class=\"data row7 col3\" >40000</td>\n",
              "    </tr>\n",
              "    <tr>\n",
              "      <td id=\"T_fb838_row8_col0\" class=\"data row8 col0\" >Bacchan</td>\n",
              "      <td id=\"T_fb838_row8_col1\" class=\"data row8 col1\" >Executive</td>\n",
              "      <td id=\"T_fb838_row8_col2\" class=\"data row8 col2\" >50000</td>\n",
              "      <td id=\"T_fb838_row8_col3\" class=\"data row8 col3\" >50000</td>\n",
              "    </tr>\n",
              "    <tr>\n",
              "      <td id=\"T_fb838_row9_col0\" class=\"data row9 col0\" >Khan</td>\n",
              "      <td id=\"T_fb838_row9_col1\" class=\"data row9 col1\" >Manager</td>\n",
              "      <td id=\"T_fb838_row9_col2\" class=\"data row9 col2\" >30000</td>\n",
              "      <td id=\"T_fb838_row9_col3\" class=\"data row9 col3\" >27500</td>\n",
              "    </tr>\n",
              "    <tr>\n",
              "      <td id=\"T_fb838_row10_col0\" class=\"data row10 col0\" >Mukherjee</td>\n",
              "      <td id=\"T_fb838_row10_col1\" class=\"data row10 col1\" >Manager</td>\n",
              "      <td id=\"T_fb838_row10_col2\" class=\"data row10 col2\" >25000</td>\n",
              "      <td id=\"T_fb838_row10_col3\" class=\"data row10 col3\" >27500</td>\n",
              "    </tr>\n",
              "    <tr>\n",
              "      <td id=\"T_fb838_row11_col0\" class=\"data row11 col0\" >Karthikeyan</td>\n",
              "      <td id=\"T_fb838_row11_col1\" class=\"data row11 col1\" >Secretary</td>\n",
              "      <td id=\"T_fb838_row11_col2\" class=\"data row11 col2\" >40000</td>\n",
              "      <td id=\"T_fb838_row11_col3\" class=\"data row11 col3\" >40000</td>\n",
              "    </tr>\n",
              "    <tr>\n",
              "      <td id=\"T_fb838_row12_col0\" class=\"data row12 col0\" >Dravid</td>\n",
              "      <td id=\"T_fb838_row12_col1\" class=\"data row12 col1\" >Sr Manager</td>\n",
              "      <td id=\"T_fb838_row12_col2\" class=\"data row12 col2\" >40000</td>\n",
              "      <td id=\"T_fb838_row12_col3\" class=\"data row12 col3\" >40000</td>\n",
              "    </tr>\n",
              "  </tbody>\n",
              "</table>\n"
            ]
          },
          "metadata": {},
          "execution_count": 69
        }
      ]
    },
    {
      "cell_type": "code",
      "source": [
        "sql = \"\\\n",
        "select lastname, empl.jobdesc, salary, avgsalary from \\\n",
        "empl, (select jobdesc, round(avg(salary),0) avgsalary from empl group by jobdesc) meansalary \\\n",
        "where empl.jobdesc = meansalary.jobdesc \\\n",
        "order  by jobdesc \\\n",
        "\"\n",
        "runSelect(sql)"
      ],
      "metadata": {
        "id": "nwrLj4xaExye",
        "outputId": "0edecc7b-1fb7-44b9-9231-6114ca6f8433",
        "colab": {
          "base_uri": "https://localhost:8080/",
          "height": 457
        }
      },
      "execution_count": 70,
      "outputs": [
        {
          "output_type": "execute_result",
          "data": {
            "text/plain": [
              "<pandas.io.formats.style.Styler at 0x7e181f8b4d50>"
            ],
            "text/html": [
              "<style type=\"text/css\">\n",
              "</style>\n",
              "<table id=\"T_a6221\" class=\"dataframe\">\n",
              "  <thead>\n",
              "    <tr>\n",
              "      <th id=\"T_a6221_level0_col0\" class=\"col_heading level0 col0\" >lastname</th>\n",
              "      <th id=\"T_a6221_level0_col1\" class=\"col_heading level0 col1\" >jobdesc</th>\n",
              "      <th id=\"T_a6221_level0_col2\" class=\"col_heading level0 col2\" >salary</th>\n",
              "      <th id=\"T_a6221_level0_col3\" class=\"col_heading level0 col3\" >avgsalary</th>\n",
              "    </tr>\n",
              "  </thead>\n",
              "  <tbody>\n",
              "    <tr>\n",
              "      <td id=\"T_a6221_row0_col0\" class=\"data row0 col0\" >Dalmia</td>\n",
              "      <td id=\"T_a6221_row0_col1\" class=\"data row0 col1\" >Clerk</td>\n",
              "      <td id=\"T_a6221_row0_col2\" class=\"data row0 col2\" >12000</td>\n",
              "      <td id=\"T_a6221_row0_col3\" class=\"data row0 col3\" >10333</td>\n",
              "    </tr>\n",
              "    <tr>\n",
              "      <td id=\"T_a6221_row1_col0\" class=\"data row1 col0\" >Dikshit</td>\n",
              "      <td id=\"T_a6221_row1_col1\" class=\"data row1 col1\" >Clerk</td>\n",
              "      <td id=\"T_a6221_row1_col2\" class=\"data row1 col2\" >10000</td>\n",
              "      <td id=\"T_a6221_row1_col3\" class=\"data row1 col3\" >10333</td>\n",
              "    </tr>\n",
              "    <tr>\n",
              "      <td id=\"T_a6221_row2_col0\" class=\"data row2 col0\" >Dhoni</td>\n",
              "      <td id=\"T_a6221_row2_col1\" class=\"data row2 col1\" >Clerk</td>\n",
              "      <td id=\"T_a6221_row2_col2\" class=\"data row2 col2\" >9000</td>\n",
              "      <td id=\"T_a6221_row2_col3\" class=\"data row2 col3\" >10333</td>\n",
              "    </tr>\n",
              "    <tr>\n",
              "      <td id=\"T_a6221_row3_col0\" class=\"data row3 col0\" >Sehwag</td>\n",
              "      <td id=\"T_a6221_row3_col1\" class=\"data row3 col1\" >Cus_Rep</td>\n",
              "      <td id=\"T_a6221_row3_col2\" class=\"data row3 col2\" >15000</td>\n",
              "      <td id=\"T_a6221_row3_col3\" class=\"data row3 col3\" >20000</td>\n",
              "    </tr>\n",
              "    <tr>\n",
              "      <td id=\"T_a6221_row4_col0\" class=\"data row4 col0\" >Mirza</td>\n",
              "      <td id=\"T_a6221_row4_col1\" class=\"data row4 col1\" >Cus_Rep</td>\n",
              "      <td id=\"T_a6221_row4_col2\" class=\"data row4 col2\" >25000</td>\n",
              "      <td id=\"T_a6221_row4_col3\" class=\"data row4 col3\" >20000</td>\n",
              "    </tr>\n",
              "    <tr>\n",
              "      <td id=\"T_a6221_row5_col0\" class=\"data row5 col0\" >Ganguly</td>\n",
              "      <td id=\"T_a6221_row5_col1\" class=\"data row5 col1\" >Cus_Rep</td>\n",
              "      <td id=\"T_a6221_row5_col2\" class=\"data row5 col2\" >20000</td>\n",
              "      <td id=\"T_a6221_row5_col3\" class=\"data row5 col3\" >20000</td>\n",
              "    </tr>\n",
              "    <tr>\n",
              "      <td id=\"T_a6221_row6_col0\" class=\"data row6 col0\" >Ganesan</td>\n",
              "      <td id=\"T_a6221_row6_col1\" class=\"data row6 col1\" >Director</td>\n",
              "      <td id=\"T_a6221_row6_col2\" class=\"data row6 col2\" >60000</td>\n",
              "      <td id=\"T_a6221_row6_col3\" class=\"data row6 col3\" >60000</td>\n",
              "    </tr>\n",
              "    <tr>\n",
              "      <td id=\"T_a6221_row7_col0\" class=\"data row7 col0\" >Sunil</td>\n",
              "      <td id=\"T_a6221_row7_col1\" class=\"data row7 col1\" >Dy Manager</td>\n",
              "      <td id=\"T_a6221_row7_col2\" class=\"data row7 col2\" >40000</td>\n",
              "      <td id=\"T_a6221_row7_col3\" class=\"data row7 col3\" >40000</td>\n",
              "    </tr>\n",
              "    <tr>\n",
              "      <td id=\"T_a6221_row8_col0\" class=\"data row8 col0\" >Bacchan</td>\n",
              "      <td id=\"T_a6221_row8_col1\" class=\"data row8 col1\" >Executive</td>\n",
              "      <td id=\"T_a6221_row8_col2\" class=\"data row8 col2\" >50000</td>\n",
              "      <td id=\"T_a6221_row8_col3\" class=\"data row8 col3\" >50000</td>\n",
              "    </tr>\n",
              "    <tr>\n",
              "      <td id=\"T_a6221_row9_col0\" class=\"data row9 col0\" >Khan</td>\n",
              "      <td id=\"T_a6221_row9_col1\" class=\"data row9 col1\" >Manager</td>\n",
              "      <td id=\"T_a6221_row9_col2\" class=\"data row9 col2\" >30000</td>\n",
              "      <td id=\"T_a6221_row9_col3\" class=\"data row9 col3\" >27500</td>\n",
              "    </tr>\n",
              "    <tr>\n",
              "      <td id=\"T_a6221_row10_col0\" class=\"data row10 col0\" >Mukherjee</td>\n",
              "      <td id=\"T_a6221_row10_col1\" class=\"data row10 col1\" >Manager</td>\n",
              "      <td id=\"T_a6221_row10_col2\" class=\"data row10 col2\" >25000</td>\n",
              "      <td id=\"T_a6221_row10_col3\" class=\"data row10 col3\" >27500</td>\n",
              "    </tr>\n",
              "    <tr>\n",
              "      <td id=\"T_a6221_row11_col0\" class=\"data row11 col0\" >Karthikeyan</td>\n",
              "      <td id=\"T_a6221_row11_col1\" class=\"data row11 col1\" >Secretary</td>\n",
              "      <td id=\"T_a6221_row11_col2\" class=\"data row11 col2\" >40000</td>\n",
              "      <td id=\"T_a6221_row11_col3\" class=\"data row11 col3\" >40000</td>\n",
              "    </tr>\n",
              "    <tr>\n",
              "      <td id=\"T_a6221_row12_col0\" class=\"data row12 col0\" >Dravid</td>\n",
              "      <td id=\"T_a6221_row12_col1\" class=\"data row12 col1\" >Sr Manager</td>\n",
              "      <td id=\"T_a6221_row12_col2\" class=\"data row12 col2\" >40000</td>\n",
              "      <td id=\"T_a6221_row12_col3\" class=\"data row12 col3\" >40000</td>\n",
              "    </tr>\n",
              "  </tbody>\n",
              "</table>\n"
            ]
          },
          "metadata": {},
          "execution_count": 70
        }
      ]
    },
    {
      "cell_type": "markdown",
      "source": [
        "### CTE Recursion"
      ],
      "metadata": {
        "id": "d3j9PbgaADoB"
      }
    },
    {
      "cell_type": "code",
      "source": [
        "# recursion\n",
        "sql = \"\\\n",
        "with recursive hiring_chain as (\\\n",
        "select empid, lastname, hiredby \\\n",
        "    from empl where lastname = 'Ganesan' \\\n",
        "union all \\\n",
        "select \\\n",
        "e.empid, e.lastname,e.hiredby \\\n",
        "    from empl e \\\n",
        "    inner join hiring_chain hc on hc.empid = e.hiredby \\\n",
        ") \\\n",
        "select * from hiring_chain \\\n",
        "\"\n",
        "\n",
        "runSelect(sql)"
      ],
      "metadata": {
        "id": "HA-RyLoz0D3Z",
        "outputId": "af5b1e63-c616-475d-d66b-46223696a950",
        "colab": {
          "base_uri": "https://localhost:8080/",
          "height": 175
        }
      },
      "execution_count": 71,
      "outputs": [
        {
          "output_type": "execute_result",
          "data": {
            "text/plain": [
              "<pandas.io.formats.style.Styler at 0x7e181f8c1810>"
            ],
            "text/html": [
              "<style type=\"text/css\">\n",
              "</style>\n",
              "<table id=\"T_66b06\" class=\"dataframe\">\n",
              "  <thead>\n",
              "    <tr>\n",
              "      <th id=\"T_66b06_level0_col0\" class=\"col_heading level0 col0\" >empid</th>\n",
              "      <th id=\"T_66b06_level0_col1\" class=\"col_heading level0 col1\" >lastname</th>\n",
              "      <th id=\"T_66b06_level0_col2\" class=\"col_heading level0 col2\" >hiredby</th>\n",
              "    </tr>\n",
              "  </thead>\n",
              "  <tbody>\n",
              "    <tr>\n",
              "      <td id=\"T_66b06_row0_col0\" class=\"data row0 col0\" >299034</td>\n",
              "      <td id=\"T_66b06_row0_col1\" class=\"data row0 col1\" >Ganesan</td>\n",
              "      <td id=\"T_66b06_row0_col2\" class=\"data row0 col2\" >742866</td>\n",
              "    </tr>\n",
              "    <tr>\n",
              "      <td id=\"T_66b06_row1_col0\" class=\"data row1 col0\" >989007</td>\n",
              "      <td id=\"T_66b06_row1_col1\" class=\"data row1 col1\" >Ganguly</td>\n",
              "      <td id=\"T_66b06_row1_col2\" class=\"data row1 col2\" >299034</td>\n",
              "    </tr>\n",
              "    <tr>\n",
              "      <td id=\"T_66b06_row2_col0\" class=\"data row2 col0\" >546223</td>\n",
              "      <td id=\"T_66b06_row2_col1\" class=\"data row2 col1\" >Karthikeyan</td>\n",
              "      <td id=\"T_66b06_row2_col2\" class=\"data row2 col2\" >299034</td>\n",
              "    </tr>\n",
              "    <tr>\n",
              "      <td id=\"T_66b06_row3_col0\" class=\"data row3 col0\" >546224</td>\n",
              "      <td id=\"T_66b06_row3_col1\" class=\"data row3 col1\" >Sunil</td>\n",
              "      <td id=\"T_66b06_row3_col2\" class=\"data row3 col2\" >989007</td>\n",
              "    </tr>\n",
              "  </tbody>\n",
              "</table>\n"
            ]
          },
          "metadata": {},
          "execution_count": 71
        }
      ]
    },
    {
      "cell_type": "markdown",
      "source": [
        "### More Sophisticated Recursion\n",
        "note the switch between upward chain and downward chain in the JOIN column <br>\n",
        "\n",
        "\n",
        "*   Downward > e.hiredby = hc.empid\n",
        "*   Upward   > e.empid = hc.hiredby\n",
        "\n",
        "Courtesy [ChatGPT](https://chat.openai.com/share/80e291a6-bbd2-42d8-ba3d-6e01be4eafd7)"
      ],
      "metadata": {
        "id": "a5zh-tdQAxJp"
      }
    },
    {
      "cell_type": "code",
      "source": [
        "# Downward Chain\n",
        "#\n",
        "sql = \"\\\n",
        "with recursive hiring_chain as (\\\n",
        "select empid, lastname, hiredby, 1 as level \\\n",
        "    from empl where hiredby = '299034' \\\n",
        "union all \\\n",
        "select \\\n",
        "e.empid, e.lastname,e.hiredby, hc.level+1 \\\n",
        "    from empl e \\\n",
        "    inner join hiring_chain hc on e.hiredby = hc.empid  \\\n",
        ") \\\n",
        "select * from hiring_chain \\\n",
        "\"\n",
        "\n",
        "runSelect(sql)"
      ],
      "metadata": {
        "id": "wEsTzZbxA9Y9",
        "outputId": "99c5d866-764d-4544-f0ed-58d7e9a08a7e",
        "colab": {
          "base_uri": "https://localhost:8080/",
          "height": 143
        }
      },
      "execution_count": 72,
      "outputs": [
        {
          "output_type": "execute_result",
          "data": {
            "text/plain": [
              "<pandas.io.formats.style.Styler at 0x7e181f8c15d0>"
            ],
            "text/html": [
              "<style type=\"text/css\">\n",
              "</style>\n",
              "<table id=\"T_797f6\" class=\"dataframe\">\n",
              "  <thead>\n",
              "    <tr>\n",
              "      <th id=\"T_797f6_level0_col0\" class=\"col_heading level0 col0\" >empid</th>\n",
              "      <th id=\"T_797f6_level0_col1\" class=\"col_heading level0 col1\" >lastname</th>\n",
              "      <th id=\"T_797f6_level0_col2\" class=\"col_heading level0 col2\" >hiredby</th>\n",
              "      <th id=\"T_797f6_level0_col3\" class=\"col_heading level0 col3\" >level</th>\n",
              "    </tr>\n",
              "  </thead>\n",
              "  <tbody>\n",
              "    <tr>\n",
              "      <td id=\"T_797f6_row0_col0\" class=\"data row0 col0\" >989007</td>\n",
              "      <td id=\"T_797f6_row0_col1\" class=\"data row0 col1\" >Ganguly</td>\n",
              "      <td id=\"T_797f6_row0_col2\" class=\"data row0 col2\" >299034</td>\n",
              "      <td id=\"T_797f6_row0_col3\" class=\"data row0 col3\" >1</td>\n",
              "    </tr>\n",
              "    <tr>\n",
              "      <td id=\"T_797f6_row1_col0\" class=\"data row1 col0\" >546223</td>\n",
              "      <td id=\"T_797f6_row1_col1\" class=\"data row1 col1\" >Karthikeyan</td>\n",
              "      <td id=\"T_797f6_row1_col2\" class=\"data row1 col2\" >299034</td>\n",
              "      <td id=\"T_797f6_row1_col3\" class=\"data row1 col3\" >1</td>\n",
              "    </tr>\n",
              "    <tr>\n",
              "      <td id=\"T_797f6_row2_col0\" class=\"data row2 col0\" >546224</td>\n",
              "      <td id=\"T_797f6_row2_col1\" class=\"data row2 col1\" >Sunil</td>\n",
              "      <td id=\"T_797f6_row2_col2\" class=\"data row2 col2\" >989007</td>\n",
              "      <td id=\"T_797f6_row2_col3\" class=\"data row2 col3\" >2</td>\n",
              "    </tr>\n",
              "  </tbody>\n",
              "</table>\n"
            ]
          },
          "metadata": {},
          "execution_count": 72
        }
      ]
    },
    {
      "cell_type": "code",
      "source": [
        "# Downward Chain - Style 2\n",
        "#\n",
        "sql = \"\\\n",
        "with recursive hiring_chain as (\\\n",
        "select empid, lastname, hiredby, 1 as level \\\n",
        "    from empl where hiredby = (select empid from empl where lastname = 'Ganesan') \\\n",
        "union all \\\n",
        "select \\\n",
        "e.empid, e.lastname,e.hiredby, hc.level+1 \\\n",
        "    from empl e \\\n",
        "    inner join hiring_chain hc on e.hiredby = hc.empid  \\\n",
        ") \\\n",
        "select * from hiring_chain \\\n",
        "\"\n",
        "\n",
        "runSelect(sql)"
      ],
      "metadata": {
        "id": "jKvfW2HiQF5O",
        "outputId": "10bc059b-1bb5-464a-e335-d6af06d3c05d",
        "colab": {
          "base_uri": "https://localhost:8080/",
          "height": 143
        }
      },
      "execution_count": 73,
      "outputs": [
        {
          "output_type": "execute_result",
          "data": {
            "text/plain": [
              "<pandas.io.formats.style.Styler at 0x7e181f8b5050>"
            ],
            "text/html": [
              "<style type=\"text/css\">\n",
              "</style>\n",
              "<table id=\"T_d7e72\" class=\"dataframe\">\n",
              "  <thead>\n",
              "    <tr>\n",
              "      <th id=\"T_d7e72_level0_col0\" class=\"col_heading level0 col0\" >empid</th>\n",
              "      <th id=\"T_d7e72_level0_col1\" class=\"col_heading level0 col1\" >lastname</th>\n",
              "      <th id=\"T_d7e72_level0_col2\" class=\"col_heading level0 col2\" >hiredby</th>\n",
              "      <th id=\"T_d7e72_level0_col3\" class=\"col_heading level0 col3\" >level</th>\n",
              "    </tr>\n",
              "  </thead>\n",
              "  <tbody>\n",
              "    <tr>\n",
              "      <td id=\"T_d7e72_row0_col0\" class=\"data row0 col0\" >989007</td>\n",
              "      <td id=\"T_d7e72_row0_col1\" class=\"data row0 col1\" >Ganguly</td>\n",
              "      <td id=\"T_d7e72_row0_col2\" class=\"data row0 col2\" >299034</td>\n",
              "      <td id=\"T_d7e72_row0_col3\" class=\"data row0 col3\" >1</td>\n",
              "    </tr>\n",
              "    <tr>\n",
              "      <td id=\"T_d7e72_row1_col0\" class=\"data row1 col0\" >546223</td>\n",
              "      <td id=\"T_d7e72_row1_col1\" class=\"data row1 col1\" >Karthikeyan</td>\n",
              "      <td id=\"T_d7e72_row1_col2\" class=\"data row1 col2\" >299034</td>\n",
              "      <td id=\"T_d7e72_row1_col3\" class=\"data row1 col3\" >1</td>\n",
              "    </tr>\n",
              "    <tr>\n",
              "      <td id=\"T_d7e72_row2_col0\" class=\"data row2 col0\" >546224</td>\n",
              "      <td id=\"T_d7e72_row2_col1\" class=\"data row2 col1\" >Sunil</td>\n",
              "      <td id=\"T_d7e72_row2_col2\" class=\"data row2 col2\" >989007</td>\n",
              "      <td id=\"T_d7e72_row2_col3\" class=\"data row2 col3\" >2</td>\n",
              "    </tr>\n",
              "  </tbody>\n",
              "</table>\n"
            ]
          },
          "metadata": {},
          "execution_count": 73
        }
      ]
    },
    {
      "cell_type": "code",
      "source": [
        "# Upward Chain\n",
        "#\n",
        "sql = \"\\\n",
        "with recursive hiring_chain as (\\\n",
        "select empid, lastname, hiredby, 1 as level \\\n",
        "    from empl where lastname = 'Ganesan' \\\n",
        "union all \\\n",
        "select \\\n",
        "e.empid, e.lastname,e.hiredby, hc.level+1 \\\n",
        "    from empl e \\\n",
        "    inner join hiring_chain hc on e.empid = hc.hiredby  \\\n",
        ") \\\n",
        "select * from hiring_chain \\\n",
        "\"\n",
        "\n",
        "runSelect(sql)"
      ],
      "metadata": {
        "id": "ZtH1410DCaOT",
        "outputId": "eb79b0b5-c4a8-4dac-dea1-c4cbf9f6b0c3",
        "colab": {
          "base_uri": "https://localhost:8080/",
          "height": 112
        }
      },
      "execution_count": 74,
      "outputs": [
        {
          "output_type": "execute_result",
          "data": {
            "text/plain": [
              "<pandas.io.formats.style.Styler at 0x7e181f8b7d90>"
            ],
            "text/html": [
              "<style type=\"text/css\">\n",
              "</style>\n",
              "<table id=\"T_4329e\" class=\"dataframe\">\n",
              "  <thead>\n",
              "    <tr>\n",
              "      <th id=\"T_4329e_level0_col0\" class=\"col_heading level0 col0\" >empid</th>\n",
              "      <th id=\"T_4329e_level0_col1\" class=\"col_heading level0 col1\" >lastname</th>\n",
              "      <th id=\"T_4329e_level0_col2\" class=\"col_heading level0 col2\" >hiredby</th>\n",
              "      <th id=\"T_4329e_level0_col3\" class=\"col_heading level0 col3\" >level</th>\n",
              "    </tr>\n",
              "  </thead>\n",
              "  <tbody>\n",
              "    <tr>\n",
              "      <td id=\"T_4329e_row0_col0\" class=\"data row0 col0\" >299034</td>\n",
              "      <td id=\"T_4329e_row0_col1\" class=\"data row0 col1\" >Ganesan</td>\n",
              "      <td id=\"T_4329e_row0_col2\" class=\"data row0 col2\" >742866</td>\n",
              "      <td id=\"T_4329e_row0_col3\" class=\"data row0 col3\" >1</td>\n",
              "    </tr>\n",
              "    <tr>\n",
              "      <td id=\"T_4329e_row1_col0\" class=\"data row1 col0\" >742866</td>\n",
              "      <td id=\"T_4329e_row1_col1\" class=\"data row1 col1\" >Bacchan</td>\n",
              "      <td id=\"T_4329e_row1_col2\" class=\"data row1 col2\" >None</td>\n",
              "      <td id=\"T_4329e_row1_col3\" class=\"data row1 col3\" >2</td>\n",
              "    </tr>\n",
              "  </tbody>\n",
              "</table>\n"
            ]
          },
          "metadata": {},
          "execution_count": 74
        }
      ]
    },
    {
      "cell_type": "code",
      "source": [
        "# Upward Chain\n",
        "#\n",
        "sql = \"\\\n",
        "with recursive hiring_chain as (\\\n",
        "select empid, lastname, hiredby, 1 as level \\\n",
        "    from empl where lastname = 'Sunil' \\\n",
        "union all \\\n",
        "select \\\n",
        "e.empid, e.lastname,e.hiredby, hc.level+1 \\\n",
        "    from empl e \\\n",
        "    inner join hiring_chain hc on e.empid = hc.hiredby  \\\n",
        ") \\\n",
        "select * from hiring_chain \\\n",
        "\"\n",
        "\n",
        "runSelect(sql)"
      ],
      "metadata": {
        "id": "ZmBHyLXbPMQF",
        "outputId": "8f02475a-8962-4d95-aa91-581c500b86ed",
        "colab": {
          "base_uri": "https://localhost:8080/",
          "height": 175
        }
      },
      "execution_count": 75,
      "outputs": [
        {
          "output_type": "execute_result",
          "data": {
            "text/plain": [
              "<pandas.io.formats.style.Styler at 0x7e181f8c4510>"
            ],
            "text/html": [
              "<style type=\"text/css\">\n",
              "</style>\n",
              "<table id=\"T_a5ed9\" class=\"dataframe\">\n",
              "  <thead>\n",
              "    <tr>\n",
              "      <th id=\"T_a5ed9_level0_col0\" class=\"col_heading level0 col0\" >empid</th>\n",
              "      <th id=\"T_a5ed9_level0_col1\" class=\"col_heading level0 col1\" >lastname</th>\n",
              "      <th id=\"T_a5ed9_level0_col2\" class=\"col_heading level0 col2\" >hiredby</th>\n",
              "      <th id=\"T_a5ed9_level0_col3\" class=\"col_heading level0 col3\" >level</th>\n",
              "    </tr>\n",
              "  </thead>\n",
              "  <tbody>\n",
              "    <tr>\n",
              "      <td id=\"T_a5ed9_row0_col0\" class=\"data row0 col0\" >546224</td>\n",
              "      <td id=\"T_a5ed9_row0_col1\" class=\"data row0 col1\" >Sunil</td>\n",
              "      <td id=\"T_a5ed9_row0_col2\" class=\"data row0 col2\" >989007</td>\n",
              "      <td id=\"T_a5ed9_row0_col3\" class=\"data row0 col3\" >1</td>\n",
              "    </tr>\n",
              "    <tr>\n",
              "      <td id=\"T_a5ed9_row1_col0\" class=\"data row1 col0\" >989007</td>\n",
              "      <td id=\"T_a5ed9_row1_col1\" class=\"data row1 col1\" >Ganguly</td>\n",
              "      <td id=\"T_a5ed9_row1_col2\" class=\"data row1 col2\" >299034</td>\n",
              "      <td id=\"T_a5ed9_row1_col3\" class=\"data row1 col3\" >2</td>\n",
              "    </tr>\n",
              "    <tr>\n",
              "      <td id=\"T_a5ed9_row2_col0\" class=\"data row2 col0\" >299034</td>\n",
              "      <td id=\"T_a5ed9_row2_col1\" class=\"data row2 col1\" >Ganesan</td>\n",
              "      <td id=\"T_a5ed9_row2_col2\" class=\"data row2 col2\" >742866</td>\n",
              "      <td id=\"T_a5ed9_row2_col3\" class=\"data row2 col3\" >3</td>\n",
              "    </tr>\n",
              "    <tr>\n",
              "      <td id=\"T_a5ed9_row3_col0\" class=\"data row3 col0\" >742866</td>\n",
              "      <td id=\"T_a5ed9_row3_col1\" class=\"data row3 col1\" >Bacchan</td>\n",
              "      <td id=\"T_a5ed9_row3_col2\" class=\"data row3 col2\" >None</td>\n",
              "      <td id=\"T_a5ed9_row3_col3\" class=\"data row3 col3\" >4</td>\n",
              "    </tr>\n",
              "  </tbody>\n",
              "</table>\n"
            ]
          },
          "metadata": {},
          "execution_count": 75
        }
      ]
    },
    {
      "cell_type": "markdown",
      "source": [
        "#Window Functions"
      ],
      "metadata": {
        "id": "p1v2XtGa1QOq"
      }
    },
    {
      "cell_type": "code",
      "source": [
        "sql = \"select deptid, lastname, salary, \\\n",
        "    avg(salary) over (partition by deptid) \\\n",
        "    from empl\"\n",
        "runSelect(sql)"
      ],
      "metadata": {
        "colab": {
          "base_uri": "https://localhost:8080/",
          "height": 457
        },
        "id": "ffpu5hXo1TfJ",
        "outputId": "16632df0-986c-425a-84e5-7261df5803df"
      },
      "execution_count": 76,
      "outputs": [
        {
          "output_type": "execute_result",
          "data": {
            "text/plain": [
              "<pandas.io.formats.style.Styler at 0x7e181f8c6a50>"
            ],
            "text/html": [
              "<style type=\"text/css\">\n",
              "</style>\n",
              "<table id=\"T_f0c30\" class=\"dataframe\">\n",
              "  <thead>\n",
              "    <tr>\n",
              "      <th id=\"T_f0c30_level0_col0\" class=\"col_heading level0 col0\" >deptid</th>\n",
              "      <th id=\"T_f0c30_level0_col1\" class=\"col_heading level0 col1\" >lastname</th>\n",
              "      <th id=\"T_f0c30_level0_col2\" class=\"col_heading level0 col2\" >salary</th>\n",
              "      <th id=\"T_f0c30_level0_col3\" class=\"col_heading level0 col3\" >avg</th>\n",
              "    </tr>\n",
              "  </thead>\n",
              "  <tbody>\n",
              "    <tr>\n",
              "      <td id=\"T_f0c30_row0_col0\" class=\"data row0 col0\" >10</td>\n",
              "      <td id=\"T_f0c30_row0_col1\" class=\"data row0 col1\" >Bacchan</td>\n",
              "      <td id=\"T_f0c30_row0_col2\" class=\"data row0 col2\" >50000</td>\n",
              "      <td id=\"T_f0c30_row0_col3\" class=\"data row0 col3\" >50000.000000000000</td>\n",
              "    </tr>\n",
              "    <tr>\n",
              "      <td id=\"T_f0c30_row1_col0\" class=\"data row1 col0\" >10</td>\n",
              "      <td id=\"T_f0c30_row1_col1\" class=\"data row1 col1\" >Ganesan</td>\n",
              "      <td id=\"T_f0c30_row1_col2\" class=\"data row1 col2\" >60000</td>\n",
              "      <td id=\"T_f0c30_row1_col3\" class=\"data row1 col3\" >50000.000000000000</td>\n",
              "    </tr>\n",
              "    <tr>\n",
              "      <td id=\"T_f0c30_row2_col0\" class=\"data row2 col0\" >10</td>\n",
              "      <td id=\"T_f0c30_row2_col1\" class=\"data row2 col1\" >Karthikeyan</td>\n",
              "      <td id=\"T_f0c30_row2_col2\" class=\"data row2 col2\" >40000</td>\n",
              "      <td id=\"T_f0c30_row2_col3\" class=\"data row2 col3\" >50000.000000000000</td>\n",
              "    </tr>\n",
              "    <tr>\n",
              "      <td id=\"T_f0c30_row3_col0\" class=\"data row3 col0\" >20</td>\n",
              "      <td id=\"T_f0c30_row3_col1\" class=\"data row3 col1\" >Dikshit</td>\n",
              "      <td id=\"T_f0c30_row3_col2\" class=\"data row3 col2\" >10000</td>\n",
              "      <td id=\"T_f0c30_row3_col3\" class=\"data row3 col3\" >18333.333333333333</td>\n",
              "    </tr>\n",
              "    <tr>\n",
              "      <td id=\"T_f0c30_row4_col0\" class=\"data row4 col0\" >20</td>\n",
              "      <td id=\"T_f0c30_row4_col1\" class=\"data row4 col1\" >Khan</td>\n",
              "      <td id=\"T_f0c30_row4_col2\" class=\"data row4 col2\" >30000</td>\n",
              "      <td id=\"T_f0c30_row4_col3\" class=\"data row4 col3\" >18333.333333333333</td>\n",
              "    </tr>\n",
              "    <tr>\n",
              "      <td id=\"T_f0c30_row5_col0\" class=\"data row5 col0\" >20</td>\n",
              "      <td id=\"T_f0c30_row5_col1\" class=\"data row5 col1\" >Sehwag</td>\n",
              "      <td id=\"T_f0c30_row5_col2\" class=\"data row5 col2\" >15000</td>\n",
              "      <td id=\"T_f0c30_row5_col3\" class=\"data row5 col3\" >18333.333333333333</td>\n",
              "    </tr>\n",
              "    <tr>\n",
              "      <td id=\"T_f0c30_row6_col0\" class=\"data row6 col0\" >30</td>\n",
              "      <td id=\"T_f0c30_row6_col1\" class=\"data row6 col1\" >Mirza</td>\n",
              "      <td id=\"T_f0c30_row6_col2\" class=\"data row6 col2\" >25000</td>\n",
              "      <td id=\"T_f0c30_row6_col3\" class=\"data row6 col3\" >25666.666666666667</td>\n",
              "    </tr>\n",
              "    <tr>\n",
              "      <td id=\"T_f0c30_row7_col0\" class=\"data row7 col0\" >30</td>\n",
              "      <td id=\"T_f0c30_row7_col1\" class=\"data row7 col1\" >Dravid</td>\n",
              "      <td id=\"T_f0c30_row7_col2\" class=\"data row7 col2\" >40000</td>\n",
              "      <td id=\"T_f0c30_row7_col3\" class=\"data row7 col3\" >25666.666666666667</td>\n",
              "    </tr>\n",
              "    <tr>\n",
              "      <td id=\"T_f0c30_row8_col0\" class=\"data row8 col0\" >30</td>\n",
              "      <td id=\"T_f0c30_row8_col1\" class=\"data row8 col1\" >Dalmia</td>\n",
              "      <td id=\"T_f0c30_row8_col2\" class=\"data row8 col2\" >12000</td>\n",
              "      <td id=\"T_f0c30_row8_col3\" class=\"data row8 col3\" >25666.666666666667</td>\n",
              "    </tr>\n",
              "    <tr>\n",
              "      <td id=\"T_f0c30_row9_col0\" class=\"data row9 col0\" >40</td>\n",
              "      <td id=\"T_f0c30_row9_col1\" class=\"data row9 col1\" >Ganguly</td>\n",
              "      <td id=\"T_f0c30_row9_col2\" class=\"data row9 col2\" >20000</td>\n",
              "      <td id=\"T_f0c30_row9_col3\" class=\"data row9 col3\" >18000.000000000000</td>\n",
              "    </tr>\n",
              "    <tr>\n",
              "      <td id=\"T_f0c30_row10_col0\" class=\"data row10 col0\" >40</td>\n",
              "      <td id=\"T_f0c30_row10_col1\" class=\"data row10 col1\" >Dhoni</td>\n",
              "      <td id=\"T_f0c30_row10_col2\" class=\"data row10 col2\" >9000</td>\n",
              "      <td id=\"T_f0c30_row10_col3\" class=\"data row10 col3\" >18000.000000000000</td>\n",
              "    </tr>\n",
              "    <tr>\n",
              "      <td id=\"T_f0c30_row11_col0\" class=\"data row11 col0\" >40</td>\n",
              "      <td id=\"T_f0c30_row11_col1\" class=\"data row11 col1\" >Mukherjee</td>\n",
              "      <td id=\"T_f0c30_row11_col2\" class=\"data row11 col2\" >25000</td>\n",
              "      <td id=\"T_f0c30_row11_col3\" class=\"data row11 col3\" >18000.000000000000</td>\n",
              "    </tr>\n",
              "    <tr>\n",
              "      <td id=\"T_f0c30_row12_col0\" class=\"data row12 col0\" >70</td>\n",
              "      <td id=\"T_f0c30_row12_col1\" class=\"data row12 col1\" >Sunil</td>\n",
              "      <td id=\"T_f0c30_row12_col2\" class=\"data row12 col2\" >40000</td>\n",
              "      <td id=\"T_f0c30_row12_col3\" class=\"data row12 col3\" >40000.000000000000</td>\n",
              "    </tr>\n",
              "  </tbody>\n",
              "</table>\n"
            ]
          },
          "metadata": {},
          "execution_count": 76
        }
      ]
    },
    {
      "cell_type": "code",
      "source": [
        "sql = \"select deptname, lastname, salary, avg(salary) over (partition by deptname) from empl  inner join dept using(deptid)\"\n",
        "runSelect(sql)"
      ],
      "metadata": {
        "colab": {
          "base_uri": "https://localhost:8080/",
          "height": 426
        },
        "id": "JZC4y3tg2o8A",
        "outputId": "9194f491-5e12-4a85-d63e-771360c4100a"
      },
      "execution_count": 77,
      "outputs": [
        {
          "output_type": "execute_result",
          "data": {
            "text/plain": [
              "<pandas.io.formats.style.Styler at 0x7e181f8c5990>"
            ],
            "text/html": [
              "<style type=\"text/css\">\n",
              "</style>\n",
              "<table id=\"T_a8062\" class=\"dataframe\">\n",
              "  <thead>\n",
              "    <tr>\n",
              "      <th id=\"T_a8062_level0_col0\" class=\"col_heading level0 col0\" >deptname</th>\n",
              "      <th id=\"T_a8062_level0_col1\" class=\"col_heading level0 col1\" >lastname</th>\n",
              "      <th id=\"T_a8062_level0_col2\" class=\"col_heading level0 col2\" >salary</th>\n",
              "      <th id=\"T_a8062_level0_col3\" class=\"col_heading level0 col3\" >avg</th>\n",
              "    </tr>\n",
              "  </thead>\n",
              "  <tbody>\n",
              "    <tr>\n",
              "      <td id=\"T_a8062_row0_col0\" class=\"data row0 col0\" >Accounts</td>\n",
              "      <td id=\"T_a8062_row0_col1\" class=\"data row0 col1\" >Dravid</td>\n",
              "      <td id=\"T_a8062_row0_col2\" class=\"data row0 col2\" >40000</td>\n",
              "      <td id=\"T_a8062_row0_col3\" class=\"data row0 col3\" >25666.666666666667</td>\n",
              "    </tr>\n",
              "    <tr>\n",
              "      <td id=\"T_a8062_row1_col0\" class=\"data row1 col0\" >Accounts</td>\n",
              "      <td id=\"T_a8062_row1_col1\" class=\"data row1 col1\" >Dalmia</td>\n",
              "      <td id=\"T_a8062_row1_col2\" class=\"data row1 col2\" >12000</td>\n",
              "      <td id=\"T_a8062_row1_col3\" class=\"data row1 col3\" >25666.666666666667</td>\n",
              "    </tr>\n",
              "    <tr>\n",
              "      <td id=\"T_a8062_row2_col0\" class=\"data row2 col0\" >Accounts</td>\n",
              "      <td id=\"T_a8062_row2_col1\" class=\"data row2 col1\" >Mirza</td>\n",
              "      <td id=\"T_a8062_row2_col2\" class=\"data row2 col2\" >25000</td>\n",
              "      <td id=\"T_a8062_row2_col3\" class=\"data row2 col3\" >25666.666666666667</td>\n",
              "    </tr>\n",
              "    <tr>\n",
              "      <td id=\"T_a8062_row3_col0\" class=\"data row3 col0\" >Corporate</td>\n",
              "      <td id=\"T_a8062_row3_col1\" class=\"data row3 col1\" >Karthikeyan</td>\n",
              "      <td id=\"T_a8062_row3_col2\" class=\"data row3 col2\" >40000</td>\n",
              "      <td id=\"T_a8062_row3_col3\" class=\"data row3 col3\" >50000.000000000000</td>\n",
              "    </tr>\n",
              "    <tr>\n",
              "      <td id=\"T_a8062_row4_col0\" class=\"data row4 col0\" >Corporate</td>\n",
              "      <td id=\"T_a8062_row4_col1\" class=\"data row4 col1\" >Ganesan</td>\n",
              "      <td id=\"T_a8062_row4_col2\" class=\"data row4 col2\" >60000</td>\n",
              "      <td id=\"T_a8062_row4_col3\" class=\"data row4 col3\" >50000.000000000000</td>\n",
              "    </tr>\n",
              "    <tr>\n",
              "      <td id=\"T_a8062_row5_col0\" class=\"data row5 col0\" >Corporate</td>\n",
              "      <td id=\"T_a8062_row5_col1\" class=\"data row5 col1\" >Bacchan</td>\n",
              "      <td id=\"T_a8062_row5_col2\" class=\"data row5 col2\" >50000</td>\n",
              "      <td id=\"T_a8062_row5_col3\" class=\"data row5 col3\" >50000.000000000000</td>\n",
              "    </tr>\n",
              "    <tr>\n",
              "      <td id=\"T_a8062_row6_col0\" class=\"data row6 col0\" >Production</td>\n",
              "      <td id=\"T_a8062_row6_col1\" class=\"data row6 col1\" >Ganguly</td>\n",
              "      <td id=\"T_a8062_row6_col2\" class=\"data row6 col2\" >20000</td>\n",
              "      <td id=\"T_a8062_row6_col3\" class=\"data row6 col3\" >18000.000000000000</td>\n",
              "    </tr>\n",
              "    <tr>\n",
              "      <td id=\"T_a8062_row7_col0\" class=\"data row7 col0\" >Production</td>\n",
              "      <td id=\"T_a8062_row7_col1\" class=\"data row7 col1\" >Dhoni</td>\n",
              "      <td id=\"T_a8062_row7_col2\" class=\"data row7 col2\" >9000</td>\n",
              "      <td id=\"T_a8062_row7_col3\" class=\"data row7 col3\" >18000.000000000000</td>\n",
              "    </tr>\n",
              "    <tr>\n",
              "      <td id=\"T_a8062_row8_col0\" class=\"data row8 col0\" >Production</td>\n",
              "      <td id=\"T_a8062_row8_col1\" class=\"data row8 col1\" >Mukherjee</td>\n",
              "      <td id=\"T_a8062_row8_col2\" class=\"data row8 col2\" >25000</td>\n",
              "      <td id=\"T_a8062_row8_col3\" class=\"data row8 col3\" >18000.000000000000</td>\n",
              "    </tr>\n",
              "    <tr>\n",
              "      <td id=\"T_a8062_row9_col0\" class=\"data row9 col0\" >Sales</td>\n",
              "      <td id=\"T_a8062_row9_col1\" class=\"data row9 col1\" >Dikshit</td>\n",
              "      <td id=\"T_a8062_row9_col2\" class=\"data row9 col2\" >10000</td>\n",
              "      <td id=\"T_a8062_row9_col3\" class=\"data row9 col3\" >18333.333333333333</td>\n",
              "    </tr>\n",
              "    <tr>\n",
              "      <td id=\"T_a8062_row10_col0\" class=\"data row10 col0\" >Sales</td>\n",
              "      <td id=\"T_a8062_row10_col1\" class=\"data row10 col1\" >Khan</td>\n",
              "      <td id=\"T_a8062_row10_col2\" class=\"data row10 col2\" >30000</td>\n",
              "      <td id=\"T_a8062_row10_col3\" class=\"data row10 col3\" >18333.333333333333</td>\n",
              "    </tr>\n",
              "    <tr>\n",
              "      <td id=\"T_a8062_row11_col0\" class=\"data row11 col0\" >Sales</td>\n",
              "      <td id=\"T_a8062_row11_col1\" class=\"data row11 col1\" >Sehwag</td>\n",
              "      <td id=\"T_a8062_row11_col2\" class=\"data row11 col2\" >15000</td>\n",
              "      <td id=\"T_a8062_row11_col3\" class=\"data row11 col3\" >18333.333333333333</td>\n",
              "    </tr>\n",
              "  </tbody>\n",
              "</table>\n"
            ]
          },
          "metadata": {},
          "execution_count": 77
        }
      ]
    },
    {
      "cell_type": "code",
      "source": [
        "sql = \"select deptname, lastname, salary, \\\n",
        "    row_number() over (partition by deptname order by salary) \\\n",
        "    from empl  inner join dept using(deptid)\"\n",
        "runSelect(sql)"
      ],
      "metadata": {
        "colab": {
          "base_uri": "https://localhost:8080/",
          "height": 426
        },
        "id": "xgP9VShE4Spl",
        "outputId": "1626edcd-f737-4efa-c91c-1aead2764e09"
      },
      "execution_count": 78,
      "outputs": [
        {
          "output_type": "execute_result",
          "data": {
            "text/plain": [
              "<pandas.io.formats.style.Styler at 0x7e181f8d6150>"
            ],
            "text/html": [
              "<style type=\"text/css\">\n",
              "</style>\n",
              "<table id=\"T_7fd19\" class=\"dataframe\">\n",
              "  <thead>\n",
              "    <tr>\n",
              "      <th id=\"T_7fd19_level0_col0\" class=\"col_heading level0 col0\" >deptname</th>\n",
              "      <th id=\"T_7fd19_level0_col1\" class=\"col_heading level0 col1\" >lastname</th>\n",
              "      <th id=\"T_7fd19_level0_col2\" class=\"col_heading level0 col2\" >salary</th>\n",
              "      <th id=\"T_7fd19_level0_col3\" class=\"col_heading level0 col3\" >row_number</th>\n",
              "    </tr>\n",
              "  </thead>\n",
              "  <tbody>\n",
              "    <tr>\n",
              "      <td id=\"T_7fd19_row0_col0\" class=\"data row0 col0\" >Accounts</td>\n",
              "      <td id=\"T_7fd19_row0_col1\" class=\"data row0 col1\" >Dalmia</td>\n",
              "      <td id=\"T_7fd19_row0_col2\" class=\"data row0 col2\" >12000</td>\n",
              "      <td id=\"T_7fd19_row0_col3\" class=\"data row0 col3\" >1</td>\n",
              "    </tr>\n",
              "    <tr>\n",
              "      <td id=\"T_7fd19_row1_col0\" class=\"data row1 col0\" >Accounts</td>\n",
              "      <td id=\"T_7fd19_row1_col1\" class=\"data row1 col1\" >Mirza</td>\n",
              "      <td id=\"T_7fd19_row1_col2\" class=\"data row1 col2\" >25000</td>\n",
              "      <td id=\"T_7fd19_row1_col3\" class=\"data row1 col3\" >2</td>\n",
              "    </tr>\n",
              "    <tr>\n",
              "      <td id=\"T_7fd19_row2_col0\" class=\"data row2 col0\" >Accounts</td>\n",
              "      <td id=\"T_7fd19_row2_col1\" class=\"data row2 col1\" >Dravid</td>\n",
              "      <td id=\"T_7fd19_row2_col2\" class=\"data row2 col2\" >40000</td>\n",
              "      <td id=\"T_7fd19_row2_col3\" class=\"data row2 col3\" >3</td>\n",
              "    </tr>\n",
              "    <tr>\n",
              "      <td id=\"T_7fd19_row3_col0\" class=\"data row3 col0\" >Corporate</td>\n",
              "      <td id=\"T_7fd19_row3_col1\" class=\"data row3 col1\" >Karthikeyan</td>\n",
              "      <td id=\"T_7fd19_row3_col2\" class=\"data row3 col2\" >40000</td>\n",
              "      <td id=\"T_7fd19_row3_col3\" class=\"data row3 col3\" >1</td>\n",
              "    </tr>\n",
              "    <tr>\n",
              "      <td id=\"T_7fd19_row4_col0\" class=\"data row4 col0\" >Corporate</td>\n",
              "      <td id=\"T_7fd19_row4_col1\" class=\"data row4 col1\" >Bacchan</td>\n",
              "      <td id=\"T_7fd19_row4_col2\" class=\"data row4 col2\" >50000</td>\n",
              "      <td id=\"T_7fd19_row4_col3\" class=\"data row4 col3\" >2</td>\n",
              "    </tr>\n",
              "    <tr>\n",
              "      <td id=\"T_7fd19_row5_col0\" class=\"data row5 col0\" >Corporate</td>\n",
              "      <td id=\"T_7fd19_row5_col1\" class=\"data row5 col1\" >Ganesan</td>\n",
              "      <td id=\"T_7fd19_row5_col2\" class=\"data row5 col2\" >60000</td>\n",
              "      <td id=\"T_7fd19_row5_col3\" class=\"data row5 col3\" >3</td>\n",
              "    </tr>\n",
              "    <tr>\n",
              "      <td id=\"T_7fd19_row6_col0\" class=\"data row6 col0\" >Production</td>\n",
              "      <td id=\"T_7fd19_row6_col1\" class=\"data row6 col1\" >Dhoni</td>\n",
              "      <td id=\"T_7fd19_row6_col2\" class=\"data row6 col2\" >9000</td>\n",
              "      <td id=\"T_7fd19_row6_col3\" class=\"data row6 col3\" >1</td>\n",
              "    </tr>\n",
              "    <tr>\n",
              "      <td id=\"T_7fd19_row7_col0\" class=\"data row7 col0\" >Production</td>\n",
              "      <td id=\"T_7fd19_row7_col1\" class=\"data row7 col1\" >Ganguly</td>\n",
              "      <td id=\"T_7fd19_row7_col2\" class=\"data row7 col2\" >20000</td>\n",
              "      <td id=\"T_7fd19_row7_col3\" class=\"data row7 col3\" >2</td>\n",
              "    </tr>\n",
              "    <tr>\n",
              "      <td id=\"T_7fd19_row8_col0\" class=\"data row8 col0\" >Production</td>\n",
              "      <td id=\"T_7fd19_row8_col1\" class=\"data row8 col1\" >Mukherjee</td>\n",
              "      <td id=\"T_7fd19_row8_col2\" class=\"data row8 col2\" >25000</td>\n",
              "      <td id=\"T_7fd19_row8_col3\" class=\"data row8 col3\" >3</td>\n",
              "    </tr>\n",
              "    <tr>\n",
              "      <td id=\"T_7fd19_row9_col0\" class=\"data row9 col0\" >Sales</td>\n",
              "      <td id=\"T_7fd19_row9_col1\" class=\"data row9 col1\" >Dikshit</td>\n",
              "      <td id=\"T_7fd19_row9_col2\" class=\"data row9 col2\" >10000</td>\n",
              "      <td id=\"T_7fd19_row9_col3\" class=\"data row9 col3\" >1</td>\n",
              "    </tr>\n",
              "    <tr>\n",
              "      <td id=\"T_7fd19_row10_col0\" class=\"data row10 col0\" >Sales</td>\n",
              "      <td id=\"T_7fd19_row10_col1\" class=\"data row10 col1\" >Sehwag</td>\n",
              "      <td id=\"T_7fd19_row10_col2\" class=\"data row10 col2\" >15000</td>\n",
              "      <td id=\"T_7fd19_row10_col3\" class=\"data row10 col3\" >2</td>\n",
              "    </tr>\n",
              "    <tr>\n",
              "      <td id=\"T_7fd19_row11_col0\" class=\"data row11 col0\" >Sales</td>\n",
              "      <td id=\"T_7fd19_row11_col1\" class=\"data row11 col1\" >Khan</td>\n",
              "      <td id=\"T_7fd19_row11_col2\" class=\"data row11 col2\" >30000</td>\n",
              "      <td id=\"T_7fd19_row11_col3\" class=\"data row11 col3\" >3</td>\n",
              "    </tr>\n",
              "  </tbody>\n",
              "</table>\n"
            ]
          },
          "metadata": {},
          "execution_count": 78
        }
      ]
    },
    {
      "cell_type": "code",
      "source": [
        "sql = \"select deptname, lastname, salary, \\\n",
        "        rank() over (partition by deptname order by salary desc) \\\n",
        "        from empl  inner join dept using(deptid)\"\n",
        "runSelect(sql)"
      ],
      "metadata": {
        "colab": {
          "base_uri": "https://localhost:8080/",
          "height": 426
        },
        "id": "rL_1sHBa4ply",
        "outputId": "549ed729-3367-48bf-a421-7a806059c158"
      },
      "execution_count": 79,
      "outputs": [
        {
          "output_type": "execute_result",
          "data": {
            "text/plain": [
              "<pandas.io.formats.style.Styler at 0x7e181f8e1a10>"
            ],
            "text/html": [
              "<style type=\"text/css\">\n",
              "</style>\n",
              "<table id=\"T_b2c05\" class=\"dataframe\">\n",
              "  <thead>\n",
              "    <tr>\n",
              "      <th id=\"T_b2c05_level0_col0\" class=\"col_heading level0 col0\" >deptname</th>\n",
              "      <th id=\"T_b2c05_level0_col1\" class=\"col_heading level0 col1\" >lastname</th>\n",
              "      <th id=\"T_b2c05_level0_col2\" class=\"col_heading level0 col2\" >salary</th>\n",
              "      <th id=\"T_b2c05_level0_col3\" class=\"col_heading level0 col3\" >rank</th>\n",
              "    </tr>\n",
              "  </thead>\n",
              "  <tbody>\n",
              "    <tr>\n",
              "      <td id=\"T_b2c05_row0_col0\" class=\"data row0 col0\" >Accounts</td>\n",
              "      <td id=\"T_b2c05_row0_col1\" class=\"data row0 col1\" >Dravid</td>\n",
              "      <td id=\"T_b2c05_row0_col2\" class=\"data row0 col2\" >40000</td>\n",
              "      <td id=\"T_b2c05_row0_col3\" class=\"data row0 col3\" >1</td>\n",
              "    </tr>\n",
              "    <tr>\n",
              "      <td id=\"T_b2c05_row1_col0\" class=\"data row1 col0\" >Accounts</td>\n",
              "      <td id=\"T_b2c05_row1_col1\" class=\"data row1 col1\" >Mirza</td>\n",
              "      <td id=\"T_b2c05_row1_col2\" class=\"data row1 col2\" >25000</td>\n",
              "      <td id=\"T_b2c05_row1_col3\" class=\"data row1 col3\" >2</td>\n",
              "    </tr>\n",
              "    <tr>\n",
              "      <td id=\"T_b2c05_row2_col0\" class=\"data row2 col0\" >Accounts</td>\n",
              "      <td id=\"T_b2c05_row2_col1\" class=\"data row2 col1\" >Dalmia</td>\n",
              "      <td id=\"T_b2c05_row2_col2\" class=\"data row2 col2\" >12000</td>\n",
              "      <td id=\"T_b2c05_row2_col3\" class=\"data row2 col3\" >3</td>\n",
              "    </tr>\n",
              "    <tr>\n",
              "      <td id=\"T_b2c05_row3_col0\" class=\"data row3 col0\" >Corporate</td>\n",
              "      <td id=\"T_b2c05_row3_col1\" class=\"data row3 col1\" >Ganesan</td>\n",
              "      <td id=\"T_b2c05_row3_col2\" class=\"data row3 col2\" >60000</td>\n",
              "      <td id=\"T_b2c05_row3_col3\" class=\"data row3 col3\" >1</td>\n",
              "    </tr>\n",
              "    <tr>\n",
              "      <td id=\"T_b2c05_row4_col0\" class=\"data row4 col0\" >Corporate</td>\n",
              "      <td id=\"T_b2c05_row4_col1\" class=\"data row4 col1\" >Bacchan</td>\n",
              "      <td id=\"T_b2c05_row4_col2\" class=\"data row4 col2\" >50000</td>\n",
              "      <td id=\"T_b2c05_row4_col3\" class=\"data row4 col3\" >2</td>\n",
              "    </tr>\n",
              "    <tr>\n",
              "      <td id=\"T_b2c05_row5_col0\" class=\"data row5 col0\" >Corporate</td>\n",
              "      <td id=\"T_b2c05_row5_col1\" class=\"data row5 col1\" >Karthikeyan</td>\n",
              "      <td id=\"T_b2c05_row5_col2\" class=\"data row5 col2\" >40000</td>\n",
              "      <td id=\"T_b2c05_row5_col3\" class=\"data row5 col3\" >3</td>\n",
              "    </tr>\n",
              "    <tr>\n",
              "      <td id=\"T_b2c05_row6_col0\" class=\"data row6 col0\" >Production</td>\n",
              "      <td id=\"T_b2c05_row6_col1\" class=\"data row6 col1\" >Mukherjee</td>\n",
              "      <td id=\"T_b2c05_row6_col2\" class=\"data row6 col2\" >25000</td>\n",
              "      <td id=\"T_b2c05_row6_col3\" class=\"data row6 col3\" >1</td>\n",
              "    </tr>\n",
              "    <tr>\n",
              "      <td id=\"T_b2c05_row7_col0\" class=\"data row7 col0\" >Production</td>\n",
              "      <td id=\"T_b2c05_row7_col1\" class=\"data row7 col1\" >Ganguly</td>\n",
              "      <td id=\"T_b2c05_row7_col2\" class=\"data row7 col2\" >20000</td>\n",
              "      <td id=\"T_b2c05_row7_col3\" class=\"data row7 col3\" >2</td>\n",
              "    </tr>\n",
              "    <tr>\n",
              "      <td id=\"T_b2c05_row8_col0\" class=\"data row8 col0\" >Production</td>\n",
              "      <td id=\"T_b2c05_row8_col1\" class=\"data row8 col1\" >Dhoni</td>\n",
              "      <td id=\"T_b2c05_row8_col2\" class=\"data row8 col2\" >9000</td>\n",
              "      <td id=\"T_b2c05_row8_col3\" class=\"data row8 col3\" >3</td>\n",
              "    </tr>\n",
              "    <tr>\n",
              "      <td id=\"T_b2c05_row9_col0\" class=\"data row9 col0\" >Sales</td>\n",
              "      <td id=\"T_b2c05_row9_col1\" class=\"data row9 col1\" >Khan</td>\n",
              "      <td id=\"T_b2c05_row9_col2\" class=\"data row9 col2\" >30000</td>\n",
              "      <td id=\"T_b2c05_row9_col3\" class=\"data row9 col3\" >1</td>\n",
              "    </tr>\n",
              "    <tr>\n",
              "      <td id=\"T_b2c05_row10_col0\" class=\"data row10 col0\" >Sales</td>\n",
              "      <td id=\"T_b2c05_row10_col1\" class=\"data row10 col1\" >Sehwag</td>\n",
              "      <td id=\"T_b2c05_row10_col2\" class=\"data row10 col2\" >15000</td>\n",
              "      <td id=\"T_b2c05_row10_col3\" class=\"data row10 col3\" >2</td>\n",
              "    </tr>\n",
              "    <tr>\n",
              "      <td id=\"T_b2c05_row11_col0\" class=\"data row11 col0\" >Sales</td>\n",
              "      <td id=\"T_b2c05_row11_col1\" class=\"data row11 col1\" >Dikshit</td>\n",
              "      <td id=\"T_b2c05_row11_col2\" class=\"data row11 col2\" >10000</td>\n",
              "      <td id=\"T_b2c05_row11_col3\" class=\"data row11 col3\" >3</td>\n",
              "    </tr>\n",
              "  </tbody>\n",
              "</table>\n"
            ]
          },
          "metadata": {},
          "execution_count": 79
        }
      ]
    },
    {
      "cell_type": "code",
      "source": [
        "sql = \"select deptname, lastname, salary, \\\n",
        "first_value(salary) over (partition by deptname order by salary) as deptlow, \\\n",
        "last_value(salary) over (partition by deptname order by salary RANGE BETWEEN UNBOUNDED PRECEDING AND UNBOUNDED FOLLOWING) as depthigh \\\n",
        "from empl  inner join dept using(deptid)\"\n",
        "runSelect(sql)"
      ],
      "metadata": {
        "colab": {
          "base_uri": "https://localhost:8080/",
          "height": 426
        },
        "id": "RO428SVT5T3d",
        "outputId": "7c5c2fb7-904c-4ea5-a054-a529f053eb27"
      },
      "execution_count": 80,
      "outputs": [
        {
          "output_type": "execute_result",
          "data": {
            "text/plain": [
              "<pandas.io.formats.style.Styler at 0x7e181f8d70d0>"
            ],
            "text/html": [
              "<style type=\"text/css\">\n",
              "</style>\n",
              "<table id=\"T_61f84\" class=\"dataframe\">\n",
              "  <thead>\n",
              "    <tr>\n",
              "      <th id=\"T_61f84_level0_col0\" class=\"col_heading level0 col0\" >deptname</th>\n",
              "      <th id=\"T_61f84_level0_col1\" class=\"col_heading level0 col1\" >lastname</th>\n",
              "      <th id=\"T_61f84_level0_col2\" class=\"col_heading level0 col2\" >salary</th>\n",
              "      <th id=\"T_61f84_level0_col3\" class=\"col_heading level0 col3\" >deptlow</th>\n",
              "      <th id=\"T_61f84_level0_col4\" class=\"col_heading level0 col4\" >depthigh</th>\n",
              "    </tr>\n",
              "  </thead>\n",
              "  <tbody>\n",
              "    <tr>\n",
              "      <td id=\"T_61f84_row0_col0\" class=\"data row0 col0\" >Accounts</td>\n",
              "      <td id=\"T_61f84_row0_col1\" class=\"data row0 col1\" >Dalmia</td>\n",
              "      <td id=\"T_61f84_row0_col2\" class=\"data row0 col2\" >12000</td>\n",
              "      <td id=\"T_61f84_row0_col3\" class=\"data row0 col3\" >12000</td>\n",
              "      <td id=\"T_61f84_row0_col4\" class=\"data row0 col4\" >40000</td>\n",
              "    </tr>\n",
              "    <tr>\n",
              "      <td id=\"T_61f84_row1_col0\" class=\"data row1 col0\" >Accounts</td>\n",
              "      <td id=\"T_61f84_row1_col1\" class=\"data row1 col1\" >Mirza</td>\n",
              "      <td id=\"T_61f84_row1_col2\" class=\"data row1 col2\" >25000</td>\n",
              "      <td id=\"T_61f84_row1_col3\" class=\"data row1 col3\" >12000</td>\n",
              "      <td id=\"T_61f84_row1_col4\" class=\"data row1 col4\" >40000</td>\n",
              "    </tr>\n",
              "    <tr>\n",
              "      <td id=\"T_61f84_row2_col0\" class=\"data row2 col0\" >Accounts</td>\n",
              "      <td id=\"T_61f84_row2_col1\" class=\"data row2 col1\" >Dravid</td>\n",
              "      <td id=\"T_61f84_row2_col2\" class=\"data row2 col2\" >40000</td>\n",
              "      <td id=\"T_61f84_row2_col3\" class=\"data row2 col3\" >12000</td>\n",
              "      <td id=\"T_61f84_row2_col4\" class=\"data row2 col4\" >40000</td>\n",
              "    </tr>\n",
              "    <tr>\n",
              "      <td id=\"T_61f84_row3_col0\" class=\"data row3 col0\" >Corporate</td>\n",
              "      <td id=\"T_61f84_row3_col1\" class=\"data row3 col1\" >Karthikeyan</td>\n",
              "      <td id=\"T_61f84_row3_col2\" class=\"data row3 col2\" >40000</td>\n",
              "      <td id=\"T_61f84_row3_col3\" class=\"data row3 col3\" >40000</td>\n",
              "      <td id=\"T_61f84_row3_col4\" class=\"data row3 col4\" >60000</td>\n",
              "    </tr>\n",
              "    <tr>\n",
              "      <td id=\"T_61f84_row4_col0\" class=\"data row4 col0\" >Corporate</td>\n",
              "      <td id=\"T_61f84_row4_col1\" class=\"data row4 col1\" >Bacchan</td>\n",
              "      <td id=\"T_61f84_row4_col2\" class=\"data row4 col2\" >50000</td>\n",
              "      <td id=\"T_61f84_row4_col3\" class=\"data row4 col3\" >40000</td>\n",
              "      <td id=\"T_61f84_row4_col4\" class=\"data row4 col4\" >60000</td>\n",
              "    </tr>\n",
              "    <tr>\n",
              "      <td id=\"T_61f84_row5_col0\" class=\"data row5 col0\" >Corporate</td>\n",
              "      <td id=\"T_61f84_row5_col1\" class=\"data row5 col1\" >Ganesan</td>\n",
              "      <td id=\"T_61f84_row5_col2\" class=\"data row5 col2\" >60000</td>\n",
              "      <td id=\"T_61f84_row5_col3\" class=\"data row5 col3\" >40000</td>\n",
              "      <td id=\"T_61f84_row5_col4\" class=\"data row5 col4\" >60000</td>\n",
              "    </tr>\n",
              "    <tr>\n",
              "      <td id=\"T_61f84_row6_col0\" class=\"data row6 col0\" >Production</td>\n",
              "      <td id=\"T_61f84_row6_col1\" class=\"data row6 col1\" >Dhoni</td>\n",
              "      <td id=\"T_61f84_row6_col2\" class=\"data row6 col2\" >9000</td>\n",
              "      <td id=\"T_61f84_row6_col3\" class=\"data row6 col3\" >9000</td>\n",
              "      <td id=\"T_61f84_row6_col4\" class=\"data row6 col4\" >25000</td>\n",
              "    </tr>\n",
              "    <tr>\n",
              "      <td id=\"T_61f84_row7_col0\" class=\"data row7 col0\" >Production</td>\n",
              "      <td id=\"T_61f84_row7_col1\" class=\"data row7 col1\" >Ganguly</td>\n",
              "      <td id=\"T_61f84_row7_col2\" class=\"data row7 col2\" >20000</td>\n",
              "      <td id=\"T_61f84_row7_col3\" class=\"data row7 col3\" >9000</td>\n",
              "      <td id=\"T_61f84_row7_col4\" class=\"data row7 col4\" >25000</td>\n",
              "    </tr>\n",
              "    <tr>\n",
              "      <td id=\"T_61f84_row8_col0\" class=\"data row8 col0\" >Production</td>\n",
              "      <td id=\"T_61f84_row8_col1\" class=\"data row8 col1\" >Mukherjee</td>\n",
              "      <td id=\"T_61f84_row8_col2\" class=\"data row8 col2\" >25000</td>\n",
              "      <td id=\"T_61f84_row8_col3\" class=\"data row8 col3\" >9000</td>\n",
              "      <td id=\"T_61f84_row8_col4\" class=\"data row8 col4\" >25000</td>\n",
              "    </tr>\n",
              "    <tr>\n",
              "      <td id=\"T_61f84_row9_col0\" class=\"data row9 col0\" >Sales</td>\n",
              "      <td id=\"T_61f84_row9_col1\" class=\"data row9 col1\" >Dikshit</td>\n",
              "      <td id=\"T_61f84_row9_col2\" class=\"data row9 col2\" >10000</td>\n",
              "      <td id=\"T_61f84_row9_col3\" class=\"data row9 col3\" >10000</td>\n",
              "      <td id=\"T_61f84_row9_col4\" class=\"data row9 col4\" >30000</td>\n",
              "    </tr>\n",
              "    <tr>\n",
              "      <td id=\"T_61f84_row10_col0\" class=\"data row10 col0\" >Sales</td>\n",
              "      <td id=\"T_61f84_row10_col1\" class=\"data row10 col1\" >Sehwag</td>\n",
              "      <td id=\"T_61f84_row10_col2\" class=\"data row10 col2\" >15000</td>\n",
              "      <td id=\"T_61f84_row10_col3\" class=\"data row10 col3\" >10000</td>\n",
              "      <td id=\"T_61f84_row10_col4\" class=\"data row10 col4\" >30000</td>\n",
              "    </tr>\n",
              "    <tr>\n",
              "      <td id=\"T_61f84_row11_col0\" class=\"data row11 col0\" >Sales</td>\n",
              "      <td id=\"T_61f84_row11_col1\" class=\"data row11 col1\" >Khan</td>\n",
              "      <td id=\"T_61f84_row11_col2\" class=\"data row11 col2\" >30000</td>\n",
              "      <td id=\"T_61f84_row11_col3\" class=\"data row11 col3\" >10000</td>\n",
              "      <td id=\"T_61f84_row11_col4\" class=\"data row11 col4\" >30000</td>\n",
              "    </tr>\n",
              "  </tbody>\n",
              "</table>\n"
            ]
          },
          "metadata": {},
          "execution_count": 80
        }
      ]
    },
    {
      "cell_type": "code",
      "source": [
        "sql = \"select deptname, lastname, salary, \\\n",
        "lag(salary,1) over (partition by deptname order by salary) as prev_emp, \\\n",
        "salary - lag(salary,1) over (partition by deptname order by salary) as gap_up \\\n",
        "from empl  inner join dept using(deptid)\"\n",
        "runSelect(sql)"
      ],
      "metadata": {
        "colab": {
          "base_uri": "https://localhost:8080/",
          "height": 426
        },
        "id": "fnG4S0lF8h77",
        "outputId": "51669826-714c-4d55-b47b-37bed0a8c691"
      },
      "execution_count": 81,
      "outputs": [
        {
          "output_type": "execute_result",
          "data": {
            "text/plain": [
              "<pandas.io.formats.style.Styler at 0x7e181f8e3790>"
            ],
            "text/html": [
              "<style type=\"text/css\">\n",
              "</style>\n",
              "<table id=\"T_c4154\" class=\"dataframe\">\n",
              "  <thead>\n",
              "    <tr>\n",
              "      <th id=\"T_c4154_level0_col0\" class=\"col_heading level0 col0\" >deptname</th>\n",
              "      <th id=\"T_c4154_level0_col1\" class=\"col_heading level0 col1\" >lastname</th>\n",
              "      <th id=\"T_c4154_level0_col2\" class=\"col_heading level0 col2\" >salary</th>\n",
              "      <th id=\"T_c4154_level0_col3\" class=\"col_heading level0 col3\" >prev_emp</th>\n",
              "      <th id=\"T_c4154_level0_col4\" class=\"col_heading level0 col4\" >gap_up</th>\n",
              "    </tr>\n",
              "  </thead>\n",
              "  <tbody>\n",
              "    <tr>\n",
              "      <td id=\"T_c4154_row0_col0\" class=\"data row0 col0\" >Accounts</td>\n",
              "      <td id=\"T_c4154_row0_col1\" class=\"data row0 col1\" >Dalmia</td>\n",
              "      <td id=\"T_c4154_row0_col2\" class=\"data row0 col2\" >12000</td>\n",
              "      <td id=\"T_c4154_row0_col3\" class=\"data row0 col3\" >nan</td>\n",
              "      <td id=\"T_c4154_row0_col4\" class=\"data row0 col4\" >nan</td>\n",
              "    </tr>\n",
              "    <tr>\n",
              "      <td id=\"T_c4154_row1_col0\" class=\"data row1 col0\" >Accounts</td>\n",
              "      <td id=\"T_c4154_row1_col1\" class=\"data row1 col1\" >Mirza</td>\n",
              "      <td id=\"T_c4154_row1_col2\" class=\"data row1 col2\" >25000</td>\n",
              "      <td id=\"T_c4154_row1_col3\" class=\"data row1 col3\" >12000.000000</td>\n",
              "      <td id=\"T_c4154_row1_col4\" class=\"data row1 col4\" >13000.000000</td>\n",
              "    </tr>\n",
              "    <tr>\n",
              "      <td id=\"T_c4154_row2_col0\" class=\"data row2 col0\" >Accounts</td>\n",
              "      <td id=\"T_c4154_row2_col1\" class=\"data row2 col1\" >Dravid</td>\n",
              "      <td id=\"T_c4154_row2_col2\" class=\"data row2 col2\" >40000</td>\n",
              "      <td id=\"T_c4154_row2_col3\" class=\"data row2 col3\" >25000.000000</td>\n",
              "      <td id=\"T_c4154_row2_col4\" class=\"data row2 col4\" >15000.000000</td>\n",
              "    </tr>\n",
              "    <tr>\n",
              "      <td id=\"T_c4154_row3_col0\" class=\"data row3 col0\" >Corporate</td>\n",
              "      <td id=\"T_c4154_row3_col1\" class=\"data row3 col1\" >Karthikeyan</td>\n",
              "      <td id=\"T_c4154_row3_col2\" class=\"data row3 col2\" >40000</td>\n",
              "      <td id=\"T_c4154_row3_col3\" class=\"data row3 col3\" >nan</td>\n",
              "      <td id=\"T_c4154_row3_col4\" class=\"data row3 col4\" >nan</td>\n",
              "    </tr>\n",
              "    <tr>\n",
              "      <td id=\"T_c4154_row4_col0\" class=\"data row4 col0\" >Corporate</td>\n",
              "      <td id=\"T_c4154_row4_col1\" class=\"data row4 col1\" >Bacchan</td>\n",
              "      <td id=\"T_c4154_row4_col2\" class=\"data row4 col2\" >50000</td>\n",
              "      <td id=\"T_c4154_row4_col3\" class=\"data row4 col3\" >40000.000000</td>\n",
              "      <td id=\"T_c4154_row4_col4\" class=\"data row4 col4\" >10000.000000</td>\n",
              "    </tr>\n",
              "    <tr>\n",
              "      <td id=\"T_c4154_row5_col0\" class=\"data row5 col0\" >Corporate</td>\n",
              "      <td id=\"T_c4154_row5_col1\" class=\"data row5 col1\" >Ganesan</td>\n",
              "      <td id=\"T_c4154_row5_col2\" class=\"data row5 col2\" >60000</td>\n",
              "      <td id=\"T_c4154_row5_col3\" class=\"data row5 col3\" >50000.000000</td>\n",
              "      <td id=\"T_c4154_row5_col4\" class=\"data row5 col4\" >10000.000000</td>\n",
              "    </tr>\n",
              "    <tr>\n",
              "      <td id=\"T_c4154_row6_col0\" class=\"data row6 col0\" >Production</td>\n",
              "      <td id=\"T_c4154_row6_col1\" class=\"data row6 col1\" >Dhoni</td>\n",
              "      <td id=\"T_c4154_row6_col2\" class=\"data row6 col2\" >9000</td>\n",
              "      <td id=\"T_c4154_row6_col3\" class=\"data row6 col3\" >nan</td>\n",
              "      <td id=\"T_c4154_row6_col4\" class=\"data row6 col4\" >nan</td>\n",
              "    </tr>\n",
              "    <tr>\n",
              "      <td id=\"T_c4154_row7_col0\" class=\"data row7 col0\" >Production</td>\n",
              "      <td id=\"T_c4154_row7_col1\" class=\"data row7 col1\" >Ganguly</td>\n",
              "      <td id=\"T_c4154_row7_col2\" class=\"data row7 col2\" >20000</td>\n",
              "      <td id=\"T_c4154_row7_col3\" class=\"data row7 col3\" >9000.000000</td>\n",
              "      <td id=\"T_c4154_row7_col4\" class=\"data row7 col4\" >11000.000000</td>\n",
              "    </tr>\n",
              "    <tr>\n",
              "      <td id=\"T_c4154_row8_col0\" class=\"data row8 col0\" >Production</td>\n",
              "      <td id=\"T_c4154_row8_col1\" class=\"data row8 col1\" >Mukherjee</td>\n",
              "      <td id=\"T_c4154_row8_col2\" class=\"data row8 col2\" >25000</td>\n",
              "      <td id=\"T_c4154_row8_col3\" class=\"data row8 col3\" >20000.000000</td>\n",
              "      <td id=\"T_c4154_row8_col4\" class=\"data row8 col4\" >5000.000000</td>\n",
              "    </tr>\n",
              "    <tr>\n",
              "      <td id=\"T_c4154_row9_col0\" class=\"data row9 col0\" >Sales</td>\n",
              "      <td id=\"T_c4154_row9_col1\" class=\"data row9 col1\" >Dikshit</td>\n",
              "      <td id=\"T_c4154_row9_col2\" class=\"data row9 col2\" >10000</td>\n",
              "      <td id=\"T_c4154_row9_col3\" class=\"data row9 col3\" >nan</td>\n",
              "      <td id=\"T_c4154_row9_col4\" class=\"data row9 col4\" >nan</td>\n",
              "    </tr>\n",
              "    <tr>\n",
              "      <td id=\"T_c4154_row10_col0\" class=\"data row10 col0\" >Sales</td>\n",
              "      <td id=\"T_c4154_row10_col1\" class=\"data row10 col1\" >Sehwag</td>\n",
              "      <td id=\"T_c4154_row10_col2\" class=\"data row10 col2\" >15000</td>\n",
              "      <td id=\"T_c4154_row10_col3\" class=\"data row10 col3\" >10000.000000</td>\n",
              "      <td id=\"T_c4154_row10_col4\" class=\"data row10 col4\" >5000.000000</td>\n",
              "    </tr>\n",
              "    <tr>\n",
              "      <td id=\"T_c4154_row11_col0\" class=\"data row11 col0\" >Sales</td>\n",
              "      <td id=\"T_c4154_row11_col1\" class=\"data row11 col1\" >Khan</td>\n",
              "      <td id=\"T_c4154_row11_col2\" class=\"data row11 col2\" >30000</td>\n",
              "      <td id=\"T_c4154_row11_col3\" class=\"data row11 col3\" >15000.000000</td>\n",
              "      <td id=\"T_c4154_row11_col4\" class=\"data row11 col4\" >15000.000000</td>\n",
              "    </tr>\n",
              "  </tbody>\n",
              "</table>\n"
            ]
          },
          "metadata": {},
          "execution_count": 81
        }
      ]
    },
    {
      "cell_type": "markdown",
      "source": [
        "#Transpose / Pivot\n",
        "https://www.sqlshack.com/how-to-use-the-crosstab-function-in-postgresql/"
      ],
      "metadata": {
        "id": "V6Bt-yTXSITF"
      }
    },
    {
      "cell_type": "code",
      "source": [
        "!psql -h localhost -p 5432 -Uupraxis -ddbpraxis -c \"create extension tablefunc;\""
      ],
      "metadata": {
        "colab": {
          "base_uri": "https://localhost:8080/"
        },
        "id": "ZgVgr1DfYs_R",
        "outputId": "6e14d5ed-fbe6-4837-8470-0d8a0e833bb7"
      },
      "execution_count": 82,
      "outputs": [
        {
          "output_type": "stream",
          "name": "stdout",
          "text": [
            "CREATE EXTENSION\n"
          ]
        }
      ]
    },
    {
      "cell_type": "code",
      "source": [
        "runSelect('select * from dept')"
      ],
      "metadata": {
        "colab": {
          "base_uri": "https://localhost:8080/",
          "height": 206
        },
        "id": "Sa9IpGXwSKWe",
        "outputId": "d1060b0a-33c9-4e8e-d4b7-355b74ae1f9f"
      },
      "execution_count": 83,
      "outputs": [
        {
          "output_type": "execute_result",
          "data": {
            "text/plain": [
              "<pandas.io.formats.style.Styler at 0x7e181f8c7650>"
            ],
            "text/html": [
              "<style type=\"text/css\">\n",
              "</style>\n",
              "<table id=\"T_8786a\" class=\"dataframe\">\n",
              "  <thead>\n",
              "    <tr>\n",
              "      <th id=\"T_8786a_level0_col0\" class=\"col_heading level0 col0\" >deptid</th>\n",
              "      <th id=\"T_8786a_level0_col1\" class=\"col_heading level0 col1\" >deptname</th>\n",
              "      <th id=\"T_8786a_level0_col2\" class=\"col_heading level0 col2\" >managerid</th>\n",
              "      <th id=\"T_8786a_level0_col3\" class=\"col_heading level0 col3\" >location</th>\n",
              "      <th id=\"T_8786a_level0_col4\" class=\"col_heading level0 col4\" >locationid</th>\n",
              "    </tr>\n",
              "  </thead>\n",
              "  <tbody>\n",
              "    <tr>\n",
              "      <td id=\"T_8786a_row0_col0\" class=\"data row0 col0\" >10</td>\n",
              "      <td id=\"T_8786a_row0_col1\" class=\"data row0 col1\" >Corporate</td>\n",
              "      <td id=\"T_8786a_row0_col2\" class=\"data row0 col2\" >299034</td>\n",
              "      <td id=\"T_8786a_row0_col3\" class=\"data row0 col3\" >Calcutta</td>\n",
              "      <td id=\"T_8786a_row0_col4\" class=\"data row0 col4\" >1</td>\n",
              "    </tr>\n",
              "    <tr>\n",
              "      <td id=\"T_8786a_row1_col0\" class=\"data row1 col0\" >20</td>\n",
              "      <td id=\"T_8786a_row1_col1\" class=\"data row1 col1\" >Sales</td>\n",
              "      <td id=\"T_8786a_row1_col2\" class=\"data row1 col2\" >239456</td>\n",
              "      <td id=\"T_8786a_row1_col3\" class=\"data row1 col3\" >Calcutta</td>\n",
              "      <td id=\"T_8786a_row1_col4\" class=\"data row1 col4\" >1</td>\n",
              "    </tr>\n",
              "    <tr>\n",
              "      <td id=\"T_8786a_row2_col0\" class=\"data row2 col0\" >30</td>\n",
              "      <td id=\"T_8786a_row2_col1\" class=\"data row2 col1\" >Accounts</td>\n",
              "      <td id=\"T_8786a_row2_col2\" class=\"data row2 col2\" >822134</td>\n",
              "      <td id=\"T_8786a_row2_col3\" class=\"data row2 col3\" >Calcutta</td>\n",
              "      <td id=\"T_8786a_row2_col4\" class=\"data row2 col4\" >1</td>\n",
              "    </tr>\n",
              "    <tr>\n",
              "      <td id=\"T_8786a_row3_col0\" class=\"data row3 col0\" >40</td>\n",
              "      <td id=\"T_8786a_row3_col1\" class=\"data row3 col1\" >Production</td>\n",
              "      <td id=\"T_8786a_row3_col2\" class=\"data row3 col2\" >349870</td>\n",
              "      <td id=\"T_8786a_row3_col3\" class=\"data row3 col3\" >Bombay</td>\n",
              "      <td id=\"T_8786a_row3_col4\" class=\"data row3 col4\" >2</td>\n",
              "    </tr>\n",
              "    <tr>\n",
              "      <td id=\"T_8786a_row4_col0\" class=\"data row4 col0\" >60</td>\n",
              "      <td id=\"T_8786a_row4_col1\" class=\"data row4 col1\" >Research</td>\n",
              "      <td id=\"T_8786a_row4_col2\" class=\"data row4 col2\" >546224</td>\n",
              "      <td id=\"T_8786a_row4_col3\" class=\"data row4 col3\" >Delhi</td>\n",
              "      <td id=\"T_8786a_row4_col4\" class=\"data row4 col4\" >3</td>\n",
              "    </tr>\n",
              "  </tbody>\n",
              "</table>\n"
            ]
          },
          "metadata": {},
          "execution_count": 83
        }
      ]
    },
    {
      "cell_type": "code",
      "source": [
        "sql = \"\\\n",
        "select * from \\\n",
        "crosstab('select location::text,locationid::text,deptname::text from dept order by 1,2') as locations \\\n",
        "(location text, dep1 text, dep2 text, dep3 text, dep4 text)\\\n",
        "\"\n",
        "runSelect(sql)"
      ],
      "metadata": {
        "colab": {
          "base_uri": "https://localhost:8080/",
          "height": 143
        },
        "id": "Iukqh6TRVo-9",
        "outputId": "f497b435-7a95-447d-eeef-20fc038cc6d8"
      },
      "execution_count": 84,
      "outputs": [
        {
          "output_type": "execute_result",
          "data": {
            "text/plain": [
              "<pandas.io.formats.style.Styler at 0x7e181f8e1850>"
            ],
            "text/html": [
              "<style type=\"text/css\">\n",
              "</style>\n",
              "<table id=\"T_2b2ae\" class=\"dataframe\">\n",
              "  <thead>\n",
              "    <tr>\n",
              "      <th id=\"T_2b2ae_level0_col0\" class=\"col_heading level0 col0\" >location</th>\n",
              "      <th id=\"T_2b2ae_level0_col1\" class=\"col_heading level0 col1\" >dep1</th>\n",
              "      <th id=\"T_2b2ae_level0_col2\" class=\"col_heading level0 col2\" >dep2</th>\n",
              "      <th id=\"T_2b2ae_level0_col3\" class=\"col_heading level0 col3\" >dep3</th>\n",
              "      <th id=\"T_2b2ae_level0_col4\" class=\"col_heading level0 col4\" >dep4</th>\n",
              "    </tr>\n",
              "  </thead>\n",
              "  <tbody>\n",
              "    <tr>\n",
              "      <td id=\"T_2b2ae_row0_col0\" class=\"data row0 col0\" >Bombay</td>\n",
              "      <td id=\"T_2b2ae_row0_col1\" class=\"data row0 col1\" >Production</td>\n",
              "      <td id=\"T_2b2ae_row0_col2\" class=\"data row0 col2\" >None</td>\n",
              "      <td id=\"T_2b2ae_row0_col3\" class=\"data row0 col3\" >None</td>\n",
              "      <td id=\"T_2b2ae_row0_col4\" class=\"data row0 col4\" >None</td>\n",
              "    </tr>\n",
              "    <tr>\n",
              "      <td id=\"T_2b2ae_row1_col0\" class=\"data row1 col0\" >Calcutta</td>\n",
              "      <td id=\"T_2b2ae_row1_col1\" class=\"data row1 col1\" >Corporate</td>\n",
              "      <td id=\"T_2b2ae_row1_col2\" class=\"data row1 col2\" >Sales</td>\n",
              "      <td id=\"T_2b2ae_row1_col3\" class=\"data row1 col3\" >Accounts</td>\n",
              "      <td id=\"T_2b2ae_row1_col4\" class=\"data row1 col4\" >None</td>\n",
              "    </tr>\n",
              "    <tr>\n",
              "      <td id=\"T_2b2ae_row2_col0\" class=\"data row2 col0\" >Delhi</td>\n",
              "      <td id=\"T_2b2ae_row2_col1\" class=\"data row2 col1\" >Research</td>\n",
              "      <td id=\"T_2b2ae_row2_col2\" class=\"data row2 col2\" >None</td>\n",
              "      <td id=\"T_2b2ae_row2_col3\" class=\"data row2 col3\" >None</td>\n",
              "      <td id=\"T_2b2ae_row2_col4\" class=\"data row2 col4\" >None</td>\n",
              "    </tr>\n",
              "  </tbody>\n",
              "</table>\n"
            ]
          },
          "metadata": {},
          "execution_count": 84
        }
      ]
    },
    {
      "cell_type": "markdown",
      "source": [
        "# Insert | Delete | Update"
      ],
      "metadata": {
        "id": "REcqZ7K0DYqi"
      }
    },
    {
      "cell_type": "code",
      "source": [
        "runSelect(\"select * from dept\")"
      ],
      "metadata": {
        "id": "xGgCH9vGDlsI",
        "outputId": "049642f2-01e4-482a-8615-c70528068643",
        "colab": {
          "base_uri": "https://localhost:8080/",
          "height": 206
        }
      },
      "execution_count": 85,
      "outputs": [
        {
          "output_type": "execute_result",
          "data": {
            "text/plain": [
              "<pandas.io.formats.style.Styler at 0x7e181f8eb850>"
            ],
            "text/html": [
              "<style type=\"text/css\">\n",
              "</style>\n",
              "<table id=\"T_ccff3\" class=\"dataframe\">\n",
              "  <thead>\n",
              "    <tr>\n",
              "      <th id=\"T_ccff3_level0_col0\" class=\"col_heading level0 col0\" >deptid</th>\n",
              "      <th id=\"T_ccff3_level0_col1\" class=\"col_heading level0 col1\" >deptname</th>\n",
              "      <th id=\"T_ccff3_level0_col2\" class=\"col_heading level0 col2\" >managerid</th>\n",
              "      <th id=\"T_ccff3_level0_col3\" class=\"col_heading level0 col3\" >location</th>\n",
              "      <th id=\"T_ccff3_level0_col4\" class=\"col_heading level0 col4\" >locationid</th>\n",
              "    </tr>\n",
              "  </thead>\n",
              "  <tbody>\n",
              "    <tr>\n",
              "      <td id=\"T_ccff3_row0_col0\" class=\"data row0 col0\" >10</td>\n",
              "      <td id=\"T_ccff3_row0_col1\" class=\"data row0 col1\" >Corporate</td>\n",
              "      <td id=\"T_ccff3_row0_col2\" class=\"data row0 col2\" >299034</td>\n",
              "      <td id=\"T_ccff3_row0_col3\" class=\"data row0 col3\" >Calcutta</td>\n",
              "      <td id=\"T_ccff3_row0_col4\" class=\"data row0 col4\" >1</td>\n",
              "    </tr>\n",
              "    <tr>\n",
              "      <td id=\"T_ccff3_row1_col0\" class=\"data row1 col0\" >20</td>\n",
              "      <td id=\"T_ccff3_row1_col1\" class=\"data row1 col1\" >Sales</td>\n",
              "      <td id=\"T_ccff3_row1_col2\" class=\"data row1 col2\" >239456</td>\n",
              "      <td id=\"T_ccff3_row1_col3\" class=\"data row1 col3\" >Calcutta</td>\n",
              "      <td id=\"T_ccff3_row1_col4\" class=\"data row1 col4\" >1</td>\n",
              "    </tr>\n",
              "    <tr>\n",
              "      <td id=\"T_ccff3_row2_col0\" class=\"data row2 col0\" >30</td>\n",
              "      <td id=\"T_ccff3_row2_col1\" class=\"data row2 col1\" >Accounts</td>\n",
              "      <td id=\"T_ccff3_row2_col2\" class=\"data row2 col2\" >822134</td>\n",
              "      <td id=\"T_ccff3_row2_col3\" class=\"data row2 col3\" >Calcutta</td>\n",
              "      <td id=\"T_ccff3_row2_col4\" class=\"data row2 col4\" >1</td>\n",
              "    </tr>\n",
              "    <tr>\n",
              "      <td id=\"T_ccff3_row3_col0\" class=\"data row3 col0\" >40</td>\n",
              "      <td id=\"T_ccff3_row3_col1\" class=\"data row3 col1\" >Production</td>\n",
              "      <td id=\"T_ccff3_row3_col2\" class=\"data row3 col2\" >349870</td>\n",
              "      <td id=\"T_ccff3_row3_col3\" class=\"data row3 col3\" >Bombay</td>\n",
              "      <td id=\"T_ccff3_row3_col4\" class=\"data row3 col4\" >2</td>\n",
              "    </tr>\n",
              "    <tr>\n",
              "      <td id=\"T_ccff3_row4_col0\" class=\"data row4 col0\" >60</td>\n",
              "      <td id=\"T_ccff3_row4_col1\" class=\"data row4 col1\" >Research</td>\n",
              "      <td id=\"T_ccff3_row4_col2\" class=\"data row4 col2\" >546224</td>\n",
              "      <td id=\"T_ccff3_row4_col3\" class=\"data row4 col3\" >Delhi</td>\n",
              "      <td id=\"T_ccff3_row4_col4\" class=\"data row4 col4\" >3</td>\n",
              "    </tr>\n",
              "  </tbody>\n",
              "</table>\n"
            ]
          },
          "metadata": {},
          "execution_count": 85
        }
      ]
    },
    {
      "cell_type": "code",
      "source": [
        "runCmd(\"insert into Dept (DeptID, DeptName, ManagerID, Location,LocationID) VALUES \\\n",
        "\t('11', 'Corporate2', '299035', 'Calcutta','1')\")\n",
        "runSelect(\"select * from dept\")"
      ],
      "metadata": {
        "id": "iyW0EobdDuMY",
        "outputId": "e619567b-5042-406c-cf8f-5c4fc0f60ef8",
        "colab": {
          "base_uri": "https://localhost:8080/",
          "height": 255
        }
      },
      "execution_count": 86,
      "outputs": [
        {
          "output_type": "stream",
          "name": "stdout",
          "text": [
            "Command executed\n"
          ]
        },
        {
          "output_type": "execute_result",
          "data": {
            "text/plain": [
              "<pandas.io.formats.style.Styler at 0x7e181f8e97d0>"
            ],
            "text/html": [
              "<style type=\"text/css\">\n",
              "</style>\n",
              "<table id=\"T_4d387\" class=\"dataframe\">\n",
              "  <thead>\n",
              "    <tr>\n",
              "      <th id=\"T_4d387_level0_col0\" class=\"col_heading level0 col0\" >deptid</th>\n",
              "      <th id=\"T_4d387_level0_col1\" class=\"col_heading level0 col1\" >deptname</th>\n",
              "      <th id=\"T_4d387_level0_col2\" class=\"col_heading level0 col2\" >managerid</th>\n",
              "      <th id=\"T_4d387_level0_col3\" class=\"col_heading level0 col3\" >location</th>\n",
              "      <th id=\"T_4d387_level0_col4\" class=\"col_heading level0 col4\" >locationid</th>\n",
              "    </tr>\n",
              "  </thead>\n",
              "  <tbody>\n",
              "    <tr>\n",
              "      <td id=\"T_4d387_row0_col0\" class=\"data row0 col0\" >10</td>\n",
              "      <td id=\"T_4d387_row0_col1\" class=\"data row0 col1\" >Corporate</td>\n",
              "      <td id=\"T_4d387_row0_col2\" class=\"data row0 col2\" >299034</td>\n",
              "      <td id=\"T_4d387_row0_col3\" class=\"data row0 col3\" >Calcutta</td>\n",
              "      <td id=\"T_4d387_row0_col4\" class=\"data row0 col4\" >1</td>\n",
              "    </tr>\n",
              "    <tr>\n",
              "      <td id=\"T_4d387_row1_col0\" class=\"data row1 col0\" >20</td>\n",
              "      <td id=\"T_4d387_row1_col1\" class=\"data row1 col1\" >Sales</td>\n",
              "      <td id=\"T_4d387_row1_col2\" class=\"data row1 col2\" >239456</td>\n",
              "      <td id=\"T_4d387_row1_col3\" class=\"data row1 col3\" >Calcutta</td>\n",
              "      <td id=\"T_4d387_row1_col4\" class=\"data row1 col4\" >1</td>\n",
              "    </tr>\n",
              "    <tr>\n",
              "      <td id=\"T_4d387_row2_col0\" class=\"data row2 col0\" >30</td>\n",
              "      <td id=\"T_4d387_row2_col1\" class=\"data row2 col1\" >Accounts</td>\n",
              "      <td id=\"T_4d387_row2_col2\" class=\"data row2 col2\" >822134</td>\n",
              "      <td id=\"T_4d387_row2_col3\" class=\"data row2 col3\" >Calcutta</td>\n",
              "      <td id=\"T_4d387_row2_col4\" class=\"data row2 col4\" >1</td>\n",
              "    </tr>\n",
              "    <tr>\n",
              "      <td id=\"T_4d387_row3_col0\" class=\"data row3 col0\" >40</td>\n",
              "      <td id=\"T_4d387_row3_col1\" class=\"data row3 col1\" >Production</td>\n",
              "      <td id=\"T_4d387_row3_col2\" class=\"data row3 col2\" >349870</td>\n",
              "      <td id=\"T_4d387_row3_col3\" class=\"data row3 col3\" >Bombay</td>\n",
              "      <td id=\"T_4d387_row3_col4\" class=\"data row3 col4\" >2</td>\n",
              "    </tr>\n",
              "    <tr>\n",
              "      <td id=\"T_4d387_row4_col0\" class=\"data row4 col0\" >60</td>\n",
              "      <td id=\"T_4d387_row4_col1\" class=\"data row4 col1\" >Research</td>\n",
              "      <td id=\"T_4d387_row4_col2\" class=\"data row4 col2\" >546224</td>\n",
              "      <td id=\"T_4d387_row4_col3\" class=\"data row4 col3\" >Delhi</td>\n",
              "      <td id=\"T_4d387_row4_col4\" class=\"data row4 col4\" >3</td>\n",
              "    </tr>\n",
              "    <tr>\n",
              "      <td id=\"T_4d387_row5_col0\" class=\"data row5 col0\" >11</td>\n",
              "      <td id=\"T_4d387_row5_col1\" class=\"data row5 col1\" >Corporate2</td>\n",
              "      <td id=\"T_4d387_row5_col2\" class=\"data row5 col2\" >299035</td>\n",
              "      <td id=\"T_4d387_row5_col3\" class=\"data row5 col3\" >Calcutta</td>\n",
              "      <td id=\"T_4d387_row5_col4\" class=\"data row5 col4\" >1</td>\n",
              "    </tr>\n",
              "  </tbody>\n",
              "</table>\n"
            ]
          },
          "metadata": {},
          "execution_count": 86
        }
      ]
    },
    {
      "cell_type": "code",
      "source": [
        "runCmd(\"update dept set deptname = 'Marketing' where deptid = '11'\")\n",
        "runSelect(\"select * from dept\")"
      ],
      "metadata": {
        "id": "DqdnmD2pEQNq",
        "outputId": "68adbdf0-d729-4a37-e0b3-e54c8871318e",
        "colab": {
          "base_uri": "https://localhost:8080/",
          "height": 255
        }
      },
      "execution_count": 87,
      "outputs": [
        {
          "output_type": "stream",
          "name": "stdout",
          "text": [
            "Command executed\n"
          ]
        },
        {
          "output_type": "execute_result",
          "data": {
            "text/plain": [
              "<pandas.io.formats.style.Styler at 0x7e181f8e9190>"
            ],
            "text/html": [
              "<style type=\"text/css\">\n",
              "</style>\n",
              "<table id=\"T_fd797\" class=\"dataframe\">\n",
              "  <thead>\n",
              "    <tr>\n",
              "      <th id=\"T_fd797_level0_col0\" class=\"col_heading level0 col0\" >deptid</th>\n",
              "      <th id=\"T_fd797_level0_col1\" class=\"col_heading level0 col1\" >deptname</th>\n",
              "      <th id=\"T_fd797_level0_col2\" class=\"col_heading level0 col2\" >managerid</th>\n",
              "      <th id=\"T_fd797_level0_col3\" class=\"col_heading level0 col3\" >location</th>\n",
              "      <th id=\"T_fd797_level0_col4\" class=\"col_heading level0 col4\" >locationid</th>\n",
              "    </tr>\n",
              "  </thead>\n",
              "  <tbody>\n",
              "    <tr>\n",
              "      <td id=\"T_fd797_row0_col0\" class=\"data row0 col0\" >10</td>\n",
              "      <td id=\"T_fd797_row0_col1\" class=\"data row0 col1\" >Corporate</td>\n",
              "      <td id=\"T_fd797_row0_col2\" class=\"data row0 col2\" >299034</td>\n",
              "      <td id=\"T_fd797_row0_col3\" class=\"data row0 col3\" >Calcutta</td>\n",
              "      <td id=\"T_fd797_row0_col4\" class=\"data row0 col4\" >1</td>\n",
              "    </tr>\n",
              "    <tr>\n",
              "      <td id=\"T_fd797_row1_col0\" class=\"data row1 col0\" >20</td>\n",
              "      <td id=\"T_fd797_row1_col1\" class=\"data row1 col1\" >Sales</td>\n",
              "      <td id=\"T_fd797_row1_col2\" class=\"data row1 col2\" >239456</td>\n",
              "      <td id=\"T_fd797_row1_col3\" class=\"data row1 col3\" >Calcutta</td>\n",
              "      <td id=\"T_fd797_row1_col4\" class=\"data row1 col4\" >1</td>\n",
              "    </tr>\n",
              "    <tr>\n",
              "      <td id=\"T_fd797_row2_col0\" class=\"data row2 col0\" >30</td>\n",
              "      <td id=\"T_fd797_row2_col1\" class=\"data row2 col1\" >Accounts</td>\n",
              "      <td id=\"T_fd797_row2_col2\" class=\"data row2 col2\" >822134</td>\n",
              "      <td id=\"T_fd797_row2_col3\" class=\"data row2 col3\" >Calcutta</td>\n",
              "      <td id=\"T_fd797_row2_col4\" class=\"data row2 col4\" >1</td>\n",
              "    </tr>\n",
              "    <tr>\n",
              "      <td id=\"T_fd797_row3_col0\" class=\"data row3 col0\" >40</td>\n",
              "      <td id=\"T_fd797_row3_col1\" class=\"data row3 col1\" >Production</td>\n",
              "      <td id=\"T_fd797_row3_col2\" class=\"data row3 col2\" >349870</td>\n",
              "      <td id=\"T_fd797_row3_col3\" class=\"data row3 col3\" >Bombay</td>\n",
              "      <td id=\"T_fd797_row3_col4\" class=\"data row3 col4\" >2</td>\n",
              "    </tr>\n",
              "    <tr>\n",
              "      <td id=\"T_fd797_row4_col0\" class=\"data row4 col0\" >60</td>\n",
              "      <td id=\"T_fd797_row4_col1\" class=\"data row4 col1\" >Research</td>\n",
              "      <td id=\"T_fd797_row4_col2\" class=\"data row4 col2\" >546224</td>\n",
              "      <td id=\"T_fd797_row4_col3\" class=\"data row4 col3\" >Delhi</td>\n",
              "      <td id=\"T_fd797_row4_col4\" class=\"data row4 col4\" >3</td>\n",
              "    </tr>\n",
              "    <tr>\n",
              "      <td id=\"T_fd797_row5_col0\" class=\"data row5 col0\" >11</td>\n",
              "      <td id=\"T_fd797_row5_col1\" class=\"data row5 col1\" >Marketing</td>\n",
              "      <td id=\"T_fd797_row5_col2\" class=\"data row5 col2\" >299035</td>\n",
              "      <td id=\"T_fd797_row5_col3\" class=\"data row5 col3\" >Calcutta</td>\n",
              "      <td id=\"T_fd797_row5_col4\" class=\"data row5 col4\" >1</td>\n",
              "    </tr>\n",
              "  </tbody>\n",
              "</table>\n"
            ]
          },
          "metadata": {},
          "execution_count": 87
        }
      ]
    },
    {
      "cell_type": "code",
      "source": [
        "runCmd(\"delete from dept where deptid = '11'\")\n",
        "runSelect(\"select * from dept\")"
      ],
      "metadata": {
        "id": "nsnJnNrEF6iS",
        "outputId": "1b58372b-b3af-48d5-9ee1-022ec52154fd",
        "colab": {
          "base_uri": "https://localhost:8080/",
          "height": 224
        }
      },
      "execution_count": 88,
      "outputs": [
        {
          "output_type": "stream",
          "name": "stdout",
          "text": [
            "Command executed\n"
          ]
        },
        {
          "output_type": "execute_result",
          "data": {
            "text/plain": [
              "<pandas.io.formats.style.Styler at 0x7e181f8f4390>"
            ],
            "text/html": [
              "<style type=\"text/css\">\n",
              "</style>\n",
              "<table id=\"T_6a08b\" class=\"dataframe\">\n",
              "  <thead>\n",
              "    <tr>\n",
              "      <th id=\"T_6a08b_level0_col0\" class=\"col_heading level0 col0\" >deptid</th>\n",
              "      <th id=\"T_6a08b_level0_col1\" class=\"col_heading level0 col1\" >deptname</th>\n",
              "      <th id=\"T_6a08b_level0_col2\" class=\"col_heading level0 col2\" >managerid</th>\n",
              "      <th id=\"T_6a08b_level0_col3\" class=\"col_heading level0 col3\" >location</th>\n",
              "      <th id=\"T_6a08b_level0_col4\" class=\"col_heading level0 col4\" >locationid</th>\n",
              "    </tr>\n",
              "  </thead>\n",
              "  <tbody>\n",
              "    <tr>\n",
              "      <td id=\"T_6a08b_row0_col0\" class=\"data row0 col0\" >10</td>\n",
              "      <td id=\"T_6a08b_row0_col1\" class=\"data row0 col1\" >Corporate</td>\n",
              "      <td id=\"T_6a08b_row0_col2\" class=\"data row0 col2\" >299034</td>\n",
              "      <td id=\"T_6a08b_row0_col3\" class=\"data row0 col3\" >Calcutta</td>\n",
              "      <td id=\"T_6a08b_row0_col4\" class=\"data row0 col4\" >1</td>\n",
              "    </tr>\n",
              "    <tr>\n",
              "      <td id=\"T_6a08b_row1_col0\" class=\"data row1 col0\" >20</td>\n",
              "      <td id=\"T_6a08b_row1_col1\" class=\"data row1 col1\" >Sales</td>\n",
              "      <td id=\"T_6a08b_row1_col2\" class=\"data row1 col2\" >239456</td>\n",
              "      <td id=\"T_6a08b_row1_col3\" class=\"data row1 col3\" >Calcutta</td>\n",
              "      <td id=\"T_6a08b_row1_col4\" class=\"data row1 col4\" >1</td>\n",
              "    </tr>\n",
              "    <tr>\n",
              "      <td id=\"T_6a08b_row2_col0\" class=\"data row2 col0\" >30</td>\n",
              "      <td id=\"T_6a08b_row2_col1\" class=\"data row2 col1\" >Accounts</td>\n",
              "      <td id=\"T_6a08b_row2_col2\" class=\"data row2 col2\" >822134</td>\n",
              "      <td id=\"T_6a08b_row2_col3\" class=\"data row2 col3\" >Calcutta</td>\n",
              "      <td id=\"T_6a08b_row2_col4\" class=\"data row2 col4\" >1</td>\n",
              "    </tr>\n",
              "    <tr>\n",
              "      <td id=\"T_6a08b_row3_col0\" class=\"data row3 col0\" >40</td>\n",
              "      <td id=\"T_6a08b_row3_col1\" class=\"data row3 col1\" >Production</td>\n",
              "      <td id=\"T_6a08b_row3_col2\" class=\"data row3 col2\" >349870</td>\n",
              "      <td id=\"T_6a08b_row3_col3\" class=\"data row3 col3\" >Bombay</td>\n",
              "      <td id=\"T_6a08b_row3_col4\" class=\"data row3 col4\" >2</td>\n",
              "    </tr>\n",
              "    <tr>\n",
              "      <td id=\"T_6a08b_row4_col0\" class=\"data row4 col0\" >60</td>\n",
              "      <td id=\"T_6a08b_row4_col1\" class=\"data row4 col1\" >Research</td>\n",
              "      <td id=\"T_6a08b_row4_col2\" class=\"data row4 col2\" >546224</td>\n",
              "      <td id=\"T_6a08b_row4_col3\" class=\"data row4 col3\" >Delhi</td>\n",
              "      <td id=\"T_6a08b_row4_col4\" class=\"data row4 col4\" >3</td>\n",
              "    </tr>\n",
              "  </tbody>\n",
              "</table>\n"
            ]
          },
          "metadata": {},
          "execution_count": 88
        }
      ]
    },
    {
      "cell_type": "code",
      "source": [
        "from datetime import datetime\n",
        "import pytz\n",
        "print('Last tested  ',datetime.now(pytz.timezone('Asia/Kolkata')))"
      ],
      "metadata": {
        "colab": {
          "base_uri": "https://localhost:8080/"
        },
        "id": "wjBXJVhM605H",
        "outputId": "57ea9736-6be4-46c4-e897-a32612042f9f"
      },
      "execution_count": 89,
      "outputs": [
        {
          "output_type": "stream",
          "name": "stdout",
          "text": [
            "Last tested   2025-02-27 05:45:08.163267+05:30\n"
          ]
        }
      ]
    },
    {
      "cell_type": "markdown",
      "source": [
        "#ChronoTYM <br>\n",
        "In Indic phraseology, tantra is knowledge, a yantra is a device to explore this knowledge and a mantra is the code that unlocks both the tantra and its yantra. Chrono/TYM a sci-fi trilogy that recreates this framework where the first novel Chronotantra defines the contours of a tech driven, futuristic society, the second, Chronoyantra, describes a device used to explore the genesis of this society, while the third, Chronomantra finally reveals the code, the key, that unlocks this puzzle.  [More information](http://bit.ly/chronobooks) <br>\n",
        "![alt text](https://blogger.googleusercontent.com/img/b/R29vZ2xl/AVvXsEjdu_ajYwBRzk5iFYlcs59ZoRMMg6rhNm4JERKspvFJoveJsnfwRlzMICiC37UOja_Bd4sbfLA1pyyBbe0mj3tUfDBXoqCzNUDw3Wux7acoJBaLkWjAvJXfa7drRY2GQRAlFxEY9O7a7raY4RKy7cA3Uxgf5QsaZQ99C9GfXxFSex_rke8ROhAn41t8zOqK/s1640/tymBanner01_3.png)"
      ],
      "metadata": {
        "id": "_gNiZpyW3AzJ"
      }
    }
  ]
}