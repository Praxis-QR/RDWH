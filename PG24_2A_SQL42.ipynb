{
  "nbformat": 4,
  "nbformat_minor": 0,
  "metadata": {
    "colab": {
      "provenance": [],
      "toc_visible": true,
      "include_colab_link": true
    },
    "kernelspec": {
      "name": "python3",
      "display_name": "Python 3"
    },
    "language_info": {
      "name": "python"
    }
  },
  "cells": [
    {
      "cell_type": "markdown",
      "metadata": {
        "id": "view-in-github",
        "colab_type": "text"
      },
      "source": [
        "<a href=\"https://colab.research.google.com/github/Praxis-QR/RDWH/blob/main/PG24_2A_SQL42.ipynb\" target=\"_parent\"><img src=\"https://colab.research.google.com/assets/colab-badge.svg\" alt=\"Open In Colab\"/></a>"
      ]
    },
    {
      "cell_type": "markdown",
      "source": [
        "![Yantrajaal Banner](https://github.com/Praxis-QR/RDWH/raw/main/images/YantraJaalBanner.png)<br>\n",
        "\n",
        "\n",
        "<hr>\n",
        "\n",
        "[Prithwis Mukerjee](http://www.linkedin.com/in/prithwis)<br>"
      ],
      "metadata": {
        "id": "DBzz-qaN2tKu"
      }
    },
    {
      "cell_type": "markdown",
      "source": [
        "![PostgreSQL 42](https://raw.githubusercontent.com/Praxis-QR/RDWH/main/images/PostgreSQL_24.01.png)<br>\n",
        "[SlideDeck](https://docs.google.com/presentation/d/1hdkAGbMxLfO1GYe7RzEo3LhGZhsXkyjIfBqkA72B6LM/edit?usp=sharing)"
      ],
      "metadata": {
        "id": "dBJ6X0LiJtZ6"
      }
    },
    {
      "cell_type": "code",
      "source": [
        "from datetime import datetime\n",
        "import pytz\n",
        "print('ॐ श्री सरस्वत्यै नमः',datetime.now(pytz.timezone('Asia/Calcutta')))\n",
        "!python --version\n",
        "!lsb_release -a"
      ],
      "metadata": {
        "colab": {
          "base_uri": "https://localhost:8080/"
        },
        "id": "XZ9dGt-eUikL",
        "outputId": "c7a7b2c7-486d-4602-90e0-f5590e96014c"
      },
      "execution_count": 1,
      "outputs": [
        {
          "output_type": "stream",
          "name": "stdout",
          "text": [
            "ॐ श्री सरस्वत्यै नमः 2024-02-24 07:19:29.227519+05:30\n",
            "Python 3.10.12\n",
            "No LSB modules are available.\n",
            "Distributor ID:\tUbuntu\n",
            "Description:\tUbuntu 22.04.3 LTS\n",
            "Release:\t22.04\n",
            "Codename:\tjammy\n"
          ]
        }
      ]
    },
    {
      "cell_type": "markdown",
      "source": [
        "#Install & Configure Postgres"
      ],
      "metadata": {
        "id": "nD-QawLT6kDr"
      }
    },
    {
      "cell_type": "markdown",
      "source": [],
      "metadata": {
        "id": "awT1Z45VVONC"
      }
    },
    {
      "cell_type": "markdown",
      "source": [
        "For Connecting to a Postgres server on Amazon RDS, see [this notebook](https://github.com/Praxis-QR/RDWH/blob/main/PG24_1B_Setup.ipynb)"
      ],
      "metadata": {
        "id": "9w29_O07rTPE"
      }
    },
    {
      "cell_type": "code",
      "source": [
        "# Install postgresql server\n",
        "\n",
        "!apt update > /dev/null\n",
        "!apt install postgresql > /dev/null\n",
        "#!pip install psycopg2\n",
        "import psycopg2\n",
        "import pandas as pd\n",
        "#!sudo -u postgres psql -V\n",
        "!psql -V\n",
        "!service postgresql start"
      ],
      "metadata": {
        "colab": {
          "base_uri": "https://localhost:8080/"
        },
        "id": "o_RaqE0OOHP3",
        "outputId": "5302131e-e910-49ac-f22d-7ad7c96fbfb0"
      },
      "execution_count": 2,
      "outputs": [
        {
          "output_type": "stream",
          "name": "stdout",
          "text": [
            "\n",
            "WARNING: apt does not have a stable CLI interface. Use with caution in scripts.\n",
            "\n",
            "\n",
            "WARNING: apt does not have a stable CLI interface. Use with caution in scripts.\n",
            "\n",
            "psql (PostgreSQL) 14.10 (Ubuntu 14.10-0ubuntu0.22.04.1)\n",
            " * Starting PostgreSQL 14 database server\n",
            "   ...done.\n"
          ]
        }
      ]
    },
    {
      "cell_type": "code",
      "source": [
        "# The installation creates Ubuntu user 'postgres' AND a Postgres database user 'postgres' both of which are superusers\n",
        "#!cat /etc/passwd\n",
        "# Use these users to create a new database user called 'upraxis' and give it a password 'upass'\n",
        "#!sudo -u postgres createuser --superuser upraxis\n",
        "!sudo -u postgres createuser upraxis\n",
        "!sudo -u postgres psql -U postgres -c \"ALTER USER upraxis PASSWORD 'upass';\"\n",
        "#\n",
        "# Change the database superuser 'postgres' to a non-default value 'pass'\n",
        "!sudo -u postgres psql -U postgres -c \"ALTER USER postgres PASSWORD 'pass';\"\n",
        "#\n",
        "# Use ubuntu superuser to create database dbpraxis and set its owner to upraxis\n",
        "!sudo -u postgres createdb -O upraxis dbpraxis\n",
        "#\n",
        "# Create file to store the password. Else will be prompted each time\n",
        "#\n",
        "!echo \"localhost:5432:dbpraxis:upraxis:upass\" > ~/.pgpass\n",
        "!echo \"localhost:5432:dbpraxis:postgres:pass\" >> ~/.pgpass\n",
        "!chmod 0600 ~/.pgpass\n",
        "!cat ~/.pgpass\n"
      ],
      "metadata": {
        "colab": {
          "base_uri": "https://localhost:8080/"
        },
        "id": "xr5kHaY_U4CZ",
        "outputId": "bd5551ff-04c7-408f-deb6-91aa13af88b2"
      },
      "execution_count": 3,
      "outputs": [
        {
          "output_type": "stream",
          "name": "stdout",
          "text": [
            "ALTER ROLE\n",
            "ALTER ROLE\n",
            "localhost:5432:dbpraxis:upraxis:upass\n",
            "localhost:5432:dbpraxis:postgres:pass\n"
          ]
        }
      ]
    },
    {
      "cell_type": "markdown",
      "source": [
        "## Create and Load Tables"
      ],
      "metadata": {
        "id": "pHTdNzrU6qUE"
      }
    },
    {
      "cell_type": "code",
      "source": [
        "# Create Two tables using command line interface\n",
        "#\n",
        "!psql -h localhost -p 5432 -Uupraxis -ddbpraxis -c \\\n",
        "\"drop table if exists Dept;\\\n",
        "create table Dept (\\\n",
        "    DeptID char(2),\\\n",
        "    DeptName varchar(20),\\\n",
        "    ManagerID char(6),\\\n",
        "    Location varchar(10),\\\n",
        "    LocationID char(1)\\\n",
        "    );\\\n",
        "insert into Dept (DeptID, DeptName, ManagerID, Location,LocationID) VALUES \\\n",
        "\t('10', 'Corporate', '299034', 'Calcutta','1'), \\\n",
        "\t('20', 'Sales', '239456', 'Calcutta','1'), \\\n",
        "\t('30', 'Accounts', '822134', 'Calcutta','1'), \\\n",
        "\t('40', 'Production', '349870', 'Bombay','2'),\\\n",
        "    ('60', 'Research', '546224', 'Delhi','3');\\\n",
        "\""
      ],
      "metadata": {
        "colab": {
          "base_uri": "https://localhost:8080/"
        },
        "id": "DsUZ9JlEXIir",
        "outputId": "932c5c6d-4892-4268-dc85-351bd5391eb0"
      },
      "execution_count": 4,
      "outputs": [
        {
          "output_type": "stream",
          "name": "stdout",
          "text": [
            "NOTICE:  table \"dept\" does not exist, skipping\n",
            "INSERT 0 5\n"
          ]
        }
      ]
    },
    {
      "cell_type": "code",
      "source": [
        "!psql -h localhost -p 5432 -Uupraxis -ddbpraxis -c \\\n",
        "\"drop table if exists Empl;\\\n",
        "create table Empl \\\n",
        "    (EmpID char(6),\\\n",
        "    LastName varchar(20),\\\n",
        "    FirstName varchar(20),\\\n",
        "    JobDesc varchar(10),\\\n",
        "    JoinDate date,\\\n",
        "    Salary int,\\\n",
        "    Comm decimal(3,2),\\\n",
        "    DeptID char(2),\\\n",
        "    HiredBy char(6)\\\n",
        "    );\\\n",
        "INSERT INTO Empl (EmpID, LastName, FirstName, JobDesc, JoinDate, Salary, Comm, DeptID, HiredBy) \\\n",
        "    VALUES \\\n",
        "\t('742866', 'Bacchan', 'Amitabh', 'Executive', '2003-03-10', 50000, 0.1, '10', NULL), \\\n",
        "\t('349870', 'Mukherjee', 'Rani', 'Manager', '2005-05-04', 25000, 0.06, '40', '742866'), \\\n",
        "\t('865477', 'Dikshit', 'Madhuri', 'Clerk', '2002-04-04', 10000, 0.02, '20', '239456'), \\\n",
        "\t('239456', 'Khan', 'Shahrukh', 'Manager', '2004-01-03', 30000, 0.07, '20', '742866'), \\\n",
        "\t('897889', 'Sehwag', 'Virender', 'Cus_Rep', '2005-01-02', 15000, 0.05, '20', '239456'), \\\n",
        "\t('123980', 'Dhoni', 'Mahender', 'Clerk', '2004-10-09', 9000, 0.02, '40', '349870'), \\\n",
        "\t('822134', 'Dravid', 'Rahul', 'Sr Manager', '2000-06-04', 40000, 0.08, '30', '742866'), \\\n",
        "\t('997445', 'Dalmia', 'Jagmohan', 'Clerk', '2001-07-01', 12000, 0.02, '30', '822134'), \\\n",
        "\t('989007', 'Ganguly', 'Sourav', 'Cus_Rep', '2002-01-01', 20000, 0.03, '40', '299034'), \\\n",
        "\t('299034', 'Ganesan', 'Rekha', 'Director', '2002-10-10', 60000, 0.11, '10', '742866'), \\\n",
        "\t('546223', 'Karthikeyan', 'Narayan', 'Secretary', '2005-12-04', 40000, 0.09, '10', '299034'), \\\n",
        "    ('546224', 'Sunil', 'Chettri', 'Dy Manager', '2006-12-07', 40000, 0.05, '70', '349870'), \\\n",
        "\t('223112', 'Mirza', 'Sania', 'Cus_Rep', '2001-11-19', 25000, 0.04, '30', '822134');\\\n",
        "\""
      ],
      "metadata": {
        "colab": {
          "base_uri": "https://localhost:8080/"
        },
        "id": "5kWs3wyEd9Tm",
        "outputId": "d08a09fb-6a4c-4f84-9306-b621a04195cc"
      },
      "execution_count": 5,
      "outputs": [
        {
          "output_type": "stream",
          "name": "stdout",
          "text": [
            "NOTICE:  table \"empl\" does not exist, skipping\n",
            "INSERT 0 13\n"
          ]
        }
      ]
    },
    {
      "cell_type": "code",
      "source": [
        "#!psql -h localhost -p 5432 -Upostgres -dpraxisdb -c \"select * from dept;\"\n",
        "#!psql -h localhost -p 5432 -Uupraxis -ddbpraxis -c \"select * from dept;\""
      ],
      "metadata": {
        "id": "HyBUhbAI2PV1"
      },
      "execution_count": 6,
      "outputs": []
    },
    {
      "cell_type": "code",
      "source": [
        "#!psql -h localhost -p 5432 -U postgres -d praxisdb -c \"select * from empl;\"\n",
        "#!psql -h localhost -p 5432 -U upraxis -d dbpraxis -c \"select * from empl;\""
      ],
      "metadata": {
        "id": "byY2iccO4ctF"
      },
      "execution_count": 7,
      "outputs": []
    },
    {
      "cell_type": "markdown",
      "source": [
        "## Python Access\n",
        "https://www.tutorialspoint.com/python_data_access/python_postgresql_database_connection.htm"
      ],
      "metadata": {
        "id": "faZEj8_7CeZ8"
      }
    },
    {
      "cell_type": "code",
      "source": [
        "# Local Colab server\n",
        "\n",
        "conn = psycopg2.connect(database=\"dbpraxis\", user='upraxis', password='upass', host='127.0.0.1', port= '5432')\n",
        "#Creating a cursor object using the cursor() method\n",
        "cursor = conn.cursor()\n",
        "#Executing an MYSQL function using the execute() method\n",
        "cursor.execute(\"select version()\")\n",
        "# Fetch a single row using fetchone() method.\n",
        "data = cursor.fetchone()\n",
        "print(\"Connection established to: \",data)\n",
        "#Closing the connection\n",
        "conn.close()"
      ],
      "metadata": {
        "id": "wcE-8UBnC4zV",
        "outputId": "7344b208-6876-4428-b753-c27577b3e86a",
        "colab": {
          "base_uri": "https://localhost:8080/"
        }
      },
      "execution_count": 8,
      "outputs": [
        {
          "output_type": "stream",
          "name": "stdout",
          "text": [
            "Connection established to:  ('PostgreSQL 14.10 (Ubuntu 14.10-0ubuntu0.22.04.1) on x86_64-pc-linux-gnu, compiled by gcc (Ubuntu 11.4.0-1ubuntu1~22.04) 11.4.0, 64-bit',)\n"
          ]
        }
      ]
    },
    {
      "cell_type": "code",
      "source": [
        "# function to execute SQL select statements with Postgres\n",
        "#\n",
        "def runSelect(s):\n",
        "    #Set up connection\n",
        "\n",
        "    conn = psycopg2.connect(database=\"dbpraxis\", user='upraxis', password='upass', host='127.0.0.1', port= '5432')\n",
        "    #Setting auto commit true\n",
        "    conn.autocommit = True\n",
        "    #Creating a cursor object using the cursor() method\n",
        "    cursor = conn.cursor()\n",
        "    #Retrieving data\n",
        "    cursor.execute(s)\n",
        "    #Fetching all rows from the table\n",
        "    result = cursor.fetchall();\n",
        "    #print(len(result))\n",
        "    if (len(result)) > 0:                                       # result contains at least one row\n",
        "        colnames = [desc[0] for desc in cursor.description]     # get column names\n",
        "        #print(colnames)\n",
        "        resultdf = pd.DataFrame(result)                         # convert list to dataframe\n",
        "        resultdf.columns = colnames                             # add column names\n",
        "        #return resultdf\n",
        "        return resultdf.style.hide()                            # hide the index\n",
        "    else:\n",
        "        print('no records found')\n",
        "        return\n",
        "# function to execute SQL non-select statements with Postgres\n",
        "#\n",
        "def runCmd(s):\n",
        "    #Create Connection\n",
        "    conn = psycopg2.connect(database=\"dbpraxis\", user='upraxis', password='upass', host='127.0.0.1', port= '5432')\n",
        "    #Creating a cursor object using the cursor() method\n",
        "    cursor = conn.cursor()\n",
        "    try:\n",
        "        cursor.execute(s)\n",
        "        print('Command executed')\n",
        "        conn.commit()\n",
        "    except:\n",
        "        print('Command failed')\n",
        "    #Closing the connection\n",
        "    conn.close()"
      ],
      "metadata": {
        "id": "ht2k7-3iggNd"
      },
      "execution_count": 9,
      "outputs": []
    },
    {
      "cell_type": "markdown",
      "source": [
        "#Select - getting started"
      ],
      "metadata": {
        "id": "k0rXiciVtu7Q"
      }
    },
    {
      "cell_type": "code",
      "source": [
        "#runSelect(\"select * from dept where deptid = '100'\")\n",
        "#runSelect(\"select * from dept where deptid = '10'\")\n",
        "runSelect(\"select * from dept\")"
      ],
      "metadata": {
        "id": "N3NZv0YahSs6",
        "outputId": "5309d8b0-5d2f-4149-d831-52cfad17984e",
        "colab": {
          "base_uri": "https://localhost:8080/",
          "height": 206
        }
      },
      "execution_count": 10,
      "outputs": [
        {
          "output_type": "execute_result",
          "data": {
            "text/plain": [
              "<pandas.io.formats.style.Styler at 0x79b4942a3a90>"
            ],
            "text/html": [
              "<style type=\"text/css\">\n",
              "</style>\n",
              "<table id=\"T_5f586\" class=\"dataframe\">\n",
              "  <thead>\n",
              "    <tr>\n",
              "      <th id=\"T_5f586_level0_col0\" class=\"col_heading level0 col0\" >deptid</th>\n",
              "      <th id=\"T_5f586_level0_col1\" class=\"col_heading level0 col1\" >deptname</th>\n",
              "      <th id=\"T_5f586_level0_col2\" class=\"col_heading level0 col2\" >managerid</th>\n",
              "      <th id=\"T_5f586_level0_col3\" class=\"col_heading level0 col3\" >location</th>\n",
              "      <th id=\"T_5f586_level0_col4\" class=\"col_heading level0 col4\" >locationid</th>\n",
              "    </tr>\n",
              "  </thead>\n",
              "  <tbody>\n",
              "    <tr>\n",
              "      <td id=\"T_5f586_row0_col0\" class=\"data row0 col0\" >10</td>\n",
              "      <td id=\"T_5f586_row0_col1\" class=\"data row0 col1\" >Corporate</td>\n",
              "      <td id=\"T_5f586_row0_col2\" class=\"data row0 col2\" >299034</td>\n",
              "      <td id=\"T_5f586_row0_col3\" class=\"data row0 col3\" >Calcutta</td>\n",
              "      <td id=\"T_5f586_row0_col4\" class=\"data row0 col4\" >1</td>\n",
              "    </tr>\n",
              "    <tr>\n",
              "      <td id=\"T_5f586_row1_col0\" class=\"data row1 col0\" >20</td>\n",
              "      <td id=\"T_5f586_row1_col1\" class=\"data row1 col1\" >Sales</td>\n",
              "      <td id=\"T_5f586_row1_col2\" class=\"data row1 col2\" >239456</td>\n",
              "      <td id=\"T_5f586_row1_col3\" class=\"data row1 col3\" >Calcutta</td>\n",
              "      <td id=\"T_5f586_row1_col4\" class=\"data row1 col4\" >1</td>\n",
              "    </tr>\n",
              "    <tr>\n",
              "      <td id=\"T_5f586_row2_col0\" class=\"data row2 col0\" >30</td>\n",
              "      <td id=\"T_5f586_row2_col1\" class=\"data row2 col1\" >Accounts</td>\n",
              "      <td id=\"T_5f586_row2_col2\" class=\"data row2 col2\" >822134</td>\n",
              "      <td id=\"T_5f586_row2_col3\" class=\"data row2 col3\" >Calcutta</td>\n",
              "      <td id=\"T_5f586_row2_col4\" class=\"data row2 col4\" >1</td>\n",
              "    </tr>\n",
              "    <tr>\n",
              "      <td id=\"T_5f586_row3_col0\" class=\"data row3 col0\" >40</td>\n",
              "      <td id=\"T_5f586_row3_col1\" class=\"data row3 col1\" >Production</td>\n",
              "      <td id=\"T_5f586_row3_col2\" class=\"data row3 col2\" >349870</td>\n",
              "      <td id=\"T_5f586_row3_col3\" class=\"data row3 col3\" >Bombay</td>\n",
              "      <td id=\"T_5f586_row3_col4\" class=\"data row3 col4\" >2</td>\n",
              "    </tr>\n",
              "    <tr>\n",
              "      <td id=\"T_5f586_row4_col0\" class=\"data row4 col0\" >60</td>\n",
              "      <td id=\"T_5f586_row4_col1\" class=\"data row4 col1\" >Research</td>\n",
              "      <td id=\"T_5f586_row4_col2\" class=\"data row4 col2\" >546224</td>\n",
              "      <td id=\"T_5f586_row4_col3\" class=\"data row4 col3\" >Delhi</td>\n",
              "      <td id=\"T_5f586_row4_col4\" class=\"data row4 col4\" >3</td>\n",
              "    </tr>\n",
              "  </tbody>\n",
              "</table>\n"
            ]
          },
          "metadata": {},
          "execution_count": 10
        }
      ]
    },
    {
      "cell_type": "code",
      "source": [
        "runSelect('select * from empl')"
      ],
      "metadata": {
        "id": "Otiv4rjSl5Tg",
        "outputId": "fd7ff9bb-23c1-43e8-8a2f-012e4ba8c997",
        "colab": {
          "base_uri": "https://localhost:8080/",
          "height": 457
        }
      },
      "execution_count": 11,
      "outputs": [
        {
          "output_type": "execute_result",
          "data": {
            "text/plain": [
              "<pandas.io.formats.style.Styler at 0x79b4942565f0>"
            ],
            "text/html": [
              "<style type=\"text/css\">\n",
              "</style>\n",
              "<table id=\"T_eb8de\" class=\"dataframe\">\n",
              "  <thead>\n",
              "    <tr>\n",
              "      <th id=\"T_eb8de_level0_col0\" class=\"col_heading level0 col0\" >empid</th>\n",
              "      <th id=\"T_eb8de_level0_col1\" class=\"col_heading level0 col1\" >lastname</th>\n",
              "      <th id=\"T_eb8de_level0_col2\" class=\"col_heading level0 col2\" >firstname</th>\n",
              "      <th id=\"T_eb8de_level0_col3\" class=\"col_heading level0 col3\" >jobdesc</th>\n",
              "      <th id=\"T_eb8de_level0_col4\" class=\"col_heading level0 col4\" >joindate</th>\n",
              "      <th id=\"T_eb8de_level0_col5\" class=\"col_heading level0 col5\" >salary</th>\n",
              "      <th id=\"T_eb8de_level0_col6\" class=\"col_heading level0 col6\" >comm</th>\n",
              "      <th id=\"T_eb8de_level0_col7\" class=\"col_heading level0 col7\" >deptid</th>\n",
              "      <th id=\"T_eb8de_level0_col8\" class=\"col_heading level0 col8\" >hiredby</th>\n",
              "    </tr>\n",
              "  </thead>\n",
              "  <tbody>\n",
              "    <tr>\n",
              "      <td id=\"T_eb8de_row0_col0\" class=\"data row0 col0\" >742866</td>\n",
              "      <td id=\"T_eb8de_row0_col1\" class=\"data row0 col1\" >Bacchan</td>\n",
              "      <td id=\"T_eb8de_row0_col2\" class=\"data row0 col2\" >Amitabh</td>\n",
              "      <td id=\"T_eb8de_row0_col3\" class=\"data row0 col3\" >Executive</td>\n",
              "      <td id=\"T_eb8de_row0_col4\" class=\"data row0 col4\" >2003-03-10</td>\n",
              "      <td id=\"T_eb8de_row0_col5\" class=\"data row0 col5\" >50000</td>\n",
              "      <td id=\"T_eb8de_row0_col6\" class=\"data row0 col6\" >0.10</td>\n",
              "      <td id=\"T_eb8de_row0_col7\" class=\"data row0 col7\" >10</td>\n",
              "      <td id=\"T_eb8de_row0_col8\" class=\"data row0 col8\" >None</td>\n",
              "    </tr>\n",
              "    <tr>\n",
              "      <td id=\"T_eb8de_row1_col0\" class=\"data row1 col0\" >349870</td>\n",
              "      <td id=\"T_eb8de_row1_col1\" class=\"data row1 col1\" >Mukherjee</td>\n",
              "      <td id=\"T_eb8de_row1_col2\" class=\"data row1 col2\" >Rani</td>\n",
              "      <td id=\"T_eb8de_row1_col3\" class=\"data row1 col3\" >Manager</td>\n",
              "      <td id=\"T_eb8de_row1_col4\" class=\"data row1 col4\" >2005-05-04</td>\n",
              "      <td id=\"T_eb8de_row1_col5\" class=\"data row1 col5\" >25000</td>\n",
              "      <td id=\"T_eb8de_row1_col6\" class=\"data row1 col6\" >0.06</td>\n",
              "      <td id=\"T_eb8de_row1_col7\" class=\"data row1 col7\" >40</td>\n",
              "      <td id=\"T_eb8de_row1_col8\" class=\"data row1 col8\" >742866</td>\n",
              "    </tr>\n",
              "    <tr>\n",
              "      <td id=\"T_eb8de_row2_col0\" class=\"data row2 col0\" >865477</td>\n",
              "      <td id=\"T_eb8de_row2_col1\" class=\"data row2 col1\" >Dikshit</td>\n",
              "      <td id=\"T_eb8de_row2_col2\" class=\"data row2 col2\" >Madhuri</td>\n",
              "      <td id=\"T_eb8de_row2_col3\" class=\"data row2 col3\" >Clerk</td>\n",
              "      <td id=\"T_eb8de_row2_col4\" class=\"data row2 col4\" >2002-04-04</td>\n",
              "      <td id=\"T_eb8de_row2_col5\" class=\"data row2 col5\" >10000</td>\n",
              "      <td id=\"T_eb8de_row2_col6\" class=\"data row2 col6\" >0.02</td>\n",
              "      <td id=\"T_eb8de_row2_col7\" class=\"data row2 col7\" >20</td>\n",
              "      <td id=\"T_eb8de_row2_col8\" class=\"data row2 col8\" >239456</td>\n",
              "    </tr>\n",
              "    <tr>\n",
              "      <td id=\"T_eb8de_row3_col0\" class=\"data row3 col0\" >239456</td>\n",
              "      <td id=\"T_eb8de_row3_col1\" class=\"data row3 col1\" >Khan</td>\n",
              "      <td id=\"T_eb8de_row3_col2\" class=\"data row3 col2\" >Shahrukh</td>\n",
              "      <td id=\"T_eb8de_row3_col3\" class=\"data row3 col3\" >Manager</td>\n",
              "      <td id=\"T_eb8de_row3_col4\" class=\"data row3 col4\" >2004-01-03</td>\n",
              "      <td id=\"T_eb8de_row3_col5\" class=\"data row3 col5\" >30000</td>\n",
              "      <td id=\"T_eb8de_row3_col6\" class=\"data row3 col6\" >0.07</td>\n",
              "      <td id=\"T_eb8de_row3_col7\" class=\"data row3 col7\" >20</td>\n",
              "      <td id=\"T_eb8de_row3_col8\" class=\"data row3 col8\" >742866</td>\n",
              "    </tr>\n",
              "    <tr>\n",
              "      <td id=\"T_eb8de_row4_col0\" class=\"data row4 col0\" >897889</td>\n",
              "      <td id=\"T_eb8de_row4_col1\" class=\"data row4 col1\" >Sehwag</td>\n",
              "      <td id=\"T_eb8de_row4_col2\" class=\"data row4 col2\" >Virender</td>\n",
              "      <td id=\"T_eb8de_row4_col3\" class=\"data row4 col3\" >Cus_Rep</td>\n",
              "      <td id=\"T_eb8de_row4_col4\" class=\"data row4 col4\" >2005-01-02</td>\n",
              "      <td id=\"T_eb8de_row4_col5\" class=\"data row4 col5\" >15000</td>\n",
              "      <td id=\"T_eb8de_row4_col6\" class=\"data row4 col6\" >0.05</td>\n",
              "      <td id=\"T_eb8de_row4_col7\" class=\"data row4 col7\" >20</td>\n",
              "      <td id=\"T_eb8de_row4_col8\" class=\"data row4 col8\" >239456</td>\n",
              "    </tr>\n",
              "    <tr>\n",
              "      <td id=\"T_eb8de_row5_col0\" class=\"data row5 col0\" >123980</td>\n",
              "      <td id=\"T_eb8de_row5_col1\" class=\"data row5 col1\" >Dhoni</td>\n",
              "      <td id=\"T_eb8de_row5_col2\" class=\"data row5 col2\" >Mahender</td>\n",
              "      <td id=\"T_eb8de_row5_col3\" class=\"data row5 col3\" >Clerk</td>\n",
              "      <td id=\"T_eb8de_row5_col4\" class=\"data row5 col4\" >2004-10-09</td>\n",
              "      <td id=\"T_eb8de_row5_col5\" class=\"data row5 col5\" >9000</td>\n",
              "      <td id=\"T_eb8de_row5_col6\" class=\"data row5 col6\" >0.02</td>\n",
              "      <td id=\"T_eb8de_row5_col7\" class=\"data row5 col7\" >40</td>\n",
              "      <td id=\"T_eb8de_row5_col8\" class=\"data row5 col8\" >349870</td>\n",
              "    </tr>\n",
              "    <tr>\n",
              "      <td id=\"T_eb8de_row6_col0\" class=\"data row6 col0\" >822134</td>\n",
              "      <td id=\"T_eb8de_row6_col1\" class=\"data row6 col1\" >Dravid</td>\n",
              "      <td id=\"T_eb8de_row6_col2\" class=\"data row6 col2\" >Rahul</td>\n",
              "      <td id=\"T_eb8de_row6_col3\" class=\"data row6 col3\" >Sr Manager</td>\n",
              "      <td id=\"T_eb8de_row6_col4\" class=\"data row6 col4\" >2000-06-04</td>\n",
              "      <td id=\"T_eb8de_row6_col5\" class=\"data row6 col5\" >40000</td>\n",
              "      <td id=\"T_eb8de_row6_col6\" class=\"data row6 col6\" >0.08</td>\n",
              "      <td id=\"T_eb8de_row6_col7\" class=\"data row6 col7\" >30</td>\n",
              "      <td id=\"T_eb8de_row6_col8\" class=\"data row6 col8\" >742866</td>\n",
              "    </tr>\n",
              "    <tr>\n",
              "      <td id=\"T_eb8de_row7_col0\" class=\"data row7 col0\" >997445</td>\n",
              "      <td id=\"T_eb8de_row7_col1\" class=\"data row7 col1\" >Dalmia</td>\n",
              "      <td id=\"T_eb8de_row7_col2\" class=\"data row7 col2\" >Jagmohan</td>\n",
              "      <td id=\"T_eb8de_row7_col3\" class=\"data row7 col3\" >Clerk</td>\n",
              "      <td id=\"T_eb8de_row7_col4\" class=\"data row7 col4\" >2001-07-01</td>\n",
              "      <td id=\"T_eb8de_row7_col5\" class=\"data row7 col5\" >12000</td>\n",
              "      <td id=\"T_eb8de_row7_col6\" class=\"data row7 col6\" >0.02</td>\n",
              "      <td id=\"T_eb8de_row7_col7\" class=\"data row7 col7\" >30</td>\n",
              "      <td id=\"T_eb8de_row7_col8\" class=\"data row7 col8\" >822134</td>\n",
              "    </tr>\n",
              "    <tr>\n",
              "      <td id=\"T_eb8de_row8_col0\" class=\"data row8 col0\" >989007</td>\n",
              "      <td id=\"T_eb8de_row8_col1\" class=\"data row8 col1\" >Ganguly</td>\n",
              "      <td id=\"T_eb8de_row8_col2\" class=\"data row8 col2\" >Sourav</td>\n",
              "      <td id=\"T_eb8de_row8_col3\" class=\"data row8 col3\" >Cus_Rep</td>\n",
              "      <td id=\"T_eb8de_row8_col4\" class=\"data row8 col4\" >2002-01-01</td>\n",
              "      <td id=\"T_eb8de_row8_col5\" class=\"data row8 col5\" >20000</td>\n",
              "      <td id=\"T_eb8de_row8_col6\" class=\"data row8 col6\" >0.03</td>\n",
              "      <td id=\"T_eb8de_row8_col7\" class=\"data row8 col7\" >40</td>\n",
              "      <td id=\"T_eb8de_row8_col8\" class=\"data row8 col8\" >299034</td>\n",
              "    </tr>\n",
              "    <tr>\n",
              "      <td id=\"T_eb8de_row9_col0\" class=\"data row9 col0\" >299034</td>\n",
              "      <td id=\"T_eb8de_row9_col1\" class=\"data row9 col1\" >Ganesan</td>\n",
              "      <td id=\"T_eb8de_row9_col2\" class=\"data row9 col2\" >Rekha</td>\n",
              "      <td id=\"T_eb8de_row9_col3\" class=\"data row9 col3\" >Director</td>\n",
              "      <td id=\"T_eb8de_row9_col4\" class=\"data row9 col4\" >2002-10-10</td>\n",
              "      <td id=\"T_eb8de_row9_col5\" class=\"data row9 col5\" >60000</td>\n",
              "      <td id=\"T_eb8de_row9_col6\" class=\"data row9 col6\" >0.11</td>\n",
              "      <td id=\"T_eb8de_row9_col7\" class=\"data row9 col7\" >10</td>\n",
              "      <td id=\"T_eb8de_row9_col8\" class=\"data row9 col8\" >742866</td>\n",
              "    </tr>\n",
              "    <tr>\n",
              "      <td id=\"T_eb8de_row10_col0\" class=\"data row10 col0\" >546223</td>\n",
              "      <td id=\"T_eb8de_row10_col1\" class=\"data row10 col1\" >Karthikeyan</td>\n",
              "      <td id=\"T_eb8de_row10_col2\" class=\"data row10 col2\" >Narayan</td>\n",
              "      <td id=\"T_eb8de_row10_col3\" class=\"data row10 col3\" >Secretary</td>\n",
              "      <td id=\"T_eb8de_row10_col4\" class=\"data row10 col4\" >2005-12-04</td>\n",
              "      <td id=\"T_eb8de_row10_col5\" class=\"data row10 col5\" >40000</td>\n",
              "      <td id=\"T_eb8de_row10_col6\" class=\"data row10 col6\" >0.09</td>\n",
              "      <td id=\"T_eb8de_row10_col7\" class=\"data row10 col7\" >10</td>\n",
              "      <td id=\"T_eb8de_row10_col8\" class=\"data row10 col8\" >299034</td>\n",
              "    </tr>\n",
              "    <tr>\n",
              "      <td id=\"T_eb8de_row11_col0\" class=\"data row11 col0\" >546224</td>\n",
              "      <td id=\"T_eb8de_row11_col1\" class=\"data row11 col1\" >Sunil</td>\n",
              "      <td id=\"T_eb8de_row11_col2\" class=\"data row11 col2\" >Chettri</td>\n",
              "      <td id=\"T_eb8de_row11_col3\" class=\"data row11 col3\" >Dy Manager</td>\n",
              "      <td id=\"T_eb8de_row11_col4\" class=\"data row11 col4\" >2006-12-07</td>\n",
              "      <td id=\"T_eb8de_row11_col5\" class=\"data row11 col5\" >40000</td>\n",
              "      <td id=\"T_eb8de_row11_col6\" class=\"data row11 col6\" >0.05</td>\n",
              "      <td id=\"T_eb8de_row11_col7\" class=\"data row11 col7\" >70</td>\n",
              "      <td id=\"T_eb8de_row11_col8\" class=\"data row11 col8\" >349870</td>\n",
              "    </tr>\n",
              "    <tr>\n",
              "      <td id=\"T_eb8de_row12_col0\" class=\"data row12 col0\" >223112</td>\n",
              "      <td id=\"T_eb8de_row12_col1\" class=\"data row12 col1\" >Mirza</td>\n",
              "      <td id=\"T_eb8de_row12_col2\" class=\"data row12 col2\" >Sania</td>\n",
              "      <td id=\"T_eb8de_row12_col3\" class=\"data row12 col3\" >Cus_Rep</td>\n",
              "      <td id=\"T_eb8de_row12_col4\" class=\"data row12 col4\" >2001-11-19</td>\n",
              "      <td id=\"T_eb8de_row12_col5\" class=\"data row12 col5\" >25000</td>\n",
              "      <td id=\"T_eb8de_row12_col6\" class=\"data row12 col6\" >0.04</td>\n",
              "      <td id=\"T_eb8de_row12_col7\" class=\"data row12 col7\" >30</td>\n",
              "      <td id=\"T_eb8de_row12_col8\" class=\"data row12 col8\" >822134</td>\n",
              "    </tr>\n",
              "  </tbody>\n",
              "</table>\n"
            ]
          },
          "metadata": {},
          "execution_count": 11
        }
      ]
    },
    {
      "cell_type": "code",
      "source": [
        "runSelect('select lastname, jobdesc, salary from empl')"
      ],
      "metadata": {
        "id": "z-mxVMPuuxu6",
        "outputId": "c07366f4-5c4d-4f44-ceb9-166958b06ceb",
        "colab": {
          "base_uri": "https://localhost:8080/",
          "height": 457
        }
      },
      "execution_count": 12,
      "outputs": [
        {
          "output_type": "execute_result",
          "data": {
            "text/plain": [
              "<pandas.io.formats.style.Styler at 0x79b494256080>"
            ],
            "text/html": [
              "<style type=\"text/css\">\n",
              "</style>\n",
              "<table id=\"T_52ad1\" class=\"dataframe\">\n",
              "  <thead>\n",
              "    <tr>\n",
              "      <th id=\"T_52ad1_level0_col0\" class=\"col_heading level0 col0\" >lastname</th>\n",
              "      <th id=\"T_52ad1_level0_col1\" class=\"col_heading level0 col1\" >jobdesc</th>\n",
              "      <th id=\"T_52ad1_level0_col2\" class=\"col_heading level0 col2\" >salary</th>\n",
              "    </tr>\n",
              "  </thead>\n",
              "  <tbody>\n",
              "    <tr>\n",
              "      <td id=\"T_52ad1_row0_col0\" class=\"data row0 col0\" >Bacchan</td>\n",
              "      <td id=\"T_52ad1_row0_col1\" class=\"data row0 col1\" >Executive</td>\n",
              "      <td id=\"T_52ad1_row0_col2\" class=\"data row0 col2\" >50000</td>\n",
              "    </tr>\n",
              "    <tr>\n",
              "      <td id=\"T_52ad1_row1_col0\" class=\"data row1 col0\" >Mukherjee</td>\n",
              "      <td id=\"T_52ad1_row1_col1\" class=\"data row1 col1\" >Manager</td>\n",
              "      <td id=\"T_52ad1_row1_col2\" class=\"data row1 col2\" >25000</td>\n",
              "    </tr>\n",
              "    <tr>\n",
              "      <td id=\"T_52ad1_row2_col0\" class=\"data row2 col0\" >Dikshit</td>\n",
              "      <td id=\"T_52ad1_row2_col1\" class=\"data row2 col1\" >Clerk</td>\n",
              "      <td id=\"T_52ad1_row2_col2\" class=\"data row2 col2\" >10000</td>\n",
              "    </tr>\n",
              "    <tr>\n",
              "      <td id=\"T_52ad1_row3_col0\" class=\"data row3 col0\" >Khan</td>\n",
              "      <td id=\"T_52ad1_row3_col1\" class=\"data row3 col1\" >Manager</td>\n",
              "      <td id=\"T_52ad1_row3_col2\" class=\"data row3 col2\" >30000</td>\n",
              "    </tr>\n",
              "    <tr>\n",
              "      <td id=\"T_52ad1_row4_col0\" class=\"data row4 col0\" >Sehwag</td>\n",
              "      <td id=\"T_52ad1_row4_col1\" class=\"data row4 col1\" >Cus_Rep</td>\n",
              "      <td id=\"T_52ad1_row4_col2\" class=\"data row4 col2\" >15000</td>\n",
              "    </tr>\n",
              "    <tr>\n",
              "      <td id=\"T_52ad1_row5_col0\" class=\"data row5 col0\" >Dhoni</td>\n",
              "      <td id=\"T_52ad1_row5_col1\" class=\"data row5 col1\" >Clerk</td>\n",
              "      <td id=\"T_52ad1_row5_col2\" class=\"data row5 col2\" >9000</td>\n",
              "    </tr>\n",
              "    <tr>\n",
              "      <td id=\"T_52ad1_row6_col0\" class=\"data row6 col0\" >Dravid</td>\n",
              "      <td id=\"T_52ad1_row6_col1\" class=\"data row6 col1\" >Sr Manager</td>\n",
              "      <td id=\"T_52ad1_row6_col2\" class=\"data row6 col2\" >40000</td>\n",
              "    </tr>\n",
              "    <tr>\n",
              "      <td id=\"T_52ad1_row7_col0\" class=\"data row7 col0\" >Dalmia</td>\n",
              "      <td id=\"T_52ad1_row7_col1\" class=\"data row7 col1\" >Clerk</td>\n",
              "      <td id=\"T_52ad1_row7_col2\" class=\"data row7 col2\" >12000</td>\n",
              "    </tr>\n",
              "    <tr>\n",
              "      <td id=\"T_52ad1_row8_col0\" class=\"data row8 col0\" >Ganguly</td>\n",
              "      <td id=\"T_52ad1_row8_col1\" class=\"data row8 col1\" >Cus_Rep</td>\n",
              "      <td id=\"T_52ad1_row8_col2\" class=\"data row8 col2\" >20000</td>\n",
              "    </tr>\n",
              "    <tr>\n",
              "      <td id=\"T_52ad1_row9_col0\" class=\"data row9 col0\" >Ganesan</td>\n",
              "      <td id=\"T_52ad1_row9_col1\" class=\"data row9 col1\" >Director</td>\n",
              "      <td id=\"T_52ad1_row9_col2\" class=\"data row9 col2\" >60000</td>\n",
              "    </tr>\n",
              "    <tr>\n",
              "      <td id=\"T_52ad1_row10_col0\" class=\"data row10 col0\" >Karthikeyan</td>\n",
              "      <td id=\"T_52ad1_row10_col1\" class=\"data row10 col1\" >Secretary</td>\n",
              "      <td id=\"T_52ad1_row10_col2\" class=\"data row10 col2\" >40000</td>\n",
              "    </tr>\n",
              "    <tr>\n",
              "      <td id=\"T_52ad1_row11_col0\" class=\"data row11 col0\" >Sunil</td>\n",
              "      <td id=\"T_52ad1_row11_col1\" class=\"data row11 col1\" >Dy Manager</td>\n",
              "      <td id=\"T_52ad1_row11_col2\" class=\"data row11 col2\" >40000</td>\n",
              "    </tr>\n",
              "    <tr>\n",
              "      <td id=\"T_52ad1_row12_col0\" class=\"data row12 col0\" >Mirza</td>\n",
              "      <td id=\"T_52ad1_row12_col1\" class=\"data row12 col1\" >Cus_Rep</td>\n",
              "      <td id=\"T_52ad1_row12_col2\" class=\"data row12 col2\" >25000</td>\n",
              "    </tr>\n",
              "  </tbody>\n",
              "</table>\n"
            ]
          },
          "metadata": {},
          "execution_count": 12
        }
      ]
    },
    {
      "cell_type": "code",
      "source": [
        "runSelect('select distinct(jobdesc) from empl')"
      ],
      "metadata": {
        "id": "7uvcAdlCvg-p",
        "outputId": "7149f5f2-5d50-4c1e-9d17-e42e35e2a402",
        "colab": {
          "base_uri": "https://localhost:8080/",
          "height": 300
        }
      },
      "execution_count": 13,
      "outputs": [
        {
          "output_type": "execute_result",
          "data": {
            "text/plain": [
              "<pandas.io.formats.style.Styler at 0x79b494257850>"
            ],
            "text/html": [
              "<style type=\"text/css\">\n",
              "</style>\n",
              "<table id=\"T_9d48f\" class=\"dataframe\">\n",
              "  <thead>\n",
              "    <tr>\n",
              "      <th id=\"T_9d48f_level0_col0\" class=\"col_heading level0 col0\" >jobdesc</th>\n",
              "    </tr>\n",
              "  </thead>\n",
              "  <tbody>\n",
              "    <tr>\n",
              "      <td id=\"T_9d48f_row0_col0\" class=\"data row0 col0\" >Director</td>\n",
              "    </tr>\n",
              "    <tr>\n",
              "      <td id=\"T_9d48f_row1_col0\" class=\"data row1 col0\" >Manager</td>\n",
              "    </tr>\n",
              "    <tr>\n",
              "      <td id=\"T_9d48f_row2_col0\" class=\"data row2 col0\" >Dy Manager</td>\n",
              "    </tr>\n",
              "    <tr>\n",
              "      <td id=\"T_9d48f_row3_col0\" class=\"data row3 col0\" >Executive</td>\n",
              "    </tr>\n",
              "    <tr>\n",
              "      <td id=\"T_9d48f_row4_col0\" class=\"data row4 col0\" >Secretary</td>\n",
              "    </tr>\n",
              "    <tr>\n",
              "      <td id=\"T_9d48f_row5_col0\" class=\"data row5 col0\" >Cus_Rep</td>\n",
              "    </tr>\n",
              "    <tr>\n",
              "      <td id=\"T_9d48f_row6_col0\" class=\"data row6 col0\" >Clerk</td>\n",
              "    </tr>\n",
              "    <tr>\n",
              "      <td id=\"T_9d48f_row7_col0\" class=\"data row7 col0\" >Sr Manager</td>\n",
              "    </tr>\n",
              "  </tbody>\n",
              "</table>\n"
            ]
          },
          "metadata": {},
          "execution_count": 13
        }
      ]
    },
    {
      "cell_type": "markdown",
      "source": [
        "#Where"
      ],
      "metadata": {
        "id": "LFbNG59OxVzF"
      }
    },
    {
      "cell_type": "markdown",
      "source": [
        "## Equal, Not Equal, Greater, Less"
      ],
      "metadata": {
        "id": "JM2k29awVQHc"
      }
    },
    {
      "cell_type": "code",
      "source": [
        "runSelect(\"select firstname, lastname, jobdesc from empl where jobdesc = 'Clerk'\")"
      ],
      "metadata": {
        "id": "rRZz9OpLxdEY",
        "outputId": "0b557fae-65fe-4a15-b570-a61c727c860d",
        "colab": {
          "base_uri": "https://localhost:8080/",
          "height": 143
        }
      },
      "execution_count": 14,
      "outputs": [
        {
          "output_type": "execute_result",
          "data": {
            "text/plain": [
              "<pandas.io.formats.style.Styler at 0x79b494255ed0>"
            ],
            "text/html": [
              "<style type=\"text/css\">\n",
              "</style>\n",
              "<table id=\"T_663a9\" class=\"dataframe\">\n",
              "  <thead>\n",
              "    <tr>\n",
              "      <th id=\"T_663a9_level0_col0\" class=\"col_heading level0 col0\" >firstname</th>\n",
              "      <th id=\"T_663a9_level0_col1\" class=\"col_heading level0 col1\" >lastname</th>\n",
              "      <th id=\"T_663a9_level0_col2\" class=\"col_heading level0 col2\" >jobdesc</th>\n",
              "    </tr>\n",
              "  </thead>\n",
              "  <tbody>\n",
              "    <tr>\n",
              "      <td id=\"T_663a9_row0_col0\" class=\"data row0 col0\" >Madhuri</td>\n",
              "      <td id=\"T_663a9_row0_col1\" class=\"data row0 col1\" >Dikshit</td>\n",
              "      <td id=\"T_663a9_row0_col2\" class=\"data row0 col2\" >Clerk</td>\n",
              "    </tr>\n",
              "    <tr>\n",
              "      <td id=\"T_663a9_row1_col0\" class=\"data row1 col0\" >Mahender</td>\n",
              "      <td id=\"T_663a9_row1_col1\" class=\"data row1 col1\" >Dhoni</td>\n",
              "      <td id=\"T_663a9_row1_col2\" class=\"data row1 col2\" >Clerk</td>\n",
              "    </tr>\n",
              "    <tr>\n",
              "      <td id=\"T_663a9_row2_col0\" class=\"data row2 col0\" >Jagmohan</td>\n",
              "      <td id=\"T_663a9_row2_col1\" class=\"data row2 col1\" >Dalmia</td>\n",
              "      <td id=\"T_663a9_row2_col2\" class=\"data row2 col2\" >Clerk</td>\n",
              "    </tr>\n",
              "  </tbody>\n",
              "</table>\n"
            ]
          },
          "metadata": {},
          "execution_count": 14
        }
      ]
    },
    {
      "cell_type": "code",
      "source": [
        "runSelect(\"select firstname, lastname, jobdesc from empl where jobdesc != 'Clerk'\")"
      ],
      "metadata": {
        "id": "3cl0ISR9yG-I",
        "outputId": "fcdeba8a-ee62-4f12-8f31-f849d861d149",
        "colab": {
          "base_uri": "https://localhost:8080/",
          "height": 363
        }
      },
      "execution_count": 15,
      "outputs": [
        {
          "output_type": "execute_result",
          "data": {
            "text/plain": [
              "<pandas.io.formats.style.Styler at 0x79b494256140>"
            ],
            "text/html": [
              "<style type=\"text/css\">\n",
              "</style>\n",
              "<table id=\"T_33ed0\" class=\"dataframe\">\n",
              "  <thead>\n",
              "    <tr>\n",
              "      <th id=\"T_33ed0_level0_col0\" class=\"col_heading level0 col0\" >firstname</th>\n",
              "      <th id=\"T_33ed0_level0_col1\" class=\"col_heading level0 col1\" >lastname</th>\n",
              "      <th id=\"T_33ed0_level0_col2\" class=\"col_heading level0 col2\" >jobdesc</th>\n",
              "    </tr>\n",
              "  </thead>\n",
              "  <tbody>\n",
              "    <tr>\n",
              "      <td id=\"T_33ed0_row0_col0\" class=\"data row0 col0\" >Amitabh</td>\n",
              "      <td id=\"T_33ed0_row0_col1\" class=\"data row0 col1\" >Bacchan</td>\n",
              "      <td id=\"T_33ed0_row0_col2\" class=\"data row0 col2\" >Executive</td>\n",
              "    </tr>\n",
              "    <tr>\n",
              "      <td id=\"T_33ed0_row1_col0\" class=\"data row1 col0\" >Rani</td>\n",
              "      <td id=\"T_33ed0_row1_col1\" class=\"data row1 col1\" >Mukherjee</td>\n",
              "      <td id=\"T_33ed0_row1_col2\" class=\"data row1 col2\" >Manager</td>\n",
              "    </tr>\n",
              "    <tr>\n",
              "      <td id=\"T_33ed0_row2_col0\" class=\"data row2 col0\" >Shahrukh</td>\n",
              "      <td id=\"T_33ed0_row2_col1\" class=\"data row2 col1\" >Khan</td>\n",
              "      <td id=\"T_33ed0_row2_col2\" class=\"data row2 col2\" >Manager</td>\n",
              "    </tr>\n",
              "    <tr>\n",
              "      <td id=\"T_33ed0_row3_col0\" class=\"data row3 col0\" >Virender</td>\n",
              "      <td id=\"T_33ed0_row3_col1\" class=\"data row3 col1\" >Sehwag</td>\n",
              "      <td id=\"T_33ed0_row3_col2\" class=\"data row3 col2\" >Cus_Rep</td>\n",
              "    </tr>\n",
              "    <tr>\n",
              "      <td id=\"T_33ed0_row4_col0\" class=\"data row4 col0\" >Rahul</td>\n",
              "      <td id=\"T_33ed0_row4_col1\" class=\"data row4 col1\" >Dravid</td>\n",
              "      <td id=\"T_33ed0_row4_col2\" class=\"data row4 col2\" >Sr Manager</td>\n",
              "    </tr>\n",
              "    <tr>\n",
              "      <td id=\"T_33ed0_row5_col0\" class=\"data row5 col0\" >Sourav</td>\n",
              "      <td id=\"T_33ed0_row5_col1\" class=\"data row5 col1\" >Ganguly</td>\n",
              "      <td id=\"T_33ed0_row5_col2\" class=\"data row5 col2\" >Cus_Rep</td>\n",
              "    </tr>\n",
              "    <tr>\n",
              "      <td id=\"T_33ed0_row6_col0\" class=\"data row6 col0\" >Rekha</td>\n",
              "      <td id=\"T_33ed0_row6_col1\" class=\"data row6 col1\" >Ganesan</td>\n",
              "      <td id=\"T_33ed0_row6_col2\" class=\"data row6 col2\" >Director</td>\n",
              "    </tr>\n",
              "    <tr>\n",
              "      <td id=\"T_33ed0_row7_col0\" class=\"data row7 col0\" >Narayan</td>\n",
              "      <td id=\"T_33ed0_row7_col1\" class=\"data row7 col1\" >Karthikeyan</td>\n",
              "      <td id=\"T_33ed0_row7_col2\" class=\"data row7 col2\" >Secretary</td>\n",
              "    </tr>\n",
              "    <tr>\n",
              "      <td id=\"T_33ed0_row8_col0\" class=\"data row8 col0\" >Chettri</td>\n",
              "      <td id=\"T_33ed0_row8_col1\" class=\"data row8 col1\" >Sunil</td>\n",
              "      <td id=\"T_33ed0_row8_col2\" class=\"data row8 col2\" >Dy Manager</td>\n",
              "    </tr>\n",
              "    <tr>\n",
              "      <td id=\"T_33ed0_row9_col0\" class=\"data row9 col0\" >Sania</td>\n",
              "      <td id=\"T_33ed0_row9_col1\" class=\"data row9 col1\" >Mirza</td>\n",
              "      <td id=\"T_33ed0_row9_col2\" class=\"data row9 col2\" >Cus_Rep</td>\n",
              "    </tr>\n",
              "  </tbody>\n",
              "</table>\n"
            ]
          },
          "metadata": {},
          "execution_count": 15
        }
      ]
    },
    {
      "cell_type": "code",
      "source": [
        "runSelect(\"select firstname, lastname, salary from empl where salary > 35000\")"
      ],
      "metadata": {
        "id": "obIPpNbDyT4S",
        "outputId": "cbba2b10-b134-4d2f-e5c4-301b4116557e",
        "colab": {
          "base_uri": "https://localhost:8080/",
          "height": 206
        }
      },
      "execution_count": 16,
      "outputs": [
        {
          "output_type": "execute_result",
          "data": {
            "text/plain": [
              "<pandas.io.formats.style.Styler at 0x79b494257e50>"
            ],
            "text/html": [
              "<style type=\"text/css\">\n",
              "</style>\n",
              "<table id=\"T_30d44\" class=\"dataframe\">\n",
              "  <thead>\n",
              "    <tr>\n",
              "      <th id=\"T_30d44_level0_col0\" class=\"col_heading level0 col0\" >firstname</th>\n",
              "      <th id=\"T_30d44_level0_col1\" class=\"col_heading level0 col1\" >lastname</th>\n",
              "      <th id=\"T_30d44_level0_col2\" class=\"col_heading level0 col2\" >salary</th>\n",
              "    </tr>\n",
              "  </thead>\n",
              "  <tbody>\n",
              "    <tr>\n",
              "      <td id=\"T_30d44_row0_col0\" class=\"data row0 col0\" >Amitabh</td>\n",
              "      <td id=\"T_30d44_row0_col1\" class=\"data row0 col1\" >Bacchan</td>\n",
              "      <td id=\"T_30d44_row0_col2\" class=\"data row0 col2\" >50000</td>\n",
              "    </tr>\n",
              "    <tr>\n",
              "      <td id=\"T_30d44_row1_col0\" class=\"data row1 col0\" >Rahul</td>\n",
              "      <td id=\"T_30d44_row1_col1\" class=\"data row1 col1\" >Dravid</td>\n",
              "      <td id=\"T_30d44_row1_col2\" class=\"data row1 col2\" >40000</td>\n",
              "    </tr>\n",
              "    <tr>\n",
              "      <td id=\"T_30d44_row2_col0\" class=\"data row2 col0\" >Rekha</td>\n",
              "      <td id=\"T_30d44_row2_col1\" class=\"data row2 col1\" >Ganesan</td>\n",
              "      <td id=\"T_30d44_row2_col2\" class=\"data row2 col2\" >60000</td>\n",
              "    </tr>\n",
              "    <tr>\n",
              "      <td id=\"T_30d44_row3_col0\" class=\"data row3 col0\" >Narayan</td>\n",
              "      <td id=\"T_30d44_row3_col1\" class=\"data row3 col1\" >Karthikeyan</td>\n",
              "      <td id=\"T_30d44_row3_col2\" class=\"data row3 col2\" >40000</td>\n",
              "    </tr>\n",
              "    <tr>\n",
              "      <td id=\"T_30d44_row4_col0\" class=\"data row4 col0\" >Chettri</td>\n",
              "      <td id=\"T_30d44_row4_col1\" class=\"data row4 col1\" >Sunil</td>\n",
              "      <td id=\"T_30d44_row4_col2\" class=\"data row4 col2\" >40000</td>\n",
              "    </tr>\n",
              "  </tbody>\n",
              "</table>\n"
            ]
          },
          "metadata": {},
          "execution_count": 16
        }
      ]
    },
    {
      "cell_type": "code",
      "source": [
        "runSelect(\"select firstname, lastname, salary, joindate from empl where joindate < '2002-01-01'\")"
      ],
      "metadata": {
        "colab": {
          "base_uri": "https://localhost:8080/",
          "height": 143
        },
        "id": "hnIvgy_dMvQl",
        "outputId": "36dd2959-9c35-4100-c962-7f194b744765"
      },
      "execution_count": 17,
      "outputs": [
        {
          "output_type": "execute_result",
          "data": {
            "text/plain": [
              "<pandas.io.formats.style.Styler at 0x79b494254f70>"
            ],
            "text/html": [
              "<style type=\"text/css\">\n",
              "</style>\n",
              "<table id=\"T_00bd5\" class=\"dataframe\">\n",
              "  <thead>\n",
              "    <tr>\n",
              "      <th id=\"T_00bd5_level0_col0\" class=\"col_heading level0 col0\" >firstname</th>\n",
              "      <th id=\"T_00bd5_level0_col1\" class=\"col_heading level0 col1\" >lastname</th>\n",
              "      <th id=\"T_00bd5_level0_col2\" class=\"col_heading level0 col2\" >salary</th>\n",
              "      <th id=\"T_00bd5_level0_col3\" class=\"col_heading level0 col3\" >joindate</th>\n",
              "    </tr>\n",
              "  </thead>\n",
              "  <tbody>\n",
              "    <tr>\n",
              "      <td id=\"T_00bd5_row0_col0\" class=\"data row0 col0\" >Rahul</td>\n",
              "      <td id=\"T_00bd5_row0_col1\" class=\"data row0 col1\" >Dravid</td>\n",
              "      <td id=\"T_00bd5_row0_col2\" class=\"data row0 col2\" >40000</td>\n",
              "      <td id=\"T_00bd5_row0_col3\" class=\"data row0 col3\" >2000-06-04</td>\n",
              "    </tr>\n",
              "    <tr>\n",
              "      <td id=\"T_00bd5_row1_col0\" class=\"data row1 col0\" >Jagmohan</td>\n",
              "      <td id=\"T_00bd5_row1_col1\" class=\"data row1 col1\" >Dalmia</td>\n",
              "      <td id=\"T_00bd5_row1_col2\" class=\"data row1 col2\" >12000</td>\n",
              "      <td id=\"T_00bd5_row1_col3\" class=\"data row1 col3\" >2001-07-01</td>\n",
              "    </tr>\n",
              "    <tr>\n",
              "      <td id=\"T_00bd5_row2_col0\" class=\"data row2 col0\" >Sania</td>\n",
              "      <td id=\"T_00bd5_row2_col1\" class=\"data row2 col1\" >Mirza</td>\n",
              "      <td id=\"T_00bd5_row2_col2\" class=\"data row2 col2\" >25000</td>\n",
              "      <td id=\"T_00bd5_row2_col3\" class=\"data row2 col3\" >2001-11-19</td>\n",
              "    </tr>\n",
              "  </tbody>\n",
              "</table>\n"
            ]
          },
          "metadata": {},
          "execution_count": 17
        }
      ]
    },
    {
      "cell_type": "markdown",
      "source": [
        "## Like"
      ],
      "metadata": {
        "id": "77DkYhfhU1lJ"
      }
    },
    {
      "cell_type": "code",
      "source": [
        "runSelect(\"select firstname, lastname, salary from empl where lastname like 'D%'\")"
      ],
      "metadata": {
        "colab": {
          "base_uri": "https://localhost:8080/",
          "height": 175
        },
        "id": "PBsdla2eVv1K",
        "outputId": "9532e7ab-3d17-4c1f-c962-15252c3c59d9"
      },
      "execution_count": 18,
      "outputs": [
        {
          "output_type": "execute_result",
          "data": {
            "text/plain": [
              "<pandas.io.formats.style.Styler at 0x79b494255960>"
            ],
            "text/html": [
              "<style type=\"text/css\">\n",
              "</style>\n",
              "<table id=\"T_24b7a\" class=\"dataframe\">\n",
              "  <thead>\n",
              "    <tr>\n",
              "      <th id=\"T_24b7a_level0_col0\" class=\"col_heading level0 col0\" >firstname</th>\n",
              "      <th id=\"T_24b7a_level0_col1\" class=\"col_heading level0 col1\" >lastname</th>\n",
              "      <th id=\"T_24b7a_level0_col2\" class=\"col_heading level0 col2\" >salary</th>\n",
              "    </tr>\n",
              "  </thead>\n",
              "  <tbody>\n",
              "    <tr>\n",
              "      <td id=\"T_24b7a_row0_col0\" class=\"data row0 col0\" >Madhuri</td>\n",
              "      <td id=\"T_24b7a_row0_col1\" class=\"data row0 col1\" >Dikshit</td>\n",
              "      <td id=\"T_24b7a_row0_col2\" class=\"data row0 col2\" >10000</td>\n",
              "    </tr>\n",
              "    <tr>\n",
              "      <td id=\"T_24b7a_row1_col0\" class=\"data row1 col0\" >Mahender</td>\n",
              "      <td id=\"T_24b7a_row1_col1\" class=\"data row1 col1\" >Dhoni</td>\n",
              "      <td id=\"T_24b7a_row1_col2\" class=\"data row1 col2\" >9000</td>\n",
              "    </tr>\n",
              "    <tr>\n",
              "      <td id=\"T_24b7a_row2_col0\" class=\"data row2 col0\" >Rahul</td>\n",
              "      <td id=\"T_24b7a_row2_col1\" class=\"data row2 col1\" >Dravid</td>\n",
              "      <td id=\"T_24b7a_row2_col2\" class=\"data row2 col2\" >40000</td>\n",
              "    </tr>\n",
              "    <tr>\n",
              "      <td id=\"T_24b7a_row3_col0\" class=\"data row3 col0\" >Jagmohan</td>\n",
              "      <td id=\"T_24b7a_row3_col1\" class=\"data row3 col1\" >Dalmia</td>\n",
              "      <td id=\"T_24b7a_row3_col2\" class=\"data row3 col2\" >12000</td>\n",
              "    </tr>\n",
              "  </tbody>\n",
              "</table>\n"
            ]
          },
          "metadata": {},
          "execution_count": 18
        }
      ]
    },
    {
      "cell_type": "code",
      "source": [
        "runSelect(\"select firstname, lastname, joindate from empl where lastname like '____i_'\")"
      ],
      "metadata": {
        "colab": {
          "base_uri": "https://localhost:8080/",
          "height": 112
        },
        "id": "xxImEDlKbm4U",
        "outputId": "65b56c65-7875-42a5-c582-155ad10ac1fe"
      },
      "execution_count": 19,
      "outputs": [
        {
          "output_type": "execute_result",
          "data": {
            "text/plain": [
              "<pandas.io.formats.style.Styler at 0x79b494256830>"
            ],
            "text/html": [
              "<style type=\"text/css\">\n",
              "</style>\n",
              "<table id=\"T_5d333\" class=\"dataframe\">\n",
              "  <thead>\n",
              "    <tr>\n",
              "      <th id=\"T_5d333_level0_col0\" class=\"col_heading level0 col0\" >firstname</th>\n",
              "      <th id=\"T_5d333_level0_col1\" class=\"col_heading level0 col1\" >lastname</th>\n",
              "      <th id=\"T_5d333_level0_col2\" class=\"col_heading level0 col2\" >joindate</th>\n",
              "    </tr>\n",
              "  </thead>\n",
              "  <tbody>\n",
              "    <tr>\n",
              "      <td id=\"T_5d333_row0_col0\" class=\"data row0 col0\" >Rahul</td>\n",
              "      <td id=\"T_5d333_row0_col1\" class=\"data row0 col1\" >Dravid</td>\n",
              "      <td id=\"T_5d333_row0_col2\" class=\"data row0 col2\" >2000-06-04</td>\n",
              "    </tr>\n",
              "    <tr>\n",
              "      <td id=\"T_5d333_row1_col0\" class=\"data row1 col0\" >Jagmohan</td>\n",
              "      <td id=\"T_5d333_row1_col1\" class=\"data row1 col1\" >Dalmia</td>\n",
              "      <td id=\"T_5d333_row1_col2\" class=\"data row1 col2\" >2001-07-01</td>\n",
              "    </tr>\n",
              "  </tbody>\n",
              "</table>\n"
            ]
          },
          "metadata": {},
          "execution_count": 19
        }
      ]
    },
    {
      "cell_type": "code",
      "source": [
        "runSelect(\"select firstname, lastname, jobdesc from empl where lastname like '____i%'\")"
      ],
      "metadata": {
        "colab": {
          "base_uri": "https://localhost:8080/",
          "height": 143
        },
        "id": "pL7VPLo4b2g3",
        "outputId": "46eec1ac-5a5a-4123-ae71-3ff75a4f523d"
      },
      "execution_count": 20,
      "outputs": [
        {
          "output_type": "execute_result",
          "data": {
            "text/plain": [
              "<pandas.io.formats.style.Styler at 0x79b494234ee0>"
            ],
            "text/html": [
              "<style type=\"text/css\">\n",
              "</style>\n",
              "<table id=\"T_ec343\" class=\"dataframe\">\n",
              "  <thead>\n",
              "    <tr>\n",
              "      <th id=\"T_ec343_level0_col0\" class=\"col_heading level0 col0\" >firstname</th>\n",
              "      <th id=\"T_ec343_level0_col1\" class=\"col_heading level0 col1\" >lastname</th>\n",
              "      <th id=\"T_ec343_level0_col2\" class=\"col_heading level0 col2\" >jobdesc</th>\n",
              "    </tr>\n",
              "  </thead>\n",
              "  <tbody>\n",
              "    <tr>\n",
              "      <td id=\"T_ec343_row0_col0\" class=\"data row0 col0\" >Mahender</td>\n",
              "      <td id=\"T_ec343_row0_col1\" class=\"data row0 col1\" >Dhoni</td>\n",
              "      <td id=\"T_ec343_row0_col2\" class=\"data row0 col2\" >Clerk</td>\n",
              "    </tr>\n",
              "    <tr>\n",
              "      <td id=\"T_ec343_row1_col0\" class=\"data row1 col0\" >Rahul</td>\n",
              "      <td id=\"T_ec343_row1_col1\" class=\"data row1 col1\" >Dravid</td>\n",
              "      <td id=\"T_ec343_row1_col2\" class=\"data row1 col2\" >Sr Manager</td>\n",
              "    </tr>\n",
              "    <tr>\n",
              "      <td id=\"T_ec343_row2_col0\" class=\"data row2 col0\" >Jagmohan</td>\n",
              "      <td id=\"T_ec343_row2_col1\" class=\"data row2 col1\" >Dalmia</td>\n",
              "      <td id=\"T_ec343_row2_col2\" class=\"data row2 col2\" >Clerk</td>\n",
              "    </tr>\n",
              "  </tbody>\n",
              "</table>\n"
            ]
          },
          "metadata": {},
          "execution_count": 20
        }
      ]
    },
    {
      "cell_type": "markdown",
      "source": [
        "## Between"
      ],
      "metadata": {
        "id": "qw2h8Vtvey2R"
      }
    },
    {
      "cell_type": "code",
      "source": [
        "runSelect(\"select firstname, lastname, salary from empl where salary between 10000 and 20000\")"
      ],
      "metadata": {
        "colab": {
          "base_uri": "https://localhost:8080/",
          "height": 175
        },
        "id": "sI_qlRdXe7S8",
        "outputId": "c2198f07-bc5e-4724-8e65-010e3525606f"
      },
      "execution_count": 21,
      "outputs": [
        {
          "output_type": "execute_result",
          "data": {
            "text/plain": [
              "<pandas.io.formats.style.Styler at 0x79b494254370>"
            ],
            "text/html": [
              "<style type=\"text/css\">\n",
              "</style>\n",
              "<table id=\"T_68797\" class=\"dataframe\">\n",
              "  <thead>\n",
              "    <tr>\n",
              "      <th id=\"T_68797_level0_col0\" class=\"col_heading level0 col0\" >firstname</th>\n",
              "      <th id=\"T_68797_level0_col1\" class=\"col_heading level0 col1\" >lastname</th>\n",
              "      <th id=\"T_68797_level0_col2\" class=\"col_heading level0 col2\" >salary</th>\n",
              "    </tr>\n",
              "  </thead>\n",
              "  <tbody>\n",
              "    <tr>\n",
              "      <td id=\"T_68797_row0_col0\" class=\"data row0 col0\" >Madhuri</td>\n",
              "      <td id=\"T_68797_row0_col1\" class=\"data row0 col1\" >Dikshit</td>\n",
              "      <td id=\"T_68797_row0_col2\" class=\"data row0 col2\" >10000</td>\n",
              "    </tr>\n",
              "    <tr>\n",
              "      <td id=\"T_68797_row1_col0\" class=\"data row1 col0\" >Virender</td>\n",
              "      <td id=\"T_68797_row1_col1\" class=\"data row1 col1\" >Sehwag</td>\n",
              "      <td id=\"T_68797_row1_col2\" class=\"data row1 col2\" >15000</td>\n",
              "    </tr>\n",
              "    <tr>\n",
              "      <td id=\"T_68797_row2_col0\" class=\"data row2 col0\" >Jagmohan</td>\n",
              "      <td id=\"T_68797_row2_col1\" class=\"data row2 col1\" >Dalmia</td>\n",
              "      <td id=\"T_68797_row2_col2\" class=\"data row2 col2\" >12000</td>\n",
              "    </tr>\n",
              "    <tr>\n",
              "      <td id=\"T_68797_row3_col0\" class=\"data row3 col0\" >Sourav</td>\n",
              "      <td id=\"T_68797_row3_col1\" class=\"data row3 col1\" >Ganguly</td>\n",
              "      <td id=\"T_68797_row3_col2\" class=\"data row3 col2\" >20000</td>\n",
              "    </tr>\n",
              "  </tbody>\n",
              "</table>\n"
            ]
          },
          "metadata": {},
          "execution_count": 21
        }
      ]
    },
    {
      "cell_type": "code",
      "source": [
        "runSelect(\"select firstname, lastname, joindate from empl where joindate between '2004-01-01' and '2005-01-01'\")"
      ],
      "metadata": {
        "colab": {
          "base_uri": "https://localhost:8080/",
          "height": 112
        },
        "id": "b_mWyFTnfIEy",
        "outputId": "2d34b37b-6db0-4d4e-b82f-980401a8b985"
      },
      "execution_count": 22,
      "outputs": [
        {
          "output_type": "execute_result",
          "data": {
            "text/plain": [
              "<pandas.io.formats.style.Styler at 0x79b494257670>"
            ],
            "text/html": [
              "<style type=\"text/css\">\n",
              "</style>\n",
              "<table id=\"T_5b46c\" class=\"dataframe\">\n",
              "  <thead>\n",
              "    <tr>\n",
              "      <th id=\"T_5b46c_level0_col0\" class=\"col_heading level0 col0\" >firstname</th>\n",
              "      <th id=\"T_5b46c_level0_col1\" class=\"col_heading level0 col1\" >lastname</th>\n",
              "      <th id=\"T_5b46c_level0_col2\" class=\"col_heading level0 col2\" >joindate</th>\n",
              "    </tr>\n",
              "  </thead>\n",
              "  <tbody>\n",
              "    <tr>\n",
              "      <td id=\"T_5b46c_row0_col0\" class=\"data row0 col0\" >Shahrukh</td>\n",
              "      <td id=\"T_5b46c_row0_col1\" class=\"data row0 col1\" >Khan</td>\n",
              "      <td id=\"T_5b46c_row0_col2\" class=\"data row0 col2\" >2004-01-03</td>\n",
              "    </tr>\n",
              "    <tr>\n",
              "      <td id=\"T_5b46c_row1_col0\" class=\"data row1 col0\" >Mahender</td>\n",
              "      <td id=\"T_5b46c_row1_col1\" class=\"data row1 col1\" >Dhoni</td>\n",
              "      <td id=\"T_5b46c_row1_col2\" class=\"data row1 col2\" >2004-10-09</td>\n",
              "    </tr>\n",
              "  </tbody>\n",
              "</table>\n"
            ]
          },
          "metadata": {},
          "execution_count": 22
        }
      ]
    },
    {
      "cell_type": "code",
      "source": [
        "runSelect(\"select firstname, lastname, joindate from empl where lastname between 'Dho' and 'Kha'\")"
      ],
      "metadata": {
        "colab": {
          "base_uri": "https://localhost:8080/",
          "height": 238
        },
        "id": "qXs9AeS2fwCS",
        "outputId": "d1bf6c05-c833-46ed-c115-5319b0d71023"
      },
      "execution_count": 23,
      "outputs": [
        {
          "output_type": "execute_result",
          "data": {
            "text/plain": [
              "<pandas.io.formats.style.Styler at 0x79b4942544c0>"
            ],
            "text/html": [
              "<style type=\"text/css\">\n",
              "</style>\n",
              "<table id=\"T_81667\" class=\"dataframe\">\n",
              "  <thead>\n",
              "    <tr>\n",
              "      <th id=\"T_81667_level0_col0\" class=\"col_heading level0 col0\" >firstname</th>\n",
              "      <th id=\"T_81667_level0_col1\" class=\"col_heading level0 col1\" >lastname</th>\n",
              "      <th id=\"T_81667_level0_col2\" class=\"col_heading level0 col2\" >joindate</th>\n",
              "    </tr>\n",
              "  </thead>\n",
              "  <tbody>\n",
              "    <tr>\n",
              "      <td id=\"T_81667_row0_col0\" class=\"data row0 col0\" >Madhuri</td>\n",
              "      <td id=\"T_81667_row0_col1\" class=\"data row0 col1\" >Dikshit</td>\n",
              "      <td id=\"T_81667_row0_col2\" class=\"data row0 col2\" >2002-04-04</td>\n",
              "    </tr>\n",
              "    <tr>\n",
              "      <td id=\"T_81667_row1_col0\" class=\"data row1 col0\" >Mahender</td>\n",
              "      <td id=\"T_81667_row1_col1\" class=\"data row1 col1\" >Dhoni</td>\n",
              "      <td id=\"T_81667_row1_col2\" class=\"data row1 col2\" >2004-10-09</td>\n",
              "    </tr>\n",
              "    <tr>\n",
              "      <td id=\"T_81667_row2_col0\" class=\"data row2 col0\" >Rahul</td>\n",
              "      <td id=\"T_81667_row2_col1\" class=\"data row2 col1\" >Dravid</td>\n",
              "      <td id=\"T_81667_row2_col2\" class=\"data row2 col2\" >2000-06-04</td>\n",
              "    </tr>\n",
              "    <tr>\n",
              "      <td id=\"T_81667_row3_col0\" class=\"data row3 col0\" >Sourav</td>\n",
              "      <td id=\"T_81667_row3_col1\" class=\"data row3 col1\" >Ganguly</td>\n",
              "      <td id=\"T_81667_row3_col2\" class=\"data row3 col2\" >2002-01-01</td>\n",
              "    </tr>\n",
              "    <tr>\n",
              "      <td id=\"T_81667_row4_col0\" class=\"data row4 col0\" >Rekha</td>\n",
              "      <td id=\"T_81667_row4_col1\" class=\"data row4 col1\" >Ganesan</td>\n",
              "      <td id=\"T_81667_row4_col2\" class=\"data row4 col2\" >2002-10-10</td>\n",
              "    </tr>\n",
              "    <tr>\n",
              "      <td id=\"T_81667_row5_col0\" class=\"data row5 col0\" >Narayan</td>\n",
              "      <td id=\"T_81667_row5_col1\" class=\"data row5 col1\" >Karthikeyan</td>\n",
              "      <td id=\"T_81667_row5_col2\" class=\"data row5 col2\" >2005-12-04</td>\n",
              "    </tr>\n",
              "  </tbody>\n",
              "</table>\n"
            ]
          },
          "metadata": {},
          "execution_count": 23
        }
      ]
    },
    {
      "cell_type": "markdown",
      "source": [
        "## IN"
      ],
      "metadata": {
        "id": "azhy0TQLiLy-"
      }
    },
    {
      "cell_type": "code",
      "source": [
        "runSelect(\"select firstname, lastname, deptid from empl where deptid in ('30','20','70')\")"
      ],
      "metadata": {
        "colab": {
          "base_uri": "https://localhost:8080/",
          "height": 269
        },
        "id": "UyBE-FuoibSZ",
        "outputId": "ce65b55a-101c-4cd1-b696-093b69a71b51"
      },
      "execution_count": 24,
      "outputs": [
        {
          "output_type": "execute_result",
          "data": {
            "text/plain": [
              "<pandas.io.formats.style.Styler at 0x79b4942a3400>"
            ],
            "text/html": [
              "<style type=\"text/css\">\n",
              "</style>\n",
              "<table id=\"T_1c41e\" class=\"dataframe\">\n",
              "  <thead>\n",
              "    <tr>\n",
              "      <th id=\"T_1c41e_level0_col0\" class=\"col_heading level0 col0\" >firstname</th>\n",
              "      <th id=\"T_1c41e_level0_col1\" class=\"col_heading level0 col1\" >lastname</th>\n",
              "      <th id=\"T_1c41e_level0_col2\" class=\"col_heading level0 col2\" >deptid</th>\n",
              "    </tr>\n",
              "  </thead>\n",
              "  <tbody>\n",
              "    <tr>\n",
              "      <td id=\"T_1c41e_row0_col0\" class=\"data row0 col0\" >Madhuri</td>\n",
              "      <td id=\"T_1c41e_row0_col1\" class=\"data row0 col1\" >Dikshit</td>\n",
              "      <td id=\"T_1c41e_row0_col2\" class=\"data row0 col2\" >20</td>\n",
              "    </tr>\n",
              "    <tr>\n",
              "      <td id=\"T_1c41e_row1_col0\" class=\"data row1 col0\" >Shahrukh</td>\n",
              "      <td id=\"T_1c41e_row1_col1\" class=\"data row1 col1\" >Khan</td>\n",
              "      <td id=\"T_1c41e_row1_col2\" class=\"data row1 col2\" >20</td>\n",
              "    </tr>\n",
              "    <tr>\n",
              "      <td id=\"T_1c41e_row2_col0\" class=\"data row2 col0\" >Virender</td>\n",
              "      <td id=\"T_1c41e_row2_col1\" class=\"data row2 col1\" >Sehwag</td>\n",
              "      <td id=\"T_1c41e_row2_col2\" class=\"data row2 col2\" >20</td>\n",
              "    </tr>\n",
              "    <tr>\n",
              "      <td id=\"T_1c41e_row3_col0\" class=\"data row3 col0\" >Rahul</td>\n",
              "      <td id=\"T_1c41e_row3_col1\" class=\"data row3 col1\" >Dravid</td>\n",
              "      <td id=\"T_1c41e_row3_col2\" class=\"data row3 col2\" >30</td>\n",
              "    </tr>\n",
              "    <tr>\n",
              "      <td id=\"T_1c41e_row4_col0\" class=\"data row4 col0\" >Jagmohan</td>\n",
              "      <td id=\"T_1c41e_row4_col1\" class=\"data row4 col1\" >Dalmia</td>\n",
              "      <td id=\"T_1c41e_row4_col2\" class=\"data row4 col2\" >30</td>\n",
              "    </tr>\n",
              "    <tr>\n",
              "      <td id=\"T_1c41e_row5_col0\" class=\"data row5 col0\" >Chettri</td>\n",
              "      <td id=\"T_1c41e_row5_col1\" class=\"data row5 col1\" >Sunil</td>\n",
              "      <td id=\"T_1c41e_row5_col2\" class=\"data row5 col2\" >70</td>\n",
              "    </tr>\n",
              "    <tr>\n",
              "      <td id=\"T_1c41e_row6_col0\" class=\"data row6 col0\" >Sania</td>\n",
              "      <td id=\"T_1c41e_row6_col1\" class=\"data row6 col1\" >Mirza</td>\n",
              "      <td id=\"T_1c41e_row6_col2\" class=\"data row6 col2\" >30</td>\n",
              "    </tr>\n",
              "  </tbody>\n",
              "</table>\n"
            ]
          },
          "metadata": {},
          "execution_count": 24
        }
      ]
    },
    {
      "cell_type": "code",
      "source": [
        "runSelect(\"select firstname, lastname, salary from empl where firstname in ('Madhuri','Shahrukh','Virender')\")"
      ],
      "metadata": {
        "colab": {
          "base_uri": "https://localhost:8080/",
          "height": 143
        },
        "id": "9qTEO-OuiN3A",
        "outputId": "7fd38d4a-1324-406b-86e8-2d3908225c5b"
      },
      "execution_count": 25,
      "outputs": [
        {
          "output_type": "execute_result",
          "data": {
            "text/plain": [
              "<pandas.io.formats.style.Styler at 0x79b494257190>"
            ],
            "text/html": [
              "<style type=\"text/css\">\n",
              "</style>\n",
              "<table id=\"T_d2f83\" class=\"dataframe\">\n",
              "  <thead>\n",
              "    <tr>\n",
              "      <th id=\"T_d2f83_level0_col0\" class=\"col_heading level0 col0\" >firstname</th>\n",
              "      <th id=\"T_d2f83_level0_col1\" class=\"col_heading level0 col1\" >lastname</th>\n",
              "      <th id=\"T_d2f83_level0_col2\" class=\"col_heading level0 col2\" >salary</th>\n",
              "    </tr>\n",
              "  </thead>\n",
              "  <tbody>\n",
              "    <tr>\n",
              "      <td id=\"T_d2f83_row0_col0\" class=\"data row0 col0\" >Madhuri</td>\n",
              "      <td id=\"T_d2f83_row0_col1\" class=\"data row0 col1\" >Dikshit</td>\n",
              "      <td id=\"T_d2f83_row0_col2\" class=\"data row0 col2\" >10000</td>\n",
              "    </tr>\n",
              "    <tr>\n",
              "      <td id=\"T_d2f83_row1_col0\" class=\"data row1 col0\" >Shahrukh</td>\n",
              "      <td id=\"T_d2f83_row1_col1\" class=\"data row1 col1\" >Khan</td>\n",
              "      <td id=\"T_d2f83_row1_col2\" class=\"data row1 col2\" >30000</td>\n",
              "    </tr>\n",
              "    <tr>\n",
              "      <td id=\"T_d2f83_row2_col0\" class=\"data row2 col0\" >Virender</td>\n",
              "      <td id=\"T_d2f83_row2_col1\" class=\"data row2 col1\" >Sehwag</td>\n",
              "      <td id=\"T_d2f83_row2_col2\" class=\"data row2 col2\" >15000</td>\n",
              "    </tr>\n",
              "  </tbody>\n",
              "</table>\n"
            ]
          },
          "metadata": {},
          "execution_count": 25
        }
      ]
    },
    {
      "cell_type": "markdown",
      "source": [
        "## Order by"
      ],
      "metadata": {
        "id": "vlOCT_zAkzMb"
      }
    },
    {
      "cell_type": "code",
      "source": [
        "runSelect(\"select firstname, lastname, joindate from empl where firstname in ('Madhuri','Shahrukh','Virender') order by joindate\")"
      ],
      "metadata": {
        "colab": {
          "base_uri": "https://localhost:8080/",
          "height": 143
        },
        "id": "WidoGzLVk1in",
        "outputId": "8df4f38c-8c52-4c95-bf35-fd104ee3e26b"
      },
      "execution_count": 26,
      "outputs": [
        {
          "output_type": "execute_result",
          "data": {
            "text/plain": [
              "<pandas.io.formats.style.Styler at 0x79b4942569b0>"
            ],
            "text/html": [
              "<style type=\"text/css\">\n",
              "</style>\n",
              "<table id=\"T_d4c34\" class=\"dataframe\">\n",
              "  <thead>\n",
              "    <tr>\n",
              "      <th id=\"T_d4c34_level0_col0\" class=\"col_heading level0 col0\" >firstname</th>\n",
              "      <th id=\"T_d4c34_level0_col1\" class=\"col_heading level0 col1\" >lastname</th>\n",
              "      <th id=\"T_d4c34_level0_col2\" class=\"col_heading level0 col2\" >joindate</th>\n",
              "    </tr>\n",
              "  </thead>\n",
              "  <tbody>\n",
              "    <tr>\n",
              "      <td id=\"T_d4c34_row0_col0\" class=\"data row0 col0\" >Madhuri</td>\n",
              "      <td id=\"T_d4c34_row0_col1\" class=\"data row0 col1\" >Dikshit</td>\n",
              "      <td id=\"T_d4c34_row0_col2\" class=\"data row0 col2\" >2002-04-04</td>\n",
              "    </tr>\n",
              "    <tr>\n",
              "      <td id=\"T_d4c34_row1_col0\" class=\"data row1 col0\" >Shahrukh</td>\n",
              "      <td id=\"T_d4c34_row1_col1\" class=\"data row1 col1\" >Khan</td>\n",
              "      <td id=\"T_d4c34_row1_col2\" class=\"data row1 col2\" >2004-01-03</td>\n",
              "    </tr>\n",
              "    <tr>\n",
              "      <td id=\"T_d4c34_row2_col0\" class=\"data row2 col0\" >Virender</td>\n",
              "      <td id=\"T_d4c34_row2_col1\" class=\"data row2 col1\" >Sehwag</td>\n",
              "      <td id=\"T_d4c34_row2_col2\" class=\"data row2 col2\" >2005-01-02</td>\n",
              "    </tr>\n",
              "  </tbody>\n",
              "</table>\n"
            ]
          },
          "metadata": {},
          "execution_count": 26
        }
      ]
    },
    {
      "cell_type": "code",
      "source": [
        "runSelect(\"select firstname, lastname, jobdesc, salary, deptid from empl where deptid = '10' order by salary desc\")"
      ],
      "metadata": {
        "colab": {
          "base_uri": "https://localhost:8080/",
          "height": 143
        },
        "id": "Iq_7jWr-lRlO",
        "outputId": "73139995-ca0d-4cb7-916b-1d820a435c97"
      },
      "execution_count": 27,
      "outputs": [
        {
          "output_type": "execute_result",
          "data": {
            "text/plain": [
              "<pandas.io.formats.style.Styler at 0x79b494255f30>"
            ],
            "text/html": [
              "<style type=\"text/css\">\n",
              "</style>\n",
              "<table id=\"T_46235\" class=\"dataframe\">\n",
              "  <thead>\n",
              "    <tr>\n",
              "      <th id=\"T_46235_level0_col0\" class=\"col_heading level0 col0\" >firstname</th>\n",
              "      <th id=\"T_46235_level0_col1\" class=\"col_heading level0 col1\" >lastname</th>\n",
              "      <th id=\"T_46235_level0_col2\" class=\"col_heading level0 col2\" >jobdesc</th>\n",
              "      <th id=\"T_46235_level0_col3\" class=\"col_heading level0 col3\" >salary</th>\n",
              "      <th id=\"T_46235_level0_col4\" class=\"col_heading level0 col4\" >deptid</th>\n",
              "    </tr>\n",
              "  </thead>\n",
              "  <tbody>\n",
              "    <tr>\n",
              "      <td id=\"T_46235_row0_col0\" class=\"data row0 col0\" >Rekha</td>\n",
              "      <td id=\"T_46235_row0_col1\" class=\"data row0 col1\" >Ganesan</td>\n",
              "      <td id=\"T_46235_row0_col2\" class=\"data row0 col2\" >Director</td>\n",
              "      <td id=\"T_46235_row0_col3\" class=\"data row0 col3\" >60000</td>\n",
              "      <td id=\"T_46235_row0_col4\" class=\"data row0 col4\" >10</td>\n",
              "    </tr>\n",
              "    <tr>\n",
              "      <td id=\"T_46235_row1_col0\" class=\"data row1 col0\" >Amitabh</td>\n",
              "      <td id=\"T_46235_row1_col1\" class=\"data row1 col1\" >Bacchan</td>\n",
              "      <td id=\"T_46235_row1_col2\" class=\"data row1 col2\" >Executive</td>\n",
              "      <td id=\"T_46235_row1_col3\" class=\"data row1 col3\" >50000</td>\n",
              "      <td id=\"T_46235_row1_col4\" class=\"data row1 col4\" >10</td>\n",
              "    </tr>\n",
              "    <tr>\n",
              "      <td id=\"T_46235_row2_col0\" class=\"data row2 col0\" >Narayan</td>\n",
              "      <td id=\"T_46235_row2_col1\" class=\"data row2 col1\" >Karthikeyan</td>\n",
              "      <td id=\"T_46235_row2_col2\" class=\"data row2 col2\" >Secretary</td>\n",
              "      <td id=\"T_46235_row2_col3\" class=\"data row2 col3\" >40000</td>\n",
              "      <td id=\"T_46235_row2_col4\" class=\"data row2 col4\" >10</td>\n",
              "    </tr>\n",
              "  </tbody>\n",
              "</table>\n"
            ]
          },
          "metadata": {},
          "execution_count": 27
        }
      ]
    },
    {
      "cell_type": "markdown",
      "source": [
        "## Logical AND | OR"
      ],
      "metadata": {
        "id": "-JDEmZtsm0o1"
      }
    },
    {
      "cell_type": "code",
      "source": [
        "runSelect(\"select lastname, jobdesc, salary, deptid from empl where deptid = '20'\")"
      ],
      "metadata": {
        "colab": {
          "base_uri": "https://localhost:8080/",
          "height": 143
        },
        "id": "rli0DBhIm54M",
        "outputId": "8056b1ac-0f5a-4f9f-dcfd-f40489d6a440"
      },
      "execution_count": 28,
      "outputs": [
        {
          "output_type": "execute_result",
          "data": {
            "text/plain": [
              "<pandas.io.formats.style.Styler at 0x79b494237070>"
            ],
            "text/html": [
              "<style type=\"text/css\">\n",
              "</style>\n",
              "<table id=\"T_e2eb7\" class=\"dataframe\">\n",
              "  <thead>\n",
              "    <tr>\n",
              "      <th id=\"T_e2eb7_level0_col0\" class=\"col_heading level0 col0\" >lastname</th>\n",
              "      <th id=\"T_e2eb7_level0_col1\" class=\"col_heading level0 col1\" >jobdesc</th>\n",
              "      <th id=\"T_e2eb7_level0_col2\" class=\"col_heading level0 col2\" >salary</th>\n",
              "      <th id=\"T_e2eb7_level0_col3\" class=\"col_heading level0 col3\" >deptid</th>\n",
              "    </tr>\n",
              "  </thead>\n",
              "  <tbody>\n",
              "    <tr>\n",
              "      <td id=\"T_e2eb7_row0_col0\" class=\"data row0 col0\" >Dikshit</td>\n",
              "      <td id=\"T_e2eb7_row0_col1\" class=\"data row0 col1\" >Clerk</td>\n",
              "      <td id=\"T_e2eb7_row0_col2\" class=\"data row0 col2\" >10000</td>\n",
              "      <td id=\"T_e2eb7_row0_col3\" class=\"data row0 col3\" >20</td>\n",
              "    </tr>\n",
              "    <tr>\n",
              "      <td id=\"T_e2eb7_row1_col0\" class=\"data row1 col0\" >Khan</td>\n",
              "      <td id=\"T_e2eb7_row1_col1\" class=\"data row1 col1\" >Manager</td>\n",
              "      <td id=\"T_e2eb7_row1_col2\" class=\"data row1 col2\" >30000</td>\n",
              "      <td id=\"T_e2eb7_row1_col3\" class=\"data row1 col3\" >20</td>\n",
              "    </tr>\n",
              "    <tr>\n",
              "      <td id=\"T_e2eb7_row2_col0\" class=\"data row2 col0\" >Sehwag</td>\n",
              "      <td id=\"T_e2eb7_row2_col1\" class=\"data row2 col1\" >Cus_Rep</td>\n",
              "      <td id=\"T_e2eb7_row2_col2\" class=\"data row2 col2\" >15000</td>\n",
              "      <td id=\"T_e2eb7_row2_col3\" class=\"data row2 col3\" >20</td>\n",
              "    </tr>\n",
              "  </tbody>\n",
              "</table>\n"
            ]
          },
          "metadata": {},
          "execution_count": 28
        }
      ]
    },
    {
      "cell_type": "code",
      "source": [
        "runSelect(\"select lastname, jobdesc, salary, deptid from empl where deptid = '20' and salary > 10000\")"
      ],
      "metadata": {
        "colab": {
          "base_uri": "https://localhost:8080/",
          "height": 112
        },
        "id": "wHIJoUGqnuwa",
        "outputId": "2ebe1542-c034-4125-a704-d9fe39623b98"
      },
      "execution_count": 29,
      "outputs": [
        {
          "output_type": "execute_result",
          "data": {
            "text/plain": [
              "<pandas.io.formats.style.Styler at 0x79b494254100>"
            ],
            "text/html": [
              "<style type=\"text/css\">\n",
              "</style>\n",
              "<table id=\"T_befcc\" class=\"dataframe\">\n",
              "  <thead>\n",
              "    <tr>\n",
              "      <th id=\"T_befcc_level0_col0\" class=\"col_heading level0 col0\" >lastname</th>\n",
              "      <th id=\"T_befcc_level0_col1\" class=\"col_heading level0 col1\" >jobdesc</th>\n",
              "      <th id=\"T_befcc_level0_col2\" class=\"col_heading level0 col2\" >salary</th>\n",
              "      <th id=\"T_befcc_level0_col3\" class=\"col_heading level0 col3\" >deptid</th>\n",
              "    </tr>\n",
              "  </thead>\n",
              "  <tbody>\n",
              "    <tr>\n",
              "      <td id=\"T_befcc_row0_col0\" class=\"data row0 col0\" >Khan</td>\n",
              "      <td id=\"T_befcc_row0_col1\" class=\"data row0 col1\" >Manager</td>\n",
              "      <td id=\"T_befcc_row0_col2\" class=\"data row0 col2\" >30000</td>\n",
              "      <td id=\"T_befcc_row0_col3\" class=\"data row0 col3\" >20</td>\n",
              "    </tr>\n",
              "    <tr>\n",
              "      <td id=\"T_befcc_row1_col0\" class=\"data row1 col0\" >Sehwag</td>\n",
              "      <td id=\"T_befcc_row1_col1\" class=\"data row1 col1\" >Cus_Rep</td>\n",
              "      <td id=\"T_befcc_row1_col2\" class=\"data row1 col2\" >15000</td>\n",
              "      <td id=\"T_befcc_row1_col3\" class=\"data row1 col3\" >20</td>\n",
              "    </tr>\n",
              "  </tbody>\n",
              "</table>\n"
            ]
          },
          "metadata": {},
          "execution_count": 29
        }
      ]
    },
    {
      "cell_type": "code",
      "source": [
        "runSelect(\"select lastname, jobdesc, salary, deptid from empl where deptid = '20' and salary > 10000 and jobdesc = 'Clerk'\")"
      ],
      "metadata": {
        "colab": {
          "base_uri": "https://localhost:8080/"
        },
        "id": "fnB8p8-EnzH2",
        "outputId": "fa2fbd21-315f-407b-98bb-812dcdc889f1"
      },
      "execution_count": 30,
      "outputs": [
        {
          "output_type": "stream",
          "name": "stdout",
          "text": [
            "no records found\n"
          ]
        }
      ]
    },
    {
      "cell_type": "code",
      "source": [
        "runSelect(\"select lastname, jobdesc, deptid from empl where deptid = '70'\")"
      ],
      "metadata": {
        "colab": {
          "base_uri": "https://localhost:8080/",
          "height": 81
        },
        "id": "uEKUIgOMqtLw",
        "outputId": "934f9a92-5094-4802-ca99-52effb5c5d2c"
      },
      "execution_count": 31,
      "outputs": [
        {
          "output_type": "execute_result",
          "data": {
            "text/plain": [
              "<pandas.io.formats.style.Styler at 0x79b494234400>"
            ],
            "text/html": [
              "<style type=\"text/css\">\n",
              "</style>\n",
              "<table id=\"T_14c08\" class=\"dataframe\">\n",
              "  <thead>\n",
              "    <tr>\n",
              "      <th id=\"T_14c08_level0_col0\" class=\"col_heading level0 col0\" >lastname</th>\n",
              "      <th id=\"T_14c08_level0_col1\" class=\"col_heading level0 col1\" >jobdesc</th>\n",
              "      <th id=\"T_14c08_level0_col2\" class=\"col_heading level0 col2\" >deptid</th>\n",
              "    </tr>\n",
              "  </thead>\n",
              "  <tbody>\n",
              "    <tr>\n",
              "      <td id=\"T_14c08_row0_col0\" class=\"data row0 col0\" >Sunil</td>\n",
              "      <td id=\"T_14c08_row0_col1\" class=\"data row0 col1\" >Dy Manager</td>\n",
              "      <td id=\"T_14c08_row0_col2\" class=\"data row0 col2\" >70</td>\n",
              "    </tr>\n",
              "  </tbody>\n",
              "</table>\n"
            ]
          },
          "metadata": {},
          "execution_count": 31
        }
      ]
    },
    {
      "cell_type": "code",
      "source": [
        "runSelect(\"select lastname, jobdesc, deptid from empl where deptid = '70' or jobdesc like '%Manager'\")"
      ],
      "metadata": {
        "colab": {
          "base_uri": "https://localhost:8080/",
          "height": 175
        },
        "id": "Ne0eLRV3qyTn",
        "outputId": "665914c2-282d-47c5-fd7e-142d23520149"
      },
      "execution_count": 32,
      "outputs": [
        {
          "output_type": "execute_result",
          "data": {
            "text/plain": [
              "<pandas.io.formats.style.Styler at 0x79b4942355d0>"
            ],
            "text/html": [
              "<style type=\"text/css\">\n",
              "</style>\n",
              "<table id=\"T_adae1\" class=\"dataframe\">\n",
              "  <thead>\n",
              "    <tr>\n",
              "      <th id=\"T_adae1_level0_col0\" class=\"col_heading level0 col0\" >lastname</th>\n",
              "      <th id=\"T_adae1_level0_col1\" class=\"col_heading level0 col1\" >jobdesc</th>\n",
              "      <th id=\"T_adae1_level0_col2\" class=\"col_heading level0 col2\" >deptid</th>\n",
              "    </tr>\n",
              "  </thead>\n",
              "  <tbody>\n",
              "    <tr>\n",
              "      <td id=\"T_adae1_row0_col0\" class=\"data row0 col0\" >Mukherjee</td>\n",
              "      <td id=\"T_adae1_row0_col1\" class=\"data row0 col1\" >Manager</td>\n",
              "      <td id=\"T_adae1_row0_col2\" class=\"data row0 col2\" >40</td>\n",
              "    </tr>\n",
              "    <tr>\n",
              "      <td id=\"T_adae1_row1_col0\" class=\"data row1 col0\" >Khan</td>\n",
              "      <td id=\"T_adae1_row1_col1\" class=\"data row1 col1\" >Manager</td>\n",
              "      <td id=\"T_adae1_row1_col2\" class=\"data row1 col2\" >20</td>\n",
              "    </tr>\n",
              "    <tr>\n",
              "      <td id=\"T_adae1_row2_col0\" class=\"data row2 col0\" >Dravid</td>\n",
              "      <td id=\"T_adae1_row2_col1\" class=\"data row2 col1\" >Sr Manager</td>\n",
              "      <td id=\"T_adae1_row2_col2\" class=\"data row2 col2\" >30</td>\n",
              "    </tr>\n",
              "    <tr>\n",
              "      <td id=\"T_adae1_row3_col0\" class=\"data row3 col0\" >Sunil</td>\n",
              "      <td id=\"T_adae1_row3_col1\" class=\"data row3 col1\" >Dy Manager</td>\n",
              "      <td id=\"T_adae1_row3_col2\" class=\"data row3 col2\" >70</td>\n",
              "    </tr>\n",
              "  </tbody>\n",
              "</table>\n"
            ]
          },
          "metadata": {},
          "execution_count": 32
        }
      ]
    },
    {
      "cell_type": "code",
      "source": [
        "runSelect(\"select lastname, jobdesc, deptid from empl where deptid = '70' or jobdesc like '%Manager' or lastname = 'Dikshit'\")"
      ],
      "metadata": {
        "colab": {
          "base_uri": "https://localhost:8080/",
          "height": 206
        },
        "id": "aR3eNz7xq8Xo",
        "outputId": "75e73284-83e7-416b-f58c-3fbae2f9ae6b"
      },
      "execution_count": 33,
      "outputs": [
        {
          "output_type": "execute_result",
          "data": {
            "text/plain": [
              "<pandas.io.formats.style.Styler at 0x79b494236ad0>"
            ],
            "text/html": [
              "<style type=\"text/css\">\n",
              "</style>\n",
              "<table id=\"T_78cc0\" class=\"dataframe\">\n",
              "  <thead>\n",
              "    <tr>\n",
              "      <th id=\"T_78cc0_level0_col0\" class=\"col_heading level0 col0\" >lastname</th>\n",
              "      <th id=\"T_78cc0_level0_col1\" class=\"col_heading level0 col1\" >jobdesc</th>\n",
              "      <th id=\"T_78cc0_level0_col2\" class=\"col_heading level0 col2\" >deptid</th>\n",
              "    </tr>\n",
              "  </thead>\n",
              "  <tbody>\n",
              "    <tr>\n",
              "      <td id=\"T_78cc0_row0_col0\" class=\"data row0 col0\" >Mukherjee</td>\n",
              "      <td id=\"T_78cc0_row0_col1\" class=\"data row0 col1\" >Manager</td>\n",
              "      <td id=\"T_78cc0_row0_col2\" class=\"data row0 col2\" >40</td>\n",
              "    </tr>\n",
              "    <tr>\n",
              "      <td id=\"T_78cc0_row1_col0\" class=\"data row1 col0\" >Dikshit</td>\n",
              "      <td id=\"T_78cc0_row1_col1\" class=\"data row1 col1\" >Clerk</td>\n",
              "      <td id=\"T_78cc0_row1_col2\" class=\"data row1 col2\" >20</td>\n",
              "    </tr>\n",
              "    <tr>\n",
              "      <td id=\"T_78cc0_row2_col0\" class=\"data row2 col0\" >Khan</td>\n",
              "      <td id=\"T_78cc0_row2_col1\" class=\"data row2 col1\" >Manager</td>\n",
              "      <td id=\"T_78cc0_row2_col2\" class=\"data row2 col2\" >20</td>\n",
              "    </tr>\n",
              "    <tr>\n",
              "      <td id=\"T_78cc0_row3_col0\" class=\"data row3 col0\" >Dravid</td>\n",
              "      <td id=\"T_78cc0_row3_col1\" class=\"data row3 col1\" >Sr Manager</td>\n",
              "      <td id=\"T_78cc0_row3_col2\" class=\"data row3 col2\" >30</td>\n",
              "    </tr>\n",
              "    <tr>\n",
              "      <td id=\"T_78cc0_row4_col0\" class=\"data row4 col0\" >Sunil</td>\n",
              "      <td id=\"T_78cc0_row4_col1\" class=\"data row4 col1\" >Dy Manager</td>\n",
              "      <td id=\"T_78cc0_row4_col2\" class=\"data row4 col2\" >70</td>\n",
              "    </tr>\n",
              "  </tbody>\n",
              "</table>\n"
            ]
          },
          "metadata": {},
          "execution_count": 33
        }
      ]
    },
    {
      "cell_type": "code",
      "source": [
        "runSelect(\"select lastname, jobdesc, salary from empl where jobdesc = 'Cus_Rep' or jobdesc = 'Clerk' and salary < 16000\")"
      ],
      "metadata": {
        "colab": {
          "base_uri": "https://localhost:8080/",
          "height": 238
        },
        "id": "Ov0HErC0txm4",
        "outputId": "fe04dcd5-1422-40b9-a744-8e1e605ddebe"
      },
      "execution_count": 34,
      "outputs": [
        {
          "output_type": "execute_result",
          "data": {
            "text/plain": [
              "<pandas.io.formats.style.Styler at 0x79b494236860>"
            ],
            "text/html": [
              "<style type=\"text/css\">\n",
              "</style>\n",
              "<table id=\"T_fa8ba\" class=\"dataframe\">\n",
              "  <thead>\n",
              "    <tr>\n",
              "      <th id=\"T_fa8ba_level0_col0\" class=\"col_heading level0 col0\" >lastname</th>\n",
              "      <th id=\"T_fa8ba_level0_col1\" class=\"col_heading level0 col1\" >jobdesc</th>\n",
              "      <th id=\"T_fa8ba_level0_col2\" class=\"col_heading level0 col2\" >salary</th>\n",
              "    </tr>\n",
              "  </thead>\n",
              "  <tbody>\n",
              "    <tr>\n",
              "      <td id=\"T_fa8ba_row0_col0\" class=\"data row0 col0\" >Dikshit</td>\n",
              "      <td id=\"T_fa8ba_row0_col1\" class=\"data row0 col1\" >Clerk</td>\n",
              "      <td id=\"T_fa8ba_row0_col2\" class=\"data row0 col2\" >10000</td>\n",
              "    </tr>\n",
              "    <tr>\n",
              "      <td id=\"T_fa8ba_row1_col0\" class=\"data row1 col0\" >Sehwag</td>\n",
              "      <td id=\"T_fa8ba_row1_col1\" class=\"data row1 col1\" >Cus_Rep</td>\n",
              "      <td id=\"T_fa8ba_row1_col2\" class=\"data row1 col2\" >15000</td>\n",
              "    </tr>\n",
              "    <tr>\n",
              "      <td id=\"T_fa8ba_row2_col0\" class=\"data row2 col0\" >Dhoni</td>\n",
              "      <td id=\"T_fa8ba_row2_col1\" class=\"data row2 col1\" >Clerk</td>\n",
              "      <td id=\"T_fa8ba_row2_col2\" class=\"data row2 col2\" >9000</td>\n",
              "    </tr>\n",
              "    <tr>\n",
              "      <td id=\"T_fa8ba_row3_col0\" class=\"data row3 col0\" >Dalmia</td>\n",
              "      <td id=\"T_fa8ba_row3_col1\" class=\"data row3 col1\" >Clerk</td>\n",
              "      <td id=\"T_fa8ba_row3_col2\" class=\"data row3 col2\" >12000</td>\n",
              "    </tr>\n",
              "    <tr>\n",
              "      <td id=\"T_fa8ba_row4_col0\" class=\"data row4 col0\" >Ganguly</td>\n",
              "      <td id=\"T_fa8ba_row4_col1\" class=\"data row4 col1\" >Cus_Rep</td>\n",
              "      <td id=\"T_fa8ba_row4_col2\" class=\"data row4 col2\" >20000</td>\n",
              "    </tr>\n",
              "    <tr>\n",
              "      <td id=\"T_fa8ba_row5_col0\" class=\"data row5 col0\" >Mirza</td>\n",
              "      <td id=\"T_fa8ba_row5_col1\" class=\"data row5 col1\" >Cus_Rep</td>\n",
              "      <td id=\"T_fa8ba_row5_col2\" class=\"data row5 col2\" >25000</td>\n",
              "    </tr>\n",
              "  </tbody>\n",
              "</table>\n"
            ]
          },
          "metadata": {},
          "execution_count": 34
        }
      ]
    },
    {
      "cell_type": "code",
      "source": [
        "runSelect(\"select lastname, jobdesc, salary from empl where (jobdesc = 'Cus_Rep' or jobdesc = 'Clerk') and salary < 16000\")"
      ],
      "metadata": {
        "colab": {
          "base_uri": "https://localhost:8080/",
          "height": 175
        },
        "id": "g7hbzjdxuOt6",
        "outputId": "ccd8666d-9691-46fd-d3a7-001f06a8babd"
      },
      "execution_count": 35,
      "outputs": [
        {
          "output_type": "execute_result",
          "data": {
            "text/plain": [
              "<pandas.io.formats.style.Styler at 0x79b4941fbdf0>"
            ],
            "text/html": [
              "<style type=\"text/css\">\n",
              "</style>\n",
              "<table id=\"T_61515\" class=\"dataframe\">\n",
              "  <thead>\n",
              "    <tr>\n",
              "      <th id=\"T_61515_level0_col0\" class=\"col_heading level0 col0\" >lastname</th>\n",
              "      <th id=\"T_61515_level0_col1\" class=\"col_heading level0 col1\" >jobdesc</th>\n",
              "      <th id=\"T_61515_level0_col2\" class=\"col_heading level0 col2\" >salary</th>\n",
              "    </tr>\n",
              "  </thead>\n",
              "  <tbody>\n",
              "    <tr>\n",
              "      <td id=\"T_61515_row0_col0\" class=\"data row0 col0\" >Dikshit</td>\n",
              "      <td id=\"T_61515_row0_col1\" class=\"data row0 col1\" >Clerk</td>\n",
              "      <td id=\"T_61515_row0_col2\" class=\"data row0 col2\" >10000</td>\n",
              "    </tr>\n",
              "    <tr>\n",
              "      <td id=\"T_61515_row1_col0\" class=\"data row1 col0\" >Sehwag</td>\n",
              "      <td id=\"T_61515_row1_col1\" class=\"data row1 col1\" >Cus_Rep</td>\n",
              "      <td id=\"T_61515_row1_col2\" class=\"data row1 col2\" >15000</td>\n",
              "    </tr>\n",
              "    <tr>\n",
              "      <td id=\"T_61515_row2_col0\" class=\"data row2 col0\" >Dhoni</td>\n",
              "      <td id=\"T_61515_row2_col1\" class=\"data row2 col1\" >Clerk</td>\n",
              "      <td id=\"T_61515_row2_col2\" class=\"data row2 col2\" >9000</td>\n",
              "    </tr>\n",
              "    <tr>\n",
              "      <td id=\"T_61515_row3_col0\" class=\"data row3 col0\" >Dalmia</td>\n",
              "      <td id=\"T_61515_row3_col1\" class=\"data row3 col1\" >Clerk</td>\n",
              "      <td id=\"T_61515_row3_col2\" class=\"data row3 col2\" >12000</td>\n",
              "    </tr>\n",
              "  </tbody>\n",
              "</table>\n"
            ]
          },
          "metadata": {},
          "execution_count": 35
        }
      ]
    },
    {
      "cell_type": "markdown",
      "source": [
        "# Single Row Functions"
      ],
      "metadata": {
        "id": "ND-8LYQcxsG2"
      }
    },
    {
      "cell_type": "code",
      "source": [
        "runSelect(\"select lastname, deptid, salary, comm, salary+salary*comm payout from empl where deptid = '20'\")"
      ],
      "metadata": {
        "colab": {
          "base_uri": "https://localhost:8080/",
          "height": 143
        },
        "id": "s71weE_hyDwf",
        "outputId": "c8c0a94a-1976-4fae-dbe1-753bbecd4616"
      },
      "execution_count": 36,
      "outputs": [
        {
          "output_type": "execute_result",
          "data": {
            "text/plain": [
              "<pandas.io.formats.style.Styler at 0x79b494235ab0>"
            ],
            "text/html": [
              "<style type=\"text/css\">\n",
              "</style>\n",
              "<table id=\"T_349e9\" class=\"dataframe\">\n",
              "  <thead>\n",
              "    <tr>\n",
              "      <th id=\"T_349e9_level0_col0\" class=\"col_heading level0 col0\" >lastname</th>\n",
              "      <th id=\"T_349e9_level0_col1\" class=\"col_heading level0 col1\" >deptid</th>\n",
              "      <th id=\"T_349e9_level0_col2\" class=\"col_heading level0 col2\" >salary</th>\n",
              "      <th id=\"T_349e9_level0_col3\" class=\"col_heading level0 col3\" >comm</th>\n",
              "      <th id=\"T_349e9_level0_col4\" class=\"col_heading level0 col4\" >payout</th>\n",
              "    </tr>\n",
              "  </thead>\n",
              "  <tbody>\n",
              "    <tr>\n",
              "      <td id=\"T_349e9_row0_col0\" class=\"data row0 col0\" >Dikshit</td>\n",
              "      <td id=\"T_349e9_row0_col1\" class=\"data row0 col1\" >20</td>\n",
              "      <td id=\"T_349e9_row0_col2\" class=\"data row0 col2\" >10000</td>\n",
              "      <td id=\"T_349e9_row0_col3\" class=\"data row0 col3\" >0.02</td>\n",
              "      <td id=\"T_349e9_row0_col4\" class=\"data row0 col4\" >10200.00</td>\n",
              "    </tr>\n",
              "    <tr>\n",
              "      <td id=\"T_349e9_row1_col0\" class=\"data row1 col0\" >Khan</td>\n",
              "      <td id=\"T_349e9_row1_col1\" class=\"data row1 col1\" >20</td>\n",
              "      <td id=\"T_349e9_row1_col2\" class=\"data row1 col2\" >30000</td>\n",
              "      <td id=\"T_349e9_row1_col3\" class=\"data row1 col3\" >0.07</td>\n",
              "      <td id=\"T_349e9_row1_col4\" class=\"data row1 col4\" >32100.00</td>\n",
              "    </tr>\n",
              "    <tr>\n",
              "      <td id=\"T_349e9_row2_col0\" class=\"data row2 col0\" >Sehwag</td>\n",
              "      <td id=\"T_349e9_row2_col1\" class=\"data row2 col1\" >20</td>\n",
              "      <td id=\"T_349e9_row2_col2\" class=\"data row2 col2\" >15000</td>\n",
              "      <td id=\"T_349e9_row2_col3\" class=\"data row2 col3\" >0.05</td>\n",
              "      <td id=\"T_349e9_row2_col4\" class=\"data row2 col4\" >15750.00</td>\n",
              "    </tr>\n",
              "  </tbody>\n",
              "</table>\n"
            ]
          },
          "metadata": {},
          "execution_count": 36
        }
      ]
    },
    {
      "cell_type": "code",
      "source": [
        "runSelect(\"select lastname, firstname, deptid, substring(firstname,1,3) nick from empl where deptid = '20'\")"
      ],
      "metadata": {
        "colab": {
          "base_uri": "https://localhost:8080/",
          "height": 143
        },
        "id": "I3rkoZrYyb_P",
        "outputId": "b4108460-5db7-4e19-97f8-c48e4cd4b0f9"
      },
      "execution_count": 37,
      "outputs": [
        {
          "output_type": "execute_result",
          "data": {
            "text/plain": [
              "<pandas.io.formats.style.Styler at 0x79b4c4989a80>"
            ],
            "text/html": [
              "<style type=\"text/css\">\n",
              "</style>\n",
              "<table id=\"T_4d709\" class=\"dataframe\">\n",
              "  <thead>\n",
              "    <tr>\n",
              "      <th id=\"T_4d709_level0_col0\" class=\"col_heading level0 col0\" >lastname</th>\n",
              "      <th id=\"T_4d709_level0_col1\" class=\"col_heading level0 col1\" >firstname</th>\n",
              "      <th id=\"T_4d709_level0_col2\" class=\"col_heading level0 col2\" >deptid</th>\n",
              "      <th id=\"T_4d709_level0_col3\" class=\"col_heading level0 col3\" >nick</th>\n",
              "    </tr>\n",
              "  </thead>\n",
              "  <tbody>\n",
              "    <tr>\n",
              "      <td id=\"T_4d709_row0_col0\" class=\"data row0 col0\" >Dikshit</td>\n",
              "      <td id=\"T_4d709_row0_col1\" class=\"data row0 col1\" >Madhuri</td>\n",
              "      <td id=\"T_4d709_row0_col2\" class=\"data row0 col2\" >20</td>\n",
              "      <td id=\"T_4d709_row0_col3\" class=\"data row0 col3\" >Mad</td>\n",
              "    </tr>\n",
              "    <tr>\n",
              "      <td id=\"T_4d709_row1_col0\" class=\"data row1 col0\" >Khan</td>\n",
              "      <td id=\"T_4d709_row1_col1\" class=\"data row1 col1\" >Shahrukh</td>\n",
              "      <td id=\"T_4d709_row1_col2\" class=\"data row1 col2\" >20</td>\n",
              "      <td id=\"T_4d709_row1_col3\" class=\"data row1 col3\" >Sha</td>\n",
              "    </tr>\n",
              "    <tr>\n",
              "      <td id=\"T_4d709_row2_col0\" class=\"data row2 col0\" >Sehwag</td>\n",
              "      <td id=\"T_4d709_row2_col1\" class=\"data row2 col1\" >Virender</td>\n",
              "      <td id=\"T_4d709_row2_col2\" class=\"data row2 col2\" >20</td>\n",
              "      <td id=\"T_4d709_row2_col3\" class=\"data row2 col3\" >Vir</td>\n",
              "    </tr>\n",
              "  </tbody>\n",
              "</table>\n"
            ]
          },
          "metadata": {},
          "execution_count": 37
        }
      ]
    },
    {
      "cell_type": "code",
      "source": [
        "runSelect(\"select lastname, firstname, deptid, concat('\\\"',substring(firstname,2,3),'\\\" ',lastname) nick from empl where deptid = '20'\")"
      ],
      "metadata": {
        "colab": {
          "base_uri": "https://localhost:8080/",
          "height": 143
        },
        "id": "xNQl1KpSzIQc",
        "outputId": "500a4849-fbc6-4612-f783-697f04812e20"
      },
      "execution_count": 38,
      "outputs": [
        {
          "output_type": "execute_result",
          "data": {
            "text/plain": [
              "<pandas.io.formats.style.Styler at 0x79b494086b60>"
            ],
            "text/html": [
              "<style type=\"text/css\">\n",
              "</style>\n",
              "<table id=\"T_6bf44\" class=\"dataframe\">\n",
              "  <thead>\n",
              "    <tr>\n",
              "      <th id=\"T_6bf44_level0_col0\" class=\"col_heading level0 col0\" >lastname</th>\n",
              "      <th id=\"T_6bf44_level0_col1\" class=\"col_heading level0 col1\" >firstname</th>\n",
              "      <th id=\"T_6bf44_level0_col2\" class=\"col_heading level0 col2\" >deptid</th>\n",
              "      <th id=\"T_6bf44_level0_col3\" class=\"col_heading level0 col3\" >nick</th>\n",
              "    </tr>\n",
              "  </thead>\n",
              "  <tbody>\n",
              "    <tr>\n",
              "      <td id=\"T_6bf44_row0_col0\" class=\"data row0 col0\" >Dikshit</td>\n",
              "      <td id=\"T_6bf44_row0_col1\" class=\"data row0 col1\" >Madhuri</td>\n",
              "      <td id=\"T_6bf44_row0_col2\" class=\"data row0 col2\" >20</td>\n",
              "      <td id=\"T_6bf44_row0_col3\" class=\"data row0 col3\" >\"adh\" Dikshit</td>\n",
              "    </tr>\n",
              "    <tr>\n",
              "      <td id=\"T_6bf44_row1_col0\" class=\"data row1 col0\" >Khan</td>\n",
              "      <td id=\"T_6bf44_row1_col1\" class=\"data row1 col1\" >Shahrukh</td>\n",
              "      <td id=\"T_6bf44_row1_col2\" class=\"data row1 col2\" >20</td>\n",
              "      <td id=\"T_6bf44_row1_col3\" class=\"data row1 col3\" >\"hah\" Khan</td>\n",
              "    </tr>\n",
              "    <tr>\n",
              "      <td id=\"T_6bf44_row2_col0\" class=\"data row2 col0\" >Sehwag</td>\n",
              "      <td id=\"T_6bf44_row2_col1\" class=\"data row2 col1\" >Virender</td>\n",
              "      <td id=\"T_6bf44_row2_col2\" class=\"data row2 col2\" >20</td>\n",
              "      <td id=\"T_6bf44_row2_col3\" class=\"data row2 col3\" >\"ire\" Sehwag</td>\n",
              "    </tr>\n",
              "  </tbody>\n",
              "</table>\n"
            ]
          },
          "metadata": {},
          "execution_count": 38
        }
      ]
    },
    {
      "cell_type": "code",
      "source": [
        "runSelect(\"select LastName, Current_Date,JoinDate, to_char(JoinDate,'Day') JoinDay, to_char(JoinDate,'DD-mon-YY') JoinDate2, \\\n",
        "Current_Date-JoinDate DaysSince from Empl\")\n",
        "\n",
        "#https://blog.quest.com/exploring-postgres-date-formats-and-their-different-functions/\n"
      ],
      "metadata": {
        "id": "37Rjgkxz-BP0",
        "outputId": "54e8a394-dedf-44f3-a19f-2302d1d253f8",
        "colab": {
          "base_uri": "https://localhost:8080/",
          "height": 457
        }
      },
      "execution_count": 39,
      "outputs": [
        {
          "output_type": "execute_result",
          "data": {
            "text/plain": [
              "<pandas.io.formats.style.Styler at 0x79b494086b90>"
            ],
            "text/html": [
              "<style type=\"text/css\">\n",
              "</style>\n",
              "<table id=\"T_3417d\" class=\"dataframe\">\n",
              "  <thead>\n",
              "    <tr>\n",
              "      <th id=\"T_3417d_level0_col0\" class=\"col_heading level0 col0\" >lastname</th>\n",
              "      <th id=\"T_3417d_level0_col1\" class=\"col_heading level0 col1\" >current_date</th>\n",
              "      <th id=\"T_3417d_level0_col2\" class=\"col_heading level0 col2\" >joindate</th>\n",
              "      <th id=\"T_3417d_level0_col3\" class=\"col_heading level0 col3\" >joinday</th>\n",
              "      <th id=\"T_3417d_level0_col4\" class=\"col_heading level0 col4\" >joindate2</th>\n",
              "      <th id=\"T_3417d_level0_col5\" class=\"col_heading level0 col5\" >dayssince</th>\n",
              "    </tr>\n",
              "  </thead>\n",
              "  <tbody>\n",
              "    <tr>\n",
              "      <td id=\"T_3417d_row0_col0\" class=\"data row0 col0\" >Bacchan</td>\n",
              "      <td id=\"T_3417d_row0_col1\" class=\"data row0 col1\" >2024-02-24</td>\n",
              "      <td id=\"T_3417d_row0_col2\" class=\"data row0 col2\" >2003-03-10</td>\n",
              "      <td id=\"T_3417d_row0_col3\" class=\"data row0 col3\" >Monday   </td>\n",
              "      <td id=\"T_3417d_row0_col4\" class=\"data row0 col4\" >10-mar-03</td>\n",
              "      <td id=\"T_3417d_row0_col5\" class=\"data row0 col5\" >7656</td>\n",
              "    </tr>\n",
              "    <tr>\n",
              "      <td id=\"T_3417d_row1_col0\" class=\"data row1 col0\" >Mukherjee</td>\n",
              "      <td id=\"T_3417d_row1_col1\" class=\"data row1 col1\" >2024-02-24</td>\n",
              "      <td id=\"T_3417d_row1_col2\" class=\"data row1 col2\" >2005-05-04</td>\n",
              "      <td id=\"T_3417d_row1_col3\" class=\"data row1 col3\" >Wednesday</td>\n",
              "      <td id=\"T_3417d_row1_col4\" class=\"data row1 col4\" >04-may-05</td>\n",
              "      <td id=\"T_3417d_row1_col5\" class=\"data row1 col5\" >6870</td>\n",
              "    </tr>\n",
              "    <tr>\n",
              "      <td id=\"T_3417d_row2_col0\" class=\"data row2 col0\" >Dikshit</td>\n",
              "      <td id=\"T_3417d_row2_col1\" class=\"data row2 col1\" >2024-02-24</td>\n",
              "      <td id=\"T_3417d_row2_col2\" class=\"data row2 col2\" >2002-04-04</td>\n",
              "      <td id=\"T_3417d_row2_col3\" class=\"data row2 col3\" >Thursday </td>\n",
              "      <td id=\"T_3417d_row2_col4\" class=\"data row2 col4\" >04-apr-02</td>\n",
              "      <td id=\"T_3417d_row2_col5\" class=\"data row2 col5\" >7996</td>\n",
              "    </tr>\n",
              "    <tr>\n",
              "      <td id=\"T_3417d_row3_col0\" class=\"data row3 col0\" >Khan</td>\n",
              "      <td id=\"T_3417d_row3_col1\" class=\"data row3 col1\" >2024-02-24</td>\n",
              "      <td id=\"T_3417d_row3_col2\" class=\"data row3 col2\" >2004-01-03</td>\n",
              "      <td id=\"T_3417d_row3_col3\" class=\"data row3 col3\" >Saturday </td>\n",
              "      <td id=\"T_3417d_row3_col4\" class=\"data row3 col4\" >03-jan-04</td>\n",
              "      <td id=\"T_3417d_row3_col5\" class=\"data row3 col5\" >7357</td>\n",
              "    </tr>\n",
              "    <tr>\n",
              "      <td id=\"T_3417d_row4_col0\" class=\"data row4 col0\" >Sehwag</td>\n",
              "      <td id=\"T_3417d_row4_col1\" class=\"data row4 col1\" >2024-02-24</td>\n",
              "      <td id=\"T_3417d_row4_col2\" class=\"data row4 col2\" >2005-01-02</td>\n",
              "      <td id=\"T_3417d_row4_col3\" class=\"data row4 col3\" >Sunday   </td>\n",
              "      <td id=\"T_3417d_row4_col4\" class=\"data row4 col4\" >02-jan-05</td>\n",
              "      <td id=\"T_3417d_row4_col5\" class=\"data row4 col5\" >6992</td>\n",
              "    </tr>\n",
              "    <tr>\n",
              "      <td id=\"T_3417d_row5_col0\" class=\"data row5 col0\" >Dhoni</td>\n",
              "      <td id=\"T_3417d_row5_col1\" class=\"data row5 col1\" >2024-02-24</td>\n",
              "      <td id=\"T_3417d_row5_col2\" class=\"data row5 col2\" >2004-10-09</td>\n",
              "      <td id=\"T_3417d_row5_col3\" class=\"data row5 col3\" >Saturday </td>\n",
              "      <td id=\"T_3417d_row5_col4\" class=\"data row5 col4\" >09-oct-04</td>\n",
              "      <td id=\"T_3417d_row5_col5\" class=\"data row5 col5\" >7077</td>\n",
              "    </tr>\n",
              "    <tr>\n",
              "      <td id=\"T_3417d_row6_col0\" class=\"data row6 col0\" >Dravid</td>\n",
              "      <td id=\"T_3417d_row6_col1\" class=\"data row6 col1\" >2024-02-24</td>\n",
              "      <td id=\"T_3417d_row6_col2\" class=\"data row6 col2\" >2000-06-04</td>\n",
              "      <td id=\"T_3417d_row6_col3\" class=\"data row6 col3\" >Sunday   </td>\n",
              "      <td id=\"T_3417d_row6_col4\" class=\"data row6 col4\" >04-jun-00</td>\n",
              "      <td id=\"T_3417d_row6_col5\" class=\"data row6 col5\" >8665</td>\n",
              "    </tr>\n",
              "    <tr>\n",
              "      <td id=\"T_3417d_row7_col0\" class=\"data row7 col0\" >Dalmia</td>\n",
              "      <td id=\"T_3417d_row7_col1\" class=\"data row7 col1\" >2024-02-24</td>\n",
              "      <td id=\"T_3417d_row7_col2\" class=\"data row7 col2\" >2001-07-01</td>\n",
              "      <td id=\"T_3417d_row7_col3\" class=\"data row7 col3\" >Sunday   </td>\n",
              "      <td id=\"T_3417d_row7_col4\" class=\"data row7 col4\" >01-jul-01</td>\n",
              "      <td id=\"T_3417d_row7_col5\" class=\"data row7 col5\" >8273</td>\n",
              "    </tr>\n",
              "    <tr>\n",
              "      <td id=\"T_3417d_row8_col0\" class=\"data row8 col0\" >Ganguly</td>\n",
              "      <td id=\"T_3417d_row8_col1\" class=\"data row8 col1\" >2024-02-24</td>\n",
              "      <td id=\"T_3417d_row8_col2\" class=\"data row8 col2\" >2002-01-01</td>\n",
              "      <td id=\"T_3417d_row8_col3\" class=\"data row8 col3\" >Tuesday  </td>\n",
              "      <td id=\"T_3417d_row8_col4\" class=\"data row8 col4\" >01-jan-02</td>\n",
              "      <td id=\"T_3417d_row8_col5\" class=\"data row8 col5\" >8089</td>\n",
              "    </tr>\n",
              "    <tr>\n",
              "      <td id=\"T_3417d_row9_col0\" class=\"data row9 col0\" >Ganesan</td>\n",
              "      <td id=\"T_3417d_row9_col1\" class=\"data row9 col1\" >2024-02-24</td>\n",
              "      <td id=\"T_3417d_row9_col2\" class=\"data row9 col2\" >2002-10-10</td>\n",
              "      <td id=\"T_3417d_row9_col3\" class=\"data row9 col3\" >Thursday </td>\n",
              "      <td id=\"T_3417d_row9_col4\" class=\"data row9 col4\" >10-oct-02</td>\n",
              "      <td id=\"T_3417d_row9_col5\" class=\"data row9 col5\" >7807</td>\n",
              "    </tr>\n",
              "    <tr>\n",
              "      <td id=\"T_3417d_row10_col0\" class=\"data row10 col0\" >Karthikeyan</td>\n",
              "      <td id=\"T_3417d_row10_col1\" class=\"data row10 col1\" >2024-02-24</td>\n",
              "      <td id=\"T_3417d_row10_col2\" class=\"data row10 col2\" >2005-12-04</td>\n",
              "      <td id=\"T_3417d_row10_col3\" class=\"data row10 col3\" >Sunday   </td>\n",
              "      <td id=\"T_3417d_row10_col4\" class=\"data row10 col4\" >04-dec-05</td>\n",
              "      <td id=\"T_3417d_row10_col5\" class=\"data row10 col5\" >6656</td>\n",
              "    </tr>\n",
              "    <tr>\n",
              "      <td id=\"T_3417d_row11_col0\" class=\"data row11 col0\" >Sunil</td>\n",
              "      <td id=\"T_3417d_row11_col1\" class=\"data row11 col1\" >2024-02-24</td>\n",
              "      <td id=\"T_3417d_row11_col2\" class=\"data row11 col2\" >2006-12-07</td>\n",
              "      <td id=\"T_3417d_row11_col3\" class=\"data row11 col3\" >Thursday </td>\n",
              "      <td id=\"T_3417d_row11_col4\" class=\"data row11 col4\" >07-dec-06</td>\n",
              "      <td id=\"T_3417d_row11_col5\" class=\"data row11 col5\" >6288</td>\n",
              "    </tr>\n",
              "    <tr>\n",
              "      <td id=\"T_3417d_row12_col0\" class=\"data row12 col0\" >Mirza</td>\n",
              "      <td id=\"T_3417d_row12_col1\" class=\"data row12 col1\" >2024-02-24</td>\n",
              "      <td id=\"T_3417d_row12_col2\" class=\"data row12 col2\" >2001-11-19</td>\n",
              "      <td id=\"T_3417d_row12_col3\" class=\"data row12 col3\" >Monday   </td>\n",
              "      <td id=\"T_3417d_row12_col4\" class=\"data row12 col4\" >19-nov-01</td>\n",
              "      <td id=\"T_3417d_row12_col5\" class=\"data row12 col5\" >8132</td>\n",
              "    </tr>\n",
              "  </tbody>\n",
              "</table>\n"
            ]
          },
          "metadata": {},
          "execution_count": 39
        }
      ]
    },
    {
      "cell_type": "markdown",
      "source": [
        "# MultiRow Function | Group By | Having\n",
        "for more complex examples that demonstrate Grouping Sets, Cubes, Roll UP, Crosstabs and other OLAP related SQL see [this notebook](https://github.com/Praxis-QR/RDWH/blob/main/PostgreSQL_03B_SQL_Level2.ipynb)"
      ],
      "metadata": {
        "id": "ONgFWUTC2IPK"
      }
    },
    {
      "cell_type": "code",
      "source": [
        "runSelect(\"select sum(salary) Total_Salary from empl\")"
      ],
      "metadata": {
        "colab": {
          "base_uri": "https://localhost:8080/",
          "height": 81
        },
        "id": "7MnnzfJx2PSc",
        "outputId": "f995180f-5a28-4f2c-d94d-aaacb1837c09"
      },
      "execution_count": 40,
      "outputs": [
        {
          "output_type": "execute_result",
          "data": {
            "text/plain": [
              "<pandas.io.formats.style.Styler at 0x79b494085bd0>"
            ],
            "text/html": [
              "<style type=\"text/css\">\n",
              "</style>\n",
              "<table id=\"T_a7653\" class=\"dataframe\">\n",
              "  <thead>\n",
              "    <tr>\n",
              "      <th id=\"T_a7653_level0_col0\" class=\"col_heading level0 col0\" >total_salary</th>\n",
              "    </tr>\n",
              "  </thead>\n",
              "  <tbody>\n",
              "    <tr>\n",
              "      <td id=\"T_a7653_row0_col0\" class=\"data row0 col0\" >376000</td>\n",
              "    </tr>\n",
              "  </tbody>\n",
              "</table>\n"
            ]
          },
          "metadata": {},
          "execution_count": 40
        }
      ]
    },
    {
      "cell_type": "code",
      "source": [
        "runSelect(\"select round(avg(salary),2) Average_Salary from empl\")"
      ],
      "metadata": {
        "colab": {
          "base_uri": "https://localhost:8080/",
          "height": 81
        },
        "id": "e3Avb-HL4QPD",
        "outputId": "78ab6a36-66ff-4ec8-eaad-211480865e5e"
      },
      "execution_count": 41,
      "outputs": [
        {
          "output_type": "execute_result",
          "data": {
            "text/plain": [
              "<pandas.io.formats.style.Styler at 0x79b494087850>"
            ],
            "text/html": [
              "<style type=\"text/css\">\n",
              "</style>\n",
              "<table id=\"T_48375\" class=\"dataframe\">\n",
              "  <thead>\n",
              "    <tr>\n",
              "      <th id=\"T_48375_level0_col0\" class=\"col_heading level0 col0\" >average_salary</th>\n",
              "    </tr>\n",
              "  </thead>\n",
              "  <tbody>\n",
              "    <tr>\n",
              "      <td id=\"T_48375_row0_col0\" class=\"data row0 col0\" >28923.08</td>\n",
              "    </tr>\n",
              "  </tbody>\n",
              "</table>\n"
            ]
          },
          "metadata": {},
          "execution_count": 41
        }
      ]
    },
    {
      "cell_type": "code",
      "source": [
        "runSelect(\"select max(salary) Max_Salary from empl\")"
      ],
      "metadata": {
        "colab": {
          "base_uri": "https://localhost:8080/",
          "height": 81
        },
        "id": "Oe1qRQbI4gtY",
        "outputId": "d2e6b217-7413-44fd-863c-f843dfbdd1b4"
      },
      "execution_count": 42,
      "outputs": [
        {
          "output_type": "execute_result",
          "data": {
            "text/plain": [
              "<pandas.io.formats.style.Styler at 0x79b494085120>"
            ],
            "text/html": [
              "<style type=\"text/css\">\n",
              "</style>\n",
              "<table id=\"T_c1613\" class=\"dataframe\">\n",
              "  <thead>\n",
              "    <tr>\n",
              "      <th id=\"T_c1613_level0_col0\" class=\"col_heading level0 col0\" >max_salary</th>\n",
              "    </tr>\n",
              "  </thead>\n",
              "  <tbody>\n",
              "    <tr>\n",
              "      <td id=\"T_c1613_row0_col0\" class=\"data row0 col0\" >60000</td>\n",
              "    </tr>\n",
              "  </tbody>\n",
              "</table>\n"
            ]
          },
          "metadata": {},
          "execution_count": 42
        }
      ]
    },
    {
      "cell_type": "code",
      "source": [
        "runSelect(\"select deptid, sum(salary) Total, max(salary) Max from empl group by deptid\")"
      ],
      "metadata": {
        "colab": {
          "base_uri": "https://localhost:8080/",
          "height": 206
        },
        "id": "xpmGXSAX69iU",
        "outputId": "dbe95c1a-622a-42ce-d2ba-10af35101678"
      },
      "execution_count": 43,
      "outputs": [
        {
          "output_type": "execute_result",
          "data": {
            "text/plain": [
              "<pandas.io.formats.style.Styler at 0x79b494087c40>"
            ],
            "text/html": [
              "<style type=\"text/css\">\n",
              "</style>\n",
              "<table id=\"T_d8411\" class=\"dataframe\">\n",
              "  <thead>\n",
              "    <tr>\n",
              "      <th id=\"T_d8411_level0_col0\" class=\"col_heading level0 col0\" >deptid</th>\n",
              "      <th id=\"T_d8411_level0_col1\" class=\"col_heading level0 col1\" >total</th>\n",
              "      <th id=\"T_d8411_level0_col2\" class=\"col_heading level0 col2\" >max</th>\n",
              "    </tr>\n",
              "  </thead>\n",
              "  <tbody>\n",
              "    <tr>\n",
              "      <td id=\"T_d8411_row0_col0\" class=\"data row0 col0\" >10</td>\n",
              "      <td id=\"T_d8411_row0_col1\" class=\"data row0 col1\" >150000</td>\n",
              "      <td id=\"T_d8411_row0_col2\" class=\"data row0 col2\" >60000</td>\n",
              "    </tr>\n",
              "    <tr>\n",
              "      <td id=\"T_d8411_row1_col0\" class=\"data row1 col0\" >40</td>\n",
              "      <td id=\"T_d8411_row1_col1\" class=\"data row1 col1\" >54000</td>\n",
              "      <td id=\"T_d8411_row1_col2\" class=\"data row1 col2\" >25000</td>\n",
              "    </tr>\n",
              "    <tr>\n",
              "      <td id=\"T_d8411_row2_col0\" class=\"data row2 col0\" >70</td>\n",
              "      <td id=\"T_d8411_row2_col1\" class=\"data row2 col1\" >40000</td>\n",
              "      <td id=\"T_d8411_row2_col2\" class=\"data row2 col2\" >40000</td>\n",
              "    </tr>\n",
              "    <tr>\n",
              "      <td id=\"T_d8411_row3_col0\" class=\"data row3 col0\" >20</td>\n",
              "      <td id=\"T_d8411_row3_col1\" class=\"data row3 col1\" >55000</td>\n",
              "      <td id=\"T_d8411_row3_col2\" class=\"data row3 col2\" >30000</td>\n",
              "    </tr>\n",
              "    <tr>\n",
              "      <td id=\"T_d8411_row4_col0\" class=\"data row4 col0\" >30</td>\n",
              "      <td id=\"T_d8411_row4_col1\" class=\"data row4 col1\" >77000</td>\n",
              "      <td id=\"T_d8411_row4_col2\" class=\"data row4 col2\" >40000</td>\n",
              "    </tr>\n",
              "  </tbody>\n",
              "</table>\n"
            ]
          },
          "metadata": {},
          "execution_count": 43
        }
      ]
    },
    {
      "cell_type": "code",
      "source": [
        "runSelect(\"select deptid, sum(salary) Total, max(salary) Max from empl group by deptid having sum(salary) > 50000\")"
      ],
      "metadata": {
        "colab": {
          "base_uri": "https://localhost:8080/",
          "height": 175
        },
        "id": "AdNDutZl7LCF",
        "outputId": "c04a0ec2-929c-420d-dd32-32bcb9a5de82"
      },
      "execution_count": 44,
      "outputs": [
        {
          "output_type": "execute_result",
          "data": {
            "text/plain": [
              "<pandas.io.formats.style.Styler at 0x79b4940862f0>"
            ],
            "text/html": [
              "<style type=\"text/css\">\n",
              "</style>\n",
              "<table id=\"T_766f2\" class=\"dataframe\">\n",
              "  <thead>\n",
              "    <tr>\n",
              "      <th id=\"T_766f2_level0_col0\" class=\"col_heading level0 col0\" >deptid</th>\n",
              "      <th id=\"T_766f2_level0_col1\" class=\"col_heading level0 col1\" >total</th>\n",
              "      <th id=\"T_766f2_level0_col2\" class=\"col_heading level0 col2\" >max</th>\n",
              "    </tr>\n",
              "  </thead>\n",
              "  <tbody>\n",
              "    <tr>\n",
              "      <td id=\"T_766f2_row0_col0\" class=\"data row0 col0\" >10</td>\n",
              "      <td id=\"T_766f2_row0_col1\" class=\"data row0 col1\" >150000</td>\n",
              "      <td id=\"T_766f2_row0_col2\" class=\"data row0 col2\" >60000</td>\n",
              "    </tr>\n",
              "    <tr>\n",
              "      <td id=\"T_766f2_row1_col0\" class=\"data row1 col0\" >40</td>\n",
              "      <td id=\"T_766f2_row1_col1\" class=\"data row1 col1\" >54000</td>\n",
              "      <td id=\"T_766f2_row1_col2\" class=\"data row1 col2\" >25000</td>\n",
              "    </tr>\n",
              "    <tr>\n",
              "      <td id=\"T_766f2_row2_col0\" class=\"data row2 col0\" >20</td>\n",
              "      <td id=\"T_766f2_row2_col1\" class=\"data row2 col1\" >55000</td>\n",
              "      <td id=\"T_766f2_row2_col2\" class=\"data row2 col2\" >30000</td>\n",
              "    </tr>\n",
              "    <tr>\n",
              "      <td id=\"T_766f2_row3_col0\" class=\"data row3 col0\" >30</td>\n",
              "      <td id=\"T_766f2_row3_col1\" class=\"data row3 col1\" >77000</td>\n",
              "      <td id=\"T_766f2_row3_col2\" class=\"data row3 col2\" >40000</td>\n",
              "    </tr>\n",
              "  </tbody>\n",
              "</table>\n"
            ]
          },
          "metadata": {},
          "execution_count": 44
        }
      ]
    },
    {
      "cell_type": "code",
      "source": [
        "runSelect(\"select deptid, sum(salary) Total, max(salary) Max from empl group by deptid having sum(salary) > 50000 and max(salary) < 35000\")"
      ],
      "metadata": {
        "colab": {
          "base_uri": "https://localhost:8080/",
          "height": 112
        },
        "id": "4VFmL5JF7bYo",
        "outputId": "ef9db5b0-0f31-4683-9d1a-29510390aeae"
      },
      "execution_count": 45,
      "outputs": [
        {
          "output_type": "execute_result",
          "data": {
            "text/plain": [
              "<pandas.io.formats.style.Styler at 0x79b494085240>"
            ],
            "text/html": [
              "<style type=\"text/css\">\n",
              "</style>\n",
              "<table id=\"T_7d0af\" class=\"dataframe\">\n",
              "  <thead>\n",
              "    <tr>\n",
              "      <th id=\"T_7d0af_level0_col0\" class=\"col_heading level0 col0\" >deptid</th>\n",
              "      <th id=\"T_7d0af_level0_col1\" class=\"col_heading level0 col1\" >total</th>\n",
              "      <th id=\"T_7d0af_level0_col2\" class=\"col_heading level0 col2\" >max</th>\n",
              "    </tr>\n",
              "  </thead>\n",
              "  <tbody>\n",
              "    <tr>\n",
              "      <td id=\"T_7d0af_row0_col0\" class=\"data row0 col0\" >40</td>\n",
              "      <td id=\"T_7d0af_row0_col1\" class=\"data row0 col1\" >54000</td>\n",
              "      <td id=\"T_7d0af_row0_col2\" class=\"data row0 col2\" >25000</td>\n",
              "    </tr>\n",
              "    <tr>\n",
              "      <td id=\"T_7d0af_row1_col0\" class=\"data row1 col0\" >20</td>\n",
              "      <td id=\"T_7d0af_row1_col1\" class=\"data row1 col1\" >55000</td>\n",
              "      <td id=\"T_7d0af_row1_col2\" class=\"data row1 col2\" >30000</td>\n",
              "    </tr>\n",
              "  </tbody>\n",
              "</table>\n"
            ]
          },
          "metadata": {},
          "execution_count": 45
        }
      ]
    },
    {
      "cell_type": "markdown",
      "source": [
        "#Conditionals | CASE"
      ],
      "metadata": {
        "id": "xDsapsK8Afpj"
      }
    },
    {
      "cell_type": "code",
      "source": [
        "runSelect(\"select lastname, jobdesc, salary, comm, salary+salary*comm Payout,\\\n",
        "case when jobdesc like '%Manager' then 2000 else 0 end bonus from empl\")"
      ],
      "metadata": {
        "colab": {
          "base_uri": "https://localhost:8080/",
          "height": 457
        },
        "id": "bYRWDlVNAxKx",
        "outputId": "ca065af3-79e5-4c6f-c881-a54ab329cf2d"
      },
      "execution_count": 46,
      "outputs": [
        {
          "output_type": "execute_result",
          "data": {
            "text/plain": [
              "<pandas.io.formats.style.Styler at 0x79b4940f0280>"
            ],
            "text/html": [
              "<style type=\"text/css\">\n",
              "</style>\n",
              "<table id=\"T_5a256\" class=\"dataframe\">\n",
              "  <thead>\n",
              "    <tr>\n",
              "      <th id=\"T_5a256_level0_col0\" class=\"col_heading level0 col0\" >lastname</th>\n",
              "      <th id=\"T_5a256_level0_col1\" class=\"col_heading level0 col1\" >jobdesc</th>\n",
              "      <th id=\"T_5a256_level0_col2\" class=\"col_heading level0 col2\" >salary</th>\n",
              "      <th id=\"T_5a256_level0_col3\" class=\"col_heading level0 col3\" >comm</th>\n",
              "      <th id=\"T_5a256_level0_col4\" class=\"col_heading level0 col4\" >payout</th>\n",
              "      <th id=\"T_5a256_level0_col5\" class=\"col_heading level0 col5\" >bonus</th>\n",
              "    </tr>\n",
              "  </thead>\n",
              "  <tbody>\n",
              "    <tr>\n",
              "      <td id=\"T_5a256_row0_col0\" class=\"data row0 col0\" >Bacchan</td>\n",
              "      <td id=\"T_5a256_row0_col1\" class=\"data row0 col1\" >Executive</td>\n",
              "      <td id=\"T_5a256_row0_col2\" class=\"data row0 col2\" >50000</td>\n",
              "      <td id=\"T_5a256_row0_col3\" class=\"data row0 col3\" >0.10</td>\n",
              "      <td id=\"T_5a256_row0_col4\" class=\"data row0 col4\" >55000.00</td>\n",
              "      <td id=\"T_5a256_row0_col5\" class=\"data row0 col5\" >0</td>\n",
              "    </tr>\n",
              "    <tr>\n",
              "      <td id=\"T_5a256_row1_col0\" class=\"data row1 col0\" >Mukherjee</td>\n",
              "      <td id=\"T_5a256_row1_col1\" class=\"data row1 col1\" >Manager</td>\n",
              "      <td id=\"T_5a256_row1_col2\" class=\"data row1 col2\" >25000</td>\n",
              "      <td id=\"T_5a256_row1_col3\" class=\"data row1 col3\" >0.06</td>\n",
              "      <td id=\"T_5a256_row1_col4\" class=\"data row1 col4\" >26500.00</td>\n",
              "      <td id=\"T_5a256_row1_col5\" class=\"data row1 col5\" >2000</td>\n",
              "    </tr>\n",
              "    <tr>\n",
              "      <td id=\"T_5a256_row2_col0\" class=\"data row2 col0\" >Dikshit</td>\n",
              "      <td id=\"T_5a256_row2_col1\" class=\"data row2 col1\" >Clerk</td>\n",
              "      <td id=\"T_5a256_row2_col2\" class=\"data row2 col2\" >10000</td>\n",
              "      <td id=\"T_5a256_row2_col3\" class=\"data row2 col3\" >0.02</td>\n",
              "      <td id=\"T_5a256_row2_col4\" class=\"data row2 col4\" >10200.00</td>\n",
              "      <td id=\"T_5a256_row2_col5\" class=\"data row2 col5\" >0</td>\n",
              "    </tr>\n",
              "    <tr>\n",
              "      <td id=\"T_5a256_row3_col0\" class=\"data row3 col0\" >Khan</td>\n",
              "      <td id=\"T_5a256_row3_col1\" class=\"data row3 col1\" >Manager</td>\n",
              "      <td id=\"T_5a256_row3_col2\" class=\"data row3 col2\" >30000</td>\n",
              "      <td id=\"T_5a256_row3_col3\" class=\"data row3 col3\" >0.07</td>\n",
              "      <td id=\"T_5a256_row3_col4\" class=\"data row3 col4\" >32100.00</td>\n",
              "      <td id=\"T_5a256_row3_col5\" class=\"data row3 col5\" >2000</td>\n",
              "    </tr>\n",
              "    <tr>\n",
              "      <td id=\"T_5a256_row4_col0\" class=\"data row4 col0\" >Sehwag</td>\n",
              "      <td id=\"T_5a256_row4_col1\" class=\"data row4 col1\" >Cus_Rep</td>\n",
              "      <td id=\"T_5a256_row4_col2\" class=\"data row4 col2\" >15000</td>\n",
              "      <td id=\"T_5a256_row4_col3\" class=\"data row4 col3\" >0.05</td>\n",
              "      <td id=\"T_5a256_row4_col4\" class=\"data row4 col4\" >15750.00</td>\n",
              "      <td id=\"T_5a256_row4_col5\" class=\"data row4 col5\" >0</td>\n",
              "    </tr>\n",
              "    <tr>\n",
              "      <td id=\"T_5a256_row5_col0\" class=\"data row5 col0\" >Dhoni</td>\n",
              "      <td id=\"T_5a256_row5_col1\" class=\"data row5 col1\" >Clerk</td>\n",
              "      <td id=\"T_5a256_row5_col2\" class=\"data row5 col2\" >9000</td>\n",
              "      <td id=\"T_5a256_row5_col3\" class=\"data row5 col3\" >0.02</td>\n",
              "      <td id=\"T_5a256_row5_col4\" class=\"data row5 col4\" >9180.00</td>\n",
              "      <td id=\"T_5a256_row5_col5\" class=\"data row5 col5\" >0</td>\n",
              "    </tr>\n",
              "    <tr>\n",
              "      <td id=\"T_5a256_row6_col0\" class=\"data row6 col0\" >Dravid</td>\n",
              "      <td id=\"T_5a256_row6_col1\" class=\"data row6 col1\" >Sr Manager</td>\n",
              "      <td id=\"T_5a256_row6_col2\" class=\"data row6 col2\" >40000</td>\n",
              "      <td id=\"T_5a256_row6_col3\" class=\"data row6 col3\" >0.08</td>\n",
              "      <td id=\"T_5a256_row6_col4\" class=\"data row6 col4\" >43200.00</td>\n",
              "      <td id=\"T_5a256_row6_col5\" class=\"data row6 col5\" >2000</td>\n",
              "    </tr>\n",
              "    <tr>\n",
              "      <td id=\"T_5a256_row7_col0\" class=\"data row7 col0\" >Dalmia</td>\n",
              "      <td id=\"T_5a256_row7_col1\" class=\"data row7 col1\" >Clerk</td>\n",
              "      <td id=\"T_5a256_row7_col2\" class=\"data row7 col2\" >12000</td>\n",
              "      <td id=\"T_5a256_row7_col3\" class=\"data row7 col3\" >0.02</td>\n",
              "      <td id=\"T_5a256_row7_col4\" class=\"data row7 col4\" >12240.00</td>\n",
              "      <td id=\"T_5a256_row7_col5\" class=\"data row7 col5\" >0</td>\n",
              "    </tr>\n",
              "    <tr>\n",
              "      <td id=\"T_5a256_row8_col0\" class=\"data row8 col0\" >Ganguly</td>\n",
              "      <td id=\"T_5a256_row8_col1\" class=\"data row8 col1\" >Cus_Rep</td>\n",
              "      <td id=\"T_5a256_row8_col2\" class=\"data row8 col2\" >20000</td>\n",
              "      <td id=\"T_5a256_row8_col3\" class=\"data row8 col3\" >0.03</td>\n",
              "      <td id=\"T_5a256_row8_col4\" class=\"data row8 col4\" >20600.00</td>\n",
              "      <td id=\"T_5a256_row8_col5\" class=\"data row8 col5\" >0</td>\n",
              "    </tr>\n",
              "    <tr>\n",
              "      <td id=\"T_5a256_row9_col0\" class=\"data row9 col0\" >Ganesan</td>\n",
              "      <td id=\"T_5a256_row9_col1\" class=\"data row9 col1\" >Director</td>\n",
              "      <td id=\"T_5a256_row9_col2\" class=\"data row9 col2\" >60000</td>\n",
              "      <td id=\"T_5a256_row9_col3\" class=\"data row9 col3\" >0.11</td>\n",
              "      <td id=\"T_5a256_row9_col4\" class=\"data row9 col4\" >66600.00</td>\n",
              "      <td id=\"T_5a256_row9_col5\" class=\"data row9 col5\" >0</td>\n",
              "    </tr>\n",
              "    <tr>\n",
              "      <td id=\"T_5a256_row10_col0\" class=\"data row10 col0\" >Karthikeyan</td>\n",
              "      <td id=\"T_5a256_row10_col1\" class=\"data row10 col1\" >Secretary</td>\n",
              "      <td id=\"T_5a256_row10_col2\" class=\"data row10 col2\" >40000</td>\n",
              "      <td id=\"T_5a256_row10_col3\" class=\"data row10 col3\" >0.09</td>\n",
              "      <td id=\"T_5a256_row10_col4\" class=\"data row10 col4\" >43600.00</td>\n",
              "      <td id=\"T_5a256_row10_col5\" class=\"data row10 col5\" >0</td>\n",
              "    </tr>\n",
              "    <tr>\n",
              "      <td id=\"T_5a256_row11_col0\" class=\"data row11 col0\" >Sunil</td>\n",
              "      <td id=\"T_5a256_row11_col1\" class=\"data row11 col1\" >Dy Manager</td>\n",
              "      <td id=\"T_5a256_row11_col2\" class=\"data row11 col2\" >40000</td>\n",
              "      <td id=\"T_5a256_row11_col3\" class=\"data row11 col3\" >0.05</td>\n",
              "      <td id=\"T_5a256_row11_col4\" class=\"data row11 col4\" >42000.00</td>\n",
              "      <td id=\"T_5a256_row11_col5\" class=\"data row11 col5\" >2000</td>\n",
              "    </tr>\n",
              "    <tr>\n",
              "      <td id=\"T_5a256_row12_col0\" class=\"data row12 col0\" >Mirza</td>\n",
              "      <td id=\"T_5a256_row12_col1\" class=\"data row12 col1\" >Cus_Rep</td>\n",
              "      <td id=\"T_5a256_row12_col2\" class=\"data row12 col2\" >25000</td>\n",
              "      <td id=\"T_5a256_row12_col3\" class=\"data row12 col3\" >0.04</td>\n",
              "      <td id=\"T_5a256_row12_col4\" class=\"data row12 col4\" >26000.00</td>\n",
              "      <td id=\"T_5a256_row12_col5\" class=\"data row12 col5\" >0</td>\n",
              "    </tr>\n",
              "  </tbody>\n",
              "</table>\n"
            ]
          },
          "metadata": {},
          "execution_count": 46
        }
      ]
    },
    {
      "cell_type": "code",
      "source": [
        "runSelect(\"select lastname, deptid,\\\n",
        "case \\\n",
        "when deptid in ('10','20') then 'Head' \\\n",
        "when deptid = '30' then 'Regional'\\\n",
        "else 'Branch' \\\n",
        "end \\\n",
        " office from empl\")"
      ],
      "metadata": {
        "colab": {
          "base_uri": "https://localhost:8080/",
          "height": 457
        },
        "id": "jbpKn1y0DwYG",
        "outputId": "97eb74f9-f115-459c-ba3f-2310e0c00345"
      },
      "execution_count": 47,
      "outputs": [
        {
          "output_type": "execute_result",
          "data": {
            "text/plain": [
              "<pandas.io.formats.style.Styler at 0x79b494085b10>"
            ],
            "text/html": [
              "<style type=\"text/css\">\n",
              "</style>\n",
              "<table id=\"T_4b475\" class=\"dataframe\">\n",
              "  <thead>\n",
              "    <tr>\n",
              "      <th id=\"T_4b475_level0_col0\" class=\"col_heading level0 col0\" >lastname</th>\n",
              "      <th id=\"T_4b475_level0_col1\" class=\"col_heading level0 col1\" >deptid</th>\n",
              "      <th id=\"T_4b475_level0_col2\" class=\"col_heading level0 col2\" >office</th>\n",
              "    </tr>\n",
              "  </thead>\n",
              "  <tbody>\n",
              "    <tr>\n",
              "      <td id=\"T_4b475_row0_col0\" class=\"data row0 col0\" >Bacchan</td>\n",
              "      <td id=\"T_4b475_row0_col1\" class=\"data row0 col1\" >10</td>\n",
              "      <td id=\"T_4b475_row0_col2\" class=\"data row0 col2\" >Head</td>\n",
              "    </tr>\n",
              "    <tr>\n",
              "      <td id=\"T_4b475_row1_col0\" class=\"data row1 col0\" >Mukherjee</td>\n",
              "      <td id=\"T_4b475_row1_col1\" class=\"data row1 col1\" >40</td>\n",
              "      <td id=\"T_4b475_row1_col2\" class=\"data row1 col2\" >Branch</td>\n",
              "    </tr>\n",
              "    <tr>\n",
              "      <td id=\"T_4b475_row2_col0\" class=\"data row2 col0\" >Dikshit</td>\n",
              "      <td id=\"T_4b475_row2_col1\" class=\"data row2 col1\" >20</td>\n",
              "      <td id=\"T_4b475_row2_col2\" class=\"data row2 col2\" >Head</td>\n",
              "    </tr>\n",
              "    <tr>\n",
              "      <td id=\"T_4b475_row3_col0\" class=\"data row3 col0\" >Khan</td>\n",
              "      <td id=\"T_4b475_row3_col1\" class=\"data row3 col1\" >20</td>\n",
              "      <td id=\"T_4b475_row3_col2\" class=\"data row3 col2\" >Head</td>\n",
              "    </tr>\n",
              "    <tr>\n",
              "      <td id=\"T_4b475_row4_col0\" class=\"data row4 col0\" >Sehwag</td>\n",
              "      <td id=\"T_4b475_row4_col1\" class=\"data row4 col1\" >20</td>\n",
              "      <td id=\"T_4b475_row4_col2\" class=\"data row4 col2\" >Head</td>\n",
              "    </tr>\n",
              "    <tr>\n",
              "      <td id=\"T_4b475_row5_col0\" class=\"data row5 col0\" >Dhoni</td>\n",
              "      <td id=\"T_4b475_row5_col1\" class=\"data row5 col1\" >40</td>\n",
              "      <td id=\"T_4b475_row5_col2\" class=\"data row5 col2\" >Branch</td>\n",
              "    </tr>\n",
              "    <tr>\n",
              "      <td id=\"T_4b475_row6_col0\" class=\"data row6 col0\" >Dravid</td>\n",
              "      <td id=\"T_4b475_row6_col1\" class=\"data row6 col1\" >30</td>\n",
              "      <td id=\"T_4b475_row6_col2\" class=\"data row6 col2\" >Regional</td>\n",
              "    </tr>\n",
              "    <tr>\n",
              "      <td id=\"T_4b475_row7_col0\" class=\"data row7 col0\" >Dalmia</td>\n",
              "      <td id=\"T_4b475_row7_col1\" class=\"data row7 col1\" >30</td>\n",
              "      <td id=\"T_4b475_row7_col2\" class=\"data row7 col2\" >Regional</td>\n",
              "    </tr>\n",
              "    <tr>\n",
              "      <td id=\"T_4b475_row8_col0\" class=\"data row8 col0\" >Ganguly</td>\n",
              "      <td id=\"T_4b475_row8_col1\" class=\"data row8 col1\" >40</td>\n",
              "      <td id=\"T_4b475_row8_col2\" class=\"data row8 col2\" >Branch</td>\n",
              "    </tr>\n",
              "    <tr>\n",
              "      <td id=\"T_4b475_row9_col0\" class=\"data row9 col0\" >Ganesan</td>\n",
              "      <td id=\"T_4b475_row9_col1\" class=\"data row9 col1\" >10</td>\n",
              "      <td id=\"T_4b475_row9_col2\" class=\"data row9 col2\" >Head</td>\n",
              "    </tr>\n",
              "    <tr>\n",
              "      <td id=\"T_4b475_row10_col0\" class=\"data row10 col0\" >Karthikeyan</td>\n",
              "      <td id=\"T_4b475_row10_col1\" class=\"data row10 col1\" >10</td>\n",
              "      <td id=\"T_4b475_row10_col2\" class=\"data row10 col2\" >Head</td>\n",
              "    </tr>\n",
              "    <tr>\n",
              "      <td id=\"T_4b475_row11_col0\" class=\"data row11 col0\" >Sunil</td>\n",
              "      <td id=\"T_4b475_row11_col1\" class=\"data row11 col1\" >70</td>\n",
              "      <td id=\"T_4b475_row11_col2\" class=\"data row11 col2\" >Branch</td>\n",
              "    </tr>\n",
              "    <tr>\n",
              "      <td id=\"T_4b475_row12_col0\" class=\"data row12 col0\" >Mirza</td>\n",
              "      <td id=\"T_4b475_row12_col1\" class=\"data row12 col1\" >30</td>\n",
              "      <td id=\"T_4b475_row12_col2\" class=\"data row12 col2\" >Regional</td>\n",
              "    </tr>\n",
              "  </tbody>\n",
              "</table>\n"
            ]
          },
          "metadata": {},
          "execution_count": 47
        }
      ]
    },
    {
      "cell_type": "markdown",
      "source": [
        "#Join"
      ],
      "metadata": {
        "id": "Rs10ezIPpP0C"
      }
    },
    {
      "cell_type": "markdown",
      "source": [
        "## Basic Inner Join"
      ],
      "metadata": {
        "id": "XMfZP6HUpT4B"
      }
    },
    {
      "cell_type": "code",
      "source": [
        "sql = 'select firstname, lastname, salary, deptname, location, managerid from empl, dept where empl.deptid = dept.deptid'\n",
        "runSelect(sql)"
      ],
      "metadata": {
        "colab": {
          "base_uri": "https://localhost:8080/",
          "height": 426
        },
        "id": "ISiD-VP6pbUz",
        "outputId": "4b654e8b-25ab-4deb-b76f-f6f564d0cdcc"
      },
      "execution_count": 48,
      "outputs": [
        {
          "output_type": "execute_result",
          "data": {
            "text/plain": [
              "<pandas.io.formats.style.Styler at 0x79b4940f0190>"
            ],
            "text/html": [
              "<style type=\"text/css\">\n",
              "</style>\n",
              "<table id=\"T_75948\" class=\"dataframe\">\n",
              "  <thead>\n",
              "    <tr>\n",
              "      <th id=\"T_75948_level0_col0\" class=\"col_heading level0 col0\" >firstname</th>\n",
              "      <th id=\"T_75948_level0_col1\" class=\"col_heading level0 col1\" >lastname</th>\n",
              "      <th id=\"T_75948_level0_col2\" class=\"col_heading level0 col2\" >salary</th>\n",
              "      <th id=\"T_75948_level0_col3\" class=\"col_heading level0 col3\" >deptname</th>\n",
              "      <th id=\"T_75948_level0_col4\" class=\"col_heading level0 col4\" >location</th>\n",
              "      <th id=\"T_75948_level0_col5\" class=\"col_heading level0 col5\" >managerid</th>\n",
              "    </tr>\n",
              "  </thead>\n",
              "  <tbody>\n",
              "    <tr>\n",
              "      <td id=\"T_75948_row0_col0\" class=\"data row0 col0\" >Narayan</td>\n",
              "      <td id=\"T_75948_row0_col1\" class=\"data row0 col1\" >Karthikeyan</td>\n",
              "      <td id=\"T_75948_row0_col2\" class=\"data row0 col2\" >40000</td>\n",
              "      <td id=\"T_75948_row0_col3\" class=\"data row0 col3\" >Corporate</td>\n",
              "      <td id=\"T_75948_row0_col4\" class=\"data row0 col4\" >Calcutta</td>\n",
              "      <td id=\"T_75948_row0_col5\" class=\"data row0 col5\" >299034</td>\n",
              "    </tr>\n",
              "    <tr>\n",
              "      <td id=\"T_75948_row1_col0\" class=\"data row1 col0\" >Rekha</td>\n",
              "      <td id=\"T_75948_row1_col1\" class=\"data row1 col1\" >Ganesan</td>\n",
              "      <td id=\"T_75948_row1_col2\" class=\"data row1 col2\" >60000</td>\n",
              "      <td id=\"T_75948_row1_col3\" class=\"data row1 col3\" >Corporate</td>\n",
              "      <td id=\"T_75948_row1_col4\" class=\"data row1 col4\" >Calcutta</td>\n",
              "      <td id=\"T_75948_row1_col5\" class=\"data row1 col5\" >299034</td>\n",
              "    </tr>\n",
              "    <tr>\n",
              "      <td id=\"T_75948_row2_col0\" class=\"data row2 col0\" >Amitabh</td>\n",
              "      <td id=\"T_75948_row2_col1\" class=\"data row2 col1\" >Bacchan</td>\n",
              "      <td id=\"T_75948_row2_col2\" class=\"data row2 col2\" >50000</td>\n",
              "      <td id=\"T_75948_row2_col3\" class=\"data row2 col3\" >Corporate</td>\n",
              "      <td id=\"T_75948_row2_col4\" class=\"data row2 col4\" >Calcutta</td>\n",
              "      <td id=\"T_75948_row2_col5\" class=\"data row2 col5\" >299034</td>\n",
              "    </tr>\n",
              "    <tr>\n",
              "      <td id=\"T_75948_row3_col0\" class=\"data row3 col0\" >Virender</td>\n",
              "      <td id=\"T_75948_row3_col1\" class=\"data row3 col1\" >Sehwag</td>\n",
              "      <td id=\"T_75948_row3_col2\" class=\"data row3 col2\" >15000</td>\n",
              "      <td id=\"T_75948_row3_col3\" class=\"data row3 col3\" >Sales</td>\n",
              "      <td id=\"T_75948_row3_col4\" class=\"data row3 col4\" >Calcutta</td>\n",
              "      <td id=\"T_75948_row3_col5\" class=\"data row3 col5\" >239456</td>\n",
              "    </tr>\n",
              "    <tr>\n",
              "      <td id=\"T_75948_row4_col0\" class=\"data row4 col0\" >Shahrukh</td>\n",
              "      <td id=\"T_75948_row4_col1\" class=\"data row4 col1\" >Khan</td>\n",
              "      <td id=\"T_75948_row4_col2\" class=\"data row4 col2\" >30000</td>\n",
              "      <td id=\"T_75948_row4_col3\" class=\"data row4 col3\" >Sales</td>\n",
              "      <td id=\"T_75948_row4_col4\" class=\"data row4 col4\" >Calcutta</td>\n",
              "      <td id=\"T_75948_row4_col5\" class=\"data row4 col5\" >239456</td>\n",
              "    </tr>\n",
              "    <tr>\n",
              "      <td id=\"T_75948_row5_col0\" class=\"data row5 col0\" >Madhuri</td>\n",
              "      <td id=\"T_75948_row5_col1\" class=\"data row5 col1\" >Dikshit</td>\n",
              "      <td id=\"T_75948_row5_col2\" class=\"data row5 col2\" >10000</td>\n",
              "      <td id=\"T_75948_row5_col3\" class=\"data row5 col3\" >Sales</td>\n",
              "      <td id=\"T_75948_row5_col4\" class=\"data row5 col4\" >Calcutta</td>\n",
              "      <td id=\"T_75948_row5_col5\" class=\"data row5 col5\" >239456</td>\n",
              "    </tr>\n",
              "    <tr>\n",
              "      <td id=\"T_75948_row6_col0\" class=\"data row6 col0\" >Sania</td>\n",
              "      <td id=\"T_75948_row6_col1\" class=\"data row6 col1\" >Mirza</td>\n",
              "      <td id=\"T_75948_row6_col2\" class=\"data row6 col2\" >25000</td>\n",
              "      <td id=\"T_75948_row6_col3\" class=\"data row6 col3\" >Accounts</td>\n",
              "      <td id=\"T_75948_row6_col4\" class=\"data row6 col4\" >Calcutta</td>\n",
              "      <td id=\"T_75948_row6_col5\" class=\"data row6 col5\" >822134</td>\n",
              "    </tr>\n",
              "    <tr>\n",
              "      <td id=\"T_75948_row7_col0\" class=\"data row7 col0\" >Jagmohan</td>\n",
              "      <td id=\"T_75948_row7_col1\" class=\"data row7 col1\" >Dalmia</td>\n",
              "      <td id=\"T_75948_row7_col2\" class=\"data row7 col2\" >12000</td>\n",
              "      <td id=\"T_75948_row7_col3\" class=\"data row7 col3\" >Accounts</td>\n",
              "      <td id=\"T_75948_row7_col4\" class=\"data row7 col4\" >Calcutta</td>\n",
              "      <td id=\"T_75948_row7_col5\" class=\"data row7 col5\" >822134</td>\n",
              "    </tr>\n",
              "    <tr>\n",
              "      <td id=\"T_75948_row8_col0\" class=\"data row8 col0\" >Rahul</td>\n",
              "      <td id=\"T_75948_row8_col1\" class=\"data row8 col1\" >Dravid</td>\n",
              "      <td id=\"T_75948_row8_col2\" class=\"data row8 col2\" >40000</td>\n",
              "      <td id=\"T_75948_row8_col3\" class=\"data row8 col3\" >Accounts</td>\n",
              "      <td id=\"T_75948_row8_col4\" class=\"data row8 col4\" >Calcutta</td>\n",
              "      <td id=\"T_75948_row8_col5\" class=\"data row8 col5\" >822134</td>\n",
              "    </tr>\n",
              "    <tr>\n",
              "      <td id=\"T_75948_row9_col0\" class=\"data row9 col0\" >Sourav</td>\n",
              "      <td id=\"T_75948_row9_col1\" class=\"data row9 col1\" >Ganguly</td>\n",
              "      <td id=\"T_75948_row9_col2\" class=\"data row9 col2\" >20000</td>\n",
              "      <td id=\"T_75948_row9_col3\" class=\"data row9 col3\" >Production</td>\n",
              "      <td id=\"T_75948_row9_col4\" class=\"data row9 col4\" >Bombay</td>\n",
              "      <td id=\"T_75948_row9_col5\" class=\"data row9 col5\" >349870</td>\n",
              "    </tr>\n",
              "    <tr>\n",
              "      <td id=\"T_75948_row10_col0\" class=\"data row10 col0\" >Mahender</td>\n",
              "      <td id=\"T_75948_row10_col1\" class=\"data row10 col1\" >Dhoni</td>\n",
              "      <td id=\"T_75948_row10_col2\" class=\"data row10 col2\" >9000</td>\n",
              "      <td id=\"T_75948_row10_col3\" class=\"data row10 col3\" >Production</td>\n",
              "      <td id=\"T_75948_row10_col4\" class=\"data row10 col4\" >Bombay</td>\n",
              "      <td id=\"T_75948_row10_col5\" class=\"data row10 col5\" >349870</td>\n",
              "    </tr>\n",
              "    <tr>\n",
              "      <td id=\"T_75948_row11_col0\" class=\"data row11 col0\" >Rani</td>\n",
              "      <td id=\"T_75948_row11_col1\" class=\"data row11 col1\" >Mukherjee</td>\n",
              "      <td id=\"T_75948_row11_col2\" class=\"data row11 col2\" >25000</td>\n",
              "      <td id=\"T_75948_row11_col3\" class=\"data row11 col3\" >Production</td>\n",
              "      <td id=\"T_75948_row11_col4\" class=\"data row11 col4\" >Bombay</td>\n",
              "      <td id=\"T_75948_row11_col5\" class=\"data row11 col5\" >349870</td>\n",
              "    </tr>\n",
              "  </tbody>\n",
              "</table>\n"
            ]
          },
          "metadata": {},
          "execution_count": 48
        }
      ]
    },
    {
      "cell_type": "code",
      "source": [
        "sql = 'select empid, firstname, deptname, location from empl INNER JOIN dept ON empl.deptid = dept.deptid'\n",
        "runSelect(sql)"
      ],
      "metadata": {
        "colab": {
          "base_uri": "https://localhost:8080/",
          "height": 426
        },
        "id": "LVrEArEc1VcF",
        "outputId": "9f2e23a6-063a-4930-b85d-5ee65d431bbd"
      },
      "execution_count": 49,
      "outputs": [
        {
          "output_type": "execute_result",
          "data": {
            "text/plain": [
              "<pandas.io.formats.style.Styler at 0x79b4940f0550>"
            ],
            "text/html": [
              "<style type=\"text/css\">\n",
              "</style>\n",
              "<table id=\"T_cbbb5\" class=\"dataframe\">\n",
              "  <thead>\n",
              "    <tr>\n",
              "      <th id=\"T_cbbb5_level0_col0\" class=\"col_heading level0 col0\" >empid</th>\n",
              "      <th id=\"T_cbbb5_level0_col1\" class=\"col_heading level0 col1\" >firstname</th>\n",
              "      <th id=\"T_cbbb5_level0_col2\" class=\"col_heading level0 col2\" >deptname</th>\n",
              "      <th id=\"T_cbbb5_level0_col3\" class=\"col_heading level0 col3\" >location</th>\n",
              "    </tr>\n",
              "  </thead>\n",
              "  <tbody>\n",
              "    <tr>\n",
              "      <td id=\"T_cbbb5_row0_col0\" class=\"data row0 col0\" >546223</td>\n",
              "      <td id=\"T_cbbb5_row0_col1\" class=\"data row0 col1\" >Narayan</td>\n",
              "      <td id=\"T_cbbb5_row0_col2\" class=\"data row0 col2\" >Corporate</td>\n",
              "      <td id=\"T_cbbb5_row0_col3\" class=\"data row0 col3\" >Calcutta</td>\n",
              "    </tr>\n",
              "    <tr>\n",
              "      <td id=\"T_cbbb5_row1_col0\" class=\"data row1 col0\" >299034</td>\n",
              "      <td id=\"T_cbbb5_row1_col1\" class=\"data row1 col1\" >Rekha</td>\n",
              "      <td id=\"T_cbbb5_row1_col2\" class=\"data row1 col2\" >Corporate</td>\n",
              "      <td id=\"T_cbbb5_row1_col3\" class=\"data row1 col3\" >Calcutta</td>\n",
              "    </tr>\n",
              "    <tr>\n",
              "      <td id=\"T_cbbb5_row2_col0\" class=\"data row2 col0\" >742866</td>\n",
              "      <td id=\"T_cbbb5_row2_col1\" class=\"data row2 col1\" >Amitabh</td>\n",
              "      <td id=\"T_cbbb5_row2_col2\" class=\"data row2 col2\" >Corporate</td>\n",
              "      <td id=\"T_cbbb5_row2_col3\" class=\"data row2 col3\" >Calcutta</td>\n",
              "    </tr>\n",
              "    <tr>\n",
              "      <td id=\"T_cbbb5_row3_col0\" class=\"data row3 col0\" >897889</td>\n",
              "      <td id=\"T_cbbb5_row3_col1\" class=\"data row3 col1\" >Virender</td>\n",
              "      <td id=\"T_cbbb5_row3_col2\" class=\"data row3 col2\" >Sales</td>\n",
              "      <td id=\"T_cbbb5_row3_col3\" class=\"data row3 col3\" >Calcutta</td>\n",
              "    </tr>\n",
              "    <tr>\n",
              "      <td id=\"T_cbbb5_row4_col0\" class=\"data row4 col0\" >239456</td>\n",
              "      <td id=\"T_cbbb5_row4_col1\" class=\"data row4 col1\" >Shahrukh</td>\n",
              "      <td id=\"T_cbbb5_row4_col2\" class=\"data row4 col2\" >Sales</td>\n",
              "      <td id=\"T_cbbb5_row4_col3\" class=\"data row4 col3\" >Calcutta</td>\n",
              "    </tr>\n",
              "    <tr>\n",
              "      <td id=\"T_cbbb5_row5_col0\" class=\"data row5 col0\" >865477</td>\n",
              "      <td id=\"T_cbbb5_row5_col1\" class=\"data row5 col1\" >Madhuri</td>\n",
              "      <td id=\"T_cbbb5_row5_col2\" class=\"data row5 col2\" >Sales</td>\n",
              "      <td id=\"T_cbbb5_row5_col3\" class=\"data row5 col3\" >Calcutta</td>\n",
              "    </tr>\n",
              "    <tr>\n",
              "      <td id=\"T_cbbb5_row6_col0\" class=\"data row6 col0\" >223112</td>\n",
              "      <td id=\"T_cbbb5_row6_col1\" class=\"data row6 col1\" >Sania</td>\n",
              "      <td id=\"T_cbbb5_row6_col2\" class=\"data row6 col2\" >Accounts</td>\n",
              "      <td id=\"T_cbbb5_row6_col3\" class=\"data row6 col3\" >Calcutta</td>\n",
              "    </tr>\n",
              "    <tr>\n",
              "      <td id=\"T_cbbb5_row7_col0\" class=\"data row7 col0\" >997445</td>\n",
              "      <td id=\"T_cbbb5_row7_col1\" class=\"data row7 col1\" >Jagmohan</td>\n",
              "      <td id=\"T_cbbb5_row7_col2\" class=\"data row7 col2\" >Accounts</td>\n",
              "      <td id=\"T_cbbb5_row7_col3\" class=\"data row7 col3\" >Calcutta</td>\n",
              "    </tr>\n",
              "    <tr>\n",
              "      <td id=\"T_cbbb5_row8_col0\" class=\"data row8 col0\" >822134</td>\n",
              "      <td id=\"T_cbbb5_row8_col1\" class=\"data row8 col1\" >Rahul</td>\n",
              "      <td id=\"T_cbbb5_row8_col2\" class=\"data row8 col2\" >Accounts</td>\n",
              "      <td id=\"T_cbbb5_row8_col3\" class=\"data row8 col3\" >Calcutta</td>\n",
              "    </tr>\n",
              "    <tr>\n",
              "      <td id=\"T_cbbb5_row9_col0\" class=\"data row9 col0\" >989007</td>\n",
              "      <td id=\"T_cbbb5_row9_col1\" class=\"data row9 col1\" >Sourav</td>\n",
              "      <td id=\"T_cbbb5_row9_col2\" class=\"data row9 col2\" >Production</td>\n",
              "      <td id=\"T_cbbb5_row9_col3\" class=\"data row9 col3\" >Bombay</td>\n",
              "    </tr>\n",
              "    <tr>\n",
              "      <td id=\"T_cbbb5_row10_col0\" class=\"data row10 col0\" >123980</td>\n",
              "      <td id=\"T_cbbb5_row10_col1\" class=\"data row10 col1\" >Mahender</td>\n",
              "      <td id=\"T_cbbb5_row10_col2\" class=\"data row10 col2\" >Production</td>\n",
              "      <td id=\"T_cbbb5_row10_col3\" class=\"data row10 col3\" >Bombay</td>\n",
              "    </tr>\n",
              "    <tr>\n",
              "      <td id=\"T_cbbb5_row11_col0\" class=\"data row11 col0\" >349870</td>\n",
              "      <td id=\"T_cbbb5_row11_col1\" class=\"data row11 col1\" >Rani</td>\n",
              "      <td id=\"T_cbbb5_row11_col2\" class=\"data row11 col2\" >Production</td>\n",
              "      <td id=\"T_cbbb5_row11_col3\" class=\"data row11 col3\" >Bombay</td>\n",
              "    </tr>\n",
              "  </tbody>\n",
              "</table>\n"
            ]
          },
          "metadata": {},
          "execution_count": 49
        }
      ]
    },
    {
      "cell_type": "code",
      "source": [
        "sql = 'select deptname,round(sum(salary),0) payroll from empl INNER JOIN dept ON empl.deptid = dept.deptid \\\n",
        "group by deptname'\n",
        "runSelect(sql)"
      ],
      "metadata": {
        "id": "pKk82QRi28DP",
        "outputId": "43e080e9-dada-4ce2-bf60-ab0633a5b8bc",
        "colab": {
          "base_uri": "https://localhost:8080/",
          "height": 175
        }
      },
      "execution_count": 50,
      "outputs": [
        {
          "output_type": "execute_result",
          "data": {
            "text/plain": [
              "<pandas.io.formats.style.Styler at 0x79b4940842b0>"
            ],
            "text/html": [
              "<style type=\"text/css\">\n",
              "</style>\n",
              "<table id=\"T_12735\" class=\"dataframe\">\n",
              "  <thead>\n",
              "    <tr>\n",
              "      <th id=\"T_12735_level0_col0\" class=\"col_heading level0 col0\" >deptname</th>\n",
              "      <th id=\"T_12735_level0_col1\" class=\"col_heading level0 col1\" >payroll</th>\n",
              "    </tr>\n",
              "  </thead>\n",
              "  <tbody>\n",
              "    <tr>\n",
              "      <td id=\"T_12735_row0_col0\" class=\"data row0 col0\" >Corporate</td>\n",
              "      <td id=\"T_12735_row0_col1\" class=\"data row0 col1\" >150000</td>\n",
              "    </tr>\n",
              "    <tr>\n",
              "      <td id=\"T_12735_row1_col0\" class=\"data row1 col0\" >Accounts</td>\n",
              "      <td id=\"T_12735_row1_col1\" class=\"data row1 col1\" >77000</td>\n",
              "    </tr>\n",
              "    <tr>\n",
              "      <td id=\"T_12735_row2_col0\" class=\"data row2 col0\" >Sales</td>\n",
              "      <td id=\"T_12735_row2_col1\" class=\"data row2 col1\" >55000</td>\n",
              "    </tr>\n",
              "    <tr>\n",
              "      <td id=\"T_12735_row3_col0\" class=\"data row3 col0\" >Production</td>\n",
              "      <td id=\"T_12735_row3_col1\" class=\"data row3 col1\" >54000</td>\n",
              "    </tr>\n",
              "  </tbody>\n",
              "</table>\n"
            ]
          },
          "metadata": {},
          "execution_count": 50
        }
      ]
    },
    {
      "cell_type": "markdown",
      "source": [
        "## Outer Join"
      ],
      "metadata": {
        "id": "tK9uJHAL1u6x"
      }
    },
    {
      "cell_type": "markdown",
      "source": [
        "### Left Outer"
      ],
      "metadata": {
        "id": "5wGFVhyJ2x8S"
      }
    },
    {
      "cell_type": "code",
      "source": [
        "sql = 'select empid, firstname, deptname, location from empl LEFT JOIN dept ON empl.deptid = dept.deptid'\n",
        "runSelect(sql)"
      ],
      "metadata": {
        "colab": {
          "base_uri": "https://localhost:8080/",
          "height": 457
        },
        "id": "Ls6VfOXt1zTq",
        "outputId": "409433ae-febc-481d-e444-e36b403c24a7"
      },
      "execution_count": 51,
      "outputs": [
        {
          "output_type": "execute_result",
          "data": {
            "text/plain": [
              "<pandas.io.formats.style.Styler at 0x79b4940f0fd0>"
            ],
            "text/html": [
              "<style type=\"text/css\">\n",
              "</style>\n",
              "<table id=\"T_251dd\" class=\"dataframe\">\n",
              "  <thead>\n",
              "    <tr>\n",
              "      <th id=\"T_251dd_level0_col0\" class=\"col_heading level0 col0\" >empid</th>\n",
              "      <th id=\"T_251dd_level0_col1\" class=\"col_heading level0 col1\" >firstname</th>\n",
              "      <th id=\"T_251dd_level0_col2\" class=\"col_heading level0 col2\" >deptname</th>\n",
              "      <th id=\"T_251dd_level0_col3\" class=\"col_heading level0 col3\" >location</th>\n",
              "    </tr>\n",
              "  </thead>\n",
              "  <tbody>\n",
              "    <tr>\n",
              "      <td id=\"T_251dd_row0_col0\" class=\"data row0 col0\" >546223</td>\n",
              "      <td id=\"T_251dd_row0_col1\" class=\"data row0 col1\" >Narayan</td>\n",
              "      <td id=\"T_251dd_row0_col2\" class=\"data row0 col2\" >Corporate</td>\n",
              "      <td id=\"T_251dd_row0_col3\" class=\"data row0 col3\" >Calcutta</td>\n",
              "    </tr>\n",
              "    <tr>\n",
              "      <td id=\"T_251dd_row1_col0\" class=\"data row1 col0\" >299034</td>\n",
              "      <td id=\"T_251dd_row1_col1\" class=\"data row1 col1\" >Rekha</td>\n",
              "      <td id=\"T_251dd_row1_col2\" class=\"data row1 col2\" >Corporate</td>\n",
              "      <td id=\"T_251dd_row1_col3\" class=\"data row1 col3\" >Calcutta</td>\n",
              "    </tr>\n",
              "    <tr>\n",
              "      <td id=\"T_251dd_row2_col0\" class=\"data row2 col0\" >742866</td>\n",
              "      <td id=\"T_251dd_row2_col1\" class=\"data row2 col1\" >Amitabh</td>\n",
              "      <td id=\"T_251dd_row2_col2\" class=\"data row2 col2\" >Corporate</td>\n",
              "      <td id=\"T_251dd_row2_col3\" class=\"data row2 col3\" >Calcutta</td>\n",
              "    </tr>\n",
              "    <tr>\n",
              "      <td id=\"T_251dd_row3_col0\" class=\"data row3 col0\" >897889</td>\n",
              "      <td id=\"T_251dd_row3_col1\" class=\"data row3 col1\" >Virender</td>\n",
              "      <td id=\"T_251dd_row3_col2\" class=\"data row3 col2\" >Sales</td>\n",
              "      <td id=\"T_251dd_row3_col3\" class=\"data row3 col3\" >Calcutta</td>\n",
              "    </tr>\n",
              "    <tr>\n",
              "      <td id=\"T_251dd_row4_col0\" class=\"data row4 col0\" >239456</td>\n",
              "      <td id=\"T_251dd_row4_col1\" class=\"data row4 col1\" >Shahrukh</td>\n",
              "      <td id=\"T_251dd_row4_col2\" class=\"data row4 col2\" >Sales</td>\n",
              "      <td id=\"T_251dd_row4_col3\" class=\"data row4 col3\" >Calcutta</td>\n",
              "    </tr>\n",
              "    <tr>\n",
              "      <td id=\"T_251dd_row5_col0\" class=\"data row5 col0\" >865477</td>\n",
              "      <td id=\"T_251dd_row5_col1\" class=\"data row5 col1\" >Madhuri</td>\n",
              "      <td id=\"T_251dd_row5_col2\" class=\"data row5 col2\" >Sales</td>\n",
              "      <td id=\"T_251dd_row5_col3\" class=\"data row5 col3\" >Calcutta</td>\n",
              "    </tr>\n",
              "    <tr>\n",
              "      <td id=\"T_251dd_row6_col0\" class=\"data row6 col0\" >223112</td>\n",
              "      <td id=\"T_251dd_row6_col1\" class=\"data row6 col1\" >Sania</td>\n",
              "      <td id=\"T_251dd_row6_col2\" class=\"data row6 col2\" >Accounts</td>\n",
              "      <td id=\"T_251dd_row6_col3\" class=\"data row6 col3\" >Calcutta</td>\n",
              "    </tr>\n",
              "    <tr>\n",
              "      <td id=\"T_251dd_row7_col0\" class=\"data row7 col0\" >997445</td>\n",
              "      <td id=\"T_251dd_row7_col1\" class=\"data row7 col1\" >Jagmohan</td>\n",
              "      <td id=\"T_251dd_row7_col2\" class=\"data row7 col2\" >Accounts</td>\n",
              "      <td id=\"T_251dd_row7_col3\" class=\"data row7 col3\" >Calcutta</td>\n",
              "    </tr>\n",
              "    <tr>\n",
              "      <td id=\"T_251dd_row8_col0\" class=\"data row8 col0\" >822134</td>\n",
              "      <td id=\"T_251dd_row8_col1\" class=\"data row8 col1\" >Rahul</td>\n",
              "      <td id=\"T_251dd_row8_col2\" class=\"data row8 col2\" >Accounts</td>\n",
              "      <td id=\"T_251dd_row8_col3\" class=\"data row8 col3\" >Calcutta</td>\n",
              "    </tr>\n",
              "    <tr>\n",
              "      <td id=\"T_251dd_row9_col0\" class=\"data row9 col0\" >989007</td>\n",
              "      <td id=\"T_251dd_row9_col1\" class=\"data row9 col1\" >Sourav</td>\n",
              "      <td id=\"T_251dd_row9_col2\" class=\"data row9 col2\" >Production</td>\n",
              "      <td id=\"T_251dd_row9_col3\" class=\"data row9 col3\" >Bombay</td>\n",
              "    </tr>\n",
              "    <tr>\n",
              "      <td id=\"T_251dd_row10_col0\" class=\"data row10 col0\" >123980</td>\n",
              "      <td id=\"T_251dd_row10_col1\" class=\"data row10 col1\" >Mahender</td>\n",
              "      <td id=\"T_251dd_row10_col2\" class=\"data row10 col2\" >Production</td>\n",
              "      <td id=\"T_251dd_row10_col3\" class=\"data row10 col3\" >Bombay</td>\n",
              "    </tr>\n",
              "    <tr>\n",
              "      <td id=\"T_251dd_row11_col0\" class=\"data row11 col0\" >349870</td>\n",
              "      <td id=\"T_251dd_row11_col1\" class=\"data row11 col1\" >Rani</td>\n",
              "      <td id=\"T_251dd_row11_col2\" class=\"data row11 col2\" >Production</td>\n",
              "      <td id=\"T_251dd_row11_col3\" class=\"data row11 col3\" >Bombay</td>\n",
              "    </tr>\n",
              "    <tr>\n",
              "      <td id=\"T_251dd_row12_col0\" class=\"data row12 col0\" >546224</td>\n",
              "      <td id=\"T_251dd_row12_col1\" class=\"data row12 col1\" >Chettri</td>\n",
              "      <td id=\"T_251dd_row12_col2\" class=\"data row12 col2\" >None</td>\n",
              "      <td id=\"T_251dd_row12_col3\" class=\"data row12 col3\" >None</td>\n",
              "    </tr>\n",
              "  </tbody>\n",
              "</table>\n"
            ]
          },
          "metadata": {},
          "execution_count": 51
        }
      ]
    },
    {
      "cell_type": "markdown",
      "source": [
        "### Right Outer"
      ],
      "metadata": {
        "id": "iJ6DASb121Og"
      }
    },
    {
      "cell_type": "code",
      "source": [
        "sql = 'select empid, firstname, deptname, location from empl RIGHT JOIN dept ON empl.deptid = dept.deptid'\n",
        "runSelect(sql)"
      ],
      "metadata": {
        "colab": {
          "base_uri": "https://localhost:8080/",
          "height": 457
        },
        "id": "khvQpQ4E2XND",
        "outputId": "da1fef2a-a9ee-436a-b547-b4fbae37751f"
      },
      "execution_count": 52,
      "outputs": [
        {
          "output_type": "execute_result",
          "data": {
            "text/plain": [
              "<pandas.io.formats.style.Styler at 0x79b4940f2ce0>"
            ],
            "text/html": [
              "<style type=\"text/css\">\n",
              "</style>\n",
              "<table id=\"T_7bc6d\" class=\"dataframe\">\n",
              "  <thead>\n",
              "    <tr>\n",
              "      <th id=\"T_7bc6d_level0_col0\" class=\"col_heading level0 col0\" >empid</th>\n",
              "      <th id=\"T_7bc6d_level0_col1\" class=\"col_heading level0 col1\" >firstname</th>\n",
              "      <th id=\"T_7bc6d_level0_col2\" class=\"col_heading level0 col2\" >deptname</th>\n",
              "      <th id=\"T_7bc6d_level0_col3\" class=\"col_heading level0 col3\" >location</th>\n",
              "    </tr>\n",
              "  </thead>\n",
              "  <tbody>\n",
              "    <tr>\n",
              "      <td id=\"T_7bc6d_row0_col0\" class=\"data row0 col0\" >546223</td>\n",
              "      <td id=\"T_7bc6d_row0_col1\" class=\"data row0 col1\" >Narayan</td>\n",
              "      <td id=\"T_7bc6d_row0_col2\" class=\"data row0 col2\" >Corporate</td>\n",
              "      <td id=\"T_7bc6d_row0_col3\" class=\"data row0 col3\" >Calcutta</td>\n",
              "    </tr>\n",
              "    <tr>\n",
              "      <td id=\"T_7bc6d_row1_col0\" class=\"data row1 col0\" >299034</td>\n",
              "      <td id=\"T_7bc6d_row1_col1\" class=\"data row1 col1\" >Rekha</td>\n",
              "      <td id=\"T_7bc6d_row1_col2\" class=\"data row1 col2\" >Corporate</td>\n",
              "      <td id=\"T_7bc6d_row1_col3\" class=\"data row1 col3\" >Calcutta</td>\n",
              "    </tr>\n",
              "    <tr>\n",
              "      <td id=\"T_7bc6d_row2_col0\" class=\"data row2 col0\" >742866</td>\n",
              "      <td id=\"T_7bc6d_row2_col1\" class=\"data row2 col1\" >Amitabh</td>\n",
              "      <td id=\"T_7bc6d_row2_col2\" class=\"data row2 col2\" >Corporate</td>\n",
              "      <td id=\"T_7bc6d_row2_col3\" class=\"data row2 col3\" >Calcutta</td>\n",
              "    </tr>\n",
              "    <tr>\n",
              "      <td id=\"T_7bc6d_row3_col0\" class=\"data row3 col0\" >897889</td>\n",
              "      <td id=\"T_7bc6d_row3_col1\" class=\"data row3 col1\" >Virender</td>\n",
              "      <td id=\"T_7bc6d_row3_col2\" class=\"data row3 col2\" >Sales</td>\n",
              "      <td id=\"T_7bc6d_row3_col3\" class=\"data row3 col3\" >Calcutta</td>\n",
              "    </tr>\n",
              "    <tr>\n",
              "      <td id=\"T_7bc6d_row4_col0\" class=\"data row4 col0\" >239456</td>\n",
              "      <td id=\"T_7bc6d_row4_col1\" class=\"data row4 col1\" >Shahrukh</td>\n",
              "      <td id=\"T_7bc6d_row4_col2\" class=\"data row4 col2\" >Sales</td>\n",
              "      <td id=\"T_7bc6d_row4_col3\" class=\"data row4 col3\" >Calcutta</td>\n",
              "    </tr>\n",
              "    <tr>\n",
              "      <td id=\"T_7bc6d_row5_col0\" class=\"data row5 col0\" >865477</td>\n",
              "      <td id=\"T_7bc6d_row5_col1\" class=\"data row5 col1\" >Madhuri</td>\n",
              "      <td id=\"T_7bc6d_row5_col2\" class=\"data row5 col2\" >Sales</td>\n",
              "      <td id=\"T_7bc6d_row5_col3\" class=\"data row5 col3\" >Calcutta</td>\n",
              "    </tr>\n",
              "    <tr>\n",
              "      <td id=\"T_7bc6d_row6_col0\" class=\"data row6 col0\" >223112</td>\n",
              "      <td id=\"T_7bc6d_row6_col1\" class=\"data row6 col1\" >Sania</td>\n",
              "      <td id=\"T_7bc6d_row6_col2\" class=\"data row6 col2\" >Accounts</td>\n",
              "      <td id=\"T_7bc6d_row6_col3\" class=\"data row6 col3\" >Calcutta</td>\n",
              "    </tr>\n",
              "    <tr>\n",
              "      <td id=\"T_7bc6d_row7_col0\" class=\"data row7 col0\" >997445</td>\n",
              "      <td id=\"T_7bc6d_row7_col1\" class=\"data row7 col1\" >Jagmohan</td>\n",
              "      <td id=\"T_7bc6d_row7_col2\" class=\"data row7 col2\" >Accounts</td>\n",
              "      <td id=\"T_7bc6d_row7_col3\" class=\"data row7 col3\" >Calcutta</td>\n",
              "    </tr>\n",
              "    <tr>\n",
              "      <td id=\"T_7bc6d_row8_col0\" class=\"data row8 col0\" >822134</td>\n",
              "      <td id=\"T_7bc6d_row8_col1\" class=\"data row8 col1\" >Rahul</td>\n",
              "      <td id=\"T_7bc6d_row8_col2\" class=\"data row8 col2\" >Accounts</td>\n",
              "      <td id=\"T_7bc6d_row8_col3\" class=\"data row8 col3\" >Calcutta</td>\n",
              "    </tr>\n",
              "    <tr>\n",
              "      <td id=\"T_7bc6d_row9_col0\" class=\"data row9 col0\" >989007</td>\n",
              "      <td id=\"T_7bc6d_row9_col1\" class=\"data row9 col1\" >Sourav</td>\n",
              "      <td id=\"T_7bc6d_row9_col2\" class=\"data row9 col2\" >Production</td>\n",
              "      <td id=\"T_7bc6d_row9_col3\" class=\"data row9 col3\" >Bombay</td>\n",
              "    </tr>\n",
              "    <tr>\n",
              "      <td id=\"T_7bc6d_row10_col0\" class=\"data row10 col0\" >123980</td>\n",
              "      <td id=\"T_7bc6d_row10_col1\" class=\"data row10 col1\" >Mahender</td>\n",
              "      <td id=\"T_7bc6d_row10_col2\" class=\"data row10 col2\" >Production</td>\n",
              "      <td id=\"T_7bc6d_row10_col3\" class=\"data row10 col3\" >Bombay</td>\n",
              "    </tr>\n",
              "    <tr>\n",
              "      <td id=\"T_7bc6d_row11_col0\" class=\"data row11 col0\" >349870</td>\n",
              "      <td id=\"T_7bc6d_row11_col1\" class=\"data row11 col1\" >Rani</td>\n",
              "      <td id=\"T_7bc6d_row11_col2\" class=\"data row11 col2\" >Production</td>\n",
              "      <td id=\"T_7bc6d_row11_col3\" class=\"data row11 col3\" >Bombay</td>\n",
              "    </tr>\n",
              "    <tr>\n",
              "      <td id=\"T_7bc6d_row12_col0\" class=\"data row12 col0\" >None</td>\n",
              "      <td id=\"T_7bc6d_row12_col1\" class=\"data row12 col1\" >None</td>\n",
              "      <td id=\"T_7bc6d_row12_col2\" class=\"data row12 col2\" >Research</td>\n",
              "      <td id=\"T_7bc6d_row12_col3\" class=\"data row12 col3\" >Delhi</td>\n",
              "    </tr>\n",
              "  </tbody>\n",
              "</table>\n"
            ]
          },
          "metadata": {},
          "execution_count": 52
        }
      ]
    },
    {
      "cell_type": "markdown",
      "source": [
        "### Full Outer"
      ],
      "metadata": {
        "id": "RsEyhBBp24zy"
      }
    },
    {
      "cell_type": "code",
      "source": [
        "sql = 'select empid, firstname, deptname, location from empl FULL JOIN dept ON empl.deptid = dept.deptid'\n",
        "runSelect(sql)"
      ],
      "metadata": {
        "colab": {
          "base_uri": "https://localhost:8080/",
          "height": 488
        },
        "id": "Ipt14U9o2qFg",
        "outputId": "0013f61b-257d-4247-8c43-384f58463e6a"
      },
      "execution_count": 53,
      "outputs": [
        {
          "output_type": "execute_result",
          "data": {
            "text/plain": [
              "<pandas.io.formats.style.Styler at 0x79b4940f11e0>"
            ],
            "text/html": [
              "<style type=\"text/css\">\n",
              "</style>\n",
              "<table id=\"T_a30d8\" class=\"dataframe\">\n",
              "  <thead>\n",
              "    <tr>\n",
              "      <th id=\"T_a30d8_level0_col0\" class=\"col_heading level0 col0\" >empid</th>\n",
              "      <th id=\"T_a30d8_level0_col1\" class=\"col_heading level0 col1\" >firstname</th>\n",
              "      <th id=\"T_a30d8_level0_col2\" class=\"col_heading level0 col2\" >deptname</th>\n",
              "      <th id=\"T_a30d8_level0_col3\" class=\"col_heading level0 col3\" >location</th>\n",
              "    </tr>\n",
              "  </thead>\n",
              "  <tbody>\n",
              "    <tr>\n",
              "      <td id=\"T_a30d8_row0_col0\" class=\"data row0 col0\" >546223</td>\n",
              "      <td id=\"T_a30d8_row0_col1\" class=\"data row0 col1\" >Narayan</td>\n",
              "      <td id=\"T_a30d8_row0_col2\" class=\"data row0 col2\" >Corporate</td>\n",
              "      <td id=\"T_a30d8_row0_col3\" class=\"data row0 col3\" >Calcutta</td>\n",
              "    </tr>\n",
              "    <tr>\n",
              "      <td id=\"T_a30d8_row1_col0\" class=\"data row1 col0\" >299034</td>\n",
              "      <td id=\"T_a30d8_row1_col1\" class=\"data row1 col1\" >Rekha</td>\n",
              "      <td id=\"T_a30d8_row1_col2\" class=\"data row1 col2\" >Corporate</td>\n",
              "      <td id=\"T_a30d8_row1_col3\" class=\"data row1 col3\" >Calcutta</td>\n",
              "    </tr>\n",
              "    <tr>\n",
              "      <td id=\"T_a30d8_row2_col0\" class=\"data row2 col0\" >742866</td>\n",
              "      <td id=\"T_a30d8_row2_col1\" class=\"data row2 col1\" >Amitabh</td>\n",
              "      <td id=\"T_a30d8_row2_col2\" class=\"data row2 col2\" >Corporate</td>\n",
              "      <td id=\"T_a30d8_row2_col3\" class=\"data row2 col3\" >Calcutta</td>\n",
              "    </tr>\n",
              "    <tr>\n",
              "      <td id=\"T_a30d8_row3_col0\" class=\"data row3 col0\" >897889</td>\n",
              "      <td id=\"T_a30d8_row3_col1\" class=\"data row3 col1\" >Virender</td>\n",
              "      <td id=\"T_a30d8_row3_col2\" class=\"data row3 col2\" >Sales</td>\n",
              "      <td id=\"T_a30d8_row3_col3\" class=\"data row3 col3\" >Calcutta</td>\n",
              "    </tr>\n",
              "    <tr>\n",
              "      <td id=\"T_a30d8_row4_col0\" class=\"data row4 col0\" >239456</td>\n",
              "      <td id=\"T_a30d8_row4_col1\" class=\"data row4 col1\" >Shahrukh</td>\n",
              "      <td id=\"T_a30d8_row4_col2\" class=\"data row4 col2\" >Sales</td>\n",
              "      <td id=\"T_a30d8_row4_col3\" class=\"data row4 col3\" >Calcutta</td>\n",
              "    </tr>\n",
              "    <tr>\n",
              "      <td id=\"T_a30d8_row5_col0\" class=\"data row5 col0\" >865477</td>\n",
              "      <td id=\"T_a30d8_row5_col1\" class=\"data row5 col1\" >Madhuri</td>\n",
              "      <td id=\"T_a30d8_row5_col2\" class=\"data row5 col2\" >Sales</td>\n",
              "      <td id=\"T_a30d8_row5_col3\" class=\"data row5 col3\" >Calcutta</td>\n",
              "    </tr>\n",
              "    <tr>\n",
              "      <td id=\"T_a30d8_row6_col0\" class=\"data row6 col0\" >223112</td>\n",
              "      <td id=\"T_a30d8_row6_col1\" class=\"data row6 col1\" >Sania</td>\n",
              "      <td id=\"T_a30d8_row6_col2\" class=\"data row6 col2\" >Accounts</td>\n",
              "      <td id=\"T_a30d8_row6_col3\" class=\"data row6 col3\" >Calcutta</td>\n",
              "    </tr>\n",
              "    <tr>\n",
              "      <td id=\"T_a30d8_row7_col0\" class=\"data row7 col0\" >997445</td>\n",
              "      <td id=\"T_a30d8_row7_col1\" class=\"data row7 col1\" >Jagmohan</td>\n",
              "      <td id=\"T_a30d8_row7_col2\" class=\"data row7 col2\" >Accounts</td>\n",
              "      <td id=\"T_a30d8_row7_col3\" class=\"data row7 col3\" >Calcutta</td>\n",
              "    </tr>\n",
              "    <tr>\n",
              "      <td id=\"T_a30d8_row8_col0\" class=\"data row8 col0\" >822134</td>\n",
              "      <td id=\"T_a30d8_row8_col1\" class=\"data row8 col1\" >Rahul</td>\n",
              "      <td id=\"T_a30d8_row8_col2\" class=\"data row8 col2\" >Accounts</td>\n",
              "      <td id=\"T_a30d8_row8_col3\" class=\"data row8 col3\" >Calcutta</td>\n",
              "    </tr>\n",
              "    <tr>\n",
              "      <td id=\"T_a30d8_row9_col0\" class=\"data row9 col0\" >989007</td>\n",
              "      <td id=\"T_a30d8_row9_col1\" class=\"data row9 col1\" >Sourav</td>\n",
              "      <td id=\"T_a30d8_row9_col2\" class=\"data row9 col2\" >Production</td>\n",
              "      <td id=\"T_a30d8_row9_col3\" class=\"data row9 col3\" >Bombay</td>\n",
              "    </tr>\n",
              "    <tr>\n",
              "      <td id=\"T_a30d8_row10_col0\" class=\"data row10 col0\" >123980</td>\n",
              "      <td id=\"T_a30d8_row10_col1\" class=\"data row10 col1\" >Mahender</td>\n",
              "      <td id=\"T_a30d8_row10_col2\" class=\"data row10 col2\" >Production</td>\n",
              "      <td id=\"T_a30d8_row10_col3\" class=\"data row10 col3\" >Bombay</td>\n",
              "    </tr>\n",
              "    <tr>\n",
              "      <td id=\"T_a30d8_row11_col0\" class=\"data row11 col0\" >349870</td>\n",
              "      <td id=\"T_a30d8_row11_col1\" class=\"data row11 col1\" >Rani</td>\n",
              "      <td id=\"T_a30d8_row11_col2\" class=\"data row11 col2\" >Production</td>\n",
              "      <td id=\"T_a30d8_row11_col3\" class=\"data row11 col3\" >Bombay</td>\n",
              "    </tr>\n",
              "    <tr>\n",
              "      <td id=\"T_a30d8_row12_col0\" class=\"data row12 col0\" >None</td>\n",
              "      <td id=\"T_a30d8_row12_col1\" class=\"data row12 col1\" >None</td>\n",
              "      <td id=\"T_a30d8_row12_col2\" class=\"data row12 col2\" >Research</td>\n",
              "      <td id=\"T_a30d8_row12_col3\" class=\"data row12 col3\" >Delhi</td>\n",
              "    </tr>\n",
              "    <tr>\n",
              "      <td id=\"T_a30d8_row13_col0\" class=\"data row13 col0\" >546224</td>\n",
              "      <td id=\"T_a30d8_row13_col1\" class=\"data row13 col1\" >Chettri</td>\n",
              "      <td id=\"T_a30d8_row13_col2\" class=\"data row13 col2\" >None</td>\n",
              "      <td id=\"T_a30d8_row13_col3\" class=\"data row13 col3\" >None</td>\n",
              "    </tr>\n",
              "  </tbody>\n",
              "</table>\n"
            ]
          },
          "metadata": {},
          "execution_count": 53
        }
      ]
    },
    {
      "cell_type": "code",
      "source": [
        "sql = 'select deptname,round(sum(salary),0) payroll from empl FULL JOIN dept ON empl.deptid = dept.deptid \\\n",
        "group by deptname'\n",
        "runSelect(sql)"
      ],
      "metadata": {
        "id": "EAI2kiYP3p9O",
        "outputId": "57f93ec4-488d-4839-d411-a53e02a67fdc",
        "colab": {
          "base_uri": "https://localhost:8080/",
          "height": 238
        }
      },
      "execution_count": 54,
      "outputs": [
        {
          "output_type": "execute_result",
          "data": {
            "text/plain": [
              "<pandas.io.formats.style.Styler at 0x79b4940f1540>"
            ],
            "text/html": [
              "<style type=\"text/css\">\n",
              "</style>\n",
              "<table id=\"T_aca43\" class=\"dataframe\">\n",
              "  <thead>\n",
              "    <tr>\n",
              "      <th id=\"T_aca43_level0_col0\" class=\"col_heading level0 col0\" >deptname</th>\n",
              "      <th id=\"T_aca43_level0_col1\" class=\"col_heading level0 col1\" >payroll</th>\n",
              "    </tr>\n",
              "  </thead>\n",
              "  <tbody>\n",
              "    <tr>\n",
              "      <td id=\"T_aca43_row0_col0\" class=\"data row0 col0\" >None</td>\n",
              "      <td id=\"T_aca43_row0_col1\" class=\"data row0 col1\" >40000</td>\n",
              "    </tr>\n",
              "    <tr>\n",
              "      <td id=\"T_aca43_row1_col0\" class=\"data row1 col0\" >Research</td>\n",
              "      <td id=\"T_aca43_row1_col1\" class=\"data row1 col1\" >None</td>\n",
              "    </tr>\n",
              "    <tr>\n",
              "      <td id=\"T_aca43_row2_col0\" class=\"data row2 col0\" >Corporate</td>\n",
              "      <td id=\"T_aca43_row2_col1\" class=\"data row2 col1\" >150000</td>\n",
              "    </tr>\n",
              "    <tr>\n",
              "      <td id=\"T_aca43_row3_col0\" class=\"data row3 col0\" >Accounts</td>\n",
              "      <td id=\"T_aca43_row3_col1\" class=\"data row3 col1\" >77000</td>\n",
              "    </tr>\n",
              "    <tr>\n",
              "      <td id=\"T_aca43_row4_col0\" class=\"data row4 col0\" >Sales</td>\n",
              "      <td id=\"T_aca43_row4_col1\" class=\"data row4 col1\" >55000</td>\n",
              "    </tr>\n",
              "    <tr>\n",
              "      <td id=\"T_aca43_row5_col0\" class=\"data row5 col0\" >Production</td>\n",
              "      <td id=\"T_aca43_row5_col1\" class=\"data row5 col1\" >54000</td>\n",
              "    </tr>\n",
              "  </tbody>\n",
              "</table>\n"
            ]
          },
          "metadata": {},
          "execution_count": 54
        }
      ]
    },
    {
      "cell_type": "markdown",
      "source": [
        "## Recursive Joins"
      ],
      "metadata": {
        "id": "6nm2xAfn6pIV"
      }
    },
    {
      "cell_type": "markdown",
      "source": [
        "### Three Tables"
      ],
      "metadata": {
        "id": "A1KCGwwyB02z"
      }
    },
    {
      "cell_type": "code",
      "source": [
        "cmd = \"select w.lastname , w.deptID, '>' linksTo  , d.deptID ,d.managerID,'<' linksTo, m.empID, m.lastname \\\n",
        "        from Empl w, Dept d, Empl m \\\n",
        "        where w.deptID = d.deptID   \\\n",
        "        and d.managerID = m.empID \\\n",
        "    \"\n",
        "runSelect(cmd)"
      ],
      "metadata": {
        "colab": {
          "base_uri": "https://localhost:8080/",
          "height": 426
        },
        "id": "W17nS5R7AL0J",
        "outputId": "504b9ae6-e87e-40e9-e7b6-3bad99376a3c"
      },
      "execution_count": 55,
      "outputs": [
        {
          "output_type": "execute_result",
          "data": {
            "text/plain": [
              "<pandas.io.formats.style.Styler at 0x79b4940f3670>"
            ],
            "text/html": [
              "<style type=\"text/css\">\n",
              "</style>\n",
              "<table id=\"T_75cc9\" class=\"dataframe\">\n",
              "  <thead>\n",
              "    <tr>\n",
              "      <th id=\"T_75cc9_level0_col0\" class=\"col_heading level0 col0\" >lastname</th>\n",
              "      <th id=\"T_75cc9_level0_col1\" class=\"col_heading level0 col1\" >deptid</th>\n",
              "      <th id=\"T_75cc9_level0_col2\" class=\"col_heading level0 col2\" >linksto</th>\n",
              "      <th id=\"T_75cc9_level0_col3\" class=\"col_heading level0 col3\" >deptid</th>\n",
              "      <th id=\"T_75cc9_level0_col4\" class=\"col_heading level0 col4\" >managerid</th>\n",
              "      <th id=\"T_75cc9_level0_col5\" class=\"col_heading level0 col5\" >linksto</th>\n",
              "      <th id=\"T_75cc9_level0_col6\" class=\"col_heading level0 col6\" >empid</th>\n",
              "      <th id=\"T_75cc9_level0_col7\" class=\"col_heading level0 col7\" >lastname</th>\n",
              "    </tr>\n",
              "  </thead>\n",
              "  <tbody>\n",
              "    <tr>\n",
              "      <td id=\"T_75cc9_row0_col0\" class=\"data row0 col0\" >Karthikeyan</td>\n",
              "      <td id=\"T_75cc9_row0_col1\" class=\"data row0 col1\" >10</td>\n",
              "      <td id=\"T_75cc9_row0_col2\" class=\"data row0 col2\" >></td>\n",
              "      <td id=\"T_75cc9_row0_col3\" class=\"data row0 col3\" >10</td>\n",
              "      <td id=\"T_75cc9_row0_col4\" class=\"data row0 col4\" >299034</td>\n",
              "      <td id=\"T_75cc9_row0_col5\" class=\"data row0 col5\" ><</td>\n",
              "      <td id=\"T_75cc9_row0_col6\" class=\"data row0 col6\" >299034</td>\n",
              "      <td id=\"T_75cc9_row0_col7\" class=\"data row0 col7\" >Ganesan</td>\n",
              "    </tr>\n",
              "    <tr>\n",
              "      <td id=\"T_75cc9_row1_col0\" class=\"data row1 col0\" >Ganesan</td>\n",
              "      <td id=\"T_75cc9_row1_col1\" class=\"data row1 col1\" >10</td>\n",
              "      <td id=\"T_75cc9_row1_col2\" class=\"data row1 col2\" >></td>\n",
              "      <td id=\"T_75cc9_row1_col3\" class=\"data row1 col3\" >10</td>\n",
              "      <td id=\"T_75cc9_row1_col4\" class=\"data row1 col4\" >299034</td>\n",
              "      <td id=\"T_75cc9_row1_col5\" class=\"data row1 col5\" ><</td>\n",
              "      <td id=\"T_75cc9_row1_col6\" class=\"data row1 col6\" >299034</td>\n",
              "      <td id=\"T_75cc9_row1_col7\" class=\"data row1 col7\" >Ganesan</td>\n",
              "    </tr>\n",
              "    <tr>\n",
              "      <td id=\"T_75cc9_row2_col0\" class=\"data row2 col0\" >Bacchan</td>\n",
              "      <td id=\"T_75cc9_row2_col1\" class=\"data row2 col1\" >10</td>\n",
              "      <td id=\"T_75cc9_row2_col2\" class=\"data row2 col2\" >></td>\n",
              "      <td id=\"T_75cc9_row2_col3\" class=\"data row2 col3\" >10</td>\n",
              "      <td id=\"T_75cc9_row2_col4\" class=\"data row2 col4\" >299034</td>\n",
              "      <td id=\"T_75cc9_row2_col5\" class=\"data row2 col5\" ><</td>\n",
              "      <td id=\"T_75cc9_row2_col6\" class=\"data row2 col6\" >299034</td>\n",
              "      <td id=\"T_75cc9_row2_col7\" class=\"data row2 col7\" >Ganesan</td>\n",
              "    </tr>\n",
              "    <tr>\n",
              "      <td id=\"T_75cc9_row3_col0\" class=\"data row3 col0\" >Sehwag</td>\n",
              "      <td id=\"T_75cc9_row3_col1\" class=\"data row3 col1\" >20</td>\n",
              "      <td id=\"T_75cc9_row3_col2\" class=\"data row3 col2\" >></td>\n",
              "      <td id=\"T_75cc9_row3_col3\" class=\"data row3 col3\" >20</td>\n",
              "      <td id=\"T_75cc9_row3_col4\" class=\"data row3 col4\" >239456</td>\n",
              "      <td id=\"T_75cc9_row3_col5\" class=\"data row3 col5\" ><</td>\n",
              "      <td id=\"T_75cc9_row3_col6\" class=\"data row3 col6\" >239456</td>\n",
              "      <td id=\"T_75cc9_row3_col7\" class=\"data row3 col7\" >Khan</td>\n",
              "    </tr>\n",
              "    <tr>\n",
              "      <td id=\"T_75cc9_row4_col0\" class=\"data row4 col0\" >Khan</td>\n",
              "      <td id=\"T_75cc9_row4_col1\" class=\"data row4 col1\" >20</td>\n",
              "      <td id=\"T_75cc9_row4_col2\" class=\"data row4 col2\" >></td>\n",
              "      <td id=\"T_75cc9_row4_col3\" class=\"data row4 col3\" >20</td>\n",
              "      <td id=\"T_75cc9_row4_col4\" class=\"data row4 col4\" >239456</td>\n",
              "      <td id=\"T_75cc9_row4_col5\" class=\"data row4 col5\" ><</td>\n",
              "      <td id=\"T_75cc9_row4_col6\" class=\"data row4 col6\" >239456</td>\n",
              "      <td id=\"T_75cc9_row4_col7\" class=\"data row4 col7\" >Khan</td>\n",
              "    </tr>\n",
              "    <tr>\n",
              "      <td id=\"T_75cc9_row5_col0\" class=\"data row5 col0\" >Dikshit</td>\n",
              "      <td id=\"T_75cc9_row5_col1\" class=\"data row5 col1\" >20</td>\n",
              "      <td id=\"T_75cc9_row5_col2\" class=\"data row5 col2\" >></td>\n",
              "      <td id=\"T_75cc9_row5_col3\" class=\"data row5 col3\" >20</td>\n",
              "      <td id=\"T_75cc9_row5_col4\" class=\"data row5 col4\" >239456</td>\n",
              "      <td id=\"T_75cc9_row5_col5\" class=\"data row5 col5\" ><</td>\n",
              "      <td id=\"T_75cc9_row5_col6\" class=\"data row5 col6\" >239456</td>\n",
              "      <td id=\"T_75cc9_row5_col7\" class=\"data row5 col7\" >Khan</td>\n",
              "    </tr>\n",
              "    <tr>\n",
              "      <td id=\"T_75cc9_row6_col0\" class=\"data row6 col0\" >Mirza</td>\n",
              "      <td id=\"T_75cc9_row6_col1\" class=\"data row6 col1\" >30</td>\n",
              "      <td id=\"T_75cc9_row6_col2\" class=\"data row6 col2\" >></td>\n",
              "      <td id=\"T_75cc9_row6_col3\" class=\"data row6 col3\" >30</td>\n",
              "      <td id=\"T_75cc9_row6_col4\" class=\"data row6 col4\" >822134</td>\n",
              "      <td id=\"T_75cc9_row6_col5\" class=\"data row6 col5\" ><</td>\n",
              "      <td id=\"T_75cc9_row6_col6\" class=\"data row6 col6\" >822134</td>\n",
              "      <td id=\"T_75cc9_row6_col7\" class=\"data row6 col7\" >Dravid</td>\n",
              "    </tr>\n",
              "    <tr>\n",
              "      <td id=\"T_75cc9_row7_col0\" class=\"data row7 col0\" >Dalmia</td>\n",
              "      <td id=\"T_75cc9_row7_col1\" class=\"data row7 col1\" >30</td>\n",
              "      <td id=\"T_75cc9_row7_col2\" class=\"data row7 col2\" >></td>\n",
              "      <td id=\"T_75cc9_row7_col3\" class=\"data row7 col3\" >30</td>\n",
              "      <td id=\"T_75cc9_row7_col4\" class=\"data row7 col4\" >822134</td>\n",
              "      <td id=\"T_75cc9_row7_col5\" class=\"data row7 col5\" ><</td>\n",
              "      <td id=\"T_75cc9_row7_col6\" class=\"data row7 col6\" >822134</td>\n",
              "      <td id=\"T_75cc9_row7_col7\" class=\"data row7 col7\" >Dravid</td>\n",
              "    </tr>\n",
              "    <tr>\n",
              "      <td id=\"T_75cc9_row8_col0\" class=\"data row8 col0\" >Dravid</td>\n",
              "      <td id=\"T_75cc9_row8_col1\" class=\"data row8 col1\" >30</td>\n",
              "      <td id=\"T_75cc9_row8_col2\" class=\"data row8 col2\" >></td>\n",
              "      <td id=\"T_75cc9_row8_col3\" class=\"data row8 col3\" >30</td>\n",
              "      <td id=\"T_75cc9_row8_col4\" class=\"data row8 col4\" >822134</td>\n",
              "      <td id=\"T_75cc9_row8_col5\" class=\"data row8 col5\" ><</td>\n",
              "      <td id=\"T_75cc9_row8_col6\" class=\"data row8 col6\" >822134</td>\n",
              "      <td id=\"T_75cc9_row8_col7\" class=\"data row8 col7\" >Dravid</td>\n",
              "    </tr>\n",
              "    <tr>\n",
              "      <td id=\"T_75cc9_row9_col0\" class=\"data row9 col0\" >Ganguly</td>\n",
              "      <td id=\"T_75cc9_row9_col1\" class=\"data row9 col1\" >40</td>\n",
              "      <td id=\"T_75cc9_row9_col2\" class=\"data row9 col2\" >></td>\n",
              "      <td id=\"T_75cc9_row9_col3\" class=\"data row9 col3\" >40</td>\n",
              "      <td id=\"T_75cc9_row9_col4\" class=\"data row9 col4\" >349870</td>\n",
              "      <td id=\"T_75cc9_row9_col5\" class=\"data row9 col5\" ><</td>\n",
              "      <td id=\"T_75cc9_row9_col6\" class=\"data row9 col6\" >349870</td>\n",
              "      <td id=\"T_75cc9_row9_col7\" class=\"data row9 col7\" >Mukherjee</td>\n",
              "    </tr>\n",
              "    <tr>\n",
              "      <td id=\"T_75cc9_row10_col0\" class=\"data row10 col0\" >Dhoni</td>\n",
              "      <td id=\"T_75cc9_row10_col1\" class=\"data row10 col1\" >40</td>\n",
              "      <td id=\"T_75cc9_row10_col2\" class=\"data row10 col2\" >></td>\n",
              "      <td id=\"T_75cc9_row10_col3\" class=\"data row10 col3\" >40</td>\n",
              "      <td id=\"T_75cc9_row10_col4\" class=\"data row10 col4\" >349870</td>\n",
              "      <td id=\"T_75cc9_row10_col5\" class=\"data row10 col5\" ><</td>\n",
              "      <td id=\"T_75cc9_row10_col6\" class=\"data row10 col6\" >349870</td>\n",
              "      <td id=\"T_75cc9_row10_col7\" class=\"data row10 col7\" >Mukherjee</td>\n",
              "    </tr>\n",
              "    <tr>\n",
              "      <td id=\"T_75cc9_row11_col0\" class=\"data row11 col0\" >Mukherjee</td>\n",
              "      <td id=\"T_75cc9_row11_col1\" class=\"data row11 col1\" >40</td>\n",
              "      <td id=\"T_75cc9_row11_col2\" class=\"data row11 col2\" >></td>\n",
              "      <td id=\"T_75cc9_row11_col3\" class=\"data row11 col3\" >40</td>\n",
              "      <td id=\"T_75cc9_row11_col4\" class=\"data row11 col4\" >349870</td>\n",
              "      <td id=\"T_75cc9_row11_col5\" class=\"data row11 col5\" ><</td>\n",
              "      <td id=\"T_75cc9_row11_col6\" class=\"data row11 col6\" >349870</td>\n",
              "      <td id=\"T_75cc9_row11_col7\" class=\"data row11 col7\" >Mukherjee</td>\n",
              "    </tr>\n",
              "  </tbody>\n",
              "</table>\n"
            ]
          },
          "metadata": {},
          "execution_count": 55
        }
      ]
    },
    {
      "cell_type": "markdown",
      "source": [
        "### Self Join / Single Table"
      ],
      "metadata": {
        "id": "jeknsMbjCA2A"
      }
    },
    {
      "cell_type": "code",
      "source": [
        "cmd = \"Select w.FirstName, w.JobDesc, w.DeptID, \\\n",
        "    ' hired by ' hiredby, \\\n",
        "    m.FirstName,m.JobDesc,m.DeptID \\\n",
        "    from empl w, empl m \\\n",
        "    where w.HiredBy = m.EmpID\"\n",
        "\n",
        "runSelect(cmd)"
      ],
      "metadata": {
        "colab": {
          "base_uri": "https://localhost:8080/",
          "height": 426
        },
        "id": "iDPmUw9-CEBH",
        "outputId": "d51463b5-be7b-40a5-8ca7-09f174d6359f"
      },
      "execution_count": 56,
      "outputs": [
        {
          "output_type": "execute_result",
          "data": {
            "text/plain": [
              "<pandas.io.formats.style.Styler at 0x79b4940f3880>"
            ],
            "text/html": [
              "<style type=\"text/css\">\n",
              "</style>\n",
              "<table id=\"T_531f8\" class=\"dataframe\">\n",
              "  <thead>\n",
              "    <tr>\n",
              "      <th id=\"T_531f8_level0_col0\" class=\"col_heading level0 col0\" >firstname</th>\n",
              "      <th id=\"T_531f8_level0_col1\" class=\"col_heading level0 col1\" >jobdesc</th>\n",
              "      <th id=\"T_531f8_level0_col2\" class=\"col_heading level0 col2\" >deptid</th>\n",
              "      <th id=\"T_531f8_level0_col3\" class=\"col_heading level0 col3\" >hiredby</th>\n",
              "      <th id=\"T_531f8_level0_col4\" class=\"col_heading level0 col4\" >firstname</th>\n",
              "      <th id=\"T_531f8_level0_col5\" class=\"col_heading level0 col5\" >jobdesc</th>\n",
              "      <th id=\"T_531f8_level0_col6\" class=\"col_heading level0 col6\" >deptid</th>\n",
              "    </tr>\n",
              "  </thead>\n",
              "  <tbody>\n",
              "    <tr>\n",
              "      <td id=\"T_531f8_row0_col0\" class=\"data row0 col0\" >Rani</td>\n",
              "      <td id=\"T_531f8_row0_col1\" class=\"data row0 col1\" >Manager</td>\n",
              "      <td id=\"T_531f8_row0_col2\" class=\"data row0 col2\" >40</td>\n",
              "      <td id=\"T_531f8_row0_col3\" class=\"data row0 col3\" > hired by </td>\n",
              "      <td id=\"T_531f8_row0_col4\" class=\"data row0 col4\" >Amitabh</td>\n",
              "      <td id=\"T_531f8_row0_col5\" class=\"data row0 col5\" >Executive</td>\n",
              "      <td id=\"T_531f8_row0_col6\" class=\"data row0 col6\" >10</td>\n",
              "    </tr>\n",
              "    <tr>\n",
              "      <td id=\"T_531f8_row1_col0\" class=\"data row1 col0\" >Madhuri</td>\n",
              "      <td id=\"T_531f8_row1_col1\" class=\"data row1 col1\" >Clerk</td>\n",
              "      <td id=\"T_531f8_row1_col2\" class=\"data row1 col2\" >20</td>\n",
              "      <td id=\"T_531f8_row1_col3\" class=\"data row1 col3\" > hired by </td>\n",
              "      <td id=\"T_531f8_row1_col4\" class=\"data row1 col4\" >Shahrukh</td>\n",
              "      <td id=\"T_531f8_row1_col5\" class=\"data row1 col5\" >Manager</td>\n",
              "      <td id=\"T_531f8_row1_col6\" class=\"data row1 col6\" >20</td>\n",
              "    </tr>\n",
              "    <tr>\n",
              "      <td id=\"T_531f8_row2_col0\" class=\"data row2 col0\" >Shahrukh</td>\n",
              "      <td id=\"T_531f8_row2_col1\" class=\"data row2 col1\" >Manager</td>\n",
              "      <td id=\"T_531f8_row2_col2\" class=\"data row2 col2\" >20</td>\n",
              "      <td id=\"T_531f8_row2_col3\" class=\"data row2 col3\" > hired by </td>\n",
              "      <td id=\"T_531f8_row2_col4\" class=\"data row2 col4\" >Amitabh</td>\n",
              "      <td id=\"T_531f8_row2_col5\" class=\"data row2 col5\" >Executive</td>\n",
              "      <td id=\"T_531f8_row2_col6\" class=\"data row2 col6\" >10</td>\n",
              "    </tr>\n",
              "    <tr>\n",
              "      <td id=\"T_531f8_row3_col0\" class=\"data row3 col0\" >Virender</td>\n",
              "      <td id=\"T_531f8_row3_col1\" class=\"data row3 col1\" >Cus_Rep</td>\n",
              "      <td id=\"T_531f8_row3_col2\" class=\"data row3 col2\" >20</td>\n",
              "      <td id=\"T_531f8_row3_col3\" class=\"data row3 col3\" > hired by </td>\n",
              "      <td id=\"T_531f8_row3_col4\" class=\"data row3 col4\" >Shahrukh</td>\n",
              "      <td id=\"T_531f8_row3_col5\" class=\"data row3 col5\" >Manager</td>\n",
              "      <td id=\"T_531f8_row3_col6\" class=\"data row3 col6\" >20</td>\n",
              "    </tr>\n",
              "    <tr>\n",
              "      <td id=\"T_531f8_row4_col0\" class=\"data row4 col0\" >Mahender</td>\n",
              "      <td id=\"T_531f8_row4_col1\" class=\"data row4 col1\" >Clerk</td>\n",
              "      <td id=\"T_531f8_row4_col2\" class=\"data row4 col2\" >40</td>\n",
              "      <td id=\"T_531f8_row4_col3\" class=\"data row4 col3\" > hired by </td>\n",
              "      <td id=\"T_531f8_row4_col4\" class=\"data row4 col4\" >Rani</td>\n",
              "      <td id=\"T_531f8_row4_col5\" class=\"data row4 col5\" >Manager</td>\n",
              "      <td id=\"T_531f8_row4_col6\" class=\"data row4 col6\" >40</td>\n",
              "    </tr>\n",
              "    <tr>\n",
              "      <td id=\"T_531f8_row5_col0\" class=\"data row5 col0\" >Rahul</td>\n",
              "      <td id=\"T_531f8_row5_col1\" class=\"data row5 col1\" >Sr Manager</td>\n",
              "      <td id=\"T_531f8_row5_col2\" class=\"data row5 col2\" >30</td>\n",
              "      <td id=\"T_531f8_row5_col3\" class=\"data row5 col3\" > hired by </td>\n",
              "      <td id=\"T_531f8_row5_col4\" class=\"data row5 col4\" >Amitabh</td>\n",
              "      <td id=\"T_531f8_row5_col5\" class=\"data row5 col5\" >Executive</td>\n",
              "      <td id=\"T_531f8_row5_col6\" class=\"data row5 col6\" >10</td>\n",
              "    </tr>\n",
              "    <tr>\n",
              "      <td id=\"T_531f8_row6_col0\" class=\"data row6 col0\" >Jagmohan</td>\n",
              "      <td id=\"T_531f8_row6_col1\" class=\"data row6 col1\" >Clerk</td>\n",
              "      <td id=\"T_531f8_row6_col2\" class=\"data row6 col2\" >30</td>\n",
              "      <td id=\"T_531f8_row6_col3\" class=\"data row6 col3\" > hired by </td>\n",
              "      <td id=\"T_531f8_row6_col4\" class=\"data row6 col4\" >Rahul</td>\n",
              "      <td id=\"T_531f8_row6_col5\" class=\"data row6 col5\" >Sr Manager</td>\n",
              "      <td id=\"T_531f8_row6_col6\" class=\"data row6 col6\" >30</td>\n",
              "    </tr>\n",
              "    <tr>\n",
              "      <td id=\"T_531f8_row7_col0\" class=\"data row7 col0\" >Sourav</td>\n",
              "      <td id=\"T_531f8_row7_col1\" class=\"data row7 col1\" >Cus_Rep</td>\n",
              "      <td id=\"T_531f8_row7_col2\" class=\"data row7 col2\" >40</td>\n",
              "      <td id=\"T_531f8_row7_col3\" class=\"data row7 col3\" > hired by </td>\n",
              "      <td id=\"T_531f8_row7_col4\" class=\"data row7 col4\" >Rekha</td>\n",
              "      <td id=\"T_531f8_row7_col5\" class=\"data row7 col5\" >Director</td>\n",
              "      <td id=\"T_531f8_row7_col6\" class=\"data row7 col6\" >10</td>\n",
              "    </tr>\n",
              "    <tr>\n",
              "      <td id=\"T_531f8_row8_col0\" class=\"data row8 col0\" >Rekha</td>\n",
              "      <td id=\"T_531f8_row8_col1\" class=\"data row8 col1\" >Director</td>\n",
              "      <td id=\"T_531f8_row8_col2\" class=\"data row8 col2\" >10</td>\n",
              "      <td id=\"T_531f8_row8_col3\" class=\"data row8 col3\" > hired by </td>\n",
              "      <td id=\"T_531f8_row8_col4\" class=\"data row8 col4\" >Amitabh</td>\n",
              "      <td id=\"T_531f8_row8_col5\" class=\"data row8 col5\" >Executive</td>\n",
              "      <td id=\"T_531f8_row8_col6\" class=\"data row8 col6\" >10</td>\n",
              "    </tr>\n",
              "    <tr>\n",
              "      <td id=\"T_531f8_row9_col0\" class=\"data row9 col0\" >Narayan</td>\n",
              "      <td id=\"T_531f8_row9_col1\" class=\"data row9 col1\" >Secretary</td>\n",
              "      <td id=\"T_531f8_row9_col2\" class=\"data row9 col2\" >10</td>\n",
              "      <td id=\"T_531f8_row9_col3\" class=\"data row9 col3\" > hired by </td>\n",
              "      <td id=\"T_531f8_row9_col4\" class=\"data row9 col4\" >Rekha</td>\n",
              "      <td id=\"T_531f8_row9_col5\" class=\"data row9 col5\" >Director</td>\n",
              "      <td id=\"T_531f8_row9_col6\" class=\"data row9 col6\" >10</td>\n",
              "    </tr>\n",
              "    <tr>\n",
              "      <td id=\"T_531f8_row10_col0\" class=\"data row10 col0\" >Chettri</td>\n",
              "      <td id=\"T_531f8_row10_col1\" class=\"data row10 col1\" >Dy Manager</td>\n",
              "      <td id=\"T_531f8_row10_col2\" class=\"data row10 col2\" >70</td>\n",
              "      <td id=\"T_531f8_row10_col3\" class=\"data row10 col3\" > hired by </td>\n",
              "      <td id=\"T_531f8_row10_col4\" class=\"data row10 col4\" >Rani</td>\n",
              "      <td id=\"T_531f8_row10_col5\" class=\"data row10 col5\" >Manager</td>\n",
              "      <td id=\"T_531f8_row10_col6\" class=\"data row10 col6\" >40</td>\n",
              "    </tr>\n",
              "    <tr>\n",
              "      <td id=\"T_531f8_row11_col0\" class=\"data row11 col0\" >Sania</td>\n",
              "      <td id=\"T_531f8_row11_col1\" class=\"data row11 col1\" >Cus_Rep</td>\n",
              "      <td id=\"T_531f8_row11_col2\" class=\"data row11 col2\" >30</td>\n",
              "      <td id=\"T_531f8_row11_col3\" class=\"data row11 col3\" > hired by </td>\n",
              "      <td id=\"T_531f8_row11_col4\" class=\"data row11 col4\" >Rahul</td>\n",
              "      <td id=\"T_531f8_row11_col5\" class=\"data row11 col5\" >Sr Manager</td>\n",
              "      <td id=\"T_531f8_row11_col6\" class=\"data row11 col6\" >30</td>\n",
              "    </tr>\n",
              "  </tbody>\n",
              "</table>\n"
            ]
          },
          "metadata": {},
          "execution_count": 56
        }
      ]
    },
    {
      "cell_type": "markdown",
      "source": [
        "#Subquery"
      ],
      "metadata": {
        "id": "tXDgw1RBzUf-"
      }
    },
    {
      "cell_type": "code",
      "source": [
        "sql = \"select lastname, salary, jobdesc, deptid from empl where \\\n",
        "salary = (select max(salary) from empl where deptid = '20') \\\n",
        "and deptid = '20'\"\n",
        "\n",
        "runSelect(sql)"
      ],
      "metadata": {
        "colab": {
          "base_uri": "https://localhost:8080/",
          "height": 81
        },
        "id": "SxQqgOcHzYTF",
        "outputId": "e45c33ff-cae6-4016-d9db-536d54f46087"
      },
      "execution_count": 57,
      "outputs": [
        {
          "output_type": "execute_result",
          "data": {
            "text/plain": [
              "<pandas.io.formats.style.Styler at 0x79b4940f1ae0>"
            ],
            "text/html": [
              "<style type=\"text/css\">\n",
              "</style>\n",
              "<table id=\"T_496a2\" class=\"dataframe\">\n",
              "  <thead>\n",
              "    <tr>\n",
              "      <th id=\"T_496a2_level0_col0\" class=\"col_heading level0 col0\" >lastname</th>\n",
              "      <th id=\"T_496a2_level0_col1\" class=\"col_heading level0 col1\" >salary</th>\n",
              "      <th id=\"T_496a2_level0_col2\" class=\"col_heading level0 col2\" >jobdesc</th>\n",
              "      <th id=\"T_496a2_level0_col3\" class=\"col_heading level0 col3\" >deptid</th>\n",
              "    </tr>\n",
              "  </thead>\n",
              "  <tbody>\n",
              "    <tr>\n",
              "      <td id=\"T_496a2_row0_col0\" class=\"data row0 col0\" >Khan</td>\n",
              "      <td id=\"T_496a2_row0_col1\" class=\"data row0 col1\" >30000</td>\n",
              "      <td id=\"T_496a2_row0_col2\" class=\"data row0 col2\" >Manager</td>\n",
              "      <td id=\"T_496a2_row0_col3\" class=\"data row0 col3\" >20</td>\n",
              "    </tr>\n",
              "  </tbody>\n",
              "</table>\n"
            ]
          },
          "metadata": {},
          "execution_count": 57
        }
      ]
    },
    {
      "cell_type": "code",
      "source": [
        "sql = \"select lastname, salary, jobdesc, deptid from empl where salary < (select avg(salary) from empl where deptid = '20')\\\n",
        "and deptid = '20'\"\n",
        "runSelect(sql)"
      ],
      "metadata": {
        "colab": {
          "base_uri": "https://localhost:8080/",
          "height": 112
        },
        "id": "oEhaMtyLz3Tm",
        "outputId": "f053fb4f-6089-46d9-d118-771739116cef"
      },
      "execution_count": 58,
      "outputs": [
        {
          "output_type": "execute_result",
          "data": {
            "text/plain": [
              "<pandas.io.formats.style.Styler at 0x79b4941048b0>"
            ],
            "text/html": [
              "<style type=\"text/css\">\n",
              "</style>\n",
              "<table id=\"T_ec7a8\" class=\"dataframe\">\n",
              "  <thead>\n",
              "    <tr>\n",
              "      <th id=\"T_ec7a8_level0_col0\" class=\"col_heading level0 col0\" >lastname</th>\n",
              "      <th id=\"T_ec7a8_level0_col1\" class=\"col_heading level0 col1\" >salary</th>\n",
              "      <th id=\"T_ec7a8_level0_col2\" class=\"col_heading level0 col2\" >jobdesc</th>\n",
              "      <th id=\"T_ec7a8_level0_col3\" class=\"col_heading level0 col3\" >deptid</th>\n",
              "    </tr>\n",
              "  </thead>\n",
              "  <tbody>\n",
              "    <tr>\n",
              "      <td id=\"T_ec7a8_row0_col0\" class=\"data row0 col0\" >Dikshit</td>\n",
              "      <td id=\"T_ec7a8_row0_col1\" class=\"data row0 col1\" >10000</td>\n",
              "      <td id=\"T_ec7a8_row0_col2\" class=\"data row0 col2\" >Clerk</td>\n",
              "      <td id=\"T_ec7a8_row0_col3\" class=\"data row0 col3\" >20</td>\n",
              "    </tr>\n",
              "    <tr>\n",
              "      <td id=\"T_ec7a8_row1_col0\" class=\"data row1 col0\" >Sehwag</td>\n",
              "      <td id=\"T_ec7a8_row1_col1\" class=\"data row1 col1\" >15000</td>\n",
              "      <td id=\"T_ec7a8_row1_col2\" class=\"data row1 col2\" >Cus_Rep</td>\n",
              "      <td id=\"T_ec7a8_row1_col3\" class=\"data row1 col3\" >20</td>\n",
              "    </tr>\n",
              "  </tbody>\n",
              "</table>\n"
            ]
          },
          "metadata": {},
          "execution_count": 58
        }
      ]
    },
    {
      "cell_type": "markdown",
      "source": [
        "## Exists | Not Exists"
      ],
      "metadata": {
        "id": "l3GWzCV24a2x"
      }
    },
    {
      "cell_type": "code",
      "source": [
        "#!psql -h localhost -p 5432 -Uupraxis -ddbpraxis -c \"\\\n",
        "sql = \"\\\n",
        "select firstname, jobdesc, deptid from empl \\\n",
        "where exists \\\n",
        "(select * from dept where empl.deptid = dept.deptid)\\\n",
        "order by deptid \\\n",
        "\"\n",
        "runSelect(sql)"
      ],
      "metadata": {
        "colab": {
          "base_uri": "https://localhost:8080/",
          "height": 426
        },
        "id": "9vlJrd584fWu",
        "outputId": "f6993e27-5177-400e-a98b-a4e81fb1f007"
      },
      "execution_count": 59,
      "outputs": [
        {
          "output_type": "execute_result",
          "data": {
            "text/plain": [
              "<pandas.io.formats.style.Styler at 0x79b494104be0>"
            ],
            "text/html": [
              "<style type=\"text/css\">\n",
              "</style>\n",
              "<table id=\"T_173e0\" class=\"dataframe\">\n",
              "  <thead>\n",
              "    <tr>\n",
              "      <th id=\"T_173e0_level0_col0\" class=\"col_heading level0 col0\" >firstname</th>\n",
              "      <th id=\"T_173e0_level0_col1\" class=\"col_heading level0 col1\" >jobdesc</th>\n",
              "      <th id=\"T_173e0_level0_col2\" class=\"col_heading level0 col2\" >deptid</th>\n",
              "    </tr>\n",
              "  </thead>\n",
              "  <tbody>\n",
              "    <tr>\n",
              "      <td id=\"T_173e0_row0_col0\" class=\"data row0 col0\" >Amitabh</td>\n",
              "      <td id=\"T_173e0_row0_col1\" class=\"data row0 col1\" >Executive</td>\n",
              "      <td id=\"T_173e0_row0_col2\" class=\"data row0 col2\" >10</td>\n",
              "    </tr>\n",
              "    <tr>\n",
              "      <td id=\"T_173e0_row1_col0\" class=\"data row1 col0\" >Rekha</td>\n",
              "      <td id=\"T_173e0_row1_col1\" class=\"data row1 col1\" >Director</td>\n",
              "      <td id=\"T_173e0_row1_col2\" class=\"data row1 col2\" >10</td>\n",
              "    </tr>\n",
              "    <tr>\n",
              "      <td id=\"T_173e0_row2_col0\" class=\"data row2 col0\" >Narayan</td>\n",
              "      <td id=\"T_173e0_row2_col1\" class=\"data row2 col1\" >Secretary</td>\n",
              "      <td id=\"T_173e0_row2_col2\" class=\"data row2 col2\" >10</td>\n",
              "    </tr>\n",
              "    <tr>\n",
              "      <td id=\"T_173e0_row3_col0\" class=\"data row3 col0\" >Madhuri</td>\n",
              "      <td id=\"T_173e0_row3_col1\" class=\"data row3 col1\" >Clerk</td>\n",
              "      <td id=\"T_173e0_row3_col2\" class=\"data row3 col2\" >20</td>\n",
              "    </tr>\n",
              "    <tr>\n",
              "      <td id=\"T_173e0_row4_col0\" class=\"data row4 col0\" >Shahrukh</td>\n",
              "      <td id=\"T_173e0_row4_col1\" class=\"data row4 col1\" >Manager</td>\n",
              "      <td id=\"T_173e0_row4_col2\" class=\"data row4 col2\" >20</td>\n",
              "    </tr>\n",
              "    <tr>\n",
              "      <td id=\"T_173e0_row5_col0\" class=\"data row5 col0\" >Virender</td>\n",
              "      <td id=\"T_173e0_row5_col1\" class=\"data row5 col1\" >Cus_Rep</td>\n",
              "      <td id=\"T_173e0_row5_col2\" class=\"data row5 col2\" >20</td>\n",
              "    </tr>\n",
              "    <tr>\n",
              "      <td id=\"T_173e0_row6_col0\" class=\"data row6 col0\" >Sania</td>\n",
              "      <td id=\"T_173e0_row6_col1\" class=\"data row6 col1\" >Cus_Rep</td>\n",
              "      <td id=\"T_173e0_row6_col2\" class=\"data row6 col2\" >30</td>\n",
              "    </tr>\n",
              "    <tr>\n",
              "      <td id=\"T_173e0_row7_col0\" class=\"data row7 col0\" >Rahul</td>\n",
              "      <td id=\"T_173e0_row7_col1\" class=\"data row7 col1\" >Sr Manager</td>\n",
              "      <td id=\"T_173e0_row7_col2\" class=\"data row7 col2\" >30</td>\n",
              "    </tr>\n",
              "    <tr>\n",
              "      <td id=\"T_173e0_row8_col0\" class=\"data row8 col0\" >Jagmohan</td>\n",
              "      <td id=\"T_173e0_row8_col1\" class=\"data row8 col1\" >Clerk</td>\n",
              "      <td id=\"T_173e0_row8_col2\" class=\"data row8 col2\" >30</td>\n",
              "    </tr>\n",
              "    <tr>\n",
              "      <td id=\"T_173e0_row9_col0\" class=\"data row9 col0\" >Sourav</td>\n",
              "      <td id=\"T_173e0_row9_col1\" class=\"data row9 col1\" >Cus_Rep</td>\n",
              "      <td id=\"T_173e0_row9_col2\" class=\"data row9 col2\" >40</td>\n",
              "    </tr>\n",
              "    <tr>\n",
              "      <td id=\"T_173e0_row10_col0\" class=\"data row10 col0\" >Mahender</td>\n",
              "      <td id=\"T_173e0_row10_col1\" class=\"data row10 col1\" >Clerk</td>\n",
              "      <td id=\"T_173e0_row10_col2\" class=\"data row10 col2\" >40</td>\n",
              "    </tr>\n",
              "    <tr>\n",
              "      <td id=\"T_173e0_row11_col0\" class=\"data row11 col0\" >Rani</td>\n",
              "      <td id=\"T_173e0_row11_col1\" class=\"data row11 col1\" >Manager</td>\n",
              "      <td id=\"T_173e0_row11_col2\" class=\"data row11 col2\" >40</td>\n",
              "    </tr>\n",
              "  </tbody>\n",
              "</table>\n"
            ]
          },
          "metadata": {},
          "execution_count": 59
        }
      ]
    },
    {
      "cell_type": "code",
      "source": [
        "#!psql -h localhost -p 5432 -Uupraxis -ddbpraxis -c \"\\\n",
        "sql = \"\\\n",
        "select firstname, jobdesc, deptid from empl \\\n",
        "where not exists \\\n",
        "(select * from dept where empl.deptid = dept.deptid)\\\n",
        "order by deptid \\\n",
        "\"\n",
        "runSelect(sql)"
      ],
      "metadata": {
        "colab": {
          "base_uri": "https://localhost:8080/",
          "height": 81
        },
        "id": "6ntFTYfv5AyB",
        "outputId": "0ae8e880-f2a0-4562-983f-ac57de313dde"
      },
      "execution_count": 60,
      "outputs": [
        {
          "output_type": "execute_result",
          "data": {
            "text/plain": [
              "<pandas.io.formats.style.Styler at 0x79b494105180>"
            ],
            "text/html": [
              "<style type=\"text/css\">\n",
              "</style>\n",
              "<table id=\"T_c588c\" class=\"dataframe\">\n",
              "  <thead>\n",
              "    <tr>\n",
              "      <th id=\"T_c588c_level0_col0\" class=\"col_heading level0 col0\" >firstname</th>\n",
              "      <th id=\"T_c588c_level0_col1\" class=\"col_heading level0 col1\" >jobdesc</th>\n",
              "      <th id=\"T_c588c_level0_col2\" class=\"col_heading level0 col2\" >deptid</th>\n",
              "    </tr>\n",
              "  </thead>\n",
              "  <tbody>\n",
              "    <tr>\n",
              "      <td id=\"T_c588c_row0_col0\" class=\"data row0 col0\" >Chettri</td>\n",
              "      <td id=\"T_c588c_row0_col1\" class=\"data row0 col1\" >Dy Manager</td>\n",
              "      <td id=\"T_c588c_row0_col2\" class=\"data row0 col2\" >70</td>\n",
              "    </tr>\n",
              "  </tbody>\n",
              "</table>\n"
            ]
          },
          "metadata": {},
          "execution_count": 60
        }
      ]
    },
    {
      "cell_type": "markdown",
      "source": [
        "## ALL | ANY"
      ],
      "metadata": {
        "id": "Ft9lsq4Uh8-6"
      }
    },
    {
      "cell_type": "code",
      "source": [
        "#!psql -h localhost -p 5432 -Uupraxis -ddbpraxis -c \"\\\n",
        "sql = \"\\\n",
        "select firstname, jobdesc, deptid, salary from empl \\\n",
        "where salary > all \\\n",
        "(select avg(salary) from empl)\\\n",
        "\"\n",
        "runSelect(sql)"
      ],
      "metadata": {
        "id": "ZySW3QRkiBUG",
        "outputId": "19d89741-1041-4dd3-da8c-249ba38b2a8a",
        "colab": {
          "base_uri": "https://localhost:8080/",
          "height": 238
        }
      },
      "execution_count": 61,
      "outputs": [
        {
          "output_type": "execute_result",
          "data": {
            "text/plain": [
              "<pandas.io.formats.style.Styler at 0x79b494104df0>"
            ],
            "text/html": [
              "<style type=\"text/css\">\n",
              "</style>\n",
              "<table id=\"T_a2218\" class=\"dataframe\">\n",
              "  <thead>\n",
              "    <tr>\n",
              "      <th id=\"T_a2218_level0_col0\" class=\"col_heading level0 col0\" >firstname</th>\n",
              "      <th id=\"T_a2218_level0_col1\" class=\"col_heading level0 col1\" >jobdesc</th>\n",
              "      <th id=\"T_a2218_level0_col2\" class=\"col_heading level0 col2\" >deptid</th>\n",
              "      <th id=\"T_a2218_level0_col3\" class=\"col_heading level0 col3\" >salary</th>\n",
              "    </tr>\n",
              "  </thead>\n",
              "  <tbody>\n",
              "    <tr>\n",
              "      <td id=\"T_a2218_row0_col0\" class=\"data row0 col0\" >Amitabh</td>\n",
              "      <td id=\"T_a2218_row0_col1\" class=\"data row0 col1\" >Executive</td>\n",
              "      <td id=\"T_a2218_row0_col2\" class=\"data row0 col2\" >10</td>\n",
              "      <td id=\"T_a2218_row0_col3\" class=\"data row0 col3\" >50000</td>\n",
              "    </tr>\n",
              "    <tr>\n",
              "      <td id=\"T_a2218_row1_col0\" class=\"data row1 col0\" >Shahrukh</td>\n",
              "      <td id=\"T_a2218_row1_col1\" class=\"data row1 col1\" >Manager</td>\n",
              "      <td id=\"T_a2218_row1_col2\" class=\"data row1 col2\" >20</td>\n",
              "      <td id=\"T_a2218_row1_col3\" class=\"data row1 col3\" >30000</td>\n",
              "    </tr>\n",
              "    <tr>\n",
              "      <td id=\"T_a2218_row2_col0\" class=\"data row2 col0\" >Rahul</td>\n",
              "      <td id=\"T_a2218_row2_col1\" class=\"data row2 col1\" >Sr Manager</td>\n",
              "      <td id=\"T_a2218_row2_col2\" class=\"data row2 col2\" >30</td>\n",
              "      <td id=\"T_a2218_row2_col3\" class=\"data row2 col3\" >40000</td>\n",
              "    </tr>\n",
              "    <tr>\n",
              "      <td id=\"T_a2218_row3_col0\" class=\"data row3 col0\" >Rekha</td>\n",
              "      <td id=\"T_a2218_row3_col1\" class=\"data row3 col1\" >Director</td>\n",
              "      <td id=\"T_a2218_row3_col2\" class=\"data row3 col2\" >10</td>\n",
              "      <td id=\"T_a2218_row3_col3\" class=\"data row3 col3\" >60000</td>\n",
              "    </tr>\n",
              "    <tr>\n",
              "      <td id=\"T_a2218_row4_col0\" class=\"data row4 col0\" >Narayan</td>\n",
              "      <td id=\"T_a2218_row4_col1\" class=\"data row4 col1\" >Secretary</td>\n",
              "      <td id=\"T_a2218_row4_col2\" class=\"data row4 col2\" >10</td>\n",
              "      <td id=\"T_a2218_row4_col3\" class=\"data row4 col3\" >40000</td>\n",
              "    </tr>\n",
              "    <tr>\n",
              "      <td id=\"T_a2218_row5_col0\" class=\"data row5 col0\" >Chettri</td>\n",
              "      <td id=\"T_a2218_row5_col1\" class=\"data row5 col1\" >Dy Manager</td>\n",
              "      <td id=\"T_a2218_row5_col2\" class=\"data row5 col2\" >70</td>\n",
              "      <td id=\"T_a2218_row5_col3\" class=\"data row5 col3\" >40000</td>\n",
              "    </tr>\n",
              "  </tbody>\n",
              "</table>\n"
            ]
          },
          "metadata": {},
          "execution_count": 61
        }
      ]
    },
    {
      "cell_type": "code",
      "source": [
        "#!psql -h localhost -p 5432 -Uupraxis -ddbpraxis -c \"\\\n",
        "sql = \"\\\n",
        "select firstname, jobdesc, deptid, salary from empl \\\n",
        "where salary <= any \\\n",
        "(select min(salary) from empl)\\\n",
        "\"\n",
        "runSelect(sql)"
      ],
      "metadata": {
        "id": "OrNzFUx2i6n1",
        "outputId": "2d2289cb-e8cf-40cb-e8e0-038b4fd8c928",
        "colab": {
          "base_uri": "https://localhost:8080/",
          "height": 81
        }
      },
      "execution_count": 62,
      "outputs": [
        {
          "output_type": "execute_result",
          "data": {
            "text/plain": [
              "<pandas.io.formats.style.Styler at 0x79b4941059c0>"
            ],
            "text/html": [
              "<style type=\"text/css\">\n",
              "</style>\n",
              "<table id=\"T_bffff\" class=\"dataframe\">\n",
              "  <thead>\n",
              "    <tr>\n",
              "      <th id=\"T_bffff_level0_col0\" class=\"col_heading level0 col0\" >firstname</th>\n",
              "      <th id=\"T_bffff_level0_col1\" class=\"col_heading level0 col1\" >jobdesc</th>\n",
              "      <th id=\"T_bffff_level0_col2\" class=\"col_heading level0 col2\" >deptid</th>\n",
              "      <th id=\"T_bffff_level0_col3\" class=\"col_heading level0 col3\" >salary</th>\n",
              "    </tr>\n",
              "  </thead>\n",
              "  <tbody>\n",
              "    <tr>\n",
              "      <td id=\"T_bffff_row0_col0\" class=\"data row0 col0\" >Mahender</td>\n",
              "      <td id=\"T_bffff_row0_col1\" class=\"data row0 col1\" >Clerk</td>\n",
              "      <td id=\"T_bffff_row0_col2\" class=\"data row0 col2\" >40</td>\n",
              "      <td id=\"T_bffff_row0_col3\" class=\"data row0 col3\" >9000</td>\n",
              "    </tr>\n",
              "  </tbody>\n",
              "</table>\n"
            ]
          },
          "metadata": {},
          "execution_count": 62
        }
      ]
    },
    {
      "cell_type": "markdown",
      "source": [
        "## Common Table Extensions CTE"
      ],
      "metadata": {
        "id": "2gvg8pwe3ale"
      }
    },
    {
      "cell_type": "code",
      "source": [
        "sql = \"\\\n",
        "select jobdesc, avg(salary) avgsalary from empl group by jobdesc \\\n",
        "\"\n",
        "runSelect(sql)"
      ],
      "metadata": {
        "id": "7mu6mmXA3pVn",
        "outputId": "f907f4f9-8316-4b3c-8c5d-9faeb5f3754e",
        "colab": {
          "base_uri": "https://localhost:8080/",
          "height": 300
        }
      },
      "execution_count": 63,
      "outputs": [
        {
          "output_type": "execute_result",
          "data": {
            "text/plain": [
              "<pandas.io.formats.style.Styler at 0x79b494107190>"
            ],
            "text/html": [
              "<style type=\"text/css\">\n",
              "</style>\n",
              "<table id=\"T_0ebdb\" class=\"dataframe\">\n",
              "  <thead>\n",
              "    <tr>\n",
              "      <th id=\"T_0ebdb_level0_col0\" class=\"col_heading level0 col0\" >jobdesc</th>\n",
              "      <th id=\"T_0ebdb_level0_col1\" class=\"col_heading level0 col1\" >avgsalary</th>\n",
              "    </tr>\n",
              "  </thead>\n",
              "  <tbody>\n",
              "    <tr>\n",
              "      <td id=\"T_0ebdb_row0_col0\" class=\"data row0 col0\" >Director</td>\n",
              "      <td id=\"T_0ebdb_row0_col1\" class=\"data row0 col1\" >60000.000000000000</td>\n",
              "    </tr>\n",
              "    <tr>\n",
              "      <td id=\"T_0ebdb_row1_col0\" class=\"data row1 col0\" >Manager</td>\n",
              "      <td id=\"T_0ebdb_row1_col1\" class=\"data row1 col1\" >27500.000000000000</td>\n",
              "    </tr>\n",
              "    <tr>\n",
              "      <td id=\"T_0ebdb_row2_col0\" class=\"data row2 col0\" >Dy Manager</td>\n",
              "      <td id=\"T_0ebdb_row2_col1\" class=\"data row2 col1\" >40000.000000000000</td>\n",
              "    </tr>\n",
              "    <tr>\n",
              "      <td id=\"T_0ebdb_row3_col0\" class=\"data row3 col0\" >Executive</td>\n",
              "      <td id=\"T_0ebdb_row3_col1\" class=\"data row3 col1\" >50000.000000000000</td>\n",
              "    </tr>\n",
              "    <tr>\n",
              "      <td id=\"T_0ebdb_row4_col0\" class=\"data row4 col0\" >Secretary</td>\n",
              "      <td id=\"T_0ebdb_row4_col1\" class=\"data row4 col1\" >40000.000000000000</td>\n",
              "    </tr>\n",
              "    <tr>\n",
              "      <td id=\"T_0ebdb_row5_col0\" class=\"data row5 col0\" >Cus_Rep</td>\n",
              "      <td id=\"T_0ebdb_row5_col1\" class=\"data row5 col1\" >20000.000000000000</td>\n",
              "    </tr>\n",
              "    <tr>\n",
              "      <td id=\"T_0ebdb_row6_col0\" class=\"data row6 col0\" >Clerk</td>\n",
              "      <td id=\"T_0ebdb_row6_col1\" class=\"data row6 col1\" >10333.3333333333333333</td>\n",
              "    </tr>\n",
              "    <tr>\n",
              "      <td id=\"T_0ebdb_row7_col0\" class=\"data row7 col0\" >Sr Manager</td>\n",
              "      <td id=\"T_0ebdb_row7_col1\" class=\"data row7 col1\" >40000.000000000000</td>\n",
              "    </tr>\n",
              "  </tbody>\n",
              "</table>\n"
            ]
          },
          "metadata": {},
          "execution_count": 63
        }
      ]
    },
    {
      "cell_type": "code",
      "source": [
        "sql = \"\\\n",
        "with MeanSalary as \\\n",
        "    (select jobdesc, round(avg(salary),0) avgsalary from empl group by jobdesc) \\\n",
        "select lastname, empl.jobdesc, salary, avgsalary from empl, meansalary \\\n",
        "where empl.jobdesc = meansalary.jobdesc \\\n",
        "order  by jobdesc \\\n",
        "\"\n",
        "runSelect(sql)"
      ],
      "metadata": {
        "id": "0i-rIGEzDgFy",
        "outputId": "6975e81d-71b1-42d6-a1b1-00f05e49314d",
        "colab": {
          "base_uri": "https://localhost:8080/",
          "height": 457
        }
      },
      "execution_count": 64,
      "outputs": [
        {
          "output_type": "execute_result",
          "data": {
            "text/plain": [
              "<pandas.io.formats.style.Styler at 0x79b494107b50>"
            ],
            "text/html": [
              "<style type=\"text/css\">\n",
              "</style>\n",
              "<table id=\"T_c8737\" class=\"dataframe\">\n",
              "  <thead>\n",
              "    <tr>\n",
              "      <th id=\"T_c8737_level0_col0\" class=\"col_heading level0 col0\" >lastname</th>\n",
              "      <th id=\"T_c8737_level0_col1\" class=\"col_heading level0 col1\" >jobdesc</th>\n",
              "      <th id=\"T_c8737_level0_col2\" class=\"col_heading level0 col2\" >salary</th>\n",
              "      <th id=\"T_c8737_level0_col3\" class=\"col_heading level0 col3\" >avgsalary</th>\n",
              "    </tr>\n",
              "  </thead>\n",
              "  <tbody>\n",
              "    <tr>\n",
              "      <td id=\"T_c8737_row0_col0\" class=\"data row0 col0\" >Dalmia</td>\n",
              "      <td id=\"T_c8737_row0_col1\" class=\"data row0 col1\" >Clerk</td>\n",
              "      <td id=\"T_c8737_row0_col2\" class=\"data row0 col2\" >12000</td>\n",
              "      <td id=\"T_c8737_row0_col3\" class=\"data row0 col3\" >10333</td>\n",
              "    </tr>\n",
              "    <tr>\n",
              "      <td id=\"T_c8737_row1_col0\" class=\"data row1 col0\" >Dikshit</td>\n",
              "      <td id=\"T_c8737_row1_col1\" class=\"data row1 col1\" >Clerk</td>\n",
              "      <td id=\"T_c8737_row1_col2\" class=\"data row1 col2\" >10000</td>\n",
              "      <td id=\"T_c8737_row1_col3\" class=\"data row1 col3\" >10333</td>\n",
              "    </tr>\n",
              "    <tr>\n",
              "      <td id=\"T_c8737_row2_col0\" class=\"data row2 col0\" >Dhoni</td>\n",
              "      <td id=\"T_c8737_row2_col1\" class=\"data row2 col1\" >Clerk</td>\n",
              "      <td id=\"T_c8737_row2_col2\" class=\"data row2 col2\" >9000</td>\n",
              "      <td id=\"T_c8737_row2_col3\" class=\"data row2 col3\" >10333</td>\n",
              "    </tr>\n",
              "    <tr>\n",
              "      <td id=\"T_c8737_row3_col0\" class=\"data row3 col0\" >Sehwag</td>\n",
              "      <td id=\"T_c8737_row3_col1\" class=\"data row3 col1\" >Cus_Rep</td>\n",
              "      <td id=\"T_c8737_row3_col2\" class=\"data row3 col2\" >15000</td>\n",
              "      <td id=\"T_c8737_row3_col3\" class=\"data row3 col3\" >20000</td>\n",
              "    </tr>\n",
              "    <tr>\n",
              "      <td id=\"T_c8737_row4_col0\" class=\"data row4 col0\" >Mirza</td>\n",
              "      <td id=\"T_c8737_row4_col1\" class=\"data row4 col1\" >Cus_Rep</td>\n",
              "      <td id=\"T_c8737_row4_col2\" class=\"data row4 col2\" >25000</td>\n",
              "      <td id=\"T_c8737_row4_col3\" class=\"data row4 col3\" >20000</td>\n",
              "    </tr>\n",
              "    <tr>\n",
              "      <td id=\"T_c8737_row5_col0\" class=\"data row5 col0\" >Ganguly</td>\n",
              "      <td id=\"T_c8737_row5_col1\" class=\"data row5 col1\" >Cus_Rep</td>\n",
              "      <td id=\"T_c8737_row5_col2\" class=\"data row5 col2\" >20000</td>\n",
              "      <td id=\"T_c8737_row5_col3\" class=\"data row5 col3\" >20000</td>\n",
              "    </tr>\n",
              "    <tr>\n",
              "      <td id=\"T_c8737_row6_col0\" class=\"data row6 col0\" >Ganesan</td>\n",
              "      <td id=\"T_c8737_row6_col1\" class=\"data row6 col1\" >Director</td>\n",
              "      <td id=\"T_c8737_row6_col2\" class=\"data row6 col2\" >60000</td>\n",
              "      <td id=\"T_c8737_row6_col3\" class=\"data row6 col3\" >60000</td>\n",
              "    </tr>\n",
              "    <tr>\n",
              "      <td id=\"T_c8737_row7_col0\" class=\"data row7 col0\" >Sunil</td>\n",
              "      <td id=\"T_c8737_row7_col1\" class=\"data row7 col1\" >Dy Manager</td>\n",
              "      <td id=\"T_c8737_row7_col2\" class=\"data row7 col2\" >40000</td>\n",
              "      <td id=\"T_c8737_row7_col3\" class=\"data row7 col3\" >40000</td>\n",
              "    </tr>\n",
              "    <tr>\n",
              "      <td id=\"T_c8737_row8_col0\" class=\"data row8 col0\" >Bacchan</td>\n",
              "      <td id=\"T_c8737_row8_col1\" class=\"data row8 col1\" >Executive</td>\n",
              "      <td id=\"T_c8737_row8_col2\" class=\"data row8 col2\" >50000</td>\n",
              "      <td id=\"T_c8737_row8_col3\" class=\"data row8 col3\" >50000</td>\n",
              "    </tr>\n",
              "    <tr>\n",
              "      <td id=\"T_c8737_row9_col0\" class=\"data row9 col0\" >Khan</td>\n",
              "      <td id=\"T_c8737_row9_col1\" class=\"data row9 col1\" >Manager</td>\n",
              "      <td id=\"T_c8737_row9_col2\" class=\"data row9 col2\" >30000</td>\n",
              "      <td id=\"T_c8737_row9_col3\" class=\"data row9 col3\" >27500</td>\n",
              "    </tr>\n",
              "    <tr>\n",
              "      <td id=\"T_c8737_row10_col0\" class=\"data row10 col0\" >Mukherjee</td>\n",
              "      <td id=\"T_c8737_row10_col1\" class=\"data row10 col1\" >Manager</td>\n",
              "      <td id=\"T_c8737_row10_col2\" class=\"data row10 col2\" >25000</td>\n",
              "      <td id=\"T_c8737_row10_col3\" class=\"data row10 col3\" >27500</td>\n",
              "    </tr>\n",
              "    <tr>\n",
              "      <td id=\"T_c8737_row11_col0\" class=\"data row11 col0\" >Karthikeyan</td>\n",
              "      <td id=\"T_c8737_row11_col1\" class=\"data row11 col1\" >Secretary</td>\n",
              "      <td id=\"T_c8737_row11_col2\" class=\"data row11 col2\" >40000</td>\n",
              "      <td id=\"T_c8737_row11_col3\" class=\"data row11 col3\" >40000</td>\n",
              "    </tr>\n",
              "    <tr>\n",
              "      <td id=\"T_c8737_row12_col0\" class=\"data row12 col0\" >Dravid</td>\n",
              "      <td id=\"T_c8737_row12_col1\" class=\"data row12 col1\" >Sr Manager</td>\n",
              "      <td id=\"T_c8737_row12_col2\" class=\"data row12 col2\" >40000</td>\n",
              "      <td id=\"T_c8737_row12_col3\" class=\"data row12 col3\" >40000</td>\n",
              "    </tr>\n",
              "  </tbody>\n",
              "</table>\n"
            ]
          },
          "metadata": {},
          "execution_count": 64
        }
      ]
    },
    {
      "cell_type": "code",
      "source": [
        "sql = \"\\\n",
        "select lastname, empl.jobdesc, salary, avgsalary from \\\n",
        "empl, (select jobdesc, round(avg(salary),0) avgsalary from empl group by jobdesc) meansalary \\\n",
        "where empl.jobdesc = meansalary.jobdesc \\\n",
        "order  by jobdesc \\\n",
        "\"\n",
        "runSelect(sql)"
      ],
      "metadata": {
        "id": "nwrLj4xaExye",
        "outputId": "b58b18c9-54bb-4d3d-971e-ee098b1dd3db",
        "colab": {
          "base_uri": "https://localhost:8080/",
          "height": 457
        }
      },
      "execution_count": 65,
      "outputs": [
        {
          "output_type": "execute_result",
          "data": {
            "text/plain": [
              "<pandas.io.formats.style.Styler at 0x79b494105fc0>"
            ],
            "text/html": [
              "<style type=\"text/css\">\n",
              "</style>\n",
              "<table id=\"T_7b773\" class=\"dataframe\">\n",
              "  <thead>\n",
              "    <tr>\n",
              "      <th id=\"T_7b773_level0_col0\" class=\"col_heading level0 col0\" >lastname</th>\n",
              "      <th id=\"T_7b773_level0_col1\" class=\"col_heading level0 col1\" >jobdesc</th>\n",
              "      <th id=\"T_7b773_level0_col2\" class=\"col_heading level0 col2\" >salary</th>\n",
              "      <th id=\"T_7b773_level0_col3\" class=\"col_heading level0 col3\" >avgsalary</th>\n",
              "    </tr>\n",
              "  </thead>\n",
              "  <tbody>\n",
              "    <tr>\n",
              "      <td id=\"T_7b773_row0_col0\" class=\"data row0 col0\" >Dalmia</td>\n",
              "      <td id=\"T_7b773_row0_col1\" class=\"data row0 col1\" >Clerk</td>\n",
              "      <td id=\"T_7b773_row0_col2\" class=\"data row0 col2\" >12000</td>\n",
              "      <td id=\"T_7b773_row0_col3\" class=\"data row0 col3\" >10333</td>\n",
              "    </tr>\n",
              "    <tr>\n",
              "      <td id=\"T_7b773_row1_col0\" class=\"data row1 col0\" >Dikshit</td>\n",
              "      <td id=\"T_7b773_row1_col1\" class=\"data row1 col1\" >Clerk</td>\n",
              "      <td id=\"T_7b773_row1_col2\" class=\"data row1 col2\" >10000</td>\n",
              "      <td id=\"T_7b773_row1_col3\" class=\"data row1 col3\" >10333</td>\n",
              "    </tr>\n",
              "    <tr>\n",
              "      <td id=\"T_7b773_row2_col0\" class=\"data row2 col0\" >Dhoni</td>\n",
              "      <td id=\"T_7b773_row2_col1\" class=\"data row2 col1\" >Clerk</td>\n",
              "      <td id=\"T_7b773_row2_col2\" class=\"data row2 col2\" >9000</td>\n",
              "      <td id=\"T_7b773_row2_col3\" class=\"data row2 col3\" >10333</td>\n",
              "    </tr>\n",
              "    <tr>\n",
              "      <td id=\"T_7b773_row3_col0\" class=\"data row3 col0\" >Sehwag</td>\n",
              "      <td id=\"T_7b773_row3_col1\" class=\"data row3 col1\" >Cus_Rep</td>\n",
              "      <td id=\"T_7b773_row3_col2\" class=\"data row3 col2\" >15000</td>\n",
              "      <td id=\"T_7b773_row3_col3\" class=\"data row3 col3\" >20000</td>\n",
              "    </tr>\n",
              "    <tr>\n",
              "      <td id=\"T_7b773_row4_col0\" class=\"data row4 col0\" >Mirza</td>\n",
              "      <td id=\"T_7b773_row4_col1\" class=\"data row4 col1\" >Cus_Rep</td>\n",
              "      <td id=\"T_7b773_row4_col2\" class=\"data row4 col2\" >25000</td>\n",
              "      <td id=\"T_7b773_row4_col3\" class=\"data row4 col3\" >20000</td>\n",
              "    </tr>\n",
              "    <tr>\n",
              "      <td id=\"T_7b773_row5_col0\" class=\"data row5 col0\" >Ganguly</td>\n",
              "      <td id=\"T_7b773_row5_col1\" class=\"data row5 col1\" >Cus_Rep</td>\n",
              "      <td id=\"T_7b773_row5_col2\" class=\"data row5 col2\" >20000</td>\n",
              "      <td id=\"T_7b773_row5_col3\" class=\"data row5 col3\" >20000</td>\n",
              "    </tr>\n",
              "    <tr>\n",
              "      <td id=\"T_7b773_row6_col0\" class=\"data row6 col0\" >Ganesan</td>\n",
              "      <td id=\"T_7b773_row6_col1\" class=\"data row6 col1\" >Director</td>\n",
              "      <td id=\"T_7b773_row6_col2\" class=\"data row6 col2\" >60000</td>\n",
              "      <td id=\"T_7b773_row6_col3\" class=\"data row6 col3\" >60000</td>\n",
              "    </tr>\n",
              "    <tr>\n",
              "      <td id=\"T_7b773_row7_col0\" class=\"data row7 col0\" >Sunil</td>\n",
              "      <td id=\"T_7b773_row7_col1\" class=\"data row7 col1\" >Dy Manager</td>\n",
              "      <td id=\"T_7b773_row7_col2\" class=\"data row7 col2\" >40000</td>\n",
              "      <td id=\"T_7b773_row7_col3\" class=\"data row7 col3\" >40000</td>\n",
              "    </tr>\n",
              "    <tr>\n",
              "      <td id=\"T_7b773_row8_col0\" class=\"data row8 col0\" >Bacchan</td>\n",
              "      <td id=\"T_7b773_row8_col1\" class=\"data row8 col1\" >Executive</td>\n",
              "      <td id=\"T_7b773_row8_col2\" class=\"data row8 col2\" >50000</td>\n",
              "      <td id=\"T_7b773_row8_col3\" class=\"data row8 col3\" >50000</td>\n",
              "    </tr>\n",
              "    <tr>\n",
              "      <td id=\"T_7b773_row9_col0\" class=\"data row9 col0\" >Khan</td>\n",
              "      <td id=\"T_7b773_row9_col1\" class=\"data row9 col1\" >Manager</td>\n",
              "      <td id=\"T_7b773_row9_col2\" class=\"data row9 col2\" >30000</td>\n",
              "      <td id=\"T_7b773_row9_col3\" class=\"data row9 col3\" >27500</td>\n",
              "    </tr>\n",
              "    <tr>\n",
              "      <td id=\"T_7b773_row10_col0\" class=\"data row10 col0\" >Mukherjee</td>\n",
              "      <td id=\"T_7b773_row10_col1\" class=\"data row10 col1\" >Manager</td>\n",
              "      <td id=\"T_7b773_row10_col2\" class=\"data row10 col2\" >25000</td>\n",
              "      <td id=\"T_7b773_row10_col3\" class=\"data row10 col3\" >27500</td>\n",
              "    </tr>\n",
              "    <tr>\n",
              "      <td id=\"T_7b773_row11_col0\" class=\"data row11 col0\" >Karthikeyan</td>\n",
              "      <td id=\"T_7b773_row11_col1\" class=\"data row11 col1\" >Secretary</td>\n",
              "      <td id=\"T_7b773_row11_col2\" class=\"data row11 col2\" >40000</td>\n",
              "      <td id=\"T_7b773_row11_col3\" class=\"data row11 col3\" >40000</td>\n",
              "    </tr>\n",
              "    <tr>\n",
              "      <td id=\"T_7b773_row12_col0\" class=\"data row12 col0\" >Dravid</td>\n",
              "      <td id=\"T_7b773_row12_col1\" class=\"data row12 col1\" >Sr Manager</td>\n",
              "      <td id=\"T_7b773_row12_col2\" class=\"data row12 col2\" >40000</td>\n",
              "      <td id=\"T_7b773_row12_col3\" class=\"data row12 col3\" >40000</td>\n",
              "    </tr>\n",
              "  </tbody>\n",
              "</table>\n"
            ]
          },
          "metadata": {},
          "execution_count": 65
        }
      ]
    },
    {
      "cell_type": "markdown",
      "source": [
        "### CTE Recursion"
      ],
      "metadata": {
        "id": "d3j9PbgaADoB"
      }
    },
    {
      "cell_type": "code",
      "source": [
        "# recursion\n",
        "sql = \"\\\n",
        "with recursive hiring_chain as (\\\n",
        "select empid, lastname, hiredby \\\n",
        "    from empl where lastname = 'Ganesan' \\\n",
        "union \\\n",
        "select \\\n",
        "e.empid, e.lastname,e.hiredby \\\n",
        "    from empl e \\\n",
        "    inner join hiring_chain hc on hc.empid = e.hiredby \\\n",
        ") \\\n",
        "select * from hiring_chain \\\n",
        "\"\n",
        "\n",
        "runSelect(sql)"
      ],
      "metadata": {
        "id": "HA-RyLoz0D3Z",
        "outputId": "343ac407-77c9-48b7-c959-9126222f7ba1",
        "colab": {
          "base_uri": "https://localhost:8080/",
          "height": 143
        }
      },
      "execution_count": 83,
      "outputs": [
        {
          "output_type": "execute_result",
          "data": {
            "text/plain": [
              "<pandas.io.formats.style.Styler at 0x79b4c587aa10>"
            ],
            "text/html": [
              "<style type=\"text/css\">\n",
              "</style>\n",
              "<table id=\"T_5499f\" class=\"dataframe\">\n",
              "  <thead>\n",
              "    <tr>\n",
              "      <th id=\"T_5499f_level0_col0\" class=\"col_heading level0 col0\" >empid</th>\n",
              "      <th id=\"T_5499f_level0_col1\" class=\"col_heading level0 col1\" >lastname</th>\n",
              "      <th id=\"T_5499f_level0_col2\" class=\"col_heading level0 col2\" >hiredby</th>\n",
              "    </tr>\n",
              "  </thead>\n",
              "  <tbody>\n",
              "    <tr>\n",
              "      <td id=\"T_5499f_row0_col0\" class=\"data row0 col0\" >299034</td>\n",
              "      <td id=\"T_5499f_row0_col1\" class=\"data row0 col1\" >Ganesan</td>\n",
              "      <td id=\"T_5499f_row0_col2\" class=\"data row0 col2\" >742866</td>\n",
              "    </tr>\n",
              "    <tr>\n",
              "      <td id=\"T_5499f_row1_col0\" class=\"data row1 col0\" >989007</td>\n",
              "      <td id=\"T_5499f_row1_col1\" class=\"data row1 col1\" >Ganguly</td>\n",
              "      <td id=\"T_5499f_row1_col2\" class=\"data row1 col2\" >299034</td>\n",
              "    </tr>\n",
              "    <tr>\n",
              "      <td id=\"T_5499f_row2_col0\" class=\"data row2 col0\" >546223</td>\n",
              "      <td id=\"T_5499f_row2_col1\" class=\"data row2 col1\" >Karthikeyan</td>\n",
              "      <td id=\"T_5499f_row2_col2\" class=\"data row2 col2\" >299034</td>\n",
              "    </tr>\n",
              "  </tbody>\n",
              "</table>\n"
            ]
          },
          "metadata": {},
          "execution_count": 83
        }
      ]
    },
    {
      "cell_type": "markdown",
      "source": [
        "#Window Functions"
      ],
      "metadata": {
        "id": "p1v2XtGa1QOq"
      }
    },
    {
      "cell_type": "code",
      "source": [
        "sql = \"select deptid, lastname, salary, \\\n",
        "    avg(salary) over (partition by deptid) \\\n",
        "    from empl\"\n",
        "runSelect(sql)"
      ],
      "metadata": {
        "colab": {
          "base_uri": "https://localhost:8080/",
          "height": 457
        },
        "id": "ffpu5hXo1TfJ",
        "outputId": "00e94bce-07c3-4781-b307-9a51dd5f4bd2"
      },
      "execution_count": 66,
      "outputs": [
        {
          "output_type": "execute_result",
          "data": {
            "text/plain": [
              "<pandas.io.formats.style.Styler at 0x79b494107940>"
            ],
            "text/html": [
              "<style type=\"text/css\">\n",
              "</style>\n",
              "<table id=\"T_6dbca\" class=\"dataframe\">\n",
              "  <thead>\n",
              "    <tr>\n",
              "      <th id=\"T_6dbca_level0_col0\" class=\"col_heading level0 col0\" >deptid</th>\n",
              "      <th id=\"T_6dbca_level0_col1\" class=\"col_heading level0 col1\" >lastname</th>\n",
              "      <th id=\"T_6dbca_level0_col2\" class=\"col_heading level0 col2\" >salary</th>\n",
              "      <th id=\"T_6dbca_level0_col3\" class=\"col_heading level0 col3\" >avg</th>\n",
              "    </tr>\n",
              "  </thead>\n",
              "  <tbody>\n",
              "    <tr>\n",
              "      <td id=\"T_6dbca_row0_col0\" class=\"data row0 col0\" >10</td>\n",
              "      <td id=\"T_6dbca_row0_col1\" class=\"data row0 col1\" >Bacchan</td>\n",
              "      <td id=\"T_6dbca_row0_col2\" class=\"data row0 col2\" >50000</td>\n",
              "      <td id=\"T_6dbca_row0_col3\" class=\"data row0 col3\" >50000.000000000000</td>\n",
              "    </tr>\n",
              "    <tr>\n",
              "      <td id=\"T_6dbca_row1_col0\" class=\"data row1 col0\" >10</td>\n",
              "      <td id=\"T_6dbca_row1_col1\" class=\"data row1 col1\" >Ganesan</td>\n",
              "      <td id=\"T_6dbca_row1_col2\" class=\"data row1 col2\" >60000</td>\n",
              "      <td id=\"T_6dbca_row1_col3\" class=\"data row1 col3\" >50000.000000000000</td>\n",
              "    </tr>\n",
              "    <tr>\n",
              "      <td id=\"T_6dbca_row2_col0\" class=\"data row2 col0\" >10</td>\n",
              "      <td id=\"T_6dbca_row2_col1\" class=\"data row2 col1\" >Karthikeyan</td>\n",
              "      <td id=\"T_6dbca_row2_col2\" class=\"data row2 col2\" >40000</td>\n",
              "      <td id=\"T_6dbca_row2_col3\" class=\"data row2 col3\" >50000.000000000000</td>\n",
              "    </tr>\n",
              "    <tr>\n",
              "      <td id=\"T_6dbca_row3_col0\" class=\"data row3 col0\" >20</td>\n",
              "      <td id=\"T_6dbca_row3_col1\" class=\"data row3 col1\" >Dikshit</td>\n",
              "      <td id=\"T_6dbca_row3_col2\" class=\"data row3 col2\" >10000</td>\n",
              "      <td id=\"T_6dbca_row3_col3\" class=\"data row3 col3\" >18333.333333333333</td>\n",
              "    </tr>\n",
              "    <tr>\n",
              "      <td id=\"T_6dbca_row4_col0\" class=\"data row4 col0\" >20</td>\n",
              "      <td id=\"T_6dbca_row4_col1\" class=\"data row4 col1\" >Khan</td>\n",
              "      <td id=\"T_6dbca_row4_col2\" class=\"data row4 col2\" >30000</td>\n",
              "      <td id=\"T_6dbca_row4_col3\" class=\"data row4 col3\" >18333.333333333333</td>\n",
              "    </tr>\n",
              "    <tr>\n",
              "      <td id=\"T_6dbca_row5_col0\" class=\"data row5 col0\" >20</td>\n",
              "      <td id=\"T_6dbca_row5_col1\" class=\"data row5 col1\" >Sehwag</td>\n",
              "      <td id=\"T_6dbca_row5_col2\" class=\"data row5 col2\" >15000</td>\n",
              "      <td id=\"T_6dbca_row5_col3\" class=\"data row5 col3\" >18333.333333333333</td>\n",
              "    </tr>\n",
              "    <tr>\n",
              "      <td id=\"T_6dbca_row6_col0\" class=\"data row6 col0\" >30</td>\n",
              "      <td id=\"T_6dbca_row6_col1\" class=\"data row6 col1\" >Mirza</td>\n",
              "      <td id=\"T_6dbca_row6_col2\" class=\"data row6 col2\" >25000</td>\n",
              "      <td id=\"T_6dbca_row6_col3\" class=\"data row6 col3\" >25666.666666666667</td>\n",
              "    </tr>\n",
              "    <tr>\n",
              "      <td id=\"T_6dbca_row7_col0\" class=\"data row7 col0\" >30</td>\n",
              "      <td id=\"T_6dbca_row7_col1\" class=\"data row7 col1\" >Dravid</td>\n",
              "      <td id=\"T_6dbca_row7_col2\" class=\"data row7 col2\" >40000</td>\n",
              "      <td id=\"T_6dbca_row7_col3\" class=\"data row7 col3\" >25666.666666666667</td>\n",
              "    </tr>\n",
              "    <tr>\n",
              "      <td id=\"T_6dbca_row8_col0\" class=\"data row8 col0\" >30</td>\n",
              "      <td id=\"T_6dbca_row8_col1\" class=\"data row8 col1\" >Dalmia</td>\n",
              "      <td id=\"T_6dbca_row8_col2\" class=\"data row8 col2\" >12000</td>\n",
              "      <td id=\"T_6dbca_row8_col3\" class=\"data row8 col3\" >25666.666666666667</td>\n",
              "    </tr>\n",
              "    <tr>\n",
              "      <td id=\"T_6dbca_row9_col0\" class=\"data row9 col0\" >40</td>\n",
              "      <td id=\"T_6dbca_row9_col1\" class=\"data row9 col1\" >Ganguly</td>\n",
              "      <td id=\"T_6dbca_row9_col2\" class=\"data row9 col2\" >20000</td>\n",
              "      <td id=\"T_6dbca_row9_col3\" class=\"data row9 col3\" >18000.000000000000</td>\n",
              "    </tr>\n",
              "    <tr>\n",
              "      <td id=\"T_6dbca_row10_col0\" class=\"data row10 col0\" >40</td>\n",
              "      <td id=\"T_6dbca_row10_col1\" class=\"data row10 col1\" >Dhoni</td>\n",
              "      <td id=\"T_6dbca_row10_col2\" class=\"data row10 col2\" >9000</td>\n",
              "      <td id=\"T_6dbca_row10_col3\" class=\"data row10 col3\" >18000.000000000000</td>\n",
              "    </tr>\n",
              "    <tr>\n",
              "      <td id=\"T_6dbca_row11_col0\" class=\"data row11 col0\" >40</td>\n",
              "      <td id=\"T_6dbca_row11_col1\" class=\"data row11 col1\" >Mukherjee</td>\n",
              "      <td id=\"T_6dbca_row11_col2\" class=\"data row11 col2\" >25000</td>\n",
              "      <td id=\"T_6dbca_row11_col3\" class=\"data row11 col3\" >18000.000000000000</td>\n",
              "    </tr>\n",
              "    <tr>\n",
              "      <td id=\"T_6dbca_row12_col0\" class=\"data row12 col0\" >70</td>\n",
              "      <td id=\"T_6dbca_row12_col1\" class=\"data row12 col1\" >Sunil</td>\n",
              "      <td id=\"T_6dbca_row12_col2\" class=\"data row12 col2\" >40000</td>\n",
              "      <td id=\"T_6dbca_row12_col3\" class=\"data row12 col3\" >40000.000000000000</td>\n",
              "    </tr>\n",
              "  </tbody>\n",
              "</table>\n"
            ]
          },
          "metadata": {},
          "execution_count": 66
        }
      ]
    },
    {
      "cell_type": "code",
      "source": [
        "sql = \"select deptname, lastname, salary, avg(salary) over (partition by deptname) from empl  inner join dept using(deptid)\"\n",
        "runSelect(sql)"
      ],
      "metadata": {
        "colab": {
          "base_uri": "https://localhost:8080/",
          "height": 426
        },
        "id": "JZC4y3tg2o8A",
        "outputId": "7d77a8b0-5b3f-47b9-f4b0-235e9cb5adae"
      },
      "execution_count": 67,
      "outputs": [
        {
          "output_type": "execute_result",
          "data": {
            "text/plain": [
              "<pandas.io.formats.style.Styler at 0x79b4941062c0>"
            ],
            "text/html": [
              "<style type=\"text/css\">\n",
              "</style>\n",
              "<table id=\"T_1dd53\" class=\"dataframe\">\n",
              "  <thead>\n",
              "    <tr>\n",
              "      <th id=\"T_1dd53_level0_col0\" class=\"col_heading level0 col0\" >deptname</th>\n",
              "      <th id=\"T_1dd53_level0_col1\" class=\"col_heading level0 col1\" >lastname</th>\n",
              "      <th id=\"T_1dd53_level0_col2\" class=\"col_heading level0 col2\" >salary</th>\n",
              "      <th id=\"T_1dd53_level0_col3\" class=\"col_heading level0 col3\" >avg</th>\n",
              "    </tr>\n",
              "  </thead>\n",
              "  <tbody>\n",
              "    <tr>\n",
              "      <td id=\"T_1dd53_row0_col0\" class=\"data row0 col0\" >Accounts</td>\n",
              "      <td id=\"T_1dd53_row0_col1\" class=\"data row0 col1\" >Dravid</td>\n",
              "      <td id=\"T_1dd53_row0_col2\" class=\"data row0 col2\" >40000</td>\n",
              "      <td id=\"T_1dd53_row0_col3\" class=\"data row0 col3\" >25666.666666666667</td>\n",
              "    </tr>\n",
              "    <tr>\n",
              "      <td id=\"T_1dd53_row1_col0\" class=\"data row1 col0\" >Accounts</td>\n",
              "      <td id=\"T_1dd53_row1_col1\" class=\"data row1 col1\" >Dalmia</td>\n",
              "      <td id=\"T_1dd53_row1_col2\" class=\"data row1 col2\" >12000</td>\n",
              "      <td id=\"T_1dd53_row1_col3\" class=\"data row1 col3\" >25666.666666666667</td>\n",
              "    </tr>\n",
              "    <tr>\n",
              "      <td id=\"T_1dd53_row2_col0\" class=\"data row2 col0\" >Accounts</td>\n",
              "      <td id=\"T_1dd53_row2_col1\" class=\"data row2 col1\" >Mirza</td>\n",
              "      <td id=\"T_1dd53_row2_col2\" class=\"data row2 col2\" >25000</td>\n",
              "      <td id=\"T_1dd53_row2_col3\" class=\"data row2 col3\" >25666.666666666667</td>\n",
              "    </tr>\n",
              "    <tr>\n",
              "      <td id=\"T_1dd53_row3_col0\" class=\"data row3 col0\" >Corporate</td>\n",
              "      <td id=\"T_1dd53_row3_col1\" class=\"data row3 col1\" >Karthikeyan</td>\n",
              "      <td id=\"T_1dd53_row3_col2\" class=\"data row3 col2\" >40000</td>\n",
              "      <td id=\"T_1dd53_row3_col3\" class=\"data row3 col3\" >50000.000000000000</td>\n",
              "    </tr>\n",
              "    <tr>\n",
              "      <td id=\"T_1dd53_row4_col0\" class=\"data row4 col0\" >Corporate</td>\n",
              "      <td id=\"T_1dd53_row4_col1\" class=\"data row4 col1\" >Ganesan</td>\n",
              "      <td id=\"T_1dd53_row4_col2\" class=\"data row4 col2\" >60000</td>\n",
              "      <td id=\"T_1dd53_row4_col3\" class=\"data row4 col3\" >50000.000000000000</td>\n",
              "    </tr>\n",
              "    <tr>\n",
              "      <td id=\"T_1dd53_row5_col0\" class=\"data row5 col0\" >Corporate</td>\n",
              "      <td id=\"T_1dd53_row5_col1\" class=\"data row5 col1\" >Bacchan</td>\n",
              "      <td id=\"T_1dd53_row5_col2\" class=\"data row5 col2\" >50000</td>\n",
              "      <td id=\"T_1dd53_row5_col3\" class=\"data row5 col3\" >50000.000000000000</td>\n",
              "    </tr>\n",
              "    <tr>\n",
              "      <td id=\"T_1dd53_row6_col0\" class=\"data row6 col0\" >Production</td>\n",
              "      <td id=\"T_1dd53_row6_col1\" class=\"data row6 col1\" >Ganguly</td>\n",
              "      <td id=\"T_1dd53_row6_col2\" class=\"data row6 col2\" >20000</td>\n",
              "      <td id=\"T_1dd53_row6_col3\" class=\"data row6 col3\" >18000.000000000000</td>\n",
              "    </tr>\n",
              "    <tr>\n",
              "      <td id=\"T_1dd53_row7_col0\" class=\"data row7 col0\" >Production</td>\n",
              "      <td id=\"T_1dd53_row7_col1\" class=\"data row7 col1\" >Dhoni</td>\n",
              "      <td id=\"T_1dd53_row7_col2\" class=\"data row7 col2\" >9000</td>\n",
              "      <td id=\"T_1dd53_row7_col3\" class=\"data row7 col3\" >18000.000000000000</td>\n",
              "    </tr>\n",
              "    <tr>\n",
              "      <td id=\"T_1dd53_row8_col0\" class=\"data row8 col0\" >Production</td>\n",
              "      <td id=\"T_1dd53_row8_col1\" class=\"data row8 col1\" >Mukherjee</td>\n",
              "      <td id=\"T_1dd53_row8_col2\" class=\"data row8 col2\" >25000</td>\n",
              "      <td id=\"T_1dd53_row8_col3\" class=\"data row8 col3\" >18000.000000000000</td>\n",
              "    </tr>\n",
              "    <tr>\n",
              "      <td id=\"T_1dd53_row9_col0\" class=\"data row9 col0\" >Sales</td>\n",
              "      <td id=\"T_1dd53_row9_col1\" class=\"data row9 col1\" >Dikshit</td>\n",
              "      <td id=\"T_1dd53_row9_col2\" class=\"data row9 col2\" >10000</td>\n",
              "      <td id=\"T_1dd53_row9_col3\" class=\"data row9 col3\" >18333.333333333333</td>\n",
              "    </tr>\n",
              "    <tr>\n",
              "      <td id=\"T_1dd53_row10_col0\" class=\"data row10 col0\" >Sales</td>\n",
              "      <td id=\"T_1dd53_row10_col1\" class=\"data row10 col1\" >Khan</td>\n",
              "      <td id=\"T_1dd53_row10_col2\" class=\"data row10 col2\" >30000</td>\n",
              "      <td id=\"T_1dd53_row10_col3\" class=\"data row10 col3\" >18333.333333333333</td>\n",
              "    </tr>\n",
              "    <tr>\n",
              "      <td id=\"T_1dd53_row11_col0\" class=\"data row11 col0\" >Sales</td>\n",
              "      <td id=\"T_1dd53_row11_col1\" class=\"data row11 col1\" >Sehwag</td>\n",
              "      <td id=\"T_1dd53_row11_col2\" class=\"data row11 col2\" >15000</td>\n",
              "      <td id=\"T_1dd53_row11_col3\" class=\"data row11 col3\" >18333.333333333333</td>\n",
              "    </tr>\n",
              "  </tbody>\n",
              "</table>\n"
            ]
          },
          "metadata": {},
          "execution_count": 67
        }
      ]
    },
    {
      "cell_type": "code",
      "source": [
        "sql = \"select deptname, lastname, salary, \\\n",
        "    row_number() over (partition by deptname order by salary) \\\n",
        "    from empl  inner join dept using(deptid)\"\n",
        "runSelect(sql)"
      ],
      "metadata": {
        "colab": {
          "base_uri": "https://localhost:8080/",
          "height": 426
        },
        "id": "xgP9VShE4Spl",
        "outputId": "254074f8-4e0c-495b-f143-d9ca0fe4d2de"
      },
      "execution_count": 68,
      "outputs": [
        {
          "output_type": "execute_result",
          "data": {
            "text/plain": [
              "<pandas.io.formats.style.Styler at 0x79b4c4988be0>"
            ],
            "text/html": [
              "<style type=\"text/css\">\n",
              "</style>\n",
              "<table id=\"T_1c99f\" class=\"dataframe\">\n",
              "  <thead>\n",
              "    <tr>\n",
              "      <th id=\"T_1c99f_level0_col0\" class=\"col_heading level0 col0\" >deptname</th>\n",
              "      <th id=\"T_1c99f_level0_col1\" class=\"col_heading level0 col1\" >lastname</th>\n",
              "      <th id=\"T_1c99f_level0_col2\" class=\"col_heading level0 col2\" >salary</th>\n",
              "      <th id=\"T_1c99f_level0_col3\" class=\"col_heading level0 col3\" >row_number</th>\n",
              "    </tr>\n",
              "  </thead>\n",
              "  <tbody>\n",
              "    <tr>\n",
              "      <td id=\"T_1c99f_row0_col0\" class=\"data row0 col0\" >Accounts</td>\n",
              "      <td id=\"T_1c99f_row0_col1\" class=\"data row0 col1\" >Dalmia</td>\n",
              "      <td id=\"T_1c99f_row0_col2\" class=\"data row0 col2\" >12000</td>\n",
              "      <td id=\"T_1c99f_row0_col3\" class=\"data row0 col3\" >1</td>\n",
              "    </tr>\n",
              "    <tr>\n",
              "      <td id=\"T_1c99f_row1_col0\" class=\"data row1 col0\" >Accounts</td>\n",
              "      <td id=\"T_1c99f_row1_col1\" class=\"data row1 col1\" >Mirza</td>\n",
              "      <td id=\"T_1c99f_row1_col2\" class=\"data row1 col2\" >25000</td>\n",
              "      <td id=\"T_1c99f_row1_col3\" class=\"data row1 col3\" >2</td>\n",
              "    </tr>\n",
              "    <tr>\n",
              "      <td id=\"T_1c99f_row2_col0\" class=\"data row2 col0\" >Accounts</td>\n",
              "      <td id=\"T_1c99f_row2_col1\" class=\"data row2 col1\" >Dravid</td>\n",
              "      <td id=\"T_1c99f_row2_col2\" class=\"data row2 col2\" >40000</td>\n",
              "      <td id=\"T_1c99f_row2_col3\" class=\"data row2 col3\" >3</td>\n",
              "    </tr>\n",
              "    <tr>\n",
              "      <td id=\"T_1c99f_row3_col0\" class=\"data row3 col0\" >Corporate</td>\n",
              "      <td id=\"T_1c99f_row3_col1\" class=\"data row3 col1\" >Karthikeyan</td>\n",
              "      <td id=\"T_1c99f_row3_col2\" class=\"data row3 col2\" >40000</td>\n",
              "      <td id=\"T_1c99f_row3_col3\" class=\"data row3 col3\" >1</td>\n",
              "    </tr>\n",
              "    <tr>\n",
              "      <td id=\"T_1c99f_row4_col0\" class=\"data row4 col0\" >Corporate</td>\n",
              "      <td id=\"T_1c99f_row4_col1\" class=\"data row4 col1\" >Bacchan</td>\n",
              "      <td id=\"T_1c99f_row4_col2\" class=\"data row4 col2\" >50000</td>\n",
              "      <td id=\"T_1c99f_row4_col3\" class=\"data row4 col3\" >2</td>\n",
              "    </tr>\n",
              "    <tr>\n",
              "      <td id=\"T_1c99f_row5_col0\" class=\"data row5 col0\" >Corporate</td>\n",
              "      <td id=\"T_1c99f_row5_col1\" class=\"data row5 col1\" >Ganesan</td>\n",
              "      <td id=\"T_1c99f_row5_col2\" class=\"data row5 col2\" >60000</td>\n",
              "      <td id=\"T_1c99f_row5_col3\" class=\"data row5 col3\" >3</td>\n",
              "    </tr>\n",
              "    <tr>\n",
              "      <td id=\"T_1c99f_row6_col0\" class=\"data row6 col0\" >Production</td>\n",
              "      <td id=\"T_1c99f_row6_col1\" class=\"data row6 col1\" >Dhoni</td>\n",
              "      <td id=\"T_1c99f_row6_col2\" class=\"data row6 col2\" >9000</td>\n",
              "      <td id=\"T_1c99f_row6_col3\" class=\"data row6 col3\" >1</td>\n",
              "    </tr>\n",
              "    <tr>\n",
              "      <td id=\"T_1c99f_row7_col0\" class=\"data row7 col0\" >Production</td>\n",
              "      <td id=\"T_1c99f_row7_col1\" class=\"data row7 col1\" >Ganguly</td>\n",
              "      <td id=\"T_1c99f_row7_col2\" class=\"data row7 col2\" >20000</td>\n",
              "      <td id=\"T_1c99f_row7_col3\" class=\"data row7 col3\" >2</td>\n",
              "    </tr>\n",
              "    <tr>\n",
              "      <td id=\"T_1c99f_row8_col0\" class=\"data row8 col0\" >Production</td>\n",
              "      <td id=\"T_1c99f_row8_col1\" class=\"data row8 col1\" >Mukherjee</td>\n",
              "      <td id=\"T_1c99f_row8_col2\" class=\"data row8 col2\" >25000</td>\n",
              "      <td id=\"T_1c99f_row8_col3\" class=\"data row8 col3\" >3</td>\n",
              "    </tr>\n",
              "    <tr>\n",
              "      <td id=\"T_1c99f_row9_col0\" class=\"data row9 col0\" >Sales</td>\n",
              "      <td id=\"T_1c99f_row9_col1\" class=\"data row9 col1\" >Dikshit</td>\n",
              "      <td id=\"T_1c99f_row9_col2\" class=\"data row9 col2\" >10000</td>\n",
              "      <td id=\"T_1c99f_row9_col3\" class=\"data row9 col3\" >1</td>\n",
              "    </tr>\n",
              "    <tr>\n",
              "      <td id=\"T_1c99f_row10_col0\" class=\"data row10 col0\" >Sales</td>\n",
              "      <td id=\"T_1c99f_row10_col1\" class=\"data row10 col1\" >Sehwag</td>\n",
              "      <td id=\"T_1c99f_row10_col2\" class=\"data row10 col2\" >15000</td>\n",
              "      <td id=\"T_1c99f_row10_col3\" class=\"data row10 col3\" >2</td>\n",
              "    </tr>\n",
              "    <tr>\n",
              "      <td id=\"T_1c99f_row11_col0\" class=\"data row11 col0\" >Sales</td>\n",
              "      <td id=\"T_1c99f_row11_col1\" class=\"data row11 col1\" >Khan</td>\n",
              "      <td id=\"T_1c99f_row11_col2\" class=\"data row11 col2\" >30000</td>\n",
              "      <td id=\"T_1c99f_row11_col3\" class=\"data row11 col3\" >3</td>\n",
              "    </tr>\n",
              "  </tbody>\n",
              "</table>\n"
            ]
          },
          "metadata": {},
          "execution_count": 68
        }
      ]
    },
    {
      "cell_type": "code",
      "source": [
        "sql = \"select deptname, lastname, salary, \\\n",
        "        rank() over (partition by deptname order by salary desc) \\\n",
        "        from empl  inner join dept using(deptid)\"\n",
        "runSelect(sql)"
      ],
      "metadata": {
        "colab": {
          "base_uri": "https://localhost:8080/",
          "height": 426
        },
        "id": "rL_1sHBa4ply",
        "outputId": "6ec14d97-e9e5-452b-d9f8-97c62394ada9"
      },
      "execution_count": 69,
      "outputs": [
        {
          "output_type": "execute_result",
          "data": {
            "text/plain": [
              "<pandas.io.formats.style.Styler at 0x79b4c49895a0>"
            ],
            "text/html": [
              "<style type=\"text/css\">\n",
              "</style>\n",
              "<table id=\"T_bd809\" class=\"dataframe\">\n",
              "  <thead>\n",
              "    <tr>\n",
              "      <th id=\"T_bd809_level0_col0\" class=\"col_heading level0 col0\" >deptname</th>\n",
              "      <th id=\"T_bd809_level0_col1\" class=\"col_heading level0 col1\" >lastname</th>\n",
              "      <th id=\"T_bd809_level0_col2\" class=\"col_heading level0 col2\" >salary</th>\n",
              "      <th id=\"T_bd809_level0_col3\" class=\"col_heading level0 col3\" >rank</th>\n",
              "    </tr>\n",
              "  </thead>\n",
              "  <tbody>\n",
              "    <tr>\n",
              "      <td id=\"T_bd809_row0_col0\" class=\"data row0 col0\" >Accounts</td>\n",
              "      <td id=\"T_bd809_row0_col1\" class=\"data row0 col1\" >Dravid</td>\n",
              "      <td id=\"T_bd809_row0_col2\" class=\"data row0 col2\" >40000</td>\n",
              "      <td id=\"T_bd809_row0_col3\" class=\"data row0 col3\" >1</td>\n",
              "    </tr>\n",
              "    <tr>\n",
              "      <td id=\"T_bd809_row1_col0\" class=\"data row1 col0\" >Accounts</td>\n",
              "      <td id=\"T_bd809_row1_col1\" class=\"data row1 col1\" >Mirza</td>\n",
              "      <td id=\"T_bd809_row1_col2\" class=\"data row1 col2\" >25000</td>\n",
              "      <td id=\"T_bd809_row1_col3\" class=\"data row1 col3\" >2</td>\n",
              "    </tr>\n",
              "    <tr>\n",
              "      <td id=\"T_bd809_row2_col0\" class=\"data row2 col0\" >Accounts</td>\n",
              "      <td id=\"T_bd809_row2_col1\" class=\"data row2 col1\" >Dalmia</td>\n",
              "      <td id=\"T_bd809_row2_col2\" class=\"data row2 col2\" >12000</td>\n",
              "      <td id=\"T_bd809_row2_col3\" class=\"data row2 col3\" >3</td>\n",
              "    </tr>\n",
              "    <tr>\n",
              "      <td id=\"T_bd809_row3_col0\" class=\"data row3 col0\" >Corporate</td>\n",
              "      <td id=\"T_bd809_row3_col1\" class=\"data row3 col1\" >Ganesan</td>\n",
              "      <td id=\"T_bd809_row3_col2\" class=\"data row3 col2\" >60000</td>\n",
              "      <td id=\"T_bd809_row3_col3\" class=\"data row3 col3\" >1</td>\n",
              "    </tr>\n",
              "    <tr>\n",
              "      <td id=\"T_bd809_row4_col0\" class=\"data row4 col0\" >Corporate</td>\n",
              "      <td id=\"T_bd809_row4_col1\" class=\"data row4 col1\" >Bacchan</td>\n",
              "      <td id=\"T_bd809_row4_col2\" class=\"data row4 col2\" >50000</td>\n",
              "      <td id=\"T_bd809_row4_col3\" class=\"data row4 col3\" >2</td>\n",
              "    </tr>\n",
              "    <tr>\n",
              "      <td id=\"T_bd809_row5_col0\" class=\"data row5 col0\" >Corporate</td>\n",
              "      <td id=\"T_bd809_row5_col1\" class=\"data row5 col1\" >Karthikeyan</td>\n",
              "      <td id=\"T_bd809_row5_col2\" class=\"data row5 col2\" >40000</td>\n",
              "      <td id=\"T_bd809_row5_col3\" class=\"data row5 col3\" >3</td>\n",
              "    </tr>\n",
              "    <tr>\n",
              "      <td id=\"T_bd809_row6_col0\" class=\"data row6 col0\" >Production</td>\n",
              "      <td id=\"T_bd809_row6_col1\" class=\"data row6 col1\" >Mukherjee</td>\n",
              "      <td id=\"T_bd809_row6_col2\" class=\"data row6 col2\" >25000</td>\n",
              "      <td id=\"T_bd809_row6_col3\" class=\"data row6 col3\" >1</td>\n",
              "    </tr>\n",
              "    <tr>\n",
              "      <td id=\"T_bd809_row7_col0\" class=\"data row7 col0\" >Production</td>\n",
              "      <td id=\"T_bd809_row7_col1\" class=\"data row7 col1\" >Ganguly</td>\n",
              "      <td id=\"T_bd809_row7_col2\" class=\"data row7 col2\" >20000</td>\n",
              "      <td id=\"T_bd809_row7_col3\" class=\"data row7 col3\" >2</td>\n",
              "    </tr>\n",
              "    <tr>\n",
              "      <td id=\"T_bd809_row8_col0\" class=\"data row8 col0\" >Production</td>\n",
              "      <td id=\"T_bd809_row8_col1\" class=\"data row8 col1\" >Dhoni</td>\n",
              "      <td id=\"T_bd809_row8_col2\" class=\"data row8 col2\" >9000</td>\n",
              "      <td id=\"T_bd809_row8_col3\" class=\"data row8 col3\" >3</td>\n",
              "    </tr>\n",
              "    <tr>\n",
              "      <td id=\"T_bd809_row9_col0\" class=\"data row9 col0\" >Sales</td>\n",
              "      <td id=\"T_bd809_row9_col1\" class=\"data row9 col1\" >Khan</td>\n",
              "      <td id=\"T_bd809_row9_col2\" class=\"data row9 col2\" >30000</td>\n",
              "      <td id=\"T_bd809_row9_col3\" class=\"data row9 col3\" >1</td>\n",
              "    </tr>\n",
              "    <tr>\n",
              "      <td id=\"T_bd809_row10_col0\" class=\"data row10 col0\" >Sales</td>\n",
              "      <td id=\"T_bd809_row10_col1\" class=\"data row10 col1\" >Sehwag</td>\n",
              "      <td id=\"T_bd809_row10_col2\" class=\"data row10 col2\" >15000</td>\n",
              "      <td id=\"T_bd809_row10_col3\" class=\"data row10 col3\" >2</td>\n",
              "    </tr>\n",
              "    <tr>\n",
              "      <td id=\"T_bd809_row11_col0\" class=\"data row11 col0\" >Sales</td>\n",
              "      <td id=\"T_bd809_row11_col1\" class=\"data row11 col1\" >Dikshit</td>\n",
              "      <td id=\"T_bd809_row11_col2\" class=\"data row11 col2\" >10000</td>\n",
              "      <td id=\"T_bd809_row11_col3\" class=\"data row11 col3\" >3</td>\n",
              "    </tr>\n",
              "  </tbody>\n",
              "</table>\n"
            ]
          },
          "metadata": {},
          "execution_count": 69
        }
      ]
    },
    {
      "cell_type": "code",
      "source": [
        "sql = \"select deptname, lastname, salary, \\\n",
        "first_value(salary) over (partition by deptname order by salary) as deptlow, \\\n",
        "last_value(salary) over (partition by deptname order by salary RANGE BETWEEN UNBOUNDED PRECEDING AND UNBOUNDED FOLLOWING) as depthigh \\\n",
        "from empl  inner join dept using(deptid)\"\n",
        "runSelect(sql)"
      ],
      "metadata": {
        "colab": {
          "base_uri": "https://localhost:8080/",
          "height": 426
        },
        "id": "RO428SVT5T3d",
        "outputId": "9d883f9b-52f8-4336-f1b6-95b812ae9224"
      },
      "execution_count": 70,
      "outputs": [
        {
          "output_type": "execute_result",
          "data": {
            "text/plain": [
              "<pandas.io.formats.style.Styler at 0x79b4940f2a70>"
            ],
            "text/html": [
              "<style type=\"text/css\">\n",
              "</style>\n",
              "<table id=\"T_9f73e\" class=\"dataframe\">\n",
              "  <thead>\n",
              "    <tr>\n",
              "      <th id=\"T_9f73e_level0_col0\" class=\"col_heading level0 col0\" >deptname</th>\n",
              "      <th id=\"T_9f73e_level0_col1\" class=\"col_heading level0 col1\" >lastname</th>\n",
              "      <th id=\"T_9f73e_level0_col2\" class=\"col_heading level0 col2\" >salary</th>\n",
              "      <th id=\"T_9f73e_level0_col3\" class=\"col_heading level0 col3\" >deptlow</th>\n",
              "      <th id=\"T_9f73e_level0_col4\" class=\"col_heading level0 col4\" >depthigh</th>\n",
              "    </tr>\n",
              "  </thead>\n",
              "  <tbody>\n",
              "    <tr>\n",
              "      <td id=\"T_9f73e_row0_col0\" class=\"data row0 col0\" >Accounts</td>\n",
              "      <td id=\"T_9f73e_row0_col1\" class=\"data row0 col1\" >Dalmia</td>\n",
              "      <td id=\"T_9f73e_row0_col2\" class=\"data row0 col2\" >12000</td>\n",
              "      <td id=\"T_9f73e_row0_col3\" class=\"data row0 col3\" >12000</td>\n",
              "      <td id=\"T_9f73e_row0_col4\" class=\"data row0 col4\" >40000</td>\n",
              "    </tr>\n",
              "    <tr>\n",
              "      <td id=\"T_9f73e_row1_col0\" class=\"data row1 col0\" >Accounts</td>\n",
              "      <td id=\"T_9f73e_row1_col1\" class=\"data row1 col1\" >Mirza</td>\n",
              "      <td id=\"T_9f73e_row1_col2\" class=\"data row1 col2\" >25000</td>\n",
              "      <td id=\"T_9f73e_row1_col3\" class=\"data row1 col3\" >12000</td>\n",
              "      <td id=\"T_9f73e_row1_col4\" class=\"data row1 col4\" >40000</td>\n",
              "    </tr>\n",
              "    <tr>\n",
              "      <td id=\"T_9f73e_row2_col0\" class=\"data row2 col0\" >Accounts</td>\n",
              "      <td id=\"T_9f73e_row2_col1\" class=\"data row2 col1\" >Dravid</td>\n",
              "      <td id=\"T_9f73e_row2_col2\" class=\"data row2 col2\" >40000</td>\n",
              "      <td id=\"T_9f73e_row2_col3\" class=\"data row2 col3\" >12000</td>\n",
              "      <td id=\"T_9f73e_row2_col4\" class=\"data row2 col4\" >40000</td>\n",
              "    </tr>\n",
              "    <tr>\n",
              "      <td id=\"T_9f73e_row3_col0\" class=\"data row3 col0\" >Corporate</td>\n",
              "      <td id=\"T_9f73e_row3_col1\" class=\"data row3 col1\" >Karthikeyan</td>\n",
              "      <td id=\"T_9f73e_row3_col2\" class=\"data row3 col2\" >40000</td>\n",
              "      <td id=\"T_9f73e_row3_col3\" class=\"data row3 col3\" >40000</td>\n",
              "      <td id=\"T_9f73e_row3_col4\" class=\"data row3 col4\" >60000</td>\n",
              "    </tr>\n",
              "    <tr>\n",
              "      <td id=\"T_9f73e_row4_col0\" class=\"data row4 col0\" >Corporate</td>\n",
              "      <td id=\"T_9f73e_row4_col1\" class=\"data row4 col1\" >Bacchan</td>\n",
              "      <td id=\"T_9f73e_row4_col2\" class=\"data row4 col2\" >50000</td>\n",
              "      <td id=\"T_9f73e_row4_col3\" class=\"data row4 col3\" >40000</td>\n",
              "      <td id=\"T_9f73e_row4_col4\" class=\"data row4 col4\" >60000</td>\n",
              "    </tr>\n",
              "    <tr>\n",
              "      <td id=\"T_9f73e_row5_col0\" class=\"data row5 col0\" >Corporate</td>\n",
              "      <td id=\"T_9f73e_row5_col1\" class=\"data row5 col1\" >Ganesan</td>\n",
              "      <td id=\"T_9f73e_row5_col2\" class=\"data row5 col2\" >60000</td>\n",
              "      <td id=\"T_9f73e_row5_col3\" class=\"data row5 col3\" >40000</td>\n",
              "      <td id=\"T_9f73e_row5_col4\" class=\"data row5 col4\" >60000</td>\n",
              "    </tr>\n",
              "    <tr>\n",
              "      <td id=\"T_9f73e_row6_col0\" class=\"data row6 col0\" >Production</td>\n",
              "      <td id=\"T_9f73e_row6_col1\" class=\"data row6 col1\" >Dhoni</td>\n",
              "      <td id=\"T_9f73e_row6_col2\" class=\"data row6 col2\" >9000</td>\n",
              "      <td id=\"T_9f73e_row6_col3\" class=\"data row6 col3\" >9000</td>\n",
              "      <td id=\"T_9f73e_row6_col4\" class=\"data row6 col4\" >25000</td>\n",
              "    </tr>\n",
              "    <tr>\n",
              "      <td id=\"T_9f73e_row7_col0\" class=\"data row7 col0\" >Production</td>\n",
              "      <td id=\"T_9f73e_row7_col1\" class=\"data row7 col1\" >Ganguly</td>\n",
              "      <td id=\"T_9f73e_row7_col2\" class=\"data row7 col2\" >20000</td>\n",
              "      <td id=\"T_9f73e_row7_col3\" class=\"data row7 col3\" >9000</td>\n",
              "      <td id=\"T_9f73e_row7_col4\" class=\"data row7 col4\" >25000</td>\n",
              "    </tr>\n",
              "    <tr>\n",
              "      <td id=\"T_9f73e_row8_col0\" class=\"data row8 col0\" >Production</td>\n",
              "      <td id=\"T_9f73e_row8_col1\" class=\"data row8 col1\" >Mukherjee</td>\n",
              "      <td id=\"T_9f73e_row8_col2\" class=\"data row8 col2\" >25000</td>\n",
              "      <td id=\"T_9f73e_row8_col3\" class=\"data row8 col3\" >9000</td>\n",
              "      <td id=\"T_9f73e_row8_col4\" class=\"data row8 col4\" >25000</td>\n",
              "    </tr>\n",
              "    <tr>\n",
              "      <td id=\"T_9f73e_row9_col0\" class=\"data row9 col0\" >Sales</td>\n",
              "      <td id=\"T_9f73e_row9_col1\" class=\"data row9 col1\" >Dikshit</td>\n",
              "      <td id=\"T_9f73e_row9_col2\" class=\"data row9 col2\" >10000</td>\n",
              "      <td id=\"T_9f73e_row9_col3\" class=\"data row9 col3\" >10000</td>\n",
              "      <td id=\"T_9f73e_row9_col4\" class=\"data row9 col4\" >30000</td>\n",
              "    </tr>\n",
              "    <tr>\n",
              "      <td id=\"T_9f73e_row10_col0\" class=\"data row10 col0\" >Sales</td>\n",
              "      <td id=\"T_9f73e_row10_col1\" class=\"data row10 col1\" >Sehwag</td>\n",
              "      <td id=\"T_9f73e_row10_col2\" class=\"data row10 col2\" >15000</td>\n",
              "      <td id=\"T_9f73e_row10_col3\" class=\"data row10 col3\" >10000</td>\n",
              "      <td id=\"T_9f73e_row10_col4\" class=\"data row10 col4\" >30000</td>\n",
              "    </tr>\n",
              "    <tr>\n",
              "      <td id=\"T_9f73e_row11_col0\" class=\"data row11 col0\" >Sales</td>\n",
              "      <td id=\"T_9f73e_row11_col1\" class=\"data row11 col1\" >Khan</td>\n",
              "      <td id=\"T_9f73e_row11_col2\" class=\"data row11 col2\" >30000</td>\n",
              "      <td id=\"T_9f73e_row11_col3\" class=\"data row11 col3\" >10000</td>\n",
              "      <td id=\"T_9f73e_row11_col4\" class=\"data row11 col4\" >30000</td>\n",
              "    </tr>\n",
              "  </tbody>\n",
              "</table>\n"
            ]
          },
          "metadata": {},
          "execution_count": 70
        }
      ]
    },
    {
      "cell_type": "code",
      "source": [
        "sql = \"select deptname, lastname, salary, \\\n",
        "lag(salary,1) over (partition by deptname order by salary) as prev_emp, \\\n",
        "salary - lag(salary,1) over (partition by deptname order by salary) as gap_up \\\n",
        "from empl  inner join dept using(deptid)\"\n",
        "runSelect(sql)"
      ],
      "metadata": {
        "colab": {
          "base_uri": "https://localhost:8080/",
          "height": 426
        },
        "id": "fnG4S0lF8h77",
        "outputId": "3141a667-b85d-4d22-9a52-eafe468d84fe"
      },
      "execution_count": 71,
      "outputs": [
        {
          "output_type": "execute_result",
          "data": {
            "text/plain": [
              "<pandas.io.formats.style.Styler at 0x79b4941fb700>"
            ],
            "text/html": [
              "<style type=\"text/css\">\n",
              "</style>\n",
              "<table id=\"T_cb7c5\" class=\"dataframe\">\n",
              "  <thead>\n",
              "    <tr>\n",
              "      <th id=\"T_cb7c5_level0_col0\" class=\"col_heading level0 col0\" >deptname</th>\n",
              "      <th id=\"T_cb7c5_level0_col1\" class=\"col_heading level0 col1\" >lastname</th>\n",
              "      <th id=\"T_cb7c5_level0_col2\" class=\"col_heading level0 col2\" >salary</th>\n",
              "      <th id=\"T_cb7c5_level0_col3\" class=\"col_heading level0 col3\" >prev_emp</th>\n",
              "      <th id=\"T_cb7c5_level0_col4\" class=\"col_heading level0 col4\" >gap_up</th>\n",
              "    </tr>\n",
              "  </thead>\n",
              "  <tbody>\n",
              "    <tr>\n",
              "      <td id=\"T_cb7c5_row0_col0\" class=\"data row0 col0\" >Accounts</td>\n",
              "      <td id=\"T_cb7c5_row0_col1\" class=\"data row0 col1\" >Dalmia</td>\n",
              "      <td id=\"T_cb7c5_row0_col2\" class=\"data row0 col2\" >12000</td>\n",
              "      <td id=\"T_cb7c5_row0_col3\" class=\"data row0 col3\" >nan</td>\n",
              "      <td id=\"T_cb7c5_row0_col4\" class=\"data row0 col4\" >nan</td>\n",
              "    </tr>\n",
              "    <tr>\n",
              "      <td id=\"T_cb7c5_row1_col0\" class=\"data row1 col0\" >Accounts</td>\n",
              "      <td id=\"T_cb7c5_row1_col1\" class=\"data row1 col1\" >Mirza</td>\n",
              "      <td id=\"T_cb7c5_row1_col2\" class=\"data row1 col2\" >25000</td>\n",
              "      <td id=\"T_cb7c5_row1_col3\" class=\"data row1 col3\" >12000.000000</td>\n",
              "      <td id=\"T_cb7c5_row1_col4\" class=\"data row1 col4\" >13000.000000</td>\n",
              "    </tr>\n",
              "    <tr>\n",
              "      <td id=\"T_cb7c5_row2_col0\" class=\"data row2 col0\" >Accounts</td>\n",
              "      <td id=\"T_cb7c5_row2_col1\" class=\"data row2 col1\" >Dravid</td>\n",
              "      <td id=\"T_cb7c5_row2_col2\" class=\"data row2 col2\" >40000</td>\n",
              "      <td id=\"T_cb7c5_row2_col3\" class=\"data row2 col3\" >25000.000000</td>\n",
              "      <td id=\"T_cb7c5_row2_col4\" class=\"data row2 col4\" >15000.000000</td>\n",
              "    </tr>\n",
              "    <tr>\n",
              "      <td id=\"T_cb7c5_row3_col0\" class=\"data row3 col0\" >Corporate</td>\n",
              "      <td id=\"T_cb7c5_row3_col1\" class=\"data row3 col1\" >Karthikeyan</td>\n",
              "      <td id=\"T_cb7c5_row3_col2\" class=\"data row3 col2\" >40000</td>\n",
              "      <td id=\"T_cb7c5_row3_col3\" class=\"data row3 col3\" >nan</td>\n",
              "      <td id=\"T_cb7c5_row3_col4\" class=\"data row3 col4\" >nan</td>\n",
              "    </tr>\n",
              "    <tr>\n",
              "      <td id=\"T_cb7c5_row4_col0\" class=\"data row4 col0\" >Corporate</td>\n",
              "      <td id=\"T_cb7c5_row4_col1\" class=\"data row4 col1\" >Bacchan</td>\n",
              "      <td id=\"T_cb7c5_row4_col2\" class=\"data row4 col2\" >50000</td>\n",
              "      <td id=\"T_cb7c5_row4_col3\" class=\"data row4 col3\" >40000.000000</td>\n",
              "      <td id=\"T_cb7c5_row4_col4\" class=\"data row4 col4\" >10000.000000</td>\n",
              "    </tr>\n",
              "    <tr>\n",
              "      <td id=\"T_cb7c5_row5_col0\" class=\"data row5 col0\" >Corporate</td>\n",
              "      <td id=\"T_cb7c5_row5_col1\" class=\"data row5 col1\" >Ganesan</td>\n",
              "      <td id=\"T_cb7c5_row5_col2\" class=\"data row5 col2\" >60000</td>\n",
              "      <td id=\"T_cb7c5_row5_col3\" class=\"data row5 col3\" >50000.000000</td>\n",
              "      <td id=\"T_cb7c5_row5_col4\" class=\"data row5 col4\" >10000.000000</td>\n",
              "    </tr>\n",
              "    <tr>\n",
              "      <td id=\"T_cb7c5_row6_col0\" class=\"data row6 col0\" >Production</td>\n",
              "      <td id=\"T_cb7c5_row6_col1\" class=\"data row6 col1\" >Dhoni</td>\n",
              "      <td id=\"T_cb7c5_row6_col2\" class=\"data row6 col2\" >9000</td>\n",
              "      <td id=\"T_cb7c5_row6_col3\" class=\"data row6 col3\" >nan</td>\n",
              "      <td id=\"T_cb7c5_row6_col4\" class=\"data row6 col4\" >nan</td>\n",
              "    </tr>\n",
              "    <tr>\n",
              "      <td id=\"T_cb7c5_row7_col0\" class=\"data row7 col0\" >Production</td>\n",
              "      <td id=\"T_cb7c5_row7_col1\" class=\"data row7 col1\" >Ganguly</td>\n",
              "      <td id=\"T_cb7c5_row7_col2\" class=\"data row7 col2\" >20000</td>\n",
              "      <td id=\"T_cb7c5_row7_col3\" class=\"data row7 col3\" >9000.000000</td>\n",
              "      <td id=\"T_cb7c5_row7_col4\" class=\"data row7 col4\" >11000.000000</td>\n",
              "    </tr>\n",
              "    <tr>\n",
              "      <td id=\"T_cb7c5_row8_col0\" class=\"data row8 col0\" >Production</td>\n",
              "      <td id=\"T_cb7c5_row8_col1\" class=\"data row8 col1\" >Mukherjee</td>\n",
              "      <td id=\"T_cb7c5_row8_col2\" class=\"data row8 col2\" >25000</td>\n",
              "      <td id=\"T_cb7c5_row8_col3\" class=\"data row8 col3\" >20000.000000</td>\n",
              "      <td id=\"T_cb7c5_row8_col4\" class=\"data row8 col4\" >5000.000000</td>\n",
              "    </tr>\n",
              "    <tr>\n",
              "      <td id=\"T_cb7c5_row9_col0\" class=\"data row9 col0\" >Sales</td>\n",
              "      <td id=\"T_cb7c5_row9_col1\" class=\"data row9 col1\" >Dikshit</td>\n",
              "      <td id=\"T_cb7c5_row9_col2\" class=\"data row9 col2\" >10000</td>\n",
              "      <td id=\"T_cb7c5_row9_col3\" class=\"data row9 col3\" >nan</td>\n",
              "      <td id=\"T_cb7c5_row9_col4\" class=\"data row9 col4\" >nan</td>\n",
              "    </tr>\n",
              "    <tr>\n",
              "      <td id=\"T_cb7c5_row10_col0\" class=\"data row10 col0\" >Sales</td>\n",
              "      <td id=\"T_cb7c5_row10_col1\" class=\"data row10 col1\" >Sehwag</td>\n",
              "      <td id=\"T_cb7c5_row10_col2\" class=\"data row10 col2\" >15000</td>\n",
              "      <td id=\"T_cb7c5_row10_col3\" class=\"data row10 col3\" >10000.000000</td>\n",
              "      <td id=\"T_cb7c5_row10_col4\" class=\"data row10 col4\" >5000.000000</td>\n",
              "    </tr>\n",
              "    <tr>\n",
              "      <td id=\"T_cb7c5_row11_col0\" class=\"data row11 col0\" >Sales</td>\n",
              "      <td id=\"T_cb7c5_row11_col1\" class=\"data row11 col1\" >Khan</td>\n",
              "      <td id=\"T_cb7c5_row11_col2\" class=\"data row11 col2\" >30000</td>\n",
              "      <td id=\"T_cb7c5_row11_col3\" class=\"data row11 col3\" >15000.000000</td>\n",
              "      <td id=\"T_cb7c5_row11_col4\" class=\"data row11 col4\" >15000.000000</td>\n",
              "    </tr>\n",
              "  </tbody>\n",
              "</table>\n"
            ]
          },
          "metadata": {},
          "execution_count": 71
        }
      ]
    },
    {
      "cell_type": "markdown",
      "source": [
        "#Transpose / Pivot\n",
        "https://www.sqlshack.com/how-to-use-the-crosstab-function-in-postgresql/"
      ],
      "metadata": {
        "id": "V6Bt-yTXSITF"
      }
    },
    {
      "cell_type": "code",
      "source": [
        "!psql -h localhost -p 5432 -Uupraxis -ddbpraxis -c \"create extension tablefunc;\""
      ],
      "metadata": {
        "colab": {
          "base_uri": "https://localhost:8080/"
        },
        "id": "ZgVgr1DfYs_R",
        "outputId": "c4d4d333-93a7-4ad9-a2cd-22d5ac056e49"
      },
      "execution_count": 72,
      "outputs": [
        {
          "output_type": "stream",
          "name": "stdout",
          "text": [
            "CREATE EXTENSION\n"
          ]
        }
      ]
    },
    {
      "cell_type": "code",
      "source": [
        "runSelect('select * from dept')"
      ],
      "metadata": {
        "colab": {
          "base_uri": "https://localhost:8080/",
          "height": 206
        },
        "id": "Sa9IpGXwSKWe",
        "outputId": "00a22eb7-840a-4f0b-87cd-e258dde256e4"
      },
      "execution_count": 73,
      "outputs": [
        {
          "output_type": "execute_result",
          "data": {
            "text/plain": [
              "<pandas.io.formats.style.Styler at 0x79b4c587ae90>"
            ],
            "text/html": [
              "<style type=\"text/css\">\n",
              "</style>\n",
              "<table id=\"T_5de55\" class=\"dataframe\">\n",
              "  <thead>\n",
              "    <tr>\n",
              "      <th id=\"T_5de55_level0_col0\" class=\"col_heading level0 col0\" >deptid</th>\n",
              "      <th id=\"T_5de55_level0_col1\" class=\"col_heading level0 col1\" >deptname</th>\n",
              "      <th id=\"T_5de55_level0_col2\" class=\"col_heading level0 col2\" >managerid</th>\n",
              "      <th id=\"T_5de55_level0_col3\" class=\"col_heading level0 col3\" >location</th>\n",
              "      <th id=\"T_5de55_level0_col4\" class=\"col_heading level0 col4\" >locationid</th>\n",
              "    </tr>\n",
              "  </thead>\n",
              "  <tbody>\n",
              "    <tr>\n",
              "      <td id=\"T_5de55_row0_col0\" class=\"data row0 col0\" >10</td>\n",
              "      <td id=\"T_5de55_row0_col1\" class=\"data row0 col1\" >Corporate</td>\n",
              "      <td id=\"T_5de55_row0_col2\" class=\"data row0 col2\" >299034</td>\n",
              "      <td id=\"T_5de55_row0_col3\" class=\"data row0 col3\" >Calcutta</td>\n",
              "      <td id=\"T_5de55_row0_col4\" class=\"data row0 col4\" >1</td>\n",
              "    </tr>\n",
              "    <tr>\n",
              "      <td id=\"T_5de55_row1_col0\" class=\"data row1 col0\" >20</td>\n",
              "      <td id=\"T_5de55_row1_col1\" class=\"data row1 col1\" >Sales</td>\n",
              "      <td id=\"T_5de55_row1_col2\" class=\"data row1 col2\" >239456</td>\n",
              "      <td id=\"T_5de55_row1_col3\" class=\"data row1 col3\" >Calcutta</td>\n",
              "      <td id=\"T_5de55_row1_col4\" class=\"data row1 col4\" >1</td>\n",
              "    </tr>\n",
              "    <tr>\n",
              "      <td id=\"T_5de55_row2_col0\" class=\"data row2 col0\" >30</td>\n",
              "      <td id=\"T_5de55_row2_col1\" class=\"data row2 col1\" >Accounts</td>\n",
              "      <td id=\"T_5de55_row2_col2\" class=\"data row2 col2\" >822134</td>\n",
              "      <td id=\"T_5de55_row2_col3\" class=\"data row2 col3\" >Calcutta</td>\n",
              "      <td id=\"T_5de55_row2_col4\" class=\"data row2 col4\" >1</td>\n",
              "    </tr>\n",
              "    <tr>\n",
              "      <td id=\"T_5de55_row3_col0\" class=\"data row3 col0\" >40</td>\n",
              "      <td id=\"T_5de55_row3_col1\" class=\"data row3 col1\" >Production</td>\n",
              "      <td id=\"T_5de55_row3_col2\" class=\"data row3 col2\" >349870</td>\n",
              "      <td id=\"T_5de55_row3_col3\" class=\"data row3 col3\" >Bombay</td>\n",
              "      <td id=\"T_5de55_row3_col4\" class=\"data row3 col4\" >2</td>\n",
              "    </tr>\n",
              "    <tr>\n",
              "      <td id=\"T_5de55_row4_col0\" class=\"data row4 col0\" >60</td>\n",
              "      <td id=\"T_5de55_row4_col1\" class=\"data row4 col1\" >Research</td>\n",
              "      <td id=\"T_5de55_row4_col2\" class=\"data row4 col2\" >546224</td>\n",
              "      <td id=\"T_5de55_row4_col3\" class=\"data row4 col3\" >Delhi</td>\n",
              "      <td id=\"T_5de55_row4_col4\" class=\"data row4 col4\" >3</td>\n",
              "    </tr>\n",
              "  </tbody>\n",
              "</table>\n"
            ]
          },
          "metadata": {},
          "execution_count": 73
        }
      ]
    },
    {
      "cell_type": "code",
      "source": [
        "sql = \"\\\n",
        "select * from \\\n",
        "crosstab('select location::text,locationid::text,deptname::text from dept order by 1,2') as locations \\\n",
        "(location text, dep1 text, dep2 text, dep3 text, dep4 text)\\\n",
        "\"\n",
        "runSelect(sql)"
      ],
      "metadata": {
        "colab": {
          "base_uri": "https://localhost:8080/",
          "height": 143
        },
        "id": "Iukqh6TRVo-9",
        "outputId": "3fe21eef-1d44-49f6-c881-7850f501ecb2"
      },
      "execution_count": 90,
      "outputs": [
        {
          "output_type": "execute_result",
          "data": {
            "text/plain": [
              "<pandas.io.formats.style.Styler at 0x79b4c4989bd0>"
            ],
            "text/html": [
              "<style type=\"text/css\">\n",
              "</style>\n",
              "<table id=\"T_ec012\" class=\"dataframe\">\n",
              "  <thead>\n",
              "    <tr>\n",
              "      <th id=\"T_ec012_level0_col0\" class=\"col_heading level0 col0\" >location</th>\n",
              "      <th id=\"T_ec012_level0_col1\" class=\"col_heading level0 col1\" >dep1</th>\n",
              "      <th id=\"T_ec012_level0_col2\" class=\"col_heading level0 col2\" >dep2</th>\n",
              "      <th id=\"T_ec012_level0_col3\" class=\"col_heading level0 col3\" >dep3</th>\n",
              "      <th id=\"T_ec012_level0_col4\" class=\"col_heading level0 col4\" >dep4</th>\n",
              "    </tr>\n",
              "  </thead>\n",
              "  <tbody>\n",
              "    <tr>\n",
              "      <td id=\"T_ec012_row0_col0\" class=\"data row0 col0\" >Bombay</td>\n",
              "      <td id=\"T_ec012_row0_col1\" class=\"data row0 col1\" >Production</td>\n",
              "      <td id=\"T_ec012_row0_col2\" class=\"data row0 col2\" >None</td>\n",
              "      <td id=\"T_ec012_row0_col3\" class=\"data row0 col3\" >None</td>\n",
              "      <td id=\"T_ec012_row0_col4\" class=\"data row0 col4\" >None</td>\n",
              "    </tr>\n",
              "    <tr>\n",
              "      <td id=\"T_ec012_row1_col0\" class=\"data row1 col0\" >Calcutta</td>\n",
              "      <td id=\"T_ec012_row1_col1\" class=\"data row1 col1\" >Corporate</td>\n",
              "      <td id=\"T_ec012_row1_col2\" class=\"data row1 col2\" >Sales</td>\n",
              "      <td id=\"T_ec012_row1_col3\" class=\"data row1 col3\" >Accounts</td>\n",
              "      <td id=\"T_ec012_row1_col4\" class=\"data row1 col4\" >None</td>\n",
              "    </tr>\n",
              "    <tr>\n",
              "      <td id=\"T_ec012_row2_col0\" class=\"data row2 col0\" >Delhi</td>\n",
              "      <td id=\"T_ec012_row2_col1\" class=\"data row2 col1\" >Research</td>\n",
              "      <td id=\"T_ec012_row2_col2\" class=\"data row2 col2\" >None</td>\n",
              "      <td id=\"T_ec012_row2_col3\" class=\"data row2 col3\" >None</td>\n",
              "      <td id=\"T_ec012_row2_col4\" class=\"data row2 col4\" >None</td>\n",
              "    </tr>\n",
              "  </tbody>\n",
              "</table>\n"
            ]
          },
          "metadata": {},
          "execution_count": 90
        }
      ]
    },
    {
      "cell_type": "markdown",
      "source": [
        "# Insert | Delete | Update"
      ],
      "metadata": {
        "id": "REcqZ7K0DYqi"
      }
    },
    {
      "cell_type": "code",
      "source": [
        "runSelect(\"select * from dept\")"
      ],
      "metadata": {
        "id": "xGgCH9vGDlsI",
        "outputId": "e6c146d5-e8f2-40d0-8223-a1ebf8229a7d",
        "colab": {
          "base_uri": "https://localhost:8080/",
          "height": 206
        }
      },
      "execution_count": 75,
      "outputs": [
        {
          "output_type": "execute_result",
          "data": {
            "text/plain": [
              "<pandas.io.formats.style.Styler at 0x79b494086710>"
            ],
            "text/html": [
              "<style type=\"text/css\">\n",
              "</style>\n",
              "<table id=\"T_8284f\" class=\"dataframe\">\n",
              "  <thead>\n",
              "    <tr>\n",
              "      <th id=\"T_8284f_level0_col0\" class=\"col_heading level0 col0\" >deptid</th>\n",
              "      <th id=\"T_8284f_level0_col1\" class=\"col_heading level0 col1\" >deptname</th>\n",
              "      <th id=\"T_8284f_level0_col2\" class=\"col_heading level0 col2\" >managerid</th>\n",
              "      <th id=\"T_8284f_level0_col3\" class=\"col_heading level0 col3\" >location</th>\n",
              "      <th id=\"T_8284f_level0_col4\" class=\"col_heading level0 col4\" >locationid</th>\n",
              "    </tr>\n",
              "  </thead>\n",
              "  <tbody>\n",
              "    <tr>\n",
              "      <td id=\"T_8284f_row0_col0\" class=\"data row0 col0\" >10</td>\n",
              "      <td id=\"T_8284f_row0_col1\" class=\"data row0 col1\" >Corporate</td>\n",
              "      <td id=\"T_8284f_row0_col2\" class=\"data row0 col2\" >299034</td>\n",
              "      <td id=\"T_8284f_row0_col3\" class=\"data row0 col3\" >Calcutta</td>\n",
              "      <td id=\"T_8284f_row0_col4\" class=\"data row0 col4\" >1</td>\n",
              "    </tr>\n",
              "    <tr>\n",
              "      <td id=\"T_8284f_row1_col0\" class=\"data row1 col0\" >20</td>\n",
              "      <td id=\"T_8284f_row1_col1\" class=\"data row1 col1\" >Sales</td>\n",
              "      <td id=\"T_8284f_row1_col2\" class=\"data row1 col2\" >239456</td>\n",
              "      <td id=\"T_8284f_row1_col3\" class=\"data row1 col3\" >Calcutta</td>\n",
              "      <td id=\"T_8284f_row1_col4\" class=\"data row1 col4\" >1</td>\n",
              "    </tr>\n",
              "    <tr>\n",
              "      <td id=\"T_8284f_row2_col0\" class=\"data row2 col0\" >30</td>\n",
              "      <td id=\"T_8284f_row2_col1\" class=\"data row2 col1\" >Accounts</td>\n",
              "      <td id=\"T_8284f_row2_col2\" class=\"data row2 col2\" >822134</td>\n",
              "      <td id=\"T_8284f_row2_col3\" class=\"data row2 col3\" >Calcutta</td>\n",
              "      <td id=\"T_8284f_row2_col4\" class=\"data row2 col4\" >1</td>\n",
              "    </tr>\n",
              "    <tr>\n",
              "      <td id=\"T_8284f_row3_col0\" class=\"data row3 col0\" >40</td>\n",
              "      <td id=\"T_8284f_row3_col1\" class=\"data row3 col1\" >Production</td>\n",
              "      <td id=\"T_8284f_row3_col2\" class=\"data row3 col2\" >349870</td>\n",
              "      <td id=\"T_8284f_row3_col3\" class=\"data row3 col3\" >Bombay</td>\n",
              "      <td id=\"T_8284f_row3_col4\" class=\"data row3 col4\" >2</td>\n",
              "    </tr>\n",
              "    <tr>\n",
              "      <td id=\"T_8284f_row4_col0\" class=\"data row4 col0\" >60</td>\n",
              "      <td id=\"T_8284f_row4_col1\" class=\"data row4 col1\" >Research</td>\n",
              "      <td id=\"T_8284f_row4_col2\" class=\"data row4 col2\" >546224</td>\n",
              "      <td id=\"T_8284f_row4_col3\" class=\"data row4 col3\" >Delhi</td>\n",
              "      <td id=\"T_8284f_row4_col4\" class=\"data row4 col4\" >3</td>\n",
              "    </tr>\n",
              "  </tbody>\n",
              "</table>\n"
            ]
          },
          "metadata": {},
          "execution_count": 75
        }
      ]
    },
    {
      "cell_type": "code",
      "source": [
        "runCmd(\"insert into Dept (DeptID, DeptName, ManagerID, Location,LocationID) VALUES \\\n",
        "\t('11', 'Corporate2', '299035', 'Calcutta','1')\")\n",
        "runSelect(\"select * from dept\")"
      ],
      "metadata": {
        "id": "iyW0EobdDuMY",
        "outputId": "dbf5131f-3b71-4d1d-b684-b63f1e75a574",
        "colab": {
          "base_uri": "https://localhost:8080/",
          "height": 255
        }
      },
      "execution_count": 76,
      "outputs": [
        {
          "output_type": "stream",
          "name": "stdout",
          "text": [
            "Command executed\n"
          ]
        },
        {
          "output_type": "execute_result",
          "data": {
            "text/plain": [
              "<pandas.io.formats.style.Styler at 0x79b494255270>"
            ],
            "text/html": [
              "<style type=\"text/css\">\n",
              "</style>\n",
              "<table id=\"T_6e6ab\" class=\"dataframe\">\n",
              "  <thead>\n",
              "    <tr>\n",
              "      <th id=\"T_6e6ab_level0_col0\" class=\"col_heading level0 col0\" >deptid</th>\n",
              "      <th id=\"T_6e6ab_level0_col1\" class=\"col_heading level0 col1\" >deptname</th>\n",
              "      <th id=\"T_6e6ab_level0_col2\" class=\"col_heading level0 col2\" >managerid</th>\n",
              "      <th id=\"T_6e6ab_level0_col3\" class=\"col_heading level0 col3\" >location</th>\n",
              "      <th id=\"T_6e6ab_level0_col4\" class=\"col_heading level0 col4\" >locationid</th>\n",
              "    </tr>\n",
              "  </thead>\n",
              "  <tbody>\n",
              "    <tr>\n",
              "      <td id=\"T_6e6ab_row0_col0\" class=\"data row0 col0\" >10</td>\n",
              "      <td id=\"T_6e6ab_row0_col1\" class=\"data row0 col1\" >Corporate</td>\n",
              "      <td id=\"T_6e6ab_row0_col2\" class=\"data row0 col2\" >299034</td>\n",
              "      <td id=\"T_6e6ab_row0_col3\" class=\"data row0 col3\" >Calcutta</td>\n",
              "      <td id=\"T_6e6ab_row0_col4\" class=\"data row0 col4\" >1</td>\n",
              "    </tr>\n",
              "    <tr>\n",
              "      <td id=\"T_6e6ab_row1_col0\" class=\"data row1 col0\" >20</td>\n",
              "      <td id=\"T_6e6ab_row1_col1\" class=\"data row1 col1\" >Sales</td>\n",
              "      <td id=\"T_6e6ab_row1_col2\" class=\"data row1 col2\" >239456</td>\n",
              "      <td id=\"T_6e6ab_row1_col3\" class=\"data row1 col3\" >Calcutta</td>\n",
              "      <td id=\"T_6e6ab_row1_col4\" class=\"data row1 col4\" >1</td>\n",
              "    </tr>\n",
              "    <tr>\n",
              "      <td id=\"T_6e6ab_row2_col0\" class=\"data row2 col0\" >30</td>\n",
              "      <td id=\"T_6e6ab_row2_col1\" class=\"data row2 col1\" >Accounts</td>\n",
              "      <td id=\"T_6e6ab_row2_col2\" class=\"data row2 col2\" >822134</td>\n",
              "      <td id=\"T_6e6ab_row2_col3\" class=\"data row2 col3\" >Calcutta</td>\n",
              "      <td id=\"T_6e6ab_row2_col4\" class=\"data row2 col4\" >1</td>\n",
              "    </tr>\n",
              "    <tr>\n",
              "      <td id=\"T_6e6ab_row3_col0\" class=\"data row3 col0\" >40</td>\n",
              "      <td id=\"T_6e6ab_row3_col1\" class=\"data row3 col1\" >Production</td>\n",
              "      <td id=\"T_6e6ab_row3_col2\" class=\"data row3 col2\" >349870</td>\n",
              "      <td id=\"T_6e6ab_row3_col3\" class=\"data row3 col3\" >Bombay</td>\n",
              "      <td id=\"T_6e6ab_row3_col4\" class=\"data row3 col4\" >2</td>\n",
              "    </tr>\n",
              "    <tr>\n",
              "      <td id=\"T_6e6ab_row4_col0\" class=\"data row4 col0\" >60</td>\n",
              "      <td id=\"T_6e6ab_row4_col1\" class=\"data row4 col1\" >Research</td>\n",
              "      <td id=\"T_6e6ab_row4_col2\" class=\"data row4 col2\" >546224</td>\n",
              "      <td id=\"T_6e6ab_row4_col3\" class=\"data row4 col3\" >Delhi</td>\n",
              "      <td id=\"T_6e6ab_row4_col4\" class=\"data row4 col4\" >3</td>\n",
              "    </tr>\n",
              "    <tr>\n",
              "      <td id=\"T_6e6ab_row5_col0\" class=\"data row5 col0\" >11</td>\n",
              "      <td id=\"T_6e6ab_row5_col1\" class=\"data row5 col1\" >Corporate2</td>\n",
              "      <td id=\"T_6e6ab_row5_col2\" class=\"data row5 col2\" >299035</td>\n",
              "      <td id=\"T_6e6ab_row5_col3\" class=\"data row5 col3\" >Calcutta</td>\n",
              "      <td id=\"T_6e6ab_row5_col4\" class=\"data row5 col4\" >1</td>\n",
              "    </tr>\n",
              "  </tbody>\n",
              "</table>\n"
            ]
          },
          "metadata": {},
          "execution_count": 76
        }
      ]
    },
    {
      "cell_type": "code",
      "source": [
        "runCmd(\"update dept set deptname = 'Marketing' where deptid = '11'\")\n",
        "runSelect(\"select * from dept\")"
      ],
      "metadata": {
        "id": "DqdnmD2pEQNq",
        "outputId": "90ba9952-0169-415f-f0dd-9793a18de0da",
        "colab": {
          "base_uri": "https://localhost:8080/",
          "height": 255
        }
      },
      "execution_count": 77,
      "outputs": [
        {
          "output_type": "stream",
          "name": "stdout",
          "text": [
            "Command executed\n"
          ]
        },
        {
          "output_type": "execute_result",
          "data": {
            "text/plain": [
              "<pandas.io.formats.style.Styler at 0x79b4940f35e0>"
            ],
            "text/html": [
              "<style type=\"text/css\">\n",
              "</style>\n",
              "<table id=\"T_75409\" class=\"dataframe\">\n",
              "  <thead>\n",
              "    <tr>\n",
              "      <th id=\"T_75409_level0_col0\" class=\"col_heading level0 col0\" >deptid</th>\n",
              "      <th id=\"T_75409_level0_col1\" class=\"col_heading level0 col1\" >deptname</th>\n",
              "      <th id=\"T_75409_level0_col2\" class=\"col_heading level0 col2\" >managerid</th>\n",
              "      <th id=\"T_75409_level0_col3\" class=\"col_heading level0 col3\" >location</th>\n",
              "      <th id=\"T_75409_level0_col4\" class=\"col_heading level0 col4\" >locationid</th>\n",
              "    </tr>\n",
              "  </thead>\n",
              "  <tbody>\n",
              "    <tr>\n",
              "      <td id=\"T_75409_row0_col0\" class=\"data row0 col0\" >10</td>\n",
              "      <td id=\"T_75409_row0_col1\" class=\"data row0 col1\" >Corporate</td>\n",
              "      <td id=\"T_75409_row0_col2\" class=\"data row0 col2\" >299034</td>\n",
              "      <td id=\"T_75409_row0_col3\" class=\"data row0 col3\" >Calcutta</td>\n",
              "      <td id=\"T_75409_row0_col4\" class=\"data row0 col4\" >1</td>\n",
              "    </tr>\n",
              "    <tr>\n",
              "      <td id=\"T_75409_row1_col0\" class=\"data row1 col0\" >20</td>\n",
              "      <td id=\"T_75409_row1_col1\" class=\"data row1 col1\" >Sales</td>\n",
              "      <td id=\"T_75409_row1_col2\" class=\"data row1 col2\" >239456</td>\n",
              "      <td id=\"T_75409_row1_col3\" class=\"data row1 col3\" >Calcutta</td>\n",
              "      <td id=\"T_75409_row1_col4\" class=\"data row1 col4\" >1</td>\n",
              "    </tr>\n",
              "    <tr>\n",
              "      <td id=\"T_75409_row2_col0\" class=\"data row2 col0\" >30</td>\n",
              "      <td id=\"T_75409_row2_col1\" class=\"data row2 col1\" >Accounts</td>\n",
              "      <td id=\"T_75409_row2_col2\" class=\"data row2 col2\" >822134</td>\n",
              "      <td id=\"T_75409_row2_col3\" class=\"data row2 col3\" >Calcutta</td>\n",
              "      <td id=\"T_75409_row2_col4\" class=\"data row2 col4\" >1</td>\n",
              "    </tr>\n",
              "    <tr>\n",
              "      <td id=\"T_75409_row3_col0\" class=\"data row3 col0\" >40</td>\n",
              "      <td id=\"T_75409_row3_col1\" class=\"data row3 col1\" >Production</td>\n",
              "      <td id=\"T_75409_row3_col2\" class=\"data row3 col2\" >349870</td>\n",
              "      <td id=\"T_75409_row3_col3\" class=\"data row3 col3\" >Bombay</td>\n",
              "      <td id=\"T_75409_row3_col4\" class=\"data row3 col4\" >2</td>\n",
              "    </tr>\n",
              "    <tr>\n",
              "      <td id=\"T_75409_row4_col0\" class=\"data row4 col0\" >60</td>\n",
              "      <td id=\"T_75409_row4_col1\" class=\"data row4 col1\" >Research</td>\n",
              "      <td id=\"T_75409_row4_col2\" class=\"data row4 col2\" >546224</td>\n",
              "      <td id=\"T_75409_row4_col3\" class=\"data row4 col3\" >Delhi</td>\n",
              "      <td id=\"T_75409_row4_col4\" class=\"data row4 col4\" >3</td>\n",
              "    </tr>\n",
              "    <tr>\n",
              "      <td id=\"T_75409_row5_col0\" class=\"data row5 col0\" >11</td>\n",
              "      <td id=\"T_75409_row5_col1\" class=\"data row5 col1\" >Marketing</td>\n",
              "      <td id=\"T_75409_row5_col2\" class=\"data row5 col2\" >299035</td>\n",
              "      <td id=\"T_75409_row5_col3\" class=\"data row5 col3\" >Calcutta</td>\n",
              "      <td id=\"T_75409_row5_col4\" class=\"data row5 col4\" >1</td>\n",
              "    </tr>\n",
              "  </tbody>\n",
              "</table>\n"
            ]
          },
          "metadata": {},
          "execution_count": 77
        }
      ]
    },
    {
      "cell_type": "code",
      "source": [
        "runCmd(\"delete from dept where deptid = '11'\")\n",
        "runSelect(\"select * from dept\")"
      ],
      "metadata": {
        "id": "nsnJnNrEF6iS",
        "outputId": "b65daa90-406c-40ba-da68-d13c27559c26",
        "colab": {
          "base_uri": "https://localhost:8080/",
          "height": 224
        }
      },
      "execution_count": 78,
      "outputs": [
        {
          "output_type": "stream",
          "name": "stdout",
          "text": [
            "Command executed\n"
          ]
        },
        {
          "output_type": "execute_result",
          "data": {
            "text/plain": [
              "<pandas.io.formats.style.Styler at 0x79b4942a3cd0>"
            ],
            "text/html": [
              "<style type=\"text/css\">\n",
              "</style>\n",
              "<table id=\"T_4bae1\" class=\"dataframe\">\n",
              "  <thead>\n",
              "    <tr>\n",
              "      <th id=\"T_4bae1_level0_col0\" class=\"col_heading level0 col0\" >deptid</th>\n",
              "      <th id=\"T_4bae1_level0_col1\" class=\"col_heading level0 col1\" >deptname</th>\n",
              "      <th id=\"T_4bae1_level0_col2\" class=\"col_heading level0 col2\" >managerid</th>\n",
              "      <th id=\"T_4bae1_level0_col3\" class=\"col_heading level0 col3\" >location</th>\n",
              "      <th id=\"T_4bae1_level0_col4\" class=\"col_heading level0 col4\" >locationid</th>\n",
              "    </tr>\n",
              "  </thead>\n",
              "  <tbody>\n",
              "    <tr>\n",
              "      <td id=\"T_4bae1_row0_col0\" class=\"data row0 col0\" >10</td>\n",
              "      <td id=\"T_4bae1_row0_col1\" class=\"data row0 col1\" >Corporate</td>\n",
              "      <td id=\"T_4bae1_row0_col2\" class=\"data row0 col2\" >299034</td>\n",
              "      <td id=\"T_4bae1_row0_col3\" class=\"data row0 col3\" >Calcutta</td>\n",
              "      <td id=\"T_4bae1_row0_col4\" class=\"data row0 col4\" >1</td>\n",
              "    </tr>\n",
              "    <tr>\n",
              "      <td id=\"T_4bae1_row1_col0\" class=\"data row1 col0\" >20</td>\n",
              "      <td id=\"T_4bae1_row1_col1\" class=\"data row1 col1\" >Sales</td>\n",
              "      <td id=\"T_4bae1_row1_col2\" class=\"data row1 col2\" >239456</td>\n",
              "      <td id=\"T_4bae1_row1_col3\" class=\"data row1 col3\" >Calcutta</td>\n",
              "      <td id=\"T_4bae1_row1_col4\" class=\"data row1 col4\" >1</td>\n",
              "    </tr>\n",
              "    <tr>\n",
              "      <td id=\"T_4bae1_row2_col0\" class=\"data row2 col0\" >30</td>\n",
              "      <td id=\"T_4bae1_row2_col1\" class=\"data row2 col1\" >Accounts</td>\n",
              "      <td id=\"T_4bae1_row2_col2\" class=\"data row2 col2\" >822134</td>\n",
              "      <td id=\"T_4bae1_row2_col3\" class=\"data row2 col3\" >Calcutta</td>\n",
              "      <td id=\"T_4bae1_row2_col4\" class=\"data row2 col4\" >1</td>\n",
              "    </tr>\n",
              "    <tr>\n",
              "      <td id=\"T_4bae1_row3_col0\" class=\"data row3 col0\" >40</td>\n",
              "      <td id=\"T_4bae1_row3_col1\" class=\"data row3 col1\" >Production</td>\n",
              "      <td id=\"T_4bae1_row3_col2\" class=\"data row3 col2\" >349870</td>\n",
              "      <td id=\"T_4bae1_row3_col3\" class=\"data row3 col3\" >Bombay</td>\n",
              "      <td id=\"T_4bae1_row3_col4\" class=\"data row3 col4\" >2</td>\n",
              "    </tr>\n",
              "    <tr>\n",
              "      <td id=\"T_4bae1_row4_col0\" class=\"data row4 col0\" >60</td>\n",
              "      <td id=\"T_4bae1_row4_col1\" class=\"data row4 col1\" >Research</td>\n",
              "      <td id=\"T_4bae1_row4_col2\" class=\"data row4 col2\" >546224</td>\n",
              "      <td id=\"T_4bae1_row4_col3\" class=\"data row4 col3\" >Delhi</td>\n",
              "      <td id=\"T_4bae1_row4_col4\" class=\"data row4 col4\" >3</td>\n",
              "    </tr>\n",
              "  </tbody>\n",
              "</table>\n"
            ]
          },
          "metadata": {},
          "execution_count": 78
        }
      ]
    },
    {
      "cell_type": "code",
      "source": [
        "from datetime import datetime\n",
        "import pytz\n",
        "print('Last tested  ',datetime.now(pytz.timezone('Asia/Kolkata')))"
      ],
      "metadata": {
        "colab": {
          "base_uri": "https://localhost:8080/"
        },
        "id": "wjBXJVhM605H",
        "outputId": "e7dc2e0a-3bd2-4f9d-c642-f3d2b6901aa4"
      },
      "execution_count": 79,
      "outputs": [
        {
          "output_type": "stream",
          "name": "stdout",
          "text": [
            "Last tested   2024-02-24 07:19:53.506428+05:30\n"
          ]
        }
      ]
    },
    {
      "cell_type": "markdown",
      "source": [
        "#Chronobooks <br>\n",
        "Two science fiction novels by Prithwis Mukerjee. A dystopian Earth. A technocratic society managed by artificial intelligence. Escape and epiphany on Mars. Can man and machine, carbon and silicon explore and escape into other dimensions of existence? An Indic perspective rooted in Advaita Vedanta and the Divine Feminine.  [More information](http://bit.ly/chronobooks) <br>\n",
        "![alt text](https://github.com/Praxis-QR/RDWH/raw/main/images/CTCYFooter-1.png)"
      ],
      "metadata": {
        "id": "_gNiZpyW3AzJ"
      }
    }
  ]
}