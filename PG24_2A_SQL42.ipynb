{
  "nbformat": 4,
  "nbformat_minor": 0,
  "metadata": {
    "colab": {
      "provenance": [],
      "toc_visible": true,
      "include_colab_link": true
    },
    "kernelspec": {
      "name": "python3",
      "display_name": "Python 3"
    },
    "language_info": {
      "name": "python"
    }
  },
  "cells": [
    {
      "cell_type": "markdown",
      "metadata": {
        "id": "view-in-github",
        "colab_type": "text"
      },
      "source": [
        "<a href=\"https://colab.research.google.com/github/Praxis-QR/RDWH/blob/main/PG24_2A_SQL42.ipynb\" target=\"_parent\"><img src=\"https://colab.research.google.com/assets/colab-badge.svg\" alt=\"Open In Colab\"/></a>"
      ]
    },
    {
      "cell_type": "markdown",
      "source": [
        "![Yantrajaal Banner](https://github.com/Praxis-QR/RDWH/raw/main/images/YantraJaalBanner.png)<br>\n",
        "\n",
        "\n",
        "<hr>\n",
        "\n",
        "[Prithwis Mukerjee](http://www.linkedin.com/in/prithwis)<br>"
      ],
      "metadata": {
        "id": "DBzz-qaN2tKu"
      }
    },
    {
      "cell_type": "markdown",
      "source": [
        "![PostgreSQL 42](https://raw.githubusercontent.com/Praxis-QR/RDWH/main/images/PostgreSQL_24.01.png)<br>\n",
        "[SlideDeck](https://docs.google.com/presentation/d/1hdkAGbMxLfO1GYe7RzEo3LhGZhsXkyjIfBqkA72B6LM/edit?usp=sharing)"
      ],
      "metadata": {
        "id": "dBJ6X0LiJtZ6"
      }
    },
    {
      "cell_type": "code",
      "source": [
        "from datetime import datetime\n",
        "import pytz\n",
        "print('ॐ श्री सरस्वत्यै नमः',datetime.now(pytz.timezone('Asia/Calcutta')))\n",
        "!python --version\n",
        "!lsb_release -a"
      ],
      "metadata": {
        "colab": {
          "base_uri": "https://localhost:8080/"
        },
        "id": "XZ9dGt-eUikL",
        "outputId": "1b1d00d9-768c-4b72-df7d-1aaa46a0fdf0"
      },
      "execution_count": 1,
      "outputs": [
        {
          "output_type": "stream",
          "name": "stdout",
          "text": [
            "ॐ श्री सरस्वत्यै नमः 2025-03-11 13:36:34.878551+05:30\n",
            "Python 3.11.11\n",
            "No LSB modules are available.\n",
            "Distributor ID:\tUbuntu\n",
            "Description:\tUbuntu 22.04.4 LTS\n",
            "Release:\t22.04\n",
            "Codename:\tjammy\n"
          ]
        }
      ]
    },
    {
      "cell_type": "markdown",
      "source": [
        "#Install & Configure Postgres"
      ],
      "metadata": {
        "id": "nD-QawLT6kDr"
      }
    },
    {
      "cell_type": "markdown",
      "source": [
        "For Connecting to a Postgres server hosted in the cloud Neon DB, see [this notebook](https://github.com/Praxis-QR/RDWH/blob/main/PG24_1B_SQL_CloudLab.ipynb)"
      ],
      "metadata": {
        "id": "9w29_O07rTPE"
      }
    },
    {
      "cell_type": "code",
      "source": [
        "# Install postgresql server\n",
        "\n",
        "!apt update > /dev/null\n",
        "!apt install postgresql > /dev/null\n",
        "#!pip install psycopg2\n",
        "import psycopg2\n",
        "import pandas as pd\n",
        "#!sudo -u postgres psql -V\n",
        "!psql -V\n",
        "!service postgresql start"
      ],
      "metadata": {
        "colab": {
          "base_uri": "https://localhost:8080/"
        },
        "id": "o_RaqE0OOHP3",
        "outputId": "973cab58-962f-4fd1-b3a9-7a237bdc9638"
      },
      "execution_count": 2,
      "outputs": [
        {
          "output_type": "stream",
          "name": "stdout",
          "text": [
            "\n",
            "WARNING: apt does not have a stable CLI interface. Use with caution in scripts.\n",
            "\n",
            "W: Skipping acquire of configured file 'main/source/Sources' as repository 'https://r2u.stat.illinois.edu/ubuntu jammy InRelease' does not seem to provide it (sources.list entry misspelt?)\n",
            "\n",
            "WARNING: apt does not have a stable CLI interface. Use with caution in scripts.\n",
            "\n",
            "psql (PostgreSQL) 14.17 (Ubuntu 14.17-0ubuntu0.22.04.1)\n",
            " * Starting PostgreSQL 14 database server\n",
            "   ...done.\n"
          ]
        }
      ]
    },
    {
      "cell_type": "code",
      "source": [
        "# The installation creates Ubuntu user 'postgres' AND a Postgres database user 'postgres' both of which are superusers\n",
        "#!cat /etc/passwd\n",
        "# Use these users to create a new database user called 'upraxis' and give it a password 'upass'\n",
        "#!sudo -u postgres createuser --superuser upraxis\n",
        "!sudo -u postgres createuser upraxis\n",
        "!sudo -u postgres psql -U postgres -c \"ALTER USER upraxis PASSWORD 'upass';\"\n",
        "#\n",
        "# Change the database superuser 'postgres' to a non-default value 'pass'\n",
        "!sudo -u postgres psql -U postgres -c \"ALTER USER postgres PASSWORD 'pass';\"\n",
        "#\n",
        "# Use ubuntu superuser to create database dbpraxis and set its owner to upraxis\n",
        "!sudo -u postgres createdb -O upraxis dbpraxis\n",
        "#\n",
        "# Create file to store the password. Else will be prompted each time\n",
        "#\n",
        "!echo \"localhost:5432:dbpraxis:upraxis:upass\" > ~/.pgpass\n",
        "!echo \"localhost:5432:dbpraxis:postgres:pass\" >> ~/.pgpass\n",
        "!chmod 0600 ~/.pgpass\n",
        "!cat ~/.pgpass\n"
      ],
      "metadata": {
        "colab": {
          "base_uri": "https://localhost:8080/"
        },
        "id": "xr5kHaY_U4CZ",
        "outputId": "93c7dcd8-9871-4da8-e4c7-d0b0ddae2393"
      },
      "execution_count": 3,
      "outputs": [
        {
          "output_type": "stream",
          "name": "stdout",
          "text": [
            "ALTER ROLE\n",
            "ALTER ROLE\n",
            "localhost:5432:dbpraxis:upraxis:upass\n",
            "localhost:5432:dbpraxis:postgres:pass\n"
          ]
        }
      ]
    },
    {
      "cell_type": "markdown",
      "source": [
        "## Create and Load Tables"
      ],
      "metadata": {
        "id": "pHTdNzrU6qUE"
      }
    },
    {
      "cell_type": "code",
      "source": [
        "# Create Two tables using command line interface\n",
        "#\n",
        "!psql -h localhost -p 5432 -Uupraxis -ddbpraxis -c \\\n",
        "\"drop table if exists Dept;\\\n",
        "create table Dept (\\\n",
        "    DeptID char(2),\\\n",
        "    DeptName varchar(20),\\\n",
        "    ManagerID char(6),\\\n",
        "    Location varchar(10),\\\n",
        "    LocationID char(1)\\\n",
        "    );\\\n",
        "insert into Dept (DeptID, DeptName, ManagerID, Location,LocationID) VALUES \\\n",
        "\t('10', 'Corporate', '299034', 'Calcutta','1'), \\\n",
        "\t('20', 'Sales', '239456', 'Calcutta','1'), \\\n",
        "\t('30', 'Accounts', '822134', 'Calcutta','1'), \\\n",
        "\t('40', 'Production', '349870', 'Bombay','2'),\\\n",
        "    ('60', 'Research', '546224', 'Delhi','3');\\\n",
        "\""
      ],
      "metadata": {
        "colab": {
          "base_uri": "https://localhost:8080/"
        },
        "id": "DsUZ9JlEXIir",
        "outputId": "43bb30d0-b68b-4307-e20d-37c83a37d035"
      },
      "execution_count": 4,
      "outputs": [
        {
          "output_type": "stream",
          "name": "stdout",
          "text": [
            "NOTICE:  table \"dept\" does not exist, skipping\n",
            "INSERT 0 5\n"
          ]
        }
      ]
    },
    {
      "cell_type": "code",
      "source": [
        "!psql -h localhost -p 5432 -Uupraxis -ddbpraxis -c \\\n",
        "\"drop table if exists Empl;\\\n",
        "create table Empl \\\n",
        "    (EmpID char(6),\\\n",
        "    LastName varchar(20),\\\n",
        "    FirstName varchar(20),\\\n",
        "    JobDesc varchar(10),\\\n",
        "    JoinDate date,\\\n",
        "    Salary int,\\\n",
        "    Comm decimal(3,2),\\\n",
        "    DeptID char(2),\\\n",
        "    HiredBy char(6)\\\n",
        "    );\\\n",
        "INSERT INTO Empl (EmpID, LastName, FirstName, JobDesc, JoinDate, Salary, Comm, DeptID, HiredBy) \\\n",
        "    VALUES \\\n",
        "\t('742866', 'Bacchan', 'Amitabh', 'Executive', '2003-03-10', 50000, 0.1, '10', NULL), \\\n",
        "\t('349870', 'Mukherjee', 'Rani', 'Manager', '2005-05-04', 25000, 0.06, '40', '742866'), \\\n",
        "\t('865477', 'Dikshit', 'Madhuri', 'Clerk', '2002-04-04', 10000, 0.02, '20', '239456'), \\\n",
        "\t('239456', 'Khan', 'Shahrukh', 'Manager', '2004-01-03', 30000, 0.07, '20', '742866'), \\\n",
        "\t('897889', 'Sehwag', 'Virender', 'Cus_Rep', '2005-01-02', 15000, 0.05, '20', '239456'), \\\n",
        "\t('123980', 'Dhoni', 'Mahender', 'Clerk', '2004-10-09', 9000, 0.02, '40', '349870'), \\\n",
        "\t('822134', 'Dravid', 'Rahul', 'Sr Manager', '2000-06-04', 40000, 0.08, '30', '742866'), \\\n",
        "\t('997445', 'Dalmia', 'Jagmohan', 'Clerk', '2001-07-01', 12000, 0.02, '30', '822134'), \\\n",
        "\t('989007', 'Ganguly', 'Sourav', 'Cus_Rep', '2002-01-01', 20000, 0.03, '40', '299034'), \\\n",
        "\t('299034', 'Ganesan', 'Rekha', 'Director', '2002-10-10', 60000, 0.11, '10', '742866'), \\\n",
        "\t('546223', 'Karthikeyan', 'Narayan', 'Secretary', '2005-12-04', 40000, 0.09, '10', '299034'), \\\n",
        "    ('546224', 'Sunil', 'Chettri', 'Dy Manager', '2006-12-07', 40000, 0.05, '70', '989007'), \\\n",
        "\t('223112', 'Mirza', 'Sania', 'Cus_Rep', '2001-11-19', 25000, 0.04, '30', '822134');\\\n",
        "\""
      ],
      "metadata": {
        "colab": {
          "base_uri": "https://localhost:8080/"
        },
        "id": "5kWs3wyEd9Tm",
        "outputId": "e111c18f-9bdf-478e-b726-3f17c2505311"
      },
      "execution_count": 5,
      "outputs": [
        {
          "output_type": "stream",
          "name": "stdout",
          "text": [
            "NOTICE:  table \"empl\" does not exist, skipping\n",
            "INSERT 0 13\n"
          ]
        }
      ]
    },
    {
      "cell_type": "code",
      "source": [
        "#!psql -h localhost -p 5432 -Upostgres -dpraxisdb -c \"select * from dept;\"\n",
        "#!psql -h localhost -p 5432 -Uupraxis -ddbpraxis -c \"select * from dept;\""
      ],
      "metadata": {
        "id": "HyBUhbAI2PV1"
      },
      "execution_count": 6,
      "outputs": []
    },
    {
      "cell_type": "code",
      "source": [
        "#!psql -h localhost -p 5432 -U postgres -d praxisdb -c \"select * from empl;\"\n",
        "#!psql -h localhost -p 5432 -U upraxis -d dbpraxis -c \"select * from empl;\""
      ],
      "metadata": {
        "id": "byY2iccO4ctF"
      },
      "execution_count": 7,
      "outputs": []
    },
    {
      "cell_type": "markdown",
      "source": [
        "## Python Access\n",
        "https://www.tutorialspoint.com/python_data_access/python_postgresql_database_connection.htm"
      ],
      "metadata": {
        "id": "faZEj8_7CeZ8"
      }
    },
    {
      "cell_type": "code",
      "source": [
        "# Local Colab server\n",
        "\n",
        "conn = psycopg2.connect(database=\"dbpraxis\", user='upraxis', password='upass', host='127.0.0.1', port= '5432')\n",
        "#Creating a cursor object using the cursor() method\n",
        "cursor = conn.cursor()\n",
        "#Executing an MYSQL function using the execute() method\n",
        "cursor.execute(\"select version()\")\n",
        "# Fetch a single row using fetchone() method.\n",
        "data = cursor.fetchone()\n",
        "print(\"Connection established to: \",data)\n",
        "#Closing the connection\n",
        "conn.close()"
      ],
      "metadata": {
        "id": "wcE-8UBnC4zV",
        "outputId": "f9473d67-1809-4953-8cf9-5c5f2072d194",
        "colab": {
          "base_uri": "https://localhost:8080/"
        }
      },
      "execution_count": 8,
      "outputs": [
        {
          "output_type": "stream",
          "name": "stdout",
          "text": [
            "Connection established to:  ('PostgreSQL 14.17 (Ubuntu 14.17-0ubuntu0.22.04.1) on x86_64-pc-linux-gnu, compiled by gcc (Ubuntu 11.4.0-1ubuntu1~22.04) 11.4.0, 64-bit',)\n"
          ]
        }
      ]
    },
    {
      "cell_type": "code",
      "source": [
        "# function to execute SQL select statements with Postgres\n",
        "#\n",
        "def runSelect(s):\n",
        "    #Set up connection\n",
        "\n",
        "    conn = psycopg2.connect(database=\"dbpraxis\", user='upraxis', password='upass', host='127.0.0.1', port= '5432')\n",
        "    #Setting auto commit true\n",
        "    conn.autocommit = True\n",
        "    #Creating a cursor object using the cursor() method\n",
        "    cursor = conn.cursor()\n",
        "    #Retrieving data\n",
        "    cursor.execute(s)\n",
        "    #Fetching all rows from the table\n",
        "    result = cursor.fetchall();\n",
        "    #print(len(result))\n",
        "    if (len(result)) > 0:                                       # result contains at least one row\n",
        "        colnames = [desc[0] for desc in cursor.description]     # get column names\n",
        "        #print(colnames)\n",
        "        resultdf = pd.DataFrame(result)                         # convert list to dataframe\n",
        "        resultdf.columns = colnames                             # add column names\n",
        "        #return resultdf\n",
        "        return resultdf.style.hide()                            # hide the index\n",
        "    else:\n",
        "        print('no records found')\n",
        "        return\n",
        "# function to execute SQL non-select statements with Postgres\n",
        "#\n",
        "def runCmd(s):\n",
        "    #Create Connection\n",
        "    conn = psycopg2.connect(database=\"dbpraxis\", user='upraxis', password='upass', host='127.0.0.1', port= '5432')\n",
        "    #Creating a cursor object using the cursor() method\n",
        "    cursor = conn.cursor()\n",
        "    try:\n",
        "        cursor.execute(s)\n",
        "        print('Command executed')\n",
        "        conn.commit()\n",
        "    except:\n",
        "        print('Command failed')\n",
        "    #Closing the connection\n",
        "    conn.close()"
      ],
      "metadata": {
        "id": "ht2k7-3iggNd"
      },
      "execution_count": 9,
      "outputs": []
    },
    {
      "cell_type": "markdown",
      "source": [
        "#Select - getting started"
      ],
      "metadata": {
        "id": "k0rXiciVtu7Q"
      }
    },
    {
      "cell_type": "code",
      "source": [
        "#runSelect(\"select * from dept where deptid = '100'\")\n",
        "#runSelect(\"select * from dept where deptid = '10'\")\n",
        "runSelect(\"select * from dept\")"
      ],
      "metadata": {
        "id": "N3NZv0YahSs6",
        "outputId": "7e7f0f32-020b-4a00-9545-7f6639469e84",
        "colab": {
          "base_uri": "https://localhost:8080/",
          "height": 206
        }
      },
      "execution_count": 10,
      "outputs": [
        {
          "output_type": "execute_result",
          "data": {
            "text/plain": [
              "<pandas.io.formats.style.Styler at 0x7ae638289e10>"
            ],
            "text/html": [
              "<style type=\"text/css\">\n",
              "</style>\n",
              "<table id=\"T_8a174\" class=\"dataframe\">\n",
              "  <thead>\n",
              "    <tr>\n",
              "      <th id=\"T_8a174_level0_col0\" class=\"col_heading level0 col0\" >deptid</th>\n",
              "      <th id=\"T_8a174_level0_col1\" class=\"col_heading level0 col1\" >deptname</th>\n",
              "      <th id=\"T_8a174_level0_col2\" class=\"col_heading level0 col2\" >managerid</th>\n",
              "      <th id=\"T_8a174_level0_col3\" class=\"col_heading level0 col3\" >location</th>\n",
              "      <th id=\"T_8a174_level0_col4\" class=\"col_heading level0 col4\" >locationid</th>\n",
              "    </tr>\n",
              "  </thead>\n",
              "  <tbody>\n",
              "    <tr>\n",
              "      <td id=\"T_8a174_row0_col0\" class=\"data row0 col0\" >10</td>\n",
              "      <td id=\"T_8a174_row0_col1\" class=\"data row0 col1\" >Corporate</td>\n",
              "      <td id=\"T_8a174_row0_col2\" class=\"data row0 col2\" >299034</td>\n",
              "      <td id=\"T_8a174_row0_col3\" class=\"data row0 col3\" >Calcutta</td>\n",
              "      <td id=\"T_8a174_row0_col4\" class=\"data row0 col4\" >1</td>\n",
              "    </tr>\n",
              "    <tr>\n",
              "      <td id=\"T_8a174_row1_col0\" class=\"data row1 col0\" >20</td>\n",
              "      <td id=\"T_8a174_row1_col1\" class=\"data row1 col1\" >Sales</td>\n",
              "      <td id=\"T_8a174_row1_col2\" class=\"data row1 col2\" >239456</td>\n",
              "      <td id=\"T_8a174_row1_col3\" class=\"data row1 col3\" >Calcutta</td>\n",
              "      <td id=\"T_8a174_row1_col4\" class=\"data row1 col4\" >1</td>\n",
              "    </tr>\n",
              "    <tr>\n",
              "      <td id=\"T_8a174_row2_col0\" class=\"data row2 col0\" >30</td>\n",
              "      <td id=\"T_8a174_row2_col1\" class=\"data row2 col1\" >Accounts</td>\n",
              "      <td id=\"T_8a174_row2_col2\" class=\"data row2 col2\" >822134</td>\n",
              "      <td id=\"T_8a174_row2_col3\" class=\"data row2 col3\" >Calcutta</td>\n",
              "      <td id=\"T_8a174_row2_col4\" class=\"data row2 col4\" >1</td>\n",
              "    </tr>\n",
              "    <tr>\n",
              "      <td id=\"T_8a174_row3_col0\" class=\"data row3 col0\" >40</td>\n",
              "      <td id=\"T_8a174_row3_col1\" class=\"data row3 col1\" >Production</td>\n",
              "      <td id=\"T_8a174_row3_col2\" class=\"data row3 col2\" >349870</td>\n",
              "      <td id=\"T_8a174_row3_col3\" class=\"data row3 col3\" >Bombay</td>\n",
              "      <td id=\"T_8a174_row3_col4\" class=\"data row3 col4\" >2</td>\n",
              "    </tr>\n",
              "    <tr>\n",
              "      <td id=\"T_8a174_row4_col0\" class=\"data row4 col0\" >60</td>\n",
              "      <td id=\"T_8a174_row4_col1\" class=\"data row4 col1\" >Research</td>\n",
              "      <td id=\"T_8a174_row4_col2\" class=\"data row4 col2\" >546224</td>\n",
              "      <td id=\"T_8a174_row4_col3\" class=\"data row4 col3\" >Delhi</td>\n",
              "      <td id=\"T_8a174_row4_col4\" class=\"data row4 col4\" >3</td>\n",
              "    </tr>\n",
              "  </tbody>\n",
              "</table>\n"
            ]
          },
          "metadata": {},
          "execution_count": 10
        }
      ]
    },
    {
      "cell_type": "code",
      "source": [
        "runSelect('select * from empl')"
      ],
      "metadata": {
        "id": "Otiv4rjSl5Tg",
        "outputId": "61d9e11d-468f-4325-ec24-ef3f18778e57",
        "colab": {
          "base_uri": "https://localhost:8080/",
          "height": 457
        }
      },
      "execution_count": 11,
      "outputs": [
        {
          "output_type": "execute_result",
          "data": {
            "text/plain": [
              "<pandas.io.formats.style.Styler at 0x7ae5fbaf4e10>"
            ],
            "text/html": [
              "<style type=\"text/css\">\n",
              "</style>\n",
              "<table id=\"T_f9d4e\" class=\"dataframe\">\n",
              "  <thead>\n",
              "    <tr>\n",
              "      <th id=\"T_f9d4e_level0_col0\" class=\"col_heading level0 col0\" >empid</th>\n",
              "      <th id=\"T_f9d4e_level0_col1\" class=\"col_heading level0 col1\" >lastname</th>\n",
              "      <th id=\"T_f9d4e_level0_col2\" class=\"col_heading level0 col2\" >firstname</th>\n",
              "      <th id=\"T_f9d4e_level0_col3\" class=\"col_heading level0 col3\" >jobdesc</th>\n",
              "      <th id=\"T_f9d4e_level0_col4\" class=\"col_heading level0 col4\" >joindate</th>\n",
              "      <th id=\"T_f9d4e_level0_col5\" class=\"col_heading level0 col5\" >salary</th>\n",
              "      <th id=\"T_f9d4e_level0_col6\" class=\"col_heading level0 col6\" >comm</th>\n",
              "      <th id=\"T_f9d4e_level0_col7\" class=\"col_heading level0 col7\" >deptid</th>\n",
              "      <th id=\"T_f9d4e_level0_col8\" class=\"col_heading level0 col8\" >hiredby</th>\n",
              "    </tr>\n",
              "  </thead>\n",
              "  <tbody>\n",
              "    <tr>\n",
              "      <td id=\"T_f9d4e_row0_col0\" class=\"data row0 col0\" >742866</td>\n",
              "      <td id=\"T_f9d4e_row0_col1\" class=\"data row0 col1\" >Bacchan</td>\n",
              "      <td id=\"T_f9d4e_row0_col2\" class=\"data row0 col2\" >Amitabh</td>\n",
              "      <td id=\"T_f9d4e_row0_col3\" class=\"data row0 col3\" >Executive</td>\n",
              "      <td id=\"T_f9d4e_row0_col4\" class=\"data row0 col4\" >2003-03-10</td>\n",
              "      <td id=\"T_f9d4e_row0_col5\" class=\"data row0 col5\" >50000</td>\n",
              "      <td id=\"T_f9d4e_row0_col6\" class=\"data row0 col6\" >0.10</td>\n",
              "      <td id=\"T_f9d4e_row0_col7\" class=\"data row0 col7\" >10</td>\n",
              "      <td id=\"T_f9d4e_row0_col8\" class=\"data row0 col8\" >None</td>\n",
              "    </tr>\n",
              "    <tr>\n",
              "      <td id=\"T_f9d4e_row1_col0\" class=\"data row1 col0\" >349870</td>\n",
              "      <td id=\"T_f9d4e_row1_col1\" class=\"data row1 col1\" >Mukherjee</td>\n",
              "      <td id=\"T_f9d4e_row1_col2\" class=\"data row1 col2\" >Rani</td>\n",
              "      <td id=\"T_f9d4e_row1_col3\" class=\"data row1 col3\" >Manager</td>\n",
              "      <td id=\"T_f9d4e_row1_col4\" class=\"data row1 col4\" >2005-05-04</td>\n",
              "      <td id=\"T_f9d4e_row1_col5\" class=\"data row1 col5\" >25000</td>\n",
              "      <td id=\"T_f9d4e_row1_col6\" class=\"data row1 col6\" >0.06</td>\n",
              "      <td id=\"T_f9d4e_row1_col7\" class=\"data row1 col7\" >40</td>\n",
              "      <td id=\"T_f9d4e_row1_col8\" class=\"data row1 col8\" >742866</td>\n",
              "    </tr>\n",
              "    <tr>\n",
              "      <td id=\"T_f9d4e_row2_col0\" class=\"data row2 col0\" >865477</td>\n",
              "      <td id=\"T_f9d4e_row2_col1\" class=\"data row2 col1\" >Dikshit</td>\n",
              "      <td id=\"T_f9d4e_row2_col2\" class=\"data row2 col2\" >Madhuri</td>\n",
              "      <td id=\"T_f9d4e_row2_col3\" class=\"data row2 col3\" >Clerk</td>\n",
              "      <td id=\"T_f9d4e_row2_col4\" class=\"data row2 col4\" >2002-04-04</td>\n",
              "      <td id=\"T_f9d4e_row2_col5\" class=\"data row2 col5\" >10000</td>\n",
              "      <td id=\"T_f9d4e_row2_col6\" class=\"data row2 col6\" >0.02</td>\n",
              "      <td id=\"T_f9d4e_row2_col7\" class=\"data row2 col7\" >20</td>\n",
              "      <td id=\"T_f9d4e_row2_col8\" class=\"data row2 col8\" >239456</td>\n",
              "    </tr>\n",
              "    <tr>\n",
              "      <td id=\"T_f9d4e_row3_col0\" class=\"data row3 col0\" >239456</td>\n",
              "      <td id=\"T_f9d4e_row3_col1\" class=\"data row3 col1\" >Khan</td>\n",
              "      <td id=\"T_f9d4e_row3_col2\" class=\"data row3 col2\" >Shahrukh</td>\n",
              "      <td id=\"T_f9d4e_row3_col3\" class=\"data row3 col3\" >Manager</td>\n",
              "      <td id=\"T_f9d4e_row3_col4\" class=\"data row3 col4\" >2004-01-03</td>\n",
              "      <td id=\"T_f9d4e_row3_col5\" class=\"data row3 col5\" >30000</td>\n",
              "      <td id=\"T_f9d4e_row3_col6\" class=\"data row3 col6\" >0.07</td>\n",
              "      <td id=\"T_f9d4e_row3_col7\" class=\"data row3 col7\" >20</td>\n",
              "      <td id=\"T_f9d4e_row3_col8\" class=\"data row3 col8\" >742866</td>\n",
              "    </tr>\n",
              "    <tr>\n",
              "      <td id=\"T_f9d4e_row4_col0\" class=\"data row4 col0\" >897889</td>\n",
              "      <td id=\"T_f9d4e_row4_col1\" class=\"data row4 col1\" >Sehwag</td>\n",
              "      <td id=\"T_f9d4e_row4_col2\" class=\"data row4 col2\" >Virender</td>\n",
              "      <td id=\"T_f9d4e_row4_col3\" class=\"data row4 col3\" >Cus_Rep</td>\n",
              "      <td id=\"T_f9d4e_row4_col4\" class=\"data row4 col4\" >2005-01-02</td>\n",
              "      <td id=\"T_f9d4e_row4_col5\" class=\"data row4 col5\" >15000</td>\n",
              "      <td id=\"T_f9d4e_row4_col6\" class=\"data row4 col6\" >0.05</td>\n",
              "      <td id=\"T_f9d4e_row4_col7\" class=\"data row4 col7\" >20</td>\n",
              "      <td id=\"T_f9d4e_row4_col8\" class=\"data row4 col8\" >239456</td>\n",
              "    </tr>\n",
              "    <tr>\n",
              "      <td id=\"T_f9d4e_row5_col0\" class=\"data row5 col0\" >123980</td>\n",
              "      <td id=\"T_f9d4e_row5_col1\" class=\"data row5 col1\" >Dhoni</td>\n",
              "      <td id=\"T_f9d4e_row5_col2\" class=\"data row5 col2\" >Mahender</td>\n",
              "      <td id=\"T_f9d4e_row5_col3\" class=\"data row5 col3\" >Clerk</td>\n",
              "      <td id=\"T_f9d4e_row5_col4\" class=\"data row5 col4\" >2004-10-09</td>\n",
              "      <td id=\"T_f9d4e_row5_col5\" class=\"data row5 col5\" >9000</td>\n",
              "      <td id=\"T_f9d4e_row5_col6\" class=\"data row5 col6\" >0.02</td>\n",
              "      <td id=\"T_f9d4e_row5_col7\" class=\"data row5 col7\" >40</td>\n",
              "      <td id=\"T_f9d4e_row5_col8\" class=\"data row5 col8\" >349870</td>\n",
              "    </tr>\n",
              "    <tr>\n",
              "      <td id=\"T_f9d4e_row6_col0\" class=\"data row6 col0\" >822134</td>\n",
              "      <td id=\"T_f9d4e_row6_col1\" class=\"data row6 col1\" >Dravid</td>\n",
              "      <td id=\"T_f9d4e_row6_col2\" class=\"data row6 col2\" >Rahul</td>\n",
              "      <td id=\"T_f9d4e_row6_col3\" class=\"data row6 col3\" >Sr Manager</td>\n",
              "      <td id=\"T_f9d4e_row6_col4\" class=\"data row6 col4\" >2000-06-04</td>\n",
              "      <td id=\"T_f9d4e_row6_col5\" class=\"data row6 col5\" >40000</td>\n",
              "      <td id=\"T_f9d4e_row6_col6\" class=\"data row6 col6\" >0.08</td>\n",
              "      <td id=\"T_f9d4e_row6_col7\" class=\"data row6 col7\" >30</td>\n",
              "      <td id=\"T_f9d4e_row6_col8\" class=\"data row6 col8\" >742866</td>\n",
              "    </tr>\n",
              "    <tr>\n",
              "      <td id=\"T_f9d4e_row7_col0\" class=\"data row7 col0\" >997445</td>\n",
              "      <td id=\"T_f9d4e_row7_col1\" class=\"data row7 col1\" >Dalmia</td>\n",
              "      <td id=\"T_f9d4e_row7_col2\" class=\"data row7 col2\" >Jagmohan</td>\n",
              "      <td id=\"T_f9d4e_row7_col3\" class=\"data row7 col3\" >Clerk</td>\n",
              "      <td id=\"T_f9d4e_row7_col4\" class=\"data row7 col4\" >2001-07-01</td>\n",
              "      <td id=\"T_f9d4e_row7_col5\" class=\"data row7 col5\" >12000</td>\n",
              "      <td id=\"T_f9d4e_row7_col6\" class=\"data row7 col6\" >0.02</td>\n",
              "      <td id=\"T_f9d4e_row7_col7\" class=\"data row7 col7\" >30</td>\n",
              "      <td id=\"T_f9d4e_row7_col8\" class=\"data row7 col8\" >822134</td>\n",
              "    </tr>\n",
              "    <tr>\n",
              "      <td id=\"T_f9d4e_row8_col0\" class=\"data row8 col0\" >989007</td>\n",
              "      <td id=\"T_f9d4e_row8_col1\" class=\"data row8 col1\" >Ganguly</td>\n",
              "      <td id=\"T_f9d4e_row8_col2\" class=\"data row8 col2\" >Sourav</td>\n",
              "      <td id=\"T_f9d4e_row8_col3\" class=\"data row8 col3\" >Cus_Rep</td>\n",
              "      <td id=\"T_f9d4e_row8_col4\" class=\"data row8 col4\" >2002-01-01</td>\n",
              "      <td id=\"T_f9d4e_row8_col5\" class=\"data row8 col5\" >20000</td>\n",
              "      <td id=\"T_f9d4e_row8_col6\" class=\"data row8 col6\" >0.03</td>\n",
              "      <td id=\"T_f9d4e_row8_col7\" class=\"data row8 col7\" >40</td>\n",
              "      <td id=\"T_f9d4e_row8_col8\" class=\"data row8 col8\" >299034</td>\n",
              "    </tr>\n",
              "    <tr>\n",
              "      <td id=\"T_f9d4e_row9_col0\" class=\"data row9 col0\" >299034</td>\n",
              "      <td id=\"T_f9d4e_row9_col1\" class=\"data row9 col1\" >Ganesan</td>\n",
              "      <td id=\"T_f9d4e_row9_col2\" class=\"data row9 col2\" >Rekha</td>\n",
              "      <td id=\"T_f9d4e_row9_col3\" class=\"data row9 col3\" >Director</td>\n",
              "      <td id=\"T_f9d4e_row9_col4\" class=\"data row9 col4\" >2002-10-10</td>\n",
              "      <td id=\"T_f9d4e_row9_col5\" class=\"data row9 col5\" >60000</td>\n",
              "      <td id=\"T_f9d4e_row9_col6\" class=\"data row9 col6\" >0.11</td>\n",
              "      <td id=\"T_f9d4e_row9_col7\" class=\"data row9 col7\" >10</td>\n",
              "      <td id=\"T_f9d4e_row9_col8\" class=\"data row9 col8\" >742866</td>\n",
              "    </tr>\n",
              "    <tr>\n",
              "      <td id=\"T_f9d4e_row10_col0\" class=\"data row10 col0\" >546223</td>\n",
              "      <td id=\"T_f9d4e_row10_col1\" class=\"data row10 col1\" >Karthikeyan</td>\n",
              "      <td id=\"T_f9d4e_row10_col2\" class=\"data row10 col2\" >Narayan</td>\n",
              "      <td id=\"T_f9d4e_row10_col3\" class=\"data row10 col3\" >Secretary</td>\n",
              "      <td id=\"T_f9d4e_row10_col4\" class=\"data row10 col4\" >2005-12-04</td>\n",
              "      <td id=\"T_f9d4e_row10_col5\" class=\"data row10 col5\" >40000</td>\n",
              "      <td id=\"T_f9d4e_row10_col6\" class=\"data row10 col6\" >0.09</td>\n",
              "      <td id=\"T_f9d4e_row10_col7\" class=\"data row10 col7\" >10</td>\n",
              "      <td id=\"T_f9d4e_row10_col8\" class=\"data row10 col8\" >299034</td>\n",
              "    </tr>\n",
              "    <tr>\n",
              "      <td id=\"T_f9d4e_row11_col0\" class=\"data row11 col0\" >546224</td>\n",
              "      <td id=\"T_f9d4e_row11_col1\" class=\"data row11 col1\" >Sunil</td>\n",
              "      <td id=\"T_f9d4e_row11_col2\" class=\"data row11 col2\" >Chettri</td>\n",
              "      <td id=\"T_f9d4e_row11_col3\" class=\"data row11 col3\" >Dy Manager</td>\n",
              "      <td id=\"T_f9d4e_row11_col4\" class=\"data row11 col4\" >2006-12-07</td>\n",
              "      <td id=\"T_f9d4e_row11_col5\" class=\"data row11 col5\" >40000</td>\n",
              "      <td id=\"T_f9d4e_row11_col6\" class=\"data row11 col6\" >0.05</td>\n",
              "      <td id=\"T_f9d4e_row11_col7\" class=\"data row11 col7\" >70</td>\n",
              "      <td id=\"T_f9d4e_row11_col8\" class=\"data row11 col8\" >989007</td>\n",
              "    </tr>\n",
              "    <tr>\n",
              "      <td id=\"T_f9d4e_row12_col0\" class=\"data row12 col0\" >223112</td>\n",
              "      <td id=\"T_f9d4e_row12_col1\" class=\"data row12 col1\" >Mirza</td>\n",
              "      <td id=\"T_f9d4e_row12_col2\" class=\"data row12 col2\" >Sania</td>\n",
              "      <td id=\"T_f9d4e_row12_col3\" class=\"data row12 col3\" >Cus_Rep</td>\n",
              "      <td id=\"T_f9d4e_row12_col4\" class=\"data row12 col4\" >2001-11-19</td>\n",
              "      <td id=\"T_f9d4e_row12_col5\" class=\"data row12 col5\" >25000</td>\n",
              "      <td id=\"T_f9d4e_row12_col6\" class=\"data row12 col6\" >0.04</td>\n",
              "      <td id=\"T_f9d4e_row12_col7\" class=\"data row12 col7\" >30</td>\n",
              "      <td id=\"T_f9d4e_row12_col8\" class=\"data row12 col8\" >822134</td>\n",
              "    </tr>\n",
              "  </tbody>\n",
              "</table>\n"
            ]
          },
          "metadata": {},
          "execution_count": 11
        }
      ]
    },
    {
      "cell_type": "code",
      "source": [
        "runSelect('select lastname, jobdesc, salary from empl')"
      ],
      "metadata": {
        "id": "z-mxVMPuuxu6",
        "outputId": "3aa57980-b9bb-4346-938c-4a9755d1ce06",
        "colab": {
          "base_uri": "https://localhost:8080/",
          "height": 457
        }
      },
      "execution_count": 12,
      "outputs": [
        {
          "output_type": "execute_result",
          "data": {
            "text/plain": [
              "<pandas.io.formats.style.Styler at 0x7ae5fbab34d0>"
            ],
            "text/html": [
              "<style type=\"text/css\">\n",
              "</style>\n",
              "<table id=\"T_79fb2\" class=\"dataframe\">\n",
              "  <thead>\n",
              "    <tr>\n",
              "      <th id=\"T_79fb2_level0_col0\" class=\"col_heading level0 col0\" >lastname</th>\n",
              "      <th id=\"T_79fb2_level0_col1\" class=\"col_heading level0 col1\" >jobdesc</th>\n",
              "      <th id=\"T_79fb2_level0_col2\" class=\"col_heading level0 col2\" >salary</th>\n",
              "    </tr>\n",
              "  </thead>\n",
              "  <tbody>\n",
              "    <tr>\n",
              "      <td id=\"T_79fb2_row0_col0\" class=\"data row0 col0\" >Bacchan</td>\n",
              "      <td id=\"T_79fb2_row0_col1\" class=\"data row0 col1\" >Executive</td>\n",
              "      <td id=\"T_79fb2_row0_col2\" class=\"data row0 col2\" >50000</td>\n",
              "    </tr>\n",
              "    <tr>\n",
              "      <td id=\"T_79fb2_row1_col0\" class=\"data row1 col0\" >Mukherjee</td>\n",
              "      <td id=\"T_79fb2_row1_col1\" class=\"data row1 col1\" >Manager</td>\n",
              "      <td id=\"T_79fb2_row1_col2\" class=\"data row1 col2\" >25000</td>\n",
              "    </tr>\n",
              "    <tr>\n",
              "      <td id=\"T_79fb2_row2_col0\" class=\"data row2 col0\" >Dikshit</td>\n",
              "      <td id=\"T_79fb2_row2_col1\" class=\"data row2 col1\" >Clerk</td>\n",
              "      <td id=\"T_79fb2_row2_col2\" class=\"data row2 col2\" >10000</td>\n",
              "    </tr>\n",
              "    <tr>\n",
              "      <td id=\"T_79fb2_row3_col0\" class=\"data row3 col0\" >Khan</td>\n",
              "      <td id=\"T_79fb2_row3_col1\" class=\"data row3 col1\" >Manager</td>\n",
              "      <td id=\"T_79fb2_row3_col2\" class=\"data row3 col2\" >30000</td>\n",
              "    </tr>\n",
              "    <tr>\n",
              "      <td id=\"T_79fb2_row4_col0\" class=\"data row4 col0\" >Sehwag</td>\n",
              "      <td id=\"T_79fb2_row4_col1\" class=\"data row4 col1\" >Cus_Rep</td>\n",
              "      <td id=\"T_79fb2_row4_col2\" class=\"data row4 col2\" >15000</td>\n",
              "    </tr>\n",
              "    <tr>\n",
              "      <td id=\"T_79fb2_row5_col0\" class=\"data row5 col0\" >Dhoni</td>\n",
              "      <td id=\"T_79fb2_row5_col1\" class=\"data row5 col1\" >Clerk</td>\n",
              "      <td id=\"T_79fb2_row5_col2\" class=\"data row5 col2\" >9000</td>\n",
              "    </tr>\n",
              "    <tr>\n",
              "      <td id=\"T_79fb2_row6_col0\" class=\"data row6 col0\" >Dravid</td>\n",
              "      <td id=\"T_79fb2_row6_col1\" class=\"data row6 col1\" >Sr Manager</td>\n",
              "      <td id=\"T_79fb2_row6_col2\" class=\"data row6 col2\" >40000</td>\n",
              "    </tr>\n",
              "    <tr>\n",
              "      <td id=\"T_79fb2_row7_col0\" class=\"data row7 col0\" >Dalmia</td>\n",
              "      <td id=\"T_79fb2_row7_col1\" class=\"data row7 col1\" >Clerk</td>\n",
              "      <td id=\"T_79fb2_row7_col2\" class=\"data row7 col2\" >12000</td>\n",
              "    </tr>\n",
              "    <tr>\n",
              "      <td id=\"T_79fb2_row8_col0\" class=\"data row8 col0\" >Ganguly</td>\n",
              "      <td id=\"T_79fb2_row8_col1\" class=\"data row8 col1\" >Cus_Rep</td>\n",
              "      <td id=\"T_79fb2_row8_col2\" class=\"data row8 col2\" >20000</td>\n",
              "    </tr>\n",
              "    <tr>\n",
              "      <td id=\"T_79fb2_row9_col0\" class=\"data row9 col0\" >Ganesan</td>\n",
              "      <td id=\"T_79fb2_row9_col1\" class=\"data row9 col1\" >Director</td>\n",
              "      <td id=\"T_79fb2_row9_col2\" class=\"data row9 col2\" >60000</td>\n",
              "    </tr>\n",
              "    <tr>\n",
              "      <td id=\"T_79fb2_row10_col0\" class=\"data row10 col0\" >Karthikeyan</td>\n",
              "      <td id=\"T_79fb2_row10_col1\" class=\"data row10 col1\" >Secretary</td>\n",
              "      <td id=\"T_79fb2_row10_col2\" class=\"data row10 col2\" >40000</td>\n",
              "    </tr>\n",
              "    <tr>\n",
              "      <td id=\"T_79fb2_row11_col0\" class=\"data row11 col0\" >Sunil</td>\n",
              "      <td id=\"T_79fb2_row11_col1\" class=\"data row11 col1\" >Dy Manager</td>\n",
              "      <td id=\"T_79fb2_row11_col2\" class=\"data row11 col2\" >40000</td>\n",
              "    </tr>\n",
              "    <tr>\n",
              "      <td id=\"T_79fb2_row12_col0\" class=\"data row12 col0\" >Mirza</td>\n",
              "      <td id=\"T_79fb2_row12_col1\" class=\"data row12 col1\" >Cus_Rep</td>\n",
              "      <td id=\"T_79fb2_row12_col2\" class=\"data row12 col2\" >25000</td>\n",
              "    </tr>\n",
              "  </tbody>\n",
              "</table>\n"
            ]
          },
          "metadata": {},
          "execution_count": 12
        }
      ]
    },
    {
      "cell_type": "code",
      "source": [
        "runSelect('select distinct(jobdesc) from empl')"
      ],
      "metadata": {
        "id": "7uvcAdlCvg-p",
        "outputId": "498c9679-18ae-4648-8a6f-230d522a7668",
        "colab": {
          "base_uri": "https://localhost:8080/",
          "height": 300
        }
      },
      "execution_count": 13,
      "outputs": [
        {
          "output_type": "execute_result",
          "data": {
            "text/plain": [
              "<pandas.io.formats.style.Styler at 0x7ae5fbaac3d0>"
            ],
            "text/html": [
              "<style type=\"text/css\">\n",
              "</style>\n",
              "<table id=\"T_54290\" class=\"dataframe\">\n",
              "  <thead>\n",
              "    <tr>\n",
              "      <th id=\"T_54290_level0_col0\" class=\"col_heading level0 col0\" >jobdesc</th>\n",
              "    </tr>\n",
              "  </thead>\n",
              "  <tbody>\n",
              "    <tr>\n",
              "      <td id=\"T_54290_row0_col0\" class=\"data row0 col0\" >Director</td>\n",
              "    </tr>\n",
              "    <tr>\n",
              "      <td id=\"T_54290_row1_col0\" class=\"data row1 col0\" >Manager</td>\n",
              "    </tr>\n",
              "    <tr>\n",
              "      <td id=\"T_54290_row2_col0\" class=\"data row2 col0\" >Dy Manager</td>\n",
              "    </tr>\n",
              "    <tr>\n",
              "      <td id=\"T_54290_row3_col0\" class=\"data row3 col0\" >Executive</td>\n",
              "    </tr>\n",
              "    <tr>\n",
              "      <td id=\"T_54290_row4_col0\" class=\"data row4 col0\" >Secretary</td>\n",
              "    </tr>\n",
              "    <tr>\n",
              "      <td id=\"T_54290_row5_col0\" class=\"data row5 col0\" >Cus_Rep</td>\n",
              "    </tr>\n",
              "    <tr>\n",
              "      <td id=\"T_54290_row6_col0\" class=\"data row6 col0\" >Clerk</td>\n",
              "    </tr>\n",
              "    <tr>\n",
              "      <td id=\"T_54290_row7_col0\" class=\"data row7 col0\" >Sr Manager</td>\n",
              "    </tr>\n",
              "  </tbody>\n",
              "</table>\n"
            ]
          },
          "metadata": {},
          "execution_count": 13
        }
      ]
    },
    {
      "cell_type": "markdown",
      "source": [
        "#Where"
      ],
      "metadata": {
        "id": "LFbNG59OxVzF"
      }
    },
    {
      "cell_type": "markdown",
      "source": [
        "## Equal, Not Equal, Greater, Less"
      ],
      "metadata": {
        "id": "JM2k29awVQHc"
      }
    },
    {
      "cell_type": "code",
      "source": [
        "runSelect(\"select firstname, lastname, jobdesc from empl where jobdesc = 'Clerk'\")"
      ],
      "metadata": {
        "id": "rRZz9OpLxdEY",
        "outputId": "b90d49b2-cfb8-4f9b-f28e-04728a1f07bb",
        "colab": {
          "base_uri": "https://localhost:8080/",
          "height": 143
        }
      },
      "execution_count": 14,
      "outputs": [
        {
          "output_type": "execute_result",
          "data": {
            "text/plain": [
              "<pandas.io.formats.style.Styler at 0x7ae5fbb1f490>"
            ],
            "text/html": [
              "<style type=\"text/css\">\n",
              "</style>\n",
              "<table id=\"T_1b60f\" class=\"dataframe\">\n",
              "  <thead>\n",
              "    <tr>\n",
              "      <th id=\"T_1b60f_level0_col0\" class=\"col_heading level0 col0\" >firstname</th>\n",
              "      <th id=\"T_1b60f_level0_col1\" class=\"col_heading level0 col1\" >lastname</th>\n",
              "      <th id=\"T_1b60f_level0_col2\" class=\"col_heading level0 col2\" >jobdesc</th>\n",
              "    </tr>\n",
              "  </thead>\n",
              "  <tbody>\n",
              "    <tr>\n",
              "      <td id=\"T_1b60f_row0_col0\" class=\"data row0 col0\" >Madhuri</td>\n",
              "      <td id=\"T_1b60f_row0_col1\" class=\"data row0 col1\" >Dikshit</td>\n",
              "      <td id=\"T_1b60f_row0_col2\" class=\"data row0 col2\" >Clerk</td>\n",
              "    </tr>\n",
              "    <tr>\n",
              "      <td id=\"T_1b60f_row1_col0\" class=\"data row1 col0\" >Mahender</td>\n",
              "      <td id=\"T_1b60f_row1_col1\" class=\"data row1 col1\" >Dhoni</td>\n",
              "      <td id=\"T_1b60f_row1_col2\" class=\"data row1 col2\" >Clerk</td>\n",
              "    </tr>\n",
              "    <tr>\n",
              "      <td id=\"T_1b60f_row2_col0\" class=\"data row2 col0\" >Jagmohan</td>\n",
              "      <td id=\"T_1b60f_row2_col1\" class=\"data row2 col1\" >Dalmia</td>\n",
              "      <td id=\"T_1b60f_row2_col2\" class=\"data row2 col2\" >Clerk</td>\n",
              "    </tr>\n",
              "  </tbody>\n",
              "</table>\n"
            ]
          },
          "metadata": {},
          "execution_count": 14
        }
      ]
    },
    {
      "cell_type": "code",
      "source": [
        "runSelect(\"select firstname, lastname, jobdesc from empl where jobdesc != 'Clerk'\")"
      ],
      "metadata": {
        "id": "3cl0ISR9yG-I",
        "outputId": "27ba77a8-dcc2-4790-de1c-a5cd536b2f75",
        "colab": {
          "base_uri": "https://localhost:8080/",
          "height": 363
        }
      },
      "execution_count": 15,
      "outputs": [
        {
          "output_type": "execute_result",
          "data": {
            "text/plain": [
              "<pandas.io.formats.style.Styler at 0x7ae5fbb1dc90>"
            ],
            "text/html": [
              "<style type=\"text/css\">\n",
              "</style>\n",
              "<table id=\"T_e64a1\" class=\"dataframe\">\n",
              "  <thead>\n",
              "    <tr>\n",
              "      <th id=\"T_e64a1_level0_col0\" class=\"col_heading level0 col0\" >firstname</th>\n",
              "      <th id=\"T_e64a1_level0_col1\" class=\"col_heading level0 col1\" >lastname</th>\n",
              "      <th id=\"T_e64a1_level0_col2\" class=\"col_heading level0 col2\" >jobdesc</th>\n",
              "    </tr>\n",
              "  </thead>\n",
              "  <tbody>\n",
              "    <tr>\n",
              "      <td id=\"T_e64a1_row0_col0\" class=\"data row0 col0\" >Amitabh</td>\n",
              "      <td id=\"T_e64a1_row0_col1\" class=\"data row0 col1\" >Bacchan</td>\n",
              "      <td id=\"T_e64a1_row0_col2\" class=\"data row0 col2\" >Executive</td>\n",
              "    </tr>\n",
              "    <tr>\n",
              "      <td id=\"T_e64a1_row1_col0\" class=\"data row1 col0\" >Rani</td>\n",
              "      <td id=\"T_e64a1_row1_col1\" class=\"data row1 col1\" >Mukherjee</td>\n",
              "      <td id=\"T_e64a1_row1_col2\" class=\"data row1 col2\" >Manager</td>\n",
              "    </tr>\n",
              "    <tr>\n",
              "      <td id=\"T_e64a1_row2_col0\" class=\"data row2 col0\" >Shahrukh</td>\n",
              "      <td id=\"T_e64a1_row2_col1\" class=\"data row2 col1\" >Khan</td>\n",
              "      <td id=\"T_e64a1_row2_col2\" class=\"data row2 col2\" >Manager</td>\n",
              "    </tr>\n",
              "    <tr>\n",
              "      <td id=\"T_e64a1_row3_col0\" class=\"data row3 col0\" >Virender</td>\n",
              "      <td id=\"T_e64a1_row3_col1\" class=\"data row3 col1\" >Sehwag</td>\n",
              "      <td id=\"T_e64a1_row3_col2\" class=\"data row3 col2\" >Cus_Rep</td>\n",
              "    </tr>\n",
              "    <tr>\n",
              "      <td id=\"T_e64a1_row4_col0\" class=\"data row4 col0\" >Rahul</td>\n",
              "      <td id=\"T_e64a1_row4_col1\" class=\"data row4 col1\" >Dravid</td>\n",
              "      <td id=\"T_e64a1_row4_col2\" class=\"data row4 col2\" >Sr Manager</td>\n",
              "    </tr>\n",
              "    <tr>\n",
              "      <td id=\"T_e64a1_row5_col0\" class=\"data row5 col0\" >Sourav</td>\n",
              "      <td id=\"T_e64a1_row5_col1\" class=\"data row5 col1\" >Ganguly</td>\n",
              "      <td id=\"T_e64a1_row5_col2\" class=\"data row5 col2\" >Cus_Rep</td>\n",
              "    </tr>\n",
              "    <tr>\n",
              "      <td id=\"T_e64a1_row6_col0\" class=\"data row6 col0\" >Rekha</td>\n",
              "      <td id=\"T_e64a1_row6_col1\" class=\"data row6 col1\" >Ganesan</td>\n",
              "      <td id=\"T_e64a1_row6_col2\" class=\"data row6 col2\" >Director</td>\n",
              "    </tr>\n",
              "    <tr>\n",
              "      <td id=\"T_e64a1_row7_col0\" class=\"data row7 col0\" >Narayan</td>\n",
              "      <td id=\"T_e64a1_row7_col1\" class=\"data row7 col1\" >Karthikeyan</td>\n",
              "      <td id=\"T_e64a1_row7_col2\" class=\"data row7 col2\" >Secretary</td>\n",
              "    </tr>\n",
              "    <tr>\n",
              "      <td id=\"T_e64a1_row8_col0\" class=\"data row8 col0\" >Chettri</td>\n",
              "      <td id=\"T_e64a1_row8_col1\" class=\"data row8 col1\" >Sunil</td>\n",
              "      <td id=\"T_e64a1_row8_col2\" class=\"data row8 col2\" >Dy Manager</td>\n",
              "    </tr>\n",
              "    <tr>\n",
              "      <td id=\"T_e64a1_row9_col0\" class=\"data row9 col0\" >Sania</td>\n",
              "      <td id=\"T_e64a1_row9_col1\" class=\"data row9 col1\" >Mirza</td>\n",
              "      <td id=\"T_e64a1_row9_col2\" class=\"data row9 col2\" >Cus_Rep</td>\n",
              "    </tr>\n",
              "  </tbody>\n",
              "</table>\n"
            ]
          },
          "metadata": {},
          "execution_count": 15
        }
      ]
    },
    {
      "cell_type": "code",
      "source": [
        "runSelect(\"select firstname, lastname, salary from empl where salary > 35000\")"
      ],
      "metadata": {
        "id": "obIPpNbDyT4S",
        "outputId": "2eee2fb9-5b36-49fe-90e7-1b671031647f",
        "colab": {
          "base_uri": "https://localhost:8080/",
          "height": 206
        }
      },
      "execution_count": 16,
      "outputs": [
        {
          "output_type": "execute_result",
          "data": {
            "text/plain": [
              "<pandas.io.formats.style.Styler at 0x7ae5fb922290>"
            ],
            "text/html": [
              "<style type=\"text/css\">\n",
              "</style>\n",
              "<table id=\"T_f9ada\" class=\"dataframe\">\n",
              "  <thead>\n",
              "    <tr>\n",
              "      <th id=\"T_f9ada_level0_col0\" class=\"col_heading level0 col0\" >firstname</th>\n",
              "      <th id=\"T_f9ada_level0_col1\" class=\"col_heading level0 col1\" >lastname</th>\n",
              "      <th id=\"T_f9ada_level0_col2\" class=\"col_heading level0 col2\" >salary</th>\n",
              "    </tr>\n",
              "  </thead>\n",
              "  <tbody>\n",
              "    <tr>\n",
              "      <td id=\"T_f9ada_row0_col0\" class=\"data row0 col0\" >Amitabh</td>\n",
              "      <td id=\"T_f9ada_row0_col1\" class=\"data row0 col1\" >Bacchan</td>\n",
              "      <td id=\"T_f9ada_row0_col2\" class=\"data row0 col2\" >50000</td>\n",
              "    </tr>\n",
              "    <tr>\n",
              "      <td id=\"T_f9ada_row1_col0\" class=\"data row1 col0\" >Rahul</td>\n",
              "      <td id=\"T_f9ada_row1_col1\" class=\"data row1 col1\" >Dravid</td>\n",
              "      <td id=\"T_f9ada_row1_col2\" class=\"data row1 col2\" >40000</td>\n",
              "    </tr>\n",
              "    <tr>\n",
              "      <td id=\"T_f9ada_row2_col0\" class=\"data row2 col0\" >Rekha</td>\n",
              "      <td id=\"T_f9ada_row2_col1\" class=\"data row2 col1\" >Ganesan</td>\n",
              "      <td id=\"T_f9ada_row2_col2\" class=\"data row2 col2\" >60000</td>\n",
              "    </tr>\n",
              "    <tr>\n",
              "      <td id=\"T_f9ada_row3_col0\" class=\"data row3 col0\" >Narayan</td>\n",
              "      <td id=\"T_f9ada_row3_col1\" class=\"data row3 col1\" >Karthikeyan</td>\n",
              "      <td id=\"T_f9ada_row3_col2\" class=\"data row3 col2\" >40000</td>\n",
              "    </tr>\n",
              "    <tr>\n",
              "      <td id=\"T_f9ada_row4_col0\" class=\"data row4 col0\" >Chettri</td>\n",
              "      <td id=\"T_f9ada_row4_col1\" class=\"data row4 col1\" >Sunil</td>\n",
              "      <td id=\"T_f9ada_row4_col2\" class=\"data row4 col2\" >40000</td>\n",
              "    </tr>\n",
              "  </tbody>\n",
              "</table>\n"
            ]
          },
          "metadata": {},
          "execution_count": 16
        }
      ]
    },
    {
      "cell_type": "code",
      "source": [
        "runSelect(\"select firstname, lastname, salary, joindate from empl where joindate < '2002-01-01'\")"
      ],
      "metadata": {
        "colab": {
          "base_uri": "https://localhost:8080/",
          "height": 143
        },
        "id": "hnIvgy_dMvQl",
        "outputId": "c812a430-3558-45dd-add9-b491eb3650ec"
      },
      "execution_count": 17,
      "outputs": [
        {
          "output_type": "execute_result",
          "data": {
            "text/plain": [
              "<pandas.io.formats.style.Styler at 0x7ae5fbb1d350>"
            ],
            "text/html": [
              "<style type=\"text/css\">\n",
              "</style>\n",
              "<table id=\"T_ce430\" class=\"dataframe\">\n",
              "  <thead>\n",
              "    <tr>\n",
              "      <th id=\"T_ce430_level0_col0\" class=\"col_heading level0 col0\" >firstname</th>\n",
              "      <th id=\"T_ce430_level0_col1\" class=\"col_heading level0 col1\" >lastname</th>\n",
              "      <th id=\"T_ce430_level0_col2\" class=\"col_heading level0 col2\" >salary</th>\n",
              "      <th id=\"T_ce430_level0_col3\" class=\"col_heading level0 col3\" >joindate</th>\n",
              "    </tr>\n",
              "  </thead>\n",
              "  <tbody>\n",
              "    <tr>\n",
              "      <td id=\"T_ce430_row0_col0\" class=\"data row0 col0\" >Rahul</td>\n",
              "      <td id=\"T_ce430_row0_col1\" class=\"data row0 col1\" >Dravid</td>\n",
              "      <td id=\"T_ce430_row0_col2\" class=\"data row0 col2\" >40000</td>\n",
              "      <td id=\"T_ce430_row0_col3\" class=\"data row0 col3\" >2000-06-04</td>\n",
              "    </tr>\n",
              "    <tr>\n",
              "      <td id=\"T_ce430_row1_col0\" class=\"data row1 col0\" >Jagmohan</td>\n",
              "      <td id=\"T_ce430_row1_col1\" class=\"data row1 col1\" >Dalmia</td>\n",
              "      <td id=\"T_ce430_row1_col2\" class=\"data row1 col2\" >12000</td>\n",
              "      <td id=\"T_ce430_row1_col3\" class=\"data row1 col3\" >2001-07-01</td>\n",
              "    </tr>\n",
              "    <tr>\n",
              "      <td id=\"T_ce430_row2_col0\" class=\"data row2 col0\" >Sania</td>\n",
              "      <td id=\"T_ce430_row2_col1\" class=\"data row2 col1\" >Mirza</td>\n",
              "      <td id=\"T_ce430_row2_col2\" class=\"data row2 col2\" >25000</td>\n",
              "      <td id=\"T_ce430_row2_col3\" class=\"data row2 col3\" >2001-11-19</td>\n",
              "    </tr>\n",
              "  </tbody>\n",
              "</table>\n"
            ]
          },
          "metadata": {},
          "execution_count": 17
        }
      ]
    },
    {
      "cell_type": "markdown",
      "source": [
        "## Like"
      ],
      "metadata": {
        "id": "77DkYhfhU1lJ"
      }
    },
    {
      "cell_type": "code",
      "source": [
        "runSelect(\"select firstname, lastname, salary from empl where lastname like 'D%'\")"
      ],
      "metadata": {
        "colab": {
          "base_uri": "https://localhost:8080/",
          "height": 175
        },
        "id": "PBsdla2eVv1K",
        "outputId": "d256bb53-ab75-4e74-fcc1-4f155bcf8466"
      },
      "execution_count": 18,
      "outputs": [
        {
          "output_type": "execute_result",
          "data": {
            "text/plain": [
              "<pandas.io.formats.style.Styler at 0x7ae5fbb3d050>"
            ],
            "text/html": [
              "<style type=\"text/css\">\n",
              "</style>\n",
              "<table id=\"T_1848e\" class=\"dataframe\">\n",
              "  <thead>\n",
              "    <tr>\n",
              "      <th id=\"T_1848e_level0_col0\" class=\"col_heading level0 col0\" >firstname</th>\n",
              "      <th id=\"T_1848e_level0_col1\" class=\"col_heading level0 col1\" >lastname</th>\n",
              "      <th id=\"T_1848e_level0_col2\" class=\"col_heading level0 col2\" >salary</th>\n",
              "    </tr>\n",
              "  </thead>\n",
              "  <tbody>\n",
              "    <tr>\n",
              "      <td id=\"T_1848e_row0_col0\" class=\"data row0 col0\" >Madhuri</td>\n",
              "      <td id=\"T_1848e_row0_col1\" class=\"data row0 col1\" >Dikshit</td>\n",
              "      <td id=\"T_1848e_row0_col2\" class=\"data row0 col2\" >10000</td>\n",
              "    </tr>\n",
              "    <tr>\n",
              "      <td id=\"T_1848e_row1_col0\" class=\"data row1 col0\" >Mahender</td>\n",
              "      <td id=\"T_1848e_row1_col1\" class=\"data row1 col1\" >Dhoni</td>\n",
              "      <td id=\"T_1848e_row1_col2\" class=\"data row1 col2\" >9000</td>\n",
              "    </tr>\n",
              "    <tr>\n",
              "      <td id=\"T_1848e_row2_col0\" class=\"data row2 col0\" >Rahul</td>\n",
              "      <td id=\"T_1848e_row2_col1\" class=\"data row2 col1\" >Dravid</td>\n",
              "      <td id=\"T_1848e_row2_col2\" class=\"data row2 col2\" >40000</td>\n",
              "    </tr>\n",
              "    <tr>\n",
              "      <td id=\"T_1848e_row3_col0\" class=\"data row3 col0\" >Jagmohan</td>\n",
              "      <td id=\"T_1848e_row3_col1\" class=\"data row3 col1\" >Dalmia</td>\n",
              "      <td id=\"T_1848e_row3_col2\" class=\"data row3 col2\" >12000</td>\n",
              "    </tr>\n",
              "  </tbody>\n",
              "</table>\n"
            ]
          },
          "metadata": {},
          "execution_count": 18
        }
      ]
    },
    {
      "cell_type": "code",
      "source": [
        "runSelect(\"select firstname, lastname, joindate from empl where lastname like '____i_'\")"
      ],
      "metadata": {
        "colab": {
          "base_uri": "https://localhost:8080/",
          "height": 112
        },
        "id": "xxImEDlKbm4U",
        "outputId": "94afd4f8-022a-4df9-b199-df9cd51998dc"
      },
      "execution_count": 19,
      "outputs": [
        {
          "output_type": "execute_result",
          "data": {
            "text/plain": [
              "<pandas.io.formats.style.Styler at 0x7ae5fbb054d0>"
            ],
            "text/html": [
              "<style type=\"text/css\">\n",
              "</style>\n",
              "<table id=\"T_143cb\" class=\"dataframe\">\n",
              "  <thead>\n",
              "    <tr>\n",
              "      <th id=\"T_143cb_level0_col0\" class=\"col_heading level0 col0\" >firstname</th>\n",
              "      <th id=\"T_143cb_level0_col1\" class=\"col_heading level0 col1\" >lastname</th>\n",
              "      <th id=\"T_143cb_level0_col2\" class=\"col_heading level0 col2\" >joindate</th>\n",
              "    </tr>\n",
              "  </thead>\n",
              "  <tbody>\n",
              "    <tr>\n",
              "      <td id=\"T_143cb_row0_col0\" class=\"data row0 col0\" >Rahul</td>\n",
              "      <td id=\"T_143cb_row0_col1\" class=\"data row0 col1\" >Dravid</td>\n",
              "      <td id=\"T_143cb_row0_col2\" class=\"data row0 col2\" >2000-06-04</td>\n",
              "    </tr>\n",
              "    <tr>\n",
              "      <td id=\"T_143cb_row1_col0\" class=\"data row1 col0\" >Jagmohan</td>\n",
              "      <td id=\"T_143cb_row1_col1\" class=\"data row1 col1\" >Dalmia</td>\n",
              "      <td id=\"T_143cb_row1_col2\" class=\"data row1 col2\" >2001-07-01</td>\n",
              "    </tr>\n",
              "  </tbody>\n",
              "</table>\n"
            ]
          },
          "metadata": {},
          "execution_count": 19
        }
      ]
    },
    {
      "cell_type": "code",
      "source": [
        "runSelect(\"select firstname, lastname, jobdesc from empl where lastname like '____i%'\")"
      ],
      "metadata": {
        "colab": {
          "base_uri": "https://localhost:8080/",
          "height": 143
        },
        "id": "pL7VPLo4b2g3",
        "outputId": "e408ad9c-d7c1-4d33-e5eb-216ae9fdef1d"
      },
      "execution_count": 20,
      "outputs": [
        {
          "output_type": "execute_result",
          "data": {
            "text/plain": [
              "<pandas.io.formats.style.Styler at 0x7ae5fbb04a10>"
            ],
            "text/html": [
              "<style type=\"text/css\">\n",
              "</style>\n",
              "<table id=\"T_dc971\" class=\"dataframe\">\n",
              "  <thead>\n",
              "    <tr>\n",
              "      <th id=\"T_dc971_level0_col0\" class=\"col_heading level0 col0\" >firstname</th>\n",
              "      <th id=\"T_dc971_level0_col1\" class=\"col_heading level0 col1\" >lastname</th>\n",
              "      <th id=\"T_dc971_level0_col2\" class=\"col_heading level0 col2\" >jobdesc</th>\n",
              "    </tr>\n",
              "  </thead>\n",
              "  <tbody>\n",
              "    <tr>\n",
              "      <td id=\"T_dc971_row0_col0\" class=\"data row0 col0\" >Mahender</td>\n",
              "      <td id=\"T_dc971_row0_col1\" class=\"data row0 col1\" >Dhoni</td>\n",
              "      <td id=\"T_dc971_row0_col2\" class=\"data row0 col2\" >Clerk</td>\n",
              "    </tr>\n",
              "    <tr>\n",
              "      <td id=\"T_dc971_row1_col0\" class=\"data row1 col0\" >Rahul</td>\n",
              "      <td id=\"T_dc971_row1_col1\" class=\"data row1 col1\" >Dravid</td>\n",
              "      <td id=\"T_dc971_row1_col2\" class=\"data row1 col2\" >Sr Manager</td>\n",
              "    </tr>\n",
              "    <tr>\n",
              "      <td id=\"T_dc971_row2_col0\" class=\"data row2 col0\" >Jagmohan</td>\n",
              "      <td id=\"T_dc971_row2_col1\" class=\"data row2 col1\" >Dalmia</td>\n",
              "      <td id=\"T_dc971_row2_col2\" class=\"data row2 col2\" >Clerk</td>\n",
              "    </tr>\n",
              "  </tbody>\n",
              "</table>\n"
            ]
          },
          "metadata": {},
          "execution_count": 20
        }
      ]
    },
    {
      "cell_type": "markdown",
      "source": [
        "## Between"
      ],
      "metadata": {
        "id": "qw2h8Vtvey2R"
      }
    },
    {
      "cell_type": "code",
      "source": [
        "runSelect(\"select firstname, lastname, salary from empl where salary between 10000 and 20000\")"
      ],
      "metadata": {
        "colab": {
          "base_uri": "https://localhost:8080/",
          "height": 175
        },
        "id": "sI_qlRdXe7S8",
        "outputId": "71b01b72-f58a-4741-cb94-77702260f9e4"
      },
      "execution_count": 21,
      "outputs": [
        {
          "output_type": "execute_result",
          "data": {
            "text/plain": [
              "<pandas.io.formats.style.Styler at 0x7ae5fbb07cd0>"
            ],
            "text/html": [
              "<style type=\"text/css\">\n",
              "</style>\n",
              "<table id=\"T_764d4\" class=\"dataframe\">\n",
              "  <thead>\n",
              "    <tr>\n",
              "      <th id=\"T_764d4_level0_col0\" class=\"col_heading level0 col0\" >firstname</th>\n",
              "      <th id=\"T_764d4_level0_col1\" class=\"col_heading level0 col1\" >lastname</th>\n",
              "      <th id=\"T_764d4_level0_col2\" class=\"col_heading level0 col2\" >salary</th>\n",
              "    </tr>\n",
              "  </thead>\n",
              "  <tbody>\n",
              "    <tr>\n",
              "      <td id=\"T_764d4_row0_col0\" class=\"data row0 col0\" >Madhuri</td>\n",
              "      <td id=\"T_764d4_row0_col1\" class=\"data row0 col1\" >Dikshit</td>\n",
              "      <td id=\"T_764d4_row0_col2\" class=\"data row0 col2\" >10000</td>\n",
              "    </tr>\n",
              "    <tr>\n",
              "      <td id=\"T_764d4_row1_col0\" class=\"data row1 col0\" >Virender</td>\n",
              "      <td id=\"T_764d4_row1_col1\" class=\"data row1 col1\" >Sehwag</td>\n",
              "      <td id=\"T_764d4_row1_col2\" class=\"data row1 col2\" >15000</td>\n",
              "    </tr>\n",
              "    <tr>\n",
              "      <td id=\"T_764d4_row2_col0\" class=\"data row2 col0\" >Jagmohan</td>\n",
              "      <td id=\"T_764d4_row2_col1\" class=\"data row2 col1\" >Dalmia</td>\n",
              "      <td id=\"T_764d4_row2_col2\" class=\"data row2 col2\" >12000</td>\n",
              "    </tr>\n",
              "    <tr>\n",
              "      <td id=\"T_764d4_row3_col0\" class=\"data row3 col0\" >Sourav</td>\n",
              "      <td id=\"T_764d4_row3_col1\" class=\"data row3 col1\" >Ganguly</td>\n",
              "      <td id=\"T_764d4_row3_col2\" class=\"data row3 col2\" >20000</td>\n",
              "    </tr>\n",
              "  </tbody>\n",
              "</table>\n"
            ]
          },
          "metadata": {},
          "execution_count": 21
        }
      ]
    },
    {
      "cell_type": "code",
      "source": [
        "runSelect(\"select firstname, lastname, joindate from empl where joindate between '2004-01-01' and '2005-01-01'\")"
      ],
      "metadata": {
        "colab": {
          "base_uri": "https://localhost:8080/",
          "height": 112
        },
        "id": "b_mWyFTnfIEy",
        "outputId": "279f13f4-4db6-410e-fae4-50fb8d2bab62"
      },
      "execution_count": 22,
      "outputs": [
        {
          "output_type": "execute_result",
          "data": {
            "text/plain": [
              "<pandas.io.formats.style.Styler at 0x7ae5fbb10890>"
            ],
            "text/html": [
              "<style type=\"text/css\">\n",
              "</style>\n",
              "<table id=\"T_94e34\" class=\"dataframe\">\n",
              "  <thead>\n",
              "    <tr>\n",
              "      <th id=\"T_94e34_level0_col0\" class=\"col_heading level0 col0\" >firstname</th>\n",
              "      <th id=\"T_94e34_level0_col1\" class=\"col_heading level0 col1\" >lastname</th>\n",
              "      <th id=\"T_94e34_level0_col2\" class=\"col_heading level0 col2\" >joindate</th>\n",
              "    </tr>\n",
              "  </thead>\n",
              "  <tbody>\n",
              "    <tr>\n",
              "      <td id=\"T_94e34_row0_col0\" class=\"data row0 col0\" >Shahrukh</td>\n",
              "      <td id=\"T_94e34_row0_col1\" class=\"data row0 col1\" >Khan</td>\n",
              "      <td id=\"T_94e34_row0_col2\" class=\"data row0 col2\" >2004-01-03</td>\n",
              "    </tr>\n",
              "    <tr>\n",
              "      <td id=\"T_94e34_row1_col0\" class=\"data row1 col0\" >Mahender</td>\n",
              "      <td id=\"T_94e34_row1_col1\" class=\"data row1 col1\" >Dhoni</td>\n",
              "      <td id=\"T_94e34_row1_col2\" class=\"data row1 col2\" >2004-10-09</td>\n",
              "    </tr>\n",
              "  </tbody>\n",
              "</table>\n"
            ]
          },
          "metadata": {},
          "execution_count": 22
        }
      ]
    },
    {
      "cell_type": "code",
      "source": [
        "runSelect(\"select firstname, lastname, joindate from empl where lastname between 'Dho' and 'Kha'\")"
      ],
      "metadata": {
        "colab": {
          "base_uri": "https://localhost:8080/",
          "height": 237
        },
        "id": "qXs9AeS2fwCS",
        "outputId": "19fb7328-405c-49bb-9052-53a5e0a7767d"
      },
      "execution_count": 23,
      "outputs": [
        {
          "output_type": "execute_result",
          "data": {
            "text/plain": [
              "<pandas.io.formats.style.Styler at 0x7ae5fbb12b90>"
            ],
            "text/html": [
              "<style type=\"text/css\">\n",
              "</style>\n",
              "<table id=\"T_d0c4b\" class=\"dataframe\">\n",
              "  <thead>\n",
              "    <tr>\n",
              "      <th id=\"T_d0c4b_level0_col0\" class=\"col_heading level0 col0\" >firstname</th>\n",
              "      <th id=\"T_d0c4b_level0_col1\" class=\"col_heading level0 col1\" >lastname</th>\n",
              "      <th id=\"T_d0c4b_level0_col2\" class=\"col_heading level0 col2\" >joindate</th>\n",
              "    </tr>\n",
              "  </thead>\n",
              "  <tbody>\n",
              "    <tr>\n",
              "      <td id=\"T_d0c4b_row0_col0\" class=\"data row0 col0\" >Madhuri</td>\n",
              "      <td id=\"T_d0c4b_row0_col1\" class=\"data row0 col1\" >Dikshit</td>\n",
              "      <td id=\"T_d0c4b_row0_col2\" class=\"data row0 col2\" >2002-04-04</td>\n",
              "    </tr>\n",
              "    <tr>\n",
              "      <td id=\"T_d0c4b_row1_col0\" class=\"data row1 col0\" >Mahender</td>\n",
              "      <td id=\"T_d0c4b_row1_col1\" class=\"data row1 col1\" >Dhoni</td>\n",
              "      <td id=\"T_d0c4b_row1_col2\" class=\"data row1 col2\" >2004-10-09</td>\n",
              "    </tr>\n",
              "    <tr>\n",
              "      <td id=\"T_d0c4b_row2_col0\" class=\"data row2 col0\" >Rahul</td>\n",
              "      <td id=\"T_d0c4b_row2_col1\" class=\"data row2 col1\" >Dravid</td>\n",
              "      <td id=\"T_d0c4b_row2_col2\" class=\"data row2 col2\" >2000-06-04</td>\n",
              "    </tr>\n",
              "    <tr>\n",
              "      <td id=\"T_d0c4b_row3_col0\" class=\"data row3 col0\" >Sourav</td>\n",
              "      <td id=\"T_d0c4b_row3_col1\" class=\"data row3 col1\" >Ganguly</td>\n",
              "      <td id=\"T_d0c4b_row3_col2\" class=\"data row3 col2\" >2002-01-01</td>\n",
              "    </tr>\n",
              "    <tr>\n",
              "      <td id=\"T_d0c4b_row4_col0\" class=\"data row4 col0\" >Rekha</td>\n",
              "      <td id=\"T_d0c4b_row4_col1\" class=\"data row4 col1\" >Ganesan</td>\n",
              "      <td id=\"T_d0c4b_row4_col2\" class=\"data row4 col2\" >2002-10-10</td>\n",
              "    </tr>\n",
              "    <tr>\n",
              "      <td id=\"T_d0c4b_row5_col0\" class=\"data row5 col0\" >Narayan</td>\n",
              "      <td id=\"T_d0c4b_row5_col1\" class=\"data row5 col1\" >Karthikeyan</td>\n",
              "      <td id=\"T_d0c4b_row5_col2\" class=\"data row5 col2\" >2005-12-04</td>\n",
              "    </tr>\n",
              "  </tbody>\n",
              "</table>\n"
            ]
          },
          "metadata": {},
          "execution_count": 23
        }
      ]
    },
    {
      "cell_type": "markdown",
      "source": [
        "## IN"
      ],
      "metadata": {
        "id": "azhy0TQLiLy-"
      }
    },
    {
      "cell_type": "code",
      "source": [
        "runSelect(\"select firstname, lastname, deptid from empl where deptid in ('30','20','70')\")"
      ],
      "metadata": {
        "colab": {
          "base_uri": "https://localhost:8080/",
          "height": 269
        },
        "id": "UyBE-FuoibSZ",
        "outputId": "44ff2164-a328-44b2-8ed1-58440cbc9de5"
      },
      "execution_count": 24,
      "outputs": [
        {
          "output_type": "execute_result",
          "data": {
            "text/plain": [
              "<pandas.io.formats.style.Styler at 0x7ae5fbb06690>"
            ],
            "text/html": [
              "<style type=\"text/css\">\n",
              "</style>\n",
              "<table id=\"T_d0e13\" class=\"dataframe\">\n",
              "  <thead>\n",
              "    <tr>\n",
              "      <th id=\"T_d0e13_level0_col0\" class=\"col_heading level0 col0\" >firstname</th>\n",
              "      <th id=\"T_d0e13_level0_col1\" class=\"col_heading level0 col1\" >lastname</th>\n",
              "      <th id=\"T_d0e13_level0_col2\" class=\"col_heading level0 col2\" >deptid</th>\n",
              "    </tr>\n",
              "  </thead>\n",
              "  <tbody>\n",
              "    <tr>\n",
              "      <td id=\"T_d0e13_row0_col0\" class=\"data row0 col0\" >Madhuri</td>\n",
              "      <td id=\"T_d0e13_row0_col1\" class=\"data row0 col1\" >Dikshit</td>\n",
              "      <td id=\"T_d0e13_row0_col2\" class=\"data row0 col2\" >20</td>\n",
              "    </tr>\n",
              "    <tr>\n",
              "      <td id=\"T_d0e13_row1_col0\" class=\"data row1 col0\" >Shahrukh</td>\n",
              "      <td id=\"T_d0e13_row1_col1\" class=\"data row1 col1\" >Khan</td>\n",
              "      <td id=\"T_d0e13_row1_col2\" class=\"data row1 col2\" >20</td>\n",
              "    </tr>\n",
              "    <tr>\n",
              "      <td id=\"T_d0e13_row2_col0\" class=\"data row2 col0\" >Virender</td>\n",
              "      <td id=\"T_d0e13_row2_col1\" class=\"data row2 col1\" >Sehwag</td>\n",
              "      <td id=\"T_d0e13_row2_col2\" class=\"data row2 col2\" >20</td>\n",
              "    </tr>\n",
              "    <tr>\n",
              "      <td id=\"T_d0e13_row3_col0\" class=\"data row3 col0\" >Rahul</td>\n",
              "      <td id=\"T_d0e13_row3_col1\" class=\"data row3 col1\" >Dravid</td>\n",
              "      <td id=\"T_d0e13_row3_col2\" class=\"data row3 col2\" >30</td>\n",
              "    </tr>\n",
              "    <tr>\n",
              "      <td id=\"T_d0e13_row4_col0\" class=\"data row4 col0\" >Jagmohan</td>\n",
              "      <td id=\"T_d0e13_row4_col1\" class=\"data row4 col1\" >Dalmia</td>\n",
              "      <td id=\"T_d0e13_row4_col2\" class=\"data row4 col2\" >30</td>\n",
              "    </tr>\n",
              "    <tr>\n",
              "      <td id=\"T_d0e13_row5_col0\" class=\"data row5 col0\" >Chettri</td>\n",
              "      <td id=\"T_d0e13_row5_col1\" class=\"data row5 col1\" >Sunil</td>\n",
              "      <td id=\"T_d0e13_row5_col2\" class=\"data row5 col2\" >70</td>\n",
              "    </tr>\n",
              "    <tr>\n",
              "      <td id=\"T_d0e13_row6_col0\" class=\"data row6 col0\" >Sania</td>\n",
              "      <td id=\"T_d0e13_row6_col1\" class=\"data row6 col1\" >Mirza</td>\n",
              "      <td id=\"T_d0e13_row6_col2\" class=\"data row6 col2\" >30</td>\n",
              "    </tr>\n",
              "  </tbody>\n",
              "</table>\n"
            ]
          },
          "metadata": {},
          "execution_count": 24
        }
      ]
    },
    {
      "cell_type": "code",
      "source": [
        "runSelect(\"select firstname, lastname, salary from empl where firstname in ('Madhuri','Shahrukh','Virender')\")"
      ],
      "metadata": {
        "colab": {
          "base_uri": "https://localhost:8080/",
          "height": 143
        },
        "id": "9qTEO-OuiN3A",
        "outputId": "f7cccec8-b4ad-4b6e-8bdf-38b735111a07"
      },
      "execution_count": 25,
      "outputs": [
        {
          "output_type": "execute_result",
          "data": {
            "text/plain": [
              "<pandas.io.formats.style.Styler at 0x7ae5fbaf2090>"
            ],
            "text/html": [
              "<style type=\"text/css\">\n",
              "</style>\n",
              "<table id=\"T_4d9a5\" class=\"dataframe\">\n",
              "  <thead>\n",
              "    <tr>\n",
              "      <th id=\"T_4d9a5_level0_col0\" class=\"col_heading level0 col0\" >firstname</th>\n",
              "      <th id=\"T_4d9a5_level0_col1\" class=\"col_heading level0 col1\" >lastname</th>\n",
              "      <th id=\"T_4d9a5_level0_col2\" class=\"col_heading level0 col2\" >salary</th>\n",
              "    </tr>\n",
              "  </thead>\n",
              "  <tbody>\n",
              "    <tr>\n",
              "      <td id=\"T_4d9a5_row0_col0\" class=\"data row0 col0\" >Madhuri</td>\n",
              "      <td id=\"T_4d9a5_row0_col1\" class=\"data row0 col1\" >Dikshit</td>\n",
              "      <td id=\"T_4d9a5_row0_col2\" class=\"data row0 col2\" >10000</td>\n",
              "    </tr>\n",
              "    <tr>\n",
              "      <td id=\"T_4d9a5_row1_col0\" class=\"data row1 col0\" >Shahrukh</td>\n",
              "      <td id=\"T_4d9a5_row1_col1\" class=\"data row1 col1\" >Khan</td>\n",
              "      <td id=\"T_4d9a5_row1_col2\" class=\"data row1 col2\" >30000</td>\n",
              "    </tr>\n",
              "    <tr>\n",
              "      <td id=\"T_4d9a5_row2_col0\" class=\"data row2 col0\" >Virender</td>\n",
              "      <td id=\"T_4d9a5_row2_col1\" class=\"data row2 col1\" >Sehwag</td>\n",
              "      <td id=\"T_4d9a5_row2_col2\" class=\"data row2 col2\" >15000</td>\n",
              "    </tr>\n",
              "  </tbody>\n",
              "</table>\n"
            ]
          },
          "metadata": {},
          "execution_count": 25
        }
      ]
    },
    {
      "cell_type": "markdown",
      "source": [
        "## Order by"
      ],
      "metadata": {
        "id": "vlOCT_zAkzMb"
      }
    },
    {
      "cell_type": "code",
      "source": [
        "runSelect(\"select firstname, lastname, joindate from empl where firstname in ('Madhuri','Shahrukh','Virender') order by joindate\")"
      ],
      "metadata": {
        "colab": {
          "base_uri": "https://localhost:8080/",
          "height": 143
        },
        "id": "WidoGzLVk1in",
        "outputId": "9d23fa98-5276-4ac8-cbb6-098e1a1d60d4"
      },
      "execution_count": 26,
      "outputs": [
        {
          "output_type": "execute_result",
          "data": {
            "text/plain": [
              "<pandas.io.formats.style.Styler at 0x7ae5fbaf17d0>"
            ],
            "text/html": [
              "<style type=\"text/css\">\n",
              "</style>\n",
              "<table id=\"T_b8bc5\" class=\"dataframe\">\n",
              "  <thead>\n",
              "    <tr>\n",
              "      <th id=\"T_b8bc5_level0_col0\" class=\"col_heading level0 col0\" >firstname</th>\n",
              "      <th id=\"T_b8bc5_level0_col1\" class=\"col_heading level0 col1\" >lastname</th>\n",
              "      <th id=\"T_b8bc5_level0_col2\" class=\"col_heading level0 col2\" >joindate</th>\n",
              "    </tr>\n",
              "  </thead>\n",
              "  <tbody>\n",
              "    <tr>\n",
              "      <td id=\"T_b8bc5_row0_col0\" class=\"data row0 col0\" >Madhuri</td>\n",
              "      <td id=\"T_b8bc5_row0_col1\" class=\"data row0 col1\" >Dikshit</td>\n",
              "      <td id=\"T_b8bc5_row0_col2\" class=\"data row0 col2\" >2002-04-04</td>\n",
              "    </tr>\n",
              "    <tr>\n",
              "      <td id=\"T_b8bc5_row1_col0\" class=\"data row1 col0\" >Shahrukh</td>\n",
              "      <td id=\"T_b8bc5_row1_col1\" class=\"data row1 col1\" >Khan</td>\n",
              "      <td id=\"T_b8bc5_row1_col2\" class=\"data row1 col2\" >2004-01-03</td>\n",
              "    </tr>\n",
              "    <tr>\n",
              "      <td id=\"T_b8bc5_row2_col0\" class=\"data row2 col0\" >Virender</td>\n",
              "      <td id=\"T_b8bc5_row2_col1\" class=\"data row2 col1\" >Sehwag</td>\n",
              "      <td id=\"T_b8bc5_row2_col2\" class=\"data row2 col2\" >2005-01-02</td>\n",
              "    </tr>\n",
              "  </tbody>\n",
              "</table>\n"
            ]
          },
          "metadata": {},
          "execution_count": 26
        }
      ]
    },
    {
      "cell_type": "code",
      "source": [
        "runSelect(\"select firstname, lastname, jobdesc, salary, deptid from empl where deptid = '10' order by salary desc\")"
      ],
      "metadata": {
        "colab": {
          "base_uri": "https://localhost:8080/",
          "height": 143
        },
        "id": "Iq_7jWr-lRlO",
        "outputId": "b63d3347-0d94-43ce-8258-30b24e50ff62"
      },
      "execution_count": 27,
      "outputs": [
        {
          "output_type": "execute_result",
          "data": {
            "text/plain": [
              "<pandas.io.formats.style.Styler at 0x7ae5fbaf35d0>"
            ],
            "text/html": [
              "<style type=\"text/css\">\n",
              "</style>\n",
              "<table id=\"T_a0506\" class=\"dataframe\">\n",
              "  <thead>\n",
              "    <tr>\n",
              "      <th id=\"T_a0506_level0_col0\" class=\"col_heading level0 col0\" >firstname</th>\n",
              "      <th id=\"T_a0506_level0_col1\" class=\"col_heading level0 col1\" >lastname</th>\n",
              "      <th id=\"T_a0506_level0_col2\" class=\"col_heading level0 col2\" >jobdesc</th>\n",
              "      <th id=\"T_a0506_level0_col3\" class=\"col_heading level0 col3\" >salary</th>\n",
              "      <th id=\"T_a0506_level0_col4\" class=\"col_heading level0 col4\" >deptid</th>\n",
              "    </tr>\n",
              "  </thead>\n",
              "  <tbody>\n",
              "    <tr>\n",
              "      <td id=\"T_a0506_row0_col0\" class=\"data row0 col0\" >Rekha</td>\n",
              "      <td id=\"T_a0506_row0_col1\" class=\"data row0 col1\" >Ganesan</td>\n",
              "      <td id=\"T_a0506_row0_col2\" class=\"data row0 col2\" >Director</td>\n",
              "      <td id=\"T_a0506_row0_col3\" class=\"data row0 col3\" >60000</td>\n",
              "      <td id=\"T_a0506_row0_col4\" class=\"data row0 col4\" >10</td>\n",
              "    </tr>\n",
              "    <tr>\n",
              "      <td id=\"T_a0506_row1_col0\" class=\"data row1 col0\" >Amitabh</td>\n",
              "      <td id=\"T_a0506_row1_col1\" class=\"data row1 col1\" >Bacchan</td>\n",
              "      <td id=\"T_a0506_row1_col2\" class=\"data row1 col2\" >Executive</td>\n",
              "      <td id=\"T_a0506_row1_col3\" class=\"data row1 col3\" >50000</td>\n",
              "      <td id=\"T_a0506_row1_col4\" class=\"data row1 col4\" >10</td>\n",
              "    </tr>\n",
              "    <tr>\n",
              "      <td id=\"T_a0506_row2_col0\" class=\"data row2 col0\" >Narayan</td>\n",
              "      <td id=\"T_a0506_row2_col1\" class=\"data row2 col1\" >Karthikeyan</td>\n",
              "      <td id=\"T_a0506_row2_col2\" class=\"data row2 col2\" >Secretary</td>\n",
              "      <td id=\"T_a0506_row2_col3\" class=\"data row2 col3\" >40000</td>\n",
              "      <td id=\"T_a0506_row2_col4\" class=\"data row2 col4\" >10</td>\n",
              "    </tr>\n",
              "  </tbody>\n",
              "</table>\n"
            ]
          },
          "metadata": {},
          "execution_count": 27
        }
      ]
    },
    {
      "cell_type": "markdown",
      "source": [
        "## Logical AND | OR"
      ],
      "metadata": {
        "id": "-JDEmZtsm0o1"
      }
    },
    {
      "cell_type": "code",
      "source": [
        "runSelect(\"select lastname, jobdesc, salary, deptid from empl where deptid = '20'\")"
      ],
      "metadata": {
        "colab": {
          "base_uri": "https://localhost:8080/",
          "height": 143
        },
        "id": "rli0DBhIm54M",
        "outputId": "f0539f9d-2c79-4b2d-e59f-14af2f04d827"
      },
      "execution_count": 28,
      "outputs": [
        {
          "output_type": "execute_result",
          "data": {
            "text/plain": [
              "<pandas.io.formats.style.Styler at 0x7ae5fb921e50>"
            ],
            "text/html": [
              "<style type=\"text/css\">\n",
              "</style>\n",
              "<table id=\"T_c6482\" class=\"dataframe\">\n",
              "  <thead>\n",
              "    <tr>\n",
              "      <th id=\"T_c6482_level0_col0\" class=\"col_heading level0 col0\" >lastname</th>\n",
              "      <th id=\"T_c6482_level0_col1\" class=\"col_heading level0 col1\" >jobdesc</th>\n",
              "      <th id=\"T_c6482_level0_col2\" class=\"col_heading level0 col2\" >salary</th>\n",
              "      <th id=\"T_c6482_level0_col3\" class=\"col_heading level0 col3\" >deptid</th>\n",
              "    </tr>\n",
              "  </thead>\n",
              "  <tbody>\n",
              "    <tr>\n",
              "      <td id=\"T_c6482_row0_col0\" class=\"data row0 col0\" >Dikshit</td>\n",
              "      <td id=\"T_c6482_row0_col1\" class=\"data row0 col1\" >Clerk</td>\n",
              "      <td id=\"T_c6482_row0_col2\" class=\"data row0 col2\" >10000</td>\n",
              "      <td id=\"T_c6482_row0_col3\" class=\"data row0 col3\" >20</td>\n",
              "    </tr>\n",
              "    <tr>\n",
              "      <td id=\"T_c6482_row1_col0\" class=\"data row1 col0\" >Khan</td>\n",
              "      <td id=\"T_c6482_row1_col1\" class=\"data row1 col1\" >Manager</td>\n",
              "      <td id=\"T_c6482_row1_col2\" class=\"data row1 col2\" >30000</td>\n",
              "      <td id=\"T_c6482_row1_col3\" class=\"data row1 col3\" >20</td>\n",
              "    </tr>\n",
              "    <tr>\n",
              "      <td id=\"T_c6482_row2_col0\" class=\"data row2 col0\" >Sehwag</td>\n",
              "      <td id=\"T_c6482_row2_col1\" class=\"data row2 col1\" >Cus_Rep</td>\n",
              "      <td id=\"T_c6482_row2_col2\" class=\"data row2 col2\" >15000</td>\n",
              "      <td id=\"T_c6482_row2_col3\" class=\"data row2 col3\" >20</td>\n",
              "    </tr>\n",
              "  </tbody>\n",
              "</table>\n"
            ]
          },
          "metadata": {},
          "execution_count": 28
        }
      ]
    },
    {
      "cell_type": "code",
      "source": [
        "runSelect(\"select lastname, jobdesc, salary, deptid from empl where deptid = '20' and salary > 10000\")"
      ],
      "metadata": {
        "colab": {
          "base_uri": "https://localhost:8080/",
          "height": 112
        },
        "id": "wHIJoUGqnuwa",
        "outputId": "8047d2ff-68c7-4cde-8e51-ea26c6471659"
      },
      "execution_count": 29,
      "outputs": [
        {
          "output_type": "execute_result",
          "data": {
            "text/plain": [
              "<pandas.io.formats.style.Styler at 0x7ae5fbaabd90>"
            ],
            "text/html": [
              "<style type=\"text/css\">\n",
              "</style>\n",
              "<table id=\"T_a0d18\" class=\"dataframe\">\n",
              "  <thead>\n",
              "    <tr>\n",
              "      <th id=\"T_a0d18_level0_col0\" class=\"col_heading level0 col0\" >lastname</th>\n",
              "      <th id=\"T_a0d18_level0_col1\" class=\"col_heading level0 col1\" >jobdesc</th>\n",
              "      <th id=\"T_a0d18_level0_col2\" class=\"col_heading level0 col2\" >salary</th>\n",
              "      <th id=\"T_a0d18_level0_col3\" class=\"col_heading level0 col3\" >deptid</th>\n",
              "    </tr>\n",
              "  </thead>\n",
              "  <tbody>\n",
              "    <tr>\n",
              "      <td id=\"T_a0d18_row0_col0\" class=\"data row0 col0\" >Khan</td>\n",
              "      <td id=\"T_a0d18_row0_col1\" class=\"data row0 col1\" >Manager</td>\n",
              "      <td id=\"T_a0d18_row0_col2\" class=\"data row0 col2\" >30000</td>\n",
              "      <td id=\"T_a0d18_row0_col3\" class=\"data row0 col3\" >20</td>\n",
              "    </tr>\n",
              "    <tr>\n",
              "      <td id=\"T_a0d18_row1_col0\" class=\"data row1 col0\" >Sehwag</td>\n",
              "      <td id=\"T_a0d18_row1_col1\" class=\"data row1 col1\" >Cus_Rep</td>\n",
              "      <td id=\"T_a0d18_row1_col2\" class=\"data row1 col2\" >15000</td>\n",
              "      <td id=\"T_a0d18_row1_col3\" class=\"data row1 col3\" >20</td>\n",
              "    </tr>\n",
              "  </tbody>\n",
              "</table>\n"
            ]
          },
          "metadata": {},
          "execution_count": 29
        }
      ]
    },
    {
      "cell_type": "code",
      "source": [
        "runSelect(\"select lastname, jobdesc, salary, deptid from empl where deptid = '20' and salary > 10000 and jobdesc = 'Clerk'\")"
      ],
      "metadata": {
        "colab": {
          "base_uri": "https://localhost:8080/"
        },
        "id": "fnB8p8-EnzH2",
        "outputId": "fd1129c9-cffd-4ad1-cd08-1ada3b76d758"
      },
      "execution_count": 30,
      "outputs": [
        {
          "output_type": "stream",
          "name": "stdout",
          "text": [
            "no records found\n"
          ]
        }
      ]
    },
    {
      "cell_type": "code",
      "source": [
        "runSelect(\"select lastname, jobdesc, deptid from empl where deptid = '70'\")"
      ],
      "metadata": {
        "colab": {
          "base_uri": "https://localhost:8080/",
          "height": 81
        },
        "id": "uEKUIgOMqtLw",
        "outputId": "f79fe21c-506f-4a0d-bd90-071e658c8716"
      },
      "execution_count": 31,
      "outputs": [
        {
          "output_type": "execute_result",
          "data": {
            "text/plain": [
              "<pandas.io.formats.style.Styler at 0x7ae5fb975710>"
            ],
            "text/html": [
              "<style type=\"text/css\">\n",
              "</style>\n",
              "<table id=\"T_012ce\" class=\"dataframe\">\n",
              "  <thead>\n",
              "    <tr>\n",
              "      <th id=\"T_012ce_level0_col0\" class=\"col_heading level0 col0\" >lastname</th>\n",
              "      <th id=\"T_012ce_level0_col1\" class=\"col_heading level0 col1\" >jobdesc</th>\n",
              "      <th id=\"T_012ce_level0_col2\" class=\"col_heading level0 col2\" >deptid</th>\n",
              "    </tr>\n",
              "  </thead>\n",
              "  <tbody>\n",
              "    <tr>\n",
              "      <td id=\"T_012ce_row0_col0\" class=\"data row0 col0\" >Sunil</td>\n",
              "      <td id=\"T_012ce_row0_col1\" class=\"data row0 col1\" >Dy Manager</td>\n",
              "      <td id=\"T_012ce_row0_col2\" class=\"data row0 col2\" >70</td>\n",
              "    </tr>\n",
              "  </tbody>\n",
              "</table>\n"
            ]
          },
          "metadata": {},
          "execution_count": 31
        }
      ]
    },
    {
      "cell_type": "code",
      "source": [
        "runSelect(\"select lastname, jobdesc, deptid from empl where deptid = '70' or jobdesc like '%Manager'\")"
      ],
      "metadata": {
        "colab": {
          "base_uri": "https://localhost:8080/",
          "height": 175
        },
        "id": "Ne0eLRV3qyTn",
        "outputId": "3d1ce2f2-36b8-4155-ef8b-c0e0945d4ef7"
      },
      "execution_count": 32,
      "outputs": [
        {
          "output_type": "execute_result",
          "data": {
            "text/plain": [
              "<pandas.io.formats.style.Styler at 0x7ae5fb977550>"
            ],
            "text/html": [
              "<style type=\"text/css\">\n",
              "</style>\n",
              "<table id=\"T_ea94f\" class=\"dataframe\">\n",
              "  <thead>\n",
              "    <tr>\n",
              "      <th id=\"T_ea94f_level0_col0\" class=\"col_heading level0 col0\" >lastname</th>\n",
              "      <th id=\"T_ea94f_level0_col1\" class=\"col_heading level0 col1\" >jobdesc</th>\n",
              "      <th id=\"T_ea94f_level0_col2\" class=\"col_heading level0 col2\" >deptid</th>\n",
              "    </tr>\n",
              "  </thead>\n",
              "  <tbody>\n",
              "    <tr>\n",
              "      <td id=\"T_ea94f_row0_col0\" class=\"data row0 col0\" >Mukherjee</td>\n",
              "      <td id=\"T_ea94f_row0_col1\" class=\"data row0 col1\" >Manager</td>\n",
              "      <td id=\"T_ea94f_row0_col2\" class=\"data row0 col2\" >40</td>\n",
              "    </tr>\n",
              "    <tr>\n",
              "      <td id=\"T_ea94f_row1_col0\" class=\"data row1 col0\" >Khan</td>\n",
              "      <td id=\"T_ea94f_row1_col1\" class=\"data row1 col1\" >Manager</td>\n",
              "      <td id=\"T_ea94f_row1_col2\" class=\"data row1 col2\" >20</td>\n",
              "    </tr>\n",
              "    <tr>\n",
              "      <td id=\"T_ea94f_row2_col0\" class=\"data row2 col0\" >Dravid</td>\n",
              "      <td id=\"T_ea94f_row2_col1\" class=\"data row2 col1\" >Sr Manager</td>\n",
              "      <td id=\"T_ea94f_row2_col2\" class=\"data row2 col2\" >30</td>\n",
              "    </tr>\n",
              "    <tr>\n",
              "      <td id=\"T_ea94f_row3_col0\" class=\"data row3 col0\" >Sunil</td>\n",
              "      <td id=\"T_ea94f_row3_col1\" class=\"data row3 col1\" >Dy Manager</td>\n",
              "      <td id=\"T_ea94f_row3_col2\" class=\"data row3 col2\" >70</td>\n",
              "    </tr>\n",
              "  </tbody>\n",
              "</table>\n"
            ]
          },
          "metadata": {},
          "execution_count": 32
        }
      ]
    },
    {
      "cell_type": "code",
      "source": [
        "runSelect(\"select lastname, jobdesc, deptid from empl where deptid = '70' or jobdesc like '%Manager' or lastname = 'Dikshit'\")"
      ],
      "metadata": {
        "colab": {
          "base_uri": "https://localhost:8080/",
          "height": 206
        },
        "id": "aR3eNz7xq8Xo",
        "outputId": "c7581989-add3-4ce4-d2ae-4d1f59755e41"
      },
      "execution_count": 33,
      "outputs": [
        {
          "output_type": "execute_result",
          "data": {
            "text/plain": [
              "<pandas.io.formats.style.Styler at 0x7ae5fb976c50>"
            ],
            "text/html": [
              "<style type=\"text/css\">\n",
              "</style>\n",
              "<table id=\"T_ede91\" class=\"dataframe\">\n",
              "  <thead>\n",
              "    <tr>\n",
              "      <th id=\"T_ede91_level0_col0\" class=\"col_heading level0 col0\" >lastname</th>\n",
              "      <th id=\"T_ede91_level0_col1\" class=\"col_heading level0 col1\" >jobdesc</th>\n",
              "      <th id=\"T_ede91_level0_col2\" class=\"col_heading level0 col2\" >deptid</th>\n",
              "    </tr>\n",
              "  </thead>\n",
              "  <tbody>\n",
              "    <tr>\n",
              "      <td id=\"T_ede91_row0_col0\" class=\"data row0 col0\" >Mukherjee</td>\n",
              "      <td id=\"T_ede91_row0_col1\" class=\"data row0 col1\" >Manager</td>\n",
              "      <td id=\"T_ede91_row0_col2\" class=\"data row0 col2\" >40</td>\n",
              "    </tr>\n",
              "    <tr>\n",
              "      <td id=\"T_ede91_row1_col0\" class=\"data row1 col0\" >Dikshit</td>\n",
              "      <td id=\"T_ede91_row1_col1\" class=\"data row1 col1\" >Clerk</td>\n",
              "      <td id=\"T_ede91_row1_col2\" class=\"data row1 col2\" >20</td>\n",
              "    </tr>\n",
              "    <tr>\n",
              "      <td id=\"T_ede91_row2_col0\" class=\"data row2 col0\" >Khan</td>\n",
              "      <td id=\"T_ede91_row2_col1\" class=\"data row2 col1\" >Manager</td>\n",
              "      <td id=\"T_ede91_row2_col2\" class=\"data row2 col2\" >20</td>\n",
              "    </tr>\n",
              "    <tr>\n",
              "      <td id=\"T_ede91_row3_col0\" class=\"data row3 col0\" >Dravid</td>\n",
              "      <td id=\"T_ede91_row3_col1\" class=\"data row3 col1\" >Sr Manager</td>\n",
              "      <td id=\"T_ede91_row3_col2\" class=\"data row3 col2\" >30</td>\n",
              "    </tr>\n",
              "    <tr>\n",
              "      <td id=\"T_ede91_row4_col0\" class=\"data row4 col0\" >Sunil</td>\n",
              "      <td id=\"T_ede91_row4_col1\" class=\"data row4 col1\" >Dy Manager</td>\n",
              "      <td id=\"T_ede91_row4_col2\" class=\"data row4 col2\" >70</td>\n",
              "    </tr>\n",
              "  </tbody>\n",
              "</table>\n"
            ]
          },
          "metadata": {},
          "execution_count": 33
        }
      ]
    },
    {
      "cell_type": "code",
      "source": [
        "runSelect(\"select lastname, jobdesc, salary from empl where jobdesc = 'Cus_Rep' or jobdesc = 'Clerk' and salary < 16000\")"
      ],
      "metadata": {
        "colab": {
          "base_uri": "https://localhost:8080/",
          "height": 237
        },
        "id": "Ov0HErC0txm4",
        "outputId": "562701d6-eebf-48cd-d9ab-719ffc11a61d"
      },
      "execution_count": 34,
      "outputs": [
        {
          "output_type": "execute_result",
          "data": {
            "text/plain": [
              "<pandas.io.formats.style.Styler at 0x7ae5fbaab9d0>"
            ],
            "text/html": [
              "<style type=\"text/css\">\n",
              "</style>\n",
              "<table id=\"T_1b5e4\" class=\"dataframe\">\n",
              "  <thead>\n",
              "    <tr>\n",
              "      <th id=\"T_1b5e4_level0_col0\" class=\"col_heading level0 col0\" >lastname</th>\n",
              "      <th id=\"T_1b5e4_level0_col1\" class=\"col_heading level0 col1\" >jobdesc</th>\n",
              "      <th id=\"T_1b5e4_level0_col2\" class=\"col_heading level0 col2\" >salary</th>\n",
              "    </tr>\n",
              "  </thead>\n",
              "  <tbody>\n",
              "    <tr>\n",
              "      <td id=\"T_1b5e4_row0_col0\" class=\"data row0 col0\" >Dikshit</td>\n",
              "      <td id=\"T_1b5e4_row0_col1\" class=\"data row0 col1\" >Clerk</td>\n",
              "      <td id=\"T_1b5e4_row0_col2\" class=\"data row0 col2\" >10000</td>\n",
              "    </tr>\n",
              "    <tr>\n",
              "      <td id=\"T_1b5e4_row1_col0\" class=\"data row1 col0\" >Sehwag</td>\n",
              "      <td id=\"T_1b5e4_row1_col1\" class=\"data row1 col1\" >Cus_Rep</td>\n",
              "      <td id=\"T_1b5e4_row1_col2\" class=\"data row1 col2\" >15000</td>\n",
              "    </tr>\n",
              "    <tr>\n",
              "      <td id=\"T_1b5e4_row2_col0\" class=\"data row2 col0\" >Dhoni</td>\n",
              "      <td id=\"T_1b5e4_row2_col1\" class=\"data row2 col1\" >Clerk</td>\n",
              "      <td id=\"T_1b5e4_row2_col2\" class=\"data row2 col2\" >9000</td>\n",
              "    </tr>\n",
              "    <tr>\n",
              "      <td id=\"T_1b5e4_row3_col0\" class=\"data row3 col0\" >Dalmia</td>\n",
              "      <td id=\"T_1b5e4_row3_col1\" class=\"data row3 col1\" >Clerk</td>\n",
              "      <td id=\"T_1b5e4_row3_col2\" class=\"data row3 col2\" >12000</td>\n",
              "    </tr>\n",
              "    <tr>\n",
              "      <td id=\"T_1b5e4_row4_col0\" class=\"data row4 col0\" >Ganguly</td>\n",
              "      <td id=\"T_1b5e4_row4_col1\" class=\"data row4 col1\" >Cus_Rep</td>\n",
              "      <td id=\"T_1b5e4_row4_col2\" class=\"data row4 col2\" >20000</td>\n",
              "    </tr>\n",
              "    <tr>\n",
              "      <td id=\"T_1b5e4_row5_col0\" class=\"data row5 col0\" >Mirza</td>\n",
              "      <td id=\"T_1b5e4_row5_col1\" class=\"data row5 col1\" >Cus_Rep</td>\n",
              "      <td id=\"T_1b5e4_row5_col2\" class=\"data row5 col2\" >25000</td>\n",
              "    </tr>\n",
              "  </tbody>\n",
              "</table>\n"
            ]
          },
          "metadata": {},
          "execution_count": 34
        }
      ]
    },
    {
      "cell_type": "code",
      "source": [
        "runSelect(\"select lastname, jobdesc, salary from empl where (jobdesc = 'Cus_Rep' or jobdesc = 'Clerk') and salary < 16000\")"
      ],
      "metadata": {
        "colab": {
          "base_uri": "https://localhost:8080/",
          "height": 175
        },
        "id": "g7hbzjdxuOt6",
        "outputId": "99d7bcbf-931f-4533-ac54-955b656f5929"
      },
      "execution_count": 35,
      "outputs": [
        {
          "output_type": "execute_result",
          "data": {
            "text/plain": [
              "<pandas.io.formats.style.Styler at 0x7ae5fb971490>"
            ],
            "text/html": [
              "<style type=\"text/css\">\n",
              "</style>\n",
              "<table id=\"T_4f96d\" class=\"dataframe\">\n",
              "  <thead>\n",
              "    <tr>\n",
              "      <th id=\"T_4f96d_level0_col0\" class=\"col_heading level0 col0\" >lastname</th>\n",
              "      <th id=\"T_4f96d_level0_col1\" class=\"col_heading level0 col1\" >jobdesc</th>\n",
              "      <th id=\"T_4f96d_level0_col2\" class=\"col_heading level0 col2\" >salary</th>\n",
              "    </tr>\n",
              "  </thead>\n",
              "  <tbody>\n",
              "    <tr>\n",
              "      <td id=\"T_4f96d_row0_col0\" class=\"data row0 col0\" >Dikshit</td>\n",
              "      <td id=\"T_4f96d_row0_col1\" class=\"data row0 col1\" >Clerk</td>\n",
              "      <td id=\"T_4f96d_row0_col2\" class=\"data row0 col2\" >10000</td>\n",
              "    </tr>\n",
              "    <tr>\n",
              "      <td id=\"T_4f96d_row1_col0\" class=\"data row1 col0\" >Sehwag</td>\n",
              "      <td id=\"T_4f96d_row1_col1\" class=\"data row1 col1\" >Cus_Rep</td>\n",
              "      <td id=\"T_4f96d_row1_col2\" class=\"data row1 col2\" >15000</td>\n",
              "    </tr>\n",
              "    <tr>\n",
              "      <td id=\"T_4f96d_row2_col0\" class=\"data row2 col0\" >Dhoni</td>\n",
              "      <td id=\"T_4f96d_row2_col1\" class=\"data row2 col1\" >Clerk</td>\n",
              "      <td id=\"T_4f96d_row2_col2\" class=\"data row2 col2\" >9000</td>\n",
              "    </tr>\n",
              "    <tr>\n",
              "      <td id=\"T_4f96d_row3_col0\" class=\"data row3 col0\" >Dalmia</td>\n",
              "      <td id=\"T_4f96d_row3_col1\" class=\"data row3 col1\" >Clerk</td>\n",
              "      <td id=\"T_4f96d_row3_col2\" class=\"data row3 col2\" >12000</td>\n",
              "    </tr>\n",
              "  </tbody>\n",
              "</table>\n"
            ]
          },
          "metadata": {},
          "execution_count": 35
        }
      ]
    },
    {
      "cell_type": "markdown",
      "source": [
        "# Single Row Functions"
      ],
      "metadata": {
        "id": "ND-8LYQcxsG2"
      }
    },
    {
      "cell_type": "code",
      "source": [
        "runSelect(\"select lastname, deptid, salary, comm, salary+salary*comm payout from empl where deptid = '20'\")"
      ],
      "metadata": {
        "colab": {
          "base_uri": "https://localhost:8080/",
          "height": 143
        },
        "id": "s71weE_hyDwf",
        "outputId": "b186f391-d96c-4a0b-a2f2-198295233963"
      },
      "execution_count": 36,
      "outputs": [
        {
          "output_type": "execute_result",
          "data": {
            "text/plain": [
              "<pandas.io.formats.style.Styler at 0x7ae5fb972f50>"
            ],
            "text/html": [
              "<style type=\"text/css\">\n",
              "</style>\n",
              "<table id=\"T_adae3\" class=\"dataframe\">\n",
              "  <thead>\n",
              "    <tr>\n",
              "      <th id=\"T_adae3_level0_col0\" class=\"col_heading level0 col0\" >lastname</th>\n",
              "      <th id=\"T_adae3_level0_col1\" class=\"col_heading level0 col1\" >deptid</th>\n",
              "      <th id=\"T_adae3_level0_col2\" class=\"col_heading level0 col2\" >salary</th>\n",
              "      <th id=\"T_adae3_level0_col3\" class=\"col_heading level0 col3\" >comm</th>\n",
              "      <th id=\"T_adae3_level0_col4\" class=\"col_heading level0 col4\" >payout</th>\n",
              "    </tr>\n",
              "  </thead>\n",
              "  <tbody>\n",
              "    <tr>\n",
              "      <td id=\"T_adae3_row0_col0\" class=\"data row0 col0\" >Dikshit</td>\n",
              "      <td id=\"T_adae3_row0_col1\" class=\"data row0 col1\" >20</td>\n",
              "      <td id=\"T_adae3_row0_col2\" class=\"data row0 col2\" >10000</td>\n",
              "      <td id=\"T_adae3_row0_col3\" class=\"data row0 col3\" >0.02</td>\n",
              "      <td id=\"T_adae3_row0_col4\" class=\"data row0 col4\" >10200.00</td>\n",
              "    </tr>\n",
              "    <tr>\n",
              "      <td id=\"T_adae3_row1_col0\" class=\"data row1 col0\" >Khan</td>\n",
              "      <td id=\"T_adae3_row1_col1\" class=\"data row1 col1\" >20</td>\n",
              "      <td id=\"T_adae3_row1_col2\" class=\"data row1 col2\" >30000</td>\n",
              "      <td id=\"T_adae3_row1_col3\" class=\"data row1 col3\" >0.07</td>\n",
              "      <td id=\"T_adae3_row1_col4\" class=\"data row1 col4\" >32100.00</td>\n",
              "    </tr>\n",
              "    <tr>\n",
              "      <td id=\"T_adae3_row2_col0\" class=\"data row2 col0\" >Sehwag</td>\n",
              "      <td id=\"T_adae3_row2_col1\" class=\"data row2 col1\" >20</td>\n",
              "      <td id=\"T_adae3_row2_col2\" class=\"data row2 col2\" >15000</td>\n",
              "      <td id=\"T_adae3_row2_col3\" class=\"data row2 col3\" >0.05</td>\n",
              "      <td id=\"T_adae3_row2_col4\" class=\"data row2 col4\" >15750.00</td>\n",
              "    </tr>\n",
              "  </tbody>\n",
              "</table>\n"
            ]
          },
          "metadata": {},
          "execution_count": 36
        }
      ]
    },
    {
      "cell_type": "code",
      "source": [
        "runSelect(\"select lastname, firstname, deptid, substring(firstname,1,3) nick from empl where deptid = '20'\")"
      ],
      "metadata": {
        "colab": {
          "base_uri": "https://localhost:8080/",
          "height": 143
        },
        "id": "I3rkoZrYyb_P",
        "outputId": "b61dcbb7-0923-486a-9742-31a0b03ccaff"
      },
      "execution_count": 37,
      "outputs": [
        {
          "output_type": "execute_result",
          "data": {
            "text/plain": [
              "<pandas.io.formats.style.Styler at 0x7ae5fbaad690>"
            ],
            "text/html": [
              "<style type=\"text/css\">\n",
              "</style>\n",
              "<table id=\"T_eb0da\" class=\"dataframe\">\n",
              "  <thead>\n",
              "    <tr>\n",
              "      <th id=\"T_eb0da_level0_col0\" class=\"col_heading level0 col0\" >lastname</th>\n",
              "      <th id=\"T_eb0da_level0_col1\" class=\"col_heading level0 col1\" >firstname</th>\n",
              "      <th id=\"T_eb0da_level0_col2\" class=\"col_heading level0 col2\" >deptid</th>\n",
              "      <th id=\"T_eb0da_level0_col3\" class=\"col_heading level0 col3\" >nick</th>\n",
              "    </tr>\n",
              "  </thead>\n",
              "  <tbody>\n",
              "    <tr>\n",
              "      <td id=\"T_eb0da_row0_col0\" class=\"data row0 col0\" >Dikshit</td>\n",
              "      <td id=\"T_eb0da_row0_col1\" class=\"data row0 col1\" >Madhuri</td>\n",
              "      <td id=\"T_eb0da_row0_col2\" class=\"data row0 col2\" >20</td>\n",
              "      <td id=\"T_eb0da_row0_col3\" class=\"data row0 col3\" >Mad</td>\n",
              "    </tr>\n",
              "    <tr>\n",
              "      <td id=\"T_eb0da_row1_col0\" class=\"data row1 col0\" >Khan</td>\n",
              "      <td id=\"T_eb0da_row1_col1\" class=\"data row1 col1\" >Shahrukh</td>\n",
              "      <td id=\"T_eb0da_row1_col2\" class=\"data row1 col2\" >20</td>\n",
              "      <td id=\"T_eb0da_row1_col3\" class=\"data row1 col3\" >Sha</td>\n",
              "    </tr>\n",
              "    <tr>\n",
              "      <td id=\"T_eb0da_row2_col0\" class=\"data row2 col0\" >Sehwag</td>\n",
              "      <td id=\"T_eb0da_row2_col1\" class=\"data row2 col1\" >Virender</td>\n",
              "      <td id=\"T_eb0da_row2_col2\" class=\"data row2 col2\" >20</td>\n",
              "      <td id=\"T_eb0da_row2_col3\" class=\"data row2 col3\" >Vir</td>\n",
              "    </tr>\n",
              "  </tbody>\n",
              "</table>\n"
            ]
          },
          "metadata": {},
          "execution_count": 37
        }
      ]
    },
    {
      "cell_type": "code",
      "source": [
        "runSelect(\"select lastname, firstname, deptid, concat('\\\"',substring(firstname,2,3),'\\\" ',lastname) nick from empl where deptid = '20'\")"
      ],
      "metadata": {
        "colab": {
          "base_uri": "https://localhost:8080/",
          "height": 143
        },
        "id": "xNQl1KpSzIQc",
        "outputId": "d3945d9d-8a2c-4528-835e-0227d45f1fa4"
      },
      "execution_count": 38,
      "outputs": [
        {
          "output_type": "execute_result",
          "data": {
            "text/plain": [
              "<pandas.io.formats.style.Styler at 0x7ae5fb966650>"
            ],
            "text/html": [
              "<style type=\"text/css\">\n",
              "</style>\n",
              "<table id=\"T_fb4fe\" class=\"dataframe\">\n",
              "  <thead>\n",
              "    <tr>\n",
              "      <th id=\"T_fb4fe_level0_col0\" class=\"col_heading level0 col0\" >lastname</th>\n",
              "      <th id=\"T_fb4fe_level0_col1\" class=\"col_heading level0 col1\" >firstname</th>\n",
              "      <th id=\"T_fb4fe_level0_col2\" class=\"col_heading level0 col2\" >deptid</th>\n",
              "      <th id=\"T_fb4fe_level0_col3\" class=\"col_heading level0 col3\" >nick</th>\n",
              "    </tr>\n",
              "  </thead>\n",
              "  <tbody>\n",
              "    <tr>\n",
              "      <td id=\"T_fb4fe_row0_col0\" class=\"data row0 col0\" >Dikshit</td>\n",
              "      <td id=\"T_fb4fe_row0_col1\" class=\"data row0 col1\" >Madhuri</td>\n",
              "      <td id=\"T_fb4fe_row0_col2\" class=\"data row0 col2\" >20</td>\n",
              "      <td id=\"T_fb4fe_row0_col3\" class=\"data row0 col3\" >\"adh\" Dikshit</td>\n",
              "    </tr>\n",
              "    <tr>\n",
              "      <td id=\"T_fb4fe_row1_col0\" class=\"data row1 col0\" >Khan</td>\n",
              "      <td id=\"T_fb4fe_row1_col1\" class=\"data row1 col1\" >Shahrukh</td>\n",
              "      <td id=\"T_fb4fe_row1_col2\" class=\"data row1 col2\" >20</td>\n",
              "      <td id=\"T_fb4fe_row1_col3\" class=\"data row1 col3\" >\"hah\" Khan</td>\n",
              "    </tr>\n",
              "    <tr>\n",
              "      <td id=\"T_fb4fe_row2_col0\" class=\"data row2 col0\" >Sehwag</td>\n",
              "      <td id=\"T_fb4fe_row2_col1\" class=\"data row2 col1\" >Virender</td>\n",
              "      <td id=\"T_fb4fe_row2_col2\" class=\"data row2 col2\" >20</td>\n",
              "      <td id=\"T_fb4fe_row2_col3\" class=\"data row2 col3\" >\"ire\" Sehwag</td>\n",
              "    </tr>\n",
              "  </tbody>\n",
              "</table>\n"
            ]
          },
          "metadata": {},
          "execution_count": 38
        }
      ]
    },
    {
      "cell_type": "code",
      "source": [
        "runSelect(\"select LastName, Current_Date,JoinDate, to_char(JoinDate,'Day') JoinDay, to_char(JoinDate,'DD-mon-YY') JoinDate2, \\\n",
        "Current_Date-JoinDate DaysSince from Empl\")\n",
        "\n",
        "#https://blog.quest.com/exploring-postgres-date-formats-and-their-different-functions/\n"
      ],
      "metadata": {
        "id": "37Rjgkxz-BP0",
        "outputId": "685aebdd-02cb-41ef-c630-97e3bf724275",
        "colab": {
          "base_uri": "https://localhost:8080/",
          "height": 457
        }
      },
      "execution_count": 39,
      "outputs": [
        {
          "output_type": "execute_result",
          "data": {
            "text/plain": [
              "<pandas.io.formats.style.Styler at 0x7ae5fb965cd0>"
            ],
            "text/html": [
              "<style type=\"text/css\">\n",
              "</style>\n",
              "<table id=\"T_a59f0\" class=\"dataframe\">\n",
              "  <thead>\n",
              "    <tr>\n",
              "      <th id=\"T_a59f0_level0_col0\" class=\"col_heading level0 col0\" >lastname</th>\n",
              "      <th id=\"T_a59f0_level0_col1\" class=\"col_heading level0 col1\" >current_date</th>\n",
              "      <th id=\"T_a59f0_level0_col2\" class=\"col_heading level0 col2\" >joindate</th>\n",
              "      <th id=\"T_a59f0_level0_col3\" class=\"col_heading level0 col3\" >joinday</th>\n",
              "      <th id=\"T_a59f0_level0_col4\" class=\"col_heading level0 col4\" >joindate2</th>\n",
              "      <th id=\"T_a59f0_level0_col5\" class=\"col_heading level0 col5\" >dayssince</th>\n",
              "    </tr>\n",
              "  </thead>\n",
              "  <tbody>\n",
              "    <tr>\n",
              "      <td id=\"T_a59f0_row0_col0\" class=\"data row0 col0\" >Bacchan</td>\n",
              "      <td id=\"T_a59f0_row0_col1\" class=\"data row0 col1\" >2025-03-11</td>\n",
              "      <td id=\"T_a59f0_row0_col2\" class=\"data row0 col2\" >2003-03-10</td>\n",
              "      <td id=\"T_a59f0_row0_col3\" class=\"data row0 col3\" >Monday   </td>\n",
              "      <td id=\"T_a59f0_row0_col4\" class=\"data row0 col4\" >10-mar-03</td>\n",
              "      <td id=\"T_a59f0_row0_col5\" class=\"data row0 col5\" >8037</td>\n",
              "    </tr>\n",
              "    <tr>\n",
              "      <td id=\"T_a59f0_row1_col0\" class=\"data row1 col0\" >Mukherjee</td>\n",
              "      <td id=\"T_a59f0_row1_col1\" class=\"data row1 col1\" >2025-03-11</td>\n",
              "      <td id=\"T_a59f0_row1_col2\" class=\"data row1 col2\" >2005-05-04</td>\n",
              "      <td id=\"T_a59f0_row1_col3\" class=\"data row1 col3\" >Wednesday</td>\n",
              "      <td id=\"T_a59f0_row1_col4\" class=\"data row1 col4\" >04-may-05</td>\n",
              "      <td id=\"T_a59f0_row1_col5\" class=\"data row1 col5\" >7251</td>\n",
              "    </tr>\n",
              "    <tr>\n",
              "      <td id=\"T_a59f0_row2_col0\" class=\"data row2 col0\" >Dikshit</td>\n",
              "      <td id=\"T_a59f0_row2_col1\" class=\"data row2 col1\" >2025-03-11</td>\n",
              "      <td id=\"T_a59f0_row2_col2\" class=\"data row2 col2\" >2002-04-04</td>\n",
              "      <td id=\"T_a59f0_row2_col3\" class=\"data row2 col3\" >Thursday </td>\n",
              "      <td id=\"T_a59f0_row2_col4\" class=\"data row2 col4\" >04-apr-02</td>\n",
              "      <td id=\"T_a59f0_row2_col5\" class=\"data row2 col5\" >8377</td>\n",
              "    </tr>\n",
              "    <tr>\n",
              "      <td id=\"T_a59f0_row3_col0\" class=\"data row3 col0\" >Khan</td>\n",
              "      <td id=\"T_a59f0_row3_col1\" class=\"data row3 col1\" >2025-03-11</td>\n",
              "      <td id=\"T_a59f0_row3_col2\" class=\"data row3 col2\" >2004-01-03</td>\n",
              "      <td id=\"T_a59f0_row3_col3\" class=\"data row3 col3\" >Saturday </td>\n",
              "      <td id=\"T_a59f0_row3_col4\" class=\"data row3 col4\" >03-jan-04</td>\n",
              "      <td id=\"T_a59f0_row3_col5\" class=\"data row3 col5\" >7738</td>\n",
              "    </tr>\n",
              "    <tr>\n",
              "      <td id=\"T_a59f0_row4_col0\" class=\"data row4 col0\" >Sehwag</td>\n",
              "      <td id=\"T_a59f0_row4_col1\" class=\"data row4 col1\" >2025-03-11</td>\n",
              "      <td id=\"T_a59f0_row4_col2\" class=\"data row4 col2\" >2005-01-02</td>\n",
              "      <td id=\"T_a59f0_row4_col3\" class=\"data row4 col3\" >Sunday   </td>\n",
              "      <td id=\"T_a59f0_row4_col4\" class=\"data row4 col4\" >02-jan-05</td>\n",
              "      <td id=\"T_a59f0_row4_col5\" class=\"data row4 col5\" >7373</td>\n",
              "    </tr>\n",
              "    <tr>\n",
              "      <td id=\"T_a59f0_row5_col0\" class=\"data row5 col0\" >Dhoni</td>\n",
              "      <td id=\"T_a59f0_row5_col1\" class=\"data row5 col1\" >2025-03-11</td>\n",
              "      <td id=\"T_a59f0_row5_col2\" class=\"data row5 col2\" >2004-10-09</td>\n",
              "      <td id=\"T_a59f0_row5_col3\" class=\"data row5 col3\" >Saturday </td>\n",
              "      <td id=\"T_a59f0_row5_col4\" class=\"data row5 col4\" >09-oct-04</td>\n",
              "      <td id=\"T_a59f0_row5_col5\" class=\"data row5 col5\" >7458</td>\n",
              "    </tr>\n",
              "    <tr>\n",
              "      <td id=\"T_a59f0_row6_col0\" class=\"data row6 col0\" >Dravid</td>\n",
              "      <td id=\"T_a59f0_row6_col1\" class=\"data row6 col1\" >2025-03-11</td>\n",
              "      <td id=\"T_a59f0_row6_col2\" class=\"data row6 col2\" >2000-06-04</td>\n",
              "      <td id=\"T_a59f0_row6_col3\" class=\"data row6 col3\" >Sunday   </td>\n",
              "      <td id=\"T_a59f0_row6_col4\" class=\"data row6 col4\" >04-jun-00</td>\n",
              "      <td id=\"T_a59f0_row6_col5\" class=\"data row6 col5\" >9046</td>\n",
              "    </tr>\n",
              "    <tr>\n",
              "      <td id=\"T_a59f0_row7_col0\" class=\"data row7 col0\" >Dalmia</td>\n",
              "      <td id=\"T_a59f0_row7_col1\" class=\"data row7 col1\" >2025-03-11</td>\n",
              "      <td id=\"T_a59f0_row7_col2\" class=\"data row7 col2\" >2001-07-01</td>\n",
              "      <td id=\"T_a59f0_row7_col3\" class=\"data row7 col3\" >Sunday   </td>\n",
              "      <td id=\"T_a59f0_row7_col4\" class=\"data row7 col4\" >01-jul-01</td>\n",
              "      <td id=\"T_a59f0_row7_col5\" class=\"data row7 col5\" >8654</td>\n",
              "    </tr>\n",
              "    <tr>\n",
              "      <td id=\"T_a59f0_row8_col0\" class=\"data row8 col0\" >Ganguly</td>\n",
              "      <td id=\"T_a59f0_row8_col1\" class=\"data row8 col1\" >2025-03-11</td>\n",
              "      <td id=\"T_a59f0_row8_col2\" class=\"data row8 col2\" >2002-01-01</td>\n",
              "      <td id=\"T_a59f0_row8_col3\" class=\"data row8 col3\" >Tuesday  </td>\n",
              "      <td id=\"T_a59f0_row8_col4\" class=\"data row8 col4\" >01-jan-02</td>\n",
              "      <td id=\"T_a59f0_row8_col5\" class=\"data row8 col5\" >8470</td>\n",
              "    </tr>\n",
              "    <tr>\n",
              "      <td id=\"T_a59f0_row9_col0\" class=\"data row9 col0\" >Ganesan</td>\n",
              "      <td id=\"T_a59f0_row9_col1\" class=\"data row9 col1\" >2025-03-11</td>\n",
              "      <td id=\"T_a59f0_row9_col2\" class=\"data row9 col2\" >2002-10-10</td>\n",
              "      <td id=\"T_a59f0_row9_col3\" class=\"data row9 col3\" >Thursday </td>\n",
              "      <td id=\"T_a59f0_row9_col4\" class=\"data row9 col4\" >10-oct-02</td>\n",
              "      <td id=\"T_a59f0_row9_col5\" class=\"data row9 col5\" >8188</td>\n",
              "    </tr>\n",
              "    <tr>\n",
              "      <td id=\"T_a59f0_row10_col0\" class=\"data row10 col0\" >Karthikeyan</td>\n",
              "      <td id=\"T_a59f0_row10_col1\" class=\"data row10 col1\" >2025-03-11</td>\n",
              "      <td id=\"T_a59f0_row10_col2\" class=\"data row10 col2\" >2005-12-04</td>\n",
              "      <td id=\"T_a59f0_row10_col3\" class=\"data row10 col3\" >Sunday   </td>\n",
              "      <td id=\"T_a59f0_row10_col4\" class=\"data row10 col4\" >04-dec-05</td>\n",
              "      <td id=\"T_a59f0_row10_col5\" class=\"data row10 col5\" >7037</td>\n",
              "    </tr>\n",
              "    <tr>\n",
              "      <td id=\"T_a59f0_row11_col0\" class=\"data row11 col0\" >Sunil</td>\n",
              "      <td id=\"T_a59f0_row11_col1\" class=\"data row11 col1\" >2025-03-11</td>\n",
              "      <td id=\"T_a59f0_row11_col2\" class=\"data row11 col2\" >2006-12-07</td>\n",
              "      <td id=\"T_a59f0_row11_col3\" class=\"data row11 col3\" >Thursday </td>\n",
              "      <td id=\"T_a59f0_row11_col4\" class=\"data row11 col4\" >07-dec-06</td>\n",
              "      <td id=\"T_a59f0_row11_col5\" class=\"data row11 col5\" >6669</td>\n",
              "    </tr>\n",
              "    <tr>\n",
              "      <td id=\"T_a59f0_row12_col0\" class=\"data row12 col0\" >Mirza</td>\n",
              "      <td id=\"T_a59f0_row12_col1\" class=\"data row12 col1\" >2025-03-11</td>\n",
              "      <td id=\"T_a59f0_row12_col2\" class=\"data row12 col2\" >2001-11-19</td>\n",
              "      <td id=\"T_a59f0_row12_col3\" class=\"data row12 col3\" >Monday   </td>\n",
              "      <td id=\"T_a59f0_row12_col4\" class=\"data row12 col4\" >19-nov-01</td>\n",
              "      <td id=\"T_a59f0_row12_col5\" class=\"data row12 col5\" >8513</td>\n",
              "    </tr>\n",
              "  </tbody>\n",
              "</table>\n"
            ]
          },
          "metadata": {},
          "execution_count": 39
        }
      ]
    },
    {
      "cell_type": "markdown",
      "source": [
        "# MultiRow Function | Group By | Having\n",
        "for more complex examples that demonstrate Grouping Sets, Cubes, Roll UP, Crosstabs and other OLAP related SQL see [this notebook](https://github.com/Praxis-QR/RDWH/blob/main/PostgreSQL_03B_SQL_Level2.ipynb)"
      ],
      "metadata": {
        "id": "ONgFWUTC2IPK"
      }
    },
    {
      "cell_type": "code",
      "source": [
        "runSelect(\"select sum(salary) Total_Salary from empl\")"
      ],
      "metadata": {
        "colab": {
          "base_uri": "https://localhost:8080/",
          "height": 81
        },
        "id": "7MnnzfJx2PSc",
        "outputId": "ead4ac95-1c7d-47cb-b13e-5a1df05c0b1e"
      },
      "execution_count": 40,
      "outputs": [
        {
          "output_type": "execute_result",
          "data": {
            "text/plain": [
              "<pandas.io.formats.style.Styler at 0x7ae5fb95f290>"
            ],
            "text/html": [
              "<style type=\"text/css\">\n",
              "</style>\n",
              "<table id=\"T_453ee\" class=\"dataframe\">\n",
              "  <thead>\n",
              "    <tr>\n",
              "      <th id=\"T_453ee_level0_col0\" class=\"col_heading level0 col0\" >total_salary</th>\n",
              "    </tr>\n",
              "  </thead>\n",
              "  <tbody>\n",
              "    <tr>\n",
              "      <td id=\"T_453ee_row0_col0\" class=\"data row0 col0\" >376000</td>\n",
              "    </tr>\n",
              "  </tbody>\n",
              "</table>\n"
            ]
          },
          "metadata": {},
          "execution_count": 40
        }
      ]
    },
    {
      "cell_type": "code",
      "source": [
        "runSelect(\"select round(avg(salary),2) Average_Salary from empl\")"
      ],
      "metadata": {
        "colab": {
          "base_uri": "https://localhost:8080/",
          "height": 81
        },
        "id": "e3Avb-HL4QPD",
        "outputId": "a3600606-d0bb-4bc1-c5ed-10a0a1a4043a"
      },
      "execution_count": 41,
      "outputs": [
        {
          "output_type": "execute_result",
          "data": {
            "text/plain": [
              "<pandas.io.formats.style.Styler at 0x7ae5fb95da90>"
            ],
            "text/html": [
              "<style type=\"text/css\">\n",
              "</style>\n",
              "<table id=\"T_942d3\" class=\"dataframe\">\n",
              "  <thead>\n",
              "    <tr>\n",
              "      <th id=\"T_942d3_level0_col0\" class=\"col_heading level0 col0\" >average_salary</th>\n",
              "    </tr>\n",
              "  </thead>\n",
              "  <tbody>\n",
              "    <tr>\n",
              "      <td id=\"T_942d3_row0_col0\" class=\"data row0 col0\" >28923.08</td>\n",
              "    </tr>\n",
              "  </tbody>\n",
              "</table>\n"
            ]
          },
          "metadata": {},
          "execution_count": 41
        }
      ]
    },
    {
      "cell_type": "code",
      "source": [
        "runSelect(\"select max(salary) Max_Salary from empl\")"
      ],
      "metadata": {
        "colab": {
          "base_uri": "https://localhost:8080/",
          "height": 81
        },
        "id": "Oe1qRQbI4gtY",
        "outputId": "fb73c193-fbda-4c69-e7a3-5e9689ee42de"
      },
      "execution_count": 42,
      "outputs": [
        {
          "output_type": "execute_result",
          "data": {
            "text/plain": [
              "<pandas.io.formats.style.Styler at 0x7ae5fb95cad0>"
            ],
            "text/html": [
              "<style type=\"text/css\">\n",
              "</style>\n",
              "<table id=\"T_34e7e\" class=\"dataframe\">\n",
              "  <thead>\n",
              "    <tr>\n",
              "      <th id=\"T_34e7e_level0_col0\" class=\"col_heading level0 col0\" >max_salary</th>\n",
              "    </tr>\n",
              "  </thead>\n",
              "  <tbody>\n",
              "    <tr>\n",
              "      <td id=\"T_34e7e_row0_col0\" class=\"data row0 col0\" >60000</td>\n",
              "    </tr>\n",
              "  </tbody>\n",
              "</table>\n"
            ]
          },
          "metadata": {},
          "execution_count": 42
        }
      ]
    },
    {
      "cell_type": "code",
      "source": [
        "runSelect(\"select deptid, sum(salary) Total, max(salary) Max from empl group by deptid\")"
      ],
      "metadata": {
        "colab": {
          "base_uri": "https://localhost:8080/",
          "height": 206
        },
        "id": "xpmGXSAX69iU",
        "outputId": "dc019a38-4cfd-48bd-f6c1-f4110f3b0337"
      },
      "execution_count": 43,
      "outputs": [
        {
          "output_type": "execute_result",
          "data": {
            "text/plain": [
              "<pandas.io.formats.style.Styler at 0x7ae5fb965710>"
            ],
            "text/html": [
              "<style type=\"text/css\">\n",
              "</style>\n",
              "<table id=\"T_be539\" class=\"dataframe\">\n",
              "  <thead>\n",
              "    <tr>\n",
              "      <th id=\"T_be539_level0_col0\" class=\"col_heading level0 col0\" >deptid</th>\n",
              "      <th id=\"T_be539_level0_col1\" class=\"col_heading level0 col1\" >total</th>\n",
              "      <th id=\"T_be539_level0_col2\" class=\"col_heading level0 col2\" >max</th>\n",
              "    </tr>\n",
              "  </thead>\n",
              "  <tbody>\n",
              "    <tr>\n",
              "      <td id=\"T_be539_row0_col0\" class=\"data row0 col0\" >10</td>\n",
              "      <td id=\"T_be539_row0_col1\" class=\"data row0 col1\" >150000</td>\n",
              "      <td id=\"T_be539_row0_col2\" class=\"data row0 col2\" >60000</td>\n",
              "    </tr>\n",
              "    <tr>\n",
              "      <td id=\"T_be539_row1_col0\" class=\"data row1 col0\" >40</td>\n",
              "      <td id=\"T_be539_row1_col1\" class=\"data row1 col1\" >54000</td>\n",
              "      <td id=\"T_be539_row1_col2\" class=\"data row1 col2\" >25000</td>\n",
              "    </tr>\n",
              "    <tr>\n",
              "      <td id=\"T_be539_row2_col0\" class=\"data row2 col0\" >70</td>\n",
              "      <td id=\"T_be539_row2_col1\" class=\"data row2 col1\" >40000</td>\n",
              "      <td id=\"T_be539_row2_col2\" class=\"data row2 col2\" >40000</td>\n",
              "    </tr>\n",
              "    <tr>\n",
              "      <td id=\"T_be539_row3_col0\" class=\"data row3 col0\" >20</td>\n",
              "      <td id=\"T_be539_row3_col1\" class=\"data row3 col1\" >55000</td>\n",
              "      <td id=\"T_be539_row3_col2\" class=\"data row3 col2\" >30000</td>\n",
              "    </tr>\n",
              "    <tr>\n",
              "      <td id=\"T_be539_row4_col0\" class=\"data row4 col0\" >30</td>\n",
              "      <td id=\"T_be539_row4_col1\" class=\"data row4 col1\" >77000</td>\n",
              "      <td id=\"T_be539_row4_col2\" class=\"data row4 col2\" >40000</td>\n",
              "    </tr>\n",
              "  </tbody>\n",
              "</table>\n"
            ]
          },
          "metadata": {},
          "execution_count": 43
        }
      ]
    },
    {
      "cell_type": "code",
      "source": [
        "runSelect(\"select deptid, sum(salary) Total, max(salary) Max from empl group by deptid having sum(salary) > 50000\")"
      ],
      "metadata": {
        "colab": {
          "base_uri": "https://localhost:8080/",
          "height": 175
        },
        "id": "AdNDutZl7LCF",
        "outputId": "c7c2f805-bb00-451f-be8c-786edf14f76b"
      },
      "execution_count": 44,
      "outputs": [
        {
          "output_type": "execute_result",
          "data": {
            "text/plain": [
              "<pandas.io.formats.style.Styler at 0x7ae5fb972010>"
            ],
            "text/html": [
              "<style type=\"text/css\">\n",
              "</style>\n",
              "<table id=\"T_e08be\" class=\"dataframe\">\n",
              "  <thead>\n",
              "    <tr>\n",
              "      <th id=\"T_e08be_level0_col0\" class=\"col_heading level0 col0\" >deptid</th>\n",
              "      <th id=\"T_e08be_level0_col1\" class=\"col_heading level0 col1\" >total</th>\n",
              "      <th id=\"T_e08be_level0_col2\" class=\"col_heading level0 col2\" >max</th>\n",
              "    </tr>\n",
              "  </thead>\n",
              "  <tbody>\n",
              "    <tr>\n",
              "      <td id=\"T_e08be_row0_col0\" class=\"data row0 col0\" >10</td>\n",
              "      <td id=\"T_e08be_row0_col1\" class=\"data row0 col1\" >150000</td>\n",
              "      <td id=\"T_e08be_row0_col2\" class=\"data row0 col2\" >60000</td>\n",
              "    </tr>\n",
              "    <tr>\n",
              "      <td id=\"T_e08be_row1_col0\" class=\"data row1 col0\" >40</td>\n",
              "      <td id=\"T_e08be_row1_col1\" class=\"data row1 col1\" >54000</td>\n",
              "      <td id=\"T_e08be_row1_col2\" class=\"data row1 col2\" >25000</td>\n",
              "    </tr>\n",
              "    <tr>\n",
              "      <td id=\"T_e08be_row2_col0\" class=\"data row2 col0\" >20</td>\n",
              "      <td id=\"T_e08be_row2_col1\" class=\"data row2 col1\" >55000</td>\n",
              "      <td id=\"T_e08be_row2_col2\" class=\"data row2 col2\" >30000</td>\n",
              "    </tr>\n",
              "    <tr>\n",
              "      <td id=\"T_e08be_row3_col0\" class=\"data row3 col0\" >30</td>\n",
              "      <td id=\"T_e08be_row3_col1\" class=\"data row3 col1\" >77000</td>\n",
              "      <td id=\"T_e08be_row3_col2\" class=\"data row3 col2\" >40000</td>\n",
              "    </tr>\n",
              "  </tbody>\n",
              "</table>\n"
            ]
          },
          "metadata": {},
          "execution_count": 44
        }
      ]
    },
    {
      "cell_type": "code",
      "source": [
        "runSelect(\"select deptid, sum(salary) Total, max(salary) Max from empl group by deptid having sum(salary) > 50000 and max(salary) < 35000\")"
      ],
      "metadata": {
        "colab": {
          "base_uri": "https://localhost:8080/",
          "height": 112
        },
        "id": "4VFmL5JF7bYo",
        "outputId": "15edabaf-c3c1-43f9-e315-9b6a8f338a5a"
      },
      "execution_count": 45,
      "outputs": [
        {
          "output_type": "execute_result",
          "data": {
            "text/plain": [
              "<pandas.io.formats.style.Styler at 0x7ae5fb9543d0>"
            ],
            "text/html": [
              "<style type=\"text/css\">\n",
              "</style>\n",
              "<table id=\"T_9418b\" class=\"dataframe\">\n",
              "  <thead>\n",
              "    <tr>\n",
              "      <th id=\"T_9418b_level0_col0\" class=\"col_heading level0 col0\" >deptid</th>\n",
              "      <th id=\"T_9418b_level0_col1\" class=\"col_heading level0 col1\" >total</th>\n",
              "      <th id=\"T_9418b_level0_col2\" class=\"col_heading level0 col2\" >max</th>\n",
              "    </tr>\n",
              "  </thead>\n",
              "  <tbody>\n",
              "    <tr>\n",
              "      <td id=\"T_9418b_row0_col0\" class=\"data row0 col0\" >40</td>\n",
              "      <td id=\"T_9418b_row0_col1\" class=\"data row0 col1\" >54000</td>\n",
              "      <td id=\"T_9418b_row0_col2\" class=\"data row0 col2\" >25000</td>\n",
              "    </tr>\n",
              "    <tr>\n",
              "      <td id=\"T_9418b_row1_col0\" class=\"data row1 col0\" >20</td>\n",
              "      <td id=\"T_9418b_row1_col1\" class=\"data row1 col1\" >55000</td>\n",
              "      <td id=\"T_9418b_row1_col2\" class=\"data row1 col2\" >30000</td>\n",
              "    </tr>\n",
              "  </tbody>\n",
              "</table>\n"
            ]
          },
          "metadata": {},
          "execution_count": 45
        }
      ]
    },
    {
      "cell_type": "markdown",
      "source": [
        "#Conditionals | CASE"
      ],
      "metadata": {
        "id": "xDsapsK8Afpj"
      }
    },
    {
      "cell_type": "code",
      "source": [
        "runSelect(\"select lastname, jobdesc, salary, comm, salary+salary*comm Payout,\\\n",
        "case when jobdesc like '%Manager' then 2000 else 0 end bonus from empl\")"
      ],
      "metadata": {
        "colab": {
          "base_uri": "https://localhost:8080/",
          "height": 457
        },
        "id": "bYRWDlVNAxKx",
        "outputId": "0fe20cf8-cb6d-4df3-9548-8c592264e668"
      },
      "execution_count": 46,
      "outputs": [
        {
          "output_type": "execute_result",
          "data": {
            "text/plain": [
              "<pandas.io.formats.style.Styler at 0x7ae5fb955f50>"
            ],
            "text/html": [
              "<style type=\"text/css\">\n",
              "</style>\n",
              "<table id=\"T_9ac54\" class=\"dataframe\">\n",
              "  <thead>\n",
              "    <tr>\n",
              "      <th id=\"T_9ac54_level0_col0\" class=\"col_heading level0 col0\" >lastname</th>\n",
              "      <th id=\"T_9ac54_level0_col1\" class=\"col_heading level0 col1\" >jobdesc</th>\n",
              "      <th id=\"T_9ac54_level0_col2\" class=\"col_heading level0 col2\" >salary</th>\n",
              "      <th id=\"T_9ac54_level0_col3\" class=\"col_heading level0 col3\" >comm</th>\n",
              "      <th id=\"T_9ac54_level0_col4\" class=\"col_heading level0 col4\" >payout</th>\n",
              "      <th id=\"T_9ac54_level0_col5\" class=\"col_heading level0 col5\" >bonus</th>\n",
              "    </tr>\n",
              "  </thead>\n",
              "  <tbody>\n",
              "    <tr>\n",
              "      <td id=\"T_9ac54_row0_col0\" class=\"data row0 col0\" >Bacchan</td>\n",
              "      <td id=\"T_9ac54_row0_col1\" class=\"data row0 col1\" >Executive</td>\n",
              "      <td id=\"T_9ac54_row0_col2\" class=\"data row0 col2\" >50000</td>\n",
              "      <td id=\"T_9ac54_row0_col3\" class=\"data row0 col3\" >0.10</td>\n",
              "      <td id=\"T_9ac54_row0_col4\" class=\"data row0 col4\" >55000.00</td>\n",
              "      <td id=\"T_9ac54_row0_col5\" class=\"data row0 col5\" >0</td>\n",
              "    </tr>\n",
              "    <tr>\n",
              "      <td id=\"T_9ac54_row1_col0\" class=\"data row1 col0\" >Mukherjee</td>\n",
              "      <td id=\"T_9ac54_row1_col1\" class=\"data row1 col1\" >Manager</td>\n",
              "      <td id=\"T_9ac54_row1_col2\" class=\"data row1 col2\" >25000</td>\n",
              "      <td id=\"T_9ac54_row1_col3\" class=\"data row1 col3\" >0.06</td>\n",
              "      <td id=\"T_9ac54_row1_col4\" class=\"data row1 col4\" >26500.00</td>\n",
              "      <td id=\"T_9ac54_row1_col5\" class=\"data row1 col5\" >2000</td>\n",
              "    </tr>\n",
              "    <tr>\n",
              "      <td id=\"T_9ac54_row2_col0\" class=\"data row2 col0\" >Dikshit</td>\n",
              "      <td id=\"T_9ac54_row2_col1\" class=\"data row2 col1\" >Clerk</td>\n",
              "      <td id=\"T_9ac54_row2_col2\" class=\"data row2 col2\" >10000</td>\n",
              "      <td id=\"T_9ac54_row2_col3\" class=\"data row2 col3\" >0.02</td>\n",
              "      <td id=\"T_9ac54_row2_col4\" class=\"data row2 col4\" >10200.00</td>\n",
              "      <td id=\"T_9ac54_row2_col5\" class=\"data row2 col5\" >0</td>\n",
              "    </tr>\n",
              "    <tr>\n",
              "      <td id=\"T_9ac54_row3_col0\" class=\"data row3 col0\" >Khan</td>\n",
              "      <td id=\"T_9ac54_row3_col1\" class=\"data row3 col1\" >Manager</td>\n",
              "      <td id=\"T_9ac54_row3_col2\" class=\"data row3 col2\" >30000</td>\n",
              "      <td id=\"T_9ac54_row3_col3\" class=\"data row3 col3\" >0.07</td>\n",
              "      <td id=\"T_9ac54_row3_col4\" class=\"data row3 col4\" >32100.00</td>\n",
              "      <td id=\"T_9ac54_row3_col5\" class=\"data row3 col5\" >2000</td>\n",
              "    </tr>\n",
              "    <tr>\n",
              "      <td id=\"T_9ac54_row4_col0\" class=\"data row4 col0\" >Sehwag</td>\n",
              "      <td id=\"T_9ac54_row4_col1\" class=\"data row4 col1\" >Cus_Rep</td>\n",
              "      <td id=\"T_9ac54_row4_col2\" class=\"data row4 col2\" >15000</td>\n",
              "      <td id=\"T_9ac54_row4_col3\" class=\"data row4 col3\" >0.05</td>\n",
              "      <td id=\"T_9ac54_row4_col4\" class=\"data row4 col4\" >15750.00</td>\n",
              "      <td id=\"T_9ac54_row4_col5\" class=\"data row4 col5\" >0</td>\n",
              "    </tr>\n",
              "    <tr>\n",
              "      <td id=\"T_9ac54_row5_col0\" class=\"data row5 col0\" >Dhoni</td>\n",
              "      <td id=\"T_9ac54_row5_col1\" class=\"data row5 col1\" >Clerk</td>\n",
              "      <td id=\"T_9ac54_row5_col2\" class=\"data row5 col2\" >9000</td>\n",
              "      <td id=\"T_9ac54_row5_col3\" class=\"data row5 col3\" >0.02</td>\n",
              "      <td id=\"T_9ac54_row5_col4\" class=\"data row5 col4\" >9180.00</td>\n",
              "      <td id=\"T_9ac54_row5_col5\" class=\"data row5 col5\" >0</td>\n",
              "    </tr>\n",
              "    <tr>\n",
              "      <td id=\"T_9ac54_row6_col0\" class=\"data row6 col0\" >Dravid</td>\n",
              "      <td id=\"T_9ac54_row6_col1\" class=\"data row6 col1\" >Sr Manager</td>\n",
              "      <td id=\"T_9ac54_row6_col2\" class=\"data row6 col2\" >40000</td>\n",
              "      <td id=\"T_9ac54_row6_col3\" class=\"data row6 col3\" >0.08</td>\n",
              "      <td id=\"T_9ac54_row6_col4\" class=\"data row6 col4\" >43200.00</td>\n",
              "      <td id=\"T_9ac54_row6_col5\" class=\"data row6 col5\" >2000</td>\n",
              "    </tr>\n",
              "    <tr>\n",
              "      <td id=\"T_9ac54_row7_col0\" class=\"data row7 col0\" >Dalmia</td>\n",
              "      <td id=\"T_9ac54_row7_col1\" class=\"data row7 col1\" >Clerk</td>\n",
              "      <td id=\"T_9ac54_row7_col2\" class=\"data row7 col2\" >12000</td>\n",
              "      <td id=\"T_9ac54_row7_col3\" class=\"data row7 col3\" >0.02</td>\n",
              "      <td id=\"T_9ac54_row7_col4\" class=\"data row7 col4\" >12240.00</td>\n",
              "      <td id=\"T_9ac54_row7_col5\" class=\"data row7 col5\" >0</td>\n",
              "    </tr>\n",
              "    <tr>\n",
              "      <td id=\"T_9ac54_row8_col0\" class=\"data row8 col0\" >Ganguly</td>\n",
              "      <td id=\"T_9ac54_row8_col1\" class=\"data row8 col1\" >Cus_Rep</td>\n",
              "      <td id=\"T_9ac54_row8_col2\" class=\"data row8 col2\" >20000</td>\n",
              "      <td id=\"T_9ac54_row8_col3\" class=\"data row8 col3\" >0.03</td>\n",
              "      <td id=\"T_9ac54_row8_col4\" class=\"data row8 col4\" >20600.00</td>\n",
              "      <td id=\"T_9ac54_row8_col5\" class=\"data row8 col5\" >0</td>\n",
              "    </tr>\n",
              "    <tr>\n",
              "      <td id=\"T_9ac54_row9_col0\" class=\"data row9 col0\" >Ganesan</td>\n",
              "      <td id=\"T_9ac54_row9_col1\" class=\"data row9 col1\" >Director</td>\n",
              "      <td id=\"T_9ac54_row9_col2\" class=\"data row9 col2\" >60000</td>\n",
              "      <td id=\"T_9ac54_row9_col3\" class=\"data row9 col3\" >0.11</td>\n",
              "      <td id=\"T_9ac54_row9_col4\" class=\"data row9 col4\" >66600.00</td>\n",
              "      <td id=\"T_9ac54_row9_col5\" class=\"data row9 col5\" >0</td>\n",
              "    </tr>\n",
              "    <tr>\n",
              "      <td id=\"T_9ac54_row10_col0\" class=\"data row10 col0\" >Karthikeyan</td>\n",
              "      <td id=\"T_9ac54_row10_col1\" class=\"data row10 col1\" >Secretary</td>\n",
              "      <td id=\"T_9ac54_row10_col2\" class=\"data row10 col2\" >40000</td>\n",
              "      <td id=\"T_9ac54_row10_col3\" class=\"data row10 col3\" >0.09</td>\n",
              "      <td id=\"T_9ac54_row10_col4\" class=\"data row10 col4\" >43600.00</td>\n",
              "      <td id=\"T_9ac54_row10_col5\" class=\"data row10 col5\" >0</td>\n",
              "    </tr>\n",
              "    <tr>\n",
              "      <td id=\"T_9ac54_row11_col0\" class=\"data row11 col0\" >Sunil</td>\n",
              "      <td id=\"T_9ac54_row11_col1\" class=\"data row11 col1\" >Dy Manager</td>\n",
              "      <td id=\"T_9ac54_row11_col2\" class=\"data row11 col2\" >40000</td>\n",
              "      <td id=\"T_9ac54_row11_col3\" class=\"data row11 col3\" >0.05</td>\n",
              "      <td id=\"T_9ac54_row11_col4\" class=\"data row11 col4\" >42000.00</td>\n",
              "      <td id=\"T_9ac54_row11_col5\" class=\"data row11 col5\" >2000</td>\n",
              "    </tr>\n",
              "    <tr>\n",
              "      <td id=\"T_9ac54_row12_col0\" class=\"data row12 col0\" >Mirza</td>\n",
              "      <td id=\"T_9ac54_row12_col1\" class=\"data row12 col1\" >Cus_Rep</td>\n",
              "      <td id=\"T_9ac54_row12_col2\" class=\"data row12 col2\" >25000</td>\n",
              "      <td id=\"T_9ac54_row12_col3\" class=\"data row12 col3\" >0.04</td>\n",
              "      <td id=\"T_9ac54_row12_col4\" class=\"data row12 col4\" >26000.00</td>\n",
              "      <td id=\"T_9ac54_row12_col5\" class=\"data row12 col5\" >0</td>\n",
              "    </tr>\n",
              "  </tbody>\n",
              "</table>\n"
            ]
          },
          "metadata": {},
          "execution_count": 46
        }
      ]
    },
    {
      "cell_type": "code",
      "source": [
        "runSelect(\"select lastname, deptid,\\\n",
        "case \\\n",
        "when deptid in ('10','20') then 'Head' \\\n",
        "when deptid = '30' then 'Regional'\\\n",
        "else 'Branch' \\\n",
        "end \\\n",
        " office from empl\")"
      ],
      "metadata": {
        "colab": {
          "base_uri": "https://localhost:8080/",
          "height": 457
        },
        "id": "jbpKn1y0DwYG",
        "outputId": "492cc493-b0c7-4e53-af67-03b7ca9ab461"
      },
      "execution_count": 47,
      "outputs": [
        {
          "output_type": "execute_result",
          "data": {
            "text/plain": [
              "<pandas.io.formats.style.Styler at 0x7ae5fb957250>"
            ],
            "text/html": [
              "<style type=\"text/css\">\n",
              "</style>\n",
              "<table id=\"T_59979\" class=\"dataframe\">\n",
              "  <thead>\n",
              "    <tr>\n",
              "      <th id=\"T_59979_level0_col0\" class=\"col_heading level0 col0\" >lastname</th>\n",
              "      <th id=\"T_59979_level0_col1\" class=\"col_heading level0 col1\" >deptid</th>\n",
              "      <th id=\"T_59979_level0_col2\" class=\"col_heading level0 col2\" >office</th>\n",
              "    </tr>\n",
              "  </thead>\n",
              "  <tbody>\n",
              "    <tr>\n",
              "      <td id=\"T_59979_row0_col0\" class=\"data row0 col0\" >Bacchan</td>\n",
              "      <td id=\"T_59979_row0_col1\" class=\"data row0 col1\" >10</td>\n",
              "      <td id=\"T_59979_row0_col2\" class=\"data row0 col2\" >Head</td>\n",
              "    </tr>\n",
              "    <tr>\n",
              "      <td id=\"T_59979_row1_col0\" class=\"data row1 col0\" >Mukherjee</td>\n",
              "      <td id=\"T_59979_row1_col1\" class=\"data row1 col1\" >40</td>\n",
              "      <td id=\"T_59979_row1_col2\" class=\"data row1 col2\" >Branch</td>\n",
              "    </tr>\n",
              "    <tr>\n",
              "      <td id=\"T_59979_row2_col0\" class=\"data row2 col0\" >Dikshit</td>\n",
              "      <td id=\"T_59979_row2_col1\" class=\"data row2 col1\" >20</td>\n",
              "      <td id=\"T_59979_row2_col2\" class=\"data row2 col2\" >Head</td>\n",
              "    </tr>\n",
              "    <tr>\n",
              "      <td id=\"T_59979_row3_col0\" class=\"data row3 col0\" >Khan</td>\n",
              "      <td id=\"T_59979_row3_col1\" class=\"data row3 col1\" >20</td>\n",
              "      <td id=\"T_59979_row3_col2\" class=\"data row3 col2\" >Head</td>\n",
              "    </tr>\n",
              "    <tr>\n",
              "      <td id=\"T_59979_row4_col0\" class=\"data row4 col0\" >Sehwag</td>\n",
              "      <td id=\"T_59979_row4_col1\" class=\"data row4 col1\" >20</td>\n",
              "      <td id=\"T_59979_row4_col2\" class=\"data row4 col2\" >Head</td>\n",
              "    </tr>\n",
              "    <tr>\n",
              "      <td id=\"T_59979_row5_col0\" class=\"data row5 col0\" >Dhoni</td>\n",
              "      <td id=\"T_59979_row5_col1\" class=\"data row5 col1\" >40</td>\n",
              "      <td id=\"T_59979_row5_col2\" class=\"data row5 col2\" >Branch</td>\n",
              "    </tr>\n",
              "    <tr>\n",
              "      <td id=\"T_59979_row6_col0\" class=\"data row6 col0\" >Dravid</td>\n",
              "      <td id=\"T_59979_row6_col1\" class=\"data row6 col1\" >30</td>\n",
              "      <td id=\"T_59979_row6_col2\" class=\"data row6 col2\" >Regional</td>\n",
              "    </tr>\n",
              "    <tr>\n",
              "      <td id=\"T_59979_row7_col0\" class=\"data row7 col0\" >Dalmia</td>\n",
              "      <td id=\"T_59979_row7_col1\" class=\"data row7 col1\" >30</td>\n",
              "      <td id=\"T_59979_row7_col2\" class=\"data row7 col2\" >Regional</td>\n",
              "    </tr>\n",
              "    <tr>\n",
              "      <td id=\"T_59979_row8_col0\" class=\"data row8 col0\" >Ganguly</td>\n",
              "      <td id=\"T_59979_row8_col1\" class=\"data row8 col1\" >40</td>\n",
              "      <td id=\"T_59979_row8_col2\" class=\"data row8 col2\" >Branch</td>\n",
              "    </tr>\n",
              "    <tr>\n",
              "      <td id=\"T_59979_row9_col0\" class=\"data row9 col0\" >Ganesan</td>\n",
              "      <td id=\"T_59979_row9_col1\" class=\"data row9 col1\" >10</td>\n",
              "      <td id=\"T_59979_row9_col2\" class=\"data row9 col2\" >Head</td>\n",
              "    </tr>\n",
              "    <tr>\n",
              "      <td id=\"T_59979_row10_col0\" class=\"data row10 col0\" >Karthikeyan</td>\n",
              "      <td id=\"T_59979_row10_col1\" class=\"data row10 col1\" >10</td>\n",
              "      <td id=\"T_59979_row10_col2\" class=\"data row10 col2\" >Head</td>\n",
              "    </tr>\n",
              "    <tr>\n",
              "      <td id=\"T_59979_row11_col0\" class=\"data row11 col0\" >Sunil</td>\n",
              "      <td id=\"T_59979_row11_col1\" class=\"data row11 col1\" >70</td>\n",
              "      <td id=\"T_59979_row11_col2\" class=\"data row11 col2\" >Branch</td>\n",
              "    </tr>\n",
              "    <tr>\n",
              "      <td id=\"T_59979_row12_col0\" class=\"data row12 col0\" >Mirza</td>\n",
              "      <td id=\"T_59979_row12_col1\" class=\"data row12 col1\" >30</td>\n",
              "      <td id=\"T_59979_row12_col2\" class=\"data row12 col2\" >Regional</td>\n",
              "    </tr>\n",
              "  </tbody>\n",
              "</table>\n"
            ]
          },
          "metadata": {},
          "execution_count": 47
        }
      ]
    },
    {
      "cell_type": "markdown",
      "source": [
        "#Join"
      ],
      "metadata": {
        "id": "Rs10ezIPpP0C"
      }
    },
    {
      "cell_type": "markdown",
      "source": [
        "## Basic Inner Join"
      ],
      "metadata": {
        "id": "XMfZP6HUpT4B"
      }
    },
    {
      "cell_type": "code",
      "source": [
        "sql = 'select firstname, lastname, salary, deptname, location, managerid from empl, dept where empl.deptid = dept.deptid'\n",
        "runSelect(sql)"
      ],
      "metadata": {
        "colab": {
          "base_uri": "https://localhost:8080/",
          "height": 425
        },
        "id": "ISiD-VP6pbUz",
        "outputId": "94c1ad1d-7dc9-407e-82a8-3817abbe1924"
      },
      "execution_count": 48,
      "outputs": [
        {
          "output_type": "execute_result",
          "data": {
            "text/plain": [
              "<pandas.io.formats.style.Styler at 0x7ae5fb95dd90>"
            ],
            "text/html": [
              "<style type=\"text/css\">\n",
              "</style>\n",
              "<table id=\"T_bb46d\" class=\"dataframe\">\n",
              "  <thead>\n",
              "    <tr>\n",
              "      <th id=\"T_bb46d_level0_col0\" class=\"col_heading level0 col0\" >firstname</th>\n",
              "      <th id=\"T_bb46d_level0_col1\" class=\"col_heading level0 col1\" >lastname</th>\n",
              "      <th id=\"T_bb46d_level0_col2\" class=\"col_heading level0 col2\" >salary</th>\n",
              "      <th id=\"T_bb46d_level0_col3\" class=\"col_heading level0 col3\" >deptname</th>\n",
              "      <th id=\"T_bb46d_level0_col4\" class=\"col_heading level0 col4\" >location</th>\n",
              "      <th id=\"T_bb46d_level0_col5\" class=\"col_heading level0 col5\" >managerid</th>\n",
              "    </tr>\n",
              "  </thead>\n",
              "  <tbody>\n",
              "    <tr>\n",
              "      <td id=\"T_bb46d_row0_col0\" class=\"data row0 col0\" >Narayan</td>\n",
              "      <td id=\"T_bb46d_row0_col1\" class=\"data row0 col1\" >Karthikeyan</td>\n",
              "      <td id=\"T_bb46d_row0_col2\" class=\"data row0 col2\" >40000</td>\n",
              "      <td id=\"T_bb46d_row0_col3\" class=\"data row0 col3\" >Corporate</td>\n",
              "      <td id=\"T_bb46d_row0_col4\" class=\"data row0 col4\" >Calcutta</td>\n",
              "      <td id=\"T_bb46d_row0_col5\" class=\"data row0 col5\" >299034</td>\n",
              "    </tr>\n",
              "    <tr>\n",
              "      <td id=\"T_bb46d_row1_col0\" class=\"data row1 col0\" >Rekha</td>\n",
              "      <td id=\"T_bb46d_row1_col1\" class=\"data row1 col1\" >Ganesan</td>\n",
              "      <td id=\"T_bb46d_row1_col2\" class=\"data row1 col2\" >60000</td>\n",
              "      <td id=\"T_bb46d_row1_col3\" class=\"data row1 col3\" >Corporate</td>\n",
              "      <td id=\"T_bb46d_row1_col4\" class=\"data row1 col4\" >Calcutta</td>\n",
              "      <td id=\"T_bb46d_row1_col5\" class=\"data row1 col5\" >299034</td>\n",
              "    </tr>\n",
              "    <tr>\n",
              "      <td id=\"T_bb46d_row2_col0\" class=\"data row2 col0\" >Amitabh</td>\n",
              "      <td id=\"T_bb46d_row2_col1\" class=\"data row2 col1\" >Bacchan</td>\n",
              "      <td id=\"T_bb46d_row2_col2\" class=\"data row2 col2\" >50000</td>\n",
              "      <td id=\"T_bb46d_row2_col3\" class=\"data row2 col3\" >Corporate</td>\n",
              "      <td id=\"T_bb46d_row2_col4\" class=\"data row2 col4\" >Calcutta</td>\n",
              "      <td id=\"T_bb46d_row2_col5\" class=\"data row2 col5\" >299034</td>\n",
              "    </tr>\n",
              "    <tr>\n",
              "      <td id=\"T_bb46d_row3_col0\" class=\"data row3 col0\" >Virender</td>\n",
              "      <td id=\"T_bb46d_row3_col1\" class=\"data row3 col1\" >Sehwag</td>\n",
              "      <td id=\"T_bb46d_row3_col2\" class=\"data row3 col2\" >15000</td>\n",
              "      <td id=\"T_bb46d_row3_col3\" class=\"data row3 col3\" >Sales</td>\n",
              "      <td id=\"T_bb46d_row3_col4\" class=\"data row3 col4\" >Calcutta</td>\n",
              "      <td id=\"T_bb46d_row3_col5\" class=\"data row3 col5\" >239456</td>\n",
              "    </tr>\n",
              "    <tr>\n",
              "      <td id=\"T_bb46d_row4_col0\" class=\"data row4 col0\" >Shahrukh</td>\n",
              "      <td id=\"T_bb46d_row4_col1\" class=\"data row4 col1\" >Khan</td>\n",
              "      <td id=\"T_bb46d_row4_col2\" class=\"data row4 col2\" >30000</td>\n",
              "      <td id=\"T_bb46d_row4_col3\" class=\"data row4 col3\" >Sales</td>\n",
              "      <td id=\"T_bb46d_row4_col4\" class=\"data row4 col4\" >Calcutta</td>\n",
              "      <td id=\"T_bb46d_row4_col5\" class=\"data row4 col5\" >239456</td>\n",
              "    </tr>\n",
              "    <tr>\n",
              "      <td id=\"T_bb46d_row5_col0\" class=\"data row5 col0\" >Madhuri</td>\n",
              "      <td id=\"T_bb46d_row5_col1\" class=\"data row5 col1\" >Dikshit</td>\n",
              "      <td id=\"T_bb46d_row5_col2\" class=\"data row5 col2\" >10000</td>\n",
              "      <td id=\"T_bb46d_row5_col3\" class=\"data row5 col3\" >Sales</td>\n",
              "      <td id=\"T_bb46d_row5_col4\" class=\"data row5 col4\" >Calcutta</td>\n",
              "      <td id=\"T_bb46d_row5_col5\" class=\"data row5 col5\" >239456</td>\n",
              "    </tr>\n",
              "    <tr>\n",
              "      <td id=\"T_bb46d_row6_col0\" class=\"data row6 col0\" >Sania</td>\n",
              "      <td id=\"T_bb46d_row6_col1\" class=\"data row6 col1\" >Mirza</td>\n",
              "      <td id=\"T_bb46d_row6_col2\" class=\"data row6 col2\" >25000</td>\n",
              "      <td id=\"T_bb46d_row6_col3\" class=\"data row6 col3\" >Accounts</td>\n",
              "      <td id=\"T_bb46d_row6_col4\" class=\"data row6 col4\" >Calcutta</td>\n",
              "      <td id=\"T_bb46d_row6_col5\" class=\"data row6 col5\" >822134</td>\n",
              "    </tr>\n",
              "    <tr>\n",
              "      <td id=\"T_bb46d_row7_col0\" class=\"data row7 col0\" >Jagmohan</td>\n",
              "      <td id=\"T_bb46d_row7_col1\" class=\"data row7 col1\" >Dalmia</td>\n",
              "      <td id=\"T_bb46d_row7_col2\" class=\"data row7 col2\" >12000</td>\n",
              "      <td id=\"T_bb46d_row7_col3\" class=\"data row7 col3\" >Accounts</td>\n",
              "      <td id=\"T_bb46d_row7_col4\" class=\"data row7 col4\" >Calcutta</td>\n",
              "      <td id=\"T_bb46d_row7_col5\" class=\"data row7 col5\" >822134</td>\n",
              "    </tr>\n",
              "    <tr>\n",
              "      <td id=\"T_bb46d_row8_col0\" class=\"data row8 col0\" >Rahul</td>\n",
              "      <td id=\"T_bb46d_row8_col1\" class=\"data row8 col1\" >Dravid</td>\n",
              "      <td id=\"T_bb46d_row8_col2\" class=\"data row8 col2\" >40000</td>\n",
              "      <td id=\"T_bb46d_row8_col3\" class=\"data row8 col3\" >Accounts</td>\n",
              "      <td id=\"T_bb46d_row8_col4\" class=\"data row8 col4\" >Calcutta</td>\n",
              "      <td id=\"T_bb46d_row8_col5\" class=\"data row8 col5\" >822134</td>\n",
              "    </tr>\n",
              "    <tr>\n",
              "      <td id=\"T_bb46d_row9_col0\" class=\"data row9 col0\" >Sourav</td>\n",
              "      <td id=\"T_bb46d_row9_col1\" class=\"data row9 col1\" >Ganguly</td>\n",
              "      <td id=\"T_bb46d_row9_col2\" class=\"data row9 col2\" >20000</td>\n",
              "      <td id=\"T_bb46d_row9_col3\" class=\"data row9 col3\" >Production</td>\n",
              "      <td id=\"T_bb46d_row9_col4\" class=\"data row9 col4\" >Bombay</td>\n",
              "      <td id=\"T_bb46d_row9_col5\" class=\"data row9 col5\" >349870</td>\n",
              "    </tr>\n",
              "    <tr>\n",
              "      <td id=\"T_bb46d_row10_col0\" class=\"data row10 col0\" >Mahender</td>\n",
              "      <td id=\"T_bb46d_row10_col1\" class=\"data row10 col1\" >Dhoni</td>\n",
              "      <td id=\"T_bb46d_row10_col2\" class=\"data row10 col2\" >9000</td>\n",
              "      <td id=\"T_bb46d_row10_col3\" class=\"data row10 col3\" >Production</td>\n",
              "      <td id=\"T_bb46d_row10_col4\" class=\"data row10 col4\" >Bombay</td>\n",
              "      <td id=\"T_bb46d_row10_col5\" class=\"data row10 col5\" >349870</td>\n",
              "    </tr>\n",
              "    <tr>\n",
              "      <td id=\"T_bb46d_row11_col0\" class=\"data row11 col0\" >Rani</td>\n",
              "      <td id=\"T_bb46d_row11_col1\" class=\"data row11 col1\" >Mukherjee</td>\n",
              "      <td id=\"T_bb46d_row11_col2\" class=\"data row11 col2\" >25000</td>\n",
              "      <td id=\"T_bb46d_row11_col3\" class=\"data row11 col3\" >Production</td>\n",
              "      <td id=\"T_bb46d_row11_col4\" class=\"data row11 col4\" >Bombay</td>\n",
              "      <td id=\"T_bb46d_row11_col5\" class=\"data row11 col5\" >349870</td>\n",
              "    </tr>\n",
              "  </tbody>\n",
              "</table>\n"
            ]
          },
          "metadata": {},
          "execution_count": 48
        }
      ]
    },
    {
      "cell_type": "code",
      "source": [
        "sql = 'select empid, firstname, deptname, location from empl INNER JOIN dept ON empl.deptid = dept.deptid'\n",
        "runSelect(sql)"
      ],
      "metadata": {
        "colab": {
          "base_uri": "https://localhost:8080/",
          "height": 425
        },
        "id": "LVrEArEc1VcF",
        "outputId": "20bb9606-426e-43be-f080-69b7b835e98f"
      },
      "execution_count": 49,
      "outputs": [
        {
          "output_type": "execute_result",
          "data": {
            "text/plain": [
              "<pandas.io.formats.style.Styler at 0x7ae5fb93fcd0>"
            ],
            "text/html": [
              "<style type=\"text/css\">\n",
              "</style>\n",
              "<table id=\"T_c04ed\" class=\"dataframe\">\n",
              "  <thead>\n",
              "    <tr>\n",
              "      <th id=\"T_c04ed_level0_col0\" class=\"col_heading level0 col0\" >empid</th>\n",
              "      <th id=\"T_c04ed_level0_col1\" class=\"col_heading level0 col1\" >firstname</th>\n",
              "      <th id=\"T_c04ed_level0_col2\" class=\"col_heading level0 col2\" >deptname</th>\n",
              "      <th id=\"T_c04ed_level0_col3\" class=\"col_heading level0 col3\" >location</th>\n",
              "    </tr>\n",
              "  </thead>\n",
              "  <tbody>\n",
              "    <tr>\n",
              "      <td id=\"T_c04ed_row0_col0\" class=\"data row0 col0\" >546223</td>\n",
              "      <td id=\"T_c04ed_row0_col1\" class=\"data row0 col1\" >Narayan</td>\n",
              "      <td id=\"T_c04ed_row0_col2\" class=\"data row0 col2\" >Corporate</td>\n",
              "      <td id=\"T_c04ed_row0_col3\" class=\"data row0 col3\" >Calcutta</td>\n",
              "    </tr>\n",
              "    <tr>\n",
              "      <td id=\"T_c04ed_row1_col0\" class=\"data row1 col0\" >299034</td>\n",
              "      <td id=\"T_c04ed_row1_col1\" class=\"data row1 col1\" >Rekha</td>\n",
              "      <td id=\"T_c04ed_row1_col2\" class=\"data row1 col2\" >Corporate</td>\n",
              "      <td id=\"T_c04ed_row1_col3\" class=\"data row1 col3\" >Calcutta</td>\n",
              "    </tr>\n",
              "    <tr>\n",
              "      <td id=\"T_c04ed_row2_col0\" class=\"data row2 col0\" >742866</td>\n",
              "      <td id=\"T_c04ed_row2_col1\" class=\"data row2 col1\" >Amitabh</td>\n",
              "      <td id=\"T_c04ed_row2_col2\" class=\"data row2 col2\" >Corporate</td>\n",
              "      <td id=\"T_c04ed_row2_col3\" class=\"data row2 col3\" >Calcutta</td>\n",
              "    </tr>\n",
              "    <tr>\n",
              "      <td id=\"T_c04ed_row3_col0\" class=\"data row3 col0\" >897889</td>\n",
              "      <td id=\"T_c04ed_row3_col1\" class=\"data row3 col1\" >Virender</td>\n",
              "      <td id=\"T_c04ed_row3_col2\" class=\"data row3 col2\" >Sales</td>\n",
              "      <td id=\"T_c04ed_row3_col3\" class=\"data row3 col3\" >Calcutta</td>\n",
              "    </tr>\n",
              "    <tr>\n",
              "      <td id=\"T_c04ed_row4_col0\" class=\"data row4 col0\" >239456</td>\n",
              "      <td id=\"T_c04ed_row4_col1\" class=\"data row4 col1\" >Shahrukh</td>\n",
              "      <td id=\"T_c04ed_row4_col2\" class=\"data row4 col2\" >Sales</td>\n",
              "      <td id=\"T_c04ed_row4_col3\" class=\"data row4 col3\" >Calcutta</td>\n",
              "    </tr>\n",
              "    <tr>\n",
              "      <td id=\"T_c04ed_row5_col0\" class=\"data row5 col0\" >865477</td>\n",
              "      <td id=\"T_c04ed_row5_col1\" class=\"data row5 col1\" >Madhuri</td>\n",
              "      <td id=\"T_c04ed_row5_col2\" class=\"data row5 col2\" >Sales</td>\n",
              "      <td id=\"T_c04ed_row5_col3\" class=\"data row5 col3\" >Calcutta</td>\n",
              "    </tr>\n",
              "    <tr>\n",
              "      <td id=\"T_c04ed_row6_col0\" class=\"data row6 col0\" >223112</td>\n",
              "      <td id=\"T_c04ed_row6_col1\" class=\"data row6 col1\" >Sania</td>\n",
              "      <td id=\"T_c04ed_row6_col2\" class=\"data row6 col2\" >Accounts</td>\n",
              "      <td id=\"T_c04ed_row6_col3\" class=\"data row6 col3\" >Calcutta</td>\n",
              "    </tr>\n",
              "    <tr>\n",
              "      <td id=\"T_c04ed_row7_col0\" class=\"data row7 col0\" >997445</td>\n",
              "      <td id=\"T_c04ed_row7_col1\" class=\"data row7 col1\" >Jagmohan</td>\n",
              "      <td id=\"T_c04ed_row7_col2\" class=\"data row7 col2\" >Accounts</td>\n",
              "      <td id=\"T_c04ed_row7_col3\" class=\"data row7 col3\" >Calcutta</td>\n",
              "    </tr>\n",
              "    <tr>\n",
              "      <td id=\"T_c04ed_row8_col0\" class=\"data row8 col0\" >822134</td>\n",
              "      <td id=\"T_c04ed_row8_col1\" class=\"data row8 col1\" >Rahul</td>\n",
              "      <td id=\"T_c04ed_row8_col2\" class=\"data row8 col2\" >Accounts</td>\n",
              "      <td id=\"T_c04ed_row8_col3\" class=\"data row8 col3\" >Calcutta</td>\n",
              "    </tr>\n",
              "    <tr>\n",
              "      <td id=\"T_c04ed_row9_col0\" class=\"data row9 col0\" >989007</td>\n",
              "      <td id=\"T_c04ed_row9_col1\" class=\"data row9 col1\" >Sourav</td>\n",
              "      <td id=\"T_c04ed_row9_col2\" class=\"data row9 col2\" >Production</td>\n",
              "      <td id=\"T_c04ed_row9_col3\" class=\"data row9 col3\" >Bombay</td>\n",
              "    </tr>\n",
              "    <tr>\n",
              "      <td id=\"T_c04ed_row10_col0\" class=\"data row10 col0\" >123980</td>\n",
              "      <td id=\"T_c04ed_row10_col1\" class=\"data row10 col1\" >Mahender</td>\n",
              "      <td id=\"T_c04ed_row10_col2\" class=\"data row10 col2\" >Production</td>\n",
              "      <td id=\"T_c04ed_row10_col3\" class=\"data row10 col3\" >Bombay</td>\n",
              "    </tr>\n",
              "    <tr>\n",
              "      <td id=\"T_c04ed_row11_col0\" class=\"data row11 col0\" >349870</td>\n",
              "      <td id=\"T_c04ed_row11_col1\" class=\"data row11 col1\" >Rani</td>\n",
              "      <td id=\"T_c04ed_row11_col2\" class=\"data row11 col2\" >Production</td>\n",
              "      <td id=\"T_c04ed_row11_col3\" class=\"data row11 col3\" >Bombay</td>\n",
              "    </tr>\n",
              "  </tbody>\n",
              "</table>\n"
            ]
          },
          "metadata": {},
          "execution_count": 49
        }
      ]
    },
    {
      "cell_type": "code",
      "source": [
        "sql = 'select deptname,round(sum(salary),0) payroll from empl INNER JOIN dept ON empl.deptid = dept.deptid \\\n",
        "group by deptname'\n",
        "runSelect(sql)"
      ],
      "metadata": {
        "id": "pKk82QRi28DP",
        "outputId": "002938c7-06b6-4bae-c222-48d379596941",
        "colab": {
          "base_uri": "https://localhost:8080/",
          "height": 175
        }
      },
      "execution_count": 50,
      "outputs": [
        {
          "output_type": "execute_result",
          "data": {
            "text/plain": [
              "<pandas.io.formats.style.Styler at 0x7ae5fb931e50>"
            ],
            "text/html": [
              "<style type=\"text/css\">\n",
              "</style>\n",
              "<table id=\"T_6edeb\" class=\"dataframe\">\n",
              "  <thead>\n",
              "    <tr>\n",
              "      <th id=\"T_6edeb_level0_col0\" class=\"col_heading level0 col0\" >deptname</th>\n",
              "      <th id=\"T_6edeb_level0_col1\" class=\"col_heading level0 col1\" >payroll</th>\n",
              "    </tr>\n",
              "  </thead>\n",
              "  <tbody>\n",
              "    <tr>\n",
              "      <td id=\"T_6edeb_row0_col0\" class=\"data row0 col0\" >Corporate</td>\n",
              "      <td id=\"T_6edeb_row0_col1\" class=\"data row0 col1\" >150000</td>\n",
              "    </tr>\n",
              "    <tr>\n",
              "      <td id=\"T_6edeb_row1_col0\" class=\"data row1 col0\" >Accounts</td>\n",
              "      <td id=\"T_6edeb_row1_col1\" class=\"data row1 col1\" >77000</td>\n",
              "    </tr>\n",
              "    <tr>\n",
              "      <td id=\"T_6edeb_row2_col0\" class=\"data row2 col0\" >Sales</td>\n",
              "      <td id=\"T_6edeb_row2_col1\" class=\"data row2 col1\" >55000</td>\n",
              "    </tr>\n",
              "    <tr>\n",
              "      <td id=\"T_6edeb_row3_col0\" class=\"data row3 col0\" >Production</td>\n",
              "      <td id=\"T_6edeb_row3_col1\" class=\"data row3 col1\" >54000</td>\n",
              "    </tr>\n",
              "  </tbody>\n",
              "</table>\n"
            ]
          },
          "metadata": {},
          "execution_count": 50
        }
      ]
    },
    {
      "cell_type": "markdown",
      "source": [
        "## Outer Join"
      ],
      "metadata": {
        "id": "tK9uJHAL1u6x"
      }
    },
    {
      "cell_type": "markdown",
      "source": [
        "### Left Outer"
      ],
      "metadata": {
        "id": "5wGFVhyJ2x8S"
      }
    },
    {
      "cell_type": "code",
      "source": [
        "sql = 'select empid, firstname, deptname, location from empl LEFT JOIN dept ON empl.deptid = dept.deptid'\n",
        "runSelect(sql)"
      ],
      "metadata": {
        "colab": {
          "base_uri": "https://localhost:8080/",
          "height": 457
        },
        "id": "Ls6VfOXt1zTq",
        "outputId": "5214816c-8a8f-42f5-85cf-b182e9369ba3"
      },
      "execution_count": 51,
      "outputs": [
        {
          "output_type": "execute_result",
          "data": {
            "text/plain": [
              "<pandas.io.formats.style.Styler at 0x7ae5fb930250>"
            ],
            "text/html": [
              "<style type=\"text/css\">\n",
              "</style>\n",
              "<table id=\"T_5f2e7\" class=\"dataframe\">\n",
              "  <thead>\n",
              "    <tr>\n",
              "      <th id=\"T_5f2e7_level0_col0\" class=\"col_heading level0 col0\" >empid</th>\n",
              "      <th id=\"T_5f2e7_level0_col1\" class=\"col_heading level0 col1\" >firstname</th>\n",
              "      <th id=\"T_5f2e7_level0_col2\" class=\"col_heading level0 col2\" >deptname</th>\n",
              "      <th id=\"T_5f2e7_level0_col3\" class=\"col_heading level0 col3\" >location</th>\n",
              "    </tr>\n",
              "  </thead>\n",
              "  <tbody>\n",
              "    <tr>\n",
              "      <td id=\"T_5f2e7_row0_col0\" class=\"data row0 col0\" >546223</td>\n",
              "      <td id=\"T_5f2e7_row0_col1\" class=\"data row0 col1\" >Narayan</td>\n",
              "      <td id=\"T_5f2e7_row0_col2\" class=\"data row0 col2\" >Corporate</td>\n",
              "      <td id=\"T_5f2e7_row0_col3\" class=\"data row0 col3\" >Calcutta</td>\n",
              "    </tr>\n",
              "    <tr>\n",
              "      <td id=\"T_5f2e7_row1_col0\" class=\"data row1 col0\" >299034</td>\n",
              "      <td id=\"T_5f2e7_row1_col1\" class=\"data row1 col1\" >Rekha</td>\n",
              "      <td id=\"T_5f2e7_row1_col2\" class=\"data row1 col2\" >Corporate</td>\n",
              "      <td id=\"T_5f2e7_row1_col3\" class=\"data row1 col3\" >Calcutta</td>\n",
              "    </tr>\n",
              "    <tr>\n",
              "      <td id=\"T_5f2e7_row2_col0\" class=\"data row2 col0\" >742866</td>\n",
              "      <td id=\"T_5f2e7_row2_col1\" class=\"data row2 col1\" >Amitabh</td>\n",
              "      <td id=\"T_5f2e7_row2_col2\" class=\"data row2 col2\" >Corporate</td>\n",
              "      <td id=\"T_5f2e7_row2_col3\" class=\"data row2 col3\" >Calcutta</td>\n",
              "    </tr>\n",
              "    <tr>\n",
              "      <td id=\"T_5f2e7_row3_col0\" class=\"data row3 col0\" >897889</td>\n",
              "      <td id=\"T_5f2e7_row3_col1\" class=\"data row3 col1\" >Virender</td>\n",
              "      <td id=\"T_5f2e7_row3_col2\" class=\"data row3 col2\" >Sales</td>\n",
              "      <td id=\"T_5f2e7_row3_col3\" class=\"data row3 col3\" >Calcutta</td>\n",
              "    </tr>\n",
              "    <tr>\n",
              "      <td id=\"T_5f2e7_row4_col0\" class=\"data row4 col0\" >239456</td>\n",
              "      <td id=\"T_5f2e7_row4_col1\" class=\"data row4 col1\" >Shahrukh</td>\n",
              "      <td id=\"T_5f2e7_row4_col2\" class=\"data row4 col2\" >Sales</td>\n",
              "      <td id=\"T_5f2e7_row4_col3\" class=\"data row4 col3\" >Calcutta</td>\n",
              "    </tr>\n",
              "    <tr>\n",
              "      <td id=\"T_5f2e7_row5_col0\" class=\"data row5 col0\" >865477</td>\n",
              "      <td id=\"T_5f2e7_row5_col1\" class=\"data row5 col1\" >Madhuri</td>\n",
              "      <td id=\"T_5f2e7_row5_col2\" class=\"data row5 col2\" >Sales</td>\n",
              "      <td id=\"T_5f2e7_row5_col3\" class=\"data row5 col3\" >Calcutta</td>\n",
              "    </tr>\n",
              "    <tr>\n",
              "      <td id=\"T_5f2e7_row6_col0\" class=\"data row6 col0\" >223112</td>\n",
              "      <td id=\"T_5f2e7_row6_col1\" class=\"data row6 col1\" >Sania</td>\n",
              "      <td id=\"T_5f2e7_row6_col2\" class=\"data row6 col2\" >Accounts</td>\n",
              "      <td id=\"T_5f2e7_row6_col3\" class=\"data row6 col3\" >Calcutta</td>\n",
              "    </tr>\n",
              "    <tr>\n",
              "      <td id=\"T_5f2e7_row7_col0\" class=\"data row7 col0\" >997445</td>\n",
              "      <td id=\"T_5f2e7_row7_col1\" class=\"data row7 col1\" >Jagmohan</td>\n",
              "      <td id=\"T_5f2e7_row7_col2\" class=\"data row7 col2\" >Accounts</td>\n",
              "      <td id=\"T_5f2e7_row7_col3\" class=\"data row7 col3\" >Calcutta</td>\n",
              "    </tr>\n",
              "    <tr>\n",
              "      <td id=\"T_5f2e7_row8_col0\" class=\"data row8 col0\" >822134</td>\n",
              "      <td id=\"T_5f2e7_row8_col1\" class=\"data row8 col1\" >Rahul</td>\n",
              "      <td id=\"T_5f2e7_row8_col2\" class=\"data row8 col2\" >Accounts</td>\n",
              "      <td id=\"T_5f2e7_row8_col3\" class=\"data row8 col3\" >Calcutta</td>\n",
              "    </tr>\n",
              "    <tr>\n",
              "      <td id=\"T_5f2e7_row9_col0\" class=\"data row9 col0\" >989007</td>\n",
              "      <td id=\"T_5f2e7_row9_col1\" class=\"data row9 col1\" >Sourav</td>\n",
              "      <td id=\"T_5f2e7_row9_col2\" class=\"data row9 col2\" >Production</td>\n",
              "      <td id=\"T_5f2e7_row9_col3\" class=\"data row9 col3\" >Bombay</td>\n",
              "    </tr>\n",
              "    <tr>\n",
              "      <td id=\"T_5f2e7_row10_col0\" class=\"data row10 col0\" >123980</td>\n",
              "      <td id=\"T_5f2e7_row10_col1\" class=\"data row10 col1\" >Mahender</td>\n",
              "      <td id=\"T_5f2e7_row10_col2\" class=\"data row10 col2\" >Production</td>\n",
              "      <td id=\"T_5f2e7_row10_col3\" class=\"data row10 col3\" >Bombay</td>\n",
              "    </tr>\n",
              "    <tr>\n",
              "      <td id=\"T_5f2e7_row11_col0\" class=\"data row11 col0\" >349870</td>\n",
              "      <td id=\"T_5f2e7_row11_col1\" class=\"data row11 col1\" >Rani</td>\n",
              "      <td id=\"T_5f2e7_row11_col2\" class=\"data row11 col2\" >Production</td>\n",
              "      <td id=\"T_5f2e7_row11_col3\" class=\"data row11 col3\" >Bombay</td>\n",
              "    </tr>\n",
              "    <tr>\n",
              "      <td id=\"T_5f2e7_row12_col0\" class=\"data row12 col0\" >546224</td>\n",
              "      <td id=\"T_5f2e7_row12_col1\" class=\"data row12 col1\" >Chettri</td>\n",
              "      <td id=\"T_5f2e7_row12_col2\" class=\"data row12 col2\" >None</td>\n",
              "      <td id=\"T_5f2e7_row12_col3\" class=\"data row12 col3\" >None</td>\n",
              "    </tr>\n",
              "  </tbody>\n",
              "</table>\n"
            ]
          },
          "metadata": {},
          "execution_count": 51
        }
      ]
    },
    {
      "cell_type": "markdown",
      "source": [
        "### Right Outer"
      ],
      "metadata": {
        "id": "iJ6DASb121Og"
      }
    },
    {
      "cell_type": "code",
      "source": [
        "sql = 'select empid, firstname, deptname, location from empl RIGHT JOIN dept ON empl.deptid = dept.deptid'\n",
        "runSelect(sql)"
      ],
      "metadata": {
        "colab": {
          "base_uri": "https://localhost:8080/",
          "height": 457
        },
        "id": "khvQpQ4E2XND",
        "outputId": "97eff7d9-07cf-4c21-f80f-f211844b7a32"
      },
      "execution_count": 52,
      "outputs": [
        {
          "output_type": "execute_result",
          "data": {
            "text/plain": [
              "<pandas.io.formats.style.Styler at 0x7ae5fb92cbd0>"
            ],
            "text/html": [
              "<style type=\"text/css\">\n",
              "</style>\n",
              "<table id=\"T_0a84c\" class=\"dataframe\">\n",
              "  <thead>\n",
              "    <tr>\n",
              "      <th id=\"T_0a84c_level0_col0\" class=\"col_heading level0 col0\" >empid</th>\n",
              "      <th id=\"T_0a84c_level0_col1\" class=\"col_heading level0 col1\" >firstname</th>\n",
              "      <th id=\"T_0a84c_level0_col2\" class=\"col_heading level0 col2\" >deptname</th>\n",
              "      <th id=\"T_0a84c_level0_col3\" class=\"col_heading level0 col3\" >location</th>\n",
              "    </tr>\n",
              "  </thead>\n",
              "  <tbody>\n",
              "    <tr>\n",
              "      <td id=\"T_0a84c_row0_col0\" class=\"data row0 col0\" >546223</td>\n",
              "      <td id=\"T_0a84c_row0_col1\" class=\"data row0 col1\" >Narayan</td>\n",
              "      <td id=\"T_0a84c_row0_col2\" class=\"data row0 col2\" >Corporate</td>\n",
              "      <td id=\"T_0a84c_row0_col3\" class=\"data row0 col3\" >Calcutta</td>\n",
              "    </tr>\n",
              "    <tr>\n",
              "      <td id=\"T_0a84c_row1_col0\" class=\"data row1 col0\" >299034</td>\n",
              "      <td id=\"T_0a84c_row1_col1\" class=\"data row1 col1\" >Rekha</td>\n",
              "      <td id=\"T_0a84c_row1_col2\" class=\"data row1 col2\" >Corporate</td>\n",
              "      <td id=\"T_0a84c_row1_col3\" class=\"data row1 col3\" >Calcutta</td>\n",
              "    </tr>\n",
              "    <tr>\n",
              "      <td id=\"T_0a84c_row2_col0\" class=\"data row2 col0\" >742866</td>\n",
              "      <td id=\"T_0a84c_row2_col1\" class=\"data row2 col1\" >Amitabh</td>\n",
              "      <td id=\"T_0a84c_row2_col2\" class=\"data row2 col2\" >Corporate</td>\n",
              "      <td id=\"T_0a84c_row2_col3\" class=\"data row2 col3\" >Calcutta</td>\n",
              "    </tr>\n",
              "    <tr>\n",
              "      <td id=\"T_0a84c_row3_col0\" class=\"data row3 col0\" >897889</td>\n",
              "      <td id=\"T_0a84c_row3_col1\" class=\"data row3 col1\" >Virender</td>\n",
              "      <td id=\"T_0a84c_row3_col2\" class=\"data row3 col2\" >Sales</td>\n",
              "      <td id=\"T_0a84c_row3_col3\" class=\"data row3 col3\" >Calcutta</td>\n",
              "    </tr>\n",
              "    <tr>\n",
              "      <td id=\"T_0a84c_row4_col0\" class=\"data row4 col0\" >239456</td>\n",
              "      <td id=\"T_0a84c_row4_col1\" class=\"data row4 col1\" >Shahrukh</td>\n",
              "      <td id=\"T_0a84c_row4_col2\" class=\"data row4 col2\" >Sales</td>\n",
              "      <td id=\"T_0a84c_row4_col3\" class=\"data row4 col3\" >Calcutta</td>\n",
              "    </tr>\n",
              "    <tr>\n",
              "      <td id=\"T_0a84c_row5_col0\" class=\"data row5 col0\" >865477</td>\n",
              "      <td id=\"T_0a84c_row5_col1\" class=\"data row5 col1\" >Madhuri</td>\n",
              "      <td id=\"T_0a84c_row5_col2\" class=\"data row5 col2\" >Sales</td>\n",
              "      <td id=\"T_0a84c_row5_col3\" class=\"data row5 col3\" >Calcutta</td>\n",
              "    </tr>\n",
              "    <tr>\n",
              "      <td id=\"T_0a84c_row6_col0\" class=\"data row6 col0\" >223112</td>\n",
              "      <td id=\"T_0a84c_row6_col1\" class=\"data row6 col1\" >Sania</td>\n",
              "      <td id=\"T_0a84c_row6_col2\" class=\"data row6 col2\" >Accounts</td>\n",
              "      <td id=\"T_0a84c_row6_col3\" class=\"data row6 col3\" >Calcutta</td>\n",
              "    </tr>\n",
              "    <tr>\n",
              "      <td id=\"T_0a84c_row7_col0\" class=\"data row7 col0\" >997445</td>\n",
              "      <td id=\"T_0a84c_row7_col1\" class=\"data row7 col1\" >Jagmohan</td>\n",
              "      <td id=\"T_0a84c_row7_col2\" class=\"data row7 col2\" >Accounts</td>\n",
              "      <td id=\"T_0a84c_row7_col3\" class=\"data row7 col3\" >Calcutta</td>\n",
              "    </tr>\n",
              "    <tr>\n",
              "      <td id=\"T_0a84c_row8_col0\" class=\"data row8 col0\" >822134</td>\n",
              "      <td id=\"T_0a84c_row8_col1\" class=\"data row8 col1\" >Rahul</td>\n",
              "      <td id=\"T_0a84c_row8_col2\" class=\"data row8 col2\" >Accounts</td>\n",
              "      <td id=\"T_0a84c_row8_col3\" class=\"data row8 col3\" >Calcutta</td>\n",
              "    </tr>\n",
              "    <tr>\n",
              "      <td id=\"T_0a84c_row9_col0\" class=\"data row9 col0\" >989007</td>\n",
              "      <td id=\"T_0a84c_row9_col1\" class=\"data row9 col1\" >Sourav</td>\n",
              "      <td id=\"T_0a84c_row9_col2\" class=\"data row9 col2\" >Production</td>\n",
              "      <td id=\"T_0a84c_row9_col3\" class=\"data row9 col3\" >Bombay</td>\n",
              "    </tr>\n",
              "    <tr>\n",
              "      <td id=\"T_0a84c_row10_col0\" class=\"data row10 col0\" >123980</td>\n",
              "      <td id=\"T_0a84c_row10_col1\" class=\"data row10 col1\" >Mahender</td>\n",
              "      <td id=\"T_0a84c_row10_col2\" class=\"data row10 col2\" >Production</td>\n",
              "      <td id=\"T_0a84c_row10_col3\" class=\"data row10 col3\" >Bombay</td>\n",
              "    </tr>\n",
              "    <tr>\n",
              "      <td id=\"T_0a84c_row11_col0\" class=\"data row11 col0\" >349870</td>\n",
              "      <td id=\"T_0a84c_row11_col1\" class=\"data row11 col1\" >Rani</td>\n",
              "      <td id=\"T_0a84c_row11_col2\" class=\"data row11 col2\" >Production</td>\n",
              "      <td id=\"T_0a84c_row11_col3\" class=\"data row11 col3\" >Bombay</td>\n",
              "    </tr>\n",
              "    <tr>\n",
              "      <td id=\"T_0a84c_row12_col0\" class=\"data row12 col0\" >None</td>\n",
              "      <td id=\"T_0a84c_row12_col1\" class=\"data row12 col1\" >None</td>\n",
              "      <td id=\"T_0a84c_row12_col2\" class=\"data row12 col2\" >Research</td>\n",
              "      <td id=\"T_0a84c_row12_col3\" class=\"data row12 col3\" >Delhi</td>\n",
              "    </tr>\n",
              "  </tbody>\n",
              "</table>\n"
            ]
          },
          "metadata": {},
          "execution_count": 52
        }
      ]
    },
    {
      "cell_type": "markdown",
      "source": [
        "### Full Outer"
      ],
      "metadata": {
        "id": "RsEyhBBp24zy"
      }
    },
    {
      "cell_type": "code",
      "source": [
        "sql = 'select empid, firstname, deptname, location from empl FULL JOIN dept ON empl.deptid = dept.deptid'\n",
        "runSelect(sql)"
      ],
      "metadata": {
        "colab": {
          "base_uri": "https://localhost:8080/",
          "height": 488
        },
        "id": "Ipt14U9o2qFg",
        "outputId": "31d1cfa3-c439-4273-c32c-b294f12cbace"
      },
      "execution_count": 53,
      "outputs": [
        {
          "output_type": "execute_result",
          "data": {
            "text/plain": [
              "<pandas.io.formats.style.Styler at 0x7ae5fb92fc90>"
            ],
            "text/html": [
              "<style type=\"text/css\">\n",
              "</style>\n",
              "<table id=\"T_142aa\" class=\"dataframe\">\n",
              "  <thead>\n",
              "    <tr>\n",
              "      <th id=\"T_142aa_level0_col0\" class=\"col_heading level0 col0\" >empid</th>\n",
              "      <th id=\"T_142aa_level0_col1\" class=\"col_heading level0 col1\" >firstname</th>\n",
              "      <th id=\"T_142aa_level0_col2\" class=\"col_heading level0 col2\" >deptname</th>\n",
              "      <th id=\"T_142aa_level0_col3\" class=\"col_heading level0 col3\" >location</th>\n",
              "    </tr>\n",
              "  </thead>\n",
              "  <tbody>\n",
              "    <tr>\n",
              "      <td id=\"T_142aa_row0_col0\" class=\"data row0 col0\" >546223</td>\n",
              "      <td id=\"T_142aa_row0_col1\" class=\"data row0 col1\" >Narayan</td>\n",
              "      <td id=\"T_142aa_row0_col2\" class=\"data row0 col2\" >Corporate</td>\n",
              "      <td id=\"T_142aa_row0_col3\" class=\"data row0 col3\" >Calcutta</td>\n",
              "    </tr>\n",
              "    <tr>\n",
              "      <td id=\"T_142aa_row1_col0\" class=\"data row1 col0\" >299034</td>\n",
              "      <td id=\"T_142aa_row1_col1\" class=\"data row1 col1\" >Rekha</td>\n",
              "      <td id=\"T_142aa_row1_col2\" class=\"data row1 col2\" >Corporate</td>\n",
              "      <td id=\"T_142aa_row1_col3\" class=\"data row1 col3\" >Calcutta</td>\n",
              "    </tr>\n",
              "    <tr>\n",
              "      <td id=\"T_142aa_row2_col0\" class=\"data row2 col0\" >742866</td>\n",
              "      <td id=\"T_142aa_row2_col1\" class=\"data row2 col1\" >Amitabh</td>\n",
              "      <td id=\"T_142aa_row2_col2\" class=\"data row2 col2\" >Corporate</td>\n",
              "      <td id=\"T_142aa_row2_col3\" class=\"data row2 col3\" >Calcutta</td>\n",
              "    </tr>\n",
              "    <tr>\n",
              "      <td id=\"T_142aa_row3_col0\" class=\"data row3 col0\" >897889</td>\n",
              "      <td id=\"T_142aa_row3_col1\" class=\"data row3 col1\" >Virender</td>\n",
              "      <td id=\"T_142aa_row3_col2\" class=\"data row3 col2\" >Sales</td>\n",
              "      <td id=\"T_142aa_row3_col3\" class=\"data row3 col3\" >Calcutta</td>\n",
              "    </tr>\n",
              "    <tr>\n",
              "      <td id=\"T_142aa_row4_col0\" class=\"data row4 col0\" >239456</td>\n",
              "      <td id=\"T_142aa_row4_col1\" class=\"data row4 col1\" >Shahrukh</td>\n",
              "      <td id=\"T_142aa_row4_col2\" class=\"data row4 col2\" >Sales</td>\n",
              "      <td id=\"T_142aa_row4_col3\" class=\"data row4 col3\" >Calcutta</td>\n",
              "    </tr>\n",
              "    <tr>\n",
              "      <td id=\"T_142aa_row5_col0\" class=\"data row5 col0\" >865477</td>\n",
              "      <td id=\"T_142aa_row5_col1\" class=\"data row5 col1\" >Madhuri</td>\n",
              "      <td id=\"T_142aa_row5_col2\" class=\"data row5 col2\" >Sales</td>\n",
              "      <td id=\"T_142aa_row5_col3\" class=\"data row5 col3\" >Calcutta</td>\n",
              "    </tr>\n",
              "    <tr>\n",
              "      <td id=\"T_142aa_row6_col0\" class=\"data row6 col0\" >223112</td>\n",
              "      <td id=\"T_142aa_row6_col1\" class=\"data row6 col1\" >Sania</td>\n",
              "      <td id=\"T_142aa_row6_col2\" class=\"data row6 col2\" >Accounts</td>\n",
              "      <td id=\"T_142aa_row6_col3\" class=\"data row6 col3\" >Calcutta</td>\n",
              "    </tr>\n",
              "    <tr>\n",
              "      <td id=\"T_142aa_row7_col0\" class=\"data row7 col0\" >997445</td>\n",
              "      <td id=\"T_142aa_row7_col1\" class=\"data row7 col1\" >Jagmohan</td>\n",
              "      <td id=\"T_142aa_row7_col2\" class=\"data row7 col2\" >Accounts</td>\n",
              "      <td id=\"T_142aa_row7_col3\" class=\"data row7 col3\" >Calcutta</td>\n",
              "    </tr>\n",
              "    <tr>\n",
              "      <td id=\"T_142aa_row8_col0\" class=\"data row8 col0\" >822134</td>\n",
              "      <td id=\"T_142aa_row8_col1\" class=\"data row8 col1\" >Rahul</td>\n",
              "      <td id=\"T_142aa_row8_col2\" class=\"data row8 col2\" >Accounts</td>\n",
              "      <td id=\"T_142aa_row8_col3\" class=\"data row8 col3\" >Calcutta</td>\n",
              "    </tr>\n",
              "    <tr>\n",
              "      <td id=\"T_142aa_row9_col0\" class=\"data row9 col0\" >989007</td>\n",
              "      <td id=\"T_142aa_row9_col1\" class=\"data row9 col1\" >Sourav</td>\n",
              "      <td id=\"T_142aa_row9_col2\" class=\"data row9 col2\" >Production</td>\n",
              "      <td id=\"T_142aa_row9_col3\" class=\"data row9 col3\" >Bombay</td>\n",
              "    </tr>\n",
              "    <tr>\n",
              "      <td id=\"T_142aa_row10_col0\" class=\"data row10 col0\" >123980</td>\n",
              "      <td id=\"T_142aa_row10_col1\" class=\"data row10 col1\" >Mahender</td>\n",
              "      <td id=\"T_142aa_row10_col2\" class=\"data row10 col2\" >Production</td>\n",
              "      <td id=\"T_142aa_row10_col3\" class=\"data row10 col3\" >Bombay</td>\n",
              "    </tr>\n",
              "    <tr>\n",
              "      <td id=\"T_142aa_row11_col0\" class=\"data row11 col0\" >349870</td>\n",
              "      <td id=\"T_142aa_row11_col1\" class=\"data row11 col1\" >Rani</td>\n",
              "      <td id=\"T_142aa_row11_col2\" class=\"data row11 col2\" >Production</td>\n",
              "      <td id=\"T_142aa_row11_col3\" class=\"data row11 col3\" >Bombay</td>\n",
              "    </tr>\n",
              "    <tr>\n",
              "      <td id=\"T_142aa_row12_col0\" class=\"data row12 col0\" >None</td>\n",
              "      <td id=\"T_142aa_row12_col1\" class=\"data row12 col1\" >None</td>\n",
              "      <td id=\"T_142aa_row12_col2\" class=\"data row12 col2\" >Research</td>\n",
              "      <td id=\"T_142aa_row12_col3\" class=\"data row12 col3\" >Delhi</td>\n",
              "    </tr>\n",
              "    <tr>\n",
              "      <td id=\"T_142aa_row13_col0\" class=\"data row13 col0\" >546224</td>\n",
              "      <td id=\"T_142aa_row13_col1\" class=\"data row13 col1\" >Chettri</td>\n",
              "      <td id=\"T_142aa_row13_col2\" class=\"data row13 col2\" >None</td>\n",
              "      <td id=\"T_142aa_row13_col3\" class=\"data row13 col3\" >None</td>\n",
              "    </tr>\n",
              "  </tbody>\n",
              "</table>\n"
            ]
          },
          "metadata": {},
          "execution_count": 53
        }
      ]
    },
    {
      "cell_type": "code",
      "source": [
        "sql = 'select deptname,round(sum(salary),0) payroll from empl FULL JOIN dept ON empl.deptid = dept.deptid \\\n",
        "group by deptname'\n",
        "runSelect(sql)"
      ],
      "metadata": {
        "id": "EAI2kiYP3p9O",
        "outputId": "a56250d9-a79d-4972-a8ac-f583b1ee6c6b",
        "colab": {
          "base_uri": "https://localhost:8080/",
          "height": 237
        }
      },
      "execution_count": 54,
      "outputs": [
        {
          "output_type": "execute_result",
          "data": {
            "text/plain": [
              "<pandas.io.formats.style.Styler at 0x7ae5fb929e50>"
            ],
            "text/html": [
              "<style type=\"text/css\">\n",
              "</style>\n",
              "<table id=\"T_a849d\" class=\"dataframe\">\n",
              "  <thead>\n",
              "    <tr>\n",
              "      <th id=\"T_a849d_level0_col0\" class=\"col_heading level0 col0\" >deptname</th>\n",
              "      <th id=\"T_a849d_level0_col1\" class=\"col_heading level0 col1\" >payroll</th>\n",
              "    </tr>\n",
              "  </thead>\n",
              "  <tbody>\n",
              "    <tr>\n",
              "      <td id=\"T_a849d_row0_col0\" class=\"data row0 col0\" >None</td>\n",
              "      <td id=\"T_a849d_row0_col1\" class=\"data row0 col1\" >40000</td>\n",
              "    </tr>\n",
              "    <tr>\n",
              "      <td id=\"T_a849d_row1_col0\" class=\"data row1 col0\" >Research</td>\n",
              "      <td id=\"T_a849d_row1_col1\" class=\"data row1 col1\" >None</td>\n",
              "    </tr>\n",
              "    <tr>\n",
              "      <td id=\"T_a849d_row2_col0\" class=\"data row2 col0\" >Corporate</td>\n",
              "      <td id=\"T_a849d_row2_col1\" class=\"data row2 col1\" >150000</td>\n",
              "    </tr>\n",
              "    <tr>\n",
              "      <td id=\"T_a849d_row3_col0\" class=\"data row3 col0\" >Accounts</td>\n",
              "      <td id=\"T_a849d_row3_col1\" class=\"data row3 col1\" >77000</td>\n",
              "    </tr>\n",
              "    <tr>\n",
              "      <td id=\"T_a849d_row4_col0\" class=\"data row4 col0\" >Sales</td>\n",
              "      <td id=\"T_a849d_row4_col1\" class=\"data row4 col1\" >55000</td>\n",
              "    </tr>\n",
              "    <tr>\n",
              "      <td id=\"T_a849d_row5_col0\" class=\"data row5 col0\" >Production</td>\n",
              "      <td id=\"T_a849d_row5_col1\" class=\"data row5 col1\" >54000</td>\n",
              "    </tr>\n",
              "  </tbody>\n",
              "</table>\n"
            ]
          },
          "metadata": {},
          "execution_count": 54
        }
      ]
    },
    {
      "cell_type": "markdown",
      "source": [
        "## Recursive Joins"
      ],
      "metadata": {
        "id": "6nm2xAfn6pIV"
      }
    },
    {
      "cell_type": "markdown",
      "source": [
        "### Three Tables"
      ],
      "metadata": {
        "id": "A1KCGwwyB02z"
      }
    },
    {
      "cell_type": "code",
      "source": [
        "cmd = \"select w.lastname , w.deptID, '>' linksTo  , d.deptID ,d.managerID,'<' linksTo, m.empID, m.lastname \\\n",
        "        from Empl w, Dept d, Empl m \\\n",
        "        where w.deptID = d.deptID   \\\n",
        "        and d.managerID = m.empID \\\n",
        "    \"\n",
        "runSelect(cmd)"
      ],
      "metadata": {
        "colab": {
          "base_uri": "https://localhost:8080/",
          "height": 425
        },
        "id": "W17nS5R7AL0J",
        "outputId": "50f60a27-6f5a-468c-8e7d-67aaa91905b0"
      },
      "execution_count": 55,
      "outputs": [
        {
          "output_type": "execute_result",
          "data": {
            "text/plain": [
              "<pandas.io.formats.style.Styler at 0x7ae5fb92bb50>"
            ],
            "text/html": [
              "<style type=\"text/css\">\n",
              "</style>\n",
              "<table id=\"T_84292\" class=\"dataframe\">\n",
              "  <thead>\n",
              "    <tr>\n",
              "      <th id=\"T_84292_level0_col0\" class=\"col_heading level0 col0\" >lastname</th>\n",
              "      <th id=\"T_84292_level0_col1\" class=\"col_heading level0 col1\" >deptid</th>\n",
              "      <th id=\"T_84292_level0_col2\" class=\"col_heading level0 col2\" >linksto</th>\n",
              "      <th id=\"T_84292_level0_col3\" class=\"col_heading level0 col3\" >deptid</th>\n",
              "      <th id=\"T_84292_level0_col4\" class=\"col_heading level0 col4\" >managerid</th>\n",
              "      <th id=\"T_84292_level0_col5\" class=\"col_heading level0 col5\" >linksto</th>\n",
              "      <th id=\"T_84292_level0_col6\" class=\"col_heading level0 col6\" >empid</th>\n",
              "      <th id=\"T_84292_level0_col7\" class=\"col_heading level0 col7\" >lastname</th>\n",
              "    </tr>\n",
              "  </thead>\n",
              "  <tbody>\n",
              "    <tr>\n",
              "      <td id=\"T_84292_row0_col0\" class=\"data row0 col0\" >Karthikeyan</td>\n",
              "      <td id=\"T_84292_row0_col1\" class=\"data row0 col1\" >10</td>\n",
              "      <td id=\"T_84292_row0_col2\" class=\"data row0 col2\" >></td>\n",
              "      <td id=\"T_84292_row0_col3\" class=\"data row0 col3\" >10</td>\n",
              "      <td id=\"T_84292_row0_col4\" class=\"data row0 col4\" >299034</td>\n",
              "      <td id=\"T_84292_row0_col5\" class=\"data row0 col5\" ><</td>\n",
              "      <td id=\"T_84292_row0_col6\" class=\"data row0 col6\" >299034</td>\n",
              "      <td id=\"T_84292_row0_col7\" class=\"data row0 col7\" >Ganesan</td>\n",
              "    </tr>\n",
              "    <tr>\n",
              "      <td id=\"T_84292_row1_col0\" class=\"data row1 col0\" >Ganesan</td>\n",
              "      <td id=\"T_84292_row1_col1\" class=\"data row1 col1\" >10</td>\n",
              "      <td id=\"T_84292_row1_col2\" class=\"data row1 col2\" >></td>\n",
              "      <td id=\"T_84292_row1_col3\" class=\"data row1 col3\" >10</td>\n",
              "      <td id=\"T_84292_row1_col4\" class=\"data row1 col4\" >299034</td>\n",
              "      <td id=\"T_84292_row1_col5\" class=\"data row1 col5\" ><</td>\n",
              "      <td id=\"T_84292_row1_col6\" class=\"data row1 col6\" >299034</td>\n",
              "      <td id=\"T_84292_row1_col7\" class=\"data row1 col7\" >Ganesan</td>\n",
              "    </tr>\n",
              "    <tr>\n",
              "      <td id=\"T_84292_row2_col0\" class=\"data row2 col0\" >Bacchan</td>\n",
              "      <td id=\"T_84292_row2_col1\" class=\"data row2 col1\" >10</td>\n",
              "      <td id=\"T_84292_row2_col2\" class=\"data row2 col2\" >></td>\n",
              "      <td id=\"T_84292_row2_col3\" class=\"data row2 col3\" >10</td>\n",
              "      <td id=\"T_84292_row2_col4\" class=\"data row2 col4\" >299034</td>\n",
              "      <td id=\"T_84292_row2_col5\" class=\"data row2 col5\" ><</td>\n",
              "      <td id=\"T_84292_row2_col6\" class=\"data row2 col6\" >299034</td>\n",
              "      <td id=\"T_84292_row2_col7\" class=\"data row2 col7\" >Ganesan</td>\n",
              "    </tr>\n",
              "    <tr>\n",
              "      <td id=\"T_84292_row3_col0\" class=\"data row3 col0\" >Sehwag</td>\n",
              "      <td id=\"T_84292_row3_col1\" class=\"data row3 col1\" >20</td>\n",
              "      <td id=\"T_84292_row3_col2\" class=\"data row3 col2\" >></td>\n",
              "      <td id=\"T_84292_row3_col3\" class=\"data row3 col3\" >20</td>\n",
              "      <td id=\"T_84292_row3_col4\" class=\"data row3 col4\" >239456</td>\n",
              "      <td id=\"T_84292_row3_col5\" class=\"data row3 col5\" ><</td>\n",
              "      <td id=\"T_84292_row3_col6\" class=\"data row3 col6\" >239456</td>\n",
              "      <td id=\"T_84292_row3_col7\" class=\"data row3 col7\" >Khan</td>\n",
              "    </tr>\n",
              "    <tr>\n",
              "      <td id=\"T_84292_row4_col0\" class=\"data row4 col0\" >Khan</td>\n",
              "      <td id=\"T_84292_row4_col1\" class=\"data row4 col1\" >20</td>\n",
              "      <td id=\"T_84292_row4_col2\" class=\"data row4 col2\" >></td>\n",
              "      <td id=\"T_84292_row4_col3\" class=\"data row4 col3\" >20</td>\n",
              "      <td id=\"T_84292_row4_col4\" class=\"data row4 col4\" >239456</td>\n",
              "      <td id=\"T_84292_row4_col5\" class=\"data row4 col5\" ><</td>\n",
              "      <td id=\"T_84292_row4_col6\" class=\"data row4 col6\" >239456</td>\n",
              "      <td id=\"T_84292_row4_col7\" class=\"data row4 col7\" >Khan</td>\n",
              "    </tr>\n",
              "    <tr>\n",
              "      <td id=\"T_84292_row5_col0\" class=\"data row5 col0\" >Dikshit</td>\n",
              "      <td id=\"T_84292_row5_col1\" class=\"data row5 col1\" >20</td>\n",
              "      <td id=\"T_84292_row5_col2\" class=\"data row5 col2\" >></td>\n",
              "      <td id=\"T_84292_row5_col3\" class=\"data row5 col3\" >20</td>\n",
              "      <td id=\"T_84292_row5_col4\" class=\"data row5 col4\" >239456</td>\n",
              "      <td id=\"T_84292_row5_col5\" class=\"data row5 col5\" ><</td>\n",
              "      <td id=\"T_84292_row5_col6\" class=\"data row5 col6\" >239456</td>\n",
              "      <td id=\"T_84292_row5_col7\" class=\"data row5 col7\" >Khan</td>\n",
              "    </tr>\n",
              "    <tr>\n",
              "      <td id=\"T_84292_row6_col0\" class=\"data row6 col0\" >Mirza</td>\n",
              "      <td id=\"T_84292_row6_col1\" class=\"data row6 col1\" >30</td>\n",
              "      <td id=\"T_84292_row6_col2\" class=\"data row6 col2\" >></td>\n",
              "      <td id=\"T_84292_row6_col3\" class=\"data row6 col3\" >30</td>\n",
              "      <td id=\"T_84292_row6_col4\" class=\"data row6 col4\" >822134</td>\n",
              "      <td id=\"T_84292_row6_col5\" class=\"data row6 col5\" ><</td>\n",
              "      <td id=\"T_84292_row6_col6\" class=\"data row6 col6\" >822134</td>\n",
              "      <td id=\"T_84292_row6_col7\" class=\"data row6 col7\" >Dravid</td>\n",
              "    </tr>\n",
              "    <tr>\n",
              "      <td id=\"T_84292_row7_col0\" class=\"data row7 col0\" >Dalmia</td>\n",
              "      <td id=\"T_84292_row7_col1\" class=\"data row7 col1\" >30</td>\n",
              "      <td id=\"T_84292_row7_col2\" class=\"data row7 col2\" >></td>\n",
              "      <td id=\"T_84292_row7_col3\" class=\"data row7 col3\" >30</td>\n",
              "      <td id=\"T_84292_row7_col4\" class=\"data row7 col4\" >822134</td>\n",
              "      <td id=\"T_84292_row7_col5\" class=\"data row7 col5\" ><</td>\n",
              "      <td id=\"T_84292_row7_col6\" class=\"data row7 col6\" >822134</td>\n",
              "      <td id=\"T_84292_row7_col7\" class=\"data row7 col7\" >Dravid</td>\n",
              "    </tr>\n",
              "    <tr>\n",
              "      <td id=\"T_84292_row8_col0\" class=\"data row8 col0\" >Dravid</td>\n",
              "      <td id=\"T_84292_row8_col1\" class=\"data row8 col1\" >30</td>\n",
              "      <td id=\"T_84292_row8_col2\" class=\"data row8 col2\" >></td>\n",
              "      <td id=\"T_84292_row8_col3\" class=\"data row8 col3\" >30</td>\n",
              "      <td id=\"T_84292_row8_col4\" class=\"data row8 col4\" >822134</td>\n",
              "      <td id=\"T_84292_row8_col5\" class=\"data row8 col5\" ><</td>\n",
              "      <td id=\"T_84292_row8_col6\" class=\"data row8 col6\" >822134</td>\n",
              "      <td id=\"T_84292_row8_col7\" class=\"data row8 col7\" >Dravid</td>\n",
              "    </tr>\n",
              "    <tr>\n",
              "      <td id=\"T_84292_row9_col0\" class=\"data row9 col0\" >Ganguly</td>\n",
              "      <td id=\"T_84292_row9_col1\" class=\"data row9 col1\" >40</td>\n",
              "      <td id=\"T_84292_row9_col2\" class=\"data row9 col2\" >></td>\n",
              "      <td id=\"T_84292_row9_col3\" class=\"data row9 col3\" >40</td>\n",
              "      <td id=\"T_84292_row9_col4\" class=\"data row9 col4\" >349870</td>\n",
              "      <td id=\"T_84292_row9_col5\" class=\"data row9 col5\" ><</td>\n",
              "      <td id=\"T_84292_row9_col6\" class=\"data row9 col6\" >349870</td>\n",
              "      <td id=\"T_84292_row9_col7\" class=\"data row9 col7\" >Mukherjee</td>\n",
              "    </tr>\n",
              "    <tr>\n",
              "      <td id=\"T_84292_row10_col0\" class=\"data row10 col0\" >Dhoni</td>\n",
              "      <td id=\"T_84292_row10_col1\" class=\"data row10 col1\" >40</td>\n",
              "      <td id=\"T_84292_row10_col2\" class=\"data row10 col2\" >></td>\n",
              "      <td id=\"T_84292_row10_col3\" class=\"data row10 col3\" >40</td>\n",
              "      <td id=\"T_84292_row10_col4\" class=\"data row10 col4\" >349870</td>\n",
              "      <td id=\"T_84292_row10_col5\" class=\"data row10 col5\" ><</td>\n",
              "      <td id=\"T_84292_row10_col6\" class=\"data row10 col6\" >349870</td>\n",
              "      <td id=\"T_84292_row10_col7\" class=\"data row10 col7\" >Mukherjee</td>\n",
              "    </tr>\n",
              "    <tr>\n",
              "      <td id=\"T_84292_row11_col0\" class=\"data row11 col0\" >Mukherjee</td>\n",
              "      <td id=\"T_84292_row11_col1\" class=\"data row11 col1\" >40</td>\n",
              "      <td id=\"T_84292_row11_col2\" class=\"data row11 col2\" >></td>\n",
              "      <td id=\"T_84292_row11_col3\" class=\"data row11 col3\" >40</td>\n",
              "      <td id=\"T_84292_row11_col4\" class=\"data row11 col4\" >349870</td>\n",
              "      <td id=\"T_84292_row11_col5\" class=\"data row11 col5\" ><</td>\n",
              "      <td id=\"T_84292_row11_col6\" class=\"data row11 col6\" >349870</td>\n",
              "      <td id=\"T_84292_row11_col7\" class=\"data row11 col7\" >Mukherjee</td>\n",
              "    </tr>\n",
              "  </tbody>\n",
              "</table>\n"
            ]
          },
          "metadata": {},
          "execution_count": 55
        }
      ]
    },
    {
      "cell_type": "markdown",
      "source": [
        "### Self Join / Single Table"
      ],
      "metadata": {
        "id": "jeknsMbjCA2A"
      }
    },
    {
      "cell_type": "code",
      "source": [
        "cmd = \"Select w.FirstName, w.JobDesc, w.DeptID, \\\n",
        "    ' hired by ' hiredby, \\\n",
        "    m.FirstName,m.JobDesc,m.DeptID \\\n",
        "    from empl w, empl m \\\n",
        "    where w.HiredBy = m.EmpID\"\n",
        "\n",
        "runSelect(cmd)"
      ],
      "metadata": {
        "colab": {
          "base_uri": "https://localhost:8080/",
          "height": 425
        },
        "id": "iDPmUw9-CEBH",
        "outputId": "c6708057-3f8b-476a-d3e6-8860a1a782ab"
      },
      "execution_count": 56,
      "outputs": [
        {
          "output_type": "execute_result",
          "data": {
            "text/plain": [
              "<pandas.io.formats.style.Styler at 0x7ae5fb990dd0>"
            ],
            "text/html": [
              "<style type=\"text/css\">\n",
              "</style>\n",
              "<table id=\"T_a39ee\" class=\"dataframe\">\n",
              "  <thead>\n",
              "    <tr>\n",
              "      <th id=\"T_a39ee_level0_col0\" class=\"col_heading level0 col0\" >firstname</th>\n",
              "      <th id=\"T_a39ee_level0_col1\" class=\"col_heading level0 col1\" >jobdesc</th>\n",
              "      <th id=\"T_a39ee_level0_col2\" class=\"col_heading level0 col2\" >deptid</th>\n",
              "      <th id=\"T_a39ee_level0_col3\" class=\"col_heading level0 col3\" >hiredby</th>\n",
              "      <th id=\"T_a39ee_level0_col4\" class=\"col_heading level0 col4\" >firstname</th>\n",
              "      <th id=\"T_a39ee_level0_col5\" class=\"col_heading level0 col5\" >jobdesc</th>\n",
              "      <th id=\"T_a39ee_level0_col6\" class=\"col_heading level0 col6\" >deptid</th>\n",
              "    </tr>\n",
              "  </thead>\n",
              "  <tbody>\n",
              "    <tr>\n",
              "      <td id=\"T_a39ee_row0_col0\" class=\"data row0 col0\" >Rani</td>\n",
              "      <td id=\"T_a39ee_row0_col1\" class=\"data row0 col1\" >Manager</td>\n",
              "      <td id=\"T_a39ee_row0_col2\" class=\"data row0 col2\" >40</td>\n",
              "      <td id=\"T_a39ee_row0_col3\" class=\"data row0 col3\" > hired by </td>\n",
              "      <td id=\"T_a39ee_row0_col4\" class=\"data row0 col4\" >Amitabh</td>\n",
              "      <td id=\"T_a39ee_row0_col5\" class=\"data row0 col5\" >Executive</td>\n",
              "      <td id=\"T_a39ee_row0_col6\" class=\"data row0 col6\" >10</td>\n",
              "    </tr>\n",
              "    <tr>\n",
              "      <td id=\"T_a39ee_row1_col0\" class=\"data row1 col0\" >Madhuri</td>\n",
              "      <td id=\"T_a39ee_row1_col1\" class=\"data row1 col1\" >Clerk</td>\n",
              "      <td id=\"T_a39ee_row1_col2\" class=\"data row1 col2\" >20</td>\n",
              "      <td id=\"T_a39ee_row1_col3\" class=\"data row1 col3\" > hired by </td>\n",
              "      <td id=\"T_a39ee_row1_col4\" class=\"data row1 col4\" >Shahrukh</td>\n",
              "      <td id=\"T_a39ee_row1_col5\" class=\"data row1 col5\" >Manager</td>\n",
              "      <td id=\"T_a39ee_row1_col6\" class=\"data row1 col6\" >20</td>\n",
              "    </tr>\n",
              "    <tr>\n",
              "      <td id=\"T_a39ee_row2_col0\" class=\"data row2 col0\" >Shahrukh</td>\n",
              "      <td id=\"T_a39ee_row2_col1\" class=\"data row2 col1\" >Manager</td>\n",
              "      <td id=\"T_a39ee_row2_col2\" class=\"data row2 col2\" >20</td>\n",
              "      <td id=\"T_a39ee_row2_col3\" class=\"data row2 col3\" > hired by </td>\n",
              "      <td id=\"T_a39ee_row2_col4\" class=\"data row2 col4\" >Amitabh</td>\n",
              "      <td id=\"T_a39ee_row2_col5\" class=\"data row2 col5\" >Executive</td>\n",
              "      <td id=\"T_a39ee_row2_col6\" class=\"data row2 col6\" >10</td>\n",
              "    </tr>\n",
              "    <tr>\n",
              "      <td id=\"T_a39ee_row3_col0\" class=\"data row3 col0\" >Virender</td>\n",
              "      <td id=\"T_a39ee_row3_col1\" class=\"data row3 col1\" >Cus_Rep</td>\n",
              "      <td id=\"T_a39ee_row3_col2\" class=\"data row3 col2\" >20</td>\n",
              "      <td id=\"T_a39ee_row3_col3\" class=\"data row3 col3\" > hired by </td>\n",
              "      <td id=\"T_a39ee_row3_col4\" class=\"data row3 col4\" >Shahrukh</td>\n",
              "      <td id=\"T_a39ee_row3_col5\" class=\"data row3 col5\" >Manager</td>\n",
              "      <td id=\"T_a39ee_row3_col6\" class=\"data row3 col6\" >20</td>\n",
              "    </tr>\n",
              "    <tr>\n",
              "      <td id=\"T_a39ee_row4_col0\" class=\"data row4 col0\" >Mahender</td>\n",
              "      <td id=\"T_a39ee_row4_col1\" class=\"data row4 col1\" >Clerk</td>\n",
              "      <td id=\"T_a39ee_row4_col2\" class=\"data row4 col2\" >40</td>\n",
              "      <td id=\"T_a39ee_row4_col3\" class=\"data row4 col3\" > hired by </td>\n",
              "      <td id=\"T_a39ee_row4_col4\" class=\"data row4 col4\" >Rani</td>\n",
              "      <td id=\"T_a39ee_row4_col5\" class=\"data row4 col5\" >Manager</td>\n",
              "      <td id=\"T_a39ee_row4_col6\" class=\"data row4 col6\" >40</td>\n",
              "    </tr>\n",
              "    <tr>\n",
              "      <td id=\"T_a39ee_row5_col0\" class=\"data row5 col0\" >Rahul</td>\n",
              "      <td id=\"T_a39ee_row5_col1\" class=\"data row5 col1\" >Sr Manager</td>\n",
              "      <td id=\"T_a39ee_row5_col2\" class=\"data row5 col2\" >30</td>\n",
              "      <td id=\"T_a39ee_row5_col3\" class=\"data row5 col3\" > hired by </td>\n",
              "      <td id=\"T_a39ee_row5_col4\" class=\"data row5 col4\" >Amitabh</td>\n",
              "      <td id=\"T_a39ee_row5_col5\" class=\"data row5 col5\" >Executive</td>\n",
              "      <td id=\"T_a39ee_row5_col6\" class=\"data row5 col6\" >10</td>\n",
              "    </tr>\n",
              "    <tr>\n",
              "      <td id=\"T_a39ee_row6_col0\" class=\"data row6 col0\" >Jagmohan</td>\n",
              "      <td id=\"T_a39ee_row6_col1\" class=\"data row6 col1\" >Clerk</td>\n",
              "      <td id=\"T_a39ee_row6_col2\" class=\"data row6 col2\" >30</td>\n",
              "      <td id=\"T_a39ee_row6_col3\" class=\"data row6 col3\" > hired by </td>\n",
              "      <td id=\"T_a39ee_row6_col4\" class=\"data row6 col4\" >Rahul</td>\n",
              "      <td id=\"T_a39ee_row6_col5\" class=\"data row6 col5\" >Sr Manager</td>\n",
              "      <td id=\"T_a39ee_row6_col6\" class=\"data row6 col6\" >30</td>\n",
              "    </tr>\n",
              "    <tr>\n",
              "      <td id=\"T_a39ee_row7_col0\" class=\"data row7 col0\" >Sourav</td>\n",
              "      <td id=\"T_a39ee_row7_col1\" class=\"data row7 col1\" >Cus_Rep</td>\n",
              "      <td id=\"T_a39ee_row7_col2\" class=\"data row7 col2\" >40</td>\n",
              "      <td id=\"T_a39ee_row7_col3\" class=\"data row7 col3\" > hired by </td>\n",
              "      <td id=\"T_a39ee_row7_col4\" class=\"data row7 col4\" >Rekha</td>\n",
              "      <td id=\"T_a39ee_row7_col5\" class=\"data row7 col5\" >Director</td>\n",
              "      <td id=\"T_a39ee_row7_col6\" class=\"data row7 col6\" >10</td>\n",
              "    </tr>\n",
              "    <tr>\n",
              "      <td id=\"T_a39ee_row8_col0\" class=\"data row8 col0\" >Rekha</td>\n",
              "      <td id=\"T_a39ee_row8_col1\" class=\"data row8 col1\" >Director</td>\n",
              "      <td id=\"T_a39ee_row8_col2\" class=\"data row8 col2\" >10</td>\n",
              "      <td id=\"T_a39ee_row8_col3\" class=\"data row8 col3\" > hired by </td>\n",
              "      <td id=\"T_a39ee_row8_col4\" class=\"data row8 col4\" >Amitabh</td>\n",
              "      <td id=\"T_a39ee_row8_col5\" class=\"data row8 col5\" >Executive</td>\n",
              "      <td id=\"T_a39ee_row8_col6\" class=\"data row8 col6\" >10</td>\n",
              "    </tr>\n",
              "    <tr>\n",
              "      <td id=\"T_a39ee_row9_col0\" class=\"data row9 col0\" >Narayan</td>\n",
              "      <td id=\"T_a39ee_row9_col1\" class=\"data row9 col1\" >Secretary</td>\n",
              "      <td id=\"T_a39ee_row9_col2\" class=\"data row9 col2\" >10</td>\n",
              "      <td id=\"T_a39ee_row9_col3\" class=\"data row9 col3\" > hired by </td>\n",
              "      <td id=\"T_a39ee_row9_col4\" class=\"data row9 col4\" >Rekha</td>\n",
              "      <td id=\"T_a39ee_row9_col5\" class=\"data row9 col5\" >Director</td>\n",
              "      <td id=\"T_a39ee_row9_col6\" class=\"data row9 col6\" >10</td>\n",
              "    </tr>\n",
              "    <tr>\n",
              "      <td id=\"T_a39ee_row10_col0\" class=\"data row10 col0\" >Chettri</td>\n",
              "      <td id=\"T_a39ee_row10_col1\" class=\"data row10 col1\" >Dy Manager</td>\n",
              "      <td id=\"T_a39ee_row10_col2\" class=\"data row10 col2\" >70</td>\n",
              "      <td id=\"T_a39ee_row10_col3\" class=\"data row10 col3\" > hired by </td>\n",
              "      <td id=\"T_a39ee_row10_col4\" class=\"data row10 col4\" >Sourav</td>\n",
              "      <td id=\"T_a39ee_row10_col5\" class=\"data row10 col5\" >Cus_Rep</td>\n",
              "      <td id=\"T_a39ee_row10_col6\" class=\"data row10 col6\" >40</td>\n",
              "    </tr>\n",
              "    <tr>\n",
              "      <td id=\"T_a39ee_row11_col0\" class=\"data row11 col0\" >Sania</td>\n",
              "      <td id=\"T_a39ee_row11_col1\" class=\"data row11 col1\" >Cus_Rep</td>\n",
              "      <td id=\"T_a39ee_row11_col2\" class=\"data row11 col2\" >30</td>\n",
              "      <td id=\"T_a39ee_row11_col3\" class=\"data row11 col3\" > hired by </td>\n",
              "      <td id=\"T_a39ee_row11_col4\" class=\"data row11 col4\" >Rahul</td>\n",
              "      <td id=\"T_a39ee_row11_col5\" class=\"data row11 col5\" >Sr Manager</td>\n",
              "      <td id=\"T_a39ee_row11_col6\" class=\"data row11 col6\" >30</td>\n",
              "    </tr>\n",
              "  </tbody>\n",
              "</table>\n"
            ]
          },
          "metadata": {},
          "execution_count": 56
        }
      ]
    },
    {
      "cell_type": "markdown",
      "source": [
        "#Subquery"
      ],
      "metadata": {
        "id": "tXDgw1RBzUf-"
      }
    },
    {
      "cell_type": "code",
      "source": [
        "sql = \"select lastname, salary, jobdesc, deptid from empl where \\\n",
        "salary = (select max(salary) from empl where deptid = '20') \\\n",
        "and deptid = '20'\"\n",
        "\n",
        "runSelect(sql)"
      ],
      "metadata": {
        "colab": {
          "base_uri": "https://localhost:8080/",
          "height": 81
        },
        "id": "SxQqgOcHzYTF",
        "outputId": "52922e8c-bb09-4c86-b643-4b2e4ad98ce3"
      },
      "execution_count": 57,
      "outputs": [
        {
          "output_type": "execute_result",
          "data": {
            "text/plain": [
              "<pandas.io.formats.style.Styler at 0x7ae5fb92c7d0>"
            ],
            "text/html": [
              "<style type=\"text/css\">\n",
              "</style>\n",
              "<table id=\"T_10d6f\" class=\"dataframe\">\n",
              "  <thead>\n",
              "    <tr>\n",
              "      <th id=\"T_10d6f_level0_col0\" class=\"col_heading level0 col0\" >lastname</th>\n",
              "      <th id=\"T_10d6f_level0_col1\" class=\"col_heading level0 col1\" >salary</th>\n",
              "      <th id=\"T_10d6f_level0_col2\" class=\"col_heading level0 col2\" >jobdesc</th>\n",
              "      <th id=\"T_10d6f_level0_col3\" class=\"col_heading level0 col3\" >deptid</th>\n",
              "    </tr>\n",
              "  </thead>\n",
              "  <tbody>\n",
              "    <tr>\n",
              "      <td id=\"T_10d6f_row0_col0\" class=\"data row0 col0\" >Khan</td>\n",
              "      <td id=\"T_10d6f_row0_col1\" class=\"data row0 col1\" >30000</td>\n",
              "      <td id=\"T_10d6f_row0_col2\" class=\"data row0 col2\" >Manager</td>\n",
              "      <td id=\"T_10d6f_row0_col3\" class=\"data row0 col3\" >20</td>\n",
              "    </tr>\n",
              "  </tbody>\n",
              "</table>\n"
            ]
          },
          "metadata": {},
          "execution_count": 57
        }
      ]
    },
    {
      "cell_type": "code",
      "source": [
        "sql = \"select lastname, salary, jobdesc, deptid from empl where salary < (select avg(salary) from empl where deptid = '20')\\\n",
        "and deptid = '20'\"\n",
        "runSelect(sql)"
      ],
      "metadata": {
        "colab": {
          "base_uri": "https://localhost:8080/",
          "height": 112
        },
        "id": "oEhaMtyLz3Tm",
        "outputId": "4fd576a0-5008-4178-ed49-f70f1abbabb5"
      },
      "execution_count": 58,
      "outputs": [
        {
          "output_type": "execute_result",
          "data": {
            "text/plain": [
              "<pandas.io.formats.style.Styler at 0x7ae5fb929a90>"
            ],
            "text/html": [
              "<style type=\"text/css\">\n",
              "</style>\n",
              "<table id=\"T_6fd67\" class=\"dataframe\">\n",
              "  <thead>\n",
              "    <tr>\n",
              "      <th id=\"T_6fd67_level0_col0\" class=\"col_heading level0 col0\" >lastname</th>\n",
              "      <th id=\"T_6fd67_level0_col1\" class=\"col_heading level0 col1\" >salary</th>\n",
              "      <th id=\"T_6fd67_level0_col2\" class=\"col_heading level0 col2\" >jobdesc</th>\n",
              "      <th id=\"T_6fd67_level0_col3\" class=\"col_heading level0 col3\" >deptid</th>\n",
              "    </tr>\n",
              "  </thead>\n",
              "  <tbody>\n",
              "    <tr>\n",
              "      <td id=\"T_6fd67_row0_col0\" class=\"data row0 col0\" >Dikshit</td>\n",
              "      <td id=\"T_6fd67_row0_col1\" class=\"data row0 col1\" >10000</td>\n",
              "      <td id=\"T_6fd67_row0_col2\" class=\"data row0 col2\" >Clerk</td>\n",
              "      <td id=\"T_6fd67_row0_col3\" class=\"data row0 col3\" >20</td>\n",
              "    </tr>\n",
              "    <tr>\n",
              "      <td id=\"T_6fd67_row1_col0\" class=\"data row1 col0\" >Sehwag</td>\n",
              "      <td id=\"T_6fd67_row1_col1\" class=\"data row1 col1\" >15000</td>\n",
              "      <td id=\"T_6fd67_row1_col2\" class=\"data row1 col2\" >Cus_Rep</td>\n",
              "      <td id=\"T_6fd67_row1_col3\" class=\"data row1 col3\" >20</td>\n",
              "    </tr>\n",
              "  </tbody>\n",
              "</table>\n"
            ]
          },
          "metadata": {},
          "execution_count": 58
        }
      ]
    },
    {
      "cell_type": "markdown",
      "source": [
        "## Exists | Not Exists"
      ],
      "metadata": {
        "id": "l3GWzCV24a2x"
      }
    },
    {
      "cell_type": "code",
      "source": [
        "#!psql -h localhost -p 5432 -Uupraxis -ddbpraxis -c \"\\\n",
        "sql = \"\\\n",
        "select firstname, jobdesc, deptid from empl \\\n",
        "where exists \\\n",
        "(select * from dept where empl.deptid = dept.deptid)\\\n",
        "order by deptid \\\n",
        "\"\n",
        "runSelect(sql)"
      ],
      "metadata": {
        "colab": {
          "base_uri": "https://localhost:8080/",
          "height": 425
        },
        "id": "9vlJrd584fWu",
        "outputId": "9412111a-6e5b-45cb-b89a-19a41bb41254"
      },
      "execution_count": 59,
      "outputs": [
        {
          "output_type": "execute_result",
          "data": {
            "text/plain": [
              "<pandas.io.formats.style.Styler at 0x7ae5fb997f90>"
            ],
            "text/html": [
              "<style type=\"text/css\">\n",
              "</style>\n",
              "<table id=\"T_dd342\" class=\"dataframe\">\n",
              "  <thead>\n",
              "    <tr>\n",
              "      <th id=\"T_dd342_level0_col0\" class=\"col_heading level0 col0\" >firstname</th>\n",
              "      <th id=\"T_dd342_level0_col1\" class=\"col_heading level0 col1\" >jobdesc</th>\n",
              "      <th id=\"T_dd342_level0_col2\" class=\"col_heading level0 col2\" >deptid</th>\n",
              "    </tr>\n",
              "  </thead>\n",
              "  <tbody>\n",
              "    <tr>\n",
              "      <td id=\"T_dd342_row0_col0\" class=\"data row0 col0\" >Amitabh</td>\n",
              "      <td id=\"T_dd342_row0_col1\" class=\"data row0 col1\" >Executive</td>\n",
              "      <td id=\"T_dd342_row0_col2\" class=\"data row0 col2\" >10</td>\n",
              "    </tr>\n",
              "    <tr>\n",
              "      <td id=\"T_dd342_row1_col0\" class=\"data row1 col0\" >Rekha</td>\n",
              "      <td id=\"T_dd342_row1_col1\" class=\"data row1 col1\" >Director</td>\n",
              "      <td id=\"T_dd342_row1_col2\" class=\"data row1 col2\" >10</td>\n",
              "    </tr>\n",
              "    <tr>\n",
              "      <td id=\"T_dd342_row2_col0\" class=\"data row2 col0\" >Narayan</td>\n",
              "      <td id=\"T_dd342_row2_col1\" class=\"data row2 col1\" >Secretary</td>\n",
              "      <td id=\"T_dd342_row2_col2\" class=\"data row2 col2\" >10</td>\n",
              "    </tr>\n",
              "    <tr>\n",
              "      <td id=\"T_dd342_row3_col0\" class=\"data row3 col0\" >Madhuri</td>\n",
              "      <td id=\"T_dd342_row3_col1\" class=\"data row3 col1\" >Clerk</td>\n",
              "      <td id=\"T_dd342_row3_col2\" class=\"data row3 col2\" >20</td>\n",
              "    </tr>\n",
              "    <tr>\n",
              "      <td id=\"T_dd342_row4_col0\" class=\"data row4 col0\" >Shahrukh</td>\n",
              "      <td id=\"T_dd342_row4_col1\" class=\"data row4 col1\" >Manager</td>\n",
              "      <td id=\"T_dd342_row4_col2\" class=\"data row4 col2\" >20</td>\n",
              "    </tr>\n",
              "    <tr>\n",
              "      <td id=\"T_dd342_row5_col0\" class=\"data row5 col0\" >Virender</td>\n",
              "      <td id=\"T_dd342_row5_col1\" class=\"data row5 col1\" >Cus_Rep</td>\n",
              "      <td id=\"T_dd342_row5_col2\" class=\"data row5 col2\" >20</td>\n",
              "    </tr>\n",
              "    <tr>\n",
              "      <td id=\"T_dd342_row6_col0\" class=\"data row6 col0\" >Sania</td>\n",
              "      <td id=\"T_dd342_row6_col1\" class=\"data row6 col1\" >Cus_Rep</td>\n",
              "      <td id=\"T_dd342_row6_col2\" class=\"data row6 col2\" >30</td>\n",
              "    </tr>\n",
              "    <tr>\n",
              "      <td id=\"T_dd342_row7_col0\" class=\"data row7 col0\" >Rahul</td>\n",
              "      <td id=\"T_dd342_row7_col1\" class=\"data row7 col1\" >Sr Manager</td>\n",
              "      <td id=\"T_dd342_row7_col2\" class=\"data row7 col2\" >30</td>\n",
              "    </tr>\n",
              "    <tr>\n",
              "      <td id=\"T_dd342_row8_col0\" class=\"data row8 col0\" >Jagmohan</td>\n",
              "      <td id=\"T_dd342_row8_col1\" class=\"data row8 col1\" >Clerk</td>\n",
              "      <td id=\"T_dd342_row8_col2\" class=\"data row8 col2\" >30</td>\n",
              "    </tr>\n",
              "    <tr>\n",
              "      <td id=\"T_dd342_row9_col0\" class=\"data row9 col0\" >Sourav</td>\n",
              "      <td id=\"T_dd342_row9_col1\" class=\"data row9 col1\" >Cus_Rep</td>\n",
              "      <td id=\"T_dd342_row9_col2\" class=\"data row9 col2\" >40</td>\n",
              "    </tr>\n",
              "    <tr>\n",
              "      <td id=\"T_dd342_row10_col0\" class=\"data row10 col0\" >Mahender</td>\n",
              "      <td id=\"T_dd342_row10_col1\" class=\"data row10 col1\" >Clerk</td>\n",
              "      <td id=\"T_dd342_row10_col2\" class=\"data row10 col2\" >40</td>\n",
              "    </tr>\n",
              "    <tr>\n",
              "      <td id=\"T_dd342_row11_col0\" class=\"data row11 col0\" >Rani</td>\n",
              "      <td id=\"T_dd342_row11_col1\" class=\"data row11 col1\" >Manager</td>\n",
              "      <td id=\"T_dd342_row11_col2\" class=\"data row11 col2\" >40</td>\n",
              "    </tr>\n",
              "  </tbody>\n",
              "</table>\n"
            ]
          },
          "metadata": {},
          "execution_count": 59
        }
      ]
    },
    {
      "cell_type": "code",
      "source": [
        "#!psql -h localhost -p 5432 -Uupraxis -ddbpraxis -c \"\\\n",
        "sql = \"\\\n",
        "select firstname, jobdesc, deptid from empl \\\n",
        "where not exists \\\n",
        "(select * from dept where empl.deptid = dept.deptid)\\\n",
        "order by deptid \\\n",
        "\"\n",
        "runSelect(sql)"
      ],
      "metadata": {
        "colab": {
          "base_uri": "https://localhost:8080/",
          "height": 81
        },
        "id": "6ntFTYfv5AyB",
        "outputId": "28322d7a-5291-4bd4-83c5-3fba5971bfbf"
      },
      "execution_count": 60,
      "outputs": [
        {
          "output_type": "execute_result",
          "data": {
            "text/plain": [
              "<pandas.io.formats.style.Styler at 0x7ae5fb997d10>"
            ],
            "text/html": [
              "<style type=\"text/css\">\n",
              "</style>\n",
              "<table id=\"T_c9e20\" class=\"dataframe\">\n",
              "  <thead>\n",
              "    <tr>\n",
              "      <th id=\"T_c9e20_level0_col0\" class=\"col_heading level0 col0\" >firstname</th>\n",
              "      <th id=\"T_c9e20_level0_col1\" class=\"col_heading level0 col1\" >jobdesc</th>\n",
              "      <th id=\"T_c9e20_level0_col2\" class=\"col_heading level0 col2\" >deptid</th>\n",
              "    </tr>\n",
              "  </thead>\n",
              "  <tbody>\n",
              "    <tr>\n",
              "      <td id=\"T_c9e20_row0_col0\" class=\"data row0 col0\" >Chettri</td>\n",
              "      <td id=\"T_c9e20_row0_col1\" class=\"data row0 col1\" >Dy Manager</td>\n",
              "      <td id=\"T_c9e20_row0_col2\" class=\"data row0 col2\" >70</td>\n",
              "    </tr>\n",
              "  </tbody>\n",
              "</table>\n"
            ]
          },
          "metadata": {},
          "execution_count": 60
        }
      ]
    },
    {
      "cell_type": "markdown",
      "source": [
        "## ALL | ANY"
      ],
      "metadata": {
        "id": "Ft9lsq4Uh8-6"
      }
    },
    {
      "cell_type": "code",
      "source": [
        "#!psql -h localhost -p 5432 -Uupraxis -ddbpraxis -c \"\\\n",
        "sql = \"\\\n",
        "select firstname, jobdesc, deptid, salary from empl \\\n",
        "where salary > all \\\n",
        "(select avg(salary) from empl)\\\n",
        "\"\n",
        "runSelect(sql)"
      ],
      "metadata": {
        "id": "ZySW3QRkiBUG",
        "outputId": "6e8b9429-9086-4d46-d6c4-f430970217f4",
        "colab": {
          "base_uri": "https://localhost:8080/",
          "height": 237
        }
      },
      "execution_count": 61,
      "outputs": [
        {
          "output_type": "execute_result",
          "data": {
            "text/plain": [
              "<pandas.io.formats.style.Styler at 0x7ae5fb995f90>"
            ],
            "text/html": [
              "<style type=\"text/css\">\n",
              "</style>\n",
              "<table id=\"T_1445b\" class=\"dataframe\">\n",
              "  <thead>\n",
              "    <tr>\n",
              "      <th id=\"T_1445b_level0_col0\" class=\"col_heading level0 col0\" >firstname</th>\n",
              "      <th id=\"T_1445b_level0_col1\" class=\"col_heading level0 col1\" >jobdesc</th>\n",
              "      <th id=\"T_1445b_level0_col2\" class=\"col_heading level0 col2\" >deptid</th>\n",
              "      <th id=\"T_1445b_level0_col3\" class=\"col_heading level0 col3\" >salary</th>\n",
              "    </tr>\n",
              "  </thead>\n",
              "  <tbody>\n",
              "    <tr>\n",
              "      <td id=\"T_1445b_row0_col0\" class=\"data row0 col0\" >Amitabh</td>\n",
              "      <td id=\"T_1445b_row0_col1\" class=\"data row0 col1\" >Executive</td>\n",
              "      <td id=\"T_1445b_row0_col2\" class=\"data row0 col2\" >10</td>\n",
              "      <td id=\"T_1445b_row0_col3\" class=\"data row0 col3\" >50000</td>\n",
              "    </tr>\n",
              "    <tr>\n",
              "      <td id=\"T_1445b_row1_col0\" class=\"data row1 col0\" >Shahrukh</td>\n",
              "      <td id=\"T_1445b_row1_col1\" class=\"data row1 col1\" >Manager</td>\n",
              "      <td id=\"T_1445b_row1_col2\" class=\"data row1 col2\" >20</td>\n",
              "      <td id=\"T_1445b_row1_col3\" class=\"data row1 col3\" >30000</td>\n",
              "    </tr>\n",
              "    <tr>\n",
              "      <td id=\"T_1445b_row2_col0\" class=\"data row2 col0\" >Rahul</td>\n",
              "      <td id=\"T_1445b_row2_col1\" class=\"data row2 col1\" >Sr Manager</td>\n",
              "      <td id=\"T_1445b_row2_col2\" class=\"data row2 col2\" >30</td>\n",
              "      <td id=\"T_1445b_row2_col3\" class=\"data row2 col3\" >40000</td>\n",
              "    </tr>\n",
              "    <tr>\n",
              "      <td id=\"T_1445b_row3_col0\" class=\"data row3 col0\" >Rekha</td>\n",
              "      <td id=\"T_1445b_row3_col1\" class=\"data row3 col1\" >Director</td>\n",
              "      <td id=\"T_1445b_row3_col2\" class=\"data row3 col2\" >10</td>\n",
              "      <td id=\"T_1445b_row3_col3\" class=\"data row3 col3\" >60000</td>\n",
              "    </tr>\n",
              "    <tr>\n",
              "      <td id=\"T_1445b_row4_col0\" class=\"data row4 col0\" >Narayan</td>\n",
              "      <td id=\"T_1445b_row4_col1\" class=\"data row4 col1\" >Secretary</td>\n",
              "      <td id=\"T_1445b_row4_col2\" class=\"data row4 col2\" >10</td>\n",
              "      <td id=\"T_1445b_row4_col3\" class=\"data row4 col3\" >40000</td>\n",
              "    </tr>\n",
              "    <tr>\n",
              "      <td id=\"T_1445b_row5_col0\" class=\"data row5 col0\" >Chettri</td>\n",
              "      <td id=\"T_1445b_row5_col1\" class=\"data row5 col1\" >Dy Manager</td>\n",
              "      <td id=\"T_1445b_row5_col2\" class=\"data row5 col2\" >70</td>\n",
              "      <td id=\"T_1445b_row5_col3\" class=\"data row5 col3\" >40000</td>\n",
              "    </tr>\n",
              "  </tbody>\n",
              "</table>\n"
            ]
          },
          "metadata": {},
          "execution_count": 61
        }
      ]
    },
    {
      "cell_type": "code",
      "source": [
        "#!psql -h localhost -p 5432 -Uupraxis -ddbpraxis -c \"\\\n",
        "sql = \"\\\n",
        "select firstname, jobdesc, deptid, salary from empl \\\n",
        "where salary <= any \\\n",
        "(select min(salary) from empl)\\\n",
        "\"\n",
        "runSelect(sql)"
      ],
      "metadata": {
        "id": "OrNzFUx2i6n1",
        "outputId": "477d4735-e148-4f55-f7ba-bb46cd2167fe",
        "colab": {
          "base_uri": "https://localhost:8080/",
          "height": 81
        }
      },
      "execution_count": 62,
      "outputs": [
        {
          "output_type": "execute_result",
          "data": {
            "text/plain": [
              "<pandas.io.formats.style.Styler at 0x7ae5fb9942d0>"
            ],
            "text/html": [
              "<style type=\"text/css\">\n",
              "</style>\n",
              "<table id=\"T_931d9\" class=\"dataframe\">\n",
              "  <thead>\n",
              "    <tr>\n",
              "      <th id=\"T_931d9_level0_col0\" class=\"col_heading level0 col0\" >firstname</th>\n",
              "      <th id=\"T_931d9_level0_col1\" class=\"col_heading level0 col1\" >jobdesc</th>\n",
              "      <th id=\"T_931d9_level0_col2\" class=\"col_heading level0 col2\" >deptid</th>\n",
              "      <th id=\"T_931d9_level0_col3\" class=\"col_heading level0 col3\" >salary</th>\n",
              "    </tr>\n",
              "  </thead>\n",
              "  <tbody>\n",
              "    <tr>\n",
              "      <td id=\"T_931d9_row0_col0\" class=\"data row0 col0\" >Mahender</td>\n",
              "      <td id=\"T_931d9_row0_col1\" class=\"data row0 col1\" >Clerk</td>\n",
              "      <td id=\"T_931d9_row0_col2\" class=\"data row0 col2\" >40</td>\n",
              "      <td id=\"T_931d9_row0_col3\" class=\"data row0 col3\" >9000</td>\n",
              "    </tr>\n",
              "  </tbody>\n",
              "</table>\n"
            ]
          },
          "metadata": {},
          "execution_count": 62
        }
      ]
    },
    {
      "cell_type": "code",
      "source": [
        "#!psql -h localhost -p 5432 -Uupraxis -ddbpraxis -c \"\\\n",
        "sql = \"\\\n",
        "select firstname, jobdesc, deptid, salary from empl \\\n",
        "where salary >= any \\\n",
        "(select max(salary) from empl)\\\n",
        "\"\n",
        "runSelect(sql)"
      ],
      "metadata": {
        "id": "_i2nkl8yvjyr",
        "outputId": "bd089940-ac1b-4a06-aa14-8b5e72e34dfc",
        "colab": {
          "base_uri": "https://localhost:8080/",
          "height": 81
        }
      },
      "execution_count": 63,
      "outputs": [
        {
          "output_type": "execute_result",
          "data": {
            "text/plain": [
              "<pandas.io.formats.style.Styler at 0x7ae5fb99c290>"
            ],
            "text/html": [
              "<style type=\"text/css\">\n",
              "</style>\n",
              "<table id=\"T_ec304\" class=\"dataframe\">\n",
              "  <thead>\n",
              "    <tr>\n",
              "      <th id=\"T_ec304_level0_col0\" class=\"col_heading level0 col0\" >firstname</th>\n",
              "      <th id=\"T_ec304_level0_col1\" class=\"col_heading level0 col1\" >jobdesc</th>\n",
              "      <th id=\"T_ec304_level0_col2\" class=\"col_heading level0 col2\" >deptid</th>\n",
              "      <th id=\"T_ec304_level0_col3\" class=\"col_heading level0 col3\" >salary</th>\n",
              "    </tr>\n",
              "  </thead>\n",
              "  <tbody>\n",
              "    <tr>\n",
              "      <td id=\"T_ec304_row0_col0\" class=\"data row0 col0\" >Rekha</td>\n",
              "      <td id=\"T_ec304_row0_col1\" class=\"data row0 col1\" >Director</td>\n",
              "      <td id=\"T_ec304_row0_col2\" class=\"data row0 col2\" >10</td>\n",
              "      <td id=\"T_ec304_row0_col3\" class=\"data row0 col3\" >60000</td>\n",
              "    </tr>\n",
              "  </tbody>\n",
              "</table>\n"
            ]
          },
          "metadata": {},
          "execution_count": 63
        }
      ]
    },
    {
      "cell_type": "code",
      "source": [
        "!psql -h localhost -p 5432 -Uupraxis -ddbpraxis -c \"\\\n",
        "select firstname, jobdesc, deptid, salary from empl \\\n",
        "where deptid = ALL  \\\n",
        "(select deptid from dept where location = 'Calcutta' )\\\n",
        "\"\n",
        "#runSelect(sql)"
      ],
      "metadata": {
        "id": "DodcUMruPCYv",
        "outputId": "7123d330-de85-4999-a6a8-7ded6ff5d0ed",
        "colab": {
          "base_uri": "https://localhost:8080/"
        }
      },
      "execution_count": 64,
      "outputs": [
        {
          "output_type": "stream",
          "name": "stdout",
          "text": [
            " firstname | jobdesc | deptid | salary \n",
            "-----------+---------+--------+--------\n",
            "(0 rows)\n",
            "\n"
          ]
        }
      ]
    },
    {
      "cell_type": "code",
      "source": [
        "!psql -h localhost -p 5432 -Uupraxis -ddbpraxis -c \"\\\n",
        "select firstname, jobdesc, deptid, salary from empl \\\n",
        "where deptid = any  \\\n",
        "(select deptid from dept where location = 'Calcutta' )\\\n",
        "\""
      ],
      "metadata": {
        "id": "e-v3Rp0qv3TJ",
        "outputId": "433c74e4-4202-4f5e-c442-0f122fe39a4b",
        "colab": {
          "base_uri": "https://localhost:8080/"
        }
      },
      "execution_count": 65,
      "outputs": [
        {
          "output_type": "stream",
          "name": "stdout",
          "text": [
            " firstname |  jobdesc   | deptid | salary \n",
            "-----------+------------+--------+--------\n",
            " Amitabh   | Executive  | 10     |  50000\n",
            " Madhuri   | Clerk      | 20     |  10000\n",
            " Shahrukh  | Manager    | 20     |  30000\n",
            " Virender  | Cus_Rep    | 20     |  15000\n",
            " Rahul     | Sr Manager | 30     |  40000\n",
            " Jagmohan  | Clerk      | 30     |  12000\n",
            " Rekha     | Director   | 10     |  60000\n",
            " Narayan   | Secretary  | 10     |  40000\n",
            " Sania     | Cus_Rep    | 30     |  25000\n",
            "(9 rows)\n",
            "\n"
          ]
        }
      ]
    },
    {
      "cell_type": "code",
      "source": [
        "!psql -h localhost -p 5432 -Uupraxis -ddbpraxis -c \"\\\n",
        "select firstname, jobdesc, salary from empl \\\n",
        "where salary > ANY  \\\n",
        "(select salary from empl where jobdesc like '%Manager%' )\\\n",
        "\""
      ],
      "metadata": {
        "id": "9T_Rw43iUs6z",
        "outputId": "a1d90b6a-5e11-44ca-be0d-ed779b10264a",
        "colab": {
          "base_uri": "https://localhost:8080/"
        }
      },
      "execution_count": 66,
      "outputs": [
        {
          "output_type": "stream",
          "name": "stdout",
          "text": [
            " firstname |  jobdesc   | salary \n",
            "-----------+------------+--------\n",
            " Amitabh   | Executive  |  50000\n",
            " Shahrukh  | Manager    |  30000\n",
            " Rahul     | Sr Manager |  40000\n",
            " Rekha     | Director   |  60000\n",
            " Narayan   | Secretary  |  40000\n",
            " Chettri   | Dy Manager |  40000\n",
            "(6 rows)\n",
            "\n"
          ]
        }
      ]
    },
    {
      "cell_type": "code",
      "source": [
        "!psql -h localhost -p 5432 -Uupraxis -ddbpraxis -c \"\\\n",
        "select firstname, jobdesc, salary from empl \\\n",
        "where salary > ALL  \\\n",
        "(select salary from empl where jobdesc like '%Manager%' )\\\n",
        "\""
      ],
      "metadata": {
        "id": "gBMwfFDLkOhd",
        "outputId": "0505d331-f3ec-42c0-86a0-a9182b6d13fd",
        "colab": {
          "base_uri": "https://localhost:8080/"
        }
      },
      "execution_count": 67,
      "outputs": [
        {
          "output_type": "stream",
          "name": "stdout",
          "text": [
            " firstname |  jobdesc  | salary \n",
            "-----------+-----------+--------\n",
            " Amitabh   | Executive |  50000\n",
            " Rekha     | Director  |  60000\n",
            "(2 rows)\n",
            "\n"
          ]
        }
      ]
    },
    {
      "cell_type": "markdown",
      "source": [
        "## Common Table Extensions CTE"
      ],
      "metadata": {
        "id": "2gvg8pwe3ale"
      }
    },
    {
      "cell_type": "code",
      "source": [
        "sql = \"\\\n",
        "select jobdesc, avg(salary) avgsalary from empl group by jobdesc \\\n",
        "\"\n",
        "runSelect(sql)"
      ],
      "metadata": {
        "id": "7mu6mmXA3pVn",
        "outputId": "f1f989f1-9874-4b34-cd3f-1dc0cb403f2d",
        "colab": {
          "base_uri": "https://localhost:8080/",
          "height": 300
        }
      },
      "execution_count": 68,
      "outputs": [
        {
          "output_type": "execute_result",
          "data": {
            "text/plain": [
              "<pandas.io.formats.style.Styler at 0x7ae5fb99dc90>"
            ],
            "text/html": [
              "<style type=\"text/css\">\n",
              "</style>\n",
              "<table id=\"T_b3111\" class=\"dataframe\">\n",
              "  <thead>\n",
              "    <tr>\n",
              "      <th id=\"T_b3111_level0_col0\" class=\"col_heading level0 col0\" >jobdesc</th>\n",
              "      <th id=\"T_b3111_level0_col1\" class=\"col_heading level0 col1\" >avgsalary</th>\n",
              "    </tr>\n",
              "  </thead>\n",
              "  <tbody>\n",
              "    <tr>\n",
              "      <td id=\"T_b3111_row0_col0\" class=\"data row0 col0\" >Director</td>\n",
              "      <td id=\"T_b3111_row0_col1\" class=\"data row0 col1\" >60000.000000000000</td>\n",
              "    </tr>\n",
              "    <tr>\n",
              "      <td id=\"T_b3111_row1_col0\" class=\"data row1 col0\" >Manager</td>\n",
              "      <td id=\"T_b3111_row1_col1\" class=\"data row1 col1\" >27500.000000000000</td>\n",
              "    </tr>\n",
              "    <tr>\n",
              "      <td id=\"T_b3111_row2_col0\" class=\"data row2 col0\" >Dy Manager</td>\n",
              "      <td id=\"T_b3111_row2_col1\" class=\"data row2 col1\" >40000.000000000000</td>\n",
              "    </tr>\n",
              "    <tr>\n",
              "      <td id=\"T_b3111_row3_col0\" class=\"data row3 col0\" >Executive</td>\n",
              "      <td id=\"T_b3111_row3_col1\" class=\"data row3 col1\" >50000.000000000000</td>\n",
              "    </tr>\n",
              "    <tr>\n",
              "      <td id=\"T_b3111_row4_col0\" class=\"data row4 col0\" >Secretary</td>\n",
              "      <td id=\"T_b3111_row4_col1\" class=\"data row4 col1\" >40000.000000000000</td>\n",
              "    </tr>\n",
              "    <tr>\n",
              "      <td id=\"T_b3111_row5_col0\" class=\"data row5 col0\" >Cus_Rep</td>\n",
              "      <td id=\"T_b3111_row5_col1\" class=\"data row5 col1\" >20000.000000000000</td>\n",
              "    </tr>\n",
              "    <tr>\n",
              "      <td id=\"T_b3111_row6_col0\" class=\"data row6 col0\" >Clerk</td>\n",
              "      <td id=\"T_b3111_row6_col1\" class=\"data row6 col1\" >10333.3333333333333333</td>\n",
              "    </tr>\n",
              "    <tr>\n",
              "      <td id=\"T_b3111_row7_col0\" class=\"data row7 col0\" >Sr Manager</td>\n",
              "      <td id=\"T_b3111_row7_col1\" class=\"data row7 col1\" >40000.000000000000</td>\n",
              "    </tr>\n",
              "  </tbody>\n",
              "</table>\n"
            ]
          },
          "metadata": {},
          "execution_count": 68
        }
      ]
    },
    {
      "cell_type": "code",
      "source": [
        "sql = \"\\\n",
        "with MeanSalary as \\\n",
        "    (select jobdesc, round(avg(salary),0) avgsalary from empl group by jobdesc) \\\n",
        "select lastname, empl.jobdesc, salary, avgsalary from empl, meansalary \\\n",
        "where empl.jobdesc = meansalary.jobdesc \\\n",
        "order  by jobdesc \\\n",
        "\"\n",
        "runSelect(sql)"
      ],
      "metadata": {
        "id": "0i-rIGEzDgFy",
        "outputId": "9c9b4ee0-cbbe-4a89-9be5-bc60a059736b",
        "colab": {
          "base_uri": "https://localhost:8080/",
          "height": 457
        }
      },
      "execution_count": 69,
      "outputs": [
        {
          "output_type": "execute_result",
          "data": {
            "text/plain": [
              "<pandas.io.formats.style.Styler at 0x7ae5fb9a8850>"
            ],
            "text/html": [
              "<style type=\"text/css\">\n",
              "</style>\n",
              "<table id=\"T_930d2\" class=\"dataframe\">\n",
              "  <thead>\n",
              "    <tr>\n",
              "      <th id=\"T_930d2_level0_col0\" class=\"col_heading level0 col0\" >lastname</th>\n",
              "      <th id=\"T_930d2_level0_col1\" class=\"col_heading level0 col1\" >jobdesc</th>\n",
              "      <th id=\"T_930d2_level0_col2\" class=\"col_heading level0 col2\" >salary</th>\n",
              "      <th id=\"T_930d2_level0_col3\" class=\"col_heading level0 col3\" >avgsalary</th>\n",
              "    </tr>\n",
              "  </thead>\n",
              "  <tbody>\n",
              "    <tr>\n",
              "      <td id=\"T_930d2_row0_col0\" class=\"data row0 col0\" >Dalmia</td>\n",
              "      <td id=\"T_930d2_row0_col1\" class=\"data row0 col1\" >Clerk</td>\n",
              "      <td id=\"T_930d2_row0_col2\" class=\"data row0 col2\" >12000</td>\n",
              "      <td id=\"T_930d2_row0_col3\" class=\"data row0 col3\" >10333</td>\n",
              "    </tr>\n",
              "    <tr>\n",
              "      <td id=\"T_930d2_row1_col0\" class=\"data row1 col0\" >Dikshit</td>\n",
              "      <td id=\"T_930d2_row1_col1\" class=\"data row1 col1\" >Clerk</td>\n",
              "      <td id=\"T_930d2_row1_col2\" class=\"data row1 col2\" >10000</td>\n",
              "      <td id=\"T_930d2_row1_col3\" class=\"data row1 col3\" >10333</td>\n",
              "    </tr>\n",
              "    <tr>\n",
              "      <td id=\"T_930d2_row2_col0\" class=\"data row2 col0\" >Dhoni</td>\n",
              "      <td id=\"T_930d2_row2_col1\" class=\"data row2 col1\" >Clerk</td>\n",
              "      <td id=\"T_930d2_row2_col2\" class=\"data row2 col2\" >9000</td>\n",
              "      <td id=\"T_930d2_row2_col3\" class=\"data row2 col3\" >10333</td>\n",
              "    </tr>\n",
              "    <tr>\n",
              "      <td id=\"T_930d2_row3_col0\" class=\"data row3 col0\" >Sehwag</td>\n",
              "      <td id=\"T_930d2_row3_col1\" class=\"data row3 col1\" >Cus_Rep</td>\n",
              "      <td id=\"T_930d2_row3_col2\" class=\"data row3 col2\" >15000</td>\n",
              "      <td id=\"T_930d2_row3_col3\" class=\"data row3 col3\" >20000</td>\n",
              "    </tr>\n",
              "    <tr>\n",
              "      <td id=\"T_930d2_row4_col0\" class=\"data row4 col0\" >Mirza</td>\n",
              "      <td id=\"T_930d2_row4_col1\" class=\"data row4 col1\" >Cus_Rep</td>\n",
              "      <td id=\"T_930d2_row4_col2\" class=\"data row4 col2\" >25000</td>\n",
              "      <td id=\"T_930d2_row4_col3\" class=\"data row4 col3\" >20000</td>\n",
              "    </tr>\n",
              "    <tr>\n",
              "      <td id=\"T_930d2_row5_col0\" class=\"data row5 col0\" >Ganguly</td>\n",
              "      <td id=\"T_930d2_row5_col1\" class=\"data row5 col1\" >Cus_Rep</td>\n",
              "      <td id=\"T_930d2_row5_col2\" class=\"data row5 col2\" >20000</td>\n",
              "      <td id=\"T_930d2_row5_col3\" class=\"data row5 col3\" >20000</td>\n",
              "    </tr>\n",
              "    <tr>\n",
              "      <td id=\"T_930d2_row6_col0\" class=\"data row6 col0\" >Ganesan</td>\n",
              "      <td id=\"T_930d2_row6_col1\" class=\"data row6 col1\" >Director</td>\n",
              "      <td id=\"T_930d2_row6_col2\" class=\"data row6 col2\" >60000</td>\n",
              "      <td id=\"T_930d2_row6_col3\" class=\"data row6 col3\" >60000</td>\n",
              "    </tr>\n",
              "    <tr>\n",
              "      <td id=\"T_930d2_row7_col0\" class=\"data row7 col0\" >Sunil</td>\n",
              "      <td id=\"T_930d2_row7_col1\" class=\"data row7 col1\" >Dy Manager</td>\n",
              "      <td id=\"T_930d2_row7_col2\" class=\"data row7 col2\" >40000</td>\n",
              "      <td id=\"T_930d2_row7_col3\" class=\"data row7 col3\" >40000</td>\n",
              "    </tr>\n",
              "    <tr>\n",
              "      <td id=\"T_930d2_row8_col0\" class=\"data row8 col0\" >Bacchan</td>\n",
              "      <td id=\"T_930d2_row8_col1\" class=\"data row8 col1\" >Executive</td>\n",
              "      <td id=\"T_930d2_row8_col2\" class=\"data row8 col2\" >50000</td>\n",
              "      <td id=\"T_930d2_row8_col3\" class=\"data row8 col3\" >50000</td>\n",
              "    </tr>\n",
              "    <tr>\n",
              "      <td id=\"T_930d2_row9_col0\" class=\"data row9 col0\" >Khan</td>\n",
              "      <td id=\"T_930d2_row9_col1\" class=\"data row9 col1\" >Manager</td>\n",
              "      <td id=\"T_930d2_row9_col2\" class=\"data row9 col2\" >30000</td>\n",
              "      <td id=\"T_930d2_row9_col3\" class=\"data row9 col3\" >27500</td>\n",
              "    </tr>\n",
              "    <tr>\n",
              "      <td id=\"T_930d2_row10_col0\" class=\"data row10 col0\" >Mukherjee</td>\n",
              "      <td id=\"T_930d2_row10_col1\" class=\"data row10 col1\" >Manager</td>\n",
              "      <td id=\"T_930d2_row10_col2\" class=\"data row10 col2\" >25000</td>\n",
              "      <td id=\"T_930d2_row10_col3\" class=\"data row10 col3\" >27500</td>\n",
              "    </tr>\n",
              "    <tr>\n",
              "      <td id=\"T_930d2_row11_col0\" class=\"data row11 col0\" >Karthikeyan</td>\n",
              "      <td id=\"T_930d2_row11_col1\" class=\"data row11 col1\" >Secretary</td>\n",
              "      <td id=\"T_930d2_row11_col2\" class=\"data row11 col2\" >40000</td>\n",
              "      <td id=\"T_930d2_row11_col3\" class=\"data row11 col3\" >40000</td>\n",
              "    </tr>\n",
              "    <tr>\n",
              "      <td id=\"T_930d2_row12_col0\" class=\"data row12 col0\" >Dravid</td>\n",
              "      <td id=\"T_930d2_row12_col1\" class=\"data row12 col1\" >Sr Manager</td>\n",
              "      <td id=\"T_930d2_row12_col2\" class=\"data row12 col2\" >40000</td>\n",
              "      <td id=\"T_930d2_row12_col3\" class=\"data row12 col3\" >40000</td>\n",
              "    </tr>\n",
              "  </tbody>\n",
              "</table>\n"
            ]
          },
          "metadata": {},
          "execution_count": 69
        }
      ]
    },
    {
      "cell_type": "code",
      "source": [
        "sql = \"\\\n",
        "select lastname, empl.jobdesc, salary, avgsalary from \\\n",
        "empl, (select jobdesc, round(avg(salary),0) avgsalary from empl group by jobdesc) meansalary \\\n",
        "where empl.jobdesc = meansalary.jobdesc \\\n",
        "order  by jobdesc \\\n",
        "\"\n",
        "runSelect(sql)"
      ],
      "metadata": {
        "id": "nwrLj4xaExye",
        "outputId": "014a8c1c-bdc0-4fb0-d713-cd75acf64060",
        "colab": {
          "base_uri": "https://localhost:8080/",
          "height": 457
        }
      },
      "execution_count": 70,
      "outputs": [
        {
          "output_type": "execute_result",
          "data": {
            "text/plain": [
              "<pandas.io.formats.style.Styler at 0x7ae5fb9aab90>"
            ],
            "text/html": [
              "<style type=\"text/css\">\n",
              "</style>\n",
              "<table id=\"T_facdf\" class=\"dataframe\">\n",
              "  <thead>\n",
              "    <tr>\n",
              "      <th id=\"T_facdf_level0_col0\" class=\"col_heading level0 col0\" >lastname</th>\n",
              "      <th id=\"T_facdf_level0_col1\" class=\"col_heading level0 col1\" >jobdesc</th>\n",
              "      <th id=\"T_facdf_level0_col2\" class=\"col_heading level0 col2\" >salary</th>\n",
              "      <th id=\"T_facdf_level0_col3\" class=\"col_heading level0 col3\" >avgsalary</th>\n",
              "    </tr>\n",
              "  </thead>\n",
              "  <tbody>\n",
              "    <tr>\n",
              "      <td id=\"T_facdf_row0_col0\" class=\"data row0 col0\" >Dalmia</td>\n",
              "      <td id=\"T_facdf_row0_col1\" class=\"data row0 col1\" >Clerk</td>\n",
              "      <td id=\"T_facdf_row0_col2\" class=\"data row0 col2\" >12000</td>\n",
              "      <td id=\"T_facdf_row0_col3\" class=\"data row0 col3\" >10333</td>\n",
              "    </tr>\n",
              "    <tr>\n",
              "      <td id=\"T_facdf_row1_col0\" class=\"data row1 col0\" >Dikshit</td>\n",
              "      <td id=\"T_facdf_row1_col1\" class=\"data row1 col1\" >Clerk</td>\n",
              "      <td id=\"T_facdf_row1_col2\" class=\"data row1 col2\" >10000</td>\n",
              "      <td id=\"T_facdf_row1_col3\" class=\"data row1 col3\" >10333</td>\n",
              "    </tr>\n",
              "    <tr>\n",
              "      <td id=\"T_facdf_row2_col0\" class=\"data row2 col0\" >Dhoni</td>\n",
              "      <td id=\"T_facdf_row2_col1\" class=\"data row2 col1\" >Clerk</td>\n",
              "      <td id=\"T_facdf_row2_col2\" class=\"data row2 col2\" >9000</td>\n",
              "      <td id=\"T_facdf_row2_col3\" class=\"data row2 col3\" >10333</td>\n",
              "    </tr>\n",
              "    <tr>\n",
              "      <td id=\"T_facdf_row3_col0\" class=\"data row3 col0\" >Sehwag</td>\n",
              "      <td id=\"T_facdf_row3_col1\" class=\"data row3 col1\" >Cus_Rep</td>\n",
              "      <td id=\"T_facdf_row3_col2\" class=\"data row3 col2\" >15000</td>\n",
              "      <td id=\"T_facdf_row3_col3\" class=\"data row3 col3\" >20000</td>\n",
              "    </tr>\n",
              "    <tr>\n",
              "      <td id=\"T_facdf_row4_col0\" class=\"data row4 col0\" >Mirza</td>\n",
              "      <td id=\"T_facdf_row4_col1\" class=\"data row4 col1\" >Cus_Rep</td>\n",
              "      <td id=\"T_facdf_row4_col2\" class=\"data row4 col2\" >25000</td>\n",
              "      <td id=\"T_facdf_row4_col3\" class=\"data row4 col3\" >20000</td>\n",
              "    </tr>\n",
              "    <tr>\n",
              "      <td id=\"T_facdf_row5_col0\" class=\"data row5 col0\" >Ganguly</td>\n",
              "      <td id=\"T_facdf_row5_col1\" class=\"data row5 col1\" >Cus_Rep</td>\n",
              "      <td id=\"T_facdf_row5_col2\" class=\"data row5 col2\" >20000</td>\n",
              "      <td id=\"T_facdf_row5_col3\" class=\"data row5 col3\" >20000</td>\n",
              "    </tr>\n",
              "    <tr>\n",
              "      <td id=\"T_facdf_row6_col0\" class=\"data row6 col0\" >Ganesan</td>\n",
              "      <td id=\"T_facdf_row6_col1\" class=\"data row6 col1\" >Director</td>\n",
              "      <td id=\"T_facdf_row6_col2\" class=\"data row6 col2\" >60000</td>\n",
              "      <td id=\"T_facdf_row6_col3\" class=\"data row6 col3\" >60000</td>\n",
              "    </tr>\n",
              "    <tr>\n",
              "      <td id=\"T_facdf_row7_col0\" class=\"data row7 col0\" >Sunil</td>\n",
              "      <td id=\"T_facdf_row7_col1\" class=\"data row7 col1\" >Dy Manager</td>\n",
              "      <td id=\"T_facdf_row7_col2\" class=\"data row7 col2\" >40000</td>\n",
              "      <td id=\"T_facdf_row7_col3\" class=\"data row7 col3\" >40000</td>\n",
              "    </tr>\n",
              "    <tr>\n",
              "      <td id=\"T_facdf_row8_col0\" class=\"data row8 col0\" >Bacchan</td>\n",
              "      <td id=\"T_facdf_row8_col1\" class=\"data row8 col1\" >Executive</td>\n",
              "      <td id=\"T_facdf_row8_col2\" class=\"data row8 col2\" >50000</td>\n",
              "      <td id=\"T_facdf_row8_col3\" class=\"data row8 col3\" >50000</td>\n",
              "    </tr>\n",
              "    <tr>\n",
              "      <td id=\"T_facdf_row9_col0\" class=\"data row9 col0\" >Khan</td>\n",
              "      <td id=\"T_facdf_row9_col1\" class=\"data row9 col1\" >Manager</td>\n",
              "      <td id=\"T_facdf_row9_col2\" class=\"data row9 col2\" >30000</td>\n",
              "      <td id=\"T_facdf_row9_col3\" class=\"data row9 col3\" >27500</td>\n",
              "    </tr>\n",
              "    <tr>\n",
              "      <td id=\"T_facdf_row10_col0\" class=\"data row10 col0\" >Mukherjee</td>\n",
              "      <td id=\"T_facdf_row10_col1\" class=\"data row10 col1\" >Manager</td>\n",
              "      <td id=\"T_facdf_row10_col2\" class=\"data row10 col2\" >25000</td>\n",
              "      <td id=\"T_facdf_row10_col3\" class=\"data row10 col3\" >27500</td>\n",
              "    </tr>\n",
              "    <tr>\n",
              "      <td id=\"T_facdf_row11_col0\" class=\"data row11 col0\" >Karthikeyan</td>\n",
              "      <td id=\"T_facdf_row11_col1\" class=\"data row11 col1\" >Secretary</td>\n",
              "      <td id=\"T_facdf_row11_col2\" class=\"data row11 col2\" >40000</td>\n",
              "      <td id=\"T_facdf_row11_col3\" class=\"data row11 col3\" >40000</td>\n",
              "    </tr>\n",
              "    <tr>\n",
              "      <td id=\"T_facdf_row12_col0\" class=\"data row12 col0\" >Dravid</td>\n",
              "      <td id=\"T_facdf_row12_col1\" class=\"data row12 col1\" >Sr Manager</td>\n",
              "      <td id=\"T_facdf_row12_col2\" class=\"data row12 col2\" >40000</td>\n",
              "      <td id=\"T_facdf_row12_col3\" class=\"data row12 col3\" >40000</td>\n",
              "    </tr>\n",
              "  </tbody>\n",
              "</table>\n"
            ]
          },
          "metadata": {},
          "execution_count": 70
        }
      ]
    },
    {
      "cell_type": "markdown",
      "source": [
        "### CTE Recursion"
      ],
      "metadata": {
        "id": "d3j9PbgaADoB"
      }
    },
    {
      "cell_type": "code",
      "source": [
        "# recursion\n",
        "sql = \"\\\n",
        "with recursive hiring_chain as (\\\n",
        "select empid, lastname, hiredby \\\n",
        "    from empl where lastname = 'Ganesan' \\\n",
        "union all \\\n",
        "select \\\n",
        "e.empid, e.lastname,e.hiredby \\\n",
        "    from empl e \\\n",
        "    inner join hiring_chain hc on hc.empid = e.hiredby \\\n",
        ") \\\n",
        "select * from hiring_chain \\\n",
        "\"\n",
        "\n",
        "runSelect(sql)"
      ],
      "metadata": {
        "id": "HA-RyLoz0D3Z",
        "outputId": "8d23a548-10e0-4709-804c-e71b0f15ac1c",
        "colab": {
          "base_uri": "https://localhost:8080/",
          "height": 175
        }
      },
      "execution_count": 71,
      "outputs": [
        {
          "output_type": "execute_result",
          "data": {
            "text/plain": [
              "<pandas.io.formats.style.Styler at 0x7ae5fb9ac810>"
            ],
            "text/html": [
              "<style type=\"text/css\">\n",
              "</style>\n",
              "<table id=\"T_a9754\" class=\"dataframe\">\n",
              "  <thead>\n",
              "    <tr>\n",
              "      <th id=\"T_a9754_level0_col0\" class=\"col_heading level0 col0\" >empid</th>\n",
              "      <th id=\"T_a9754_level0_col1\" class=\"col_heading level0 col1\" >lastname</th>\n",
              "      <th id=\"T_a9754_level0_col2\" class=\"col_heading level0 col2\" >hiredby</th>\n",
              "    </tr>\n",
              "  </thead>\n",
              "  <tbody>\n",
              "    <tr>\n",
              "      <td id=\"T_a9754_row0_col0\" class=\"data row0 col0\" >299034</td>\n",
              "      <td id=\"T_a9754_row0_col1\" class=\"data row0 col1\" >Ganesan</td>\n",
              "      <td id=\"T_a9754_row0_col2\" class=\"data row0 col2\" >742866</td>\n",
              "    </tr>\n",
              "    <tr>\n",
              "      <td id=\"T_a9754_row1_col0\" class=\"data row1 col0\" >989007</td>\n",
              "      <td id=\"T_a9754_row1_col1\" class=\"data row1 col1\" >Ganguly</td>\n",
              "      <td id=\"T_a9754_row1_col2\" class=\"data row1 col2\" >299034</td>\n",
              "    </tr>\n",
              "    <tr>\n",
              "      <td id=\"T_a9754_row2_col0\" class=\"data row2 col0\" >546223</td>\n",
              "      <td id=\"T_a9754_row2_col1\" class=\"data row2 col1\" >Karthikeyan</td>\n",
              "      <td id=\"T_a9754_row2_col2\" class=\"data row2 col2\" >299034</td>\n",
              "    </tr>\n",
              "    <tr>\n",
              "      <td id=\"T_a9754_row3_col0\" class=\"data row3 col0\" >546224</td>\n",
              "      <td id=\"T_a9754_row3_col1\" class=\"data row3 col1\" >Sunil</td>\n",
              "      <td id=\"T_a9754_row3_col2\" class=\"data row3 col2\" >989007</td>\n",
              "    </tr>\n",
              "  </tbody>\n",
              "</table>\n"
            ]
          },
          "metadata": {},
          "execution_count": 71
        }
      ]
    },
    {
      "cell_type": "markdown",
      "source": [
        "### More Sophisticated Recursion\n",
        "note the switch between upward chain and downward chain in the JOIN column <br>\n",
        "\n",
        "\n",
        "*   Downward > e.hiredby = hc.empid\n",
        "*   Upward   > e.empid = hc.hiredby\n",
        "\n",
        "Courtesy [ChatGPT](https://chat.openai.com/share/80e291a6-bbd2-42d8-ba3d-6e01be4eafd7)"
      ],
      "metadata": {
        "id": "a5zh-tdQAxJp"
      }
    },
    {
      "cell_type": "code",
      "source": [
        "# Downward Chain\n",
        "#\n",
        "sql = \"\\\n",
        "with recursive hiring_chain as (\\\n",
        "select empid, lastname, hiredby, 1 as level \\\n",
        "    from empl where hiredby = '299034' \\\n",
        "union all \\\n",
        "select \\\n",
        "e.empid, e.lastname,e.hiredby, hc.level+1 \\\n",
        "    from empl e \\\n",
        "    inner join hiring_chain hc on e.hiredby = hc.empid  \\\n",
        ") \\\n",
        "select * from hiring_chain \\\n",
        "\"\n",
        "\n",
        "runSelect(sql)"
      ],
      "metadata": {
        "id": "wEsTzZbxA9Y9",
        "outputId": "fd8faea5-f64e-4fc7-9dde-056a902f19fb",
        "colab": {
          "base_uri": "https://localhost:8080/",
          "height": 143
        }
      },
      "execution_count": 72,
      "outputs": [
        {
          "output_type": "execute_result",
          "data": {
            "text/plain": [
              "<pandas.io.formats.style.Styler at 0x7ae5fb9ad010>"
            ],
            "text/html": [
              "<style type=\"text/css\">\n",
              "</style>\n",
              "<table id=\"T_9beea\" class=\"dataframe\">\n",
              "  <thead>\n",
              "    <tr>\n",
              "      <th id=\"T_9beea_level0_col0\" class=\"col_heading level0 col0\" >empid</th>\n",
              "      <th id=\"T_9beea_level0_col1\" class=\"col_heading level0 col1\" >lastname</th>\n",
              "      <th id=\"T_9beea_level0_col2\" class=\"col_heading level0 col2\" >hiredby</th>\n",
              "      <th id=\"T_9beea_level0_col3\" class=\"col_heading level0 col3\" >level</th>\n",
              "    </tr>\n",
              "  </thead>\n",
              "  <tbody>\n",
              "    <tr>\n",
              "      <td id=\"T_9beea_row0_col0\" class=\"data row0 col0\" >989007</td>\n",
              "      <td id=\"T_9beea_row0_col1\" class=\"data row0 col1\" >Ganguly</td>\n",
              "      <td id=\"T_9beea_row0_col2\" class=\"data row0 col2\" >299034</td>\n",
              "      <td id=\"T_9beea_row0_col3\" class=\"data row0 col3\" >1</td>\n",
              "    </tr>\n",
              "    <tr>\n",
              "      <td id=\"T_9beea_row1_col0\" class=\"data row1 col0\" >546223</td>\n",
              "      <td id=\"T_9beea_row1_col1\" class=\"data row1 col1\" >Karthikeyan</td>\n",
              "      <td id=\"T_9beea_row1_col2\" class=\"data row1 col2\" >299034</td>\n",
              "      <td id=\"T_9beea_row1_col3\" class=\"data row1 col3\" >1</td>\n",
              "    </tr>\n",
              "    <tr>\n",
              "      <td id=\"T_9beea_row2_col0\" class=\"data row2 col0\" >546224</td>\n",
              "      <td id=\"T_9beea_row2_col1\" class=\"data row2 col1\" >Sunil</td>\n",
              "      <td id=\"T_9beea_row2_col2\" class=\"data row2 col2\" >989007</td>\n",
              "      <td id=\"T_9beea_row2_col3\" class=\"data row2 col3\" >2</td>\n",
              "    </tr>\n",
              "  </tbody>\n",
              "</table>\n"
            ]
          },
          "metadata": {},
          "execution_count": 72
        }
      ]
    },
    {
      "cell_type": "code",
      "source": [
        "# Downward Chain - Style 2\n",
        "#\n",
        "sql = \"\\\n",
        "with recursive hiring_chain as (\\\n",
        "select empid, lastname, hiredby, 1 as level \\\n",
        "    from empl where hiredby = (select empid from empl where lastname = 'Ganesan') \\\n",
        "union all \\\n",
        "select \\\n",
        "e.empid, e.lastname,e.hiredby, hc.level+1 \\\n",
        "    from empl e \\\n",
        "    inner join hiring_chain hc on e.hiredby = hc.empid  \\\n",
        ") \\\n",
        "select * from hiring_chain \\\n",
        "\"\n",
        "\n",
        "runSelect(sql)"
      ],
      "metadata": {
        "id": "jKvfW2HiQF5O",
        "outputId": "ff726359-49e8-42e6-d013-cf8dbe26a20c",
        "colab": {
          "base_uri": "https://localhost:8080/",
          "height": 143
        }
      },
      "execution_count": 73,
      "outputs": [
        {
          "output_type": "execute_result",
          "data": {
            "text/plain": [
              "<pandas.io.formats.style.Styler at 0x7ae5fb9ae150>"
            ],
            "text/html": [
              "<style type=\"text/css\">\n",
              "</style>\n",
              "<table id=\"T_e71a6\" class=\"dataframe\">\n",
              "  <thead>\n",
              "    <tr>\n",
              "      <th id=\"T_e71a6_level0_col0\" class=\"col_heading level0 col0\" >empid</th>\n",
              "      <th id=\"T_e71a6_level0_col1\" class=\"col_heading level0 col1\" >lastname</th>\n",
              "      <th id=\"T_e71a6_level0_col2\" class=\"col_heading level0 col2\" >hiredby</th>\n",
              "      <th id=\"T_e71a6_level0_col3\" class=\"col_heading level0 col3\" >level</th>\n",
              "    </tr>\n",
              "  </thead>\n",
              "  <tbody>\n",
              "    <tr>\n",
              "      <td id=\"T_e71a6_row0_col0\" class=\"data row0 col0\" >989007</td>\n",
              "      <td id=\"T_e71a6_row0_col1\" class=\"data row0 col1\" >Ganguly</td>\n",
              "      <td id=\"T_e71a6_row0_col2\" class=\"data row0 col2\" >299034</td>\n",
              "      <td id=\"T_e71a6_row0_col3\" class=\"data row0 col3\" >1</td>\n",
              "    </tr>\n",
              "    <tr>\n",
              "      <td id=\"T_e71a6_row1_col0\" class=\"data row1 col0\" >546223</td>\n",
              "      <td id=\"T_e71a6_row1_col1\" class=\"data row1 col1\" >Karthikeyan</td>\n",
              "      <td id=\"T_e71a6_row1_col2\" class=\"data row1 col2\" >299034</td>\n",
              "      <td id=\"T_e71a6_row1_col3\" class=\"data row1 col3\" >1</td>\n",
              "    </tr>\n",
              "    <tr>\n",
              "      <td id=\"T_e71a6_row2_col0\" class=\"data row2 col0\" >546224</td>\n",
              "      <td id=\"T_e71a6_row2_col1\" class=\"data row2 col1\" >Sunil</td>\n",
              "      <td id=\"T_e71a6_row2_col2\" class=\"data row2 col2\" >989007</td>\n",
              "      <td id=\"T_e71a6_row2_col3\" class=\"data row2 col3\" >2</td>\n",
              "    </tr>\n",
              "  </tbody>\n",
              "</table>\n"
            ]
          },
          "metadata": {},
          "execution_count": 73
        }
      ]
    },
    {
      "cell_type": "code",
      "source": [
        "# Upward Chain\n",
        "#\n",
        "sql = \"\\\n",
        "with recursive hiring_chain as (\\\n",
        "select empid, lastname, hiredby, 1 as level \\\n",
        "    from empl where lastname = 'Ganesan' \\\n",
        "union all \\\n",
        "select \\\n",
        "e.empid, e.lastname,e.hiredby, hc.level+1 \\\n",
        "    from empl e \\\n",
        "    inner join hiring_chain hc on e.empid = hc.hiredby  \\\n",
        ") \\\n",
        "select * from hiring_chain \\\n",
        "\"\n",
        "\n",
        "runSelect(sql)"
      ],
      "metadata": {
        "id": "ZtH1410DCaOT",
        "outputId": "e3e4ab8d-276a-4a67-dea9-839d07db5a52",
        "colab": {
          "base_uri": "https://localhost:8080/",
          "height": 112
        }
      },
      "execution_count": 74,
      "outputs": [
        {
          "output_type": "execute_result",
          "data": {
            "text/plain": [
              "<pandas.io.formats.style.Styler at 0x7ae5fb9aa4d0>"
            ],
            "text/html": [
              "<style type=\"text/css\">\n",
              "</style>\n",
              "<table id=\"T_11461\" class=\"dataframe\">\n",
              "  <thead>\n",
              "    <tr>\n",
              "      <th id=\"T_11461_level0_col0\" class=\"col_heading level0 col0\" >empid</th>\n",
              "      <th id=\"T_11461_level0_col1\" class=\"col_heading level0 col1\" >lastname</th>\n",
              "      <th id=\"T_11461_level0_col2\" class=\"col_heading level0 col2\" >hiredby</th>\n",
              "      <th id=\"T_11461_level0_col3\" class=\"col_heading level0 col3\" >level</th>\n",
              "    </tr>\n",
              "  </thead>\n",
              "  <tbody>\n",
              "    <tr>\n",
              "      <td id=\"T_11461_row0_col0\" class=\"data row0 col0\" >299034</td>\n",
              "      <td id=\"T_11461_row0_col1\" class=\"data row0 col1\" >Ganesan</td>\n",
              "      <td id=\"T_11461_row0_col2\" class=\"data row0 col2\" >742866</td>\n",
              "      <td id=\"T_11461_row0_col3\" class=\"data row0 col3\" >1</td>\n",
              "    </tr>\n",
              "    <tr>\n",
              "      <td id=\"T_11461_row1_col0\" class=\"data row1 col0\" >742866</td>\n",
              "      <td id=\"T_11461_row1_col1\" class=\"data row1 col1\" >Bacchan</td>\n",
              "      <td id=\"T_11461_row1_col2\" class=\"data row1 col2\" >None</td>\n",
              "      <td id=\"T_11461_row1_col3\" class=\"data row1 col3\" >2</td>\n",
              "    </tr>\n",
              "  </tbody>\n",
              "</table>\n"
            ]
          },
          "metadata": {},
          "execution_count": 74
        }
      ]
    },
    {
      "cell_type": "code",
      "source": [
        "# Upward Chain\n",
        "#\n",
        "sql = \"\\\n",
        "with recursive hiring_chain as (\\\n",
        "select empid, lastname, hiredby, 1 as level \\\n",
        "    from empl where lastname = 'Sunil' \\\n",
        "union all \\\n",
        "select \\\n",
        "e.empid, e.lastname,e.hiredby, hc.level+1 \\\n",
        "    from empl e \\\n",
        "    inner join hiring_chain hc on e.empid = hc.hiredby  \\\n",
        ") \\\n",
        "select * from hiring_chain \\\n",
        "\"\n",
        "\n",
        "runSelect(sql)"
      ],
      "metadata": {
        "id": "ZmBHyLXbPMQF",
        "outputId": "5e557b72-d8fb-441c-867c-1fe5c30bcad4",
        "colab": {
          "base_uri": "https://localhost:8080/",
          "height": 175
        }
      },
      "execution_count": 75,
      "outputs": [
        {
          "output_type": "execute_result",
          "data": {
            "text/plain": [
              "<pandas.io.formats.style.Styler at 0x7ae5fb9ba910>"
            ],
            "text/html": [
              "<style type=\"text/css\">\n",
              "</style>\n",
              "<table id=\"T_b3829\" class=\"dataframe\">\n",
              "  <thead>\n",
              "    <tr>\n",
              "      <th id=\"T_b3829_level0_col0\" class=\"col_heading level0 col0\" >empid</th>\n",
              "      <th id=\"T_b3829_level0_col1\" class=\"col_heading level0 col1\" >lastname</th>\n",
              "      <th id=\"T_b3829_level0_col2\" class=\"col_heading level0 col2\" >hiredby</th>\n",
              "      <th id=\"T_b3829_level0_col3\" class=\"col_heading level0 col3\" >level</th>\n",
              "    </tr>\n",
              "  </thead>\n",
              "  <tbody>\n",
              "    <tr>\n",
              "      <td id=\"T_b3829_row0_col0\" class=\"data row0 col0\" >546224</td>\n",
              "      <td id=\"T_b3829_row0_col1\" class=\"data row0 col1\" >Sunil</td>\n",
              "      <td id=\"T_b3829_row0_col2\" class=\"data row0 col2\" >989007</td>\n",
              "      <td id=\"T_b3829_row0_col3\" class=\"data row0 col3\" >1</td>\n",
              "    </tr>\n",
              "    <tr>\n",
              "      <td id=\"T_b3829_row1_col0\" class=\"data row1 col0\" >989007</td>\n",
              "      <td id=\"T_b3829_row1_col1\" class=\"data row1 col1\" >Ganguly</td>\n",
              "      <td id=\"T_b3829_row1_col2\" class=\"data row1 col2\" >299034</td>\n",
              "      <td id=\"T_b3829_row1_col3\" class=\"data row1 col3\" >2</td>\n",
              "    </tr>\n",
              "    <tr>\n",
              "      <td id=\"T_b3829_row2_col0\" class=\"data row2 col0\" >299034</td>\n",
              "      <td id=\"T_b3829_row2_col1\" class=\"data row2 col1\" >Ganesan</td>\n",
              "      <td id=\"T_b3829_row2_col2\" class=\"data row2 col2\" >742866</td>\n",
              "      <td id=\"T_b3829_row2_col3\" class=\"data row2 col3\" >3</td>\n",
              "    </tr>\n",
              "    <tr>\n",
              "      <td id=\"T_b3829_row3_col0\" class=\"data row3 col0\" >742866</td>\n",
              "      <td id=\"T_b3829_row3_col1\" class=\"data row3 col1\" >Bacchan</td>\n",
              "      <td id=\"T_b3829_row3_col2\" class=\"data row3 col2\" >None</td>\n",
              "      <td id=\"T_b3829_row3_col3\" class=\"data row3 col3\" >4</td>\n",
              "    </tr>\n",
              "  </tbody>\n",
              "</table>\n"
            ]
          },
          "metadata": {},
          "execution_count": 75
        }
      ]
    },
    {
      "cell_type": "markdown",
      "source": [
        "#Window Functions"
      ],
      "metadata": {
        "id": "p1v2XtGa1QOq"
      }
    },
    {
      "cell_type": "code",
      "source": [
        "sql = \"select deptid, lastname, salary, \\\n",
        "    avg(salary) over (partition by deptid) \\\n",
        "    from empl\"\n",
        "runSelect(sql)"
      ],
      "metadata": {
        "colab": {
          "base_uri": "https://localhost:8080/",
          "height": 457
        },
        "id": "ffpu5hXo1TfJ",
        "outputId": "18d9c5e7-0800-4c26-877c-cd0a5aa74cd9"
      },
      "execution_count": 76,
      "outputs": [
        {
          "output_type": "execute_result",
          "data": {
            "text/plain": [
              "<pandas.io.formats.style.Styler at 0x7ae5fb9ba390>"
            ],
            "text/html": [
              "<style type=\"text/css\">\n",
              "</style>\n",
              "<table id=\"T_2f9c4\" class=\"dataframe\">\n",
              "  <thead>\n",
              "    <tr>\n",
              "      <th id=\"T_2f9c4_level0_col0\" class=\"col_heading level0 col0\" >deptid</th>\n",
              "      <th id=\"T_2f9c4_level0_col1\" class=\"col_heading level0 col1\" >lastname</th>\n",
              "      <th id=\"T_2f9c4_level0_col2\" class=\"col_heading level0 col2\" >salary</th>\n",
              "      <th id=\"T_2f9c4_level0_col3\" class=\"col_heading level0 col3\" >avg</th>\n",
              "    </tr>\n",
              "  </thead>\n",
              "  <tbody>\n",
              "    <tr>\n",
              "      <td id=\"T_2f9c4_row0_col0\" class=\"data row0 col0\" >10</td>\n",
              "      <td id=\"T_2f9c4_row0_col1\" class=\"data row0 col1\" >Bacchan</td>\n",
              "      <td id=\"T_2f9c4_row0_col2\" class=\"data row0 col2\" >50000</td>\n",
              "      <td id=\"T_2f9c4_row0_col3\" class=\"data row0 col3\" >50000.000000000000</td>\n",
              "    </tr>\n",
              "    <tr>\n",
              "      <td id=\"T_2f9c4_row1_col0\" class=\"data row1 col0\" >10</td>\n",
              "      <td id=\"T_2f9c4_row1_col1\" class=\"data row1 col1\" >Ganesan</td>\n",
              "      <td id=\"T_2f9c4_row1_col2\" class=\"data row1 col2\" >60000</td>\n",
              "      <td id=\"T_2f9c4_row1_col3\" class=\"data row1 col3\" >50000.000000000000</td>\n",
              "    </tr>\n",
              "    <tr>\n",
              "      <td id=\"T_2f9c4_row2_col0\" class=\"data row2 col0\" >10</td>\n",
              "      <td id=\"T_2f9c4_row2_col1\" class=\"data row2 col1\" >Karthikeyan</td>\n",
              "      <td id=\"T_2f9c4_row2_col2\" class=\"data row2 col2\" >40000</td>\n",
              "      <td id=\"T_2f9c4_row2_col3\" class=\"data row2 col3\" >50000.000000000000</td>\n",
              "    </tr>\n",
              "    <tr>\n",
              "      <td id=\"T_2f9c4_row3_col0\" class=\"data row3 col0\" >20</td>\n",
              "      <td id=\"T_2f9c4_row3_col1\" class=\"data row3 col1\" >Dikshit</td>\n",
              "      <td id=\"T_2f9c4_row3_col2\" class=\"data row3 col2\" >10000</td>\n",
              "      <td id=\"T_2f9c4_row3_col3\" class=\"data row3 col3\" >18333.333333333333</td>\n",
              "    </tr>\n",
              "    <tr>\n",
              "      <td id=\"T_2f9c4_row4_col0\" class=\"data row4 col0\" >20</td>\n",
              "      <td id=\"T_2f9c4_row4_col1\" class=\"data row4 col1\" >Khan</td>\n",
              "      <td id=\"T_2f9c4_row4_col2\" class=\"data row4 col2\" >30000</td>\n",
              "      <td id=\"T_2f9c4_row4_col3\" class=\"data row4 col3\" >18333.333333333333</td>\n",
              "    </tr>\n",
              "    <tr>\n",
              "      <td id=\"T_2f9c4_row5_col0\" class=\"data row5 col0\" >20</td>\n",
              "      <td id=\"T_2f9c4_row5_col1\" class=\"data row5 col1\" >Sehwag</td>\n",
              "      <td id=\"T_2f9c4_row5_col2\" class=\"data row5 col2\" >15000</td>\n",
              "      <td id=\"T_2f9c4_row5_col3\" class=\"data row5 col3\" >18333.333333333333</td>\n",
              "    </tr>\n",
              "    <tr>\n",
              "      <td id=\"T_2f9c4_row6_col0\" class=\"data row6 col0\" >30</td>\n",
              "      <td id=\"T_2f9c4_row6_col1\" class=\"data row6 col1\" >Mirza</td>\n",
              "      <td id=\"T_2f9c4_row6_col2\" class=\"data row6 col2\" >25000</td>\n",
              "      <td id=\"T_2f9c4_row6_col3\" class=\"data row6 col3\" >25666.666666666667</td>\n",
              "    </tr>\n",
              "    <tr>\n",
              "      <td id=\"T_2f9c4_row7_col0\" class=\"data row7 col0\" >30</td>\n",
              "      <td id=\"T_2f9c4_row7_col1\" class=\"data row7 col1\" >Dravid</td>\n",
              "      <td id=\"T_2f9c4_row7_col2\" class=\"data row7 col2\" >40000</td>\n",
              "      <td id=\"T_2f9c4_row7_col3\" class=\"data row7 col3\" >25666.666666666667</td>\n",
              "    </tr>\n",
              "    <tr>\n",
              "      <td id=\"T_2f9c4_row8_col0\" class=\"data row8 col0\" >30</td>\n",
              "      <td id=\"T_2f9c4_row8_col1\" class=\"data row8 col1\" >Dalmia</td>\n",
              "      <td id=\"T_2f9c4_row8_col2\" class=\"data row8 col2\" >12000</td>\n",
              "      <td id=\"T_2f9c4_row8_col3\" class=\"data row8 col3\" >25666.666666666667</td>\n",
              "    </tr>\n",
              "    <tr>\n",
              "      <td id=\"T_2f9c4_row9_col0\" class=\"data row9 col0\" >40</td>\n",
              "      <td id=\"T_2f9c4_row9_col1\" class=\"data row9 col1\" >Ganguly</td>\n",
              "      <td id=\"T_2f9c4_row9_col2\" class=\"data row9 col2\" >20000</td>\n",
              "      <td id=\"T_2f9c4_row9_col3\" class=\"data row9 col3\" >18000.000000000000</td>\n",
              "    </tr>\n",
              "    <tr>\n",
              "      <td id=\"T_2f9c4_row10_col0\" class=\"data row10 col0\" >40</td>\n",
              "      <td id=\"T_2f9c4_row10_col1\" class=\"data row10 col1\" >Dhoni</td>\n",
              "      <td id=\"T_2f9c4_row10_col2\" class=\"data row10 col2\" >9000</td>\n",
              "      <td id=\"T_2f9c4_row10_col3\" class=\"data row10 col3\" >18000.000000000000</td>\n",
              "    </tr>\n",
              "    <tr>\n",
              "      <td id=\"T_2f9c4_row11_col0\" class=\"data row11 col0\" >40</td>\n",
              "      <td id=\"T_2f9c4_row11_col1\" class=\"data row11 col1\" >Mukherjee</td>\n",
              "      <td id=\"T_2f9c4_row11_col2\" class=\"data row11 col2\" >25000</td>\n",
              "      <td id=\"T_2f9c4_row11_col3\" class=\"data row11 col3\" >18000.000000000000</td>\n",
              "    </tr>\n",
              "    <tr>\n",
              "      <td id=\"T_2f9c4_row12_col0\" class=\"data row12 col0\" >70</td>\n",
              "      <td id=\"T_2f9c4_row12_col1\" class=\"data row12 col1\" >Sunil</td>\n",
              "      <td id=\"T_2f9c4_row12_col2\" class=\"data row12 col2\" >40000</td>\n",
              "      <td id=\"T_2f9c4_row12_col3\" class=\"data row12 col3\" >40000.000000000000</td>\n",
              "    </tr>\n",
              "  </tbody>\n",
              "</table>\n"
            ]
          },
          "metadata": {},
          "execution_count": 76
        }
      ]
    },
    {
      "cell_type": "code",
      "source": [
        "sql = \"select deptname, lastname, salary, avg(salary) over (partition by deptname) from empl  inner join dept using(deptid)\"\n",
        "runSelect(sql)"
      ],
      "metadata": {
        "colab": {
          "base_uri": "https://localhost:8080/",
          "height": 425
        },
        "id": "JZC4y3tg2o8A",
        "outputId": "582b919c-63ca-4f10-81ca-c007b08f29dd"
      },
      "execution_count": 77,
      "outputs": [
        {
          "output_type": "execute_result",
          "data": {
            "text/plain": [
              "<pandas.io.formats.style.Styler at 0x7ae5fb9a8e90>"
            ],
            "text/html": [
              "<style type=\"text/css\">\n",
              "</style>\n",
              "<table id=\"T_0da31\" class=\"dataframe\">\n",
              "  <thead>\n",
              "    <tr>\n",
              "      <th id=\"T_0da31_level0_col0\" class=\"col_heading level0 col0\" >deptname</th>\n",
              "      <th id=\"T_0da31_level0_col1\" class=\"col_heading level0 col1\" >lastname</th>\n",
              "      <th id=\"T_0da31_level0_col2\" class=\"col_heading level0 col2\" >salary</th>\n",
              "      <th id=\"T_0da31_level0_col3\" class=\"col_heading level0 col3\" >avg</th>\n",
              "    </tr>\n",
              "  </thead>\n",
              "  <tbody>\n",
              "    <tr>\n",
              "      <td id=\"T_0da31_row0_col0\" class=\"data row0 col0\" >Accounts</td>\n",
              "      <td id=\"T_0da31_row0_col1\" class=\"data row0 col1\" >Dravid</td>\n",
              "      <td id=\"T_0da31_row0_col2\" class=\"data row0 col2\" >40000</td>\n",
              "      <td id=\"T_0da31_row0_col3\" class=\"data row0 col3\" >25666.666666666667</td>\n",
              "    </tr>\n",
              "    <tr>\n",
              "      <td id=\"T_0da31_row1_col0\" class=\"data row1 col0\" >Accounts</td>\n",
              "      <td id=\"T_0da31_row1_col1\" class=\"data row1 col1\" >Dalmia</td>\n",
              "      <td id=\"T_0da31_row1_col2\" class=\"data row1 col2\" >12000</td>\n",
              "      <td id=\"T_0da31_row1_col3\" class=\"data row1 col3\" >25666.666666666667</td>\n",
              "    </tr>\n",
              "    <tr>\n",
              "      <td id=\"T_0da31_row2_col0\" class=\"data row2 col0\" >Accounts</td>\n",
              "      <td id=\"T_0da31_row2_col1\" class=\"data row2 col1\" >Mirza</td>\n",
              "      <td id=\"T_0da31_row2_col2\" class=\"data row2 col2\" >25000</td>\n",
              "      <td id=\"T_0da31_row2_col3\" class=\"data row2 col3\" >25666.666666666667</td>\n",
              "    </tr>\n",
              "    <tr>\n",
              "      <td id=\"T_0da31_row3_col0\" class=\"data row3 col0\" >Corporate</td>\n",
              "      <td id=\"T_0da31_row3_col1\" class=\"data row3 col1\" >Karthikeyan</td>\n",
              "      <td id=\"T_0da31_row3_col2\" class=\"data row3 col2\" >40000</td>\n",
              "      <td id=\"T_0da31_row3_col3\" class=\"data row3 col3\" >50000.000000000000</td>\n",
              "    </tr>\n",
              "    <tr>\n",
              "      <td id=\"T_0da31_row4_col0\" class=\"data row4 col0\" >Corporate</td>\n",
              "      <td id=\"T_0da31_row4_col1\" class=\"data row4 col1\" >Ganesan</td>\n",
              "      <td id=\"T_0da31_row4_col2\" class=\"data row4 col2\" >60000</td>\n",
              "      <td id=\"T_0da31_row4_col3\" class=\"data row4 col3\" >50000.000000000000</td>\n",
              "    </tr>\n",
              "    <tr>\n",
              "      <td id=\"T_0da31_row5_col0\" class=\"data row5 col0\" >Corporate</td>\n",
              "      <td id=\"T_0da31_row5_col1\" class=\"data row5 col1\" >Bacchan</td>\n",
              "      <td id=\"T_0da31_row5_col2\" class=\"data row5 col2\" >50000</td>\n",
              "      <td id=\"T_0da31_row5_col3\" class=\"data row5 col3\" >50000.000000000000</td>\n",
              "    </tr>\n",
              "    <tr>\n",
              "      <td id=\"T_0da31_row6_col0\" class=\"data row6 col0\" >Production</td>\n",
              "      <td id=\"T_0da31_row6_col1\" class=\"data row6 col1\" >Ganguly</td>\n",
              "      <td id=\"T_0da31_row6_col2\" class=\"data row6 col2\" >20000</td>\n",
              "      <td id=\"T_0da31_row6_col3\" class=\"data row6 col3\" >18000.000000000000</td>\n",
              "    </tr>\n",
              "    <tr>\n",
              "      <td id=\"T_0da31_row7_col0\" class=\"data row7 col0\" >Production</td>\n",
              "      <td id=\"T_0da31_row7_col1\" class=\"data row7 col1\" >Dhoni</td>\n",
              "      <td id=\"T_0da31_row7_col2\" class=\"data row7 col2\" >9000</td>\n",
              "      <td id=\"T_0da31_row7_col3\" class=\"data row7 col3\" >18000.000000000000</td>\n",
              "    </tr>\n",
              "    <tr>\n",
              "      <td id=\"T_0da31_row8_col0\" class=\"data row8 col0\" >Production</td>\n",
              "      <td id=\"T_0da31_row8_col1\" class=\"data row8 col1\" >Mukherjee</td>\n",
              "      <td id=\"T_0da31_row8_col2\" class=\"data row8 col2\" >25000</td>\n",
              "      <td id=\"T_0da31_row8_col3\" class=\"data row8 col3\" >18000.000000000000</td>\n",
              "    </tr>\n",
              "    <tr>\n",
              "      <td id=\"T_0da31_row9_col0\" class=\"data row9 col0\" >Sales</td>\n",
              "      <td id=\"T_0da31_row9_col1\" class=\"data row9 col1\" >Dikshit</td>\n",
              "      <td id=\"T_0da31_row9_col2\" class=\"data row9 col2\" >10000</td>\n",
              "      <td id=\"T_0da31_row9_col3\" class=\"data row9 col3\" >18333.333333333333</td>\n",
              "    </tr>\n",
              "    <tr>\n",
              "      <td id=\"T_0da31_row10_col0\" class=\"data row10 col0\" >Sales</td>\n",
              "      <td id=\"T_0da31_row10_col1\" class=\"data row10 col1\" >Khan</td>\n",
              "      <td id=\"T_0da31_row10_col2\" class=\"data row10 col2\" >30000</td>\n",
              "      <td id=\"T_0da31_row10_col3\" class=\"data row10 col3\" >18333.333333333333</td>\n",
              "    </tr>\n",
              "    <tr>\n",
              "      <td id=\"T_0da31_row11_col0\" class=\"data row11 col0\" >Sales</td>\n",
              "      <td id=\"T_0da31_row11_col1\" class=\"data row11 col1\" >Sehwag</td>\n",
              "      <td id=\"T_0da31_row11_col2\" class=\"data row11 col2\" >15000</td>\n",
              "      <td id=\"T_0da31_row11_col3\" class=\"data row11 col3\" >18333.333333333333</td>\n",
              "    </tr>\n",
              "  </tbody>\n",
              "</table>\n"
            ]
          },
          "metadata": {},
          "execution_count": 77
        }
      ]
    },
    {
      "cell_type": "code",
      "source": [
        "sql = \"select deptname, lastname, salary, \\\n",
        "    row_number() over (partition by deptname order by salary) \\\n",
        "    from empl  inner join dept using(deptid)\"\n",
        "runSelect(sql)"
      ],
      "metadata": {
        "colab": {
          "base_uri": "https://localhost:8080/",
          "height": 425
        },
        "id": "xgP9VShE4Spl",
        "outputId": "e5b1d763-6108-46e3-9e35-3eb2724c9e8a"
      },
      "execution_count": 78,
      "outputs": [
        {
          "output_type": "execute_result",
          "data": {
            "text/plain": [
              "<pandas.io.formats.style.Styler at 0x7ae5fb9cf090>"
            ],
            "text/html": [
              "<style type=\"text/css\">\n",
              "</style>\n",
              "<table id=\"T_dfc7b\" class=\"dataframe\">\n",
              "  <thead>\n",
              "    <tr>\n",
              "      <th id=\"T_dfc7b_level0_col0\" class=\"col_heading level0 col0\" >deptname</th>\n",
              "      <th id=\"T_dfc7b_level0_col1\" class=\"col_heading level0 col1\" >lastname</th>\n",
              "      <th id=\"T_dfc7b_level0_col2\" class=\"col_heading level0 col2\" >salary</th>\n",
              "      <th id=\"T_dfc7b_level0_col3\" class=\"col_heading level0 col3\" >row_number</th>\n",
              "    </tr>\n",
              "  </thead>\n",
              "  <tbody>\n",
              "    <tr>\n",
              "      <td id=\"T_dfc7b_row0_col0\" class=\"data row0 col0\" >Accounts</td>\n",
              "      <td id=\"T_dfc7b_row0_col1\" class=\"data row0 col1\" >Dalmia</td>\n",
              "      <td id=\"T_dfc7b_row0_col2\" class=\"data row0 col2\" >12000</td>\n",
              "      <td id=\"T_dfc7b_row0_col3\" class=\"data row0 col3\" >1</td>\n",
              "    </tr>\n",
              "    <tr>\n",
              "      <td id=\"T_dfc7b_row1_col0\" class=\"data row1 col0\" >Accounts</td>\n",
              "      <td id=\"T_dfc7b_row1_col1\" class=\"data row1 col1\" >Mirza</td>\n",
              "      <td id=\"T_dfc7b_row1_col2\" class=\"data row1 col2\" >25000</td>\n",
              "      <td id=\"T_dfc7b_row1_col3\" class=\"data row1 col3\" >2</td>\n",
              "    </tr>\n",
              "    <tr>\n",
              "      <td id=\"T_dfc7b_row2_col0\" class=\"data row2 col0\" >Accounts</td>\n",
              "      <td id=\"T_dfc7b_row2_col1\" class=\"data row2 col1\" >Dravid</td>\n",
              "      <td id=\"T_dfc7b_row2_col2\" class=\"data row2 col2\" >40000</td>\n",
              "      <td id=\"T_dfc7b_row2_col3\" class=\"data row2 col3\" >3</td>\n",
              "    </tr>\n",
              "    <tr>\n",
              "      <td id=\"T_dfc7b_row3_col0\" class=\"data row3 col0\" >Corporate</td>\n",
              "      <td id=\"T_dfc7b_row3_col1\" class=\"data row3 col1\" >Karthikeyan</td>\n",
              "      <td id=\"T_dfc7b_row3_col2\" class=\"data row3 col2\" >40000</td>\n",
              "      <td id=\"T_dfc7b_row3_col3\" class=\"data row3 col3\" >1</td>\n",
              "    </tr>\n",
              "    <tr>\n",
              "      <td id=\"T_dfc7b_row4_col0\" class=\"data row4 col0\" >Corporate</td>\n",
              "      <td id=\"T_dfc7b_row4_col1\" class=\"data row4 col1\" >Bacchan</td>\n",
              "      <td id=\"T_dfc7b_row4_col2\" class=\"data row4 col2\" >50000</td>\n",
              "      <td id=\"T_dfc7b_row4_col3\" class=\"data row4 col3\" >2</td>\n",
              "    </tr>\n",
              "    <tr>\n",
              "      <td id=\"T_dfc7b_row5_col0\" class=\"data row5 col0\" >Corporate</td>\n",
              "      <td id=\"T_dfc7b_row5_col1\" class=\"data row5 col1\" >Ganesan</td>\n",
              "      <td id=\"T_dfc7b_row5_col2\" class=\"data row5 col2\" >60000</td>\n",
              "      <td id=\"T_dfc7b_row5_col3\" class=\"data row5 col3\" >3</td>\n",
              "    </tr>\n",
              "    <tr>\n",
              "      <td id=\"T_dfc7b_row6_col0\" class=\"data row6 col0\" >Production</td>\n",
              "      <td id=\"T_dfc7b_row6_col1\" class=\"data row6 col1\" >Dhoni</td>\n",
              "      <td id=\"T_dfc7b_row6_col2\" class=\"data row6 col2\" >9000</td>\n",
              "      <td id=\"T_dfc7b_row6_col3\" class=\"data row6 col3\" >1</td>\n",
              "    </tr>\n",
              "    <tr>\n",
              "      <td id=\"T_dfc7b_row7_col0\" class=\"data row7 col0\" >Production</td>\n",
              "      <td id=\"T_dfc7b_row7_col1\" class=\"data row7 col1\" >Ganguly</td>\n",
              "      <td id=\"T_dfc7b_row7_col2\" class=\"data row7 col2\" >20000</td>\n",
              "      <td id=\"T_dfc7b_row7_col3\" class=\"data row7 col3\" >2</td>\n",
              "    </tr>\n",
              "    <tr>\n",
              "      <td id=\"T_dfc7b_row8_col0\" class=\"data row8 col0\" >Production</td>\n",
              "      <td id=\"T_dfc7b_row8_col1\" class=\"data row8 col1\" >Mukherjee</td>\n",
              "      <td id=\"T_dfc7b_row8_col2\" class=\"data row8 col2\" >25000</td>\n",
              "      <td id=\"T_dfc7b_row8_col3\" class=\"data row8 col3\" >3</td>\n",
              "    </tr>\n",
              "    <tr>\n",
              "      <td id=\"T_dfc7b_row9_col0\" class=\"data row9 col0\" >Sales</td>\n",
              "      <td id=\"T_dfc7b_row9_col1\" class=\"data row9 col1\" >Dikshit</td>\n",
              "      <td id=\"T_dfc7b_row9_col2\" class=\"data row9 col2\" >10000</td>\n",
              "      <td id=\"T_dfc7b_row9_col3\" class=\"data row9 col3\" >1</td>\n",
              "    </tr>\n",
              "    <tr>\n",
              "      <td id=\"T_dfc7b_row10_col0\" class=\"data row10 col0\" >Sales</td>\n",
              "      <td id=\"T_dfc7b_row10_col1\" class=\"data row10 col1\" >Sehwag</td>\n",
              "      <td id=\"T_dfc7b_row10_col2\" class=\"data row10 col2\" >15000</td>\n",
              "      <td id=\"T_dfc7b_row10_col3\" class=\"data row10 col3\" >2</td>\n",
              "    </tr>\n",
              "    <tr>\n",
              "      <td id=\"T_dfc7b_row11_col0\" class=\"data row11 col0\" >Sales</td>\n",
              "      <td id=\"T_dfc7b_row11_col1\" class=\"data row11 col1\" >Khan</td>\n",
              "      <td id=\"T_dfc7b_row11_col2\" class=\"data row11 col2\" >30000</td>\n",
              "      <td id=\"T_dfc7b_row11_col3\" class=\"data row11 col3\" >3</td>\n",
              "    </tr>\n",
              "  </tbody>\n",
              "</table>\n"
            ]
          },
          "metadata": {},
          "execution_count": 78
        }
      ]
    },
    {
      "cell_type": "code",
      "source": [
        "sql = \"select deptname, lastname, salary, \\\n",
        "        rank() over (partition by deptname order by salary desc) \\\n",
        "        from empl  inner join dept using(deptid)\"\n",
        "runSelect(sql)"
      ],
      "metadata": {
        "colab": {
          "base_uri": "https://localhost:8080/",
          "height": 425
        },
        "id": "rL_1sHBa4ply",
        "outputId": "33b13135-c57a-4b91-a9ba-df9542bb16a6"
      },
      "execution_count": 79,
      "outputs": [
        {
          "output_type": "execute_result",
          "data": {
            "text/plain": [
              "<pandas.io.formats.style.Styler at 0x7ae5fb9d8f90>"
            ],
            "text/html": [
              "<style type=\"text/css\">\n",
              "</style>\n",
              "<table id=\"T_54431\" class=\"dataframe\">\n",
              "  <thead>\n",
              "    <tr>\n",
              "      <th id=\"T_54431_level0_col0\" class=\"col_heading level0 col0\" >deptname</th>\n",
              "      <th id=\"T_54431_level0_col1\" class=\"col_heading level0 col1\" >lastname</th>\n",
              "      <th id=\"T_54431_level0_col2\" class=\"col_heading level0 col2\" >salary</th>\n",
              "      <th id=\"T_54431_level0_col3\" class=\"col_heading level0 col3\" >rank</th>\n",
              "    </tr>\n",
              "  </thead>\n",
              "  <tbody>\n",
              "    <tr>\n",
              "      <td id=\"T_54431_row0_col0\" class=\"data row0 col0\" >Accounts</td>\n",
              "      <td id=\"T_54431_row0_col1\" class=\"data row0 col1\" >Dravid</td>\n",
              "      <td id=\"T_54431_row0_col2\" class=\"data row0 col2\" >40000</td>\n",
              "      <td id=\"T_54431_row0_col3\" class=\"data row0 col3\" >1</td>\n",
              "    </tr>\n",
              "    <tr>\n",
              "      <td id=\"T_54431_row1_col0\" class=\"data row1 col0\" >Accounts</td>\n",
              "      <td id=\"T_54431_row1_col1\" class=\"data row1 col1\" >Mirza</td>\n",
              "      <td id=\"T_54431_row1_col2\" class=\"data row1 col2\" >25000</td>\n",
              "      <td id=\"T_54431_row1_col3\" class=\"data row1 col3\" >2</td>\n",
              "    </tr>\n",
              "    <tr>\n",
              "      <td id=\"T_54431_row2_col0\" class=\"data row2 col0\" >Accounts</td>\n",
              "      <td id=\"T_54431_row2_col1\" class=\"data row2 col1\" >Dalmia</td>\n",
              "      <td id=\"T_54431_row2_col2\" class=\"data row2 col2\" >12000</td>\n",
              "      <td id=\"T_54431_row2_col3\" class=\"data row2 col3\" >3</td>\n",
              "    </tr>\n",
              "    <tr>\n",
              "      <td id=\"T_54431_row3_col0\" class=\"data row3 col0\" >Corporate</td>\n",
              "      <td id=\"T_54431_row3_col1\" class=\"data row3 col1\" >Ganesan</td>\n",
              "      <td id=\"T_54431_row3_col2\" class=\"data row3 col2\" >60000</td>\n",
              "      <td id=\"T_54431_row3_col3\" class=\"data row3 col3\" >1</td>\n",
              "    </tr>\n",
              "    <tr>\n",
              "      <td id=\"T_54431_row4_col0\" class=\"data row4 col0\" >Corporate</td>\n",
              "      <td id=\"T_54431_row4_col1\" class=\"data row4 col1\" >Bacchan</td>\n",
              "      <td id=\"T_54431_row4_col2\" class=\"data row4 col2\" >50000</td>\n",
              "      <td id=\"T_54431_row4_col3\" class=\"data row4 col3\" >2</td>\n",
              "    </tr>\n",
              "    <tr>\n",
              "      <td id=\"T_54431_row5_col0\" class=\"data row5 col0\" >Corporate</td>\n",
              "      <td id=\"T_54431_row5_col1\" class=\"data row5 col1\" >Karthikeyan</td>\n",
              "      <td id=\"T_54431_row5_col2\" class=\"data row5 col2\" >40000</td>\n",
              "      <td id=\"T_54431_row5_col3\" class=\"data row5 col3\" >3</td>\n",
              "    </tr>\n",
              "    <tr>\n",
              "      <td id=\"T_54431_row6_col0\" class=\"data row6 col0\" >Production</td>\n",
              "      <td id=\"T_54431_row6_col1\" class=\"data row6 col1\" >Mukherjee</td>\n",
              "      <td id=\"T_54431_row6_col2\" class=\"data row6 col2\" >25000</td>\n",
              "      <td id=\"T_54431_row6_col3\" class=\"data row6 col3\" >1</td>\n",
              "    </tr>\n",
              "    <tr>\n",
              "      <td id=\"T_54431_row7_col0\" class=\"data row7 col0\" >Production</td>\n",
              "      <td id=\"T_54431_row7_col1\" class=\"data row7 col1\" >Ganguly</td>\n",
              "      <td id=\"T_54431_row7_col2\" class=\"data row7 col2\" >20000</td>\n",
              "      <td id=\"T_54431_row7_col3\" class=\"data row7 col3\" >2</td>\n",
              "    </tr>\n",
              "    <tr>\n",
              "      <td id=\"T_54431_row8_col0\" class=\"data row8 col0\" >Production</td>\n",
              "      <td id=\"T_54431_row8_col1\" class=\"data row8 col1\" >Dhoni</td>\n",
              "      <td id=\"T_54431_row8_col2\" class=\"data row8 col2\" >9000</td>\n",
              "      <td id=\"T_54431_row8_col3\" class=\"data row8 col3\" >3</td>\n",
              "    </tr>\n",
              "    <tr>\n",
              "      <td id=\"T_54431_row9_col0\" class=\"data row9 col0\" >Sales</td>\n",
              "      <td id=\"T_54431_row9_col1\" class=\"data row9 col1\" >Khan</td>\n",
              "      <td id=\"T_54431_row9_col2\" class=\"data row9 col2\" >30000</td>\n",
              "      <td id=\"T_54431_row9_col3\" class=\"data row9 col3\" >1</td>\n",
              "    </tr>\n",
              "    <tr>\n",
              "      <td id=\"T_54431_row10_col0\" class=\"data row10 col0\" >Sales</td>\n",
              "      <td id=\"T_54431_row10_col1\" class=\"data row10 col1\" >Sehwag</td>\n",
              "      <td id=\"T_54431_row10_col2\" class=\"data row10 col2\" >15000</td>\n",
              "      <td id=\"T_54431_row10_col3\" class=\"data row10 col3\" >2</td>\n",
              "    </tr>\n",
              "    <tr>\n",
              "      <td id=\"T_54431_row11_col0\" class=\"data row11 col0\" >Sales</td>\n",
              "      <td id=\"T_54431_row11_col1\" class=\"data row11 col1\" >Dikshit</td>\n",
              "      <td id=\"T_54431_row11_col2\" class=\"data row11 col2\" >10000</td>\n",
              "      <td id=\"T_54431_row11_col3\" class=\"data row11 col3\" >3</td>\n",
              "    </tr>\n",
              "  </tbody>\n",
              "</table>\n"
            ]
          },
          "metadata": {},
          "execution_count": 79
        }
      ]
    },
    {
      "cell_type": "code",
      "source": [
        "sql = \"select deptname, lastname, salary, \\\n",
        "first_value(salary) over (partition by deptname order by salary) as deptlow, \\\n",
        "last_value(salary) over (partition by deptname order by salary RANGE BETWEEN UNBOUNDED PRECEDING AND UNBOUNDED FOLLOWING) as depthigh \\\n",
        "from empl  inner join dept using(deptid)\"\n",
        "runSelect(sql)"
      ],
      "metadata": {
        "colab": {
          "base_uri": "https://localhost:8080/",
          "height": 425
        },
        "id": "RO428SVT5T3d",
        "outputId": "cb2e5464-61b6-4d2f-9179-466e48349ec2"
      },
      "execution_count": 80,
      "outputs": [
        {
          "output_type": "execute_result",
          "data": {
            "text/plain": [
              "<pandas.io.formats.style.Styler at 0x7ae5fb9add90>"
            ],
            "text/html": [
              "<style type=\"text/css\">\n",
              "</style>\n",
              "<table id=\"T_1d558\" class=\"dataframe\">\n",
              "  <thead>\n",
              "    <tr>\n",
              "      <th id=\"T_1d558_level0_col0\" class=\"col_heading level0 col0\" >deptname</th>\n",
              "      <th id=\"T_1d558_level0_col1\" class=\"col_heading level0 col1\" >lastname</th>\n",
              "      <th id=\"T_1d558_level0_col2\" class=\"col_heading level0 col2\" >salary</th>\n",
              "      <th id=\"T_1d558_level0_col3\" class=\"col_heading level0 col3\" >deptlow</th>\n",
              "      <th id=\"T_1d558_level0_col4\" class=\"col_heading level0 col4\" >depthigh</th>\n",
              "    </tr>\n",
              "  </thead>\n",
              "  <tbody>\n",
              "    <tr>\n",
              "      <td id=\"T_1d558_row0_col0\" class=\"data row0 col0\" >Accounts</td>\n",
              "      <td id=\"T_1d558_row0_col1\" class=\"data row0 col1\" >Dalmia</td>\n",
              "      <td id=\"T_1d558_row0_col2\" class=\"data row0 col2\" >12000</td>\n",
              "      <td id=\"T_1d558_row0_col3\" class=\"data row0 col3\" >12000</td>\n",
              "      <td id=\"T_1d558_row0_col4\" class=\"data row0 col4\" >40000</td>\n",
              "    </tr>\n",
              "    <tr>\n",
              "      <td id=\"T_1d558_row1_col0\" class=\"data row1 col0\" >Accounts</td>\n",
              "      <td id=\"T_1d558_row1_col1\" class=\"data row1 col1\" >Mirza</td>\n",
              "      <td id=\"T_1d558_row1_col2\" class=\"data row1 col2\" >25000</td>\n",
              "      <td id=\"T_1d558_row1_col3\" class=\"data row1 col3\" >12000</td>\n",
              "      <td id=\"T_1d558_row1_col4\" class=\"data row1 col4\" >40000</td>\n",
              "    </tr>\n",
              "    <tr>\n",
              "      <td id=\"T_1d558_row2_col0\" class=\"data row2 col0\" >Accounts</td>\n",
              "      <td id=\"T_1d558_row2_col1\" class=\"data row2 col1\" >Dravid</td>\n",
              "      <td id=\"T_1d558_row2_col2\" class=\"data row2 col2\" >40000</td>\n",
              "      <td id=\"T_1d558_row2_col3\" class=\"data row2 col3\" >12000</td>\n",
              "      <td id=\"T_1d558_row2_col4\" class=\"data row2 col4\" >40000</td>\n",
              "    </tr>\n",
              "    <tr>\n",
              "      <td id=\"T_1d558_row3_col0\" class=\"data row3 col0\" >Corporate</td>\n",
              "      <td id=\"T_1d558_row3_col1\" class=\"data row3 col1\" >Karthikeyan</td>\n",
              "      <td id=\"T_1d558_row3_col2\" class=\"data row3 col2\" >40000</td>\n",
              "      <td id=\"T_1d558_row3_col3\" class=\"data row3 col3\" >40000</td>\n",
              "      <td id=\"T_1d558_row3_col4\" class=\"data row3 col4\" >60000</td>\n",
              "    </tr>\n",
              "    <tr>\n",
              "      <td id=\"T_1d558_row4_col0\" class=\"data row4 col0\" >Corporate</td>\n",
              "      <td id=\"T_1d558_row4_col1\" class=\"data row4 col1\" >Bacchan</td>\n",
              "      <td id=\"T_1d558_row4_col2\" class=\"data row4 col2\" >50000</td>\n",
              "      <td id=\"T_1d558_row4_col3\" class=\"data row4 col3\" >40000</td>\n",
              "      <td id=\"T_1d558_row4_col4\" class=\"data row4 col4\" >60000</td>\n",
              "    </tr>\n",
              "    <tr>\n",
              "      <td id=\"T_1d558_row5_col0\" class=\"data row5 col0\" >Corporate</td>\n",
              "      <td id=\"T_1d558_row5_col1\" class=\"data row5 col1\" >Ganesan</td>\n",
              "      <td id=\"T_1d558_row5_col2\" class=\"data row5 col2\" >60000</td>\n",
              "      <td id=\"T_1d558_row5_col3\" class=\"data row5 col3\" >40000</td>\n",
              "      <td id=\"T_1d558_row5_col4\" class=\"data row5 col4\" >60000</td>\n",
              "    </tr>\n",
              "    <tr>\n",
              "      <td id=\"T_1d558_row6_col0\" class=\"data row6 col0\" >Production</td>\n",
              "      <td id=\"T_1d558_row6_col1\" class=\"data row6 col1\" >Dhoni</td>\n",
              "      <td id=\"T_1d558_row6_col2\" class=\"data row6 col2\" >9000</td>\n",
              "      <td id=\"T_1d558_row6_col3\" class=\"data row6 col3\" >9000</td>\n",
              "      <td id=\"T_1d558_row6_col4\" class=\"data row6 col4\" >25000</td>\n",
              "    </tr>\n",
              "    <tr>\n",
              "      <td id=\"T_1d558_row7_col0\" class=\"data row7 col0\" >Production</td>\n",
              "      <td id=\"T_1d558_row7_col1\" class=\"data row7 col1\" >Ganguly</td>\n",
              "      <td id=\"T_1d558_row7_col2\" class=\"data row7 col2\" >20000</td>\n",
              "      <td id=\"T_1d558_row7_col3\" class=\"data row7 col3\" >9000</td>\n",
              "      <td id=\"T_1d558_row7_col4\" class=\"data row7 col4\" >25000</td>\n",
              "    </tr>\n",
              "    <tr>\n",
              "      <td id=\"T_1d558_row8_col0\" class=\"data row8 col0\" >Production</td>\n",
              "      <td id=\"T_1d558_row8_col1\" class=\"data row8 col1\" >Mukherjee</td>\n",
              "      <td id=\"T_1d558_row8_col2\" class=\"data row8 col2\" >25000</td>\n",
              "      <td id=\"T_1d558_row8_col3\" class=\"data row8 col3\" >9000</td>\n",
              "      <td id=\"T_1d558_row8_col4\" class=\"data row8 col4\" >25000</td>\n",
              "    </tr>\n",
              "    <tr>\n",
              "      <td id=\"T_1d558_row9_col0\" class=\"data row9 col0\" >Sales</td>\n",
              "      <td id=\"T_1d558_row9_col1\" class=\"data row9 col1\" >Dikshit</td>\n",
              "      <td id=\"T_1d558_row9_col2\" class=\"data row9 col2\" >10000</td>\n",
              "      <td id=\"T_1d558_row9_col3\" class=\"data row9 col3\" >10000</td>\n",
              "      <td id=\"T_1d558_row9_col4\" class=\"data row9 col4\" >30000</td>\n",
              "    </tr>\n",
              "    <tr>\n",
              "      <td id=\"T_1d558_row10_col0\" class=\"data row10 col0\" >Sales</td>\n",
              "      <td id=\"T_1d558_row10_col1\" class=\"data row10 col1\" >Sehwag</td>\n",
              "      <td id=\"T_1d558_row10_col2\" class=\"data row10 col2\" >15000</td>\n",
              "      <td id=\"T_1d558_row10_col3\" class=\"data row10 col3\" >10000</td>\n",
              "      <td id=\"T_1d558_row10_col4\" class=\"data row10 col4\" >30000</td>\n",
              "    </tr>\n",
              "    <tr>\n",
              "      <td id=\"T_1d558_row11_col0\" class=\"data row11 col0\" >Sales</td>\n",
              "      <td id=\"T_1d558_row11_col1\" class=\"data row11 col1\" >Khan</td>\n",
              "      <td id=\"T_1d558_row11_col2\" class=\"data row11 col2\" >30000</td>\n",
              "      <td id=\"T_1d558_row11_col3\" class=\"data row11 col3\" >10000</td>\n",
              "      <td id=\"T_1d558_row11_col4\" class=\"data row11 col4\" >30000</td>\n",
              "    </tr>\n",
              "  </tbody>\n",
              "</table>\n"
            ]
          },
          "metadata": {},
          "execution_count": 80
        }
      ]
    },
    {
      "cell_type": "code",
      "source": [
        "sql = \"select deptname, lastname, salary, \\\n",
        "lag(salary,1) over (partition by deptname order by salary) as prev_emp, \\\n",
        "salary - lag(salary,1) over (partition by deptname order by salary) as gap_up \\\n",
        "from empl  inner join dept using(deptid)\"\n",
        "runSelect(sql)"
      ],
      "metadata": {
        "colab": {
          "base_uri": "https://localhost:8080/",
          "height": 425
        },
        "id": "fnG4S0lF8h77",
        "outputId": "3da4a03e-c6b1-4979-b532-34d92f79dcba"
      },
      "execution_count": 81,
      "outputs": [
        {
          "output_type": "execute_result",
          "data": {
            "text/plain": [
              "<pandas.io.formats.style.Styler at 0x7ae5fb9da290>"
            ],
            "text/html": [
              "<style type=\"text/css\">\n",
              "</style>\n",
              "<table id=\"T_47461\" class=\"dataframe\">\n",
              "  <thead>\n",
              "    <tr>\n",
              "      <th id=\"T_47461_level0_col0\" class=\"col_heading level0 col0\" >deptname</th>\n",
              "      <th id=\"T_47461_level0_col1\" class=\"col_heading level0 col1\" >lastname</th>\n",
              "      <th id=\"T_47461_level0_col2\" class=\"col_heading level0 col2\" >salary</th>\n",
              "      <th id=\"T_47461_level0_col3\" class=\"col_heading level0 col3\" >prev_emp</th>\n",
              "      <th id=\"T_47461_level0_col4\" class=\"col_heading level0 col4\" >gap_up</th>\n",
              "    </tr>\n",
              "  </thead>\n",
              "  <tbody>\n",
              "    <tr>\n",
              "      <td id=\"T_47461_row0_col0\" class=\"data row0 col0\" >Accounts</td>\n",
              "      <td id=\"T_47461_row0_col1\" class=\"data row0 col1\" >Dalmia</td>\n",
              "      <td id=\"T_47461_row0_col2\" class=\"data row0 col2\" >12000</td>\n",
              "      <td id=\"T_47461_row0_col3\" class=\"data row0 col3\" >nan</td>\n",
              "      <td id=\"T_47461_row0_col4\" class=\"data row0 col4\" >nan</td>\n",
              "    </tr>\n",
              "    <tr>\n",
              "      <td id=\"T_47461_row1_col0\" class=\"data row1 col0\" >Accounts</td>\n",
              "      <td id=\"T_47461_row1_col1\" class=\"data row1 col1\" >Mirza</td>\n",
              "      <td id=\"T_47461_row1_col2\" class=\"data row1 col2\" >25000</td>\n",
              "      <td id=\"T_47461_row1_col3\" class=\"data row1 col3\" >12000.000000</td>\n",
              "      <td id=\"T_47461_row1_col4\" class=\"data row1 col4\" >13000.000000</td>\n",
              "    </tr>\n",
              "    <tr>\n",
              "      <td id=\"T_47461_row2_col0\" class=\"data row2 col0\" >Accounts</td>\n",
              "      <td id=\"T_47461_row2_col1\" class=\"data row2 col1\" >Dravid</td>\n",
              "      <td id=\"T_47461_row2_col2\" class=\"data row2 col2\" >40000</td>\n",
              "      <td id=\"T_47461_row2_col3\" class=\"data row2 col3\" >25000.000000</td>\n",
              "      <td id=\"T_47461_row2_col4\" class=\"data row2 col4\" >15000.000000</td>\n",
              "    </tr>\n",
              "    <tr>\n",
              "      <td id=\"T_47461_row3_col0\" class=\"data row3 col0\" >Corporate</td>\n",
              "      <td id=\"T_47461_row3_col1\" class=\"data row3 col1\" >Karthikeyan</td>\n",
              "      <td id=\"T_47461_row3_col2\" class=\"data row3 col2\" >40000</td>\n",
              "      <td id=\"T_47461_row3_col3\" class=\"data row3 col3\" >nan</td>\n",
              "      <td id=\"T_47461_row3_col4\" class=\"data row3 col4\" >nan</td>\n",
              "    </tr>\n",
              "    <tr>\n",
              "      <td id=\"T_47461_row4_col0\" class=\"data row4 col0\" >Corporate</td>\n",
              "      <td id=\"T_47461_row4_col1\" class=\"data row4 col1\" >Bacchan</td>\n",
              "      <td id=\"T_47461_row4_col2\" class=\"data row4 col2\" >50000</td>\n",
              "      <td id=\"T_47461_row4_col3\" class=\"data row4 col3\" >40000.000000</td>\n",
              "      <td id=\"T_47461_row4_col4\" class=\"data row4 col4\" >10000.000000</td>\n",
              "    </tr>\n",
              "    <tr>\n",
              "      <td id=\"T_47461_row5_col0\" class=\"data row5 col0\" >Corporate</td>\n",
              "      <td id=\"T_47461_row5_col1\" class=\"data row5 col1\" >Ganesan</td>\n",
              "      <td id=\"T_47461_row5_col2\" class=\"data row5 col2\" >60000</td>\n",
              "      <td id=\"T_47461_row5_col3\" class=\"data row5 col3\" >50000.000000</td>\n",
              "      <td id=\"T_47461_row5_col4\" class=\"data row5 col4\" >10000.000000</td>\n",
              "    </tr>\n",
              "    <tr>\n",
              "      <td id=\"T_47461_row6_col0\" class=\"data row6 col0\" >Production</td>\n",
              "      <td id=\"T_47461_row6_col1\" class=\"data row6 col1\" >Dhoni</td>\n",
              "      <td id=\"T_47461_row6_col2\" class=\"data row6 col2\" >9000</td>\n",
              "      <td id=\"T_47461_row6_col3\" class=\"data row6 col3\" >nan</td>\n",
              "      <td id=\"T_47461_row6_col4\" class=\"data row6 col4\" >nan</td>\n",
              "    </tr>\n",
              "    <tr>\n",
              "      <td id=\"T_47461_row7_col0\" class=\"data row7 col0\" >Production</td>\n",
              "      <td id=\"T_47461_row7_col1\" class=\"data row7 col1\" >Ganguly</td>\n",
              "      <td id=\"T_47461_row7_col2\" class=\"data row7 col2\" >20000</td>\n",
              "      <td id=\"T_47461_row7_col3\" class=\"data row7 col3\" >9000.000000</td>\n",
              "      <td id=\"T_47461_row7_col4\" class=\"data row7 col4\" >11000.000000</td>\n",
              "    </tr>\n",
              "    <tr>\n",
              "      <td id=\"T_47461_row8_col0\" class=\"data row8 col0\" >Production</td>\n",
              "      <td id=\"T_47461_row8_col1\" class=\"data row8 col1\" >Mukherjee</td>\n",
              "      <td id=\"T_47461_row8_col2\" class=\"data row8 col2\" >25000</td>\n",
              "      <td id=\"T_47461_row8_col3\" class=\"data row8 col3\" >20000.000000</td>\n",
              "      <td id=\"T_47461_row8_col4\" class=\"data row8 col4\" >5000.000000</td>\n",
              "    </tr>\n",
              "    <tr>\n",
              "      <td id=\"T_47461_row9_col0\" class=\"data row9 col0\" >Sales</td>\n",
              "      <td id=\"T_47461_row9_col1\" class=\"data row9 col1\" >Dikshit</td>\n",
              "      <td id=\"T_47461_row9_col2\" class=\"data row9 col2\" >10000</td>\n",
              "      <td id=\"T_47461_row9_col3\" class=\"data row9 col3\" >nan</td>\n",
              "      <td id=\"T_47461_row9_col4\" class=\"data row9 col4\" >nan</td>\n",
              "    </tr>\n",
              "    <tr>\n",
              "      <td id=\"T_47461_row10_col0\" class=\"data row10 col0\" >Sales</td>\n",
              "      <td id=\"T_47461_row10_col1\" class=\"data row10 col1\" >Sehwag</td>\n",
              "      <td id=\"T_47461_row10_col2\" class=\"data row10 col2\" >15000</td>\n",
              "      <td id=\"T_47461_row10_col3\" class=\"data row10 col3\" >10000.000000</td>\n",
              "      <td id=\"T_47461_row10_col4\" class=\"data row10 col4\" >5000.000000</td>\n",
              "    </tr>\n",
              "    <tr>\n",
              "      <td id=\"T_47461_row11_col0\" class=\"data row11 col0\" >Sales</td>\n",
              "      <td id=\"T_47461_row11_col1\" class=\"data row11 col1\" >Khan</td>\n",
              "      <td id=\"T_47461_row11_col2\" class=\"data row11 col2\" >30000</td>\n",
              "      <td id=\"T_47461_row11_col3\" class=\"data row11 col3\" >15000.000000</td>\n",
              "      <td id=\"T_47461_row11_col4\" class=\"data row11 col4\" >15000.000000</td>\n",
              "    </tr>\n",
              "  </tbody>\n",
              "</table>\n"
            ]
          },
          "metadata": {},
          "execution_count": 81
        }
      ]
    },
    {
      "cell_type": "markdown",
      "source": [
        "#Transpose / Pivot\n",
        "https://www.sqlshack.com/how-to-use-the-crosstab-function-in-postgresql/"
      ],
      "metadata": {
        "id": "V6Bt-yTXSITF"
      }
    },
    {
      "cell_type": "code",
      "source": [
        "!psql -h localhost -p 5432 -Uupraxis -ddbpraxis -c \"create extension tablefunc;\""
      ],
      "metadata": {
        "colab": {
          "base_uri": "https://localhost:8080/"
        },
        "id": "ZgVgr1DfYs_R",
        "outputId": "af35246a-d863-4159-bdfb-818d63f50049"
      },
      "execution_count": 82,
      "outputs": [
        {
          "output_type": "stream",
          "name": "stdout",
          "text": [
            "CREATE EXTENSION\n"
          ]
        }
      ]
    },
    {
      "cell_type": "code",
      "source": [
        "runSelect('select * from dept')"
      ],
      "metadata": {
        "colab": {
          "base_uri": "https://localhost:8080/",
          "height": 206
        },
        "id": "Sa9IpGXwSKWe",
        "outputId": "2071d0dd-b926-47a9-ffec-4884c7d85c7a"
      },
      "execution_count": 83,
      "outputs": [
        {
          "output_type": "execute_result",
          "data": {
            "text/plain": [
              "<pandas.io.formats.style.Styler at 0x7ae5fbc11e50>"
            ],
            "text/html": [
              "<style type=\"text/css\">\n",
              "</style>\n",
              "<table id=\"T_0fab5\" class=\"dataframe\">\n",
              "  <thead>\n",
              "    <tr>\n",
              "      <th id=\"T_0fab5_level0_col0\" class=\"col_heading level0 col0\" >deptid</th>\n",
              "      <th id=\"T_0fab5_level0_col1\" class=\"col_heading level0 col1\" >deptname</th>\n",
              "      <th id=\"T_0fab5_level0_col2\" class=\"col_heading level0 col2\" >managerid</th>\n",
              "      <th id=\"T_0fab5_level0_col3\" class=\"col_heading level0 col3\" >location</th>\n",
              "      <th id=\"T_0fab5_level0_col4\" class=\"col_heading level0 col4\" >locationid</th>\n",
              "    </tr>\n",
              "  </thead>\n",
              "  <tbody>\n",
              "    <tr>\n",
              "      <td id=\"T_0fab5_row0_col0\" class=\"data row0 col0\" >10</td>\n",
              "      <td id=\"T_0fab5_row0_col1\" class=\"data row0 col1\" >Corporate</td>\n",
              "      <td id=\"T_0fab5_row0_col2\" class=\"data row0 col2\" >299034</td>\n",
              "      <td id=\"T_0fab5_row0_col3\" class=\"data row0 col3\" >Calcutta</td>\n",
              "      <td id=\"T_0fab5_row0_col4\" class=\"data row0 col4\" >1</td>\n",
              "    </tr>\n",
              "    <tr>\n",
              "      <td id=\"T_0fab5_row1_col0\" class=\"data row1 col0\" >20</td>\n",
              "      <td id=\"T_0fab5_row1_col1\" class=\"data row1 col1\" >Sales</td>\n",
              "      <td id=\"T_0fab5_row1_col2\" class=\"data row1 col2\" >239456</td>\n",
              "      <td id=\"T_0fab5_row1_col3\" class=\"data row1 col3\" >Calcutta</td>\n",
              "      <td id=\"T_0fab5_row1_col4\" class=\"data row1 col4\" >1</td>\n",
              "    </tr>\n",
              "    <tr>\n",
              "      <td id=\"T_0fab5_row2_col0\" class=\"data row2 col0\" >30</td>\n",
              "      <td id=\"T_0fab5_row2_col1\" class=\"data row2 col1\" >Accounts</td>\n",
              "      <td id=\"T_0fab5_row2_col2\" class=\"data row2 col2\" >822134</td>\n",
              "      <td id=\"T_0fab5_row2_col3\" class=\"data row2 col3\" >Calcutta</td>\n",
              "      <td id=\"T_0fab5_row2_col4\" class=\"data row2 col4\" >1</td>\n",
              "    </tr>\n",
              "    <tr>\n",
              "      <td id=\"T_0fab5_row3_col0\" class=\"data row3 col0\" >40</td>\n",
              "      <td id=\"T_0fab5_row3_col1\" class=\"data row3 col1\" >Production</td>\n",
              "      <td id=\"T_0fab5_row3_col2\" class=\"data row3 col2\" >349870</td>\n",
              "      <td id=\"T_0fab5_row3_col3\" class=\"data row3 col3\" >Bombay</td>\n",
              "      <td id=\"T_0fab5_row3_col4\" class=\"data row3 col4\" >2</td>\n",
              "    </tr>\n",
              "    <tr>\n",
              "      <td id=\"T_0fab5_row4_col0\" class=\"data row4 col0\" >60</td>\n",
              "      <td id=\"T_0fab5_row4_col1\" class=\"data row4 col1\" >Research</td>\n",
              "      <td id=\"T_0fab5_row4_col2\" class=\"data row4 col2\" >546224</td>\n",
              "      <td id=\"T_0fab5_row4_col3\" class=\"data row4 col3\" >Delhi</td>\n",
              "      <td id=\"T_0fab5_row4_col4\" class=\"data row4 col4\" >3</td>\n",
              "    </tr>\n",
              "  </tbody>\n",
              "</table>\n"
            ]
          },
          "metadata": {},
          "execution_count": 83
        }
      ]
    },
    {
      "cell_type": "code",
      "source": [
        "sql = \"\\\n",
        "select * from \\\n",
        "crosstab('select location::text,locationid::text,deptname::text from dept order by 1,2') as locations \\\n",
        "(location text, dep1 text, dep2 text, dep3 text, dep4 text)\\\n",
        "\"\n",
        "runSelect(sql)"
      ],
      "metadata": {
        "colab": {
          "base_uri": "https://localhost:8080/",
          "height": 143
        },
        "id": "Iukqh6TRVo-9",
        "outputId": "6b1c324a-be0c-4ec3-927f-917deac983e8"
      },
      "execution_count": 84,
      "outputs": [
        {
          "output_type": "execute_result",
          "data": {
            "text/plain": [
              "<pandas.io.formats.style.Styler at 0x7ae5fb92f410>"
            ],
            "text/html": [
              "<style type=\"text/css\">\n",
              "</style>\n",
              "<table id=\"T_50f9c\" class=\"dataframe\">\n",
              "  <thead>\n",
              "    <tr>\n",
              "      <th id=\"T_50f9c_level0_col0\" class=\"col_heading level0 col0\" >location</th>\n",
              "      <th id=\"T_50f9c_level0_col1\" class=\"col_heading level0 col1\" >dep1</th>\n",
              "      <th id=\"T_50f9c_level0_col2\" class=\"col_heading level0 col2\" >dep2</th>\n",
              "      <th id=\"T_50f9c_level0_col3\" class=\"col_heading level0 col3\" >dep3</th>\n",
              "      <th id=\"T_50f9c_level0_col4\" class=\"col_heading level0 col4\" >dep4</th>\n",
              "    </tr>\n",
              "  </thead>\n",
              "  <tbody>\n",
              "    <tr>\n",
              "      <td id=\"T_50f9c_row0_col0\" class=\"data row0 col0\" >Bombay</td>\n",
              "      <td id=\"T_50f9c_row0_col1\" class=\"data row0 col1\" >Production</td>\n",
              "      <td id=\"T_50f9c_row0_col2\" class=\"data row0 col2\" >None</td>\n",
              "      <td id=\"T_50f9c_row0_col3\" class=\"data row0 col3\" >None</td>\n",
              "      <td id=\"T_50f9c_row0_col4\" class=\"data row0 col4\" >None</td>\n",
              "    </tr>\n",
              "    <tr>\n",
              "      <td id=\"T_50f9c_row1_col0\" class=\"data row1 col0\" >Calcutta</td>\n",
              "      <td id=\"T_50f9c_row1_col1\" class=\"data row1 col1\" >Corporate</td>\n",
              "      <td id=\"T_50f9c_row1_col2\" class=\"data row1 col2\" >Sales</td>\n",
              "      <td id=\"T_50f9c_row1_col3\" class=\"data row1 col3\" >Accounts</td>\n",
              "      <td id=\"T_50f9c_row1_col4\" class=\"data row1 col4\" >None</td>\n",
              "    </tr>\n",
              "    <tr>\n",
              "      <td id=\"T_50f9c_row2_col0\" class=\"data row2 col0\" >Delhi</td>\n",
              "      <td id=\"T_50f9c_row2_col1\" class=\"data row2 col1\" >Research</td>\n",
              "      <td id=\"T_50f9c_row2_col2\" class=\"data row2 col2\" >None</td>\n",
              "      <td id=\"T_50f9c_row2_col3\" class=\"data row2 col3\" >None</td>\n",
              "      <td id=\"T_50f9c_row2_col4\" class=\"data row2 col4\" >None</td>\n",
              "    </tr>\n",
              "  </tbody>\n",
              "</table>\n"
            ]
          },
          "metadata": {},
          "execution_count": 84
        }
      ]
    },
    {
      "cell_type": "markdown",
      "source": [
        "# Insert | Delete | Update"
      ],
      "metadata": {
        "id": "REcqZ7K0DYqi"
      }
    },
    {
      "cell_type": "code",
      "source": [
        "runSelect(\"select * from dept\")"
      ],
      "metadata": {
        "id": "xGgCH9vGDlsI",
        "outputId": "78ce2385-7216-43e3-9d55-e3a8f2dce685",
        "colab": {
          "base_uri": "https://localhost:8080/",
          "height": 206
        }
      },
      "execution_count": 85,
      "outputs": [
        {
          "output_type": "execute_result",
          "data": {
            "text/plain": [
              "<pandas.io.formats.style.Styler at 0x7ae5fb9cf250>"
            ],
            "text/html": [
              "<style type=\"text/css\">\n",
              "</style>\n",
              "<table id=\"T_9a211\" class=\"dataframe\">\n",
              "  <thead>\n",
              "    <tr>\n",
              "      <th id=\"T_9a211_level0_col0\" class=\"col_heading level0 col0\" >deptid</th>\n",
              "      <th id=\"T_9a211_level0_col1\" class=\"col_heading level0 col1\" >deptname</th>\n",
              "      <th id=\"T_9a211_level0_col2\" class=\"col_heading level0 col2\" >managerid</th>\n",
              "      <th id=\"T_9a211_level0_col3\" class=\"col_heading level0 col3\" >location</th>\n",
              "      <th id=\"T_9a211_level0_col4\" class=\"col_heading level0 col4\" >locationid</th>\n",
              "    </tr>\n",
              "  </thead>\n",
              "  <tbody>\n",
              "    <tr>\n",
              "      <td id=\"T_9a211_row0_col0\" class=\"data row0 col0\" >10</td>\n",
              "      <td id=\"T_9a211_row0_col1\" class=\"data row0 col1\" >Corporate</td>\n",
              "      <td id=\"T_9a211_row0_col2\" class=\"data row0 col2\" >299034</td>\n",
              "      <td id=\"T_9a211_row0_col3\" class=\"data row0 col3\" >Calcutta</td>\n",
              "      <td id=\"T_9a211_row0_col4\" class=\"data row0 col4\" >1</td>\n",
              "    </tr>\n",
              "    <tr>\n",
              "      <td id=\"T_9a211_row1_col0\" class=\"data row1 col0\" >20</td>\n",
              "      <td id=\"T_9a211_row1_col1\" class=\"data row1 col1\" >Sales</td>\n",
              "      <td id=\"T_9a211_row1_col2\" class=\"data row1 col2\" >239456</td>\n",
              "      <td id=\"T_9a211_row1_col3\" class=\"data row1 col3\" >Calcutta</td>\n",
              "      <td id=\"T_9a211_row1_col4\" class=\"data row1 col4\" >1</td>\n",
              "    </tr>\n",
              "    <tr>\n",
              "      <td id=\"T_9a211_row2_col0\" class=\"data row2 col0\" >30</td>\n",
              "      <td id=\"T_9a211_row2_col1\" class=\"data row2 col1\" >Accounts</td>\n",
              "      <td id=\"T_9a211_row2_col2\" class=\"data row2 col2\" >822134</td>\n",
              "      <td id=\"T_9a211_row2_col3\" class=\"data row2 col3\" >Calcutta</td>\n",
              "      <td id=\"T_9a211_row2_col4\" class=\"data row2 col4\" >1</td>\n",
              "    </tr>\n",
              "    <tr>\n",
              "      <td id=\"T_9a211_row3_col0\" class=\"data row3 col0\" >40</td>\n",
              "      <td id=\"T_9a211_row3_col1\" class=\"data row3 col1\" >Production</td>\n",
              "      <td id=\"T_9a211_row3_col2\" class=\"data row3 col2\" >349870</td>\n",
              "      <td id=\"T_9a211_row3_col3\" class=\"data row3 col3\" >Bombay</td>\n",
              "      <td id=\"T_9a211_row3_col4\" class=\"data row3 col4\" >2</td>\n",
              "    </tr>\n",
              "    <tr>\n",
              "      <td id=\"T_9a211_row4_col0\" class=\"data row4 col0\" >60</td>\n",
              "      <td id=\"T_9a211_row4_col1\" class=\"data row4 col1\" >Research</td>\n",
              "      <td id=\"T_9a211_row4_col2\" class=\"data row4 col2\" >546224</td>\n",
              "      <td id=\"T_9a211_row4_col3\" class=\"data row4 col3\" >Delhi</td>\n",
              "      <td id=\"T_9a211_row4_col4\" class=\"data row4 col4\" >3</td>\n",
              "    </tr>\n",
              "  </tbody>\n",
              "</table>\n"
            ]
          },
          "metadata": {},
          "execution_count": 85
        }
      ]
    },
    {
      "cell_type": "code",
      "source": [
        "runCmd(\"insert into Dept (DeptID, DeptName, ManagerID, Location,LocationID) VALUES \\\n",
        "\t('12', 'Corporate2', '29903A', 'Calcutta','1'), \\\n",
        "\t('13', 'Corporate2', '29903A', 'Calcutta','1'), \\\n",
        "\t('14', 'Corporate2', '29903A', 'Calcutta','1') \\\n",
        "\t\")\n",
        "runSelect(\"select * from dept\")"
      ],
      "metadata": {
        "id": "iyW0EobdDuMY",
        "outputId": "0eb01791-d8ef-4a3a-de51-b742603242e2",
        "colab": {
          "base_uri": "https://localhost:8080/",
          "height": 317
        }
      },
      "execution_count": 86,
      "outputs": [
        {
          "output_type": "stream",
          "name": "stdout",
          "text": [
            "Command executed\n"
          ]
        },
        {
          "output_type": "execute_result",
          "data": {
            "text/plain": [
              "<pandas.io.formats.style.Styler at 0x7ae5fb9cc510>"
            ],
            "text/html": [
              "<style type=\"text/css\">\n",
              "</style>\n",
              "<table id=\"T_a49e6\" class=\"dataframe\">\n",
              "  <thead>\n",
              "    <tr>\n",
              "      <th id=\"T_a49e6_level0_col0\" class=\"col_heading level0 col0\" >deptid</th>\n",
              "      <th id=\"T_a49e6_level0_col1\" class=\"col_heading level0 col1\" >deptname</th>\n",
              "      <th id=\"T_a49e6_level0_col2\" class=\"col_heading level0 col2\" >managerid</th>\n",
              "      <th id=\"T_a49e6_level0_col3\" class=\"col_heading level0 col3\" >location</th>\n",
              "      <th id=\"T_a49e6_level0_col4\" class=\"col_heading level0 col4\" >locationid</th>\n",
              "    </tr>\n",
              "  </thead>\n",
              "  <tbody>\n",
              "    <tr>\n",
              "      <td id=\"T_a49e6_row0_col0\" class=\"data row0 col0\" >10</td>\n",
              "      <td id=\"T_a49e6_row0_col1\" class=\"data row0 col1\" >Corporate</td>\n",
              "      <td id=\"T_a49e6_row0_col2\" class=\"data row0 col2\" >299034</td>\n",
              "      <td id=\"T_a49e6_row0_col3\" class=\"data row0 col3\" >Calcutta</td>\n",
              "      <td id=\"T_a49e6_row0_col4\" class=\"data row0 col4\" >1</td>\n",
              "    </tr>\n",
              "    <tr>\n",
              "      <td id=\"T_a49e6_row1_col0\" class=\"data row1 col0\" >20</td>\n",
              "      <td id=\"T_a49e6_row1_col1\" class=\"data row1 col1\" >Sales</td>\n",
              "      <td id=\"T_a49e6_row1_col2\" class=\"data row1 col2\" >239456</td>\n",
              "      <td id=\"T_a49e6_row1_col3\" class=\"data row1 col3\" >Calcutta</td>\n",
              "      <td id=\"T_a49e6_row1_col4\" class=\"data row1 col4\" >1</td>\n",
              "    </tr>\n",
              "    <tr>\n",
              "      <td id=\"T_a49e6_row2_col0\" class=\"data row2 col0\" >30</td>\n",
              "      <td id=\"T_a49e6_row2_col1\" class=\"data row2 col1\" >Accounts</td>\n",
              "      <td id=\"T_a49e6_row2_col2\" class=\"data row2 col2\" >822134</td>\n",
              "      <td id=\"T_a49e6_row2_col3\" class=\"data row2 col3\" >Calcutta</td>\n",
              "      <td id=\"T_a49e6_row2_col4\" class=\"data row2 col4\" >1</td>\n",
              "    </tr>\n",
              "    <tr>\n",
              "      <td id=\"T_a49e6_row3_col0\" class=\"data row3 col0\" >40</td>\n",
              "      <td id=\"T_a49e6_row3_col1\" class=\"data row3 col1\" >Production</td>\n",
              "      <td id=\"T_a49e6_row3_col2\" class=\"data row3 col2\" >349870</td>\n",
              "      <td id=\"T_a49e6_row3_col3\" class=\"data row3 col3\" >Bombay</td>\n",
              "      <td id=\"T_a49e6_row3_col4\" class=\"data row3 col4\" >2</td>\n",
              "    </tr>\n",
              "    <tr>\n",
              "      <td id=\"T_a49e6_row4_col0\" class=\"data row4 col0\" >60</td>\n",
              "      <td id=\"T_a49e6_row4_col1\" class=\"data row4 col1\" >Research</td>\n",
              "      <td id=\"T_a49e6_row4_col2\" class=\"data row4 col2\" >546224</td>\n",
              "      <td id=\"T_a49e6_row4_col3\" class=\"data row4 col3\" >Delhi</td>\n",
              "      <td id=\"T_a49e6_row4_col4\" class=\"data row4 col4\" >3</td>\n",
              "    </tr>\n",
              "    <tr>\n",
              "      <td id=\"T_a49e6_row5_col0\" class=\"data row5 col0\" >12</td>\n",
              "      <td id=\"T_a49e6_row5_col1\" class=\"data row5 col1\" >Corporate2</td>\n",
              "      <td id=\"T_a49e6_row5_col2\" class=\"data row5 col2\" >29903A</td>\n",
              "      <td id=\"T_a49e6_row5_col3\" class=\"data row5 col3\" >Calcutta</td>\n",
              "      <td id=\"T_a49e6_row5_col4\" class=\"data row5 col4\" >1</td>\n",
              "    </tr>\n",
              "    <tr>\n",
              "      <td id=\"T_a49e6_row6_col0\" class=\"data row6 col0\" >13</td>\n",
              "      <td id=\"T_a49e6_row6_col1\" class=\"data row6 col1\" >Corporate2</td>\n",
              "      <td id=\"T_a49e6_row6_col2\" class=\"data row6 col2\" >29903A</td>\n",
              "      <td id=\"T_a49e6_row6_col3\" class=\"data row6 col3\" >Calcutta</td>\n",
              "      <td id=\"T_a49e6_row6_col4\" class=\"data row6 col4\" >1</td>\n",
              "    </tr>\n",
              "    <tr>\n",
              "      <td id=\"T_a49e6_row7_col0\" class=\"data row7 col0\" >14</td>\n",
              "      <td id=\"T_a49e6_row7_col1\" class=\"data row7 col1\" >Corporate2</td>\n",
              "      <td id=\"T_a49e6_row7_col2\" class=\"data row7 col2\" >29903A</td>\n",
              "      <td id=\"T_a49e6_row7_col3\" class=\"data row7 col3\" >Calcutta</td>\n",
              "      <td id=\"T_a49e6_row7_col4\" class=\"data row7 col4\" >1</td>\n",
              "    </tr>\n",
              "  </tbody>\n",
              "</table>\n"
            ]
          },
          "metadata": {},
          "execution_count": 86
        }
      ]
    },
    {
      "cell_type": "code",
      "source": [
        "runCmd(\"update dept set deptname = 'Marketing' where managerid = '29903A'\")\n",
        "runSelect(\"select * from dept\")"
      ],
      "metadata": {
        "id": "DqdnmD2pEQNq",
        "outputId": "2dc89ce6-97d2-437a-9e0e-1d47e3029c8c",
        "colab": {
          "base_uri": "https://localhost:8080/",
          "height": 317
        }
      },
      "execution_count": 88,
      "outputs": [
        {
          "output_type": "stream",
          "name": "stdout",
          "text": [
            "Command executed\n"
          ]
        },
        {
          "output_type": "execute_result",
          "data": {
            "text/plain": [
              "<pandas.io.formats.style.Styler at 0x7ae5fbb32dd0>"
            ],
            "text/html": [
              "<style type=\"text/css\">\n",
              "</style>\n",
              "<table id=\"T_710ad\" class=\"dataframe\">\n",
              "  <thead>\n",
              "    <tr>\n",
              "      <th id=\"T_710ad_level0_col0\" class=\"col_heading level0 col0\" >deptid</th>\n",
              "      <th id=\"T_710ad_level0_col1\" class=\"col_heading level0 col1\" >deptname</th>\n",
              "      <th id=\"T_710ad_level0_col2\" class=\"col_heading level0 col2\" >managerid</th>\n",
              "      <th id=\"T_710ad_level0_col3\" class=\"col_heading level0 col3\" >location</th>\n",
              "      <th id=\"T_710ad_level0_col4\" class=\"col_heading level0 col4\" >locationid</th>\n",
              "    </tr>\n",
              "  </thead>\n",
              "  <tbody>\n",
              "    <tr>\n",
              "      <td id=\"T_710ad_row0_col0\" class=\"data row0 col0\" >10</td>\n",
              "      <td id=\"T_710ad_row0_col1\" class=\"data row0 col1\" >Corporate</td>\n",
              "      <td id=\"T_710ad_row0_col2\" class=\"data row0 col2\" >299034</td>\n",
              "      <td id=\"T_710ad_row0_col3\" class=\"data row0 col3\" >Calcutta</td>\n",
              "      <td id=\"T_710ad_row0_col4\" class=\"data row0 col4\" >1</td>\n",
              "    </tr>\n",
              "    <tr>\n",
              "      <td id=\"T_710ad_row1_col0\" class=\"data row1 col0\" >20</td>\n",
              "      <td id=\"T_710ad_row1_col1\" class=\"data row1 col1\" >Sales</td>\n",
              "      <td id=\"T_710ad_row1_col2\" class=\"data row1 col2\" >239456</td>\n",
              "      <td id=\"T_710ad_row1_col3\" class=\"data row1 col3\" >Calcutta</td>\n",
              "      <td id=\"T_710ad_row1_col4\" class=\"data row1 col4\" >1</td>\n",
              "    </tr>\n",
              "    <tr>\n",
              "      <td id=\"T_710ad_row2_col0\" class=\"data row2 col0\" >30</td>\n",
              "      <td id=\"T_710ad_row2_col1\" class=\"data row2 col1\" >Accounts</td>\n",
              "      <td id=\"T_710ad_row2_col2\" class=\"data row2 col2\" >822134</td>\n",
              "      <td id=\"T_710ad_row2_col3\" class=\"data row2 col3\" >Calcutta</td>\n",
              "      <td id=\"T_710ad_row2_col4\" class=\"data row2 col4\" >1</td>\n",
              "    </tr>\n",
              "    <tr>\n",
              "      <td id=\"T_710ad_row3_col0\" class=\"data row3 col0\" >40</td>\n",
              "      <td id=\"T_710ad_row3_col1\" class=\"data row3 col1\" >Production</td>\n",
              "      <td id=\"T_710ad_row3_col2\" class=\"data row3 col2\" >349870</td>\n",
              "      <td id=\"T_710ad_row3_col3\" class=\"data row3 col3\" >Bombay</td>\n",
              "      <td id=\"T_710ad_row3_col4\" class=\"data row3 col4\" >2</td>\n",
              "    </tr>\n",
              "    <tr>\n",
              "      <td id=\"T_710ad_row4_col0\" class=\"data row4 col0\" >60</td>\n",
              "      <td id=\"T_710ad_row4_col1\" class=\"data row4 col1\" >Research</td>\n",
              "      <td id=\"T_710ad_row4_col2\" class=\"data row4 col2\" >546224</td>\n",
              "      <td id=\"T_710ad_row4_col3\" class=\"data row4 col3\" >Delhi</td>\n",
              "      <td id=\"T_710ad_row4_col4\" class=\"data row4 col4\" >3</td>\n",
              "    </tr>\n",
              "    <tr>\n",
              "      <td id=\"T_710ad_row5_col0\" class=\"data row5 col0\" >12</td>\n",
              "      <td id=\"T_710ad_row5_col1\" class=\"data row5 col1\" >Marketing</td>\n",
              "      <td id=\"T_710ad_row5_col2\" class=\"data row5 col2\" >29903A</td>\n",
              "      <td id=\"T_710ad_row5_col3\" class=\"data row5 col3\" >Calcutta</td>\n",
              "      <td id=\"T_710ad_row5_col4\" class=\"data row5 col4\" >1</td>\n",
              "    </tr>\n",
              "    <tr>\n",
              "      <td id=\"T_710ad_row6_col0\" class=\"data row6 col0\" >13</td>\n",
              "      <td id=\"T_710ad_row6_col1\" class=\"data row6 col1\" >Marketing</td>\n",
              "      <td id=\"T_710ad_row6_col2\" class=\"data row6 col2\" >29903A</td>\n",
              "      <td id=\"T_710ad_row6_col3\" class=\"data row6 col3\" >Calcutta</td>\n",
              "      <td id=\"T_710ad_row6_col4\" class=\"data row6 col4\" >1</td>\n",
              "    </tr>\n",
              "    <tr>\n",
              "      <td id=\"T_710ad_row7_col0\" class=\"data row7 col0\" >14</td>\n",
              "      <td id=\"T_710ad_row7_col1\" class=\"data row7 col1\" >Marketing</td>\n",
              "      <td id=\"T_710ad_row7_col2\" class=\"data row7 col2\" >29903A</td>\n",
              "      <td id=\"T_710ad_row7_col3\" class=\"data row7 col3\" >Calcutta</td>\n",
              "      <td id=\"T_710ad_row7_col4\" class=\"data row7 col4\" >1</td>\n",
              "    </tr>\n",
              "  </tbody>\n",
              "</table>\n"
            ]
          },
          "metadata": {},
          "execution_count": 88
        }
      ]
    },
    {
      "cell_type": "code",
      "source": [
        "runCmd(\"delete from dept where managerid = '29903A'\")\n",
        "runSelect(\"select * from dept\")"
      ],
      "metadata": {
        "id": "nsnJnNrEF6iS",
        "outputId": "c3dc33d5-d884-45ad-fc98-8ddf8da0580b",
        "colab": {
          "base_uri": "https://localhost:8080/",
          "height": 223
        }
      },
      "execution_count": 89,
      "outputs": [
        {
          "output_type": "stream",
          "name": "stdout",
          "text": [
            "Command executed\n"
          ]
        },
        {
          "output_type": "execute_result",
          "data": {
            "text/plain": [
              "<pandas.io.formats.style.Styler at 0x7ae5fb93dd90>"
            ],
            "text/html": [
              "<style type=\"text/css\">\n",
              "</style>\n",
              "<table id=\"T_9a2f5\" class=\"dataframe\">\n",
              "  <thead>\n",
              "    <tr>\n",
              "      <th id=\"T_9a2f5_level0_col0\" class=\"col_heading level0 col0\" >deptid</th>\n",
              "      <th id=\"T_9a2f5_level0_col1\" class=\"col_heading level0 col1\" >deptname</th>\n",
              "      <th id=\"T_9a2f5_level0_col2\" class=\"col_heading level0 col2\" >managerid</th>\n",
              "      <th id=\"T_9a2f5_level0_col3\" class=\"col_heading level0 col3\" >location</th>\n",
              "      <th id=\"T_9a2f5_level0_col4\" class=\"col_heading level0 col4\" >locationid</th>\n",
              "    </tr>\n",
              "  </thead>\n",
              "  <tbody>\n",
              "    <tr>\n",
              "      <td id=\"T_9a2f5_row0_col0\" class=\"data row0 col0\" >10</td>\n",
              "      <td id=\"T_9a2f5_row0_col1\" class=\"data row0 col1\" >Corporate</td>\n",
              "      <td id=\"T_9a2f5_row0_col2\" class=\"data row0 col2\" >299034</td>\n",
              "      <td id=\"T_9a2f5_row0_col3\" class=\"data row0 col3\" >Calcutta</td>\n",
              "      <td id=\"T_9a2f5_row0_col4\" class=\"data row0 col4\" >1</td>\n",
              "    </tr>\n",
              "    <tr>\n",
              "      <td id=\"T_9a2f5_row1_col0\" class=\"data row1 col0\" >20</td>\n",
              "      <td id=\"T_9a2f5_row1_col1\" class=\"data row1 col1\" >Sales</td>\n",
              "      <td id=\"T_9a2f5_row1_col2\" class=\"data row1 col2\" >239456</td>\n",
              "      <td id=\"T_9a2f5_row1_col3\" class=\"data row1 col3\" >Calcutta</td>\n",
              "      <td id=\"T_9a2f5_row1_col4\" class=\"data row1 col4\" >1</td>\n",
              "    </tr>\n",
              "    <tr>\n",
              "      <td id=\"T_9a2f5_row2_col0\" class=\"data row2 col0\" >30</td>\n",
              "      <td id=\"T_9a2f5_row2_col1\" class=\"data row2 col1\" >Accounts</td>\n",
              "      <td id=\"T_9a2f5_row2_col2\" class=\"data row2 col2\" >822134</td>\n",
              "      <td id=\"T_9a2f5_row2_col3\" class=\"data row2 col3\" >Calcutta</td>\n",
              "      <td id=\"T_9a2f5_row2_col4\" class=\"data row2 col4\" >1</td>\n",
              "    </tr>\n",
              "    <tr>\n",
              "      <td id=\"T_9a2f5_row3_col0\" class=\"data row3 col0\" >40</td>\n",
              "      <td id=\"T_9a2f5_row3_col1\" class=\"data row3 col1\" >Production</td>\n",
              "      <td id=\"T_9a2f5_row3_col2\" class=\"data row3 col2\" >349870</td>\n",
              "      <td id=\"T_9a2f5_row3_col3\" class=\"data row3 col3\" >Bombay</td>\n",
              "      <td id=\"T_9a2f5_row3_col4\" class=\"data row3 col4\" >2</td>\n",
              "    </tr>\n",
              "    <tr>\n",
              "      <td id=\"T_9a2f5_row4_col0\" class=\"data row4 col0\" >60</td>\n",
              "      <td id=\"T_9a2f5_row4_col1\" class=\"data row4 col1\" >Research</td>\n",
              "      <td id=\"T_9a2f5_row4_col2\" class=\"data row4 col2\" >546224</td>\n",
              "      <td id=\"T_9a2f5_row4_col3\" class=\"data row4 col3\" >Delhi</td>\n",
              "      <td id=\"T_9a2f5_row4_col4\" class=\"data row4 col4\" >3</td>\n",
              "    </tr>\n",
              "  </tbody>\n",
              "</table>\n"
            ]
          },
          "metadata": {},
          "execution_count": 89
        }
      ]
    },
    {
      "cell_type": "code",
      "source": [
        "from datetime import datetime\n",
        "import pytz\n",
        "print('Last tested  ',datetime.now(pytz.timezone('Asia/Kolkata')))"
      ],
      "metadata": {
        "colab": {
          "base_uri": "https://localhost:8080/"
        },
        "id": "wjBXJVhM605H",
        "outputId": "e5eec5b7-fa69-4528-d48a-f6120127b47b"
      },
      "execution_count": 90,
      "outputs": [
        {
          "output_type": "stream",
          "name": "stdout",
          "text": [
            "Last tested   2025-03-11 13:41:10.896650+05:30\n"
          ]
        }
      ]
    },
    {
      "cell_type": "markdown",
      "source": [
        "#ChronoTYM <br>\n",
        "In Indic phraseology, tantra is knowledge, a yantra is a device to explore this knowledge and a mantra is the code that unlocks both the tantra and its yantra. Chrono/TYM a sci-fi trilogy that recreates this framework where the first novel Chronotantra defines the contours of a tech driven, futuristic society, the second, Chronoyantra, describes a device used to explore the genesis of this society, while the third, Chronomantra finally reveals the code, the key, that unlocks this puzzle.  [More information](http://bit.ly/chronobooks) <br>\n",
        "![alt text](https://blogger.googleusercontent.com/img/b/R29vZ2xl/AVvXsEjdu_ajYwBRzk5iFYlcs59ZoRMMg6rhNm4JERKspvFJoveJsnfwRlzMICiC37UOja_Bd4sbfLA1pyyBbe0mj3tUfDBXoqCzNUDw3Wux7acoJBaLkWjAvJXfa7drRY2GQRAlFxEY9O7a7raY4RKy7cA3Uxgf5QsaZQ99C9GfXxFSex_rke8ROhAn41t8zOqK/s1640/tymBanner01_3.png)"
      ],
      "metadata": {
        "id": "_gNiZpyW3AzJ"
      }
    }
  ]
}