{
  "nbformat": 4,
  "nbformat_minor": 0,
  "metadata": {
    "colab": {
      "provenance": [],
      "toc_visible": true,
      "include_colab_link": true
    },
    "kernelspec": {
      "name": "python3",
      "display_name": "Python 3"
    },
    "language_info": {
      "name": "python"
    }
  },
  "cells": [
    {
      "cell_type": "markdown",
      "metadata": {
        "id": "view-in-github",
        "colab_type": "text"
      },
      "source": [
        "<a href=\"https://colab.research.google.com/github/Praxis-QR/RDWH/blob/main/PG24_2A_SQL42.ipynb\" target=\"_parent\"><img src=\"https://colab.research.google.com/assets/colab-badge.svg\" alt=\"Open In Colab\"/></a>"
      ]
    },
    {
      "cell_type": "markdown",
      "source": [
        "![Yantrajaal Banner](https://github.com/Praxis-QR/RDWH/raw/main/images/YantraJaalBanner.png)<br>\n",
        "\n",
        "\n",
        "<hr>\n",
        "\n",
        "[Prithwis Mukerjee](http://www.linkedin.com/in/prithwis)<br>"
      ],
      "metadata": {
        "id": "DBzz-qaN2tKu"
      }
    },
    {
      "cell_type": "markdown",
      "source": [
        "![PostgreSQL 42](https://raw.githubusercontent.com/Praxis-QR/RDWH/main/images/PostgreSQL_24.01.png)<br>\n",
        "[SlideDeck](https://docs.google.com/presentation/d/1hdkAGbMxLfO1GYe7RzEo3LhGZhsXkyjIfBqkA72B6LM/edit?usp=sharing)"
      ],
      "metadata": {
        "id": "dBJ6X0LiJtZ6"
      }
    },
    {
      "cell_type": "code",
      "source": [
        "from datetime import datetime\n",
        "import pytz\n",
        "print('ॐ श्री सरस्वत्यै नमः',datetime.now(pytz.timezone('Asia/Calcutta')))\n",
        "!python --version\n",
        "!lsb_release -a"
      ],
      "metadata": {
        "colab": {
          "base_uri": "https://localhost:8080/"
        },
        "id": "XZ9dGt-eUikL",
        "outputId": "bd66fb99-c3a5-4c65-e17c-b07b3c8c6b9d"
      },
      "execution_count": 1,
      "outputs": [
        {
          "output_type": "stream",
          "name": "stdout",
          "text": [
            "ॐ श्री सरस्वत्यै नमः 2024-01-16 09:02:03.745346+05:30\n",
            "Python 3.10.12\n",
            "No LSB modules are available.\n",
            "Distributor ID:\tUbuntu\n",
            "Description:\tUbuntu 22.04.3 LTS\n",
            "Release:\t22.04\n",
            "Codename:\tjammy\n"
          ]
        }
      ]
    },
    {
      "cell_type": "markdown",
      "source": [
        "#Install & Configure Postgres"
      ],
      "metadata": {
        "id": "nD-QawLT6kDr"
      }
    },
    {
      "cell_type": "markdown",
      "source": [],
      "metadata": {
        "id": "awT1Z45VVONC"
      }
    },
    {
      "cell_type": "markdown",
      "source": [
        "For Connecting to a Postgres server on Amazon RDS, see [this notebook](https://github.com/Praxis-QR/RDWH/blob/main/PG24_1B_Setup.ipynb)"
      ],
      "metadata": {
        "id": "9w29_O07rTPE"
      }
    },
    {
      "cell_type": "code",
      "source": [
        "# Install postgresql server\n",
        "\n",
        "!apt update > /dev/null\n",
        "!apt install postgresql > /dev/null\n",
        "#!pip install psycopg2\n",
        "import psycopg2\n",
        "import pandas as pd\n",
        "#!sudo -u postgres psql -V\n",
        "!psql -V\n",
        "!service postgresql start"
      ],
      "metadata": {
        "colab": {
          "base_uri": "https://localhost:8080/"
        },
        "id": "o_RaqE0OOHP3",
        "outputId": "af3dea52-77dd-4e0b-e0a8-0c6db77376be"
      },
      "execution_count": 2,
      "outputs": [
        {
          "output_type": "stream",
          "name": "stdout",
          "text": [
            "\n",
            "WARNING: apt does not have a stable CLI interface. Use with caution in scripts.\n",
            "\n",
            "\n",
            "WARNING: apt does not have a stable CLI interface. Use with caution in scripts.\n",
            "\n",
            "psql (PostgreSQL) 14.10 (Ubuntu 14.10-0ubuntu0.22.04.1)\n",
            " * Starting PostgreSQL 14 database server\n",
            "   ...done.\n"
          ]
        }
      ]
    },
    {
      "cell_type": "code",
      "source": [
        "# The installation creates Ubuntu user 'postgres' AND a Postgres database user 'postgres' both of which are superusers\n",
        "#!cat /etc/passwd\n",
        "# Use these users to create a new database user called 'upraxis' and give it a password 'upass'\n",
        "#!sudo -u postgres createuser --superuser upraxis\n",
        "!sudo -u postgres createuser upraxis\n",
        "!sudo -u postgres psql -U postgres -c \"ALTER USER upraxis PASSWORD 'upass';\"\n",
        "#\n",
        "# Change the database superuser 'postgres' to a non-default value 'pass'\n",
        "!sudo -u postgres psql -U postgres -c \"ALTER USER postgres PASSWORD 'pass';\"\n",
        "#\n",
        "# Use ubuntu superuser to create database dbpraxis and set its owner to upraxis\n",
        "!sudo -u postgres createdb -O upraxis dbpraxis\n",
        "#\n",
        "# Create file to store the password. Else will be prompted each time\n",
        "#\n",
        "!echo \"localhost:5432:dbpraxis:upraxis:upass\" > ~/.pgpass\n",
        "!echo \"localhost:5432:dbpraxis:postgres:pass\" >> ~/.pgpass\n",
        "!chmod 0600 ~/.pgpass\n",
        "!cat ~/.pgpass\n"
      ],
      "metadata": {
        "colab": {
          "base_uri": "https://localhost:8080/"
        },
        "id": "xr5kHaY_U4CZ",
        "outputId": "eaf3ef3e-f663-4889-837f-e3008a99d79a"
      },
      "execution_count": 3,
      "outputs": [
        {
          "output_type": "stream",
          "name": "stdout",
          "text": [
            "ALTER ROLE\n",
            "ALTER ROLE\n",
            "localhost:5432:dbpraxis:upraxis:upass\n",
            "localhost:5432:dbpraxis:postgres:pass\n"
          ]
        }
      ]
    },
    {
      "cell_type": "markdown",
      "source": [
        "## Create and Load Tables"
      ],
      "metadata": {
        "id": "pHTdNzrU6qUE"
      }
    },
    {
      "cell_type": "code",
      "source": [
        "# Create Two tables using command line interface\n",
        "#\n",
        "!psql -h localhost -p 5432 -Uupraxis -ddbpraxis -c \\\n",
        "\"drop table if exists Dept;\\\n",
        "create table Dept (\\\n",
        "    DeptID char(2),\\\n",
        "    DeptName varchar(20),\\\n",
        "    ManagerID char(6),\\\n",
        "    Location varchar(10),\\\n",
        "    LocationID char(1)\\\n",
        "    );\\\n",
        "insert into Dept (DeptID, DeptName, ManagerID, Location,LocationID) VALUES \\\n",
        "\t('10', 'Corporate', '299034', 'Calcutta','1'), \\\n",
        "\t('20', 'Sales', '239456', 'Calcutta','1'), \\\n",
        "\t('30', 'Accounts', '822134', 'Calcutta','1'), \\\n",
        "\t('40', 'Production', '349870', 'Bombay','2'),\\\n",
        "    ('60', 'Research', '546224', 'Delhi','3');\\\n",
        "\""
      ],
      "metadata": {
        "colab": {
          "base_uri": "https://localhost:8080/"
        },
        "id": "DsUZ9JlEXIir",
        "outputId": "f027ed75-e3df-42d7-d328-5b4b4b65123f"
      },
      "execution_count": 4,
      "outputs": [
        {
          "output_type": "stream",
          "name": "stdout",
          "text": [
            "NOTICE:  table \"dept\" does not exist, skipping\n",
            "INSERT 0 5\n"
          ]
        }
      ]
    },
    {
      "cell_type": "code",
      "source": [
        "!psql -h localhost -p 5432 -Uupraxis -ddbpraxis -c \\\n",
        "\"drop table if exists Empl;\\\n",
        "create table Empl \\\n",
        "    (EmpID char(6),\\\n",
        "    LastName varchar(20),\\\n",
        "    FirstName varchar(20),\\\n",
        "    JobDesc varchar(10),\\\n",
        "    JoinDate date,\\\n",
        "    Salary int,\\\n",
        "    Comm decimal(3,2),\\\n",
        "    DeptID char(2),\\\n",
        "    HiredBy char(6)\\\n",
        "    );\\\n",
        "INSERT INTO Empl (EmpID, LastName, FirstName, JobDesc, JoinDate, Salary, Comm, DeptID, HiredBy) \\\n",
        "    VALUES \\\n",
        "\t('742866', 'Bacchan', 'Amitabh', 'Executive', '2003-03-10', 50000, 0.1, '10', NULL), \\\n",
        "\t('349870', 'Mukherjee', 'Rani', 'Manager', '2005-05-04', 25000, 0.06, '40', '742866'), \\\n",
        "\t('865477', 'Dikshit', 'Madhuri', 'Clerk', '2002-04-04', 10000, 0.02, '20', '239456'), \\\n",
        "\t('239456', 'Khan', 'Shahrukh', 'Manager', '2004-01-03', 30000, 0.07, '20', '742866'), \\\n",
        "\t('897889', 'Sehwag', 'Virender', 'Cus_Rep', '2005-01-02', 15000, 0.05, '20', '239456'), \\\n",
        "\t('123980', 'Dhoni', 'Mahender', 'Clerk', '2004-10-09', 9000, 0.02, '40', '349870'), \\\n",
        "\t('822134', 'Dravid', 'Rahul', 'Sr Manager', '2000-06-04', 40000, 0.08, '30', '742866'), \\\n",
        "\t('997445', 'Dalmia', 'Jagmohan', 'Clerk', '2001-07-01', 12000, 0.02, '30', '822134'), \\\n",
        "\t('989007', 'Ganguly', 'Sourav', 'Cus_Rep', '2002-01-01', 20000, 0.03, '40', '299034'), \\\n",
        "\t('299034', 'Ganesan', 'Rekha', 'Director', '2002-10-10', 60000, 0.11, '10', '742866'), \\\n",
        "\t('546223', 'Karthikeyan', 'Narayan', 'Secretary', '2005-12-04', 40000, 0.09, '10', '299034'), \\\n",
        "    ('546224', 'Sunil', 'Chettri', 'Dy Manager', '2006-12-07', 40000, 0.05, '70', '349870'), \\\n",
        "\t('223112', 'Mirza', 'Sania', 'Cus_Rep', '2001-11-19', 25000, 0.04, '30', '822134');\\\n",
        "\""
      ],
      "metadata": {
        "colab": {
          "base_uri": "https://localhost:8080/"
        },
        "id": "5kWs3wyEd9Tm",
        "outputId": "66f1247e-1e3e-4b6e-f76f-8c9e547d7c29"
      },
      "execution_count": 5,
      "outputs": [
        {
          "output_type": "stream",
          "name": "stdout",
          "text": [
            "NOTICE:  table \"empl\" does not exist, skipping\n",
            "INSERT 0 13\n"
          ]
        }
      ]
    },
    {
      "cell_type": "code",
      "source": [
        "#!psql -h localhost -p 5432 -Upostgres -dpraxisdb -c \"select * from dept;\"\n",
        "#!psql -h localhost -p 5432 -Uupraxis -ddbpraxis -c \"select * from dept;\""
      ],
      "metadata": {
        "id": "HyBUhbAI2PV1"
      },
      "execution_count": 6,
      "outputs": []
    },
    {
      "cell_type": "code",
      "source": [
        "#!psql -h localhost -p 5432 -U postgres -d praxisdb -c \"select * from empl;\"\n",
        "#!psql -h localhost -p 5432 -U upraxis -d dbpraxis -c \"select * from empl;\""
      ],
      "metadata": {
        "id": "byY2iccO4ctF"
      },
      "execution_count": 7,
      "outputs": []
    },
    {
      "cell_type": "markdown",
      "source": [
        "## Python Access\n",
        "https://www.tutorialspoint.com/python_data_access/python_postgresql_database_connection.htm"
      ],
      "metadata": {
        "id": "faZEj8_7CeZ8"
      }
    },
    {
      "cell_type": "code",
      "source": [
        "# Local Colab server\n",
        "\n",
        "conn = psycopg2.connect(database=\"dbpraxis\", user='upraxis', password='upass', host='127.0.0.1', port= '5432')\n",
        "#Creating a cursor object using the cursor() method\n",
        "cursor = conn.cursor()\n",
        "#Executing an MYSQL function using the execute() method\n",
        "cursor.execute(\"select version()\")\n",
        "# Fetch a single row using fetchone() method.\n",
        "data = cursor.fetchone()\n",
        "print(\"Connection established to: \",data)\n",
        "#Closing the connection\n",
        "conn.close()"
      ],
      "metadata": {
        "id": "wcE-8UBnC4zV",
        "outputId": "b2f4bdd8-4c26-4e6d-9500-dbc7da8da6ea",
        "colab": {
          "base_uri": "https://localhost:8080/"
        }
      },
      "execution_count": 8,
      "outputs": [
        {
          "output_type": "stream",
          "name": "stdout",
          "text": [
            "Connection established to:  ('PostgreSQL 14.10 (Ubuntu 14.10-0ubuntu0.22.04.1) on x86_64-pc-linux-gnu, compiled by gcc (Ubuntu 11.4.0-1ubuntu1~22.04) 11.4.0, 64-bit',)\n"
          ]
        }
      ]
    },
    {
      "cell_type": "code",
      "source": [
        "# function to execute SQL select statements with Postgres\n",
        "#\n",
        "def runSelect(s):\n",
        "    #Set up connection\n",
        "\n",
        "    conn = psycopg2.connect(database=\"dbpraxis\", user='upraxis', password='upass', host='127.0.0.1', port= '5432')\n",
        "    #Setting auto commit true\n",
        "    conn.autocommit = True\n",
        "    #Creating a cursor object using the cursor() method\n",
        "    cursor = conn.cursor()\n",
        "    #Retrieving data\n",
        "    cursor.execute(s)\n",
        "    #Fetching all rows from the table\n",
        "    result = cursor.fetchall();\n",
        "    #print(len(result))\n",
        "    if (len(result)) > 0:                                       # result contains at least one row\n",
        "        colnames = [desc[0] for desc in cursor.description]     # get column names\n",
        "        #print(colnames)\n",
        "        resultdf = pd.DataFrame(result)                         # convert list to dataframe\n",
        "        resultdf.columns = colnames                             # add column names\n",
        "        #return resultdf\n",
        "        return resultdf.style.hide()                            # hide the index\n",
        "    else:\n",
        "        print('no records found')\n",
        "        return\n",
        "# function to execute SQL non-select statements with Postgres\n",
        "#\n",
        "def runCmd(s):\n",
        "    #Create Connection\n",
        "    conn = psycopg2.connect(database=\"dbpraxis\", user='upraxis', password='upass', host='127.0.0.1', port= '5432')\n",
        "    #Creating a cursor object using the cursor() method\n",
        "    cursor = conn.cursor()\n",
        "    try:\n",
        "        cursor.execute(s)\n",
        "        print('Command executed')\n",
        "        conn.commit()\n",
        "    except:\n",
        "        print('Command failed')\n",
        "    #Closing the connection\n",
        "    conn.close()"
      ],
      "metadata": {
        "id": "ht2k7-3iggNd"
      },
      "execution_count": 9,
      "outputs": []
    },
    {
      "cell_type": "markdown",
      "source": [
        "#Select - getting started"
      ],
      "metadata": {
        "id": "k0rXiciVtu7Q"
      }
    },
    {
      "cell_type": "code",
      "source": [
        "#runSelect(\"select * from dept where deptid = '100'\")\n",
        "#runSelect(\"select * from dept where deptid = '10'\")\n",
        "runSelect(\"select * from dept\")"
      ],
      "metadata": {
        "id": "N3NZv0YahSs6",
        "outputId": "753fc0aa-3952-4cd1-a554-834baf89f3ca",
        "colab": {
          "base_uri": "https://localhost:8080/",
          "height": 206
        }
      },
      "execution_count": 10,
      "outputs": [
        {
          "output_type": "execute_result",
          "data": {
            "text/plain": [
              "<pandas.io.formats.style.Styler at 0x7adbe261e5c0>"
            ],
            "text/html": [
              "<style type=\"text/css\">\n",
              "</style>\n",
              "<table id=\"T_284dd\" class=\"dataframe\">\n",
              "  <thead>\n",
              "    <tr>\n",
              "      <th id=\"T_284dd_level0_col0\" class=\"col_heading level0 col0\" >deptid</th>\n",
              "      <th id=\"T_284dd_level0_col1\" class=\"col_heading level0 col1\" >deptname</th>\n",
              "      <th id=\"T_284dd_level0_col2\" class=\"col_heading level0 col2\" >managerid</th>\n",
              "      <th id=\"T_284dd_level0_col3\" class=\"col_heading level0 col3\" >location</th>\n",
              "      <th id=\"T_284dd_level0_col4\" class=\"col_heading level0 col4\" >locationid</th>\n",
              "    </tr>\n",
              "  </thead>\n",
              "  <tbody>\n",
              "    <tr>\n",
              "      <td id=\"T_284dd_row0_col0\" class=\"data row0 col0\" >10</td>\n",
              "      <td id=\"T_284dd_row0_col1\" class=\"data row0 col1\" >Corporate</td>\n",
              "      <td id=\"T_284dd_row0_col2\" class=\"data row0 col2\" >299034</td>\n",
              "      <td id=\"T_284dd_row0_col3\" class=\"data row0 col3\" >Calcutta</td>\n",
              "      <td id=\"T_284dd_row0_col4\" class=\"data row0 col4\" >1</td>\n",
              "    </tr>\n",
              "    <tr>\n",
              "      <td id=\"T_284dd_row1_col0\" class=\"data row1 col0\" >20</td>\n",
              "      <td id=\"T_284dd_row1_col1\" class=\"data row1 col1\" >Sales</td>\n",
              "      <td id=\"T_284dd_row1_col2\" class=\"data row1 col2\" >239456</td>\n",
              "      <td id=\"T_284dd_row1_col3\" class=\"data row1 col3\" >Calcutta</td>\n",
              "      <td id=\"T_284dd_row1_col4\" class=\"data row1 col4\" >1</td>\n",
              "    </tr>\n",
              "    <tr>\n",
              "      <td id=\"T_284dd_row2_col0\" class=\"data row2 col0\" >30</td>\n",
              "      <td id=\"T_284dd_row2_col1\" class=\"data row2 col1\" >Accounts</td>\n",
              "      <td id=\"T_284dd_row2_col2\" class=\"data row2 col2\" >822134</td>\n",
              "      <td id=\"T_284dd_row2_col3\" class=\"data row2 col3\" >Calcutta</td>\n",
              "      <td id=\"T_284dd_row2_col4\" class=\"data row2 col4\" >1</td>\n",
              "    </tr>\n",
              "    <tr>\n",
              "      <td id=\"T_284dd_row3_col0\" class=\"data row3 col0\" >40</td>\n",
              "      <td id=\"T_284dd_row3_col1\" class=\"data row3 col1\" >Production</td>\n",
              "      <td id=\"T_284dd_row3_col2\" class=\"data row3 col2\" >349870</td>\n",
              "      <td id=\"T_284dd_row3_col3\" class=\"data row3 col3\" >Bombay</td>\n",
              "      <td id=\"T_284dd_row3_col4\" class=\"data row3 col4\" >2</td>\n",
              "    </tr>\n",
              "    <tr>\n",
              "      <td id=\"T_284dd_row4_col0\" class=\"data row4 col0\" >60</td>\n",
              "      <td id=\"T_284dd_row4_col1\" class=\"data row4 col1\" >Research</td>\n",
              "      <td id=\"T_284dd_row4_col2\" class=\"data row4 col2\" >546224</td>\n",
              "      <td id=\"T_284dd_row4_col3\" class=\"data row4 col3\" >Delhi</td>\n",
              "      <td id=\"T_284dd_row4_col4\" class=\"data row4 col4\" >3</td>\n",
              "    </tr>\n",
              "  </tbody>\n",
              "</table>\n"
            ]
          },
          "metadata": {},
          "execution_count": 10
        }
      ]
    },
    {
      "cell_type": "code",
      "source": [
        "runSelect('select * from empl')"
      ],
      "metadata": {
        "id": "Otiv4rjSl5Tg",
        "outputId": "82c9147b-d95b-4fbc-935b-208eb88b1602",
        "colab": {
          "base_uri": "https://localhost:8080/",
          "height": 457
        }
      },
      "execution_count": 11,
      "outputs": [
        {
          "output_type": "execute_result",
          "data": {
            "text/plain": [
              "<pandas.io.formats.style.Styler at 0x7adbe258b8b0>"
            ],
            "text/html": [
              "<style type=\"text/css\">\n",
              "</style>\n",
              "<table id=\"T_76a68\" class=\"dataframe\">\n",
              "  <thead>\n",
              "    <tr>\n",
              "      <th id=\"T_76a68_level0_col0\" class=\"col_heading level0 col0\" >empid</th>\n",
              "      <th id=\"T_76a68_level0_col1\" class=\"col_heading level0 col1\" >lastname</th>\n",
              "      <th id=\"T_76a68_level0_col2\" class=\"col_heading level0 col2\" >firstname</th>\n",
              "      <th id=\"T_76a68_level0_col3\" class=\"col_heading level0 col3\" >jobdesc</th>\n",
              "      <th id=\"T_76a68_level0_col4\" class=\"col_heading level0 col4\" >joindate</th>\n",
              "      <th id=\"T_76a68_level0_col5\" class=\"col_heading level0 col5\" >salary</th>\n",
              "      <th id=\"T_76a68_level0_col6\" class=\"col_heading level0 col6\" >comm</th>\n",
              "      <th id=\"T_76a68_level0_col7\" class=\"col_heading level0 col7\" >deptid</th>\n",
              "      <th id=\"T_76a68_level0_col8\" class=\"col_heading level0 col8\" >hiredby</th>\n",
              "    </tr>\n",
              "  </thead>\n",
              "  <tbody>\n",
              "    <tr>\n",
              "      <td id=\"T_76a68_row0_col0\" class=\"data row0 col0\" >742866</td>\n",
              "      <td id=\"T_76a68_row0_col1\" class=\"data row0 col1\" >Bacchan</td>\n",
              "      <td id=\"T_76a68_row0_col2\" class=\"data row0 col2\" >Amitabh</td>\n",
              "      <td id=\"T_76a68_row0_col3\" class=\"data row0 col3\" >Executive</td>\n",
              "      <td id=\"T_76a68_row0_col4\" class=\"data row0 col4\" >2003-03-10</td>\n",
              "      <td id=\"T_76a68_row0_col5\" class=\"data row0 col5\" >50000</td>\n",
              "      <td id=\"T_76a68_row0_col6\" class=\"data row0 col6\" >0.10</td>\n",
              "      <td id=\"T_76a68_row0_col7\" class=\"data row0 col7\" >10</td>\n",
              "      <td id=\"T_76a68_row0_col8\" class=\"data row0 col8\" >None</td>\n",
              "    </tr>\n",
              "    <tr>\n",
              "      <td id=\"T_76a68_row1_col0\" class=\"data row1 col0\" >349870</td>\n",
              "      <td id=\"T_76a68_row1_col1\" class=\"data row1 col1\" >Mukherjee</td>\n",
              "      <td id=\"T_76a68_row1_col2\" class=\"data row1 col2\" >Rani</td>\n",
              "      <td id=\"T_76a68_row1_col3\" class=\"data row1 col3\" >Manager</td>\n",
              "      <td id=\"T_76a68_row1_col4\" class=\"data row1 col4\" >2005-05-04</td>\n",
              "      <td id=\"T_76a68_row1_col5\" class=\"data row1 col5\" >25000</td>\n",
              "      <td id=\"T_76a68_row1_col6\" class=\"data row1 col6\" >0.06</td>\n",
              "      <td id=\"T_76a68_row1_col7\" class=\"data row1 col7\" >40</td>\n",
              "      <td id=\"T_76a68_row1_col8\" class=\"data row1 col8\" >742866</td>\n",
              "    </tr>\n",
              "    <tr>\n",
              "      <td id=\"T_76a68_row2_col0\" class=\"data row2 col0\" >865477</td>\n",
              "      <td id=\"T_76a68_row2_col1\" class=\"data row2 col1\" >Dikshit</td>\n",
              "      <td id=\"T_76a68_row2_col2\" class=\"data row2 col2\" >Madhuri</td>\n",
              "      <td id=\"T_76a68_row2_col3\" class=\"data row2 col3\" >Clerk</td>\n",
              "      <td id=\"T_76a68_row2_col4\" class=\"data row2 col4\" >2002-04-04</td>\n",
              "      <td id=\"T_76a68_row2_col5\" class=\"data row2 col5\" >10000</td>\n",
              "      <td id=\"T_76a68_row2_col6\" class=\"data row2 col6\" >0.02</td>\n",
              "      <td id=\"T_76a68_row2_col7\" class=\"data row2 col7\" >20</td>\n",
              "      <td id=\"T_76a68_row2_col8\" class=\"data row2 col8\" >239456</td>\n",
              "    </tr>\n",
              "    <tr>\n",
              "      <td id=\"T_76a68_row3_col0\" class=\"data row3 col0\" >239456</td>\n",
              "      <td id=\"T_76a68_row3_col1\" class=\"data row3 col1\" >Khan</td>\n",
              "      <td id=\"T_76a68_row3_col2\" class=\"data row3 col2\" >Shahrukh</td>\n",
              "      <td id=\"T_76a68_row3_col3\" class=\"data row3 col3\" >Manager</td>\n",
              "      <td id=\"T_76a68_row3_col4\" class=\"data row3 col4\" >2004-01-03</td>\n",
              "      <td id=\"T_76a68_row3_col5\" class=\"data row3 col5\" >30000</td>\n",
              "      <td id=\"T_76a68_row3_col6\" class=\"data row3 col6\" >0.07</td>\n",
              "      <td id=\"T_76a68_row3_col7\" class=\"data row3 col7\" >20</td>\n",
              "      <td id=\"T_76a68_row3_col8\" class=\"data row3 col8\" >742866</td>\n",
              "    </tr>\n",
              "    <tr>\n",
              "      <td id=\"T_76a68_row4_col0\" class=\"data row4 col0\" >897889</td>\n",
              "      <td id=\"T_76a68_row4_col1\" class=\"data row4 col1\" >Sehwag</td>\n",
              "      <td id=\"T_76a68_row4_col2\" class=\"data row4 col2\" >Virender</td>\n",
              "      <td id=\"T_76a68_row4_col3\" class=\"data row4 col3\" >Cus_Rep</td>\n",
              "      <td id=\"T_76a68_row4_col4\" class=\"data row4 col4\" >2005-01-02</td>\n",
              "      <td id=\"T_76a68_row4_col5\" class=\"data row4 col5\" >15000</td>\n",
              "      <td id=\"T_76a68_row4_col6\" class=\"data row4 col6\" >0.05</td>\n",
              "      <td id=\"T_76a68_row4_col7\" class=\"data row4 col7\" >20</td>\n",
              "      <td id=\"T_76a68_row4_col8\" class=\"data row4 col8\" >239456</td>\n",
              "    </tr>\n",
              "    <tr>\n",
              "      <td id=\"T_76a68_row5_col0\" class=\"data row5 col0\" >123980</td>\n",
              "      <td id=\"T_76a68_row5_col1\" class=\"data row5 col1\" >Dhoni</td>\n",
              "      <td id=\"T_76a68_row5_col2\" class=\"data row5 col2\" >Mahender</td>\n",
              "      <td id=\"T_76a68_row5_col3\" class=\"data row5 col3\" >Clerk</td>\n",
              "      <td id=\"T_76a68_row5_col4\" class=\"data row5 col4\" >2004-10-09</td>\n",
              "      <td id=\"T_76a68_row5_col5\" class=\"data row5 col5\" >9000</td>\n",
              "      <td id=\"T_76a68_row5_col6\" class=\"data row5 col6\" >0.02</td>\n",
              "      <td id=\"T_76a68_row5_col7\" class=\"data row5 col7\" >40</td>\n",
              "      <td id=\"T_76a68_row5_col8\" class=\"data row5 col8\" >349870</td>\n",
              "    </tr>\n",
              "    <tr>\n",
              "      <td id=\"T_76a68_row6_col0\" class=\"data row6 col0\" >822134</td>\n",
              "      <td id=\"T_76a68_row6_col1\" class=\"data row6 col1\" >Dravid</td>\n",
              "      <td id=\"T_76a68_row6_col2\" class=\"data row6 col2\" >Rahul</td>\n",
              "      <td id=\"T_76a68_row6_col3\" class=\"data row6 col3\" >Sr Manager</td>\n",
              "      <td id=\"T_76a68_row6_col4\" class=\"data row6 col4\" >2000-06-04</td>\n",
              "      <td id=\"T_76a68_row6_col5\" class=\"data row6 col5\" >40000</td>\n",
              "      <td id=\"T_76a68_row6_col6\" class=\"data row6 col6\" >0.08</td>\n",
              "      <td id=\"T_76a68_row6_col7\" class=\"data row6 col7\" >30</td>\n",
              "      <td id=\"T_76a68_row6_col8\" class=\"data row6 col8\" >742866</td>\n",
              "    </tr>\n",
              "    <tr>\n",
              "      <td id=\"T_76a68_row7_col0\" class=\"data row7 col0\" >997445</td>\n",
              "      <td id=\"T_76a68_row7_col1\" class=\"data row7 col1\" >Dalmia</td>\n",
              "      <td id=\"T_76a68_row7_col2\" class=\"data row7 col2\" >Jagmohan</td>\n",
              "      <td id=\"T_76a68_row7_col3\" class=\"data row7 col3\" >Clerk</td>\n",
              "      <td id=\"T_76a68_row7_col4\" class=\"data row7 col4\" >2001-07-01</td>\n",
              "      <td id=\"T_76a68_row7_col5\" class=\"data row7 col5\" >12000</td>\n",
              "      <td id=\"T_76a68_row7_col6\" class=\"data row7 col6\" >0.02</td>\n",
              "      <td id=\"T_76a68_row7_col7\" class=\"data row7 col7\" >30</td>\n",
              "      <td id=\"T_76a68_row7_col8\" class=\"data row7 col8\" >822134</td>\n",
              "    </tr>\n",
              "    <tr>\n",
              "      <td id=\"T_76a68_row8_col0\" class=\"data row8 col0\" >989007</td>\n",
              "      <td id=\"T_76a68_row8_col1\" class=\"data row8 col1\" >Ganguly</td>\n",
              "      <td id=\"T_76a68_row8_col2\" class=\"data row8 col2\" >Sourav</td>\n",
              "      <td id=\"T_76a68_row8_col3\" class=\"data row8 col3\" >Cus_Rep</td>\n",
              "      <td id=\"T_76a68_row8_col4\" class=\"data row8 col4\" >2002-01-01</td>\n",
              "      <td id=\"T_76a68_row8_col5\" class=\"data row8 col5\" >20000</td>\n",
              "      <td id=\"T_76a68_row8_col6\" class=\"data row8 col6\" >0.03</td>\n",
              "      <td id=\"T_76a68_row8_col7\" class=\"data row8 col7\" >40</td>\n",
              "      <td id=\"T_76a68_row8_col8\" class=\"data row8 col8\" >299034</td>\n",
              "    </tr>\n",
              "    <tr>\n",
              "      <td id=\"T_76a68_row9_col0\" class=\"data row9 col0\" >299034</td>\n",
              "      <td id=\"T_76a68_row9_col1\" class=\"data row9 col1\" >Ganesan</td>\n",
              "      <td id=\"T_76a68_row9_col2\" class=\"data row9 col2\" >Rekha</td>\n",
              "      <td id=\"T_76a68_row9_col3\" class=\"data row9 col3\" >Director</td>\n",
              "      <td id=\"T_76a68_row9_col4\" class=\"data row9 col4\" >2002-10-10</td>\n",
              "      <td id=\"T_76a68_row9_col5\" class=\"data row9 col5\" >60000</td>\n",
              "      <td id=\"T_76a68_row9_col6\" class=\"data row9 col6\" >0.11</td>\n",
              "      <td id=\"T_76a68_row9_col7\" class=\"data row9 col7\" >10</td>\n",
              "      <td id=\"T_76a68_row9_col8\" class=\"data row9 col8\" >742866</td>\n",
              "    </tr>\n",
              "    <tr>\n",
              "      <td id=\"T_76a68_row10_col0\" class=\"data row10 col0\" >546223</td>\n",
              "      <td id=\"T_76a68_row10_col1\" class=\"data row10 col1\" >Karthikeyan</td>\n",
              "      <td id=\"T_76a68_row10_col2\" class=\"data row10 col2\" >Narayan</td>\n",
              "      <td id=\"T_76a68_row10_col3\" class=\"data row10 col3\" >Secretary</td>\n",
              "      <td id=\"T_76a68_row10_col4\" class=\"data row10 col4\" >2005-12-04</td>\n",
              "      <td id=\"T_76a68_row10_col5\" class=\"data row10 col5\" >40000</td>\n",
              "      <td id=\"T_76a68_row10_col6\" class=\"data row10 col6\" >0.09</td>\n",
              "      <td id=\"T_76a68_row10_col7\" class=\"data row10 col7\" >10</td>\n",
              "      <td id=\"T_76a68_row10_col8\" class=\"data row10 col8\" >299034</td>\n",
              "    </tr>\n",
              "    <tr>\n",
              "      <td id=\"T_76a68_row11_col0\" class=\"data row11 col0\" >546224</td>\n",
              "      <td id=\"T_76a68_row11_col1\" class=\"data row11 col1\" >Sunil</td>\n",
              "      <td id=\"T_76a68_row11_col2\" class=\"data row11 col2\" >Chettri</td>\n",
              "      <td id=\"T_76a68_row11_col3\" class=\"data row11 col3\" >Dy Manager</td>\n",
              "      <td id=\"T_76a68_row11_col4\" class=\"data row11 col4\" >2006-12-07</td>\n",
              "      <td id=\"T_76a68_row11_col5\" class=\"data row11 col5\" >40000</td>\n",
              "      <td id=\"T_76a68_row11_col6\" class=\"data row11 col6\" >0.05</td>\n",
              "      <td id=\"T_76a68_row11_col7\" class=\"data row11 col7\" >70</td>\n",
              "      <td id=\"T_76a68_row11_col8\" class=\"data row11 col8\" >349870</td>\n",
              "    </tr>\n",
              "    <tr>\n",
              "      <td id=\"T_76a68_row12_col0\" class=\"data row12 col0\" >223112</td>\n",
              "      <td id=\"T_76a68_row12_col1\" class=\"data row12 col1\" >Mirza</td>\n",
              "      <td id=\"T_76a68_row12_col2\" class=\"data row12 col2\" >Sania</td>\n",
              "      <td id=\"T_76a68_row12_col3\" class=\"data row12 col3\" >Cus_Rep</td>\n",
              "      <td id=\"T_76a68_row12_col4\" class=\"data row12 col4\" >2001-11-19</td>\n",
              "      <td id=\"T_76a68_row12_col5\" class=\"data row12 col5\" >25000</td>\n",
              "      <td id=\"T_76a68_row12_col6\" class=\"data row12 col6\" >0.04</td>\n",
              "      <td id=\"T_76a68_row12_col7\" class=\"data row12 col7\" >30</td>\n",
              "      <td id=\"T_76a68_row12_col8\" class=\"data row12 col8\" >822134</td>\n",
              "    </tr>\n",
              "  </tbody>\n",
              "</table>\n"
            ]
          },
          "metadata": {},
          "execution_count": 11
        }
      ]
    },
    {
      "cell_type": "code",
      "source": [
        "runSelect('select lastname, jobdesc, salary from empl')"
      ],
      "metadata": {
        "id": "z-mxVMPuuxu6",
        "outputId": "0d8dda95-9a9b-4b07-a830-58f5d9896272",
        "colab": {
          "base_uri": "https://localhost:8080/",
          "height": 457
        }
      },
      "execution_count": 12,
      "outputs": [
        {
          "output_type": "execute_result",
          "data": {
            "text/plain": [
              "<pandas.io.formats.style.Styler at 0x7adbe258a680>"
            ],
            "text/html": [
              "<style type=\"text/css\">\n",
              "</style>\n",
              "<table id=\"T_f8a21\" class=\"dataframe\">\n",
              "  <thead>\n",
              "    <tr>\n",
              "      <th id=\"T_f8a21_level0_col0\" class=\"col_heading level0 col0\" >lastname</th>\n",
              "      <th id=\"T_f8a21_level0_col1\" class=\"col_heading level0 col1\" >jobdesc</th>\n",
              "      <th id=\"T_f8a21_level0_col2\" class=\"col_heading level0 col2\" >salary</th>\n",
              "    </tr>\n",
              "  </thead>\n",
              "  <tbody>\n",
              "    <tr>\n",
              "      <td id=\"T_f8a21_row0_col0\" class=\"data row0 col0\" >Bacchan</td>\n",
              "      <td id=\"T_f8a21_row0_col1\" class=\"data row0 col1\" >Executive</td>\n",
              "      <td id=\"T_f8a21_row0_col2\" class=\"data row0 col2\" >50000</td>\n",
              "    </tr>\n",
              "    <tr>\n",
              "      <td id=\"T_f8a21_row1_col0\" class=\"data row1 col0\" >Mukherjee</td>\n",
              "      <td id=\"T_f8a21_row1_col1\" class=\"data row1 col1\" >Manager</td>\n",
              "      <td id=\"T_f8a21_row1_col2\" class=\"data row1 col2\" >25000</td>\n",
              "    </tr>\n",
              "    <tr>\n",
              "      <td id=\"T_f8a21_row2_col0\" class=\"data row2 col0\" >Dikshit</td>\n",
              "      <td id=\"T_f8a21_row2_col1\" class=\"data row2 col1\" >Clerk</td>\n",
              "      <td id=\"T_f8a21_row2_col2\" class=\"data row2 col2\" >10000</td>\n",
              "    </tr>\n",
              "    <tr>\n",
              "      <td id=\"T_f8a21_row3_col0\" class=\"data row3 col0\" >Khan</td>\n",
              "      <td id=\"T_f8a21_row3_col1\" class=\"data row3 col1\" >Manager</td>\n",
              "      <td id=\"T_f8a21_row3_col2\" class=\"data row3 col2\" >30000</td>\n",
              "    </tr>\n",
              "    <tr>\n",
              "      <td id=\"T_f8a21_row4_col0\" class=\"data row4 col0\" >Sehwag</td>\n",
              "      <td id=\"T_f8a21_row4_col1\" class=\"data row4 col1\" >Cus_Rep</td>\n",
              "      <td id=\"T_f8a21_row4_col2\" class=\"data row4 col2\" >15000</td>\n",
              "    </tr>\n",
              "    <tr>\n",
              "      <td id=\"T_f8a21_row5_col0\" class=\"data row5 col0\" >Dhoni</td>\n",
              "      <td id=\"T_f8a21_row5_col1\" class=\"data row5 col1\" >Clerk</td>\n",
              "      <td id=\"T_f8a21_row5_col2\" class=\"data row5 col2\" >9000</td>\n",
              "    </tr>\n",
              "    <tr>\n",
              "      <td id=\"T_f8a21_row6_col0\" class=\"data row6 col0\" >Dravid</td>\n",
              "      <td id=\"T_f8a21_row6_col1\" class=\"data row6 col1\" >Sr Manager</td>\n",
              "      <td id=\"T_f8a21_row6_col2\" class=\"data row6 col2\" >40000</td>\n",
              "    </tr>\n",
              "    <tr>\n",
              "      <td id=\"T_f8a21_row7_col0\" class=\"data row7 col0\" >Dalmia</td>\n",
              "      <td id=\"T_f8a21_row7_col1\" class=\"data row7 col1\" >Clerk</td>\n",
              "      <td id=\"T_f8a21_row7_col2\" class=\"data row7 col2\" >12000</td>\n",
              "    </tr>\n",
              "    <tr>\n",
              "      <td id=\"T_f8a21_row8_col0\" class=\"data row8 col0\" >Ganguly</td>\n",
              "      <td id=\"T_f8a21_row8_col1\" class=\"data row8 col1\" >Cus_Rep</td>\n",
              "      <td id=\"T_f8a21_row8_col2\" class=\"data row8 col2\" >20000</td>\n",
              "    </tr>\n",
              "    <tr>\n",
              "      <td id=\"T_f8a21_row9_col0\" class=\"data row9 col0\" >Ganesan</td>\n",
              "      <td id=\"T_f8a21_row9_col1\" class=\"data row9 col1\" >Director</td>\n",
              "      <td id=\"T_f8a21_row9_col2\" class=\"data row9 col2\" >60000</td>\n",
              "    </tr>\n",
              "    <tr>\n",
              "      <td id=\"T_f8a21_row10_col0\" class=\"data row10 col0\" >Karthikeyan</td>\n",
              "      <td id=\"T_f8a21_row10_col1\" class=\"data row10 col1\" >Secretary</td>\n",
              "      <td id=\"T_f8a21_row10_col2\" class=\"data row10 col2\" >40000</td>\n",
              "    </tr>\n",
              "    <tr>\n",
              "      <td id=\"T_f8a21_row11_col0\" class=\"data row11 col0\" >Sunil</td>\n",
              "      <td id=\"T_f8a21_row11_col1\" class=\"data row11 col1\" >Dy Manager</td>\n",
              "      <td id=\"T_f8a21_row11_col2\" class=\"data row11 col2\" >40000</td>\n",
              "    </tr>\n",
              "    <tr>\n",
              "      <td id=\"T_f8a21_row12_col0\" class=\"data row12 col0\" >Mirza</td>\n",
              "      <td id=\"T_f8a21_row12_col1\" class=\"data row12 col1\" >Cus_Rep</td>\n",
              "      <td id=\"T_f8a21_row12_col2\" class=\"data row12 col2\" >25000</td>\n",
              "    </tr>\n",
              "  </tbody>\n",
              "</table>\n"
            ]
          },
          "metadata": {},
          "execution_count": 12
        }
      ]
    },
    {
      "cell_type": "code",
      "source": [
        "runSelect('select distinct(jobdesc) from empl')"
      ],
      "metadata": {
        "id": "7uvcAdlCvg-p",
        "outputId": "26a22ce8-6533-465e-cba1-a008962ef865",
        "colab": {
          "base_uri": "https://localhost:8080/",
          "height": 300
        }
      },
      "execution_count": 13,
      "outputs": [
        {
          "output_type": "execute_result",
          "data": {
            "text/plain": [
              "<pandas.io.formats.style.Styler at 0x7adbe261e740>"
            ],
            "text/html": [
              "<style type=\"text/css\">\n",
              "</style>\n",
              "<table id=\"T_00b43\" class=\"dataframe\">\n",
              "  <thead>\n",
              "    <tr>\n",
              "      <th id=\"T_00b43_level0_col0\" class=\"col_heading level0 col0\" >jobdesc</th>\n",
              "    </tr>\n",
              "  </thead>\n",
              "  <tbody>\n",
              "    <tr>\n",
              "      <td id=\"T_00b43_row0_col0\" class=\"data row0 col0\" >Director</td>\n",
              "    </tr>\n",
              "    <tr>\n",
              "      <td id=\"T_00b43_row1_col0\" class=\"data row1 col0\" >Manager</td>\n",
              "    </tr>\n",
              "    <tr>\n",
              "      <td id=\"T_00b43_row2_col0\" class=\"data row2 col0\" >Dy Manager</td>\n",
              "    </tr>\n",
              "    <tr>\n",
              "      <td id=\"T_00b43_row3_col0\" class=\"data row3 col0\" >Executive</td>\n",
              "    </tr>\n",
              "    <tr>\n",
              "      <td id=\"T_00b43_row4_col0\" class=\"data row4 col0\" >Secretary</td>\n",
              "    </tr>\n",
              "    <tr>\n",
              "      <td id=\"T_00b43_row5_col0\" class=\"data row5 col0\" >Cus_Rep</td>\n",
              "    </tr>\n",
              "    <tr>\n",
              "      <td id=\"T_00b43_row6_col0\" class=\"data row6 col0\" >Clerk</td>\n",
              "    </tr>\n",
              "    <tr>\n",
              "      <td id=\"T_00b43_row7_col0\" class=\"data row7 col0\" >Sr Manager</td>\n",
              "    </tr>\n",
              "  </tbody>\n",
              "</table>\n"
            ]
          },
          "metadata": {},
          "execution_count": 13
        }
      ]
    },
    {
      "cell_type": "markdown",
      "source": [
        "#Where"
      ],
      "metadata": {
        "id": "LFbNG59OxVzF"
      }
    },
    {
      "cell_type": "markdown",
      "source": [
        "## Equal, Not Equal, Greater, Less"
      ],
      "metadata": {
        "id": "JM2k29awVQHc"
      }
    },
    {
      "cell_type": "code",
      "source": [
        "runSelect(\"select firstname, lastname, jobdesc from empl where jobdesc = 'Clerk'\")"
      ],
      "metadata": {
        "id": "rRZz9OpLxdEY",
        "outputId": "d4ed3220-5866-4f76-f31c-db6d9eb372cb",
        "colab": {
          "base_uri": "https://localhost:8080/",
          "height": 143
        }
      },
      "execution_count": 14,
      "outputs": [
        {
          "output_type": "execute_result",
          "data": {
            "text/plain": [
              "<pandas.io.formats.style.Styler at 0x7adbe258acb0>"
            ],
            "text/html": [
              "<style type=\"text/css\">\n",
              "</style>\n",
              "<table id=\"T_88162\" class=\"dataframe\">\n",
              "  <thead>\n",
              "    <tr>\n",
              "      <th id=\"T_88162_level0_col0\" class=\"col_heading level0 col0\" >firstname</th>\n",
              "      <th id=\"T_88162_level0_col1\" class=\"col_heading level0 col1\" >lastname</th>\n",
              "      <th id=\"T_88162_level0_col2\" class=\"col_heading level0 col2\" >jobdesc</th>\n",
              "    </tr>\n",
              "  </thead>\n",
              "  <tbody>\n",
              "    <tr>\n",
              "      <td id=\"T_88162_row0_col0\" class=\"data row0 col0\" >Madhuri</td>\n",
              "      <td id=\"T_88162_row0_col1\" class=\"data row0 col1\" >Dikshit</td>\n",
              "      <td id=\"T_88162_row0_col2\" class=\"data row0 col2\" >Clerk</td>\n",
              "    </tr>\n",
              "    <tr>\n",
              "      <td id=\"T_88162_row1_col0\" class=\"data row1 col0\" >Mahender</td>\n",
              "      <td id=\"T_88162_row1_col1\" class=\"data row1 col1\" >Dhoni</td>\n",
              "      <td id=\"T_88162_row1_col2\" class=\"data row1 col2\" >Clerk</td>\n",
              "    </tr>\n",
              "    <tr>\n",
              "      <td id=\"T_88162_row2_col0\" class=\"data row2 col0\" >Jagmohan</td>\n",
              "      <td id=\"T_88162_row2_col1\" class=\"data row2 col1\" >Dalmia</td>\n",
              "      <td id=\"T_88162_row2_col2\" class=\"data row2 col2\" >Clerk</td>\n",
              "    </tr>\n",
              "  </tbody>\n",
              "</table>\n"
            ]
          },
          "metadata": {},
          "execution_count": 14
        }
      ]
    },
    {
      "cell_type": "code",
      "source": [
        "runSelect(\"select firstname, lastname, jobdesc from empl where jobdesc != 'Clerk'\")"
      ],
      "metadata": {
        "id": "3cl0ISR9yG-I",
        "outputId": "ea194992-3259-4872-934a-1985ebac4d1a",
        "colab": {
          "base_uri": "https://localhost:8080/",
          "height": 363
        }
      },
      "execution_count": 15,
      "outputs": [
        {
          "output_type": "execute_result",
          "data": {
            "text/plain": [
              "<pandas.io.formats.style.Styler at 0x7adbe23c2fe0>"
            ],
            "text/html": [
              "<style type=\"text/css\">\n",
              "</style>\n",
              "<table id=\"T_e542c\" class=\"dataframe\">\n",
              "  <thead>\n",
              "    <tr>\n",
              "      <th id=\"T_e542c_level0_col0\" class=\"col_heading level0 col0\" >firstname</th>\n",
              "      <th id=\"T_e542c_level0_col1\" class=\"col_heading level0 col1\" >lastname</th>\n",
              "      <th id=\"T_e542c_level0_col2\" class=\"col_heading level0 col2\" >jobdesc</th>\n",
              "    </tr>\n",
              "  </thead>\n",
              "  <tbody>\n",
              "    <tr>\n",
              "      <td id=\"T_e542c_row0_col0\" class=\"data row0 col0\" >Amitabh</td>\n",
              "      <td id=\"T_e542c_row0_col1\" class=\"data row0 col1\" >Bacchan</td>\n",
              "      <td id=\"T_e542c_row0_col2\" class=\"data row0 col2\" >Executive</td>\n",
              "    </tr>\n",
              "    <tr>\n",
              "      <td id=\"T_e542c_row1_col0\" class=\"data row1 col0\" >Rani</td>\n",
              "      <td id=\"T_e542c_row1_col1\" class=\"data row1 col1\" >Mukherjee</td>\n",
              "      <td id=\"T_e542c_row1_col2\" class=\"data row1 col2\" >Manager</td>\n",
              "    </tr>\n",
              "    <tr>\n",
              "      <td id=\"T_e542c_row2_col0\" class=\"data row2 col0\" >Shahrukh</td>\n",
              "      <td id=\"T_e542c_row2_col1\" class=\"data row2 col1\" >Khan</td>\n",
              "      <td id=\"T_e542c_row2_col2\" class=\"data row2 col2\" >Manager</td>\n",
              "    </tr>\n",
              "    <tr>\n",
              "      <td id=\"T_e542c_row3_col0\" class=\"data row3 col0\" >Virender</td>\n",
              "      <td id=\"T_e542c_row3_col1\" class=\"data row3 col1\" >Sehwag</td>\n",
              "      <td id=\"T_e542c_row3_col2\" class=\"data row3 col2\" >Cus_Rep</td>\n",
              "    </tr>\n",
              "    <tr>\n",
              "      <td id=\"T_e542c_row4_col0\" class=\"data row4 col0\" >Rahul</td>\n",
              "      <td id=\"T_e542c_row4_col1\" class=\"data row4 col1\" >Dravid</td>\n",
              "      <td id=\"T_e542c_row4_col2\" class=\"data row4 col2\" >Sr Manager</td>\n",
              "    </tr>\n",
              "    <tr>\n",
              "      <td id=\"T_e542c_row5_col0\" class=\"data row5 col0\" >Sourav</td>\n",
              "      <td id=\"T_e542c_row5_col1\" class=\"data row5 col1\" >Ganguly</td>\n",
              "      <td id=\"T_e542c_row5_col2\" class=\"data row5 col2\" >Cus_Rep</td>\n",
              "    </tr>\n",
              "    <tr>\n",
              "      <td id=\"T_e542c_row6_col0\" class=\"data row6 col0\" >Rekha</td>\n",
              "      <td id=\"T_e542c_row6_col1\" class=\"data row6 col1\" >Ganesan</td>\n",
              "      <td id=\"T_e542c_row6_col2\" class=\"data row6 col2\" >Director</td>\n",
              "    </tr>\n",
              "    <tr>\n",
              "      <td id=\"T_e542c_row7_col0\" class=\"data row7 col0\" >Narayan</td>\n",
              "      <td id=\"T_e542c_row7_col1\" class=\"data row7 col1\" >Karthikeyan</td>\n",
              "      <td id=\"T_e542c_row7_col2\" class=\"data row7 col2\" >Secretary</td>\n",
              "    </tr>\n",
              "    <tr>\n",
              "      <td id=\"T_e542c_row8_col0\" class=\"data row8 col0\" >Chettri</td>\n",
              "      <td id=\"T_e542c_row8_col1\" class=\"data row8 col1\" >Sunil</td>\n",
              "      <td id=\"T_e542c_row8_col2\" class=\"data row8 col2\" >Dy Manager</td>\n",
              "    </tr>\n",
              "    <tr>\n",
              "      <td id=\"T_e542c_row9_col0\" class=\"data row9 col0\" >Sania</td>\n",
              "      <td id=\"T_e542c_row9_col1\" class=\"data row9 col1\" >Mirza</td>\n",
              "      <td id=\"T_e542c_row9_col2\" class=\"data row9 col2\" >Cus_Rep</td>\n",
              "    </tr>\n",
              "  </tbody>\n",
              "</table>\n"
            ]
          },
          "metadata": {},
          "execution_count": 15
        }
      ]
    },
    {
      "cell_type": "code",
      "source": [
        "runSelect(\"select firstname, lastname, salary from empl where salary > 35000\")"
      ],
      "metadata": {
        "id": "obIPpNbDyT4S",
        "outputId": "cfd6f579-1496-41aa-ec26-d84f32731dd5",
        "colab": {
          "base_uri": "https://localhost:8080/",
          "height": 206
        }
      },
      "execution_count": 16,
      "outputs": [
        {
          "output_type": "execute_result",
          "data": {
            "text/plain": [
              "<pandas.io.formats.style.Styler at 0x7adbe258bc40>"
            ],
            "text/html": [
              "<style type=\"text/css\">\n",
              "</style>\n",
              "<table id=\"T_41051\" class=\"dataframe\">\n",
              "  <thead>\n",
              "    <tr>\n",
              "      <th id=\"T_41051_level0_col0\" class=\"col_heading level0 col0\" >firstname</th>\n",
              "      <th id=\"T_41051_level0_col1\" class=\"col_heading level0 col1\" >lastname</th>\n",
              "      <th id=\"T_41051_level0_col2\" class=\"col_heading level0 col2\" >salary</th>\n",
              "    </tr>\n",
              "  </thead>\n",
              "  <tbody>\n",
              "    <tr>\n",
              "      <td id=\"T_41051_row0_col0\" class=\"data row0 col0\" >Amitabh</td>\n",
              "      <td id=\"T_41051_row0_col1\" class=\"data row0 col1\" >Bacchan</td>\n",
              "      <td id=\"T_41051_row0_col2\" class=\"data row0 col2\" >50000</td>\n",
              "    </tr>\n",
              "    <tr>\n",
              "      <td id=\"T_41051_row1_col0\" class=\"data row1 col0\" >Rahul</td>\n",
              "      <td id=\"T_41051_row1_col1\" class=\"data row1 col1\" >Dravid</td>\n",
              "      <td id=\"T_41051_row1_col2\" class=\"data row1 col2\" >40000</td>\n",
              "    </tr>\n",
              "    <tr>\n",
              "      <td id=\"T_41051_row2_col0\" class=\"data row2 col0\" >Rekha</td>\n",
              "      <td id=\"T_41051_row2_col1\" class=\"data row2 col1\" >Ganesan</td>\n",
              "      <td id=\"T_41051_row2_col2\" class=\"data row2 col2\" >60000</td>\n",
              "    </tr>\n",
              "    <tr>\n",
              "      <td id=\"T_41051_row3_col0\" class=\"data row3 col0\" >Narayan</td>\n",
              "      <td id=\"T_41051_row3_col1\" class=\"data row3 col1\" >Karthikeyan</td>\n",
              "      <td id=\"T_41051_row3_col2\" class=\"data row3 col2\" >40000</td>\n",
              "    </tr>\n",
              "    <tr>\n",
              "      <td id=\"T_41051_row4_col0\" class=\"data row4 col0\" >Chettri</td>\n",
              "      <td id=\"T_41051_row4_col1\" class=\"data row4 col1\" >Sunil</td>\n",
              "      <td id=\"T_41051_row4_col2\" class=\"data row4 col2\" >40000</td>\n",
              "    </tr>\n",
              "  </tbody>\n",
              "</table>\n"
            ]
          },
          "metadata": {},
          "execution_count": 16
        }
      ]
    },
    {
      "cell_type": "code",
      "source": [
        "runSelect(\"select firstname, lastname, salary, joindate from empl where joindate < '2002-01-01'\")"
      ],
      "metadata": {
        "colab": {
          "base_uri": "https://localhost:8080/",
          "height": 143
        },
        "id": "hnIvgy_dMvQl",
        "outputId": "d19a6979-dda7-4799-d952-4faca05cc25f"
      },
      "execution_count": 17,
      "outputs": [
        {
          "output_type": "execute_result",
          "data": {
            "text/plain": [
              "<pandas.io.formats.style.Styler at 0x7adbe258a8f0>"
            ],
            "text/html": [
              "<style type=\"text/css\">\n",
              "</style>\n",
              "<table id=\"T_befb8\" class=\"dataframe\">\n",
              "  <thead>\n",
              "    <tr>\n",
              "      <th id=\"T_befb8_level0_col0\" class=\"col_heading level0 col0\" >firstname</th>\n",
              "      <th id=\"T_befb8_level0_col1\" class=\"col_heading level0 col1\" >lastname</th>\n",
              "      <th id=\"T_befb8_level0_col2\" class=\"col_heading level0 col2\" >salary</th>\n",
              "      <th id=\"T_befb8_level0_col3\" class=\"col_heading level0 col3\" >joindate</th>\n",
              "    </tr>\n",
              "  </thead>\n",
              "  <tbody>\n",
              "    <tr>\n",
              "      <td id=\"T_befb8_row0_col0\" class=\"data row0 col0\" >Rahul</td>\n",
              "      <td id=\"T_befb8_row0_col1\" class=\"data row0 col1\" >Dravid</td>\n",
              "      <td id=\"T_befb8_row0_col2\" class=\"data row0 col2\" >40000</td>\n",
              "      <td id=\"T_befb8_row0_col3\" class=\"data row0 col3\" >2000-06-04</td>\n",
              "    </tr>\n",
              "    <tr>\n",
              "      <td id=\"T_befb8_row1_col0\" class=\"data row1 col0\" >Jagmohan</td>\n",
              "      <td id=\"T_befb8_row1_col1\" class=\"data row1 col1\" >Dalmia</td>\n",
              "      <td id=\"T_befb8_row1_col2\" class=\"data row1 col2\" >12000</td>\n",
              "      <td id=\"T_befb8_row1_col3\" class=\"data row1 col3\" >2001-07-01</td>\n",
              "    </tr>\n",
              "    <tr>\n",
              "      <td id=\"T_befb8_row2_col0\" class=\"data row2 col0\" >Sania</td>\n",
              "      <td id=\"T_befb8_row2_col1\" class=\"data row2 col1\" >Mirza</td>\n",
              "      <td id=\"T_befb8_row2_col2\" class=\"data row2 col2\" >25000</td>\n",
              "      <td id=\"T_befb8_row2_col3\" class=\"data row2 col3\" >2001-11-19</td>\n",
              "    </tr>\n",
              "  </tbody>\n",
              "</table>\n"
            ]
          },
          "metadata": {},
          "execution_count": 17
        }
      ]
    },
    {
      "cell_type": "markdown",
      "source": [
        "## Like"
      ],
      "metadata": {
        "id": "77DkYhfhU1lJ"
      }
    },
    {
      "cell_type": "code",
      "source": [
        "runSelect(\"select firstname, lastname, salary from empl where lastname like 'D%'\")"
      ],
      "metadata": {
        "colab": {
          "base_uri": "https://localhost:8080/",
          "height": 175
        },
        "id": "PBsdla2eVv1K",
        "outputId": "e5e99949-f965-4885-d52a-17d0fc5d2e55"
      },
      "execution_count": 18,
      "outputs": [
        {
          "output_type": "execute_result",
          "data": {
            "text/plain": [
              "<pandas.io.formats.style.Styler at 0x7adbe258b760>"
            ],
            "text/html": [
              "<style type=\"text/css\">\n",
              "</style>\n",
              "<table id=\"T_dec2f\" class=\"dataframe\">\n",
              "  <thead>\n",
              "    <tr>\n",
              "      <th id=\"T_dec2f_level0_col0\" class=\"col_heading level0 col0\" >firstname</th>\n",
              "      <th id=\"T_dec2f_level0_col1\" class=\"col_heading level0 col1\" >lastname</th>\n",
              "      <th id=\"T_dec2f_level0_col2\" class=\"col_heading level0 col2\" >salary</th>\n",
              "    </tr>\n",
              "  </thead>\n",
              "  <tbody>\n",
              "    <tr>\n",
              "      <td id=\"T_dec2f_row0_col0\" class=\"data row0 col0\" >Madhuri</td>\n",
              "      <td id=\"T_dec2f_row0_col1\" class=\"data row0 col1\" >Dikshit</td>\n",
              "      <td id=\"T_dec2f_row0_col2\" class=\"data row0 col2\" >10000</td>\n",
              "    </tr>\n",
              "    <tr>\n",
              "      <td id=\"T_dec2f_row1_col0\" class=\"data row1 col0\" >Mahender</td>\n",
              "      <td id=\"T_dec2f_row1_col1\" class=\"data row1 col1\" >Dhoni</td>\n",
              "      <td id=\"T_dec2f_row1_col2\" class=\"data row1 col2\" >9000</td>\n",
              "    </tr>\n",
              "    <tr>\n",
              "      <td id=\"T_dec2f_row2_col0\" class=\"data row2 col0\" >Rahul</td>\n",
              "      <td id=\"T_dec2f_row2_col1\" class=\"data row2 col1\" >Dravid</td>\n",
              "      <td id=\"T_dec2f_row2_col2\" class=\"data row2 col2\" >40000</td>\n",
              "    </tr>\n",
              "    <tr>\n",
              "      <td id=\"T_dec2f_row3_col0\" class=\"data row3 col0\" >Jagmohan</td>\n",
              "      <td id=\"T_dec2f_row3_col1\" class=\"data row3 col1\" >Dalmia</td>\n",
              "      <td id=\"T_dec2f_row3_col2\" class=\"data row3 col2\" >12000</td>\n",
              "    </tr>\n",
              "  </tbody>\n",
              "</table>\n"
            ]
          },
          "metadata": {},
          "execution_count": 18
        }
      ]
    },
    {
      "cell_type": "code",
      "source": [
        "runSelect(\"select firstname, lastname, joindate from empl where lastname like '____i_'\")"
      ],
      "metadata": {
        "colab": {
          "base_uri": "https://localhost:8080/",
          "height": 112
        },
        "id": "xxImEDlKbm4U",
        "outputId": "dd394df1-e080-4a04-e27f-8a29ee04ad15"
      },
      "execution_count": 19,
      "outputs": [
        {
          "output_type": "execute_result",
          "data": {
            "text/plain": [
              "<pandas.io.formats.style.Styler at 0x7adbe23c1180>"
            ],
            "text/html": [
              "<style type=\"text/css\">\n",
              "</style>\n",
              "<table id=\"T_dc301\" class=\"dataframe\">\n",
              "  <thead>\n",
              "    <tr>\n",
              "      <th id=\"T_dc301_level0_col0\" class=\"col_heading level0 col0\" >firstname</th>\n",
              "      <th id=\"T_dc301_level0_col1\" class=\"col_heading level0 col1\" >lastname</th>\n",
              "      <th id=\"T_dc301_level0_col2\" class=\"col_heading level0 col2\" >joindate</th>\n",
              "    </tr>\n",
              "  </thead>\n",
              "  <tbody>\n",
              "    <tr>\n",
              "      <td id=\"T_dc301_row0_col0\" class=\"data row0 col0\" >Rahul</td>\n",
              "      <td id=\"T_dc301_row0_col1\" class=\"data row0 col1\" >Dravid</td>\n",
              "      <td id=\"T_dc301_row0_col2\" class=\"data row0 col2\" >2000-06-04</td>\n",
              "    </tr>\n",
              "    <tr>\n",
              "      <td id=\"T_dc301_row1_col0\" class=\"data row1 col0\" >Jagmohan</td>\n",
              "      <td id=\"T_dc301_row1_col1\" class=\"data row1 col1\" >Dalmia</td>\n",
              "      <td id=\"T_dc301_row1_col2\" class=\"data row1 col2\" >2001-07-01</td>\n",
              "    </tr>\n",
              "  </tbody>\n",
              "</table>\n"
            ]
          },
          "metadata": {},
          "execution_count": 19
        }
      ]
    },
    {
      "cell_type": "code",
      "source": [
        "runSelect(\"select firstname, lastname, jobdesc from empl where lastname like '____i%'\")"
      ],
      "metadata": {
        "colab": {
          "base_uri": "https://localhost:8080/",
          "height": 143
        },
        "id": "pL7VPLo4b2g3",
        "outputId": "35968613-375c-4b0a-bc98-c55a341b44fa"
      },
      "execution_count": 20,
      "outputs": [
        {
          "output_type": "execute_result",
          "data": {
            "text/plain": [
              "<pandas.io.formats.style.Styler at 0x7adbe23c3850>"
            ],
            "text/html": [
              "<style type=\"text/css\">\n",
              "</style>\n",
              "<table id=\"T_f5fd8\" class=\"dataframe\">\n",
              "  <thead>\n",
              "    <tr>\n",
              "      <th id=\"T_f5fd8_level0_col0\" class=\"col_heading level0 col0\" >firstname</th>\n",
              "      <th id=\"T_f5fd8_level0_col1\" class=\"col_heading level0 col1\" >lastname</th>\n",
              "      <th id=\"T_f5fd8_level0_col2\" class=\"col_heading level0 col2\" >jobdesc</th>\n",
              "    </tr>\n",
              "  </thead>\n",
              "  <tbody>\n",
              "    <tr>\n",
              "      <td id=\"T_f5fd8_row0_col0\" class=\"data row0 col0\" >Mahender</td>\n",
              "      <td id=\"T_f5fd8_row0_col1\" class=\"data row0 col1\" >Dhoni</td>\n",
              "      <td id=\"T_f5fd8_row0_col2\" class=\"data row0 col2\" >Clerk</td>\n",
              "    </tr>\n",
              "    <tr>\n",
              "      <td id=\"T_f5fd8_row1_col0\" class=\"data row1 col0\" >Rahul</td>\n",
              "      <td id=\"T_f5fd8_row1_col1\" class=\"data row1 col1\" >Dravid</td>\n",
              "      <td id=\"T_f5fd8_row1_col2\" class=\"data row1 col2\" >Sr Manager</td>\n",
              "    </tr>\n",
              "    <tr>\n",
              "      <td id=\"T_f5fd8_row2_col0\" class=\"data row2 col0\" >Jagmohan</td>\n",
              "      <td id=\"T_f5fd8_row2_col1\" class=\"data row2 col1\" >Dalmia</td>\n",
              "      <td id=\"T_f5fd8_row2_col2\" class=\"data row2 col2\" >Clerk</td>\n",
              "    </tr>\n",
              "  </tbody>\n",
              "</table>\n"
            ]
          },
          "metadata": {},
          "execution_count": 20
        }
      ]
    },
    {
      "cell_type": "markdown",
      "source": [
        "## Between"
      ],
      "metadata": {
        "id": "qw2h8Vtvey2R"
      }
    },
    {
      "cell_type": "code",
      "source": [
        "runSelect(\"select firstname, lastname, salary from empl where salary between 10000 and 20000\")"
      ],
      "metadata": {
        "colab": {
          "base_uri": "https://localhost:8080/",
          "height": 175
        },
        "id": "sI_qlRdXe7S8",
        "outputId": "ed22bcae-6eb6-4769-c022-a09f1bdae6f7"
      },
      "execution_count": 21,
      "outputs": [
        {
          "output_type": "execute_result",
          "data": {
            "text/plain": [
              "<pandas.io.formats.style.Styler at 0x7adbe23c11b0>"
            ],
            "text/html": [
              "<style type=\"text/css\">\n",
              "</style>\n",
              "<table id=\"T_9d51d\" class=\"dataframe\">\n",
              "  <thead>\n",
              "    <tr>\n",
              "      <th id=\"T_9d51d_level0_col0\" class=\"col_heading level0 col0\" >firstname</th>\n",
              "      <th id=\"T_9d51d_level0_col1\" class=\"col_heading level0 col1\" >lastname</th>\n",
              "      <th id=\"T_9d51d_level0_col2\" class=\"col_heading level0 col2\" >salary</th>\n",
              "    </tr>\n",
              "  </thead>\n",
              "  <tbody>\n",
              "    <tr>\n",
              "      <td id=\"T_9d51d_row0_col0\" class=\"data row0 col0\" >Madhuri</td>\n",
              "      <td id=\"T_9d51d_row0_col1\" class=\"data row0 col1\" >Dikshit</td>\n",
              "      <td id=\"T_9d51d_row0_col2\" class=\"data row0 col2\" >10000</td>\n",
              "    </tr>\n",
              "    <tr>\n",
              "      <td id=\"T_9d51d_row1_col0\" class=\"data row1 col0\" >Virender</td>\n",
              "      <td id=\"T_9d51d_row1_col1\" class=\"data row1 col1\" >Sehwag</td>\n",
              "      <td id=\"T_9d51d_row1_col2\" class=\"data row1 col2\" >15000</td>\n",
              "    </tr>\n",
              "    <tr>\n",
              "      <td id=\"T_9d51d_row2_col0\" class=\"data row2 col0\" >Jagmohan</td>\n",
              "      <td id=\"T_9d51d_row2_col1\" class=\"data row2 col1\" >Dalmia</td>\n",
              "      <td id=\"T_9d51d_row2_col2\" class=\"data row2 col2\" >12000</td>\n",
              "    </tr>\n",
              "    <tr>\n",
              "      <td id=\"T_9d51d_row3_col0\" class=\"data row3 col0\" >Sourav</td>\n",
              "      <td id=\"T_9d51d_row3_col1\" class=\"data row3 col1\" >Ganguly</td>\n",
              "      <td id=\"T_9d51d_row3_col2\" class=\"data row3 col2\" >20000</td>\n",
              "    </tr>\n",
              "  </tbody>\n",
              "</table>\n"
            ]
          },
          "metadata": {},
          "execution_count": 21
        }
      ]
    },
    {
      "cell_type": "code",
      "source": [
        "runSelect(\"select firstname, lastname, joindate from empl where joindate between '2004-01-01' and '2005-01-01'\")"
      ],
      "metadata": {
        "colab": {
          "base_uri": "https://localhost:8080/",
          "height": 112
        },
        "id": "b_mWyFTnfIEy",
        "outputId": "29a91f71-2d2a-4013-d13b-0cf5e3e2fd32"
      },
      "execution_count": 22,
      "outputs": [
        {
          "output_type": "execute_result",
          "data": {
            "text/plain": [
              "<pandas.io.formats.style.Styler at 0x7adbe23c0340>"
            ],
            "text/html": [
              "<style type=\"text/css\">\n",
              "</style>\n",
              "<table id=\"T_9187d\" class=\"dataframe\">\n",
              "  <thead>\n",
              "    <tr>\n",
              "      <th id=\"T_9187d_level0_col0\" class=\"col_heading level0 col0\" >firstname</th>\n",
              "      <th id=\"T_9187d_level0_col1\" class=\"col_heading level0 col1\" >lastname</th>\n",
              "      <th id=\"T_9187d_level0_col2\" class=\"col_heading level0 col2\" >joindate</th>\n",
              "    </tr>\n",
              "  </thead>\n",
              "  <tbody>\n",
              "    <tr>\n",
              "      <td id=\"T_9187d_row0_col0\" class=\"data row0 col0\" >Shahrukh</td>\n",
              "      <td id=\"T_9187d_row0_col1\" class=\"data row0 col1\" >Khan</td>\n",
              "      <td id=\"T_9187d_row0_col2\" class=\"data row0 col2\" >2004-01-03</td>\n",
              "    </tr>\n",
              "    <tr>\n",
              "      <td id=\"T_9187d_row1_col0\" class=\"data row1 col0\" >Mahender</td>\n",
              "      <td id=\"T_9187d_row1_col1\" class=\"data row1 col1\" >Dhoni</td>\n",
              "      <td id=\"T_9187d_row1_col2\" class=\"data row1 col2\" >2004-10-09</td>\n",
              "    </tr>\n",
              "  </tbody>\n",
              "</table>\n"
            ]
          },
          "metadata": {},
          "execution_count": 22
        }
      ]
    },
    {
      "cell_type": "code",
      "source": [
        "runSelect(\"select firstname, lastname, joindate from empl where lastname between 'Dho' and 'Kha'\")"
      ],
      "metadata": {
        "colab": {
          "base_uri": "https://localhost:8080/",
          "height": 238
        },
        "id": "qXs9AeS2fwCS",
        "outputId": "9b291d68-935d-4fba-8834-15df5aab7cf0"
      },
      "execution_count": 23,
      "outputs": [
        {
          "output_type": "execute_result",
          "data": {
            "text/plain": [
              "<pandas.io.formats.style.Styler at 0x7adbe261e710>"
            ],
            "text/html": [
              "<style type=\"text/css\">\n",
              "</style>\n",
              "<table id=\"T_dade8\" class=\"dataframe\">\n",
              "  <thead>\n",
              "    <tr>\n",
              "      <th id=\"T_dade8_level0_col0\" class=\"col_heading level0 col0\" >firstname</th>\n",
              "      <th id=\"T_dade8_level0_col1\" class=\"col_heading level0 col1\" >lastname</th>\n",
              "      <th id=\"T_dade8_level0_col2\" class=\"col_heading level0 col2\" >joindate</th>\n",
              "    </tr>\n",
              "  </thead>\n",
              "  <tbody>\n",
              "    <tr>\n",
              "      <td id=\"T_dade8_row0_col0\" class=\"data row0 col0\" >Madhuri</td>\n",
              "      <td id=\"T_dade8_row0_col1\" class=\"data row0 col1\" >Dikshit</td>\n",
              "      <td id=\"T_dade8_row0_col2\" class=\"data row0 col2\" >2002-04-04</td>\n",
              "    </tr>\n",
              "    <tr>\n",
              "      <td id=\"T_dade8_row1_col0\" class=\"data row1 col0\" >Mahender</td>\n",
              "      <td id=\"T_dade8_row1_col1\" class=\"data row1 col1\" >Dhoni</td>\n",
              "      <td id=\"T_dade8_row1_col2\" class=\"data row1 col2\" >2004-10-09</td>\n",
              "    </tr>\n",
              "    <tr>\n",
              "      <td id=\"T_dade8_row2_col0\" class=\"data row2 col0\" >Rahul</td>\n",
              "      <td id=\"T_dade8_row2_col1\" class=\"data row2 col1\" >Dravid</td>\n",
              "      <td id=\"T_dade8_row2_col2\" class=\"data row2 col2\" >2000-06-04</td>\n",
              "    </tr>\n",
              "    <tr>\n",
              "      <td id=\"T_dade8_row3_col0\" class=\"data row3 col0\" >Sourav</td>\n",
              "      <td id=\"T_dade8_row3_col1\" class=\"data row3 col1\" >Ganguly</td>\n",
              "      <td id=\"T_dade8_row3_col2\" class=\"data row3 col2\" >2002-01-01</td>\n",
              "    </tr>\n",
              "    <tr>\n",
              "      <td id=\"T_dade8_row4_col0\" class=\"data row4 col0\" >Rekha</td>\n",
              "      <td id=\"T_dade8_row4_col1\" class=\"data row4 col1\" >Ganesan</td>\n",
              "      <td id=\"T_dade8_row4_col2\" class=\"data row4 col2\" >2002-10-10</td>\n",
              "    </tr>\n",
              "    <tr>\n",
              "      <td id=\"T_dade8_row5_col0\" class=\"data row5 col0\" >Narayan</td>\n",
              "      <td id=\"T_dade8_row5_col1\" class=\"data row5 col1\" >Karthikeyan</td>\n",
              "      <td id=\"T_dade8_row5_col2\" class=\"data row5 col2\" >2005-12-04</td>\n",
              "    </tr>\n",
              "  </tbody>\n",
              "</table>\n"
            ]
          },
          "metadata": {},
          "execution_count": 23
        }
      ]
    },
    {
      "cell_type": "markdown",
      "source": [
        "## IN"
      ],
      "metadata": {
        "id": "azhy0TQLiLy-"
      }
    },
    {
      "cell_type": "code",
      "source": [
        "runSelect(\"select firstname, lastname, deptid from empl where deptid in ('30','20','70')\")"
      ],
      "metadata": {
        "colab": {
          "base_uri": "https://localhost:8080/",
          "height": 269
        },
        "id": "UyBE-FuoibSZ",
        "outputId": "a8fb0147-87e5-49cd-9b8a-bd0896543c4b"
      },
      "execution_count": 24,
      "outputs": [
        {
          "output_type": "execute_result",
          "data": {
            "text/plain": [
              "<pandas.io.formats.style.Styler at 0x7adbe258bca0>"
            ],
            "text/html": [
              "<style type=\"text/css\">\n",
              "</style>\n",
              "<table id=\"T_ab2b0\" class=\"dataframe\">\n",
              "  <thead>\n",
              "    <tr>\n",
              "      <th id=\"T_ab2b0_level0_col0\" class=\"col_heading level0 col0\" >firstname</th>\n",
              "      <th id=\"T_ab2b0_level0_col1\" class=\"col_heading level0 col1\" >lastname</th>\n",
              "      <th id=\"T_ab2b0_level0_col2\" class=\"col_heading level0 col2\" >deptid</th>\n",
              "    </tr>\n",
              "  </thead>\n",
              "  <tbody>\n",
              "    <tr>\n",
              "      <td id=\"T_ab2b0_row0_col0\" class=\"data row0 col0\" >Madhuri</td>\n",
              "      <td id=\"T_ab2b0_row0_col1\" class=\"data row0 col1\" >Dikshit</td>\n",
              "      <td id=\"T_ab2b0_row0_col2\" class=\"data row0 col2\" >20</td>\n",
              "    </tr>\n",
              "    <tr>\n",
              "      <td id=\"T_ab2b0_row1_col0\" class=\"data row1 col0\" >Shahrukh</td>\n",
              "      <td id=\"T_ab2b0_row1_col1\" class=\"data row1 col1\" >Khan</td>\n",
              "      <td id=\"T_ab2b0_row1_col2\" class=\"data row1 col2\" >20</td>\n",
              "    </tr>\n",
              "    <tr>\n",
              "      <td id=\"T_ab2b0_row2_col0\" class=\"data row2 col0\" >Virender</td>\n",
              "      <td id=\"T_ab2b0_row2_col1\" class=\"data row2 col1\" >Sehwag</td>\n",
              "      <td id=\"T_ab2b0_row2_col2\" class=\"data row2 col2\" >20</td>\n",
              "    </tr>\n",
              "    <tr>\n",
              "      <td id=\"T_ab2b0_row3_col0\" class=\"data row3 col0\" >Rahul</td>\n",
              "      <td id=\"T_ab2b0_row3_col1\" class=\"data row3 col1\" >Dravid</td>\n",
              "      <td id=\"T_ab2b0_row3_col2\" class=\"data row3 col2\" >30</td>\n",
              "    </tr>\n",
              "    <tr>\n",
              "      <td id=\"T_ab2b0_row4_col0\" class=\"data row4 col0\" >Jagmohan</td>\n",
              "      <td id=\"T_ab2b0_row4_col1\" class=\"data row4 col1\" >Dalmia</td>\n",
              "      <td id=\"T_ab2b0_row4_col2\" class=\"data row4 col2\" >30</td>\n",
              "    </tr>\n",
              "    <tr>\n",
              "      <td id=\"T_ab2b0_row5_col0\" class=\"data row5 col0\" >Chettri</td>\n",
              "      <td id=\"T_ab2b0_row5_col1\" class=\"data row5 col1\" >Sunil</td>\n",
              "      <td id=\"T_ab2b0_row5_col2\" class=\"data row5 col2\" >70</td>\n",
              "    </tr>\n",
              "    <tr>\n",
              "      <td id=\"T_ab2b0_row6_col0\" class=\"data row6 col0\" >Sania</td>\n",
              "      <td id=\"T_ab2b0_row6_col1\" class=\"data row6 col1\" >Mirza</td>\n",
              "      <td id=\"T_ab2b0_row6_col2\" class=\"data row6 col2\" >30</td>\n",
              "    </tr>\n",
              "  </tbody>\n",
              "</table>\n"
            ]
          },
          "metadata": {},
          "execution_count": 24
        }
      ]
    },
    {
      "cell_type": "code",
      "source": [
        "runSelect(\"select firstname, lastname, salary from empl where firstname in ('Madhuri','Shahrukh','Virender')\")"
      ],
      "metadata": {
        "colab": {
          "base_uri": "https://localhost:8080/",
          "height": 143
        },
        "id": "9qTEO-OuiN3A",
        "outputId": "02755988-a49e-4aa5-a8c2-5d69a7c80fdd"
      },
      "execution_count": 25,
      "outputs": [
        {
          "output_type": "execute_result",
          "data": {
            "text/plain": [
              "<pandas.io.formats.style.Styler at 0x7adbe258ada0>"
            ],
            "text/html": [
              "<style type=\"text/css\">\n",
              "</style>\n",
              "<table id=\"T_b746e\" class=\"dataframe\">\n",
              "  <thead>\n",
              "    <tr>\n",
              "      <th id=\"T_b746e_level0_col0\" class=\"col_heading level0 col0\" >firstname</th>\n",
              "      <th id=\"T_b746e_level0_col1\" class=\"col_heading level0 col1\" >lastname</th>\n",
              "      <th id=\"T_b746e_level0_col2\" class=\"col_heading level0 col2\" >salary</th>\n",
              "    </tr>\n",
              "  </thead>\n",
              "  <tbody>\n",
              "    <tr>\n",
              "      <td id=\"T_b746e_row0_col0\" class=\"data row0 col0\" >Madhuri</td>\n",
              "      <td id=\"T_b746e_row0_col1\" class=\"data row0 col1\" >Dikshit</td>\n",
              "      <td id=\"T_b746e_row0_col2\" class=\"data row0 col2\" >10000</td>\n",
              "    </tr>\n",
              "    <tr>\n",
              "      <td id=\"T_b746e_row1_col0\" class=\"data row1 col0\" >Shahrukh</td>\n",
              "      <td id=\"T_b746e_row1_col1\" class=\"data row1 col1\" >Khan</td>\n",
              "      <td id=\"T_b746e_row1_col2\" class=\"data row1 col2\" >30000</td>\n",
              "    </tr>\n",
              "    <tr>\n",
              "      <td id=\"T_b746e_row2_col0\" class=\"data row2 col0\" >Virender</td>\n",
              "      <td id=\"T_b746e_row2_col1\" class=\"data row2 col1\" >Sehwag</td>\n",
              "      <td id=\"T_b746e_row2_col2\" class=\"data row2 col2\" >15000</td>\n",
              "    </tr>\n",
              "  </tbody>\n",
              "</table>\n"
            ]
          },
          "metadata": {},
          "execution_count": 25
        }
      ]
    },
    {
      "cell_type": "markdown",
      "source": [
        "## Order by"
      ],
      "metadata": {
        "id": "vlOCT_zAkzMb"
      }
    },
    {
      "cell_type": "code",
      "source": [
        "runSelect(\"select firstname, lastname, joindate from empl where firstname in ('Madhuri','Shahrukh','Virender') order by joindate\")"
      ],
      "metadata": {
        "colab": {
          "base_uri": "https://localhost:8080/",
          "height": 143
        },
        "id": "WidoGzLVk1in",
        "outputId": "fd915e79-dd93-401f-ddea-2562e8848624"
      },
      "execution_count": 26,
      "outputs": [
        {
          "output_type": "execute_result",
          "data": {
            "text/plain": [
              "<pandas.io.formats.style.Styler at 0x7adbe23c17e0>"
            ],
            "text/html": [
              "<style type=\"text/css\">\n",
              "</style>\n",
              "<table id=\"T_9e161\" class=\"dataframe\">\n",
              "  <thead>\n",
              "    <tr>\n",
              "      <th id=\"T_9e161_level0_col0\" class=\"col_heading level0 col0\" >firstname</th>\n",
              "      <th id=\"T_9e161_level0_col1\" class=\"col_heading level0 col1\" >lastname</th>\n",
              "      <th id=\"T_9e161_level0_col2\" class=\"col_heading level0 col2\" >joindate</th>\n",
              "    </tr>\n",
              "  </thead>\n",
              "  <tbody>\n",
              "    <tr>\n",
              "      <td id=\"T_9e161_row0_col0\" class=\"data row0 col0\" >Madhuri</td>\n",
              "      <td id=\"T_9e161_row0_col1\" class=\"data row0 col1\" >Dikshit</td>\n",
              "      <td id=\"T_9e161_row0_col2\" class=\"data row0 col2\" >2002-04-04</td>\n",
              "    </tr>\n",
              "    <tr>\n",
              "      <td id=\"T_9e161_row1_col0\" class=\"data row1 col0\" >Shahrukh</td>\n",
              "      <td id=\"T_9e161_row1_col1\" class=\"data row1 col1\" >Khan</td>\n",
              "      <td id=\"T_9e161_row1_col2\" class=\"data row1 col2\" >2004-01-03</td>\n",
              "    </tr>\n",
              "    <tr>\n",
              "      <td id=\"T_9e161_row2_col0\" class=\"data row2 col0\" >Virender</td>\n",
              "      <td id=\"T_9e161_row2_col1\" class=\"data row2 col1\" >Sehwag</td>\n",
              "      <td id=\"T_9e161_row2_col2\" class=\"data row2 col2\" >2005-01-02</td>\n",
              "    </tr>\n",
              "  </tbody>\n",
              "</table>\n"
            ]
          },
          "metadata": {},
          "execution_count": 26
        }
      ]
    },
    {
      "cell_type": "code",
      "source": [
        "runSelect(\"select firstname, lastname, jobdesc, salary, deptid from empl where deptid = '10' order by salary desc\")"
      ],
      "metadata": {
        "colab": {
          "base_uri": "https://localhost:8080/",
          "height": 143
        },
        "id": "Iq_7jWr-lRlO",
        "outputId": "6c4132cf-808c-432c-d1c9-51357014418b"
      },
      "execution_count": 27,
      "outputs": [
        {
          "output_type": "execute_result",
          "data": {
            "text/plain": [
              "<pandas.io.formats.style.Styler at 0x7adbe23c26b0>"
            ],
            "text/html": [
              "<style type=\"text/css\">\n",
              "</style>\n",
              "<table id=\"T_5f950\" class=\"dataframe\">\n",
              "  <thead>\n",
              "    <tr>\n",
              "      <th id=\"T_5f950_level0_col0\" class=\"col_heading level0 col0\" >firstname</th>\n",
              "      <th id=\"T_5f950_level0_col1\" class=\"col_heading level0 col1\" >lastname</th>\n",
              "      <th id=\"T_5f950_level0_col2\" class=\"col_heading level0 col2\" >jobdesc</th>\n",
              "      <th id=\"T_5f950_level0_col3\" class=\"col_heading level0 col3\" >salary</th>\n",
              "      <th id=\"T_5f950_level0_col4\" class=\"col_heading level0 col4\" >deptid</th>\n",
              "    </tr>\n",
              "  </thead>\n",
              "  <tbody>\n",
              "    <tr>\n",
              "      <td id=\"T_5f950_row0_col0\" class=\"data row0 col0\" >Rekha</td>\n",
              "      <td id=\"T_5f950_row0_col1\" class=\"data row0 col1\" >Ganesan</td>\n",
              "      <td id=\"T_5f950_row0_col2\" class=\"data row0 col2\" >Director</td>\n",
              "      <td id=\"T_5f950_row0_col3\" class=\"data row0 col3\" >60000</td>\n",
              "      <td id=\"T_5f950_row0_col4\" class=\"data row0 col4\" >10</td>\n",
              "    </tr>\n",
              "    <tr>\n",
              "      <td id=\"T_5f950_row1_col0\" class=\"data row1 col0\" >Amitabh</td>\n",
              "      <td id=\"T_5f950_row1_col1\" class=\"data row1 col1\" >Bacchan</td>\n",
              "      <td id=\"T_5f950_row1_col2\" class=\"data row1 col2\" >Executive</td>\n",
              "      <td id=\"T_5f950_row1_col3\" class=\"data row1 col3\" >50000</td>\n",
              "      <td id=\"T_5f950_row1_col4\" class=\"data row1 col4\" >10</td>\n",
              "    </tr>\n",
              "    <tr>\n",
              "      <td id=\"T_5f950_row2_col0\" class=\"data row2 col0\" >Narayan</td>\n",
              "      <td id=\"T_5f950_row2_col1\" class=\"data row2 col1\" >Karthikeyan</td>\n",
              "      <td id=\"T_5f950_row2_col2\" class=\"data row2 col2\" >Secretary</td>\n",
              "      <td id=\"T_5f950_row2_col3\" class=\"data row2 col3\" >40000</td>\n",
              "      <td id=\"T_5f950_row2_col4\" class=\"data row2 col4\" >10</td>\n",
              "    </tr>\n",
              "  </tbody>\n",
              "</table>\n"
            ]
          },
          "metadata": {},
          "execution_count": 27
        }
      ]
    },
    {
      "cell_type": "markdown",
      "source": [
        "## Logical AND | OR"
      ],
      "metadata": {
        "id": "-JDEmZtsm0o1"
      }
    },
    {
      "cell_type": "code",
      "source": [
        "runSelect(\"select lastname, jobdesc, salary, deptid from empl where deptid = '20'\")"
      ],
      "metadata": {
        "colab": {
          "base_uri": "https://localhost:8080/",
          "height": 143
        },
        "id": "rli0DBhIm54M",
        "outputId": "577577e6-a109-4634-e963-19a46e53a0b1"
      },
      "execution_count": 28,
      "outputs": [
        {
          "output_type": "execute_result",
          "data": {
            "text/plain": [
              "<pandas.io.formats.style.Styler at 0x7adbe23c3670>"
            ],
            "text/html": [
              "<style type=\"text/css\">\n",
              "</style>\n",
              "<table id=\"T_26ed4\" class=\"dataframe\">\n",
              "  <thead>\n",
              "    <tr>\n",
              "      <th id=\"T_26ed4_level0_col0\" class=\"col_heading level0 col0\" >lastname</th>\n",
              "      <th id=\"T_26ed4_level0_col1\" class=\"col_heading level0 col1\" >jobdesc</th>\n",
              "      <th id=\"T_26ed4_level0_col2\" class=\"col_heading level0 col2\" >salary</th>\n",
              "      <th id=\"T_26ed4_level0_col3\" class=\"col_heading level0 col3\" >deptid</th>\n",
              "    </tr>\n",
              "  </thead>\n",
              "  <tbody>\n",
              "    <tr>\n",
              "      <td id=\"T_26ed4_row0_col0\" class=\"data row0 col0\" >Dikshit</td>\n",
              "      <td id=\"T_26ed4_row0_col1\" class=\"data row0 col1\" >Clerk</td>\n",
              "      <td id=\"T_26ed4_row0_col2\" class=\"data row0 col2\" >10000</td>\n",
              "      <td id=\"T_26ed4_row0_col3\" class=\"data row0 col3\" >20</td>\n",
              "    </tr>\n",
              "    <tr>\n",
              "      <td id=\"T_26ed4_row1_col0\" class=\"data row1 col0\" >Khan</td>\n",
              "      <td id=\"T_26ed4_row1_col1\" class=\"data row1 col1\" >Manager</td>\n",
              "      <td id=\"T_26ed4_row1_col2\" class=\"data row1 col2\" >30000</td>\n",
              "      <td id=\"T_26ed4_row1_col3\" class=\"data row1 col3\" >20</td>\n",
              "    </tr>\n",
              "    <tr>\n",
              "      <td id=\"T_26ed4_row2_col0\" class=\"data row2 col0\" >Sehwag</td>\n",
              "      <td id=\"T_26ed4_row2_col1\" class=\"data row2 col1\" >Cus_Rep</td>\n",
              "      <td id=\"T_26ed4_row2_col2\" class=\"data row2 col2\" >15000</td>\n",
              "      <td id=\"T_26ed4_row2_col3\" class=\"data row2 col3\" >20</td>\n",
              "    </tr>\n",
              "  </tbody>\n",
              "</table>\n"
            ]
          },
          "metadata": {},
          "execution_count": 28
        }
      ]
    },
    {
      "cell_type": "code",
      "source": [
        "runSelect(\"select lastname, jobdesc, salary, deptid from empl where deptid = '20' and salary > 10000\")"
      ],
      "metadata": {
        "colab": {
          "base_uri": "https://localhost:8080/",
          "height": 112
        },
        "id": "wHIJoUGqnuwa",
        "outputId": "d2e65ff1-5648-4fcc-f457-93797cb0fe2b"
      },
      "execution_count": 29,
      "outputs": [
        {
          "output_type": "execute_result",
          "data": {
            "text/plain": [
              "<pandas.io.formats.style.Styler at 0x7adbe23cf250>"
            ],
            "text/html": [
              "<style type=\"text/css\">\n",
              "</style>\n",
              "<table id=\"T_95b1f\" class=\"dataframe\">\n",
              "  <thead>\n",
              "    <tr>\n",
              "      <th id=\"T_95b1f_level0_col0\" class=\"col_heading level0 col0\" >lastname</th>\n",
              "      <th id=\"T_95b1f_level0_col1\" class=\"col_heading level0 col1\" >jobdesc</th>\n",
              "      <th id=\"T_95b1f_level0_col2\" class=\"col_heading level0 col2\" >salary</th>\n",
              "      <th id=\"T_95b1f_level0_col3\" class=\"col_heading level0 col3\" >deptid</th>\n",
              "    </tr>\n",
              "  </thead>\n",
              "  <tbody>\n",
              "    <tr>\n",
              "      <td id=\"T_95b1f_row0_col0\" class=\"data row0 col0\" >Khan</td>\n",
              "      <td id=\"T_95b1f_row0_col1\" class=\"data row0 col1\" >Manager</td>\n",
              "      <td id=\"T_95b1f_row0_col2\" class=\"data row0 col2\" >30000</td>\n",
              "      <td id=\"T_95b1f_row0_col3\" class=\"data row0 col3\" >20</td>\n",
              "    </tr>\n",
              "    <tr>\n",
              "      <td id=\"T_95b1f_row1_col0\" class=\"data row1 col0\" >Sehwag</td>\n",
              "      <td id=\"T_95b1f_row1_col1\" class=\"data row1 col1\" >Cus_Rep</td>\n",
              "      <td id=\"T_95b1f_row1_col2\" class=\"data row1 col2\" >15000</td>\n",
              "      <td id=\"T_95b1f_row1_col3\" class=\"data row1 col3\" >20</td>\n",
              "    </tr>\n",
              "  </tbody>\n",
              "</table>\n"
            ]
          },
          "metadata": {},
          "execution_count": 29
        }
      ]
    },
    {
      "cell_type": "code",
      "source": [
        "runSelect(\"select lastname, jobdesc, salary, deptid from empl where deptid = '20' and salary > 10000 and jobdesc = 'Clerk'\")"
      ],
      "metadata": {
        "colab": {
          "base_uri": "https://localhost:8080/"
        },
        "id": "fnB8p8-EnzH2",
        "outputId": "5384fb07-fd3c-459b-847e-6e6b0bd1612b"
      },
      "execution_count": 30,
      "outputs": [
        {
          "output_type": "stream",
          "name": "stdout",
          "text": [
            "no records found\n"
          ]
        }
      ]
    },
    {
      "cell_type": "code",
      "source": [
        "runSelect(\"select lastname, jobdesc, deptid from empl where deptid = '70'\")"
      ],
      "metadata": {
        "colab": {
          "base_uri": "https://localhost:8080/",
          "height": 81
        },
        "id": "uEKUIgOMqtLw",
        "outputId": "e2953424-8d49-4ba8-8dee-418c0940be82"
      },
      "execution_count": 31,
      "outputs": [
        {
          "output_type": "execute_result",
          "data": {
            "text/plain": [
              "<pandas.io.formats.style.Styler at 0x7adbe23c2c20>"
            ],
            "text/html": [
              "<style type=\"text/css\">\n",
              "</style>\n",
              "<table id=\"T_64448\" class=\"dataframe\">\n",
              "  <thead>\n",
              "    <tr>\n",
              "      <th id=\"T_64448_level0_col0\" class=\"col_heading level0 col0\" >lastname</th>\n",
              "      <th id=\"T_64448_level0_col1\" class=\"col_heading level0 col1\" >jobdesc</th>\n",
              "      <th id=\"T_64448_level0_col2\" class=\"col_heading level0 col2\" >deptid</th>\n",
              "    </tr>\n",
              "  </thead>\n",
              "  <tbody>\n",
              "    <tr>\n",
              "      <td id=\"T_64448_row0_col0\" class=\"data row0 col0\" >Sunil</td>\n",
              "      <td id=\"T_64448_row0_col1\" class=\"data row0 col1\" >Dy Manager</td>\n",
              "      <td id=\"T_64448_row0_col2\" class=\"data row0 col2\" >70</td>\n",
              "    </tr>\n",
              "  </tbody>\n",
              "</table>\n"
            ]
          },
          "metadata": {},
          "execution_count": 31
        }
      ]
    },
    {
      "cell_type": "code",
      "source": [
        "runSelect(\"select lastname, jobdesc, deptid from empl where deptid = '70' or jobdesc like '%Manager'\")"
      ],
      "metadata": {
        "colab": {
          "base_uri": "https://localhost:8080/",
          "height": 175
        },
        "id": "Ne0eLRV3qyTn",
        "outputId": "82dcd7fc-f5cb-455b-9110-cf2854183700"
      },
      "execution_count": 32,
      "outputs": [
        {
          "output_type": "execute_result",
          "data": {
            "text/plain": [
              "<pandas.io.formats.style.Styler at 0x7adbe23cce20>"
            ],
            "text/html": [
              "<style type=\"text/css\">\n",
              "</style>\n",
              "<table id=\"T_7f62a\" class=\"dataframe\">\n",
              "  <thead>\n",
              "    <tr>\n",
              "      <th id=\"T_7f62a_level0_col0\" class=\"col_heading level0 col0\" >lastname</th>\n",
              "      <th id=\"T_7f62a_level0_col1\" class=\"col_heading level0 col1\" >jobdesc</th>\n",
              "      <th id=\"T_7f62a_level0_col2\" class=\"col_heading level0 col2\" >deptid</th>\n",
              "    </tr>\n",
              "  </thead>\n",
              "  <tbody>\n",
              "    <tr>\n",
              "      <td id=\"T_7f62a_row0_col0\" class=\"data row0 col0\" >Mukherjee</td>\n",
              "      <td id=\"T_7f62a_row0_col1\" class=\"data row0 col1\" >Manager</td>\n",
              "      <td id=\"T_7f62a_row0_col2\" class=\"data row0 col2\" >40</td>\n",
              "    </tr>\n",
              "    <tr>\n",
              "      <td id=\"T_7f62a_row1_col0\" class=\"data row1 col0\" >Khan</td>\n",
              "      <td id=\"T_7f62a_row1_col1\" class=\"data row1 col1\" >Manager</td>\n",
              "      <td id=\"T_7f62a_row1_col2\" class=\"data row1 col2\" >20</td>\n",
              "    </tr>\n",
              "    <tr>\n",
              "      <td id=\"T_7f62a_row2_col0\" class=\"data row2 col0\" >Dravid</td>\n",
              "      <td id=\"T_7f62a_row2_col1\" class=\"data row2 col1\" >Sr Manager</td>\n",
              "      <td id=\"T_7f62a_row2_col2\" class=\"data row2 col2\" >30</td>\n",
              "    </tr>\n",
              "    <tr>\n",
              "      <td id=\"T_7f62a_row3_col0\" class=\"data row3 col0\" >Sunil</td>\n",
              "      <td id=\"T_7f62a_row3_col1\" class=\"data row3 col1\" >Dy Manager</td>\n",
              "      <td id=\"T_7f62a_row3_col2\" class=\"data row3 col2\" >70</td>\n",
              "    </tr>\n",
              "  </tbody>\n",
              "</table>\n"
            ]
          },
          "metadata": {},
          "execution_count": 32
        }
      ]
    },
    {
      "cell_type": "code",
      "source": [
        "runSelect(\"select lastname, jobdesc, deptid from empl where deptid = '70' or jobdesc like '%Manager' or lastname = 'Dikshit'\")"
      ],
      "metadata": {
        "colab": {
          "base_uri": "https://localhost:8080/",
          "height": 206
        },
        "id": "aR3eNz7xq8Xo",
        "outputId": "c3218d1d-330d-40c0-b7ad-bab6f9698d54"
      },
      "execution_count": 33,
      "outputs": [
        {
          "output_type": "execute_result",
          "data": {
            "text/plain": [
              "<pandas.io.formats.style.Styler at 0x7adbe23cee30>"
            ],
            "text/html": [
              "<style type=\"text/css\">\n",
              "</style>\n",
              "<table id=\"T_3264c\" class=\"dataframe\">\n",
              "  <thead>\n",
              "    <tr>\n",
              "      <th id=\"T_3264c_level0_col0\" class=\"col_heading level0 col0\" >lastname</th>\n",
              "      <th id=\"T_3264c_level0_col1\" class=\"col_heading level0 col1\" >jobdesc</th>\n",
              "      <th id=\"T_3264c_level0_col2\" class=\"col_heading level0 col2\" >deptid</th>\n",
              "    </tr>\n",
              "  </thead>\n",
              "  <tbody>\n",
              "    <tr>\n",
              "      <td id=\"T_3264c_row0_col0\" class=\"data row0 col0\" >Mukherjee</td>\n",
              "      <td id=\"T_3264c_row0_col1\" class=\"data row0 col1\" >Manager</td>\n",
              "      <td id=\"T_3264c_row0_col2\" class=\"data row0 col2\" >40</td>\n",
              "    </tr>\n",
              "    <tr>\n",
              "      <td id=\"T_3264c_row1_col0\" class=\"data row1 col0\" >Dikshit</td>\n",
              "      <td id=\"T_3264c_row1_col1\" class=\"data row1 col1\" >Clerk</td>\n",
              "      <td id=\"T_3264c_row1_col2\" class=\"data row1 col2\" >20</td>\n",
              "    </tr>\n",
              "    <tr>\n",
              "      <td id=\"T_3264c_row2_col0\" class=\"data row2 col0\" >Khan</td>\n",
              "      <td id=\"T_3264c_row2_col1\" class=\"data row2 col1\" >Manager</td>\n",
              "      <td id=\"T_3264c_row2_col2\" class=\"data row2 col2\" >20</td>\n",
              "    </tr>\n",
              "    <tr>\n",
              "      <td id=\"T_3264c_row3_col0\" class=\"data row3 col0\" >Dravid</td>\n",
              "      <td id=\"T_3264c_row3_col1\" class=\"data row3 col1\" >Sr Manager</td>\n",
              "      <td id=\"T_3264c_row3_col2\" class=\"data row3 col2\" >30</td>\n",
              "    </tr>\n",
              "    <tr>\n",
              "      <td id=\"T_3264c_row4_col0\" class=\"data row4 col0\" >Sunil</td>\n",
              "      <td id=\"T_3264c_row4_col1\" class=\"data row4 col1\" >Dy Manager</td>\n",
              "      <td id=\"T_3264c_row4_col2\" class=\"data row4 col2\" >70</td>\n",
              "    </tr>\n",
              "  </tbody>\n",
              "</table>\n"
            ]
          },
          "metadata": {},
          "execution_count": 33
        }
      ]
    },
    {
      "cell_type": "code",
      "source": [
        "runSelect(\"select lastname, jobdesc, salary from empl where jobdesc = 'Cus_Rep' or jobdesc = 'Clerk' and salary < 16000\")"
      ],
      "metadata": {
        "colab": {
          "base_uri": "https://localhost:8080/",
          "height": 238
        },
        "id": "Ov0HErC0txm4",
        "outputId": "a5237e27-bd88-4744-e5fe-42f4b22e74f9"
      },
      "execution_count": 34,
      "outputs": [
        {
          "output_type": "execute_result",
          "data": {
            "text/plain": [
              "<pandas.io.formats.style.Styler at 0x7adbe23cf3a0>"
            ],
            "text/html": [
              "<style type=\"text/css\">\n",
              "</style>\n",
              "<table id=\"T_53c34\" class=\"dataframe\">\n",
              "  <thead>\n",
              "    <tr>\n",
              "      <th id=\"T_53c34_level0_col0\" class=\"col_heading level0 col0\" >lastname</th>\n",
              "      <th id=\"T_53c34_level0_col1\" class=\"col_heading level0 col1\" >jobdesc</th>\n",
              "      <th id=\"T_53c34_level0_col2\" class=\"col_heading level0 col2\" >salary</th>\n",
              "    </tr>\n",
              "  </thead>\n",
              "  <tbody>\n",
              "    <tr>\n",
              "      <td id=\"T_53c34_row0_col0\" class=\"data row0 col0\" >Dikshit</td>\n",
              "      <td id=\"T_53c34_row0_col1\" class=\"data row0 col1\" >Clerk</td>\n",
              "      <td id=\"T_53c34_row0_col2\" class=\"data row0 col2\" >10000</td>\n",
              "    </tr>\n",
              "    <tr>\n",
              "      <td id=\"T_53c34_row1_col0\" class=\"data row1 col0\" >Sehwag</td>\n",
              "      <td id=\"T_53c34_row1_col1\" class=\"data row1 col1\" >Cus_Rep</td>\n",
              "      <td id=\"T_53c34_row1_col2\" class=\"data row1 col2\" >15000</td>\n",
              "    </tr>\n",
              "    <tr>\n",
              "      <td id=\"T_53c34_row2_col0\" class=\"data row2 col0\" >Dhoni</td>\n",
              "      <td id=\"T_53c34_row2_col1\" class=\"data row2 col1\" >Clerk</td>\n",
              "      <td id=\"T_53c34_row2_col2\" class=\"data row2 col2\" >9000</td>\n",
              "    </tr>\n",
              "    <tr>\n",
              "      <td id=\"T_53c34_row3_col0\" class=\"data row3 col0\" >Dalmia</td>\n",
              "      <td id=\"T_53c34_row3_col1\" class=\"data row3 col1\" >Clerk</td>\n",
              "      <td id=\"T_53c34_row3_col2\" class=\"data row3 col2\" >12000</td>\n",
              "    </tr>\n",
              "    <tr>\n",
              "      <td id=\"T_53c34_row4_col0\" class=\"data row4 col0\" >Ganguly</td>\n",
              "      <td id=\"T_53c34_row4_col1\" class=\"data row4 col1\" >Cus_Rep</td>\n",
              "      <td id=\"T_53c34_row4_col2\" class=\"data row4 col2\" >20000</td>\n",
              "    </tr>\n",
              "    <tr>\n",
              "      <td id=\"T_53c34_row5_col0\" class=\"data row5 col0\" >Mirza</td>\n",
              "      <td id=\"T_53c34_row5_col1\" class=\"data row5 col1\" >Cus_Rep</td>\n",
              "      <td id=\"T_53c34_row5_col2\" class=\"data row5 col2\" >25000</td>\n",
              "    </tr>\n",
              "  </tbody>\n",
              "</table>\n"
            ]
          },
          "metadata": {},
          "execution_count": 34
        }
      ]
    },
    {
      "cell_type": "code",
      "source": [
        "runSelect(\"select lastname, jobdesc, salary from empl where (jobdesc = 'Cus_Rep' or jobdesc = 'Clerk') and salary < 16000\")"
      ],
      "metadata": {
        "colab": {
          "base_uri": "https://localhost:8080/",
          "height": 175
        },
        "id": "g7hbzjdxuOt6",
        "outputId": "5c31fe5d-acc1-4ace-8033-fbfb0d445366"
      },
      "execution_count": 35,
      "outputs": [
        {
          "output_type": "execute_result",
          "data": {
            "text/plain": [
              "<pandas.io.formats.style.Styler at 0x7adbe23cf430>"
            ],
            "text/html": [
              "<style type=\"text/css\">\n",
              "</style>\n",
              "<table id=\"T_40d09\" class=\"dataframe\">\n",
              "  <thead>\n",
              "    <tr>\n",
              "      <th id=\"T_40d09_level0_col0\" class=\"col_heading level0 col0\" >lastname</th>\n",
              "      <th id=\"T_40d09_level0_col1\" class=\"col_heading level0 col1\" >jobdesc</th>\n",
              "      <th id=\"T_40d09_level0_col2\" class=\"col_heading level0 col2\" >salary</th>\n",
              "    </tr>\n",
              "  </thead>\n",
              "  <tbody>\n",
              "    <tr>\n",
              "      <td id=\"T_40d09_row0_col0\" class=\"data row0 col0\" >Dikshit</td>\n",
              "      <td id=\"T_40d09_row0_col1\" class=\"data row0 col1\" >Clerk</td>\n",
              "      <td id=\"T_40d09_row0_col2\" class=\"data row0 col2\" >10000</td>\n",
              "    </tr>\n",
              "    <tr>\n",
              "      <td id=\"T_40d09_row1_col0\" class=\"data row1 col0\" >Sehwag</td>\n",
              "      <td id=\"T_40d09_row1_col1\" class=\"data row1 col1\" >Cus_Rep</td>\n",
              "      <td id=\"T_40d09_row1_col2\" class=\"data row1 col2\" >15000</td>\n",
              "    </tr>\n",
              "    <tr>\n",
              "      <td id=\"T_40d09_row2_col0\" class=\"data row2 col0\" >Dhoni</td>\n",
              "      <td id=\"T_40d09_row2_col1\" class=\"data row2 col1\" >Clerk</td>\n",
              "      <td id=\"T_40d09_row2_col2\" class=\"data row2 col2\" >9000</td>\n",
              "    </tr>\n",
              "    <tr>\n",
              "      <td id=\"T_40d09_row3_col0\" class=\"data row3 col0\" >Dalmia</td>\n",
              "      <td id=\"T_40d09_row3_col1\" class=\"data row3 col1\" >Clerk</td>\n",
              "      <td id=\"T_40d09_row3_col2\" class=\"data row3 col2\" >12000</td>\n",
              "    </tr>\n",
              "  </tbody>\n",
              "</table>\n"
            ]
          },
          "metadata": {},
          "execution_count": 35
        }
      ]
    },
    {
      "cell_type": "markdown",
      "source": [
        "# Single Row Functions"
      ],
      "metadata": {
        "id": "ND-8LYQcxsG2"
      }
    },
    {
      "cell_type": "code",
      "source": [
        "runSelect(\"select lastname, deptid, salary, comm, salary+salary*comm payout from empl where deptid = '20'\")"
      ],
      "metadata": {
        "colab": {
          "base_uri": "https://localhost:8080/",
          "height": 143
        },
        "id": "s71weE_hyDwf",
        "outputId": "f73e39e4-1fa1-4276-ecb1-a4d199b719d9"
      },
      "execution_count": 36,
      "outputs": [
        {
          "output_type": "execute_result",
          "data": {
            "text/plain": [
              "<pandas.io.formats.style.Styler at 0x7adbe23cd660>"
            ],
            "text/html": [
              "<style type=\"text/css\">\n",
              "</style>\n",
              "<table id=\"T_25c5b\" class=\"dataframe\">\n",
              "  <thead>\n",
              "    <tr>\n",
              "      <th id=\"T_25c5b_level0_col0\" class=\"col_heading level0 col0\" >lastname</th>\n",
              "      <th id=\"T_25c5b_level0_col1\" class=\"col_heading level0 col1\" >deptid</th>\n",
              "      <th id=\"T_25c5b_level0_col2\" class=\"col_heading level0 col2\" >salary</th>\n",
              "      <th id=\"T_25c5b_level0_col3\" class=\"col_heading level0 col3\" >comm</th>\n",
              "      <th id=\"T_25c5b_level0_col4\" class=\"col_heading level0 col4\" >payout</th>\n",
              "    </tr>\n",
              "  </thead>\n",
              "  <tbody>\n",
              "    <tr>\n",
              "      <td id=\"T_25c5b_row0_col0\" class=\"data row0 col0\" >Dikshit</td>\n",
              "      <td id=\"T_25c5b_row0_col1\" class=\"data row0 col1\" >20</td>\n",
              "      <td id=\"T_25c5b_row0_col2\" class=\"data row0 col2\" >10000</td>\n",
              "      <td id=\"T_25c5b_row0_col3\" class=\"data row0 col3\" >0.02</td>\n",
              "      <td id=\"T_25c5b_row0_col4\" class=\"data row0 col4\" >10200.00</td>\n",
              "    </tr>\n",
              "    <tr>\n",
              "      <td id=\"T_25c5b_row1_col0\" class=\"data row1 col0\" >Khan</td>\n",
              "      <td id=\"T_25c5b_row1_col1\" class=\"data row1 col1\" >20</td>\n",
              "      <td id=\"T_25c5b_row1_col2\" class=\"data row1 col2\" >30000</td>\n",
              "      <td id=\"T_25c5b_row1_col3\" class=\"data row1 col3\" >0.07</td>\n",
              "      <td id=\"T_25c5b_row1_col4\" class=\"data row1 col4\" >32100.00</td>\n",
              "    </tr>\n",
              "    <tr>\n",
              "      <td id=\"T_25c5b_row2_col0\" class=\"data row2 col0\" >Sehwag</td>\n",
              "      <td id=\"T_25c5b_row2_col1\" class=\"data row2 col1\" >20</td>\n",
              "      <td id=\"T_25c5b_row2_col2\" class=\"data row2 col2\" >15000</td>\n",
              "      <td id=\"T_25c5b_row2_col3\" class=\"data row2 col3\" >0.05</td>\n",
              "      <td id=\"T_25c5b_row2_col4\" class=\"data row2 col4\" >15750.00</td>\n",
              "    </tr>\n",
              "  </tbody>\n",
              "</table>\n"
            ]
          },
          "metadata": {},
          "execution_count": 36
        }
      ]
    },
    {
      "cell_type": "code",
      "source": [
        "runSelect(\"select lastname, firstname, deptid, substring(firstname,1,3) nick from empl where deptid = '20'\")"
      ],
      "metadata": {
        "colab": {
          "base_uri": "https://localhost:8080/",
          "height": 143
        },
        "id": "I3rkoZrYyb_P",
        "outputId": "56eb5d91-f733-4cec-dda5-12badd34608d"
      },
      "execution_count": 37,
      "outputs": [
        {
          "output_type": "execute_result",
          "data": {
            "text/plain": [
              "<pandas.io.formats.style.Styler at 0x7adbe23cdae0>"
            ],
            "text/html": [
              "<style type=\"text/css\">\n",
              "</style>\n",
              "<table id=\"T_29ddc\" class=\"dataframe\">\n",
              "  <thead>\n",
              "    <tr>\n",
              "      <th id=\"T_29ddc_level0_col0\" class=\"col_heading level0 col0\" >lastname</th>\n",
              "      <th id=\"T_29ddc_level0_col1\" class=\"col_heading level0 col1\" >firstname</th>\n",
              "      <th id=\"T_29ddc_level0_col2\" class=\"col_heading level0 col2\" >deptid</th>\n",
              "      <th id=\"T_29ddc_level0_col3\" class=\"col_heading level0 col3\" >nick</th>\n",
              "    </tr>\n",
              "  </thead>\n",
              "  <tbody>\n",
              "    <tr>\n",
              "      <td id=\"T_29ddc_row0_col0\" class=\"data row0 col0\" >Dikshit</td>\n",
              "      <td id=\"T_29ddc_row0_col1\" class=\"data row0 col1\" >Madhuri</td>\n",
              "      <td id=\"T_29ddc_row0_col2\" class=\"data row0 col2\" >20</td>\n",
              "      <td id=\"T_29ddc_row0_col3\" class=\"data row0 col3\" >Mad</td>\n",
              "    </tr>\n",
              "    <tr>\n",
              "      <td id=\"T_29ddc_row1_col0\" class=\"data row1 col0\" >Khan</td>\n",
              "      <td id=\"T_29ddc_row1_col1\" class=\"data row1 col1\" >Shahrukh</td>\n",
              "      <td id=\"T_29ddc_row1_col2\" class=\"data row1 col2\" >20</td>\n",
              "      <td id=\"T_29ddc_row1_col3\" class=\"data row1 col3\" >Sha</td>\n",
              "    </tr>\n",
              "    <tr>\n",
              "      <td id=\"T_29ddc_row2_col0\" class=\"data row2 col0\" >Sehwag</td>\n",
              "      <td id=\"T_29ddc_row2_col1\" class=\"data row2 col1\" >Virender</td>\n",
              "      <td id=\"T_29ddc_row2_col2\" class=\"data row2 col2\" >20</td>\n",
              "      <td id=\"T_29ddc_row2_col3\" class=\"data row2 col3\" >Vir</td>\n",
              "    </tr>\n",
              "  </tbody>\n",
              "</table>\n"
            ]
          },
          "metadata": {},
          "execution_count": 37
        }
      ]
    },
    {
      "cell_type": "code",
      "source": [
        "runSelect(\"select lastname, firstname, deptid, concat('\\\"',substring(firstname,2,3),'\\\" ',lastname) nick from empl where deptid = '20'\")"
      ],
      "metadata": {
        "colab": {
          "base_uri": "https://localhost:8080/",
          "height": 143
        },
        "id": "xNQl1KpSzIQc",
        "outputId": "8e1d68df-9416-4ce8-cf8a-8554842f589f"
      },
      "execution_count": 38,
      "outputs": [
        {
          "output_type": "execute_result",
          "data": {
            "text/plain": [
              "<pandas.io.formats.style.Styler at 0x7adbe23ce080>"
            ],
            "text/html": [
              "<style type=\"text/css\">\n",
              "</style>\n",
              "<table id=\"T_cd8fc\" class=\"dataframe\">\n",
              "  <thead>\n",
              "    <tr>\n",
              "      <th id=\"T_cd8fc_level0_col0\" class=\"col_heading level0 col0\" >lastname</th>\n",
              "      <th id=\"T_cd8fc_level0_col1\" class=\"col_heading level0 col1\" >firstname</th>\n",
              "      <th id=\"T_cd8fc_level0_col2\" class=\"col_heading level0 col2\" >deptid</th>\n",
              "      <th id=\"T_cd8fc_level0_col3\" class=\"col_heading level0 col3\" >nick</th>\n",
              "    </tr>\n",
              "  </thead>\n",
              "  <tbody>\n",
              "    <tr>\n",
              "      <td id=\"T_cd8fc_row0_col0\" class=\"data row0 col0\" >Dikshit</td>\n",
              "      <td id=\"T_cd8fc_row0_col1\" class=\"data row0 col1\" >Madhuri</td>\n",
              "      <td id=\"T_cd8fc_row0_col2\" class=\"data row0 col2\" >20</td>\n",
              "      <td id=\"T_cd8fc_row0_col3\" class=\"data row0 col3\" >\"adh\" Dikshit</td>\n",
              "    </tr>\n",
              "    <tr>\n",
              "      <td id=\"T_cd8fc_row1_col0\" class=\"data row1 col0\" >Khan</td>\n",
              "      <td id=\"T_cd8fc_row1_col1\" class=\"data row1 col1\" >Shahrukh</td>\n",
              "      <td id=\"T_cd8fc_row1_col2\" class=\"data row1 col2\" >20</td>\n",
              "      <td id=\"T_cd8fc_row1_col3\" class=\"data row1 col3\" >\"hah\" Khan</td>\n",
              "    </tr>\n",
              "    <tr>\n",
              "      <td id=\"T_cd8fc_row2_col0\" class=\"data row2 col0\" >Sehwag</td>\n",
              "      <td id=\"T_cd8fc_row2_col1\" class=\"data row2 col1\" >Virender</td>\n",
              "      <td id=\"T_cd8fc_row2_col2\" class=\"data row2 col2\" >20</td>\n",
              "      <td id=\"T_cd8fc_row2_col3\" class=\"data row2 col3\" >\"ire\" Sehwag</td>\n",
              "    </tr>\n",
              "  </tbody>\n",
              "</table>\n"
            ]
          },
          "metadata": {},
          "execution_count": 38
        }
      ]
    },
    {
      "cell_type": "code",
      "source": [
        "runSelect(\"select LastName, Current_Date,JoinDate, to_char(JoinDate,'Day') JoinDay, to_char(JoinDate,'DD-mon-YY') JoinDate2, \\\n",
        "Current_Date-JoinDate DaysSince from Empl\")\n",
        "\n",
        "#https://blog.quest.com/exploring-postgres-date-formats-and-their-different-functions/\n"
      ],
      "metadata": {
        "id": "37Rjgkxz-BP0",
        "outputId": "24aaf3b6-1950-467a-bd81-f180c7dba66c",
        "colab": {
          "base_uri": "https://localhost:8080/",
          "height": 457
        }
      },
      "execution_count": 39,
      "outputs": [
        {
          "output_type": "execute_result",
          "data": {
            "text/plain": [
              "<pandas.io.formats.style.Styler at 0x7adbe23cf820>"
            ],
            "text/html": [
              "<style type=\"text/css\">\n",
              "</style>\n",
              "<table id=\"T_254f6\" class=\"dataframe\">\n",
              "  <thead>\n",
              "    <tr>\n",
              "      <th id=\"T_254f6_level0_col0\" class=\"col_heading level0 col0\" >lastname</th>\n",
              "      <th id=\"T_254f6_level0_col1\" class=\"col_heading level0 col1\" >current_date</th>\n",
              "      <th id=\"T_254f6_level0_col2\" class=\"col_heading level0 col2\" >joindate</th>\n",
              "      <th id=\"T_254f6_level0_col3\" class=\"col_heading level0 col3\" >joinday</th>\n",
              "      <th id=\"T_254f6_level0_col4\" class=\"col_heading level0 col4\" >joindate2</th>\n",
              "      <th id=\"T_254f6_level0_col5\" class=\"col_heading level0 col5\" >dayssince</th>\n",
              "    </tr>\n",
              "  </thead>\n",
              "  <tbody>\n",
              "    <tr>\n",
              "      <td id=\"T_254f6_row0_col0\" class=\"data row0 col0\" >Bacchan</td>\n",
              "      <td id=\"T_254f6_row0_col1\" class=\"data row0 col1\" >2024-01-16</td>\n",
              "      <td id=\"T_254f6_row0_col2\" class=\"data row0 col2\" >2003-03-10</td>\n",
              "      <td id=\"T_254f6_row0_col3\" class=\"data row0 col3\" >Monday   </td>\n",
              "      <td id=\"T_254f6_row0_col4\" class=\"data row0 col4\" >10-mar-03</td>\n",
              "      <td id=\"T_254f6_row0_col5\" class=\"data row0 col5\" >7617</td>\n",
              "    </tr>\n",
              "    <tr>\n",
              "      <td id=\"T_254f6_row1_col0\" class=\"data row1 col0\" >Mukherjee</td>\n",
              "      <td id=\"T_254f6_row1_col1\" class=\"data row1 col1\" >2024-01-16</td>\n",
              "      <td id=\"T_254f6_row1_col2\" class=\"data row1 col2\" >2005-05-04</td>\n",
              "      <td id=\"T_254f6_row1_col3\" class=\"data row1 col3\" >Wednesday</td>\n",
              "      <td id=\"T_254f6_row1_col4\" class=\"data row1 col4\" >04-may-05</td>\n",
              "      <td id=\"T_254f6_row1_col5\" class=\"data row1 col5\" >6831</td>\n",
              "    </tr>\n",
              "    <tr>\n",
              "      <td id=\"T_254f6_row2_col0\" class=\"data row2 col0\" >Dikshit</td>\n",
              "      <td id=\"T_254f6_row2_col1\" class=\"data row2 col1\" >2024-01-16</td>\n",
              "      <td id=\"T_254f6_row2_col2\" class=\"data row2 col2\" >2002-04-04</td>\n",
              "      <td id=\"T_254f6_row2_col3\" class=\"data row2 col3\" >Thursday </td>\n",
              "      <td id=\"T_254f6_row2_col4\" class=\"data row2 col4\" >04-apr-02</td>\n",
              "      <td id=\"T_254f6_row2_col5\" class=\"data row2 col5\" >7957</td>\n",
              "    </tr>\n",
              "    <tr>\n",
              "      <td id=\"T_254f6_row3_col0\" class=\"data row3 col0\" >Khan</td>\n",
              "      <td id=\"T_254f6_row3_col1\" class=\"data row3 col1\" >2024-01-16</td>\n",
              "      <td id=\"T_254f6_row3_col2\" class=\"data row3 col2\" >2004-01-03</td>\n",
              "      <td id=\"T_254f6_row3_col3\" class=\"data row3 col3\" >Saturday </td>\n",
              "      <td id=\"T_254f6_row3_col4\" class=\"data row3 col4\" >03-jan-04</td>\n",
              "      <td id=\"T_254f6_row3_col5\" class=\"data row3 col5\" >7318</td>\n",
              "    </tr>\n",
              "    <tr>\n",
              "      <td id=\"T_254f6_row4_col0\" class=\"data row4 col0\" >Sehwag</td>\n",
              "      <td id=\"T_254f6_row4_col1\" class=\"data row4 col1\" >2024-01-16</td>\n",
              "      <td id=\"T_254f6_row4_col2\" class=\"data row4 col2\" >2005-01-02</td>\n",
              "      <td id=\"T_254f6_row4_col3\" class=\"data row4 col3\" >Sunday   </td>\n",
              "      <td id=\"T_254f6_row4_col4\" class=\"data row4 col4\" >02-jan-05</td>\n",
              "      <td id=\"T_254f6_row4_col5\" class=\"data row4 col5\" >6953</td>\n",
              "    </tr>\n",
              "    <tr>\n",
              "      <td id=\"T_254f6_row5_col0\" class=\"data row5 col0\" >Dhoni</td>\n",
              "      <td id=\"T_254f6_row5_col1\" class=\"data row5 col1\" >2024-01-16</td>\n",
              "      <td id=\"T_254f6_row5_col2\" class=\"data row5 col2\" >2004-10-09</td>\n",
              "      <td id=\"T_254f6_row5_col3\" class=\"data row5 col3\" >Saturday </td>\n",
              "      <td id=\"T_254f6_row5_col4\" class=\"data row5 col4\" >09-oct-04</td>\n",
              "      <td id=\"T_254f6_row5_col5\" class=\"data row5 col5\" >7038</td>\n",
              "    </tr>\n",
              "    <tr>\n",
              "      <td id=\"T_254f6_row6_col0\" class=\"data row6 col0\" >Dravid</td>\n",
              "      <td id=\"T_254f6_row6_col1\" class=\"data row6 col1\" >2024-01-16</td>\n",
              "      <td id=\"T_254f6_row6_col2\" class=\"data row6 col2\" >2000-06-04</td>\n",
              "      <td id=\"T_254f6_row6_col3\" class=\"data row6 col3\" >Sunday   </td>\n",
              "      <td id=\"T_254f6_row6_col4\" class=\"data row6 col4\" >04-jun-00</td>\n",
              "      <td id=\"T_254f6_row6_col5\" class=\"data row6 col5\" >8626</td>\n",
              "    </tr>\n",
              "    <tr>\n",
              "      <td id=\"T_254f6_row7_col0\" class=\"data row7 col0\" >Dalmia</td>\n",
              "      <td id=\"T_254f6_row7_col1\" class=\"data row7 col1\" >2024-01-16</td>\n",
              "      <td id=\"T_254f6_row7_col2\" class=\"data row7 col2\" >2001-07-01</td>\n",
              "      <td id=\"T_254f6_row7_col3\" class=\"data row7 col3\" >Sunday   </td>\n",
              "      <td id=\"T_254f6_row7_col4\" class=\"data row7 col4\" >01-jul-01</td>\n",
              "      <td id=\"T_254f6_row7_col5\" class=\"data row7 col5\" >8234</td>\n",
              "    </tr>\n",
              "    <tr>\n",
              "      <td id=\"T_254f6_row8_col0\" class=\"data row8 col0\" >Ganguly</td>\n",
              "      <td id=\"T_254f6_row8_col1\" class=\"data row8 col1\" >2024-01-16</td>\n",
              "      <td id=\"T_254f6_row8_col2\" class=\"data row8 col2\" >2002-01-01</td>\n",
              "      <td id=\"T_254f6_row8_col3\" class=\"data row8 col3\" >Tuesday  </td>\n",
              "      <td id=\"T_254f6_row8_col4\" class=\"data row8 col4\" >01-jan-02</td>\n",
              "      <td id=\"T_254f6_row8_col5\" class=\"data row8 col5\" >8050</td>\n",
              "    </tr>\n",
              "    <tr>\n",
              "      <td id=\"T_254f6_row9_col0\" class=\"data row9 col0\" >Ganesan</td>\n",
              "      <td id=\"T_254f6_row9_col1\" class=\"data row9 col1\" >2024-01-16</td>\n",
              "      <td id=\"T_254f6_row9_col2\" class=\"data row9 col2\" >2002-10-10</td>\n",
              "      <td id=\"T_254f6_row9_col3\" class=\"data row9 col3\" >Thursday </td>\n",
              "      <td id=\"T_254f6_row9_col4\" class=\"data row9 col4\" >10-oct-02</td>\n",
              "      <td id=\"T_254f6_row9_col5\" class=\"data row9 col5\" >7768</td>\n",
              "    </tr>\n",
              "    <tr>\n",
              "      <td id=\"T_254f6_row10_col0\" class=\"data row10 col0\" >Karthikeyan</td>\n",
              "      <td id=\"T_254f6_row10_col1\" class=\"data row10 col1\" >2024-01-16</td>\n",
              "      <td id=\"T_254f6_row10_col2\" class=\"data row10 col2\" >2005-12-04</td>\n",
              "      <td id=\"T_254f6_row10_col3\" class=\"data row10 col3\" >Sunday   </td>\n",
              "      <td id=\"T_254f6_row10_col4\" class=\"data row10 col4\" >04-dec-05</td>\n",
              "      <td id=\"T_254f6_row10_col5\" class=\"data row10 col5\" >6617</td>\n",
              "    </tr>\n",
              "    <tr>\n",
              "      <td id=\"T_254f6_row11_col0\" class=\"data row11 col0\" >Sunil</td>\n",
              "      <td id=\"T_254f6_row11_col1\" class=\"data row11 col1\" >2024-01-16</td>\n",
              "      <td id=\"T_254f6_row11_col2\" class=\"data row11 col2\" >2006-12-07</td>\n",
              "      <td id=\"T_254f6_row11_col3\" class=\"data row11 col3\" >Thursday </td>\n",
              "      <td id=\"T_254f6_row11_col4\" class=\"data row11 col4\" >07-dec-06</td>\n",
              "      <td id=\"T_254f6_row11_col5\" class=\"data row11 col5\" >6249</td>\n",
              "    </tr>\n",
              "    <tr>\n",
              "      <td id=\"T_254f6_row12_col0\" class=\"data row12 col0\" >Mirza</td>\n",
              "      <td id=\"T_254f6_row12_col1\" class=\"data row12 col1\" >2024-01-16</td>\n",
              "      <td id=\"T_254f6_row12_col2\" class=\"data row12 col2\" >2001-11-19</td>\n",
              "      <td id=\"T_254f6_row12_col3\" class=\"data row12 col3\" >Monday   </td>\n",
              "      <td id=\"T_254f6_row12_col4\" class=\"data row12 col4\" >19-nov-01</td>\n",
              "      <td id=\"T_254f6_row12_col5\" class=\"data row12 col5\" >8093</td>\n",
              "    </tr>\n",
              "  </tbody>\n",
              "</table>\n"
            ]
          },
          "metadata": {},
          "execution_count": 39
        }
      ]
    },
    {
      "cell_type": "markdown",
      "source": [
        "# MultiRow Function | Group By | Having\n",
        "for more complex examples that demonstrate Grouping Sets, Cubes, Roll UP, Crosstabs and other OLAP related SQL see [this notebook](https://github.com/Praxis-QR/RDWH/blob/main/PostgreSQL_03B_SQL_Level2.ipynb)"
      ],
      "metadata": {
        "id": "ONgFWUTC2IPK"
      }
    },
    {
      "cell_type": "code",
      "source": [
        "runSelect(\"select sum(salary) Total_Salary from empl\")"
      ],
      "metadata": {
        "colab": {
          "base_uri": "https://localhost:8080/",
          "height": 81
        },
        "id": "7MnnzfJx2PSc",
        "outputId": "1d210a59-0795-43e7-fb58-23df33abefa5"
      },
      "execution_count": 40,
      "outputs": [
        {
          "output_type": "execute_result",
          "data": {
            "text/plain": [
              "<pandas.io.formats.style.Styler at 0x7adbe23cc880>"
            ],
            "text/html": [
              "<style type=\"text/css\">\n",
              "</style>\n",
              "<table id=\"T_e7d33\" class=\"dataframe\">\n",
              "  <thead>\n",
              "    <tr>\n",
              "      <th id=\"T_e7d33_level0_col0\" class=\"col_heading level0 col0\" >total_salary</th>\n",
              "    </tr>\n",
              "  </thead>\n",
              "  <tbody>\n",
              "    <tr>\n",
              "      <td id=\"T_e7d33_row0_col0\" class=\"data row0 col0\" >376000</td>\n",
              "    </tr>\n",
              "  </tbody>\n",
              "</table>\n"
            ]
          },
          "metadata": {},
          "execution_count": 40
        }
      ]
    },
    {
      "cell_type": "code",
      "source": [
        "runSelect(\"select round(avg(salary),2) Average_Salary from empl\")"
      ],
      "metadata": {
        "colab": {
          "base_uri": "https://localhost:8080/",
          "height": 81
        },
        "id": "e3Avb-HL4QPD",
        "outputId": "ef7a8a83-c8b5-4799-8b66-4f68a4cdc009"
      },
      "execution_count": 41,
      "outputs": [
        {
          "output_type": "execute_result",
          "data": {
            "text/plain": [
              "<pandas.io.formats.style.Styler at 0x7adbe23fb5e0>"
            ],
            "text/html": [
              "<style type=\"text/css\">\n",
              "</style>\n",
              "<table id=\"T_d4446\" class=\"dataframe\">\n",
              "  <thead>\n",
              "    <tr>\n",
              "      <th id=\"T_d4446_level0_col0\" class=\"col_heading level0 col0\" >average_salary</th>\n",
              "    </tr>\n",
              "  </thead>\n",
              "  <tbody>\n",
              "    <tr>\n",
              "      <td id=\"T_d4446_row0_col0\" class=\"data row0 col0\" >28923.08</td>\n",
              "    </tr>\n",
              "  </tbody>\n",
              "</table>\n"
            ]
          },
          "metadata": {},
          "execution_count": 41
        }
      ]
    },
    {
      "cell_type": "code",
      "source": [
        "runSelect(\"select max(salary) Max_Salary from empl\")"
      ],
      "metadata": {
        "colab": {
          "base_uri": "https://localhost:8080/",
          "height": 81
        },
        "id": "Oe1qRQbI4gtY",
        "outputId": "c3b3bc39-b1db-45ed-bc13-192624343bb4"
      },
      "execution_count": 42,
      "outputs": [
        {
          "output_type": "execute_result",
          "data": {
            "text/plain": [
              "<pandas.io.formats.style.Styler at 0x7adbe23f9c00>"
            ],
            "text/html": [
              "<style type=\"text/css\">\n",
              "</style>\n",
              "<table id=\"T_2ddb8\" class=\"dataframe\">\n",
              "  <thead>\n",
              "    <tr>\n",
              "      <th id=\"T_2ddb8_level0_col0\" class=\"col_heading level0 col0\" >max_salary</th>\n",
              "    </tr>\n",
              "  </thead>\n",
              "  <tbody>\n",
              "    <tr>\n",
              "      <td id=\"T_2ddb8_row0_col0\" class=\"data row0 col0\" >60000</td>\n",
              "    </tr>\n",
              "  </tbody>\n",
              "</table>\n"
            ]
          },
          "metadata": {},
          "execution_count": 42
        }
      ]
    },
    {
      "cell_type": "code",
      "source": [
        "runSelect(\"select deptid, sum(salary) Total, max(salary) Max from empl group by deptid\")"
      ],
      "metadata": {
        "colab": {
          "base_uri": "https://localhost:8080/",
          "height": 206
        },
        "id": "xpmGXSAX69iU",
        "outputId": "6b481164-fc7c-4c10-f8da-e5ff10f93ff8"
      },
      "execution_count": 43,
      "outputs": [
        {
          "output_type": "execute_result",
          "data": {
            "text/plain": [
              "<pandas.io.formats.style.Styler at 0x7adbe23cd570>"
            ],
            "text/html": [
              "<style type=\"text/css\">\n",
              "</style>\n",
              "<table id=\"T_e493d\" class=\"dataframe\">\n",
              "  <thead>\n",
              "    <tr>\n",
              "      <th id=\"T_e493d_level0_col0\" class=\"col_heading level0 col0\" >deptid</th>\n",
              "      <th id=\"T_e493d_level0_col1\" class=\"col_heading level0 col1\" >total</th>\n",
              "      <th id=\"T_e493d_level0_col2\" class=\"col_heading level0 col2\" >max</th>\n",
              "    </tr>\n",
              "  </thead>\n",
              "  <tbody>\n",
              "    <tr>\n",
              "      <td id=\"T_e493d_row0_col0\" class=\"data row0 col0\" >10</td>\n",
              "      <td id=\"T_e493d_row0_col1\" class=\"data row0 col1\" >150000</td>\n",
              "      <td id=\"T_e493d_row0_col2\" class=\"data row0 col2\" >60000</td>\n",
              "    </tr>\n",
              "    <tr>\n",
              "      <td id=\"T_e493d_row1_col0\" class=\"data row1 col0\" >40</td>\n",
              "      <td id=\"T_e493d_row1_col1\" class=\"data row1 col1\" >54000</td>\n",
              "      <td id=\"T_e493d_row1_col2\" class=\"data row1 col2\" >25000</td>\n",
              "    </tr>\n",
              "    <tr>\n",
              "      <td id=\"T_e493d_row2_col0\" class=\"data row2 col0\" >70</td>\n",
              "      <td id=\"T_e493d_row2_col1\" class=\"data row2 col1\" >40000</td>\n",
              "      <td id=\"T_e493d_row2_col2\" class=\"data row2 col2\" >40000</td>\n",
              "    </tr>\n",
              "    <tr>\n",
              "      <td id=\"T_e493d_row3_col0\" class=\"data row3 col0\" >20</td>\n",
              "      <td id=\"T_e493d_row3_col1\" class=\"data row3 col1\" >55000</td>\n",
              "      <td id=\"T_e493d_row3_col2\" class=\"data row3 col2\" >30000</td>\n",
              "    </tr>\n",
              "    <tr>\n",
              "      <td id=\"T_e493d_row4_col0\" class=\"data row4 col0\" >30</td>\n",
              "      <td id=\"T_e493d_row4_col1\" class=\"data row4 col1\" >77000</td>\n",
              "      <td id=\"T_e493d_row4_col2\" class=\"data row4 col2\" >40000</td>\n",
              "    </tr>\n",
              "  </tbody>\n",
              "</table>\n"
            ]
          },
          "metadata": {},
          "execution_count": 43
        }
      ]
    },
    {
      "cell_type": "code",
      "source": [
        "runSelect(\"select deptid, sum(salary) Total, max(salary) Max from empl group by deptid having sum(salary) > 50000\")"
      ],
      "metadata": {
        "colab": {
          "base_uri": "https://localhost:8080/",
          "height": 175
        },
        "id": "AdNDutZl7LCF",
        "outputId": "5ee4fd9b-df17-421c-8e42-bde0f685574c"
      },
      "execution_count": 44,
      "outputs": [
        {
          "output_type": "execute_result",
          "data": {
            "text/plain": [
              "<pandas.io.formats.style.Styler at 0x7adbe23cdc30>"
            ],
            "text/html": [
              "<style type=\"text/css\">\n",
              "</style>\n",
              "<table id=\"T_80be4\" class=\"dataframe\">\n",
              "  <thead>\n",
              "    <tr>\n",
              "      <th id=\"T_80be4_level0_col0\" class=\"col_heading level0 col0\" >deptid</th>\n",
              "      <th id=\"T_80be4_level0_col1\" class=\"col_heading level0 col1\" >total</th>\n",
              "      <th id=\"T_80be4_level0_col2\" class=\"col_heading level0 col2\" >max</th>\n",
              "    </tr>\n",
              "  </thead>\n",
              "  <tbody>\n",
              "    <tr>\n",
              "      <td id=\"T_80be4_row0_col0\" class=\"data row0 col0\" >10</td>\n",
              "      <td id=\"T_80be4_row0_col1\" class=\"data row0 col1\" >150000</td>\n",
              "      <td id=\"T_80be4_row0_col2\" class=\"data row0 col2\" >60000</td>\n",
              "    </tr>\n",
              "    <tr>\n",
              "      <td id=\"T_80be4_row1_col0\" class=\"data row1 col0\" >40</td>\n",
              "      <td id=\"T_80be4_row1_col1\" class=\"data row1 col1\" >54000</td>\n",
              "      <td id=\"T_80be4_row1_col2\" class=\"data row1 col2\" >25000</td>\n",
              "    </tr>\n",
              "    <tr>\n",
              "      <td id=\"T_80be4_row2_col0\" class=\"data row2 col0\" >20</td>\n",
              "      <td id=\"T_80be4_row2_col1\" class=\"data row2 col1\" >55000</td>\n",
              "      <td id=\"T_80be4_row2_col2\" class=\"data row2 col2\" >30000</td>\n",
              "    </tr>\n",
              "    <tr>\n",
              "      <td id=\"T_80be4_row3_col0\" class=\"data row3 col0\" >30</td>\n",
              "      <td id=\"T_80be4_row3_col1\" class=\"data row3 col1\" >77000</td>\n",
              "      <td id=\"T_80be4_row3_col2\" class=\"data row3 col2\" >40000</td>\n",
              "    </tr>\n",
              "  </tbody>\n",
              "</table>\n"
            ]
          },
          "metadata": {},
          "execution_count": 44
        }
      ]
    },
    {
      "cell_type": "code",
      "source": [
        "runSelect(\"select deptid, sum(salary) Total, max(salary) Max from empl group by deptid having sum(salary) > 50000 and max(salary) < 35000\")"
      ],
      "metadata": {
        "colab": {
          "base_uri": "https://localhost:8080/",
          "height": 112
        },
        "id": "4VFmL5JF7bYo",
        "outputId": "e9da65f7-a1fe-48e5-9d57-14f0a0f55081"
      },
      "execution_count": 45,
      "outputs": [
        {
          "output_type": "execute_result",
          "data": {
            "text/plain": [
              "<pandas.io.formats.style.Styler at 0x7adbe23f91b0>"
            ],
            "text/html": [
              "<style type=\"text/css\">\n",
              "</style>\n",
              "<table id=\"T_400f6\" class=\"dataframe\">\n",
              "  <thead>\n",
              "    <tr>\n",
              "      <th id=\"T_400f6_level0_col0\" class=\"col_heading level0 col0\" >deptid</th>\n",
              "      <th id=\"T_400f6_level0_col1\" class=\"col_heading level0 col1\" >total</th>\n",
              "      <th id=\"T_400f6_level0_col2\" class=\"col_heading level0 col2\" >max</th>\n",
              "    </tr>\n",
              "  </thead>\n",
              "  <tbody>\n",
              "    <tr>\n",
              "      <td id=\"T_400f6_row0_col0\" class=\"data row0 col0\" >40</td>\n",
              "      <td id=\"T_400f6_row0_col1\" class=\"data row0 col1\" >54000</td>\n",
              "      <td id=\"T_400f6_row0_col2\" class=\"data row0 col2\" >25000</td>\n",
              "    </tr>\n",
              "    <tr>\n",
              "      <td id=\"T_400f6_row1_col0\" class=\"data row1 col0\" >20</td>\n",
              "      <td id=\"T_400f6_row1_col1\" class=\"data row1 col1\" >55000</td>\n",
              "      <td id=\"T_400f6_row1_col2\" class=\"data row1 col2\" >30000</td>\n",
              "    </tr>\n",
              "  </tbody>\n",
              "</table>\n"
            ]
          },
          "metadata": {},
          "execution_count": 45
        }
      ]
    },
    {
      "cell_type": "markdown",
      "source": [
        "#Conditionals | CASE"
      ],
      "metadata": {
        "id": "xDsapsK8Afpj"
      }
    },
    {
      "cell_type": "code",
      "source": [
        "runSelect(\"select lastname, jobdesc, salary, comm, salary+salary*comm Payout,\\\n",
        "case when jobdesc like '%Manager' then 2000 else 0 end bonus from empl\")"
      ],
      "metadata": {
        "colab": {
          "base_uri": "https://localhost:8080/",
          "height": 457
        },
        "id": "bYRWDlVNAxKx",
        "outputId": "0d2cb335-6efc-4dbb-d488-7c5a3af92413"
      },
      "execution_count": 46,
      "outputs": [
        {
          "output_type": "execute_result",
          "data": {
            "text/plain": [
              "<pandas.io.formats.style.Styler at 0x7adbe23fa410>"
            ],
            "text/html": [
              "<style type=\"text/css\">\n",
              "</style>\n",
              "<table id=\"T_9aefa\" class=\"dataframe\">\n",
              "  <thead>\n",
              "    <tr>\n",
              "      <th id=\"T_9aefa_level0_col0\" class=\"col_heading level0 col0\" >lastname</th>\n",
              "      <th id=\"T_9aefa_level0_col1\" class=\"col_heading level0 col1\" >jobdesc</th>\n",
              "      <th id=\"T_9aefa_level0_col2\" class=\"col_heading level0 col2\" >salary</th>\n",
              "      <th id=\"T_9aefa_level0_col3\" class=\"col_heading level0 col3\" >comm</th>\n",
              "      <th id=\"T_9aefa_level0_col4\" class=\"col_heading level0 col4\" >payout</th>\n",
              "      <th id=\"T_9aefa_level0_col5\" class=\"col_heading level0 col5\" >bonus</th>\n",
              "    </tr>\n",
              "  </thead>\n",
              "  <tbody>\n",
              "    <tr>\n",
              "      <td id=\"T_9aefa_row0_col0\" class=\"data row0 col0\" >Bacchan</td>\n",
              "      <td id=\"T_9aefa_row0_col1\" class=\"data row0 col1\" >Executive</td>\n",
              "      <td id=\"T_9aefa_row0_col2\" class=\"data row0 col2\" >50000</td>\n",
              "      <td id=\"T_9aefa_row0_col3\" class=\"data row0 col3\" >0.10</td>\n",
              "      <td id=\"T_9aefa_row0_col4\" class=\"data row0 col4\" >55000.00</td>\n",
              "      <td id=\"T_9aefa_row0_col5\" class=\"data row0 col5\" >0</td>\n",
              "    </tr>\n",
              "    <tr>\n",
              "      <td id=\"T_9aefa_row1_col0\" class=\"data row1 col0\" >Mukherjee</td>\n",
              "      <td id=\"T_9aefa_row1_col1\" class=\"data row1 col1\" >Manager</td>\n",
              "      <td id=\"T_9aefa_row1_col2\" class=\"data row1 col2\" >25000</td>\n",
              "      <td id=\"T_9aefa_row1_col3\" class=\"data row1 col3\" >0.06</td>\n",
              "      <td id=\"T_9aefa_row1_col4\" class=\"data row1 col4\" >26500.00</td>\n",
              "      <td id=\"T_9aefa_row1_col5\" class=\"data row1 col5\" >2000</td>\n",
              "    </tr>\n",
              "    <tr>\n",
              "      <td id=\"T_9aefa_row2_col0\" class=\"data row2 col0\" >Dikshit</td>\n",
              "      <td id=\"T_9aefa_row2_col1\" class=\"data row2 col1\" >Clerk</td>\n",
              "      <td id=\"T_9aefa_row2_col2\" class=\"data row2 col2\" >10000</td>\n",
              "      <td id=\"T_9aefa_row2_col3\" class=\"data row2 col3\" >0.02</td>\n",
              "      <td id=\"T_9aefa_row2_col4\" class=\"data row2 col4\" >10200.00</td>\n",
              "      <td id=\"T_9aefa_row2_col5\" class=\"data row2 col5\" >0</td>\n",
              "    </tr>\n",
              "    <tr>\n",
              "      <td id=\"T_9aefa_row3_col0\" class=\"data row3 col0\" >Khan</td>\n",
              "      <td id=\"T_9aefa_row3_col1\" class=\"data row3 col1\" >Manager</td>\n",
              "      <td id=\"T_9aefa_row3_col2\" class=\"data row3 col2\" >30000</td>\n",
              "      <td id=\"T_9aefa_row3_col3\" class=\"data row3 col3\" >0.07</td>\n",
              "      <td id=\"T_9aefa_row3_col4\" class=\"data row3 col4\" >32100.00</td>\n",
              "      <td id=\"T_9aefa_row3_col5\" class=\"data row3 col5\" >2000</td>\n",
              "    </tr>\n",
              "    <tr>\n",
              "      <td id=\"T_9aefa_row4_col0\" class=\"data row4 col0\" >Sehwag</td>\n",
              "      <td id=\"T_9aefa_row4_col1\" class=\"data row4 col1\" >Cus_Rep</td>\n",
              "      <td id=\"T_9aefa_row4_col2\" class=\"data row4 col2\" >15000</td>\n",
              "      <td id=\"T_9aefa_row4_col3\" class=\"data row4 col3\" >0.05</td>\n",
              "      <td id=\"T_9aefa_row4_col4\" class=\"data row4 col4\" >15750.00</td>\n",
              "      <td id=\"T_9aefa_row4_col5\" class=\"data row4 col5\" >0</td>\n",
              "    </tr>\n",
              "    <tr>\n",
              "      <td id=\"T_9aefa_row5_col0\" class=\"data row5 col0\" >Dhoni</td>\n",
              "      <td id=\"T_9aefa_row5_col1\" class=\"data row5 col1\" >Clerk</td>\n",
              "      <td id=\"T_9aefa_row5_col2\" class=\"data row5 col2\" >9000</td>\n",
              "      <td id=\"T_9aefa_row5_col3\" class=\"data row5 col3\" >0.02</td>\n",
              "      <td id=\"T_9aefa_row5_col4\" class=\"data row5 col4\" >9180.00</td>\n",
              "      <td id=\"T_9aefa_row5_col5\" class=\"data row5 col5\" >0</td>\n",
              "    </tr>\n",
              "    <tr>\n",
              "      <td id=\"T_9aefa_row6_col0\" class=\"data row6 col0\" >Dravid</td>\n",
              "      <td id=\"T_9aefa_row6_col1\" class=\"data row6 col1\" >Sr Manager</td>\n",
              "      <td id=\"T_9aefa_row6_col2\" class=\"data row6 col2\" >40000</td>\n",
              "      <td id=\"T_9aefa_row6_col3\" class=\"data row6 col3\" >0.08</td>\n",
              "      <td id=\"T_9aefa_row6_col4\" class=\"data row6 col4\" >43200.00</td>\n",
              "      <td id=\"T_9aefa_row6_col5\" class=\"data row6 col5\" >2000</td>\n",
              "    </tr>\n",
              "    <tr>\n",
              "      <td id=\"T_9aefa_row7_col0\" class=\"data row7 col0\" >Dalmia</td>\n",
              "      <td id=\"T_9aefa_row7_col1\" class=\"data row7 col1\" >Clerk</td>\n",
              "      <td id=\"T_9aefa_row7_col2\" class=\"data row7 col2\" >12000</td>\n",
              "      <td id=\"T_9aefa_row7_col3\" class=\"data row7 col3\" >0.02</td>\n",
              "      <td id=\"T_9aefa_row7_col4\" class=\"data row7 col4\" >12240.00</td>\n",
              "      <td id=\"T_9aefa_row7_col5\" class=\"data row7 col5\" >0</td>\n",
              "    </tr>\n",
              "    <tr>\n",
              "      <td id=\"T_9aefa_row8_col0\" class=\"data row8 col0\" >Ganguly</td>\n",
              "      <td id=\"T_9aefa_row8_col1\" class=\"data row8 col1\" >Cus_Rep</td>\n",
              "      <td id=\"T_9aefa_row8_col2\" class=\"data row8 col2\" >20000</td>\n",
              "      <td id=\"T_9aefa_row8_col3\" class=\"data row8 col3\" >0.03</td>\n",
              "      <td id=\"T_9aefa_row8_col4\" class=\"data row8 col4\" >20600.00</td>\n",
              "      <td id=\"T_9aefa_row8_col5\" class=\"data row8 col5\" >0</td>\n",
              "    </tr>\n",
              "    <tr>\n",
              "      <td id=\"T_9aefa_row9_col0\" class=\"data row9 col0\" >Ganesan</td>\n",
              "      <td id=\"T_9aefa_row9_col1\" class=\"data row9 col1\" >Director</td>\n",
              "      <td id=\"T_9aefa_row9_col2\" class=\"data row9 col2\" >60000</td>\n",
              "      <td id=\"T_9aefa_row9_col3\" class=\"data row9 col3\" >0.11</td>\n",
              "      <td id=\"T_9aefa_row9_col4\" class=\"data row9 col4\" >66600.00</td>\n",
              "      <td id=\"T_9aefa_row9_col5\" class=\"data row9 col5\" >0</td>\n",
              "    </tr>\n",
              "    <tr>\n",
              "      <td id=\"T_9aefa_row10_col0\" class=\"data row10 col0\" >Karthikeyan</td>\n",
              "      <td id=\"T_9aefa_row10_col1\" class=\"data row10 col1\" >Secretary</td>\n",
              "      <td id=\"T_9aefa_row10_col2\" class=\"data row10 col2\" >40000</td>\n",
              "      <td id=\"T_9aefa_row10_col3\" class=\"data row10 col3\" >0.09</td>\n",
              "      <td id=\"T_9aefa_row10_col4\" class=\"data row10 col4\" >43600.00</td>\n",
              "      <td id=\"T_9aefa_row10_col5\" class=\"data row10 col5\" >0</td>\n",
              "    </tr>\n",
              "    <tr>\n",
              "      <td id=\"T_9aefa_row11_col0\" class=\"data row11 col0\" >Sunil</td>\n",
              "      <td id=\"T_9aefa_row11_col1\" class=\"data row11 col1\" >Dy Manager</td>\n",
              "      <td id=\"T_9aefa_row11_col2\" class=\"data row11 col2\" >40000</td>\n",
              "      <td id=\"T_9aefa_row11_col3\" class=\"data row11 col3\" >0.05</td>\n",
              "      <td id=\"T_9aefa_row11_col4\" class=\"data row11 col4\" >42000.00</td>\n",
              "      <td id=\"T_9aefa_row11_col5\" class=\"data row11 col5\" >2000</td>\n",
              "    </tr>\n",
              "    <tr>\n",
              "      <td id=\"T_9aefa_row12_col0\" class=\"data row12 col0\" >Mirza</td>\n",
              "      <td id=\"T_9aefa_row12_col1\" class=\"data row12 col1\" >Cus_Rep</td>\n",
              "      <td id=\"T_9aefa_row12_col2\" class=\"data row12 col2\" >25000</td>\n",
              "      <td id=\"T_9aefa_row12_col3\" class=\"data row12 col3\" >0.04</td>\n",
              "      <td id=\"T_9aefa_row12_col4\" class=\"data row12 col4\" >26000.00</td>\n",
              "      <td id=\"T_9aefa_row12_col5\" class=\"data row12 col5\" >0</td>\n",
              "    </tr>\n",
              "  </tbody>\n",
              "</table>\n"
            ]
          },
          "metadata": {},
          "execution_count": 46
        }
      ]
    },
    {
      "cell_type": "code",
      "source": [
        "runSelect(\"select lastname, deptid,\\\n",
        "case \\\n",
        "when deptid in ('10','20') then 'Head' \\\n",
        "when deptid = '30' then 'Regional'\\\n",
        "else 'Branch' \\\n",
        "end \\\n",
        " office from empl\")"
      ],
      "metadata": {
        "colab": {
          "base_uri": "https://localhost:8080/",
          "height": 457
        },
        "id": "jbpKn1y0DwYG",
        "outputId": "3e22e6a0-42c2-4a60-d960-dcbcf79c2c77"
      },
      "execution_count": 47,
      "outputs": [
        {
          "output_type": "execute_result",
          "data": {
            "text/plain": [
              "<pandas.io.formats.style.Styler at 0x7adbe23fb730>"
            ],
            "text/html": [
              "<style type=\"text/css\">\n",
              "</style>\n",
              "<table id=\"T_d667f\" class=\"dataframe\">\n",
              "  <thead>\n",
              "    <tr>\n",
              "      <th id=\"T_d667f_level0_col0\" class=\"col_heading level0 col0\" >lastname</th>\n",
              "      <th id=\"T_d667f_level0_col1\" class=\"col_heading level0 col1\" >deptid</th>\n",
              "      <th id=\"T_d667f_level0_col2\" class=\"col_heading level0 col2\" >office</th>\n",
              "    </tr>\n",
              "  </thead>\n",
              "  <tbody>\n",
              "    <tr>\n",
              "      <td id=\"T_d667f_row0_col0\" class=\"data row0 col0\" >Bacchan</td>\n",
              "      <td id=\"T_d667f_row0_col1\" class=\"data row0 col1\" >10</td>\n",
              "      <td id=\"T_d667f_row0_col2\" class=\"data row0 col2\" >Head</td>\n",
              "    </tr>\n",
              "    <tr>\n",
              "      <td id=\"T_d667f_row1_col0\" class=\"data row1 col0\" >Mukherjee</td>\n",
              "      <td id=\"T_d667f_row1_col1\" class=\"data row1 col1\" >40</td>\n",
              "      <td id=\"T_d667f_row1_col2\" class=\"data row1 col2\" >Branch</td>\n",
              "    </tr>\n",
              "    <tr>\n",
              "      <td id=\"T_d667f_row2_col0\" class=\"data row2 col0\" >Dikshit</td>\n",
              "      <td id=\"T_d667f_row2_col1\" class=\"data row2 col1\" >20</td>\n",
              "      <td id=\"T_d667f_row2_col2\" class=\"data row2 col2\" >Head</td>\n",
              "    </tr>\n",
              "    <tr>\n",
              "      <td id=\"T_d667f_row3_col0\" class=\"data row3 col0\" >Khan</td>\n",
              "      <td id=\"T_d667f_row3_col1\" class=\"data row3 col1\" >20</td>\n",
              "      <td id=\"T_d667f_row3_col2\" class=\"data row3 col2\" >Head</td>\n",
              "    </tr>\n",
              "    <tr>\n",
              "      <td id=\"T_d667f_row4_col0\" class=\"data row4 col0\" >Sehwag</td>\n",
              "      <td id=\"T_d667f_row4_col1\" class=\"data row4 col1\" >20</td>\n",
              "      <td id=\"T_d667f_row4_col2\" class=\"data row4 col2\" >Head</td>\n",
              "    </tr>\n",
              "    <tr>\n",
              "      <td id=\"T_d667f_row5_col0\" class=\"data row5 col0\" >Dhoni</td>\n",
              "      <td id=\"T_d667f_row5_col1\" class=\"data row5 col1\" >40</td>\n",
              "      <td id=\"T_d667f_row5_col2\" class=\"data row5 col2\" >Branch</td>\n",
              "    </tr>\n",
              "    <tr>\n",
              "      <td id=\"T_d667f_row6_col0\" class=\"data row6 col0\" >Dravid</td>\n",
              "      <td id=\"T_d667f_row6_col1\" class=\"data row6 col1\" >30</td>\n",
              "      <td id=\"T_d667f_row6_col2\" class=\"data row6 col2\" >Regional</td>\n",
              "    </tr>\n",
              "    <tr>\n",
              "      <td id=\"T_d667f_row7_col0\" class=\"data row7 col0\" >Dalmia</td>\n",
              "      <td id=\"T_d667f_row7_col1\" class=\"data row7 col1\" >30</td>\n",
              "      <td id=\"T_d667f_row7_col2\" class=\"data row7 col2\" >Regional</td>\n",
              "    </tr>\n",
              "    <tr>\n",
              "      <td id=\"T_d667f_row8_col0\" class=\"data row8 col0\" >Ganguly</td>\n",
              "      <td id=\"T_d667f_row8_col1\" class=\"data row8 col1\" >40</td>\n",
              "      <td id=\"T_d667f_row8_col2\" class=\"data row8 col2\" >Branch</td>\n",
              "    </tr>\n",
              "    <tr>\n",
              "      <td id=\"T_d667f_row9_col0\" class=\"data row9 col0\" >Ganesan</td>\n",
              "      <td id=\"T_d667f_row9_col1\" class=\"data row9 col1\" >10</td>\n",
              "      <td id=\"T_d667f_row9_col2\" class=\"data row9 col2\" >Head</td>\n",
              "    </tr>\n",
              "    <tr>\n",
              "      <td id=\"T_d667f_row10_col0\" class=\"data row10 col0\" >Karthikeyan</td>\n",
              "      <td id=\"T_d667f_row10_col1\" class=\"data row10 col1\" >10</td>\n",
              "      <td id=\"T_d667f_row10_col2\" class=\"data row10 col2\" >Head</td>\n",
              "    </tr>\n",
              "    <tr>\n",
              "      <td id=\"T_d667f_row11_col0\" class=\"data row11 col0\" >Sunil</td>\n",
              "      <td id=\"T_d667f_row11_col1\" class=\"data row11 col1\" >70</td>\n",
              "      <td id=\"T_d667f_row11_col2\" class=\"data row11 col2\" >Branch</td>\n",
              "    </tr>\n",
              "    <tr>\n",
              "      <td id=\"T_d667f_row12_col0\" class=\"data row12 col0\" >Mirza</td>\n",
              "      <td id=\"T_d667f_row12_col1\" class=\"data row12 col1\" >30</td>\n",
              "      <td id=\"T_d667f_row12_col2\" class=\"data row12 col2\" >Regional</td>\n",
              "    </tr>\n",
              "  </tbody>\n",
              "</table>\n"
            ]
          },
          "metadata": {},
          "execution_count": 47
        }
      ]
    },
    {
      "cell_type": "markdown",
      "source": [
        "#Join"
      ],
      "metadata": {
        "id": "Rs10ezIPpP0C"
      }
    },
    {
      "cell_type": "markdown",
      "source": [
        "## Basic Inner Join"
      ],
      "metadata": {
        "id": "XMfZP6HUpT4B"
      }
    },
    {
      "cell_type": "code",
      "source": [
        "sql = 'select firstname, lastname, salary, deptname, location, managerid from empl, dept where empl.deptid = dept.deptid'\n",
        "runSelect(sql)"
      ],
      "metadata": {
        "colab": {
          "base_uri": "https://localhost:8080/",
          "height": 426
        },
        "id": "ISiD-VP6pbUz",
        "outputId": "baac276f-a5ef-406f-e958-c7720fac412b"
      },
      "execution_count": 48,
      "outputs": [
        {
          "output_type": "execute_result",
          "data": {
            "text/plain": [
              "<pandas.io.formats.style.Styler at 0x7adbe23fbb80>"
            ],
            "text/html": [
              "<style type=\"text/css\">\n",
              "</style>\n",
              "<table id=\"T_125a2\" class=\"dataframe\">\n",
              "  <thead>\n",
              "    <tr>\n",
              "      <th id=\"T_125a2_level0_col0\" class=\"col_heading level0 col0\" >firstname</th>\n",
              "      <th id=\"T_125a2_level0_col1\" class=\"col_heading level0 col1\" >lastname</th>\n",
              "      <th id=\"T_125a2_level0_col2\" class=\"col_heading level0 col2\" >salary</th>\n",
              "      <th id=\"T_125a2_level0_col3\" class=\"col_heading level0 col3\" >deptname</th>\n",
              "      <th id=\"T_125a2_level0_col4\" class=\"col_heading level0 col4\" >location</th>\n",
              "      <th id=\"T_125a2_level0_col5\" class=\"col_heading level0 col5\" >managerid</th>\n",
              "    </tr>\n",
              "  </thead>\n",
              "  <tbody>\n",
              "    <tr>\n",
              "      <td id=\"T_125a2_row0_col0\" class=\"data row0 col0\" >Narayan</td>\n",
              "      <td id=\"T_125a2_row0_col1\" class=\"data row0 col1\" >Karthikeyan</td>\n",
              "      <td id=\"T_125a2_row0_col2\" class=\"data row0 col2\" >40000</td>\n",
              "      <td id=\"T_125a2_row0_col3\" class=\"data row0 col3\" >Corporate</td>\n",
              "      <td id=\"T_125a2_row0_col4\" class=\"data row0 col4\" >Calcutta</td>\n",
              "      <td id=\"T_125a2_row0_col5\" class=\"data row0 col5\" >299034</td>\n",
              "    </tr>\n",
              "    <tr>\n",
              "      <td id=\"T_125a2_row1_col0\" class=\"data row1 col0\" >Rekha</td>\n",
              "      <td id=\"T_125a2_row1_col1\" class=\"data row1 col1\" >Ganesan</td>\n",
              "      <td id=\"T_125a2_row1_col2\" class=\"data row1 col2\" >60000</td>\n",
              "      <td id=\"T_125a2_row1_col3\" class=\"data row1 col3\" >Corporate</td>\n",
              "      <td id=\"T_125a2_row1_col4\" class=\"data row1 col4\" >Calcutta</td>\n",
              "      <td id=\"T_125a2_row1_col5\" class=\"data row1 col5\" >299034</td>\n",
              "    </tr>\n",
              "    <tr>\n",
              "      <td id=\"T_125a2_row2_col0\" class=\"data row2 col0\" >Amitabh</td>\n",
              "      <td id=\"T_125a2_row2_col1\" class=\"data row2 col1\" >Bacchan</td>\n",
              "      <td id=\"T_125a2_row2_col2\" class=\"data row2 col2\" >50000</td>\n",
              "      <td id=\"T_125a2_row2_col3\" class=\"data row2 col3\" >Corporate</td>\n",
              "      <td id=\"T_125a2_row2_col4\" class=\"data row2 col4\" >Calcutta</td>\n",
              "      <td id=\"T_125a2_row2_col5\" class=\"data row2 col5\" >299034</td>\n",
              "    </tr>\n",
              "    <tr>\n",
              "      <td id=\"T_125a2_row3_col0\" class=\"data row3 col0\" >Virender</td>\n",
              "      <td id=\"T_125a2_row3_col1\" class=\"data row3 col1\" >Sehwag</td>\n",
              "      <td id=\"T_125a2_row3_col2\" class=\"data row3 col2\" >15000</td>\n",
              "      <td id=\"T_125a2_row3_col3\" class=\"data row3 col3\" >Sales</td>\n",
              "      <td id=\"T_125a2_row3_col4\" class=\"data row3 col4\" >Calcutta</td>\n",
              "      <td id=\"T_125a2_row3_col5\" class=\"data row3 col5\" >239456</td>\n",
              "    </tr>\n",
              "    <tr>\n",
              "      <td id=\"T_125a2_row4_col0\" class=\"data row4 col0\" >Shahrukh</td>\n",
              "      <td id=\"T_125a2_row4_col1\" class=\"data row4 col1\" >Khan</td>\n",
              "      <td id=\"T_125a2_row4_col2\" class=\"data row4 col2\" >30000</td>\n",
              "      <td id=\"T_125a2_row4_col3\" class=\"data row4 col3\" >Sales</td>\n",
              "      <td id=\"T_125a2_row4_col4\" class=\"data row4 col4\" >Calcutta</td>\n",
              "      <td id=\"T_125a2_row4_col5\" class=\"data row4 col5\" >239456</td>\n",
              "    </tr>\n",
              "    <tr>\n",
              "      <td id=\"T_125a2_row5_col0\" class=\"data row5 col0\" >Madhuri</td>\n",
              "      <td id=\"T_125a2_row5_col1\" class=\"data row5 col1\" >Dikshit</td>\n",
              "      <td id=\"T_125a2_row5_col2\" class=\"data row5 col2\" >10000</td>\n",
              "      <td id=\"T_125a2_row5_col3\" class=\"data row5 col3\" >Sales</td>\n",
              "      <td id=\"T_125a2_row5_col4\" class=\"data row5 col4\" >Calcutta</td>\n",
              "      <td id=\"T_125a2_row5_col5\" class=\"data row5 col5\" >239456</td>\n",
              "    </tr>\n",
              "    <tr>\n",
              "      <td id=\"T_125a2_row6_col0\" class=\"data row6 col0\" >Sania</td>\n",
              "      <td id=\"T_125a2_row6_col1\" class=\"data row6 col1\" >Mirza</td>\n",
              "      <td id=\"T_125a2_row6_col2\" class=\"data row6 col2\" >25000</td>\n",
              "      <td id=\"T_125a2_row6_col3\" class=\"data row6 col3\" >Accounts</td>\n",
              "      <td id=\"T_125a2_row6_col4\" class=\"data row6 col4\" >Calcutta</td>\n",
              "      <td id=\"T_125a2_row6_col5\" class=\"data row6 col5\" >822134</td>\n",
              "    </tr>\n",
              "    <tr>\n",
              "      <td id=\"T_125a2_row7_col0\" class=\"data row7 col0\" >Jagmohan</td>\n",
              "      <td id=\"T_125a2_row7_col1\" class=\"data row7 col1\" >Dalmia</td>\n",
              "      <td id=\"T_125a2_row7_col2\" class=\"data row7 col2\" >12000</td>\n",
              "      <td id=\"T_125a2_row7_col3\" class=\"data row7 col3\" >Accounts</td>\n",
              "      <td id=\"T_125a2_row7_col4\" class=\"data row7 col4\" >Calcutta</td>\n",
              "      <td id=\"T_125a2_row7_col5\" class=\"data row7 col5\" >822134</td>\n",
              "    </tr>\n",
              "    <tr>\n",
              "      <td id=\"T_125a2_row8_col0\" class=\"data row8 col0\" >Rahul</td>\n",
              "      <td id=\"T_125a2_row8_col1\" class=\"data row8 col1\" >Dravid</td>\n",
              "      <td id=\"T_125a2_row8_col2\" class=\"data row8 col2\" >40000</td>\n",
              "      <td id=\"T_125a2_row8_col3\" class=\"data row8 col3\" >Accounts</td>\n",
              "      <td id=\"T_125a2_row8_col4\" class=\"data row8 col4\" >Calcutta</td>\n",
              "      <td id=\"T_125a2_row8_col5\" class=\"data row8 col5\" >822134</td>\n",
              "    </tr>\n",
              "    <tr>\n",
              "      <td id=\"T_125a2_row9_col0\" class=\"data row9 col0\" >Sourav</td>\n",
              "      <td id=\"T_125a2_row9_col1\" class=\"data row9 col1\" >Ganguly</td>\n",
              "      <td id=\"T_125a2_row9_col2\" class=\"data row9 col2\" >20000</td>\n",
              "      <td id=\"T_125a2_row9_col3\" class=\"data row9 col3\" >Production</td>\n",
              "      <td id=\"T_125a2_row9_col4\" class=\"data row9 col4\" >Bombay</td>\n",
              "      <td id=\"T_125a2_row9_col5\" class=\"data row9 col5\" >349870</td>\n",
              "    </tr>\n",
              "    <tr>\n",
              "      <td id=\"T_125a2_row10_col0\" class=\"data row10 col0\" >Mahender</td>\n",
              "      <td id=\"T_125a2_row10_col1\" class=\"data row10 col1\" >Dhoni</td>\n",
              "      <td id=\"T_125a2_row10_col2\" class=\"data row10 col2\" >9000</td>\n",
              "      <td id=\"T_125a2_row10_col3\" class=\"data row10 col3\" >Production</td>\n",
              "      <td id=\"T_125a2_row10_col4\" class=\"data row10 col4\" >Bombay</td>\n",
              "      <td id=\"T_125a2_row10_col5\" class=\"data row10 col5\" >349870</td>\n",
              "    </tr>\n",
              "    <tr>\n",
              "      <td id=\"T_125a2_row11_col0\" class=\"data row11 col0\" >Rani</td>\n",
              "      <td id=\"T_125a2_row11_col1\" class=\"data row11 col1\" >Mukherjee</td>\n",
              "      <td id=\"T_125a2_row11_col2\" class=\"data row11 col2\" >25000</td>\n",
              "      <td id=\"T_125a2_row11_col3\" class=\"data row11 col3\" >Production</td>\n",
              "      <td id=\"T_125a2_row11_col4\" class=\"data row11 col4\" >Bombay</td>\n",
              "      <td id=\"T_125a2_row11_col5\" class=\"data row11 col5\" >349870</td>\n",
              "    </tr>\n",
              "  </tbody>\n",
              "</table>\n"
            ]
          },
          "metadata": {},
          "execution_count": 48
        }
      ]
    },
    {
      "cell_type": "code",
      "source": [
        "sql = 'select empid, firstname, deptname, location from empl INNER JOIN dept ON empl.deptid = dept.deptid'\n",
        "runSelect(sql)"
      ],
      "metadata": {
        "colab": {
          "base_uri": "https://localhost:8080/",
          "height": 426
        },
        "id": "LVrEArEc1VcF",
        "outputId": "648bf100-1eb7-48d7-8404-3666cddecdfa"
      },
      "execution_count": 49,
      "outputs": [
        {
          "output_type": "execute_result",
          "data": {
            "text/plain": [
              "<pandas.io.formats.style.Styler at 0x7adbe23f8880>"
            ],
            "text/html": [
              "<style type=\"text/css\">\n",
              "</style>\n",
              "<table id=\"T_b7b62\" class=\"dataframe\">\n",
              "  <thead>\n",
              "    <tr>\n",
              "      <th id=\"T_b7b62_level0_col0\" class=\"col_heading level0 col0\" >empid</th>\n",
              "      <th id=\"T_b7b62_level0_col1\" class=\"col_heading level0 col1\" >firstname</th>\n",
              "      <th id=\"T_b7b62_level0_col2\" class=\"col_heading level0 col2\" >deptname</th>\n",
              "      <th id=\"T_b7b62_level0_col3\" class=\"col_heading level0 col3\" >location</th>\n",
              "    </tr>\n",
              "  </thead>\n",
              "  <tbody>\n",
              "    <tr>\n",
              "      <td id=\"T_b7b62_row0_col0\" class=\"data row0 col0\" >546223</td>\n",
              "      <td id=\"T_b7b62_row0_col1\" class=\"data row0 col1\" >Narayan</td>\n",
              "      <td id=\"T_b7b62_row0_col2\" class=\"data row0 col2\" >Corporate</td>\n",
              "      <td id=\"T_b7b62_row0_col3\" class=\"data row0 col3\" >Calcutta</td>\n",
              "    </tr>\n",
              "    <tr>\n",
              "      <td id=\"T_b7b62_row1_col0\" class=\"data row1 col0\" >299034</td>\n",
              "      <td id=\"T_b7b62_row1_col1\" class=\"data row1 col1\" >Rekha</td>\n",
              "      <td id=\"T_b7b62_row1_col2\" class=\"data row1 col2\" >Corporate</td>\n",
              "      <td id=\"T_b7b62_row1_col3\" class=\"data row1 col3\" >Calcutta</td>\n",
              "    </tr>\n",
              "    <tr>\n",
              "      <td id=\"T_b7b62_row2_col0\" class=\"data row2 col0\" >742866</td>\n",
              "      <td id=\"T_b7b62_row2_col1\" class=\"data row2 col1\" >Amitabh</td>\n",
              "      <td id=\"T_b7b62_row2_col2\" class=\"data row2 col2\" >Corporate</td>\n",
              "      <td id=\"T_b7b62_row2_col3\" class=\"data row2 col3\" >Calcutta</td>\n",
              "    </tr>\n",
              "    <tr>\n",
              "      <td id=\"T_b7b62_row3_col0\" class=\"data row3 col0\" >897889</td>\n",
              "      <td id=\"T_b7b62_row3_col1\" class=\"data row3 col1\" >Virender</td>\n",
              "      <td id=\"T_b7b62_row3_col2\" class=\"data row3 col2\" >Sales</td>\n",
              "      <td id=\"T_b7b62_row3_col3\" class=\"data row3 col3\" >Calcutta</td>\n",
              "    </tr>\n",
              "    <tr>\n",
              "      <td id=\"T_b7b62_row4_col0\" class=\"data row4 col0\" >239456</td>\n",
              "      <td id=\"T_b7b62_row4_col1\" class=\"data row4 col1\" >Shahrukh</td>\n",
              "      <td id=\"T_b7b62_row4_col2\" class=\"data row4 col2\" >Sales</td>\n",
              "      <td id=\"T_b7b62_row4_col3\" class=\"data row4 col3\" >Calcutta</td>\n",
              "    </tr>\n",
              "    <tr>\n",
              "      <td id=\"T_b7b62_row5_col0\" class=\"data row5 col0\" >865477</td>\n",
              "      <td id=\"T_b7b62_row5_col1\" class=\"data row5 col1\" >Madhuri</td>\n",
              "      <td id=\"T_b7b62_row5_col2\" class=\"data row5 col2\" >Sales</td>\n",
              "      <td id=\"T_b7b62_row5_col3\" class=\"data row5 col3\" >Calcutta</td>\n",
              "    </tr>\n",
              "    <tr>\n",
              "      <td id=\"T_b7b62_row6_col0\" class=\"data row6 col0\" >223112</td>\n",
              "      <td id=\"T_b7b62_row6_col1\" class=\"data row6 col1\" >Sania</td>\n",
              "      <td id=\"T_b7b62_row6_col2\" class=\"data row6 col2\" >Accounts</td>\n",
              "      <td id=\"T_b7b62_row6_col3\" class=\"data row6 col3\" >Calcutta</td>\n",
              "    </tr>\n",
              "    <tr>\n",
              "      <td id=\"T_b7b62_row7_col0\" class=\"data row7 col0\" >997445</td>\n",
              "      <td id=\"T_b7b62_row7_col1\" class=\"data row7 col1\" >Jagmohan</td>\n",
              "      <td id=\"T_b7b62_row7_col2\" class=\"data row7 col2\" >Accounts</td>\n",
              "      <td id=\"T_b7b62_row7_col3\" class=\"data row7 col3\" >Calcutta</td>\n",
              "    </tr>\n",
              "    <tr>\n",
              "      <td id=\"T_b7b62_row8_col0\" class=\"data row8 col0\" >822134</td>\n",
              "      <td id=\"T_b7b62_row8_col1\" class=\"data row8 col1\" >Rahul</td>\n",
              "      <td id=\"T_b7b62_row8_col2\" class=\"data row8 col2\" >Accounts</td>\n",
              "      <td id=\"T_b7b62_row8_col3\" class=\"data row8 col3\" >Calcutta</td>\n",
              "    </tr>\n",
              "    <tr>\n",
              "      <td id=\"T_b7b62_row9_col0\" class=\"data row9 col0\" >989007</td>\n",
              "      <td id=\"T_b7b62_row9_col1\" class=\"data row9 col1\" >Sourav</td>\n",
              "      <td id=\"T_b7b62_row9_col2\" class=\"data row9 col2\" >Production</td>\n",
              "      <td id=\"T_b7b62_row9_col3\" class=\"data row9 col3\" >Bombay</td>\n",
              "    </tr>\n",
              "    <tr>\n",
              "      <td id=\"T_b7b62_row10_col0\" class=\"data row10 col0\" >123980</td>\n",
              "      <td id=\"T_b7b62_row10_col1\" class=\"data row10 col1\" >Mahender</td>\n",
              "      <td id=\"T_b7b62_row10_col2\" class=\"data row10 col2\" >Production</td>\n",
              "      <td id=\"T_b7b62_row10_col3\" class=\"data row10 col3\" >Bombay</td>\n",
              "    </tr>\n",
              "    <tr>\n",
              "      <td id=\"T_b7b62_row11_col0\" class=\"data row11 col0\" >349870</td>\n",
              "      <td id=\"T_b7b62_row11_col1\" class=\"data row11 col1\" >Rani</td>\n",
              "      <td id=\"T_b7b62_row11_col2\" class=\"data row11 col2\" >Production</td>\n",
              "      <td id=\"T_b7b62_row11_col3\" class=\"data row11 col3\" >Bombay</td>\n",
              "    </tr>\n",
              "  </tbody>\n",
              "</table>\n"
            ]
          },
          "metadata": {},
          "execution_count": 49
        }
      ]
    },
    {
      "cell_type": "code",
      "source": [
        "sql = 'select deptname,round(sum(salary),0) payroll from empl INNER JOIN dept ON empl.deptid = dept.deptid \\\n",
        "group by deptname'\n",
        "runSelect(sql)"
      ],
      "metadata": {
        "id": "pKk82QRi28DP",
        "outputId": "b05b4ff3-17b7-4640-b2cd-c8cbfe046c22",
        "colab": {
          "base_uri": "https://localhost:8080/",
          "height": 175
        }
      },
      "execution_count": 50,
      "outputs": [
        {
          "output_type": "execute_result",
          "data": {
            "text/plain": [
              "<pandas.io.formats.style.Styler at 0x7adbe23fbe50>"
            ],
            "text/html": [
              "<style type=\"text/css\">\n",
              "</style>\n",
              "<table id=\"T_b1424\" class=\"dataframe\">\n",
              "  <thead>\n",
              "    <tr>\n",
              "      <th id=\"T_b1424_level0_col0\" class=\"col_heading level0 col0\" >deptname</th>\n",
              "      <th id=\"T_b1424_level0_col1\" class=\"col_heading level0 col1\" >payroll</th>\n",
              "    </tr>\n",
              "  </thead>\n",
              "  <tbody>\n",
              "    <tr>\n",
              "      <td id=\"T_b1424_row0_col0\" class=\"data row0 col0\" >Corporate</td>\n",
              "      <td id=\"T_b1424_row0_col1\" class=\"data row0 col1\" >150000</td>\n",
              "    </tr>\n",
              "    <tr>\n",
              "      <td id=\"T_b1424_row1_col0\" class=\"data row1 col0\" >Accounts</td>\n",
              "      <td id=\"T_b1424_row1_col1\" class=\"data row1 col1\" >77000</td>\n",
              "    </tr>\n",
              "    <tr>\n",
              "      <td id=\"T_b1424_row2_col0\" class=\"data row2 col0\" >Sales</td>\n",
              "      <td id=\"T_b1424_row2_col1\" class=\"data row2 col1\" >55000</td>\n",
              "    </tr>\n",
              "    <tr>\n",
              "      <td id=\"T_b1424_row3_col0\" class=\"data row3 col0\" >Production</td>\n",
              "      <td id=\"T_b1424_row3_col1\" class=\"data row3 col1\" >54000</td>\n",
              "    </tr>\n",
              "  </tbody>\n",
              "</table>\n"
            ]
          },
          "metadata": {},
          "execution_count": 50
        }
      ]
    },
    {
      "cell_type": "markdown",
      "source": [
        "## Outer Join"
      ],
      "metadata": {
        "id": "tK9uJHAL1u6x"
      }
    },
    {
      "cell_type": "markdown",
      "source": [
        "### Left Outer"
      ],
      "metadata": {
        "id": "5wGFVhyJ2x8S"
      }
    },
    {
      "cell_type": "code",
      "source": [
        "sql = 'select empid, firstname, deptname, location from empl LEFT JOIN dept ON empl.deptid = dept.deptid'\n",
        "runSelect(sql)"
      ],
      "metadata": {
        "colab": {
          "base_uri": "https://localhost:8080/",
          "height": 457
        },
        "id": "Ls6VfOXt1zTq",
        "outputId": "c9297fd8-839d-45e1-c395-0bc25977a1cd"
      },
      "execution_count": 51,
      "outputs": [
        {
          "output_type": "execute_result",
          "data": {
            "text/plain": [
              "<pandas.io.formats.style.Styler at 0x7adbe23fab90>"
            ],
            "text/html": [
              "<style type=\"text/css\">\n",
              "</style>\n",
              "<table id=\"T_a6f19\" class=\"dataframe\">\n",
              "  <thead>\n",
              "    <tr>\n",
              "      <th id=\"T_a6f19_level0_col0\" class=\"col_heading level0 col0\" >empid</th>\n",
              "      <th id=\"T_a6f19_level0_col1\" class=\"col_heading level0 col1\" >firstname</th>\n",
              "      <th id=\"T_a6f19_level0_col2\" class=\"col_heading level0 col2\" >deptname</th>\n",
              "      <th id=\"T_a6f19_level0_col3\" class=\"col_heading level0 col3\" >location</th>\n",
              "    </tr>\n",
              "  </thead>\n",
              "  <tbody>\n",
              "    <tr>\n",
              "      <td id=\"T_a6f19_row0_col0\" class=\"data row0 col0\" >546223</td>\n",
              "      <td id=\"T_a6f19_row0_col1\" class=\"data row0 col1\" >Narayan</td>\n",
              "      <td id=\"T_a6f19_row0_col2\" class=\"data row0 col2\" >Corporate</td>\n",
              "      <td id=\"T_a6f19_row0_col3\" class=\"data row0 col3\" >Calcutta</td>\n",
              "    </tr>\n",
              "    <tr>\n",
              "      <td id=\"T_a6f19_row1_col0\" class=\"data row1 col0\" >299034</td>\n",
              "      <td id=\"T_a6f19_row1_col1\" class=\"data row1 col1\" >Rekha</td>\n",
              "      <td id=\"T_a6f19_row1_col2\" class=\"data row1 col2\" >Corporate</td>\n",
              "      <td id=\"T_a6f19_row1_col3\" class=\"data row1 col3\" >Calcutta</td>\n",
              "    </tr>\n",
              "    <tr>\n",
              "      <td id=\"T_a6f19_row2_col0\" class=\"data row2 col0\" >742866</td>\n",
              "      <td id=\"T_a6f19_row2_col1\" class=\"data row2 col1\" >Amitabh</td>\n",
              "      <td id=\"T_a6f19_row2_col2\" class=\"data row2 col2\" >Corporate</td>\n",
              "      <td id=\"T_a6f19_row2_col3\" class=\"data row2 col3\" >Calcutta</td>\n",
              "    </tr>\n",
              "    <tr>\n",
              "      <td id=\"T_a6f19_row3_col0\" class=\"data row3 col0\" >897889</td>\n",
              "      <td id=\"T_a6f19_row3_col1\" class=\"data row3 col1\" >Virender</td>\n",
              "      <td id=\"T_a6f19_row3_col2\" class=\"data row3 col2\" >Sales</td>\n",
              "      <td id=\"T_a6f19_row3_col3\" class=\"data row3 col3\" >Calcutta</td>\n",
              "    </tr>\n",
              "    <tr>\n",
              "      <td id=\"T_a6f19_row4_col0\" class=\"data row4 col0\" >239456</td>\n",
              "      <td id=\"T_a6f19_row4_col1\" class=\"data row4 col1\" >Shahrukh</td>\n",
              "      <td id=\"T_a6f19_row4_col2\" class=\"data row4 col2\" >Sales</td>\n",
              "      <td id=\"T_a6f19_row4_col3\" class=\"data row4 col3\" >Calcutta</td>\n",
              "    </tr>\n",
              "    <tr>\n",
              "      <td id=\"T_a6f19_row5_col0\" class=\"data row5 col0\" >865477</td>\n",
              "      <td id=\"T_a6f19_row5_col1\" class=\"data row5 col1\" >Madhuri</td>\n",
              "      <td id=\"T_a6f19_row5_col2\" class=\"data row5 col2\" >Sales</td>\n",
              "      <td id=\"T_a6f19_row5_col3\" class=\"data row5 col3\" >Calcutta</td>\n",
              "    </tr>\n",
              "    <tr>\n",
              "      <td id=\"T_a6f19_row6_col0\" class=\"data row6 col0\" >223112</td>\n",
              "      <td id=\"T_a6f19_row6_col1\" class=\"data row6 col1\" >Sania</td>\n",
              "      <td id=\"T_a6f19_row6_col2\" class=\"data row6 col2\" >Accounts</td>\n",
              "      <td id=\"T_a6f19_row6_col3\" class=\"data row6 col3\" >Calcutta</td>\n",
              "    </tr>\n",
              "    <tr>\n",
              "      <td id=\"T_a6f19_row7_col0\" class=\"data row7 col0\" >997445</td>\n",
              "      <td id=\"T_a6f19_row7_col1\" class=\"data row7 col1\" >Jagmohan</td>\n",
              "      <td id=\"T_a6f19_row7_col2\" class=\"data row7 col2\" >Accounts</td>\n",
              "      <td id=\"T_a6f19_row7_col3\" class=\"data row7 col3\" >Calcutta</td>\n",
              "    </tr>\n",
              "    <tr>\n",
              "      <td id=\"T_a6f19_row8_col0\" class=\"data row8 col0\" >822134</td>\n",
              "      <td id=\"T_a6f19_row8_col1\" class=\"data row8 col1\" >Rahul</td>\n",
              "      <td id=\"T_a6f19_row8_col2\" class=\"data row8 col2\" >Accounts</td>\n",
              "      <td id=\"T_a6f19_row8_col3\" class=\"data row8 col3\" >Calcutta</td>\n",
              "    </tr>\n",
              "    <tr>\n",
              "      <td id=\"T_a6f19_row9_col0\" class=\"data row9 col0\" >989007</td>\n",
              "      <td id=\"T_a6f19_row9_col1\" class=\"data row9 col1\" >Sourav</td>\n",
              "      <td id=\"T_a6f19_row9_col2\" class=\"data row9 col2\" >Production</td>\n",
              "      <td id=\"T_a6f19_row9_col3\" class=\"data row9 col3\" >Bombay</td>\n",
              "    </tr>\n",
              "    <tr>\n",
              "      <td id=\"T_a6f19_row10_col0\" class=\"data row10 col0\" >123980</td>\n",
              "      <td id=\"T_a6f19_row10_col1\" class=\"data row10 col1\" >Mahender</td>\n",
              "      <td id=\"T_a6f19_row10_col2\" class=\"data row10 col2\" >Production</td>\n",
              "      <td id=\"T_a6f19_row10_col3\" class=\"data row10 col3\" >Bombay</td>\n",
              "    </tr>\n",
              "    <tr>\n",
              "      <td id=\"T_a6f19_row11_col0\" class=\"data row11 col0\" >349870</td>\n",
              "      <td id=\"T_a6f19_row11_col1\" class=\"data row11 col1\" >Rani</td>\n",
              "      <td id=\"T_a6f19_row11_col2\" class=\"data row11 col2\" >Production</td>\n",
              "      <td id=\"T_a6f19_row11_col3\" class=\"data row11 col3\" >Bombay</td>\n",
              "    </tr>\n",
              "    <tr>\n",
              "      <td id=\"T_a6f19_row12_col0\" class=\"data row12 col0\" >546224</td>\n",
              "      <td id=\"T_a6f19_row12_col1\" class=\"data row12 col1\" >Chettri</td>\n",
              "      <td id=\"T_a6f19_row12_col2\" class=\"data row12 col2\" >None</td>\n",
              "      <td id=\"T_a6f19_row12_col3\" class=\"data row12 col3\" >None</td>\n",
              "    </tr>\n",
              "  </tbody>\n",
              "</table>\n"
            ]
          },
          "metadata": {},
          "execution_count": 51
        }
      ]
    },
    {
      "cell_type": "markdown",
      "source": [
        "### Right Outer"
      ],
      "metadata": {
        "id": "iJ6DASb121Og"
      }
    },
    {
      "cell_type": "code",
      "source": [
        "sql = 'select empid, firstname, deptname, location from empl RIGHT JOIN dept ON empl.deptid = dept.deptid'\n",
        "runSelect(sql)"
      ],
      "metadata": {
        "colab": {
          "base_uri": "https://localhost:8080/",
          "height": 457
        },
        "id": "khvQpQ4E2XND",
        "outputId": "6e84a6c1-43dd-4d73-86fa-23eb1a317599"
      },
      "execution_count": 52,
      "outputs": [
        {
          "output_type": "execute_result",
          "data": {
            "text/plain": [
              "<pandas.io.formats.style.Styler at 0x7adbe2465030>"
            ],
            "text/html": [
              "<style type=\"text/css\">\n",
              "</style>\n",
              "<table id=\"T_55162\" class=\"dataframe\">\n",
              "  <thead>\n",
              "    <tr>\n",
              "      <th id=\"T_55162_level0_col0\" class=\"col_heading level0 col0\" >empid</th>\n",
              "      <th id=\"T_55162_level0_col1\" class=\"col_heading level0 col1\" >firstname</th>\n",
              "      <th id=\"T_55162_level0_col2\" class=\"col_heading level0 col2\" >deptname</th>\n",
              "      <th id=\"T_55162_level0_col3\" class=\"col_heading level0 col3\" >location</th>\n",
              "    </tr>\n",
              "  </thead>\n",
              "  <tbody>\n",
              "    <tr>\n",
              "      <td id=\"T_55162_row0_col0\" class=\"data row0 col0\" >546223</td>\n",
              "      <td id=\"T_55162_row0_col1\" class=\"data row0 col1\" >Narayan</td>\n",
              "      <td id=\"T_55162_row0_col2\" class=\"data row0 col2\" >Corporate</td>\n",
              "      <td id=\"T_55162_row0_col3\" class=\"data row0 col3\" >Calcutta</td>\n",
              "    </tr>\n",
              "    <tr>\n",
              "      <td id=\"T_55162_row1_col0\" class=\"data row1 col0\" >299034</td>\n",
              "      <td id=\"T_55162_row1_col1\" class=\"data row1 col1\" >Rekha</td>\n",
              "      <td id=\"T_55162_row1_col2\" class=\"data row1 col2\" >Corporate</td>\n",
              "      <td id=\"T_55162_row1_col3\" class=\"data row1 col3\" >Calcutta</td>\n",
              "    </tr>\n",
              "    <tr>\n",
              "      <td id=\"T_55162_row2_col0\" class=\"data row2 col0\" >742866</td>\n",
              "      <td id=\"T_55162_row2_col1\" class=\"data row2 col1\" >Amitabh</td>\n",
              "      <td id=\"T_55162_row2_col2\" class=\"data row2 col2\" >Corporate</td>\n",
              "      <td id=\"T_55162_row2_col3\" class=\"data row2 col3\" >Calcutta</td>\n",
              "    </tr>\n",
              "    <tr>\n",
              "      <td id=\"T_55162_row3_col0\" class=\"data row3 col0\" >897889</td>\n",
              "      <td id=\"T_55162_row3_col1\" class=\"data row3 col1\" >Virender</td>\n",
              "      <td id=\"T_55162_row3_col2\" class=\"data row3 col2\" >Sales</td>\n",
              "      <td id=\"T_55162_row3_col3\" class=\"data row3 col3\" >Calcutta</td>\n",
              "    </tr>\n",
              "    <tr>\n",
              "      <td id=\"T_55162_row4_col0\" class=\"data row4 col0\" >239456</td>\n",
              "      <td id=\"T_55162_row4_col1\" class=\"data row4 col1\" >Shahrukh</td>\n",
              "      <td id=\"T_55162_row4_col2\" class=\"data row4 col2\" >Sales</td>\n",
              "      <td id=\"T_55162_row4_col3\" class=\"data row4 col3\" >Calcutta</td>\n",
              "    </tr>\n",
              "    <tr>\n",
              "      <td id=\"T_55162_row5_col0\" class=\"data row5 col0\" >865477</td>\n",
              "      <td id=\"T_55162_row5_col1\" class=\"data row5 col1\" >Madhuri</td>\n",
              "      <td id=\"T_55162_row5_col2\" class=\"data row5 col2\" >Sales</td>\n",
              "      <td id=\"T_55162_row5_col3\" class=\"data row5 col3\" >Calcutta</td>\n",
              "    </tr>\n",
              "    <tr>\n",
              "      <td id=\"T_55162_row6_col0\" class=\"data row6 col0\" >223112</td>\n",
              "      <td id=\"T_55162_row6_col1\" class=\"data row6 col1\" >Sania</td>\n",
              "      <td id=\"T_55162_row6_col2\" class=\"data row6 col2\" >Accounts</td>\n",
              "      <td id=\"T_55162_row6_col3\" class=\"data row6 col3\" >Calcutta</td>\n",
              "    </tr>\n",
              "    <tr>\n",
              "      <td id=\"T_55162_row7_col0\" class=\"data row7 col0\" >997445</td>\n",
              "      <td id=\"T_55162_row7_col1\" class=\"data row7 col1\" >Jagmohan</td>\n",
              "      <td id=\"T_55162_row7_col2\" class=\"data row7 col2\" >Accounts</td>\n",
              "      <td id=\"T_55162_row7_col3\" class=\"data row7 col3\" >Calcutta</td>\n",
              "    </tr>\n",
              "    <tr>\n",
              "      <td id=\"T_55162_row8_col0\" class=\"data row8 col0\" >822134</td>\n",
              "      <td id=\"T_55162_row8_col1\" class=\"data row8 col1\" >Rahul</td>\n",
              "      <td id=\"T_55162_row8_col2\" class=\"data row8 col2\" >Accounts</td>\n",
              "      <td id=\"T_55162_row8_col3\" class=\"data row8 col3\" >Calcutta</td>\n",
              "    </tr>\n",
              "    <tr>\n",
              "      <td id=\"T_55162_row9_col0\" class=\"data row9 col0\" >989007</td>\n",
              "      <td id=\"T_55162_row9_col1\" class=\"data row9 col1\" >Sourav</td>\n",
              "      <td id=\"T_55162_row9_col2\" class=\"data row9 col2\" >Production</td>\n",
              "      <td id=\"T_55162_row9_col3\" class=\"data row9 col3\" >Bombay</td>\n",
              "    </tr>\n",
              "    <tr>\n",
              "      <td id=\"T_55162_row10_col0\" class=\"data row10 col0\" >123980</td>\n",
              "      <td id=\"T_55162_row10_col1\" class=\"data row10 col1\" >Mahender</td>\n",
              "      <td id=\"T_55162_row10_col2\" class=\"data row10 col2\" >Production</td>\n",
              "      <td id=\"T_55162_row10_col3\" class=\"data row10 col3\" >Bombay</td>\n",
              "    </tr>\n",
              "    <tr>\n",
              "      <td id=\"T_55162_row11_col0\" class=\"data row11 col0\" >349870</td>\n",
              "      <td id=\"T_55162_row11_col1\" class=\"data row11 col1\" >Rani</td>\n",
              "      <td id=\"T_55162_row11_col2\" class=\"data row11 col2\" >Production</td>\n",
              "      <td id=\"T_55162_row11_col3\" class=\"data row11 col3\" >Bombay</td>\n",
              "    </tr>\n",
              "    <tr>\n",
              "      <td id=\"T_55162_row12_col0\" class=\"data row12 col0\" >None</td>\n",
              "      <td id=\"T_55162_row12_col1\" class=\"data row12 col1\" >None</td>\n",
              "      <td id=\"T_55162_row12_col2\" class=\"data row12 col2\" >Research</td>\n",
              "      <td id=\"T_55162_row12_col3\" class=\"data row12 col3\" >Delhi</td>\n",
              "    </tr>\n",
              "  </tbody>\n",
              "</table>\n"
            ]
          },
          "metadata": {},
          "execution_count": 52
        }
      ]
    },
    {
      "cell_type": "markdown",
      "source": [
        "### Full Outer"
      ],
      "metadata": {
        "id": "RsEyhBBp24zy"
      }
    },
    {
      "cell_type": "code",
      "source": [
        "sql = 'select empid, firstname, deptname, location from empl FULL JOIN dept ON empl.deptid = dept.deptid'\n",
        "runSelect(sql)"
      ],
      "metadata": {
        "colab": {
          "base_uri": "https://localhost:8080/",
          "height": 488
        },
        "id": "Ipt14U9o2qFg",
        "outputId": "459b3412-1f5d-4c07-ead4-b87c44259495"
      },
      "execution_count": 53,
      "outputs": [
        {
          "output_type": "execute_result",
          "data": {
            "text/plain": [
              "<pandas.io.formats.style.Styler at 0x7adbe24659f0>"
            ],
            "text/html": [
              "<style type=\"text/css\">\n",
              "</style>\n",
              "<table id=\"T_06992\" class=\"dataframe\">\n",
              "  <thead>\n",
              "    <tr>\n",
              "      <th id=\"T_06992_level0_col0\" class=\"col_heading level0 col0\" >empid</th>\n",
              "      <th id=\"T_06992_level0_col1\" class=\"col_heading level0 col1\" >firstname</th>\n",
              "      <th id=\"T_06992_level0_col2\" class=\"col_heading level0 col2\" >deptname</th>\n",
              "      <th id=\"T_06992_level0_col3\" class=\"col_heading level0 col3\" >location</th>\n",
              "    </tr>\n",
              "  </thead>\n",
              "  <tbody>\n",
              "    <tr>\n",
              "      <td id=\"T_06992_row0_col0\" class=\"data row0 col0\" >546223</td>\n",
              "      <td id=\"T_06992_row0_col1\" class=\"data row0 col1\" >Narayan</td>\n",
              "      <td id=\"T_06992_row0_col2\" class=\"data row0 col2\" >Corporate</td>\n",
              "      <td id=\"T_06992_row0_col3\" class=\"data row0 col3\" >Calcutta</td>\n",
              "    </tr>\n",
              "    <tr>\n",
              "      <td id=\"T_06992_row1_col0\" class=\"data row1 col0\" >299034</td>\n",
              "      <td id=\"T_06992_row1_col1\" class=\"data row1 col1\" >Rekha</td>\n",
              "      <td id=\"T_06992_row1_col2\" class=\"data row1 col2\" >Corporate</td>\n",
              "      <td id=\"T_06992_row1_col3\" class=\"data row1 col3\" >Calcutta</td>\n",
              "    </tr>\n",
              "    <tr>\n",
              "      <td id=\"T_06992_row2_col0\" class=\"data row2 col0\" >742866</td>\n",
              "      <td id=\"T_06992_row2_col1\" class=\"data row2 col1\" >Amitabh</td>\n",
              "      <td id=\"T_06992_row2_col2\" class=\"data row2 col2\" >Corporate</td>\n",
              "      <td id=\"T_06992_row2_col3\" class=\"data row2 col3\" >Calcutta</td>\n",
              "    </tr>\n",
              "    <tr>\n",
              "      <td id=\"T_06992_row3_col0\" class=\"data row3 col0\" >897889</td>\n",
              "      <td id=\"T_06992_row3_col1\" class=\"data row3 col1\" >Virender</td>\n",
              "      <td id=\"T_06992_row3_col2\" class=\"data row3 col2\" >Sales</td>\n",
              "      <td id=\"T_06992_row3_col3\" class=\"data row3 col3\" >Calcutta</td>\n",
              "    </tr>\n",
              "    <tr>\n",
              "      <td id=\"T_06992_row4_col0\" class=\"data row4 col0\" >239456</td>\n",
              "      <td id=\"T_06992_row4_col1\" class=\"data row4 col1\" >Shahrukh</td>\n",
              "      <td id=\"T_06992_row4_col2\" class=\"data row4 col2\" >Sales</td>\n",
              "      <td id=\"T_06992_row4_col3\" class=\"data row4 col3\" >Calcutta</td>\n",
              "    </tr>\n",
              "    <tr>\n",
              "      <td id=\"T_06992_row5_col0\" class=\"data row5 col0\" >865477</td>\n",
              "      <td id=\"T_06992_row5_col1\" class=\"data row5 col1\" >Madhuri</td>\n",
              "      <td id=\"T_06992_row5_col2\" class=\"data row5 col2\" >Sales</td>\n",
              "      <td id=\"T_06992_row5_col3\" class=\"data row5 col3\" >Calcutta</td>\n",
              "    </tr>\n",
              "    <tr>\n",
              "      <td id=\"T_06992_row6_col0\" class=\"data row6 col0\" >223112</td>\n",
              "      <td id=\"T_06992_row6_col1\" class=\"data row6 col1\" >Sania</td>\n",
              "      <td id=\"T_06992_row6_col2\" class=\"data row6 col2\" >Accounts</td>\n",
              "      <td id=\"T_06992_row6_col3\" class=\"data row6 col3\" >Calcutta</td>\n",
              "    </tr>\n",
              "    <tr>\n",
              "      <td id=\"T_06992_row7_col0\" class=\"data row7 col0\" >997445</td>\n",
              "      <td id=\"T_06992_row7_col1\" class=\"data row7 col1\" >Jagmohan</td>\n",
              "      <td id=\"T_06992_row7_col2\" class=\"data row7 col2\" >Accounts</td>\n",
              "      <td id=\"T_06992_row7_col3\" class=\"data row7 col3\" >Calcutta</td>\n",
              "    </tr>\n",
              "    <tr>\n",
              "      <td id=\"T_06992_row8_col0\" class=\"data row8 col0\" >822134</td>\n",
              "      <td id=\"T_06992_row8_col1\" class=\"data row8 col1\" >Rahul</td>\n",
              "      <td id=\"T_06992_row8_col2\" class=\"data row8 col2\" >Accounts</td>\n",
              "      <td id=\"T_06992_row8_col3\" class=\"data row8 col3\" >Calcutta</td>\n",
              "    </tr>\n",
              "    <tr>\n",
              "      <td id=\"T_06992_row9_col0\" class=\"data row9 col0\" >989007</td>\n",
              "      <td id=\"T_06992_row9_col1\" class=\"data row9 col1\" >Sourav</td>\n",
              "      <td id=\"T_06992_row9_col2\" class=\"data row9 col2\" >Production</td>\n",
              "      <td id=\"T_06992_row9_col3\" class=\"data row9 col3\" >Bombay</td>\n",
              "    </tr>\n",
              "    <tr>\n",
              "      <td id=\"T_06992_row10_col0\" class=\"data row10 col0\" >123980</td>\n",
              "      <td id=\"T_06992_row10_col1\" class=\"data row10 col1\" >Mahender</td>\n",
              "      <td id=\"T_06992_row10_col2\" class=\"data row10 col2\" >Production</td>\n",
              "      <td id=\"T_06992_row10_col3\" class=\"data row10 col3\" >Bombay</td>\n",
              "    </tr>\n",
              "    <tr>\n",
              "      <td id=\"T_06992_row11_col0\" class=\"data row11 col0\" >349870</td>\n",
              "      <td id=\"T_06992_row11_col1\" class=\"data row11 col1\" >Rani</td>\n",
              "      <td id=\"T_06992_row11_col2\" class=\"data row11 col2\" >Production</td>\n",
              "      <td id=\"T_06992_row11_col3\" class=\"data row11 col3\" >Bombay</td>\n",
              "    </tr>\n",
              "    <tr>\n",
              "      <td id=\"T_06992_row12_col0\" class=\"data row12 col0\" >None</td>\n",
              "      <td id=\"T_06992_row12_col1\" class=\"data row12 col1\" >None</td>\n",
              "      <td id=\"T_06992_row12_col2\" class=\"data row12 col2\" >Research</td>\n",
              "      <td id=\"T_06992_row12_col3\" class=\"data row12 col3\" >Delhi</td>\n",
              "    </tr>\n",
              "    <tr>\n",
              "      <td id=\"T_06992_row13_col0\" class=\"data row13 col0\" >546224</td>\n",
              "      <td id=\"T_06992_row13_col1\" class=\"data row13 col1\" >Chettri</td>\n",
              "      <td id=\"T_06992_row13_col2\" class=\"data row13 col2\" >None</td>\n",
              "      <td id=\"T_06992_row13_col3\" class=\"data row13 col3\" >None</td>\n",
              "    </tr>\n",
              "  </tbody>\n",
              "</table>\n"
            ]
          },
          "metadata": {},
          "execution_count": 53
        }
      ]
    },
    {
      "cell_type": "code",
      "source": [
        "sql = 'select deptname,round(sum(salary),0) payroll from empl FULL JOIN dept ON empl.deptid = dept.deptid \\\n",
        "group by deptname'\n",
        "runSelect(sql)"
      ],
      "metadata": {
        "id": "EAI2kiYP3p9O",
        "outputId": "95884270-fd13-490c-b73a-a88777761179",
        "colab": {
          "base_uri": "https://localhost:8080/",
          "height": 238
        }
      },
      "execution_count": 54,
      "outputs": [
        {
          "output_type": "execute_result",
          "data": {
            "text/plain": [
              "<pandas.io.formats.style.Styler at 0x7adbe2465f90>"
            ],
            "text/html": [
              "<style type=\"text/css\">\n",
              "</style>\n",
              "<table id=\"T_331ca\" class=\"dataframe\">\n",
              "  <thead>\n",
              "    <tr>\n",
              "      <th id=\"T_331ca_level0_col0\" class=\"col_heading level0 col0\" >deptname</th>\n",
              "      <th id=\"T_331ca_level0_col1\" class=\"col_heading level0 col1\" >payroll</th>\n",
              "    </tr>\n",
              "  </thead>\n",
              "  <tbody>\n",
              "    <tr>\n",
              "      <td id=\"T_331ca_row0_col0\" class=\"data row0 col0\" >None</td>\n",
              "      <td id=\"T_331ca_row0_col1\" class=\"data row0 col1\" >40000</td>\n",
              "    </tr>\n",
              "    <tr>\n",
              "      <td id=\"T_331ca_row1_col0\" class=\"data row1 col0\" >Research</td>\n",
              "      <td id=\"T_331ca_row1_col1\" class=\"data row1 col1\" >None</td>\n",
              "    </tr>\n",
              "    <tr>\n",
              "      <td id=\"T_331ca_row2_col0\" class=\"data row2 col0\" >Corporate</td>\n",
              "      <td id=\"T_331ca_row2_col1\" class=\"data row2 col1\" >150000</td>\n",
              "    </tr>\n",
              "    <tr>\n",
              "      <td id=\"T_331ca_row3_col0\" class=\"data row3 col0\" >Accounts</td>\n",
              "      <td id=\"T_331ca_row3_col1\" class=\"data row3 col1\" >77000</td>\n",
              "    </tr>\n",
              "    <tr>\n",
              "      <td id=\"T_331ca_row4_col0\" class=\"data row4 col0\" >Sales</td>\n",
              "      <td id=\"T_331ca_row4_col1\" class=\"data row4 col1\" >55000</td>\n",
              "    </tr>\n",
              "    <tr>\n",
              "      <td id=\"T_331ca_row5_col0\" class=\"data row5 col0\" >Production</td>\n",
              "      <td id=\"T_331ca_row5_col1\" class=\"data row5 col1\" >54000</td>\n",
              "    </tr>\n",
              "  </tbody>\n",
              "</table>\n"
            ]
          },
          "metadata": {},
          "execution_count": 54
        }
      ]
    },
    {
      "cell_type": "markdown",
      "source": [
        "## Recursive Joins"
      ],
      "metadata": {
        "id": "6nm2xAfn6pIV"
      }
    },
    {
      "cell_type": "markdown",
      "source": [
        "### Three Tables"
      ],
      "metadata": {
        "id": "A1KCGwwyB02z"
      }
    },
    {
      "cell_type": "code",
      "source": [
        "cmd = \"select w.lastname , w.deptID, '>' linksTo  , d.deptID ,d.managerID,'<' linksTo, m.empID, m.lastname \\\n",
        "        from Empl w, Dept d, Empl m \\\n",
        "        where w.deptID = d.deptID   \\\n",
        "        and d.managerID = m.empID \\\n",
        "    \"\n",
        "runSelect(cmd)"
      ],
      "metadata": {
        "colab": {
          "base_uri": "https://localhost:8080/",
          "height": 426
        },
        "id": "W17nS5R7AL0J",
        "outputId": "ae88e6dc-d773-4c0f-aa76-fcf107ab10f1"
      },
      "execution_count": 55,
      "outputs": [
        {
          "output_type": "execute_result",
          "data": {
            "text/plain": [
              "<pandas.io.formats.style.Styler at 0x7adbe2466ef0>"
            ],
            "text/html": [
              "<style type=\"text/css\">\n",
              "</style>\n",
              "<table id=\"T_adb37\" class=\"dataframe\">\n",
              "  <thead>\n",
              "    <tr>\n",
              "      <th id=\"T_adb37_level0_col0\" class=\"col_heading level0 col0\" >lastname</th>\n",
              "      <th id=\"T_adb37_level0_col1\" class=\"col_heading level0 col1\" >deptid</th>\n",
              "      <th id=\"T_adb37_level0_col2\" class=\"col_heading level0 col2\" >linksto</th>\n",
              "      <th id=\"T_adb37_level0_col3\" class=\"col_heading level0 col3\" >deptid</th>\n",
              "      <th id=\"T_adb37_level0_col4\" class=\"col_heading level0 col4\" >managerid</th>\n",
              "      <th id=\"T_adb37_level0_col5\" class=\"col_heading level0 col5\" >linksto</th>\n",
              "      <th id=\"T_adb37_level0_col6\" class=\"col_heading level0 col6\" >empid</th>\n",
              "      <th id=\"T_adb37_level0_col7\" class=\"col_heading level0 col7\" >lastname</th>\n",
              "    </tr>\n",
              "  </thead>\n",
              "  <tbody>\n",
              "    <tr>\n",
              "      <td id=\"T_adb37_row0_col0\" class=\"data row0 col0\" >Karthikeyan</td>\n",
              "      <td id=\"T_adb37_row0_col1\" class=\"data row0 col1\" >10</td>\n",
              "      <td id=\"T_adb37_row0_col2\" class=\"data row0 col2\" >></td>\n",
              "      <td id=\"T_adb37_row0_col3\" class=\"data row0 col3\" >10</td>\n",
              "      <td id=\"T_adb37_row0_col4\" class=\"data row0 col4\" >299034</td>\n",
              "      <td id=\"T_adb37_row0_col5\" class=\"data row0 col5\" ><</td>\n",
              "      <td id=\"T_adb37_row0_col6\" class=\"data row0 col6\" >299034</td>\n",
              "      <td id=\"T_adb37_row0_col7\" class=\"data row0 col7\" >Ganesan</td>\n",
              "    </tr>\n",
              "    <tr>\n",
              "      <td id=\"T_adb37_row1_col0\" class=\"data row1 col0\" >Ganesan</td>\n",
              "      <td id=\"T_adb37_row1_col1\" class=\"data row1 col1\" >10</td>\n",
              "      <td id=\"T_adb37_row1_col2\" class=\"data row1 col2\" >></td>\n",
              "      <td id=\"T_adb37_row1_col3\" class=\"data row1 col3\" >10</td>\n",
              "      <td id=\"T_adb37_row1_col4\" class=\"data row1 col4\" >299034</td>\n",
              "      <td id=\"T_adb37_row1_col5\" class=\"data row1 col5\" ><</td>\n",
              "      <td id=\"T_adb37_row1_col6\" class=\"data row1 col6\" >299034</td>\n",
              "      <td id=\"T_adb37_row1_col7\" class=\"data row1 col7\" >Ganesan</td>\n",
              "    </tr>\n",
              "    <tr>\n",
              "      <td id=\"T_adb37_row2_col0\" class=\"data row2 col0\" >Bacchan</td>\n",
              "      <td id=\"T_adb37_row2_col1\" class=\"data row2 col1\" >10</td>\n",
              "      <td id=\"T_adb37_row2_col2\" class=\"data row2 col2\" >></td>\n",
              "      <td id=\"T_adb37_row2_col3\" class=\"data row2 col3\" >10</td>\n",
              "      <td id=\"T_adb37_row2_col4\" class=\"data row2 col4\" >299034</td>\n",
              "      <td id=\"T_adb37_row2_col5\" class=\"data row2 col5\" ><</td>\n",
              "      <td id=\"T_adb37_row2_col6\" class=\"data row2 col6\" >299034</td>\n",
              "      <td id=\"T_adb37_row2_col7\" class=\"data row2 col7\" >Ganesan</td>\n",
              "    </tr>\n",
              "    <tr>\n",
              "      <td id=\"T_adb37_row3_col0\" class=\"data row3 col0\" >Sehwag</td>\n",
              "      <td id=\"T_adb37_row3_col1\" class=\"data row3 col1\" >20</td>\n",
              "      <td id=\"T_adb37_row3_col2\" class=\"data row3 col2\" >></td>\n",
              "      <td id=\"T_adb37_row3_col3\" class=\"data row3 col3\" >20</td>\n",
              "      <td id=\"T_adb37_row3_col4\" class=\"data row3 col4\" >239456</td>\n",
              "      <td id=\"T_adb37_row3_col5\" class=\"data row3 col5\" ><</td>\n",
              "      <td id=\"T_adb37_row3_col6\" class=\"data row3 col6\" >239456</td>\n",
              "      <td id=\"T_adb37_row3_col7\" class=\"data row3 col7\" >Khan</td>\n",
              "    </tr>\n",
              "    <tr>\n",
              "      <td id=\"T_adb37_row4_col0\" class=\"data row4 col0\" >Khan</td>\n",
              "      <td id=\"T_adb37_row4_col1\" class=\"data row4 col1\" >20</td>\n",
              "      <td id=\"T_adb37_row4_col2\" class=\"data row4 col2\" >></td>\n",
              "      <td id=\"T_adb37_row4_col3\" class=\"data row4 col3\" >20</td>\n",
              "      <td id=\"T_adb37_row4_col4\" class=\"data row4 col4\" >239456</td>\n",
              "      <td id=\"T_adb37_row4_col5\" class=\"data row4 col5\" ><</td>\n",
              "      <td id=\"T_adb37_row4_col6\" class=\"data row4 col6\" >239456</td>\n",
              "      <td id=\"T_adb37_row4_col7\" class=\"data row4 col7\" >Khan</td>\n",
              "    </tr>\n",
              "    <tr>\n",
              "      <td id=\"T_adb37_row5_col0\" class=\"data row5 col0\" >Dikshit</td>\n",
              "      <td id=\"T_adb37_row5_col1\" class=\"data row5 col1\" >20</td>\n",
              "      <td id=\"T_adb37_row5_col2\" class=\"data row5 col2\" >></td>\n",
              "      <td id=\"T_adb37_row5_col3\" class=\"data row5 col3\" >20</td>\n",
              "      <td id=\"T_adb37_row5_col4\" class=\"data row5 col4\" >239456</td>\n",
              "      <td id=\"T_adb37_row5_col5\" class=\"data row5 col5\" ><</td>\n",
              "      <td id=\"T_adb37_row5_col6\" class=\"data row5 col6\" >239456</td>\n",
              "      <td id=\"T_adb37_row5_col7\" class=\"data row5 col7\" >Khan</td>\n",
              "    </tr>\n",
              "    <tr>\n",
              "      <td id=\"T_adb37_row6_col0\" class=\"data row6 col0\" >Mirza</td>\n",
              "      <td id=\"T_adb37_row6_col1\" class=\"data row6 col1\" >30</td>\n",
              "      <td id=\"T_adb37_row6_col2\" class=\"data row6 col2\" >></td>\n",
              "      <td id=\"T_adb37_row6_col3\" class=\"data row6 col3\" >30</td>\n",
              "      <td id=\"T_adb37_row6_col4\" class=\"data row6 col4\" >822134</td>\n",
              "      <td id=\"T_adb37_row6_col5\" class=\"data row6 col5\" ><</td>\n",
              "      <td id=\"T_adb37_row6_col6\" class=\"data row6 col6\" >822134</td>\n",
              "      <td id=\"T_adb37_row6_col7\" class=\"data row6 col7\" >Dravid</td>\n",
              "    </tr>\n",
              "    <tr>\n",
              "      <td id=\"T_adb37_row7_col0\" class=\"data row7 col0\" >Dalmia</td>\n",
              "      <td id=\"T_adb37_row7_col1\" class=\"data row7 col1\" >30</td>\n",
              "      <td id=\"T_adb37_row7_col2\" class=\"data row7 col2\" >></td>\n",
              "      <td id=\"T_adb37_row7_col3\" class=\"data row7 col3\" >30</td>\n",
              "      <td id=\"T_adb37_row7_col4\" class=\"data row7 col4\" >822134</td>\n",
              "      <td id=\"T_adb37_row7_col5\" class=\"data row7 col5\" ><</td>\n",
              "      <td id=\"T_adb37_row7_col6\" class=\"data row7 col6\" >822134</td>\n",
              "      <td id=\"T_adb37_row7_col7\" class=\"data row7 col7\" >Dravid</td>\n",
              "    </tr>\n",
              "    <tr>\n",
              "      <td id=\"T_adb37_row8_col0\" class=\"data row8 col0\" >Dravid</td>\n",
              "      <td id=\"T_adb37_row8_col1\" class=\"data row8 col1\" >30</td>\n",
              "      <td id=\"T_adb37_row8_col2\" class=\"data row8 col2\" >></td>\n",
              "      <td id=\"T_adb37_row8_col3\" class=\"data row8 col3\" >30</td>\n",
              "      <td id=\"T_adb37_row8_col4\" class=\"data row8 col4\" >822134</td>\n",
              "      <td id=\"T_adb37_row8_col5\" class=\"data row8 col5\" ><</td>\n",
              "      <td id=\"T_adb37_row8_col6\" class=\"data row8 col6\" >822134</td>\n",
              "      <td id=\"T_adb37_row8_col7\" class=\"data row8 col7\" >Dravid</td>\n",
              "    </tr>\n",
              "    <tr>\n",
              "      <td id=\"T_adb37_row9_col0\" class=\"data row9 col0\" >Ganguly</td>\n",
              "      <td id=\"T_adb37_row9_col1\" class=\"data row9 col1\" >40</td>\n",
              "      <td id=\"T_adb37_row9_col2\" class=\"data row9 col2\" >></td>\n",
              "      <td id=\"T_adb37_row9_col3\" class=\"data row9 col3\" >40</td>\n",
              "      <td id=\"T_adb37_row9_col4\" class=\"data row9 col4\" >349870</td>\n",
              "      <td id=\"T_adb37_row9_col5\" class=\"data row9 col5\" ><</td>\n",
              "      <td id=\"T_adb37_row9_col6\" class=\"data row9 col6\" >349870</td>\n",
              "      <td id=\"T_adb37_row9_col7\" class=\"data row9 col7\" >Mukherjee</td>\n",
              "    </tr>\n",
              "    <tr>\n",
              "      <td id=\"T_adb37_row10_col0\" class=\"data row10 col0\" >Dhoni</td>\n",
              "      <td id=\"T_adb37_row10_col1\" class=\"data row10 col1\" >40</td>\n",
              "      <td id=\"T_adb37_row10_col2\" class=\"data row10 col2\" >></td>\n",
              "      <td id=\"T_adb37_row10_col3\" class=\"data row10 col3\" >40</td>\n",
              "      <td id=\"T_adb37_row10_col4\" class=\"data row10 col4\" >349870</td>\n",
              "      <td id=\"T_adb37_row10_col5\" class=\"data row10 col5\" ><</td>\n",
              "      <td id=\"T_adb37_row10_col6\" class=\"data row10 col6\" >349870</td>\n",
              "      <td id=\"T_adb37_row10_col7\" class=\"data row10 col7\" >Mukherjee</td>\n",
              "    </tr>\n",
              "    <tr>\n",
              "      <td id=\"T_adb37_row11_col0\" class=\"data row11 col0\" >Mukherjee</td>\n",
              "      <td id=\"T_adb37_row11_col1\" class=\"data row11 col1\" >40</td>\n",
              "      <td id=\"T_adb37_row11_col2\" class=\"data row11 col2\" >></td>\n",
              "      <td id=\"T_adb37_row11_col3\" class=\"data row11 col3\" >40</td>\n",
              "      <td id=\"T_adb37_row11_col4\" class=\"data row11 col4\" >349870</td>\n",
              "      <td id=\"T_adb37_row11_col5\" class=\"data row11 col5\" ><</td>\n",
              "      <td id=\"T_adb37_row11_col6\" class=\"data row11 col6\" >349870</td>\n",
              "      <td id=\"T_adb37_row11_col7\" class=\"data row11 col7\" >Mukherjee</td>\n",
              "    </tr>\n",
              "  </tbody>\n",
              "</table>\n"
            ]
          },
          "metadata": {},
          "execution_count": 55
        }
      ]
    },
    {
      "cell_type": "markdown",
      "source": [
        "### Self Join / Single Table"
      ],
      "metadata": {
        "id": "jeknsMbjCA2A"
      }
    },
    {
      "cell_type": "code",
      "source": [
        "cmd = \"Select w.FirstName, w.JobDesc, w.DeptID, \\\n",
        "    ' hired by ' hiredby, \\\n",
        "    m.FirstName,m.JobDesc,m.DeptID \\\n",
        "    from empl w, empl m \\\n",
        "    where w.HiredBy = m.EmpID\"\n",
        "\n",
        "runSelect(cmd)"
      ],
      "metadata": {
        "colab": {
          "base_uri": "https://localhost:8080/",
          "height": 426
        },
        "id": "iDPmUw9-CEBH",
        "outputId": "9b20e9db-772b-47af-b830-0591d1122a8c"
      },
      "execution_count": 56,
      "outputs": [
        {
          "output_type": "execute_result",
          "data": {
            "text/plain": [
              "<pandas.io.formats.style.Styler at 0x7adbe2466770>"
            ],
            "text/html": [
              "<style type=\"text/css\">\n",
              "</style>\n",
              "<table id=\"T_40595\" class=\"dataframe\">\n",
              "  <thead>\n",
              "    <tr>\n",
              "      <th id=\"T_40595_level0_col0\" class=\"col_heading level0 col0\" >firstname</th>\n",
              "      <th id=\"T_40595_level0_col1\" class=\"col_heading level0 col1\" >jobdesc</th>\n",
              "      <th id=\"T_40595_level0_col2\" class=\"col_heading level0 col2\" >deptid</th>\n",
              "      <th id=\"T_40595_level0_col3\" class=\"col_heading level0 col3\" >hiredby</th>\n",
              "      <th id=\"T_40595_level0_col4\" class=\"col_heading level0 col4\" >firstname</th>\n",
              "      <th id=\"T_40595_level0_col5\" class=\"col_heading level0 col5\" >jobdesc</th>\n",
              "      <th id=\"T_40595_level0_col6\" class=\"col_heading level0 col6\" >deptid</th>\n",
              "    </tr>\n",
              "  </thead>\n",
              "  <tbody>\n",
              "    <tr>\n",
              "      <td id=\"T_40595_row0_col0\" class=\"data row0 col0\" >Rani</td>\n",
              "      <td id=\"T_40595_row0_col1\" class=\"data row0 col1\" >Manager</td>\n",
              "      <td id=\"T_40595_row0_col2\" class=\"data row0 col2\" >40</td>\n",
              "      <td id=\"T_40595_row0_col3\" class=\"data row0 col3\" > hired by </td>\n",
              "      <td id=\"T_40595_row0_col4\" class=\"data row0 col4\" >Amitabh</td>\n",
              "      <td id=\"T_40595_row0_col5\" class=\"data row0 col5\" >Executive</td>\n",
              "      <td id=\"T_40595_row0_col6\" class=\"data row0 col6\" >10</td>\n",
              "    </tr>\n",
              "    <tr>\n",
              "      <td id=\"T_40595_row1_col0\" class=\"data row1 col0\" >Madhuri</td>\n",
              "      <td id=\"T_40595_row1_col1\" class=\"data row1 col1\" >Clerk</td>\n",
              "      <td id=\"T_40595_row1_col2\" class=\"data row1 col2\" >20</td>\n",
              "      <td id=\"T_40595_row1_col3\" class=\"data row1 col3\" > hired by </td>\n",
              "      <td id=\"T_40595_row1_col4\" class=\"data row1 col4\" >Shahrukh</td>\n",
              "      <td id=\"T_40595_row1_col5\" class=\"data row1 col5\" >Manager</td>\n",
              "      <td id=\"T_40595_row1_col6\" class=\"data row1 col6\" >20</td>\n",
              "    </tr>\n",
              "    <tr>\n",
              "      <td id=\"T_40595_row2_col0\" class=\"data row2 col0\" >Shahrukh</td>\n",
              "      <td id=\"T_40595_row2_col1\" class=\"data row2 col1\" >Manager</td>\n",
              "      <td id=\"T_40595_row2_col2\" class=\"data row2 col2\" >20</td>\n",
              "      <td id=\"T_40595_row2_col3\" class=\"data row2 col3\" > hired by </td>\n",
              "      <td id=\"T_40595_row2_col4\" class=\"data row2 col4\" >Amitabh</td>\n",
              "      <td id=\"T_40595_row2_col5\" class=\"data row2 col5\" >Executive</td>\n",
              "      <td id=\"T_40595_row2_col6\" class=\"data row2 col6\" >10</td>\n",
              "    </tr>\n",
              "    <tr>\n",
              "      <td id=\"T_40595_row3_col0\" class=\"data row3 col0\" >Virender</td>\n",
              "      <td id=\"T_40595_row3_col1\" class=\"data row3 col1\" >Cus_Rep</td>\n",
              "      <td id=\"T_40595_row3_col2\" class=\"data row3 col2\" >20</td>\n",
              "      <td id=\"T_40595_row3_col3\" class=\"data row3 col3\" > hired by </td>\n",
              "      <td id=\"T_40595_row3_col4\" class=\"data row3 col4\" >Shahrukh</td>\n",
              "      <td id=\"T_40595_row3_col5\" class=\"data row3 col5\" >Manager</td>\n",
              "      <td id=\"T_40595_row3_col6\" class=\"data row3 col6\" >20</td>\n",
              "    </tr>\n",
              "    <tr>\n",
              "      <td id=\"T_40595_row4_col0\" class=\"data row4 col0\" >Mahender</td>\n",
              "      <td id=\"T_40595_row4_col1\" class=\"data row4 col1\" >Clerk</td>\n",
              "      <td id=\"T_40595_row4_col2\" class=\"data row4 col2\" >40</td>\n",
              "      <td id=\"T_40595_row4_col3\" class=\"data row4 col3\" > hired by </td>\n",
              "      <td id=\"T_40595_row4_col4\" class=\"data row4 col4\" >Rani</td>\n",
              "      <td id=\"T_40595_row4_col5\" class=\"data row4 col5\" >Manager</td>\n",
              "      <td id=\"T_40595_row4_col6\" class=\"data row4 col6\" >40</td>\n",
              "    </tr>\n",
              "    <tr>\n",
              "      <td id=\"T_40595_row5_col0\" class=\"data row5 col0\" >Rahul</td>\n",
              "      <td id=\"T_40595_row5_col1\" class=\"data row5 col1\" >Sr Manager</td>\n",
              "      <td id=\"T_40595_row5_col2\" class=\"data row5 col2\" >30</td>\n",
              "      <td id=\"T_40595_row5_col3\" class=\"data row5 col3\" > hired by </td>\n",
              "      <td id=\"T_40595_row5_col4\" class=\"data row5 col4\" >Amitabh</td>\n",
              "      <td id=\"T_40595_row5_col5\" class=\"data row5 col5\" >Executive</td>\n",
              "      <td id=\"T_40595_row5_col6\" class=\"data row5 col6\" >10</td>\n",
              "    </tr>\n",
              "    <tr>\n",
              "      <td id=\"T_40595_row6_col0\" class=\"data row6 col0\" >Jagmohan</td>\n",
              "      <td id=\"T_40595_row6_col1\" class=\"data row6 col1\" >Clerk</td>\n",
              "      <td id=\"T_40595_row6_col2\" class=\"data row6 col2\" >30</td>\n",
              "      <td id=\"T_40595_row6_col3\" class=\"data row6 col3\" > hired by </td>\n",
              "      <td id=\"T_40595_row6_col4\" class=\"data row6 col4\" >Rahul</td>\n",
              "      <td id=\"T_40595_row6_col5\" class=\"data row6 col5\" >Sr Manager</td>\n",
              "      <td id=\"T_40595_row6_col6\" class=\"data row6 col6\" >30</td>\n",
              "    </tr>\n",
              "    <tr>\n",
              "      <td id=\"T_40595_row7_col0\" class=\"data row7 col0\" >Sourav</td>\n",
              "      <td id=\"T_40595_row7_col1\" class=\"data row7 col1\" >Cus_Rep</td>\n",
              "      <td id=\"T_40595_row7_col2\" class=\"data row7 col2\" >40</td>\n",
              "      <td id=\"T_40595_row7_col3\" class=\"data row7 col3\" > hired by </td>\n",
              "      <td id=\"T_40595_row7_col4\" class=\"data row7 col4\" >Rekha</td>\n",
              "      <td id=\"T_40595_row7_col5\" class=\"data row7 col5\" >Director</td>\n",
              "      <td id=\"T_40595_row7_col6\" class=\"data row7 col6\" >10</td>\n",
              "    </tr>\n",
              "    <tr>\n",
              "      <td id=\"T_40595_row8_col0\" class=\"data row8 col0\" >Rekha</td>\n",
              "      <td id=\"T_40595_row8_col1\" class=\"data row8 col1\" >Director</td>\n",
              "      <td id=\"T_40595_row8_col2\" class=\"data row8 col2\" >10</td>\n",
              "      <td id=\"T_40595_row8_col3\" class=\"data row8 col3\" > hired by </td>\n",
              "      <td id=\"T_40595_row8_col4\" class=\"data row8 col4\" >Amitabh</td>\n",
              "      <td id=\"T_40595_row8_col5\" class=\"data row8 col5\" >Executive</td>\n",
              "      <td id=\"T_40595_row8_col6\" class=\"data row8 col6\" >10</td>\n",
              "    </tr>\n",
              "    <tr>\n",
              "      <td id=\"T_40595_row9_col0\" class=\"data row9 col0\" >Narayan</td>\n",
              "      <td id=\"T_40595_row9_col1\" class=\"data row9 col1\" >Secretary</td>\n",
              "      <td id=\"T_40595_row9_col2\" class=\"data row9 col2\" >10</td>\n",
              "      <td id=\"T_40595_row9_col3\" class=\"data row9 col3\" > hired by </td>\n",
              "      <td id=\"T_40595_row9_col4\" class=\"data row9 col4\" >Rekha</td>\n",
              "      <td id=\"T_40595_row9_col5\" class=\"data row9 col5\" >Director</td>\n",
              "      <td id=\"T_40595_row9_col6\" class=\"data row9 col6\" >10</td>\n",
              "    </tr>\n",
              "    <tr>\n",
              "      <td id=\"T_40595_row10_col0\" class=\"data row10 col0\" >Chettri</td>\n",
              "      <td id=\"T_40595_row10_col1\" class=\"data row10 col1\" >Dy Manager</td>\n",
              "      <td id=\"T_40595_row10_col2\" class=\"data row10 col2\" >70</td>\n",
              "      <td id=\"T_40595_row10_col3\" class=\"data row10 col3\" > hired by </td>\n",
              "      <td id=\"T_40595_row10_col4\" class=\"data row10 col4\" >Rani</td>\n",
              "      <td id=\"T_40595_row10_col5\" class=\"data row10 col5\" >Manager</td>\n",
              "      <td id=\"T_40595_row10_col6\" class=\"data row10 col6\" >40</td>\n",
              "    </tr>\n",
              "    <tr>\n",
              "      <td id=\"T_40595_row11_col0\" class=\"data row11 col0\" >Sania</td>\n",
              "      <td id=\"T_40595_row11_col1\" class=\"data row11 col1\" >Cus_Rep</td>\n",
              "      <td id=\"T_40595_row11_col2\" class=\"data row11 col2\" >30</td>\n",
              "      <td id=\"T_40595_row11_col3\" class=\"data row11 col3\" > hired by </td>\n",
              "      <td id=\"T_40595_row11_col4\" class=\"data row11 col4\" >Rahul</td>\n",
              "      <td id=\"T_40595_row11_col5\" class=\"data row11 col5\" >Sr Manager</td>\n",
              "      <td id=\"T_40595_row11_col6\" class=\"data row11 col6\" >30</td>\n",
              "    </tr>\n",
              "  </tbody>\n",
              "</table>\n"
            ]
          },
          "metadata": {},
          "execution_count": 56
        }
      ]
    },
    {
      "cell_type": "markdown",
      "source": [
        "#Subquery"
      ],
      "metadata": {
        "id": "tXDgw1RBzUf-"
      }
    },
    {
      "cell_type": "code",
      "source": [
        "sql = \"select lastname, salary, jobdesc, deptid from empl where \\\n",
        "salary = (select max(salary) from empl where deptid = '20') \\\n",
        "and deptid = '20'\"\n",
        "\n",
        "runSelect(sql)"
      ],
      "metadata": {
        "colab": {
          "base_uri": "https://localhost:8080/",
          "height": 81
        },
        "id": "SxQqgOcHzYTF",
        "outputId": "b66389fb-d3b7-4b45-c579-4ecb9e0008a1"
      },
      "execution_count": 57,
      "outputs": [
        {
          "output_type": "execute_result",
          "data": {
            "text/plain": [
              "<pandas.io.formats.style.Styler at 0x7adbe2467eb0>"
            ],
            "text/html": [
              "<style type=\"text/css\">\n",
              "</style>\n",
              "<table id=\"T_2450e\" class=\"dataframe\">\n",
              "  <thead>\n",
              "    <tr>\n",
              "      <th id=\"T_2450e_level0_col0\" class=\"col_heading level0 col0\" >lastname</th>\n",
              "      <th id=\"T_2450e_level0_col1\" class=\"col_heading level0 col1\" >salary</th>\n",
              "      <th id=\"T_2450e_level0_col2\" class=\"col_heading level0 col2\" >jobdesc</th>\n",
              "      <th id=\"T_2450e_level0_col3\" class=\"col_heading level0 col3\" >deptid</th>\n",
              "    </tr>\n",
              "  </thead>\n",
              "  <tbody>\n",
              "    <tr>\n",
              "      <td id=\"T_2450e_row0_col0\" class=\"data row0 col0\" >Khan</td>\n",
              "      <td id=\"T_2450e_row0_col1\" class=\"data row0 col1\" >30000</td>\n",
              "      <td id=\"T_2450e_row0_col2\" class=\"data row0 col2\" >Manager</td>\n",
              "      <td id=\"T_2450e_row0_col3\" class=\"data row0 col3\" >20</td>\n",
              "    </tr>\n",
              "  </tbody>\n",
              "</table>\n"
            ]
          },
          "metadata": {},
          "execution_count": 57
        }
      ]
    },
    {
      "cell_type": "code",
      "source": [
        "sql = \"select lastname, salary, jobdesc, deptid from empl where salary < (select avg(salary) from empl where deptid = '20')\\\n",
        "and deptid = '20'\"\n",
        "runSelect(sql)"
      ],
      "metadata": {
        "colab": {
          "base_uri": "https://localhost:8080/",
          "height": 112
        },
        "id": "oEhaMtyLz3Tm",
        "outputId": "af1faced-8155-452c-e0f6-35def13db2b1"
      },
      "execution_count": 58,
      "outputs": [
        {
          "output_type": "execute_result",
          "data": {
            "text/plain": [
              "<pandas.io.formats.style.Styler at 0x7adbe2467670>"
            ],
            "text/html": [
              "<style type=\"text/css\">\n",
              "</style>\n",
              "<table id=\"T_bf41c\" class=\"dataframe\">\n",
              "  <thead>\n",
              "    <tr>\n",
              "      <th id=\"T_bf41c_level0_col0\" class=\"col_heading level0 col0\" >lastname</th>\n",
              "      <th id=\"T_bf41c_level0_col1\" class=\"col_heading level0 col1\" >salary</th>\n",
              "      <th id=\"T_bf41c_level0_col2\" class=\"col_heading level0 col2\" >jobdesc</th>\n",
              "      <th id=\"T_bf41c_level0_col3\" class=\"col_heading level0 col3\" >deptid</th>\n",
              "    </tr>\n",
              "  </thead>\n",
              "  <tbody>\n",
              "    <tr>\n",
              "      <td id=\"T_bf41c_row0_col0\" class=\"data row0 col0\" >Dikshit</td>\n",
              "      <td id=\"T_bf41c_row0_col1\" class=\"data row0 col1\" >10000</td>\n",
              "      <td id=\"T_bf41c_row0_col2\" class=\"data row0 col2\" >Clerk</td>\n",
              "      <td id=\"T_bf41c_row0_col3\" class=\"data row0 col3\" >20</td>\n",
              "    </tr>\n",
              "    <tr>\n",
              "      <td id=\"T_bf41c_row1_col0\" class=\"data row1 col0\" >Sehwag</td>\n",
              "      <td id=\"T_bf41c_row1_col1\" class=\"data row1 col1\" >15000</td>\n",
              "      <td id=\"T_bf41c_row1_col2\" class=\"data row1 col2\" >Cus_Rep</td>\n",
              "      <td id=\"T_bf41c_row1_col3\" class=\"data row1 col3\" >20</td>\n",
              "    </tr>\n",
              "  </tbody>\n",
              "</table>\n"
            ]
          },
          "metadata": {},
          "execution_count": 58
        }
      ]
    },
    {
      "cell_type": "markdown",
      "source": [
        "## Exists | Not Exists"
      ],
      "metadata": {
        "id": "l3GWzCV24a2x"
      }
    },
    {
      "cell_type": "code",
      "source": [
        "#!psql -h localhost -p 5432 -Uupraxis -ddbpraxis -c \"\\\n",
        "sql = \"\\\n",
        "select firstname, jobdesc, deptid from empl \\\n",
        "where exists \\\n",
        "(select * from dept where empl.deptid = dept.deptid)\\\n",
        "order by deptid \\\n",
        "\"\n",
        "runSelect(sql)"
      ],
      "metadata": {
        "colab": {
          "base_uri": "https://localhost:8080/",
          "height": 426
        },
        "id": "9vlJrd584fWu",
        "outputId": "46ef81bd-8698-44d5-c06a-a24e4a5a2633"
      },
      "execution_count": 59,
      "outputs": [
        {
          "output_type": "execute_result",
          "data": {
            "text/plain": [
              "<pandas.io.formats.style.Styler at 0x7adbe24845e0>"
            ],
            "text/html": [
              "<style type=\"text/css\">\n",
              "</style>\n",
              "<table id=\"T_2a7b6\" class=\"dataframe\">\n",
              "  <thead>\n",
              "    <tr>\n",
              "      <th id=\"T_2a7b6_level0_col0\" class=\"col_heading level0 col0\" >firstname</th>\n",
              "      <th id=\"T_2a7b6_level0_col1\" class=\"col_heading level0 col1\" >jobdesc</th>\n",
              "      <th id=\"T_2a7b6_level0_col2\" class=\"col_heading level0 col2\" >deptid</th>\n",
              "    </tr>\n",
              "  </thead>\n",
              "  <tbody>\n",
              "    <tr>\n",
              "      <td id=\"T_2a7b6_row0_col0\" class=\"data row0 col0\" >Amitabh</td>\n",
              "      <td id=\"T_2a7b6_row0_col1\" class=\"data row0 col1\" >Executive</td>\n",
              "      <td id=\"T_2a7b6_row0_col2\" class=\"data row0 col2\" >10</td>\n",
              "    </tr>\n",
              "    <tr>\n",
              "      <td id=\"T_2a7b6_row1_col0\" class=\"data row1 col0\" >Rekha</td>\n",
              "      <td id=\"T_2a7b6_row1_col1\" class=\"data row1 col1\" >Director</td>\n",
              "      <td id=\"T_2a7b6_row1_col2\" class=\"data row1 col2\" >10</td>\n",
              "    </tr>\n",
              "    <tr>\n",
              "      <td id=\"T_2a7b6_row2_col0\" class=\"data row2 col0\" >Narayan</td>\n",
              "      <td id=\"T_2a7b6_row2_col1\" class=\"data row2 col1\" >Secretary</td>\n",
              "      <td id=\"T_2a7b6_row2_col2\" class=\"data row2 col2\" >10</td>\n",
              "    </tr>\n",
              "    <tr>\n",
              "      <td id=\"T_2a7b6_row3_col0\" class=\"data row3 col0\" >Madhuri</td>\n",
              "      <td id=\"T_2a7b6_row3_col1\" class=\"data row3 col1\" >Clerk</td>\n",
              "      <td id=\"T_2a7b6_row3_col2\" class=\"data row3 col2\" >20</td>\n",
              "    </tr>\n",
              "    <tr>\n",
              "      <td id=\"T_2a7b6_row4_col0\" class=\"data row4 col0\" >Shahrukh</td>\n",
              "      <td id=\"T_2a7b6_row4_col1\" class=\"data row4 col1\" >Manager</td>\n",
              "      <td id=\"T_2a7b6_row4_col2\" class=\"data row4 col2\" >20</td>\n",
              "    </tr>\n",
              "    <tr>\n",
              "      <td id=\"T_2a7b6_row5_col0\" class=\"data row5 col0\" >Virender</td>\n",
              "      <td id=\"T_2a7b6_row5_col1\" class=\"data row5 col1\" >Cus_Rep</td>\n",
              "      <td id=\"T_2a7b6_row5_col2\" class=\"data row5 col2\" >20</td>\n",
              "    </tr>\n",
              "    <tr>\n",
              "      <td id=\"T_2a7b6_row6_col0\" class=\"data row6 col0\" >Sania</td>\n",
              "      <td id=\"T_2a7b6_row6_col1\" class=\"data row6 col1\" >Cus_Rep</td>\n",
              "      <td id=\"T_2a7b6_row6_col2\" class=\"data row6 col2\" >30</td>\n",
              "    </tr>\n",
              "    <tr>\n",
              "      <td id=\"T_2a7b6_row7_col0\" class=\"data row7 col0\" >Rahul</td>\n",
              "      <td id=\"T_2a7b6_row7_col1\" class=\"data row7 col1\" >Sr Manager</td>\n",
              "      <td id=\"T_2a7b6_row7_col2\" class=\"data row7 col2\" >30</td>\n",
              "    </tr>\n",
              "    <tr>\n",
              "      <td id=\"T_2a7b6_row8_col0\" class=\"data row8 col0\" >Jagmohan</td>\n",
              "      <td id=\"T_2a7b6_row8_col1\" class=\"data row8 col1\" >Clerk</td>\n",
              "      <td id=\"T_2a7b6_row8_col2\" class=\"data row8 col2\" >30</td>\n",
              "    </tr>\n",
              "    <tr>\n",
              "      <td id=\"T_2a7b6_row9_col0\" class=\"data row9 col0\" >Sourav</td>\n",
              "      <td id=\"T_2a7b6_row9_col1\" class=\"data row9 col1\" >Cus_Rep</td>\n",
              "      <td id=\"T_2a7b6_row9_col2\" class=\"data row9 col2\" >40</td>\n",
              "    </tr>\n",
              "    <tr>\n",
              "      <td id=\"T_2a7b6_row10_col0\" class=\"data row10 col0\" >Mahender</td>\n",
              "      <td id=\"T_2a7b6_row10_col1\" class=\"data row10 col1\" >Clerk</td>\n",
              "      <td id=\"T_2a7b6_row10_col2\" class=\"data row10 col2\" >40</td>\n",
              "    </tr>\n",
              "    <tr>\n",
              "      <td id=\"T_2a7b6_row11_col0\" class=\"data row11 col0\" >Rani</td>\n",
              "      <td id=\"T_2a7b6_row11_col1\" class=\"data row11 col1\" >Manager</td>\n",
              "      <td id=\"T_2a7b6_row11_col2\" class=\"data row11 col2\" >40</td>\n",
              "    </tr>\n",
              "  </tbody>\n",
              "</table>\n"
            ]
          },
          "metadata": {},
          "execution_count": 59
        }
      ]
    },
    {
      "cell_type": "code",
      "source": [
        "#!psql -h localhost -p 5432 -Uupraxis -ddbpraxis -c \"\\\n",
        "sql = \"\\\n",
        "select firstname, jobdesc, deptid from empl \\\n",
        "where not exists \\\n",
        "(select * from dept where empl.deptid = dept.deptid)\\\n",
        "order by deptid \\\n",
        "\"\n",
        "runSelect(sql)"
      ],
      "metadata": {
        "colab": {
          "base_uri": "https://localhost:8080/",
          "height": 81
        },
        "id": "6ntFTYfv5AyB",
        "outputId": "6cbdeef2-771a-4893-a49d-e05054f87e51"
      },
      "execution_count": 60,
      "outputs": [
        {
          "output_type": "execute_result",
          "data": {
            "text/plain": [
              "<pandas.io.formats.style.Styler at 0x7adbe24666e0>"
            ],
            "text/html": [
              "<style type=\"text/css\">\n",
              "</style>\n",
              "<table id=\"T_788fe\" class=\"dataframe\">\n",
              "  <thead>\n",
              "    <tr>\n",
              "      <th id=\"T_788fe_level0_col0\" class=\"col_heading level0 col0\" >firstname</th>\n",
              "      <th id=\"T_788fe_level0_col1\" class=\"col_heading level0 col1\" >jobdesc</th>\n",
              "      <th id=\"T_788fe_level0_col2\" class=\"col_heading level0 col2\" >deptid</th>\n",
              "    </tr>\n",
              "  </thead>\n",
              "  <tbody>\n",
              "    <tr>\n",
              "      <td id=\"T_788fe_row0_col0\" class=\"data row0 col0\" >Chettri</td>\n",
              "      <td id=\"T_788fe_row0_col1\" class=\"data row0 col1\" >Dy Manager</td>\n",
              "      <td id=\"T_788fe_row0_col2\" class=\"data row0 col2\" >70</td>\n",
              "    </tr>\n",
              "  </tbody>\n",
              "</table>\n"
            ]
          },
          "metadata": {},
          "execution_count": 60
        }
      ]
    },
    {
      "cell_type": "markdown",
      "source": [
        "## ALL | ANY"
      ],
      "metadata": {
        "id": "Ft9lsq4Uh8-6"
      }
    },
    {
      "cell_type": "code",
      "source": [
        "#!psql -h localhost -p 5432 -Uupraxis -ddbpraxis -c \"\\\n",
        "sql = \"\\\n",
        "select firstname, jobdesc, deptid, salary from empl \\\n",
        "where salary > all \\\n",
        "(select avg(salary) from empl)\\\n",
        "\"\n",
        "runSelect(sql)"
      ],
      "metadata": {
        "id": "ZySW3QRkiBUG",
        "outputId": "39aecd3a-3f6e-4dbe-d973-fa492f11a44d",
        "colab": {
          "base_uri": "https://localhost:8080/",
          "height": 238
        }
      },
      "execution_count": 61,
      "outputs": [
        {
          "output_type": "execute_result",
          "data": {
            "text/plain": [
              "<pandas.io.formats.style.Styler at 0x7adbe2484c40>"
            ],
            "text/html": [
              "<style type=\"text/css\">\n",
              "</style>\n",
              "<table id=\"T_e5840\" class=\"dataframe\">\n",
              "  <thead>\n",
              "    <tr>\n",
              "      <th id=\"T_e5840_level0_col0\" class=\"col_heading level0 col0\" >firstname</th>\n",
              "      <th id=\"T_e5840_level0_col1\" class=\"col_heading level0 col1\" >jobdesc</th>\n",
              "      <th id=\"T_e5840_level0_col2\" class=\"col_heading level0 col2\" >deptid</th>\n",
              "      <th id=\"T_e5840_level0_col3\" class=\"col_heading level0 col3\" >salary</th>\n",
              "    </tr>\n",
              "  </thead>\n",
              "  <tbody>\n",
              "    <tr>\n",
              "      <td id=\"T_e5840_row0_col0\" class=\"data row0 col0\" >Amitabh</td>\n",
              "      <td id=\"T_e5840_row0_col1\" class=\"data row0 col1\" >Executive</td>\n",
              "      <td id=\"T_e5840_row0_col2\" class=\"data row0 col2\" >10</td>\n",
              "      <td id=\"T_e5840_row0_col3\" class=\"data row0 col3\" >50000</td>\n",
              "    </tr>\n",
              "    <tr>\n",
              "      <td id=\"T_e5840_row1_col0\" class=\"data row1 col0\" >Shahrukh</td>\n",
              "      <td id=\"T_e5840_row1_col1\" class=\"data row1 col1\" >Manager</td>\n",
              "      <td id=\"T_e5840_row1_col2\" class=\"data row1 col2\" >20</td>\n",
              "      <td id=\"T_e5840_row1_col3\" class=\"data row1 col3\" >30000</td>\n",
              "    </tr>\n",
              "    <tr>\n",
              "      <td id=\"T_e5840_row2_col0\" class=\"data row2 col0\" >Rahul</td>\n",
              "      <td id=\"T_e5840_row2_col1\" class=\"data row2 col1\" >Sr Manager</td>\n",
              "      <td id=\"T_e5840_row2_col2\" class=\"data row2 col2\" >30</td>\n",
              "      <td id=\"T_e5840_row2_col3\" class=\"data row2 col3\" >40000</td>\n",
              "    </tr>\n",
              "    <tr>\n",
              "      <td id=\"T_e5840_row3_col0\" class=\"data row3 col0\" >Rekha</td>\n",
              "      <td id=\"T_e5840_row3_col1\" class=\"data row3 col1\" >Director</td>\n",
              "      <td id=\"T_e5840_row3_col2\" class=\"data row3 col2\" >10</td>\n",
              "      <td id=\"T_e5840_row3_col3\" class=\"data row3 col3\" >60000</td>\n",
              "    </tr>\n",
              "    <tr>\n",
              "      <td id=\"T_e5840_row4_col0\" class=\"data row4 col0\" >Narayan</td>\n",
              "      <td id=\"T_e5840_row4_col1\" class=\"data row4 col1\" >Secretary</td>\n",
              "      <td id=\"T_e5840_row4_col2\" class=\"data row4 col2\" >10</td>\n",
              "      <td id=\"T_e5840_row4_col3\" class=\"data row4 col3\" >40000</td>\n",
              "    </tr>\n",
              "    <tr>\n",
              "      <td id=\"T_e5840_row5_col0\" class=\"data row5 col0\" >Chettri</td>\n",
              "      <td id=\"T_e5840_row5_col1\" class=\"data row5 col1\" >Dy Manager</td>\n",
              "      <td id=\"T_e5840_row5_col2\" class=\"data row5 col2\" >70</td>\n",
              "      <td id=\"T_e5840_row5_col3\" class=\"data row5 col3\" >40000</td>\n",
              "    </tr>\n",
              "  </tbody>\n",
              "</table>\n"
            ]
          },
          "metadata": {},
          "execution_count": 61
        }
      ]
    },
    {
      "cell_type": "code",
      "source": [
        "#!psql -h localhost -p 5432 -Uupraxis -ddbpraxis -c \"\\\n",
        "sql = \"\\\n",
        "select firstname, jobdesc, deptid, salary from empl \\\n",
        "where salary <= any \\\n",
        "(select min(salary) from empl)\\\n",
        "\"\n",
        "runSelect(sql)"
      ],
      "metadata": {
        "id": "OrNzFUx2i6n1",
        "outputId": "726fa219-b1a0-4a51-bbc8-63384ad9b447",
        "colab": {
          "base_uri": "https://localhost:8080/",
          "height": 81
        }
      },
      "execution_count": 62,
      "outputs": [
        {
          "output_type": "execute_result",
          "data": {
            "text/plain": [
              "<pandas.io.formats.style.Styler at 0x7adbe2484be0>"
            ],
            "text/html": [
              "<style type=\"text/css\">\n",
              "</style>\n",
              "<table id=\"T_45ac9\" class=\"dataframe\">\n",
              "  <thead>\n",
              "    <tr>\n",
              "      <th id=\"T_45ac9_level0_col0\" class=\"col_heading level0 col0\" >firstname</th>\n",
              "      <th id=\"T_45ac9_level0_col1\" class=\"col_heading level0 col1\" >jobdesc</th>\n",
              "      <th id=\"T_45ac9_level0_col2\" class=\"col_heading level0 col2\" >deptid</th>\n",
              "      <th id=\"T_45ac9_level0_col3\" class=\"col_heading level0 col3\" >salary</th>\n",
              "    </tr>\n",
              "  </thead>\n",
              "  <tbody>\n",
              "    <tr>\n",
              "      <td id=\"T_45ac9_row0_col0\" class=\"data row0 col0\" >Mahender</td>\n",
              "      <td id=\"T_45ac9_row0_col1\" class=\"data row0 col1\" >Clerk</td>\n",
              "      <td id=\"T_45ac9_row0_col2\" class=\"data row0 col2\" >40</td>\n",
              "      <td id=\"T_45ac9_row0_col3\" class=\"data row0 col3\" >9000</td>\n",
              "    </tr>\n",
              "  </tbody>\n",
              "</table>\n"
            ]
          },
          "metadata": {},
          "execution_count": 62
        }
      ]
    },
    {
      "cell_type": "markdown",
      "source": [
        "## Common Table Extensions CTE"
      ],
      "metadata": {
        "id": "2gvg8pwe3ale"
      }
    },
    {
      "cell_type": "code",
      "source": [
        "sql = \"\\\n",
        "select jobdesc, avg(salary) avgsalary from empl group by jobdesc \\\n",
        "\"\n",
        "runSelect(sql)"
      ],
      "metadata": {
        "id": "7mu6mmXA3pVn",
        "outputId": "4229cb4c-0214-403b-a8b1-871e5f4c5c72",
        "colab": {
          "base_uri": "https://localhost:8080/",
          "height": 300
        }
      },
      "execution_count": 63,
      "outputs": [
        {
          "output_type": "execute_result",
          "data": {
            "text/plain": [
              "<pandas.io.formats.style.Styler at 0x7adbe2486230>"
            ],
            "text/html": [
              "<style type=\"text/css\">\n",
              "</style>\n",
              "<table id=\"T_66e2e\" class=\"dataframe\">\n",
              "  <thead>\n",
              "    <tr>\n",
              "      <th id=\"T_66e2e_level0_col0\" class=\"col_heading level0 col0\" >jobdesc</th>\n",
              "      <th id=\"T_66e2e_level0_col1\" class=\"col_heading level0 col1\" >avgsalary</th>\n",
              "    </tr>\n",
              "  </thead>\n",
              "  <tbody>\n",
              "    <tr>\n",
              "      <td id=\"T_66e2e_row0_col0\" class=\"data row0 col0\" >Director</td>\n",
              "      <td id=\"T_66e2e_row0_col1\" class=\"data row0 col1\" >60000.000000000000</td>\n",
              "    </tr>\n",
              "    <tr>\n",
              "      <td id=\"T_66e2e_row1_col0\" class=\"data row1 col0\" >Manager</td>\n",
              "      <td id=\"T_66e2e_row1_col1\" class=\"data row1 col1\" >27500.000000000000</td>\n",
              "    </tr>\n",
              "    <tr>\n",
              "      <td id=\"T_66e2e_row2_col0\" class=\"data row2 col0\" >Dy Manager</td>\n",
              "      <td id=\"T_66e2e_row2_col1\" class=\"data row2 col1\" >40000.000000000000</td>\n",
              "    </tr>\n",
              "    <tr>\n",
              "      <td id=\"T_66e2e_row3_col0\" class=\"data row3 col0\" >Executive</td>\n",
              "      <td id=\"T_66e2e_row3_col1\" class=\"data row3 col1\" >50000.000000000000</td>\n",
              "    </tr>\n",
              "    <tr>\n",
              "      <td id=\"T_66e2e_row4_col0\" class=\"data row4 col0\" >Secretary</td>\n",
              "      <td id=\"T_66e2e_row4_col1\" class=\"data row4 col1\" >40000.000000000000</td>\n",
              "    </tr>\n",
              "    <tr>\n",
              "      <td id=\"T_66e2e_row5_col0\" class=\"data row5 col0\" >Cus_Rep</td>\n",
              "      <td id=\"T_66e2e_row5_col1\" class=\"data row5 col1\" >20000.000000000000</td>\n",
              "    </tr>\n",
              "    <tr>\n",
              "      <td id=\"T_66e2e_row6_col0\" class=\"data row6 col0\" >Clerk</td>\n",
              "      <td id=\"T_66e2e_row6_col1\" class=\"data row6 col1\" >10333.3333333333333333</td>\n",
              "    </tr>\n",
              "    <tr>\n",
              "      <td id=\"T_66e2e_row7_col0\" class=\"data row7 col0\" >Sr Manager</td>\n",
              "      <td id=\"T_66e2e_row7_col1\" class=\"data row7 col1\" >40000.000000000000</td>\n",
              "    </tr>\n",
              "  </tbody>\n",
              "</table>\n"
            ]
          },
          "metadata": {},
          "execution_count": 63
        }
      ]
    },
    {
      "cell_type": "code",
      "source": [
        "sql = \"\\\n",
        "with MeanSalary as \\\n",
        "    (select jobdesc, round(avg(salary),0) avgsalary from empl group by jobdesc) \\\n",
        "select lastname, empl.jobdesc, salary, avgsalary from empl, meansalary \\\n",
        "where empl.jobdesc = meansalary.jobdesc \\\n",
        "order  by jobdesc \\\n",
        "\"\n",
        "runSelect(sql)"
      ],
      "metadata": {
        "id": "0i-rIGEzDgFy",
        "outputId": "b298a694-e8e6-489a-98ea-e9b2fffb8a66",
        "colab": {
          "base_uri": "https://localhost:8080/",
          "height": 457
        }
      },
      "execution_count": 64,
      "outputs": [
        {
          "output_type": "execute_result",
          "data": {
            "text/plain": [
              "<pandas.io.formats.style.Styler at 0x7adbe24873d0>"
            ],
            "text/html": [
              "<style type=\"text/css\">\n",
              "</style>\n",
              "<table id=\"T_19fd3\" class=\"dataframe\">\n",
              "  <thead>\n",
              "    <tr>\n",
              "      <th id=\"T_19fd3_level0_col0\" class=\"col_heading level0 col0\" >lastname</th>\n",
              "      <th id=\"T_19fd3_level0_col1\" class=\"col_heading level0 col1\" >jobdesc</th>\n",
              "      <th id=\"T_19fd3_level0_col2\" class=\"col_heading level0 col2\" >salary</th>\n",
              "      <th id=\"T_19fd3_level0_col3\" class=\"col_heading level0 col3\" >avgsalary</th>\n",
              "    </tr>\n",
              "  </thead>\n",
              "  <tbody>\n",
              "    <tr>\n",
              "      <td id=\"T_19fd3_row0_col0\" class=\"data row0 col0\" >Dalmia</td>\n",
              "      <td id=\"T_19fd3_row0_col1\" class=\"data row0 col1\" >Clerk</td>\n",
              "      <td id=\"T_19fd3_row0_col2\" class=\"data row0 col2\" >12000</td>\n",
              "      <td id=\"T_19fd3_row0_col3\" class=\"data row0 col3\" >10333</td>\n",
              "    </tr>\n",
              "    <tr>\n",
              "      <td id=\"T_19fd3_row1_col0\" class=\"data row1 col0\" >Dikshit</td>\n",
              "      <td id=\"T_19fd3_row1_col1\" class=\"data row1 col1\" >Clerk</td>\n",
              "      <td id=\"T_19fd3_row1_col2\" class=\"data row1 col2\" >10000</td>\n",
              "      <td id=\"T_19fd3_row1_col3\" class=\"data row1 col3\" >10333</td>\n",
              "    </tr>\n",
              "    <tr>\n",
              "      <td id=\"T_19fd3_row2_col0\" class=\"data row2 col0\" >Dhoni</td>\n",
              "      <td id=\"T_19fd3_row2_col1\" class=\"data row2 col1\" >Clerk</td>\n",
              "      <td id=\"T_19fd3_row2_col2\" class=\"data row2 col2\" >9000</td>\n",
              "      <td id=\"T_19fd3_row2_col3\" class=\"data row2 col3\" >10333</td>\n",
              "    </tr>\n",
              "    <tr>\n",
              "      <td id=\"T_19fd3_row3_col0\" class=\"data row3 col0\" >Sehwag</td>\n",
              "      <td id=\"T_19fd3_row3_col1\" class=\"data row3 col1\" >Cus_Rep</td>\n",
              "      <td id=\"T_19fd3_row3_col2\" class=\"data row3 col2\" >15000</td>\n",
              "      <td id=\"T_19fd3_row3_col3\" class=\"data row3 col3\" >20000</td>\n",
              "    </tr>\n",
              "    <tr>\n",
              "      <td id=\"T_19fd3_row4_col0\" class=\"data row4 col0\" >Mirza</td>\n",
              "      <td id=\"T_19fd3_row4_col1\" class=\"data row4 col1\" >Cus_Rep</td>\n",
              "      <td id=\"T_19fd3_row4_col2\" class=\"data row4 col2\" >25000</td>\n",
              "      <td id=\"T_19fd3_row4_col3\" class=\"data row4 col3\" >20000</td>\n",
              "    </tr>\n",
              "    <tr>\n",
              "      <td id=\"T_19fd3_row5_col0\" class=\"data row5 col0\" >Ganguly</td>\n",
              "      <td id=\"T_19fd3_row5_col1\" class=\"data row5 col1\" >Cus_Rep</td>\n",
              "      <td id=\"T_19fd3_row5_col2\" class=\"data row5 col2\" >20000</td>\n",
              "      <td id=\"T_19fd3_row5_col3\" class=\"data row5 col3\" >20000</td>\n",
              "    </tr>\n",
              "    <tr>\n",
              "      <td id=\"T_19fd3_row6_col0\" class=\"data row6 col0\" >Ganesan</td>\n",
              "      <td id=\"T_19fd3_row6_col1\" class=\"data row6 col1\" >Director</td>\n",
              "      <td id=\"T_19fd3_row6_col2\" class=\"data row6 col2\" >60000</td>\n",
              "      <td id=\"T_19fd3_row6_col3\" class=\"data row6 col3\" >60000</td>\n",
              "    </tr>\n",
              "    <tr>\n",
              "      <td id=\"T_19fd3_row7_col0\" class=\"data row7 col0\" >Sunil</td>\n",
              "      <td id=\"T_19fd3_row7_col1\" class=\"data row7 col1\" >Dy Manager</td>\n",
              "      <td id=\"T_19fd3_row7_col2\" class=\"data row7 col2\" >40000</td>\n",
              "      <td id=\"T_19fd3_row7_col3\" class=\"data row7 col3\" >40000</td>\n",
              "    </tr>\n",
              "    <tr>\n",
              "      <td id=\"T_19fd3_row8_col0\" class=\"data row8 col0\" >Bacchan</td>\n",
              "      <td id=\"T_19fd3_row8_col1\" class=\"data row8 col1\" >Executive</td>\n",
              "      <td id=\"T_19fd3_row8_col2\" class=\"data row8 col2\" >50000</td>\n",
              "      <td id=\"T_19fd3_row8_col3\" class=\"data row8 col3\" >50000</td>\n",
              "    </tr>\n",
              "    <tr>\n",
              "      <td id=\"T_19fd3_row9_col0\" class=\"data row9 col0\" >Khan</td>\n",
              "      <td id=\"T_19fd3_row9_col1\" class=\"data row9 col1\" >Manager</td>\n",
              "      <td id=\"T_19fd3_row9_col2\" class=\"data row9 col2\" >30000</td>\n",
              "      <td id=\"T_19fd3_row9_col3\" class=\"data row9 col3\" >27500</td>\n",
              "    </tr>\n",
              "    <tr>\n",
              "      <td id=\"T_19fd3_row10_col0\" class=\"data row10 col0\" >Mukherjee</td>\n",
              "      <td id=\"T_19fd3_row10_col1\" class=\"data row10 col1\" >Manager</td>\n",
              "      <td id=\"T_19fd3_row10_col2\" class=\"data row10 col2\" >25000</td>\n",
              "      <td id=\"T_19fd3_row10_col3\" class=\"data row10 col3\" >27500</td>\n",
              "    </tr>\n",
              "    <tr>\n",
              "      <td id=\"T_19fd3_row11_col0\" class=\"data row11 col0\" >Karthikeyan</td>\n",
              "      <td id=\"T_19fd3_row11_col1\" class=\"data row11 col1\" >Secretary</td>\n",
              "      <td id=\"T_19fd3_row11_col2\" class=\"data row11 col2\" >40000</td>\n",
              "      <td id=\"T_19fd3_row11_col3\" class=\"data row11 col3\" >40000</td>\n",
              "    </tr>\n",
              "    <tr>\n",
              "      <td id=\"T_19fd3_row12_col0\" class=\"data row12 col0\" >Dravid</td>\n",
              "      <td id=\"T_19fd3_row12_col1\" class=\"data row12 col1\" >Sr Manager</td>\n",
              "      <td id=\"T_19fd3_row12_col2\" class=\"data row12 col2\" >40000</td>\n",
              "      <td id=\"T_19fd3_row12_col3\" class=\"data row12 col3\" >40000</td>\n",
              "    </tr>\n",
              "  </tbody>\n",
              "</table>\n"
            ]
          },
          "metadata": {},
          "execution_count": 64
        }
      ]
    },
    {
      "cell_type": "code",
      "source": [
        "sql = \"\\\n",
        "select lastname, empl.jobdesc, salary, avgsalary from \\\n",
        "empl, (select jobdesc, round(avg(salary),0) avgsalary from empl group by jobdesc) meansalary \\\n",
        "where empl.jobdesc = meansalary.jobdesc \\\n",
        "order  by jobdesc \\\n",
        "\"\n",
        "runSelect(sql)"
      ],
      "metadata": {
        "id": "nwrLj4xaExye",
        "outputId": "659c0da2-2571-482a-88e8-a1a46447afed",
        "colab": {
          "base_uri": "https://localhost:8080/",
          "height": 457
        }
      },
      "execution_count": 65,
      "outputs": [
        {
          "output_type": "execute_result",
          "data": {
            "text/plain": [
              "<pandas.io.formats.style.Styler at 0x7adbe2487160>"
            ],
            "text/html": [
              "<style type=\"text/css\">\n",
              "</style>\n",
              "<table id=\"T_8718e\" class=\"dataframe\">\n",
              "  <thead>\n",
              "    <tr>\n",
              "      <th id=\"T_8718e_level0_col0\" class=\"col_heading level0 col0\" >lastname</th>\n",
              "      <th id=\"T_8718e_level0_col1\" class=\"col_heading level0 col1\" >jobdesc</th>\n",
              "      <th id=\"T_8718e_level0_col2\" class=\"col_heading level0 col2\" >salary</th>\n",
              "      <th id=\"T_8718e_level0_col3\" class=\"col_heading level0 col3\" >avgsalary</th>\n",
              "    </tr>\n",
              "  </thead>\n",
              "  <tbody>\n",
              "    <tr>\n",
              "      <td id=\"T_8718e_row0_col0\" class=\"data row0 col0\" >Dalmia</td>\n",
              "      <td id=\"T_8718e_row0_col1\" class=\"data row0 col1\" >Clerk</td>\n",
              "      <td id=\"T_8718e_row0_col2\" class=\"data row0 col2\" >12000</td>\n",
              "      <td id=\"T_8718e_row0_col3\" class=\"data row0 col3\" >10333</td>\n",
              "    </tr>\n",
              "    <tr>\n",
              "      <td id=\"T_8718e_row1_col0\" class=\"data row1 col0\" >Dikshit</td>\n",
              "      <td id=\"T_8718e_row1_col1\" class=\"data row1 col1\" >Clerk</td>\n",
              "      <td id=\"T_8718e_row1_col2\" class=\"data row1 col2\" >10000</td>\n",
              "      <td id=\"T_8718e_row1_col3\" class=\"data row1 col3\" >10333</td>\n",
              "    </tr>\n",
              "    <tr>\n",
              "      <td id=\"T_8718e_row2_col0\" class=\"data row2 col0\" >Dhoni</td>\n",
              "      <td id=\"T_8718e_row2_col1\" class=\"data row2 col1\" >Clerk</td>\n",
              "      <td id=\"T_8718e_row2_col2\" class=\"data row2 col2\" >9000</td>\n",
              "      <td id=\"T_8718e_row2_col3\" class=\"data row2 col3\" >10333</td>\n",
              "    </tr>\n",
              "    <tr>\n",
              "      <td id=\"T_8718e_row3_col0\" class=\"data row3 col0\" >Sehwag</td>\n",
              "      <td id=\"T_8718e_row3_col1\" class=\"data row3 col1\" >Cus_Rep</td>\n",
              "      <td id=\"T_8718e_row3_col2\" class=\"data row3 col2\" >15000</td>\n",
              "      <td id=\"T_8718e_row3_col3\" class=\"data row3 col3\" >20000</td>\n",
              "    </tr>\n",
              "    <tr>\n",
              "      <td id=\"T_8718e_row4_col0\" class=\"data row4 col0\" >Mirza</td>\n",
              "      <td id=\"T_8718e_row4_col1\" class=\"data row4 col1\" >Cus_Rep</td>\n",
              "      <td id=\"T_8718e_row4_col2\" class=\"data row4 col2\" >25000</td>\n",
              "      <td id=\"T_8718e_row4_col3\" class=\"data row4 col3\" >20000</td>\n",
              "    </tr>\n",
              "    <tr>\n",
              "      <td id=\"T_8718e_row5_col0\" class=\"data row5 col0\" >Ganguly</td>\n",
              "      <td id=\"T_8718e_row5_col1\" class=\"data row5 col1\" >Cus_Rep</td>\n",
              "      <td id=\"T_8718e_row5_col2\" class=\"data row5 col2\" >20000</td>\n",
              "      <td id=\"T_8718e_row5_col3\" class=\"data row5 col3\" >20000</td>\n",
              "    </tr>\n",
              "    <tr>\n",
              "      <td id=\"T_8718e_row6_col0\" class=\"data row6 col0\" >Ganesan</td>\n",
              "      <td id=\"T_8718e_row6_col1\" class=\"data row6 col1\" >Director</td>\n",
              "      <td id=\"T_8718e_row6_col2\" class=\"data row6 col2\" >60000</td>\n",
              "      <td id=\"T_8718e_row6_col3\" class=\"data row6 col3\" >60000</td>\n",
              "    </tr>\n",
              "    <tr>\n",
              "      <td id=\"T_8718e_row7_col0\" class=\"data row7 col0\" >Sunil</td>\n",
              "      <td id=\"T_8718e_row7_col1\" class=\"data row7 col1\" >Dy Manager</td>\n",
              "      <td id=\"T_8718e_row7_col2\" class=\"data row7 col2\" >40000</td>\n",
              "      <td id=\"T_8718e_row7_col3\" class=\"data row7 col3\" >40000</td>\n",
              "    </tr>\n",
              "    <tr>\n",
              "      <td id=\"T_8718e_row8_col0\" class=\"data row8 col0\" >Bacchan</td>\n",
              "      <td id=\"T_8718e_row8_col1\" class=\"data row8 col1\" >Executive</td>\n",
              "      <td id=\"T_8718e_row8_col2\" class=\"data row8 col2\" >50000</td>\n",
              "      <td id=\"T_8718e_row8_col3\" class=\"data row8 col3\" >50000</td>\n",
              "    </tr>\n",
              "    <tr>\n",
              "      <td id=\"T_8718e_row9_col0\" class=\"data row9 col0\" >Khan</td>\n",
              "      <td id=\"T_8718e_row9_col1\" class=\"data row9 col1\" >Manager</td>\n",
              "      <td id=\"T_8718e_row9_col2\" class=\"data row9 col2\" >30000</td>\n",
              "      <td id=\"T_8718e_row9_col3\" class=\"data row9 col3\" >27500</td>\n",
              "    </tr>\n",
              "    <tr>\n",
              "      <td id=\"T_8718e_row10_col0\" class=\"data row10 col0\" >Mukherjee</td>\n",
              "      <td id=\"T_8718e_row10_col1\" class=\"data row10 col1\" >Manager</td>\n",
              "      <td id=\"T_8718e_row10_col2\" class=\"data row10 col2\" >25000</td>\n",
              "      <td id=\"T_8718e_row10_col3\" class=\"data row10 col3\" >27500</td>\n",
              "    </tr>\n",
              "    <tr>\n",
              "      <td id=\"T_8718e_row11_col0\" class=\"data row11 col0\" >Karthikeyan</td>\n",
              "      <td id=\"T_8718e_row11_col1\" class=\"data row11 col1\" >Secretary</td>\n",
              "      <td id=\"T_8718e_row11_col2\" class=\"data row11 col2\" >40000</td>\n",
              "      <td id=\"T_8718e_row11_col3\" class=\"data row11 col3\" >40000</td>\n",
              "    </tr>\n",
              "    <tr>\n",
              "      <td id=\"T_8718e_row12_col0\" class=\"data row12 col0\" >Dravid</td>\n",
              "      <td id=\"T_8718e_row12_col1\" class=\"data row12 col1\" >Sr Manager</td>\n",
              "      <td id=\"T_8718e_row12_col2\" class=\"data row12 col2\" >40000</td>\n",
              "      <td id=\"T_8718e_row12_col3\" class=\"data row12 col3\" >40000</td>\n",
              "    </tr>\n",
              "  </tbody>\n",
              "</table>\n"
            ]
          },
          "metadata": {},
          "execution_count": 65
        }
      ]
    },
    {
      "cell_type": "markdown",
      "source": [
        "#Window Functions"
      ],
      "metadata": {
        "id": "p1v2XtGa1QOq"
      }
    },
    {
      "cell_type": "code",
      "source": [
        "sql = \"select deptid, lastname, salary, \\\n",
        "    avg(salary) over (partition by deptid) \\\n",
        "    from empl\"\n",
        "runSelect(sql)"
      ],
      "metadata": {
        "colab": {
          "base_uri": "https://localhost:8080/",
          "height": 457
        },
        "id": "ffpu5hXo1TfJ",
        "outputId": "237d1d81-7202-4af4-a1cf-c6a94a5717a0"
      },
      "execution_count": 66,
      "outputs": [
        {
          "output_type": "execute_result",
          "data": {
            "text/plain": [
              "<pandas.io.formats.style.Styler at 0x7adbe24877c0>"
            ],
            "text/html": [
              "<style type=\"text/css\">\n",
              "</style>\n",
              "<table id=\"T_e01b7\" class=\"dataframe\">\n",
              "  <thead>\n",
              "    <tr>\n",
              "      <th id=\"T_e01b7_level0_col0\" class=\"col_heading level0 col0\" >deptid</th>\n",
              "      <th id=\"T_e01b7_level0_col1\" class=\"col_heading level0 col1\" >lastname</th>\n",
              "      <th id=\"T_e01b7_level0_col2\" class=\"col_heading level0 col2\" >salary</th>\n",
              "      <th id=\"T_e01b7_level0_col3\" class=\"col_heading level0 col3\" >avg</th>\n",
              "    </tr>\n",
              "  </thead>\n",
              "  <tbody>\n",
              "    <tr>\n",
              "      <td id=\"T_e01b7_row0_col0\" class=\"data row0 col0\" >10</td>\n",
              "      <td id=\"T_e01b7_row0_col1\" class=\"data row0 col1\" >Bacchan</td>\n",
              "      <td id=\"T_e01b7_row0_col2\" class=\"data row0 col2\" >50000</td>\n",
              "      <td id=\"T_e01b7_row0_col3\" class=\"data row0 col3\" >50000.000000000000</td>\n",
              "    </tr>\n",
              "    <tr>\n",
              "      <td id=\"T_e01b7_row1_col0\" class=\"data row1 col0\" >10</td>\n",
              "      <td id=\"T_e01b7_row1_col1\" class=\"data row1 col1\" >Ganesan</td>\n",
              "      <td id=\"T_e01b7_row1_col2\" class=\"data row1 col2\" >60000</td>\n",
              "      <td id=\"T_e01b7_row1_col3\" class=\"data row1 col3\" >50000.000000000000</td>\n",
              "    </tr>\n",
              "    <tr>\n",
              "      <td id=\"T_e01b7_row2_col0\" class=\"data row2 col0\" >10</td>\n",
              "      <td id=\"T_e01b7_row2_col1\" class=\"data row2 col1\" >Karthikeyan</td>\n",
              "      <td id=\"T_e01b7_row2_col2\" class=\"data row2 col2\" >40000</td>\n",
              "      <td id=\"T_e01b7_row2_col3\" class=\"data row2 col3\" >50000.000000000000</td>\n",
              "    </tr>\n",
              "    <tr>\n",
              "      <td id=\"T_e01b7_row3_col0\" class=\"data row3 col0\" >20</td>\n",
              "      <td id=\"T_e01b7_row3_col1\" class=\"data row3 col1\" >Dikshit</td>\n",
              "      <td id=\"T_e01b7_row3_col2\" class=\"data row3 col2\" >10000</td>\n",
              "      <td id=\"T_e01b7_row3_col3\" class=\"data row3 col3\" >18333.333333333333</td>\n",
              "    </tr>\n",
              "    <tr>\n",
              "      <td id=\"T_e01b7_row4_col0\" class=\"data row4 col0\" >20</td>\n",
              "      <td id=\"T_e01b7_row4_col1\" class=\"data row4 col1\" >Khan</td>\n",
              "      <td id=\"T_e01b7_row4_col2\" class=\"data row4 col2\" >30000</td>\n",
              "      <td id=\"T_e01b7_row4_col3\" class=\"data row4 col3\" >18333.333333333333</td>\n",
              "    </tr>\n",
              "    <tr>\n",
              "      <td id=\"T_e01b7_row5_col0\" class=\"data row5 col0\" >20</td>\n",
              "      <td id=\"T_e01b7_row5_col1\" class=\"data row5 col1\" >Sehwag</td>\n",
              "      <td id=\"T_e01b7_row5_col2\" class=\"data row5 col2\" >15000</td>\n",
              "      <td id=\"T_e01b7_row5_col3\" class=\"data row5 col3\" >18333.333333333333</td>\n",
              "    </tr>\n",
              "    <tr>\n",
              "      <td id=\"T_e01b7_row6_col0\" class=\"data row6 col0\" >30</td>\n",
              "      <td id=\"T_e01b7_row6_col1\" class=\"data row6 col1\" >Mirza</td>\n",
              "      <td id=\"T_e01b7_row6_col2\" class=\"data row6 col2\" >25000</td>\n",
              "      <td id=\"T_e01b7_row6_col3\" class=\"data row6 col3\" >25666.666666666667</td>\n",
              "    </tr>\n",
              "    <tr>\n",
              "      <td id=\"T_e01b7_row7_col0\" class=\"data row7 col0\" >30</td>\n",
              "      <td id=\"T_e01b7_row7_col1\" class=\"data row7 col1\" >Dravid</td>\n",
              "      <td id=\"T_e01b7_row7_col2\" class=\"data row7 col2\" >40000</td>\n",
              "      <td id=\"T_e01b7_row7_col3\" class=\"data row7 col3\" >25666.666666666667</td>\n",
              "    </tr>\n",
              "    <tr>\n",
              "      <td id=\"T_e01b7_row8_col0\" class=\"data row8 col0\" >30</td>\n",
              "      <td id=\"T_e01b7_row8_col1\" class=\"data row8 col1\" >Dalmia</td>\n",
              "      <td id=\"T_e01b7_row8_col2\" class=\"data row8 col2\" >12000</td>\n",
              "      <td id=\"T_e01b7_row8_col3\" class=\"data row8 col3\" >25666.666666666667</td>\n",
              "    </tr>\n",
              "    <tr>\n",
              "      <td id=\"T_e01b7_row9_col0\" class=\"data row9 col0\" >40</td>\n",
              "      <td id=\"T_e01b7_row9_col1\" class=\"data row9 col1\" >Ganguly</td>\n",
              "      <td id=\"T_e01b7_row9_col2\" class=\"data row9 col2\" >20000</td>\n",
              "      <td id=\"T_e01b7_row9_col3\" class=\"data row9 col3\" >18000.000000000000</td>\n",
              "    </tr>\n",
              "    <tr>\n",
              "      <td id=\"T_e01b7_row10_col0\" class=\"data row10 col0\" >40</td>\n",
              "      <td id=\"T_e01b7_row10_col1\" class=\"data row10 col1\" >Dhoni</td>\n",
              "      <td id=\"T_e01b7_row10_col2\" class=\"data row10 col2\" >9000</td>\n",
              "      <td id=\"T_e01b7_row10_col3\" class=\"data row10 col3\" >18000.000000000000</td>\n",
              "    </tr>\n",
              "    <tr>\n",
              "      <td id=\"T_e01b7_row11_col0\" class=\"data row11 col0\" >40</td>\n",
              "      <td id=\"T_e01b7_row11_col1\" class=\"data row11 col1\" >Mukherjee</td>\n",
              "      <td id=\"T_e01b7_row11_col2\" class=\"data row11 col2\" >25000</td>\n",
              "      <td id=\"T_e01b7_row11_col3\" class=\"data row11 col3\" >18000.000000000000</td>\n",
              "    </tr>\n",
              "    <tr>\n",
              "      <td id=\"T_e01b7_row12_col0\" class=\"data row12 col0\" >70</td>\n",
              "      <td id=\"T_e01b7_row12_col1\" class=\"data row12 col1\" >Sunil</td>\n",
              "      <td id=\"T_e01b7_row12_col2\" class=\"data row12 col2\" >40000</td>\n",
              "      <td id=\"T_e01b7_row12_col3\" class=\"data row12 col3\" >40000.000000000000</td>\n",
              "    </tr>\n",
              "  </tbody>\n",
              "</table>\n"
            ]
          },
          "metadata": {},
          "execution_count": 66
        }
      ]
    },
    {
      "cell_type": "code",
      "source": [
        "sql = \"select deptname, lastname, salary, avg(salary) over (partition by deptname) from empl  inner join dept using(deptid)\"\n",
        "runSelect(sql)"
      ],
      "metadata": {
        "colab": {
          "base_uri": "https://localhost:8080/",
          "height": 426
        },
        "id": "JZC4y3tg2o8A",
        "outputId": "343dcae0-4bdf-40bb-840a-ec4e1e4610c9"
      },
      "execution_count": 67,
      "outputs": [
        {
          "output_type": "execute_result",
          "data": {
            "text/plain": [
              "<pandas.io.formats.style.Styler at 0x7adbe2487850>"
            ],
            "text/html": [
              "<style type=\"text/css\">\n",
              "</style>\n",
              "<table id=\"T_d2a76\" class=\"dataframe\">\n",
              "  <thead>\n",
              "    <tr>\n",
              "      <th id=\"T_d2a76_level0_col0\" class=\"col_heading level0 col0\" >deptname</th>\n",
              "      <th id=\"T_d2a76_level0_col1\" class=\"col_heading level0 col1\" >lastname</th>\n",
              "      <th id=\"T_d2a76_level0_col2\" class=\"col_heading level0 col2\" >salary</th>\n",
              "      <th id=\"T_d2a76_level0_col3\" class=\"col_heading level0 col3\" >avg</th>\n",
              "    </tr>\n",
              "  </thead>\n",
              "  <tbody>\n",
              "    <tr>\n",
              "      <td id=\"T_d2a76_row0_col0\" class=\"data row0 col0\" >Accounts</td>\n",
              "      <td id=\"T_d2a76_row0_col1\" class=\"data row0 col1\" >Dravid</td>\n",
              "      <td id=\"T_d2a76_row0_col2\" class=\"data row0 col2\" >40000</td>\n",
              "      <td id=\"T_d2a76_row0_col3\" class=\"data row0 col3\" >25666.666666666667</td>\n",
              "    </tr>\n",
              "    <tr>\n",
              "      <td id=\"T_d2a76_row1_col0\" class=\"data row1 col0\" >Accounts</td>\n",
              "      <td id=\"T_d2a76_row1_col1\" class=\"data row1 col1\" >Dalmia</td>\n",
              "      <td id=\"T_d2a76_row1_col2\" class=\"data row1 col2\" >12000</td>\n",
              "      <td id=\"T_d2a76_row1_col3\" class=\"data row1 col3\" >25666.666666666667</td>\n",
              "    </tr>\n",
              "    <tr>\n",
              "      <td id=\"T_d2a76_row2_col0\" class=\"data row2 col0\" >Accounts</td>\n",
              "      <td id=\"T_d2a76_row2_col1\" class=\"data row2 col1\" >Mirza</td>\n",
              "      <td id=\"T_d2a76_row2_col2\" class=\"data row2 col2\" >25000</td>\n",
              "      <td id=\"T_d2a76_row2_col3\" class=\"data row2 col3\" >25666.666666666667</td>\n",
              "    </tr>\n",
              "    <tr>\n",
              "      <td id=\"T_d2a76_row3_col0\" class=\"data row3 col0\" >Corporate</td>\n",
              "      <td id=\"T_d2a76_row3_col1\" class=\"data row3 col1\" >Karthikeyan</td>\n",
              "      <td id=\"T_d2a76_row3_col2\" class=\"data row3 col2\" >40000</td>\n",
              "      <td id=\"T_d2a76_row3_col3\" class=\"data row3 col3\" >50000.000000000000</td>\n",
              "    </tr>\n",
              "    <tr>\n",
              "      <td id=\"T_d2a76_row4_col0\" class=\"data row4 col0\" >Corporate</td>\n",
              "      <td id=\"T_d2a76_row4_col1\" class=\"data row4 col1\" >Ganesan</td>\n",
              "      <td id=\"T_d2a76_row4_col2\" class=\"data row4 col2\" >60000</td>\n",
              "      <td id=\"T_d2a76_row4_col3\" class=\"data row4 col3\" >50000.000000000000</td>\n",
              "    </tr>\n",
              "    <tr>\n",
              "      <td id=\"T_d2a76_row5_col0\" class=\"data row5 col0\" >Corporate</td>\n",
              "      <td id=\"T_d2a76_row5_col1\" class=\"data row5 col1\" >Bacchan</td>\n",
              "      <td id=\"T_d2a76_row5_col2\" class=\"data row5 col2\" >50000</td>\n",
              "      <td id=\"T_d2a76_row5_col3\" class=\"data row5 col3\" >50000.000000000000</td>\n",
              "    </tr>\n",
              "    <tr>\n",
              "      <td id=\"T_d2a76_row6_col0\" class=\"data row6 col0\" >Production</td>\n",
              "      <td id=\"T_d2a76_row6_col1\" class=\"data row6 col1\" >Ganguly</td>\n",
              "      <td id=\"T_d2a76_row6_col2\" class=\"data row6 col2\" >20000</td>\n",
              "      <td id=\"T_d2a76_row6_col3\" class=\"data row6 col3\" >18000.000000000000</td>\n",
              "    </tr>\n",
              "    <tr>\n",
              "      <td id=\"T_d2a76_row7_col0\" class=\"data row7 col0\" >Production</td>\n",
              "      <td id=\"T_d2a76_row7_col1\" class=\"data row7 col1\" >Dhoni</td>\n",
              "      <td id=\"T_d2a76_row7_col2\" class=\"data row7 col2\" >9000</td>\n",
              "      <td id=\"T_d2a76_row7_col3\" class=\"data row7 col3\" >18000.000000000000</td>\n",
              "    </tr>\n",
              "    <tr>\n",
              "      <td id=\"T_d2a76_row8_col0\" class=\"data row8 col0\" >Production</td>\n",
              "      <td id=\"T_d2a76_row8_col1\" class=\"data row8 col1\" >Mukherjee</td>\n",
              "      <td id=\"T_d2a76_row8_col2\" class=\"data row8 col2\" >25000</td>\n",
              "      <td id=\"T_d2a76_row8_col3\" class=\"data row8 col3\" >18000.000000000000</td>\n",
              "    </tr>\n",
              "    <tr>\n",
              "      <td id=\"T_d2a76_row9_col0\" class=\"data row9 col0\" >Sales</td>\n",
              "      <td id=\"T_d2a76_row9_col1\" class=\"data row9 col1\" >Dikshit</td>\n",
              "      <td id=\"T_d2a76_row9_col2\" class=\"data row9 col2\" >10000</td>\n",
              "      <td id=\"T_d2a76_row9_col3\" class=\"data row9 col3\" >18333.333333333333</td>\n",
              "    </tr>\n",
              "    <tr>\n",
              "      <td id=\"T_d2a76_row10_col0\" class=\"data row10 col0\" >Sales</td>\n",
              "      <td id=\"T_d2a76_row10_col1\" class=\"data row10 col1\" >Khan</td>\n",
              "      <td id=\"T_d2a76_row10_col2\" class=\"data row10 col2\" >30000</td>\n",
              "      <td id=\"T_d2a76_row10_col3\" class=\"data row10 col3\" >18333.333333333333</td>\n",
              "    </tr>\n",
              "    <tr>\n",
              "      <td id=\"T_d2a76_row11_col0\" class=\"data row11 col0\" >Sales</td>\n",
              "      <td id=\"T_d2a76_row11_col1\" class=\"data row11 col1\" >Sehwag</td>\n",
              "      <td id=\"T_d2a76_row11_col2\" class=\"data row11 col2\" >15000</td>\n",
              "      <td id=\"T_d2a76_row11_col3\" class=\"data row11 col3\" >18333.333333333333</td>\n",
              "    </tr>\n",
              "  </tbody>\n",
              "</table>\n"
            ]
          },
          "metadata": {},
          "execution_count": 67
        }
      ]
    },
    {
      "cell_type": "code",
      "source": [
        "sql = \"select deptname, lastname, salary, \\\n",
        "    row_number() over (partition by deptname order by salary) \\\n",
        "    from empl  inner join dept using(deptid)\"\n",
        "runSelect(sql)"
      ],
      "metadata": {
        "colab": {
          "base_uri": "https://localhost:8080/",
          "height": 426
        },
        "id": "xgP9VShE4Spl",
        "outputId": "c738cdbc-2197-4cfe-f7fa-da196b9ce4be"
      },
      "execution_count": 68,
      "outputs": [
        {
          "output_type": "execute_result",
          "data": {
            "text/plain": [
              "<pandas.io.formats.style.Styler at 0x7adbe258ae90>"
            ],
            "text/html": [
              "<style type=\"text/css\">\n",
              "</style>\n",
              "<table id=\"T_30d2c\" class=\"dataframe\">\n",
              "  <thead>\n",
              "    <tr>\n",
              "      <th id=\"T_30d2c_level0_col0\" class=\"col_heading level0 col0\" >deptname</th>\n",
              "      <th id=\"T_30d2c_level0_col1\" class=\"col_heading level0 col1\" >lastname</th>\n",
              "      <th id=\"T_30d2c_level0_col2\" class=\"col_heading level0 col2\" >salary</th>\n",
              "      <th id=\"T_30d2c_level0_col3\" class=\"col_heading level0 col3\" >row_number</th>\n",
              "    </tr>\n",
              "  </thead>\n",
              "  <tbody>\n",
              "    <tr>\n",
              "      <td id=\"T_30d2c_row0_col0\" class=\"data row0 col0\" >Accounts</td>\n",
              "      <td id=\"T_30d2c_row0_col1\" class=\"data row0 col1\" >Dalmia</td>\n",
              "      <td id=\"T_30d2c_row0_col2\" class=\"data row0 col2\" >12000</td>\n",
              "      <td id=\"T_30d2c_row0_col3\" class=\"data row0 col3\" >1</td>\n",
              "    </tr>\n",
              "    <tr>\n",
              "      <td id=\"T_30d2c_row1_col0\" class=\"data row1 col0\" >Accounts</td>\n",
              "      <td id=\"T_30d2c_row1_col1\" class=\"data row1 col1\" >Mirza</td>\n",
              "      <td id=\"T_30d2c_row1_col2\" class=\"data row1 col2\" >25000</td>\n",
              "      <td id=\"T_30d2c_row1_col3\" class=\"data row1 col3\" >2</td>\n",
              "    </tr>\n",
              "    <tr>\n",
              "      <td id=\"T_30d2c_row2_col0\" class=\"data row2 col0\" >Accounts</td>\n",
              "      <td id=\"T_30d2c_row2_col1\" class=\"data row2 col1\" >Dravid</td>\n",
              "      <td id=\"T_30d2c_row2_col2\" class=\"data row2 col2\" >40000</td>\n",
              "      <td id=\"T_30d2c_row2_col3\" class=\"data row2 col3\" >3</td>\n",
              "    </tr>\n",
              "    <tr>\n",
              "      <td id=\"T_30d2c_row3_col0\" class=\"data row3 col0\" >Corporate</td>\n",
              "      <td id=\"T_30d2c_row3_col1\" class=\"data row3 col1\" >Karthikeyan</td>\n",
              "      <td id=\"T_30d2c_row3_col2\" class=\"data row3 col2\" >40000</td>\n",
              "      <td id=\"T_30d2c_row3_col3\" class=\"data row3 col3\" >1</td>\n",
              "    </tr>\n",
              "    <tr>\n",
              "      <td id=\"T_30d2c_row4_col0\" class=\"data row4 col0\" >Corporate</td>\n",
              "      <td id=\"T_30d2c_row4_col1\" class=\"data row4 col1\" >Bacchan</td>\n",
              "      <td id=\"T_30d2c_row4_col2\" class=\"data row4 col2\" >50000</td>\n",
              "      <td id=\"T_30d2c_row4_col3\" class=\"data row4 col3\" >2</td>\n",
              "    </tr>\n",
              "    <tr>\n",
              "      <td id=\"T_30d2c_row5_col0\" class=\"data row5 col0\" >Corporate</td>\n",
              "      <td id=\"T_30d2c_row5_col1\" class=\"data row5 col1\" >Ganesan</td>\n",
              "      <td id=\"T_30d2c_row5_col2\" class=\"data row5 col2\" >60000</td>\n",
              "      <td id=\"T_30d2c_row5_col3\" class=\"data row5 col3\" >3</td>\n",
              "    </tr>\n",
              "    <tr>\n",
              "      <td id=\"T_30d2c_row6_col0\" class=\"data row6 col0\" >Production</td>\n",
              "      <td id=\"T_30d2c_row6_col1\" class=\"data row6 col1\" >Dhoni</td>\n",
              "      <td id=\"T_30d2c_row6_col2\" class=\"data row6 col2\" >9000</td>\n",
              "      <td id=\"T_30d2c_row6_col3\" class=\"data row6 col3\" >1</td>\n",
              "    </tr>\n",
              "    <tr>\n",
              "      <td id=\"T_30d2c_row7_col0\" class=\"data row7 col0\" >Production</td>\n",
              "      <td id=\"T_30d2c_row7_col1\" class=\"data row7 col1\" >Ganguly</td>\n",
              "      <td id=\"T_30d2c_row7_col2\" class=\"data row7 col2\" >20000</td>\n",
              "      <td id=\"T_30d2c_row7_col3\" class=\"data row7 col3\" >2</td>\n",
              "    </tr>\n",
              "    <tr>\n",
              "      <td id=\"T_30d2c_row8_col0\" class=\"data row8 col0\" >Production</td>\n",
              "      <td id=\"T_30d2c_row8_col1\" class=\"data row8 col1\" >Mukherjee</td>\n",
              "      <td id=\"T_30d2c_row8_col2\" class=\"data row8 col2\" >25000</td>\n",
              "      <td id=\"T_30d2c_row8_col3\" class=\"data row8 col3\" >3</td>\n",
              "    </tr>\n",
              "    <tr>\n",
              "      <td id=\"T_30d2c_row9_col0\" class=\"data row9 col0\" >Sales</td>\n",
              "      <td id=\"T_30d2c_row9_col1\" class=\"data row9 col1\" >Dikshit</td>\n",
              "      <td id=\"T_30d2c_row9_col2\" class=\"data row9 col2\" >10000</td>\n",
              "      <td id=\"T_30d2c_row9_col3\" class=\"data row9 col3\" >1</td>\n",
              "    </tr>\n",
              "    <tr>\n",
              "      <td id=\"T_30d2c_row10_col0\" class=\"data row10 col0\" >Sales</td>\n",
              "      <td id=\"T_30d2c_row10_col1\" class=\"data row10 col1\" >Sehwag</td>\n",
              "      <td id=\"T_30d2c_row10_col2\" class=\"data row10 col2\" >15000</td>\n",
              "      <td id=\"T_30d2c_row10_col3\" class=\"data row10 col3\" >2</td>\n",
              "    </tr>\n",
              "    <tr>\n",
              "      <td id=\"T_30d2c_row11_col0\" class=\"data row11 col0\" >Sales</td>\n",
              "      <td id=\"T_30d2c_row11_col1\" class=\"data row11 col1\" >Khan</td>\n",
              "      <td id=\"T_30d2c_row11_col2\" class=\"data row11 col2\" >30000</td>\n",
              "      <td id=\"T_30d2c_row11_col3\" class=\"data row11 col3\" >3</td>\n",
              "    </tr>\n",
              "  </tbody>\n",
              "</table>\n"
            ]
          },
          "metadata": {},
          "execution_count": 68
        }
      ]
    },
    {
      "cell_type": "code",
      "source": [
        "sql = \"select deptname, lastname, salary, \\\n",
        "        rank() over (partition by deptname order by salary desc) \\\n",
        "        from empl  inner join dept using(deptid)\"\n",
        "runSelect(sql)"
      ],
      "metadata": {
        "colab": {
          "base_uri": "https://localhost:8080/",
          "height": 426
        },
        "id": "rL_1sHBa4ply",
        "outputId": "d9629438-03ed-400f-f0e1-7f9a1faccc17"
      },
      "execution_count": 69,
      "outputs": [
        {
          "output_type": "execute_result",
          "data": {
            "text/plain": [
              "<pandas.io.formats.style.Styler at 0x7adbe258b160>"
            ],
            "text/html": [
              "<style type=\"text/css\">\n",
              "</style>\n",
              "<table id=\"T_448be\" class=\"dataframe\">\n",
              "  <thead>\n",
              "    <tr>\n",
              "      <th id=\"T_448be_level0_col0\" class=\"col_heading level0 col0\" >deptname</th>\n",
              "      <th id=\"T_448be_level0_col1\" class=\"col_heading level0 col1\" >lastname</th>\n",
              "      <th id=\"T_448be_level0_col2\" class=\"col_heading level0 col2\" >salary</th>\n",
              "      <th id=\"T_448be_level0_col3\" class=\"col_heading level0 col3\" >rank</th>\n",
              "    </tr>\n",
              "  </thead>\n",
              "  <tbody>\n",
              "    <tr>\n",
              "      <td id=\"T_448be_row0_col0\" class=\"data row0 col0\" >Accounts</td>\n",
              "      <td id=\"T_448be_row0_col1\" class=\"data row0 col1\" >Dravid</td>\n",
              "      <td id=\"T_448be_row0_col2\" class=\"data row0 col2\" >40000</td>\n",
              "      <td id=\"T_448be_row0_col3\" class=\"data row0 col3\" >1</td>\n",
              "    </tr>\n",
              "    <tr>\n",
              "      <td id=\"T_448be_row1_col0\" class=\"data row1 col0\" >Accounts</td>\n",
              "      <td id=\"T_448be_row1_col1\" class=\"data row1 col1\" >Mirza</td>\n",
              "      <td id=\"T_448be_row1_col2\" class=\"data row1 col2\" >25000</td>\n",
              "      <td id=\"T_448be_row1_col3\" class=\"data row1 col3\" >2</td>\n",
              "    </tr>\n",
              "    <tr>\n",
              "      <td id=\"T_448be_row2_col0\" class=\"data row2 col0\" >Accounts</td>\n",
              "      <td id=\"T_448be_row2_col1\" class=\"data row2 col1\" >Dalmia</td>\n",
              "      <td id=\"T_448be_row2_col2\" class=\"data row2 col2\" >12000</td>\n",
              "      <td id=\"T_448be_row2_col3\" class=\"data row2 col3\" >3</td>\n",
              "    </tr>\n",
              "    <tr>\n",
              "      <td id=\"T_448be_row3_col0\" class=\"data row3 col0\" >Corporate</td>\n",
              "      <td id=\"T_448be_row3_col1\" class=\"data row3 col1\" >Ganesan</td>\n",
              "      <td id=\"T_448be_row3_col2\" class=\"data row3 col2\" >60000</td>\n",
              "      <td id=\"T_448be_row3_col3\" class=\"data row3 col3\" >1</td>\n",
              "    </tr>\n",
              "    <tr>\n",
              "      <td id=\"T_448be_row4_col0\" class=\"data row4 col0\" >Corporate</td>\n",
              "      <td id=\"T_448be_row4_col1\" class=\"data row4 col1\" >Bacchan</td>\n",
              "      <td id=\"T_448be_row4_col2\" class=\"data row4 col2\" >50000</td>\n",
              "      <td id=\"T_448be_row4_col3\" class=\"data row4 col3\" >2</td>\n",
              "    </tr>\n",
              "    <tr>\n",
              "      <td id=\"T_448be_row5_col0\" class=\"data row5 col0\" >Corporate</td>\n",
              "      <td id=\"T_448be_row5_col1\" class=\"data row5 col1\" >Karthikeyan</td>\n",
              "      <td id=\"T_448be_row5_col2\" class=\"data row5 col2\" >40000</td>\n",
              "      <td id=\"T_448be_row5_col3\" class=\"data row5 col3\" >3</td>\n",
              "    </tr>\n",
              "    <tr>\n",
              "      <td id=\"T_448be_row6_col0\" class=\"data row6 col0\" >Production</td>\n",
              "      <td id=\"T_448be_row6_col1\" class=\"data row6 col1\" >Mukherjee</td>\n",
              "      <td id=\"T_448be_row6_col2\" class=\"data row6 col2\" >25000</td>\n",
              "      <td id=\"T_448be_row6_col3\" class=\"data row6 col3\" >1</td>\n",
              "    </tr>\n",
              "    <tr>\n",
              "      <td id=\"T_448be_row7_col0\" class=\"data row7 col0\" >Production</td>\n",
              "      <td id=\"T_448be_row7_col1\" class=\"data row7 col1\" >Ganguly</td>\n",
              "      <td id=\"T_448be_row7_col2\" class=\"data row7 col2\" >20000</td>\n",
              "      <td id=\"T_448be_row7_col3\" class=\"data row7 col3\" >2</td>\n",
              "    </tr>\n",
              "    <tr>\n",
              "      <td id=\"T_448be_row8_col0\" class=\"data row8 col0\" >Production</td>\n",
              "      <td id=\"T_448be_row8_col1\" class=\"data row8 col1\" >Dhoni</td>\n",
              "      <td id=\"T_448be_row8_col2\" class=\"data row8 col2\" >9000</td>\n",
              "      <td id=\"T_448be_row8_col3\" class=\"data row8 col3\" >3</td>\n",
              "    </tr>\n",
              "    <tr>\n",
              "      <td id=\"T_448be_row9_col0\" class=\"data row9 col0\" >Sales</td>\n",
              "      <td id=\"T_448be_row9_col1\" class=\"data row9 col1\" >Khan</td>\n",
              "      <td id=\"T_448be_row9_col2\" class=\"data row9 col2\" >30000</td>\n",
              "      <td id=\"T_448be_row9_col3\" class=\"data row9 col3\" >1</td>\n",
              "    </tr>\n",
              "    <tr>\n",
              "      <td id=\"T_448be_row10_col0\" class=\"data row10 col0\" >Sales</td>\n",
              "      <td id=\"T_448be_row10_col1\" class=\"data row10 col1\" >Sehwag</td>\n",
              "      <td id=\"T_448be_row10_col2\" class=\"data row10 col2\" >15000</td>\n",
              "      <td id=\"T_448be_row10_col3\" class=\"data row10 col3\" >2</td>\n",
              "    </tr>\n",
              "    <tr>\n",
              "      <td id=\"T_448be_row11_col0\" class=\"data row11 col0\" >Sales</td>\n",
              "      <td id=\"T_448be_row11_col1\" class=\"data row11 col1\" >Dikshit</td>\n",
              "      <td id=\"T_448be_row11_col2\" class=\"data row11 col2\" >10000</td>\n",
              "      <td id=\"T_448be_row11_col3\" class=\"data row11 col3\" >3</td>\n",
              "    </tr>\n",
              "  </tbody>\n",
              "</table>\n"
            ]
          },
          "metadata": {},
          "execution_count": 69
        }
      ]
    },
    {
      "cell_type": "code",
      "source": [
        "sql = \"select deptname, lastname, salary, \\\n",
        "first_value(salary) over (partition by deptname order by salary) as deptlow, \\\n",
        "last_value(salary) over (partition by deptname order by salary RANGE BETWEEN UNBOUNDED PRECEDING AND UNBOUNDED FOLLOWING) as depthigh \\\n",
        "from empl  inner join dept using(deptid)\"\n",
        "runSelect(sql)"
      ],
      "metadata": {
        "colab": {
          "base_uri": "https://localhost:8080/",
          "height": 426
        },
        "id": "RO428SVT5T3d",
        "outputId": "ecf248da-22df-4467-b232-25ffadb2f0ff"
      },
      "execution_count": 70,
      "outputs": [
        {
          "output_type": "execute_result",
          "data": {
            "text/plain": [
              "<pandas.io.formats.style.Styler at 0x7adbe23cdb40>"
            ],
            "text/html": [
              "<style type=\"text/css\">\n",
              "</style>\n",
              "<table id=\"T_b03db\" class=\"dataframe\">\n",
              "  <thead>\n",
              "    <tr>\n",
              "      <th id=\"T_b03db_level0_col0\" class=\"col_heading level0 col0\" >deptname</th>\n",
              "      <th id=\"T_b03db_level0_col1\" class=\"col_heading level0 col1\" >lastname</th>\n",
              "      <th id=\"T_b03db_level0_col2\" class=\"col_heading level0 col2\" >salary</th>\n",
              "      <th id=\"T_b03db_level0_col3\" class=\"col_heading level0 col3\" >deptlow</th>\n",
              "      <th id=\"T_b03db_level0_col4\" class=\"col_heading level0 col4\" >depthigh</th>\n",
              "    </tr>\n",
              "  </thead>\n",
              "  <tbody>\n",
              "    <tr>\n",
              "      <td id=\"T_b03db_row0_col0\" class=\"data row0 col0\" >Accounts</td>\n",
              "      <td id=\"T_b03db_row0_col1\" class=\"data row0 col1\" >Dalmia</td>\n",
              "      <td id=\"T_b03db_row0_col2\" class=\"data row0 col2\" >12000</td>\n",
              "      <td id=\"T_b03db_row0_col3\" class=\"data row0 col3\" >12000</td>\n",
              "      <td id=\"T_b03db_row0_col4\" class=\"data row0 col4\" >40000</td>\n",
              "    </tr>\n",
              "    <tr>\n",
              "      <td id=\"T_b03db_row1_col0\" class=\"data row1 col0\" >Accounts</td>\n",
              "      <td id=\"T_b03db_row1_col1\" class=\"data row1 col1\" >Mirza</td>\n",
              "      <td id=\"T_b03db_row1_col2\" class=\"data row1 col2\" >25000</td>\n",
              "      <td id=\"T_b03db_row1_col3\" class=\"data row1 col3\" >12000</td>\n",
              "      <td id=\"T_b03db_row1_col4\" class=\"data row1 col4\" >40000</td>\n",
              "    </tr>\n",
              "    <tr>\n",
              "      <td id=\"T_b03db_row2_col0\" class=\"data row2 col0\" >Accounts</td>\n",
              "      <td id=\"T_b03db_row2_col1\" class=\"data row2 col1\" >Dravid</td>\n",
              "      <td id=\"T_b03db_row2_col2\" class=\"data row2 col2\" >40000</td>\n",
              "      <td id=\"T_b03db_row2_col3\" class=\"data row2 col3\" >12000</td>\n",
              "      <td id=\"T_b03db_row2_col4\" class=\"data row2 col4\" >40000</td>\n",
              "    </tr>\n",
              "    <tr>\n",
              "      <td id=\"T_b03db_row3_col0\" class=\"data row3 col0\" >Corporate</td>\n",
              "      <td id=\"T_b03db_row3_col1\" class=\"data row3 col1\" >Karthikeyan</td>\n",
              "      <td id=\"T_b03db_row3_col2\" class=\"data row3 col2\" >40000</td>\n",
              "      <td id=\"T_b03db_row3_col3\" class=\"data row3 col3\" >40000</td>\n",
              "      <td id=\"T_b03db_row3_col4\" class=\"data row3 col4\" >60000</td>\n",
              "    </tr>\n",
              "    <tr>\n",
              "      <td id=\"T_b03db_row4_col0\" class=\"data row4 col0\" >Corporate</td>\n",
              "      <td id=\"T_b03db_row4_col1\" class=\"data row4 col1\" >Bacchan</td>\n",
              "      <td id=\"T_b03db_row4_col2\" class=\"data row4 col2\" >50000</td>\n",
              "      <td id=\"T_b03db_row4_col3\" class=\"data row4 col3\" >40000</td>\n",
              "      <td id=\"T_b03db_row4_col4\" class=\"data row4 col4\" >60000</td>\n",
              "    </tr>\n",
              "    <tr>\n",
              "      <td id=\"T_b03db_row5_col0\" class=\"data row5 col0\" >Corporate</td>\n",
              "      <td id=\"T_b03db_row5_col1\" class=\"data row5 col1\" >Ganesan</td>\n",
              "      <td id=\"T_b03db_row5_col2\" class=\"data row5 col2\" >60000</td>\n",
              "      <td id=\"T_b03db_row5_col3\" class=\"data row5 col3\" >40000</td>\n",
              "      <td id=\"T_b03db_row5_col4\" class=\"data row5 col4\" >60000</td>\n",
              "    </tr>\n",
              "    <tr>\n",
              "      <td id=\"T_b03db_row6_col0\" class=\"data row6 col0\" >Production</td>\n",
              "      <td id=\"T_b03db_row6_col1\" class=\"data row6 col1\" >Dhoni</td>\n",
              "      <td id=\"T_b03db_row6_col2\" class=\"data row6 col2\" >9000</td>\n",
              "      <td id=\"T_b03db_row6_col3\" class=\"data row6 col3\" >9000</td>\n",
              "      <td id=\"T_b03db_row6_col4\" class=\"data row6 col4\" >25000</td>\n",
              "    </tr>\n",
              "    <tr>\n",
              "      <td id=\"T_b03db_row7_col0\" class=\"data row7 col0\" >Production</td>\n",
              "      <td id=\"T_b03db_row7_col1\" class=\"data row7 col1\" >Ganguly</td>\n",
              "      <td id=\"T_b03db_row7_col2\" class=\"data row7 col2\" >20000</td>\n",
              "      <td id=\"T_b03db_row7_col3\" class=\"data row7 col3\" >9000</td>\n",
              "      <td id=\"T_b03db_row7_col4\" class=\"data row7 col4\" >25000</td>\n",
              "    </tr>\n",
              "    <tr>\n",
              "      <td id=\"T_b03db_row8_col0\" class=\"data row8 col0\" >Production</td>\n",
              "      <td id=\"T_b03db_row8_col1\" class=\"data row8 col1\" >Mukherjee</td>\n",
              "      <td id=\"T_b03db_row8_col2\" class=\"data row8 col2\" >25000</td>\n",
              "      <td id=\"T_b03db_row8_col3\" class=\"data row8 col3\" >9000</td>\n",
              "      <td id=\"T_b03db_row8_col4\" class=\"data row8 col4\" >25000</td>\n",
              "    </tr>\n",
              "    <tr>\n",
              "      <td id=\"T_b03db_row9_col0\" class=\"data row9 col0\" >Sales</td>\n",
              "      <td id=\"T_b03db_row9_col1\" class=\"data row9 col1\" >Dikshit</td>\n",
              "      <td id=\"T_b03db_row9_col2\" class=\"data row9 col2\" >10000</td>\n",
              "      <td id=\"T_b03db_row9_col3\" class=\"data row9 col3\" >10000</td>\n",
              "      <td id=\"T_b03db_row9_col4\" class=\"data row9 col4\" >30000</td>\n",
              "    </tr>\n",
              "    <tr>\n",
              "      <td id=\"T_b03db_row10_col0\" class=\"data row10 col0\" >Sales</td>\n",
              "      <td id=\"T_b03db_row10_col1\" class=\"data row10 col1\" >Sehwag</td>\n",
              "      <td id=\"T_b03db_row10_col2\" class=\"data row10 col2\" >15000</td>\n",
              "      <td id=\"T_b03db_row10_col3\" class=\"data row10 col3\" >10000</td>\n",
              "      <td id=\"T_b03db_row10_col4\" class=\"data row10 col4\" >30000</td>\n",
              "    </tr>\n",
              "    <tr>\n",
              "      <td id=\"T_b03db_row11_col0\" class=\"data row11 col0\" >Sales</td>\n",
              "      <td id=\"T_b03db_row11_col1\" class=\"data row11 col1\" >Khan</td>\n",
              "      <td id=\"T_b03db_row11_col2\" class=\"data row11 col2\" >30000</td>\n",
              "      <td id=\"T_b03db_row11_col3\" class=\"data row11 col3\" >10000</td>\n",
              "      <td id=\"T_b03db_row11_col4\" class=\"data row11 col4\" >30000</td>\n",
              "    </tr>\n",
              "  </tbody>\n",
              "</table>\n"
            ]
          },
          "metadata": {},
          "execution_count": 70
        }
      ]
    },
    {
      "cell_type": "code",
      "source": [
        "sql = \"select deptname, lastname, salary, \\\n",
        "lag(salary,1) over (partition by deptname order by salary) as prev_emp, \\\n",
        "salary - lag(salary,1) over (partition by deptname order by salary) as gap_up \\\n",
        "from empl  inner join dept using(deptid)\"\n",
        "runSelect(sql)"
      ],
      "metadata": {
        "colab": {
          "base_uri": "https://localhost:8080/",
          "height": 426
        },
        "id": "fnG4S0lF8h77",
        "outputId": "aae64635-6371-45fa-e894-f58cc80ee38e"
      },
      "execution_count": 71,
      "outputs": [
        {
          "output_type": "execute_result",
          "data": {
            "text/plain": [
              "<pandas.io.formats.style.Styler at 0x7adbe23ccb50>"
            ],
            "text/html": [
              "<style type=\"text/css\">\n",
              "</style>\n",
              "<table id=\"T_a7a3f\" class=\"dataframe\">\n",
              "  <thead>\n",
              "    <tr>\n",
              "      <th id=\"T_a7a3f_level0_col0\" class=\"col_heading level0 col0\" >deptname</th>\n",
              "      <th id=\"T_a7a3f_level0_col1\" class=\"col_heading level0 col1\" >lastname</th>\n",
              "      <th id=\"T_a7a3f_level0_col2\" class=\"col_heading level0 col2\" >salary</th>\n",
              "      <th id=\"T_a7a3f_level0_col3\" class=\"col_heading level0 col3\" >prev_emp</th>\n",
              "      <th id=\"T_a7a3f_level0_col4\" class=\"col_heading level0 col4\" >gap_up</th>\n",
              "    </tr>\n",
              "  </thead>\n",
              "  <tbody>\n",
              "    <tr>\n",
              "      <td id=\"T_a7a3f_row0_col0\" class=\"data row0 col0\" >Accounts</td>\n",
              "      <td id=\"T_a7a3f_row0_col1\" class=\"data row0 col1\" >Dalmia</td>\n",
              "      <td id=\"T_a7a3f_row0_col2\" class=\"data row0 col2\" >12000</td>\n",
              "      <td id=\"T_a7a3f_row0_col3\" class=\"data row0 col3\" >nan</td>\n",
              "      <td id=\"T_a7a3f_row0_col4\" class=\"data row0 col4\" >nan</td>\n",
              "    </tr>\n",
              "    <tr>\n",
              "      <td id=\"T_a7a3f_row1_col0\" class=\"data row1 col0\" >Accounts</td>\n",
              "      <td id=\"T_a7a3f_row1_col1\" class=\"data row1 col1\" >Mirza</td>\n",
              "      <td id=\"T_a7a3f_row1_col2\" class=\"data row1 col2\" >25000</td>\n",
              "      <td id=\"T_a7a3f_row1_col3\" class=\"data row1 col3\" >12000.000000</td>\n",
              "      <td id=\"T_a7a3f_row1_col4\" class=\"data row1 col4\" >13000.000000</td>\n",
              "    </tr>\n",
              "    <tr>\n",
              "      <td id=\"T_a7a3f_row2_col0\" class=\"data row2 col0\" >Accounts</td>\n",
              "      <td id=\"T_a7a3f_row2_col1\" class=\"data row2 col1\" >Dravid</td>\n",
              "      <td id=\"T_a7a3f_row2_col2\" class=\"data row2 col2\" >40000</td>\n",
              "      <td id=\"T_a7a3f_row2_col3\" class=\"data row2 col3\" >25000.000000</td>\n",
              "      <td id=\"T_a7a3f_row2_col4\" class=\"data row2 col4\" >15000.000000</td>\n",
              "    </tr>\n",
              "    <tr>\n",
              "      <td id=\"T_a7a3f_row3_col0\" class=\"data row3 col0\" >Corporate</td>\n",
              "      <td id=\"T_a7a3f_row3_col1\" class=\"data row3 col1\" >Karthikeyan</td>\n",
              "      <td id=\"T_a7a3f_row3_col2\" class=\"data row3 col2\" >40000</td>\n",
              "      <td id=\"T_a7a3f_row3_col3\" class=\"data row3 col3\" >nan</td>\n",
              "      <td id=\"T_a7a3f_row3_col4\" class=\"data row3 col4\" >nan</td>\n",
              "    </tr>\n",
              "    <tr>\n",
              "      <td id=\"T_a7a3f_row4_col0\" class=\"data row4 col0\" >Corporate</td>\n",
              "      <td id=\"T_a7a3f_row4_col1\" class=\"data row4 col1\" >Bacchan</td>\n",
              "      <td id=\"T_a7a3f_row4_col2\" class=\"data row4 col2\" >50000</td>\n",
              "      <td id=\"T_a7a3f_row4_col3\" class=\"data row4 col3\" >40000.000000</td>\n",
              "      <td id=\"T_a7a3f_row4_col4\" class=\"data row4 col4\" >10000.000000</td>\n",
              "    </tr>\n",
              "    <tr>\n",
              "      <td id=\"T_a7a3f_row5_col0\" class=\"data row5 col0\" >Corporate</td>\n",
              "      <td id=\"T_a7a3f_row5_col1\" class=\"data row5 col1\" >Ganesan</td>\n",
              "      <td id=\"T_a7a3f_row5_col2\" class=\"data row5 col2\" >60000</td>\n",
              "      <td id=\"T_a7a3f_row5_col3\" class=\"data row5 col3\" >50000.000000</td>\n",
              "      <td id=\"T_a7a3f_row5_col4\" class=\"data row5 col4\" >10000.000000</td>\n",
              "    </tr>\n",
              "    <tr>\n",
              "      <td id=\"T_a7a3f_row6_col0\" class=\"data row6 col0\" >Production</td>\n",
              "      <td id=\"T_a7a3f_row6_col1\" class=\"data row6 col1\" >Dhoni</td>\n",
              "      <td id=\"T_a7a3f_row6_col2\" class=\"data row6 col2\" >9000</td>\n",
              "      <td id=\"T_a7a3f_row6_col3\" class=\"data row6 col3\" >nan</td>\n",
              "      <td id=\"T_a7a3f_row6_col4\" class=\"data row6 col4\" >nan</td>\n",
              "    </tr>\n",
              "    <tr>\n",
              "      <td id=\"T_a7a3f_row7_col0\" class=\"data row7 col0\" >Production</td>\n",
              "      <td id=\"T_a7a3f_row7_col1\" class=\"data row7 col1\" >Ganguly</td>\n",
              "      <td id=\"T_a7a3f_row7_col2\" class=\"data row7 col2\" >20000</td>\n",
              "      <td id=\"T_a7a3f_row7_col3\" class=\"data row7 col3\" >9000.000000</td>\n",
              "      <td id=\"T_a7a3f_row7_col4\" class=\"data row7 col4\" >11000.000000</td>\n",
              "    </tr>\n",
              "    <tr>\n",
              "      <td id=\"T_a7a3f_row8_col0\" class=\"data row8 col0\" >Production</td>\n",
              "      <td id=\"T_a7a3f_row8_col1\" class=\"data row8 col1\" >Mukherjee</td>\n",
              "      <td id=\"T_a7a3f_row8_col2\" class=\"data row8 col2\" >25000</td>\n",
              "      <td id=\"T_a7a3f_row8_col3\" class=\"data row8 col3\" >20000.000000</td>\n",
              "      <td id=\"T_a7a3f_row8_col4\" class=\"data row8 col4\" >5000.000000</td>\n",
              "    </tr>\n",
              "    <tr>\n",
              "      <td id=\"T_a7a3f_row9_col0\" class=\"data row9 col0\" >Sales</td>\n",
              "      <td id=\"T_a7a3f_row9_col1\" class=\"data row9 col1\" >Dikshit</td>\n",
              "      <td id=\"T_a7a3f_row9_col2\" class=\"data row9 col2\" >10000</td>\n",
              "      <td id=\"T_a7a3f_row9_col3\" class=\"data row9 col3\" >nan</td>\n",
              "      <td id=\"T_a7a3f_row9_col4\" class=\"data row9 col4\" >nan</td>\n",
              "    </tr>\n",
              "    <tr>\n",
              "      <td id=\"T_a7a3f_row10_col0\" class=\"data row10 col0\" >Sales</td>\n",
              "      <td id=\"T_a7a3f_row10_col1\" class=\"data row10 col1\" >Sehwag</td>\n",
              "      <td id=\"T_a7a3f_row10_col2\" class=\"data row10 col2\" >15000</td>\n",
              "      <td id=\"T_a7a3f_row10_col3\" class=\"data row10 col3\" >10000.000000</td>\n",
              "      <td id=\"T_a7a3f_row10_col4\" class=\"data row10 col4\" >5000.000000</td>\n",
              "    </tr>\n",
              "    <tr>\n",
              "      <td id=\"T_a7a3f_row11_col0\" class=\"data row11 col0\" >Sales</td>\n",
              "      <td id=\"T_a7a3f_row11_col1\" class=\"data row11 col1\" >Khan</td>\n",
              "      <td id=\"T_a7a3f_row11_col2\" class=\"data row11 col2\" >30000</td>\n",
              "      <td id=\"T_a7a3f_row11_col3\" class=\"data row11 col3\" >15000.000000</td>\n",
              "      <td id=\"T_a7a3f_row11_col4\" class=\"data row11 col4\" >15000.000000</td>\n",
              "    </tr>\n",
              "  </tbody>\n",
              "</table>\n"
            ]
          },
          "metadata": {},
          "execution_count": 71
        }
      ]
    },
    {
      "cell_type": "markdown",
      "source": [
        "#Transpose / Pivot\n",
        "https://www.sqlshack.com/how-to-use-the-crosstab-function-in-postgresql/"
      ],
      "metadata": {
        "id": "V6Bt-yTXSITF"
      }
    },
    {
      "cell_type": "code",
      "source": [
        "!psql -h localhost -p 5432 -Uupraxis -ddbpraxis -c \"create extension tablefunc;\""
      ],
      "metadata": {
        "colab": {
          "base_uri": "https://localhost:8080/"
        },
        "id": "ZgVgr1DfYs_R",
        "outputId": "90a5afdb-1fb6-4dc4-a0d6-88d8047a19c7"
      },
      "execution_count": 72,
      "outputs": [
        {
          "output_type": "stream",
          "name": "stdout",
          "text": [
            "CREATE EXTENSION\n"
          ]
        }
      ]
    },
    {
      "cell_type": "code",
      "source": [
        "runSelect('select * from dept')"
      ],
      "metadata": {
        "colab": {
          "base_uri": "https://localhost:8080/",
          "height": 206
        },
        "id": "Sa9IpGXwSKWe",
        "outputId": "8f46fe97-9ae8-4f5b-ff5a-3ec98afbec28"
      },
      "execution_count": 73,
      "outputs": [
        {
          "output_type": "execute_result",
          "data": {
            "text/plain": [
              "<pandas.io.formats.style.Styler at 0x7adbe23c0220>"
            ],
            "text/html": [
              "<style type=\"text/css\">\n",
              "</style>\n",
              "<table id=\"T_60b53\" class=\"dataframe\">\n",
              "  <thead>\n",
              "    <tr>\n",
              "      <th id=\"T_60b53_level0_col0\" class=\"col_heading level0 col0\" >deptid</th>\n",
              "      <th id=\"T_60b53_level0_col1\" class=\"col_heading level0 col1\" >deptname</th>\n",
              "      <th id=\"T_60b53_level0_col2\" class=\"col_heading level0 col2\" >managerid</th>\n",
              "      <th id=\"T_60b53_level0_col3\" class=\"col_heading level0 col3\" >location</th>\n",
              "      <th id=\"T_60b53_level0_col4\" class=\"col_heading level0 col4\" >locationid</th>\n",
              "    </tr>\n",
              "  </thead>\n",
              "  <tbody>\n",
              "    <tr>\n",
              "      <td id=\"T_60b53_row0_col0\" class=\"data row0 col0\" >10</td>\n",
              "      <td id=\"T_60b53_row0_col1\" class=\"data row0 col1\" >Corporate</td>\n",
              "      <td id=\"T_60b53_row0_col2\" class=\"data row0 col2\" >299034</td>\n",
              "      <td id=\"T_60b53_row0_col3\" class=\"data row0 col3\" >Calcutta</td>\n",
              "      <td id=\"T_60b53_row0_col4\" class=\"data row0 col4\" >1</td>\n",
              "    </tr>\n",
              "    <tr>\n",
              "      <td id=\"T_60b53_row1_col0\" class=\"data row1 col0\" >20</td>\n",
              "      <td id=\"T_60b53_row1_col1\" class=\"data row1 col1\" >Sales</td>\n",
              "      <td id=\"T_60b53_row1_col2\" class=\"data row1 col2\" >239456</td>\n",
              "      <td id=\"T_60b53_row1_col3\" class=\"data row1 col3\" >Calcutta</td>\n",
              "      <td id=\"T_60b53_row1_col4\" class=\"data row1 col4\" >1</td>\n",
              "    </tr>\n",
              "    <tr>\n",
              "      <td id=\"T_60b53_row2_col0\" class=\"data row2 col0\" >30</td>\n",
              "      <td id=\"T_60b53_row2_col1\" class=\"data row2 col1\" >Accounts</td>\n",
              "      <td id=\"T_60b53_row2_col2\" class=\"data row2 col2\" >822134</td>\n",
              "      <td id=\"T_60b53_row2_col3\" class=\"data row2 col3\" >Calcutta</td>\n",
              "      <td id=\"T_60b53_row2_col4\" class=\"data row2 col4\" >1</td>\n",
              "    </tr>\n",
              "    <tr>\n",
              "      <td id=\"T_60b53_row3_col0\" class=\"data row3 col0\" >40</td>\n",
              "      <td id=\"T_60b53_row3_col1\" class=\"data row3 col1\" >Production</td>\n",
              "      <td id=\"T_60b53_row3_col2\" class=\"data row3 col2\" >349870</td>\n",
              "      <td id=\"T_60b53_row3_col3\" class=\"data row3 col3\" >Bombay</td>\n",
              "      <td id=\"T_60b53_row3_col4\" class=\"data row3 col4\" >2</td>\n",
              "    </tr>\n",
              "    <tr>\n",
              "      <td id=\"T_60b53_row4_col0\" class=\"data row4 col0\" >60</td>\n",
              "      <td id=\"T_60b53_row4_col1\" class=\"data row4 col1\" >Research</td>\n",
              "      <td id=\"T_60b53_row4_col2\" class=\"data row4 col2\" >546224</td>\n",
              "      <td id=\"T_60b53_row4_col3\" class=\"data row4 col3\" >Delhi</td>\n",
              "      <td id=\"T_60b53_row4_col4\" class=\"data row4 col4\" >3</td>\n",
              "    </tr>\n",
              "  </tbody>\n",
              "</table>\n"
            ]
          },
          "metadata": {},
          "execution_count": 73
        }
      ]
    },
    {
      "cell_type": "code",
      "source": [
        "sql = \"\\\n",
        "select * from \\\n",
        "crosstab('select location::text,locationid::text,deptname::text from dept order by 1,2') as locations \\\n",
        "(location text, dep1 text, dep2 text, dep3 text, dep4 text)\\\n",
        "\"\n",
        "runSelect(sql)"
      ],
      "metadata": {
        "colab": {
          "base_uri": "https://localhost:8080/",
          "height": 143
        },
        "id": "Iukqh6TRVo-9",
        "outputId": "690dae73-b898-4576-8182-01c3f4fd05dc"
      },
      "execution_count": 74,
      "outputs": [
        {
          "output_type": "execute_result",
          "data": {
            "text/plain": [
              "<pandas.io.formats.style.Styler at 0x7adbe23cf010>"
            ],
            "text/html": [
              "<style type=\"text/css\">\n",
              "</style>\n",
              "<table id=\"T_b1e04\" class=\"dataframe\">\n",
              "  <thead>\n",
              "    <tr>\n",
              "      <th id=\"T_b1e04_level0_col0\" class=\"col_heading level0 col0\" >location</th>\n",
              "      <th id=\"T_b1e04_level0_col1\" class=\"col_heading level0 col1\" >dep1</th>\n",
              "      <th id=\"T_b1e04_level0_col2\" class=\"col_heading level0 col2\" >dep2</th>\n",
              "      <th id=\"T_b1e04_level0_col3\" class=\"col_heading level0 col3\" >dep3</th>\n",
              "      <th id=\"T_b1e04_level0_col4\" class=\"col_heading level0 col4\" >dep4</th>\n",
              "    </tr>\n",
              "  </thead>\n",
              "  <tbody>\n",
              "    <tr>\n",
              "      <td id=\"T_b1e04_row0_col0\" class=\"data row0 col0\" >Bombay</td>\n",
              "      <td id=\"T_b1e04_row0_col1\" class=\"data row0 col1\" >Production</td>\n",
              "      <td id=\"T_b1e04_row0_col2\" class=\"data row0 col2\" >None</td>\n",
              "      <td id=\"T_b1e04_row0_col3\" class=\"data row0 col3\" >None</td>\n",
              "      <td id=\"T_b1e04_row0_col4\" class=\"data row0 col4\" >None</td>\n",
              "    </tr>\n",
              "    <tr>\n",
              "      <td id=\"T_b1e04_row1_col0\" class=\"data row1 col0\" >Calcutta</td>\n",
              "      <td id=\"T_b1e04_row1_col1\" class=\"data row1 col1\" >Corporate</td>\n",
              "      <td id=\"T_b1e04_row1_col2\" class=\"data row1 col2\" >Sales</td>\n",
              "      <td id=\"T_b1e04_row1_col3\" class=\"data row1 col3\" >Accounts</td>\n",
              "      <td id=\"T_b1e04_row1_col4\" class=\"data row1 col4\" >None</td>\n",
              "    </tr>\n",
              "    <tr>\n",
              "      <td id=\"T_b1e04_row2_col0\" class=\"data row2 col0\" >Delhi</td>\n",
              "      <td id=\"T_b1e04_row2_col1\" class=\"data row2 col1\" >Research</td>\n",
              "      <td id=\"T_b1e04_row2_col2\" class=\"data row2 col2\" >None</td>\n",
              "      <td id=\"T_b1e04_row2_col3\" class=\"data row2 col3\" >None</td>\n",
              "      <td id=\"T_b1e04_row2_col4\" class=\"data row2 col4\" >None</td>\n",
              "    </tr>\n",
              "  </tbody>\n",
              "</table>\n"
            ]
          },
          "metadata": {},
          "execution_count": 74
        }
      ]
    },
    {
      "cell_type": "markdown",
      "source": [
        "# Insert | Delete | Update"
      ],
      "metadata": {
        "id": "REcqZ7K0DYqi"
      }
    },
    {
      "cell_type": "code",
      "source": [
        "runSelect(\"select * from dept\")"
      ],
      "metadata": {
        "id": "xGgCH9vGDlsI",
        "outputId": "42df7f03-1e6a-4caa-ac30-dad3819f6a4f",
        "colab": {
          "base_uri": "https://localhost:8080/",
          "height": 206
        }
      },
      "execution_count": 75,
      "outputs": [
        {
          "output_type": "execute_result",
          "data": {
            "text/plain": [
              "<pandas.io.formats.style.Styler at 0x7adbe23cd270>"
            ],
            "text/html": [
              "<style type=\"text/css\">\n",
              "</style>\n",
              "<table id=\"T_c1460\" class=\"dataframe\">\n",
              "  <thead>\n",
              "    <tr>\n",
              "      <th id=\"T_c1460_level0_col0\" class=\"col_heading level0 col0\" >deptid</th>\n",
              "      <th id=\"T_c1460_level0_col1\" class=\"col_heading level0 col1\" >deptname</th>\n",
              "      <th id=\"T_c1460_level0_col2\" class=\"col_heading level0 col2\" >managerid</th>\n",
              "      <th id=\"T_c1460_level0_col3\" class=\"col_heading level0 col3\" >location</th>\n",
              "      <th id=\"T_c1460_level0_col4\" class=\"col_heading level0 col4\" >locationid</th>\n",
              "    </tr>\n",
              "  </thead>\n",
              "  <tbody>\n",
              "    <tr>\n",
              "      <td id=\"T_c1460_row0_col0\" class=\"data row0 col0\" >10</td>\n",
              "      <td id=\"T_c1460_row0_col1\" class=\"data row0 col1\" >Corporate</td>\n",
              "      <td id=\"T_c1460_row0_col2\" class=\"data row0 col2\" >299034</td>\n",
              "      <td id=\"T_c1460_row0_col3\" class=\"data row0 col3\" >Calcutta</td>\n",
              "      <td id=\"T_c1460_row0_col4\" class=\"data row0 col4\" >1</td>\n",
              "    </tr>\n",
              "    <tr>\n",
              "      <td id=\"T_c1460_row1_col0\" class=\"data row1 col0\" >20</td>\n",
              "      <td id=\"T_c1460_row1_col1\" class=\"data row1 col1\" >Sales</td>\n",
              "      <td id=\"T_c1460_row1_col2\" class=\"data row1 col2\" >239456</td>\n",
              "      <td id=\"T_c1460_row1_col3\" class=\"data row1 col3\" >Calcutta</td>\n",
              "      <td id=\"T_c1460_row1_col4\" class=\"data row1 col4\" >1</td>\n",
              "    </tr>\n",
              "    <tr>\n",
              "      <td id=\"T_c1460_row2_col0\" class=\"data row2 col0\" >30</td>\n",
              "      <td id=\"T_c1460_row2_col1\" class=\"data row2 col1\" >Accounts</td>\n",
              "      <td id=\"T_c1460_row2_col2\" class=\"data row2 col2\" >822134</td>\n",
              "      <td id=\"T_c1460_row2_col3\" class=\"data row2 col3\" >Calcutta</td>\n",
              "      <td id=\"T_c1460_row2_col4\" class=\"data row2 col4\" >1</td>\n",
              "    </tr>\n",
              "    <tr>\n",
              "      <td id=\"T_c1460_row3_col0\" class=\"data row3 col0\" >40</td>\n",
              "      <td id=\"T_c1460_row3_col1\" class=\"data row3 col1\" >Production</td>\n",
              "      <td id=\"T_c1460_row3_col2\" class=\"data row3 col2\" >349870</td>\n",
              "      <td id=\"T_c1460_row3_col3\" class=\"data row3 col3\" >Bombay</td>\n",
              "      <td id=\"T_c1460_row3_col4\" class=\"data row3 col4\" >2</td>\n",
              "    </tr>\n",
              "    <tr>\n",
              "      <td id=\"T_c1460_row4_col0\" class=\"data row4 col0\" >60</td>\n",
              "      <td id=\"T_c1460_row4_col1\" class=\"data row4 col1\" >Research</td>\n",
              "      <td id=\"T_c1460_row4_col2\" class=\"data row4 col2\" >546224</td>\n",
              "      <td id=\"T_c1460_row4_col3\" class=\"data row4 col3\" >Delhi</td>\n",
              "      <td id=\"T_c1460_row4_col4\" class=\"data row4 col4\" >3</td>\n",
              "    </tr>\n",
              "  </tbody>\n",
              "</table>\n"
            ]
          },
          "metadata": {},
          "execution_count": 75
        }
      ]
    },
    {
      "cell_type": "code",
      "source": [
        "runCmd(\"insert into Dept (DeptID, DeptName, ManagerID, Location,LocationID) VALUES \\\n",
        "\t('11', 'Corporate2', '299035', 'Calcutta','1')\")\n",
        "runSelect(\"select * from dept\")"
      ],
      "metadata": {
        "id": "iyW0EobdDuMY",
        "outputId": "59825adb-733f-4458-c5f3-2ffc7241db81",
        "colab": {
          "base_uri": "https://localhost:8080/",
          "height": 255
        }
      },
      "execution_count": 76,
      "outputs": [
        {
          "output_type": "stream",
          "name": "stdout",
          "text": [
            "Command executed\n"
          ]
        },
        {
          "output_type": "execute_result",
          "data": {
            "text/plain": [
              "<pandas.io.formats.style.Styler at 0x7adbe23c3ac0>"
            ],
            "text/html": [
              "<style type=\"text/css\">\n",
              "</style>\n",
              "<table id=\"T_61b87\" class=\"dataframe\">\n",
              "  <thead>\n",
              "    <tr>\n",
              "      <th id=\"T_61b87_level0_col0\" class=\"col_heading level0 col0\" >deptid</th>\n",
              "      <th id=\"T_61b87_level0_col1\" class=\"col_heading level0 col1\" >deptname</th>\n",
              "      <th id=\"T_61b87_level0_col2\" class=\"col_heading level0 col2\" >managerid</th>\n",
              "      <th id=\"T_61b87_level0_col3\" class=\"col_heading level0 col3\" >location</th>\n",
              "      <th id=\"T_61b87_level0_col4\" class=\"col_heading level0 col4\" >locationid</th>\n",
              "    </tr>\n",
              "  </thead>\n",
              "  <tbody>\n",
              "    <tr>\n",
              "      <td id=\"T_61b87_row0_col0\" class=\"data row0 col0\" >10</td>\n",
              "      <td id=\"T_61b87_row0_col1\" class=\"data row0 col1\" >Corporate</td>\n",
              "      <td id=\"T_61b87_row0_col2\" class=\"data row0 col2\" >299034</td>\n",
              "      <td id=\"T_61b87_row0_col3\" class=\"data row0 col3\" >Calcutta</td>\n",
              "      <td id=\"T_61b87_row0_col4\" class=\"data row0 col4\" >1</td>\n",
              "    </tr>\n",
              "    <tr>\n",
              "      <td id=\"T_61b87_row1_col0\" class=\"data row1 col0\" >20</td>\n",
              "      <td id=\"T_61b87_row1_col1\" class=\"data row1 col1\" >Sales</td>\n",
              "      <td id=\"T_61b87_row1_col2\" class=\"data row1 col2\" >239456</td>\n",
              "      <td id=\"T_61b87_row1_col3\" class=\"data row1 col3\" >Calcutta</td>\n",
              "      <td id=\"T_61b87_row1_col4\" class=\"data row1 col4\" >1</td>\n",
              "    </tr>\n",
              "    <tr>\n",
              "      <td id=\"T_61b87_row2_col0\" class=\"data row2 col0\" >30</td>\n",
              "      <td id=\"T_61b87_row2_col1\" class=\"data row2 col1\" >Accounts</td>\n",
              "      <td id=\"T_61b87_row2_col2\" class=\"data row2 col2\" >822134</td>\n",
              "      <td id=\"T_61b87_row2_col3\" class=\"data row2 col3\" >Calcutta</td>\n",
              "      <td id=\"T_61b87_row2_col4\" class=\"data row2 col4\" >1</td>\n",
              "    </tr>\n",
              "    <tr>\n",
              "      <td id=\"T_61b87_row3_col0\" class=\"data row3 col0\" >40</td>\n",
              "      <td id=\"T_61b87_row3_col1\" class=\"data row3 col1\" >Production</td>\n",
              "      <td id=\"T_61b87_row3_col2\" class=\"data row3 col2\" >349870</td>\n",
              "      <td id=\"T_61b87_row3_col3\" class=\"data row3 col3\" >Bombay</td>\n",
              "      <td id=\"T_61b87_row3_col4\" class=\"data row3 col4\" >2</td>\n",
              "    </tr>\n",
              "    <tr>\n",
              "      <td id=\"T_61b87_row4_col0\" class=\"data row4 col0\" >60</td>\n",
              "      <td id=\"T_61b87_row4_col1\" class=\"data row4 col1\" >Research</td>\n",
              "      <td id=\"T_61b87_row4_col2\" class=\"data row4 col2\" >546224</td>\n",
              "      <td id=\"T_61b87_row4_col3\" class=\"data row4 col3\" >Delhi</td>\n",
              "      <td id=\"T_61b87_row4_col4\" class=\"data row4 col4\" >3</td>\n",
              "    </tr>\n",
              "    <tr>\n",
              "      <td id=\"T_61b87_row5_col0\" class=\"data row5 col0\" >11</td>\n",
              "      <td id=\"T_61b87_row5_col1\" class=\"data row5 col1\" >Corporate2</td>\n",
              "      <td id=\"T_61b87_row5_col2\" class=\"data row5 col2\" >299035</td>\n",
              "      <td id=\"T_61b87_row5_col3\" class=\"data row5 col3\" >Calcutta</td>\n",
              "      <td id=\"T_61b87_row5_col4\" class=\"data row5 col4\" >1</td>\n",
              "    </tr>\n",
              "  </tbody>\n",
              "</table>\n"
            ]
          },
          "metadata": {},
          "execution_count": 76
        }
      ]
    },
    {
      "cell_type": "code",
      "source": [
        "runCmd(\"update dept set deptname = 'Marketing' where deptid = '11'\")\n",
        "runSelect(\"select * from dept\")"
      ],
      "metadata": {
        "id": "DqdnmD2pEQNq",
        "outputId": "fc51ef6d-ec8b-48b2-c5b3-b376c8a2ac4d",
        "colab": {
          "base_uri": "https://localhost:8080/",
          "height": 255
        }
      },
      "execution_count": 77,
      "outputs": [
        {
          "output_type": "stream",
          "name": "stdout",
          "text": [
            "Command executed\n"
          ]
        },
        {
          "output_type": "execute_result",
          "data": {
            "text/plain": [
              "<pandas.io.formats.style.Styler at 0x7adbe24678b0>"
            ],
            "text/html": [
              "<style type=\"text/css\">\n",
              "</style>\n",
              "<table id=\"T_d4907\" class=\"dataframe\">\n",
              "  <thead>\n",
              "    <tr>\n",
              "      <th id=\"T_d4907_level0_col0\" class=\"col_heading level0 col0\" >deptid</th>\n",
              "      <th id=\"T_d4907_level0_col1\" class=\"col_heading level0 col1\" >deptname</th>\n",
              "      <th id=\"T_d4907_level0_col2\" class=\"col_heading level0 col2\" >managerid</th>\n",
              "      <th id=\"T_d4907_level0_col3\" class=\"col_heading level0 col3\" >location</th>\n",
              "      <th id=\"T_d4907_level0_col4\" class=\"col_heading level0 col4\" >locationid</th>\n",
              "    </tr>\n",
              "  </thead>\n",
              "  <tbody>\n",
              "    <tr>\n",
              "      <td id=\"T_d4907_row0_col0\" class=\"data row0 col0\" >10</td>\n",
              "      <td id=\"T_d4907_row0_col1\" class=\"data row0 col1\" >Corporate</td>\n",
              "      <td id=\"T_d4907_row0_col2\" class=\"data row0 col2\" >299034</td>\n",
              "      <td id=\"T_d4907_row0_col3\" class=\"data row0 col3\" >Calcutta</td>\n",
              "      <td id=\"T_d4907_row0_col4\" class=\"data row0 col4\" >1</td>\n",
              "    </tr>\n",
              "    <tr>\n",
              "      <td id=\"T_d4907_row1_col0\" class=\"data row1 col0\" >20</td>\n",
              "      <td id=\"T_d4907_row1_col1\" class=\"data row1 col1\" >Sales</td>\n",
              "      <td id=\"T_d4907_row1_col2\" class=\"data row1 col2\" >239456</td>\n",
              "      <td id=\"T_d4907_row1_col3\" class=\"data row1 col3\" >Calcutta</td>\n",
              "      <td id=\"T_d4907_row1_col4\" class=\"data row1 col4\" >1</td>\n",
              "    </tr>\n",
              "    <tr>\n",
              "      <td id=\"T_d4907_row2_col0\" class=\"data row2 col0\" >30</td>\n",
              "      <td id=\"T_d4907_row2_col1\" class=\"data row2 col1\" >Accounts</td>\n",
              "      <td id=\"T_d4907_row2_col2\" class=\"data row2 col2\" >822134</td>\n",
              "      <td id=\"T_d4907_row2_col3\" class=\"data row2 col3\" >Calcutta</td>\n",
              "      <td id=\"T_d4907_row2_col4\" class=\"data row2 col4\" >1</td>\n",
              "    </tr>\n",
              "    <tr>\n",
              "      <td id=\"T_d4907_row3_col0\" class=\"data row3 col0\" >40</td>\n",
              "      <td id=\"T_d4907_row3_col1\" class=\"data row3 col1\" >Production</td>\n",
              "      <td id=\"T_d4907_row3_col2\" class=\"data row3 col2\" >349870</td>\n",
              "      <td id=\"T_d4907_row3_col3\" class=\"data row3 col3\" >Bombay</td>\n",
              "      <td id=\"T_d4907_row3_col4\" class=\"data row3 col4\" >2</td>\n",
              "    </tr>\n",
              "    <tr>\n",
              "      <td id=\"T_d4907_row4_col0\" class=\"data row4 col0\" >60</td>\n",
              "      <td id=\"T_d4907_row4_col1\" class=\"data row4 col1\" >Research</td>\n",
              "      <td id=\"T_d4907_row4_col2\" class=\"data row4 col2\" >546224</td>\n",
              "      <td id=\"T_d4907_row4_col3\" class=\"data row4 col3\" >Delhi</td>\n",
              "      <td id=\"T_d4907_row4_col4\" class=\"data row4 col4\" >3</td>\n",
              "    </tr>\n",
              "    <tr>\n",
              "      <td id=\"T_d4907_row5_col0\" class=\"data row5 col0\" >11</td>\n",
              "      <td id=\"T_d4907_row5_col1\" class=\"data row5 col1\" >Marketing</td>\n",
              "      <td id=\"T_d4907_row5_col2\" class=\"data row5 col2\" >299035</td>\n",
              "      <td id=\"T_d4907_row5_col3\" class=\"data row5 col3\" >Calcutta</td>\n",
              "      <td id=\"T_d4907_row5_col4\" class=\"data row5 col4\" >1</td>\n",
              "    </tr>\n",
              "  </tbody>\n",
              "</table>\n"
            ]
          },
          "metadata": {},
          "execution_count": 77
        }
      ]
    },
    {
      "cell_type": "code",
      "source": [
        "runCmd(\"delete from dept where deptid = '11'\")\n",
        "runSelect(\"select * from dept\")"
      ],
      "metadata": {
        "id": "nsnJnNrEF6iS",
        "outputId": "11d47f46-128d-4f15-dbc5-08a14f317f87",
        "colab": {
          "base_uri": "https://localhost:8080/",
          "height": 224
        }
      },
      "execution_count": 78,
      "outputs": [
        {
          "output_type": "stream",
          "name": "stdout",
          "text": [
            "Command executed\n"
          ]
        },
        {
          "output_type": "execute_result",
          "data": {
            "text/plain": [
              "<pandas.io.formats.style.Styler at 0x7adbe2467b50>"
            ],
            "text/html": [
              "<style type=\"text/css\">\n",
              "</style>\n",
              "<table id=\"T_5f45e\" class=\"dataframe\">\n",
              "  <thead>\n",
              "    <tr>\n",
              "      <th id=\"T_5f45e_level0_col0\" class=\"col_heading level0 col0\" >deptid</th>\n",
              "      <th id=\"T_5f45e_level0_col1\" class=\"col_heading level0 col1\" >deptname</th>\n",
              "      <th id=\"T_5f45e_level0_col2\" class=\"col_heading level0 col2\" >managerid</th>\n",
              "      <th id=\"T_5f45e_level0_col3\" class=\"col_heading level0 col3\" >location</th>\n",
              "      <th id=\"T_5f45e_level0_col4\" class=\"col_heading level0 col4\" >locationid</th>\n",
              "    </tr>\n",
              "  </thead>\n",
              "  <tbody>\n",
              "    <tr>\n",
              "      <td id=\"T_5f45e_row0_col0\" class=\"data row0 col0\" >10</td>\n",
              "      <td id=\"T_5f45e_row0_col1\" class=\"data row0 col1\" >Corporate</td>\n",
              "      <td id=\"T_5f45e_row0_col2\" class=\"data row0 col2\" >299034</td>\n",
              "      <td id=\"T_5f45e_row0_col3\" class=\"data row0 col3\" >Calcutta</td>\n",
              "      <td id=\"T_5f45e_row0_col4\" class=\"data row0 col4\" >1</td>\n",
              "    </tr>\n",
              "    <tr>\n",
              "      <td id=\"T_5f45e_row1_col0\" class=\"data row1 col0\" >20</td>\n",
              "      <td id=\"T_5f45e_row1_col1\" class=\"data row1 col1\" >Sales</td>\n",
              "      <td id=\"T_5f45e_row1_col2\" class=\"data row1 col2\" >239456</td>\n",
              "      <td id=\"T_5f45e_row1_col3\" class=\"data row1 col3\" >Calcutta</td>\n",
              "      <td id=\"T_5f45e_row1_col4\" class=\"data row1 col4\" >1</td>\n",
              "    </tr>\n",
              "    <tr>\n",
              "      <td id=\"T_5f45e_row2_col0\" class=\"data row2 col0\" >30</td>\n",
              "      <td id=\"T_5f45e_row2_col1\" class=\"data row2 col1\" >Accounts</td>\n",
              "      <td id=\"T_5f45e_row2_col2\" class=\"data row2 col2\" >822134</td>\n",
              "      <td id=\"T_5f45e_row2_col3\" class=\"data row2 col3\" >Calcutta</td>\n",
              "      <td id=\"T_5f45e_row2_col4\" class=\"data row2 col4\" >1</td>\n",
              "    </tr>\n",
              "    <tr>\n",
              "      <td id=\"T_5f45e_row3_col0\" class=\"data row3 col0\" >40</td>\n",
              "      <td id=\"T_5f45e_row3_col1\" class=\"data row3 col1\" >Production</td>\n",
              "      <td id=\"T_5f45e_row3_col2\" class=\"data row3 col2\" >349870</td>\n",
              "      <td id=\"T_5f45e_row3_col3\" class=\"data row3 col3\" >Bombay</td>\n",
              "      <td id=\"T_5f45e_row3_col4\" class=\"data row3 col4\" >2</td>\n",
              "    </tr>\n",
              "    <tr>\n",
              "      <td id=\"T_5f45e_row4_col0\" class=\"data row4 col0\" >60</td>\n",
              "      <td id=\"T_5f45e_row4_col1\" class=\"data row4 col1\" >Research</td>\n",
              "      <td id=\"T_5f45e_row4_col2\" class=\"data row4 col2\" >546224</td>\n",
              "      <td id=\"T_5f45e_row4_col3\" class=\"data row4 col3\" >Delhi</td>\n",
              "      <td id=\"T_5f45e_row4_col4\" class=\"data row4 col4\" >3</td>\n",
              "    </tr>\n",
              "  </tbody>\n",
              "</table>\n"
            ]
          },
          "metadata": {},
          "execution_count": 78
        }
      ]
    },
    {
      "cell_type": "code",
      "source": [
        "from datetime import datetime\n",
        "import pytz\n",
        "print('Last tested  ',datetime.now(pytz.timezone('Asia/Kolkata')))"
      ],
      "metadata": {
        "colab": {
          "base_uri": "https://localhost:8080/"
        },
        "id": "wjBXJVhM605H",
        "outputId": "136212c2-c1e7-47fe-b5dd-246ef81b9c12"
      },
      "execution_count": 79,
      "outputs": [
        {
          "output_type": "stream",
          "name": "stdout",
          "text": [
            "Last tested   2024-01-16 09:02:43.194687+05:30\n"
          ]
        }
      ]
    },
    {
      "cell_type": "markdown",
      "source": [
        "#Chronobooks <br>\n",
        "Two science fiction novels by Prithwis Mukerjee. A dystopian Earth. A technocratic society managed by artificial intelligence. Escape and epiphany on Mars. Can man and machine, carbon and silicon explore and escape into other dimensions of existence? An Indic perspective rooted in Advaita Vedanta and the Divine Feminine.  [More information](http://bit.ly/chronobooks) <br>\n",
        "![alt text](https://github.com/Praxis-QR/RDWH/raw/main/images/CTCYFooter-1.png)"
      ],
      "metadata": {
        "id": "_gNiZpyW3AzJ"
      }
    }
  ]
}