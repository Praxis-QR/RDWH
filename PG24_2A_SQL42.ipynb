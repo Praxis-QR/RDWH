{
  "nbformat": 4,
  "nbformat_minor": 0,
  "metadata": {
    "colab": {
      "provenance": [],
      "toc_visible": true,
      "include_colab_link": true
    },
    "kernelspec": {
      "name": "python3",
      "display_name": "Python 3"
    },
    "language_info": {
      "name": "python"
    }
  },
  "cells": [
    {
      "cell_type": "markdown",
      "metadata": {
        "id": "view-in-github",
        "colab_type": "text"
      },
      "source": [
        "<a href=\"https://colab.research.google.com/github/Praxis-QR/RDWH/blob/main/PG24_2A_SQL42.ipynb\" target=\"_parent\"><img src=\"https://colab.research.google.com/assets/colab-badge.svg\" alt=\"Open In Colab\"/></a>"
      ]
    },
    {
      "cell_type": "markdown",
      "source": [
        "![Yantrajaal Banner](https://github.com/Praxis-QR/RDWH/raw/main/images/YantraJaalBanner.png)<br>\n",
        "\n",
        "\n",
        "<hr>\n",
        "\n",
        "[Prithwis Mukerjee](http://www.linkedin.com/in/prithwis)<br>"
      ],
      "metadata": {
        "id": "DBzz-qaN2tKu"
      }
    },
    {
      "cell_type": "markdown",
      "source": [
        "![PostgreSQL 42](https://raw.githubusercontent.com/Praxis-QR/RDWH/main/images/PostgreSQL_24.01.png)<br>\n",
        "[SlideDeck](https://docs.google.com/presentation/d/1hdkAGbMxLfO1GYe7RzEo3LhGZhsXkyjIfBqkA72B6LM/edit?usp=sharing)"
      ],
      "metadata": {
        "id": "dBJ6X0LiJtZ6"
      }
    },
    {
      "cell_type": "code",
      "source": [
        "from datetime import datetime\n",
        "import pytz\n",
        "print('ॐ श्री सरस्वत्यै नमः',datetime.now(pytz.timezone('Asia/Calcutta')))\n",
        "!python --version\n",
        "!lsb_release -a"
      ],
      "metadata": {
        "colab": {
          "base_uri": "https://localhost:8080/"
        },
        "id": "XZ9dGt-eUikL",
        "outputId": "f75b7fda-d377-435e-c0d6-4ad1b8bf4020"
      },
      "execution_count": 1,
      "outputs": [
        {
          "output_type": "stream",
          "name": "stdout",
          "text": [
            "ॐ श्री सरस्वत्यै नमः 2024-11-05 14:24:49.034570+05:30\n",
            "Python 3.10.12\n",
            "No LSB modules are available.\n",
            "Distributor ID:\tUbuntu\n",
            "Description:\tUbuntu 22.04.3 LTS\n",
            "Release:\t22.04\n",
            "Codename:\tjammy\n"
          ]
        }
      ]
    },
    {
      "cell_type": "markdown",
      "source": [
        "#Install & Configure Postgres"
      ],
      "metadata": {
        "id": "nD-QawLT6kDr"
      }
    },
    {
      "cell_type": "markdown",
      "source": [
        "For Connecting to a Postgres server hosted in the cloud Neon DB, see [this notebook](https://github.com/Praxis-QR/RDWH/blob/main/PG24_1B_SQL_CloudLab.ipynb)"
      ],
      "metadata": {
        "id": "9w29_O07rTPE"
      }
    },
    {
      "cell_type": "code",
      "source": [
        "# Install postgresql server\n",
        "\n",
        "!apt update > /dev/null\n",
        "!apt install postgresql > /dev/null\n",
        "#!pip install psycopg2\n",
        "import psycopg2\n",
        "import pandas as pd\n",
        "#!sudo -u postgres psql -V\n",
        "!psql -V\n",
        "!service postgresql start"
      ],
      "metadata": {
        "colab": {
          "base_uri": "https://localhost:8080/"
        },
        "id": "o_RaqE0OOHP3",
        "outputId": "d764e42b-1fef-43d0-ae71-cb19b581f865"
      },
      "execution_count": 2,
      "outputs": [
        {
          "output_type": "stream",
          "name": "stdout",
          "text": [
            "\n",
            "WARNING: apt does not have a stable CLI interface. Use with caution in scripts.\n",
            "\n",
            "W: Skipping acquire of configured file 'main/source/Sources' as repository 'https://r2u.stat.illinois.edu/ubuntu jammy InRelease' does not seem to provide it (sources.list entry misspelt?)\n",
            "\n",
            "WARNING: apt does not have a stable CLI interface. Use with caution in scripts.\n",
            "\n",
            "psql (PostgreSQL) 14.13 (Ubuntu 14.13-0ubuntu0.22.04.1)\n",
            " * Starting PostgreSQL 14 database server\n",
            "   ...done.\n"
          ]
        }
      ]
    },
    {
      "cell_type": "code",
      "source": [
        "# The installation creates Ubuntu user 'postgres' AND a Postgres database user 'postgres' both of which are superusers\n",
        "#!cat /etc/passwd\n",
        "# Use these users to create a new database user called 'upraxis' and give it a password 'upass'\n",
        "#!sudo -u postgres createuser --superuser upraxis\n",
        "!sudo -u postgres createuser upraxis\n",
        "!sudo -u postgres psql -U postgres -c \"ALTER USER upraxis PASSWORD 'upass';\"\n",
        "#\n",
        "# Change the database superuser 'postgres' to a non-default value 'pass'\n",
        "!sudo -u postgres psql -U postgres -c \"ALTER USER postgres PASSWORD 'pass';\"\n",
        "#\n",
        "# Use ubuntu superuser to create database dbpraxis and set its owner to upraxis\n",
        "!sudo -u postgres createdb -O upraxis dbpraxis\n",
        "#\n",
        "# Create file to store the password. Else will be prompted each time\n",
        "#\n",
        "!echo \"localhost:5432:dbpraxis:upraxis:upass\" > ~/.pgpass\n",
        "!echo \"localhost:5432:dbpraxis:postgres:pass\" >> ~/.pgpass\n",
        "!chmod 0600 ~/.pgpass\n",
        "!cat ~/.pgpass\n"
      ],
      "metadata": {
        "colab": {
          "base_uri": "https://localhost:8080/"
        },
        "id": "xr5kHaY_U4CZ",
        "outputId": "888fb1aa-8773-49a6-dd87-754159218945"
      },
      "execution_count": 3,
      "outputs": [
        {
          "output_type": "stream",
          "name": "stdout",
          "text": [
            "ALTER ROLE\n",
            "ALTER ROLE\n",
            "localhost:5432:dbpraxis:upraxis:upass\n",
            "localhost:5432:dbpraxis:postgres:pass\n"
          ]
        }
      ]
    },
    {
      "cell_type": "markdown",
      "source": [
        "## Create and Load Tables"
      ],
      "metadata": {
        "id": "pHTdNzrU6qUE"
      }
    },
    {
      "cell_type": "code",
      "source": [
        "# Create Two tables using command line interface\n",
        "#\n",
        "!psql -h localhost -p 5432 -Uupraxis -ddbpraxis -c \\\n",
        "\"drop table if exists Dept;\\\n",
        "create table Dept (\\\n",
        "    DeptID char(2),\\\n",
        "    DeptName varchar(20),\\\n",
        "    ManagerID char(6),\\\n",
        "    Location varchar(10),\\\n",
        "    LocationID char(1)\\\n",
        "    );\\\n",
        "insert into Dept (DeptID, DeptName, ManagerID, Location,LocationID) VALUES \\\n",
        "\t('10', 'Corporate', '299034', 'Calcutta','1'), \\\n",
        "\t('20', 'Sales', '239456', 'Calcutta','1'), \\\n",
        "\t('30', 'Accounts', '822134', 'Calcutta','1'), \\\n",
        "\t('40', 'Production', '349870', 'Bombay','2'),\\\n",
        "    ('60', 'Research', '546224', 'Delhi','3');\\\n",
        "\""
      ],
      "metadata": {
        "colab": {
          "base_uri": "https://localhost:8080/"
        },
        "id": "DsUZ9JlEXIir",
        "outputId": "bcc0101a-5058-4726-ae29-7fa16d344329"
      },
      "execution_count": 4,
      "outputs": [
        {
          "output_type": "stream",
          "name": "stdout",
          "text": [
            "NOTICE:  table \"dept\" does not exist, skipping\n",
            "INSERT 0 5\n"
          ]
        }
      ]
    },
    {
      "cell_type": "code",
      "source": [
        "!psql -h localhost -p 5432 -Uupraxis -ddbpraxis -c \\\n",
        "\"drop table if exists Empl;\\\n",
        "create table Empl \\\n",
        "    (EmpID char(6),\\\n",
        "    LastName varchar(20),\\\n",
        "    FirstName varchar(20),\\\n",
        "    JobDesc varchar(10),\\\n",
        "    JoinDate date,\\\n",
        "    Salary int,\\\n",
        "    Comm decimal(3,2),\\\n",
        "    DeptID char(2),\\\n",
        "    HiredBy char(6)\\\n",
        "    );\\\n",
        "INSERT INTO Empl (EmpID, LastName, FirstName, JobDesc, JoinDate, Salary, Comm, DeptID, HiredBy) \\\n",
        "    VALUES \\\n",
        "\t('742866', 'Bacchan', 'Amitabh', 'Executive', '2003-03-10', 50000, 0.1, '10', NULL), \\\n",
        "\t('349870', 'Mukherjee', 'Rani', 'Manager', '2005-05-04', 25000, 0.06, '40', '742866'), \\\n",
        "\t('865477', 'Dikshit', 'Madhuri', 'Clerk', '2002-04-04', 10000, 0.02, '20', '239456'), \\\n",
        "\t('239456', 'Khan', 'Shahrukh', 'Manager', '2004-01-03', 30000, 0.07, '20', '742866'), \\\n",
        "\t('897889', 'Sehwag', 'Virender', 'Cus_Rep', '2005-01-02', 15000, 0.05, '20', '239456'), \\\n",
        "\t('123980', 'Dhoni', 'Mahender', 'Clerk', '2004-10-09', 9000, 0.02, '40', '349870'), \\\n",
        "\t('822134', 'Dravid', 'Rahul', 'Sr Manager', '2000-06-04', 40000, 0.08, '30', '742866'), \\\n",
        "\t('997445', 'Dalmia', 'Jagmohan', 'Clerk', '2001-07-01', 12000, 0.02, '30', '822134'), \\\n",
        "\t('989007', 'Ganguly', 'Sourav', 'Cus_Rep', '2002-01-01', 20000, 0.03, '40', '299034'), \\\n",
        "\t('299034', 'Ganesan', 'Rekha', 'Director', '2002-10-10', 60000, 0.11, '10', '742866'), \\\n",
        "\t('546223', 'Karthikeyan', 'Narayan', 'Secretary', '2005-12-04', 40000, 0.09, '10', '299034'), \\\n",
        "    ('546224', 'Sunil', 'Chettri', 'Dy Manager', '2006-12-07', 40000, 0.05, '70', '989007'), \\\n",
        "\t('223112', 'Mirza', 'Sania', 'Cus_Rep', '2001-11-19', 25000, 0.04, '30', '822134');\\\n",
        "\""
      ],
      "metadata": {
        "colab": {
          "base_uri": "https://localhost:8080/"
        },
        "id": "5kWs3wyEd9Tm",
        "outputId": "1f989d1b-748b-4ab1-8761-0f40f8f7d004"
      },
      "execution_count": 5,
      "outputs": [
        {
          "output_type": "stream",
          "name": "stdout",
          "text": [
            "NOTICE:  table \"empl\" does not exist, skipping\n",
            "INSERT 0 13\n"
          ]
        }
      ]
    },
    {
      "cell_type": "code",
      "source": [
        "#!psql -h localhost -p 5432 -Upostgres -dpraxisdb -c \"select * from dept;\"\n",
        "#!psql -h localhost -p 5432 -Uupraxis -ddbpraxis -c \"select * from dept;\""
      ],
      "metadata": {
        "id": "HyBUhbAI2PV1"
      },
      "execution_count": 6,
      "outputs": []
    },
    {
      "cell_type": "code",
      "source": [
        "#!psql -h localhost -p 5432 -U postgres -d praxisdb -c \"select * from empl;\"\n",
        "#!psql -h localhost -p 5432 -U upraxis -d dbpraxis -c \"select * from empl;\""
      ],
      "metadata": {
        "id": "byY2iccO4ctF"
      },
      "execution_count": 7,
      "outputs": []
    },
    {
      "cell_type": "markdown",
      "source": [
        "## Python Access\n",
        "https://www.tutorialspoint.com/python_data_access/python_postgresql_database_connection.htm"
      ],
      "metadata": {
        "id": "faZEj8_7CeZ8"
      }
    },
    {
      "cell_type": "code",
      "source": [
        "# Local Colab server\n",
        "\n",
        "conn = psycopg2.connect(database=\"dbpraxis\", user='upraxis', password='upass', host='127.0.0.1', port= '5432')\n",
        "#Creating a cursor object using the cursor() method\n",
        "cursor = conn.cursor()\n",
        "#Executing an MYSQL function using the execute() method\n",
        "cursor.execute(\"select version()\")\n",
        "# Fetch a single row using fetchone() method.\n",
        "data = cursor.fetchone()\n",
        "print(\"Connection established to: \",data)\n",
        "#Closing the connection\n",
        "conn.close()"
      ],
      "metadata": {
        "id": "wcE-8UBnC4zV",
        "outputId": "155f5ae1-6dff-4415-d699-16fcf29dcf81",
        "colab": {
          "base_uri": "https://localhost:8080/"
        }
      },
      "execution_count": 8,
      "outputs": [
        {
          "output_type": "stream",
          "name": "stdout",
          "text": [
            "Connection established to:  ('PostgreSQL 14.13 (Ubuntu 14.13-0ubuntu0.22.04.1) on x86_64-pc-linux-gnu, compiled by gcc (Ubuntu 11.4.0-1ubuntu1~22.04) 11.4.0, 64-bit',)\n"
          ]
        }
      ]
    },
    {
      "cell_type": "code",
      "source": [
        "# function to execute SQL select statements with Postgres\n",
        "#\n",
        "def runSelect(s):\n",
        "    #Set up connection\n",
        "\n",
        "    conn = psycopg2.connect(database=\"dbpraxis\", user='upraxis', password='upass', host='127.0.0.1', port= '5432')\n",
        "    #Setting auto commit true\n",
        "    conn.autocommit = True\n",
        "    #Creating a cursor object using the cursor() method\n",
        "    cursor = conn.cursor()\n",
        "    #Retrieving data\n",
        "    cursor.execute(s)\n",
        "    #Fetching all rows from the table\n",
        "    result = cursor.fetchall();\n",
        "    #print(len(result))\n",
        "    if (len(result)) > 0:                                       # result contains at least one row\n",
        "        colnames = [desc[0] for desc in cursor.description]     # get column names\n",
        "        #print(colnames)\n",
        "        resultdf = pd.DataFrame(result)                         # convert list to dataframe\n",
        "        resultdf.columns = colnames                             # add column names\n",
        "        #return resultdf\n",
        "        return resultdf.style.hide()                            # hide the index\n",
        "    else:\n",
        "        print('no records found')\n",
        "        return\n",
        "# function to execute SQL non-select statements with Postgres\n",
        "#\n",
        "def runCmd(s):\n",
        "    #Create Connection\n",
        "    conn = psycopg2.connect(database=\"dbpraxis\", user='upraxis', password='upass', host='127.0.0.1', port= '5432')\n",
        "    #Creating a cursor object using the cursor() method\n",
        "    cursor = conn.cursor()\n",
        "    try:\n",
        "        cursor.execute(s)\n",
        "        print('Command executed')\n",
        "        conn.commit()\n",
        "    except:\n",
        "        print('Command failed')\n",
        "    #Closing the connection\n",
        "    conn.close()"
      ],
      "metadata": {
        "id": "ht2k7-3iggNd"
      },
      "execution_count": 9,
      "outputs": []
    },
    {
      "cell_type": "markdown",
      "source": [
        "#Select - getting started"
      ],
      "metadata": {
        "id": "k0rXiciVtu7Q"
      }
    },
    {
      "cell_type": "code",
      "source": [
        "#runSelect(\"select * from dept where deptid = '100'\")\n",
        "#runSelect(\"select * from dept where deptid = '10'\")\n",
        "runSelect(\"select * from dept\")"
      ],
      "metadata": {
        "id": "N3NZv0YahSs6",
        "outputId": "6def09cc-b85f-46bc-9aa9-730d1a392de0",
        "colab": {
          "base_uri": "https://localhost:8080/",
          "height": 206
        }
      },
      "execution_count": 10,
      "outputs": [
        {
          "output_type": "execute_result",
          "data": {
            "text/plain": [
              "<pandas.io.formats.style.Styler at 0x7bb9954f1000>"
            ],
            "text/html": [
              "<style type=\"text/css\">\n",
              "</style>\n",
              "<table id=\"T_53f94\" class=\"dataframe\">\n",
              "  <thead>\n",
              "    <tr>\n",
              "      <th id=\"T_53f94_level0_col0\" class=\"col_heading level0 col0\" >deptid</th>\n",
              "      <th id=\"T_53f94_level0_col1\" class=\"col_heading level0 col1\" >deptname</th>\n",
              "      <th id=\"T_53f94_level0_col2\" class=\"col_heading level0 col2\" >managerid</th>\n",
              "      <th id=\"T_53f94_level0_col3\" class=\"col_heading level0 col3\" >location</th>\n",
              "      <th id=\"T_53f94_level0_col4\" class=\"col_heading level0 col4\" >locationid</th>\n",
              "    </tr>\n",
              "  </thead>\n",
              "  <tbody>\n",
              "    <tr>\n",
              "      <td id=\"T_53f94_row0_col0\" class=\"data row0 col0\" >10</td>\n",
              "      <td id=\"T_53f94_row0_col1\" class=\"data row0 col1\" >Corporate</td>\n",
              "      <td id=\"T_53f94_row0_col2\" class=\"data row0 col2\" >299034</td>\n",
              "      <td id=\"T_53f94_row0_col3\" class=\"data row0 col3\" >Calcutta</td>\n",
              "      <td id=\"T_53f94_row0_col4\" class=\"data row0 col4\" >1</td>\n",
              "    </tr>\n",
              "    <tr>\n",
              "      <td id=\"T_53f94_row1_col0\" class=\"data row1 col0\" >20</td>\n",
              "      <td id=\"T_53f94_row1_col1\" class=\"data row1 col1\" >Sales</td>\n",
              "      <td id=\"T_53f94_row1_col2\" class=\"data row1 col2\" >239456</td>\n",
              "      <td id=\"T_53f94_row1_col3\" class=\"data row1 col3\" >Calcutta</td>\n",
              "      <td id=\"T_53f94_row1_col4\" class=\"data row1 col4\" >1</td>\n",
              "    </tr>\n",
              "    <tr>\n",
              "      <td id=\"T_53f94_row2_col0\" class=\"data row2 col0\" >30</td>\n",
              "      <td id=\"T_53f94_row2_col1\" class=\"data row2 col1\" >Accounts</td>\n",
              "      <td id=\"T_53f94_row2_col2\" class=\"data row2 col2\" >822134</td>\n",
              "      <td id=\"T_53f94_row2_col3\" class=\"data row2 col3\" >Calcutta</td>\n",
              "      <td id=\"T_53f94_row2_col4\" class=\"data row2 col4\" >1</td>\n",
              "    </tr>\n",
              "    <tr>\n",
              "      <td id=\"T_53f94_row3_col0\" class=\"data row3 col0\" >40</td>\n",
              "      <td id=\"T_53f94_row3_col1\" class=\"data row3 col1\" >Production</td>\n",
              "      <td id=\"T_53f94_row3_col2\" class=\"data row3 col2\" >349870</td>\n",
              "      <td id=\"T_53f94_row3_col3\" class=\"data row3 col3\" >Bombay</td>\n",
              "      <td id=\"T_53f94_row3_col4\" class=\"data row3 col4\" >2</td>\n",
              "    </tr>\n",
              "    <tr>\n",
              "      <td id=\"T_53f94_row4_col0\" class=\"data row4 col0\" >60</td>\n",
              "      <td id=\"T_53f94_row4_col1\" class=\"data row4 col1\" >Research</td>\n",
              "      <td id=\"T_53f94_row4_col2\" class=\"data row4 col2\" >546224</td>\n",
              "      <td id=\"T_53f94_row4_col3\" class=\"data row4 col3\" >Delhi</td>\n",
              "      <td id=\"T_53f94_row4_col4\" class=\"data row4 col4\" >3</td>\n",
              "    </tr>\n",
              "  </tbody>\n",
              "</table>\n"
            ]
          },
          "metadata": {},
          "execution_count": 10
        }
      ]
    },
    {
      "cell_type": "code",
      "source": [
        "runSelect('select * from empl')"
      ],
      "metadata": {
        "id": "Otiv4rjSl5Tg",
        "outputId": "c775d261-5d9b-444b-ef06-9a179f0579e8",
        "colab": {
          "base_uri": "https://localhost:8080/",
          "height": 457
        }
      },
      "execution_count": 11,
      "outputs": [
        {
          "output_type": "execute_result",
          "data": {
            "text/plain": [
              "<pandas.io.formats.style.Styler at 0x7bb964fbbf10>"
            ],
            "text/html": [
              "<style type=\"text/css\">\n",
              "</style>\n",
              "<table id=\"T_e328a\" class=\"dataframe\">\n",
              "  <thead>\n",
              "    <tr>\n",
              "      <th id=\"T_e328a_level0_col0\" class=\"col_heading level0 col0\" >empid</th>\n",
              "      <th id=\"T_e328a_level0_col1\" class=\"col_heading level0 col1\" >lastname</th>\n",
              "      <th id=\"T_e328a_level0_col2\" class=\"col_heading level0 col2\" >firstname</th>\n",
              "      <th id=\"T_e328a_level0_col3\" class=\"col_heading level0 col3\" >jobdesc</th>\n",
              "      <th id=\"T_e328a_level0_col4\" class=\"col_heading level0 col4\" >joindate</th>\n",
              "      <th id=\"T_e328a_level0_col5\" class=\"col_heading level0 col5\" >salary</th>\n",
              "      <th id=\"T_e328a_level0_col6\" class=\"col_heading level0 col6\" >comm</th>\n",
              "      <th id=\"T_e328a_level0_col7\" class=\"col_heading level0 col7\" >deptid</th>\n",
              "      <th id=\"T_e328a_level0_col8\" class=\"col_heading level0 col8\" >hiredby</th>\n",
              "    </tr>\n",
              "  </thead>\n",
              "  <tbody>\n",
              "    <tr>\n",
              "      <td id=\"T_e328a_row0_col0\" class=\"data row0 col0\" >742866</td>\n",
              "      <td id=\"T_e328a_row0_col1\" class=\"data row0 col1\" >Bacchan</td>\n",
              "      <td id=\"T_e328a_row0_col2\" class=\"data row0 col2\" >Amitabh</td>\n",
              "      <td id=\"T_e328a_row0_col3\" class=\"data row0 col3\" >Executive</td>\n",
              "      <td id=\"T_e328a_row0_col4\" class=\"data row0 col4\" >2003-03-10</td>\n",
              "      <td id=\"T_e328a_row0_col5\" class=\"data row0 col5\" >50000</td>\n",
              "      <td id=\"T_e328a_row0_col6\" class=\"data row0 col6\" >0.10</td>\n",
              "      <td id=\"T_e328a_row0_col7\" class=\"data row0 col7\" >10</td>\n",
              "      <td id=\"T_e328a_row0_col8\" class=\"data row0 col8\" >None</td>\n",
              "    </tr>\n",
              "    <tr>\n",
              "      <td id=\"T_e328a_row1_col0\" class=\"data row1 col0\" >349870</td>\n",
              "      <td id=\"T_e328a_row1_col1\" class=\"data row1 col1\" >Mukherjee</td>\n",
              "      <td id=\"T_e328a_row1_col2\" class=\"data row1 col2\" >Rani</td>\n",
              "      <td id=\"T_e328a_row1_col3\" class=\"data row1 col3\" >Manager</td>\n",
              "      <td id=\"T_e328a_row1_col4\" class=\"data row1 col4\" >2005-05-04</td>\n",
              "      <td id=\"T_e328a_row1_col5\" class=\"data row1 col5\" >25000</td>\n",
              "      <td id=\"T_e328a_row1_col6\" class=\"data row1 col6\" >0.06</td>\n",
              "      <td id=\"T_e328a_row1_col7\" class=\"data row1 col7\" >40</td>\n",
              "      <td id=\"T_e328a_row1_col8\" class=\"data row1 col8\" >742866</td>\n",
              "    </tr>\n",
              "    <tr>\n",
              "      <td id=\"T_e328a_row2_col0\" class=\"data row2 col0\" >865477</td>\n",
              "      <td id=\"T_e328a_row2_col1\" class=\"data row2 col1\" >Dikshit</td>\n",
              "      <td id=\"T_e328a_row2_col2\" class=\"data row2 col2\" >Madhuri</td>\n",
              "      <td id=\"T_e328a_row2_col3\" class=\"data row2 col3\" >Clerk</td>\n",
              "      <td id=\"T_e328a_row2_col4\" class=\"data row2 col4\" >2002-04-04</td>\n",
              "      <td id=\"T_e328a_row2_col5\" class=\"data row2 col5\" >10000</td>\n",
              "      <td id=\"T_e328a_row2_col6\" class=\"data row2 col6\" >0.02</td>\n",
              "      <td id=\"T_e328a_row2_col7\" class=\"data row2 col7\" >20</td>\n",
              "      <td id=\"T_e328a_row2_col8\" class=\"data row2 col8\" >239456</td>\n",
              "    </tr>\n",
              "    <tr>\n",
              "      <td id=\"T_e328a_row3_col0\" class=\"data row3 col0\" >239456</td>\n",
              "      <td id=\"T_e328a_row3_col1\" class=\"data row3 col1\" >Khan</td>\n",
              "      <td id=\"T_e328a_row3_col2\" class=\"data row3 col2\" >Shahrukh</td>\n",
              "      <td id=\"T_e328a_row3_col3\" class=\"data row3 col3\" >Manager</td>\n",
              "      <td id=\"T_e328a_row3_col4\" class=\"data row3 col4\" >2004-01-03</td>\n",
              "      <td id=\"T_e328a_row3_col5\" class=\"data row3 col5\" >30000</td>\n",
              "      <td id=\"T_e328a_row3_col6\" class=\"data row3 col6\" >0.07</td>\n",
              "      <td id=\"T_e328a_row3_col7\" class=\"data row3 col7\" >20</td>\n",
              "      <td id=\"T_e328a_row3_col8\" class=\"data row3 col8\" >742866</td>\n",
              "    </tr>\n",
              "    <tr>\n",
              "      <td id=\"T_e328a_row4_col0\" class=\"data row4 col0\" >897889</td>\n",
              "      <td id=\"T_e328a_row4_col1\" class=\"data row4 col1\" >Sehwag</td>\n",
              "      <td id=\"T_e328a_row4_col2\" class=\"data row4 col2\" >Virender</td>\n",
              "      <td id=\"T_e328a_row4_col3\" class=\"data row4 col3\" >Cus_Rep</td>\n",
              "      <td id=\"T_e328a_row4_col4\" class=\"data row4 col4\" >2005-01-02</td>\n",
              "      <td id=\"T_e328a_row4_col5\" class=\"data row4 col5\" >15000</td>\n",
              "      <td id=\"T_e328a_row4_col6\" class=\"data row4 col6\" >0.05</td>\n",
              "      <td id=\"T_e328a_row4_col7\" class=\"data row4 col7\" >20</td>\n",
              "      <td id=\"T_e328a_row4_col8\" class=\"data row4 col8\" >239456</td>\n",
              "    </tr>\n",
              "    <tr>\n",
              "      <td id=\"T_e328a_row5_col0\" class=\"data row5 col0\" >123980</td>\n",
              "      <td id=\"T_e328a_row5_col1\" class=\"data row5 col1\" >Dhoni</td>\n",
              "      <td id=\"T_e328a_row5_col2\" class=\"data row5 col2\" >Mahender</td>\n",
              "      <td id=\"T_e328a_row5_col3\" class=\"data row5 col3\" >Clerk</td>\n",
              "      <td id=\"T_e328a_row5_col4\" class=\"data row5 col4\" >2004-10-09</td>\n",
              "      <td id=\"T_e328a_row5_col5\" class=\"data row5 col5\" >9000</td>\n",
              "      <td id=\"T_e328a_row5_col6\" class=\"data row5 col6\" >0.02</td>\n",
              "      <td id=\"T_e328a_row5_col7\" class=\"data row5 col7\" >40</td>\n",
              "      <td id=\"T_e328a_row5_col8\" class=\"data row5 col8\" >349870</td>\n",
              "    </tr>\n",
              "    <tr>\n",
              "      <td id=\"T_e328a_row6_col0\" class=\"data row6 col0\" >822134</td>\n",
              "      <td id=\"T_e328a_row6_col1\" class=\"data row6 col1\" >Dravid</td>\n",
              "      <td id=\"T_e328a_row6_col2\" class=\"data row6 col2\" >Rahul</td>\n",
              "      <td id=\"T_e328a_row6_col3\" class=\"data row6 col3\" >Sr Manager</td>\n",
              "      <td id=\"T_e328a_row6_col4\" class=\"data row6 col4\" >2000-06-04</td>\n",
              "      <td id=\"T_e328a_row6_col5\" class=\"data row6 col5\" >40000</td>\n",
              "      <td id=\"T_e328a_row6_col6\" class=\"data row6 col6\" >0.08</td>\n",
              "      <td id=\"T_e328a_row6_col7\" class=\"data row6 col7\" >30</td>\n",
              "      <td id=\"T_e328a_row6_col8\" class=\"data row6 col8\" >742866</td>\n",
              "    </tr>\n",
              "    <tr>\n",
              "      <td id=\"T_e328a_row7_col0\" class=\"data row7 col0\" >997445</td>\n",
              "      <td id=\"T_e328a_row7_col1\" class=\"data row7 col1\" >Dalmia</td>\n",
              "      <td id=\"T_e328a_row7_col2\" class=\"data row7 col2\" >Jagmohan</td>\n",
              "      <td id=\"T_e328a_row7_col3\" class=\"data row7 col3\" >Clerk</td>\n",
              "      <td id=\"T_e328a_row7_col4\" class=\"data row7 col4\" >2001-07-01</td>\n",
              "      <td id=\"T_e328a_row7_col5\" class=\"data row7 col5\" >12000</td>\n",
              "      <td id=\"T_e328a_row7_col6\" class=\"data row7 col6\" >0.02</td>\n",
              "      <td id=\"T_e328a_row7_col7\" class=\"data row7 col7\" >30</td>\n",
              "      <td id=\"T_e328a_row7_col8\" class=\"data row7 col8\" >822134</td>\n",
              "    </tr>\n",
              "    <tr>\n",
              "      <td id=\"T_e328a_row8_col0\" class=\"data row8 col0\" >989007</td>\n",
              "      <td id=\"T_e328a_row8_col1\" class=\"data row8 col1\" >Ganguly</td>\n",
              "      <td id=\"T_e328a_row8_col2\" class=\"data row8 col2\" >Sourav</td>\n",
              "      <td id=\"T_e328a_row8_col3\" class=\"data row8 col3\" >Cus_Rep</td>\n",
              "      <td id=\"T_e328a_row8_col4\" class=\"data row8 col4\" >2002-01-01</td>\n",
              "      <td id=\"T_e328a_row8_col5\" class=\"data row8 col5\" >20000</td>\n",
              "      <td id=\"T_e328a_row8_col6\" class=\"data row8 col6\" >0.03</td>\n",
              "      <td id=\"T_e328a_row8_col7\" class=\"data row8 col7\" >40</td>\n",
              "      <td id=\"T_e328a_row8_col8\" class=\"data row8 col8\" >299034</td>\n",
              "    </tr>\n",
              "    <tr>\n",
              "      <td id=\"T_e328a_row9_col0\" class=\"data row9 col0\" >299034</td>\n",
              "      <td id=\"T_e328a_row9_col1\" class=\"data row9 col1\" >Ganesan</td>\n",
              "      <td id=\"T_e328a_row9_col2\" class=\"data row9 col2\" >Rekha</td>\n",
              "      <td id=\"T_e328a_row9_col3\" class=\"data row9 col3\" >Director</td>\n",
              "      <td id=\"T_e328a_row9_col4\" class=\"data row9 col4\" >2002-10-10</td>\n",
              "      <td id=\"T_e328a_row9_col5\" class=\"data row9 col5\" >60000</td>\n",
              "      <td id=\"T_e328a_row9_col6\" class=\"data row9 col6\" >0.11</td>\n",
              "      <td id=\"T_e328a_row9_col7\" class=\"data row9 col7\" >10</td>\n",
              "      <td id=\"T_e328a_row9_col8\" class=\"data row9 col8\" >742866</td>\n",
              "    </tr>\n",
              "    <tr>\n",
              "      <td id=\"T_e328a_row10_col0\" class=\"data row10 col0\" >546223</td>\n",
              "      <td id=\"T_e328a_row10_col1\" class=\"data row10 col1\" >Karthikeyan</td>\n",
              "      <td id=\"T_e328a_row10_col2\" class=\"data row10 col2\" >Narayan</td>\n",
              "      <td id=\"T_e328a_row10_col3\" class=\"data row10 col3\" >Secretary</td>\n",
              "      <td id=\"T_e328a_row10_col4\" class=\"data row10 col4\" >2005-12-04</td>\n",
              "      <td id=\"T_e328a_row10_col5\" class=\"data row10 col5\" >40000</td>\n",
              "      <td id=\"T_e328a_row10_col6\" class=\"data row10 col6\" >0.09</td>\n",
              "      <td id=\"T_e328a_row10_col7\" class=\"data row10 col7\" >10</td>\n",
              "      <td id=\"T_e328a_row10_col8\" class=\"data row10 col8\" >299034</td>\n",
              "    </tr>\n",
              "    <tr>\n",
              "      <td id=\"T_e328a_row11_col0\" class=\"data row11 col0\" >546224</td>\n",
              "      <td id=\"T_e328a_row11_col1\" class=\"data row11 col1\" >Sunil</td>\n",
              "      <td id=\"T_e328a_row11_col2\" class=\"data row11 col2\" >Chettri</td>\n",
              "      <td id=\"T_e328a_row11_col3\" class=\"data row11 col3\" >Dy Manager</td>\n",
              "      <td id=\"T_e328a_row11_col4\" class=\"data row11 col4\" >2006-12-07</td>\n",
              "      <td id=\"T_e328a_row11_col5\" class=\"data row11 col5\" >40000</td>\n",
              "      <td id=\"T_e328a_row11_col6\" class=\"data row11 col6\" >0.05</td>\n",
              "      <td id=\"T_e328a_row11_col7\" class=\"data row11 col7\" >70</td>\n",
              "      <td id=\"T_e328a_row11_col8\" class=\"data row11 col8\" >989007</td>\n",
              "    </tr>\n",
              "    <tr>\n",
              "      <td id=\"T_e328a_row12_col0\" class=\"data row12 col0\" >223112</td>\n",
              "      <td id=\"T_e328a_row12_col1\" class=\"data row12 col1\" >Mirza</td>\n",
              "      <td id=\"T_e328a_row12_col2\" class=\"data row12 col2\" >Sania</td>\n",
              "      <td id=\"T_e328a_row12_col3\" class=\"data row12 col3\" >Cus_Rep</td>\n",
              "      <td id=\"T_e328a_row12_col4\" class=\"data row12 col4\" >2001-11-19</td>\n",
              "      <td id=\"T_e328a_row12_col5\" class=\"data row12 col5\" >25000</td>\n",
              "      <td id=\"T_e328a_row12_col6\" class=\"data row12 col6\" >0.04</td>\n",
              "      <td id=\"T_e328a_row12_col7\" class=\"data row12 col7\" >30</td>\n",
              "      <td id=\"T_e328a_row12_col8\" class=\"data row12 col8\" >822134</td>\n",
              "    </tr>\n",
              "  </tbody>\n",
              "</table>\n"
            ]
          },
          "metadata": {},
          "execution_count": 11
        }
      ]
    },
    {
      "cell_type": "code",
      "source": [
        "runSelect('select lastname, jobdesc, salary from empl')"
      ],
      "metadata": {
        "id": "z-mxVMPuuxu6",
        "outputId": "327ddc04-2bda-4290-a44a-4bbac5de1632",
        "colab": {
          "base_uri": "https://localhost:8080/",
          "height": 457
        }
      },
      "execution_count": 12,
      "outputs": [
        {
          "output_type": "execute_result",
          "data": {
            "text/plain": [
              "<pandas.io.formats.style.Styler at 0x7bb964fb8850>"
            ],
            "text/html": [
              "<style type=\"text/css\">\n",
              "</style>\n",
              "<table id=\"T_28d37\" class=\"dataframe\">\n",
              "  <thead>\n",
              "    <tr>\n",
              "      <th id=\"T_28d37_level0_col0\" class=\"col_heading level0 col0\" >lastname</th>\n",
              "      <th id=\"T_28d37_level0_col1\" class=\"col_heading level0 col1\" >jobdesc</th>\n",
              "      <th id=\"T_28d37_level0_col2\" class=\"col_heading level0 col2\" >salary</th>\n",
              "    </tr>\n",
              "  </thead>\n",
              "  <tbody>\n",
              "    <tr>\n",
              "      <td id=\"T_28d37_row0_col0\" class=\"data row0 col0\" >Bacchan</td>\n",
              "      <td id=\"T_28d37_row0_col1\" class=\"data row0 col1\" >Executive</td>\n",
              "      <td id=\"T_28d37_row0_col2\" class=\"data row0 col2\" >50000</td>\n",
              "    </tr>\n",
              "    <tr>\n",
              "      <td id=\"T_28d37_row1_col0\" class=\"data row1 col0\" >Mukherjee</td>\n",
              "      <td id=\"T_28d37_row1_col1\" class=\"data row1 col1\" >Manager</td>\n",
              "      <td id=\"T_28d37_row1_col2\" class=\"data row1 col2\" >25000</td>\n",
              "    </tr>\n",
              "    <tr>\n",
              "      <td id=\"T_28d37_row2_col0\" class=\"data row2 col0\" >Dikshit</td>\n",
              "      <td id=\"T_28d37_row2_col1\" class=\"data row2 col1\" >Clerk</td>\n",
              "      <td id=\"T_28d37_row2_col2\" class=\"data row2 col2\" >10000</td>\n",
              "    </tr>\n",
              "    <tr>\n",
              "      <td id=\"T_28d37_row3_col0\" class=\"data row3 col0\" >Khan</td>\n",
              "      <td id=\"T_28d37_row3_col1\" class=\"data row3 col1\" >Manager</td>\n",
              "      <td id=\"T_28d37_row3_col2\" class=\"data row3 col2\" >30000</td>\n",
              "    </tr>\n",
              "    <tr>\n",
              "      <td id=\"T_28d37_row4_col0\" class=\"data row4 col0\" >Sehwag</td>\n",
              "      <td id=\"T_28d37_row4_col1\" class=\"data row4 col1\" >Cus_Rep</td>\n",
              "      <td id=\"T_28d37_row4_col2\" class=\"data row4 col2\" >15000</td>\n",
              "    </tr>\n",
              "    <tr>\n",
              "      <td id=\"T_28d37_row5_col0\" class=\"data row5 col0\" >Dhoni</td>\n",
              "      <td id=\"T_28d37_row5_col1\" class=\"data row5 col1\" >Clerk</td>\n",
              "      <td id=\"T_28d37_row5_col2\" class=\"data row5 col2\" >9000</td>\n",
              "    </tr>\n",
              "    <tr>\n",
              "      <td id=\"T_28d37_row6_col0\" class=\"data row6 col0\" >Dravid</td>\n",
              "      <td id=\"T_28d37_row6_col1\" class=\"data row6 col1\" >Sr Manager</td>\n",
              "      <td id=\"T_28d37_row6_col2\" class=\"data row6 col2\" >40000</td>\n",
              "    </tr>\n",
              "    <tr>\n",
              "      <td id=\"T_28d37_row7_col0\" class=\"data row7 col0\" >Dalmia</td>\n",
              "      <td id=\"T_28d37_row7_col1\" class=\"data row7 col1\" >Clerk</td>\n",
              "      <td id=\"T_28d37_row7_col2\" class=\"data row7 col2\" >12000</td>\n",
              "    </tr>\n",
              "    <tr>\n",
              "      <td id=\"T_28d37_row8_col0\" class=\"data row8 col0\" >Ganguly</td>\n",
              "      <td id=\"T_28d37_row8_col1\" class=\"data row8 col1\" >Cus_Rep</td>\n",
              "      <td id=\"T_28d37_row8_col2\" class=\"data row8 col2\" >20000</td>\n",
              "    </tr>\n",
              "    <tr>\n",
              "      <td id=\"T_28d37_row9_col0\" class=\"data row9 col0\" >Ganesan</td>\n",
              "      <td id=\"T_28d37_row9_col1\" class=\"data row9 col1\" >Director</td>\n",
              "      <td id=\"T_28d37_row9_col2\" class=\"data row9 col2\" >60000</td>\n",
              "    </tr>\n",
              "    <tr>\n",
              "      <td id=\"T_28d37_row10_col0\" class=\"data row10 col0\" >Karthikeyan</td>\n",
              "      <td id=\"T_28d37_row10_col1\" class=\"data row10 col1\" >Secretary</td>\n",
              "      <td id=\"T_28d37_row10_col2\" class=\"data row10 col2\" >40000</td>\n",
              "    </tr>\n",
              "    <tr>\n",
              "      <td id=\"T_28d37_row11_col0\" class=\"data row11 col0\" >Sunil</td>\n",
              "      <td id=\"T_28d37_row11_col1\" class=\"data row11 col1\" >Dy Manager</td>\n",
              "      <td id=\"T_28d37_row11_col2\" class=\"data row11 col2\" >40000</td>\n",
              "    </tr>\n",
              "    <tr>\n",
              "      <td id=\"T_28d37_row12_col0\" class=\"data row12 col0\" >Mirza</td>\n",
              "      <td id=\"T_28d37_row12_col1\" class=\"data row12 col1\" >Cus_Rep</td>\n",
              "      <td id=\"T_28d37_row12_col2\" class=\"data row12 col2\" >25000</td>\n",
              "    </tr>\n",
              "  </tbody>\n",
              "</table>\n"
            ]
          },
          "metadata": {},
          "execution_count": 12
        }
      ]
    },
    {
      "cell_type": "code",
      "source": [
        "runSelect('select distinct(jobdesc) from empl')"
      ],
      "metadata": {
        "id": "7uvcAdlCvg-p",
        "outputId": "bfd6c118-03fe-4eb5-bfed-5e77be05ad24",
        "colab": {
          "base_uri": "https://localhost:8080/",
          "height": 300
        }
      },
      "execution_count": 13,
      "outputs": [
        {
          "output_type": "execute_result",
          "data": {
            "text/plain": [
              "<pandas.io.formats.style.Styler at 0x7bb964fb8700>"
            ],
            "text/html": [
              "<style type=\"text/css\">\n",
              "</style>\n",
              "<table id=\"T_631a1\" class=\"dataframe\">\n",
              "  <thead>\n",
              "    <tr>\n",
              "      <th id=\"T_631a1_level0_col0\" class=\"col_heading level0 col0\" >jobdesc</th>\n",
              "    </tr>\n",
              "  </thead>\n",
              "  <tbody>\n",
              "    <tr>\n",
              "      <td id=\"T_631a1_row0_col0\" class=\"data row0 col0\" >Director</td>\n",
              "    </tr>\n",
              "    <tr>\n",
              "      <td id=\"T_631a1_row1_col0\" class=\"data row1 col0\" >Manager</td>\n",
              "    </tr>\n",
              "    <tr>\n",
              "      <td id=\"T_631a1_row2_col0\" class=\"data row2 col0\" >Dy Manager</td>\n",
              "    </tr>\n",
              "    <tr>\n",
              "      <td id=\"T_631a1_row3_col0\" class=\"data row3 col0\" >Executive</td>\n",
              "    </tr>\n",
              "    <tr>\n",
              "      <td id=\"T_631a1_row4_col0\" class=\"data row4 col0\" >Secretary</td>\n",
              "    </tr>\n",
              "    <tr>\n",
              "      <td id=\"T_631a1_row5_col0\" class=\"data row5 col0\" >Cus_Rep</td>\n",
              "    </tr>\n",
              "    <tr>\n",
              "      <td id=\"T_631a1_row6_col0\" class=\"data row6 col0\" >Clerk</td>\n",
              "    </tr>\n",
              "    <tr>\n",
              "      <td id=\"T_631a1_row7_col0\" class=\"data row7 col0\" >Sr Manager</td>\n",
              "    </tr>\n",
              "  </tbody>\n",
              "</table>\n"
            ]
          },
          "metadata": {},
          "execution_count": 13
        }
      ]
    },
    {
      "cell_type": "markdown",
      "source": [
        "#Where"
      ],
      "metadata": {
        "id": "LFbNG59OxVzF"
      }
    },
    {
      "cell_type": "markdown",
      "source": [
        "## Equal, Not Equal, Greater, Less"
      ],
      "metadata": {
        "id": "JM2k29awVQHc"
      }
    },
    {
      "cell_type": "code",
      "source": [
        "runSelect(\"select firstname, lastname, jobdesc from empl where jobdesc = 'Clerk'\")"
      ],
      "metadata": {
        "id": "rRZz9OpLxdEY",
        "outputId": "d7404cd0-f72e-495c-c482-3717e02ba91f",
        "colab": {
          "base_uri": "https://localhost:8080/",
          "height": 143
        }
      },
      "execution_count": 14,
      "outputs": [
        {
          "output_type": "execute_result",
          "data": {
            "text/plain": [
              "<pandas.io.formats.style.Styler at 0x7bb964fbb790>"
            ],
            "text/html": [
              "<style type=\"text/css\">\n",
              "</style>\n",
              "<table id=\"T_7c376\" class=\"dataframe\">\n",
              "  <thead>\n",
              "    <tr>\n",
              "      <th id=\"T_7c376_level0_col0\" class=\"col_heading level0 col0\" >firstname</th>\n",
              "      <th id=\"T_7c376_level0_col1\" class=\"col_heading level0 col1\" >lastname</th>\n",
              "      <th id=\"T_7c376_level0_col2\" class=\"col_heading level0 col2\" >jobdesc</th>\n",
              "    </tr>\n",
              "  </thead>\n",
              "  <tbody>\n",
              "    <tr>\n",
              "      <td id=\"T_7c376_row0_col0\" class=\"data row0 col0\" >Madhuri</td>\n",
              "      <td id=\"T_7c376_row0_col1\" class=\"data row0 col1\" >Dikshit</td>\n",
              "      <td id=\"T_7c376_row0_col2\" class=\"data row0 col2\" >Clerk</td>\n",
              "    </tr>\n",
              "    <tr>\n",
              "      <td id=\"T_7c376_row1_col0\" class=\"data row1 col0\" >Mahender</td>\n",
              "      <td id=\"T_7c376_row1_col1\" class=\"data row1 col1\" >Dhoni</td>\n",
              "      <td id=\"T_7c376_row1_col2\" class=\"data row1 col2\" >Clerk</td>\n",
              "    </tr>\n",
              "    <tr>\n",
              "      <td id=\"T_7c376_row2_col0\" class=\"data row2 col0\" >Jagmohan</td>\n",
              "      <td id=\"T_7c376_row2_col1\" class=\"data row2 col1\" >Dalmia</td>\n",
              "      <td id=\"T_7c376_row2_col2\" class=\"data row2 col2\" >Clerk</td>\n",
              "    </tr>\n",
              "  </tbody>\n",
              "</table>\n"
            ]
          },
          "metadata": {},
          "execution_count": 14
        }
      ]
    },
    {
      "cell_type": "code",
      "source": [
        "runSelect(\"select firstname, lastname, jobdesc from empl where jobdesc != 'Clerk'\")"
      ],
      "metadata": {
        "id": "3cl0ISR9yG-I",
        "outputId": "99f339ca-7f27-440a-a312-d8a7867f5c1a",
        "colab": {
          "base_uri": "https://localhost:8080/",
          "height": 363
        }
      },
      "execution_count": 15,
      "outputs": [
        {
          "output_type": "execute_result",
          "data": {
            "text/plain": [
              "<pandas.io.formats.style.Styler at 0x7bb9650abbe0>"
            ],
            "text/html": [
              "<style type=\"text/css\">\n",
              "</style>\n",
              "<table id=\"T_ca5b5\" class=\"dataframe\">\n",
              "  <thead>\n",
              "    <tr>\n",
              "      <th id=\"T_ca5b5_level0_col0\" class=\"col_heading level0 col0\" >firstname</th>\n",
              "      <th id=\"T_ca5b5_level0_col1\" class=\"col_heading level0 col1\" >lastname</th>\n",
              "      <th id=\"T_ca5b5_level0_col2\" class=\"col_heading level0 col2\" >jobdesc</th>\n",
              "    </tr>\n",
              "  </thead>\n",
              "  <tbody>\n",
              "    <tr>\n",
              "      <td id=\"T_ca5b5_row0_col0\" class=\"data row0 col0\" >Amitabh</td>\n",
              "      <td id=\"T_ca5b5_row0_col1\" class=\"data row0 col1\" >Bacchan</td>\n",
              "      <td id=\"T_ca5b5_row0_col2\" class=\"data row0 col2\" >Executive</td>\n",
              "    </tr>\n",
              "    <tr>\n",
              "      <td id=\"T_ca5b5_row1_col0\" class=\"data row1 col0\" >Rani</td>\n",
              "      <td id=\"T_ca5b5_row1_col1\" class=\"data row1 col1\" >Mukherjee</td>\n",
              "      <td id=\"T_ca5b5_row1_col2\" class=\"data row1 col2\" >Manager</td>\n",
              "    </tr>\n",
              "    <tr>\n",
              "      <td id=\"T_ca5b5_row2_col0\" class=\"data row2 col0\" >Shahrukh</td>\n",
              "      <td id=\"T_ca5b5_row2_col1\" class=\"data row2 col1\" >Khan</td>\n",
              "      <td id=\"T_ca5b5_row2_col2\" class=\"data row2 col2\" >Manager</td>\n",
              "    </tr>\n",
              "    <tr>\n",
              "      <td id=\"T_ca5b5_row3_col0\" class=\"data row3 col0\" >Virender</td>\n",
              "      <td id=\"T_ca5b5_row3_col1\" class=\"data row3 col1\" >Sehwag</td>\n",
              "      <td id=\"T_ca5b5_row3_col2\" class=\"data row3 col2\" >Cus_Rep</td>\n",
              "    </tr>\n",
              "    <tr>\n",
              "      <td id=\"T_ca5b5_row4_col0\" class=\"data row4 col0\" >Rahul</td>\n",
              "      <td id=\"T_ca5b5_row4_col1\" class=\"data row4 col1\" >Dravid</td>\n",
              "      <td id=\"T_ca5b5_row4_col2\" class=\"data row4 col2\" >Sr Manager</td>\n",
              "    </tr>\n",
              "    <tr>\n",
              "      <td id=\"T_ca5b5_row5_col0\" class=\"data row5 col0\" >Sourav</td>\n",
              "      <td id=\"T_ca5b5_row5_col1\" class=\"data row5 col1\" >Ganguly</td>\n",
              "      <td id=\"T_ca5b5_row5_col2\" class=\"data row5 col2\" >Cus_Rep</td>\n",
              "    </tr>\n",
              "    <tr>\n",
              "      <td id=\"T_ca5b5_row6_col0\" class=\"data row6 col0\" >Rekha</td>\n",
              "      <td id=\"T_ca5b5_row6_col1\" class=\"data row6 col1\" >Ganesan</td>\n",
              "      <td id=\"T_ca5b5_row6_col2\" class=\"data row6 col2\" >Director</td>\n",
              "    </tr>\n",
              "    <tr>\n",
              "      <td id=\"T_ca5b5_row7_col0\" class=\"data row7 col0\" >Narayan</td>\n",
              "      <td id=\"T_ca5b5_row7_col1\" class=\"data row7 col1\" >Karthikeyan</td>\n",
              "      <td id=\"T_ca5b5_row7_col2\" class=\"data row7 col2\" >Secretary</td>\n",
              "    </tr>\n",
              "    <tr>\n",
              "      <td id=\"T_ca5b5_row8_col0\" class=\"data row8 col0\" >Chettri</td>\n",
              "      <td id=\"T_ca5b5_row8_col1\" class=\"data row8 col1\" >Sunil</td>\n",
              "      <td id=\"T_ca5b5_row8_col2\" class=\"data row8 col2\" >Dy Manager</td>\n",
              "    </tr>\n",
              "    <tr>\n",
              "      <td id=\"T_ca5b5_row9_col0\" class=\"data row9 col0\" >Sania</td>\n",
              "      <td id=\"T_ca5b5_row9_col1\" class=\"data row9 col1\" >Mirza</td>\n",
              "      <td id=\"T_ca5b5_row9_col2\" class=\"data row9 col2\" >Cus_Rep</td>\n",
              "    </tr>\n",
              "  </tbody>\n",
              "</table>\n"
            ]
          },
          "metadata": {},
          "execution_count": 15
        }
      ]
    },
    {
      "cell_type": "code",
      "source": [
        "runSelect(\"select firstname, lastname, salary from empl where salary > 35000\")"
      ],
      "metadata": {
        "id": "obIPpNbDyT4S",
        "outputId": "ec47733d-156e-4003-b958-8e925b4441b2",
        "colab": {
          "base_uri": "https://localhost:8080/",
          "height": 206
        }
      },
      "execution_count": 16,
      "outputs": [
        {
          "output_type": "execute_result",
          "data": {
            "text/plain": [
              "<pandas.io.formats.style.Styler at 0x7bb964fbb220>"
            ],
            "text/html": [
              "<style type=\"text/css\">\n",
              "</style>\n",
              "<table id=\"T_38a86\" class=\"dataframe\">\n",
              "  <thead>\n",
              "    <tr>\n",
              "      <th id=\"T_38a86_level0_col0\" class=\"col_heading level0 col0\" >firstname</th>\n",
              "      <th id=\"T_38a86_level0_col1\" class=\"col_heading level0 col1\" >lastname</th>\n",
              "      <th id=\"T_38a86_level0_col2\" class=\"col_heading level0 col2\" >salary</th>\n",
              "    </tr>\n",
              "  </thead>\n",
              "  <tbody>\n",
              "    <tr>\n",
              "      <td id=\"T_38a86_row0_col0\" class=\"data row0 col0\" >Amitabh</td>\n",
              "      <td id=\"T_38a86_row0_col1\" class=\"data row0 col1\" >Bacchan</td>\n",
              "      <td id=\"T_38a86_row0_col2\" class=\"data row0 col2\" >50000</td>\n",
              "    </tr>\n",
              "    <tr>\n",
              "      <td id=\"T_38a86_row1_col0\" class=\"data row1 col0\" >Rahul</td>\n",
              "      <td id=\"T_38a86_row1_col1\" class=\"data row1 col1\" >Dravid</td>\n",
              "      <td id=\"T_38a86_row1_col2\" class=\"data row1 col2\" >40000</td>\n",
              "    </tr>\n",
              "    <tr>\n",
              "      <td id=\"T_38a86_row2_col0\" class=\"data row2 col0\" >Rekha</td>\n",
              "      <td id=\"T_38a86_row2_col1\" class=\"data row2 col1\" >Ganesan</td>\n",
              "      <td id=\"T_38a86_row2_col2\" class=\"data row2 col2\" >60000</td>\n",
              "    </tr>\n",
              "    <tr>\n",
              "      <td id=\"T_38a86_row3_col0\" class=\"data row3 col0\" >Narayan</td>\n",
              "      <td id=\"T_38a86_row3_col1\" class=\"data row3 col1\" >Karthikeyan</td>\n",
              "      <td id=\"T_38a86_row3_col2\" class=\"data row3 col2\" >40000</td>\n",
              "    </tr>\n",
              "    <tr>\n",
              "      <td id=\"T_38a86_row4_col0\" class=\"data row4 col0\" >Chettri</td>\n",
              "      <td id=\"T_38a86_row4_col1\" class=\"data row4 col1\" >Sunil</td>\n",
              "      <td id=\"T_38a86_row4_col2\" class=\"data row4 col2\" >40000</td>\n",
              "    </tr>\n",
              "  </tbody>\n",
              "</table>\n"
            ]
          },
          "metadata": {},
          "execution_count": 16
        }
      ]
    },
    {
      "cell_type": "code",
      "source": [
        "runSelect(\"select firstname, lastname, salary, joindate from empl where joindate < '2002-01-01'\")"
      ],
      "metadata": {
        "colab": {
          "base_uri": "https://localhost:8080/",
          "height": 143
        },
        "id": "hnIvgy_dMvQl",
        "outputId": "093b7e4a-68a0-4194-fa9f-453f8ca00631"
      },
      "execution_count": 17,
      "outputs": [
        {
          "output_type": "execute_result",
          "data": {
            "text/plain": [
              "<pandas.io.formats.style.Styler at 0x7bb9650ab010>"
            ],
            "text/html": [
              "<style type=\"text/css\">\n",
              "</style>\n",
              "<table id=\"T_96e4e\" class=\"dataframe\">\n",
              "  <thead>\n",
              "    <tr>\n",
              "      <th id=\"T_96e4e_level0_col0\" class=\"col_heading level0 col0\" >firstname</th>\n",
              "      <th id=\"T_96e4e_level0_col1\" class=\"col_heading level0 col1\" >lastname</th>\n",
              "      <th id=\"T_96e4e_level0_col2\" class=\"col_heading level0 col2\" >salary</th>\n",
              "      <th id=\"T_96e4e_level0_col3\" class=\"col_heading level0 col3\" >joindate</th>\n",
              "    </tr>\n",
              "  </thead>\n",
              "  <tbody>\n",
              "    <tr>\n",
              "      <td id=\"T_96e4e_row0_col0\" class=\"data row0 col0\" >Rahul</td>\n",
              "      <td id=\"T_96e4e_row0_col1\" class=\"data row0 col1\" >Dravid</td>\n",
              "      <td id=\"T_96e4e_row0_col2\" class=\"data row0 col2\" >40000</td>\n",
              "      <td id=\"T_96e4e_row0_col3\" class=\"data row0 col3\" >2000-06-04</td>\n",
              "    </tr>\n",
              "    <tr>\n",
              "      <td id=\"T_96e4e_row1_col0\" class=\"data row1 col0\" >Jagmohan</td>\n",
              "      <td id=\"T_96e4e_row1_col1\" class=\"data row1 col1\" >Dalmia</td>\n",
              "      <td id=\"T_96e4e_row1_col2\" class=\"data row1 col2\" >12000</td>\n",
              "      <td id=\"T_96e4e_row1_col3\" class=\"data row1 col3\" >2001-07-01</td>\n",
              "    </tr>\n",
              "    <tr>\n",
              "      <td id=\"T_96e4e_row2_col0\" class=\"data row2 col0\" >Sania</td>\n",
              "      <td id=\"T_96e4e_row2_col1\" class=\"data row2 col1\" >Mirza</td>\n",
              "      <td id=\"T_96e4e_row2_col2\" class=\"data row2 col2\" >25000</td>\n",
              "      <td id=\"T_96e4e_row2_col3\" class=\"data row2 col3\" >2001-11-19</td>\n",
              "    </tr>\n",
              "  </tbody>\n",
              "</table>\n"
            ]
          },
          "metadata": {},
          "execution_count": 17
        }
      ]
    },
    {
      "cell_type": "markdown",
      "source": [
        "## Like"
      ],
      "metadata": {
        "id": "77DkYhfhU1lJ"
      }
    },
    {
      "cell_type": "code",
      "source": [
        "runSelect(\"select firstname, lastname, salary from empl where lastname like 'D%'\")"
      ],
      "metadata": {
        "colab": {
          "base_uri": "https://localhost:8080/",
          "height": 175
        },
        "id": "PBsdla2eVv1K",
        "outputId": "2290ebbe-f6c6-474b-f11d-950b0a6b889d"
      },
      "execution_count": 18,
      "outputs": [
        {
          "output_type": "execute_result",
          "data": {
            "text/plain": [
              "<pandas.io.formats.style.Styler at 0x7bb9650a9ff0>"
            ],
            "text/html": [
              "<style type=\"text/css\">\n",
              "</style>\n",
              "<table id=\"T_cf5ed\" class=\"dataframe\">\n",
              "  <thead>\n",
              "    <tr>\n",
              "      <th id=\"T_cf5ed_level0_col0\" class=\"col_heading level0 col0\" >firstname</th>\n",
              "      <th id=\"T_cf5ed_level0_col1\" class=\"col_heading level0 col1\" >lastname</th>\n",
              "      <th id=\"T_cf5ed_level0_col2\" class=\"col_heading level0 col2\" >salary</th>\n",
              "    </tr>\n",
              "  </thead>\n",
              "  <tbody>\n",
              "    <tr>\n",
              "      <td id=\"T_cf5ed_row0_col0\" class=\"data row0 col0\" >Madhuri</td>\n",
              "      <td id=\"T_cf5ed_row0_col1\" class=\"data row0 col1\" >Dikshit</td>\n",
              "      <td id=\"T_cf5ed_row0_col2\" class=\"data row0 col2\" >10000</td>\n",
              "    </tr>\n",
              "    <tr>\n",
              "      <td id=\"T_cf5ed_row1_col0\" class=\"data row1 col0\" >Mahender</td>\n",
              "      <td id=\"T_cf5ed_row1_col1\" class=\"data row1 col1\" >Dhoni</td>\n",
              "      <td id=\"T_cf5ed_row1_col2\" class=\"data row1 col2\" >9000</td>\n",
              "    </tr>\n",
              "    <tr>\n",
              "      <td id=\"T_cf5ed_row2_col0\" class=\"data row2 col0\" >Rahul</td>\n",
              "      <td id=\"T_cf5ed_row2_col1\" class=\"data row2 col1\" >Dravid</td>\n",
              "      <td id=\"T_cf5ed_row2_col2\" class=\"data row2 col2\" >40000</td>\n",
              "    </tr>\n",
              "    <tr>\n",
              "      <td id=\"T_cf5ed_row3_col0\" class=\"data row3 col0\" >Jagmohan</td>\n",
              "      <td id=\"T_cf5ed_row3_col1\" class=\"data row3 col1\" >Dalmia</td>\n",
              "      <td id=\"T_cf5ed_row3_col2\" class=\"data row3 col2\" >12000</td>\n",
              "    </tr>\n",
              "  </tbody>\n",
              "</table>\n"
            ]
          },
          "metadata": {},
          "execution_count": 18
        }
      ]
    },
    {
      "cell_type": "code",
      "source": [
        "runSelect(\"select firstname, lastname, joindate from empl where lastname like '____i_'\")"
      ],
      "metadata": {
        "colab": {
          "base_uri": "https://localhost:8080/",
          "height": 112
        },
        "id": "xxImEDlKbm4U",
        "outputId": "8d3f6d42-a70e-479a-e559-13e7ad71d6d5"
      },
      "execution_count": 19,
      "outputs": [
        {
          "output_type": "execute_result",
          "data": {
            "text/plain": [
              "<pandas.io.formats.style.Styler at 0x7bb9650aaad0>"
            ],
            "text/html": [
              "<style type=\"text/css\">\n",
              "</style>\n",
              "<table id=\"T_e0d8f\" class=\"dataframe\">\n",
              "  <thead>\n",
              "    <tr>\n",
              "      <th id=\"T_e0d8f_level0_col0\" class=\"col_heading level0 col0\" >firstname</th>\n",
              "      <th id=\"T_e0d8f_level0_col1\" class=\"col_heading level0 col1\" >lastname</th>\n",
              "      <th id=\"T_e0d8f_level0_col2\" class=\"col_heading level0 col2\" >joindate</th>\n",
              "    </tr>\n",
              "  </thead>\n",
              "  <tbody>\n",
              "    <tr>\n",
              "      <td id=\"T_e0d8f_row0_col0\" class=\"data row0 col0\" >Rahul</td>\n",
              "      <td id=\"T_e0d8f_row0_col1\" class=\"data row0 col1\" >Dravid</td>\n",
              "      <td id=\"T_e0d8f_row0_col2\" class=\"data row0 col2\" >2000-06-04</td>\n",
              "    </tr>\n",
              "    <tr>\n",
              "      <td id=\"T_e0d8f_row1_col0\" class=\"data row1 col0\" >Jagmohan</td>\n",
              "      <td id=\"T_e0d8f_row1_col1\" class=\"data row1 col1\" >Dalmia</td>\n",
              "      <td id=\"T_e0d8f_row1_col2\" class=\"data row1 col2\" >2001-07-01</td>\n",
              "    </tr>\n",
              "  </tbody>\n",
              "</table>\n"
            ]
          },
          "metadata": {},
          "execution_count": 19
        }
      ]
    },
    {
      "cell_type": "code",
      "source": [
        "runSelect(\"select firstname, lastname, jobdesc from empl where lastname like '____i%'\")"
      ],
      "metadata": {
        "colab": {
          "base_uri": "https://localhost:8080/",
          "height": 143
        },
        "id": "pL7VPLo4b2g3",
        "outputId": "a149a350-5696-40d9-f442-5fb4883b842d"
      },
      "execution_count": 20,
      "outputs": [
        {
          "output_type": "execute_result",
          "data": {
            "text/plain": [
              "<pandas.io.formats.style.Styler at 0x7bb9650a9f90>"
            ],
            "text/html": [
              "<style type=\"text/css\">\n",
              "</style>\n",
              "<table id=\"T_5c635\" class=\"dataframe\">\n",
              "  <thead>\n",
              "    <tr>\n",
              "      <th id=\"T_5c635_level0_col0\" class=\"col_heading level0 col0\" >firstname</th>\n",
              "      <th id=\"T_5c635_level0_col1\" class=\"col_heading level0 col1\" >lastname</th>\n",
              "      <th id=\"T_5c635_level0_col2\" class=\"col_heading level0 col2\" >jobdesc</th>\n",
              "    </tr>\n",
              "  </thead>\n",
              "  <tbody>\n",
              "    <tr>\n",
              "      <td id=\"T_5c635_row0_col0\" class=\"data row0 col0\" >Mahender</td>\n",
              "      <td id=\"T_5c635_row0_col1\" class=\"data row0 col1\" >Dhoni</td>\n",
              "      <td id=\"T_5c635_row0_col2\" class=\"data row0 col2\" >Clerk</td>\n",
              "    </tr>\n",
              "    <tr>\n",
              "      <td id=\"T_5c635_row1_col0\" class=\"data row1 col0\" >Rahul</td>\n",
              "      <td id=\"T_5c635_row1_col1\" class=\"data row1 col1\" >Dravid</td>\n",
              "      <td id=\"T_5c635_row1_col2\" class=\"data row1 col2\" >Sr Manager</td>\n",
              "    </tr>\n",
              "    <tr>\n",
              "      <td id=\"T_5c635_row2_col0\" class=\"data row2 col0\" >Jagmohan</td>\n",
              "      <td id=\"T_5c635_row2_col1\" class=\"data row2 col1\" >Dalmia</td>\n",
              "      <td id=\"T_5c635_row2_col2\" class=\"data row2 col2\" >Clerk</td>\n",
              "    </tr>\n",
              "  </tbody>\n",
              "</table>\n"
            ]
          },
          "metadata": {},
          "execution_count": 20
        }
      ]
    },
    {
      "cell_type": "markdown",
      "source": [
        "## Between"
      ],
      "metadata": {
        "id": "qw2h8Vtvey2R"
      }
    },
    {
      "cell_type": "code",
      "source": [
        "runSelect(\"select firstname, lastname, salary from empl where salary between 10000 and 20000\")"
      ],
      "metadata": {
        "colab": {
          "base_uri": "https://localhost:8080/",
          "height": 175
        },
        "id": "sI_qlRdXe7S8",
        "outputId": "e9077ac4-4199-47a5-deee-f2dcce9a437f"
      },
      "execution_count": 21,
      "outputs": [
        {
          "output_type": "execute_result",
          "data": {
            "text/plain": [
              "<pandas.io.formats.style.Styler at 0x7bb9650aa7d0>"
            ],
            "text/html": [
              "<style type=\"text/css\">\n",
              "</style>\n",
              "<table id=\"T_87ea9\" class=\"dataframe\">\n",
              "  <thead>\n",
              "    <tr>\n",
              "      <th id=\"T_87ea9_level0_col0\" class=\"col_heading level0 col0\" >firstname</th>\n",
              "      <th id=\"T_87ea9_level0_col1\" class=\"col_heading level0 col1\" >lastname</th>\n",
              "      <th id=\"T_87ea9_level0_col2\" class=\"col_heading level0 col2\" >salary</th>\n",
              "    </tr>\n",
              "  </thead>\n",
              "  <tbody>\n",
              "    <tr>\n",
              "      <td id=\"T_87ea9_row0_col0\" class=\"data row0 col0\" >Madhuri</td>\n",
              "      <td id=\"T_87ea9_row0_col1\" class=\"data row0 col1\" >Dikshit</td>\n",
              "      <td id=\"T_87ea9_row0_col2\" class=\"data row0 col2\" >10000</td>\n",
              "    </tr>\n",
              "    <tr>\n",
              "      <td id=\"T_87ea9_row1_col0\" class=\"data row1 col0\" >Virender</td>\n",
              "      <td id=\"T_87ea9_row1_col1\" class=\"data row1 col1\" >Sehwag</td>\n",
              "      <td id=\"T_87ea9_row1_col2\" class=\"data row1 col2\" >15000</td>\n",
              "    </tr>\n",
              "    <tr>\n",
              "      <td id=\"T_87ea9_row2_col0\" class=\"data row2 col0\" >Jagmohan</td>\n",
              "      <td id=\"T_87ea9_row2_col1\" class=\"data row2 col1\" >Dalmia</td>\n",
              "      <td id=\"T_87ea9_row2_col2\" class=\"data row2 col2\" >12000</td>\n",
              "    </tr>\n",
              "    <tr>\n",
              "      <td id=\"T_87ea9_row3_col0\" class=\"data row3 col0\" >Sourav</td>\n",
              "      <td id=\"T_87ea9_row3_col1\" class=\"data row3 col1\" >Ganguly</td>\n",
              "      <td id=\"T_87ea9_row3_col2\" class=\"data row3 col2\" >20000</td>\n",
              "    </tr>\n",
              "  </tbody>\n",
              "</table>\n"
            ]
          },
          "metadata": {},
          "execution_count": 21
        }
      ]
    },
    {
      "cell_type": "code",
      "source": [
        "runSelect(\"select firstname, lastname, joindate from empl where joindate between '2004-01-01' and '2005-01-01'\")"
      ],
      "metadata": {
        "colab": {
          "base_uri": "https://localhost:8080/",
          "height": 112
        },
        "id": "b_mWyFTnfIEy",
        "outputId": "de8f7873-c0dc-4e9c-ccb7-214a8c7f8730"
      },
      "execution_count": 22,
      "outputs": [
        {
          "output_type": "execute_result",
          "data": {
            "text/plain": [
              "<pandas.io.formats.style.Styler at 0x7bb9650aa890>"
            ],
            "text/html": [
              "<style type=\"text/css\">\n",
              "</style>\n",
              "<table id=\"T_7c511\" class=\"dataframe\">\n",
              "  <thead>\n",
              "    <tr>\n",
              "      <th id=\"T_7c511_level0_col0\" class=\"col_heading level0 col0\" >firstname</th>\n",
              "      <th id=\"T_7c511_level0_col1\" class=\"col_heading level0 col1\" >lastname</th>\n",
              "      <th id=\"T_7c511_level0_col2\" class=\"col_heading level0 col2\" >joindate</th>\n",
              "    </tr>\n",
              "  </thead>\n",
              "  <tbody>\n",
              "    <tr>\n",
              "      <td id=\"T_7c511_row0_col0\" class=\"data row0 col0\" >Shahrukh</td>\n",
              "      <td id=\"T_7c511_row0_col1\" class=\"data row0 col1\" >Khan</td>\n",
              "      <td id=\"T_7c511_row0_col2\" class=\"data row0 col2\" >2004-01-03</td>\n",
              "    </tr>\n",
              "    <tr>\n",
              "      <td id=\"T_7c511_row1_col0\" class=\"data row1 col0\" >Mahender</td>\n",
              "      <td id=\"T_7c511_row1_col1\" class=\"data row1 col1\" >Dhoni</td>\n",
              "      <td id=\"T_7c511_row1_col2\" class=\"data row1 col2\" >2004-10-09</td>\n",
              "    </tr>\n",
              "  </tbody>\n",
              "</table>\n"
            ]
          },
          "metadata": {},
          "execution_count": 22
        }
      ]
    },
    {
      "cell_type": "code",
      "source": [
        "runSelect(\"select firstname, lastname, joindate from empl where lastname between 'Dho' and 'Kha'\")"
      ],
      "metadata": {
        "colab": {
          "base_uri": "https://localhost:8080/",
          "height": 237
        },
        "id": "qXs9AeS2fwCS",
        "outputId": "334f67a4-f51a-4dd5-92ea-d994ee98d6df"
      },
      "execution_count": 23,
      "outputs": [
        {
          "output_type": "execute_result",
          "data": {
            "text/plain": [
              "<pandas.io.formats.style.Styler at 0x7bb9650eaef0>"
            ],
            "text/html": [
              "<style type=\"text/css\">\n",
              "</style>\n",
              "<table id=\"T_ad022\" class=\"dataframe\">\n",
              "  <thead>\n",
              "    <tr>\n",
              "      <th id=\"T_ad022_level0_col0\" class=\"col_heading level0 col0\" >firstname</th>\n",
              "      <th id=\"T_ad022_level0_col1\" class=\"col_heading level0 col1\" >lastname</th>\n",
              "      <th id=\"T_ad022_level0_col2\" class=\"col_heading level0 col2\" >joindate</th>\n",
              "    </tr>\n",
              "  </thead>\n",
              "  <tbody>\n",
              "    <tr>\n",
              "      <td id=\"T_ad022_row0_col0\" class=\"data row0 col0\" >Madhuri</td>\n",
              "      <td id=\"T_ad022_row0_col1\" class=\"data row0 col1\" >Dikshit</td>\n",
              "      <td id=\"T_ad022_row0_col2\" class=\"data row0 col2\" >2002-04-04</td>\n",
              "    </tr>\n",
              "    <tr>\n",
              "      <td id=\"T_ad022_row1_col0\" class=\"data row1 col0\" >Mahender</td>\n",
              "      <td id=\"T_ad022_row1_col1\" class=\"data row1 col1\" >Dhoni</td>\n",
              "      <td id=\"T_ad022_row1_col2\" class=\"data row1 col2\" >2004-10-09</td>\n",
              "    </tr>\n",
              "    <tr>\n",
              "      <td id=\"T_ad022_row2_col0\" class=\"data row2 col0\" >Rahul</td>\n",
              "      <td id=\"T_ad022_row2_col1\" class=\"data row2 col1\" >Dravid</td>\n",
              "      <td id=\"T_ad022_row2_col2\" class=\"data row2 col2\" >2000-06-04</td>\n",
              "    </tr>\n",
              "    <tr>\n",
              "      <td id=\"T_ad022_row3_col0\" class=\"data row3 col0\" >Sourav</td>\n",
              "      <td id=\"T_ad022_row3_col1\" class=\"data row3 col1\" >Ganguly</td>\n",
              "      <td id=\"T_ad022_row3_col2\" class=\"data row3 col2\" >2002-01-01</td>\n",
              "    </tr>\n",
              "    <tr>\n",
              "      <td id=\"T_ad022_row4_col0\" class=\"data row4 col0\" >Rekha</td>\n",
              "      <td id=\"T_ad022_row4_col1\" class=\"data row4 col1\" >Ganesan</td>\n",
              "      <td id=\"T_ad022_row4_col2\" class=\"data row4 col2\" >2002-10-10</td>\n",
              "    </tr>\n",
              "    <tr>\n",
              "      <td id=\"T_ad022_row5_col0\" class=\"data row5 col0\" >Narayan</td>\n",
              "      <td id=\"T_ad022_row5_col1\" class=\"data row5 col1\" >Karthikeyan</td>\n",
              "      <td id=\"T_ad022_row5_col2\" class=\"data row5 col2\" >2005-12-04</td>\n",
              "    </tr>\n",
              "  </tbody>\n",
              "</table>\n"
            ]
          },
          "metadata": {},
          "execution_count": 23
        }
      ]
    },
    {
      "cell_type": "markdown",
      "source": [
        "## IN"
      ],
      "metadata": {
        "id": "azhy0TQLiLy-"
      }
    },
    {
      "cell_type": "code",
      "source": [
        "runSelect(\"select firstname, lastname, deptid from empl where deptid in ('30','20','70')\")"
      ],
      "metadata": {
        "colab": {
          "base_uri": "https://localhost:8080/",
          "height": 269
        },
        "id": "UyBE-FuoibSZ",
        "outputId": "c9a6411f-c713-4390-c7f3-10ded275805f"
      },
      "execution_count": 24,
      "outputs": [
        {
          "output_type": "execute_result",
          "data": {
            "text/plain": [
              "<pandas.io.formats.style.Styler at 0x7bb964fbbb20>"
            ],
            "text/html": [
              "<style type=\"text/css\">\n",
              "</style>\n",
              "<table id=\"T_f3799\" class=\"dataframe\">\n",
              "  <thead>\n",
              "    <tr>\n",
              "      <th id=\"T_f3799_level0_col0\" class=\"col_heading level0 col0\" >firstname</th>\n",
              "      <th id=\"T_f3799_level0_col1\" class=\"col_heading level0 col1\" >lastname</th>\n",
              "      <th id=\"T_f3799_level0_col2\" class=\"col_heading level0 col2\" >deptid</th>\n",
              "    </tr>\n",
              "  </thead>\n",
              "  <tbody>\n",
              "    <tr>\n",
              "      <td id=\"T_f3799_row0_col0\" class=\"data row0 col0\" >Madhuri</td>\n",
              "      <td id=\"T_f3799_row0_col1\" class=\"data row0 col1\" >Dikshit</td>\n",
              "      <td id=\"T_f3799_row0_col2\" class=\"data row0 col2\" >20</td>\n",
              "    </tr>\n",
              "    <tr>\n",
              "      <td id=\"T_f3799_row1_col0\" class=\"data row1 col0\" >Shahrukh</td>\n",
              "      <td id=\"T_f3799_row1_col1\" class=\"data row1 col1\" >Khan</td>\n",
              "      <td id=\"T_f3799_row1_col2\" class=\"data row1 col2\" >20</td>\n",
              "    </tr>\n",
              "    <tr>\n",
              "      <td id=\"T_f3799_row2_col0\" class=\"data row2 col0\" >Virender</td>\n",
              "      <td id=\"T_f3799_row2_col1\" class=\"data row2 col1\" >Sehwag</td>\n",
              "      <td id=\"T_f3799_row2_col2\" class=\"data row2 col2\" >20</td>\n",
              "    </tr>\n",
              "    <tr>\n",
              "      <td id=\"T_f3799_row3_col0\" class=\"data row3 col0\" >Rahul</td>\n",
              "      <td id=\"T_f3799_row3_col1\" class=\"data row3 col1\" >Dravid</td>\n",
              "      <td id=\"T_f3799_row3_col2\" class=\"data row3 col2\" >30</td>\n",
              "    </tr>\n",
              "    <tr>\n",
              "      <td id=\"T_f3799_row4_col0\" class=\"data row4 col0\" >Jagmohan</td>\n",
              "      <td id=\"T_f3799_row4_col1\" class=\"data row4 col1\" >Dalmia</td>\n",
              "      <td id=\"T_f3799_row4_col2\" class=\"data row4 col2\" >30</td>\n",
              "    </tr>\n",
              "    <tr>\n",
              "      <td id=\"T_f3799_row5_col0\" class=\"data row5 col0\" >Chettri</td>\n",
              "      <td id=\"T_f3799_row5_col1\" class=\"data row5 col1\" >Sunil</td>\n",
              "      <td id=\"T_f3799_row5_col2\" class=\"data row5 col2\" >70</td>\n",
              "    </tr>\n",
              "    <tr>\n",
              "      <td id=\"T_f3799_row6_col0\" class=\"data row6 col0\" >Sania</td>\n",
              "      <td id=\"T_f3799_row6_col1\" class=\"data row6 col1\" >Mirza</td>\n",
              "      <td id=\"T_f3799_row6_col2\" class=\"data row6 col2\" >30</td>\n",
              "    </tr>\n",
              "  </tbody>\n",
              "</table>\n"
            ]
          },
          "metadata": {},
          "execution_count": 24
        }
      ]
    },
    {
      "cell_type": "code",
      "source": [
        "runSelect(\"select firstname, lastname, salary from empl where firstname in ('Madhuri','Shahrukh','Virender')\")"
      ],
      "metadata": {
        "colab": {
          "base_uri": "https://localhost:8080/",
          "height": 143
        },
        "id": "9qTEO-OuiN3A",
        "outputId": "531397e3-4321-4909-ce85-a72417fdb606"
      },
      "execution_count": 25,
      "outputs": [
        {
          "output_type": "execute_result",
          "data": {
            "text/plain": [
              "<pandas.io.formats.style.Styler at 0x7bb9954f0fa0>"
            ],
            "text/html": [
              "<style type=\"text/css\">\n",
              "</style>\n",
              "<table id=\"T_4b6f0\" class=\"dataframe\">\n",
              "  <thead>\n",
              "    <tr>\n",
              "      <th id=\"T_4b6f0_level0_col0\" class=\"col_heading level0 col0\" >firstname</th>\n",
              "      <th id=\"T_4b6f0_level0_col1\" class=\"col_heading level0 col1\" >lastname</th>\n",
              "      <th id=\"T_4b6f0_level0_col2\" class=\"col_heading level0 col2\" >salary</th>\n",
              "    </tr>\n",
              "  </thead>\n",
              "  <tbody>\n",
              "    <tr>\n",
              "      <td id=\"T_4b6f0_row0_col0\" class=\"data row0 col0\" >Madhuri</td>\n",
              "      <td id=\"T_4b6f0_row0_col1\" class=\"data row0 col1\" >Dikshit</td>\n",
              "      <td id=\"T_4b6f0_row0_col2\" class=\"data row0 col2\" >10000</td>\n",
              "    </tr>\n",
              "    <tr>\n",
              "      <td id=\"T_4b6f0_row1_col0\" class=\"data row1 col0\" >Shahrukh</td>\n",
              "      <td id=\"T_4b6f0_row1_col1\" class=\"data row1 col1\" >Khan</td>\n",
              "      <td id=\"T_4b6f0_row1_col2\" class=\"data row1 col2\" >30000</td>\n",
              "    </tr>\n",
              "    <tr>\n",
              "      <td id=\"T_4b6f0_row2_col0\" class=\"data row2 col0\" >Virender</td>\n",
              "      <td id=\"T_4b6f0_row2_col1\" class=\"data row2 col1\" >Sehwag</td>\n",
              "      <td id=\"T_4b6f0_row2_col2\" class=\"data row2 col2\" >15000</td>\n",
              "    </tr>\n",
              "  </tbody>\n",
              "</table>\n"
            ]
          },
          "metadata": {},
          "execution_count": 25
        }
      ]
    },
    {
      "cell_type": "markdown",
      "source": [
        "## Order by"
      ],
      "metadata": {
        "id": "vlOCT_zAkzMb"
      }
    },
    {
      "cell_type": "code",
      "source": [
        "runSelect(\"select firstname, lastname, joindate from empl where firstname in ('Madhuri','Shahrukh','Virender') order by joindate\")"
      ],
      "metadata": {
        "colab": {
          "base_uri": "https://localhost:8080/",
          "height": 143
        },
        "id": "WidoGzLVk1in",
        "outputId": "f464ae93-cafc-45c8-b8f5-ce55634d328f"
      },
      "execution_count": 26,
      "outputs": [
        {
          "output_type": "execute_result",
          "data": {
            "text/plain": [
              "<pandas.io.formats.style.Styler at 0x7bb964fb8640>"
            ],
            "text/html": [
              "<style type=\"text/css\">\n",
              "</style>\n",
              "<table id=\"T_e26d9\" class=\"dataframe\">\n",
              "  <thead>\n",
              "    <tr>\n",
              "      <th id=\"T_e26d9_level0_col0\" class=\"col_heading level0 col0\" >firstname</th>\n",
              "      <th id=\"T_e26d9_level0_col1\" class=\"col_heading level0 col1\" >lastname</th>\n",
              "      <th id=\"T_e26d9_level0_col2\" class=\"col_heading level0 col2\" >joindate</th>\n",
              "    </tr>\n",
              "  </thead>\n",
              "  <tbody>\n",
              "    <tr>\n",
              "      <td id=\"T_e26d9_row0_col0\" class=\"data row0 col0\" >Madhuri</td>\n",
              "      <td id=\"T_e26d9_row0_col1\" class=\"data row0 col1\" >Dikshit</td>\n",
              "      <td id=\"T_e26d9_row0_col2\" class=\"data row0 col2\" >2002-04-04</td>\n",
              "    </tr>\n",
              "    <tr>\n",
              "      <td id=\"T_e26d9_row1_col0\" class=\"data row1 col0\" >Shahrukh</td>\n",
              "      <td id=\"T_e26d9_row1_col1\" class=\"data row1 col1\" >Khan</td>\n",
              "      <td id=\"T_e26d9_row1_col2\" class=\"data row1 col2\" >2004-01-03</td>\n",
              "    </tr>\n",
              "    <tr>\n",
              "      <td id=\"T_e26d9_row2_col0\" class=\"data row2 col0\" >Virender</td>\n",
              "      <td id=\"T_e26d9_row2_col1\" class=\"data row2 col1\" >Sehwag</td>\n",
              "      <td id=\"T_e26d9_row2_col2\" class=\"data row2 col2\" >2005-01-02</td>\n",
              "    </tr>\n",
              "  </tbody>\n",
              "</table>\n"
            ]
          },
          "metadata": {},
          "execution_count": 26
        }
      ]
    },
    {
      "cell_type": "code",
      "source": [
        "runSelect(\"select firstname, lastname, jobdesc, salary, deptid from empl where deptid = '10' order by salary desc\")"
      ],
      "metadata": {
        "colab": {
          "base_uri": "https://localhost:8080/",
          "height": 143
        },
        "id": "Iq_7jWr-lRlO",
        "outputId": "16b9f359-e9f0-42c3-db1d-2eb7d93e1d19"
      },
      "execution_count": 27,
      "outputs": [
        {
          "output_type": "execute_result",
          "data": {
            "text/plain": [
              "<pandas.io.formats.style.Styler at 0x7bb9650e8070>"
            ],
            "text/html": [
              "<style type=\"text/css\">\n",
              "</style>\n",
              "<table id=\"T_9fda1\" class=\"dataframe\">\n",
              "  <thead>\n",
              "    <tr>\n",
              "      <th id=\"T_9fda1_level0_col0\" class=\"col_heading level0 col0\" >firstname</th>\n",
              "      <th id=\"T_9fda1_level0_col1\" class=\"col_heading level0 col1\" >lastname</th>\n",
              "      <th id=\"T_9fda1_level0_col2\" class=\"col_heading level0 col2\" >jobdesc</th>\n",
              "      <th id=\"T_9fda1_level0_col3\" class=\"col_heading level0 col3\" >salary</th>\n",
              "      <th id=\"T_9fda1_level0_col4\" class=\"col_heading level0 col4\" >deptid</th>\n",
              "    </tr>\n",
              "  </thead>\n",
              "  <tbody>\n",
              "    <tr>\n",
              "      <td id=\"T_9fda1_row0_col0\" class=\"data row0 col0\" >Rekha</td>\n",
              "      <td id=\"T_9fda1_row0_col1\" class=\"data row0 col1\" >Ganesan</td>\n",
              "      <td id=\"T_9fda1_row0_col2\" class=\"data row0 col2\" >Director</td>\n",
              "      <td id=\"T_9fda1_row0_col3\" class=\"data row0 col3\" >60000</td>\n",
              "      <td id=\"T_9fda1_row0_col4\" class=\"data row0 col4\" >10</td>\n",
              "    </tr>\n",
              "    <tr>\n",
              "      <td id=\"T_9fda1_row1_col0\" class=\"data row1 col0\" >Amitabh</td>\n",
              "      <td id=\"T_9fda1_row1_col1\" class=\"data row1 col1\" >Bacchan</td>\n",
              "      <td id=\"T_9fda1_row1_col2\" class=\"data row1 col2\" >Executive</td>\n",
              "      <td id=\"T_9fda1_row1_col3\" class=\"data row1 col3\" >50000</td>\n",
              "      <td id=\"T_9fda1_row1_col4\" class=\"data row1 col4\" >10</td>\n",
              "    </tr>\n",
              "    <tr>\n",
              "      <td id=\"T_9fda1_row2_col0\" class=\"data row2 col0\" >Narayan</td>\n",
              "      <td id=\"T_9fda1_row2_col1\" class=\"data row2 col1\" >Karthikeyan</td>\n",
              "      <td id=\"T_9fda1_row2_col2\" class=\"data row2 col2\" >Secretary</td>\n",
              "      <td id=\"T_9fda1_row2_col3\" class=\"data row2 col3\" >40000</td>\n",
              "      <td id=\"T_9fda1_row2_col4\" class=\"data row2 col4\" >10</td>\n",
              "    </tr>\n",
              "  </tbody>\n",
              "</table>\n"
            ]
          },
          "metadata": {},
          "execution_count": 27
        }
      ]
    },
    {
      "cell_type": "markdown",
      "source": [
        "## Logical AND | OR"
      ],
      "metadata": {
        "id": "-JDEmZtsm0o1"
      }
    },
    {
      "cell_type": "code",
      "source": [
        "runSelect(\"select lastname, jobdesc, salary, deptid from empl where deptid = '20'\")"
      ],
      "metadata": {
        "colab": {
          "base_uri": "https://localhost:8080/",
          "height": 143
        },
        "id": "rli0DBhIm54M",
        "outputId": "065350ec-5b53-418c-cb19-6c35db350409"
      },
      "execution_count": 28,
      "outputs": [
        {
          "output_type": "execute_result",
          "data": {
            "text/plain": [
              "<pandas.io.formats.style.Styler at 0x7bb9650ea560>"
            ],
            "text/html": [
              "<style type=\"text/css\">\n",
              "</style>\n",
              "<table id=\"T_84d78\" class=\"dataframe\">\n",
              "  <thead>\n",
              "    <tr>\n",
              "      <th id=\"T_84d78_level0_col0\" class=\"col_heading level0 col0\" >lastname</th>\n",
              "      <th id=\"T_84d78_level0_col1\" class=\"col_heading level0 col1\" >jobdesc</th>\n",
              "      <th id=\"T_84d78_level0_col2\" class=\"col_heading level0 col2\" >salary</th>\n",
              "      <th id=\"T_84d78_level0_col3\" class=\"col_heading level0 col3\" >deptid</th>\n",
              "    </tr>\n",
              "  </thead>\n",
              "  <tbody>\n",
              "    <tr>\n",
              "      <td id=\"T_84d78_row0_col0\" class=\"data row0 col0\" >Dikshit</td>\n",
              "      <td id=\"T_84d78_row0_col1\" class=\"data row0 col1\" >Clerk</td>\n",
              "      <td id=\"T_84d78_row0_col2\" class=\"data row0 col2\" >10000</td>\n",
              "      <td id=\"T_84d78_row0_col3\" class=\"data row0 col3\" >20</td>\n",
              "    </tr>\n",
              "    <tr>\n",
              "      <td id=\"T_84d78_row1_col0\" class=\"data row1 col0\" >Khan</td>\n",
              "      <td id=\"T_84d78_row1_col1\" class=\"data row1 col1\" >Manager</td>\n",
              "      <td id=\"T_84d78_row1_col2\" class=\"data row1 col2\" >30000</td>\n",
              "      <td id=\"T_84d78_row1_col3\" class=\"data row1 col3\" >20</td>\n",
              "    </tr>\n",
              "    <tr>\n",
              "      <td id=\"T_84d78_row2_col0\" class=\"data row2 col0\" >Sehwag</td>\n",
              "      <td id=\"T_84d78_row2_col1\" class=\"data row2 col1\" >Cus_Rep</td>\n",
              "      <td id=\"T_84d78_row2_col2\" class=\"data row2 col2\" >15000</td>\n",
              "      <td id=\"T_84d78_row2_col3\" class=\"data row2 col3\" >20</td>\n",
              "    </tr>\n",
              "  </tbody>\n",
              "</table>\n"
            ]
          },
          "metadata": {},
          "execution_count": 28
        }
      ]
    },
    {
      "cell_type": "code",
      "source": [
        "runSelect(\"select lastname, jobdesc, salary, deptid from empl where deptid = '20' and salary > 10000\")"
      ],
      "metadata": {
        "colab": {
          "base_uri": "https://localhost:8080/",
          "height": 112
        },
        "id": "wHIJoUGqnuwa",
        "outputId": "afc0bea9-a450-4dcd-e285-af1b973a3078"
      },
      "execution_count": 29,
      "outputs": [
        {
          "output_type": "execute_result",
          "data": {
            "text/plain": [
              "<pandas.io.formats.style.Styler at 0x7bb9650ea410>"
            ],
            "text/html": [
              "<style type=\"text/css\">\n",
              "</style>\n",
              "<table id=\"T_4957f\" class=\"dataframe\">\n",
              "  <thead>\n",
              "    <tr>\n",
              "      <th id=\"T_4957f_level0_col0\" class=\"col_heading level0 col0\" >lastname</th>\n",
              "      <th id=\"T_4957f_level0_col1\" class=\"col_heading level0 col1\" >jobdesc</th>\n",
              "      <th id=\"T_4957f_level0_col2\" class=\"col_heading level0 col2\" >salary</th>\n",
              "      <th id=\"T_4957f_level0_col3\" class=\"col_heading level0 col3\" >deptid</th>\n",
              "    </tr>\n",
              "  </thead>\n",
              "  <tbody>\n",
              "    <tr>\n",
              "      <td id=\"T_4957f_row0_col0\" class=\"data row0 col0\" >Khan</td>\n",
              "      <td id=\"T_4957f_row0_col1\" class=\"data row0 col1\" >Manager</td>\n",
              "      <td id=\"T_4957f_row0_col2\" class=\"data row0 col2\" >30000</td>\n",
              "      <td id=\"T_4957f_row0_col3\" class=\"data row0 col3\" >20</td>\n",
              "    </tr>\n",
              "    <tr>\n",
              "      <td id=\"T_4957f_row1_col0\" class=\"data row1 col0\" >Sehwag</td>\n",
              "      <td id=\"T_4957f_row1_col1\" class=\"data row1 col1\" >Cus_Rep</td>\n",
              "      <td id=\"T_4957f_row1_col2\" class=\"data row1 col2\" >15000</td>\n",
              "      <td id=\"T_4957f_row1_col3\" class=\"data row1 col3\" >20</td>\n",
              "    </tr>\n",
              "  </tbody>\n",
              "</table>\n"
            ]
          },
          "metadata": {},
          "execution_count": 29
        }
      ]
    },
    {
      "cell_type": "code",
      "source": [
        "runSelect(\"select lastname, jobdesc, salary, deptid from empl where deptid = '20' and salary > 10000 and jobdesc = 'Clerk'\")"
      ],
      "metadata": {
        "colab": {
          "base_uri": "https://localhost:8080/"
        },
        "id": "fnB8p8-EnzH2",
        "outputId": "c4fed994-6769-4575-a7a1-984161cd328a"
      },
      "execution_count": 30,
      "outputs": [
        {
          "output_type": "stream",
          "name": "stdout",
          "text": [
            "no records found\n"
          ]
        }
      ]
    },
    {
      "cell_type": "code",
      "source": [
        "runSelect(\"select lastname, jobdesc, deptid from empl where deptid = '70'\")"
      ],
      "metadata": {
        "colab": {
          "base_uri": "https://localhost:8080/",
          "height": 81
        },
        "id": "uEKUIgOMqtLw",
        "outputId": "fb73ba20-3765-4e06-b885-cc53368184d7"
      },
      "execution_count": 31,
      "outputs": [
        {
          "output_type": "execute_result",
          "data": {
            "text/plain": [
              "<pandas.io.formats.style.Styler at 0x7bb9650e9c90>"
            ],
            "text/html": [
              "<style type=\"text/css\">\n",
              "</style>\n",
              "<table id=\"T_ee59a\" class=\"dataframe\">\n",
              "  <thead>\n",
              "    <tr>\n",
              "      <th id=\"T_ee59a_level0_col0\" class=\"col_heading level0 col0\" >lastname</th>\n",
              "      <th id=\"T_ee59a_level0_col1\" class=\"col_heading level0 col1\" >jobdesc</th>\n",
              "      <th id=\"T_ee59a_level0_col2\" class=\"col_heading level0 col2\" >deptid</th>\n",
              "    </tr>\n",
              "  </thead>\n",
              "  <tbody>\n",
              "    <tr>\n",
              "      <td id=\"T_ee59a_row0_col0\" class=\"data row0 col0\" >Sunil</td>\n",
              "      <td id=\"T_ee59a_row0_col1\" class=\"data row0 col1\" >Dy Manager</td>\n",
              "      <td id=\"T_ee59a_row0_col2\" class=\"data row0 col2\" >70</td>\n",
              "    </tr>\n",
              "  </tbody>\n",
              "</table>\n"
            ]
          },
          "metadata": {},
          "execution_count": 31
        }
      ]
    },
    {
      "cell_type": "code",
      "source": [
        "runSelect(\"select lastname, jobdesc, deptid from empl where deptid = '70' or jobdesc like '%Manager'\")"
      ],
      "metadata": {
        "colab": {
          "base_uri": "https://localhost:8080/",
          "height": 175
        },
        "id": "Ne0eLRV3qyTn",
        "outputId": "b9f54933-2dc4-4907-88a3-e71d83e9c8a2"
      },
      "execution_count": 32,
      "outputs": [
        {
          "output_type": "execute_result",
          "data": {
            "text/plain": [
              "<pandas.io.formats.style.Styler at 0x7bb9650e92a0>"
            ],
            "text/html": [
              "<style type=\"text/css\">\n",
              "</style>\n",
              "<table id=\"T_9b372\" class=\"dataframe\">\n",
              "  <thead>\n",
              "    <tr>\n",
              "      <th id=\"T_9b372_level0_col0\" class=\"col_heading level0 col0\" >lastname</th>\n",
              "      <th id=\"T_9b372_level0_col1\" class=\"col_heading level0 col1\" >jobdesc</th>\n",
              "      <th id=\"T_9b372_level0_col2\" class=\"col_heading level0 col2\" >deptid</th>\n",
              "    </tr>\n",
              "  </thead>\n",
              "  <tbody>\n",
              "    <tr>\n",
              "      <td id=\"T_9b372_row0_col0\" class=\"data row0 col0\" >Mukherjee</td>\n",
              "      <td id=\"T_9b372_row0_col1\" class=\"data row0 col1\" >Manager</td>\n",
              "      <td id=\"T_9b372_row0_col2\" class=\"data row0 col2\" >40</td>\n",
              "    </tr>\n",
              "    <tr>\n",
              "      <td id=\"T_9b372_row1_col0\" class=\"data row1 col0\" >Khan</td>\n",
              "      <td id=\"T_9b372_row1_col1\" class=\"data row1 col1\" >Manager</td>\n",
              "      <td id=\"T_9b372_row1_col2\" class=\"data row1 col2\" >20</td>\n",
              "    </tr>\n",
              "    <tr>\n",
              "      <td id=\"T_9b372_row2_col0\" class=\"data row2 col0\" >Dravid</td>\n",
              "      <td id=\"T_9b372_row2_col1\" class=\"data row2 col1\" >Sr Manager</td>\n",
              "      <td id=\"T_9b372_row2_col2\" class=\"data row2 col2\" >30</td>\n",
              "    </tr>\n",
              "    <tr>\n",
              "      <td id=\"T_9b372_row3_col0\" class=\"data row3 col0\" >Sunil</td>\n",
              "      <td id=\"T_9b372_row3_col1\" class=\"data row3 col1\" >Dy Manager</td>\n",
              "      <td id=\"T_9b372_row3_col2\" class=\"data row3 col2\" >70</td>\n",
              "    </tr>\n",
              "  </tbody>\n",
              "</table>\n"
            ]
          },
          "metadata": {},
          "execution_count": 32
        }
      ]
    },
    {
      "cell_type": "code",
      "source": [
        "runSelect(\"select lastname, jobdesc, deptid from empl where deptid = '70' or jobdesc like '%Manager' or lastname = 'Dikshit'\")"
      ],
      "metadata": {
        "colab": {
          "base_uri": "https://localhost:8080/",
          "height": 206
        },
        "id": "aR3eNz7xq8Xo",
        "outputId": "44b244f6-34ce-4d89-c981-9d6d88c03d75"
      },
      "execution_count": 33,
      "outputs": [
        {
          "output_type": "execute_result",
          "data": {
            "text/plain": [
              "<pandas.io.formats.style.Styler at 0x7bb9650e8160>"
            ],
            "text/html": [
              "<style type=\"text/css\">\n",
              "</style>\n",
              "<table id=\"T_4db6c\" class=\"dataframe\">\n",
              "  <thead>\n",
              "    <tr>\n",
              "      <th id=\"T_4db6c_level0_col0\" class=\"col_heading level0 col0\" >lastname</th>\n",
              "      <th id=\"T_4db6c_level0_col1\" class=\"col_heading level0 col1\" >jobdesc</th>\n",
              "      <th id=\"T_4db6c_level0_col2\" class=\"col_heading level0 col2\" >deptid</th>\n",
              "    </tr>\n",
              "  </thead>\n",
              "  <tbody>\n",
              "    <tr>\n",
              "      <td id=\"T_4db6c_row0_col0\" class=\"data row0 col0\" >Mukherjee</td>\n",
              "      <td id=\"T_4db6c_row0_col1\" class=\"data row0 col1\" >Manager</td>\n",
              "      <td id=\"T_4db6c_row0_col2\" class=\"data row0 col2\" >40</td>\n",
              "    </tr>\n",
              "    <tr>\n",
              "      <td id=\"T_4db6c_row1_col0\" class=\"data row1 col0\" >Dikshit</td>\n",
              "      <td id=\"T_4db6c_row1_col1\" class=\"data row1 col1\" >Clerk</td>\n",
              "      <td id=\"T_4db6c_row1_col2\" class=\"data row1 col2\" >20</td>\n",
              "    </tr>\n",
              "    <tr>\n",
              "      <td id=\"T_4db6c_row2_col0\" class=\"data row2 col0\" >Khan</td>\n",
              "      <td id=\"T_4db6c_row2_col1\" class=\"data row2 col1\" >Manager</td>\n",
              "      <td id=\"T_4db6c_row2_col2\" class=\"data row2 col2\" >20</td>\n",
              "    </tr>\n",
              "    <tr>\n",
              "      <td id=\"T_4db6c_row3_col0\" class=\"data row3 col0\" >Dravid</td>\n",
              "      <td id=\"T_4db6c_row3_col1\" class=\"data row3 col1\" >Sr Manager</td>\n",
              "      <td id=\"T_4db6c_row3_col2\" class=\"data row3 col2\" >30</td>\n",
              "    </tr>\n",
              "    <tr>\n",
              "      <td id=\"T_4db6c_row4_col0\" class=\"data row4 col0\" >Sunil</td>\n",
              "      <td id=\"T_4db6c_row4_col1\" class=\"data row4 col1\" >Dy Manager</td>\n",
              "      <td id=\"T_4db6c_row4_col2\" class=\"data row4 col2\" >70</td>\n",
              "    </tr>\n",
              "  </tbody>\n",
              "</table>\n"
            ]
          },
          "metadata": {},
          "execution_count": 33
        }
      ]
    },
    {
      "cell_type": "code",
      "source": [
        "runSelect(\"select lastname, jobdesc, salary from empl where jobdesc = 'Cus_Rep' or jobdesc = 'Clerk' and salary < 16000\")"
      ],
      "metadata": {
        "colab": {
          "base_uri": "https://localhost:8080/",
          "height": 237
        },
        "id": "Ov0HErC0txm4",
        "outputId": "ac023a8b-dad2-4563-a71c-253c77999f7b"
      },
      "execution_count": 34,
      "outputs": [
        {
          "output_type": "execute_result",
          "data": {
            "text/plain": [
              "<pandas.io.formats.style.Styler at 0x7bb9650eaf20>"
            ],
            "text/html": [
              "<style type=\"text/css\">\n",
              "</style>\n",
              "<table id=\"T_6d234\" class=\"dataframe\">\n",
              "  <thead>\n",
              "    <tr>\n",
              "      <th id=\"T_6d234_level0_col0\" class=\"col_heading level0 col0\" >lastname</th>\n",
              "      <th id=\"T_6d234_level0_col1\" class=\"col_heading level0 col1\" >jobdesc</th>\n",
              "      <th id=\"T_6d234_level0_col2\" class=\"col_heading level0 col2\" >salary</th>\n",
              "    </tr>\n",
              "  </thead>\n",
              "  <tbody>\n",
              "    <tr>\n",
              "      <td id=\"T_6d234_row0_col0\" class=\"data row0 col0\" >Dikshit</td>\n",
              "      <td id=\"T_6d234_row0_col1\" class=\"data row0 col1\" >Clerk</td>\n",
              "      <td id=\"T_6d234_row0_col2\" class=\"data row0 col2\" >10000</td>\n",
              "    </tr>\n",
              "    <tr>\n",
              "      <td id=\"T_6d234_row1_col0\" class=\"data row1 col0\" >Sehwag</td>\n",
              "      <td id=\"T_6d234_row1_col1\" class=\"data row1 col1\" >Cus_Rep</td>\n",
              "      <td id=\"T_6d234_row1_col2\" class=\"data row1 col2\" >15000</td>\n",
              "    </tr>\n",
              "    <tr>\n",
              "      <td id=\"T_6d234_row2_col0\" class=\"data row2 col0\" >Dhoni</td>\n",
              "      <td id=\"T_6d234_row2_col1\" class=\"data row2 col1\" >Clerk</td>\n",
              "      <td id=\"T_6d234_row2_col2\" class=\"data row2 col2\" >9000</td>\n",
              "    </tr>\n",
              "    <tr>\n",
              "      <td id=\"T_6d234_row3_col0\" class=\"data row3 col0\" >Dalmia</td>\n",
              "      <td id=\"T_6d234_row3_col1\" class=\"data row3 col1\" >Clerk</td>\n",
              "      <td id=\"T_6d234_row3_col2\" class=\"data row3 col2\" >12000</td>\n",
              "    </tr>\n",
              "    <tr>\n",
              "      <td id=\"T_6d234_row4_col0\" class=\"data row4 col0\" >Ganguly</td>\n",
              "      <td id=\"T_6d234_row4_col1\" class=\"data row4 col1\" >Cus_Rep</td>\n",
              "      <td id=\"T_6d234_row4_col2\" class=\"data row4 col2\" >20000</td>\n",
              "    </tr>\n",
              "    <tr>\n",
              "      <td id=\"T_6d234_row5_col0\" class=\"data row5 col0\" >Mirza</td>\n",
              "      <td id=\"T_6d234_row5_col1\" class=\"data row5 col1\" >Cus_Rep</td>\n",
              "      <td id=\"T_6d234_row5_col2\" class=\"data row5 col2\" >25000</td>\n",
              "    </tr>\n",
              "  </tbody>\n",
              "</table>\n"
            ]
          },
          "metadata": {},
          "execution_count": 34
        }
      ]
    },
    {
      "cell_type": "code",
      "source": [
        "runSelect(\"select lastname, jobdesc, salary from empl where (jobdesc = 'Cus_Rep' or jobdesc = 'Clerk') and salary < 16000\")"
      ],
      "metadata": {
        "colab": {
          "base_uri": "https://localhost:8080/",
          "height": 175
        },
        "id": "g7hbzjdxuOt6",
        "outputId": "dfdb09ed-4e32-4e31-ae5e-346ce6005b33"
      },
      "execution_count": 35,
      "outputs": [
        {
          "output_type": "execute_result",
          "data": {
            "text/plain": [
              "<pandas.io.formats.style.Styler at 0x7bb9650eb6d0>"
            ],
            "text/html": [
              "<style type=\"text/css\">\n",
              "</style>\n",
              "<table id=\"T_3d8a6\" class=\"dataframe\">\n",
              "  <thead>\n",
              "    <tr>\n",
              "      <th id=\"T_3d8a6_level0_col0\" class=\"col_heading level0 col0\" >lastname</th>\n",
              "      <th id=\"T_3d8a6_level0_col1\" class=\"col_heading level0 col1\" >jobdesc</th>\n",
              "      <th id=\"T_3d8a6_level0_col2\" class=\"col_heading level0 col2\" >salary</th>\n",
              "    </tr>\n",
              "  </thead>\n",
              "  <tbody>\n",
              "    <tr>\n",
              "      <td id=\"T_3d8a6_row0_col0\" class=\"data row0 col0\" >Dikshit</td>\n",
              "      <td id=\"T_3d8a6_row0_col1\" class=\"data row0 col1\" >Clerk</td>\n",
              "      <td id=\"T_3d8a6_row0_col2\" class=\"data row0 col2\" >10000</td>\n",
              "    </tr>\n",
              "    <tr>\n",
              "      <td id=\"T_3d8a6_row1_col0\" class=\"data row1 col0\" >Sehwag</td>\n",
              "      <td id=\"T_3d8a6_row1_col1\" class=\"data row1 col1\" >Cus_Rep</td>\n",
              "      <td id=\"T_3d8a6_row1_col2\" class=\"data row1 col2\" >15000</td>\n",
              "    </tr>\n",
              "    <tr>\n",
              "      <td id=\"T_3d8a6_row2_col0\" class=\"data row2 col0\" >Dhoni</td>\n",
              "      <td id=\"T_3d8a6_row2_col1\" class=\"data row2 col1\" >Clerk</td>\n",
              "      <td id=\"T_3d8a6_row2_col2\" class=\"data row2 col2\" >9000</td>\n",
              "    </tr>\n",
              "    <tr>\n",
              "      <td id=\"T_3d8a6_row3_col0\" class=\"data row3 col0\" >Dalmia</td>\n",
              "      <td id=\"T_3d8a6_row3_col1\" class=\"data row3 col1\" >Clerk</td>\n",
              "      <td id=\"T_3d8a6_row3_col2\" class=\"data row3 col2\" >12000</td>\n",
              "    </tr>\n",
              "  </tbody>\n",
              "</table>\n"
            ]
          },
          "metadata": {},
          "execution_count": 35
        }
      ]
    },
    {
      "cell_type": "markdown",
      "source": [
        "# Single Row Functions"
      ],
      "metadata": {
        "id": "ND-8LYQcxsG2"
      }
    },
    {
      "cell_type": "code",
      "source": [
        "runSelect(\"select lastname, deptid, salary, comm, salary+salary*comm payout from empl where deptid = '20'\")"
      ],
      "metadata": {
        "colab": {
          "base_uri": "https://localhost:8080/",
          "height": 143
        },
        "id": "s71weE_hyDwf",
        "outputId": "eb15fbed-7b74-442f-cea7-c9dd53689e31"
      },
      "execution_count": 36,
      "outputs": [
        {
          "output_type": "execute_result",
          "data": {
            "text/plain": [
              "<pandas.io.formats.style.Styler at 0x7bb9650e8c10>"
            ],
            "text/html": [
              "<style type=\"text/css\">\n",
              "</style>\n",
              "<table id=\"T_0dddf\" class=\"dataframe\">\n",
              "  <thead>\n",
              "    <tr>\n",
              "      <th id=\"T_0dddf_level0_col0\" class=\"col_heading level0 col0\" >lastname</th>\n",
              "      <th id=\"T_0dddf_level0_col1\" class=\"col_heading level0 col1\" >deptid</th>\n",
              "      <th id=\"T_0dddf_level0_col2\" class=\"col_heading level0 col2\" >salary</th>\n",
              "      <th id=\"T_0dddf_level0_col3\" class=\"col_heading level0 col3\" >comm</th>\n",
              "      <th id=\"T_0dddf_level0_col4\" class=\"col_heading level0 col4\" >payout</th>\n",
              "    </tr>\n",
              "  </thead>\n",
              "  <tbody>\n",
              "    <tr>\n",
              "      <td id=\"T_0dddf_row0_col0\" class=\"data row0 col0\" >Dikshit</td>\n",
              "      <td id=\"T_0dddf_row0_col1\" class=\"data row0 col1\" >20</td>\n",
              "      <td id=\"T_0dddf_row0_col2\" class=\"data row0 col2\" >10000</td>\n",
              "      <td id=\"T_0dddf_row0_col3\" class=\"data row0 col3\" >0.02</td>\n",
              "      <td id=\"T_0dddf_row0_col4\" class=\"data row0 col4\" >10200.00</td>\n",
              "    </tr>\n",
              "    <tr>\n",
              "      <td id=\"T_0dddf_row1_col0\" class=\"data row1 col0\" >Khan</td>\n",
              "      <td id=\"T_0dddf_row1_col1\" class=\"data row1 col1\" >20</td>\n",
              "      <td id=\"T_0dddf_row1_col2\" class=\"data row1 col2\" >30000</td>\n",
              "      <td id=\"T_0dddf_row1_col3\" class=\"data row1 col3\" >0.07</td>\n",
              "      <td id=\"T_0dddf_row1_col4\" class=\"data row1 col4\" >32100.00</td>\n",
              "    </tr>\n",
              "    <tr>\n",
              "      <td id=\"T_0dddf_row2_col0\" class=\"data row2 col0\" >Sehwag</td>\n",
              "      <td id=\"T_0dddf_row2_col1\" class=\"data row2 col1\" >20</td>\n",
              "      <td id=\"T_0dddf_row2_col2\" class=\"data row2 col2\" >15000</td>\n",
              "      <td id=\"T_0dddf_row2_col3\" class=\"data row2 col3\" >0.05</td>\n",
              "      <td id=\"T_0dddf_row2_col4\" class=\"data row2 col4\" >15750.00</td>\n",
              "    </tr>\n",
              "  </tbody>\n",
              "</table>\n"
            ]
          },
          "metadata": {},
          "execution_count": 36
        }
      ]
    },
    {
      "cell_type": "code",
      "source": [
        "runSelect(\"select lastname, firstname, deptid, substring(firstname,1,3) nick from empl where deptid = '20'\")"
      ],
      "metadata": {
        "colab": {
          "base_uri": "https://localhost:8080/",
          "height": 143
        },
        "id": "I3rkoZrYyb_P",
        "outputId": "b080d1e3-b3ae-4f1e-ffd1-aa9ee1e5c7ae"
      },
      "execution_count": 37,
      "outputs": [
        {
          "output_type": "execute_result",
          "data": {
            "text/plain": [
              "<pandas.io.formats.style.Styler at 0x7bb964f9d5a0>"
            ],
            "text/html": [
              "<style type=\"text/css\">\n",
              "</style>\n",
              "<table id=\"T_eff41\" class=\"dataframe\">\n",
              "  <thead>\n",
              "    <tr>\n",
              "      <th id=\"T_eff41_level0_col0\" class=\"col_heading level0 col0\" >lastname</th>\n",
              "      <th id=\"T_eff41_level0_col1\" class=\"col_heading level0 col1\" >firstname</th>\n",
              "      <th id=\"T_eff41_level0_col2\" class=\"col_heading level0 col2\" >deptid</th>\n",
              "      <th id=\"T_eff41_level0_col3\" class=\"col_heading level0 col3\" >nick</th>\n",
              "    </tr>\n",
              "  </thead>\n",
              "  <tbody>\n",
              "    <tr>\n",
              "      <td id=\"T_eff41_row0_col0\" class=\"data row0 col0\" >Dikshit</td>\n",
              "      <td id=\"T_eff41_row0_col1\" class=\"data row0 col1\" >Madhuri</td>\n",
              "      <td id=\"T_eff41_row0_col2\" class=\"data row0 col2\" >20</td>\n",
              "      <td id=\"T_eff41_row0_col3\" class=\"data row0 col3\" >Mad</td>\n",
              "    </tr>\n",
              "    <tr>\n",
              "      <td id=\"T_eff41_row1_col0\" class=\"data row1 col0\" >Khan</td>\n",
              "      <td id=\"T_eff41_row1_col1\" class=\"data row1 col1\" >Shahrukh</td>\n",
              "      <td id=\"T_eff41_row1_col2\" class=\"data row1 col2\" >20</td>\n",
              "      <td id=\"T_eff41_row1_col3\" class=\"data row1 col3\" >Sha</td>\n",
              "    </tr>\n",
              "    <tr>\n",
              "      <td id=\"T_eff41_row2_col0\" class=\"data row2 col0\" >Sehwag</td>\n",
              "      <td id=\"T_eff41_row2_col1\" class=\"data row2 col1\" >Virender</td>\n",
              "      <td id=\"T_eff41_row2_col2\" class=\"data row2 col2\" >20</td>\n",
              "      <td id=\"T_eff41_row2_col3\" class=\"data row2 col3\" >Vir</td>\n",
              "    </tr>\n",
              "  </tbody>\n",
              "</table>\n"
            ]
          },
          "metadata": {},
          "execution_count": 37
        }
      ]
    },
    {
      "cell_type": "code",
      "source": [
        "runSelect(\"select lastname, firstname, deptid, concat('\\\"',substring(firstname,2,3),'\\\" ',lastname) nick from empl where deptid = '20'\")"
      ],
      "metadata": {
        "colab": {
          "base_uri": "https://localhost:8080/",
          "height": 143
        },
        "id": "xNQl1KpSzIQc",
        "outputId": "255ab6f0-223b-4e5b-b9d6-471cf8f5a161"
      },
      "execution_count": 38,
      "outputs": [
        {
          "output_type": "execute_result",
          "data": {
            "text/plain": [
              "<pandas.io.formats.style.Styler at 0x7bb964f9c520>"
            ],
            "text/html": [
              "<style type=\"text/css\">\n",
              "</style>\n",
              "<table id=\"T_85d0e\" class=\"dataframe\">\n",
              "  <thead>\n",
              "    <tr>\n",
              "      <th id=\"T_85d0e_level0_col0\" class=\"col_heading level0 col0\" >lastname</th>\n",
              "      <th id=\"T_85d0e_level0_col1\" class=\"col_heading level0 col1\" >firstname</th>\n",
              "      <th id=\"T_85d0e_level0_col2\" class=\"col_heading level0 col2\" >deptid</th>\n",
              "      <th id=\"T_85d0e_level0_col3\" class=\"col_heading level0 col3\" >nick</th>\n",
              "    </tr>\n",
              "  </thead>\n",
              "  <tbody>\n",
              "    <tr>\n",
              "      <td id=\"T_85d0e_row0_col0\" class=\"data row0 col0\" >Dikshit</td>\n",
              "      <td id=\"T_85d0e_row0_col1\" class=\"data row0 col1\" >Madhuri</td>\n",
              "      <td id=\"T_85d0e_row0_col2\" class=\"data row0 col2\" >20</td>\n",
              "      <td id=\"T_85d0e_row0_col3\" class=\"data row0 col3\" >\"adh\" Dikshit</td>\n",
              "    </tr>\n",
              "    <tr>\n",
              "      <td id=\"T_85d0e_row1_col0\" class=\"data row1 col0\" >Khan</td>\n",
              "      <td id=\"T_85d0e_row1_col1\" class=\"data row1 col1\" >Shahrukh</td>\n",
              "      <td id=\"T_85d0e_row1_col2\" class=\"data row1 col2\" >20</td>\n",
              "      <td id=\"T_85d0e_row1_col3\" class=\"data row1 col3\" >\"hah\" Khan</td>\n",
              "    </tr>\n",
              "    <tr>\n",
              "      <td id=\"T_85d0e_row2_col0\" class=\"data row2 col0\" >Sehwag</td>\n",
              "      <td id=\"T_85d0e_row2_col1\" class=\"data row2 col1\" >Virender</td>\n",
              "      <td id=\"T_85d0e_row2_col2\" class=\"data row2 col2\" >20</td>\n",
              "      <td id=\"T_85d0e_row2_col3\" class=\"data row2 col3\" >\"ire\" Sehwag</td>\n",
              "    </tr>\n",
              "  </tbody>\n",
              "</table>\n"
            ]
          },
          "metadata": {},
          "execution_count": 38
        }
      ]
    },
    {
      "cell_type": "code",
      "source": [
        "runSelect(\"select LastName, Current_Date,JoinDate, to_char(JoinDate,'Day') JoinDay, to_char(JoinDate,'DD-mon-YY') JoinDate2, \\\n",
        "Current_Date-JoinDate DaysSince from Empl\")\n",
        "\n",
        "#https://blog.quest.com/exploring-postgres-date-formats-and-their-different-functions/\n"
      ],
      "metadata": {
        "id": "37Rjgkxz-BP0",
        "outputId": "4bfdd683-9c06-4b75-98b4-f813632ce441",
        "colab": {
          "base_uri": "https://localhost:8080/",
          "height": 457
        }
      },
      "execution_count": 39,
      "outputs": [
        {
          "output_type": "execute_result",
          "data": {
            "text/plain": [
              "<pandas.io.formats.style.Styler at 0x7bb9650e9270>"
            ],
            "text/html": [
              "<style type=\"text/css\">\n",
              "</style>\n",
              "<table id=\"T_5fdc6\" class=\"dataframe\">\n",
              "  <thead>\n",
              "    <tr>\n",
              "      <th id=\"T_5fdc6_level0_col0\" class=\"col_heading level0 col0\" >lastname</th>\n",
              "      <th id=\"T_5fdc6_level0_col1\" class=\"col_heading level0 col1\" >current_date</th>\n",
              "      <th id=\"T_5fdc6_level0_col2\" class=\"col_heading level0 col2\" >joindate</th>\n",
              "      <th id=\"T_5fdc6_level0_col3\" class=\"col_heading level0 col3\" >joinday</th>\n",
              "      <th id=\"T_5fdc6_level0_col4\" class=\"col_heading level0 col4\" >joindate2</th>\n",
              "      <th id=\"T_5fdc6_level0_col5\" class=\"col_heading level0 col5\" >dayssince</th>\n",
              "    </tr>\n",
              "  </thead>\n",
              "  <tbody>\n",
              "    <tr>\n",
              "      <td id=\"T_5fdc6_row0_col0\" class=\"data row0 col0\" >Bacchan</td>\n",
              "      <td id=\"T_5fdc6_row0_col1\" class=\"data row0 col1\" >2024-11-05</td>\n",
              "      <td id=\"T_5fdc6_row0_col2\" class=\"data row0 col2\" >2003-03-10</td>\n",
              "      <td id=\"T_5fdc6_row0_col3\" class=\"data row0 col3\" >Monday   </td>\n",
              "      <td id=\"T_5fdc6_row0_col4\" class=\"data row0 col4\" >10-mar-03</td>\n",
              "      <td id=\"T_5fdc6_row0_col5\" class=\"data row0 col5\" >7911</td>\n",
              "    </tr>\n",
              "    <tr>\n",
              "      <td id=\"T_5fdc6_row1_col0\" class=\"data row1 col0\" >Mukherjee</td>\n",
              "      <td id=\"T_5fdc6_row1_col1\" class=\"data row1 col1\" >2024-11-05</td>\n",
              "      <td id=\"T_5fdc6_row1_col2\" class=\"data row1 col2\" >2005-05-04</td>\n",
              "      <td id=\"T_5fdc6_row1_col3\" class=\"data row1 col3\" >Wednesday</td>\n",
              "      <td id=\"T_5fdc6_row1_col4\" class=\"data row1 col4\" >04-may-05</td>\n",
              "      <td id=\"T_5fdc6_row1_col5\" class=\"data row1 col5\" >7125</td>\n",
              "    </tr>\n",
              "    <tr>\n",
              "      <td id=\"T_5fdc6_row2_col0\" class=\"data row2 col0\" >Dikshit</td>\n",
              "      <td id=\"T_5fdc6_row2_col1\" class=\"data row2 col1\" >2024-11-05</td>\n",
              "      <td id=\"T_5fdc6_row2_col2\" class=\"data row2 col2\" >2002-04-04</td>\n",
              "      <td id=\"T_5fdc6_row2_col3\" class=\"data row2 col3\" >Thursday </td>\n",
              "      <td id=\"T_5fdc6_row2_col4\" class=\"data row2 col4\" >04-apr-02</td>\n",
              "      <td id=\"T_5fdc6_row2_col5\" class=\"data row2 col5\" >8251</td>\n",
              "    </tr>\n",
              "    <tr>\n",
              "      <td id=\"T_5fdc6_row3_col0\" class=\"data row3 col0\" >Khan</td>\n",
              "      <td id=\"T_5fdc6_row3_col1\" class=\"data row3 col1\" >2024-11-05</td>\n",
              "      <td id=\"T_5fdc6_row3_col2\" class=\"data row3 col2\" >2004-01-03</td>\n",
              "      <td id=\"T_5fdc6_row3_col3\" class=\"data row3 col3\" >Saturday </td>\n",
              "      <td id=\"T_5fdc6_row3_col4\" class=\"data row3 col4\" >03-jan-04</td>\n",
              "      <td id=\"T_5fdc6_row3_col5\" class=\"data row3 col5\" >7612</td>\n",
              "    </tr>\n",
              "    <tr>\n",
              "      <td id=\"T_5fdc6_row4_col0\" class=\"data row4 col0\" >Sehwag</td>\n",
              "      <td id=\"T_5fdc6_row4_col1\" class=\"data row4 col1\" >2024-11-05</td>\n",
              "      <td id=\"T_5fdc6_row4_col2\" class=\"data row4 col2\" >2005-01-02</td>\n",
              "      <td id=\"T_5fdc6_row4_col3\" class=\"data row4 col3\" >Sunday   </td>\n",
              "      <td id=\"T_5fdc6_row4_col4\" class=\"data row4 col4\" >02-jan-05</td>\n",
              "      <td id=\"T_5fdc6_row4_col5\" class=\"data row4 col5\" >7247</td>\n",
              "    </tr>\n",
              "    <tr>\n",
              "      <td id=\"T_5fdc6_row5_col0\" class=\"data row5 col0\" >Dhoni</td>\n",
              "      <td id=\"T_5fdc6_row5_col1\" class=\"data row5 col1\" >2024-11-05</td>\n",
              "      <td id=\"T_5fdc6_row5_col2\" class=\"data row5 col2\" >2004-10-09</td>\n",
              "      <td id=\"T_5fdc6_row5_col3\" class=\"data row5 col3\" >Saturday </td>\n",
              "      <td id=\"T_5fdc6_row5_col4\" class=\"data row5 col4\" >09-oct-04</td>\n",
              "      <td id=\"T_5fdc6_row5_col5\" class=\"data row5 col5\" >7332</td>\n",
              "    </tr>\n",
              "    <tr>\n",
              "      <td id=\"T_5fdc6_row6_col0\" class=\"data row6 col0\" >Dravid</td>\n",
              "      <td id=\"T_5fdc6_row6_col1\" class=\"data row6 col1\" >2024-11-05</td>\n",
              "      <td id=\"T_5fdc6_row6_col2\" class=\"data row6 col2\" >2000-06-04</td>\n",
              "      <td id=\"T_5fdc6_row6_col3\" class=\"data row6 col3\" >Sunday   </td>\n",
              "      <td id=\"T_5fdc6_row6_col4\" class=\"data row6 col4\" >04-jun-00</td>\n",
              "      <td id=\"T_5fdc6_row6_col5\" class=\"data row6 col5\" >8920</td>\n",
              "    </tr>\n",
              "    <tr>\n",
              "      <td id=\"T_5fdc6_row7_col0\" class=\"data row7 col0\" >Dalmia</td>\n",
              "      <td id=\"T_5fdc6_row7_col1\" class=\"data row7 col1\" >2024-11-05</td>\n",
              "      <td id=\"T_5fdc6_row7_col2\" class=\"data row7 col2\" >2001-07-01</td>\n",
              "      <td id=\"T_5fdc6_row7_col3\" class=\"data row7 col3\" >Sunday   </td>\n",
              "      <td id=\"T_5fdc6_row7_col4\" class=\"data row7 col4\" >01-jul-01</td>\n",
              "      <td id=\"T_5fdc6_row7_col5\" class=\"data row7 col5\" >8528</td>\n",
              "    </tr>\n",
              "    <tr>\n",
              "      <td id=\"T_5fdc6_row8_col0\" class=\"data row8 col0\" >Ganguly</td>\n",
              "      <td id=\"T_5fdc6_row8_col1\" class=\"data row8 col1\" >2024-11-05</td>\n",
              "      <td id=\"T_5fdc6_row8_col2\" class=\"data row8 col2\" >2002-01-01</td>\n",
              "      <td id=\"T_5fdc6_row8_col3\" class=\"data row8 col3\" >Tuesday  </td>\n",
              "      <td id=\"T_5fdc6_row8_col4\" class=\"data row8 col4\" >01-jan-02</td>\n",
              "      <td id=\"T_5fdc6_row8_col5\" class=\"data row8 col5\" >8344</td>\n",
              "    </tr>\n",
              "    <tr>\n",
              "      <td id=\"T_5fdc6_row9_col0\" class=\"data row9 col0\" >Ganesan</td>\n",
              "      <td id=\"T_5fdc6_row9_col1\" class=\"data row9 col1\" >2024-11-05</td>\n",
              "      <td id=\"T_5fdc6_row9_col2\" class=\"data row9 col2\" >2002-10-10</td>\n",
              "      <td id=\"T_5fdc6_row9_col3\" class=\"data row9 col3\" >Thursday </td>\n",
              "      <td id=\"T_5fdc6_row9_col4\" class=\"data row9 col4\" >10-oct-02</td>\n",
              "      <td id=\"T_5fdc6_row9_col5\" class=\"data row9 col5\" >8062</td>\n",
              "    </tr>\n",
              "    <tr>\n",
              "      <td id=\"T_5fdc6_row10_col0\" class=\"data row10 col0\" >Karthikeyan</td>\n",
              "      <td id=\"T_5fdc6_row10_col1\" class=\"data row10 col1\" >2024-11-05</td>\n",
              "      <td id=\"T_5fdc6_row10_col2\" class=\"data row10 col2\" >2005-12-04</td>\n",
              "      <td id=\"T_5fdc6_row10_col3\" class=\"data row10 col3\" >Sunday   </td>\n",
              "      <td id=\"T_5fdc6_row10_col4\" class=\"data row10 col4\" >04-dec-05</td>\n",
              "      <td id=\"T_5fdc6_row10_col5\" class=\"data row10 col5\" >6911</td>\n",
              "    </tr>\n",
              "    <tr>\n",
              "      <td id=\"T_5fdc6_row11_col0\" class=\"data row11 col0\" >Sunil</td>\n",
              "      <td id=\"T_5fdc6_row11_col1\" class=\"data row11 col1\" >2024-11-05</td>\n",
              "      <td id=\"T_5fdc6_row11_col2\" class=\"data row11 col2\" >2006-12-07</td>\n",
              "      <td id=\"T_5fdc6_row11_col3\" class=\"data row11 col3\" >Thursday </td>\n",
              "      <td id=\"T_5fdc6_row11_col4\" class=\"data row11 col4\" >07-dec-06</td>\n",
              "      <td id=\"T_5fdc6_row11_col5\" class=\"data row11 col5\" >6543</td>\n",
              "    </tr>\n",
              "    <tr>\n",
              "      <td id=\"T_5fdc6_row12_col0\" class=\"data row12 col0\" >Mirza</td>\n",
              "      <td id=\"T_5fdc6_row12_col1\" class=\"data row12 col1\" >2024-11-05</td>\n",
              "      <td id=\"T_5fdc6_row12_col2\" class=\"data row12 col2\" >2001-11-19</td>\n",
              "      <td id=\"T_5fdc6_row12_col3\" class=\"data row12 col3\" >Monday   </td>\n",
              "      <td id=\"T_5fdc6_row12_col4\" class=\"data row12 col4\" >19-nov-01</td>\n",
              "      <td id=\"T_5fdc6_row12_col5\" class=\"data row12 col5\" >8387</td>\n",
              "    </tr>\n",
              "  </tbody>\n",
              "</table>\n"
            ]
          },
          "metadata": {},
          "execution_count": 39
        }
      ]
    },
    {
      "cell_type": "markdown",
      "source": [
        "# MultiRow Function | Group By | Having\n",
        "for more complex examples that demonstrate Grouping Sets, Cubes, Roll UP, Crosstabs and other OLAP related SQL see [this notebook](https://github.com/Praxis-QR/RDWH/blob/main/PostgreSQL_03B_SQL_Level2.ipynb)"
      ],
      "metadata": {
        "id": "ONgFWUTC2IPK"
      }
    },
    {
      "cell_type": "code",
      "source": [
        "runSelect(\"select sum(salary) Total_Salary from empl\")"
      ],
      "metadata": {
        "colab": {
          "base_uri": "https://localhost:8080/",
          "height": 81
        },
        "id": "7MnnzfJx2PSc",
        "outputId": "4a72d260-2158-49c7-d518-9366a9fa5001"
      },
      "execution_count": 40,
      "outputs": [
        {
          "output_type": "execute_result",
          "data": {
            "text/plain": [
              "<pandas.io.formats.style.Styler at 0x7bb964f9e5f0>"
            ],
            "text/html": [
              "<style type=\"text/css\">\n",
              "</style>\n",
              "<table id=\"T_4cbde\" class=\"dataframe\">\n",
              "  <thead>\n",
              "    <tr>\n",
              "      <th id=\"T_4cbde_level0_col0\" class=\"col_heading level0 col0\" >total_salary</th>\n",
              "    </tr>\n",
              "  </thead>\n",
              "  <tbody>\n",
              "    <tr>\n",
              "      <td id=\"T_4cbde_row0_col0\" class=\"data row0 col0\" >376000</td>\n",
              "    </tr>\n",
              "  </tbody>\n",
              "</table>\n"
            ]
          },
          "metadata": {},
          "execution_count": 40
        }
      ]
    },
    {
      "cell_type": "code",
      "source": [
        "runSelect(\"select round(avg(salary),2) Average_Salary from empl\")"
      ],
      "metadata": {
        "colab": {
          "base_uri": "https://localhost:8080/",
          "height": 81
        },
        "id": "e3Avb-HL4QPD",
        "outputId": "1554662f-063c-4c79-ad8b-59a68d447039"
      },
      "execution_count": 41,
      "outputs": [
        {
          "output_type": "execute_result",
          "data": {
            "text/plain": [
              "<pandas.io.formats.style.Styler at 0x7bb964f9df30>"
            ],
            "text/html": [
              "<style type=\"text/css\">\n",
              "</style>\n",
              "<table id=\"T_2d707\" class=\"dataframe\">\n",
              "  <thead>\n",
              "    <tr>\n",
              "      <th id=\"T_2d707_level0_col0\" class=\"col_heading level0 col0\" >average_salary</th>\n",
              "    </tr>\n",
              "  </thead>\n",
              "  <tbody>\n",
              "    <tr>\n",
              "      <td id=\"T_2d707_row0_col0\" class=\"data row0 col0\" >28923.08</td>\n",
              "    </tr>\n",
              "  </tbody>\n",
              "</table>\n"
            ]
          },
          "metadata": {},
          "execution_count": 41
        }
      ]
    },
    {
      "cell_type": "code",
      "source": [
        "runSelect(\"select max(salary) Max_Salary from empl\")"
      ],
      "metadata": {
        "colab": {
          "base_uri": "https://localhost:8080/",
          "height": 81
        },
        "id": "Oe1qRQbI4gtY",
        "outputId": "9531acae-8c9d-4f65-ee17-6c1e407483ba"
      },
      "execution_count": 42,
      "outputs": [
        {
          "output_type": "execute_result",
          "data": {
            "text/plain": [
              "<pandas.io.formats.style.Styler at 0x7bb964f9ec20>"
            ],
            "text/html": [
              "<style type=\"text/css\">\n",
              "</style>\n",
              "<table id=\"T_f950b\" class=\"dataframe\">\n",
              "  <thead>\n",
              "    <tr>\n",
              "      <th id=\"T_f950b_level0_col0\" class=\"col_heading level0 col0\" >max_salary</th>\n",
              "    </tr>\n",
              "  </thead>\n",
              "  <tbody>\n",
              "    <tr>\n",
              "      <td id=\"T_f950b_row0_col0\" class=\"data row0 col0\" >60000</td>\n",
              "    </tr>\n",
              "  </tbody>\n",
              "</table>\n"
            ]
          },
          "metadata": {},
          "execution_count": 42
        }
      ]
    },
    {
      "cell_type": "code",
      "source": [
        "runSelect(\"select deptid, sum(salary) Total, max(salary) Max from empl group by deptid\")"
      ],
      "metadata": {
        "colab": {
          "base_uri": "https://localhost:8080/",
          "height": 206
        },
        "id": "xpmGXSAX69iU",
        "outputId": "cb7c9f14-844b-46fb-eae7-58855ae78f66"
      },
      "execution_count": 43,
      "outputs": [
        {
          "output_type": "execute_result",
          "data": {
            "text/plain": [
              "<pandas.io.formats.style.Styler at 0x7bb964f9f640>"
            ],
            "text/html": [
              "<style type=\"text/css\">\n",
              "</style>\n",
              "<table id=\"T_75399\" class=\"dataframe\">\n",
              "  <thead>\n",
              "    <tr>\n",
              "      <th id=\"T_75399_level0_col0\" class=\"col_heading level0 col0\" >deptid</th>\n",
              "      <th id=\"T_75399_level0_col1\" class=\"col_heading level0 col1\" >total</th>\n",
              "      <th id=\"T_75399_level0_col2\" class=\"col_heading level0 col2\" >max</th>\n",
              "    </tr>\n",
              "  </thead>\n",
              "  <tbody>\n",
              "    <tr>\n",
              "      <td id=\"T_75399_row0_col0\" class=\"data row0 col0\" >10</td>\n",
              "      <td id=\"T_75399_row0_col1\" class=\"data row0 col1\" >150000</td>\n",
              "      <td id=\"T_75399_row0_col2\" class=\"data row0 col2\" >60000</td>\n",
              "    </tr>\n",
              "    <tr>\n",
              "      <td id=\"T_75399_row1_col0\" class=\"data row1 col0\" >40</td>\n",
              "      <td id=\"T_75399_row1_col1\" class=\"data row1 col1\" >54000</td>\n",
              "      <td id=\"T_75399_row1_col2\" class=\"data row1 col2\" >25000</td>\n",
              "    </tr>\n",
              "    <tr>\n",
              "      <td id=\"T_75399_row2_col0\" class=\"data row2 col0\" >70</td>\n",
              "      <td id=\"T_75399_row2_col1\" class=\"data row2 col1\" >40000</td>\n",
              "      <td id=\"T_75399_row2_col2\" class=\"data row2 col2\" >40000</td>\n",
              "    </tr>\n",
              "    <tr>\n",
              "      <td id=\"T_75399_row3_col0\" class=\"data row3 col0\" >20</td>\n",
              "      <td id=\"T_75399_row3_col1\" class=\"data row3 col1\" >55000</td>\n",
              "      <td id=\"T_75399_row3_col2\" class=\"data row3 col2\" >30000</td>\n",
              "    </tr>\n",
              "    <tr>\n",
              "      <td id=\"T_75399_row4_col0\" class=\"data row4 col0\" >30</td>\n",
              "      <td id=\"T_75399_row4_col1\" class=\"data row4 col1\" >77000</td>\n",
              "      <td id=\"T_75399_row4_col2\" class=\"data row4 col2\" >40000</td>\n",
              "    </tr>\n",
              "  </tbody>\n",
              "</table>\n"
            ]
          },
          "metadata": {},
          "execution_count": 43
        }
      ]
    },
    {
      "cell_type": "code",
      "source": [
        "runSelect(\"select deptid, sum(salary) Total, max(salary) Max from empl group by deptid having sum(salary) > 50000\")"
      ],
      "metadata": {
        "colab": {
          "base_uri": "https://localhost:8080/",
          "height": 175
        },
        "id": "AdNDutZl7LCF",
        "outputId": "6346126f-0dac-4238-ede4-147f31a5ed41"
      },
      "execution_count": 44,
      "outputs": [
        {
          "output_type": "execute_result",
          "data": {
            "text/plain": [
              "<pandas.io.formats.style.Styler at 0x7bb964f9fa00>"
            ],
            "text/html": [
              "<style type=\"text/css\">\n",
              "</style>\n",
              "<table id=\"T_0c255\" class=\"dataframe\">\n",
              "  <thead>\n",
              "    <tr>\n",
              "      <th id=\"T_0c255_level0_col0\" class=\"col_heading level0 col0\" >deptid</th>\n",
              "      <th id=\"T_0c255_level0_col1\" class=\"col_heading level0 col1\" >total</th>\n",
              "      <th id=\"T_0c255_level0_col2\" class=\"col_heading level0 col2\" >max</th>\n",
              "    </tr>\n",
              "  </thead>\n",
              "  <tbody>\n",
              "    <tr>\n",
              "      <td id=\"T_0c255_row0_col0\" class=\"data row0 col0\" >10</td>\n",
              "      <td id=\"T_0c255_row0_col1\" class=\"data row0 col1\" >150000</td>\n",
              "      <td id=\"T_0c255_row0_col2\" class=\"data row0 col2\" >60000</td>\n",
              "    </tr>\n",
              "    <tr>\n",
              "      <td id=\"T_0c255_row1_col0\" class=\"data row1 col0\" >40</td>\n",
              "      <td id=\"T_0c255_row1_col1\" class=\"data row1 col1\" >54000</td>\n",
              "      <td id=\"T_0c255_row1_col2\" class=\"data row1 col2\" >25000</td>\n",
              "    </tr>\n",
              "    <tr>\n",
              "      <td id=\"T_0c255_row2_col0\" class=\"data row2 col0\" >20</td>\n",
              "      <td id=\"T_0c255_row2_col1\" class=\"data row2 col1\" >55000</td>\n",
              "      <td id=\"T_0c255_row2_col2\" class=\"data row2 col2\" >30000</td>\n",
              "    </tr>\n",
              "    <tr>\n",
              "      <td id=\"T_0c255_row3_col0\" class=\"data row3 col0\" >30</td>\n",
              "      <td id=\"T_0c255_row3_col1\" class=\"data row3 col1\" >77000</td>\n",
              "      <td id=\"T_0c255_row3_col2\" class=\"data row3 col2\" >40000</td>\n",
              "    </tr>\n",
              "  </tbody>\n",
              "</table>\n"
            ]
          },
          "metadata": {},
          "execution_count": 44
        }
      ]
    },
    {
      "cell_type": "code",
      "source": [
        "runSelect(\"select deptid, sum(salary) Total, max(salary) Max from empl group by deptid having sum(salary) > 50000 and max(salary) < 35000\")"
      ],
      "metadata": {
        "colab": {
          "base_uri": "https://localhost:8080/",
          "height": 112
        },
        "id": "4VFmL5JF7bYo",
        "outputId": "e20a633d-a864-4bf6-9bdb-01c0cba75849"
      },
      "execution_count": 45,
      "outputs": [
        {
          "output_type": "execute_result",
          "data": {
            "text/plain": [
              "<pandas.io.formats.style.Styler at 0x7bb964f9c6a0>"
            ],
            "text/html": [
              "<style type=\"text/css\">\n",
              "</style>\n",
              "<table id=\"T_948e1\" class=\"dataframe\">\n",
              "  <thead>\n",
              "    <tr>\n",
              "      <th id=\"T_948e1_level0_col0\" class=\"col_heading level0 col0\" >deptid</th>\n",
              "      <th id=\"T_948e1_level0_col1\" class=\"col_heading level0 col1\" >total</th>\n",
              "      <th id=\"T_948e1_level0_col2\" class=\"col_heading level0 col2\" >max</th>\n",
              "    </tr>\n",
              "  </thead>\n",
              "  <tbody>\n",
              "    <tr>\n",
              "      <td id=\"T_948e1_row0_col0\" class=\"data row0 col0\" >40</td>\n",
              "      <td id=\"T_948e1_row0_col1\" class=\"data row0 col1\" >54000</td>\n",
              "      <td id=\"T_948e1_row0_col2\" class=\"data row0 col2\" >25000</td>\n",
              "    </tr>\n",
              "    <tr>\n",
              "      <td id=\"T_948e1_row1_col0\" class=\"data row1 col0\" >20</td>\n",
              "      <td id=\"T_948e1_row1_col1\" class=\"data row1 col1\" >55000</td>\n",
              "      <td id=\"T_948e1_row1_col2\" class=\"data row1 col2\" >30000</td>\n",
              "    </tr>\n",
              "  </tbody>\n",
              "</table>\n"
            ]
          },
          "metadata": {},
          "execution_count": 45
        }
      ]
    },
    {
      "cell_type": "markdown",
      "source": [
        "#Conditionals | CASE"
      ],
      "metadata": {
        "id": "xDsapsK8Afpj"
      }
    },
    {
      "cell_type": "code",
      "source": [
        "runSelect(\"select lastname, jobdesc, salary, comm, salary+salary*comm Payout,\\\n",
        "case when jobdesc like '%Manager' then 2000 else 0 end bonus from empl\")"
      ],
      "metadata": {
        "colab": {
          "base_uri": "https://localhost:8080/",
          "height": 457
        },
        "id": "bYRWDlVNAxKx",
        "outputId": "80426058-b673-4e36-e3dd-f2febb20560a"
      },
      "execution_count": 46,
      "outputs": [
        {
          "output_type": "execute_result",
          "data": {
            "text/plain": [
              "<pandas.io.formats.style.Styler at 0x7bb964f9e890>"
            ],
            "text/html": [
              "<style type=\"text/css\">\n",
              "</style>\n",
              "<table id=\"T_2090c\" class=\"dataframe\">\n",
              "  <thead>\n",
              "    <tr>\n",
              "      <th id=\"T_2090c_level0_col0\" class=\"col_heading level0 col0\" >lastname</th>\n",
              "      <th id=\"T_2090c_level0_col1\" class=\"col_heading level0 col1\" >jobdesc</th>\n",
              "      <th id=\"T_2090c_level0_col2\" class=\"col_heading level0 col2\" >salary</th>\n",
              "      <th id=\"T_2090c_level0_col3\" class=\"col_heading level0 col3\" >comm</th>\n",
              "      <th id=\"T_2090c_level0_col4\" class=\"col_heading level0 col4\" >payout</th>\n",
              "      <th id=\"T_2090c_level0_col5\" class=\"col_heading level0 col5\" >bonus</th>\n",
              "    </tr>\n",
              "  </thead>\n",
              "  <tbody>\n",
              "    <tr>\n",
              "      <td id=\"T_2090c_row0_col0\" class=\"data row0 col0\" >Bacchan</td>\n",
              "      <td id=\"T_2090c_row0_col1\" class=\"data row0 col1\" >Executive</td>\n",
              "      <td id=\"T_2090c_row0_col2\" class=\"data row0 col2\" >50000</td>\n",
              "      <td id=\"T_2090c_row0_col3\" class=\"data row0 col3\" >0.10</td>\n",
              "      <td id=\"T_2090c_row0_col4\" class=\"data row0 col4\" >55000.00</td>\n",
              "      <td id=\"T_2090c_row0_col5\" class=\"data row0 col5\" >0</td>\n",
              "    </tr>\n",
              "    <tr>\n",
              "      <td id=\"T_2090c_row1_col0\" class=\"data row1 col0\" >Mukherjee</td>\n",
              "      <td id=\"T_2090c_row1_col1\" class=\"data row1 col1\" >Manager</td>\n",
              "      <td id=\"T_2090c_row1_col2\" class=\"data row1 col2\" >25000</td>\n",
              "      <td id=\"T_2090c_row1_col3\" class=\"data row1 col3\" >0.06</td>\n",
              "      <td id=\"T_2090c_row1_col4\" class=\"data row1 col4\" >26500.00</td>\n",
              "      <td id=\"T_2090c_row1_col5\" class=\"data row1 col5\" >2000</td>\n",
              "    </tr>\n",
              "    <tr>\n",
              "      <td id=\"T_2090c_row2_col0\" class=\"data row2 col0\" >Dikshit</td>\n",
              "      <td id=\"T_2090c_row2_col1\" class=\"data row2 col1\" >Clerk</td>\n",
              "      <td id=\"T_2090c_row2_col2\" class=\"data row2 col2\" >10000</td>\n",
              "      <td id=\"T_2090c_row2_col3\" class=\"data row2 col3\" >0.02</td>\n",
              "      <td id=\"T_2090c_row2_col4\" class=\"data row2 col4\" >10200.00</td>\n",
              "      <td id=\"T_2090c_row2_col5\" class=\"data row2 col5\" >0</td>\n",
              "    </tr>\n",
              "    <tr>\n",
              "      <td id=\"T_2090c_row3_col0\" class=\"data row3 col0\" >Khan</td>\n",
              "      <td id=\"T_2090c_row3_col1\" class=\"data row3 col1\" >Manager</td>\n",
              "      <td id=\"T_2090c_row3_col2\" class=\"data row3 col2\" >30000</td>\n",
              "      <td id=\"T_2090c_row3_col3\" class=\"data row3 col3\" >0.07</td>\n",
              "      <td id=\"T_2090c_row3_col4\" class=\"data row3 col4\" >32100.00</td>\n",
              "      <td id=\"T_2090c_row3_col5\" class=\"data row3 col5\" >2000</td>\n",
              "    </tr>\n",
              "    <tr>\n",
              "      <td id=\"T_2090c_row4_col0\" class=\"data row4 col0\" >Sehwag</td>\n",
              "      <td id=\"T_2090c_row4_col1\" class=\"data row4 col1\" >Cus_Rep</td>\n",
              "      <td id=\"T_2090c_row4_col2\" class=\"data row4 col2\" >15000</td>\n",
              "      <td id=\"T_2090c_row4_col3\" class=\"data row4 col3\" >0.05</td>\n",
              "      <td id=\"T_2090c_row4_col4\" class=\"data row4 col4\" >15750.00</td>\n",
              "      <td id=\"T_2090c_row4_col5\" class=\"data row4 col5\" >0</td>\n",
              "    </tr>\n",
              "    <tr>\n",
              "      <td id=\"T_2090c_row5_col0\" class=\"data row5 col0\" >Dhoni</td>\n",
              "      <td id=\"T_2090c_row5_col1\" class=\"data row5 col1\" >Clerk</td>\n",
              "      <td id=\"T_2090c_row5_col2\" class=\"data row5 col2\" >9000</td>\n",
              "      <td id=\"T_2090c_row5_col3\" class=\"data row5 col3\" >0.02</td>\n",
              "      <td id=\"T_2090c_row5_col4\" class=\"data row5 col4\" >9180.00</td>\n",
              "      <td id=\"T_2090c_row5_col5\" class=\"data row5 col5\" >0</td>\n",
              "    </tr>\n",
              "    <tr>\n",
              "      <td id=\"T_2090c_row6_col0\" class=\"data row6 col0\" >Dravid</td>\n",
              "      <td id=\"T_2090c_row6_col1\" class=\"data row6 col1\" >Sr Manager</td>\n",
              "      <td id=\"T_2090c_row6_col2\" class=\"data row6 col2\" >40000</td>\n",
              "      <td id=\"T_2090c_row6_col3\" class=\"data row6 col3\" >0.08</td>\n",
              "      <td id=\"T_2090c_row6_col4\" class=\"data row6 col4\" >43200.00</td>\n",
              "      <td id=\"T_2090c_row6_col5\" class=\"data row6 col5\" >2000</td>\n",
              "    </tr>\n",
              "    <tr>\n",
              "      <td id=\"T_2090c_row7_col0\" class=\"data row7 col0\" >Dalmia</td>\n",
              "      <td id=\"T_2090c_row7_col1\" class=\"data row7 col1\" >Clerk</td>\n",
              "      <td id=\"T_2090c_row7_col2\" class=\"data row7 col2\" >12000</td>\n",
              "      <td id=\"T_2090c_row7_col3\" class=\"data row7 col3\" >0.02</td>\n",
              "      <td id=\"T_2090c_row7_col4\" class=\"data row7 col4\" >12240.00</td>\n",
              "      <td id=\"T_2090c_row7_col5\" class=\"data row7 col5\" >0</td>\n",
              "    </tr>\n",
              "    <tr>\n",
              "      <td id=\"T_2090c_row8_col0\" class=\"data row8 col0\" >Ganguly</td>\n",
              "      <td id=\"T_2090c_row8_col1\" class=\"data row8 col1\" >Cus_Rep</td>\n",
              "      <td id=\"T_2090c_row8_col2\" class=\"data row8 col2\" >20000</td>\n",
              "      <td id=\"T_2090c_row8_col3\" class=\"data row8 col3\" >0.03</td>\n",
              "      <td id=\"T_2090c_row8_col4\" class=\"data row8 col4\" >20600.00</td>\n",
              "      <td id=\"T_2090c_row8_col5\" class=\"data row8 col5\" >0</td>\n",
              "    </tr>\n",
              "    <tr>\n",
              "      <td id=\"T_2090c_row9_col0\" class=\"data row9 col0\" >Ganesan</td>\n",
              "      <td id=\"T_2090c_row9_col1\" class=\"data row9 col1\" >Director</td>\n",
              "      <td id=\"T_2090c_row9_col2\" class=\"data row9 col2\" >60000</td>\n",
              "      <td id=\"T_2090c_row9_col3\" class=\"data row9 col3\" >0.11</td>\n",
              "      <td id=\"T_2090c_row9_col4\" class=\"data row9 col4\" >66600.00</td>\n",
              "      <td id=\"T_2090c_row9_col5\" class=\"data row9 col5\" >0</td>\n",
              "    </tr>\n",
              "    <tr>\n",
              "      <td id=\"T_2090c_row10_col0\" class=\"data row10 col0\" >Karthikeyan</td>\n",
              "      <td id=\"T_2090c_row10_col1\" class=\"data row10 col1\" >Secretary</td>\n",
              "      <td id=\"T_2090c_row10_col2\" class=\"data row10 col2\" >40000</td>\n",
              "      <td id=\"T_2090c_row10_col3\" class=\"data row10 col3\" >0.09</td>\n",
              "      <td id=\"T_2090c_row10_col4\" class=\"data row10 col4\" >43600.00</td>\n",
              "      <td id=\"T_2090c_row10_col5\" class=\"data row10 col5\" >0</td>\n",
              "    </tr>\n",
              "    <tr>\n",
              "      <td id=\"T_2090c_row11_col0\" class=\"data row11 col0\" >Sunil</td>\n",
              "      <td id=\"T_2090c_row11_col1\" class=\"data row11 col1\" >Dy Manager</td>\n",
              "      <td id=\"T_2090c_row11_col2\" class=\"data row11 col2\" >40000</td>\n",
              "      <td id=\"T_2090c_row11_col3\" class=\"data row11 col3\" >0.05</td>\n",
              "      <td id=\"T_2090c_row11_col4\" class=\"data row11 col4\" >42000.00</td>\n",
              "      <td id=\"T_2090c_row11_col5\" class=\"data row11 col5\" >2000</td>\n",
              "    </tr>\n",
              "    <tr>\n",
              "      <td id=\"T_2090c_row12_col0\" class=\"data row12 col0\" >Mirza</td>\n",
              "      <td id=\"T_2090c_row12_col1\" class=\"data row12 col1\" >Cus_Rep</td>\n",
              "      <td id=\"T_2090c_row12_col2\" class=\"data row12 col2\" >25000</td>\n",
              "      <td id=\"T_2090c_row12_col3\" class=\"data row12 col3\" >0.04</td>\n",
              "      <td id=\"T_2090c_row12_col4\" class=\"data row12 col4\" >26000.00</td>\n",
              "      <td id=\"T_2090c_row12_col5\" class=\"data row12 col5\" >0</td>\n",
              "    </tr>\n",
              "  </tbody>\n",
              "</table>\n"
            ]
          },
          "metadata": {},
          "execution_count": 46
        }
      ]
    },
    {
      "cell_type": "code",
      "source": [
        "runSelect(\"select lastname, deptid,\\\n",
        "case \\\n",
        "when deptid in ('10','20') then 'Head' \\\n",
        "when deptid = '30' then 'Regional'\\\n",
        "else 'Branch' \\\n",
        "end \\\n",
        " office from empl\")"
      ],
      "metadata": {
        "colab": {
          "base_uri": "https://localhost:8080/",
          "height": 457
        },
        "id": "jbpKn1y0DwYG",
        "outputId": "5fefae25-6d4c-42ba-cb0e-48a03da63876"
      },
      "execution_count": 47,
      "outputs": [
        {
          "output_type": "execute_result",
          "data": {
            "text/plain": [
              "<pandas.io.formats.style.Styler at 0x7bb964f9f8e0>"
            ],
            "text/html": [
              "<style type=\"text/css\">\n",
              "</style>\n",
              "<table id=\"T_5806b\" class=\"dataframe\">\n",
              "  <thead>\n",
              "    <tr>\n",
              "      <th id=\"T_5806b_level0_col0\" class=\"col_heading level0 col0\" >lastname</th>\n",
              "      <th id=\"T_5806b_level0_col1\" class=\"col_heading level0 col1\" >deptid</th>\n",
              "      <th id=\"T_5806b_level0_col2\" class=\"col_heading level0 col2\" >office</th>\n",
              "    </tr>\n",
              "  </thead>\n",
              "  <tbody>\n",
              "    <tr>\n",
              "      <td id=\"T_5806b_row0_col0\" class=\"data row0 col0\" >Bacchan</td>\n",
              "      <td id=\"T_5806b_row0_col1\" class=\"data row0 col1\" >10</td>\n",
              "      <td id=\"T_5806b_row0_col2\" class=\"data row0 col2\" >Head</td>\n",
              "    </tr>\n",
              "    <tr>\n",
              "      <td id=\"T_5806b_row1_col0\" class=\"data row1 col0\" >Mukherjee</td>\n",
              "      <td id=\"T_5806b_row1_col1\" class=\"data row1 col1\" >40</td>\n",
              "      <td id=\"T_5806b_row1_col2\" class=\"data row1 col2\" >Branch</td>\n",
              "    </tr>\n",
              "    <tr>\n",
              "      <td id=\"T_5806b_row2_col0\" class=\"data row2 col0\" >Dikshit</td>\n",
              "      <td id=\"T_5806b_row2_col1\" class=\"data row2 col1\" >20</td>\n",
              "      <td id=\"T_5806b_row2_col2\" class=\"data row2 col2\" >Head</td>\n",
              "    </tr>\n",
              "    <tr>\n",
              "      <td id=\"T_5806b_row3_col0\" class=\"data row3 col0\" >Khan</td>\n",
              "      <td id=\"T_5806b_row3_col1\" class=\"data row3 col1\" >20</td>\n",
              "      <td id=\"T_5806b_row3_col2\" class=\"data row3 col2\" >Head</td>\n",
              "    </tr>\n",
              "    <tr>\n",
              "      <td id=\"T_5806b_row4_col0\" class=\"data row4 col0\" >Sehwag</td>\n",
              "      <td id=\"T_5806b_row4_col1\" class=\"data row4 col1\" >20</td>\n",
              "      <td id=\"T_5806b_row4_col2\" class=\"data row4 col2\" >Head</td>\n",
              "    </tr>\n",
              "    <tr>\n",
              "      <td id=\"T_5806b_row5_col0\" class=\"data row5 col0\" >Dhoni</td>\n",
              "      <td id=\"T_5806b_row5_col1\" class=\"data row5 col1\" >40</td>\n",
              "      <td id=\"T_5806b_row5_col2\" class=\"data row5 col2\" >Branch</td>\n",
              "    </tr>\n",
              "    <tr>\n",
              "      <td id=\"T_5806b_row6_col0\" class=\"data row6 col0\" >Dravid</td>\n",
              "      <td id=\"T_5806b_row6_col1\" class=\"data row6 col1\" >30</td>\n",
              "      <td id=\"T_5806b_row6_col2\" class=\"data row6 col2\" >Regional</td>\n",
              "    </tr>\n",
              "    <tr>\n",
              "      <td id=\"T_5806b_row7_col0\" class=\"data row7 col0\" >Dalmia</td>\n",
              "      <td id=\"T_5806b_row7_col1\" class=\"data row7 col1\" >30</td>\n",
              "      <td id=\"T_5806b_row7_col2\" class=\"data row7 col2\" >Regional</td>\n",
              "    </tr>\n",
              "    <tr>\n",
              "      <td id=\"T_5806b_row8_col0\" class=\"data row8 col0\" >Ganguly</td>\n",
              "      <td id=\"T_5806b_row8_col1\" class=\"data row8 col1\" >40</td>\n",
              "      <td id=\"T_5806b_row8_col2\" class=\"data row8 col2\" >Branch</td>\n",
              "    </tr>\n",
              "    <tr>\n",
              "      <td id=\"T_5806b_row9_col0\" class=\"data row9 col0\" >Ganesan</td>\n",
              "      <td id=\"T_5806b_row9_col1\" class=\"data row9 col1\" >10</td>\n",
              "      <td id=\"T_5806b_row9_col2\" class=\"data row9 col2\" >Head</td>\n",
              "    </tr>\n",
              "    <tr>\n",
              "      <td id=\"T_5806b_row10_col0\" class=\"data row10 col0\" >Karthikeyan</td>\n",
              "      <td id=\"T_5806b_row10_col1\" class=\"data row10 col1\" >10</td>\n",
              "      <td id=\"T_5806b_row10_col2\" class=\"data row10 col2\" >Head</td>\n",
              "    </tr>\n",
              "    <tr>\n",
              "      <td id=\"T_5806b_row11_col0\" class=\"data row11 col0\" >Sunil</td>\n",
              "      <td id=\"T_5806b_row11_col1\" class=\"data row11 col1\" >70</td>\n",
              "      <td id=\"T_5806b_row11_col2\" class=\"data row11 col2\" >Branch</td>\n",
              "    </tr>\n",
              "    <tr>\n",
              "      <td id=\"T_5806b_row12_col0\" class=\"data row12 col0\" >Mirza</td>\n",
              "      <td id=\"T_5806b_row12_col1\" class=\"data row12 col1\" >30</td>\n",
              "      <td id=\"T_5806b_row12_col2\" class=\"data row12 col2\" >Regional</td>\n",
              "    </tr>\n",
              "  </tbody>\n",
              "</table>\n"
            ]
          },
          "metadata": {},
          "execution_count": 47
        }
      ]
    },
    {
      "cell_type": "markdown",
      "source": [
        "#Join"
      ],
      "metadata": {
        "id": "Rs10ezIPpP0C"
      }
    },
    {
      "cell_type": "markdown",
      "source": [
        "## Basic Inner Join"
      ],
      "metadata": {
        "id": "XMfZP6HUpT4B"
      }
    },
    {
      "cell_type": "code",
      "source": [
        "sql = 'select firstname, lastname, salary, deptname, location, managerid from empl, dept where empl.deptid = dept.deptid'\n",
        "runSelect(sql)"
      ],
      "metadata": {
        "colab": {
          "base_uri": "https://localhost:8080/",
          "height": 425
        },
        "id": "ISiD-VP6pbUz",
        "outputId": "340f30ce-492b-493a-ed33-65dd73633e3d"
      },
      "execution_count": 48,
      "outputs": [
        {
          "output_type": "execute_result",
          "data": {
            "text/plain": [
              "<pandas.io.formats.style.Styler at 0x7bb964f74610>"
            ],
            "text/html": [
              "<style type=\"text/css\">\n",
              "</style>\n",
              "<table id=\"T_34b3a\" class=\"dataframe\">\n",
              "  <thead>\n",
              "    <tr>\n",
              "      <th id=\"T_34b3a_level0_col0\" class=\"col_heading level0 col0\" >firstname</th>\n",
              "      <th id=\"T_34b3a_level0_col1\" class=\"col_heading level0 col1\" >lastname</th>\n",
              "      <th id=\"T_34b3a_level0_col2\" class=\"col_heading level0 col2\" >salary</th>\n",
              "      <th id=\"T_34b3a_level0_col3\" class=\"col_heading level0 col3\" >deptname</th>\n",
              "      <th id=\"T_34b3a_level0_col4\" class=\"col_heading level0 col4\" >location</th>\n",
              "      <th id=\"T_34b3a_level0_col5\" class=\"col_heading level0 col5\" >managerid</th>\n",
              "    </tr>\n",
              "  </thead>\n",
              "  <tbody>\n",
              "    <tr>\n",
              "      <td id=\"T_34b3a_row0_col0\" class=\"data row0 col0\" >Narayan</td>\n",
              "      <td id=\"T_34b3a_row0_col1\" class=\"data row0 col1\" >Karthikeyan</td>\n",
              "      <td id=\"T_34b3a_row0_col2\" class=\"data row0 col2\" >40000</td>\n",
              "      <td id=\"T_34b3a_row0_col3\" class=\"data row0 col3\" >Corporate</td>\n",
              "      <td id=\"T_34b3a_row0_col4\" class=\"data row0 col4\" >Calcutta</td>\n",
              "      <td id=\"T_34b3a_row0_col5\" class=\"data row0 col5\" >299034</td>\n",
              "    </tr>\n",
              "    <tr>\n",
              "      <td id=\"T_34b3a_row1_col0\" class=\"data row1 col0\" >Rekha</td>\n",
              "      <td id=\"T_34b3a_row1_col1\" class=\"data row1 col1\" >Ganesan</td>\n",
              "      <td id=\"T_34b3a_row1_col2\" class=\"data row1 col2\" >60000</td>\n",
              "      <td id=\"T_34b3a_row1_col3\" class=\"data row1 col3\" >Corporate</td>\n",
              "      <td id=\"T_34b3a_row1_col4\" class=\"data row1 col4\" >Calcutta</td>\n",
              "      <td id=\"T_34b3a_row1_col5\" class=\"data row1 col5\" >299034</td>\n",
              "    </tr>\n",
              "    <tr>\n",
              "      <td id=\"T_34b3a_row2_col0\" class=\"data row2 col0\" >Amitabh</td>\n",
              "      <td id=\"T_34b3a_row2_col1\" class=\"data row2 col1\" >Bacchan</td>\n",
              "      <td id=\"T_34b3a_row2_col2\" class=\"data row2 col2\" >50000</td>\n",
              "      <td id=\"T_34b3a_row2_col3\" class=\"data row2 col3\" >Corporate</td>\n",
              "      <td id=\"T_34b3a_row2_col4\" class=\"data row2 col4\" >Calcutta</td>\n",
              "      <td id=\"T_34b3a_row2_col5\" class=\"data row2 col5\" >299034</td>\n",
              "    </tr>\n",
              "    <tr>\n",
              "      <td id=\"T_34b3a_row3_col0\" class=\"data row3 col0\" >Virender</td>\n",
              "      <td id=\"T_34b3a_row3_col1\" class=\"data row3 col1\" >Sehwag</td>\n",
              "      <td id=\"T_34b3a_row3_col2\" class=\"data row3 col2\" >15000</td>\n",
              "      <td id=\"T_34b3a_row3_col3\" class=\"data row3 col3\" >Sales</td>\n",
              "      <td id=\"T_34b3a_row3_col4\" class=\"data row3 col4\" >Calcutta</td>\n",
              "      <td id=\"T_34b3a_row3_col5\" class=\"data row3 col5\" >239456</td>\n",
              "    </tr>\n",
              "    <tr>\n",
              "      <td id=\"T_34b3a_row4_col0\" class=\"data row4 col0\" >Shahrukh</td>\n",
              "      <td id=\"T_34b3a_row4_col1\" class=\"data row4 col1\" >Khan</td>\n",
              "      <td id=\"T_34b3a_row4_col2\" class=\"data row4 col2\" >30000</td>\n",
              "      <td id=\"T_34b3a_row4_col3\" class=\"data row4 col3\" >Sales</td>\n",
              "      <td id=\"T_34b3a_row4_col4\" class=\"data row4 col4\" >Calcutta</td>\n",
              "      <td id=\"T_34b3a_row4_col5\" class=\"data row4 col5\" >239456</td>\n",
              "    </tr>\n",
              "    <tr>\n",
              "      <td id=\"T_34b3a_row5_col0\" class=\"data row5 col0\" >Madhuri</td>\n",
              "      <td id=\"T_34b3a_row5_col1\" class=\"data row5 col1\" >Dikshit</td>\n",
              "      <td id=\"T_34b3a_row5_col2\" class=\"data row5 col2\" >10000</td>\n",
              "      <td id=\"T_34b3a_row5_col3\" class=\"data row5 col3\" >Sales</td>\n",
              "      <td id=\"T_34b3a_row5_col4\" class=\"data row5 col4\" >Calcutta</td>\n",
              "      <td id=\"T_34b3a_row5_col5\" class=\"data row5 col5\" >239456</td>\n",
              "    </tr>\n",
              "    <tr>\n",
              "      <td id=\"T_34b3a_row6_col0\" class=\"data row6 col0\" >Sania</td>\n",
              "      <td id=\"T_34b3a_row6_col1\" class=\"data row6 col1\" >Mirza</td>\n",
              "      <td id=\"T_34b3a_row6_col2\" class=\"data row6 col2\" >25000</td>\n",
              "      <td id=\"T_34b3a_row6_col3\" class=\"data row6 col3\" >Accounts</td>\n",
              "      <td id=\"T_34b3a_row6_col4\" class=\"data row6 col4\" >Calcutta</td>\n",
              "      <td id=\"T_34b3a_row6_col5\" class=\"data row6 col5\" >822134</td>\n",
              "    </tr>\n",
              "    <tr>\n",
              "      <td id=\"T_34b3a_row7_col0\" class=\"data row7 col0\" >Jagmohan</td>\n",
              "      <td id=\"T_34b3a_row7_col1\" class=\"data row7 col1\" >Dalmia</td>\n",
              "      <td id=\"T_34b3a_row7_col2\" class=\"data row7 col2\" >12000</td>\n",
              "      <td id=\"T_34b3a_row7_col3\" class=\"data row7 col3\" >Accounts</td>\n",
              "      <td id=\"T_34b3a_row7_col4\" class=\"data row7 col4\" >Calcutta</td>\n",
              "      <td id=\"T_34b3a_row7_col5\" class=\"data row7 col5\" >822134</td>\n",
              "    </tr>\n",
              "    <tr>\n",
              "      <td id=\"T_34b3a_row8_col0\" class=\"data row8 col0\" >Rahul</td>\n",
              "      <td id=\"T_34b3a_row8_col1\" class=\"data row8 col1\" >Dravid</td>\n",
              "      <td id=\"T_34b3a_row8_col2\" class=\"data row8 col2\" >40000</td>\n",
              "      <td id=\"T_34b3a_row8_col3\" class=\"data row8 col3\" >Accounts</td>\n",
              "      <td id=\"T_34b3a_row8_col4\" class=\"data row8 col4\" >Calcutta</td>\n",
              "      <td id=\"T_34b3a_row8_col5\" class=\"data row8 col5\" >822134</td>\n",
              "    </tr>\n",
              "    <tr>\n",
              "      <td id=\"T_34b3a_row9_col0\" class=\"data row9 col0\" >Sourav</td>\n",
              "      <td id=\"T_34b3a_row9_col1\" class=\"data row9 col1\" >Ganguly</td>\n",
              "      <td id=\"T_34b3a_row9_col2\" class=\"data row9 col2\" >20000</td>\n",
              "      <td id=\"T_34b3a_row9_col3\" class=\"data row9 col3\" >Production</td>\n",
              "      <td id=\"T_34b3a_row9_col4\" class=\"data row9 col4\" >Bombay</td>\n",
              "      <td id=\"T_34b3a_row9_col5\" class=\"data row9 col5\" >349870</td>\n",
              "    </tr>\n",
              "    <tr>\n",
              "      <td id=\"T_34b3a_row10_col0\" class=\"data row10 col0\" >Mahender</td>\n",
              "      <td id=\"T_34b3a_row10_col1\" class=\"data row10 col1\" >Dhoni</td>\n",
              "      <td id=\"T_34b3a_row10_col2\" class=\"data row10 col2\" >9000</td>\n",
              "      <td id=\"T_34b3a_row10_col3\" class=\"data row10 col3\" >Production</td>\n",
              "      <td id=\"T_34b3a_row10_col4\" class=\"data row10 col4\" >Bombay</td>\n",
              "      <td id=\"T_34b3a_row10_col5\" class=\"data row10 col5\" >349870</td>\n",
              "    </tr>\n",
              "    <tr>\n",
              "      <td id=\"T_34b3a_row11_col0\" class=\"data row11 col0\" >Rani</td>\n",
              "      <td id=\"T_34b3a_row11_col1\" class=\"data row11 col1\" >Mukherjee</td>\n",
              "      <td id=\"T_34b3a_row11_col2\" class=\"data row11 col2\" >25000</td>\n",
              "      <td id=\"T_34b3a_row11_col3\" class=\"data row11 col3\" >Production</td>\n",
              "      <td id=\"T_34b3a_row11_col4\" class=\"data row11 col4\" >Bombay</td>\n",
              "      <td id=\"T_34b3a_row11_col5\" class=\"data row11 col5\" >349870</td>\n",
              "    </tr>\n",
              "  </tbody>\n",
              "</table>\n"
            ]
          },
          "metadata": {},
          "execution_count": 48
        }
      ]
    },
    {
      "cell_type": "code",
      "source": [
        "sql = 'select empid, firstname, deptname, location from empl INNER JOIN dept ON empl.deptid = dept.deptid'\n",
        "runSelect(sql)"
      ],
      "metadata": {
        "colab": {
          "base_uri": "https://localhost:8080/",
          "height": 425
        },
        "id": "LVrEArEc1VcF",
        "outputId": "10b404e2-98c2-4c3a-f7ad-e3e70af754a2"
      },
      "execution_count": 49,
      "outputs": [
        {
          "output_type": "execute_result",
          "data": {
            "text/plain": [
              "<pandas.io.formats.style.Styler at 0x7bb964f76a10>"
            ],
            "text/html": [
              "<style type=\"text/css\">\n",
              "</style>\n",
              "<table id=\"T_5e05e\" class=\"dataframe\">\n",
              "  <thead>\n",
              "    <tr>\n",
              "      <th id=\"T_5e05e_level0_col0\" class=\"col_heading level0 col0\" >empid</th>\n",
              "      <th id=\"T_5e05e_level0_col1\" class=\"col_heading level0 col1\" >firstname</th>\n",
              "      <th id=\"T_5e05e_level0_col2\" class=\"col_heading level0 col2\" >deptname</th>\n",
              "      <th id=\"T_5e05e_level0_col3\" class=\"col_heading level0 col3\" >location</th>\n",
              "    </tr>\n",
              "  </thead>\n",
              "  <tbody>\n",
              "    <tr>\n",
              "      <td id=\"T_5e05e_row0_col0\" class=\"data row0 col0\" >546223</td>\n",
              "      <td id=\"T_5e05e_row0_col1\" class=\"data row0 col1\" >Narayan</td>\n",
              "      <td id=\"T_5e05e_row0_col2\" class=\"data row0 col2\" >Corporate</td>\n",
              "      <td id=\"T_5e05e_row0_col3\" class=\"data row0 col3\" >Calcutta</td>\n",
              "    </tr>\n",
              "    <tr>\n",
              "      <td id=\"T_5e05e_row1_col0\" class=\"data row1 col0\" >299034</td>\n",
              "      <td id=\"T_5e05e_row1_col1\" class=\"data row1 col1\" >Rekha</td>\n",
              "      <td id=\"T_5e05e_row1_col2\" class=\"data row1 col2\" >Corporate</td>\n",
              "      <td id=\"T_5e05e_row1_col3\" class=\"data row1 col3\" >Calcutta</td>\n",
              "    </tr>\n",
              "    <tr>\n",
              "      <td id=\"T_5e05e_row2_col0\" class=\"data row2 col0\" >742866</td>\n",
              "      <td id=\"T_5e05e_row2_col1\" class=\"data row2 col1\" >Amitabh</td>\n",
              "      <td id=\"T_5e05e_row2_col2\" class=\"data row2 col2\" >Corporate</td>\n",
              "      <td id=\"T_5e05e_row2_col3\" class=\"data row2 col3\" >Calcutta</td>\n",
              "    </tr>\n",
              "    <tr>\n",
              "      <td id=\"T_5e05e_row3_col0\" class=\"data row3 col0\" >897889</td>\n",
              "      <td id=\"T_5e05e_row3_col1\" class=\"data row3 col1\" >Virender</td>\n",
              "      <td id=\"T_5e05e_row3_col2\" class=\"data row3 col2\" >Sales</td>\n",
              "      <td id=\"T_5e05e_row3_col3\" class=\"data row3 col3\" >Calcutta</td>\n",
              "    </tr>\n",
              "    <tr>\n",
              "      <td id=\"T_5e05e_row4_col0\" class=\"data row4 col0\" >239456</td>\n",
              "      <td id=\"T_5e05e_row4_col1\" class=\"data row4 col1\" >Shahrukh</td>\n",
              "      <td id=\"T_5e05e_row4_col2\" class=\"data row4 col2\" >Sales</td>\n",
              "      <td id=\"T_5e05e_row4_col3\" class=\"data row4 col3\" >Calcutta</td>\n",
              "    </tr>\n",
              "    <tr>\n",
              "      <td id=\"T_5e05e_row5_col0\" class=\"data row5 col0\" >865477</td>\n",
              "      <td id=\"T_5e05e_row5_col1\" class=\"data row5 col1\" >Madhuri</td>\n",
              "      <td id=\"T_5e05e_row5_col2\" class=\"data row5 col2\" >Sales</td>\n",
              "      <td id=\"T_5e05e_row5_col3\" class=\"data row5 col3\" >Calcutta</td>\n",
              "    </tr>\n",
              "    <tr>\n",
              "      <td id=\"T_5e05e_row6_col0\" class=\"data row6 col0\" >223112</td>\n",
              "      <td id=\"T_5e05e_row6_col1\" class=\"data row6 col1\" >Sania</td>\n",
              "      <td id=\"T_5e05e_row6_col2\" class=\"data row6 col2\" >Accounts</td>\n",
              "      <td id=\"T_5e05e_row6_col3\" class=\"data row6 col3\" >Calcutta</td>\n",
              "    </tr>\n",
              "    <tr>\n",
              "      <td id=\"T_5e05e_row7_col0\" class=\"data row7 col0\" >997445</td>\n",
              "      <td id=\"T_5e05e_row7_col1\" class=\"data row7 col1\" >Jagmohan</td>\n",
              "      <td id=\"T_5e05e_row7_col2\" class=\"data row7 col2\" >Accounts</td>\n",
              "      <td id=\"T_5e05e_row7_col3\" class=\"data row7 col3\" >Calcutta</td>\n",
              "    </tr>\n",
              "    <tr>\n",
              "      <td id=\"T_5e05e_row8_col0\" class=\"data row8 col0\" >822134</td>\n",
              "      <td id=\"T_5e05e_row8_col1\" class=\"data row8 col1\" >Rahul</td>\n",
              "      <td id=\"T_5e05e_row8_col2\" class=\"data row8 col2\" >Accounts</td>\n",
              "      <td id=\"T_5e05e_row8_col3\" class=\"data row8 col3\" >Calcutta</td>\n",
              "    </tr>\n",
              "    <tr>\n",
              "      <td id=\"T_5e05e_row9_col0\" class=\"data row9 col0\" >989007</td>\n",
              "      <td id=\"T_5e05e_row9_col1\" class=\"data row9 col1\" >Sourav</td>\n",
              "      <td id=\"T_5e05e_row9_col2\" class=\"data row9 col2\" >Production</td>\n",
              "      <td id=\"T_5e05e_row9_col3\" class=\"data row9 col3\" >Bombay</td>\n",
              "    </tr>\n",
              "    <tr>\n",
              "      <td id=\"T_5e05e_row10_col0\" class=\"data row10 col0\" >123980</td>\n",
              "      <td id=\"T_5e05e_row10_col1\" class=\"data row10 col1\" >Mahender</td>\n",
              "      <td id=\"T_5e05e_row10_col2\" class=\"data row10 col2\" >Production</td>\n",
              "      <td id=\"T_5e05e_row10_col3\" class=\"data row10 col3\" >Bombay</td>\n",
              "    </tr>\n",
              "    <tr>\n",
              "      <td id=\"T_5e05e_row11_col0\" class=\"data row11 col0\" >349870</td>\n",
              "      <td id=\"T_5e05e_row11_col1\" class=\"data row11 col1\" >Rani</td>\n",
              "      <td id=\"T_5e05e_row11_col2\" class=\"data row11 col2\" >Production</td>\n",
              "      <td id=\"T_5e05e_row11_col3\" class=\"data row11 col3\" >Bombay</td>\n",
              "    </tr>\n",
              "  </tbody>\n",
              "</table>\n"
            ]
          },
          "metadata": {},
          "execution_count": 49
        }
      ]
    },
    {
      "cell_type": "code",
      "source": [
        "sql = 'select deptname,round(sum(salary),0) payroll from empl INNER JOIN dept ON empl.deptid = dept.deptid \\\n",
        "group by deptname'\n",
        "runSelect(sql)"
      ],
      "metadata": {
        "id": "pKk82QRi28DP",
        "outputId": "90b782d1-3e54-44dd-d1ce-9317f2123420",
        "colab": {
          "base_uri": "https://localhost:8080/",
          "height": 175
        }
      },
      "execution_count": 50,
      "outputs": [
        {
          "output_type": "execute_result",
          "data": {
            "text/plain": [
              "<pandas.io.formats.style.Styler at 0x7bb964f768f0>"
            ],
            "text/html": [
              "<style type=\"text/css\">\n",
              "</style>\n",
              "<table id=\"T_193a7\" class=\"dataframe\">\n",
              "  <thead>\n",
              "    <tr>\n",
              "      <th id=\"T_193a7_level0_col0\" class=\"col_heading level0 col0\" >deptname</th>\n",
              "      <th id=\"T_193a7_level0_col1\" class=\"col_heading level0 col1\" >payroll</th>\n",
              "    </tr>\n",
              "  </thead>\n",
              "  <tbody>\n",
              "    <tr>\n",
              "      <td id=\"T_193a7_row0_col0\" class=\"data row0 col0\" >Corporate</td>\n",
              "      <td id=\"T_193a7_row0_col1\" class=\"data row0 col1\" >150000</td>\n",
              "    </tr>\n",
              "    <tr>\n",
              "      <td id=\"T_193a7_row1_col0\" class=\"data row1 col0\" >Accounts</td>\n",
              "      <td id=\"T_193a7_row1_col1\" class=\"data row1 col1\" >77000</td>\n",
              "    </tr>\n",
              "    <tr>\n",
              "      <td id=\"T_193a7_row2_col0\" class=\"data row2 col0\" >Sales</td>\n",
              "      <td id=\"T_193a7_row2_col1\" class=\"data row2 col1\" >55000</td>\n",
              "    </tr>\n",
              "    <tr>\n",
              "      <td id=\"T_193a7_row3_col0\" class=\"data row3 col0\" >Production</td>\n",
              "      <td id=\"T_193a7_row3_col1\" class=\"data row3 col1\" >54000</td>\n",
              "    </tr>\n",
              "  </tbody>\n",
              "</table>\n"
            ]
          },
          "metadata": {},
          "execution_count": 50
        }
      ]
    },
    {
      "cell_type": "markdown",
      "source": [
        "## Outer Join"
      ],
      "metadata": {
        "id": "tK9uJHAL1u6x"
      }
    },
    {
      "cell_type": "markdown",
      "source": [
        "### Left Outer"
      ],
      "metadata": {
        "id": "5wGFVhyJ2x8S"
      }
    },
    {
      "cell_type": "code",
      "source": [
        "sql = 'select empid, firstname, deptname, location from empl LEFT JOIN dept ON empl.deptid = dept.deptid'\n",
        "runSelect(sql)"
      ],
      "metadata": {
        "colab": {
          "base_uri": "https://localhost:8080/",
          "height": 457
        },
        "id": "Ls6VfOXt1zTq",
        "outputId": "1cb589da-1c0d-4bc5-dfeb-d477c5336038"
      },
      "execution_count": 51,
      "outputs": [
        {
          "output_type": "execute_result",
          "data": {
            "text/plain": [
              "<pandas.io.formats.style.Styler at 0x7bb964f75270>"
            ],
            "text/html": [
              "<style type=\"text/css\">\n",
              "</style>\n",
              "<table id=\"T_d528f\" class=\"dataframe\">\n",
              "  <thead>\n",
              "    <tr>\n",
              "      <th id=\"T_d528f_level0_col0\" class=\"col_heading level0 col0\" >empid</th>\n",
              "      <th id=\"T_d528f_level0_col1\" class=\"col_heading level0 col1\" >firstname</th>\n",
              "      <th id=\"T_d528f_level0_col2\" class=\"col_heading level0 col2\" >deptname</th>\n",
              "      <th id=\"T_d528f_level0_col3\" class=\"col_heading level0 col3\" >location</th>\n",
              "    </tr>\n",
              "  </thead>\n",
              "  <tbody>\n",
              "    <tr>\n",
              "      <td id=\"T_d528f_row0_col0\" class=\"data row0 col0\" >546223</td>\n",
              "      <td id=\"T_d528f_row0_col1\" class=\"data row0 col1\" >Narayan</td>\n",
              "      <td id=\"T_d528f_row0_col2\" class=\"data row0 col2\" >Corporate</td>\n",
              "      <td id=\"T_d528f_row0_col3\" class=\"data row0 col3\" >Calcutta</td>\n",
              "    </tr>\n",
              "    <tr>\n",
              "      <td id=\"T_d528f_row1_col0\" class=\"data row1 col0\" >299034</td>\n",
              "      <td id=\"T_d528f_row1_col1\" class=\"data row1 col1\" >Rekha</td>\n",
              "      <td id=\"T_d528f_row1_col2\" class=\"data row1 col2\" >Corporate</td>\n",
              "      <td id=\"T_d528f_row1_col3\" class=\"data row1 col3\" >Calcutta</td>\n",
              "    </tr>\n",
              "    <tr>\n",
              "      <td id=\"T_d528f_row2_col0\" class=\"data row2 col0\" >742866</td>\n",
              "      <td id=\"T_d528f_row2_col1\" class=\"data row2 col1\" >Amitabh</td>\n",
              "      <td id=\"T_d528f_row2_col2\" class=\"data row2 col2\" >Corporate</td>\n",
              "      <td id=\"T_d528f_row2_col3\" class=\"data row2 col3\" >Calcutta</td>\n",
              "    </tr>\n",
              "    <tr>\n",
              "      <td id=\"T_d528f_row3_col0\" class=\"data row3 col0\" >897889</td>\n",
              "      <td id=\"T_d528f_row3_col1\" class=\"data row3 col1\" >Virender</td>\n",
              "      <td id=\"T_d528f_row3_col2\" class=\"data row3 col2\" >Sales</td>\n",
              "      <td id=\"T_d528f_row3_col3\" class=\"data row3 col3\" >Calcutta</td>\n",
              "    </tr>\n",
              "    <tr>\n",
              "      <td id=\"T_d528f_row4_col0\" class=\"data row4 col0\" >239456</td>\n",
              "      <td id=\"T_d528f_row4_col1\" class=\"data row4 col1\" >Shahrukh</td>\n",
              "      <td id=\"T_d528f_row4_col2\" class=\"data row4 col2\" >Sales</td>\n",
              "      <td id=\"T_d528f_row4_col3\" class=\"data row4 col3\" >Calcutta</td>\n",
              "    </tr>\n",
              "    <tr>\n",
              "      <td id=\"T_d528f_row5_col0\" class=\"data row5 col0\" >865477</td>\n",
              "      <td id=\"T_d528f_row5_col1\" class=\"data row5 col1\" >Madhuri</td>\n",
              "      <td id=\"T_d528f_row5_col2\" class=\"data row5 col2\" >Sales</td>\n",
              "      <td id=\"T_d528f_row5_col3\" class=\"data row5 col3\" >Calcutta</td>\n",
              "    </tr>\n",
              "    <tr>\n",
              "      <td id=\"T_d528f_row6_col0\" class=\"data row6 col0\" >223112</td>\n",
              "      <td id=\"T_d528f_row6_col1\" class=\"data row6 col1\" >Sania</td>\n",
              "      <td id=\"T_d528f_row6_col2\" class=\"data row6 col2\" >Accounts</td>\n",
              "      <td id=\"T_d528f_row6_col3\" class=\"data row6 col3\" >Calcutta</td>\n",
              "    </tr>\n",
              "    <tr>\n",
              "      <td id=\"T_d528f_row7_col0\" class=\"data row7 col0\" >997445</td>\n",
              "      <td id=\"T_d528f_row7_col1\" class=\"data row7 col1\" >Jagmohan</td>\n",
              "      <td id=\"T_d528f_row7_col2\" class=\"data row7 col2\" >Accounts</td>\n",
              "      <td id=\"T_d528f_row7_col3\" class=\"data row7 col3\" >Calcutta</td>\n",
              "    </tr>\n",
              "    <tr>\n",
              "      <td id=\"T_d528f_row8_col0\" class=\"data row8 col0\" >822134</td>\n",
              "      <td id=\"T_d528f_row8_col1\" class=\"data row8 col1\" >Rahul</td>\n",
              "      <td id=\"T_d528f_row8_col2\" class=\"data row8 col2\" >Accounts</td>\n",
              "      <td id=\"T_d528f_row8_col3\" class=\"data row8 col3\" >Calcutta</td>\n",
              "    </tr>\n",
              "    <tr>\n",
              "      <td id=\"T_d528f_row9_col0\" class=\"data row9 col0\" >989007</td>\n",
              "      <td id=\"T_d528f_row9_col1\" class=\"data row9 col1\" >Sourav</td>\n",
              "      <td id=\"T_d528f_row9_col2\" class=\"data row9 col2\" >Production</td>\n",
              "      <td id=\"T_d528f_row9_col3\" class=\"data row9 col3\" >Bombay</td>\n",
              "    </tr>\n",
              "    <tr>\n",
              "      <td id=\"T_d528f_row10_col0\" class=\"data row10 col0\" >123980</td>\n",
              "      <td id=\"T_d528f_row10_col1\" class=\"data row10 col1\" >Mahender</td>\n",
              "      <td id=\"T_d528f_row10_col2\" class=\"data row10 col2\" >Production</td>\n",
              "      <td id=\"T_d528f_row10_col3\" class=\"data row10 col3\" >Bombay</td>\n",
              "    </tr>\n",
              "    <tr>\n",
              "      <td id=\"T_d528f_row11_col0\" class=\"data row11 col0\" >349870</td>\n",
              "      <td id=\"T_d528f_row11_col1\" class=\"data row11 col1\" >Rani</td>\n",
              "      <td id=\"T_d528f_row11_col2\" class=\"data row11 col2\" >Production</td>\n",
              "      <td id=\"T_d528f_row11_col3\" class=\"data row11 col3\" >Bombay</td>\n",
              "    </tr>\n",
              "    <tr>\n",
              "      <td id=\"T_d528f_row12_col0\" class=\"data row12 col0\" >546224</td>\n",
              "      <td id=\"T_d528f_row12_col1\" class=\"data row12 col1\" >Chettri</td>\n",
              "      <td id=\"T_d528f_row12_col2\" class=\"data row12 col2\" >None</td>\n",
              "      <td id=\"T_d528f_row12_col3\" class=\"data row12 col3\" >None</td>\n",
              "    </tr>\n",
              "  </tbody>\n",
              "</table>\n"
            ]
          },
          "metadata": {},
          "execution_count": 51
        }
      ]
    },
    {
      "cell_type": "markdown",
      "source": [
        "### Right Outer"
      ],
      "metadata": {
        "id": "iJ6DASb121Og"
      }
    },
    {
      "cell_type": "code",
      "source": [
        "sql = 'select empid, firstname, deptname, location from empl RIGHT JOIN dept ON empl.deptid = dept.deptid'\n",
        "runSelect(sql)"
      ],
      "metadata": {
        "colab": {
          "base_uri": "https://localhost:8080/",
          "height": 457
        },
        "id": "khvQpQ4E2XND",
        "outputId": "0eae5896-e84c-4ec5-f143-bbc3ba65bb3b"
      },
      "execution_count": 52,
      "outputs": [
        {
          "output_type": "execute_result",
          "data": {
            "text/plain": [
              "<pandas.io.formats.style.Styler at 0x7bb964f774c0>"
            ],
            "text/html": [
              "<style type=\"text/css\">\n",
              "</style>\n",
              "<table id=\"T_e2d88\" class=\"dataframe\">\n",
              "  <thead>\n",
              "    <tr>\n",
              "      <th id=\"T_e2d88_level0_col0\" class=\"col_heading level0 col0\" >empid</th>\n",
              "      <th id=\"T_e2d88_level0_col1\" class=\"col_heading level0 col1\" >firstname</th>\n",
              "      <th id=\"T_e2d88_level0_col2\" class=\"col_heading level0 col2\" >deptname</th>\n",
              "      <th id=\"T_e2d88_level0_col3\" class=\"col_heading level0 col3\" >location</th>\n",
              "    </tr>\n",
              "  </thead>\n",
              "  <tbody>\n",
              "    <tr>\n",
              "      <td id=\"T_e2d88_row0_col0\" class=\"data row0 col0\" >546223</td>\n",
              "      <td id=\"T_e2d88_row0_col1\" class=\"data row0 col1\" >Narayan</td>\n",
              "      <td id=\"T_e2d88_row0_col2\" class=\"data row0 col2\" >Corporate</td>\n",
              "      <td id=\"T_e2d88_row0_col3\" class=\"data row0 col3\" >Calcutta</td>\n",
              "    </tr>\n",
              "    <tr>\n",
              "      <td id=\"T_e2d88_row1_col0\" class=\"data row1 col0\" >299034</td>\n",
              "      <td id=\"T_e2d88_row1_col1\" class=\"data row1 col1\" >Rekha</td>\n",
              "      <td id=\"T_e2d88_row1_col2\" class=\"data row1 col2\" >Corporate</td>\n",
              "      <td id=\"T_e2d88_row1_col3\" class=\"data row1 col3\" >Calcutta</td>\n",
              "    </tr>\n",
              "    <tr>\n",
              "      <td id=\"T_e2d88_row2_col0\" class=\"data row2 col0\" >742866</td>\n",
              "      <td id=\"T_e2d88_row2_col1\" class=\"data row2 col1\" >Amitabh</td>\n",
              "      <td id=\"T_e2d88_row2_col2\" class=\"data row2 col2\" >Corporate</td>\n",
              "      <td id=\"T_e2d88_row2_col3\" class=\"data row2 col3\" >Calcutta</td>\n",
              "    </tr>\n",
              "    <tr>\n",
              "      <td id=\"T_e2d88_row3_col0\" class=\"data row3 col0\" >897889</td>\n",
              "      <td id=\"T_e2d88_row3_col1\" class=\"data row3 col1\" >Virender</td>\n",
              "      <td id=\"T_e2d88_row3_col2\" class=\"data row3 col2\" >Sales</td>\n",
              "      <td id=\"T_e2d88_row3_col3\" class=\"data row3 col3\" >Calcutta</td>\n",
              "    </tr>\n",
              "    <tr>\n",
              "      <td id=\"T_e2d88_row4_col0\" class=\"data row4 col0\" >239456</td>\n",
              "      <td id=\"T_e2d88_row4_col1\" class=\"data row4 col1\" >Shahrukh</td>\n",
              "      <td id=\"T_e2d88_row4_col2\" class=\"data row4 col2\" >Sales</td>\n",
              "      <td id=\"T_e2d88_row4_col3\" class=\"data row4 col3\" >Calcutta</td>\n",
              "    </tr>\n",
              "    <tr>\n",
              "      <td id=\"T_e2d88_row5_col0\" class=\"data row5 col0\" >865477</td>\n",
              "      <td id=\"T_e2d88_row5_col1\" class=\"data row5 col1\" >Madhuri</td>\n",
              "      <td id=\"T_e2d88_row5_col2\" class=\"data row5 col2\" >Sales</td>\n",
              "      <td id=\"T_e2d88_row5_col3\" class=\"data row5 col3\" >Calcutta</td>\n",
              "    </tr>\n",
              "    <tr>\n",
              "      <td id=\"T_e2d88_row6_col0\" class=\"data row6 col0\" >223112</td>\n",
              "      <td id=\"T_e2d88_row6_col1\" class=\"data row6 col1\" >Sania</td>\n",
              "      <td id=\"T_e2d88_row6_col2\" class=\"data row6 col2\" >Accounts</td>\n",
              "      <td id=\"T_e2d88_row6_col3\" class=\"data row6 col3\" >Calcutta</td>\n",
              "    </tr>\n",
              "    <tr>\n",
              "      <td id=\"T_e2d88_row7_col0\" class=\"data row7 col0\" >997445</td>\n",
              "      <td id=\"T_e2d88_row7_col1\" class=\"data row7 col1\" >Jagmohan</td>\n",
              "      <td id=\"T_e2d88_row7_col2\" class=\"data row7 col2\" >Accounts</td>\n",
              "      <td id=\"T_e2d88_row7_col3\" class=\"data row7 col3\" >Calcutta</td>\n",
              "    </tr>\n",
              "    <tr>\n",
              "      <td id=\"T_e2d88_row8_col0\" class=\"data row8 col0\" >822134</td>\n",
              "      <td id=\"T_e2d88_row8_col1\" class=\"data row8 col1\" >Rahul</td>\n",
              "      <td id=\"T_e2d88_row8_col2\" class=\"data row8 col2\" >Accounts</td>\n",
              "      <td id=\"T_e2d88_row8_col3\" class=\"data row8 col3\" >Calcutta</td>\n",
              "    </tr>\n",
              "    <tr>\n",
              "      <td id=\"T_e2d88_row9_col0\" class=\"data row9 col0\" >989007</td>\n",
              "      <td id=\"T_e2d88_row9_col1\" class=\"data row9 col1\" >Sourav</td>\n",
              "      <td id=\"T_e2d88_row9_col2\" class=\"data row9 col2\" >Production</td>\n",
              "      <td id=\"T_e2d88_row9_col3\" class=\"data row9 col3\" >Bombay</td>\n",
              "    </tr>\n",
              "    <tr>\n",
              "      <td id=\"T_e2d88_row10_col0\" class=\"data row10 col0\" >123980</td>\n",
              "      <td id=\"T_e2d88_row10_col1\" class=\"data row10 col1\" >Mahender</td>\n",
              "      <td id=\"T_e2d88_row10_col2\" class=\"data row10 col2\" >Production</td>\n",
              "      <td id=\"T_e2d88_row10_col3\" class=\"data row10 col3\" >Bombay</td>\n",
              "    </tr>\n",
              "    <tr>\n",
              "      <td id=\"T_e2d88_row11_col0\" class=\"data row11 col0\" >349870</td>\n",
              "      <td id=\"T_e2d88_row11_col1\" class=\"data row11 col1\" >Rani</td>\n",
              "      <td id=\"T_e2d88_row11_col2\" class=\"data row11 col2\" >Production</td>\n",
              "      <td id=\"T_e2d88_row11_col3\" class=\"data row11 col3\" >Bombay</td>\n",
              "    </tr>\n",
              "    <tr>\n",
              "      <td id=\"T_e2d88_row12_col0\" class=\"data row12 col0\" >None</td>\n",
              "      <td id=\"T_e2d88_row12_col1\" class=\"data row12 col1\" >None</td>\n",
              "      <td id=\"T_e2d88_row12_col2\" class=\"data row12 col2\" >Research</td>\n",
              "      <td id=\"T_e2d88_row12_col3\" class=\"data row12 col3\" >Delhi</td>\n",
              "    </tr>\n",
              "  </tbody>\n",
              "</table>\n"
            ]
          },
          "metadata": {},
          "execution_count": 52
        }
      ]
    },
    {
      "cell_type": "markdown",
      "source": [
        "### Full Outer"
      ],
      "metadata": {
        "id": "RsEyhBBp24zy"
      }
    },
    {
      "cell_type": "code",
      "source": [
        "sql = 'select empid, firstname, deptname, location from empl FULL JOIN dept ON empl.deptid = dept.deptid'\n",
        "runSelect(sql)"
      ],
      "metadata": {
        "colab": {
          "base_uri": "https://localhost:8080/",
          "height": 488
        },
        "id": "Ipt14U9o2qFg",
        "outputId": "b82282d7-4a68-4aea-d481-7ec46e9fbf87"
      },
      "execution_count": 53,
      "outputs": [
        {
          "output_type": "execute_result",
          "data": {
            "text/plain": [
              "<pandas.io.formats.style.Styler at 0x7bb964f77070>"
            ],
            "text/html": [
              "<style type=\"text/css\">\n",
              "</style>\n",
              "<table id=\"T_dc5b1\" class=\"dataframe\">\n",
              "  <thead>\n",
              "    <tr>\n",
              "      <th id=\"T_dc5b1_level0_col0\" class=\"col_heading level0 col0\" >empid</th>\n",
              "      <th id=\"T_dc5b1_level0_col1\" class=\"col_heading level0 col1\" >firstname</th>\n",
              "      <th id=\"T_dc5b1_level0_col2\" class=\"col_heading level0 col2\" >deptname</th>\n",
              "      <th id=\"T_dc5b1_level0_col3\" class=\"col_heading level0 col3\" >location</th>\n",
              "    </tr>\n",
              "  </thead>\n",
              "  <tbody>\n",
              "    <tr>\n",
              "      <td id=\"T_dc5b1_row0_col0\" class=\"data row0 col0\" >546223</td>\n",
              "      <td id=\"T_dc5b1_row0_col1\" class=\"data row0 col1\" >Narayan</td>\n",
              "      <td id=\"T_dc5b1_row0_col2\" class=\"data row0 col2\" >Corporate</td>\n",
              "      <td id=\"T_dc5b1_row0_col3\" class=\"data row0 col3\" >Calcutta</td>\n",
              "    </tr>\n",
              "    <tr>\n",
              "      <td id=\"T_dc5b1_row1_col0\" class=\"data row1 col0\" >299034</td>\n",
              "      <td id=\"T_dc5b1_row1_col1\" class=\"data row1 col1\" >Rekha</td>\n",
              "      <td id=\"T_dc5b1_row1_col2\" class=\"data row1 col2\" >Corporate</td>\n",
              "      <td id=\"T_dc5b1_row1_col3\" class=\"data row1 col3\" >Calcutta</td>\n",
              "    </tr>\n",
              "    <tr>\n",
              "      <td id=\"T_dc5b1_row2_col0\" class=\"data row2 col0\" >742866</td>\n",
              "      <td id=\"T_dc5b1_row2_col1\" class=\"data row2 col1\" >Amitabh</td>\n",
              "      <td id=\"T_dc5b1_row2_col2\" class=\"data row2 col2\" >Corporate</td>\n",
              "      <td id=\"T_dc5b1_row2_col3\" class=\"data row2 col3\" >Calcutta</td>\n",
              "    </tr>\n",
              "    <tr>\n",
              "      <td id=\"T_dc5b1_row3_col0\" class=\"data row3 col0\" >897889</td>\n",
              "      <td id=\"T_dc5b1_row3_col1\" class=\"data row3 col1\" >Virender</td>\n",
              "      <td id=\"T_dc5b1_row3_col2\" class=\"data row3 col2\" >Sales</td>\n",
              "      <td id=\"T_dc5b1_row3_col3\" class=\"data row3 col3\" >Calcutta</td>\n",
              "    </tr>\n",
              "    <tr>\n",
              "      <td id=\"T_dc5b1_row4_col0\" class=\"data row4 col0\" >239456</td>\n",
              "      <td id=\"T_dc5b1_row4_col1\" class=\"data row4 col1\" >Shahrukh</td>\n",
              "      <td id=\"T_dc5b1_row4_col2\" class=\"data row4 col2\" >Sales</td>\n",
              "      <td id=\"T_dc5b1_row4_col3\" class=\"data row4 col3\" >Calcutta</td>\n",
              "    </tr>\n",
              "    <tr>\n",
              "      <td id=\"T_dc5b1_row5_col0\" class=\"data row5 col0\" >865477</td>\n",
              "      <td id=\"T_dc5b1_row5_col1\" class=\"data row5 col1\" >Madhuri</td>\n",
              "      <td id=\"T_dc5b1_row5_col2\" class=\"data row5 col2\" >Sales</td>\n",
              "      <td id=\"T_dc5b1_row5_col3\" class=\"data row5 col3\" >Calcutta</td>\n",
              "    </tr>\n",
              "    <tr>\n",
              "      <td id=\"T_dc5b1_row6_col0\" class=\"data row6 col0\" >223112</td>\n",
              "      <td id=\"T_dc5b1_row6_col1\" class=\"data row6 col1\" >Sania</td>\n",
              "      <td id=\"T_dc5b1_row6_col2\" class=\"data row6 col2\" >Accounts</td>\n",
              "      <td id=\"T_dc5b1_row6_col3\" class=\"data row6 col3\" >Calcutta</td>\n",
              "    </tr>\n",
              "    <tr>\n",
              "      <td id=\"T_dc5b1_row7_col0\" class=\"data row7 col0\" >997445</td>\n",
              "      <td id=\"T_dc5b1_row7_col1\" class=\"data row7 col1\" >Jagmohan</td>\n",
              "      <td id=\"T_dc5b1_row7_col2\" class=\"data row7 col2\" >Accounts</td>\n",
              "      <td id=\"T_dc5b1_row7_col3\" class=\"data row7 col3\" >Calcutta</td>\n",
              "    </tr>\n",
              "    <tr>\n",
              "      <td id=\"T_dc5b1_row8_col0\" class=\"data row8 col0\" >822134</td>\n",
              "      <td id=\"T_dc5b1_row8_col1\" class=\"data row8 col1\" >Rahul</td>\n",
              "      <td id=\"T_dc5b1_row8_col2\" class=\"data row8 col2\" >Accounts</td>\n",
              "      <td id=\"T_dc5b1_row8_col3\" class=\"data row8 col3\" >Calcutta</td>\n",
              "    </tr>\n",
              "    <tr>\n",
              "      <td id=\"T_dc5b1_row9_col0\" class=\"data row9 col0\" >989007</td>\n",
              "      <td id=\"T_dc5b1_row9_col1\" class=\"data row9 col1\" >Sourav</td>\n",
              "      <td id=\"T_dc5b1_row9_col2\" class=\"data row9 col2\" >Production</td>\n",
              "      <td id=\"T_dc5b1_row9_col3\" class=\"data row9 col3\" >Bombay</td>\n",
              "    </tr>\n",
              "    <tr>\n",
              "      <td id=\"T_dc5b1_row10_col0\" class=\"data row10 col0\" >123980</td>\n",
              "      <td id=\"T_dc5b1_row10_col1\" class=\"data row10 col1\" >Mahender</td>\n",
              "      <td id=\"T_dc5b1_row10_col2\" class=\"data row10 col2\" >Production</td>\n",
              "      <td id=\"T_dc5b1_row10_col3\" class=\"data row10 col3\" >Bombay</td>\n",
              "    </tr>\n",
              "    <tr>\n",
              "      <td id=\"T_dc5b1_row11_col0\" class=\"data row11 col0\" >349870</td>\n",
              "      <td id=\"T_dc5b1_row11_col1\" class=\"data row11 col1\" >Rani</td>\n",
              "      <td id=\"T_dc5b1_row11_col2\" class=\"data row11 col2\" >Production</td>\n",
              "      <td id=\"T_dc5b1_row11_col3\" class=\"data row11 col3\" >Bombay</td>\n",
              "    </tr>\n",
              "    <tr>\n",
              "      <td id=\"T_dc5b1_row12_col0\" class=\"data row12 col0\" >None</td>\n",
              "      <td id=\"T_dc5b1_row12_col1\" class=\"data row12 col1\" >None</td>\n",
              "      <td id=\"T_dc5b1_row12_col2\" class=\"data row12 col2\" >Research</td>\n",
              "      <td id=\"T_dc5b1_row12_col3\" class=\"data row12 col3\" >Delhi</td>\n",
              "    </tr>\n",
              "    <tr>\n",
              "      <td id=\"T_dc5b1_row13_col0\" class=\"data row13 col0\" >546224</td>\n",
              "      <td id=\"T_dc5b1_row13_col1\" class=\"data row13 col1\" >Chettri</td>\n",
              "      <td id=\"T_dc5b1_row13_col2\" class=\"data row13 col2\" >None</td>\n",
              "      <td id=\"T_dc5b1_row13_col3\" class=\"data row13 col3\" >None</td>\n",
              "    </tr>\n",
              "  </tbody>\n",
              "</table>\n"
            ]
          },
          "metadata": {},
          "execution_count": 53
        }
      ]
    },
    {
      "cell_type": "code",
      "source": [
        "sql = 'select deptname,round(sum(salary),0) payroll from empl FULL JOIN dept ON empl.deptid = dept.deptid \\\n",
        "group by deptname'\n",
        "runSelect(sql)"
      ],
      "metadata": {
        "id": "EAI2kiYP3p9O",
        "outputId": "b2a8dc64-f387-48a8-c99a-0565784a0940",
        "colab": {
          "base_uri": "https://localhost:8080/",
          "height": 237
        }
      },
      "execution_count": 54,
      "outputs": [
        {
          "output_type": "execute_result",
          "data": {
            "text/plain": [
              "<pandas.io.formats.style.Styler at 0x7bb964f77190>"
            ],
            "text/html": [
              "<style type=\"text/css\">\n",
              "</style>\n",
              "<table id=\"T_83d97\" class=\"dataframe\">\n",
              "  <thead>\n",
              "    <tr>\n",
              "      <th id=\"T_83d97_level0_col0\" class=\"col_heading level0 col0\" >deptname</th>\n",
              "      <th id=\"T_83d97_level0_col1\" class=\"col_heading level0 col1\" >payroll</th>\n",
              "    </tr>\n",
              "  </thead>\n",
              "  <tbody>\n",
              "    <tr>\n",
              "      <td id=\"T_83d97_row0_col0\" class=\"data row0 col0\" >None</td>\n",
              "      <td id=\"T_83d97_row0_col1\" class=\"data row0 col1\" >40000</td>\n",
              "    </tr>\n",
              "    <tr>\n",
              "      <td id=\"T_83d97_row1_col0\" class=\"data row1 col0\" >Research</td>\n",
              "      <td id=\"T_83d97_row1_col1\" class=\"data row1 col1\" >None</td>\n",
              "    </tr>\n",
              "    <tr>\n",
              "      <td id=\"T_83d97_row2_col0\" class=\"data row2 col0\" >Corporate</td>\n",
              "      <td id=\"T_83d97_row2_col1\" class=\"data row2 col1\" >150000</td>\n",
              "    </tr>\n",
              "    <tr>\n",
              "      <td id=\"T_83d97_row3_col0\" class=\"data row3 col0\" >Accounts</td>\n",
              "      <td id=\"T_83d97_row3_col1\" class=\"data row3 col1\" >77000</td>\n",
              "    </tr>\n",
              "    <tr>\n",
              "      <td id=\"T_83d97_row4_col0\" class=\"data row4 col0\" >Sales</td>\n",
              "      <td id=\"T_83d97_row4_col1\" class=\"data row4 col1\" >55000</td>\n",
              "    </tr>\n",
              "    <tr>\n",
              "      <td id=\"T_83d97_row5_col0\" class=\"data row5 col0\" >Production</td>\n",
              "      <td id=\"T_83d97_row5_col1\" class=\"data row5 col1\" >54000</td>\n",
              "    </tr>\n",
              "  </tbody>\n",
              "</table>\n"
            ]
          },
          "metadata": {},
          "execution_count": 54
        }
      ]
    },
    {
      "cell_type": "markdown",
      "source": [
        "## Recursive Joins"
      ],
      "metadata": {
        "id": "6nm2xAfn6pIV"
      }
    },
    {
      "cell_type": "markdown",
      "source": [
        "### Three Tables"
      ],
      "metadata": {
        "id": "A1KCGwwyB02z"
      }
    },
    {
      "cell_type": "code",
      "source": [
        "cmd = \"select w.lastname , w.deptID, '>' linksTo  , d.deptID ,d.managerID,'<' linksTo, m.empID, m.lastname \\\n",
        "        from Empl w, Dept d, Empl m \\\n",
        "        where w.deptID = d.deptID   \\\n",
        "        and d.managerID = m.empID \\\n",
        "    \"\n",
        "runSelect(cmd)"
      ],
      "metadata": {
        "colab": {
          "base_uri": "https://localhost:8080/",
          "height": 425
        },
        "id": "W17nS5R7AL0J",
        "outputId": "61775326-1c95-4007-e977-27e0708f1ebc"
      },
      "execution_count": 55,
      "outputs": [
        {
          "output_type": "execute_result",
          "data": {
            "text/plain": [
              "<pandas.io.formats.style.Styler at 0x7bb964f774f0>"
            ],
            "text/html": [
              "<style type=\"text/css\">\n",
              "</style>\n",
              "<table id=\"T_f9dc9\" class=\"dataframe\">\n",
              "  <thead>\n",
              "    <tr>\n",
              "      <th id=\"T_f9dc9_level0_col0\" class=\"col_heading level0 col0\" >lastname</th>\n",
              "      <th id=\"T_f9dc9_level0_col1\" class=\"col_heading level0 col1\" >deptid</th>\n",
              "      <th id=\"T_f9dc9_level0_col2\" class=\"col_heading level0 col2\" >linksto</th>\n",
              "      <th id=\"T_f9dc9_level0_col3\" class=\"col_heading level0 col3\" >deptid</th>\n",
              "      <th id=\"T_f9dc9_level0_col4\" class=\"col_heading level0 col4\" >managerid</th>\n",
              "      <th id=\"T_f9dc9_level0_col5\" class=\"col_heading level0 col5\" >linksto</th>\n",
              "      <th id=\"T_f9dc9_level0_col6\" class=\"col_heading level0 col6\" >empid</th>\n",
              "      <th id=\"T_f9dc9_level0_col7\" class=\"col_heading level0 col7\" >lastname</th>\n",
              "    </tr>\n",
              "  </thead>\n",
              "  <tbody>\n",
              "    <tr>\n",
              "      <td id=\"T_f9dc9_row0_col0\" class=\"data row0 col0\" >Karthikeyan</td>\n",
              "      <td id=\"T_f9dc9_row0_col1\" class=\"data row0 col1\" >10</td>\n",
              "      <td id=\"T_f9dc9_row0_col2\" class=\"data row0 col2\" >></td>\n",
              "      <td id=\"T_f9dc9_row0_col3\" class=\"data row0 col3\" >10</td>\n",
              "      <td id=\"T_f9dc9_row0_col4\" class=\"data row0 col4\" >299034</td>\n",
              "      <td id=\"T_f9dc9_row0_col5\" class=\"data row0 col5\" ><</td>\n",
              "      <td id=\"T_f9dc9_row0_col6\" class=\"data row0 col6\" >299034</td>\n",
              "      <td id=\"T_f9dc9_row0_col7\" class=\"data row0 col7\" >Ganesan</td>\n",
              "    </tr>\n",
              "    <tr>\n",
              "      <td id=\"T_f9dc9_row1_col0\" class=\"data row1 col0\" >Ganesan</td>\n",
              "      <td id=\"T_f9dc9_row1_col1\" class=\"data row1 col1\" >10</td>\n",
              "      <td id=\"T_f9dc9_row1_col2\" class=\"data row1 col2\" >></td>\n",
              "      <td id=\"T_f9dc9_row1_col3\" class=\"data row1 col3\" >10</td>\n",
              "      <td id=\"T_f9dc9_row1_col4\" class=\"data row1 col4\" >299034</td>\n",
              "      <td id=\"T_f9dc9_row1_col5\" class=\"data row1 col5\" ><</td>\n",
              "      <td id=\"T_f9dc9_row1_col6\" class=\"data row1 col6\" >299034</td>\n",
              "      <td id=\"T_f9dc9_row1_col7\" class=\"data row1 col7\" >Ganesan</td>\n",
              "    </tr>\n",
              "    <tr>\n",
              "      <td id=\"T_f9dc9_row2_col0\" class=\"data row2 col0\" >Bacchan</td>\n",
              "      <td id=\"T_f9dc9_row2_col1\" class=\"data row2 col1\" >10</td>\n",
              "      <td id=\"T_f9dc9_row2_col2\" class=\"data row2 col2\" >></td>\n",
              "      <td id=\"T_f9dc9_row2_col3\" class=\"data row2 col3\" >10</td>\n",
              "      <td id=\"T_f9dc9_row2_col4\" class=\"data row2 col4\" >299034</td>\n",
              "      <td id=\"T_f9dc9_row2_col5\" class=\"data row2 col5\" ><</td>\n",
              "      <td id=\"T_f9dc9_row2_col6\" class=\"data row2 col6\" >299034</td>\n",
              "      <td id=\"T_f9dc9_row2_col7\" class=\"data row2 col7\" >Ganesan</td>\n",
              "    </tr>\n",
              "    <tr>\n",
              "      <td id=\"T_f9dc9_row3_col0\" class=\"data row3 col0\" >Sehwag</td>\n",
              "      <td id=\"T_f9dc9_row3_col1\" class=\"data row3 col1\" >20</td>\n",
              "      <td id=\"T_f9dc9_row3_col2\" class=\"data row3 col2\" >></td>\n",
              "      <td id=\"T_f9dc9_row3_col3\" class=\"data row3 col3\" >20</td>\n",
              "      <td id=\"T_f9dc9_row3_col4\" class=\"data row3 col4\" >239456</td>\n",
              "      <td id=\"T_f9dc9_row3_col5\" class=\"data row3 col5\" ><</td>\n",
              "      <td id=\"T_f9dc9_row3_col6\" class=\"data row3 col6\" >239456</td>\n",
              "      <td id=\"T_f9dc9_row3_col7\" class=\"data row3 col7\" >Khan</td>\n",
              "    </tr>\n",
              "    <tr>\n",
              "      <td id=\"T_f9dc9_row4_col0\" class=\"data row4 col0\" >Khan</td>\n",
              "      <td id=\"T_f9dc9_row4_col1\" class=\"data row4 col1\" >20</td>\n",
              "      <td id=\"T_f9dc9_row4_col2\" class=\"data row4 col2\" >></td>\n",
              "      <td id=\"T_f9dc9_row4_col3\" class=\"data row4 col3\" >20</td>\n",
              "      <td id=\"T_f9dc9_row4_col4\" class=\"data row4 col4\" >239456</td>\n",
              "      <td id=\"T_f9dc9_row4_col5\" class=\"data row4 col5\" ><</td>\n",
              "      <td id=\"T_f9dc9_row4_col6\" class=\"data row4 col6\" >239456</td>\n",
              "      <td id=\"T_f9dc9_row4_col7\" class=\"data row4 col7\" >Khan</td>\n",
              "    </tr>\n",
              "    <tr>\n",
              "      <td id=\"T_f9dc9_row5_col0\" class=\"data row5 col0\" >Dikshit</td>\n",
              "      <td id=\"T_f9dc9_row5_col1\" class=\"data row5 col1\" >20</td>\n",
              "      <td id=\"T_f9dc9_row5_col2\" class=\"data row5 col2\" >></td>\n",
              "      <td id=\"T_f9dc9_row5_col3\" class=\"data row5 col3\" >20</td>\n",
              "      <td id=\"T_f9dc9_row5_col4\" class=\"data row5 col4\" >239456</td>\n",
              "      <td id=\"T_f9dc9_row5_col5\" class=\"data row5 col5\" ><</td>\n",
              "      <td id=\"T_f9dc9_row5_col6\" class=\"data row5 col6\" >239456</td>\n",
              "      <td id=\"T_f9dc9_row5_col7\" class=\"data row5 col7\" >Khan</td>\n",
              "    </tr>\n",
              "    <tr>\n",
              "      <td id=\"T_f9dc9_row6_col0\" class=\"data row6 col0\" >Mirza</td>\n",
              "      <td id=\"T_f9dc9_row6_col1\" class=\"data row6 col1\" >30</td>\n",
              "      <td id=\"T_f9dc9_row6_col2\" class=\"data row6 col2\" >></td>\n",
              "      <td id=\"T_f9dc9_row6_col3\" class=\"data row6 col3\" >30</td>\n",
              "      <td id=\"T_f9dc9_row6_col4\" class=\"data row6 col4\" >822134</td>\n",
              "      <td id=\"T_f9dc9_row6_col5\" class=\"data row6 col5\" ><</td>\n",
              "      <td id=\"T_f9dc9_row6_col6\" class=\"data row6 col6\" >822134</td>\n",
              "      <td id=\"T_f9dc9_row6_col7\" class=\"data row6 col7\" >Dravid</td>\n",
              "    </tr>\n",
              "    <tr>\n",
              "      <td id=\"T_f9dc9_row7_col0\" class=\"data row7 col0\" >Dalmia</td>\n",
              "      <td id=\"T_f9dc9_row7_col1\" class=\"data row7 col1\" >30</td>\n",
              "      <td id=\"T_f9dc9_row7_col2\" class=\"data row7 col2\" >></td>\n",
              "      <td id=\"T_f9dc9_row7_col3\" class=\"data row7 col3\" >30</td>\n",
              "      <td id=\"T_f9dc9_row7_col4\" class=\"data row7 col4\" >822134</td>\n",
              "      <td id=\"T_f9dc9_row7_col5\" class=\"data row7 col5\" ><</td>\n",
              "      <td id=\"T_f9dc9_row7_col6\" class=\"data row7 col6\" >822134</td>\n",
              "      <td id=\"T_f9dc9_row7_col7\" class=\"data row7 col7\" >Dravid</td>\n",
              "    </tr>\n",
              "    <tr>\n",
              "      <td id=\"T_f9dc9_row8_col0\" class=\"data row8 col0\" >Dravid</td>\n",
              "      <td id=\"T_f9dc9_row8_col1\" class=\"data row8 col1\" >30</td>\n",
              "      <td id=\"T_f9dc9_row8_col2\" class=\"data row8 col2\" >></td>\n",
              "      <td id=\"T_f9dc9_row8_col3\" class=\"data row8 col3\" >30</td>\n",
              "      <td id=\"T_f9dc9_row8_col4\" class=\"data row8 col4\" >822134</td>\n",
              "      <td id=\"T_f9dc9_row8_col5\" class=\"data row8 col5\" ><</td>\n",
              "      <td id=\"T_f9dc9_row8_col6\" class=\"data row8 col6\" >822134</td>\n",
              "      <td id=\"T_f9dc9_row8_col7\" class=\"data row8 col7\" >Dravid</td>\n",
              "    </tr>\n",
              "    <tr>\n",
              "      <td id=\"T_f9dc9_row9_col0\" class=\"data row9 col0\" >Ganguly</td>\n",
              "      <td id=\"T_f9dc9_row9_col1\" class=\"data row9 col1\" >40</td>\n",
              "      <td id=\"T_f9dc9_row9_col2\" class=\"data row9 col2\" >></td>\n",
              "      <td id=\"T_f9dc9_row9_col3\" class=\"data row9 col3\" >40</td>\n",
              "      <td id=\"T_f9dc9_row9_col4\" class=\"data row9 col4\" >349870</td>\n",
              "      <td id=\"T_f9dc9_row9_col5\" class=\"data row9 col5\" ><</td>\n",
              "      <td id=\"T_f9dc9_row9_col6\" class=\"data row9 col6\" >349870</td>\n",
              "      <td id=\"T_f9dc9_row9_col7\" class=\"data row9 col7\" >Mukherjee</td>\n",
              "    </tr>\n",
              "    <tr>\n",
              "      <td id=\"T_f9dc9_row10_col0\" class=\"data row10 col0\" >Dhoni</td>\n",
              "      <td id=\"T_f9dc9_row10_col1\" class=\"data row10 col1\" >40</td>\n",
              "      <td id=\"T_f9dc9_row10_col2\" class=\"data row10 col2\" >></td>\n",
              "      <td id=\"T_f9dc9_row10_col3\" class=\"data row10 col3\" >40</td>\n",
              "      <td id=\"T_f9dc9_row10_col4\" class=\"data row10 col4\" >349870</td>\n",
              "      <td id=\"T_f9dc9_row10_col5\" class=\"data row10 col5\" ><</td>\n",
              "      <td id=\"T_f9dc9_row10_col6\" class=\"data row10 col6\" >349870</td>\n",
              "      <td id=\"T_f9dc9_row10_col7\" class=\"data row10 col7\" >Mukherjee</td>\n",
              "    </tr>\n",
              "    <tr>\n",
              "      <td id=\"T_f9dc9_row11_col0\" class=\"data row11 col0\" >Mukherjee</td>\n",
              "      <td id=\"T_f9dc9_row11_col1\" class=\"data row11 col1\" >40</td>\n",
              "      <td id=\"T_f9dc9_row11_col2\" class=\"data row11 col2\" >></td>\n",
              "      <td id=\"T_f9dc9_row11_col3\" class=\"data row11 col3\" >40</td>\n",
              "      <td id=\"T_f9dc9_row11_col4\" class=\"data row11 col4\" >349870</td>\n",
              "      <td id=\"T_f9dc9_row11_col5\" class=\"data row11 col5\" ><</td>\n",
              "      <td id=\"T_f9dc9_row11_col6\" class=\"data row11 col6\" >349870</td>\n",
              "      <td id=\"T_f9dc9_row11_col7\" class=\"data row11 col7\" >Mukherjee</td>\n",
              "    </tr>\n",
              "  </tbody>\n",
              "</table>\n"
            ]
          },
          "metadata": {},
          "execution_count": 55
        }
      ]
    },
    {
      "cell_type": "markdown",
      "source": [
        "### Self Join / Single Table"
      ],
      "metadata": {
        "id": "jeknsMbjCA2A"
      }
    },
    {
      "cell_type": "code",
      "source": [
        "cmd = \"Select w.FirstName, w.JobDesc, w.DeptID, \\\n",
        "    ' hired by ' hiredby, \\\n",
        "    m.FirstName,m.JobDesc,m.DeptID \\\n",
        "    from empl w, empl m \\\n",
        "    where w.HiredBy = m.EmpID\"\n",
        "\n",
        "runSelect(cmd)"
      ],
      "metadata": {
        "colab": {
          "base_uri": "https://localhost:8080/",
          "height": 425
        },
        "id": "iDPmUw9-CEBH",
        "outputId": "51e31089-ee46-438c-fff1-de99c01f6808"
      },
      "execution_count": 56,
      "outputs": [
        {
          "output_type": "execute_result",
          "data": {
            "text/plain": [
              "<pandas.io.formats.style.Styler at 0x7bb964f74df0>"
            ],
            "text/html": [
              "<style type=\"text/css\">\n",
              "</style>\n",
              "<table id=\"T_31cb6\" class=\"dataframe\">\n",
              "  <thead>\n",
              "    <tr>\n",
              "      <th id=\"T_31cb6_level0_col0\" class=\"col_heading level0 col0\" >firstname</th>\n",
              "      <th id=\"T_31cb6_level0_col1\" class=\"col_heading level0 col1\" >jobdesc</th>\n",
              "      <th id=\"T_31cb6_level0_col2\" class=\"col_heading level0 col2\" >deptid</th>\n",
              "      <th id=\"T_31cb6_level0_col3\" class=\"col_heading level0 col3\" >hiredby</th>\n",
              "      <th id=\"T_31cb6_level0_col4\" class=\"col_heading level0 col4\" >firstname</th>\n",
              "      <th id=\"T_31cb6_level0_col5\" class=\"col_heading level0 col5\" >jobdesc</th>\n",
              "      <th id=\"T_31cb6_level0_col6\" class=\"col_heading level0 col6\" >deptid</th>\n",
              "    </tr>\n",
              "  </thead>\n",
              "  <tbody>\n",
              "    <tr>\n",
              "      <td id=\"T_31cb6_row0_col0\" class=\"data row0 col0\" >Rani</td>\n",
              "      <td id=\"T_31cb6_row0_col1\" class=\"data row0 col1\" >Manager</td>\n",
              "      <td id=\"T_31cb6_row0_col2\" class=\"data row0 col2\" >40</td>\n",
              "      <td id=\"T_31cb6_row0_col3\" class=\"data row0 col3\" > hired by </td>\n",
              "      <td id=\"T_31cb6_row0_col4\" class=\"data row0 col4\" >Amitabh</td>\n",
              "      <td id=\"T_31cb6_row0_col5\" class=\"data row0 col5\" >Executive</td>\n",
              "      <td id=\"T_31cb6_row0_col6\" class=\"data row0 col6\" >10</td>\n",
              "    </tr>\n",
              "    <tr>\n",
              "      <td id=\"T_31cb6_row1_col0\" class=\"data row1 col0\" >Madhuri</td>\n",
              "      <td id=\"T_31cb6_row1_col1\" class=\"data row1 col1\" >Clerk</td>\n",
              "      <td id=\"T_31cb6_row1_col2\" class=\"data row1 col2\" >20</td>\n",
              "      <td id=\"T_31cb6_row1_col3\" class=\"data row1 col3\" > hired by </td>\n",
              "      <td id=\"T_31cb6_row1_col4\" class=\"data row1 col4\" >Shahrukh</td>\n",
              "      <td id=\"T_31cb6_row1_col5\" class=\"data row1 col5\" >Manager</td>\n",
              "      <td id=\"T_31cb6_row1_col6\" class=\"data row1 col6\" >20</td>\n",
              "    </tr>\n",
              "    <tr>\n",
              "      <td id=\"T_31cb6_row2_col0\" class=\"data row2 col0\" >Shahrukh</td>\n",
              "      <td id=\"T_31cb6_row2_col1\" class=\"data row2 col1\" >Manager</td>\n",
              "      <td id=\"T_31cb6_row2_col2\" class=\"data row2 col2\" >20</td>\n",
              "      <td id=\"T_31cb6_row2_col3\" class=\"data row2 col3\" > hired by </td>\n",
              "      <td id=\"T_31cb6_row2_col4\" class=\"data row2 col4\" >Amitabh</td>\n",
              "      <td id=\"T_31cb6_row2_col5\" class=\"data row2 col5\" >Executive</td>\n",
              "      <td id=\"T_31cb6_row2_col6\" class=\"data row2 col6\" >10</td>\n",
              "    </tr>\n",
              "    <tr>\n",
              "      <td id=\"T_31cb6_row3_col0\" class=\"data row3 col0\" >Virender</td>\n",
              "      <td id=\"T_31cb6_row3_col1\" class=\"data row3 col1\" >Cus_Rep</td>\n",
              "      <td id=\"T_31cb6_row3_col2\" class=\"data row3 col2\" >20</td>\n",
              "      <td id=\"T_31cb6_row3_col3\" class=\"data row3 col3\" > hired by </td>\n",
              "      <td id=\"T_31cb6_row3_col4\" class=\"data row3 col4\" >Shahrukh</td>\n",
              "      <td id=\"T_31cb6_row3_col5\" class=\"data row3 col5\" >Manager</td>\n",
              "      <td id=\"T_31cb6_row3_col6\" class=\"data row3 col6\" >20</td>\n",
              "    </tr>\n",
              "    <tr>\n",
              "      <td id=\"T_31cb6_row4_col0\" class=\"data row4 col0\" >Mahender</td>\n",
              "      <td id=\"T_31cb6_row4_col1\" class=\"data row4 col1\" >Clerk</td>\n",
              "      <td id=\"T_31cb6_row4_col2\" class=\"data row4 col2\" >40</td>\n",
              "      <td id=\"T_31cb6_row4_col3\" class=\"data row4 col3\" > hired by </td>\n",
              "      <td id=\"T_31cb6_row4_col4\" class=\"data row4 col4\" >Rani</td>\n",
              "      <td id=\"T_31cb6_row4_col5\" class=\"data row4 col5\" >Manager</td>\n",
              "      <td id=\"T_31cb6_row4_col6\" class=\"data row4 col6\" >40</td>\n",
              "    </tr>\n",
              "    <tr>\n",
              "      <td id=\"T_31cb6_row5_col0\" class=\"data row5 col0\" >Rahul</td>\n",
              "      <td id=\"T_31cb6_row5_col1\" class=\"data row5 col1\" >Sr Manager</td>\n",
              "      <td id=\"T_31cb6_row5_col2\" class=\"data row5 col2\" >30</td>\n",
              "      <td id=\"T_31cb6_row5_col3\" class=\"data row5 col3\" > hired by </td>\n",
              "      <td id=\"T_31cb6_row5_col4\" class=\"data row5 col4\" >Amitabh</td>\n",
              "      <td id=\"T_31cb6_row5_col5\" class=\"data row5 col5\" >Executive</td>\n",
              "      <td id=\"T_31cb6_row5_col6\" class=\"data row5 col6\" >10</td>\n",
              "    </tr>\n",
              "    <tr>\n",
              "      <td id=\"T_31cb6_row6_col0\" class=\"data row6 col0\" >Jagmohan</td>\n",
              "      <td id=\"T_31cb6_row6_col1\" class=\"data row6 col1\" >Clerk</td>\n",
              "      <td id=\"T_31cb6_row6_col2\" class=\"data row6 col2\" >30</td>\n",
              "      <td id=\"T_31cb6_row6_col3\" class=\"data row6 col3\" > hired by </td>\n",
              "      <td id=\"T_31cb6_row6_col4\" class=\"data row6 col4\" >Rahul</td>\n",
              "      <td id=\"T_31cb6_row6_col5\" class=\"data row6 col5\" >Sr Manager</td>\n",
              "      <td id=\"T_31cb6_row6_col6\" class=\"data row6 col6\" >30</td>\n",
              "    </tr>\n",
              "    <tr>\n",
              "      <td id=\"T_31cb6_row7_col0\" class=\"data row7 col0\" >Sourav</td>\n",
              "      <td id=\"T_31cb6_row7_col1\" class=\"data row7 col1\" >Cus_Rep</td>\n",
              "      <td id=\"T_31cb6_row7_col2\" class=\"data row7 col2\" >40</td>\n",
              "      <td id=\"T_31cb6_row7_col3\" class=\"data row7 col3\" > hired by </td>\n",
              "      <td id=\"T_31cb6_row7_col4\" class=\"data row7 col4\" >Rekha</td>\n",
              "      <td id=\"T_31cb6_row7_col5\" class=\"data row7 col5\" >Director</td>\n",
              "      <td id=\"T_31cb6_row7_col6\" class=\"data row7 col6\" >10</td>\n",
              "    </tr>\n",
              "    <tr>\n",
              "      <td id=\"T_31cb6_row8_col0\" class=\"data row8 col0\" >Rekha</td>\n",
              "      <td id=\"T_31cb6_row8_col1\" class=\"data row8 col1\" >Director</td>\n",
              "      <td id=\"T_31cb6_row8_col2\" class=\"data row8 col2\" >10</td>\n",
              "      <td id=\"T_31cb6_row8_col3\" class=\"data row8 col3\" > hired by </td>\n",
              "      <td id=\"T_31cb6_row8_col4\" class=\"data row8 col4\" >Amitabh</td>\n",
              "      <td id=\"T_31cb6_row8_col5\" class=\"data row8 col5\" >Executive</td>\n",
              "      <td id=\"T_31cb6_row8_col6\" class=\"data row8 col6\" >10</td>\n",
              "    </tr>\n",
              "    <tr>\n",
              "      <td id=\"T_31cb6_row9_col0\" class=\"data row9 col0\" >Narayan</td>\n",
              "      <td id=\"T_31cb6_row9_col1\" class=\"data row9 col1\" >Secretary</td>\n",
              "      <td id=\"T_31cb6_row9_col2\" class=\"data row9 col2\" >10</td>\n",
              "      <td id=\"T_31cb6_row9_col3\" class=\"data row9 col3\" > hired by </td>\n",
              "      <td id=\"T_31cb6_row9_col4\" class=\"data row9 col4\" >Rekha</td>\n",
              "      <td id=\"T_31cb6_row9_col5\" class=\"data row9 col5\" >Director</td>\n",
              "      <td id=\"T_31cb6_row9_col6\" class=\"data row9 col6\" >10</td>\n",
              "    </tr>\n",
              "    <tr>\n",
              "      <td id=\"T_31cb6_row10_col0\" class=\"data row10 col0\" >Chettri</td>\n",
              "      <td id=\"T_31cb6_row10_col1\" class=\"data row10 col1\" >Dy Manager</td>\n",
              "      <td id=\"T_31cb6_row10_col2\" class=\"data row10 col2\" >70</td>\n",
              "      <td id=\"T_31cb6_row10_col3\" class=\"data row10 col3\" > hired by </td>\n",
              "      <td id=\"T_31cb6_row10_col4\" class=\"data row10 col4\" >Sourav</td>\n",
              "      <td id=\"T_31cb6_row10_col5\" class=\"data row10 col5\" >Cus_Rep</td>\n",
              "      <td id=\"T_31cb6_row10_col6\" class=\"data row10 col6\" >40</td>\n",
              "    </tr>\n",
              "    <tr>\n",
              "      <td id=\"T_31cb6_row11_col0\" class=\"data row11 col0\" >Sania</td>\n",
              "      <td id=\"T_31cb6_row11_col1\" class=\"data row11 col1\" >Cus_Rep</td>\n",
              "      <td id=\"T_31cb6_row11_col2\" class=\"data row11 col2\" >30</td>\n",
              "      <td id=\"T_31cb6_row11_col3\" class=\"data row11 col3\" > hired by </td>\n",
              "      <td id=\"T_31cb6_row11_col4\" class=\"data row11 col4\" >Rahul</td>\n",
              "      <td id=\"T_31cb6_row11_col5\" class=\"data row11 col5\" >Sr Manager</td>\n",
              "      <td id=\"T_31cb6_row11_col6\" class=\"data row11 col6\" >30</td>\n",
              "    </tr>\n",
              "  </tbody>\n",
              "</table>\n"
            ]
          },
          "metadata": {},
          "execution_count": 56
        }
      ]
    },
    {
      "cell_type": "markdown",
      "source": [
        "#Subquery"
      ],
      "metadata": {
        "id": "tXDgw1RBzUf-"
      }
    },
    {
      "cell_type": "code",
      "source": [
        "sql = \"select lastname, salary, jobdesc, deptid from empl where \\\n",
        "salary = (select max(salary) from empl where deptid = '20') \\\n",
        "and deptid = '20'\"\n",
        "\n",
        "runSelect(sql)"
      ],
      "metadata": {
        "colab": {
          "base_uri": "https://localhost:8080/",
          "height": 81
        },
        "id": "SxQqgOcHzYTF",
        "outputId": "e78cb3ea-24c3-47b9-e762-48123d9405f4"
      },
      "execution_count": 57,
      "outputs": [
        {
          "output_type": "execute_result",
          "data": {
            "text/plain": [
              "<pandas.io.formats.style.Styler at 0x7bb965149060>"
            ],
            "text/html": [
              "<style type=\"text/css\">\n",
              "</style>\n",
              "<table id=\"T_7f537\" class=\"dataframe\">\n",
              "  <thead>\n",
              "    <tr>\n",
              "      <th id=\"T_7f537_level0_col0\" class=\"col_heading level0 col0\" >lastname</th>\n",
              "      <th id=\"T_7f537_level0_col1\" class=\"col_heading level0 col1\" >salary</th>\n",
              "      <th id=\"T_7f537_level0_col2\" class=\"col_heading level0 col2\" >jobdesc</th>\n",
              "      <th id=\"T_7f537_level0_col3\" class=\"col_heading level0 col3\" >deptid</th>\n",
              "    </tr>\n",
              "  </thead>\n",
              "  <tbody>\n",
              "    <tr>\n",
              "      <td id=\"T_7f537_row0_col0\" class=\"data row0 col0\" >Khan</td>\n",
              "      <td id=\"T_7f537_row0_col1\" class=\"data row0 col1\" >30000</td>\n",
              "      <td id=\"T_7f537_row0_col2\" class=\"data row0 col2\" >Manager</td>\n",
              "      <td id=\"T_7f537_row0_col3\" class=\"data row0 col3\" >20</td>\n",
              "    </tr>\n",
              "  </tbody>\n",
              "</table>\n"
            ]
          },
          "metadata": {},
          "execution_count": 57
        }
      ]
    },
    {
      "cell_type": "code",
      "source": [
        "sql = \"select lastname, salary, jobdesc, deptid from empl where salary < (select avg(salary) from empl where deptid = '20')\\\n",
        "and deptid = '20'\"\n",
        "runSelect(sql)"
      ],
      "metadata": {
        "colab": {
          "base_uri": "https://localhost:8080/",
          "height": 112
        },
        "id": "oEhaMtyLz3Tm",
        "outputId": "c6c8b394-3edb-4a42-b822-a017cedd7868"
      },
      "execution_count": 58,
      "outputs": [
        {
          "output_type": "execute_result",
          "data": {
            "text/plain": [
              "<pandas.io.formats.style.Styler at 0x7bb964fd0a30>"
            ],
            "text/html": [
              "<style type=\"text/css\">\n",
              "</style>\n",
              "<table id=\"T_55eef\" class=\"dataframe\">\n",
              "  <thead>\n",
              "    <tr>\n",
              "      <th id=\"T_55eef_level0_col0\" class=\"col_heading level0 col0\" >lastname</th>\n",
              "      <th id=\"T_55eef_level0_col1\" class=\"col_heading level0 col1\" >salary</th>\n",
              "      <th id=\"T_55eef_level0_col2\" class=\"col_heading level0 col2\" >jobdesc</th>\n",
              "      <th id=\"T_55eef_level0_col3\" class=\"col_heading level0 col3\" >deptid</th>\n",
              "    </tr>\n",
              "  </thead>\n",
              "  <tbody>\n",
              "    <tr>\n",
              "      <td id=\"T_55eef_row0_col0\" class=\"data row0 col0\" >Dikshit</td>\n",
              "      <td id=\"T_55eef_row0_col1\" class=\"data row0 col1\" >10000</td>\n",
              "      <td id=\"T_55eef_row0_col2\" class=\"data row0 col2\" >Clerk</td>\n",
              "      <td id=\"T_55eef_row0_col3\" class=\"data row0 col3\" >20</td>\n",
              "    </tr>\n",
              "    <tr>\n",
              "      <td id=\"T_55eef_row1_col0\" class=\"data row1 col0\" >Sehwag</td>\n",
              "      <td id=\"T_55eef_row1_col1\" class=\"data row1 col1\" >15000</td>\n",
              "      <td id=\"T_55eef_row1_col2\" class=\"data row1 col2\" >Cus_Rep</td>\n",
              "      <td id=\"T_55eef_row1_col3\" class=\"data row1 col3\" >20</td>\n",
              "    </tr>\n",
              "  </tbody>\n",
              "</table>\n"
            ]
          },
          "metadata": {},
          "execution_count": 58
        }
      ]
    },
    {
      "cell_type": "markdown",
      "source": [
        "## Exists | Not Exists"
      ],
      "metadata": {
        "id": "l3GWzCV24a2x"
      }
    },
    {
      "cell_type": "code",
      "source": [
        "#!psql -h localhost -p 5432 -Uupraxis -ddbpraxis -c \"\\\n",
        "sql = \"\\\n",
        "select firstname, jobdesc, deptid from empl \\\n",
        "where exists \\\n",
        "(select * from dept where empl.deptid = dept.deptid)\\\n",
        "order by deptid \\\n",
        "\"\n",
        "runSelect(sql)"
      ],
      "metadata": {
        "colab": {
          "base_uri": "https://localhost:8080/",
          "height": 425
        },
        "id": "9vlJrd584fWu",
        "outputId": "ef301f13-6d45-4a14-eb93-2a27bb32441f"
      },
      "execution_count": 59,
      "outputs": [
        {
          "output_type": "execute_result",
          "data": {
            "text/plain": [
              "<pandas.io.formats.style.Styler at 0x7bb964fd1750>"
            ],
            "text/html": [
              "<style type=\"text/css\">\n",
              "</style>\n",
              "<table id=\"T_9528d\" class=\"dataframe\">\n",
              "  <thead>\n",
              "    <tr>\n",
              "      <th id=\"T_9528d_level0_col0\" class=\"col_heading level0 col0\" >firstname</th>\n",
              "      <th id=\"T_9528d_level0_col1\" class=\"col_heading level0 col1\" >jobdesc</th>\n",
              "      <th id=\"T_9528d_level0_col2\" class=\"col_heading level0 col2\" >deptid</th>\n",
              "    </tr>\n",
              "  </thead>\n",
              "  <tbody>\n",
              "    <tr>\n",
              "      <td id=\"T_9528d_row0_col0\" class=\"data row0 col0\" >Amitabh</td>\n",
              "      <td id=\"T_9528d_row0_col1\" class=\"data row0 col1\" >Executive</td>\n",
              "      <td id=\"T_9528d_row0_col2\" class=\"data row0 col2\" >10</td>\n",
              "    </tr>\n",
              "    <tr>\n",
              "      <td id=\"T_9528d_row1_col0\" class=\"data row1 col0\" >Rekha</td>\n",
              "      <td id=\"T_9528d_row1_col1\" class=\"data row1 col1\" >Director</td>\n",
              "      <td id=\"T_9528d_row1_col2\" class=\"data row1 col2\" >10</td>\n",
              "    </tr>\n",
              "    <tr>\n",
              "      <td id=\"T_9528d_row2_col0\" class=\"data row2 col0\" >Narayan</td>\n",
              "      <td id=\"T_9528d_row2_col1\" class=\"data row2 col1\" >Secretary</td>\n",
              "      <td id=\"T_9528d_row2_col2\" class=\"data row2 col2\" >10</td>\n",
              "    </tr>\n",
              "    <tr>\n",
              "      <td id=\"T_9528d_row3_col0\" class=\"data row3 col0\" >Madhuri</td>\n",
              "      <td id=\"T_9528d_row3_col1\" class=\"data row3 col1\" >Clerk</td>\n",
              "      <td id=\"T_9528d_row3_col2\" class=\"data row3 col2\" >20</td>\n",
              "    </tr>\n",
              "    <tr>\n",
              "      <td id=\"T_9528d_row4_col0\" class=\"data row4 col0\" >Shahrukh</td>\n",
              "      <td id=\"T_9528d_row4_col1\" class=\"data row4 col1\" >Manager</td>\n",
              "      <td id=\"T_9528d_row4_col2\" class=\"data row4 col2\" >20</td>\n",
              "    </tr>\n",
              "    <tr>\n",
              "      <td id=\"T_9528d_row5_col0\" class=\"data row5 col0\" >Virender</td>\n",
              "      <td id=\"T_9528d_row5_col1\" class=\"data row5 col1\" >Cus_Rep</td>\n",
              "      <td id=\"T_9528d_row5_col2\" class=\"data row5 col2\" >20</td>\n",
              "    </tr>\n",
              "    <tr>\n",
              "      <td id=\"T_9528d_row6_col0\" class=\"data row6 col0\" >Sania</td>\n",
              "      <td id=\"T_9528d_row6_col1\" class=\"data row6 col1\" >Cus_Rep</td>\n",
              "      <td id=\"T_9528d_row6_col2\" class=\"data row6 col2\" >30</td>\n",
              "    </tr>\n",
              "    <tr>\n",
              "      <td id=\"T_9528d_row7_col0\" class=\"data row7 col0\" >Rahul</td>\n",
              "      <td id=\"T_9528d_row7_col1\" class=\"data row7 col1\" >Sr Manager</td>\n",
              "      <td id=\"T_9528d_row7_col2\" class=\"data row7 col2\" >30</td>\n",
              "    </tr>\n",
              "    <tr>\n",
              "      <td id=\"T_9528d_row8_col0\" class=\"data row8 col0\" >Jagmohan</td>\n",
              "      <td id=\"T_9528d_row8_col1\" class=\"data row8 col1\" >Clerk</td>\n",
              "      <td id=\"T_9528d_row8_col2\" class=\"data row8 col2\" >30</td>\n",
              "    </tr>\n",
              "    <tr>\n",
              "      <td id=\"T_9528d_row9_col0\" class=\"data row9 col0\" >Sourav</td>\n",
              "      <td id=\"T_9528d_row9_col1\" class=\"data row9 col1\" >Cus_Rep</td>\n",
              "      <td id=\"T_9528d_row9_col2\" class=\"data row9 col2\" >40</td>\n",
              "    </tr>\n",
              "    <tr>\n",
              "      <td id=\"T_9528d_row10_col0\" class=\"data row10 col0\" >Mahender</td>\n",
              "      <td id=\"T_9528d_row10_col1\" class=\"data row10 col1\" >Clerk</td>\n",
              "      <td id=\"T_9528d_row10_col2\" class=\"data row10 col2\" >40</td>\n",
              "    </tr>\n",
              "    <tr>\n",
              "      <td id=\"T_9528d_row11_col0\" class=\"data row11 col0\" >Rani</td>\n",
              "      <td id=\"T_9528d_row11_col1\" class=\"data row11 col1\" >Manager</td>\n",
              "      <td id=\"T_9528d_row11_col2\" class=\"data row11 col2\" >40</td>\n",
              "    </tr>\n",
              "  </tbody>\n",
              "</table>\n"
            ]
          },
          "metadata": {},
          "execution_count": 59
        }
      ]
    },
    {
      "cell_type": "code",
      "source": [
        "#!psql -h localhost -p 5432 -Uupraxis -ddbpraxis -c \"\\\n",
        "sql = \"\\\n",
        "select firstname, jobdesc, deptid from empl \\\n",
        "where not exists \\\n",
        "(select * from dept where empl.deptid = dept.deptid)\\\n",
        "order by deptid \\\n",
        "\"\n",
        "runSelect(sql)"
      ],
      "metadata": {
        "colab": {
          "base_uri": "https://localhost:8080/",
          "height": 81
        },
        "id": "6ntFTYfv5AyB",
        "outputId": "72b604bf-34c9-4f40-996e-9b792e11e67d"
      },
      "execution_count": 60,
      "outputs": [
        {
          "output_type": "execute_result",
          "data": {
            "text/plain": [
              "<pandas.io.formats.style.Styler at 0x7bb964fd1900>"
            ],
            "text/html": [
              "<style type=\"text/css\">\n",
              "</style>\n",
              "<table id=\"T_75f4f\" class=\"dataframe\">\n",
              "  <thead>\n",
              "    <tr>\n",
              "      <th id=\"T_75f4f_level0_col0\" class=\"col_heading level0 col0\" >firstname</th>\n",
              "      <th id=\"T_75f4f_level0_col1\" class=\"col_heading level0 col1\" >jobdesc</th>\n",
              "      <th id=\"T_75f4f_level0_col2\" class=\"col_heading level0 col2\" >deptid</th>\n",
              "    </tr>\n",
              "  </thead>\n",
              "  <tbody>\n",
              "    <tr>\n",
              "      <td id=\"T_75f4f_row0_col0\" class=\"data row0 col0\" >Chettri</td>\n",
              "      <td id=\"T_75f4f_row0_col1\" class=\"data row0 col1\" >Dy Manager</td>\n",
              "      <td id=\"T_75f4f_row0_col2\" class=\"data row0 col2\" >70</td>\n",
              "    </tr>\n",
              "  </tbody>\n",
              "</table>\n"
            ]
          },
          "metadata": {},
          "execution_count": 60
        }
      ]
    },
    {
      "cell_type": "markdown",
      "source": [
        "## ALL | ANY"
      ],
      "metadata": {
        "id": "Ft9lsq4Uh8-6"
      }
    },
    {
      "cell_type": "code",
      "source": [
        "#!psql -h localhost -p 5432 -Uupraxis -ddbpraxis -c \"\\\n",
        "sql = \"\\\n",
        "select firstname, jobdesc, deptid, salary from empl \\\n",
        "where salary > all \\\n",
        "(select avg(salary) from empl)\\\n",
        "\"\n",
        "runSelect(sql)"
      ],
      "metadata": {
        "id": "ZySW3QRkiBUG",
        "outputId": "95733d27-bfc5-44d5-b8b4-6a2407c9949b",
        "colab": {
          "base_uri": "https://localhost:8080/",
          "height": 237
        }
      },
      "execution_count": 61,
      "outputs": [
        {
          "output_type": "execute_result",
          "data": {
            "text/plain": [
              "<pandas.io.formats.style.Styler at 0x7bb964fd2a40>"
            ],
            "text/html": [
              "<style type=\"text/css\">\n",
              "</style>\n",
              "<table id=\"T_b337a\" class=\"dataframe\">\n",
              "  <thead>\n",
              "    <tr>\n",
              "      <th id=\"T_b337a_level0_col0\" class=\"col_heading level0 col0\" >firstname</th>\n",
              "      <th id=\"T_b337a_level0_col1\" class=\"col_heading level0 col1\" >jobdesc</th>\n",
              "      <th id=\"T_b337a_level0_col2\" class=\"col_heading level0 col2\" >deptid</th>\n",
              "      <th id=\"T_b337a_level0_col3\" class=\"col_heading level0 col3\" >salary</th>\n",
              "    </tr>\n",
              "  </thead>\n",
              "  <tbody>\n",
              "    <tr>\n",
              "      <td id=\"T_b337a_row0_col0\" class=\"data row0 col0\" >Amitabh</td>\n",
              "      <td id=\"T_b337a_row0_col1\" class=\"data row0 col1\" >Executive</td>\n",
              "      <td id=\"T_b337a_row0_col2\" class=\"data row0 col2\" >10</td>\n",
              "      <td id=\"T_b337a_row0_col3\" class=\"data row0 col3\" >50000</td>\n",
              "    </tr>\n",
              "    <tr>\n",
              "      <td id=\"T_b337a_row1_col0\" class=\"data row1 col0\" >Shahrukh</td>\n",
              "      <td id=\"T_b337a_row1_col1\" class=\"data row1 col1\" >Manager</td>\n",
              "      <td id=\"T_b337a_row1_col2\" class=\"data row1 col2\" >20</td>\n",
              "      <td id=\"T_b337a_row1_col3\" class=\"data row1 col3\" >30000</td>\n",
              "    </tr>\n",
              "    <tr>\n",
              "      <td id=\"T_b337a_row2_col0\" class=\"data row2 col0\" >Rahul</td>\n",
              "      <td id=\"T_b337a_row2_col1\" class=\"data row2 col1\" >Sr Manager</td>\n",
              "      <td id=\"T_b337a_row2_col2\" class=\"data row2 col2\" >30</td>\n",
              "      <td id=\"T_b337a_row2_col3\" class=\"data row2 col3\" >40000</td>\n",
              "    </tr>\n",
              "    <tr>\n",
              "      <td id=\"T_b337a_row3_col0\" class=\"data row3 col0\" >Rekha</td>\n",
              "      <td id=\"T_b337a_row3_col1\" class=\"data row3 col1\" >Director</td>\n",
              "      <td id=\"T_b337a_row3_col2\" class=\"data row3 col2\" >10</td>\n",
              "      <td id=\"T_b337a_row3_col3\" class=\"data row3 col3\" >60000</td>\n",
              "    </tr>\n",
              "    <tr>\n",
              "      <td id=\"T_b337a_row4_col0\" class=\"data row4 col0\" >Narayan</td>\n",
              "      <td id=\"T_b337a_row4_col1\" class=\"data row4 col1\" >Secretary</td>\n",
              "      <td id=\"T_b337a_row4_col2\" class=\"data row4 col2\" >10</td>\n",
              "      <td id=\"T_b337a_row4_col3\" class=\"data row4 col3\" >40000</td>\n",
              "    </tr>\n",
              "    <tr>\n",
              "      <td id=\"T_b337a_row5_col0\" class=\"data row5 col0\" >Chettri</td>\n",
              "      <td id=\"T_b337a_row5_col1\" class=\"data row5 col1\" >Dy Manager</td>\n",
              "      <td id=\"T_b337a_row5_col2\" class=\"data row5 col2\" >70</td>\n",
              "      <td id=\"T_b337a_row5_col3\" class=\"data row5 col3\" >40000</td>\n",
              "    </tr>\n",
              "  </tbody>\n",
              "</table>\n"
            ]
          },
          "metadata": {},
          "execution_count": 61
        }
      ]
    },
    {
      "cell_type": "code",
      "source": [
        "#!psql -h localhost -p 5432 -Uupraxis -ddbpraxis -c \"\\\n",
        "sql = \"\\\n",
        "select firstname, jobdesc, deptid, salary from empl \\\n",
        "where salary <= any \\\n",
        "(select min(salary) from empl)\\\n",
        "\"\n",
        "runSelect(sql)"
      ],
      "metadata": {
        "id": "OrNzFUx2i6n1",
        "outputId": "f1da5817-ad6e-420c-a8f1-30904b25fafe",
        "colab": {
          "base_uri": "https://localhost:8080/",
          "height": 81
        }
      },
      "execution_count": 62,
      "outputs": [
        {
          "output_type": "execute_result",
          "data": {
            "text/plain": [
              "<pandas.io.formats.style.Styler at 0x7bb964fd3f70>"
            ],
            "text/html": [
              "<style type=\"text/css\">\n",
              "</style>\n",
              "<table id=\"T_08163\" class=\"dataframe\">\n",
              "  <thead>\n",
              "    <tr>\n",
              "      <th id=\"T_08163_level0_col0\" class=\"col_heading level0 col0\" >firstname</th>\n",
              "      <th id=\"T_08163_level0_col1\" class=\"col_heading level0 col1\" >jobdesc</th>\n",
              "      <th id=\"T_08163_level0_col2\" class=\"col_heading level0 col2\" >deptid</th>\n",
              "      <th id=\"T_08163_level0_col3\" class=\"col_heading level0 col3\" >salary</th>\n",
              "    </tr>\n",
              "  </thead>\n",
              "  <tbody>\n",
              "    <tr>\n",
              "      <td id=\"T_08163_row0_col0\" class=\"data row0 col0\" >Mahender</td>\n",
              "      <td id=\"T_08163_row0_col1\" class=\"data row0 col1\" >Clerk</td>\n",
              "      <td id=\"T_08163_row0_col2\" class=\"data row0 col2\" >40</td>\n",
              "      <td id=\"T_08163_row0_col3\" class=\"data row0 col3\" >9000</td>\n",
              "    </tr>\n",
              "  </tbody>\n",
              "</table>\n"
            ]
          },
          "metadata": {},
          "execution_count": 62
        }
      ]
    },
    {
      "cell_type": "code",
      "source": [
        "#!psql -h localhost -p 5432 -Uupraxis -ddbpraxis -c \"\\\n",
        "sql = \"\\\n",
        "select firstname, jobdesc, deptid, salary from empl \\\n",
        "where salary >= any \\\n",
        "(select max(salary) from empl)\\\n",
        "\"\n",
        "runSelect(sql)"
      ],
      "metadata": {
        "id": "_i2nkl8yvjyr",
        "outputId": "2671ca69-6cfd-44dd-d411-7c25fb1c2132",
        "colab": {
          "base_uri": "https://localhost:8080/",
          "height": 81
        }
      },
      "execution_count": 63,
      "outputs": [
        {
          "output_type": "execute_result",
          "data": {
            "text/plain": [
              "<pandas.io.formats.style.Styler at 0x7bb964fd0970>"
            ],
            "text/html": [
              "<style type=\"text/css\">\n",
              "</style>\n",
              "<table id=\"T_20195\" class=\"dataframe\">\n",
              "  <thead>\n",
              "    <tr>\n",
              "      <th id=\"T_20195_level0_col0\" class=\"col_heading level0 col0\" >firstname</th>\n",
              "      <th id=\"T_20195_level0_col1\" class=\"col_heading level0 col1\" >jobdesc</th>\n",
              "      <th id=\"T_20195_level0_col2\" class=\"col_heading level0 col2\" >deptid</th>\n",
              "      <th id=\"T_20195_level0_col3\" class=\"col_heading level0 col3\" >salary</th>\n",
              "    </tr>\n",
              "  </thead>\n",
              "  <tbody>\n",
              "    <tr>\n",
              "      <td id=\"T_20195_row0_col0\" class=\"data row0 col0\" >Rekha</td>\n",
              "      <td id=\"T_20195_row0_col1\" class=\"data row0 col1\" >Director</td>\n",
              "      <td id=\"T_20195_row0_col2\" class=\"data row0 col2\" >10</td>\n",
              "      <td id=\"T_20195_row0_col3\" class=\"data row0 col3\" >60000</td>\n",
              "    </tr>\n",
              "  </tbody>\n",
              "</table>\n"
            ]
          },
          "metadata": {},
          "execution_count": 63
        }
      ]
    },
    {
      "cell_type": "code",
      "source": [
        "!psql -h localhost -p 5432 -Uupraxis -ddbpraxis -c \"\\\n",
        "select firstname, jobdesc, deptid, salary from empl \\\n",
        "where deptid = ALL  \\\n",
        "(select deptid from dept where location = 'Calcutta' )\\\n",
        "\"\n",
        "#runSelect(sql)"
      ],
      "metadata": {
        "id": "DodcUMruPCYv",
        "outputId": "e057108b-d8ed-49fa-85a1-5791c0027147",
        "colab": {
          "base_uri": "https://localhost:8080/"
        }
      },
      "execution_count": 64,
      "outputs": [
        {
          "output_type": "stream",
          "name": "stdout",
          "text": [
            " firstname | jobdesc | deptid | salary \n",
            "-----------+---------+--------+--------\n",
            "(0 rows)\n",
            "\n"
          ]
        }
      ]
    },
    {
      "cell_type": "code",
      "source": [
        "!psql -h localhost -p 5432 -Uupraxis -ddbpraxis -c \"\\\n",
        "select firstname, jobdesc, deptid, salary from empl \\\n",
        "where deptid = any  \\\n",
        "(select deptid from dept where location = 'Calcutta' )\\\n",
        "\""
      ],
      "metadata": {
        "id": "e-v3Rp0qv3TJ",
        "outputId": "d3affb34-46c3-40f5-e5b3-a95f436e9dbc",
        "colab": {
          "base_uri": "https://localhost:8080/"
        }
      },
      "execution_count": 65,
      "outputs": [
        {
          "output_type": "stream",
          "name": "stdout",
          "text": [
            " firstname |  jobdesc   | deptid | salary \n",
            "-----------+------------+--------+--------\n",
            " Amitabh   | Executive  | 10     |  50000\n",
            " Madhuri   | Clerk      | 20     |  10000\n",
            " Shahrukh  | Manager    | 20     |  30000\n",
            " Virender  | Cus_Rep    | 20     |  15000\n",
            " Rahul     | Sr Manager | 30     |  40000\n",
            " Jagmohan  | Clerk      | 30     |  12000\n",
            " Rekha     | Director   | 10     |  60000\n",
            " Narayan   | Secretary  | 10     |  40000\n",
            " Sania     | Cus_Rep    | 30     |  25000\n",
            "(9 rows)\n",
            "\n"
          ]
        }
      ]
    },
    {
      "cell_type": "code",
      "source": [
        "!psql -h localhost -p 5432 -Uupraxis -ddbpraxis -c \"\\\n",
        "select firstname, jobdesc, salary from empl \\\n",
        "where salary > ANY  \\\n",
        "(select salary from empl where jobdesc like '%Manager%' )\\\n",
        "\""
      ],
      "metadata": {
        "id": "9T_Rw43iUs6z",
        "outputId": "2a41dd3c-f917-494f-9458-fbe197c057f1",
        "colab": {
          "base_uri": "https://localhost:8080/"
        }
      },
      "execution_count": 66,
      "outputs": [
        {
          "output_type": "stream",
          "name": "stdout",
          "text": [
            " firstname |  jobdesc   | salary \n",
            "-----------+------------+--------\n",
            " Amitabh   | Executive  |  50000\n",
            " Shahrukh  | Manager    |  30000\n",
            " Rahul     | Sr Manager |  40000\n",
            " Rekha     | Director   |  60000\n",
            " Narayan   | Secretary  |  40000\n",
            " Chettri   | Dy Manager |  40000\n",
            "(6 rows)\n",
            "\n"
          ]
        }
      ]
    },
    {
      "cell_type": "code",
      "source": [
        "!psql -h localhost -p 5432 -Uupraxis -ddbpraxis -c \"\\\n",
        "select firstname, jobdesc, salary from empl \\\n",
        "where salary > ALL  \\\n",
        "(select salary from empl where jobdesc like '%Manager%' )\\\n",
        "\""
      ],
      "metadata": {
        "id": "gBMwfFDLkOhd",
        "outputId": "1852b0cc-7590-46de-be1c-16d684c569f6",
        "colab": {
          "base_uri": "https://localhost:8080/"
        }
      },
      "execution_count": 67,
      "outputs": [
        {
          "output_type": "stream",
          "name": "stdout",
          "text": [
            " firstname |  jobdesc  | salary \n",
            "-----------+-----------+--------\n",
            " Amitabh   | Executive |  50000\n",
            " Rekha     | Director  |  60000\n",
            "(2 rows)\n",
            "\n"
          ]
        }
      ]
    },
    {
      "cell_type": "markdown",
      "source": [
        "## Common Table Extensions CTE"
      ],
      "metadata": {
        "id": "2gvg8pwe3ale"
      }
    },
    {
      "cell_type": "code",
      "source": [
        "sql = \"\\\n",
        "select jobdesc, avg(salary) avgsalary from empl group by jobdesc \\\n",
        "\"\n",
        "runSelect(sql)"
      ],
      "metadata": {
        "id": "7mu6mmXA3pVn",
        "outputId": "16148129-2b39-4184-c7ba-92444c95c22c",
        "colab": {
          "base_uri": "https://localhost:8080/",
          "height": 300
        }
      },
      "execution_count": 68,
      "outputs": [
        {
          "output_type": "execute_result",
          "data": {
            "text/plain": [
              "<pandas.io.formats.style.Styler at 0x7bb964fd3c10>"
            ],
            "text/html": [
              "<style type=\"text/css\">\n",
              "</style>\n",
              "<table id=\"T_f31be\" class=\"dataframe\">\n",
              "  <thead>\n",
              "    <tr>\n",
              "      <th id=\"T_f31be_level0_col0\" class=\"col_heading level0 col0\" >jobdesc</th>\n",
              "      <th id=\"T_f31be_level0_col1\" class=\"col_heading level0 col1\" >avgsalary</th>\n",
              "    </tr>\n",
              "  </thead>\n",
              "  <tbody>\n",
              "    <tr>\n",
              "      <td id=\"T_f31be_row0_col0\" class=\"data row0 col0\" >Director</td>\n",
              "      <td id=\"T_f31be_row0_col1\" class=\"data row0 col1\" >60000.000000000000</td>\n",
              "    </tr>\n",
              "    <tr>\n",
              "      <td id=\"T_f31be_row1_col0\" class=\"data row1 col0\" >Manager</td>\n",
              "      <td id=\"T_f31be_row1_col1\" class=\"data row1 col1\" >27500.000000000000</td>\n",
              "    </tr>\n",
              "    <tr>\n",
              "      <td id=\"T_f31be_row2_col0\" class=\"data row2 col0\" >Dy Manager</td>\n",
              "      <td id=\"T_f31be_row2_col1\" class=\"data row2 col1\" >40000.000000000000</td>\n",
              "    </tr>\n",
              "    <tr>\n",
              "      <td id=\"T_f31be_row3_col0\" class=\"data row3 col0\" >Executive</td>\n",
              "      <td id=\"T_f31be_row3_col1\" class=\"data row3 col1\" >50000.000000000000</td>\n",
              "    </tr>\n",
              "    <tr>\n",
              "      <td id=\"T_f31be_row4_col0\" class=\"data row4 col0\" >Secretary</td>\n",
              "      <td id=\"T_f31be_row4_col1\" class=\"data row4 col1\" >40000.000000000000</td>\n",
              "    </tr>\n",
              "    <tr>\n",
              "      <td id=\"T_f31be_row5_col0\" class=\"data row5 col0\" >Cus_Rep</td>\n",
              "      <td id=\"T_f31be_row5_col1\" class=\"data row5 col1\" >20000.000000000000</td>\n",
              "    </tr>\n",
              "    <tr>\n",
              "      <td id=\"T_f31be_row6_col0\" class=\"data row6 col0\" >Clerk</td>\n",
              "      <td id=\"T_f31be_row6_col1\" class=\"data row6 col1\" >10333.3333333333333333</td>\n",
              "    </tr>\n",
              "    <tr>\n",
              "      <td id=\"T_f31be_row7_col0\" class=\"data row7 col0\" >Sr Manager</td>\n",
              "      <td id=\"T_f31be_row7_col1\" class=\"data row7 col1\" >40000.000000000000</td>\n",
              "    </tr>\n",
              "  </tbody>\n",
              "</table>\n"
            ]
          },
          "metadata": {},
          "execution_count": 68
        }
      ]
    },
    {
      "cell_type": "code",
      "source": [
        "sql = \"\\\n",
        "with MeanSalary as \\\n",
        "    (select jobdesc, round(avg(salary),0) avgsalary from empl group by jobdesc) \\\n",
        "select lastname, empl.jobdesc, salary, avgsalary from empl, meansalary \\\n",
        "where empl.jobdesc = meansalary.jobdesc \\\n",
        "order  by jobdesc \\\n",
        "\"\n",
        "runSelect(sql)"
      ],
      "metadata": {
        "id": "0i-rIGEzDgFy",
        "outputId": "d19a4005-958e-4135-cd29-1b0cd99e03c3",
        "colab": {
          "base_uri": "https://localhost:8080/",
          "height": 457
        }
      },
      "execution_count": 69,
      "outputs": [
        {
          "output_type": "execute_result",
          "data": {
            "text/plain": [
              "<pandas.io.formats.style.Styler at 0x7bb964fd2950>"
            ],
            "text/html": [
              "<style type=\"text/css\">\n",
              "</style>\n",
              "<table id=\"T_e3d30\" class=\"dataframe\">\n",
              "  <thead>\n",
              "    <tr>\n",
              "      <th id=\"T_e3d30_level0_col0\" class=\"col_heading level0 col0\" >lastname</th>\n",
              "      <th id=\"T_e3d30_level0_col1\" class=\"col_heading level0 col1\" >jobdesc</th>\n",
              "      <th id=\"T_e3d30_level0_col2\" class=\"col_heading level0 col2\" >salary</th>\n",
              "      <th id=\"T_e3d30_level0_col3\" class=\"col_heading level0 col3\" >avgsalary</th>\n",
              "    </tr>\n",
              "  </thead>\n",
              "  <tbody>\n",
              "    <tr>\n",
              "      <td id=\"T_e3d30_row0_col0\" class=\"data row0 col0\" >Dalmia</td>\n",
              "      <td id=\"T_e3d30_row0_col1\" class=\"data row0 col1\" >Clerk</td>\n",
              "      <td id=\"T_e3d30_row0_col2\" class=\"data row0 col2\" >12000</td>\n",
              "      <td id=\"T_e3d30_row0_col3\" class=\"data row0 col3\" >10333</td>\n",
              "    </tr>\n",
              "    <tr>\n",
              "      <td id=\"T_e3d30_row1_col0\" class=\"data row1 col0\" >Dikshit</td>\n",
              "      <td id=\"T_e3d30_row1_col1\" class=\"data row1 col1\" >Clerk</td>\n",
              "      <td id=\"T_e3d30_row1_col2\" class=\"data row1 col2\" >10000</td>\n",
              "      <td id=\"T_e3d30_row1_col3\" class=\"data row1 col3\" >10333</td>\n",
              "    </tr>\n",
              "    <tr>\n",
              "      <td id=\"T_e3d30_row2_col0\" class=\"data row2 col0\" >Dhoni</td>\n",
              "      <td id=\"T_e3d30_row2_col1\" class=\"data row2 col1\" >Clerk</td>\n",
              "      <td id=\"T_e3d30_row2_col2\" class=\"data row2 col2\" >9000</td>\n",
              "      <td id=\"T_e3d30_row2_col3\" class=\"data row2 col3\" >10333</td>\n",
              "    </tr>\n",
              "    <tr>\n",
              "      <td id=\"T_e3d30_row3_col0\" class=\"data row3 col0\" >Sehwag</td>\n",
              "      <td id=\"T_e3d30_row3_col1\" class=\"data row3 col1\" >Cus_Rep</td>\n",
              "      <td id=\"T_e3d30_row3_col2\" class=\"data row3 col2\" >15000</td>\n",
              "      <td id=\"T_e3d30_row3_col3\" class=\"data row3 col3\" >20000</td>\n",
              "    </tr>\n",
              "    <tr>\n",
              "      <td id=\"T_e3d30_row4_col0\" class=\"data row4 col0\" >Mirza</td>\n",
              "      <td id=\"T_e3d30_row4_col1\" class=\"data row4 col1\" >Cus_Rep</td>\n",
              "      <td id=\"T_e3d30_row4_col2\" class=\"data row4 col2\" >25000</td>\n",
              "      <td id=\"T_e3d30_row4_col3\" class=\"data row4 col3\" >20000</td>\n",
              "    </tr>\n",
              "    <tr>\n",
              "      <td id=\"T_e3d30_row5_col0\" class=\"data row5 col0\" >Ganguly</td>\n",
              "      <td id=\"T_e3d30_row5_col1\" class=\"data row5 col1\" >Cus_Rep</td>\n",
              "      <td id=\"T_e3d30_row5_col2\" class=\"data row5 col2\" >20000</td>\n",
              "      <td id=\"T_e3d30_row5_col3\" class=\"data row5 col3\" >20000</td>\n",
              "    </tr>\n",
              "    <tr>\n",
              "      <td id=\"T_e3d30_row6_col0\" class=\"data row6 col0\" >Ganesan</td>\n",
              "      <td id=\"T_e3d30_row6_col1\" class=\"data row6 col1\" >Director</td>\n",
              "      <td id=\"T_e3d30_row6_col2\" class=\"data row6 col2\" >60000</td>\n",
              "      <td id=\"T_e3d30_row6_col3\" class=\"data row6 col3\" >60000</td>\n",
              "    </tr>\n",
              "    <tr>\n",
              "      <td id=\"T_e3d30_row7_col0\" class=\"data row7 col0\" >Sunil</td>\n",
              "      <td id=\"T_e3d30_row7_col1\" class=\"data row7 col1\" >Dy Manager</td>\n",
              "      <td id=\"T_e3d30_row7_col2\" class=\"data row7 col2\" >40000</td>\n",
              "      <td id=\"T_e3d30_row7_col3\" class=\"data row7 col3\" >40000</td>\n",
              "    </tr>\n",
              "    <tr>\n",
              "      <td id=\"T_e3d30_row8_col0\" class=\"data row8 col0\" >Bacchan</td>\n",
              "      <td id=\"T_e3d30_row8_col1\" class=\"data row8 col1\" >Executive</td>\n",
              "      <td id=\"T_e3d30_row8_col2\" class=\"data row8 col2\" >50000</td>\n",
              "      <td id=\"T_e3d30_row8_col3\" class=\"data row8 col3\" >50000</td>\n",
              "    </tr>\n",
              "    <tr>\n",
              "      <td id=\"T_e3d30_row9_col0\" class=\"data row9 col0\" >Khan</td>\n",
              "      <td id=\"T_e3d30_row9_col1\" class=\"data row9 col1\" >Manager</td>\n",
              "      <td id=\"T_e3d30_row9_col2\" class=\"data row9 col2\" >30000</td>\n",
              "      <td id=\"T_e3d30_row9_col3\" class=\"data row9 col3\" >27500</td>\n",
              "    </tr>\n",
              "    <tr>\n",
              "      <td id=\"T_e3d30_row10_col0\" class=\"data row10 col0\" >Mukherjee</td>\n",
              "      <td id=\"T_e3d30_row10_col1\" class=\"data row10 col1\" >Manager</td>\n",
              "      <td id=\"T_e3d30_row10_col2\" class=\"data row10 col2\" >25000</td>\n",
              "      <td id=\"T_e3d30_row10_col3\" class=\"data row10 col3\" >27500</td>\n",
              "    </tr>\n",
              "    <tr>\n",
              "      <td id=\"T_e3d30_row11_col0\" class=\"data row11 col0\" >Karthikeyan</td>\n",
              "      <td id=\"T_e3d30_row11_col1\" class=\"data row11 col1\" >Secretary</td>\n",
              "      <td id=\"T_e3d30_row11_col2\" class=\"data row11 col2\" >40000</td>\n",
              "      <td id=\"T_e3d30_row11_col3\" class=\"data row11 col3\" >40000</td>\n",
              "    </tr>\n",
              "    <tr>\n",
              "      <td id=\"T_e3d30_row12_col0\" class=\"data row12 col0\" >Dravid</td>\n",
              "      <td id=\"T_e3d30_row12_col1\" class=\"data row12 col1\" >Sr Manager</td>\n",
              "      <td id=\"T_e3d30_row12_col2\" class=\"data row12 col2\" >40000</td>\n",
              "      <td id=\"T_e3d30_row12_col3\" class=\"data row12 col3\" >40000</td>\n",
              "    </tr>\n",
              "  </tbody>\n",
              "</table>\n"
            ]
          },
          "metadata": {},
          "execution_count": 69
        }
      ]
    },
    {
      "cell_type": "code",
      "source": [
        "sql = \"\\\n",
        "select lastname, empl.jobdesc, salary, avgsalary from \\\n",
        "empl, (select jobdesc, round(avg(salary),0) avgsalary from empl group by jobdesc) meansalary \\\n",
        "where empl.jobdesc = meansalary.jobdesc \\\n",
        "order  by jobdesc \\\n",
        "\"\n",
        "runSelect(sql)"
      ],
      "metadata": {
        "id": "nwrLj4xaExye",
        "outputId": "9f1d091b-d8cb-4905-ff15-2ec616c9808f",
        "colab": {
          "base_uri": "https://localhost:8080/",
          "height": 457
        }
      },
      "execution_count": 70,
      "outputs": [
        {
          "output_type": "execute_result",
          "data": {
            "text/plain": [
              "<pandas.io.formats.style.Styler at 0x7bb964fd2890>"
            ],
            "text/html": [
              "<style type=\"text/css\">\n",
              "</style>\n",
              "<table id=\"T_f05ce\" class=\"dataframe\">\n",
              "  <thead>\n",
              "    <tr>\n",
              "      <th id=\"T_f05ce_level0_col0\" class=\"col_heading level0 col0\" >lastname</th>\n",
              "      <th id=\"T_f05ce_level0_col1\" class=\"col_heading level0 col1\" >jobdesc</th>\n",
              "      <th id=\"T_f05ce_level0_col2\" class=\"col_heading level0 col2\" >salary</th>\n",
              "      <th id=\"T_f05ce_level0_col3\" class=\"col_heading level0 col3\" >avgsalary</th>\n",
              "    </tr>\n",
              "  </thead>\n",
              "  <tbody>\n",
              "    <tr>\n",
              "      <td id=\"T_f05ce_row0_col0\" class=\"data row0 col0\" >Dalmia</td>\n",
              "      <td id=\"T_f05ce_row0_col1\" class=\"data row0 col1\" >Clerk</td>\n",
              "      <td id=\"T_f05ce_row0_col2\" class=\"data row0 col2\" >12000</td>\n",
              "      <td id=\"T_f05ce_row0_col3\" class=\"data row0 col3\" >10333</td>\n",
              "    </tr>\n",
              "    <tr>\n",
              "      <td id=\"T_f05ce_row1_col0\" class=\"data row1 col0\" >Dikshit</td>\n",
              "      <td id=\"T_f05ce_row1_col1\" class=\"data row1 col1\" >Clerk</td>\n",
              "      <td id=\"T_f05ce_row1_col2\" class=\"data row1 col2\" >10000</td>\n",
              "      <td id=\"T_f05ce_row1_col3\" class=\"data row1 col3\" >10333</td>\n",
              "    </tr>\n",
              "    <tr>\n",
              "      <td id=\"T_f05ce_row2_col0\" class=\"data row2 col0\" >Dhoni</td>\n",
              "      <td id=\"T_f05ce_row2_col1\" class=\"data row2 col1\" >Clerk</td>\n",
              "      <td id=\"T_f05ce_row2_col2\" class=\"data row2 col2\" >9000</td>\n",
              "      <td id=\"T_f05ce_row2_col3\" class=\"data row2 col3\" >10333</td>\n",
              "    </tr>\n",
              "    <tr>\n",
              "      <td id=\"T_f05ce_row3_col0\" class=\"data row3 col0\" >Sehwag</td>\n",
              "      <td id=\"T_f05ce_row3_col1\" class=\"data row3 col1\" >Cus_Rep</td>\n",
              "      <td id=\"T_f05ce_row3_col2\" class=\"data row3 col2\" >15000</td>\n",
              "      <td id=\"T_f05ce_row3_col3\" class=\"data row3 col3\" >20000</td>\n",
              "    </tr>\n",
              "    <tr>\n",
              "      <td id=\"T_f05ce_row4_col0\" class=\"data row4 col0\" >Mirza</td>\n",
              "      <td id=\"T_f05ce_row4_col1\" class=\"data row4 col1\" >Cus_Rep</td>\n",
              "      <td id=\"T_f05ce_row4_col2\" class=\"data row4 col2\" >25000</td>\n",
              "      <td id=\"T_f05ce_row4_col3\" class=\"data row4 col3\" >20000</td>\n",
              "    </tr>\n",
              "    <tr>\n",
              "      <td id=\"T_f05ce_row5_col0\" class=\"data row5 col0\" >Ganguly</td>\n",
              "      <td id=\"T_f05ce_row5_col1\" class=\"data row5 col1\" >Cus_Rep</td>\n",
              "      <td id=\"T_f05ce_row5_col2\" class=\"data row5 col2\" >20000</td>\n",
              "      <td id=\"T_f05ce_row5_col3\" class=\"data row5 col3\" >20000</td>\n",
              "    </tr>\n",
              "    <tr>\n",
              "      <td id=\"T_f05ce_row6_col0\" class=\"data row6 col0\" >Ganesan</td>\n",
              "      <td id=\"T_f05ce_row6_col1\" class=\"data row6 col1\" >Director</td>\n",
              "      <td id=\"T_f05ce_row6_col2\" class=\"data row6 col2\" >60000</td>\n",
              "      <td id=\"T_f05ce_row6_col3\" class=\"data row6 col3\" >60000</td>\n",
              "    </tr>\n",
              "    <tr>\n",
              "      <td id=\"T_f05ce_row7_col0\" class=\"data row7 col0\" >Sunil</td>\n",
              "      <td id=\"T_f05ce_row7_col1\" class=\"data row7 col1\" >Dy Manager</td>\n",
              "      <td id=\"T_f05ce_row7_col2\" class=\"data row7 col2\" >40000</td>\n",
              "      <td id=\"T_f05ce_row7_col3\" class=\"data row7 col3\" >40000</td>\n",
              "    </tr>\n",
              "    <tr>\n",
              "      <td id=\"T_f05ce_row8_col0\" class=\"data row8 col0\" >Bacchan</td>\n",
              "      <td id=\"T_f05ce_row8_col1\" class=\"data row8 col1\" >Executive</td>\n",
              "      <td id=\"T_f05ce_row8_col2\" class=\"data row8 col2\" >50000</td>\n",
              "      <td id=\"T_f05ce_row8_col3\" class=\"data row8 col3\" >50000</td>\n",
              "    </tr>\n",
              "    <tr>\n",
              "      <td id=\"T_f05ce_row9_col0\" class=\"data row9 col0\" >Khan</td>\n",
              "      <td id=\"T_f05ce_row9_col1\" class=\"data row9 col1\" >Manager</td>\n",
              "      <td id=\"T_f05ce_row9_col2\" class=\"data row9 col2\" >30000</td>\n",
              "      <td id=\"T_f05ce_row9_col3\" class=\"data row9 col3\" >27500</td>\n",
              "    </tr>\n",
              "    <tr>\n",
              "      <td id=\"T_f05ce_row10_col0\" class=\"data row10 col0\" >Mukherjee</td>\n",
              "      <td id=\"T_f05ce_row10_col1\" class=\"data row10 col1\" >Manager</td>\n",
              "      <td id=\"T_f05ce_row10_col2\" class=\"data row10 col2\" >25000</td>\n",
              "      <td id=\"T_f05ce_row10_col3\" class=\"data row10 col3\" >27500</td>\n",
              "    </tr>\n",
              "    <tr>\n",
              "      <td id=\"T_f05ce_row11_col0\" class=\"data row11 col0\" >Karthikeyan</td>\n",
              "      <td id=\"T_f05ce_row11_col1\" class=\"data row11 col1\" >Secretary</td>\n",
              "      <td id=\"T_f05ce_row11_col2\" class=\"data row11 col2\" >40000</td>\n",
              "      <td id=\"T_f05ce_row11_col3\" class=\"data row11 col3\" >40000</td>\n",
              "    </tr>\n",
              "    <tr>\n",
              "      <td id=\"T_f05ce_row12_col0\" class=\"data row12 col0\" >Dravid</td>\n",
              "      <td id=\"T_f05ce_row12_col1\" class=\"data row12 col1\" >Sr Manager</td>\n",
              "      <td id=\"T_f05ce_row12_col2\" class=\"data row12 col2\" >40000</td>\n",
              "      <td id=\"T_f05ce_row12_col3\" class=\"data row12 col3\" >40000</td>\n",
              "    </tr>\n",
              "  </tbody>\n",
              "</table>\n"
            ]
          },
          "metadata": {},
          "execution_count": 70
        }
      ]
    },
    {
      "cell_type": "markdown",
      "source": [
        "### CTE Recursion"
      ],
      "metadata": {
        "id": "d3j9PbgaADoB"
      }
    },
    {
      "cell_type": "code",
      "source": [
        "# recursion\n",
        "sql = \"\\\n",
        "with recursive hiring_chain as (\\\n",
        "select empid, lastname, hiredby \\\n",
        "    from empl where lastname = 'Ganesan' \\\n",
        "union all \\\n",
        "select \\\n",
        "e.empid, e.lastname,e.hiredby \\\n",
        "    from empl e \\\n",
        "    inner join hiring_chain hc on hc.empid = e.hiredby \\\n",
        ") \\\n",
        "select * from hiring_chain \\\n",
        "\"\n",
        "\n",
        "runSelect(sql)"
      ],
      "metadata": {
        "id": "HA-RyLoz0D3Z",
        "outputId": "909790aa-c5e1-40a5-b9a5-dffa7a906bdb",
        "colab": {
          "base_uri": "https://localhost:8080/",
          "height": 175
        }
      },
      "execution_count": 71,
      "outputs": [
        {
          "output_type": "execute_result",
          "data": {
            "text/plain": [
              "<pandas.io.formats.style.Styler at 0x7bb964fd1570>"
            ],
            "text/html": [
              "<style type=\"text/css\">\n",
              "</style>\n",
              "<table id=\"T_a6d82\" class=\"dataframe\">\n",
              "  <thead>\n",
              "    <tr>\n",
              "      <th id=\"T_a6d82_level0_col0\" class=\"col_heading level0 col0\" >empid</th>\n",
              "      <th id=\"T_a6d82_level0_col1\" class=\"col_heading level0 col1\" >lastname</th>\n",
              "      <th id=\"T_a6d82_level0_col2\" class=\"col_heading level0 col2\" >hiredby</th>\n",
              "    </tr>\n",
              "  </thead>\n",
              "  <tbody>\n",
              "    <tr>\n",
              "      <td id=\"T_a6d82_row0_col0\" class=\"data row0 col0\" >299034</td>\n",
              "      <td id=\"T_a6d82_row0_col1\" class=\"data row0 col1\" >Ganesan</td>\n",
              "      <td id=\"T_a6d82_row0_col2\" class=\"data row0 col2\" >742866</td>\n",
              "    </tr>\n",
              "    <tr>\n",
              "      <td id=\"T_a6d82_row1_col0\" class=\"data row1 col0\" >989007</td>\n",
              "      <td id=\"T_a6d82_row1_col1\" class=\"data row1 col1\" >Ganguly</td>\n",
              "      <td id=\"T_a6d82_row1_col2\" class=\"data row1 col2\" >299034</td>\n",
              "    </tr>\n",
              "    <tr>\n",
              "      <td id=\"T_a6d82_row2_col0\" class=\"data row2 col0\" >546223</td>\n",
              "      <td id=\"T_a6d82_row2_col1\" class=\"data row2 col1\" >Karthikeyan</td>\n",
              "      <td id=\"T_a6d82_row2_col2\" class=\"data row2 col2\" >299034</td>\n",
              "    </tr>\n",
              "    <tr>\n",
              "      <td id=\"T_a6d82_row3_col0\" class=\"data row3 col0\" >546224</td>\n",
              "      <td id=\"T_a6d82_row3_col1\" class=\"data row3 col1\" >Sunil</td>\n",
              "      <td id=\"T_a6d82_row3_col2\" class=\"data row3 col2\" >989007</td>\n",
              "    </tr>\n",
              "  </tbody>\n",
              "</table>\n"
            ]
          },
          "metadata": {},
          "execution_count": 71
        }
      ]
    },
    {
      "cell_type": "markdown",
      "source": [
        "### More Sophisticated Recursion\n",
        "note the switch between upward chain and downward chain in the JOIN column <br>\n",
        "\n",
        "\n",
        "*   Downward > e.hiredby = hc.empid\n",
        "*   Upward   > e.empid = hc.hiredby\n",
        "\n",
        "Courtesy [ChatGPT](https://chat.openai.com/share/80e291a6-bbd2-42d8-ba3d-6e01be4eafd7)"
      ],
      "metadata": {
        "id": "a5zh-tdQAxJp"
      }
    },
    {
      "cell_type": "code",
      "source": [
        "# Downward Chain\n",
        "#\n",
        "sql = \"\\\n",
        "with recursive hiring_chain as (\\\n",
        "select empid, lastname, hiredby, 1 as level \\\n",
        "    from empl where hiredby = '299034' \\\n",
        "union all \\\n",
        "select \\\n",
        "e.empid, e.lastname,e.hiredby, hc.level+1 \\\n",
        "    from empl e \\\n",
        "    inner join hiring_chain hc on e.hiredby = hc.empid  \\\n",
        ") \\\n",
        "select * from hiring_chain \\\n",
        "\"\n",
        "\n",
        "runSelect(sql)"
      ],
      "metadata": {
        "id": "wEsTzZbxA9Y9",
        "outputId": "19cf8feb-48a2-4e61-e17b-7818a773d4e1",
        "colab": {
          "base_uri": "https://localhost:8080/",
          "height": 143
        }
      },
      "execution_count": 72,
      "outputs": [
        {
          "output_type": "execute_result",
          "data": {
            "text/plain": [
              "<pandas.io.formats.style.Styler at 0x7bb964f77970>"
            ],
            "text/html": [
              "<style type=\"text/css\">\n",
              "</style>\n",
              "<table id=\"T_3544b\" class=\"dataframe\">\n",
              "  <thead>\n",
              "    <tr>\n",
              "      <th id=\"T_3544b_level0_col0\" class=\"col_heading level0 col0\" >empid</th>\n",
              "      <th id=\"T_3544b_level0_col1\" class=\"col_heading level0 col1\" >lastname</th>\n",
              "      <th id=\"T_3544b_level0_col2\" class=\"col_heading level0 col2\" >hiredby</th>\n",
              "      <th id=\"T_3544b_level0_col3\" class=\"col_heading level0 col3\" >level</th>\n",
              "    </tr>\n",
              "  </thead>\n",
              "  <tbody>\n",
              "    <tr>\n",
              "      <td id=\"T_3544b_row0_col0\" class=\"data row0 col0\" >989007</td>\n",
              "      <td id=\"T_3544b_row0_col1\" class=\"data row0 col1\" >Ganguly</td>\n",
              "      <td id=\"T_3544b_row0_col2\" class=\"data row0 col2\" >299034</td>\n",
              "      <td id=\"T_3544b_row0_col3\" class=\"data row0 col3\" >1</td>\n",
              "    </tr>\n",
              "    <tr>\n",
              "      <td id=\"T_3544b_row1_col0\" class=\"data row1 col0\" >546223</td>\n",
              "      <td id=\"T_3544b_row1_col1\" class=\"data row1 col1\" >Karthikeyan</td>\n",
              "      <td id=\"T_3544b_row1_col2\" class=\"data row1 col2\" >299034</td>\n",
              "      <td id=\"T_3544b_row1_col3\" class=\"data row1 col3\" >1</td>\n",
              "    </tr>\n",
              "    <tr>\n",
              "      <td id=\"T_3544b_row2_col0\" class=\"data row2 col0\" >546224</td>\n",
              "      <td id=\"T_3544b_row2_col1\" class=\"data row2 col1\" >Sunil</td>\n",
              "      <td id=\"T_3544b_row2_col2\" class=\"data row2 col2\" >989007</td>\n",
              "      <td id=\"T_3544b_row2_col3\" class=\"data row2 col3\" >2</td>\n",
              "    </tr>\n",
              "  </tbody>\n",
              "</table>\n"
            ]
          },
          "metadata": {},
          "execution_count": 72
        }
      ]
    },
    {
      "cell_type": "code",
      "source": [
        "# Downward Chain - Style 2\n",
        "#\n",
        "sql = \"\\\n",
        "with recursive hiring_chain as (\\\n",
        "select empid, lastname, hiredby, 1 as level \\\n",
        "    from empl where hiredby = (select empid from empl where lastname = 'Ganesan') \\\n",
        "union all \\\n",
        "select \\\n",
        "e.empid, e.lastname,e.hiredby, hc.level+1 \\\n",
        "    from empl e \\\n",
        "    inner join hiring_chain hc on e.hiredby = hc.empid  \\\n",
        ") \\\n",
        "select * from hiring_chain \\\n",
        "\"\n",
        "\n",
        "runSelect(sql)"
      ],
      "metadata": {
        "id": "jKvfW2HiQF5O",
        "outputId": "7a31f12b-97de-41c1-9e48-d1f653a06270",
        "colab": {
          "base_uri": "https://localhost:8080/",
          "height": 143
        }
      },
      "execution_count": 73,
      "outputs": [
        {
          "output_type": "execute_result",
          "data": {
            "text/plain": [
              "<pandas.io.formats.style.Styler at 0x7bb964f9cee0>"
            ],
            "text/html": [
              "<style type=\"text/css\">\n",
              "</style>\n",
              "<table id=\"T_fdd62\" class=\"dataframe\">\n",
              "  <thead>\n",
              "    <tr>\n",
              "      <th id=\"T_fdd62_level0_col0\" class=\"col_heading level0 col0\" >empid</th>\n",
              "      <th id=\"T_fdd62_level0_col1\" class=\"col_heading level0 col1\" >lastname</th>\n",
              "      <th id=\"T_fdd62_level0_col2\" class=\"col_heading level0 col2\" >hiredby</th>\n",
              "      <th id=\"T_fdd62_level0_col3\" class=\"col_heading level0 col3\" >level</th>\n",
              "    </tr>\n",
              "  </thead>\n",
              "  <tbody>\n",
              "    <tr>\n",
              "      <td id=\"T_fdd62_row0_col0\" class=\"data row0 col0\" >989007</td>\n",
              "      <td id=\"T_fdd62_row0_col1\" class=\"data row0 col1\" >Ganguly</td>\n",
              "      <td id=\"T_fdd62_row0_col2\" class=\"data row0 col2\" >299034</td>\n",
              "      <td id=\"T_fdd62_row0_col3\" class=\"data row0 col3\" >1</td>\n",
              "    </tr>\n",
              "    <tr>\n",
              "      <td id=\"T_fdd62_row1_col0\" class=\"data row1 col0\" >546223</td>\n",
              "      <td id=\"T_fdd62_row1_col1\" class=\"data row1 col1\" >Karthikeyan</td>\n",
              "      <td id=\"T_fdd62_row1_col2\" class=\"data row1 col2\" >299034</td>\n",
              "      <td id=\"T_fdd62_row1_col3\" class=\"data row1 col3\" >1</td>\n",
              "    </tr>\n",
              "    <tr>\n",
              "      <td id=\"T_fdd62_row2_col0\" class=\"data row2 col0\" >546224</td>\n",
              "      <td id=\"T_fdd62_row2_col1\" class=\"data row2 col1\" >Sunil</td>\n",
              "      <td id=\"T_fdd62_row2_col2\" class=\"data row2 col2\" >989007</td>\n",
              "      <td id=\"T_fdd62_row2_col3\" class=\"data row2 col3\" >2</td>\n",
              "    </tr>\n",
              "  </tbody>\n",
              "</table>\n"
            ]
          },
          "metadata": {},
          "execution_count": 73
        }
      ]
    },
    {
      "cell_type": "code",
      "source": [
        "# Upward Chain\n",
        "#\n",
        "sql = \"\\\n",
        "with recursive hiring_chain as (\\\n",
        "select empid, lastname, hiredby, 1 as level \\\n",
        "    from empl where lastname = 'Ganesan' \\\n",
        "union all \\\n",
        "select \\\n",
        "e.empid, e.lastname,e.hiredby, hc.level+1 \\\n",
        "    from empl e \\\n",
        "    inner join hiring_chain hc on e.empid = hc.hiredby  \\\n",
        ") \\\n",
        "select * from hiring_chain \\\n",
        "\"\n",
        "\n",
        "runSelect(sql)"
      ],
      "metadata": {
        "id": "ZtH1410DCaOT",
        "outputId": "92cb9858-7f9e-4b29-e6b7-189572002961",
        "colab": {
          "base_uri": "https://localhost:8080/",
          "height": 112
        }
      },
      "execution_count": 74,
      "outputs": [
        {
          "output_type": "execute_result",
          "data": {
            "text/plain": [
              "<pandas.io.formats.style.Styler at 0x7bb964fbb0d0>"
            ],
            "text/html": [
              "<style type=\"text/css\">\n",
              "</style>\n",
              "<table id=\"T_cc8ff\" class=\"dataframe\">\n",
              "  <thead>\n",
              "    <tr>\n",
              "      <th id=\"T_cc8ff_level0_col0\" class=\"col_heading level0 col0\" >empid</th>\n",
              "      <th id=\"T_cc8ff_level0_col1\" class=\"col_heading level0 col1\" >lastname</th>\n",
              "      <th id=\"T_cc8ff_level0_col2\" class=\"col_heading level0 col2\" >hiredby</th>\n",
              "      <th id=\"T_cc8ff_level0_col3\" class=\"col_heading level0 col3\" >level</th>\n",
              "    </tr>\n",
              "  </thead>\n",
              "  <tbody>\n",
              "    <tr>\n",
              "      <td id=\"T_cc8ff_row0_col0\" class=\"data row0 col0\" >299034</td>\n",
              "      <td id=\"T_cc8ff_row0_col1\" class=\"data row0 col1\" >Ganesan</td>\n",
              "      <td id=\"T_cc8ff_row0_col2\" class=\"data row0 col2\" >742866</td>\n",
              "      <td id=\"T_cc8ff_row0_col3\" class=\"data row0 col3\" >1</td>\n",
              "    </tr>\n",
              "    <tr>\n",
              "      <td id=\"T_cc8ff_row1_col0\" class=\"data row1 col0\" >742866</td>\n",
              "      <td id=\"T_cc8ff_row1_col1\" class=\"data row1 col1\" >Bacchan</td>\n",
              "      <td id=\"T_cc8ff_row1_col2\" class=\"data row1 col2\" >None</td>\n",
              "      <td id=\"T_cc8ff_row1_col3\" class=\"data row1 col3\" >2</td>\n",
              "    </tr>\n",
              "  </tbody>\n",
              "</table>\n"
            ]
          },
          "metadata": {},
          "execution_count": 74
        }
      ]
    },
    {
      "cell_type": "code",
      "source": [
        "# Upward Chain\n",
        "#\n",
        "sql = \"\\\n",
        "with recursive hiring_chain as (\\\n",
        "select empid, lastname, hiredby, 1 as level \\\n",
        "    from empl where lastname = 'Sunil' \\\n",
        "union all \\\n",
        "select \\\n",
        "e.empid, e.lastname,e.hiredby, hc.level+1 \\\n",
        "    from empl e \\\n",
        "    inner join hiring_chain hc on e.empid = hc.hiredby  \\\n",
        ") \\\n",
        "select * from hiring_chain \\\n",
        "\"\n",
        "\n",
        "runSelect(sql)"
      ],
      "metadata": {
        "id": "ZmBHyLXbPMQF",
        "outputId": "72bd63b7-a191-451a-86f9-670288ba2b0a",
        "colab": {
          "base_uri": "https://localhost:8080/",
          "height": 175
        }
      },
      "execution_count": 75,
      "outputs": [
        {
          "output_type": "execute_result",
          "data": {
            "text/plain": [
              "<pandas.io.formats.style.Styler at 0x7bb964f9d960>"
            ],
            "text/html": [
              "<style type=\"text/css\">\n",
              "</style>\n",
              "<table id=\"T_89630\" class=\"dataframe\">\n",
              "  <thead>\n",
              "    <tr>\n",
              "      <th id=\"T_89630_level0_col0\" class=\"col_heading level0 col0\" >empid</th>\n",
              "      <th id=\"T_89630_level0_col1\" class=\"col_heading level0 col1\" >lastname</th>\n",
              "      <th id=\"T_89630_level0_col2\" class=\"col_heading level0 col2\" >hiredby</th>\n",
              "      <th id=\"T_89630_level0_col3\" class=\"col_heading level0 col3\" >level</th>\n",
              "    </tr>\n",
              "  </thead>\n",
              "  <tbody>\n",
              "    <tr>\n",
              "      <td id=\"T_89630_row0_col0\" class=\"data row0 col0\" >546224</td>\n",
              "      <td id=\"T_89630_row0_col1\" class=\"data row0 col1\" >Sunil</td>\n",
              "      <td id=\"T_89630_row0_col2\" class=\"data row0 col2\" >989007</td>\n",
              "      <td id=\"T_89630_row0_col3\" class=\"data row0 col3\" >1</td>\n",
              "    </tr>\n",
              "    <tr>\n",
              "      <td id=\"T_89630_row1_col0\" class=\"data row1 col0\" >989007</td>\n",
              "      <td id=\"T_89630_row1_col1\" class=\"data row1 col1\" >Ganguly</td>\n",
              "      <td id=\"T_89630_row1_col2\" class=\"data row1 col2\" >299034</td>\n",
              "      <td id=\"T_89630_row1_col3\" class=\"data row1 col3\" >2</td>\n",
              "    </tr>\n",
              "    <tr>\n",
              "      <td id=\"T_89630_row2_col0\" class=\"data row2 col0\" >299034</td>\n",
              "      <td id=\"T_89630_row2_col1\" class=\"data row2 col1\" >Ganesan</td>\n",
              "      <td id=\"T_89630_row2_col2\" class=\"data row2 col2\" >742866</td>\n",
              "      <td id=\"T_89630_row2_col3\" class=\"data row2 col3\" >3</td>\n",
              "    </tr>\n",
              "    <tr>\n",
              "      <td id=\"T_89630_row3_col0\" class=\"data row3 col0\" >742866</td>\n",
              "      <td id=\"T_89630_row3_col1\" class=\"data row3 col1\" >Bacchan</td>\n",
              "      <td id=\"T_89630_row3_col2\" class=\"data row3 col2\" >None</td>\n",
              "      <td id=\"T_89630_row3_col3\" class=\"data row3 col3\" >4</td>\n",
              "    </tr>\n",
              "  </tbody>\n",
              "</table>\n"
            ]
          },
          "metadata": {},
          "execution_count": 75
        }
      ]
    },
    {
      "cell_type": "markdown",
      "source": [
        "#Window Functions"
      ],
      "metadata": {
        "id": "p1v2XtGa1QOq"
      }
    },
    {
      "cell_type": "code",
      "source": [
        "sql = \"select deptid, lastname, salary, \\\n",
        "    avg(salary) over (partition by deptid) \\\n",
        "    from empl\"\n",
        "runSelect(sql)"
      ],
      "metadata": {
        "colab": {
          "base_uri": "https://localhost:8080/",
          "height": 457
        },
        "id": "ffpu5hXo1TfJ",
        "outputId": "e7eed0de-b0fc-4541-b531-48e567b0f6b3"
      },
      "execution_count": 76,
      "outputs": [
        {
          "output_type": "execute_result",
          "data": {
            "text/plain": [
              "<pandas.io.formats.style.Styler at 0x7bb964f74040>"
            ],
            "text/html": [
              "<style type=\"text/css\">\n",
              "</style>\n",
              "<table id=\"T_79a2b\" class=\"dataframe\">\n",
              "  <thead>\n",
              "    <tr>\n",
              "      <th id=\"T_79a2b_level0_col0\" class=\"col_heading level0 col0\" >deptid</th>\n",
              "      <th id=\"T_79a2b_level0_col1\" class=\"col_heading level0 col1\" >lastname</th>\n",
              "      <th id=\"T_79a2b_level0_col2\" class=\"col_heading level0 col2\" >salary</th>\n",
              "      <th id=\"T_79a2b_level0_col3\" class=\"col_heading level0 col3\" >avg</th>\n",
              "    </tr>\n",
              "  </thead>\n",
              "  <tbody>\n",
              "    <tr>\n",
              "      <td id=\"T_79a2b_row0_col0\" class=\"data row0 col0\" >10</td>\n",
              "      <td id=\"T_79a2b_row0_col1\" class=\"data row0 col1\" >Bacchan</td>\n",
              "      <td id=\"T_79a2b_row0_col2\" class=\"data row0 col2\" >50000</td>\n",
              "      <td id=\"T_79a2b_row0_col3\" class=\"data row0 col3\" >50000.000000000000</td>\n",
              "    </tr>\n",
              "    <tr>\n",
              "      <td id=\"T_79a2b_row1_col0\" class=\"data row1 col0\" >10</td>\n",
              "      <td id=\"T_79a2b_row1_col1\" class=\"data row1 col1\" >Ganesan</td>\n",
              "      <td id=\"T_79a2b_row1_col2\" class=\"data row1 col2\" >60000</td>\n",
              "      <td id=\"T_79a2b_row1_col3\" class=\"data row1 col3\" >50000.000000000000</td>\n",
              "    </tr>\n",
              "    <tr>\n",
              "      <td id=\"T_79a2b_row2_col0\" class=\"data row2 col0\" >10</td>\n",
              "      <td id=\"T_79a2b_row2_col1\" class=\"data row2 col1\" >Karthikeyan</td>\n",
              "      <td id=\"T_79a2b_row2_col2\" class=\"data row2 col2\" >40000</td>\n",
              "      <td id=\"T_79a2b_row2_col3\" class=\"data row2 col3\" >50000.000000000000</td>\n",
              "    </tr>\n",
              "    <tr>\n",
              "      <td id=\"T_79a2b_row3_col0\" class=\"data row3 col0\" >20</td>\n",
              "      <td id=\"T_79a2b_row3_col1\" class=\"data row3 col1\" >Dikshit</td>\n",
              "      <td id=\"T_79a2b_row3_col2\" class=\"data row3 col2\" >10000</td>\n",
              "      <td id=\"T_79a2b_row3_col3\" class=\"data row3 col3\" >18333.333333333333</td>\n",
              "    </tr>\n",
              "    <tr>\n",
              "      <td id=\"T_79a2b_row4_col0\" class=\"data row4 col0\" >20</td>\n",
              "      <td id=\"T_79a2b_row4_col1\" class=\"data row4 col1\" >Khan</td>\n",
              "      <td id=\"T_79a2b_row4_col2\" class=\"data row4 col2\" >30000</td>\n",
              "      <td id=\"T_79a2b_row4_col3\" class=\"data row4 col3\" >18333.333333333333</td>\n",
              "    </tr>\n",
              "    <tr>\n",
              "      <td id=\"T_79a2b_row5_col0\" class=\"data row5 col0\" >20</td>\n",
              "      <td id=\"T_79a2b_row5_col1\" class=\"data row5 col1\" >Sehwag</td>\n",
              "      <td id=\"T_79a2b_row5_col2\" class=\"data row5 col2\" >15000</td>\n",
              "      <td id=\"T_79a2b_row5_col3\" class=\"data row5 col3\" >18333.333333333333</td>\n",
              "    </tr>\n",
              "    <tr>\n",
              "      <td id=\"T_79a2b_row6_col0\" class=\"data row6 col0\" >30</td>\n",
              "      <td id=\"T_79a2b_row6_col1\" class=\"data row6 col1\" >Mirza</td>\n",
              "      <td id=\"T_79a2b_row6_col2\" class=\"data row6 col2\" >25000</td>\n",
              "      <td id=\"T_79a2b_row6_col3\" class=\"data row6 col3\" >25666.666666666667</td>\n",
              "    </tr>\n",
              "    <tr>\n",
              "      <td id=\"T_79a2b_row7_col0\" class=\"data row7 col0\" >30</td>\n",
              "      <td id=\"T_79a2b_row7_col1\" class=\"data row7 col1\" >Dravid</td>\n",
              "      <td id=\"T_79a2b_row7_col2\" class=\"data row7 col2\" >40000</td>\n",
              "      <td id=\"T_79a2b_row7_col3\" class=\"data row7 col3\" >25666.666666666667</td>\n",
              "    </tr>\n",
              "    <tr>\n",
              "      <td id=\"T_79a2b_row8_col0\" class=\"data row8 col0\" >30</td>\n",
              "      <td id=\"T_79a2b_row8_col1\" class=\"data row8 col1\" >Dalmia</td>\n",
              "      <td id=\"T_79a2b_row8_col2\" class=\"data row8 col2\" >12000</td>\n",
              "      <td id=\"T_79a2b_row8_col3\" class=\"data row8 col3\" >25666.666666666667</td>\n",
              "    </tr>\n",
              "    <tr>\n",
              "      <td id=\"T_79a2b_row9_col0\" class=\"data row9 col0\" >40</td>\n",
              "      <td id=\"T_79a2b_row9_col1\" class=\"data row9 col1\" >Ganguly</td>\n",
              "      <td id=\"T_79a2b_row9_col2\" class=\"data row9 col2\" >20000</td>\n",
              "      <td id=\"T_79a2b_row9_col3\" class=\"data row9 col3\" >18000.000000000000</td>\n",
              "    </tr>\n",
              "    <tr>\n",
              "      <td id=\"T_79a2b_row10_col0\" class=\"data row10 col0\" >40</td>\n",
              "      <td id=\"T_79a2b_row10_col1\" class=\"data row10 col1\" >Dhoni</td>\n",
              "      <td id=\"T_79a2b_row10_col2\" class=\"data row10 col2\" >9000</td>\n",
              "      <td id=\"T_79a2b_row10_col3\" class=\"data row10 col3\" >18000.000000000000</td>\n",
              "    </tr>\n",
              "    <tr>\n",
              "      <td id=\"T_79a2b_row11_col0\" class=\"data row11 col0\" >40</td>\n",
              "      <td id=\"T_79a2b_row11_col1\" class=\"data row11 col1\" >Mukherjee</td>\n",
              "      <td id=\"T_79a2b_row11_col2\" class=\"data row11 col2\" >25000</td>\n",
              "      <td id=\"T_79a2b_row11_col3\" class=\"data row11 col3\" >18000.000000000000</td>\n",
              "    </tr>\n",
              "    <tr>\n",
              "      <td id=\"T_79a2b_row12_col0\" class=\"data row12 col0\" >70</td>\n",
              "      <td id=\"T_79a2b_row12_col1\" class=\"data row12 col1\" >Sunil</td>\n",
              "      <td id=\"T_79a2b_row12_col2\" class=\"data row12 col2\" >40000</td>\n",
              "      <td id=\"T_79a2b_row12_col3\" class=\"data row12 col3\" >40000.000000000000</td>\n",
              "    </tr>\n",
              "  </tbody>\n",
              "</table>\n"
            ]
          },
          "metadata": {},
          "execution_count": 76
        }
      ]
    },
    {
      "cell_type": "code",
      "source": [
        "sql = \"select deptname, lastname, salary, avg(salary) over (partition by deptname) from empl  inner join dept using(deptid)\"\n",
        "runSelect(sql)"
      ],
      "metadata": {
        "colab": {
          "base_uri": "https://localhost:8080/",
          "height": 425
        },
        "id": "JZC4y3tg2o8A",
        "outputId": "51b839a4-3d3a-4bdb-c924-b8661f845fc9"
      },
      "execution_count": 77,
      "outputs": [
        {
          "output_type": "execute_result",
          "data": {
            "text/plain": [
              "<pandas.io.formats.style.Styler at 0x7bb9650ab280>"
            ],
            "text/html": [
              "<style type=\"text/css\">\n",
              "</style>\n",
              "<table id=\"T_fc71f\" class=\"dataframe\">\n",
              "  <thead>\n",
              "    <tr>\n",
              "      <th id=\"T_fc71f_level0_col0\" class=\"col_heading level0 col0\" >deptname</th>\n",
              "      <th id=\"T_fc71f_level0_col1\" class=\"col_heading level0 col1\" >lastname</th>\n",
              "      <th id=\"T_fc71f_level0_col2\" class=\"col_heading level0 col2\" >salary</th>\n",
              "      <th id=\"T_fc71f_level0_col3\" class=\"col_heading level0 col3\" >avg</th>\n",
              "    </tr>\n",
              "  </thead>\n",
              "  <tbody>\n",
              "    <tr>\n",
              "      <td id=\"T_fc71f_row0_col0\" class=\"data row0 col0\" >Accounts</td>\n",
              "      <td id=\"T_fc71f_row0_col1\" class=\"data row0 col1\" >Dravid</td>\n",
              "      <td id=\"T_fc71f_row0_col2\" class=\"data row0 col2\" >40000</td>\n",
              "      <td id=\"T_fc71f_row0_col3\" class=\"data row0 col3\" >25666.666666666667</td>\n",
              "    </tr>\n",
              "    <tr>\n",
              "      <td id=\"T_fc71f_row1_col0\" class=\"data row1 col0\" >Accounts</td>\n",
              "      <td id=\"T_fc71f_row1_col1\" class=\"data row1 col1\" >Dalmia</td>\n",
              "      <td id=\"T_fc71f_row1_col2\" class=\"data row1 col2\" >12000</td>\n",
              "      <td id=\"T_fc71f_row1_col3\" class=\"data row1 col3\" >25666.666666666667</td>\n",
              "    </tr>\n",
              "    <tr>\n",
              "      <td id=\"T_fc71f_row2_col0\" class=\"data row2 col0\" >Accounts</td>\n",
              "      <td id=\"T_fc71f_row2_col1\" class=\"data row2 col1\" >Mirza</td>\n",
              "      <td id=\"T_fc71f_row2_col2\" class=\"data row2 col2\" >25000</td>\n",
              "      <td id=\"T_fc71f_row2_col3\" class=\"data row2 col3\" >25666.666666666667</td>\n",
              "    </tr>\n",
              "    <tr>\n",
              "      <td id=\"T_fc71f_row3_col0\" class=\"data row3 col0\" >Corporate</td>\n",
              "      <td id=\"T_fc71f_row3_col1\" class=\"data row3 col1\" >Karthikeyan</td>\n",
              "      <td id=\"T_fc71f_row3_col2\" class=\"data row3 col2\" >40000</td>\n",
              "      <td id=\"T_fc71f_row3_col3\" class=\"data row3 col3\" >50000.000000000000</td>\n",
              "    </tr>\n",
              "    <tr>\n",
              "      <td id=\"T_fc71f_row4_col0\" class=\"data row4 col0\" >Corporate</td>\n",
              "      <td id=\"T_fc71f_row4_col1\" class=\"data row4 col1\" >Ganesan</td>\n",
              "      <td id=\"T_fc71f_row4_col2\" class=\"data row4 col2\" >60000</td>\n",
              "      <td id=\"T_fc71f_row4_col3\" class=\"data row4 col3\" >50000.000000000000</td>\n",
              "    </tr>\n",
              "    <tr>\n",
              "      <td id=\"T_fc71f_row5_col0\" class=\"data row5 col0\" >Corporate</td>\n",
              "      <td id=\"T_fc71f_row5_col1\" class=\"data row5 col1\" >Bacchan</td>\n",
              "      <td id=\"T_fc71f_row5_col2\" class=\"data row5 col2\" >50000</td>\n",
              "      <td id=\"T_fc71f_row5_col3\" class=\"data row5 col3\" >50000.000000000000</td>\n",
              "    </tr>\n",
              "    <tr>\n",
              "      <td id=\"T_fc71f_row6_col0\" class=\"data row6 col0\" >Production</td>\n",
              "      <td id=\"T_fc71f_row6_col1\" class=\"data row6 col1\" >Ganguly</td>\n",
              "      <td id=\"T_fc71f_row6_col2\" class=\"data row6 col2\" >20000</td>\n",
              "      <td id=\"T_fc71f_row6_col3\" class=\"data row6 col3\" >18000.000000000000</td>\n",
              "    </tr>\n",
              "    <tr>\n",
              "      <td id=\"T_fc71f_row7_col0\" class=\"data row7 col0\" >Production</td>\n",
              "      <td id=\"T_fc71f_row7_col1\" class=\"data row7 col1\" >Dhoni</td>\n",
              "      <td id=\"T_fc71f_row7_col2\" class=\"data row7 col2\" >9000</td>\n",
              "      <td id=\"T_fc71f_row7_col3\" class=\"data row7 col3\" >18000.000000000000</td>\n",
              "    </tr>\n",
              "    <tr>\n",
              "      <td id=\"T_fc71f_row8_col0\" class=\"data row8 col0\" >Production</td>\n",
              "      <td id=\"T_fc71f_row8_col1\" class=\"data row8 col1\" >Mukherjee</td>\n",
              "      <td id=\"T_fc71f_row8_col2\" class=\"data row8 col2\" >25000</td>\n",
              "      <td id=\"T_fc71f_row8_col3\" class=\"data row8 col3\" >18000.000000000000</td>\n",
              "    </tr>\n",
              "    <tr>\n",
              "      <td id=\"T_fc71f_row9_col0\" class=\"data row9 col0\" >Sales</td>\n",
              "      <td id=\"T_fc71f_row9_col1\" class=\"data row9 col1\" >Dikshit</td>\n",
              "      <td id=\"T_fc71f_row9_col2\" class=\"data row9 col2\" >10000</td>\n",
              "      <td id=\"T_fc71f_row9_col3\" class=\"data row9 col3\" >18333.333333333333</td>\n",
              "    </tr>\n",
              "    <tr>\n",
              "      <td id=\"T_fc71f_row10_col0\" class=\"data row10 col0\" >Sales</td>\n",
              "      <td id=\"T_fc71f_row10_col1\" class=\"data row10 col1\" >Khan</td>\n",
              "      <td id=\"T_fc71f_row10_col2\" class=\"data row10 col2\" >30000</td>\n",
              "      <td id=\"T_fc71f_row10_col3\" class=\"data row10 col3\" >18333.333333333333</td>\n",
              "    </tr>\n",
              "    <tr>\n",
              "      <td id=\"T_fc71f_row11_col0\" class=\"data row11 col0\" >Sales</td>\n",
              "      <td id=\"T_fc71f_row11_col1\" class=\"data row11 col1\" >Sehwag</td>\n",
              "      <td id=\"T_fc71f_row11_col2\" class=\"data row11 col2\" >15000</td>\n",
              "      <td id=\"T_fc71f_row11_col3\" class=\"data row11 col3\" >18333.333333333333</td>\n",
              "    </tr>\n",
              "  </tbody>\n",
              "</table>\n"
            ]
          },
          "metadata": {},
          "execution_count": 77
        }
      ]
    },
    {
      "cell_type": "code",
      "source": [
        "sql = \"select deptname, lastname, salary, \\\n",
        "    row_number() over (partition by deptname order by salary) \\\n",
        "    from empl  inner join dept using(deptid)\"\n",
        "runSelect(sql)"
      ],
      "metadata": {
        "colab": {
          "base_uri": "https://localhost:8080/",
          "height": 425
        },
        "id": "xgP9VShE4Spl",
        "outputId": "737a2b2f-d280-4fbe-b429-d69395758b3c"
      },
      "execution_count": 78,
      "outputs": [
        {
          "output_type": "execute_result",
          "data": {
            "text/plain": [
              "<pandas.io.formats.style.Styler at 0x7bb9650ebd30>"
            ],
            "text/html": [
              "<style type=\"text/css\">\n",
              "</style>\n",
              "<table id=\"T_d30c3\" class=\"dataframe\">\n",
              "  <thead>\n",
              "    <tr>\n",
              "      <th id=\"T_d30c3_level0_col0\" class=\"col_heading level0 col0\" >deptname</th>\n",
              "      <th id=\"T_d30c3_level0_col1\" class=\"col_heading level0 col1\" >lastname</th>\n",
              "      <th id=\"T_d30c3_level0_col2\" class=\"col_heading level0 col2\" >salary</th>\n",
              "      <th id=\"T_d30c3_level0_col3\" class=\"col_heading level0 col3\" >row_number</th>\n",
              "    </tr>\n",
              "  </thead>\n",
              "  <tbody>\n",
              "    <tr>\n",
              "      <td id=\"T_d30c3_row0_col0\" class=\"data row0 col0\" >Accounts</td>\n",
              "      <td id=\"T_d30c3_row0_col1\" class=\"data row0 col1\" >Dalmia</td>\n",
              "      <td id=\"T_d30c3_row0_col2\" class=\"data row0 col2\" >12000</td>\n",
              "      <td id=\"T_d30c3_row0_col3\" class=\"data row0 col3\" >1</td>\n",
              "    </tr>\n",
              "    <tr>\n",
              "      <td id=\"T_d30c3_row1_col0\" class=\"data row1 col0\" >Accounts</td>\n",
              "      <td id=\"T_d30c3_row1_col1\" class=\"data row1 col1\" >Mirza</td>\n",
              "      <td id=\"T_d30c3_row1_col2\" class=\"data row1 col2\" >25000</td>\n",
              "      <td id=\"T_d30c3_row1_col3\" class=\"data row1 col3\" >2</td>\n",
              "    </tr>\n",
              "    <tr>\n",
              "      <td id=\"T_d30c3_row2_col0\" class=\"data row2 col0\" >Accounts</td>\n",
              "      <td id=\"T_d30c3_row2_col1\" class=\"data row2 col1\" >Dravid</td>\n",
              "      <td id=\"T_d30c3_row2_col2\" class=\"data row2 col2\" >40000</td>\n",
              "      <td id=\"T_d30c3_row2_col3\" class=\"data row2 col3\" >3</td>\n",
              "    </tr>\n",
              "    <tr>\n",
              "      <td id=\"T_d30c3_row3_col0\" class=\"data row3 col0\" >Corporate</td>\n",
              "      <td id=\"T_d30c3_row3_col1\" class=\"data row3 col1\" >Karthikeyan</td>\n",
              "      <td id=\"T_d30c3_row3_col2\" class=\"data row3 col2\" >40000</td>\n",
              "      <td id=\"T_d30c3_row3_col3\" class=\"data row3 col3\" >1</td>\n",
              "    </tr>\n",
              "    <tr>\n",
              "      <td id=\"T_d30c3_row4_col0\" class=\"data row4 col0\" >Corporate</td>\n",
              "      <td id=\"T_d30c3_row4_col1\" class=\"data row4 col1\" >Bacchan</td>\n",
              "      <td id=\"T_d30c3_row4_col2\" class=\"data row4 col2\" >50000</td>\n",
              "      <td id=\"T_d30c3_row4_col3\" class=\"data row4 col3\" >2</td>\n",
              "    </tr>\n",
              "    <tr>\n",
              "      <td id=\"T_d30c3_row5_col0\" class=\"data row5 col0\" >Corporate</td>\n",
              "      <td id=\"T_d30c3_row5_col1\" class=\"data row5 col1\" >Ganesan</td>\n",
              "      <td id=\"T_d30c3_row5_col2\" class=\"data row5 col2\" >60000</td>\n",
              "      <td id=\"T_d30c3_row5_col3\" class=\"data row5 col3\" >3</td>\n",
              "    </tr>\n",
              "    <tr>\n",
              "      <td id=\"T_d30c3_row6_col0\" class=\"data row6 col0\" >Production</td>\n",
              "      <td id=\"T_d30c3_row6_col1\" class=\"data row6 col1\" >Dhoni</td>\n",
              "      <td id=\"T_d30c3_row6_col2\" class=\"data row6 col2\" >9000</td>\n",
              "      <td id=\"T_d30c3_row6_col3\" class=\"data row6 col3\" >1</td>\n",
              "    </tr>\n",
              "    <tr>\n",
              "      <td id=\"T_d30c3_row7_col0\" class=\"data row7 col0\" >Production</td>\n",
              "      <td id=\"T_d30c3_row7_col1\" class=\"data row7 col1\" >Ganguly</td>\n",
              "      <td id=\"T_d30c3_row7_col2\" class=\"data row7 col2\" >20000</td>\n",
              "      <td id=\"T_d30c3_row7_col3\" class=\"data row7 col3\" >2</td>\n",
              "    </tr>\n",
              "    <tr>\n",
              "      <td id=\"T_d30c3_row8_col0\" class=\"data row8 col0\" >Production</td>\n",
              "      <td id=\"T_d30c3_row8_col1\" class=\"data row8 col1\" >Mukherjee</td>\n",
              "      <td id=\"T_d30c3_row8_col2\" class=\"data row8 col2\" >25000</td>\n",
              "      <td id=\"T_d30c3_row8_col3\" class=\"data row8 col3\" >3</td>\n",
              "    </tr>\n",
              "    <tr>\n",
              "      <td id=\"T_d30c3_row9_col0\" class=\"data row9 col0\" >Sales</td>\n",
              "      <td id=\"T_d30c3_row9_col1\" class=\"data row9 col1\" >Dikshit</td>\n",
              "      <td id=\"T_d30c3_row9_col2\" class=\"data row9 col2\" >10000</td>\n",
              "      <td id=\"T_d30c3_row9_col3\" class=\"data row9 col3\" >1</td>\n",
              "    </tr>\n",
              "    <tr>\n",
              "      <td id=\"T_d30c3_row10_col0\" class=\"data row10 col0\" >Sales</td>\n",
              "      <td id=\"T_d30c3_row10_col1\" class=\"data row10 col1\" >Sehwag</td>\n",
              "      <td id=\"T_d30c3_row10_col2\" class=\"data row10 col2\" >15000</td>\n",
              "      <td id=\"T_d30c3_row10_col3\" class=\"data row10 col3\" >2</td>\n",
              "    </tr>\n",
              "    <tr>\n",
              "      <td id=\"T_d30c3_row11_col0\" class=\"data row11 col0\" >Sales</td>\n",
              "      <td id=\"T_d30c3_row11_col1\" class=\"data row11 col1\" >Khan</td>\n",
              "      <td id=\"T_d30c3_row11_col2\" class=\"data row11 col2\" >30000</td>\n",
              "      <td id=\"T_d30c3_row11_col3\" class=\"data row11 col3\" >3</td>\n",
              "    </tr>\n",
              "  </tbody>\n",
              "</table>\n"
            ]
          },
          "metadata": {},
          "execution_count": 78
        }
      ]
    },
    {
      "cell_type": "code",
      "source": [
        "sql = \"select deptname, lastname, salary, \\\n",
        "        rank() over (partition by deptname order by salary desc) \\\n",
        "        from empl  inner join dept using(deptid)\"\n",
        "runSelect(sql)"
      ],
      "metadata": {
        "colab": {
          "base_uri": "https://localhost:8080/",
          "height": 425
        },
        "id": "rL_1sHBa4ply",
        "outputId": "f59eebf9-d354-44a5-86ac-0946590278ea"
      },
      "execution_count": 79,
      "outputs": [
        {
          "output_type": "execute_result",
          "data": {
            "text/plain": [
              "<pandas.io.formats.style.Styler at 0x7bb964f9d7e0>"
            ],
            "text/html": [
              "<style type=\"text/css\">\n",
              "</style>\n",
              "<table id=\"T_db640\" class=\"dataframe\">\n",
              "  <thead>\n",
              "    <tr>\n",
              "      <th id=\"T_db640_level0_col0\" class=\"col_heading level0 col0\" >deptname</th>\n",
              "      <th id=\"T_db640_level0_col1\" class=\"col_heading level0 col1\" >lastname</th>\n",
              "      <th id=\"T_db640_level0_col2\" class=\"col_heading level0 col2\" >salary</th>\n",
              "      <th id=\"T_db640_level0_col3\" class=\"col_heading level0 col3\" >rank</th>\n",
              "    </tr>\n",
              "  </thead>\n",
              "  <tbody>\n",
              "    <tr>\n",
              "      <td id=\"T_db640_row0_col0\" class=\"data row0 col0\" >Accounts</td>\n",
              "      <td id=\"T_db640_row0_col1\" class=\"data row0 col1\" >Dravid</td>\n",
              "      <td id=\"T_db640_row0_col2\" class=\"data row0 col2\" >40000</td>\n",
              "      <td id=\"T_db640_row0_col3\" class=\"data row0 col3\" >1</td>\n",
              "    </tr>\n",
              "    <tr>\n",
              "      <td id=\"T_db640_row1_col0\" class=\"data row1 col0\" >Accounts</td>\n",
              "      <td id=\"T_db640_row1_col1\" class=\"data row1 col1\" >Mirza</td>\n",
              "      <td id=\"T_db640_row1_col2\" class=\"data row1 col2\" >25000</td>\n",
              "      <td id=\"T_db640_row1_col3\" class=\"data row1 col3\" >2</td>\n",
              "    </tr>\n",
              "    <tr>\n",
              "      <td id=\"T_db640_row2_col0\" class=\"data row2 col0\" >Accounts</td>\n",
              "      <td id=\"T_db640_row2_col1\" class=\"data row2 col1\" >Dalmia</td>\n",
              "      <td id=\"T_db640_row2_col2\" class=\"data row2 col2\" >12000</td>\n",
              "      <td id=\"T_db640_row2_col3\" class=\"data row2 col3\" >3</td>\n",
              "    </tr>\n",
              "    <tr>\n",
              "      <td id=\"T_db640_row3_col0\" class=\"data row3 col0\" >Corporate</td>\n",
              "      <td id=\"T_db640_row3_col1\" class=\"data row3 col1\" >Ganesan</td>\n",
              "      <td id=\"T_db640_row3_col2\" class=\"data row3 col2\" >60000</td>\n",
              "      <td id=\"T_db640_row3_col3\" class=\"data row3 col3\" >1</td>\n",
              "    </tr>\n",
              "    <tr>\n",
              "      <td id=\"T_db640_row4_col0\" class=\"data row4 col0\" >Corporate</td>\n",
              "      <td id=\"T_db640_row4_col1\" class=\"data row4 col1\" >Bacchan</td>\n",
              "      <td id=\"T_db640_row4_col2\" class=\"data row4 col2\" >50000</td>\n",
              "      <td id=\"T_db640_row4_col3\" class=\"data row4 col3\" >2</td>\n",
              "    </tr>\n",
              "    <tr>\n",
              "      <td id=\"T_db640_row5_col0\" class=\"data row5 col0\" >Corporate</td>\n",
              "      <td id=\"T_db640_row5_col1\" class=\"data row5 col1\" >Karthikeyan</td>\n",
              "      <td id=\"T_db640_row5_col2\" class=\"data row5 col2\" >40000</td>\n",
              "      <td id=\"T_db640_row5_col3\" class=\"data row5 col3\" >3</td>\n",
              "    </tr>\n",
              "    <tr>\n",
              "      <td id=\"T_db640_row6_col0\" class=\"data row6 col0\" >Production</td>\n",
              "      <td id=\"T_db640_row6_col1\" class=\"data row6 col1\" >Mukherjee</td>\n",
              "      <td id=\"T_db640_row6_col2\" class=\"data row6 col2\" >25000</td>\n",
              "      <td id=\"T_db640_row6_col3\" class=\"data row6 col3\" >1</td>\n",
              "    </tr>\n",
              "    <tr>\n",
              "      <td id=\"T_db640_row7_col0\" class=\"data row7 col0\" >Production</td>\n",
              "      <td id=\"T_db640_row7_col1\" class=\"data row7 col1\" >Ganguly</td>\n",
              "      <td id=\"T_db640_row7_col2\" class=\"data row7 col2\" >20000</td>\n",
              "      <td id=\"T_db640_row7_col3\" class=\"data row7 col3\" >2</td>\n",
              "    </tr>\n",
              "    <tr>\n",
              "      <td id=\"T_db640_row8_col0\" class=\"data row8 col0\" >Production</td>\n",
              "      <td id=\"T_db640_row8_col1\" class=\"data row8 col1\" >Dhoni</td>\n",
              "      <td id=\"T_db640_row8_col2\" class=\"data row8 col2\" >9000</td>\n",
              "      <td id=\"T_db640_row8_col3\" class=\"data row8 col3\" >3</td>\n",
              "    </tr>\n",
              "    <tr>\n",
              "      <td id=\"T_db640_row9_col0\" class=\"data row9 col0\" >Sales</td>\n",
              "      <td id=\"T_db640_row9_col1\" class=\"data row9 col1\" >Khan</td>\n",
              "      <td id=\"T_db640_row9_col2\" class=\"data row9 col2\" >30000</td>\n",
              "      <td id=\"T_db640_row9_col3\" class=\"data row9 col3\" >1</td>\n",
              "    </tr>\n",
              "    <tr>\n",
              "      <td id=\"T_db640_row10_col0\" class=\"data row10 col0\" >Sales</td>\n",
              "      <td id=\"T_db640_row10_col1\" class=\"data row10 col1\" >Sehwag</td>\n",
              "      <td id=\"T_db640_row10_col2\" class=\"data row10 col2\" >15000</td>\n",
              "      <td id=\"T_db640_row10_col3\" class=\"data row10 col3\" >2</td>\n",
              "    </tr>\n",
              "    <tr>\n",
              "      <td id=\"T_db640_row11_col0\" class=\"data row11 col0\" >Sales</td>\n",
              "      <td id=\"T_db640_row11_col1\" class=\"data row11 col1\" >Dikshit</td>\n",
              "      <td id=\"T_db640_row11_col2\" class=\"data row11 col2\" >10000</td>\n",
              "      <td id=\"T_db640_row11_col3\" class=\"data row11 col3\" >3</td>\n",
              "    </tr>\n",
              "  </tbody>\n",
              "</table>\n"
            ]
          },
          "metadata": {},
          "execution_count": 79
        }
      ]
    },
    {
      "cell_type": "code",
      "source": [
        "sql = \"select deptname, lastname, salary, \\\n",
        "first_value(salary) over (partition by deptname order by salary) as deptlow, \\\n",
        "last_value(salary) over (partition by deptname order by salary RANGE BETWEEN UNBOUNDED PRECEDING AND UNBOUNDED FOLLOWING) as depthigh \\\n",
        "from empl  inner join dept using(deptid)\"\n",
        "runSelect(sql)"
      ],
      "metadata": {
        "colab": {
          "base_uri": "https://localhost:8080/",
          "height": 425
        },
        "id": "RO428SVT5T3d",
        "outputId": "284e18c6-4527-4b23-dd9f-f3352e23c6d6"
      },
      "execution_count": 80,
      "outputs": [
        {
          "output_type": "execute_result",
          "data": {
            "text/plain": [
              "<pandas.io.formats.style.Styler at 0x7bb96514a950>"
            ],
            "text/html": [
              "<style type=\"text/css\">\n",
              "</style>\n",
              "<table id=\"T_d6893\" class=\"dataframe\">\n",
              "  <thead>\n",
              "    <tr>\n",
              "      <th id=\"T_d6893_level0_col0\" class=\"col_heading level0 col0\" >deptname</th>\n",
              "      <th id=\"T_d6893_level0_col1\" class=\"col_heading level0 col1\" >lastname</th>\n",
              "      <th id=\"T_d6893_level0_col2\" class=\"col_heading level0 col2\" >salary</th>\n",
              "      <th id=\"T_d6893_level0_col3\" class=\"col_heading level0 col3\" >deptlow</th>\n",
              "      <th id=\"T_d6893_level0_col4\" class=\"col_heading level0 col4\" >depthigh</th>\n",
              "    </tr>\n",
              "  </thead>\n",
              "  <tbody>\n",
              "    <tr>\n",
              "      <td id=\"T_d6893_row0_col0\" class=\"data row0 col0\" >Accounts</td>\n",
              "      <td id=\"T_d6893_row0_col1\" class=\"data row0 col1\" >Dalmia</td>\n",
              "      <td id=\"T_d6893_row0_col2\" class=\"data row0 col2\" >12000</td>\n",
              "      <td id=\"T_d6893_row0_col3\" class=\"data row0 col3\" >12000</td>\n",
              "      <td id=\"T_d6893_row0_col4\" class=\"data row0 col4\" >40000</td>\n",
              "    </tr>\n",
              "    <tr>\n",
              "      <td id=\"T_d6893_row1_col0\" class=\"data row1 col0\" >Accounts</td>\n",
              "      <td id=\"T_d6893_row1_col1\" class=\"data row1 col1\" >Mirza</td>\n",
              "      <td id=\"T_d6893_row1_col2\" class=\"data row1 col2\" >25000</td>\n",
              "      <td id=\"T_d6893_row1_col3\" class=\"data row1 col3\" >12000</td>\n",
              "      <td id=\"T_d6893_row1_col4\" class=\"data row1 col4\" >40000</td>\n",
              "    </tr>\n",
              "    <tr>\n",
              "      <td id=\"T_d6893_row2_col0\" class=\"data row2 col0\" >Accounts</td>\n",
              "      <td id=\"T_d6893_row2_col1\" class=\"data row2 col1\" >Dravid</td>\n",
              "      <td id=\"T_d6893_row2_col2\" class=\"data row2 col2\" >40000</td>\n",
              "      <td id=\"T_d6893_row2_col3\" class=\"data row2 col3\" >12000</td>\n",
              "      <td id=\"T_d6893_row2_col4\" class=\"data row2 col4\" >40000</td>\n",
              "    </tr>\n",
              "    <tr>\n",
              "      <td id=\"T_d6893_row3_col0\" class=\"data row3 col0\" >Corporate</td>\n",
              "      <td id=\"T_d6893_row3_col1\" class=\"data row3 col1\" >Karthikeyan</td>\n",
              "      <td id=\"T_d6893_row3_col2\" class=\"data row3 col2\" >40000</td>\n",
              "      <td id=\"T_d6893_row3_col3\" class=\"data row3 col3\" >40000</td>\n",
              "      <td id=\"T_d6893_row3_col4\" class=\"data row3 col4\" >60000</td>\n",
              "    </tr>\n",
              "    <tr>\n",
              "      <td id=\"T_d6893_row4_col0\" class=\"data row4 col0\" >Corporate</td>\n",
              "      <td id=\"T_d6893_row4_col1\" class=\"data row4 col1\" >Bacchan</td>\n",
              "      <td id=\"T_d6893_row4_col2\" class=\"data row4 col2\" >50000</td>\n",
              "      <td id=\"T_d6893_row4_col3\" class=\"data row4 col3\" >40000</td>\n",
              "      <td id=\"T_d6893_row4_col4\" class=\"data row4 col4\" >60000</td>\n",
              "    </tr>\n",
              "    <tr>\n",
              "      <td id=\"T_d6893_row5_col0\" class=\"data row5 col0\" >Corporate</td>\n",
              "      <td id=\"T_d6893_row5_col1\" class=\"data row5 col1\" >Ganesan</td>\n",
              "      <td id=\"T_d6893_row5_col2\" class=\"data row5 col2\" >60000</td>\n",
              "      <td id=\"T_d6893_row5_col3\" class=\"data row5 col3\" >40000</td>\n",
              "      <td id=\"T_d6893_row5_col4\" class=\"data row5 col4\" >60000</td>\n",
              "    </tr>\n",
              "    <tr>\n",
              "      <td id=\"T_d6893_row6_col0\" class=\"data row6 col0\" >Production</td>\n",
              "      <td id=\"T_d6893_row6_col1\" class=\"data row6 col1\" >Dhoni</td>\n",
              "      <td id=\"T_d6893_row6_col2\" class=\"data row6 col2\" >9000</td>\n",
              "      <td id=\"T_d6893_row6_col3\" class=\"data row6 col3\" >9000</td>\n",
              "      <td id=\"T_d6893_row6_col4\" class=\"data row6 col4\" >25000</td>\n",
              "    </tr>\n",
              "    <tr>\n",
              "      <td id=\"T_d6893_row7_col0\" class=\"data row7 col0\" >Production</td>\n",
              "      <td id=\"T_d6893_row7_col1\" class=\"data row7 col1\" >Ganguly</td>\n",
              "      <td id=\"T_d6893_row7_col2\" class=\"data row7 col2\" >20000</td>\n",
              "      <td id=\"T_d6893_row7_col3\" class=\"data row7 col3\" >9000</td>\n",
              "      <td id=\"T_d6893_row7_col4\" class=\"data row7 col4\" >25000</td>\n",
              "    </tr>\n",
              "    <tr>\n",
              "      <td id=\"T_d6893_row8_col0\" class=\"data row8 col0\" >Production</td>\n",
              "      <td id=\"T_d6893_row8_col1\" class=\"data row8 col1\" >Mukherjee</td>\n",
              "      <td id=\"T_d6893_row8_col2\" class=\"data row8 col2\" >25000</td>\n",
              "      <td id=\"T_d6893_row8_col3\" class=\"data row8 col3\" >9000</td>\n",
              "      <td id=\"T_d6893_row8_col4\" class=\"data row8 col4\" >25000</td>\n",
              "    </tr>\n",
              "    <tr>\n",
              "      <td id=\"T_d6893_row9_col0\" class=\"data row9 col0\" >Sales</td>\n",
              "      <td id=\"T_d6893_row9_col1\" class=\"data row9 col1\" >Dikshit</td>\n",
              "      <td id=\"T_d6893_row9_col2\" class=\"data row9 col2\" >10000</td>\n",
              "      <td id=\"T_d6893_row9_col3\" class=\"data row9 col3\" >10000</td>\n",
              "      <td id=\"T_d6893_row9_col4\" class=\"data row9 col4\" >30000</td>\n",
              "    </tr>\n",
              "    <tr>\n",
              "      <td id=\"T_d6893_row10_col0\" class=\"data row10 col0\" >Sales</td>\n",
              "      <td id=\"T_d6893_row10_col1\" class=\"data row10 col1\" >Sehwag</td>\n",
              "      <td id=\"T_d6893_row10_col2\" class=\"data row10 col2\" >15000</td>\n",
              "      <td id=\"T_d6893_row10_col3\" class=\"data row10 col3\" >10000</td>\n",
              "      <td id=\"T_d6893_row10_col4\" class=\"data row10 col4\" >30000</td>\n",
              "    </tr>\n",
              "    <tr>\n",
              "      <td id=\"T_d6893_row11_col0\" class=\"data row11 col0\" >Sales</td>\n",
              "      <td id=\"T_d6893_row11_col1\" class=\"data row11 col1\" >Khan</td>\n",
              "      <td id=\"T_d6893_row11_col2\" class=\"data row11 col2\" >30000</td>\n",
              "      <td id=\"T_d6893_row11_col3\" class=\"data row11 col3\" >10000</td>\n",
              "      <td id=\"T_d6893_row11_col4\" class=\"data row11 col4\" >30000</td>\n",
              "    </tr>\n",
              "  </tbody>\n",
              "</table>\n"
            ]
          },
          "metadata": {},
          "execution_count": 80
        }
      ]
    },
    {
      "cell_type": "code",
      "source": [
        "sql = \"select deptname, lastname, salary, \\\n",
        "lag(salary,1) over (partition by deptname order by salary) as prev_emp, \\\n",
        "salary - lag(salary,1) over (partition by deptname order by salary) as gap_up \\\n",
        "from empl  inner join dept using(deptid)\"\n",
        "runSelect(sql)"
      ],
      "metadata": {
        "colab": {
          "base_uri": "https://localhost:8080/",
          "height": 425
        },
        "id": "fnG4S0lF8h77",
        "outputId": "daf2e97f-9080-4db1-c81f-f54ecae515b6"
      },
      "execution_count": 81,
      "outputs": [
        {
          "output_type": "execute_result",
          "data": {
            "text/plain": [
              "<pandas.io.formats.style.Styler at 0x7bb9650eae60>"
            ],
            "text/html": [
              "<style type=\"text/css\">\n",
              "</style>\n",
              "<table id=\"T_c2f77\" class=\"dataframe\">\n",
              "  <thead>\n",
              "    <tr>\n",
              "      <th id=\"T_c2f77_level0_col0\" class=\"col_heading level0 col0\" >deptname</th>\n",
              "      <th id=\"T_c2f77_level0_col1\" class=\"col_heading level0 col1\" >lastname</th>\n",
              "      <th id=\"T_c2f77_level0_col2\" class=\"col_heading level0 col2\" >salary</th>\n",
              "      <th id=\"T_c2f77_level0_col3\" class=\"col_heading level0 col3\" >prev_emp</th>\n",
              "      <th id=\"T_c2f77_level0_col4\" class=\"col_heading level0 col4\" >gap_up</th>\n",
              "    </tr>\n",
              "  </thead>\n",
              "  <tbody>\n",
              "    <tr>\n",
              "      <td id=\"T_c2f77_row0_col0\" class=\"data row0 col0\" >Accounts</td>\n",
              "      <td id=\"T_c2f77_row0_col1\" class=\"data row0 col1\" >Dalmia</td>\n",
              "      <td id=\"T_c2f77_row0_col2\" class=\"data row0 col2\" >12000</td>\n",
              "      <td id=\"T_c2f77_row0_col3\" class=\"data row0 col3\" >nan</td>\n",
              "      <td id=\"T_c2f77_row0_col4\" class=\"data row0 col4\" >nan</td>\n",
              "    </tr>\n",
              "    <tr>\n",
              "      <td id=\"T_c2f77_row1_col0\" class=\"data row1 col0\" >Accounts</td>\n",
              "      <td id=\"T_c2f77_row1_col1\" class=\"data row1 col1\" >Mirza</td>\n",
              "      <td id=\"T_c2f77_row1_col2\" class=\"data row1 col2\" >25000</td>\n",
              "      <td id=\"T_c2f77_row1_col3\" class=\"data row1 col3\" >12000.000000</td>\n",
              "      <td id=\"T_c2f77_row1_col4\" class=\"data row1 col4\" >13000.000000</td>\n",
              "    </tr>\n",
              "    <tr>\n",
              "      <td id=\"T_c2f77_row2_col0\" class=\"data row2 col0\" >Accounts</td>\n",
              "      <td id=\"T_c2f77_row2_col1\" class=\"data row2 col1\" >Dravid</td>\n",
              "      <td id=\"T_c2f77_row2_col2\" class=\"data row2 col2\" >40000</td>\n",
              "      <td id=\"T_c2f77_row2_col3\" class=\"data row2 col3\" >25000.000000</td>\n",
              "      <td id=\"T_c2f77_row2_col4\" class=\"data row2 col4\" >15000.000000</td>\n",
              "    </tr>\n",
              "    <tr>\n",
              "      <td id=\"T_c2f77_row3_col0\" class=\"data row3 col0\" >Corporate</td>\n",
              "      <td id=\"T_c2f77_row3_col1\" class=\"data row3 col1\" >Karthikeyan</td>\n",
              "      <td id=\"T_c2f77_row3_col2\" class=\"data row3 col2\" >40000</td>\n",
              "      <td id=\"T_c2f77_row3_col3\" class=\"data row3 col3\" >nan</td>\n",
              "      <td id=\"T_c2f77_row3_col4\" class=\"data row3 col4\" >nan</td>\n",
              "    </tr>\n",
              "    <tr>\n",
              "      <td id=\"T_c2f77_row4_col0\" class=\"data row4 col0\" >Corporate</td>\n",
              "      <td id=\"T_c2f77_row4_col1\" class=\"data row4 col1\" >Bacchan</td>\n",
              "      <td id=\"T_c2f77_row4_col2\" class=\"data row4 col2\" >50000</td>\n",
              "      <td id=\"T_c2f77_row4_col3\" class=\"data row4 col3\" >40000.000000</td>\n",
              "      <td id=\"T_c2f77_row4_col4\" class=\"data row4 col4\" >10000.000000</td>\n",
              "    </tr>\n",
              "    <tr>\n",
              "      <td id=\"T_c2f77_row5_col0\" class=\"data row5 col0\" >Corporate</td>\n",
              "      <td id=\"T_c2f77_row5_col1\" class=\"data row5 col1\" >Ganesan</td>\n",
              "      <td id=\"T_c2f77_row5_col2\" class=\"data row5 col2\" >60000</td>\n",
              "      <td id=\"T_c2f77_row5_col3\" class=\"data row5 col3\" >50000.000000</td>\n",
              "      <td id=\"T_c2f77_row5_col4\" class=\"data row5 col4\" >10000.000000</td>\n",
              "    </tr>\n",
              "    <tr>\n",
              "      <td id=\"T_c2f77_row6_col0\" class=\"data row6 col0\" >Production</td>\n",
              "      <td id=\"T_c2f77_row6_col1\" class=\"data row6 col1\" >Dhoni</td>\n",
              "      <td id=\"T_c2f77_row6_col2\" class=\"data row6 col2\" >9000</td>\n",
              "      <td id=\"T_c2f77_row6_col3\" class=\"data row6 col3\" >nan</td>\n",
              "      <td id=\"T_c2f77_row6_col4\" class=\"data row6 col4\" >nan</td>\n",
              "    </tr>\n",
              "    <tr>\n",
              "      <td id=\"T_c2f77_row7_col0\" class=\"data row7 col0\" >Production</td>\n",
              "      <td id=\"T_c2f77_row7_col1\" class=\"data row7 col1\" >Ganguly</td>\n",
              "      <td id=\"T_c2f77_row7_col2\" class=\"data row7 col2\" >20000</td>\n",
              "      <td id=\"T_c2f77_row7_col3\" class=\"data row7 col3\" >9000.000000</td>\n",
              "      <td id=\"T_c2f77_row7_col4\" class=\"data row7 col4\" >11000.000000</td>\n",
              "    </tr>\n",
              "    <tr>\n",
              "      <td id=\"T_c2f77_row8_col0\" class=\"data row8 col0\" >Production</td>\n",
              "      <td id=\"T_c2f77_row8_col1\" class=\"data row8 col1\" >Mukherjee</td>\n",
              "      <td id=\"T_c2f77_row8_col2\" class=\"data row8 col2\" >25000</td>\n",
              "      <td id=\"T_c2f77_row8_col3\" class=\"data row8 col3\" >20000.000000</td>\n",
              "      <td id=\"T_c2f77_row8_col4\" class=\"data row8 col4\" >5000.000000</td>\n",
              "    </tr>\n",
              "    <tr>\n",
              "      <td id=\"T_c2f77_row9_col0\" class=\"data row9 col0\" >Sales</td>\n",
              "      <td id=\"T_c2f77_row9_col1\" class=\"data row9 col1\" >Dikshit</td>\n",
              "      <td id=\"T_c2f77_row9_col2\" class=\"data row9 col2\" >10000</td>\n",
              "      <td id=\"T_c2f77_row9_col3\" class=\"data row9 col3\" >nan</td>\n",
              "      <td id=\"T_c2f77_row9_col4\" class=\"data row9 col4\" >nan</td>\n",
              "    </tr>\n",
              "    <tr>\n",
              "      <td id=\"T_c2f77_row10_col0\" class=\"data row10 col0\" >Sales</td>\n",
              "      <td id=\"T_c2f77_row10_col1\" class=\"data row10 col1\" >Sehwag</td>\n",
              "      <td id=\"T_c2f77_row10_col2\" class=\"data row10 col2\" >15000</td>\n",
              "      <td id=\"T_c2f77_row10_col3\" class=\"data row10 col3\" >10000.000000</td>\n",
              "      <td id=\"T_c2f77_row10_col4\" class=\"data row10 col4\" >5000.000000</td>\n",
              "    </tr>\n",
              "    <tr>\n",
              "      <td id=\"T_c2f77_row11_col0\" class=\"data row11 col0\" >Sales</td>\n",
              "      <td id=\"T_c2f77_row11_col1\" class=\"data row11 col1\" >Khan</td>\n",
              "      <td id=\"T_c2f77_row11_col2\" class=\"data row11 col2\" >30000</td>\n",
              "      <td id=\"T_c2f77_row11_col3\" class=\"data row11 col3\" >15000.000000</td>\n",
              "      <td id=\"T_c2f77_row11_col4\" class=\"data row11 col4\" >15000.000000</td>\n",
              "    </tr>\n",
              "  </tbody>\n",
              "</table>\n"
            ]
          },
          "metadata": {},
          "execution_count": 81
        }
      ]
    },
    {
      "cell_type": "markdown",
      "source": [
        "#Transpose / Pivot\n",
        "https://www.sqlshack.com/how-to-use-the-crosstab-function-in-postgresql/"
      ],
      "metadata": {
        "id": "V6Bt-yTXSITF"
      }
    },
    {
      "cell_type": "code",
      "source": [
        "!psql -h localhost -p 5432 -Uupraxis -ddbpraxis -c \"create extension tablefunc;\""
      ],
      "metadata": {
        "colab": {
          "base_uri": "https://localhost:8080/"
        },
        "id": "ZgVgr1DfYs_R",
        "outputId": "16ed0a6f-1fe4-40ee-96a3-299d79b12500"
      },
      "execution_count": 82,
      "outputs": [
        {
          "output_type": "stream",
          "name": "stdout",
          "text": [
            "CREATE EXTENSION\n"
          ]
        }
      ]
    },
    {
      "cell_type": "code",
      "source": [
        "runSelect('select * from dept')"
      ],
      "metadata": {
        "colab": {
          "base_uri": "https://localhost:8080/",
          "height": 206
        },
        "id": "Sa9IpGXwSKWe",
        "outputId": "9fb314c5-fc6c-4b6e-e64d-68e7f8c81c8b"
      },
      "execution_count": 83,
      "outputs": [
        {
          "output_type": "execute_result",
          "data": {
            "text/plain": [
              "<pandas.io.formats.style.Styler at 0x7bb964f74340>"
            ],
            "text/html": [
              "<style type=\"text/css\">\n",
              "</style>\n",
              "<table id=\"T_dc7a9\" class=\"dataframe\">\n",
              "  <thead>\n",
              "    <tr>\n",
              "      <th id=\"T_dc7a9_level0_col0\" class=\"col_heading level0 col0\" >deptid</th>\n",
              "      <th id=\"T_dc7a9_level0_col1\" class=\"col_heading level0 col1\" >deptname</th>\n",
              "      <th id=\"T_dc7a9_level0_col2\" class=\"col_heading level0 col2\" >managerid</th>\n",
              "      <th id=\"T_dc7a9_level0_col3\" class=\"col_heading level0 col3\" >location</th>\n",
              "      <th id=\"T_dc7a9_level0_col4\" class=\"col_heading level0 col4\" >locationid</th>\n",
              "    </tr>\n",
              "  </thead>\n",
              "  <tbody>\n",
              "    <tr>\n",
              "      <td id=\"T_dc7a9_row0_col0\" class=\"data row0 col0\" >10</td>\n",
              "      <td id=\"T_dc7a9_row0_col1\" class=\"data row0 col1\" >Corporate</td>\n",
              "      <td id=\"T_dc7a9_row0_col2\" class=\"data row0 col2\" >299034</td>\n",
              "      <td id=\"T_dc7a9_row0_col3\" class=\"data row0 col3\" >Calcutta</td>\n",
              "      <td id=\"T_dc7a9_row0_col4\" class=\"data row0 col4\" >1</td>\n",
              "    </tr>\n",
              "    <tr>\n",
              "      <td id=\"T_dc7a9_row1_col0\" class=\"data row1 col0\" >20</td>\n",
              "      <td id=\"T_dc7a9_row1_col1\" class=\"data row1 col1\" >Sales</td>\n",
              "      <td id=\"T_dc7a9_row1_col2\" class=\"data row1 col2\" >239456</td>\n",
              "      <td id=\"T_dc7a9_row1_col3\" class=\"data row1 col3\" >Calcutta</td>\n",
              "      <td id=\"T_dc7a9_row1_col4\" class=\"data row1 col4\" >1</td>\n",
              "    </tr>\n",
              "    <tr>\n",
              "      <td id=\"T_dc7a9_row2_col0\" class=\"data row2 col0\" >30</td>\n",
              "      <td id=\"T_dc7a9_row2_col1\" class=\"data row2 col1\" >Accounts</td>\n",
              "      <td id=\"T_dc7a9_row2_col2\" class=\"data row2 col2\" >822134</td>\n",
              "      <td id=\"T_dc7a9_row2_col3\" class=\"data row2 col3\" >Calcutta</td>\n",
              "      <td id=\"T_dc7a9_row2_col4\" class=\"data row2 col4\" >1</td>\n",
              "    </tr>\n",
              "    <tr>\n",
              "      <td id=\"T_dc7a9_row3_col0\" class=\"data row3 col0\" >40</td>\n",
              "      <td id=\"T_dc7a9_row3_col1\" class=\"data row3 col1\" >Production</td>\n",
              "      <td id=\"T_dc7a9_row3_col2\" class=\"data row3 col2\" >349870</td>\n",
              "      <td id=\"T_dc7a9_row3_col3\" class=\"data row3 col3\" >Bombay</td>\n",
              "      <td id=\"T_dc7a9_row3_col4\" class=\"data row3 col4\" >2</td>\n",
              "    </tr>\n",
              "    <tr>\n",
              "      <td id=\"T_dc7a9_row4_col0\" class=\"data row4 col0\" >60</td>\n",
              "      <td id=\"T_dc7a9_row4_col1\" class=\"data row4 col1\" >Research</td>\n",
              "      <td id=\"T_dc7a9_row4_col2\" class=\"data row4 col2\" >546224</td>\n",
              "      <td id=\"T_dc7a9_row4_col3\" class=\"data row4 col3\" >Delhi</td>\n",
              "      <td id=\"T_dc7a9_row4_col4\" class=\"data row4 col4\" >3</td>\n",
              "    </tr>\n",
              "  </tbody>\n",
              "</table>\n"
            ]
          },
          "metadata": {},
          "execution_count": 83
        }
      ]
    },
    {
      "cell_type": "code",
      "source": [
        "sql = \"\\\n",
        "select * from \\\n",
        "crosstab('select location::text,locationid::text,deptname::text from dept order by 1,2') as locations \\\n",
        "(location text, dep1 text, dep2 text, dep3 text, dep4 text)\\\n",
        "\"\n",
        "runSelect(sql)"
      ],
      "metadata": {
        "colab": {
          "base_uri": "https://localhost:8080/",
          "height": 143
        },
        "id": "Iukqh6TRVo-9",
        "outputId": "7b1a8373-faa1-4a2b-c78e-be2673459a66"
      },
      "execution_count": 84,
      "outputs": [
        {
          "output_type": "execute_result",
          "data": {
            "text/plain": [
              "<pandas.io.formats.style.Styler at 0x7bb9650a9270>"
            ],
            "text/html": [
              "<style type=\"text/css\">\n",
              "</style>\n",
              "<table id=\"T_4c1d8\" class=\"dataframe\">\n",
              "  <thead>\n",
              "    <tr>\n",
              "      <th id=\"T_4c1d8_level0_col0\" class=\"col_heading level0 col0\" >location</th>\n",
              "      <th id=\"T_4c1d8_level0_col1\" class=\"col_heading level0 col1\" >dep1</th>\n",
              "      <th id=\"T_4c1d8_level0_col2\" class=\"col_heading level0 col2\" >dep2</th>\n",
              "      <th id=\"T_4c1d8_level0_col3\" class=\"col_heading level0 col3\" >dep3</th>\n",
              "      <th id=\"T_4c1d8_level0_col4\" class=\"col_heading level0 col4\" >dep4</th>\n",
              "    </tr>\n",
              "  </thead>\n",
              "  <tbody>\n",
              "    <tr>\n",
              "      <td id=\"T_4c1d8_row0_col0\" class=\"data row0 col0\" >Bombay</td>\n",
              "      <td id=\"T_4c1d8_row0_col1\" class=\"data row0 col1\" >Production</td>\n",
              "      <td id=\"T_4c1d8_row0_col2\" class=\"data row0 col2\" >None</td>\n",
              "      <td id=\"T_4c1d8_row0_col3\" class=\"data row0 col3\" >None</td>\n",
              "      <td id=\"T_4c1d8_row0_col4\" class=\"data row0 col4\" >None</td>\n",
              "    </tr>\n",
              "    <tr>\n",
              "      <td id=\"T_4c1d8_row1_col0\" class=\"data row1 col0\" >Calcutta</td>\n",
              "      <td id=\"T_4c1d8_row1_col1\" class=\"data row1 col1\" >Corporate</td>\n",
              "      <td id=\"T_4c1d8_row1_col2\" class=\"data row1 col2\" >Sales</td>\n",
              "      <td id=\"T_4c1d8_row1_col3\" class=\"data row1 col3\" >Accounts</td>\n",
              "      <td id=\"T_4c1d8_row1_col4\" class=\"data row1 col4\" >None</td>\n",
              "    </tr>\n",
              "    <tr>\n",
              "      <td id=\"T_4c1d8_row2_col0\" class=\"data row2 col0\" >Delhi</td>\n",
              "      <td id=\"T_4c1d8_row2_col1\" class=\"data row2 col1\" >Research</td>\n",
              "      <td id=\"T_4c1d8_row2_col2\" class=\"data row2 col2\" >None</td>\n",
              "      <td id=\"T_4c1d8_row2_col3\" class=\"data row2 col3\" >None</td>\n",
              "      <td id=\"T_4c1d8_row2_col4\" class=\"data row2 col4\" >None</td>\n",
              "    </tr>\n",
              "  </tbody>\n",
              "</table>\n"
            ]
          },
          "metadata": {},
          "execution_count": 84
        }
      ]
    },
    {
      "cell_type": "markdown",
      "source": [
        "# Insert | Delete | Update"
      ],
      "metadata": {
        "id": "REcqZ7K0DYqi"
      }
    },
    {
      "cell_type": "code",
      "source": [
        "runSelect(\"select * from dept\")"
      ],
      "metadata": {
        "id": "xGgCH9vGDlsI",
        "outputId": "0bf42efa-1af6-49d1-812c-d3a15542e0e9",
        "colab": {
          "base_uri": "https://localhost:8080/",
          "height": 206
        }
      },
      "execution_count": 85,
      "outputs": [
        {
          "output_type": "execute_result",
          "data": {
            "text/plain": [
              "<pandas.io.formats.style.Styler at 0x7bb964feae60>"
            ],
            "text/html": [
              "<style type=\"text/css\">\n",
              "</style>\n",
              "<table id=\"T_cd499\" class=\"dataframe\">\n",
              "  <thead>\n",
              "    <tr>\n",
              "      <th id=\"T_cd499_level0_col0\" class=\"col_heading level0 col0\" >deptid</th>\n",
              "      <th id=\"T_cd499_level0_col1\" class=\"col_heading level0 col1\" >deptname</th>\n",
              "      <th id=\"T_cd499_level0_col2\" class=\"col_heading level0 col2\" >managerid</th>\n",
              "      <th id=\"T_cd499_level0_col3\" class=\"col_heading level0 col3\" >location</th>\n",
              "      <th id=\"T_cd499_level0_col4\" class=\"col_heading level0 col4\" >locationid</th>\n",
              "    </tr>\n",
              "  </thead>\n",
              "  <tbody>\n",
              "    <tr>\n",
              "      <td id=\"T_cd499_row0_col0\" class=\"data row0 col0\" >10</td>\n",
              "      <td id=\"T_cd499_row0_col1\" class=\"data row0 col1\" >Corporate</td>\n",
              "      <td id=\"T_cd499_row0_col2\" class=\"data row0 col2\" >299034</td>\n",
              "      <td id=\"T_cd499_row0_col3\" class=\"data row0 col3\" >Calcutta</td>\n",
              "      <td id=\"T_cd499_row0_col4\" class=\"data row0 col4\" >1</td>\n",
              "    </tr>\n",
              "    <tr>\n",
              "      <td id=\"T_cd499_row1_col0\" class=\"data row1 col0\" >20</td>\n",
              "      <td id=\"T_cd499_row1_col1\" class=\"data row1 col1\" >Sales</td>\n",
              "      <td id=\"T_cd499_row1_col2\" class=\"data row1 col2\" >239456</td>\n",
              "      <td id=\"T_cd499_row1_col3\" class=\"data row1 col3\" >Calcutta</td>\n",
              "      <td id=\"T_cd499_row1_col4\" class=\"data row1 col4\" >1</td>\n",
              "    </tr>\n",
              "    <tr>\n",
              "      <td id=\"T_cd499_row2_col0\" class=\"data row2 col0\" >30</td>\n",
              "      <td id=\"T_cd499_row2_col1\" class=\"data row2 col1\" >Accounts</td>\n",
              "      <td id=\"T_cd499_row2_col2\" class=\"data row2 col2\" >822134</td>\n",
              "      <td id=\"T_cd499_row2_col3\" class=\"data row2 col3\" >Calcutta</td>\n",
              "      <td id=\"T_cd499_row2_col4\" class=\"data row2 col4\" >1</td>\n",
              "    </tr>\n",
              "    <tr>\n",
              "      <td id=\"T_cd499_row3_col0\" class=\"data row3 col0\" >40</td>\n",
              "      <td id=\"T_cd499_row3_col1\" class=\"data row3 col1\" >Production</td>\n",
              "      <td id=\"T_cd499_row3_col2\" class=\"data row3 col2\" >349870</td>\n",
              "      <td id=\"T_cd499_row3_col3\" class=\"data row3 col3\" >Bombay</td>\n",
              "      <td id=\"T_cd499_row3_col4\" class=\"data row3 col4\" >2</td>\n",
              "    </tr>\n",
              "    <tr>\n",
              "      <td id=\"T_cd499_row4_col0\" class=\"data row4 col0\" >60</td>\n",
              "      <td id=\"T_cd499_row4_col1\" class=\"data row4 col1\" >Research</td>\n",
              "      <td id=\"T_cd499_row4_col2\" class=\"data row4 col2\" >546224</td>\n",
              "      <td id=\"T_cd499_row4_col3\" class=\"data row4 col3\" >Delhi</td>\n",
              "      <td id=\"T_cd499_row4_col4\" class=\"data row4 col4\" >3</td>\n",
              "    </tr>\n",
              "  </tbody>\n",
              "</table>\n"
            ]
          },
          "metadata": {},
          "execution_count": 85
        }
      ]
    },
    {
      "cell_type": "code",
      "source": [
        "runCmd(\"insert into Dept (DeptID, DeptName, ManagerID, Location,LocationID) VALUES \\\n",
        "\t('11', 'Corporate2', '299035', 'Calcutta','1')\")\n",
        "runSelect(\"select * from dept\")"
      ],
      "metadata": {
        "id": "iyW0EobdDuMY",
        "outputId": "38217c77-f81f-4ba2-accd-f78791bbbaab",
        "colab": {
          "base_uri": "https://localhost:8080/",
          "height": 255
        }
      },
      "execution_count": 86,
      "outputs": [
        {
          "output_type": "stream",
          "name": "stdout",
          "text": [
            "Command executed\n"
          ]
        },
        {
          "output_type": "execute_result",
          "data": {
            "text/plain": [
              "<pandas.io.formats.style.Styler at 0x7bb964fe9e10>"
            ],
            "text/html": [
              "<style type=\"text/css\">\n",
              "</style>\n",
              "<table id=\"T_e1775\" class=\"dataframe\">\n",
              "  <thead>\n",
              "    <tr>\n",
              "      <th id=\"T_e1775_level0_col0\" class=\"col_heading level0 col0\" >deptid</th>\n",
              "      <th id=\"T_e1775_level0_col1\" class=\"col_heading level0 col1\" >deptname</th>\n",
              "      <th id=\"T_e1775_level0_col2\" class=\"col_heading level0 col2\" >managerid</th>\n",
              "      <th id=\"T_e1775_level0_col3\" class=\"col_heading level0 col3\" >location</th>\n",
              "      <th id=\"T_e1775_level0_col4\" class=\"col_heading level0 col4\" >locationid</th>\n",
              "    </tr>\n",
              "  </thead>\n",
              "  <tbody>\n",
              "    <tr>\n",
              "      <td id=\"T_e1775_row0_col0\" class=\"data row0 col0\" >10</td>\n",
              "      <td id=\"T_e1775_row0_col1\" class=\"data row0 col1\" >Corporate</td>\n",
              "      <td id=\"T_e1775_row0_col2\" class=\"data row0 col2\" >299034</td>\n",
              "      <td id=\"T_e1775_row0_col3\" class=\"data row0 col3\" >Calcutta</td>\n",
              "      <td id=\"T_e1775_row0_col4\" class=\"data row0 col4\" >1</td>\n",
              "    </tr>\n",
              "    <tr>\n",
              "      <td id=\"T_e1775_row1_col0\" class=\"data row1 col0\" >20</td>\n",
              "      <td id=\"T_e1775_row1_col1\" class=\"data row1 col1\" >Sales</td>\n",
              "      <td id=\"T_e1775_row1_col2\" class=\"data row1 col2\" >239456</td>\n",
              "      <td id=\"T_e1775_row1_col3\" class=\"data row1 col3\" >Calcutta</td>\n",
              "      <td id=\"T_e1775_row1_col4\" class=\"data row1 col4\" >1</td>\n",
              "    </tr>\n",
              "    <tr>\n",
              "      <td id=\"T_e1775_row2_col0\" class=\"data row2 col0\" >30</td>\n",
              "      <td id=\"T_e1775_row2_col1\" class=\"data row2 col1\" >Accounts</td>\n",
              "      <td id=\"T_e1775_row2_col2\" class=\"data row2 col2\" >822134</td>\n",
              "      <td id=\"T_e1775_row2_col3\" class=\"data row2 col3\" >Calcutta</td>\n",
              "      <td id=\"T_e1775_row2_col4\" class=\"data row2 col4\" >1</td>\n",
              "    </tr>\n",
              "    <tr>\n",
              "      <td id=\"T_e1775_row3_col0\" class=\"data row3 col0\" >40</td>\n",
              "      <td id=\"T_e1775_row3_col1\" class=\"data row3 col1\" >Production</td>\n",
              "      <td id=\"T_e1775_row3_col2\" class=\"data row3 col2\" >349870</td>\n",
              "      <td id=\"T_e1775_row3_col3\" class=\"data row3 col3\" >Bombay</td>\n",
              "      <td id=\"T_e1775_row3_col4\" class=\"data row3 col4\" >2</td>\n",
              "    </tr>\n",
              "    <tr>\n",
              "      <td id=\"T_e1775_row4_col0\" class=\"data row4 col0\" >60</td>\n",
              "      <td id=\"T_e1775_row4_col1\" class=\"data row4 col1\" >Research</td>\n",
              "      <td id=\"T_e1775_row4_col2\" class=\"data row4 col2\" >546224</td>\n",
              "      <td id=\"T_e1775_row4_col3\" class=\"data row4 col3\" >Delhi</td>\n",
              "      <td id=\"T_e1775_row4_col4\" class=\"data row4 col4\" >3</td>\n",
              "    </tr>\n",
              "    <tr>\n",
              "      <td id=\"T_e1775_row5_col0\" class=\"data row5 col0\" >11</td>\n",
              "      <td id=\"T_e1775_row5_col1\" class=\"data row5 col1\" >Corporate2</td>\n",
              "      <td id=\"T_e1775_row5_col2\" class=\"data row5 col2\" >299035</td>\n",
              "      <td id=\"T_e1775_row5_col3\" class=\"data row5 col3\" >Calcutta</td>\n",
              "      <td id=\"T_e1775_row5_col4\" class=\"data row5 col4\" >1</td>\n",
              "    </tr>\n",
              "  </tbody>\n",
              "</table>\n"
            ]
          },
          "metadata": {},
          "execution_count": 86
        }
      ]
    },
    {
      "cell_type": "code",
      "source": [
        "runCmd(\"update dept set deptname = 'Marketing' where deptid = '11'\")\n",
        "runSelect(\"select * from dept\")"
      ],
      "metadata": {
        "id": "DqdnmD2pEQNq",
        "outputId": "9793ae05-29d2-40f6-8726-9ff6a3fd9390",
        "colab": {
          "base_uri": "https://localhost:8080/",
          "height": 255
        }
      },
      "execution_count": 87,
      "outputs": [
        {
          "output_type": "stream",
          "name": "stdout",
          "text": [
            "Command executed\n"
          ]
        },
        {
          "output_type": "execute_result",
          "data": {
            "text/plain": [
              "<pandas.io.formats.style.Styler at 0x7bb964fea6e0>"
            ],
            "text/html": [
              "<style type=\"text/css\">\n",
              "</style>\n",
              "<table id=\"T_2fb40\" class=\"dataframe\">\n",
              "  <thead>\n",
              "    <tr>\n",
              "      <th id=\"T_2fb40_level0_col0\" class=\"col_heading level0 col0\" >deptid</th>\n",
              "      <th id=\"T_2fb40_level0_col1\" class=\"col_heading level0 col1\" >deptname</th>\n",
              "      <th id=\"T_2fb40_level0_col2\" class=\"col_heading level0 col2\" >managerid</th>\n",
              "      <th id=\"T_2fb40_level0_col3\" class=\"col_heading level0 col3\" >location</th>\n",
              "      <th id=\"T_2fb40_level0_col4\" class=\"col_heading level0 col4\" >locationid</th>\n",
              "    </tr>\n",
              "  </thead>\n",
              "  <tbody>\n",
              "    <tr>\n",
              "      <td id=\"T_2fb40_row0_col0\" class=\"data row0 col0\" >10</td>\n",
              "      <td id=\"T_2fb40_row0_col1\" class=\"data row0 col1\" >Corporate</td>\n",
              "      <td id=\"T_2fb40_row0_col2\" class=\"data row0 col2\" >299034</td>\n",
              "      <td id=\"T_2fb40_row0_col3\" class=\"data row0 col3\" >Calcutta</td>\n",
              "      <td id=\"T_2fb40_row0_col4\" class=\"data row0 col4\" >1</td>\n",
              "    </tr>\n",
              "    <tr>\n",
              "      <td id=\"T_2fb40_row1_col0\" class=\"data row1 col0\" >20</td>\n",
              "      <td id=\"T_2fb40_row1_col1\" class=\"data row1 col1\" >Sales</td>\n",
              "      <td id=\"T_2fb40_row1_col2\" class=\"data row1 col2\" >239456</td>\n",
              "      <td id=\"T_2fb40_row1_col3\" class=\"data row1 col3\" >Calcutta</td>\n",
              "      <td id=\"T_2fb40_row1_col4\" class=\"data row1 col4\" >1</td>\n",
              "    </tr>\n",
              "    <tr>\n",
              "      <td id=\"T_2fb40_row2_col0\" class=\"data row2 col0\" >30</td>\n",
              "      <td id=\"T_2fb40_row2_col1\" class=\"data row2 col1\" >Accounts</td>\n",
              "      <td id=\"T_2fb40_row2_col2\" class=\"data row2 col2\" >822134</td>\n",
              "      <td id=\"T_2fb40_row2_col3\" class=\"data row2 col3\" >Calcutta</td>\n",
              "      <td id=\"T_2fb40_row2_col4\" class=\"data row2 col4\" >1</td>\n",
              "    </tr>\n",
              "    <tr>\n",
              "      <td id=\"T_2fb40_row3_col0\" class=\"data row3 col0\" >40</td>\n",
              "      <td id=\"T_2fb40_row3_col1\" class=\"data row3 col1\" >Production</td>\n",
              "      <td id=\"T_2fb40_row3_col2\" class=\"data row3 col2\" >349870</td>\n",
              "      <td id=\"T_2fb40_row3_col3\" class=\"data row3 col3\" >Bombay</td>\n",
              "      <td id=\"T_2fb40_row3_col4\" class=\"data row3 col4\" >2</td>\n",
              "    </tr>\n",
              "    <tr>\n",
              "      <td id=\"T_2fb40_row4_col0\" class=\"data row4 col0\" >60</td>\n",
              "      <td id=\"T_2fb40_row4_col1\" class=\"data row4 col1\" >Research</td>\n",
              "      <td id=\"T_2fb40_row4_col2\" class=\"data row4 col2\" >546224</td>\n",
              "      <td id=\"T_2fb40_row4_col3\" class=\"data row4 col3\" >Delhi</td>\n",
              "      <td id=\"T_2fb40_row4_col4\" class=\"data row4 col4\" >3</td>\n",
              "    </tr>\n",
              "    <tr>\n",
              "      <td id=\"T_2fb40_row5_col0\" class=\"data row5 col0\" >11</td>\n",
              "      <td id=\"T_2fb40_row5_col1\" class=\"data row5 col1\" >Marketing</td>\n",
              "      <td id=\"T_2fb40_row5_col2\" class=\"data row5 col2\" >299035</td>\n",
              "      <td id=\"T_2fb40_row5_col3\" class=\"data row5 col3\" >Calcutta</td>\n",
              "      <td id=\"T_2fb40_row5_col4\" class=\"data row5 col4\" >1</td>\n",
              "    </tr>\n",
              "  </tbody>\n",
              "</table>\n"
            ]
          },
          "metadata": {},
          "execution_count": 87
        }
      ]
    },
    {
      "cell_type": "code",
      "source": [
        "runCmd(\"delete from dept where deptid = '11'\")\n",
        "runSelect(\"select * from dept\")"
      ],
      "metadata": {
        "id": "nsnJnNrEF6iS",
        "outputId": "8f4868c0-0c51-47d3-d6fa-435d77a2469e",
        "colab": {
          "base_uri": "https://localhost:8080/",
          "height": 223
        }
      },
      "execution_count": 88,
      "outputs": [
        {
          "output_type": "stream",
          "name": "stdout",
          "text": [
            "Command executed\n"
          ]
        },
        {
          "output_type": "execute_result",
          "data": {
            "text/plain": [
              "<pandas.io.formats.style.Styler at 0x7bb964feb7f0>"
            ],
            "text/html": [
              "<style type=\"text/css\">\n",
              "</style>\n",
              "<table id=\"T_dd8f7\" class=\"dataframe\">\n",
              "  <thead>\n",
              "    <tr>\n",
              "      <th id=\"T_dd8f7_level0_col0\" class=\"col_heading level0 col0\" >deptid</th>\n",
              "      <th id=\"T_dd8f7_level0_col1\" class=\"col_heading level0 col1\" >deptname</th>\n",
              "      <th id=\"T_dd8f7_level0_col2\" class=\"col_heading level0 col2\" >managerid</th>\n",
              "      <th id=\"T_dd8f7_level0_col3\" class=\"col_heading level0 col3\" >location</th>\n",
              "      <th id=\"T_dd8f7_level0_col4\" class=\"col_heading level0 col4\" >locationid</th>\n",
              "    </tr>\n",
              "  </thead>\n",
              "  <tbody>\n",
              "    <tr>\n",
              "      <td id=\"T_dd8f7_row0_col0\" class=\"data row0 col0\" >10</td>\n",
              "      <td id=\"T_dd8f7_row0_col1\" class=\"data row0 col1\" >Corporate</td>\n",
              "      <td id=\"T_dd8f7_row0_col2\" class=\"data row0 col2\" >299034</td>\n",
              "      <td id=\"T_dd8f7_row0_col3\" class=\"data row0 col3\" >Calcutta</td>\n",
              "      <td id=\"T_dd8f7_row0_col4\" class=\"data row0 col4\" >1</td>\n",
              "    </tr>\n",
              "    <tr>\n",
              "      <td id=\"T_dd8f7_row1_col0\" class=\"data row1 col0\" >20</td>\n",
              "      <td id=\"T_dd8f7_row1_col1\" class=\"data row1 col1\" >Sales</td>\n",
              "      <td id=\"T_dd8f7_row1_col2\" class=\"data row1 col2\" >239456</td>\n",
              "      <td id=\"T_dd8f7_row1_col3\" class=\"data row1 col3\" >Calcutta</td>\n",
              "      <td id=\"T_dd8f7_row1_col4\" class=\"data row1 col4\" >1</td>\n",
              "    </tr>\n",
              "    <tr>\n",
              "      <td id=\"T_dd8f7_row2_col0\" class=\"data row2 col0\" >30</td>\n",
              "      <td id=\"T_dd8f7_row2_col1\" class=\"data row2 col1\" >Accounts</td>\n",
              "      <td id=\"T_dd8f7_row2_col2\" class=\"data row2 col2\" >822134</td>\n",
              "      <td id=\"T_dd8f7_row2_col3\" class=\"data row2 col3\" >Calcutta</td>\n",
              "      <td id=\"T_dd8f7_row2_col4\" class=\"data row2 col4\" >1</td>\n",
              "    </tr>\n",
              "    <tr>\n",
              "      <td id=\"T_dd8f7_row3_col0\" class=\"data row3 col0\" >40</td>\n",
              "      <td id=\"T_dd8f7_row3_col1\" class=\"data row3 col1\" >Production</td>\n",
              "      <td id=\"T_dd8f7_row3_col2\" class=\"data row3 col2\" >349870</td>\n",
              "      <td id=\"T_dd8f7_row3_col3\" class=\"data row3 col3\" >Bombay</td>\n",
              "      <td id=\"T_dd8f7_row3_col4\" class=\"data row3 col4\" >2</td>\n",
              "    </tr>\n",
              "    <tr>\n",
              "      <td id=\"T_dd8f7_row4_col0\" class=\"data row4 col0\" >60</td>\n",
              "      <td id=\"T_dd8f7_row4_col1\" class=\"data row4 col1\" >Research</td>\n",
              "      <td id=\"T_dd8f7_row4_col2\" class=\"data row4 col2\" >546224</td>\n",
              "      <td id=\"T_dd8f7_row4_col3\" class=\"data row4 col3\" >Delhi</td>\n",
              "      <td id=\"T_dd8f7_row4_col4\" class=\"data row4 col4\" >3</td>\n",
              "    </tr>\n",
              "  </tbody>\n",
              "</table>\n"
            ]
          },
          "metadata": {},
          "execution_count": 88
        }
      ]
    },
    {
      "cell_type": "code",
      "source": [
        "from datetime import datetime\n",
        "import pytz\n",
        "print('Last tested  ',datetime.now(pytz.timezone('Asia/Kolkata')))"
      ],
      "metadata": {
        "colab": {
          "base_uri": "https://localhost:8080/"
        },
        "id": "wjBXJVhM605H",
        "outputId": "f5f519f1-6a92-4128-901b-90a51b4dcbe4"
      },
      "execution_count": 89,
      "outputs": [
        {
          "output_type": "stream",
          "name": "stdout",
          "text": [
            "Last tested   2024-11-05 14:25:35.613094+05:30\n"
          ]
        }
      ]
    },
    {
      "cell_type": "markdown",
      "source": [
        "#ChronoTYM <br>\n",
        "In Indic phraseology, tantra is knowledge, a yantra is a device to explore this knowledge and a mantra is the code that unlocks both the tantra and its yantra. Chrono/TYM a sci-fi trilogy that recreates this framework where the first novel Chronotantra defines the contours of a tech driven, futuristic society, the second, Chronoyantra, describes a device used to explore the genesis of this society, while the third, Chronomantra finally reveals the code, the key, that unlocks this puzzle.  [More information](http://bit.ly/chronobooks) <br>\n",
        "![alt text](https://blogger.googleusercontent.com/img/b/R29vZ2xl/AVvXsEjdu_ajYwBRzk5iFYlcs59ZoRMMg6rhNm4JERKspvFJoveJsnfwRlzMICiC37UOja_Bd4sbfLA1pyyBbe0mj3tUfDBXoqCzNUDw3Wux7acoJBaLkWjAvJXfa7drRY2GQRAlFxEY9O7a7raY4RKy7cA3Uxgf5QsaZQ99C9GfXxFSex_rke8ROhAn41t8zOqK/s1640/tymBanner01_3.png)"
      ],
      "metadata": {
        "id": "_gNiZpyW3AzJ"
      }
    }
  ]
}