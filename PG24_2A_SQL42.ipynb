{
  "nbformat": 4,
  "nbformat_minor": 0,
  "metadata": {
    "colab": {
      "provenance": [],
      "toc_visible": true,
      "include_colab_link": true
    },
    "kernelspec": {
      "name": "python3",
      "display_name": "Python 3"
    },
    "language_info": {
      "name": "python"
    }
  },
  "cells": [
    {
      "cell_type": "markdown",
      "metadata": {
        "id": "view-in-github",
        "colab_type": "text"
      },
      "source": [
        "<a href=\"https://colab.research.google.com/github/Praxis-QR/RDWH/blob/main/PG24_2A_SQL42.ipynb\" target=\"_parent\"><img src=\"https://colab.research.google.com/assets/colab-badge.svg\" alt=\"Open In Colab\"/></a>"
      ]
    },
    {
      "cell_type": "markdown",
      "source": [
        "![Yantrajaal Banner](https://github.com/Praxis-QR/RDWH/raw/main/images/YantraJaalBanner.png)<br>\n",
        "\n",
        "\n",
        "<hr>\n",
        "\n",
        "[Prithwis Mukerjee](http://www.linkedin.com/in/prithwis)<br>"
      ],
      "metadata": {
        "id": "DBzz-qaN2tKu"
      }
    },
    {
      "cell_type": "markdown",
      "source": [
        "![PostgreSQL 42](https://raw.githubusercontent.com/Praxis-QR/RDWH/main/images/PostgreSQL_24.01.png)<br>\n",
        "[SlideDeck](https://docs.google.com/presentation/d/1hdkAGbMxLfO1GYe7RzEo3LhGZhsXkyjIfBqkA72B6LM/edit?usp=sharing)"
      ],
      "metadata": {
        "id": "dBJ6X0LiJtZ6"
      }
    },
    {
      "cell_type": "code",
      "source": [
        "from datetime import datetime\n",
        "import pytz\n",
        "print('ॐ श्री सरस्वत्यै नमः',datetime.now(pytz.timezone('Asia/Calcutta')))\n",
        "!python --version\n",
        "!lsb_release -a"
      ],
      "metadata": {
        "colab": {
          "base_uri": "https://localhost:8080/"
        },
        "id": "XZ9dGt-eUikL",
        "outputId": "8ca82a5b-daf7-49b3-ee1f-806b685100b0"
      },
      "execution_count": 1,
      "outputs": [
        {
          "output_type": "stream",
          "name": "stdout",
          "text": [
            "ॐ श्री सरस्वत्यै नमः 2024-08-08 05:10:54.035563+05:30\n",
            "Python 3.10.12\n",
            "No LSB modules are available.\n",
            "Distributor ID:\tUbuntu\n",
            "Description:\tUbuntu 22.04.3 LTS\n",
            "Release:\t22.04\n",
            "Codename:\tjammy\n"
          ]
        }
      ]
    },
    {
      "cell_type": "markdown",
      "source": [
        "#Install & Configure Postgres"
      ],
      "metadata": {
        "id": "nD-QawLT6kDr"
      }
    },
    {
      "cell_type": "markdown",
      "source": [
        "For Connecting to a Postgres server hosted in the cloud Neon DB, see [this notebook](https://github.com/Praxis-QR/RDWH/blob/main/PG24_1B_SQL_CloudLab.ipynb)"
      ],
      "metadata": {
        "id": "9w29_O07rTPE"
      }
    },
    {
      "cell_type": "code",
      "source": [
        "# Install postgresql server\n",
        "\n",
        "!apt update > /dev/null\n",
        "!apt install postgresql > /dev/null\n",
        "#!pip install psycopg2\n",
        "import psycopg2\n",
        "import pandas as pd\n",
        "#!sudo -u postgres psql -V\n",
        "!psql -V\n",
        "!service postgresql start"
      ],
      "metadata": {
        "colab": {
          "base_uri": "https://localhost:8080/"
        },
        "id": "o_RaqE0OOHP3",
        "outputId": "30c82179-e2d4-4415-e33a-0a2f78f7faae"
      },
      "execution_count": 2,
      "outputs": [
        {
          "output_type": "stream",
          "name": "stdout",
          "text": [
            "\n",
            "WARNING: apt does not have a stable CLI interface. Use with caution in scripts.\n",
            "\n",
            "W: Skipping acquire of configured file 'main/source/Sources' as repository 'https://r2u.stat.illinois.edu/ubuntu jammy InRelease' does not seem to provide it (sources.list entry misspelt?)\n",
            "\n",
            "WARNING: apt does not have a stable CLI interface. Use with caution in scripts.\n",
            "\n",
            "psql (PostgreSQL) 14.12 (Ubuntu 14.12-0ubuntu0.22.04.1)\n",
            " * Starting PostgreSQL 14 database server\n",
            "   ...done.\n"
          ]
        }
      ]
    },
    {
      "cell_type": "code",
      "source": [
        "# The installation creates Ubuntu user 'postgres' AND a Postgres database user 'postgres' both of which are superusers\n",
        "#!cat /etc/passwd\n",
        "# Use these users to create a new database user called 'upraxis' and give it a password 'upass'\n",
        "#!sudo -u postgres createuser --superuser upraxis\n",
        "!sudo -u postgres createuser upraxis\n",
        "!sudo -u postgres psql -U postgres -c \"ALTER USER upraxis PASSWORD 'upass';\"\n",
        "#\n",
        "# Change the database superuser 'postgres' to a non-default value 'pass'\n",
        "!sudo -u postgres psql -U postgres -c \"ALTER USER postgres PASSWORD 'pass';\"\n",
        "#\n",
        "# Use ubuntu superuser to create database dbpraxis and set its owner to upraxis\n",
        "!sudo -u postgres createdb -O upraxis dbpraxis\n",
        "#\n",
        "# Create file to store the password. Else will be prompted each time\n",
        "#\n",
        "!echo \"localhost:5432:dbpraxis:upraxis:upass\" > ~/.pgpass\n",
        "!echo \"localhost:5432:dbpraxis:postgres:pass\" >> ~/.pgpass\n",
        "!chmod 0600 ~/.pgpass\n",
        "!cat ~/.pgpass\n"
      ],
      "metadata": {
        "colab": {
          "base_uri": "https://localhost:8080/"
        },
        "id": "xr5kHaY_U4CZ",
        "outputId": "7bbb5937-2763-456d-865d-e9ec62ba3658"
      },
      "execution_count": 3,
      "outputs": [
        {
          "output_type": "stream",
          "name": "stdout",
          "text": [
            "ALTER ROLE\n",
            "ALTER ROLE\n",
            "localhost:5432:dbpraxis:upraxis:upass\n",
            "localhost:5432:dbpraxis:postgres:pass\n"
          ]
        }
      ]
    },
    {
      "cell_type": "markdown",
      "source": [
        "## Create and Load Tables"
      ],
      "metadata": {
        "id": "pHTdNzrU6qUE"
      }
    },
    {
      "cell_type": "code",
      "source": [
        "# Create Two tables using command line interface\n",
        "#\n",
        "!psql -h localhost -p 5432 -Uupraxis -ddbpraxis -c \\\n",
        "\"drop table if exists Dept;\\\n",
        "create table Dept (\\\n",
        "    DeptID char(2),\\\n",
        "    DeptName varchar(20),\\\n",
        "    ManagerID char(6),\\\n",
        "    Location varchar(10),\\\n",
        "    LocationID char(1)\\\n",
        "    );\\\n",
        "insert into Dept (DeptID, DeptName, ManagerID, Location,LocationID) VALUES \\\n",
        "\t('10', 'Corporate', '299034', 'Calcutta','1'), \\\n",
        "\t('20', 'Sales', '239456', 'Calcutta','1'), \\\n",
        "\t('30', 'Accounts', '822134', 'Calcutta','1'), \\\n",
        "\t('40', 'Production', '349870', 'Bombay','2'),\\\n",
        "    ('60', 'Research', '546224', 'Delhi','3');\\\n",
        "\""
      ],
      "metadata": {
        "colab": {
          "base_uri": "https://localhost:8080/"
        },
        "id": "DsUZ9JlEXIir",
        "outputId": "26f7b9ca-e8d7-4a1d-e0d6-6f8d71c04f5d"
      },
      "execution_count": 4,
      "outputs": [
        {
          "output_type": "stream",
          "name": "stdout",
          "text": [
            "NOTICE:  table \"dept\" does not exist, skipping\n",
            "INSERT 0 5\n"
          ]
        }
      ]
    },
    {
      "cell_type": "code",
      "source": [
        "!psql -h localhost -p 5432 -Uupraxis -ddbpraxis -c \\\n",
        "\"drop table if exists Empl;\\\n",
        "create table Empl \\\n",
        "    (EmpID char(6),\\\n",
        "    LastName varchar(20),\\\n",
        "    FirstName varchar(20),\\\n",
        "    JobDesc varchar(10),\\\n",
        "    JoinDate date,\\\n",
        "    Salary int,\\\n",
        "    Comm decimal(3,2),\\\n",
        "    DeptID char(2),\\\n",
        "    HiredBy char(6)\\\n",
        "    );\\\n",
        "INSERT INTO Empl (EmpID, LastName, FirstName, JobDesc, JoinDate, Salary, Comm, DeptID, HiredBy) \\\n",
        "    VALUES \\\n",
        "\t('742866', 'Bacchan', 'Amitabh', 'Executive', '2003-03-10', 50000, 0.1, '10', NULL), \\\n",
        "\t('349870', 'Mukherjee', 'Rani', 'Manager', '2005-05-04', 25000, 0.06, '40', '742866'), \\\n",
        "\t('865477', 'Dikshit', 'Madhuri', 'Clerk', '2002-04-04', 10000, 0.02, '20', '239456'), \\\n",
        "\t('239456', 'Khan', 'Shahrukh', 'Manager', '2004-01-03', 30000, 0.07, '20', '742866'), \\\n",
        "\t('897889', 'Sehwag', 'Virender', 'Cus_Rep', '2005-01-02', 15000, 0.05, '20', '239456'), \\\n",
        "\t('123980', 'Dhoni', 'Mahender', 'Clerk', '2004-10-09', 9000, 0.02, '40', '349870'), \\\n",
        "\t('822134', 'Dravid', 'Rahul', 'Sr Manager', '2000-06-04', 40000, 0.08, '30', '742866'), \\\n",
        "\t('997445', 'Dalmia', 'Jagmohan', 'Clerk', '2001-07-01', 12000, 0.02, '30', '822134'), \\\n",
        "\t('989007', 'Ganguly', 'Sourav', 'Cus_Rep', '2002-01-01', 20000, 0.03, '40', '299034'), \\\n",
        "\t('299034', 'Ganesan', 'Rekha', 'Director', '2002-10-10', 60000, 0.11, '10', '742866'), \\\n",
        "\t('546223', 'Karthikeyan', 'Narayan', 'Secretary', '2005-12-04', 40000, 0.09, '10', '299034'), \\\n",
        "    ('546224', 'Sunil', 'Chettri', 'Dy Manager', '2006-12-07', 40000, 0.05, '70', '989007'), \\\n",
        "\t('223112', 'Mirza', 'Sania', 'Cus_Rep', '2001-11-19', 25000, 0.04, '30', '822134');\\\n",
        "\""
      ],
      "metadata": {
        "colab": {
          "base_uri": "https://localhost:8080/"
        },
        "id": "5kWs3wyEd9Tm",
        "outputId": "b8e5f60a-e62b-4cab-bdf6-f1506a7373a2"
      },
      "execution_count": 5,
      "outputs": [
        {
          "output_type": "stream",
          "name": "stdout",
          "text": [
            "NOTICE:  table \"empl\" does not exist, skipping\n",
            "INSERT 0 13\n"
          ]
        }
      ]
    },
    {
      "cell_type": "code",
      "source": [
        "#!psql -h localhost -p 5432 -Upostgres -dpraxisdb -c \"select * from dept;\"\n",
        "#!psql -h localhost -p 5432 -Uupraxis -ddbpraxis -c \"select * from dept;\""
      ],
      "metadata": {
        "id": "HyBUhbAI2PV1"
      },
      "execution_count": 6,
      "outputs": []
    },
    {
      "cell_type": "code",
      "source": [
        "#!psql -h localhost -p 5432 -U postgres -d praxisdb -c \"select * from empl;\"\n",
        "#!psql -h localhost -p 5432 -U upraxis -d dbpraxis -c \"select * from empl;\""
      ],
      "metadata": {
        "id": "byY2iccO4ctF"
      },
      "execution_count": 7,
      "outputs": []
    },
    {
      "cell_type": "markdown",
      "source": [
        "## Python Access\n",
        "https://www.tutorialspoint.com/python_data_access/python_postgresql_database_connection.htm"
      ],
      "metadata": {
        "id": "faZEj8_7CeZ8"
      }
    },
    {
      "cell_type": "code",
      "source": [
        "# Local Colab server\n",
        "\n",
        "conn = psycopg2.connect(database=\"dbpraxis\", user='upraxis', password='upass', host='127.0.0.1', port= '5432')\n",
        "#Creating a cursor object using the cursor() method\n",
        "cursor = conn.cursor()\n",
        "#Executing an MYSQL function using the execute() method\n",
        "cursor.execute(\"select version()\")\n",
        "# Fetch a single row using fetchone() method.\n",
        "data = cursor.fetchone()\n",
        "print(\"Connection established to: \",data)\n",
        "#Closing the connection\n",
        "conn.close()"
      ],
      "metadata": {
        "id": "wcE-8UBnC4zV",
        "outputId": "3043323d-1fa0-473e-ded9-16100fa8c0b6",
        "colab": {
          "base_uri": "https://localhost:8080/"
        }
      },
      "execution_count": 8,
      "outputs": [
        {
          "output_type": "stream",
          "name": "stdout",
          "text": [
            "Connection established to:  ('PostgreSQL 14.12 (Ubuntu 14.12-0ubuntu0.22.04.1) on x86_64-pc-linux-gnu, compiled by gcc (Ubuntu 11.4.0-1ubuntu1~22.04) 11.4.0, 64-bit',)\n"
          ]
        }
      ]
    },
    {
      "cell_type": "code",
      "source": [
        "# function to execute SQL select statements with Postgres\n",
        "#\n",
        "def runSelect(s):\n",
        "    #Set up connection\n",
        "\n",
        "    conn = psycopg2.connect(database=\"dbpraxis\", user='upraxis', password='upass', host='127.0.0.1', port= '5432')\n",
        "    #Setting auto commit true\n",
        "    conn.autocommit = True\n",
        "    #Creating a cursor object using the cursor() method\n",
        "    cursor = conn.cursor()\n",
        "    #Retrieving data\n",
        "    cursor.execute(s)\n",
        "    #Fetching all rows from the table\n",
        "    result = cursor.fetchall();\n",
        "    #print(len(result))\n",
        "    if (len(result)) > 0:                                       # result contains at least one row\n",
        "        colnames = [desc[0] for desc in cursor.description]     # get column names\n",
        "        #print(colnames)\n",
        "        resultdf = pd.DataFrame(result)                         # convert list to dataframe\n",
        "        resultdf.columns = colnames                             # add column names\n",
        "        #return resultdf\n",
        "        return resultdf.style.hide()                            # hide the index\n",
        "    else:\n",
        "        print('no records found')\n",
        "        return\n",
        "# function to execute SQL non-select statements with Postgres\n",
        "#\n",
        "def runCmd(s):\n",
        "    #Create Connection\n",
        "    conn = psycopg2.connect(database=\"dbpraxis\", user='upraxis', password='upass', host='127.0.0.1', port= '5432')\n",
        "    #Creating a cursor object using the cursor() method\n",
        "    cursor = conn.cursor()\n",
        "    try:\n",
        "        cursor.execute(s)\n",
        "        print('Command executed')\n",
        "        conn.commit()\n",
        "    except:\n",
        "        print('Command failed')\n",
        "    #Closing the connection\n",
        "    conn.close()"
      ],
      "metadata": {
        "id": "ht2k7-3iggNd"
      },
      "execution_count": 9,
      "outputs": []
    },
    {
      "cell_type": "markdown",
      "source": [
        "#Select - getting started"
      ],
      "metadata": {
        "id": "k0rXiciVtu7Q"
      }
    },
    {
      "cell_type": "code",
      "source": [
        "#runSelect(\"select * from dept where deptid = '100'\")\n",
        "#runSelect(\"select * from dept where deptid = '10'\")\n",
        "runSelect(\"select * from dept\")"
      ],
      "metadata": {
        "id": "N3NZv0YahSs6",
        "outputId": "2a6ed9b4-006c-47fe-9f88-d9657c15c9ff",
        "colab": {
          "base_uri": "https://localhost:8080/",
          "height": 206
        }
      },
      "execution_count": 10,
      "outputs": [
        {
          "output_type": "execute_result",
          "data": {
            "text/plain": [
              "<pandas.io.formats.style.Styler at 0x79a16b2130d0>"
            ],
            "text/html": [
              "<style type=\"text/css\">\n",
              "</style>\n",
              "<table id=\"T_3d345\" class=\"dataframe\">\n",
              "  <thead>\n",
              "    <tr>\n",
              "      <th id=\"T_3d345_level0_col0\" class=\"col_heading level0 col0\" >deptid</th>\n",
              "      <th id=\"T_3d345_level0_col1\" class=\"col_heading level0 col1\" >deptname</th>\n",
              "      <th id=\"T_3d345_level0_col2\" class=\"col_heading level0 col2\" >managerid</th>\n",
              "      <th id=\"T_3d345_level0_col3\" class=\"col_heading level0 col3\" >location</th>\n",
              "      <th id=\"T_3d345_level0_col4\" class=\"col_heading level0 col4\" >locationid</th>\n",
              "    </tr>\n",
              "  </thead>\n",
              "  <tbody>\n",
              "    <tr>\n",
              "      <td id=\"T_3d345_row0_col0\" class=\"data row0 col0\" >10</td>\n",
              "      <td id=\"T_3d345_row0_col1\" class=\"data row0 col1\" >Corporate</td>\n",
              "      <td id=\"T_3d345_row0_col2\" class=\"data row0 col2\" >299034</td>\n",
              "      <td id=\"T_3d345_row0_col3\" class=\"data row0 col3\" >Calcutta</td>\n",
              "      <td id=\"T_3d345_row0_col4\" class=\"data row0 col4\" >1</td>\n",
              "    </tr>\n",
              "    <tr>\n",
              "      <td id=\"T_3d345_row1_col0\" class=\"data row1 col0\" >20</td>\n",
              "      <td id=\"T_3d345_row1_col1\" class=\"data row1 col1\" >Sales</td>\n",
              "      <td id=\"T_3d345_row1_col2\" class=\"data row1 col2\" >239456</td>\n",
              "      <td id=\"T_3d345_row1_col3\" class=\"data row1 col3\" >Calcutta</td>\n",
              "      <td id=\"T_3d345_row1_col4\" class=\"data row1 col4\" >1</td>\n",
              "    </tr>\n",
              "    <tr>\n",
              "      <td id=\"T_3d345_row2_col0\" class=\"data row2 col0\" >30</td>\n",
              "      <td id=\"T_3d345_row2_col1\" class=\"data row2 col1\" >Accounts</td>\n",
              "      <td id=\"T_3d345_row2_col2\" class=\"data row2 col2\" >822134</td>\n",
              "      <td id=\"T_3d345_row2_col3\" class=\"data row2 col3\" >Calcutta</td>\n",
              "      <td id=\"T_3d345_row2_col4\" class=\"data row2 col4\" >1</td>\n",
              "    </tr>\n",
              "    <tr>\n",
              "      <td id=\"T_3d345_row3_col0\" class=\"data row3 col0\" >40</td>\n",
              "      <td id=\"T_3d345_row3_col1\" class=\"data row3 col1\" >Production</td>\n",
              "      <td id=\"T_3d345_row3_col2\" class=\"data row3 col2\" >349870</td>\n",
              "      <td id=\"T_3d345_row3_col3\" class=\"data row3 col3\" >Bombay</td>\n",
              "      <td id=\"T_3d345_row3_col4\" class=\"data row3 col4\" >2</td>\n",
              "    </tr>\n",
              "    <tr>\n",
              "      <td id=\"T_3d345_row4_col0\" class=\"data row4 col0\" >60</td>\n",
              "      <td id=\"T_3d345_row4_col1\" class=\"data row4 col1\" >Research</td>\n",
              "      <td id=\"T_3d345_row4_col2\" class=\"data row4 col2\" >546224</td>\n",
              "      <td id=\"T_3d345_row4_col3\" class=\"data row4 col3\" >Delhi</td>\n",
              "      <td id=\"T_3d345_row4_col4\" class=\"data row4 col4\" >3</td>\n",
              "    </tr>\n",
              "  </tbody>\n",
              "</table>\n"
            ]
          },
          "metadata": {},
          "execution_count": 10
        }
      ]
    },
    {
      "cell_type": "code",
      "source": [
        "runSelect('select * from empl')"
      ],
      "metadata": {
        "id": "Otiv4rjSl5Tg",
        "outputId": "cf72b6de-80cc-4e60-8ffd-26c10a69cb06",
        "colab": {
          "base_uri": "https://localhost:8080/",
          "height": 457
        }
      },
      "execution_count": 11,
      "outputs": [
        {
          "output_type": "execute_result",
          "data": {
            "text/plain": [
              "<pandas.io.formats.style.Styler at 0x79a16b2132e0>"
            ],
            "text/html": [
              "<style type=\"text/css\">\n",
              "</style>\n",
              "<table id=\"T_b2433\" class=\"dataframe\">\n",
              "  <thead>\n",
              "    <tr>\n",
              "      <th id=\"T_b2433_level0_col0\" class=\"col_heading level0 col0\" >empid</th>\n",
              "      <th id=\"T_b2433_level0_col1\" class=\"col_heading level0 col1\" >lastname</th>\n",
              "      <th id=\"T_b2433_level0_col2\" class=\"col_heading level0 col2\" >firstname</th>\n",
              "      <th id=\"T_b2433_level0_col3\" class=\"col_heading level0 col3\" >jobdesc</th>\n",
              "      <th id=\"T_b2433_level0_col4\" class=\"col_heading level0 col4\" >joindate</th>\n",
              "      <th id=\"T_b2433_level0_col5\" class=\"col_heading level0 col5\" >salary</th>\n",
              "      <th id=\"T_b2433_level0_col6\" class=\"col_heading level0 col6\" >comm</th>\n",
              "      <th id=\"T_b2433_level0_col7\" class=\"col_heading level0 col7\" >deptid</th>\n",
              "      <th id=\"T_b2433_level0_col8\" class=\"col_heading level0 col8\" >hiredby</th>\n",
              "    </tr>\n",
              "  </thead>\n",
              "  <tbody>\n",
              "    <tr>\n",
              "      <td id=\"T_b2433_row0_col0\" class=\"data row0 col0\" >742866</td>\n",
              "      <td id=\"T_b2433_row0_col1\" class=\"data row0 col1\" >Bacchan</td>\n",
              "      <td id=\"T_b2433_row0_col2\" class=\"data row0 col2\" >Amitabh</td>\n",
              "      <td id=\"T_b2433_row0_col3\" class=\"data row0 col3\" >Executive</td>\n",
              "      <td id=\"T_b2433_row0_col4\" class=\"data row0 col4\" >2003-03-10</td>\n",
              "      <td id=\"T_b2433_row0_col5\" class=\"data row0 col5\" >50000</td>\n",
              "      <td id=\"T_b2433_row0_col6\" class=\"data row0 col6\" >0.10</td>\n",
              "      <td id=\"T_b2433_row0_col7\" class=\"data row0 col7\" >10</td>\n",
              "      <td id=\"T_b2433_row0_col8\" class=\"data row0 col8\" >None</td>\n",
              "    </tr>\n",
              "    <tr>\n",
              "      <td id=\"T_b2433_row1_col0\" class=\"data row1 col0\" >349870</td>\n",
              "      <td id=\"T_b2433_row1_col1\" class=\"data row1 col1\" >Mukherjee</td>\n",
              "      <td id=\"T_b2433_row1_col2\" class=\"data row1 col2\" >Rani</td>\n",
              "      <td id=\"T_b2433_row1_col3\" class=\"data row1 col3\" >Manager</td>\n",
              "      <td id=\"T_b2433_row1_col4\" class=\"data row1 col4\" >2005-05-04</td>\n",
              "      <td id=\"T_b2433_row1_col5\" class=\"data row1 col5\" >25000</td>\n",
              "      <td id=\"T_b2433_row1_col6\" class=\"data row1 col6\" >0.06</td>\n",
              "      <td id=\"T_b2433_row1_col7\" class=\"data row1 col7\" >40</td>\n",
              "      <td id=\"T_b2433_row1_col8\" class=\"data row1 col8\" >742866</td>\n",
              "    </tr>\n",
              "    <tr>\n",
              "      <td id=\"T_b2433_row2_col0\" class=\"data row2 col0\" >865477</td>\n",
              "      <td id=\"T_b2433_row2_col1\" class=\"data row2 col1\" >Dikshit</td>\n",
              "      <td id=\"T_b2433_row2_col2\" class=\"data row2 col2\" >Madhuri</td>\n",
              "      <td id=\"T_b2433_row2_col3\" class=\"data row2 col3\" >Clerk</td>\n",
              "      <td id=\"T_b2433_row2_col4\" class=\"data row2 col4\" >2002-04-04</td>\n",
              "      <td id=\"T_b2433_row2_col5\" class=\"data row2 col5\" >10000</td>\n",
              "      <td id=\"T_b2433_row2_col6\" class=\"data row2 col6\" >0.02</td>\n",
              "      <td id=\"T_b2433_row2_col7\" class=\"data row2 col7\" >20</td>\n",
              "      <td id=\"T_b2433_row2_col8\" class=\"data row2 col8\" >239456</td>\n",
              "    </tr>\n",
              "    <tr>\n",
              "      <td id=\"T_b2433_row3_col0\" class=\"data row3 col0\" >239456</td>\n",
              "      <td id=\"T_b2433_row3_col1\" class=\"data row3 col1\" >Khan</td>\n",
              "      <td id=\"T_b2433_row3_col2\" class=\"data row3 col2\" >Shahrukh</td>\n",
              "      <td id=\"T_b2433_row3_col3\" class=\"data row3 col3\" >Manager</td>\n",
              "      <td id=\"T_b2433_row3_col4\" class=\"data row3 col4\" >2004-01-03</td>\n",
              "      <td id=\"T_b2433_row3_col5\" class=\"data row3 col5\" >30000</td>\n",
              "      <td id=\"T_b2433_row3_col6\" class=\"data row3 col6\" >0.07</td>\n",
              "      <td id=\"T_b2433_row3_col7\" class=\"data row3 col7\" >20</td>\n",
              "      <td id=\"T_b2433_row3_col8\" class=\"data row3 col8\" >742866</td>\n",
              "    </tr>\n",
              "    <tr>\n",
              "      <td id=\"T_b2433_row4_col0\" class=\"data row4 col0\" >897889</td>\n",
              "      <td id=\"T_b2433_row4_col1\" class=\"data row4 col1\" >Sehwag</td>\n",
              "      <td id=\"T_b2433_row4_col2\" class=\"data row4 col2\" >Virender</td>\n",
              "      <td id=\"T_b2433_row4_col3\" class=\"data row4 col3\" >Cus_Rep</td>\n",
              "      <td id=\"T_b2433_row4_col4\" class=\"data row4 col4\" >2005-01-02</td>\n",
              "      <td id=\"T_b2433_row4_col5\" class=\"data row4 col5\" >15000</td>\n",
              "      <td id=\"T_b2433_row4_col6\" class=\"data row4 col6\" >0.05</td>\n",
              "      <td id=\"T_b2433_row4_col7\" class=\"data row4 col7\" >20</td>\n",
              "      <td id=\"T_b2433_row4_col8\" class=\"data row4 col8\" >239456</td>\n",
              "    </tr>\n",
              "    <tr>\n",
              "      <td id=\"T_b2433_row5_col0\" class=\"data row5 col0\" >123980</td>\n",
              "      <td id=\"T_b2433_row5_col1\" class=\"data row5 col1\" >Dhoni</td>\n",
              "      <td id=\"T_b2433_row5_col2\" class=\"data row5 col2\" >Mahender</td>\n",
              "      <td id=\"T_b2433_row5_col3\" class=\"data row5 col3\" >Clerk</td>\n",
              "      <td id=\"T_b2433_row5_col4\" class=\"data row5 col4\" >2004-10-09</td>\n",
              "      <td id=\"T_b2433_row5_col5\" class=\"data row5 col5\" >9000</td>\n",
              "      <td id=\"T_b2433_row5_col6\" class=\"data row5 col6\" >0.02</td>\n",
              "      <td id=\"T_b2433_row5_col7\" class=\"data row5 col7\" >40</td>\n",
              "      <td id=\"T_b2433_row5_col8\" class=\"data row5 col8\" >349870</td>\n",
              "    </tr>\n",
              "    <tr>\n",
              "      <td id=\"T_b2433_row6_col0\" class=\"data row6 col0\" >822134</td>\n",
              "      <td id=\"T_b2433_row6_col1\" class=\"data row6 col1\" >Dravid</td>\n",
              "      <td id=\"T_b2433_row6_col2\" class=\"data row6 col2\" >Rahul</td>\n",
              "      <td id=\"T_b2433_row6_col3\" class=\"data row6 col3\" >Sr Manager</td>\n",
              "      <td id=\"T_b2433_row6_col4\" class=\"data row6 col4\" >2000-06-04</td>\n",
              "      <td id=\"T_b2433_row6_col5\" class=\"data row6 col5\" >40000</td>\n",
              "      <td id=\"T_b2433_row6_col6\" class=\"data row6 col6\" >0.08</td>\n",
              "      <td id=\"T_b2433_row6_col7\" class=\"data row6 col7\" >30</td>\n",
              "      <td id=\"T_b2433_row6_col8\" class=\"data row6 col8\" >742866</td>\n",
              "    </tr>\n",
              "    <tr>\n",
              "      <td id=\"T_b2433_row7_col0\" class=\"data row7 col0\" >997445</td>\n",
              "      <td id=\"T_b2433_row7_col1\" class=\"data row7 col1\" >Dalmia</td>\n",
              "      <td id=\"T_b2433_row7_col2\" class=\"data row7 col2\" >Jagmohan</td>\n",
              "      <td id=\"T_b2433_row7_col3\" class=\"data row7 col3\" >Clerk</td>\n",
              "      <td id=\"T_b2433_row7_col4\" class=\"data row7 col4\" >2001-07-01</td>\n",
              "      <td id=\"T_b2433_row7_col5\" class=\"data row7 col5\" >12000</td>\n",
              "      <td id=\"T_b2433_row7_col6\" class=\"data row7 col6\" >0.02</td>\n",
              "      <td id=\"T_b2433_row7_col7\" class=\"data row7 col7\" >30</td>\n",
              "      <td id=\"T_b2433_row7_col8\" class=\"data row7 col8\" >822134</td>\n",
              "    </tr>\n",
              "    <tr>\n",
              "      <td id=\"T_b2433_row8_col0\" class=\"data row8 col0\" >989007</td>\n",
              "      <td id=\"T_b2433_row8_col1\" class=\"data row8 col1\" >Ganguly</td>\n",
              "      <td id=\"T_b2433_row8_col2\" class=\"data row8 col2\" >Sourav</td>\n",
              "      <td id=\"T_b2433_row8_col3\" class=\"data row8 col3\" >Cus_Rep</td>\n",
              "      <td id=\"T_b2433_row8_col4\" class=\"data row8 col4\" >2002-01-01</td>\n",
              "      <td id=\"T_b2433_row8_col5\" class=\"data row8 col5\" >20000</td>\n",
              "      <td id=\"T_b2433_row8_col6\" class=\"data row8 col6\" >0.03</td>\n",
              "      <td id=\"T_b2433_row8_col7\" class=\"data row8 col7\" >40</td>\n",
              "      <td id=\"T_b2433_row8_col8\" class=\"data row8 col8\" >299034</td>\n",
              "    </tr>\n",
              "    <tr>\n",
              "      <td id=\"T_b2433_row9_col0\" class=\"data row9 col0\" >299034</td>\n",
              "      <td id=\"T_b2433_row9_col1\" class=\"data row9 col1\" >Ganesan</td>\n",
              "      <td id=\"T_b2433_row9_col2\" class=\"data row9 col2\" >Rekha</td>\n",
              "      <td id=\"T_b2433_row9_col3\" class=\"data row9 col3\" >Director</td>\n",
              "      <td id=\"T_b2433_row9_col4\" class=\"data row9 col4\" >2002-10-10</td>\n",
              "      <td id=\"T_b2433_row9_col5\" class=\"data row9 col5\" >60000</td>\n",
              "      <td id=\"T_b2433_row9_col6\" class=\"data row9 col6\" >0.11</td>\n",
              "      <td id=\"T_b2433_row9_col7\" class=\"data row9 col7\" >10</td>\n",
              "      <td id=\"T_b2433_row9_col8\" class=\"data row9 col8\" >742866</td>\n",
              "    </tr>\n",
              "    <tr>\n",
              "      <td id=\"T_b2433_row10_col0\" class=\"data row10 col0\" >546223</td>\n",
              "      <td id=\"T_b2433_row10_col1\" class=\"data row10 col1\" >Karthikeyan</td>\n",
              "      <td id=\"T_b2433_row10_col2\" class=\"data row10 col2\" >Narayan</td>\n",
              "      <td id=\"T_b2433_row10_col3\" class=\"data row10 col3\" >Secretary</td>\n",
              "      <td id=\"T_b2433_row10_col4\" class=\"data row10 col4\" >2005-12-04</td>\n",
              "      <td id=\"T_b2433_row10_col5\" class=\"data row10 col5\" >40000</td>\n",
              "      <td id=\"T_b2433_row10_col6\" class=\"data row10 col6\" >0.09</td>\n",
              "      <td id=\"T_b2433_row10_col7\" class=\"data row10 col7\" >10</td>\n",
              "      <td id=\"T_b2433_row10_col8\" class=\"data row10 col8\" >299034</td>\n",
              "    </tr>\n",
              "    <tr>\n",
              "      <td id=\"T_b2433_row11_col0\" class=\"data row11 col0\" >546224</td>\n",
              "      <td id=\"T_b2433_row11_col1\" class=\"data row11 col1\" >Sunil</td>\n",
              "      <td id=\"T_b2433_row11_col2\" class=\"data row11 col2\" >Chettri</td>\n",
              "      <td id=\"T_b2433_row11_col3\" class=\"data row11 col3\" >Dy Manager</td>\n",
              "      <td id=\"T_b2433_row11_col4\" class=\"data row11 col4\" >2006-12-07</td>\n",
              "      <td id=\"T_b2433_row11_col5\" class=\"data row11 col5\" >40000</td>\n",
              "      <td id=\"T_b2433_row11_col6\" class=\"data row11 col6\" >0.05</td>\n",
              "      <td id=\"T_b2433_row11_col7\" class=\"data row11 col7\" >70</td>\n",
              "      <td id=\"T_b2433_row11_col8\" class=\"data row11 col8\" >989007</td>\n",
              "    </tr>\n",
              "    <tr>\n",
              "      <td id=\"T_b2433_row12_col0\" class=\"data row12 col0\" >223112</td>\n",
              "      <td id=\"T_b2433_row12_col1\" class=\"data row12 col1\" >Mirza</td>\n",
              "      <td id=\"T_b2433_row12_col2\" class=\"data row12 col2\" >Sania</td>\n",
              "      <td id=\"T_b2433_row12_col3\" class=\"data row12 col3\" >Cus_Rep</td>\n",
              "      <td id=\"T_b2433_row12_col4\" class=\"data row12 col4\" >2001-11-19</td>\n",
              "      <td id=\"T_b2433_row12_col5\" class=\"data row12 col5\" >25000</td>\n",
              "      <td id=\"T_b2433_row12_col6\" class=\"data row12 col6\" >0.04</td>\n",
              "      <td id=\"T_b2433_row12_col7\" class=\"data row12 col7\" >30</td>\n",
              "      <td id=\"T_b2433_row12_col8\" class=\"data row12 col8\" >822134</td>\n",
              "    </tr>\n",
              "  </tbody>\n",
              "</table>\n"
            ]
          },
          "metadata": {},
          "execution_count": 11
        }
      ]
    },
    {
      "cell_type": "code",
      "source": [
        "runSelect('select lastname, jobdesc, salary from empl')"
      ],
      "metadata": {
        "id": "z-mxVMPuuxu6",
        "outputId": "2728fe4e-5b70-47ea-bc7d-685ccb26450d",
        "colab": {
          "base_uri": "https://localhost:8080/",
          "height": 457
        }
      },
      "execution_count": 12,
      "outputs": [
        {
          "output_type": "execute_result",
          "data": {
            "text/plain": [
              "<pandas.io.formats.style.Styler at 0x79a16b1ad720>"
            ],
            "text/html": [
              "<style type=\"text/css\">\n",
              "</style>\n",
              "<table id=\"T_f263c\" class=\"dataframe\">\n",
              "  <thead>\n",
              "    <tr>\n",
              "      <th id=\"T_f263c_level0_col0\" class=\"col_heading level0 col0\" >lastname</th>\n",
              "      <th id=\"T_f263c_level0_col1\" class=\"col_heading level0 col1\" >jobdesc</th>\n",
              "      <th id=\"T_f263c_level0_col2\" class=\"col_heading level0 col2\" >salary</th>\n",
              "    </tr>\n",
              "  </thead>\n",
              "  <tbody>\n",
              "    <tr>\n",
              "      <td id=\"T_f263c_row0_col0\" class=\"data row0 col0\" >Bacchan</td>\n",
              "      <td id=\"T_f263c_row0_col1\" class=\"data row0 col1\" >Executive</td>\n",
              "      <td id=\"T_f263c_row0_col2\" class=\"data row0 col2\" >50000</td>\n",
              "    </tr>\n",
              "    <tr>\n",
              "      <td id=\"T_f263c_row1_col0\" class=\"data row1 col0\" >Mukherjee</td>\n",
              "      <td id=\"T_f263c_row1_col1\" class=\"data row1 col1\" >Manager</td>\n",
              "      <td id=\"T_f263c_row1_col2\" class=\"data row1 col2\" >25000</td>\n",
              "    </tr>\n",
              "    <tr>\n",
              "      <td id=\"T_f263c_row2_col0\" class=\"data row2 col0\" >Dikshit</td>\n",
              "      <td id=\"T_f263c_row2_col1\" class=\"data row2 col1\" >Clerk</td>\n",
              "      <td id=\"T_f263c_row2_col2\" class=\"data row2 col2\" >10000</td>\n",
              "    </tr>\n",
              "    <tr>\n",
              "      <td id=\"T_f263c_row3_col0\" class=\"data row3 col0\" >Khan</td>\n",
              "      <td id=\"T_f263c_row3_col1\" class=\"data row3 col1\" >Manager</td>\n",
              "      <td id=\"T_f263c_row3_col2\" class=\"data row3 col2\" >30000</td>\n",
              "    </tr>\n",
              "    <tr>\n",
              "      <td id=\"T_f263c_row4_col0\" class=\"data row4 col0\" >Sehwag</td>\n",
              "      <td id=\"T_f263c_row4_col1\" class=\"data row4 col1\" >Cus_Rep</td>\n",
              "      <td id=\"T_f263c_row4_col2\" class=\"data row4 col2\" >15000</td>\n",
              "    </tr>\n",
              "    <tr>\n",
              "      <td id=\"T_f263c_row5_col0\" class=\"data row5 col0\" >Dhoni</td>\n",
              "      <td id=\"T_f263c_row5_col1\" class=\"data row5 col1\" >Clerk</td>\n",
              "      <td id=\"T_f263c_row5_col2\" class=\"data row5 col2\" >9000</td>\n",
              "    </tr>\n",
              "    <tr>\n",
              "      <td id=\"T_f263c_row6_col0\" class=\"data row6 col0\" >Dravid</td>\n",
              "      <td id=\"T_f263c_row6_col1\" class=\"data row6 col1\" >Sr Manager</td>\n",
              "      <td id=\"T_f263c_row6_col2\" class=\"data row6 col2\" >40000</td>\n",
              "    </tr>\n",
              "    <tr>\n",
              "      <td id=\"T_f263c_row7_col0\" class=\"data row7 col0\" >Dalmia</td>\n",
              "      <td id=\"T_f263c_row7_col1\" class=\"data row7 col1\" >Clerk</td>\n",
              "      <td id=\"T_f263c_row7_col2\" class=\"data row7 col2\" >12000</td>\n",
              "    </tr>\n",
              "    <tr>\n",
              "      <td id=\"T_f263c_row8_col0\" class=\"data row8 col0\" >Ganguly</td>\n",
              "      <td id=\"T_f263c_row8_col1\" class=\"data row8 col1\" >Cus_Rep</td>\n",
              "      <td id=\"T_f263c_row8_col2\" class=\"data row8 col2\" >20000</td>\n",
              "    </tr>\n",
              "    <tr>\n",
              "      <td id=\"T_f263c_row9_col0\" class=\"data row9 col0\" >Ganesan</td>\n",
              "      <td id=\"T_f263c_row9_col1\" class=\"data row9 col1\" >Director</td>\n",
              "      <td id=\"T_f263c_row9_col2\" class=\"data row9 col2\" >60000</td>\n",
              "    </tr>\n",
              "    <tr>\n",
              "      <td id=\"T_f263c_row10_col0\" class=\"data row10 col0\" >Karthikeyan</td>\n",
              "      <td id=\"T_f263c_row10_col1\" class=\"data row10 col1\" >Secretary</td>\n",
              "      <td id=\"T_f263c_row10_col2\" class=\"data row10 col2\" >40000</td>\n",
              "    </tr>\n",
              "    <tr>\n",
              "      <td id=\"T_f263c_row11_col0\" class=\"data row11 col0\" >Sunil</td>\n",
              "      <td id=\"T_f263c_row11_col1\" class=\"data row11 col1\" >Dy Manager</td>\n",
              "      <td id=\"T_f263c_row11_col2\" class=\"data row11 col2\" >40000</td>\n",
              "    </tr>\n",
              "    <tr>\n",
              "      <td id=\"T_f263c_row12_col0\" class=\"data row12 col0\" >Mirza</td>\n",
              "      <td id=\"T_f263c_row12_col1\" class=\"data row12 col1\" >Cus_Rep</td>\n",
              "      <td id=\"T_f263c_row12_col2\" class=\"data row12 col2\" >25000</td>\n",
              "    </tr>\n",
              "  </tbody>\n",
              "</table>\n"
            ]
          },
          "metadata": {},
          "execution_count": 12
        }
      ]
    },
    {
      "cell_type": "code",
      "source": [
        "runSelect('select distinct(jobdesc) from empl')"
      ],
      "metadata": {
        "id": "7uvcAdlCvg-p",
        "outputId": "3bd2c28d-84af-45ea-c941-7a9561acd6f2",
        "colab": {
          "base_uri": "https://localhost:8080/",
          "height": 300
        }
      },
      "execution_count": 13,
      "outputs": [
        {
          "output_type": "execute_result",
          "data": {
            "text/plain": [
              "<pandas.io.formats.style.Styler at 0x79a16b1adff0>"
            ],
            "text/html": [
              "<style type=\"text/css\">\n",
              "</style>\n",
              "<table id=\"T_958d1\" class=\"dataframe\">\n",
              "  <thead>\n",
              "    <tr>\n",
              "      <th id=\"T_958d1_level0_col0\" class=\"col_heading level0 col0\" >jobdesc</th>\n",
              "    </tr>\n",
              "  </thead>\n",
              "  <tbody>\n",
              "    <tr>\n",
              "      <td id=\"T_958d1_row0_col0\" class=\"data row0 col0\" >Director</td>\n",
              "    </tr>\n",
              "    <tr>\n",
              "      <td id=\"T_958d1_row1_col0\" class=\"data row1 col0\" >Manager</td>\n",
              "    </tr>\n",
              "    <tr>\n",
              "      <td id=\"T_958d1_row2_col0\" class=\"data row2 col0\" >Dy Manager</td>\n",
              "    </tr>\n",
              "    <tr>\n",
              "      <td id=\"T_958d1_row3_col0\" class=\"data row3 col0\" >Executive</td>\n",
              "    </tr>\n",
              "    <tr>\n",
              "      <td id=\"T_958d1_row4_col0\" class=\"data row4 col0\" >Secretary</td>\n",
              "    </tr>\n",
              "    <tr>\n",
              "      <td id=\"T_958d1_row5_col0\" class=\"data row5 col0\" >Cus_Rep</td>\n",
              "    </tr>\n",
              "    <tr>\n",
              "      <td id=\"T_958d1_row6_col0\" class=\"data row6 col0\" >Clerk</td>\n",
              "    </tr>\n",
              "    <tr>\n",
              "      <td id=\"T_958d1_row7_col0\" class=\"data row7 col0\" >Sr Manager</td>\n",
              "    </tr>\n",
              "  </tbody>\n",
              "</table>\n"
            ]
          },
          "metadata": {},
          "execution_count": 13
        }
      ]
    },
    {
      "cell_type": "markdown",
      "source": [
        "#Where"
      ],
      "metadata": {
        "id": "LFbNG59OxVzF"
      }
    },
    {
      "cell_type": "markdown",
      "source": [
        "## Equal, Not Equal, Greater, Less"
      ],
      "metadata": {
        "id": "JM2k29awVQHc"
      }
    },
    {
      "cell_type": "code",
      "source": [
        "runSelect(\"select firstname, lastname, jobdesc from empl where jobdesc = 'Clerk'\")"
      ],
      "metadata": {
        "id": "rRZz9OpLxdEY",
        "outputId": "2fd3f518-b85d-4d85-a862-2b3eb7dfd3e9",
        "colab": {
          "base_uri": "https://localhost:8080/",
          "height": 143
        }
      },
      "execution_count": 14,
      "outputs": [
        {
          "output_type": "execute_result",
          "data": {
            "text/plain": [
              "<pandas.io.formats.style.Styler at 0x79a16b1ad000>"
            ],
            "text/html": [
              "<style type=\"text/css\">\n",
              "</style>\n",
              "<table id=\"T_aff59\" class=\"dataframe\">\n",
              "  <thead>\n",
              "    <tr>\n",
              "      <th id=\"T_aff59_level0_col0\" class=\"col_heading level0 col0\" >firstname</th>\n",
              "      <th id=\"T_aff59_level0_col1\" class=\"col_heading level0 col1\" >lastname</th>\n",
              "      <th id=\"T_aff59_level0_col2\" class=\"col_heading level0 col2\" >jobdesc</th>\n",
              "    </tr>\n",
              "  </thead>\n",
              "  <tbody>\n",
              "    <tr>\n",
              "      <td id=\"T_aff59_row0_col0\" class=\"data row0 col0\" >Madhuri</td>\n",
              "      <td id=\"T_aff59_row0_col1\" class=\"data row0 col1\" >Dikshit</td>\n",
              "      <td id=\"T_aff59_row0_col2\" class=\"data row0 col2\" >Clerk</td>\n",
              "    </tr>\n",
              "    <tr>\n",
              "      <td id=\"T_aff59_row1_col0\" class=\"data row1 col0\" >Mahender</td>\n",
              "      <td id=\"T_aff59_row1_col1\" class=\"data row1 col1\" >Dhoni</td>\n",
              "      <td id=\"T_aff59_row1_col2\" class=\"data row1 col2\" >Clerk</td>\n",
              "    </tr>\n",
              "    <tr>\n",
              "      <td id=\"T_aff59_row2_col0\" class=\"data row2 col0\" >Jagmohan</td>\n",
              "      <td id=\"T_aff59_row2_col1\" class=\"data row2 col1\" >Dalmia</td>\n",
              "      <td id=\"T_aff59_row2_col2\" class=\"data row2 col2\" >Clerk</td>\n",
              "    </tr>\n",
              "  </tbody>\n",
              "</table>\n"
            ]
          },
          "metadata": {},
          "execution_count": 14
        }
      ]
    },
    {
      "cell_type": "code",
      "source": [
        "runSelect(\"select firstname, lastname, jobdesc from empl where jobdesc != 'Clerk'\")"
      ],
      "metadata": {
        "id": "3cl0ISR9yG-I",
        "outputId": "ba144a4d-612c-44a7-ae8d-f93f1d5444d0",
        "colab": {
          "base_uri": "https://localhost:8080/",
          "height": 363
        }
      },
      "execution_count": 15,
      "outputs": [
        {
          "output_type": "execute_result",
          "data": {
            "text/plain": [
              "<pandas.io.formats.style.Styler at 0x79a16b1af610>"
            ],
            "text/html": [
              "<style type=\"text/css\">\n",
              "</style>\n",
              "<table id=\"T_bb66b\" class=\"dataframe\">\n",
              "  <thead>\n",
              "    <tr>\n",
              "      <th id=\"T_bb66b_level0_col0\" class=\"col_heading level0 col0\" >firstname</th>\n",
              "      <th id=\"T_bb66b_level0_col1\" class=\"col_heading level0 col1\" >lastname</th>\n",
              "      <th id=\"T_bb66b_level0_col2\" class=\"col_heading level0 col2\" >jobdesc</th>\n",
              "    </tr>\n",
              "  </thead>\n",
              "  <tbody>\n",
              "    <tr>\n",
              "      <td id=\"T_bb66b_row0_col0\" class=\"data row0 col0\" >Amitabh</td>\n",
              "      <td id=\"T_bb66b_row0_col1\" class=\"data row0 col1\" >Bacchan</td>\n",
              "      <td id=\"T_bb66b_row0_col2\" class=\"data row0 col2\" >Executive</td>\n",
              "    </tr>\n",
              "    <tr>\n",
              "      <td id=\"T_bb66b_row1_col0\" class=\"data row1 col0\" >Rani</td>\n",
              "      <td id=\"T_bb66b_row1_col1\" class=\"data row1 col1\" >Mukherjee</td>\n",
              "      <td id=\"T_bb66b_row1_col2\" class=\"data row1 col2\" >Manager</td>\n",
              "    </tr>\n",
              "    <tr>\n",
              "      <td id=\"T_bb66b_row2_col0\" class=\"data row2 col0\" >Shahrukh</td>\n",
              "      <td id=\"T_bb66b_row2_col1\" class=\"data row2 col1\" >Khan</td>\n",
              "      <td id=\"T_bb66b_row2_col2\" class=\"data row2 col2\" >Manager</td>\n",
              "    </tr>\n",
              "    <tr>\n",
              "      <td id=\"T_bb66b_row3_col0\" class=\"data row3 col0\" >Virender</td>\n",
              "      <td id=\"T_bb66b_row3_col1\" class=\"data row3 col1\" >Sehwag</td>\n",
              "      <td id=\"T_bb66b_row3_col2\" class=\"data row3 col2\" >Cus_Rep</td>\n",
              "    </tr>\n",
              "    <tr>\n",
              "      <td id=\"T_bb66b_row4_col0\" class=\"data row4 col0\" >Rahul</td>\n",
              "      <td id=\"T_bb66b_row4_col1\" class=\"data row4 col1\" >Dravid</td>\n",
              "      <td id=\"T_bb66b_row4_col2\" class=\"data row4 col2\" >Sr Manager</td>\n",
              "    </tr>\n",
              "    <tr>\n",
              "      <td id=\"T_bb66b_row5_col0\" class=\"data row5 col0\" >Sourav</td>\n",
              "      <td id=\"T_bb66b_row5_col1\" class=\"data row5 col1\" >Ganguly</td>\n",
              "      <td id=\"T_bb66b_row5_col2\" class=\"data row5 col2\" >Cus_Rep</td>\n",
              "    </tr>\n",
              "    <tr>\n",
              "      <td id=\"T_bb66b_row6_col0\" class=\"data row6 col0\" >Rekha</td>\n",
              "      <td id=\"T_bb66b_row6_col1\" class=\"data row6 col1\" >Ganesan</td>\n",
              "      <td id=\"T_bb66b_row6_col2\" class=\"data row6 col2\" >Director</td>\n",
              "    </tr>\n",
              "    <tr>\n",
              "      <td id=\"T_bb66b_row7_col0\" class=\"data row7 col0\" >Narayan</td>\n",
              "      <td id=\"T_bb66b_row7_col1\" class=\"data row7 col1\" >Karthikeyan</td>\n",
              "      <td id=\"T_bb66b_row7_col2\" class=\"data row7 col2\" >Secretary</td>\n",
              "    </tr>\n",
              "    <tr>\n",
              "      <td id=\"T_bb66b_row8_col0\" class=\"data row8 col0\" >Chettri</td>\n",
              "      <td id=\"T_bb66b_row8_col1\" class=\"data row8 col1\" >Sunil</td>\n",
              "      <td id=\"T_bb66b_row8_col2\" class=\"data row8 col2\" >Dy Manager</td>\n",
              "    </tr>\n",
              "    <tr>\n",
              "      <td id=\"T_bb66b_row9_col0\" class=\"data row9 col0\" >Sania</td>\n",
              "      <td id=\"T_bb66b_row9_col1\" class=\"data row9 col1\" >Mirza</td>\n",
              "      <td id=\"T_bb66b_row9_col2\" class=\"data row9 col2\" >Cus_Rep</td>\n",
              "    </tr>\n",
              "  </tbody>\n",
              "</table>\n"
            ]
          },
          "metadata": {},
          "execution_count": 15
        }
      ]
    },
    {
      "cell_type": "code",
      "source": [
        "runSelect(\"select firstname, lastname, salary from empl where salary > 35000\")"
      ],
      "metadata": {
        "id": "obIPpNbDyT4S",
        "outputId": "11f887ea-7a5a-427e-c9f0-6e3b6c0e54e8",
        "colab": {
          "base_uri": "https://localhost:8080/",
          "height": 206
        }
      },
      "execution_count": 16,
      "outputs": [
        {
          "output_type": "execute_result",
          "data": {
            "text/plain": [
              "<pandas.io.formats.style.Styler at 0x79a16b1af940>"
            ],
            "text/html": [
              "<style type=\"text/css\">\n",
              "</style>\n",
              "<table id=\"T_27c8c\" class=\"dataframe\">\n",
              "  <thead>\n",
              "    <tr>\n",
              "      <th id=\"T_27c8c_level0_col0\" class=\"col_heading level0 col0\" >firstname</th>\n",
              "      <th id=\"T_27c8c_level0_col1\" class=\"col_heading level0 col1\" >lastname</th>\n",
              "      <th id=\"T_27c8c_level0_col2\" class=\"col_heading level0 col2\" >salary</th>\n",
              "    </tr>\n",
              "  </thead>\n",
              "  <tbody>\n",
              "    <tr>\n",
              "      <td id=\"T_27c8c_row0_col0\" class=\"data row0 col0\" >Amitabh</td>\n",
              "      <td id=\"T_27c8c_row0_col1\" class=\"data row0 col1\" >Bacchan</td>\n",
              "      <td id=\"T_27c8c_row0_col2\" class=\"data row0 col2\" >50000</td>\n",
              "    </tr>\n",
              "    <tr>\n",
              "      <td id=\"T_27c8c_row1_col0\" class=\"data row1 col0\" >Rahul</td>\n",
              "      <td id=\"T_27c8c_row1_col1\" class=\"data row1 col1\" >Dravid</td>\n",
              "      <td id=\"T_27c8c_row1_col2\" class=\"data row1 col2\" >40000</td>\n",
              "    </tr>\n",
              "    <tr>\n",
              "      <td id=\"T_27c8c_row2_col0\" class=\"data row2 col0\" >Rekha</td>\n",
              "      <td id=\"T_27c8c_row2_col1\" class=\"data row2 col1\" >Ganesan</td>\n",
              "      <td id=\"T_27c8c_row2_col2\" class=\"data row2 col2\" >60000</td>\n",
              "    </tr>\n",
              "    <tr>\n",
              "      <td id=\"T_27c8c_row3_col0\" class=\"data row3 col0\" >Narayan</td>\n",
              "      <td id=\"T_27c8c_row3_col1\" class=\"data row3 col1\" >Karthikeyan</td>\n",
              "      <td id=\"T_27c8c_row3_col2\" class=\"data row3 col2\" >40000</td>\n",
              "    </tr>\n",
              "    <tr>\n",
              "      <td id=\"T_27c8c_row4_col0\" class=\"data row4 col0\" >Chettri</td>\n",
              "      <td id=\"T_27c8c_row4_col1\" class=\"data row4 col1\" >Sunil</td>\n",
              "      <td id=\"T_27c8c_row4_col2\" class=\"data row4 col2\" >40000</td>\n",
              "    </tr>\n",
              "  </tbody>\n",
              "</table>\n"
            ]
          },
          "metadata": {},
          "execution_count": 16
        }
      ]
    },
    {
      "cell_type": "code",
      "source": [
        "runSelect(\"select firstname, lastname, salary, joindate from empl where joindate < '2002-01-01'\")"
      ],
      "metadata": {
        "colab": {
          "base_uri": "https://localhost:8080/",
          "height": 143
        },
        "id": "hnIvgy_dMvQl",
        "outputId": "152c4bb9-e5f4-45ad-bd9d-d1cb7c5937f6"
      },
      "execution_count": 17,
      "outputs": [
        {
          "output_type": "execute_result",
          "data": {
            "text/plain": [
              "<pandas.io.formats.style.Styler at 0x79a16b1af730>"
            ],
            "text/html": [
              "<style type=\"text/css\">\n",
              "</style>\n",
              "<table id=\"T_b1902\" class=\"dataframe\">\n",
              "  <thead>\n",
              "    <tr>\n",
              "      <th id=\"T_b1902_level0_col0\" class=\"col_heading level0 col0\" >firstname</th>\n",
              "      <th id=\"T_b1902_level0_col1\" class=\"col_heading level0 col1\" >lastname</th>\n",
              "      <th id=\"T_b1902_level0_col2\" class=\"col_heading level0 col2\" >salary</th>\n",
              "      <th id=\"T_b1902_level0_col3\" class=\"col_heading level0 col3\" >joindate</th>\n",
              "    </tr>\n",
              "  </thead>\n",
              "  <tbody>\n",
              "    <tr>\n",
              "      <td id=\"T_b1902_row0_col0\" class=\"data row0 col0\" >Rahul</td>\n",
              "      <td id=\"T_b1902_row0_col1\" class=\"data row0 col1\" >Dravid</td>\n",
              "      <td id=\"T_b1902_row0_col2\" class=\"data row0 col2\" >40000</td>\n",
              "      <td id=\"T_b1902_row0_col3\" class=\"data row0 col3\" >2000-06-04</td>\n",
              "    </tr>\n",
              "    <tr>\n",
              "      <td id=\"T_b1902_row1_col0\" class=\"data row1 col0\" >Jagmohan</td>\n",
              "      <td id=\"T_b1902_row1_col1\" class=\"data row1 col1\" >Dalmia</td>\n",
              "      <td id=\"T_b1902_row1_col2\" class=\"data row1 col2\" >12000</td>\n",
              "      <td id=\"T_b1902_row1_col3\" class=\"data row1 col3\" >2001-07-01</td>\n",
              "    </tr>\n",
              "    <tr>\n",
              "      <td id=\"T_b1902_row2_col0\" class=\"data row2 col0\" >Sania</td>\n",
              "      <td id=\"T_b1902_row2_col1\" class=\"data row2 col1\" >Mirza</td>\n",
              "      <td id=\"T_b1902_row2_col2\" class=\"data row2 col2\" >25000</td>\n",
              "      <td id=\"T_b1902_row2_col3\" class=\"data row2 col3\" >2001-11-19</td>\n",
              "    </tr>\n",
              "  </tbody>\n",
              "</table>\n"
            ]
          },
          "metadata": {},
          "execution_count": 17
        }
      ]
    },
    {
      "cell_type": "markdown",
      "source": [
        "## Like"
      ],
      "metadata": {
        "id": "77DkYhfhU1lJ"
      }
    },
    {
      "cell_type": "code",
      "source": [
        "runSelect(\"select firstname, lastname, salary from empl where lastname like 'D%'\")"
      ],
      "metadata": {
        "colab": {
          "base_uri": "https://localhost:8080/",
          "height": 175
        },
        "id": "PBsdla2eVv1K",
        "outputId": "5334337f-737f-489d-8ffa-baad89b05fa6"
      },
      "execution_count": 18,
      "outputs": [
        {
          "output_type": "execute_result",
          "data": {
            "text/plain": [
              "<pandas.io.formats.style.Styler at 0x79a16afcc610>"
            ],
            "text/html": [
              "<style type=\"text/css\">\n",
              "</style>\n",
              "<table id=\"T_a7a96\" class=\"dataframe\">\n",
              "  <thead>\n",
              "    <tr>\n",
              "      <th id=\"T_a7a96_level0_col0\" class=\"col_heading level0 col0\" >firstname</th>\n",
              "      <th id=\"T_a7a96_level0_col1\" class=\"col_heading level0 col1\" >lastname</th>\n",
              "      <th id=\"T_a7a96_level0_col2\" class=\"col_heading level0 col2\" >salary</th>\n",
              "    </tr>\n",
              "  </thead>\n",
              "  <tbody>\n",
              "    <tr>\n",
              "      <td id=\"T_a7a96_row0_col0\" class=\"data row0 col0\" >Madhuri</td>\n",
              "      <td id=\"T_a7a96_row0_col1\" class=\"data row0 col1\" >Dikshit</td>\n",
              "      <td id=\"T_a7a96_row0_col2\" class=\"data row0 col2\" >10000</td>\n",
              "    </tr>\n",
              "    <tr>\n",
              "      <td id=\"T_a7a96_row1_col0\" class=\"data row1 col0\" >Mahender</td>\n",
              "      <td id=\"T_a7a96_row1_col1\" class=\"data row1 col1\" >Dhoni</td>\n",
              "      <td id=\"T_a7a96_row1_col2\" class=\"data row1 col2\" >9000</td>\n",
              "    </tr>\n",
              "    <tr>\n",
              "      <td id=\"T_a7a96_row2_col0\" class=\"data row2 col0\" >Rahul</td>\n",
              "      <td id=\"T_a7a96_row2_col1\" class=\"data row2 col1\" >Dravid</td>\n",
              "      <td id=\"T_a7a96_row2_col2\" class=\"data row2 col2\" >40000</td>\n",
              "    </tr>\n",
              "    <tr>\n",
              "      <td id=\"T_a7a96_row3_col0\" class=\"data row3 col0\" >Jagmohan</td>\n",
              "      <td id=\"T_a7a96_row3_col1\" class=\"data row3 col1\" >Dalmia</td>\n",
              "      <td id=\"T_a7a96_row3_col2\" class=\"data row3 col2\" >12000</td>\n",
              "    </tr>\n",
              "  </tbody>\n",
              "</table>\n"
            ]
          },
          "metadata": {},
          "execution_count": 18
        }
      ]
    },
    {
      "cell_type": "code",
      "source": [
        "runSelect(\"select firstname, lastname, joindate from empl where lastname like '____i_'\")"
      ],
      "metadata": {
        "colab": {
          "base_uri": "https://localhost:8080/",
          "height": 112
        },
        "id": "xxImEDlKbm4U",
        "outputId": "d663fa9e-d611-412a-a1e3-4b3bee7fa445"
      },
      "execution_count": 19,
      "outputs": [
        {
          "output_type": "execute_result",
          "data": {
            "text/plain": [
              "<pandas.io.formats.style.Styler at 0x79a16afcc0a0>"
            ],
            "text/html": [
              "<style type=\"text/css\">\n",
              "</style>\n",
              "<table id=\"T_aa6c7\" class=\"dataframe\">\n",
              "  <thead>\n",
              "    <tr>\n",
              "      <th id=\"T_aa6c7_level0_col0\" class=\"col_heading level0 col0\" >firstname</th>\n",
              "      <th id=\"T_aa6c7_level0_col1\" class=\"col_heading level0 col1\" >lastname</th>\n",
              "      <th id=\"T_aa6c7_level0_col2\" class=\"col_heading level0 col2\" >joindate</th>\n",
              "    </tr>\n",
              "  </thead>\n",
              "  <tbody>\n",
              "    <tr>\n",
              "      <td id=\"T_aa6c7_row0_col0\" class=\"data row0 col0\" >Rahul</td>\n",
              "      <td id=\"T_aa6c7_row0_col1\" class=\"data row0 col1\" >Dravid</td>\n",
              "      <td id=\"T_aa6c7_row0_col2\" class=\"data row0 col2\" >2000-06-04</td>\n",
              "    </tr>\n",
              "    <tr>\n",
              "      <td id=\"T_aa6c7_row1_col0\" class=\"data row1 col0\" >Jagmohan</td>\n",
              "      <td id=\"T_aa6c7_row1_col1\" class=\"data row1 col1\" >Dalmia</td>\n",
              "      <td id=\"T_aa6c7_row1_col2\" class=\"data row1 col2\" >2001-07-01</td>\n",
              "    </tr>\n",
              "  </tbody>\n",
              "</table>\n"
            ]
          },
          "metadata": {},
          "execution_count": 19
        }
      ]
    },
    {
      "cell_type": "code",
      "source": [
        "runSelect(\"select firstname, lastname, jobdesc from empl where lastname like '____i%'\")"
      ],
      "metadata": {
        "colab": {
          "base_uri": "https://localhost:8080/",
          "height": 143
        },
        "id": "pL7VPLo4b2g3",
        "outputId": "dc031826-4dc1-4fb9-ab33-212ea0045ff0"
      },
      "execution_count": 20,
      "outputs": [
        {
          "output_type": "execute_result",
          "data": {
            "text/plain": [
              "<pandas.io.formats.style.Styler at 0x79a16afce1d0>"
            ],
            "text/html": [
              "<style type=\"text/css\">\n",
              "</style>\n",
              "<table id=\"T_8a7ac\" class=\"dataframe\">\n",
              "  <thead>\n",
              "    <tr>\n",
              "      <th id=\"T_8a7ac_level0_col0\" class=\"col_heading level0 col0\" >firstname</th>\n",
              "      <th id=\"T_8a7ac_level0_col1\" class=\"col_heading level0 col1\" >lastname</th>\n",
              "      <th id=\"T_8a7ac_level0_col2\" class=\"col_heading level0 col2\" >jobdesc</th>\n",
              "    </tr>\n",
              "  </thead>\n",
              "  <tbody>\n",
              "    <tr>\n",
              "      <td id=\"T_8a7ac_row0_col0\" class=\"data row0 col0\" >Mahender</td>\n",
              "      <td id=\"T_8a7ac_row0_col1\" class=\"data row0 col1\" >Dhoni</td>\n",
              "      <td id=\"T_8a7ac_row0_col2\" class=\"data row0 col2\" >Clerk</td>\n",
              "    </tr>\n",
              "    <tr>\n",
              "      <td id=\"T_8a7ac_row1_col0\" class=\"data row1 col0\" >Rahul</td>\n",
              "      <td id=\"T_8a7ac_row1_col1\" class=\"data row1 col1\" >Dravid</td>\n",
              "      <td id=\"T_8a7ac_row1_col2\" class=\"data row1 col2\" >Sr Manager</td>\n",
              "    </tr>\n",
              "    <tr>\n",
              "      <td id=\"T_8a7ac_row2_col0\" class=\"data row2 col0\" >Jagmohan</td>\n",
              "      <td id=\"T_8a7ac_row2_col1\" class=\"data row2 col1\" >Dalmia</td>\n",
              "      <td id=\"T_8a7ac_row2_col2\" class=\"data row2 col2\" >Clerk</td>\n",
              "    </tr>\n",
              "  </tbody>\n",
              "</table>\n"
            ]
          },
          "metadata": {},
          "execution_count": 20
        }
      ]
    },
    {
      "cell_type": "markdown",
      "source": [
        "## Between"
      ],
      "metadata": {
        "id": "qw2h8Vtvey2R"
      }
    },
    {
      "cell_type": "code",
      "source": [
        "runSelect(\"select firstname, lastname, salary from empl where salary between 10000 and 20000\")"
      ],
      "metadata": {
        "colab": {
          "base_uri": "https://localhost:8080/",
          "height": 175
        },
        "id": "sI_qlRdXe7S8",
        "outputId": "fc661ae9-8fdb-4627-ae7d-054c13a4aa7f"
      },
      "execution_count": 21,
      "outputs": [
        {
          "output_type": "execute_result",
          "data": {
            "text/plain": [
              "<pandas.io.formats.style.Styler at 0x79a16afce410>"
            ],
            "text/html": [
              "<style type=\"text/css\">\n",
              "</style>\n",
              "<table id=\"T_45527\" class=\"dataframe\">\n",
              "  <thead>\n",
              "    <tr>\n",
              "      <th id=\"T_45527_level0_col0\" class=\"col_heading level0 col0\" >firstname</th>\n",
              "      <th id=\"T_45527_level0_col1\" class=\"col_heading level0 col1\" >lastname</th>\n",
              "      <th id=\"T_45527_level0_col2\" class=\"col_heading level0 col2\" >salary</th>\n",
              "    </tr>\n",
              "  </thead>\n",
              "  <tbody>\n",
              "    <tr>\n",
              "      <td id=\"T_45527_row0_col0\" class=\"data row0 col0\" >Madhuri</td>\n",
              "      <td id=\"T_45527_row0_col1\" class=\"data row0 col1\" >Dikshit</td>\n",
              "      <td id=\"T_45527_row0_col2\" class=\"data row0 col2\" >10000</td>\n",
              "    </tr>\n",
              "    <tr>\n",
              "      <td id=\"T_45527_row1_col0\" class=\"data row1 col0\" >Virender</td>\n",
              "      <td id=\"T_45527_row1_col1\" class=\"data row1 col1\" >Sehwag</td>\n",
              "      <td id=\"T_45527_row1_col2\" class=\"data row1 col2\" >15000</td>\n",
              "    </tr>\n",
              "    <tr>\n",
              "      <td id=\"T_45527_row2_col0\" class=\"data row2 col0\" >Jagmohan</td>\n",
              "      <td id=\"T_45527_row2_col1\" class=\"data row2 col1\" >Dalmia</td>\n",
              "      <td id=\"T_45527_row2_col2\" class=\"data row2 col2\" >12000</td>\n",
              "    </tr>\n",
              "    <tr>\n",
              "      <td id=\"T_45527_row3_col0\" class=\"data row3 col0\" >Sourav</td>\n",
              "      <td id=\"T_45527_row3_col1\" class=\"data row3 col1\" >Ganguly</td>\n",
              "      <td id=\"T_45527_row3_col2\" class=\"data row3 col2\" >20000</td>\n",
              "    </tr>\n",
              "  </tbody>\n",
              "</table>\n"
            ]
          },
          "metadata": {},
          "execution_count": 21
        }
      ]
    },
    {
      "cell_type": "code",
      "source": [
        "runSelect(\"select firstname, lastname, joindate from empl where joindate between '2004-01-01' and '2005-01-01'\")"
      ],
      "metadata": {
        "colab": {
          "base_uri": "https://localhost:8080/",
          "height": 112
        },
        "id": "b_mWyFTnfIEy",
        "outputId": "3522db51-f5c3-466d-a929-a83ff7a4a512"
      },
      "execution_count": 22,
      "outputs": [
        {
          "output_type": "execute_result",
          "data": {
            "text/plain": [
              "<pandas.io.formats.style.Styler at 0x79a16afcd480>"
            ],
            "text/html": [
              "<style type=\"text/css\">\n",
              "</style>\n",
              "<table id=\"T_965fb\" class=\"dataframe\">\n",
              "  <thead>\n",
              "    <tr>\n",
              "      <th id=\"T_965fb_level0_col0\" class=\"col_heading level0 col0\" >firstname</th>\n",
              "      <th id=\"T_965fb_level0_col1\" class=\"col_heading level0 col1\" >lastname</th>\n",
              "      <th id=\"T_965fb_level0_col2\" class=\"col_heading level0 col2\" >joindate</th>\n",
              "    </tr>\n",
              "  </thead>\n",
              "  <tbody>\n",
              "    <tr>\n",
              "      <td id=\"T_965fb_row0_col0\" class=\"data row0 col0\" >Shahrukh</td>\n",
              "      <td id=\"T_965fb_row0_col1\" class=\"data row0 col1\" >Khan</td>\n",
              "      <td id=\"T_965fb_row0_col2\" class=\"data row0 col2\" >2004-01-03</td>\n",
              "    </tr>\n",
              "    <tr>\n",
              "      <td id=\"T_965fb_row1_col0\" class=\"data row1 col0\" >Mahender</td>\n",
              "      <td id=\"T_965fb_row1_col1\" class=\"data row1 col1\" >Dhoni</td>\n",
              "      <td id=\"T_965fb_row1_col2\" class=\"data row1 col2\" >2004-10-09</td>\n",
              "    </tr>\n",
              "  </tbody>\n",
              "</table>\n"
            ]
          },
          "metadata": {},
          "execution_count": 22
        }
      ]
    },
    {
      "cell_type": "code",
      "source": [
        "runSelect(\"select firstname, lastname, joindate from empl where lastname between 'Dho' and 'Kha'\")"
      ],
      "metadata": {
        "colab": {
          "base_uri": "https://localhost:8080/",
          "height": 238
        },
        "id": "qXs9AeS2fwCS",
        "outputId": "42cbcaeb-4b93-44df-e8a9-5d8b9bc705b9"
      },
      "execution_count": 23,
      "outputs": [
        {
          "output_type": "execute_result",
          "data": {
            "text/plain": [
              "<pandas.io.formats.style.Styler at 0x79a16b1afca0>"
            ],
            "text/html": [
              "<style type=\"text/css\">\n",
              "</style>\n",
              "<table id=\"T_348ba\" class=\"dataframe\">\n",
              "  <thead>\n",
              "    <tr>\n",
              "      <th id=\"T_348ba_level0_col0\" class=\"col_heading level0 col0\" >firstname</th>\n",
              "      <th id=\"T_348ba_level0_col1\" class=\"col_heading level0 col1\" >lastname</th>\n",
              "      <th id=\"T_348ba_level0_col2\" class=\"col_heading level0 col2\" >joindate</th>\n",
              "    </tr>\n",
              "  </thead>\n",
              "  <tbody>\n",
              "    <tr>\n",
              "      <td id=\"T_348ba_row0_col0\" class=\"data row0 col0\" >Madhuri</td>\n",
              "      <td id=\"T_348ba_row0_col1\" class=\"data row0 col1\" >Dikshit</td>\n",
              "      <td id=\"T_348ba_row0_col2\" class=\"data row0 col2\" >2002-04-04</td>\n",
              "    </tr>\n",
              "    <tr>\n",
              "      <td id=\"T_348ba_row1_col0\" class=\"data row1 col0\" >Mahender</td>\n",
              "      <td id=\"T_348ba_row1_col1\" class=\"data row1 col1\" >Dhoni</td>\n",
              "      <td id=\"T_348ba_row1_col2\" class=\"data row1 col2\" >2004-10-09</td>\n",
              "    </tr>\n",
              "    <tr>\n",
              "      <td id=\"T_348ba_row2_col0\" class=\"data row2 col0\" >Rahul</td>\n",
              "      <td id=\"T_348ba_row2_col1\" class=\"data row2 col1\" >Dravid</td>\n",
              "      <td id=\"T_348ba_row2_col2\" class=\"data row2 col2\" >2000-06-04</td>\n",
              "    </tr>\n",
              "    <tr>\n",
              "      <td id=\"T_348ba_row3_col0\" class=\"data row3 col0\" >Sourav</td>\n",
              "      <td id=\"T_348ba_row3_col1\" class=\"data row3 col1\" >Ganguly</td>\n",
              "      <td id=\"T_348ba_row3_col2\" class=\"data row3 col2\" >2002-01-01</td>\n",
              "    </tr>\n",
              "    <tr>\n",
              "      <td id=\"T_348ba_row4_col0\" class=\"data row4 col0\" >Rekha</td>\n",
              "      <td id=\"T_348ba_row4_col1\" class=\"data row4 col1\" >Ganesan</td>\n",
              "      <td id=\"T_348ba_row4_col2\" class=\"data row4 col2\" >2002-10-10</td>\n",
              "    </tr>\n",
              "    <tr>\n",
              "      <td id=\"T_348ba_row5_col0\" class=\"data row5 col0\" >Narayan</td>\n",
              "      <td id=\"T_348ba_row5_col1\" class=\"data row5 col1\" >Karthikeyan</td>\n",
              "      <td id=\"T_348ba_row5_col2\" class=\"data row5 col2\" >2005-12-04</td>\n",
              "    </tr>\n",
              "  </tbody>\n",
              "</table>\n"
            ]
          },
          "metadata": {},
          "execution_count": 23
        }
      ]
    },
    {
      "cell_type": "markdown",
      "source": [
        "## IN"
      ],
      "metadata": {
        "id": "azhy0TQLiLy-"
      }
    },
    {
      "cell_type": "code",
      "source": [
        "runSelect(\"select firstname, lastname, deptid from empl where deptid in ('30','20','70')\")"
      ],
      "metadata": {
        "colab": {
          "base_uri": "https://localhost:8080/",
          "height": 269
        },
        "id": "UyBE-FuoibSZ",
        "outputId": "8d9f44e6-5b72-4cde-8093-d8fd37238d6c"
      },
      "execution_count": 24,
      "outputs": [
        {
          "output_type": "execute_result",
          "data": {
            "text/plain": [
              "<pandas.io.formats.style.Styler at 0x79a16b1ad870>"
            ],
            "text/html": [
              "<style type=\"text/css\">\n",
              "</style>\n",
              "<table id=\"T_7fd6d\" class=\"dataframe\">\n",
              "  <thead>\n",
              "    <tr>\n",
              "      <th id=\"T_7fd6d_level0_col0\" class=\"col_heading level0 col0\" >firstname</th>\n",
              "      <th id=\"T_7fd6d_level0_col1\" class=\"col_heading level0 col1\" >lastname</th>\n",
              "      <th id=\"T_7fd6d_level0_col2\" class=\"col_heading level0 col2\" >deptid</th>\n",
              "    </tr>\n",
              "  </thead>\n",
              "  <tbody>\n",
              "    <tr>\n",
              "      <td id=\"T_7fd6d_row0_col0\" class=\"data row0 col0\" >Madhuri</td>\n",
              "      <td id=\"T_7fd6d_row0_col1\" class=\"data row0 col1\" >Dikshit</td>\n",
              "      <td id=\"T_7fd6d_row0_col2\" class=\"data row0 col2\" >20</td>\n",
              "    </tr>\n",
              "    <tr>\n",
              "      <td id=\"T_7fd6d_row1_col0\" class=\"data row1 col0\" >Shahrukh</td>\n",
              "      <td id=\"T_7fd6d_row1_col1\" class=\"data row1 col1\" >Khan</td>\n",
              "      <td id=\"T_7fd6d_row1_col2\" class=\"data row1 col2\" >20</td>\n",
              "    </tr>\n",
              "    <tr>\n",
              "      <td id=\"T_7fd6d_row2_col0\" class=\"data row2 col0\" >Virender</td>\n",
              "      <td id=\"T_7fd6d_row2_col1\" class=\"data row2 col1\" >Sehwag</td>\n",
              "      <td id=\"T_7fd6d_row2_col2\" class=\"data row2 col2\" >20</td>\n",
              "    </tr>\n",
              "    <tr>\n",
              "      <td id=\"T_7fd6d_row3_col0\" class=\"data row3 col0\" >Rahul</td>\n",
              "      <td id=\"T_7fd6d_row3_col1\" class=\"data row3 col1\" >Dravid</td>\n",
              "      <td id=\"T_7fd6d_row3_col2\" class=\"data row3 col2\" >30</td>\n",
              "    </tr>\n",
              "    <tr>\n",
              "      <td id=\"T_7fd6d_row4_col0\" class=\"data row4 col0\" >Jagmohan</td>\n",
              "      <td id=\"T_7fd6d_row4_col1\" class=\"data row4 col1\" >Dalmia</td>\n",
              "      <td id=\"T_7fd6d_row4_col2\" class=\"data row4 col2\" >30</td>\n",
              "    </tr>\n",
              "    <tr>\n",
              "      <td id=\"T_7fd6d_row5_col0\" class=\"data row5 col0\" >Chettri</td>\n",
              "      <td id=\"T_7fd6d_row5_col1\" class=\"data row5 col1\" >Sunil</td>\n",
              "      <td id=\"T_7fd6d_row5_col2\" class=\"data row5 col2\" >70</td>\n",
              "    </tr>\n",
              "    <tr>\n",
              "      <td id=\"T_7fd6d_row6_col0\" class=\"data row6 col0\" >Sania</td>\n",
              "      <td id=\"T_7fd6d_row6_col1\" class=\"data row6 col1\" >Mirza</td>\n",
              "      <td id=\"T_7fd6d_row6_col2\" class=\"data row6 col2\" >30</td>\n",
              "    </tr>\n",
              "  </tbody>\n",
              "</table>\n"
            ]
          },
          "metadata": {},
          "execution_count": 24
        }
      ]
    },
    {
      "cell_type": "code",
      "source": [
        "runSelect(\"select firstname, lastname, salary from empl where firstname in ('Madhuri','Shahrukh','Virender')\")"
      ],
      "metadata": {
        "colab": {
          "base_uri": "https://localhost:8080/",
          "height": 143
        },
        "id": "9qTEO-OuiN3A",
        "outputId": "c6d2b08b-61f9-4d43-c0e1-6c9c42863e89"
      },
      "execution_count": 25,
      "outputs": [
        {
          "output_type": "execute_result",
          "data": {
            "text/plain": [
              "<pandas.io.formats.style.Styler at 0x79a16b213c10>"
            ],
            "text/html": [
              "<style type=\"text/css\">\n",
              "</style>\n",
              "<table id=\"T_fcb94\" class=\"dataframe\">\n",
              "  <thead>\n",
              "    <tr>\n",
              "      <th id=\"T_fcb94_level0_col0\" class=\"col_heading level0 col0\" >firstname</th>\n",
              "      <th id=\"T_fcb94_level0_col1\" class=\"col_heading level0 col1\" >lastname</th>\n",
              "      <th id=\"T_fcb94_level0_col2\" class=\"col_heading level0 col2\" >salary</th>\n",
              "    </tr>\n",
              "  </thead>\n",
              "  <tbody>\n",
              "    <tr>\n",
              "      <td id=\"T_fcb94_row0_col0\" class=\"data row0 col0\" >Madhuri</td>\n",
              "      <td id=\"T_fcb94_row0_col1\" class=\"data row0 col1\" >Dikshit</td>\n",
              "      <td id=\"T_fcb94_row0_col2\" class=\"data row0 col2\" >10000</td>\n",
              "    </tr>\n",
              "    <tr>\n",
              "      <td id=\"T_fcb94_row1_col0\" class=\"data row1 col0\" >Shahrukh</td>\n",
              "      <td id=\"T_fcb94_row1_col1\" class=\"data row1 col1\" >Khan</td>\n",
              "      <td id=\"T_fcb94_row1_col2\" class=\"data row1 col2\" >30000</td>\n",
              "    </tr>\n",
              "    <tr>\n",
              "      <td id=\"T_fcb94_row2_col0\" class=\"data row2 col0\" >Virender</td>\n",
              "      <td id=\"T_fcb94_row2_col1\" class=\"data row2 col1\" >Sehwag</td>\n",
              "      <td id=\"T_fcb94_row2_col2\" class=\"data row2 col2\" >15000</td>\n",
              "    </tr>\n",
              "  </tbody>\n",
              "</table>\n"
            ]
          },
          "metadata": {},
          "execution_count": 25
        }
      ]
    },
    {
      "cell_type": "markdown",
      "source": [
        "## Order by"
      ],
      "metadata": {
        "id": "vlOCT_zAkzMb"
      }
    },
    {
      "cell_type": "code",
      "source": [
        "runSelect(\"select firstname, lastname, joindate from empl where firstname in ('Madhuri','Shahrukh','Virender') order by joindate\")"
      ],
      "metadata": {
        "colab": {
          "base_uri": "https://localhost:8080/",
          "height": 143
        },
        "id": "WidoGzLVk1in",
        "outputId": "4a3b5727-5f2d-432b-ece4-b5eae782b031"
      },
      "execution_count": 26,
      "outputs": [
        {
          "output_type": "execute_result",
          "data": {
            "text/plain": [
              "<pandas.io.formats.style.Styler at 0x79a16afcdc60>"
            ],
            "text/html": [
              "<style type=\"text/css\">\n",
              "</style>\n",
              "<table id=\"T_3bf0f\" class=\"dataframe\">\n",
              "  <thead>\n",
              "    <tr>\n",
              "      <th id=\"T_3bf0f_level0_col0\" class=\"col_heading level0 col0\" >firstname</th>\n",
              "      <th id=\"T_3bf0f_level0_col1\" class=\"col_heading level0 col1\" >lastname</th>\n",
              "      <th id=\"T_3bf0f_level0_col2\" class=\"col_heading level0 col2\" >joindate</th>\n",
              "    </tr>\n",
              "  </thead>\n",
              "  <tbody>\n",
              "    <tr>\n",
              "      <td id=\"T_3bf0f_row0_col0\" class=\"data row0 col0\" >Madhuri</td>\n",
              "      <td id=\"T_3bf0f_row0_col1\" class=\"data row0 col1\" >Dikshit</td>\n",
              "      <td id=\"T_3bf0f_row0_col2\" class=\"data row0 col2\" >2002-04-04</td>\n",
              "    </tr>\n",
              "    <tr>\n",
              "      <td id=\"T_3bf0f_row1_col0\" class=\"data row1 col0\" >Shahrukh</td>\n",
              "      <td id=\"T_3bf0f_row1_col1\" class=\"data row1 col1\" >Khan</td>\n",
              "      <td id=\"T_3bf0f_row1_col2\" class=\"data row1 col2\" >2004-01-03</td>\n",
              "    </tr>\n",
              "    <tr>\n",
              "      <td id=\"T_3bf0f_row2_col0\" class=\"data row2 col0\" >Virender</td>\n",
              "      <td id=\"T_3bf0f_row2_col1\" class=\"data row2 col1\" >Sehwag</td>\n",
              "      <td id=\"T_3bf0f_row2_col2\" class=\"data row2 col2\" >2005-01-02</td>\n",
              "    </tr>\n",
              "  </tbody>\n",
              "</table>\n"
            ]
          },
          "metadata": {},
          "execution_count": 26
        }
      ]
    },
    {
      "cell_type": "code",
      "source": [
        "runSelect(\"select firstname, lastname, jobdesc, salary, deptid from empl where deptid = '10' order by salary desc\")"
      ],
      "metadata": {
        "colab": {
          "base_uri": "https://localhost:8080/",
          "height": 143
        },
        "id": "Iq_7jWr-lRlO",
        "outputId": "6e4533cf-4e1e-4169-a838-9468cba0210b"
      },
      "execution_count": 27,
      "outputs": [
        {
          "output_type": "execute_result",
          "data": {
            "text/plain": [
              "<pandas.io.formats.style.Styler at 0x79a16afcf940>"
            ],
            "text/html": [
              "<style type=\"text/css\">\n",
              "</style>\n",
              "<table id=\"T_5ab4f\" class=\"dataframe\">\n",
              "  <thead>\n",
              "    <tr>\n",
              "      <th id=\"T_5ab4f_level0_col0\" class=\"col_heading level0 col0\" >firstname</th>\n",
              "      <th id=\"T_5ab4f_level0_col1\" class=\"col_heading level0 col1\" >lastname</th>\n",
              "      <th id=\"T_5ab4f_level0_col2\" class=\"col_heading level0 col2\" >jobdesc</th>\n",
              "      <th id=\"T_5ab4f_level0_col3\" class=\"col_heading level0 col3\" >salary</th>\n",
              "      <th id=\"T_5ab4f_level0_col4\" class=\"col_heading level0 col4\" >deptid</th>\n",
              "    </tr>\n",
              "  </thead>\n",
              "  <tbody>\n",
              "    <tr>\n",
              "      <td id=\"T_5ab4f_row0_col0\" class=\"data row0 col0\" >Rekha</td>\n",
              "      <td id=\"T_5ab4f_row0_col1\" class=\"data row0 col1\" >Ganesan</td>\n",
              "      <td id=\"T_5ab4f_row0_col2\" class=\"data row0 col2\" >Director</td>\n",
              "      <td id=\"T_5ab4f_row0_col3\" class=\"data row0 col3\" >60000</td>\n",
              "      <td id=\"T_5ab4f_row0_col4\" class=\"data row0 col4\" >10</td>\n",
              "    </tr>\n",
              "    <tr>\n",
              "      <td id=\"T_5ab4f_row1_col0\" class=\"data row1 col0\" >Amitabh</td>\n",
              "      <td id=\"T_5ab4f_row1_col1\" class=\"data row1 col1\" >Bacchan</td>\n",
              "      <td id=\"T_5ab4f_row1_col2\" class=\"data row1 col2\" >Executive</td>\n",
              "      <td id=\"T_5ab4f_row1_col3\" class=\"data row1 col3\" >50000</td>\n",
              "      <td id=\"T_5ab4f_row1_col4\" class=\"data row1 col4\" >10</td>\n",
              "    </tr>\n",
              "    <tr>\n",
              "      <td id=\"T_5ab4f_row2_col0\" class=\"data row2 col0\" >Narayan</td>\n",
              "      <td id=\"T_5ab4f_row2_col1\" class=\"data row2 col1\" >Karthikeyan</td>\n",
              "      <td id=\"T_5ab4f_row2_col2\" class=\"data row2 col2\" >Secretary</td>\n",
              "      <td id=\"T_5ab4f_row2_col3\" class=\"data row2 col3\" >40000</td>\n",
              "      <td id=\"T_5ab4f_row2_col4\" class=\"data row2 col4\" >10</td>\n",
              "    </tr>\n",
              "  </tbody>\n",
              "</table>\n"
            ]
          },
          "metadata": {},
          "execution_count": 27
        }
      ]
    },
    {
      "cell_type": "markdown",
      "source": [
        "## Logical AND | OR"
      ],
      "metadata": {
        "id": "-JDEmZtsm0o1"
      }
    },
    {
      "cell_type": "code",
      "source": [
        "runSelect(\"select lastname, jobdesc, salary, deptid from empl where deptid = '20'\")"
      ],
      "metadata": {
        "colab": {
          "base_uri": "https://localhost:8080/",
          "height": 143
        },
        "id": "rli0DBhIm54M",
        "outputId": "0b17c00d-d58e-4ed5-f891-51450d24b591"
      },
      "execution_count": 28,
      "outputs": [
        {
          "output_type": "execute_result",
          "data": {
            "text/plain": [
              "<pandas.io.formats.style.Styler at 0x79a16afccf40>"
            ],
            "text/html": [
              "<style type=\"text/css\">\n",
              "</style>\n",
              "<table id=\"T_c2354\" class=\"dataframe\">\n",
              "  <thead>\n",
              "    <tr>\n",
              "      <th id=\"T_c2354_level0_col0\" class=\"col_heading level0 col0\" >lastname</th>\n",
              "      <th id=\"T_c2354_level0_col1\" class=\"col_heading level0 col1\" >jobdesc</th>\n",
              "      <th id=\"T_c2354_level0_col2\" class=\"col_heading level0 col2\" >salary</th>\n",
              "      <th id=\"T_c2354_level0_col3\" class=\"col_heading level0 col3\" >deptid</th>\n",
              "    </tr>\n",
              "  </thead>\n",
              "  <tbody>\n",
              "    <tr>\n",
              "      <td id=\"T_c2354_row0_col0\" class=\"data row0 col0\" >Dikshit</td>\n",
              "      <td id=\"T_c2354_row0_col1\" class=\"data row0 col1\" >Clerk</td>\n",
              "      <td id=\"T_c2354_row0_col2\" class=\"data row0 col2\" >10000</td>\n",
              "      <td id=\"T_c2354_row0_col3\" class=\"data row0 col3\" >20</td>\n",
              "    </tr>\n",
              "    <tr>\n",
              "      <td id=\"T_c2354_row1_col0\" class=\"data row1 col0\" >Khan</td>\n",
              "      <td id=\"T_c2354_row1_col1\" class=\"data row1 col1\" >Manager</td>\n",
              "      <td id=\"T_c2354_row1_col2\" class=\"data row1 col2\" >30000</td>\n",
              "      <td id=\"T_c2354_row1_col3\" class=\"data row1 col3\" >20</td>\n",
              "    </tr>\n",
              "    <tr>\n",
              "      <td id=\"T_c2354_row2_col0\" class=\"data row2 col0\" >Sehwag</td>\n",
              "      <td id=\"T_c2354_row2_col1\" class=\"data row2 col1\" >Cus_Rep</td>\n",
              "      <td id=\"T_c2354_row2_col2\" class=\"data row2 col2\" >15000</td>\n",
              "      <td id=\"T_c2354_row2_col3\" class=\"data row2 col3\" >20</td>\n",
              "    </tr>\n",
              "  </tbody>\n",
              "</table>\n"
            ]
          },
          "metadata": {},
          "execution_count": 28
        }
      ]
    },
    {
      "cell_type": "code",
      "source": [
        "runSelect(\"select lastname, jobdesc, salary, deptid from empl where deptid = '20' and salary > 10000\")"
      ],
      "metadata": {
        "colab": {
          "base_uri": "https://localhost:8080/",
          "height": 112
        },
        "id": "wHIJoUGqnuwa",
        "outputId": "d3d539c8-7b0c-44ec-892c-e2002955daa5"
      },
      "execution_count": 29,
      "outputs": [
        {
          "output_type": "execute_result",
          "data": {
            "text/plain": [
              "<pandas.io.formats.style.Styler at 0x79a16afcc040>"
            ],
            "text/html": [
              "<style type=\"text/css\">\n",
              "</style>\n",
              "<table id=\"T_49971\" class=\"dataframe\">\n",
              "  <thead>\n",
              "    <tr>\n",
              "      <th id=\"T_49971_level0_col0\" class=\"col_heading level0 col0\" >lastname</th>\n",
              "      <th id=\"T_49971_level0_col1\" class=\"col_heading level0 col1\" >jobdesc</th>\n",
              "      <th id=\"T_49971_level0_col2\" class=\"col_heading level0 col2\" >salary</th>\n",
              "      <th id=\"T_49971_level0_col3\" class=\"col_heading level0 col3\" >deptid</th>\n",
              "    </tr>\n",
              "  </thead>\n",
              "  <tbody>\n",
              "    <tr>\n",
              "      <td id=\"T_49971_row0_col0\" class=\"data row0 col0\" >Khan</td>\n",
              "      <td id=\"T_49971_row0_col1\" class=\"data row0 col1\" >Manager</td>\n",
              "      <td id=\"T_49971_row0_col2\" class=\"data row0 col2\" >30000</td>\n",
              "      <td id=\"T_49971_row0_col3\" class=\"data row0 col3\" >20</td>\n",
              "    </tr>\n",
              "    <tr>\n",
              "      <td id=\"T_49971_row1_col0\" class=\"data row1 col0\" >Sehwag</td>\n",
              "      <td id=\"T_49971_row1_col1\" class=\"data row1 col1\" >Cus_Rep</td>\n",
              "      <td id=\"T_49971_row1_col2\" class=\"data row1 col2\" >15000</td>\n",
              "      <td id=\"T_49971_row1_col3\" class=\"data row1 col3\" >20</td>\n",
              "    </tr>\n",
              "  </tbody>\n",
              "</table>\n"
            ]
          },
          "metadata": {},
          "execution_count": 29
        }
      ]
    },
    {
      "cell_type": "code",
      "source": [
        "runSelect(\"select lastname, jobdesc, salary, deptid from empl where deptid = '20' and salary > 10000 and jobdesc = 'Clerk'\")"
      ],
      "metadata": {
        "colab": {
          "base_uri": "https://localhost:8080/"
        },
        "id": "fnB8p8-EnzH2",
        "outputId": "ed6e648e-2eef-4d23-8c16-84933dcfb5e7"
      },
      "execution_count": 30,
      "outputs": [
        {
          "output_type": "stream",
          "name": "stdout",
          "text": [
            "no records found\n"
          ]
        }
      ]
    },
    {
      "cell_type": "code",
      "source": [
        "runSelect(\"select lastname, jobdesc, deptid from empl where deptid = '70'\")"
      ],
      "metadata": {
        "colab": {
          "base_uri": "https://localhost:8080/",
          "height": 81
        },
        "id": "uEKUIgOMqtLw",
        "outputId": "cf19c8a2-607c-4b6a-bbf2-59bea82fae22"
      },
      "execution_count": 31,
      "outputs": [
        {
          "output_type": "execute_result",
          "data": {
            "text/plain": [
              "<pandas.io.formats.style.Styler at 0x79a16b1ae6e0>"
            ],
            "text/html": [
              "<style type=\"text/css\">\n",
              "</style>\n",
              "<table id=\"T_c8376\" class=\"dataframe\">\n",
              "  <thead>\n",
              "    <tr>\n",
              "      <th id=\"T_c8376_level0_col0\" class=\"col_heading level0 col0\" >lastname</th>\n",
              "      <th id=\"T_c8376_level0_col1\" class=\"col_heading level0 col1\" >jobdesc</th>\n",
              "      <th id=\"T_c8376_level0_col2\" class=\"col_heading level0 col2\" >deptid</th>\n",
              "    </tr>\n",
              "  </thead>\n",
              "  <tbody>\n",
              "    <tr>\n",
              "      <td id=\"T_c8376_row0_col0\" class=\"data row0 col0\" >Sunil</td>\n",
              "      <td id=\"T_c8376_row0_col1\" class=\"data row0 col1\" >Dy Manager</td>\n",
              "      <td id=\"T_c8376_row0_col2\" class=\"data row0 col2\" >70</td>\n",
              "    </tr>\n",
              "  </tbody>\n",
              "</table>\n"
            ]
          },
          "metadata": {},
          "execution_count": 31
        }
      ]
    },
    {
      "cell_type": "code",
      "source": [
        "runSelect(\"select lastname, jobdesc, deptid from empl where deptid = '70' or jobdesc like '%Manager'\")"
      ],
      "metadata": {
        "colab": {
          "base_uri": "https://localhost:8080/",
          "height": 175
        },
        "id": "Ne0eLRV3qyTn",
        "outputId": "fd6a639d-30f1-4971-d6b3-2a446dd2b6cf"
      },
      "execution_count": 32,
      "outputs": [
        {
          "output_type": "execute_result",
          "data": {
            "text/plain": [
              "<pandas.io.formats.style.Styler at 0x79a16afd9870>"
            ],
            "text/html": [
              "<style type=\"text/css\">\n",
              "</style>\n",
              "<table id=\"T_a43bc\" class=\"dataframe\">\n",
              "  <thead>\n",
              "    <tr>\n",
              "      <th id=\"T_a43bc_level0_col0\" class=\"col_heading level0 col0\" >lastname</th>\n",
              "      <th id=\"T_a43bc_level0_col1\" class=\"col_heading level0 col1\" >jobdesc</th>\n",
              "      <th id=\"T_a43bc_level0_col2\" class=\"col_heading level0 col2\" >deptid</th>\n",
              "    </tr>\n",
              "  </thead>\n",
              "  <tbody>\n",
              "    <tr>\n",
              "      <td id=\"T_a43bc_row0_col0\" class=\"data row0 col0\" >Mukherjee</td>\n",
              "      <td id=\"T_a43bc_row0_col1\" class=\"data row0 col1\" >Manager</td>\n",
              "      <td id=\"T_a43bc_row0_col2\" class=\"data row0 col2\" >40</td>\n",
              "    </tr>\n",
              "    <tr>\n",
              "      <td id=\"T_a43bc_row1_col0\" class=\"data row1 col0\" >Khan</td>\n",
              "      <td id=\"T_a43bc_row1_col1\" class=\"data row1 col1\" >Manager</td>\n",
              "      <td id=\"T_a43bc_row1_col2\" class=\"data row1 col2\" >20</td>\n",
              "    </tr>\n",
              "    <tr>\n",
              "      <td id=\"T_a43bc_row2_col0\" class=\"data row2 col0\" >Dravid</td>\n",
              "      <td id=\"T_a43bc_row2_col1\" class=\"data row2 col1\" >Sr Manager</td>\n",
              "      <td id=\"T_a43bc_row2_col2\" class=\"data row2 col2\" >30</td>\n",
              "    </tr>\n",
              "    <tr>\n",
              "      <td id=\"T_a43bc_row3_col0\" class=\"data row3 col0\" >Sunil</td>\n",
              "      <td id=\"T_a43bc_row3_col1\" class=\"data row3 col1\" >Dy Manager</td>\n",
              "      <td id=\"T_a43bc_row3_col2\" class=\"data row3 col2\" >70</td>\n",
              "    </tr>\n",
              "  </tbody>\n",
              "</table>\n"
            ]
          },
          "metadata": {},
          "execution_count": 32
        }
      ]
    },
    {
      "cell_type": "code",
      "source": [
        "runSelect(\"select lastname, jobdesc, deptid from empl where deptid = '70' or jobdesc like '%Manager' or lastname = 'Dikshit'\")"
      ],
      "metadata": {
        "colab": {
          "base_uri": "https://localhost:8080/",
          "height": 206
        },
        "id": "aR3eNz7xq8Xo",
        "outputId": "056afceb-66c6-444e-ce94-f968824f83f9"
      },
      "execution_count": 33,
      "outputs": [
        {
          "output_type": "execute_result",
          "data": {
            "text/plain": [
              "<pandas.io.formats.style.Styler at 0x79a16afd9ae0>"
            ],
            "text/html": [
              "<style type=\"text/css\">\n",
              "</style>\n",
              "<table id=\"T_98eb4\" class=\"dataframe\">\n",
              "  <thead>\n",
              "    <tr>\n",
              "      <th id=\"T_98eb4_level0_col0\" class=\"col_heading level0 col0\" >lastname</th>\n",
              "      <th id=\"T_98eb4_level0_col1\" class=\"col_heading level0 col1\" >jobdesc</th>\n",
              "      <th id=\"T_98eb4_level0_col2\" class=\"col_heading level0 col2\" >deptid</th>\n",
              "    </tr>\n",
              "  </thead>\n",
              "  <tbody>\n",
              "    <tr>\n",
              "      <td id=\"T_98eb4_row0_col0\" class=\"data row0 col0\" >Mukherjee</td>\n",
              "      <td id=\"T_98eb4_row0_col1\" class=\"data row0 col1\" >Manager</td>\n",
              "      <td id=\"T_98eb4_row0_col2\" class=\"data row0 col2\" >40</td>\n",
              "    </tr>\n",
              "    <tr>\n",
              "      <td id=\"T_98eb4_row1_col0\" class=\"data row1 col0\" >Dikshit</td>\n",
              "      <td id=\"T_98eb4_row1_col1\" class=\"data row1 col1\" >Clerk</td>\n",
              "      <td id=\"T_98eb4_row1_col2\" class=\"data row1 col2\" >20</td>\n",
              "    </tr>\n",
              "    <tr>\n",
              "      <td id=\"T_98eb4_row2_col0\" class=\"data row2 col0\" >Khan</td>\n",
              "      <td id=\"T_98eb4_row2_col1\" class=\"data row2 col1\" >Manager</td>\n",
              "      <td id=\"T_98eb4_row2_col2\" class=\"data row2 col2\" >20</td>\n",
              "    </tr>\n",
              "    <tr>\n",
              "      <td id=\"T_98eb4_row3_col0\" class=\"data row3 col0\" >Dravid</td>\n",
              "      <td id=\"T_98eb4_row3_col1\" class=\"data row3 col1\" >Sr Manager</td>\n",
              "      <td id=\"T_98eb4_row3_col2\" class=\"data row3 col2\" >30</td>\n",
              "    </tr>\n",
              "    <tr>\n",
              "      <td id=\"T_98eb4_row4_col0\" class=\"data row4 col0\" >Sunil</td>\n",
              "      <td id=\"T_98eb4_row4_col1\" class=\"data row4 col1\" >Dy Manager</td>\n",
              "      <td id=\"T_98eb4_row4_col2\" class=\"data row4 col2\" >70</td>\n",
              "    </tr>\n",
              "  </tbody>\n",
              "</table>\n"
            ]
          },
          "metadata": {},
          "execution_count": 33
        }
      ]
    },
    {
      "cell_type": "code",
      "source": [
        "runSelect(\"select lastname, jobdesc, salary from empl where jobdesc = 'Cus_Rep' or jobdesc = 'Clerk' and salary < 16000\")"
      ],
      "metadata": {
        "colab": {
          "base_uri": "https://localhost:8080/",
          "height": 238
        },
        "id": "Ov0HErC0txm4",
        "outputId": "4be221fd-febd-4dae-b8a9-2b3e0b710970"
      },
      "execution_count": 34,
      "outputs": [
        {
          "output_type": "execute_result",
          "data": {
            "text/plain": [
              "<pandas.io.formats.style.Styler at 0x79a16afccac0>"
            ],
            "text/html": [
              "<style type=\"text/css\">\n",
              "</style>\n",
              "<table id=\"T_6648c\" class=\"dataframe\">\n",
              "  <thead>\n",
              "    <tr>\n",
              "      <th id=\"T_6648c_level0_col0\" class=\"col_heading level0 col0\" >lastname</th>\n",
              "      <th id=\"T_6648c_level0_col1\" class=\"col_heading level0 col1\" >jobdesc</th>\n",
              "      <th id=\"T_6648c_level0_col2\" class=\"col_heading level0 col2\" >salary</th>\n",
              "    </tr>\n",
              "  </thead>\n",
              "  <tbody>\n",
              "    <tr>\n",
              "      <td id=\"T_6648c_row0_col0\" class=\"data row0 col0\" >Dikshit</td>\n",
              "      <td id=\"T_6648c_row0_col1\" class=\"data row0 col1\" >Clerk</td>\n",
              "      <td id=\"T_6648c_row0_col2\" class=\"data row0 col2\" >10000</td>\n",
              "    </tr>\n",
              "    <tr>\n",
              "      <td id=\"T_6648c_row1_col0\" class=\"data row1 col0\" >Sehwag</td>\n",
              "      <td id=\"T_6648c_row1_col1\" class=\"data row1 col1\" >Cus_Rep</td>\n",
              "      <td id=\"T_6648c_row1_col2\" class=\"data row1 col2\" >15000</td>\n",
              "    </tr>\n",
              "    <tr>\n",
              "      <td id=\"T_6648c_row2_col0\" class=\"data row2 col0\" >Dhoni</td>\n",
              "      <td id=\"T_6648c_row2_col1\" class=\"data row2 col1\" >Clerk</td>\n",
              "      <td id=\"T_6648c_row2_col2\" class=\"data row2 col2\" >9000</td>\n",
              "    </tr>\n",
              "    <tr>\n",
              "      <td id=\"T_6648c_row3_col0\" class=\"data row3 col0\" >Dalmia</td>\n",
              "      <td id=\"T_6648c_row3_col1\" class=\"data row3 col1\" >Clerk</td>\n",
              "      <td id=\"T_6648c_row3_col2\" class=\"data row3 col2\" >12000</td>\n",
              "    </tr>\n",
              "    <tr>\n",
              "      <td id=\"T_6648c_row4_col0\" class=\"data row4 col0\" >Ganguly</td>\n",
              "      <td id=\"T_6648c_row4_col1\" class=\"data row4 col1\" >Cus_Rep</td>\n",
              "      <td id=\"T_6648c_row4_col2\" class=\"data row4 col2\" >20000</td>\n",
              "    </tr>\n",
              "    <tr>\n",
              "      <td id=\"T_6648c_row5_col0\" class=\"data row5 col0\" >Mirza</td>\n",
              "      <td id=\"T_6648c_row5_col1\" class=\"data row5 col1\" >Cus_Rep</td>\n",
              "      <td id=\"T_6648c_row5_col2\" class=\"data row5 col2\" >25000</td>\n",
              "    </tr>\n",
              "  </tbody>\n",
              "</table>\n"
            ]
          },
          "metadata": {},
          "execution_count": 34
        }
      ]
    },
    {
      "cell_type": "code",
      "source": [
        "runSelect(\"select lastname, jobdesc, salary from empl where (jobdesc = 'Cus_Rep' or jobdesc = 'Clerk') and salary < 16000\")"
      ],
      "metadata": {
        "colab": {
          "base_uri": "https://localhost:8080/",
          "height": 175
        },
        "id": "g7hbzjdxuOt6",
        "outputId": "c74a46f1-0f15-4888-fb74-99f845ce3ab4"
      },
      "execution_count": 35,
      "outputs": [
        {
          "output_type": "execute_result",
          "data": {
            "text/plain": [
              "<pandas.io.formats.style.Styler at 0x79a16afda650>"
            ],
            "text/html": [
              "<style type=\"text/css\">\n",
              "</style>\n",
              "<table id=\"T_dafa3\" class=\"dataframe\">\n",
              "  <thead>\n",
              "    <tr>\n",
              "      <th id=\"T_dafa3_level0_col0\" class=\"col_heading level0 col0\" >lastname</th>\n",
              "      <th id=\"T_dafa3_level0_col1\" class=\"col_heading level0 col1\" >jobdesc</th>\n",
              "      <th id=\"T_dafa3_level0_col2\" class=\"col_heading level0 col2\" >salary</th>\n",
              "    </tr>\n",
              "  </thead>\n",
              "  <tbody>\n",
              "    <tr>\n",
              "      <td id=\"T_dafa3_row0_col0\" class=\"data row0 col0\" >Dikshit</td>\n",
              "      <td id=\"T_dafa3_row0_col1\" class=\"data row0 col1\" >Clerk</td>\n",
              "      <td id=\"T_dafa3_row0_col2\" class=\"data row0 col2\" >10000</td>\n",
              "    </tr>\n",
              "    <tr>\n",
              "      <td id=\"T_dafa3_row1_col0\" class=\"data row1 col0\" >Sehwag</td>\n",
              "      <td id=\"T_dafa3_row1_col1\" class=\"data row1 col1\" >Cus_Rep</td>\n",
              "      <td id=\"T_dafa3_row1_col2\" class=\"data row1 col2\" >15000</td>\n",
              "    </tr>\n",
              "    <tr>\n",
              "      <td id=\"T_dafa3_row2_col0\" class=\"data row2 col0\" >Dhoni</td>\n",
              "      <td id=\"T_dafa3_row2_col1\" class=\"data row2 col1\" >Clerk</td>\n",
              "      <td id=\"T_dafa3_row2_col2\" class=\"data row2 col2\" >9000</td>\n",
              "    </tr>\n",
              "    <tr>\n",
              "      <td id=\"T_dafa3_row3_col0\" class=\"data row3 col0\" >Dalmia</td>\n",
              "      <td id=\"T_dafa3_row3_col1\" class=\"data row3 col1\" >Clerk</td>\n",
              "      <td id=\"T_dafa3_row3_col2\" class=\"data row3 col2\" >12000</td>\n",
              "    </tr>\n",
              "  </tbody>\n",
              "</table>\n"
            ]
          },
          "metadata": {},
          "execution_count": 35
        }
      ]
    },
    {
      "cell_type": "markdown",
      "source": [
        "# Single Row Functions"
      ],
      "metadata": {
        "id": "ND-8LYQcxsG2"
      }
    },
    {
      "cell_type": "code",
      "source": [
        "runSelect(\"select lastname, deptid, salary, comm, salary+salary*comm payout from empl where deptid = '20'\")"
      ],
      "metadata": {
        "colab": {
          "base_uri": "https://localhost:8080/",
          "height": 143
        },
        "id": "s71weE_hyDwf",
        "outputId": "e8d51d94-78d2-4468-bd95-d06457081317"
      },
      "execution_count": 36,
      "outputs": [
        {
          "output_type": "execute_result",
          "data": {
            "text/plain": [
              "<pandas.io.formats.style.Styler at 0x79a16afcce50>"
            ],
            "text/html": [
              "<style type=\"text/css\">\n",
              "</style>\n",
              "<table id=\"T_004db\" class=\"dataframe\">\n",
              "  <thead>\n",
              "    <tr>\n",
              "      <th id=\"T_004db_level0_col0\" class=\"col_heading level0 col0\" >lastname</th>\n",
              "      <th id=\"T_004db_level0_col1\" class=\"col_heading level0 col1\" >deptid</th>\n",
              "      <th id=\"T_004db_level0_col2\" class=\"col_heading level0 col2\" >salary</th>\n",
              "      <th id=\"T_004db_level0_col3\" class=\"col_heading level0 col3\" >comm</th>\n",
              "      <th id=\"T_004db_level0_col4\" class=\"col_heading level0 col4\" >payout</th>\n",
              "    </tr>\n",
              "  </thead>\n",
              "  <tbody>\n",
              "    <tr>\n",
              "      <td id=\"T_004db_row0_col0\" class=\"data row0 col0\" >Dikshit</td>\n",
              "      <td id=\"T_004db_row0_col1\" class=\"data row0 col1\" >20</td>\n",
              "      <td id=\"T_004db_row0_col2\" class=\"data row0 col2\" >10000</td>\n",
              "      <td id=\"T_004db_row0_col3\" class=\"data row0 col3\" >0.02</td>\n",
              "      <td id=\"T_004db_row0_col4\" class=\"data row0 col4\" >10200.00</td>\n",
              "    </tr>\n",
              "    <tr>\n",
              "      <td id=\"T_004db_row1_col0\" class=\"data row1 col0\" >Khan</td>\n",
              "      <td id=\"T_004db_row1_col1\" class=\"data row1 col1\" >20</td>\n",
              "      <td id=\"T_004db_row1_col2\" class=\"data row1 col2\" >30000</td>\n",
              "      <td id=\"T_004db_row1_col3\" class=\"data row1 col3\" >0.07</td>\n",
              "      <td id=\"T_004db_row1_col4\" class=\"data row1 col4\" >32100.00</td>\n",
              "    </tr>\n",
              "    <tr>\n",
              "      <td id=\"T_004db_row2_col0\" class=\"data row2 col0\" >Sehwag</td>\n",
              "      <td id=\"T_004db_row2_col1\" class=\"data row2 col1\" >20</td>\n",
              "      <td id=\"T_004db_row2_col2\" class=\"data row2 col2\" >15000</td>\n",
              "      <td id=\"T_004db_row2_col3\" class=\"data row2 col3\" >0.05</td>\n",
              "      <td id=\"T_004db_row2_col4\" class=\"data row2 col4\" >15750.00</td>\n",
              "    </tr>\n",
              "  </tbody>\n",
              "</table>\n"
            ]
          },
          "metadata": {},
          "execution_count": 36
        }
      ]
    },
    {
      "cell_type": "code",
      "source": [
        "runSelect(\"select lastname, firstname, deptid, substring(firstname,1,3) nick from empl where deptid = '20'\")"
      ],
      "metadata": {
        "colab": {
          "base_uri": "https://localhost:8080/",
          "height": 143
        },
        "id": "I3rkoZrYyb_P",
        "outputId": "129bb14a-0bb3-4423-9e2f-99e5297e3b90"
      },
      "execution_count": 37,
      "outputs": [
        {
          "output_type": "execute_result",
          "data": {
            "text/plain": [
              "<pandas.io.formats.style.Styler at 0x79a16afda470>"
            ],
            "text/html": [
              "<style type=\"text/css\">\n",
              "</style>\n",
              "<table id=\"T_7017e\" class=\"dataframe\">\n",
              "  <thead>\n",
              "    <tr>\n",
              "      <th id=\"T_7017e_level0_col0\" class=\"col_heading level0 col0\" >lastname</th>\n",
              "      <th id=\"T_7017e_level0_col1\" class=\"col_heading level0 col1\" >firstname</th>\n",
              "      <th id=\"T_7017e_level0_col2\" class=\"col_heading level0 col2\" >deptid</th>\n",
              "      <th id=\"T_7017e_level0_col3\" class=\"col_heading level0 col3\" >nick</th>\n",
              "    </tr>\n",
              "  </thead>\n",
              "  <tbody>\n",
              "    <tr>\n",
              "      <td id=\"T_7017e_row0_col0\" class=\"data row0 col0\" >Dikshit</td>\n",
              "      <td id=\"T_7017e_row0_col1\" class=\"data row0 col1\" >Madhuri</td>\n",
              "      <td id=\"T_7017e_row0_col2\" class=\"data row0 col2\" >20</td>\n",
              "      <td id=\"T_7017e_row0_col3\" class=\"data row0 col3\" >Mad</td>\n",
              "    </tr>\n",
              "    <tr>\n",
              "      <td id=\"T_7017e_row1_col0\" class=\"data row1 col0\" >Khan</td>\n",
              "      <td id=\"T_7017e_row1_col1\" class=\"data row1 col1\" >Shahrukh</td>\n",
              "      <td id=\"T_7017e_row1_col2\" class=\"data row1 col2\" >20</td>\n",
              "      <td id=\"T_7017e_row1_col3\" class=\"data row1 col3\" >Sha</td>\n",
              "    </tr>\n",
              "    <tr>\n",
              "      <td id=\"T_7017e_row2_col0\" class=\"data row2 col0\" >Sehwag</td>\n",
              "      <td id=\"T_7017e_row2_col1\" class=\"data row2 col1\" >Virender</td>\n",
              "      <td id=\"T_7017e_row2_col2\" class=\"data row2 col2\" >20</td>\n",
              "      <td id=\"T_7017e_row2_col3\" class=\"data row2 col3\" >Vir</td>\n",
              "    </tr>\n",
              "  </tbody>\n",
              "</table>\n"
            ]
          },
          "metadata": {},
          "execution_count": 37
        }
      ]
    },
    {
      "cell_type": "code",
      "source": [
        "runSelect(\"select lastname, firstname, deptid, concat('\\\"',substring(firstname,2,3),'\\\" ',lastname) nick from empl where deptid = '20'\")"
      ],
      "metadata": {
        "colab": {
          "base_uri": "https://localhost:8080/",
          "height": 143
        },
        "id": "xNQl1KpSzIQc",
        "outputId": "5778d2cd-cbab-4967-bca7-f7468ea83903"
      },
      "execution_count": 38,
      "outputs": [
        {
          "output_type": "execute_result",
          "data": {
            "text/plain": [
              "<pandas.io.formats.style.Styler at 0x79a16afdae90>"
            ],
            "text/html": [
              "<style type=\"text/css\">\n",
              "</style>\n",
              "<table id=\"T_6f6b0\" class=\"dataframe\">\n",
              "  <thead>\n",
              "    <tr>\n",
              "      <th id=\"T_6f6b0_level0_col0\" class=\"col_heading level0 col0\" >lastname</th>\n",
              "      <th id=\"T_6f6b0_level0_col1\" class=\"col_heading level0 col1\" >firstname</th>\n",
              "      <th id=\"T_6f6b0_level0_col2\" class=\"col_heading level0 col2\" >deptid</th>\n",
              "      <th id=\"T_6f6b0_level0_col3\" class=\"col_heading level0 col3\" >nick</th>\n",
              "    </tr>\n",
              "  </thead>\n",
              "  <tbody>\n",
              "    <tr>\n",
              "      <td id=\"T_6f6b0_row0_col0\" class=\"data row0 col0\" >Dikshit</td>\n",
              "      <td id=\"T_6f6b0_row0_col1\" class=\"data row0 col1\" >Madhuri</td>\n",
              "      <td id=\"T_6f6b0_row0_col2\" class=\"data row0 col2\" >20</td>\n",
              "      <td id=\"T_6f6b0_row0_col3\" class=\"data row0 col3\" >\"adh\" Dikshit</td>\n",
              "    </tr>\n",
              "    <tr>\n",
              "      <td id=\"T_6f6b0_row1_col0\" class=\"data row1 col0\" >Khan</td>\n",
              "      <td id=\"T_6f6b0_row1_col1\" class=\"data row1 col1\" >Shahrukh</td>\n",
              "      <td id=\"T_6f6b0_row1_col2\" class=\"data row1 col2\" >20</td>\n",
              "      <td id=\"T_6f6b0_row1_col3\" class=\"data row1 col3\" >\"hah\" Khan</td>\n",
              "    </tr>\n",
              "    <tr>\n",
              "      <td id=\"T_6f6b0_row2_col0\" class=\"data row2 col0\" >Sehwag</td>\n",
              "      <td id=\"T_6f6b0_row2_col1\" class=\"data row2 col1\" >Virender</td>\n",
              "      <td id=\"T_6f6b0_row2_col2\" class=\"data row2 col2\" >20</td>\n",
              "      <td id=\"T_6f6b0_row2_col3\" class=\"data row2 col3\" >\"ire\" Sehwag</td>\n",
              "    </tr>\n",
              "  </tbody>\n",
              "</table>\n"
            ]
          },
          "metadata": {},
          "execution_count": 38
        }
      ]
    },
    {
      "cell_type": "code",
      "source": [
        "runSelect(\"select LastName, Current_Date,JoinDate, to_char(JoinDate,'Day') JoinDay, to_char(JoinDate,'DD-mon-YY') JoinDate2, \\\n",
        "Current_Date-JoinDate DaysSince from Empl\")\n",
        "\n",
        "#https://blog.quest.com/exploring-postgres-date-formats-and-their-different-functions/\n"
      ],
      "metadata": {
        "id": "37Rjgkxz-BP0",
        "outputId": "945b7d05-b946-4e09-d875-15a1453a3b8b",
        "colab": {
          "base_uri": "https://localhost:8080/",
          "height": 457
        }
      },
      "execution_count": 39,
      "outputs": [
        {
          "output_type": "execute_result",
          "data": {
            "text/plain": [
              "<pandas.io.formats.style.Styler at 0x79a16afdb940>"
            ],
            "text/html": [
              "<style type=\"text/css\">\n",
              "</style>\n",
              "<table id=\"T_cf7d7\" class=\"dataframe\">\n",
              "  <thead>\n",
              "    <tr>\n",
              "      <th id=\"T_cf7d7_level0_col0\" class=\"col_heading level0 col0\" >lastname</th>\n",
              "      <th id=\"T_cf7d7_level0_col1\" class=\"col_heading level0 col1\" >current_date</th>\n",
              "      <th id=\"T_cf7d7_level0_col2\" class=\"col_heading level0 col2\" >joindate</th>\n",
              "      <th id=\"T_cf7d7_level0_col3\" class=\"col_heading level0 col3\" >joinday</th>\n",
              "      <th id=\"T_cf7d7_level0_col4\" class=\"col_heading level0 col4\" >joindate2</th>\n",
              "      <th id=\"T_cf7d7_level0_col5\" class=\"col_heading level0 col5\" >dayssince</th>\n",
              "    </tr>\n",
              "  </thead>\n",
              "  <tbody>\n",
              "    <tr>\n",
              "      <td id=\"T_cf7d7_row0_col0\" class=\"data row0 col0\" >Bacchan</td>\n",
              "      <td id=\"T_cf7d7_row0_col1\" class=\"data row0 col1\" >2024-08-07</td>\n",
              "      <td id=\"T_cf7d7_row0_col2\" class=\"data row0 col2\" >2003-03-10</td>\n",
              "      <td id=\"T_cf7d7_row0_col3\" class=\"data row0 col3\" >Monday   </td>\n",
              "      <td id=\"T_cf7d7_row0_col4\" class=\"data row0 col4\" >10-mar-03</td>\n",
              "      <td id=\"T_cf7d7_row0_col5\" class=\"data row0 col5\" >7821</td>\n",
              "    </tr>\n",
              "    <tr>\n",
              "      <td id=\"T_cf7d7_row1_col0\" class=\"data row1 col0\" >Mukherjee</td>\n",
              "      <td id=\"T_cf7d7_row1_col1\" class=\"data row1 col1\" >2024-08-07</td>\n",
              "      <td id=\"T_cf7d7_row1_col2\" class=\"data row1 col2\" >2005-05-04</td>\n",
              "      <td id=\"T_cf7d7_row1_col3\" class=\"data row1 col3\" >Wednesday</td>\n",
              "      <td id=\"T_cf7d7_row1_col4\" class=\"data row1 col4\" >04-may-05</td>\n",
              "      <td id=\"T_cf7d7_row1_col5\" class=\"data row1 col5\" >7035</td>\n",
              "    </tr>\n",
              "    <tr>\n",
              "      <td id=\"T_cf7d7_row2_col0\" class=\"data row2 col0\" >Dikshit</td>\n",
              "      <td id=\"T_cf7d7_row2_col1\" class=\"data row2 col1\" >2024-08-07</td>\n",
              "      <td id=\"T_cf7d7_row2_col2\" class=\"data row2 col2\" >2002-04-04</td>\n",
              "      <td id=\"T_cf7d7_row2_col3\" class=\"data row2 col3\" >Thursday </td>\n",
              "      <td id=\"T_cf7d7_row2_col4\" class=\"data row2 col4\" >04-apr-02</td>\n",
              "      <td id=\"T_cf7d7_row2_col5\" class=\"data row2 col5\" >8161</td>\n",
              "    </tr>\n",
              "    <tr>\n",
              "      <td id=\"T_cf7d7_row3_col0\" class=\"data row3 col0\" >Khan</td>\n",
              "      <td id=\"T_cf7d7_row3_col1\" class=\"data row3 col1\" >2024-08-07</td>\n",
              "      <td id=\"T_cf7d7_row3_col2\" class=\"data row3 col2\" >2004-01-03</td>\n",
              "      <td id=\"T_cf7d7_row3_col3\" class=\"data row3 col3\" >Saturday </td>\n",
              "      <td id=\"T_cf7d7_row3_col4\" class=\"data row3 col4\" >03-jan-04</td>\n",
              "      <td id=\"T_cf7d7_row3_col5\" class=\"data row3 col5\" >7522</td>\n",
              "    </tr>\n",
              "    <tr>\n",
              "      <td id=\"T_cf7d7_row4_col0\" class=\"data row4 col0\" >Sehwag</td>\n",
              "      <td id=\"T_cf7d7_row4_col1\" class=\"data row4 col1\" >2024-08-07</td>\n",
              "      <td id=\"T_cf7d7_row4_col2\" class=\"data row4 col2\" >2005-01-02</td>\n",
              "      <td id=\"T_cf7d7_row4_col3\" class=\"data row4 col3\" >Sunday   </td>\n",
              "      <td id=\"T_cf7d7_row4_col4\" class=\"data row4 col4\" >02-jan-05</td>\n",
              "      <td id=\"T_cf7d7_row4_col5\" class=\"data row4 col5\" >7157</td>\n",
              "    </tr>\n",
              "    <tr>\n",
              "      <td id=\"T_cf7d7_row5_col0\" class=\"data row5 col0\" >Dhoni</td>\n",
              "      <td id=\"T_cf7d7_row5_col1\" class=\"data row5 col1\" >2024-08-07</td>\n",
              "      <td id=\"T_cf7d7_row5_col2\" class=\"data row5 col2\" >2004-10-09</td>\n",
              "      <td id=\"T_cf7d7_row5_col3\" class=\"data row5 col3\" >Saturday </td>\n",
              "      <td id=\"T_cf7d7_row5_col4\" class=\"data row5 col4\" >09-oct-04</td>\n",
              "      <td id=\"T_cf7d7_row5_col5\" class=\"data row5 col5\" >7242</td>\n",
              "    </tr>\n",
              "    <tr>\n",
              "      <td id=\"T_cf7d7_row6_col0\" class=\"data row6 col0\" >Dravid</td>\n",
              "      <td id=\"T_cf7d7_row6_col1\" class=\"data row6 col1\" >2024-08-07</td>\n",
              "      <td id=\"T_cf7d7_row6_col2\" class=\"data row6 col2\" >2000-06-04</td>\n",
              "      <td id=\"T_cf7d7_row6_col3\" class=\"data row6 col3\" >Sunday   </td>\n",
              "      <td id=\"T_cf7d7_row6_col4\" class=\"data row6 col4\" >04-jun-00</td>\n",
              "      <td id=\"T_cf7d7_row6_col5\" class=\"data row6 col5\" >8830</td>\n",
              "    </tr>\n",
              "    <tr>\n",
              "      <td id=\"T_cf7d7_row7_col0\" class=\"data row7 col0\" >Dalmia</td>\n",
              "      <td id=\"T_cf7d7_row7_col1\" class=\"data row7 col1\" >2024-08-07</td>\n",
              "      <td id=\"T_cf7d7_row7_col2\" class=\"data row7 col2\" >2001-07-01</td>\n",
              "      <td id=\"T_cf7d7_row7_col3\" class=\"data row7 col3\" >Sunday   </td>\n",
              "      <td id=\"T_cf7d7_row7_col4\" class=\"data row7 col4\" >01-jul-01</td>\n",
              "      <td id=\"T_cf7d7_row7_col5\" class=\"data row7 col5\" >8438</td>\n",
              "    </tr>\n",
              "    <tr>\n",
              "      <td id=\"T_cf7d7_row8_col0\" class=\"data row8 col0\" >Ganguly</td>\n",
              "      <td id=\"T_cf7d7_row8_col1\" class=\"data row8 col1\" >2024-08-07</td>\n",
              "      <td id=\"T_cf7d7_row8_col2\" class=\"data row8 col2\" >2002-01-01</td>\n",
              "      <td id=\"T_cf7d7_row8_col3\" class=\"data row8 col3\" >Tuesday  </td>\n",
              "      <td id=\"T_cf7d7_row8_col4\" class=\"data row8 col4\" >01-jan-02</td>\n",
              "      <td id=\"T_cf7d7_row8_col5\" class=\"data row8 col5\" >8254</td>\n",
              "    </tr>\n",
              "    <tr>\n",
              "      <td id=\"T_cf7d7_row9_col0\" class=\"data row9 col0\" >Ganesan</td>\n",
              "      <td id=\"T_cf7d7_row9_col1\" class=\"data row9 col1\" >2024-08-07</td>\n",
              "      <td id=\"T_cf7d7_row9_col2\" class=\"data row9 col2\" >2002-10-10</td>\n",
              "      <td id=\"T_cf7d7_row9_col3\" class=\"data row9 col3\" >Thursday </td>\n",
              "      <td id=\"T_cf7d7_row9_col4\" class=\"data row9 col4\" >10-oct-02</td>\n",
              "      <td id=\"T_cf7d7_row9_col5\" class=\"data row9 col5\" >7972</td>\n",
              "    </tr>\n",
              "    <tr>\n",
              "      <td id=\"T_cf7d7_row10_col0\" class=\"data row10 col0\" >Karthikeyan</td>\n",
              "      <td id=\"T_cf7d7_row10_col1\" class=\"data row10 col1\" >2024-08-07</td>\n",
              "      <td id=\"T_cf7d7_row10_col2\" class=\"data row10 col2\" >2005-12-04</td>\n",
              "      <td id=\"T_cf7d7_row10_col3\" class=\"data row10 col3\" >Sunday   </td>\n",
              "      <td id=\"T_cf7d7_row10_col4\" class=\"data row10 col4\" >04-dec-05</td>\n",
              "      <td id=\"T_cf7d7_row10_col5\" class=\"data row10 col5\" >6821</td>\n",
              "    </tr>\n",
              "    <tr>\n",
              "      <td id=\"T_cf7d7_row11_col0\" class=\"data row11 col0\" >Sunil</td>\n",
              "      <td id=\"T_cf7d7_row11_col1\" class=\"data row11 col1\" >2024-08-07</td>\n",
              "      <td id=\"T_cf7d7_row11_col2\" class=\"data row11 col2\" >2006-12-07</td>\n",
              "      <td id=\"T_cf7d7_row11_col3\" class=\"data row11 col3\" >Thursday </td>\n",
              "      <td id=\"T_cf7d7_row11_col4\" class=\"data row11 col4\" >07-dec-06</td>\n",
              "      <td id=\"T_cf7d7_row11_col5\" class=\"data row11 col5\" >6453</td>\n",
              "    </tr>\n",
              "    <tr>\n",
              "      <td id=\"T_cf7d7_row12_col0\" class=\"data row12 col0\" >Mirza</td>\n",
              "      <td id=\"T_cf7d7_row12_col1\" class=\"data row12 col1\" >2024-08-07</td>\n",
              "      <td id=\"T_cf7d7_row12_col2\" class=\"data row12 col2\" >2001-11-19</td>\n",
              "      <td id=\"T_cf7d7_row12_col3\" class=\"data row12 col3\" >Monday   </td>\n",
              "      <td id=\"T_cf7d7_row12_col4\" class=\"data row12 col4\" >19-nov-01</td>\n",
              "      <td id=\"T_cf7d7_row12_col5\" class=\"data row12 col5\" >8297</td>\n",
              "    </tr>\n",
              "  </tbody>\n",
              "</table>\n"
            ]
          },
          "metadata": {},
          "execution_count": 39
        }
      ]
    },
    {
      "cell_type": "markdown",
      "source": [
        "# MultiRow Function | Group By | Having\n",
        "for more complex examples that demonstrate Grouping Sets, Cubes, Roll UP, Crosstabs and other OLAP related SQL see [this notebook](https://github.com/Praxis-QR/RDWH/blob/main/PostgreSQL_03B_SQL_Level2.ipynb)"
      ],
      "metadata": {
        "id": "ONgFWUTC2IPK"
      }
    },
    {
      "cell_type": "code",
      "source": [
        "runSelect(\"select sum(salary) Total_Salary from empl\")"
      ],
      "metadata": {
        "colab": {
          "base_uri": "https://localhost:8080/",
          "height": 81
        },
        "id": "7MnnzfJx2PSc",
        "outputId": "c7dd7cd2-fddc-4f10-c920-a493c5497181"
      },
      "execution_count": 40,
      "outputs": [
        {
          "output_type": "execute_result",
          "data": {
            "text/plain": [
              "<pandas.io.formats.style.Styler at 0x79a16afd8d60>"
            ],
            "text/html": [
              "<style type=\"text/css\">\n",
              "</style>\n",
              "<table id=\"T_74d02\" class=\"dataframe\">\n",
              "  <thead>\n",
              "    <tr>\n",
              "      <th id=\"T_74d02_level0_col0\" class=\"col_heading level0 col0\" >total_salary</th>\n",
              "    </tr>\n",
              "  </thead>\n",
              "  <tbody>\n",
              "    <tr>\n",
              "      <td id=\"T_74d02_row0_col0\" class=\"data row0 col0\" >376000</td>\n",
              "    </tr>\n",
              "  </tbody>\n",
              "</table>\n"
            ]
          },
          "metadata": {},
          "execution_count": 40
        }
      ]
    },
    {
      "cell_type": "code",
      "source": [
        "runSelect(\"select round(avg(salary),2) Average_Salary from empl\")"
      ],
      "metadata": {
        "colab": {
          "base_uri": "https://localhost:8080/",
          "height": 81
        },
        "id": "e3Avb-HL4QPD",
        "outputId": "16e4c815-b0ac-41ed-9000-a7bacf2043ff"
      },
      "execution_count": 41,
      "outputs": [
        {
          "output_type": "execute_result",
          "data": {
            "text/plain": [
              "<pandas.io.formats.style.Styler at 0x79a16b026e30>"
            ],
            "text/html": [
              "<style type=\"text/css\">\n",
              "</style>\n",
              "<table id=\"T_f3e3c\" class=\"dataframe\">\n",
              "  <thead>\n",
              "    <tr>\n",
              "      <th id=\"T_f3e3c_level0_col0\" class=\"col_heading level0 col0\" >average_salary</th>\n",
              "    </tr>\n",
              "  </thead>\n",
              "  <tbody>\n",
              "    <tr>\n",
              "      <td id=\"T_f3e3c_row0_col0\" class=\"data row0 col0\" >28923.08</td>\n",
              "    </tr>\n",
              "  </tbody>\n",
              "</table>\n"
            ]
          },
          "metadata": {},
          "execution_count": 41
        }
      ]
    },
    {
      "cell_type": "code",
      "source": [
        "runSelect(\"select max(salary) Max_Salary from empl\")"
      ],
      "metadata": {
        "colab": {
          "base_uri": "https://localhost:8080/",
          "height": 81
        },
        "id": "Oe1qRQbI4gtY",
        "outputId": "96ece4c3-a1f2-42b6-8585-bb963f4deca5"
      },
      "execution_count": 42,
      "outputs": [
        {
          "output_type": "execute_result",
          "data": {
            "text/plain": [
              "<pandas.io.formats.style.Styler at 0x79a16b0245b0>"
            ],
            "text/html": [
              "<style type=\"text/css\">\n",
              "</style>\n",
              "<table id=\"T_512ee\" class=\"dataframe\">\n",
              "  <thead>\n",
              "    <tr>\n",
              "      <th id=\"T_512ee_level0_col0\" class=\"col_heading level0 col0\" >max_salary</th>\n",
              "    </tr>\n",
              "  </thead>\n",
              "  <tbody>\n",
              "    <tr>\n",
              "      <td id=\"T_512ee_row0_col0\" class=\"data row0 col0\" >60000</td>\n",
              "    </tr>\n",
              "  </tbody>\n",
              "</table>\n"
            ]
          },
          "metadata": {},
          "execution_count": 42
        }
      ]
    },
    {
      "cell_type": "code",
      "source": [
        "runSelect(\"select deptid, sum(salary) Total, max(salary) Max from empl group by deptid\")"
      ],
      "metadata": {
        "colab": {
          "base_uri": "https://localhost:8080/",
          "height": 206
        },
        "id": "xpmGXSAX69iU",
        "outputId": "eb1cce94-3024-4c34-f85d-777dd1103ebc"
      },
      "execution_count": 43,
      "outputs": [
        {
          "output_type": "execute_result",
          "data": {
            "text/plain": [
              "<pandas.io.formats.style.Styler at 0x79a16afd9b70>"
            ],
            "text/html": [
              "<style type=\"text/css\">\n",
              "</style>\n",
              "<table id=\"T_39de4\" class=\"dataframe\">\n",
              "  <thead>\n",
              "    <tr>\n",
              "      <th id=\"T_39de4_level0_col0\" class=\"col_heading level0 col0\" >deptid</th>\n",
              "      <th id=\"T_39de4_level0_col1\" class=\"col_heading level0 col1\" >total</th>\n",
              "      <th id=\"T_39de4_level0_col2\" class=\"col_heading level0 col2\" >max</th>\n",
              "    </tr>\n",
              "  </thead>\n",
              "  <tbody>\n",
              "    <tr>\n",
              "      <td id=\"T_39de4_row0_col0\" class=\"data row0 col0\" >10</td>\n",
              "      <td id=\"T_39de4_row0_col1\" class=\"data row0 col1\" >150000</td>\n",
              "      <td id=\"T_39de4_row0_col2\" class=\"data row0 col2\" >60000</td>\n",
              "    </tr>\n",
              "    <tr>\n",
              "      <td id=\"T_39de4_row1_col0\" class=\"data row1 col0\" >40</td>\n",
              "      <td id=\"T_39de4_row1_col1\" class=\"data row1 col1\" >54000</td>\n",
              "      <td id=\"T_39de4_row1_col2\" class=\"data row1 col2\" >25000</td>\n",
              "    </tr>\n",
              "    <tr>\n",
              "      <td id=\"T_39de4_row2_col0\" class=\"data row2 col0\" >70</td>\n",
              "      <td id=\"T_39de4_row2_col1\" class=\"data row2 col1\" >40000</td>\n",
              "      <td id=\"T_39de4_row2_col2\" class=\"data row2 col2\" >40000</td>\n",
              "    </tr>\n",
              "    <tr>\n",
              "      <td id=\"T_39de4_row3_col0\" class=\"data row3 col0\" >20</td>\n",
              "      <td id=\"T_39de4_row3_col1\" class=\"data row3 col1\" >55000</td>\n",
              "      <td id=\"T_39de4_row3_col2\" class=\"data row3 col2\" >30000</td>\n",
              "    </tr>\n",
              "    <tr>\n",
              "      <td id=\"T_39de4_row4_col0\" class=\"data row4 col0\" >30</td>\n",
              "      <td id=\"T_39de4_row4_col1\" class=\"data row4 col1\" >77000</td>\n",
              "      <td id=\"T_39de4_row4_col2\" class=\"data row4 col2\" >40000</td>\n",
              "    </tr>\n",
              "  </tbody>\n",
              "</table>\n"
            ]
          },
          "metadata": {},
          "execution_count": 43
        }
      ]
    },
    {
      "cell_type": "code",
      "source": [
        "runSelect(\"select deptid, sum(salary) Total, max(salary) Max from empl group by deptid having sum(salary) > 50000\")"
      ],
      "metadata": {
        "colab": {
          "base_uri": "https://localhost:8080/",
          "height": 175
        },
        "id": "AdNDutZl7LCF",
        "outputId": "e682d033-1fe5-4821-c1e4-c1c5ea99d471"
      },
      "execution_count": 44,
      "outputs": [
        {
          "output_type": "execute_result",
          "data": {
            "text/plain": [
              "<pandas.io.formats.style.Styler at 0x79a16b0240a0>"
            ],
            "text/html": [
              "<style type=\"text/css\">\n",
              "</style>\n",
              "<table id=\"T_9b6ad\" class=\"dataframe\">\n",
              "  <thead>\n",
              "    <tr>\n",
              "      <th id=\"T_9b6ad_level0_col0\" class=\"col_heading level0 col0\" >deptid</th>\n",
              "      <th id=\"T_9b6ad_level0_col1\" class=\"col_heading level0 col1\" >total</th>\n",
              "      <th id=\"T_9b6ad_level0_col2\" class=\"col_heading level0 col2\" >max</th>\n",
              "    </tr>\n",
              "  </thead>\n",
              "  <tbody>\n",
              "    <tr>\n",
              "      <td id=\"T_9b6ad_row0_col0\" class=\"data row0 col0\" >10</td>\n",
              "      <td id=\"T_9b6ad_row0_col1\" class=\"data row0 col1\" >150000</td>\n",
              "      <td id=\"T_9b6ad_row0_col2\" class=\"data row0 col2\" >60000</td>\n",
              "    </tr>\n",
              "    <tr>\n",
              "      <td id=\"T_9b6ad_row1_col0\" class=\"data row1 col0\" >40</td>\n",
              "      <td id=\"T_9b6ad_row1_col1\" class=\"data row1 col1\" >54000</td>\n",
              "      <td id=\"T_9b6ad_row1_col2\" class=\"data row1 col2\" >25000</td>\n",
              "    </tr>\n",
              "    <tr>\n",
              "      <td id=\"T_9b6ad_row2_col0\" class=\"data row2 col0\" >20</td>\n",
              "      <td id=\"T_9b6ad_row2_col1\" class=\"data row2 col1\" >55000</td>\n",
              "      <td id=\"T_9b6ad_row2_col2\" class=\"data row2 col2\" >30000</td>\n",
              "    </tr>\n",
              "    <tr>\n",
              "      <td id=\"T_9b6ad_row3_col0\" class=\"data row3 col0\" >30</td>\n",
              "      <td id=\"T_9b6ad_row3_col1\" class=\"data row3 col1\" >77000</td>\n",
              "      <td id=\"T_9b6ad_row3_col2\" class=\"data row3 col2\" >40000</td>\n",
              "    </tr>\n",
              "  </tbody>\n",
              "</table>\n"
            ]
          },
          "metadata": {},
          "execution_count": 44
        }
      ]
    },
    {
      "cell_type": "code",
      "source": [
        "runSelect(\"select deptid, sum(salary) Total, max(salary) Max from empl group by deptid having sum(salary) > 50000 and max(salary) < 35000\")"
      ],
      "metadata": {
        "colab": {
          "base_uri": "https://localhost:8080/",
          "height": 112
        },
        "id": "4VFmL5JF7bYo",
        "outputId": "686479bb-ad97-454b-a560-de5bdad552e5"
      },
      "execution_count": 45,
      "outputs": [
        {
          "output_type": "execute_result",
          "data": {
            "text/plain": [
              "<pandas.io.formats.style.Styler at 0x79a16b027cd0>"
            ],
            "text/html": [
              "<style type=\"text/css\">\n",
              "</style>\n",
              "<table id=\"T_66cfc\" class=\"dataframe\">\n",
              "  <thead>\n",
              "    <tr>\n",
              "      <th id=\"T_66cfc_level0_col0\" class=\"col_heading level0 col0\" >deptid</th>\n",
              "      <th id=\"T_66cfc_level0_col1\" class=\"col_heading level0 col1\" >total</th>\n",
              "      <th id=\"T_66cfc_level0_col2\" class=\"col_heading level0 col2\" >max</th>\n",
              "    </tr>\n",
              "  </thead>\n",
              "  <tbody>\n",
              "    <tr>\n",
              "      <td id=\"T_66cfc_row0_col0\" class=\"data row0 col0\" >40</td>\n",
              "      <td id=\"T_66cfc_row0_col1\" class=\"data row0 col1\" >54000</td>\n",
              "      <td id=\"T_66cfc_row0_col2\" class=\"data row0 col2\" >25000</td>\n",
              "    </tr>\n",
              "    <tr>\n",
              "      <td id=\"T_66cfc_row1_col0\" class=\"data row1 col0\" >20</td>\n",
              "      <td id=\"T_66cfc_row1_col1\" class=\"data row1 col1\" >55000</td>\n",
              "      <td id=\"T_66cfc_row1_col2\" class=\"data row1 col2\" >30000</td>\n",
              "    </tr>\n",
              "  </tbody>\n",
              "</table>\n"
            ]
          },
          "metadata": {},
          "execution_count": 45
        }
      ]
    },
    {
      "cell_type": "markdown",
      "source": [
        "#Conditionals | CASE"
      ],
      "metadata": {
        "id": "xDsapsK8Afpj"
      }
    },
    {
      "cell_type": "code",
      "source": [
        "runSelect(\"select lastname, jobdesc, salary, comm, salary+salary*comm Payout,\\\n",
        "case when jobdesc like '%Manager' then 2000 else 0 end bonus from empl\")"
      ],
      "metadata": {
        "colab": {
          "base_uri": "https://localhost:8080/",
          "height": 457
        },
        "id": "bYRWDlVNAxKx",
        "outputId": "9353f10a-a426-4084-f360-7568d88261d8"
      },
      "execution_count": 46,
      "outputs": [
        {
          "output_type": "execute_result",
          "data": {
            "text/plain": [
              "<pandas.io.formats.style.Styler at 0x79a16b025ae0>"
            ],
            "text/html": [
              "<style type=\"text/css\">\n",
              "</style>\n",
              "<table id=\"T_c1b2d\" class=\"dataframe\">\n",
              "  <thead>\n",
              "    <tr>\n",
              "      <th id=\"T_c1b2d_level0_col0\" class=\"col_heading level0 col0\" >lastname</th>\n",
              "      <th id=\"T_c1b2d_level0_col1\" class=\"col_heading level0 col1\" >jobdesc</th>\n",
              "      <th id=\"T_c1b2d_level0_col2\" class=\"col_heading level0 col2\" >salary</th>\n",
              "      <th id=\"T_c1b2d_level0_col3\" class=\"col_heading level0 col3\" >comm</th>\n",
              "      <th id=\"T_c1b2d_level0_col4\" class=\"col_heading level0 col4\" >payout</th>\n",
              "      <th id=\"T_c1b2d_level0_col5\" class=\"col_heading level0 col5\" >bonus</th>\n",
              "    </tr>\n",
              "  </thead>\n",
              "  <tbody>\n",
              "    <tr>\n",
              "      <td id=\"T_c1b2d_row0_col0\" class=\"data row0 col0\" >Bacchan</td>\n",
              "      <td id=\"T_c1b2d_row0_col1\" class=\"data row0 col1\" >Executive</td>\n",
              "      <td id=\"T_c1b2d_row0_col2\" class=\"data row0 col2\" >50000</td>\n",
              "      <td id=\"T_c1b2d_row0_col3\" class=\"data row0 col3\" >0.10</td>\n",
              "      <td id=\"T_c1b2d_row0_col4\" class=\"data row0 col4\" >55000.00</td>\n",
              "      <td id=\"T_c1b2d_row0_col5\" class=\"data row0 col5\" >0</td>\n",
              "    </tr>\n",
              "    <tr>\n",
              "      <td id=\"T_c1b2d_row1_col0\" class=\"data row1 col0\" >Mukherjee</td>\n",
              "      <td id=\"T_c1b2d_row1_col1\" class=\"data row1 col1\" >Manager</td>\n",
              "      <td id=\"T_c1b2d_row1_col2\" class=\"data row1 col2\" >25000</td>\n",
              "      <td id=\"T_c1b2d_row1_col3\" class=\"data row1 col3\" >0.06</td>\n",
              "      <td id=\"T_c1b2d_row1_col4\" class=\"data row1 col4\" >26500.00</td>\n",
              "      <td id=\"T_c1b2d_row1_col5\" class=\"data row1 col5\" >2000</td>\n",
              "    </tr>\n",
              "    <tr>\n",
              "      <td id=\"T_c1b2d_row2_col0\" class=\"data row2 col0\" >Dikshit</td>\n",
              "      <td id=\"T_c1b2d_row2_col1\" class=\"data row2 col1\" >Clerk</td>\n",
              "      <td id=\"T_c1b2d_row2_col2\" class=\"data row2 col2\" >10000</td>\n",
              "      <td id=\"T_c1b2d_row2_col3\" class=\"data row2 col3\" >0.02</td>\n",
              "      <td id=\"T_c1b2d_row2_col4\" class=\"data row2 col4\" >10200.00</td>\n",
              "      <td id=\"T_c1b2d_row2_col5\" class=\"data row2 col5\" >0</td>\n",
              "    </tr>\n",
              "    <tr>\n",
              "      <td id=\"T_c1b2d_row3_col0\" class=\"data row3 col0\" >Khan</td>\n",
              "      <td id=\"T_c1b2d_row3_col1\" class=\"data row3 col1\" >Manager</td>\n",
              "      <td id=\"T_c1b2d_row3_col2\" class=\"data row3 col2\" >30000</td>\n",
              "      <td id=\"T_c1b2d_row3_col3\" class=\"data row3 col3\" >0.07</td>\n",
              "      <td id=\"T_c1b2d_row3_col4\" class=\"data row3 col4\" >32100.00</td>\n",
              "      <td id=\"T_c1b2d_row3_col5\" class=\"data row3 col5\" >2000</td>\n",
              "    </tr>\n",
              "    <tr>\n",
              "      <td id=\"T_c1b2d_row4_col0\" class=\"data row4 col0\" >Sehwag</td>\n",
              "      <td id=\"T_c1b2d_row4_col1\" class=\"data row4 col1\" >Cus_Rep</td>\n",
              "      <td id=\"T_c1b2d_row4_col2\" class=\"data row4 col2\" >15000</td>\n",
              "      <td id=\"T_c1b2d_row4_col3\" class=\"data row4 col3\" >0.05</td>\n",
              "      <td id=\"T_c1b2d_row4_col4\" class=\"data row4 col4\" >15750.00</td>\n",
              "      <td id=\"T_c1b2d_row4_col5\" class=\"data row4 col5\" >0</td>\n",
              "    </tr>\n",
              "    <tr>\n",
              "      <td id=\"T_c1b2d_row5_col0\" class=\"data row5 col0\" >Dhoni</td>\n",
              "      <td id=\"T_c1b2d_row5_col1\" class=\"data row5 col1\" >Clerk</td>\n",
              "      <td id=\"T_c1b2d_row5_col2\" class=\"data row5 col2\" >9000</td>\n",
              "      <td id=\"T_c1b2d_row5_col3\" class=\"data row5 col3\" >0.02</td>\n",
              "      <td id=\"T_c1b2d_row5_col4\" class=\"data row5 col4\" >9180.00</td>\n",
              "      <td id=\"T_c1b2d_row5_col5\" class=\"data row5 col5\" >0</td>\n",
              "    </tr>\n",
              "    <tr>\n",
              "      <td id=\"T_c1b2d_row6_col0\" class=\"data row6 col0\" >Dravid</td>\n",
              "      <td id=\"T_c1b2d_row6_col1\" class=\"data row6 col1\" >Sr Manager</td>\n",
              "      <td id=\"T_c1b2d_row6_col2\" class=\"data row6 col2\" >40000</td>\n",
              "      <td id=\"T_c1b2d_row6_col3\" class=\"data row6 col3\" >0.08</td>\n",
              "      <td id=\"T_c1b2d_row6_col4\" class=\"data row6 col4\" >43200.00</td>\n",
              "      <td id=\"T_c1b2d_row6_col5\" class=\"data row6 col5\" >2000</td>\n",
              "    </tr>\n",
              "    <tr>\n",
              "      <td id=\"T_c1b2d_row7_col0\" class=\"data row7 col0\" >Dalmia</td>\n",
              "      <td id=\"T_c1b2d_row7_col1\" class=\"data row7 col1\" >Clerk</td>\n",
              "      <td id=\"T_c1b2d_row7_col2\" class=\"data row7 col2\" >12000</td>\n",
              "      <td id=\"T_c1b2d_row7_col3\" class=\"data row7 col3\" >0.02</td>\n",
              "      <td id=\"T_c1b2d_row7_col4\" class=\"data row7 col4\" >12240.00</td>\n",
              "      <td id=\"T_c1b2d_row7_col5\" class=\"data row7 col5\" >0</td>\n",
              "    </tr>\n",
              "    <tr>\n",
              "      <td id=\"T_c1b2d_row8_col0\" class=\"data row8 col0\" >Ganguly</td>\n",
              "      <td id=\"T_c1b2d_row8_col1\" class=\"data row8 col1\" >Cus_Rep</td>\n",
              "      <td id=\"T_c1b2d_row8_col2\" class=\"data row8 col2\" >20000</td>\n",
              "      <td id=\"T_c1b2d_row8_col3\" class=\"data row8 col3\" >0.03</td>\n",
              "      <td id=\"T_c1b2d_row8_col4\" class=\"data row8 col4\" >20600.00</td>\n",
              "      <td id=\"T_c1b2d_row8_col5\" class=\"data row8 col5\" >0</td>\n",
              "    </tr>\n",
              "    <tr>\n",
              "      <td id=\"T_c1b2d_row9_col0\" class=\"data row9 col0\" >Ganesan</td>\n",
              "      <td id=\"T_c1b2d_row9_col1\" class=\"data row9 col1\" >Director</td>\n",
              "      <td id=\"T_c1b2d_row9_col2\" class=\"data row9 col2\" >60000</td>\n",
              "      <td id=\"T_c1b2d_row9_col3\" class=\"data row9 col3\" >0.11</td>\n",
              "      <td id=\"T_c1b2d_row9_col4\" class=\"data row9 col4\" >66600.00</td>\n",
              "      <td id=\"T_c1b2d_row9_col5\" class=\"data row9 col5\" >0</td>\n",
              "    </tr>\n",
              "    <tr>\n",
              "      <td id=\"T_c1b2d_row10_col0\" class=\"data row10 col0\" >Karthikeyan</td>\n",
              "      <td id=\"T_c1b2d_row10_col1\" class=\"data row10 col1\" >Secretary</td>\n",
              "      <td id=\"T_c1b2d_row10_col2\" class=\"data row10 col2\" >40000</td>\n",
              "      <td id=\"T_c1b2d_row10_col3\" class=\"data row10 col3\" >0.09</td>\n",
              "      <td id=\"T_c1b2d_row10_col4\" class=\"data row10 col4\" >43600.00</td>\n",
              "      <td id=\"T_c1b2d_row10_col5\" class=\"data row10 col5\" >0</td>\n",
              "    </tr>\n",
              "    <tr>\n",
              "      <td id=\"T_c1b2d_row11_col0\" class=\"data row11 col0\" >Sunil</td>\n",
              "      <td id=\"T_c1b2d_row11_col1\" class=\"data row11 col1\" >Dy Manager</td>\n",
              "      <td id=\"T_c1b2d_row11_col2\" class=\"data row11 col2\" >40000</td>\n",
              "      <td id=\"T_c1b2d_row11_col3\" class=\"data row11 col3\" >0.05</td>\n",
              "      <td id=\"T_c1b2d_row11_col4\" class=\"data row11 col4\" >42000.00</td>\n",
              "      <td id=\"T_c1b2d_row11_col5\" class=\"data row11 col5\" >2000</td>\n",
              "    </tr>\n",
              "    <tr>\n",
              "      <td id=\"T_c1b2d_row12_col0\" class=\"data row12 col0\" >Mirza</td>\n",
              "      <td id=\"T_c1b2d_row12_col1\" class=\"data row12 col1\" >Cus_Rep</td>\n",
              "      <td id=\"T_c1b2d_row12_col2\" class=\"data row12 col2\" >25000</td>\n",
              "      <td id=\"T_c1b2d_row12_col3\" class=\"data row12 col3\" >0.04</td>\n",
              "      <td id=\"T_c1b2d_row12_col4\" class=\"data row12 col4\" >26000.00</td>\n",
              "      <td id=\"T_c1b2d_row12_col5\" class=\"data row12 col5\" >0</td>\n",
              "    </tr>\n",
              "  </tbody>\n",
              "</table>\n"
            ]
          },
          "metadata": {},
          "execution_count": 46
        }
      ]
    },
    {
      "cell_type": "code",
      "source": [
        "runSelect(\"select lastname, deptid,\\\n",
        "case \\\n",
        "when deptid in ('10','20') then 'Head' \\\n",
        "when deptid = '30' then 'Regional'\\\n",
        "else 'Branch' \\\n",
        "end \\\n",
        " office from empl\")"
      ],
      "metadata": {
        "colab": {
          "base_uri": "https://localhost:8080/",
          "height": 457
        },
        "id": "jbpKn1y0DwYG",
        "outputId": "6d43d055-10d2-4b40-9c08-654290306580"
      },
      "execution_count": 47,
      "outputs": [
        {
          "output_type": "execute_result",
          "data": {
            "text/plain": [
              "<pandas.io.formats.style.Styler at 0x79a16afda260>"
            ],
            "text/html": [
              "<style type=\"text/css\">\n",
              "</style>\n",
              "<table id=\"T_4f5a8\" class=\"dataframe\">\n",
              "  <thead>\n",
              "    <tr>\n",
              "      <th id=\"T_4f5a8_level0_col0\" class=\"col_heading level0 col0\" >lastname</th>\n",
              "      <th id=\"T_4f5a8_level0_col1\" class=\"col_heading level0 col1\" >deptid</th>\n",
              "      <th id=\"T_4f5a8_level0_col2\" class=\"col_heading level0 col2\" >office</th>\n",
              "    </tr>\n",
              "  </thead>\n",
              "  <tbody>\n",
              "    <tr>\n",
              "      <td id=\"T_4f5a8_row0_col0\" class=\"data row0 col0\" >Bacchan</td>\n",
              "      <td id=\"T_4f5a8_row0_col1\" class=\"data row0 col1\" >10</td>\n",
              "      <td id=\"T_4f5a8_row0_col2\" class=\"data row0 col2\" >Head</td>\n",
              "    </tr>\n",
              "    <tr>\n",
              "      <td id=\"T_4f5a8_row1_col0\" class=\"data row1 col0\" >Mukherjee</td>\n",
              "      <td id=\"T_4f5a8_row1_col1\" class=\"data row1 col1\" >40</td>\n",
              "      <td id=\"T_4f5a8_row1_col2\" class=\"data row1 col2\" >Branch</td>\n",
              "    </tr>\n",
              "    <tr>\n",
              "      <td id=\"T_4f5a8_row2_col0\" class=\"data row2 col0\" >Dikshit</td>\n",
              "      <td id=\"T_4f5a8_row2_col1\" class=\"data row2 col1\" >20</td>\n",
              "      <td id=\"T_4f5a8_row2_col2\" class=\"data row2 col2\" >Head</td>\n",
              "    </tr>\n",
              "    <tr>\n",
              "      <td id=\"T_4f5a8_row3_col0\" class=\"data row3 col0\" >Khan</td>\n",
              "      <td id=\"T_4f5a8_row3_col1\" class=\"data row3 col1\" >20</td>\n",
              "      <td id=\"T_4f5a8_row3_col2\" class=\"data row3 col2\" >Head</td>\n",
              "    </tr>\n",
              "    <tr>\n",
              "      <td id=\"T_4f5a8_row4_col0\" class=\"data row4 col0\" >Sehwag</td>\n",
              "      <td id=\"T_4f5a8_row4_col1\" class=\"data row4 col1\" >20</td>\n",
              "      <td id=\"T_4f5a8_row4_col2\" class=\"data row4 col2\" >Head</td>\n",
              "    </tr>\n",
              "    <tr>\n",
              "      <td id=\"T_4f5a8_row5_col0\" class=\"data row5 col0\" >Dhoni</td>\n",
              "      <td id=\"T_4f5a8_row5_col1\" class=\"data row5 col1\" >40</td>\n",
              "      <td id=\"T_4f5a8_row5_col2\" class=\"data row5 col2\" >Branch</td>\n",
              "    </tr>\n",
              "    <tr>\n",
              "      <td id=\"T_4f5a8_row6_col0\" class=\"data row6 col0\" >Dravid</td>\n",
              "      <td id=\"T_4f5a8_row6_col1\" class=\"data row6 col1\" >30</td>\n",
              "      <td id=\"T_4f5a8_row6_col2\" class=\"data row6 col2\" >Regional</td>\n",
              "    </tr>\n",
              "    <tr>\n",
              "      <td id=\"T_4f5a8_row7_col0\" class=\"data row7 col0\" >Dalmia</td>\n",
              "      <td id=\"T_4f5a8_row7_col1\" class=\"data row7 col1\" >30</td>\n",
              "      <td id=\"T_4f5a8_row7_col2\" class=\"data row7 col2\" >Regional</td>\n",
              "    </tr>\n",
              "    <tr>\n",
              "      <td id=\"T_4f5a8_row8_col0\" class=\"data row8 col0\" >Ganguly</td>\n",
              "      <td id=\"T_4f5a8_row8_col1\" class=\"data row8 col1\" >40</td>\n",
              "      <td id=\"T_4f5a8_row8_col2\" class=\"data row8 col2\" >Branch</td>\n",
              "    </tr>\n",
              "    <tr>\n",
              "      <td id=\"T_4f5a8_row9_col0\" class=\"data row9 col0\" >Ganesan</td>\n",
              "      <td id=\"T_4f5a8_row9_col1\" class=\"data row9 col1\" >10</td>\n",
              "      <td id=\"T_4f5a8_row9_col2\" class=\"data row9 col2\" >Head</td>\n",
              "    </tr>\n",
              "    <tr>\n",
              "      <td id=\"T_4f5a8_row10_col0\" class=\"data row10 col0\" >Karthikeyan</td>\n",
              "      <td id=\"T_4f5a8_row10_col1\" class=\"data row10 col1\" >10</td>\n",
              "      <td id=\"T_4f5a8_row10_col2\" class=\"data row10 col2\" >Head</td>\n",
              "    </tr>\n",
              "    <tr>\n",
              "      <td id=\"T_4f5a8_row11_col0\" class=\"data row11 col0\" >Sunil</td>\n",
              "      <td id=\"T_4f5a8_row11_col1\" class=\"data row11 col1\" >70</td>\n",
              "      <td id=\"T_4f5a8_row11_col2\" class=\"data row11 col2\" >Branch</td>\n",
              "    </tr>\n",
              "    <tr>\n",
              "      <td id=\"T_4f5a8_row12_col0\" class=\"data row12 col0\" >Mirza</td>\n",
              "      <td id=\"T_4f5a8_row12_col1\" class=\"data row12 col1\" >30</td>\n",
              "      <td id=\"T_4f5a8_row12_col2\" class=\"data row12 col2\" >Regional</td>\n",
              "    </tr>\n",
              "  </tbody>\n",
              "</table>\n"
            ]
          },
          "metadata": {},
          "execution_count": 47
        }
      ]
    },
    {
      "cell_type": "markdown",
      "source": [
        "#Join"
      ],
      "metadata": {
        "id": "Rs10ezIPpP0C"
      }
    },
    {
      "cell_type": "markdown",
      "source": [
        "## Basic Inner Join"
      ],
      "metadata": {
        "id": "XMfZP6HUpT4B"
      }
    },
    {
      "cell_type": "code",
      "source": [
        "sql = 'select firstname, lastname, salary, deptname, location, managerid from empl, dept where empl.deptid = dept.deptid'\n",
        "runSelect(sql)"
      ],
      "metadata": {
        "colab": {
          "base_uri": "https://localhost:8080/",
          "height": 426
        },
        "id": "ISiD-VP6pbUz",
        "outputId": "37a4eba3-a9be-4f25-f5cb-2f263986676a"
      },
      "execution_count": 48,
      "outputs": [
        {
          "output_type": "execute_result",
          "data": {
            "text/plain": [
              "<pandas.io.formats.style.Styler at 0x79a16b026a10>"
            ],
            "text/html": [
              "<style type=\"text/css\">\n",
              "</style>\n",
              "<table id=\"T_a2868\" class=\"dataframe\">\n",
              "  <thead>\n",
              "    <tr>\n",
              "      <th id=\"T_a2868_level0_col0\" class=\"col_heading level0 col0\" >firstname</th>\n",
              "      <th id=\"T_a2868_level0_col1\" class=\"col_heading level0 col1\" >lastname</th>\n",
              "      <th id=\"T_a2868_level0_col2\" class=\"col_heading level0 col2\" >salary</th>\n",
              "      <th id=\"T_a2868_level0_col3\" class=\"col_heading level0 col3\" >deptname</th>\n",
              "      <th id=\"T_a2868_level0_col4\" class=\"col_heading level0 col4\" >location</th>\n",
              "      <th id=\"T_a2868_level0_col5\" class=\"col_heading level0 col5\" >managerid</th>\n",
              "    </tr>\n",
              "  </thead>\n",
              "  <tbody>\n",
              "    <tr>\n",
              "      <td id=\"T_a2868_row0_col0\" class=\"data row0 col0\" >Narayan</td>\n",
              "      <td id=\"T_a2868_row0_col1\" class=\"data row0 col1\" >Karthikeyan</td>\n",
              "      <td id=\"T_a2868_row0_col2\" class=\"data row0 col2\" >40000</td>\n",
              "      <td id=\"T_a2868_row0_col3\" class=\"data row0 col3\" >Corporate</td>\n",
              "      <td id=\"T_a2868_row0_col4\" class=\"data row0 col4\" >Calcutta</td>\n",
              "      <td id=\"T_a2868_row0_col5\" class=\"data row0 col5\" >299034</td>\n",
              "    </tr>\n",
              "    <tr>\n",
              "      <td id=\"T_a2868_row1_col0\" class=\"data row1 col0\" >Rekha</td>\n",
              "      <td id=\"T_a2868_row1_col1\" class=\"data row1 col1\" >Ganesan</td>\n",
              "      <td id=\"T_a2868_row1_col2\" class=\"data row1 col2\" >60000</td>\n",
              "      <td id=\"T_a2868_row1_col3\" class=\"data row1 col3\" >Corporate</td>\n",
              "      <td id=\"T_a2868_row1_col4\" class=\"data row1 col4\" >Calcutta</td>\n",
              "      <td id=\"T_a2868_row1_col5\" class=\"data row1 col5\" >299034</td>\n",
              "    </tr>\n",
              "    <tr>\n",
              "      <td id=\"T_a2868_row2_col0\" class=\"data row2 col0\" >Amitabh</td>\n",
              "      <td id=\"T_a2868_row2_col1\" class=\"data row2 col1\" >Bacchan</td>\n",
              "      <td id=\"T_a2868_row2_col2\" class=\"data row2 col2\" >50000</td>\n",
              "      <td id=\"T_a2868_row2_col3\" class=\"data row2 col3\" >Corporate</td>\n",
              "      <td id=\"T_a2868_row2_col4\" class=\"data row2 col4\" >Calcutta</td>\n",
              "      <td id=\"T_a2868_row2_col5\" class=\"data row2 col5\" >299034</td>\n",
              "    </tr>\n",
              "    <tr>\n",
              "      <td id=\"T_a2868_row3_col0\" class=\"data row3 col0\" >Virender</td>\n",
              "      <td id=\"T_a2868_row3_col1\" class=\"data row3 col1\" >Sehwag</td>\n",
              "      <td id=\"T_a2868_row3_col2\" class=\"data row3 col2\" >15000</td>\n",
              "      <td id=\"T_a2868_row3_col3\" class=\"data row3 col3\" >Sales</td>\n",
              "      <td id=\"T_a2868_row3_col4\" class=\"data row3 col4\" >Calcutta</td>\n",
              "      <td id=\"T_a2868_row3_col5\" class=\"data row3 col5\" >239456</td>\n",
              "    </tr>\n",
              "    <tr>\n",
              "      <td id=\"T_a2868_row4_col0\" class=\"data row4 col0\" >Shahrukh</td>\n",
              "      <td id=\"T_a2868_row4_col1\" class=\"data row4 col1\" >Khan</td>\n",
              "      <td id=\"T_a2868_row4_col2\" class=\"data row4 col2\" >30000</td>\n",
              "      <td id=\"T_a2868_row4_col3\" class=\"data row4 col3\" >Sales</td>\n",
              "      <td id=\"T_a2868_row4_col4\" class=\"data row4 col4\" >Calcutta</td>\n",
              "      <td id=\"T_a2868_row4_col5\" class=\"data row4 col5\" >239456</td>\n",
              "    </tr>\n",
              "    <tr>\n",
              "      <td id=\"T_a2868_row5_col0\" class=\"data row5 col0\" >Madhuri</td>\n",
              "      <td id=\"T_a2868_row5_col1\" class=\"data row5 col1\" >Dikshit</td>\n",
              "      <td id=\"T_a2868_row5_col2\" class=\"data row5 col2\" >10000</td>\n",
              "      <td id=\"T_a2868_row5_col3\" class=\"data row5 col3\" >Sales</td>\n",
              "      <td id=\"T_a2868_row5_col4\" class=\"data row5 col4\" >Calcutta</td>\n",
              "      <td id=\"T_a2868_row5_col5\" class=\"data row5 col5\" >239456</td>\n",
              "    </tr>\n",
              "    <tr>\n",
              "      <td id=\"T_a2868_row6_col0\" class=\"data row6 col0\" >Sania</td>\n",
              "      <td id=\"T_a2868_row6_col1\" class=\"data row6 col1\" >Mirza</td>\n",
              "      <td id=\"T_a2868_row6_col2\" class=\"data row6 col2\" >25000</td>\n",
              "      <td id=\"T_a2868_row6_col3\" class=\"data row6 col3\" >Accounts</td>\n",
              "      <td id=\"T_a2868_row6_col4\" class=\"data row6 col4\" >Calcutta</td>\n",
              "      <td id=\"T_a2868_row6_col5\" class=\"data row6 col5\" >822134</td>\n",
              "    </tr>\n",
              "    <tr>\n",
              "      <td id=\"T_a2868_row7_col0\" class=\"data row7 col0\" >Jagmohan</td>\n",
              "      <td id=\"T_a2868_row7_col1\" class=\"data row7 col1\" >Dalmia</td>\n",
              "      <td id=\"T_a2868_row7_col2\" class=\"data row7 col2\" >12000</td>\n",
              "      <td id=\"T_a2868_row7_col3\" class=\"data row7 col3\" >Accounts</td>\n",
              "      <td id=\"T_a2868_row7_col4\" class=\"data row7 col4\" >Calcutta</td>\n",
              "      <td id=\"T_a2868_row7_col5\" class=\"data row7 col5\" >822134</td>\n",
              "    </tr>\n",
              "    <tr>\n",
              "      <td id=\"T_a2868_row8_col0\" class=\"data row8 col0\" >Rahul</td>\n",
              "      <td id=\"T_a2868_row8_col1\" class=\"data row8 col1\" >Dravid</td>\n",
              "      <td id=\"T_a2868_row8_col2\" class=\"data row8 col2\" >40000</td>\n",
              "      <td id=\"T_a2868_row8_col3\" class=\"data row8 col3\" >Accounts</td>\n",
              "      <td id=\"T_a2868_row8_col4\" class=\"data row8 col4\" >Calcutta</td>\n",
              "      <td id=\"T_a2868_row8_col5\" class=\"data row8 col5\" >822134</td>\n",
              "    </tr>\n",
              "    <tr>\n",
              "      <td id=\"T_a2868_row9_col0\" class=\"data row9 col0\" >Sourav</td>\n",
              "      <td id=\"T_a2868_row9_col1\" class=\"data row9 col1\" >Ganguly</td>\n",
              "      <td id=\"T_a2868_row9_col2\" class=\"data row9 col2\" >20000</td>\n",
              "      <td id=\"T_a2868_row9_col3\" class=\"data row9 col3\" >Production</td>\n",
              "      <td id=\"T_a2868_row9_col4\" class=\"data row9 col4\" >Bombay</td>\n",
              "      <td id=\"T_a2868_row9_col5\" class=\"data row9 col5\" >349870</td>\n",
              "    </tr>\n",
              "    <tr>\n",
              "      <td id=\"T_a2868_row10_col0\" class=\"data row10 col0\" >Mahender</td>\n",
              "      <td id=\"T_a2868_row10_col1\" class=\"data row10 col1\" >Dhoni</td>\n",
              "      <td id=\"T_a2868_row10_col2\" class=\"data row10 col2\" >9000</td>\n",
              "      <td id=\"T_a2868_row10_col3\" class=\"data row10 col3\" >Production</td>\n",
              "      <td id=\"T_a2868_row10_col4\" class=\"data row10 col4\" >Bombay</td>\n",
              "      <td id=\"T_a2868_row10_col5\" class=\"data row10 col5\" >349870</td>\n",
              "    </tr>\n",
              "    <tr>\n",
              "      <td id=\"T_a2868_row11_col0\" class=\"data row11 col0\" >Rani</td>\n",
              "      <td id=\"T_a2868_row11_col1\" class=\"data row11 col1\" >Mukherjee</td>\n",
              "      <td id=\"T_a2868_row11_col2\" class=\"data row11 col2\" >25000</td>\n",
              "      <td id=\"T_a2868_row11_col3\" class=\"data row11 col3\" >Production</td>\n",
              "      <td id=\"T_a2868_row11_col4\" class=\"data row11 col4\" >Bombay</td>\n",
              "      <td id=\"T_a2868_row11_col5\" class=\"data row11 col5\" >349870</td>\n",
              "    </tr>\n",
              "  </tbody>\n",
              "</table>\n"
            ]
          },
          "metadata": {},
          "execution_count": 48
        }
      ]
    },
    {
      "cell_type": "code",
      "source": [
        "sql = 'select empid, firstname, deptname, location from empl INNER JOIN dept ON empl.deptid = dept.deptid'\n",
        "runSelect(sql)"
      ],
      "metadata": {
        "colab": {
          "base_uri": "https://localhost:8080/",
          "height": 426
        },
        "id": "LVrEArEc1VcF",
        "outputId": "56b48923-b0ae-4ffd-97cb-8e4e7bbea044"
      },
      "execution_count": 49,
      "outputs": [
        {
          "output_type": "execute_result",
          "data": {
            "text/plain": [
              "<pandas.io.formats.style.Styler at 0x79a16b027a00>"
            ],
            "text/html": [
              "<style type=\"text/css\">\n",
              "</style>\n",
              "<table id=\"T_d9725\" class=\"dataframe\">\n",
              "  <thead>\n",
              "    <tr>\n",
              "      <th id=\"T_d9725_level0_col0\" class=\"col_heading level0 col0\" >empid</th>\n",
              "      <th id=\"T_d9725_level0_col1\" class=\"col_heading level0 col1\" >firstname</th>\n",
              "      <th id=\"T_d9725_level0_col2\" class=\"col_heading level0 col2\" >deptname</th>\n",
              "      <th id=\"T_d9725_level0_col3\" class=\"col_heading level0 col3\" >location</th>\n",
              "    </tr>\n",
              "  </thead>\n",
              "  <tbody>\n",
              "    <tr>\n",
              "      <td id=\"T_d9725_row0_col0\" class=\"data row0 col0\" >546223</td>\n",
              "      <td id=\"T_d9725_row0_col1\" class=\"data row0 col1\" >Narayan</td>\n",
              "      <td id=\"T_d9725_row0_col2\" class=\"data row0 col2\" >Corporate</td>\n",
              "      <td id=\"T_d9725_row0_col3\" class=\"data row0 col3\" >Calcutta</td>\n",
              "    </tr>\n",
              "    <tr>\n",
              "      <td id=\"T_d9725_row1_col0\" class=\"data row1 col0\" >299034</td>\n",
              "      <td id=\"T_d9725_row1_col1\" class=\"data row1 col1\" >Rekha</td>\n",
              "      <td id=\"T_d9725_row1_col2\" class=\"data row1 col2\" >Corporate</td>\n",
              "      <td id=\"T_d9725_row1_col3\" class=\"data row1 col3\" >Calcutta</td>\n",
              "    </tr>\n",
              "    <tr>\n",
              "      <td id=\"T_d9725_row2_col0\" class=\"data row2 col0\" >742866</td>\n",
              "      <td id=\"T_d9725_row2_col1\" class=\"data row2 col1\" >Amitabh</td>\n",
              "      <td id=\"T_d9725_row2_col2\" class=\"data row2 col2\" >Corporate</td>\n",
              "      <td id=\"T_d9725_row2_col3\" class=\"data row2 col3\" >Calcutta</td>\n",
              "    </tr>\n",
              "    <tr>\n",
              "      <td id=\"T_d9725_row3_col0\" class=\"data row3 col0\" >897889</td>\n",
              "      <td id=\"T_d9725_row3_col1\" class=\"data row3 col1\" >Virender</td>\n",
              "      <td id=\"T_d9725_row3_col2\" class=\"data row3 col2\" >Sales</td>\n",
              "      <td id=\"T_d9725_row3_col3\" class=\"data row3 col3\" >Calcutta</td>\n",
              "    </tr>\n",
              "    <tr>\n",
              "      <td id=\"T_d9725_row4_col0\" class=\"data row4 col0\" >239456</td>\n",
              "      <td id=\"T_d9725_row4_col1\" class=\"data row4 col1\" >Shahrukh</td>\n",
              "      <td id=\"T_d9725_row4_col2\" class=\"data row4 col2\" >Sales</td>\n",
              "      <td id=\"T_d9725_row4_col3\" class=\"data row4 col3\" >Calcutta</td>\n",
              "    </tr>\n",
              "    <tr>\n",
              "      <td id=\"T_d9725_row5_col0\" class=\"data row5 col0\" >865477</td>\n",
              "      <td id=\"T_d9725_row5_col1\" class=\"data row5 col1\" >Madhuri</td>\n",
              "      <td id=\"T_d9725_row5_col2\" class=\"data row5 col2\" >Sales</td>\n",
              "      <td id=\"T_d9725_row5_col3\" class=\"data row5 col3\" >Calcutta</td>\n",
              "    </tr>\n",
              "    <tr>\n",
              "      <td id=\"T_d9725_row6_col0\" class=\"data row6 col0\" >223112</td>\n",
              "      <td id=\"T_d9725_row6_col1\" class=\"data row6 col1\" >Sania</td>\n",
              "      <td id=\"T_d9725_row6_col2\" class=\"data row6 col2\" >Accounts</td>\n",
              "      <td id=\"T_d9725_row6_col3\" class=\"data row6 col3\" >Calcutta</td>\n",
              "    </tr>\n",
              "    <tr>\n",
              "      <td id=\"T_d9725_row7_col0\" class=\"data row7 col0\" >997445</td>\n",
              "      <td id=\"T_d9725_row7_col1\" class=\"data row7 col1\" >Jagmohan</td>\n",
              "      <td id=\"T_d9725_row7_col2\" class=\"data row7 col2\" >Accounts</td>\n",
              "      <td id=\"T_d9725_row7_col3\" class=\"data row7 col3\" >Calcutta</td>\n",
              "    </tr>\n",
              "    <tr>\n",
              "      <td id=\"T_d9725_row8_col0\" class=\"data row8 col0\" >822134</td>\n",
              "      <td id=\"T_d9725_row8_col1\" class=\"data row8 col1\" >Rahul</td>\n",
              "      <td id=\"T_d9725_row8_col2\" class=\"data row8 col2\" >Accounts</td>\n",
              "      <td id=\"T_d9725_row8_col3\" class=\"data row8 col3\" >Calcutta</td>\n",
              "    </tr>\n",
              "    <tr>\n",
              "      <td id=\"T_d9725_row9_col0\" class=\"data row9 col0\" >989007</td>\n",
              "      <td id=\"T_d9725_row9_col1\" class=\"data row9 col1\" >Sourav</td>\n",
              "      <td id=\"T_d9725_row9_col2\" class=\"data row9 col2\" >Production</td>\n",
              "      <td id=\"T_d9725_row9_col3\" class=\"data row9 col3\" >Bombay</td>\n",
              "    </tr>\n",
              "    <tr>\n",
              "      <td id=\"T_d9725_row10_col0\" class=\"data row10 col0\" >123980</td>\n",
              "      <td id=\"T_d9725_row10_col1\" class=\"data row10 col1\" >Mahender</td>\n",
              "      <td id=\"T_d9725_row10_col2\" class=\"data row10 col2\" >Production</td>\n",
              "      <td id=\"T_d9725_row10_col3\" class=\"data row10 col3\" >Bombay</td>\n",
              "    </tr>\n",
              "    <tr>\n",
              "      <td id=\"T_d9725_row11_col0\" class=\"data row11 col0\" >349870</td>\n",
              "      <td id=\"T_d9725_row11_col1\" class=\"data row11 col1\" >Rani</td>\n",
              "      <td id=\"T_d9725_row11_col2\" class=\"data row11 col2\" >Production</td>\n",
              "      <td id=\"T_d9725_row11_col3\" class=\"data row11 col3\" >Bombay</td>\n",
              "    </tr>\n",
              "  </tbody>\n",
              "</table>\n"
            ]
          },
          "metadata": {},
          "execution_count": 49
        }
      ]
    },
    {
      "cell_type": "code",
      "source": [
        "sql = 'select deptname,round(sum(salary),0) payroll from empl INNER JOIN dept ON empl.deptid = dept.deptid \\\n",
        "group by deptname'\n",
        "runSelect(sql)"
      ],
      "metadata": {
        "id": "pKk82QRi28DP",
        "outputId": "7e3c66ea-df5c-49d7-f4b0-623fe501da79",
        "colab": {
          "base_uri": "https://localhost:8080/",
          "height": 175
        }
      },
      "execution_count": 50,
      "outputs": [
        {
          "output_type": "execute_result",
          "data": {
            "text/plain": [
              "<pandas.io.formats.style.Styler at 0x79a16b027040>"
            ],
            "text/html": [
              "<style type=\"text/css\">\n",
              "</style>\n",
              "<table id=\"T_20871\" class=\"dataframe\">\n",
              "  <thead>\n",
              "    <tr>\n",
              "      <th id=\"T_20871_level0_col0\" class=\"col_heading level0 col0\" >deptname</th>\n",
              "      <th id=\"T_20871_level0_col1\" class=\"col_heading level0 col1\" >payroll</th>\n",
              "    </tr>\n",
              "  </thead>\n",
              "  <tbody>\n",
              "    <tr>\n",
              "      <td id=\"T_20871_row0_col0\" class=\"data row0 col0\" >Corporate</td>\n",
              "      <td id=\"T_20871_row0_col1\" class=\"data row0 col1\" >150000</td>\n",
              "    </tr>\n",
              "    <tr>\n",
              "      <td id=\"T_20871_row1_col0\" class=\"data row1 col0\" >Accounts</td>\n",
              "      <td id=\"T_20871_row1_col1\" class=\"data row1 col1\" >77000</td>\n",
              "    </tr>\n",
              "    <tr>\n",
              "      <td id=\"T_20871_row2_col0\" class=\"data row2 col0\" >Sales</td>\n",
              "      <td id=\"T_20871_row2_col1\" class=\"data row2 col1\" >55000</td>\n",
              "    </tr>\n",
              "    <tr>\n",
              "      <td id=\"T_20871_row3_col0\" class=\"data row3 col0\" >Production</td>\n",
              "      <td id=\"T_20871_row3_col1\" class=\"data row3 col1\" >54000</td>\n",
              "    </tr>\n",
              "  </tbody>\n",
              "</table>\n"
            ]
          },
          "metadata": {},
          "execution_count": 50
        }
      ]
    },
    {
      "cell_type": "markdown",
      "source": [
        "## Outer Join"
      ],
      "metadata": {
        "id": "tK9uJHAL1u6x"
      }
    },
    {
      "cell_type": "markdown",
      "source": [
        "### Left Outer"
      ],
      "metadata": {
        "id": "5wGFVhyJ2x8S"
      }
    },
    {
      "cell_type": "code",
      "source": [
        "sql = 'select empid, firstname, deptname, location from empl LEFT JOIN dept ON empl.deptid = dept.deptid'\n",
        "runSelect(sql)"
      ],
      "metadata": {
        "colab": {
          "base_uri": "https://localhost:8080/",
          "height": 457
        },
        "id": "Ls6VfOXt1zTq",
        "outputId": "58f5b219-cadd-4339-dee8-fb012107556e"
      },
      "execution_count": 51,
      "outputs": [
        {
          "output_type": "execute_result",
          "data": {
            "text/plain": [
              "<pandas.io.formats.style.Styler at 0x79a16b0247c0>"
            ],
            "text/html": [
              "<style type=\"text/css\">\n",
              "</style>\n",
              "<table id=\"T_21681\" class=\"dataframe\">\n",
              "  <thead>\n",
              "    <tr>\n",
              "      <th id=\"T_21681_level0_col0\" class=\"col_heading level0 col0\" >empid</th>\n",
              "      <th id=\"T_21681_level0_col1\" class=\"col_heading level0 col1\" >firstname</th>\n",
              "      <th id=\"T_21681_level0_col2\" class=\"col_heading level0 col2\" >deptname</th>\n",
              "      <th id=\"T_21681_level0_col3\" class=\"col_heading level0 col3\" >location</th>\n",
              "    </tr>\n",
              "  </thead>\n",
              "  <tbody>\n",
              "    <tr>\n",
              "      <td id=\"T_21681_row0_col0\" class=\"data row0 col0\" >546223</td>\n",
              "      <td id=\"T_21681_row0_col1\" class=\"data row0 col1\" >Narayan</td>\n",
              "      <td id=\"T_21681_row0_col2\" class=\"data row0 col2\" >Corporate</td>\n",
              "      <td id=\"T_21681_row0_col3\" class=\"data row0 col3\" >Calcutta</td>\n",
              "    </tr>\n",
              "    <tr>\n",
              "      <td id=\"T_21681_row1_col0\" class=\"data row1 col0\" >299034</td>\n",
              "      <td id=\"T_21681_row1_col1\" class=\"data row1 col1\" >Rekha</td>\n",
              "      <td id=\"T_21681_row1_col2\" class=\"data row1 col2\" >Corporate</td>\n",
              "      <td id=\"T_21681_row1_col3\" class=\"data row1 col3\" >Calcutta</td>\n",
              "    </tr>\n",
              "    <tr>\n",
              "      <td id=\"T_21681_row2_col0\" class=\"data row2 col0\" >742866</td>\n",
              "      <td id=\"T_21681_row2_col1\" class=\"data row2 col1\" >Amitabh</td>\n",
              "      <td id=\"T_21681_row2_col2\" class=\"data row2 col2\" >Corporate</td>\n",
              "      <td id=\"T_21681_row2_col3\" class=\"data row2 col3\" >Calcutta</td>\n",
              "    </tr>\n",
              "    <tr>\n",
              "      <td id=\"T_21681_row3_col0\" class=\"data row3 col0\" >897889</td>\n",
              "      <td id=\"T_21681_row3_col1\" class=\"data row3 col1\" >Virender</td>\n",
              "      <td id=\"T_21681_row3_col2\" class=\"data row3 col2\" >Sales</td>\n",
              "      <td id=\"T_21681_row3_col3\" class=\"data row3 col3\" >Calcutta</td>\n",
              "    </tr>\n",
              "    <tr>\n",
              "      <td id=\"T_21681_row4_col0\" class=\"data row4 col0\" >239456</td>\n",
              "      <td id=\"T_21681_row4_col1\" class=\"data row4 col1\" >Shahrukh</td>\n",
              "      <td id=\"T_21681_row4_col2\" class=\"data row4 col2\" >Sales</td>\n",
              "      <td id=\"T_21681_row4_col3\" class=\"data row4 col3\" >Calcutta</td>\n",
              "    </tr>\n",
              "    <tr>\n",
              "      <td id=\"T_21681_row5_col0\" class=\"data row5 col0\" >865477</td>\n",
              "      <td id=\"T_21681_row5_col1\" class=\"data row5 col1\" >Madhuri</td>\n",
              "      <td id=\"T_21681_row5_col2\" class=\"data row5 col2\" >Sales</td>\n",
              "      <td id=\"T_21681_row5_col3\" class=\"data row5 col3\" >Calcutta</td>\n",
              "    </tr>\n",
              "    <tr>\n",
              "      <td id=\"T_21681_row6_col0\" class=\"data row6 col0\" >223112</td>\n",
              "      <td id=\"T_21681_row6_col1\" class=\"data row6 col1\" >Sania</td>\n",
              "      <td id=\"T_21681_row6_col2\" class=\"data row6 col2\" >Accounts</td>\n",
              "      <td id=\"T_21681_row6_col3\" class=\"data row6 col3\" >Calcutta</td>\n",
              "    </tr>\n",
              "    <tr>\n",
              "      <td id=\"T_21681_row7_col0\" class=\"data row7 col0\" >997445</td>\n",
              "      <td id=\"T_21681_row7_col1\" class=\"data row7 col1\" >Jagmohan</td>\n",
              "      <td id=\"T_21681_row7_col2\" class=\"data row7 col2\" >Accounts</td>\n",
              "      <td id=\"T_21681_row7_col3\" class=\"data row7 col3\" >Calcutta</td>\n",
              "    </tr>\n",
              "    <tr>\n",
              "      <td id=\"T_21681_row8_col0\" class=\"data row8 col0\" >822134</td>\n",
              "      <td id=\"T_21681_row8_col1\" class=\"data row8 col1\" >Rahul</td>\n",
              "      <td id=\"T_21681_row8_col2\" class=\"data row8 col2\" >Accounts</td>\n",
              "      <td id=\"T_21681_row8_col3\" class=\"data row8 col3\" >Calcutta</td>\n",
              "    </tr>\n",
              "    <tr>\n",
              "      <td id=\"T_21681_row9_col0\" class=\"data row9 col0\" >989007</td>\n",
              "      <td id=\"T_21681_row9_col1\" class=\"data row9 col1\" >Sourav</td>\n",
              "      <td id=\"T_21681_row9_col2\" class=\"data row9 col2\" >Production</td>\n",
              "      <td id=\"T_21681_row9_col3\" class=\"data row9 col3\" >Bombay</td>\n",
              "    </tr>\n",
              "    <tr>\n",
              "      <td id=\"T_21681_row10_col0\" class=\"data row10 col0\" >123980</td>\n",
              "      <td id=\"T_21681_row10_col1\" class=\"data row10 col1\" >Mahender</td>\n",
              "      <td id=\"T_21681_row10_col2\" class=\"data row10 col2\" >Production</td>\n",
              "      <td id=\"T_21681_row10_col3\" class=\"data row10 col3\" >Bombay</td>\n",
              "    </tr>\n",
              "    <tr>\n",
              "      <td id=\"T_21681_row11_col0\" class=\"data row11 col0\" >349870</td>\n",
              "      <td id=\"T_21681_row11_col1\" class=\"data row11 col1\" >Rani</td>\n",
              "      <td id=\"T_21681_row11_col2\" class=\"data row11 col2\" >Production</td>\n",
              "      <td id=\"T_21681_row11_col3\" class=\"data row11 col3\" >Bombay</td>\n",
              "    </tr>\n",
              "    <tr>\n",
              "      <td id=\"T_21681_row12_col0\" class=\"data row12 col0\" >546224</td>\n",
              "      <td id=\"T_21681_row12_col1\" class=\"data row12 col1\" >Chettri</td>\n",
              "      <td id=\"T_21681_row12_col2\" class=\"data row12 col2\" >None</td>\n",
              "      <td id=\"T_21681_row12_col3\" class=\"data row12 col3\" >None</td>\n",
              "    </tr>\n",
              "  </tbody>\n",
              "</table>\n"
            ]
          },
          "metadata": {},
          "execution_count": 51
        }
      ]
    },
    {
      "cell_type": "markdown",
      "source": [
        "### Right Outer"
      ],
      "metadata": {
        "id": "iJ6DASb121Og"
      }
    },
    {
      "cell_type": "code",
      "source": [
        "sql = 'select empid, firstname, deptname, location from empl RIGHT JOIN dept ON empl.deptid = dept.deptid'\n",
        "runSelect(sql)"
      ],
      "metadata": {
        "colab": {
          "base_uri": "https://localhost:8080/",
          "height": 457
        },
        "id": "khvQpQ4E2XND",
        "outputId": "d94b21fa-7b54-4a19-f187-5ed2f77037f1"
      },
      "execution_count": 52,
      "outputs": [
        {
          "output_type": "execute_result",
          "data": {
            "text/plain": [
              "<pandas.io.formats.style.Styler at 0x79a16b0891e0>"
            ],
            "text/html": [
              "<style type=\"text/css\">\n",
              "</style>\n",
              "<table id=\"T_c5b63\" class=\"dataframe\">\n",
              "  <thead>\n",
              "    <tr>\n",
              "      <th id=\"T_c5b63_level0_col0\" class=\"col_heading level0 col0\" >empid</th>\n",
              "      <th id=\"T_c5b63_level0_col1\" class=\"col_heading level0 col1\" >firstname</th>\n",
              "      <th id=\"T_c5b63_level0_col2\" class=\"col_heading level0 col2\" >deptname</th>\n",
              "      <th id=\"T_c5b63_level0_col3\" class=\"col_heading level0 col3\" >location</th>\n",
              "    </tr>\n",
              "  </thead>\n",
              "  <tbody>\n",
              "    <tr>\n",
              "      <td id=\"T_c5b63_row0_col0\" class=\"data row0 col0\" >546223</td>\n",
              "      <td id=\"T_c5b63_row0_col1\" class=\"data row0 col1\" >Narayan</td>\n",
              "      <td id=\"T_c5b63_row0_col2\" class=\"data row0 col2\" >Corporate</td>\n",
              "      <td id=\"T_c5b63_row0_col3\" class=\"data row0 col3\" >Calcutta</td>\n",
              "    </tr>\n",
              "    <tr>\n",
              "      <td id=\"T_c5b63_row1_col0\" class=\"data row1 col0\" >299034</td>\n",
              "      <td id=\"T_c5b63_row1_col1\" class=\"data row1 col1\" >Rekha</td>\n",
              "      <td id=\"T_c5b63_row1_col2\" class=\"data row1 col2\" >Corporate</td>\n",
              "      <td id=\"T_c5b63_row1_col3\" class=\"data row1 col3\" >Calcutta</td>\n",
              "    </tr>\n",
              "    <tr>\n",
              "      <td id=\"T_c5b63_row2_col0\" class=\"data row2 col0\" >742866</td>\n",
              "      <td id=\"T_c5b63_row2_col1\" class=\"data row2 col1\" >Amitabh</td>\n",
              "      <td id=\"T_c5b63_row2_col2\" class=\"data row2 col2\" >Corporate</td>\n",
              "      <td id=\"T_c5b63_row2_col3\" class=\"data row2 col3\" >Calcutta</td>\n",
              "    </tr>\n",
              "    <tr>\n",
              "      <td id=\"T_c5b63_row3_col0\" class=\"data row3 col0\" >897889</td>\n",
              "      <td id=\"T_c5b63_row3_col1\" class=\"data row3 col1\" >Virender</td>\n",
              "      <td id=\"T_c5b63_row3_col2\" class=\"data row3 col2\" >Sales</td>\n",
              "      <td id=\"T_c5b63_row3_col3\" class=\"data row3 col3\" >Calcutta</td>\n",
              "    </tr>\n",
              "    <tr>\n",
              "      <td id=\"T_c5b63_row4_col0\" class=\"data row4 col0\" >239456</td>\n",
              "      <td id=\"T_c5b63_row4_col1\" class=\"data row4 col1\" >Shahrukh</td>\n",
              "      <td id=\"T_c5b63_row4_col2\" class=\"data row4 col2\" >Sales</td>\n",
              "      <td id=\"T_c5b63_row4_col3\" class=\"data row4 col3\" >Calcutta</td>\n",
              "    </tr>\n",
              "    <tr>\n",
              "      <td id=\"T_c5b63_row5_col0\" class=\"data row5 col0\" >865477</td>\n",
              "      <td id=\"T_c5b63_row5_col1\" class=\"data row5 col1\" >Madhuri</td>\n",
              "      <td id=\"T_c5b63_row5_col2\" class=\"data row5 col2\" >Sales</td>\n",
              "      <td id=\"T_c5b63_row5_col3\" class=\"data row5 col3\" >Calcutta</td>\n",
              "    </tr>\n",
              "    <tr>\n",
              "      <td id=\"T_c5b63_row6_col0\" class=\"data row6 col0\" >223112</td>\n",
              "      <td id=\"T_c5b63_row6_col1\" class=\"data row6 col1\" >Sania</td>\n",
              "      <td id=\"T_c5b63_row6_col2\" class=\"data row6 col2\" >Accounts</td>\n",
              "      <td id=\"T_c5b63_row6_col3\" class=\"data row6 col3\" >Calcutta</td>\n",
              "    </tr>\n",
              "    <tr>\n",
              "      <td id=\"T_c5b63_row7_col0\" class=\"data row7 col0\" >997445</td>\n",
              "      <td id=\"T_c5b63_row7_col1\" class=\"data row7 col1\" >Jagmohan</td>\n",
              "      <td id=\"T_c5b63_row7_col2\" class=\"data row7 col2\" >Accounts</td>\n",
              "      <td id=\"T_c5b63_row7_col3\" class=\"data row7 col3\" >Calcutta</td>\n",
              "    </tr>\n",
              "    <tr>\n",
              "      <td id=\"T_c5b63_row8_col0\" class=\"data row8 col0\" >822134</td>\n",
              "      <td id=\"T_c5b63_row8_col1\" class=\"data row8 col1\" >Rahul</td>\n",
              "      <td id=\"T_c5b63_row8_col2\" class=\"data row8 col2\" >Accounts</td>\n",
              "      <td id=\"T_c5b63_row8_col3\" class=\"data row8 col3\" >Calcutta</td>\n",
              "    </tr>\n",
              "    <tr>\n",
              "      <td id=\"T_c5b63_row9_col0\" class=\"data row9 col0\" >989007</td>\n",
              "      <td id=\"T_c5b63_row9_col1\" class=\"data row9 col1\" >Sourav</td>\n",
              "      <td id=\"T_c5b63_row9_col2\" class=\"data row9 col2\" >Production</td>\n",
              "      <td id=\"T_c5b63_row9_col3\" class=\"data row9 col3\" >Bombay</td>\n",
              "    </tr>\n",
              "    <tr>\n",
              "      <td id=\"T_c5b63_row10_col0\" class=\"data row10 col0\" >123980</td>\n",
              "      <td id=\"T_c5b63_row10_col1\" class=\"data row10 col1\" >Mahender</td>\n",
              "      <td id=\"T_c5b63_row10_col2\" class=\"data row10 col2\" >Production</td>\n",
              "      <td id=\"T_c5b63_row10_col3\" class=\"data row10 col3\" >Bombay</td>\n",
              "    </tr>\n",
              "    <tr>\n",
              "      <td id=\"T_c5b63_row11_col0\" class=\"data row11 col0\" >349870</td>\n",
              "      <td id=\"T_c5b63_row11_col1\" class=\"data row11 col1\" >Rani</td>\n",
              "      <td id=\"T_c5b63_row11_col2\" class=\"data row11 col2\" >Production</td>\n",
              "      <td id=\"T_c5b63_row11_col3\" class=\"data row11 col3\" >Bombay</td>\n",
              "    </tr>\n",
              "    <tr>\n",
              "      <td id=\"T_c5b63_row12_col0\" class=\"data row12 col0\" >None</td>\n",
              "      <td id=\"T_c5b63_row12_col1\" class=\"data row12 col1\" >None</td>\n",
              "      <td id=\"T_c5b63_row12_col2\" class=\"data row12 col2\" >Research</td>\n",
              "      <td id=\"T_c5b63_row12_col3\" class=\"data row12 col3\" >Delhi</td>\n",
              "    </tr>\n",
              "  </tbody>\n",
              "</table>\n"
            ]
          },
          "metadata": {},
          "execution_count": 52
        }
      ]
    },
    {
      "cell_type": "markdown",
      "source": [
        "### Full Outer"
      ],
      "metadata": {
        "id": "RsEyhBBp24zy"
      }
    },
    {
      "cell_type": "code",
      "source": [
        "sql = 'select empid, firstname, deptname, location from empl FULL JOIN dept ON empl.deptid = dept.deptid'\n",
        "runSelect(sql)"
      ],
      "metadata": {
        "colab": {
          "base_uri": "https://localhost:8080/",
          "height": 488
        },
        "id": "Ipt14U9o2qFg",
        "outputId": "47200efa-3e25-4cf6-9d97-51bad051809e"
      },
      "execution_count": 53,
      "outputs": [
        {
          "output_type": "execute_result",
          "data": {
            "text/plain": [
              "<pandas.io.formats.style.Styler at 0x79a16b089210>"
            ],
            "text/html": [
              "<style type=\"text/css\">\n",
              "</style>\n",
              "<table id=\"T_fb824\" class=\"dataframe\">\n",
              "  <thead>\n",
              "    <tr>\n",
              "      <th id=\"T_fb824_level0_col0\" class=\"col_heading level0 col0\" >empid</th>\n",
              "      <th id=\"T_fb824_level0_col1\" class=\"col_heading level0 col1\" >firstname</th>\n",
              "      <th id=\"T_fb824_level0_col2\" class=\"col_heading level0 col2\" >deptname</th>\n",
              "      <th id=\"T_fb824_level0_col3\" class=\"col_heading level0 col3\" >location</th>\n",
              "    </tr>\n",
              "  </thead>\n",
              "  <tbody>\n",
              "    <tr>\n",
              "      <td id=\"T_fb824_row0_col0\" class=\"data row0 col0\" >546223</td>\n",
              "      <td id=\"T_fb824_row0_col1\" class=\"data row0 col1\" >Narayan</td>\n",
              "      <td id=\"T_fb824_row0_col2\" class=\"data row0 col2\" >Corporate</td>\n",
              "      <td id=\"T_fb824_row0_col3\" class=\"data row0 col3\" >Calcutta</td>\n",
              "    </tr>\n",
              "    <tr>\n",
              "      <td id=\"T_fb824_row1_col0\" class=\"data row1 col0\" >299034</td>\n",
              "      <td id=\"T_fb824_row1_col1\" class=\"data row1 col1\" >Rekha</td>\n",
              "      <td id=\"T_fb824_row1_col2\" class=\"data row1 col2\" >Corporate</td>\n",
              "      <td id=\"T_fb824_row1_col3\" class=\"data row1 col3\" >Calcutta</td>\n",
              "    </tr>\n",
              "    <tr>\n",
              "      <td id=\"T_fb824_row2_col0\" class=\"data row2 col0\" >742866</td>\n",
              "      <td id=\"T_fb824_row2_col1\" class=\"data row2 col1\" >Amitabh</td>\n",
              "      <td id=\"T_fb824_row2_col2\" class=\"data row2 col2\" >Corporate</td>\n",
              "      <td id=\"T_fb824_row2_col3\" class=\"data row2 col3\" >Calcutta</td>\n",
              "    </tr>\n",
              "    <tr>\n",
              "      <td id=\"T_fb824_row3_col0\" class=\"data row3 col0\" >897889</td>\n",
              "      <td id=\"T_fb824_row3_col1\" class=\"data row3 col1\" >Virender</td>\n",
              "      <td id=\"T_fb824_row3_col2\" class=\"data row3 col2\" >Sales</td>\n",
              "      <td id=\"T_fb824_row3_col3\" class=\"data row3 col3\" >Calcutta</td>\n",
              "    </tr>\n",
              "    <tr>\n",
              "      <td id=\"T_fb824_row4_col0\" class=\"data row4 col0\" >239456</td>\n",
              "      <td id=\"T_fb824_row4_col1\" class=\"data row4 col1\" >Shahrukh</td>\n",
              "      <td id=\"T_fb824_row4_col2\" class=\"data row4 col2\" >Sales</td>\n",
              "      <td id=\"T_fb824_row4_col3\" class=\"data row4 col3\" >Calcutta</td>\n",
              "    </tr>\n",
              "    <tr>\n",
              "      <td id=\"T_fb824_row5_col0\" class=\"data row5 col0\" >865477</td>\n",
              "      <td id=\"T_fb824_row5_col1\" class=\"data row5 col1\" >Madhuri</td>\n",
              "      <td id=\"T_fb824_row5_col2\" class=\"data row5 col2\" >Sales</td>\n",
              "      <td id=\"T_fb824_row5_col3\" class=\"data row5 col3\" >Calcutta</td>\n",
              "    </tr>\n",
              "    <tr>\n",
              "      <td id=\"T_fb824_row6_col0\" class=\"data row6 col0\" >223112</td>\n",
              "      <td id=\"T_fb824_row6_col1\" class=\"data row6 col1\" >Sania</td>\n",
              "      <td id=\"T_fb824_row6_col2\" class=\"data row6 col2\" >Accounts</td>\n",
              "      <td id=\"T_fb824_row6_col3\" class=\"data row6 col3\" >Calcutta</td>\n",
              "    </tr>\n",
              "    <tr>\n",
              "      <td id=\"T_fb824_row7_col0\" class=\"data row7 col0\" >997445</td>\n",
              "      <td id=\"T_fb824_row7_col1\" class=\"data row7 col1\" >Jagmohan</td>\n",
              "      <td id=\"T_fb824_row7_col2\" class=\"data row7 col2\" >Accounts</td>\n",
              "      <td id=\"T_fb824_row7_col3\" class=\"data row7 col3\" >Calcutta</td>\n",
              "    </tr>\n",
              "    <tr>\n",
              "      <td id=\"T_fb824_row8_col0\" class=\"data row8 col0\" >822134</td>\n",
              "      <td id=\"T_fb824_row8_col1\" class=\"data row8 col1\" >Rahul</td>\n",
              "      <td id=\"T_fb824_row8_col2\" class=\"data row8 col2\" >Accounts</td>\n",
              "      <td id=\"T_fb824_row8_col3\" class=\"data row8 col3\" >Calcutta</td>\n",
              "    </tr>\n",
              "    <tr>\n",
              "      <td id=\"T_fb824_row9_col0\" class=\"data row9 col0\" >989007</td>\n",
              "      <td id=\"T_fb824_row9_col1\" class=\"data row9 col1\" >Sourav</td>\n",
              "      <td id=\"T_fb824_row9_col2\" class=\"data row9 col2\" >Production</td>\n",
              "      <td id=\"T_fb824_row9_col3\" class=\"data row9 col3\" >Bombay</td>\n",
              "    </tr>\n",
              "    <tr>\n",
              "      <td id=\"T_fb824_row10_col0\" class=\"data row10 col0\" >123980</td>\n",
              "      <td id=\"T_fb824_row10_col1\" class=\"data row10 col1\" >Mahender</td>\n",
              "      <td id=\"T_fb824_row10_col2\" class=\"data row10 col2\" >Production</td>\n",
              "      <td id=\"T_fb824_row10_col3\" class=\"data row10 col3\" >Bombay</td>\n",
              "    </tr>\n",
              "    <tr>\n",
              "      <td id=\"T_fb824_row11_col0\" class=\"data row11 col0\" >349870</td>\n",
              "      <td id=\"T_fb824_row11_col1\" class=\"data row11 col1\" >Rani</td>\n",
              "      <td id=\"T_fb824_row11_col2\" class=\"data row11 col2\" >Production</td>\n",
              "      <td id=\"T_fb824_row11_col3\" class=\"data row11 col3\" >Bombay</td>\n",
              "    </tr>\n",
              "    <tr>\n",
              "      <td id=\"T_fb824_row12_col0\" class=\"data row12 col0\" >None</td>\n",
              "      <td id=\"T_fb824_row12_col1\" class=\"data row12 col1\" >None</td>\n",
              "      <td id=\"T_fb824_row12_col2\" class=\"data row12 col2\" >Research</td>\n",
              "      <td id=\"T_fb824_row12_col3\" class=\"data row12 col3\" >Delhi</td>\n",
              "    </tr>\n",
              "    <tr>\n",
              "      <td id=\"T_fb824_row13_col0\" class=\"data row13 col0\" >546224</td>\n",
              "      <td id=\"T_fb824_row13_col1\" class=\"data row13 col1\" >Chettri</td>\n",
              "      <td id=\"T_fb824_row13_col2\" class=\"data row13 col2\" >None</td>\n",
              "      <td id=\"T_fb824_row13_col3\" class=\"data row13 col3\" >None</td>\n",
              "    </tr>\n",
              "  </tbody>\n",
              "</table>\n"
            ]
          },
          "metadata": {},
          "execution_count": 53
        }
      ]
    },
    {
      "cell_type": "code",
      "source": [
        "sql = 'select deptname,round(sum(salary),0) payroll from empl FULL JOIN dept ON empl.deptid = dept.deptid \\\n",
        "group by deptname'\n",
        "runSelect(sql)"
      ],
      "metadata": {
        "id": "EAI2kiYP3p9O",
        "outputId": "c0375550-62d6-4c87-9d01-f6999c4d6f1d",
        "colab": {
          "base_uri": "https://localhost:8080/",
          "height": 238
        }
      },
      "execution_count": 54,
      "outputs": [
        {
          "output_type": "execute_result",
          "data": {
            "text/plain": [
              "<pandas.io.formats.style.Styler at 0x79a16b088340>"
            ],
            "text/html": [
              "<style type=\"text/css\">\n",
              "</style>\n",
              "<table id=\"T_d64db\" class=\"dataframe\">\n",
              "  <thead>\n",
              "    <tr>\n",
              "      <th id=\"T_d64db_level0_col0\" class=\"col_heading level0 col0\" >deptname</th>\n",
              "      <th id=\"T_d64db_level0_col1\" class=\"col_heading level0 col1\" >payroll</th>\n",
              "    </tr>\n",
              "  </thead>\n",
              "  <tbody>\n",
              "    <tr>\n",
              "      <td id=\"T_d64db_row0_col0\" class=\"data row0 col0\" >None</td>\n",
              "      <td id=\"T_d64db_row0_col1\" class=\"data row0 col1\" >40000</td>\n",
              "    </tr>\n",
              "    <tr>\n",
              "      <td id=\"T_d64db_row1_col0\" class=\"data row1 col0\" >Research</td>\n",
              "      <td id=\"T_d64db_row1_col1\" class=\"data row1 col1\" >None</td>\n",
              "    </tr>\n",
              "    <tr>\n",
              "      <td id=\"T_d64db_row2_col0\" class=\"data row2 col0\" >Corporate</td>\n",
              "      <td id=\"T_d64db_row2_col1\" class=\"data row2 col1\" >150000</td>\n",
              "    </tr>\n",
              "    <tr>\n",
              "      <td id=\"T_d64db_row3_col0\" class=\"data row3 col0\" >Accounts</td>\n",
              "      <td id=\"T_d64db_row3_col1\" class=\"data row3 col1\" >77000</td>\n",
              "    </tr>\n",
              "    <tr>\n",
              "      <td id=\"T_d64db_row4_col0\" class=\"data row4 col0\" >Sales</td>\n",
              "      <td id=\"T_d64db_row4_col1\" class=\"data row4 col1\" >55000</td>\n",
              "    </tr>\n",
              "    <tr>\n",
              "      <td id=\"T_d64db_row5_col0\" class=\"data row5 col0\" >Production</td>\n",
              "      <td id=\"T_d64db_row5_col1\" class=\"data row5 col1\" >54000</td>\n",
              "    </tr>\n",
              "  </tbody>\n",
              "</table>\n"
            ]
          },
          "metadata": {},
          "execution_count": 54
        }
      ]
    },
    {
      "cell_type": "markdown",
      "source": [
        "## Recursive Joins"
      ],
      "metadata": {
        "id": "6nm2xAfn6pIV"
      }
    },
    {
      "cell_type": "markdown",
      "source": [
        "### Three Tables"
      ],
      "metadata": {
        "id": "A1KCGwwyB02z"
      }
    },
    {
      "cell_type": "code",
      "source": [
        "cmd = \"select w.lastname , w.deptID, '>' linksTo  , d.deptID ,d.managerID,'<' linksTo, m.empID, m.lastname \\\n",
        "        from Empl w, Dept d, Empl m \\\n",
        "        where w.deptID = d.deptID   \\\n",
        "        and d.managerID = m.empID \\\n",
        "    \"\n",
        "runSelect(cmd)"
      ],
      "metadata": {
        "colab": {
          "base_uri": "https://localhost:8080/",
          "height": 426
        },
        "id": "W17nS5R7AL0J",
        "outputId": "8f44f1ed-66dd-4d09-de57-21df7fd34e9b"
      },
      "execution_count": 55,
      "outputs": [
        {
          "output_type": "execute_result",
          "data": {
            "text/plain": [
              "<pandas.io.formats.style.Styler at 0x79a16b088040>"
            ],
            "text/html": [
              "<style type=\"text/css\">\n",
              "</style>\n",
              "<table id=\"T_e2f42\" class=\"dataframe\">\n",
              "  <thead>\n",
              "    <tr>\n",
              "      <th id=\"T_e2f42_level0_col0\" class=\"col_heading level0 col0\" >lastname</th>\n",
              "      <th id=\"T_e2f42_level0_col1\" class=\"col_heading level0 col1\" >deptid</th>\n",
              "      <th id=\"T_e2f42_level0_col2\" class=\"col_heading level0 col2\" >linksto</th>\n",
              "      <th id=\"T_e2f42_level0_col3\" class=\"col_heading level0 col3\" >deptid</th>\n",
              "      <th id=\"T_e2f42_level0_col4\" class=\"col_heading level0 col4\" >managerid</th>\n",
              "      <th id=\"T_e2f42_level0_col5\" class=\"col_heading level0 col5\" >linksto</th>\n",
              "      <th id=\"T_e2f42_level0_col6\" class=\"col_heading level0 col6\" >empid</th>\n",
              "      <th id=\"T_e2f42_level0_col7\" class=\"col_heading level0 col7\" >lastname</th>\n",
              "    </tr>\n",
              "  </thead>\n",
              "  <tbody>\n",
              "    <tr>\n",
              "      <td id=\"T_e2f42_row0_col0\" class=\"data row0 col0\" >Karthikeyan</td>\n",
              "      <td id=\"T_e2f42_row0_col1\" class=\"data row0 col1\" >10</td>\n",
              "      <td id=\"T_e2f42_row0_col2\" class=\"data row0 col2\" >></td>\n",
              "      <td id=\"T_e2f42_row0_col3\" class=\"data row0 col3\" >10</td>\n",
              "      <td id=\"T_e2f42_row0_col4\" class=\"data row0 col4\" >299034</td>\n",
              "      <td id=\"T_e2f42_row0_col5\" class=\"data row0 col5\" ><</td>\n",
              "      <td id=\"T_e2f42_row0_col6\" class=\"data row0 col6\" >299034</td>\n",
              "      <td id=\"T_e2f42_row0_col7\" class=\"data row0 col7\" >Ganesan</td>\n",
              "    </tr>\n",
              "    <tr>\n",
              "      <td id=\"T_e2f42_row1_col0\" class=\"data row1 col0\" >Ganesan</td>\n",
              "      <td id=\"T_e2f42_row1_col1\" class=\"data row1 col1\" >10</td>\n",
              "      <td id=\"T_e2f42_row1_col2\" class=\"data row1 col2\" >></td>\n",
              "      <td id=\"T_e2f42_row1_col3\" class=\"data row1 col3\" >10</td>\n",
              "      <td id=\"T_e2f42_row1_col4\" class=\"data row1 col4\" >299034</td>\n",
              "      <td id=\"T_e2f42_row1_col5\" class=\"data row1 col5\" ><</td>\n",
              "      <td id=\"T_e2f42_row1_col6\" class=\"data row1 col6\" >299034</td>\n",
              "      <td id=\"T_e2f42_row1_col7\" class=\"data row1 col7\" >Ganesan</td>\n",
              "    </tr>\n",
              "    <tr>\n",
              "      <td id=\"T_e2f42_row2_col0\" class=\"data row2 col0\" >Bacchan</td>\n",
              "      <td id=\"T_e2f42_row2_col1\" class=\"data row2 col1\" >10</td>\n",
              "      <td id=\"T_e2f42_row2_col2\" class=\"data row2 col2\" >></td>\n",
              "      <td id=\"T_e2f42_row2_col3\" class=\"data row2 col3\" >10</td>\n",
              "      <td id=\"T_e2f42_row2_col4\" class=\"data row2 col4\" >299034</td>\n",
              "      <td id=\"T_e2f42_row2_col5\" class=\"data row2 col5\" ><</td>\n",
              "      <td id=\"T_e2f42_row2_col6\" class=\"data row2 col6\" >299034</td>\n",
              "      <td id=\"T_e2f42_row2_col7\" class=\"data row2 col7\" >Ganesan</td>\n",
              "    </tr>\n",
              "    <tr>\n",
              "      <td id=\"T_e2f42_row3_col0\" class=\"data row3 col0\" >Sehwag</td>\n",
              "      <td id=\"T_e2f42_row3_col1\" class=\"data row3 col1\" >20</td>\n",
              "      <td id=\"T_e2f42_row3_col2\" class=\"data row3 col2\" >></td>\n",
              "      <td id=\"T_e2f42_row3_col3\" class=\"data row3 col3\" >20</td>\n",
              "      <td id=\"T_e2f42_row3_col4\" class=\"data row3 col4\" >239456</td>\n",
              "      <td id=\"T_e2f42_row3_col5\" class=\"data row3 col5\" ><</td>\n",
              "      <td id=\"T_e2f42_row3_col6\" class=\"data row3 col6\" >239456</td>\n",
              "      <td id=\"T_e2f42_row3_col7\" class=\"data row3 col7\" >Khan</td>\n",
              "    </tr>\n",
              "    <tr>\n",
              "      <td id=\"T_e2f42_row4_col0\" class=\"data row4 col0\" >Khan</td>\n",
              "      <td id=\"T_e2f42_row4_col1\" class=\"data row4 col1\" >20</td>\n",
              "      <td id=\"T_e2f42_row4_col2\" class=\"data row4 col2\" >></td>\n",
              "      <td id=\"T_e2f42_row4_col3\" class=\"data row4 col3\" >20</td>\n",
              "      <td id=\"T_e2f42_row4_col4\" class=\"data row4 col4\" >239456</td>\n",
              "      <td id=\"T_e2f42_row4_col5\" class=\"data row4 col5\" ><</td>\n",
              "      <td id=\"T_e2f42_row4_col6\" class=\"data row4 col6\" >239456</td>\n",
              "      <td id=\"T_e2f42_row4_col7\" class=\"data row4 col7\" >Khan</td>\n",
              "    </tr>\n",
              "    <tr>\n",
              "      <td id=\"T_e2f42_row5_col0\" class=\"data row5 col0\" >Dikshit</td>\n",
              "      <td id=\"T_e2f42_row5_col1\" class=\"data row5 col1\" >20</td>\n",
              "      <td id=\"T_e2f42_row5_col2\" class=\"data row5 col2\" >></td>\n",
              "      <td id=\"T_e2f42_row5_col3\" class=\"data row5 col3\" >20</td>\n",
              "      <td id=\"T_e2f42_row5_col4\" class=\"data row5 col4\" >239456</td>\n",
              "      <td id=\"T_e2f42_row5_col5\" class=\"data row5 col5\" ><</td>\n",
              "      <td id=\"T_e2f42_row5_col6\" class=\"data row5 col6\" >239456</td>\n",
              "      <td id=\"T_e2f42_row5_col7\" class=\"data row5 col7\" >Khan</td>\n",
              "    </tr>\n",
              "    <tr>\n",
              "      <td id=\"T_e2f42_row6_col0\" class=\"data row6 col0\" >Mirza</td>\n",
              "      <td id=\"T_e2f42_row6_col1\" class=\"data row6 col1\" >30</td>\n",
              "      <td id=\"T_e2f42_row6_col2\" class=\"data row6 col2\" >></td>\n",
              "      <td id=\"T_e2f42_row6_col3\" class=\"data row6 col3\" >30</td>\n",
              "      <td id=\"T_e2f42_row6_col4\" class=\"data row6 col4\" >822134</td>\n",
              "      <td id=\"T_e2f42_row6_col5\" class=\"data row6 col5\" ><</td>\n",
              "      <td id=\"T_e2f42_row6_col6\" class=\"data row6 col6\" >822134</td>\n",
              "      <td id=\"T_e2f42_row6_col7\" class=\"data row6 col7\" >Dravid</td>\n",
              "    </tr>\n",
              "    <tr>\n",
              "      <td id=\"T_e2f42_row7_col0\" class=\"data row7 col0\" >Dalmia</td>\n",
              "      <td id=\"T_e2f42_row7_col1\" class=\"data row7 col1\" >30</td>\n",
              "      <td id=\"T_e2f42_row7_col2\" class=\"data row7 col2\" >></td>\n",
              "      <td id=\"T_e2f42_row7_col3\" class=\"data row7 col3\" >30</td>\n",
              "      <td id=\"T_e2f42_row7_col4\" class=\"data row7 col4\" >822134</td>\n",
              "      <td id=\"T_e2f42_row7_col5\" class=\"data row7 col5\" ><</td>\n",
              "      <td id=\"T_e2f42_row7_col6\" class=\"data row7 col6\" >822134</td>\n",
              "      <td id=\"T_e2f42_row7_col7\" class=\"data row7 col7\" >Dravid</td>\n",
              "    </tr>\n",
              "    <tr>\n",
              "      <td id=\"T_e2f42_row8_col0\" class=\"data row8 col0\" >Dravid</td>\n",
              "      <td id=\"T_e2f42_row8_col1\" class=\"data row8 col1\" >30</td>\n",
              "      <td id=\"T_e2f42_row8_col2\" class=\"data row8 col2\" >></td>\n",
              "      <td id=\"T_e2f42_row8_col3\" class=\"data row8 col3\" >30</td>\n",
              "      <td id=\"T_e2f42_row8_col4\" class=\"data row8 col4\" >822134</td>\n",
              "      <td id=\"T_e2f42_row8_col5\" class=\"data row8 col5\" ><</td>\n",
              "      <td id=\"T_e2f42_row8_col6\" class=\"data row8 col6\" >822134</td>\n",
              "      <td id=\"T_e2f42_row8_col7\" class=\"data row8 col7\" >Dravid</td>\n",
              "    </tr>\n",
              "    <tr>\n",
              "      <td id=\"T_e2f42_row9_col0\" class=\"data row9 col0\" >Ganguly</td>\n",
              "      <td id=\"T_e2f42_row9_col1\" class=\"data row9 col1\" >40</td>\n",
              "      <td id=\"T_e2f42_row9_col2\" class=\"data row9 col2\" >></td>\n",
              "      <td id=\"T_e2f42_row9_col3\" class=\"data row9 col3\" >40</td>\n",
              "      <td id=\"T_e2f42_row9_col4\" class=\"data row9 col4\" >349870</td>\n",
              "      <td id=\"T_e2f42_row9_col5\" class=\"data row9 col5\" ><</td>\n",
              "      <td id=\"T_e2f42_row9_col6\" class=\"data row9 col6\" >349870</td>\n",
              "      <td id=\"T_e2f42_row9_col7\" class=\"data row9 col7\" >Mukherjee</td>\n",
              "    </tr>\n",
              "    <tr>\n",
              "      <td id=\"T_e2f42_row10_col0\" class=\"data row10 col0\" >Dhoni</td>\n",
              "      <td id=\"T_e2f42_row10_col1\" class=\"data row10 col1\" >40</td>\n",
              "      <td id=\"T_e2f42_row10_col2\" class=\"data row10 col2\" >></td>\n",
              "      <td id=\"T_e2f42_row10_col3\" class=\"data row10 col3\" >40</td>\n",
              "      <td id=\"T_e2f42_row10_col4\" class=\"data row10 col4\" >349870</td>\n",
              "      <td id=\"T_e2f42_row10_col5\" class=\"data row10 col5\" ><</td>\n",
              "      <td id=\"T_e2f42_row10_col6\" class=\"data row10 col6\" >349870</td>\n",
              "      <td id=\"T_e2f42_row10_col7\" class=\"data row10 col7\" >Mukherjee</td>\n",
              "    </tr>\n",
              "    <tr>\n",
              "      <td id=\"T_e2f42_row11_col0\" class=\"data row11 col0\" >Mukherjee</td>\n",
              "      <td id=\"T_e2f42_row11_col1\" class=\"data row11 col1\" >40</td>\n",
              "      <td id=\"T_e2f42_row11_col2\" class=\"data row11 col2\" >></td>\n",
              "      <td id=\"T_e2f42_row11_col3\" class=\"data row11 col3\" >40</td>\n",
              "      <td id=\"T_e2f42_row11_col4\" class=\"data row11 col4\" >349870</td>\n",
              "      <td id=\"T_e2f42_row11_col5\" class=\"data row11 col5\" ><</td>\n",
              "      <td id=\"T_e2f42_row11_col6\" class=\"data row11 col6\" >349870</td>\n",
              "      <td id=\"T_e2f42_row11_col7\" class=\"data row11 col7\" >Mukherjee</td>\n",
              "    </tr>\n",
              "  </tbody>\n",
              "</table>\n"
            ]
          },
          "metadata": {},
          "execution_count": 55
        }
      ]
    },
    {
      "cell_type": "markdown",
      "source": [
        "### Self Join / Single Table"
      ],
      "metadata": {
        "id": "jeknsMbjCA2A"
      }
    },
    {
      "cell_type": "code",
      "source": [
        "cmd = \"Select w.FirstName, w.JobDesc, w.DeptID, \\\n",
        "    ' hired by ' hiredby, \\\n",
        "    m.FirstName,m.JobDesc,m.DeptID \\\n",
        "    from empl w, empl m \\\n",
        "    where w.HiredBy = m.EmpID\"\n",
        "\n",
        "runSelect(cmd)"
      ],
      "metadata": {
        "colab": {
          "base_uri": "https://localhost:8080/",
          "height": 426
        },
        "id": "iDPmUw9-CEBH",
        "outputId": "abbec585-6eeb-4554-cee1-ffe3bc3fbca2"
      },
      "execution_count": 56,
      "outputs": [
        {
          "output_type": "execute_result",
          "data": {
            "text/plain": [
              "<pandas.io.formats.style.Styler at 0x79a16b089ae0>"
            ],
            "text/html": [
              "<style type=\"text/css\">\n",
              "</style>\n",
              "<table id=\"T_a2898\" class=\"dataframe\">\n",
              "  <thead>\n",
              "    <tr>\n",
              "      <th id=\"T_a2898_level0_col0\" class=\"col_heading level0 col0\" >firstname</th>\n",
              "      <th id=\"T_a2898_level0_col1\" class=\"col_heading level0 col1\" >jobdesc</th>\n",
              "      <th id=\"T_a2898_level0_col2\" class=\"col_heading level0 col2\" >deptid</th>\n",
              "      <th id=\"T_a2898_level0_col3\" class=\"col_heading level0 col3\" >hiredby</th>\n",
              "      <th id=\"T_a2898_level0_col4\" class=\"col_heading level0 col4\" >firstname</th>\n",
              "      <th id=\"T_a2898_level0_col5\" class=\"col_heading level0 col5\" >jobdesc</th>\n",
              "      <th id=\"T_a2898_level0_col6\" class=\"col_heading level0 col6\" >deptid</th>\n",
              "    </tr>\n",
              "  </thead>\n",
              "  <tbody>\n",
              "    <tr>\n",
              "      <td id=\"T_a2898_row0_col0\" class=\"data row0 col0\" >Rani</td>\n",
              "      <td id=\"T_a2898_row0_col1\" class=\"data row0 col1\" >Manager</td>\n",
              "      <td id=\"T_a2898_row0_col2\" class=\"data row0 col2\" >40</td>\n",
              "      <td id=\"T_a2898_row0_col3\" class=\"data row0 col3\" > hired by </td>\n",
              "      <td id=\"T_a2898_row0_col4\" class=\"data row0 col4\" >Amitabh</td>\n",
              "      <td id=\"T_a2898_row0_col5\" class=\"data row0 col5\" >Executive</td>\n",
              "      <td id=\"T_a2898_row0_col6\" class=\"data row0 col6\" >10</td>\n",
              "    </tr>\n",
              "    <tr>\n",
              "      <td id=\"T_a2898_row1_col0\" class=\"data row1 col0\" >Madhuri</td>\n",
              "      <td id=\"T_a2898_row1_col1\" class=\"data row1 col1\" >Clerk</td>\n",
              "      <td id=\"T_a2898_row1_col2\" class=\"data row1 col2\" >20</td>\n",
              "      <td id=\"T_a2898_row1_col3\" class=\"data row1 col3\" > hired by </td>\n",
              "      <td id=\"T_a2898_row1_col4\" class=\"data row1 col4\" >Shahrukh</td>\n",
              "      <td id=\"T_a2898_row1_col5\" class=\"data row1 col5\" >Manager</td>\n",
              "      <td id=\"T_a2898_row1_col6\" class=\"data row1 col6\" >20</td>\n",
              "    </tr>\n",
              "    <tr>\n",
              "      <td id=\"T_a2898_row2_col0\" class=\"data row2 col0\" >Shahrukh</td>\n",
              "      <td id=\"T_a2898_row2_col1\" class=\"data row2 col1\" >Manager</td>\n",
              "      <td id=\"T_a2898_row2_col2\" class=\"data row2 col2\" >20</td>\n",
              "      <td id=\"T_a2898_row2_col3\" class=\"data row2 col3\" > hired by </td>\n",
              "      <td id=\"T_a2898_row2_col4\" class=\"data row2 col4\" >Amitabh</td>\n",
              "      <td id=\"T_a2898_row2_col5\" class=\"data row2 col5\" >Executive</td>\n",
              "      <td id=\"T_a2898_row2_col6\" class=\"data row2 col6\" >10</td>\n",
              "    </tr>\n",
              "    <tr>\n",
              "      <td id=\"T_a2898_row3_col0\" class=\"data row3 col0\" >Virender</td>\n",
              "      <td id=\"T_a2898_row3_col1\" class=\"data row3 col1\" >Cus_Rep</td>\n",
              "      <td id=\"T_a2898_row3_col2\" class=\"data row3 col2\" >20</td>\n",
              "      <td id=\"T_a2898_row3_col3\" class=\"data row3 col3\" > hired by </td>\n",
              "      <td id=\"T_a2898_row3_col4\" class=\"data row3 col4\" >Shahrukh</td>\n",
              "      <td id=\"T_a2898_row3_col5\" class=\"data row3 col5\" >Manager</td>\n",
              "      <td id=\"T_a2898_row3_col6\" class=\"data row3 col6\" >20</td>\n",
              "    </tr>\n",
              "    <tr>\n",
              "      <td id=\"T_a2898_row4_col0\" class=\"data row4 col0\" >Mahender</td>\n",
              "      <td id=\"T_a2898_row4_col1\" class=\"data row4 col1\" >Clerk</td>\n",
              "      <td id=\"T_a2898_row4_col2\" class=\"data row4 col2\" >40</td>\n",
              "      <td id=\"T_a2898_row4_col3\" class=\"data row4 col3\" > hired by </td>\n",
              "      <td id=\"T_a2898_row4_col4\" class=\"data row4 col4\" >Rani</td>\n",
              "      <td id=\"T_a2898_row4_col5\" class=\"data row4 col5\" >Manager</td>\n",
              "      <td id=\"T_a2898_row4_col6\" class=\"data row4 col6\" >40</td>\n",
              "    </tr>\n",
              "    <tr>\n",
              "      <td id=\"T_a2898_row5_col0\" class=\"data row5 col0\" >Rahul</td>\n",
              "      <td id=\"T_a2898_row5_col1\" class=\"data row5 col1\" >Sr Manager</td>\n",
              "      <td id=\"T_a2898_row5_col2\" class=\"data row5 col2\" >30</td>\n",
              "      <td id=\"T_a2898_row5_col3\" class=\"data row5 col3\" > hired by </td>\n",
              "      <td id=\"T_a2898_row5_col4\" class=\"data row5 col4\" >Amitabh</td>\n",
              "      <td id=\"T_a2898_row5_col5\" class=\"data row5 col5\" >Executive</td>\n",
              "      <td id=\"T_a2898_row5_col6\" class=\"data row5 col6\" >10</td>\n",
              "    </tr>\n",
              "    <tr>\n",
              "      <td id=\"T_a2898_row6_col0\" class=\"data row6 col0\" >Jagmohan</td>\n",
              "      <td id=\"T_a2898_row6_col1\" class=\"data row6 col1\" >Clerk</td>\n",
              "      <td id=\"T_a2898_row6_col2\" class=\"data row6 col2\" >30</td>\n",
              "      <td id=\"T_a2898_row6_col3\" class=\"data row6 col3\" > hired by </td>\n",
              "      <td id=\"T_a2898_row6_col4\" class=\"data row6 col4\" >Rahul</td>\n",
              "      <td id=\"T_a2898_row6_col5\" class=\"data row6 col5\" >Sr Manager</td>\n",
              "      <td id=\"T_a2898_row6_col6\" class=\"data row6 col6\" >30</td>\n",
              "    </tr>\n",
              "    <tr>\n",
              "      <td id=\"T_a2898_row7_col0\" class=\"data row7 col0\" >Sourav</td>\n",
              "      <td id=\"T_a2898_row7_col1\" class=\"data row7 col1\" >Cus_Rep</td>\n",
              "      <td id=\"T_a2898_row7_col2\" class=\"data row7 col2\" >40</td>\n",
              "      <td id=\"T_a2898_row7_col3\" class=\"data row7 col3\" > hired by </td>\n",
              "      <td id=\"T_a2898_row7_col4\" class=\"data row7 col4\" >Rekha</td>\n",
              "      <td id=\"T_a2898_row7_col5\" class=\"data row7 col5\" >Director</td>\n",
              "      <td id=\"T_a2898_row7_col6\" class=\"data row7 col6\" >10</td>\n",
              "    </tr>\n",
              "    <tr>\n",
              "      <td id=\"T_a2898_row8_col0\" class=\"data row8 col0\" >Rekha</td>\n",
              "      <td id=\"T_a2898_row8_col1\" class=\"data row8 col1\" >Director</td>\n",
              "      <td id=\"T_a2898_row8_col2\" class=\"data row8 col2\" >10</td>\n",
              "      <td id=\"T_a2898_row8_col3\" class=\"data row8 col3\" > hired by </td>\n",
              "      <td id=\"T_a2898_row8_col4\" class=\"data row8 col4\" >Amitabh</td>\n",
              "      <td id=\"T_a2898_row8_col5\" class=\"data row8 col5\" >Executive</td>\n",
              "      <td id=\"T_a2898_row8_col6\" class=\"data row8 col6\" >10</td>\n",
              "    </tr>\n",
              "    <tr>\n",
              "      <td id=\"T_a2898_row9_col0\" class=\"data row9 col0\" >Narayan</td>\n",
              "      <td id=\"T_a2898_row9_col1\" class=\"data row9 col1\" >Secretary</td>\n",
              "      <td id=\"T_a2898_row9_col2\" class=\"data row9 col2\" >10</td>\n",
              "      <td id=\"T_a2898_row9_col3\" class=\"data row9 col3\" > hired by </td>\n",
              "      <td id=\"T_a2898_row9_col4\" class=\"data row9 col4\" >Rekha</td>\n",
              "      <td id=\"T_a2898_row9_col5\" class=\"data row9 col5\" >Director</td>\n",
              "      <td id=\"T_a2898_row9_col6\" class=\"data row9 col6\" >10</td>\n",
              "    </tr>\n",
              "    <tr>\n",
              "      <td id=\"T_a2898_row10_col0\" class=\"data row10 col0\" >Chettri</td>\n",
              "      <td id=\"T_a2898_row10_col1\" class=\"data row10 col1\" >Dy Manager</td>\n",
              "      <td id=\"T_a2898_row10_col2\" class=\"data row10 col2\" >70</td>\n",
              "      <td id=\"T_a2898_row10_col3\" class=\"data row10 col3\" > hired by </td>\n",
              "      <td id=\"T_a2898_row10_col4\" class=\"data row10 col4\" >Sourav</td>\n",
              "      <td id=\"T_a2898_row10_col5\" class=\"data row10 col5\" >Cus_Rep</td>\n",
              "      <td id=\"T_a2898_row10_col6\" class=\"data row10 col6\" >40</td>\n",
              "    </tr>\n",
              "    <tr>\n",
              "      <td id=\"T_a2898_row11_col0\" class=\"data row11 col0\" >Sania</td>\n",
              "      <td id=\"T_a2898_row11_col1\" class=\"data row11 col1\" >Cus_Rep</td>\n",
              "      <td id=\"T_a2898_row11_col2\" class=\"data row11 col2\" >30</td>\n",
              "      <td id=\"T_a2898_row11_col3\" class=\"data row11 col3\" > hired by </td>\n",
              "      <td id=\"T_a2898_row11_col4\" class=\"data row11 col4\" >Rahul</td>\n",
              "      <td id=\"T_a2898_row11_col5\" class=\"data row11 col5\" >Sr Manager</td>\n",
              "      <td id=\"T_a2898_row11_col6\" class=\"data row11 col6\" >30</td>\n",
              "    </tr>\n",
              "  </tbody>\n",
              "</table>\n"
            ]
          },
          "metadata": {},
          "execution_count": 56
        }
      ]
    },
    {
      "cell_type": "markdown",
      "source": [
        "#Subquery"
      ],
      "metadata": {
        "id": "tXDgw1RBzUf-"
      }
    },
    {
      "cell_type": "code",
      "source": [
        "sql = \"select lastname, salary, jobdesc, deptid from empl where \\\n",
        "salary = (select max(salary) from empl where deptid = '20') \\\n",
        "and deptid = '20'\"\n",
        "\n",
        "runSelect(sql)"
      ],
      "metadata": {
        "colab": {
          "base_uri": "https://localhost:8080/",
          "height": 81
        },
        "id": "SxQqgOcHzYTF",
        "outputId": "a38e5bd6-8927-43ba-88d5-43e5913dcd10"
      },
      "execution_count": 57,
      "outputs": [
        {
          "output_type": "execute_result",
          "data": {
            "text/plain": [
              "<pandas.io.formats.style.Styler at 0x79a16b08bf10>"
            ],
            "text/html": [
              "<style type=\"text/css\">\n",
              "</style>\n",
              "<table id=\"T_3e3e8\" class=\"dataframe\">\n",
              "  <thead>\n",
              "    <tr>\n",
              "      <th id=\"T_3e3e8_level0_col0\" class=\"col_heading level0 col0\" >lastname</th>\n",
              "      <th id=\"T_3e3e8_level0_col1\" class=\"col_heading level0 col1\" >salary</th>\n",
              "      <th id=\"T_3e3e8_level0_col2\" class=\"col_heading level0 col2\" >jobdesc</th>\n",
              "      <th id=\"T_3e3e8_level0_col3\" class=\"col_heading level0 col3\" >deptid</th>\n",
              "    </tr>\n",
              "  </thead>\n",
              "  <tbody>\n",
              "    <tr>\n",
              "      <td id=\"T_3e3e8_row0_col0\" class=\"data row0 col0\" >Khan</td>\n",
              "      <td id=\"T_3e3e8_row0_col1\" class=\"data row0 col1\" >30000</td>\n",
              "      <td id=\"T_3e3e8_row0_col2\" class=\"data row0 col2\" >Manager</td>\n",
              "      <td id=\"T_3e3e8_row0_col3\" class=\"data row0 col3\" >20</td>\n",
              "    </tr>\n",
              "  </tbody>\n",
              "</table>\n"
            ]
          },
          "metadata": {},
          "execution_count": 57
        }
      ]
    },
    {
      "cell_type": "code",
      "source": [
        "sql = \"select lastname, salary, jobdesc, deptid from empl where salary < (select avg(salary) from empl where deptid = '20')\\\n",
        "and deptid = '20'\"\n",
        "runSelect(sql)"
      ],
      "metadata": {
        "colab": {
          "base_uri": "https://localhost:8080/",
          "height": 112
        },
        "id": "oEhaMtyLz3Tm",
        "outputId": "86584697-e869-405e-dd87-cf20a9bbf2c8"
      },
      "execution_count": 58,
      "outputs": [
        {
          "output_type": "execute_result",
          "data": {
            "text/plain": [
              "<pandas.io.formats.style.Styler at 0x79a16b089f00>"
            ],
            "text/html": [
              "<style type=\"text/css\">\n",
              "</style>\n",
              "<table id=\"T_98c74\" class=\"dataframe\">\n",
              "  <thead>\n",
              "    <tr>\n",
              "      <th id=\"T_98c74_level0_col0\" class=\"col_heading level0 col0\" >lastname</th>\n",
              "      <th id=\"T_98c74_level0_col1\" class=\"col_heading level0 col1\" >salary</th>\n",
              "      <th id=\"T_98c74_level0_col2\" class=\"col_heading level0 col2\" >jobdesc</th>\n",
              "      <th id=\"T_98c74_level0_col3\" class=\"col_heading level0 col3\" >deptid</th>\n",
              "    </tr>\n",
              "  </thead>\n",
              "  <tbody>\n",
              "    <tr>\n",
              "      <td id=\"T_98c74_row0_col0\" class=\"data row0 col0\" >Dikshit</td>\n",
              "      <td id=\"T_98c74_row0_col1\" class=\"data row0 col1\" >10000</td>\n",
              "      <td id=\"T_98c74_row0_col2\" class=\"data row0 col2\" >Clerk</td>\n",
              "      <td id=\"T_98c74_row0_col3\" class=\"data row0 col3\" >20</td>\n",
              "    </tr>\n",
              "    <tr>\n",
              "      <td id=\"T_98c74_row1_col0\" class=\"data row1 col0\" >Sehwag</td>\n",
              "      <td id=\"T_98c74_row1_col1\" class=\"data row1 col1\" >15000</td>\n",
              "      <td id=\"T_98c74_row1_col2\" class=\"data row1 col2\" >Cus_Rep</td>\n",
              "      <td id=\"T_98c74_row1_col3\" class=\"data row1 col3\" >20</td>\n",
              "    </tr>\n",
              "  </tbody>\n",
              "</table>\n"
            ]
          },
          "metadata": {},
          "execution_count": 58
        }
      ]
    },
    {
      "cell_type": "markdown",
      "source": [
        "## Exists | Not Exists"
      ],
      "metadata": {
        "id": "l3GWzCV24a2x"
      }
    },
    {
      "cell_type": "code",
      "source": [
        "#!psql -h localhost -p 5432 -Uupraxis -ddbpraxis -c \"\\\n",
        "sql = \"\\\n",
        "select firstname, jobdesc, deptid from empl \\\n",
        "where exists \\\n",
        "(select * from dept where empl.deptid = dept.deptid)\\\n",
        "order by deptid \\\n",
        "\"\n",
        "runSelect(sql)"
      ],
      "metadata": {
        "colab": {
          "base_uri": "https://localhost:8080/",
          "height": 426
        },
        "id": "9vlJrd584fWu",
        "outputId": "9f560368-cde3-4cd0-8989-08d513ad97c5"
      },
      "execution_count": 59,
      "outputs": [
        {
          "output_type": "execute_result",
          "data": {
            "text/plain": [
              "<pandas.io.formats.style.Styler at 0x79a16b08b340>"
            ],
            "text/html": [
              "<style type=\"text/css\">\n",
              "</style>\n",
              "<table id=\"T_9420e\" class=\"dataframe\">\n",
              "  <thead>\n",
              "    <tr>\n",
              "      <th id=\"T_9420e_level0_col0\" class=\"col_heading level0 col0\" >firstname</th>\n",
              "      <th id=\"T_9420e_level0_col1\" class=\"col_heading level0 col1\" >jobdesc</th>\n",
              "      <th id=\"T_9420e_level0_col2\" class=\"col_heading level0 col2\" >deptid</th>\n",
              "    </tr>\n",
              "  </thead>\n",
              "  <tbody>\n",
              "    <tr>\n",
              "      <td id=\"T_9420e_row0_col0\" class=\"data row0 col0\" >Amitabh</td>\n",
              "      <td id=\"T_9420e_row0_col1\" class=\"data row0 col1\" >Executive</td>\n",
              "      <td id=\"T_9420e_row0_col2\" class=\"data row0 col2\" >10</td>\n",
              "    </tr>\n",
              "    <tr>\n",
              "      <td id=\"T_9420e_row1_col0\" class=\"data row1 col0\" >Rekha</td>\n",
              "      <td id=\"T_9420e_row1_col1\" class=\"data row1 col1\" >Director</td>\n",
              "      <td id=\"T_9420e_row1_col2\" class=\"data row1 col2\" >10</td>\n",
              "    </tr>\n",
              "    <tr>\n",
              "      <td id=\"T_9420e_row2_col0\" class=\"data row2 col0\" >Narayan</td>\n",
              "      <td id=\"T_9420e_row2_col1\" class=\"data row2 col1\" >Secretary</td>\n",
              "      <td id=\"T_9420e_row2_col2\" class=\"data row2 col2\" >10</td>\n",
              "    </tr>\n",
              "    <tr>\n",
              "      <td id=\"T_9420e_row3_col0\" class=\"data row3 col0\" >Madhuri</td>\n",
              "      <td id=\"T_9420e_row3_col1\" class=\"data row3 col1\" >Clerk</td>\n",
              "      <td id=\"T_9420e_row3_col2\" class=\"data row3 col2\" >20</td>\n",
              "    </tr>\n",
              "    <tr>\n",
              "      <td id=\"T_9420e_row4_col0\" class=\"data row4 col0\" >Shahrukh</td>\n",
              "      <td id=\"T_9420e_row4_col1\" class=\"data row4 col1\" >Manager</td>\n",
              "      <td id=\"T_9420e_row4_col2\" class=\"data row4 col2\" >20</td>\n",
              "    </tr>\n",
              "    <tr>\n",
              "      <td id=\"T_9420e_row5_col0\" class=\"data row5 col0\" >Virender</td>\n",
              "      <td id=\"T_9420e_row5_col1\" class=\"data row5 col1\" >Cus_Rep</td>\n",
              "      <td id=\"T_9420e_row5_col2\" class=\"data row5 col2\" >20</td>\n",
              "    </tr>\n",
              "    <tr>\n",
              "      <td id=\"T_9420e_row6_col0\" class=\"data row6 col0\" >Sania</td>\n",
              "      <td id=\"T_9420e_row6_col1\" class=\"data row6 col1\" >Cus_Rep</td>\n",
              "      <td id=\"T_9420e_row6_col2\" class=\"data row6 col2\" >30</td>\n",
              "    </tr>\n",
              "    <tr>\n",
              "      <td id=\"T_9420e_row7_col0\" class=\"data row7 col0\" >Rahul</td>\n",
              "      <td id=\"T_9420e_row7_col1\" class=\"data row7 col1\" >Sr Manager</td>\n",
              "      <td id=\"T_9420e_row7_col2\" class=\"data row7 col2\" >30</td>\n",
              "    </tr>\n",
              "    <tr>\n",
              "      <td id=\"T_9420e_row8_col0\" class=\"data row8 col0\" >Jagmohan</td>\n",
              "      <td id=\"T_9420e_row8_col1\" class=\"data row8 col1\" >Clerk</td>\n",
              "      <td id=\"T_9420e_row8_col2\" class=\"data row8 col2\" >30</td>\n",
              "    </tr>\n",
              "    <tr>\n",
              "      <td id=\"T_9420e_row9_col0\" class=\"data row9 col0\" >Sourav</td>\n",
              "      <td id=\"T_9420e_row9_col1\" class=\"data row9 col1\" >Cus_Rep</td>\n",
              "      <td id=\"T_9420e_row9_col2\" class=\"data row9 col2\" >40</td>\n",
              "    </tr>\n",
              "    <tr>\n",
              "      <td id=\"T_9420e_row10_col0\" class=\"data row10 col0\" >Mahender</td>\n",
              "      <td id=\"T_9420e_row10_col1\" class=\"data row10 col1\" >Clerk</td>\n",
              "      <td id=\"T_9420e_row10_col2\" class=\"data row10 col2\" >40</td>\n",
              "    </tr>\n",
              "    <tr>\n",
              "      <td id=\"T_9420e_row11_col0\" class=\"data row11 col0\" >Rani</td>\n",
              "      <td id=\"T_9420e_row11_col1\" class=\"data row11 col1\" >Manager</td>\n",
              "      <td id=\"T_9420e_row11_col2\" class=\"data row11 col2\" >40</td>\n",
              "    </tr>\n",
              "  </tbody>\n",
              "</table>\n"
            ]
          },
          "metadata": {},
          "execution_count": 59
        }
      ]
    },
    {
      "cell_type": "code",
      "source": [
        "#!psql -h localhost -p 5432 -Uupraxis -ddbpraxis -c \"\\\n",
        "sql = \"\\\n",
        "select firstname, jobdesc, deptid from empl \\\n",
        "where not exists \\\n",
        "(select * from dept where empl.deptid = dept.deptid)\\\n",
        "order by deptid \\\n",
        "\"\n",
        "runSelect(sql)"
      ],
      "metadata": {
        "colab": {
          "base_uri": "https://localhost:8080/",
          "height": 81
        },
        "id": "6ntFTYfv5AyB",
        "outputId": "7be6f73d-4450-46ad-e6d5-9056c6040649"
      },
      "execution_count": 60,
      "outputs": [
        {
          "output_type": "execute_result",
          "data": {
            "text/plain": [
              "<pandas.io.formats.style.Styler at 0x79a16b08a620>"
            ],
            "text/html": [
              "<style type=\"text/css\">\n",
              "</style>\n",
              "<table id=\"T_c7e63\" class=\"dataframe\">\n",
              "  <thead>\n",
              "    <tr>\n",
              "      <th id=\"T_c7e63_level0_col0\" class=\"col_heading level0 col0\" >firstname</th>\n",
              "      <th id=\"T_c7e63_level0_col1\" class=\"col_heading level0 col1\" >jobdesc</th>\n",
              "      <th id=\"T_c7e63_level0_col2\" class=\"col_heading level0 col2\" >deptid</th>\n",
              "    </tr>\n",
              "  </thead>\n",
              "  <tbody>\n",
              "    <tr>\n",
              "      <td id=\"T_c7e63_row0_col0\" class=\"data row0 col0\" >Chettri</td>\n",
              "      <td id=\"T_c7e63_row0_col1\" class=\"data row0 col1\" >Dy Manager</td>\n",
              "      <td id=\"T_c7e63_row0_col2\" class=\"data row0 col2\" >70</td>\n",
              "    </tr>\n",
              "  </tbody>\n",
              "</table>\n"
            ]
          },
          "metadata": {},
          "execution_count": 60
        }
      ]
    },
    {
      "cell_type": "markdown",
      "source": [
        "## ALL | ANY"
      ],
      "metadata": {
        "id": "Ft9lsq4Uh8-6"
      }
    },
    {
      "cell_type": "code",
      "source": [
        "#!psql -h localhost -p 5432 -Uupraxis -ddbpraxis -c \"\\\n",
        "sql = \"\\\n",
        "select firstname, jobdesc, deptid, salary from empl \\\n",
        "where salary > all \\\n",
        "(select avg(salary) from empl)\\\n",
        "\"\n",
        "runSelect(sql)"
      ],
      "metadata": {
        "id": "ZySW3QRkiBUG",
        "outputId": "bdcf7ecd-7fe7-4b1b-aa45-2c2a4738bd74",
        "colab": {
          "base_uri": "https://localhost:8080/",
          "height": 238
        }
      },
      "execution_count": 61,
      "outputs": [
        {
          "output_type": "execute_result",
          "data": {
            "text/plain": [
              "<pandas.io.formats.style.Styler at 0x79a16b08a740>"
            ],
            "text/html": [
              "<style type=\"text/css\">\n",
              "</style>\n",
              "<table id=\"T_eed03\" class=\"dataframe\">\n",
              "  <thead>\n",
              "    <tr>\n",
              "      <th id=\"T_eed03_level0_col0\" class=\"col_heading level0 col0\" >firstname</th>\n",
              "      <th id=\"T_eed03_level0_col1\" class=\"col_heading level0 col1\" >jobdesc</th>\n",
              "      <th id=\"T_eed03_level0_col2\" class=\"col_heading level0 col2\" >deptid</th>\n",
              "      <th id=\"T_eed03_level0_col3\" class=\"col_heading level0 col3\" >salary</th>\n",
              "    </tr>\n",
              "  </thead>\n",
              "  <tbody>\n",
              "    <tr>\n",
              "      <td id=\"T_eed03_row0_col0\" class=\"data row0 col0\" >Amitabh</td>\n",
              "      <td id=\"T_eed03_row0_col1\" class=\"data row0 col1\" >Executive</td>\n",
              "      <td id=\"T_eed03_row0_col2\" class=\"data row0 col2\" >10</td>\n",
              "      <td id=\"T_eed03_row0_col3\" class=\"data row0 col3\" >50000</td>\n",
              "    </tr>\n",
              "    <tr>\n",
              "      <td id=\"T_eed03_row1_col0\" class=\"data row1 col0\" >Shahrukh</td>\n",
              "      <td id=\"T_eed03_row1_col1\" class=\"data row1 col1\" >Manager</td>\n",
              "      <td id=\"T_eed03_row1_col2\" class=\"data row1 col2\" >20</td>\n",
              "      <td id=\"T_eed03_row1_col3\" class=\"data row1 col3\" >30000</td>\n",
              "    </tr>\n",
              "    <tr>\n",
              "      <td id=\"T_eed03_row2_col0\" class=\"data row2 col0\" >Rahul</td>\n",
              "      <td id=\"T_eed03_row2_col1\" class=\"data row2 col1\" >Sr Manager</td>\n",
              "      <td id=\"T_eed03_row2_col2\" class=\"data row2 col2\" >30</td>\n",
              "      <td id=\"T_eed03_row2_col3\" class=\"data row2 col3\" >40000</td>\n",
              "    </tr>\n",
              "    <tr>\n",
              "      <td id=\"T_eed03_row3_col0\" class=\"data row3 col0\" >Rekha</td>\n",
              "      <td id=\"T_eed03_row3_col1\" class=\"data row3 col1\" >Director</td>\n",
              "      <td id=\"T_eed03_row3_col2\" class=\"data row3 col2\" >10</td>\n",
              "      <td id=\"T_eed03_row3_col3\" class=\"data row3 col3\" >60000</td>\n",
              "    </tr>\n",
              "    <tr>\n",
              "      <td id=\"T_eed03_row4_col0\" class=\"data row4 col0\" >Narayan</td>\n",
              "      <td id=\"T_eed03_row4_col1\" class=\"data row4 col1\" >Secretary</td>\n",
              "      <td id=\"T_eed03_row4_col2\" class=\"data row4 col2\" >10</td>\n",
              "      <td id=\"T_eed03_row4_col3\" class=\"data row4 col3\" >40000</td>\n",
              "    </tr>\n",
              "    <tr>\n",
              "      <td id=\"T_eed03_row5_col0\" class=\"data row5 col0\" >Chettri</td>\n",
              "      <td id=\"T_eed03_row5_col1\" class=\"data row5 col1\" >Dy Manager</td>\n",
              "      <td id=\"T_eed03_row5_col2\" class=\"data row5 col2\" >70</td>\n",
              "      <td id=\"T_eed03_row5_col3\" class=\"data row5 col3\" >40000</td>\n",
              "    </tr>\n",
              "  </tbody>\n",
              "</table>\n"
            ]
          },
          "metadata": {},
          "execution_count": 61
        }
      ]
    },
    {
      "cell_type": "code",
      "source": [
        "#!psql -h localhost -p 5432 -Uupraxis -ddbpraxis -c \"\\\n",
        "sql = \"\\\n",
        "select firstname, jobdesc, deptid, salary from empl \\\n",
        "where salary <= any \\\n",
        "(select min(salary) from empl)\\\n",
        "\"\n",
        "runSelect(sql)"
      ],
      "metadata": {
        "id": "OrNzFUx2i6n1",
        "outputId": "b068642f-bc55-48d3-e587-3cfcf8eea74d",
        "colab": {
          "base_uri": "https://localhost:8080/",
          "height": 81
        }
      },
      "execution_count": 62,
      "outputs": [
        {
          "output_type": "execute_result",
          "data": {
            "text/plain": [
              "<pandas.io.formats.style.Styler at 0x79a16aeb81c0>"
            ],
            "text/html": [
              "<style type=\"text/css\">\n",
              "</style>\n",
              "<table id=\"T_72094\" class=\"dataframe\">\n",
              "  <thead>\n",
              "    <tr>\n",
              "      <th id=\"T_72094_level0_col0\" class=\"col_heading level0 col0\" >firstname</th>\n",
              "      <th id=\"T_72094_level0_col1\" class=\"col_heading level0 col1\" >jobdesc</th>\n",
              "      <th id=\"T_72094_level0_col2\" class=\"col_heading level0 col2\" >deptid</th>\n",
              "      <th id=\"T_72094_level0_col3\" class=\"col_heading level0 col3\" >salary</th>\n",
              "    </tr>\n",
              "  </thead>\n",
              "  <tbody>\n",
              "    <tr>\n",
              "      <td id=\"T_72094_row0_col0\" class=\"data row0 col0\" >Mahender</td>\n",
              "      <td id=\"T_72094_row0_col1\" class=\"data row0 col1\" >Clerk</td>\n",
              "      <td id=\"T_72094_row0_col2\" class=\"data row0 col2\" >40</td>\n",
              "      <td id=\"T_72094_row0_col3\" class=\"data row0 col3\" >9000</td>\n",
              "    </tr>\n",
              "  </tbody>\n",
              "</table>\n"
            ]
          },
          "metadata": {},
          "execution_count": 62
        }
      ]
    },
    {
      "cell_type": "code",
      "source": [
        "#!psql -h localhost -p 5432 -Uupraxis -ddbpraxis -c \"\\\n",
        "sql = \"\\\n",
        "select firstname, jobdesc, deptid, salary from empl \\\n",
        "where salary >= any \\\n",
        "(select max(salary) from empl)\\\n",
        "\"\n",
        "runSelect(sql)"
      ],
      "metadata": {
        "id": "_i2nkl8yvjyr",
        "outputId": "682d3fcf-3345-4233-fd89-4b00cf7b8721",
        "colab": {
          "base_uri": "https://localhost:8080/",
          "height": 81
        }
      },
      "execution_count": 63,
      "outputs": [
        {
          "output_type": "execute_result",
          "data": {
            "text/plain": [
              "<pandas.io.formats.style.Styler at 0x79a16b08ab30>"
            ],
            "text/html": [
              "<style type=\"text/css\">\n",
              "</style>\n",
              "<table id=\"T_f6db3\" class=\"dataframe\">\n",
              "  <thead>\n",
              "    <tr>\n",
              "      <th id=\"T_f6db3_level0_col0\" class=\"col_heading level0 col0\" >firstname</th>\n",
              "      <th id=\"T_f6db3_level0_col1\" class=\"col_heading level0 col1\" >jobdesc</th>\n",
              "      <th id=\"T_f6db3_level0_col2\" class=\"col_heading level0 col2\" >deptid</th>\n",
              "      <th id=\"T_f6db3_level0_col3\" class=\"col_heading level0 col3\" >salary</th>\n",
              "    </tr>\n",
              "  </thead>\n",
              "  <tbody>\n",
              "    <tr>\n",
              "      <td id=\"T_f6db3_row0_col0\" class=\"data row0 col0\" >Rekha</td>\n",
              "      <td id=\"T_f6db3_row0_col1\" class=\"data row0 col1\" >Director</td>\n",
              "      <td id=\"T_f6db3_row0_col2\" class=\"data row0 col2\" >10</td>\n",
              "      <td id=\"T_f6db3_row0_col3\" class=\"data row0 col3\" >60000</td>\n",
              "    </tr>\n",
              "  </tbody>\n",
              "</table>\n"
            ]
          },
          "metadata": {},
          "execution_count": 63
        }
      ]
    },
    {
      "cell_type": "code",
      "source": [
        "!psql -h localhost -p 5432 -Uupraxis -ddbpraxis -c \"\\\n",
        "select firstname, jobdesc, deptid, salary from empl \\\n",
        "where deptid = ALL  \\\n",
        "(select deptid from dept where location = 'Calcutta' )\\\n",
        "\"\n",
        "#runSelect(sql)"
      ],
      "metadata": {
        "id": "DodcUMruPCYv",
        "outputId": "91a828a0-9f8f-45ad-b9a2-674a2dfae4c1",
        "colab": {
          "base_uri": "https://localhost:8080/"
        }
      },
      "execution_count": 93,
      "outputs": [
        {
          "output_type": "stream",
          "name": "stdout",
          "text": [
            " firstname | jobdesc | deptid | salary \n",
            "-----------+---------+--------+--------\n",
            "(0 rows)\n",
            "\n"
          ]
        }
      ]
    },
    {
      "cell_type": "code",
      "source": [
        "!psql -h localhost -p 5432 -Uupraxis -ddbpraxis -c \"\\\n",
        "select firstname, jobdesc, deptid, salary from empl \\\n",
        "where deptid = any  \\\n",
        "(select deptid from dept where location = 'Calcutta' )\\\n",
        "\""
      ],
      "metadata": {
        "id": "e-v3Rp0qv3TJ",
        "outputId": "97b79dd4-b208-4ec2-9a7c-f737402562a2",
        "colab": {
          "base_uri": "https://localhost:8080/"
        }
      },
      "execution_count": 103,
      "outputs": [
        {
          "output_type": "stream",
          "name": "stdout",
          "text": [
            " firstname |  jobdesc   | deptid | salary \n",
            "-----------+------------+--------+--------\n",
            " Amitabh   | Executive  | 10     |  50000\n",
            " Madhuri   | Clerk      | 20     |  10000\n",
            " Shahrukh  | Manager    | 20     |  30000\n",
            " Virender  | Cus_Rep    | 20     |  15000\n",
            " Rahul     | Sr Manager | 30     |  40000\n",
            " Jagmohan  | Clerk      | 30     |  12000\n",
            " Rekha     | Director   | 10     |  60000\n",
            " Narayan   | Secretary  | 10     |  40000\n",
            " Sania     | Cus_Rep    | 30     |  25000\n",
            "(9 rows)\n",
            "\n"
          ]
        }
      ]
    },
    {
      "cell_type": "code",
      "source": [
        "!psql -h localhost -p 5432 -Uupraxis -ddbpraxis -c \"\\\n",
        "select firstname, jobdesc, salary from empl \\\n",
        "where salary > ANY  \\\n",
        "(select salary from empl where jobdesc like '%Manager%' )\\\n",
        "\""
      ],
      "metadata": {
        "id": "9T_Rw43iUs6z",
        "outputId": "7ec51d2d-76a0-4c92-a463-885f3e8f1db1",
        "colab": {
          "base_uri": "https://localhost:8080/"
        }
      },
      "execution_count": 101,
      "outputs": [
        {
          "output_type": "stream",
          "name": "stdout",
          "text": [
            " firstname |  jobdesc   | salary \n",
            "-----------+------------+--------\n",
            " Amitabh   | Executive  |  50000\n",
            " Shahrukh  | Manager    |  30000\n",
            " Rahul     | Sr Manager |  40000\n",
            " Rekha     | Director   |  60000\n",
            " Narayan   | Secretary  |  40000\n",
            " Chettri   | Dy Manager |  40000\n",
            "(6 rows)\n",
            "\n"
          ]
        }
      ]
    },
    {
      "cell_type": "code",
      "source": [
        "!psql -h localhost -p 5432 -Uupraxis -ddbpraxis -c \"\\\n",
        "select firstname, jobdesc, salary from empl \\\n",
        "where salary > ALL  \\\n",
        "(select salary from empl where jobdesc like '%Manager%' )\\\n",
        "\""
      ],
      "metadata": {
        "id": "gBMwfFDLkOhd",
        "outputId": "76b45ea1-b49b-4621-81cd-b648687185f5",
        "colab": {
          "base_uri": "https://localhost:8080/"
        }
      },
      "execution_count": 102,
      "outputs": [
        {
          "output_type": "stream",
          "name": "stdout",
          "text": [
            " firstname |  jobdesc  | salary \n",
            "-----------+-----------+--------\n",
            " Amitabh   | Executive |  50000\n",
            " Rekha     | Director  |  60000\n",
            "(2 rows)\n",
            "\n"
          ]
        }
      ]
    },
    {
      "cell_type": "markdown",
      "source": [
        "## Common Table Extensions CTE"
      ],
      "metadata": {
        "id": "2gvg8pwe3ale"
      }
    },
    {
      "cell_type": "code",
      "source": [
        "sql = \"\\\n",
        "select jobdesc, avg(salary) avgsalary from empl group by jobdesc \\\n",
        "\"\n",
        "runSelect(sql)"
      ],
      "metadata": {
        "id": "7mu6mmXA3pVn",
        "outputId": "f9880287-4249-4fbc-c8a4-2ef37b6623ed",
        "colab": {
          "base_uri": "https://localhost:8080/",
          "height": 300
        }
      },
      "execution_count": 65,
      "outputs": [
        {
          "output_type": "execute_result",
          "data": {
            "text/plain": [
              "<pandas.io.formats.style.Styler at 0x79a16aeb9fc0>"
            ],
            "text/html": [
              "<style type=\"text/css\">\n",
              "</style>\n",
              "<table id=\"T_db4e7\" class=\"dataframe\">\n",
              "  <thead>\n",
              "    <tr>\n",
              "      <th id=\"T_db4e7_level0_col0\" class=\"col_heading level0 col0\" >jobdesc</th>\n",
              "      <th id=\"T_db4e7_level0_col1\" class=\"col_heading level0 col1\" >avgsalary</th>\n",
              "    </tr>\n",
              "  </thead>\n",
              "  <tbody>\n",
              "    <tr>\n",
              "      <td id=\"T_db4e7_row0_col0\" class=\"data row0 col0\" >Director</td>\n",
              "      <td id=\"T_db4e7_row0_col1\" class=\"data row0 col1\" >60000.000000000000</td>\n",
              "    </tr>\n",
              "    <tr>\n",
              "      <td id=\"T_db4e7_row1_col0\" class=\"data row1 col0\" >Manager</td>\n",
              "      <td id=\"T_db4e7_row1_col1\" class=\"data row1 col1\" >27500.000000000000</td>\n",
              "    </tr>\n",
              "    <tr>\n",
              "      <td id=\"T_db4e7_row2_col0\" class=\"data row2 col0\" >Dy Manager</td>\n",
              "      <td id=\"T_db4e7_row2_col1\" class=\"data row2 col1\" >40000.000000000000</td>\n",
              "    </tr>\n",
              "    <tr>\n",
              "      <td id=\"T_db4e7_row3_col0\" class=\"data row3 col0\" >Executive</td>\n",
              "      <td id=\"T_db4e7_row3_col1\" class=\"data row3 col1\" >50000.000000000000</td>\n",
              "    </tr>\n",
              "    <tr>\n",
              "      <td id=\"T_db4e7_row4_col0\" class=\"data row4 col0\" >Secretary</td>\n",
              "      <td id=\"T_db4e7_row4_col1\" class=\"data row4 col1\" >40000.000000000000</td>\n",
              "    </tr>\n",
              "    <tr>\n",
              "      <td id=\"T_db4e7_row5_col0\" class=\"data row5 col0\" >Cus_Rep</td>\n",
              "      <td id=\"T_db4e7_row5_col1\" class=\"data row5 col1\" >20000.000000000000</td>\n",
              "    </tr>\n",
              "    <tr>\n",
              "      <td id=\"T_db4e7_row6_col0\" class=\"data row6 col0\" >Clerk</td>\n",
              "      <td id=\"T_db4e7_row6_col1\" class=\"data row6 col1\" >10333.3333333333333333</td>\n",
              "    </tr>\n",
              "    <tr>\n",
              "      <td id=\"T_db4e7_row7_col0\" class=\"data row7 col0\" >Sr Manager</td>\n",
              "      <td id=\"T_db4e7_row7_col1\" class=\"data row7 col1\" >40000.000000000000</td>\n",
              "    </tr>\n",
              "  </tbody>\n",
              "</table>\n"
            ]
          },
          "metadata": {},
          "execution_count": 65
        }
      ]
    },
    {
      "cell_type": "code",
      "source": [
        "sql = \"\\\n",
        "with MeanSalary as \\\n",
        "    (select jobdesc, round(avg(salary),0) avgsalary from empl group by jobdesc) \\\n",
        "select lastname, empl.jobdesc, salary, avgsalary from empl, meansalary \\\n",
        "where empl.jobdesc = meansalary.jobdesc \\\n",
        "order  by jobdesc \\\n",
        "\"\n",
        "runSelect(sql)"
      ],
      "metadata": {
        "id": "0i-rIGEzDgFy",
        "outputId": "d7499166-3b12-4d84-ffdb-288fbcaa228e",
        "colab": {
          "base_uri": "https://localhost:8080/",
          "height": 457
        }
      },
      "execution_count": 66,
      "outputs": [
        {
          "output_type": "execute_result",
          "data": {
            "text/plain": [
              "<pandas.io.formats.style.Styler at 0x79a16aebb100>"
            ],
            "text/html": [
              "<style type=\"text/css\">\n",
              "</style>\n",
              "<table id=\"T_240b9\" class=\"dataframe\">\n",
              "  <thead>\n",
              "    <tr>\n",
              "      <th id=\"T_240b9_level0_col0\" class=\"col_heading level0 col0\" >lastname</th>\n",
              "      <th id=\"T_240b9_level0_col1\" class=\"col_heading level0 col1\" >jobdesc</th>\n",
              "      <th id=\"T_240b9_level0_col2\" class=\"col_heading level0 col2\" >salary</th>\n",
              "      <th id=\"T_240b9_level0_col3\" class=\"col_heading level0 col3\" >avgsalary</th>\n",
              "    </tr>\n",
              "  </thead>\n",
              "  <tbody>\n",
              "    <tr>\n",
              "      <td id=\"T_240b9_row0_col0\" class=\"data row0 col0\" >Dalmia</td>\n",
              "      <td id=\"T_240b9_row0_col1\" class=\"data row0 col1\" >Clerk</td>\n",
              "      <td id=\"T_240b9_row0_col2\" class=\"data row0 col2\" >12000</td>\n",
              "      <td id=\"T_240b9_row0_col3\" class=\"data row0 col3\" >10333</td>\n",
              "    </tr>\n",
              "    <tr>\n",
              "      <td id=\"T_240b9_row1_col0\" class=\"data row1 col0\" >Dikshit</td>\n",
              "      <td id=\"T_240b9_row1_col1\" class=\"data row1 col1\" >Clerk</td>\n",
              "      <td id=\"T_240b9_row1_col2\" class=\"data row1 col2\" >10000</td>\n",
              "      <td id=\"T_240b9_row1_col3\" class=\"data row1 col3\" >10333</td>\n",
              "    </tr>\n",
              "    <tr>\n",
              "      <td id=\"T_240b9_row2_col0\" class=\"data row2 col0\" >Dhoni</td>\n",
              "      <td id=\"T_240b9_row2_col1\" class=\"data row2 col1\" >Clerk</td>\n",
              "      <td id=\"T_240b9_row2_col2\" class=\"data row2 col2\" >9000</td>\n",
              "      <td id=\"T_240b9_row2_col3\" class=\"data row2 col3\" >10333</td>\n",
              "    </tr>\n",
              "    <tr>\n",
              "      <td id=\"T_240b9_row3_col0\" class=\"data row3 col0\" >Sehwag</td>\n",
              "      <td id=\"T_240b9_row3_col1\" class=\"data row3 col1\" >Cus_Rep</td>\n",
              "      <td id=\"T_240b9_row3_col2\" class=\"data row3 col2\" >15000</td>\n",
              "      <td id=\"T_240b9_row3_col3\" class=\"data row3 col3\" >20000</td>\n",
              "    </tr>\n",
              "    <tr>\n",
              "      <td id=\"T_240b9_row4_col0\" class=\"data row4 col0\" >Mirza</td>\n",
              "      <td id=\"T_240b9_row4_col1\" class=\"data row4 col1\" >Cus_Rep</td>\n",
              "      <td id=\"T_240b9_row4_col2\" class=\"data row4 col2\" >25000</td>\n",
              "      <td id=\"T_240b9_row4_col3\" class=\"data row4 col3\" >20000</td>\n",
              "    </tr>\n",
              "    <tr>\n",
              "      <td id=\"T_240b9_row5_col0\" class=\"data row5 col0\" >Ganguly</td>\n",
              "      <td id=\"T_240b9_row5_col1\" class=\"data row5 col1\" >Cus_Rep</td>\n",
              "      <td id=\"T_240b9_row5_col2\" class=\"data row5 col2\" >20000</td>\n",
              "      <td id=\"T_240b9_row5_col3\" class=\"data row5 col3\" >20000</td>\n",
              "    </tr>\n",
              "    <tr>\n",
              "      <td id=\"T_240b9_row6_col0\" class=\"data row6 col0\" >Ganesan</td>\n",
              "      <td id=\"T_240b9_row6_col1\" class=\"data row6 col1\" >Director</td>\n",
              "      <td id=\"T_240b9_row6_col2\" class=\"data row6 col2\" >60000</td>\n",
              "      <td id=\"T_240b9_row6_col3\" class=\"data row6 col3\" >60000</td>\n",
              "    </tr>\n",
              "    <tr>\n",
              "      <td id=\"T_240b9_row7_col0\" class=\"data row7 col0\" >Sunil</td>\n",
              "      <td id=\"T_240b9_row7_col1\" class=\"data row7 col1\" >Dy Manager</td>\n",
              "      <td id=\"T_240b9_row7_col2\" class=\"data row7 col2\" >40000</td>\n",
              "      <td id=\"T_240b9_row7_col3\" class=\"data row7 col3\" >40000</td>\n",
              "    </tr>\n",
              "    <tr>\n",
              "      <td id=\"T_240b9_row8_col0\" class=\"data row8 col0\" >Bacchan</td>\n",
              "      <td id=\"T_240b9_row8_col1\" class=\"data row8 col1\" >Executive</td>\n",
              "      <td id=\"T_240b9_row8_col2\" class=\"data row8 col2\" >50000</td>\n",
              "      <td id=\"T_240b9_row8_col3\" class=\"data row8 col3\" >50000</td>\n",
              "    </tr>\n",
              "    <tr>\n",
              "      <td id=\"T_240b9_row9_col0\" class=\"data row9 col0\" >Khan</td>\n",
              "      <td id=\"T_240b9_row9_col1\" class=\"data row9 col1\" >Manager</td>\n",
              "      <td id=\"T_240b9_row9_col2\" class=\"data row9 col2\" >30000</td>\n",
              "      <td id=\"T_240b9_row9_col3\" class=\"data row9 col3\" >27500</td>\n",
              "    </tr>\n",
              "    <tr>\n",
              "      <td id=\"T_240b9_row10_col0\" class=\"data row10 col0\" >Mukherjee</td>\n",
              "      <td id=\"T_240b9_row10_col1\" class=\"data row10 col1\" >Manager</td>\n",
              "      <td id=\"T_240b9_row10_col2\" class=\"data row10 col2\" >25000</td>\n",
              "      <td id=\"T_240b9_row10_col3\" class=\"data row10 col3\" >27500</td>\n",
              "    </tr>\n",
              "    <tr>\n",
              "      <td id=\"T_240b9_row11_col0\" class=\"data row11 col0\" >Karthikeyan</td>\n",
              "      <td id=\"T_240b9_row11_col1\" class=\"data row11 col1\" >Secretary</td>\n",
              "      <td id=\"T_240b9_row11_col2\" class=\"data row11 col2\" >40000</td>\n",
              "      <td id=\"T_240b9_row11_col3\" class=\"data row11 col3\" >40000</td>\n",
              "    </tr>\n",
              "    <tr>\n",
              "      <td id=\"T_240b9_row12_col0\" class=\"data row12 col0\" >Dravid</td>\n",
              "      <td id=\"T_240b9_row12_col1\" class=\"data row12 col1\" >Sr Manager</td>\n",
              "      <td id=\"T_240b9_row12_col2\" class=\"data row12 col2\" >40000</td>\n",
              "      <td id=\"T_240b9_row12_col3\" class=\"data row12 col3\" >40000</td>\n",
              "    </tr>\n",
              "  </tbody>\n",
              "</table>\n"
            ]
          },
          "metadata": {},
          "execution_count": 66
        }
      ]
    },
    {
      "cell_type": "code",
      "source": [
        "sql = \"\\\n",
        "select lastname, empl.jobdesc, salary, avgsalary from \\\n",
        "empl, (select jobdesc, round(avg(salary),0) avgsalary from empl group by jobdesc) meansalary \\\n",
        "where empl.jobdesc = meansalary.jobdesc \\\n",
        "order  by jobdesc \\\n",
        "\"\n",
        "runSelect(sql)"
      ],
      "metadata": {
        "id": "nwrLj4xaExye",
        "outputId": "98822971-f745-4625-a10e-a4aa64125988",
        "colab": {
          "base_uri": "https://localhost:8080/",
          "height": 457
        }
      },
      "execution_count": 67,
      "outputs": [
        {
          "output_type": "execute_result",
          "data": {
            "text/plain": [
              "<pandas.io.formats.style.Styler at 0x79a16b08b130>"
            ],
            "text/html": [
              "<style type=\"text/css\">\n",
              "</style>\n",
              "<table id=\"T_6487f\" class=\"dataframe\">\n",
              "  <thead>\n",
              "    <tr>\n",
              "      <th id=\"T_6487f_level0_col0\" class=\"col_heading level0 col0\" >lastname</th>\n",
              "      <th id=\"T_6487f_level0_col1\" class=\"col_heading level0 col1\" >jobdesc</th>\n",
              "      <th id=\"T_6487f_level0_col2\" class=\"col_heading level0 col2\" >salary</th>\n",
              "      <th id=\"T_6487f_level0_col3\" class=\"col_heading level0 col3\" >avgsalary</th>\n",
              "    </tr>\n",
              "  </thead>\n",
              "  <tbody>\n",
              "    <tr>\n",
              "      <td id=\"T_6487f_row0_col0\" class=\"data row0 col0\" >Dalmia</td>\n",
              "      <td id=\"T_6487f_row0_col1\" class=\"data row0 col1\" >Clerk</td>\n",
              "      <td id=\"T_6487f_row0_col2\" class=\"data row0 col2\" >12000</td>\n",
              "      <td id=\"T_6487f_row0_col3\" class=\"data row0 col3\" >10333</td>\n",
              "    </tr>\n",
              "    <tr>\n",
              "      <td id=\"T_6487f_row1_col0\" class=\"data row1 col0\" >Dikshit</td>\n",
              "      <td id=\"T_6487f_row1_col1\" class=\"data row1 col1\" >Clerk</td>\n",
              "      <td id=\"T_6487f_row1_col2\" class=\"data row1 col2\" >10000</td>\n",
              "      <td id=\"T_6487f_row1_col3\" class=\"data row1 col3\" >10333</td>\n",
              "    </tr>\n",
              "    <tr>\n",
              "      <td id=\"T_6487f_row2_col0\" class=\"data row2 col0\" >Dhoni</td>\n",
              "      <td id=\"T_6487f_row2_col1\" class=\"data row2 col1\" >Clerk</td>\n",
              "      <td id=\"T_6487f_row2_col2\" class=\"data row2 col2\" >9000</td>\n",
              "      <td id=\"T_6487f_row2_col3\" class=\"data row2 col3\" >10333</td>\n",
              "    </tr>\n",
              "    <tr>\n",
              "      <td id=\"T_6487f_row3_col0\" class=\"data row3 col0\" >Sehwag</td>\n",
              "      <td id=\"T_6487f_row3_col1\" class=\"data row3 col1\" >Cus_Rep</td>\n",
              "      <td id=\"T_6487f_row3_col2\" class=\"data row3 col2\" >15000</td>\n",
              "      <td id=\"T_6487f_row3_col3\" class=\"data row3 col3\" >20000</td>\n",
              "    </tr>\n",
              "    <tr>\n",
              "      <td id=\"T_6487f_row4_col0\" class=\"data row4 col0\" >Mirza</td>\n",
              "      <td id=\"T_6487f_row4_col1\" class=\"data row4 col1\" >Cus_Rep</td>\n",
              "      <td id=\"T_6487f_row4_col2\" class=\"data row4 col2\" >25000</td>\n",
              "      <td id=\"T_6487f_row4_col3\" class=\"data row4 col3\" >20000</td>\n",
              "    </tr>\n",
              "    <tr>\n",
              "      <td id=\"T_6487f_row5_col0\" class=\"data row5 col0\" >Ganguly</td>\n",
              "      <td id=\"T_6487f_row5_col1\" class=\"data row5 col1\" >Cus_Rep</td>\n",
              "      <td id=\"T_6487f_row5_col2\" class=\"data row5 col2\" >20000</td>\n",
              "      <td id=\"T_6487f_row5_col3\" class=\"data row5 col3\" >20000</td>\n",
              "    </tr>\n",
              "    <tr>\n",
              "      <td id=\"T_6487f_row6_col0\" class=\"data row6 col0\" >Ganesan</td>\n",
              "      <td id=\"T_6487f_row6_col1\" class=\"data row6 col1\" >Director</td>\n",
              "      <td id=\"T_6487f_row6_col2\" class=\"data row6 col2\" >60000</td>\n",
              "      <td id=\"T_6487f_row6_col3\" class=\"data row6 col3\" >60000</td>\n",
              "    </tr>\n",
              "    <tr>\n",
              "      <td id=\"T_6487f_row7_col0\" class=\"data row7 col0\" >Sunil</td>\n",
              "      <td id=\"T_6487f_row7_col1\" class=\"data row7 col1\" >Dy Manager</td>\n",
              "      <td id=\"T_6487f_row7_col2\" class=\"data row7 col2\" >40000</td>\n",
              "      <td id=\"T_6487f_row7_col3\" class=\"data row7 col3\" >40000</td>\n",
              "    </tr>\n",
              "    <tr>\n",
              "      <td id=\"T_6487f_row8_col0\" class=\"data row8 col0\" >Bacchan</td>\n",
              "      <td id=\"T_6487f_row8_col1\" class=\"data row8 col1\" >Executive</td>\n",
              "      <td id=\"T_6487f_row8_col2\" class=\"data row8 col2\" >50000</td>\n",
              "      <td id=\"T_6487f_row8_col3\" class=\"data row8 col3\" >50000</td>\n",
              "    </tr>\n",
              "    <tr>\n",
              "      <td id=\"T_6487f_row9_col0\" class=\"data row9 col0\" >Khan</td>\n",
              "      <td id=\"T_6487f_row9_col1\" class=\"data row9 col1\" >Manager</td>\n",
              "      <td id=\"T_6487f_row9_col2\" class=\"data row9 col2\" >30000</td>\n",
              "      <td id=\"T_6487f_row9_col3\" class=\"data row9 col3\" >27500</td>\n",
              "    </tr>\n",
              "    <tr>\n",
              "      <td id=\"T_6487f_row10_col0\" class=\"data row10 col0\" >Mukherjee</td>\n",
              "      <td id=\"T_6487f_row10_col1\" class=\"data row10 col1\" >Manager</td>\n",
              "      <td id=\"T_6487f_row10_col2\" class=\"data row10 col2\" >25000</td>\n",
              "      <td id=\"T_6487f_row10_col3\" class=\"data row10 col3\" >27500</td>\n",
              "    </tr>\n",
              "    <tr>\n",
              "      <td id=\"T_6487f_row11_col0\" class=\"data row11 col0\" >Karthikeyan</td>\n",
              "      <td id=\"T_6487f_row11_col1\" class=\"data row11 col1\" >Secretary</td>\n",
              "      <td id=\"T_6487f_row11_col2\" class=\"data row11 col2\" >40000</td>\n",
              "      <td id=\"T_6487f_row11_col3\" class=\"data row11 col3\" >40000</td>\n",
              "    </tr>\n",
              "    <tr>\n",
              "      <td id=\"T_6487f_row12_col0\" class=\"data row12 col0\" >Dravid</td>\n",
              "      <td id=\"T_6487f_row12_col1\" class=\"data row12 col1\" >Sr Manager</td>\n",
              "      <td id=\"T_6487f_row12_col2\" class=\"data row12 col2\" >40000</td>\n",
              "      <td id=\"T_6487f_row12_col3\" class=\"data row12 col3\" >40000</td>\n",
              "    </tr>\n",
              "  </tbody>\n",
              "</table>\n"
            ]
          },
          "metadata": {},
          "execution_count": 67
        }
      ]
    },
    {
      "cell_type": "markdown",
      "source": [
        "### CTE Recursion"
      ],
      "metadata": {
        "id": "d3j9PbgaADoB"
      }
    },
    {
      "cell_type": "code",
      "source": [
        "# recursion\n",
        "sql = \"\\\n",
        "with recursive hiring_chain as (\\\n",
        "select empid, lastname, hiredby \\\n",
        "    from empl where lastname = 'Ganesan' \\\n",
        "union all \\\n",
        "select \\\n",
        "e.empid, e.lastname,e.hiredby \\\n",
        "    from empl e \\\n",
        "    inner join hiring_chain hc on hc.empid = e.hiredby \\\n",
        ") \\\n",
        "select * from hiring_chain \\\n",
        "\"\n",
        "\n",
        "runSelect(sql)"
      ],
      "metadata": {
        "id": "HA-RyLoz0D3Z",
        "outputId": "87910a9b-8b07-4a7e-8fae-e14c2cbd9181",
        "colab": {
          "base_uri": "https://localhost:8080/",
          "height": 175
        }
      },
      "execution_count": 68,
      "outputs": [
        {
          "output_type": "execute_result",
          "data": {
            "text/plain": [
              "<pandas.io.formats.style.Styler at 0x79a16b3f0730>"
            ],
            "text/html": [
              "<style type=\"text/css\">\n",
              "</style>\n",
              "<table id=\"T_e00dd\" class=\"dataframe\">\n",
              "  <thead>\n",
              "    <tr>\n",
              "      <th id=\"T_e00dd_level0_col0\" class=\"col_heading level0 col0\" >empid</th>\n",
              "      <th id=\"T_e00dd_level0_col1\" class=\"col_heading level0 col1\" >lastname</th>\n",
              "      <th id=\"T_e00dd_level0_col2\" class=\"col_heading level0 col2\" >hiredby</th>\n",
              "    </tr>\n",
              "  </thead>\n",
              "  <tbody>\n",
              "    <tr>\n",
              "      <td id=\"T_e00dd_row0_col0\" class=\"data row0 col0\" >299034</td>\n",
              "      <td id=\"T_e00dd_row0_col1\" class=\"data row0 col1\" >Ganesan</td>\n",
              "      <td id=\"T_e00dd_row0_col2\" class=\"data row0 col2\" >742866</td>\n",
              "    </tr>\n",
              "    <tr>\n",
              "      <td id=\"T_e00dd_row1_col0\" class=\"data row1 col0\" >989007</td>\n",
              "      <td id=\"T_e00dd_row1_col1\" class=\"data row1 col1\" >Ganguly</td>\n",
              "      <td id=\"T_e00dd_row1_col2\" class=\"data row1 col2\" >299034</td>\n",
              "    </tr>\n",
              "    <tr>\n",
              "      <td id=\"T_e00dd_row2_col0\" class=\"data row2 col0\" >546223</td>\n",
              "      <td id=\"T_e00dd_row2_col1\" class=\"data row2 col1\" >Karthikeyan</td>\n",
              "      <td id=\"T_e00dd_row2_col2\" class=\"data row2 col2\" >299034</td>\n",
              "    </tr>\n",
              "    <tr>\n",
              "      <td id=\"T_e00dd_row3_col0\" class=\"data row3 col0\" >546224</td>\n",
              "      <td id=\"T_e00dd_row3_col1\" class=\"data row3 col1\" >Sunil</td>\n",
              "      <td id=\"T_e00dd_row3_col2\" class=\"data row3 col2\" >989007</td>\n",
              "    </tr>\n",
              "  </tbody>\n",
              "</table>\n"
            ]
          },
          "metadata": {},
          "execution_count": 68
        }
      ]
    },
    {
      "cell_type": "markdown",
      "source": [
        "### More Sophisticated Recursion\n",
        "note the switch between upward chain and downward chain in the JOIN column <br>\n",
        "\n",
        "\n",
        "*   Downward > e.hiredby = hc.empid\n",
        "*   Upward   > e.empid = hc.hiredby\n",
        "\n",
        "Courtesy [ChatGPT](https://chat.openai.com/share/80e291a6-bbd2-42d8-ba3d-6e01be4eafd7)"
      ],
      "metadata": {
        "id": "a5zh-tdQAxJp"
      }
    },
    {
      "cell_type": "code",
      "source": [
        "# Downward Chain\n",
        "#\n",
        "sql = \"\\\n",
        "with recursive hiring_chain as (\\\n",
        "select empid, lastname, hiredby, 1 as level \\\n",
        "    from empl where hiredby = '299034' \\\n",
        "union all \\\n",
        "select \\\n",
        "e.empid, e.lastname,e.hiredby, hc.level+1 \\\n",
        "    from empl e \\\n",
        "    inner join hiring_chain hc on e.hiredby = hc.empid  \\\n",
        ") \\\n",
        "select * from hiring_chain \\\n",
        "\"\n",
        "\n",
        "runSelect(sql)"
      ],
      "metadata": {
        "id": "wEsTzZbxA9Y9",
        "outputId": "6a2d1145-669a-4052-f4a1-a178ae3e1091",
        "colab": {
          "base_uri": "https://localhost:8080/",
          "height": 143
        }
      },
      "execution_count": 69,
      "outputs": [
        {
          "output_type": "execute_result",
          "data": {
            "text/plain": [
              "<pandas.io.formats.style.Styler at 0x79a19b005240>"
            ],
            "text/html": [
              "<style type=\"text/css\">\n",
              "</style>\n",
              "<table id=\"T_7d610\" class=\"dataframe\">\n",
              "  <thead>\n",
              "    <tr>\n",
              "      <th id=\"T_7d610_level0_col0\" class=\"col_heading level0 col0\" >empid</th>\n",
              "      <th id=\"T_7d610_level0_col1\" class=\"col_heading level0 col1\" >lastname</th>\n",
              "      <th id=\"T_7d610_level0_col2\" class=\"col_heading level0 col2\" >hiredby</th>\n",
              "      <th id=\"T_7d610_level0_col3\" class=\"col_heading level0 col3\" >level</th>\n",
              "    </tr>\n",
              "  </thead>\n",
              "  <tbody>\n",
              "    <tr>\n",
              "      <td id=\"T_7d610_row0_col0\" class=\"data row0 col0\" >989007</td>\n",
              "      <td id=\"T_7d610_row0_col1\" class=\"data row0 col1\" >Ganguly</td>\n",
              "      <td id=\"T_7d610_row0_col2\" class=\"data row0 col2\" >299034</td>\n",
              "      <td id=\"T_7d610_row0_col3\" class=\"data row0 col3\" >1</td>\n",
              "    </tr>\n",
              "    <tr>\n",
              "      <td id=\"T_7d610_row1_col0\" class=\"data row1 col0\" >546223</td>\n",
              "      <td id=\"T_7d610_row1_col1\" class=\"data row1 col1\" >Karthikeyan</td>\n",
              "      <td id=\"T_7d610_row1_col2\" class=\"data row1 col2\" >299034</td>\n",
              "      <td id=\"T_7d610_row1_col3\" class=\"data row1 col3\" >1</td>\n",
              "    </tr>\n",
              "    <tr>\n",
              "      <td id=\"T_7d610_row2_col0\" class=\"data row2 col0\" >546224</td>\n",
              "      <td id=\"T_7d610_row2_col1\" class=\"data row2 col1\" >Sunil</td>\n",
              "      <td id=\"T_7d610_row2_col2\" class=\"data row2 col2\" >989007</td>\n",
              "      <td id=\"T_7d610_row2_col3\" class=\"data row2 col3\" >2</td>\n",
              "    </tr>\n",
              "  </tbody>\n",
              "</table>\n"
            ]
          },
          "metadata": {},
          "execution_count": 69
        }
      ]
    },
    {
      "cell_type": "code",
      "source": [
        "# Downward Chain - Style 2\n",
        "#\n",
        "sql = \"\\\n",
        "with recursive hiring_chain as (\\\n",
        "select empid, lastname, hiredby, 1 as level \\\n",
        "    from empl where hiredby = (select empid from empl where lastname = 'Ganesan') \\\n",
        "union all \\\n",
        "select \\\n",
        "e.empid, e.lastname,e.hiredby, hc.level+1 \\\n",
        "    from empl e \\\n",
        "    inner join hiring_chain hc on e.hiredby = hc.empid  \\\n",
        ") \\\n",
        "select * from hiring_chain \\\n",
        "\"\n",
        "\n",
        "runSelect(sql)"
      ],
      "metadata": {
        "id": "jKvfW2HiQF5O",
        "outputId": "26632516-7832-470c-b171-7d5223e91fa4",
        "colab": {
          "base_uri": "https://localhost:8080/",
          "height": 143
        }
      },
      "execution_count": 70,
      "outputs": [
        {
          "output_type": "execute_result",
          "data": {
            "text/plain": [
              "<pandas.io.formats.style.Styler at 0x79a16b08b760>"
            ],
            "text/html": [
              "<style type=\"text/css\">\n",
              "</style>\n",
              "<table id=\"T_ae07d\" class=\"dataframe\">\n",
              "  <thead>\n",
              "    <tr>\n",
              "      <th id=\"T_ae07d_level0_col0\" class=\"col_heading level0 col0\" >empid</th>\n",
              "      <th id=\"T_ae07d_level0_col1\" class=\"col_heading level0 col1\" >lastname</th>\n",
              "      <th id=\"T_ae07d_level0_col2\" class=\"col_heading level0 col2\" >hiredby</th>\n",
              "      <th id=\"T_ae07d_level0_col3\" class=\"col_heading level0 col3\" >level</th>\n",
              "    </tr>\n",
              "  </thead>\n",
              "  <tbody>\n",
              "    <tr>\n",
              "      <td id=\"T_ae07d_row0_col0\" class=\"data row0 col0\" >989007</td>\n",
              "      <td id=\"T_ae07d_row0_col1\" class=\"data row0 col1\" >Ganguly</td>\n",
              "      <td id=\"T_ae07d_row0_col2\" class=\"data row0 col2\" >299034</td>\n",
              "      <td id=\"T_ae07d_row0_col3\" class=\"data row0 col3\" >1</td>\n",
              "    </tr>\n",
              "    <tr>\n",
              "      <td id=\"T_ae07d_row1_col0\" class=\"data row1 col0\" >546223</td>\n",
              "      <td id=\"T_ae07d_row1_col1\" class=\"data row1 col1\" >Karthikeyan</td>\n",
              "      <td id=\"T_ae07d_row1_col2\" class=\"data row1 col2\" >299034</td>\n",
              "      <td id=\"T_ae07d_row1_col3\" class=\"data row1 col3\" >1</td>\n",
              "    </tr>\n",
              "    <tr>\n",
              "      <td id=\"T_ae07d_row2_col0\" class=\"data row2 col0\" >546224</td>\n",
              "      <td id=\"T_ae07d_row2_col1\" class=\"data row2 col1\" >Sunil</td>\n",
              "      <td id=\"T_ae07d_row2_col2\" class=\"data row2 col2\" >989007</td>\n",
              "      <td id=\"T_ae07d_row2_col3\" class=\"data row2 col3\" >2</td>\n",
              "    </tr>\n",
              "  </tbody>\n",
              "</table>\n"
            ]
          },
          "metadata": {},
          "execution_count": 70
        }
      ]
    },
    {
      "cell_type": "code",
      "source": [
        "# Upward Chain\n",
        "#\n",
        "sql = \"\\\n",
        "with recursive hiring_chain as (\\\n",
        "select empid, lastname, hiredby, 1 as level \\\n",
        "    from empl where lastname = 'Ganesan' \\\n",
        "union all \\\n",
        "select \\\n",
        "e.empid, e.lastname,e.hiredby, hc.level+1 \\\n",
        "    from empl e \\\n",
        "    inner join hiring_chain hc on e.empid = hc.hiredby  \\\n",
        ") \\\n",
        "select * from hiring_chain \\\n",
        "\"\n",
        "\n",
        "runSelect(sql)"
      ],
      "metadata": {
        "id": "ZtH1410DCaOT",
        "outputId": "1b733ada-e383-4506-a9e0-f1ea2f6767c3",
        "colab": {
          "base_uri": "https://localhost:8080/",
          "height": 112
        }
      },
      "execution_count": 71,
      "outputs": [
        {
          "output_type": "execute_result",
          "data": {
            "text/plain": [
              "<pandas.io.formats.style.Styler at 0x79a16b026290>"
            ],
            "text/html": [
              "<style type=\"text/css\">\n",
              "</style>\n",
              "<table id=\"T_3b4b7\" class=\"dataframe\">\n",
              "  <thead>\n",
              "    <tr>\n",
              "      <th id=\"T_3b4b7_level0_col0\" class=\"col_heading level0 col0\" >empid</th>\n",
              "      <th id=\"T_3b4b7_level0_col1\" class=\"col_heading level0 col1\" >lastname</th>\n",
              "      <th id=\"T_3b4b7_level0_col2\" class=\"col_heading level0 col2\" >hiredby</th>\n",
              "      <th id=\"T_3b4b7_level0_col3\" class=\"col_heading level0 col3\" >level</th>\n",
              "    </tr>\n",
              "  </thead>\n",
              "  <tbody>\n",
              "    <tr>\n",
              "      <td id=\"T_3b4b7_row0_col0\" class=\"data row0 col0\" >299034</td>\n",
              "      <td id=\"T_3b4b7_row0_col1\" class=\"data row0 col1\" >Ganesan</td>\n",
              "      <td id=\"T_3b4b7_row0_col2\" class=\"data row0 col2\" >742866</td>\n",
              "      <td id=\"T_3b4b7_row0_col3\" class=\"data row0 col3\" >1</td>\n",
              "    </tr>\n",
              "    <tr>\n",
              "      <td id=\"T_3b4b7_row1_col0\" class=\"data row1 col0\" >742866</td>\n",
              "      <td id=\"T_3b4b7_row1_col1\" class=\"data row1 col1\" >Bacchan</td>\n",
              "      <td id=\"T_3b4b7_row1_col2\" class=\"data row1 col2\" >None</td>\n",
              "      <td id=\"T_3b4b7_row1_col3\" class=\"data row1 col3\" >2</td>\n",
              "    </tr>\n",
              "  </tbody>\n",
              "</table>\n"
            ]
          },
          "metadata": {},
          "execution_count": 71
        }
      ]
    },
    {
      "cell_type": "code",
      "source": [
        "# Upward Chain\n",
        "#\n",
        "sql = \"\\\n",
        "with recursive hiring_chain as (\\\n",
        "select empid, lastname, hiredby, 1 as level \\\n",
        "    from empl where lastname = 'Sunil' \\\n",
        "union all \\\n",
        "select \\\n",
        "e.empid, e.lastname,e.hiredby, hc.level+1 \\\n",
        "    from empl e \\\n",
        "    inner join hiring_chain hc on e.empid = hc.hiredby  \\\n",
        ") \\\n",
        "select * from hiring_chain \\\n",
        "\"\n",
        "\n",
        "runSelect(sql)"
      ],
      "metadata": {
        "id": "ZmBHyLXbPMQF",
        "outputId": "4e5b39a6-a682-41d4-f80a-761b4db2115a",
        "colab": {
          "base_uri": "https://localhost:8080/",
          "height": 175
        }
      },
      "execution_count": 72,
      "outputs": [
        {
          "output_type": "execute_result",
          "data": {
            "text/plain": [
              "<pandas.io.formats.style.Styler at 0x79a16b027ac0>"
            ],
            "text/html": [
              "<style type=\"text/css\">\n",
              "</style>\n",
              "<table id=\"T_1291e\" class=\"dataframe\">\n",
              "  <thead>\n",
              "    <tr>\n",
              "      <th id=\"T_1291e_level0_col0\" class=\"col_heading level0 col0\" >empid</th>\n",
              "      <th id=\"T_1291e_level0_col1\" class=\"col_heading level0 col1\" >lastname</th>\n",
              "      <th id=\"T_1291e_level0_col2\" class=\"col_heading level0 col2\" >hiredby</th>\n",
              "      <th id=\"T_1291e_level0_col3\" class=\"col_heading level0 col3\" >level</th>\n",
              "    </tr>\n",
              "  </thead>\n",
              "  <tbody>\n",
              "    <tr>\n",
              "      <td id=\"T_1291e_row0_col0\" class=\"data row0 col0\" >546224</td>\n",
              "      <td id=\"T_1291e_row0_col1\" class=\"data row0 col1\" >Sunil</td>\n",
              "      <td id=\"T_1291e_row0_col2\" class=\"data row0 col2\" >989007</td>\n",
              "      <td id=\"T_1291e_row0_col3\" class=\"data row0 col3\" >1</td>\n",
              "    </tr>\n",
              "    <tr>\n",
              "      <td id=\"T_1291e_row1_col0\" class=\"data row1 col0\" >989007</td>\n",
              "      <td id=\"T_1291e_row1_col1\" class=\"data row1 col1\" >Ganguly</td>\n",
              "      <td id=\"T_1291e_row1_col2\" class=\"data row1 col2\" >299034</td>\n",
              "      <td id=\"T_1291e_row1_col3\" class=\"data row1 col3\" >2</td>\n",
              "    </tr>\n",
              "    <tr>\n",
              "      <td id=\"T_1291e_row2_col0\" class=\"data row2 col0\" >299034</td>\n",
              "      <td id=\"T_1291e_row2_col1\" class=\"data row2 col1\" >Ganesan</td>\n",
              "      <td id=\"T_1291e_row2_col2\" class=\"data row2 col2\" >742866</td>\n",
              "      <td id=\"T_1291e_row2_col3\" class=\"data row2 col3\" >3</td>\n",
              "    </tr>\n",
              "    <tr>\n",
              "      <td id=\"T_1291e_row3_col0\" class=\"data row3 col0\" >742866</td>\n",
              "      <td id=\"T_1291e_row3_col1\" class=\"data row3 col1\" >Bacchan</td>\n",
              "      <td id=\"T_1291e_row3_col2\" class=\"data row3 col2\" >None</td>\n",
              "      <td id=\"T_1291e_row3_col3\" class=\"data row3 col3\" >4</td>\n",
              "    </tr>\n",
              "  </tbody>\n",
              "</table>\n"
            ]
          },
          "metadata": {},
          "execution_count": 72
        }
      ]
    },
    {
      "cell_type": "markdown",
      "source": [
        "#Window Functions"
      ],
      "metadata": {
        "id": "p1v2XtGa1QOq"
      }
    },
    {
      "cell_type": "code",
      "source": [
        "sql = \"select deptid, lastname, salary, \\\n",
        "    avg(salary) over (partition by deptid) \\\n",
        "    from empl\"\n",
        "runSelect(sql)"
      ],
      "metadata": {
        "colab": {
          "base_uri": "https://localhost:8080/",
          "height": 457
        },
        "id": "ffpu5hXo1TfJ",
        "outputId": "a2fab307-4dbe-4fca-f5dd-3f44c8008375"
      },
      "execution_count": 73,
      "outputs": [
        {
          "output_type": "execute_result",
          "data": {
            "text/plain": [
              "<pandas.io.formats.style.Styler at 0x79a16afdaa40>"
            ],
            "text/html": [
              "<style type=\"text/css\">\n",
              "</style>\n",
              "<table id=\"T_58ac6\" class=\"dataframe\">\n",
              "  <thead>\n",
              "    <tr>\n",
              "      <th id=\"T_58ac6_level0_col0\" class=\"col_heading level0 col0\" >deptid</th>\n",
              "      <th id=\"T_58ac6_level0_col1\" class=\"col_heading level0 col1\" >lastname</th>\n",
              "      <th id=\"T_58ac6_level0_col2\" class=\"col_heading level0 col2\" >salary</th>\n",
              "      <th id=\"T_58ac6_level0_col3\" class=\"col_heading level0 col3\" >avg</th>\n",
              "    </tr>\n",
              "  </thead>\n",
              "  <tbody>\n",
              "    <tr>\n",
              "      <td id=\"T_58ac6_row0_col0\" class=\"data row0 col0\" >10</td>\n",
              "      <td id=\"T_58ac6_row0_col1\" class=\"data row0 col1\" >Bacchan</td>\n",
              "      <td id=\"T_58ac6_row0_col2\" class=\"data row0 col2\" >50000</td>\n",
              "      <td id=\"T_58ac6_row0_col3\" class=\"data row0 col3\" >50000.000000000000</td>\n",
              "    </tr>\n",
              "    <tr>\n",
              "      <td id=\"T_58ac6_row1_col0\" class=\"data row1 col0\" >10</td>\n",
              "      <td id=\"T_58ac6_row1_col1\" class=\"data row1 col1\" >Ganesan</td>\n",
              "      <td id=\"T_58ac6_row1_col2\" class=\"data row1 col2\" >60000</td>\n",
              "      <td id=\"T_58ac6_row1_col3\" class=\"data row1 col3\" >50000.000000000000</td>\n",
              "    </tr>\n",
              "    <tr>\n",
              "      <td id=\"T_58ac6_row2_col0\" class=\"data row2 col0\" >10</td>\n",
              "      <td id=\"T_58ac6_row2_col1\" class=\"data row2 col1\" >Karthikeyan</td>\n",
              "      <td id=\"T_58ac6_row2_col2\" class=\"data row2 col2\" >40000</td>\n",
              "      <td id=\"T_58ac6_row2_col3\" class=\"data row2 col3\" >50000.000000000000</td>\n",
              "    </tr>\n",
              "    <tr>\n",
              "      <td id=\"T_58ac6_row3_col0\" class=\"data row3 col0\" >20</td>\n",
              "      <td id=\"T_58ac6_row3_col1\" class=\"data row3 col1\" >Dikshit</td>\n",
              "      <td id=\"T_58ac6_row3_col2\" class=\"data row3 col2\" >10000</td>\n",
              "      <td id=\"T_58ac6_row3_col3\" class=\"data row3 col3\" >18333.333333333333</td>\n",
              "    </tr>\n",
              "    <tr>\n",
              "      <td id=\"T_58ac6_row4_col0\" class=\"data row4 col0\" >20</td>\n",
              "      <td id=\"T_58ac6_row4_col1\" class=\"data row4 col1\" >Khan</td>\n",
              "      <td id=\"T_58ac6_row4_col2\" class=\"data row4 col2\" >30000</td>\n",
              "      <td id=\"T_58ac6_row4_col3\" class=\"data row4 col3\" >18333.333333333333</td>\n",
              "    </tr>\n",
              "    <tr>\n",
              "      <td id=\"T_58ac6_row5_col0\" class=\"data row5 col0\" >20</td>\n",
              "      <td id=\"T_58ac6_row5_col1\" class=\"data row5 col1\" >Sehwag</td>\n",
              "      <td id=\"T_58ac6_row5_col2\" class=\"data row5 col2\" >15000</td>\n",
              "      <td id=\"T_58ac6_row5_col3\" class=\"data row5 col3\" >18333.333333333333</td>\n",
              "    </tr>\n",
              "    <tr>\n",
              "      <td id=\"T_58ac6_row6_col0\" class=\"data row6 col0\" >30</td>\n",
              "      <td id=\"T_58ac6_row6_col1\" class=\"data row6 col1\" >Mirza</td>\n",
              "      <td id=\"T_58ac6_row6_col2\" class=\"data row6 col2\" >25000</td>\n",
              "      <td id=\"T_58ac6_row6_col3\" class=\"data row6 col3\" >25666.666666666667</td>\n",
              "    </tr>\n",
              "    <tr>\n",
              "      <td id=\"T_58ac6_row7_col0\" class=\"data row7 col0\" >30</td>\n",
              "      <td id=\"T_58ac6_row7_col1\" class=\"data row7 col1\" >Dravid</td>\n",
              "      <td id=\"T_58ac6_row7_col2\" class=\"data row7 col2\" >40000</td>\n",
              "      <td id=\"T_58ac6_row7_col3\" class=\"data row7 col3\" >25666.666666666667</td>\n",
              "    </tr>\n",
              "    <tr>\n",
              "      <td id=\"T_58ac6_row8_col0\" class=\"data row8 col0\" >30</td>\n",
              "      <td id=\"T_58ac6_row8_col1\" class=\"data row8 col1\" >Dalmia</td>\n",
              "      <td id=\"T_58ac6_row8_col2\" class=\"data row8 col2\" >12000</td>\n",
              "      <td id=\"T_58ac6_row8_col3\" class=\"data row8 col3\" >25666.666666666667</td>\n",
              "    </tr>\n",
              "    <tr>\n",
              "      <td id=\"T_58ac6_row9_col0\" class=\"data row9 col0\" >40</td>\n",
              "      <td id=\"T_58ac6_row9_col1\" class=\"data row9 col1\" >Ganguly</td>\n",
              "      <td id=\"T_58ac6_row9_col2\" class=\"data row9 col2\" >20000</td>\n",
              "      <td id=\"T_58ac6_row9_col3\" class=\"data row9 col3\" >18000.000000000000</td>\n",
              "    </tr>\n",
              "    <tr>\n",
              "      <td id=\"T_58ac6_row10_col0\" class=\"data row10 col0\" >40</td>\n",
              "      <td id=\"T_58ac6_row10_col1\" class=\"data row10 col1\" >Dhoni</td>\n",
              "      <td id=\"T_58ac6_row10_col2\" class=\"data row10 col2\" >9000</td>\n",
              "      <td id=\"T_58ac6_row10_col3\" class=\"data row10 col3\" >18000.000000000000</td>\n",
              "    </tr>\n",
              "    <tr>\n",
              "      <td id=\"T_58ac6_row11_col0\" class=\"data row11 col0\" >40</td>\n",
              "      <td id=\"T_58ac6_row11_col1\" class=\"data row11 col1\" >Mukherjee</td>\n",
              "      <td id=\"T_58ac6_row11_col2\" class=\"data row11 col2\" >25000</td>\n",
              "      <td id=\"T_58ac6_row11_col3\" class=\"data row11 col3\" >18000.000000000000</td>\n",
              "    </tr>\n",
              "    <tr>\n",
              "      <td id=\"T_58ac6_row12_col0\" class=\"data row12 col0\" >70</td>\n",
              "      <td id=\"T_58ac6_row12_col1\" class=\"data row12 col1\" >Sunil</td>\n",
              "      <td id=\"T_58ac6_row12_col2\" class=\"data row12 col2\" >40000</td>\n",
              "      <td id=\"T_58ac6_row12_col3\" class=\"data row12 col3\" >40000.000000000000</td>\n",
              "    </tr>\n",
              "  </tbody>\n",
              "</table>\n"
            ]
          },
          "metadata": {},
          "execution_count": 73
        }
      ]
    },
    {
      "cell_type": "code",
      "source": [
        "sql = \"select deptname, lastname, salary, avg(salary) over (partition by deptname) from empl  inner join dept using(deptid)\"\n",
        "runSelect(sql)"
      ],
      "metadata": {
        "colab": {
          "base_uri": "https://localhost:8080/",
          "height": 426
        },
        "id": "JZC4y3tg2o8A",
        "outputId": "7fd18b8a-c662-49a6-e653-975214f94967"
      },
      "execution_count": 74,
      "outputs": [
        {
          "output_type": "execute_result",
          "data": {
            "text/plain": [
              "<pandas.io.formats.style.Styler at 0x79a16afd8b20>"
            ],
            "text/html": [
              "<style type=\"text/css\">\n",
              "</style>\n",
              "<table id=\"T_ced6b\" class=\"dataframe\">\n",
              "  <thead>\n",
              "    <tr>\n",
              "      <th id=\"T_ced6b_level0_col0\" class=\"col_heading level0 col0\" >deptname</th>\n",
              "      <th id=\"T_ced6b_level0_col1\" class=\"col_heading level0 col1\" >lastname</th>\n",
              "      <th id=\"T_ced6b_level0_col2\" class=\"col_heading level0 col2\" >salary</th>\n",
              "      <th id=\"T_ced6b_level0_col3\" class=\"col_heading level0 col3\" >avg</th>\n",
              "    </tr>\n",
              "  </thead>\n",
              "  <tbody>\n",
              "    <tr>\n",
              "      <td id=\"T_ced6b_row0_col0\" class=\"data row0 col0\" >Accounts</td>\n",
              "      <td id=\"T_ced6b_row0_col1\" class=\"data row0 col1\" >Dravid</td>\n",
              "      <td id=\"T_ced6b_row0_col2\" class=\"data row0 col2\" >40000</td>\n",
              "      <td id=\"T_ced6b_row0_col3\" class=\"data row0 col3\" >25666.666666666667</td>\n",
              "    </tr>\n",
              "    <tr>\n",
              "      <td id=\"T_ced6b_row1_col0\" class=\"data row1 col0\" >Accounts</td>\n",
              "      <td id=\"T_ced6b_row1_col1\" class=\"data row1 col1\" >Dalmia</td>\n",
              "      <td id=\"T_ced6b_row1_col2\" class=\"data row1 col2\" >12000</td>\n",
              "      <td id=\"T_ced6b_row1_col3\" class=\"data row1 col3\" >25666.666666666667</td>\n",
              "    </tr>\n",
              "    <tr>\n",
              "      <td id=\"T_ced6b_row2_col0\" class=\"data row2 col0\" >Accounts</td>\n",
              "      <td id=\"T_ced6b_row2_col1\" class=\"data row2 col1\" >Mirza</td>\n",
              "      <td id=\"T_ced6b_row2_col2\" class=\"data row2 col2\" >25000</td>\n",
              "      <td id=\"T_ced6b_row2_col3\" class=\"data row2 col3\" >25666.666666666667</td>\n",
              "    </tr>\n",
              "    <tr>\n",
              "      <td id=\"T_ced6b_row3_col0\" class=\"data row3 col0\" >Corporate</td>\n",
              "      <td id=\"T_ced6b_row3_col1\" class=\"data row3 col1\" >Karthikeyan</td>\n",
              "      <td id=\"T_ced6b_row3_col2\" class=\"data row3 col2\" >40000</td>\n",
              "      <td id=\"T_ced6b_row3_col3\" class=\"data row3 col3\" >50000.000000000000</td>\n",
              "    </tr>\n",
              "    <tr>\n",
              "      <td id=\"T_ced6b_row4_col0\" class=\"data row4 col0\" >Corporate</td>\n",
              "      <td id=\"T_ced6b_row4_col1\" class=\"data row4 col1\" >Ganesan</td>\n",
              "      <td id=\"T_ced6b_row4_col2\" class=\"data row4 col2\" >60000</td>\n",
              "      <td id=\"T_ced6b_row4_col3\" class=\"data row4 col3\" >50000.000000000000</td>\n",
              "    </tr>\n",
              "    <tr>\n",
              "      <td id=\"T_ced6b_row5_col0\" class=\"data row5 col0\" >Corporate</td>\n",
              "      <td id=\"T_ced6b_row5_col1\" class=\"data row5 col1\" >Bacchan</td>\n",
              "      <td id=\"T_ced6b_row5_col2\" class=\"data row5 col2\" >50000</td>\n",
              "      <td id=\"T_ced6b_row5_col3\" class=\"data row5 col3\" >50000.000000000000</td>\n",
              "    </tr>\n",
              "    <tr>\n",
              "      <td id=\"T_ced6b_row6_col0\" class=\"data row6 col0\" >Production</td>\n",
              "      <td id=\"T_ced6b_row6_col1\" class=\"data row6 col1\" >Ganguly</td>\n",
              "      <td id=\"T_ced6b_row6_col2\" class=\"data row6 col2\" >20000</td>\n",
              "      <td id=\"T_ced6b_row6_col3\" class=\"data row6 col3\" >18000.000000000000</td>\n",
              "    </tr>\n",
              "    <tr>\n",
              "      <td id=\"T_ced6b_row7_col0\" class=\"data row7 col0\" >Production</td>\n",
              "      <td id=\"T_ced6b_row7_col1\" class=\"data row7 col1\" >Dhoni</td>\n",
              "      <td id=\"T_ced6b_row7_col2\" class=\"data row7 col2\" >9000</td>\n",
              "      <td id=\"T_ced6b_row7_col3\" class=\"data row7 col3\" >18000.000000000000</td>\n",
              "    </tr>\n",
              "    <tr>\n",
              "      <td id=\"T_ced6b_row8_col0\" class=\"data row8 col0\" >Production</td>\n",
              "      <td id=\"T_ced6b_row8_col1\" class=\"data row8 col1\" >Mukherjee</td>\n",
              "      <td id=\"T_ced6b_row8_col2\" class=\"data row8 col2\" >25000</td>\n",
              "      <td id=\"T_ced6b_row8_col3\" class=\"data row8 col3\" >18000.000000000000</td>\n",
              "    </tr>\n",
              "    <tr>\n",
              "      <td id=\"T_ced6b_row9_col0\" class=\"data row9 col0\" >Sales</td>\n",
              "      <td id=\"T_ced6b_row9_col1\" class=\"data row9 col1\" >Dikshit</td>\n",
              "      <td id=\"T_ced6b_row9_col2\" class=\"data row9 col2\" >10000</td>\n",
              "      <td id=\"T_ced6b_row9_col3\" class=\"data row9 col3\" >18333.333333333333</td>\n",
              "    </tr>\n",
              "    <tr>\n",
              "      <td id=\"T_ced6b_row10_col0\" class=\"data row10 col0\" >Sales</td>\n",
              "      <td id=\"T_ced6b_row10_col1\" class=\"data row10 col1\" >Khan</td>\n",
              "      <td id=\"T_ced6b_row10_col2\" class=\"data row10 col2\" >30000</td>\n",
              "      <td id=\"T_ced6b_row10_col3\" class=\"data row10 col3\" >18333.333333333333</td>\n",
              "    </tr>\n",
              "    <tr>\n",
              "      <td id=\"T_ced6b_row11_col0\" class=\"data row11 col0\" >Sales</td>\n",
              "      <td id=\"T_ced6b_row11_col1\" class=\"data row11 col1\" >Sehwag</td>\n",
              "      <td id=\"T_ced6b_row11_col2\" class=\"data row11 col2\" >15000</td>\n",
              "      <td id=\"T_ced6b_row11_col3\" class=\"data row11 col3\" >18333.333333333333</td>\n",
              "    </tr>\n",
              "  </tbody>\n",
              "</table>\n"
            ]
          },
          "metadata": {},
          "execution_count": 74
        }
      ]
    },
    {
      "cell_type": "code",
      "source": [
        "sql = \"select deptname, lastname, salary, \\\n",
        "    row_number() over (partition by deptname order by salary) \\\n",
        "    from empl  inner join dept using(deptid)\"\n",
        "runSelect(sql)"
      ],
      "metadata": {
        "colab": {
          "base_uri": "https://localhost:8080/",
          "height": 426
        },
        "id": "xgP9VShE4Spl",
        "outputId": "bcbd2d8a-1144-45ff-dc77-da4fbffa5573"
      },
      "execution_count": 75,
      "outputs": [
        {
          "output_type": "execute_result",
          "data": {
            "text/plain": [
              "<pandas.io.formats.style.Styler at 0x79a19b18b970>"
            ],
            "text/html": [
              "<style type=\"text/css\">\n",
              "</style>\n",
              "<table id=\"T_73ab6\" class=\"dataframe\">\n",
              "  <thead>\n",
              "    <tr>\n",
              "      <th id=\"T_73ab6_level0_col0\" class=\"col_heading level0 col0\" >deptname</th>\n",
              "      <th id=\"T_73ab6_level0_col1\" class=\"col_heading level0 col1\" >lastname</th>\n",
              "      <th id=\"T_73ab6_level0_col2\" class=\"col_heading level0 col2\" >salary</th>\n",
              "      <th id=\"T_73ab6_level0_col3\" class=\"col_heading level0 col3\" >row_number</th>\n",
              "    </tr>\n",
              "  </thead>\n",
              "  <tbody>\n",
              "    <tr>\n",
              "      <td id=\"T_73ab6_row0_col0\" class=\"data row0 col0\" >Accounts</td>\n",
              "      <td id=\"T_73ab6_row0_col1\" class=\"data row0 col1\" >Dalmia</td>\n",
              "      <td id=\"T_73ab6_row0_col2\" class=\"data row0 col2\" >12000</td>\n",
              "      <td id=\"T_73ab6_row0_col3\" class=\"data row0 col3\" >1</td>\n",
              "    </tr>\n",
              "    <tr>\n",
              "      <td id=\"T_73ab6_row1_col0\" class=\"data row1 col0\" >Accounts</td>\n",
              "      <td id=\"T_73ab6_row1_col1\" class=\"data row1 col1\" >Mirza</td>\n",
              "      <td id=\"T_73ab6_row1_col2\" class=\"data row1 col2\" >25000</td>\n",
              "      <td id=\"T_73ab6_row1_col3\" class=\"data row1 col3\" >2</td>\n",
              "    </tr>\n",
              "    <tr>\n",
              "      <td id=\"T_73ab6_row2_col0\" class=\"data row2 col0\" >Accounts</td>\n",
              "      <td id=\"T_73ab6_row2_col1\" class=\"data row2 col1\" >Dravid</td>\n",
              "      <td id=\"T_73ab6_row2_col2\" class=\"data row2 col2\" >40000</td>\n",
              "      <td id=\"T_73ab6_row2_col3\" class=\"data row2 col3\" >3</td>\n",
              "    </tr>\n",
              "    <tr>\n",
              "      <td id=\"T_73ab6_row3_col0\" class=\"data row3 col0\" >Corporate</td>\n",
              "      <td id=\"T_73ab6_row3_col1\" class=\"data row3 col1\" >Karthikeyan</td>\n",
              "      <td id=\"T_73ab6_row3_col2\" class=\"data row3 col2\" >40000</td>\n",
              "      <td id=\"T_73ab6_row3_col3\" class=\"data row3 col3\" >1</td>\n",
              "    </tr>\n",
              "    <tr>\n",
              "      <td id=\"T_73ab6_row4_col0\" class=\"data row4 col0\" >Corporate</td>\n",
              "      <td id=\"T_73ab6_row4_col1\" class=\"data row4 col1\" >Bacchan</td>\n",
              "      <td id=\"T_73ab6_row4_col2\" class=\"data row4 col2\" >50000</td>\n",
              "      <td id=\"T_73ab6_row4_col3\" class=\"data row4 col3\" >2</td>\n",
              "    </tr>\n",
              "    <tr>\n",
              "      <td id=\"T_73ab6_row5_col0\" class=\"data row5 col0\" >Corporate</td>\n",
              "      <td id=\"T_73ab6_row5_col1\" class=\"data row5 col1\" >Ganesan</td>\n",
              "      <td id=\"T_73ab6_row5_col2\" class=\"data row5 col2\" >60000</td>\n",
              "      <td id=\"T_73ab6_row5_col3\" class=\"data row5 col3\" >3</td>\n",
              "    </tr>\n",
              "    <tr>\n",
              "      <td id=\"T_73ab6_row6_col0\" class=\"data row6 col0\" >Production</td>\n",
              "      <td id=\"T_73ab6_row6_col1\" class=\"data row6 col1\" >Dhoni</td>\n",
              "      <td id=\"T_73ab6_row6_col2\" class=\"data row6 col2\" >9000</td>\n",
              "      <td id=\"T_73ab6_row6_col3\" class=\"data row6 col3\" >1</td>\n",
              "    </tr>\n",
              "    <tr>\n",
              "      <td id=\"T_73ab6_row7_col0\" class=\"data row7 col0\" >Production</td>\n",
              "      <td id=\"T_73ab6_row7_col1\" class=\"data row7 col1\" >Ganguly</td>\n",
              "      <td id=\"T_73ab6_row7_col2\" class=\"data row7 col2\" >20000</td>\n",
              "      <td id=\"T_73ab6_row7_col3\" class=\"data row7 col3\" >2</td>\n",
              "    </tr>\n",
              "    <tr>\n",
              "      <td id=\"T_73ab6_row8_col0\" class=\"data row8 col0\" >Production</td>\n",
              "      <td id=\"T_73ab6_row8_col1\" class=\"data row8 col1\" >Mukherjee</td>\n",
              "      <td id=\"T_73ab6_row8_col2\" class=\"data row8 col2\" >25000</td>\n",
              "      <td id=\"T_73ab6_row8_col3\" class=\"data row8 col3\" >3</td>\n",
              "    </tr>\n",
              "    <tr>\n",
              "      <td id=\"T_73ab6_row9_col0\" class=\"data row9 col0\" >Sales</td>\n",
              "      <td id=\"T_73ab6_row9_col1\" class=\"data row9 col1\" >Dikshit</td>\n",
              "      <td id=\"T_73ab6_row9_col2\" class=\"data row9 col2\" >10000</td>\n",
              "      <td id=\"T_73ab6_row9_col3\" class=\"data row9 col3\" >1</td>\n",
              "    </tr>\n",
              "    <tr>\n",
              "      <td id=\"T_73ab6_row10_col0\" class=\"data row10 col0\" >Sales</td>\n",
              "      <td id=\"T_73ab6_row10_col1\" class=\"data row10 col1\" >Sehwag</td>\n",
              "      <td id=\"T_73ab6_row10_col2\" class=\"data row10 col2\" >15000</td>\n",
              "      <td id=\"T_73ab6_row10_col3\" class=\"data row10 col3\" >2</td>\n",
              "    </tr>\n",
              "    <tr>\n",
              "      <td id=\"T_73ab6_row11_col0\" class=\"data row11 col0\" >Sales</td>\n",
              "      <td id=\"T_73ab6_row11_col1\" class=\"data row11 col1\" >Khan</td>\n",
              "      <td id=\"T_73ab6_row11_col2\" class=\"data row11 col2\" >30000</td>\n",
              "      <td id=\"T_73ab6_row11_col3\" class=\"data row11 col3\" >3</td>\n",
              "    </tr>\n",
              "  </tbody>\n",
              "</table>\n"
            ]
          },
          "metadata": {},
          "execution_count": 75
        }
      ]
    },
    {
      "cell_type": "code",
      "source": [
        "sql = \"select deptname, lastname, salary, \\\n",
        "        rank() over (partition by deptname order by salary desc) \\\n",
        "        from empl  inner join dept using(deptid)\"\n",
        "runSelect(sql)"
      ],
      "metadata": {
        "colab": {
          "base_uri": "https://localhost:8080/",
          "height": 426
        },
        "id": "rL_1sHBa4ply",
        "outputId": "73a489a6-f999-40a0-ec6a-ca1dc554df19"
      },
      "execution_count": 76,
      "outputs": [
        {
          "output_type": "execute_result",
          "data": {
            "text/plain": [
              "<pandas.io.formats.style.Styler at 0x79a16b1adc90>"
            ],
            "text/html": [
              "<style type=\"text/css\">\n",
              "</style>\n",
              "<table id=\"T_95e81\" class=\"dataframe\">\n",
              "  <thead>\n",
              "    <tr>\n",
              "      <th id=\"T_95e81_level0_col0\" class=\"col_heading level0 col0\" >deptname</th>\n",
              "      <th id=\"T_95e81_level0_col1\" class=\"col_heading level0 col1\" >lastname</th>\n",
              "      <th id=\"T_95e81_level0_col2\" class=\"col_heading level0 col2\" >salary</th>\n",
              "      <th id=\"T_95e81_level0_col3\" class=\"col_heading level0 col3\" >rank</th>\n",
              "    </tr>\n",
              "  </thead>\n",
              "  <tbody>\n",
              "    <tr>\n",
              "      <td id=\"T_95e81_row0_col0\" class=\"data row0 col0\" >Accounts</td>\n",
              "      <td id=\"T_95e81_row0_col1\" class=\"data row0 col1\" >Dravid</td>\n",
              "      <td id=\"T_95e81_row0_col2\" class=\"data row0 col2\" >40000</td>\n",
              "      <td id=\"T_95e81_row0_col3\" class=\"data row0 col3\" >1</td>\n",
              "    </tr>\n",
              "    <tr>\n",
              "      <td id=\"T_95e81_row1_col0\" class=\"data row1 col0\" >Accounts</td>\n",
              "      <td id=\"T_95e81_row1_col1\" class=\"data row1 col1\" >Mirza</td>\n",
              "      <td id=\"T_95e81_row1_col2\" class=\"data row1 col2\" >25000</td>\n",
              "      <td id=\"T_95e81_row1_col3\" class=\"data row1 col3\" >2</td>\n",
              "    </tr>\n",
              "    <tr>\n",
              "      <td id=\"T_95e81_row2_col0\" class=\"data row2 col0\" >Accounts</td>\n",
              "      <td id=\"T_95e81_row2_col1\" class=\"data row2 col1\" >Dalmia</td>\n",
              "      <td id=\"T_95e81_row2_col2\" class=\"data row2 col2\" >12000</td>\n",
              "      <td id=\"T_95e81_row2_col3\" class=\"data row2 col3\" >3</td>\n",
              "    </tr>\n",
              "    <tr>\n",
              "      <td id=\"T_95e81_row3_col0\" class=\"data row3 col0\" >Corporate</td>\n",
              "      <td id=\"T_95e81_row3_col1\" class=\"data row3 col1\" >Ganesan</td>\n",
              "      <td id=\"T_95e81_row3_col2\" class=\"data row3 col2\" >60000</td>\n",
              "      <td id=\"T_95e81_row3_col3\" class=\"data row3 col3\" >1</td>\n",
              "    </tr>\n",
              "    <tr>\n",
              "      <td id=\"T_95e81_row4_col0\" class=\"data row4 col0\" >Corporate</td>\n",
              "      <td id=\"T_95e81_row4_col1\" class=\"data row4 col1\" >Bacchan</td>\n",
              "      <td id=\"T_95e81_row4_col2\" class=\"data row4 col2\" >50000</td>\n",
              "      <td id=\"T_95e81_row4_col3\" class=\"data row4 col3\" >2</td>\n",
              "    </tr>\n",
              "    <tr>\n",
              "      <td id=\"T_95e81_row5_col0\" class=\"data row5 col0\" >Corporate</td>\n",
              "      <td id=\"T_95e81_row5_col1\" class=\"data row5 col1\" >Karthikeyan</td>\n",
              "      <td id=\"T_95e81_row5_col2\" class=\"data row5 col2\" >40000</td>\n",
              "      <td id=\"T_95e81_row5_col3\" class=\"data row5 col3\" >3</td>\n",
              "    </tr>\n",
              "    <tr>\n",
              "      <td id=\"T_95e81_row6_col0\" class=\"data row6 col0\" >Production</td>\n",
              "      <td id=\"T_95e81_row6_col1\" class=\"data row6 col1\" >Mukherjee</td>\n",
              "      <td id=\"T_95e81_row6_col2\" class=\"data row6 col2\" >25000</td>\n",
              "      <td id=\"T_95e81_row6_col3\" class=\"data row6 col3\" >1</td>\n",
              "    </tr>\n",
              "    <tr>\n",
              "      <td id=\"T_95e81_row7_col0\" class=\"data row7 col0\" >Production</td>\n",
              "      <td id=\"T_95e81_row7_col1\" class=\"data row7 col1\" >Ganguly</td>\n",
              "      <td id=\"T_95e81_row7_col2\" class=\"data row7 col2\" >20000</td>\n",
              "      <td id=\"T_95e81_row7_col3\" class=\"data row7 col3\" >2</td>\n",
              "    </tr>\n",
              "    <tr>\n",
              "      <td id=\"T_95e81_row8_col0\" class=\"data row8 col0\" >Production</td>\n",
              "      <td id=\"T_95e81_row8_col1\" class=\"data row8 col1\" >Dhoni</td>\n",
              "      <td id=\"T_95e81_row8_col2\" class=\"data row8 col2\" >9000</td>\n",
              "      <td id=\"T_95e81_row8_col3\" class=\"data row8 col3\" >3</td>\n",
              "    </tr>\n",
              "    <tr>\n",
              "      <td id=\"T_95e81_row9_col0\" class=\"data row9 col0\" >Sales</td>\n",
              "      <td id=\"T_95e81_row9_col1\" class=\"data row9 col1\" >Khan</td>\n",
              "      <td id=\"T_95e81_row9_col2\" class=\"data row9 col2\" >30000</td>\n",
              "      <td id=\"T_95e81_row9_col3\" class=\"data row9 col3\" >1</td>\n",
              "    </tr>\n",
              "    <tr>\n",
              "      <td id=\"T_95e81_row10_col0\" class=\"data row10 col0\" >Sales</td>\n",
              "      <td id=\"T_95e81_row10_col1\" class=\"data row10 col1\" >Sehwag</td>\n",
              "      <td id=\"T_95e81_row10_col2\" class=\"data row10 col2\" >15000</td>\n",
              "      <td id=\"T_95e81_row10_col3\" class=\"data row10 col3\" >2</td>\n",
              "    </tr>\n",
              "    <tr>\n",
              "      <td id=\"T_95e81_row11_col0\" class=\"data row11 col0\" >Sales</td>\n",
              "      <td id=\"T_95e81_row11_col1\" class=\"data row11 col1\" >Dikshit</td>\n",
              "      <td id=\"T_95e81_row11_col2\" class=\"data row11 col2\" >10000</td>\n",
              "      <td id=\"T_95e81_row11_col3\" class=\"data row11 col3\" >3</td>\n",
              "    </tr>\n",
              "  </tbody>\n",
              "</table>\n"
            ]
          },
          "metadata": {},
          "execution_count": 76
        }
      ]
    },
    {
      "cell_type": "code",
      "source": [
        "sql = \"select deptname, lastname, salary, \\\n",
        "first_value(salary) over (partition by deptname order by salary) as deptlow, \\\n",
        "last_value(salary) over (partition by deptname order by salary RANGE BETWEEN UNBOUNDED PRECEDING AND UNBOUNDED FOLLOWING) as depthigh \\\n",
        "from empl  inner join dept using(deptid)\"\n",
        "runSelect(sql)"
      ],
      "metadata": {
        "colab": {
          "base_uri": "https://localhost:8080/",
          "height": 426
        },
        "id": "RO428SVT5T3d",
        "outputId": "62c16d4c-c54e-49da-c443-e40040aa7e89"
      },
      "execution_count": 77,
      "outputs": [
        {
          "output_type": "execute_result",
          "data": {
            "text/plain": [
              "<pandas.io.formats.style.Styler at 0x79a16afce0b0>"
            ],
            "text/html": [
              "<style type=\"text/css\">\n",
              "</style>\n",
              "<table id=\"T_d0ee5\" class=\"dataframe\">\n",
              "  <thead>\n",
              "    <tr>\n",
              "      <th id=\"T_d0ee5_level0_col0\" class=\"col_heading level0 col0\" >deptname</th>\n",
              "      <th id=\"T_d0ee5_level0_col1\" class=\"col_heading level0 col1\" >lastname</th>\n",
              "      <th id=\"T_d0ee5_level0_col2\" class=\"col_heading level0 col2\" >salary</th>\n",
              "      <th id=\"T_d0ee5_level0_col3\" class=\"col_heading level0 col3\" >deptlow</th>\n",
              "      <th id=\"T_d0ee5_level0_col4\" class=\"col_heading level0 col4\" >depthigh</th>\n",
              "    </tr>\n",
              "  </thead>\n",
              "  <tbody>\n",
              "    <tr>\n",
              "      <td id=\"T_d0ee5_row0_col0\" class=\"data row0 col0\" >Accounts</td>\n",
              "      <td id=\"T_d0ee5_row0_col1\" class=\"data row0 col1\" >Dalmia</td>\n",
              "      <td id=\"T_d0ee5_row0_col2\" class=\"data row0 col2\" >12000</td>\n",
              "      <td id=\"T_d0ee5_row0_col3\" class=\"data row0 col3\" >12000</td>\n",
              "      <td id=\"T_d0ee5_row0_col4\" class=\"data row0 col4\" >40000</td>\n",
              "    </tr>\n",
              "    <tr>\n",
              "      <td id=\"T_d0ee5_row1_col0\" class=\"data row1 col0\" >Accounts</td>\n",
              "      <td id=\"T_d0ee5_row1_col1\" class=\"data row1 col1\" >Mirza</td>\n",
              "      <td id=\"T_d0ee5_row1_col2\" class=\"data row1 col2\" >25000</td>\n",
              "      <td id=\"T_d0ee5_row1_col3\" class=\"data row1 col3\" >12000</td>\n",
              "      <td id=\"T_d0ee5_row1_col4\" class=\"data row1 col4\" >40000</td>\n",
              "    </tr>\n",
              "    <tr>\n",
              "      <td id=\"T_d0ee5_row2_col0\" class=\"data row2 col0\" >Accounts</td>\n",
              "      <td id=\"T_d0ee5_row2_col1\" class=\"data row2 col1\" >Dravid</td>\n",
              "      <td id=\"T_d0ee5_row2_col2\" class=\"data row2 col2\" >40000</td>\n",
              "      <td id=\"T_d0ee5_row2_col3\" class=\"data row2 col3\" >12000</td>\n",
              "      <td id=\"T_d0ee5_row2_col4\" class=\"data row2 col4\" >40000</td>\n",
              "    </tr>\n",
              "    <tr>\n",
              "      <td id=\"T_d0ee5_row3_col0\" class=\"data row3 col0\" >Corporate</td>\n",
              "      <td id=\"T_d0ee5_row3_col1\" class=\"data row3 col1\" >Karthikeyan</td>\n",
              "      <td id=\"T_d0ee5_row3_col2\" class=\"data row3 col2\" >40000</td>\n",
              "      <td id=\"T_d0ee5_row3_col3\" class=\"data row3 col3\" >40000</td>\n",
              "      <td id=\"T_d0ee5_row3_col4\" class=\"data row3 col4\" >60000</td>\n",
              "    </tr>\n",
              "    <tr>\n",
              "      <td id=\"T_d0ee5_row4_col0\" class=\"data row4 col0\" >Corporate</td>\n",
              "      <td id=\"T_d0ee5_row4_col1\" class=\"data row4 col1\" >Bacchan</td>\n",
              "      <td id=\"T_d0ee5_row4_col2\" class=\"data row4 col2\" >50000</td>\n",
              "      <td id=\"T_d0ee5_row4_col3\" class=\"data row4 col3\" >40000</td>\n",
              "      <td id=\"T_d0ee5_row4_col4\" class=\"data row4 col4\" >60000</td>\n",
              "    </tr>\n",
              "    <tr>\n",
              "      <td id=\"T_d0ee5_row5_col0\" class=\"data row5 col0\" >Corporate</td>\n",
              "      <td id=\"T_d0ee5_row5_col1\" class=\"data row5 col1\" >Ganesan</td>\n",
              "      <td id=\"T_d0ee5_row5_col2\" class=\"data row5 col2\" >60000</td>\n",
              "      <td id=\"T_d0ee5_row5_col3\" class=\"data row5 col3\" >40000</td>\n",
              "      <td id=\"T_d0ee5_row5_col4\" class=\"data row5 col4\" >60000</td>\n",
              "    </tr>\n",
              "    <tr>\n",
              "      <td id=\"T_d0ee5_row6_col0\" class=\"data row6 col0\" >Production</td>\n",
              "      <td id=\"T_d0ee5_row6_col1\" class=\"data row6 col1\" >Dhoni</td>\n",
              "      <td id=\"T_d0ee5_row6_col2\" class=\"data row6 col2\" >9000</td>\n",
              "      <td id=\"T_d0ee5_row6_col3\" class=\"data row6 col3\" >9000</td>\n",
              "      <td id=\"T_d0ee5_row6_col4\" class=\"data row6 col4\" >25000</td>\n",
              "    </tr>\n",
              "    <tr>\n",
              "      <td id=\"T_d0ee5_row7_col0\" class=\"data row7 col0\" >Production</td>\n",
              "      <td id=\"T_d0ee5_row7_col1\" class=\"data row7 col1\" >Ganguly</td>\n",
              "      <td id=\"T_d0ee5_row7_col2\" class=\"data row7 col2\" >20000</td>\n",
              "      <td id=\"T_d0ee5_row7_col3\" class=\"data row7 col3\" >9000</td>\n",
              "      <td id=\"T_d0ee5_row7_col4\" class=\"data row7 col4\" >25000</td>\n",
              "    </tr>\n",
              "    <tr>\n",
              "      <td id=\"T_d0ee5_row8_col0\" class=\"data row8 col0\" >Production</td>\n",
              "      <td id=\"T_d0ee5_row8_col1\" class=\"data row8 col1\" >Mukherjee</td>\n",
              "      <td id=\"T_d0ee5_row8_col2\" class=\"data row8 col2\" >25000</td>\n",
              "      <td id=\"T_d0ee5_row8_col3\" class=\"data row8 col3\" >9000</td>\n",
              "      <td id=\"T_d0ee5_row8_col4\" class=\"data row8 col4\" >25000</td>\n",
              "    </tr>\n",
              "    <tr>\n",
              "      <td id=\"T_d0ee5_row9_col0\" class=\"data row9 col0\" >Sales</td>\n",
              "      <td id=\"T_d0ee5_row9_col1\" class=\"data row9 col1\" >Dikshit</td>\n",
              "      <td id=\"T_d0ee5_row9_col2\" class=\"data row9 col2\" >10000</td>\n",
              "      <td id=\"T_d0ee5_row9_col3\" class=\"data row9 col3\" >10000</td>\n",
              "      <td id=\"T_d0ee5_row9_col4\" class=\"data row9 col4\" >30000</td>\n",
              "    </tr>\n",
              "    <tr>\n",
              "      <td id=\"T_d0ee5_row10_col0\" class=\"data row10 col0\" >Sales</td>\n",
              "      <td id=\"T_d0ee5_row10_col1\" class=\"data row10 col1\" >Sehwag</td>\n",
              "      <td id=\"T_d0ee5_row10_col2\" class=\"data row10 col2\" >15000</td>\n",
              "      <td id=\"T_d0ee5_row10_col3\" class=\"data row10 col3\" >10000</td>\n",
              "      <td id=\"T_d0ee5_row10_col4\" class=\"data row10 col4\" >30000</td>\n",
              "    </tr>\n",
              "    <tr>\n",
              "      <td id=\"T_d0ee5_row11_col0\" class=\"data row11 col0\" >Sales</td>\n",
              "      <td id=\"T_d0ee5_row11_col1\" class=\"data row11 col1\" >Khan</td>\n",
              "      <td id=\"T_d0ee5_row11_col2\" class=\"data row11 col2\" >30000</td>\n",
              "      <td id=\"T_d0ee5_row11_col3\" class=\"data row11 col3\" >10000</td>\n",
              "      <td id=\"T_d0ee5_row11_col4\" class=\"data row11 col4\" >30000</td>\n",
              "    </tr>\n",
              "  </tbody>\n",
              "</table>\n"
            ]
          },
          "metadata": {},
          "execution_count": 77
        }
      ]
    },
    {
      "cell_type": "code",
      "source": [
        "sql = \"select deptname, lastname, salary, \\\n",
        "lag(salary,1) over (partition by deptname order by salary) as prev_emp, \\\n",
        "salary - lag(salary,1) over (partition by deptname order by salary) as gap_up \\\n",
        "from empl  inner join dept using(deptid)\"\n",
        "runSelect(sql)"
      ],
      "metadata": {
        "colab": {
          "base_uri": "https://localhost:8080/",
          "height": 426
        },
        "id": "fnG4S0lF8h77",
        "outputId": "f243e864-172c-40d0-b652-5b532b073811"
      },
      "execution_count": 78,
      "outputs": [
        {
          "output_type": "execute_result",
          "data": {
            "text/plain": [
              "<pandas.io.formats.style.Styler at 0x79a16b0886a0>"
            ],
            "text/html": [
              "<style type=\"text/css\">\n",
              "</style>\n",
              "<table id=\"T_f234c\" class=\"dataframe\">\n",
              "  <thead>\n",
              "    <tr>\n",
              "      <th id=\"T_f234c_level0_col0\" class=\"col_heading level0 col0\" >deptname</th>\n",
              "      <th id=\"T_f234c_level0_col1\" class=\"col_heading level0 col1\" >lastname</th>\n",
              "      <th id=\"T_f234c_level0_col2\" class=\"col_heading level0 col2\" >salary</th>\n",
              "      <th id=\"T_f234c_level0_col3\" class=\"col_heading level0 col3\" >prev_emp</th>\n",
              "      <th id=\"T_f234c_level0_col4\" class=\"col_heading level0 col4\" >gap_up</th>\n",
              "    </tr>\n",
              "  </thead>\n",
              "  <tbody>\n",
              "    <tr>\n",
              "      <td id=\"T_f234c_row0_col0\" class=\"data row0 col0\" >Accounts</td>\n",
              "      <td id=\"T_f234c_row0_col1\" class=\"data row0 col1\" >Dalmia</td>\n",
              "      <td id=\"T_f234c_row0_col2\" class=\"data row0 col2\" >12000</td>\n",
              "      <td id=\"T_f234c_row0_col3\" class=\"data row0 col3\" >nan</td>\n",
              "      <td id=\"T_f234c_row0_col4\" class=\"data row0 col4\" >nan</td>\n",
              "    </tr>\n",
              "    <tr>\n",
              "      <td id=\"T_f234c_row1_col0\" class=\"data row1 col0\" >Accounts</td>\n",
              "      <td id=\"T_f234c_row1_col1\" class=\"data row1 col1\" >Mirza</td>\n",
              "      <td id=\"T_f234c_row1_col2\" class=\"data row1 col2\" >25000</td>\n",
              "      <td id=\"T_f234c_row1_col3\" class=\"data row1 col3\" >12000.000000</td>\n",
              "      <td id=\"T_f234c_row1_col4\" class=\"data row1 col4\" >13000.000000</td>\n",
              "    </tr>\n",
              "    <tr>\n",
              "      <td id=\"T_f234c_row2_col0\" class=\"data row2 col0\" >Accounts</td>\n",
              "      <td id=\"T_f234c_row2_col1\" class=\"data row2 col1\" >Dravid</td>\n",
              "      <td id=\"T_f234c_row2_col2\" class=\"data row2 col2\" >40000</td>\n",
              "      <td id=\"T_f234c_row2_col3\" class=\"data row2 col3\" >25000.000000</td>\n",
              "      <td id=\"T_f234c_row2_col4\" class=\"data row2 col4\" >15000.000000</td>\n",
              "    </tr>\n",
              "    <tr>\n",
              "      <td id=\"T_f234c_row3_col0\" class=\"data row3 col0\" >Corporate</td>\n",
              "      <td id=\"T_f234c_row3_col1\" class=\"data row3 col1\" >Karthikeyan</td>\n",
              "      <td id=\"T_f234c_row3_col2\" class=\"data row3 col2\" >40000</td>\n",
              "      <td id=\"T_f234c_row3_col3\" class=\"data row3 col3\" >nan</td>\n",
              "      <td id=\"T_f234c_row3_col4\" class=\"data row3 col4\" >nan</td>\n",
              "    </tr>\n",
              "    <tr>\n",
              "      <td id=\"T_f234c_row4_col0\" class=\"data row4 col0\" >Corporate</td>\n",
              "      <td id=\"T_f234c_row4_col1\" class=\"data row4 col1\" >Bacchan</td>\n",
              "      <td id=\"T_f234c_row4_col2\" class=\"data row4 col2\" >50000</td>\n",
              "      <td id=\"T_f234c_row4_col3\" class=\"data row4 col3\" >40000.000000</td>\n",
              "      <td id=\"T_f234c_row4_col4\" class=\"data row4 col4\" >10000.000000</td>\n",
              "    </tr>\n",
              "    <tr>\n",
              "      <td id=\"T_f234c_row5_col0\" class=\"data row5 col0\" >Corporate</td>\n",
              "      <td id=\"T_f234c_row5_col1\" class=\"data row5 col1\" >Ganesan</td>\n",
              "      <td id=\"T_f234c_row5_col2\" class=\"data row5 col2\" >60000</td>\n",
              "      <td id=\"T_f234c_row5_col3\" class=\"data row5 col3\" >50000.000000</td>\n",
              "      <td id=\"T_f234c_row5_col4\" class=\"data row5 col4\" >10000.000000</td>\n",
              "    </tr>\n",
              "    <tr>\n",
              "      <td id=\"T_f234c_row6_col0\" class=\"data row6 col0\" >Production</td>\n",
              "      <td id=\"T_f234c_row6_col1\" class=\"data row6 col1\" >Dhoni</td>\n",
              "      <td id=\"T_f234c_row6_col2\" class=\"data row6 col2\" >9000</td>\n",
              "      <td id=\"T_f234c_row6_col3\" class=\"data row6 col3\" >nan</td>\n",
              "      <td id=\"T_f234c_row6_col4\" class=\"data row6 col4\" >nan</td>\n",
              "    </tr>\n",
              "    <tr>\n",
              "      <td id=\"T_f234c_row7_col0\" class=\"data row7 col0\" >Production</td>\n",
              "      <td id=\"T_f234c_row7_col1\" class=\"data row7 col1\" >Ganguly</td>\n",
              "      <td id=\"T_f234c_row7_col2\" class=\"data row7 col2\" >20000</td>\n",
              "      <td id=\"T_f234c_row7_col3\" class=\"data row7 col3\" >9000.000000</td>\n",
              "      <td id=\"T_f234c_row7_col4\" class=\"data row7 col4\" >11000.000000</td>\n",
              "    </tr>\n",
              "    <tr>\n",
              "      <td id=\"T_f234c_row8_col0\" class=\"data row8 col0\" >Production</td>\n",
              "      <td id=\"T_f234c_row8_col1\" class=\"data row8 col1\" >Mukherjee</td>\n",
              "      <td id=\"T_f234c_row8_col2\" class=\"data row8 col2\" >25000</td>\n",
              "      <td id=\"T_f234c_row8_col3\" class=\"data row8 col3\" >20000.000000</td>\n",
              "      <td id=\"T_f234c_row8_col4\" class=\"data row8 col4\" >5000.000000</td>\n",
              "    </tr>\n",
              "    <tr>\n",
              "      <td id=\"T_f234c_row9_col0\" class=\"data row9 col0\" >Sales</td>\n",
              "      <td id=\"T_f234c_row9_col1\" class=\"data row9 col1\" >Dikshit</td>\n",
              "      <td id=\"T_f234c_row9_col2\" class=\"data row9 col2\" >10000</td>\n",
              "      <td id=\"T_f234c_row9_col3\" class=\"data row9 col3\" >nan</td>\n",
              "      <td id=\"T_f234c_row9_col4\" class=\"data row9 col4\" >nan</td>\n",
              "    </tr>\n",
              "    <tr>\n",
              "      <td id=\"T_f234c_row10_col0\" class=\"data row10 col0\" >Sales</td>\n",
              "      <td id=\"T_f234c_row10_col1\" class=\"data row10 col1\" >Sehwag</td>\n",
              "      <td id=\"T_f234c_row10_col2\" class=\"data row10 col2\" >15000</td>\n",
              "      <td id=\"T_f234c_row10_col3\" class=\"data row10 col3\" >10000.000000</td>\n",
              "      <td id=\"T_f234c_row10_col4\" class=\"data row10 col4\" >5000.000000</td>\n",
              "    </tr>\n",
              "    <tr>\n",
              "      <td id=\"T_f234c_row11_col0\" class=\"data row11 col0\" >Sales</td>\n",
              "      <td id=\"T_f234c_row11_col1\" class=\"data row11 col1\" >Khan</td>\n",
              "      <td id=\"T_f234c_row11_col2\" class=\"data row11 col2\" >30000</td>\n",
              "      <td id=\"T_f234c_row11_col3\" class=\"data row11 col3\" >15000.000000</td>\n",
              "      <td id=\"T_f234c_row11_col4\" class=\"data row11 col4\" >15000.000000</td>\n",
              "    </tr>\n",
              "  </tbody>\n",
              "</table>\n"
            ]
          },
          "metadata": {},
          "execution_count": 78
        }
      ]
    },
    {
      "cell_type": "markdown",
      "source": [
        "#Transpose / Pivot\n",
        "https://www.sqlshack.com/how-to-use-the-crosstab-function-in-postgresql/"
      ],
      "metadata": {
        "id": "V6Bt-yTXSITF"
      }
    },
    {
      "cell_type": "code",
      "source": [
        "!psql -h localhost -p 5432 -Uupraxis -ddbpraxis -c \"create extension tablefunc;\""
      ],
      "metadata": {
        "colab": {
          "base_uri": "https://localhost:8080/"
        },
        "id": "ZgVgr1DfYs_R",
        "outputId": "2e95fbb5-dbee-4ab4-fee2-19bf6157cd14"
      },
      "execution_count": 79,
      "outputs": [
        {
          "output_type": "stream",
          "name": "stdout",
          "text": [
            "CREATE EXTENSION\n"
          ]
        }
      ]
    },
    {
      "cell_type": "code",
      "source": [
        "runSelect('select * from dept')"
      ],
      "metadata": {
        "colab": {
          "base_uri": "https://localhost:8080/",
          "height": 206
        },
        "id": "Sa9IpGXwSKWe",
        "outputId": "5cca2b10-5111-4968-97f8-192fcf3fab40"
      },
      "execution_count": 80,
      "outputs": [
        {
          "output_type": "execute_result",
          "data": {
            "text/plain": [
              "<pandas.io.formats.style.Styler at 0x79a16afcf190>"
            ],
            "text/html": [
              "<style type=\"text/css\">\n",
              "</style>\n",
              "<table id=\"T_9b6a1\" class=\"dataframe\">\n",
              "  <thead>\n",
              "    <tr>\n",
              "      <th id=\"T_9b6a1_level0_col0\" class=\"col_heading level0 col0\" >deptid</th>\n",
              "      <th id=\"T_9b6a1_level0_col1\" class=\"col_heading level0 col1\" >deptname</th>\n",
              "      <th id=\"T_9b6a1_level0_col2\" class=\"col_heading level0 col2\" >managerid</th>\n",
              "      <th id=\"T_9b6a1_level0_col3\" class=\"col_heading level0 col3\" >location</th>\n",
              "      <th id=\"T_9b6a1_level0_col4\" class=\"col_heading level0 col4\" >locationid</th>\n",
              "    </tr>\n",
              "  </thead>\n",
              "  <tbody>\n",
              "    <tr>\n",
              "      <td id=\"T_9b6a1_row0_col0\" class=\"data row0 col0\" >10</td>\n",
              "      <td id=\"T_9b6a1_row0_col1\" class=\"data row0 col1\" >Corporate</td>\n",
              "      <td id=\"T_9b6a1_row0_col2\" class=\"data row0 col2\" >299034</td>\n",
              "      <td id=\"T_9b6a1_row0_col3\" class=\"data row0 col3\" >Calcutta</td>\n",
              "      <td id=\"T_9b6a1_row0_col4\" class=\"data row0 col4\" >1</td>\n",
              "    </tr>\n",
              "    <tr>\n",
              "      <td id=\"T_9b6a1_row1_col0\" class=\"data row1 col0\" >20</td>\n",
              "      <td id=\"T_9b6a1_row1_col1\" class=\"data row1 col1\" >Sales</td>\n",
              "      <td id=\"T_9b6a1_row1_col2\" class=\"data row1 col2\" >239456</td>\n",
              "      <td id=\"T_9b6a1_row1_col3\" class=\"data row1 col3\" >Calcutta</td>\n",
              "      <td id=\"T_9b6a1_row1_col4\" class=\"data row1 col4\" >1</td>\n",
              "    </tr>\n",
              "    <tr>\n",
              "      <td id=\"T_9b6a1_row2_col0\" class=\"data row2 col0\" >30</td>\n",
              "      <td id=\"T_9b6a1_row2_col1\" class=\"data row2 col1\" >Accounts</td>\n",
              "      <td id=\"T_9b6a1_row2_col2\" class=\"data row2 col2\" >822134</td>\n",
              "      <td id=\"T_9b6a1_row2_col3\" class=\"data row2 col3\" >Calcutta</td>\n",
              "      <td id=\"T_9b6a1_row2_col4\" class=\"data row2 col4\" >1</td>\n",
              "    </tr>\n",
              "    <tr>\n",
              "      <td id=\"T_9b6a1_row3_col0\" class=\"data row3 col0\" >40</td>\n",
              "      <td id=\"T_9b6a1_row3_col1\" class=\"data row3 col1\" >Production</td>\n",
              "      <td id=\"T_9b6a1_row3_col2\" class=\"data row3 col2\" >349870</td>\n",
              "      <td id=\"T_9b6a1_row3_col3\" class=\"data row3 col3\" >Bombay</td>\n",
              "      <td id=\"T_9b6a1_row3_col4\" class=\"data row3 col4\" >2</td>\n",
              "    </tr>\n",
              "    <tr>\n",
              "      <td id=\"T_9b6a1_row4_col0\" class=\"data row4 col0\" >60</td>\n",
              "      <td id=\"T_9b6a1_row4_col1\" class=\"data row4 col1\" >Research</td>\n",
              "      <td id=\"T_9b6a1_row4_col2\" class=\"data row4 col2\" >546224</td>\n",
              "      <td id=\"T_9b6a1_row4_col3\" class=\"data row4 col3\" >Delhi</td>\n",
              "      <td id=\"T_9b6a1_row4_col4\" class=\"data row4 col4\" >3</td>\n",
              "    </tr>\n",
              "  </tbody>\n",
              "</table>\n"
            ]
          },
          "metadata": {},
          "execution_count": 80
        }
      ]
    },
    {
      "cell_type": "code",
      "source": [
        "sql = \"\\\n",
        "select * from \\\n",
        "crosstab('select location::text,locationid::text,deptname::text from dept order by 1,2') as locations \\\n",
        "(location text, dep1 text, dep2 text, dep3 text, dep4 text)\\\n",
        "\"\n",
        "runSelect(sql)"
      ],
      "metadata": {
        "colab": {
          "base_uri": "https://localhost:8080/",
          "height": 143
        },
        "id": "Iukqh6TRVo-9",
        "outputId": "c3ff1b73-9543-43bd-f2fc-35d05032d521"
      },
      "execution_count": 81,
      "outputs": [
        {
          "output_type": "execute_result",
          "data": {
            "text/plain": [
              "<pandas.io.formats.style.Styler at 0x79a16b1aed70>"
            ],
            "text/html": [
              "<style type=\"text/css\">\n",
              "</style>\n",
              "<table id=\"T_12266\" class=\"dataframe\">\n",
              "  <thead>\n",
              "    <tr>\n",
              "      <th id=\"T_12266_level0_col0\" class=\"col_heading level0 col0\" >location</th>\n",
              "      <th id=\"T_12266_level0_col1\" class=\"col_heading level0 col1\" >dep1</th>\n",
              "      <th id=\"T_12266_level0_col2\" class=\"col_heading level0 col2\" >dep2</th>\n",
              "      <th id=\"T_12266_level0_col3\" class=\"col_heading level0 col3\" >dep3</th>\n",
              "      <th id=\"T_12266_level0_col4\" class=\"col_heading level0 col4\" >dep4</th>\n",
              "    </tr>\n",
              "  </thead>\n",
              "  <tbody>\n",
              "    <tr>\n",
              "      <td id=\"T_12266_row0_col0\" class=\"data row0 col0\" >Bombay</td>\n",
              "      <td id=\"T_12266_row0_col1\" class=\"data row0 col1\" >Production</td>\n",
              "      <td id=\"T_12266_row0_col2\" class=\"data row0 col2\" >None</td>\n",
              "      <td id=\"T_12266_row0_col3\" class=\"data row0 col3\" >None</td>\n",
              "      <td id=\"T_12266_row0_col4\" class=\"data row0 col4\" >None</td>\n",
              "    </tr>\n",
              "    <tr>\n",
              "      <td id=\"T_12266_row1_col0\" class=\"data row1 col0\" >Calcutta</td>\n",
              "      <td id=\"T_12266_row1_col1\" class=\"data row1 col1\" >Corporate</td>\n",
              "      <td id=\"T_12266_row1_col2\" class=\"data row1 col2\" >Sales</td>\n",
              "      <td id=\"T_12266_row1_col3\" class=\"data row1 col3\" >Accounts</td>\n",
              "      <td id=\"T_12266_row1_col4\" class=\"data row1 col4\" >None</td>\n",
              "    </tr>\n",
              "    <tr>\n",
              "      <td id=\"T_12266_row2_col0\" class=\"data row2 col0\" >Delhi</td>\n",
              "      <td id=\"T_12266_row2_col1\" class=\"data row2 col1\" >Research</td>\n",
              "      <td id=\"T_12266_row2_col2\" class=\"data row2 col2\" >None</td>\n",
              "      <td id=\"T_12266_row2_col3\" class=\"data row2 col3\" >None</td>\n",
              "      <td id=\"T_12266_row2_col4\" class=\"data row2 col4\" >None</td>\n",
              "    </tr>\n",
              "  </tbody>\n",
              "</table>\n"
            ]
          },
          "metadata": {},
          "execution_count": 81
        }
      ]
    },
    {
      "cell_type": "markdown",
      "source": [
        "# Insert | Delete | Update"
      ],
      "metadata": {
        "id": "REcqZ7K0DYqi"
      }
    },
    {
      "cell_type": "code",
      "source": [
        "runSelect(\"select * from dept\")"
      ],
      "metadata": {
        "id": "xGgCH9vGDlsI",
        "outputId": "fddc586a-dc69-4f3e-abb6-0ee51dd86047",
        "colab": {
          "base_uri": "https://localhost:8080/",
          "height": 206
        }
      },
      "execution_count": 82,
      "outputs": [
        {
          "output_type": "execute_result",
          "data": {
            "text/plain": [
              "<pandas.io.formats.style.Styler at 0x79a16aeb8850>"
            ],
            "text/html": [
              "<style type=\"text/css\">\n",
              "</style>\n",
              "<table id=\"T_ea023\" class=\"dataframe\">\n",
              "  <thead>\n",
              "    <tr>\n",
              "      <th id=\"T_ea023_level0_col0\" class=\"col_heading level0 col0\" >deptid</th>\n",
              "      <th id=\"T_ea023_level0_col1\" class=\"col_heading level0 col1\" >deptname</th>\n",
              "      <th id=\"T_ea023_level0_col2\" class=\"col_heading level0 col2\" >managerid</th>\n",
              "      <th id=\"T_ea023_level0_col3\" class=\"col_heading level0 col3\" >location</th>\n",
              "      <th id=\"T_ea023_level0_col4\" class=\"col_heading level0 col4\" >locationid</th>\n",
              "    </tr>\n",
              "  </thead>\n",
              "  <tbody>\n",
              "    <tr>\n",
              "      <td id=\"T_ea023_row0_col0\" class=\"data row0 col0\" >10</td>\n",
              "      <td id=\"T_ea023_row0_col1\" class=\"data row0 col1\" >Corporate</td>\n",
              "      <td id=\"T_ea023_row0_col2\" class=\"data row0 col2\" >299034</td>\n",
              "      <td id=\"T_ea023_row0_col3\" class=\"data row0 col3\" >Calcutta</td>\n",
              "      <td id=\"T_ea023_row0_col4\" class=\"data row0 col4\" >1</td>\n",
              "    </tr>\n",
              "    <tr>\n",
              "      <td id=\"T_ea023_row1_col0\" class=\"data row1 col0\" >20</td>\n",
              "      <td id=\"T_ea023_row1_col1\" class=\"data row1 col1\" >Sales</td>\n",
              "      <td id=\"T_ea023_row1_col2\" class=\"data row1 col2\" >239456</td>\n",
              "      <td id=\"T_ea023_row1_col3\" class=\"data row1 col3\" >Calcutta</td>\n",
              "      <td id=\"T_ea023_row1_col4\" class=\"data row1 col4\" >1</td>\n",
              "    </tr>\n",
              "    <tr>\n",
              "      <td id=\"T_ea023_row2_col0\" class=\"data row2 col0\" >30</td>\n",
              "      <td id=\"T_ea023_row2_col1\" class=\"data row2 col1\" >Accounts</td>\n",
              "      <td id=\"T_ea023_row2_col2\" class=\"data row2 col2\" >822134</td>\n",
              "      <td id=\"T_ea023_row2_col3\" class=\"data row2 col3\" >Calcutta</td>\n",
              "      <td id=\"T_ea023_row2_col4\" class=\"data row2 col4\" >1</td>\n",
              "    </tr>\n",
              "    <tr>\n",
              "      <td id=\"T_ea023_row3_col0\" class=\"data row3 col0\" >40</td>\n",
              "      <td id=\"T_ea023_row3_col1\" class=\"data row3 col1\" >Production</td>\n",
              "      <td id=\"T_ea023_row3_col2\" class=\"data row3 col2\" >349870</td>\n",
              "      <td id=\"T_ea023_row3_col3\" class=\"data row3 col3\" >Bombay</td>\n",
              "      <td id=\"T_ea023_row3_col4\" class=\"data row3 col4\" >2</td>\n",
              "    </tr>\n",
              "    <tr>\n",
              "      <td id=\"T_ea023_row4_col0\" class=\"data row4 col0\" >60</td>\n",
              "      <td id=\"T_ea023_row4_col1\" class=\"data row4 col1\" >Research</td>\n",
              "      <td id=\"T_ea023_row4_col2\" class=\"data row4 col2\" >546224</td>\n",
              "      <td id=\"T_ea023_row4_col3\" class=\"data row4 col3\" >Delhi</td>\n",
              "      <td id=\"T_ea023_row4_col4\" class=\"data row4 col4\" >3</td>\n",
              "    </tr>\n",
              "  </tbody>\n",
              "</table>\n"
            ]
          },
          "metadata": {},
          "execution_count": 82
        }
      ]
    },
    {
      "cell_type": "code",
      "source": [
        "runCmd(\"insert into Dept (DeptID, DeptName, ManagerID, Location,LocationID) VALUES \\\n",
        "\t('11', 'Corporate2', '299035', 'Calcutta','1')\")\n",
        "runSelect(\"select * from dept\")"
      ],
      "metadata": {
        "id": "iyW0EobdDuMY",
        "outputId": "aa41d380-a983-472f-92a9-ce0d71181c50",
        "colab": {
          "base_uri": "https://localhost:8080/",
          "height": 255
        }
      },
      "execution_count": 83,
      "outputs": [
        {
          "output_type": "stream",
          "name": "stdout",
          "text": [
            "Command executed\n"
          ]
        },
        {
          "output_type": "execute_result",
          "data": {
            "text/plain": [
              "<pandas.io.formats.style.Styler at 0x79a16aebba00>"
            ],
            "text/html": [
              "<style type=\"text/css\">\n",
              "</style>\n",
              "<table id=\"T_6aa98\" class=\"dataframe\">\n",
              "  <thead>\n",
              "    <tr>\n",
              "      <th id=\"T_6aa98_level0_col0\" class=\"col_heading level0 col0\" >deptid</th>\n",
              "      <th id=\"T_6aa98_level0_col1\" class=\"col_heading level0 col1\" >deptname</th>\n",
              "      <th id=\"T_6aa98_level0_col2\" class=\"col_heading level0 col2\" >managerid</th>\n",
              "      <th id=\"T_6aa98_level0_col3\" class=\"col_heading level0 col3\" >location</th>\n",
              "      <th id=\"T_6aa98_level0_col4\" class=\"col_heading level0 col4\" >locationid</th>\n",
              "    </tr>\n",
              "  </thead>\n",
              "  <tbody>\n",
              "    <tr>\n",
              "      <td id=\"T_6aa98_row0_col0\" class=\"data row0 col0\" >10</td>\n",
              "      <td id=\"T_6aa98_row0_col1\" class=\"data row0 col1\" >Corporate</td>\n",
              "      <td id=\"T_6aa98_row0_col2\" class=\"data row0 col2\" >299034</td>\n",
              "      <td id=\"T_6aa98_row0_col3\" class=\"data row0 col3\" >Calcutta</td>\n",
              "      <td id=\"T_6aa98_row0_col4\" class=\"data row0 col4\" >1</td>\n",
              "    </tr>\n",
              "    <tr>\n",
              "      <td id=\"T_6aa98_row1_col0\" class=\"data row1 col0\" >20</td>\n",
              "      <td id=\"T_6aa98_row1_col1\" class=\"data row1 col1\" >Sales</td>\n",
              "      <td id=\"T_6aa98_row1_col2\" class=\"data row1 col2\" >239456</td>\n",
              "      <td id=\"T_6aa98_row1_col3\" class=\"data row1 col3\" >Calcutta</td>\n",
              "      <td id=\"T_6aa98_row1_col4\" class=\"data row1 col4\" >1</td>\n",
              "    </tr>\n",
              "    <tr>\n",
              "      <td id=\"T_6aa98_row2_col0\" class=\"data row2 col0\" >30</td>\n",
              "      <td id=\"T_6aa98_row2_col1\" class=\"data row2 col1\" >Accounts</td>\n",
              "      <td id=\"T_6aa98_row2_col2\" class=\"data row2 col2\" >822134</td>\n",
              "      <td id=\"T_6aa98_row2_col3\" class=\"data row2 col3\" >Calcutta</td>\n",
              "      <td id=\"T_6aa98_row2_col4\" class=\"data row2 col4\" >1</td>\n",
              "    </tr>\n",
              "    <tr>\n",
              "      <td id=\"T_6aa98_row3_col0\" class=\"data row3 col0\" >40</td>\n",
              "      <td id=\"T_6aa98_row3_col1\" class=\"data row3 col1\" >Production</td>\n",
              "      <td id=\"T_6aa98_row3_col2\" class=\"data row3 col2\" >349870</td>\n",
              "      <td id=\"T_6aa98_row3_col3\" class=\"data row3 col3\" >Bombay</td>\n",
              "      <td id=\"T_6aa98_row3_col4\" class=\"data row3 col4\" >2</td>\n",
              "    </tr>\n",
              "    <tr>\n",
              "      <td id=\"T_6aa98_row4_col0\" class=\"data row4 col0\" >60</td>\n",
              "      <td id=\"T_6aa98_row4_col1\" class=\"data row4 col1\" >Research</td>\n",
              "      <td id=\"T_6aa98_row4_col2\" class=\"data row4 col2\" >546224</td>\n",
              "      <td id=\"T_6aa98_row4_col3\" class=\"data row4 col3\" >Delhi</td>\n",
              "      <td id=\"T_6aa98_row4_col4\" class=\"data row4 col4\" >3</td>\n",
              "    </tr>\n",
              "    <tr>\n",
              "      <td id=\"T_6aa98_row5_col0\" class=\"data row5 col0\" >11</td>\n",
              "      <td id=\"T_6aa98_row5_col1\" class=\"data row5 col1\" >Corporate2</td>\n",
              "      <td id=\"T_6aa98_row5_col2\" class=\"data row5 col2\" >299035</td>\n",
              "      <td id=\"T_6aa98_row5_col3\" class=\"data row5 col3\" >Calcutta</td>\n",
              "      <td id=\"T_6aa98_row5_col4\" class=\"data row5 col4\" >1</td>\n",
              "    </tr>\n",
              "  </tbody>\n",
              "</table>\n"
            ]
          },
          "metadata": {},
          "execution_count": 83
        }
      ]
    },
    {
      "cell_type": "code",
      "source": [
        "runCmd(\"update dept set deptname = 'Marketing' where deptid = '11'\")\n",
        "runSelect(\"select * from dept\")"
      ],
      "metadata": {
        "id": "DqdnmD2pEQNq",
        "outputId": "1a2d6b9e-450a-4ca5-f8ad-4cdd59a7e936",
        "colab": {
          "base_uri": "https://localhost:8080/",
          "height": 255
        }
      },
      "execution_count": 84,
      "outputs": [
        {
          "output_type": "stream",
          "name": "stdout",
          "text": [
            "Command executed\n"
          ]
        },
        {
          "output_type": "execute_result",
          "data": {
            "text/plain": [
              "<pandas.io.formats.style.Styler at 0x79a16aeb9420>"
            ],
            "text/html": [
              "<style type=\"text/css\">\n",
              "</style>\n",
              "<table id=\"T_10b42\" class=\"dataframe\">\n",
              "  <thead>\n",
              "    <tr>\n",
              "      <th id=\"T_10b42_level0_col0\" class=\"col_heading level0 col0\" >deptid</th>\n",
              "      <th id=\"T_10b42_level0_col1\" class=\"col_heading level0 col1\" >deptname</th>\n",
              "      <th id=\"T_10b42_level0_col2\" class=\"col_heading level0 col2\" >managerid</th>\n",
              "      <th id=\"T_10b42_level0_col3\" class=\"col_heading level0 col3\" >location</th>\n",
              "      <th id=\"T_10b42_level0_col4\" class=\"col_heading level0 col4\" >locationid</th>\n",
              "    </tr>\n",
              "  </thead>\n",
              "  <tbody>\n",
              "    <tr>\n",
              "      <td id=\"T_10b42_row0_col0\" class=\"data row0 col0\" >10</td>\n",
              "      <td id=\"T_10b42_row0_col1\" class=\"data row0 col1\" >Corporate</td>\n",
              "      <td id=\"T_10b42_row0_col2\" class=\"data row0 col2\" >299034</td>\n",
              "      <td id=\"T_10b42_row0_col3\" class=\"data row0 col3\" >Calcutta</td>\n",
              "      <td id=\"T_10b42_row0_col4\" class=\"data row0 col4\" >1</td>\n",
              "    </tr>\n",
              "    <tr>\n",
              "      <td id=\"T_10b42_row1_col0\" class=\"data row1 col0\" >20</td>\n",
              "      <td id=\"T_10b42_row1_col1\" class=\"data row1 col1\" >Sales</td>\n",
              "      <td id=\"T_10b42_row1_col2\" class=\"data row1 col2\" >239456</td>\n",
              "      <td id=\"T_10b42_row1_col3\" class=\"data row1 col3\" >Calcutta</td>\n",
              "      <td id=\"T_10b42_row1_col4\" class=\"data row1 col4\" >1</td>\n",
              "    </tr>\n",
              "    <tr>\n",
              "      <td id=\"T_10b42_row2_col0\" class=\"data row2 col0\" >30</td>\n",
              "      <td id=\"T_10b42_row2_col1\" class=\"data row2 col1\" >Accounts</td>\n",
              "      <td id=\"T_10b42_row2_col2\" class=\"data row2 col2\" >822134</td>\n",
              "      <td id=\"T_10b42_row2_col3\" class=\"data row2 col3\" >Calcutta</td>\n",
              "      <td id=\"T_10b42_row2_col4\" class=\"data row2 col4\" >1</td>\n",
              "    </tr>\n",
              "    <tr>\n",
              "      <td id=\"T_10b42_row3_col0\" class=\"data row3 col0\" >40</td>\n",
              "      <td id=\"T_10b42_row3_col1\" class=\"data row3 col1\" >Production</td>\n",
              "      <td id=\"T_10b42_row3_col2\" class=\"data row3 col2\" >349870</td>\n",
              "      <td id=\"T_10b42_row3_col3\" class=\"data row3 col3\" >Bombay</td>\n",
              "      <td id=\"T_10b42_row3_col4\" class=\"data row3 col4\" >2</td>\n",
              "    </tr>\n",
              "    <tr>\n",
              "      <td id=\"T_10b42_row4_col0\" class=\"data row4 col0\" >60</td>\n",
              "      <td id=\"T_10b42_row4_col1\" class=\"data row4 col1\" >Research</td>\n",
              "      <td id=\"T_10b42_row4_col2\" class=\"data row4 col2\" >546224</td>\n",
              "      <td id=\"T_10b42_row4_col3\" class=\"data row4 col3\" >Delhi</td>\n",
              "      <td id=\"T_10b42_row4_col4\" class=\"data row4 col4\" >3</td>\n",
              "    </tr>\n",
              "    <tr>\n",
              "      <td id=\"T_10b42_row5_col0\" class=\"data row5 col0\" >11</td>\n",
              "      <td id=\"T_10b42_row5_col1\" class=\"data row5 col1\" >Marketing</td>\n",
              "      <td id=\"T_10b42_row5_col2\" class=\"data row5 col2\" >299035</td>\n",
              "      <td id=\"T_10b42_row5_col3\" class=\"data row5 col3\" >Calcutta</td>\n",
              "      <td id=\"T_10b42_row5_col4\" class=\"data row5 col4\" >1</td>\n",
              "    </tr>\n",
              "  </tbody>\n",
              "</table>\n"
            ]
          },
          "metadata": {},
          "execution_count": 84
        }
      ]
    },
    {
      "cell_type": "code",
      "source": [
        "runCmd(\"delete from dept where deptid = '11'\")\n",
        "runSelect(\"select * from dept\")"
      ],
      "metadata": {
        "id": "nsnJnNrEF6iS",
        "outputId": "a4ee546b-5869-41f4-8b73-4937af2da2c3",
        "colab": {
          "base_uri": "https://localhost:8080/",
          "height": 224
        }
      },
      "execution_count": 85,
      "outputs": [
        {
          "output_type": "stream",
          "name": "stdout",
          "text": [
            "Command executed\n"
          ]
        },
        {
          "output_type": "execute_result",
          "data": {
            "text/plain": [
              "<pandas.io.formats.style.Styler at 0x79a16aeba5f0>"
            ],
            "text/html": [
              "<style type=\"text/css\">\n",
              "</style>\n",
              "<table id=\"T_95126\" class=\"dataframe\">\n",
              "  <thead>\n",
              "    <tr>\n",
              "      <th id=\"T_95126_level0_col0\" class=\"col_heading level0 col0\" >deptid</th>\n",
              "      <th id=\"T_95126_level0_col1\" class=\"col_heading level0 col1\" >deptname</th>\n",
              "      <th id=\"T_95126_level0_col2\" class=\"col_heading level0 col2\" >managerid</th>\n",
              "      <th id=\"T_95126_level0_col3\" class=\"col_heading level0 col3\" >location</th>\n",
              "      <th id=\"T_95126_level0_col4\" class=\"col_heading level0 col4\" >locationid</th>\n",
              "    </tr>\n",
              "  </thead>\n",
              "  <tbody>\n",
              "    <tr>\n",
              "      <td id=\"T_95126_row0_col0\" class=\"data row0 col0\" >10</td>\n",
              "      <td id=\"T_95126_row0_col1\" class=\"data row0 col1\" >Corporate</td>\n",
              "      <td id=\"T_95126_row0_col2\" class=\"data row0 col2\" >299034</td>\n",
              "      <td id=\"T_95126_row0_col3\" class=\"data row0 col3\" >Calcutta</td>\n",
              "      <td id=\"T_95126_row0_col4\" class=\"data row0 col4\" >1</td>\n",
              "    </tr>\n",
              "    <tr>\n",
              "      <td id=\"T_95126_row1_col0\" class=\"data row1 col0\" >20</td>\n",
              "      <td id=\"T_95126_row1_col1\" class=\"data row1 col1\" >Sales</td>\n",
              "      <td id=\"T_95126_row1_col2\" class=\"data row1 col2\" >239456</td>\n",
              "      <td id=\"T_95126_row1_col3\" class=\"data row1 col3\" >Calcutta</td>\n",
              "      <td id=\"T_95126_row1_col4\" class=\"data row1 col4\" >1</td>\n",
              "    </tr>\n",
              "    <tr>\n",
              "      <td id=\"T_95126_row2_col0\" class=\"data row2 col0\" >30</td>\n",
              "      <td id=\"T_95126_row2_col1\" class=\"data row2 col1\" >Accounts</td>\n",
              "      <td id=\"T_95126_row2_col2\" class=\"data row2 col2\" >822134</td>\n",
              "      <td id=\"T_95126_row2_col3\" class=\"data row2 col3\" >Calcutta</td>\n",
              "      <td id=\"T_95126_row2_col4\" class=\"data row2 col4\" >1</td>\n",
              "    </tr>\n",
              "    <tr>\n",
              "      <td id=\"T_95126_row3_col0\" class=\"data row3 col0\" >40</td>\n",
              "      <td id=\"T_95126_row3_col1\" class=\"data row3 col1\" >Production</td>\n",
              "      <td id=\"T_95126_row3_col2\" class=\"data row3 col2\" >349870</td>\n",
              "      <td id=\"T_95126_row3_col3\" class=\"data row3 col3\" >Bombay</td>\n",
              "      <td id=\"T_95126_row3_col4\" class=\"data row3 col4\" >2</td>\n",
              "    </tr>\n",
              "    <tr>\n",
              "      <td id=\"T_95126_row4_col0\" class=\"data row4 col0\" >60</td>\n",
              "      <td id=\"T_95126_row4_col1\" class=\"data row4 col1\" >Research</td>\n",
              "      <td id=\"T_95126_row4_col2\" class=\"data row4 col2\" >546224</td>\n",
              "      <td id=\"T_95126_row4_col3\" class=\"data row4 col3\" >Delhi</td>\n",
              "      <td id=\"T_95126_row4_col4\" class=\"data row4 col4\" >3</td>\n",
              "    </tr>\n",
              "  </tbody>\n",
              "</table>\n"
            ]
          },
          "metadata": {},
          "execution_count": 85
        }
      ]
    },
    {
      "cell_type": "code",
      "source": [
        "from datetime import datetime\n",
        "import pytz\n",
        "print('Last tested  ',datetime.now(pytz.timezone('Asia/Kolkata')))"
      ],
      "metadata": {
        "colab": {
          "base_uri": "https://localhost:8080/"
        },
        "id": "wjBXJVhM605H",
        "outputId": "5bdfff96-3c30-4b97-9b7a-4d7d4a014b41"
      },
      "execution_count": 86,
      "outputs": [
        {
          "output_type": "stream",
          "name": "stdout",
          "text": [
            "Last tested   2024-08-08 05:11:35.408918+05:30\n"
          ]
        }
      ]
    },
    {
      "cell_type": "markdown",
      "source": [
        "#Chronobooks <br>\n",
        "Two science fiction novels by Prithwis Mukerjee. A dystopian Earth. A technocratic society managed by artificial intelligence. Escape and epiphany on Mars. Can man and machine, carbon and silicon explore and escape into other dimensions of existence? An Indic perspective rooted in Advaita Vedanta and the Divine Feminine.  [More information](http://bit.ly/chronobooks) <br>\n",
        "![alt text](https://github.com/Praxis-QR/RDWH/raw/main/images/CTCYFooter-1.png)"
      ],
      "metadata": {
        "id": "_gNiZpyW3AzJ"
      }
    }
  ]
}