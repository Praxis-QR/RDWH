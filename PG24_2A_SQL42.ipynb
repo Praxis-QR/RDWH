{
  "nbformat": 4,
  "nbformat_minor": 0,
  "metadata": {
    "colab": {
      "provenance": [],
      "toc_visible": true,
      "include_colab_link": true
    },
    "kernelspec": {
      "name": "python3",
      "display_name": "Python 3"
    },
    "language_info": {
      "name": "python"
    }
  },
  "cells": [
    {
      "cell_type": "markdown",
      "metadata": {
        "id": "view-in-github",
        "colab_type": "text"
      },
      "source": [
        "<a href=\"https://colab.research.google.com/github/Praxis-QR/RDWH/blob/main/PG24_2A_SQL42.ipynb\" target=\"_parent\"><img src=\"https://colab.research.google.com/assets/colab-badge.svg\" alt=\"Open In Colab\"/></a>"
      ]
    },
    {
      "cell_type": "markdown",
      "source": [
        "![Yantrajaal Banner](https://github.com/Praxis-QR/RDWH/raw/main/images/YantraJaalBanner.png)<br>\n",
        "\n",
        "\n",
        "<hr>\n",
        "\n",
        "[Prithwis Mukerjee](http://www.linkedin.com/in/prithwis)<br>"
      ],
      "metadata": {
        "id": "DBzz-qaN2tKu"
      }
    },
    {
      "cell_type": "markdown",
      "source": [
        "![PostgreSQL 42](https://raw.githubusercontent.com/Praxis-QR/RDWH/main/images/PostgreSQL_24.01.png)<br>\n",
        "[SlideDeck](https://docs.google.com/presentation/d/1hdkAGbMxLfO1GYe7RzEo3LhGZhsXkyjIfBqkA72B6LM/edit?usp=sharing)"
      ],
      "metadata": {
        "id": "dBJ6X0LiJtZ6"
      }
    },
    {
      "cell_type": "code",
      "source": [
        "from datetime import datetime\n",
        "import pytz\n",
        "print('ॐ श्री सरस्वत्यै नमः',datetime.now(pytz.timezone('Asia/Calcutta')))\n",
        "!python --version\n",
        "!lsb_release -a"
      ],
      "metadata": {
        "colab": {
          "base_uri": "https://localhost:8080/"
        },
        "id": "XZ9dGt-eUikL",
        "outputId": "21b2d500-448f-4ca0-d2f7-a9c577a05859"
      },
      "execution_count": 1,
      "outputs": [
        {
          "output_type": "stream",
          "name": "stdout",
          "text": [
            "ॐ श्री सरस्वत्यै नमः 2024-03-03 07:20:43.370138+05:30\n",
            "Python 3.10.12\n",
            "No LSB modules are available.\n",
            "Distributor ID:\tUbuntu\n",
            "Description:\tUbuntu 22.04.3 LTS\n",
            "Release:\t22.04\n",
            "Codename:\tjammy\n"
          ]
        }
      ]
    },
    {
      "cell_type": "markdown",
      "source": [
        "#Install & Configure Postgres"
      ],
      "metadata": {
        "id": "nD-QawLT6kDr"
      }
    },
    {
      "cell_type": "markdown",
      "source": [
        "For Connecting to a Postgres server hosted in the cloud Neon DB, see [this notebook](https://github.com/Praxis-QR/RDWH/blob/main/PG24_1B_SQL_CloudLab.ipynb)"
      ],
      "metadata": {
        "id": "9w29_O07rTPE"
      }
    },
    {
      "cell_type": "code",
      "source": [
        "# Install postgresql server\n",
        "\n",
        "!apt update > /dev/null\n",
        "!apt install postgresql > /dev/null\n",
        "#!pip install psycopg2\n",
        "import psycopg2\n",
        "import pandas as pd\n",
        "#!sudo -u postgres psql -V\n",
        "!psql -V\n",
        "!service postgresql start"
      ],
      "metadata": {
        "colab": {
          "base_uri": "https://localhost:8080/"
        },
        "id": "o_RaqE0OOHP3",
        "outputId": "57314064-9cc6-413d-872f-df1a1bed8abb"
      },
      "execution_count": 2,
      "outputs": [
        {
          "output_type": "stream",
          "name": "stdout",
          "text": [
            "\n",
            "WARNING: apt does not have a stable CLI interface. Use with caution in scripts.\n",
            "\n",
            "\n",
            "WARNING: apt does not have a stable CLI interface. Use with caution in scripts.\n",
            "\n",
            "psql (PostgreSQL) 14.11 (Ubuntu 14.11-0ubuntu0.22.04.1)\n",
            " * Starting PostgreSQL 14 database server\n",
            "   ...done.\n"
          ]
        }
      ]
    },
    {
      "cell_type": "code",
      "source": [
        "# The installation creates Ubuntu user 'postgres' AND a Postgres database user 'postgres' both of which are superusers\n",
        "#!cat /etc/passwd\n",
        "# Use these users to create a new database user called 'upraxis' and give it a password 'upass'\n",
        "#!sudo -u postgres createuser --superuser upraxis\n",
        "!sudo -u postgres createuser upraxis\n",
        "!sudo -u postgres psql -U postgres -c \"ALTER USER upraxis PASSWORD 'upass';\"\n",
        "#\n",
        "# Change the database superuser 'postgres' to a non-default value 'pass'\n",
        "!sudo -u postgres psql -U postgres -c \"ALTER USER postgres PASSWORD 'pass';\"\n",
        "#\n",
        "# Use ubuntu superuser to create database dbpraxis and set its owner to upraxis\n",
        "!sudo -u postgres createdb -O upraxis dbpraxis\n",
        "#\n",
        "# Create file to store the password. Else will be prompted each time\n",
        "#\n",
        "!echo \"localhost:5432:dbpraxis:upraxis:upass\" > ~/.pgpass\n",
        "!echo \"localhost:5432:dbpraxis:postgres:pass\" >> ~/.pgpass\n",
        "!chmod 0600 ~/.pgpass\n",
        "!cat ~/.pgpass\n"
      ],
      "metadata": {
        "colab": {
          "base_uri": "https://localhost:8080/"
        },
        "id": "xr5kHaY_U4CZ",
        "outputId": "843d7b5e-0c31-4dd9-e585-ebf1916f8380"
      },
      "execution_count": 3,
      "outputs": [
        {
          "output_type": "stream",
          "name": "stdout",
          "text": [
            "ALTER ROLE\n",
            "ALTER ROLE\n",
            "localhost:5432:dbpraxis:upraxis:upass\n",
            "localhost:5432:dbpraxis:postgres:pass\n"
          ]
        }
      ]
    },
    {
      "cell_type": "markdown",
      "source": [
        "## Create and Load Tables"
      ],
      "metadata": {
        "id": "pHTdNzrU6qUE"
      }
    },
    {
      "cell_type": "code",
      "source": [
        "# Create Two tables using command line interface\n",
        "#\n",
        "!psql -h localhost -p 5432 -Uupraxis -ddbpraxis -c \\\n",
        "\"drop table if exists Dept;\\\n",
        "create table Dept (\\\n",
        "    DeptID char(2),\\\n",
        "    DeptName varchar(20),\\\n",
        "    ManagerID char(6),\\\n",
        "    Location varchar(10),\\\n",
        "    LocationID char(1)\\\n",
        "    );\\\n",
        "insert into Dept (DeptID, DeptName, ManagerID, Location,LocationID) VALUES \\\n",
        "\t('10', 'Corporate', '299034', 'Calcutta','1'), \\\n",
        "\t('20', 'Sales', '239456', 'Calcutta','1'), \\\n",
        "\t('30', 'Accounts', '822134', 'Calcutta','1'), \\\n",
        "\t('40', 'Production', '349870', 'Bombay','2'),\\\n",
        "    ('60', 'Research', '546224', 'Delhi','3');\\\n",
        "\""
      ],
      "metadata": {
        "colab": {
          "base_uri": "https://localhost:8080/"
        },
        "id": "DsUZ9JlEXIir",
        "outputId": "4310e308-9192-4d4c-fd6e-e84be4320d55"
      },
      "execution_count": 4,
      "outputs": [
        {
          "output_type": "stream",
          "name": "stdout",
          "text": [
            "NOTICE:  table \"dept\" does not exist, skipping\n",
            "INSERT 0 5\n"
          ]
        }
      ]
    },
    {
      "cell_type": "code",
      "source": [
        "!psql -h localhost -p 5432 -Uupraxis -ddbpraxis -c \\\n",
        "\"drop table if exists Empl;\\\n",
        "create table Empl \\\n",
        "    (EmpID char(6),\\\n",
        "    LastName varchar(20),\\\n",
        "    FirstName varchar(20),\\\n",
        "    JobDesc varchar(10),\\\n",
        "    JoinDate date,\\\n",
        "    Salary int,\\\n",
        "    Comm decimal(3,2),\\\n",
        "    DeptID char(2),\\\n",
        "    HiredBy char(6)\\\n",
        "    );\\\n",
        "INSERT INTO Empl (EmpID, LastName, FirstName, JobDesc, JoinDate, Salary, Comm, DeptID, HiredBy) \\\n",
        "    VALUES \\\n",
        "\t('742866', 'Bacchan', 'Amitabh', 'Executive', '2003-03-10', 50000, 0.1, '10', NULL), \\\n",
        "\t('349870', 'Mukherjee', 'Rani', 'Manager', '2005-05-04', 25000, 0.06, '40', '742866'), \\\n",
        "\t('865477', 'Dikshit', 'Madhuri', 'Clerk', '2002-04-04', 10000, 0.02, '20', '239456'), \\\n",
        "\t('239456', 'Khan', 'Shahrukh', 'Manager', '2004-01-03', 30000, 0.07, '20', '742866'), \\\n",
        "\t('897889', 'Sehwag', 'Virender', 'Cus_Rep', '2005-01-02', 15000, 0.05, '20', '239456'), \\\n",
        "\t('123980', 'Dhoni', 'Mahender', 'Clerk', '2004-10-09', 9000, 0.02, '40', '349870'), \\\n",
        "\t('822134', 'Dravid', 'Rahul', 'Sr Manager', '2000-06-04', 40000, 0.08, '30', '742866'), \\\n",
        "\t('997445', 'Dalmia', 'Jagmohan', 'Clerk', '2001-07-01', 12000, 0.02, '30', '822134'), \\\n",
        "\t('989007', 'Ganguly', 'Sourav', 'Cus_Rep', '2002-01-01', 20000, 0.03, '40', '299034'), \\\n",
        "\t('299034', 'Ganesan', 'Rekha', 'Director', '2002-10-10', 60000, 0.11, '10', '742866'), \\\n",
        "\t('546223', 'Karthikeyan', 'Narayan', 'Secretary', '2005-12-04', 40000, 0.09, '10', '299034'), \\\n",
        "    ('546224', 'Sunil', 'Chettri', 'Dy Manager', '2006-12-07', 40000, 0.05, '70', '989007'), \\\n",
        "\t('223112', 'Mirza', 'Sania', 'Cus_Rep', '2001-11-19', 25000, 0.04, '30', '822134');\\\n",
        "\""
      ],
      "metadata": {
        "colab": {
          "base_uri": "https://localhost:8080/"
        },
        "id": "5kWs3wyEd9Tm",
        "outputId": "97243960-4653-49c0-fad2-7daa3a18be9f"
      },
      "execution_count": 5,
      "outputs": [
        {
          "output_type": "stream",
          "name": "stdout",
          "text": [
            "NOTICE:  table \"empl\" does not exist, skipping\n",
            "INSERT 0 13\n"
          ]
        }
      ]
    },
    {
      "cell_type": "code",
      "source": [
        "#!psql -h localhost -p 5432 -Upostgres -dpraxisdb -c \"select * from dept;\"\n",
        "#!psql -h localhost -p 5432 -Uupraxis -ddbpraxis -c \"select * from dept;\""
      ],
      "metadata": {
        "id": "HyBUhbAI2PV1"
      },
      "execution_count": 6,
      "outputs": []
    },
    {
      "cell_type": "code",
      "source": [
        "#!psql -h localhost -p 5432 -U postgres -d praxisdb -c \"select * from empl;\"\n",
        "#!psql -h localhost -p 5432 -U upraxis -d dbpraxis -c \"select * from empl;\""
      ],
      "metadata": {
        "id": "byY2iccO4ctF"
      },
      "execution_count": 7,
      "outputs": []
    },
    {
      "cell_type": "markdown",
      "source": [
        "## Python Access\n",
        "https://www.tutorialspoint.com/python_data_access/python_postgresql_database_connection.htm"
      ],
      "metadata": {
        "id": "faZEj8_7CeZ8"
      }
    },
    {
      "cell_type": "code",
      "source": [
        "# Local Colab server\n",
        "\n",
        "conn = psycopg2.connect(database=\"dbpraxis\", user='upraxis', password='upass', host='127.0.0.1', port= '5432')\n",
        "#Creating a cursor object using the cursor() method\n",
        "cursor = conn.cursor()\n",
        "#Executing an MYSQL function using the execute() method\n",
        "cursor.execute(\"select version()\")\n",
        "# Fetch a single row using fetchone() method.\n",
        "data = cursor.fetchone()\n",
        "print(\"Connection established to: \",data)\n",
        "#Closing the connection\n",
        "conn.close()"
      ],
      "metadata": {
        "id": "wcE-8UBnC4zV",
        "outputId": "6953496d-1fc6-4b6a-e2f1-08ba531a688e",
        "colab": {
          "base_uri": "https://localhost:8080/"
        }
      },
      "execution_count": 8,
      "outputs": [
        {
          "output_type": "stream",
          "name": "stdout",
          "text": [
            "Connection established to:  ('PostgreSQL 14.11 (Ubuntu 14.11-0ubuntu0.22.04.1) on x86_64-pc-linux-gnu, compiled by gcc (Ubuntu 11.4.0-1ubuntu1~22.04) 11.4.0, 64-bit',)\n"
          ]
        }
      ]
    },
    {
      "cell_type": "code",
      "source": [
        "# function to execute SQL select statements with Postgres\n",
        "#\n",
        "def runSelect(s):\n",
        "    #Set up connection\n",
        "\n",
        "    conn = psycopg2.connect(database=\"dbpraxis\", user='upraxis', password='upass', host='127.0.0.1', port= '5432')\n",
        "    #Setting auto commit true\n",
        "    conn.autocommit = True\n",
        "    #Creating a cursor object using the cursor() method\n",
        "    cursor = conn.cursor()\n",
        "    #Retrieving data\n",
        "    cursor.execute(s)\n",
        "    #Fetching all rows from the table\n",
        "    result = cursor.fetchall();\n",
        "    #print(len(result))\n",
        "    if (len(result)) > 0:                                       # result contains at least one row\n",
        "        colnames = [desc[0] for desc in cursor.description]     # get column names\n",
        "        #print(colnames)\n",
        "        resultdf = pd.DataFrame(result)                         # convert list to dataframe\n",
        "        resultdf.columns = colnames                             # add column names\n",
        "        #return resultdf\n",
        "        return resultdf.style.hide()                            # hide the index\n",
        "    else:\n",
        "        print('no records found')\n",
        "        return\n",
        "# function to execute SQL non-select statements with Postgres\n",
        "#\n",
        "def runCmd(s):\n",
        "    #Create Connection\n",
        "    conn = psycopg2.connect(database=\"dbpraxis\", user='upraxis', password='upass', host='127.0.0.1', port= '5432')\n",
        "    #Creating a cursor object using the cursor() method\n",
        "    cursor = conn.cursor()\n",
        "    try:\n",
        "        cursor.execute(s)\n",
        "        print('Command executed')\n",
        "        conn.commit()\n",
        "    except:\n",
        "        print('Command failed')\n",
        "    #Closing the connection\n",
        "    conn.close()"
      ],
      "metadata": {
        "id": "ht2k7-3iggNd"
      },
      "execution_count": 9,
      "outputs": []
    },
    {
      "cell_type": "markdown",
      "source": [
        "#Select - getting started"
      ],
      "metadata": {
        "id": "k0rXiciVtu7Q"
      }
    },
    {
      "cell_type": "code",
      "source": [
        "#runSelect(\"select * from dept where deptid = '100'\")\n",
        "#runSelect(\"select * from dept where deptid = '10'\")\n",
        "runSelect(\"select * from dept\")"
      ],
      "metadata": {
        "id": "N3NZv0YahSs6",
        "outputId": "6b7ffbfb-f3fb-45de-dcf1-c12e2b7a5440",
        "colab": {
          "base_uri": "https://localhost:8080/",
          "height": 206
        }
      },
      "execution_count": 10,
      "outputs": [
        {
          "output_type": "execute_result",
          "data": {
            "text/plain": [
              "<pandas.io.formats.style.Styler at 0x7a6aa6d6bfd0>"
            ],
            "text/html": [
              "<style type=\"text/css\">\n",
              "</style>\n",
              "<table id=\"T_10317\" class=\"dataframe\">\n",
              "  <thead>\n",
              "    <tr>\n",
              "      <th id=\"T_10317_level0_col0\" class=\"col_heading level0 col0\" >deptid</th>\n",
              "      <th id=\"T_10317_level0_col1\" class=\"col_heading level0 col1\" >deptname</th>\n",
              "      <th id=\"T_10317_level0_col2\" class=\"col_heading level0 col2\" >managerid</th>\n",
              "      <th id=\"T_10317_level0_col3\" class=\"col_heading level0 col3\" >location</th>\n",
              "      <th id=\"T_10317_level0_col4\" class=\"col_heading level0 col4\" >locationid</th>\n",
              "    </tr>\n",
              "  </thead>\n",
              "  <tbody>\n",
              "    <tr>\n",
              "      <td id=\"T_10317_row0_col0\" class=\"data row0 col0\" >10</td>\n",
              "      <td id=\"T_10317_row0_col1\" class=\"data row0 col1\" >Corporate</td>\n",
              "      <td id=\"T_10317_row0_col2\" class=\"data row0 col2\" >299034</td>\n",
              "      <td id=\"T_10317_row0_col3\" class=\"data row0 col3\" >Calcutta</td>\n",
              "      <td id=\"T_10317_row0_col4\" class=\"data row0 col4\" >1</td>\n",
              "    </tr>\n",
              "    <tr>\n",
              "      <td id=\"T_10317_row1_col0\" class=\"data row1 col0\" >20</td>\n",
              "      <td id=\"T_10317_row1_col1\" class=\"data row1 col1\" >Sales</td>\n",
              "      <td id=\"T_10317_row1_col2\" class=\"data row1 col2\" >239456</td>\n",
              "      <td id=\"T_10317_row1_col3\" class=\"data row1 col3\" >Calcutta</td>\n",
              "      <td id=\"T_10317_row1_col4\" class=\"data row1 col4\" >1</td>\n",
              "    </tr>\n",
              "    <tr>\n",
              "      <td id=\"T_10317_row2_col0\" class=\"data row2 col0\" >30</td>\n",
              "      <td id=\"T_10317_row2_col1\" class=\"data row2 col1\" >Accounts</td>\n",
              "      <td id=\"T_10317_row2_col2\" class=\"data row2 col2\" >822134</td>\n",
              "      <td id=\"T_10317_row2_col3\" class=\"data row2 col3\" >Calcutta</td>\n",
              "      <td id=\"T_10317_row2_col4\" class=\"data row2 col4\" >1</td>\n",
              "    </tr>\n",
              "    <tr>\n",
              "      <td id=\"T_10317_row3_col0\" class=\"data row3 col0\" >40</td>\n",
              "      <td id=\"T_10317_row3_col1\" class=\"data row3 col1\" >Production</td>\n",
              "      <td id=\"T_10317_row3_col2\" class=\"data row3 col2\" >349870</td>\n",
              "      <td id=\"T_10317_row3_col3\" class=\"data row3 col3\" >Bombay</td>\n",
              "      <td id=\"T_10317_row3_col4\" class=\"data row3 col4\" >2</td>\n",
              "    </tr>\n",
              "    <tr>\n",
              "      <td id=\"T_10317_row4_col0\" class=\"data row4 col0\" >60</td>\n",
              "      <td id=\"T_10317_row4_col1\" class=\"data row4 col1\" >Research</td>\n",
              "      <td id=\"T_10317_row4_col2\" class=\"data row4 col2\" >546224</td>\n",
              "      <td id=\"T_10317_row4_col3\" class=\"data row4 col3\" >Delhi</td>\n",
              "      <td id=\"T_10317_row4_col4\" class=\"data row4 col4\" >3</td>\n",
              "    </tr>\n",
              "  </tbody>\n",
              "</table>\n"
            ]
          },
          "metadata": {},
          "execution_count": 10
        }
      ]
    },
    {
      "cell_type": "code",
      "source": [
        "runSelect('select * from empl')"
      ],
      "metadata": {
        "id": "Otiv4rjSl5Tg",
        "outputId": "9459dc7a-5e25-4c86-95a7-35977377a830",
        "colab": {
          "base_uri": "https://localhost:8080/",
          "height": 457
        }
      },
      "execution_count": 11,
      "outputs": [
        {
          "output_type": "execute_result",
          "data": {
            "text/plain": [
              "<pandas.io.formats.style.Styler at 0x7a6aa6d6aa40>"
            ],
            "text/html": [
              "<style type=\"text/css\">\n",
              "</style>\n",
              "<table id=\"T_6eb50\" class=\"dataframe\">\n",
              "  <thead>\n",
              "    <tr>\n",
              "      <th id=\"T_6eb50_level0_col0\" class=\"col_heading level0 col0\" >empid</th>\n",
              "      <th id=\"T_6eb50_level0_col1\" class=\"col_heading level0 col1\" >lastname</th>\n",
              "      <th id=\"T_6eb50_level0_col2\" class=\"col_heading level0 col2\" >firstname</th>\n",
              "      <th id=\"T_6eb50_level0_col3\" class=\"col_heading level0 col3\" >jobdesc</th>\n",
              "      <th id=\"T_6eb50_level0_col4\" class=\"col_heading level0 col4\" >joindate</th>\n",
              "      <th id=\"T_6eb50_level0_col5\" class=\"col_heading level0 col5\" >salary</th>\n",
              "      <th id=\"T_6eb50_level0_col6\" class=\"col_heading level0 col6\" >comm</th>\n",
              "      <th id=\"T_6eb50_level0_col7\" class=\"col_heading level0 col7\" >deptid</th>\n",
              "      <th id=\"T_6eb50_level0_col8\" class=\"col_heading level0 col8\" >hiredby</th>\n",
              "    </tr>\n",
              "  </thead>\n",
              "  <tbody>\n",
              "    <tr>\n",
              "      <td id=\"T_6eb50_row0_col0\" class=\"data row0 col0\" >742866</td>\n",
              "      <td id=\"T_6eb50_row0_col1\" class=\"data row0 col1\" >Bacchan</td>\n",
              "      <td id=\"T_6eb50_row0_col2\" class=\"data row0 col2\" >Amitabh</td>\n",
              "      <td id=\"T_6eb50_row0_col3\" class=\"data row0 col3\" >Executive</td>\n",
              "      <td id=\"T_6eb50_row0_col4\" class=\"data row0 col4\" >2003-03-10</td>\n",
              "      <td id=\"T_6eb50_row0_col5\" class=\"data row0 col5\" >50000</td>\n",
              "      <td id=\"T_6eb50_row0_col6\" class=\"data row0 col6\" >0.10</td>\n",
              "      <td id=\"T_6eb50_row0_col7\" class=\"data row0 col7\" >10</td>\n",
              "      <td id=\"T_6eb50_row0_col8\" class=\"data row0 col8\" >None</td>\n",
              "    </tr>\n",
              "    <tr>\n",
              "      <td id=\"T_6eb50_row1_col0\" class=\"data row1 col0\" >349870</td>\n",
              "      <td id=\"T_6eb50_row1_col1\" class=\"data row1 col1\" >Mukherjee</td>\n",
              "      <td id=\"T_6eb50_row1_col2\" class=\"data row1 col2\" >Rani</td>\n",
              "      <td id=\"T_6eb50_row1_col3\" class=\"data row1 col3\" >Manager</td>\n",
              "      <td id=\"T_6eb50_row1_col4\" class=\"data row1 col4\" >2005-05-04</td>\n",
              "      <td id=\"T_6eb50_row1_col5\" class=\"data row1 col5\" >25000</td>\n",
              "      <td id=\"T_6eb50_row1_col6\" class=\"data row1 col6\" >0.06</td>\n",
              "      <td id=\"T_6eb50_row1_col7\" class=\"data row1 col7\" >40</td>\n",
              "      <td id=\"T_6eb50_row1_col8\" class=\"data row1 col8\" >742866</td>\n",
              "    </tr>\n",
              "    <tr>\n",
              "      <td id=\"T_6eb50_row2_col0\" class=\"data row2 col0\" >865477</td>\n",
              "      <td id=\"T_6eb50_row2_col1\" class=\"data row2 col1\" >Dikshit</td>\n",
              "      <td id=\"T_6eb50_row2_col2\" class=\"data row2 col2\" >Madhuri</td>\n",
              "      <td id=\"T_6eb50_row2_col3\" class=\"data row2 col3\" >Clerk</td>\n",
              "      <td id=\"T_6eb50_row2_col4\" class=\"data row2 col4\" >2002-04-04</td>\n",
              "      <td id=\"T_6eb50_row2_col5\" class=\"data row2 col5\" >10000</td>\n",
              "      <td id=\"T_6eb50_row2_col6\" class=\"data row2 col6\" >0.02</td>\n",
              "      <td id=\"T_6eb50_row2_col7\" class=\"data row2 col7\" >20</td>\n",
              "      <td id=\"T_6eb50_row2_col8\" class=\"data row2 col8\" >239456</td>\n",
              "    </tr>\n",
              "    <tr>\n",
              "      <td id=\"T_6eb50_row3_col0\" class=\"data row3 col0\" >239456</td>\n",
              "      <td id=\"T_6eb50_row3_col1\" class=\"data row3 col1\" >Khan</td>\n",
              "      <td id=\"T_6eb50_row3_col2\" class=\"data row3 col2\" >Shahrukh</td>\n",
              "      <td id=\"T_6eb50_row3_col3\" class=\"data row3 col3\" >Manager</td>\n",
              "      <td id=\"T_6eb50_row3_col4\" class=\"data row3 col4\" >2004-01-03</td>\n",
              "      <td id=\"T_6eb50_row3_col5\" class=\"data row3 col5\" >30000</td>\n",
              "      <td id=\"T_6eb50_row3_col6\" class=\"data row3 col6\" >0.07</td>\n",
              "      <td id=\"T_6eb50_row3_col7\" class=\"data row3 col7\" >20</td>\n",
              "      <td id=\"T_6eb50_row3_col8\" class=\"data row3 col8\" >742866</td>\n",
              "    </tr>\n",
              "    <tr>\n",
              "      <td id=\"T_6eb50_row4_col0\" class=\"data row4 col0\" >897889</td>\n",
              "      <td id=\"T_6eb50_row4_col1\" class=\"data row4 col1\" >Sehwag</td>\n",
              "      <td id=\"T_6eb50_row4_col2\" class=\"data row4 col2\" >Virender</td>\n",
              "      <td id=\"T_6eb50_row4_col3\" class=\"data row4 col3\" >Cus_Rep</td>\n",
              "      <td id=\"T_6eb50_row4_col4\" class=\"data row4 col4\" >2005-01-02</td>\n",
              "      <td id=\"T_6eb50_row4_col5\" class=\"data row4 col5\" >15000</td>\n",
              "      <td id=\"T_6eb50_row4_col6\" class=\"data row4 col6\" >0.05</td>\n",
              "      <td id=\"T_6eb50_row4_col7\" class=\"data row4 col7\" >20</td>\n",
              "      <td id=\"T_6eb50_row4_col8\" class=\"data row4 col8\" >239456</td>\n",
              "    </tr>\n",
              "    <tr>\n",
              "      <td id=\"T_6eb50_row5_col0\" class=\"data row5 col0\" >123980</td>\n",
              "      <td id=\"T_6eb50_row5_col1\" class=\"data row5 col1\" >Dhoni</td>\n",
              "      <td id=\"T_6eb50_row5_col2\" class=\"data row5 col2\" >Mahender</td>\n",
              "      <td id=\"T_6eb50_row5_col3\" class=\"data row5 col3\" >Clerk</td>\n",
              "      <td id=\"T_6eb50_row5_col4\" class=\"data row5 col4\" >2004-10-09</td>\n",
              "      <td id=\"T_6eb50_row5_col5\" class=\"data row5 col5\" >9000</td>\n",
              "      <td id=\"T_6eb50_row5_col6\" class=\"data row5 col6\" >0.02</td>\n",
              "      <td id=\"T_6eb50_row5_col7\" class=\"data row5 col7\" >40</td>\n",
              "      <td id=\"T_6eb50_row5_col8\" class=\"data row5 col8\" >349870</td>\n",
              "    </tr>\n",
              "    <tr>\n",
              "      <td id=\"T_6eb50_row6_col0\" class=\"data row6 col0\" >822134</td>\n",
              "      <td id=\"T_6eb50_row6_col1\" class=\"data row6 col1\" >Dravid</td>\n",
              "      <td id=\"T_6eb50_row6_col2\" class=\"data row6 col2\" >Rahul</td>\n",
              "      <td id=\"T_6eb50_row6_col3\" class=\"data row6 col3\" >Sr Manager</td>\n",
              "      <td id=\"T_6eb50_row6_col4\" class=\"data row6 col4\" >2000-06-04</td>\n",
              "      <td id=\"T_6eb50_row6_col5\" class=\"data row6 col5\" >40000</td>\n",
              "      <td id=\"T_6eb50_row6_col6\" class=\"data row6 col6\" >0.08</td>\n",
              "      <td id=\"T_6eb50_row6_col7\" class=\"data row6 col7\" >30</td>\n",
              "      <td id=\"T_6eb50_row6_col8\" class=\"data row6 col8\" >742866</td>\n",
              "    </tr>\n",
              "    <tr>\n",
              "      <td id=\"T_6eb50_row7_col0\" class=\"data row7 col0\" >997445</td>\n",
              "      <td id=\"T_6eb50_row7_col1\" class=\"data row7 col1\" >Dalmia</td>\n",
              "      <td id=\"T_6eb50_row7_col2\" class=\"data row7 col2\" >Jagmohan</td>\n",
              "      <td id=\"T_6eb50_row7_col3\" class=\"data row7 col3\" >Clerk</td>\n",
              "      <td id=\"T_6eb50_row7_col4\" class=\"data row7 col4\" >2001-07-01</td>\n",
              "      <td id=\"T_6eb50_row7_col5\" class=\"data row7 col5\" >12000</td>\n",
              "      <td id=\"T_6eb50_row7_col6\" class=\"data row7 col6\" >0.02</td>\n",
              "      <td id=\"T_6eb50_row7_col7\" class=\"data row7 col7\" >30</td>\n",
              "      <td id=\"T_6eb50_row7_col8\" class=\"data row7 col8\" >822134</td>\n",
              "    </tr>\n",
              "    <tr>\n",
              "      <td id=\"T_6eb50_row8_col0\" class=\"data row8 col0\" >989007</td>\n",
              "      <td id=\"T_6eb50_row8_col1\" class=\"data row8 col1\" >Ganguly</td>\n",
              "      <td id=\"T_6eb50_row8_col2\" class=\"data row8 col2\" >Sourav</td>\n",
              "      <td id=\"T_6eb50_row8_col3\" class=\"data row8 col3\" >Cus_Rep</td>\n",
              "      <td id=\"T_6eb50_row8_col4\" class=\"data row8 col4\" >2002-01-01</td>\n",
              "      <td id=\"T_6eb50_row8_col5\" class=\"data row8 col5\" >20000</td>\n",
              "      <td id=\"T_6eb50_row8_col6\" class=\"data row8 col6\" >0.03</td>\n",
              "      <td id=\"T_6eb50_row8_col7\" class=\"data row8 col7\" >40</td>\n",
              "      <td id=\"T_6eb50_row8_col8\" class=\"data row8 col8\" >299034</td>\n",
              "    </tr>\n",
              "    <tr>\n",
              "      <td id=\"T_6eb50_row9_col0\" class=\"data row9 col0\" >299034</td>\n",
              "      <td id=\"T_6eb50_row9_col1\" class=\"data row9 col1\" >Ganesan</td>\n",
              "      <td id=\"T_6eb50_row9_col2\" class=\"data row9 col2\" >Rekha</td>\n",
              "      <td id=\"T_6eb50_row9_col3\" class=\"data row9 col3\" >Director</td>\n",
              "      <td id=\"T_6eb50_row9_col4\" class=\"data row9 col4\" >2002-10-10</td>\n",
              "      <td id=\"T_6eb50_row9_col5\" class=\"data row9 col5\" >60000</td>\n",
              "      <td id=\"T_6eb50_row9_col6\" class=\"data row9 col6\" >0.11</td>\n",
              "      <td id=\"T_6eb50_row9_col7\" class=\"data row9 col7\" >10</td>\n",
              "      <td id=\"T_6eb50_row9_col8\" class=\"data row9 col8\" >742866</td>\n",
              "    </tr>\n",
              "    <tr>\n",
              "      <td id=\"T_6eb50_row10_col0\" class=\"data row10 col0\" >546223</td>\n",
              "      <td id=\"T_6eb50_row10_col1\" class=\"data row10 col1\" >Karthikeyan</td>\n",
              "      <td id=\"T_6eb50_row10_col2\" class=\"data row10 col2\" >Narayan</td>\n",
              "      <td id=\"T_6eb50_row10_col3\" class=\"data row10 col3\" >Secretary</td>\n",
              "      <td id=\"T_6eb50_row10_col4\" class=\"data row10 col4\" >2005-12-04</td>\n",
              "      <td id=\"T_6eb50_row10_col5\" class=\"data row10 col5\" >40000</td>\n",
              "      <td id=\"T_6eb50_row10_col6\" class=\"data row10 col6\" >0.09</td>\n",
              "      <td id=\"T_6eb50_row10_col7\" class=\"data row10 col7\" >10</td>\n",
              "      <td id=\"T_6eb50_row10_col8\" class=\"data row10 col8\" >299034</td>\n",
              "    </tr>\n",
              "    <tr>\n",
              "      <td id=\"T_6eb50_row11_col0\" class=\"data row11 col0\" >546224</td>\n",
              "      <td id=\"T_6eb50_row11_col1\" class=\"data row11 col1\" >Sunil</td>\n",
              "      <td id=\"T_6eb50_row11_col2\" class=\"data row11 col2\" >Chettri</td>\n",
              "      <td id=\"T_6eb50_row11_col3\" class=\"data row11 col3\" >Dy Manager</td>\n",
              "      <td id=\"T_6eb50_row11_col4\" class=\"data row11 col4\" >2006-12-07</td>\n",
              "      <td id=\"T_6eb50_row11_col5\" class=\"data row11 col5\" >40000</td>\n",
              "      <td id=\"T_6eb50_row11_col6\" class=\"data row11 col6\" >0.05</td>\n",
              "      <td id=\"T_6eb50_row11_col7\" class=\"data row11 col7\" >70</td>\n",
              "      <td id=\"T_6eb50_row11_col8\" class=\"data row11 col8\" >989007</td>\n",
              "    </tr>\n",
              "    <tr>\n",
              "      <td id=\"T_6eb50_row12_col0\" class=\"data row12 col0\" >223112</td>\n",
              "      <td id=\"T_6eb50_row12_col1\" class=\"data row12 col1\" >Mirza</td>\n",
              "      <td id=\"T_6eb50_row12_col2\" class=\"data row12 col2\" >Sania</td>\n",
              "      <td id=\"T_6eb50_row12_col3\" class=\"data row12 col3\" >Cus_Rep</td>\n",
              "      <td id=\"T_6eb50_row12_col4\" class=\"data row12 col4\" >2001-11-19</td>\n",
              "      <td id=\"T_6eb50_row12_col5\" class=\"data row12 col5\" >25000</td>\n",
              "      <td id=\"T_6eb50_row12_col6\" class=\"data row12 col6\" >0.04</td>\n",
              "      <td id=\"T_6eb50_row12_col7\" class=\"data row12 col7\" >30</td>\n",
              "      <td id=\"T_6eb50_row12_col8\" class=\"data row12 col8\" >822134</td>\n",
              "    </tr>\n",
              "  </tbody>\n",
              "</table>\n"
            ]
          },
          "metadata": {},
          "execution_count": 11
        }
      ]
    },
    {
      "cell_type": "code",
      "source": [
        "runSelect('select lastname, jobdesc, salary from empl')"
      ],
      "metadata": {
        "id": "z-mxVMPuuxu6",
        "outputId": "4ce06b7f-1589-47bd-b2be-b4807b0013a6",
        "colab": {
          "base_uri": "https://localhost:8080/",
          "height": 457
        }
      },
      "execution_count": 12,
      "outputs": [
        {
          "output_type": "execute_result",
          "data": {
            "text/plain": [
              "<pandas.io.formats.style.Styler at 0x7a6aa6d0a3e0>"
            ],
            "text/html": [
              "<style type=\"text/css\">\n",
              "</style>\n",
              "<table id=\"T_0661b\" class=\"dataframe\">\n",
              "  <thead>\n",
              "    <tr>\n",
              "      <th id=\"T_0661b_level0_col0\" class=\"col_heading level0 col0\" >lastname</th>\n",
              "      <th id=\"T_0661b_level0_col1\" class=\"col_heading level0 col1\" >jobdesc</th>\n",
              "      <th id=\"T_0661b_level0_col2\" class=\"col_heading level0 col2\" >salary</th>\n",
              "    </tr>\n",
              "  </thead>\n",
              "  <tbody>\n",
              "    <tr>\n",
              "      <td id=\"T_0661b_row0_col0\" class=\"data row0 col0\" >Bacchan</td>\n",
              "      <td id=\"T_0661b_row0_col1\" class=\"data row0 col1\" >Executive</td>\n",
              "      <td id=\"T_0661b_row0_col2\" class=\"data row0 col2\" >50000</td>\n",
              "    </tr>\n",
              "    <tr>\n",
              "      <td id=\"T_0661b_row1_col0\" class=\"data row1 col0\" >Mukherjee</td>\n",
              "      <td id=\"T_0661b_row1_col1\" class=\"data row1 col1\" >Manager</td>\n",
              "      <td id=\"T_0661b_row1_col2\" class=\"data row1 col2\" >25000</td>\n",
              "    </tr>\n",
              "    <tr>\n",
              "      <td id=\"T_0661b_row2_col0\" class=\"data row2 col0\" >Dikshit</td>\n",
              "      <td id=\"T_0661b_row2_col1\" class=\"data row2 col1\" >Clerk</td>\n",
              "      <td id=\"T_0661b_row2_col2\" class=\"data row2 col2\" >10000</td>\n",
              "    </tr>\n",
              "    <tr>\n",
              "      <td id=\"T_0661b_row3_col0\" class=\"data row3 col0\" >Khan</td>\n",
              "      <td id=\"T_0661b_row3_col1\" class=\"data row3 col1\" >Manager</td>\n",
              "      <td id=\"T_0661b_row3_col2\" class=\"data row3 col2\" >30000</td>\n",
              "    </tr>\n",
              "    <tr>\n",
              "      <td id=\"T_0661b_row4_col0\" class=\"data row4 col0\" >Sehwag</td>\n",
              "      <td id=\"T_0661b_row4_col1\" class=\"data row4 col1\" >Cus_Rep</td>\n",
              "      <td id=\"T_0661b_row4_col2\" class=\"data row4 col2\" >15000</td>\n",
              "    </tr>\n",
              "    <tr>\n",
              "      <td id=\"T_0661b_row5_col0\" class=\"data row5 col0\" >Dhoni</td>\n",
              "      <td id=\"T_0661b_row5_col1\" class=\"data row5 col1\" >Clerk</td>\n",
              "      <td id=\"T_0661b_row5_col2\" class=\"data row5 col2\" >9000</td>\n",
              "    </tr>\n",
              "    <tr>\n",
              "      <td id=\"T_0661b_row6_col0\" class=\"data row6 col0\" >Dravid</td>\n",
              "      <td id=\"T_0661b_row6_col1\" class=\"data row6 col1\" >Sr Manager</td>\n",
              "      <td id=\"T_0661b_row6_col2\" class=\"data row6 col2\" >40000</td>\n",
              "    </tr>\n",
              "    <tr>\n",
              "      <td id=\"T_0661b_row7_col0\" class=\"data row7 col0\" >Dalmia</td>\n",
              "      <td id=\"T_0661b_row7_col1\" class=\"data row7 col1\" >Clerk</td>\n",
              "      <td id=\"T_0661b_row7_col2\" class=\"data row7 col2\" >12000</td>\n",
              "    </tr>\n",
              "    <tr>\n",
              "      <td id=\"T_0661b_row8_col0\" class=\"data row8 col0\" >Ganguly</td>\n",
              "      <td id=\"T_0661b_row8_col1\" class=\"data row8 col1\" >Cus_Rep</td>\n",
              "      <td id=\"T_0661b_row8_col2\" class=\"data row8 col2\" >20000</td>\n",
              "    </tr>\n",
              "    <tr>\n",
              "      <td id=\"T_0661b_row9_col0\" class=\"data row9 col0\" >Ganesan</td>\n",
              "      <td id=\"T_0661b_row9_col1\" class=\"data row9 col1\" >Director</td>\n",
              "      <td id=\"T_0661b_row9_col2\" class=\"data row9 col2\" >60000</td>\n",
              "    </tr>\n",
              "    <tr>\n",
              "      <td id=\"T_0661b_row10_col0\" class=\"data row10 col0\" >Karthikeyan</td>\n",
              "      <td id=\"T_0661b_row10_col1\" class=\"data row10 col1\" >Secretary</td>\n",
              "      <td id=\"T_0661b_row10_col2\" class=\"data row10 col2\" >40000</td>\n",
              "    </tr>\n",
              "    <tr>\n",
              "      <td id=\"T_0661b_row11_col0\" class=\"data row11 col0\" >Sunil</td>\n",
              "      <td id=\"T_0661b_row11_col1\" class=\"data row11 col1\" >Dy Manager</td>\n",
              "      <td id=\"T_0661b_row11_col2\" class=\"data row11 col2\" >40000</td>\n",
              "    </tr>\n",
              "    <tr>\n",
              "      <td id=\"T_0661b_row12_col0\" class=\"data row12 col0\" >Mirza</td>\n",
              "      <td id=\"T_0661b_row12_col1\" class=\"data row12 col1\" >Cus_Rep</td>\n",
              "      <td id=\"T_0661b_row12_col2\" class=\"data row12 col2\" >25000</td>\n",
              "    </tr>\n",
              "  </tbody>\n",
              "</table>\n"
            ]
          },
          "metadata": {},
          "execution_count": 12
        }
      ]
    },
    {
      "cell_type": "code",
      "source": [
        "runSelect('select distinct(jobdesc) from empl')"
      ],
      "metadata": {
        "id": "7uvcAdlCvg-p",
        "outputId": "a26838b2-c581-4e86-a01c-431e285f893e",
        "colab": {
          "base_uri": "https://localhost:8080/",
          "height": 300
        }
      },
      "execution_count": 13,
      "outputs": [
        {
          "output_type": "execute_result",
          "data": {
            "text/plain": [
              "<pandas.io.formats.style.Styler at 0x7a6aa6d09de0>"
            ],
            "text/html": [
              "<style type=\"text/css\">\n",
              "</style>\n",
              "<table id=\"T_72e50\" class=\"dataframe\">\n",
              "  <thead>\n",
              "    <tr>\n",
              "      <th id=\"T_72e50_level0_col0\" class=\"col_heading level0 col0\" >jobdesc</th>\n",
              "    </tr>\n",
              "  </thead>\n",
              "  <tbody>\n",
              "    <tr>\n",
              "      <td id=\"T_72e50_row0_col0\" class=\"data row0 col0\" >Director</td>\n",
              "    </tr>\n",
              "    <tr>\n",
              "      <td id=\"T_72e50_row1_col0\" class=\"data row1 col0\" >Manager</td>\n",
              "    </tr>\n",
              "    <tr>\n",
              "      <td id=\"T_72e50_row2_col0\" class=\"data row2 col0\" >Dy Manager</td>\n",
              "    </tr>\n",
              "    <tr>\n",
              "      <td id=\"T_72e50_row3_col0\" class=\"data row3 col0\" >Executive</td>\n",
              "    </tr>\n",
              "    <tr>\n",
              "      <td id=\"T_72e50_row4_col0\" class=\"data row4 col0\" >Secretary</td>\n",
              "    </tr>\n",
              "    <tr>\n",
              "      <td id=\"T_72e50_row5_col0\" class=\"data row5 col0\" >Cus_Rep</td>\n",
              "    </tr>\n",
              "    <tr>\n",
              "      <td id=\"T_72e50_row6_col0\" class=\"data row6 col0\" >Clerk</td>\n",
              "    </tr>\n",
              "    <tr>\n",
              "      <td id=\"T_72e50_row7_col0\" class=\"data row7 col0\" >Sr Manager</td>\n",
              "    </tr>\n",
              "  </tbody>\n",
              "</table>\n"
            ]
          },
          "metadata": {},
          "execution_count": 13
        }
      ]
    },
    {
      "cell_type": "markdown",
      "source": [
        "#Where"
      ],
      "metadata": {
        "id": "LFbNG59OxVzF"
      }
    },
    {
      "cell_type": "markdown",
      "source": [
        "## Equal, Not Equal, Greater, Less"
      ],
      "metadata": {
        "id": "JM2k29awVQHc"
      }
    },
    {
      "cell_type": "code",
      "source": [
        "runSelect(\"select firstname, lastname, jobdesc from empl where jobdesc = 'Clerk'\")"
      ],
      "metadata": {
        "id": "rRZz9OpLxdEY",
        "outputId": "ab5bdb46-c6e0-4d42-a577-6cdd609fa76f",
        "colab": {
          "base_uri": "https://localhost:8080/",
          "height": 143
        }
      },
      "execution_count": 14,
      "outputs": [
        {
          "output_type": "execute_result",
          "data": {
            "text/plain": [
              "<pandas.io.formats.style.Styler at 0x7a6aa6d0b760>"
            ],
            "text/html": [
              "<style type=\"text/css\">\n",
              "</style>\n",
              "<table id=\"T_9a598\" class=\"dataframe\">\n",
              "  <thead>\n",
              "    <tr>\n",
              "      <th id=\"T_9a598_level0_col0\" class=\"col_heading level0 col0\" >firstname</th>\n",
              "      <th id=\"T_9a598_level0_col1\" class=\"col_heading level0 col1\" >lastname</th>\n",
              "      <th id=\"T_9a598_level0_col2\" class=\"col_heading level0 col2\" >jobdesc</th>\n",
              "    </tr>\n",
              "  </thead>\n",
              "  <tbody>\n",
              "    <tr>\n",
              "      <td id=\"T_9a598_row0_col0\" class=\"data row0 col0\" >Madhuri</td>\n",
              "      <td id=\"T_9a598_row0_col1\" class=\"data row0 col1\" >Dikshit</td>\n",
              "      <td id=\"T_9a598_row0_col2\" class=\"data row0 col2\" >Clerk</td>\n",
              "    </tr>\n",
              "    <tr>\n",
              "      <td id=\"T_9a598_row1_col0\" class=\"data row1 col0\" >Mahender</td>\n",
              "      <td id=\"T_9a598_row1_col1\" class=\"data row1 col1\" >Dhoni</td>\n",
              "      <td id=\"T_9a598_row1_col2\" class=\"data row1 col2\" >Clerk</td>\n",
              "    </tr>\n",
              "    <tr>\n",
              "      <td id=\"T_9a598_row2_col0\" class=\"data row2 col0\" >Jagmohan</td>\n",
              "      <td id=\"T_9a598_row2_col1\" class=\"data row2 col1\" >Dalmia</td>\n",
              "      <td id=\"T_9a598_row2_col2\" class=\"data row2 col2\" >Clerk</td>\n",
              "    </tr>\n",
              "  </tbody>\n",
              "</table>\n"
            ]
          },
          "metadata": {},
          "execution_count": 14
        }
      ]
    },
    {
      "cell_type": "code",
      "source": [
        "runSelect(\"select firstname, lastname, jobdesc from empl where jobdesc != 'Clerk'\")"
      ],
      "metadata": {
        "id": "3cl0ISR9yG-I",
        "outputId": "5811744e-df3b-47c5-9c8b-40ac573ef436",
        "colab": {
          "base_uri": "https://localhost:8080/",
          "height": 363
        }
      },
      "execution_count": 15,
      "outputs": [
        {
          "output_type": "execute_result",
          "data": {
            "text/plain": [
              "<pandas.io.formats.style.Styler at 0x7a6aa6d0b280>"
            ],
            "text/html": [
              "<style type=\"text/css\">\n",
              "</style>\n",
              "<table id=\"T_cc9b0\" class=\"dataframe\">\n",
              "  <thead>\n",
              "    <tr>\n",
              "      <th id=\"T_cc9b0_level0_col0\" class=\"col_heading level0 col0\" >firstname</th>\n",
              "      <th id=\"T_cc9b0_level0_col1\" class=\"col_heading level0 col1\" >lastname</th>\n",
              "      <th id=\"T_cc9b0_level0_col2\" class=\"col_heading level0 col2\" >jobdesc</th>\n",
              "    </tr>\n",
              "  </thead>\n",
              "  <tbody>\n",
              "    <tr>\n",
              "      <td id=\"T_cc9b0_row0_col0\" class=\"data row0 col0\" >Amitabh</td>\n",
              "      <td id=\"T_cc9b0_row0_col1\" class=\"data row0 col1\" >Bacchan</td>\n",
              "      <td id=\"T_cc9b0_row0_col2\" class=\"data row0 col2\" >Executive</td>\n",
              "    </tr>\n",
              "    <tr>\n",
              "      <td id=\"T_cc9b0_row1_col0\" class=\"data row1 col0\" >Rani</td>\n",
              "      <td id=\"T_cc9b0_row1_col1\" class=\"data row1 col1\" >Mukherjee</td>\n",
              "      <td id=\"T_cc9b0_row1_col2\" class=\"data row1 col2\" >Manager</td>\n",
              "    </tr>\n",
              "    <tr>\n",
              "      <td id=\"T_cc9b0_row2_col0\" class=\"data row2 col0\" >Shahrukh</td>\n",
              "      <td id=\"T_cc9b0_row2_col1\" class=\"data row2 col1\" >Khan</td>\n",
              "      <td id=\"T_cc9b0_row2_col2\" class=\"data row2 col2\" >Manager</td>\n",
              "    </tr>\n",
              "    <tr>\n",
              "      <td id=\"T_cc9b0_row3_col0\" class=\"data row3 col0\" >Virender</td>\n",
              "      <td id=\"T_cc9b0_row3_col1\" class=\"data row3 col1\" >Sehwag</td>\n",
              "      <td id=\"T_cc9b0_row3_col2\" class=\"data row3 col2\" >Cus_Rep</td>\n",
              "    </tr>\n",
              "    <tr>\n",
              "      <td id=\"T_cc9b0_row4_col0\" class=\"data row4 col0\" >Rahul</td>\n",
              "      <td id=\"T_cc9b0_row4_col1\" class=\"data row4 col1\" >Dravid</td>\n",
              "      <td id=\"T_cc9b0_row4_col2\" class=\"data row4 col2\" >Sr Manager</td>\n",
              "    </tr>\n",
              "    <tr>\n",
              "      <td id=\"T_cc9b0_row5_col0\" class=\"data row5 col0\" >Sourav</td>\n",
              "      <td id=\"T_cc9b0_row5_col1\" class=\"data row5 col1\" >Ganguly</td>\n",
              "      <td id=\"T_cc9b0_row5_col2\" class=\"data row5 col2\" >Cus_Rep</td>\n",
              "    </tr>\n",
              "    <tr>\n",
              "      <td id=\"T_cc9b0_row6_col0\" class=\"data row6 col0\" >Rekha</td>\n",
              "      <td id=\"T_cc9b0_row6_col1\" class=\"data row6 col1\" >Ganesan</td>\n",
              "      <td id=\"T_cc9b0_row6_col2\" class=\"data row6 col2\" >Director</td>\n",
              "    </tr>\n",
              "    <tr>\n",
              "      <td id=\"T_cc9b0_row7_col0\" class=\"data row7 col0\" >Narayan</td>\n",
              "      <td id=\"T_cc9b0_row7_col1\" class=\"data row7 col1\" >Karthikeyan</td>\n",
              "      <td id=\"T_cc9b0_row7_col2\" class=\"data row7 col2\" >Secretary</td>\n",
              "    </tr>\n",
              "    <tr>\n",
              "      <td id=\"T_cc9b0_row8_col0\" class=\"data row8 col0\" >Chettri</td>\n",
              "      <td id=\"T_cc9b0_row8_col1\" class=\"data row8 col1\" >Sunil</td>\n",
              "      <td id=\"T_cc9b0_row8_col2\" class=\"data row8 col2\" >Dy Manager</td>\n",
              "    </tr>\n",
              "    <tr>\n",
              "      <td id=\"T_cc9b0_row9_col0\" class=\"data row9 col0\" >Sania</td>\n",
              "      <td id=\"T_cc9b0_row9_col1\" class=\"data row9 col1\" >Mirza</td>\n",
              "      <td id=\"T_cc9b0_row9_col2\" class=\"data row9 col2\" >Cus_Rep</td>\n",
              "    </tr>\n",
              "  </tbody>\n",
              "</table>\n"
            ]
          },
          "metadata": {},
          "execution_count": 15
        }
      ]
    },
    {
      "cell_type": "code",
      "source": [
        "runSelect(\"select firstname, lastname, salary from empl where salary > 35000\")"
      ],
      "metadata": {
        "id": "obIPpNbDyT4S",
        "outputId": "bd843ab4-56b9-4c7a-ce89-cf490b428127",
        "colab": {
          "base_uri": "https://localhost:8080/",
          "height": 206
        }
      },
      "execution_count": 16,
      "outputs": [
        {
          "output_type": "execute_result",
          "data": {
            "text/plain": [
              "<pandas.io.formats.style.Styler at 0x7a6aa6d08d90>"
            ],
            "text/html": [
              "<style type=\"text/css\">\n",
              "</style>\n",
              "<table id=\"T_ed115\" class=\"dataframe\">\n",
              "  <thead>\n",
              "    <tr>\n",
              "      <th id=\"T_ed115_level0_col0\" class=\"col_heading level0 col0\" >firstname</th>\n",
              "      <th id=\"T_ed115_level0_col1\" class=\"col_heading level0 col1\" >lastname</th>\n",
              "      <th id=\"T_ed115_level0_col2\" class=\"col_heading level0 col2\" >salary</th>\n",
              "    </tr>\n",
              "  </thead>\n",
              "  <tbody>\n",
              "    <tr>\n",
              "      <td id=\"T_ed115_row0_col0\" class=\"data row0 col0\" >Amitabh</td>\n",
              "      <td id=\"T_ed115_row0_col1\" class=\"data row0 col1\" >Bacchan</td>\n",
              "      <td id=\"T_ed115_row0_col2\" class=\"data row0 col2\" >50000</td>\n",
              "    </tr>\n",
              "    <tr>\n",
              "      <td id=\"T_ed115_row1_col0\" class=\"data row1 col0\" >Rahul</td>\n",
              "      <td id=\"T_ed115_row1_col1\" class=\"data row1 col1\" >Dravid</td>\n",
              "      <td id=\"T_ed115_row1_col2\" class=\"data row1 col2\" >40000</td>\n",
              "    </tr>\n",
              "    <tr>\n",
              "      <td id=\"T_ed115_row2_col0\" class=\"data row2 col0\" >Rekha</td>\n",
              "      <td id=\"T_ed115_row2_col1\" class=\"data row2 col1\" >Ganesan</td>\n",
              "      <td id=\"T_ed115_row2_col2\" class=\"data row2 col2\" >60000</td>\n",
              "    </tr>\n",
              "    <tr>\n",
              "      <td id=\"T_ed115_row3_col0\" class=\"data row3 col0\" >Narayan</td>\n",
              "      <td id=\"T_ed115_row3_col1\" class=\"data row3 col1\" >Karthikeyan</td>\n",
              "      <td id=\"T_ed115_row3_col2\" class=\"data row3 col2\" >40000</td>\n",
              "    </tr>\n",
              "    <tr>\n",
              "      <td id=\"T_ed115_row4_col0\" class=\"data row4 col0\" >Chettri</td>\n",
              "      <td id=\"T_ed115_row4_col1\" class=\"data row4 col1\" >Sunil</td>\n",
              "      <td id=\"T_ed115_row4_col2\" class=\"data row4 col2\" >40000</td>\n",
              "    </tr>\n",
              "  </tbody>\n",
              "</table>\n"
            ]
          },
          "metadata": {},
          "execution_count": 16
        }
      ]
    },
    {
      "cell_type": "code",
      "source": [
        "runSelect(\"select firstname, lastname, salary, joindate from empl where joindate < '2002-01-01'\")"
      ],
      "metadata": {
        "colab": {
          "base_uri": "https://localhost:8080/",
          "height": 143
        },
        "id": "hnIvgy_dMvQl",
        "outputId": "cc7d208a-fbbb-4002-b03c-2cb351070872"
      },
      "execution_count": 17,
      "outputs": [
        {
          "output_type": "execute_result",
          "data": {
            "text/plain": [
              "<pandas.io.formats.style.Styler at 0x7a6aa6d0b970>"
            ],
            "text/html": [
              "<style type=\"text/css\">\n",
              "</style>\n",
              "<table id=\"T_952f0\" class=\"dataframe\">\n",
              "  <thead>\n",
              "    <tr>\n",
              "      <th id=\"T_952f0_level0_col0\" class=\"col_heading level0 col0\" >firstname</th>\n",
              "      <th id=\"T_952f0_level0_col1\" class=\"col_heading level0 col1\" >lastname</th>\n",
              "      <th id=\"T_952f0_level0_col2\" class=\"col_heading level0 col2\" >salary</th>\n",
              "      <th id=\"T_952f0_level0_col3\" class=\"col_heading level0 col3\" >joindate</th>\n",
              "    </tr>\n",
              "  </thead>\n",
              "  <tbody>\n",
              "    <tr>\n",
              "      <td id=\"T_952f0_row0_col0\" class=\"data row0 col0\" >Rahul</td>\n",
              "      <td id=\"T_952f0_row0_col1\" class=\"data row0 col1\" >Dravid</td>\n",
              "      <td id=\"T_952f0_row0_col2\" class=\"data row0 col2\" >40000</td>\n",
              "      <td id=\"T_952f0_row0_col3\" class=\"data row0 col3\" >2000-06-04</td>\n",
              "    </tr>\n",
              "    <tr>\n",
              "      <td id=\"T_952f0_row1_col0\" class=\"data row1 col0\" >Jagmohan</td>\n",
              "      <td id=\"T_952f0_row1_col1\" class=\"data row1 col1\" >Dalmia</td>\n",
              "      <td id=\"T_952f0_row1_col2\" class=\"data row1 col2\" >12000</td>\n",
              "      <td id=\"T_952f0_row1_col3\" class=\"data row1 col3\" >2001-07-01</td>\n",
              "    </tr>\n",
              "    <tr>\n",
              "      <td id=\"T_952f0_row2_col0\" class=\"data row2 col0\" >Sania</td>\n",
              "      <td id=\"T_952f0_row2_col1\" class=\"data row2 col1\" >Mirza</td>\n",
              "      <td id=\"T_952f0_row2_col2\" class=\"data row2 col2\" >25000</td>\n",
              "      <td id=\"T_952f0_row2_col3\" class=\"data row2 col3\" >2001-11-19</td>\n",
              "    </tr>\n",
              "  </tbody>\n",
              "</table>\n"
            ]
          },
          "metadata": {},
          "execution_count": 17
        }
      ]
    },
    {
      "cell_type": "markdown",
      "source": [
        "## Like"
      ],
      "metadata": {
        "id": "77DkYhfhU1lJ"
      }
    },
    {
      "cell_type": "code",
      "source": [
        "runSelect(\"select firstname, lastname, salary from empl where lastname like 'D%'\")"
      ],
      "metadata": {
        "colab": {
          "base_uri": "https://localhost:8080/",
          "height": 175
        },
        "id": "PBsdla2eVv1K",
        "outputId": "b88a275d-614d-441e-ff33-1a181b652a75"
      },
      "execution_count": 18,
      "outputs": [
        {
          "output_type": "execute_result",
          "data": {
            "text/plain": [
              "<pandas.io.formats.style.Styler at 0x7a6aa6d0bcd0>"
            ],
            "text/html": [
              "<style type=\"text/css\">\n",
              "</style>\n",
              "<table id=\"T_aeb6c\" class=\"dataframe\">\n",
              "  <thead>\n",
              "    <tr>\n",
              "      <th id=\"T_aeb6c_level0_col0\" class=\"col_heading level0 col0\" >firstname</th>\n",
              "      <th id=\"T_aeb6c_level0_col1\" class=\"col_heading level0 col1\" >lastname</th>\n",
              "      <th id=\"T_aeb6c_level0_col2\" class=\"col_heading level0 col2\" >salary</th>\n",
              "    </tr>\n",
              "  </thead>\n",
              "  <tbody>\n",
              "    <tr>\n",
              "      <td id=\"T_aeb6c_row0_col0\" class=\"data row0 col0\" >Madhuri</td>\n",
              "      <td id=\"T_aeb6c_row0_col1\" class=\"data row0 col1\" >Dikshit</td>\n",
              "      <td id=\"T_aeb6c_row0_col2\" class=\"data row0 col2\" >10000</td>\n",
              "    </tr>\n",
              "    <tr>\n",
              "      <td id=\"T_aeb6c_row1_col0\" class=\"data row1 col0\" >Mahender</td>\n",
              "      <td id=\"T_aeb6c_row1_col1\" class=\"data row1 col1\" >Dhoni</td>\n",
              "      <td id=\"T_aeb6c_row1_col2\" class=\"data row1 col2\" >9000</td>\n",
              "    </tr>\n",
              "    <tr>\n",
              "      <td id=\"T_aeb6c_row2_col0\" class=\"data row2 col0\" >Rahul</td>\n",
              "      <td id=\"T_aeb6c_row2_col1\" class=\"data row2 col1\" >Dravid</td>\n",
              "      <td id=\"T_aeb6c_row2_col2\" class=\"data row2 col2\" >40000</td>\n",
              "    </tr>\n",
              "    <tr>\n",
              "      <td id=\"T_aeb6c_row3_col0\" class=\"data row3 col0\" >Jagmohan</td>\n",
              "      <td id=\"T_aeb6c_row3_col1\" class=\"data row3 col1\" >Dalmia</td>\n",
              "      <td id=\"T_aeb6c_row3_col2\" class=\"data row3 col2\" >12000</td>\n",
              "    </tr>\n",
              "  </tbody>\n",
              "</table>\n"
            ]
          },
          "metadata": {},
          "execution_count": 18
        }
      ]
    },
    {
      "cell_type": "code",
      "source": [
        "runSelect(\"select firstname, lastname, joindate from empl where lastname like '____i_'\")"
      ],
      "metadata": {
        "colab": {
          "base_uri": "https://localhost:8080/",
          "height": 112
        },
        "id": "xxImEDlKbm4U",
        "outputId": "6122b63d-c29e-4e33-b900-ad03c5321a5f"
      },
      "execution_count": 19,
      "outputs": [
        {
          "output_type": "execute_result",
          "data": {
            "text/plain": [
              "<pandas.io.formats.style.Styler at 0x7a6aa6d088b0>"
            ],
            "text/html": [
              "<style type=\"text/css\">\n",
              "</style>\n",
              "<table id=\"T_0ff08\" class=\"dataframe\">\n",
              "  <thead>\n",
              "    <tr>\n",
              "      <th id=\"T_0ff08_level0_col0\" class=\"col_heading level0 col0\" >firstname</th>\n",
              "      <th id=\"T_0ff08_level0_col1\" class=\"col_heading level0 col1\" >lastname</th>\n",
              "      <th id=\"T_0ff08_level0_col2\" class=\"col_heading level0 col2\" >joindate</th>\n",
              "    </tr>\n",
              "  </thead>\n",
              "  <tbody>\n",
              "    <tr>\n",
              "      <td id=\"T_0ff08_row0_col0\" class=\"data row0 col0\" >Rahul</td>\n",
              "      <td id=\"T_0ff08_row0_col1\" class=\"data row0 col1\" >Dravid</td>\n",
              "      <td id=\"T_0ff08_row0_col2\" class=\"data row0 col2\" >2000-06-04</td>\n",
              "    </tr>\n",
              "    <tr>\n",
              "      <td id=\"T_0ff08_row1_col0\" class=\"data row1 col0\" >Jagmohan</td>\n",
              "      <td id=\"T_0ff08_row1_col1\" class=\"data row1 col1\" >Dalmia</td>\n",
              "      <td id=\"T_0ff08_row1_col2\" class=\"data row1 col2\" >2001-07-01</td>\n",
              "    </tr>\n",
              "  </tbody>\n",
              "</table>\n"
            ]
          },
          "metadata": {},
          "execution_count": 19
        }
      ]
    },
    {
      "cell_type": "code",
      "source": [
        "runSelect(\"select firstname, lastname, jobdesc from empl where lastname like '____i%'\")"
      ],
      "metadata": {
        "colab": {
          "base_uri": "https://localhost:8080/",
          "height": 143
        },
        "id": "pL7VPLo4b2g3",
        "outputId": "3463f817-0a07-4a1a-d0cb-1f8f7467f10b"
      },
      "execution_count": 20,
      "outputs": [
        {
          "output_type": "execute_result",
          "data": {
            "text/plain": [
              "<pandas.io.formats.style.Styler at 0x7a6aa6cf8eb0>"
            ],
            "text/html": [
              "<style type=\"text/css\">\n",
              "</style>\n",
              "<table id=\"T_e1157\" class=\"dataframe\">\n",
              "  <thead>\n",
              "    <tr>\n",
              "      <th id=\"T_e1157_level0_col0\" class=\"col_heading level0 col0\" >firstname</th>\n",
              "      <th id=\"T_e1157_level0_col1\" class=\"col_heading level0 col1\" >lastname</th>\n",
              "      <th id=\"T_e1157_level0_col2\" class=\"col_heading level0 col2\" >jobdesc</th>\n",
              "    </tr>\n",
              "  </thead>\n",
              "  <tbody>\n",
              "    <tr>\n",
              "      <td id=\"T_e1157_row0_col0\" class=\"data row0 col0\" >Mahender</td>\n",
              "      <td id=\"T_e1157_row0_col1\" class=\"data row0 col1\" >Dhoni</td>\n",
              "      <td id=\"T_e1157_row0_col2\" class=\"data row0 col2\" >Clerk</td>\n",
              "    </tr>\n",
              "    <tr>\n",
              "      <td id=\"T_e1157_row1_col0\" class=\"data row1 col0\" >Rahul</td>\n",
              "      <td id=\"T_e1157_row1_col1\" class=\"data row1 col1\" >Dravid</td>\n",
              "      <td id=\"T_e1157_row1_col2\" class=\"data row1 col2\" >Sr Manager</td>\n",
              "    </tr>\n",
              "    <tr>\n",
              "      <td id=\"T_e1157_row2_col0\" class=\"data row2 col0\" >Jagmohan</td>\n",
              "      <td id=\"T_e1157_row2_col1\" class=\"data row2 col1\" >Dalmia</td>\n",
              "      <td id=\"T_e1157_row2_col2\" class=\"data row2 col2\" >Clerk</td>\n",
              "    </tr>\n",
              "  </tbody>\n",
              "</table>\n"
            ]
          },
          "metadata": {},
          "execution_count": 20
        }
      ]
    },
    {
      "cell_type": "markdown",
      "source": [
        "## Between"
      ],
      "metadata": {
        "id": "qw2h8Vtvey2R"
      }
    },
    {
      "cell_type": "code",
      "source": [
        "runSelect(\"select firstname, lastname, salary from empl where salary between 10000 and 20000\")"
      ],
      "metadata": {
        "colab": {
          "base_uri": "https://localhost:8080/",
          "height": 175
        },
        "id": "sI_qlRdXe7S8",
        "outputId": "92b193bf-4401-4155-d2dd-bab112bc2632"
      },
      "execution_count": 21,
      "outputs": [
        {
          "output_type": "execute_result",
          "data": {
            "text/plain": [
              "<pandas.io.formats.style.Styler at 0x7a6aa6d09f30>"
            ],
            "text/html": [
              "<style type=\"text/css\">\n",
              "</style>\n",
              "<table id=\"T_22695\" class=\"dataframe\">\n",
              "  <thead>\n",
              "    <tr>\n",
              "      <th id=\"T_22695_level0_col0\" class=\"col_heading level0 col0\" >firstname</th>\n",
              "      <th id=\"T_22695_level0_col1\" class=\"col_heading level0 col1\" >lastname</th>\n",
              "      <th id=\"T_22695_level0_col2\" class=\"col_heading level0 col2\" >salary</th>\n",
              "    </tr>\n",
              "  </thead>\n",
              "  <tbody>\n",
              "    <tr>\n",
              "      <td id=\"T_22695_row0_col0\" class=\"data row0 col0\" >Madhuri</td>\n",
              "      <td id=\"T_22695_row0_col1\" class=\"data row0 col1\" >Dikshit</td>\n",
              "      <td id=\"T_22695_row0_col2\" class=\"data row0 col2\" >10000</td>\n",
              "    </tr>\n",
              "    <tr>\n",
              "      <td id=\"T_22695_row1_col0\" class=\"data row1 col0\" >Virender</td>\n",
              "      <td id=\"T_22695_row1_col1\" class=\"data row1 col1\" >Sehwag</td>\n",
              "      <td id=\"T_22695_row1_col2\" class=\"data row1 col2\" >15000</td>\n",
              "    </tr>\n",
              "    <tr>\n",
              "      <td id=\"T_22695_row2_col0\" class=\"data row2 col0\" >Jagmohan</td>\n",
              "      <td id=\"T_22695_row2_col1\" class=\"data row2 col1\" >Dalmia</td>\n",
              "      <td id=\"T_22695_row2_col2\" class=\"data row2 col2\" >12000</td>\n",
              "    </tr>\n",
              "    <tr>\n",
              "      <td id=\"T_22695_row3_col0\" class=\"data row3 col0\" >Sourav</td>\n",
              "      <td id=\"T_22695_row3_col1\" class=\"data row3 col1\" >Ganguly</td>\n",
              "      <td id=\"T_22695_row3_col2\" class=\"data row3 col2\" >20000</td>\n",
              "    </tr>\n",
              "  </tbody>\n",
              "</table>\n"
            ]
          },
          "metadata": {},
          "execution_count": 21
        }
      ]
    },
    {
      "cell_type": "code",
      "source": [
        "runSelect(\"select firstname, lastname, joindate from empl where joindate between '2004-01-01' and '2005-01-01'\")"
      ],
      "metadata": {
        "colab": {
          "base_uri": "https://localhost:8080/",
          "height": 112
        },
        "id": "b_mWyFTnfIEy",
        "outputId": "3ee293cd-4eef-460b-db52-f4d22724a1d4"
      },
      "execution_count": 22,
      "outputs": [
        {
          "output_type": "execute_result",
          "data": {
            "text/plain": [
              "<pandas.io.formats.style.Styler at 0x7a6aa6cf8f10>"
            ],
            "text/html": [
              "<style type=\"text/css\">\n",
              "</style>\n",
              "<table id=\"T_a9e66\" class=\"dataframe\">\n",
              "  <thead>\n",
              "    <tr>\n",
              "      <th id=\"T_a9e66_level0_col0\" class=\"col_heading level0 col0\" >firstname</th>\n",
              "      <th id=\"T_a9e66_level0_col1\" class=\"col_heading level0 col1\" >lastname</th>\n",
              "      <th id=\"T_a9e66_level0_col2\" class=\"col_heading level0 col2\" >joindate</th>\n",
              "    </tr>\n",
              "  </thead>\n",
              "  <tbody>\n",
              "    <tr>\n",
              "      <td id=\"T_a9e66_row0_col0\" class=\"data row0 col0\" >Shahrukh</td>\n",
              "      <td id=\"T_a9e66_row0_col1\" class=\"data row0 col1\" >Khan</td>\n",
              "      <td id=\"T_a9e66_row0_col2\" class=\"data row0 col2\" >2004-01-03</td>\n",
              "    </tr>\n",
              "    <tr>\n",
              "      <td id=\"T_a9e66_row1_col0\" class=\"data row1 col0\" >Mahender</td>\n",
              "      <td id=\"T_a9e66_row1_col1\" class=\"data row1 col1\" >Dhoni</td>\n",
              "      <td id=\"T_a9e66_row1_col2\" class=\"data row1 col2\" >2004-10-09</td>\n",
              "    </tr>\n",
              "  </tbody>\n",
              "</table>\n"
            ]
          },
          "metadata": {},
          "execution_count": 22
        }
      ]
    },
    {
      "cell_type": "code",
      "source": [
        "runSelect(\"select firstname, lastname, joindate from empl where lastname between 'Dho' and 'Kha'\")"
      ],
      "metadata": {
        "colab": {
          "base_uri": "https://localhost:8080/",
          "height": 238
        },
        "id": "qXs9AeS2fwCS",
        "outputId": "0f431746-524f-4814-805b-29354a999b75"
      },
      "execution_count": 23,
      "outputs": [
        {
          "output_type": "execute_result",
          "data": {
            "text/plain": [
              "<pandas.io.formats.style.Styler at 0x7a6aa6d08400>"
            ],
            "text/html": [
              "<style type=\"text/css\">\n",
              "</style>\n",
              "<table id=\"T_66f7e\" class=\"dataframe\">\n",
              "  <thead>\n",
              "    <tr>\n",
              "      <th id=\"T_66f7e_level0_col0\" class=\"col_heading level0 col0\" >firstname</th>\n",
              "      <th id=\"T_66f7e_level0_col1\" class=\"col_heading level0 col1\" >lastname</th>\n",
              "      <th id=\"T_66f7e_level0_col2\" class=\"col_heading level0 col2\" >joindate</th>\n",
              "    </tr>\n",
              "  </thead>\n",
              "  <tbody>\n",
              "    <tr>\n",
              "      <td id=\"T_66f7e_row0_col0\" class=\"data row0 col0\" >Madhuri</td>\n",
              "      <td id=\"T_66f7e_row0_col1\" class=\"data row0 col1\" >Dikshit</td>\n",
              "      <td id=\"T_66f7e_row0_col2\" class=\"data row0 col2\" >2002-04-04</td>\n",
              "    </tr>\n",
              "    <tr>\n",
              "      <td id=\"T_66f7e_row1_col0\" class=\"data row1 col0\" >Mahender</td>\n",
              "      <td id=\"T_66f7e_row1_col1\" class=\"data row1 col1\" >Dhoni</td>\n",
              "      <td id=\"T_66f7e_row1_col2\" class=\"data row1 col2\" >2004-10-09</td>\n",
              "    </tr>\n",
              "    <tr>\n",
              "      <td id=\"T_66f7e_row2_col0\" class=\"data row2 col0\" >Rahul</td>\n",
              "      <td id=\"T_66f7e_row2_col1\" class=\"data row2 col1\" >Dravid</td>\n",
              "      <td id=\"T_66f7e_row2_col2\" class=\"data row2 col2\" >2000-06-04</td>\n",
              "    </tr>\n",
              "    <tr>\n",
              "      <td id=\"T_66f7e_row3_col0\" class=\"data row3 col0\" >Sourav</td>\n",
              "      <td id=\"T_66f7e_row3_col1\" class=\"data row3 col1\" >Ganguly</td>\n",
              "      <td id=\"T_66f7e_row3_col2\" class=\"data row3 col2\" >2002-01-01</td>\n",
              "    </tr>\n",
              "    <tr>\n",
              "      <td id=\"T_66f7e_row4_col0\" class=\"data row4 col0\" >Rekha</td>\n",
              "      <td id=\"T_66f7e_row4_col1\" class=\"data row4 col1\" >Ganesan</td>\n",
              "      <td id=\"T_66f7e_row4_col2\" class=\"data row4 col2\" >2002-10-10</td>\n",
              "    </tr>\n",
              "    <tr>\n",
              "      <td id=\"T_66f7e_row5_col0\" class=\"data row5 col0\" >Narayan</td>\n",
              "      <td id=\"T_66f7e_row5_col1\" class=\"data row5 col1\" >Karthikeyan</td>\n",
              "      <td id=\"T_66f7e_row5_col2\" class=\"data row5 col2\" >2005-12-04</td>\n",
              "    </tr>\n",
              "  </tbody>\n",
              "</table>\n"
            ]
          },
          "metadata": {},
          "execution_count": 23
        }
      ]
    },
    {
      "cell_type": "markdown",
      "source": [
        "## IN"
      ],
      "metadata": {
        "id": "azhy0TQLiLy-"
      }
    },
    {
      "cell_type": "code",
      "source": [
        "runSelect(\"select firstname, lastname, deptid from empl where deptid in ('30','20','70')\")"
      ],
      "metadata": {
        "colab": {
          "base_uri": "https://localhost:8080/",
          "height": 269
        },
        "id": "UyBE-FuoibSZ",
        "outputId": "c7e55431-08e5-436d-8b4b-d881048c6030"
      },
      "execution_count": 24,
      "outputs": [
        {
          "output_type": "execute_result",
          "data": {
            "text/plain": [
              "<pandas.io.formats.style.Styler at 0x7a6aa6d6beb0>"
            ],
            "text/html": [
              "<style type=\"text/css\">\n",
              "</style>\n",
              "<table id=\"T_34b73\" class=\"dataframe\">\n",
              "  <thead>\n",
              "    <tr>\n",
              "      <th id=\"T_34b73_level0_col0\" class=\"col_heading level0 col0\" >firstname</th>\n",
              "      <th id=\"T_34b73_level0_col1\" class=\"col_heading level0 col1\" >lastname</th>\n",
              "      <th id=\"T_34b73_level0_col2\" class=\"col_heading level0 col2\" >deptid</th>\n",
              "    </tr>\n",
              "  </thead>\n",
              "  <tbody>\n",
              "    <tr>\n",
              "      <td id=\"T_34b73_row0_col0\" class=\"data row0 col0\" >Madhuri</td>\n",
              "      <td id=\"T_34b73_row0_col1\" class=\"data row0 col1\" >Dikshit</td>\n",
              "      <td id=\"T_34b73_row0_col2\" class=\"data row0 col2\" >20</td>\n",
              "    </tr>\n",
              "    <tr>\n",
              "      <td id=\"T_34b73_row1_col0\" class=\"data row1 col0\" >Shahrukh</td>\n",
              "      <td id=\"T_34b73_row1_col1\" class=\"data row1 col1\" >Khan</td>\n",
              "      <td id=\"T_34b73_row1_col2\" class=\"data row1 col2\" >20</td>\n",
              "    </tr>\n",
              "    <tr>\n",
              "      <td id=\"T_34b73_row2_col0\" class=\"data row2 col0\" >Virender</td>\n",
              "      <td id=\"T_34b73_row2_col1\" class=\"data row2 col1\" >Sehwag</td>\n",
              "      <td id=\"T_34b73_row2_col2\" class=\"data row2 col2\" >20</td>\n",
              "    </tr>\n",
              "    <tr>\n",
              "      <td id=\"T_34b73_row3_col0\" class=\"data row3 col0\" >Rahul</td>\n",
              "      <td id=\"T_34b73_row3_col1\" class=\"data row3 col1\" >Dravid</td>\n",
              "      <td id=\"T_34b73_row3_col2\" class=\"data row3 col2\" >30</td>\n",
              "    </tr>\n",
              "    <tr>\n",
              "      <td id=\"T_34b73_row4_col0\" class=\"data row4 col0\" >Jagmohan</td>\n",
              "      <td id=\"T_34b73_row4_col1\" class=\"data row4 col1\" >Dalmia</td>\n",
              "      <td id=\"T_34b73_row4_col2\" class=\"data row4 col2\" >30</td>\n",
              "    </tr>\n",
              "    <tr>\n",
              "      <td id=\"T_34b73_row5_col0\" class=\"data row5 col0\" >Chettri</td>\n",
              "      <td id=\"T_34b73_row5_col1\" class=\"data row5 col1\" >Sunil</td>\n",
              "      <td id=\"T_34b73_row5_col2\" class=\"data row5 col2\" >70</td>\n",
              "    </tr>\n",
              "    <tr>\n",
              "      <td id=\"T_34b73_row6_col0\" class=\"data row6 col0\" >Sania</td>\n",
              "      <td id=\"T_34b73_row6_col1\" class=\"data row6 col1\" >Mirza</td>\n",
              "      <td id=\"T_34b73_row6_col2\" class=\"data row6 col2\" >30</td>\n",
              "    </tr>\n",
              "  </tbody>\n",
              "</table>\n"
            ]
          },
          "metadata": {},
          "execution_count": 24
        }
      ]
    },
    {
      "cell_type": "code",
      "source": [
        "runSelect(\"select firstname, lastname, salary from empl where firstname in ('Madhuri','Shahrukh','Virender')\")"
      ],
      "metadata": {
        "colab": {
          "base_uri": "https://localhost:8080/",
          "height": 143
        },
        "id": "9qTEO-OuiN3A",
        "outputId": "1a93cae3-7106-418e-f180-a785283678f5"
      },
      "execution_count": 25,
      "outputs": [
        {
          "output_type": "execute_result",
          "data": {
            "text/plain": [
              "<pandas.io.formats.style.Styler at 0x7a6aa6d0b100>"
            ],
            "text/html": [
              "<style type=\"text/css\">\n",
              "</style>\n",
              "<table id=\"T_b4daf\" class=\"dataframe\">\n",
              "  <thead>\n",
              "    <tr>\n",
              "      <th id=\"T_b4daf_level0_col0\" class=\"col_heading level0 col0\" >firstname</th>\n",
              "      <th id=\"T_b4daf_level0_col1\" class=\"col_heading level0 col1\" >lastname</th>\n",
              "      <th id=\"T_b4daf_level0_col2\" class=\"col_heading level0 col2\" >salary</th>\n",
              "    </tr>\n",
              "  </thead>\n",
              "  <tbody>\n",
              "    <tr>\n",
              "      <td id=\"T_b4daf_row0_col0\" class=\"data row0 col0\" >Madhuri</td>\n",
              "      <td id=\"T_b4daf_row0_col1\" class=\"data row0 col1\" >Dikshit</td>\n",
              "      <td id=\"T_b4daf_row0_col2\" class=\"data row0 col2\" >10000</td>\n",
              "    </tr>\n",
              "    <tr>\n",
              "      <td id=\"T_b4daf_row1_col0\" class=\"data row1 col0\" >Shahrukh</td>\n",
              "      <td id=\"T_b4daf_row1_col1\" class=\"data row1 col1\" >Khan</td>\n",
              "      <td id=\"T_b4daf_row1_col2\" class=\"data row1 col2\" >30000</td>\n",
              "    </tr>\n",
              "    <tr>\n",
              "      <td id=\"T_b4daf_row2_col0\" class=\"data row2 col0\" >Virender</td>\n",
              "      <td id=\"T_b4daf_row2_col1\" class=\"data row2 col1\" >Sehwag</td>\n",
              "      <td id=\"T_b4daf_row2_col2\" class=\"data row2 col2\" >15000</td>\n",
              "    </tr>\n",
              "  </tbody>\n",
              "</table>\n"
            ]
          },
          "metadata": {},
          "execution_count": 25
        }
      ]
    },
    {
      "cell_type": "markdown",
      "source": [
        "## Order by"
      ],
      "metadata": {
        "id": "vlOCT_zAkzMb"
      }
    },
    {
      "cell_type": "code",
      "source": [
        "runSelect(\"select firstname, lastname, joindate from empl where firstname in ('Madhuri','Shahrukh','Virender') order by joindate\")"
      ],
      "metadata": {
        "colab": {
          "base_uri": "https://localhost:8080/",
          "height": 143
        },
        "id": "WidoGzLVk1in",
        "outputId": "e8025c46-4f69-4aba-ad73-dcb95667fe7f"
      },
      "execution_count": 26,
      "outputs": [
        {
          "output_type": "execute_result",
          "data": {
            "text/plain": [
              "<pandas.io.formats.style.Styler at 0x7a6aa6cf9570>"
            ],
            "text/html": [
              "<style type=\"text/css\">\n",
              "</style>\n",
              "<table id=\"T_ae01d\" class=\"dataframe\">\n",
              "  <thead>\n",
              "    <tr>\n",
              "      <th id=\"T_ae01d_level0_col0\" class=\"col_heading level0 col0\" >firstname</th>\n",
              "      <th id=\"T_ae01d_level0_col1\" class=\"col_heading level0 col1\" >lastname</th>\n",
              "      <th id=\"T_ae01d_level0_col2\" class=\"col_heading level0 col2\" >joindate</th>\n",
              "    </tr>\n",
              "  </thead>\n",
              "  <tbody>\n",
              "    <tr>\n",
              "      <td id=\"T_ae01d_row0_col0\" class=\"data row0 col0\" >Madhuri</td>\n",
              "      <td id=\"T_ae01d_row0_col1\" class=\"data row0 col1\" >Dikshit</td>\n",
              "      <td id=\"T_ae01d_row0_col2\" class=\"data row0 col2\" >2002-04-04</td>\n",
              "    </tr>\n",
              "    <tr>\n",
              "      <td id=\"T_ae01d_row1_col0\" class=\"data row1 col0\" >Shahrukh</td>\n",
              "      <td id=\"T_ae01d_row1_col1\" class=\"data row1 col1\" >Khan</td>\n",
              "      <td id=\"T_ae01d_row1_col2\" class=\"data row1 col2\" >2004-01-03</td>\n",
              "    </tr>\n",
              "    <tr>\n",
              "      <td id=\"T_ae01d_row2_col0\" class=\"data row2 col0\" >Virender</td>\n",
              "      <td id=\"T_ae01d_row2_col1\" class=\"data row2 col1\" >Sehwag</td>\n",
              "      <td id=\"T_ae01d_row2_col2\" class=\"data row2 col2\" >2005-01-02</td>\n",
              "    </tr>\n",
              "  </tbody>\n",
              "</table>\n"
            ]
          },
          "metadata": {},
          "execution_count": 26
        }
      ]
    },
    {
      "cell_type": "code",
      "source": [
        "runSelect(\"select firstname, lastname, jobdesc, salary, deptid from empl where deptid = '10' order by salary desc\")"
      ],
      "metadata": {
        "colab": {
          "base_uri": "https://localhost:8080/",
          "height": 143
        },
        "id": "Iq_7jWr-lRlO",
        "outputId": "b2d5cb1a-faa2-408a-d307-a8e5b2d2020d"
      },
      "execution_count": 27,
      "outputs": [
        {
          "output_type": "execute_result",
          "data": {
            "text/plain": [
              "<pandas.io.formats.style.Styler at 0x7a6aa6cfb370>"
            ],
            "text/html": [
              "<style type=\"text/css\">\n",
              "</style>\n",
              "<table id=\"T_8b4fd\" class=\"dataframe\">\n",
              "  <thead>\n",
              "    <tr>\n",
              "      <th id=\"T_8b4fd_level0_col0\" class=\"col_heading level0 col0\" >firstname</th>\n",
              "      <th id=\"T_8b4fd_level0_col1\" class=\"col_heading level0 col1\" >lastname</th>\n",
              "      <th id=\"T_8b4fd_level0_col2\" class=\"col_heading level0 col2\" >jobdesc</th>\n",
              "      <th id=\"T_8b4fd_level0_col3\" class=\"col_heading level0 col3\" >salary</th>\n",
              "      <th id=\"T_8b4fd_level0_col4\" class=\"col_heading level0 col4\" >deptid</th>\n",
              "    </tr>\n",
              "  </thead>\n",
              "  <tbody>\n",
              "    <tr>\n",
              "      <td id=\"T_8b4fd_row0_col0\" class=\"data row0 col0\" >Rekha</td>\n",
              "      <td id=\"T_8b4fd_row0_col1\" class=\"data row0 col1\" >Ganesan</td>\n",
              "      <td id=\"T_8b4fd_row0_col2\" class=\"data row0 col2\" >Director</td>\n",
              "      <td id=\"T_8b4fd_row0_col3\" class=\"data row0 col3\" >60000</td>\n",
              "      <td id=\"T_8b4fd_row0_col4\" class=\"data row0 col4\" >10</td>\n",
              "    </tr>\n",
              "    <tr>\n",
              "      <td id=\"T_8b4fd_row1_col0\" class=\"data row1 col0\" >Amitabh</td>\n",
              "      <td id=\"T_8b4fd_row1_col1\" class=\"data row1 col1\" >Bacchan</td>\n",
              "      <td id=\"T_8b4fd_row1_col2\" class=\"data row1 col2\" >Executive</td>\n",
              "      <td id=\"T_8b4fd_row1_col3\" class=\"data row1 col3\" >50000</td>\n",
              "      <td id=\"T_8b4fd_row1_col4\" class=\"data row1 col4\" >10</td>\n",
              "    </tr>\n",
              "    <tr>\n",
              "      <td id=\"T_8b4fd_row2_col0\" class=\"data row2 col0\" >Narayan</td>\n",
              "      <td id=\"T_8b4fd_row2_col1\" class=\"data row2 col1\" >Karthikeyan</td>\n",
              "      <td id=\"T_8b4fd_row2_col2\" class=\"data row2 col2\" >Secretary</td>\n",
              "      <td id=\"T_8b4fd_row2_col3\" class=\"data row2 col3\" >40000</td>\n",
              "      <td id=\"T_8b4fd_row2_col4\" class=\"data row2 col4\" >10</td>\n",
              "    </tr>\n",
              "  </tbody>\n",
              "</table>\n"
            ]
          },
          "metadata": {},
          "execution_count": 27
        }
      ]
    },
    {
      "cell_type": "markdown",
      "source": [
        "## Logical AND | OR"
      ],
      "metadata": {
        "id": "-JDEmZtsm0o1"
      }
    },
    {
      "cell_type": "code",
      "source": [
        "runSelect(\"select lastname, jobdesc, salary, deptid from empl where deptid = '20'\")"
      ],
      "metadata": {
        "colab": {
          "base_uri": "https://localhost:8080/",
          "height": 143
        },
        "id": "rli0DBhIm54M",
        "outputId": "8ff8db4b-ac0f-4dca-cc0d-d44b38b25643"
      },
      "execution_count": 28,
      "outputs": [
        {
          "output_type": "execute_result",
          "data": {
            "text/plain": [
              "<pandas.io.formats.style.Styler at 0x7a6ade029b10>"
            ],
            "text/html": [
              "<style type=\"text/css\">\n",
              "</style>\n",
              "<table id=\"T_962f1\" class=\"dataframe\">\n",
              "  <thead>\n",
              "    <tr>\n",
              "      <th id=\"T_962f1_level0_col0\" class=\"col_heading level0 col0\" >lastname</th>\n",
              "      <th id=\"T_962f1_level0_col1\" class=\"col_heading level0 col1\" >jobdesc</th>\n",
              "      <th id=\"T_962f1_level0_col2\" class=\"col_heading level0 col2\" >salary</th>\n",
              "      <th id=\"T_962f1_level0_col3\" class=\"col_heading level0 col3\" >deptid</th>\n",
              "    </tr>\n",
              "  </thead>\n",
              "  <tbody>\n",
              "    <tr>\n",
              "      <td id=\"T_962f1_row0_col0\" class=\"data row0 col0\" >Dikshit</td>\n",
              "      <td id=\"T_962f1_row0_col1\" class=\"data row0 col1\" >Clerk</td>\n",
              "      <td id=\"T_962f1_row0_col2\" class=\"data row0 col2\" >10000</td>\n",
              "      <td id=\"T_962f1_row0_col3\" class=\"data row0 col3\" >20</td>\n",
              "    </tr>\n",
              "    <tr>\n",
              "      <td id=\"T_962f1_row1_col0\" class=\"data row1 col0\" >Khan</td>\n",
              "      <td id=\"T_962f1_row1_col1\" class=\"data row1 col1\" >Manager</td>\n",
              "      <td id=\"T_962f1_row1_col2\" class=\"data row1 col2\" >30000</td>\n",
              "      <td id=\"T_962f1_row1_col3\" class=\"data row1 col3\" >20</td>\n",
              "    </tr>\n",
              "    <tr>\n",
              "      <td id=\"T_962f1_row2_col0\" class=\"data row2 col0\" >Sehwag</td>\n",
              "      <td id=\"T_962f1_row2_col1\" class=\"data row2 col1\" >Cus_Rep</td>\n",
              "      <td id=\"T_962f1_row2_col2\" class=\"data row2 col2\" >15000</td>\n",
              "      <td id=\"T_962f1_row2_col3\" class=\"data row2 col3\" >20</td>\n",
              "    </tr>\n",
              "  </tbody>\n",
              "</table>\n"
            ]
          },
          "metadata": {},
          "execution_count": 28
        }
      ]
    },
    {
      "cell_type": "code",
      "source": [
        "runSelect(\"select lastname, jobdesc, salary, deptid from empl where deptid = '20' and salary > 10000\")"
      ],
      "metadata": {
        "colab": {
          "base_uri": "https://localhost:8080/",
          "height": 112
        },
        "id": "wHIJoUGqnuwa",
        "outputId": "554dacc4-1636-4463-8270-cfa1bb64a21d"
      },
      "execution_count": 29,
      "outputs": [
        {
          "output_type": "execute_result",
          "data": {
            "text/plain": [
              "<pandas.io.formats.style.Styler at 0x7a6aa6cfa770>"
            ],
            "text/html": [
              "<style type=\"text/css\">\n",
              "</style>\n",
              "<table id=\"T_436d7\" class=\"dataframe\">\n",
              "  <thead>\n",
              "    <tr>\n",
              "      <th id=\"T_436d7_level0_col0\" class=\"col_heading level0 col0\" >lastname</th>\n",
              "      <th id=\"T_436d7_level0_col1\" class=\"col_heading level0 col1\" >jobdesc</th>\n",
              "      <th id=\"T_436d7_level0_col2\" class=\"col_heading level0 col2\" >salary</th>\n",
              "      <th id=\"T_436d7_level0_col3\" class=\"col_heading level0 col3\" >deptid</th>\n",
              "    </tr>\n",
              "  </thead>\n",
              "  <tbody>\n",
              "    <tr>\n",
              "      <td id=\"T_436d7_row0_col0\" class=\"data row0 col0\" >Khan</td>\n",
              "      <td id=\"T_436d7_row0_col1\" class=\"data row0 col1\" >Manager</td>\n",
              "      <td id=\"T_436d7_row0_col2\" class=\"data row0 col2\" >30000</td>\n",
              "      <td id=\"T_436d7_row0_col3\" class=\"data row0 col3\" >20</td>\n",
              "    </tr>\n",
              "    <tr>\n",
              "      <td id=\"T_436d7_row1_col0\" class=\"data row1 col0\" >Sehwag</td>\n",
              "      <td id=\"T_436d7_row1_col1\" class=\"data row1 col1\" >Cus_Rep</td>\n",
              "      <td id=\"T_436d7_row1_col2\" class=\"data row1 col2\" >15000</td>\n",
              "      <td id=\"T_436d7_row1_col3\" class=\"data row1 col3\" >20</td>\n",
              "    </tr>\n",
              "  </tbody>\n",
              "</table>\n"
            ]
          },
          "metadata": {},
          "execution_count": 29
        }
      ]
    },
    {
      "cell_type": "code",
      "source": [
        "runSelect(\"select lastname, jobdesc, salary, deptid from empl where deptid = '20' and salary > 10000 and jobdesc = 'Clerk'\")"
      ],
      "metadata": {
        "colab": {
          "base_uri": "https://localhost:8080/"
        },
        "id": "fnB8p8-EnzH2",
        "outputId": "3b26b88a-c49b-48c0-bf23-cb14f56346ae"
      },
      "execution_count": 30,
      "outputs": [
        {
          "output_type": "stream",
          "name": "stdout",
          "text": [
            "no records found\n"
          ]
        }
      ]
    },
    {
      "cell_type": "code",
      "source": [
        "runSelect(\"select lastname, jobdesc, deptid from empl where deptid = '70'\")"
      ],
      "metadata": {
        "colab": {
          "base_uri": "https://localhost:8080/",
          "height": 81
        },
        "id": "uEKUIgOMqtLw",
        "outputId": "e4c9f83b-5d8f-4f8e-e9f5-d45dcfa9c83d"
      },
      "execution_count": 31,
      "outputs": [
        {
          "output_type": "execute_result",
          "data": {
            "text/plain": [
              "<pandas.io.formats.style.Styler at 0x7a6aa6cf8c70>"
            ],
            "text/html": [
              "<style type=\"text/css\">\n",
              "</style>\n",
              "<table id=\"T_25d43\" class=\"dataframe\">\n",
              "  <thead>\n",
              "    <tr>\n",
              "      <th id=\"T_25d43_level0_col0\" class=\"col_heading level0 col0\" >lastname</th>\n",
              "      <th id=\"T_25d43_level0_col1\" class=\"col_heading level0 col1\" >jobdesc</th>\n",
              "      <th id=\"T_25d43_level0_col2\" class=\"col_heading level0 col2\" >deptid</th>\n",
              "    </tr>\n",
              "  </thead>\n",
              "  <tbody>\n",
              "    <tr>\n",
              "      <td id=\"T_25d43_row0_col0\" class=\"data row0 col0\" >Sunil</td>\n",
              "      <td id=\"T_25d43_row0_col1\" class=\"data row0 col1\" >Dy Manager</td>\n",
              "      <td id=\"T_25d43_row0_col2\" class=\"data row0 col2\" >70</td>\n",
              "    </tr>\n",
              "  </tbody>\n",
              "</table>\n"
            ]
          },
          "metadata": {},
          "execution_count": 31
        }
      ]
    },
    {
      "cell_type": "code",
      "source": [
        "runSelect(\"select lastname, jobdesc, deptid from empl where deptid = '70' or jobdesc like '%Manager'\")"
      ],
      "metadata": {
        "colab": {
          "base_uri": "https://localhost:8080/",
          "height": 175
        },
        "id": "Ne0eLRV3qyTn",
        "outputId": "9135fafd-d16d-4807-bfda-94b6375d1564"
      },
      "execution_count": 32,
      "outputs": [
        {
          "output_type": "execute_result",
          "data": {
            "text/plain": [
              "<pandas.io.formats.style.Styler at 0x7a6aa6cfa290>"
            ],
            "text/html": [
              "<style type=\"text/css\">\n",
              "</style>\n",
              "<table id=\"T_bd872\" class=\"dataframe\">\n",
              "  <thead>\n",
              "    <tr>\n",
              "      <th id=\"T_bd872_level0_col0\" class=\"col_heading level0 col0\" >lastname</th>\n",
              "      <th id=\"T_bd872_level0_col1\" class=\"col_heading level0 col1\" >jobdesc</th>\n",
              "      <th id=\"T_bd872_level0_col2\" class=\"col_heading level0 col2\" >deptid</th>\n",
              "    </tr>\n",
              "  </thead>\n",
              "  <tbody>\n",
              "    <tr>\n",
              "      <td id=\"T_bd872_row0_col0\" class=\"data row0 col0\" >Mukherjee</td>\n",
              "      <td id=\"T_bd872_row0_col1\" class=\"data row0 col1\" >Manager</td>\n",
              "      <td id=\"T_bd872_row0_col2\" class=\"data row0 col2\" >40</td>\n",
              "    </tr>\n",
              "    <tr>\n",
              "      <td id=\"T_bd872_row1_col0\" class=\"data row1 col0\" >Khan</td>\n",
              "      <td id=\"T_bd872_row1_col1\" class=\"data row1 col1\" >Manager</td>\n",
              "      <td id=\"T_bd872_row1_col2\" class=\"data row1 col2\" >20</td>\n",
              "    </tr>\n",
              "    <tr>\n",
              "      <td id=\"T_bd872_row2_col0\" class=\"data row2 col0\" >Dravid</td>\n",
              "      <td id=\"T_bd872_row2_col1\" class=\"data row2 col1\" >Sr Manager</td>\n",
              "      <td id=\"T_bd872_row2_col2\" class=\"data row2 col2\" >30</td>\n",
              "    </tr>\n",
              "    <tr>\n",
              "      <td id=\"T_bd872_row3_col0\" class=\"data row3 col0\" >Sunil</td>\n",
              "      <td id=\"T_bd872_row3_col1\" class=\"data row3 col1\" >Dy Manager</td>\n",
              "      <td id=\"T_bd872_row3_col2\" class=\"data row3 col2\" >70</td>\n",
              "    </tr>\n",
              "  </tbody>\n",
              "</table>\n"
            ]
          },
          "metadata": {},
          "execution_count": 32
        }
      ]
    },
    {
      "cell_type": "code",
      "source": [
        "runSelect(\"select lastname, jobdesc, deptid from empl where deptid = '70' or jobdesc like '%Manager' or lastname = 'Dikshit'\")"
      ],
      "metadata": {
        "colab": {
          "base_uri": "https://localhost:8080/",
          "height": 206
        },
        "id": "aR3eNz7xq8Xo",
        "outputId": "53fedca0-1e65-4537-d4b3-0af7726a8b67"
      },
      "execution_count": 33,
      "outputs": [
        {
          "output_type": "execute_result",
          "data": {
            "text/plain": [
              "<pandas.io.formats.style.Styler at 0x7a6aa6cfbd60>"
            ],
            "text/html": [
              "<style type=\"text/css\">\n",
              "</style>\n",
              "<table id=\"T_95870\" class=\"dataframe\">\n",
              "  <thead>\n",
              "    <tr>\n",
              "      <th id=\"T_95870_level0_col0\" class=\"col_heading level0 col0\" >lastname</th>\n",
              "      <th id=\"T_95870_level0_col1\" class=\"col_heading level0 col1\" >jobdesc</th>\n",
              "      <th id=\"T_95870_level0_col2\" class=\"col_heading level0 col2\" >deptid</th>\n",
              "    </tr>\n",
              "  </thead>\n",
              "  <tbody>\n",
              "    <tr>\n",
              "      <td id=\"T_95870_row0_col0\" class=\"data row0 col0\" >Mukherjee</td>\n",
              "      <td id=\"T_95870_row0_col1\" class=\"data row0 col1\" >Manager</td>\n",
              "      <td id=\"T_95870_row0_col2\" class=\"data row0 col2\" >40</td>\n",
              "    </tr>\n",
              "    <tr>\n",
              "      <td id=\"T_95870_row1_col0\" class=\"data row1 col0\" >Dikshit</td>\n",
              "      <td id=\"T_95870_row1_col1\" class=\"data row1 col1\" >Clerk</td>\n",
              "      <td id=\"T_95870_row1_col2\" class=\"data row1 col2\" >20</td>\n",
              "    </tr>\n",
              "    <tr>\n",
              "      <td id=\"T_95870_row2_col0\" class=\"data row2 col0\" >Khan</td>\n",
              "      <td id=\"T_95870_row2_col1\" class=\"data row2 col1\" >Manager</td>\n",
              "      <td id=\"T_95870_row2_col2\" class=\"data row2 col2\" >20</td>\n",
              "    </tr>\n",
              "    <tr>\n",
              "      <td id=\"T_95870_row3_col0\" class=\"data row3 col0\" >Dravid</td>\n",
              "      <td id=\"T_95870_row3_col1\" class=\"data row3 col1\" >Sr Manager</td>\n",
              "      <td id=\"T_95870_row3_col2\" class=\"data row3 col2\" >30</td>\n",
              "    </tr>\n",
              "    <tr>\n",
              "      <td id=\"T_95870_row4_col0\" class=\"data row4 col0\" >Sunil</td>\n",
              "      <td id=\"T_95870_row4_col1\" class=\"data row4 col1\" >Dy Manager</td>\n",
              "      <td id=\"T_95870_row4_col2\" class=\"data row4 col2\" >70</td>\n",
              "    </tr>\n",
              "  </tbody>\n",
              "</table>\n"
            ]
          },
          "metadata": {},
          "execution_count": 33
        }
      ]
    },
    {
      "cell_type": "code",
      "source": [
        "runSelect(\"select lastname, jobdesc, salary from empl where jobdesc = 'Cus_Rep' or jobdesc = 'Clerk' and salary < 16000\")"
      ],
      "metadata": {
        "colab": {
          "base_uri": "https://localhost:8080/",
          "height": 238
        },
        "id": "Ov0HErC0txm4",
        "outputId": "d7ede587-b6c8-4fbf-8938-9b915e275037"
      },
      "execution_count": 34,
      "outputs": [
        {
          "output_type": "execute_result",
          "data": {
            "text/plain": [
              "<pandas.io.formats.style.Styler at 0x7a6aa6cbb610>"
            ],
            "text/html": [
              "<style type=\"text/css\">\n",
              "</style>\n",
              "<table id=\"T_6cdf1\" class=\"dataframe\">\n",
              "  <thead>\n",
              "    <tr>\n",
              "      <th id=\"T_6cdf1_level0_col0\" class=\"col_heading level0 col0\" >lastname</th>\n",
              "      <th id=\"T_6cdf1_level0_col1\" class=\"col_heading level0 col1\" >jobdesc</th>\n",
              "      <th id=\"T_6cdf1_level0_col2\" class=\"col_heading level0 col2\" >salary</th>\n",
              "    </tr>\n",
              "  </thead>\n",
              "  <tbody>\n",
              "    <tr>\n",
              "      <td id=\"T_6cdf1_row0_col0\" class=\"data row0 col0\" >Dikshit</td>\n",
              "      <td id=\"T_6cdf1_row0_col1\" class=\"data row0 col1\" >Clerk</td>\n",
              "      <td id=\"T_6cdf1_row0_col2\" class=\"data row0 col2\" >10000</td>\n",
              "    </tr>\n",
              "    <tr>\n",
              "      <td id=\"T_6cdf1_row1_col0\" class=\"data row1 col0\" >Sehwag</td>\n",
              "      <td id=\"T_6cdf1_row1_col1\" class=\"data row1 col1\" >Cus_Rep</td>\n",
              "      <td id=\"T_6cdf1_row1_col2\" class=\"data row1 col2\" >15000</td>\n",
              "    </tr>\n",
              "    <tr>\n",
              "      <td id=\"T_6cdf1_row2_col0\" class=\"data row2 col0\" >Dhoni</td>\n",
              "      <td id=\"T_6cdf1_row2_col1\" class=\"data row2 col1\" >Clerk</td>\n",
              "      <td id=\"T_6cdf1_row2_col2\" class=\"data row2 col2\" >9000</td>\n",
              "    </tr>\n",
              "    <tr>\n",
              "      <td id=\"T_6cdf1_row3_col0\" class=\"data row3 col0\" >Dalmia</td>\n",
              "      <td id=\"T_6cdf1_row3_col1\" class=\"data row3 col1\" >Clerk</td>\n",
              "      <td id=\"T_6cdf1_row3_col2\" class=\"data row3 col2\" >12000</td>\n",
              "    </tr>\n",
              "    <tr>\n",
              "      <td id=\"T_6cdf1_row4_col0\" class=\"data row4 col0\" >Ganguly</td>\n",
              "      <td id=\"T_6cdf1_row4_col1\" class=\"data row4 col1\" >Cus_Rep</td>\n",
              "      <td id=\"T_6cdf1_row4_col2\" class=\"data row4 col2\" >20000</td>\n",
              "    </tr>\n",
              "    <tr>\n",
              "      <td id=\"T_6cdf1_row5_col0\" class=\"data row5 col0\" >Mirza</td>\n",
              "      <td id=\"T_6cdf1_row5_col1\" class=\"data row5 col1\" >Cus_Rep</td>\n",
              "      <td id=\"T_6cdf1_row5_col2\" class=\"data row5 col2\" >25000</td>\n",
              "    </tr>\n",
              "  </tbody>\n",
              "</table>\n"
            ]
          },
          "metadata": {},
          "execution_count": 34
        }
      ]
    },
    {
      "cell_type": "code",
      "source": [
        "runSelect(\"select lastname, jobdesc, salary from empl where (jobdesc = 'Cus_Rep' or jobdesc = 'Clerk') and salary < 16000\")"
      ],
      "metadata": {
        "colab": {
          "base_uri": "https://localhost:8080/",
          "height": 175
        },
        "id": "g7hbzjdxuOt6",
        "outputId": "3f978ebf-344b-443d-85ec-873e40407b17"
      },
      "execution_count": 35,
      "outputs": [
        {
          "output_type": "execute_result",
          "data": {
            "text/plain": [
              "<pandas.io.formats.style.Styler at 0x7a6aa6cbb940>"
            ],
            "text/html": [
              "<style type=\"text/css\">\n",
              "</style>\n",
              "<table id=\"T_03775\" class=\"dataframe\">\n",
              "  <thead>\n",
              "    <tr>\n",
              "      <th id=\"T_03775_level0_col0\" class=\"col_heading level0 col0\" >lastname</th>\n",
              "      <th id=\"T_03775_level0_col1\" class=\"col_heading level0 col1\" >jobdesc</th>\n",
              "      <th id=\"T_03775_level0_col2\" class=\"col_heading level0 col2\" >salary</th>\n",
              "    </tr>\n",
              "  </thead>\n",
              "  <tbody>\n",
              "    <tr>\n",
              "      <td id=\"T_03775_row0_col0\" class=\"data row0 col0\" >Dikshit</td>\n",
              "      <td id=\"T_03775_row0_col1\" class=\"data row0 col1\" >Clerk</td>\n",
              "      <td id=\"T_03775_row0_col2\" class=\"data row0 col2\" >10000</td>\n",
              "    </tr>\n",
              "    <tr>\n",
              "      <td id=\"T_03775_row1_col0\" class=\"data row1 col0\" >Sehwag</td>\n",
              "      <td id=\"T_03775_row1_col1\" class=\"data row1 col1\" >Cus_Rep</td>\n",
              "      <td id=\"T_03775_row1_col2\" class=\"data row1 col2\" >15000</td>\n",
              "    </tr>\n",
              "    <tr>\n",
              "      <td id=\"T_03775_row2_col0\" class=\"data row2 col0\" >Dhoni</td>\n",
              "      <td id=\"T_03775_row2_col1\" class=\"data row2 col1\" >Clerk</td>\n",
              "      <td id=\"T_03775_row2_col2\" class=\"data row2 col2\" >9000</td>\n",
              "    </tr>\n",
              "    <tr>\n",
              "      <td id=\"T_03775_row3_col0\" class=\"data row3 col0\" >Dalmia</td>\n",
              "      <td id=\"T_03775_row3_col1\" class=\"data row3 col1\" >Clerk</td>\n",
              "      <td id=\"T_03775_row3_col2\" class=\"data row3 col2\" >12000</td>\n",
              "    </tr>\n",
              "  </tbody>\n",
              "</table>\n"
            ]
          },
          "metadata": {},
          "execution_count": 35
        }
      ]
    },
    {
      "cell_type": "markdown",
      "source": [
        "# Single Row Functions"
      ],
      "metadata": {
        "id": "ND-8LYQcxsG2"
      }
    },
    {
      "cell_type": "code",
      "source": [
        "runSelect(\"select lastname, deptid, salary, comm, salary+salary*comm payout from empl where deptid = '20'\")"
      ],
      "metadata": {
        "colab": {
          "base_uri": "https://localhost:8080/",
          "height": 143
        },
        "id": "s71weE_hyDwf",
        "outputId": "1dd8b5dd-5545-496e-efba-e318922f4726"
      },
      "execution_count": 36,
      "outputs": [
        {
          "output_type": "execute_result",
          "data": {
            "text/plain": [
              "<pandas.io.formats.style.Styler at 0x7a6aa6cbb730>"
            ],
            "text/html": [
              "<style type=\"text/css\">\n",
              "</style>\n",
              "<table id=\"T_d5d25\" class=\"dataframe\">\n",
              "  <thead>\n",
              "    <tr>\n",
              "      <th id=\"T_d5d25_level0_col0\" class=\"col_heading level0 col0\" >lastname</th>\n",
              "      <th id=\"T_d5d25_level0_col1\" class=\"col_heading level0 col1\" >deptid</th>\n",
              "      <th id=\"T_d5d25_level0_col2\" class=\"col_heading level0 col2\" >salary</th>\n",
              "      <th id=\"T_d5d25_level0_col3\" class=\"col_heading level0 col3\" >comm</th>\n",
              "      <th id=\"T_d5d25_level0_col4\" class=\"col_heading level0 col4\" >payout</th>\n",
              "    </tr>\n",
              "  </thead>\n",
              "  <tbody>\n",
              "    <tr>\n",
              "      <td id=\"T_d5d25_row0_col0\" class=\"data row0 col0\" >Dikshit</td>\n",
              "      <td id=\"T_d5d25_row0_col1\" class=\"data row0 col1\" >20</td>\n",
              "      <td id=\"T_d5d25_row0_col2\" class=\"data row0 col2\" >10000</td>\n",
              "      <td id=\"T_d5d25_row0_col3\" class=\"data row0 col3\" >0.02</td>\n",
              "      <td id=\"T_d5d25_row0_col4\" class=\"data row0 col4\" >10200.00</td>\n",
              "    </tr>\n",
              "    <tr>\n",
              "      <td id=\"T_d5d25_row1_col0\" class=\"data row1 col0\" >Khan</td>\n",
              "      <td id=\"T_d5d25_row1_col1\" class=\"data row1 col1\" >20</td>\n",
              "      <td id=\"T_d5d25_row1_col2\" class=\"data row1 col2\" >30000</td>\n",
              "      <td id=\"T_d5d25_row1_col3\" class=\"data row1 col3\" >0.07</td>\n",
              "      <td id=\"T_d5d25_row1_col4\" class=\"data row1 col4\" >32100.00</td>\n",
              "    </tr>\n",
              "    <tr>\n",
              "      <td id=\"T_d5d25_row2_col0\" class=\"data row2 col0\" >Sehwag</td>\n",
              "      <td id=\"T_d5d25_row2_col1\" class=\"data row2 col1\" >20</td>\n",
              "      <td id=\"T_d5d25_row2_col2\" class=\"data row2 col2\" >15000</td>\n",
              "      <td id=\"T_d5d25_row2_col3\" class=\"data row2 col3\" >0.05</td>\n",
              "      <td id=\"T_d5d25_row2_col4\" class=\"data row2 col4\" >15750.00</td>\n",
              "    </tr>\n",
              "  </tbody>\n",
              "</table>\n"
            ]
          },
          "metadata": {},
          "execution_count": 36
        }
      ]
    },
    {
      "cell_type": "code",
      "source": [
        "runSelect(\"select lastname, firstname, deptid, substring(firstname,1,3) nick from empl where deptid = '20'\")"
      ],
      "metadata": {
        "colab": {
          "base_uri": "https://localhost:8080/",
          "height": 143
        },
        "id": "I3rkoZrYyb_P",
        "outputId": "bdb14ec5-cf91-42af-e810-ea47b44b7ae4"
      },
      "execution_count": 37,
      "outputs": [
        {
          "output_type": "execute_result",
          "data": {
            "text/plain": [
              "<pandas.io.formats.style.Styler at 0x7a6aa6b4b340>"
            ],
            "text/html": [
              "<style type=\"text/css\">\n",
              "</style>\n",
              "<table id=\"T_47545\" class=\"dataframe\">\n",
              "  <thead>\n",
              "    <tr>\n",
              "      <th id=\"T_47545_level0_col0\" class=\"col_heading level0 col0\" >lastname</th>\n",
              "      <th id=\"T_47545_level0_col1\" class=\"col_heading level0 col1\" >firstname</th>\n",
              "      <th id=\"T_47545_level0_col2\" class=\"col_heading level0 col2\" >deptid</th>\n",
              "      <th id=\"T_47545_level0_col3\" class=\"col_heading level0 col3\" >nick</th>\n",
              "    </tr>\n",
              "  </thead>\n",
              "  <tbody>\n",
              "    <tr>\n",
              "      <td id=\"T_47545_row0_col0\" class=\"data row0 col0\" >Dikshit</td>\n",
              "      <td id=\"T_47545_row0_col1\" class=\"data row0 col1\" >Madhuri</td>\n",
              "      <td id=\"T_47545_row0_col2\" class=\"data row0 col2\" >20</td>\n",
              "      <td id=\"T_47545_row0_col3\" class=\"data row0 col3\" >Mad</td>\n",
              "    </tr>\n",
              "    <tr>\n",
              "      <td id=\"T_47545_row1_col0\" class=\"data row1 col0\" >Khan</td>\n",
              "      <td id=\"T_47545_row1_col1\" class=\"data row1 col1\" >Shahrukh</td>\n",
              "      <td id=\"T_47545_row1_col2\" class=\"data row1 col2\" >20</td>\n",
              "      <td id=\"T_47545_row1_col3\" class=\"data row1 col3\" >Sha</td>\n",
              "    </tr>\n",
              "    <tr>\n",
              "      <td id=\"T_47545_row2_col0\" class=\"data row2 col0\" >Sehwag</td>\n",
              "      <td id=\"T_47545_row2_col1\" class=\"data row2 col1\" >Virender</td>\n",
              "      <td id=\"T_47545_row2_col2\" class=\"data row2 col2\" >20</td>\n",
              "      <td id=\"T_47545_row2_col3\" class=\"data row2 col3\" >Vir</td>\n",
              "    </tr>\n",
              "  </tbody>\n",
              "</table>\n"
            ]
          },
          "metadata": {},
          "execution_count": 37
        }
      ]
    },
    {
      "cell_type": "code",
      "source": [
        "runSelect(\"select lastname, firstname, deptid, concat('\\\"',substring(firstname,2,3),'\\\" ',lastname) nick from empl where deptid = '20'\")"
      ],
      "metadata": {
        "colab": {
          "base_uri": "https://localhost:8080/",
          "height": 143
        },
        "id": "xNQl1KpSzIQc",
        "outputId": "68e290ab-de21-41eb-ec22-01e8b4e43936"
      },
      "execution_count": 38,
      "outputs": [
        {
          "output_type": "execute_result",
          "data": {
            "text/plain": [
              "<pandas.io.formats.style.Styler at 0x7a6aa6b4b220>"
            ],
            "text/html": [
              "<style type=\"text/css\">\n",
              "</style>\n",
              "<table id=\"T_36b88\" class=\"dataframe\">\n",
              "  <thead>\n",
              "    <tr>\n",
              "      <th id=\"T_36b88_level0_col0\" class=\"col_heading level0 col0\" >lastname</th>\n",
              "      <th id=\"T_36b88_level0_col1\" class=\"col_heading level0 col1\" >firstname</th>\n",
              "      <th id=\"T_36b88_level0_col2\" class=\"col_heading level0 col2\" >deptid</th>\n",
              "      <th id=\"T_36b88_level0_col3\" class=\"col_heading level0 col3\" >nick</th>\n",
              "    </tr>\n",
              "  </thead>\n",
              "  <tbody>\n",
              "    <tr>\n",
              "      <td id=\"T_36b88_row0_col0\" class=\"data row0 col0\" >Dikshit</td>\n",
              "      <td id=\"T_36b88_row0_col1\" class=\"data row0 col1\" >Madhuri</td>\n",
              "      <td id=\"T_36b88_row0_col2\" class=\"data row0 col2\" >20</td>\n",
              "      <td id=\"T_36b88_row0_col3\" class=\"data row0 col3\" >\"adh\" Dikshit</td>\n",
              "    </tr>\n",
              "    <tr>\n",
              "      <td id=\"T_36b88_row1_col0\" class=\"data row1 col0\" >Khan</td>\n",
              "      <td id=\"T_36b88_row1_col1\" class=\"data row1 col1\" >Shahrukh</td>\n",
              "      <td id=\"T_36b88_row1_col2\" class=\"data row1 col2\" >20</td>\n",
              "      <td id=\"T_36b88_row1_col3\" class=\"data row1 col3\" >\"hah\" Khan</td>\n",
              "    </tr>\n",
              "    <tr>\n",
              "      <td id=\"T_36b88_row2_col0\" class=\"data row2 col0\" >Sehwag</td>\n",
              "      <td id=\"T_36b88_row2_col1\" class=\"data row2 col1\" >Virender</td>\n",
              "      <td id=\"T_36b88_row2_col2\" class=\"data row2 col2\" >20</td>\n",
              "      <td id=\"T_36b88_row2_col3\" class=\"data row2 col3\" >\"ire\" Sehwag</td>\n",
              "    </tr>\n",
              "  </tbody>\n",
              "</table>\n"
            ]
          },
          "metadata": {},
          "execution_count": 38
        }
      ]
    },
    {
      "cell_type": "code",
      "source": [
        "runSelect(\"select LastName, Current_Date,JoinDate, to_char(JoinDate,'Day') JoinDay, to_char(JoinDate,'DD-mon-YY') JoinDate2, \\\n",
        "Current_Date-JoinDate DaysSince from Empl\")\n",
        "\n",
        "#https://blog.quest.com/exploring-postgres-date-formats-and-their-different-functions/\n"
      ],
      "metadata": {
        "id": "37Rjgkxz-BP0",
        "outputId": "c334b3cb-a5ed-4ca8-a903-081436fe299a",
        "colab": {
          "base_uri": "https://localhost:8080/",
          "height": 457
        }
      },
      "execution_count": 39,
      "outputs": [
        {
          "output_type": "execute_result",
          "data": {
            "text/plain": [
              "<pandas.io.formats.style.Styler at 0x7a6addff3c10>"
            ],
            "text/html": [
              "<style type=\"text/css\">\n",
              "</style>\n",
              "<table id=\"T_44951\" class=\"dataframe\">\n",
              "  <thead>\n",
              "    <tr>\n",
              "      <th id=\"T_44951_level0_col0\" class=\"col_heading level0 col0\" >lastname</th>\n",
              "      <th id=\"T_44951_level0_col1\" class=\"col_heading level0 col1\" >current_date</th>\n",
              "      <th id=\"T_44951_level0_col2\" class=\"col_heading level0 col2\" >joindate</th>\n",
              "      <th id=\"T_44951_level0_col3\" class=\"col_heading level0 col3\" >joinday</th>\n",
              "      <th id=\"T_44951_level0_col4\" class=\"col_heading level0 col4\" >joindate2</th>\n",
              "      <th id=\"T_44951_level0_col5\" class=\"col_heading level0 col5\" >dayssince</th>\n",
              "    </tr>\n",
              "  </thead>\n",
              "  <tbody>\n",
              "    <tr>\n",
              "      <td id=\"T_44951_row0_col0\" class=\"data row0 col0\" >Bacchan</td>\n",
              "      <td id=\"T_44951_row0_col1\" class=\"data row0 col1\" >2024-03-03</td>\n",
              "      <td id=\"T_44951_row0_col2\" class=\"data row0 col2\" >2003-03-10</td>\n",
              "      <td id=\"T_44951_row0_col3\" class=\"data row0 col3\" >Monday   </td>\n",
              "      <td id=\"T_44951_row0_col4\" class=\"data row0 col4\" >10-mar-03</td>\n",
              "      <td id=\"T_44951_row0_col5\" class=\"data row0 col5\" >7664</td>\n",
              "    </tr>\n",
              "    <tr>\n",
              "      <td id=\"T_44951_row1_col0\" class=\"data row1 col0\" >Mukherjee</td>\n",
              "      <td id=\"T_44951_row1_col1\" class=\"data row1 col1\" >2024-03-03</td>\n",
              "      <td id=\"T_44951_row1_col2\" class=\"data row1 col2\" >2005-05-04</td>\n",
              "      <td id=\"T_44951_row1_col3\" class=\"data row1 col3\" >Wednesday</td>\n",
              "      <td id=\"T_44951_row1_col4\" class=\"data row1 col4\" >04-may-05</td>\n",
              "      <td id=\"T_44951_row1_col5\" class=\"data row1 col5\" >6878</td>\n",
              "    </tr>\n",
              "    <tr>\n",
              "      <td id=\"T_44951_row2_col0\" class=\"data row2 col0\" >Dikshit</td>\n",
              "      <td id=\"T_44951_row2_col1\" class=\"data row2 col1\" >2024-03-03</td>\n",
              "      <td id=\"T_44951_row2_col2\" class=\"data row2 col2\" >2002-04-04</td>\n",
              "      <td id=\"T_44951_row2_col3\" class=\"data row2 col3\" >Thursday </td>\n",
              "      <td id=\"T_44951_row2_col4\" class=\"data row2 col4\" >04-apr-02</td>\n",
              "      <td id=\"T_44951_row2_col5\" class=\"data row2 col5\" >8004</td>\n",
              "    </tr>\n",
              "    <tr>\n",
              "      <td id=\"T_44951_row3_col0\" class=\"data row3 col0\" >Khan</td>\n",
              "      <td id=\"T_44951_row3_col1\" class=\"data row3 col1\" >2024-03-03</td>\n",
              "      <td id=\"T_44951_row3_col2\" class=\"data row3 col2\" >2004-01-03</td>\n",
              "      <td id=\"T_44951_row3_col3\" class=\"data row3 col3\" >Saturday </td>\n",
              "      <td id=\"T_44951_row3_col4\" class=\"data row3 col4\" >03-jan-04</td>\n",
              "      <td id=\"T_44951_row3_col5\" class=\"data row3 col5\" >7365</td>\n",
              "    </tr>\n",
              "    <tr>\n",
              "      <td id=\"T_44951_row4_col0\" class=\"data row4 col0\" >Sehwag</td>\n",
              "      <td id=\"T_44951_row4_col1\" class=\"data row4 col1\" >2024-03-03</td>\n",
              "      <td id=\"T_44951_row4_col2\" class=\"data row4 col2\" >2005-01-02</td>\n",
              "      <td id=\"T_44951_row4_col3\" class=\"data row4 col3\" >Sunday   </td>\n",
              "      <td id=\"T_44951_row4_col4\" class=\"data row4 col4\" >02-jan-05</td>\n",
              "      <td id=\"T_44951_row4_col5\" class=\"data row4 col5\" >7000</td>\n",
              "    </tr>\n",
              "    <tr>\n",
              "      <td id=\"T_44951_row5_col0\" class=\"data row5 col0\" >Dhoni</td>\n",
              "      <td id=\"T_44951_row5_col1\" class=\"data row5 col1\" >2024-03-03</td>\n",
              "      <td id=\"T_44951_row5_col2\" class=\"data row5 col2\" >2004-10-09</td>\n",
              "      <td id=\"T_44951_row5_col3\" class=\"data row5 col3\" >Saturday </td>\n",
              "      <td id=\"T_44951_row5_col4\" class=\"data row5 col4\" >09-oct-04</td>\n",
              "      <td id=\"T_44951_row5_col5\" class=\"data row5 col5\" >7085</td>\n",
              "    </tr>\n",
              "    <tr>\n",
              "      <td id=\"T_44951_row6_col0\" class=\"data row6 col0\" >Dravid</td>\n",
              "      <td id=\"T_44951_row6_col1\" class=\"data row6 col1\" >2024-03-03</td>\n",
              "      <td id=\"T_44951_row6_col2\" class=\"data row6 col2\" >2000-06-04</td>\n",
              "      <td id=\"T_44951_row6_col3\" class=\"data row6 col3\" >Sunday   </td>\n",
              "      <td id=\"T_44951_row6_col4\" class=\"data row6 col4\" >04-jun-00</td>\n",
              "      <td id=\"T_44951_row6_col5\" class=\"data row6 col5\" >8673</td>\n",
              "    </tr>\n",
              "    <tr>\n",
              "      <td id=\"T_44951_row7_col0\" class=\"data row7 col0\" >Dalmia</td>\n",
              "      <td id=\"T_44951_row7_col1\" class=\"data row7 col1\" >2024-03-03</td>\n",
              "      <td id=\"T_44951_row7_col2\" class=\"data row7 col2\" >2001-07-01</td>\n",
              "      <td id=\"T_44951_row7_col3\" class=\"data row7 col3\" >Sunday   </td>\n",
              "      <td id=\"T_44951_row7_col4\" class=\"data row7 col4\" >01-jul-01</td>\n",
              "      <td id=\"T_44951_row7_col5\" class=\"data row7 col5\" >8281</td>\n",
              "    </tr>\n",
              "    <tr>\n",
              "      <td id=\"T_44951_row8_col0\" class=\"data row8 col0\" >Ganguly</td>\n",
              "      <td id=\"T_44951_row8_col1\" class=\"data row8 col1\" >2024-03-03</td>\n",
              "      <td id=\"T_44951_row8_col2\" class=\"data row8 col2\" >2002-01-01</td>\n",
              "      <td id=\"T_44951_row8_col3\" class=\"data row8 col3\" >Tuesday  </td>\n",
              "      <td id=\"T_44951_row8_col4\" class=\"data row8 col4\" >01-jan-02</td>\n",
              "      <td id=\"T_44951_row8_col5\" class=\"data row8 col5\" >8097</td>\n",
              "    </tr>\n",
              "    <tr>\n",
              "      <td id=\"T_44951_row9_col0\" class=\"data row9 col0\" >Ganesan</td>\n",
              "      <td id=\"T_44951_row9_col1\" class=\"data row9 col1\" >2024-03-03</td>\n",
              "      <td id=\"T_44951_row9_col2\" class=\"data row9 col2\" >2002-10-10</td>\n",
              "      <td id=\"T_44951_row9_col3\" class=\"data row9 col3\" >Thursday </td>\n",
              "      <td id=\"T_44951_row9_col4\" class=\"data row9 col4\" >10-oct-02</td>\n",
              "      <td id=\"T_44951_row9_col5\" class=\"data row9 col5\" >7815</td>\n",
              "    </tr>\n",
              "    <tr>\n",
              "      <td id=\"T_44951_row10_col0\" class=\"data row10 col0\" >Karthikeyan</td>\n",
              "      <td id=\"T_44951_row10_col1\" class=\"data row10 col1\" >2024-03-03</td>\n",
              "      <td id=\"T_44951_row10_col2\" class=\"data row10 col2\" >2005-12-04</td>\n",
              "      <td id=\"T_44951_row10_col3\" class=\"data row10 col3\" >Sunday   </td>\n",
              "      <td id=\"T_44951_row10_col4\" class=\"data row10 col4\" >04-dec-05</td>\n",
              "      <td id=\"T_44951_row10_col5\" class=\"data row10 col5\" >6664</td>\n",
              "    </tr>\n",
              "    <tr>\n",
              "      <td id=\"T_44951_row11_col0\" class=\"data row11 col0\" >Sunil</td>\n",
              "      <td id=\"T_44951_row11_col1\" class=\"data row11 col1\" >2024-03-03</td>\n",
              "      <td id=\"T_44951_row11_col2\" class=\"data row11 col2\" >2006-12-07</td>\n",
              "      <td id=\"T_44951_row11_col3\" class=\"data row11 col3\" >Thursday </td>\n",
              "      <td id=\"T_44951_row11_col4\" class=\"data row11 col4\" >07-dec-06</td>\n",
              "      <td id=\"T_44951_row11_col5\" class=\"data row11 col5\" >6296</td>\n",
              "    </tr>\n",
              "    <tr>\n",
              "      <td id=\"T_44951_row12_col0\" class=\"data row12 col0\" >Mirza</td>\n",
              "      <td id=\"T_44951_row12_col1\" class=\"data row12 col1\" >2024-03-03</td>\n",
              "      <td id=\"T_44951_row12_col2\" class=\"data row12 col2\" >2001-11-19</td>\n",
              "      <td id=\"T_44951_row12_col3\" class=\"data row12 col3\" >Monday   </td>\n",
              "      <td id=\"T_44951_row12_col4\" class=\"data row12 col4\" >19-nov-01</td>\n",
              "      <td id=\"T_44951_row12_col5\" class=\"data row12 col5\" >8140</td>\n",
              "    </tr>\n",
              "  </tbody>\n",
              "</table>\n"
            ]
          },
          "metadata": {},
          "execution_count": 39
        }
      ]
    },
    {
      "cell_type": "markdown",
      "source": [
        "# MultiRow Function | Group By | Having\n",
        "for more complex examples that demonstrate Grouping Sets, Cubes, Roll UP, Crosstabs and other OLAP related SQL see [this notebook](https://github.com/Praxis-QR/RDWH/blob/main/PostgreSQL_03B_SQL_Level2.ipynb)"
      ],
      "metadata": {
        "id": "ONgFWUTC2IPK"
      }
    },
    {
      "cell_type": "code",
      "source": [
        "runSelect(\"select sum(salary) Total_Salary from empl\")"
      ],
      "metadata": {
        "colab": {
          "base_uri": "https://localhost:8080/",
          "height": 81
        },
        "id": "7MnnzfJx2PSc",
        "outputId": "2f2f3404-5c6f-4505-f8ee-3216a3ffe43f"
      },
      "execution_count": 40,
      "outputs": [
        {
          "output_type": "execute_result",
          "data": {
            "text/plain": [
              "<pandas.io.formats.style.Styler at 0x7a6aa6b4ac20>"
            ],
            "text/html": [
              "<style type=\"text/css\">\n",
              "</style>\n",
              "<table id=\"T_9b40b\" class=\"dataframe\">\n",
              "  <thead>\n",
              "    <tr>\n",
              "      <th id=\"T_9b40b_level0_col0\" class=\"col_heading level0 col0\" >total_salary</th>\n",
              "    </tr>\n",
              "  </thead>\n",
              "  <tbody>\n",
              "    <tr>\n",
              "      <td id=\"T_9b40b_row0_col0\" class=\"data row0 col0\" >376000</td>\n",
              "    </tr>\n",
              "  </tbody>\n",
              "</table>\n"
            ]
          },
          "metadata": {},
          "execution_count": 40
        }
      ]
    },
    {
      "cell_type": "code",
      "source": [
        "runSelect(\"select round(avg(salary),2) Average_Salary from empl\")"
      ],
      "metadata": {
        "colab": {
          "base_uri": "https://localhost:8080/",
          "height": 81
        },
        "id": "e3Avb-HL4QPD",
        "outputId": "99db7d3b-cfb9-4de1-ce27-92cc2defa94a"
      },
      "execution_count": 41,
      "outputs": [
        {
          "output_type": "execute_result",
          "data": {
            "text/plain": [
              "<pandas.io.formats.style.Styler at 0x7a6aa6b49d80>"
            ],
            "text/html": [
              "<style type=\"text/css\">\n",
              "</style>\n",
              "<table id=\"T_9dd58\" class=\"dataframe\">\n",
              "  <thead>\n",
              "    <tr>\n",
              "      <th id=\"T_9dd58_level0_col0\" class=\"col_heading level0 col0\" >average_salary</th>\n",
              "    </tr>\n",
              "  </thead>\n",
              "  <tbody>\n",
              "    <tr>\n",
              "      <td id=\"T_9dd58_row0_col0\" class=\"data row0 col0\" >28923.08</td>\n",
              "    </tr>\n",
              "  </tbody>\n",
              "</table>\n"
            ]
          },
          "metadata": {},
          "execution_count": 41
        }
      ]
    },
    {
      "cell_type": "code",
      "source": [
        "runSelect(\"select max(salary) Max_Salary from empl\")"
      ],
      "metadata": {
        "colab": {
          "base_uri": "https://localhost:8080/",
          "height": 81
        },
        "id": "Oe1qRQbI4gtY",
        "outputId": "0128147e-0f33-4453-e8ab-315f1a610c47"
      },
      "execution_count": 42,
      "outputs": [
        {
          "output_type": "execute_result",
          "data": {
            "text/plain": [
              "<pandas.io.formats.style.Styler at 0x7a6aa6b4a290>"
            ],
            "text/html": [
              "<style type=\"text/css\">\n",
              "</style>\n",
              "<table id=\"T_0d4a3\" class=\"dataframe\">\n",
              "  <thead>\n",
              "    <tr>\n",
              "      <th id=\"T_0d4a3_level0_col0\" class=\"col_heading level0 col0\" >max_salary</th>\n",
              "    </tr>\n",
              "  </thead>\n",
              "  <tbody>\n",
              "    <tr>\n",
              "      <td id=\"T_0d4a3_row0_col0\" class=\"data row0 col0\" >60000</td>\n",
              "    </tr>\n",
              "  </tbody>\n",
              "</table>\n"
            ]
          },
          "metadata": {},
          "execution_count": 42
        }
      ]
    },
    {
      "cell_type": "code",
      "source": [
        "runSelect(\"select deptid, sum(salary) Total, max(salary) Max from empl group by deptid\")"
      ],
      "metadata": {
        "colab": {
          "base_uri": "https://localhost:8080/",
          "height": 206
        },
        "id": "xpmGXSAX69iU",
        "outputId": "59e9b134-6b14-4880-c734-b2850b48e86f"
      },
      "execution_count": 43,
      "outputs": [
        {
          "output_type": "execute_result",
          "data": {
            "text/plain": [
              "<pandas.io.formats.style.Styler at 0x7a6aa6b48b50>"
            ],
            "text/html": [
              "<style type=\"text/css\">\n",
              "</style>\n",
              "<table id=\"T_3bad1\" class=\"dataframe\">\n",
              "  <thead>\n",
              "    <tr>\n",
              "      <th id=\"T_3bad1_level0_col0\" class=\"col_heading level0 col0\" >deptid</th>\n",
              "      <th id=\"T_3bad1_level0_col1\" class=\"col_heading level0 col1\" >total</th>\n",
              "      <th id=\"T_3bad1_level0_col2\" class=\"col_heading level0 col2\" >max</th>\n",
              "    </tr>\n",
              "  </thead>\n",
              "  <tbody>\n",
              "    <tr>\n",
              "      <td id=\"T_3bad1_row0_col0\" class=\"data row0 col0\" >10</td>\n",
              "      <td id=\"T_3bad1_row0_col1\" class=\"data row0 col1\" >150000</td>\n",
              "      <td id=\"T_3bad1_row0_col2\" class=\"data row0 col2\" >60000</td>\n",
              "    </tr>\n",
              "    <tr>\n",
              "      <td id=\"T_3bad1_row1_col0\" class=\"data row1 col0\" >40</td>\n",
              "      <td id=\"T_3bad1_row1_col1\" class=\"data row1 col1\" >54000</td>\n",
              "      <td id=\"T_3bad1_row1_col2\" class=\"data row1 col2\" >25000</td>\n",
              "    </tr>\n",
              "    <tr>\n",
              "      <td id=\"T_3bad1_row2_col0\" class=\"data row2 col0\" >70</td>\n",
              "      <td id=\"T_3bad1_row2_col1\" class=\"data row2 col1\" >40000</td>\n",
              "      <td id=\"T_3bad1_row2_col2\" class=\"data row2 col2\" >40000</td>\n",
              "    </tr>\n",
              "    <tr>\n",
              "      <td id=\"T_3bad1_row3_col0\" class=\"data row3 col0\" >20</td>\n",
              "      <td id=\"T_3bad1_row3_col1\" class=\"data row3 col1\" >55000</td>\n",
              "      <td id=\"T_3bad1_row3_col2\" class=\"data row3 col2\" >30000</td>\n",
              "    </tr>\n",
              "    <tr>\n",
              "      <td id=\"T_3bad1_row4_col0\" class=\"data row4 col0\" >30</td>\n",
              "      <td id=\"T_3bad1_row4_col1\" class=\"data row4 col1\" >77000</td>\n",
              "      <td id=\"T_3bad1_row4_col2\" class=\"data row4 col2\" >40000</td>\n",
              "    </tr>\n",
              "  </tbody>\n",
              "</table>\n"
            ]
          },
          "metadata": {},
          "execution_count": 43
        }
      ]
    },
    {
      "cell_type": "code",
      "source": [
        "runSelect(\"select deptid, sum(salary) Total, max(salary) Max from empl group by deptid having sum(salary) > 50000\")"
      ],
      "metadata": {
        "colab": {
          "base_uri": "https://localhost:8080/",
          "height": 175
        },
        "id": "AdNDutZl7LCF",
        "outputId": "e5c52994-0ea9-46ab-ccf8-a27a49bb5577"
      },
      "execution_count": 44,
      "outputs": [
        {
          "output_type": "execute_result",
          "data": {
            "text/plain": [
              "<pandas.io.formats.style.Styler at 0x7a6aa6bac160>"
            ],
            "text/html": [
              "<style type=\"text/css\">\n",
              "</style>\n",
              "<table id=\"T_b9c31\" class=\"dataframe\">\n",
              "  <thead>\n",
              "    <tr>\n",
              "      <th id=\"T_b9c31_level0_col0\" class=\"col_heading level0 col0\" >deptid</th>\n",
              "      <th id=\"T_b9c31_level0_col1\" class=\"col_heading level0 col1\" >total</th>\n",
              "      <th id=\"T_b9c31_level0_col2\" class=\"col_heading level0 col2\" >max</th>\n",
              "    </tr>\n",
              "  </thead>\n",
              "  <tbody>\n",
              "    <tr>\n",
              "      <td id=\"T_b9c31_row0_col0\" class=\"data row0 col0\" >10</td>\n",
              "      <td id=\"T_b9c31_row0_col1\" class=\"data row0 col1\" >150000</td>\n",
              "      <td id=\"T_b9c31_row0_col2\" class=\"data row0 col2\" >60000</td>\n",
              "    </tr>\n",
              "    <tr>\n",
              "      <td id=\"T_b9c31_row1_col0\" class=\"data row1 col0\" >40</td>\n",
              "      <td id=\"T_b9c31_row1_col1\" class=\"data row1 col1\" >54000</td>\n",
              "      <td id=\"T_b9c31_row1_col2\" class=\"data row1 col2\" >25000</td>\n",
              "    </tr>\n",
              "    <tr>\n",
              "      <td id=\"T_b9c31_row2_col0\" class=\"data row2 col0\" >20</td>\n",
              "      <td id=\"T_b9c31_row2_col1\" class=\"data row2 col1\" >55000</td>\n",
              "      <td id=\"T_b9c31_row2_col2\" class=\"data row2 col2\" >30000</td>\n",
              "    </tr>\n",
              "    <tr>\n",
              "      <td id=\"T_b9c31_row3_col0\" class=\"data row3 col0\" >30</td>\n",
              "      <td id=\"T_b9c31_row3_col1\" class=\"data row3 col1\" >77000</td>\n",
              "      <td id=\"T_b9c31_row3_col2\" class=\"data row3 col2\" >40000</td>\n",
              "    </tr>\n",
              "  </tbody>\n",
              "</table>\n"
            ]
          },
          "metadata": {},
          "execution_count": 44
        }
      ]
    },
    {
      "cell_type": "code",
      "source": [
        "runSelect(\"select deptid, sum(salary) Total, max(salary) Max from empl group by deptid having sum(salary) > 50000 and max(salary) < 35000\")"
      ],
      "metadata": {
        "colab": {
          "base_uri": "https://localhost:8080/",
          "height": 112
        },
        "id": "4VFmL5JF7bYo",
        "outputId": "9e73d75b-917f-4352-8060-9815297b6e63"
      },
      "execution_count": 45,
      "outputs": [
        {
          "output_type": "execute_result",
          "data": {
            "text/plain": [
              "<pandas.io.formats.style.Styler at 0x7a6aa6b485e0>"
            ],
            "text/html": [
              "<style type=\"text/css\">\n",
              "</style>\n",
              "<table id=\"T_e717b\" class=\"dataframe\">\n",
              "  <thead>\n",
              "    <tr>\n",
              "      <th id=\"T_e717b_level0_col0\" class=\"col_heading level0 col0\" >deptid</th>\n",
              "      <th id=\"T_e717b_level0_col1\" class=\"col_heading level0 col1\" >total</th>\n",
              "      <th id=\"T_e717b_level0_col2\" class=\"col_heading level0 col2\" >max</th>\n",
              "    </tr>\n",
              "  </thead>\n",
              "  <tbody>\n",
              "    <tr>\n",
              "      <td id=\"T_e717b_row0_col0\" class=\"data row0 col0\" >40</td>\n",
              "      <td id=\"T_e717b_row0_col1\" class=\"data row0 col1\" >54000</td>\n",
              "      <td id=\"T_e717b_row0_col2\" class=\"data row0 col2\" >25000</td>\n",
              "    </tr>\n",
              "    <tr>\n",
              "      <td id=\"T_e717b_row1_col0\" class=\"data row1 col0\" >20</td>\n",
              "      <td id=\"T_e717b_row1_col1\" class=\"data row1 col1\" >55000</td>\n",
              "      <td id=\"T_e717b_row1_col2\" class=\"data row1 col2\" >30000</td>\n",
              "    </tr>\n",
              "  </tbody>\n",
              "</table>\n"
            ]
          },
          "metadata": {},
          "execution_count": 45
        }
      ]
    },
    {
      "cell_type": "markdown",
      "source": [
        "#Conditionals | CASE"
      ],
      "metadata": {
        "id": "xDsapsK8Afpj"
      }
    },
    {
      "cell_type": "code",
      "source": [
        "runSelect(\"select lastname, jobdesc, salary, comm, salary+salary*comm Payout,\\\n",
        "case when jobdesc like '%Manager' then 2000 else 0 end bonus from empl\")"
      ],
      "metadata": {
        "colab": {
          "base_uri": "https://localhost:8080/",
          "height": 457
        },
        "id": "bYRWDlVNAxKx",
        "outputId": "33913d82-1408-4196-cb5e-35b1a4fd2dad"
      },
      "execution_count": 46,
      "outputs": [
        {
          "output_type": "execute_result",
          "data": {
            "text/plain": [
              "<pandas.io.formats.style.Styler at 0x7a6aa6b48400>"
            ],
            "text/html": [
              "<style type=\"text/css\">\n",
              "</style>\n",
              "<table id=\"T_b1863\" class=\"dataframe\">\n",
              "  <thead>\n",
              "    <tr>\n",
              "      <th id=\"T_b1863_level0_col0\" class=\"col_heading level0 col0\" >lastname</th>\n",
              "      <th id=\"T_b1863_level0_col1\" class=\"col_heading level0 col1\" >jobdesc</th>\n",
              "      <th id=\"T_b1863_level0_col2\" class=\"col_heading level0 col2\" >salary</th>\n",
              "      <th id=\"T_b1863_level0_col3\" class=\"col_heading level0 col3\" >comm</th>\n",
              "      <th id=\"T_b1863_level0_col4\" class=\"col_heading level0 col4\" >payout</th>\n",
              "      <th id=\"T_b1863_level0_col5\" class=\"col_heading level0 col5\" >bonus</th>\n",
              "    </tr>\n",
              "  </thead>\n",
              "  <tbody>\n",
              "    <tr>\n",
              "      <td id=\"T_b1863_row0_col0\" class=\"data row0 col0\" >Bacchan</td>\n",
              "      <td id=\"T_b1863_row0_col1\" class=\"data row0 col1\" >Executive</td>\n",
              "      <td id=\"T_b1863_row0_col2\" class=\"data row0 col2\" >50000</td>\n",
              "      <td id=\"T_b1863_row0_col3\" class=\"data row0 col3\" >0.10</td>\n",
              "      <td id=\"T_b1863_row0_col4\" class=\"data row0 col4\" >55000.00</td>\n",
              "      <td id=\"T_b1863_row0_col5\" class=\"data row0 col5\" >0</td>\n",
              "    </tr>\n",
              "    <tr>\n",
              "      <td id=\"T_b1863_row1_col0\" class=\"data row1 col0\" >Mukherjee</td>\n",
              "      <td id=\"T_b1863_row1_col1\" class=\"data row1 col1\" >Manager</td>\n",
              "      <td id=\"T_b1863_row1_col2\" class=\"data row1 col2\" >25000</td>\n",
              "      <td id=\"T_b1863_row1_col3\" class=\"data row1 col3\" >0.06</td>\n",
              "      <td id=\"T_b1863_row1_col4\" class=\"data row1 col4\" >26500.00</td>\n",
              "      <td id=\"T_b1863_row1_col5\" class=\"data row1 col5\" >2000</td>\n",
              "    </tr>\n",
              "    <tr>\n",
              "      <td id=\"T_b1863_row2_col0\" class=\"data row2 col0\" >Dikshit</td>\n",
              "      <td id=\"T_b1863_row2_col1\" class=\"data row2 col1\" >Clerk</td>\n",
              "      <td id=\"T_b1863_row2_col2\" class=\"data row2 col2\" >10000</td>\n",
              "      <td id=\"T_b1863_row2_col3\" class=\"data row2 col3\" >0.02</td>\n",
              "      <td id=\"T_b1863_row2_col4\" class=\"data row2 col4\" >10200.00</td>\n",
              "      <td id=\"T_b1863_row2_col5\" class=\"data row2 col5\" >0</td>\n",
              "    </tr>\n",
              "    <tr>\n",
              "      <td id=\"T_b1863_row3_col0\" class=\"data row3 col0\" >Khan</td>\n",
              "      <td id=\"T_b1863_row3_col1\" class=\"data row3 col1\" >Manager</td>\n",
              "      <td id=\"T_b1863_row3_col2\" class=\"data row3 col2\" >30000</td>\n",
              "      <td id=\"T_b1863_row3_col3\" class=\"data row3 col3\" >0.07</td>\n",
              "      <td id=\"T_b1863_row3_col4\" class=\"data row3 col4\" >32100.00</td>\n",
              "      <td id=\"T_b1863_row3_col5\" class=\"data row3 col5\" >2000</td>\n",
              "    </tr>\n",
              "    <tr>\n",
              "      <td id=\"T_b1863_row4_col0\" class=\"data row4 col0\" >Sehwag</td>\n",
              "      <td id=\"T_b1863_row4_col1\" class=\"data row4 col1\" >Cus_Rep</td>\n",
              "      <td id=\"T_b1863_row4_col2\" class=\"data row4 col2\" >15000</td>\n",
              "      <td id=\"T_b1863_row4_col3\" class=\"data row4 col3\" >0.05</td>\n",
              "      <td id=\"T_b1863_row4_col4\" class=\"data row4 col4\" >15750.00</td>\n",
              "      <td id=\"T_b1863_row4_col5\" class=\"data row4 col5\" >0</td>\n",
              "    </tr>\n",
              "    <tr>\n",
              "      <td id=\"T_b1863_row5_col0\" class=\"data row5 col0\" >Dhoni</td>\n",
              "      <td id=\"T_b1863_row5_col1\" class=\"data row5 col1\" >Clerk</td>\n",
              "      <td id=\"T_b1863_row5_col2\" class=\"data row5 col2\" >9000</td>\n",
              "      <td id=\"T_b1863_row5_col3\" class=\"data row5 col3\" >0.02</td>\n",
              "      <td id=\"T_b1863_row5_col4\" class=\"data row5 col4\" >9180.00</td>\n",
              "      <td id=\"T_b1863_row5_col5\" class=\"data row5 col5\" >0</td>\n",
              "    </tr>\n",
              "    <tr>\n",
              "      <td id=\"T_b1863_row6_col0\" class=\"data row6 col0\" >Dravid</td>\n",
              "      <td id=\"T_b1863_row6_col1\" class=\"data row6 col1\" >Sr Manager</td>\n",
              "      <td id=\"T_b1863_row6_col2\" class=\"data row6 col2\" >40000</td>\n",
              "      <td id=\"T_b1863_row6_col3\" class=\"data row6 col3\" >0.08</td>\n",
              "      <td id=\"T_b1863_row6_col4\" class=\"data row6 col4\" >43200.00</td>\n",
              "      <td id=\"T_b1863_row6_col5\" class=\"data row6 col5\" >2000</td>\n",
              "    </tr>\n",
              "    <tr>\n",
              "      <td id=\"T_b1863_row7_col0\" class=\"data row7 col0\" >Dalmia</td>\n",
              "      <td id=\"T_b1863_row7_col1\" class=\"data row7 col1\" >Clerk</td>\n",
              "      <td id=\"T_b1863_row7_col2\" class=\"data row7 col2\" >12000</td>\n",
              "      <td id=\"T_b1863_row7_col3\" class=\"data row7 col3\" >0.02</td>\n",
              "      <td id=\"T_b1863_row7_col4\" class=\"data row7 col4\" >12240.00</td>\n",
              "      <td id=\"T_b1863_row7_col5\" class=\"data row7 col5\" >0</td>\n",
              "    </tr>\n",
              "    <tr>\n",
              "      <td id=\"T_b1863_row8_col0\" class=\"data row8 col0\" >Ganguly</td>\n",
              "      <td id=\"T_b1863_row8_col1\" class=\"data row8 col1\" >Cus_Rep</td>\n",
              "      <td id=\"T_b1863_row8_col2\" class=\"data row8 col2\" >20000</td>\n",
              "      <td id=\"T_b1863_row8_col3\" class=\"data row8 col3\" >0.03</td>\n",
              "      <td id=\"T_b1863_row8_col4\" class=\"data row8 col4\" >20600.00</td>\n",
              "      <td id=\"T_b1863_row8_col5\" class=\"data row8 col5\" >0</td>\n",
              "    </tr>\n",
              "    <tr>\n",
              "      <td id=\"T_b1863_row9_col0\" class=\"data row9 col0\" >Ganesan</td>\n",
              "      <td id=\"T_b1863_row9_col1\" class=\"data row9 col1\" >Director</td>\n",
              "      <td id=\"T_b1863_row9_col2\" class=\"data row9 col2\" >60000</td>\n",
              "      <td id=\"T_b1863_row9_col3\" class=\"data row9 col3\" >0.11</td>\n",
              "      <td id=\"T_b1863_row9_col4\" class=\"data row9 col4\" >66600.00</td>\n",
              "      <td id=\"T_b1863_row9_col5\" class=\"data row9 col5\" >0</td>\n",
              "    </tr>\n",
              "    <tr>\n",
              "      <td id=\"T_b1863_row10_col0\" class=\"data row10 col0\" >Karthikeyan</td>\n",
              "      <td id=\"T_b1863_row10_col1\" class=\"data row10 col1\" >Secretary</td>\n",
              "      <td id=\"T_b1863_row10_col2\" class=\"data row10 col2\" >40000</td>\n",
              "      <td id=\"T_b1863_row10_col3\" class=\"data row10 col3\" >0.09</td>\n",
              "      <td id=\"T_b1863_row10_col4\" class=\"data row10 col4\" >43600.00</td>\n",
              "      <td id=\"T_b1863_row10_col5\" class=\"data row10 col5\" >0</td>\n",
              "    </tr>\n",
              "    <tr>\n",
              "      <td id=\"T_b1863_row11_col0\" class=\"data row11 col0\" >Sunil</td>\n",
              "      <td id=\"T_b1863_row11_col1\" class=\"data row11 col1\" >Dy Manager</td>\n",
              "      <td id=\"T_b1863_row11_col2\" class=\"data row11 col2\" >40000</td>\n",
              "      <td id=\"T_b1863_row11_col3\" class=\"data row11 col3\" >0.05</td>\n",
              "      <td id=\"T_b1863_row11_col4\" class=\"data row11 col4\" >42000.00</td>\n",
              "      <td id=\"T_b1863_row11_col5\" class=\"data row11 col5\" >2000</td>\n",
              "    </tr>\n",
              "    <tr>\n",
              "      <td id=\"T_b1863_row12_col0\" class=\"data row12 col0\" >Mirza</td>\n",
              "      <td id=\"T_b1863_row12_col1\" class=\"data row12 col1\" >Cus_Rep</td>\n",
              "      <td id=\"T_b1863_row12_col2\" class=\"data row12 col2\" >25000</td>\n",
              "      <td id=\"T_b1863_row12_col3\" class=\"data row12 col3\" >0.04</td>\n",
              "      <td id=\"T_b1863_row12_col4\" class=\"data row12 col4\" >26000.00</td>\n",
              "      <td id=\"T_b1863_row12_col5\" class=\"data row12 col5\" >0</td>\n",
              "    </tr>\n",
              "  </tbody>\n",
              "</table>\n"
            ]
          },
          "metadata": {},
          "execution_count": 46
        }
      ]
    },
    {
      "cell_type": "code",
      "source": [
        "runSelect(\"select lastname, deptid,\\\n",
        "case \\\n",
        "when deptid in ('10','20') then 'Head' \\\n",
        "when deptid = '30' then 'Regional'\\\n",
        "else 'Branch' \\\n",
        "end \\\n",
        " office from empl\")"
      ],
      "metadata": {
        "colab": {
          "base_uri": "https://localhost:8080/",
          "height": 457
        },
        "id": "jbpKn1y0DwYG",
        "outputId": "524a2cd8-1b5c-49f5-fb58-698ad384da66"
      },
      "execution_count": 47,
      "outputs": [
        {
          "output_type": "execute_result",
          "data": {
            "text/plain": [
              "<pandas.io.formats.style.Styler at 0x7a6aa6badf90>"
            ],
            "text/html": [
              "<style type=\"text/css\">\n",
              "</style>\n",
              "<table id=\"T_6ab05\" class=\"dataframe\">\n",
              "  <thead>\n",
              "    <tr>\n",
              "      <th id=\"T_6ab05_level0_col0\" class=\"col_heading level0 col0\" >lastname</th>\n",
              "      <th id=\"T_6ab05_level0_col1\" class=\"col_heading level0 col1\" >deptid</th>\n",
              "      <th id=\"T_6ab05_level0_col2\" class=\"col_heading level0 col2\" >office</th>\n",
              "    </tr>\n",
              "  </thead>\n",
              "  <tbody>\n",
              "    <tr>\n",
              "      <td id=\"T_6ab05_row0_col0\" class=\"data row0 col0\" >Bacchan</td>\n",
              "      <td id=\"T_6ab05_row0_col1\" class=\"data row0 col1\" >10</td>\n",
              "      <td id=\"T_6ab05_row0_col2\" class=\"data row0 col2\" >Head</td>\n",
              "    </tr>\n",
              "    <tr>\n",
              "      <td id=\"T_6ab05_row1_col0\" class=\"data row1 col0\" >Mukherjee</td>\n",
              "      <td id=\"T_6ab05_row1_col1\" class=\"data row1 col1\" >40</td>\n",
              "      <td id=\"T_6ab05_row1_col2\" class=\"data row1 col2\" >Branch</td>\n",
              "    </tr>\n",
              "    <tr>\n",
              "      <td id=\"T_6ab05_row2_col0\" class=\"data row2 col0\" >Dikshit</td>\n",
              "      <td id=\"T_6ab05_row2_col1\" class=\"data row2 col1\" >20</td>\n",
              "      <td id=\"T_6ab05_row2_col2\" class=\"data row2 col2\" >Head</td>\n",
              "    </tr>\n",
              "    <tr>\n",
              "      <td id=\"T_6ab05_row3_col0\" class=\"data row3 col0\" >Khan</td>\n",
              "      <td id=\"T_6ab05_row3_col1\" class=\"data row3 col1\" >20</td>\n",
              "      <td id=\"T_6ab05_row3_col2\" class=\"data row3 col2\" >Head</td>\n",
              "    </tr>\n",
              "    <tr>\n",
              "      <td id=\"T_6ab05_row4_col0\" class=\"data row4 col0\" >Sehwag</td>\n",
              "      <td id=\"T_6ab05_row4_col1\" class=\"data row4 col1\" >20</td>\n",
              "      <td id=\"T_6ab05_row4_col2\" class=\"data row4 col2\" >Head</td>\n",
              "    </tr>\n",
              "    <tr>\n",
              "      <td id=\"T_6ab05_row5_col0\" class=\"data row5 col0\" >Dhoni</td>\n",
              "      <td id=\"T_6ab05_row5_col1\" class=\"data row5 col1\" >40</td>\n",
              "      <td id=\"T_6ab05_row5_col2\" class=\"data row5 col2\" >Branch</td>\n",
              "    </tr>\n",
              "    <tr>\n",
              "      <td id=\"T_6ab05_row6_col0\" class=\"data row6 col0\" >Dravid</td>\n",
              "      <td id=\"T_6ab05_row6_col1\" class=\"data row6 col1\" >30</td>\n",
              "      <td id=\"T_6ab05_row6_col2\" class=\"data row6 col2\" >Regional</td>\n",
              "    </tr>\n",
              "    <tr>\n",
              "      <td id=\"T_6ab05_row7_col0\" class=\"data row7 col0\" >Dalmia</td>\n",
              "      <td id=\"T_6ab05_row7_col1\" class=\"data row7 col1\" >30</td>\n",
              "      <td id=\"T_6ab05_row7_col2\" class=\"data row7 col2\" >Regional</td>\n",
              "    </tr>\n",
              "    <tr>\n",
              "      <td id=\"T_6ab05_row8_col0\" class=\"data row8 col0\" >Ganguly</td>\n",
              "      <td id=\"T_6ab05_row8_col1\" class=\"data row8 col1\" >40</td>\n",
              "      <td id=\"T_6ab05_row8_col2\" class=\"data row8 col2\" >Branch</td>\n",
              "    </tr>\n",
              "    <tr>\n",
              "      <td id=\"T_6ab05_row9_col0\" class=\"data row9 col0\" >Ganesan</td>\n",
              "      <td id=\"T_6ab05_row9_col1\" class=\"data row9 col1\" >10</td>\n",
              "      <td id=\"T_6ab05_row9_col2\" class=\"data row9 col2\" >Head</td>\n",
              "    </tr>\n",
              "    <tr>\n",
              "      <td id=\"T_6ab05_row10_col0\" class=\"data row10 col0\" >Karthikeyan</td>\n",
              "      <td id=\"T_6ab05_row10_col1\" class=\"data row10 col1\" >10</td>\n",
              "      <td id=\"T_6ab05_row10_col2\" class=\"data row10 col2\" >Head</td>\n",
              "    </tr>\n",
              "    <tr>\n",
              "      <td id=\"T_6ab05_row11_col0\" class=\"data row11 col0\" >Sunil</td>\n",
              "      <td id=\"T_6ab05_row11_col1\" class=\"data row11 col1\" >70</td>\n",
              "      <td id=\"T_6ab05_row11_col2\" class=\"data row11 col2\" >Branch</td>\n",
              "    </tr>\n",
              "    <tr>\n",
              "      <td id=\"T_6ab05_row12_col0\" class=\"data row12 col0\" >Mirza</td>\n",
              "      <td id=\"T_6ab05_row12_col1\" class=\"data row12 col1\" >30</td>\n",
              "      <td id=\"T_6ab05_row12_col2\" class=\"data row12 col2\" >Regional</td>\n",
              "    </tr>\n",
              "  </tbody>\n",
              "</table>\n"
            ]
          },
          "metadata": {},
          "execution_count": 47
        }
      ]
    },
    {
      "cell_type": "markdown",
      "source": [
        "#Join"
      ],
      "metadata": {
        "id": "Rs10ezIPpP0C"
      }
    },
    {
      "cell_type": "markdown",
      "source": [
        "## Basic Inner Join"
      ],
      "metadata": {
        "id": "XMfZP6HUpT4B"
      }
    },
    {
      "cell_type": "code",
      "source": [
        "sql = 'select firstname, lastname, salary, deptname, location, managerid from empl, dept where empl.deptid = dept.deptid'\n",
        "runSelect(sql)"
      ],
      "metadata": {
        "colab": {
          "base_uri": "https://localhost:8080/",
          "height": 426
        },
        "id": "ISiD-VP6pbUz",
        "outputId": "3c704903-fb5b-4315-a73b-fccc1a34f129"
      },
      "execution_count": 48,
      "outputs": [
        {
          "output_type": "execute_result",
          "data": {
            "text/plain": [
              "<pandas.io.formats.style.Styler at 0x7a6aa6bade10>"
            ],
            "text/html": [
              "<style type=\"text/css\">\n",
              "</style>\n",
              "<table id=\"T_0e72c\" class=\"dataframe\">\n",
              "  <thead>\n",
              "    <tr>\n",
              "      <th id=\"T_0e72c_level0_col0\" class=\"col_heading level0 col0\" >firstname</th>\n",
              "      <th id=\"T_0e72c_level0_col1\" class=\"col_heading level0 col1\" >lastname</th>\n",
              "      <th id=\"T_0e72c_level0_col2\" class=\"col_heading level0 col2\" >salary</th>\n",
              "      <th id=\"T_0e72c_level0_col3\" class=\"col_heading level0 col3\" >deptname</th>\n",
              "      <th id=\"T_0e72c_level0_col4\" class=\"col_heading level0 col4\" >location</th>\n",
              "      <th id=\"T_0e72c_level0_col5\" class=\"col_heading level0 col5\" >managerid</th>\n",
              "    </tr>\n",
              "  </thead>\n",
              "  <tbody>\n",
              "    <tr>\n",
              "      <td id=\"T_0e72c_row0_col0\" class=\"data row0 col0\" >Narayan</td>\n",
              "      <td id=\"T_0e72c_row0_col1\" class=\"data row0 col1\" >Karthikeyan</td>\n",
              "      <td id=\"T_0e72c_row0_col2\" class=\"data row0 col2\" >40000</td>\n",
              "      <td id=\"T_0e72c_row0_col3\" class=\"data row0 col3\" >Corporate</td>\n",
              "      <td id=\"T_0e72c_row0_col4\" class=\"data row0 col4\" >Calcutta</td>\n",
              "      <td id=\"T_0e72c_row0_col5\" class=\"data row0 col5\" >299034</td>\n",
              "    </tr>\n",
              "    <tr>\n",
              "      <td id=\"T_0e72c_row1_col0\" class=\"data row1 col0\" >Rekha</td>\n",
              "      <td id=\"T_0e72c_row1_col1\" class=\"data row1 col1\" >Ganesan</td>\n",
              "      <td id=\"T_0e72c_row1_col2\" class=\"data row1 col2\" >60000</td>\n",
              "      <td id=\"T_0e72c_row1_col3\" class=\"data row1 col3\" >Corporate</td>\n",
              "      <td id=\"T_0e72c_row1_col4\" class=\"data row1 col4\" >Calcutta</td>\n",
              "      <td id=\"T_0e72c_row1_col5\" class=\"data row1 col5\" >299034</td>\n",
              "    </tr>\n",
              "    <tr>\n",
              "      <td id=\"T_0e72c_row2_col0\" class=\"data row2 col0\" >Amitabh</td>\n",
              "      <td id=\"T_0e72c_row2_col1\" class=\"data row2 col1\" >Bacchan</td>\n",
              "      <td id=\"T_0e72c_row2_col2\" class=\"data row2 col2\" >50000</td>\n",
              "      <td id=\"T_0e72c_row2_col3\" class=\"data row2 col3\" >Corporate</td>\n",
              "      <td id=\"T_0e72c_row2_col4\" class=\"data row2 col4\" >Calcutta</td>\n",
              "      <td id=\"T_0e72c_row2_col5\" class=\"data row2 col5\" >299034</td>\n",
              "    </tr>\n",
              "    <tr>\n",
              "      <td id=\"T_0e72c_row3_col0\" class=\"data row3 col0\" >Virender</td>\n",
              "      <td id=\"T_0e72c_row3_col1\" class=\"data row3 col1\" >Sehwag</td>\n",
              "      <td id=\"T_0e72c_row3_col2\" class=\"data row3 col2\" >15000</td>\n",
              "      <td id=\"T_0e72c_row3_col3\" class=\"data row3 col3\" >Sales</td>\n",
              "      <td id=\"T_0e72c_row3_col4\" class=\"data row3 col4\" >Calcutta</td>\n",
              "      <td id=\"T_0e72c_row3_col5\" class=\"data row3 col5\" >239456</td>\n",
              "    </tr>\n",
              "    <tr>\n",
              "      <td id=\"T_0e72c_row4_col0\" class=\"data row4 col0\" >Shahrukh</td>\n",
              "      <td id=\"T_0e72c_row4_col1\" class=\"data row4 col1\" >Khan</td>\n",
              "      <td id=\"T_0e72c_row4_col2\" class=\"data row4 col2\" >30000</td>\n",
              "      <td id=\"T_0e72c_row4_col3\" class=\"data row4 col3\" >Sales</td>\n",
              "      <td id=\"T_0e72c_row4_col4\" class=\"data row4 col4\" >Calcutta</td>\n",
              "      <td id=\"T_0e72c_row4_col5\" class=\"data row4 col5\" >239456</td>\n",
              "    </tr>\n",
              "    <tr>\n",
              "      <td id=\"T_0e72c_row5_col0\" class=\"data row5 col0\" >Madhuri</td>\n",
              "      <td id=\"T_0e72c_row5_col1\" class=\"data row5 col1\" >Dikshit</td>\n",
              "      <td id=\"T_0e72c_row5_col2\" class=\"data row5 col2\" >10000</td>\n",
              "      <td id=\"T_0e72c_row5_col3\" class=\"data row5 col3\" >Sales</td>\n",
              "      <td id=\"T_0e72c_row5_col4\" class=\"data row5 col4\" >Calcutta</td>\n",
              "      <td id=\"T_0e72c_row5_col5\" class=\"data row5 col5\" >239456</td>\n",
              "    </tr>\n",
              "    <tr>\n",
              "      <td id=\"T_0e72c_row6_col0\" class=\"data row6 col0\" >Sania</td>\n",
              "      <td id=\"T_0e72c_row6_col1\" class=\"data row6 col1\" >Mirza</td>\n",
              "      <td id=\"T_0e72c_row6_col2\" class=\"data row6 col2\" >25000</td>\n",
              "      <td id=\"T_0e72c_row6_col3\" class=\"data row6 col3\" >Accounts</td>\n",
              "      <td id=\"T_0e72c_row6_col4\" class=\"data row6 col4\" >Calcutta</td>\n",
              "      <td id=\"T_0e72c_row6_col5\" class=\"data row6 col5\" >822134</td>\n",
              "    </tr>\n",
              "    <tr>\n",
              "      <td id=\"T_0e72c_row7_col0\" class=\"data row7 col0\" >Jagmohan</td>\n",
              "      <td id=\"T_0e72c_row7_col1\" class=\"data row7 col1\" >Dalmia</td>\n",
              "      <td id=\"T_0e72c_row7_col2\" class=\"data row7 col2\" >12000</td>\n",
              "      <td id=\"T_0e72c_row7_col3\" class=\"data row7 col3\" >Accounts</td>\n",
              "      <td id=\"T_0e72c_row7_col4\" class=\"data row7 col4\" >Calcutta</td>\n",
              "      <td id=\"T_0e72c_row7_col5\" class=\"data row7 col5\" >822134</td>\n",
              "    </tr>\n",
              "    <tr>\n",
              "      <td id=\"T_0e72c_row8_col0\" class=\"data row8 col0\" >Rahul</td>\n",
              "      <td id=\"T_0e72c_row8_col1\" class=\"data row8 col1\" >Dravid</td>\n",
              "      <td id=\"T_0e72c_row8_col2\" class=\"data row8 col2\" >40000</td>\n",
              "      <td id=\"T_0e72c_row8_col3\" class=\"data row8 col3\" >Accounts</td>\n",
              "      <td id=\"T_0e72c_row8_col4\" class=\"data row8 col4\" >Calcutta</td>\n",
              "      <td id=\"T_0e72c_row8_col5\" class=\"data row8 col5\" >822134</td>\n",
              "    </tr>\n",
              "    <tr>\n",
              "      <td id=\"T_0e72c_row9_col0\" class=\"data row9 col0\" >Sourav</td>\n",
              "      <td id=\"T_0e72c_row9_col1\" class=\"data row9 col1\" >Ganguly</td>\n",
              "      <td id=\"T_0e72c_row9_col2\" class=\"data row9 col2\" >20000</td>\n",
              "      <td id=\"T_0e72c_row9_col3\" class=\"data row9 col3\" >Production</td>\n",
              "      <td id=\"T_0e72c_row9_col4\" class=\"data row9 col4\" >Bombay</td>\n",
              "      <td id=\"T_0e72c_row9_col5\" class=\"data row9 col5\" >349870</td>\n",
              "    </tr>\n",
              "    <tr>\n",
              "      <td id=\"T_0e72c_row10_col0\" class=\"data row10 col0\" >Mahender</td>\n",
              "      <td id=\"T_0e72c_row10_col1\" class=\"data row10 col1\" >Dhoni</td>\n",
              "      <td id=\"T_0e72c_row10_col2\" class=\"data row10 col2\" >9000</td>\n",
              "      <td id=\"T_0e72c_row10_col3\" class=\"data row10 col3\" >Production</td>\n",
              "      <td id=\"T_0e72c_row10_col4\" class=\"data row10 col4\" >Bombay</td>\n",
              "      <td id=\"T_0e72c_row10_col5\" class=\"data row10 col5\" >349870</td>\n",
              "    </tr>\n",
              "    <tr>\n",
              "      <td id=\"T_0e72c_row11_col0\" class=\"data row11 col0\" >Rani</td>\n",
              "      <td id=\"T_0e72c_row11_col1\" class=\"data row11 col1\" >Mukherjee</td>\n",
              "      <td id=\"T_0e72c_row11_col2\" class=\"data row11 col2\" >25000</td>\n",
              "      <td id=\"T_0e72c_row11_col3\" class=\"data row11 col3\" >Production</td>\n",
              "      <td id=\"T_0e72c_row11_col4\" class=\"data row11 col4\" >Bombay</td>\n",
              "      <td id=\"T_0e72c_row11_col5\" class=\"data row11 col5\" >349870</td>\n",
              "    </tr>\n",
              "  </tbody>\n",
              "</table>\n"
            ]
          },
          "metadata": {},
          "execution_count": 48
        }
      ]
    },
    {
      "cell_type": "code",
      "source": [
        "sql = 'select empid, firstname, deptname, location from empl INNER JOIN dept ON empl.deptid = dept.deptid'\n",
        "runSelect(sql)"
      ],
      "metadata": {
        "colab": {
          "base_uri": "https://localhost:8080/",
          "height": 426
        },
        "id": "LVrEArEc1VcF",
        "outputId": "c455fe9c-71cf-4558-ee40-1af83c52a9a9"
      },
      "execution_count": 49,
      "outputs": [
        {
          "output_type": "execute_result",
          "data": {
            "text/plain": [
              "<pandas.io.formats.style.Styler at 0x7a6aa6bad6f0>"
            ],
            "text/html": [
              "<style type=\"text/css\">\n",
              "</style>\n",
              "<table id=\"T_ffb00\" class=\"dataframe\">\n",
              "  <thead>\n",
              "    <tr>\n",
              "      <th id=\"T_ffb00_level0_col0\" class=\"col_heading level0 col0\" >empid</th>\n",
              "      <th id=\"T_ffb00_level0_col1\" class=\"col_heading level0 col1\" >firstname</th>\n",
              "      <th id=\"T_ffb00_level0_col2\" class=\"col_heading level0 col2\" >deptname</th>\n",
              "      <th id=\"T_ffb00_level0_col3\" class=\"col_heading level0 col3\" >location</th>\n",
              "    </tr>\n",
              "  </thead>\n",
              "  <tbody>\n",
              "    <tr>\n",
              "      <td id=\"T_ffb00_row0_col0\" class=\"data row0 col0\" >546223</td>\n",
              "      <td id=\"T_ffb00_row0_col1\" class=\"data row0 col1\" >Narayan</td>\n",
              "      <td id=\"T_ffb00_row0_col2\" class=\"data row0 col2\" >Corporate</td>\n",
              "      <td id=\"T_ffb00_row0_col3\" class=\"data row0 col3\" >Calcutta</td>\n",
              "    </tr>\n",
              "    <tr>\n",
              "      <td id=\"T_ffb00_row1_col0\" class=\"data row1 col0\" >299034</td>\n",
              "      <td id=\"T_ffb00_row1_col1\" class=\"data row1 col1\" >Rekha</td>\n",
              "      <td id=\"T_ffb00_row1_col2\" class=\"data row1 col2\" >Corporate</td>\n",
              "      <td id=\"T_ffb00_row1_col3\" class=\"data row1 col3\" >Calcutta</td>\n",
              "    </tr>\n",
              "    <tr>\n",
              "      <td id=\"T_ffb00_row2_col0\" class=\"data row2 col0\" >742866</td>\n",
              "      <td id=\"T_ffb00_row2_col1\" class=\"data row2 col1\" >Amitabh</td>\n",
              "      <td id=\"T_ffb00_row2_col2\" class=\"data row2 col2\" >Corporate</td>\n",
              "      <td id=\"T_ffb00_row2_col3\" class=\"data row2 col3\" >Calcutta</td>\n",
              "    </tr>\n",
              "    <tr>\n",
              "      <td id=\"T_ffb00_row3_col0\" class=\"data row3 col0\" >897889</td>\n",
              "      <td id=\"T_ffb00_row3_col1\" class=\"data row3 col1\" >Virender</td>\n",
              "      <td id=\"T_ffb00_row3_col2\" class=\"data row3 col2\" >Sales</td>\n",
              "      <td id=\"T_ffb00_row3_col3\" class=\"data row3 col3\" >Calcutta</td>\n",
              "    </tr>\n",
              "    <tr>\n",
              "      <td id=\"T_ffb00_row4_col0\" class=\"data row4 col0\" >239456</td>\n",
              "      <td id=\"T_ffb00_row4_col1\" class=\"data row4 col1\" >Shahrukh</td>\n",
              "      <td id=\"T_ffb00_row4_col2\" class=\"data row4 col2\" >Sales</td>\n",
              "      <td id=\"T_ffb00_row4_col3\" class=\"data row4 col3\" >Calcutta</td>\n",
              "    </tr>\n",
              "    <tr>\n",
              "      <td id=\"T_ffb00_row5_col0\" class=\"data row5 col0\" >865477</td>\n",
              "      <td id=\"T_ffb00_row5_col1\" class=\"data row5 col1\" >Madhuri</td>\n",
              "      <td id=\"T_ffb00_row5_col2\" class=\"data row5 col2\" >Sales</td>\n",
              "      <td id=\"T_ffb00_row5_col3\" class=\"data row5 col3\" >Calcutta</td>\n",
              "    </tr>\n",
              "    <tr>\n",
              "      <td id=\"T_ffb00_row6_col0\" class=\"data row6 col0\" >223112</td>\n",
              "      <td id=\"T_ffb00_row6_col1\" class=\"data row6 col1\" >Sania</td>\n",
              "      <td id=\"T_ffb00_row6_col2\" class=\"data row6 col2\" >Accounts</td>\n",
              "      <td id=\"T_ffb00_row6_col3\" class=\"data row6 col3\" >Calcutta</td>\n",
              "    </tr>\n",
              "    <tr>\n",
              "      <td id=\"T_ffb00_row7_col0\" class=\"data row7 col0\" >997445</td>\n",
              "      <td id=\"T_ffb00_row7_col1\" class=\"data row7 col1\" >Jagmohan</td>\n",
              "      <td id=\"T_ffb00_row7_col2\" class=\"data row7 col2\" >Accounts</td>\n",
              "      <td id=\"T_ffb00_row7_col3\" class=\"data row7 col3\" >Calcutta</td>\n",
              "    </tr>\n",
              "    <tr>\n",
              "      <td id=\"T_ffb00_row8_col0\" class=\"data row8 col0\" >822134</td>\n",
              "      <td id=\"T_ffb00_row8_col1\" class=\"data row8 col1\" >Rahul</td>\n",
              "      <td id=\"T_ffb00_row8_col2\" class=\"data row8 col2\" >Accounts</td>\n",
              "      <td id=\"T_ffb00_row8_col3\" class=\"data row8 col3\" >Calcutta</td>\n",
              "    </tr>\n",
              "    <tr>\n",
              "      <td id=\"T_ffb00_row9_col0\" class=\"data row9 col0\" >989007</td>\n",
              "      <td id=\"T_ffb00_row9_col1\" class=\"data row9 col1\" >Sourav</td>\n",
              "      <td id=\"T_ffb00_row9_col2\" class=\"data row9 col2\" >Production</td>\n",
              "      <td id=\"T_ffb00_row9_col3\" class=\"data row9 col3\" >Bombay</td>\n",
              "    </tr>\n",
              "    <tr>\n",
              "      <td id=\"T_ffb00_row10_col0\" class=\"data row10 col0\" >123980</td>\n",
              "      <td id=\"T_ffb00_row10_col1\" class=\"data row10 col1\" >Mahender</td>\n",
              "      <td id=\"T_ffb00_row10_col2\" class=\"data row10 col2\" >Production</td>\n",
              "      <td id=\"T_ffb00_row10_col3\" class=\"data row10 col3\" >Bombay</td>\n",
              "    </tr>\n",
              "    <tr>\n",
              "      <td id=\"T_ffb00_row11_col0\" class=\"data row11 col0\" >349870</td>\n",
              "      <td id=\"T_ffb00_row11_col1\" class=\"data row11 col1\" >Rani</td>\n",
              "      <td id=\"T_ffb00_row11_col2\" class=\"data row11 col2\" >Production</td>\n",
              "      <td id=\"T_ffb00_row11_col3\" class=\"data row11 col3\" >Bombay</td>\n",
              "    </tr>\n",
              "  </tbody>\n",
              "</table>\n"
            ]
          },
          "metadata": {},
          "execution_count": 49
        }
      ]
    },
    {
      "cell_type": "code",
      "source": [
        "sql = 'select deptname,round(sum(salary),0) payroll from empl INNER JOIN dept ON empl.deptid = dept.deptid \\\n",
        "group by deptname'\n",
        "runSelect(sql)"
      ],
      "metadata": {
        "id": "pKk82QRi28DP",
        "outputId": "647be844-2012-4c8d-efa1-c0ecb20d7136",
        "colab": {
          "base_uri": "https://localhost:8080/",
          "height": 175
        }
      },
      "execution_count": 50,
      "outputs": [
        {
          "output_type": "execute_result",
          "data": {
            "text/plain": [
              "<pandas.io.formats.style.Styler at 0x7a6aa6bacdc0>"
            ],
            "text/html": [
              "<style type=\"text/css\">\n",
              "</style>\n",
              "<table id=\"T_61e60\" class=\"dataframe\">\n",
              "  <thead>\n",
              "    <tr>\n",
              "      <th id=\"T_61e60_level0_col0\" class=\"col_heading level0 col0\" >deptname</th>\n",
              "      <th id=\"T_61e60_level0_col1\" class=\"col_heading level0 col1\" >payroll</th>\n",
              "    </tr>\n",
              "  </thead>\n",
              "  <tbody>\n",
              "    <tr>\n",
              "      <td id=\"T_61e60_row0_col0\" class=\"data row0 col0\" >Corporate</td>\n",
              "      <td id=\"T_61e60_row0_col1\" class=\"data row0 col1\" >150000</td>\n",
              "    </tr>\n",
              "    <tr>\n",
              "      <td id=\"T_61e60_row1_col0\" class=\"data row1 col0\" >Accounts</td>\n",
              "      <td id=\"T_61e60_row1_col1\" class=\"data row1 col1\" >77000</td>\n",
              "    </tr>\n",
              "    <tr>\n",
              "      <td id=\"T_61e60_row2_col0\" class=\"data row2 col0\" >Sales</td>\n",
              "      <td id=\"T_61e60_row2_col1\" class=\"data row2 col1\" >55000</td>\n",
              "    </tr>\n",
              "    <tr>\n",
              "      <td id=\"T_61e60_row3_col0\" class=\"data row3 col0\" >Production</td>\n",
              "      <td id=\"T_61e60_row3_col1\" class=\"data row3 col1\" >54000</td>\n",
              "    </tr>\n",
              "  </tbody>\n",
              "</table>\n"
            ]
          },
          "metadata": {},
          "execution_count": 50
        }
      ]
    },
    {
      "cell_type": "markdown",
      "source": [
        "## Outer Join"
      ],
      "metadata": {
        "id": "tK9uJHAL1u6x"
      }
    },
    {
      "cell_type": "markdown",
      "source": [
        "### Left Outer"
      ],
      "metadata": {
        "id": "5wGFVhyJ2x8S"
      }
    },
    {
      "cell_type": "code",
      "source": [
        "sql = 'select empid, firstname, deptname, location from empl LEFT JOIN dept ON empl.deptid = dept.deptid'\n",
        "runSelect(sql)"
      ],
      "metadata": {
        "colab": {
          "base_uri": "https://localhost:8080/",
          "height": 457
        },
        "id": "Ls6VfOXt1zTq",
        "outputId": "8e27e08d-cc04-4fbb-d565-adb51079684f"
      },
      "execution_count": 51,
      "outputs": [
        {
          "output_type": "execute_result",
          "data": {
            "text/plain": [
              "<pandas.io.formats.style.Styler at 0x7a6aa6baec80>"
            ],
            "text/html": [
              "<style type=\"text/css\">\n",
              "</style>\n",
              "<table id=\"T_4470e\" class=\"dataframe\">\n",
              "  <thead>\n",
              "    <tr>\n",
              "      <th id=\"T_4470e_level0_col0\" class=\"col_heading level0 col0\" >empid</th>\n",
              "      <th id=\"T_4470e_level0_col1\" class=\"col_heading level0 col1\" >firstname</th>\n",
              "      <th id=\"T_4470e_level0_col2\" class=\"col_heading level0 col2\" >deptname</th>\n",
              "      <th id=\"T_4470e_level0_col3\" class=\"col_heading level0 col3\" >location</th>\n",
              "    </tr>\n",
              "  </thead>\n",
              "  <tbody>\n",
              "    <tr>\n",
              "      <td id=\"T_4470e_row0_col0\" class=\"data row0 col0\" >546223</td>\n",
              "      <td id=\"T_4470e_row0_col1\" class=\"data row0 col1\" >Narayan</td>\n",
              "      <td id=\"T_4470e_row0_col2\" class=\"data row0 col2\" >Corporate</td>\n",
              "      <td id=\"T_4470e_row0_col3\" class=\"data row0 col3\" >Calcutta</td>\n",
              "    </tr>\n",
              "    <tr>\n",
              "      <td id=\"T_4470e_row1_col0\" class=\"data row1 col0\" >299034</td>\n",
              "      <td id=\"T_4470e_row1_col1\" class=\"data row1 col1\" >Rekha</td>\n",
              "      <td id=\"T_4470e_row1_col2\" class=\"data row1 col2\" >Corporate</td>\n",
              "      <td id=\"T_4470e_row1_col3\" class=\"data row1 col3\" >Calcutta</td>\n",
              "    </tr>\n",
              "    <tr>\n",
              "      <td id=\"T_4470e_row2_col0\" class=\"data row2 col0\" >742866</td>\n",
              "      <td id=\"T_4470e_row2_col1\" class=\"data row2 col1\" >Amitabh</td>\n",
              "      <td id=\"T_4470e_row2_col2\" class=\"data row2 col2\" >Corporate</td>\n",
              "      <td id=\"T_4470e_row2_col3\" class=\"data row2 col3\" >Calcutta</td>\n",
              "    </tr>\n",
              "    <tr>\n",
              "      <td id=\"T_4470e_row3_col0\" class=\"data row3 col0\" >897889</td>\n",
              "      <td id=\"T_4470e_row3_col1\" class=\"data row3 col1\" >Virender</td>\n",
              "      <td id=\"T_4470e_row3_col2\" class=\"data row3 col2\" >Sales</td>\n",
              "      <td id=\"T_4470e_row3_col3\" class=\"data row3 col3\" >Calcutta</td>\n",
              "    </tr>\n",
              "    <tr>\n",
              "      <td id=\"T_4470e_row4_col0\" class=\"data row4 col0\" >239456</td>\n",
              "      <td id=\"T_4470e_row4_col1\" class=\"data row4 col1\" >Shahrukh</td>\n",
              "      <td id=\"T_4470e_row4_col2\" class=\"data row4 col2\" >Sales</td>\n",
              "      <td id=\"T_4470e_row4_col3\" class=\"data row4 col3\" >Calcutta</td>\n",
              "    </tr>\n",
              "    <tr>\n",
              "      <td id=\"T_4470e_row5_col0\" class=\"data row5 col0\" >865477</td>\n",
              "      <td id=\"T_4470e_row5_col1\" class=\"data row5 col1\" >Madhuri</td>\n",
              "      <td id=\"T_4470e_row5_col2\" class=\"data row5 col2\" >Sales</td>\n",
              "      <td id=\"T_4470e_row5_col3\" class=\"data row5 col3\" >Calcutta</td>\n",
              "    </tr>\n",
              "    <tr>\n",
              "      <td id=\"T_4470e_row6_col0\" class=\"data row6 col0\" >223112</td>\n",
              "      <td id=\"T_4470e_row6_col1\" class=\"data row6 col1\" >Sania</td>\n",
              "      <td id=\"T_4470e_row6_col2\" class=\"data row6 col2\" >Accounts</td>\n",
              "      <td id=\"T_4470e_row6_col3\" class=\"data row6 col3\" >Calcutta</td>\n",
              "    </tr>\n",
              "    <tr>\n",
              "      <td id=\"T_4470e_row7_col0\" class=\"data row7 col0\" >997445</td>\n",
              "      <td id=\"T_4470e_row7_col1\" class=\"data row7 col1\" >Jagmohan</td>\n",
              "      <td id=\"T_4470e_row7_col2\" class=\"data row7 col2\" >Accounts</td>\n",
              "      <td id=\"T_4470e_row7_col3\" class=\"data row7 col3\" >Calcutta</td>\n",
              "    </tr>\n",
              "    <tr>\n",
              "      <td id=\"T_4470e_row8_col0\" class=\"data row8 col0\" >822134</td>\n",
              "      <td id=\"T_4470e_row8_col1\" class=\"data row8 col1\" >Rahul</td>\n",
              "      <td id=\"T_4470e_row8_col2\" class=\"data row8 col2\" >Accounts</td>\n",
              "      <td id=\"T_4470e_row8_col3\" class=\"data row8 col3\" >Calcutta</td>\n",
              "    </tr>\n",
              "    <tr>\n",
              "      <td id=\"T_4470e_row9_col0\" class=\"data row9 col0\" >989007</td>\n",
              "      <td id=\"T_4470e_row9_col1\" class=\"data row9 col1\" >Sourav</td>\n",
              "      <td id=\"T_4470e_row9_col2\" class=\"data row9 col2\" >Production</td>\n",
              "      <td id=\"T_4470e_row9_col3\" class=\"data row9 col3\" >Bombay</td>\n",
              "    </tr>\n",
              "    <tr>\n",
              "      <td id=\"T_4470e_row10_col0\" class=\"data row10 col0\" >123980</td>\n",
              "      <td id=\"T_4470e_row10_col1\" class=\"data row10 col1\" >Mahender</td>\n",
              "      <td id=\"T_4470e_row10_col2\" class=\"data row10 col2\" >Production</td>\n",
              "      <td id=\"T_4470e_row10_col3\" class=\"data row10 col3\" >Bombay</td>\n",
              "    </tr>\n",
              "    <tr>\n",
              "      <td id=\"T_4470e_row11_col0\" class=\"data row11 col0\" >349870</td>\n",
              "      <td id=\"T_4470e_row11_col1\" class=\"data row11 col1\" >Rani</td>\n",
              "      <td id=\"T_4470e_row11_col2\" class=\"data row11 col2\" >Production</td>\n",
              "      <td id=\"T_4470e_row11_col3\" class=\"data row11 col3\" >Bombay</td>\n",
              "    </tr>\n",
              "    <tr>\n",
              "      <td id=\"T_4470e_row12_col0\" class=\"data row12 col0\" >546224</td>\n",
              "      <td id=\"T_4470e_row12_col1\" class=\"data row12 col1\" >Chettri</td>\n",
              "      <td id=\"T_4470e_row12_col2\" class=\"data row12 col2\" >None</td>\n",
              "      <td id=\"T_4470e_row12_col3\" class=\"data row12 col3\" >None</td>\n",
              "    </tr>\n",
              "  </tbody>\n",
              "</table>\n"
            ]
          },
          "metadata": {},
          "execution_count": 51
        }
      ]
    },
    {
      "cell_type": "markdown",
      "source": [
        "### Right Outer"
      ],
      "metadata": {
        "id": "iJ6DASb121Og"
      }
    },
    {
      "cell_type": "code",
      "source": [
        "sql = 'select empid, firstname, deptname, location from empl RIGHT JOIN dept ON empl.deptid = dept.deptid'\n",
        "runSelect(sql)"
      ],
      "metadata": {
        "colab": {
          "base_uri": "https://localhost:8080/",
          "height": 457
        },
        "id": "khvQpQ4E2XND",
        "outputId": "7d583662-2f5c-4b24-cfaf-1e2e1f39ed8f"
      },
      "execution_count": 52,
      "outputs": [
        {
          "output_type": "execute_result",
          "data": {
            "text/plain": [
              "<pandas.io.formats.style.Styler at 0x7a6aa6baea10>"
            ],
            "text/html": [
              "<style type=\"text/css\">\n",
              "</style>\n",
              "<table id=\"T_afda7\" class=\"dataframe\">\n",
              "  <thead>\n",
              "    <tr>\n",
              "      <th id=\"T_afda7_level0_col0\" class=\"col_heading level0 col0\" >empid</th>\n",
              "      <th id=\"T_afda7_level0_col1\" class=\"col_heading level0 col1\" >firstname</th>\n",
              "      <th id=\"T_afda7_level0_col2\" class=\"col_heading level0 col2\" >deptname</th>\n",
              "      <th id=\"T_afda7_level0_col3\" class=\"col_heading level0 col3\" >location</th>\n",
              "    </tr>\n",
              "  </thead>\n",
              "  <tbody>\n",
              "    <tr>\n",
              "      <td id=\"T_afda7_row0_col0\" class=\"data row0 col0\" >546223</td>\n",
              "      <td id=\"T_afda7_row0_col1\" class=\"data row0 col1\" >Narayan</td>\n",
              "      <td id=\"T_afda7_row0_col2\" class=\"data row0 col2\" >Corporate</td>\n",
              "      <td id=\"T_afda7_row0_col3\" class=\"data row0 col3\" >Calcutta</td>\n",
              "    </tr>\n",
              "    <tr>\n",
              "      <td id=\"T_afda7_row1_col0\" class=\"data row1 col0\" >299034</td>\n",
              "      <td id=\"T_afda7_row1_col1\" class=\"data row1 col1\" >Rekha</td>\n",
              "      <td id=\"T_afda7_row1_col2\" class=\"data row1 col2\" >Corporate</td>\n",
              "      <td id=\"T_afda7_row1_col3\" class=\"data row1 col3\" >Calcutta</td>\n",
              "    </tr>\n",
              "    <tr>\n",
              "      <td id=\"T_afda7_row2_col0\" class=\"data row2 col0\" >742866</td>\n",
              "      <td id=\"T_afda7_row2_col1\" class=\"data row2 col1\" >Amitabh</td>\n",
              "      <td id=\"T_afda7_row2_col2\" class=\"data row2 col2\" >Corporate</td>\n",
              "      <td id=\"T_afda7_row2_col3\" class=\"data row2 col3\" >Calcutta</td>\n",
              "    </tr>\n",
              "    <tr>\n",
              "      <td id=\"T_afda7_row3_col0\" class=\"data row3 col0\" >897889</td>\n",
              "      <td id=\"T_afda7_row3_col1\" class=\"data row3 col1\" >Virender</td>\n",
              "      <td id=\"T_afda7_row3_col2\" class=\"data row3 col2\" >Sales</td>\n",
              "      <td id=\"T_afda7_row3_col3\" class=\"data row3 col3\" >Calcutta</td>\n",
              "    </tr>\n",
              "    <tr>\n",
              "      <td id=\"T_afda7_row4_col0\" class=\"data row4 col0\" >239456</td>\n",
              "      <td id=\"T_afda7_row4_col1\" class=\"data row4 col1\" >Shahrukh</td>\n",
              "      <td id=\"T_afda7_row4_col2\" class=\"data row4 col2\" >Sales</td>\n",
              "      <td id=\"T_afda7_row4_col3\" class=\"data row4 col3\" >Calcutta</td>\n",
              "    </tr>\n",
              "    <tr>\n",
              "      <td id=\"T_afda7_row5_col0\" class=\"data row5 col0\" >865477</td>\n",
              "      <td id=\"T_afda7_row5_col1\" class=\"data row5 col1\" >Madhuri</td>\n",
              "      <td id=\"T_afda7_row5_col2\" class=\"data row5 col2\" >Sales</td>\n",
              "      <td id=\"T_afda7_row5_col3\" class=\"data row5 col3\" >Calcutta</td>\n",
              "    </tr>\n",
              "    <tr>\n",
              "      <td id=\"T_afda7_row6_col0\" class=\"data row6 col0\" >223112</td>\n",
              "      <td id=\"T_afda7_row6_col1\" class=\"data row6 col1\" >Sania</td>\n",
              "      <td id=\"T_afda7_row6_col2\" class=\"data row6 col2\" >Accounts</td>\n",
              "      <td id=\"T_afda7_row6_col3\" class=\"data row6 col3\" >Calcutta</td>\n",
              "    </tr>\n",
              "    <tr>\n",
              "      <td id=\"T_afda7_row7_col0\" class=\"data row7 col0\" >997445</td>\n",
              "      <td id=\"T_afda7_row7_col1\" class=\"data row7 col1\" >Jagmohan</td>\n",
              "      <td id=\"T_afda7_row7_col2\" class=\"data row7 col2\" >Accounts</td>\n",
              "      <td id=\"T_afda7_row7_col3\" class=\"data row7 col3\" >Calcutta</td>\n",
              "    </tr>\n",
              "    <tr>\n",
              "      <td id=\"T_afda7_row8_col0\" class=\"data row8 col0\" >822134</td>\n",
              "      <td id=\"T_afda7_row8_col1\" class=\"data row8 col1\" >Rahul</td>\n",
              "      <td id=\"T_afda7_row8_col2\" class=\"data row8 col2\" >Accounts</td>\n",
              "      <td id=\"T_afda7_row8_col3\" class=\"data row8 col3\" >Calcutta</td>\n",
              "    </tr>\n",
              "    <tr>\n",
              "      <td id=\"T_afda7_row9_col0\" class=\"data row9 col0\" >989007</td>\n",
              "      <td id=\"T_afda7_row9_col1\" class=\"data row9 col1\" >Sourav</td>\n",
              "      <td id=\"T_afda7_row9_col2\" class=\"data row9 col2\" >Production</td>\n",
              "      <td id=\"T_afda7_row9_col3\" class=\"data row9 col3\" >Bombay</td>\n",
              "    </tr>\n",
              "    <tr>\n",
              "      <td id=\"T_afda7_row10_col0\" class=\"data row10 col0\" >123980</td>\n",
              "      <td id=\"T_afda7_row10_col1\" class=\"data row10 col1\" >Mahender</td>\n",
              "      <td id=\"T_afda7_row10_col2\" class=\"data row10 col2\" >Production</td>\n",
              "      <td id=\"T_afda7_row10_col3\" class=\"data row10 col3\" >Bombay</td>\n",
              "    </tr>\n",
              "    <tr>\n",
              "      <td id=\"T_afda7_row11_col0\" class=\"data row11 col0\" >349870</td>\n",
              "      <td id=\"T_afda7_row11_col1\" class=\"data row11 col1\" >Rani</td>\n",
              "      <td id=\"T_afda7_row11_col2\" class=\"data row11 col2\" >Production</td>\n",
              "      <td id=\"T_afda7_row11_col3\" class=\"data row11 col3\" >Bombay</td>\n",
              "    </tr>\n",
              "    <tr>\n",
              "      <td id=\"T_afda7_row12_col0\" class=\"data row12 col0\" >None</td>\n",
              "      <td id=\"T_afda7_row12_col1\" class=\"data row12 col1\" >None</td>\n",
              "      <td id=\"T_afda7_row12_col2\" class=\"data row12 col2\" >Research</td>\n",
              "      <td id=\"T_afda7_row12_col3\" class=\"data row12 col3\" >Delhi</td>\n",
              "    </tr>\n",
              "  </tbody>\n",
              "</table>\n"
            ]
          },
          "metadata": {},
          "execution_count": 52
        }
      ]
    },
    {
      "cell_type": "markdown",
      "source": [
        "### Full Outer"
      ],
      "metadata": {
        "id": "RsEyhBBp24zy"
      }
    },
    {
      "cell_type": "code",
      "source": [
        "sql = 'select empid, firstname, deptname, location from empl FULL JOIN dept ON empl.deptid = dept.deptid'\n",
        "runSelect(sql)"
      ],
      "metadata": {
        "colab": {
          "base_uri": "https://localhost:8080/",
          "height": 488
        },
        "id": "Ipt14U9o2qFg",
        "outputId": "7df5f8c3-1434-4e2c-a8af-764742971901"
      },
      "execution_count": 53,
      "outputs": [
        {
          "output_type": "execute_result",
          "data": {
            "text/plain": [
              "<pandas.io.formats.style.Styler at 0x7a6aa6bae9e0>"
            ],
            "text/html": [
              "<style type=\"text/css\">\n",
              "</style>\n",
              "<table id=\"T_a947d\" class=\"dataframe\">\n",
              "  <thead>\n",
              "    <tr>\n",
              "      <th id=\"T_a947d_level0_col0\" class=\"col_heading level0 col0\" >empid</th>\n",
              "      <th id=\"T_a947d_level0_col1\" class=\"col_heading level0 col1\" >firstname</th>\n",
              "      <th id=\"T_a947d_level0_col2\" class=\"col_heading level0 col2\" >deptname</th>\n",
              "      <th id=\"T_a947d_level0_col3\" class=\"col_heading level0 col3\" >location</th>\n",
              "    </tr>\n",
              "  </thead>\n",
              "  <tbody>\n",
              "    <tr>\n",
              "      <td id=\"T_a947d_row0_col0\" class=\"data row0 col0\" >546223</td>\n",
              "      <td id=\"T_a947d_row0_col1\" class=\"data row0 col1\" >Narayan</td>\n",
              "      <td id=\"T_a947d_row0_col2\" class=\"data row0 col2\" >Corporate</td>\n",
              "      <td id=\"T_a947d_row0_col3\" class=\"data row0 col3\" >Calcutta</td>\n",
              "    </tr>\n",
              "    <tr>\n",
              "      <td id=\"T_a947d_row1_col0\" class=\"data row1 col0\" >299034</td>\n",
              "      <td id=\"T_a947d_row1_col1\" class=\"data row1 col1\" >Rekha</td>\n",
              "      <td id=\"T_a947d_row1_col2\" class=\"data row1 col2\" >Corporate</td>\n",
              "      <td id=\"T_a947d_row1_col3\" class=\"data row1 col3\" >Calcutta</td>\n",
              "    </tr>\n",
              "    <tr>\n",
              "      <td id=\"T_a947d_row2_col0\" class=\"data row2 col0\" >742866</td>\n",
              "      <td id=\"T_a947d_row2_col1\" class=\"data row2 col1\" >Amitabh</td>\n",
              "      <td id=\"T_a947d_row2_col2\" class=\"data row2 col2\" >Corporate</td>\n",
              "      <td id=\"T_a947d_row2_col3\" class=\"data row2 col3\" >Calcutta</td>\n",
              "    </tr>\n",
              "    <tr>\n",
              "      <td id=\"T_a947d_row3_col0\" class=\"data row3 col0\" >897889</td>\n",
              "      <td id=\"T_a947d_row3_col1\" class=\"data row3 col1\" >Virender</td>\n",
              "      <td id=\"T_a947d_row3_col2\" class=\"data row3 col2\" >Sales</td>\n",
              "      <td id=\"T_a947d_row3_col3\" class=\"data row3 col3\" >Calcutta</td>\n",
              "    </tr>\n",
              "    <tr>\n",
              "      <td id=\"T_a947d_row4_col0\" class=\"data row4 col0\" >239456</td>\n",
              "      <td id=\"T_a947d_row4_col1\" class=\"data row4 col1\" >Shahrukh</td>\n",
              "      <td id=\"T_a947d_row4_col2\" class=\"data row4 col2\" >Sales</td>\n",
              "      <td id=\"T_a947d_row4_col3\" class=\"data row4 col3\" >Calcutta</td>\n",
              "    </tr>\n",
              "    <tr>\n",
              "      <td id=\"T_a947d_row5_col0\" class=\"data row5 col0\" >865477</td>\n",
              "      <td id=\"T_a947d_row5_col1\" class=\"data row5 col1\" >Madhuri</td>\n",
              "      <td id=\"T_a947d_row5_col2\" class=\"data row5 col2\" >Sales</td>\n",
              "      <td id=\"T_a947d_row5_col3\" class=\"data row5 col3\" >Calcutta</td>\n",
              "    </tr>\n",
              "    <tr>\n",
              "      <td id=\"T_a947d_row6_col0\" class=\"data row6 col0\" >223112</td>\n",
              "      <td id=\"T_a947d_row6_col1\" class=\"data row6 col1\" >Sania</td>\n",
              "      <td id=\"T_a947d_row6_col2\" class=\"data row6 col2\" >Accounts</td>\n",
              "      <td id=\"T_a947d_row6_col3\" class=\"data row6 col3\" >Calcutta</td>\n",
              "    </tr>\n",
              "    <tr>\n",
              "      <td id=\"T_a947d_row7_col0\" class=\"data row7 col0\" >997445</td>\n",
              "      <td id=\"T_a947d_row7_col1\" class=\"data row7 col1\" >Jagmohan</td>\n",
              "      <td id=\"T_a947d_row7_col2\" class=\"data row7 col2\" >Accounts</td>\n",
              "      <td id=\"T_a947d_row7_col3\" class=\"data row7 col3\" >Calcutta</td>\n",
              "    </tr>\n",
              "    <tr>\n",
              "      <td id=\"T_a947d_row8_col0\" class=\"data row8 col0\" >822134</td>\n",
              "      <td id=\"T_a947d_row8_col1\" class=\"data row8 col1\" >Rahul</td>\n",
              "      <td id=\"T_a947d_row8_col2\" class=\"data row8 col2\" >Accounts</td>\n",
              "      <td id=\"T_a947d_row8_col3\" class=\"data row8 col3\" >Calcutta</td>\n",
              "    </tr>\n",
              "    <tr>\n",
              "      <td id=\"T_a947d_row9_col0\" class=\"data row9 col0\" >989007</td>\n",
              "      <td id=\"T_a947d_row9_col1\" class=\"data row9 col1\" >Sourav</td>\n",
              "      <td id=\"T_a947d_row9_col2\" class=\"data row9 col2\" >Production</td>\n",
              "      <td id=\"T_a947d_row9_col3\" class=\"data row9 col3\" >Bombay</td>\n",
              "    </tr>\n",
              "    <tr>\n",
              "      <td id=\"T_a947d_row10_col0\" class=\"data row10 col0\" >123980</td>\n",
              "      <td id=\"T_a947d_row10_col1\" class=\"data row10 col1\" >Mahender</td>\n",
              "      <td id=\"T_a947d_row10_col2\" class=\"data row10 col2\" >Production</td>\n",
              "      <td id=\"T_a947d_row10_col3\" class=\"data row10 col3\" >Bombay</td>\n",
              "    </tr>\n",
              "    <tr>\n",
              "      <td id=\"T_a947d_row11_col0\" class=\"data row11 col0\" >349870</td>\n",
              "      <td id=\"T_a947d_row11_col1\" class=\"data row11 col1\" >Rani</td>\n",
              "      <td id=\"T_a947d_row11_col2\" class=\"data row11 col2\" >Production</td>\n",
              "      <td id=\"T_a947d_row11_col3\" class=\"data row11 col3\" >Bombay</td>\n",
              "    </tr>\n",
              "    <tr>\n",
              "      <td id=\"T_a947d_row12_col0\" class=\"data row12 col0\" >None</td>\n",
              "      <td id=\"T_a947d_row12_col1\" class=\"data row12 col1\" >None</td>\n",
              "      <td id=\"T_a947d_row12_col2\" class=\"data row12 col2\" >Research</td>\n",
              "      <td id=\"T_a947d_row12_col3\" class=\"data row12 col3\" >Delhi</td>\n",
              "    </tr>\n",
              "    <tr>\n",
              "      <td id=\"T_a947d_row13_col0\" class=\"data row13 col0\" >546224</td>\n",
              "      <td id=\"T_a947d_row13_col1\" class=\"data row13 col1\" >Chettri</td>\n",
              "      <td id=\"T_a947d_row13_col2\" class=\"data row13 col2\" >None</td>\n",
              "      <td id=\"T_a947d_row13_col3\" class=\"data row13 col3\" >None</td>\n",
              "    </tr>\n",
              "  </tbody>\n",
              "</table>\n"
            ]
          },
          "metadata": {},
          "execution_count": 53
        }
      ]
    },
    {
      "cell_type": "code",
      "source": [
        "sql = 'select deptname,round(sum(salary),0) payroll from empl FULL JOIN dept ON empl.deptid = dept.deptid \\\n",
        "group by deptname'\n",
        "runSelect(sql)"
      ],
      "metadata": {
        "id": "EAI2kiYP3p9O",
        "outputId": "d36ef190-8f72-41a6-e084-62eaa3f90728",
        "colab": {
          "base_uri": "https://localhost:8080/",
          "height": 238
        }
      },
      "execution_count": 54,
      "outputs": [
        {
          "output_type": "execute_result",
          "data": {
            "text/plain": [
              "<pandas.io.formats.style.Styler at 0x7a6aa6badcf0>"
            ],
            "text/html": [
              "<style type=\"text/css\">\n",
              "</style>\n",
              "<table id=\"T_a60bf\" class=\"dataframe\">\n",
              "  <thead>\n",
              "    <tr>\n",
              "      <th id=\"T_a60bf_level0_col0\" class=\"col_heading level0 col0\" >deptname</th>\n",
              "      <th id=\"T_a60bf_level0_col1\" class=\"col_heading level0 col1\" >payroll</th>\n",
              "    </tr>\n",
              "  </thead>\n",
              "  <tbody>\n",
              "    <tr>\n",
              "      <td id=\"T_a60bf_row0_col0\" class=\"data row0 col0\" >None</td>\n",
              "      <td id=\"T_a60bf_row0_col1\" class=\"data row0 col1\" >40000</td>\n",
              "    </tr>\n",
              "    <tr>\n",
              "      <td id=\"T_a60bf_row1_col0\" class=\"data row1 col0\" >Research</td>\n",
              "      <td id=\"T_a60bf_row1_col1\" class=\"data row1 col1\" >None</td>\n",
              "    </tr>\n",
              "    <tr>\n",
              "      <td id=\"T_a60bf_row2_col0\" class=\"data row2 col0\" >Corporate</td>\n",
              "      <td id=\"T_a60bf_row2_col1\" class=\"data row2 col1\" >150000</td>\n",
              "    </tr>\n",
              "    <tr>\n",
              "      <td id=\"T_a60bf_row3_col0\" class=\"data row3 col0\" >Accounts</td>\n",
              "      <td id=\"T_a60bf_row3_col1\" class=\"data row3 col1\" >77000</td>\n",
              "    </tr>\n",
              "    <tr>\n",
              "      <td id=\"T_a60bf_row4_col0\" class=\"data row4 col0\" >Sales</td>\n",
              "      <td id=\"T_a60bf_row4_col1\" class=\"data row4 col1\" >55000</td>\n",
              "    </tr>\n",
              "    <tr>\n",
              "      <td id=\"T_a60bf_row5_col0\" class=\"data row5 col0\" >Production</td>\n",
              "      <td id=\"T_a60bf_row5_col1\" class=\"data row5 col1\" >54000</td>\n",
              "    </tr>\n",
              "  </tbody>\n",
              "</table>\n"
            ]
          },
          "metadata": {},
          "execution_count": 54
        }
      ]
    },
    {
      "cell_type": "markdown",
      "source": [
        "## Recursive Joins"
      ],
      "metadata": {
        "id": "6nm2xAfn6pIV"
      }
    },
    {
      "cell_type": "markdown",
      "source": [
        "### Three Tables"
      ],
      "metadata": {
        "id": "A1KCGwwyB02z"
      }
    },
    {
      "cell_type": "code",
      "source": [
        "cmd = \"select w.lastname , w.deptID, '>' linksTo  , d.deptID ,d.managerID,'<' linksTo, m.empID, m.lastname \\\n",
        "        from Empl w, Dept d, Empl m \\\n",
        "        where w.deptID = d.deptID   \\\n",
        "        and d.managerID = m.empID \\\n",
        "    \"\n",
        "runSelect(cmd)"
      ],
      "metadata": {
        "colab": {
          "base_uri": "https://localhost:8080/",
          "height": 426
        },
        "id": "W17nS5R7AL0J",
        "outputId": "29ca0195-d239-419d-abf9-835d51b359b4"
      },
      "execution_count": 55,
      "outputs": [
        {
          "output_type": "execute_result",
          "data": {
            "text/plain": [
              "<pandas.io.formats.style.Styler at 0x7a6aa6bae4a0>"
            ],
            "text/html": [
              "<style type=\"text/css\">\n",
              "</style>\n",
              "<table id=\"T_423a3\" class=\"dataframe\">\n",
              "  <thead>\n",
              "    <tr>\n",
              "      <th id=\"T_423a3_level0_col0\" class=\"col_heading level0 col0\" >lastname</th>\n",
              "      <th id=\"T_423a3_level0_col1\" class=\"col_heading level0 col1\" >deptid</th>\n",
              "      <th id=\"T_423a3_level0_col2\" class=\"col_heading level0 col2\" >linksto</th>\n",
              "      <th id=\"T_423a3_level0_col3\" class=\"col_heading level0 col3\" >deptid</th>\n",
              "      <th id=\"T_423a3_level0_col4\" class=\"col_heading level0 col4\" >managerid</th>\n",
              "      <th id=\"T_423a3_level0_col5\" class=\"col_heading level0 col5\" >linksto</th>\n",
              "      <th id=\"T_423a3_level0_col6\" class=\"col_heading level0 col6\" >empid</th>\n",
              "      <th id=\"T_423a3_level0_col7\" class=\"col_heading level0 col7\" >lastname</th>\n",
              "    </tr>\n",
              "  </thead>\n",
              "  <tbody>\n",
              "    <tr>\n",
              "      <td id=\"T_423a3_row0_col0\" class=\"data row0 col0\" >Karthikeyan</td>\n",
              "      <td id=\"T_423a3_row0_col1\" class=\"data row0 col1\" >10</td>\n",
              "      <td id=\"T_423a3_row0_col2\" class=\"data row0 col2\" >></td>\n",
              "      <td id=\"T_423a3_row0_col3\" class=\"data row0 col3\" >10</td>\n",
              "      <td id=\"T_423a3_row0_col4\" class=\"data row0 col4\" >299034</td>\n",
              "      <td id=\"T_423a3_row0_col5\" class=\"data row0 col5\" ><</td>\n",
              "      <td id=\"T_423a3_row0_col6\" class=\"data row0 col6\" >299034</td>\n",
              "      <td id=\"T_423a3_row0_col7\" class=\"data row0 col7\" >Ganesan</td>\n",
              "    </tr>\n",
              "    <tr>\n",
              "      <td id=\"T_423a3_row1_col0\" class=\"data row1 col0\" >Ganesan</td>\n",
              "      <td id=\"T_423a3_row1_col1\" class=\"data row1 col1\" >10</td>\n",
              "      <td id=\"T_423a3_row1_col2\" class=\"data row1 col2\" >></td>\n",
              "      <td id=\"T_423a3_row1_col3\" class=\"data row1 col3\" >10</td>\n",
              "      <td id=\"T_423a3_row1_col4\" class=\"data row1 col4\" >299034</td>\n",
              "      <td id=\"T_423a3_row1_col5\" class=\"data row1 col5\" ><</td>\n",
              "      <td id=\"T_423a3_row1_col6\" class=\"data row1 col6\" >299034</td>\n",
              "      <td id=\"T_423a3_row1_col7\" class=\"data row1 col7\" >Ganesan</td>\n",
              "    </tr>\n",
              "    <tr>\n",
              "      <td id=\"T_423a3_row2_col0\" class=\"data row2 col0\" >Bacchan</td>\n",
              "      <td id=\"T_423a3_row2_col1\" class=\"data row2 col1\" >10</td>\n",
              "      <td id=\"T_423a3_row2_col2\" class=\"data row2 col2\" >></td>\n",
              "      <td id=\"T_423a3_row2_col3\" class=\"data row2 col3\" >10</td>\n",
              "      <td id=\"T_423a3_row2_col4\" class=\"data row2 col4\" >299034</td>\n",
              "      <td id=\"T_423a3_row2_col5\" class=\"data row2 col5\" ><</td>\n",
              "      <td id=\"T_423a3_row2_col6\" class=\"data row2 col6\" >299034</td>\n",
              "      <td id=\"T_423a3_row2_col7\" class=\"data row2 col7\" >Ganesan</td>\n",
              "    </tr>\n",
              "    <tr>\n",
              "      <td id=\"T_423a3_row3_col0\" class=\"data row3 col0\" >Sehwag</td>\n",
              "      <td id=\"T_423a3_row3_col1\" class=\"data row3 col1\" >20</td>\n",
              "      <td id=\"T_423a3_row3_col2\" class=\"data row3 col2\" >></td>\n",
              "      <td id=\"T_423a3_row3_col3\" class=\"data row3 col3\" >20</td>\n",
              "      <td id=\"T_423a3_row3_col4\" class=\"data row3 col4\" >239456</td>\n",
              "      <td id=\"T_423a3_row3_col5\" class=\"data row3 col5\" ><</td>\n",
              "      <td id=\"T_423a3_row3_col6\" class=\"data row3 col6\" >239456</td>\n",
              "      <td id=\"T_423a3_row3_col7\" class=\"data row3 col7\" >Khan</td>\n",
              "    </tr>\n",
              "    <tr>\n",
              "      <td id=\"T_423a3_row4_col0\" class=\"data row4 col0\" >Khan</td>\n",
              "      <td id=\"T_423a3_row4_col1\" class=\"data row4 col1\" >20</td>\n",
              "      <td id=\"T_423a3_row4_col2\" class=\"data row4 col2\" >></td>\n",
              "      <td id=\"T_423a3_row4_col3\" class=\"data row4 col3\" >20</td>\n",
              "      <td id=\"T_423a3_row4_col4\" class=\"data row4 col4\" >239456</td>\n",
              "      <td id=\"T_423a3_row4_col5\" class=\"data row4 col5\" ><</td>\n",
              "      <td id=\"T_423a3_row4_col6\" class=\"data row4 col6\" >239456</td>\n",
              "      <td id=\"T_423a3_row4_col7\" class=\"data row4 col7\" >Khan</td>\n",
              "    </tr>\n",
              "    <tr>\n",
              "      <td id=\"T_423a3_row5_col0\" class=\"data row5 col0\" >Dikshit</td>\n",
              "      <td id=\"T_423a3_row5_col1\" class=\"data row5 col1\" >20</td>\n",
              "      <td id=\"T_423a3_row5_col2\" class=\"data row5 col2\" >></td>\n",
              "      <td id=\"T_423a3_row5_col3\" class=\"data row5 col3\" >20</td>\n",
              "      <td id=\"T_423a3_row5_col4\" class=\"data row5 col4\" >239456</td>\n",
              "      <td id=\"T_423a3_row5_col5\" class=\"data row5 col5\" ><</td>\n",
              "      <td id=\"T_423a3_row5_col6\" class=\"data row5 col6\" >239456</td>\n",
              "      <td id=\"T_423a3_row5_col7\" class=\"data row5 col7\" >Khan</td>\n",
              "    </tr>\n",
              "    <tr>\n",
              "      <td id=\"T_423a3_row6_col0\" class=\"data row6 col0\" >Mirza</td>\n",
              "      <td id=\"T_423a3_row6_col1\" class=\"data row6 col1\" >30</td>\n",
              "      <td id=\"T_423a3_row6_col2\" class=\"data row6 col2\" >></td>\n",
              "      <td id=\"T_423a3_row6_col3\" class=\"data row6 col3\" >30</td>\n",
              "      <td id=\"T_423a3_row6_col4\" class=\"data row6 col4\" >822134</td>\n",
              "      <td id=\"T_423a3_row6_col5\" class=\"data row6 col5\" ><</td>\n",
              "      <td id=\"T_423a3_row6_col6\" class=\"data row6 col6\" >822134</td>\n",
              "      <td id=\"T_423a3_row6_col7\" class=\"data row6 col7\" >Dravid</td>\n",
              "    </tr>\n",
              "    <tr>\n",
              "      <td id=\"T_423a3_row7_col0\" class=\"data row7 col0\" >Dalmia</td>\n",
              "      <td id=\"T_423a3_row7_col1\" class=\"data row7 col1\" >30</td>\n",
              "      <td id=\"T_423a3_row7_col2\" class=\"data row7 col2\" >></td>\n",
              "      <td id=\"T_423a3_row7_col3\" class=\"data row7 col3\" >30</td>\n",
              "      <td id=\"T_423a3_row7_col4\" class=\"data row7 col4\" >822134</td>\n",
              "      <td id=\"T_423a3_row7_col5\" class=\"data row7 col5\" ><</td>\n",
              "      <td id=\"T_423a3_row7_col6\" class=\"data row7 col6\" >822134</td>\n",
              "      <td id=\"T_423a3_row7_col7\" class=\"data row7 col7\" >Dravid</td>\n",
              "    </tr>\n",
              "    <tr>\n",
              "      <td id=\"T_423a3_row8_col0\" class=\"data row8 col0\" >Dravid</td>\n",
              "      <td id=\"T_423a3_row8_col1\" class=\"data row8 col1\" >30</td>\n",
              "      <td id=\"T_423a3_row8_col2\" class=\"data row8 col2\" >></td>\n",
              "      <td id=\"T_423a3_row8_col3\" class=\"data row8 col3\" >30</td>\n",
              "      <td id=\"T_423a3_row8_col4\" class=\"data row8 col4\" >822134</td>\n",
              "      <td id=\"T_423a3_row8_col5\" class=\"data row8 col5\" ><</td>\n",
              "      <td id=\"T_423a3_row8_col6\" class=\"data row8 col6\" >822134</td>\n",
              "      <td id=\"T_423a3_row8_col7\" class=\"data row8 col7\" >Dravid</td>\n",
              "    </tr>\n",
              "    <tr>\n",
              "      <td id=\"T_423a3_row9_col0\" class=\"data row9 col0\" >Ganguly</td>\n",
              "      <td id=\"T_423a3_row9_col1\" class=\"data row9 col1\" >40</td>\n",
              "      <td id=\"T_423a3_row9_col2\" class=\"data row9 col2\" >></td>\n",
              "      <td id=\"T_423a3_row9_col3\" class=\"data row9 col3\" >40</td>\n",
              "      <td id=\"T_423a3_row9_col4\" class=\"data row9 col4\" >349870</td>\n",
              "      <td id=\"T_423a3_row9_col5\" class=\"data row9 col5\" ><</td>\n",
              "      <td id=\"T_423a3_row9_col6\" class=\"data row9 col6\" >349870</td>\n",
              "      <td id=\"T_423a3_row9_col7\" class=\"data row9 col7\" >Mukherjee</td>\n",
              "    </tr>\n",
              "    <tr>\n",
              "      <td id=\"T_423a3_row10_col0\" class=\"data row10 col0\" >Dhoni</td>\n",
              "      <td id=\"T_423a3_row10_col1\" class=\"data row10 col1\" >40</td>\n",
              "      <td id=\"T_423a3_row10_col2\" class=\"data row10 col2\" >></td>\n",
              "      <td id=\"T_423a3_row10_col3\" class=\"data row10 col3\" >40</td>\n",
              "      <td id=\"T_423a3_row10_col4\" class=\"data row10 col4\" >349870</td>\n",
              "      <td id=\"T_423a3_row10_col5\" class=\"data row10 col5\" ><</td>\n",
              "      <td id=\"T_423a3_row10_col6\" class=\"data row10 col6\" >349870</td>\n",
              "      <td id=\"T_423a3_row10_col7\" class=\"data row10 col7\" >Mukherjee</td>\n",
              "    </tr>\n",
              "    <tr>\n",
              "      <td id=\"T_423a3_row11_col0\" class=\"data row11 col0\" >Mukherjee</td>\n",
              "      <td id=\"T_423a3_row11_col1\" class=\"data row11 col1\" >40</td>\n",
              "      <td id=\"T_423a3_row11_col2\" class=\"data row11 col2\" >></td>\n",
              "      <td id=\"T_423a3_row11_col3\" class=\"data row11 col3\" >40</td>\n",
              "      <td id=\"T_423a3_row11_col4\" class=\"data row11 col4\" >349870</td>\n",
              "      <td id=\"T_423a3_row11_col5\" class=\"data row11 col5\" ><</td>\n",
              "      <td id=\"T_423a3_row11_col6\" class=\"data row11 col6\" >349870</td>\n",
              "      <td id=\"T_423a3_row11_col7\" class=\"data row11 col7\" >Mukherjee</td>\n",
              "    </tr>\n",
              "  </tbody>\n",
              "</table>\n"
            ]
          },
          "metadata": {},
          "execution_count": 55
        }
      ]
    },
    {
      "cell_type": "markdown",
      "source": [
        "### Self Join / Single Table"
      ],
      "metadata": {
        "id": "jeknsMbjCA2A"
      }
    },
    {
      "cell_type": "code",
      "source": [
        "cmd = \"Select w.FirstName, w.JobDesc, w.DeptID, \\\n",
        "    ' hired by ' hiredby, \\\n",
        "    m.FirstName,m.JobDesc,m.DeptID \\\n",
        "    from empl w, empl m \\\n",
        "    where w.HiredBy = m.EmpID\"\n",
        "\n",
        "runSelect(cmd)"
      ],
      "metadata": {
        "colab": {
          "base_uri": "https://localhost:8080/",
          "height": 426
        },
        "id": "iDPmUw9-CEBH",
        "outputId": "43880555-440e-47ea-a80b-3c36f4a52bae"
      },
      "execution_count": 56,
      "outputs": [
        {
          "output_type": "execute_result",
          "data": {
            "text/plain": [
              "<pandas.io.formats.style.Styler at 0x7a6aa6bae380>"
            ],
            "text/html": [
              "<style type=\"text/css\">\n",
              "</style>\n",
              "<table id=\"T_1405a\" class=\"dataframe\">\n",
              "  <thead>\n",
              "    <tr>\n",
              "      <th id=\"T_1405a_level0_col0\" class=\"col_heading level0 col0\" >firstname</th>\n",
              "      <th id=\"T_1405a_level0_col1\" class=\"col_heading level0 col1\" >jobdesc</th>\n",
              "      <th id=\"T_1405a_level0_col2\" class=\"col_heading level0 col2\" >deptid</th>\n",
              "      <th id=\"T_1405a_level0_col3\" class=\"col_heading level0 col3\" >hiredby</th>\n",
              "      <th id=\"T_1405a_level0_col4\" class=\"col_heading level0 col4\" >firstname</th>\n",
              "      <th id=\"T_1405a_level0_col5\" class=\"col_heading level0 col5\" >jobdesc</th>\n",
              "      <th id=\"T_1405a_level0_col6\" class=\"col_heading level0 col6\" >deptid</th>\n",
              "    </tr>\n",
              "  </thead>\n",
              "  <tbody>\n",
              "    <tr>\n",
              "      <td id=\"T_1405a_row0_col0\" class=\"data row0 col0\" >Rani</td>\n",
              "      <td id=\"T_1405a_row0_col1\" class=\"data row0 col1\" >Manager</td>\n",
              "      <td id=\"T_1405a_row0_col2\" class=\"data row0 col2\" >40</td>\n",
              "      <td id=\"T_1405a_row0_col3\" class=\"data row0 col3\" > hired by </td>\n",
              "      <td id=\"T_1405a_row0_col4\" class=\"data row0 col4\" >Amitabh</td>\n",
              "      <td id=\"T_1405a_row0_col5\" class=\"data row0 col5\" >Executive</td>\n",
              "      <td id=\"T_1405a_row0_col6\" class=\"data row0 col6\" >10</td>\n",
              "    </tr>\n",
              "    <tr>\n",
              "      <td id=\"T_1405a_row1_col0\" class=\"data row1 col0\" >Madhuri</td>\n",
              "      <td id=\"T_1405a_row1_col1\" class=\"data row1 col1\" >Clerk</td>\n",
              "      <td id=\"T_1405a_row1_col2\" class=\"data row1 col2\" >20</td>\n",
              "      <td id=\"T_1405a_row1_col3\" class=\"data row1 col3\" > hired by </td>\n",
              "      <td id=\"T_1405a_row1_col4\" class=\"data row1 col4\" >Shahrukh</td>\n",
              "      <td id=\"T_1405a_row1_col5\" class=\"data row1 col5\" >Manager</td>\n",
              "      <td id=\"T_1405a_row1_col6\" class=\"data row1 col6\" >20</td>\n",
              "    </tr>\n",
              "    <tr>\n",
              "      <td id=\"T_1405a_row2_col0\" class=\"data row2 col0\" >Shahrukh</td>\n",
              "      <td id=\"T_1405a_row2_col1\" class=\"data row2 col1\" >Manager</td>\n",
              "      <td id=\"T_1405a_row2_col2\" class=\"data row2 col2\" >20</td>\n",
              "      <td id=\"T_1405a_row2_col3\" class=\"data row2 col3\" > hired by </td>\n",
              "      <td id=\"T_1405a_row2_col4\" class=\"data row2 col4\" >Amitabh</td>\n",
              "      <td id=\"T_1405a_row2_col5\" class=\"data row2 col5\" >Executive</td>\n",
              "      <td id=\"T_1405a_row2_col6\" class=\"data row2 col6\" >10</td>\n",
              "    </tr>\n",
              "    <tr>\n",
              "      <td id=\"T_1405a_row3_col0\" class=\"data row3 col0\" >Virender</td>\n",
              "      <td id=\"T_1405a_row3_col1\" class=\"data row3 col1\" >Cus_Rep</td>\n",
              "      <td id=\"T_1405a_row3_col2\" class=\"data row3 col2\" >20</td>\n",
              "      <td id=\"T_1405a_row3_col3\" class=\"data row3 col3\" > hired by </td>\n",
              "      <td id=\"T_1405a_row3_col4\" class=\"data row3 col4\" >Shahrukh</td>\n",
              "      <td id=\"T_1405a_row3_col5\" class=\"data row3 col5\" >Manager</td>\n",
              "      <td id=\"T_1405a_row3_col6\" class=\"data row3 col6\" >20</td>\n",
              "    </tr>\n",
              "    <tr>\n",
              "      <td id=\"T_1405a_row4_col0\" class=\"data row4 col0\" >Mahender</td>\n",
              "      <td id=\"T_1405a_row4_col1\" class=\"data row4 col1\" >Clerk</td>\n",
              "      <td id=\"T_1405a_row4_col2\" class=\"data row4 col2\" >40</td>\n",
              "      <td id=\"T_1405a_row4_col3\" class=\"data row4 col3\" > hired by </td>\n",
              "      <td id=\"T_1405a_row4_col4\" class=\"data row4 col4\" >Rani</td>\n",
              "      <td id=\"T_1405a_row4_col5\" class=\"data row4 col5\" >Manager</td>\n",
              "      <td id=\"T_1405a_row4_col6\" class=\"data row4 col6\" >40</td>\n",
              "    </tr>\n",
              "    <tr>\n",
              "      <td id=\"T_1405a_row5_col0\" class=\"data row5 col0\" >Rahul</td>\n",
              "      <td id=\"T_1405a_row5_col1\" class=\"data row5 col1\" >Sr Manager</td>\n",
              "      <td id=\"T_1405a_row5_col2\" class=\"data row5 col2\" >30</td>\n",
              "      <td id=\"T_1405a_row5_col3\" class=\"data row5 col3\" > hired by </td>\n",
              "      <td id=\"T_1405a_row5_col4\" class=\"data row5 col4\" >Amitabh</td>\n",
              "      <td id=\"T_1405a_row5_col5\" class=\"data row5 col5\" >Executive</td>\n",
              "      <td id=\"T_1405a_row5_col6\" class=\"data row5 col6\" >10</td>\n",
              "    </tr>\n",
              "    <tr>\n",
              "      <td id=\"T_1405a_row6_col0\" class=\"data row6 col0\" >Jagmohan</td>\n",
              "      <td id=\"T_1405a_row6_col1\" class=\"data row6 col1\" >Clerk</td>\n",
              "      <td id=\"T_1405a_row6_col2\" class=\"data row6 col2\" >30</td>\n",
              "      <td id=\"T_1405a_row6_col3\" class=\"data row6 col3\" > hired by </td>\n",
              "      <td id=\"T_1405a_row6_col4\" class=\"data row6 col4\" >Rahul</td>\n",
              "      <td id=\"T_1405a_row6_col5\" class=\"data row6 col5\" >Sr Manager</td>\n",
              "      <td id=\"T_1405a_row6_col6\" class=\"data row6 col6\" >30</td>\n",
              "    </tr>\n",
              "    <tr>\n",
              "      <td id=\"T_1405a_row7_col0\" class=\"data row7 col0\" >Sourav</td>\n",
              "      <td id=\"T_1405a_row7_col1\" class=\"data row7 col1\" >Cus_Rep</td>\n",
              "      <td id=\"T_1405a_row7_col2\" class=\"data row7 col2\" >40</td>\n",
              "      <td id=\"T_1405a_row7_col3\" class=\"data row7 col3\" > hired by </td>\n",
              "      <td id=\"T_1405a_row7_col4\" class=\"data row7 col4\" >Rekha</td>\n",
              "      <td id=\"T_1405a_row7_col5\" class=\"data row7 col5\" >Director</td>\n",
              "      <td id=\"T_1405a_row7_col6\" class=\"data row7 col6\" >10</td>\n",
              "    </tr>\n",
              "    <tr>\n",
              "      <td id=\"T_1405a_row8_col0\" class=\"data row8 col0\" >Rekha</td>\n",
              "      <td id=\"T_1405a_row8_col1\" class=\"data row8 col1\" >Director</td>\n",
              "      <td id=\"T_1405a_row8_col2\" class=\"data row8 col2\" >10</td>\n",
              "      <td id=\"T_1405a_row8_col3\" class=\"data row8 col3\" > hired by </td>\n",
              "      <td id=\"T_1405a_row8_col4\" class=\"data row8 col4\" >Amitabh</td>\n",
              "      <td id=\"T_1405a_row8_col5\" class=\"data row8 col5\" >Executive</td>\n",
              "      <td id=\"T_1405a_row8_col6\" class=\"data row8 col6\" >10</td>\n",
              "    </tr>\n",
              "    <tr>\n",
              "      <td id=\"T_1405a_row9_col0\" class=\"data row9 col0\" >Narayan</td>\n",
              "      <td id=\"T_1405a_row9_col1\" class=\"data row9 col1\" >Secretary</td>\n",
              "      <td id=\"T_1405a_row9_col2\" class=\"data row9 col2\" >10</td>\n",
              "      <td id=\"T_1405a_row9_col3\" class=\"data row9 col3\" > hired by </td>\n",
              "      <td id=\"T_1405a_row9_col4\" class=\"data row9 col4\" >Rekha</td>\n",
              "      <td id=\"T_1405a_row9_col5\" class=\"data row9 col5\" >Director</td>\n",
              "      <td id=\"T_1405a_row9_col6\" class=\"data row9 col6\" >10</td>\n",
              "    </tr>\n",
              "    <tr>\n",
              "      <td id=\"T_1405a_row10_col0\" class=\"data row10 col0\" >Chettri</td>\n",
              "      <td id=\"T_1405a_row10_col1\" class=\"data row10 col1\" >Dy Manager</td>\n",
              "      <td id=\"T_1405a_row10_col2\" class=\"data row10 col2\" >70</td>\n",
              "      <td id=\"T_1405a_row10_col3\" class=\"data row10 col3\" > hired by </td>\n",
              "      <td id=\"T_1405a_row10_col4\" class=\"data row10 col4\" >Sourav</td>\n",
              "      <td id=\"T_1405a_row10_col5\" class=\"data row10 col5\" >Cus_Rep</td>\n",
              "      <td id=\"T_1405a_row10_col6\" class=\"data row10 col6\" >40</td>\n",
              "    </tr>\n",
              "    <tr>\n",
              "      <td id=\"T_1405a_row11_col0\" class=\"data row11 col0\" >Sania</td>\n",
              "      <td id=\"T_1405a_row11_col1\" class=\"data row11 col1\" >Cus_Rep</td>\n",
              "      <td id=\"T_1405a_row11_col2\" class=\"data row11 col2\" >30</td>\n",
              "      <td id=\"T_1405a_row11_col3\" class=\"data row11 col3\" > hired by </td>\n",
              "      <td id=\"T_1405a_row11_col4\" class=\"data row11 col4\" >Rahul</td>\n",
              "      <td id=\"T_1405a_row11_col5\" class=\"data row11 col5\" >Sr Manager</td>\n",
              "      <td id=\"T_1405a_row11_col6\" class=\"data row11 col6\" >30</td>\n",
              "    </tr>\n",
              "  </tbody>\n",
              "</table>\n"
            ]
          },
          "metadata": {},
          "execution_count": 56
        }
      ]
    },
    {
      "cell_type": "markdown",
      "source": [
        "#Subquery"
      ],
      "metadata": {
        "id": "tXDgw1RBzUf-"
      }
    },
    {
      "cell_type": "code",
      "source": [
        "sql = \"select lastname, salary, jobdesc, deptid from empl where \\\n",
        "salary = (select max(salary) from empl where deptid = '20') \\\n",
        "and deptid = '20'\"\n",
        "\n",
        "runSelect(sql)"
      ],
      "metadata": {
        "colab": {
          "base_uri": "https://localhost:8080/",
          "height": 81
        },
        "id": "SxQqgOcHzYTF",
        "outputId": "37decb6f-8dfa-49c7-d82b-0fed87faa2fb"
      },
      "execution_count": 57,
      "outputs": [
        {
          "output_type": "execute_result",
          "data": {
            "text/plain": [
              "<pandas.io.formats.style.Styler at 0x7a6aa6bd9c30>"
            ],
            "text/html": [
              "<style type=\"text/css\">\n",
              "</style>\n",
              "<table id=\"T_75ab6\" class=\"dataframe\">\n",
              "  <thead>\n",
              "    <tr>\n",
              "      <th id=\"T_75ab6_level0_col0\" class=\"col_heading level0 col0\" >lastname</th>\n",
              "      <th id=\"T_75ab6_level0_col1\" class=\"col_heading level0 col1\" >salary</th>\n",
              "      <th id=\"T_75ab6_level0_col2\" class=\"col_heading level0 col2\" >jobdesc</th>\n",
              "      <th id=\"T_75ab6_level0_col3\" class=\"col_heading level0 col3\" >deptid</th>\n",
              "    </tr>\n",
              "  </thead>\n",
              "  <tbody>\n",
              "    <tr>\n",
              "      <td id=\"T_75ab6_row0_col0\" class=\"data row0 col0\" >Khan</td>\n",
              "      <td id=\"T_75ab6_row0_col1\" class=\"data row0 col1\" >30000</td>\n",
              "      <td id=\"T_75ab6_row0_col2\" class=\"data row0 col2\" >Manager</td>\n",
              "      <td id=\"T_75ab6_row0_col3\" class=\"data row0 col3\" >20</td>\n",
              "    </tr>\n",
              "  </tbody>\n",
              "</table>\n"
            ]
          },
          "metadata": {},
          "execution_count": 57
        }
      ]
    },
    {
      "cell_type": "code",
      "source": [
        "sql = \"select lastname, salary, jobdesc, deptid from empl where salary < (select avg(salary) from empl where deptid = '20')\\\n",
        "and deptid = '20'\"\n",
        "runSelect(sql)"
      ],
      "metadata": {
        "colab": {
          "base_uri": "https://localhost:8080/",
          "height": 112
        },
        "id": "oEhaMtyLz3Tm",
        "outputId": "53cfb158-e7b4-4c7f-cb5c-2aeea2a9df3c"
      },
      "execution_count": 58,
      "outputs": [
        {
          "output_type": "execute_result",
          "data": {
            "text/plain": [
              "<pandas.io.formats.style.Styler at 0x7a6aa6bafcd0>"
            ],
            "text/html": [
              "<style type=\"text/css\">\n",
              "</style>\n",
              "<table id=\"T_67fdd\" class=\"dataframe\">\n",
              "  <thead>\n",
              "    <tr>\n",
              "      <th id=\"T_67fdd_level0_col0\" class=\"col_heading level0 col0\" >lastname</th>\n",
              "      <th id=\"T_67fdd_level0_col1\" class=\"col_heading level0 col1\" >salary</th>\n",
              "      <th id=\"T_67fdd_level0_col2\" class=\"col_heading level0 col2\" >jobdesc</th>\n",
              "      <th id=\"T_67fdd_level0_col3\" class=\"col_heading level0 col3\" >deptid</th>\n",
              "    </tr>\n",
              "  </thead>\n",
              "  <tbody>\n",
              "    <tr>\n",
              "      <td id=\"T_67fdd_row0_col0\" class=\"data row0 col0\" >Dikshit</td>\n",
              "      <td id=\"T_67fdd_row0_col1\" class=\"data row0 col1\" >10000</td>\n",
              "      <td id=\"T_67fdd_row0_col2\" class=\"data row0 col2\" >Clerk</td>\n",
              "      <td id=\"T_67fdd_row0_col3\" class=\"data row0 col3\" >20</td>\n",
              "    </tr>\n",
              "    <tr>\n",
              "      <td id=\"T_67fdd_row1_col0\" class=\"data row1 col0\" >Sehwag</td>\n",
              "      <td id=\"T_67fdd_row1_col1\" class=\"data row1 col1\" >15000</td>\n",
              "      <td id=\"T_67fdd_row1_col2\" class=\"data row1 col2\" >Cus_Rep</td>\n",
              "      <td id=\"T_67fdd_row1_col3\" class=\"data row1 col3\" >20</td>\n",
              "    </tr>\n",
              "  </tbody>\n",
              "</table>\n"
            ]
          },
          "metadata": {},
          "execution_count": 58
        }
      ]
    },
    {
      "cell_type": "markdown",
      "source": [
        "## Exists | Not Exists"
      ],
      "metadata": {
        "id": "l3GWzCV24a2x"
      }
    },
    {
      "cell_type": "code",
      "source": [
        "#!psql -h localhost -p 5432 -Uupraxis -ddbpraxis -c \"\\\n",
        "sql = \"\\\n",
        "select firstname, jobdesc, deptid from empl \\\n",
        "where exists \\\n",
        "(select * from dept where empl.deptid = dept.deptid)\\\n",
        "order by deptid \\\n",
        "\"\n",
        "runSelect(sql)"
      ],
      "metadata": {
        "colab": {
          "base_uri": "https://localhost:8080/",
          "height": 426
        },
        "id": "9vlJrd584fWu",
        "outputId": "23095483-3ad3-4461-9730-5d055e8265c2"
      },
      "execution_count": 59,
      "outputs": [
        {
          "output_type": "execute_result",
          "data": {
            "text/plain": [
              "<pandas.io.formats.style.Styler at 0x7a6aa6baf7c0>"
            ],
            "text/html": [
              "<style type=\"text/css\">\n",
              "</style>\n",
              "<table id=\"T_308c8\" class=\"dataframe\">\n",
              "  <thead>\n",
              "    <tr>\n",
              "      <th id=\"T_308c8_level0_col0\" class=\"col_heading level0 col0\" >firstname</th>\n",
              "      <th id=\"T_308c8_level0_col1\" class=\"col_heading level0 col1\" >jobdesc</th>\n",
              "      <th id=\"T_308c8_level0_col2\" class=\"col_heading level0 col2\" >deptid</th>\n",
              "    </tr>\n",
              "  </thead>\n",
              "  <tbody>\n",
              "    <tr>\n",
              "      <td id=\"T_308c8_row0_col0\" class=\"data row0 col0\" >Amitabh</td>\n",
              "      <td id=\"T_308c8_row0_col1\" class=\"data row0 col1\" >Executive</td>\n",
              "      <td id=\"T_308c8_row0_col2\" class=\"data row0 col2\" >10</td>\n",
              "    </tr>\n",
              "    <tr>\n",
              "      <td id=\"T_308c8_row1_col0\" class=\"data row1 col0\" >Rekha</td>\n",
              "      <td id=\"T_308c8_row1_col1\" class=\"data row1 col1\" >Director</td>\n",
              "      <td id=\"T_308c8_row1_col2\" class=\"data row1 col2\" >10</td>\n",
              "    </tr>\n",
              "    <tr>\n",
              "      <td id=\"T_308c8_row2_col0\" class=\"data row2 col0\" >Narayan</td>\n",
              "      <td id=\"T_308c8_row2_col1\" class=\"data row2 col1\" >Secretary</td>\n",
              "      <td id=\"T_308c8_row2_col2\" class=\"data row2 col2\" >10</td>\n",
              "    </tr>\n",
              "    <tr>\n",
              "      <td id=\"T_308c8_row3_col0\" class=\"data row3 col0\" >Madhuri</td>\n",
              "      <td id=\"T_308c8_row3_col1\" class=\"data row3 col1\" >Clerk</td>\n",
              "      <td id=\"T_308c8_row3_col2\" class=\"data row3 col2\" >20</td>\n",
              "    </tr>\n",
              "    <tr>\n",
              "      <td id=\"T_308c8_row4_col0\" class=\"data row4 col0\" >Shahrukh</td>\n",
              "      <td id=\"T_308c8_row4_col1\" class=\"data row4 col1\" >Manager</td>\n",
              "      <td id=\"T_308c8_row4_col2\" class=\"data row4 col2\" >20</td>\n",
              "    </tr>\n",
              "    <tr>\n",
              "      <td id=\"T_308c8_row5_col0\" class=\"data row5 col0\" >Virender</td>\n",
              "      <td id=\"T_308c8_row5_col1\" class=\"data row5 col1\" >Cus_Rep</td>\n",
              "      <td id=\"T_308c8_row5_col2\" class=\"data row5 col2\" >20</td>\n",
              "    </tr>\n",
              "    <tr>\n",
              "      <td id=\"T_308c8_row6_col0\" class=\"data row6 col0\" >Sania</td>\n",
              "      <td id=\"T_308c8_row6_col1\" class=\"data row6 col1\" >Cus_Rep</td>\n",
              "      <td id=\"T_308c8_row6_col2\" class=\"data row6 col2\" >30</td>\n",
              "    </tr>\n",
              "    <tr>\n",
              "      <td id=\"T_308c8_row7_col0\" class=\"data row7 col0\" >Rahul</td>\n",
              "      <td id=\"T_308c8_row7_col1\" class=\"data row7 col1\" >Sr Manager</td>\n",
              "      <td id=\"T_308c8_row7_col2\" class=\"data row7 col2\" >30</td>\n",
              "    </tr>\n",
              "    <tr>\n",
              "      <td id=\"T_308c8_row8_col0\" class=\"data row8 col0\" >Jagmohan</td>\n",
              "      <td id=\"T_308c8_row8_col1\" class=\"data row8 col1\" >Clerk</td>\n",
              "      <td id=\"T_308c8_row8_col2\" class=\"data row8 col2\" >30</td>\n",
              "    </tr>\n",
              "    <tr>\n",
              "      <td id=\"T_308c8_row9_col0\" class=\"data row9 col0\" >Sourav</td>\n",
              "      <td id=\"T_308c8_row9_col1\" class=\"data row9 col1\" >Cus_Rep</td>\n",
              "      <td id=\"T_308c8_row9_col2\" class=\"data row9 col2\" >40</td>\n",
              "    </tr>\n",
              "    <tr>\n",
              "      <td id=\"T_308c8_row10_col0\" class=\"data row10 col0\" >Mahender</td>\n",
              "      <td id=\"T_308c8_row10_col1\" class=\"data row10 col1\" >Clerk</td>\n",
              "      <td id=\"T_308c8_row10_col2\" class=\"data row10 col2\" >40</td>\n",
              "    </tr>\n",
              "    <tr>\n",
              "      <td id=\"T_308c8_row11_col0\" class=\"data row11 col0\" >Rani</td>\n",
              "      <td id=\"T_308c8_row11_col1\" class=\"data row11 col1\" >Manager</td>\n",
              "      <td id=\"T_308c8_row11_col2\" class=\"data row11 col2\" >40</td>\n",
              "    </tr>\n",
              "  </tbody>\n",
              "</table>\n"
            ]
          },
          "metadata": {},
          "execution_count": 59
        }
      ]
    },
    {
      "cell_type": "code",
      "source": [
        "#!psql -h localhost -p 5432 -Uupraxis -ddbpraxis -c \"\\\n",
        "sql = \"\\\n",
        "select firstname, jobdesc, deptid from empl \\\n",
        "where not exists \\\n",
        "(select * from dept where empl.deptid = dept.deptid)\\\n",
        "order by deptid \\\n",
        "\"\n",
        "runSelect(sql)"
      ],
      "metadata": {
        "colab": {
          "base_uri": "https://localhost:8080/",
          "height": 81
        },
        "id": "6ntFTYfv5AyB",
        "outputId": "b30f9bbf-170e-4089-e084-ab4236dbabde"
      },
      "execution_count": 60,
      "outputs": [
        {
          "output_type": "execute_result",
          "data": {
            "text/plain": [
              "<pandas.io.formats.style.Styler at 0x7a6aa6bd9e40>"
            ],
            "text/html": [
              "<style type=\"text/css\">\n",
              "</style>\n",
              "<table id=\"T_aa671\" class=\"dataframe\">\n",
              "  <thead>\n",
              "    <tr>\n",
              "      <th id=\"T_aa671_level0_col0\" class=\"col_heading level0 col0\" >firstname</th>\n",
              "      <th id=\"T_aa671_level0_col1\" class=\"col_heading level0 col1\" >jobdesc</th>\n",
              "      <th id=\"T_aa671_level0_col2\" class=\"col_heading level0 col2\" >deptid</th>\n",
              "    </tr>\n",
              "  </thead>\n",
              "  <tbody>\n",
              "    <tr>\n",
              "      <td id=\"T_aa671_row0_col0\" class=\"data row0 col0\" >Chettri</td>\n",
              "      <td id=\"T_aa671_row0_col1\" class=\"data row0 col1\" >Dy Manager</td>\n",
              "      <td id=\"T_aa671_row0_col2\" class=\"data row0 col2\" >70</td>\n",
              "    </tr>\n",
              "  </tbody>\n",
              "</table>\n"
            ]
          },
          "metadata": {},
          "execution_count": 60
        }
      ]
    },
    {
      "cell_type": "markdown",
      "source": [
        "## ALL | ANY"
      ],
      "metadata": {
        "id": "Ft9lsq4Uh8-6"
      }
    },
    {
      "cell_type": "code",
      "source": [
        "#!psql -h localhost -p 5432 -Uupraxis -ddbpraxis -c \"\\\n",
        "sql = \"\\\n",
        "select firstname, jobdesc, deptid, salary from empl \\\n",
        "where salary > all \\\n",
        "(select avg(salary) from empl)\\\n",
        "\"\n",
        "runSelect(sql)"
      ],
      "metadata": {
        "id": "ZySW3QRkiBUG",
        "outputId": "ba531e55-0c75-4a82-cba6-0a2d8c96e7b2",
        "colab": {
          "base_uri": "https://localhost:8080/",
          "height": 238
        }
      },
      "execution_count": 61,
      "outputs": [
        {
          "output_type": "execute_result",
          "data": {
            "text/plain": [
              "<pandas.io.formats.style.Styler at 0x7a6aa6bd8ca0>"
            ],
            "text/html": [
              "<style type=\"text/css\">\n",
              "</style>\n",
              "<table id=\"T_41139\" class=\"dataframe\">\n",
              "  <thead>\n",
              "    <tr>\n",
              "      <th id=\"T_41139_level0_col0\" class=\"col_heading level0 col0\" >firstname</th>\n",
              "      <th id=\"T_41139_level0_col1\" class=\"col_heading level0 col1\" >jobdesc</th>\n",
              "      <th id=\"T_41139_level0_col2\" class=\"col_heading level0 col2\" >deptid</th>\n",
              "      <th id=\"T_41139_level0_col3\" class=\"col_heading level0 col3\" >salary</th>\n",
              "    </tr>\n",
              "  </thead>\n",
              "  <tbody>\n",
              "    <tr>\n",
              "      <td id=\"T_41139_row0_col0\" class=\"data row0 col0\" >Amitabh</td>\n",
              "      <td id=\"T_41139_row0_col1\" class=\"data row0 col1\" >Executive</td>\n",
              "      <td id=\"T_41139_row0_col2\" class=\"data row0 col2\" >10</td>\n",
              "      <td id=\"T_41139_row0_col3\" class=\"data row0 col3\" >50000</td>\n",
              "    </tr>\n",
              "    <tr>\n",
              "      <td id=\"T_41139_row1_col0\" class=\"data row1 col0\" >Shahrukh</td>\n",
              "      <td id=\"T_41139_row1_col1\" class=\"data row1 col1\" >Manager</td>\n",
              "      <td id=\"T_41139_row1_col2\" class=\"data row1 col2\" >20</td>\n",
              "      <td id=\"T_41139_row1_col3\" class=\"data row1 col3\" >30000</td>\n",
              "    </tr>\n",
              "    <tr>\n",
              "      <td id=\"T_41139_row2_col0\" class=\"data row2 col0\" >Rahul</td>\n",
              "      <td id=\"T_41139_row2_col1\" class=\"data row2 col1\" >Sr Manager</td>\n",
              "      <td id=\"T_41139_row2_col2\" class=\"data row2 col2\" >30</td>\n",
              "      <td id=\"T_41139_row2_col3\" class=\"data row2 col3\" >40000</td>\n",
              "    </tr>\n",
              "    <tr>\n",
              "      <td id=\"T_41139_row3_col0\" class=\"data row3 col0\" >Rekha</td>\n",
              "      <td id=\"T_41139_row3_col1\" class=\"data row3 col1\" >Director</td>\n",
              "      <td id=\"T_41139_row3_col2\" class=\"data row3 col2\" >10</td>\n",
              "      <td id=\"T_41139_row3_col3\" class=\"data row3 col3\" >60000</td>\n",
              "    </tr>\n",
              "    <tr>\n",
              "      <td id=\"T_41139_row4_col0\" class=\"data row4 col0\" >Narayan</td>\n",
              "      <td id=\"T_41139_row4_col1\" class=\"data row4 col1\" >Secretary</td>\n",
              "      <td id=\"T_41139_row4_col2\" class=\"data row4 col2\" >10</td>\n",
              "      <td id=\"T_41139_row4_col3\" class=\"data row4 col3\" >40000</td>\n",
              "    </tr>\n",
              "    <tr>\n",
              "      <td id=\"T_41139_row5_col0\" class=\"data row5 col0\" >Chettri</td>\n",
              "      <td id=\"T_41139_row5_col1\" class=\"data row5 col1\" >Dy Manager</td>\n",
              "      <td id=\"T_41139_row5_col2\" class=\"data row5 col2\" >70</td>\n",
              "      <td id=\"T_41139_row5_col3\" class=\"data row5 col3\" >40000</td>\n",
              "    </tr>\n",
              "  </tbody>\n",
              "</table>\n"
            ]
          },
          "metadata": {},
          "execution_count": 61
        }
      ]
    },
    {
      "cell_type": "code",
      "source": [
        "#!psql -h localhost -p 5432 -Uupraxis -ddbpraxis -c \"\\\n",
        "sql = \"\\\n",
        "select firstname, jobdesc, deptid, salary from empl \\\n",
        "where salary <= any \\\n",
        "(select min(salary) from empl)\\\n",
        "\"\n",
        "runSelect(sql)"
      ],
      "metadata": {
        "id": "OrNzFUx2i6n1",
        "outputId": "6a96343f-cffa-4c8e-ca60-79a7024a2a3c",
        "colab": {
          "base_uri": "https://localhost:8080/",
          "height": 81
        }
      },
      "execution_count": 62,
      "outputs": [
        {
          "output_type": "execute_result",
          "data": {
            "text/plain": [
              "<pandas.io.formats.style.Styler at 0x7a6aa6bda890>"
            ],
            "text/html": [
              "<style type=\"text/css\">\n",
              "</style>\n",
              "<table id=\"T_0c333\" class=\"dataframe\">\n",
              "  <thead>\n",
              "    <tr>\n",
              "      <th id=\"T_0c333_level0_col0\" class=\"col_heading level0 col0\" >firstname</th>\n",
              "      <th id=\"T_0c333_level0_col1\" class=\"col_heading level0 col1\" >jobdesc</th>\n",
              "      <th id=\"T_0c333_level0_col2\" class=\"col_heading level0 col2\" >deptid</th>\n",
              "      <th id=\"T_0c333_level0_col3\" class=\"col_heading level0 col3\" >salary</th>\n",
              "    </tr>\n",
              "  </thead>\n",
              "  <tbody>\n",
              "    <tr>\n",
              "      <td id=\"T_0c333_row0_col0\" class=\"data row0 col0\" >Mahender</td>\n",
              "      <td id=\"T_0c333_row0_col1\" class=\"data row0 col1\" >Clerk</td>\n",
              "      <td id=\"T_0c333_row0_col2\" class=\"data row0 col2\" >40</td>\n",
              "      <td id=\"T_0c333_row0_col3\" class=\"data row0 col3\" >9000</td>\n",
              "    </tr>\n",
              "  </tbody>\n",
              "</table>\n"
            ]
          },
          "metadata": {},
          "execution_count": 62
        }
      ]
    },
    {
      "cell_type": "markdown",
      "source": [
        "## Common Table Extensions CTE"
      ],
      "metadata": {
        "id": "2gvg8pwe3ale"
      }
    },
    {
      "cell_type": "code",
      "source": [
        "sql = \"\\\n",
        "select jobdesc, avg(salary) avgsalary from empl group by jobdesc \\\n",
        "\"\n",
        "runSelect(sql)"
      ],
      "metadata": {
        "id": "7mu6mmXA3pVn",
        "outputId": "f3832c9c-892a-4d33-d3c9-18b409c23325",
        "colab": {
          "base_uri": "https://localhost:8080/",
          "height": 300
        }
      },
      "execution_count": 63,
      "outputs": [
        {
          "output_type": "execute_result",
          "data": {
            "text/plain": [
              "<pandas.io.formats.style.Styler at 0x7a6aa6bfc340>"
            ],
            "text/html": [
              "<style type=\"text/css\">\n",
              "</style>\n",
              "<table id=\"T_2abc6\" class=\"dataframe\">\n",
              "  <thead>\n",
              "    <tr>\n",
              "      <th id=\"T_2abc6_level0_col0\" class=\"col_heading level0 col0\" >jobdesc</th>\n",
              "      <th id=\"T_2abc6_level0_col1\" class=\"col_heading level0 col1\" >avgsalary</th>\n",
              "    </tr>\n",
              "  </thead>\n",
              "  <tbody>\n",
              "    <tr>\n",
              "      <td id=\"T_2abc6_row0_col0\" class=\"data row0 col0\" >Director</td>\n",
              "      <td id=\"T_2abc6_row0_col1\" class=\"data row0 col1\" >60000.000000000000</td>\n",
              "    </tr>\n",
              "    <tr>\n",
              "      <td id=\"T_2abc6_row1_col0\" class=\"data row1 col0\" >Manager</td>\n",
              "      <td id=\"T_2abc6_row1_col1\" class=\"data row1 col1\" >27500.000000000000</td>\n",
              "    </tr>\n",
              "    <tr>\n",
              "      <td id=\"T_2abc6_row2_col0\" class=\"data row2 col0\" >Dy Manager</td>\n",
              "      <td id=\"T_2abc6_row2_col1\" class=\"data row2 col1\" >40000.000000000000</td>\n",
              "    </tr>\n",
              "    <tr>\n",
              "      <td id=\"T_2abc6_row3_col0\" class=\"data row3 col0\" >Executive</td>\n",
              "      <td id=\"T_2abc6_row3_col1\" class=\"data row3 col1\" >50000.000000000000</td>\n",
              "    </tr>\n",
              "    <tr>\n",
              "      <td id=\"T_2abc6_row4_col0\" class=\"data row4 col0\" >Secretary</td>\n",
              "      <td id=\"T_2abc6_row4_col1\" class=\"data row4 col1\" >40000.000000000000</td>\n",
              "    </tr>\n",
              "    <tr>\n",
              "      <td id=\"T_2abc6_row5_col0\" class=\"data row5 col0\" >Cus_Rep</td>\n",
              "      <td id=\"T_2abc6_row5_col1\" class=\"data row5 col1\" >20000.000000000000</td>\n",
              "    </tr>\n",
              "    <tr>\n",
              "      <td id=\"T_2abc6_row6_col0\" class=\"data row6 col0\" >Clerk</td>\n",
              "      <td id=\"T_2abc6_row6_col1\" class=\"data row6 col1\" >10333.3333333333333333</td>\n",
              "    </tr>\n",
              "    <tr>\n",
              "      <td id=\"T_2abc6_row7_col0\" class=\"data row7 col0\" >Sr Manager</td>\n",
              "      <td id=\"T_2abc6_row7_col1\" class=\"data row7 col1\" >40000.000000000000</td>\n",
              "    </tr>\n",
              "  </tbody>\n",
              "</table>\n"
            ]
          },
          "metadata": {},
          "execution_count": 63
        }
      ]
    },
    {
      "cell_type": "code",
      "source": [
        "sql = \"\\\n",
        "with MeanSalary as \\\n",
        "    (select jobdesc, round(avg(salary),0) avgsalary from empl group by jobdesc) \\\n",
        "select lastname, empl.jobdesc, salary, avgsalary from empl, meansalary \\\n",
        "where empl.jobdesc = meansalary.jobdesc \\\n",
        "order  by jobdesc \\\n",
        "\"\n",
        "runSelect(sql)"
      ],
      "metadata": {
        "id": "0i-rIGEzDgFy",
        "outputId": "56d5be5c-cd02-4ad7-8cf0-b2b0b951bce7",
        "colab": {
          "base_uri": "https://localhost:8080/",
          "height": 457
        }
      },
      "execution_count": 64,
      "outputs": [
        {
          "output_type": "execute_result",
          "data": {
            "text/plain": [
              "<pandas.io.formats.style.Styler at 0x7a6aa6bdbac0>"
            ],
            "text/html": [
              "<style type=\"text/css\">\n",
              "</style>\n",
              "<table id=\"T_bf29d\" class=\"dataframe\">\n",
              "  <thead>\n",
              "    <tr>\n",
              "      <th id=\"T_bf29d_level0_col0\" class=\"col_heading level0 col0\" >lastname</th>\n",
              "      <th id=\"T_bf29d_level0_col1\" class=\"col_heading level0 col1\" >jobdesc</th>\n",
              "      <th id=\"T_bf29d_level0_col2\" class=\"col_heading level0 col2\" >salary</th>\n",
              "      <th id=\"T_bf29d_level0_col3\" class=\"col_heading level0 col3\" >avgsalary</th>\n",
              "    </tr>\n",
              "  </thead>\n",
              "  <tbody>\n",
              "    <tr>\n",
              "      <td id=\"T_bf29d_row0_col0\" class=\"data row0 col0\" >Dalmia</td>\n",
              "      <td id=\"T_bf29d_row0_col1\" class=\"data row0 col1\" >Clerk</td>\n",
              "      <td id=\"T_bf29d_row0_col2\" class=\"data row0 col2\" >12000</td>\n",
              "      <td id=\"T_bf29d_row0_col3\" class=\"data row0 col3\" >10333</td>\n",
              "    </tr>\n",
              "    <tr>\n",
              "      <td id=\"T_bf29d_row1_col0\" class=\"data row1 col0\" >Dikshit</td>\n",
              "      <td id=\"T_bf29d_row1_col1\" class=\"data row1 col1\" >Clerk</td>\n",
              "      <td id=\"T_bf29d_row1_col2\" class=\"data row1 col2\" >10000</td>\n",
              "      <td id=\"T_bf29d_row1_col3\" class=\"data row1 col3\" >10333</td>\n",
              "    </tr>\n",
              "    <tr>\n",
              "      <td id=\"T_bf29d_row2_col0\" class=\"data row2 col0\" >Dhoni</td>\n",
              "      <td id=\"T_bf29d_row2_col1\" class=\"data row2 col1\" >Clerk</td>\n",
              "      <td id=\"T_bf29d_row2_col2\" class=\"data row2 col2\" >9000</td>\n",
              "      <td id=\"T_bf29d_row2_col3\" class=\"data row2 col3\" >10333</td>\n",
              "    </tr>\n",
              "    <tr>\n",
              "      <td id=\"T_bf29d_row3_col0\" class=\"data row3 col0\" >Sehwag</td>\n",
              "      <td id=\"T_bf29d_row3_col1\" class=\"data row3 col1\" >Cus_Rep</td>\n",
              "      <td id=\"T_bf29d_row3_col2\" class=\"data row3 col2\" >15000</td>\n",
              "      <td id=\"T_bf29d_row3_col3\" class=\"data row3 col3\" >20000</td>\n",
              "    </tr>\n",
              "    <tr>\n",
              "      <td id=\"T_bf29d_row4_col0\" class=\"data row4 col0\" >Mirza</td>\n",
              "      <td id=\"T_bf29d_row4_col1\" class=\"data row4 col1\" >Cus_Rep</td>\n",
              "      <td id=\"T_bf29d_row4_col2\" class=\"data row4 col2\" >25000</td>\n",
              "      <td id=\"T_bf29d_row4_col3\" class=\"data row4 col3\" >20000</td>\n",
              "    </tr>\n",
              "    <tr>\n",
              "      <td id=\"T_bf29d_row5_col0\" class=\"data row5 col0\" >Ganguly</td>\n",
              "      <td id=\"T_bf29d_row5_col1\" class=\"data row5 col1\" >Cus_Rep</td>\n",
              "      <td id=\"T_bf29d_row5_col2\" class=\"data row5 col2\" >20000</td>\n",
              "      <td id=\"T_bf29d_row5_col3\" class=\"data row5 col3\" >20000</td>\n",
              "    </tr>\n",
              "    <tr>\n",
              "      <td id=\"T_bf29d_row6_col0\" class=\"data row6 col0\" >Ganesan</td>\n",
              "      <td id=\"T_bf29d_row6_col1\" class=\"data row6 col1\" >Director</td>\n",
              "      <td id=\"T_bf29d_row6_col2\" class=\"data row6 col2\" >60000</td>\n",
              "      <td id=\"T_bf29d_row6_col3\" class=\"data row6 col3\" >60000</td>\n",
              "    </tr>\n",
              "    <tr>\n",
              "      <td id=\"T_bf29d_row7_col0\" class=\"data row7 col0\" >Sunil</td>\n",
              "      <td id=\"T_bf29d_row7_col1\" class=\"data row7 col1\" >Dy Manager</td>\n",
              "      <td id=\"T_bf29d_row7_col2\" class=\"data row7 col2\" >40000</td>\n",
              "      <td id=\"T_bf29d_row7_col3\" class=\"data row7 col3\" >40000</td>\n",
              "    </tr>\n",
              "    <tr>\n",
              "      <td id=\"T_bf29d_row8_col0\" class=\"data row8 col0\" >Bacchan</td>\n",
              "      <td id=\"T_bf29d_row8_col1\" class=\"data row8 col1\" >Executive</td>\n",
              "      <td id=\"T_bf29d_row8_col2\" class=\"data row8 col2\" >50000</td>\n",
              "      <td id=\"T_bf29d_row8_col3\" class=\"data row8 col3\" >50000</td>\n",
              "    </tr>\n",
              "    <tr>\n",
              "      <td id=\"T_bf29d_row9_col0\" class=\"data row9 col0\" >Khan</td>\n",
              "      <td id=\"T_bf29d_row9_col1\" class=\"data row9 col1\" >Manager</td>\n",
              "      <td id=\"T_bf29d_row9_col2\" class=\"data row9 col2\" >30000</td>\n",
              "      <td id=\"T_bf29d_row9_col3\" class=\"data row9 col3\" >27500</td>\n",
              "    </tr>\n",
              "    <tr>\n",
              "      <td id=\"T_bf29d_row10_col0\" class=\"data row10 col0\" >Mukherjee</td>\n",
              "      <td id=\"T_bf29d_row10_col1\" class=\"data row10 col1\" >Manager</td>\n",
              "      <td id=\"T_bf29d_row10_col2\" class=\"data row10 col2\" >25000</td>\n",
              "      <td id=\"T_bf29d_row10_col3\" class=\"data row10 col3\" >27500</td>\n",
              "    </tr>\n",
              "    <tr>\n",
              "      <td id=\"T_bf29d_row11_col0\" class=\"data row11 col0\" >Karthikeyan</td>\n",
              "      <td id=\"T_bf29d_row11_col1\" class=\"data row11 col1\" >Secretary</td>\n",
              "      <td id=\"T_bf29d_row11_col2\" class=\"data row11 col2\" >40000</td>\n",
              "      <td id=\"T_bf29d_row11_col3\" class=\"data row11 col3\" >40000</td>\n",
              "    </tr>\n",
              "    <tr>\n",
              "      <td id=\"T_bf29d_row12_col0\" class=\"data row12 col0\" >Dravid</td>\n",
              "      <td id=\"T_bf29d_row12_col1\" class=\"data row12 col1\" >Sr Manager</td>\n",
              "      <td id=\"T_bf29d_row12_col2\" class=\"data row12 col2\" >40000</td>\n",
              "      <td id=\"T_bf29d_row12_col3\" class=\"data row12 col3\" >40000</td>\n",
              "    </tr>\n",
              "  </tbody>\n",
              "</table>\n"
            ]
          },
          "metadata": {},
          "execution_count": 64
        }
      ]
    },
    {
      "cell_type": "code",
      "source": [
        "sql = \"\\\n",
        "select lastname, empl.jobdesc, salary, avgsalary from \\\n",
        "empl, (select jobdesc, round(avg(salary),0) avgsalary from empl group by jobdesc) meansalary \\\n",
        "where empl.jobdesc = meansalary.jobdesc \\\n",
        "order  by jobdesc \\\n",
        "\"\n",
        "runSelect(sql)"
      ],
      "metadata": {
        "id": "nwrLj4xaExye",
        "outputId": "b621cc67-dd44-4db8-a2ff-dcd9ed95fd0f",
        "colab": {
          "base_uri": "https://localhost:8080/",
          "height": 457
        }
      },
      "execution_count": 65,
      "outputs": [
        {
          "output_type": "execute_result",
          "data": {
            "text/plain": [
              "<pandas.io.formats.style.Styler at 0x7a6aa6bacc70>"
            ],
            "text/html": [
              "<style type=\"text/css\">\n",
              "</style>\n",
              "<table id=\"T_4d479\" class=\"dataframe\">\n",
              "  <thead>\n",
              "    <tr>\n",
              "      <th id=\"T_4d479_level0_col0\" class=\"col_heading level0 col0\" >lastname</th>\n",
              "      <th id=\"T_4d479_level0_col1\" class=\"col_heading level0 col1\" >jobdesc</th>\n",
              "      <th id=\"T_4d479_level0_col2\" class=\"col_heading level0 col2\" >salary</th>\n",
              "      <th id=\"T_4d479_level0_col3\" class=\"col_heading level0 col3\" >avgsalary</th>\n",
              "    </tr>\n",
              "  </thead>\n",
              "  <tbody>\n",
              "    <tr>\n",
              "      <td id=\"T_4d479_row0_col0\" class=\"data row0 col0\" >Dalmia</td>\n",
              "      <td id=\"T_4d479_row0_col1\" class=\"data row0 col1\" >Clerk</td>\n",
              "      <td id=\"T_4d479_row0_col2\" class=\"data row0 col2\" >12000</td>\n",
              "      <td id=\"T_4d479_row0_col3\" class=\"data row0 col3\" >10333</td>\n",
              "    </tr>\n",
              "    <tr>\n",
              "      <td id=\"T_4d479_row1_col0\" class=\"data row1 col0\" >Dikshit</td>\n",
              "      <td id=\"T_4d479_row1_col1\" class=\"data row1 col1\" >Clerk</td>\n",
              "      <td id=\"T_4d479_row1_col2\" class=\"data row1 col2\" >10000</td>\n",
              "      <td id=\"T_4d479_row1_col3\" class=\"data row1 col3\" >10333</td>\n",
              "    </tr>\n",
              "    <tr>\n",
              "      <td id=\"T_4d479_row2_col0\" class=\"data row2 col0\" >Dhoni</td>\n",
              "      <td id=\"T_4d479_row2_col1\" class=\"data row2 col1\" >Clerk</td>\n",
              "      <td id=\"T_4d479_row2_col2\" class=\"data row2 col2\" >9000</td>\n",
              "      <td id=\"T_4d479_row2_col3\" class=\"data row2 col3\" >10333</td>\n",
              "    </tr>\n",
              "    <tr>\n",
              "      <td id=\"T_4d479_row3_col0\" class=\"data row3 col0\" >Sehwag</td>\n",
              "      <td id=\"T_4d479_row3_col1\" class=\"data row3 col1\" >Cus_Rep</td>\n",
              "      <td id=\"T_4d479_row3_col2\" class=\"data row3 col2\" >15000</td>\n",
              "      <td id=\"T_4d479_row3_col3\" class=\"data row3 col3\" >20000</td>\n",
              "    </tr>\n",
              "    <tr>\n",
              "      <td id=\"T_4d479_row4_col0\" class=\"data row4 col0\" >Mirza</td>\n",
              "      <td id=\"T_4d479_row4_col1\" class=\"data row4 col1\" >Cus_Rep</td>\n",
              "      <td id=\"T_4d479_row4_col2\" class=\"data row4 col2\" >25000</td>\n",
              "      <td id=\"T_4d479_row4_col3\" class=\"data row4 col3\" >20000</td>\n",
              "    </tr>\n",
              "    <tr>\n",
              "      <td id=\"T_4d479_row5_col0\" class=\"data row5 col0\" >Ganguly</td>\n",
              "      <td id=\"T_4d479_row5_col1\" class=\"data row5 col1\" >Cus_Rep</td>\n",
              "      <td id=\"T_4d479_row5_col2\" class=\"data row5 col2\" >20000</td>\n",
              "      <td id=\"T_4d479_row5_col3\" class=\"data row5 col3\" >20000</td>\n",
              "    </tr>\n",
              "    <tr>\n",
              "      <td id=\"T_4d479_row6_col0\" class=\"data row6 col0\" >Ganesan</td>\n",
              "      <td id=\"T_4d479_row6_col1\" class=\"data row6 col1\" >Director</td>\n",
              "      <td id=\"T_4d479_row6_col2\" class=\"data row6 col2\" >60000</td>\n",
              "      <td id=\"T_4d479_row6_col3\" class=\"data row6 col3\" >60000</td>\n",
              "    </tr>\n",
              "    <tr>\n",
              "      <td id=\"T_4d479_row7_col0\" class=\"data row7 col0\" >Sunil</td>\n",
              "      <td id=\"T_4d479_row7_col1\" class=\"data row7 col1\" >Dy Manager</td>\n",
              "      <td id=\"T_4d479_row7_col2\" class=\"data row7 col2\" >40000</td>\n",
              "      <td id=\"T_4d479_row7_col3\" class=\"data row7 col3\" >40000</td>\n",
              "    </tr>\n",
              "    <tr>\n",
              "      <td id=\"T_4d479_row8_col0\" class=\"data row8 col0\" >Bacchan</td>\n",
              "      <td id=\"T_4d479_row8_col1\" class=\"data row8 col1\" >Executive</td>\n",
              "      <td id=\"T_4d479_row8_col2\" class=\"data row8 col2\" >50000</td>\n",
              "      <td id=\"T_4d479_row8_col3\" class=\"data row8 col3\" >50000</td>\n",
              "    </tr>\n",
              "    <tr>\n",
              "      <td id=\"T_4d479_row9_col0\" class=\"data row9 col0\" >Khan</td>\n",
              "      <td id=\"T_4d479_row9_col1\" class=\"data row9 col1\" >Manager</td>\n",
              "      <td id=\"T_4d479_row9_col2\" class=\"data row9 col2\" >30000</td>\n",
              "      <td id=\"T_4d479_row9_col3\" class=\"data row9 col3\" >27500</td>\n",
              "    </tr>\n",
              "    <tr>\n",
              "      <td id=\"T_4d479_row10_col0\" class=\"data row10 col0\" >Mukherjee</td>\n",
              "      <td id=\"T_4d479_row10_col1\" class=\"data row10 col1\" >Manager</td>\n",
              "      <td id=\"T_4d479_row10_col2\" class=\"data row10 col2\" >25000</td>\n",
              "      <td id=\"T_4d479_row10_col3\" class=\"data row10 col3\" >27500</td>\n",
              "    </tr>\n",
              "    <tr>\n",
              "      <td id=\"T_4d479_row11_col0\" class=\"data row11 col0\" >Karthikeyan</td>\n",
              "      <td id=\"T_4d479_row11_col1\" class=\"data row11 col1\" >Secretary</td>\n",
              "      <td id=\"T_4d479_row11_col2\" class=\"data row11 col2\" >40000</td>\n",
              "      <td id=\"T_4d479_row11_col3\" class=\"data row11 col3\" >40000</td>\n",
              "    </tr>\n",
              "    <tr>\n",
              "      <td id=\"T_4d479_row12_col0\" class=\"data row12 col0\" >Dravid</td>\n",
              "      <td id=\"T_4d479_row12_col1\" class=\"data row12 col1\" >Sr Manager</td>\n",
              "      <td id=\"T_4d479_row12_col2\" class=\"data row12 col2\" >40000</td>\n",
              "      <td id=\"T_4d479_row12_col3\" class=\"data row12 col3\" >40000</td>\n",
              "    </tr>\n",
              "  </tbody>\n",
              "</table>\n"
            ]
          },
          "metadata": {},
          "execution_count": 65
        }
      ]
    },
    {
      "cell_type": "markdown",
      "source": [
        "### CTE Recursion"
      ],
      "metadata": {
        "id": "d3j9PbgaADoB"
      }
    },
    {
      "cell_type": "code",
      "source": [
        "# recursion\n",
        "sql = \"\\\n",
        "with recursive hiring_chain as (\\\n",
        "select empid, lastname, hiredby \\\n",
        "    from empl where lastname = 'Ganesan' \\\n",
        "union all \\\n",
        "select \\\n",
        "e.empid, e.lastname,e.hiredby \\\n",
        "    from empl e \\\n",
        "    inner join hiring_chain hc on hc.empid = e.hiredby \\\n",
        ") \\\n",
        "select * from hiring_chain \\\n",
        "\"\n",
        "\n",
        "runSelect(sql)"
      ],
      "metadata": {
        "id": "HA-RyLoz0D3Z",
        "outputId": "fc2be03e-cefe-4b4e-d7ef-114f399dd48b",
        "colab": {
          "base_uri": "https://localhost:8080/",
          "height": 175
        }
      },
      "execution_count": 89,
      "outputs": [
        {
          "output_type": "execute_result",
          "data": {
            "text/plain": [
              "<pandas.io.formats.style.Styler at 0x7a6adc6e2290>"
            ],
            "text/html": [
              "<style type=\"text/css\">\n",
              "</style>\n",
              "<table id=\"T_fec82\" class=\"dataframe\">\n",
              "  <thead>\n",
              "    <tr>\n",
              "      <th id=\"T_fec82_level0_col0\" class=\"col_heading level0 col0\" >empid</th>\n",
              "      <th id=\"T_fec82_level0_col1\" class=\"col_heading level0 col1\" >lastname</th>\n",
              "      <th id=\"T_fec82_level0_col2\" class=\"col_heading level0 col2\" >hiredby</th>\n",
              "    </tr>\n",
              "  </thead>\n",
              "  <tbody>\n",
              "    <tr>\n",
              "      <td id=\"T_fec82_row0_col0\" class=\"data row0 col0\" >299034</td>\n",
              "      <td id=\"T_fec82_row0_col1\" class=\"data row0 col1\" >Ganesan</td>\n",
              "      <td id=\"T_fec82_row0_col2\" class=\"data row0 col2\" >742866</td>\n",
              "    </tr>\n",
              "    <tr>\n",
              "      <td id=\"T_fec82_row1_col0\" class=\"data row1 col0\" >989007</td>\n",
              "      <td id=\"T_fec82_row1_col1\" class=\"data row1 col1\" >Ganguly</td>\n",
              "      <td id=\"T_fec82_row1_col2\" class=\"data row1 col2\" >299034</td>\n",
              "    </tr>\n",
              "    <tr>\n",
              "      <td id=\"T_fec82_row2_col0\" class=\"data row2 col0\" >546223</td>\n",
              "      <td id=\"T_fec82_row2_col1\" class=\"data row2 col1\" >Karthikeyan</td>\n",
              "      <td id=\"T_fec82_row2_col2\" class=\"data row2 col2\" >299034</td>\n",
              "    </tr>\n",
              "    <tr>\n",
              "      <td id=\"T_fec82_row3_col0\" class=\"data row3 col0\" >546224</td>\n",
              "      <td id=\"T_fec82_row3_col1\" class=\"data row3 col1\" >Sunil</td>\n",
              "      <td id=\"T_fec82_row3_col2\" class=\"data row3 col2\" >989007</td>\n",
              "    </tr>\n",
              "  </tbody>\n",
              "</table>\n"
            ]
          },
          "metadata": {},
          "execution_count": 89
        }
      ]
    },
    {
      "cell_type": "markdown",
      "source": [
        "### More Sophisticated Recursion\n",
        "note the switch between upward chain and downward chain in the JOIN column <br>\n",
        "\n",
        "\n",
        "*   Downward > e.hiredby = hc.empid\n",
        "*   Upward   > e.empid = hc.hiredby\n",
        "\n",
        "Courtesy [ChatGPT](https://chat.openai.com/share/80e291a6-bbd2-42d8-ba3d-6e01be4eafd7)"
      ],
      "metadata": {
        "id": "a5zh-tdQAxJp"
      }
    },
    {
      "cell_type": "code",
      "source": [
        "# Downward Chain\n",
        "#\n",
        "sql = \"\\\n",
        "with recursive hiring_chain as (\\\n",
        "select empid, lastname, hiredby, 1 as level \\\n",
        "    from empl where hiredby = '299034' \\\n",
        "union all \\\n",
        "select \\\n",
        "e.empid, e.lastname,e.hiredby, hc.level+1 \\\n",
        "    from empl e \\\n",
        "    inner join hiring_chain hc on e.hiredby = hc.empid  \\\n",
        ") \\\n",
        "select * from hiring_chain \\\n",
        "\"\n",
        "\n",
        "runSelect(sql)"
      ],
      "metadata": {
        "id": "wEsTzZbxA9Y9",
        "outputId": "0caaf731-2e00-438a-810a-63f6f02c5d99",
        "colab": {
          "base_uri": "https://localhost:8080/",
          "height": 143
        }
      },
      "execution_count": 92,
      "outputs": [
        {
          "output_type": "execute_result",
          "data": {
            "text/plain": [
              "<pandas.io.formats.style.Styler at 0x7a6aa6d0b160>"
            ],
            "text/html": [
              "<style type=\"text/css\">\n",
              "</style>\n",
              "<table id=\"T_f0ccf\" class=\"dataframe\">\n",
              "  <thead>\n",
              "    <tr>\n",
              "      <th id=\"T_f0ccf_level0_col0\" class=\"col_heading level0 col0\" >empid</th>\n",
              "      <th id=\"T_f0ccf_level0_col1\" class=\"col_heading level0 col1\" >lastname</th>\n",
              "      <th id=\"T_f0ccf_level0_col2\" class=\"col_heading level0 col2\" >hiredby</th>\n",
              "      <th id=\"T_f0ccf_level0_col3\" class=\"col_heading level0 col3\" >level</th>\n",
              "    </tr>\n",
              "  </thead>\n",
              "  <tbody>\n",
              "    <tr>\n",
              "      <td id=\"T_f0ccf_row0_col0\" class=\"data row0 col0\" >989007</td>\n",
              "      <td id=\"T_f0ccf_row0_col1\" class=\"data row0 col1\" >Ganguly</td>\n",
              "      <td id=\"T_f0ccf_row0_col2\" class=\"data row0 col2\" >299034</td>\n",
              "      <td id=\"T_f0ccf_row0_col3\" class=\"data row0 col3\" >1</td>\n",
              "    </tr>\n",
              "    <tr>\n",
              "      <td id=\"T_f0ccf_row1_col0\" class=\"data row1 col0\" >546223</td>\n",
              "      <td id=\"T_f0ccf_row1_col1\" class=\"data row1 col1\" >Karthikeyan</td>\n",
              "      <td id=\"T_f0ccf_row1_col2\" class=\"data row1 col2\" >299034</td>\n",
              "      <td id=\"T_f0ccf_row1_col3\" class=\"data row1 col3\" >1</td>\n",
              "    </tr>\n",
              "    <tr>\n",
              "      <td id=\"T_f0ccf_row2_col0\" class=\"data row2 col0\" >546224</td>\n",
              "      <td id=\"T_f0ccf_row2_col1\" class=\"data row2 col1\" >Sunil</td>\n",
              "      <td id=\"T_f0ccf_row2_col2\" class=\"data row2 col2\" >989007</td>\n",
              "      <td id=\"T_f0ccf_row2_col3\" class=\"data row2 col3\" >2</td>\n",
              "    </tr>\n",
              "  </tbody>\n",
              "</table>\n"
            ]
          },
          "metadata": {},
          "execution_count": 92
        }
      ]
    },
    {
      "cell_type": "code",
      "source": [
        "# Downward Chain - Style 2\n",
        "#\n",
        "sql = \"\\\n",
        "with recursive hiring_chain as (\\\n",
        "select empid, lastname, hiredby, 1 as level \\\n",
        "    from empl where hiredby = (select empid from empl where lastname = 'Ganesan') \\\n",
        "union all \\\n",
        "select \\\n",
        "e.empid, e.lastname,e.hiredby, hc.level+1 \\\n",
        "    from empl e \\\n",
        "    inner join hiring_chain hc on e.hiredby = hc.empid  \\\n",
        ") \\\n",
        "select * from hiring_chain \\\n",
        "\"\n",
        "\n",
        "runSelect(sql)"
      ],
      "metadata": {
        "id": "jKvfW2HiQF5O",
        "outputId": "b1d35983-503b-492b-b4d6-a40b756ea8f8",
        "colab": {
          "base_uri": "https://localhost:8080/",
          "height": 143
        }
      },
      "execution_count": 96,
      "outputs": [
        {
          "output_type": "execute_result",
          "data": {
            "text/plain": [
              "<pandas.io.formats.style.Styler at 0x7a6aa6b489a0>"
            ],
            "text/html": [
              "<style type=\"text/css\">\n",
              "</style>\n",
              "<table id=\"T_3078a\" class=\"dataframe\">\n",
              "  <thead>\n",
              "    <tr>\n",
              "      <th id=\"T_3078a_level0_col0\" class=\"col_heading level0 col0\" >empid</th>\n",
              "      <th id=\"T_3078a_level0_col1\" class=\"col_heading level0 col1\" >lastname</th>\n",
              "      <th id=\"T_3078a_level0_col2\" class=\"col_heading level0 col2\" >hiredby</th>\n",
              "      <th id=\"T_3078a_level0_col3\" class=\"col_heading level0 col3\" >level</th>\n",
              "    </tr>\n",
              "  </thead>\n",
              "  <tbody>\n",
              "    <tr>\n",
              "      <td id=\"T_3078a_row0_col0\" class=\"data row0 col0\" >989007</td>\n",
              "      <td id=\"T_3078a_row0_col1\" class=\"data row0 col1\" >Ganguly</td>\n",
              "      <td id=\"T_3078a_row0_col2\" class=\"data row0 col2\" >299034</td>\n",
              "      <td id=\"T_3078a_row0_col3\" class=\"data row0 col3\" >1</td>\n",
              "    </tr>\n",
              "    <tr>\n",
              "      <td id=\"T_3078a_row1_col0\" class=\"data row1 col0\" >546223</td>\n",
              "      <td id=\"T_3078a_row1_col1\" class=\"data row1 col1\" >Karthikeyan</td>\n",
              "      <td id=\"T_3078a_row1_col2\" class=\"data row1 col2\" >299034</td>\n",
              "      <td id=\"T_3078a_row1_col3\" class=\"data row1 col3\" >1</td>\n",
              "    </tr>\n",
              "    <tr>\n",
              "      <td id=\"T_3078a_row2_col0\" class=\"data row2 col0\" >546224</td>\n",
              "      <td id=\"T_3078a_row2_col1\" class=\"data row2 col1\" >Sunil</td>\n",
              "      <td id=\"T_3078a_row2_col2\" class=\"data row2 col2\" >989007</td>\n",
              "      <td id=\"T_3078a_row2_col3\" class=\"data row2 col3\" >2</td>\n",
              "    </tr>\n",
              "  </tbody>\n",
              "</table>\n"
            ]
          },
          "metadata": {},
          "execution_count": 96
        }
      ]
    },
    {
      "cell_type": "code",
      "source": [
        "# Upward Chain\n",
        "#\n",
        "sql = \"\\\n",
        "with recursive hiring_chain as (\\\n",
        "select empid, lastname, hiredby, 1 as level \\\n",
        "    from empl where lastname = 'Ganesan' \\\n",
        "union all \\\n",
        "select \\\n",
        "e.empid, e.lastname,e.hiredby, hc.level+1 \\\n",
        "    from empl e \\\n",
        "    inner join hiring_chain hc on e.empid = hc.hiredby  \\\n",
        ") \\\n",
        "select * from hiring_chain \\\n",
        "\"\n",
        "\n",
        "runSelect(sql)"
      ],
      "metadata": {
        "id": "ZtH1410DCaOT",
        "outputId": "55665ec7-7001-451e-8ed7-f8844f2e04b5",
        "colab": {
          "base_uri": "https://localhost:8080/",
          "height": 112
        }
      },
      "execution_count": 94,
      "outputs": [
        {
          "output_type": "execute_result",
          "data": {
            "text/plain": [
              "<pandas.io.formats.style.Styler at 0x7a6aa6b4b820>"
            ],
            "text/html": [
              "<style type=\"text/css\">\n",
              "</style>\n",
              "<table id=\"T_a5415\" class=\"dataframe\">\n",
              "  <thead>\n",
              "    <tr>\n",
              "      <th id=\"T_a5415_level0_col0\" class=\"col_heading level0 col0\" >empid</th>\n",
              "      <th id=\"T_a5415_level0_col1\" class=\"col_heading level0 col1\" >lastname</th>\n",
              "      <th id=\"T_a5415_level0_col2\" class=\"col_heading level0 col2\" >hiredby</th>\n",
              "      <th id=\"T_a5415_level0_col3\" class=\"col_heading level0 col3\" >level</th>\n",
              "    </tr>\n",
              "  </thead>\n",
              "  <tbody>\n",
              "    <tr>\n",
              "      <td id=\"T_a5415_row0_col0\" class=\"data row0 col0\" >299034</td>\n",
              "      <td id=\"T_a5415_row0_col1\" class=\"data row0 col1\" >Ganesan</td>\n",
              "      <td id=\"T_a5415_row0_col2\" class=\"data row0 col2\" >742866</td>\n",
              "      <td id=\"T_a5415_row0_col3\" class=\"data row0 col3\" >1</td>\n",
              "    </tr>\n",
              "    <tr>\n",
              "      <td id=\"T_a5415_row1_col0\" class=\"data row1 col0\" >742866</td>\n",
              "      <td id=\"T_a5415_row1_col1\" class=\"data row1 col1\" >Bacchan</td>\n",
              "      <td id=\"T_a5415_row1_col2\" class=\"data row1 col2\" >None</td>\n",
              "      <td id=\"T_a5415_row1_col3\" class=\"data row1 col3\" >2</td>\n",
              "    </tr>\n",
              "  </tbody>\n",
              "</table>\n"
            ]
          },
          "metadata": {},
          "execution_count": 94
        }
      ]
    },
    {
      "cell_type": "code",
      "source": [
        "# Upward Chain\n",
        "#\n",
        "sql = \"\\\n",
        "with recursive hiring_chain as (\\\n",
        "select empid, lastname, hiredby, 1 as level \\\n",
        "    from empl where lastname = 'Sunil' \\\n",
        "union all \\\n",
        "select \\\n",
        "e.empid, e.lastname,e.hiredby, hc.level+1 \\\n",
        "    from empl e \\\n",
        "    inner join hiring_chain hc on e.empid = hc.hiredby  \\\n",
        ") \\\n",
        "select * from hiring_chain \\\n",
        "\"\n",
        "\n",
        "runSelect(sql)"
      ],
      "metadata": {
        "id": "ZmBHyLXbPMQF",
        "outputId": "d88076df-8769-4abb-c454-f55b41c7a0fe",
        "colab": {
          "base_uri": "https://localhost:8080/",
          "height": 175
        }
      },
      "execution_count": 95,
      "outputs": [
        {
          "output_type": "execute_result",
          "data": {
            "text/plain": [
              "<pandas.io.formats.style.Styler at 0x7a6aa6d098d0>"
            ],
            "text/html": [
              "<style type=\"text/css\">\n",
              "</style>\n",
              "<table id=\"T_b9851\" class=\"dataframe\">\n",
              "  <thead>\n",
              "    <tr>\n",
              "      <th id=\"T_b9851_level0_col0\" class=\"col_heading level0 col0\" >empid</th>\n",
              "      <th id=\"T_b9851_level0_col1\" class=\"col_heading level0 col1\" >lastname</th>\n",
              "      <th id=\"T_b9851_level0_col2\" class=\"col_heading level0 col2\" >hiredby</th>\n",
              "      <th id=\"T_b9851_level0_col3\" class=\"col_heading level0 col3\" >level</th>\n",
              "    </tr>\n",
              "  </thead>\n",
              "  <tbody>\n",
              "    <tr>\n",
              "      <td id=\"T_b9851_row0_col0\" class=\"data row0 col0\" >546224</td>\n",
              "      <td id=\"T_b9851_row0_col1\" class=\"data row0 col1\" >Sunil</td>\n",
              "      <td id=\"T_b9851_row0_col2\" class=\"data row0 col2\" >989007</td>\n",
              "      <td id=\"T_b9851_row0_col3\" class=\"data row0 col3\" >1</td>\n",
              "    </tr>\n",
              "    <tr>\n",
              "      <td id=\"T_b9851_row1_col0\" class=\"data row1 col0\" >989007</td>\n",
              "      <td id=\"T_b9851_row1_col1\" class=\"data row1 col1\" >Ganguly</td>\n",
              "      <td id=\"T_b9851_row1_col2\" class=\"data row1 col2\" >299034</td>\n",
              "      <td id=\"T_b9851_row1_col3\" class=\"data row1 col3\" >2</td>\n",
              "    </tr>\n",
              "    <tr>\n",
              "      <td id=\"T_b9851_row2_col0\" class=\"data row2 col0\" >299034</td>\n",
              "      <td id=\"T_b9851_row2_col1\" class=\"data row2 col1\" >Ganesan</td>\n",
              "      <td id=\"T_b9851_row2_col2\" class=\"data row2 col2\" >742866</td>\n",
              "      <td id=\"T_b9851_row2_col3\" class=\"data row2 col3\" >3</td>\n",
              "    </tr>\n",
              "    <tr>\n",
              "      <td id=\"T_b9851_row3_col0\" class=\"data row3 col0\" >742866</td>\n",
              "      <td id=\"T_b9851_row3_col1\" class=\"data row3 col1\" >Bacchan</td>\n",
              "      <td id=\"T_b9851_row3_col2\" class=\"data row3 col2\" >None</td>\n",
              "      <td id=\"T_b9851_row3_col3\" class=\"data row3 col3\" >4</td>\n",
              "    </tr>\n",
              "  </tbody>\n",
              "</table>\n"
            ]
          },
          "metadata": {},
          "execution_count": 95
        }
      ]
    },
    {
      "cell_type": "markdown",
      "source": [
        "#Window Functions"
      ],
      "metadata": {
        "id": "p1v2XtGa1QOq"
      }
    },
    {
      "cell_type": "code",
      "source": [
        "sql = \"select deptid, lastname, salary, \\\n",
        "    avg(salary) over (partition by deptid) \\\n",
        "    from empl\"\n",
        "runSelect(sql)"
      ],
      "metadata": {
        "colab": {
          "base_uri": "https://localhost:8080/",
          "height": 457
        },
        "id": "ffpu5hXo1TfJ",
        "outputId": "dd87db50-a233-4162-be7b-a52a52337dd3"
      },
      "execution_count": 67,
      "outputs": [
        {
          "output_type": "execute_result",
          "data": {
            "text/plain": [
              "<pandas.io.formats.style.Styler at 0x7a6aa6bfca30>"
            ],
            "text/html": [
              "<style type=\"text/css\">\n",
              "</style>\n",
              "<table id=\"T_cf4da\" class=\"dataframe\">\n",
              "  <thead>\n",
              "    <tr>\n",
              "      <th id=\"T_cf4da_level0_col0\" class=\"col_heading level0 col0\" >deptid</th>\n",
              "      <th id=\"T_cf4da_level0_col1\" class=\"col_heading level0 col1\" >lastname</th>\n",
              "      <th id=\"T_cf4da_level0_col2\" class=\"col_heading level0 col2\" >salary</th>\n",
              "      <th id=\"T_cf4da_level0_col3\" class=\"col_heading level0 col3\" >avg</th>\n",
              "    </tr>\n",
              "  </thead>\n",
              "  <tbody>\n",
              "    <tr>\n",
              "      <td id=\"T_cf4da_row0_col0\" class=\"data row0 col0\" >10</td>\n",
              "      <td id=\"T_cf4da_row0_col1\" class=\"data row0 col1\" >Bacchan</td>\n",
              "      <td id=\"T_cf4da_row0_col2\" class=\"data row0 col2\" >50000</td>\n",
              "      <td id=\"T_cf4da_row0_col3\" class=\"data row0 col3\" >50000.000000000000</td>\n",
              "    </tr>\n",
              "    <tr>\n",
              "      <td id=\"T_cf4da_row1_col0\" class=\"data row1 col0\" >10</td>\n",
              "      <td id=\"T_cf4da_row1_col1\" class=\"data row1 col1\" >Ganesan</td>\n",
              "      <td id=\"T_cf4da_row1_col2\" class=\"data row1 col2\" >60000</td>\n",
              "      <td id=\"T_cf4da_row1_col3\" class=\"data row1 col3\" >50000.000000000000</td>\n",
              "    </tr>\n",
              "    <tr>\n",
              "      <td id=\"T_cf4da_row2_col0\" class=\"data row2 col0\" >10</td>\n",
              "      <td id=\"T_cf4da_row2_col1\" class=\"data row2 col1\" >Karthikeyan</td>\n",
              "      <td id=\"T_cf4da_row2_col2\" class=\"data row2 col2\" >40000</td>\n",
              "      <td id=\"T_cf4da_row2_col3\" class=\"data row2 col3\" >50000.000000000000</td>\n",
              "    </tr>\n",
              "    <tr>\n",
              "      <td id=\"T_cf4da_row3_col0\" class=\"data row3 col0\" >20</td>\n",
              "      <td id=\"T_cf4da_row3_col1\" class=\"data row3 col1\" >Dikshit</td>\n",
              "      <td id=\"T_cf4da_row3_col2\" class=\"data row3 col2\" >10000</td>\n",
              "      <td id=\"T_cf4da_row3_col3\" class=\"data row3 col3\" >18333.333333333333</td>\n",
              "    </tr>\n",
              "    <tr>\n",
              "      <td id=\"T_cf4da_row4_col0\" class=\"data row4 col0\" >20</td>\n",
              "      <td id=\"T_cf4da_row4_col1\" class=\"data row4 col1\" >Khan</td>\n",
              "      <td id=\"T_cf4da_row4_col2\" class=\"data row4 col2\" >30000</td>\n",
              "      <td id=\"T_cf4da_row4_col3\" class=\"data row4 col3\" >18333.333333333333</td>\n",
              "    </tr>\n",
              "    <tr>\n",
              "      <td id=\"T_cf4da_row5_col0\" class=\"data row5 col0\" >20</td>\n",
              "      <td id=\"T_cf4da_row5_col1\" class=\"data row5 col1\" >Sehwag</td>\n",
              "      <td id=\"T_cf4da_row5_col2\" class=\"data row5 col2\" >15000</td>\n",
              "      <td id=\"T_cf4da_row5_col3\" class=\"data row5 col3\" >18333.333333333333</td>\n",
              "    </tr>\n",
              "    <tr>\n",
              "      <td id=\"T_cf4da_row6_col0\" class=\"data row6 col0\" >30</td>\n",
              "      <td id=\"T_cf4da_row6_col1\" class=\"data row6 col1\" >Mirza</td>\n",
              "      <td id=\"T_cf4da_row6_col2\" class=\"data row6 col2\" >25000</td>\n",
              "      <td id=\"T_cf4da_row6_col3\" class=\"data row6 col3\" >25666.666666666667</td>\n",
              "    </tr>\n",
              "    <tr>\n",
              "      <td id=\"T_cf4da_row7_col0\" class=\"data row7 col0\" >30</td>\n",
              "      <td id=\"T_cf4da_row7_col1\" class=\"data row7 col1\" >Dravid</td>\n",
              "      <td id=\"T_cf4da_row7_col2\" class=\"data row7 col2\" >40000</td>\n",
              "      <td id=\"T_cf4da_row7_col3\" class=\"data row7 col3\" >25666.666666666667</td>\n",
              "    </tr>\n",
              "    <tr>\n",
              "      <td id=\"T_cf4da_row8_col0\" class=\"data row8 col0\" >30</td>\n",
              "      <td id=\"T_cf4da_row8_col1\" class=\"data row8 col1\" >Dalmia</td>\n",
              "      <td id=\"T_cf4da_row8_col2\" class=\"data row8 col2\" >12000</td>\n",
              "      <td id=\"T_cf4da_row8_col3\" class=\"data row8 col3\" >25666.666666666667</td>\n",
              "    </tr>\n",
              "    <tr>\n",
              "      <td id=\"T_cf4da_row9_col0\" class=\"data row9 col0\" >40</td>\n",
              "      <td id=\"T_cf4da_row9_col1\" class=\"data row9 col1\" >Ganguly</td>\n",
              "      <td id=\"T_cf4da_row9_col2\" class=\"data row9 col2\" >20000</td>\n",
              "      <td id=\"T_cf4da_row9_col3\" class=\"data row9 col3\" >18000.000000000000</td>\n",
              "    </tr>\n",
              "    <tr>\n",
              "      <td id=\"T_cf4da_row10_col0\" class=\"data row10 col0\" >40</td>\n",
              "      <td id=\"T_cf4da_row10_col1\" class=\"data row10 col1\" >Dhoni</td>\n",
              "      <td id=\"T_cf4da_row10_col2\" class=\"data row10 col2\" >9000</td>\n",
              "      <td id=\"T_cf4da_row10_col3\" class=\"data row10 col3\" >18000.000000000000</td>\n",
              "    </tr>\n",
              "    <tr>\n",
              "      <td id=\"T_cf4da_row11_col0\" class=\"data row11 col0\" >40</td>\n",
              "      <td id=\"T_cf4da_row11_col1\" class=\"data row11 col1\" >Mukherjee</td>\n",
              "      <td id=\"T_cf4da_row11_col2\" class=\"data row11 col2\" >25000</td>\n",
              "      <td id=\"T_cf4da_row11_col3\" class=\"data row11 col3\" >18000.000000000000</td>\n",
              "    </tr>\n",
              "    <tr>\n",
              "      <td id=\"T_cf4da_row12_col0\" class=\"data row12 col0\" >70</td>\n",
              "      <td id=\"T_cf4da_row12_col1\" class=\"data row12 col1\" >Sunil</td>\n",
              "      <td id=\"T_cf4da_row12_col2\" class=\"data row12 col2\" >40000</td>\n",
              "      <td id=\"T_cf4da_row12_col3\" class=\"data row12 col3\" >40000.000000000000</td>\n",
              "    </tr>\n",
              "  </tbody>\n",
              "</table>\n"
            ]
          },
          "metadata": {},
          "execution_count": 67
        }
      ]
    },
    {
      "cell_type": "code",
      "source": [
        "sql = \"select deptname, lastname, salary, avg(salary) over (partition by deptname) from empl  inner join dept using(deptid)\"\n",
        "runSelect(sql)"
      ],
      "metadata": {
        "colab": {
          "base_uri": "https://localhost:8080/",
          "height": 426
        },
        "id": "JZC4y3tg2o8A",
        "outputId": "fef85d26-78b1-4a7f-e2e2-24a0b97c031f"
      },
      "execution_count": 68,
      "outputs": [
        {
          "output_type": "execute_result",
          "data": {
            "text/plain": [
              "<pandas.io.formats.style.Styler at 0x7a6ade029c60>"
            ],
            "text/html": [
              "<style type=\"text/css\">\n",
              "</style>\n",
              "<table id=\"T_bf1fd\" class=\"dataframe\">\n",
              "  <thead>\n",
              "    <tr>\n",
              "      <th id=\"T_bf1fd_level0_col0\" class=\"col_heading level0 col0\" >deptname</th>\n",
              "      <th id=\"T_bf1fd_level0_col1\" class=\"col_heading level0 col1\" >lastname</th>\n",
              "      <th id=\"T_bf1fd_level0_col2\" class=\"col_heading level0 col2\" >salary</th>\n",
              "      <th id=\"T_bf1fd_level0_col3\" class=\"col_heading level0 col3\" >avg</th>\n",
              "    </tr>\n",
              "  </thead>\n",
              "  <tbody>\n",
              "    <tr>\n",
              "      <td id=\"T_bf1fd_row0_col0\" class=\"data row0 col0\" >Accounts</td>\n",
              "      <td id=\"T_bf1fd_row0_col1\" class=\"data row0 col1\" >Dravid</td>\n",
              "      <td id=\"T_bf1fd_row0_col2\" class=\"data row0 col2\" >40000</td>\n",
              "      <td id=\"T_bf1fd_row0_col3\" class=\"data row0 col3\" >25666.666666666667</td>\n",
              "    </tr>\n",
              "    <tr>\n",
              "      <td id=\"T_bf1fd_row1_col0\" class=\"data row1 col0\" >Accounts</td>\n",
              "      <td id=\"T_bf1fd_row1_col1\" class=\"data row1 col1\" >Dalmia</td>\n",
              "      <td id=\"T_bf1fd_row1_col2\" class=\"data row1 col2\" >12000</td>\n",
              "      <td id=\"T_bf1fd_row1_col3\" class=\"data row1 col3\" >25666.666666666667</td>\n",
              "    </tr>\n",
              "    <tr>\n",
              "      <td id=\"T_bf1fd_row2_col0\" class=\"data row2 col0\" >Accounts</td>\n",
              "      <td id=\"T_bf1fd_row2_col1\" class=\"data row2 col1\" >Mirza</td>\n",
              "      <td id=\"T_bf1fd_row2_col2\" class=\"data row2 col2\" >25000</td>\n",
              "      <td id=\"T_bf1fd_row2_col3\" class=\"data row2 col3\" >25666.666666666667</td>\n",
              "    </tr>\n",
              "    <tr>\n",
              "      <td id=\"T_bf1fd_row3_col0\" class=\"data row3 col0\" >Corporate</td>\n",
              "      <td id=\"T_bf1fd_row3_col1\" class=\"data row3 col1\" >Karthikeyan</td>\n",
              "      <td id=\"T_bf1fd_row3_col2\" class=\"data row3 col2\" >40000</td>\n",
              "      <td id=\"T_bf1fd_row3_col3\" class=\"data row3 col3\" >50000.000000000000</td>\n",
              "    </tr>\n",
              "    <tr>\n",
              "      <td id=\"T_bf1fd_row4_col0\" class=\"data row4 col0\" >Corporate</td>\n",
              "      <td id=\"T_bf1fd_row4_col1\" class=\"data row4 col1\" >Ganesan</td>\n",
              "      <td id=\"T_bf1fd_row4_col2\" class=\"data row4 col2\" >60000</td>\n",
              "      <td id=\"T_bf1fd_row4_col3\" class=\"data row4 col3\" >50000.000000000000</td>\n",
              "    </tr>\n",
              "    <tr>\n",
              "      <td id=\"T_bf1fd_row5_col0\" class=\"data row5 col0\" >Corporate</td>\n",
              "      <td id=\"T_bf1fd_row5_col1\" class=\"data row5 col1\" >Bacchan</td>\n",
              "      <td id=\"T_bf1fd_row5_col2\" class=\"data row5 col2\" >50000</td>\n",
              "      <td id=\"T_bf1fd_row5_col3\" class=\"data row5 col3\" >50000.000000000000</td>\n",
              "    </tr>\n",
              "    <tr>\n",
              "      <td id=\"T_bf1fd_row6_col0\" class=\"data row6 col0\" >Production</td>\n",
              "      <td id=\"T_bf1fd_row6_col1\" class=\"data row6 col1\" >Ganguly</td>\n",
              "      <td id=\"T_bf1fd_row6_col2\" class=\"data row6 col2\" >20000</td>\n",
              "      <td id=\"T_bf1fd_row6_col3\" class=\"data row6 col3\" >18000.000000000000</td>\n",
              "    </tr>\n",
              "    <tr>\n",
              "      <td id=\"T_bf1fd_row7_col0\" class=\"data row7 col0\" >Production</td>\n",
              "      <td id=\"T_bf1fd_row7_col1\" class=\"data row7 col1\" >Dhoni</td>\n",
              "      <td id=\"T_bf1fd_row7_col2\" class=\"data row7 col2\" >9000</td>\n",
              "      <td id=\"T_bf1fd_row7_col3\" class=\"data row7 col3\" >18000.000000000000</td>\n",
              "    </tr>\n",
              "    <tr>\n",
              "      <td id=\"T_bf1fd_row8_col0\" class=\"data row8 col0\" >Production</td>\n",
              "      <td id=\"T_bf1fd_row8_col1\" class=\"data row8 col1\" >Mukherjee</td>\n",
              "      <td id=\"T_bf1fd_row8_col2\" class=\"data row8 col2\" >25000</td>\n",
              "      <td id=\"T_bf1fd_row8_col3\" class=\"data row8 col3\" >18000.000000000000</td>\n",
              "    </tr>\n",
              "    <tr>\n",
              "      <td id=\"T_bf1fd_row9_col0\" class=\"data row9 col0\" >Sales</td>\n",
              "      <td id=\"T_bf1fd_row9_col1\" class=\"data row9 col1\" >Dikshit</td>\n",
              "      <td id=\"T_bf1fd_row9_col2\" class=\"data row9 col2\" >10000</td>\n",
              "      <td id=\"T_bf1fd_row9_col3\" class=\"data row9 col3\" >18333.333333333333</td>\n",
              "    </tr>\n",
              "    <tr>\n",
              "      <td id=\"T_bf1fd_row10_col0\" class=\"data row10 col0\" >Sales</td>\n",
              "      <td id=\"T_bf1fd_row10_col1\" class=\"data row10 col1\" >Khan</td>\n",
              "      <td id=\"T_bf1fd_row10_col2\" class=\"data row10 col2\" >30000</td>\n",
              "      <td id=\"T_bf1fd_row10_col3\" class=\"data row10 col3\" >18333.333333333333</td>\n",
              "    </tr>\n",
              "    <tr>\n",
              "      <td id=\"T_bf1fd_row11_col0\" class=\"data row11 col0\" >Sales</td>\n",
              "      <td id=\"T_bf1fd_row11_col1\" class=\"data row11 col1\" >Sehwag</td>\n",
              "      <td id=\"T_bf1fd_row11_col2\" class=\"data row11 col2\" >15000</td>\n",
              "      <td id=\"T_bf1fd_row11_col3\" class=\"data row11 col3\" >18333.333333333333</td>\n",
              "    </tr>\n",
              "  </tbody>\n",
              "</table>\n"
            ]
          },
          "metadata": {},
          "execution_count": 68
        }
      ]
    },
    {
      "cell_type": "code",
      "source": [
        "sql = \"select deptname, lastname, salary, \\\n",
        "    row_number() over (partition by deptname order by salary) \\\n",
        "    from empl  inner join dept using(deptid)\"\n",
        "runSelect(sql)"
      ],
      "metadata": {
        "colab": {
          "base_uri": "https://localhost:8080/",
          "height": 426
        },
        "id": "xgP9VShE4Spl",
        "outputId": "3d87323e-4e67-42ad-f627-6f066988aa5d"
      },
      "execution_count": 69,
      "outputs": [
        {
          "output_type": "execute_result",
          "data": {
            "text/plain": [
              "<pandas.io.formats.style.Styler at 0x7a6adee728f0>"
            ],
            "text/html": [
              "<style type=\"text/css\">\n",
              "</style>\n",
              "<table id=\"T_8f6ce\" class=\"dataframe\">\n",
              "  <thead>\n",
              "    <tr>\n",
              "      <th id=\"T_8f6ce_level0_col0\" class=\"col_heading level0 col0\" >deptname</th>\n",
              "      <th id=\"T_8f6ce_level0_col1\" class=\"col_heading level0 col1\" >lastname</th>\n",
              "      <th id=\"T_8f6ce_level0_col2\" class=\"col_heading level0 col2\" >salary</th>\n",
              "      <th id=\"T_8f6ce_level0_col3\" class=\"col_heading level0 col3\" >row_number</th>\n",
              "    </tr>\n",
              "  </thead>\n",
              "  <tbody>\n",
              "    <tr>\n",
              "      <td id=\"T_8f6ce_row0_col0\" class=\"data row0 col0\" >Accounts</td>\n",
              "      <td id=\"T_8f6ce_row0_col1\" class=\"data row0 col1\" >Dalmia</td>\n",
              "      <td id=\"T_8f6ce_row0_col2\" class=\"data row0 col2\" >12000</td>\n",
              "      <td id=\"T_8f6ce_row0_col3\" class=\"data row0 col3\" >1</td>\n",
              "    </tr>\n",
              "    <tr>\n",
              "      <td id=\"T_8f6ce_row1_col0\" class=\"data row1 col0\" >Accounts</td>\n",
              "      <td id=\"T_8f6ce_row1_col1\" class=\"data row1 col1\" >Mirza</td>\n",
              "      <td id=\"T_8f6ce_row1_col2\" class=\"data row1 col2\" >25000</td>\n",
              "      <td id=\"T_8f6ce_row1_col3\" class=\"data row1 col3\" >2</td>\n",
              "    </tr>\n",
              "    <tr>\n",
              "      <td id=\"T_8f6ce_row2_col0\" class=\"data row2 col0\" >Accounts</td>\n",
              "      <td id=\"T_8f6ce_row2_col1\" class=\"data row2 col1\" >Dravid</td>\n",
              "      <td id=\"T_8f6ce_row2_col2\" class=\"data row2 col2\" >40000</td>\n",
              "      <td id=\"T_8f6ce_row2_col3\" class=\"data row2 col3\" >3</td>\n",
              "    </tr>\n",
              "    <tr>\n",
              "      <td id=\"T_8f6ce_row3_col0\" class=\"data row3 col0\" >Corporate</td>\n",
              "      <td id=\"T_8f6ce_row3_col1\" class=\"data row3 col1\" >Karthikeyan</td>\n",
              "      <td id=\"T_8f6ce_row3_col2\" class=\"data row3 col2\" >40000</td>\n",
              "      <td id=\"T_8f6ce_row3_col3\" class=\"data row3 col3\" >1</td>\n",
              "    </tr>\n",
              "    <tr>\n",
              "      <td id=\"T_8f6ce_row4_col0\" class=\"data row4 col0\" >Corporate</td>\n",
              "      <td id=\"T_8f6ce_row4_col1\" class=\"data row4 col1\" >Bacchan</td>\n",
              "      <td id=\"T_8f6ce_row4_col2\" class=\"data row4 col2\" >50000</td>\n",
              "      <td id=\"T_8f6ce_row4_col3\" class=\"data row4 col3\" >2</td>\n",
              "    </tr>\n",
              "    <tr>\n",
              "      <td id=\"T_8f6ce_row5_col0\" class=\"data row5 col0\" >Corporate</td>\n",
              "      <td id=\"T_8f6ce_row5_col1\" class=\"data row5 col1\" >Ganesan</td>\n",
              "      <td id=\"T_8f6ce_row5_col2\" class=\"data row5 col2\" >60000</td>\n",
              "      <td id=\"T_8f6ce_row5_col3\" class=\"data row5 col3\" >3</td>\n",
              "    </tr>\n",
              "    <tr>\n",
              "      <td id=\"T_8f6ce_row6_col0\" class=\"data row6 col0\" >Production</td>\n",
              "      <td id=\"T_8f6ce_row6_col1\" class=\"data row6 col1\" >Dhoni</td>\n",
              "      <td id=\"T_8f6ce_row6_col2\" class=\"data row6 col2\" >9000</td>\n",
              "      <td id=\"T_8f6ce_row6_col3\" class=\"data row6 col3\" >1</td>\n",
              "    </tr>\n",
              "    <tr>\n",
              "      <td id=\"T_8f6ce_row7_col0\" class=\"data row7 col0\" >Production</td>\n",
              "      <td id=\"T_8f6ce_row7_col1\" class=\"data row7 col1\" >Ganguly</td>\n",
              "      <td id=\"T_8f6ce_row7_col2\" class=\"data row7 col2\" >20000</td>\n",
              "      <td id=\"T_8f6ce_row7_col3\" class=\"data row7 col3\" >2</td>\n",
              "    </tr>\n",
              "    <tr>\n",
              "      <td id=\"T_8f6ce_row8_col0\" class=\"data row8 col0\" >Production</td>\n",
              "      <td id=\"T_8f6ce_row8_col1\" class=\"data row8 col1\" >Mukherjee</td>\n",
              "      <td id=\"T_8f6ce_row8_col2\" class=\"data row8 col2\" >25000</td>\n",
              "      <td id=\"T_8f6ce_row8_col3\" class=\"data row8 col3\" >3</td>\n",
              "    </tr>\n",
              "    <tr>\n",
              "      <td id=\"T_8f6ce_row9_col0\" class=\"data row9 col0\" >Sales</td>\n",
              "      <td id=\"T_8f6ce_row9_col1\" class=\"data row9 col1\" >Dikshit</td>\n",
              "      <td id=\"T_8f6ce_row9_col2\" class=\"data row9 col2\" >10000</td>\n",
              "      <td id=\"T_8f6ce_row9_col3\" class=\"data row9 col3\" >1</td>\n",
              "    </tr>\n",
              "    <tr>\n",
              "      <td id=\"T_8f6ce_row10_col0\" class=\"data row10 col0\" >Sales</td>\n",
              "      <td id=\"T_8f6ce_row10_col1\" class=\"data row10 col1\" >Sehwag</td>\n",
              "      <td id=\"T_8f6ce_row10_col2\" class=\"data row10 col2\" >15000</td>\n",
              "      <td id=\"T_8f6ce_row10_col3\" class=\"data row10 col3\" >2</td>\n",
              "    </tr>\n",
              "    <tr>\n",
              "      <td id=\"T_8f6ce_row11_col0\" class=\"data row11 col0\" >Sales</td>\n",
              "      <td id=\"T_8f6ce_row11_col1\" class=\"data row11 col1\" >Khan</td>\n",
              "      <td id=\"T_8f6ce_row11_col2\" class=\"data row11 col2\" >30000</td>\n",
              "      <td id=\"T_8f6ce_row11_col3\" class=\"data row11 col3\" >3</td>\n",
              "    </tr>\n",
              "  </tbody>\n",
              "</table>\n"
            ]
          },
          "metadata": {},
          "execution_count": 69
        }
      ]
    },
    {
      "cell_type": "code",
      "source": [
        "sql = \"select deptname, lastname, salary, \\\n",
        "        rank() over (partition by deptname order by salary desc) \\\n",
        "        from empl  inner join dept using(deptid)\"\n",
        "runSelect(sql)"
      ],
      "metadata": {
        "colab": {
          "base_uri": "https://localhost:8080/",
          "height": 426
        },
        "id": "rL_1sHBa4ply",
        "outputId": "ffc9c87f-3c22-494a-9a10-6ba750e9166e"
      },
      "execution_count": 70,
      "outputs": [
        {
          "output_type": "execute_result",
          "data": {
            "text/plain": [
              "<pandas.io.formats.style.Styler at 0x7a6aa6b48580>"
            ],
            "text/html": [
              "<style type=\"text/css\">\n",
              "</style>\n",
              "<table id=\"T_b6f4e\" class=\"dataframe\">\n",
              "  <thead>\n",
              "    <tr>\n",
              "      <th id=\"T_b6f4e_level0_col0\" class=\"col_heading level0 col0\" >deptname</th>\n",
              "      <th id=\"T_b6f4e_level0_col1\" class=\"col_heading level0 col1\" >lastname</th>\n",
              "      <th id=\"T_b6f4e_level0_col2\" class=\"col_heading level0 col2\" >salary</th>\n",
              "      <th id=\"T_b6f4e_level0_col3\" class=\"col_heading level0 col3\" >rank</th>\n",
              "    </tr>\n",
              "  </thead>\n",
              "  <tbody>\n",
              "    <tr>\n",
              "      <td id=\"T_b6f4e_row0_col0\" class=\"data row0 col0\" >Accounts</td>\n",
              "      <td id=\"T_b6f4e_row0_col1\" class=\"data row0 col1\" >Dravid</td>\n",
              "      <td id=\"T_b6f4e_row0_col2\" class=\"data row0 col2\" >40000</td>\n",
              "      <td id=\"T_b6f4e_row0_col3\" class=\"data row0 col3\" >1</td>\n",
              "    </tr>\n",
              "    <tr>\n",
              "      <td id=\"T_b6f4e_row1_col0\" class=\"data row1 col0\" >Accounts</td>\n",
              "      <td id=\"T_b6f4e_row1_col1\" class=\"data row1 col1\" >Mirza</td>\n",
              "      <td id=\"T_b6f4e_row1_col2\" class=\"data row1 col2\" >25000</td>\n",
              "      <td id=\"T_b6f4e_row1_col3\" class=\"data row1 col3\" >2</td>\n",
              "    </tr>\n",
              "    <tr>\n",
              "      <td id=\"T_b6f4e_row2_col0\" class=\"data row2 col0\" >Accounts</td>\n",
              "      <td id=\"T_b6f4e_row2_col1\" class=\"data row2 col1\" >Dalmia</td>\n",
              "      <td id=\"T_b6f4e_row2_col2\" class=\"data row2 col2\" >12000</td>\n",
              "      <td id=\"T_b6f4e_row2_col3\" class=\"data row2 col3\" >3</td>\n",
              "    </tr>\n",
              "    <tr>\n",
              "      <td id=\"T_b6f4e_row3_col0\" class=\"data row3 col0\" >Corporate</td>\n",
              "      <td id=\"T_b6f4e_row3_col1\" class=\"data row3 col1\" >Ganesan</td>\n",
              "      <td id=\"T_b6f4e_row3_col2\" class=\"data row3 col2\" >60000</td>\n",
              "      <td id=\"T_b6f4e_row3_col3\" class=\"data row3 col3\" >1</td>\n",
              "    </tr>\n",
              "    <tr>\n",
              "      <td id=\"T_b6f4e_row4_col0\" class=\"data row4 col0\" >Corporate</td>\n",
              "      <td id=\"T_b6f4e_row4_col1\" class=\"data row4 col1\" >Bacchan</td>\n",
              "      <td id=\"T_b6f4e_row4_col2\" class=\"data row4 col2\" >50000</td>\n",
              "      <td id=\"T_b6f4e_row4_col3\" class=\"data row4 col3\" >2</td>\n",
              "    </tr>\n",
              "    <tr>\n",
              "      <td id=\"T_b6f4e_row5_col0\" class=\"data row5 col0\" >Corporate</td>\n",
              "      <td id=\"T_b6f4e_row5_col1\" class=\"data row5 col1\" >Karthikeyan</td>\n",
              "      <td id=\"T_b6f4e_row5_col2\" class=\"data row5 col2\" >40000</td>\n",
              "      <td id=\"T_b6f4e_row5_col3\" class=\"data row5 col3\" >3</td>\n",
              "    </tr>\n",
              "    <tr>\n",
              "      <td id=\"T_b6f4e_row6_col0\" class=\"data row6 col0\" >Production</td>\n",
              "      <td id=\"T_b6f4e_row6_col1\" class=\"data row6 col1\" >Mukherjee</td>\n",
              "      <td id=\"T_b6f4e_row6_col2\" class=\"data row6 col2\" >25000</td>\n",
              "      <td id=\"T_b6f4e_row6_col3\" class=\"data row6 col3\" >1</td>\n",
              "    </tr>\n",
              "    <tr>\n",
              "      <td id=\"T_b6f4e_row7_col0\" class=\"data row7 col0\" >Production</td>\n",
              "      <td id=\"T_b6f4e_row7_col1\" class=\"data row7 col1\" >Ganguly</td>\n",
              "      <td id=\"T_b6f4e_row7_col2\" class=\"data row7 col2\" >20000</td>\n",
              "      <td id=\"T_b6f4e_row7_col3\" class=\"data row7 col3\" >2</td>\n",
              "    </tr>\n",
              "    <tr>\n",
              "      <td id=\"T_b6f4e_row8_col0\" class=\"data row8 col0\" >Production</td>\n",
              "      <td id=\"T_b6f4e_row8_col1\" class=\"data row8 col1\" >Dhoni</td>\n",
              "      <td id=\"T_b6f4e_row8_col2\" class=\"data row8 col2\" >9000</td>\n",
              "      <td id=\"T_b6f4e_row8_col3\" class=\"data row8 col3\" >3</td>\n",
              "    </tr>\n",
              "    <tr>\n",
              "      <td id=\"T_b6f4e_row9_col0\" class=\"data row9 col0\" >Sales</td>\n",
              "      <td id=\"T_b6f4e_row9_col1\" class=\"data row9 col1\" >Khan</td>\n",
              "      <td id=\"T_b6f4e_row9_col2\" class=\"data row9 col2\" >30000</td>\n",
              "      <td id=\"T_b6f4e_row9_col3\" class=\"data row9 col3\" >1</td>\n",
              "    </tr>\n",
              "    <tr>\n",
              "      <td id=\"T_b6f4e_row10_col0\" class=\"data row10 col0\" >Sales</td>\n",
              "      <td id=\"T_b6f4e_row10_col1\" class=\"data row10 col1\" >Sehwag</td>\n",
              "      <td id=\"T_b6f4e_row10_col2\" class=\"data row10 col2\" >15000</td>\n",
              "      <td id=\"T_b6f4e_row10_col3\" class=\"data row10 col3\" >2</td>\n",
              "    </tr>\n",
              "    <tr>\n",
              "      <td id=\"T_b6f4e_row11_col0\" class=\"data row11 col0\" >Sales</td>\n",
              "      <td id=\"T_b6f4e_row11_col1\" class=\"data row11 col1\" >Dikshit</td>\n",
              "      <td id=\"T_b6f4e_row11_col2\" class=\"data row11 col2\" >10000</td>\n",
              "      <td id=\"T_b6f4e_row11_col3\" class=\"data row11 col3\" >3</td>\n",
              "    </tr>\n",
              "  </tbody>\n",
              "</table>\n"
            ]
          },
          "metadata": {},
          "execution_count": 70
        }
      ]
    },
    {
      "cell_type": "code",
      "source": [
        "sql = \"select deptname, lastname, salary, \\\n",
        "first_value(salary) over (partition by deptname order by salary) as deptlow, \\\n",
        "last_value(salary) over (partition by deptname order by salary RANGE BETWEEN UNBOUNDED PRECEDING AND UNBOUNDED FOLLOWING) as depthigh \\\n",
        "from empl  inner join dept using(deptid)\"\n",
        "runSelect(sql)"
      ],
      "metadata": {
        "colab": {
          "base_uri": "https://localhost:8080/",
          "height": 426
        },
        "id": "RO428SVT5T3d",
        "outputId": "d13fc4d9-e860-4c01-d688-0f2b11b7d842"
      },
      "execution_count": 71,
      "outputs": [
        {
          "output_type": "execute_result",
          "data": {
            "text/plain": [
              "<pandas.io.formats.style.Styler at 0x7a6aa6b499f0>"
            ],
            "text/html": [
              "<style type=\"text/css\">\n",
              "</style>\n",
              "<table id=\"T_99748\" class=\"dataframe\">\n",
              "  <thead>\n",
              "    <tr>\n",
              "      <th id=\"T_99748_level0_col0\" class=\"col_heading level0 col0\" >deptname</th>\n",
              "      <th id=\"T_99748_level0_col1\" class=\"col_heading level0 col1\" >lastname</th>\n",
              "      <th id=\"T_99748_level0_col2\" class=\"col_heading level0 col2\" >salary</th>\n",
              "      <th id=\"T_99748_level0_col3\" class=\"col_heading level0 col3\" >deptlow</th>\n",
              "      <th id=\"T_99748_level0_col4\" class=\"col_heading level0 col4\" >depthigh</th>\n",
              "    </tr>\n",
              "  </thead>\n",
              "  <tbody>\n",
              "    <tr>\n",
              "      <td id=\"T_99748_row0_col0\" class=\"data row0 col0\" >Accounts</td>\n",
              "      <td id=\"T_99748_row0_col1\" class=\"data row0 col1\" >Dalmia</td>\n",
              "      <td id=\"T_99748_row0_col2\" class=\"data row0 col2\" >12000</td>\n",
              "      <td id=\"T_99748_row0_col3\" class=\"data row0 col3\" >12000</td>\n",
              "      <td id=\"T_99748_row0_col4\" class=\"data row0 col4\" >40000</td>\n",
              "    </tr>\n",
              "    <tr>\n",
              "      <td id=\"T_99748_row1_col0\" class=\"data row1 col0\" >Accounts</td>\n",
              "      <td id=\"T_99748_row1_col1\" class=\"data row1 col1\" >Mirza</td>\n",
              "      <td id=\"T_99748_row1_col2\" class=\"data row1 col2\" >25000</td>\n",
              "      <td id=\"T_99748_row1_col3\" class=\"data row1 col3\" >12000</td>\n",
              "      <td id=\"T_99748_row1_col4\" class=\"data row1 col4\" >40000</td>\n",
              "    </tr>\n",
              "    <tr>\n",
              "      <td id=\"T_99748_row2_col0\" class=\"data row2 col0\" >Accounts</td>\n",
              "      <td id=\"T_99748_row2_col1\" class=\"data row2 col1\" >Dravid</td>\n",
              "      <td id=\"T_99748_row2_col2\" class=\"data row2 col2\" >40000</td>\n",
              "      <td id=\"T_99748_row2_col3\" class=\"data row2 col3\" >12000</td>\n",
              "      <td id=\"T_99748_row2_col4\" class=\"data row2 col4\" >40000</td>\n",
              "    </tr>\n",
              "    <tr>\n",
              "      <td id=\"T_99748_row3_col0\" class=\"data row3 col0\" >Corporate</td>\n",
              "      <td id=\"T_99748_row3_col1\" class=\"data row3 col1\" >Karthikeyan</td>\n",
              "      <td id=\"T_99748_row3_col2\" class=\"data row3 col2\" >40000</td>\n",
              "      <td id=\"T_99748_row3_col3\" class=\"data row3 col3\" >40000</td>\n",
              "      <td id=\"T_99748_row3_col4\" class=\"data row3 col4\" >60000</td>\n",
              "    </tr>\n",
              "    <tr>\n",
              "      <td id=\"T_99748_row4_col0\" class=\"data row4 col0\" >Corporate</td>\n",
              "      <td id=\"T_99748_row4_col1\" class=\"data row4 col1\" >Bacchan</td>\n",
              "      <td id=\"T_99748_row4_col2\" class=\"data row4 col2\" >50000</td>\n",
              "      <td id=\"T_99748_row4_col3\" class=\"data row4 col3\" >40000</td>\n",
              "      <td id=\"T_99748_row4_col4\" class=\"data row4 col4\" >60000</td>\n",
              "    </tr>\n",
              "    <tr>\n",
              "      <td id=\"T_99748_row5_col0\" class=\"data row5 col0\" >Corporate</td>\n",
              "      <td id=\"T_99748_row5_col1\" class=\"data row5 col1\" >Ganesan</td>\n",
              "      <td id=\"T_99748_row5_col2\" class=\"data row5 col2\" >60000</td>\n",
              "      <td id=\"T_99748_row5_col3\" class=\"data row5 col3\" >40000</td>\n",
              "      <td id=\"T_99748_row5_col4\" class=\"data row5 col4\" >60000</td>\n",
              "    </tr>\n",
              "    <tr>\n",
              "      <td id=\"T_99748_row6_col0\" class=\"data row6 col0\" >Production</td>\n",
              "      <td id=\"T_99748_row6_col1\" class=\"data row6 col1\" >Dhoni</td>\n",
              "      <td id=\"T_99748_row6_col2\" class=\"data row6 col2\" >9000</td>\n",
              "      <td id=\"T_99748_row6_col3\" class=\"data row6 col3\" >9000</td>\n",
              "      <td id=\"T_99748_row6_col4\" class=\"data row6 col4\" >25000</td>\n",
              "    </tr>\n",
              "    <tr>\n",
              "      <td id=\"T_99748_row7_col0\" class=\"data row7 col0\" >Production</td>\n",
              "      <td id=\"T_99748_row7_col1\" class=\"data row7 col1\" >Ganguly</td>\n",
              "      <td id=\"T_99748_row7_col2\" class=\"data row7 col2\" >20000</td>\n",
              "      <td id=\"T_99748_row7_col3\" class=\"data row7 col3\" >9000</td>\n",
              "      <td id=\"T_99748_row7_col4\" class=\"data row7 col4\" >25000</td>\n",
              "    </tr>\n",
              "    <tr>\n",
              "      <td id=\"T_99748_row8_col0\" class=\"data row8 col0\" >Production</td>\n",
              "      <td id=\"T_99748_row8_col1\" class=\"data row8 col1\" >Mukherjee</td>\n",
              "      <td id=\"T_99748_row8_col2\" class=\"data row8 col2\" >25000</td>\n",
              "      <td id=\"T_99748_row8_col3\" class=\"data row8 col3\" >9000</td>\n",
              "      <td id=\"T_99748_row8_col4\" class=\"data row8 col4\" >25000</td>\n",
              "    </tr>\n",
              "    <tr>\n",
              "      <td id=\"T_99748_row9_col0\" class=\"data row9 col0\" >Sales</td>\n",
              "      <td id=\"T_99748_row9_col1\" class=\"data row9 col1\" >Dikshit</td>\n",
              "      <td id=\"T_99748_row9_col2\" class=\"data row9 col2\" >10000</td>\n",
              "      <td id=\"T_99748_row9_col3\" class=\"data row9 col3\" >10000</td>\n",
              "      <td id=\"T_99748_row9_col4\" class=\"data row9 col4\" >30000</td>\n",
              "    </tr>\n",
              "    <tr>\n",
              "      <td id=\"T_99748_row10_col0\" class=\"data row10 col0\" >Sales</td>\n",
              "      <td id=\"T_99748_row10_col1\" class=\"data row10 col1\" >Sehwag</td>\n",
              "      <td id=\"T_99748_row10_col2\" class=\"data row10 col2\" >15000</td>\n",
              "      <td id=\"T_99748_row10_col3\" class=\"data row10 col3\" >10000</td>\n",
              "      <td id=\"T_99748_row10_col4\" class=\"data row10 col4\" >30000</td>\n",
              "    </tr>\n",
              "    <tr>\n",
              "      <td id=\"T_99748_row11_col0\" class=\"data row11 col0\" >Sales</td>\n",
              "      <td id=\"T_99748_row11_col1\" class=\"data row11 col1\" >Khan</td>\n",
              "      <td id=\"T_99748_row11_col2\" class=\"data row11 col2\" >30000</td>\n",
              "      <td id=\"T_99748_row11_col3\" class=\"data row11 col3\" >10000</td>\n",
              "      <td id=\"T_99748_row11_col4\" class=\"data row11 col4\" >30000</td>\n",
              "    </tr>\n",
              "  </tbody>\n",
              "</table>\n"
            ]
          },
          "metadata": {},
          "execution_count": 71
        }
      ]
    },
    {
      "cell_type": "code",
      "source": [
        "sql = \"select deptname, lastname, salary, \\\n",
        "lag(salary,1) over (partition by deptname order by salary) as prev_emp, \\\n",
        "salary - lag(salary,1) over (partition by deptname order by salary) as gap_up \\\n",
        "from empl  inner join dept using(deptid)\"\n",
        "runSelect(sql)"
      ],
      "metadata": {
        "colab": {
          "base_uri": "https://localhost:8080/",
          "height": 426
        },
        "id": "fnG4S0lF8h77",
        "outputId": "423718ba-b841-4f39-8c92-d247050b066e"
      },
      "execution_count": 72,
      "outputs": [
        {
          "output_type": "execute_result",
          "data": {
            "text/plain": [
              "<pandas.io.formats.style.Styler at 0x7a6ade02b3d0>"
            ],
            "text/html": [
              "<style type=\"text/css\">\n",
              "</style>\n",
              "<table id=\"T_d127e\" class=\"dataframe\">\n",
              "  <thead>\n",
              "    <tr>\n",
              "      <th id=\"T_d127e_level0_col0\" class=\"col_heading level0 col0\" >deptname</th>\n",
              "      <th id=\"T_d127e_level0_col1\" class=\"col_heading level0 col1\" >lastname</th>\n",
              "      <th id=\"T_d127e_level0_col2\" class=\"col_heading level0 col2\" >salary</th>\n",
              "      <th id=\"T_d127e_level0_col3\" class=\"col_heading level0 col3\" >prev_emp</th>\n",
              "      <th id=\"T_d127e_level0_col4\" class=\"col_heading level0 col4\" >gap_up</th>\n",
              "    </tr>\n",
              "  </thead>\n",
              "  <tbody>\n",
              "    <tr>\n",
              "      <td id=\"T_d127e_row0_col0\" class=\"data row0 col0\" >Accounts</td>\n",
              "      <td id=\"T_d127e_row0_col1\" class=\"data row0 col1\" >Dalmia</td>\n",
              "      <td id=\"T_d127e_row0_col2\" class=\"data row0 col2\" >12000</td>\n",
              "      <td id=\"T_d127e_row0_col3\" class=\"data row0 col3\" >nan</td>\n",
              "      <td id=\"T_d127e_row0_col4\" class=\"data row0 col4\" >nan</td>\n",
              "    </tr>\n",
              "    <tr>\n",
              "      <td id=\"T_d127e_row1_col0\" class=\"data row1 col0\" >Accounts</td>\n",
              "      <td id=\"T_d127e_row1_col1\" class=\"data row1 col1\" >Mirza</td>\n",
              "      <td id=\"T_d127e_row1_col2\" class=\"data row1 col2\" >25000</td>\n",
              "      <td id=\"T_d127e_row1_col3\" class=\"data row1 col3\" >12000.000000</td>\n",
              "      <td id=\"T_d127e_row1_col4\" class=\"data row1 col4\" >13000.000000</td>\n",
              "    </tr>\n",
              "    <tr>\n",
              "      <td id=\"T_d127e_row2_col0\" class=\"data row2 col0\" >Accounts</td>\n",
              "      <td id=\"T_d127e_row2_col1\" class=\"data row2 col1\" >Dravid</td>\n",
              "      <td id=\"T_d127e_row2_col2\" class=\"data row2 col2\" >40000</td>\n",
              "      <td id=\"T_d127e_row2_col3\" class=\"data row2 col3\" >25000.000000</td>\n",
              "      <td id=\"T_d127e_row2_col4\" class=\"data row2 col4\" >15000.000000</td>\n",
              "    </tr>\n",
              "    <tr>\n",
              "      <td id=\"T_d127e_row3_col0\" class=\"data row3 col0\" >Corporate</td>\n",
              "      <td id=\"T_d127e_row3_col1\" class=\"data row3 col1\" >Karthikeyan</td>\n",
              "      <td id=\"T_d127e_row3_col2\" class=\"data row3 col2\" >40000</td>\n",
              "      <td id=\"T_d127e_row3_col3\" class=\"data row3 col3\" >nan</td>\n",
              "      <td id=\"T_d127e_row3_col4\" class=\"data row3 col4\" >nan</td>\n",
              "    </tr>\n",
              "    <tr>\n",
              "      <td id=\"T_d127e_row4_col0\" class=\"data row4 col0\" >Corporate</td>\n",
              "      <td id=\"T_d127e_row4_col1\" class=\"data row4 col1\" >Bacchan</td>\n",
              "      <td id=\"T_d127e_row4_col2\" class=\"data row4 col2\" >50000</td>\n",
              "      <td id=\"T_d127e_row4_col3\" class=\"data row4 col3\" >40000.000000</td>\n",
              "      <td id=\"T_d127e_row4_col4\" class=\"data row4 col4\" >10000.000000</td>\n",
              "    </tr>\n",
              "    <tr>\n",
              "      <td id=\"T_d127e_row5_col0\" class=\"data row5 col0\" >Corporate</td>\n",
              "      <td id=\"T_d127e_row5_col1\" class=\"data row5 col1\" >Ganesan</td>\n",
              "      <td id=\"T_d127e_row5_col2\" class=\"data row5 col2\" >60000</td>\n",
              "      <td id=\"T_d127e_row5_col3\" class=\"data row5 col3\" >50000.000000</td>\n",
              "      <td id=\"T_d127e_row5_col4\" class=\"data row5 col4\" >10000.000000</td>\n",
              "    </tr>\n",
              "    <tr>\n",
              "      <td id=\"T_d127e_row6_col0\" class=\"data row6 col0\" >Production</td>\n",
              "      <td id=\"T_d127e_row6_col1\" class=\"data row6 col1\" >Dhoni</td>\n",
              "      <td id=\"T_d127e_row6_col2\" class=\"data row6 col2\" >9000</td>\n",
              "      <td id=\"T_d127e_row6_col3\" class=\"data row6 col3\" >nan</td>\n",
              "      <td id=\"T_d127e_row6_col4\" class=\"data row6 col4\" >nan</td>\n",
              "    </tr>\n",
              "    <tr>\n",
              "      <td id=\"T_d127e_row7_col0\" class=\"data row7 col0\" >Production</td>\n",
              "      <td id=\"T_d127e_row7_col1\" class=\"data row7 col1\" >Ganguly</td>\n",
              "      <td id=\"T_d127e_row7_col2\" class=\"data row7 col2\" >20000</td>\n",
              "      <td id=\"T_d127e_row7_col3\" class=\"data row7 col3\" >9000.000000</td>\n",
              "      <td id=\"T_d127e_row7_col4\" class=\"data row7 col4\" >11000.000000</td>\n",
              "    </tr>\n",
              "    <tr>\n",
              "      <td id=\"T_d127e_row8_col0\" class=\"data row8 col0\" >Production</td>\n",
              "      <td id=\"T_d127e_row8_col1\" class=\"data row8 col1\" >Mukherjee</td>\n",
              "      <td id=\"T_d127e_row8_col2\" class=\"data row8 col2\" >25000</td>\n",
              "      <td id=\"T_d127e_row8_col3\" class=\"data row8 col3\" >20000.000000</td>\n",
              "      <td id=\"T_d127e_row8_col4\" class=\"data row8 col4\" >5000.000000</td>\n",
              "    </tr>\n",
              "    <tr>\n",
              "      <td id=\"T_d127e_row9_col0\" class=\"data row9 col0\" >Sales</td>\n",
              "      <td id=\"T_d127e_row9_col1\" class=\"data row9 col1\" >Dikshit</td>\n",
              "      <td id=\"T_d127e_row9_col2\" class=\"data row9 col2\" >10000</td>\n",
              "      <td id=\"T_d127e_row9_col3\" class=\"data row9 col3\" >nan</td>\n",
              "      <td id=\"T_d127e_row9_col4\" class=\"data row9 col4\" >nan</td>\n",
              "    </tr>\n",
              "    <tr>\n",
              "      <td id=\"T_d127e_row10_col0\" class=\"data row10 col0\" >Sales</td>\n",
              "      <td id=\"T_d127e_row10_col1\" class=\"data row10 col1\" >Sehwag</td>\n",
              "      <td id=\"T_d127e_row10_col2\" class=\"data row10 col2\" >15000</td>\n",
              "      <td id=\"T_d127e_row10_col3\" class=\"data row10 col3\" >10000.000000</td>\n",
              "      <td id=\"T_d127e_row10_col4\" class=\"data row10 col4\" >5000.000000</td>\n",
              "    </tr>\n",
              "    <tr>\n",
              "      <td id=\"T_d127e_row11_col0\" class=\"data row11 col0\" >Sales</td>\n",
              "      <td id=\"T_d127e_row11_col1\" class=\"data row11 col1\" >Khan</td>\n",
              "      <td id=\"T_d127e_row11_col2\" class=\"data row11 col2\" >30000</td>\n",
              "      <td id=\"T_d127e_row11_col3\" class=\"data row11 col3\" >15000.000000</td>\n",
              "      <td id=\"T_d127e_row11_col4\" class=\"data row11 col4\" >15000.000000</td>\n",
              "    </tr>\n",
              "  </tbody>\n",
              "</table>\n"
            ]
          },
          "metadata": {},
          "execution_count": 72
        }
      ]
    },
    {
      "cell_type": "markdown",
      "source": [
        "#Transpose / Pivot\n",
        "https://www.sqlshack.com/how-to-use-the-crosstab-function-in-postgresql/"
      ],
      "metadata": {
        "id": "V6Bt-yTXSITF"
      }
    },
    {
      "cell_type": "code",
      "source": [
        "!psql -h localhost -p 5432 -Uupraxis -ddbpraxis -c \"create extension tablefunc;\""
      ],
      "metadata": {
        "colab": {
          "base_uri": "https://localhost:8080/"
        },
        "id": "ZgVgr1DfYs_R",
        "outputId": "37f49c91-98e0-41e3-c57a-2c39d669c63f"
      },
      "execution_count": 73,
      "outputs": [
        {
          "output_type": "stream",
          "name": "stdout",
          "text": [
            "CREATE EXTENSION\n"
          ]
        }
      ]
    },
    {
      "cell_type": "code",
      "source": [
        "runSelect('select * from dept')"
      ],
      "metadata": {
        "colab": {
          "base_uri": "https://localhost:8080/",
          "height": 206
        },
        "id": "Sa9IpGXwSKWe",
        "outputId": "74e6e5ce-4289-40d7-f836-4c000e1f2561"
      },
      "execution_count": 74,
      "outputs": [
        {
          "output_type": "execute_result",
          "data": {
            "text/plain": [
              "<pandas.io.formats.style.Styler at 0x7a6aa6b48d60>"
            ],
            "text/html": [
              "<style type=\"text/css\">\n",
              "</style>\n",
              "<table id=\"T_7aac0\" class=\"dataframe\">\n",
              "  <thead>\n",
              "    <tr>\n",
              "      <th id=\"T_7aac0_level0_col0\" class=\"col_heading level0 col0\" >deptid</th>\n",
              "      <th id=\"T_7aac0_level0_col1\" class=\"col_heading level0 col1\" >deptname</th>\n",
              "      <th id=\"T_7aac0_level0_col2\" class=\"col_heading level0 col2\" >managerid</th>\n",
              "      <th id=\"T_7aac0_level0_col3\" class=\"col_heading level0 col3\" >location</th>\n",
              "      <th id=\"T_7aac0_level0_col4\" class=\"col_heading level0 col4\" >locationid</th>\n",
              "    </tr>\n",
              "  </thead>\n",
              "  <tbody>\n",
              "    <tr>\n",
              "      <td id=\"T_7aac0_row0_col0\" class=\"data row0 col0\" >10</td>\n",
              "      <td id=\"T_7aac0_row0_col1\" class=\"data row0 col1\" >Corporate</td>\n",
              "      <td id=\"T_7aac0_row0_col2\" class=\"data row0 col2\" >299034</td>\n",
              "      <td id=\"T_7aac0_row0_col3\" class=\"data row0 col3\" >Calcutta</td>\n",
              "      <td id=\"T_7aac0_row0_col4\" class=\"data row0 col4\" >1</td>\n",
              "    </tr>\n",
              "    <tr>\n",
              "      <td id=\"T_7aac0_row1_col0\" class=\"data row1 col0\" >20</td>\n",
              "      <td id=\"T_7aac0_row1_col1\" class=\"data row1 col1\" >Sales</td>\n",
              "      <td id=\"T_7aac0_row1_col2\" class=\"data row1 col2\" >239456</td>\n",
              "      <td id=\"T_7aac0_row1_col3\" class=\"data row1 col3\" >Calcutta</td>\n",
              "      <td id=\"T_7aac0_row1_col4\" class=\"data row1 col4\" >1</td>\n",
              "    </tr>\n",
              "    <tr>\n",
              "      <td id=\"T_7aac0_row2_col0\" class=\"data row2 col0\" >30</td>\n",
              "      <td id=\"T_7aac0_row2_col1\" class=\"data row2 col1\" >Accounts</td>\n",
              "      <td id=\"T_7aac0_row2_col2\" class=\"data row2 col2\" >822134</td>\n",
              "      <td id=\"T_7aac0_row2_col3\" class=\"data row2 col3\" >Calcutta</td>\n",
              "      <td id=\"T_7aac0_row2_col4\" class=\"data row2 col4\" >1</td>\n",
              "    </tr>\n",
              "    <tr>\n",
              "      <td id=\"T_7aac0_row3_col0\" class=\"data row3 col0\" >40</td>\n",
              "      <td id=\"T_7aac0_row3_col1\" class=\"data row3 col1\" >Production</td>\n",
              "      <td id=\"T_7aac0_row3_col2\" class=\"data row3 col2\" >349870</td>\n",
              "      <td id=\"T_7aac0_row3_col3\" class=\"data row3 col3\" >Bombay</td>\n",
              "      <td id=\"T_7aac0_row3_col4\" class=\"data row3 col4\" >2</td>\n",
              "    </tr>\n",
              "    <tr>\n",
              "      <td id=\"T_7aac0_row4_col0\" class=\"data row4 col0\" >60</td>\n",
              "      <td id=\"T_7aac0_row4_col1\" class=\"data row4 col1\" >Research</td>\n",
              "      <td id=\"T_7aac0_row4_col2\" class=\"data row4 col2\" >546224</td>\n",
              "      <td id=\"T_7aac0_row4_col3\" class=\"data row4 col3\" >Delhi</td>\n",
              "      <td id=\"T_7aac0_row4_col4\" class=\"data row4 col4\" >3</td>\n",
              "    </tr>\n",
              "  </tbody>\n",
              "</table>\n"
            ]
          },
          "metadata": {},
          "execution_count": 74
        }
      ]
    },
    {
      "cell_type": "code",
      "source": [
        "sql = \"\\\n",
        "select * from \\\n",
        "crosstab('select location::text,locationid::text,deptname::text from dept order by 1,2') as locations \\\n",
        "(location text, dep1 text, dep2 text, dep3 text, dep4 text)\\\n",
        "\"\n",
        "runSelect(sql)"
      ],
      "metadata": {
        "colab": {
          "base_uri": "https://localhost:8080/",
          "height": 143
        },
        "id": "Iukqh6TRVo-9",
        "outputId": "411f4463-c2fa-442b-a985-bd81950c2d71"
      },
      "execution_count": 75,
      "outputs": [
        {
          "output_type": "execute_result",
          "data": {
            "text/plain": [
              "<pandas.io.formats.style.Styler at 0x7a6aa6d0a350>"
            ],
            "text/html": [
              "<style type=\"text/css\">\n",
              "</style>\n",
              "<table id=\"T_23620\" class=\"dataframe\">\n",
              "  <thead>\n",
              "    <tr>\n",
              "      <th id=\"T_23620_level0_col0\" class=\"col_heading level0 col0\" >location</th>\n",
              "      <th id=\"T_23620_level0_col1\" class=\"col_heading level0 col1\" >dep1</th>\n",
              "      <th id=\"T_23620_level0_col2\" class=\"col_heading level0 col2\" >dep2</th>\n",
              "      <th id=\"T_23620_level0_col3\" class=\"col_heading level0 col3\" >dep3</th>\n",
              "      <th id=\"T_23620_level0_col4\" class=\"col_heading level0 col4\" >dep4</th>\n",
              "    </tr>\n",
              "  </thead>\n",
              "  <tbody>\n",
              "    <tr>\n",
              "      <td id=\"T_23620_row0_col0\" class=\"data row0 col0\" >Bombay</td>\n",
              "      <td id=\"T_23620_row0_col1\" class=\"data row0 col1\" >Production</td>\n",
              "      <td id=\"T_23620_row0_col2\" class=\"data row0 col2\" >None</td>\n",
              "      <td id=\"T_23620_row0_col3\" class=\"data row0 col3\" >None</td>\n",
              "      <td id=\"T_23620_row0_col4\" class=\"data row0 col4\" >None</td>\n",
              "    </tr>\n",
              "    <tr>\n",
              "      <td id=\"T_23620_row1_col0\" class=\"data row1 col0\" >Calcutta</td>\n",
              "      <td id=\"T_23620_row1_col1\" class=\"data row1 col1\" >Corporate</td>\n",
              "      <td id=\"T_23620_row1_col2\" class=\"data row1 col2\" >Sales</td>\n",
              "      <td id=\"T_23620_row1_col3\" class=\"data row1 col3\" >Accounts</td>\n",
              "      <td id=\"T_23620_row1_col4\" class=\"data row1 col4\" >None</td>\n",
              "    </tr>\n",
              "    <tr>\n",
              "      <td id=\"T_23620_row2_col0\" class=\"data row2 col0\" >Delhi</td>\n",
              "      <td id=\"T_23620_row2_col1\" class=\"data row2 col1\" >Research</td>\n",
              "      <td id=\"T_23620_row2_col2\" class=\"data row2 col2\" >None</td>\n",
              "      <td id=\"T_23620_row2_col3\" class=\"data row2 col3\" >None</td>\n",
              "      <td id=\"T_23620_row2_col4\" class=\"data row2 col4\" >None</td>\n",
              "    </tr>\n",
              "  </tbody>\n",
              "</table>\n"
            ]
          },
          "metadata": {},
          "execution_count": 75
        }
      ]
    },
    {
      "cell_type": "markdown",
      "source": [
        "# Insert | Delete | Update"
      ],
      "metadata": {
        "id": "REcqZ7K0DYqi"
      }
    },
    {
      "cell_type": "code",
      "source": [
        "runSelect(\"select * from dept\")"
      ],
      "metadata": {
        "id": "xGgCH9vGDlsI",
        "outputId": "ac27e163-c0d1-49ae-d8f4-62ffb36067ed",
        "colab": {
          "base_uri": "https://localhost:8080/",
          "height": 206
        }
      },
      "execution_count": 76,
      "outputs": [
        {
          "output_type": "execute_result",
          "data": {
            "text/plain": [
              "<pandas.io.formats.style.Styler at 0x7a6aa6d0af80>"
            ],
            "text/html": [
              "<style type=\"text/css\">\n",
              "</style>\n",
              "<table id=\"T_248d4\" class=\"dataframe\">\n",
              "  <thead>\n",
              "    <tr>\n",
              "      <th id=\"T_248d4_level0_col0\" class=\"col_heading level0 col0\" >deptid</th>\n",
              "      <th id=\"T_248d4_level0_col1\" class=\"col_heading level0 col1\" >deptname</th>\n",
              "      <th id=\"T_248d4_level0_col2\" class=\"col_heading level0 col2\" >managerid</th>\n",
              "      <th id=\"T_248d4_level0_col3\" class=\"col_heading level0 col3\" >location</th>\n",
              "      <th id=\"T_248d4_level0_col4\" class=\"col_heading level0 col4\" >locationid</th>\n",
              "    </tr>\n",
              "  </thead>\n",
              "  <tbody>\n",
              "    <tr>\n",
              "      <td id=\"T_248d4_row0_col0\" class=\"data row0 col0\" >10</td>\n",
              "      <td id=\"T_248d4_row0_col1\" class=\"data row0 col1\" >Corporate</td>\n",
              "      <td id=\"T_248d4_row0_col2\" class=\"data row0 col2\" >299034</td>\n",
              "      <td id=\"T_248d4_row0_col3\" class=\"data row0 col3\" >Calcutta</td>\n",
              "      <td id=\"T_248d4_row0_col4\" class=\"data row0 col4\" >1</td>\n",
              "    </tr>\n",
              "    <tr>\n",
              "      <td id=\"T_248d4_row1_col0\" class=\"data row1 col0\" >20</td>\n",
              "      <td id=\"T_248d4_row1_col1\" class=\"data row1 col1\" >Sales</td>\n",
              "      <td id=\"T_248d4_row1_col2\" class=\"data row1 col2\" >239456</td>\n",
              "      <td id=\"T_248d4_row1_col3\" class=\"data row1 col3\" >Calcutta</td>\n",
              "      <td id=\"T_248d4_row1_col4\" class=\"data row1 col4\" >1</td>\n",
              "    </tr>\n",
              "    <tr>\n",
              "      <td id=\"T_248d4_row2_col0\" class=\"data row2 col0\" >30</td>\n",
              "      <td id=\"T_248d4_row2_col1\" class=\"data row2 col1\" >Accounts</td>\n",
              "      <td id=\"T_248d4_row2_col2\" class=\"data row2 col2\" >822134</td>\n",
              "      <td id=\"T_248d4_row2_col3\" class=\"data row2 col3\" >Calcutta</td>\n",
              "      <td id=\"T_248d4_row2_col4\" class=\"data row2 col4\" >1</td>\n",
              "    </tr>\n",
              "    <tr>\n",
              "      <td id=\"T_248d4_row3_col0\" class=\"data row3 col0\" >40</td>\n",
              "      <td id=\"T_248d4_row3_col1\" class=\"data row3 col1\" >Production</td>\n",
              "      <td id=\"T_248d4_row3_col2\" class=\"data row3 col2\" >349870</td>\n",
              "      <td id=\"T_248d4_row3_col3\" class=\"data row3 col3\" >Bombay</td>\n",
              "      <td id=\"T_248d4_row3_col4\" class=\"data row3 col4\" >2</td>\n",
              "    </tr>\n",
              "    <tr>\n",
              "      <td id=\"T_248d4_row4_col0\" class=\"data row4 col0\" >60</td>\n",
              "      <td id=\"T_248d4_row4_col1\" class=\"data row4 col1\" >Research</td>\n",
              "      <td id=\"T_248d4_row4_col2\" class=\"data row4 col2\" >546224</td>\n",
              "      <td id=\"T_248d4_row4_col3\" class=\"data row4 col3\" >Delhi</td>\n",
              "      <td id=\"T_248d4_row4_col4\" class=\"data row4 col4\" >3</td>\n",
              "    </tr>\n",
              "  </tbody>\n",
              "</table>\n"
            ]
          },
          "metadata": {},
          "execution_count": 76
        }
      ]
    },
    {
      "cell_type": "code",
      "source": [
        "runCmd(\"insert into Dept (DeptID, DeptName, ManagerID, Location,LocationID) VALUES \\\n",
        "\t('11', 'Corporate2', '299035', 'Calcutta','1')\")\n",
        "runSelect(\"select * from dept\")"
      ],
      "metadata": {
        "id": "iyW0EobdDuMY",
        "outputId": "eef155ac-fede-4230-81fd-21a87360a6f8",
        "colab": {
          "base_uri": "https://localhost:8080/",
          "height": 255
        }
      },
      "execution_count": 77,
      "outputs": [
        {
          "output_type": "stream",
          "name": "stdout",
          "text": [
            "Command executed\n"
          ]
        },
        {
          "output_type": "execute_result",
          "data": {
            "text/plain": [
              "<pandas.io.formats.style.Styler at 0x7a6aa6bd87c0>"
            ],
            "text/html": [
              "<style type=\"text/css\">\n",
              "</style>\n",
              "<table id=\"T_9a693\" class=\"dataframe\">\n",
              "  <thead>\n",
              "    <tr>\n",
              "      <th id=\"T_9a693_level0_col0\" class=\"col_heading level0 col0\" >deptid</th>\n",
              "      <th id=\"T_9a693_level0_col1\" class=\"col_heading level0 col1\" >deptname</th>\n",
              "      <th id=\"T_9a693_level0_col2\" class=\"col_heading level0 col2\" >managerid</th>\n",
              "      <th id=\"T_9a693_level0_col3\" class=\"col_heading level0 col3\" >location</th>\n",
              "      <th id=\"T_9a693_level0_col4\" class=\"col_heading level0 col4\" >locationid</th>\n",
              "    </tr>\n",
              "  </thead>\n",
              "  <tbody>\n",
              "    <tr>\n",
              "      <td id=\"T_9a693_row0_col0\" class=\"data row0 col0\" >10</td>\n",
              "      <td id=\"T_9a693_row0_col1\" class=\"data row0 col1\" >Corporate</td>\n",
              "      <td id=\"T_9a693_row0_col2\" class=\"data row0 col2\" >299034</td>\n",
              "      <td id=\"T_9a693_row0_col3\" class=\"data row0 col3\" >Calcutta</td>\n",
              "      <td id=\"T_9a693_row0_col4\" class=\"data row0 col4\" >1</td>\n",
              "    </tr>\n",
              "    <tr>\n",
              "      <td id=\"T_9a693_row1_col0\" class=\"data row1 col0\" >20</td>\n",
              "      <td id=\"T_9a693_row1_col1\" class=\"data row1 col1\" >Sales</td>\n",
              "      <td id=\"T_9a693_row1_col2\" class=\"data row1 col2\" >239456</td>\n",
              "      <td id=\"T_9a693_row1_col3\" class=\"data row1 col3\" >Calcutta</td>\n",
              "      <td id=\"T_9a693_row1_col4\" class=\"data row1 col4\" >1</td>\n",
              "    </tr>\n",
              "    <tr>\n",
              "      <td id=\"T_9a693_row2_col0\" class=\"data row2 col0\" >30</td>\n",
              "      <td id=\"T_9a693_row2_col1\" class=\"data row2 col1\" >Accounts</td>\n",
              "      <td id=\"T_9a693_row2_col2\" class=\"data row2 col2\" >822134</td>\n",
              "      <td id=\"T_9a693_row2_col3\" class=\"data row2 col3\" >Calcutta</td>\n",
              "      <td id=\"T_9a693_row2_col4\" class=\"data row2 col4\" >1</td>\n",
              "    </tr>\n",
              "    <tr>\n",
              "      <td id=\"T_9a693_row3_col0\" class=\"data row3 col0\" >40</td>\n",
              "      <td id=\"T_9a693_row3_col1\" class=\"data row3 col1\" >Production</td>\n",
              "      <td id=\"T_9a693_row3_col2\" class=\"data row3 col2\" >349870</td>\n",
              "      <td id=\"T_9a693_row3_col3\" class=\"data row3 col3\" >Bombay</td>\n",
              "      <td id=\"T_9a693_row3_col4\" class=\"data row3 col4\" >2</td>\n",
              "    </tr>\n",
              "    <tr>\n",
              "      <td id=\"T_9a693_row4_col0\" class=\"data row4 col0\" >60</td>\n",
              "      <td id=\"T_9a693_row4_col1\" class=\"data row4 col1\" >Research</td>\n",
              "      <td id=\"T_9a693_row4_col2\" class=\"data row4 col2\" >546224</td>\n",
              "      <td id=\"T_9a693_row4_col3\" class=\"data row4 col3\" >Delhi</td>\n",
              "      <td id=\"T_9a693_row4_col4\" class=\"data row4 col4\" >3</td>\n",
              "    </tr>\n",
              "    <tr>\n",
              "      <td id=\"T_9a693_row5_col0\" class=\"data row5 col0\" >11</td>\n",
              "      <td id=\"T_9a693_row5_col1\" class=\"data row5 col1\" >Corporate2</td>\n",
              "      <td id=\"T_9a693_row5_col2\" class=\"data row5 col2\" >299035</td>\n",
              "      <td id=\"T_9a693_row5_col3\" class=\"data row5 col3\" >Calcutta</td>\n",
              "      <td id=\"T_9a693_row5_col4\" class=\"data row5 col4\" >1</td>\n",
              "    </tr>\n",
              "  </tbody>\n",
              "</table>\n"
            ]
          },
          "metadata": {},
          "execution_count": 77
        }
      ]
    },
    {
      "cell_type": "code",
      "source": [
        "runCmd(\"update dept set deptname = 'Marketing' where deptid = '11'\")\n",
        "runSelect(\"select * from dept\")"
      ],
      "metadata": {
        "id": "DqdnmD2pEQNq",
        "outputId": "0c7cee03-f7b6-4dac-ef22-f96e126f6d92",
        "colab": {
          "base_uri": "https://localhost:8080/",
          "height": 255
        }
      },
      "execution_count": 78,
      "outputs": [
        {
          "output_type": "stream",
          "name": "stdout",
          "text": [
            "Command executed\n"
          ]
        },
        {
          "output_type": "execute_result",
          "data": {
            "text/plain": [
              "<pandas.io.formats.style.Styler at 0x7a6aa6cf8d00>"
            ],
            "text/html": [
              "<style type=\"text/css\">\n",
              "</style>\n",
              "<table id=\"T_f5bd5\" class=\"dataframe\">\n",
              "  <thead>\n",
              "    <tr>\n",
              "      <th id=\"T_f5bd5_level0_col0\" class=\"col_heading level0 col0\" >deptid</th>\n",
              "      <th id=\"T_f5bd5_level0_col1\" class=\"col_heading level0 col1\" >deptname</th>\n",
              "      <th id=\"T_f5bd5_level0_col2\" class=\"col_heading level0 col2\" >managerid</th>\n",
              "      <th id=\"T_f5bd5_level0_col3\" class=\"col_heading level0 col3\" >location</th>\n",
              "      <th id=\"T_f5bd5_level0_col4\" class=\"col_heading level0 col4\" >locationid</th>\n",
              "    </tr>\n",
              "  </thead>\n",
              "  <tbody>\n",
              "    <tr>\n",
              "      <td id=\"T_f5bd5_row0_col0\" class=\"data row0 col0\" >10</td>\n",
              "      <td id=\"T_f5bd5_row0_col1\" class=\"data row0 col1\" >Corporate</td>\n",
              "      <td id=\"T_f5bd5_row0_col2\" class=\"data row0 col2\" >299034</td>\n",
              "      <td id=\"T_f5bd5_row0_col3\" class=\"data row0 col3\" >Calcutta</td>\n",
              "      <td id=\"T_f5bd5_row0_col4\" class=\"data row0 col4\" >1</td>\n",
              "    </tr>\n",
              "    <tr>\n",
              "      <td id=\"T_f5bd5_row1_col0\" class=\"data row1 col0\" >20</td>\n",
              "      <td id=\"T_f5bd5_row1_col1\" class=\"data row1 col1\" >Sales</td>\n",
              "      <td id=\"T_f5bd5_row1_col2\" class=\"data row1 col2\" >239456</td>\n",
              "      <td id=\"T_f5bd5_row1_col3\" class=\"data row1 col3\" >Calcutta</td>\n",
              "      <td id=\"T_f5bd5_row1_col4\" class=\"data row1 col4\" >1</td>\n",
              "    </tr>\n",
              "    <tr>\n",
              "      <td id=\"T_f5bd5_row2_col0\" class=\"data row2 col0\" >30</td>\n",
              "      <td id=\"T_f5bd5_row2_col1\" class=\"data row2 col1\" >Accounts</td>\n",
              "      <td id=\"T_f5bd5_row2_col2\" class=\"data row2 col2\" >822134</td>\n",
              "      <td id=\"T_f5bd5_row2_col3\" class=\"data row2 col3\" >Calcutta</td>\n",
              "      <td id=\"T_f5bd5_row2_col4\" class=\"data row2 col4\" >1</td>\n",
              "    </tr>\n",
              "    <tr>\n",
              "      <td id=\"T_f5bd5_row3_col0\" class=\"data row3 col0\" >40</td>\n",
              "      <td id=\"T_f5bd5_row3_col1\" class=\"data row3 col1\" >Production</td>\n",
              "      <td id=\"T_f5bd5_row3_col2\" class=\"data row3 col2\" >349870</td>\n",
              "      <td id=\"T_f5bd5_row3_col3\" class=\"data row3 col3\" >Bombay</td>\n",
              "      <td id=\"T_f5bd5_row3_col4\" class=\"data row3 col4\" >2</td>\n",
              "    </tr>\n",
              "    <tr>\n",
              "      <td id=\"T_f5bd5_row4_col0\" class=\"data row4 col0\" >60</td>\n",
              "      <td id=\"T_f5bd5_row4_col1\" class=\"data row4 col1\" >Research</td>\n",
              "      <td id=\"T_f5bd5_row4_col2\" class=\"data row4 col2\" >546224</td>\n",
              "      <td id=\"T_f5bd5_row4_col3\" class=\"data row4 col3\" >Delhi</td>\n",
              "      <td id=\"T_f5bd5_row4_col4\" class=\"data row4 col4\" >3</td>\n",
              "    </tr>\n",
              "    <tr>\n",
              "      <td id=\"T_f5bd5_row5_col0\" class=\"data row5 col0\" >11</td>\n",
              "      <td id=\"T_f5bd5_row5_col1\" class=\"data row5 col1\" >Marketing</td>\n",
              "      <td id=\"T_f5bd5_row5_col2\" class=\"data row5 col2\" >299035</td>\n",
              "      <td id=\"T_f5bd5_row5_col3\" class=\"data row5 col3\" >Calcutta</td>\n",
              "      <td id=\"T_f5bd5_row5_col4\" class=\"data row5 col4\" >1</td>\n",
              "    </tr>\n",
              "  </tbody>\n",
              "</table>\n"
            ]
          },
          "metadata": {},
          "execution_count": 78
        }
      ]
    },
    {
      "cell_type": "code",
      "source": [
        "runCmd(\"delete from dept where deptid = '11'\")\n",
        "runSelect(\"select * from dept\")"
      ],
      "metadata": {
        "id": "nsnJnNrEF6iS",
        "outputId": "e16b64ad-3ed1-4a86-aeba-5777f2141225",
        "colab": {
          "base_uri": "https://localhost:8080/",
          "height": 224
        }
      },
      "execution_count": 79,
      "outputs": [
        {
          "output_type": "stream",
          "name": "stdout",
          "text": [
            "Command executed\n"
          ]
        },
        {
          "output_type": "execute_result",
          "data": {
            "text/plain": [
              "<pandas.io.formats.style.Styler at 0x7a6aa6bdb9d0>"
            ],
            "text/html": [
              "<style type=\"text/css\">\n",
              "</style>\n",
              "<table id=\"T_77e3e\" class=\"dataframe\">\n",
              "  <thead>\n",
              "    <tr>\n",
              "      <th id=\"T_77e3e_level0_col0\" class=\"col_heading level0 col0\" >deptid</th>\n",
              "      <th id=\"T_77e3e_level0_col1\" class=\"col_heading level0 col1\" >deptname</th>\n",
              "      <th id=\"T_77e3e_level0_col2\" class=\"col_heading level0 col2\" >managerid</th>\n",
              "      <th id=\"T_77e3e_level0_col3\" class=\"col_heading level0 col3\" >location</th>\n",
              "      <th id=\"T_77e3e_level0_col4\" class=\"col_heading level0 col4\" >locationid</th>\n",
              "    </tr>\n",
              "  </thead>\n",
              "  <tbody>\n",
              "    <tr>\n",
              "      <td id=\"T_77e3e_row0_col0\" class=\"data row0 col0\" >10</td>\n",
              "      <td id=\"T_77e3e_row0_col1\" class=\"data row0 col1\" >Corporate</td>\n",
              "      <td id=\"T_77e3e_row0_col2\" class=\"data row0 col2\" >299034</td>\n",
              "      <td id=\"T_77e3e_row0_col3\" class=\"data row0 col3\" >Calcutta</td>\n",
              "      <td id=\"T_77e3e_row0_col4\" class=\"data row0 col4\" >1</td>\n",
              "    </tr>\n",
              "    <tr>\n",
              "      <td id=\"T_77e3e_row1_col0\" class=\"data row1 col0\" >20</td>\n",
              "      <td id=\"T_77e3e_row1_col1\" class=\"data row1 col1\" >Sales</td>\n",
              "      <td id=\"T_77e3e_row1_col2\" class=\"data row1 col2\" >239456</td>\n",
              "      <td id=\"T_77e3e_row1_col3\" class=\"data row1 col3\" >Calcutta</td>\n",
              "      <td id=\"T_77e3e_row1_col4\" class=\"data row1 col4\" >1</td>\n",
              "    </tr>\n",
              "    <tr>\n",
              "      <td id=\"T_77e3e_row2_col0\" class=\"data row2 col0\" >30</td>\n",
              "      <td id=\"T_77e3e_row2_col1\" class=\"data row2 col1\" >Accounts</td>\n",
              "      <td id=\"T_77e3e_row2_col2\" class=\"data row2 col2\" >822134</td>\n",
              "      <td id=\"T_77e3e_row2_col3\" class=\"data row2 col3\" >Calcutta</td>\n",
              "      <td id=\"T_77e3e_row2_col4\" class=\"data row2 col4\" >1</td>\n",
              "    </tr>\n",
              "    <tr>\n",
              "      <td id=\"T_77e3e_row3_col0\" class=\"data row3 col0\" >40</td>\n",
              "      <td id=\"T_77e3e_row3_col1\" class=\"data row3 col1\" >Production</td>\n",
              "      <td id=\"T_77e3e_row3_col2\" class=\"data row3 col2\" >349870</td>\n",
              "      <td id=\"T_77e3e_row3_col3\" class=\"data row3 col3\" >Bombay</td>\n",
              "      <td id=\"T_77e3e_row3_col4\" class=\"data row3 col4\" >2</td>\n",
              "    </tr>\n",
              "    <tr>\n",
              "      <td id=\"T_77e3e_row4_col0\" class=\"data row4 col0\" >60</td>\n",
              "      <td id=\"T_77e3e_row4_col1\" class=\"data row4 col1\" >Research</td>\n",
              "      <td id=\"T_77e3e_row4_col2\" class=\"data row4 col2\" >546224</td>\n",
              "      <td id=\"T_77e3e_row4_col3\" class=\"data row4 col3\" >Delhi</td>\n",
              "      <td id=\"T_77e3e_row4_col4\" class=\"data row4 col4\" >3</td>\n",
              "    </tr>\n",
              "  </tbody>\n",
              "</table>\n"
            ]
          },
          "metadata": {},
          "execution_count": 79
        }
      ]
    },
    {
      "cell_type": "code",
      "source": [
        "from datetime import datetime\n",
        "import pytz\n",
        "print('Last tested  ',datetime.now(pytz.timezone('Asia/Kolkata')))"
      ],
      "metadata": {
        "colab": {
          "base_uri": "https://localhost:8080/"
        },
        "id": "wjBXJVhM605H",
        "outputId": "e09a1206-26d7-4d95-add8-d71d5b069ef8"
      },
      "execution_count": 80,
      "outputs": [
        {
          "output_type": "stream",
          "name": "stdout",
          "text": [
            "Last tested   2024-03-03 07:21:17.554203+05:30\n"
          ]
        }
      ]
    },
    {
      "cell_type": "markdown",
      "source": [
        "#Chronobooks <br>\n",
        "Two science fiction novels by Prithwis Mukerjee. A dystopian Earth. A technocratic society managed by artificial intelligence. Escape and epiphany on Mars. Can man and machine, carbon and silicon explore and escape into other dimensions of existence? An Indic perspective rooted in Advaita Vedanta and the Divine Feminine.  [More information](http://bit.ly/chronobooks) <br>\n",
        "![alt text](https://github.com/Praxis-QR/RDWH/raw/main/images/CTCYFooter-1.png)"
      ],
      "metadata": {
        "id": "_gNiZpyW3AzJ"
      }
    }
  ]
}