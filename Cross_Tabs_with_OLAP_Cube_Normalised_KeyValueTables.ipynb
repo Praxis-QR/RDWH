{
  "nbformat": 4,
  "nbformat_minor": 0,
  "metadata": {
    "colab": {
      "name": "Cross Tabs with OLAP Cube - Normalised KeyValueTables",
      "provenance": [],
      "collapsed_sections": [
        "_rU8CnnudQAX",
        "gXQysJFYdWXg",
        "8tsY08hYy0jc",
        "6eMUYZpazkH_",
        "VMfF86Pf3kaQ",
        "clFiGj-X3p6b",
        "G7s5vD_N3wV5",
        "pPTQuLMEDt--"
      ],
      "include_colab_link": true
    },
    "kernelspec": {
      "name": "python3",
      "display_name": "Python 3"
    }
  },
  "cells": [
    {
      "cell_type": "markdown",
      "metadata": {
        "id": "view-in-github",
        "colab_type": "text"
      },
      "source": [
        "<a href=\"https://colab.research.google.com/github/Praxis-QR/RDWH/blob/main/Cross_Tabs_with_OLAP_Cube_Normalised_KeyValueTables.ipynb\" target=\"_parent\"><img src=\"https://colab.research.google.com/assets/colab-badge.svg\" alt=\"Open In Colab\"/></a>"
      ]
    },
    {
      "cell_type": "markdown",
      "metadata": {
        "id": "4eYqHc2E6vqX"
      },
      "source": [
        "![alt text](https://github.com/Praxis-QR/RDWH/raw/main/images/YantraJaalBanner.png)<br>\n",
        "\n",
        "\n",
        "<hr>\n",
        "\n",
        "[Prithwis Mukerjee](http://www.linkedin.com/in/prithwis)<br>"
      ]
    },
    {
      "cell_type": "markdown",
      "metadata": {
        "id": "_yscy5Ox67yy"
      },
      "source": [
        "#Generating Cross Tabs\n",
        "Companion codes for [this slide deck](https://docs.google.com/presentation/d/1wQzZoHFo3NVk-dMTebHA4LH7B4KYmOfiSammjsSRGL0/edit?usp=sharing)"
      ]
    },
    {
      "cell_type": "code",
      "source": [
        "from datetime import datetime\n",
        "import pytz\n",
        "print('ॐ श्री सरस्वत्यै नमः',datetime.now(pytz.timezone('Asia/Calcutta')))\n",
        "!python --version\n",
        "!lsb_release -a"
      ],
      "metadata": {
        "id": "7bVaVoSagTCT",
        "outputId": "1ed33a05-714f-4138-efec-68f4e33def9c",
        "colab": {
          "base_uri": "https://localhost:8080/"
        }
      },
      "execution_count": 1,
      "outputs": [
        {
          "output_type": "stream",
          "name": "stdout",
          "text": [
            "ॐ श्री सरस्वत्यै नमः 2023-09-04 10:24:20.193130+05:30\n",
            "Python 3.10.12\n",
            "No LSB modules are available.\n",
            "Distributor ID:\tUbuntu\n",
            "Description:\tUbuntu 22.04.2 LTS\n",
            "Release:\t22.04\n",
            "Codename:\tjammy\n"
          ]
        }
      ]
    },
    {
      "cell_type": "markdown",
      "metadata": {
        "id": "_rU8CnnudQAX"
      },
      "source": [
        "#Install MySQL"
      ]
    },
    {
      "cell_type": "code",
      "metadata": {
        "id": "inGB7KgJHQFJ"
      },
      "source": [
        "# Some system parameters\n",
        "#!cat /proc/cpuinfo\n",
        "#!cat /proc/meminfo"
      ],
      "execution_count": null,
      "outputs": []
    },
    {
      "cell_type": "code",
      "metadata": {
        "id": "J8p8UAbybZnT",
        "outputId": "f6052062-e869-4fb8-809d-151eace3dbb9",
        "colab": {
          "base_uri": "https://localhost:8080/"
        }
      },
      "source": [
        "!apt-get update > /dev/null\n",
        "!apt-get -y install mysql-server > /dev/null\n",
        "!/etc/init.d/mysql restart\n",
        "!mysql -e 'create database praxisDB'\n",
        "!mysql -e 'show databases'"
      ],
      "execution_count": 2,
      "outputs": [
        {
          "output_type": "stream",
          "name": "stdout",
          "text": [
            " * Stopping MySQL database server mysqld\n",
            "   ...done.\n",
            " * Starting MySQL database server mysqld\n",
            "su: warning: cannot change directory to /nonexistent: No such file or directory\n",
            "   ...done.\n",
            "+--------------------+\n",
            "| Database           |\n",
            "+--------------------+\n",
            "| information_schema |\n",
            "| mysql              |\n",
            "| performance_schema |\n",
            "| praxisDB           |\n",
            "| sys                |\n",
            "+--------------------+\n"
          ]
        }
      ]
    },
    {
      "cell_type": "markdown",
      "metadata": {
        "id": "gXQysJFYdWXg"
      },
      "source": [
        "#Create, Load Normalised Fact Table"
      ]
    },
    {
      "cell_type": "code",
      "metadata": {
        "id": "pbzN0xOSdam_",
        "colab": {
          "base_uri": "https://localhost:8080/"
        },
        "outputId": "2f396781-f878-429f-9ca2-85a5b57ad77c"
      },
      "source": [
        "!mysql praxisDB -e 'DROP table if exists CarSalesFact_N'\n",
        "!mysql praxisDB -e 'CREATE TABLE if not exists CarSalesFact_N ( Txn int(2) ,  Dim  varchar(8) ,  DimValue varchar(8) ) '\n",
        "!mysql praxisDB -e 'desc CarSalesFact_N'"
      ],
      "execution_count": 3,
      "outputs": [
        {
          "output_type": "stream",
          "name": "stdout",
          "text": [
            "+----------+------------+------+-----+---------+-------+\n",
            "| Field    | Type       | Null | Key | Default | Extra |\n",
            "+----------+------------+------+-----+---------+-------+\n",
            "| Txn      | int        | YES  |     | NULL    |       |\n",
            "| Dim      | varchar(8) | YES  |     | NULL    |       |\n",
            "| DimValue | varchar(8) | YES  |     | NULL    |       |\n",
            "+----------+------------+------+-----+---------+-------+\n"
          ]
        }
      ]
    },
    {
      "cell_type": "code",
      "metadata": {
        "id": "Dp6bA6gcfcnh"
      },
      "source": [
        "!mysql praxisDB -e \" \\\n",
        "INSERT INTO CarSalesFact_N (Txn, Dim, DimValue) VALUES \\\n",
        " (1, 'Make', 'Honda'),(1, 'Type', 'SUV'),(1, 'Colour', 'Red'),\\\n",
        " (2, 'Make', 'Honda'),(2, 'Type', 'SUV'),(2, 'Colour', 'Black'), \\\n",
        " (3, 'Make', 'Honda'),(3, 'Type', 'Sedan'),(3, 'Colour', 'Brown'),\\\n",
        " (4, 'Make', 'Toyota'),(4, 'Type', 'Compact'),(4, 'Colour', 'Red'),\\\n",
        " (5, 'Make', 'Toyota'),(5, 'Colour', 'Black'),(5, 'Type', 'Sedan'),\\\n",
        " (6, 'Make', 'Toyota'),(6, 'Colour', 'Black'),(6, 'Type', 'Sedan'),\\\n",
        " (7, 'Make', 'Honda'),(7, 'Type', 'SUV'),(7, 'Colour', 'Black'),\\\n",
        " (8, 'Make', 'Honda'),(8, 'Type', 'SUV'),(8, 'Colour', 'Red'),\\\n",
        " (9, 'Make', 'Honda'),(9, 'Type', 'SUV'),(9, 'Colour', 'Black'),\\\n",
        " (10, 'Make', 'Honda'),(10, 'Type', 'SUV'),(10, 'Colour', 'Black'),\\\n",
        " (11, 'Make', 'Mazda'),(11, 'Type', 'SUV'),(11, 'Colour', 'Black'),\\\n",
        " (12, 'Make', 'Mazda'),(12, 'Type', 'Compact'),(12, 'Colour', 'Red'),\\\n",
        " (13, 'Make', 'Mazda'),(13, 'Type', 'Sedan'),(13, 'Colour', 'Brown'),\\\n",
        " (14, 'Make', 'Mazda'),(14, 'Type', 'SUV'),(14, 'Colour', 'Red');\\\n",
        " \"\n"
      ],
      "execution_count": 4,
      "outputs": []
    },
    {
      "cell_type": "code",
      "metadata": {
        "id": "ImVXnLlqgJzb",
        "colab": {
          "base_uri": "https://localhost:8080/"
        },
        "outputId": "54736151-faf5-4a50-9227-d7f362b0d77a"
      },
      "source": [
        "!mysql praxisDB -e 'select * from CarSalesFact_N'"
      ],
      "execution_count": 5,
      "outputs": [
        {
          "output_type": "stream",
          "name": "stdout",
          "text": [
            "+------+--------+----------+\n",
            "| Txn  | Dim    | DimValue |\n",
            "+------+--------+----------+\n",
            "|    1 | Make   | Honda    |\n",
            "|    1 | Type   | SUV      |\n",
            "|    1 | Colour | Red      |\n",
            "|    2 | Make   | Honda    |\n",
            "|    2 | Type   | SUV      |\n",
            "|    2 | Colour | Black    |\n",
            "|    3 | Make   | Honda    |\n",
            "|    3 | Type   | Sedan    |\n",
            "|    3 | Colour | Brown    |\n",
            "|    4 | Make   | Toyota   |\n",
            "|    4 | Type   | Compact  |\n",
            "|    4 | Colour | Red      |\n",
            "|    5 | Make   | Toyota   |\n",
            "|    5 | Colour | Black    |\n",
            "|    5 | Type   | Sedan    |\n",
            "|    6 | Make   | Toyota   |\n",
            "|    6 | Colour | Black    |\n",
            "|    6 | Type   | Sedan    |\n",
            "|    7 | Make   | Honda    |\n",
            "|    7 | Type   | SUV      |\n",
            "|    7 | Colour | Black    |\n",
            "|    8 | Make   | Honda    |\n",
            "|    8 | Type   | SUV      |\n",
            "|    8 | Colour | Red      |\n",
            "|    9 | Make   | Honda    |\n",
            "|    9 | Type   | SUV      |\n",
            "|    9 | Colour | Black    |\n",
            "|   10 | Make   | Honda    |\n",
            "|   10 | Type   | SUV      |\n",
            "|   10 | Colour | Black    |\n",
            "|   11 | Make   | Mazda    |\n",
            "|   11 | Type   | SUV      |\n",
            "|   11 | Colour | Black    |\n",
            "|   12 | Make   | Mazda    |\n",
            "|   12 | Type   | Compact  |\n",
            "|   12 | Colour | Red      |\n",
            "|   13 | Make   | Mazda    |\n",
            "|   13 | Type   | Sedan    |\n",
            "|   13 | Colour | Brown    |\n",
            "|   14 | Make   | Mazda    |\n",
            "|   14 | Type   | SUV      |\n",
            "|   14 | Colour | Red      |\n",
            "+------+--------+----------+\n"
          ]
        }
      ]
    },
    {
      "cell_type": "markdown",
      "metadata": {
        "id": "I-2HjQYIVeIE"
      },
      "source": [
        "#Create a Standard Fact Table"
      ]
    },
    {
      "cell_type": "markdown",
      "metadata": {
        "id": "AhcYngc3IbPd"
      },
      "source": [
        "##Pivot - Rows to Columns"
      ]
    },
    {
      "cell_type": "code",
      "metadata": {
        "id": "McZuZSEaWZeW",
        "colab": {
          "base_uri": "https://localhost:8080/"
        },
        "outputId": "b8954af6-aa55-45ef-87ad-7de04eed9f9c"
      },
      "source": [
        "!mysql praxisDB -e \"\\\n",
        "SELECT \\\n",
        "  Txn,\\\n",
        "  GROUP_CONCAT(if(Dim = 'Make', DimValue, NULL)) AS 'Make',\\\n",
        "  GROUP_CONCAT(if(Dim = 'Type', DimValue, NULL)) AS 'Type',\\\n",
        "  GROUP_CONCAT(if(Dim = 'Colour', DimValue, NULL)) AS 'Colour'\\\n",
        "FROM CarSalesFact_N \\\n",
        "GROUP BY txn \\\n",
        "\""
      ],
      "execution_count": 6,
      "outputs": [
        {
          "output_type": "stream",
          "name": "stdout",
          "text": [
            "+------+--------+---------+--------+\n",
            "| Txn  | Make   | Type    | Colour |\n",
            "+------+--------+---------+--------+\n",
            "|    1 | Honda  | SUV     | Red    |\n",
            "|    2 | Honda  | SUV     | Black  |\n",
            "|    3 | Honda  | Sedan   | Brown  |\n",
            "|    4 | Toyota | Compact | Red    |\n",
            "|    5 | Toyota | Sedan   | Black  |\n",
            "|    6 | Toyota | Sedan   | Black  |\n",
            "|    7 | Honda  | SUV     | Black  |\n",
            "|    8 | Honda  | SUV     | Red    |\n",
            "|    9 | Honda  | SUV     | Black  |\n",
            "|   10 | Honda  | SUV     | Black  |\n",
            "|   11 | Mazda  | SUV     | Black  |\n",
            "|   12 | Mazda  | Compact | Red    |\n",
            "|   13 | Mazda  | Sedan   | Brown  |\n",
            "|   14 | Mazda  | SUV     | Red    |\n",
            "+------+--------+---------+--------+\n"
          ]
        }
      ]
    },
    {
      "cell_type": "markdown",
      "metadata": {
        "id": "uC9bkbFFIhcD"
      },
      "source": [
        "##Create CUBE"
      ]
    },
    {
      "cell_type": "code",
      "metadata": {
        "id": "JSa-yU9RXL7o",
        "colab": {
          "base_uri": "https://localhost:8080/"
        },
        "outputId": "caa72e5d-934e-4e5e-ea89-f2c657fb1c6a"
      },
      "source": [
        "!mysql praxisDB -e \"\\\n",
        "select csf0.Make, csf0.Type, csf0.Colour, count(txn) Units from \\\n",
        "(SELECT \\\n",
        "  Txn,\\\n",
        "  GROUP_CONCAT(if(Dim = 'Make', DimValue, NULL)) AS 'Make',\\\n",
        "  GROUP_CONCAT(if(Dim = 'Type', DimValue, NULL)) AS 'Type',\\\n",
        "  GROUP_CONCAT(if(Dim = 'Colour', DimValue, NULL)) AS 'Colour'\\\n",
        "FROM CarSalesFact_N \\\n",
        "GROUP BY txn \\\n",
        ") as csf0 \\\n",
        "group by \\\n",
        "csf0.Make, csf0.Type, csf0.Colour \\\n",
        "\""
      ],
      "execution_count": 7,
      "outputs": [
        {
          "output_type": "stream",
          "name": "stdout",
          "text": [
            "+--------+---------+--------+-------+\n",
            "| Make   | Type    | Colour | Units |\n",
            "+--------+---------+--------+-------+\n",
            "| Honda  | SUV     | Red    |     2 |\n",
            "| Honda  | SUV     | Black  |     4 |\n",
            "| Honda  | Sedan   | Brown  |     1 |\n",
            "| Toyota | Compact | Red    |     1 |\n",
            "| Toyota | Sedan   | Black  |     2 |\n",
            "| Mazda  | SUV     | Black  |     1 |\n",
            "| Mazda  | Compact | Red    |     1 |\n",
            "| Mazda  | Sedan   | Brown  |     1 |\n",
            "| Mazda  | SUV     | Red    |     1 |\n",
            "+--------+---------+--------+-------+\n"
          ]
        }
      ]
    },
    {
      "cell_type": "code",
      "metadata": {
        "id": "Py1QrkIZZuEY",
        "colab": {
          "base_uri": "https://localhost:8080/"
        },
        "outputId": "7ff975e7-d538-4ea0-88de-ca8ff9fac8b5"
      },
      "source": [
        "!mysql praxisDB -e \"drop table if exists CarSalesFact_S\"\n",
        "!mysql praxisDB -e \" \\\n",
        "create table CarSalesFact_S as ( \\\n",
        "    select csf0.Make, csf0.Type, csf0.Colour, count(txn) Units from \\\n",
        "        (SELECT \\\n",
        "        Txn,\\\n",
        "        GROUP_CONCAT(if(Dim = 'Make', DimValue, NULL)) AS 'Make',\\\n",
        "        GROUP_CONCAT(if(Dim = 'Type', DimValue, NULL)) AS 'Type',\\\n",
        "        GROUP_CONCAT(if(Dim = 'Colour', DimValue, NULL)) AS 'Colour'\\\n",
        "        FROM CarSalesFact_N \\\n",
        "        GROUP BY txn \\\n",
        "        ) as csf0 \\\n",
        "        group by \\\n",
        "        csf0.Make, csf0.Type, csf0.Colour \\\n",
        ") \\\n",
        "\"\n",
        "!mysql praxisDB -e \"select * from CarSalesFact_S\""
      ],
      "execution_count": 8,
      "outputs": [
        {
          "output_type": "stream",
          "name": "stdout",
          "text": [
            "+--------+---------+--------+-------+\n",
            "| Make   | Type    | Colour | Units |\n",
            "+--------+---------+--------+-------+\n",
            "| Honda  | SUV     | Red    |     2 |\n",
            "| Honda  | SUV     | Black  |     4 |\n",
            "| Honda  | Sedan   | Brown  |     1 |\n",
            "| Toyota | Compact | Red    |     1 |\n",
            "| Toyota | Sedan   | Black  |     2 |\n",
            "| Mazda  | SUV     | Black  |     1 |\n",
            "| Mazda  | Compact | Red    |     1 |\n",
            "| Mazda  | Sedan   | Brown  |     1 |\n",
            "| Mazda  | SUV     | Red    |     1 |\n",
            "+--------+---------+--------+-------+\n"
          ]
        }
      ]
    },
    {
      "cell_type": "markdown",
      "metadata": {
        "id": "AGiIe8WSgql3"
      },
      "source": [
        "#Cross Tabs"
      ]
    },
    {
      "cell_type": "markdown",
      "metadata": {
        "id": "0nRzdvzuue3B"
      },
      "source": [
        "##Level 1"
      ]
    },
    {
      "cell_type": "code",
      "metadata": {
        "id": "CZhFdY6GZrwr",
        "colab": {
          "base_uri": "https://localhost:8080/"
        },
        "outputId": "058a9517-971c-4c0a-95cd-4dc118ae064f"
      },
      "source": [
        "!mysql praxisDB -e \" \\\n",
        "  select Make, Type, Sum(Units) Count \\\n",
        "  from CarSalesFact_S \\\n",
        "  group by Make, Type \\\n",
        "\""
      ],
      "execution_count": 9,
      "outputs": [
        {
          "output_type": "stream",
          "name": "stdout",
          "text": [
            "+--------+---------+-------+\n",
            "| Make   | Type    | Count |\n",
            "+--------+---------+-------+\n",
            "| Honda  | SUV     |     6 |\n",
            "| Honda  | Sedan   |     1 |\n",
            "| Toyota | Compact |     1 |\n",
            "| Toyota | Sedan   |     2 |\n",
            "| Mazda  | SUV     |     2 |\n",
            "| Mazda  | Compact |     1 |\n",
            "| Mazda  | Sedan   |     1 |\n",
            "+--------+---------+-------+\n"
          ]
        }
      ]
    },
    {
      "cell_type": "code",
      "source": [
        "!mysql praxisDB -e \" \\\n",
        "  select Make,  Sum(Units) Count \\\n",
        "  from CarSalesFact_S \\\n",
        "  group by Make \\\n",
        "\""
      ],
      "metadata": {
        "id": "svDcBEesc6Wx",
        "outputId": "db82588e-3372-4f0d-9e48-0cb6930d5688",
        "colab": {
          "base_uri": "https://localhost:8080/"
        }
      },
      "execution_count": 10,
      "outputs": [
        {
          "output_type": "stream",
          "name": "stdout",
          "text": [
            "+--------+-------+\n",
            "| Make   | Count |\n",
            "+--------+-------+\n",
            "| Honda  |     7 |\n",
            "| Toyota |     3 |\n",
            "| Mazda  |     4 |\n",
            "+--------+-------+\n"
          ]
        }
      ]
    },
    {
      "cell_type": "code",
      "source": [
        "!mysql praxisDB -e \"\\\n",
        "    select Make, \\\n",
        "    sum(if(Type = 'Sedan', Units,0)) as 'Sedan', \\\n",
        "    sum(if(Type = 'SUV', Units, 0)) as 'SUV', \\\n",
        "    sum(if(Type = 'Compact', Units, 0)) as 'Compact' \\\n",
        "    from CarSalesFact_S \\\n",
        "    group by Make\""
      ],
      "metadata": {
        "id": "K8cCiUW0a9F6",
        "outputId": "b255fb5b-4e3a-421b-f669-5a23e30af49c",
        "colab": {
          "base_uri": "https://localhost:8080/"
        }
      },
      "execution_count": 11,
      "outputs": [
        {
          "output_type": "stream",
          "name": "stdout",
          "text": [
            "+--------+-------+------+---------+\n",
            "| Make   | Sedan | SUV  | Compact |\n",
            "+--------+-------+------+---------+\n",
            "| Honda  |     1 |    6 |       0 |\n",
            "| Toyota |     2 |    0 |       1 |\n",
            "| Mazda  |     1 |    2 |       1 |\n",
            "+--------+-------+------+---------+\n"
          ]
        }
      ]
    },
    {
      "cell_type": "markdown",
      "metadata": {
        "id": "eZOW8xonuirJ"
      },
      "source": [
        "##Level 2 - Rollup"
      ]
    },
    {
      "cell_type": "code",
      "metadata": {
        "id": "ftQA8XDdpHH0",
        "colab": {
          "base_uri": "https://localhost:8080/"
        },
        "outputId": "aa069bab-58e5-4cf0-9b58-fccee2a46d69"
      },
      "source": [
        "!mysql praxisDB -e \" \\\n",
        "  select Make, Type, Sum(Units) Count \\\n",
        "  from CarSalesFact_S \\\n",
        "  group by Make, Type  \\\n",
        "  with ROLLUP; \\\n",
        "\""
      ],
      "execution_count": 12,
      "outputs": [
        {
          "output_type": "stream",
          "name": "stdout",
          "text": [
            "+--------+---------+-------+\n",
            "| Make   | Type    | Count |\n",
            "+--------+---------+-------+\n",
            "| Honda  | Sedan   |     1 |\n",
            "| Honda  | SUV     |     6 |\n",
            "| Honda  | NULL    |     7 |\n",
            "| Mazda  | Compact |     1 |\n",
            "| Mazda  | Sedan   |     1 |\n",
            "| Mazda  | SUV     |     2 |\n",
            "| Mazda  | NULL    |     4 |\n",
            "| Toyota | Compact |     1 |\n",
            "| Toyota | Sedan   |     2 |\n",
            "| Toyota | NULL    |     3 |\n",
            "| NULL   | NULL    |    14 |\n",
            "+--------+---------+-------+\n"
          ]
        }
      ]
    },
    {
      "cell_type": "code",
      "metadata": {
        "id": "0FpngPRshgOn",
        "colab": {
          "base_uri": "https://localhost:8080/"
        },
        "outputId": "e77da319-08de-4326-a2d5-8914668594ee"
      },
      "source": [
        "!mysql praxisDB -e \" \\\n",
        "  select IFNULL(Make,'-total-') 'Make', IFNULL(Type,'-total-') 'Type', Sum(Units) Count \\\n",
        "  from CarSalesFact_S \\\n",
        "  group by Make, Type  \\\n",
        "  with ROLLUP; \\\n",
        "\""
      ],
      "execution_count": 13,
      "outputs": [
        {
          "output_type": "stream",
          "name": "stdout",
          "text": [
            "+---------+---------+-------+\n",
            "| Make    | Type    | Count |\n",
            "+---------+---------+-------+\n",
            "| Honda   | Sedan   |     1 |\n",
            "| Honda   | SUV     |     6 |\n",
            "| Honda   | -total- |     7 |\n",
            "| Mazda   | Compact |     1 |\n",
            "| Mazda   | Sedan   |     1 |\n",
            "| Mazda   | SUV     |     2 |\n",
            "| Mazda   | -total- |     4 |\n",
            "| Toyota  | Compact |     1 |\n",
            "| Toyota  | Sedan   |     2 |\n",
            "| Toyota  | -total- |     3 |\n",
            "| -total- | -total- |    14 |\n",
            "+---------+---------+-------+\n"
          ]
        }
      ]
    },
    {
      "cell_type": "code",
      "metadata": {
        "id": "06EFilSnOfWj",
        "colab": {
          "base_uri": "https://localhost:8080/"
        },
        "outputId": "109bc914-ed3f-4223-d741-908e75e99a73"
      },
      "source": [
        "!mysql praxisDB -e \" \\\n",
        "  select Make, Sum(Units) Count \\\n",
        "  from CarSalesFact_S \\\n",
        "  group by Make  \\\n",
        "  with ROLLUP; \\\n",
        "\""
      ],
      "execution_count": 14,
      "outputs": [
        {
          "output_type": "stream",
          "name": "stdout",
          "text": [
            "+--------+-------+\n",
            "| Make   | Count |\n",
            "+--------+-------+\n",
            "| Honda  |     7 |\n",
            "| Mazda  |     4 |\n",
            "| Toyota |     3 |\n",
            "| NULL   |    14 |\n",
            "+--------+-------+\n"
          ]
        }
      ]
    },
    {
      "cell_type": "markdown",
      "metadata": {
        "id": "qhqZ2gujZie7"
      },
      "source": [
        "### Roll UP even more"
      ]
    },
    {
      "cell_type": "code",
      "metadata": {
        "id": "9I6Jc4x9PlZe",
        "colab": {
          "base_uri": "https://localhost:8080/"
        },
        "outputId": "0ad90fcf-f3aa-4dd7-b42b-9c3d78b0c7d9"
      },
      "source": [
        "!mysql praxisDB -e \" \\\n",
        "  select IFNULL(Make,'-total-') 'Make', Sum(Units) Count \\\n",
        "  from CarSalesFact_S \\\n",
        "  group by Make  \\\n",
        "  with ROLLUP; \\\n",
        "\""
      ],
      "execution_count": 15,
      "outputs": [
        {
          "output_type": "stream",
          "name": "stdout",
          "text": [
            "+---------+-------+\n",
            "| Make    | Count |\n",
            "+---------+-------+\n",
            "| Honda   |     7 |\n",
            "| Mazda   |     4 |\n",
            "| Toyota  |     3 |\n",
            "| -total- |    14 |\n",
            "+---------+-------+\n"
          ]
        }
      ]
    },
    {
      "cell_type": "code",
      "metadata": {
        "id": "m3-stF3hXtD8",
        "colab": {
          "base_uri": "https://localhost:8080/"
        },
        "outputId": "ce2c09e5-bf7c-40c2-e675-809e85ad657b"
      },
      "source": [
        "!mysql praxisDB -e \" \\\n",
        "  select Sum(Units) 'Total' \\\n",
        "  from CarSalesFact_S \\\n",
        "\""
      ],
      "execution_count": 16,
      "outputs": [
        {
          "output_type": "stream",
          "name": "stdout",
          "text": [
            "+-------+\n",
            "| Total |\n",
            "+-------+\n",
            "|    14 |\n",
            "+-------+\n"
          ]
        }
      ]
    },
    {
      "cell_type": "code",
      "metadata": {
        "id": "oMAULGqMZts-",
        "colab": {
          "base_uri": "https://localhost:8080/"
        },
        "outputId": "78b23296-e261-4aa2-dec1-cd5b0dca572b"
      },
      "source": [
        "!mysql praxisDB -e \" \\\n",
        "  select IFNULL(Type,'-total-') 'Type', Sum(Units) Count \\\n",
        "  from CarSalesFact_S \\\n",
        "  group by Type  \\\n",
        "  with ROLLUP; \\\n",
        "\""
      ],
      "execution_count": 17,
      "outputs": [
        {
          "output_type": "stream",
          "name": "stdout",
          "text": [
            "+---------+-------+\n",
            "| Type    | Count |\n",
            "+---------+-------+\n",
            "| Compact |     2 |\n",
            "| Sedan   |     4 |\n",
            "| SUV     |     8 |\n",
            "| -total- |    14 |\n",
            "+---------+-------+\n"
          ]
        }
      ]
    },
    {
      "cell_type": "markdown",
      "metadata": {
        "id": "-Kd34K88ulpe"
      },
      "source": [
        "##Level 3  - THREE crosstabs"
      ]
    },
    {
      "cell_type": "code",
      "metadata": {
        "id": "zjHVzwW5M1jb",
        "colab": {
          "base_uri": "https://localhost:8080/"
        },
        "outputId": "ce4732ba-a033-4013-c75d-e34dcf7bd307"
      },
      "source": [
        "!mysql praxisDB -e  \"\\\n",
        "SELECT \\\n",
        "\tMake,\\\n",
        "\tSUM(IF(Type='SUV',Units,0))  'SUV',\\\n",
        "\tSUM(IF(Type='Sedan',Units,0))  'Sedan',\\\n",
        "\tSUM(IF(Type='Compact',Units,0))  'Compact'\\\n",
        "  FROM CarSalesFact_S\\\n",
        "  GROUP BY Make WITH ROLLUP\\\n",
        "\""
      ],
      "execution_count": 18,
      "outputs": [
        {
          "output_type": "stream",
          "name": "stdout",
          "text": [
            "+--------+------+-------+---------+\n",
            "| Make   | SUV  | Sedan | Compact |\n",
            "+--------+------+-------+---------+\n",
            "| Honda  |    6 |     1 |       0 |\n",
            "| Mazda  |    2 |     1 |       1 |\n",
            "| Toyota |    0 |     2 |       1 |\n",
            "| NULL   |    8 |     4 |       2 |\n",
            "+--------+------+-------+---------+\n"
          ]
        }
      ]
    },
    {
      "cell_type": "code",
      "metadata": {
        "id": "P8iGY3uUqS_6",
        "colab": {
          "base_uri": "https://localhost:8080/"
        },
        "outputId": "16364e9d-ac23-4fbc-f865-1c6bf3779bdf"
      },
      "source": [
        "!mysql praxisDB -e  \"\\\n",
        "SELECT \\\n",
        "IFNULL(Make,'Totals') Dims,\\\n",
        "sums.SUV, sums.Sedan, sums.Compact,\\\n",
        "sums.SUV + sums.Sedan + sums.Compact  Totals \\\n",
        "FROM ( \\\n",
        "  SELECT \\\n",
        "\tMake,\\\n",
        "\tSUM(IF(Type='SUV',Units,0))  'SUV',\\\n",
        "\tSUM(IF(Type='Sedan',Units,0))  'Sedan',\\\n",
        "\tSUM(IF(Type='Compact',Units,0))  'Compact'\\\n",
        "  FROM CarSalesFact_S\\\n",
        "  GROUP BY Make WITH ROLLUP\\\n",
        ") AS sums \\\n",
        "\""
      ],
      "execution_count": 19,
      "outputs": [
        {
          "output_type": "stream",
          "name": "stdout",
          "text": [
            "+--------+------+-------+---------+--------+\n",
            "| Dims   | SUV  | Sedan | Compact | Totals |\n",
            "+--------+------+-------+---------+--------+\n",
            "| Honda  |    6 |     1 |       0 |      7 |\n",
            "| Mazda  |    2 |     1 |       1 |      4 |\n",
            "| Toyota |    0 |     2 |       1 |      3 |\n",
            "| Totals |    8 |     4 |       2 |     14 |\n",
            "+--------+------+-------+---------+--------+\n"
          ]
        }
      ]
    },
    {
      "cell_type": "code",
      "metadata": {
        "id": "1B9q-PojuxR0",
        "colab": {
          "base_uri": "https://localhost:8080/"
        },
        "outputId": "5217e909-2356-4d18-dd3f-138aa6b91fe2"
      },
      "source": [
        "!mysql praxisDB -e  \"\\\n",
        "SELECT \\\n",
        "IFNULL(Make,'Totals') Dims,\\\n",
        "sums.Brown, sums.Black, sums.Red,\\\n",
        "sums.Brown + sums.Black + sums.Red  Totals \\\n",
        "FROM ( \\\n",
        "  SELECT \\\n",
        "\tMake,\\\n",
        "\tSUM(IF(Colour='Brown',Units,0))  'Brown',\\\n",
        "\tSUM(IF(Colour='Black',Units,0))  'Black',\\\n",
        "\tSUM(IF(Colour='Red',UNits,0))  'Red'\\\n",
        "  FROM CarSalesFact_S\\\n",
        "  GROUP BY Make WITH ROLLUP\\\n",
        ") AS sums \\\n",
        "\""
      ],
      "execution_count": 20,
      "outputs": [
        {
          "output_type": "stream",
          "name": "stdout",
          "text": [
            "+--------+-------+-------+------+--------+\n",
            "| Dims   | Brown | Black | Red  | Totals |\n",
            "+--------+-------+-------+------+--------+\n",
            "| Honda  |     1 |     4 |    2 |      7 |\n",
            "| Mazda  |     1 |     1 |    2 |      4 |\n",
            "| Toyota |     0 |     2 |    1 |      3 |\n",
            "| Totals |     2 |     7 |    5 |     14 |\n",
            "+--------+-------+-------+------+--------+\n"
          ]
        }
      ]
    },
    {
      "cell_type": "code",
      "metadata": {
        "id": "g9oN2Apb0vNe",
        "colab": {
          "base_uri": "https://localhost:8080/"
        },
        "outputId": "8301509e-c2a7-4268-8d0b-5fd30258d76b"
      },
      "source": [
        "!mysql praxisDB -e  \"\\\n",
        "SELECT \\\n",
        "IFNULL(Type,'Totals') Dims,\\\n",
        "sums.Brown, sums.Black, sums.Red,\\\n",
        "sums.Brown + sums.Black + sums.Red  Totals \\\n",
        "FROM ( \\\n",
        "  SELECT \\\n",
        "\tType,\\\n",
        "\tSUM(IF(Colour='Brown',Units,0))  'Brown',\\\n",
        "\tSUM(IF(Colour='Black',Units,0))  'Black',\\\n",
        "\tSUM(IF(Colour='Red',UNits,0))  'Red'\\\n",
        "  FROM CarSalesFact_S\\\n",
        "  GROUP BY Type WITH ROLLUP\\\n",
        ") AS sums \\\n",
        "\""
      ],
      "execution_count": 21,
      "outputs": [
        {
          "output_type": "stream",
          "name": "stdout",
          "text": [
            "+---------+-------+-------+------+--------+\n",
            "| Dims    | Brown | Black | Red  | Totals |\n",
            "+---------+-------+-------+------+--------+\n",
            "| Compact |     0 |     0 |    2 |      2 |\n",
            "| Sedan   |     2 |     2 |    0 |      4 |\n",
            "| SUV     |     0 |     5 |    3 |      8 |\n",
            "| Totals  |     2 |     7 |    5 |     14 |\n",
            "+---------+-------+-------+------+--------+\n"
          ]
        }
      ]
    },
    {
      "cell_type": "markdown",
      "metadata": {
        "id": "TgiD-LzNjqTy"
      },
      "source": [
        "##Level 3 A - the UNION ALL / CUBE"
      ]
    },
    {
      "cell_type": "code",
      "metadata": {
        "id": "UAw1g-nKkLUx",
        "colab": {
          "base_uri": "https://localhost:8080/"
        },
        "outputId": "c7ec727f-cfb7-460b-83b0-b28bc978c4f5"
      },
      "source": [
        "!mysql praxisDB -e  \"\\\n",
        "SELECT Make, Type, SUM(Units) \\\n",
        "FROM CarSalesFact_S \\\n",
        "GROUP BY Make, Type \\\n",
        "UNION ALL \\\n",
        "SELECT Make, 'ALL', SUM(Units) \\\n",
        "FROM CarSalesFact_S \\\n",
        "GROUP BY Make \\\n",
        "UNION ALL \\\n",
        "SELECT 'ALL', Type, SUM(Units) \\\n",
        "FROM CarSalesFact_S \\\n",
        "GROUP BY Type \\\n",
        "UNION ALL \\\n",
        "SELECT 'ALL', 'ALL', SUM(Units) \\\n",
        "FROM CarSalesFact_S\\\n",
        "\"\n",
        "\n"
      ],
      "execution_count": 22,
      "outputs": [
        {
          "output_type": "stream",
          "name": "stdout",
          "text": [
            "+--------+---------+------------+\n",
            "| Make   | Type    | SUM(Units) |\n",
            "+--------+---------+------------+\n",
            "| Honda  | SUV     |          6 |\n",
            "| Honda  | Sedan   |          1 |\n",
            "| Toyota | Compact |          1 |\n",
            "| Toyota | Sedan   |          2 |\n",
            "| Mazda  | SUV     |          2 |\n",
            "| Mazda  | Compact |          1 |\n",
            "| Mazda  | Sedan   |          1 |\n",
            "| Honda  | ALL     |          7 |\n",
            "| Toyota | ALL     |          3 |\n",
            "| Mazda  | ALL     |          4 |\n",
            "| ALL    | SUV     |          8 |\n",
            "| ALL    | Sedan   |          4 |\n",
            "| ALL    | Compact |          2 |\n",
            "| ALL    | ALL     |         14 |\n",
            "+--------+---------+------------+\n"
          ]
        }
      ]
    },
    {
      "cell_type": "markdown",
      "metadata": {
        "id": "8tsY08hYy0jc"
      },
      "source": [
        "#Insert an additional fact in the Fact table"
      ]
    },
    {
      "cell_type": "code",
      "metadata": {
        "id": "wbvgIJAeg-1U"
      },
      "source": [
        "!mysql praxisDB -e \"\\\n",
        "INSERT INTO CarSalesFact_N (Txn, Dim, DimValue) VALUES \\\n",
        " (1, 'Price', '5000'),\\\n",
        " (2, 'Price', '6000'),\\\n",
        " (3, 'Price', '5000'),\\\n",
        " (4, 'Price', '7000'),\\\n",
        " (5, 'Price', '5000'),\\\n",
        " (6, 'Price', '4000'),\\\n",
        " (7, 'Price', '3000'),\\\n",
        " (8, 'Price', '2000'),\\\n",
        " (9, 'Price', '4000'),\\\n",
        " (10, 'Price', '5000'),\\\n",
        " (11, 'Price', '4000'),\\\n",
        " (12, 'Price', '5000'),\\\n",
        " (13, 'Price', '4000'),\\\n",
        " (14, 'Price', '3000');\\\n",
        " \""
      ],
      "execution_count": 23,
      "outputs": []
    },
    {
      "cell_type": "code",
      "metadata": {
        "id": "8JXJIQbglg1X",
        "colab": {
          "base_uri": "https://localhost:8080/"
        },
        "outputId": "03e8e0a2-2d67-4c86-de6a-30458cd794b2"
      },
      "source": [
        "!mysql praxisDB -e 'select * from CarSalesFact_N'"
      ],
      "execution_count": 24,
      "outputs": [
        {
          "output_type": "stream",
          "name": "stdout",
          "text": [
            "+------+--------+----------+\n",
            "| Txn  | Dim    | DimValue |\n",
            "+------+--------+----------+\n",
            "|    1 | Make   | Honda    |\n",
            "|    1 | Type   | SUV      |\n",
            "|    1 | Colour | Red      |\n",
            "|    2 | Make   | Honda    |\n",
            "|    2 | Type   | SUV      |\n",
            "|    2 | Colour | Black    |\n",
            "|    3 | Make   | Honda    |\n",
            "|    3 | Type   | Sedan    |\n",
            "|    3 | Colour | Brown    |\n",
            "|    4 | Make   | Toyota   |\n",
            "|    4 | Type   | Compact  |\n",
            "|    4 | Colour | Red      |\n",
            "|    5 | Make   | Toyota   |\n",
            "|    5 | Colour | Black    |\n",
            "|    5 | Type   | Sedan    |\n",
            "|    6 | Make   | Toyota   |\n",
            "|    6 | Colour | Black    |\n",
            "|    6 | Type   | Sedan    |\n",
            "|    7 | Make   | Honda    |\n",
            "|    7 | Type   | SUV      |\n",
            "|    7 | Colour | Black    |\n",
            "|    8 | Make   | Honda    |\n",
            "|    8 | Type   | SUV      |\n",
            "|    8 | Colour | Red      |\n",
            "|    9 | Make   | Honda    |\n",
            "|    9 | Type   | SUV      |\n",
            "|    9 | Colour | Black    |\n",
            "|   10 | Make   | Honda    |\n",
            "|   10 | Type   | SUV      |\n",
            "|   10 | Colour | Black    |\n",
            "|   11 | Make   | Mazda    |\n",
            "|   11 | Type   | SUV      |\n",
            "|   11 | Colour | Black    |\n",
            "|   12 | Make   | Mazda    |\n",
            "|   12 | Type   | Compact  |\n",
            "|   12 | Colour | Red      |\n",
            "|   13 | Make   | Mazda    |\n",
            "|   13 | Type   | Sedan    |\n",
            "|   13 | Colour | Brown    |\n",
            "|   14 | Make   | Mazda    |\n",
            "|   14 | Type   | SUV      |\n",
            "|   14 | Colour | Red      |\n",
            "|    1 | Price  | 5000     |\n",
            "|    2 | Price  | 6000     |\n",
            "|    3 | Price  | 5000     |\n",
            "|    4 | Price  | 7000     |\n",
            "|    5 | Price  | 5000     |\n",
            "|    6 | Price  | 4000     |\n",
            "|    7 | Price  | 3000     |\n",
            "|    8 | Price  | 2000     |\n",
            "|    9 | Price  | 4000     |\n",
            "|   10 | Price  | 5000     |\n",
            "|   11 | Price  | 4000     |\n",
            "|   12 | Price  | 5000     |\n",
            "|   13 | Price  | 4000     |\n",
            "|   14 | Price  | 3000     |\n",
            "+------+--------+----------+\n"
          ]
        }
      ]
    },
    {
      "cell_type": "markdown",
      "metadata": {
        "id": "6eMUYZpazkH_"
      },
      "source": [
        "#Create a 'standard' CUBE Fact table\n",
        "What is [GROUP_CONCAT](https://www.google.co.in/search?client=opera&q=group_concat+in+mysql&sourceid=opera&ie=UTF-8&oe=UTF-8)?"
      ]
    },
    {
      "cell_type": "code",
      "metadata": {
        "id": "pEPuIhbqnxA1",
        "colab": {
          "base_uri": "https://localhost:8080/"
        },
        "outputId": "c2706180-cf94-41bc-9fd2-0354fd7e90fc"
      },
      "source": [
        "!mysql praxisDB -e \"\\\n",
        "SELECT \\\n",
        "  Txn,\\\n",
        "  GROUP_CONCAT(if(Dim = 'Make', DimValue, NULL)) AS 'Make',\\\n",
        "  GROUP_CONCAT(if(Dim = 'Type', DimValue, NULL)) AS 'Type',\\\n",
        "  GROUP_CONCAT(if(Dim = 'Colour', DimValue, NULL)) AS 'Colour',\\\n",
        "  GROUP_CONCAT(if(Dim = 'Price', DimValue, NULL)) AS 'Price'\\\n",
        "FROM CarSalesFact_N \\\n",
        "GROUP BY txn\\\n",
        "\""
      ],
      "execution_count": 25,
      "outputs": [
        {
          "output_type": "stream",
          "name": "stdout",
          "text": [
            "+------+--------+---------+--------+-------+\n",
            "| Txn  | Make   | Type    | Colour | Price |\n",
            "+------+--------+---------+--------+-------+\n",
            "|    1 | Honda  | SUV     | Red    | 5000  |\n",
            "|    2 | Honda  | SUV     | Black  | 6000  |\n",
            "|    3 | Honda  | Sedan   | Brown  | 5000  |\n",
            "|    4 | Toyota | Compact | Red    | 7000  |\n",
            "|    5 | Toyota | Sedan   | Black  | 5000  |\n",
            "|    6 | Toyota | Sedan   | Black  | 4000  |\n",
            "|    7 | Honda  | SUV     | Black  | 3000  |\n",
            "|    8 | Honda  | SUV     | Red    | 2000  |\n",
            "|    9 | Honda  | SUV     | Black  | 4000  |\n",
            "|   10 | Honda  | SUV     | Black  | 5000  |\n",
            "|   11 | Mazda  | SUV     | Black  | 4000  |\n",
            "|   12 | Mazda  | Compact | Red    | 5000  |\n",
            "|   13 | Mazda  | Sedan   | Brown  | 4000  |\n",
            "|   14 | Mazda  | SUV     | Red    | 3000  |\n",
            "+------+--------+---------+--------+-------+\n"
          ]
        }
      ]
    },
    {
      "cell_type": "code",
      "metadata": {
        "id": "gmQBa-tussgT",
        "colab": {
          "base_uri": "https://localhost:8080/"
        },
        "outputId": "0fd05467-b2b9-4b16-ee99-e63cc4b2e70e"
      },
      "source": [
        "!mysql praxisDB -e \"\\\n",
        "SELECT \\\n",
        "  CSF2.Make, CSF2.Type, CSF2.Colour,CSF2.Price \\\n",
        "FROM \\\n",
        "(SELECT \\\n",
        "  Txn,\\\n",
        "  GROUP_CONCAT(if(Dim = 'Make', DimValue, NULL)) AS 'Make',\\\n",
        "  GROUP_CONCAT(if(Dim = 'Type', DimValue, NULL)) AS 'Type',\\\n",
        "  GROUP_CONCAT(if(Dim = 'Colour', DimValue, NULL)) AS 'Colour',\\\n",
        "  GROUP_CONCAT(if(Dim = 'Price', DimValue, NULL)) AS 'Price'\\\n",
        "FROM CarSalesFact_N \\\n",
        "GROUP BY txn \\\n",
        " ) as CSF2\\\n",
        "\"\n"
      ],
      "execution_count": 26,
      "outputs": [
        {
          "output_type": "stream",
          "name": "stdout",
          "text": [
            "+--------+---------+--------+-------+\n",
            "| Make   | Type    | Colour | Price |\n",
            "+--------+---------+--------+-------+\n",
            "| Honda  | SUV     | Red    | 5000  |\n",
            "| Honda  | SUV     | Black  | 6000  |\n",
            "| Honda  | Sedan   | Brown  | 5000  |\n",
            "| Toyota | Compact | Red    | 7000  |\n",
            "| Toyota | Sedan   | Black  | 5000  |\n",
            "| Toyota | Sedan   | Black  | 4000  |\n",
            "| Honda  | SUV     | Black  | 3000  |\n",
            "| Honda  | SUV     | Red    | 2000  |\n",
            "| Honda  | SUV     | Black  | 4000  |\n",
            "| Honda  | SUV     | Black  | 5000  |\n",
            "| Mazda  | SUV     | Black  | 4000  |\n",
            "| Mazda  | Compact | Red    | 5000  |\n",
            "| Mazda  | Sedan   | Brown  | 4000  |\n",
            "| Mazda  | SUV     | Red    | 3000  |\n",
            "+--------+---------+--------+-------+\n"
          ]
        }
      ]
    },
    {
      "cell_type": "code",
      "metadata": {
        "id": "P1b9r3tvvWvk",
        "colab": {
          "base_uri": "https://localhost:8080/"
        },
        "outputId": "7c0c94f8-cf0a-4a2d-eec4-e39a895badcd"
      },
      "source": [
        "!mysql praxisDB -e \"\\\n",
        "SELECT \\\n",
        "  CSF2.Make, CSF2.Type, CSF2.Colour, sum(CSF2.Price) Value, count(txn) Units \\\n",
        "FROM \\\n",
        "(SELECT \\\n",
        "  Txn,\\\n",
        "  GROUP_CONCAT(if(Dim = 'Make', DimValue, NULL)) AS 'Make',\\\n",
        "  GROUP_CONCAT(if(Dim = 'Type', DimValue, NULL)) AS 'Type',\\\n",
        "  GROUP_CONCAT(if(Dim = 'Colour', DimValue, NULL)) AS 'Colour',\\\n",
        "  GROUP_CONCAT(if(Dim = 'Price', DimValue, NULL)) AS 'Price' \\\n",
        "FROM CarSalesFact_N \\\n",
        "GROUP BY txn \\\n",
        " ) as CSF2 \\\n",
        "group by CSF2.Make, CSF2.Type, CSF2.Colour\\\n",
        "\"\n"
      ],
      "execution_count": 27,
      "outputs": [
        {
          "output_type": "stream",
          "name": "stdout",
          "text": [
            "+--------+---------+--------+-------+-------+\n",
            "| Make   | Type    | Colour | Value | Units |\n",
            "+--------+---------+--------+-------+-------+\n",
            "| Honda  | SUV     | Red    |  7000 |     2 |\n",
            "| Honda  | SUV     | Black  | 18000 |     4 |\n",
            "| Honda  | Sedan   | Brown  |  5000 |     1 |\n",
            "| Toyota | Compact | Red    |  7000 |     1 |\n",
            "| Toyota | Sedan   | Black  |  9000 |     2 |\n",
            "| Mazda  | SUV     | Black  |  4000 |     1 |\n",
            "| Mazda  | Compact | Red    |  5000 |     1 |\n",
            "| Mazda  | Sedan   | Brown  |  4000 |     1 |\n",
            "| Mazda  | SUV     | Red    |  3000 |     1 |\n",
            "+--------+---------+--------+-------+-------+\n"
          ]
        }
      ]
    },
    {
      "cell_type": "code",
      "metadata": {
        "id": "g2uXFuN39O0E",
        "colab": {
          "base_uri": "https://localhost:8080/"
        },
        "outputId": "b082c7b6-d771-4acd-d1cc-14a6ed4df654"
      },
      "source": [
        "!mysql praxisDB -e \"drop table if exists CarSalesFact_S2\"\n",
        "!mysql praxisDB -e \" \\\n",
        "create table CarSalesFact_S2 as ( \\\n",
        "            SELECT \\\n",
        "        CSF2.Make, CSF2.Type, CSF2.Colour, sum(CSF2.Price) Value, count(txn) Units \\\n",
        "        FROM \\\n",
        "        (SELECT \\\n",
        "        Txn,\\\n",
        "        GROUP_CONCAT(if(Dim = 'Make', DimValue, NULL)) AS 'Make',\\\n",
        "        GROUP_CONCAT(if(Dim = 'Type', DimValue, NULL)) AS 'Type',\\\n",
        "        GROUP_CONCAT(if(Dim = 'Colour', DimValue, NULL)) AS 'Colour',\\\n",
        "        GROUP_CONCAT(if(Dim = 'Price', DimValue, NULL)) AS 'Price' \\\n",
        "        FROM CarSalesFact_N \\\n",
        "        GROUP BY txn \\\n",
        "        ) as CSF2 \\\n",
        "        group by CSF2.Make, CSF2.Type, CSF2.Colour\\\n",
        ") \\\n",
        "\"\n",
        "!mysql praxisDB -e \"select * from CarSalesFact_S2\""
      ],
      "execution_count": 28,
      "outputs": [
        {
          "output_type": "stream",
          "name": "stdout",
          "text": [
            "+--------+---------+--------+-------+-------+\n",
            "| Make   | Type    | Colour | Value | Units |\n",
            "+--------+---------+--------+-------+-------+\n",
            "| Honda  | SUV     | Red    |  7000 |     2 |\n",
            "| Honda  | SUV     | Black  | 18000 |     4 |\n",
            "| Honda  | Sedan   | Brown  |  5000 |     1 |\n",
            "| Toyota | Compact | Red    |  7000 |     1 |\n",
            "| Toyota | Sedan   | Black  |  9000 |     2 |\n",
            "| Mazda  | SUV     | Black  |  4000 |     1 |\n",
            "| Mazda  | Compact | Red    |  5000 |     1 |\n",
            "| Mazda  | Sedan   | Brown  |  4000 |     1 |\n",
            "| Mazda  | SUV     | Red    |  3000 |     1 |\n",
            "+--------+---------+--------+-------+-------+\n"
          ]
        }
      ]
    },
    {
      "cell_type": "markdown",
      "metadata": {
        "id": "0YHBtY_y_mGU"
      },
      "source": [
        "#Cross Tab"
      ]
    },
    {
      "cell_type": "code",
      "metadata": {
        "id": "f-7uGBpQCqcl",
        "colab": {
          "base_uri": "https://localhost:8080/"
        },
        "outputId": "a7781083-dd20-4559-e47e-151c442985c8"
      },
      "source": [
        "!mysql praxisDB -e \"select * from CarSalesFact_S2\""
      ],
      "execution_count": 29,
      "outputs": [
        {
          "output_type": "stream",
          "name": "stdout",
          "text": [
            "+--------+---------+--------+-------+-------+\n",
            "| Make   | Type    | Colour | Value | Units |\n",
            "+--------+---------+--------+-------+-------+\n",
            "| Honda  | SUV     | Red    |  7000 |     2 |\n",
            "| Honda  | SUV     | Black  | 18000 |     4 |\n",
            "| Honda  | Sedan   | Brown  |  5000 |     1 |\n",
            "| Toyota | Compact | Red    |  7000 |     1 |\n",
            "| Toyota | Sedan   | Black  |  9000 |     2 |\n",
            "| Mazda  | SUV     | Black  |  4000 |     1 |\n",
            "| Mazda  | Compact | Red    |  5000 |     1 |\n",
            "| Mazda  | Sedan   | Brown  |  4000 |     1 |\n",
            "| Mazda  | SUV     | Red    |  3000 |     1 |\n",
            "+--------+---------+--------+-------+-------+\n"
          ]
        }
      ]
    },
    {
      "cell_type": "markdown",
      "metadata": {
        "id": "G70QOJIz_7_G"
      },
      "source": [
        "##Level 1 - Partial Cross Tab"
      ]
    },
    {
      "cell_type": "code",
      "metadata": {
        "id": "O1fKMSHjAAji",
        "colab": {
          "base_uri": "https://localhost:8080/"
        },
        "outputId": "783b75a7-ae49-4d7a-e1ae-86aba0af09b9"
      },
      "source": [
        "!mysql praxisDB -e \"\\\n",
        "select Make, Type, sum(Units) Count, sum(Value) Total \\\n",
        "from \\\n",
        "CarSalesFact_S2 \\\n",
        "group by Make, Type\\\n",
        "\""
      ],
      "execution_count": 30,
      "outputs": [
        {
          "output_type": "stream",
          "name": "stdout",
          "text": [
            "+--------+---------+-------+-------+\n",
            "| Make   | Type    | Count | Total |\n",
            "+--------+---------+-------+-------+\n",
            "| Honda  | SUV     |     6 | 25000 |\n",
            "| Honda  | Sedan   |     1 |  5000 |\n",
            "| Toyota | Compact |     1 |  7000 |\n",
            "| Toyota | Sedan   |     2 |  9000 |\n",
            "| Mazda  | SUV     |     2 |  7000 |\n",
            "| Mazda  | Compact |     1 |  5000 |\n",
            "| Mazda  | Sedan   |     1 |  4000 |\n",
            "+--------+---------+-------+-------+\n"
          ]
        }
      ]
    },
    {
      "cell_type": "markdown",
      "metadata": {
        "id": "ca41FGfzDF9i"
      },
      "source": [
        "##Level 2 Roll UP"
      ]
    },
    {
      "cell_type": "code",
      "metadata": {
        "id": "j0TBsglPDIrm",
        "colab": {
          "base_uri": "https://localhost:8080/"
        },
        "outputId": "41078bc1-3842-401b-dd70-e61fbfa0cae7"
      },
      "source": [
        "!mysql praxisDB -e \"\\\n",
        "select Make, Type, sum(Units) Count, sum(Value) Total \\\n",
        "from \\\n",
        "CarSalesFact_S2 \\\n",
        "group by Make, Type with ROllUP\\\n",
        "\""
      ],
      "execution_count": 31,
      "outputs": [
        {
          "output_type": "stream",
          "name": "stdout",
          "text": [
            "+--------+---------+-------+-------+\n",
            "| Make   | Type    | Count | Total |\n",
            "+--------+---------+-------+-------+\n",
            "| Honda  | Sedan   |     1 |  5000 |\n",
            "| Honda  | SUV     |     6 | 25000 |\n",
            "| Honda  | NULL    |     7 | 30000 |\n",
            "| Mazda  | Compact |     1 |  5000 |\n",
            "| Mazda  | Sedan   |     1 |  4000 |\n",
            "| Mazda  | SUV     |     2 |  7000 |\n",
            "| Mazda  | NULL    |     4 | 16000 |\n",
            "| Toyota | Compact |     1 |  7000 |\n",
            "| Toyota | Sedan   |     2 |  9000 |\n",
            "| Toyota | NULL    |     3 | 16000 |\n",
            "| NULL   | NULL    |    14 | 62000 |\n",
            "+--------+---------+-------+-------+\n"
          ]
        }
      ]
    },
    {
      "cell_type": "markdown",
      "metadata": {
        "id": "auuC00eFDzUu"
      },
      "source": [
        "##Level 3 Full Cross Tab"
      ]
    },
    {
      "cell_type": "code",
      "metadata": {
        "id": "pylU4ZEoD3kg",
        "colab": {
          "base_uri": "https://localhost:8080/"
        },
        "outputId": "97071298-ce82-422d-e7d7-a11966ab2ed4"
      },
      "source": [
        "!mysql praxisDB -e  \"\\\n",
        "SELECT \\\n",
        "IFNULL(Make,'Totals') Dims,\\\n",
        "sums.SUV, sums.Sedan, sums.Compact,\\\n",
        "sums.SUV + sums.Sedan + sums.Compact  Totals \\\n",
        "FROM ( \\\n",
        "  SELECT \\\n",
        "\tMake,\\\n",
        "\tSUM(IF(Type='SUV',Units,0))  'SUV',\\\n",
        "\tSUM(IF(Type='Sedan',Units,0))  'Sedan',\\\n",
        "\tSUM(IF(Type='Compact',Units,0))  'Compact'\\\n",
        "  FROM CarSalesFact_S2\\\n",
        "  GROUP BY Make WITH ROLLUP\\\n",
        ") AS sums \\\n",
        "\""
      ],
      "execution_count": 32,
      "outputs": [
        {
          "output_type": "stream",
          "name": "stdout",
          "text": [
            "+--------+------+-------+---------+--------+\n",
            "| Dims   | SUV  | Sedan | Compact | Totals |\n",
            "+--------+------+-------+---------+--------+\n",
            "| Honda  |    6 |     1 |       0 |      7 |\n",
            "| Mazda  |    2 |     1 |       1 |      4 |\n",
            "| Toyota |    0 |     2 |       1 |      3 |\n",
            "| Totals |    8 |     4 |       2 |     14 |\n",
            "+--------+------+-------+---------+--------+\n"
          ]
        }
      ]
    },
    {
      "cell_type": "code",
      "metadata": {
        "id": "LIXYDeFMD9Iy",
        "colab": {
          "base_uri": "https://localhost:8080/"
        },
        "outputId": "4711a1c9-1e86-4d00-f4c8-4c9cabd46ee1"
      },
      "source": [
        "!mysql praxisDB -e  \"\\\n",
        "SELECT \\\n",
        "IFNULL(Make,'Totals') Dims,\\\n",
        "sums.SUV, sums.Sedan, sums.Compact,\\\n",
        "sums.SUV + sums.Sedan + sums.Compact  Totals \\\n",
        "FROM ( \\\n",
        "  SELECT \\\n",
        "\tMake,\\\n",
        "\tSUM(IF(Type='SUV',Value,0))  'SUV',\\\n",
        "\tSUM(IF(Type='Sedan',Value,0))  'Sedan',\\\n",
        "\tSUM(IF(Type='Compact',Value,0))  'Compact'\\\n",
        "  FROM CarSalesFact_S2\\\n",
        "  GROUP BY Make WITH ROLLUP\\\n",
        ") AS sums \\\n",
        "\""
      ],
      "execution_count": 33,
      "outputs": [
        {
          "output_type": "stream",
          "name": "stdout",
          "text": [
            "+--------+-------+-------+---------+--------+\n",
            "| Dims   | SUV   | Sedan | Compact | Totals |\n",
            "+--------+-------+-------+---------+--------+\n",
            "| Honda  | 25000 |  5000 |       0 |  30000 |\n",
            "| Mazda  |  7000 |  4000 |    5000 |  16000 |\n",
            "| Toyota |     0 |  9000 |    7000 |  16000 |\n",
            "| Totals | 32000 | 18000 |   12000 |  62000 |\n",
            "+--------+-------+-------+---------+--------+\n"
          ]
        }
      ]
    },
    {
      "cell_type": "markdown",
      "metadata": {
        "id": "kZF7CY36zyuB"
      },
      "source": [
        "#Cross Tab - Without Intermediate Cube Table"
      ]
    },
    {
      "cell_type": "markdown",
      "metadata": {
        "id": "VMfF86Pf3kaQ"
      },
      "source": [
        "##Simple Cross Tab"
      ]
    },
    {
      "cell_type": "code",
      "source": [
        "!mysql praxisDB --table -e \"\\\n",
        "select Make, Type, Sum(Units) Count \\\n",
        "from \\\n",
        "(SELECT \t \\\n",
        "  CSF2.Make, CSF2.Type, CSF2.Colour, sum(CSF2.Price) Value, count(txn) Units \\\n",
        "FROM \\\n",
        "(SELECT \\\n",
        "  Txn, \\\n",
        "  GROUP_CONCAT(if(Dim = 'Make', DimValue, NULL)) AS 'Make', \\\n",
        "  GROUP_CONCAT(if(Dim = 'Type', DimValue, NULL)) AS 'Type', \\\n",
        "  GROUP_CONCAT(if(Dim = 'Colour', DimValue, NULL)) AS 'Colour', \\\n",
        "  GROUP_CONCAT(if(Dim = 'Price', DimValue, NULL)) AS 'Price' \\\n",
        "FROM CarSalesFact_N \\\n",
        "GROUP BY txn \\\n",
        " ) as CSF2 \\\n",
        "group by CSF2.Make, CSF2.Type, CSF2.Colour \\\n",
        ") as CSF3 \\\n",
        "group by Make, Type \\\n",
        "\""
      ],
      "metadata": {
        "id": "xgxt2LA1aJBi",
        "outputId": "b341c7e3-d303-496a-e717-5ca89d09781f",
        "colab": {
          "base_uri": "https://localhost:8080/"
        }
      },
      "execution_count": 34,
      "outputs": [
        {
          "output_type": "stream",
          "name": "stdout",
          "text": [
            "+--------+---------+-------+\n",
            "| Make   | Type    | Count |\n",
            "+--------+---------+-------+\n",
            "| Honda  | SUV     |     6 |\n",
            "| Honda  | Sedan   |     1 |\n",
            "| Toyota | Compact |     1 |\n",
            "| Toyota | Sedan   |     2 |\n",
            "| Mazda  | SUV     |     2 |\n",
            "| Mazda  | Compact |     1 |\n",
            "| Mazda  | Sedan   |     1 |\n",
            "+--------+---------+-------+\n"
          ]
        }
      ]
    },
    {
      "cell_type": "markdown",
      "metadata": {
        "id": "clFiGj-X3p6b"
      },
      "source": [
        "##Better Cross Tab"
      ]
    },
    {
      "cell_type": "code",
      "metadata": {
        "id": "csDoVqx31NCk",
        "colab": {
          "base_uri": "https://localhost:8080/"
        },
        "outputId": "e2f8c96a-3222-4e32-9634-998087b435dc"
      },
      "source": [
        "%%writefile query.sql\n",
        "-- ------------------------------------------------------------\n",
        "select Make, Type, Sum(Units) Count\n",
        "from\n",
        "(SELECT\n",
        "  CSF2.Make, CSF2.Type, CSF2.Colour, sum(CSF2.Price) Value, count(txn) Units\n",
        "FROM\n",
        "(SELECT\n",
        "  Txn,\n",
        "  GROUP_CONCAT(if(Dim = 'Make', DimValue, NULL)) AS 'Make',\n",
        "  GROUP_CONCAT(if(Dim = 'Type', DimValue, NULL)) AS 'Type',\n",
        "  GROUP_CONCAT(if(Dim = 'Colour', DimValue, NULL)) AS 'Colour',\n",
        "  GROUP_CONCAT(if(Dim = 'Price', DimValue, NULL)) AS 'Price'\n",
        "FROM CarSalesFact_N\n",
        "GROUP BY txn\n",
        " ) as CSF2\n",
        "group by CSF2.Make, CSF2.Type, CSF2.Colour\n",
        ") as CSF3\n",
        "group by Make, Type\n",
        "with ROLLUP"
      ],
      "execution_count": 35,
      "outputs": [
        {
          "output_type": "stream",
          "name": "stdout",
          "text": [
            "Writing query.sql\n"
          ]
        }
      ]
    },
    {
      "cell_type": "code",
      "metadata": {
        "id": "DiN81Pap1WMs",
        "colab": {
          "base_uri": "https://localhost:8080/"
        },
        "outputId": "de5a12c4-6f4e-4e9d-f2fe-f3da1e26f099"
      },
      "source": [
        "!mysql praxisDB --table < query.sql"
      ],
      "execution_count": 36,
      "outputs": [
        {
          "output_type": "stream",
          "name": "stdout",
          "text": [
            "+--------+---------+-------+\n",
            "| Make   | Type    | Count |\n",
            "+--------+---------+-------+\n",
            "| Honda  | Sedan   |     1 |\n",
            "| Honda  | SUV     |     6 |\n",
            "| Honda  | NULL    |     7 |\n",
            "| Mazda  | Compact |     1 |\n",
            "| Mazda  | Sedan   |     1 |\n",
            "| Mazda  | SUV     |     2 |\n",
            "| Mazda  | NULL    |     4 |\n",
            "| Toyota | Compact |     1 |\n",
            "| Toyota | Sedan   |     2 |\n",
            "| Toyota | NULL    |     3 |\n",
            "| NULL   | NULL    |    14 |\n",
            "+--------+---------+-------+\n"
          ]
        }
      ]
    },
    {
      "cell_type": "markdown",
      "metadata": {
        "id": "G7s5vD_N3wV5"
      },
      "source": [
        "##Full Cross Tab"
      ]
    },
    {
      "cell_type": "code",
      "metadata": {
        "id": "j1soSLhx2E2Y",
        "colab": {
          "base_uri": "https://localhost:8080/"
        },
        "outputId": "906e226a-6051-4651-e6c6-bdaee7e9c7f4"
      },
      "source": [
        "%%writefile query.sql\n",
        "-- ------------------------------------------------------------\n",
        "SELECT\n",
        "  IFNULL(Make,'Col Total Units') AS Dims,\n",
        "  CSF4.SUV, CSF4.Sedan, CSF4.Compact,\n",
        "  CSF4.SUV + CSF4.Sedan + CSF4.Compact AS 'Row Total Units'\n",
        "FROM (\n",
        "  SELECT\n",
        "\tMake,\n",
        "\tSUM(IF(Type='SUV',Units,0)) As 'SUV',\n",
        "\tSUM(IF(Type='Sedan',Units,0)) As 'Sedan',\n",
        "\tSUM(IF(Type='Compact',Units,0)) As 'Compact'\n",
        "  FROM\n",
        "\n",
        "    (SELECT\n",
        "      CSF2.Make, CSF2.Type, CSF2.Colour, sum(CSF2.Price) Value, count(txn) Units\n",
        "    FROM\n",
        "        (SELECT\n",
        "          Txn,\n",
        "          GROUP_CONCAT(if(Dim = 'Make', DimValue, NULL)) AS 'Make',\n",
        "          GROUP_CONCAT(if(Dim = 'Type', DimValue, NULL)) AS 'Type',\n",
        "          GROUP_CONCAT(if(Dim = 'Colour', DimValue, NULL)) AS 'Colour',\n",
        "          GROUP_CONCAT(if(Dim = 'Price', DimValue, NULL)) AS 'Price'\n",
        "        FROM CarSalesFact_N\n",
        "        GROUP BY txn\n",
        "         ) as CSF2\n",
        "    group by CSF2.Make, CSF2.Type, CSF2.Colour\n",
        "    ) as CSF3\n",
        "\n",
        "GROUP BY Make WITH ROLLUP\n",
        ") AS CSF4\n",
        "\n"
      ],
      "execution_count": 37,
      "outputs": [
        {
          "output_type": "stream",
          "name": "stdout",
          "text": [
            "Overwriting query.sql\n"
          ]
        }
      ]
    },
    {
      "cell_type": "code",
      "metadata": {
        "id": "OUXZflfh21Nr",
        "colab": {
          "base_uri": "https://localhost:8080/"
        },
        "outputId": "9cd93422-96d1-4562-ad03-6bf23a64f5d4"
      },
      "source": [
        "!mysql praxisDB --table < query.sql"
      ],
      "execution_count": 38,
      "outputs": [
        {
          "output_type": "stream",
          "name": "stdout",
          "text": [
            "+-----------------+------+-------+---------+-----------------+\n",
            "| Dims            | SUV  | Sedan | Compact | Row Total Units |\n",
            "+-----------------+------+-------+---------+-----------------+\n",
            "| Honda           |    6 |     1 |       0 |               7 |\n",
            "| Mazda           |    2 |     1 |       1 |               4 |\n",
            "| Toyota          |    0 |     2 |       1 |               3 |\n",
            "| Col Total Units |    8 |     4 |       2 |              14 |\n",
            "+-----------------+------+-------+---------+-----------------+\n"
          ]
        }
      ]
    },
    {
      "cell_type": "code",
      "metadata": {
        "id": "K6JU6HV64utV",
        "colab": {
          "base_uri": "https://localhost:8080/"
        },
        "outputId": "c7b0edc6-57be-4852-e00f-f7751e851d4b"
      },
      "source": [
        "%%writefile query.sql\n",
        "-- ------------------------------------------------------------\n",
        "SELECT\n",
        "  IFNULL(Make,'Col Total Value') AS Dims,\n",
        "  CSF4.SUV, CSF4.Sedan, CSF4.Compact,\n",
        "  CSF4.SUV + CSF4.Sedan + CSF4.Compact AS 'Row Total Value'\n",
        "FROM (\n",
        "  SELECT\n",
        "\tMake,\n",
        "\tSUM(IF(Type='SUV',Value,0)) As 'SUV',\n",
        "\tSUM(IF(Type='Sedan',Value,0)) As 'Sedan',\n",
        "\tSUM(IF(Type='Compact',Value,0)) As 'Compact'\n",
        "  FROM\n",
        "\n",
        "    (SELECT\n",
        "      CSF2.Make, CSF2.Type, CSF2.Colour, sum(CSF2.Price) Value, count(txn) Units\n",
        "    FROM\n",
        "        (SELECT\n",
        "          Txn,\n",
        "          GROUP_CONCAT(if(Dim = 'Make', DimValue, NULL)) AS 'Make',\n",
        "          GROUP_CONCAT(if(Dim = 'Type', DimValue, NULL)) AS 'Type',\n",
        "          GROUP_CONCAT(if(Dim = 'Colour', DimValue, NULL)) AS 'Colour',\n",
        "          GROUP_CONCAT(if(Dim = 'Price', DimValue, NULL)) AS 'Price'\n",
        "        FROM CarSalesFact_N\n",
        "        GROUP BY txn\n",
        "         ) as CSF2\n",
        "    group by CSF2.Make, CSF2.Type, CSF2.Colour\n",
        "    ) as CSF3\n",
        "\n",
        "GROUP BY Make WITH ROLLUP\n",
        ") AS CSF4\n"
      ],
      "execution_count": 39,
      "outputs": [
        {
          "output_type": "stream",
          "name": "stdout",
          "text": [
            "Overwriting query.sql\n"
          ]
        }
      ]
    },
    {
      "cell_type": "code",
      "metadata": {
        "id": "fBlpKgLc47gF",
        "colab": {
          "base_uri": "https://localhost:8080/"
        },
        "outputId": "e9d374d6-6c31-41ea-9c1a-0e423cbbf2db"
      },
      "source": [
        "!mysql praxisDB --table < query.sql"
      ],
      "execution_count": 40,
      "outputs": [
        {
          "output_type": "stream",
          "name": "stdout",
          "text": [
            "+-----------------+-------+-------+---------+-----------------+\n",
            "| Dims            | SUV   | Sedan | Compact | Row Total Value |\n",
            "+-----------------+-------+-------+---------+-----------------+\n",
            "| Honda           | 25000 |  5000 |       0 |           30000 |\n",
            "| Mazda           |  7000 |  4000 |    5000 |           16000 |\n",
            "| Toyota          |     0 |  9000 |    7000 |           16000 |\n",
            "| Col Total Value | 32000 | 18000 |   12000 |           62000 |\n",
            "+-----------------+-------+-------+---------+-----------------+\n"
          ]
        }
      ]
    },
    {
      "cell_type": "markdown",
      "metadata": {
        "id": "pPTQuLMEDt--"
      },
      "source": [
        "#Rotate the Cross Tab"
      ]
    },
    {
      "cell_type": "code",
      "metadata": {
        "id": "zE0ccvOfDy5L",
        "colab": {
          "base_uri": "https://localhost:8080/"
        },
        "outputId": "647d42c3-63b5-480f-9d95-5cf200772abd"
      },
      "source": [
        "%%writefile query.sql\n",
        "-- ------------------------------------------------------------\n",
        "SELECT\n",
        "  IFNULL(Colour,'Col Total Value') AS Dims,\n",
        "  CSF4.SUV, CSF4.Sedan, CSF4.Compact,\n",
        "  CSF4.SUV + CSF4.Sedan + CSF4.Compact AS 'Row Total Value'\n",
        "FROM (\n",
        "  SELECT\n",
        "\tColour,\n",
        "\tSUM(IF(Type='SUV',Value,0)) As 'SUV',\n",
        "\tSUM(IF(Type='Sedan',Value,0)) As 'Sedan',\n",
        "\tSUM(IF(Type='Compact',Value,0)) As 'Compact'\n",
        "  FROM\n",
        "\n",
        "    (SELECT\n",
        "      CSF2.Make, CSF2.Type, CSF2.Colour, sum(CSF2.Price) Value, count(txn) Units\n",
        "    FROM\n",
        "        (SELECT\n",
        "          Txn,\n",
        "          GROUP_CONCAT(if(Dim = 'Make', DimValue, NULL)) AS 'Make',\n",
        "          GROUP_CONCAT(if(Dim = 'Type', DimValue, NULL)) AS 'Type',\n",
        "          GROUP_CONCAT(if(Dim = 'Colour', DimValue, NULL)) AS 'Colour',\n",
        "          GROUP_CONCAT(if(Dim = 'Price', DimValue, NULL)) AS 'Price'\n",
        "        FROM CarSalesFact_N\n",
        "        GROUP BY txn\n",
        "         ) as CSF2\n",
        "    group by CSF2.Make, CSF2.Type, CSF2.Colour\n",
        "    ) as CSF3\n",
        "\n",
        "GROUP BY Colour WITH ROLLUP\n",
        ") AS CSF4\n"
      ],
      "execution_count": 41,
      "outputs": [
        {
          "output_type": "stream",
          "name": "stdout",
          "text": [
            "Overwriting query.sql\n"
          ]
        }
      ]
    },
    {
      "cell_type": "code",
      "metadata": {
        "id": "ww26lAoRECxl",
        "colab": {
          "base_uri": "https://localhost:8080/"
        },
        "outputId": "5073c857-7bf8-4956-eb3f-c9ac6bf5b41c"
      },
      "source": [
        "!mysql praxisDB --table < query.sql"
      ],
      "execution_count": 42,
      "outputs": [
        {
          "output_type": "stream",
          "name": "stdout",
          "text": [
            "+-----------------+-------+-------+---------+-----------------+\n",
            "| Dims            | SUV   | Sedan | Compact | Row Total Value |\n",
            "+-----------------+-------+-------+---------+-----------------+\n",
            "| Black           | 22000 |  9000 |       0 |           31000 |\n",
            "| Brown           |     0 |  9000 |       0 |            9000 |\n",
            "| Red             | 10000 |     0 |   12000 |           22000 |\n",
            "| Col Total Value | 32000 | 18000 |   12000 |           62000 |\n",
            "+-----------------+-------+-------+---------+-----------------+\n"
          ]
        }
      ]
    },
    {
      "cell_type": "code",
      "metadata": {
        "id": "q8oN04saFysj",
        "colab": {
          "base_uri": "https://localhost:8080/"
        },
        "outputId": "80c424e0-abc8-41a1-b84c-3447756be339"
      },
      "source": [
        "%%writefile query.sql\n",
        "-- ------------------------------------------------------------\n",
        "SELECT\n",
        "  IFNULL(Type,'Col Total Value') AS Dims,\n",
        "  CSF4.Black, CSF4.Brown, CSF4.Red,\n",
        "  CSF4.Black + CSF4.Brown + CSF4.Red AS 'Row Total Value'\n",
        "FROM (\n",
        "  SELECT\n",
        "\tType,\n",
        "\tSUM(IF(Colour='Black',Value,0)) As 'Black',\n",
        "\tSUM(IF(Colour='Brown',Value,0)) As 'Brown',\n",
        "\tSUM(IF(Colour='Red',Value,0)) As 'Red'\n",
        "  FROM\n",
        "\n",
        "    (SELECT\n",
        "      CSF2.Make, CSF2.Type, CSF2.Colour, sum(CSF2.Price) Value, count(txn) Units\n",
        "    FROM\n",
        "        (SELECT\n",
        "          Txn,\n",
        "          GROUP_CONCAT(if(Dim = 'Make', DimValue, NULL)) AS 'Make',\n",
        "          GROUP_CONCAT(if(Dim = 'Type', DimValue, NULL)) AS 'Type',\n",
        "          GROUP_CONCAT(if(Dim = 'Colour', DimValue, NULL)) AS 'Colour',\n",
        "          GROUP_CONCAT(if(Dim = 'Price', DimValue, NULL)) AS 'Price'\n",
        "        FROM CarSalesFact_N\n",
        "        GROUP BY txn\n",
        "         ) as CSF2\n",
        "    group by CSF2.Make, CSF2.Type, CSF2.Colour\n",
        "    ) as CSF3\n",
        "\n",
        "GROUP BY Type WITH ROLLUP\n",
        ") AS CSF4\n"
      ],
      "execution_count": 43,
      "outputs": [
        {
          "output_type": "stream",
          "name": "stdout",
          "text": [
            "Overwriting query.sql\n"
          ]
        }
      ]
    },
    {
      "cell_type": "code",
      "metadata": {
        "id": "Vll1ytzbGIoV",
        "colab": {
          "base_uri": "https://localhost:8080/"
        },
        "outputId": "850ec190-8adc-45ff-e62b-0310d8481647"
      },
      "source": [
        "!mysql praxisDB --table < query.sql"
      ],
      "execution_count": 44,
      "outputs": [
        {
          "output_type": "stream",
          "name": "stdout",
          "text": [
            "+-----------------+-------+-------+-------+-----------------+\n",
            "| Dims            | Black | Brown | Red   | Row Total Value |\n",
            "+-----------------+-------+-------+-------+-----------------+\n",
            "| Compact         |     0 |     0 | 12000 |           12000 |\n",
            "| Sedan           |  9000 |  9000 |     0 |           18000 |\n",
            "| SUV             | 22000 |     0 | 10000 |           32000 |\n",
            "| Col Total Value | 31000 |  9000 | 22000 |           62000 |\n",
            "+-----------------+-------+-------+-------+-----------------+\n"
          ]
        }
      ]
    },
    {
      "cell_type": "code",
      "source": [
        "!date"
      ],
      "metadata": {
        "id": "wQmN7AwubWPe",
        "outputId": "b0a72f51-30d3-4c68-ac3c-fdaa308d88a7",
        "colab": {
          "base_uri": "https://localhost:8080/"
        }
      },
      "execution_count": 45,
      "outputs": [
        {
          "output_type": "stream",
          "name": "stdout",
          "text": [
            "Mon Sep  4 05:01:09 AM UTC 2023\n"
          ]
        }
      ]
    },
    {
      "cell_type": "markdown",
      "metadata": {
        "id": "w-zHaw5_A0Oe"
      },
      "source": [
        "#Chronobooks <br>\n",
        "![alt text](https://1.bp.blogspot.com/-lTiYBkU2qbU/X1er__fvnkI/AAAAAAAAjtE/GhDR3OEGJr4NG43fZPodrQD5kbxtnKebgCLcBGAsYHQ/s600/Footer2020-600x200.png)<hr>\n",
        "Chronotantra and Chronoyantra are two science fiction novels that explore the collapse of human civilisation on Earth and then its rebirth and reincarnation both on Earth as well as on the distant worlds of Mars, Titan and Enceladus. But is it the human civilisation that is being reborn? Or is it some other sentience that is revealing itself.\n",
        "If you have an interest in AI and found this material useful, you may consider buying these novels, in paperback or kindle, from [http://bit.ly/chronobooks](http://bit.ly/chronobooks)"
      ]
    }
  ]
}