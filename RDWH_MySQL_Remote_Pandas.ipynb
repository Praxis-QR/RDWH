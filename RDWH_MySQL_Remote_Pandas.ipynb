{
  "nbformat": 4,
  "nbformat_minor": 0,
  "metadata": {
    "colab": {
      "name": "RDWH  MySQL : Remote  : Pandas",
      "provenance": [],
      "collapsed_sections": [
        "_ZtCSY6RdxH_",
        "ogIHCXk3gLYJ"
      ],
      "toc_visible": true,
      "authorship_tag": "ABX9TyPEW95sfhdDYxrSIaZFDGBN",
      "include_colab_link": true
    },
    "kernelspec": {
      "name": "python3",
      "display_name": "Python 3"
    }
  },
  "cells": [
    {
      "cell_type": "markdown",
      "metadata": {
        "id": "view-in-github",
        "colab_type": "text"
      },
      "source": [
        "<a href=\"https://colab.research.google.com/github/Praxis-QR/RDWH/blob/main/RDWH_MySQL_Remote_Pandas.ipynb\" target=\"_parent\"><img src=\"https://colab.research.google.com/assets/colab-badge.svg\" alt=\"Open In Colab\"/></a>"
      ]
    },
    {
      "cell_type": "markdown",
      "metadata": {
        "id": "IEW-uQFCKu5x"
      },
      "source": [
        "![alt text](https://4.bp.blogspot.com/-gbL5nZDkpFQ/XScFYwoTEII/AAAAAAAAAGY/CcVb_HDLwvs2Brv5T4vSsUcz7O4r2Q79ACK4BGAYYCw/s1600/kk3-header00-beta.png)<br>\n",
        "\n",
        "\n",
        "<hr>\n",
        "\n",
        "[Prithwis Mukerjee](http://www.yantrajaal.com)<br>"
      ]
    },
    {
      "cell_type": "markdown",
      "source": [
        "# DEPRECATED\n",
        "see this [notebook](https://github.com/Praxis-QR/RDWH/blob/main/RDWH_MySQL_Remote_Shell_Pandas.ipynb)"
      ],
      "metadata": {
        "id": "QHbV0DVH5qGI"
      }
    },
    {
      "cell_type": "markdown",
      "metadata": {
        "id": "U8yrIgdl5CuX"
      },
      "source": [
        "##Purpose\n",
        "To access MySQL at a remote server using credentials"
      ]
    },
    {
      "cell_type": "markdown",
      "metadata": {
        "id": "qeqYnfbgboho"
      },
      "source": [
        "#Remote Server\n",
        "We use a remote MySQL server, for example, at <br>\n",
        "http://remotemysql.com or <br>\n",
        "http://clever-cloud.com"
      ]
    },
    {
      "cell_type": "markdown",
      "metadata": {
        "id": "-tAS3WljK_6Y"
      },
      "source": [
        "## Set Credentials\n",
        "Use this cell if notebook will not be shared with anyone"
      ]
    },
    {
      "cell_type": "code",
      "metadata": {
        "id": "Ek_a9itD5ltE"
      },
      "source": [
        "# If this Notebook is not to be shared with others\n",
        "# Then place your credentials here and uncomment the lines \n",
        "\n",
        "#hostName = 'remotemysql.com'   # uncomment this line and place your own credentials here\n",
        "#userName = 'yourusername'      # uncomment this line and place your own credentials here\n",
        "#passWord = 'yourpassword'      # uncomment this line and place your own credentials here\n",
        "#dbName =  'yourdbname'         # uncomment this line and place your own credentials here\n",
        "\n",
        "#print(hostName,userName,dbName)\n",
        "#\n",
        "# If you are using the commands in this cell, then ignore the next three cells and to Install and Test "
      ],
      "execution_count": null,
      "outputs": []
    },
    {
      "cell_type": "markdown",
      "metadata": {
        "id": "9MkTOKKj56xn"
      },
      "source": [
        "## Collect credentials from Google Drive"
      ]
    },
    {
      "cell_type": "code",
      "metadata": {
        "id": "20_0NVsnLFAh",
        "colab": {
          "base_uri": "https://localhost:8080/"
        },
        "outputId": "610292fb-18e0-4fe4-ad43-d4ca32a653dd"
      },
      "source": [
        "from google.colab import drive\n",
        "drive.mount('/content/drive')\n",
        "# -------------------------------------------------------------------------------------\n",
        "# copy credentials file\n",
        "#!ls /content/drive/'My Drive'/Praxis/WebCredentials\n",
        "#!cp /content/drive/'My Drive'/Praxis/WebCredentials/sqlCredentials_020221.py credentials.py\n",
        "#!cp /content/drive/'My Drive'/Praxis/WebCredentials/db4freeCredentials.py credentials.py\n",
        "!cp /content/drive/'My Drive'/Praxis/WebCredentials/cleverCloud.py credentials.py\n",
        "# -------------------------------------------------------------------------------------\n",
        "# credential file for Prithwis Mukerjee\n",
        "# this file needs to be uploaded into the VM\n",
        "# https://drive.google.com/drive/u/0/folders/1-EKWXDjIO_wOrNR6bR0U9IXbcFh31AMT\n",
        "#from sqlCredentials import hostName,userName,passWord,dbName\n",
        "from credentials import hostName,userName,passWord,dbName\n",
        "\n",
        "print(hostName,userName,dbName)"
      ],
      "execution_count": null,
      "outputs": [
        {
          "output_type": "stream",
          "name": "stdout",
          "text": [
            "Mounted at /content/drive\n",
            "bq3ojarbqgmkc7prtopv-mysql.services.clever-cloud.com uxnhrnbgcu47thlz bq3ojarbqgmkc7prtopv\n"
          ]
        }
      ]
    },
    {
      "cell_type": "markdown",
      "metadata": {
        "id": "qJZbr8jiLm3q"
      },
      "source": [
        "##Install & Test Client"
      ]
    },
    {
      "cell_type": "code",
      "metadata": {
        "id": "xF6z_SpZMN8h",
        "colab": {
          "base_uri": "https://localhost:8080/"
        },
        "outputId": "c98db959-f3b6-49be-e352-748b86b08943"
      },
      "source": [
        "!apt install libmysqlclient-dev > /dev/null\n",
        "!pip -q install mysqlclient \n",
        "import pandas as pd\n",
        "import MySQLdb"
      ],
      "execution_count": null,
      "outputs": [
        {
          "output_type": "stream",
          "name": "stdout",
          "text": [
            "\n",
            "WARNING: apt does not have a stable CLI interface. Use with caution in scripts.\n",
            "\n",
            "\u001b[K     |████████████████████████████████| 87 kB 2.8 MB/s \n",
            "\u001b[?25h  Building wheel for mysqlclient (setup.py) ... \u001b[?25l\u001b[?25hdone\n"
          ]
        }
      ]
    },
    {
      "cell_type": "code",
      "metadata": {
        "id": "b-njoy2oLrvq",
        "colab": {
          "base_uri": "https://localhost:8080/"
        },
        "outputId": "2e5c2af3-9af6-4c68-95ca-e5ce5d5153b9"
      },
      "source": [
        "DBConn = MySQLdb.connect(host=hostName,port=3306,user=userName,passwd=passWord,db=dbName)\n",
        "cursor = DBConn.cursor()\n",
        "# execute SQL query using execute() method.\n",
        "cursor.execute(\"SELECT VERSION()\")\n",
        "\n",
        "# Fetch a single row using fetchone() method.\n",
        "data = cursor.fetchone()\n",
        "print (\"Database version \", data)\n",
        "# disconnect from server\n",
        "DBConn.close()"
      ],
      "execution_count": null,
      "outputs": [
        {
          "output_type": "stream",
          "name": "stdout",
          "text": [
            "Database version  ('8.0.22-13',)\n"
          ]
        }
      ]
    },
    {
      "cell_type": "markdown",
      "metadata": {
        "id": "7gXrzA1W62uL"
      },
      "source": [
        "## Define Pandas Functions"
      ]
    },
    {
      "cell_type": "code",
      "metadata": {
        "id": "q7sbxP3w7gzf"
      },
      "source": [
        "#To run any non-SELECT SQL command\n",
        "def runCMD (DDL):\n",
        "    DBConn= MySQLdb.connect(host=hostName,port=3306,user=userName,passwd=passWord,db=dbName)\n",
        "    myCursor = DBConn.cursor()\n",
        "    retcode = myCursor.execute(DDL) \n",
        "    print (retcode)\n",
        "    DBConn.commit()\n",
        "    DBConn.close()\n",
        "\n",
        "#To run any SELECT SQL command\n",
        "def runSELECT (CMD):\n",
        "    DBConn= MySQLdb.connect(host=hostName,port=3306,user=userName,passwd=passWord,db=dbName)\n",
        "    df_mysql = pd.read_sql(CMD, con=DBConn)    \n",
        "    DBConn.close()\n",
        "    return df_mysql"
      ],
      "execution_count": null,
      "outputs": []
    },
    {
      "cell_type": "markdown",
      "metadata": {
        "id": "FiZorZqcNmIn"
      },
      "source": [
        "#Create & Load Tables"
      ]
    },
    {
      "cell_type": "code",
      "metadata": {
        "colab": {
          "base_uri": "https://localhost:8080/"
        },
        "id": "hxUT0xuM8Fy0",
        "outputId": "6732b357-c159-4fbb-cae9-6b19eab781a0"
      },
      "source": [
        "runCMD(\"DROP TABLE IF EXISTS Emp;\")\n",
        "cmd = \"CREATE TABLE IF NOT EXISTS Emp ( \\\n",
        "  EmpID char(6)  NOT NULL, \\\n",
        "  LastName varchar(50) , \\\n",
        "  FirstName varchar(50) , \\\n",
        "  JobDesc varchar(50) , \\\n",
        "  JoinDate date NOT NULL, \\\n",
        "  Salary int(11) , \\\n",
        "  Comm float , \\\n",
        "  DeptID char(2) \\\n",
        ") ;\"\n",
        "runCMD(cmd)"
      ],
      "execution_count": null,
      "outputs": [
        {
          "output_type": "stream",
          "name": "stdout",
          "text": [
            "0\n",
            "0\n"
          ]
        }
      ]
    },
    {
      "cell_type": "code",
      "metadata": {
        "colab": {
          "base_uri": "https://localhost:8080/"
        },
        "id": "oObMZwoV8PJK",
        "outputId": "f112b421-ee87-4237-bde0-0c1574f55f89"
      },
      "source": [
        "cmd = \"INSERT INTO Emp (EmpID, LastName, FirstName, JobDesc, JoinDate, Salary, Comm, DeptID) \\\n",
        "    VALUES \\\n",
        "\t('742866', 'Bacchan', 'Amitabh', 'Executive', '2003-03-10', 50000, 0.1, '10'), \\\n",
        "\t('349870', 'Mukherjee', 'Rani', 'Manager', '2005-05-04', 25000, 0.06, '40'), \\\n",
        "\t('865477', 'Dikshit', 'Madhuri', 'Clerk', '2002-04-04', 10000, 0.02, '20'), \\\n",
        "\t('239456', 'Khan', 'Shahrukh', 'Manager', '2004-01-03', 30000, 0.07, '20'), \\\n",
        "\t('897889', 'Sehwag', 'Virender', 'Cus_Rep', '2005-01-02', 15000, 0.05, '20'), \\\n",
        "\t('123980', 'Dhoni', 'Mahender', 'Clerk', '2004-10-09', 9000, 0.02, '40'), \\\n",
        "\t('822134', 'Dravid', 'Rahul', 'Sr Manager', '2000-06-04', 40000, 0.08, '30'), \\\n",
        "\t('997445', 'Dalmia', 'Jagmohan', 'Clerk', '2001-07-01', 12000, 0.02, '30'), \\\n",
        "\t('989007', 'Ganguly', 'Sourav', 'Cus_Rep', '2002-01-01', 20000, 0.03, '40'), \\\n",
        "\t('299034', 'Ganesan', 'Rekha', 'Director', '2002-10-10', 60000, 0.11, '10'), \\\n",
        "\t('546223', 'Karthikeyan', 'Narayan', 'Secretary', '2005-12-04', 40000, 0.09, '10'), \\\n",
        "\t('223112', 'Mirza', 'Sania', 'Cus_Rep', '2001-11-19', 25000, 0.04, '30');\"\n",
        "\n",
        "\t\n",
        "runCMD(cmd)"
      ],
      "execution_count": null,
      "outputs": [
        {
          "output_type": "stream",
          "name": "stdout",
          "text": [
            "12\n"
          ]
        }
      ]
    },
    {
      "cell_type": "code",
      "metadata": {
        "colab": {
          "base_uri": "https://localhost:8080/"
        },
        "id": "UI6SRmP38UBM",
        "outputId": "b71b0d75-27fd-433c-de56-76c616886f5b"
      },
      "source": [
        "runCMD(\"DROP TABLE IF EXISTS Dept;\")\n",
        "\n",
        "cmd = \"CREATE TABLE Dept ( \\\n",
        "  DeptID char(2)  NOT NULL, \\\n",
        "  DeptName varchar(50) , \\\n",
        "  ManagerID char(6) , \\\n",
        "  Location varchar(50) \\\n",
        " );\"\n",
        "\n",
        "runCMD(cmd)"
      ],
      "execution_count": null,
      "outputs": [
        {
          "output_type": "stream",
          "name": "stdout",
          "text": [
            "0\n",
            "0\n"
          ]
        }
      ]
    },
    {
      "cell_type": "code",
      "metadata": {
        "colab": {
          "base_uri": "https://localhost:8080/"
        },
        "id": "POQ-n0Td8YLv",
        "outputId": "88fa8eb1-616f-4397-84cc-87f390529705"
      },
      "source": [
        "cmd = \"INSERT INTO Dept (DeptID, DeptName, ManagerID, Location) VALUES \\\n",
        "\t('10', 'Corporate', '299034', 'Calcutta'), \\\n",
        "\t('20', 'Sales', '239456', 'Calcutta'), \\\n",
        "\t('30', 'Accounts', '822134', 'Calcutta'), \\\n",
        "\t('40', 'Production', '349870', 'Bombay');\"\n",
        "\n",
        "runCMD(cmd)"
      ],
      "execution_count": null,
      "outputs": [
        {
          "output_type": "stream",
          "name": "stdout",
          "text": [
            "4\n"
          ]
        }
      ]
    },
    {
      "cell_type": "code",
      "metadata": {
        "colab": {
          "base_uri": "https://localhost:8080/",
          "height": 426
        },
        "id": "FcF9Vjka8b59",
        "outputId": "569b7137-967c-487e-f640-caca4a4f77b2"
      },
      "source": [
        "runSELECT('Select * from Emp;')"
      ],
      "execution_count": null,
      "outputs": [
        {
          "output_type": "execute_result",
          "data": {
            "text/html": [
              "\n",
              "  <div id=\"df-18ef6a93-6b97-40a7-be55-01ea53fc8de6\">\n",
              "    <div class=\"colab-df-container\">\n",
              "      <div>\n",
              "<style scoped>\n",
              "    .dataframe tbody tr th:only-of-type {\n",
              "        vertical-align: middle;\n",
              "    }\n",
              "\n",
              "    .dataframe tbody tr th {\n",
              "        vertical-align: top;\n",
              "    }\n",
              "\n",
              "    .dataframe thead th {\n",
              "        text-align: right;\n",
              "    }\n",
              "</style>\n",
              "<table border=\"1\" class=\"dataframe\">\n",
              "  <thead>\n",
              "    <tr style=\"text-align: right;\">\n",
              "      <th></th>\n",
              "      <th>EmpID</th>\n",
              "      <th>LastName</th>\n",
              "      <th>FirstName</th>\n",
              "      <th>JobDesc</th>\n",
              "      <th>JoinDate</th>\n",
              "      <th>Salary</th>\n",
              "      <th>Comm</th>\n",
              "      <th>DeptID</th>\n",
              "    </tr>\n",
              "  </thead>\n",
              "  <tbody>\n",
              "    <tr>\n",
              "      <th>0</th>\n",
              "      <td>742866</td>\n",
              "      <td>Bacchan</td>\n",
              "      <td>Amitabh</td>\n",
              "      <td>Executive</td>\n",
              "      <td>2003-03-10</td>\n",
              "      <td>50000</td>\n",
              "      <td>0.10</td>\n",
              "      <td>10</td>\n",
              "    </tr>\n",
              "    <tr>\n",
              "      <th>1</th>\n",
              "      <td>349870</td>\n",
              "      <td>Mukherjee</td>\n",
              "      <td>Rani</td>\n",
              "      <td>Manager</td>\n",
              "      <td>2005-05-04</td>\n",
              "      <td>25000</td>\n",
              "      <td>0.06</td>\n",
              "      <td>40</td>\n",
              "    </tr>\n",
              "    <tr>\n",
              "      <th>2</th>\n",
              "      <td>865477</td>\n",
              "      <td>Dikshit</td>\n",
              "      <td>Madhuri</td>\n",
              "      <td>Clerk</td>\n",
              "      <td>2002-04-04</td>\n",
              "      <td>10000</td>\n",
              "      <td>0.02</td>\n",
              "      <td>20</td>\n",
              "    </tr>\n",
              "    <tr>\n",
              "      <th>3</th>\n",
              "      <td>239456</td>\n",
              "      <td>Khan</td>\n",
              "      <td>Shahrukh</td>\n",
              "      <td>Manager</td>\n",
              "      <td>2004-01-03</td>\n",
              "      <td>30000</td>\n",
              "      <td>0.07</td>\n",
              "      <td>20</td>\n",
              "    </tr>\n",
              "    <tr>\n",
              "      <th>4</th>\n",
              "      <td>897889</td>\n",
              "      <td>Sehwag</td>\n",
              "      <td>Virender</td>\n",
              "      <td>Cus_Rep</td>\n",
              "      <td>2005-01-02</td>\n",
              "      <td>15000</td>\n",
              "      <td>0.05</td>\n",
              "      <td>20</td>\n",
              "    </tr>\n",
              "    <tr>\n",
              "      <th>5</th>\n",
              "      <td>123980</td>\n",
              "      <td>Dhoni</td>\n",
              "      <td>Mahender</td>\n",
              "      <td>Clerk</td>\n",
              "      <td>2004-10-09</td>\n",
              "      <td>9000</td>\n",
              "      <td>0.02</td>\n",
              "      <td>40</td>\n",
              "    </tr>\n",
              "    <tr>\n",
              "      <th>6</th>\n",
              "      <td>822134</td>\n",
              "      <td>Dravid</td>\n",
              "      <td>Rahul</td>\n",
              "      <td>Sr Manager</td>\n",
              "      <td>2000-06-04</td>\n",
              "      <td>40000</td>\n",
              "      <td>0.08</td>\n",
              "      <td>30</td>\n",
              "    </tr>\n",
              "    <tr>\n",
              "      <th>7</th>\n",
              "      <td>997445</td>\n",
              "      <td>Dalmia</td>\n",
              "      <td>Jagmohan</td>\n",
              "      <td>Clerk</td>\n",
              "      <td>2001-07-01</td>\n",
              "      <td>12000</td>\n",
              "      <td>0.02</td>\n",
              "      <td>30</td>\n",
              "    </tr>\n",
              "    <tr>\n",
              "      <th>8</th>\n",
              "      <td>989007</td>\n",
              "      <td>Ganguly</td>\n",
              "      <td>Sourav</td>\n",
              "      <td>Cus_Rep</td>\n",
              "      <td>2002-01-01</td>\n",
              "      <td>20000</td>\n",
              "      <td>0.03</td>\n",
              "      <td>40</td>\n",
              "    </tr>\n",
              "    <tr>\n",
              "      <th>9</th>\n",
              "      <td>299034</td>\n",
              "      <td>Ganesan</td>\n",
              "      <td>Rekha</td>\n",
              "      <td>Director</td>\n",
              "      <td>2002-10-10</td>\n",
              "      <td>60000</td>\n",
              "      <td>0.11</td>\n",
              "      <td>10</td>\n",
              "    </tr>\n",
              "    <tr>\n",
              "      <th>10</th>\n",
              "      <td>546223</td>\n",
              "      <td>Karthikeyan</td>\n",
              "      <td>Narayan</td>\n",
              "      <td>Secretary</td>\n",
              "      <td>2005-12-04</td>\n",
              "      <td>40000</td>\n",
              "      <td>0.09</td>\n",
              "      <td>10</td>\n",
              "    </tr>\n",
              "    <tr>\n",
              "      <th>11</th>\n",
              "      <td>223112</td>\n",
              "      <td>Mirza</td>\n",
              "      <td>Sania</td>\n",
              "      <td>Cus_Rep</td>\n",
              "      <td>2001-11-19</td>\n",
              "      <td>25000</td>\n",
              "      <td>0.04</td>\n",
              "      <td>30</td>\n",
              "    </tr>\n",
              "  </tbody>\n",
              "</table>\n",
              "</div>\n",
              "      <button class=\"colab-df-convert\" onclick=\"convertToInteractive('df-18ef6a93-6b97-40a7-be55-01ea53fc8de6')\"\n",
              "              title=\"Convert this dataframe to an interactive table.\"\n",
              "              style=\"display:none;\">\n",
              "        \n",
              "  <svg xmlns=\"http://www.w3.org/2000/svg\" height=\"24px\"viewBox=\"0 0 24 24\"\n",
              "       width=\"24px\">\n",
              "    <path d=\"M0 0h24v24H0V0z\" fill=\"none\"/>\n",
              "    <path d=\"M18.56 5.44l.94 2.06.94-2.06 2.06-.94-2.06-.94-.94-2.06-.94 2.06-2.06.94zm-11 1L8.5 8.5l.94-2.06 2.06-.94-2.06-.94L8.5 2.5l-.94 2.06-2.06.94zm10 10l.94 2.06.94-2.06 2.06-.94-2.06-.94-.94-2.06-.94 2.06-2.06.94z\"/><path d=\"M17.41 7.96l-1.37-1.37c-.4-.4-.92-.59-1.43-.59-.52 0-1.04.2-1.43.59L10.3 9.45l-7.72 7.72c-.78.78-.78 2.05 0 2.83L4 21.41c.39.39.9.59 1.41.59.51 0 1.02-.2 1.41-.59l7.78-7.78 2.81-2.81c.8-.78.8-2.07 0-2.86zM5.41 20L4 18.59l7.72-7.72 1.47 1.35L5.41 20z\"/>\n",
              "  </svg>\n",
              "      </button>\n",
              "      \n",
              "  <style>\n",
              "    .colab-df-container {\n",
              "      display:flex;\n",
              "      flex-wrap:wrap;\n",
              "      gap: 12px;\n",
              "    }\n",
              "\n",
              "    .colab-df-convert {\n",
              "      background-color: #E8F0FE;\n",
              "      border: none;\n",
              "      border-radius: 50%;\n",
              "      cursor: pointer;\n",
              "      display: none;\n",
              "      fill: #1967D2;\n",
              "      height: 32px;\n",
              "      padding: 0 0 0 0;\n",
              "      width: 32px;\n",
              "    }\n",
              "\n",
              "    .colab-df-convert:hover {\n",
              "      background-color: #E2EBFA;\n",
              "      box-shadow: 0px 1px 2px rgba(60, 64, 67, 0.3), 0px 1px 3px 1px rgba(60, 64, 67, 0.15);\n",
              "      fill: #174EA6;\n",
              "    }\n",
              "\n",
              "    [theme=dark] .colab-df-convert {\n",
              "      background-color: #3B4455;\n",
              "      fill: #D2E3FC;\n",
              "    }\n",
              "\n",
              "    [theme=dark] .colab-df-convert:hover {\n",
              "      background-color: #434B5C;\n",
              "      box-shadow: 0px 1px 3px 1px rgba(0, 0, 0, 0.15);\n",
              "      filter: drop-shadow(0px 1px 2px rgba(0, 0, 0, 0.3));\n",
              "      fill: #FFFFFF;\n",
              "    }\n",
              "  </style>\n",
              "\n",
              "      <script>\n",
              "        const buttonEl =\n",
              "          document.querySelector('#df-18ef6a93-6b97-40a7-be55-01ea53fc8de6 button.colab-df-convert');\n",
              "        buttonEl.style.display =\n",
              "          google.colab.kernel.accessAllowed ? 'block' : 'none';\n",
              "\n",
              "        async function convertToInteractive(key) {\n",
              "          const element = document.querySelector('#df-18ef6a93-6b97-40a7-be55-01ea53fc8de6');\n",
              "          const dataTable =\n",
              "            await google.colab.kernel.invokeFunction('convertToInteractive',\n",
              "                                                     [key], {});\n",
              "          if (!dataTable) return;\n",
              "\n",
              "          const docLinkHtml = 'Like what you see? Visit the ' +\n",
              "            '<a target=\"_blank\" href=https://colab.research.google.com/notebooks/data_table.ipynb>data table notebook</a>'\n",
              "            + ' to learn more about interactive tables.';\n",
              "          element.innerHTML = '';\n",
              "          dataTable['output_type'] = 'display_data';\n",
              "          await google.colab.output.renderOutput(dataTable, element);\n",
              "          const docLink = document.createElement('div');\n",
              "          docLink.innerHTML = docLinkHtml;\n",
              "          element.appendChild(docLink);\n",
              "        }\n",
              "      </script>\n",
              "    </div>\n",
              "  </div>\n",
              "  "
            ],
            "text/plain": [
              "     EmpID     LastName FirstName     JobDesc    JoinDate  Salary  Comm DeptID\n",
              "0   742866      Bacchan   Amitabh   Executive  2003-03-10   50000  0.10     10\n",
              "1   349870    Mukherjee      Rani     Manager  2005-05-04   25000  0.06     40\n",
              "2   865477      Dikshit   Madhuri       Clerk  2002-04-04   10000  0.02     20\n",
              "3   239456         Khan  Shahrukh     Manager  2004-01-03   30000  0.07     20\n",
              "4   897889       Sehwag  Virender     Cus_Rep  2005-01-02   15000  0.05     20\n",
              "5   123980        Dhoni  Mahender       Clerk  2004-10-09    9000  0.02     40\n",
              "6   822134       Dravid     Rahul  Sr Manager  2000-06-04   40000  0.08     30\n",
              "7   997445       Dalmia  Jagmohan       Clerk  2001-07-01   12000  0.02     30\n",
              "8   989007      Ganguly    Sourav     Cus_Rep  2002-01-01   20000  0.03     40\n",
              "9   299034      Ganesan     Rekha    Director  2002-10-10   60000  0.11     10\n",
              "10  546223  Karthikeyan   Narayan   Secretary  2005-12-04   40000  0.09     10\n",
              "11  223112        Mirza     Sania     Cus_Rep  2001-11-19   25000  0.04     30"
            ]
          },
          "metadata": {},
          "execution_count": 9
        }
      ]
    },
    {
      "cell_type": "code",
      "metadata": {
        "id": "tA9odZLh8hbN"
      },
      "source": [
        "cmd = 'Select * from Dept;'\n",
        "df = runSELECT(cmd)"
      ],
      "execution_count": null,
      "outputs": []
    },
    {
      "cell_type": "code",
      "source": [
        "df"
      ],
      "metadata": {
        "id": "kGNf6cQUlooT",
        "outputId": "9827d4ef-3fed-44ad-9ffb-0b9780ce21ba",
        "colab": {
          "base_uri": "https://localhost:8080/",
          "height": 174
        }
      },
      "execution_count": null,
      "outputs": [
        {
          "output_type": "execute_result",
          "data": {
            "text/html": [
              "\n",
              "  <div id=\"df-4050bee4-da56-4b23-b365-b6dee6ad8275\">\n",
              "    <div class=\"colab-df-container\">\n",
              "      <div>\n",
              "<style scoped>\n",
              "    .dataframe tbody tr th:only-of-type {\n",
              "        vertical-align: middle;\n",
              "    }\n",
              "\n",
              "    .dataframe tbody tr th {\n",
              "        vertical-align: top;\n",
              "    }\n",
              "\n",
              "    .dataframe thead th {\n",
              "        text-align: right;\n",
              "    }\n",
              "</style>\n",
              "<table border=\"1\" class=\"dataframe\">\n",
              "  <thead>\n",
              "    <tr style=\"text-align: right;\">\n",
              "      <th></th>\n",
              "      <th>DeptID</th>\n",
              "      <th>DeptName</th>\n",
              "      <th>ManagerID</th>\n",
              "      <th>Location</th>\n",
              "    </tr>\n",
              "  </thead>\n",
              "  <tbody>\n",
              "    <tr>\n",
              "      <th>0</th>\n",
              "      <td>10</td>\n",
              "      <td>Corporate</td>\n",
              "      <td>299034</td>\n",
              "      <td>Calcutta</td>\n",
              "    </tr>\n",
              "    <tr>\n",
              "      <th>1</th>\n",
              "      <td>20</td>\n",
              "      <td>Sales</td>\n",
              "      <td>239456</td>\n",
              "      <td>Calcutta</td>\n",
              "    </tr>\n",
              "    <tr>\n",
              "      <th>2</th>\n",
              "      <td>30</td>\n",
              "      <td>Accounts</td>\n",
              "      <td>822134</td>\n",
              "      <td>Calcutta</td>\n",
              "    </tr>\n",
              "    <tr>\n",
              "      <th>3</th>\n",
              "      <td>40</td>\n",
              "      <td>Production</td>\n",
              "      <td>349870</td>\n",
              "      <td>Bombay</td>\n",
              "    </tr>\n",
              "  </tbody>\n",
              "</table>\n",
              "</div>\n",
              "      <button class=\"colab-df-convert\" onclick=\"convertToInteractive('df-4050bee4-da56-4b23-b365-b6dee6ad8275')\"\n",
              "              title=\"Convert this dataframe to an interactive table.\"\n",
              "              style=\"display:none;\">\n",
              "        \n",
              "  <svg xmlns=\"http://www.w3.org/2000/svg\" height=\"24px\"viewBox=\"0 0 24 24\"\n",
              "       width=\"24px\">\n",
              "    <path d=\"M0 0h24v24H0V0z\" fill=\"none\"/>\n",
              "    <path d=\"M18.56 5.44l.94 2.06.94-2.06 2.06-.94-2.06-.94-.94-2.06-.94 2.06-2.06.94zm-11 1L8.5 8.5l.94-2.06 2.06-.94-2.06-.94L8.5 2.5l-.94 2.06-2.06.94zm10 10l.94 2.06.94-2.06 2.06-.94-2.06-.94-.94-2.06-.94 2.06-2.06.94z\"/><path d=\"M17.41 7.96l-1.37-1.37c-.4-.4-.92-.59-1.43-.59-.52 0-1.04.2-1.43.59L10.3 9.45l-7.72 7.72c-.78.78-.78 2.05 0 2.83L4 21.41c.39.39.9.59 1.41.59.51 0 1.02-.2 1.41-.59l7.78-7.78 2.81-2.81c.8-.78.8-2.07 0-2.86zM5.41 20L4 18.59l7.72-7.72 1.47 1.35L5.41 20z\"/>\n",
              "  </svg>\n",
              "      </button>\n",
              "      \n",
              "  <style>\n",
              "    .colab-df-container {\n",
              "      display:flex;\n",
              "      flex-wrap:wrap;\n",
              "      gap: 12px;\n",
              "    }\n",
              "\n",
              "    .colab-df-convert {\n",
              "      background-color: #E8F0FE;\n",
              "      border: none;\n",
              "      border-radius: 50%;\n",
              "      cursor: pointer;\n",
              "      display: none;\n",
              "      fill: #1967D2;\n",
              "      height: 32px;\n",
              "      padding: 0 0 0 0;\n",
              "      width: 32px;\n",
              "    }\n",
              "\n",
              "    .colab-df-convert:hover {\n",
              "      background-color: #E2EBFA;\n",
              "      box-shadow: 0px 1px 2px rgba(60, 64, 67, 0.3), 0px 1px 3px 1px rgba(60, 64, 67, 0.15);\n",
              "      fill: #174EA6;\n",
              "    }\n",
              "\n",
              "    [theme=dark] .colab-df-convert {\n",
              "      background-color: #3B4455;\n",
              "      fill: #D2E3FC;\n",
              "    }\n",
              "\n",
              "    [theme=dark] .colab-df-convert:hover {\n",
              "      background-color: #434B5C;\n",
              "      box-shadow: 0px 1px 3px 1px rgba(0, 0, 0, 0.15);\n",
              "      filter: drop-shadow(0px 1px 2px rgba(0, 0, 0, 0.3));\n",
              "      fill: #FFFFFF;\n",
              "    }\n",
              "  </style>\n",
              "\n",
              "      <script>\n",
              "        const buttonEl =\n",
              "          document.querySelector('#df-4050bee4-da56-4b23-b365-b6dee6ad8275 button.colab-df-convert');\n",
              "        buttonEl.style.display =\n",
              "          google.colab.kernel.accessAllowed ? 'block' : 'none';\n",
              "\n",
              "        async function convertToInteractive(key) {\n",
              "          const element = document.querySelector('#df-4050bee4-da56-4b23-b365-b6dee6ad8275');\n",
              "          const dataTable =\n",
              "            await google.colab.kernel.invokeFunction('convertToInteractive',\n",
              "                                                     [key], {});\n",
              "          if (!dataTable) return;\n",
              "\n",
              "          const docLinkHtml = 'Like what you see? Visit the ' +\n",
              "            '<a target=\"_blank\" href=https://colab.research.google.com/notebooks/data_table.ipynb>data table notebook</a>'\n",
              "            + ' to learn more about interactive tables.';\n",
              "          element.innerHTML = '';\n",
              "          dataTable['output_type'] = 'display_data';\n",
              "          await google.colab.output.renderOutput(dataTable, element);\n",
              "          const docLink = document.createElement('div');\n",
              "          docLink.innerHTML = docLinkHtml;\n",
              "          element.appendChild(docLink);\n",
              "        }\n",
              "      </script>\n",
              "    </div>\n",
              "  </div>\n",
              "  "
            ],
            "text/plain": [
              "  DeptID    DeptName ManagerID  Location\n",
              "0     10   Corporate    299034  Calcutta\n",
              "1     20       Sales    239456  Calcutta\n",
              "2     30    Accounts    822134  Calcutta\n",
              "3     40  Production    349870    Bombay"
            ]
          },
          "metadata": {},
          "execution_count": 11
        }
      ]
    },
    {
      "cell_type": "markdown",
      "metadata": {
        "id": "cBS7QCjQF9_0"
      },
      "source": [
        "##Clean UP"
      ]
    },
    {
      "cell_type": "code",
      "metadata": {
        "id": "kWbF85GJGIdy",
        "colab": {
          "base_uri": "https://localhost:8080/"
        },
        "outputId": "27e3c177-d47d-4a9f-ace0-985ca251c11a"
      },
      "source": [
        "runCMD(\"DROP TABLE IF EXISTS Dept;\")\n",
        "runCMD(\"DROP TABLE IF EXISTS Emp;\")\n"
      ],
      "execution_count": null,
      "outputs": [
        {
          "output_type": "stream",
          "name": "stdout",
          "text": [
            "0\n",
            "0\n"
          ]
        }
      ]
    },
    {
      "cell_type": "markdown",
      "metadata": {
        "id": "iWzgRTt9JR4u"
      },
      "source": [
        "#Chronobooks <br>\n",
        "![alt text](https://1.bp.blogspot.com/-lTiYBkU2qbU/X1er__fvnkI/AAAAAAAAjtE/GhDR3OEGJr4NG43fZPodrQD5kbxtnKebgCLcBGAsYHQ/s600/Footer2020-600x200.png)<hr>\n",
        "Chronotantra and Chronoyantra are two science fiction novels that explore the collapse of human civilisation on Earth and then its rebirth and reincarnation both on Earth as well as on the distant worlds of Mars, Titan and Enceladus. But is it the human civilisation that is being reborn? Or is it some other sentience that is revealing itself. \n",
        "If you have an interest in AI and found this material useful, you may consider buying these novels, in paperback or kindle, from [http://bit.ly/chronobooks](http://bit.ly/chronobooks)"
      ]
    }
  ]
}