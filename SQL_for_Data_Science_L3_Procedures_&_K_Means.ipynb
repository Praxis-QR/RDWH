{
  "nbformat": 4,
  "nbformat_minor": 0,
  "metadata": {
    "colab": {
      "name": "SQL for Data Science - L3 - Procedures  & K-Means",
      "provenance": [],
      "include_colab_link": true
    },
    "kernelspec": {
      "name": "python3",
      "display_name": "Python 3"
    }
  },
  "cells": [
    {
      "cell_type": "markdown",
      "metadata": {
        "id": "view-in-github",
        "colab_type": "text"
      },
      "source": [
        "<a href=\"https://colab.research.google.com/github/Praxis-QR/RDWH/blob/main/SQL_for_Data_Science_L3_Procedures_%26_K_Means.ipynb\" target=\"_parent\"><img src=\"https://colab.research.google.com/assets/colab-badge.svg\" alt=\"Open In Colab\"/></a>"
      ]
    },
    {
      "cell_type": "markdown",
      "metadata": {
        "id": "JLS_gJa1nzro"
      },
      "source": [
        "\n",
        "![alt text](https://4.bp.blogspot.com/-gbL5nZDkpFQ/XScFYwoTEII/AAAAAAAAAGY/CcVb_HDLwvs2Brv5T4vSsUcz7O4r2Q79ACK4BGAYYCw/s1600/kk3-header00-beta.png)<br>\n",
        "\n",
        "\n",
        "<hr>\n",
        "\n",
        "[Prithwis Mukerjee](http://www.linkedin.com/in/prithwis)<br>"
      ]
    },
    {
      "cell_type": "markdown",
      "metadata": {
        "id": "8rtzja3Fbppg"
      },
      "source": [
        "#K-Means Clustering with SQL\n",
        "<br>\n",
        "\n",
        "Based on the code given by [Joni Salonen](http://jonisalonen.com/2012/k-means-clustering-in-mysql/)"
      ]
    },
    {
      "cell_type": "markdown",
      "metadata": {
        "id": "aGzVf5TLov-E"
      },
      "source": [
        "# Install MySQL"
      ]
    },
    {
      "cell_type": "code",
      "metadata": {
        "id": "Xi1BqQUKpu13",
        "colab": {
          "base_uri": "https://localhost:8080/"
        },
        "outputId": "59f2ef93-ce26-4fc4-cdb6-141ca8b7f695"
      },
      "source": [
        "# install mysql on colab\n",
        "#!apt-get -y install mysql-server\n",
        "!apt update > /dev/null\n",
        "!apt -y install mysql-server > /dev/null"
      ],
      "execution_count": 1,
      "outputs": [
        {
          "output_type": "stream",
          "name": "stdout",
          "text": [
            "\n",
            "WARNING: apt does not have a stable CLI interface. Use with caution in scripts.\n",
            "\n",
            "\n",
            "WARNING: apt does not have a stable CLI interface. Use with caution in scripts.\n",
            "\n"
          ]
        }
      ]
    },
    {
      "cell_type": "code",
      "metadata": {
        "colab": {
          "base_uri": "https://localhost:8080/"
        },
        "id": "wAoc84KY9L6G",
        "outputId": "e7a721d4-5880-4d4e-9346-6b9edbbb7618"
      },
      "source": [
        "!ls /etc/init.d/mysql"
      ],
      "execution_count": 2,
      "outputs": [
        {
          "output_type": "stream",
          "name": "stdout",
          "text": [
            "/etc/init.d/mysql\n"
          ]
        }
      ]
    },
    {
      "cell_type": "code",
      "metadata": {
        "id": "ahWDdbMFqSqv",
        "colab": {
          "base_uri": "https://localhost:8080/"
        },
        "outputId": "9c0fe02a-5a46-4abb-f6ea-b99f6747bec2"
      },
      "source": [
        "!/etc/init.d/mysql restart"
      ],
      "execution_count": 3,
      "outputs": [
        {
          "output_type": "stream",
          "name": "stdout",
          "text": [
            " * Stopping MySQL database server mysqld\n",
            "   ...done.\n",
            " * Starting MySQL database server mysqld\n",
            "su: warning: cannot change directory to /nonexistent: No such file or directory\n",
            "   ...done.\n"
          ]
        }
      ]
    },
    {
      "cell_type": "code",
      "metadata": {
        "colab": {
          "base_uri": "https://localhost:8080/"
        },
        "id": "AApn_2LX9tNn",
        "outputId": "847f579a-6ad6-4bac-89f0-e671369f6458"
      },
      "source": [
        "!mysql -e 'show databases'"
      ],
      "execution_count": 4,
      "outputs": [
        {
          "output_type": "stream",
          "name": "stdout",
          "text": [
            "+--------------------+\n",
            "| Database           |\n",
            "+--------------------+\n",
            "| information_schema |\n",
            "| mysql              |\n",
            "| performance_schema |\n",
            "| sys                |\n",
            "+--------------------+\n"
          ]
        }
      ]
    },
    {
      "cell_type": "code",
      "metadata": {
        "id": "Pw0rAGprqtO9",
        "colab": {
          "base_uri": "https://localhost:8080/"
        },
        "outputId": "7163bbbd-f6ee-410f-c4a2-0bdce1b16bd9"
      },
      "source": [
        "!mysql -e 'create database praxisDB'\n",
        "!mysql -e 'show databases'"
      ],
      "execution_count": 5,
      "outputs": [
        {
          "output_type": "stream",
          "name": "stdout",
          "text": [
            "+--------------------+\n",
            "| Database           |\n",
            "+--------------------+\n",
            "| information_schema |\n",
            "| mysql              |\n",
            "| performance_schema |\n",
            "| praxisDB           |\n",
            "| sys                |\n",
            "+--------------------+\n"
          ]
        }
      ]
    },
    {
      "cell_type": "markdown",
      "metadata": {
        "id": "xGV2hgThURzx"
      },
      "source": [
        "# Basic K-Means <br>\n",
        "the code is available on [this blog post](http://blog.yantrajaal.com/2016/11/k-means-clustering-with-sql.html)."
      ]
    },
    {
      "cell_type": "code",
      "metadata": {
        "id": "2-s-Ye_41k5O"
      },
      "source": [
        "!mysql praxisDB -e 'drop table if exists km_data;'\n",
        "!mysql praxisDB -e 'drop table if exists km_clusters;'\n",
        "!mysql praxisDB -e 'drop table if exists km_steps;'"
      ],
      "execution_count": 42,
      "outputs": []
    },
    {
      "cell_type": "code",
      "metadata": {
        "id": "BBIj318yzx3o"
      },
      "source": [
        "!mysql praxisDB -e 'create table km_data (id int primary key, cluster_id int, x1 float, x2 float);'\n",
        "!mysql praxisDB -e 'create table km_clusters (id int auto_increment primary key, x1 float, x2 float);'\n",
        "!mysql praxisDB -e 'create table km_steps (id int, x1 float, x2 float);'"
      ],
      "execution_count": 43,
      "outputs": []
    },
    {
      "cell_type": "code",
      "metadata": {
        "colab": {
          "base_uri": "https://localhost:8080/"
        },
        "id": "xqencym72tt1",
        "outputId": "a589ea6c-e86e-4a10-e0a4-68ccbb406fe2"
      },
      "source": [
        "%%writefile SQLproc.sql\n",
        "drop procedure if exists kmeans;\n",
        "DELIMITER //\n",
        "CREATE PROCEDURE kmeans(v_K int)\n",
        "BEGIN\n",
        "TRUNCATE km_clusters;\n",
        "truncate km_steps;\n",
        "\n",
        "-- initialize cluster centers\n",
        "INSERT INTO km_clusters (x1, x2) SELECT x1, x2 FROM km_data LIMIT v_K;\n",
        "REPEAT\n",
        "    insert into km_steps select * from km_clusters;\n",
        "    -- assign clusters to data points\n",
        "    UPDATE km_data d SET cluster_id = (SELECT id FROM km_clusters c\n",
        "        ORDER BY POW(d.x1-c.x1,2)+POW(d.x2-c.x2,2) ASC LIMIT 1);\n",
        "    -- calculate new cluster center\n",
        "    UPDATE km_clusters C, (SELECT cluster_id,\n",
        "        AVG(x1) AS x1, AVG(x2) AS x2\n",
        "        FROM km_data GROUP BY cluster_id) D\n",
        "  SET C.x1=D.x1, C.x2=D.x2 WHERE C.id=D.cluster_id;\n",
        "UNTIL ROW_COUNT() = 0 END REPEAT;\n",
        "END//"
      ],
      "execution_count": 8,
      "outputs": [
        {
          "output_type": "stream",
          "name": "stdout",
          "text": [
            "Writing SQLproc.sql\n"
          ]
        }
      ]
    },
    {
      "cell_type": "code",
      "metadata": {
        "id": "nzgSATg_32uB"
      },
      "source": [
        "!mysql praxisDB --table < SQLproc.sql"
      ],
      "execution_count": 44,
      "outputs": []
    },
    {
      "cell_type": "code",
      "metadata": {
        "id": "46fAIU8f4Cnl"
      },
      "source": [
        "!mysql praxisDB -e 'truncate km_data;'\n",
        "!mysql praxisDB -e 'insert into km_data (id, cluster_id,x1,x2) values (1,0,185,72);'\n",
        "!mysql praxisDB -e 'insert into km_data (id, cluster_id,x1,x2) values (2,0,170,56);'\n",
        "!mysql praxisDB -e 'insert into km_data (id, cluster_id,x1,x2) values (3,0,168,60);'\n",
        "!mysql praxisDB -e 'insert into km_data (id, cluster_id,x1,x2) values (4,0,179,68);'\n",
        "!mysql praxisDB -e 'insert into km_data (id, cluster_id,x1,x2) values (5,0,182,72);'\n",
        "!mysql praxisDB -e 'insert into km_data (id, cluster_id,x1,x2) values (6,0,188,77);'\n",
        "\n",
        "!mysql praxisDB -e 'insert into km_data (id, cluster_id,x1,x2) values (7,0,180,71);'\n",
        "!mysql praxisDB -e 'insert into km_data (id, cluster_id,x1,x2) values (8,0,180,70);'\n",
        "!mysql praxisDB -e 'insert into km_data (id, cluster_id,x1,x2) values (9,0,183,84);'\n",
        "!mysql praxisDB -e 'insert into km_data (id, cluster_id,x1,x2) values (10,0,180,88);'\n",
        "!mysql praxisDB -e 'insert into km_data (id, cluster_id,x1,x2) values (11,0,180,67);'\n",
        "!mysql praxisDB -e 'insert into km_data (id, cluster_id,x1,x2) values (12,0,177,76);'"
      ],
      "execution_count": 45,
      "outputs": []
    },
    {
      "cell_type": "code",
      "metadata": {
        "id": "yjlmAhGy4eSg"
      },
      "source": [
        "!mysql praxisDB -e 'call kmeans(2);'"
      ],
      "execution_count": 46,
      "outputs": []
    },
    {
      "cell_type": "code",
      "metadata": {
        "colab": {
          "base_uri": "https://localhost:8080/"
        },
        "id": "xaK4bV734n_B",
        "outputId": "13f5182b-44de-4431-d026-f3aed6d0135d"
      },
      "source": [
        "!mysql praxisDB -e 'select * from km_clusters;'"
      ],
      "execution_count": 47,
      "outputs": [
        {
          "output_type": "stream",
          "name": "stdout",
          "text": [
            "+----+-------+------+\n",
            "| id | x1    | x2   |\n",
            "+----+-------+------+\n",
            "|  1 | 181.4 | 74.5 |\n",
            "|  2 |   169 |   58 |\n",
            "+----+-------+------+\n"
          ]
        }
      ]
    },
    {
      "cell_type": "markdown",
      "metadata": {
        "id": "6HaLvKNCPXkw"
      },
      "source": [
        "ROW_COUNT() return number of rows updated in the previous SQL statement <br>\n",
        "see this [page](http://www.java2s.com/Tutorial/MySQL/0400__Information-Functions/ROWCOUNTreturnsthenumberofrowsupdatedinsertedordeletedbytheprecedingstatement.htm)"
      ]
    },
    {
      "cell_type": "markdown",
      "metadata": {
        "id": "mc3oBcHE-NyI"
      },
      "source": [
        "#K Means with Iris Dataset <br>\n",
        "taken from this [site](https://github.com/antmarakis/Machine-Learning/blob/master/Clustering/kMeans%20-%20Standard/data.txt)"
      ]
    },
    {
      "cell_type": "code",
      "metadata": {
        "id": "BO5uOQPA-QYf",
        "colab": {
          "base_uri": "https://localhost:8080/"
        },
        "outputId": "49365767-b3ee-4b5e-863b-203ef755f112"
      },
      "source": [
        "!wget https://raw.githubusercontent.com/antmarakis/Machine-Learning/master/Clustering/kMeans%20-%20Standard/data.txt"
      ],
      "execution_count": 48,
      "outputs": [
        {
          "output_type": "stream",
          "name": "stdout",
          "text": [
            "--2023-08-25 07:42:06--  https://raw.githubusercontent.com/antmarakis/Machine-Learning/master/Clustering/kMeans%20-%20Standard/data.txt\n",
            "Resolving raw.githubusercontent.com (raw.githubusercontent.com)... 185.199.108.133, 185.199.111.133, 185.199.110.133, ...\n",
            "Connecting to raw.githubusercontent.com (raw.githubusercontent.com)|185.199.108.133|:443... connected.\n",
            "HTTP request sent, awaiting response... 200 OK\n",
            "Length: 4698 (4.6K) [text/plain]\n",
            "Saving to: ‘data.txt.1’\n",
            "\n",
            "data.txt.1          100%[===================>]   4.59K  --.-KB/s    in 0s      \n",
            "\n",
            "2023-08-25 07:42:07 (47.9 MB/s) - ‘data.txt.1’ saved [4698/4698]\n",
            "\n"
          ]
        }
      ]
    },
    {
      "cell_type": "code",
      "metadata": {
        "id": "CYkBeu4V-cUN",
        "colab": {
          "base_uri": "https://localhost:8080/"
        },
        "outputId": "e42896fa-591c-4b0a-a8ba-a5265bbf928f"
      },
      "source": [
        "!head data.txt"
      ],
      "execution_count": 49,
      "outputs": [
        {
          "output_type": "stream",
          "name": "stdout",
          "text": [
            "5.1,3.5,1.4,0.2,Iris-setosa\r\n",
            "4.9,3.0,1.4,0.2,Iris-setosa\r\n",
            "4.7,3.2,1.3,0.2,Iris-setosa\r\n",
            "4.6,3.1,1.5,0.2,Iris-setosa\r\n",
            "5.0,3.6,1.4,0.2,Iris-setosa\r\n",
            "5.4,3.9,1.7,0.4,Iris-setosa\r\n",
            "4.6,3.4,1.4,0.3,Iris-setosa\r\n",
            "5.0,3.4,1.5,0.2,Iris-setosa\r\n",
            "4.4,2.9,1.4,0.2,Iris-setosa\r\n",
            "4.9,3.1,1.5,0.1,Iris-setosa\r\n"
          ]
        }
      ]
    },
    {
      "cell_type": "code",
      "metadata": {
        "id": "OscsbqIG-6Fz"
      },
      "source": [
        "!mysql praxisDB -e 'drop table if exists iris_data;'\n",
        "!mysql praxisDB -e 'create table iris_data (x1 float, x2 float, x3 float, x4 float, label varchar(16));'"
      ],
      "execution_count": 50,
      "outputs": []
    },
    {
      "cell_type": "code",
      "metadata": {
        "id": "qwJL2T35_ip9",
        "colab": {
          "base_uri": "https://localhost:8080/"
        },
        "outputId": "aa065388-5a3d-4370-b08a-22aa32dd4fd1"
      },
      "source": [
        "!mysql praxisDB -e 'desc iris_data'"
      ],
      "execution_count": 16,
      "outputs": [
        {
          "output_type": "stream",
          "name": "stdout",
          "text": [
            "+-------+-------------+------+-----+---------+-------+\n",
            "| Field | Type        | Null | Key | Default | Extra |\n",
            "+-------+-------------+------+-----+---------+-------+\n",
            "| x1    | float       | YES  |     | NULL    |       |\n",
            "| x2    | float       | YES  |     | NULL    |       |\n",
            "| x3    | float       | YES  |     | NULL    |       |\n",
            "| x4    | float       | YES  |     | NULL    |       |\n",
            "| label | varchar(16) | YES  |     | NULL    |       |\n",
            "+-------+-------------+------+-----+---------+-------+\n"
          ]
        }
      ]
    },
    {
      "cell_type": "code",
      "metadata": {
        "id": "nv3bQ5_sBqH8"
      },
      "source": [
        "#!mysql praxisDB -e 'truncate iris_data;'\n",
        "#!mysql praxisDB -e 'select count(*) from iris_data;'"
      ],
      "execution_count": 17,
      "outputs": []
    },
    {
      "cell_type": "code",
      "source": [
        "# Allow LOAD on server side   # https://stackoverflow.com/questions/59993844/error-loading-local-data-is-disabled-this-must-be-enabled-on-both-the-client\n",
        "!mysql praxisDB -e 'SET GLOBAL local_infile=1;'"
      ],
      "metadata": {
        "id": "LCXGU_urpzl3"
      },
      "execution_count": 51,
      "outputs": []
    },
    {
      "cell_type": "code",
      "metadata": {
        "id": "tmyuCy5zAPNP"
      },
      "source": [
        "!mysql --local-infile=1 praxisDB -e \"LOAD DATA LOCAL INFILE 'data.txt' INTO TABLE iris_data FIELDS TERMINATED BY ',' LINES TERMINATED BY '\\r\\n' ;\""
      ],
      "execution_count": 53,
      "outputs": []
    },
    {
      "cell_type": "code",
      "metadata": {
        "id": "yrrRV8BrAdZe",
        "colab": {
          "base_uri": "https://localhost:8080/"
        },
        "outputId": "52dedb80-d7fb-4650-f123-608123855114"
      },
      "source": [
        "!mysql praxisDB -e 'select count(*) from iris_data;'\n",
        "!mysql praxisDB -e 'select * from iris_data limit 5;'"
      ],
      "execution_count": 54,
      "outputs": [
        {
          "output_type": "stream",
          "name": "stdout",
          "text": [
            "+----------+\n",
            "| count(*) |\n",
            "+----------+\n",
            "|      150 |\n",
            "+----------+\n",
            "+------+------+------+------+-------------+\n",
            "| x1   | x2   | x3   | x4   | label       |\n",
            "+------+------+------+------+-------------+\n",
            "|  5.1 |  3.5 |  1.4 |  0.2 | Iris-setosa |\n",
            "|  4.9 |    3 |  1.4 |  0.2 | Iris-setosa |\n",
            "|  4.7 |  3.2 |  1.3 |  0.2 | Iris-setosa |\n",
            "|  4.6 |  3.1 |  1.5 |  0.2 | Iris-setosa |\n",
            "|    5 |  3.6 |  1.4 |  0.2 | Iris-setosa |\n",
            "+------+------+------+------+-------------+\n"
          ]
        }
      ]
    },
    {
      "cell_type": "code",
      "metadata": {
        "id": "lbTGqNd9DJdH"
      },
      "source": [
        "!mysql praxisDB -e 'drop table if exists km_iris;'\n",
        "!mysql praxisDB -e 'create table km_iris (id int auto_increment primary key, clusterID int, x1 float, x2 float, x3 float, x4 float, label varchar(16));'"
      ],
      "execution_count": 55,
      "outputs": []
    },
    {
      "cell_type": "code",
      "metadata": {
        "id": "MiiGK0YTDX1c",
        "colab": {
          "base_uri": "https://localhost:8080/"
        },
        "outputId": "732098dc-19bf-4e79-ae02-c4059d4d8343"
      },
      "source": [
        "!mysql praxisDB -e 'desc km_iris;'"
      ],
      "execution_count": 56,
      "outputs": [
        {
          "output_type": "stream",
          "name": "stdout",
          "text": [
            "+-----------+-------------+------+-----+---------+----------------+\n",
            "| Field     | Type        | Null | Key | Default | Extra          |\n",
            "+-----------+-------------+------+-----+---------+----------------+\n",
            "| id        | int         | NO   | PRI | NULL    | auto_increment |\n",
            "| clusterID | int         | YES  |     | NULL    |                |\n",
            "| x1        | float       | YES  |     | NULL    |                |\n",
            "| x2        | float       | YES  |     | NULL    |                |\n",
            "| x3        | float       | YES  |     | NULL    |                |\n",
            "| x4        | float       | YES  |     | NULL    |                |\n",
            "| label     | varchar(16) | YES  |     | NULL    |                |\n",
            "+-----------+-------------+------+-----+---------+----------------+\n"
          ]
        }
      ]
    },
    {
      "cell_type": "code",
      "metadata": {
        "id": "VC7YdR2xDs7P",
        "colab": {
          "base_uri": "https://localhost:8080/"
        },
        "outputId": "a5527d72-74c8-44e5-da45-f44cd0c5992f"
      },
      "source": [
        "%%writefile step10.sql\n",
        "INSERT INTO km_iris (clusterID,x1,x2,x3,x4,label)\n",
        "SELECT '0',x1,x2,x3,x4,label\n",
        "FROM iris_data;"
      ],
      "execution_count": 57,
      "outputs": [
        {
          "output_type": "stream",
          "name": "stdout",
          "text": [
            "Overwriting step10.sql\n"
          ]
        }
      ]
    },
    {
      "cell_type": "code",
      "metadata": {
        "id": "HpjM3WujEPV6"
      },
      "source": [
        "!mysql praxisDB --table < step10.sql"
      ],
      "execution_count": 58,
      "outputs": []
    },
    {
      "cell_type": "code",
      "metadata": {
        "id": "YF98v7q2ETSb",
        "colab": {
          "base_uri": "https://localhost:8080/"
        },
        "outputId": "e7e724cd-25bf-4d76-ae29-60df1890bc95"
      },
      "source": [
        "!mysql praxisDB -e 'select * from km_iris limit 10;'"
      ],
      "execution_count": 59,
      "outputs": [
        {
          "output_type": "stream",
          "name": "stdout",
          "text": [
            "+----+-----------+------+------+------+------+-------------+\n",
            "| id | clusterID | x1   | x2   | x3   | x4   | label       |\n",
            "+----+-----------+------+------+------+------+-------------+\n",
            "|  1 |         0 |  5.1 |  3.5 |  1.4 |  0.2 | Iris-setosa |\n",
            "|  2 |         0 |  4.9 |    3 |  1.4 |  0.2 | Iris-setosa |\n",
            "|  3 |         0 |  4.7 |  3.2 |  1.3 |  0.2 | Iris-setosa |\n",
            "|  4 |         0 |  4.6 |  3.1 |  1.5 |  0.2 | Iris-setosa |\n",
            "|  5 |         0 |    5 |  3.6 |  1.4 |  0.2 | Iris-setosa |\n",
            "|  6 |         0 |  5.4 |  3.9 |  1.7 |  0.4 | Iris-setosa |\n",
            "|  7 |         0 |  4.6 |  3.4 |  1.4 |  0.3 | Iris-setosa |\n",
            "|  8 |         0 |    5 |  3.4 |  1.5 |  0.2 | Iris-setosa |\n",
            "|  9 |         0 |  4.4 |  2.9 |  1.4 |  0.2 | Iris-setosa |\n",
            "| 10 |         0 |  4.9 |  3.1 |  1.5 |  0.1 | Iris-setosa |\n",
            "+----+-----------+------+------+------+------+-------------+\n"
          ]
        }
      ]
    },
    {
      "cell_type": "code",
      "metadata": {
        "id": "UsfT6l_DEv9W",
        "colab": {
          "base_uri": "https://localhost:8080/"
        },
        "outputId": "c46f3413-4cac-41be-c818-ecac8dbe48e3"
      },
      "source": [
        "%%writefile step11.sql\n",
        "\n",
        "drop table if exists km_clusters;  -- contains the final clusters centres\n",
        "drop table if exists km_steps;     -- shows intermediate steps\n",
        "create table km_clusters (id int auto_increment primary key, x1 float, x2 float, x3 float, x4 float);\n",
        "create table km_steps (id int, x1 float, x2 float, x3 float, x4 float);"
      ],
      "execution_count": 60,
      "outputs": [
        {
          "output_type": "stream",
          "name": "stdout",
          "text": [
            "Overwriting step11.sql\n"
          ]
        }
      ]
    },
    {
      "cell_type": "code",
      "metadata": {
        "id": "Oc75oC1oFb8U"
      },
      "source": [
        "!mysql praxisDB --table < step11.sql"
      ],
      "execution_count": 61,
      "outputs": []
    },
    {
      "cell_type": "code",
      "metadata": {
        "id": "rDeYWkdXHAPC",
        "colab": {
          "base_uri": "https://localhost:8080/"
        },
        "outputId": "c6c034b8-d21e-403a-d97f-8c780b47489c"
      },
      "source": [
        "%%writefile step14.sql\n",
        "drop procedure if exists kmeans;\n",
        "DELIMITER //\n",
        "CREATE PROCEDURE kmeans(v_K int)\n",
        "BEGIN\n",
        "TRUNCATE km_clusters;\n",
        "truncate km_steps;\n",
        "\n",
        "-- initialize cluster centers\n",
        "INSERT INTO km_clusters (x1, x2, x3,x4) SELECT x1, x2,x3,x4 FROM km_iris LIMIT v_K;\n",
        "REPEAT\n",
        "    insert into km_steps select * from km_clusters;\n",
        "    -- assign clusters to data points\n",
        "    UPDATE km_iris d SET clusterID = (SELECT id FROM km_clusters c\n",
        "        ORDER BY POW(d.x1-c.x1,2)+POW(d.x2-c.x2,2)+POW(d.x3-c.x3,2)+POW(d.x4-c.x4,2) ASC LIMIT 1);\n",
        "    -- calculate new cluster center\n",
        "    UPDATE km_clusters C, (SELECT clusterID,\n",
        "        AVG(x1) AS x1, AVG(x2) AS x2, AVG(x3) AS x3, AVG(x4) AS x4\n",
        "        FROM km_iris GROUP BY clusterID) D\n",
        "    SET C.x1=D.x1, C.x2=D.x2, C.x3=D.x3, C.x4=D.x4 WHERE C.id=D.clusterID;\n",
        "UNTIL ROW_COUNT() = 0 END REPEAT;\n",
        "END//"
      ],
      "execution_count": 62,
      "outputs": [
        {
          "output_type": "stream",
          "name": "stdout",
          "text": [
            "Overwriting step14.sql\n"
          ]
        }
      ]
    },
    {
      "cell_type": "code",
      "metadata": {
        "id": "XprO3A0FIQfx"
      },
      "source": [
        "!mysql praxisDB --table < step14.sql"
      ],
      "execution_count": 63,
      "outputs": []
    },
    {
      "cell_type": "code",
      "metadata": {
        "id": "bWPRcCakIcNA"
      },
      "source": [
        "!mysql praxisDB -e 'select * from km_clusters;'"
      ],
      "execution_count": 64,
      "outputs": []
    },
    {
      "cell_type": "code",
      "metadata": {
        "id": "pzoOc-htIkn-"
      },
      "source": [
        "!mysql praxisDB -e 'select * from km_steps;'"
      ],
      "execution_count": 65,
      "outputs": []
    },
    {
      "cell_type": "code",
      "metadata": {
        "id": "aOrEB1XVItRg"
      },
      "source": [
        "!mysql praxisDB -e 'call kmeans(3)'"
      ],
      "execution_count": 66,
      "outputs": []
    },
    {
      "cell_type": "code",
      "metadata": {
        "id": "A9lgIy68A3g1",
        "outputId": "b8bda051-e193-4a0a-ba37-4752fe554fed",
        "colab": {
          "base_uri": "https://localhost:8080/"
        }
      },
      "source": [
        "!mysql praxisDB -e 'select * from km_clusters;'"
      ],
      "execution_count": 67,
      "outputs": [
        {
          "output_type": "stream",
          "name": "stdout",
          "text": [
            "+----+---------+---------+---------+---------+\n",
            "| id | x1      | x2      | x3      | x4      |\n",
            "+----+---------+---------+---------+---------+\n",
            "|  1 | 6.85385 | 3.07692 | 5.71538 | 2.05385 |\n",
            "|  2 | 5.88361 | 2.74098 | 4.38852 | 1.43443 |\n",
            "|  3 |   5.006 |   3.418 |   1.464 |   0.244 |\n",
            "+----+---------+---------+---------+---------+\n"
          ]
        }
      ]
    },
    {
      "cell_type": "code",
      "metadata": {
        "id": "VunU7iw7I7sW",
        "colab": {
          "base_uri": "https://localhost:8080/"
        },
        "outputId": "8616eed6-8215-4f9f-a375-b47a5fd6f6ab"
      },
      "source": [
        "# look at 10 random rows from the output after clusters have been identified\n",
        "!mysql praxisDB -e 'select * from km_iris order by rand() limit 10;'"
      ],
      "execution_count": 68,
      "outputs": [
        {
          "output_type": "stream",
          "name": "stdout",
          "text": [
            "+-----+-----------+------+------+------+------+-----------------+\n",
            "| id  | clusterID | x1   | x2   | x3   | x4   | label           |\n",
            "+-----+-----------+------+------+------+------+-----------------+\n",
            "|  51 |         1 |    7 |  3.2 |  4.7 |  1.4 | Iris-versicolor |\n",
            "|  57 |         2 |  6.3 |  3.3 |  4.7 |  1.6 | Iris-versicolor |\n",
            "| 148 |         1 |  6.5 |    3 |  5.2 |    2 | Iris-virginica  |\n",
            "| 135 |         1 |  6.1 |  2.6 |  5.6 |  1.4 | Iris-virginica  |\n",
            "|  76 |         2 |  6.6 |    3 |  4.4 |  1.4 | Iris-versicolor |\n",
            "|  16 |         3 |  5.7 |  4.4 |  1.5 |  0.4 | Iris-setosa     |\n",
            "|  65 |         2 |  5.6 |  2.9 |  3.6 |  1.3 | Iris-versicolor |\n",
            "| 123 |         1 |  7.7 |  2.8 |  6.7 |    2 | Iris-virginica  |\n",
            "|   5 |         3 |    5 |  3.6 |  1.4 |  0.2 | Iris-setosa     |\n",
            "| 115 |         2 |  5.8 |  2.8 |  5.1 |  2.4 | Iris-virginica  |\n",
            "+-----+-----------+------+------+------+------+-----------------+\n"
          ]
        }
      ]
    },
    {
      "cell_type": "code",
      "metadata": {
        "id": "FHaHuYlEYKmT",
        "colab": {
          "base_uri": "https://localhost:8080/"
        },
        "outputId": "82c81fe6-8fb4-4ae4-d19f-124901924252"
      },
      "source": [
        "!mysql praxisDB -e 'select * from km_steps;'"
      ],
      "execution_count": 69,
      "outputs": [
        {
          "output_type": "stream",
          "name": "stdout",
          "text": [
            "+------+---------+---------+---------+---------+\n",
            "| id   | x1      | x2      | x3      | x4      |\n",
            "+------+---------+---------+---------+---------+\n",
            "|    1 |     5.1 |     3.5 |     1.4 |     0.2 |\n",
            "|    2 |     4.9 |       3 |     1.4 |     0.2 |\n",
            "|    3 |     4.7 |     3.2 |     1.3 |     0.2 |\n",
            "|    1 |  6.1618 | 3.25955 | 4.02809 | 1.33258 |\n",
            "|    2 |  5.5451 | 2.67059 | 3.76471 | 1.16078 |\n",
            "|    3 |    4.53 |    3.18 |    1.33 |     0.2 |\n",
            "|    1 | 6.53014 | 2.98356 | 5.24521 | 1.84247 |\n",
            "|    2 | 5.53704 | 2.57037 | 3.98889 | 1.22593 |\n",
            "|    3 |   5.006 |   3.418 |   1.464 |   0.244 |\n",
            "|    1 | 6.57727 | 2.99091 | 5.34848 | 1.89545 |\n",
            "|    2 |    5.65 | 2.64118 | 4.04706 |    1.25 |\n",
            "|    3 |   5.006 |   3.418 |   1.464 |   0.244 |\n",
            "|    1 | 6.60159 | 2.98571 | 5.38413 | 1.91587 |\n",
            "|    2 | 5.68378 | 2.67838 | 4.09189 | 1.26757 |\n",
            "|    3 |   5.006 |   3.418 |   1.464 |   0.244 |\n",
            "|    1 |  6.6322 | 2.99831 | 5.43051 | 1.93729 |\n",
            "|    2 | 5.72927 | 2.69024 | 4.15122 |     1.3 |\n",
            "|    3 |   5.006 |   3.418 |   1.464 |   0.244 |\n",
            "|    1 | 6.66481 | 3.00741 |     5.5 | 1.96852 |\n",
            "|    2 | 5.78913 | 2.71304 |  4.2087 | 1.33261 |\n",
            "|    3 |   5.006 |   3.418 |   1.464 |   0.244 |\n",
            "|    1 |   6.702 |   3.016 |   5.556 |   1.992 |\n",
            "|    2 |   5.822 |   2.728 |   4.256 |    1.36 |\n",
            "|    3 |   5.006 |   3.418 |   1.464 |   0.244 |\n",
            "|    1 | 6.76957 | 3.03696 |     5.6 |  2.0087 |\n",
            "|    2 | 5.82963 | 2.73148 | 4.31481 | 1.39259 |\n",
            "|    3 |   5.006 |   3.418 |   1.464 |   0.244 |\n",
            "|    1 | 6.80233 | 3.04419 | 5.64884 | 2.03023 |\n",
            "|    2 | 5.85439 | 2.74211 | 4.34561 | 1.40877 |\n",
            "|    3 |   5.006 |   3.418 |   1.464 |   0.244 |\n",
            "|    1 |  6.8275 |    3.07 |     5.7 |  2.0625 |\n",
            "|    2 |   5.885 |    2.74 | 4.37667 | 1.41833 |\n",
            "|    3 |   5.006 |   3.418 |   1.464 |   0.244 |\n",
            "|    1 | 6.85385 | 3.07692 | 5.71538 | 2.05385 |\n",
            "|    2 | 5.88361 | 2.74098 | 4.38852 | 1.43443 |\n",
            "|    3 |   5.006 |   3.418 |   1.464 |   0.244 |\n",
            "+------+---------+---------+---------+---------+\n"
          ]
        }
      ]
    },
    {
      "cell_type": "markdown",
      "metadata": {
        "id": "W4e-NPbCJx9r"
      },
      "source": [
        "# Predictions & Labels"
      ]
    },
    {
      "cell_type": "code",
      "metadata": {
        "id": "JqGhDRHRJwiu",
        "colab": {
          "base_uri": "https://localhost:8080/"
        },
        "outputId": "e1cde3c4-bba6-4b61-9c41-54c230442ab7"
      },
      "source": [
        "!mysql praxisDB -e 'select clusterID, label from km_iris;'"
      ],
      "execution_count": 70,
      "outputs": [
        {
          "output_type": "stream",
          "name": "stdout",
          "text": [
            "+-----------+-----------------+\n",
            "| clusterID | label           |\n",
            "+-----------+-----------------+\n",
            "|         3 | Iris-setosa     |\n",
            "|         3 | Iris-setosa     |\n",
            "|         3 | Iris-setosa     |\n",
            "|         3 | Iris-setosa     |\n",
            "|         3 | Iris-setosa     |\n",
            "|         3 | Iris-setosa     |\n",
            "|         3 | Iris-setosa     |\n",
            "|         3 | Iris-setosa     |\n",
            "|         3 | Iris-setosa     |\n",
            "|         3 | Iris-setosa     |\n",
            "|         3 | Iris-setosa     |\n",
            "|         3 | Iris-setosa     |\n",
            "|         3 | Iris-setosa     |\n",
            "|         3 | Iris-setosa     |\n",
            "|         3 | Iris-setosa     |\n",
            "|         3 | Iris-setosa     |\n",
            "|         3 | Iris-setosa     |\n",
            "|         3 | Iris-setosa     |\n",
            "|         3 | Iris-setosa     |\n",
            "|         3 | Iris-setosa     |\n",
            "|         3 | Iris-setosa     |\n",
            "|         3 | Iris-setosa     |\n",
            "|         3 | Iris-setosa     |\n",
            "|         3 | Iris-setosa     |\n",
            "|         3 | Iris-setosa     |\n",
            "|         3 | Iris-setosa     |\n",
            "|         3 | Iris-setosa     |\n",
            "|         3 | Iris-setosa     |\n",
            "|         3 | Iris-setosa     |\n",
            "|         3 | Iris-setosa     |\n",
            "|         3 | Iris-setosa     |\n",
            "|         3 | Iris-setosa     |\n",
            "|         3 | Iris-setosa     |\n",
            "|         3 | Iris-setosa     |\n",
            "|         3 | Iris-setosa     |\n",
            "|         3 | Iris-setosa     |\n",
            "|         3 | Iris-setosa     |\n",
            "|         3 | Iris-setosa     |\n",
            "|         3 | Iris-setosa     |\n",
            "|         3 | Iris-setosa     |\n",
            "|         3 | Iris-setosa     |\n",
            "|         3 | Iris-setosa     |\n",
            "|         3 | Iris-setosa     |\n",
            "|         3 | Iris-setosa     |\n",
            "|         3 | Iris-setosa     |\n",
            "|         3 | Iris-setosa     |\n",
            "|         3 | Iris-setosa     |\n",
            "|         3 | Iris-setosa     |\n",
            "|         3 | Iris-setosa     |\n",
            "|         3 | Iris-setosa     |\n",
            "|         1 | Iris-versicolor |\n",
            "|         2 | Iris-versicolor |\n",
            "|         1 | Iris-versicolor |\n",
            "|         2 | Iris-versicolor |\n",
            "|         2 | Iris-versicolor |\n",
            "|         2 | Iris-versicolor |\n",
            "|         2 | Iris-versicolor |\n",
            "|         2 | Iris-versicolor |\n",
            "|         2 | Iris-versicolor |\n",
            "|         2 | Iris-versicolor |\n",
            "|         2 | Iris-versicolor |\n",
            "|         2 | Iris-versicolor |\n",
            "|         2 | Iris-versicolor |\n",
            "|         2 | Iris-versicolor |\n",
            "|         2 | Iris-versicolor |\n",
            "|         2 | Iris-versicolor |\n",
            "|         2 | Iris-versicolor |\n",
            "|         2 | Iris-versicolor |\n",
            "|         2 | Iris-versicolor |\n",
            "|         2 | Iris-versicolor |\n",
            "|         2 | Iris-versicolor |\n",
            "|         2 | Iris-versicolor |\n",
            "|         2 | Iris-versicolor |\n",
            "|         2 | Iris-versicolor |\n",
            "|         2 | Iris-versicolor |\n",
            "|         2 | Iris-versicolor |\n",
            "|         2 | Iris-versicolor |\n",
            "|         1 | Iris-versicolor |\n",
            "|         2 | Iris-versicolor |\n",
            "|         2 | Iris-versicolor |\n",
            "|         2 | Iris-versicolor |\n",
            "|         2 | Iris-versicolor |\n",
            "|         2 | Iris-versicolor |\n",
            "|         2 | Iris-versicolor |\n",
            "|         2 | Iris-versicolor |\n",
            "|         2 | Iris-versicolor |\n",
            "|         2 | Iris-versicolor |\n",
            "|         2 | Iris-versicolor |\n",
            "|         2 | Iris-versicolor |\n",
            "|         2 | Iris-versicolor |\n",
            "|         2 | Iris-versicolor |\n",
            "|         2 | Iris-versicolor |\n",
            "|         2 | Iris-versicolor |\n",
            "|         2 | Iris-versicolor |\n",
            "|         2 | Iris-versicolor |\n",
            "|         2 | Iris-versicolor |\n",
            "|         2 | Iris-versicolor |\n",
            "|         2 | Iris-versicolor |\n",
            "|         2 | Iris-versicolor |\n",
            "|         2 | Iris-versicolor |\n",
            "|         1 | Iris-virginica  |\n",
            "|         2 | Iris-virginica  |\n",
            "|         1 | Iris-virginica  |\n",
            "|         1 | Iris-virginica  |\n",
            "|         1 | Iris-virginica  |\n",
            "|         1 | Iris-virginica  |\n",
            "|         2 | Iris-virginica  |\n",
            "|         1 | Iris-virginica  |\n",
            "|         1 | Iris-virginica  |\n",
            "|         1 | Iris-virginica  |\n",
            "|         1 | Iris-virginica  |\n",
            "|         1 | Iris-virginica  |\n",
            "|         1 | Iris-virginica  |\n",
            "|         2 | Iris-virginica  |\n",
            "|         2 | Iris-virginica  |\n",
            "|         1 | Iris-virginica  |\n",
            "|         1 | Iris-virginica  |\n",
            "|         1 | Iris-virginica  |\n",
            "|         1 | Iris-virginica  |\n",
            "|         2 | Iris-virginica  |\n",
            "|         1 | Iris-virginica  |\n",
            "|         2 | Iris-virginica  |\n",
            "|         1 | Iris-virginica  |\n",
            "|         2 | Iris-virginica  |\n",
            "|         1 | Iris-virginica  |\n",
            "|         1 | Iris-virginica  |\n",
            "|         2 | Iris-virginica  |\n",
            "|         2 | Iris-virginica  |\n",
            "|         1 | Iris-virginica  |\n",
            "|         1 | Iris-virginica  |\n",
            "|         1 | Iris-virginica  |\n",
            "|         1 | Iris-virginica  |\n",
            "|         1 | Iris-virginica  |\n",
            "|         2 | Iris-virginica  |\n",
            "|         1 | Iris-virginica  |\n",
            "|         1 | Iris-virginica  |\n",
            "|         1 | Iris-virginica  |\n",
            "|         1 | Iris-virginica  |\n",
            "|         2 | Iris-virginica  |\n",
            "|         1 | Iris-virginica  |\n",
            "|         1 | Iris-virginica  |\n",
            "|         1 | Iris-virginica  |\n",
            "|         2 | Iris-virginica  |\n",
            "|         1 | Iris-virginica  |\n",
            "|         1 | Iris-virginica  |\n",
            "|         1 | Iris-virginica  |\n",
            "|         2 | Iris-virginica  |\n",
            "|         1 | Iris-virginica  |\n",
            "|         1 | Iris-virginica  |\n",
            "|         2 | Iris-virginica  |\n",
            "+-----------+-----------------+\n"
          ]
        }
      ]
    },
    {
      "cell_type": "code",
      "metadata": {
        "id": "J1E85NI-OKyZ",
        "colab": {
          "base_uri": "https://localhost:8080/"
        },
        "outputId": "30452a03-48d8-449c-ccd8-3e2dc5c45098"
      },
      "source": [
        "%%writefile step21.sql\n",
        "select id, label,\n",
        "case\n",
        "  when label = 'Iris-setosa' then 3\n",
        "  when label = 'Iris-versicolor' then 2\n",
        "  when label = 'Iris-virginica' then 1\n",
        "  else  0\n",
        "end\n",
        "labelID,\n",
        "clusterID\n",
        "from km_iris"
      ],
      "execution_count": 71,
      "outputs": [
        {
          "output_type": "stream",
          "name": "stdout",
          "text": [
            "Overwriting step21.sql\n"
          ]
        }
      ]
    },
    {
      "cell_type": "code",
      "metadata": {
        "id": "OFFk5lK4Qxzz",
        "colab": {
          "base_uri": "https://localhost:8080/"
        },
        "outputId": "e1b1b58f-5629-4fc1-c68f-bd81743ffbc2"
      },
      "source": [
        "!mysql praxisDB --table < step21.sql"
      ],
      "execution_count": 72,
      "outputs": [
        {
          "output_type": "stream",
          "name": "stdout",
          "text": [
            "+-----+-----------------+---------+-----------+\n",
            "| id  | label           | labelID | clusterID |\n",
            "+-----+-----------------+---------+-----------+\n",
            "|   1 | Iris-setosa     |       3 |         3 |\n",
            "|   2 | Iris-setosa     |       3 |         3 |\n",
            "|   3 | Iris-setosa     |       3 |         3 |\n",
            "|   4 | Iris-setosa     |       3 |         3 |\n",
            "|   5 | Iris-setosa     |       3 |         3 |\n",
            "|   6 | Iris-setosa     |       3 |         3 |\n",
            "|   7 | Iris-setosa     |       3 |         3 |\n",
            "|   8 | Iris-setosa     |       3 |         3 |\n",
            "|   9 | Iris-setosa     |       3 |         3 |\n",
            "|  10 | Iris-setosa     |       3 |         3 |\n",
            "|  11 | Iris-setosa     |       3 |         3 |\n",
            "|  12 | Iris-setosa     |       3 |         3 |\n",
            "|  13 | Iris-setosa     |       3 |         3 |\n",
            "|  14 | Iris-setosa     |       3 |         3 |\n",
            "|  15 | Iris-setosa     |       3 |         3 |\n",
            "|  16 | Iris-setosa     |       3 |         3 |\n",
            "|  17 | Iris-setosa     |       3 |         3 |\n",
            "|  18 | Iris-setosa     |       3 |         3 |\n",
            "|  19 | Iris-setosa     |       3 |         3 |\n",
            "|  20 | Iris-setosa     |       3 |         3 |\n",
            "|  21 | Iris-setosa     |       3 |         3 |\n",
            "|  22 | Iris-setosa     |       3 |         3 |\n",
            "|  23 | Iris-setosa     |       3 |         3 |\n",
            "|  24 | Iris-setosa     |       3 |         3 |\n",
            "|  25 | Iris-setosa     |       3 |         3 |\n",
            "|  26 | Iris-setosa     |       3 |         3 |\n",
            "|  27 | Iris-setosa     |       3 |         3 |\n",
            "|  28 | Iris-setosa     |       3 |         3 |\n",
            "|  29 | Iris-setosa     |       3 |         3 |\n",
            "|  30 | Iris-setosa     |       3 |         3 |\n",
            "|  31 | Iris-setosa     |       3 |         3 |\n",
            "|  32 | Iris-setosa     |       3 |         3 |\n",
            "|  33 | Iris-setosa     |       3 |         3 |\n",
            "|  34 | Iris-setosa     |       3 |         3 |\n",
            "|  35 | Iris-setosa     |       3 |         3 |\n",
            "|  36 | Iris-setosa     |       3 |         3 |\n",
            "|  37 | Iris-setosa     |       3 |         3 |\n",
            "|  38 | Iris-setosa     |       3 |         3 |\n",
            "|  39 | Iris-setosa     |       3 |         3 |\n",
            "|  40 | Iris-setosa     |       3 |         3 |\n",
            "|  41 | Iris-setosa     |       3 |         3 |\n",
            "|  42 | Iris-setosa     |       3 |         3 |\n",
            "|  43 | Iris-setosa     |       3 |         3 |\n",
            "|  44 | Iris-setosa     |       3 |         3 |\n",
            "|  45 | Iris-setosa     |       3 |         3 |\n",
            "|  46 | Iris-setosa     |       3 |         3 |\n",
            "|  47 | Iris-setosa     |       3 |         3 |\n",
            "|  48 | Iris-setosa     |       3 |         3 |\n",
            "|  49 | Iris-setosa     |       3 |         3 |\n",
            "|  50 | Iris-setosa     |       3 |         3 |\n",
            "|  51 | Iris-versicolor |       2 |         1 |\n",
            "|  52 | Iris-versicolor |       2 |         2 |\n",
            "|  53 | Iris-versicolor |       2 |         1 |\n",
            "|  54 | Iris-versicolor |       2 |         2 |\n",
            "|  55 | Iris-versicolor |       2 |         2 |\n",
            "|  56 | Iris-versicolor |       2 |         2 |\n",
            "|  57 | Iris-versicolor |       2 |         2 |\n",
            "|  58 | Iris-versicolor |       2 |         2 |\n",
            "|  59 | Iris-versicolor |       2 |         2 |\n",
            "|  60 | Iris-versicolor |       2 |         2 |\n",
            "|  61 | Iris-versicolor |       2 |         2 |\n",
            "|  62 | Iris-versicolor |       2 |         2 |\n",
            "|  63 | Iris-versicolor |       2 |         2 |\n",
            "|  64 | Iris-versicolor |       2 |         2 |\n",
            "|  65 | Iris-versicolor |       2 |         2 |\n",
            "|  66 | Iris-versicolor |       2 |         2 |\n",
            "|  67 | Iris-versicolor |       2 |         2 |\n",
            "|  68 | Iris-versicolor |       2 |         2 |\n",
            "|  69 | Iris-versicolor |       2 |         2 |\n",
            "|  70 | Iris-versicolor |       2 |         2 |\n",
            "|  71 | Iris-versicolor |       2 |         2 |\n",
            "|  72 | Iris-versicolor |       2 |         2 |\n",
            "|  73 | Iris-versicolor |       2 |         2 |\n",
            "|  74 | Iris-versicolor |       2 |         2 |\n",
            "|  75 | Iris-versicolor |       2 |         2 |\n",
            "|  76 | Iris-versicolor |       2 |         2 |\n",
            "|  77 | Iris-versicolor |       2 |         2 |\n",
            "|  78 | Iris-versicolor |       2 |         1 |\n",
            "|  79 | Iris-versicolor |       2 |         2 |\n",
            "|  80 | Iris-versicolor |       2 |         2 |\n",
            "|  81 | Iris-versicolor |       2 |         2 |\n",
            "|  82 | Iris-versicolor |       2 |         2 |\n",
            "|  83 | Iris-versicolor |       2 |         2 |\n",
            "|  84 | Iris-versicolor |       2 |         2 |\n",
            "|  85 | Iris-versicolor |       2 |         2 |\n",
            "|  86 | Iris-versicolor |       2 |         2 |\n",
            "|  87 | Iris-versicolor |       2 |         2 |\n",
            "|  88 | Iris-versicolor |       2 |         2 |\n",
            "|  89 | Iris-versicolor |       2 |         2 |\n",
            "|  90 | Iris-versicolor |       2 |         2 |\n",
            "|  91 | Iris-versicolor |       2 |         2 |\n",
            "|  92 | Iris-versicolor |       2 |         2 |\n",
            "|  93 | Iris-versicolor |       2 |         2 |\n",
            "|  94 | Iris-versicolor |       2 |         2 |\n",
            "|  95 | Iris-versicolor |       2 |         2 |\n",
            "|  96 | Iris-versicolor |       2 |         2 |\n",
            "|  97 | Iris-versicolor |       2 |         2 |\n",
            "|  98 | Iris-versicolor |       2 |         2 |\n",
            "|  99 | Iris-versicolor |       2 |         2 |\n",
            "| 100 | Iris-versicolor |       2 |         2 |\n",
            "| 101 | Iris-virginica  |       1 |         1 |\n",
            "| 102 | Iris-virginica  |       1 |         2 |\n",
            "| 103 | Iris-virginica  |       1 |         1 |\n",
            "| 104 | Iris-virginica  |       1 |         1 |\n",
            "| 105 | Iris-virginica  |       1 |         1 |\n",
            "| 106 | Iris-virginica  |       1 |         1 |\n",
            "| 107 | Iris-virginica  |       1 |         2 |\n",
            "| 108 | Iris-virginica  |       1 |         1 |\n",
            "| 109 | Iris-virginica  |       1 |         1 |\n",
            "| 110 | Iris-virginica  |       1 |         1 |\n",
            "| 111 | Iris-virginica  |       1 |         1 |\n",
            "| 112 | Iris-virginica  |       1 |         1 |\n",
            "| 113 | Iris-virginica  |       1 |         1 |\n",
            "| 114 | Iris-virginica  |       1 |         2 |\n",
            "| 115 | Iris-virginica  |       1 |         2 |\n",
            "| 116 | Iris-virginica  |       1 |         1 |\n",
            "| 117 | Iris-virginica  |       1 |         1 |\n",
            "| 118 | Iris-virginica  |       1 |         1 |\n",
            "| 119 | Iris-virginica  |       1 |         1 |\n",
            "| 120 | Iris-virginica  |       1 |         2 |\n",
            "| 121 | Iris-virginica  |       1 |         1 |\n",
            "| 122 | Iris-virginica  |       1 |         2 |\n",
            "| 123 | Iris-virginica  |       1 |         1 |\n",
            "| 124 | Iris-virginica  |       1 |         2 |\n",
            "| 125 | Iris-virginica  |       1 |         1 |\n",
            "| 126 | Iris-virginica  |       1 |         1 |\n",
            "| 127 | Iris-virginica  |       1 |         2 |\n",
            "| 128 | Iris-virginica  |       1 |         2 |\n",
            "| 129 | Iris-virginica  |       1 |         1 |\n",
            "| 130 | Iris-virginica  |       1 |         1 |\n",
            "| 131 | Iris-virginica  |       1 |         1 |\n",
            "| 132 | Iris-virginica  |       1 |         1 |\n",
            "| 133 | Iris-virginica  |       1 |         1 |\n",
            "| 134 | Iris-virginica  |       1 |         2 |\n",
            "| 135 | Iris-virginica  |       1 |         1 |\n",
            "| 136 | Iris-virginica  |       1 |         1 |\n",
            "| 137 | Iris-virginica  |       1 |         1 |\n",
            "| 138 | Iris-virginica  |       1 |         1 |\n",
            "| 139 | Iris-virginica  |       1 |         2 |\n",
            "| 140 | Iris-virginica  |       1 |         1 |\n",
            "| 141 | Iris-virginica  |       1 |         1 |\n",
            "| 142 | Iris-virginica  |       1 |         1 |\n",
            "| 143 | Iris-virginica  |       1 |         2 |\n",
            "| 144 | Iris-virginica  |       1 |         1 |\n",
            "| 145 | Iris-virginica  |       1 |         1 |\n",
            "| 146 | Iris-virginica  |       1 |         1 |\n",
            "| 147 | Iris-virginica  |       1 |         2 |\n",
            "| 148 | Iris-virginica  |       1 |         1 |\n",
            "| 149 | Iris-virginica  |       1 |         1 |\n",
            "| 150 | Iris-virginica  |       1 |         2 |\n",
            "+-----+-----------------+---------+-----------+\n"
          ]
        }
      ]
    },
    {
      "cell_type": "code",
      "metadata": {
        "id": "Q5_O5xpfJHsJ",
        "colab": {
          "base_uri": "https://localhost:8080/"
        },
        "outputId": "78d983dd-41f9-444e-b253-873c02e9fff0"
      },
      "source": [
        "%%writefile step22.sql\n",
        "\n",
        "select K2.id, if(K2.labelID = K2.clusterID,'match','error') checkPL from (\n",
        "  select id, label,\n",
        "    case\n",
        "    when label = 'Iris-setosa' then 3\n",
        "    when label = 'Iris-versicolor' then 2\n",
        "    when label = 'Iris-virginica' then 1\n",
        "    else  0\n",
        "    end\n",
        "  labelID,\n",
        "  clusterID\n",
        "  from km_iris\n",
        "  ) K2"
      ],
      "execution_count": 38,
      "outputs": [
        {
          "output_type": "stream",
          "name": "stdout",
          "text": [
            "Writing step22.sql\n"
          ]
        }
      ]
    },
    {
      "cell_type": "code",
      "metadata": {
        "id": "fln7lHQRN1qi",
        "colab": {
          "base_uri": "https://localhost:8080/"
        },
        "outputId": "0e632703-e3c5-44d2-87cd-1f522aff74c8"
      },
      "source": [
        "!mysql praxisDB --table < step22.sql"
      ],
      "execution_count": 74,
      "outputs": [
        {
          "output_type": "stream",
          "name": "stdout",
          "text": [
            "+-----+---------+\n",
            "| id  | checkPL |\n",
            "+-----+---------+\n",
            "|   1 | match   |\n",
            "|   2 | match   |\n",
            "|   3 | match   |\n",
            "|   4 | match   |\n",
            "|   5 | match   |\n",
            "|   6 | match   |\n",
            "|   7 | match   |\n",
            "|   8 | match   |\n",
            "|   9 | match   |\n",
            "|  10 | match   |\n",
            "|  11 | match   |\n",
            "|  12 | match   |\n",
            "|  13 | match   |\n",
            "|  14 | match   |\n",
            "|  15 | match   |\n",
            "|  16 | match   |\n",
            "|  17 | match   |\n",
            "|  18 | match   |\n",
            "|  19 | match   |\n",
            "|  20 | match   |\n",
            "|  21 | match   |\n",
            "|  22 | match   |\n",
            "|  23 | match   |\n",
            "|  24 | match   |\n",
            "|  25 | match   |\n",
            "|  26 | match   |\n",
            "|  27 | match   |\n",
            "|  28 | match   |\n",
            "|  29 | match   |\n",
            "|  30 | match   |\n",
            "|  31 | match   |\n",
            "|  32 | match   |\n",
            "|  33 | match   |\n",
            "|  34 | match   |\n",
            "|  35 | match   |\n",
            "|  36 | match   |\n",
            "|  37 | match   |\n",
            "|  38 | match   |\n",
            "|  39 | match   |\n",
            "|  40 | match   |\n",
            "|  41 | match   |\n",
            "|  42 | match   |\n",
            "|  43 | match   |\n",
            "|  44 | match   |\n",
            "|  45 | match   |\n",
            "|  46 | match   |\n",
            "|  47 | match   |\n",
            "|  48 | match   |\n",
            "|  49 | match   |\n",
            "|  50 | match   |\n",
            "|  51 | error   |\n",
            "|  52 | match   |\n",
            "|  53 | error   |\n",
            "|  54 | match   |\n",
            "|  55 | match   |\n",
            "|  56 | match   |\n",
            "|  57 | match   |\n",
            "|  58 | match   |\n",
            "|  59 | match   |\n",
            "|  60 | match   |\n",
            "|  61 | match   |\n",
            "|  62 | match   |\n",
            "|  63 | match   |\n",
            "|  64 | match   |\n",
            "|  65 | match   |\n",
            "|  66 | match   |\n",
            "|  67 | match   |\n",
            "|  68 | match   |\n",
            "|  69 | match   |\n",
            "|  70 | match   |\n",
            "|  71 | match   |\n",
            "|  72 | match   |\n",
            "|  73 | match   |\n",
            "|  74 | match   |\n",
            "|  75 | match   |\n",
            "|  76 | match   |\n",
            "|  77 | match   |\n",
            "|  78 | error   |\n",
            "|  79 | match   |\n",
            "|  80 | match   |\n",
            "|  81 | match   |\n",
            "|  82 | match   |\n",
            "|  83 | match   |\n",
            "|  84 | match   |\n",
            "|  85 | match   |\n",
            "|  86 | match   |\n",
            "|  87 | match   |\n",
            "|  88 | match   |\n",
            "|  89 | match   |\n",
            "|  90 | match   |\n",
            "|  91 | match   |\n",
            "|  92 | match   |\n",
            "|  93 | match   |\n",
            "|  94 | match   |\n",
            "|  95 | match   |\n",
            "|  96 | match   |\n",
            "|  97 | match   |\n",
            "|  98 | match   |\n",
            "|  99 | match   |\n",
            "| 100 | match   |\n",
            "| 101 | match   |\n",
            "| 102 | error   |\n",
            "| 103 | match   |\n",
            "| 104 | match   |\n",
            "| 105 | match   |\n",
            "| 106 | match   |\n",
            "| 107 | error   |\n",
            "| 108 | match   |\n",
            "| 109 | match   |\n",
            "| 110 | match   |\n",
            "| 111 | match   |\n",
            "| 112 | match   |\n",
            "| 113 | match   |\n",
            "| 114 | error   |\n",
            "| 115 | error   |\n",
            "| 116 | match   |\n",
            "| 117 | match   |\n",
            "| 118 | match   |\n",
            "| 119 | match   |\n",
            "| 120 | error   |\n",
            "| 121 | match   |\n",
            "| 122 | error   |\n",
            "| 123 | match   |\n",
            "| 124 | error   |\n",
            "| 125 | match   |\n",
            "| 126 | match   |\n",
            "| 127 | error   |\n",
            "| 128 | error   |\n",
            "| 129 | match   |\n",
            "| 130 | match   |\n",
            "| 131 | match   |\n",
            "| 132 | match   |\n",
            "| 133 | match   |\n",
            "| 134 | error   |\n",
            "| 135 | match   |\n",
            "| 136 | match   |\n",
            "| 137 | match   |\n",
            "| 138 | match   |\n",
            "| 139 | error   |\n",
            "| 140 | match   |\n",
            "| 141 | match   |\n",
            "| 142 | match   |\n",
            "| 143 | error   |\n",
            "| 144 | match   |\n",
            "| 145 | match   |\n",
            "| 146 | match   |\n",
            "| 147 | error   |\n",
            "| 148 | match   |\n",
            "| 149 | match   |\n",
            "| 150 | error   |\n",
            "+-----+---------+\n"
          ]
        }
      ]
    },
    {
      "cell_type": "code",
      "metadata": {
        "id": "KqH8Lc0CPCv0",
        "colab": {
          "base_uri": "https://localhost:8080/"
        },
        "outputId": "71d70f24-b6da-4f87-90b0-d1f13b0a58d3"
      },
      "source": [
        "%%writefile step23.sql\n",
        "\n",
        "select\n",
        "count(if(K3.checkPL = 'match',1,NULL)) km_match,\n",
        "count(if(K3.checkPL = 'error',1,NULL)) km_error,\n",
        "count(if(K3.checkPL = 'match',1,NULL)) / (count(if(K3.checkPL = 'match',1,NULL)) +count(if(K3.checkPL = 'error',1,NULL))) success\n",
        "from (\n",
        "  select K2.id, if(K2.labelID = K2.clusterID,'match','error') checkPL from (\n",
        "    select id, label,\n",
        "      case\n",
        "      when label = 'Iris-setosa' then 3\n",
        "      when label = 'Iris-versicolor' then 2\n",
        "      when label = 'Iris-virginica' then 1\n",
        "      else  0\n",
        "      end\n",
        "     labelID,\n",
        "     clusterID\n",
        "    from km_iris\n",
        "    ) K2\n",
        "  ) K3"
      ],
      "execution_count": 75,
      "outputs": [
        {
          "output_type": "stream",
          "name": "stdout",
          "text": [
            "Overwriting step23.sql\n"
          ]
        }
      ]
    },
    {
      "cell_type": "code",
      "metadata": {
        "id": "jdRqBeCAPIC-",
        "colab": {
          "base_uri": "https://localhost:8080/"
        },
        "outputId": "e7f1ea35-18b0-4d5a-e747-79af8fb34f14"
      },
      "source": [
        "!mysql praxisDB --table < step23.sql"
      ],
      "execution_count": 76,
      "outputs": [
        {
          "output_type": "stream",
          "name": "stdout",
          "text": [
            "+----------+----------+---------+\n",
            "| km_match | km_error | success |\n",
            "+----------+----------+---------+\n",
            "|      133 |       17 |  0.8867 |\n",
            "+----------+----------+---------+\n"
          ]
        }
      ]
    },
    {
      "cell_type": "markdown",
      "metadata": {
        "id": "kPksyk6OpJ0y"
      },
      "source": [
        "#Chronobooks <br>\n",
        "![alt text](https://1.bp.blogspot.com/-lTiYBkU2qbU/X1er__fvnkI/AAAAAAAAjtE/GhDR3OEGJr4NG43fZPodrQD5kbxtnKebgCLcBGAsYHQ/s600/Footer2020-600x200.png)<hr>\n",
        "Chronotantra and Chronoyantra are two science fiction novels that explore the collapse of human civilisation on Earth and then its rebirth and reincarnation both on Earth as well as on the distant worlds of Mars, Titan and Enceladus. But is it the human civilisation that is being reborn? Or is it some other sentience that is revealing itself.\n",
        "If you have an interest in AI and found this material useful, you may consider buying these novel, in paperback or kindle, from [http://bit.ly/chronobooks](http://bit.ly/chronobooks)"
      ]
    }
  ]
}