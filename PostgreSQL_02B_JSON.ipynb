{
  "nbformat": 4,
  "nbformat_minor": 0,
  "metadata": {
    "colab": {
      "provenance": [],
      "toc_visible": true,
      "include_colab_link": true
    },
    "kernelspec": {
      "name": "python3",
      "display_name": "Python 3"
    },
    "language_info": {
      "name": "python"
    }
  },
  "cells": [
    {
      "cell_type": "markdown",
      "metadata": {
        "id": "view-in-github",
        "colab_type": "text"
      },
      "source": [
        "<a href=\"https://colab.research.google.com/github/Praxis-QR/RDWH/blob/main/PostgreSQL_02B_JSON.ipynb\" target=\"_parent\"><img src=\"https://colab.research.google.com/assets/colab-badge.svg\" alt=\"Open In Colab\"/></a>"
      ]
    },
    {
      "cell_type": "markdown",
      "source": [
        "![alt text](https://github.com/Praxis-QR/RDWH/raw/main/images/YantraJaalBanner.png)<br>\n",
        "\n",
        "\n",
        "<hr>\n",
        "\n",
        "[Prithwis Mukerjee](http://www.linkedin.com/in/prithwis)<br>"
      ],
      "metadata": {
        "id": "DBzz-qaN2tKu"
      }
    },
    {
      "cell_type": "markdown",
      "source": [
        "#Install, Configure Local Database"
      ],
      "metadata": {
        "id": "nD-QawLT6kDr"
      }
    },
    {
      "cell_type": "code",
      "source": [
        "# Install postgresql server\n",
        "\n",
        "!apt update > /dev/null\n",
        "!apt install postgresql > /dev/null\n",
        "#!pip install psycopg2\n",
        "import psycopg2\n",
        "import pandas as pd\n",
        "pd.set_option('display.max_colwidth', 500)\n",
        "#!sudo -u postgres psql -V\n",
        "!psql -V\n",
        "!service postgresql start"
      ],
      "metadata": {
        "colab": {
          "base_uri": "https://localhost:8080/"
        },
        "id": "o_RaqE0OOHP3",
        "outputId": "470b5c7e-5acb-4c53-cba6-67577fc9f0f6"
      },
      "execution_count": 1,
      "outputs": [
        {
          "output_type": "stream",
          "name": "stdout",
          "text": [
            "\n",
            "WARNING: apt does not have a stable CLI interface. Use with caution in scripts.\n",
            "\n",
            "\n",
            "WARNING: apt does not have a stable CLI interface. Use with caution in scripts.\n",
            "\n",
            "psql (PostgreSQL) 14.10 (Ubuntu 14.10-0ubuntu0.22.04.1)\n",
            " * Starting PostgreSQL 14 database server\n",
            "   ...done.\n"
          ]
        }
      ]
    },
    {
      "cell_type": "markdown",
      "source": [
        "## Local Configuration"
      ],
      "metadata": {
        "id": "--pn1fPO6ndu"
      }
    },
    {
      "cell_type": "code",
      "source": [
        "# This has created an Ubuntu user 'postgres' AND a Postgres database user 'postgres' both of which are superusers\n",
        "#!cat /etc/passwd\n",
        "# Use these users to create a new database user called 'upraxis' and give it a password 'upass'\n",
        "#!sudo -u postgres createuser --superuser upraxis\n",
        "!sudo -u postgres createuser upraxis\n",
        "!sudo -u postgres psql -U postgres -c \"ALTER USER upraxis PASSWORD 'upass';\"\n",
        "# Change the database superuser 'postgres' to a non-default value 'pass'\n",
        "!sudo -u postgres psql -U postgres -c \"ALTER USER postgres PASSWORD 'pass';\"\n",
        "# Use ubuntu superuser to create database dbpraxis and set its owner to upraxis\n",
        "!sudo -u postgres createdb -O upraxis dbpraxis\n",
        "# Create file to store the password. Else will be prompted each time\n",
        "#!echo \"localhost:5432:praxisdb:postgres:pass\" > ~/.pgpass\n",
        "!echo \"localhost:5432:dbpraxis:upraxis:upass\" > ~/.pgpass\n",
        "!echo \"localhost:5432:dbpraxis:postgres:pass\" >> ~/.pgpass\n",
        "!chmod 0600 ~/.pgpass\n",
        "!cat ~/.pgpass\n"
      ],
      "metadata": {
        "colab": {
          "base_uri": "https://localhost:8080/"
        },
        "id": "xr5kHaY_U4CZ",
        "outputId": "ded37f17-cd0e-4808-e62b-67aee2a81db2"
      },
      "execution_count": 2,
      "outputs": [
        {
          "output_type": "stream",
          "name": "stdout",
          "text": [
            "ALTER ROLE\n",
            "ALTER ROLE\n",
            "localhost:5432:dbpraxis:upraxis:upass\n",
            "localhost:5432:dbpraxis:postgres:pass\n"
          ]
        }
      ]
    },
    {
      "cell_type": "code",
      "source": [
        "# Local Colab server\n",
        "\n",
        "conn = psycopg2.connect(database=\"dbpraxis\", user='upraxis', password='upass', host='127.0.0.1', port= '5432')\n",
        "#Creating a cursor object using the cursor() method\n",
        "cursor = conn.cursor()\n",
        "#Executing an MYSQL function using the execute() method\n",
        "cursor.execute(\"select version()\")\n",
        "# Fetch a single row using fetchone() method.\n",
        "data = cursor.fetchone()\n",
        "print(\"Connection established to: \",data)\n",
        "#Closing the connection\n",
        "conn.close()"
      ],
      "metadata": {
        "colab": {
          "base_uri": "https://localhost:8080/"
        },
        "id": "HPGLhVCx3kFz",
        "outputId": "c11e33b6-7d1b-41ed-8b8b-a242733b8966"
      },
      "execution_count": 3,
      "outputs": [
        {
          "output_type": "stream",
          "name": "stdout",
          "text": [
            "Connection established to:  ('PostgreSQL 14.10 (Ubuntu 14.10-0ubuntu0.22.04.1) on x86_64-pc-linux-gnu, compiled by gcc (Ubuntu 11.4.0-1ubuntu1~22.04) 11.4.0, 64-bit',)\n"
          ]
        }
      ]
    },
    {
      "cell_type": "code",
      "source": [
        "def runSelect(s):\n",
        "    #Set up connection\n",
        "\n",
        "    conn = psycopg2.connect(database=\"dbpraxis\", user='upraxis', password='upass', host='127.0.0.1', port= '5432')\n",
        "    #Setting auto commit true\n",
        "    conn.autocommit = True\n",
        "    #Creating a cursor object using the cursor() method\n",
        "    cursor = conn.cursor()\n",
        "    #Retrieving data\n",
        "    cursor.execute(s)\n",
        "    #Fetching all rows from the table\n",
        "    result = cursor.fetchall();\n",
        "    #print(len(result))\n",
        "    if (len(result)) > 0:                                       # result contains at least one row\n",
        "        colnames = [desc[0] for desc in cursor.description]     # get column names\n",
        "        #print(colnames)\n",
        "        resultdf = pd.DataFrame(result)                         # convert list to dataframe\n",
        "        resultdf.columns = colnames                             # add column names\n",
        "        #return resultdf\n",
        "        return resultdf.style.hide()                            # hide the index\n",
        "    else:\n",
        "        print('no records found')\n",
        "        return\n",
        "# function to execute SQL non-select statements with Postgres\n",
        "#\n",
        "def runCmd(s):\n",
        "    #Create Connection\n",
        "    conn = psycopg2.connect(database=\"dbpraxis\", user='upraxis', password='upass', host='127.0.0.1', port= '5432')\n",
        "    #Creating a cursor object using the cursor() method\n",
        "    cursor = conn.cursor()\n",
        "    try:\n",
        "        cursor.execute(s)\n",
        "        print('Command executed')\n",
        "        conn.commit()\n",
        "    except:\n",
        "        print('Command failed')\n",
        "    #Closing the connection\n",
        "    conn.close()"
      ],
      "metadata": {
        "id": "JPWZ3Q1Y3x66"
      },
      "execution_count": 4,
      "outputs": []
    },
    {
      "cell_type": "markdown",
      "source": [
        "#Local Database"
      ],
      "metadata": {
        "id": "pHTdNzrU6qUE"
      }
    },
    {
      "cell_type": "markdown",
      "source": [
        "## Create Tables"
      ],
      "metadata": {
        "id": "uo61Cp0oaPHL"
      }
    },
    {
      "cell_type": "code",
      "source": [
        "!psql -h localhost -p 5432 -Uupraxis -d dbpraxis -c 'drop schema if exists js cascade'\n",
        "!psql -h localhost -p 5432 -Uupraxis -d dbpraxis -c 'create schema if not exists js'\n",
        "!psql -h localhost -p 5432 -Uupraxis -d dbpraxis -c '\\dn+'\n",
        "!psql -h localhost -p 5432 -Uupraxis -d dbpraxis -c 'drop table if exists js.orders'\n",
        "!psql -h localhost -p 5432 -Uupraxis -ddbpraxis -c '\\\n",
        "CREATE TABLE js.orders ( \\\n",
        "\tid serial NOT NULL PRIMARY KEY, \\\n",
        "\tinfo json NOT NULL \\\n",
        ");'\n",
        "\n",
        "#Describe the table ss_order\n",
        "!psql -h localhost -p 5432 -Uupraxis -ddbpraxis -c '\\d+ js.orders'"
      ],
      "metadata": {
        "colab": {
          "base_uri": "https://localhost:8080/"
        },
        "id": "DsUZ9JlEXIir",
        "outputId": "8f84acb4-89b5-45bc-cf98-a405d05e2c27"
      },
      "execution_count": 5,
      "outputs": [
        {
          "output_type": "stream",
          "name": "stdout",
          "text": [
            "NOTICE:  schema \"js\" does not exist, skipping\n",
            "DROP SCHEMA\n",
            "CREATE SCHEMA\n",
            "                          List of schemas\n",
            "  Name  |  Owner   |  Access privileges   |      Description       \n",
            "--------+----------+----------------------+------------------------\n",
            " js     | upraxis  |                      | \n",
            " public | postgres | postgres=UC/postgres+| standard public schema\n",
            "        |          | =UC/postgres         | \n",
            "(2 rows)\n",
            "\n",
            "NOTICE:  table \"orders\" does not exist, skipping\n",
            "DROP TABLE\n",
            "CREATE TABLE\n",
            "                                                           Table \"js.orders\"\n",
            " Column |  Type   | Collation | Nullable |                Default                | Storage  | Compression | Stats target | Description \n",
            "--------+---------+-----------+----------+---------------------------------------+----------+-------------+--------------+-------------\n",
            " id     | integer |           | not null | nextval('js.orders_id_seq'::regclass) | plain    |             |              | \n",
            " info   | json    |           | not null |                                       | extended |             |              | \n",
            "Indexes:\n",
            "    \"orders_pkey\" PRIMARY KEY, btree (id)\n",
            "Access method: heap\n",
            "\n"
          ]
        }
      ]
    },
    {
      "cell_type": "markdown",
      "source": [
        "## Load Data - Insert Option"
      ],
      "metadata": {
        "id": "9_OLx3qk_7qR"
      }
    },
    {
      "cell_type": "code",
      "source": [
        "cmd = \"\"\"INSERT INTO js.orders (info) VALUES('{ \"customer\": \"Kapil Dev\", \"items\": {\"product\": \"Heineken\",\"qty\": 6}}');\"\"\"\n",
        "#print(cmd)\n",
        "runCmd(cmd)\n",
        "runSelect('select * from js.orders')"
      ],
      "metadata": {
        "colab": {
          "base_uri": "https://localhost:8080/",
          "height": 98
        },
        "id": "3D-ExkhJgi6R",
        "outputId": "3a8274a8-ca45-48e8-b297-cdca0863056d"
      },
      "execution_count": 6,
      "outputs": [
        {
          "output_type": "stream",
          "name": "stdout",
          "text": [
            "Command executed\n"
          ]
        },
        {
          "output_type": "execute_result",
          "data": {
            "text/plain": [
              "<pandas.io.formats.style.Styler at 0x7f813fd0e530>"
            ],
            "text/html": [
              "<style type=\"text/css\">\n",
              "</style>\n",
              "<table id=\"T_e6f26\" class=\"dataframe\">\n",
              "  <thead>\n",
              "    <tr>\n",
              "      <th id=\"T_e6f26_level0_col0\" class=\"col_heading level0 col0\" >id</th>\n",
              "      <th id=\"T_e6f26_level0_col1\" class=\"col_heading level0 col1\" >info</th>\n",
              "    </tr>\n",
              "  </thead>\n",
              "  <tbody>\n",
              "    <tr>\n",
              "      <td id=\"T_e6f26_row0_col0\" class=\"data row0 col0\" >1</td>\n",
              "      <td id=\"T_e6f26_row0_col1\" class=\"data row0 col1\" >{'customer': 'Kapil Dev', 'items': {'product': 'Heineken', 'qty': 6}}</td>\n",
              "    </tr>\n",
              "  </tbody>\n",
              "</table>\n"
            ]
          },
          "metadata": {},
          "execution_count": 6
        }
      ]
    },
    {
      "cell_type": "code",
      "source": [
        "cmd = \"\"\"INSERT INTO js.orders (info) \\\n",
        "VALUES('{ \"customer\": \"Rekha Ganesan\", \"items\": {\"product\": \"Carlsberg\",\"qty\": 24}}'), \\\n",
        "      ('{ \"customer\": \"Madhuri Dikshit\", \"items\": {\"product\": \"Kalyani\",\"qty\": 12}}'), \\\n",
        "      ('{ \"customer\": \"Farokh Engineer\", \"items\": {\"product\": \"Kalyani Black\",\"qty\": 12}}'); \\\n",
        "\"\"\"\n",
        "#print(cmd)\n",
        "runCmd(cmd)\n",
        "runSelect('select * from js.orders')"
      ],
      "metadata": {
        "colab": {
          "base_uri": "https://localhost:8080/",
          "height": 192
        },
        "id": "-8nyu7XsjhXW",
        "outputId": "7e32db27-c7b3-4aa9-8250-de95e89ac2ef"
      },
      "execution_count": 7,
      "outputs": [
        {
          "output_type": "stream",
          "name": "stdout",
          "text": [
            "Command executed\n"
          ]
        },
        {
          "output_type": "execute_result",
          "data": {
            "text/plain": [
              "<pandas.io.formats.style.Styler at 0x7f813fd0dcf0>"
            ],
            "text/html": [
              "<style type=\"text/css\">\n",
              "</style>\n",
              "<table id=\"T_105c3\" class=\"dataframe\">\n",
              "  <thead>\n",
              "    <tr>\n",
              "      <th id=\"T_105c3_level0_col0\" class=\"col_heading level0 col0\" >id</th>\n",
              "      <th id=\"T_105c3_level0_col1\" class=\"col_heading level0 col1\" >info</th>\n",
              "    </tr>\n",
              "  </thead>\n",
              "  <tbody>\n",
              "    <tr>\n",
              "      <td id=\"T_105c3_row0_col0\" class=\"data row0 col0\" >1</td>\n",
              "      <td id=\"T_105c3_row0_col1\" class=\"data row0 col1\" >{'customer': 'Kapil Dev', 'items': {'product': 'Heineken', 'qty': 6}}</td>\n",
              "    </tr>\n",
              "    <tr>\n",
              "      <td id=\"T_105c3_row1_col0\" class=\"data row1 col0\" >2</td>\n",
              "      <td id=\"T_105c3_row1_col1\" class=\"data row1 col1\" >{'customer': 'Rekha Ganesan', 'items': {'product': 'Carlsberg', 'qty': 24}}</td>\n",
              "    </tr>\n",
              "    <tr>\n",
              "      <td id=\"T_105c3_row2_col0\" class=\"data row2 col0\" >3</td>\n",
              "      <td id=\"T_105c3_row2_col1\" class=\"data row2 col1\" >{'customer': 'Madhuri Dikshit', 'items': {'product': 'Kalyani', 'qty': 12}}</td>\n",
              "    </tr>\n",
              "    <tr>\n",
              "      <td id=\"T_105c3_row3_col0\" class=\"data row3 col0\" >4</td>\n",
              "      <td id=\"T_105c3_row3_col1\" class=\"data row3 col1\" >{'customer': 'Farokh Engineer', 'items': {'product': 'Kalyani Black', 'qty': 12}}</td>\n",
              "    </tr>\n",
              "  </tbody>\n",
              "</table>\n"
            ]
          },
          "metadata": {},
          "execution_count": 7
        }
      ]
    },
    {
      "cell_type": "code",
      "source": [
        "cmd = \"\"\"\\\n",
        "INSERT INTO js.orders (info) \\\n",
        "VALUES('{   \"customer\": \"Saina Nehwal\", \\\n",
        "            \"items\": [\\\n",
        "                {\"product\": \"Bira91\",\"qty\": 6}, \\\n",
        "                {\"product\": \"Kingfisher Light\",\"qty\": 6} \\\n",
        "            ] \\\n",
        "        }');\\\n",
        "\"\"\"\n",
        "#print(cmd)\n",
        "runCmd(cmd)\n",
        "runSelect('select * from js.orders')"
      ],
      "metadata": {
        "colab": {
          "base_uri": "https://localhost:8080/",
          "height": 224
        },
        "id": "0L9VSMnApDm3",
        "outputId": "ed9b4a3e-52ad-4851-d3b1-865bf9fea6f4"
      },
      "execution_count": 8,
      "outputs": [
        {
          "output_type": "stream",
          "name": "stdout",
          "text": [
            "Command executed\n"
          ]
        },
        {
          "output_type": "execute_result",
          "data": {
            "text/plain": [
              "<pandas.io.formats.style.Styler at 0x7f816e64f100>"
            ],
            "text/html": [
              "<style type=\"text/css\">\n",
              "</style>\n",
              "<table id=\"T_2389e\" class=\"dataframe\">\n",
              "  <thead>\n",
              "    <tr>\n",
              "      <th id=\"T_2389e_level0_col0\" class=\"col_heading level0 col0\" >id</th>\n",
              "      <th id=\"T_2389e_level0_col1\" class=\"col_heading level0 col1\" >info</th>\n",
              "    </tr>\n",
              "  </thead>\n",
              "  <tbody>\n",
              "    <tr>\n",
              "      <td id=\"T_2389e_row0_col0\" class=\"data row0 col0\" >1</td>\n",
              "      <td id=\"T_2389e_row0_col1\" class=\"data row0 col1\" >{'customer': 'Kapil Dev', 'items': {'product': 'Heineken', 'qty': 6}}</td>\n",
              "    </tr>\n",
              "    <tr>\n",
              "      <td id=\"T_2389e_row1_col0\" class=\"data row1 col0\" >2</td>\n",
              "      <td id=\"T_2389e_row1_col1\" class=\"data row1 col1\" >{'customer': 'Rekha Ganesan', 'items': {'product': 'Carlsberg', 'qty': 24}}</td>\n",
              "    </tr>\n",
              "    <tr>\n",
              "      <td id=\"T_2389e_row2_col0\" class=\"data row2 col0\" >3</td>\n",
              "      <td id=\"T_2389e_row2_col1\" class=\"data row2 col1\" >{'customer': 'Madhuri Dikshit', 'items': {'product': 'Kalyani', 'qty': 12}}</td>\n",
              "    </tr>\n",
              "    <tr>\n",
              "      <td id=\"T_2389e_row3_col0\" class=\"data row3 col0\" >4</td>\n",
              "      <td id=\"T_2389e_row3_col1\" class=\"data row3 col1\" >{'customer': 'Farokh Engineer', 'items': {'product': 'Kalyani Black', 'qty': 12}}</td>\n",
              "    </tr>\n",
              "    <tr>\n",
              "      <td id=\"T_2389e_row4_col0\" class=\"data row4 col0\" >5</td>\n",
              "      <td id=\"T_2389e_row4_col1\" class=\"data row4 col1\" >{'customer': 'Saina Nehwal', 'items': [{'product': 'Bira91', 'qty': 6}, {'product': 'Kingfisher Light', 'qty': 6}]}</td>\n",
              "    </tr>\n",
              "  </tbody>\n",
              "</table>\n"
            ]
          },
          "metadata": {},
          "execution_count": 8
        }
      ]
    },
    {
      "cell_type": "markdown",
      "source": [
        "## Load Data - Copy Option"
      ],
      "metadata": {
        "id": "5m94A6FmACUd"
      }
    },
    {
      "cell_type": "code",
      "source": [
        "%%writefile data.json\n",
        "{ \"customer\": \"Kapil Dev\", \"items\": {\"product\": \"Heineken\",\"qty\": 6}}\n",
        "{ \"customer\": \"Rekha Ganesan\", \"items\": {\"product\": \"Carlsberg\",\"qty\": 24}}\n",
        "{ \"customer\": \"Madhuri Dikshit\", \"items\": {\"product\": \"Kalyani\",\"qty\": 12}}\n",
        "{ \"customer\": \"Farokh Engineer\", \"items\": {\"product\": \"Kalyani Black\",\"qty\": 12}}"
      ],
      "metadata": {
        "colab": {
          "base_uri": "https://localhost:8080/"
        },
        "id": "-x331d2p7QJA",
        "outputId": "42576883-4bb4-46e7-e854-0b3700ef88c5"
      },
      "execution_count": 9,
      "outputs": [
        {
          "output_type": "stream",
          "name": "stdout",
          "text": [
            "Writing data.json\n"
          ]
        }
      ]
    },
    {
      "cell_type": "code",
      "source": [
        "!cat data.json"
      ],
      "metadata": {
        "colab": {
          "base_uri": "https://localhost:8080/"
        },
        "id": "9Ui5FZtE7W0X",
        "outputId": "ff729dda-ac5c-4c50-874f-3193cbfa0759"
      },
      "execution_count": 10,
      "outputs": [
        {
          "output_type": "stream",
          "name": "stdout",
          "text": [
            "{ \"customer\": \"Kapil Dev\", \"items\": {\"product\": \"Heineken\",\"qty\": 6}}\n",
            "{ \"customer\": \"Rekha Ganesan\", \"items\": {\"product\": \"Carlsberg\",\"qty\": 24}}\n",
            "{ \"customer\": \"Madhuri Dikshit\", \"items\": {\"product\": \"Kalyani\",\"qty\": 12}}\n",
            "{ \"customer\": \"Farokh Engineer\", \"items\": {\"product\": \"Kalyani Black\",\"qty\": 12}}\n"
          ]
        }
      ]
    },
    {
      "cell_type": "code",
      "source": [
        "# Only superuser ('postgres') can use copy command, not even database owner ('upraxis')\n",
        "# 'postgres' password has to be entered manually\n",
        "#\n",
        "!psql -h localhost -p 5432 -Upostgres -ddbpraxis -c \"truncate js.orders ;\"\n",
        "!psql -h localhost -p 5432 -Upostgres -ddbpraxis -c \"COPY js.orders(info) FROM '/content/data.json' ;\"\n",
        "#!psql -h localhost -p 5432 -Upostgres -ddbpraxis -c \"COPY empl FROM '/content/emp.csv' DELIMITER ',' CSV HEADER;\""
      ],
      "metadata": {
        "id": "tkt8-kUhAgzA",
        "outputId": "f0376299-2408-4a9d-a0c1-a036563cb429",
        "colab": {
          "base_uri": "https://localhost:8080/"
        }
      },
      "execution_count": 11,
      "outputs": [
        {
          "output_type": "stream",
          "name": "stdout",
          "text": [
            "TRUNCATE TABLE\n",
            "COPY 4\n"
          ]
        }
      ]
    },
    {
      "cell_type": "code",
      "source": [
        "# Data deleted by serial number NOT reset\n",
        "runSelect('select * from js.orders')"
      ],
      "metadata": {
        "colab": {
          "base_uri": "https://localhost:8080/",
          "height": 175
        },
        "id": "1JOkxOYB8rR7",
        "outputId": "b54e059b-44ef-4e94-97a1-abd9017e63c0"
      },
      "execution_count": 12,
      "outputs": [
        {
          "output_type": "execute_result",
          "data": {
            "text/plain": [
              "<pandas.io.formats.style.Styler at 0x7f816e5ae980>"
            ],
            "text/html": [
              "<style type=\"text/css\">\n",
              "</style>\n",
              "<table id=\"T_07df2\" class=\"dataframe\">\n",
              "  <thead>\n",
              "    <tr>\n",
              "      <th id=\"T_07df2_level0_col0\" class=\"col_heading level0 col0\" >id</th>\n",
              "      <th id=\"T_07df2_level0_col1\" class=\"col_heading level0 col1\" >info</th>\n",
              "    </tr>\n",
              "  </thead>\n",
              "  <tbody>\n",
              "    <tr>\n",
              "      <td id=\"T_07df2_row0_col0\" class=\"data row0 col0\" >6</td>\n",
              "      <td id=\"T_07df2_row0_col1\" class=\"data row0 col1\" >{'customer': 'Kapil Dev', 'items': {'product': 'Heineken', 'qty': 6}}</td>\n",
              "    </tr>\n",
              "    <tr>\n",
              "      <td id=\"T_07df2_row1_col0\" class=\"data row1 col0\" >7</td>\n",
              "      <td id=\"T_07df2_row1_col1\" class=\"data row1 col1\" >{'customer': 'Rekha Ganesan', 'items': {'product': 'Carlsberg', 'qty': 24}}</td>\n",
              "    </tr>\n",
              "    <tr>\n",
              "      <td id=\"T_07df2_row2_col0\" class=\"data row2 col0\" >8</td>\n",
              "      <td id=\"T_07df2_row2_col1\" class=\"data row2 col1\" >{'customer': 'Madhuri Dikshit', 'items': {'product': 'Kalyani', 'qty': 12}}</td>\n",
              "    </tr>\n",
              "    <tr>\n",
              "      <td id=\"T_07df2_row3_col0\" class=\"data row3 col0\" >9</td>\n",
              "      <td id=\"T_07df2_row3_col1\" class=\"data row3 col1\" >{'customer': 'Farokh Engineer', 'items': {'product': 'Kalyani Black', 'qty': 12}}</td>\n",
              "    </tr>\n",
              "  </tbody>\n",
              "</table>\n"
            ]
          },
          "metadata": {},
          "execution_count": 12
        }
      ]
    },
    {
      "cell_type": "code",
      "source": [
        "%%writefile data.json\n",
        "{ \"customer\": \"Kapil\", \"items\": {\"product\": \"Heineken\",\"qty\": 6}}\n",
        "{ \"customer\": \"Satyen\", \"items\": {\"product\": \"Heineken\",\"qty\": 18}}\n",
        "{ \"customer\": \"Rekha\", \"items\": {\"product\": \"Carlsberg\",\"qty\": 24}}\n",
        "{ \"customer\": \"Madhuri\", \"items\": {\"product\": \"Kalyani\",\"qty\": 12}}\n",
        "{ \"customer\": \"Srinivas\", \"items\": {\"product\": \"Kingfisher Strong\",\"qty\": 12}}\n",
        "{ \"customer\": \"Saina\", \"items\": [{\"product\": \"Bira91\",\"qty\": 6},{\"product\": \"Kalyani\",\"qty\": 6} ]}"
      ],
      "metadata": {
        "colab": {
          "base_uri": "https://localhost:8080/"
        },
        "id": "UYdw6qYP9HBw",
        "outputId": "c7fdebde-1ecd-44c5-d58d-9639805312c2"
      },
      "execution_count": 43,
      "outputs": [
        {
          "output_type": "stream",
          "name": "stdout",
          "text": [
            "Overwriting data.json\n"
          ]
        }
      ]
    },
    {
      "cell_type": "code",
      "source": [
        "# Only superuser ('postgres') can use copy command, not even database owner ('upraxis')\n",
        "# 'postgres' password has to be entered manually\n",
        "#\n",
        "!psql -h localhost -p 5432 -Upostgres -ddbpraxis -c \"truncate js.orders restart identity;\"\n",
        "!psql -h localhost -p 5432 -Upostgres -ddbpraxis -c \"COPY js.orders(info) FROM '/content/data.json' ;\"\n",
        "#!psql -h localhost -p 5432 -Upostgres -ddbpraxis -c \"COPY empl FROM '/content/emp.csv' DELIMITER ',' CSV HEADER;\""
      ],
      "metadata": {
        "colab": {
          "base_uri": "https://localhost:8080/"
        },
        "id": "-cJbIdvZ9hUa",
        "outputId": "457d8e83-7259-4266-bacb-f67f4783cb09"
      },
      "execution_count": 44,
      "outputs": [
        {
          "output_type": "stream",
          "name": "stdout",
          "text": [
            "TRUNCATE TABLE\n",
            "COPY 6\n"
          ]
        }
      ]
    },
    {
      "cell_type": "code",
      "source": [
        "runSelect('select * from js.orders')"
      ],
      "metadata": {
        "colab": {
          "base_uri": "https://localhost:8080/",
          "height": 238
        },
        "id": "Wer761om9oQ_",
        "outputId": "75752c29-6099-4037-a3fb-0b3ec5b6e3eb"
      },
      "execution_count": 45,
      "outputs": [
        {
          "output_type": "execute_result",
          "data": {
            "text/plain": [
              "<pandas.io.formats.style.Styler at 0x7f813fad3d60>"
            ],
            "text/html": [
              "<style type=\"text/css\">\n",
              "</style>\n",
              "<table id=\"T_ac89d\" class=\"dataframe\">\n",
              "  <thead>\n",
              "    <tr>\n",
              "      <th id=\"T_ac89d_level0_col0\" class=\"col_heading level0 col0\" >id</th>\n",
              "      <th id=\"T_ac89d_level0_col1\" class=\"col_heading level0 col1\" >info</th>\n",
              "    </tr>\n",
              "  </thead>\n",
              "  <tbody>\n",
              "    <tr>\n",
              "      <td id=\"T_ac89d_row0_col0\" class=\"data row0 col0\" >1</td>\n",
              "      <td id=\"T_ac89d_row0_col1\" class=\"data row0 col1\" >{'customer': 'Kapil', 'items': {'product': 'Heineken', 'qty': 6}}</td>\n",
              "    </tr>\n",
              "    <tr>\n",
              "      <td id=\"T_ac89d_row1_col0\" class=\"data row1 col0\" >2</td>\n",
              "      <td id=\"T_ac89d_row1_col1\" class=\"data row1 col1\" >{'customer': 'Satyen', 'items': {'product': 'Heineken', 'qty': 18}}</td>\n",
              "    </tr>\n",
              "    <tr>\n",
              "      <td id=\"T_ac89d_row2_col0\" class=\"data row2 col0\" >3</td>\n",
              "      <td id=\"T_ac89d_row2_col1\" class=\"data row2 col1\" >{'customer': 'Rekha', 'items': {'product': 'Carlsberg', 'qty': 24}}</td>\n",
              "    </tr>\n",
              "    <tr>\n",
              "      <td id=\"T_ac89d_row3_col0\" class=\"data row3 col0\" >4</td>\n",
              "      <td id=\"T_ac89d_row3_col1\" class=\"data row3 col1\" >{'customer': 'Madhuri', 'items': {'product': 'Kalyani', 'qty': 12}}</td>\n",
              "    </tr>\n",
              "    <tr>\n",
              "      <td id=\"T_ac89d_row4_col0\" class=\"data row4 col0\" >5</td>\n",
              "      <td id=\"T_ac89d_row4_col1\" class=\"data row4 col1\" >{'customer': 'Srinivas', 'items': {'product': 'Kingfisher Strong', 'qty': 12}}</td>\n",
              "    </tr>\n",
              "    <tr>\n",
              "      <td id=\"T_ac89d_row5_col0\" class=\"data row5 col0\" >6</td>\n",
              "      <td id=\"T_ac89d_row5_col1\" class=\"data row5 col1\" >{'customer': 'Saina', 'items': [{'product': 'Bira91', 'qty': 6}, {'product': 'Kalyani', 'qty': 6}]}</td>\n",
              "    </tr>\n",
              "  </tbody>\n",
              "</table>\n"
            ]
          },
          "metadata": {},
          "execution_count": 45
        }
      ]
    },
    {
      "cell_type": "markdown",
      "source": [
        "# Access Data"
      ],
      "metadata": {
        "id": "hZscFeNNB1ja"
      }
    },
    {
      "cell_type": "code",
      "source": [
        "#!psql -h localhost -p 5432 -Upostgres -dpraxisdb -c \"select * from dept;\"\n",
        "cmd = \"select * from js.orders;\"\n",
        "!psql -h localhost -p 5432 -Uupraxis -ddbpraxis -c \"$cmd\""
      ],
      "metadata": {
        "colab": {
          "base_uri": "https://localhost:8080/"
        },
        "id": "HyBUhbAI2PV1",
        "outputId": "a54e7f7d-5bb5-46d2-a2ac-0e4f047b611c"
      },
      "execution_count": 46,
      "outputs": [
        {
          "output_type": "stream",
          "name": "stdout",
          "text": [
            " id |                                                info                                                \n",
            "----+----------------------------------------------------------------------------------------------------\n",
            "  1 | { \"customer\": \"Kapil\", \"items\": {\"product\": \"Heineken\",\"qty\": 6}}\n",
            "  2 | { \"customer\": \"Satyen\", \"items\": {\"product\": \"Heineken\",\"qty\": 18}}\n",
            "  3 | { \"customer\": \"Rekha\", \"items\": {\"product\": \"Carlsberg\",\"qty\": 24}}\n",
            "  4 | { \"customer\": \"Madhuri\", \"items\": {\"product\": \"Kalyani\",\"qty\": 12}}\n",
            "  5 | { \"customer\": \"Srinivas\", \"items\": {\"product\": \"Kingfisher Strong\",\"qty\": 12}}\n",
            "  6 | { \"customer\": \"Saina\", \"items\": [{\"product\": \"Bira91\",\"qty\": 6},{\"product\": \"Kalyani\",\"qty\": 6} ]}\n",
            "(6 rows)\n",
            "\n"
          ]
        }
      ]
    },
    {
      "cell_type": "code",
      "source": [
        "cmd = \"SELECT info ->> 'customer' AS customer FROM js.orders WHERE info -> 'items' ->> 'product' = 'Heineken'; \"\n",
        "#print(cmd)\n",
        "!psql -h localhost -p 5432 -Uupraxis -ddbpraxis -c \"$cmd\""
      ],
      "metadata": {
        "colab": {
          "base_uri": "https://localhost:8080/"
        },
        "id": "XSPFFq4OHRc7",
        "outputId": "e2a0f24d-1f5f-4fbb-a762-78c42e664736"
      },
      "execution_count": 47,
      "outputs": [
        {
          "output_type": "stream",
          "name": "stdout",
          "text": [
            " customer \n",
            "----------\n",
            " Kapil\n",
            " Satyen\n",
            "(2 rows)\n",
            "\n"
          ]
        }
      ]
    },
    {
      "cell_type": "code",
      "source": [
        "cmd = \"SELECT info ->> 'customer' AS customer FROM js.orders WHERE info -> 'items' ->> 'product' = 'Kalyani'; \"\n",
        "#print(cmd)\n",
        "!psql -h localhost -p 5432 -Uupraxis -ddbpraxis -c \"$cmd\""
      ],
      "metadata": {
        "colab": {
          "base_uri": "https://localhost:8080/"
        },
        "id": "g5uW53rMBixo",
        "outputId": "c3ab89a9-a0d9-4fbb-cd02-8b80e3dceaf7"
      },
      "execution_count": 42,
      "outputs": [
        {
          "output_type": "stream",
          "name": "stdout",
          "text": [
            "    customer     \n",
            "-----------------\n",
            " Madhuri Dikshit\n",
            "(1 row)\n",
            "\n"
          ]
        }
      ]
    },
    {
      "cell_type": "code",
      "source": [
        "!psql -h localhost -p 5432 -Uupraxis -ddbpraxis -c \"SELECT json_each (info) FROM js.orders;\""
      ],
      "metadata": {
        "colab": {
          "base_uri": "https://localhost:8080/"
        },
        "id": "byY2iccO4ctF",
        "outputId": "25bdd421-14f4-4486-e412-cc945f096449"
      },
      "execution_count": 27,
      "outputs": [
        {
          "output_type": "stream",
          "name": "stdout",
          "text": [
            "                                        json_each                                        \n",
            "-----------------------------------------------------------------------------------------\n",
            " (customer,\"\"\"Kapil Dev\"\"\")\n",
            " (items,\"{\"\"product\"\": \"\"Heineken\"\",\"\"qty\"\": 6}\")\n",
            " (customer,\"\"\"Rekha Ganesan\"\"\")\n",
            " (items,\"{\"\"product\"\": \"\"Carlsberg\"\",\"\"qty\"\": 24}\")\n",
            " (customer,\"\"\"Madhuri Dikshit\"\"\")\n",
            " (items,\"{\"\"product\"\": \"\"Kalyani\"\",\"\"qty\"\": 12}\")\n",
            " (customer,\"\"\"Farokh Engineer\"\"\")\n",
            " (items,\"{\"\"product\"\": \"\"Kingfisher Strong\"\",\"\"qty\"\": 12}\")\n",
            " (customer,\"\"\"Saina Nehwal\"\"\")\n",
            " (items,\"[{\"\"product\"\": \"\"Bira91\"\",\"\"qty\"\": 6},{\"\"product\"\": \"\"Kalyani\"\",\"\"qty\"\": 6} ]\")\n",
            "(10 rows)\n",
            "\n"
          ]
        }
      ]
    },
    {
      "cell_type": "code",
      "source": [
        "!psql -h localhost -p 5432 -U upraxis -d dbpraxis -c \"select distinct * from empl, dept where empl.deptid = dept.deptid;\""
      ],
      "metadata": {
        "colab": {
          "base_uri": "https://localhost:8080/"
        },
        "id": "-0J9N3_J4wfa",
        "outputId": "03662d7a-2abf-4560-ef82-939cdacdb5d9"
      },
      "execution_count": null,
      "outputs": [
        {
          "output_type": "stream",
          "name": "stdout",
          "text": [
            " empid  |  lastname   | firstname |  jobdesc   |  joindate  | salary | comm | deptid | deptid |  deptname  | managerid | location \n",
            "--------+-------------+-----------+------------+------------+--------+------+--------+--------+------------+-----------+----------\n",
            " 546223 | Karthikeyan | Narayan   | Secretary  | 2005-12-04 |  40000 | 0.09 | 10     | 10     | Corporate  | 299034    | Calcutta\n",
            " 239456 | Khan        | Shahrukh  | Manager    | 2004-01-03 |  30000 | 0.07 | 20     | 20     | Sales      | 239456    | Calcutta\n",
            " 123980 | Dhoni       | Mahender  | Clerk      | 2004-10-09 |   9000 | 0.02 | 40     | 40     | Production | 349870    | Bombay\n",
            " 299034 | Ganesan     | Rekha     | Director   | 2002-10-10 |  60000 | 0.11 | 10     | 10     | Corporate  | 299034    | Calcutta\n",
            " 742866 | Bacchan     | Amitabh   | Executive  | 2003-03-10 |  50000 | 0.10 | 10     | 10     | Corporate  | 299034    | Calcutta\n",
            " 349870 | Mukherjee   | Rani      | Manager    | 2005-05-04 |  25000 | 0.06 | 40     | 40     | Production | 349870    | Bombay\n",
            " 989007 | Ganguly     | Sourav    | Cus_Rep    | 2002-01-01 |  20000 | 0.03 | 40     | 40     | Production | 349870    | Bombay\n",
            " 865477 | Dikshit     | Madhuri   | Clerk      | 2002-04-04 |  10000 | 0.02 | 20     | 20     | Sales      | 239456    | Calcutta\n",
            " 223112 | Mirza       | Sania     | Cus_Rep    | 2001-11-19 |  25000 | 0.04 | 30     | 30     | Accounts   | 822134    | Calcutta\n",
            " 997445 | Dalmia      | Jagmohan  | Clerk      | 2001-07-01 |  12000 | 0.02 | 30     | 30     | Accounts   | 822134    | Calcutta\n",
            " 822134 | Dravid      | Rahul     | Sr Manager | 2000-06-04 |  40000 | 0.08 | 30     | 30     | Accounts   | 822134    | Calcutta\n",
            " 897889 | Sehwag      | Virender  | Cus_Rep    | 2005-01-02 |  15000 | 0.05 | 20     | 20     | Sales      | 239456    | Calcutta\n",
            "(12 rows)\n",
            "\n"
          ]
        }
      ]
    },
    {
      "cell_type": "markdown",
      "source": [
        "#Chronobooks <br>\n",
        "Two science fiction novels by Prithwis Mukerjee. A dystopian Earth. A technocratic society managed by artificial intelligence. Escape and epiphany on Mars. Can man and machine, carbon and silicon explore and escape into other dimensions of existence? An Indic perspective rooted in Advaita Vedanta and the Divine Feminine.  [More information](http://bit.ly/chronobooks) <br>\n",
        "![alt text](https://github.com/Praxis-QR/RDWH/raw/main/images/CTCYFooter-1.png)"
      ],
      "metadata": {
        "id": "_gNiZpyW3AzJ"
      }
    }
  ]
}