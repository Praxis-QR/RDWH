{
  "nbformat": 4,
  "nbformat_minor": 0,
  "metadata": {
    "colab": {
      "provenance": [],
      "toc_visible": true,
      "include_colab_link": true
    },
    "kernelspec": {
      "name": "python3",
      "display_name": "Python 3"
    },
    "language_info": {
      "name": "python"
    }
  },
  "cells": [
    {
      "cell_type": "markdown",
      "metadata": {
        "id": "view-in-github",
        "colab_type": "text"
      },
      "source": [
        "<a href=\"https://colab.research.google.com/github/Praxis-QR/RDWH/blob/main/PostgreSQL_02_Basic_SQL.ipynb\" target=\"_parent\"><img src=\"https://colab.research.google.com/assets/colab-badge.svg\" alt=\"Open In Colab\"/></a>"
      ]
    },
    {
      "cell_type": "markdown",
      "source": [
        "![alt text](https://github.com/Praxis-QR/RDWH/raw/main/images/YantraJaalBanner.png)<br>\n",
        "\n",
        "\n",
        "<hr>\n",
        "\n",
        "[Prithwis Mukerjee](http://www.linkedin.com/in/prithwis)<br>"
      ],
      "metadata": {
        "id": "DBzz-qaN2tKu"
      }
    },
    {
      "cell_type": "markdown",
      "source": [
        "PostgreSQL Tutorial https://www.w3resource.com/PostgreSQL/tutorial.php"
      ],
      "metadata": {
        "id": "dBJ6X0LiJtZ6"
      }
    },
    {
      "cell_type": "markdown",
      "source": [
        "#Install & Configure Postgres"
      ],
      "metadata": {
        "id": "nD-QawLT6kDr"
      }
    },
    {
      "cell_type": "code",
      "source": [
        "from datetime import datetime\n",
        "import pytz\n",
        "print('Tested on ',datetime.now(pytz.timezone('Asia/Calcutta')))\n",
        "!python --version\n",
        "!lsb_release -a"
      ],
      "metadata": {
        "id": "txwvst5Hs5mI",
        "outputId": "b34db089-10ed-473c-e577-38dc8c750b37",
        "colab": {
          "base_uri": "https://localhost:8080/"
        }
      },
      "execution_count": 1,
      "outputs": [
        {
          "output_type": "stream",
          "name": "stdout",
          "text": [
            "Tested on  2023-12-31 03:45:29.675500+05:30\n",
            "Python 3.10.12\n",
            "No LSB modules are available.\n",
            "Distributor ID:\tUbuntu\n",
            "Description:\tUbuntu 22.04.3 LTS\n",
            "Release:\t22.04\n",
            "Codename:\tjammy\n"
          ]
        }
      ]
    },
    {
      "cell_type": "code",
      "source": [
        "# Install postgresql server\n",
        "\n",
        "!apt update > /dev/null\n",
        "!apt install postgresql > /dev/null\n",
        "#!sudo -u postgres psql -V\n",
        "!psql -V\n",
        "!service postgresql start"
      ],
      "metadata": {
        "colab": {
          "base_uri": "https://localhost:8080/"
        },
        "id": "o_RaqE0OOHP3",
        "outputId": "aec049f8-53dd-4a47-86b1-6ec589932d59"
      },
      "execution_count": 2,
      "outputs": [
        {
          "output_type": "stream",
          "name": "stdout",
          "text": [
            "\n",
            "WARNING: apt does not have a stable CLI interface. Use with caution in scripts.\n",
            "\n",
            "\n",
            "WARNING: apt does not have a stable CLI interface. Use with caution in scripts.\n",
            "\n",
            "psql (PostgreSQL) 14.10 (Ubuntu 14.10-0ubuntu0.22.04.1)\n",
            " * Starting PostgreSQL 14 database server\n",
            "   ...done.\n"
          ]
        }
      ]
    },
    {
      "cell_type": "code",
      "source": [
        "#!pip install psycopg2\n",
        "import psycopg2\n",
        "import pandas as pd"
      ],
      "metadata": {
        "id": "719jvpeIjLZX"
      },
      "execution_count": 3,
      "outputs": []
    },
    {
      "cell_type": "code",
      "source": [
        "# This has created an Ubuntu user 'postgres' AND a Postgres database user 'postgres' both of which are superusers\n",
        "#!cat /etc/passwd\n",
        "# Use these users to create a new database user called 'upraxis' and give it a password 'upass'\n",
        "#!sudo -u postgres createuser --superuser upraxis\n",
        "!sudo -u postgres createuser upraxis\n",
        "!sudo -u postgres psql -U postgres -c \"ALTER USER upraxis PASSWORD 'upass';\"\n",
        "# Change the database superuser 'postgres' to a non-default value 'pass'\n",
        "!sudo -u postgres psql -U postgres -c \"ALTER USER postgres PASSWORD 'pass';\"\n",
        "# Use ubuntu superuser to create database dbpraxis and set its owner to upraxis\n",
        "!sudo -u postgres createdb -O upraxis dbpraxis\n"
      ],
      "metadata": {
        "colab": {
          "base_uri": "https://localhost:8080/"
        },
        "id": "xr5kHaY_U4CZ",
        "outputId": "8fcf168f-5987-47ed-f602-5cab18e00d46"
      },
      "execution_count": 4,
      "outputs": [
        {
          "output_type": "stream",
          "name": "stdout",
          "text": [
            "ALTER ROLE\n",
            "ALTER ROLE\n"
          ]
        }
      ]
    },
    {
      "cell_type": "code",
      "source": [
        "# Create file to store the password. Else will be prompted each time\n",
        "#!echo \"localhost:5432:praxisdb:postgres:pass\" > ~/.pgpass\n",
        "!echo \"localhost:5432:dbpraxis:upraxis:upass\" > ~/.pgpass\n",
        "!chmod 0600 ~/.pgpass\n",
        "!cat ~/.pgpass"
      ],
      "metadata": {
        "colab": {
          "base_uri": "https://localhost:8080/"
        },
        "id": "kFDLMhnTWwuz",
        "outputId": "3b818ba0-087d-4f22-9fe6-e31a8853a809"
      },
      "execution_count": 5,
      "outputs": [
        {
          "output_type": "stream",
          "name": "stdout",
          "text": [
            "localhost:5432:dbpraxis:upraxis:upass\n"
          ]
        }
      ]
    },
    {
      "cell_type": "markdown",
      "source": [
        "## Create and Load Tables"
      ],
      "metadata": {
        "id": "pHTdNzrU6qUE"
      }
    },
    {
      "cell_type": "code",
      "source": [
        "# Create Two tables using command line interface\n",
        "#\n",
        "!psql -h localhost -p 5432 -Uupraxis -ddbpraxis -c \\\n",
        "\"drop table if exists Dept;\\\n",
        "create table Dept (\\\n",
        "    DeptID char(2),\\\n",
        "    DeptName varchar(20),\\\n",
        "    ManagerID char(6),\\\n",
        "    Location varchar(10),\\\n",
        "    LocationID char(1)\\\n",
        "    );\\\n",
        "insert into Dept (DeptID, DeptName, ManagerID, Location,LocationID) VALUES \\\n",
        "\t('10', 'Corporate', '299034', 'Calcutta','1'), \\\n",
        "\t('20', 'Sales', '239456', 'Calcutta','1'), \\\n",
        "\t('30', 'Accounts', '822134', 'Calcutta','1'), \\\n",
        "\t('40', 'Production', '349870', 'Bombay','2'),\\\n",
        "    ('60', 'Research', '546224', 'Delhi','3');\\\n",
        "\""
      ],
      "metadata": {
        "colab": {
          "base_uri": "https://localhost:8080/"
        },
        "id": "DsUZ9JlEXIir",
        "outputId": "d73526d2-d408-4d93-8e8b-2c13687276bf"
      },
      "execution_count": 6,
      "outputs": [
        {
          "output_type": "stream",
          "name": "stdout",
          "text": [
            "NOTICE:  table \"dept\" does not exist, skipping\n",
            "INSERT 0 5\n"
          ]
        }
      ]
    },
    {
      "cell_type": "code",
      "source": [
        "!psql -h localhost -p 5432 -Uupraxis -ddbpraxis -c \\\n",
        "\"drop table if exists Empl;\\\n",
        "create table Empl \\\n",
        "    (EmpID char(6),\\\n",
        "    LastName varchar(20),\\\n",
        "    FirstName varchar(20),\\\n",
        "    JobDesc varchar(10),\\\n",
        "    JoinDate date,\\\n",
        "    Salary int,\\\n",
        "    Comm decimal(3,2),\\\n",
        "    DeptID char(2),\\\n",
        "    HiredBy char(6)\\\n",
        "    );\\\n",
        "INSERT INTO Empl (EmpID, LastName, FirstName, JobDesc, JoinDate, Salary, Comm, DeptID, HiredBy) \\\n",
        "    VALUES \\\n",
        "\t('742866', 'Bacchan', 'Amitabh', 'Executive', '2003-03-10', 50000, 0.1, '10', NULL), \\\n",
        "\t('349870', 'Mukherjee', 'Rani', 'Manager', '2005-05-04', 25000, 0.06, '40', '742866'), \\\n",
        "\t('865477', 'Dikshit', 'Madhuri', 'Clerk', '2002-04-04', 10000, 0.02, '20', '239456'), \\\n",
        "\t('239456', 'Khan', 'Shahrukh', 'Manager', '2004-01-03', 30000, 0.07, '20', '742866'), \\\n",
        "\t('897889', 'Sehwag', 'Virender', 'Cus_Rep', '2005-01-02', 15000, 0.05, '20', '239456'), \\\n",
        "\t('123980', 'Dhoni', 'Mahender', 'Clerk', '2004-10-09', 9000, 0.02, '40', '349870'), \\\n",
        "\t('822134', 'Dravid', 'Rahul', 'Sr Manager', '2000-06-04', 40000, 0.08, '30', '742866'), \\\n",
        "\t('997445', 'Dalmia', 'Jagmohan', 'Clerk', '2001-07-01', 12000, 0.02, '30', '822134'), \\\n",
        "\t('989007', 'Ganguly', 'Sourav', 'Cus_Rep', '2002-01-01', 20000, 0.03, '40', '299034'), \\\n",
        "\t('299034', 'Ganesan', 'Rekha', 'Director', '2002-10-10', 60000, 0.11, '10', '742866'), \\\n",
        "\t('546223', 'Karthikeyan', 'Narayan', 'Secretary', '2005-12-04', 40000, 0.09, '10', '299034'), \\\n",
        "    ('546224', 'Sunil', 'Chettri', 'Dy Manager', '2006-12-07', 40000, 0.05, '70', '349870'), \\\n",
        "\t('223112', 'Mirza', 'Sania', 'Cus_Rep', '2001-11-19', 25000, 0.04, '30', '822134');\\\n",
        "\""
      ],
      "metadata": {
        "colab": {
          "base_uri": "https://localhost:8080/"
        },
        "id": "5kWs3wyEd9Tm",
        "outputId": "fa35a0b7-515c-4701-ef7a-333883388f49"
      },
      "execution_count": 7,
      "outputs": [
        {
          "output_type": "stream",
          "name": "stdout",
          "text": [
            "NOTICE:  table \"empl\" does not exist, skipping\n",
            "INSERT 0 13\n"
          ]
        }
      ]
    },
    {
      "cell_type": "code",
      "source": [
        "#!psql -h localhost -p 5432 -Upostgres -dpraxisdb -c \"select * from dept;\"\n",
        "#!psql -h localhost -p 5432 -Uupraxis -ddbpraxis -c \"select * from dept;\""
      ],
      "metadata": {
        "id": "HyBUhbAI2PV1"
      },
      "execution_count": 8,
      "outputs": []
    },
    {
      "cell_type": "code",
      "source": [
        "#!psql -h localhost -p 5432 -U postgres -d praxisdb -c \"select * from empl;\"\n",
        "#!psql -h localhost -p 5432 -U upraxis -d dbpraxis -c \"select * from empl;\""
      ],
      "metadata": {
        "id": "byY2iccO4ctF"
      },
      "execution_count": 9,
      "outputs": []
    },
    {
      "cell_type": "markdown",
      "source": [
        "## Python Access\n",
        "https://www.tutorialspoint.com/python_data_access/python_postgresql_database_connection.htm"
      ],
      "metadata": {
        "id": "faZEj8_7CeZ8"
      }
    },
    {
      "cell_type": "code",
      "source": [
        "# Local Colab server\n",
        "\n",
        "conn = psycopg2.connect(database=\"dbpraxis\", user='upraxis', password='upass', host='127.0.0.1', port= '5432')\n",
        "#Creating a cursor object using the cursor() method\n",
        "cursor = conn.cursor()\n",
        "#Executing an MYSQL function using the execute() method\n",
        "cursor.execute(\"select version()\")\n",
        "# Fetch a single row using fetchone() method.\n",
        "data = cursor.fetchone()\n",
        "print(\"Connection established to: \",data)\n",
        "#Closing the connection\n",
        "conn.close()"
      ],
      "metadata": {
        "id": "wcE-8UBnC4zV",
        "outputId": "e3aa1591-84d9-416b-c780-ec1fa4d0e102",
        "colab": {
          "base_uri": "https://localhost:8080/"
        }
      },
      "execution_count": 10,
      "outputs": [
        {
          "output_type": "stream",
          "name": "stdout",
          "text": [
            "Connection established to:  ('PostgreSQL 14.10 (Ubuntu 14.10-0ubuntu0.22.04.1) on x86_64-pc-linux-gnu, compiled by gcc (Ubuntu 11.4.0-1ubuntu1~22.04) 11.4.0, 64-bit',)\n"
          ]
        }
      ]
    },
    {
      "cell_type": "code",
      "source": [
        "# function to execute SQL select statements with Postgres\n",
        "#\n",
        "def runSelect(s):\n",
        "    #Set up connection\n",
        "\n",
        "    conn = psycopg2.connect(database=\"dbpraxis\", user='upraxis', password='upass', host='127.0.0.1', port= '5432')\n",
        "    #Setting auto commit true\n",
        "    conn.autocommit = True\n",
        "    #Creating a cursor object using the cursor() method\n",
        "    cursor = conn.cursor()\n",
        "    #Retrieving data\n",
        "    cursor.execute(s)\n",
        "    #Fetching all rows from the table\n",
        "    result = cursor.fetchall();\n",
        "    #print(len(result))\n",
        "    if (len(result)) > 0:                                       # result contains at least one row\n",
        "        colnames = [desc[0] for desc in cursor.description]     # get column names\n",
        "        #print(colnames)\n",
        "        resultdf = pd.DataFrame(result)                         # convert list to dataframe\n",
        "        resultdf.columns = colnames                             # add column names\n",
        "        #return resultdf\n",
        "        return resultdf.style.hide()                            # hide the index\n",
        "    else:\n",
        "        print('no records found')\n",
        "        return\n",
        "# function to execute SQL non-select statements with Postgres\n",
        "#\n",
        "def runCmd(s):\n",
        "    #Create Connection\n",
        "    conn = psycopg2.connect(database=\"dbpraxis\", user='upraxis', password='upass', host='127.0.0.1', port= '5432')\n",
        "    #Creating a cursor object using the cursor() method\n",
        "    cursor = conn.cursor()\n",
        "    try:\n",
        "        cursor.execute(s)\n",
        "        print('Command executed')\n",
        "        conn.commit()\n",
        "    except:\n",
        "        print('Command failed')\n",
        "    #Closing the connection\n",
        "    conn.close()"
      ],
      "metadata": {
        "id": "ht2k7-3iggNd"
      },
      "execution_count": 11,
      "outputs": []
    },
    {
      "cell_type": "markdown",
      "source": [
        "#Select - getting started"
      ],
      "metadata": {
        "id": "k0rXiciVtu7Q"
      }
    },
    {
      "cell_type": "code",
      "source": [
        "#runSelect(\"select * from dept where deptid = '100'\")\n",
        "#runSelect(\"select * from dept where deptid = '10'\")\n",
        "runSelect(\"select * from dept\")"
      ],
      "metadata": {
        "id": "N3NZv0YahSs6",
        "outputId": "831cbd61-9a37-45a1-c6ce-60096536325f",
        "colab": {
          "base_uri": "https://localhost:8080/",
          "height": 206
        }
      },
      "execution_count": 12,
      "outputs": [
        {
          "output_type": "execute_result",
          "data": {
            "text/plain": [
              "<pandas.io.formats.style.Styler at 0x7f7477ccffd0>"
            ],
            "text/html": [
              "<style type=\"text/css\">\n",
              "</style>\n",
              "<table id=\"T_6cc39\" class=\"dataframe\">\n",
              "  <thead>\n",
              "    <tr>\n",
              "      <th id=\"T_6cc39_level0_col0\" class=\"col_heading level0 col0\" >deptid</th>\n",
              "      <th id=\"T_6cc39_level0_col1\" class=\"col_heading level0 col1\" >deptname</th>\n",
              "      <th id=\"T_6cc39_level0_col2\" class=\"col_heading level0 col2\" >managerid</th>\n",
              "      <th id=\"T_6cc39_level0_col3\" class=\"col_heading level0 col3\" >location</th>\n",
              "      <th id=\"T_6cc39_level0_col4\" class=\"col_heading level0 col4\" >locationid</th>\n",
              "    </tr>\n",
              "  </thead>\n",
              "  <tbody>\n",
              "    <tr>\n",
              "      <td id=\"T_6cc39_row0_col0\" class=\"data row0 col0\" >10</td>\n",
              "      <td id=\"T_6cc39_row0_col1\" class=\"data row0 col1\" >Corporate</td>\n",
              "      <td id=\"T_6cc39_row0_col2\" class=\"data row0 col2\" >299034</td>\n",
              "      <td id=\"T_6cc39_row0_col3\" class=\"data row0 col3\" >Calcutta</td>\n",
              "      <td id=\"T_6cc39_row0_col4\" class=\"data row0 col4\" >1</td>\n",
              "    </tr>\n",
              "    <tr>\n",
              "      <td id=\"T_6cc39_row1_col0\" class=\"data row1 col0\" >20</td>\n",
              "      <td id=\"T_6cc39_row1_col1\" class=\"data row1 col1\" >Sales</td>\n",
              "      <td id=\"T_6cc39_row1_col2\" class=\"data row1 col2\" >239456</td>\n",
              "      <td id=\"T_6cc39_row1_col3\" class=\"data row1 col3\" >Calcutta</td>\n",
              "      <td id=\"T_6cc39_row1_col4\" class=\"data row1 col4\" >1</td>\n",
              "    </tr>\n",
              "    <tr>\n",
              "      <td id=\"T_6cc39_row2_col0\" class=\"data row2 col0\" >30</td>\n",
              "      <td id=\"T_6cc39_row2_col1\" class=\"data row2 col1\" >Accounts</td>\n",
              "      <td id=\"T_6cc39_row2_col2\" class=\"data row2 col2\" >822134</td>\n",
              "      <td id=\"T_6cc39_row2_col3\" class=\"data row2 col3\" >Calcutta</td>\n",
              "      <td id=\"T_6cc39_row2_col4\" class=\"data row2 col4\" >1</td>\n",
              "    </tr>\n",
              "    <tr>\n",
              "      <td id=\"T_6cc39_row3_col0\" class=\"data row3 col0\" >40</td>\n",
              "      <td id=\"T_6cc39_row3_col1\" class=\"data row3 col1\" >Production</td>\n",
              "      <td id=\"T_6cc39_row3_col2\" class=\"data row3 col2\" >349870</td>\n",
              "      <td id=\"T_6cc39_row3_col3\" class=\"data row3 col3\" >Bombay</td>\n",
              "      <td id=\"T_6cc39_row3_col4\" class=\"data row3 col4\" >2</td>\n",
              "    </tr>\n",
              "    <tr>\n",
              "      <td id=\"T_6cc39_row4_col0\" class=\"data row4 col0\" >60</td>\n",
              "      <td id=\"T_6cc39_row4_col1\" class=\"data row4 col1\" >Research</td>\n",
              "      <td id=\"T_6cc39_row4_col2\" class=\"data row4 col2\" >546224</td>\n",
              "      <td id=\"T_6cc39_row4_col3\" class=\"data row4 col3\" >Delhi</td>\n",
              "      <td id=\"T_6cc39_row4_col4\" class=\"data row4 col4\" >3</td>\n",
              "    </tr>\n",
              "  </tbody>\n",
              "</table>\n"
            ]
          },
          "metadata": {},
          "execution_count": 12
        }
      ]
    },
    {
      "cell_type": "code",
      "source": [
        "runSelect('select * from empl')"
      ],
      "metadata": {
        "id": "Otiv4rjSl5Tg",
        "outputId": "e1afa3a5-477b-4587-9402-c5d6e4a7b0b0",
        "colab": {
          "base_uri": "https://localhost:8080/",
          "height": 457
        }
      },
      "execution_count": 13,
      "outputs": [
        {
          "output_type": "execute_result",
          "data": {
            "text/plain": [
              "<pandas.io.formats.style.Styler at 0x7f7477c27b50>"
            ],
            "text/html": [
              "<style type=\"text/css\">\n",
              "</style>\n",
              "<table id=\"T_9802a\" class=\"dataframe\">\n",
              "  <thead>\n",
              "    <tr>\n",
              "      <th id=\"T_9802a_level0_col0\" class=\"col_heading level0 col0\" >empid</th>\n",
              "      <th id=\"T_9802a_level0_col1\" class=\"col_heading level0 col1\" >lastname</th>\n",
              "      <th id=\"T_9802a_level0_col2\" class=\"col_heading level0 col2\" >firstname</th>\n",
              "      <th id=\"T_9802a_level0_col3\" class=\"col_heading level0 col3\" >jobdesc</th>\n",
              "      <th id=\"T_9802a_level0_col4\" class=\"col_heading level0 col4\" >joindate</th>\n",
              "      <th id=\"T_9802a_level0_col5\" class=\"col_heading level0 col5\" >salary</th>\n",
              "      <th id=\"T_9802a_level0_col6\" class=\"col_heading level0 col6\" >comm</th>\n",
              "      <th id=\"T_9802a_level0_col7\" class=\"col_heading level0 col7\" >deptid</th>\n",
              "      <th id=\"T_9802a_level0_col8\" class=\"col_heading level0 col8\" >hiredby</th>\n",
              "    </tr>\n",
              "  </thead>\n",
              "  <tbody>\n",
              "    <tr>\n",
              "      <td id=\"T_9802a_row0_col0\" class=\"data row0 col0\" >742866</td>\n",
              "      <td id=\"T_9802a_row0_col1\" class=\"data row0 col1\" >Bacchan</td>\n",
              "      <td id=\"T_9802a_row0_col2\" class=\"data row0 col2\" >Amitabh</td>\n",
              "      <td id=\"T_9802a_row0_col3\" class=\"data row0 col3\" >Executive</td>\n",
              "      <td id=\"T_9802a_row0_col4\" class=\"data row0 col4\" >2003-03-10</td>\n",
              "      <td id=\"T_9802a_row0_col5\" class=\"data row0 col5\" >50000</td>\n",
              "      <td id=\"T_9802a_row0_col6\" class=\"data row0 col6\" >0.10</td>\n",
              "      <td id=\"T_9802a_row0_col7\" class=\"data row0 col7\" >10</td>\n",
              "      <td id=\"T_9802a_row0_col8\" class=\"data row0 col8\" >None</td>\n",
              "    </tr>\n",
              "    <tr>\n",
              "      <td id=\"T_9802a_row1_col0\" class=\"data row1 col0\" >349870</td>\n",
              "      <td id=\"T_9802a_row1_col1\" class=\"data row1 col1\" >Mukherjee</td>\n",
              "      <td id=\"T_9802a_row1_col2\" class=\"data row1 col2\" >Rani</td>\n",
              "      <td id=\"T_9802a_row1_col3\" class=\"data row1 col3\" >Manager</td>\n",
              "      <td id=\"T_9802a_row1_col4\" class=\"data row1 col4\" >2005-05-04</td>\n",
              "      <td id=\"T_9802a_row1_col5\" class=\"data row1 col5\" >25000</td>\n",
              "      <td id=\"T_9802a_row1_col6\" class=\"data row1 col6\" >0.06</td>\n",
              "      <td id=\"T_9802a_row1_col7\" class=\"data row1 col7\" >40</td>\n",
              "      <td id=\"T_9802a_row1_col8\" class=\"data row1 col8\" >742866</td>\n",
              "    </tr>\n",
              "    <tr>\n",
              "      <td id=\"T_9802a_row2_col0\" class=\"data row2 col0\" >865477</td>\n",
              "      <td id=\"T_9802a_row2_col1\" class=\"data row2 col1\" >Dikshit</td>\n",
              "      <td id=\"T_9802a_row2_col2\" class=\"data row2 col2\" >Madhuri</td>\n",
              "      <td id=\"T_9802a_row2_col3\" class=\"data row2 col3\" >Clerk</td>\n",
              "      <td id=\"T_9802a_row2_col4\" class=\"data row2 col4\" >2002-04-04</td>\n",
              "      <td id=\"T_9802a_row2_col5\" class=\"data row2 col5\" >10000</td>\n",
              "      <td id=\"T_9802a_row2_col6\" class=\"data row2 col6\" >0.02</td>\n",
              "      <td id=\"T_9802a_row2_col7\" class=\"data row2 col7\" >20</td>\n",
              "      <td id=\"T_9802a_row2_col8\" class=\"data row2 col8\" >239456</td>\n",
              "    </tr>\n",
              "    <tr>\n",
              "      <td id=\"T_9802a_row3_col0\" class=\"data row3 col0\" >239456</td>\n",
              "      <td id=\"T_9802a_row3_col1\" class=\"data row3 col1\" >Khan</td>\n",
              "      <td id=\"T_9802a_row3_col2\" class=\"data row3 col2\" >Shahrukh</td>\n",
              "      <td id=\"T_9802a_row3_col3\" class=\"data row3 col3\" >Manager</td>\n",
              "      <td id=\"T_9802a_row3_col4\" class=\"data row3 col4\" >2004-01-03</td>\n",
              "      <td id=\"T_9802a_row3_col5\" class=\"data row3 col5\" >30000</td>\n",
              "      <td id=\"T_9802a_row3_col6\" class=\"data row3 col6\" >0.07</td>\n",
              "      <td id=\"T_9802a_row3_col7\" class=\"data row3 col7\" >20</td>\n",
              "      <td id=\"T_9802a_row3_col8\" class=\"data row3 col8\" >742866</td>\n",
              "    </tr>\n",
              "    <tr>\n",
              "      <td id=\"T_9802a_row4_col0\" class=\"data row4 col0\" >897889</td>\n",
              "      <td id=\"T_9802a_row4_col1\" class=\"data row4 col1\" >Sehwag</td>\n",
              "      <td id=\"T_9802a_row4_col2\" class=\"data row4 col2\" >Virender</td>\n",
              "      <td id=\"T_9802a_row4_col3\" class=\"data row4 col3\" >Cus_Rep</td>\n",
              "      <td id=\"T_9802a_row4_col4\" class=\"data row4 col4\" >2005-01-02</td>\n",
              "      <td id=\"T_9802a_row4_col5\" class=\"data row4 col5\" >15000</td>\n",
              "      <td id=\"T_9802a_row4_col6\" class=\"data row4 col6\" >0.05</td>\n",
              "      <td id=\"T_9802a_row4_col7\" class=\"data row4 col7\" >20</td>\n",
              "      <td id=\"T_9802a_row4_col8\" class=\"data row4 col8\" >239456</td>\n",
              "    </tr>\n",
              "    <tr>\n",
              "      <td id=\"T_9802a_row5_col0\" class=\"data row5 col0\" >123980</td>\n",
              "      <td id=\"T_9802a_row5_col1\" class=\"data row5 col1\" >Dhoni</td>\n",
              "      <td id=\"T_9802a_row5_col2\" class=\"data row5 col2\" >Mahender</td>\n",
              "      <td id=\"T_9802a_row5_col3\" class=\"data row5 col3\" >Clerk</td>\n",
              "      <td id=\"T_9802a_row5_col4\" class=\"data row5 col4\" >2004-10-09</td>\n",
              "      <td id=\"T_9802a_row5_col5\" class=\"data row5 col5\" >9000</td>\n",
              "      <td id=\"T_9802a_row5_col6\" class=\"data row5 col6\" >0.02</td>\n",
              "      <td id=\"T_9802a_row5_col7\" class=\"data row5 col7\" >40</td>\n",
              "      <td id=\"T_9802a_row5_col8\" class=\"data row5 col8\" >349870</td>\n",
              "    </tr>\n",
              "    <tr>\n",
              "      <td id=\"T_9802a_row6_col0\" class=\"data row6 col0\" >822134</td>\n",
              "      <td id=\"T_9802a_row6_col1\" class=\"data row6 col1\" >Dravid</td>\n",
              "      <td id=\"T_9802a_row6_col2\" class=\"data row6 col2\" >Rahul</td>\n",
              "      <td id=\"T_9802a_row6_col3\" class=\"data row6 col3\" >Sr Manager</td>\n",
              "      <td id=\"T_9802a_row6_col4\" class=\"data row6 col4\" >2000-06-04</td>\n",
              "      <td id=\"T_9802a_row6_col5\" class=\"data row6 col5\" >40000</td>\n",
              "      <td id=\"T_9802a_row6_col6\" class=\"data row6 col6\" >0.08</td>\n",
              "      <td id=\"T_9802a_row6_col7\" class=\"data row6 col7\" >30</td>\n",
              "      <td id=\"T_9802a_row6_col8\" class=\"data row6 col8\" >742866</td>\n",
              "    </tr>\n",
              "    <tr>\n",
              "      <td id=\"T_9802a_row7_col0\" class=\"data row7 col0\" >997445</td>\n",
              "      <td id=\"T_9802a_row7_col1\" class=\"data row7 col1\" >Dalmia</td>\n",
              "      <td id=\"T_9802a_row7_col2\" class=\"data row7 col2\" >Jagmohan</td>\n",
              "      <td id=\"T_9802a_row7_col3\" class=\"data row7 col3\" >Clerk</td>\n",
              "      <td id=\"T_9802a_row7_col4\" class=\"data row7 col4\" >2001-07-01</td>\n",
              "      <td id=\"T_9802a_row7_col5\" class=\"data row7 col5\" >12000</td>\n",
              "      <td id=\"T_9802a_row7_col6\" class=\"data row7 col6\" >0.02</td>\n",
              "      <td id=\"T_9802a_row7_col7\" class=\"data row7 col7\" >30</td>\n",
              "      <td id=\"T_9802a_row7_col8\" class=\"data row7 col8\" >822134</td>\n",
              "    </tr>\n",
              "    <tr>\n",
              "      <td id=\"T_9802a_row8_col0\" class=\"data row8 col0\" >989007</td>\n",
              "      <td id=\"T_9802a_row8_col1\" class=\"data row8 col1\" >Ganguly</td>\n",
              "      <td id=\"T_9802a_row8_col2\" class=\"data row8 col2\" >Sourav</td>\n",
              "      <td id=\"T_9802a_row8_col3\" class=\"data row8 col3\" >Cus_Rep</td>\n",
              "      <td id=\"T_9802a_row8_col4\" class=\"data row8 col4\" >2002-01-01</td>\n",
              "      <td id=\"T_9802a_row8_col5\" class=\"data row8 col5\" >20000</td>\n",
              "      <td id=\"T_9802a_row8_col6\" class=\"data row8 col6\" >0.03</td>\n",
              "      <td id=\"T_9802a_row8_col7\" class=\"data row8 col7\" >40</td>\n",
              "      <td id=\"T_9802a_row8_col8\" class=\"data row8 col8\" >299034</td>\n",
              "    </tr>\n",
              "    <tr>\n",
              "      <td id=\"T_9802a_row9_col0\" class=\"data row9 col0\" >299034</td>\n",
              "      <td id=\"T_9802a_row9_col1\" class=\"data row9 col1\" >Ganesan</td>\n",
              "      <td id=\"T_9802a_row9_col2\" class=\"data row9 col2\" >Rekha</td>\n",
              "      <td id=\"T_9802a_row9_col3\" class=\"data row9 col3\" >Director</td>\n",
              "      <td id=\"T_9802a_row9_col4\" class=\"data row9 col4\" >2002-10-10</td>\n",
              "      <td id=\"T_9802a_row9_col5\" class=\"data row9 col5\" >60000</td>\n",
              "      <td id=\"T_9802a_row9_col6\" class=\"data row9 col6\" >0.11</td>\n",
              "      <td id=\"T_9802a_row9_col7\" class=\"data row9 col7\" >10</td>\n",
              "      <td id=\"T_9802a_row9_col8\" class=\"data row9 col8\" >742866</td>\n",
              "    </tr>\n",
              "    <tr>\n",
              "      <td id=\"T_9802a_row10_col0\" class=\"data row10 col0\" >546223</td>\n",
              "      <td id=\"T_9802a_row10_col1\" class=\"data row10 col1\" >Karthikeyan</td>\n",
              "      <td id=\"T_9802a_row10_col2\" class=\"data row10 col2\" >Narayan</td>\n",
              "      <td id=\"T_9802a_row10_col3\" class=\"data row10 col3\" >Secretary</td>\n",
              "      <td id=\"T_9802a_row10_col4\" class=\"data row10 col4\" >2005-12-04</td>\n",
              "      <td id=\"T_9802a_row10_col5\" class=\"data row10 col5\" >40000</td>\n",
              "      <td id=\"T_9802a_row10_col6\" class=\"data row10 col6\" >0.09</td>\n",
              "      <td id=\"T_9802a_row10_col7\" class=\"data row10 col7\" >10</td>\n",
              "      <td id=\"T_9802a_row10_col8\" class=\"data row10 col8\" >299034</td>\n",
              "    </tr>\n",
              "    <tr>\n",
              "      <td id=\"T_9802a_row11_col0\" class=\"data row11 col0\" >546224</td>\n",
              "      <td id=\"T_9802a_row11_col1\" class=\"data row11 col1\" >Sunil</td>\n",
              "      <td id=\"T_9802a_row11_col2\" class=\"data row11 col2\" >Chettri</td>\n",
              "      <td id=\"T_9802a_row11_col3\" class=\"data row11 col3\" >Dy Manager</td>\n",
              "      <td id=\"T_9802a_row11_col4\" class=\"data row11 col4\" >2006-12-07</td>\n",
              "      <td id=\"T_9802a_row11_col5\" class=\"data row11 col5\" >40000</td>\n",
              "      <td id=\"T_9802a_row11_col6\" class=\"data row11 col6\" >0.05</td>\n",
              "      <td id=\"T_9802a_row11_col7\" class=\"data row11 col7\" >70</td>\n",
              "      <td id=\"T_9802a_row11_col8\" class=\"data row11 col8\" >349870</td>\n",
              "    </tr>\n",
              "    <tr>\n",
              "      <td id=\"T_9802a_row12_col0\" class=\"data row12 col0\" >223112</td>\n",
              "      <td id=\"T_9802a_row12_col1\" class=\"data row12 col1\" >Mirza</td>\n",
              "      <td id=\"T_9802a_row12_col2\" class=\"data row12 col2\" >Sania</td>\n",
              "      <td id=\"T_9802a_row12_col3\" class=\"data row12 col3\" >Cus_Rep</td>\n",
              "      <td id=\"T_9802a_row12_col4\" class=\"data row12 col4\" >2001-11-19</td>\n",
              "      <td id=\"T_9802a_row12_col5\" class=\"data row12 col5\" >25000</td>\n",
              "      <td id=\"T_9802a_row12_col6\" class=\"data row12 col6\" >0.04</td>\n",
              "      <td id=\"T_9802a_row12_col7\" class=\"data row12 col7\" >30</td>\n",
              "      <td id=\"T_9802a_row12_col8\" class=\"data row12 col8\" >822134</td>\n",
              "    </tr>\n",
              "  </tbody>\n",
              "</table>\n"
            ]
          },
          "metadata": {},
          "execution_count": 13
        }
      ]
    },
    {
      "cell_type": "code",
      "source": [
        "runSelect('select lastname, jobdesc, salary from empl')"
      ],
      "metadata": {
        "id": "z-mxVMPuuxu6",
        "outputId": "52dab42e-34ba-4ee0-bfa4-9b193fcb3aae",
        "colab": {
          "base_uri": "https://localhost:8080/",
          "height": 457
        }
      },
      "execution_count": 14,
      "outputs": [
        {
          "output_type": "execute_result",
          "data": {
            "text/plain": [
              "<pandas.io.formats.style.Styler at 0x7f74a85c32b0>"
            ],
            "text/html": [
              "<style type=\"text/css\">\n",
              "</style>\n",
              "<table id=\"T_fd5c6\" class=\"dataframe\">\n",
              "  <thead>\n",
              "    <tr>\n",
              "      <th id=\"T_fd5c6_level0_col0\" class=\"col_heading level0 col0\" >lastname</th>\n",
              "      <th id=\"T_fd5c6_level0_col1\" class=\"col_heading level0 col1\" >jobdesc</th>\n",
              "      <th id=\"T_fd5c6_level0_col2\" class=\"col_heading level0 col2\" >salary</th>\n",
              "    </tr>\n",
              "  </thead>\n",
              "  <tbody>\n",
              "    <tr>\n",
              "      <td id=\"T_fd5c6_row0_col0\" class=\"data row0 col0\" >Bacchan</td>\n",
              "      <td id=\"T_fd5c6_row0_col1\" class=\"data row0 col1\" >Executive</td>\n",
              "      <td id=\"T_fd5c6_row0_col2\" class=\"data row0 col2\" >50000</td>\n",
              "    </tr>\n",
              "    <tr>\n",
              "      <td id=\"T_fd5c6_row1_col0\" class=\"data row1 col0\" >Mukherjee</td>\n",
              "      <td id=\"T_fd5c6_row1_col1\" class=\"data row1 col1\" >Manager</td>\n",
              "      <td id=\"T_fd5c6_row1_col2\" class=\"data row1 col2\" >25000</td>\n",
              "    </tr>\n",
              "    <tr>\n",
              "      <td id=\"T_fd5c6_row2_col0\" class=\"data row2 col0\" >Dikshit</td>\n",
              "      <td id=\"T_fd5c6_row2_col1\" class=\"data row2 col1\" >Clerk</td>\n",
              "      <td id=\"T_fd5c6_row2_col2\" class=\"data row2 col2\" >10000</td>\n",
              "    </tr>\n",
              "    <tr>\n",
              "      <td id=\"T_fd5c6_row3_col0\" class=\"data row3 col0\" >Khan</td>\n",
              "      <td id=\"T_fd5c6_row3_col1\" class=\"data row3 col1\" >Manager</td>\n",
              "      <td id=\"T_fd5c6_row3_col2\" class=\"data row3 col2\" >30000</td>\n",
              "    </tr>\n",
              "    <tr>\n",
              "      <td id=\"T_fd5c6_row4_col0\" class=\"data row4 col0\" >Sehwag</td>\n",
              "      <td id=\"T_fd5c6_row4_col1\" class=\"data row4 col1\" >Cus_Rep</td>\n",
              "      <td id=\"T_fd5c6_row4_col2\" class=\"data row4 col2\" >15000</td>\n",
              "    </tr>\n",
              "    <tr>\n",
              "      <td id=\"T_fd5c6_row5_col0\" class=\"data row5 col0\" >Dhoni</td>\n",
              "      <td id=\"T_fd5c6_row5_col1\" class=\"data row5 col1\" >Clerk</td>\n",
              "      <td id=\"T_fd5c6_row5_col2\" class=\"data row5 col2\" >9000</td>\n",
              "    </tr>\n",
              "    <tr>\n",
              "      <td id=\"T_fd5c6_row6_col0\" class=\"data row6 col0\" >Dravid</td>\n",
              "      <td id=\"T_fd5c6_row6_col1\" class=\"data row6 col1\" >Sr Manager</td>\n",
              "      <td id=\"T_fd5c6_row6_col2\" class=\"data row6 col2\" >40000</td>\n",
              "    </tr>\n",
              "    <tr>\n",
              "      <td id=\"T_fd5c6_row7_col0\" class=\"data row7 col0\" >Dalmia</td>\n",
              "      <td id=\"T_fd5c6_row7_col1\" class=\"data row7 col1\" >Clerk</td>\n",
              "      <td id=\"T_fd5c6_row7_col2\" class=\"data row7 col2\" >12000</td>\n",
              "    </tr>\n",
              "    <tr>\n",
              "      <td id=\"T_fd5c6_row8_col0\" class=\"data row8 col0\" >Ganguly</td>\n",
              "      <td id=\"T_fd5c6_row8_col1\" class=\"data row8 col1\" >Cus_Rep</td>\n",
              "      <td id=\"T_fd5c6_row8_col2\" class=\"data row8 col2\" >20000</td>\n",
              "    </tr>\n",
              "    <tr>\n",
              "      <td id=\"T_fd5c6_row9_col0\" class=\"data row9 col0\" >Ganesan</td>\n",
              "      <td id=\"T_fd5c6_row9_col1\" class=\"data row9 col1\" >Director</td>\n",
              "      <td id=\"T_fd5c6_row9_col2\" class=\"data row9 col2\" >60000</td>\n",
              "    </tr>\n",
              "    <tr>\n",
              "      <td id=\"T_fd5c6_row10_col0\" class=\"data row10 col0\" >Karthikeyan</td>\n",
              "      <td id=\"T_fd5c6_row10_col1\" class=\"data row10 col1\" >Secretary</td>\n",
              "      <td id=\"T_fd5c6_row10_col2\" class=\"data row10 col2\" >40000</td>\n",
              "    </tr>\n",
              "    <tr>\n",
              "      <td id=\"T_fd5c6_row11_col0\" class=\"data row11 col0\" >Sunil</td>\n",
              "      <td id=\"T_fd5c6_row11_col1\" class=\"data row11 col1\" >Dy Manager</td>\n",
              "      <td id=\"T_fd5c6_row11_col2\" class=\"data row11 col2\" >40000</td>\n",
              "    </tr>\n",
              "    <tr>\n",
              "      <td id=\"T_fd5c6_row12_col0\" class=\"data row12 col0\" >Mirza</td>\n",
              "      <td id=\"T_fd5c6_row12_col1\" class=\"data row12 col1\" >Cus_Rep</td>\n",
              "      <td id=\"T_fd5c6_row12_col2\" class=\"data row12 col2\" >25000</td>\n",
              "    </tr>\n",
              "  </tbody>\n",
              "</table>\n"
            ]
          },
          "metadata": {},
          "execution_count": 14
        }
      ]
    },
    {
      "cell_type": "code",
      "source": [
        "runSelect('select distinct(jobdesc) from empl')"
      ],
      "metadata": {
        "id": "7uvcAdlCvg-p",
        "outputId": "afee5c97-cf13-4ee4-e792-47fd337bce99",
        "colab": {
          "base_uri": "https://localhost:8080/",
          "height": 300
        }
      },
      "execution_count": 15,
      "outputs": [
        {
          "output_type": "execute_result",
          "data": {
            "text/plain": [
              "<pandas.io.formats.style.Styler at 0x7f7477ccd390>"
            ],
            "text/html": [
              "<style type=\"text/css\">\n",
              "</style>\n",
              "<table id=\"T_ded95\" class=\"dataframe\">\n",
              "  <thead>\n",
              "    <tr>\n",
              "      <th id=\"T_ded95_level0_col0\" class=\"col_heading level0 col0\" >jobdesc</th>\n",
              "    </tr>\n",
              "  </thead>\n",
              "  <tbody>\n",
              "    <tr>\n",
              "      <td id=\"T_ded95_row0_col0\" class=\"data row0 col0\" >Director</td>\n",
              "    </tr>\n",
              "    <tr>\n",
              "      <td id=\"T_ded95_row1_col0\" class=\"data row1 col0\" >Manager</td>\n",
              "    </tr>\n",
              "    <tr>\n",
              "      <td id=\"T_ded95_row2_col0\" class=\"data row2 col0\" >Dy Manager</td>\n",
              "    </tr>\n",
              "    <tr>\n",
              "      <td id=\"T_ded95_row3_col0\" class=\"data row3 col0\" >Executive</td>\n",
              "    </tr>\n",
              "    <tr>\n",
              "      <td id=\"T_ded95_row4_col0\" class=\"data row4 col0\" >Secretary</td>\n",
              "    </tr>\n",
              "    <tr>\n",
              "      <td id=\"T_ded95_row5_col0\" class=\"data row5 col0\" >Cus_Rep</td>\n",
              "    </tr>\n",
              "    <tr>\n",
              "      <td id=\"T_ded95_row6_col0\" class=\"data row6 col0\" >Clerk</td>\n",
              "    </tr>\n",
              "    <tr>\n",
              "      <td id=\"T_ded95_row7_col0\" class=\"data row7 col0\" >Sr Manager</td>\n",
              "    </tr>\n",
              "  </tbody>\n",
              "</table>\n"
            ]
          },
          "metadata": {},
          "execution_count": 15
        }
      ]
    },
    {
      "cell_type": "markdown",
      "source": [
        "#Where"
      ],
      "metadata": {
        "id": "LFbNG59OxVzF"
      }
    },
    {
      "cell_type": "markdown",
      "source": [
        "## Equal, Not Equal, Greater, Less"
      ],
      "metadata": {
        "id": "JM2k29awVQHc"
      }
    },
    {
      "cell_type": "code",
      "source": [
        "runSelect(\"select firstname, lastname, jobdesc from empl where jobdesc = 'Clerk'\")"
      ],
      "metadata": {
        "id": "rRZz9OpLxdEY",
        "outputId": "f2e19e4a-2d4c-4315-a048-8294a09533cc",
        "colab": {
          "base_uri": "https://localhost:8080/",
          "height": 143
        }
      },
      "execution_count": 16,
      "outputs": [
        {
          "output_type": "execute_result",
          "data": {
            "text/plain": [
              "<pandas.io.formats.style.Styler at 0x7f7477c27a30>"
            ],
            "text/html": [
              "<style type=\"text/css\">\n",
              "</style>\n",
              "<table id=\"T_e1f5d\" class=\"dataframe\">\n",
              "  <thead>\n",
              "    <tr>\n",
              "      <th id=\"T_e1f5d_level0_col0\" class=\"col_heading level0 col0\" >firstname</th>\n",
              "      <th id=\"T_e1f5d_level0_col1\" class=\"col_heading level0 col1\" >lastname</th>\n",
              "      <th id=\"T_e1f5d_level0_col2\" class=\"col_heading level0 col2\" >jobdesc</th>\n",
              "    </tr>\n",
              "  </thead>\n",
              "  <tbody>\n",
              "    <tr>\n",
              "      <td id=\"T_e1f5d_row0_col0\" class=\"data row0 col0\" >Madhuri</td>\n",
              "      <td id=\"T_e1f5d_row0_col1\" class=\"data row0 col1\" >Dikshit</td>\n",
              "      <td id=\"T_e1f5d_row0_col2\" class=\"data row0 col2\" >Clerk</td>\n",
              "    </tr>\n",
              "    <tr>\n",
              "      <td id=\"T_e1f5d_row1_col0\" class=\"data row1 col0\" >Mahender</td>\n",
              "      <td id=\"T_e1f5d_row1_col1\" class=\"data row1 col1\" >Dhoni</td>\n",
              "      <td id=\"T_e1f5d_row1_col2\" class=\"data row1 col2\" >Clerk</td>\n",
              "    </tr>\n",
              "    <tr>\n",
              "      <td id=\"T_e1f5d_row2_col0\" class=\"data row2 col0\" >Jagmohan</td>\n",
              "      <td id=\"T_e1f5d_row2_col1\" class=\"data row2 col1\" >Dalmia</td>\n",
              "      <td id=\"T_e1f5d_row2_col2\" class=\"data row2 col2\" >Clerk</td>\n",
              "    </tr>\n",
              "  </tbody>\n",
              "</table>\n"
            ]
          },
          "metadata": {},
          "execution_count": 16
        }
      ]
    },
    {
      "cell_type": "code",
      "source": [
        "runSelect(\"select firstname, lastname, jobdesc from empl where jobdesc != 'Clerk'\")"
      ],
      "metadata": {
        "id": "3cl0ISR9yG-I",
        "outputId": "41432911-068b-46b7-bc89-8f027badbeec",
        "colab": {
          "base_uri": "https://localhost:8080/",
          "height": 363
        }
      },
      "execution_count": 17,
      "outputs": [
        {
          "output_type": "execute_result",
          "data": {
            "text/plain": [
              "<pandas.io.formats.style.Styler at 0x7f7477c54b80>"
            ],
            "text/html": [
              "<style type=\"text/css\">\n",
              "</style>\n",
              "<table id=\"T_80b71\" class=\"dataframe\">\n",
              "  <thead>\n",
              "    <tr>\n",
              "      <th id=\"T_80b71_level0_col0\" class=\"col_heading level0 col0\" >firstname</th>\n",
              "      <th id=\"T_80b71_level0_col1\" class=\"col_heading level0 col1\" >lastname</th>\n",
              "      <th id=\"T_80b71_level0_col2\" class=\"col_heading level0 col2\" >jobdesc</th>\n",
              "    </tr>\n",
              "  </thead>\n",
              "  <tbody>\n",
              "    <tr>\n",
              "      <td id=\"T_80b71_row0_col0\" class=\"data row0 col0\" >Amitabh</td>\n",
              "      <td id=\"T_80b71_row0_col1\" class=\"data row0 col1\" >Bacchan</td>\n",
              "      <td id=\"T_80b71_row0_col2\" class=\"data row0 col2\" >Executive</td>\n",
              "    </tr>\n",
              "    <tr>\n",
              "      <td id=\"T_80b71_row1_col0\" class=\"data row1 col0\" >Rani</td>\n",
              "      <td id=\"T_80b71_row1_col1\" class=\"data row1 col1\" >Mukherjee</td>\n",
              "      <td id=\"T_80b71_row1_col2\" class=\"data row1 col2\" >Manager</td>\n",
              "    </tr>\n",
              "    <tr>\n",
              "      <td id=\"T_80b71_row2_col0\" class=\"data row2 col0\" >Shahrukh</td>\n",
              "      <td id=\"T_80b71_row2_col1\" class=\"data row2 col1\" >Khan</td>\n",
              "      <td id=\"T_80b71_row2_col2\" class=\"data row2 col2\" >Manager</td>\n",
              "    </tr>\n",
              "    <tr>\n",
              "      <td id=\"T_80b71_row3_col0\" class=\"data row3 col0\" >Virender</td>\n",
              "      <td id=\"T_80b71_row3_col1\" class=\"data row3 col1\" >Sehwag</td>\n",
              "      <td id=\"T_80b71_row3_col2\" class=\"data row3 col2\" >Cus_Rep</td>\n",
              "    </tr>\n",
              "    <tr>\n",
              "      <td id=\"T_80b71_row4_col0\" class=\"data row4 col0\" >Rahul</td>\n",
              "      <td id=\"T_80b71_row4_col1\" class=\"data row4 col1\" >Dravid</td>\n",
              "      <td id=\"T_80b71_row4_col2\" class=\"data row4 col2\" >Sr Manager</td>\n",
              "    </tr>\n",
              "    <tr>\n",
              "      <td id=\"T_80b71_row5_col0\" class=\"data row5 col0\" >Sourav</td>\n",
              "      <td id=\"T_80b71_row5_col1\" class=\"data row5 col1\" >Ganguly</td>\n",
              "      <td id=\"T_80b71_row5_col2\" class=\"data row5 col2\" >Cus_Rep</td>\n",
              "    </tr>\n",
              "    <tr>\n",
              "      <td id=\"T_80b71_row6_col0\" class=\"data row6 col0\" >Rekha</td>\n",
              "      <td id=\"T_80b71_row6_col1\" class=\"data row6 col1\" >Ganesan</td>\n",
              "      <td id=\"T_80b71_row6_col2\" class=\"data row6 col2\" >Director</td>\n",
              "    </tr>\n",
              "    <tr>\n",
              "      <td id=\"T_80b71_row7_col0\" class=\"data row7 col0\" >Narayan</td>\n",
              "      <td id=\"T_80b71_row7_col1\" class=\"data row7 col1\" >Karthikeyan</td>\n",
              "      <td id=\"T_80b71_row7_col2\" class=\"data row7 col2\" >Secretary</td>\n",
              "    </tr>\n",
              "    <tr>\n",
              "      <td id=\"T_80b71_row8_col0\" class=\"data row8 col0\" >Chettri</td>\n",
              "      <td id=\"T_80b71_row8_col1\" class=\"data row8 col1\" >Sunil</td>\n",
              "      <td id=\"T_80b71_row8_col2\" class=\"data row8 col2\" >Dy Manager</td>\n",
              "    </tr>\n",
              "    <tr>\n",
              "      <td id=\"T_80b71_row9_col0\" class=\"data row9 col0\" >Sania</td>\n",
              "      <td id=\"T_80b71_row9_col1\" class=\"data row9 col1\" >Mirza</td>\n",
              "      <td id=\"T_80b71_row9_col2\" class=\"data row9 col2\" >Cus_Rep</td>\n",
              "    </tr>\n",
              "  </tbody>\n",
              "</table>\n"
            ]
          },
          "metadata": {},
          "execution_count": 17
        }
      ]
    },
    {
      "cell_type": "code",
      "source": [
        "runSelect(\"select firstname, lastname, salary from empl where salary > 35000\")"
      ],
      "metadata": {
        "id": "obIPpNbDyT4S",
        "outputId": "32551448-77f4-4fd6-ad4a-db2baef29c1a",
        "colab": {
          "base_uri": "https://localhost:8080/",
          "height": 206
        }
      },
      "execution_count": 18,
      "outputs": [
        {
          "output_type": "execute_result",
          "data": {
            "text/plain": [
              "<pandas.io.formats.style.Styler at 0x7f7477c26bf0>"
            ],
            "text/html": [
              "<style type=\"text/css\">\n",
              "</style>\n",
              "<table id=\"T_56bf6\" class=\"dataframe\">\n",
              "  <thead>\n",
              "    <tr>\n",
              "      <th id=\"T_56bf6_level0_col0\" class=\"col_heading level0 col0\" >firstname</th>\n",
              "      <th id=\"T_56bf6_level0_col1\" class=\"col_heading level0 col1\" >lastname</th>\n",
              "      <th id=\"T_56bf6_level0_col2\" class=\"col_heading level0 col2\" >salary</th>\n",
              "    </tr>\n",
              "  </thead>\n",
              "  <tbody>\n",
              "    <tr>\n",
              "      <td id=\"T_56bf6_row0_col0\" class=\"data row0 col0\" >Amitabh</td>\n",
              "      <td id=\"T_56bf6_row0_col1\" class=\"data row0 col1\" >Bacchan</td>\n",
              "      <td id=\"T_56bf6_row0_col2\" class=\"data row0 col2\" >50000</td>\n",
              "    </tr>\n",
              "    <tr>\n",
              "      <td id=\"T_56bf6_row1_col0\" class=\"data row1 col0\" >Rahul</td>\n",
              "      <td id=\"T_56bf6_row1_col1\" class=\"data row1 col1\" >Dravid</td>\n",
              "      <td id=\"T_56bf6_row1_col2\" class=\"data row1 col2\" >40000</td>\n",
              "    </tr>\n",
              "    <tr>\n",
              "      <td id=\"T_56bf6_row2_col0\" class=\"data row2 col0\" >Rekha</td>\n",
              "      <td id=\"T_56bf6_row2_col1\" class=\"data row2 col1\" >Ganesan</td>\n",
              "      <td id=\"T_56bf6_row2_col2\" class=\"data row2 col2\" >60000</td>\n",
              "    </tr>\n",
              "    <tr>\n",
              "      <td id=\"T_56bf6_row3_col0\" class=\"data row3 col0\" >Narayan</td>\n",
              "      <td id=\"T_56bf6_row3_col1\" class=\"data row3 col1\" >Karthikeyan</td>\n",
              "      <td id=\"T_56bf6_row3_col2\" class=\"data row3 col2\" >40000</td>\n",
              "    </tr>\n",
              "    <tr>\n",
              "      <td id=\"T_56bf6_row4_col0\" class=\"data row4 col0\" >Chettri</td>\n",
              "      <td id=\"T_56bf6_row4_col1\" class=\"data row4 col1\" >Sunil</td>\n",
              "      <td id=\"T_56bf6_row4_col2\" class=\"data row4 col2\" >40000</td>\n",
              "    </tr>\n",
              "  </tbody>\n",
              "</table>\n"
            ]
          },
          "metadata": {},
          "execution_count": 18
        }
      ]
    },
    {
      "cell_type": "code",
      "source": [
        "runSelect(\"select firstname, lastname, salary, joindate from empl where joindate < '2002-01-01'\")"
      ],
      "metadata": {
        "colab": {
          "base_uri": "https://localhost:8080/",
          "height": 143
        },
        "id": "hnIvgy_dMvQl",
        "outputId": "ddf59c77-2f4e-4cd9-8a67-e7137eeeacad"
      },
      "execution_count": 19,
      "outputs": [
        {
          "output_type": "execute_result",
          "data": {
            "text/plain": [
              "<pandas.io.formats.style.Styler at 0x7f7477c561d0>"
            ],
            "text/html": [
              "<style type=\"text/css\">\n",
              "</style>\n",
              "<table id=\"T_4aae0\" class=\"dataframe\">\n",
              "  <thead>\n",
              "    <tr>\n",
              "      <th id=\"T_4aae0_level0_col0\" class=\"col_heading level0 col0\" >firstname</th>\n",
              "      <th id=\"T_4aae0_level0_col1\" class=\"col_heading level0 col1\" >lastname</th>\n",
              "      <th id=\"T_4aae0_level0_col2\" class=\"col_heading level0 col2\" >salary</th>\n",
              "      <th id=\"T_4aae0_level0_col3\" class=\"col_heading level0 col3\" >joindate</th>\n",
              "    </tr>\n",
              "  </thead>\n",
              "  <tbody>\n",
              "    <tr>\n",
              "      <td id=\"T_4aae0_row0_col0\" class=\"data row0 col0\" >Rahul</td>\n",
              "      <td id=\"T_4aae0_row0_col1\" class=\"data row0 col1\" >Dravid</td>\n",
              "      <td id=\"T_4aae0_row0_col2\" class=\"data row0 col2\" >40000</td>\n",
              "      <td id=\"T_4aae0_row0_col3\" class=\"data row0 col3\" >2000-06-04</td>\n",
              "    </tr>\n",
              "    <tr>\n",
              "      <td id=\"T_4aae0_row1_col0\" class=\"data row1 col0\" >Jagmohan</td>\n",
              "      <td id=\"T_4aae0_row1_col1\" class=\"data row1 col1\" >Dalmia</td>\n",
              "      <td id=\"T_4aae0_row1_col2\" class=\"data row1 col2\" >12000</td>\n",
              "      <td id=\"T_4aae0_row1_col3\" class=\"data row1 col3\" >2001-07-01</td>\n",
              "    </tr>\n",
              "    <tr>\n",
              "      <td id=\"T_4aae0_row2_col0\" class=\"data row2 col0\" >Sania</td>\n",
              "      <td id=\"T_4aae0_row2_col1\" class=\"data row2 col1\" >Mirza</td>\n",
              "      <td id=\"T_4aae0_row2_col2\" class=\"data row2 col2\" >25000</td>\n",
              "      <td id=\"T_4aae0_row2_col3\" class=\"data row2 col3\" >2001-11-19</td>\n",
              "    </tr>\n",
              "  </tbody>\n",
              "</table>\n"
            ]
          },
          "metadata": {},
          "execution_count": 19
        }
      ]
    },
    {
      "cell_type": "markdown",
      "source": [
        "## Like"
      ],
      "metadata": {
        "id": "77DkYhfhU1lJ"
      }
    },
    {
      "cell_type": "code",
      "source": [
        "runSelect(\"select firstname, lastname, salary from empl where lastname like 'D%'\")"
      ],
      "metadata": {
        "colab": {
          "base_uri": "https://localhost:8080/",
          "height": 175
        },
        "id": "PBsdla2eVv1K",
        "outputId": "6fb7bedf-bb36-4353-9c15-b4bf53abad6e"
      },
      "execution_count": 20,
      "outputs": [
        {
          "output_type": "execute_result",
          "data": {
            "text/plain": [
              "<pandas.io.formats.style.Styler at 0x7f7477c57d90>"
            ],
            "text/html": [
              "<style type=\"text/css\">\n",
              "</style>\n",
              "<table id=\"T_87ce8\" class=\"dataframe\">\n",
              "  <thead>\n",
              "    <tr>\n",
              "      <th id=\"T_87ce8_level0_col0\" class=\"col_heading level0 col0\" >firstname</th>\n",
              "      <th id=\"T_87ce8_level0_col1\" class=\"col_heading level0 col1\" >lastname</th>\n",
              "      <th id=\"T_87ce8_level0_col2\" class=\"col_heading level0 col2\" >salary</th>\n",
              "    </tr>\n",
              "  </thead>\n",
              "  <tbody>\n",
              "    <tr>\n",
              "      <td id=\"T_87ce8_row0_col0\" class=\"data row0 col0\" >Madhuri</td>\n",
              "      <td id=\"T_87ce8_row0_col1\" class=\"data row0 col1\" >Dikshit</td>\n",
              "      <td id=\"T_87ce8_row0_col2\" class=\"data row0 col2\" >10000</td>\n",
              "    </tr>\n",
              "    <tr>\n",
              "      <td id=\"T_87ce8_row1_col0\" class=\"data row1 col0\" >Mahender</td>\n",
              "      <td id=\"T_87ce8_row1_col1\" class=\"data row1 col1\" >Dhoni</td>\n",
              "      <td id=\"T_87ce8_row1_col2\" class=\"data row1 col2\" >9000</td>\n",
              "    </tr>\n",
              "    <tr>\n",
              "      <td id=\"T_87ce8_row2_col0\" class=\"data row2 col0\" >Rahul</td>\n",
              "      <td id=\"T_87ce8_row2_col1\" class=\"data row2 col1\" >Dravid</td>\n",
              "      <td id=\"T_87ce8_row2_col2\" class=\"data row2 col2\" >40000</td>\n",
              "    </tr>\n",
              "    <tr>\n",
              "      <td id=\"T_87ce8_row3_col0\" class=\"data row3 col0\" >Jagmohan</td>\n",
              "      <td id=\"T_87ce8_row3_col1\" class=\"data row3 col1\" >Dalmia</td>\n",
              "      <td id=\"T_87ce8_row3_col2\" class=\"data row3 col2\" >12000</td>\n",
              "    </tr>\n",
              "  </tbody>\n",
              "</table>\n"
            ]
          },
          "metadata": {},
          "execution_count": 20
        }
      ]
    },
    {
      "cell_type": "code",
      "source": [
        "runSelect(\"select firstname, lastname, joindate from empl where lastname like '____i_'\")"
      ],
      "metadata": {
        "colab": {
          "base_uri": "https://localhost:8080/",
          "height": 112
        },
        "id": "xxImEDlKbm4U",
        "outputId": "7a776fdf-9670-467a-ad2e-de2fa20b05cd"
      },
      "execution_count": 21,
      "outputs": [
        {
          "output_type": "execute_result",
          "data": {
            "text/plain": [
              "<pandas.io.formats.style.Styler at 0x7f7477c26f20>"
            ],
            "text/html": [
              "<style type=\"text/css\">\n",
              "</style>\n",
              "<table id=\"T_5c6f1\" class=\"dataframe\">\n",
              "  <thead>\n",
              "    <tr>\n",
              "      <th id=\"T_5c6f1_level0_col0\" class=\"col_heading level0 col0\" >firstname</th>\n",
              "      <th id=\"T_5c6f1_level0_col1\" class=\"col_heading level0 col1\" >lastname</th>\n",
              "      <th id=\"T_5c6f1_level0_col2\" class=\"col_heading level0 col2\" >joindate</th>\n",
              "    </tr>\n",
              "  </thead>\n",
              "  <tbody>\n",
              "    <tr>\n",
              "      <td id=\"T_5c6f1_row0_col0\" class=\"data row0 col0\" >Rahul</td>\n",
              "      <td id=\"T_5c6f1_row0_col1\" class=\"data row0 col1\" >Dravid</td>\n",
              "      <td id=\"T_5c6f1_row0_col2\" class=\"data row0 col2\" >2000-06-04</td>\n",
              "    </tr>\n",
              "    <tr>\n",
              "      <td id=\"T_5c6f1_row1_col0\" class=\"data row1 col0\" >Jagmohan</td>\n",
              "      <td id=\"T_5c6f1_row1_col1\" class=\"data row1 col1\" >Dalmia</td>\n",
              "      <td id=\"T_5c6f1_row1_col2\" class=\"data row1 col2\" >2001-07-01</td>\n",
              "    </tr>\n",
              "  </tbody>\n",
              "</table>\n"
            ]
          },
          "metadata": {},
          "execution_count": 21
        }
      ]
    },
    {
      "cell_type": "code",
      "source": [
        "runSelect(\"select firstname, lastname, jobdesc from empl where lastname like '____i%'\")"
      ],
      "metadata": {
        "colab": {
          "base_uri": "https://localhost:8080/",
          "height": 143
        },
        "id": "pL7VPLo4b2g3",
        "outputId": "bc32935a-8187-4545-f933-7a7608ea0043"
      },
      "execution_count": 22,
      "outputs": [
        {
          "output_type": "execute_result",
          "data": {
            "text/plain": [
              "<pandas.io.formats.style.Styler at 0x7f7477c578e0>"
            ],
            "text/html": [
              "<style type=\"text/css\">\n",
              "</style>\n",
              "<table id=\"T_3871f\" class=\"dataframe\">\n",
              "  <thead>\n",
              "    <tr>\n",
              "      <th id=\"T_3871f_level0_col0\" class=\"col_heading level0 col0\" >firstname</th>\n",
              "      <th id=\"T_3871f_level0_col1\" class=\"col_heading level0 col1\" >lastname</th>\n",
              "      <th id=\"T_3871f_level0_col2\" class=\"col_heading level0 col2\" >jobdesc</th>\n",
              "    </tr>\n",
              "  </thead>\n",
              "  <tbody>\n",
              "    <tr>\n",
              "      <td id=\"T_3871f_row0_col0\" class=\"data row0 col0\" >Mahender</td>\n",
              "      <td id=\"T_3871f_row0_col1\" class=\"data row0 col1\" >Dhoni</td>\n",
              "      <td id=\"T_3871f_row0_col2\" class=\"data row0 col2\" >Clerk</td>\n",
              "    </tr>\n",
              "    <tr>\n",
              "      <td id=\"T_3871f_row1_col0\" class=\"data row1 col0\" >Rahul</td>\n",
              "      <td id=\"T_3871f_row1_col1\" class=\"data row1 col1\" >Dravid</td>\n",
              "      <td id=\"T_3871f_row1_col2\" class=\"data row1 col2\" >Sr Manager</td>\n",
              "    </tr>\n",
              "    <tr>\n",
              "      <td id=\"T_3871f_row2_col0\" class=\"data row2 col0\" >Jagmohan</td>\n",
              "      <td id=\"T_3871f_row2_col1\" class=\"data row2 col1\" >Dalmia</td>\n",
              "      <td id=\"T_3871f_row2_col2\" class=\"data row2 col2\" >Clerk</td>\n",
              "    </tr>\n",
              "  </tbody>\n",
              "</table>\n"
            ]
          },
          "metadata": {},
          "execution_count": 22
        }
      ]
    },
    {
      "cell_type": "markdown",
      "source": [
        "## Between"
      ],
      "metadata": {
        "id": "qw2h8Vtvey2R"
      }
    },
    {
      "cell_type": "code",
      "source": [
        "runSelect(\"select firstname, lastname, salary from empl where salary between 10000 and 20000\")"
      ],
      "metadata": {
        "colab": {
          "base_uri": "https://localhost:8080/",
          "height": 175
        },
        "id": "sI_qlRdXe7S8",
        "outputId": "4182cee1-72c1-41ad-c9b8-946b41ca4b09"
      },
      "execution_count": 23,
      "outputs": [
        {
          "output_type": "execute_result",
          "data": {
            "text/plain": [
              "<pandas.io.formats.style.Styler at 0x7f7477c26410>"
            ],
            "text/html": [
              "<style type=\"text/css\">\n",
              "</style>\n",
              "<table id=\"T_2a91e\" class=\"dataframe\">\n",
              "  <thead>\n",
              "    <tr>\n",
              "      <th id=\"T_2a91e_level0_col0\" class=\"col_heading level0 col0\" >firstname</th>\n",
              "      <th id=\"T_2a91e_level0_col1\" class=\"col_heading level0 col1\" >lastname</th>\n",
              "      <th id=\"T_2a91e_level0_col2\" class=\"col_heading level0 col2\" >salary</th>\n",
              "    </tr>\n",
              "  </thead>\n",
              "  <tbody>\n",
              "    <tr>\n",
              "      <td id=\"T_2a91e_row0_col0\" class=\"data row0 col0\" >Madhuri</td>\n",
              "      <td id=\"T_2a91e_row0_col1\" class=\"data row0 col1\" >Dikshit</td>\n",
              "      <td id=\"T_2a91e_row0_col2\" class=\"data row0 col2\" >10000</td>\n",
              "    </tr>\n",
              "    <tr>\n",
              "      <td id=\"T_2a91e_row1_col0\" class=\"data row1 col0\" >Virender</td>\n",
              "      <td id=\"T_2a91e_row1_col1\" class=\"data row1 col1\" >Sehwag</td>\n",
              "      <td id=\"T_2a91e_row1_col2\" class=\"data row1 col2\" >15000</td>\n",
              "    </tr>\n",
              "    <tr>\n",
              "      <td id=\"T_2a91e_row2_col0\" class=\"data row2 col0\" >Jagmohan</td>\n",
              "      <td id=\"T_2a91e_row2_col1\" class=\"data row2 col1\" >Dalmia</td>\n",
              "      <td id=\"T_2a91e_row2_col2\" class=\"data row2 col2\" >12000</td>\n",
              "    </tr>\n",
              "    <tr>\n",
              "      <td id=\"T_2a91e_row3_col0\" class=\"data row3 col0\" >Sourav</td>\n",
              "      <td id=\"T_2a91e_row3_col1\" class=\"data row3 col1\" >Ganguly</td>\n",
              "      <td id=\"T_2a91e_row3_col2\" class=\"data row3 col2\" >20000</td>\n",
              "    </tr>\n",
              "  </tbody>\n",
              "</table>\n"
            ]
          },
          "metadata": {},
          "execution_count": 23
        }
      ]
    },
    {
      "cell_type": "code",
      "source": [
        "runSelect(\"select firstname, lastname, joindate from empl where joindate between '2004-01-01' and '2005-01-01'\")"
      ],
      "metadata": {
        "colab": {
          "base_uri": "https://localhost:8080/",
          "height": 112
        },
        "id": "b_mWyFTnfIEy",
        "outputId": "1dda66f7-e4e6-497b-a98b-0aa128e6afec"
      },
      "execution_count": 24,
      "outputs": [
        {
          "output_type": "execute_result",
          "data": {
            "text/plain": [
              "<pandas.io.formats.style.Styler at 0x7f7477c26920>"
            ],
            "text/html": [
              "<style type=\"text/css\">\n",
              "</style>\n",
              "<table id=\"T_19497\" class=\"dataframe\">\n",
              "  <thead>\n",
              "    <tr>\n",
              "      <th id=\"T_19497_level0_col0\" class=\"col_heading level0 col0\" >firstname</th>\n",
              "      <th id=\"T_19497_level0_col1\" class=\"col_heading level0 col1\" >lastname</th>\n",
              "      <th id=\"T_19497_level0_col2\" class=\"col_heading level0 col2\" >joindate</th>\n",
              "    </tr>\n",
              "  </thead>\n",
              "  <tbody>\n",
              "    <tr>\n",
              "      <td id=\"T_19497_row0_col0\" class=\"data row0 col0\" >Shahrukh</td>\n",
              "      <td id=\"T_19497_row0_col1\" class=\"data row0 col1\" >Khan</td>\n",
              "      <td id=\"T_19497_row0_col2\" class=\"data row0 col2\" >2004-01-03</td>\n",
              "    </tr>\n",
              "    <tr>\n",
              "      <td id=\"T_19497_row1_col0\" class=\"data row1 col0\" >Mahender</td>\n",
              "      <td id=\"T_19497_row1_col1\" class=\"data row1 col1\" >Dhoni</td>\n",
              "      <td id=\"T_19497_row1_col2\" class=\"data row1 col2\" >2004-10-09</td>\n",
              "    </tr>\n",
              "  </tbody>\n",
              "</table>\n"
            ]
          },
          "metadata": {},
          "execution_count": 24
        }
      ]
    },
    {
      "cell_type": "code",
      "source": [
        "runSelect(\"select firstname, lastname, joindate from empl where lastname between 'Dho' and 'Kha'\")"
      ],
      "metadata": {
        "colab": {
          "base_uri": "https://localhost:8080/",
          "height": 238
        },
        "id": "qXs9AeS2fwCS",
        "outputId": "ef7bd3b1-b0fd-4d64-b8ab-a918ce05af8a"
      },
      "execution_count": 25,
      "outputs": [
        {
          "output_type": "execute_result",
          "data": {
            "text/plain": [
              "<pandas.io.formats.style.Styler at 0x7f7477c55a20>"
            ],
            "text/html": [
              "<style type=\"text/css\">\n",
              "</style>\n",
              "<table id=\"T_6a7be\" class=\"dataframe\">\n",
              "  <thead>\n",
              "    <tr>\n",
              "      <th id=\"T_6a7be_level0_col0\" class=\"col_heading level0 col0\" >firstname</th>\n",
              "      <th id=\"T_6a7be_level0_col1\" class=\"col_heading level0 col1\" >lastname</th>\n",
              "      <th id=\"T_6a7be_level0_col2\" class=\"col_heading level0 col2\" >joindate</th>\n",
              "    </tr>\n",
              "  </thead>\n",
              "  <tbody>\n",
              "    <tr>\n",
              "      <td id=\"T_6a7be_row0_col0\" class=\"data row0 col0\" >Madhuri</td>\n",
              "      <td id=\"T_6a7be_row0_col1\" class=\"data row0 col1\" >Dikshit</td>\n",
              "      <td id=\"T_6a7be_row0_col2\" class=\"data row0 col2\" >2002-04-04</td>\n",
              "    </tr>\n",
              "    <tr>\n",
              "      <td id=\"T_6a7be_row1_col0\" class=\"data row1 col0\" >Mahender</td>\n",
              "      <td id=\"T_6a7be_row1_col1\" class=\"data row1 col1\" >Dhoni</td>\n",
              "      <td id=\"T_6a7be_row1_col2\" class=\"data row1 col2\" >2004-10-09</td>\n",
              "    </tr>\n",
              "    <tr>\n",
              "      <td id=\"T_6a7be_row2_col0\" class=\"data row2 col0\" >Rahul</td>\n",
              "      <td id=\"T_6a7be_row2_col1\" class=\"data row2 col1\" >Dravid</td>\n",
              "      <td id=\"T_6a7be_row2_col2\" class=\"data row2 col2\" >2000-06-04</td>\n",
              "    </tr>\n",
              "    <tr>\n",
              "      <td id=\"T_6a7be_row3_col0\" class=\"data row3 col0\" >Sourav</td>\n",
              "      <td id=\"T_6a7be_row3_col1\" class=\"data row3 col1\" >Ganguly</td>\n",
              "      <td id=\"T_6a7be_row3_col2\" class=\"data row3 col2\" >2002-01-01</td>\n",
              "    </tr>\n",
              "    <tr>\n",
              "      <td id=\"T_6a7be_row4_col0\" class=\"data row4 col0\" >Rekha</td>\n",
              "      <td id=\"T_6a7be_row4_col1\" class=\"data row4 col1\" >Ganesan</td>\n",
              "      <td id=\"T_6a7be_row4_col2\" class=\"data row4 col2\" >2002-10-10</td>\n",
              "    </tr>\n",
              "    <tr>\n",
              "      <td id=\"T_6a7be_row5_col0\" class=\"data row5 col0\" >Narayan</td>\n",
              "      <td id=\"T_6a7be_row5_col1\" class=\"data row5 col1\" >Karthikeyan</td>\n",
              "      <td id=\"T_6a7be_row5_col2\" class=\"data row5 col2\" >2005-12-04</td>\n",
              "    </tr>\n",
              "  </tbody>\n",
              "</table>\n"
            ]
          },
          "metadata": {},
          "execution_count": 25
        }
      ]
    },
    {
      "cell_type": "markdown",
      "source": [
        "## IN"
      ],
      "metadata": {
        "id": "azhy0TQLiLy-"
      }
    },
    {
      "cell_type": "code",
      "source": [
        "runSelect(\"select firstname, lastname, deptid from empl where deptid in ('30','20','70')\")"
      ],
      "metadata": {
        "colab": {
          "base_uri": "https://localhost:8080/",
          "height": 269
        },
        "id": "UyBE-FuoibSZ",
        "outputId": "a874d6b4-406e-4402-c643-5701776de712"
      },
      "execution_count": 26,
      "outputs": [
        {
          "output_type": "execute_result",
          "data": {
            "text/plain": [
              "<pandas.io.formats.style.Styler at 0x7f7477c576a0>"
            ],
            "text/html": [
              "<style type=\"text/css\">\n",
              "</style>\n",
              "<table id=\"T_8aac4\" class=\"dataframe\">\n",
              "  <thead>\n",
              "    <tr>\n",
              "      <th id=\"T_8aac4_level0_col0\" class=\"col_heading level0 col0\" >firstname</th>\n",
              "      <th id=\"T_8aac4_level0_col1\" class=\"col_heading level0 col1\" >lastname</th>\n",
              "      <th id=\"T_8aac4_level0_col2\" class=\"col_heading level0 col2\" >deptid</th>\n",
              "    </tr>\n",
              "  </thead>\n",
              "  <tbody>\n",
              "    <tr>\n",
              "      <td id=\"T_8aac4_row0_col0\" class=\"data row0 col0\" >Madhuri</td>\n",
              "      <td id=\"T_8aac4_row0_col1\" class=\"data row0 col1\" >Dikshit</td>\n",
              "      <td id=\"T_8aac4_row0_col2\" class=\"data row0 col2\" >20</td>\n",
              "    </tr>\n",
              "    <tr>\n",
              "      <td id=\"T_8aac4_row1_col0\" class=\"data row1 col0\" >Shahrukh</td>\n",
              "      <td id=\"T_8aac4_row1_col1\" class=\"data row1 col1\" >Khan</td>\n",
              "      <td id=\"T_8aac4_row1_col2\" class=\"data row1 col2\" >20</td>\n",
              "    </tr>\n",
              "    <tr>\n",
              "      <td id=\"T_8aac4_row2_col0\" class=\"data row2 col0\" >Virender</td>\n",
              "      <td id=\"T_8aac4_row2_col1\" class=\"data row2 col1\" >Sehwag</td>\n",
              "      <td id=\"T_8aac4_row2_col2\" class=\"data row2 col2\" >20</td>\n",
              "    </tr>\n",
              "    <tr>\n",
              "      <td id=\"T_8aac4_row3_col0\" class=\"data row3 col0\" >Rahul</td>\n",
              "      <td id=\"T_8aac4_row3_col1\" class=\"data row3 col1\" >Dravid</td>\n",
              "      <td id=\"T_8aac4_row3_col2\" class=\"data row3 col2\" >30</td>\n",
              "    </tr>\n",
              "    <tr>\n",
              "      <td id=\"T_8aac4_row4_col0\" class=\"data row4 col0\" >Jagmohan</td>\n",
              "      <td id=\"T_8aac4_row4_col1\" class=\"data row4 col1\" >Dalmia</td>\n",
              "      <td id=\"T_8aac4_row4_col2\" class=\"data row4 col2\" >30</td>\n",
              "    </tr>\n",
              "    <tr>\n",
              "      <td id=\"T_8aac4_row5_col0\" class=\"data row5 col0\" >Chettri</td>\n",
              "      <td id=\"T_8aac4_row5_col1\" class=\"data row5 col1\" >Sunil</td>\n",
              "      <td id=\"T_8aac4_row5_col2\" class=\"data row5 col2\" >70</td>\n",
              "    </tr>\n",
              "    <tr>\n",
              "      <td id=\"T_8aac4_row6_col0\" class=\"data row6 col0\" >Sania</td>\n",
              "      <td id=\"T_8aac4_row6_col1\" class=\"data row6 col1\" >Mirza</td>\n",
              "      <td id=\"T_8aac4_row6_col2\" class=\"data row6 col2\" >30</td>\n",
              "    </tr>\n",
              "  </tbody>\n",
              "</table>\n"
            ]
          },
          "metadata": {},
          "execution_count": 26
        }
      ]
    },
    {
      "cell_type": "code",
      "source": [
        "runSelect(\"select firstname, lastname, salary from empl where firstname in ('Madhuri','Shahrukh','Virender')\")"
      ],
      "metadata": {
        "colab": {
          "base_uri": "https://localhost:8080/",
          "height": 143
        },
        "id": "9qTEO-OuiN3A",
        "outputId": "e3bc9b39-c72e-4879-fe98-884571cd89a5"
      },
      "execution_count": 27,
      "outputs": [
        {
          "output_type": "execute_result",
          "data": {
            "text/plain": [
              "<pandas.io.formats.style.Styler at 0x7f7477c56050>"
            ],
            "text/html": [
              "<style type=\"text/css\">\n",
              "</style>\n",
              "<table id=\"T_b83fd\" class=\"dataframe\">\n",
              "  <thead>\n",
              "    <tr>\n",
              "      <th id=\"T_b83fd_level0_col0\" class=\"col_heading level0 col0\" >firstname</th>\n",
              "      <th id=\"T_b83fd_level0_col1\" class=\"col_heading level0 col1\" >lastname</th>\n",
              "      <th id=\"T_b83fd_level0_col2\" class=\"col_heading level0 col2\" >salary</th>\n",
              "    </tr>\n",
              "  </thead>\n",
              "  <tbody>\n",
              "    <tr>\n",
              "      <td id=\"T_b83fd_row0_col0\" class=\"data row0 col0\" >Madhuri</td>\n",
              "      <td id=\"T_b83fd_row0_col1\" class=\"data row0 col1\" >Dikshit</td>\n",
              "      <td id=\"T_b83fd_row0_col2\" class=\"data row0 col2\" >10000</td>\n",
              "    </tr>\n",
              "    <tr>\n",
              "      <td id=\"T_b83fd_row1_col0\" class=\"data row1 col0\" >Shahrukh</td>\n",
              "      <td id=\"T_b83fd_row1_col1\" class=\"data row1 col1\" >Khan</td>\n",
              "      <td id=\"T_b83fd_row1_col2\" class=\"data row1 col2\" >30000</td>\n",
              "    </tr>\n",
              "    <tr>\n",
              "      <td id=\"T_b83fd_row2_col0\" class=\"data row2 col0\" >Virender</td>\n",
              "      <td id=\"T_b83fd_row2_col1\" class=\"data row2 col1\" >Sehwag</td>\n",
              "      <td id=\"T_b83fd_row2_col2\" class=\"data row2 col2\" >15000</td>\n",
              "    </tr>\n",
              "  </tbody>\n",
              "</table>\n"
            ]
          },
          "metadata": {},
          "execution_count": 27
        }
      ]
    },
    {
      "cell_type": "markdown",
      "source": [
        "## Order by"
      ],
      "metadata": {
        "id": "vlOCT_zAkzMb"
      }
    },
    {
      "cell_type": "code",
      "source": [
        "runSelect(\"select firstname, lastname, joindate from empl where firstname in ('Madhuri','Shahrukh','Virender') order by joindate\")"
      ],
      "metadata": {
        "colab": {
          "base_uri": "https://localhost:8080/",
          "height": 143
        },
        "id": "WidoGzLVk1in",
        "outputId": "9f505607-853b-405f-a658-d3cec547befc"
      },
      "execution_count": 28,
      "outputs": [
        {
          "output_type": "execute_result",
          "data": {
            "text/plain": [
              "<pandas.io.formats.style.Styler at 0x7f7477c57a60>"
            ],
            "text/html": [
              "<style type=\"text/css\">\n",
              "</style>\n",
              "<table id=\"T_fa5e8\" class=\"dataframe\">\n",
              "  <thead>\n",
              "    <tr>\n",
              "      <th id=\"T_fa5e8_level0_col0\" class=\"col_heading level0 col0\" >firstname</th>\n",
              "      <th id=\"T_fa5e8_level0_col1\" class=\"col_heading level0 col1\" >lastname</th>\n",
              "      <th id=\"T_fa5e8_level0_col2\" class=\"col_heading level0 col2\" >joindate</th>\n",
              "    </tr>\n",
              "  </thead>\n",
              "  <tbody>\n",
              "    <tr>\n",
              "      <td id=\"T_fa5e8_row0_col0\" class=\"data row0 col0\" >Madhuri</td>\n",
              "      <td id=\"T_fa5e8_row0_col1\" class=\"data row0 col1\" >Dikshit</td>\n",
              "      <td id=\"T_fa5e8_row0_col2\" class=\"data row0 col2\" >2002-04-04</td>\n",
              "    </tr>\n",
              "    <tr>\n",
              "      <td id=\"T_fa5e8_row1_col0\" class=\"data row1 col0\" >Shahrukh</td>\n",
              "      <td id=\"T_fa5e8_row1_col1\" class=\"data row1 col1\" >Khan</td>\n",
              "      <td id=\"T_fa5e8_row1_col2\" class=\"data row1 col2\" >2004-01-03</td>\n",
              "    </tr>\n",
              "    <tr>\n",
              "      <td id=\"T_fa5e8_row2_col0\" class=\"data row2 col0\" >Virender</td>\n",
              "      <td id=\"T_fa5e8_row2_col1\" class=\"data row2 col1\" >Sehwag</td>\n",
              "      <td id=\"T_fa5e8_row2_col2\" class=\"data row2 col2\" >2005-01-02</td>\n",
              "    </tr>\n",
              "  </tbody>\n",
              "</table>\n"
            ]
          },
          "metadata": {},
          "execution_count": 28
        }
      ]
    },
    {
      "cell_type": "code",
      "source": [
        "runSelect(\"select firstname, lastname, jobdesc, salary, deptid from empl where deptid = '10' order by salary desc\")"
      ],
      "metadata": {
        "colab": {
          "base_uri": "https://localhost:8080/",
          "height": 143
        },
        "id": "Iq_7jWr-lRlO",
        "outputId": "65c0958b-251c-48d3-ec8b-e9791bd71df6"
      },
      "execution_count": 29,
      "outputs": [
        {
          "output_type": "execute_result",
          "data": {
            "text/plain": [
              "<pandas.io.formats.style.Styler at 0x7f7477c56b60>"
            ],
            "text/html": [
              "<style type=\"text/css\">\n",
              "</style>\n",
              "<table id=\"T_f4126\" class=\"dataframe\">\n",
              "  <thead>\n",
              "    <tr>\n",
              "      <th id=\"T_f4126_level0_col0\" class=\"col_heading level0 col0\" >firstname</th>\n",
              "      <th id=\"T_f4126_level0_col1\" class=\"col_heading level0 col1\" >lastname</th>\n",
              "      <th id=\"T_f4126_level0_col2\" class=\"col_heading level0 col2\" >jobdesc</th>\n",
              "      <th id=\"T_f4126_level0_col3\" class=\"col_heading level0 col3\" >salary</th>\n",
              "      <th id=\"T_f4126_level0_col4\" class=\"col_heading level0 col4\" >deptid</th>\n",
              "    </tr>\n",
              "  </thead>\n",
              "  <tbody>\n",
              "    <tr>\n",
              "      <td id=\"T_f4126_row0_col0\" class=\"data row0 col0\" >Rekha</td>\n",
              "      <td id=\"T_f4126_row0_col1\" class=\"data row0 col1\" >Ganesan</td>\n",
              "      <td id=\"T_f4126_row0_col2\" class=\"data row0 col2\" >Director</td>\n",
              "      <td id=\"T_f4126_row0_col3\" class=\"data row0 col3\" >60000</td>\n",
              "      <td id=\"T_f4126_row0_col4\" class=\"data row0 col4\" >10</td>\n",
              "    </tr>\n",
              "    <tr>\n",
              "      <td id=\"T_f4126_row1_col0\" class=\"data row1 col0\" >Amitabh</td>\n",
              "      <td id=\"T_f4126_row1_col1\" class=\"data row1 col1\" >Bacchan</td>\n",
              "      <td id=\"T_f4126_row1_col2\" class=\"data row1 col2\" >Executive</td>\n",
              "      <td id=\"T_f4126_row1_col3\" class=\"data row1 col3\" >50000</td>\n",
              "      <td id=\"T_f4126_row1_col4\" class=\"data row1 col4\" >10</td>\n",
              "    </tr>\n",
              "    <tr>\n",
              "      <td id=\"T_f4126_row2_col0\" class=\"data row2 col0\" >Narayan</td>\n",
              "      <td id=\"T_f4126_row2_col1\" class=\"data row2 col1\" >Karthikeyan</td>\n",
              "      <td id=\"T_f4126_row2_col2\" class=\"data row2 col2\" >Secretary</td>\n",
              "      <td id=\"T_f4126_row2_col3\" class=\"data row2 col3\" >40000</td>\n",
              "      <td id=\"T_f4126_row2_col4\" class=\"data row2 col4\" >10</td>\n",
              "    </tr>\n",
              "  </tbody>\n",
              "</table>\n"
            ]
          },
          "metadata": {},
          "execution_count": 29
        }
      ]
    },
    {
      "cell_type": "markdown",
      "source": [
        "## Logical AND | OR"
      ],
      "metadata": {
        "id": "-JDEmZtsm0o1"
      }
    },
    {
      "cell_type": "code",
      "source": [
        "runSelect(\"select lastname, jobdesc, salary, deptid from empl where deptid = '20'\")"
      ],
      "metadata": {
        "colab": {
          "base_uri": "https://localhost:8080/",
          "height": 143
        },
        "id": "rli0DBhIm54M",
        "outputId": "ab7fde26-5a95-4b72-a8bf-8610885e529d"
      },
      "execution_count": 30,
      "outputs": [
        {
          "output_type": "execute_result",
          "data": {
            "text/plain": [
              "<pandas.io.formats.style.Styler at 0x7f7477c54880>"
            ],
            "text/html": [
              "<style type=\"text/css\">\n",
              "</style>\n",
              "<table id=\"T_05bac\" class=\"dataframe\">\n",
              "  <thead>\n",
              "    <tr>\n",
              "      <th id=\"T_05bac_level0_col0\" class=\"col_heading level0 col0\" >lastname</th>\n",
              "      <th id=\"T_05bac_level0_col1\" class=\"col_heading level0 col1\" >jobdesc</th>\n",
              "      <th id=\"T_05bac_level0_col2\" class=\"col_heading level0 col2\" >salary</th>\n",
              "      <th id=\"T_05bac_level0_col3\" class=\"col_heading level0 col3\" >deptid</th>\n",
              "    </tr>\n",
              "  </thead>\n",
              "  <tbody>\n",
              "    <tr>\n",
              "      <td id=\"T_05bac_row0_col0\" class=\"data row0 col0\" >Dikshit</td>\n",
              "      <td id=\"T_05bac_row0_col1\" class=\"data row0 col1\" >Clerk</td>\n",
              "      <td id=\"T_05bac_row0_col2\" class=\"data row0 col2\" >10000</td>\n",
              "      <td id=\"T_05bac_row0_col3\" class=\"data row0 col3\" >20</td>\n",
              "    </tr>\n",
              "    <tr>\n",
              "      <td id=\"T_05bac_row1_col0\" class=\"data row1 col0\" >Khan</td>\n",
              "      <td id=\"T_05bac_row1_col1\" class=\"data row1 col1\" >Manager</td>\n",
              "      <td id=\"T_05bac_row1_col2\" class=\"data row1 col2\" >30000</td>\n",
              "      <td id=\"T_05bac_row1_col3\" class=\"data row1 col3\" >20</td>\n",
              "    </tr>\n",
              "    <tr>\n",
              "      <td id=\"T_05bac_row2_col0\" class=\"data row2 col0\" >Sehwag</td>\n",
              "      <td id=\"T_05bac_row2_col1\" class=\"data row2 col1\" >Cus_Rep</td>\n",
              "      <td id=\"T_05bac_row2_col2\" class=\"data row2 col2\" >15000</td>\n",
              "      <td id=\"T_05bac_row2_col3\" class=\"data row2 col3\" >20</td>\n",
              "    </tr>\n",
              "  </tbody>\n",
              "</table>\n"
            ]
          },
          "metadata": {},
          "execution_count": 30
        }
      ]
    },
    {
      "cell_type": "code",
      "source": [
        "runSelect(\"select lastname, jobdesc, salary, deptid from empl where deptid = '20' and salary > 10000\")"
      ],
      "metadata": {
        "colab": {
          "base_uri": "https://localhost:8080/",
          "height": 112
        },
        "id": "wHIJoUGqnuwa",
        "outputId": "54fe2495-ad6d-482c-9f5b-e3dd4fa285a4"
      },
      "execution_count": 31,
      "outputs": [
        {
          "output_type": "execute_result",
          "data": {
            "text/plain": [
              "<pandas.io.formats.style.Styler at 0x7f7477c57640>"
            ],
            "text/html": [
              "<style type=\"text/css\">\n",
              "</style>\n",
              "<table id=\"T_eaa17\" class=\"dataframe\">\n",
              "  <thead>\n",
              "    <tr>\n",
              "      <th id=\"T_eaa17_level0_col0\" class=\"col_heading level0 col0\" >lastname</th>\n",
              "      <th id=\"T_eaa17_level0_col1\" class=\"col_heading level0 col1\" >jobdesc</th>\n",
              "      <th id=\"T_eaa17_level0_col2\" class=\"col_heading level0 col2\" >salary</th>\n",
              "      <th id=\"T_eaa17_level0_col3\" class=\"col_heading level0 col3\" >deptid</th>\n",
              "    </tr>\n",
              "  </thead>\n",
              "  <tbody>\n",
              "    <tr>\n",
              "      <td id=\"T_eaa17_row0_col0\" class=\"data row0 col0\" >Khan</td>\n",
              "      <td id=\"T_eaa17_row0_col1\" class=\"data row0 col1\" >Manager</td>\n",
              "      <td id=\"T_eaa17_row0_col2\" class=\"data row0 col2\" >30000</td>\n",
              "      <td id=\"T_eaa17_row0_col3\" class=\"data row0 col3\" >20</td>\n",
              "    </tr>\n",
              "    <tr>\n",
              "      <td id=\"T_eaa17_row1_col0\" class=\"data row1 col0\" >Sehwag</td>\n",
              "      <td id=\"T_eaa17_row1_col1\" class=\"data row1 col1\" >Cus_Rep</td>\n",
              "      <td id=\"T_eaa17_row1_col2\" class=\"data row1 col2\" >15000</td>\n",
              "      <td id=\"T_eaa17_row1_col3\" class=\"data row1 col3\" >20</td>\n",
              "    </tr>\n",
              "  </tbody>\n",
              "</table>\n"
            ]
          },
          "metadata": {},
          "execution_count": 31
        }
      ]
    },
    {
      "cell_type": "code",
      "source": [
        "runSelect(\"select lastname, jobdesc, salary, deptid from empl where deptid = '20' and salary > 10000 and jobdesc = 'Clerk'\")"
      ],
      "metadata": {
        "colab": {
          "base_uri": "https://localhost:8080/"
        },
        "id": "fnB8p8-EnzH2",
        "outputId": "89cd07ef-b3e1-485d-de61-fa3abd051f64"
      },
      "execution_count": 32,
      "outputs": [
        {
          "output_type": "stream",
          "name": "stdout",
          "text": [
            "no records found\n"
          ]
        }
      ]
    },
    {
      "cell_type": "code",
      "source": [
        "runSelect(\"select lastname, jobdesc, deptid from empl where deptid = '70'\")"
      ],
      "metadata": {
        "colab": {
          "base_uri": "https://localhost:8080/",
          "height": 81
        },
        "id": "uEKUIgOMqtLw",
        "outputId": "2797bf86-da5a-4ab8-970f-7c35e2b9cde6"
      },
      "execution_count": 33,
      "outputs": [
        {
          "output_type": "execute_result",
          "data": {
            "text/plain": [
              "<pandas.io.formats.style.Styler at 0x7f7477a80ee0>"
            ],
            "text/html": [
              "<style type=\"text/css\">\n",
              "</style>\n",
              "<table id=\"T_767f7\" class=\"dataframe\">\n",
              "  <thead>\n",
              "    <tr>\n",
              "      <th id=\"T_767f7_level0_col0\" class=\"col_heading level0 col0\" >lastname</th>\n",
              "      <th id=\"T_767f7_level0_col1\" class=\"col_heading level0 col1\" >jobdesc</th>\n",
              "      <th id=\"T_767f7_level0_col2\" class=\"col_heading level0 col2\" >deptid</th>\n",
              "    </tr>\n",
              "  </thead>\n",
              "  <tbody>\n",
              "    <tr>\n",
              "      <td id=\"T_767f7_row0_col0\" class=\"data row0 col0\" >Sunil</td>\n",
              "      <td id=\"T_767f7_row0_col1\" class=\"data row0 col1\" >Dy Manager</td>\n",
              "      <td id=\"T_767f7_row0_col2\" class=\"data row0 col2\" >70</td>\n",
              "    </tr>\n",
              "  </tbody>\n",
              "</table>\n"
            ]
          },
          "metadata": {},
          "execution_count": 33
        }
      ]
    },
    {
      "cell_type": "code",
      "source": [
        "runSelect(\"select lastname, jobdesc, deptid from empl where deptid = '70' or jobdesc like '%Manager'\")"
      ],
      "metadata": {
        "colab": {
          "base_uri": "https://localhost:8080/",
          "height": 175
        },
        "id": "Ne0eLRV3qyTn",
        "outputId": "ecad2f5c-947f-4729-8e1d-4d648b182161"
      },
      "execution_count": 34,
      "outputs": [
        {
          "output_type": "execute_result",
          "data": {
            "text/plain": [
              "<pandas.io.formats.style.Styler at 0x7f7477a809d0>"
            ],
            "text/html": [
              "<style type=\"text/css\">\n",
              "</style>\n",
              "<table id=\"T_92368\" class=\"dataframe\">\n",
              "  <thead>\n",
              "    <tr>\n",
              "      <th id=\"T_92368_level0_col0\" class=\"col_heading level0 col0\" >lastname</th>\n",
              "      <th id=\"T_92368_level0_col1\" class=\"col_heading level0 col1\" >jobdesc</th>\n",
              "      <th id=\"T_92368_level0_col2\" class=\"col_heading level0 col2\" >deptid</th>\n",
              "    </tr>\n",
              "  </thead>\n",
              "  <tbody>\n",
              "    <tr>\n",
              "      <td id=\"T_92368_row0_col0\" class=\"data row0 col0\" >Mukherjee</td>\n",
              "      <td id=\"T_92368_row0_col1\" class=\"data row0 col1\" >Manager</td>\n",
              "      <td id=\"T_92368_row0_col2\" class=\"data row0 col2\" >40</td>\n",
              "    </tr>\n",
              "    <tr>\n",
              "      <td id=\"T_92368_row1_col0\" class=\"data row1 col0\" >Khan</td>\n",
              "      <td id=\"T_92368_row1_col1\" class=\"data row1 col1\" >Manager</td>\n",
              "      <td id=\"T_92368_row1_col2\" class=\"data row1 col2\" >20</td>\n",
              "    </tr>\n",
              "    <tr>\n",
              "      <td id=\"T_92368_row2_col0\" class=\"data row2 col0\" >Dravid</td>\n",
              "      <td id=\"T_92368_row2_col1\" class=\"data row2 col1\" >Sr Manager</td>\n",
              "      <td id=\"T_92368_row2_col2\" class=\"data row2 col2\" >30</td>\n",
              "    </tr>\n",
              "    <tr>\n",
              "      <td id=\"T_92368_row3_col0\" class=\"data row3 col0\" >Sunil</td>\n",
              "      <td id=\"T_92368_row3_col1\" class=\"data row3 col1\" >Dy Manager</td>\n",
              "      <td id=\"T_92368_row3_col2\" class=\"data row3 col2\" >70</td>\n",
              "    </tr>\n",
              "  </tbody>\n",
              "</table>\n"
            ]
          },
          "metadata": {},
          "execution_count": 34
        }
      ]
    },
    {
      "cell_type": "code",
      "source": [
        "runSelect(\"select lastname, jobdesc, deptid from empl where deptid = '70' or jobdesc like '%Manager' or lastname = 'Dikshit'\")"
      ],
      "metadata": {
        "colab": {
          "base_uri": "https://localhost:8080/",
          "height": 206
        },
        "id": "aR3eNz7xq8Xo",
        "outputId": "3a624f24-956e-4008-819a-1f02ab0bfda1"
      },
      "execution_count": 35,
      "outputs": [
        {
          "output_type": "execute_result",
          "data": {
            "text/plain": [
              "<pandas.io.formats.style.Styler at 0x7f7477a81780>"
            ],
            "text/html": [
              "<style type=\"text/css\">\n",
              "</style>\n",
              "<table id=\"T_5cd0e\" class=\"dataframe\">\n",
              "  <thead>\n",
              "    <tr>\n",
              "      <th id=\"T_5cd0e_level0_col0\" class=\"col_heading level0 col0\" >lastname</th>\n",
              "      <th id=\"T_5cd0e_level0_col1\" class=\"col_heading level0 col1\" >jobdesc</th>\n",
              "      <th id=\"T_5cd0e_level0_col2\" class=\"col_heading level0 col2\" >deptid</th>\n",
              "    </tr>\n",
              "  </thead>\n",
              "  <tbody>\n",
              "    <tr>\n",
              "      <td id=\"T_5cd0e_row0_col0\" class=\"data row0 col0\" >Mukherjee</td>\n",
              "      <td id=\"T_5cd0e_row0_col1\" class=\"data row0 col1\" >Manager</td>\n",
              "      <td id=\"T_5cd0e_row0_col2\" class=\"data row0 col2\" >40</td>\n",
              "    </tr>\n",
              "    <tr>\n",
              "      <td id=\"T_5cd0e_row1_col0\" class=\"data row1 col0\" >Dikshit</td>\n",
              "      <td id=\"T_5cd0e_row1_col1\" class=\"data row1 col1\" >Clerk</td>\n",
              "      <td id=\"T_5cd0e_row1_col2\" class=\"data row1 col2\" >20</td>\n",
              "    </tr>\n",
              "    <tr>\n",
              "      <td id=\"T_5cd0e_row2_col0\" class=\"data row2 col0\" >Khan</td>\n",
              "      <td id=\"T_5cd0e_row2_col1\" class=\"data row2 col1\" >Manager</td>\n",
              "      <td id=\"T_5cd0e_row2_col2\" class=\"data row2 col2\" >20</td>\n",
              "    </tr>\n",
              "    <tr>\n",
              "      <td id=\"T_5cd0e_row3_col0\" class=\"data row3 col0\" >Dravid</td>\n",
              "      <td id=\"T_5cd0e_row3_col1\" class=\"data row3 col1\" >Sr Manager</td>\n",
              "      <td id=\"T_5cd0e_row3_col2\" class=\"data row3 col2\" >30</td>\n",
              "    </tr>\n",
              "    <tr>\n",
              "      <td id=\"T_5cd0e_row4_col0\" class=\"data row4 col0\" >Sunil</td>\n",
              "      <td id=\"T_5cd0e_row4_col1\" class=\"data row4 col1\" >Dy Manager</td>\n",
              "      <td id=\"T_5cd0e_row4_col2\" class=\"data row4 col2\" >70</td>\n",
              "    </tr>\n",
              "  </tbody>\n",
              "</table>\n"
            ]
          },
          "metadata": {},
          "execution_count": 35
        }
      ]
    },
    {
      "cell_type": "code",
      "source": [
        "runSelect(\"select lastname, jobdesc, salary from empl where jobdesc = 'Cus_Rep' or jobdesc = 'Clerk' and salary < 16000\")"
      ],
      "metadata": {
        "colab": {
          "base_uri": "https://localhost:8080/",
          "height": 238
        },
        "id": "Ov0HErC0txm4",
        "outputId": "b88853df-0d30-4eb9-cf86-db9462d272ea"
      },
      "execution_count": 36,
      "outputs": [
        {
          "output_type": "execute_result",
          "data": {
            "text/plain": [
              "<pandas.io.formats.style.Styler at 0x7f7477a835e0>"
            ],
            "text/html": [
              "<style type=\"text/css\">\n",
              "</style>\n",
              "<table id=\"T_8c994\" class=\"dataframe\">\n",
              "  <thead>\n",
              "    <tr>\n",
              "      <th id=\"T_8c994_level0_col0\" class=\"col_heading level0 col0\" >lastname</th>\n",
              "      <th id=\"T_8c994_level0_col1\" class=\"col_heading level0 col1\" >jobdesc</th>\n",
              "      <th id=\"T_8c994_level0_col2\" class=\"col_heading level0 col2\" >salary</th>\n",
              "    </tr>\n",
              "  </thead>\n",
              "  <tbody>\n",
              "    <tr>\n",
              "      <td id=\"T_8c994_row0_col0\" class=\"data row0 col0\" >Dikshit</td>\n",
              "      <td id=\"T_8c994_row0_col1\" class=\"data row0 col1\" >Clerk</td>\n",
              "      <td id=\"T_8c994_row0_col2\" class=\"data row0 col2\" >10000</td>\n",
              "    </tr>\n",
              "    <tr>\n",
              "      <td id=\"T_8c994_row1_col0\" class=\"data row1 col0\" >Sehwag</td>\n",
              "      <td id=\"T_8c994_row1_col1\" class=\"data row1 col1\" >Cus_Rep</td>\n",
              "      <td id=\"T_8c994_row1_col2\" class=\"data row1 col2\" >15000</td>\n",
              "    </tr>\n",
              "    <tr>\n",
              "      <td id=\"T_8c994_row2_col0\" class=\"data row2 col0\" >Dhoni</td>\n",
              "      <td id=\"T_8c994_row2_col1\" class=\"data row2 col1\" >Clerk</td>\n",
              "      <td id=\"T_8c994_row2_col2\" class=\"data row2 col2\" >9000</td>\n",
              "    </tr>\n",
              "    <tr>\n",
              "      <td id=\"T_8c994_row3_col0\" class=\"data row3 col0\" >Dalmia</td>\n",
              "      <td id=\"T_8c994_row3_col1\" class=\"data row3 col1\" >Clerk</td>\n",
              "      <td id=\"T_8c994_row3_col2\" class=\"data row3 col2\" >12000</td>\n",
              "    </tr>\n",
              "    <tr>\n",
              "      <td id=\"T_8c994_row4_col0\" class=\"data row4 col0\" >Ganguly</td>\n",
              "      <td id=\"T_8c994_row4_col1\" class=\"data row4 col1\" >Cus_Rep</td>\n",
              "      <td id=\"T_8c994_row4_col2\" class=\"data row4 col2\" >20000</td>\n",
              "    </tr>\n",
              "    <tr>\n",
              "      <td id=\"T_8c994_row5_col0\" class=\"data row5 col0\" >Mirza</td>\n",
              "      <td id=\"T_8c994_row5_col1\" class=\"data row5 col1\" >Cus_Rep</td>\n",
              "      <td id=\"T_8c994_row5_col2\" class=\"data row5 col2\" >25000</td>\n",
              "    </tr>\n",
              "  </tbody>\n",
              "</table>\n"
            ]
          },
          "metadata": {},
          "execution_count": 36
        }
      ]
    },
    {
      "cell_type": "code",
      "source": [
        "runSelect(\"select lastname, jobdesc, salary from empl where (jobdesc = 'Cus_Rep' or jobdesc = 'Clerk') and salary < 16000\")"
      ],
      "metadata": {
        "colab": {
          "base_uri": "https://localhost:8080/",
          "height": 175
        },
        "id": "g7hbzjdxuOt6",
        "outputId": "bfa3ca9d-f68c-4cb1-f4f7-bb2ff94d092a"
      },
      "execution_count": 37,
      "outputs": [
        {
          "output_type": "execute_result",
          "data": {
            "text/plain": [
              "<pandas.io.formats.style.Styler at 0x7f7477a836a0>"
            ],
            "text/html": [
              "<style type=\"text/css\">\n",
              "</style>\n",
              "<table id=\"T_132f4\" class=\"dataframe\">\n",
              "  <thead>\n",
              "    <tr>\n",
              "      <th id=\"T_132f4_level0_col0\" class=\"col_heading level0 col0\" >lastname</th>\n",
              "      <th id=\"T_132f4_level0_col1\" class=\"col_heading level0 col1\" >jobdesc</th>\n",
              "      <th id=\"T_132f4_level0_col2\" class=\"col_heading level0 col2\" >salary</th>\n",
              "    </tr>\n",
              "  </thead>\n",
              "  <tbody>\n",
              "    <tr>\n",
              "      <td id=\"T_132f4_row0_col0\" class=\"data row0 col0\" >Dikshit</td>\n",
              "      <td id=\"T_132f4_row0_col1\" class=\"data row0 col1\" >Clerk</td>\n",
              "      <td id=\"T_132f4_row0_col2\" class=\"data row0 col2\" >10000</td>\n",
              "    </tr>\n",
              "    <tr>\n",
              "      <td id=\"T_132f4_row1_col0\" class=\"data row1 col0\" >Sehwag</td>\n",
              "      <td id=\"T_132f4_row1_col1\" class=\"data row1 col1\" >Cus_Rep</td>\n",
              "      <td id=\"T_132f4_row1_col2\" class=\"data row1 col2\" >15000</td>\n",
              "    </tr>\n",
              "    <tr>\n",
              "      <td id=\"T_132f4_row2_col0\" class=\"data row2 col0\" >Dhoni</td>\n",
              "      <td id=\"T_132f4_row2_col1\" class=\"data row2 col1\" >Clerk</td>\n",
              "      <td id=\"T_132f4_row2_col2\" class=\"data row2 col2\" >9000</td>\n",
              "    </tr>\n",
              "    <tr>\n",
              "      <td id=\"T_132f4_row3_col0\" class=\"data row3 col0\" >Dalmia</td>\n",
              "      <td id=\"T_132f4_row3_col1\" class=\"data row3 col1\" >Clerk</td>\n",
              "      <td id=\"T_132f4_row3_col2\" class=\"data row3 col2\" >12000</td>\n",
              "    </tr>\n",
              "  </tbody>\n",
              "</table>\n"
            ]
          },
          "metadata": {},
          "execution_count": 37
        }
      ]
    },
    {
      "cell_type": "markdown",
      "source": [
        "# Single Row Functions"
      ],
      "metadata": {
        "id": "ND-8LYQcxsG2"
      }
    },
    {
      "cell_type": "code",
      "source": [
        "runSelect(\"select lastname, deptid, salary, comm, salary+salary*comm payout from empl where deptid = '20'\")"
      ],
      "metadata": {
        "colab": {
          "base_uri": "https://localhost:8080/",
          "height": 143
        },
        "id": "s71weE_hyDwf",
        "outputId": "ab550014-016a-4236-99d9-ac0a91bf5b80"
      },
      "execution_count": 38,
      "outputs": [
        {
          "output_type": "execute_result",
          "data": {
            "text/plain": [
              "<pandas.io.formats.style.Styler at 0x7f7477a83820>"
            ],
            "text/html": [
              "<style type=\"text/css\">\n",
              "</style>\n",
              "<table id=\"T_2db0b\" class=\"dataframe\">\n",
              "  <thead>\n",
              "    <tr>\n",
              "      <th id=\"T_2db0b_level0_col0\" class=\"col_heading level0 col0\" >lastname</th>\n",
              "      <th id=\"T_2db0b_level0_col1\" class=\"col_heading level0 col1\" >deptid</th>\n",
              "      <th id=\"T_2db0b_level0_col2\" class=\"col_heading level0 col2\" >salary</th>\n",
              "      <th id=\"T_2db0b_level0_col3\" class=\"col_heading level0 col3\" >comm</th>\n",
              "      <th id=\"T_2db0b_level0_col4\" class=\"col_heading level0 col4\" >payout</th>\n",
              "    </tr>\n",
              "  </thead>\n",
              "  <tbody>\n",
              "    <tr>\n",
              "      <td id=\"T_2db0b_row0_col0\" class=\"data row0 col0\" >Dikshit</td>\n",
              "      <td id=\"T_2db0b_row0_col1\" class=\"data row0 col1\" >20</td>\n",
              "      <td id=\"T_2db0b_row0_col2\" class=\"data row0 col2\" >10000</td>\n",
              "      <td id=\"T_2db0b_row0_col3\" class=\"data row0 col3\" >0.02</td>\n",
              "      <td id=\"T_2db0b_row0_col4\" class=\"data row0 col4\" >10200.00</td>\n",
              "    </tr>\n",
              "    <tr>\n",
              "      <td id=\"T_2db0b_row1_col0\" class=\"data row1 col0\" >Khan</td>\n",
              "      <td id=\"T_2db0b_row1_col1\" class=\"data row1 col1\" >20</td>\n",
              "      <td id=\"T_2db0b_row1_col2\" class=\"data row1 col2\" >30000</td>\n",
              "      <td id=\"T_2db0b_row1_col3\" class=\"data row1 col3\" >0.07</td>\n",
              "      <td id=\"T_2db0b_row1_col4\" class=\"data row1 col4\" >32100.00</td>\n",
              "    </tr>\n",
              "    <tr>\n",
              "      <td id=\"T_2db0b_row2_col0\" class=\"data row2 col0\" >Sehwag</td>\n",
              "      <td id=\"T_2db0b_row2_col1\" class=\"data row2 col1\" >20</td>\n",
              "      <td id=\"T_2db0b_row2_col2\" class=\"data row2 col2\" >15000</td>\n",
              "      <td id=\"T_2db0b_row2_col3\" class=\"data row2 col3\" >0.05</td>\n",
              "      <td id=\"T_2db0b_row2_col4\" class=\"data row2 col4\" >15750.00</td>\n",
              "    </tr>\n",
              "  </tbody>\n",
              "</table>\n"
            ]
          },
          "metadata": {},
          "execution_count": 38
        }
      ]
    },
    {
      "cell_type": "code",
      "source": [
        "runSelect(\"select lastname, firstname, deptid, substring(firstname,1,3) nick from empl where deptid = '20'\")"
      ],
      "metadata": {
        "colab": {
          "base_uri": "https://localhost:8080/",
          "height": 143
        },
        "id": "I3rkoZrYyb_P",
        "outputId": "f90c7e73-6dbb-4172-d2a3-f25ff8b9b411"
      },
      "execution_count": 39,
      "outputs": [
        {
          "output_type": "execute_result",
          "data": {
            "text/plain": [
              "<pandas.io.formats.style.Styler at 0x7f7477a81d80>"
            ],
            "text/html": [
              "<style type=\"text/css\">\n",
              "</style>\n",
              "<table id=\"T_75751\" class=\"dataframe\">\n",
              "  <thead>\n",
              "    <tr>\n",
              "      <th id=\"T_75751_level0_col0\" class=\"col_heading level0 col0\" >lastname</th>\n",
              "      <th id=\"T_75751_level0_col1\" class=\"col_heading level0 col1\" >firstname</th>\n",
              "      <th id=\"T_75751_level0_col2\" class=\"col_heading level0 col2\" >deptid</th>\n",
              "      <th id=\"T_75751_level0_col3\" class=\"col_heading level0 col3\" >nick</th>\n",
              "    </tr>\n",
              "  </thead>\n",
              "  <tbody>\n",
              "    <tr>\n",
              "      <td id=\"T_75751_row0_col0\" class=\"data row0 col0\" >Dikshit</td>\n",
              "      <td id=\"T_75751_row0_col1\" class=\"data row0 col1\" >Madhuri</td>\n",
              "      <td id=\"T_75751_row0_col2\" class=\"data row0 col2\" >20</td>\n",
              "      <td id=\"T_75751_row0_col3\" class=\"data row0 col3\" >Mad</td>\n",
              "    </tr>\n",
              "    <tr>\n",
              "      <td id=\"T_75751_row1_col0\" class=\"data row1 col0\" >Khan</td>\n",
              "      <td id=\"T_75751_row1_col1\" class=\"data row1 col1\" >Shahrukh</td>\n",
              "      <td id=\"T_75751_row1_col2\" class=\"data row1 col2\" >20</td>\n",
              "      <td id=\"T_75751_row1_col3\" class=\"data row1 col3\" >Sha</td>\n",
              "    </tr>\n",
              "    <tr>\n",
              "      <td id=\"T_75751_row2_col0\" class=\"data row2 col0\" >Sehwag</td>\n",
              "      <td id=\"T_75751_row2_col1\" class=\"data row2 col1\" >Virender</td>\n",
              "      <td id=\"T_75751_row2_col2\" class=\"data row2 col2\" >20</td>\n",
              "      <td id=\"T_75751_row2_col3\" class=\"data row2 col3\" >Vir</td>\n",
              "    </tr>\n",
              "  </tbody>\n",
              "</table>\n"
            ]
          },
          "metadata": {},
          "execution_count": 39
        }
      ]
    },
    {
      "cell_type": "code",
      "source": [
        "runSelect(\"select lastname, firstname, deptid, concat('\\\"',substring(firstname,2,3),'\\\" ',lastname) nick from empl where deptid = '20'\")"
      ],
      "metadata": {
        "colab": {
          "base_uri": "https://localhost:8080/",
          "height": 143
        },
        "id": "xNQl1KpSzIQc",
        "outputId": "c034eb35-d99e-45e4-f98e-e7154c800bbe"
      },
      "execution_count": 40,
      "outputs": [
        {
          "output_type": "execute_result",
          "data": {
            "text/plain": [
              "<pandas.io.formats.style.Styler at 0x7f7477a81420>"
            ],
            "text/html": [
              "<style type=\"text/css\">\n",
              "</style>\n",
              "<table id=\"T_82d2e\" class=\"dataframe\">\n",
              "  <thead>\n",
              "    <tr>\n",
              "      <th id=\"T_82d2e_level0_col0\" class=\"col_heading level0 col0\" >lastname</th>\n",
              "      <th id=\"T_82d2e_level0_col1\" class=\"col_heading level0 col1\" >firstname</th>\n",
              "      <th id=\"T_82d2e_level0_col2\" class=\"col_heading level0 col2\" >deptid</th>\n",
              "      <th id=\"T_82d2e_level0_col3\" class=\"col_heading level0 col3\" >nick</th>\n",
              "    </tr>\n",
              "  </thead>\n",
              "  <tbody>\n",
              "    <tr>\n",
              "      <td id=\"T_82d2e_row0_col0\" class=\"data row0 col0\" >Dikshit</td>\n",
              "      <td id=\"T_82d2e_row0_col1\" class=\"data row0 col1\" >Madhuri</td>\n",
              "      <td id=\"T_82d2e_row0_col2\" class=\"data row0 col2\" >20</td>\n",
              "      <td id=\"T_82d2e_row0_col3\" class=\"data row0 col3\" >\"adh\" Dikshit</td>\n",
              "    </tr>\n",
              "    <tr>\n",
              "      <td id=\"T_82d2e_row1_col0\" class=\"data row1 col0\" >Khan</td>\n",
              "      <td id=\"T_82d2e_row1_col1\" class=\"data row1 col1\" >Shahrukh</td>\n",
              "      <td id=\"T_82d2e_row1_col2\" class=\"data row1 col2\" >20</td>\n",
              "      <td id=\"T_82d2e_row1_col3\" class=\"data row1 col3\" >\"hah\" Khan</td>\n",
              "    </tr>\n",
              "    <tr>\n",
              "      <td id=\"T_82d2e_row2_col0\" class=\"data row2 col0\" >Sehwag</td>\n",
              "      <td id=\"T_82d2e_row2_col1\" class=\"data row2 col1\" >Virender</td>\n",
              "      <td id=\"T_82d2e_row2_col2\" class=\"data row2 col2\" >20</td>\n",
              "      <td id=\"T_82d2e_row2_col3\" class=\"data row2 col3\" >\"ire\" Sehwag</td>\n",
              "    </tr>\n",
              "  </tbody>\n",
              "</table>\n"
            ]
          },
          "metadata": {},
          "execution_count": 40
        }
      ]
    },
    {
      "cell_type": "code",
      "source": [
        "runSelect(\"select LastName, Current_Date,JoinDate, to_char(JoinDate,'Day') JoinDay, to_char(JoinDate,'DD-mon-YY') JoinDate2, \\\n",
        "Current_Date-JoinDate DaysSince from Empl\")\n",
        "\n",
        "#https://blog.quest.com/exploring-postgres-date-formats-and-their-different-functions/\n"
      ],
      "metadata": {
        "id": "37Rjgkxz-BP0",
        "outputId": "2a77118c-97a0-4f8d-ecc1-b9f1b5f5bee4",
        "colab": {
          "base_uri": "https://localhost:8080/",
          "height": 457
        }
      },
      "execution_count": 41,
      "outputs": [
        {
          "output_type": "execute_result",
          "data": {
            "text/plain": [
              "<pandas.io.formats.style.Styler at 0x7f7477a83610>"
            ],
            "text/html": [
              "<style type=\"text/css\">\n",
              "</style>\n",
              "<table id=\"T_130e5\" class=\"dataframe\">\n",
              "  <thead>\n",
              "    <tr>\n",
              "      <th id=\"T_130e5_level0_col0\" class=\"col_heading level0 col0\" >lastname</th>\n",
              "      <th id=\"T_130e5_level0_col1\" class=\"col_heading level0 col1\" >current_date</th>\n",
              "      <th id=\"T_130e5_level0_col2\" class=\"col_heading level0 col2\" >joindate</th>\n",
              "      <th id=\"T_130e5_level0_col3\" class=\"col_heading level0 col3\" >joinday</th>\n",
              "      <th id=\"T_130e5_level0_col4\" class=\"col_heading level0 col4\" >joindate2</th>\n",
              "      <th id=\"T_130e5_level0_col5\" class=\"col_heading level0 col5\" >dayssince</th>\n",
              "    </tr>\n",
              "  </thead>\n",
              "  <tbody>\n",
              "    <tr>\n",
              "      <td id=\"T_130e5_row0_col0\" class=\"data row0 col0\" >Bacchan</td>\n",
              "      <td id=\"T_130e5_row0_col1\" class=\"data row0 col1\" >2023-12-30</td>\n",
              "      <td id=\"T_130e5_row0_col2\" class=\"data row0 col2\" >2003-03-10</td>\n",
              "      <td id=\"T_130e5_row0_col3\" class=\"data row0 col3\" >Monday   </td>\n",
              "      <td id=\"T_130e5_row0_col4\" class=\"data row0 col4\" >10-mar-03</td>\n",
              "      <td id=\"T_130e5_row0_col5\" class=\"data row0 col5\" >7600</td>\n",
              "    </tr>\n",
              "    <tr>\n",
              "      <td id=\"T_130e5_row1_col0\" class=\"data row1 col0\" >Mukherjee</td>\n",
              "      <td id=\"T_130e5_row1_col1\" class=\"data row1 col1\" >2023-12-30</td>\n",
              "      <td id=\"T_130e5_row1_col2\" class=\"data row1 col2\" >2005-05-04</td>\n",
              "      <td id=\"T_130e5_row1_col3\" class=\"data row1 col3\" >Wednesday</td>\n",
              "      <td id=\"T_130e5_row1_col4\" class=\"data row1 col4\" >04-may-05</td>\n",
              "      <td id=\"T_130e5_row1_col5\" class=\"data row1 col5\" >6814</td>\n",
              "    </tr>\n",
              "    <tr>\n",
              "      <td id=\"T_130e5_row2_col0\" class=\"data row2 col0\" >Dikshit</td>\n",
              "      <td id=\"T_130e5_row2_col1\" class=\"data row2 col1\" >2023-12-30</td>\n",
              "      <td id=\"T_130e5_row2_col2\" class=\"data row2 col2\" >2002-04-04</td>\n",
              "      <td id=\"T_130e5_row2_col3\" class=\"data row2 col3\" >Thursday </td>\n",
              "      <td id=\"T_130e5_row2_col4\" class=\"data row2 col4\" >04-apr-02</td>\n",
              "      <td id=\"T_130e5_row2_col5\" class=\"data row2 col5\" >7940</td>\n",
              "    </tr>\n",
              "    <tr>\n",
              "      <td id=\"T_130e5_row3_col0\" class=\"data row3 col0\" >Khan</td>\n",
              "      <td id=\"T_130e5_row3_col1\" class=\"data row3 col1\" >2023-12-30</td>\n",
              "      <td id=\"T_130e5_row3_col2\" class=\"data row3 col2\" >2004-01-03</td>\n",
              "      <td id=\"T_130e5_row3_col3\" class=\"data row3 col3\" >Saturday </td>\n",
              "      <td id=\"T_130e5_row3_col4\" class=\"data row3 col4\" >03-jan-04</td>\n",
              "      <td id=\"T_130e5_row3_col5\" class=\"data row3 col5\" >7301</td>\n",
              "    </tr>\n",
              "    <tr>\n",
              "      <td id=\"T_130e5_row4_col0\" class=\"data row4 col0\" >Sehwag</td>\n",
              "      <td id=\"T_130e5_row4_col1\" class=\"data row4 col1\" >2023-12-30</td>\n",
              "      <td id=\"T_130e5_row4_col2\" class=\"data row4 col2\" >2005-01-02</td>\n",
              "      <td id=\"T_130e5_row4_col3\" class=\"data row4 col3\" >Sunday   </td>\n",
              "      <td id=\"T_130e5_row4_col4\" class=\"data row4 col4\" >02-jan-05</td>\n",
              "      <td id=\"T_130e5_row4_col5\" class=\"data row4 col5\" >6936</td>\n",
              "    </tr>\n",
              "    <tr>\n",
              "      <td id=\"T_130e5_row5_col0\" class=\"data row5 col0\" >Dhoni</td>\n",
              "      <td id=\"T_130e5_row5_col1\" class=\"data row5 col1\" >2023-12-30</td>\n",
              "      <td id=\"T_130e5_row5_col2\" class=\"data row5 col2\" >2004-10-09</td>\n",
              "      <td id=\"T_130e5_row5_col3\" class=\"data row5 col3\" >Saturday </td>\n",
              "      <td id=\"T_130e5_row5_col4\" class=\"data row5 col4\" >09-oct-04</td>\n",
              "      <td id=\"T_130e5_row5_col5\" class=\"data row5 col5\" >7021</td>\n",
              "    </tr>\n",
              "    <tr>\n",
              "      <td id=\"T_130e5_row6_col0\" class=\"data row6 col0\" >Dravid</td>\n",
              "      <td id=\"T_130e5_row6_col1\" class=\"data row6 col1\" >2023-12-30</td>\n",
              "      <td id=\"T_130e5_row6_col2\" class=\"data row6 col2\" >2000-06-04</td>\n",
              "      <td id=\"T_130e5_row6_col3\" class=\"data row6 col3\" >Sunday   </td>\n",
              "      <td id=\"T_130e5_row6_col4\" class=\"data row6 col4\" >04-jun-00</td>\n",
              "      <td id=\"T_130e5_row6_col5\" class=\"data row6 col5\" >8609</td>\n",
              "    </tr>\n",
              "    <tr>\n",
              "      <td id=\"T_130e5_row7_col0\" class=\"data row7 col0\" >Dalmia</td>\n",
              "      <td id=\"T_130e5_row7_col1\" class=\"data row7 col1\" >2023-12-30</td>\n",
              "      <td id=\"T_130e5_row7_col2\" class=\"data row7 col2\" >2001-07-01</td>\n",
              "      <td id=\"T_130e5_row7_col3\" class=\"data row7 col3\" >Sunday   </td>\n",
              "      <td id=\"T_130e5_row7_col4\" class=\"data row7 col4\" >01-jul-01</td>\n",
              "      <td id=\"T_130e5_row7_col5\" class=\"data row7 col5\" >8217</td>\n",
              "    </tr>\n",
              "    <tr>\n",
              "      <td id=\"T_130e5_row8_col0\" class=\"data row8 col0\" >Ganguly</td>\n",
              "      <td id=\"T_130e5_row8_col1\" class=\"data row8 col1\" >2023-12-30</td>\n",
              "      <td id=\"T_130e5_row8_col2\" class=\"data row8 col2\" >2002-01-01</td>\n",
              "      <td id=\"T_130e5_row8_col3\" class=\"data row8 col3\" >Tuesday  </td>\n",
              "      <td id=\"T_130e5_row8_col4\" class=\"data row8 col4\" >01-jan-02</td>\n",
              "      <td id=\"T_130e5_row8_col5\" class=\"data row8 col5\" >8033</td>\n",
              "    </tr>\n",
              "    <tr>\n",
              "      <td id=\"T_130e5_row9_col0\" class=\"data row9 col0\" >Ganesan</td>\n",
              "      <td id=\"T_130e5_row9_col1\" class=\"data row9 col1\" >2023-12-30</td>\n",
              "      <td id=\"T_130e5_row9_col2\" class=\"data row9 col2\" >2002-10-10</td>\n",
              "      <td id=\"T_130e5_row9_col3\" class=\"data row9 col3\" >Thursday </td>\n",
              "      <td id=\"T_130e5_row9_col4\" class=\"data row9 col4\" >10-oct-02</td>\n",
              "      <td id=\"T_130e5_row9_col5\" class=\"data row9 col5\" >7751</td>\n",
              "    </tr>\n",
              "    <tr>\n",
              "      <td id=\"T_130e5_row10_col0\" class=\"data row10 col0\" >Karthikeyan</td>\n",
              "      <td id=\"T_130e5_row10_col1\" class=\"data row10 col1\" >2023-12-30</td>\n",
              "      <td id=\"T_130e5_row10_col2\" class=\"data row10 col2\" >2005-12-04</td>\n",
              "      <td id=\"T_130e5_row10_col3\" class=\"data row10 col3\" >Sunday   </td>\n",
              "      <td id=\"T_130e5_row10_col4\" class=\"data row10 col4\" >04-dec-05</td>\n",
              "      <td id=\"T_130e5_row10_col5\" class=\"data row10 col5\" >6600</td>\n",
              "    </tr>\n",
              "    <tr>\n",
              "      <td id=\"T_130e5_row11_col0\" class=\"data row11 col0\" >Sunil</td>\n",
              "      <td id=\"T_130e5_row11_col1\" class=\"data row11 col1\" >2023-12-30</td>\n",
              "      <td id=\"T_130e5_row11_col2\" class=\"data row11 col2\" >2006-12-07</td>\n",
              "      <td id=\"T_130e5_row11_col3\" class=\"data row11 col3\" >Thursday </td>\n",
              "      <td id=\"T_130e5_row11_col4\" class=\"data row11 col4\" >07-dec-06</td>\n",
              "      <td id=\"T_130e5_row11_col5\" class=\"data row11 col5\" >6232</td>\n",
              "    </tr>\n",
              "    <tr>\n",
              "      <td id=\"T_130e5_row12_col0\" class=\"data row12 col0\" >Mirza</td>\n",
              "      <td id=\"T_130e5_row12_col1\" class=\"data row12 col1\" >2023-12-30</td>\n",
              "      <td id=\"T_130e5_row12_col2\" class=\"data row12 col2\" >2001-11-19</td>\n",
              "      <td id=\"T_130e5_row12_col3\" class=\"data row12 col3\" >Monday   </td>\n",
              "      <td id=\"T_130e5_row12_col4\" class=\"data row12 col4\" >19-nov-01</td>\n",
              "      <td id=\"T_130e5_row12_col5\" class=\"data row12 col5\" >8076</td>\n",
              "    </tr>\n",
              "  </tbody>\n",
              "</table>\n"
            ]
          },
          "metadata": {},
          "execution_count": 41
        }
      ]
    },
    {
      "cell_type": "markdown",
      "source": [
        "# MultiRow Function | Group By | Having"
      ],
      "metadata": {
        "id": "ONgFWUTC2IPK"
      }
    },
    {
      "cell_type": "code",
      "source": [
        "runSelect(\"select sum(salary) Total_Salary from empl\")"
      ],
      "metadata": {
        "colab": {
          "base_uri": "https://localhost:8080/",
          "height": 81
        },
        "id": "7MnnzfJx2PSc",
        "outputId": "9695cdcd-3fa9-4dc0-83bc-c086708ef0a9"
      },
      "execution_count": 42,
      "outputs": [
        {
          "output_type": "execute_result",
          "data": {
            "text/plain": [
              "<pandas.io.formats.style.Styler at 0x7f7477a81330>"
            ],
            "text/html": [
              "<style type=\"text/css\">\n",
              "</style>\n",
              "<table id=\"T_51d16\" class=\"dataframe\">\n",
              "  <thead>\n",
              "    <tr>\n",
              "      <th id=\"T_51d16_level0_col0\" class=\"col_heading level0 col0\" >total_salary</th>\n",
              "    </tr>\n",
              "  </thead>\n",
              "  <tbody>\n",
              "    <tr>\n",
              "      <td id=\"T_51d16_row0_col0\" class=\"data row0 col0\" >376000</td>\n",
              "    </tr>\n",
              "  </tbody>\n",
              "</table>\n"
            ]
          },
          "metadata": {},
          "execution_count": 42
        }
      ]
    },
    {
      "cell_type": "code",
      "source": [
        "runSelect(\"select round(avg(salary),2) Average_Salary from empl\")"
      ],
      "metadata": {
        "colab": {
          "base_uri": "https://localhost:8080/",
          "height": 81
        },
        "id": "e3Avb-HL4QPD",
        "outputId": "8b5c1656-1907-45ba-ebab-b7be03e69758"
      },
      "execution_count": 43,
      "outputs": [
        {
          "output_type": "execute_result",
          "data": {
            "text/plain": [
              "<pandas.io.formats.style.Styler at 0x7f7477a9d300>"
            ],
            "text/html": [
              "<style type=\"text/css\">\n",
              "</style>\n",
              "<table id=\"T_be086\" class=\"dataframe\">\n",
              "  <thead>\n",
              "    <tr>\n",
              "      <th id=\"T_be086_level0_col0\" class=\"col_heading level0 col0\" >average_salary</th>\n",
              "    </tr>\n",
              "  </thead>\n",
              "  <tbody>\n",
              "    <tr>\n",
              "      <td id=\"T_be086_row0_col0\" class=\"data row0 col0\" >28923.08</td>\n",
              "    </tr>\n",
              "  </tbody>\n",
              "</table>\n"
            ]
          },
          "metadata": {},
          "execution_count": 43
        }
      ]
    },
    {
      "cell_type": "code",
      "source": [
        "runSelect(\"select max(salary) Max_Salary from empl\")"
      ],
      "metadata": {
        "colab": {
          "base_uri": "https://localhost:8080/",
          "height": 81
        },
        "id": "Oe1qRQbI4gtY",
        "outputId": "97bf1b6d-095b-4049-c36f-85c4d12fa32d"
      },
      "execution_count": 44,
      "outputs": [
        {
          "output_type": "execute_result",
          "data": {
            "text/plain": [
              "<pandas.io.formats.style.Styler at 0x7f7477a9e2f0>"
            ],
            "text/html": [
              "<style type=\"text/css\">\n",
              "</style>\n",
              "<table id=\"T_93324\" class=\"dataframe\">\n",
              "  <thead>\n",
              "    <tr>\n",
              "      <th id=\"T_93324_level0_col0\" class=\"col_heading level0 col0\" >max_salary</th>\n",
              "    </tr>\n",
              "  </thead>\n",
              "  <tbody>\n",
              "    <tr>\n",
              "      <td id=\"T_93324_row0_col0\" class=\"data row0 col0\" >60000</td>\n",
              "    </tr>\n",
              "  </tbody>\n",
              "</table>\n"
            ]
          },
          "metadata": {},
          "execution_count": 44
        }
      ]
    },
    {
      "cell_type": "code",
      "source": [
        "runSelect(\"select deptid, sum(salary) Total, max(salary) Max from empl group by deptid\")"
      ],
      "metadata": {
        "colab": {
          "base_uri": "https://localhost:8080/",
          "height": 206
        },
        "id": "xpmGXSAX69iU",
        "outputId": "459d163b-dfd1-4574-eacd-244f62143d01"
      },
      "execution_count": 45,
      "outputs": [
        {
          "output_type": "execute_result",
          "data": {
            "text/plain": [
              "<pandas.io.formats.style.Styler at 0x7f7477a9db70>"
            ],
            "text/html": [
              "<style type=\"text/css\">\n",
              "</style>\n",
              "<table id=\"T_3e97a\" class=\"dataframe\">\n",
              "  <thead>\n",
              "    <tr>\n",
              "      <th id=\"T_3e97a_level0_col0\" class=\"col_heading level0 col0\" >deptid</th>\n",
              "      <th id=\"T_3e97a_level0_col1\" class=\"col_heading level0 col1\" >total</th>\n",
              "      <th id=\"T_3e97a_level0_col2\" class=\"col_heading level0 col2\" >max</th>\n",
              "    </tr>\n",
              "  </thead>\n",
              "  <tbody>\n",
              "    <tr>\n",
              "      <td id=\"T_3e97a_row0_col0\" class=\"data row0 col0\" >10</td>\n",
              "      <td id=\"T_3e97a_row0_col1\" class=\"data row0 col1\" >150000</td>\n",
              "      <td id=\"T_3e97a_row0_col2\" class=\"data row0 col2\" >60000</td>\n",
              "    </tr>\n",
              "    <tr>\n",
              "      <td id=\"T_3e97a_row1_col0\" class=\"data row1 col0\" >40</td>\n",
              "      <td id=\"T_3e97a_row1_col1\" class=\"data row1 col1\" >54000</td>\n",
              "      <td id=\"T_3e97a_row1_col2\" class=\"data row1 col2\" >25000</td>\n",
              "    </tr>\n",
              "    <tr>\n",
              "      <td id=\"T_3e97a_row2_col0\" class=\"data row2 col0\" >70</td>\n",
              "      <td id=\"T_3e97a_row2_col1\" class=\"data row2 col1\" >40000</td>\n",
              "      <td id=\"T_3e97a_row2_col2\" class=\"data row2 col2\" >40000</td>\n",
              "    </tr>\n",
              "    <tr>\n",
              "      <td id=\"T_3e97a_row3_col0\" class=\"data row3 col0\" >20</td>\n",
              "      <td id=\"T_3e97a_row3_col1\" class=\"data row3 col1\" >55000</td>\n",
              "      <td id=\"T_3e97a_row3_col2\" class=\"data row3 col2\" >30000</td>\n",
              "    </tr>\n",
              "    <tr>\n",
              "      <td id=\"T_3e97a_row4_col0\" class=\"data row4 col0\" >30</td>\n",
              "      <td id=\"T_3e97a_row4_col1\" class=\"data row4 col1\" >77000</td>\n",
              "      <td id=\"T_3e97a_row4_col2\" class=\"data row4 col2\" >40000</td>\n",
              "    </tr>\n",
              "  </tbody>\n",
              "</table>\n"
            ]
          },
          "metadata": {},
          "execution_count": 45
        }
      ]
    },
    {
      "cell_type": "code",
      "source": [
        "runSelect(\"select deptid, sum(salary) Total, max(salary) Max from empl group by deptid having sum(salary) > 50000\")"
      ],
      "metadata": {
        "colab": {
          "base_uri": "https://localhost:8080/",
          "height": 175
        },
        "id": "AdNDutZl7LCF",
        "outputId": "0000ff6b-e506-4bd8-dbc2-51f59ebcc0cb"
      },
      "execution_count": 46,
      "outputs": [
        {
          "output_type": "execute_result",
          "data": {
            "text/plain": [
              "<pandas.io.formats.style.Styler at 0x7f7477a9e500>"
            ],
            "text/html": [
              "<style type=\"text/css\">\n",
              "</style>\n",
              "<table id=\"T_33f92\" class=\"dataframe\">\n",
              "  <thead>\n",
              "    <tr>\n",
              "      <th id=\"T_33f92_level0_col0\" class=\"col_heading level0 col0\" >deptid</th>\n",
              "      <th id=\"T_33f92_level0_col1\" class=\"col_heading level0 col1\" >total</th>\n",
              "      <th id=\"T_33f92_level0_col2\" class=\"col_heading level0 col2\" >max</th>\n",
              "    </tr>\n",
              "  </thead>\n",
              "  <tbody>\n",
              "    <tr>\n",
              "      <td id=\"T_33f92_row0_col0\" class=\"data row0 col0\" >10</td>\n",
              "      <td id=\"T_33f92_row0_col1\" class=\"data row0 col1\" >150000</td>\n",
              "      <td id=\"T_33f92_row0_col2\" class=\"data row0 col2\" >60000</td>\n",
              "    </tr>\n",
              "    <tr>\n",
              "      <td id=\"T_33f92_row1_col0\" class=\"data row1 col0\" >40</td>\n",
              "      <td id=\"T_33f92_row1_col1\" class=\"data row1 col1\" >54000</td>\n",
              "      <td id=\"T_33f92_row1_col2\" class=\"data row1 col2\" >25000</td>\n",
              "    </tr>\n",
              "    <tr>\n",
              "      <td id=\"T_33f92_row2_col0\" class=\"data row2 col0\" >20</td>\n",
              "      <td id=\"T_33f92_row2_col1\" class=\"data row2 col1\" >55000</td>\n",
              "      <td id=\"T_33f92_row2_col2\" class=\"data row2 col2\" >30000</td>\n",
              "    </tr>\n",
              "    <tr>\n",
              "      <td id=\"T_33f92_row3_col0\" class=\"data row3 col0\" >30</td>\n",
              "      <td id=\"T_33f92_row3_col1\" class=\"data row3 col1\" >77000</td>\n",
              "      <td id=\"T_33f92_row3_col2\" class=\"data row3 col2\" >40000</td>\n",
              "    </tr>\n",
              "  </tbody>\n",
              "</table>\n"
            ]
          },
          "metadata": {},
          "execution_count": 46
        }
      ]
    },
    {
      "cell_type": "code",
      "source": [
        "runSelect(\"select deptid, sum(salary) Total, max(salary) Max from empl group by deptid having sum(salary) > 50000 and max(salary) < 35000\")"
      ],
      "metadata": {
        "colab": {
          "base_uri": "https://localhost:8080/",
          "height": 112
        },
        "id": "4VFmL5JF7bYo",
        "outputId": "b2481396-b761-4c7d-9b34-7ada6dc0892a"
      },
      "execution_count": 47,
      "outputs": [
        {
          "output_type": "execute_result",
          "data": {
            "text/plain": [
              "<pandas.io.formats.style.Styler at 0x7f7477a9e920>"
            ],
            "text/html": [
              "<style type=\"text/css\">\n",
              "</style>\n",
              "<table id=\"T_dd741\" class=\"dataframe\">\n",
              "  <thead>\n",
              "    <tr>\n",
              "      <th id=\"T_dd741_level0_col0\" class=\"col_heading level0 col0\" >deptid</th>\n",
              "      <th id=\"T_dd741_level0_col1\" class=\"col_heading level0 col1\" >total</th>\n",
              "      <th id=\"T_dd741_level0_col2\" class=\"col_heading level0 col2\" >max</th>\n",
              "    </tr>\n",
              "  </thead>\n",
              "  <tbody>\n",
              "    <tr>\n",
              "      <td id=\"T_dd741_row0_col0\" class=\"data row0 col0\" >40</td>\n",
              "      <td id=\"T_dd741_row0_col1\" class=\"data row0 col1\" >54000</td>\n",
              "      <td id=\"T_dd741_row0_col2\" class=\"data row0 col2\" >25000</td>\n",
              "    </tr>\n",
              "    <tr>\n",
              "      <td id=\"T_dd741_row1_col0\" class=\"data row1 col0\" >20</td>\n",
              "      <td id=\"T_dd741_row1_col1\" class=\"data row1 col1\" >55000</td>\n",
              "      <td id=\"T_dd741_row1_col2\" class=\"data row1 col2\" >30000</td>\n",
              "    </tr>\n",
              "  </tbody>\n",
              "</table>\n"
            ]
          },
          "metadata": {},
          "execution_count": 47
        }
      ]
    },
    {
      "cell_type": "markdown",
      "source": [
        "#Conditionals | CASE"
      ],
      "metadata": {
        "id": "xDsapsK8Afpj"
      }
    },
    {
      "cell_type": "code",
      "source": [
        "runSelect(\"select lastname, jobdesc, salary, comm, salary+salary*comm Payout,\\\n",
        "case when jobdesc like '%Manager' then 2000 else 0 end bonus from empl\")"
      ],
      "metadata": {
        "colab": {
          "base_uri": "https://localhost:8080/",
          "height": 457
        },
        "id": "bYRWDlVNAxKx",
        "outputId": "18a31f62-c551-4303-85ee-b0d1508b0f47"
      },
      "execution_count": 48,
      "outputs": [
        {
          "output_type": "execute_result",
          "data": {
            "text/plain": [
              "<pandas.io.formats.style.Styler at 0x7f7477a9fac0>"
            ],
            "text/html": [
              "<style type=\"text/css\">\n",
              "</style>\n",
              "<table id=\"T_5e714\" class=\"dataframe\">\n",
              "  <thead>\n",
              "    <tr>\n",
              "      <th id=\"T_5e714_level0_col0\" class=\"col_heading level0 col0\" >lastname</th>\n",
              "      <th id=\"T_5e714_level0_col1\" class=\"col_heading level0 col1\" >jobdesc</th>\n",
              "      <th id=\"T_5e714_level0_col2\" class=\"col_heading level0 col2\" >salary</th>\n",
              "      <th id=\"T_5e714_level0_col3\" class=\"col_heading level0 col3\" >comm</th>\n",
              "      <th id=\"T_5e714_level0_col4\" class=\"col_heading level0 col4\" >payout</th>\n",
              "      <th id=\"T_5e714_level0_col5\" class=\"col_heading level0 col5\" >bonus</th>\n",
              "    </tr>\n",
              "  </thead>\n",
              "  <tbody>\n",
              "    <tr>\n",
              "      <td id=\"T_5e714_row0_col0\" class=\"data row0 col0\" >Bacchan</td>\n",
              "      <td id=\"T_5e714_row0_col1\" class=\"data row0 col1\" >Executive</td>\n",
              "      <td id=\"T_5e714_row0_col2\" class=\"data row0 col2\" >50000</td>\n",
              "      <td id=\"T_5e714_row0_col3\" class=\"data row0 col3\" >0.10</td>\n",
              "      <td id=\"T_5e714_row0_col4\" class=\"data row0 col4\" >55000.00</td>\n",
              "      <td id=\"T_5e714_row0_col5\" class=\"data row0 col5\" >0</td>\n",
              "    </tr>\n",
              "    <tr>\n",
              "      <td id=\"T_5e714_row1_col0\" class=\"data row1 col0\" >Mukherjee</td>\n",
              "      <td id=\"T_5e714_row1_col1\" class=\"data row1 col1\" >Manager</td>\n",
              "      <td id=\"T_5e714_row1_col2\" class=\"data row1 col2\" >25000</td>\n",
              "      <td id=\"T_5e714_row1_col3\" class=\"data row1 col3\" >0.06</td>\n",
              "      <td id=\"T_5e714_row1_col4\" class=\"data row1 col4\" >26500.00</td>\n",
              "      <td id=\"T_5e714_row1_col5\" class=\"data row1 col5\" >2000</td>\n",
              "    </tr>\n",
              "    <tr>\n",
              "      <td id=\"T_5e714_row2_col0\" class=\"data row2 col0\" >Dikshit</td>\n",
              "      <td id=\"T_5e714_row2_col1\" class=\"data row2 col1\" >Clerk</td>\n",
              "      <td id=\"T_5e714_row2_col2\" class=\"data row2 col2\" >10000</td>\n",
              "      <td id=\"T_5e714_row2_col3\" class=\"data row2 col3\" >0.02</td>\n",
              "      <td id=\"T_5e714_row2_col4\" class=\"data row2 col4\" >10200.00</td>\n",
              "      <td id=\"T_5e714_row2_col5\" class=\"data row2 col5\" >0</td>\n",
              "    </tr>\n",
              "    <tr>\n",
              "      <td id=\"T_5e714_row3_col0\" class=\"data row3 col0\" >Khan</td>\n",
              "      <td id=\"T_5e714_row3_col1\" class=\"data row3 col1\" >Manager</td>\n",
              "      <td id=\"T_5e714_row3_col2\" class=\"data row3 col2\" >30000</td>\n",
              "      <td id=\"T_5e714_row3_col3\" class=\"data row3 col3\" >0.07</td>\n",
              "      <td id=\"T_5e714_row3_col4\" class=\"data row3 col4\" >32100.00</td>\n",
              "      <td id=\"T_5e714_row3_col5\" class=\"data row3 col5\" >2000</td>\n",
              "    </tr>\n",
              "    <tr>\n",
              "      <td id=\"T_5e714_row4_col0\" class=\"data row4 col0\" >Sehwag</td>\n",
              "      <td id=\"T_5e714_row4_col1\" class=\"data row4 col1\" >Cus_Rep</td>\n",
              "      <td id=\"T_5e714_row4_col2\" class=\"data row4 col2\" >15000</td>\n",
              "      <td id=\"T_5e714_row4_col3\" class=\"data row4 col3\" >0.05</td>\n",
              "      <td id=\"T_5e714_row4_col4\" class=\"data row4 col4\" >15750.00</td>\n",
              "      <td id=\"T_5e714_row4_col5\" class=\"data row4 col5\" >0</td>\n",
              "    </tr>\n",
              "    <tr>\n",
              "      <td id=\"T_5e714_row5_col0\" class=\"data row5 col0\" >Dhoni</td>\n",
              "      <td id=\"T_5e714_row5_col1\" class=\"data row5 col1\" >Clerk</td>\n",
              "      <td id=\"T_5e714_row5_col2\" class=\"data row5 col2\" >9000</td>\n",
              "      <td id=\"T_5e714_row5_col3\" class=\"data row5 col3\" >0.02</td>\n",
              "      <td id=\"T_5e714_row5_col4\" class=\"data row5 col4\" >9180.00</td>\n",
              "      <td id=\"T_5e714_row5_col5\" class=\"data row5 col5\" >0</td>\n",
              "    </tr>\n",
              "    <tr>\n",
              "      <td id=\"T_5e714_row6_col0\" class=\"data row6 col0\" >Dravid</td>\n",
              "      <td id=\"T_5e714_row6_col1\" class=\"data row6 col1\" >Sr Manager</td>\n",
              "      <td id=\"T_5e714_row6_col2\" class=\"data row6 col2\" >40000</td>\n",
              "      <td id=\"T_5e714_row6_col3\" class=\"data row6 col3\" >0.08</td>\n",
              "      <td id=\"T_5e714_row6_col4\" class=\"data row6 col4\" >43200.00</td>\n",
              "      <td id=\"T_5e714_row6_col5\" class=\"data row6 col5\" >2000</td>\n",
              "    </tr>\n",
              "    <tr>\n",
              "      <td id=\"T_5e714_row7_col0\" class=\"data row7 col0\" >Dalmia</td>\n",
              "      <td id=\"T_5e714_row7_col1\" class=\"data row7 col1\" >Clerk</td>\n",
              "      <td id=\"T_5e714_row7_col2\" class=\"data row7 col2\" >12000</td>\n",
              "      <td id=\"T_5e714_row7_col3\" class=\"data row7 col3\" >0.02</td>\n",
              "      <td id=\"T_5e714_row7_col4\" class=\"data row7 col4\" >12240.00</td>\n",
              "      <td id=\"T_5e714_row7_col5\" class=\"data row7 col5\" >0</td>\n",
              "    </tr>\n",
              "    <tr>\n",
              "      <td id=\"T_5e714_row8_col0\" class=\"data row8 col0\" >Ganguly</td>\n",
              "      <td id=\"T_5e714_row8_col1\" class=\"data row8 col1\" >Cus_Rep</td>\n",
              "      <td id=\"T_5e714_row8_col2\" class=\"data row8 col2\" >20000</td>\n",
              "      <td id=\"T_5e714_row8_col3\" class=\"data row8 col3\" >0.03</td>\n",
              "      <td id=\"T_5e714_row8_col4\" class=\"data row8 col4\" >20600.00</td>\n",
              "      <td id=\"T_5e714_row8_col5\" class=\"data row8 col5\" >0</td>\n",
              "    </tr>\n",
              "    <tr>\n",
              "      <td id=\"T_5e714_row9_col0\" class=\"data row9 col0\" >Ganesan</td>\n",
              "      <td id=\"T_5e714_row9_col1\" class=\"data row9 col1\" >Director</td>\n",
              "      <td id=\"T_5e714_row9_col2\" class=\"data row9 col2\" >60000</td>\n",
              "      <td id=\"T_5e714_row9_col3\" class=\"data row9 col3\" >0.11</td>\n",
              "      <td id=\"T_5e714_row9_col4\" class=\"data row9 col4\" >66600.00</td>\n",
              "      <td id=\"T_5e714_row9_col5\" class=\"data row9 col5\" >0</td>\n",
              "    </tr>\n",
              "    <tr>\n",
              "      <td id=\"T_5e714_row10_col0\" class=\"data row10 col0\" >Karthikeyan</td>\n",
              "      <td id=\"T_5e714_row10_col1\" class=\"data row10 col1\" >Secretary</td>\n",
              "      <td id=\"T_5e714_row10_col2\" class=\"data row10 col2\" >40000</td>\n",
              "      <td id=\"T_5e714_row10_col3\" class=\"data row10 col3\" >0.09</td>\n",
              "      <td id=\"T_5e714_row10_col4\" class=\"data row10 col4\" >43600.00</td>\n",
              "      <td id=\"T_5e714_row10_col5\" class=\"data row10 col5\" >0</td>\n",
              "    </tr>\n",
              "    <tr>\n",
              "      <td id=\"T_5e714_row11_col0\" class=\"data row11 col0\" >Sunil</td>\n",
              "      <td id=\"T_5e714_row11_col1\" class=\"data row11 col1\" >Dy Manager</td>\n",
              "      <td id=\"T_5e714_row11_col2\" class=\"data row11 col2\" >40000</td>\n",
              "      <td id=\"T_5e714_row11_col3\" class=\"data row11 col3\" >0.05</td>\n",
              "      <td id=\"T_5e714_row11_col4\" class=\"data row11 col4\" >42000.00</td>\n",
              "      <td id=\"T_5e714_row11_col5\" class=\"data row11 col5\" >2000</td>\n",
              "    </tr>\n",
              "    <tr>\n",
              "      <td id=\"T_5e714_row12_col0\" class=\"data row12 col0\" >Mirza</td>\n",
              "      <td id=\"T_5e714_row12_col1\" class=\"data row12 col1\" >Cus_Rep</td>\n",
              "      <td id=\"T_5e714_row12_col2\" class=\"data row12 col2\" >25000</td>\n",
              "      <td id=\"T_5e714_row12_col3\" class=\"data row12 col3\" >0.04</td>\n",
              "      <td id=\"T_5e714_row12_col4\" class=\"data row12 col4\" >26000.00</td>\n",
              "      <td id=\"T_5e714_row12_col5\" class=\"data row12 col5\" >0</td>\n",
              "    </tr>\n",
              "  </tbody>\n",
              "</table>\n"
            ]
          },
          "metadata": {},
          "execution_count": 48
        }
      ]
    },
    {
      "cell_type": "code",
      "source": [
        "runSelect(\"select lastname, deptid,\\\n",
        "case \\\n",
        "when deptid in ('10','20') then 'Head' \\\n",
        "when deptid = '30' then 'Regional'\\\n",
        "else 'Branch' \\\n",
        "end \\\n",
        " office from empl\")"
      ],
      "metadata": {
        "colab": {
          "base_uri": "https://localhost:8080/",
          "height": 457
        },
        "id": "jbpKn1y0DwYG",
        "outputId": "824f0e8e-1ef8-42b3-873a-180e71337f77"
      },
      "execution_count": 49,
      "outputs": [
        {
          "output_type": "execute_result",
          "data": {
            "text/plain": [
              "<pandas.io.formats.style.Styler at 0x7f7477a9f1f0>"
            ],
            "text/html": [
              "<style type=\"text/css\">\n",
              "</style>\n",
              "<table id=\"T_ae1aa\" class=\"dataframe\">\n",
              "  <thead>\n",
              "    <tr>\n",
              "      <th id=\"T_ae1aa_level0_col0\" class=\"col_heading level0 col0\" >lastname</th>\n",
              "      <th id=\"T_ae1aa_level0_col1\" class=\"col_heading level0 col1\" >deptid</th>\n",
              "      <th id=\"T_ae1aa_level0_col2\" class=\"col_heading level0 col2\" >office</th>\n",
              "    </tr>\n",
              "  </thead>\n",
              "  <tbody>\n",
              "    <tr>\n",
              "      <td id=\"T_ae1aa_row0_col0\" class=\"data row0 col0\" >Bacchan</td>\n",
              "      <td id=\"T_ae1aa_row0_col1\" class=\"data row0 col1\" >10</td>\n",
              "      <td id=\"T_ae1aa_row0_col2\" class=\"data row0 col2\" >Head</td>\n",
              "    </tr>\n",
              "    <tr>\n",
              "      <td id=\"T_ae1aa_row1_col0\" class=\"data row1 col0\" >Mukherjee</td>\n",
              "      <td id=\"T_ae1aa_row1_col1\" class=\"data row1 col1\" >40</td>\n",
              "      <td id=\"T_ae1aa_row1_col2\" class=\"data row1 col2\" >Branch</td>\n",
              "    </tr>\n",
              "    <tr>\n",
              "      <td id=\"T_ae1aa_row2_col0\" class=\"data row2 col0\" >Dikshit</td>\n",
              "      <td id=\"T_ae1aa_row2_col1\" class=\"data row2 col1\" >20</td>\n",
              "      <td id=\"T_ae1aa_row2_col2\" class=\"data row2 col2\" >Head</td>\n",
              "    </tr>\n",
              "    <tr>\n",
              "      <td id=\"T_ae1aa_row3_col0\" class=\"data row3 col0\" >Khan</td>\n",
              "      <td id=\"T_ae1aa_row3_col1\" class=\"data row3 col1\" >20</td>\n",
              "      <td id=\"T_ae1aa_row3_col2\" class=\"data row3 col2\" >Head</td>\n",
              "    </tr>\n",
              "    <tr>\n",
              "      <td id=\"T_ae1aa_row4_col0\" class=\"data row4 col0\" >Sehwag</td>\n",
              "      <td id=\"T_ae1aa_row4_col1\" class=\"data row4 col1\" >20</td>\n",
              "      <td id=\"T_ae1aa_row4_col2\" class=\"data row4 col2\" >Head</td>\n",
              "    </tr>\n",
              "    <tr>\n",
              "      <td id=\"T_ae1aa_row5_col0\" class=\"data row5 col0\" >Dhoni</td>\n",
              "      <td id=\"T_ae1aa_row5_col1\" class=\"data row5 col1\" >40</td>\n",
              "      <td id=\"T_ae1aa_row5_col2\" class=\"data row5 col2\" >Branch</td>\n",
              "    </tr>\n",
              "    <tr>\n",
              "      <td id=\"T_ae1aa_row6_col0\" class=\"data row6 col0\" >Dravid</td>\n",
              "      <td id=\"T_ae1aa_row6_col1\" class=\"data row6 col1\" >30</td>\n",
              "      <td id=\"T_ae1aa_row6_col2\" class=\"data row6 col2\" >Regional</td>\n",
              "    </tr>\n",
              "    <tr>\n",
              "      <td id=\"T_ae1aa_row7_col0\" class=\"data row7 col0\" >Dalmia</td>\n",
              "      <td id=\"T_ae1aa_row7_col1\" class=\"data row7 col1\" >30</td>\n",
              "      <td id=\"T_ae1aa_row7_col2\" class=\"data row7 col2\" >Regional</td>\n",
              "    </tr>\n",
              "    <tr>\n",
              "      <td id=\"T_ae1aa_row8_col0\" class=\"data row8 col0\" >Ganguly</td>\n",
              "      <td id=\"T_ae1aa_row8_col1\" class=\"data row8 col1\" >40</td>\n",
              "      <td id=\"T_ae1aa_row8_col2\" class=\"data row8 col2\" >Branch</td>\n",
              "    </tr>\n",
              "    <tr>\n",
              "      <td id=\"T_ae1aa_row9_col0\" class=\"data row9 col0\" >Ganesan</td>\n",
              "      <td id=\"T_ae1aa_row9_col1\" class=\"data row9 col1\" >10</td>\n",
              "      <td id=\"T_ae1aa_row9_col2\" class=\"data row9 col2\" >Head</td>\n",
              "    </tr>\n",
              "    <tr>\n",
              "      <td id=\"T_ae1aa_row10_col0\" class=\"data row10 col0\" >Karthikeyan</td>\n",
              "      <td id=\"T_ae1aa_row10_col1\" class=\"data row10 col1\" >10</td>\n",
              "      <td id=\"T_ae1aa_row10_col2\" class=\"data row10 col2\" >Head</td>\n",
              "    </tr>\n",
              "    <tr>\n",
              "      <td id=\"T_ae1aa_row11_col0\" class=\"data row11 col0\" >Sunil</td>\n",
              "      <td id=\"T_ae1aa_row11_col1\" class=\"data row11 col1\" >70</td>\n",
              "      <td id=\"T_ae1aa_row11_col2\" class=\"data row11 col2\" >Branch</td>\n",
              "    </tr>\n",
              "    <tr>\n",
              "      <td id=\"T_ae1aa_row12_col0\" class=\"data row12 col0\" >Mirza</td>\n",
              "      <td id=\"T_ae1aa_row12_col1\" class=\"data row12 col1\" >30</td>\n",
              "      <td id=\"T_ae1aa_row12_col2\" class=\"data row12 col2\" >Regional</td>\n",
              "    </tr>\n",
              "  </tbody>\n",
              "</table>\n"
            ]
          },
          "metadata": {},
          "execution_count": 49
        }
      ]
    },
    {
      "cell_type": "markdown",
      "source": [
        "#Join"
      ],
      "metadata": {
        "id": "Rs10ezIPpP0C"
      }
    },
    {
      "cell_type": "markdown",
      "source": [
        "## Basic Inner Join"
      ],
      "metadata": {
        "id": "XMfZP6HUpT4B"
      }
    },
    {
      "cell_type": "code",
      "source": [
        "sql = 'select firstname, lastname, salary, deptname, location, managerid from empl, dept where empl.deptid = dept.deptid'\n",
        "runSelect(sql)"
      ],
      "metadata": {
        "colab": {
          "base_uri": "https://localhost:8080/",
          "height": 426
        },
        "id": "ISiD-VP6pbUz",
        "outputId": "9f2587db-ef85-4cee-fc59-c9275a8447f4"
      },
      "execution_count": 50,
      "outputs": [
        {
          "output_type": "execute_result",
          "data": {
            "text/plain": [
              "<pandas.io.formats.style.Styler at 0x7f7477a9cc40>"
            ],
            "text/html": [
              "<style type=\"text/css\">\n",
              "</style>\n",
              "<table id=\"T_ade7b\" class=\"dataframe\">\n",
              "  <thead>\n",
              "    <tr>\n",
              "      <th id=\"T_ade7b_level0_col0\" class=\"col_heading level0 col0\" >firstname</th>\n",
              "      <th id=\"T_ade7b_level0_col1\" class=\"col_heading level0 col1\" >lastname</th>\n",
              "      <th id=\"T_ade7b_level0_col2\" class=\"col_heading level0 col2\" >salary</th>\n",
              "      <th id=\"T_ade7b_level0_col3\" class=\"col_heading level0 col3\" >deptname</th>\n",
              "      <th id=\"T_ade7b_level0_col4\" class=\"col_heading level0 col4\" >location</th>\n",
              "      <th id=\"T_ade7b_level0_col5\" class=\"col_heading level0 col5\" >managerid</th>\n",
              "    </tr>\n",
              "  </thead>\n",
              "  <tbody>\n",
              "    <tr>\n",
              "      <td id=\"T_ade7b_row0_col0\" class=\"data row0 col0\" >Narayan</td>\n",
              "      <td id=\"T_ade7b_row0_col1\" class=\"data row0 col1\" >Karthikeyan</td>\n",
              "      <td id=\"T_ade7b_row0_col2\" class=\"data row0 col2\" >40000</td>\n",
              "      <td id=\"T_ade7b_row0_col3\" class=\"data row0 col3\" >Corporate</td>\n",
              "      <td id=\"T_ade7b_row0_col4\" class=\"data row0 col4\" >Calcutta</td>\n",
              "      <td id=\"T_ade7b_row0_col5\" class=\"data row0 col5\" >299034</td>\n",
              "    </tr>\n",
              "    <tr>\n",
              "      <td id=\"T_ade7b_row1_col0\" class=\"data row1 col0\" >Rekha</td>\n",
              "      <td id=\"T_ade7b_row1_col1\" class=\"data row1 col1\" >Ganesan</td>\n",
              "      <td id=\"T_ade7b_row1_col2\" class=\"data row1 col2\" >60000</td>\n",
              "      <td id=\"T_ade7b_row1_col3\" class=\"data row1 col3\" >Corporate</td>\n",
              "      <td id=\"T_ade7b_row1_col4\" class=\"data row1 col4\" >Calcutta</td>\n",
              "      <td id=\"T_ade7b_row1_col5\" class=\"data row1 col5\" >299034</td>\n",
              "    </tr>\n",
              "    <tr>\n",
              "      <td id=\"T_ade7b_row2_col0\" class=\"data row2 col0\" >Amitabh</td>\n",
              "      <td id=\"T_ade7b_row2_col1\" class=\"data row2 col1\" >Bacchan</td>\n",
              "      <td id=\"T_ade7b_row2_col2\" class=\"data row2 col2\" >50000</td>\n",
              "      <td id=\"T_ade7b_row2_col3\" class=\"data row2 col3\" >Corporate</td>\n",
              "      <td id=\"T_ade7b_row2_col4\" class=\"data row2 col4\" >Calcutta</td>\n",
              "      <td id=\"T_ade7b_row2_col5\" class=\"data row2 col5\" >299034</td>\n",
              "    </tr>\n",
              "    <tr>\n",
              "      <td id=\"T_ade7b_row3_col0\" class=\"data row3 col0\" >Virender</td>\n",
              "      <td id=\"T_ade7b_row3_col1\" class=\"data row3 col1\" >Sehwag</td>\n",
              "      <td id=\"T_ade7b_row3_col2\" class=\"data row3 col2\" >15000</td>\n",
              "      <td id=\"T_ade7b_row3_col3\" class=\"data row3 col3\" >Sales</td>\n",
              "      <td id=\"T_ade7b_row3_col4\" class=\"data row3 col4\" >Calcutta</td>\n",
              "      <td id=\"T_ade7b_row3_col5\" class=\"data row3 col5\" >239456</td>\n",
              "    </tr>\n",
              "    <tr>\n",
              "      <td id=\"T_ade7b_row4_col0\" class=\"data row4 col0\" >Shahrukh</td>\n",
              "      <td id=\"T_ade7b_row4_col1\" class=\"data row4 col1\" >Khan</td>\n",
              "      <td id=\"T_ade7b_row4_col2\" class=\"data row4 col2\" >30000</td>\n",
              "      <td id=\"T_ade7b_row4_col3\" class=\"data row4 col3\" >Sales</td>\n",
              "      <td id=\"T_ade7b_row4_col4\" class=\"data row4 col4\" >Calcutta</td>\n",
              "      <td id=\"T_ade7b_row4_col5\" class=\"data row4 col5\" >239456</td>\n",
              "    </tr>\n",
              "    <tr>\n",
              "      <td id=\"T_ade7b_row5_col0\" class=\"data row5 col0\" >Madhuri</td>\n",
              "      <td id=\"T_ade7b_row5_col1\" class=\"data row5 col1\" >Dikshit</td>\n",
              "      <td id=\"T_ade7b_row5_col2\" class=\"data row5 col2\" >10000</td>\n",
              "      <td id=\"T_ade7b_row5_col3\" class=\"data row5 col3\" >Sales</td>\n",
              "      <td id=\"T_ade7b_row5_col4\" class=\"data row5 col4\" >Calcutta</td>\n",
              "      <td id=\"T_ade7b_row5_col5\" class=\"data row5 col5\" >239456</td>\n",
              "    </tr>\n",
              "    <tr>\n",
              "      <td id=\"T_ade7b_row6_col0\" class=\"data row6 col0\" >Sania</td>\n",
              "      <td id=\"T_ade7b_row6_col1\" class=\"data row6 col1\" >Mirza</td>\n",
              "      <td id=\"T_ade7b_row6_col2\" class=\"data row6 col2\" >25000</td>\n",
              "      <td id=\"T_ade7b_row6_col3\" class=\"data row6 col3\" >Accounts</td>\n",
              "      <td id=\"T_ade7b_row6_col4\" class=\"data row6 col4\" >Calcutta</td>\n",
              "      <td id=\"T_ade7b_row6_col5\" class=\"data row6 col5\" >822134</td>\n",
              "    </tr>\n",
              "    <tr>\n",
              "      <td id=\"T_ade7b_row7_col0\" class=\"data row7 col0\" >Jagmohan</td>\n",
              "      <td id=\"T_ade7b_row7_col1\" class=\"data row7 col1\" >Dalmia</td>\n",
              "      <td id=\"T_ade7b_row7_col2\" class=\"data row7 col2\" >12000</td>\n",
              "      <td id=\"T_ade7b_row7_col3\" class=\"data row7 col3\" >Accounts</td>\n",
              "      <td id=\"T_ade7b_row7_col4\" class=\"data row7 col4\" >Calcutta</td>\n",
              "      <td id=\"T_ade7b_row7_col5\" class=\"data row7 col5\" >822134</td>\n",
              "    </tr>\n",
              "    <tr>\n",
              "      <td id=\"T_ade7b_row8_col0\" class=\"data row8 col0\" >Rahul</td>\n",
              "      <td id=\"T_ade7b_row8_col1\" class=\"data row8 col1\" >Dravid</td>\n",
              "      <td id=\"T_ade7b_row8_col2\" class=\"data row8 col2\" >40000</td>\n",
              "      <td id=\"T_ade7b_row8_col3\" class=\"data row8 col3\" >Accounts</td>\n",
              "      <td id=\"T_ade7b_row8_col4\" class=\"data row8 col4\" >Calcutta</td>\n",
              "      <td id=\"T_ade7b_row8_col5\" class=\"data row8 col5\" >822134</td>\n",
              "    </tr>\n",
              "    <tr>\n",
              "      <td id=\"T_ade7b_row9_col0\" class=\"data row9 col0\" >Sourav</td>\n",
              "      <td id=\"T_ade7b_row9_col1\" class=\"data row9 col1\" >Ganguly</td>\n",
              "      <td id=\"T_ade7b_row9_col2\" class=\"data row9 col2\" >20000</td>\n",
              "      <td id=\"T_ade7b_row9_col3\" class=\"data row9 col3\" >Production</td>\n",
              "      <td id=\"T_ade7b_row9_col4\" class=\"data row9 col4\" >Bombay</td>\n",
              "      <td id=\"T_ade7b_row9_col5\" class=\"data row9 col5\" >349870</td>\n",
              "    </tr>\n",
              "    <tr>\n",
              "      <td id=\"T_ade7b_row10_col0\" class=\"data row10 col0\" >Mahender</td>\n",
              "      <td id=\"T_ade7b_row10_col1\" class=\"data row10 col1\" >Dhoni</td>\n",
              "      <td id=\"T_ade7b_row10_col2\" class=\"data row10 col2\" >9000</td>\n",
              "      <td id=\"T_ade7b_row10_col3\" class=\"data row10 col3\" >Production</td>\n",
              "      <td id=\"T_ade7b_row10_col4\" class=\"data row10 col4\" >Bombay</td>\n",
              "      <td id=\"T_ade7b_row10_col5\" class=\"data row10 col5\" >349870</td>\n",
              "    </tr>\n",
              "    <tr>\n",
              "      <td id=\"T_ade7b_row11_col0\" class=\"data row11 col0\" >Rani</td>\n",
              "      <td id=\"T_ade7b_row11_col1\" class=\"data row11 col1\" >Mukherjee</td>\n",
              "      <td id=\"T_ade7b_row11_col2\" class=\"data row11 col2\" >25000</td>\n",
              "      <td id=\"T_ade7b_row11_col3\" class=\"data row11 col3\" >Production</td>\n",
              "      <td id=\"T_ade7b_row11_col4\" class=\"data row11 col4\" >Bombay</td>\n",
              "      <td id=\"T_ade7b_row11_col5\" class=\"data row11 col5\" >349870</td>\n",
              "    </tr>\n",
              "  </tbody>\n",
              "</table>\n"
            ]
          },
          "metadata": {},
          "execution_count": 50
        }
      ]
    },
    {
      "cell_type": "code",
      "source": [
        "sql = 'select empid, firstname, deptname, location from empl INNER JOIN dept ON empl.deptid = dept.deptid'\n",
        "runSelect(sql)"
      ],
      "metadata": {
        "colab": {
          "base_uri": "https://localhost:8080/",
          "height": 426
        },
        "id": "LVrEArEc1VcF",
        "outputId": "78177514-cc96-4269-e9a1-5bc04afd59bc"
      },
      "execution_count": 51,
      "outputs": [
        {
          "output_type": "execute_result",
          "data": {
            "text/plain": [
              "<pandas.io.formats.style.Styler at 0x7f7477a9fee0>"
            ],
            "text/html": [
              "<style type=\"text/css\">\n",
              "</style>\n",
              "<table id=\"T_062d9\" class=\"dataframe\">\n",
              "  <thead>\n",
              "    <tr>\n",
              "      <th id=\"T_062d9_level0_col0\" class=\"col_heading level0 col0\" >empid</th>\n",
              "      <th id=\"T_062d9_level0_col1\" class=\"col_heading level0 col1\" >firstname</th>\n",
              "      <th id=\"T_062d9_level0_col2\" class=\"col_heading level0 col2\" >deptname</th>\n",
              "      <th id=\"T_062d9_level0_col3\" class=\"col_heading level0 col3\" >location</th>\n",
              "    </tr>\n",
              "  </thead>\n",
              "  <tbody>\n",
              "    <tr>\n",
              "      <td id=\"T_062d9_row0_col0\" class=\"data row0 col0\" >546223</td>\n",
              "      <td id=\"T_062d9_row0_col1\" class=\"data row0 col1\" >Narayan</td>\n",
              "      <td id=\"T_062d9_row0_col2\" class=\"data row0 col2\" >Corporate</td>\n",
              "      <td id=\"T_062d9_row0_col3\" class=\"data row0 col3\" >Calcutta</td>\n",
              "    </tr>\n",
              "    <tr>\n",
              "      <td id=\"T_062d9_row1_col0\" class=\"data row1 col0\" >299034</td>\n",
              "      <td id=\"T_062d9_row1_col1\" class=\"data row1 col1\" >Rekha</td>\n",
              "      <td id=\"T_062d9_row1_col2\" class=\"data row1 col2\" >Corporate</td>\n",
              "      <td id=\"T_062d9_row1_col3\" class=\"data row1 col3\" >Calcutta</td>\n",
              "    </tr>\n",
              "    <tr>\n",
              "      <td id=\"T_062d9_row2_col0\" class=\"data row2 col0\" >742866</td>\n",
              "      <td id=\"T_062d9_row2_col1\" class=\"data row2 col1\" >Amitabh</td>\n",
              "      <td id=\"T_062d9_row2_col2\" class=\"data row2 col2\" >Corporate</td>\n",
              "      <td id=\"T_062d9_row2_col3\" class=\"data row2 col3\" >Calcutta</td>\n",
              "    </tr>\n",
              "    <tr>\n",
              "      <td id=\"T_062d9_row3_col0\" class=\"data row3 col0\" >897889</td>\n",
              "      <td id=\"T_062d9_row3_col1\" class=\"data row3 col1\" >Virender</td>\n",
              "      <td id=\"T_062d9_row3_col2\" class=\"data row3 col2\" >Sales</td>\n",
              "      <td id=\"T_062d9_row3_col3\" class=\"data row3 col3\" >Calcutta</td>\n",
              "    </tr>\n",
              "    <tr>\n",
              "      <td id=\"T_062d9_row4_col0\" class=\"data row4 col0\" >239456</td>\n",
              "      <td id=\"T_062d9_row4_col1\" class=\"data row4 col1\" >Shahrukh</td>\n",
              "      <td id=\"T_062d9_row4_col2\" class=\"data row4 col2\" >Sales</td>\n",
              "      <td id=\"T_062d9_row4_col3\" class=\"data row4 col3\" >Calcutta</td>\n",
              "    </tr>\n",
              "    <tr>\n",
              "      <td id=\"T_062d9_row5_col0\" class=\"data row5 col0\" >865477</td>\n",
              "      <td id=\"T_062d9_row5_col1\" class=\"data row5 col1\" >Madhuri</td>\n",
              "      <td id=\"T_062d9_row5_col2\" class=\"data row5 col2\" >Sales</td>\n",
              "      <td id=\"T_062d9_row5_col3\" class=\"data row5 col3\" >Calcutta</td>\n",
              "    </tr>\n",
              "    <tr>\n",
              "      <td id=\"T_062d9_row6_col0\" class=\"data row6 col0\" >223112</td>\n",
              "      <td id=\"T_062d9_row6_col1\" class=\"data row6 col1\" >Sania</td>\n",
              "      <td id=\"T_062d9_row6_col2\" class=\"data row6 col2\" >Accounts</td>\n",
              "      <td id=\"T_062d9_row6_col3\" class=\"data row6 col3\" >Calcutta</td>\n",
              "    </tr>\n",
              "    <tr>\n",
              "      <td id=\"T_062d9_row7_col0\" class=\"data row7 col0\" >997445</td>\n",
              "      <td id=\"T_062d9_row7_col1\" class=\"data row7 col1\" >Jagmohan</td>\n",
              "      <td id=\"T_062d9_row7_col2\" class=\"data row7 col2\" >Accounts</td>\n",
              "      <td id=\"T_062d9_row7_col3\" class=\"data row7 col3\" >Calcutta</td>\n",
              "    </tr>\n",
              "    <tr>\n",
              "      <td id=\"T_062d9_row8_col0\" class=\"data row8 col0\" >822134</td>\n",
              "      <td id=\"T_062d9_row8_col1\" class=\"data row8 col1\" >Rahul</td>\n",
              "      <td id=\"T_062d9_row8_col2\" class=\"data row8 col2\" >Accounts</td>\n",
              "      <td id=\"T_062d9_row8_col3\" class=\"data row8 col3\" >Calcutta</td>\n",
              "    </tr>\n",
              "    <tr>\n",
              "      <td id=\"T_062d9_row9_col0\" class=\"data row9 col0\" >989007</td>\n",
              "      <td id=\"T_062d9_row9_col1\" class=\"data row9 col1\" >Sourav</td>\n",
              "      <td id=\"T_062d9_row9_col2\" class=\"data row9 col2\" >Production</td>\n",
              "      <td id=\"T_062d9_row9_col3\" class=\"data row9 col3\" >Bombay</td>\n",
              "    </tr>\n",
              "    <tr>\n",
              "      <td id=\"T_062d9_row10_col0\" class=\"data row10 col0\" >123980</td>\n",
              "      <td id=\"T_062d9_row10_col1\" class=\"data row10 col1\" >Mahender</td>\n",
              "      <td id=\"T_062d9_row10_col2\" class=\"data row10 col2\" >Production</td>\n",
              "      <td id=\"T_062d9_row10_col3\" class=\"data row10 col3\" >Bombay</td>\n",
              "    </tr>\n",
              "    <tr>\n",
              "      <td id=\"T_062d9_row11_col0\" class=\"data row11 col0\" >349870</td>\n",
              "      <td id=\"T_062d9_row11_col1\" class=\"data row11 col1\" >Rani</td>\n",
              "      <td id=\"T_062d9_row11_col2\" class=\"data row11 col2\" >Production</td>\n",
              "      <td id=\"T_062d9_row11_col3\" class=\"data row11 col3\" >Bombay</td>\n",
              "    </tr>\n",
              "  </tbody>\n",
              "</table>\n"
            ]
          },
          "metadata": {},
          "execution_count": 51
        }
      ]
    },
    {
      "cell_type": "code",
      "source": [
        "sql = 'select deptname,round(sum(salary),0) payroll from empl INNER JOIN dept ON empl.deptid = dept.deptid \\\n",
        "group by deptname'\n",
        "runSelect(sql)"
      ],
      "metadata": {
        "id": "pKk82QRi28DP",
        "outputId": "4d945aa2-a5f6-4651-df5d-571a1f6aec59",
        "colab": {
          "base_uri": "https://localhost:8080/",
          "height": 175
        }
      },
      "execution_count": 52,
      "outputs": [
        {
          "output_type": "execute_result",
          "data": {
            "text/plain": [
              "<pandas.io.formats.style.Styler at 0x7f7477a9c640>"
            ],
            "text/html": [
              "<style type=\"text/css\">\n",
              "</style>\n",
              "<table id=\"T_a3eec\" class=\"dataframe\">\n",
              "  <thead>\n",
              "    <tr>\n",
              "      <th id=\"T_a3eec_level0_col0\" class=\"col_heading level0 col0\" >deptname</th>\n",
              "      <th id=\"T_a3eec_level0_col1\" class=\"col_heading level0 col1\" >payroll</th>\n",
              "    </tr>\n",
              "  </thead>\n",
              "  <tbody>\n",
              "    <tr>\n",
              "      <td id=\"T_a3eec_row0_col0\" class=\"data row0 col0\" >Corporate</td>\n",
              "      <td id=\"T_a3eec_row0_col1\" class=\"data row0 col1\" >150000</td>\n",
              "    </tr>\n",
              "    <tr>\n",
              "      <td id=\"T_a3eec_row1_col0\" class=\"data row1 col0\" >Accounts</td>\n",
              "      <td id=\"T_a3eec_row1_col1\" class=\"data row1 col1\" >77000</td>\n",
              "    </tr>\n",
              "    <tr>\n",
              "      <td id=\"T_a3eec_row2_col0\" class=\"data row2 col0\" >Sales</td>\n",
              "      <td id=\"T_a3eec_row2_col1\" class=\"data row2 col1\" >55000</td>\n",
              "    </tr>\n",
              "    <tr>\n",
              "      <td id=\"T_a3eec_row3_col0\" class=\"data row3 col0\" >Production</td>\n",
              "      <td id=\"T_a3eec_row3_col1\" class=\"data row3 col1\" >54000</td>\n",
              "    </tr>\n",
              "  </tbody>\n",
              "</table>\n"
            ]
          },
          "metadata": {},
          "execution_count": 52
        }
      ]
    },
    {
      "cell_type": "markdown",
      "source": [
        "## Outer Join"
      ],
      "metadata": {
        "id": "tK9uJHAL1u6x"
      }
    },
    {
      "cell_type": "markdown",
      "source": [
        "### Left Outer"
      ],
      "metadata": {
        "id": "5wGFVhyJ2x8S"
      }
    },
    {
      "cell_type": "code",
      "source": [
        "sql = 'select empid, firstname, deptname, location from empl LEFT JOIN dept ON empl.deptid = dept.deptid'\n",
        "runSelect(sql)"
      ],
      "metadata": {
        "colab": {
          "base_uri": "https://localhost:8080/",
          "height": 457
        },
        "id": "Ls6VfOXt1zTq",
        "outputId": "c3e31f67-10c6-4670-8942-4c65e9810b2b"
      },
      "execution_count": 53,
      "outputs": [
        {
          "output_type": "execute_result",
          "data": {
            "text/plain": [
              "<pandas.io.formats.style.Styler at 0x7f7477b097b0>"
            ],
            "text/html": [
              "<style type=\"text/css\">\n",
              "</style>\n",
              "<table id=\"T_de66a\" class=\"dataframe\">\n",
              "  <thead>\n",
              "    <tr>\n",
              "      <th id=\"T_de66a_level0_col0\" class=\"col_heading level0 col0\" >empid</th>\n",
              "      <th id=\"T_de66a_level0_col1\" class=\"col_heading level0 col1\" >firstname</th>\n",
              "      <th id=\"T_de66a_level0_col2\" class=\"col_heading level0 col2\" >deptname</th>\n",
              "      <th id=\"T_de66a_level0_col3\" class=\"col_heading level0 col3\" >location</th>\n",
              "    </tr>\n",
              "  </thead>\n",
              "  <tbody>\n",
              "    <tr>\n",
              "      <td id=\"T_de66a_row0_col0\" class=\"data row0 col0\" >546223</td>\n",
              "      <td id=\"T_de66a_row0_col1\" class=\"data row0 col1\" >Narayan</td>\n",
              "      <td id=\"T_de66a_row0_col2\" class=\"data row0 col2\" >Corporate</td>\n",
              "      <td id=\"T_de66a_row0_col3\" class=\"data row0 col3\" >Calcutta</td>\n",
              "    </tr>\n",
              "    <tr>\n",
              "      <td id=\"T_de66a_row1_col0\" class=\"data row1 col0\" >299034</td>\n",
              "      <td id=\"T_de66a_row1_col1\" class=\"data row1 col1\" >Rekha</td>\n",
              "      <td id=\"T_de66a_row1_col2\" class=\"data row1 col2\" >Corporate</td>\n",
              "      <td id=\"T_de66a_row1_col3\" class=\"data row1 col3\" >Calcutta</td>\n",
              "    </tr>\n",
              "    <tr>\n",
              "      <td id=\"T_de66a_row2_col0\" class=\"data row2 col0\" >742866</td>\n",
              "      <td id=\"T_de66a_row2_col1\" class=\"data row2 col1\" >Amitabh</td>\n",
              "      <td id=\"T_de66a_row2_col2\" class=\"data row2 col2\" >Corporate</td>\n",
              "      <td id=\"T_de66a_row2_col3\" class=\"data row2 col3\" >Calcutta</td>\n",
              "    </tr>\n",
              "    <tr>\n",
              "      <td id=\"T_de66a_row3_col0\" class=\"data row3 col0\" >897889</td>\n",
              "      <td id=\"T_de66a_row3_col1\" class=\"data row3 col1\" >Virender</td>\n",
              "      <td id=\"T_de66a_row3_col2\" class=\"data row3 col2\" >Sales</td>\n",
              "      <td id=\"T_de66a_row3_col3\" class=\"data row3 col3\" >Calcutta</td>\n",
              "    </tr>\n",
              "    <tr>\n",
              "      <td id=\"T_de66a_row4_col0\" class=\"data row4 col0\" >239456</td>\n",
              "      <td id=\"T_de66a_row4_col1\" class=\"data row4 col1\" >Shahrukh</td>\n",
              "      <td id=\"T_de66a_row4_col2\" class=\"data row4 col2\" >Sales</td>\n",
              "      <td id=\"T_de66a_row4_col3\" class=\"data row4 col3\" >Calcutta</td>\n",
              "    </tr>\n",
              "    <tr>\n",
              "      <td id=\"T_de66a_row5_col0\" class=\"data row5 col0\" >865477</td>\n",
              "      <td id=\"T_de66a_row5_col1\" class=\"data row5 col1\" >Madhuri</td>\n",
              "      <td id=\"T_de66a_row5_col2\" class=\"data row5 col2\" >Sales</td>\n",
              "      <td id=\"T_de66a_row5_col3\" class=\"data row5 col3\" >Calcutta</td>\n",
              "    </tr>\n",
              "    <tr>\n",
              "      <td id=\"T_de66a_row6_col0\" class=\"data row6 col0\" >223112</td>\n",
              "      <td id=\"T_de66a_row6_col1\" class=\"data row6 col1\" >Sania</td>\n",
              "      <td id=\"T_de66a_row6_col2\" class=\"data row6 col2\" >Accounts</td>\n",
              "      <td id=\"T_de66a_row6_col3\" class=\"data row6 col3\" >Calcutta</td>\n",
              "    </tr>\n",
              "    <tr>\n",
              "      <td id=\"T_de66a_row7_col0\" class=\"data row7 col0\" >997445</td>\n",
              "      <td id=\"T_de66a_row7_col1\" class=\"data row7 col1\" >Jagmohan</td>\n",
              "      <td id=\"T_de66a_row7_col2\" class=\"data row7 col2\" >Accounts</td>\n",
              "      <td id=\"T_de66a_row7_col3\" class=\"data row7 col3\" >Calcutta</td>\n",
              "    </tr>\n",
              "    <tr>\n",
              "      <td id=\"T_de66a_row8_col0\" class=\"data row8 col0\" >822134</td>\n",
              "      <td id=\"T_de66a_row8_col1\" class=\"data row8 col1\" >Rahul</td>\n",
              "      <td id=\"T_de66a_row8_col2\" class=\"data row8 col2\" >Accounts</td>\n",
              "      <td id=\"T_de66a_row8_col3\" class=\"data row8 col3\" >Calcutta</td>\n",
              "    </tr>\n",
              "    <tr>\n",
              "      <td id=\"T_de66a_row9_col0\" class=\"data row9 col0\" >989007</td>\n",
              "      <td id=\"T_de66a_row9_col1\" class=\"data row9 col1\" >Sourav</td>\n",
              "      <td id=\"T_de66a_row9_col2\" class=\"data row9 col2\" >Production</td>\n",
              "      <td id=\"T_de66a_row9_col3\" class=\"data row9 col3\" >Bombay</td>\n",
              "    </tr>\n",
              "    <tr>\n",
              "      <td id=\"T_de66a_row10_col0\" class=\"data row10 col0\" >123980</td>\n",
              "      <td id=\"T_de66a_row10_col1\" class=\"data row10 col1\" >Mahender</td>\n",
              "      <td id=\"T_de66a_row10_col2\" class=\"data row10 col2\" >Production</td>\n",
              "      <td id=\"T_de66a_row10_col3\" class=\"data row10 col3\" >Bombay</td>\n",
              "    </tr>\n",
              "    <tr>\n",
              "      <td id=\"T_de66a_row11_col0\" class=\"data row11 col0\" >349870</td>\n",
              "      <td id=\"T_de66a_row11_col1\" class=\"data row11 col1\" >Rani</td>\n",
              "      <td id=\"T_de66a_row11_col2\" class=\"data row11 col2\" >Production</td>\n",
              "      <td id=\"T_de66a_row11_col3\" class=\"data row11 col3\" >Bombay</td>\n",
              "    </tr>\n",
              "    <tr>\n",
              "      <td id=\"T_de66a_row12_col0\" class=\"data row12 col0\" >546224</td>\n",
              "      <td id=\"T_de66a_row12_col1\" class=\"data row12 col1\" >Chettri</td>\n",
              "      <td id=\"T_de66a_row12_col2\" class=\"data row12 col2\" >None</td>\n",
              "      <td id=\"T_de66a_row12_col3\" class=\"data row12 col3\" >None</td>\n",
              "    </tr>\n",
              "  </tbody>\n",
              "</table>\n"
            ]
          },
          "metadata": {},
          "execution_count": 53
        }
      ]
    },
    {
      "cell_type": "markdown",
      "source": [
        "### Right Outer"
      ],
      "metadata": {
        "id": "iJ6DASb121Og"
      }
    },
    {
      "cell_type": "code",
      "source": [
        "sql = 'select empid, firstname, deptname, location from empl RIGHT JOIN dept ON empl.deptid = dept.deptid'\n",
        "runSelect(sql)"
      ],
      "metadata": {
        "colab": {
          "base_uri": "https://localhost:8080/",
          "height": 457
        },
        "id": "khvQpQ4E2XND",
        "outputId": "c4441401-1021-45f8-a15b-7b9ff7024f96"
      },
      "execution_count": 54,
      "outputs": [
        {
          "output_type": "execute_result",
          "data": {
            "text/plain": [
              "<pandas.io.formats.style.Styler at 0x7f7477a9f160>"
            ],
            "text/html": [
              "<style type=\"text/css\">\n",
              "</style>\n",
              "<table id=\"T_1b408\" class=\"dataframe\">\n",
              "  <thead>\n",
              "    <tr>\n",
              "      <th id=\"T_1b408_level0_col0\" class=\"col_heading level0 col0\" >empid</th>\n",
              "      <th id=\"T_1b408_level0_col1\" class=\"col_heading level0 col1\" >firstname</th>\n",
              "      <th id=\"T_1b408_level0_col2\" class=\"col_heading level0 col2\" >deptname</th>\n",
              "      <th id=\"T_1b408_level0_col3\" class=\"col_heading level0 col3\" >location</th>\n",
              "    </tr>\n",
              "  </thead>\n",
              "  <tbody>\n",
              "    <tr>\n",
              "      <td id=\"T_1b408_row0_col0\" class=\"data row0 col0\" >546223</td>\n",
              "      <td id=\"T_1b408_row0_col1\" class=\"data row0 col1\" >Narayan</td>\n",
              "      <td id=\"T_1b408_row0_col2\" class=\"data row0 col2\" >Corporate</td>\n",
              "      <td id=\"T_1b408_row0_col3\" class=\"data row0 col3\" >Calcutta</td>\n",
              "    </tr>\n",
              "    <tr>\n",
              "      <td id=\"T_1b408_row1_col0\" class=\"data row1 col0\" >299034</td>\n",
              "      <td id=\"T_1b408_row1_col1\" class=\"data row1 col1\" >Rekha</td>\n",
              "      <td id=\"T_1b408_row1_col2\" class=\"data row1 col2\" >Corporate</td>\n",
              "      <td id=\"T_1b408_row1_col3\" class=\"data row1 col3\" >Calcutta</td>\n",
              "    </tr>\n",
              "    <tr>\n",
              "      <td id=\"T_1b408_row2_col0\" class=\"data row2 col0\" >742866</td>\n",
              "      <td id=\"T_1b408_row2_col1\" class=\"data row2 col1\" >Amitabh</td>\n",
              "      <td id=\"T_1b408_row2_col2\" class=\"data row2 col2\" >Corporate</td>\n",
              "      <td id=\"T_1b408_row2_col3\" class=\"data row2 col3\" >Calcutta</td>\n",
              "    </tr>\n",
              "    <tr>\n",
              "      <td id=\"T_1b408_row3_col0\" class=\"data row3 col0\" >897889</td>\n",
              "      <td id=\"T_1b408_row3_col1\" class=\"data row3 col1\" >Virender</td>\n",
              "      <td id=\"T_1b408_row3_col2\" class=\"data row3 col2\" >Sales</td>\n",
              "      <td id=\"T_1b408_row3_col3\" class=\"data row3 col3\" >Calcutta</td>\n",
              "    </tr>\n",
              "    <tr>\n",
              "      <td id=\"T_1b408_row4_col0\" class=\"data row4 col0\" >239456</td>\n",
              "      <td id=\"T_1b408_row4_col1\" class=\"data row4 col1\" >Shahrukh</td>\n",
              "      <td id=\"T_1b408_row4_col2\" class=\"data row4 col2\" >Sales</td>\n",
              "      <td id=\"T_1b408_row4_col3\" class=\"data row4 col3\" >Calcutta</td>\n",
              "    </tr>\n",
              "    <tr>\n",
              "      <td id=\"T_1b408_row5_col0\" class=\"data row5 col0\" >865477</td>\n",
              "      <td id=\"T_1b408_row5_col1\" class=\"data row5 col1\" >Madhuri</td>\n",
              "      <td id=\"T_1b408_row5_col2\" class=\"data row5 col2\" >Sales</td>\n",
              "      <td id=\"T_1b408_row5_col3\" class=\"data row5 col3\" >Calcutta</td>\n",
              "    </tr>\n",
              "    <tr>\n",
              "      <td id=\"T_1b408_row6_col0\" class=\"data row6 col0\" >223112</td>\n",
              "      <td id=\"T_1b408_row6_col1\" class=\"data row6 col1\" >Sania</td>\n",
              "      <td id=\"T_1b408_row6_col2\" class=\"data row6 col2\" >Accounts</td>\n",
              "      <td id=\"T_1b408_row6_col3\" class=\"data row6 col3\" >Calcutta</td>\n",
              "    </tr>\n",
              "    <tr>\n",
              "      <td id=\"T_1b408_row7_col0\" class=\"data row7 col0\" >997445</td>\n",
              "      <td id=\"T_1b408_row7_col1\" class=\"data row7 col1\" >Jagmohan</td>\n",
              "      <td id=\"T_1b408_row7_col2\" class=\"data row7 col2\" >Accounts</td>\n",
              "      <td id=\"T_1b408_row7_col3\" class=\"data row7 col3\" >Calcutta</td>\n",
              "    </tr>\n",
              "    <tr>\n",
              "      <td id=\"T_1b408_row8_col0\" class=\"data row8 col0\" >822134</td>\n",
              "      <td id=\"T_1b408_row8_col1\" class=\"data row8 col1\" >Rahul</td>\n",
              "      <td id=\"T_1b408_row8_col2\" class=\"data row8 col2\" >Accounts</td>\n",
              "      <td id=\"T_1b408_row8_col3\" class=\"data row8 col3\" >Calcutta</td>\n",
              "    </tr>\n",
              "    <tr>\n",
              "      <td id=\"T_1b408_row9_col0\" class=\"data row9 col0\" >989007</td>\n",
              "      <td id=\"T_1b408_row9_col1\" class=\"data row9 col1\" >Sourav</td>\n",
              "      <td id=\"T_1b408_row9_col2\" class=\"data row9 col2\" >Production</td>\n",
              "      <td id=\"T_1b408_row9_col3\" class=\"data row9 col3\" >Bombay</td>\n",
              "    </tr>\n",
              "    <tr>\n",
              "      <td id=\"T_1b408_row10_col0\" class=\"data row10 col0\" >123980</td>\n",
              "      <td id=\"T_1b408_row10_col1\" class=\"data row10 col1\" >Mahender</td>\n",
              "      <td id=\"T_1b408_row10_col2\" class=\"data row10 col2\" >Production</td>\n",
              "      <td id=\"T_1b408_row10_col3\" class=\"data row10 col3\" >Bombay</td>\n",
              "    </tr>\n",
              "    <tr>\n",
              "      <td id=\"T_1b408_row11_col0\" class=\"data row11 col0\" >349870</td>\n",
              "      <td id=\"T_1b408_row11_col1\" class=\"data row11 col1\" >Rani</td>\n",
              "      <td id=\"T_1b408_row11_col2\" class=\"data row11 col2\" >Production</td>\n",
              "      <td id=\"T_1b408_row11_col3\" class=\"data row11 col3\" >Bombay</td>\n",
              "    </tr>\n",
              "    <tr>\n",
              "      <td id=\"T_1b408_row12_col0\" class=\"data row12 col0\" >None</td>\n",
              "      <td id=\"T_1b408_row12_col1\" class=\"data row12 col1\" >None</td>\n",
              "      <td id=\"T_1b408_row12_col2\" class=\"data row12 col2\" >Research</td>\n",
              "      <td id=\"T_1b408_row12_col3\" class=\"data row12 col3\" >Delhi</td>\n",
              "    </tr>\n",
              "  </tbody>\n",
              "</table>\n"
            ]
          },
          "metadata": {},
          "execution_count": 54
        }
      ]
    },
    {
      "cell_type": "markdown",
      "source": [
        "### Full Outer"
      ],
      "metadata": {
        "id": "RsEyhBBp24zy"
      }
    },
    {
      "cell_type": "code",
      "source": [
        "sql = 'select empid, firstname, deptname, location from empl FULL JOIN dept ON empl.deptid = dept.deptid'\n",
        "runSelect(sql)"
      ],
      "metadata": {
        "colab": {
          "base_uri": "https://localhost:8080/",
          "height": 488
        },
        "id": "Ipt14U9o2qFg",
        "outputId": "f22d69fa-f615-44e2-a60b-fb401d568e78"
      },
      "execution_count": 55,
      "outputs": [
        {
          "output_type": "execute_result",
          "data": {
            "text/plain": [
              "<pandas.io.formats.style.Styler at 0x7f7477b0a4d0>"
            ],
            "text/html": [
              "<style type=\"text/css\">\n",
              "</style>\n",
              "<table id=\"T_bbe3e\" class=\"dataframe\">\n",
              "  <thead>\n",
              "    <tr>\n",
              "      <th id=\"T_bbe3e_level0_col0\" class=\"col_heading level0 col0\" >empid</th>\n",
              "      <th id=\"T_bbe3e_level0_col1\" class=\"col_heading level0 col1\" >firstname</th>\n",
              "      <th id=\"T_bbe3e_level0_col2\" class=\"col_heading level0 col2\" >deptname</th>\n",
              "      <th id=\"T_bbe3e_level0_col3\" class=\"col_heading level0 col3\" >location</th>\n",
              "    </tr>\n",
              "  </thead>\n",
              "  <tbody>\n",
              "    <tr>\n",
              "      <td id=\"T_bbe3e_row0_col0\" class=\"data row0 col0\" >546223</td>\n",
              "      <td id=\"T_bbe3e_row0_col1\" class=\"data row0 col1\" >Narayan</td>\n",
              "      <td id=\"T_bbe3e_row0_col2\" class=\"data row0 col2\" >Corporate</td>\n",
              "      <td id=\"T_bbe3e_row0_col3\" class=\"data row0 col3\" >Calcutta</td>\n",
              "    </tr>\n",
              "    <tr>\n",
              "      <td id=\"T_bbe3e_row1_col0\" class=\"data row1 col0\" >299034</td>\n",
              "      <td id=\"T_bbe3e_row1_col1\" class=\"data row1 col1\" >Rekha</td>\n",
              "      <td id=\"T_bbe3e_row1_col2\" class=\"data row1 col2\" >Corporate</td>\n",
              "      <td id=\"T_bbe3e_row1_col3\" class=\"data row1 col3\" >Calcutta</td>\n",
              "    </tr>\n",
              "    <tr>\n",
              "      <td id=\"T_bbe3e_row2_col0\" class=\"data row2 col0\" >742866</td>\n",
              "      <td id=\"T_bbe3e_row2_col1\" class=\"data row2 col1\" >Amitabh</td>\n",
              "      <td id=\"T_bbe3e_row2_col2\" class=\"data row2 col2\" >Corporate</td>\n",
              "      <td id=\"T_bbe3e_row2_col3\" class=\"data row2 col3\" >Calcutta</td>\n",
              "    </tr>\n",
              "    <tr>\n",
              "      <td id=\"T_bbe3e_row3_col0\" class=\"data row3 col0\" >897889</td>\n",
              "      <td id=\"T_bbe3e_row3_col1\" class=\"data row3 col1\" >Virender</td>\n",
              "      <td id=\"T_bbe3e_row3_col2\" class=\"data row3 col2\" >Sales</td>\n",
              "      <td id=\"T_bbe3e_row3_col3\" class=\"data row3 col3\" >Calcutta</td>\n",
              "    </tr>\n",
              "    <tr>\n",
              "      <td id=\"T_bbe3e_row4_col0\" class=\"data row4 col0\" >239456</td>\n",
              "      <td id=\"T_bbe3e_row4_col1\" class=\"data row4 col1\" >Shahrukh</td>\n",
              "      <td id=\"T_bbe3e_row4_col2\" class=\"data row4 col2\" >Sales</td>\n",
              "      <td id=\"T_bbe3e_row4_col3\" class=\"data row4 col3\" >Calcutta</td>\n",
              "    </tr>\n",
              "    <tr>\n",
              "      <td id=\"T_bbe3e_row5_col0\" class=\"data row5 col0\" >865477</td>\n",
              "      <td id=\"T_bbe3e_row5_col1\" class=\"data row5 col1\" >Madhuri</td>\n",
              "      <td id=\"T_bbe3e_row5_col2\" class=\"data row5 col2\" >Sales</td>\n",
              "      <td id=\"T_bbe3e_row5_col3\" class=\"data row5 col3\" >Calcutta</td>\n",
              "    </tr>\n",
              "    <tr>\n",
              "      <td id=\"T_bbe3e_row6_col0\" class=\"data row6 col0\" >223112</td>\n",
              "      <td id=\"T_bbe3e_row6_col1\" class=\"data row6 col1\" >Sania</td>\n",
              "      <td id=\"T_bbe3e_row6_col2\" class=\"data row6 col2\" >Accounts</td>\n",
              "      <td id=\"T_bbe3e_row6_col3\" class=\"data row6 col3\" >Calcutta</td>\n",
              "    </tr>\n",
              "    <tr>\n",
              "      <td id=\"T_bbe3e_row7_col0\" class=\"data row7 col0\" >997445</td>\n",
              "      <td id=\"T_bbe3e_row7_col1\" class=\"data row7 col1\" >Jagmohan</td>\n",
              "      <td id=\"T_bbe3e_row7_col2\" class=\"data row7 col2\" >Accounts</td>\n",
              "      <td id=\"T_bbe3e_row7_col3\" class=\"data row7 col3\" >Calcutta</td>\n",
              "    </tr>\n",
              "    <tr>\n",
              "      <td id=\"T_bbe3e_row8_col0\" class=\"data row8 col0\" >822134</td>\n",
              "      <td id=\"T_bbe3e_row8_col1\" class=\"data row8 col1\" >Rahul</td>\n",
              "      <td id=\"T_bbe3e_row8_col2\" class=\"data row8 col2\" >Accounts</td>\n",
              "      <td id=\"T_bbe3e_row8_col3\" class=\"data row8 col3\" >Calcutta</td>\n",
              "    </tr>\n",
              "    <tr>\n",
              "      <td id=\"T_bbe3e_row9_col0\" class=\"data row9 col0\" >989007</td>\n",
              "      <td id=\"T_bbe3e_row9_col1\" class=\"data row9 col1\" >Sourav</td>\n",
              "      <td id=\"T_bbe3e_row9_col2\" class=\"data row9 col2\" >Production</td>\n",
              "      <td id=\"T_bbe3e_row9_col3\" class=\"data row9 col3\" >Bombay</td>\n",
              "    </tr>\n",
              "    <tr>\n",
              "      <td id=\"T_bbe3e_row10_col0\" class=\"data row10 col0\" >123980</td>\n",
              "      <td id=\"T_bbe3e_row10_col1\" class=\"data row10 col1\" >Mahender</td>\n",
              "      <td id=\"T_bbe3e_row10_col2\" class=\"data row10 col2\" >Production</td>\n",
              "      <td id=\"T_bbe3e_row10_col3\" class=\"data row10 col3\" >Bombay</td>\n",
              "    </tr>\n",
              "    <tr>\n",
              "      <td id=\"T_bbe3e_row11_col0\" class=\"data row11 col0\" >349870</td>\n",
              "      <td id=\"T_bbe3e_row11_col1\" class=\"data row11 col1\" >Rani</td>\n",
              "      <td id=\"T_bbe3e_row11_col2\" class=\"data row11 col2\" >Production</td>\n",
              "      <td id=\"T_bbe3e_row11_col3\" class=\"data row11 col3\" >Bombay</td>\n",
              "    </tr>\n",
              "    <tr>\n",
              "      <td id=\"T_bbe3e_row12_col0\" class=\"data row12 col0\" >None</td>\n",
              "      <td id=\"T_bbe3e_row12_col1\" class=\"data row12 col1\" >None</td>\n",
              "      <td id=\"T_bbe3e_row12_col2\" class=\"data row12 col2\" >Research</td>\n",
              "      <td id=\"T_bbe3e_row12_col3\" class=\"data row12 col3\" >Delhi</td>\n",
              "    </tr>\n",
              "    <tr>\n",
              "      <td id=\"T_bbe3e_row13_col0\" class=\"data row13 col0\" >546224</td>\n",
              "      <td id=\"T_bbe3e_row13_col1\" class=\"data row13 col1\" >Chettri</td>\n",
              "      <td id=\"T_bbe3e_row13_col2\" class=\"data row13 col2\" >None</td>\n",
              "      <td id=\"T_bbe3e_row13_col3\" class=\"data row13 col3\" >None</td>\n",
              "    </tr>\n",
              "  </tbody>\n",
              "</table>\n"
            ]
          },
          "metadata": {},
          "execution_count": 55
        }
      ]
    },
    {
      "cell_type": "code",
      "source": [
        "sql = 'select deptname,round(sum(salary),0) payroll from empl FULL JOIN dept ON empl.deptid = dept.deptid \\\n",
        "group by deptname'\n",
        "runSelect(sql)"
      ],
      "metadata": {
        "id": "EAI2kiYP3p9O",
        "outputId": "34db714e-a430-4d95-bf8e-b30d2837694a",
        "colab": {
          "base_uri": "https://localhost:8080/",
          "height": 238
        }
      },
      "execution_count": 56,
      "outputs": [
        {
          "output_type": "execute_result",
          "data": {
            "text/plain": [
              "<pandas.io.formats.style.Styler at 0x7f7477b08a60>"
            ],
            "text/html": [
              "<style type=\"text/css\">\n",
              "</style>\n",
              "<table id=\"T_857c3\" class=\"dataframe\">\n",
              "  <thead>\n",
              "    <tr>\n",
              "      <th id=\"T_857c3_level0_col0\" class=\"col_heading level0 col0\" >deptname</th>\n",
              "      <th id=\"T_857c3_level0_col1\" class=\"col_heading level0 col1\" >payroll</th>\n",
              "    </tr>\n",
              "  </thead>\n",
              "  <tbody>\n",
              "    <tr>\n",
              "      <td id=\"T_857c3_row0_col0\" class=\"data row0 col0\" >None</td>\n",
              "      <td id=\"T_857c3_row0_col1\" class=\"data row0 col1\" >40000</td>\n",
              "    </tr>\n",
              "    <tr>\n",
              "      <td id=\"T_857c3_row1_col0\" class=\"data row1 col0\" >Research</td>\n",
              "      <td id=\"T_857c3_row1_col1\" class=\"data row1 col1\" >None</td>\n",
              "    </tr>\n",
              "    <tr>\n",
              "      <td id=\"T_857c3_row2_col0\" class=\"data row2 col0\" >Corporate</td>\n",
              "      <td id=\"T_857c3_row2_col1\" class=\"data row2 col1\" >150000</td>\n",
              "    </tr>\n",
              "    <tr>\n",
              "      <td id=\"T_857c3_row3_col0\" class=\"data row3 col0\" >Accounts</td>\n",
              "      <td id=\"T_857c3_row3_col1\" class=\"data row3 col1\" >77000</td>\n",
              "    </tr>\n",
              "    <tr>\n",
              "      <td id=\"T_857c3_row4_col0\" class=\"data row4 col0\" >Sales</td>\n",
              "      <td id=\"T_857c3_row4_col1\" class=\"data row4 col1\" >55000</td>\n",
              "    </tr>\n",
              "    <tr>\n",
              "      <td id=\"T_857c3_row5_col0\" class=\"data row5 col0\" >Production</td>\n",
              "      <td id=\"T_857c3_row5_col1\" class=\"data row5 col1\" >54000</td>\n",
              "    </tr>\n",
              "  </tbody>\n",
              "</table>\n"
            ]
          },
          "metadata": {},
          "execution_count": 56
        }
      ]
    },
    {
      "cell_type": "markdown",
      "source": [
        "## Recursive Joins"
      ],
      "metadata": {
        "id": "6nm2xAfn6pIV"
      }
    },
    {
      "cell_type": "markdown",
      "source": [
        "### Three Tables"
      ],
      "metadata": {
        "id": "A1KCGwwyB02z"
      }
    },
    {
      "cell_type": "code",
      "source": [
        "cmd = \"select w.lastname , w.deptID, '>' linksTo  , d.deptID ,d.managerID,'<' linksTo, m.empID, m.lastname \\\n",
        "        from Empl w, Dept d, Empl m \\\n",
        "        where w.deptID = d.deptID   \\\n",
        "        and d.managerID = m.empID \\\n",
        "    \"\n",
        "runSelect(cmd)"
      ],
      "metadata": {
        "colab": {
          "base_uri": "https://localhost:8080/",
          "height": 426
        },
        "id": "W17nS5R7AL0J",
        "outputId": "a572b39f-db36-4623-948e-bac9230066db"
      },
      "execution_count": 57,
      "outputs": [
        {
          "output_type": "execute_result",
          "data": {
            "text/plain": [
              "<pandas.io.formats.style.Styler at 0x7f7477b0b490>"
            ],
            "text/html": [
              "<style type=\"text/css\">\n",
              "</style>\n",
              "<table id=\"T_e6ba5\" class=\"dataframe\">\n",
              "  <thead>\n",
              "    <tr>\n",
              "      <th id=\"T_e6ba5_level0_col0\" class=\"col_heading level0 col0\" >lastname</th>\n",
              "      <th id=\"T_e6ba5_level0_col1\" class=\"col_heading level0 col1\" >deptid</th>\n",
              "      <th id=\"T_e6ba5_level0_col2\" class=\"col_heading level0 col2\" >linksto</th>\n",
              "      <th id=\"T_e6ba5_level0_col3\" class=\"col_heading level0 col3\" >deptid</th>\n",
              "      <th id=\"T_e6ba5_level0_col4\" class=\"col_heading level0 col4\" >managerid</th>\n",
              "      <th id=\"T_e6ba5_level0_col5\" class=\"col_heading level0 col5\" >linksto</th>\n",
              "      <th id=\"T_e6ba5_level0_col6\" class=\"col_heading level0 col6\" >empid</th>\n",
              "      <th id=\"T_e6ba5_level0_col7\" class=\"col_heading level0 col7\" >lastname</th>\n",
              "    </tr>\n",
              "  </thead>\n",
              "  <tbody>\n",
              "    <tr>\n",
              "      <td id=\"T_e6ba5_row0_col0\" class=\"data row0 col0\" >Karthikeyan</td>\n",
              "      <td id=\"T_e6ba5_row0_col1\" class=\"data row0 col1\" >10</td>\n",
              "      <td id=\"T_e6ba5_row0_col2\" class=\"data row0 col2\" >></td>\n",
              "      <td id=\"T_e6ba5_row0_col3\" class=\"data row0 col3\" >10</td>\n",
              "      <td id=\"T_e6ba5_row0_col4\" class=\"data row0 col4\" >299034</td>\n",
              "      <td id=\"T_e6ba5_row0_col5\" class=\"data row0 col5\" ><</td>\n",
              "      <td id=\"T_e6ba5_row0_col6\" class=\"data row0 col6\" >299034</td>\n",
              "      <td id=\"T_e6ba5_row0_col7\" class=\"data row0 col7\" >Ganesan</td>\n",
              "    </tr>\n",
              "    <tr>\n",
              "      <td id=\"T_e6ba5_row1_col0\" class=\"data row1 col0\" >Ganesan</td>\n",
              "      <td id=\"T_e6ba5_row1_col1\" class=\"data row1 col1\" >10</td>\n",
              "      <td id=\"T_e6ba5_row1_col2\" class=\"data row1 col2\" >></td>\n",
              "      <td id=\"T_e6ba5_row1_col3\" class=\"data row1 col3\" >10</td>\n",
              "      <td id=\"T_e6ba5_row1_col4\" class=\"data row1 col4\" >299034</td>\n",
              "      <td id=\"T_e6ba5_row1_col5\" class=\"data row1 col5\" ><</td>\n",
              "      <td id=\"T_e6ba5_row1_col6\" class=\"data row1 col6\" >299034</td>\n",
              "      <td id=\"T_e6ba5_row1_col7\" class=\"data row1 col7\" >Ganesan</td>\n",
              "    </tr>\n",
              "    <tr>\n",
              "      <td id=\"T_e6ba5_row2_col0\" class=\"data row2 col0\" >Bacchan</td>\n",
              "      <td id=\"T_e6ba5_row2_col1\" class=\"data row2 col1\" >10</td>\n",
              "      <td id=\"T_e6ba5_row2_col2\" class=\"data row2 col2\" >></td>\n",
              "      <td id=\"T_e6ba5_row2_col3\" class=\"data row2 col3\" >10</td>\n",
              "      <td id=\"T_e6ba5_row2_col4\" class=\"data row2 col4\" >299034</td>\n",
              "      <td id=\"T_e6ba5_row2_col5\" class=\"data row2 col5\" ><</td>\n",
              "      <td id=\"T_e6ba5_row2_col6\" class=\"data row2 col6\" >299034</td>\n",
              "      <td id=\"T_e6ba5_row2_col7\" class=\"data row2 col7\" >Ganesan</td>\n",
              "    </tr>\n",
              "    <tr>\n",
              "      <td id=\"T_e6ba5_row3_col0\" class=\"data row3 col0\" >Sehwag</td>\n",
              "      <td id=\"T_e6ba5_row3_col1\" class=\"data row3 col1\" >20</td>\n",
              "      <td id=\"T_e6ba5_row3_col2\" class=\"data row3 col2\" >></td>\n",
              "      <td id=\"T_e6ba5_row3_col3\" class=\"data row3 col3\" >20</td>\n",
              "      <td id=\"T_e6ba5_row3_col4\" class=\"data row3 col4\" >239456</td>\n",
              "      <td id=\"T_e6ba5_row3_col5\" class=\"data row3 col5\" ><</td>\n",
              "      <td id=\"T_e6ba5_row3_col6\" class=\"data row3 col6\" >239456</td>\n",
              "      <td id=\"T_e6ba5_row3_col7\" class=\"data row3 col7\" >Khan</td>\n",
              "    </tr>\n",
              "    <tr>\n",
              "      <td id=\"T_e6ba5_row4_col0\" class=\"data row4 col0\" >Khan</td>\n",
              "      <td id=\"T_e6ba5_row4_col1\" class=\"data row4 col1\" >20</td>\n",
              "      <td id=\"T_e6ba5_row4_col2\" class=\"data row4 col2\" >></td>\n",
              "      <td id=\"T_e6ba5_row4_col3\" class=\"data row4 col3\" >20</td>\n",
              "      <td id=\"T_e6ba5_row4_col4\" class=\"data row4 col4\" >239456</td>\n",
              "      <td id=\"T_e6ba5_row4_col5\" class=\"data row4 col5\" ><</td>\n",
              "      <td id=\"T_e6ba5_row4_col6\" class=\"data row4 col6\" >239456</td>\n",
              "      <td id=\"T_e6ba5_row4_col7\" class=\"data row4 col7\" >Khan</td>\n",
              "    </tr>\n",
              "    <tr>\n",
              "      <td id=\"T_e6ba5_row5_col0\" class=\"data row5 col0\" >Dikshit</td>\n",
              "      <td id=\"T_e6ba5_row5_col1\" class=\"data row5 col1\" >20</td>\n",
              "      <td id=\"T_e6ba5_row5_col2\" class=\"data row5 col2\" >></td>\n",
              "      <td id=\"T_e6ba5_row5_col3\" class=\"data row5 col3\" >20</td>\n",
              "      <td id=\"T_e6ba5_row5_col4\" class=\"data row5 col4\" >239456</td>\n",
              "      <td id=\"T_e6ba5_row5_col5\" class=\"data row5 col5\" ><</td>\n",
              "      <td id=\"T_e6ba5_row5_col6\" class=\"data row5 col6\" >239456</td>\n",
              "      <td id=\"T_e6ba5_row5_col7\" class=\"data row5 col7\" >Khan</td>\n",
              "    </tr>\n",
              "    <tr>\n",
              "      <td id=\"T_e6ba5_row6_col0\" class=\"data row6 col0\" >Mirza</td>\n",
              "      <td id=\"T_e6ba5_row6_col1\" class=\"data row6 col1\" >30</td>\n",
              "      <td id=\"T_e6ba5_row6_col2\" class=\"data row6 col2\" >></td>\n",
              "      <td id=\"T_e6ba5_row6_col3\" class=\"data row6 col3\" >30</td>\n",
              "      <td id=\"T_e6ba5_row6_col4\" class=\"data row6 col4\" >822134</td>\n",
              "      <td id=\"T_e6ba5_row6_col5\" class=\"data row6 col5\" ><</td>\n",
              "      <td id=\"T_e6ba5_row6_col6\" class=\"data row6 col6\" >822134</td>\n",
              "      <td id=\"T_e6ba5_row6_col7\" class=\"data row6 col7\" >Dravid</td>\n",
              "    </tr>\n",
              "    <tr>\n",
              "      <td id=\"T_e6ba5_row7_col0\" class=\"data row7 col0\" >Dalmia</td>\n",
              "      <td id=\"T_e6ba5_row7_col1\" class=\"data row7 col1\" >30</td>\n",
              "      <td id=\"T_e6ba5_row7_col2\" class=\"data row7 col2\" >></td>\n",
              "      <td id=\"T_e6ba5_row7_col3\" class=\"data row7 col3\" >30</td>\n",
              "      <td id=\"T_e6ba5_row7_col4\" class=\"data row7 col4\" >822134</td>\n",
              "      <td id=\"T_e6ba5_row7_col5\" class=\"data row7 col5\" ><</td>\n",
              "      <td id=\"T_e6ba5_row7_col6\" class=\"data row7 col6\" >822134</td>\n",
              "      <td id=\"T_e6ba5_row7_col7\" class=\"data row7 col7\" >Dravid</td>\n",
              "    </tr>\n",
              "    <tr>\n",
              "      <td id=\"T_e6ba5_row8_col0\" class=\"data row8 col0\" >Dravid</td>\n",
              "      <td id=\"T_e6ba5_row8_col1\" class=\"data row8 col1\" >30</td>\n",
              "      <td id=\"T_e6ba5_row8_col2\" class=\"data row8 col2\" >></td>\n",
              "      <td id=\"T_e6ba5_row8_col3\" class=\"data row8 col3\" >30</td>\n",
              "      <td id=\"T_e6ba5_row8_col4\" class=\"data row8 col4\" >822134</td>\n",
              "      <td id=\"T_e6ba5_row8_col5\" class=\"data row8 col5\" ><</td>\n",
              "      <td id=\"T_e6ba5_row8_col6\" class=\"data row8 col6\" >822134</td>\n",
              "      <td id=\"T_e6ba5_row8_col7\" class=\"data row8 col7\" >Dravid</td>\n",
              "    </tr>\n",
              "    <tr>\n",
              "      <td id=\"T_e6ba5_row9_col0\" class=\"data row9 col0\" >Ganguly</td>\n",
              "      <td id=\"T_e6ba5_row9_col1\" class=\"data row9 col1\" >40</td>\n",
              "      <td id=\"T_e6ba5_row9_col2\" class=\"data row9 col2\" >></td>\n",
              "      <td id=\"T_e6ba5_row9_col3\" class=\"data row9 col3\" >40</td>\n",
              "      <td id=\"T_e6ba5_row9_col4\" class=\"data row9 col4\" >349870</td>\n",
              "      <td id=\"T_e6ba5_row9_col5\" class=\"data row9 col5\" ><</td>\n",
              "      <td id=\"T_e6ba5_row9_col6\" class=\"data row9 col6\" >349870</td>\n",
              "      <td id=\"T_e6ba5_row9_col7\" class=\"data row9 col7\" >Mukherjee</td>\n",
              "    </tr>\n",
              "    <tr>\n",
              "      <td id=\"T_e6ba5_row10_col0\" class=\"data row10 col0\" >Dhoni</td>\n",
              "      <td id=\"T_e6ba5_row10_col1\" class=\"data row10 col1\" >40</td>\n",
              "      <td id=\"T_e6ba5_row10_col2\" class=\"data row10 col2\" >></td>\n",
              "      <td id=\"T_e6ba5_row10_col3\" class=\"data row10 col3\" >40</td>\n",
              "      <td id=\"T_e6ba5_row10_col4\" class=\"data row10 col4\" >349870</td>\n",
              "      <td id=\"T_e6ba5_row10_col5\" class=\"data row10 col5\" ><</td>\n",
              "      <td id=\"T_e6ba5_row10_col6\" class=\"data row10 col6\" >349870</td>\n",
              "      <td id=\"T_e6ba5_row10_col7\" class=\"data row10 col7\" >Mukherjee</td>\n",
              "    </tr>\n",
              "    <tr>\n",
              "      <td id=\"T_e6ba5_row11_col0\" class=\"data row11 col0\" >Mukherjee</td>\n",
              "      <td id=\"T_e6ba5_row11_col1\" class=\"data row11 col1\" >40</td>\n",
              "      <td id=\"T_e6ba5_row11_col2\" class=\"data row11 col2\" >></td>\n",
              "      <td id=\"T_e6ba5_row11_col3\" class=\"data row11 col3\" >40</td>\n",
              "      <td id=\"T_e6ba5_row11_col4\" class=\"data row11 col4\" >349870</td>\n",
              "      <td id=\"T_e6ba5_row11_col5\" class=\"data row11 col5\" ><</td>\n",
              "      <td id=\"T_e6ba5_row11_col6\" class=\"data row11 col6\" >349870</td>\n",
              "      <td id=\"T_e6ba5_row11_col7\" class=\"data row11 col7\" >Mukherjee</td>\n",
              "    </tr>\n",
              "  </tbody>\n",
              "</table>\n"
            ]
          },
          "metadata": {},
          "execution_count": 57
        }
      ]
    },
    {
      "cell_type": "markdown",
      "source": [
        "### Self Join / Single Table"
      ],
      "metadata": {
        "id": "jeknsMbjCA2A"
      }
    },
    {
      "cell_type": "code",
      "source": [
        "cmd = \"Select w.FirstName, w.JobDesc, w.DeptID, \\\n",
        "    ' hired by ' hiredby, \\\n",
        "    m.FirstName,m.JobDesc,m.DeptID \\\n",
        "    from empl w, empl m \\\n",
        "    where w.HiredBy = m.EmpID\"\n",
        "\n",
        "runSelect(cmd)"
      ],
      "metadata": {
        "colab": {
          "base_uri": "https://localhost:8080/",
          "height": 426
        },
        "id": "iDPmUw9-CEBH",
        "outputId": "79e1f4ed-e8c7-4a93-c05a-ce1130c00600"
      },
      "execution_count": 58,
      "outputs": [
        {
          "output_type": "execute_result",
          "data": {
            "text/plain": [
              "<pandas.io.formats.style.Styler at 0x7f7477b0b670>"
            ],
            "text/html": [
              "<style type=\"text/css\">\n",
              "</style>\n",
              "<table id=\"T_01c9a\" class=\"dataframe\">\n",
              "  <thead>\n",
              "    <tr>\n",
              "      <th id=\"T_01c9a_level0_col0\" class=\"col_heading level0 col0\" >firstname</th>\n",
              "      <th id=\"T_01c9a_level0_col1\" class=\"col_heading level0 col1\" >jobdesc</th>\n",
              "      <th id=\"T_01c9a_level0_col2\" class=\"col_heading level0 col2\" >deptid</th>\n",
              "      <th id=\"T_01c9a_level0_col3\" class=\"col_heading level0 col3\" >hiredby</th>\n",
              "      <th id=\"T_01c9a_level0_col4\" class=\"col_heading level0 col4\" >firstname</th>\n",
              "      <th id=\"T_01c9a_level0_col5\" class=\"col_heading level0 col5\" >jobdesc</th>\n",
              "      <th id=\"T_01c9a_level0_col6\" class=\"col_heading level0 col6\" >deptid</th>\n",
              "    </tr>\n",
              "  </thead>\n",
              "  <tbody>\n",
              "    <tr>\n",
              "      <td id=\"T_01c9a_row0_col0\" class=\"data row0 col0\" >Rani</td>\n",
              "      <td id=\"T_01c9a_row0_col1\" class=\"data row0 col1\" >Manager</td>\n",
              "      <td id=\"T_01c9a_row0_col2\" class=\"data row0 col2\" >40</td>\n",
              "      <td id=\"T_01c9a_row0_col3\" class=\"data row0 col3\" > hired by </td>\n",
              "      <td id=\"T_01c9a_row0_col4\" class=\"data row0 col4\" >Amitabh</td>\n",
              "      <td id=\"T_01c9a_row0_col5\" class=\"data row0 col5\" >Executive</td>\n",
              "      <td id=\"T_01c9a_row0_col6\" class=\"data row0 col6\" >10</td>\n",
              "    </tr>\n",
              "    <tr>\n",
              "      <td id=\"T_01c9a_row1_col0\" class=\"data row1 col0\" >Madhuri</td>\n",
              "      <td id=\"T_01c9a_row1_col1\" class=\"data row1 col1\" >Clerk</td>\n",
              "      <td id=\"T_01c9a_row1_col2\" class=\"data row1 col2\" >20</td>\n",
              "      <td id=\"T_01c9a_row1_col3\" class=\"data row1 col3\" > hired by </td>\n",
              "      <td id=\"T_01c9a_row1_col4\" class=\"data row1 col4\" >Shahrukh</td>\n",
              "      <td id=\"T_01c9a_row1_col5\" class=\"data row1 col5\" >Manager</td>\n",
              "      <td id=\"T_01c9a_row1_col6\" class=\"data row1 col6\" >20</td>\n",
              "    </tr>\n",
              "    <tr>\n",
              "      <td id=\"T_01c9a_row2_col0\" class=\"data row2 col0\" >Shahrukh</td>\n",
              "      <td id=\"T_01c9a_row2_col1\" class=\"data row2 col1\" >Manager</td>\n",
              "      <td id=\"T_01c9a_row2_col2\" class=\"data row2 col2\" >20</td>\n",
              "      <td id=\"T_01c9a_row2_col3\" class=\"data row2 col3\" > hired by </td>\n",
              "      <td id=\"T_01c9a_row2_col4\" class=\"data row2 col4\" >Amitabh</td>\n",
              "      <td id=\"T_01c9a_row2_col5\" class=\"data row2 col5\" >Executive</td>\n",
              "      <td id=\"T_01c9a_row2_col6\" class=\"data row2 col6\" >10</td>\n",
              "    </tr>\n",
              "    <tr>\n",
              "      <td id=\"T_01c9a_row3_col0\" class=\"data row3 col0\" >Virender</td>\n",
              "      <td id=\"T_01c9a_row3_col1\" class=\"data row3 col1\" >Cus_Rep</td>\n",
              "      <td id=\"T_01c9a_row3_col2\" class=\"data row3 col2\" >20</td>\n",
              "      <td id=\"T_01c9a_row3_col3\" class=\"data row3 col3\" > hired by </td>\n",
              "      <td id=\"T_01c9a_row3_col4\" class=\"data row3 col4\" >Shahrukh</td>\n",
              "      <td id=\"T_01c9a_row3_col5\" class=\"data row3 col5\" >Manager</td>\n",
              "      <td id=\"T_01c9a_row3_col6\" class=\"data row3 col6\" >20</td>\n",
              "    </tr>\n",
              "    <tr>\n",
              "      <td id=\"T_01c9a_row4_col0\" class=\"data row4 col0\" >Mahender</td>\n",
              "      <td id=\"T_01c9a_row4_col1\" class=\"data row4 col1\" >Clerk</td>\n",
              "      <td id=\"T_01c9a_row4_col2\" class=\"data row4 col2\" >40</td>\n",
              "      <td id=\"T_01c9a_row4_col3\" class=\"data row4 col3\" > hired by </td>\n",
              "      <td id=\"T_01c9a_row4_col4\" class=\"data row4 col4\" >Rani</td>\n",
              "      <td id=\"T_01c9a_row4_col5\" class=\"data row4 col5\" >Manager</td>\n",
              "      <td id=\"T_01c9a_row4_col6\" class=\"data row4 col6\" >40</td>\n",
              "    </tr>\n",
              "    <tr>\n",
              "      <td id=\"T_01c9a_row5_col0\" class=\"data row5 col0\" >Rahul</td>\n",
              "      <td id=\"T_01c9a_row5_col1\" class=\"data row5 col1\" >Sr Manager</td>\n",
              "      <td id=\"T_01c9a_row5_col2\" class=\"data row5 col2\" >30</td>\n",
              "      <td id=\"T_01c9a_row5_col3\" class=\"data row5 col3\" > hired by </td>\n",
              "      <td id=\"T_01c9a_row5_col4\" class=\"data row5 col4\" >Amitabh</td>\n",
              "      <td id=\"T_01c9a_row5_col5\" class=\"data row5 col5\" >Executive</td>\n",
              "      <td id=\"T_01c9a_row5_col6\" class=\"data row5 col6\" >10</td>\n",
              "    </tr>\n",
              "    <tr>\n",
              "      <td id=\"T_01c9a_row6_col0\" class=\"data row6 col0\" >Jagmohan</td>\n",
              "      <td id=\"T_01c9a_row6_col1\" class=\"data row6 col1\" >Clerk</td>\n",
              "      <td id=\"T_01c9a_row6_col2\" class=\"data row6 col2\" >30</td>\n",
              "      <td id=\"T_01c9a_row6_col3\" class=\"data row6 col3\" > hired by </td>\n",
              "      <td id=\"T_01c9a_row6_col4\" class=\"data row6 col4\" >Rahul</td>\n",
              "      <td id=\"T_01c9a_row6_col5\" class=\"data row6 col5\" >Sr Manager</td>\n",
              "      <td id=\"T_01c9a_row6_col6\" class=\"data row6 col6\" >30</td>\n",
              "    </tr>\n",
              "    <tr>\n",
              "      <td id=\"T_01c9a_row7_col0\" class=\"data row7 col0\" >Sourav</td>\n",
              "      <td id=\"T_01c9a_row7_col1\" class=\"data row7 col1\" >Cus_Rep</td>\n",
              "      <td id=\"T_01c9a_row7_col2\" class=\"data row7 col2\" >40</td>\n",
              "      <td id=\"T_01c9a_row7_col3\" class=\"data row7 col3\" > hired by </td>\n",
              "      <td id=\"T_01c9a_row7_col4\" class=\"data row7 col4\" >Rekha</td>\n",
              "      <td id=\"T_01c9a_row7_col5\" class=\"data row7 col5\" >Director</td>\n",
              "      <td id=\"T_01c9a_row7_col6\" class=\"data row7 col6\" >10</td>\n",
              "    </tr>\n",
              "    <tr>\n",
              "      <td id=\"T_01c9a_row8_col0\" class=\"data row8 col0\" >Rekha</td>\n",
              "      <td id=\"T_01c9a_row8_col1\" class=\"data row8 col1\" >Director</td>\n",
              "      <td id=\"T_01c9a_row8_col2\" class=\"data row8 col2\" >10</td>\n",
              "      <td id=\"T_01c9a_row8_col3\" class=\"data row8 col3\" > hired by </td>\n",
              "      <td id=\"T_01c9a_row8_col4\" class=\"data row8 col4\" >Amitabh</td>\n",
              "      <td id=\"T_01c9a_row8_col5\" class=\"data row8 col5\" >Executive</td>\n",
              "      <td id=\"T_01c9a_row8_col6\" class=\"data row8 col6\" >10</td>\n",
              "    </tr>\n",
              "    <tr>\n",
              "      <td id=\"T_01c9a_row9_col0\" class=\"data row9 col0\" >Narayan</td>\n",
              "      <td id=\"T_01c9a_row9_col1\" class=\"data row9 col1\" >Secretary</td>\n",
              "      <td id=\"T_01c9a_row9_col2\" class=\"data row9 col2\" >10</td>\n",
              "      <td id=\"T_01c9a_row9_col3\" class=\"data row9 col3\" > hired by </td>\n",
              "      <td id=\"T_01c9a_row9_col4\" class=\"data row9 col4\" >Rekha</td>\n",
              "      <td id=\"T_01c9a_row9_col5\" class=\"data row9 col5\" >Director</td>\n",
              "      <td id=\"T_01c9a_row9_col6\" class=\"data row9 col6\" >10</td>\n",
              "    </tr>\n",
              "    <tr>\n",
              "      <td id=\"T_01c9a_row10_col0\" class=\"data row10 col0\" >Chettri</td>\n",
              "      <td id=\"T_01c9a_row10_col1\" class=\"data row10 col1\" >Dy Manager</td>\n",
              "      <td id=\"T_01c9a_row10_col2\" class=\"data row10 col2\" >70</td>\n",
              "      <td id=\"T_01c9a_row10_col3\" class=\"data row10 col3\" > hired by </td>\n",
              "      <td id=\"T_01c9a_row10_col4\" class=\"data row10 col4\" >Rani</td>\n",
              "      <td id=\"T_01c9a_row10_col5\" class=\"data row10 col5\" >Manager</td>\n",
              "      <td id=\"T_01c9a_row10_col6\" class=\"data row10 col6\" >40</td>\n",
              "    </tr>\n",
              "    <tr>\n",
              "      <td id=\"T_01c9a_row11_col0\" class=\"data row11 col0\" >Sania</td>\n",
              "      <td id=\"T_01c9a_row11_col1\" class=\"data row11 col1\" >Cus_Rep</td>\n",
              "      <td id=\"T_01c9a_row11_col2\" class=\"data row11 col2\" >30</td>\n",
              "      <td id=\"T_01c9a_row11_col3\" class=\"data row11 col3\" > hired by </td>\n",
              "      <td id=\"T_01c9a_row11_col4\" class=\"data row11 col4\" >Rahul</td>\n",
              "      <td id=\"T_01c9a_row11_col5\" class=\"data row11 col5\" >Sr Manager</td>\n",
              "      <td id=\"T_01c9a_row11_col6\" class=\"data row11 col6\" >30</td>\n",
              "    </tr>\n",
              "  </tbody>\n",
              "</table>\n"
            ]
          },
          "metadata": {},
          "execution_count": 58
        }
      ]
    },
    {
      "cell_type": "markdown",
      "source": [
        "#Subquery"
      ],
      "metadata": {
        "id": "tXDgw1RBzUf-"
      }
    },
    {
      "cell_type": "code",
      "source": [
        "sql = \"select lastname, salary, jobdesc, deptid from empl where \\\n",
        "salary = (select max(salary) from empl where deptid = '20') \\\n",
        "and deptid = '20'\"\n",
        "\n",
        "runSelect(sql)"
      ],
      "metadata": {
        "id": "SxQqgOcHzYTF",
        "outputId": "dae5f904-7b55-4a58-8b9a-c4aaf3e57813",
        "colab": {
          "base_uri": "https://localhost:8080/",
          "height": 81
        }
      },
      "execution_count": 76,
      "outputs": [
        {
          "output_type": "execute_result",
          "data": {
            "text/plain": [
              "<pandas.io.formats.style.Styler at 0x7f74a9406b90>"
            ],
            "text/html": [
              "<style type=\"text/css\">\n",
              "</style>\n",
              "<table id=\"T_6631d\" class=\"dataframe\">\n",
              "  <thead>\n",
              "    <tr>\n",
              "      <th id=\"T_6631d_level0_col0\" class=\"col_heading level0 col0\" >lastname</th>\n",
              "      <th id=\"T_6631d_level0_col1\" class=\"col_heading level0 col1\" >salary</th>\n",
              "      <th id=\"T_6631d_level0_col2\" class=\"col_heading level0 col2\" >jobdesc</th>\n",
              "      <th id=\"T_6631d_level0_col3\" class=\"col_heading level0 col3\" >deptid</th>\n",
              "    </tr>\n",
              "  </thead>\n",
              "  <tbody>\n",
              "    <tr>\n",
              "      <td id=\"T_6631d_row0_col0\" class=\"data row0 col0\" >Khan</td>\n",
              "      <td id=\"T_6631d_row0_col1\" class=\"data row0 col1\" >30000</td>\n",
              "      <td id=\"T_6631d_row0_col2\" class=\"data row0 col2\" >Manager</td>\n",
              "      <td id=\"T_6631d_row0_col3\" class=\"data row0 col3\" >20</td>\n",
              "    </tr>\n",
              "  </tbody>\n",
              "</table>\n"
            ]
          },
          "metadata": {},
          "execution_count": 76
        }
      ]
    },
    {
      "cell_type": "code",
      "source": [
        "sql = \"select lastname, salary, jobdesc, deptid from empl where salary < (select avg(salary) from empl where deptid = '20')\\\n",
        "and deptid = '20'\"\n",
        "runSelect(sql)"
      ],
      "metadata": {
        "id": "oEhaMtyLz3Tm",
        "outputId": "86ef1887-6987-4d97-f54e-13714b70f301",
        "colab": {
          "base_uri": "https://localhost:8080/",
          "height": 112
        }
      },
      "execution_count": 77,
      "outputs": [
        {
          "output_type": "execute_result",
          "data": {
            "text/plain": [
              "<pandas.io.formats.style.Styler at 0x7f74a85c1780>"
            ],
            "text/html": [
              "<style type=\"text/css\">\n",
              "</style>\n",
              "<table id=\"T_0445b\" class=\"dataframe\">\n",
              "  <thead>\n",
              "    <tr>\n",
              "      <th id=\"T_0445b_level0_col0\" class=\"col_heading level0 col0\" >lastname</th>\n",
              "      <th id=\"T_0445b_level0_col1\" class=\"col_heading level0 col1\" >salary</th>\n",
              "      <th id=\"T_0445b_level0_col2\" class=\"col_heading level0 col2\" >jobdesc</th>\n",
              "      <th id=\"T_0445b_level0_col3\" class=\"col_heading level0 col3\" >deptid</th>\n",
              "    </tr>\n",
              "  </thead>\n",
              "  <tbody>\n",
              "    <tr>\n",
              "      <td id=\"T_0445b_row0_col0\" class=\"data row0 col0\" >Dikshit</td>\n",
              "      <td id=\"T_0445b_row0_col1\" class=\"data row0 col1\" >10000</td>\n",
              "      <td id=\"T_0445b_row0_col2\" class=\"data row0 col2\" >Clerk</td>\n",
              "      <td id=\"T_0445b_row0_col3\" class=\"data row0 col3\" >20</td>\n",
              "    </tr>\n",
              "    <tr>\n",
              "      <td id=\"T_0445b_row1_col0\" class=\"data row1 col0\" >Sehwag</td>\n",
              "      <td id=\"T_0445b_row1_col1\" class=\"data row1 col1\" >15000</td>\n",
              "      <td id=\"T_0445b_row1_col2\" class=\"data row1 col2\" >Cus_Rep</td>\n",
              "      <td id=\"T_0445b_row1_col3\" class=\"data row1 col3\" >20</td>\n",
              "    </tr>\n",
              "  </tbody>\n",
              "</table>\n"
            ]
          },
          "metadata": {},
          "execution_count": 77
        }
      ]
    },
    {
      "cell_type": "markdown",
      "source": [
        "#Window Functions"
      ],
      "metadata": {
        "id": "p1v2XtGa1QOq"
      }
    },
    {
      "cell_type": "code",
      "source": [
        "sql = \"select deptid, lastname, salary, \\\n",
        "    avg(salary) over (partition by deptid) \\\n",
        "    from empl\"\n",
        "runSelect(sql)"
      ],
      "metadata": {
        "id": "ffpu5hXo1TfJ",
        "outputId": "1b30b0b1-63b3-4c89-9a39-1b757a5decda",
        "colab": {
          "base_uri": "https://localhost:8080/",
          "height": 457
        }
      },
      "execution_count": 97,
      "outputs": [
        {
          "output_type": "execute_result",
          "data": {
            "text/plain": [
              "<pandas.io.formats.style.Styler at 0x7f7477a9f520>"
            ],
            "text/html": [
              "<style type=\"text/css\">\n",
              "</style>\n",
              "<table id=\"T_585f8\" class=\"dataframe\">\n",
              "  <thead>\n",
              "    <tr>\n",
              "      <th id=\"T_585f8_level0_col0\" class=\"col_heading level0 col0\" >deptid</th>\n",
              "      <th id=\"T_585f8_level0_col1\" class=\"col_heading level0 col1\" >lastname</th>\n",
              "      <th id=\"T_585f8_level0_col2\" class=\"col_heading level0 col2\" >salary</th>\n",
              "      <th id=\"T_585f8_level0_col3\" class=\"col_heading level0 col3\" >avg</th>\n",
              "    </tr>\n",
              "  </thead>\n",
              "  <tbody>\n",
              "    <tr>\n",
              "      <td id=\"T_585f8_row0_col0\" class=\"data row0 col0\" >10</td>\n",
              "      <td id=\"T_585f8_row0_col1\" class=\"data row0 col1\" >Bacchan</td>\n",
              "      <td id=\"T_585f8_row0_col2\" class=\"data row0 col2\" >50000</td>\n",
              "      <td id=\"T_585f8_row0_col3\" class=\"data row0 col3\" >50000.000000000000</td>\n",
              "    </tr>\n",
              "    <tr>\n",
              "      <td id=\"T_585f8_row1_col0\" class=\"data row1 col0\" >10</td>\n",
              "      <td id=\"T_585f8_row1_col1\" class=\"data row1 col1\" >Ganesan</td>\n",
              "      <td id=\"T_585f8_row1_col2\" class=\"data row1 col2\" >60000</td>\n",
              "      <td id=\"T_585f8_row1_col3\" class=\"data row1 col3\" >50000.000000000000</td>\n",
              "    </tr>\n",
              "    <tr>\n",
              "      <td id=\"T_585f8_row2_col0\" class=\"data row2 col0\" >10</td>\n",
              "      <td id=\"T_585f8_row2_col1\" class=\"data row2 col1\" >Karthikeyan</td>\n",
              "      <td id=\"T_585f8_row2_col2\" class=\"data row2 col2\" >40000</td>\n",
              "      <td id=\"T_585f8_row2_col3\" class=\"data row2 col3\" >50000.000000000000</td>\n",
              "    </tr>\n",
              "    <tr>\n",
              "      <td id=\"T_585f8_row3_col0\" class=\"data row3 col0\" >20</td>\n",
              "      <td id=\"T_585f8_row3_col1\" class=\"data row3 col1\" >Dikshit</td>\n",
              "      <td id=\"T_585f8_row3_col2\" class=\"data row3 col2\" >10000</td>\n",
              "      <td id=\"T_585f8_row3_col3\" class=\"data row3 col3\" >18333.333333333333</td>\n",
              "    </tr>\n",
              "    <tr>\n",
              "      <td id=\"T_585f8_row4_col0\" class=\"data row4 col0\" >20</td>\n",
              "      <td id=\"T_585f8_row4_col1\" class=\"data row4 col1\" >Khan</td>\n",
              "      <td id=\"T_585f8_row4_col2\" class=\"data row4 col2\" >30000</td>\n",
              "      <td id=\"T_585f8_row4_col3\" class=\"data row4 col3\" >18333.333333333333</td>\n",
              "    </tr>\n",
              "    <tr>\n",
              "      <td id=\"T_585f8_row5_col0\" class=\"data row5 col0\" >20</td>\n",
              "      <td id=\"T_585f8_row5_col1\" class=\"data row5 col1\" >Sehwag</td>\n",
              "      <td id=\"T_585f8_row5_col2\" class=\"data row5 col2\" >15000</td>\n",
              "      <td id=\"T_585f8_row5_col3\" class=\"data row5 col3\" >18333.333333333333</td>\n",
              "    </tr>\n",
              "    <tr>\n",
              "      <td id=\"T_585f8_row6_col0\" class=\"data row6 col0\" >30</td>\n",
              "      <td id=\"T_585f8_row6_col1\" class=\"data row6 col1\" >Mirza</td>\n",
              "      <td id=\"T_585f8_row6_col2\" class=\"data row6 col2\" >25000</td>\n",
              "      <td id=\"T_585f8_row6_col3\" class=\"data row6 col3\" >25666.666666666667</td>\n",
              "    </tr>\n",
              "    <tr>\n",
              "      <td id=\"T_585f8_row7_col0\" class=\"data row7 col0\" >30</td>\n",
              "      <td id=\"T_585f8_row7_col1\" class=\"data row7 col1\" >Dravid</td>\n",
              "      <td id=\"T_585f8_row7_col2\" class=\"data row7 col2\" >40000</td>\n",
              "      <td id=\"T_585f8_row7_col3\" class=\"data row7 col3\" >25666.666666666667</td>\n",
              "    </tr>\n",
              "    <tr>\n",
              "      <td id=\"T_585f8_row8_col0\" class=\"data row8 col0\" >30</td>\n",
              "      <td id=\"T_585f8_row8_col1\" class=\"data row8 col1\" >Dalmia</td>\n",
              "      <td id=\"T_585f8_row8_col2\" class=\"data row8 col2\" >12000</td>\n",
              "      <td id=\"T_585f8_row8_col3\" class=\"data row8 col3\" >25666.666666666667</td>\n",
              "    </tr>\n",
              "    <tr>\n",
              "      <td id=\"T_585f8_row9_col0\" class=\"data row9 col0\" >40</td>\n",
              "      <td id=\"T_585f8_row9_col1\" class=\"data row9 col1\" >Ganguly</td>\n",
              "      <td id=\"T_585f8_row9_col2\" class=\"data row9 col2\" >20000</td>\n",
              "      <td id=\"T_585f8_row9_col3\" class=\"data row9 col3\" >18000.000000000000</td>\n",
              "    </tr>\n",
              "    <tr>\n",
              "      <td id=\"T_585f8_row10_col0\" class=\"data row10 col0\" >40</td>\n",
              "      <td id=\"T_585f8_row10_col1\" class=\"data row10 col1\" >Dhoni</td>\n",
              "      <td id=\"T_585f8_row10_col2\" class=\"data row10 col2\" >9000</td>\n",
              "      <td id=\"T_585f8_row10_col3\" class=\"data row10 col3\" >18000.000000000000</td>\n",
              "    </tr>\n",
              "    <tr>\n",
              "      <td id=\"T_585f8_row11_col0\" class=\"data row11 col0\" >40</td>\n",
              "      <td id=\"T_585f8_row11_col1\" class=\"data row11 col1\" >Mukherjee</td>\n",
              "      <td id=\"T_585f8_row11_col2\" class=\"data row11 col2\" >25000</td>\n",
              "      <td id=\"T_585f8_row11_col3\" class=\"data row11 col3\" >18000.000000000000</td>\n",
              "    </tr>\n",
              "    <tr>\n",
              "      <td id=\"T_585f8_row12_col0\" class=\"data row12 col0\" >70</td>\n",
              "      <td id=\"T_585f8_row12_col1\" class=\"data row12 col1\" >Sunil</td>\n",
              "      <td id=\"T_585f8_row12_col2\" class=\"data row12 col2\" >40000</td>\n",
              "      <td id=\"T_585f8_row12_col3\" class=\"data row12 col3\" >40000.000000000000</td>\n",
              "    </tr>\n",
              "  </tbody>\n",
              "</table>\n"
            ]
          },
          "metadata": {},
          "execution_count": 97
        }
      ]
    },
    {
      "cell_type": "code",
      "source": [
        "sql = \"select deptname, lastname, salary, avg(salary) over (partition by deptname) from empl  inner join dept using(deptid)\"\n",
        "runSelect(sql)"
      ],
      "metadata": {
        "id": "JZC4y3tg2o8A",
        "outputId": "9fdd99a3-4492-45f8-cd86-40c6f87c9dac",
        "colab": {
          "base_uri": "https://localhost:8080/",
          "height": 426
        }
      },
      "execution_count": 110,
      "outputs": [
        {
          "output_type": "execute_result",
          "data": {
            "text/plain": [
              "<pandas.io.formats.style.Styler at 0x7f7477c54640>"
            ],
            "text/html": [
              "<style type=\"text/css\">\n",
              "</style>\n",
              "<table id=\"T_5c842\" class=\"dataframe\">\n",
              "  <thead>\n",
              "    <tr>\n",
              "      <th id=\"T_5c842_level0_col0\" class=\"col_heading level0 col0\" >deptname</th>\n",
              "      <th id=\"T_5c842_level0_col1\" class=\"col_heading level0 col1\" >lastname</th>\n",
              "      <th id=\"T_5c842_level0_col2\" class=\"col_heading level0 col2\" >salary</th>\n",
              "      <th id=\"T_5c842_level0_col3\" class=\"col_heading level0 col3\" >avg</th>\n",
              "    </tr>\n",
              "  </thead>\n",
              "  <tbody>\n",
              "    <tr>\n",
              "      <td id=\"T_5c842_row0_col0\" class=\"data row0 col0\" >Accounts</td>\n",
              "      <td id=\"T_5c842_row0_col1\" class=\"data row0 col1\" >Dravid</td>\n",
              "      <td id=\"T_5c842_row0_col2\" class=\"data row0 col2\" >40000</td>\n",
              "      <td id=\"T_5c842_row0_col3\" class=\"data row0 col3\" >25666.666666666667</td>\n",
              "    </tr>\n",
              "    <tr>\n",
              "      <td id=\"T_5c842_row1_col0\" class=\"data row1 col0\" >Accounts</td>\n",
              "      <td id=\"T_5c842_row1_col1\" class=\"data row1 col1\" >Dalmia</td>\n",
              "      <td id=\"T_5c842_row1_col2\" class=\"data row1 col2\" >12000</td>\n",
              "      <td id=\"T_5c842_row1_col3\" class=\"data row1 col3\" >25666.666666666667</td>\n",
              "    </tr>\n",
              "    <tr>\n",
              "      <td id=\"T_5c842_row2_col0\" class=\"data row2 col0\" >Accounts</td>\n",
              "      <td id=\"T_5c842_row2_col1\" class=\"data row2 col1\" >Mirza</td>\n",
              "      <td id=\"T_5c842_row2_col2\" class=\"data row2 col2\" >25000</td>\n",
              "      <td id=\"T_5c842_row2_col3\" class=\"data row2 col3\" >25666.666666666667</td>\n",
              "    </tr>\n",
              "    <tr>\n",
              "      <td id=\"T_5c842_row3_col0\" class=\"data row3 col0\" >Corporate</td>\n",
              "      <td id=\"T_5c842_row3_col1\" class=\"data row3 col1\" >Karthikeyan</td>\n",
              "      <td id=\"T_5c842_row3_col2\" class=\"data row3 col2\" >40000</td>\n",
              "      <td id=\"T_5c842_row3_col3\" class=\"data row3 col3\" >50000.000000000000</td>\n",
              "    </tr>\n",
              "    <tr>\n",
              "      <td id=\"T_5c842_row4_col0\" class=\"data row4 col0\" >Corporate</td>\n",
              "      <td id=\"T_5c842_row4_col1\" class=\"data row4 col1\" >Ganesan</td>\n",
              "      <td id=\"T_5c842_row4_col2\" class=\"data row4 col2\" >60000</td>\n",
              "      <td id=\"T_5c842_row4_col3\" class=\"data row4 col3\" >50000.000000000000</td>\n",
              "    </tr>\n",
              "    <tr>\n",
              "      <td id=\"T_5c842_row5_col0\" class=\"data row5 col0\" >Corporate</td>\n",
              "      <td id=\"T_5c842_row5_col1\" class=\"data row5 col1\" >Bacchan</td>\n",
              "      <td id=\"T_5c842_row5_col2\" class=\"data row5 col2\" >50000</td>\n",
              "      <td id=\"T_5c842_row5_col3\" class=\"data row5 col3\" >50000.000000000000</td>\n",
              "    </tr>\n",
              "    <tr>\n",
              "      <td id=\"T_5c842_row6_col0\" class=\"data row6 col0\" >Production</td>\n",
              "      <td id=\"T_5c842_row6_col1\" class=\"data row6 col1\" >Ganguly</td>\n",
              "      <td id=\"T_5c842_row6_col2\" class=\"data row6 col2\" >20000</td>\n",
              "      <td id=\"T_5c842_row6_col3\" class=\"data row6 col3\" >18000.000000000000</td>\n",
              "    </tr>\n",
              "    <tr>\n",
              "      <td id=\"T_5c842_row7_col0\" class=\"data row7 col0\" >Production</td>\n",
              "      <td id=\"T_5c842_row7_col1\" class=\"data row7 col1\" >Dhoni</td>\n",
              "      <td id=\"T_5c842_row7_col2\" class=\"data row7 col2\" >9000</td>\n",
              "      <td id=\"T_5c842_row7_col3\" class=\"data row7 col3\" >18000.000000000000</td>\n",
              "    </tr>\n",
              "    <tr>\n",
              "      <td id=\"T_5c842_row8_col0\" class=\"data row8 col0\" >Production</td>\n",
              "      <td id=\"T_5c842_row8_col1\" class=\"data row8 col1\" >Mukherjee</td>\n",
              "      <td id=\"T_5c842_row8_col2\" class=\"data row8 col2\" >25000</td>\n",
              "      <td id=\"T_5c842_row8_col3\" class=\"data row8 col3\" >18000.000000000000</td>\n",
              "    </tr>\n",
              "    <tr>\n",
              "      <td id=\"T_5c842_row9_col0\" class=\"data row9 col0\" >Sales</td>\n",
              "      <td id=\"T_5c842_row9_col1\" class=\"data row9 col1\" >Dikshit</td>\n",
              "      <td id=\"T_5c842_row9_col2\" class=\"data row9 col2\" >10000</td>\n",
              "      <td id=\"T_5c842_row9_col3\" class=\"data row9 col3\" >18333.333333333333</td>\n",
              "    </tr>\n",
              "    <tr>\n",
              "      <td id=\"T_5c842_row10_col0\" class=\"data row10 col0\" >Sales</td>\n",
              "      <td id=\"T_5c842_row10_col1\" class=\"data row10 col1\" >Khan</td>\n",
              "      <td id=\"T_5c842_row10_col2\" class=\"data row10 col2\" >30000</td>\n",
              "      <td id=\"T_5c842_row10_col3\" class=\"data row10 col3\" >18333.333333333333</td>\n",
              "    </tr>\n",
              "    <tr>\n",
              "      <td id=\"T_5c842_row11_col0\" class=\"data row11 col0\" >Sales</td>\n",
              "      <td id=\"T_5c842_row11_col1\" class=\"data row11 col1\" >Sehwag</td>\n",
              "      <td id=\"T_5c842_row11_col2\" class=\"data row11 col2\" >15000</td>\n",
              "      <td id=\"T_5c842_row11_col3\" class=\"data row11 col3\" >18333.333333333333</td>\n",
              "    </tr>\n",
              "  </tbody>\n",
              "</table>\n"
            ]
          },
          "metadata": {},
          "execution_count": 110
        }
      ]
    },
    {
      "cell_type": "code",
      "source": [
        "sql = \"select deptname, lastname, salary, \\\n",
        "    row_number() over (partition by deptname order by salary) \\\n",
        "    from empl  inner join dept using(deptid)\"\n",
        "runSelect(sql)"
      ],
      "metadata": {
        "id": "xgP9VShE4Spl",
        "outputId": "4d82936b-32c9-4520-cfea-7ece0da252ef",
        "colab": {
          "base_uri": "https://localhost:8080/",
          "height": 426
        }
      },
      "execution_count": 100,
      "outputs": [
        {
          "output_type": "execute_result",
          "data": {
            "text/plain": [
              "<pandas.io.formats.style.Styler at 0x7f7477b0b2b0>"
            ],
            "text/html": [
              "<style type=\"text/css\">\n",
              "</style>\n",
              "<table id=\"T_626f3\" class=\"dataframe\">\n",
              "  <thead>\n",
              "    <tr>\n",
              "      <th id=\"T_626f3_level0_col0\" class=\"col_heading level0 col0\" >deptname</th>\n",
              "      <th id=\"T_626f3_level0_col1\" class=\"col_heading level0 col1\" >lastname</th>\n",
              "      <th id=\"T_626f3_level0_col2\" class=\"col_heading level0 col2\" >salary</th>\n",
              "      <th id=\"T_626f3_level0_col3\" class=\"col_heading level0 col3\" >row_number</th>\n",
              "    </tr>\n",
              "  </thead>\n",
              "  <tbody>\n",
              "    <tr>\n",
              "      <td id=\"T_626f3_row0_col0\" class=\"data row0 col0\" >Accounts</td>\n",
              "      <td id=\"T_626f3_row0_col1\" class=\"data row0 col1\" >Dalmia</td>\n",
              "      <td id=\"T_626f3_row0_col2\" class=\"data row0 col2\" >12000</td>\n",
              "      <td id=\"T_626f3_row0_col3\" class=\"data row0 col3\" >1</td>\n",
              "    </tr>\n",
              "    <tr>\n",
              "      <td id=\"T_626f3_row1_col0\" class=\"data row1 col0\" >Accounts</td>\n",
              "      <td id=\"T_626f3_row1_col1\" class=\"data row1 col1\" >Mirza</td>\n",
              "      <td id=\"T_626f3_row1_col2\" class=\"data row1 col2\" >25000</td>\n",
              "      <td id=\"T_626f3_row1_col3\" class=\"data row1 col3\" >2</td>\n",
              "    </tr>\n",
              "    <tr>\n",
              "      <td id=\"T_626f3_row2_col0\" class=\"data row2 col0\" >Accounts</td>\n",
              "      <td id=\"T_626f3_row2_col1\" class=\"data row2 col1\" >Dravid</td>\n",
              "      <td id=\"T_626f3_row2_col2\" class=\"data row2 col2\" >40000</td>\n",
              "      <td id=\"T_626f3_row2_col3\" class=\"data row2 col3\" >3</td>\n",
              "    </tr>\n",
              "    <tr>\n",
              "      <td id=\"T_626f3_row3_col0\" class=\"data row3 col0\" >Corporate</td>\n",
              "      <td id=\"T_626f3_row3_col1\" class=\"data row3 col1\" >Karthikeyan</td>\n",
              "      <td id=\"T_626f3_row3_col2\" class=\"data row3 col2\" >40000</td>\n",
              "      <td id=\"T_626f3_row3_col3\" class=\"data row3 col3\" >1</td>\n",
              "    </tr>\n",
              "    <tr>\n",
              "      <td id=\"T_626f3_row4_col0\" class=\"data row4 col0\" >Corporate</td>\n",
              "      <td id=\"T_626f3_row4_col1\" class=\"data row4 col1\" >Bacchan</td>\n",
              "      <td id=\"T_626f3_row4_col2\" class=\"data row4 col2\" >50000</td>\n",
              "      <td id=\"T_626f3_row4_col3\" class=\"data row4 col3\" >2</td>\n",
              "    </tr>\n",
              "    <tr>\n",
              "      <td id=\"T_626f3_row5_col0\" class=\"data row5 col0\" >Corporate</td>\n",
              "      <td id=\"T_626f3_row5_col1\" class=\"data row5 col1\" >Ganesan</td>\n",
              "      <td id=\"T_626f3_row5_col2\" class=\"data row5 col2\" >60000</td>\n",
              "      <td id=\"T_626f3_row5_col3\" class=\"data row5 col3\" >3</td>\n",
              "    </tr>\n",
              "    <tr>\n",
              "      <td id=\"T_626f3_row6_col0\" class=\"data row6 col0\" >Production</td>\n",
              "      <td id=\"T_626f3_row6_col1\" class=\"data row6 col1\" >Dhoni</td>\n",
              "      <td id=\"T_626f3_row6_col2\" class=\"data row6 col2\" >9000</td>\n",
              "      <td id=\"T_626f3_row6_col3\" class=\"data row6 col3\" >1</td>\n",
              "    </tr>\n",
              "    <tr>\n",
              "      <td id=\"T_626f3_row7_col0\" class=\"data row7 col0\" >Production</td>\n",
              "      <td id=\"T_626f3_row7_col1\" class=\"data row7 col1\" >Ganguly</td>\n",
              "      <td id=\"T_626f3_row7_col2\" class=\"data row7 col2\" >20000</td>\n",
              "      <td id=\"T_626f3_row7_col3\" class=\"data row7 col3\" >2</td>\n",
              "    </tr>\n",
              "    <tr>\n",
              "      <td id=\"T_626f3_row8_col0\" class=\"data row8 col0\" >Production</td>\n",
              "      <td id=\"T_626f3_row8_col1\" class=\"data row8 col1\" >Mukherjee</td>\n",
              "      <td id=\"T_626f3_row8_col2\" class=\"data row8 col2\" >25000</td>\n",
              "      <td id=\"T_626f3_row8_col3\" class=\"data row8 col3\" >3</td>\n",
              "    </tr>\n",
              "    <tr>\n",
              "      <td id=\"T_626f3_row9_col0\" class=\"data row9 col0\" >Sales</td>\n",
              "      <td id=\"T_626f3_row9_col1\" class=\"data row9 col1\" >Dikshit</td>\n",
              "      <td id=\"T_626f3_row9_col2\" class=\"data row9 col2\" >10000</td>\n",
              "      <td id=\"T_626f3_row9_col3\" class=\"data row9 col3\" >1</td>\n",
              "    </tr>\n",
              "    <tr>\n",
              "      <td id=\"T_626f3_row10_col0\" class=\"data row10 col0\" >Sales</td>\n",
              "      <td id=\"T_626f3_row10_col1\" class=\"data row10 col1\" >Sehwag</td>\n",
              "      <td id=\"T_626f3_row10_col2\" class=\"data row10 col2\" >15000</td>\n",
              "      <td id=\"T_626f3_row10_col3\" class=\"data row10 col3\" >2</td>\n",
              "    </tr>\n",
              "    <tr>\n",
              "      <td id=\"T_626f3_row11_col0\" class=\"data row11 col0\" >Sales</td>\n",
              "      <td id=\"T_626f3_row11_col1\" class=\"data row11 col1\" >Khan</td>\n",
              "      <td id=\"T_626f3_row11_col2\" class=\"data row11 col2\" >30000</td>\n",
              "      <td id=\"T_626f3_row11_col3\" class=\"data row11 col3\" >3</td>\n",
              "    </tr>\n",
              "  </tbody>\n",
              "</table>\n"
            ]
          },
          "metadata": {},
          "execution_count": 100
        }
      ]
    },
    {
      "cell_type": "code",
      "source": [
        "sql = \"select deptname, lastname, salary, \\\n",
        "        rank() over (partition by deptname order by salary desc) \\\n",
        "        from empl  inner join dept using(deptid)\"\n",
        "runSelect(sql)"
      ],
      "metadata": {
        "id": "rL_1sHBa4ply",
        "outputId": "05e45caf-a488-455c-966f-d3837724f45d",
        "colab": {
          "base_uri": "https://localhost:8080/",
          "height": 426
        }
      },
      "execution_count": 99,
      "outputs": [
        {
          "output_type": "execute_result",
          "data": {
            "text/plain": [
              "<pandas.io.formats.style.Styler at 0x7f74a85c0a00>"
            ],
            "text/html": [
              "<style type=\"text/css\">\n",
              "</style>\n",
              "<table id=\"T_20c19\" class=\"dataframe\">\n",
              "  <thead>\n",
              "    <tr>\n",
              "      <th id=\"T_20c19_level0_col0\" class=\"col_heading level0 col0\" >deptname</th>\n",
              "      <th id=\"T_20c19_level0_col1\" class=\"col_heading level0 col1\" >lastname</th>\n",
              "      <th id=\"T_20c19_level0_col2\" class=\"col_heading level0 col2\" >salary</th>\n",
              "      <th id=\"T_20c19_level0_col3\" class=\"col_heading level0 col3\" >rank</th>\n",
              "    </tr>\n",
              "  </thead>\n",
              "  <tbody>\n",
              "    <tr>\n",
              "      <td id=\"T_20c19_row0_col0\" class=\"data row0 col0\" >Accounts</td>\n",
              "      <td id=\"T_20c19_row0_col1\" class=\"data row0 col1\" >Dravid</td>\n",
              "      <td id=\"T_20c19_row0_col2\" class=\"data row0 col2\" >40000</td>\n",
              "      <td id=\"T_20c19_row0_col3\" class=\"data row0 col3\" >1</td>\n",
              "    </tr>\n",
              "    <tr>\n",
              "      <td id=\"T_20c19_row1_col0\" class=\"data row1 col0\" >Accounts</td>\n",
              "      <td id=\"T_20c19_row1_col1\" class=\"data row1 col1\" >Mirza</td>\n",
              "      <td id=\"T_20c19_row1_col2\" class=\"data row1 col2\" >25000</td>\n",
              "      <td id=\"T_20c19_row1_col3\" class=\"data row1 col3\" >2</td>\n",
              "    </tr>\n",
              "    <tr>\n",
              "      <td id=\"T_20c19_row2_col0\" class=\"data row2 col0\" >Accounts</td>\n",
              "      <td id=\"T_20c19_row2_col1\" class=\"data row2 col1\" >Dalmia</td>\n",
              "      <td id=\"T_20c19_row2_col2\" class=\"data row2 col2\" >12000</td>\n",
              "      <td id=\"T_20c19_row2_col3\" class=\"data row2 col3\" >3</td>\n",
              "    </tr>\n",
              "    <tr>\n",
              "      <td id=\"T_20c19_row3_col0\" class=\"data row3 col0\" >Corporate</td>\n",
              "      <td id=\"T_20c19_row3_col1\" class=\"data row3 col1\" >Ganesan</td>\n",
              "      <td id=\"T_20c19_row3_col2\" class=\"data row3 col2\" >60000</td>\n",
              "      <td id=\"T_20c19_row3_col3\" class=\"data row3 col3\" >1</td>\n",
              "    </tr>\n",
              "    <tr>\n",
              "      <td id=\"T_20c19_row4_col0\" class=\"data row4 col0\" >Corporate</td>\n",
              "      <td id=\"T_20c19_row4_col1\" class=\"data row4 col1\" >Bacchan</td>\n",
              "      <td id=\"T_20c19_row4_col2\" class=\"data row4 col2\" >50000</td>\n",
              "      <td id=\"T_20c19_row4_col3\" class=\"data row4 col3\" >2</td>\n",
              "    </tr>\n",
              "    <tr>\n",
              "      <td id=\"T_20c19_row5_col0\" class=\"data row5 col0\" >Corporate</td>\n",
              "      <td id=\"T_20c19_row5_col1\" class=\"data row5 col1\" >Karthikeyan</td>\n",
              "      <td id=\"T_20c19_row5_col2\" class=\"data row5 col2\" >40000</td>\n",
              "      <td id=\"T_20c19_row5_col3\" class=\"data row5 col3\" >3</td>\n",
              "    </tr>\n",
              "    <tr>\n",
              "      <td id=\"T_20c19_row6_col0\" class=\"data row6 col0\" >Production</td>\n",
              "      <td id=\"T_20c19_row6_col1\" class=\"data row6 col1\" >Mukherjee</td>\n",
              "      <td id=\"T_20c19_row6_col2\" class=\"data row6 col2\" >25000</td>\n",
              "      <td id=\"T_20c19_row6_col3\" class=\"data row6 col3\" >1</td>\n",
              "    </tr>\n",
              "    <tr>\n",
              "      <td id=\"T_20c19_row7_col0\" class=\"data row7 col0\" >Production</td>\n",
              "      <td id=\"T_20c19_row7_col1\" class=\"data row7 col1\" >Ganguly</td>\n",
              "      <td id=\"T_20c19_row7_col2\" class=\"data row7 col2\" >20000</td>\n",
              "      <td id=\"T_20c19_row7_col3\" class=\"data row7 col3\" >2</td>\n",
              "    </tr>\n",
              "    <tr>\n",
              "      <td id=\"T_20c19_row8_col0\" class=\"data row8 col0\" >Production</td>\n",
              "      <td id=\"T_20c19_row8_col1\" class=\"data row8 col1\" >Dhoni</td>\n",
              "      <td id=\"T_20c19_row8_col2\" class=\"data row8 col2\" >9000</td>\n",
              "      <td id=\"T_20c19_row8_col3\" class=\"data row8 col3\" >3</td>\n",
              "    </tr>\n",
              "    <tr>\n",
              "      <td id=\"T_20c19_row9_col0\" class=\"data row9 col0\" >Sales</td>\n",
              "      <td id=\"T_20c19_row9_col1\" class=\"data row9 col1\" >Khan</td>\n",
              "      <td id=\"T_20c19_row9_col2\" class=\"data row9 col2\" >30000</td>\n",
              "      <td id=\"T_20c19_row9_col3\" class=\"data row9 col3\" >1</td>\n",
              "    </tr>\n",
              "    <tr>\n",
              "      <td id=\"T_20c19_row10_col0\" class=\"data row10 col0\" >Sales</td>\n",
              "      <td id=\"T_20c19_row10_col1\" class=\"data row10 col1\" >Sehwag</td>\n",
              "      <td id=\"T_20c19_row10_col2\" class=\"data row10 col2\" >15000</td>\n",
              "      <td id=\"T_20c19_row10_col3\" class=\"data row10 col3\" >2</td>\n",
              "    </tr>\n",
              "    <tr>\n",
              "      <td id=\"T_20c19_row11_col0\" class=\"data row11 col0\" >Sales</td>\n",
              "      <td id=\"T_20c19_row11_col1\" class=\"data row11 col1\" >Dikshit</td>\n",
              "      <td id=\"T_20c19_row11_col2\" class=\"data row11 col2\" >10000</td>\n",
              "      <td id=\"T_20c19_row11_col3\" class=\"data row11 col3\" >3</td>\n",
              "    </tr>\n",
              "  </tbody>\n",
              "</table>\n"
            ]
          },
          "metadata": {},
          "execution_count": 99
        }
      ]
    },
    {
      "cell_type": "code",
      "source": [
        "sql = \"select deptname, lastname, salary, \\\n",
        "first_value(salary) over (partition by deptname order by salary) as deptlow, \\\n",
        "last_value(salary) over (partition by deptname order by salary RANGE BETWEEN UNBOUNDED PRECEDING AND UNBOUNDED FOLLOWING) as depthigh \\\n",
        "from empl  inner join dept using(deptid)\"\n",
        "runSelect(sql)"
      ],
      "metadata": {
        "id": "RO428SVT5T3d",
        "outputId": "9a10dd13-b8ca-4a9e-c61e-25c8f43637e5",
        "colab": {
          "base_uri": "https://localhost:8080/",
          "height": 426
        }
      },
      "execution_count": 106,
      "outputs": [
        {
          "output_type": "execute_result",
          "data": {
            "text/plain": [
              "<pandas.io.formats.style.Styler at 0x7f7477b09f60>"
            ],
            "text/html": [
              "<style type=\"text/css\">\n",
              "</style>\n",
              "<table id=\"T_37dee\" class=\"dataframe\">\n",
              "  <thead>\n",
              "    <tr>\n",
              "      <th id=\"T_37dee_level0_col0\" class=\"col_heading level0 col0\" >deptname</th>\n",
              "      <th id=\"T_37dee_level0_col1\" class=\"col_heading level0 col1\" >lastname</th>\n",
              "      <th id=\"T_37dee_level0_col2\" class=\"col_heading level0 col2\" >salary</th>\n",
              "      <th id=\"T_37dee_level0_col3\" class=\"col_heading level0 col3\" >deptlow</th>\n",
              "      <th id=\"T_37dee_level0_col4\" class=\"col_heading level0 col4\" >depthigh</th>\n",
              "    </tr>\n",
              "  </thead>\n",
              "  <tbody>\n",
              "    <tr>\n",
              "      <td id=\"T_37dee_row0_col0\" class=\"data row0 col0\" >Accounts</td>\n",
              "      <td id=\"T_37dee_row0_col1\" class=\"data row0 col1\" >Dalmia</td>\n",
              "      <td id=\"T_37dee_row0_col2\" class=\"data row0 col2\" >12000</td>\n",
              "      <td id=\"T_37dee_row0_col3\" class=\"data row0 col3\" >12000</td>\n",
              "      <td id=\"T_37dee_row0_col4\" class=\"data row0 col4\" >40000</td>\n",
              "    </tr>\n",
              "    <tr>\n",
              "      <td id=\"T_37dee_row1_col0\" class=\"data row1 col0\" >Accounts</td>\n",
              "      <td id=\"T_37dee_row1_col1\" class=\"data row1 col1\" >Mirza</td>\n",
              "      <td id=\"T_37dee_row1_col2\" class=\"data row1 col2\" >25000</td>\n",
              "      <td id=\"T_37dee_row1_col3\" class=\"data row1 col3\" >12000</td>\n",
              "      <td id=\"T_37dee_row1_col4\" class=\"data row1 col4\" >40000</td>\n",
              "    </tr>\n",
              "    <tr>\n",
              "      <td id=\"T_37dee_row2_col0\" class=\"data row2 col0\" >Accounts</td>\n",
              "      <td id=\"T_37dee_row2_col1\" class=\"data row2 col1\" >Dravid</td>\n",
              "      <td id=\"T_37dee_row2_col2\" class=\"data row2 col2\" >40000</td>\n",
              "      <td id=\"T_37dee_row2_col3\" class=\"data row2 col3\" >12000</td>\n",
              "      <td id=\"T_37dee_row2_col4\" class=\"data row2 col4\" >40000</td>\n",
              "    </tr>\n",
              "    <tr>\n",
              "      <td id=\"T_37dee_row3_col0\" class=\"data row3 col0\" >Corporate</td>\n",
              "      <td id=\"T_37dee_row3_col1\" class=\"data row3 col1\" >Karthikeyan</td>\n",
              "      <td id=\"T_37dee_row3_col2\" class=\"data row3 col2\" >40000</td>\n",
              "      <td id=\"T_37dee_row3_col3\" class=\"data row3 col3\" >40000</td>\n",
              "      <td id=\"T_37dee_row3_col4\" class=\"data row3 col4\" >60000</td>\n",
              "    </tr>\n",
              "    <tr>\n",
              "      <td id=\"T_37dee_row4_col0\" class=\"data row4 col0\" >Corporate</td>\n",
              "      <td id=\"T_37dee_row4_col1\" class=\"data row4 col1\" >Bacchan</td>\n",
              "      <td id=\"T_37dee_row4_col2\" class=\"data row4 col2\" >50000</td>\n",
              "      <td id=\"T_37dee_row4_col3\" class=\"data row4 col3\" >40000</td>\n",
              "      <td id=\"T_37dee_row4_col4\" class=\"data row4 col4\" >60000</td>\n",
              "    </tr>\n",
              "    <tr>\n",
              "      <td id=\"T_37dee_row5_col0\" class=\"data row5 col0\" >Corporate</td>\n",
              "      <td id=\"T_37dee_row5_col1\" class=\"data row5 col1\" >Ganesan</td>\n",
              "      <td id=\"T_37dee_row5_col2\" class=\"data row5 col2\" >60000</td>\n",
              "      <td id=\"T_37dee_row5_col3\" class=\"data row5 col3\" >40000</td>\n",
              "      <td id=\"T_37dee_row5_col4\" class=\"data row5 col4\" >60000</td>\n",
              "    </tr>\n",
              "    <tr>\n",
              "      <td id=\"T_37dee_row6_col0\" class=\"data row6 col0\" >Production</td>\n",
              "      <td id=\"T_37dee_row6_col1\" class=\"data row6 col1\" >Dhoni</td>\n",
              "      <td id=\"T_37dee_row6_col2\" class=\"data row6 col2\" >9000</td>\n",
              "      <td id=\"T_37dee_row6_col3\" class=\"data row6 col3\" >9000</td>\n",
              "      <td id=\"T_37dee_row6_col4\" class=\"data row6 col4\" >25000</td>\n",
              "    </tr>\n",
              "    <tr>\n",
              "      <td id=\"T_37dee_row7_col0\" class=\"data row7 col0\" >Production</td>\n",
              "      <td id=\"T_37dee_row7_col1\" class=\"data row7 col1\" >Ganguly</td>\n",
              "      <td id=\"T_37dee_row7_col2\" class=\"data row7 col2\" >20000</td>\n",
              "      <td id=\"T_37dee_row7_col3\" class=\"data row7 col3\" >9000</td>\n",
              "      <td id=\"T_37dee_row7_col4\" class=\"data row7 col4\" >25000</td>\n",
              "    </tr>\n",
              "    <tr>\n",
              "      <td id=\"T_37dee_row8_col0\" class=\"data row8 col0\" >Production</td>\n",
              "      <td id=\"T_37dee_row8_col1\" class=\"data row8 col1\" >Mukherjee</td>\n",
              "      <td id=\"T_37dee_row8_col2\" class=\"data row8 col2\" >25000</td>\n",
              "      <td id=\"T_37dee_row8_col3\" class=\"data row8 col3\" >9000</td>\n",
              "      <td id=\"T_37dee_row8_col4\" class=\"data row8 col4\" >25000</td>\n",
              "    </tr>\n",
              "    <tr>\n",
              "      <td id=\"T_37dee_row9_col0\" class=\"data row9 col0\" >Sales</td>\n",
              "      <td id=\"T_37dee_row9_col1\" class=\"data row9 col1\" >Dikshit</td>\n",
              "      <td id=\"T_37dee_row9_col2\" class=\"data row9 col2\" >10000</td>\n",
              "      <td id=\"T_37dee_row9_col3\" class=\"data row9 col3\" >10000</td>\n",
              "      <td id=\"T_37dee_row9_col4\" class=\"data row9 col4\" >30000</td>\n",
              "    </tr>\n",
              "    <tr>\n",
              "      <td id=\"T_37dee_row10_col0\" class=\"data row10 col0\" >Sales</td>\n",
              "      <td id=\"T_37dee_row10_col1\" class=\"data row10 col1\" >Sehwag</td>\n",
              "      <td id=\"T_37dee_row10_col2\" class=\"data row10 col2\" >15000</td>\n",
              "      <td id=\"T_37dee_row10_col3\" class=\"data row10 col3\" >10000</td>\n",
              "      <td id=\"T_37dee_row10_col4\" class=\"data row10 col4\" >30000</td>\n",
              "    </tr>\n",
              "    <tr>\n",
              "      <td id=\"T_37dee_row11_col0\" class=\"data row11 col0\" >Sales</td>\n",
              "      <td id=\"T_37dee_row11_col1\" class=\"data row11 col1\" >Khan</td>\n",
              "      <td id=\"T_37dee_row11_col2\" class=\"data row11 col2\" >30000</td>\n",
              "      <td id=\"T_37dee_row11_col3\" class=\"data row11 col3\" >10000</td>\n",
              "      <td id=\"T_37dee_row11_col4\" class=\"data row11 col4\" >30000</td>\n",
              "    </tr>\n",
              "  </tbody>\n",
              "</table>\n"
            ]
          },
          "metadata": {},
          "execution_count": 106
        }
      ]
    },
    {
      "cell_type": "code",
      "source": [
        "sql = \"select deptname, lastname, salary, \\\n",
        "lag(salary,1) over (partition by deptname order by salary) as prev_emp, \\\n",
        "salary - lag(salary,1) over (partition by deptname order by salary) as gap_up \\\n",
        "from empl  inner join dept using(deptid)\"\n",
        "runSelect(sql)"
      ],
      "metadata": {
        "id": "fnG4S0lF8h77",
        "outputId": "b35f717a-3541-4820-ec10-e9cb44819bd6",
        "colab": {
          "base_uri": "https://localhost:8080/",
          "height": 426
        }
      },
      "execution_count": 108,
      "outputs": [
        {
          "output_type": "execute_result",
          "data": {
            "text/plain": [
              "<pandas.io.formats.style.Styler at 0x7f7477b08490>"
            ],
            "text/html": [
              "<style type=\"text/css\">\n",
              "</style>\n",
              "<table id=\"T_59442\" class=\"dataframe\">\n",
              "  <thead>\n",
              "    <tr>\n",
              "      <th id=\"T_59442_level0_col0\" class=\"col_heading level0 col0\" >deptname</th>\n",
              "      <th id=\"T_59442_level0_col1\" class=\"col_heading level0 col1\" >lastname</th>\n",
              "      <th id=\"T_59442_level0_col2\" class=\"col_heading level0 col2\" >salary</th>\n",
              "      <th id=\"T_59442_level0_col3\" class=\"col_heading level0 col3\" >prev_emp</th>\n",
              "      <th id=\"T_59442_level0_col4\" class=\"col_heading level0 col4\" >gap_up</th>\n",
              "    </tr>\n",
              "  </thead>\n",
              "  <tbody>\n",
              "    <tr>\n",
              "      <td id=\"T_59442_row0_col0\" class=\"data row0 col0\" >Accounts</td>\n",
              "      <td id=\"T_59442_row0_col1\" class=\"data row0 col1\" >Dalmia</td>\n",
              "      <td id=\"T_59442_row0_col2\" class=\"data row0 col2\" >12000</td>\n",
              "      <td id=\"T_59442_row0_col3\" class=\"data row0 col3\" >nan</td>\n",
              "      <td id=\"T_59442_row0_col4\" class=\"data row0 col4\" >nan</td>\n",
              "    </tr>\n",
              "    <tr>\n",
              "      <td id=\"T_59442_row1_col0\" class=\"data row1 col0\" >Accounts</td>\n",
              "      <td id=\"T_59442_row1_col1\" class=\"data row1 col1\" >Mirza</td>\n",
              "      <td id=\"T_59442_row1_col2\" class=\"data row1 col2\" >25000</td>\n",
              "      <td id=\"T_59442_row1_col3\" class=\"data row1 col3\" >12000.000000</td>\n",
              "      <td id=\"T_59442_row1_col4\" class=\"data row1 col4\" >13000.000000</td>\n",
              "    </tr>\n",
              "    <tr>\n",
              "      <td id=\"T_59442_row2_col0\" class=\"data row2 col0\" >Accounts</td>\n",
              "      <td id=\"T_59442_row2_col1\" class=\"data row2 col1\" >Dravid</td>\n",
              "      <td id=\"T_59442_row2_col2\" class=\"data row2 col2\" >40000</td>\n",
              "      <td id=\"T_59442_row2_col3\" class=\"data row2 col3\" >25000.000000</td>\n",
              "      <td id=\"T_59442_row2_col4\" class=\"data row2 col4\" >15000.000000</td>\n",
              "    </tr>\n",
              "    <tr>\n",
              "      <td id=\"T_59442_row3_col0\" class=\"data row3 col0\" >Corporate</td>\n",
              "      <td id=\"T_59442_row3_col1\" class=\"data row3 col1\" >Karthikeyan</td>\n",
              "      <td id=\"T_59442_row3_col2\" class=\"data row3 col2\" >40000</td>\n",
              "      <td id=\"T_59442_row3_col3\" class=\"data row3 col3\" >nan</td>\n",
              "      <td id=\"T_59442_row3_col4\" class=\"data row3 col4\" >nan</td>\n",
              "    </tr>\n",
              "    <tr>\n",
              "      <td id=\"T_59442_row4_col0\" class=\"data row4 col0\" >Corporate</td>\n",
              "      <td id=\"T_59442_row4_col1\" class=\"data row4 col1\" >Bacchan</td>\n",
              "      <td id=\"T_59442_row4_col2\" class=\"data row4 col2\" >50000</td>\n",
              "      <td id=\"T_59442_row4_col3\" class=\"data row4 col3\" >40000.000000</td>\n",
              "      <td id=\"T_59442_row4_col4\" class=\"data row4 col4\" >10000.000000</td>\n",
              "    </tr>\n",
              "    <tr>\n",
              "      <td id=\"T_59442_row5_col0\" class=\"data row5 col0\" >Corporate</td>\n",
              "      <td id=\"T_59442_row5_col1\" class=\"data row5 col1\" >Ganesan</td>\n",
              "      <td id=\"T_59442_row5_col2\" class=\"data row5 col2\" >60000</td>\n",
              "      <td id=\"T_59442_row5_col3\" class=\"data row5 col3\" >50000.000000</td>\n",
              "      <td id=\"T_59442_row5_col4\" class=\"data row5 col4\" >10000.000000</td>\n",
              "    </tr>\n",
              "    <tr>\n",
              "      <td id=\"T_59442_row6_col0\" class=\"data row6 col0\" >Production</td>\n",
              "      <td id=\"T_59442_row6_col1\" class=\"data row6 col1\" >Dhoni</td>\n",
              "      <td id=\"T_59442_row6_col2\" class=\"data row6 col2\" >9000</td>\n",
              "      <td id=\"T_59442_row6_col3\" class=\"data row6 col3\" >nan</td>\n",
              "      <td id=\"T_59442_row6_col4\" class=\"data row6 col4\" >nan</td>\n",
              "    </tr>\n",
              "    <tr>\n",
              "      <td id=\"T_59442_row7_col0\" class=\"data row7 col0\" >Production</td>\n",
              "      <td id=\"T_59442_row7_col1\" class=\"data row7 col1\" >Ganguly</td>\n",
              "      <td id=\"T_59442_row7_col2\" class=\"data row7 col2\" >20000</td>\n",
              "      <td id=\"T_59442_row7_col3\" class=\"data row7 col3\" >9000.000000</td>\n",
              "      <td id=\"T_59442_row7_col4\" class=\"data row7 col4\" >11000.000000</td>\n",
              "    </tr>\n",
              "    <tr>\n",
              "      <td id=\"T_59442_row8_col0\" class=\"data row8 col0\" >Production</td>\n",
              "      <td id=\"T_59442_row8_col1\" class=\"data row8 col1\" >Mukherjee</td>\n",
              "      <td id=\"T_59442_row8_col2\" class=\"data row8 col2\" >25000</td>\n",
              "      <td id=\"T_59442_row8_col3\" class=\"data row8 col3\" >20000.000000</td>\n",
              "      <td id=\"T_59442_row8_col4\" class=\"data row8 col4\" >5000.000000</td>\n",
              "    </tr>\n",
              "    <tr>\n",
              "      <td id=\"T_59442_row9_col0\" class=\"data row9 col0\" >Sales</td>\n",
              "      <td id=\"T_59442_row9_col1\" class=\"data row9 col1\" >Dikshit</td>\n",
              "      <td id=\"T_59442_row9_col2\" class=\"data row9 col2\" >10000</td>\n",
              "      <td id=\"T_59442_row9_col3\" class=\"data row9 col3\" >nan</td>\n",
              "      <td id=\"T_59442_row9_col4\" class=\"data row9 col4\" >nan</td>\n",
              "    </tr>\n",
              "    <tr>\n",
              "      <td id=\"T_59442_row10_col0\" class=\"data row10 col0\" >Sales</td>\n",
              "      <td id=\"T_59442_row10_col1\" class=\"data row10 col1\" >Sehwag</td>\n",
              "      <td id=\"T_59442_row10_col2\" class=\"data row10 col2\" >15000</td>\n",
              "      <td id=\"T_59442_row10_col3\" class=\"data row10 col3\" >10000.000000</td>\n",
              "      <td id=\"T_59442_row10_col4\" class=\"data row10 col4\" >5000.000000</td>\n",
              "    </tr>\n",
              "    <tr>\n",
              "      <td id=\"T_59442_row11_col0\" class=\"data row11 col0\" >Sales</td>\n",
              "      <td id=\"T_59442_row11_col1\" class=\"data row11 col1\" >Khan</td>\n",
              "      <td id=\"T_59442_row11_col2\" class=\"data row11 col2\" >30000</td>\n",
              "      <td id=\"T_59442_row11_col3\" class=\"data row11 col3\" >15000.000000</td>\n",
              "      <td id=\"T_59442_row11_col4\" class=\"data row11 col4\" >15000.000000</td>\n",
              "    </tr>\n",
              "  </tbody>\n",
              "</table>\n"
            ]
          },
          "metadata": {},
          "execution_count": 108
        }
      ]
    },
    {
      "cell_type": "markdown",
      "source": [
        "#Transpose / Pivot\n",
        "https://www.sqlshack.com/how-to-use-the-crosstab-function-in-postgresql/"
      ],
      "metadata": {
        "id": "V6Bt-yTXSITF"
      }
    },
    {
      "cell_type": "code",
      "source": [
        "!psql -h localhost -p 5432 -Uupraxis -ddbpraxis -c \"create extension tablefunc;\""
      ],
      "metadata": {
        "colab": {
          "base_uri": "https://localhost:8080/"
        },
        "id": "ZgVgr1DfYs_R",
        "outputId": "21f43ac1-0113-4fc6-f303-5ff3573740b1"
      },
      "execution_count": 60,
      "outputs": [
        {
          "output_type": "stream",
          "name": "stdout",
          "text": [
            "CREATE EXTENSION\n"
          ]
        }
      ]
    },
    {
      "cell_type": "code",
      "source": [
        "runSelect('select * from dept')"
      ],
      "metadata": {
        "colab": {
          "base_uri": "https://localhost:8080/",
          "height": 206
        },
        "id": "Sa9IpGXwSKWe",
        "outputId": "6e4dea08-8bf5-4a36-9e33-8cd4c307c551"
      },
      "execution_count": 61,
      "outputs": [
        {
          "output_type": "execute_result",
          "data": {
            "text/plain": [
              "<pandas.io.formats.style.Styler at 0x7f7477b0bb20>"
            ],
            "text/html": [
              "<style type=\"text/css\">\n",
              "</style>\n",
              "<table id=\"T_cffd5\" class=\"dataframe\">\n",
              "  <thead>\n",
              "    <tr>\n",
              "      <th id=\"T_cffd5_level0_col0\" class=\"col_heading level0 col0\" >deptid</th>\n",
              "      <th id=\"T_cffd5_level0_col1\" class=\"col_heading level0 col1\" >deptname</th>\n",
              "      <th id=\"T_cffd5_level0_col2\" class=\"col_heading level0 col2\" >managerid</th>\n",
              "      <th id=\"T_cffd5_level0_col3\" class=\"col_heading level0 col3\" >location</th>\n",
              "      <th id=\"T_cffd5_level0_col4\" class=\"col_heading level0 col4\" >locationid</th>\n",
              "    </tr>\n",
              "  </thead>\n",
              "  <tbody>\n",
              "    <tr>\n",
              "      <td id=\"T_cffd5_row0_col0\" class=\"data row0 col0\" >10</td>\n",
              "      <td id=\"T_cffd5_row0_col1\" class=\"data row0 col1\" >Corporate</td>\n",
              "      <td id=\"T_cffd5_row0_col2\" class=\"data row0 col2\" >299034</td>\n",
              "      <td id=\"T_cffd5_row0_col3\" class=\"data row0 col3\" >Calcutta</td>\n",
              "      <td id=\"T_cffd5_row0_col4\" class=\"data row0 col4\" >1</td>\n",
              "    </tr>\n",
              "    <tr>\n",
              "      <td id=\"T_cffd5_row1_col0\" class=\"data row1 col0\" >20</td>\n",
              "      <td id=\"T_cffd5_row1_col1\" class=\"data row1 col1\" >Sales</td>\n",
              "      <td id=\"T_cffd5_row1_col2\" class=\"data row1 col2\" >239456</td>\n",
              "      <td id=\"T_cffd5_row1_col3\" class=\"data row1 col3\" >Calcutta</td>\n",
              "      <td id=\"T_cffd5_row1_col4\" class=\"data row1 col4\" >1</td>\n",
              "    </tr>\n",
              "    <tr>\n",
              "      <td id=\"T_cffd5_row2_col0\" class=\"data row2 col0\" >30</td>\n",
              "      <td id=\"T_cffd5_row2_col1\" class=\"data row2 col1\" >Accounts</td>\n",
              "      <td id=\"T_cffd5_row2_col2\" class=\"data row2 col2\" >822134</td>\n",
              "      <td id=\"T_cffd5_row2_col3\" class=\"data row2 col3\" >Calcutta</td>\n",
              "      <td id=\"T_cffd5_row2_col4\" class=\"data row2 col4\" >1</td>\n",
              "    </tr>\n",
              "    <tr>\n",
              "      <td id=\"T_cffd5_row3_col0\" class=\"data row3 col0\" >40</td>\n",
              "      <td id=\"T_cffd5_row3_col1\" class=\"data row3 col1\" >Production</td>\n",
              "      <td id=\"T_cffd5_row3_col2\" class=\"data row3 col2\" >349870</td>\n",
              "      <td id=\"T_cffd5_row3_col3\" class=\"data row3 col3\" >Bombay</td>\n",
              "      <td id=\"T_cffd5_row3_col4\" class=\"data row3 col4\" >2</td>\n",
              "    </tr>\n",
              "    <tr>\n",
              "      <td id=\"T_cffd5_row4_col0\" class=\"data row4 col0\" >60</td>\n",
              "      <td id=\"T_cffd5_row4_col1\" class=\"data row4 col1\" >Research</td>\n",
              "      <td id=\"T_cffd5_row4_col2\" class=\"data row4 col2\" >546224</td>\n",
              "      <td id=\"T_cffd5_row4_col3\" class=\"data row4 col3\" >Delhi</td>\n",
              "      <td id=\"T_cffd5_row4_col4\" class=\"data row4 col4\" >3</td>\n",
              "    </tr>\n",
              "  </tbody>\n",
              "</table>\n"
            ]
          },
          "metadata": {},
          "execution_count": 61
        }
      ]
    },
    {
      "cell_type": "code",
      "source": [
        "sql = \"\\\n",
        "select * from \\\n",
        "crosstab('select location::text,locationid::text,deptname::text from dept order by 1,2') as locations \\\n",
        "(location text, dep1 text, dep2 text, dep3 text, dep4 text)\\\n",
        "\"\n",
        "runSelect(sql)"
      ],
      "metadata": {
        "colab": {
          "base_uri": "https://localhost:8080/",
          "height": 143
        },
        "id": "Iukqh6TRVo-9",
        "outputId": "3c7b530f-d33f-469a-e100-ab4b29552069"
      },
      "execution_count": 62,
      "outputs": [
        {
          "output_type": "execute_result",
          "data": {
            "text/plain": [
              "<pandas.io.formats.style.Styler at 0x7f7477b0ae30>"
            ],
            "text/html": [
              "<style type=\"text/css\">\n",
              "</style>\n",
              "<table id=\"T_58fde\" class=\"dataframe\">\n",
              "  <thead>\n",
              "    <tr>\n",
              "      <th id=\"T_58fde_level0_col0\" class=\"col_heading level0 col0\" >location</th>\n",
              "      <th id=\"T_58fde_level0_col1\" class=\"col_heading level0 col1\" >dep1</th>\n",
              "      <th id=\"T_58fde_level0_col2\" class=\"col_heading level0 col2\" >dep2</th>\n",
              "      <th id=\"T_58fde_level0_col3\" class=\"col_heading level0 col3\" >dep3</th>\n",
              "      <th id=\"T_58fde_level0_col4\" class=\"col_heading level0 col4\" >dep4</th>\n",
              "    </tr>\n",
              "  </thead>\n",
              "  <tbody>\n",
              "    <tr>\n",
              "      <td id=\"T_58fde_row0_col0\" class=\"data row0 col0\" >Bombay</td>\n",
              "      <td id=\"T_58fde_row0_col1\" class=\"data row0 col1\" >Production</td>\n",
              "      <td id=\"T_58fde_row0_col2\" class=\"data row0 col2\" >None</td>\n",
              "      <td id=\"T_58fde_row0_col3\" class=\"data row0 col3\" >None</td>\n",
              "      <td id=\"T_58fde_row0_col4\" class=\"data row0 col4\" >None</td>\n",
              "    </tr>\n",
              "    <tr>\n",
              "      <td id=\"T_58fde_row1_col0\" class=\"data row1 col0\" >Calcutta</td>\n",
              "      <td id=\"T_58fde_row1_col1\" class=\"data row1 col1\" >Corporate</td>\n",
              "      <td id=\"T_58fde_row1_col2\" class=\"data row1 col2\" >Sales</td>\n",
              "      <td id=\"T_58fde_row1_col3\" class=\"data row1 col3\" >Accounts</td>\n",
              "      <td id=\"T_58fde_row1_col4\" class=\"data row1 col4\" >None</td>\n",
              "    </tr>\n",
              "    <tr>\n",
              "      <td id=\"T_58fde_row2_col0\" class=\"data row2 col0\" >Delhi</td>\n",
              "      <td id=\"T_58fde_row2_col1\" class=\"data row2 col1\" >Research</td>\n",
              "      <td id=\"T_58fde_row2_col2\" class=\"data row2 col2\" >None</td>\n",
              "      <td id=\"T_58fde_row2_col3\" class=\"data row2 col3\" >None</td>\n",
              "      <td id=\"T_58fde_row2_col4\" class=\"data row2 col4\" >None</td>\n",
              "    </tr>\n",
              "  </tbody>\n",
              "</table>\n"
            ]
          },
          "metadata": {},
          "execution_count": 62
        }
      ]
    },
    {
      "cell_type": "markdown",
      "source": [
        "# Insert | Delete | Update"
      ],
      "metadata": {
        "id": "REcqZ7K0DYqi"
      }
    },
    {
      "cell_type": "code",
      "source": [
        "runSelect(\"select * from dept\")"
      ],
      "metadata": {
        "id": "xGgCH9vGDlsI",
        "outputId": "cd1e150c-793a-4d06-cee5-7b2641ccf78f",
        "colab": {
          "base_uri": "https://localhost:8080/",
          "height": 206
        }
      },
      "execution_count": 63,
      "outputs": [
        {
          "output_type": "execute_result",
          "data": {
            "text/plain": [
              "<pandas.io.formats.style.Styler at 0x7f7477b24b80>"
            ],
            "text/html": [
              "<style type=\"text/css\">\n",
              "</style>\n",
              "<table id=\"T_93cd6\" class=\"dataframe\">\n",
              "  <thead>\n",
              "    <tr>\n",
              "      <th id=\"T_93cd6_level0_col0\" class=\"col_heading level0 col0\" >deptid</th>\n",
              "      <th id=\"T_93cd6_level0_col1\" class=\"col_heading level0 col1\" >deptname</th>\n",
              "      <th id=\"T_93cd6_level0_col2\" class=\"col_heading level0 col2\" >managerid</th>\n",
              "      <th id=\"T_93cd6_level0_col3\" class=\"col_heading level0 col3\" >location</th>\n",
              "      <th id=\"T_93cd6_level0_col4\" class=\"col_heading level0 col4\" >locationid</th>\n",
              "    </tr>\n",
              "  </thead>\n",
              "  <tbody>\n",
              "    <tr>\n",
              "      <td id=\"T_93cd6_row0_col0\" class=\"data row0 col0\" >10</td>\n",
              "      <td id=\"T_93cd6_row0_col1\" class=\"data row0 col1\" >Corporate</td>\n",
              "      <td id=\"T_93cd6_row0_col2\" class=\"data row0 col2\" >299034</td>\n",
              "      <td id=\"T_93cd6_row0_col3\" class=\"data row0 col3\" >Calcutta</td>\n",
              "      <td id=\"T_93cd6_row0_col4\" class=\"data row0 col4\" >1</td>\n",
              "    </tr>\n",
              "    <tr>\n",
              "      <td id=\"T_93cd6_row1_col0\" class=\"data row1 col0\" >20</td>\n",
              "      <td id=\"T_93cd6_row1_col1\" class=\"data row1 col1\" >Sales</td>\n",
              "      <td id=\"T_93cd6_row1_col2\" class=\"data row1 col2\" >239456</td>\n",
              "      <td id=\"T_93cd6_row1_col3\" class=\"data row1 col3\" >Calcutta</td>\n",
              "      <td id=\"T_93cd6_row1_col4\" class=\"data row1 col4\" >1</td>\n",
              "    </tr>\n",
              "    <tr>\n",
              "      <td id=\"T_93cd6_row2_col0\" class=\"data row2 col0\" >30</td>\n",
              "      <td id=\"T_93cd6_row2_col1\" class=\"data row2 col1\" >Accounts</td>\n",
              "      <td id=\"T_93cd6_row2_col2\" class=\"data row2 col2\" >822134</td>\n",
              "      <td id=\"T_93cd6_row2_col3\" class=\"data row2 col3\" >Calcutta</td>\n",
              "      <td id=\"T_93cd6_row2_col4\" class=\"data row2 col4\" >1</td>\n",
              "    </tr>\n",
              "    <tr>\n",
              "      <td id=\"T_93cd6_row3_col0\" class=\"data row3 col0\" >40</td>\n",
              "      <td id=\"T_93cd6_row3_col1\" class=\"data row3 col1\" >Production</td>\n",
              "      <td id=\"T_93cd6_row3_col2\" class=\"data row3 col2\" >349870</td>\n",
              "      <td id=\"T_93cd6_row3_col3\" class=\"data row3 col3\" >Bombay</td>\n",
              "      <td id=\"T_93cd6_row3_col4\" class=\"data row3 col4\" >2</td>\n",
              "    </tr>\n",
              "    <tr>\n",
              "      <td id=\"T_93cd6_row4_col0\" class=\"data row4 col0\" >60</td>\n",
              "      <td id=\"T_93cd6_row4_col1\" class=\"data row4 col1\" >Research</td>\n",
              "      <td id=\"T_93cd6_row4_col2\" class=\"data row4 col2\" >546224</td>\n",
              "      <td id=\"T_93cd6_row4_col3\" class=\"data row4 col3\" >Delhi</td>\n",
              "      <td id=\"T_93cd6_row4_col4\" class=\"data row4 col4\" >3</td>\n",
              "    </tr>\n",
              "  </tbody>\n",
              "</table>\n"
            ]
          },
          "metadata": {},
          "execution_count": 63
        }
      ]
    },
    {
      "cell_type": "code",
      "source": [
        "runCmd(\"insert into Dept (DeptID, DeptName, ManagerID, Location,LocationID) VALUES \\\n",
        "\t('11', 'Corporate2', '299035', 'Calcutta','1')\")\n",
        "runSelect(\"select * from dept\")"
      ],
      "metadata": {
        "id": "iyW0EobdDuMY",
        "outputId": "8d386c9f-b102-44bc-9ae5-cf2f6ceea738",
        "colab": {
          "base_uri": "https://localhost:8080/",
          "height": 255
        }
      },
      "execution_count": 64,
      "outputs": [
        {
          "output_type": "stream",
          "name": "stdout",
          "text": [
            "Command executed\n"
          ]
        },
        {
          "output_type": "execute_result",
          "data": {
            "text/plain": [
              "<pandas.io.formats.style.Styler at 0x7f7477b25660>"
            ],
            "text/html": [
              "<style type=\"text/css\">\n",
              "</style>\n",
              "<table id=\"T_8b5a1\" class=\"dataframe\">\n",
              "  <thead>\n",
              "    <tr>\n",
              "      <th id=\"T_8b5a1_level0_col0\" class=\"col_heading level0 col0\" >deptid</th>\n",
              "      <th id=\"T_8b5a1_level0_col1\" class=\"col_heading level0 col1\" >deptname</th>\n",
              "      <th id=\"T_8b5a1_level0_col2\" class=\"col_heading level0 col2\" >managerid</th>\n",
              "      <th id=\"T_8b5a1_level0_col3\" class=\"col_heading level0 col3\" >location</th>\n",
              "      <th id=\"T_8b5a1_level0_col4\" class=\"col_heading level0 col4\" >locationid</th>\n",
              "    </tr>\n",
              "  </thead>\n",
              "  <tbody>\n",
              "    <tr>\n",
              "      <td id=\"T_8b5a1_row0_col0\" class=\"data row0 col0\" >10</td>\n",
              "      <td id=\"T_8b5a1_row0_col1\" class=\"data row0 col1\" >Corporate</td>\n",
              "      <td id=\"T_8b5a1_row0_col2\" class=\"data row0 col2\" >299034</td>\n",
              "      <td id=\"T_8b5a1_row0_col3\" class=\"data row0 col3\" >Calcutta</td>\n",
              "      <td id=\"T_8b5a1_row0_col4\" class=\"data row0 col4\" >1</td>\n",
              "    </tr>\n",
              "    <tr>\n",
              "      <td id=\"T_8b5a1_row1_col0\" class=\"data row1 col0\" >20</td>\n",
              "      <td id=\"T_8b5a1_row1_col1\" class=\"data row1 col1\" >Sales</td>\n",
              "      <td id=\"T_8b5a1_row1_col2\" class=\"data row1 col2\" >239456</td>\n",
              "      <td id=\"T_8b5a1_row1_col3\" class=\"data row1 col3\" >Calcutta</td>\n",
              "      <td id=\"T_8b5a1_row1_col4\" class=\"data row1 col4\" >1</td>\n",
              "    </tr>\n",
              "    <tr>\n",
              "      <td id=\"T_8b5a1_row2_col0\" class=\"data row2 col0\" >30</td>\n",
              "      <td id=\"T_8b5a1_row2_col1\" class=\"data row2 col1\" >Accounts</td>\n",
              "      <td id=\"T_8b5a1_row2_col2\" class=\"data row2 col2\" >822134</td>\n",
              "      <td id=\"T_8b5a1_row2_col3\" class=\"data row2 col3\" >Calcutta</td>\n",
              "      <td id=\"T_8b5a1_row2_col4\" class=\"data row2 col4\" >1</td>\n",
              "    </tr>\n",
              "    <tr>\n",
              "      <td id=\"T_8b5a1_row3_col0\" class=\"data row3 col0\" >40</td>\n",
              "      <td id=\"T_8b5a1_row3_col1\" class=\"data row3 col1\" >Production</td>\n",
              "      <td id=\"T_8b5a1_row3_col2\" class=\"data row3 col2\" >349870</td>\n",
              "      <td id=\"T_8b5a1_row3_col3\" class=\"data row3 col3\" >Bombay</td>\n",
              "      <td id=\"T_8b5a1_row3_col4\" class=\"data row3 col4\" >2</td>\n",
              "    </tr>\n",
              "    <tr>\n",
              "      <td id=\"T_8b5a1_row4_col0\" class=\"data row4 col0\" >60</td>\n",
              "      <td id=\"T_8b5a1_row4_col1\" class=\"data row4 col1\" >Research</td>\n",
              "      <td id=\"T_8b5a1_row4_col2\" class=\"data row4 col2\" >546224</td>\n",
              "      <td id=\"T_8b5a1_row4_col3\" class=\"data row4 col3\" >Delhi</td>\n",
              "      <td id=\"T_8b5a1_row4_col4\" class=\"data row4 col4\" >3</td>\n",
              "    </tr>\n",
              "    <tr>\n",
              "      <td id=\"T_8b5a1_row5_col0\" class=\"data row5 col0\" >11</td>\n",
              "      <td id=\"T_8b5a1_row5_col1\" class=\"data row5 col1\" >Corporate2</td>\n",
              "      <td id=\"T_8b5a1_row5_col2\" class=\"data row5 col2\" >299035</td>\n",
              "      <td id=\"T_8b5a1_row5_col3\" class=\"data row5 col3\" >Calcutta</td>\n",
              "      <td id=\"T_8b5a1_row5_col4\" class=\"data row5 col4\" >1</td>\n",
              "    </tr>\n",
              "  </tbody>\n",
              "</table>\n"
            ]
          },
          "metadata": {},
          "execution_count": 64
        }
      ]
    },
    {
      "cell_type": "code",
      "source": [
        "runCmd(\"update dept set deptname = 'Marketing' where deptid = '11'\")\n",
        "runSelect(\"select * from dept\")"
      ],
      "metadata": {
        "id": "DqdnmD2pEQNq",
        "outputId": "06901f71-767f-4e05-fc9a-81dd1bc11d1c",
        "colab": {
          "base_uri": "https://localhost:8080/",
          "height": 255
        }
      },
      "execution_count": 65,
      "outputs": [
        {
          "output_type": "stream",
          "name": "stdout",
          "text": [
            "Command executed\n"
          ]
        },
        {
          "output_type": "execute_result",
          "data": {
            "text/plain": [
              "<pandas.io.formats.style.Styler at 0x7f7477b24f10>"
            ],
            "text/html": [
              "<style type=\"text/css\">\n",
              "</style>\n",
              "<table id=\"T_681c1\" class=\"dataframe\">\n",
              "  <thead>\n",
              "    <tr>\n",
              "      <th id=\"T_681c1_level0_col0\" class=\"col_heading level0 col0\" >deptid</th>\n",
              "      <th id=\"T_681c1_level0_col1\" class=\"col_heading level0 col1\" >deptname</th>\n",
              "      <th id=\"T_681c1_level0_col2\" class=\"col_heading level0 col2\" >managerid</th>\n",
              "      <th id=\"T_681c1_level0_col3\" class=\"col_heading level0 col3\" >location</th>\n",
              "      <th id=\"T_681c1_level0_col4\" class=\"col_heading level0 col4\" >locationid</th>\n",
              "    </tr>\n",
              "  </thead>\n",
              "  <tbody>\n",
              "    <tr>\n",
              "      <td id=\"T_681c1_row0_col0\" class=\"data row0 col0\" >10</td>\n",
              "      <td id=\"T_681c1_row0_col1\" class=\"data row0 col1\" >Corporate</td>\n",
              "      <td id=\"T_681c1_row0_col2\" class=\"data row0 col2\" >299034</td>\n",
              "      <td id=\"T_681c1_row0_col3\" class=\"data row0 col3\" >Calcutta</td>\n",
              "      <td id=\"T_681c1_row0_col4\" class=\"data row0 col4\" >1</td>\n",
              "    </tr>\n",
              "    <tr>\n",
              "      <td id=\"T_681c1_row1_col0\" class=\"data row1 col0\" >20</td>\n",
              "      <td id=\"T_681c1_row1_col1\" class=\"data row1 col1\" >Sales</td>\n",
              "      <td id=\"T_681c1_row1_col2\" class=\"data row1 col2\" >239456</td>\n",
              "      <td id=\"T_681c1_row1_col3\" class=\"data row1 col3\" >Calcutta</td>\n",
              "      <td id=\"T_681c1_row1_col4\" class=\"data row1 col4\" >1</td>\n",
              "    </tr>\n",
              "    <tr>\n",
              "      <td id=\"T_681c1_row2_col0\" class=\"data row2 col0\" >30</td>\n",
              "      <td id=\"T_681c1_row2_col1\" class=\"data row2 col1\" >Accounts</td>\n",
              "      <td id=\"T_681c1_row2_col2\" class=\"data row2 col2\" >822134</td>\n",
              "      <td id=\"T_681c1_row2_col3\" class=\"data row2 col3\" >Calcutta</td>\n",
              "      <td id=\"T_681c1_row2_col4\" class=\"data row2 col4\" >1</td>\n",
              "    </tr>\n",
              "    <tr>\n",
              "      <td id=\"T_681c1_row3_col0\" class=\"data row3 col0\" >40</td>\n",
              "      <td id=\"T_681c1_row3_col1\" class=\"data row3 col1\" >Production</td>\n",
              "      <td id=\"T_681c1_row3_col2\" class=\"data row3 col2\" >349870</td>\n",
              "      <td id=\"T_681c1_row3_col3\" class=\"data row3 col3\" >Bombay</td>\n",
              "      <td id=\"T_681c1_row3_col4\" class=\"data row3 col4\" >2</td>\n",
              "    </tr>\n",
              "    <tr>\n",
              "      <td id=\"T_681c1_row4_col0\" class=\"data row4 col0\" >60</td>\n",
              "      <td id=\"T_681c1_row4_col1\" class=\"data row4 col1\" >Research</td>\n",
              "      <td id=\"T_681c1_row4_col2\" class=\"data row4 col2\" >546224</td>\n",
              "      <td id=\"T_681c1_row4_col3\" class=\"data row4 col3\" >Delhi</td>\n",
              "      <td id=\"T_681c1_row4_col4\" class=\"data row4 col4\" >3</td>\n",
              "    </tr>\n",
              "    <tr>\n",
              "      <td id=\"T_681c1_row5_col0\" class=\"data row5 col0\" >11</td>\n",
              "      <td id=\"T_681c1_row5_col1\" class=\"data row5 col1\" >Marketing</td>\n",
              "      <td id=\"T_681c1_row5_col2\" class=\"data row5 col2\" >299035</td>\n",
              "      <td id=\"T_681c1_row5_col3\" class=\"data row5 col3\" >Calcutta</td>\n",
              "      <td id=\"T_681c1_row5_col4\" class=\"data row5 col4\" >1</td>\n",
              "    </tr>\n",
              "  </tbody>\n",
              "</table>\n"
            ]
          },
          "metadata": {},
          "execution_count": 65
        }
      ]
    },
    {
      "cell_type": "code",
      "source": [
        "runCmd(\"delete from dept where deptid = '11'\")\n",
        "runSelect(\"select * from dept\")"
      ],
      "metadata": {
        "id": "nsnJnNrEF6iS",
        "outputId": "f9b92fb9-8fce-4577-c6b7-789089b8e47e",
        "colab": {
          "base_uri": "https://localhost:8080/",
          "height": 224
        }
      },
      "execution_count": 66,
      "outputs": [
        {
          "output_type": "stream",
          "name": "stdout",
          "text": [
            "Command executed\n"
          ]
        },
        {
          "output_type": "execute_result",
          "data": {
            "text/plain": [
              "<pandas.io.formats.style.Styler at 0x7f7477b26cb0>"
            ],
            "text/html": [
              "<style type=\"text/css\">\n",
              "</style>\n",
              "<table id=\"T_b3bbe\" class=\"dataframe\">\n",
              "  <thead>\n",
              "    <tr>\n",
              "      <th id=\"T_b3bbe_level0_col0\" class=\"col_heading level0 col0\" >deptid</th>\n",
              "      <th id=\"T_b3bbe_level0_col1\" class=\"col_heading level0 col1\" >deptname</th>\n",
              "      <th id=\"T_b3bbe_level0_col2\" class=\"col_heading level0 col2\" >managerid</th>\n",
              "      <th id=\"T_b3bbe_level0_col3\" class=\"col_heading level0 col3\" >location</th>\n",
              "      <th id=\"T_b3bbe_level0_col4\" class=\"col_heading level0 col4\" >locationid</th>\n",
              "    </tr>\n",
              "  </thead>\n",
              "  <tbody>\n",
              "    <tr>\n",
              "      <td id=\"T_b3bbe_row0_col0\" class=\"data row0 col0\" >10</td>\n",
              "      <td id=\"T_b3bbe_row0_col1\" class=\"data row0 col1\" >Corporate</td>\n",
              "      <td id=\"T_b3bbe_row0_col2\" class=\"data row0 col2\" >299034</td>\n",
              "      <td id=\"T_b3bbe_row0_col3\" class=\"data row0 col3\" >Calcutta</td>\n",
              "      <td id=\"T_b3bbe_row0_col4\" class=\"data row0 col4\" >1</td>\n",
              "    </tr>\n",
              "    <tr>\n",
              "      <td id=\"T_b3bbe_row1_col0\" class=\"data row1 col0\" >20</td>\n",
              "      <td id=\"T_b3bbe_row1_col1\" class=\"data row1 col1\" >Sales</td>\n",
              "      <td id=\"T_b3bbe_row1_col2\" class=\"data row1 col2\" >239456</td>\n",
              "      <td id=\"T_b3bbe_row1_col3\" class=\"data row1 col3\" >Calcutta</td>\n",
              "      <td id=\"T_b3bbe_row1_col4\" class=\"data row1 col4\" >1</td>\n",
              "    </tr>\n",
              "    <tr>\n",
              "      <td id=\"T_b3bbe_row2_col0\" class=\"data row2 col0\" >30</td>\n",
              "      <td id=\"T_b3bbe_row2_col1\" class=\"data row2 col1\" >Accounts</td>\n",
              "      <td id=\"T_b3bbe_row2_col2\" class=\"data row2 col2\" >822134</td>\n",
              "      <td id=\"T_b3bbe_row2_col3\" class=\"data row2 col3\" >Calcutta</td>\n",
              "      <td id=\"T_b3bbe_row2_col4\" class=\"data row2 col4\" >1</td>\n",
              "    </tr>\n",
              "    <tr>\n",
              "      <td id=\"T_b3bbe_row3_col0\" class=\"data row3 col0\" >40</td>\n",
              "      <td id=\"T_b3bbe_row3_col1\" class=\"data row3 col1\" >Production</td>\n",
              "      <td id=\"T_b3bbe_row3_col2\" class=\"data row3 col2\" >349870</td>\n",
              "      <td id=\"T_b3bbe_row3_col3\" class=\"data row3 col3\" >Bombay</td>\n",
              "      <td id=\"T_b3bbe_row3_col4\" class=\"data row3 col4\" >2</td>\n",
              "    </tr>\n",
              "    <tr>\n",
              "      <td id=\"T_b3bbe_row4_col0\" class=\"data row4 col0\" >60</td>\n",
              "      <td id=\"T_b3bbe_row4_col1\" class=\"data row4 col1\" >Research</td>\n",
              "      <td id=\"T_b3bbe_row4_col2\" class=\"data row4 col2\" >546224</td>\n",
              "      <td id=\"T_b3bbe_row4_col3\" class=\"data row4 col3\" >Delhi</td>\n",
              "      <td id=\"T_b3bbe_row4_col4\" class=\"data row4 col4\" >3</td>\n",
              "    </tr>\n",
              "  </tbody>\n",
              "</table>\n"
            ]
          },
          "metadata": {},
          "execution_count": 66
        }
      ]
    },
    {
      "cell_type": "code",
      "source": [
        "from datetime import datetime\n",
        "import pytz\n",
        "print('Last tested  ',datetime.now(pytz.timezone('Asia/Kolkata')))"
      ],
      "metadata": {
        "colab": {
          "base_uri": "https://localhost:8080/"
        },
        "id": "wjBXJVhM605H",
        "outputId": "3e83f82e-b775-485b-d4ad-9f84279fe2eb"
      },
      "execution_count": 59,
      "outputs": [
        {
          "output_type": "stream",
          "name": "stdout",
          "text": [
            "Last tested   2023-12-31 03:46:09.100685+05:30\n"
          ]
        }
      ]
    },
    {
      "cell_type": "markdown",
      "source": [
        "#Chronobooks <br>\n",
        "Two science fiction novels by Prithwis Mukerjee. A dystopian Earth. A technocratic society managed by artificial intelligence. Escape and epiphany on Mars. Can man and machine, carbon and silicon explore and escape into other dimensions of existence? An Indic perspective rooted in Advaita Vedanta and the Divine Feminine.  [More information](http://bit.ly/chronobooks) <br>\n",
        "![alt text](https://github.com/Praxis-QR/RDWH/raw/main/images/CTCYFooter-1.png)"
      ],
      "metadata": {
        "id": "_gNiZpyW3AzJ"
      }
    }
  ]
}