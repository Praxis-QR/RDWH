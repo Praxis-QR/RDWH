{
  "nbformat": 4,
  "nbformat_minor": 0,
  "metadata": {
    "colab": {
      "provenance": [],
      "toc_visible": true,
      "include_colab_link": true
    },
    "kernelspec": {
      "name": "python3",
      "display_name": "Python 3"
    },
    "language_info": {
      "name": "python"
    }
  },
  "cells": [
    {
      "cell_type": "markdown",
      "metadata": {
        "id": "view-in-github",
        "colab_type": "text"
      },
      "source": [
        "<a href=\"https://colab.research.google.com/github/Praxis-QR/RDWH/blob/main/PostgreSQL_02_Basic_SQL.ipynb\" target=\"_parent\"><img src=\"https://colab.research.google.com/assets/colab-badge.svg\" alt=\"Open In Colab\"/></a>"
      ]
    },
    {
      "cell_type": "markdown",
      "source": [
        "![alt text](https://github.com/Praxis-QR/RDWH/raw/main/images/YantraJaalBanner.png)<br>\n",
        "\n",
        "\n",
        "<hr>\n",
        "\n",
        "[Prithwis Mukerjee](http://www.linkedin.com/in/prithwis)<br>"
      ],
      "metadata": {
        "id": "DBzz-qaN2tKu"
      }
    },
    {
      "cell_type": "markdown",
      "source": [
        "PostgreSQL Tutorial https://www.w3resource.com/PostgreSQL/tutorial.php"
      ],
      "metadata": {
        "id": "dBJ6X0LiJtZ6"
      }
    },
    {
      "cell_type": "markdown",
      "source": [
        "#Install & Configure Postgres"
      ],
      "metadata": {
        "id": "nD-QawLT6kDr"
      }
    },
    {
      "cell_type": "code",
      "source": [
        "from datetime import datetime\n",
        "import pytz\n",
        "print('Tested on ',datetime.now(pytz.timezone('Asia/Calcutta')))\n",
        "!python --version\n",
        "!lsb_release -a"
      ],
      "metadata": {
        "id": "txwvst5Hs5mI",
        "outputId": "7b7d26ac-b7e4-433a-b7e7-fdb4ca5997fc",
        "colab": {
          "base_uri": "https://localhost:8080/"
        }
      },
      "execution_count": 1,
      "outputs": [
        {
          "output_type": "stream",
          "name": "stdout",
          "text": [
            "Tested on  2023-12-30 12:28:14.973711+05:30\n",
            "Python 3.10.12\n",
            "No LSB modules are available.\n",
            "Distributor ID:\tUbuntu\n",
            "Description:\tUbuntu 22.04.3 LTS\n",
            "Release:\t22.04\n",
            "Codename:\tjammy\n"
          ]
        }
      ]
    },
    {
      "cell_type": "code",
      "source": [
        "# Install postgresql server\n",
        "\n",
        "!apt update > /dev/null\n",
        "!apt install postgresql > /dev/null\n",
        "#!sudo -u postgres psql -V\n",
        "!psql -V\n",
        "!service postgresql start"
      ],
      "metadata": {
        "colab": {
          "base_uri": "https://localhost:8080/"
        },
        "id": "o_RaqE0OOHP3",
        "outputId": "3993fbd0-88b5-4bba-d525-c2401f6cc30a"
      },
      "execution_count": 2,
      "outputs": [
        {
          "output_type": "stream",
          "name": "stdout",
          "text": [
            "\n",
            "WARNING: apt does not have a stable CLI interface. Use with caution in scripts.\n",
            "\n",
            "\n",
            "WARNING: apt does not have a stable CLI interface. Use with caution in scripts.\n",
            "\n",
            "psql (PostgreSQL) 14.10 (Ubuntu 14.10-0ubuntu0.22.04.1)\n",
            " * Starting PostgreSQL 14 database server\n",
            "   ...done.\n"
          ]
        }
      ]
    },
    {
      "cell_type": "code",
      "source": [
        "#!pip install psycopg2\n",
        "import psycopg2\n",
        "import pandas as pd"
      ],
      "metadata": {
        "id": "719jvpeIjLZX"
      },
      "execution_count": 3,
      "outputs": []
    },
    {
      "cell_type": "code",
      "source": [
        "# This has created an Ubuntu user 'postgres' AND a Postgres database user 'postgres' both of which are superusers\n",
        "#!cat /etc/passwd\n",
        "# Use these users to create a new database user called 'upraxis' and give it a password 'upass'\n",
        "#!sudo -u postgres createuser --superuser upraxis\n",
        "!sudo -u postgres createuser upraxis\n",
        "!sudo -u postgres psql -U postgres -c \"ALTER USER upraxis PASSWORD 'upass';\"\n",
        "# Change the database superuser 'postgres' to a non-default value 'pass'\n",
        "!sudo -u postgres psql -U postgres -c \"ALTER USER postgres PASSWORD 'pass';\"\n",
        "# Use ubuntu superuser to create database dbpraxis and set its owner to upraxis\n",
        "!sudo -u postgres createdb -O upraxis dbpraxis\n"
      ],
      "metadata": {
        "colab": {
          "base_uri": "https://localhost:8080/"
        },
        "id": "xr5kHaY_U4CZ",
        "outputId": "7dae721f-cfe8-46ec-883f-78e0d7260cfc"
      },
      "execution_count": 4,
      "outputs": [
        {
          "output_type": "stream",
          "name": "stdout",
          "text": [
            "ALTER ROLE\n",
            "ALTER ROLE\n"
          ]
        }
      ]
    },
    {
      "cell_type": "code",
      "source": [
        "# Create file to store the password. Else will be prompted each time\n",
        "#!echo \"localhost:5432:praxisdb:postgres:pass\" > ~/.pgpass\n",
        "!echo \"localhost:5432:dbpraxis:upraxis:upass\" > ~/.pgpass\n",
        "!chmod 0600 ~/.pgpass\n",
        "!cat ~/.pgpass"
      ],
      "metadata": {
        "colab": {
          "base_uri": "https://localhost:8080/"
        },
        "id": "kFDLMhnTWwuz",
        "outputId": "1e18d11f-4e41-4222-96fa-7ebc178105f8"
      },
      "execution_count": 5,
      "outputs": [
        {
          "output_type": "stream",
          "name": "stdout",
          "text": [
            "localhost:5432:dbpraxis:upraxis:upass\n"
          ]
        }
      ]
    },
    {
      "cell_type": "markdown",
      "source": [
        "## Create and Load Tables"
      ],
      "metadata": {
        "id": "pHTdNzrU6qUE"
      }
    },
    {
      "cell_type": "code",
      "source": [
        "# Create Two tables using command line interface\n",
        "#\n",
        "!psql -h localhost -p 5432 -Uupraxis -ddbpraxis -c \\\n",
        "\"drop table if exists Dept;\\\n",
        "create table Dept (\\\n",
        "    DeptID char(2),\\\n",
        "    DeptName varchar(20),\\\n",
        "    ManagerID char(6),\\\n",
        "    Location varchar(10),\\\n",
        "    LocationID char(1)\\\n",
        "    );\\\n",
        "insert into Dept (DeptID, DeptName, ManagerID, Location,LocationID) VALUES \\\n",
        "\t('10', 'Corporate', '299034', 'Calcutta','1'), \\\n",
        "\t('20', 'Sales', '239456', 'Calcutta','1'), \\\n",
        "\t('30', 'Accounts', '822134', 'Calcutta','1'), \\\n",
        "\t('40', 'Production', '349870', 'Bombay','2'),\\\n",
        "    ('60', 'Research', '546224', 'Delhi','3');\\\n",
        "\""
      ],
      "metadata": {
        "colab": {
          "base_uri": "https://localhost:8080/"
        },
        "id": "DsUZ9JlEXIir",
        "outputId": "e0bc6b84-0061-487d-d6d9-75abfa89add9"
      },
      "execution_count": 6,
      "outputs": [
        {
          "output_type": "stream",
          "name": "stdout",
          "text": [
            "NOTICE:  table \"dept\" does not exist, skipping\n",
            "INSERT 0 5\n"
          ]
        }
      ]
    },
    {
      "cell_type": "code",
      "source": [
        "!psql -h localhost -p 5432 -Uupraxis -ddbpraxis -c \\\n",
        "\"drop table if exists Empl;\\\n",
        "create table Empl \\\n",
        "    (EmpID char(6),\\\n",
        "    LastName varchar(20),\\\n",
        "    FirstName varchar(20),\\\n",
        "    JobDesc varchar(10),\\\n",
        "    JoinDate date,\\\n",
        "    Salary int,\\\n",
        "    Comm decimal(3,2),\\\n",
        "    DeptID char(2),\\\n",
        "    HiredBy char(6)\\\n",
        "    );\\\n",
        "INSERT INTO Empl (EmpID, LastName, FirstName, JobDesc, JoinDate, Salary, Comm, DeptID, HiredBy) \\\n",
        "    VALUES \\\n",
        "\t('742866', 'Bacchan', 'Amitabh', 'Executive', '2003-03-10', 50000, 0.1, '10', NULL), \\\n",
        "\t('349870', 'Mukherjee', 'Rani', 'Manager', '2005-05-04', 25000, 0.06, '40', '742866'), \\\n",
        "\t('865477', 'Dikshit', 'Madhuri', 'Clerk', '2002-04-04', 10000, 0.02, '20', '239456'), \\\n",
        "\t('239456', 'Khan', 'Shahrukh', 'Manager', '2004-01-03', 30000, 0.07, '20', '742866'), \\\n",
        "\t('897889', 'Sehwag', 'Virender', 'Cus_Rep', '2005-01-02', 15000, 0.05, '20', '239456'), \\\n",
        "\t('123980', 'Dhoni', 'Mahender', 'Clerk', '2004-10-09', 9000, 0.02, '40', '349870'), \\\n",
        "\t('822134', 'Dravid', 'Rahul', 'Sr Manager', '2000-06-04', 40000, 0.08, '30', '742866'), \\\n",
        "\t('997445', 'Dalmia', 'Jagmohan', 'Clerk', '2001-07-01', 12000, 0.02, '30', '822134'), \\\n",
        "\t('989007', 'Ganguly', 'Sourav', 'Cus_Rep', '2002-01-01', 20000, 0.03, '40', '299034'), \\\n",
        "\t('299034', 'Ganesan', 'Rekha', 'Director', '2002-10-10', 60000, 0.11, '10', '742866'), \\\n",
        "\t('546223', 'Karthikeyan', 'Narayan', 'Secretary', '2005-12-04', 40000, 0.09, '10', '299034'), \\\n",
        "    ('546224', 'Sunil', 'Chettri', 'Dy Manager', '2006-12-07', 40000, 0.05, '70', '349870'), \\\n",
        "\t('223112', 'Mirza', 'Sania', 'Cus_Rep', '2001-11-19', 25000, 0.04, '30', '822134');\\\n",
        "\""
      ],
      "metadata": {
        "colab": {
          "base_uri": "https://localhost:8080/"
        },
        "id": "5kWs3wyEd9Tm",
        "outputId": "aa3a2e6a-2ccd-4128-f7d9-9430947b582a"
      },
      "execution_count": 7,
      "outputs": [
        {
          "output_type": "stream",
          "name": "stdout",
          "text": [
            "NOTICE:  table \"empl\" does not exist, skipping\n",
            "INSERT 0 13\n"
          ]
        }
      ]
    },
    {
      "cell_type": "code",
      "source": [
        "#!psql -h localhost -p 5432 -Upostgres -dpraxisdb -c \"select * from dept;\"\n",
        "#!psql -h localhost -p 5432 -Uupraxis -ddbpraxis -c \"select * from dept;\""
      ],
      "metadata": {
        "id": "HyBUhbAI2PV1"
      },
      "execution_count": 8,
      "outputs": []
    },
    {
      "cell_type": "code",
      "source": [
        "#!psql -h localhost -p 5432 -U postgres -d praxisdb -c \"select * from empl;\"\n",
        "#!psql -h localhost -p 5432 -U upraxis -d dbpraxis -c \"select * from empl;\""
      ],
      "metadata": {
        "id": "byY2iccO4ctF"
      },
      "execution_count": 9,
      "outputs": []
    },
    {
      "cell_type": "markdown",
      "source": [
        "## Python Access\n",
        "https://www.tutorialspoint.com/python_data_access/python_postgresql_database_connection.htm"
      ],
      "metadata": {
        "id": "faZEj8_7CeZ8"
      }
    },
    {
      "cell_type": "code",
      "source": [
        "# Local Colab server\n",
        "\n",
        "conn = psycopg2.connect(database=\"dbpraxis\", user='upraxis', password='upass', host='127.0.0.1', port= '5432')\n",
        "#Creating a cursor object using the cursor() method\n",
        "cursor = conn.cursor()\n",
        "#Executing an MYSQL function using the execute() method\n",
        "cursor.execute(\"select version()\")\n",
        "# Fetch a single row using fetchone() method.\n",
        "data = cursor.fetchone()\n",
        "print(\"Connection established to: \",data)\n",
        "#Closing the connection\n",
        "conn.close()"
      ],
      "metadata": {
        "id": "wcE-8UBnC4zV",
        "outputId": "206c6415-6a13-4279-f3d5-85674a1cbf1c",
        "colab": {
          "base_uri": "https://localhost:8080/"
        }
      },
      "execution_count": 10,
      "outputs": [
        {
          "output_type": "stream",
          "name": "stdout",
          "text": [
            "Connection established to:  ('PostgreSQL 14.10 (Ubuntu 14.10-0ubuntu0.22.04.1) on x86_64-pc-linux-gnu, compiled by gcc (Ubuntu 11.4.0-1ubuntu1~22.04) 11.4.0, 64-bit',)\n"
          ]
        }
      ]
    },
    {
      "cell_type": "code",
      "source": [
        "# function to execute SQL select statements with Postgres\n",
        "#\n",
        "def runSelect(s):\n",
        "    #Set up connection\n",
        "\n",
        "    conn = psycopg2.connect(database=\"dbpraxis\", user='upraxis', password='upass', host='127.0.0.1', port= '5432')\n",
        "    #Setting auto commit true\n",
        "    conn.autocommit = True\n",
        "    #Creating a cursor object using the cursor() method\n",
        "    cursor = conn.cursor()\n",
        "    #Retrieving data\n",
        "    cursor.execute(s)\n",
        "    #Fetching all rows from the table\n",
        "    result = cursor.fetchall();\n",
        "    #print(len(result))\n",
        "    if (len(result)) > 0:                                       # result contains at least one row\n",
        "        colnames = [desc[0] for desc in cursor.description]     # get column names\n",
        "        #print(colnames)\n",
        "        resultdf = pd.DataFrame(result)                         # convert list to dataframe\n",
        "        resultdf.columns = colnames                             # add column names\n",
        "        #return resultdf\n",
        "        return resultdf.style.hide()                            # hide the index\n",
        "    else:\n",
        "        print('no records found')\n",
        "        return\n",
        "# function to execute SQL non-select statements with Postgres\n",
        "#\n",
        "def runCmd(s):\n",
        "    #Create Connection\n",
        "    conn = psycopg2.connect(database=\"dbpraxis\", user='upraxis', password='upass', host='127.0.0.1', port= '5432')\n",
        "    #Creating a cursor object using the cursor() method\n",
        "    cursor = conn.cursor()\n",
        "    try:\n",
        "        cursor.execute(s)\n",
        "        print('Command executed')\n",
        "        conn.commit()\n",
        "    except:\n",
        "        print('Command failed')\n",
        "    #Closing the connection\n",
        "    conn.close()"
      ],
      "metadata": {
        "id": "ht2k7-3iggNd"
      },
      "execution_count": 11,
      "outputs": []
    },
    {
      "cell_type": "markdown",
      "source": [
        "#Select - getting started"
      ],
      "metadata": {
        "id": "k0rXiciVtu7Q"
      }
    },
    {
      "cell_type": "code",
      "source": [
        "#runSelect(\"select * from dept where deptid = '100'\")\n",
        "#runSelect(\"select * from dept where deptid = '10'\")\n",
        "runSelect(\"select * from dept\")"
      ],
      "metadata": {
        "id": "N3NZv0YahSs6",
        "outputId": "da1df37b-5253-4339-a3b8-179ac44c169b",
        "colab": {
          "base_uri": "https://localhost:8080/",
          "height": 206
        }
      },
      "execution_count": 12,
      "outputs": [
        {
          "output_type": "execute_result",
          "data": {
            "text/plain": [
              "<pandas.io.formats.style.Styler at 0x7d0fba673520>"
            ],
            "text/html": [
              "<style type=\"text/css\">\n",
              "</style>\n",
              "<table id=\"T_d2c20\" class=\"dataframe\">\n",
              "  <thead>\n",
              "    <tr>\n",
              "      <th id=\"T_d2c20_level0_col0\" class=\"col_heading level0 col0\" >deptid</th>\n",
              "      <th id=\"T_d2c20_level0_col1\" class=\"col_heading level0 col1\" >deptname</th>\n",
              "      <th id=\"T_d2c20_level0_col2\" class=\"col_heading level0 col2\" >managerid</th>\n",
              "      <th id=\"T_d2c20_level0_col3\" class=\"col_heading level0 col3\" >location</th>\n",
              "      <th id=\"T_d2c20_level0_col4\" class=\"col_heading level0 col4\" >locationid</th>\n",
              "    </tr>\n",
              "  </thead>\n",
              "  <tbody>\n",
              "    <tr>\n",
              "      <td id=\"T_d2c20_row0_col0\" class=\"data row0 col0\" >10</td>\n",
              "      <td id=\"T_d2c20_row0_col1\" class=\"data row0 col1\" >Corporate</td>\n",
              "      <td id=\"T_d2c20_row0_col2\" class=\"data row0 col2\" >299034</td>\n",
              "      <td id=\"T_d2c20_row0_col3\" class=\"data row0 col3\" >Calcutta</td>\n",
              "      <td id=\"T_d2c20_row0_col4\" class=\"data row0 col4\" >1</td>\n",
              "    </tr>\n",
              "    <tr>\n",
              "      <td id=\"T_d2c20_row1_col0\" class=\"data row1 col0\" >20</td>\n",
              "      <td id=\"T_d2c20_row1_col1\" class=\"data row1 col1\" >Sales</td>\n",
              "      <td id=\"T_d2c20_row1_col2\" class=\"data row1 col2\" >239456</td>\n",
              "      <td id=\"T_d2c20_row1_col3\" class=\"data row1 col3\" >Calcutta</td>\n",
              "      <td id=\"T_d2c20_row1_col4\" class=\"data row1 col4\" >1</td>\n",
              "    </tr>\n",
              "    <tr>\n",
              "      <td id=\"T_d2c20_row2_col0\" class=\"data row2 col0\" >30</td>\n",
              "      <td id=\"T_d2c20_row2_col1\" class=\"data row2 col1\" >Accounts</td>\n",
              "      <td id=\"T_d2c20_row2_col2\" class=\"data row2 col2\" >822134</td>\n",
              "      <td id=\"T_d2c20_row2_col3\" class=\"data row2 col3\" >Calcutta</td>\n",
              "      <td id=\"T_d2c20_row2_col4\" class=\"data row2 col4\" >1</td>\n",
              "    </tr>\n",
              "    <tr>\n",
              "      <td id=\"T_d2c20_row3_col0\" class=\"data row3 col0\" >40</td>\n",
              "      <td id=\"T_d2c20_row3_col1\" class=\"data row3 col1\" >Production</td>\n",
              "      <td id=\"T_d2c20_row3_col2\" class=\"data row3 col2\" >349870</td>\n",
              "      <td id=\"T_d2c20_row3_col3\" class=\"data row3 col3\" >Bombay</td>\n",
              "      <td id=\"T_d2c20_row3_col4\" class=\"data row3 col4\" >2</td>\n",
              "    </tr>\n",
              "    <tr>\n",
              "      <td id=\"T_d2c20_row4_col0\" class=\"data row4 col0\" >60</td>\n",
              "      <td id=\"T_d2c20_row4_col1\" class=\"data row4 col1\" >Research</td>\n",
              "      <td id=\"T_d2c20_row4_col2\" class=\"data row4 col2\" >546224</td>\n",
              "      <td id=\"T_d2c20_row4_col3\" class=\"data row4 col3\" >Delhi</td>\n",
              "      <td id=\"T_d2c20_row4_col4\" class=\"data row4 col4\" >3</td>\n",
              "    </tr>\n",
              "  </tbody>\n",
              "</table>\n"
            ]
          },
          "metadata": {},
          "execution_count": 12
        }
      ]
    },
    {
      "cell_type": "code",
      "source": [
        "runSelect('select * from empl')"
      ],
      "metadata": {
        "id": "Otiv4rjSl5Tg",
        "outputId": "6ccdee02-9811-4454-abdc-775a1f3f9d8e",
        "colab": {
          "base_uri": "https://localhost:8080/",
          "height": 457
        }
      },
      "execution_count": 13,
      "outputs": [
        {
          "output_type": "execute_result",
          "data": {
            "text/plain": [
              "<pandas.io.formats.style.Styler at 0x7d0fba5cfb50>"
            ],
            "text/html": [
              "<style type=\"text/css\">\n",
              "</style>\n",
              "<table id=\"T_0e9dc\" class=\"dataframe\">\n",
              "  <thead>\n",
              "    <tr>\n",
              "      <th id=\"T_0e9dc_level0_col0\" class=\"col_heading level0 col0\" >empid</th>\n",
              "      <th id=\"T_0e9dc_level0_col1\" class=\"col_heading level0 col1\" >lastname</th>\n",
              "      <th id=\"T_0e9dc_level0_col2\" class=\"col_heading level0 col2\" >firstname</th>\n",
              "      <th id=\"T_0e9dc_level0_col3\" class=\"col_heading level0 col3\" >jobdesc</th>\n",
              "      <th id=\"T_0e9dc_level0_col4\" class=\"col_heading level0 col4\" >joindate</th>\n",
              "      <th id=\"T_0e9dc_level0_col5\" class=\"col_heading level0 col5\" >salary</th>\n",
              "      <th id=\"T_0e9dc_level0_col6\" class=\"col_heading level0 col6\" >comm</th>\n",
              "      <th id=\"T_0e9dc_level0_col7\" class=\"col_heading level0 col7\" >deptid</th>\n",
              "      <th id=\"T_0e9dc_level0_col8\" class=\"col_heading level0 col8\" >hiredby</th>\n",
              "    </tr>\n",
              "  </thead>\n",
              "  <tbody>\n",
              "    <tr>\n",
              "      <td id=\"T_0e9dc_row0_col0\" class=\"data row0 col0\" >742866</td>\n",
              "      <td id=\"T_0e9dc_row0_col1\" class=\"data row0 col1\" >Bacchan</td>\n",
              "      <td id=\"T_0e9dc_row0_col2\" class=\"data row0 col2\" >Amitabh</td>\n",
              "      <td id=\"T_0e9dc_row0_col3\" class=\"data row0 col3\" >Executive</td>\n",
              "      <td id=\"T_0e9dc_row0_col4\" class=\"data row0 col4\" >2003-03-10</td>\n",
              "      <td id=\"T_0e9dc_row0_col5\" class=\"data row0 col5\" >50000</td>\n",
              "      <td id=\"T_0e9dc_row0_col6\" class=\"data row0 col6\" >0.10</td>\n",
              "      <td id=\"T_0e9dc_row0_col7\" class=\"data row0 col7\" >10</td>\n",
              "      <td id=\"T_0e9dc_row0_col8\" class=\"data row0 col8\" >None</td>\n",
              "    </tr>\n",
              "    <tr>\n",
              "      <td id=\"T_0e9dc_row1_col0\" class=\"data row1 col0\" >349870</td>\n",
              "      <td id=\"T_0e9dc_row1_col1\" class=\"data row1 col1\" >Mukherjee</td>\n",
              "      <td id=\"T_0e9dc_row1_col2\" class=\"data row1 col2\" >Rani</td>\n",
              "      <td id=\"T_0e9dc_row1_col3\" class=\"data row1 col3\" >Manager</td>\n",
              "      <td id=\"T_0e9dc_row1_col4\" class=\"data row1 col4\" >2005-05-04</td>\n",
              "      <td id=\"T_0e9dc_row1_col5\" class=\"data row1 col5\" >25000</td>\n",
              "      <td id=\"T_0e9dc_row1_col6\" class=\"data row1 col6\" >0.06</td>\n",
              "      <td id=\"T_0e9dc_row1_col7\" class=\"data row1 col7\" >40</td>\n",
              "      <td id=\"T_0e9dc_row1_col8\" class=\"data row1 col8\" >742866</td>\n",
              "    </tr>\n",
              "    <tr>\n",
              "      <td id=\"T_0e9dc_row2_col0\" class=\"data row2 col0\" >865477</td>\n",
              "      <td id=\"T_0e9dc_row2_col1\" class=\"data row2 col1\" >Dikshit</td>\n",
              "      <td id=\"T_0e9dc_row2_col2\" class=\"data row2 col2\" >Madhuri</td>\n",
              "      <td id=\"T_0e9dc_row2_col3\" class=\"data row2 col3\" >Clerk</td>\n",
              "      <td id=\"T_0e9dc_row2_col4\" class=\"data row2 col4\" >2002-04-04</td>\n",
              "      <td id=\"T_0e9dc_row2_col5\" class=\"data row2 col5\" >10000</td>\n",
              "      <td id=\"T_0e9dc_row2_col6\" class=\"data row2 col6\" >0.02</td>\n",
              "      <td id=\"T_0e9dc_row2_col7\" class=\"data row2 col7\" >20</td>\n",
              "      <td id=\"T_0e9dc_row2_col8\" class=\"data row2 col8\" >239456</td>\n",
              "    </tr>\n",
              "    <tr>\n",
              "      <td id=\"T_0e9dc_row3_col0\" class=\"data row3 col0\" >239456</td>\n",
              "      <td id=\"T_0e9dc_row3_col1\" class=\"data row3 col1\" >Khan</td>\n",
              "      <td id=\"T_0e9dc_row3_col2\" class=\"data row3 col2\" >Shahrukh</td>\n",
              "      <td id=\"T_0e9dc_row3_col3\" class=\"data row3 col3\" >Manager</td>\n",
              "      <td id=\"T_0e9dc_row3_col4\" class=\"data row3 col4\" >2004-01-03</td>\n",
              "      <td id=\"T_0e9dc_row3_col5\" class=\"data row3 col5\" >30000</td>\n",
              "      <td id=\"T_0e9dc_row3_col6\" class=\"data row3 col6\" >0.07</td>\n",
              "      <td id=\"T_0e9dc_row3_col7\" class=\"data row3 col7\" >20</td>\n",
              "      <td id=\"T_0e9dc_row3_col8\" class=\"data row3 col8\" >742866</td>\n",
              "    </tr>\n",
              "    <tr>\n",
              "      <td id=\"T_0e9dc_row4_col0\" class=\"data row4 col0\" >897889</td>\n",
              "      <td id=\"T_0e9dc_row4_col1\" class=\"data row4 col1\" >Sehwag</td>\n",
              "      <td id=\"T_0e9dc_row4_col2\" class=\"data row4 col2\" >Virender</td>\n",
              "      <td id=\"T_0e9dc_row4_col3\" class=\"data row4 col3\" >Cus_Rep</td>\n",
              "      <td id=\"T_0e9dc_row4_col4\" class=\"data row4 col4\" >2005-01-02</td>\n",
              "      <td id=\"T_0e9dc_row4_col5\" class=\"data row4 col5\" >15000</td>\n",
              "      <td id=\"T_0e9dc_row4_col6\" class=\"data row4 col6\" >0.05</td>\n",
              "      <td id=\"T_0e9dc_row4_col7\" class=\"data row4 col7\" >20</td>\n",
              "      <td id=\"T_0e9dc_row4_col8\" class=\"data row4 col8\" >239456</td>\n",
              "    </tr>\n",
              "    <tr>\n",
              "      <td id=\"T_0e9dc_row5_col0\" class=\"data row5 col0\" >123980</td>\n",
              "      <td id=\"T_0e9dc_row5_col1\" class=\"data row5 col1\" >Dhoni</td>\n",
              "      <td id=\"T_0e9dc_row5_col2\" class=\"data row5 col2\" >Mahender</td>\n",
              "      <td id=\"T_0e9dc_row5_col3\" class=\"data row5 col3\" >Clerk</td>\n",
              "      <td id=\"T_0e9dc_row5_col4\" class=\"data row5 col4\" >2004-10-09</td>\n",
              "      <td id=\"T_0e9dc_row5_col5\" class=\"data row5 col5\" >9000</td>\n",
              "      <td id=\"T_0e9dc_row5_col6\" class=\"data row5 col6\" >0.02</td>\n",
              "      <td id=\"T_0e9dc_row5_col7\" class=\"data row5 col7\" >40</td>\n",
              "      <td id=\"T_0e9dc_row5_col8\" class=\"data row5 col8\" >349870</td>\n",
              "    </tr>\n",
              "    <tr>\n",
              "      <td id=\"T_0e9dc_row6_col0\" class=\"data row6 col0\" >822134</td>\n",
              "      <td id=\"T_0e9dc_row6_col1\" class=\"data row6 col1\" >Dravid</td>\n",
              "      <td id=\"T_0e9dc_row6_col2\" class=\"data row6 col2\" >Rahul</td>\n",
              "      <td id=\"T_0e9dc_row6_col3\" class=\"data row6 col3\" >Sr Manager</td>\n",
              "      <td id=\"T_0e9dc_row6_col4\" class=\"data row6 col4\" >2000-06-04</td>\n",
              "      <td id=\"T_0e9dc_row6_col5\" class=\"data row6 col5\" >40000</td>\n",
              "      <td id=\"T_0e9dc_row6_col6\" class=\"data row6 col6\" >0.08</td>\n",
              "      <td id=\"T_0e9dc_row6_col7\" class=\"data row6 col7\" >30</td>\n",
              "      <td id=\"T_0e9dc_row6_col8\" class=\"data row6 col8\" >742866</td>\n",
              "    </tr>\n",
              "    <tr>\n",
              "      <td id=\"T_0e9dc_row7_col0\" class=\"data row7 col0\" >997445</td>\n",
              "      <td id=\"T_0e9dc_row7_col1\" class=\"data row7 col1\" >Dalmia</td>\n",
              "      <td id=\"T_0e9dc_row7_col2\" class=\"data row7 col2\" >Jagmohan</td>\n",
              "      <td id=\"T_0e9dc_row7_col3\" class=\"data row7 col3\" >Clerk</td>\n",
              "      <td id=\"T_0e9dc_row7_col4\" class=\"data row7 col4\" >2001-07-01</td>\n",
              "      <td id=\"T_0e9dc_row7_col5\" class=\"data row7 col5\" >12000</td>\n",
              "      <td id=\"T_0e9dc_row7_col6\" class=\"data row7 col6\" >0.02</td>\n",
              "      <td id=\"T_0e9dc_row7_col7\" class=\"data row7 col7\" >30</td>\n",
              "      <td id=\"T_0e9dc_row7_col8\" class=\"data row7 col8\" >822134</td>\n",
              "    </tr>\n",
              "    <tr>\n",
              "      <td id=\"T_0e9dc_row8_col0\" class=\"data row8 col0\" >989007</td>\n",
              "      <td id=\"T_0e9dc_row8_col1\" class=\"data row8 col1\" >Ganguly</td>\n",
              "      <td id=\"T_0e9dc_row8_col2\" class=\"data row8 col2\" >Sourav</td>\n",
              "      <td id=\"T_0e9dc_row8_col3\" class=\"data row8 col3\" >Cus_Rep</td>\n",
              "      <td id=\"T_0e9dc_row8_col4\" class=\"data row8 col4\" >2002-01-01</td>\n",
              "      <td id=\"T_0e9dc_row8_col5\" class=\"data row8 col5\" >20000</td>\n",
              "      <td id=\"T_0e9dc_row8_col6\" class=\"data row8 col6\" >0.03</td>\n",
              "      <td id=\"T_0e9dc_row8_col7\" class=\"data row8 col7\" >40</td>\n",
              "      <td id=\"T_0e9dc_row8_col8\" class=\"data row8 col8\" >299034</td>\n",
              "    </tr>\n",
              "    <tr>\n",
              "      <td id=\"T_0e9dc_row9_col0\" class=\"data row9 col0\" >299034</td>\n",
              "      <td id=\"T_0e9dc_row9_col1\" class=\"data row9 col1\" >Ganesan</td>\n",
              "      <td id=\"T_0e9dc_row9_col2\" class=\"data row9 col2\" >Rekha</td>\n",
              "      <td id=\"T_0e9dc_row9_col3\" class=\"data row9 col3\" >Director</td>\n",
              "      <td id=\"T_0e9dc_row9_col4\" class=\"data row9 col4\" >2002-10-10</td>\n",
              "      <td id=\"T_0e9dc_row9_col5\" class=\"data row9 col5\" >60000</td>\n",
              "      <td id=\"T_0e9dc_row9_col6\" class=\"data row9 col6\" >0.11</td>\n",
              "      <td id=\"T_0e9dc_row9_col7\" class=\"data row9 col7\" >10</td>\n",
              "      <td id=\"T_0e9dc_row9_col8\" class=\"data row9 col8\" >742866</td>\n",
              "    </tr>\n",
              "    <tr>\n",
              "      <td id=\"T_0e9dc_row10_col0\" class=\"data row10 col0\" >546223</td>\n",
              "      <td id=\"T_0e9dc_row10_col1\" class=\"data row10 col1\" >Karthikeyan</td>\n",
              "      <td id=\"T_0e9dc_row10_col2\" class=\"data row10 col2\" >Narayan</td>\n",
              "      <td id=\"T_0e9dc_row10_col3\" class=\"data row10 col3\" >Secretary</td>\n",
              "      <td id=\"T_0e9dc_row10_col4\" class=\"data row10 col4\" >2005-12-04</td>\n",
              "      <td id=\"T_0e9dc_row10_col5\" class=\"data row10 col5\" >40000</td>\n",
              "      <td id=\"T_0e9dc_row10_col6\" class=\"data row10 col6\" >0.09</td>\n",
              "      <td id=\"T_0e9dc_row10_col7\" class=\"data row10 col7\" >10</td>\n",
              "      <td id=\"T_0e9dc_row10_col8\" class=\"data row10 col8\" >299034</td>\n",
              "    </tr>\n",
              "    <tr>\n",
              "      <td id=\"T_0e9dc_row11_col0\" class=\"data row11 col0\" >546224</td>\n",
              "      <td id=\"T_0e9dc_row11_col1\" class=\"data row11 col1\" >Sunil</td>\n",
              "      <td id=\"T_0e9dc_row11_col2\" class=\"data row11 col2\" >Chettri</td>\n",
              "      <td id=\"T_0e9dc_row11_col3\" class=\"data row11 col3\" >Dy Manager</td>\n",
              "      <td id=\"T_0e9dc_row11_col4\" class=\"data row11 col4\" >2006-12-07</td>\n",
              "      <td id=\"T_0e9dc_row11_col5\" class=\"data row11 col5\" >40000</td>\n",
              "      <td id=\"T_0e9dc_row11_col6\" class=\"data row11 col6\" >0.05</td>\n",
              "      <td id=\"T_0e9dc_row11_col7\" class=\"data row11 col7\" >70</td>\n",
              "      <td id=\"T_0e9dc_row11_col8\" class=\"data row11 col8\" >349870</td>\n",
              "    </tr>\n",
              "    <tr>\n",
              "      <td id=\"T_0e9dc_row12_col0\" class=\"data row12 col0\" >223112</td>\n",
              "      <td id=\"T_0e9dc_row12_col1\" class=\"data row12 col1\" >Mirza</td>\n",
              "      <td id=\"T_0e9dc_row12_col2\" class=\"data row12 col2\" >Sania</td>\n",
              "      <td id=\"T_0e9dc_row12_col3\" class=\"data row12 col3\" >Cus_Rep</td>\n",
              "      <td id=\"T_0e9dc_row12_col4\" class=\"data row12 col4\" >2001-11-19</td>\n",
              "      <td id=\"T_0e9dc_row12_col5\" class=\"data row12 col5\" >25000</td>\n",
              "      <td id=\"T_0e9dc_row12_col6\" class=\"data row12 col6\" >0.04</td>\n",
              "      <td id=\"T_0e9dc_row12_col7\" class=\"data row12 col7\" >30</td>\n",
              "      <td id=\"T_0e9dc_row12_col8\" class=\"data row12 col8\" >822134</td>\n",
              "    </tr>\n",
              "  </tbody>\n",
              "</table>\n"
            ]
          },
          "metadata": {},
          "execution_count": 13
        }
      ]
    },
    {
      "cell_type": "code",
      "source": [
        "runSelect('select lastname, jobdesc, salary from empl')"
      ],
      "metadata": {
        "id": "z-mxVMPuuxu6",
        "outputId": "dc3f3b7e-9953-4e9c-a4f3-857d4db390b0",
        "colab": {
          "base_uri": "https://localhost:8080/",
          "height": 457
        }
      },
      "execution_count": 14,
      "outputs": [
        {
          "output_type": "execute_result",
          "data": {
            "text/plain": [
              "<pandas.io.formats.style.Styler at 0x7d0fba5ce7d0>"
            ],
            "text/html": [
              "<style type=\"text/css\">\n",
              "</style>\n",
              "<table id=\"T_0f56f\" class=\"dataframe\">\n",
              "  <thead>\n",
              "    <tr>\n",
              "      <th id=\"T_0f56f_level0_col0\" class=\"col_heading level0 col0\" >lastname</th>\n",
              "      <th id=\"T_0f56f_level0_col1\" class=\"col_heading level0 col1\" >jobdesc</th>\n",
              "      <th id=\"T_0f56f_level0_col2\" class=\"col_heading level0 col2\" >salary</th>\n",
              "    </tr>\n",
              "  </thead>\n",
              "  <tbody>\n",
              "    <tr>\n",
              "      <td id=\"T_0f56f_row0_col0\" class=\"data row0 col0\" >Bacchan</td>\n",
              "      <td id=\"T_0f56f_row0_col1\" class=\"data row0 col1\" >Executive</td>\n",
              "      <td id=\"T_0f56f_row0_col2\" class=\"data row0 col2\" >50000</td>\n",
              "    </tr>\n",
              "    <tr>\n",
              "      <td id=\"T_0f56f_row1_col0\" class=\"data row1 col0\" >Mukherjee</td>\n",
              "      <td id=\"T_0f56f_row1_col1\" class=\"data row1 col1\" >Manager</td>\n",
              "      <td id=\"T_0f56f_row1_col2\" class=\"data row1 col2\" >25000</td>\n",
              "    </tr>\n",
              "    <tr>\n",
              "      <td id=\"T_0f56f_row2_col0\" class=\"data row2 col0\" >Dikshit</td>\n",
              "      <td id=\"T_0f56f_row2_col1\" class=\"data row2 col1\" >Clerk</td>\n",
              "      <td id=\"T_0f56f_row2_col2\" class=\"data row2 col2\" >10000</td>\n",
              "    </tr>\n",
              "    <tr>\n",
              "      <td id=\"T_0f56f_row3_col0\" class=\"data row3 col0\" >Khan</td>\n",
              "      <td id=\"T_0f56f_row3_col1\" class=\"data row3 col1\" >Manager</td>\n",
              "      <td id=\"T_0f56f_row3_col2\" class=\"data row3 col2\" >30000</td>\n",
              "    </tr>\n",
              "    <tr>\n",
              "      <td id=\"T_0f56f_row4_col0\" class=\"data row4 col0\" >Sehwag</td>\n",
              "      <td id=\"T_0f56f_row4_col1\" class=\"data row4 col1\" >Cus_Rep</td>\n",
              "      <td id=\"T_0f56f_row4_col2\" class=\"data row4 col2\" >15000</td>\n",
              "    </tr>\n",
              "    <tr>\n",
              "      <td id=\"T_0f56f_row5_col0\" class=\"data row5 col0\" >Dhoni</td>\n",
              "      <td id=\"T_0f56f_row5_col1\" class=\"data row5 col1\" >Clerk</td>\n",
              "      <td id=\"T_0f56f_row5_col2\" class=\"data row5 col2\" >9000</td>\n",
              "    </tr>\n",
              "    <tr>\n",
              "      <td id=\"T_0f56f_row6_col0\" class=\"data row6 col0\" >Dravid</td>\n",
              "      <td id=\"T_0f56f_row6_col1\" class=\"data row6 col1\" >Sr Manager</td>\n",
              "      <td id=\"T_0f56f_row6_col2\" class=\"data row6 col2\" >40000</td>\n",
              "    </tr>\n",
              "    <tr>\n",
              "      <td id=\"T_0f56f_row7_col0\" class=\"data row7 col0\" >Dalmia</td>\n",
              "      <td id=\"T_0f56f_row7_col1\" class=\"data row7 col1\" >Clerk</td>\n",
              "      <td id=\"T_0f56f_row7_col2\" class=\"data row7 col2\" >12000</td>\n",
              "    </tr>\n",
              "    <tr>\n",
              "      <td id=\"T_0f56f_row8_col0\" class=\"data row8 col0\" >Ganguly</td>\n",
              "      <td id=\"T_0f56f_row8_col1\" class=\"data row8 col1\" >Cus_Rep</td>\n",
              "      <td id=\"T_0f56f_row8_col2\" class=\"data row8 col2\" >20000</td>\n",
              "    </tr>\n",
              "    <tr>\n",
              "      <td id=\"T_0f56f_row9_col0\" class=\"data row9 col0\" >Ganesan</td>\n",
              "      <td id=\"T_0f56f_row9_col1\" class=\"data row9 col1\" >Director</td>\n",
              "      <td id=\"T_0f56f_row9_col2\" class=\"data row9 col2\" >60000</td>\n",
              "    </tr>\n",
              "    <tr>\n",
              "      <td id=\"T_0f56f_row10_col0\" class=\"data row10 col0\" >Karthikeyan</td>\n",
              "      <td id=\"T_0f56f_row10_col1\" class=\"data row10 col1\" >Secretary</td>\n",
              "      <td id=\"T_0f56f_row10_col2\" class=\"data row10 col2\" >40000</td>\n",
              "    </tr>\n",
              "    <tr>\n",
              "      <td id=\"T_0f56f_row11_col0\" class=\"data row11 col0\" >Sunil</td>\n",
              "      <td id=\"T_0f56f_row11_col1\" class=\"data row11 col1\" >Dy Manager</td>\n",
              "      <td id=\"T_0f56f_row11_col2\" class=\"data row11 col2\" >40000</td>\n",
              "    </tr>\n",
              "    <tr>\n",
              "      <td id=\"T_0f56f_row12_col0\" class=\"data row12 col0\" >Mirza</td>\n",
              "      <td id=\"T_0f56f_row12_col1\" class=\"data row12 col1\" >Cus_Rep</td>\n",
              "      <td id=\"T_0f56f_row12_col2\" class=\"data row12 col2\" >25000</td>\n",
              "    </tr>\n",
              "  </tbody>\n",
              "</table>\n"
            ]
          },
          "metadata": {},
          "execution_count": 14
        }
      ]
    },
    {
      "cell_type": "code",
      "source": [
        "runSelect('select distinct(jobdesc) from empl')"
      ],
      "metadata": {
        "id": "7uvcAdlCvg-p",
        "outputId": "37e34461-86d3-48f3-f0ac-9e8d1064a2a5",
        "colab": {
          "base_uri": "https://localhost:8080/",
          "height": 300
        }
      },
      "execution_count": 15,
      "outputs": [
        {
          "output_type": "execute_result",
          "data": {
            "text/plain": [
              "<pandas.io.formats.style.Styler at 0x7d0fba5cf6a0>"
            ],
            "text/html": [
              "<style type=\"text/css\">\n",
              "</style>\n",
              "<table id=\"T_ff0ba\" class=\"dataframe\">\n",
              "  <thead>\n",
              "    <tr>\n",
              "      <th id=\"T_ff0ba_level0_col0\" class=\"col_heading level0 col0\" >jobdesc</th>\n",
              "    </tr>\n",
              "  </thead>\n",
              "  <tbody>\n",
              "    <tr>\n",
              "      <td id=\"T_ff0ba_row0_col0\" class=\"data row0 col0\" >Director</td>\n",
              "    </tr>\n",
              "    <tr>\n",
              "      <td id=\"T_ff0ba_row1_col0\" class=\"data row1 col0\" >Manager</td>\n",
              "    </tr>\n",
              "    <tr>\n",
              "      <td id=\"T_ff0ba_row2_col0\" class=\"data row2 col0\" >Dy Manager</td>\n",
              "    </tr>\n",
              "    <tr>\n",
              "      <td id=\"T_ff0ba_row3_col0\" class=\"data row3 col0\" >Executive</td>\n",
              "    </tr>\n",
              "    <tr>\n",
              "      <td id=\"T_ff0ba_row4_col0\" class=\"data row4 col0\" >Secretary</td>\n",
              "    </tr>\n",
              "    <tr>\n",
              "      <td id=\"T_ff0ba_row5_col0\" class=\"data row5 col0\" >Cus_Rep</td>\n",
              "    </tr>\n",
              "    <tr>\n",
              "      <td id=\"T_ff0ba_row6_col0\" class=\"data row6 col0\" >Clerk</td>\n",
              "    </tr>\n",
              "    <tr>\n",
              "      <td id=\"T_ff0ba_row7_col0\" class=\"data row7 col0\" >Sr Manager</td>\n",
              "    </tr>\n",
              "  </tbody>\n",
              "</table>\n"
            ]
          },
          "metadata": {},
          "execution_count": 15
        }
      ]
    },
    {
      "cell_type": "markdown",
      "source": [
        "#Where"
      ],
      "metadata": {
        "id": "LFbNG59OxVzF"
      }
    },
    {
      "cell_type": "markdown",
      "source": [
        "## Equal, Not Equal, Greater, Less"
      ],
      "metadata": {
        "id": "JM2k29awVQHc"
      }
    },
    {
      "cell_type": "code",
      "source": [
        "runSelect(\"select firstname, lastname, jobdesc from empl where jobdesc = 'Clerk'\")"
      ],
      "metadata": {
        "id": "rRZz9OpLxdEY",
        "outputId": "31378d92-d56d-417b-8e8b-a5adf9086183",
        "colab": {
          "base_uri": "https://localhost:8080/",
          "height": 143
        }
      },
      "execution_count": 16,
      "outputs": [
        {
          "output_type": "execute_result",
          "data": {
            "text/plain": [
              "<pandas.io.formats.style.Styler at 0x7d0fba5ce980>"
            ],
            "text/html": [
              "<style type=\"text/css\">\n",
              "</style>\n",
              "<table id=\"T_da7dc\" class=\"dataframe\">\n",
              "  <thead>\n",
              "    <tr>\n",
              "      <th id=\"T_da7dc_level0_col0\" class=\"col_heading level0 col0\" >firstname</th>\n",
              "      <th id=\"T_da7dc_level0_col1\" class=\"col_heading level0 col1\" >lastname</th>\n",
              "      <th id=\"T_da7dc_level0_col2\" class=\"col_heading level0 col2\" >jobdesc</th>\n",
              "    </tr>\n",
              "  </thead>\n",
              "  <tbody>\n",
              "    <tr>\n",
              "      <td id=\"T_da7dc_row0_col0\" class=\"data row0 col0\" >Madhuri</td>\n",
              "      <td id=\"T_da7dc_row0_col1\" class=\"data row0 col1\" >Dikshit</td>\n",
              "      <td id=\"T_da7dc_row0_col2\" class=\"data row0 col2\" >Clerk</td>\n",
              "    </tr>\n",
              "    <tr>\n",
              "      <td id=\"T_da7dc_row1_col0\" class=\"data row1 col0\" >Mahender</td>\n",
              "      <td id=\"T_da7dc_row1_col1\" class=\"data row1 col1\" >Dhoni</td>\n",
              "      <td id=\"T_da7dc_row1_col2\" class=\"data row1 col2\" >Clerk</td>\n",
              "    </tr>\n",
              "    <tr>\n",
              "      <td id=\"T_da7dc_row2_col0\" class=\"data row2 col0\" >Jagmohan</td>\n",
              "      <td id=\"T_da7dc_row2_col1\" class=\"data row2 col1\" >Dalmia</td>\n",
              "      <td id=\"T_da7dc_row2_col2\" class=\"data row2 col2\" >Clerk</td>\n",
              "    </tr>\n",
              "  </tbody>\n",
              "</table>\n"
            ]
          },
          "metadata": {},
          "execution_count": 16
        }
      ]
    },
    {
      "cell_type": "code",
      "source": [
        "runSelect(\"select firstname, lastname, jobdesc from empl where jobdesc != 'Clerk'\")"
      ],
      "metadata": {
        "id": "3cl0ISR9yG-I",
        "outputId": "1dbb273b-fc49-42eb-aa90-ebc18057df0c",
        "colab": {
          "base_uri": "https://localhost:8080/",
          "height": 363
        }
      },
      "execution_count": 17,
      "outputs": [
        {
          "output_type": "execute_result",
          "data": {
            "text/plain": [
              "<pandas.io.formats.style.Styler at 0x7d0fba604be0>"
            ],
            "text/html": [
              "<style type=\"text/css\">\n",
              "</style>\n",
              "<table id=\"T_112e7\" class=\"dataframe\">\n",
              "  <thead>\n",
              "    <tr>\n",
              "      <th id=\"T_112e7_level0_col0\" class=\"col_heading level0 col0\" >firstname</th>\n",
              "      <th id=\"T_112e7_level0_col1\" class=\"col_heading level0 col1\" >lastname</th>\n",
              "      <th id=\"T_112e7_level0_col2\" class=\"col_heading level0 col2\" >jobdesc</th>\n",
              "    </tr>\n",
              "  </thead>\n",
              "  <tbody>\n",
              "    <tr>\n",
              "      <td id=\"T_112e7_row0_col0\" class=\"data row0 col0\" >Amitabh</td>\n",
              "      <td id=\"T_112e7_row0_col1\" class=\"data row0 col1\" >Bacchan</td>\n",
              "      <td id=\"T_112e7_row0_col2\" class=\"data row0 col2\" >Executive</td>\n",
              "    </tr>\n",
              "    <tr>\n",
              "      <td id=\"T_112e7_row1_col0\" class=\"data row1 col0\" >Rani</td>\n",
              "      <td id=\"T_112e7_row1_col1\" class=\"data row1 col1\" >Mukherjee</td>\n",
              "      <td id=\"T_112e7_row1_col2\" class=\"data row1 col2\" >Manager</td>\n",
              "    </tr>\n",
              "    <tr>\n",
              "      <td id=\"T_112e7_row2_col0\" class=\"data row2 col0\" >Shahrukh</td>\n",
              "      <td id=\"T_112e7_row2_col1\" class=\"data row2 col1\" >Khan</td>\n",
              "      <td id=\"T_112e7_row2_col2\" class=\"data row2 col2\" >Manager</td>\n",
              "    </tr>\n",
              "    <tr>\n",
              "      <td id=\"T_112e7_row3_col0\" class=\"data row3 col0\" >Virender</td>\n",
              "      <td id=\"T_112e7_row3_col1\" class=\"data row3 col1\" >Sehwag</td>\n",
              "      <td id=\"T_112e7_row3_col2\" class=\"data row3 col2\" >Cus_Rep</td>\n",
              "    </tr>\n",
              "    <tr>\n",
              "      <td id=\"T_112e7_row4_col0\" class=\"data row4 col0\" >Rahul</td>\n",
              "      <td id=\"T_112e7_row4_col1\" class=\"data row4 col1\" >Dravid</td>\n",
              "      <td id=\"T_112e7_row4_col2\" class=\"data row4 col2\" >Sr Manager</td>\n",
              "    </tr>\n",
              "    <tr>\n",
              "      <td id=\"T_112e7_row5_col0\" class=\"data row5 col0\" >Sourav</td>\n",
              "      <td id=\"T_112e7_row5_col1\" class=\"data row5 col1\" >Ganguly</td>\n",
              "      <td id=\"T_112e7_row5_col2\" class=\"data row5 col2\" >Cus_Rep</td>\n",
              "    </tr>\n",
              "    <tr>\n",
              "      <td id=\"T_112e7_row6_col0\" class=\"data row6 col0\" >Rekha</td>\n",
              "      <td id=\"T_112e7_row6_col1\" class=\"data row6 col1\" >Ganesan</td>\n",
              "      <td id=\"T_112e7_row6_col2\" class=\"data row6 col2\" >Director</td>\n",
              "    </tr>\n",
              "    <tr>\n",
              "      <td id=\"T_112e7_row7_col0\" class=\"data row7 col0\" >Narayan</td>\n",
              "      <td id=\"T_112e7_row7_col1\" class=\"data row7 col1\" >Karthikeyan</td>\n",
              "      <td id=\"T_112e7_row7_col2\" class=\"data row7 col2\" >Secretary</td>\n",
              "    </tr>\n",
              "    <tr>\n",
              "      <td id=\"T_112e7_row8_col0\" class=\"data row8 col0\" >Chettri</td>\n",
              "      <td id=\"T_112e7_row8_col1\" class=\"data row8 col1\" >Sunil</td>\n",
              "      <td id=\"T_112e7_row8_col2\" class=\"data row8 col2\" >Dy Manager</td>\n",
              "    </tr>\n",
              "    <tr>\n",
              "      <td id=\"T_112e7_row9_col0\" class=\"data row9 col0\" >Sania</td>\n",
              "      <td id=\"T_112e7_row9_col1\" class=\"data row9 col1\" >Mirza</td>\n",
              "      <td id=\"T_112e7_row9_col2\" class=\"data row9 col2\" >Cus_Rep</td>\n",
              "    </tr>\n",
              "  </tbody>\n",
              "</table>\n"
            ]
          },
          "metadata": {},
          "execution_count": 17
        }
      ]
    },
    {
      "cell_type": "code",
      "source": [
        "runSelect(\"select firstname, lastname, salary from empl where salary > 35000\")"
      ],
      "metadata": {
        "id": "obIPpNbDyT4S",
        "outputId": "d7f63eca-decf-4633-b5d2-c6b7ff2122a8",
        "colab": {
          "base_uri": "https://localhost:8080/",
          "height": 206
        }
      },
      "execution_count": 18,
      "outputs": [
        {
          "output_type": "execute_result",
          "data": {
            "text/plain": [
              "<pandas.io.formats.style.Styler at 0x7d0fba5cf760>"
            ],
            "text/html": [
              "<style type=\"text/css\">\n",
              "</style>\n",
              "<table id=\"T_9de33\" class=\"dataframe\">\n",
              "  <thead>\n",
              "    <tr>\n",
              "      <th id=\"T_9de33_level0_col0\" class=\"col_heading level0 col0\" >firstname</th>\n",
              "      <th id=\"T_9de33_level0_col1\" class=\"col_heading level0 col1\" >lastname</th>\n",
              "      <th id=\"T_9de33_level0_col2\" class=\"col_heading level0 col2\" >salary</th>\n",
              "    </tr>\n",
              "  </thead>\n",
              "  <tbody>\n",
              "    <tr>\n",
              "      <td id=\"T_9de33_row0_col0\" class=\"data row0 col0\" >Amitabh</td>\n",
              "      <td id=\"T_9de33_row0_col1\" class=\"data row0 col1\" >Bacchan</td>\n",
              "      <td id=\"T_9de33_row0_col2\" class=\"data row0 col2\" >50000</td>\n",
              "    </tr>\n",
              "    <tr>\n",
              "      <td id=\"T_9de33_row1_col0\" class=\"data row1 col0\" >Rahul</td>\n",
              "      <td id=\"T_9de33_row1_col1\" class=\"data row1 col1\" >Dravid</td>\n",
              "      <td id=\"T_9de33_row1_col2\" class=\"data row1 col2\" >40000</td>\n",
              "    </tr>\n",
              "    <tr>\n",
              "      <td id=\"T_9de33_row2_col0\" class=\"data row2 col0\" >Rekha</td>\n",
              "      <td id=\"T_9de33_row2_col1\" class=\"data row2 col1\" >Ganesan</td>\n",
              "      <td id=\"T_9de33_row2_col2\" class=\"data row2 col2\" >60000</td>\n",
              "    </tr>\n",
              "    <tr>\n",
              "      <td id=\"T_9de33_row3_col0\" class=\"data row3 col0\" >Narayan</td>\n",
              "      <td id=\"T_9de33_row3_col1\" class=\"data row3 col1\" >Karthikeyan</td>\n",
              "      <td id=\"T_9de33_row3_col2\" class=\"data row3 col2\" >40000</td>\n",
              "    </tr>\n",
              "    <tr>\n",
              "      <td id=\"T_9de33_row4_col0\" class=\"data row4 col0\" >Chettri</td>\n",
              "      <td id=\"T_9de33_row4_col1\" class=\"data row4 col1\" >Sunil</td>\n",
              "      <td id=\"T_9de33_row4_col2\" class=\"data row4 col2\" >40000</td>\n",
              "    </tr>\n",
              "  </tbody>\n",
              "</table>\n"
            ]
          },
          "metadata": {},
          "execution_count": 18
        }
      ]
    },
    {
      "cell_type": "code",
      "source": [
        "runSelect(\"select firstname, lastname, salary, joindate from empl where joindate < '2002-01-01'\")"
      ],
      "metadata": {
        "colab": {
          "base_uri": "https://localhost:8080/",
          "height": 143
        },
        "id": "hnIvgy_dMvQl",
        "outputId": "077b1a9c-42b8-49ac-cfe4-a00146469618"
      },
      "execution_count": 19,
      "outputs": [
        {
          "output_type": "execute_result",
          "data": {
            "text/plain": [
              "<pandas.io.formats.style.Styler at 0x7d0fba604e80>"
            ],
            "text/html": [
              "<style type=\"text/css\">\n",
              "</style>\n",
              "<table id=\"T_51886\" class=\"dataframe\">\n",
              "  <thead>\n",
              "    <tr>\n",
              "      <th id=\"T_51886_level0_col0\" class=\"col_heading level0 col0\" >firstname</th>\n",
              "      <th id=\"T_51886_level0_col1\" class=\"col_heading level0 col1\" >lastname</th>\n",
              "      <th id=\"T_51886_level0_col2\" class=\"col_heading level0 col2\" >salary</th>\n",
              "      <th id=\"T_51886_level0_col3\" class=\"col_heading level0 col3\" >joindate</th>\n",
              "    </tr>\n",
              "  </thead>\n",
              "  <tbody>\n",
              "    <tr>\n",
              "      <td id=\"T_51886_row0_col0\" class=\"data row0 col0\" >Rahul</td>\n",
              "      <td id=\"T_51886_row0_col1\" class=\"data row0 col1\" >Dravid</td>\n",
              "      <td id=\"T_51886_row0_col2\" class=\"data row0 col2\" >40000</td>\n",
              "      <td id=\"T_51886_row0_col3\" class=\"data row0 col3\" >2000-06-04</td>\n",
              "    </tr>\n",
              "    <tr>\n",
              "      <td id=\"T_51886_row1_col0\" class=\"data row1 col0\" >Jagmohan</td>\n",
              "      <td id=\"T_51886_row1_col1\" class=\"data row1 col1\" >Dalmia</td>\n",
              "      <td id=\"T_51886_row1_col2\" class=\"data row1 col2\" >12000</td>\n",
              "      <td id=\"T_51886_row1_col3\" class=\"data row1 col3\" >2001-07-01</td>\n",
              "    </tr>\n",
              "    <tr>\n",
              "      <td id=\"T_51886_row2_col0\" class=\"data row2 col0\" >Sania</td>\n",
              "      <td id=\"T_51886_row2_col1\" class=\"data row2 col1\" >Mirza</td>\n",
              "      <td id=\"T_51886_row2_col2\" class=\"data row2 col2\" >25000</td>\n",
              "      <td id=\"T_51886_row2_col3\" class=\"data row2 col3\" >2001-11-19</td>\n",
              "    </tr>\n",
              "  </tbody>\n",
              "</table>\n"
            ]
          },
          "metadata": {},
          "execution_count": 19
        }
      ]
    },
    {
      "cell_type": "markdown",
      "source": [
        "## Like"
      ],
      "metadata": {
        "id": "77DkYhfhU1lJ"
      }
    },
    {
      "cell_type": "code",
      "source": [
        "runSelect(\"select firstname, lastname, salary from empl where lastname like 'D%'\")"
      ],
      "metadata": {
        "colab": {
          "base_uri": "https://localhost:8080/",
          "height": 175
        },
        "id": "PBsdla2eVv1K",
        "outputId": "9f896f8c-28fa-4276-8c3b-5c755c2f63ae"
      },
      "execution_count": 20,
      "outputs": [
        {
          "output_type": "execute_result",
          "data": {
            "text/plain": [
              "<pandas.io.formats.style.Styler at 0x7d0fba607f70>"
            ],
            "text/html": [
              "<style type=\"text/css\">\n",
              "</style>\n",
              "<table id=\"T_59974\" class=\"dataframe\">\n",
              "  <thead>\n",
              "    <tr>\n",
              "      <th id=\"T_59974_level0_col0\" class=\"col_heading level0 col0\" >firstname</th>\n",
              "      <th id=\"T_59974_level0_col1\" class=\"col_heading level0 col1\" >lastname</th>\n",
              "      <th id=\"T_59974_level0_col2\" class=\"col_heading level0 col2\" >salary</th>\n",
              "    </tr>\n",
              "  </thead>\n",
              "  <tbody>\n",
              "    <tr>\n",
              "      <td id=\"T_59974_row0_col0\" class=\"data row0 col0\" >Madhuri</td>\n",
              "      <td id=\"T_59974_row0_col1\" class=\"data row0 col1\" >Dikshit</td>\n",
              "      <td id=\"T_59974_row0_col2\" class=\"data row0 col2\" >10000</td>\n",
              "    </tr>\n",
              "    <tr>\n",
              "      <td id=\"T_59974_row1_col0\" class=\"data row1 col0\" >Mahender</td>\n",
              "      <td id=\"T_59974_row1_col1\" class=\"data row1 col1\" >Dhoni</td>\n",
              "      <td id=\"T_59974_row1_col2\" class=\"data row1 col2\" >9000</td>\n",
              "    </tr>\n",
              "    <tr>\n",
              "      <td id=\"T_59974_row2_col0\" class=\"data row2 col0\" >Rahul</td>\n",
              "      <td id=\"T_59974_row2_col1\" class=\"data row2 col1\" >Dravid</td>\n",
              "      <td id=\"T_59974_row2_col2\" class=\"data row2 col2\" >40000</td>\n",
              "    </tr>\n",
              "    <tr>\n",
              "      <td id=\"T_59974_row3_col0\" class=\"data row3 col0\" >Jagmohan</td>\n",
              "      <td id=\"T_59974_row3_col1\" class=\"data row3 col1\" >Dalmia</td>\n",
              "      <td id=\"T_59974_row3_col2\" class=\"data row3 col2\" >12000</td>\n",
              "    </tr>\n",
              "  </tbody>\n",
              "</table>\n"
            ]
          },
          "metadata": {},
          "execution_count": 20
        }
      ]
    },
    {
      "cell_type": "code",
      "source": [
        "runSelect(\"select firstname, lastname, joindate from empl where lastname like '____i_'\")"
      ],
      "metadata": {
        "colab": {
          "base_uri": "https://localhost:8080/",
          "height": 112
        },
        "id": "xxImEDlKbm4U",
        "outputId": "07fc0802-1f8e-4eb1-a8af-4fe5fd651dfd"
      },
      "execution_count": 21,
      "outputs": [
        {
          "output_type": "execute_result",
          "data": {
            "text/plain": [
              "<pandas.io.formats.style.Styler at 0x7d0fba606b30>"
            ],
            "text/html": [
              "<style type=\"text/css\">\n",
              "</style>\n",
              "<table id=\"T_ba0d4\" class=\"dataframe\">\n",
              "  <thead>\n",
              "    <tr>\n",
              "      <th id=\"T_ba0d4_level0_col0\" class=\"col_heading level0 col0\" >firstname</th>\n",
              "      <th id=\"T_ba0d4_level0_col1\" class=\"col_heading level0 col1\" >lastname</th>\n",
              "      <th id=\"T_ba0d4_level0_col2\" class=\"col_heading level0 col2\" >joindate</th>\n",
              "    </tr>\n",
              "  </thead>\n",
              "  <tbody>\n",
              "    <tr>\n",
              "      <td id=\"T_ba0d4_row0_col0\" class=\"data row0 col0\" >Rahul</td>\n",
              "      <td id=\"T_ba0d4_row0_col1\" class=\"data row0 col1\" >Dravid</td>\n",
              "      <td id=\"T_ba0d4_row0_col2\" class=\"data row0 col2\" >2000-06-04</td>\n",
              "    </tr>\n",
              "    <tr>\n",
              "      <td id=\"T_ba0d4_row1_col0\" class=\"data row1 col0\" >Jagmohan</td>\n",
              "      <td id=\"T_ba0d4_row1_col1\" class=\"data row1 col1\" >Dalmia</td>\n",
              "      <td id=\"T_ba0d4_row1_col2\" class=\"data row1 col2\" >2001-07-01</td>\n",
              "    </tr>\n",
              "  </tbody>\n",
              "</table>\n"
            ]
          },
          "metadata": {},
          "execution_count": 21
        }
      ]
    },
    {
      "cell_type": "code",
      "source": [
        "runSelect(\"select firstname, lastname, jobdesc from empl where lastname like '____i%'\")"
      ],
      "metadata": {
        "colab": {
          "base_uri": "https://localhost:8080/",
          "height": 143
        },
        "id": "pL7VPLo4b2g3",
        "outputId": "de65d453-81f6-4e76-ddcb-289bb9b9fabc"
      },
      "execution_count": 22,
      "outputs": [
        {
          "output_type": "execute_result",
          "data": {
            "text/plain": [
              "<pandas.io.formats.style.Styler at 0x7d0fba6079a0>"
            ],
            "text/html": [
              "<style type=\"text/css\">\n",
              "</style>\n",
              "<table id=\"T_7a6e3\" class=\"dataframe\">\n",
              "  <thead>\n",
              "    <tr>\n",
              "      <th id=\"T_7a6e3_level0_col0\" class=\"col_heading level0 col0\" >firstname</th>\n",
              "      <th id=\"T_7a6e3_level0_col1\" class=\"col_heading level0 col1\" >lastname</th>\n",
              "      <th id=\"T_7a6e3_level0_col2\" class=\"col_heading level0 col2\" >jobdesc</th>\n",
              "    </tr>\n",
              "  </thead>\n",
              "  <tbody>\n",
              "    <tr>\n",
              "      <td id=\"T_7a6e3_row0_col0\" class=\"data row0 col0\" >Mahender</td>\n",
              "      <td id=\"T_7a6e3_row0_col1\" class=\"data row0 col1\" >Dhoni</td>\n",
              "      <td id=\"T_7a6e3_row0_col2\" class=\"data row0 col2\" >Clerk</td>\n",
              "    </tr>\n",
              "    <tr>\n",
              "      <td id=\"T_7a6e3_row1_col0\" class=\"data row1 col0\" >Rahul</td>\n",
              "      <td id=\"T_7a6e3_row1_col1\" class=\"data row1 col1\" >Dravid</td>\n",
              "      <td id=\"T_7a6e3_row1_col2\" class=\"data row1 col2\" >Sr Manager</td>\n",
              "    </tr>\n",
              "    <tr>\n",
              "      <td id=\"T_7a6e3_row2_col0\" class=\"data row2 col0\" >Jagmohan</td>\n",
              "      <td id=\"T_7a6e3_row2_col1\" class=\"data row2 col1\" >Dalmia</td>\n",
              "      <td id=\"T_7a6e3_row2_col2\" class=\"data row2 col2\" >Clerk</td>\n",
              "    </tr>\n",
              "  </tbody>\n",
              "</table>\n"
            ]
          },
          "metadata": {},
          "execution_count": 22
        }
      ]
    },
    {
      "cell_type": "markdown",
      "source": [
        "## Between"
      ],
      "metadata": {
        "id": "qw2h8Vtvey2R"
      }
    },
    {
      "cell_type": "code",
      "source": [
        "runSelect(\"select firstname, lastname, salary from empl where salary between 10000 and 20000\")"
      ],
      "metadata": {
        "colab": {
          "base_uri": "https://localhost:8080/",
          "height": 175
        },
        "id": "sI_qlRdXe7S8",
        "outputId": "95bf7d7a-c554-4e10-beb6-4360d70a2816"
      },
      "execution_count": 23,
      "outputs": [
        {
          "output_type": "execute_result",
          "data": {
            "text/plain": [
              "<pandas.io.formats.style.Styler at 0x7d0fe4ee9a50>"
            ],
            "text/html": [
              "<style type=\"text/css\">\n",
              "</style>\n",
              "<table id=\"T_cdb8b\" class=\"dataframe\">\n",
              "  <thead>\n",
              "    <tr>\n",
              "      <th id=\"T_cdb8b_level0_col0\" class=\"col_heading level0 col0\" >firstname</th>\n",
              "      <th id=\"T_cdb8b_level0_col1\" class=\"col_heading level0 col1\" >lastname</th>\n",
              "      <th id=\"T_cdb8b_level0_col2\" class=\"col_heading level0 col2\" >salary</th>\n",
              "    </tr>\n",
              "  </thead>\n",
              "  <tbody>\n",
              "    <tr>\n",
              "      <td id=\"T_cdb8b_row0_col0\" class=\"data row0 col0\" >Madhuri</td>\n",
              "      <td id=\"T_cdb8b_row0_col1\" class=\"data row0 col1\" >Dikshit</td>\n",
              "      <td id=\"T_cdb8b_row0_col2\" class=\"data row0 col2\" >10000</td>\n",
              "    </tr>\n",
              "    <tr>\n",
              "      <td id=\"T_cdb8b_row1_col0\" class=\"data row1 col0\" >Virender</td>\n",
              "      <td id=\"T_cdb8b_row1_col1\" class=\"data row1 col1\" >Sehwag</td>\n",
              "      <td id=\"T_cdb8b_row1_col2\" class=\"data row1 col2\" >15000</td>\n",
              "    </tr>\n",
              "    <tr>\n",
              "      <td id=\"T_cdb8b_row2_col0\" class=\"data row2 col0\" >Jagmohan</td>\n",
              "      <td id=\"T_cdb8b_row2_col1\" class=\"data row2 col1\" >Dalmia</td>\n",
              "      <td id=\"T_cdb8b_row2_col2\" class=\"data row2 col2\" >12000</td>\n",
              "    </tr>\n",
              "    <tr>\n",
              "      <td id=\"T_cdb8b_row3_col0\" class=\"data row3 col0\" >Sourav</td>\n",
              "      <td id=\"T_cdb8b_row3_col1\" class=\"data row3 col1\" >Ganguly</td>\n",
              "      <td id=\"T_cdb8b_row3_col2\" class=\"data row3 col2\" >20000</td>\n",
              "    </tr>\n",
              "  </tbody>\n",
              "</table>\n"
            ]
          },
          "metadata": {},
          "execution_count": 23
        }
      ]
    },
    {
      "cell_type": "code",
      "source": [
        "runSelect(\"select firstname, lastname, joindate from empl where joindate between '2004-01-01' and '2005-01-01'\")"
      ],
      "metadata": {
        "colab": {
          "base_uri": "https://localhost:8080/",
          "height": 112
        },
        "id": "b_mWyFTnfIEy",
        "outputId": "71586528-ac87-4197-ec6c-be39350be72f"
      },
      "execution_count": 24,
      "outputs": [
        {
          "output_type": "execute_result",
          "data": {
            "text/plain": [
              "<pandas.io.formats.style.Styler at 0x7d0fe4e3eb90>"
            ],
            "text/html": [
              "<style type=\"text/css\">\n",
              "</style>\n",
              "<table id=\"T_8aff1\" class=\"dataframe\">\n",
              "  <thead>\n",
              "    <tr>\n",
              "      <th id=\"T_8aff1_level0_col0\" class=\"col_heading level0 col0\" >firstname</th>\n",
              "      <th id=\"T_8aff1_level0_col1\" class=\"col_heading level0 col1\" >lastname</th>\n",
              "      <th id=\"T_8aff1_level0_col2\" class=\"col_heading level0 col2\" >joindate</th>\n",
              "    </tr>\n",
              "  </thead>\n",
              "  <tbody>\n",
              "    <tr>\n",
              "      <td id=\"T_8aff1_row0_col0\" class=\"data row0 col0\" >Shahrukh</td>\n",
              "      <td id=\"T_8aff1_row0_col1\" class=\"data row0 col1\" >Khan</td>\n",
              "      <td id=\"T_8aff1_row0_col2\" class=\"data row0 col2\" >2004-01-03</td>\n",
              "    </tr>\n",
              "    <tr>\n",
              "      <td id=\"T_8aff1_row1_col0\" class=\"data row1 col0\" >Mahender</td>\n",
              "      <td id=\"T_8aff1_row1_col1\" class=\"data row1 col1\" >Dhoni</td>\n",
              "      <td id=\"T_8aff1_row1_col2\" class=\"data row1 col2\" >2004-10-09</td>\n",
              "    </tr>\n",
              "  </tbody>\n",
              "</table>\n"
            ]
          },
          "metadata": {},
          "execution_count": 24
        }
      ]
    },
    {
      "cell_type": "code",
      "source": [
        "runSelect(\"select firstname, lastname, joindate from empl where lastname between 'Dho' and 'Kha'\")"
      ],
      "metadata": {
        "colab": {
          "base_uri": "https://localhost:8080/",
          "height": 238
        },
        "id": "qXs9AeS2fwCS",
        "outputId": "ef7c4dbd-d33c-4f83-82ab-af961b97898a"
      },
      "execution_count": 25,
      "outputs": [
        {
          "output_type": "execute_result",
          "data": {
            "text/plain": [
              "<pandas.io.formats.style.Styler at 0x7d0fba5cfa30>"
            ],
            "text/html": [
              "<style type=\"text/css\">\n",
              "</style>\n",
              "<table id=\"T_21195\" class=\"dataframe\">\n",
              "  <thead>\n",
              "    <tr>\n",
              "      <th id=\"T_21195_level0_col0\" class=\"col_heading level0 col0\" >firstname</th>\n",
              "      <th id=\"T_21195_level0_col1\" class=\"col_heading level0 col1\" >lastname</th>\n",
              "      <th id=\"T_21195_level0_col2\" class=\"col_heading level0 col2\" >joindate</th>\n",
              "    </tr>\n",
              "  </thead>\n",
              "  <tbody>\n",
              "    <tr>\n",
              "      <td id=\"T_21195_row0_col0\" class=\"data row0 col0\" >Madhuri</td>\n",
              "      <td id=\"T_21195_row0_col1\" class=\"data row0 col1\" >Dikshit</td>\n",
              "      <td id=\"T_21195_row0_col2\" class=\"data row0 col2\" >2002-04-04</td>\n",
              "    </tr>\n",
              "    <tr>\n",
              "      <td id=\"T_21195_row1_col0\" class=\"data row1 col0\" >Mahender</td>\n",
              "      <td id=\"T_21195_row1_col1\" class=\"data row1 col1\" >Dhoni</td>\n",
              "      <td id=\"T_21195_row1_col2\" class=\"data row1 col2\" >2004-10-09</td>\n",
              "    </tr>\n",
              "    <tr>\n",
              "      <td id=\"T_21195_row2_col0\" class=\"data row2 col0\" >Rahul</td>\n",
              "      <td id=\"T_21195_row2_col1\" class=\"data row2 col1\" >Dravid</td>\n",
              "      <td id=\"T_21195_row2_col2\" class=\"data row2 col2\" >2000-06-04</td>\n",
              "    </tr>\n",
              "    <tr>\n",
              "      <td id=\"T_21195_row3_col0\" class=\"data row3 col0\" >Sourav</td>\n",
              "      <td id=\"T_21195_row3_col1\" class=\"data row3 col1\" >Ganguly</td>\n",
              "      <td id=\"T_21195_row3_col2\" class=\"data row3 col2\" >2002-01-01</td>\n",
              "    </tr>\n",
              "    <tr>\n",
              "      <td id=\"T_21195_row4_col0\" class=\"data row4 col0\" >Rekha</td>\n",
              "      <td id=\"T_21195_row4_col1\" class=\"data row4 col1\" >Ganesan</td>\n",
              "      <td id=\"T_21195_row4_col2\" class=\"data row4 col2\" >2002-10-10</td>\n",
              "    </tr>\n",
              "    <tr>\n",
              "      <td id=\"T_21195_row5_col0\" class=\"data row5 col0\" >Narayan</td>\n",
              "      <td id=\"T_21195_row5_col1\" class=\"data row5 col1\" >Karthikeyan</td>\n",
              "      <td id=\"T_21195_row5_col2\" class=\"data row5 col2\" >2005-12-04</td>\n",
              "    </tr>\n",
              "  </tbody>\n",
              "</table>\n"
            ]
          },
          "metadata": {},
          "execution_count": 25
        }
      ]
    },
    {
      "cell_type": "markdown",
      "source": [
        "## IN"
      ],
      "metadata": {
        "id": "azhy0TQLiLy-"
      }
    },
    {
      "cell_type": "code",
      "source": [
        "runSelect(\"select firstname, lastname, deptid from empl where deptid in ('30','20','70')\")"
      ],
      "metadata": {
        "colab": {
          "base_uri": "https://localhost:8080/",
          "height": 269
        },
        "id": "UyBE-FuoibSZ",
        "outputId": "715e9add-3f48-45f8-82e7-f6dd6a793df6"
      },
      "execution_count": 26,
      "outputs": [
        {
          "output_type": "execute_result",
          "data": {
            "text/plain": [
              "<pandas.io.formats.style.Styler at 0x7d0fba6076a0>"
            ],
            "text/html": [
              "<style type=\"text/css\">\n",
              "</style>\n",
              "<table id=\"T_67ee0\" class=\"dataframe\">\n",
              "  <thead>\n",
              "    <tr>\n",
              "      <th id=\"T_67ee0_level0_col0\" class=\"col_heading level0 col0\" >firstname</th>\n",
              "      <th id=\"T_67ee0_level0_col1\" class=\"col_heading level0 col1\" >lastname</th>\n",
              "      <th id=\"T_67ee0_level0_col2\" class=\"col_heading level0 col2\" >deptid</th>\n",
              "    </tr>\n",
              "  </thead>\n",
              "  <tbody>\n",
              "    <tr>\n",
              "      <td id=\"T_67ee0_row0_col0\" class=\"data row0 col0\" >Madhuri</td>\n",
              "      <td id=\"T_67ee0_row0_col1\" class=\"data row0 col1\" >Dikshit</td>\n",
              "      <td id=\"T_67ee0_row0_col2\" class=\"data row0 col2\" >20</td>\n",
              "    </tr>\n",
              "    <tr>\n",
              "      <td id=\"T_67ee0_row1_col0\" class=\"data row1 col0\" >Shahrukh</td>\n",
              "      <td id=\"T_67ee0_row1_col1\" class=\"data row1 col1\" >Khan</td>\n",
              "      <td id=\"T_67ee0_row1_col2\" class=\"data row1 col2\" >20</td>\n",
              "    </tr>\n",
              "    <tr>\n",
              "      <td id=\"T_67ee0_row2_col0\" class=\"data row2 col0\" >Virender</td>\n",
              "      <td id=\"T_67ee0_row2_col1\" class=\"data row2 col1\" >Sehwag</td>\n",
              "      <td id=\"T_67ee0_row2_col2\" class=\"data row2 col2\" >20</td>\n",
              "    </tr>\n",
              "    <tr>\n",
              "      <td id=\"T_67ee0_row3_col0\" class=\"data row3 col0\" >Rahul</td>\n",
              "      <td id=\"T_67ee0_row3_col1\" class=\"data row3 col1\" >Dravid</td>\n",
              "      <td id=\"T_67ee0_row3_col2\" class=\"data row3 col2\" >30</td>\n",
              "    </tr>\n",
              "    <tr>\n",
              "      <td id=\"T_67ee0_row4_col0\" class=\"data row4 col0\" >Jagmohan</td>\n",
              "      <td id=\"T_67ee0_row4_col1\" class=\"data row4 col1\" >Dalmia</td>\n",
              "      <td id=\"T_67ee0_row4_col2\" class=\"data row4 col2\" >30</td>\n",
              "    </tr>\n",
              "    <tr>\n",
              "      <td id=\"T_67ee0_row5_col0\" class=\"data row5 col0\" >Chettri</td>\n",
              "      <td id=\"T_67ee0_row5_col1\" class=\"data row5 col1\" >Sunil</td>\n",
              "      <td id=\"T_67ee0_row5_col2\" class=\"data row5 col2\" >70</td>\n",
              "    </tr>\n",
              "    <tr>\n",
              "      <td id=\"T_67ee0_row6_col0\" class=\"data row6 col0\" >Sania</td>\n",
              "      <td id=\"T_67ee0_row6_col1\" class=\"data row6 col1\" >Mirza</td>\n",
              "      <td id=\"T_67ee0_row6_col2\" class=\"data row6 col2\" >30</td>\n",
              "    </tr>\n",
              "  </tbody>\n",
              "</table>\n"
            ]
          },
          "metadata": {},
          "execution_count": 26
        }
      ]
    },
    {
      "cell_type": "code",
      "source": [
        "runSelect(\"select firstname, lastname, salary from empl where firstname in ('Madhuri','Shahrukh','Virender')\")"
      ],
      "metadata": {
        "colab": {
          "base_uri": "https://localhost:8080/",
          "height": 143
        },
        "id": "9qTEO-OuiN3A",
        "outputId": "d980576f-de19-4af7-9c0f-59943a243a67"
      },
      "execution_count": 27,
      "outputs": [
        {
          "output_type": "execute_result",
          "data": {
            "text/plain": [
              "<pandas.io.formats.style.Styler at 0x7d0fba5cfee0>"
            ],
            "text/html": [
              "<style type=\"text/css\">\n",
              "</style>\n",
              "<table id=\"T_a666d\" class=\"dataframe\">\n",
              "  <thead>\n",
              "    <tr>\n",
              "      <th id=\"T_a666d_level0_col0\" class=\"col_heading level0 col0\" >firstname</th>\n",
              "      <th id=\"T_a666d_level0_col1\" class=\"col_heading level0 col1\" >lastname</th>\n",
              "      <th id=\"T_a666d_level0_col2\" class=\"col_heading level0 col2\" >salary</th>\n",
              "    </tr>\n",
              "  </thead>\n",
              "  <tbody>\n",
              "    <tr>\n",
              "      <td id=\"T_a666d_row0_col0\" class=\"data row0 col0\" >Madhuri</td>\n",
              "      <td id=\"T_a666d_row0_col1\" class=\"data row0 col1\" >Dikshit</td>\n",
              "      <td id=\"T_a666d_row0_col2\" class=\"data row0 col2\" >10000</td>\n",
              "    </tr>\n",
              "    <tr>\n",
              "      <td id=\"T_a666d_row1_col0\" class=\"data row1 col0\" >Shahrukh</td>\n",
              "      <td id=\"T_a666d_row1_col1\" class=\"data row1 col1\" >Khan</td>\n",
              "      <td id=\"T_a666d_row1_col2\" class=\"data row1 col2\" >30000</td>\n",
              "    </tr>\n",
              "    <tr>\n",
              "      <td id=\"T_a666d_row2_col0\" class=\"data row2 col0\" >Virender</td>\n",
              "      <td id=\"T_a666d_row2_col1\" class=\"data row2 col1\" >Sehwag</td>\n",
              "      <td id=\"T_a666d_row2_col2\" class=\"data row2 col2\" >15000</td>\n",
              "    </tr>\n",
              "  </tbody>\n",
              "</table>\n"
            ]
          },
          "metadata": {},
          "execution_count": 27
        }
      ]
    },
    {
      "cell_type": "markdown",
      "source": [
        "## Order by"
      ],
      "metadata": {
        "id": "vlOCT_zAkzMb"
      }
    },
    {
      "cell_type": "code",
      "source": [
        "runSelect(\"select firstname, lastname, joindate from empl where firstname in ('Madhuri','Shahrukh','Virender') order by joindate\")"
      ],
      "metadata": {
        "colab": {
          "base_uri": "https://localhost:8080/",
          "height": 143
        },
        "id": "WidoGzLVk1in",
        "outputId": "8d4a3046-76d7-4bbd-a042-fae9b0c1f207"
      },
      "execution_count": 28,
      "outputs": [
        {
          "output_type": "execute_result",
          "data": {
            "text/plain": [
              "<pandas.io.formats.style.Styler at 0x7d0fba604550>"
            ],
            "text/html": [
              "<style type=\"text/css\">\n",
              "</style>\n",
              "<table id=\"T_18263\" class=\"dataframe\">\n",
              "  <thead>\n",
              "    <tr>\n",
              "      <th id=\"T_18263_level0_col0\" class=\"col_heading level0 col0\" >firstname</th>\n",
              "      <th id=\"T_18263_level0_col1\" class=\"col_heading level0 col1\" >lastname</th>\n",
              "      <th id=\"T_18263_level0_col2\" class=\"col_heading level0 col2\" >joindate</th>\n",
              "    </tr>\n",
              "  </thead>\n",
              "  <tbody>\n",
              "    <tr>\n",
              "      <td id=\"T_18263_row0_col0\" class=\"data row0 col0\" >Madhuri</td>\n",
              "      <td id=\"T_18263_row0_col1\" class=\"data row0 col1\" >Dikshit</td>\n",
              "      <td id=\"T_18263_row0_col2\" class=\"data row0 col2\" >2002-04-04</td>\n",
              "    </tr>\n",
              "    <tr>\n",
              "      <td id=\"T_18263_row1_col0\" class=\"data row1 col0\" >Shahrukh</td>\n",
              "      <td id=\"T_18263_row1_col1\" class=\"data row1 col1\" >Khan</td>\n",
              "      <td id=\"T_18263_row1_col2\" class=\"data row1 col2\" >2004-01-03</td>\n",
              "    </tr>\n",
              "    <tr>\n",
              "      <td id=\"T_18263_row2_col0\" class=\"data row2 col0\" >Virender</td>\n",
              "      <td id=\"T_18263_row2_col1\" class=\"data row2 col1\" >Sehwag</td>\n",
              "      <td id=\"T_18263_row2_col2\" class=\"data row2 col2\" >2005-01-02</td>\n",
              "    </tr>\n",
              "  </tbody>\n",
              "</table>\n"
            ]
          },
          "metadata": {},
          "execution_count": 28
        }
      ]
    },
    {
      "cell_type": "code",
      "source": [
        "runSelect(\"select firstname, lastname, jobdesc, salary, deptid from empl where deptid = '10' order by salary desc\")"
      ],
      "metadata": {
        "colab": {
          "base_uri": "https://localhost:8080/",
          "height": 143
        },
        "id": "Iq_7jWr-lRlO",
        "outputId": "52d87972-94b9-4829-b5b0-82261799daae"
      },
      "execution_count": 29,
      "outputs": [
        {
          "output_type": "execute_result",
          "data": {
            "text/plain": [
              "<pandas.io.formats.style.Styler at 0x7d0fba626ef0>"
            ],
            "text/html": [
              "<style type=\"text/css\">\n",
              "</style>\n",
              "<table id=\"T_dda06\" class=\"dataframe\">\n",
              "  <thead>\n",
              "    <tr>\n",
              "      <th id=\"T_dda06_level0_col0\" class=\"col_heading level0 col0\" >firstname</th>\n",
              "      <th id=\"T_dda06_level0_col1\" class=\"col_heading level0 col1\" >lastname</th>\n",
              "      <th id=\"T_dda06_level0_col2\" class=\"col_heading level0 col2\" >jobdesc</th>\n",
              "      <th id=\"T_dda06_level0_col3\" class=\"col_heading level0 col3\" >salary</th>\n",
              "      <th id=\"T_dda06_level0_col4\" class=\"col_heading level0 col4\" >deptid</th>\n",
              "    </tr>\n",
              "  </thead>\n",
              "  <tbody>\n",
              "    <tr>\n",
              "      <td id=\"T_dda06_row0_col0\" class=\"data row0 col0\" >Rekha</td>\n",
              "      <td id=\"T_dda06_row0_col1\" class=\"data row0 col1\" >Ganesan</td>\n",
              "      <td id=\"T_dda06_row0_col2\" class=\"data row0 col2\" >Director</td>\n",
              "      <td id=\"T_dda06_row0_col3\" class=\"data row0 col3\" >60000</td>\n",
              "      <td id=\"T_dda06_row0_col4\" class=\"data row0 col4\" >10</td>\n",
              "    </tr>\n",
              "    <tr>\n",
              "      <td id=\"T_dda06_row1_col0\" class=\"data row1 col0\" >Amitabh</td>\n",
              "      <td id=\"T_dda06_row1_col1\" class=\"data row1 col1\" >Bacchan</td>\n",
              "      <td id=\"T_dda06_row1_col2\" class=\"data row1 col2\" >Executive</td>\n",
              "      <td id=\"T_dda06_row1_col3\" class=\"data row1 col3\" >50000</td>\n",
              "      <td id=\"T_dda06_row1_col4\" class=\"data row1 col4\" >10</td>\n",
              "    </tr>\n",
              "    <tr>\n",
              "      <td id=\"T_dda06_row2_col0\" class=\"data row2 col0\" >Narayan</td>\n",
              "      <td id=\"T_dda06_row2_col1\" class=\"data row2 col1\" >Karthikeyan</td>\n",
              "      <td id=\"T_dda06_row2_col2\" class=\"data row2 col2\" >Secretary</td>\n",
              "      <td id=\"T_dda06_row2_col3\" class=\"data row2 col3\" >40000</td>\n",
              "      <td id=\"T_dda06_row2_col4\" class=\"data row2 col4\" >10</td>\n",
              "    </tr>\n",
              "  </tbody>\n",
              "</table>\n"
            ]
          },
          "metadata": {},
          "execution_count": 29
        }
      ]
    },
    {
      "cell_type": "markdown",
      "source": [
        "## Logical AND | OR"
      ],
      "metadata": {
        "id": "-JDEmZtsm0o1"
      }
    },
    {
      "cell_type": "code",
      "source": [
        "runSelect(\"select lastname, jobdesc, salary, deptid from empl where deptid = '20'\")"
      ],
      "metadata": {
        "colab": {
          "base_uri": "https://localhost:8080/",
          "height": 143
        },
        "id": "rli0DBhIm54M",
        "outputId": "24c2116f-feee-49ff-9604-aa2d24d92416"
      },
      "execution_count": 30,
      "outputs": [
        {
          "output_type": "execute_result",
          "data": {
            "text/plain": [
              "<pandas.io.formats.style.Styler at 0x7d0fba605b70>"
            ],
            "text/html": [
              "<style type=\"text/css\">\n",
              "</style>\n",
              "<table id=\"T_27914\" class=\"dataframe\">\n",
              "  <thead>\n",
              "    <tr>\n",
              "      <th id=\"T_27914_level0_col0\" class=\"col_heading level0 col0\" >lastname</th>\n",
              "      <th id=\"T_27914_level0_col1\" class=\"col_heading level0 col1\" >jobdesc</th>\n",
              "      <th id=\"T_27914_level0_col2\" class=\"col_heading level0 col2\" >salary</th>\n",
              "      <th id=\"T_27914_level0_col3\" class=\"col_heading level0 col3\" >deptid</th>\n",
              "    </tr>\n",
              "  </thead>\n",
              "  <tbody>\n",
              "    <tr>\n",
              "      <td id=\"T_27914_row0_col0\" class=\"data row0 col0\" >Dikshit</td>\n",
              "      <td id=\"T_27914_row0_col1\" class=\"data row0 col1\" >Clerk</td>\n",
              "      <td id=\"T_27914_row0_col2\" class=\"data row0 col2\" >10000</td>\n",
              "      <td id=\"T_27914_row0_col3\" class=\"data row0 col3\" >20</td>\n",
              "    </tr>\n",
              "    <tr>\n",
              "      <td id=\"T_27914_row1_col0\" class=\"data row1 col0\" >Khan</td>\n",
              "      <td id=\"T_27914_row1_col1\" class=\"data row1 col1\" >Manager</td>\n",
              "      <td id=\"T_27914_row1_col2\" class=\"data row1 col2\" >30000</td>\n",
              "      <td id=\"T_27914_row1_col3\" class=\"data row1 col3\" >20</td>\n",
              "    </tr>\n",
              "    <tr>\n",
              "      <td id=\"T_27914_row2_col0\" class=\"data row2 col0\" >Sehwag</td>\n",
              "      <td id=\"T_27914_row2_col1\" class=\"data row2 col1\" >Cus_Rep</td>\n",
              "      <td id=\"T_27914_row2_col2\" class=\"data row2 col2\" >15000</td>\n",
              "      <td id=\"T_27914_row2_col3\" class=\"data row2 col3\" >20</td>\n",
              "    </tr>\n",
              "  </tbody>\n",
              "</table>\n"
            ]
          },
          "metadata": {},
          "execution_count": 30
        }
      ]
    },
    {
      "cell_type": "code",
      "source": [
        "runSelect(\"select lastname, jobdesc, salary, deptid from empl where deptid = '20' and salary > 10000\")"
      ],
      "metadata": {
        "colab": {
          "base_uri": "https://localhost:8080/",
          "height": 112
        },
        "id": "wHIJoUGqnuwa",
        "outputId": "c92ec6cd-32da-4f89-b20d-ea3a0ef1c574"
      },
      "execution_count": 31,
      "outputs": [
        {
          "output_type": "execute_result",
          "data": {
            "text/plain": [
              "<pandas.io.formats.style.Styler at 0x7d0fba606260>"
            ],
            "text/html": [
              "<style type=\"text/css\">\n",
              "</style>\n",
              "<table id=\"T_1acfc\" class=\"dataframe\">\n",
              "  <thead>\n",
              "    <tr>\n",
              "      <th id=\"T_1acfc_level0_col0\" class=\"col_heading level0 col0\" >lastname</th>\n",
              "      <th id=\"T_1acfc_level0_col1\" class=\"col_heading level0 col1\" >jobdesc</th>\n",
              "      <th id=\"T_1acfc_level0_col2\" class=\"col_heading level0 col2\" >salary</th>\n",
              "      <th id=\"T_1acfc_level0_col3\" class=\"col_heading level0 col3\" >deptid</th>\n",
              "    </tr>\n",
              "  </thead>\n",
              "  <tbody>\n",
              "    <tr>\n",
              "      <td id=\"T_1acfc_row0_col0\" class=\"data row0 col0\" >Khan</td>\n",
              "      <td id=\"T_1acfc_row0_col1\" class=\"data row0 col1\" >Manager</td>\n",
              "      <td id=\"T_1acfc_row0_col2\" class=\"data row0 col2\" >30000</td>\n",
              "      <td id=\"T_1acfc_row0_col3\" class=\"data row0 col3\" >20</td>\n",
              "    </tr>\n",
              "    <tr>\n",
              "      <td id=\"T_1acfc_row1_col0\" class=\"data row1 col0\" >Sehwag</td>\n",
              "      <td id=\"T_1acfc_row1_col1\" class=\"data row1 col1\" >Cus_Rep</td>\n",
              "      <td id=\"T_1acfc_row1_col2\" class=\"data row1 col2\" >15000</td>\n",
              "      <td id=\"T_1acfc_row1_col3\" class=\"data row1 col3\" >20</td>\n",
              "    </tr>\n",
              "  </tbody>\n",
              "</table>\n"
            ]
          },
          "metadata": {},
          "execution_count": 31
        }
      ]
    },
    {
      "cell_type": "code",
      "source": [
        "runSelect(\"select lastname, jobdesc, salary, deptid from empl where deptid = '20' and salary > 10000 and jobdesc = 'Clerk'\")"
      ],
      "metadata": {
        "colab": {
          "base_uri": "https://localhost:8080/"
        },
        "id": "fnB8p8-EnzH2",
        "outputId": "2c5e99e5-22ea-4c93-d006-edea2a9ff9da"
      },
      "execution_count": 32,
      "outputs": [
        {
          "output_type": "stream",
          "name": "stdout",
          "text": [
            "no records found\n"
          ]
        }
      ]
    },
    {
      "cell_type": "code",
      "source": [
        "runSelect(\"select lastname, jobdesc, deptid from empl where deptid = '70'\")"
      ],
      "metadata": {
        "colab": {
          "base_uri": "https://localhost:8080/",
          "height": 81
        },
        "id": "uEKUIgOMqtLw",
        "outputId": "cd4a54cf-4e64-491b-c369-7300438f00e0"
      },
      "execution_count": 33,
      "outputs": [
        {
          "output_type": "execute_result",
          "data": {
            "text/plain": [
              "<pandas.io.formats.style.Styler at 0x7d0fba627040>"
            ],
            "text/html": [
              "<style type=\"text/css\">\n",
              "</style>\n",
              "<table id=\"T_65d8b\" class=\"dataframe\">\n",
              "  <thead>\n",
              "    <tr>\n",
              "      <th id=\"T_65d8b_level0_col0\" class=\"col_heading level0 col0\" >lastname</th>\n",
              "      <th id=\"T_65d8b_level0_col1\" class=\"col_heading level0 col1\" >jobdesc</th>\n",
              "      <th id=\"T_65d8b_level0_col2\" class=\"col_heading level0 col2\" >deptid</th>\n",
              "    </tr>\n",
              "  </thead>\n",
              "  <tbody>\n",
              "    <tr>\n",
              "      <td id=\"T_65d8b_row0_col0\" class=\"data row0 col0\" >Sunil</td>\n",
              "      <td id=\"T_65d8b_row0_col1\" class=\"data row0 col1\" >Dy Manager</td>\n",
              "      <td id=\"T_65d8b_row0_col2\" class=\"data row0 col2\" >70</td>\n",
              "    </tr>\n",
              "  </tbody>\n",
              "</table>\n"
            ]
          },
          "metadata": {},
          "execution_count": 33
        }
      ]
    },
    {
      "cell_type": "code",
      "source": [
        "runSelect(\"select lastname, jobdesc, deptid from empl where deptid = '70' or jobdesc like '%Manager'\")"
      ],
      "metadata": {
        "colab": {
          "base_uri": "https://localhost:8080/",
          "height": 175
        },
        "id": "Ne0eLRV3qyTn",
        "outputId": "2dc4db52-f91a-48c7-c874-1366a5ecd1fa"
      },
      "execution_count": 34,
      "outputs": [
        {
          "output_type": "execute_result",
          "data": {
            "text/plain": [
              "<pandas.io.formats.style.Styler at 0x7d0fba627790>"
            ],
            "text/html": [
              "<style type=\"text/css\">\n",
              "</style>\n",
              "<table id=\"T_f5ab8\" class=\"dataframe\">\n",
              "  <thead>\n",
              "    <tr>\n",
              "      <th id=\"T_f5ab8_level0_col0\" class=\"col_heading level0 col0\" >lastname</th>\n",
              "      <th id=\"T_f5ab8_level0_col1\" class=\"col_heading level0 col1\" >jobdesc</th>\n",
              "      <th id=\"T_f5ab8_level0_col2\" class=\"col_heading level0 col2\" >deptid</th>\n",
              "    </tr>\n",
              "  </thead>\n",
              "  <tbody>\n",
              "    <tr>\n",
              "      <td id=\"T_f5ab8_row0_col0\" class=\"data row0 col0\" >Mukherjee</td>\n",
              "      <td id=\"T_f5ab8_row0_col1\" class=\"data row0 col1\" >Manager</td>\n",
              "      <td id=\"T_f5ab8_row0_col2\" class=\"data row0 col2\" >40</td>\n",
              "    </tr>\n",
              "    <tr>\n",
              "      <td id=\"T_f5ab8_row1_col0\" class=\"data row1 col0\" >Khan</td>\n",
              "      <td id=\"T_f5ab8_row1_col1\" class=\"data row1 col1\" >Manager</td>\n",
              "      <td id=\"T_f5ab8_row1_col2\" class=\"data row1 col2\" >20</td>\n",
              "    </tr>\n",
              "    <tr>\n",
              "      <td id=\"T_f5ab8_row2_col0\" class=\"data row2 col0\" >Dravid</td>\n",
              "      <td id=\"T_f5ab8_row2_col1\" class=\"data row2 col1\" >Sr Manager</td>\n",
              "      <td id=\"T_f5ab8_row2_col2\" class=\"data row2 col2\" >30</td>\n",
              "    </tr>\n",
              "    <tr>\n",
              "      <td id=\"T_f5ab8_row3_col0\" class=\"data row3 col0\" >Sunil</td>\n",
              "      <td id=\"T_f5ab8_row3_col1\" class=\"data row3 col1\" >Dy Manager</td>\n",
              "      <td id=\"T_f5ab8_row3_col2\" class=\"data row3 col2\" >70</td>\n",
              "    </tr>\n",
              "  </tbody>\n",
              "</table>\n"
            ]
          },
          "metadata": {},
          "execution_count": 34
        }
      ]
    },
    {
      "cell_type": "code",
      "source": [
        "runSelect(\"select lastname, jobdesc, deptid from empl where deptid = '70' or jobdesc like '%Manager' or lastname = 'Dikshit'\")"
      ],
      "metadata": {
        "colab": {
          "base_uri": "https://localhost:8080/",
          "height": 206
        },
        "id": "aR3eNz7xq8Xo",
        "outputId": "c6f01841-7c7c-45dd-9162-89213edf082a"
      },
      "execution_count": 35,
      "outputs": [
        {
          "output_type": "execute_result",
          "data": {
            "text/plain": [
              "<pandas.io.formats.style.Styler at 0x7d0fba626bf0>"
            ],
            "text/html": [
              "<style type=\"text/css\">\n",
              "</style>\n",
              "<table id=\"T_f62f5\" class=\"dataframe\">\n",
              "  <thead>\n",
              "    <tr>\n",
              "      <th id=\"T_f62f5_level0_col0\" class=\"col_heading level0 col0\" >lastname</th>\n",
              "      <th id=\"T_f62f5_level0_col1\" class=\"col_heading level0 col1\" >jobdesc</th>\n",
              "      <th id=\"T_f62f5_level0_col2\" class=\"col_heading level0 col2\" >deptid</th>\n",
              "    </tr>\n",
              "  </thead>\n",
              "  <tbody>\n",
              "    <tr>\n",
              "      <td id=\"T_f62f5_row0_col0\" class=\"data row0 col0\" >Mukherjee</td>\n",
              "      <td id=\"T_f62f5_row0_col1\" class=\"data row0 col1\" >Manager</td>\n",
              "      <td id=\"T_f62f5_row0_col2\" class=\"data row0 col2\" >40</td>\n",
              "    </tr>\n",
              "    <tr>\n",
              "      <td id=\"T_f62f5_row1_col0\" class=\"data row1 col0\" >Dikshit</td>\n",
              "      <td id=\"T_f62f5_row1_col1\" class=\"data row1 col1\" >Clerk</td>\n",
              "      <td id=\"T_f62f5_row1_col2\" class=\"data row1 col2\" >20</td>\n",
              "    </tr>\n",
              "    <tr>\n",
              "      <td id=\"T_f62f5_row2_col0\" class=\"data row2 col0\" >Khan</td>\n",
              "      <td id=\"T_f62f5_row2_col1\" class=\"data row2 col1\" >Manager</td>\n",
              "      <td id=\"T_f62f5_row2_col2\" class=\"data row2 col2\" >20</td>\n",
              "    </tr>\n",
              "    <tr>\n",
              "      <td id=\"T_f62f5_row3_col0\" class=\"data row3 col0\" >Dravid</td>\n",
              "      <td id=\"T_f62f5_row3_col1\" class=\"data row3 col1\" >Sr Manager</td>\n",
              "      <td id=\"T_f62f5_row3_col2\" class=\"data row3 col2\" >30</td>\n",
              "    </tr>\n",
              "    <tr>\n",
              "      <td id=\"T_f62f5_row4_col0\" class=\"data row4 col0\" >Sunil</td>\n",
              "      <td id=\"T_f62f5_row4_col1\" class=\"data row4 col1\" >Dy Manager</td>\n",
              "      <td id=\"T_f62f5_row4_col2\" class=\"data row4 col2\" >70</td>\n",
              "    </tr>\n",
              "  </tbody>\n",
              "</table>\n"
            ]
          },
          "metadata": {},
          "execution_count": 35
        }
      ]
    },
    {
      "cell_type": "code",
      "source": [
        "runSelect(\"select lastname, jobdesc, salary from empl where jobdesc = 'Cus_Rep' or jobdesc = 'Clerk' and salary < 16000\")"
      ],
      "metadata": {
        "colab": {
          "base_uri": "https://localhost:8080/",
          "height": 238
        },
        "id": "Ov0HErC0txm4",
        "outputId": "37ac656c-866d-4e85-cfc3-9859b647dfaa"
      },
      "execution_count": 36,
      "outputs": [
        {
          "output_type": "execute_result",
          "data": {
            "text/plain": [
              "<pandas.io.formats.style.Styler at 0x7d0fba670bb0>"
            ],
            "text/html": [
              "<style type=\"text/css\">\n",
              "</style>\n",
              "<table id=\"T_46465\" class=\"dataframe\">\n",
              "  <thead>\n",
              "    <tr>\n",
              "      <th id=\"T_46465_level0_col0\" class=\"col_heading level0 col0\" >lastname</th>\n",
              "      <th id=\"T_46465_level0_col1\" class=\"col_heading level0 col1\" >jobdesc</th>\n",
              "      <th id=\"T_46465_level0_col2\" class=\"col_heading level0 col2\" >salary</th>\n",
              "    </tr>\n",
              "  </thead>\n",
              "  <tbody>\n",
              "    <tr>\n",
              "      <td id=\"T_46465_row0_col0\" class=\"data row0 col0\" >Dikshit</td>\n",
              "      <td id=\"T_46465_row0_col1\" class=\"data row0 col1\" >Clerk</td>\n",
              "      <td id=\"T_46465_row0_col2\" class=\"data row0 col2\" >10000</td>\n",
              "    </tr>\n",
              "    <tr>\n",
              "      <td id=\"T_46465_row1_col0\" class=\"data row1 col0\" >Sehwag</td>\n",
              "      <td id=\"T_46465_row1_col1\" class=\"data row1 col1\" >Cus_Rep</td>\n",
              "      <td id=\"T_46465_row1_col2\" class=\"data row1 col2\" >15000</td>\n",
              "    </tr>\n",
              "    <tr>\n",
              "      <td id=\"T_46465_row2_col0\" class=\"data row2 col0\" >Dhoni</td>\n",
              "      <td id=\"T_46465_row2_col1\" class=\"data row2 col1\" >Clerk</td>\n",
              "      <td id=\"T_46465_row2_col2\" class=\"data row2 col2\" >9000</td>\n",
              "    </tr>\n",
              "    <tr>\n",
              "      <td id=\"T_46465_row3_col0\" class=\"data row3 col0\" >Dalmia</td>\n",
              "      <td id=\"T_46465_row3_col1\" class=\"data row3 col1\" >Clerk</td>\n",
              "      <td id=\"T_46465_row3_col2\" class=\"data row3 col2\" >12000</td>\n",
              "    </tr>\n",
              "    <tr>\n",
              "      <td id=\"T_46465_row4_col0\" class=\"data row4 col0\" >Ganguly</td>\n",
              "      <td id=\"T_46465_row4_col1\" class=\"data row4 col1\" >Cus_Rep</td>\n",
              "      <td id=\"T_46465_row4_col2\" class=\"data row4 col2\" >20000</td>\n",
              "    </tr>\n",
              "    <tr>\n",
              "      <td id=\"T_46465_row5_col0\" class=\"data row5 col0\" >Mirza</td>\n",
              "      <td id=\"T_46465_row5_col1\" class=\"data row5 col1\" >Cus_Rep</td>\n",
              "      <td id=\"T_46465_row5_col2\" class=\"data row5 col2\" >25000</td>\n",
              "    </tr>\n",
              "  </tbody>\n",
              "</table>\n"
            ]
          },
          "metadata": {},
          "execution_count": 36
        }
      ]
    },
    {
      "cell_type": "code",
      "source": [
        "runSelect(\"select lastname, jobdesc, salary from empl where (jobdesc = 'Cus_Rep' or jobdesc = 'Clerk') and salary < 16000\")"
      ],
      "metadata": {
        "colab": {
          "base_uri": "https://localhost:8080/",
          "height": 175
        },
        "id": "g7hbzjdxuOt6",
        "outputId": "1eacf39f-dbb3-4870-a84b-4a6da2ce6866"
      },
      "execution_count": 37,
      "outputs": [
        {
          "output_type": "execute_result",
          "data": {
            "text/plain": [
              "<pandas.io.formats.style.Styler at 0x7d0fba5cff70>"
            ],
            "text/html": [
              "<style type=\"text/css\">\n",
              "</style>\n",
              "<table id=\"T_c0d9b\" class=\"dataframe\">\n",
              "  <thead>\n",
              "    <tr>\n",
              "      <th id=\"T_c0d9b_level0_col0\" class=\"col_heading level0 col0\" >lastname</th>\n",
              "      <th id=\"T_c0d9b_level0_col1\" class=\"col_heading level0 col1\" >jobdesc</th>\n",
              "      <th id=\"T_c0d9b_level0_col2\" class=\"col_heading level0 col2\" >salary</th>\n",
              "    </tr>\n",
              "  </thead>\n",
              "  <tbody>\n",
              "    <tr>\n",
              "      <td id=\"T_c0d9b_row0_col0\" class=\"data row0 col0\" >Dikshit</td>\n",
              "      <td id=\"T_c0d9b_row0_col1\" class=\"data row0 col1\" >Clerk</td>\n",
              "      <td id=\"T_c0d9b_row0_col2\" class=\"data row0 col2\" >10000</td>\n",
              "    </tr>\n",
              "    <tr>\n",
              "      <td id=\"T_c0d9b_row1_col0\" class=\"data row1 col0\" >Sehwag</td>\n",
              "      <td id=\"T_c0d9b_row1_col1\" class=\"data row1 col1\" >Cus_Rep</td>\n",
              "      <td id=\"T_c0d9b_row1_col2\" class=\"data row1 col2\" >15000</td>\n",
              "    </tr>\n",
              "    <tr>\n",
              "      <td id=\"T_c0d9b_row2_col0\" class=\"data row2 col0\" >Dhoni</td>\n",
              "      <td id=\"T_c0d9b_row2_col1\" class=\"data row2 col1\" >Clerk</td>\n",
              "      <td id=\"T_c0d9b_row2_col2\" class=\"data row2 col2\" >9000</td>\n",
              "    </tr>\n",
              "    <tr>\n",
              "      <td id=\"T_c0d9b_row3_col0\" class=\"data row3 col0\" >Dalmia</td>\n",
              "      <td id=\"T_c0d9b_row3_col1\" class=\"data row3 col1\" >Clerk</td>\n",
              "      <td id=\"T_c0d9b_row3_col2\" class=\"data row3 col2\" >12000</td>\n",
              "    </tr>\n",
              "  </tbody>\n",
              "</table>\n"
            ]
          },
          "metadata": {},
          "execution_count": 37
        }
      ]
    },
    {
      "cell_type": "markdown",
      "source": [
        "# Single Row Functions"
      ],
      "metadata": {
        "id": "ND-8LYQcxsG2"
      }
    },
    {
      "cell_type": "code",
      "source": [
        "runSelect(\"select lastname, deptid, salary, comm, salary+salary*comm payout from empl where deptid = '20'\")"
      ],
      "metadata": {
        "colab": {
          "base_uri": "https://localhost:8080/",
          "height": 143
        },
        "id": "s71weE_hyDwf",
        "outputId": "2beca6c4-40fe-4a19-d1ad-d8cffb472bba"
      },
      "execution_count": 38,
      "outputs": [
        {
          "output_type": "execute_result",
          "data": {
            "text/plain": [
              "<pandas.io.formats.style.Styler at 0x7d0fe4e3d690>"
            ],
            "text/html": [
              "<style type=\"text/css\">\n",
              "</style>\n",
              "<table id=\"T_acd6b\" class=\"dataframe\">\n",
              "  <thead>\n",
              "    <tr>\n",
              "      <th id=\"T_acd6b_level0_col0\" class=\"col_heading level0 col0\" >lastname</th>\n",
              "      <th id=\"T_acd6b_level0_col1\" class=\"col_heading level0 col1\" >deptid</th>\n",
              "      <th id=\"T_acd6b_level0_col2\" class=\"col_heading level0 col2\" >salary</th>\n",
              "      <th id=\"T_acd6b_level0_col3\" class=\"col_heading level0 col3\" >comm</th>\n",
              "      <th id=\"T_acd6b_level0_col4\" class=\"col_heading level0 col4\" >payout</th>\n",
              "    </tr>\n",
              "  </thead>\n",
              "  <tbody>\n",
              "    <tr>\n",
              "      <td id=\"T_acd6b_row0_col0\" class=\"data row0 col0\" >Dikshit</td>\n",
              "      <td id=\"T_acd6b_row0_col1\" class=\"data row0 col1\" >20</td>\n",
              "      <td id=\"T_acd6b_row0_col2\" class=\"data row0 col2\" >10000</td>\n",
              "      <td id=\"T_acd6b_row0_col3\" class=\"data row0 col3\" >0.02</td>\n",
              "      <td id=\"T_acd6b_row0_col4\" class=\"data row0 col4\" >10200.00</td>\n",
              "    </tr>\n",
              "    <tr>\n",
              "      <td id=\"T_acd6b_row1_col0\" class=\"data row1 col0\" >Khan</td>\n",
              "      <td id=\"T_acd6b_row1_col1\" class=\"data row1 col1\" >20</td>\n",
              "      <td id=\"T_acd6b_row1_col2\" class=\"data row1 col2\" >30000</td>\n",
              "      <td id=\"T_acd6b_row1_col3\" class=\"data row1 col3\" >0.07</td>\n",
              "      <td id=\"T_acd6b_row1_col4\" class=\"data row1 col4\" >32100.00</td>\n",
              "    </tr>\n",
              "    <tr>\n",
              "      <td id=\"T_acd6b_row2_col0\" class=\"data row2 col0\" >Sehwag</td>\n",
              "      <td id=\"T_acd6b_row2_col1\" class=\"data row2 col1\" >20</td>\n",
              "      <td id=\"T_acd6b_row2_col2\" class=\"data row2 col2\" >15000</td>\n",
              "      <td id=\"T_acd6b_row2_col3\" class=\"data row2 col3\" >0.05</td>\n",
              "      <td id=\"T_acd6b_row2_col4\" class=\"data row2 col4\" >15750.00</td>\n",
              "    </tr>\n",
              "  </tbody>\n",
              "</table>\n"
            ]
          },
          "metadata": {},
          "execution_count": 38
        }
      ]
    },
    {
      "cell_type": "code",
      "source": [
        "runSelect(\"select lastname, firstname, deptid, substring(firstname,1,3) nick from empl where deptid = '20'\")"
      ],
      "metadata": {
        "colab": {
          "base_uri": "https://localhost:8080/",
          "height": 143
        },
        "id": "I3rkoZrYyb_P",
        "outputId": "0cd71562-1fa6-4e2e-ea5f-ba88a607ad54"
      },
      "execution_count": 39,
      "outputs": [
        {
          "output_type": "execute_result",
          "data": {
            "text/plain": [
              "<pandas.io.formats.style.Styler at 0x7d0fba624c40>"
            ],
            "text/html": [
              "<style type=\"text/css\">\n",
              "</style>\n",
              "<table id=\"T_ce162\" class=\"dataframe\">\n",
              "  <thead>\n",
              "    <tr>\n",
              "      <th id=\"T_ce162_level0_col0\" class=\"col_heading level0 col0\" >lastname</th>\n",
              "      <th id=\"T_ce162_level0_col1\" class=\"col_heading level0 col1\" >firstname</th>\n",
              "      <th id=\"T_ce162_level0_col2\" class=\"col_heading level0 col2\" >deptid</th>\n",
              "      <th id=\"T_ce162_level0_col3\" class=\"col_heading level0 col3\" >nick</th>\n",
              "    </tr>\n",
              "  </thead>\n",
              "  <tbody>\n",
              "    <tr>\n",
              "      <td id=\"T_ce162_row0_col0\" class=\"data row0 col0\" >Dikshit</td>\n",
              "      <td id=\"T_ce162_row0_col1\" class=\"data row0 col1\" >Madhuri</td>\n",
              "      <td id=\"T_ce162_row0_col2\" class=\"data row0 col2\" >20</td>\n",
              "      <td id=\"T_ce162_row0_col3\" class=\"data row0 col3\" >Mad</td>\n",
              "    </tr>\n",
              "    <tr>\n",
              "      <td id=\"T_ce162_row1_col0\" class=\"data row1 col0\" >Khan</td>\n",
              "      <td id=\"T_ce162_row1_col1\" class=\"data row1 col1\" >Shahrukh</td>\n",
              "      <td id=\"T_ce162_row1_col2\" class=\"data row1 col2\" >20</td>\n",
              "      <td id=\"T_ce162_row1_col3\" class=\"data row1 col3\" >Sha</td>\n",
              "    </tr>\n",
              "    <tr>\n",
              "      <td id=\"T_ce162_row2_col0\" class=\"data row2 col0\" >Sehwag</td>\n",
              "      <td id=\"T_ce162_row2_col1\" class=\"data row2 col1\" >Virender</td>\n",
              "      <td id=\"T_ce162_row2_col2\" class=\"data row2 col2\" >20</td>\n",
              "      <td id=\"T_ce162_row2_col3\" class=\"data row2 col3\" >Vir</td>\n",
              "    </tr>\n",
              "  </tbody>\n",
              "</table>\n"
            ]
          },
          "metadata": {},
          "execution_count": 39
        }
      ]
    },
    {
      "cell_type": "code",
      "source": [
        "runSelect(\"select lastname, firstname, deptid, concat('\\\"',substring(firstname,2,3),'\\\" ',lastname) nick from empl where deptid = '20'\")"
      ],
      "metadata": {
        "colab": {
          "base_uri": "https://localhost:8080/",
          "height": 143
        },
        "id": "xNQl1KpSzIQc",
        "outputId": "420a9390-d045-4d27-ac96-401aee7db439"
      },
      "execution_count": 40,
      "outputs": [
        {
          "output_type": "execute_result",
          "data": {
            "text/plain": [
              "<pandas.io.formats.style.Styler at 0x7d0fba6240a0>"
            ],
            "text/html": [
              "<style type=\"text/css\">\n",
              "</style>\n",
              "<table id=\"T_4a339\" class=\"dataframe\">\n",
              "  <thead>\n",
              "    <tr>\n",
              "      <th id=\"T_4a339_level0_col0\" class=\"col_heading level0 col0\" >lastname</th>\n",
              "      <th id=\"T_4a339_level0_col1\" class=\"col_heading level0 col1\" >firstname</th>\n",
              "      <th id=\"T_4a339_level0_col2\" class=\"col_heading level0 col2\" >deptid</th>\n",
              "      <th id=\"T_4a339_level0_col3\" class=\"col_heading level0 col3\" >nick</th>\n",
              "    </tr>\n",
              "  </thead>\n",
              "  <tbody>\n",
              "    <tr>\n",
              "      <td id=\"T_4a339_row0_col0\" class=\"data row0 col0\" >Dikshit</td>\n",
              "      <td id=\"T_4a339_row0_col1\" class=\"data row0 col1\" >Madhuri</td>\n",
              "      <td id=\"T_4a339_row0_col2\" class=\"data row0 col2\" >20</td>\n",
              "      <td id=\"T_4a339_row0_col3\" class=\"data row0 col3\" >\"adh\" Dikshit</td>\n",
              "    </tr>\n",
              "    <tr>\n",
              "      <td id=\"T_4a339_row1_col0\" class=\"data row1 col0\" >Khan</td>\n",
              "      <td id=\"T_4a339_row1_col1\" class=\"data row1 col1\" >Shahrukh</td>\n",
              "      <td id=\"T_4a339_row1_col2\" class=\"data row1 col2\" >20</td>\n",
              "      <td id=\"T_4a339_row1_col3\" class=\"data row1 col3\" >\"hah\" Khan</td>\n",
              "    </tr>\n",
              "    <tr>\n",
              "      <td id=\"T_4a339_row2_col0\" class=\"data row2 col0\" >Sehwag</td>\n",
              "      <td id=\"T_4a339_row2_col1\" class=\"data row2 col1\" >Virender</td>\n",
              "      <td id=\"T_4a339_row2_col2\" class=\"data row2 col2\" >20</td>\n",
              "      <td id=\"T_4a339_row2_col3\" class=\"data row2 col3\" >\"ire\" Sehwag</td>\n",
              "    </tr>\n",
              "  </tbody>\n",
              "</table>\n"
            ]
          },
          "metadata": {},
          "execution_count": 40
        }
      ]
    },
    {
      "cell_type": "markdown",
      "source": [
        "# MultiRow Function | Group By | Having"
      ],
      "metadata": {
        "id": "ONgFWUTC2IPK"
      }
    },
    {
      "cell_type": "code",
      "source": [
        "runSelect(\"select sum(salary) Total_Salary from empl\")"
      ],
      "metadata": {
        "colab": {
          "base_uri": "https://localhost:8080/",
          "height": 81
        },
        "id": "7MnnzfJx2PSc",
        "outputId": "b434f013-5c8c-4669-c68b-ecb79ac2fe47"
      },
      "execution_count": 41,
      "outputs": [
        {
          "output_type": "execute_result",
          "data": {
            "text/plain": [
              "<pandas.io.formats.style.Styler at 0x7d0fba6255d0>"
            ],
            "text/html": [
              "<style type=\"text/css\">\n",
              "</style>\n",
              "<table id=\"T_a93a2\" class=\"dataframe\">\n",
              "  <thead>\n",
              "    <tr>\n",
              "      <th id=\"T_a93a2_level0_col0\" class=\"col_heading level0 col0\" >total_salary</th>\n",
              "    </tr>\n",
              "  </thead>\n",
              "  <tbody>\n",
              "    <tr>\n",
              "      <td id=\"T_a93a2_row0_col0\" class=\"data row0 col0\" >376000</td>\n",
              "    </tr>\n",
              "  </tbody>\n",
              "</table>\n"
            ]
          },
          "metadata": {},
          "execution_count": 41
        }
      ]
    },
    {
      "cell_type": "code",
      "source": [
        "runSelect(\"select round(avg(salary),2) Average_Salary from empl\")"
      ],
      "metadata": {
        "colab": {
          "base_uri": "https://localhost:8080/",
          "height": 81
        },
        "id": "e3Avb-HL4QPD",
        "outputId": "000417b6-3b07-4dab-cc92-fe99eefb95e2"
      },
      "execution_count": 42,
      "outputs": [
        {
          "output_type": "execute_result",
          "data": {
            "text/plain": [
              "<pandas.io.formats.style.Styler at 0x7d0fba625f90>"
            ],
            "text/html": [
              "<style type=\"text/css\">\n",
              "</style>\n",
              "<table id=\"T_9937e\" class=\"dataframe\">\n",
              "  <thead>\n",
              "    <tr>\n",
              "      <th id=\"T_9937e_level0_col0\" class=\"col_heading level0 col0\" >average_salary</th>\n",
              "    </tr>\n",
              "  </thead>\n",
              "  <tbody>\n",
              "    <tr>\n",
              "      <td id=\"T_9937e_row0_col0\" class=\"data row0 col0\" >28923.08</td>\n",
              "    </tr>\n",
              "  </tbody>\n",
              "</table>\n"
            ]
          },
          "metadata": {},
          "execution_count": 42
        }
      ]
    },
    {
      "cell_type": "code",
      "source": [
        "runSelect(\"select max(salary) Max_Salary from empl\")"
      ],
      "metadata": {
        "colab": {
          "base_uri": "https://localhost:8080/",
          "height": 81
        },
        "id": "Oe1qRQbI4gtY",
        "outputId": "f3810e80-84fd-46af-d0e9-a910750e40c2"
      },
      "execution_count": 43,
      "outputs": [
        {
          "output_type": "execute_result",
          "data": {
            "text/plain": [
              "<pandas.io.formats.style.Styler at 0x7d0fba6272b0>"
            ],
            "text/html": [
              "<style type=\"text/css\">\n",
              "</style>\n",
              "<table id=\"T_286cc\" class=\"dataframe\">\n",
              "  <thead>\n",
              "    <tr>\n",
              "      <th id=\"T_286cc_level0_col0\" class=\"col_heading level0 col0\" >max_salary</th>\n",
              "    </tr>\n",
              "  </thead>\n",
              "  <tbody>\n",
              "    <tr>\n",
              "      <td id=\"T_286cc_row0_col0\" class=\"data row0 col0\" >60000</td>\n",
              "    </tr>\n",
              "  </tbody>\n",
              "</table>\n"
            ]
          },
          "metadata": {},
          "execution_count": 43
        }
      ]
    },
    {
      "cell_type": "code",
      "source": [
        "runSelect(\"select deptid, sum(salary) Total, max(salary) Max from empl group by deptid\")"
      ],
      "metadata": {
        "colab": {
          "base_uri": "https://localhost:8080/",
          "height": 206
        },
        "id": "xpmGXSAX69iU",
        "outputId": "458dc748-27a8-41c7-9677-f53af61ce953"
      },
      "execution_count": 44,
      "outputs": [
        {
          "output_type": "execute_result",
          "data": {
            "text/plain": [
              "<pandas.io.formats.style.Styler at 0x7d0fba626050>"
            ],
            "text/html": [
              "<style type=\"text/css\">\n",
              "</style>\n",
              "<table id=\"T_4c8a2\" class=\"dataframe\">\n",
              "  <thead>\n",
              "    <tr>\n",
              "      <th id=\"T_4c8a2_level0_col0\" class=\"col_heading level0 col0\" >deptid</th>\n",
              "      <th id=\"T_4c8a2_level0_col1\" class=\"col_heading level0 col1\" >total</th>\n",
              "      <th id=\"T_4c8a2_level0_col2\" class=\"col_heading level0 col2\" >max</th>\n",
              "    </tr>\n",
              "  </thead>\n",
              "  <tbody>\n",
              "    <tr>\n",
              "      <td id=\"T_4c8a2_row0_col0\" class=\"data row0 col0\" >10</td>\n",
              "      <td id=\"T_4c8a2_row0_col1\" class=\"data row0 col1\" >150000</td>\n",
              "      <td id=\"T_4c8a2_row0_col2\" class=\"data row0 col2\" >60000</td>\n",
              "    </tr>\n",
              "    <tr>\n",
              "      <td id=\"T_4c8a2_row1_col0\" class=\"data row1 col0\" >40</td>\n",
              "      <td id=\"T_4c8a2_row1_col1\" class=\"data row1 col1\" >54000</td>\n",
              "      <td id=\"T_4c8a2_row1_col2\" class=\"data row1 col2\" >25000</td>\n",
              "    </tr>\n",
              "    <tr>\n",
              "      <td id=\"T_4c8a2_row2_col0\" class=\"data row2 col0\" >70</td>\n",
              "      <td id=\"T_4c8a2_row2_col1\" class=\"data row2 col1\" >40000</td>\n",
              "      <td id=\"T_4c8a2_row2_col2\" class=\"data row2 col2\" >40000</td>\n",
              "    </tr>\n",
              "    <tr>\n",
              "      <td id=\"T_4c8a2_row3_col0\" class=\"data row3 col0\" >20</td>\n",
              "      <td id=\"T_4c8a2_row3_col1\" class=\"data row3 col1\" >55000</td>\n",
              "      <td id=\"T_4c8a2_row3_col2\" class=\"data row3 col2\" >30000</td>\n",
              "    </tr>\n",
              "    <tr>\n",
              "      <td id=\"T_4c8a2_row4_col0\" class=\"data row4 col0\" >30</td>\n",
              "      <td id=\"T_4c8a2_row4_col1\" class=\"data row4 col1\" >77000</td>\n",
              "      <td id=\"T_4c8a2_row4_col2\" class=\"data row4 col2\" >40000</td>\n",
              "    </tr>\n",
              "  </tbody>\n",
              "</table>\n"
            ]
          },
          "metadata": {},
          "execution_count": 44
        }
      ]
    },
    {
      "cell_type": "code",
      "source": [
        "runSelect(\"select deptid, sum(salary) Total, max(salary) Max from empl group by deptid having sum(salary) > 50000\")"
      ],
      "metadata": {
        "colab": {
          "base_uri": "https://localhost:8080/",
          "height": 175
        },
        "id": "AdNDutZl7LCF",
        "outputId": "ab9ba0c4-6336-42fc-f241-922716ee3e23"
      },
      "execution_count": 45,
      "outputs": [
        {
          "output_type": "execute_result",
          "data": {
            "text/plain": [
              "<pandas.io.formats.style.Styler at 0x7d0fba444760>"
            ],
            "text/html": [
              "<style type=\"text/css\">\n",
              "</style>\n",
              "<table id=\"T_e57ff\" class=\"dataframe\">\n",
              "  <thead>\n",
              "    <tr>\n",
              "      <th id=\"T_e57ff_level0_col0\" class=\"col_heading level0 col0\" >deptid</th>\n",
              "      <th id=\"T_e57ff_level0_col1\" class=\"col_heading level0 col1\" >total</th>\n",
              "      <th id=\"T_e57ff_level0_col2\" class=\"col_heading level0 col2\" >max</th>\n",
              "    </tr>\n",
              "  </thead>\n",
              "  <tbody>\n",
              "    <tr>\n",
              "      <td id=\"T_e57ff_row0_col0\" class=\"data row0 col0\" >10</td>\n",
              "      <td id=\"T_e57ff_row0_col1\" class=\"data row0 col1\" >150000</td>\n",
              "      <td id=\"T_e57ff_row0_col2\" class=\"data row0 col2\" >60000</td>\n",
              "    </tr>\n",
              "    <tr>\n",
              "      <td id=\"T_e57ff_row1_col0\" class=\"data row1 col0\" >40</td>\n",
              "      <td id=\"T_e57ff_row1_col1\" class=\"data row1 col1\" >54000</td>\n",
              "      <td id=\"T_e57ff_row1_col2\" class=\"data row1 col2\" >25000</td>\n",
              "    </tr>\n",
              "    <tr>\n",
              "      <td id=\"T_e57ff_row2_col0\" class=\"data row2 col0\" >20</td>\n",
              "      <td id=\"T_e57ff_row2_col1\" class=\"data row2 col1\" >55000</td>\n",
              "      <td id=\"T_e57ff_row2_col2\" class=\"data row2 col2\" >30000</td>\n",
              "    </tr>\n",
              "    <tr>\n",
              "      <td id=\"T_e57ff_row3_col0\" class=\"data row3 col0\" >30</td>\n",
              "      <td id=\"T_e57ff_row3_col1\" class=\"data row3 col1\" >77000</td>\n",
              "      <td id=\"T_e57ff_row3_col2\" class=\"data row3 col2\" >40000</td>\n",
              "    </tr>\n",
              "  </tbody>\n",
              "</table>\n"
            ]
          },
          "metadata": {},
          "execution_count": 45
        }
      ]
    },
    {
      "cell_type": "code",
      "source": [
        "runSelect(\"select deptid, sum(salary) Total, max(salary) Max from empl group by deptid having sum(salary) > 50000 and max(salary) < 35000\")"
      ],
      "metadata": {
        "colab": {
          "base_uri": "https://localhost:8080/",
          "height": 112
        },
        "id": "4VFmL5JF7bYo",
        "outputId": "25df0362-f13f-43e7-8fa8-9d1242df3cec"
      },
      "execution_count": 46,
      "outputs": [
        {
          "output_type": "execute_result",
          "data": {
            "text/plain": [
              "<pandas.io.formats.style.Styler at 0x7d0fba446ad0>"
            ],
            "text/html": [
              "<style type=\"text/css\">\n",
              "</style>\n",
              "<table id=\"T_facfc\" class=\"dataframe\">\n",
              "  <thead>\n",
              "    <tr>\n",
              "      <th id=\"T_facfc_level0_col0\" class=\"col_heading level0 col0\" >deptid</th>\n",
              "      <th id=\"T_facfc_level0_col1\" class=\"col_heading level0 col1\" >total</th>\n",
              "      <th id=\"T_facfc_level0_col2\" class=\"col_heading level0 col2\" >max</th>\n",
              "    </tr>\n",
              "  </thead>\n",
              "  <tbody>\n",
              "    <tr>\n",
              "      <td id=\"T_facfc_row0_col0\" class=\"data row0 col0\" >40</td>\n",
              "      <td id=\"T_facfc_row0_col1\" class=\"data row0 col1\" >54000</td>\n",
              "      <td id=\"T_facfc_row0_col2\" class=\"data row0 col2\" >25000</td>\n",
              "    </tr>\n",
              "    <tr>\n",
              "      <td id=\"T_facfc_row1_col0\" class=\"data row1 col0\" >20</td>\n",
              "      <td id=\"T_facfc_row1_col1\" class=\"data row1 col1\" >55000</td>\n",
              "      <td id=\"T_facfc_row1_col2\" class=\"data row1 col2\" >30000</td>\n",
              "    </tr>\n",
              "  </tbody>\n",
              "</table>\n"
            ]
          },
          "metadata": {},
          "execution_count": 46
        }
      ]
    },
    {
      "cell_type": "markdown",
      "source": [
        "#Conditionals | CASE"
      ],
      "metadata": {
        "id": "xDsapsK8Afpj"
      }
    },
    {
      "cell_type": "code",
      "source": [
        "runSelect(\"select lastname, jobdesc, salary, comm, salary+salary*comm Payout,\\\n",
        "case when jobdesc like '%Manager' then 2000 else 0 end bonus from empl\")"
      ],
      "metadata": {
        "colab": {
          "base_uri": "https://localhost:8080/",
          "height": 457
        },
        "id": "bYRWDlVNAxKx",
        "outputId": "1e28cb37-7120-4586-9537-8bfb1e238f56"
      },
      "execution_count": 47,
      "outputs": [
        {
          "output_type": "execute_result",
          "data": {
            "text/plain": [
              "<pandas.io.formats.style.Styler at 0x7d0fba626620>"
            ],
            "text/html": [
              "<style type=\"text/css\">\n",
              "</style>\n",
              "<table id=\"T_ff9fc\" class=\"dataframe\">\n",
              "  <thead>\n",
              "    <tr>\n",
              "      <th id=\"T_ff9fc_level0_col0\" class=\"col_heading level0 col0\" >lastname</th>\n",
              "      <th id=\"T_ff9fc_level0_col1\" class=\"col_heading level0 col1\" >jobdesc</th>\n",
              "      <th id=\"T_ff9fc_level0_col2\" class=\"col_heading level0 col2\" >salary</th>\n",
              "      <th id=\"T_ff9fc_level0_col3\" class=\"col_heading level0 col3\" >comm</th>\n",
              "      <th id=\"T_ff9fc_level0_col4\" class=\"col_heading level0 col4\" >payout</th>\n",
              "      <th id=\"T_ff9fc_level0_col5\" class=\"col_heading level0 col5\" >bonus</th>\n",
              "    </tr>\n",
              "  </thead>\n",
              "  <tbody>\n",
              "    <tr>\n",
              "      <td id=\"T_ff9fc_row0_col0\" class=\"data row0 col0\" >Bacchan</td>\n",
              "      <td id=\"T_ff9fc_row0_col1\" class=\"data row0 col1\" >Executive</td>\n",
              "      <td id=\"T_ff9fc_row0_col2\" class=\"data row0 col2\" >50000</td>\n",
              "      <td id=\"T_ff9fc_row0_col3\" class=\"data row0 col3\" >0.10</td>\n",
              "      <td id=\"T_ff9fc_row0_col4\" class=\"data row0 col4\" >55000.00</td>\n",
              "      <td id=\"T_ff9fc_row0_col5\" class=\"data row0 col5\" >0</td>\n",
              "    </tr>\n",
              "    <tr>\n",
              "      <td id=\"T_ff9fc_row1_col0\" class=\"data row1 col0\" >Mukherjee</td>\n",
              "      <td id=\"T_ff9fc_row1_col1\" class=\"data row1 col1\" >Manager</td>\n",
              "      <td id=\"T_ff9fc_row1_col2\" class=\"data row1 col2\" >25000</td>\n",
              "      <td id=\"T_ff9fc_row1_col3\" class=\"data row1 col3\" >0.06</td>\n",
              "      <td id=\"T_ff9fc_row1_col4\" class=\"data row1 col4\" >26500.00</td>\n",
              "      <td id=\"T_ff9fc_row1_col5\" class=\"data row1 col5\" >2000</td>\n",
              "    </tr>\n",
              "    <tr>\n",
              "      <td id=\"T_ff9fc_row2_col0\" class=\"data row2 col0\" >Dikshit</td>\n",
              "      <td id=\"T_ff9fc_row2_col1\" class=\"data row2 col1\" >Clerk</td>\n",
              "      <td id=\"T_ff9fc_row2_col2\" class=\"data row2 col2\" >10000</td>\n",
              "      <td id=\"T_ff9fc_row2_col3\" class=\"data row2 col3\" >0.02</td>\n",
              "      <td id=\"T_ff9fc_row2_col4\" class=\"data row2 col4\" >10200.00</td>\n",
              "      <td id=\"T_ff9fc_row2_col5\" class=\"data row2 col5\" >0</td>\n",
              "    </tr>\n",
              "    <tr>\n",
              "      <td id=\"T_ff9fc_row3_col0\" class=\"data row3 col0\" >Khan</td>\n",
              "      <td id=\"T_ff9fc_row3_col1\" class=\"data row3 col1\" >Manager</td>\n",
              "      <td id=\"T_ff9fc_row3_col2\" class=\"data row3 col2\" >30000</td>\n",
              "      <td id=\"T_ff9fc_row3_col3\" class=\"data row3 col3\" >0.07</td>\n",
              "      <td id=\"T_ff9fc_row3_col4\" class=\"data row3 col4\" >32100.00</td>\n",
              "      <td id=\"T_ff9fc_row3_col5\" class=\"data row3 col5\" >2000</td>\n",
              "    </tr>\n",
              "    <tr>\n",
              "      <td id=\"T_ff9fc_row4_col0\" class=\"data row4 col0\" >Sehwag</td>\n",
              "      <td id=\"T_ff9fc_row4_col1\" class=\"data row4 col1\" >Cus_Rep</td>\n",
              "      <td id=\"T_ff9fc_row4_col2\" class=\"data row4 col2\" >15000</td>\n",
              "      <td id=\"T_ff9fc_row4_col3\" class=\"data row4 col3\" >0.05</td>\n",
              "      <td id=\"T_ff9fc_row4_col4\" class=\"data row4 col4\" >15750.00</td>\n",
              "      <td id=\"T_ff9fc_row4_col5\" class=\"data row4 col5\" >0</td>\n",
              "    </tr>\n",
              "    <tr>\n",
              "      <td id=\"T_ff9fc_row5_col0\" class=\"data row5 col0\" >Dhoni</td>\n",
              "      <td id=\"T_ff9fc_row5_col1\" class=\"data row5 col1\" >Clerk</td>\n",
              "      <td id=\"T_ff9fc_row5_col2\" class=\"data row5 col2\" >9000</td>\n",
              "      <td id=\"T_ff9fc_row5_col3\" class=\"data row5 col3\" >0.02</td>\n",
              "      <td id=\"T_ff9fc_row5_col4\" class=\"data row5 col4\" >9180.00</td>\n",
              "      <td id=\"T_ff9fc_row5_col5\" class=\"data row5 col5\" >0</td>\n",
              "    </tr>\n",
              "    <tr>\n",
              "      <td id=\"T_ff9fc_row6_col0\" class=\"data row6 col0\" >Dravid</td>\n",
              "      <td id=\"T_ff9fc_row6_col1\" class=\"data row6 col1\" >Sr Manager</td>\n",
              "      <td id=\"T_ff9fc_row6_col2\" class=\"data row6 col2\" >40000</td>\n",
              "      <td id=\"T_ff9fc_row6_col3\" class=\"data row6 col3\" >0.08</td>\n",
              "      <td id=\"T_ff9fc_row6_col4\" class=\"data row6 col4\" >43200.00</td>\n",
              "      <td id=\"T_ff9fc_row6_col5\" class=\"data row6 col5\" >2000</td>\n",
              "    </tr>\n",
              "    <tr>\n",
              "      <td id=\"T_ff9fc_row7_col0\" class=\"data row7 col0\" >Dalmia</td>\n",
              "      <td id=\"T_ff9fc_row7_col1\" class=\"data row7 col1\" >Clerk</td>\n",
              "      <td id=\"T_ff9fc_row7_col2\" class=\"data row7 col2\" >12000</td>\n",
              "      <td id=\"T_ff9fc_row7_col3\" class=\"data row7 col3\" >0.02</td>\n",
              "      <td id=\"T_ff9fc_row7_col4\" class=\"data row7 col4\" >12240.00</td>\n",
              "      <td id=\"T_ff9fc_row7_col5\" class=\"data row7 col5\" >0</td>\n",
              "    </tr>\n",
              "    <tr>\n",
              "      <td id=\"T_ff9fc_row8_col0\" class=\"data row8 col0\" >Ganguly</td>\n",
              "      <td id=\"T_ff9fc_row8_col1\" class=\"data row8 col1\" >Cus_Rep</td>\n",
              "      <td id=\"T_ff9fc_row8_col2\" class=\"data row8 col2\" >20000</td>\n",
              "      <td id=\"T_ff9fc_row8_col3\" class=\"data row8 col3\" >0.03</td>\n",
              "      <td id=\"T_ff9fc_row8_col4\" class=\"data row8 col4\" >20600.00</td>\n",
              "      <td id=\"T_ff9fc_row8_col5\" class=\"data row8 col5\" >0</td>\n",
              "    </tr>\n",
              "    <tr>\n",
              "      <td id=\"T_ff9fc_row9_col0\" class=\"data row9 col0\" >Ganesan</td>\n",
              "      <td id=\"T_ff9fc_row9_col1\" class=\"data row9 col1\" >Director</td>\n",
              "      <td id=\"T_ff9fc_row9_col2\" class=\"data row9 col2\" >60000</td>\n",
              "      <td id=\"T_ff9fc_row9_col3\" class=\"data row9 col3\" >0.11</td>\n",
              "      <td id=\"T_ff9fc_row9_col4\" class=\"data row9 col4\" >66600.00</td>\n",
              "      <td id=\"T_ff9fc_row9_col5\" class=\"data row9 col5\" >0</td>\n",
              "    </tr>\n",
              "    <tr>\n",
              "      <td id=\"T_ff9fc_row10_col0\" class=\"data row10 col0\" >Karthikeyan</td>\n",
              "      <td id=\"T_ff9fc_row10_col1\" class=\"data row10 col1\" >Secretary</td>\n",
              "      <td id=\"T_ff9fc_row10_col2\" class=\"data row10 col2\" >40000</td>\n",
              "      <td id=\"T_ff9fc_row10_col3\" class=\"data row10 col3\" >0.09</td>\n",
              "      <td id=\"T_ff9fc_row10_col4\" class=\"data row10 col4\" >43600.00</td>\n",
              "      <td id=\"T_ff9fc_row10_col5\" class=\"data row10 col5\" >0</td>\n",
              "    </tr>\n",
              "    <tr>\n",
              "      <td id=\"T_ff9fc_row11_col0\" class=\"data row11 col0\" >Sunil</td>\n",
              "      <td id=\"T_ff9fc_row11_col1\" class=\"data row11 col1\" >Dy Manager</td>\n",
              "      <td id=\"T_ff9fc_row11_col2\" class=\"data row11 col2\" >40000</td>\n",
              "      <td id=\"T_ff9fc_row11_col3\" class=\"data row11 col3\" >0.05</td>\n",
              "      <td id=\"T_ff9fc_row11_col4\" class=\"data row11 col4\" >42000.00</td>\n",
              "      <td id=\"T_ff9fc_row11_col5\" class=\"data row11 col5\" >2000</td>\n",
              "    </tr>\n",
              "    <tr>\n",
              "      <td id=\"T_ff9fc_row12_col0\" class=\"data row12 col0\" >Mirza</td>\n",
              "      <td id=\"T_ff9fc_row12_col1\" class=\"data row12 col1\" >Cus_Rep</td>\n",
              "      <td id=\"T_ff9fc_row12_col2\" class=\"data row12 col2\" >25000</td>\n",
              "      <td id=\"T_ff9fc_row12_col3\" class=\"data row12 col3\" >0.04</td>\n",
              "      <td id=\"T_ff9fc_row12_col4\" class=\"data row12 col4\" >26000.00</td>\n",
              "      <td id=\"T_ff9fc_row12_col5\" class=\"data row12 col5\" >0</td>\n",
              "    </tr>\n",
              "  </tbody>\n",
              "</table>\n"
            ]
          },
          "metadata": {},
          "execution_count": 47
        }
      ]
    },
    {
      "cell_type": "code",
      "source": [
        "runSelect(\"select lastname, deptid,\\\n",
        "case \\\n",
        "when deptid in ('10','20') then 'Head' \\\n",
        "when deptid = '30' then 'Regional'\\\n",
        "else 'Branch' \\\n",
        "end \\\n",
        " office from empl\")"
      ],
      "metadata": {
        "colab": {
          "base_uri": "https://localhost:8080/",
          "height": 457
        },
        "id": "jbpKn1y0DwYG",
        "outputId": "0c2ccd6d-08cf-494a-fd0a-eba740f2e6cf"
      },
      "execution_count": 48,
      "outputs": [
        {
          "output_type": "execute_result",
          "data": {
            "text/plain": [
              "<pandas.io.formats.style.Styler at 0x7d0fba445ff0>"
            ],
            "text/html": [
              "<style type=\"text/css\">\n",
              "</style>\n",
              "<table id=\"T_6c40e\" class=\"dataframe\">\n",
              "  <thead>\n",
              "    <tr>\n",
              "      <th id=\"T_6c40e_level0_col0\" class=\"col_heading level0 col0\" >lastname</th>\n",
              "      <th id=\"T_6c40e_level0_col1\" class=\"col_heading level0 col1\" >deptid</th>\n",
              "      <th id=\"T_6c40e_level0_col2\" class=\"col_heading level0 col2\" >office</th>\n",
              "    </tr>\n",
              "  </thead>\n",
              "  <tbody>\n",
              "    <tr>\n",
              "      <td id=\"T_6c40e_row0_col0\" class=\"data row0 col0\" >Bacchan</td>\n",
              "      <td id=\"T_6c40e_row0_col1\" class=\"data row0 col1\" >10</td>\n",
              "      <td id=\"T_6c40e_row0_col2\" class=\"data row0 col2\" >Head</td>\n",
              "    </tr>\n",
              "    <tr>\n",
              "      <td id=\"T_6c40e_row1_col0\" class=\"data row1 col0\" >Mukherjee</td>\n",
              "      <td id=\"T_6c40e_row1_col1\" class=\"data row1 col1\" >40</td>\n",
              "      <td id=\"T_6c40e_row1_col2\" class=\"data row1 col2\" >Branch</td>\n",
              "    </tr>\n",
              "    <tr>\n",
              "      <td id=\"T_6c40e_row2_col0\" class=\"data row2 col0\" >Dikshit</td>\n",
              "      <td id=\"T_6c40e_row2_col1\" class=\"data row2 col1\" >20</td>\n",
              "      <td id=\"T_6c40e_row2_col2\" class=\"data row2 col2\" >Head</td>\n",
              "    </tr>\n",
              "    <tr>\n",
              "      <td id=\"T_6c40e_row3_col0\" class=\"data row3 col0\" >Khan</td>\n",
              "      <td id=\"T_6c40e_row3_col1\" class=\"data row3 col1\" >20</td>\n",
              "      <td id=\"T_6c40e_row3_col2\" class=\"data row3 col2\" >Head</td>\n",
              "    </tr>\n",
              "    <tr>\n",
              "      <td id=\"T_6c40e_row4_col0\" class=\"data row4 col0\" >Sehwag</td>\n",
              "      <td id=\"T_6c40e_row4_col1\" class=\"data row4 col1\" >20</td>\n",
              "      <td id=\"T_6c40e_row4_col2\" class=\"data row4 col2\" >Head</td>\n",
              "    </tr>\n",
              "    <tr>\n",
              "      <td id=\"T_6c40e_row5_col0\" class=\"data row5 col0\" >Dhoni</td>\n",
              "      <td id=\"T_6c40e_row5_col1\" class=\"data row5 col1\" >40</td>\n",
              "      <td id=\"T_6c40e_row5_col2\" class=\"data row5 col2\" >Branch</td>\n",
              "    </tr>\n",
              "    <tr>\n",
              "      <td id=\"T_6c40e_row6_col0\" class=\"data row6 col0\" >Dravid</td>\n",
              "      <td id=\"T_6c40e_row6_col1\" class=\"data row6 col1\" >30</td>\n",
              "      <td id=\"T_6c40e_row6_col2\" class=\"data row6 col2\" >Regional</td>\n",
              "    </tr>\n",
              "    <tr>\n",
              "      <td id=\"T_6c40e_row7_col0\" class=\"data row7 col0\" >Dalmia</td>\n",
              "      <td id=\"T_6c40e_row7_col1\" class=\"data row7 col1\" >30</td>\n",
              "      <td id=\"T_6c40e_row7_col2\" class=\"data row7 col2\" >Regional</td>\n",
              "    </tr>\n",
              "    <tr>\n",
              "      <td id=\"T_6c40e_row8_col0\" class=\"data row8 col0\" >Ganguly</td>\n",
              "      <td id=\"T_6c40e_row8_col1\" class=\"data row8 col1\" >40</td>\n",
              "      <td id=\"T_6c40e_row8_col2\" class=\"data row8 col2\" >Branch</td>\n",
              "    </tr>\n",
              "    <tr>\n",
              "      <td id=\"T_6c40e_row9_col0\" class=\"data row9 col0\" >Ganesan</td>\n",
              "      <td id=\"T_6c40e_row9_col1\" class=\"data row9 col1\" >10</td>\n",
              "      <td id=\"T_6c40e_row9_col2\" class=\"data row9 col2\" >Head</td>\n",
              "    </tr>\n",
              "    <tr>\n",
              "      <td id=\"T_6c40e_row10_col0\" class=\"data row10 col0\" >Karthikeyan</td>\n",
              "      <td id=\"T_6c40e_row10_col1\" class=\"data row10 col1\" >10</td>\n",
              "      <td id=\"T_6c40e_row10_col2\" class=\"data row10 col2\" >Head</td>\n",
              "    </tr>\n",
              "    <tr>\n",
              "      <td id=\"T_6c40e_row11_col0\" class=\"data row11 col0\" >Sunil</td>\n",
              "      <td id=\"T_6c40e_row11_col1\" class=\"data row11 col1\" >70</td>\n",
              "      <td id=\"T_6c40e_row11_col2\" class=\"data row11 col2\" >Branch</td>\n",
              "    </tr>\n",
              "    <tr>\n",
              "      <td id=\"T_6c40e_row12_col0\" class=\"data row12 col0\" >Mirza</td>\n",
              "      <td id=\"T_6c40e_row12_col1\" class=\"data row12 col1\" >30</td>\n",
              "      <td id=\"T_6c40e_row12_col2\" class=\"data row12 col2\" >Regional</td>\n",
              "    </tr>\n",
              "  </tbody>\n",
              "</table>\n"
            ]
          },
          "metadata": {},
          "execution_count": 48
        }
      ]
    },
    {
      "cell_type": "markdown",
      "source": [
        "#Transpose\n",
        "https://www.sqlshack.com/how-to-use-the-crosstab-function-in-postgresql/"
      ],
      "metadata": {
        "id": "V6Bt-yTXSITF"
      }
    },
    {
      "cell_type": "code",
      "source": [
        "!psql -h localhost -p 5432 -Uupraxis -ddbpraxis -c \"create extension tablefunc;\""
      ],
      "metadata": {
        "colab": {
          "base_uri": "https://localhost:8080/"
        },
        "id": "ZgVgr1DfYs_R",
        "outputId": "c093bb23-a407-445e-b62c-ed2b1f0517c5"
      },
      "execution_count": 49,
      "outputs": [
        {
          "output_type": "stream",
          "name": "stdout",
          "text": [
            "CREATE EXTENSION\n"
          ]
        }
      ]
    },
    {
      "cell_type": "code",
      "source": [
        "runSelect('select * from dept')"
      ],
      "metadata": {
        "colab": {
          "base_uri": "https://localhost:8080/",
          "height": 206
        },
        "id": "Sa9IpGXwSKWe",
        "outputId": "cb80d0f5-f01d-46be-aa95-5172340fd744"
      },
      "execution_count": 50,
      "outputs": [
        {
          "output_type": "execute_result",
          "data": {
            "text/plain": [
              "<pandas.io.formats.style.Styler at 0x7d0fba624550>"
            ],
            "text/html": [
              "<style type=\"text/css\">\n",
              "</style>\n",
              "<table id=\"T_38058\" class=\"dataframe\">\n",
              "  <thead>\n",
              "    <tr>\n",
              "      <th id=\"T_38058_level0_col0\" class=\"col_heading level0 col0\" >deptid</th>\n",
              "      <th id=\"T_38058_level0_col1\" class=\"col_heading level0 col1\" >deptname</th>\n",
              "      <th id=\"T_38058_level0_col2\" class=\"col_heading level0 col2\" >managerid</th>\n",
              "      <th id=\"T_38058_level0_col3\" class=\"col_heading level0 col3\" >location</th>\n",
              "      <th id=\"T_38058_level0_col4\" class=\"col_heading level0 col4\" >locationid</th>\n",
              "    </tr>\n",
              "  </thead>\n",
              "  <tbody>\n",
              "    <tr>\n",
              "      <td id=\"T_38058_row0_col0\" class=\"data row0 col0\" >10</td>\n",
              "      <td id=\"T_38058_row0_col1\" class=\"data row0 col1\" >Corporate</td>\n",
              "      <td id=\"T_38058_row0_col2\" class=\"data row0 col2\" >299034</td>\n",
              "      <td id=\"T_38058_row0_col3\" class=\"data row0 col3\" >Calcutta</td>\n",
              "      <td id=\"T_38058_row0_col4\" class=\"data row0 col4\" >1</td>\n",
              "    </tr>\n",
              "    <tr>\n",
              "      <td id=\"T_38058_row1_col0\" class=\"data row1 col0\" >20</td>\n",
              "      <td id=\"T_38058_row1_col1\" class=\"data row1 col1\" >Sales</td>\n",
              "      <td id=\"T_38058_row1_col2\" class=\"data row1 col2\" >239456</td>\n",
              "      <td id=\"T_38058_row1_col3\" class=\"data row1 col3\" >Calcutta</td>\n",
              "      <td id=\"T_38058_row1_col4\" class=\"data row1 col4\" >1</td>\n",
              "    </tr>\n",
              "    <tr>\n",
              "      <td id=\"T_38058_row2_col0\" class=\"data row2 col0\" >30</td>\n",
              "      <td id=\"T_38058_row2_col1\" class=\"data row2 col1\" >Accounts</td>\n",
              "      <td id=\"T_38058_row2_col2\" class=\"data row2 col2\" >822134</td>\n",
              "      <td id=\"T_38058_row2_col3\" class=\"data row2 col3\" >Calcutta</td>\n",
              "      <td id=\"T_38058_row2_col4\" class=\"data row2 col4\" >1</td>\n",
              "    </tr>\n",
              "    <tr>\n",
              "      <td id=\"T_38058_row3_col0\" class=\"data row3 col0\" >40</td>\n",
              "      <td id=\"T_38058_row3_col1\" class=\"data row3 col1\" >Production</td>\n",
              "      <td id=\"T_38058_row3_col2\" class=\"data row3 col2\" >349870</td>\n",
              "      <td id=\"T_38058_row3_col3\" class=\"data row3 col3\" >Bombay</td>\n",
              "      <td id=\"T_38058_row3_col4\" class=\"data row3 col4\" >2</td>\n",
              "    </tr>\n",
              "    <tr>\n",
              "      <td id=\"T_38058_row4_col0\" class=\"data row4 col0\" >60</td>\n",
              "      <td id=\"T_38058_row4_col1\" class=\"data row4 col1\" >Research</td>\n",
              "      <td id=\"T_38058_row4_col2\" class=\"data row4 col2\" >546224</td>\n",
              "      <td id=\"T_38058_row4_col3\" class=\"data row4 col3\" >Delhi</td>\n",
              "      <td id=\"T_38058_row4_col4\" class=\"data row4 col4\" >3</td>\n",
              "    </tr>\n",
              "  </tbody>\n",
              "</table>\n"
            ]
          },
          "metadata": {},
          "execution_count": 50
        }
      ]
    },
    {
      "cell_type": "code",
      "source": [
        "sql = \"\\\n",
        "select * from \\\n",
        "crosstab('select location::text,locationid::text,deptname::text from dept order by 1,2') as locations \\\n",
        "(location text, dep1 text, dep2 text, dep3 text, dep4 text)\\\n",
        "\"\n",
        "runSelect(sql)"
      ],
      "metadata": {
        "colab": {
          "base_uri": "https://localhost:8080/",
          "height": 143
        },
        "id": "Iukqh6TRVo-9",
        "outputId": "5c757634-80f9-45fd-d222-c15d7fcc17f5"
      },
      "execution_count": 51,
      "outputs": [
        {
          "output_type": "execute_result",
          "data": {
            "text/plain": [
              "<pandas.io.formats.style.Styler at 0x7d0fba445870>"
            ],
            "text/html": [
              "<style type=\"text/css\">\n",
              "</style>\n",
              "<table id=\"T_f46bd\" class=\"dataframe\">\n",
              "  <thead>\n",
              "    <tr>\n",
              "      <th id=\"T_f46bd_level0_col0\" class=\"col_heading level0 col0\" >location</th>\n",
              "      <th id=\"T_f46bd_level0_col1\" class=\"col_heading level0 col1\" >dep1</th>\n",
              "      <th id=\"T_f46bd_level0_col2\" class=\"col_heading level0 col2\" >dep2</th>\n",
              "      <th id=\"T_f46bd_level0_col3\" class=\"col_heading level0 col3\" >dep3</th>\n",
              "      <th id=\"T_f46bd_level0_col4\" class=\"col_heading level0 col4\" >dep4</th>\n",
              "    </tr>\n",
              "  </thead>\n",
              "  <tbody>\n",
              "    <tr>\n",
              "      <td id=\"T_f46bd_row0_col0\" class=\"data row0 col0\" >Bombay</td>\n",
              "      <td id=\"T_f46bd_row0_col1\" class=\"data row0 col1\" >Production</td>\n",
              "      <td id=\"T_f46bd_row0_col2\" class=\"data row0 col2\" >None</td>\n",
              "      <td id=\"T_f46bd_row0_col3\" class=\"data row0 col3\" >None</td>\n",
              "      <td id=\"T_f46bd_row0_col4\" class=\"data row0 col4\" >None</td>\n",
              "    </tr>\n",
              "    <tr>\n",
              "      <td id=\"T_f46bd_row1_col0\" class=\"data row1 col0\" >Calcutta</td>\n",
              "      <td id=\"T_f46bd_row1_col1\" class=\"data row1 col1\" >Corporate</td>\n",
              "      <td id=\"T_f46bd_row1_col2\" class=\"data row1 col2\" >Sales</td>\n",
              "      <td id=\"T_f46bd_row1_col3\" class=\"data row1 col3\" >Accounts</td>\n",
              "      <td id=\"T_f46bd_row1_col4\" class=\"data row1 col4\" >None</td>\n",
              "    </tr>\n",
              "    <tr>\n",
              "      <td id=\"T_f46bd_row2_col0\" class=\"data row2 col0\" >Delhi</td>\n",
              "      <td id=\"T_f46bd_row2_col1\" class=\"data row2 col1\" >Research</td>\n",
              "      <td id=\"T_f46bd_row2_col2\" class=\"data row2 col2\" >None</td>\n",
              "      <td id=\"T_f46bd_row2_col3\" class=\"data row2 col3\" >None</td>\n",
              "      <td id=\"T_f46bd_row2_col4\" class=\"data row2 col4\" >None</td>\n",
              "    </tr>\n",
              "  </tbody>\n",
              "</table>\n"
            ]
          },
          "metadata": {},
          "execution_count": 51
        }
      ]
    },
    {
      "cell_type": "markdown",
      "source": [
        "#Join"
      ],
      "metadata": {
        "id": "Rs10ezIPpP0C"
      }
    },
    {
      "cell_type": "markdown",
      "source": [
        "## Basic Inner Join"
      ],
      "metadata": {
        "id": "XMfZP6HUpT4B"
      }
    },
    {
      "cell_type": "code",
      "source": [
        "sql = 'select lastname, salary, deptname, location from empl, dept where empl.deptid = dept.deptid'\n",
        "runSelect(sql)"
      ],
      "metadata": {
        "colab": {
          "base_uri": "https://localhost:8080/",
          "height": 426
        },
        "id": "ISiD-VP6pbUz",
        "outputId": "d646b982-475a-46e9-ae9c-e5d67598fa94"
      },
      "execution_count": 52,
      "outputs": [
        {
          "output_type": "execute_result",
          "data": {
            "text/plain": [
              "<pandas.io.formats.style.Styler at 0x7d0fba447fd0>"
            ],
            "text/html": [
              "<style type=\"text/css\">\n",
              "</style>\n",
              "<table id=\"T_40584\" class=\"dataframe\">\n",
              "  <thead>\n",
              "    <tr>\n",
              "      <th id=\"T_40584_level0_col0\" class=\"col_heading level0 col0\" >lastname</th>\n",
              "      <th id=\"T_40584_level0_col1\" class=\"col_heading level0 col1\" >salary</th>\n",
              "      <th id=\"T_40584_level0_col2\" class=\"col_heading level0 col2\" >deptname</th>\n",
              "      <th id=\"T_40584_level0_col3\" class=\"col_heading level0 col3\" >location</th>\n",
              "    </tr>\n",
              "  </thead>\n",
              "  <tbody>\n",
              "    <tr>\n",
              "      <td id=\"T_40584_row0_col0\" class=\"data row0 col0\" >Karthikeyan</td>\n",
              "      <td id=\"T_40584_row0_col1\" class=\"data row0 col1\" >40000</td>\n",
              "      <td id=\"T_40584_row0_col2\" class=\"data row0 col2\" >Corporate</td>\n",
              "      <td id=\"T_40584_row0_col3\" class=\"data row0 col3\" >Calcutta</td>\n",
              "    </tr>\n",
              "    <tr>\n",
              "      <td id=\"T_40584_row1_col0\" class=\"data row1 col0\" >Ganesan</td>\n",
              "      <td id=\"T_40584_row1_col1\" class=\"data row1 col1\" >60000</td>\n",
              "      <td id=\"T_40584_row1_col2\" class=\"data row1 col2\" >Corporate</td>\n",
              "      <td id=\"T_40584_row1_col3\" class=\"data row1 col3\" >Calcutta</td>\n",
              "    </tr>\n",
              "    <tr>\n",
              "      <td id=\"T_40584_row2_col0\" class=\"data row2 col0\" >Bacchan</td>\n",
              "      <td id=\"T_40584_row2_col1\" class=\"data row2 col1\" >50000</td>\n",
              "      <td id=\"T_40584_row2_col2\" class=\"data row2 col2\" >Corporate</td>\n",
              "      <td id=\"T_40584_row2_col3\" class=\"data row2 col3\" >Calcutta</td>\n",
              "    </tr>\n",
              "    <tr>\n",
              "      <td id=\"T_40584_row3_col0\" class=\"data row3 col0\" >Sehwag</td>\n",
              "      <td id=\"T_40584_row3_col1\" class=\"data row3 col1\" >15000</td>\n",
              "      <td id=\"T_40584_row3_col2\" class=\"data row3 col2\" >Sales</td>\n",
              "      <td id=\"T_40584_row3_col3\" class=\"data row3 col3\" >Calcutta</td>\n",
              "    </tr>\n",
              "    <tr>\n",
              "      <td id=\"T_40584_row4_col0\" class=\"data row4 col0\" >Khan</td>\n",
              "      <td id=\"T_40584_row4_col1\" class=\"data row4 col1\" >30000</td>\n",
              "      <td id=\"T_40584_row4_col2\" class=\"data row4 col2\" >Sales</td>\n",
              "      <td id=\"T_40584_row4_col3\" class=\"data row4 col3\" >Calcutta</td>\n",
              "    </tr>\n",
              "    <tr>\n",
              "      <td id=\"T_40584_row5_col0\" class=\"data row5 col0\" >Dikshit</td>\n",
              "      <td id=\"T_40584_row5_col1\" class=\"data row5 col1\" >10000</td>\n",
              "      <td id=\"T_40584_row5_col2\" class=\"data row5 col2\" >Sales</td>\n",
              "      <td id=\"T_40584_row5_col3\" class=\"data row5 col3\" >Calcutta</td>\n",
              "    </tr>\n",
              "    <tr>\n",
              "      <td id=\"T_40584_row6_col0\" class=\"data row6 col0\" >Mirza</td>\n",
              "      <td id=\"T_40584_row6_col1\" class=\"data row6 col1\" >25000</td>\n",
              "      <td id=\"T_40584_row6_col2\" class=\"data row6 col2\" >Accounts</td>\n",
              "      <td id=\"T_40584_row6_col3\" class=\"data row6 col3\" >Calcutta</td>\n",
              "    </tr>\n",
              "    <tr>\n",
              "      <td id=\"T_40584_row7_col0\" class=\"data row7 col0\" >Dalmia</td>\n",
              "      <td id=\"T_40584_row7_col1\" class=\"data row7 col1\" >12000</td>\n",
              "      <td id=\"T_40584_row7_col2\" class=\"data row7 col2\" >Accounts</td>\n",
              "      <td id=\"T_40584_row7_col3\" class=\"data row7 col3\" >Calcutta</td>\n",
              "    </tr>\n",
              "    <tr>\n",
              "      <td id=\"T_40584_row8_col0\" class=\"data row8 col0\" >Dravid</td>\n",
              "      <td id=\"T_40584_row8_col1\" class=\"data row8 col1\" >40000</td>\n",
              "      <td id=\"T_40584_row8_col2\" class=\"data row8 col2\" >Accounts</td>\n",
              "      <td id=\"T_40584_row8_col3\" class=\"data row8 col3\" >Calcutta</td>\n",
              "    </tr>\n",
              "    <tr>\n",
              "      <td id=\"T_40584_row9_col0\" class=\"data row9 col0\" >Ganguly</td>\n",
              "      <td id=\"T_40584_row9_col1\" class=\"data row9 col1\" >20000</td>\n",
              "      <td id=\"T_40584_row9_col2\" class=\"data row9 col2\" >Production</td>\n",
              "      <td id=\"T_40584_row9_col3\" class=\"data row9 col3\" >Bombay</td>\n",
              "    </tr>\n",
              "    <tr>\n",
              "      <td id=\"T_40584_row10_col0\" class=\"data row10 col0\" >Dhoni</td>\n",
              "      <td id=\"T_40584_row10_col1\" class=\"data row10 col1\" >9000</td>\n",
              "      <td id=\"T_40584_row10_col2\" class=\"data row10 col2\" >Production</td>\n",
              "      <td id=\"T_40584_row10_col3\" class=\"data row10 col3\" >Bombay</td>\n",
              "    </tr>\n",
              "    <tr>\n",
              "      <td id=\"T_40584_row11_col0\" class=\"data row11 col0\" >Mukherjee</td>\n",
              "      <td id=\"T_40584_row11_col1\" class=\"data row11 col1\" >25000</td>\n",
              "      <td id=\"T_40584_row11_col2\" class=\"data row11 col2\" >Production</td>\n",
              "      <td id=\"T_40584_row11_col3\" class=\"data row11 col3\" >Bombay</td>\n",
              "    </tr>\n",
              "  </tbody>\n",
              "</table>\n"
            ]
          },
          "metadata": {},
          "execution_count": 52
        }
      ]
    },
    {
      "cell_type": "code",
      "source": [
        "sql = 'select empid, firstname, deptname, location from empl INNER JOIN dept ON empl.deptid = dept.deptid'\n",
        "runSelect(sql)"
      ],
      "metadata": {
        "colab": {
          "base_uri": "https://localhost:8080/",
          "height": 426
        },
        "id": "LVrEArEc1VcF",
        "outputId": "e67bb3a0-1009-4e09-8d8b-cb301e171e30"
      },
      "execution_count": 53,
      "outputs": [
        {
          "output_type": "execute_result",
          "data": {
            "text/plain": [
              "<pandas.io.formats.style.Styler at 0x7d0fba446500>"
            ],
            "text/html": [
              "<style type=\"text/css\">\n",
              "</style>\n",
              "<table id=\"T_3e629\" class=\"dataframe\">\n",
              "  <thead>\n",
              "    <tr>\n",
              "      <th id=\"T_3e629_level0_col0\" class=\"col_heading level0 col0\" >empid</th>\n",
              "      <th id=\"T_3e629_level0_col1\" class=\"col_heading level0 col1\" >firstname</th>\n",
              "      <th id=\"T_3e629_level0_col2\" class=\"col_heading level0 col2\" >deptname</th>\n",
              "      <th id=\"T_3e629_level0_col3\" class=\"col_heading level0 col3\" >location</th>\n",
              "    </tr>\n",
              "  </thead>\n",
              "  <tbody>\n",
              "    <tr>\n",
              "      <td id=\"T_3e629_row0_col0\" class=\"data row0 col0\" >546223</td>\n",
              "      <td id=\"T_3e629_row0_col1\" class=\"data row0 col1\" >Narayan</td>\n",
              "      <td id=\"T_3e629_row0_col2\" class=\"data row0 col2\" >Corporate</td>\n",
              "      <td id=\"T_3e629_row0_col3\" class=\"data row0 col3\" >Calcutta</td>\n",
              "    </tr>\n",
              "    <tr>\n",
              "      <td id=\"T_3e629_row1_col0\" class=\"data row1 col0\" >299034</td>\n",
              "      <td id=\"T_3e629_row1_col1\" class=\"data row1 col1\" >Rekha</td>\n",
              "      <td id=\"T_3e629_row1_col2\" class=\"data row1 col2\" >Corporate</td>\n",
              "      <td id=\"T_3e629_row1_col3\" class=\"data row1 col3\" >Calcutta</td>\n",
              "    </tr>\n",
              "    <tr>\n",
              "      <td id=\"T_3e629_row2_col0\" class=\"data row2 col0\" >742866</td>\n",
              "      <td id=\"T_3e629_row2_col1\" class=\"data row2 col1\" >Amitabh</td>\n",
              "      <td id=\"T_3e629_row2_col2\" class=\"data row2 col2\" >Corporate</td>\n",
              "      <td id=\"T_3e629_row2_col3\" class=\"data row2 col3\" >Calcutta</td>\n",
              "    </tr>\n",
              "    <tr>\n",
              "      <td id=\"T_3e629_row3_col0\" class=\"data row3 col0\" >897889</td>\n",
              "      <td id=\"T_3e629_row3_col1\" class=\"data row3 col1\" >Virender</td>\n",
              "      <td id=\"T_3e629_row3_col2\" class=\"data row3 col2\" >Sales</td>\n",
              "      <td id=\"T_3e629_row3_col3\" class=\"data row3 col3\" >Calcutta</td>\n",
              "    </tr>\n",
              "    <tr>\n",
              "      <td id=\"T_3e629_row4_col0\" class=\"data row4 col0\" >239456</td>\n",
              "      <td id=\"T_3e629_row4_col1\" class=\"data row4 col1\" >Shahrukh</td>\n",
              "      <td id=\"T_3e629_row4_col2\" class=\"data row4 col2\" >Sales</td>\n",
              "      <td id=\"T_3e629_row4_col3\" class=\"data row4 col3\" >Calcutta</td>\n",
              "    </tr>\n",
              "    <tr>\n",
              "      <td id=\"T_3e629_row5_col0\" class=\"data row5 col0\" >865477</td>\n",
              "      <td id=\"T_3e629_row5_col1\" class=\"data row5 col1\" >Madhuri</td>\n",
              "      <td id=\"T_3e629_row5_col2\" class=\"data row5 col2\" >Sales</td>\n",
              "      <td id=\"T_3e629_row5_col3\" class=\"data row5 col3\" >Calcutta</td>\n",
              "    </tr>\n",
              "    <tr>\n",
              "      <td id=\"T_3e629_row6_col0\" class=\"data row6 col0\" >223112</td>\n",
              "      <td id=\"T_3e629_row6_col1\" class=\"data row6 col1\" >Sania</td>\n",
              "      <td id=\"T_3e629_row6_col2\" class=\"data row6 col2\" >Accounts</td>\n",
              "      <td id=\"T_3e629_row6_col3\" class=\"data row6 col3\" >Calcutta</td>\n",
              "    </tr>\n",
              "    <tr>\n",
              "      <td id=\"T_3e629_row7_col0\" class=\"data row7 col0\" >997445</td>\n",
              "      <td id=\"T_3e629_row7_col1\" class=\"data row7 col1\" >Jagmohan</td>\n",
              "      <td id=\"T_3e629_row7_col2\" class=\"data row7 col2\" >Accounts</td>\n",
              "      <td id=\"T_3e629_row7_col3\" class=\"data row7 col3\" >Calcutta</td>\n",
              "    </tr>\n",
              "    <tr>\n",
              "      <td id=\"T_3e629_row8_col0\" class=\"data row8 col0\" >822134</td>\n",
              "      <td id=\"T_3e629_row8_col1\" class=\"data row8 col1\" >Rahul</td>\n",
              "      <td id=\"T_3e629_row8_col2\" class=\"data row8 col2\" >Accounts</td>\n",
              "      <td id=\"T_3e629_row8_col3\" class=\"data row8 col3\" >Calcutta</td>\n",
              "    </tr>\n",
              "    <tr>\n",
              "      <td id=\"T_3e629_row9_col0\" class=\"data row9 col0\" >989007</td>\n",
              "      <td id=\"T_3e629_row9_col1\" class=\"data row9 col1\" >Sourav</td>\n",
              "      <td id=\"T_3e629_row9_col2\" class=\"data row9 col2\" >Production</td>\n",
              "      <td id=\"T_3e629_row9_col3\" class=\"data row9 col3\" >Bombay</td>\n",
              "    </tr>\n",
              "    <tr>\n",
              "      <td id=\"T_3e629_row10_col0\" class=\"data row10 col0\" >123980</td>\n",
              "      <td id=\"T_3e629_row10_col1\" class=\"data row10 col1\" >Mahender</td>\n",
              "      <td id=\"T_3e629_row10_col2\" class=\"data row10 col2\" >Production</td>\n",
              "      <td id=\"T_3e629_row10_col3\" class=\"data row10 col3\" >Bombay</td>\n",
              "    </tr>\n",
              "    <tr>\n",
              "      <td id=\"T_3e629_row11_col0\" class=\"data row11 col0\" >349870</td>\n",
              "      <td id=\"T_3e629_row11_col1\" class=\"data row11 col1\" >Rani</td>\n",
              "      <td id=\"T_3e629_row11_col2\" class=\"data row11 col2\" >Production</td>\n",
              "      <td id=\"T_3e629_row11_col3\" class=\"data row11 col3\" >Bombay</td>\n",
              "    </tr>\n",
              "  </tbody>\n",
              "</table>\n"
            ]
          },
          "metadata": {},
          "execution_count": 53
        }
      ]
    },
    {
      "cell_type": "markdown",
      "source": [
        "## Outer Join"
      ],
      "metadata": {
        "id": "tK9uJHAL1u6x"
      }
    },
    {
      "cell_type": "markdown",
      "source": [
        "### Left Outer"
      ],
      "metadata": {
        "id": "5wGFVhyJ2x8S"
      }
    },
    {
      "cell_type": "code",
      "source": [
        "sql = 'select empid, firstname, deptname, location from empl LEFT JOIN dept ON empl.deptid = dept.deptid'\n",
        "runSelect(sql)"
      ],
      "metadata": {
        "colab": {
          "base_uri": "https://localhost:8080/",
          "height": 457
        },
        "id": "Ls6VfOXt1zTq",
        "outputId": "6c8ec0d3-63ac-41b5-de83-a4bde5cdeba9"
      },
      "execution_count": 54,
      "outputs": [
        {
          "output_type": "execute_result",
          "data": {
            "text/plain": [
              "<pandas.io.formats.style.Styler at 0x7d0fba447940>"
            ],
            "text/html": [
              "<style type=\"text/css\">\n",
              "</style>\n",
              "<table id=\"T_e6da5\" class=\"dataframe\">\n",
              "  <thead>\n",
              "    <tr>\n",
              "      <th id=\"T_e6da5_level0_col0\" class=\"col_heading level0 col0\" >empid</th>\n",
              "      <th id=\"T_e6da5_level0_col1\" class=\"col_heading level0 col1\" >firstname</th>\n",
              "      <th id=\"T_e6da5_level0_col2\" class=\"col_heading level0 col2\" >deptname</th>\n",
              "      <th id=\"T_e6da5_level0_col3\" class=\"col_heading level0 col3\" >location</th>\n",
              "    </tr>\n",
              "  </thead>\n",
              "  <tbody>\n",
              "    <tr>\n",
              "      <td id=\"T_e6da5_row0_col0\" class=\"data row0 col0\" >546223</td>\n",
              "      <td id=\"T_e6da5_row0_col1\" class=\"data row0 col1\" >Narayan</td>\n",
              "      <td id=\"T_e6da5_row0_col2\" class=\"data row0 col2\" >Corporate</td>\n",
              "      <td id=\"T_e6da5_row0_col3\" class=\"data row0 col3\" >Calcutta</td>\n",
              "    </tr>\n",
              "    <tr>\n",
              "      <td id=\"T_e6da5_row1_col0\" class=\"data row1 col0\" >299034</td>\n",
              "      <td id=\"T_e6da5_row1_col1\" class=\"data row1 col1\" >Rekha</td>\n",
              "      <td id=\"T_e6da5_row1_col2\" class=\"data row1 col2\" >Corporate</td>\n",
              "      <td id=\"T_e6da5_row1_col3\" class=\"data row1 col3\" >Calcutta</td>\n",
              "    </tr>\n",
              "    <tr>\n",
              "      <td id=\"T_e6da5_row2_col0\" class=\"data row2 col0\" >742866</td>\n",
              "      <td id=\"T_e6da5_row2_col1\" class=\"data row2 col1\" >Amitabh</td>\n",
              "      <td id=\"T_e6da5_row2_col2\" class=\"data row2 col2\" >Corporate</td>\n",
              "      <td id=\"T_e6da5_row2_col3\" class=\"data row2 col3\" >Calcutta</td>\n",
              "    </tr>\n",
              "    <tr>\n",
              "      <td id=\"T_e6da5_row3_col0\" class=\"data row3 col0\" >897889</td>\n",
              "      <td id=\"T_e6da5_row3_col1\" class=\"data row3 col1\" >Virender</td>\n",
              "      <td id=\"T_e6da5_row3_col2\" class=\"data row3 col2\" >Sales</td>\n",
              "      <td id=\"T_e6da5_row3_col3\" class=\"data row3 col3\" >Calcutta</td>\n",
              "    </tr>\n",
              "    <tr>\n",
              "      <td id=\"T_e6da5_row4_col0\" class=\"data row4 col0\" >239456</td>\n",
              "      <td id=\"T_e6da5_row4_col1\" class=\"data row4 col1\" >Shahrukh</td>\n",
              "      <td id=\"T_e6da5_row4_col2\" class=\"data row4 col2\" >Sales</td>\n",
              "      <td id=\"T_e6da5_row4_col3\" class=\"data row4 col3\" >Calcutta</td>\n",
              "    </tr>\n",
              "    <tr>\n",
              "      <td id=\"T_e6da5_row5_col0\" class=\"data row5 col0\" >865477</td>\n",
              "      <td id=\"T_e6da5_row5_col1\" class=\"data row5 col1\" >Madhuri</td>\n",
              "      <td id=\"T_e6da5_row5_col2\" class=\"data row5 col2\" >Sales</td>\n",
              "      <td id=\"T_e6da5_row5_col3\" class=\"data row5 col3\" >Calcutta</td>\n",
              "    </tr>\n",
              "    <tr>\n",
              "      <td id=\"T_e6da5_row6_col0\" class=\"data row6 col0\" >223112</td>\n",
              "      <td id=\"T_e6da5_row6_col1\" class=\"data row6 col1\" >Sania</td>\n",
              "      <td id=\"T_e6da5_row6_col2\" class=\"data row6 col2\" >Accounts</td>\n",
              "      <td id=\"T_e6da5_row6_col3\" class=\"data row6 col3\" >Calcutta</td>\n",
              "    </tr>\n",
              "    <tr>\n",
              "      <td id=\"T_e6da5_row7_col0\" class=\"data row7 col0\" >997445</td>\n",
              "      <td id=\"T_e6da5_row7_col1\" class=\"data row7 col1\" >Jagmohan</td>\n",
              "      <td id=\"T_e6da5_row7_col2\" class=\"data row7 col2\" >Accounts</td>\n",
              "      <td id=\"T_e6da5_row7_col3\" class=\"data row7 col3\" >Calcutta</td>\n",
              "    </tr>\n",
              "    <tr>\n",
              "      <td id=\"T_e6da5_row8_col0\" class=\"data row8 col0\" >822134</td>\n",
              "      <td id=\"T_e6da5_row8_col1\" class=\"data row8 col1\" >Rahul</td>\n",
              "      <td id=\"T_e6da5_row8_col2\" class=\"data row8 col2\" >Accounts</td>\n",
              "      <td id=\"T_e6da5_row8_col3\" class=\"data row8 col3\" >Calcutta</td>\n",
              "    </tr>\n",
              "    <tr>\n",
              "      <td id=\"T_e6da5_row9_col0\" class=\"data row9 col0\" >989007</td>\n",
              "      <td id=\"T_e6da5_row9_col1\" class=\"data row9 col1\" >Sourav</td>\n",
              "      <td id=\"T_e6da5_row9_col2\" class=\"data row9 col2\" >Production</td>\n",
              "      <td id=\"T_e6da5_row9_col3\" class=\"data row9 col3\" >Bombay</td>\n",
              "    </tr>\n",
              "    <tr>\n",
              "      <td id=\"T_e6da5_row10_col0\" class=\"data row10 col0\" >123980</td>\n",
              "      <td id=\"T_e6da5_row10_col1\" class=\"data row10 col1\" >Mahender</td>\n",
              "      <td id=\"T_e6da5_row10_col2\" class=\"data row10 col2\" >Production</td>\n",
              "      <td id=\"T_e6da5_row10_col3\" class=\"data row10 col3\" >Bombay</td>\n",
              "    </tr>\n",
              "    <tr>\n",
              "      <td id=\"T_e6da5_row11_col0\" class=\"data row11 col0\" >349870</td>\n",
              "      <td id=\"T_e6da5_row11_col1\" class=\"data row11 col1\" >Rani</td>\n",
              "      <td id=\"T_e6da5_row11_col2\" class=\"data row11 col2\" >Production</td>\n",
              "      <td id=\"T_e6da5_row11_col3\" class=\"data row11 col3\" >Bombay</td>\n",
              "    </tr>\n",
              "    <tr>\n",
              "      <td id=\"T_e6da5_row12_col0\" class=\"data row12 col0\" >546224</td>\n",
              "      <td id=\"T_e6da5_row12_col1\" class=\"data row12 col1\" >Chettri</td>\n",
              "      <td id=\"T_e6da5_row12_col2\" class=\"data row12 col2\" >None</td>\n",
              "      <td id=\"T_e6da5_row12_col3\" class=\"data row12 col3\" >None</td>\n",
              "    </tr>\n",
              "  </tbody>\n",
              "</table>\n"
            ]
          },
          "metadata": {},
          "execution_count": 54
        }
      ]
    },
    {
      "cell_type": "markdown",
      "source": [
        "### Right Outer"
      ],
      "metadata": {
        "id": "iJ6DASb121Og"
      }
    },
    {
      "cell_type": "code",
      "source": [
        "sql = 'select empid, firstname, deptname, location from empl RIGHT JOIN dept ON empl.deptid = dept.deptid'\n",
        "runSelect(sql)"
      ],
      "metadata": {
        "colab": {
          "base_uri": "https://localhost:8080/",
          "height": 457
        },
        "id": "khvQpQ4E2XND",
        "outputId": "16f20b41-be98-4959-d8a1-1c6b4ef16dfa"
      },
      "execution_count": 55,
      "outputs": [
        {
          "output_type": "execute_result",
          "data": {
            "text/plain": [
              "<pandas.io.formats.style.Styler at 0x7d0fba4460e0>"
            ],
            "text/html": [
              "<style type=\"text/css\">\n",
              "</style>\n",
              "<table id=\"T_6f279\" class=\"dataframe\">\n",
              "  <thead>\n",
              "    <tr>\n",
              "      <th id=\"T_6f279_level0_col0\" class=\"col_heading level0 col0\" >empid</th>\n",
              "      <th id=\"T_6f279_level0_col1\" class=\"col_heading level0 col1\" >firstname</th>\n",
              "      <th id=\"T_6f279_level0_col2\" class=\"col_heading level0 col2\" >deptname</th>\n",
              "      <th id=\"T_6f279_level0_col3\" class=\"col_heading level0 col3\" >location</th>\n",
              "    </tr>\n",
              "  </thead>\n",
              "  <tbody>\n",
              "    <tr>\n",
              "      <td id=\"T_6f279_row0_col0\" class=\"data row0 col0\" >546223</td>\n",
              "      <td id=\"T_6f279_row0_col1\" class=\"data row0 col1\" >Narayan</td>\n",
              "      <td id=\"T_6f279_row0_col2\" class=\"data row0 col2\" >Corporate</td>\n",
              "      <td id=\"T_6f279_row0_col3\" class=\"data row0 col3\" >Calcutta</td>\n",
              "    </tr>\n",
              "    <tr>\n",
              "      <td id=\"T_6f279_row1_col0\" class=\"data row1 col0\" >299034</td>\n",
              "      <td id=\"T_6f279_row1_col1\" class=\"data row1 col1\" >Rekha</td>\n",
              "      <td id=\"T_6f279_row1_col2\" class=\"data row1 col2\" >Corporate</td>\n",
              "      <td id=\"T_6f279_row1_col3\" class=\"data row1 col3\" >Calcutta</td>\n",
              "    </tr>\n",
              "    <tr>\n",
              "      <td id=\"T_6f279_row2_col0\" class=\"data row2 col0\" >742866</td>\n",
              "      <td id=\"T_6f279_row2_col1\" class=\"data row2 col1\" >Amitabh</td>\n",
              "      <td id=\"T_6f279_row2_col2\" class=\"data row2 col2\" >Corporate</td>\n",
              "      <td id=\"T_6f279_row2_col3\" class=\"data row2 col3\" >Calcutta</td>\n",
              "    </tr>\n",
              "    <tr>\n",
              "      <td id=\"T_6f279_row3_col0\" class=\"data row3 col0\" >897889</td>\n",
              "      <td id=\"T_6f279_row3_col1\" class=\"data row3 col1\" >Virender</td>\n",
              "      <td id=\"T_6f279_row3_col2\" class=\"data row3 col2\" >Sales</td>\n",
              "      <td id=\"T_6f279_row3_col3\" class=\"data row3 col3\" >Calcutta</td>\n",
              "    </tr>\n",
              "    <tr>\n",
              "      <td id=\"T_6f279_row4_col0\" class=\"data row4 col0\" >239456</td>\n",
              "      <td id=\"T_6f279_row4_col1\" class=\"data row4 col1\" >Shahrukh</td>\n",
              "      <td id=\"T_6f279_row4_col2\" class=\"data row4 col2\" >Sales</td>\n",
              "      <td id=\"T_6f279_row4_col3\" class=\"data row4 col3\" >Calcutta</td>\n",
              "    </tr>\n",
              "    <tr>\n",
              "      <td id=\"T_6f279_row5_col0\" class=\"data row5 col0\" >865477</td>\n",
              "      <td id=\"T_6f279_row5_col1\" class=\"data row5 col1\" >Madhuri</td>\n",
              "      <td id=\"T_6f279_row5_col2\" class=\"data row5 col2\" >Sales</td>\n",
              "      <td id=\"T_6f279_row5_col3\" class=\"data row5 col3\" >Calcutta</td>\n",
              "    </tr>\n",
              "    <tr>\n",
              "      <td id=\"T_6f279_row6_col0\" class=\"data row6 col0\" >223112</td>\n",
              "      <td id=\"T_6f279_row6_col1\" class=\"data row6 col1\" >Sania</td>\n",
              "      <td id=\"T_6f279_row6_col2\" class=\"data row6 col2\" >Accounts</td>\n",
              "      <td id=\"T_6f279_row6_col3\" class=\"data row6 col3\" >Calcutta</td>\n",
              "    </tr>\n",
              "    <tr>\n",
              "      <td id=\"T_6f279_row7_col0\" class=\"data row7 col0\" >997445</td>\n",
              "      <td id=\"T_6f279_row7_col1\" class=\"data row7 col1\" >Jagmohan</td>\n",
              "      <td id=\"T_6f279_row7_col2\" class=\"data row7 col2\" >Accounts</td>\n",
              "      <td id=\"T_6f279_row7_col3\" class=\"data row7 col3\" >Calcutta</td>\n",
              "    </tr>\n",
              "    <tr>\n",
              "      <td id=\"T_6f279_row8_col0\" class=\"data row8 col0\" >822134</td>\n",
              "      <td id=\"T_6f279_row8_col1\" class=\"data row8 col1\" >Rahul</td>\n",
              "      <td id=\"T_6f279_row8_col2\" class=\"data row8 col2\" >Accounts</td>\n",
              "      <td id=\"T_6f279_row8_col3\" class=\"data row8 col3\" >Calcutta</td>\n",
              "    </tr>\n",
              "    <tr>\n",
              "      <td id=\"T_6f279_row9_col0\" class=\"data row9 col0\" >989007</td>\n",
              "      <td id=\"T_6f279_row9_col1\" class=\"data row9 col1\" >Sourav</td>\n",
              "      <td id=\"T_6f279_row9_col2\" class=\"data row9 col2\" >Production</td>\n",
              "      <td id=\"T_6f279_row9_col3\" class=\"data row9 col3\" >Bombay</td>\n",
              "    </tr>\n",
              "    <tr>\n",
              "      <td id=\"T_6f279_row10_col0\" class=\"data row10 col0\" >123980</td>\n",
              "      <td id=\"T_6f279_row10_col1\" class=\"data row10 col1\" >Mahender</td>\n",
              "      <td id=\"T_6f279_row10_col2\" class=\"data row10 col2\" >Production</td>\n",
              "      <td id=\"T_6f279_row10_col3\" class=\"data row10 col3\" >Bombay</td>\n",
              "    </tr>\n",
              "    <tr>\n",
              "      <td id=\"T_6f279_row11_col0\" class=\"data row11 col0\" >349870</td>\n",
              "      <td id=\"T_6f279_row11_col1\" class=\"data row11 col1\" >Rani</td>\n",
              "      <td id=\"T_6f279_row11_col2\" class=\"data row11 col2\" >Production</td>\n",
              "      <td id=\"T_6f279_row11_col3\" class=\"data row11 col3\" >Bombay</td>\n",
              "    </tr>\n",
              "    <tr>\n",
              "      <td id=\"T_6f279_row12_col0\" class=\"data row12 col0\" >None</td>\n",
              "      <td id=\"T_6f279_row12_col1\" class=\"data row12 col1\" >None</td>\n",
              "      <td id=\"T_6f279_row12_col2\" class=\"data row12 col2\" >Research</td>\n",
              "      <td id=\"T_6f279_row12_col3\" class=\"data row12 col3\" >Delhi</td>\n",
              "    </tr>\n",
              "  </tbody>\n",
              "</table>\n"
            ]
          },
          "metadata": {},
          "execution_count": 55
        }
      ]
    },
    {
      "cell_type": "markdown",
      "source": [
        "### Full Outer"
      ],
      "metadata": {
        "id": "RsEyhBBp24zy"
      }
    },
    {
      "cell_type": "code",
      "source": [
        "sql = 'select empid, firstname, deptname, location from empl FULL JOIN dept ON empl.deptid = dept.deptid'\n",
        "runSelect(sql)"
      ],
      "metadata": {
        "colab": {
          "base_uri": "https://localhost:8080/",
          "height": 488
        },
        "id": "Ipt14U9o2qFg",
        "outputId": "2d61eaac-a67d-4acc-b93a-a37aa1f2d9a2"
      },
      "execution_count": 56,
      "outputs": [
        {
          "output_type": "execute_result",
          "data": {
            "text/plain": [
              "<pandas.io.formats.style.Styler at 0x7d0fba4445b0>"
            ],
            "text/html": [
              "<style type=\"text/css\">\n",
              "</style>\n",
              "<table id=\"T_3fe0c\" class=\"dataframe\">\n",
              "  <thead>\n",
              "    <tr>\n",
              "      <th id=\"T_3fe0c_level0_col0\" class=\"col_heading level0 col0\" >empid</th>\n",
              "      <th id=\"T_3fe0c_level0_col1\" class=\"col_heading level0 col1\" >firstname</th>\n",
              "      <th id=\"T_3fe0c_level0_col2\" class=\"col_heading level0 col2\" >deptname</th>\n",
              "      <th id=\"T_3fe0c_level0_col3\" class=\"col_heading level0 col3\" >location</th>\n",
              "    </tr>\n",
              "  </thead>\n",
              "  <tbody>\n",
              "    <tr>\n",
              "      <td id=\"T_3fe0c_row0_col0\" class=\"data row0 col0\" >546223</td>\n",
              "      <td id=\"T_3fe0c_row0_col1\" class=\"data row0 col1\" >Narayan</td>\n",
              "      <td id=\"T_3fe0c_row0_col2\" class=\"data row0 col2\" >Corporate</td>\n",
              "      <td id=\"T_3fe0c_row0_col3\" class=\"data row0 col3\" >Calcutta</td>\n",
              "    </tr>\n",
              "    <tr>\n",
              "      <td id=\"T_3fe0c_row1_col0\" class=\"data row1 col0\" >299034</td>\n",
              "      <td id=\"T_3fe0c_row1_col1\" class=\"data row1 col1\" >Rekha</td>\n",
              "      <td id=\"T_3fe0c_row1_col2\" class=\"data row1 col2\" >Corporate</td>\n",
              "      <td id=\"T_3fe0c_row1_col3\" class=\"data row1 col3\" >Calcutta</td>\n",
              "    </tr>\n",
              "    <tr>\n",
              "      <td id=\"T_3fe0c_row2_col0\" class=\"data row2 col0\" >742866</td>\n",
              "      <td id=\"T_3fe0c_row2_col1\" class=\"data row2 col1\" >Amitabh</td>\n",
              "      <td id=\"T_3fe0c_row2_col2\" class=\"data row2 col2\" >Corporate</td>\n",
              "      <td id=\"T_3fe0c_row2_col3\" class=\"data row2 col3\" >Calcutta</td>\n",
              "    </tr>\n",
              "    <tr>\n",
              "      <td id=\"T_3fe0c_row3_col0\" class=\"data row3 col0\" >897889</td>\n",
              "      <td id=\"T_3fe0c_row3_col1\" class=\"data row3 col1\" >Virender</td>\n",
              "      <td id=\"T_3fe0c_row3_col2\" class=\"data row3 col2\" >Sales</td>\n",
              "      <td id=\"T_3fe0c_row3_col3\" class=\"data row3 col3\" >Calcutta</td>\n",
              "    </tr>\n",
              "    <tr>\n",
              "      <td id=\"T_3fe0c_row4_col0\" class=\"data row4 col0\" >239456</td>\n",
              "      <td id=\"T_3fe0c_row4_col1\" class=\"data row4 col1\" >Shahrukh</td>\n",
              "      <td id=\"T_3fe0c_row4_col2\" class=\"data row4 col2\" >Sales</td>\n",
              "      <td id=\"T_3fe0c_row4_col3\" class=\"data row4 col3\" >Calcutta</td>\n",
              "    </tr>\n",
              "    <tr>\n",
              "      <td id=\"T_3fe0c_row5_col0\" class=\"data row5 col0\" >865477</td>\n",
              "      <td id=\"T_3fe0c_row5_col1\" class=\"data row5 col1\" >Madhuri</td>\n",
              "      <td id=\"T_3fe0c_row5_col2\" class=\"data row5 col2\" >Sales</td>\n",
              "      <td id=\"T_3fe0c_row5_col3\" class=\"data row5 col3\" >Calcutta</td>\n",
              "    </tr>\n",
              "    <tr>\n",
              "      <td id=\"T_3fe0c_row6_col0\" class=\"data row6 col0\" >223112</td>\n",
              "      <td id=\"T_3fe0c_row6_col1\" class=\"data row6 col1\" >Sania</td>\n",
              "      <td id=\"T_3fe0c_row6_col2\" class=\"data row6 col2\" >Accounts</td>\n",
              "      <td id=\"T_3fe0c_row6_col3\" class=\"data row6 col3\" >Calcutta</td>\n",
              "    </tr>\n",
              "    <tr>\n",
              "      <td id=\"T_3fe0c_row7_col0\" class=\"data row7 col0\" >997445</td>\n",
              "      <td id=\"T_3fe0c_row7_col1\" class=\"data row7 col1\" >Jagmohan</td>\n",
              "      <td id=\"T_3fe0c_row7_col2\" class=\"data row7 col2\" >Accounts</td>\n",
              "      <td id=\"T_3fe0c_row7_col3\" class=\"data row7 col3\" >Calcutta</td>\n",
              "    </tr>\n",
              "    <tr>\n",
              "      <td id=\"T_3fe0c_row8_col0\" class=\"data row8 col0\" >822134</td>\n",
              "      <td id=\"T_3fe0c_row8_col1\" class=\"data row8 col1\" >Rahul</td>\n",
              "      <td id=\"T_3fe0c_row8_col2\" class=\"data row8 col2\" >Accounts</td>\n",
              "      <td id=\"T_3fe0c_row8_col3\" class=\"data row8 col3\" >Calcutta</td>\n",
              "    </tr>\n",
              "    <tr>\n",
              "      <td id=\"T_3fe0c_row9_col0\" class=\"data row9 col0\" >989007</td>\n",
              "      <td id=\"T_3fe0c_row9_col1\" class=\"data row9 col1\" >Sourav</td>\n",
              "      <td id=\"T_3fe0c_row9_col2\" class=\"data row9 col2\" >Production</td>\n",
              "      <td id=\"T_3fe0c_row9_col3\" class=\"data row9 col3\" >Bombay</td>\n",
              "    </tr>\n",
              "    <tr>\n",
              "      <td id=\"T_3fe0c_row10_col0\" class=\"data row10 col0\" >123980</td>\n",
              "      <td id=\"T_3fe0c_row10_col1\" class=\"data row10 col1\" >Mahender</td>\n",
              "      <td id=\"T_3fe0c_row10_col2\" class=\"data row10 col2\" >Production</td>\n",
              "      <td id=\"T_3fe0c_row10_col3\" class=\"data row10 col3\" >Bombay</td>\n",
              "    </tr>\n",
              "    <tr>\n",
              "      <td id=\"T_3fe0c_row11_col0\" class=\"data row11 col0\" >349870</td>\n",
              "      <td id=\"T_3fe0c_row11_col1\" class=\"data row11 col1\" >Rani</td>\n",
              "      <td id=\"T_3fe0c_row11_col2\" class=\"data row11 col2\" >Production</td>\n",
              "      <td id=\"T_3fe0c_row11_col3\" class=\"data row11 col3\" >Bombay</td>\n",
              "    </tr>\n",
              "    <tr>\n",
              "      <td id=\"T_3fe0c_row12_col0\" class=\"data row12 col0\" >None</td>\n",
              "      <td id=\"T_3fe0c_row12_col1\" class=\"data row12 col1\" >None</td>\n",
              "      <td id=\"T_3fe0c_row12_col2\" class=\"data row12 col2\" >Research</td>\n",
              "      <td id=\"T_3fe0c_row12_col3\" class=\"data row12 col3\" >Delhi</td>\n",
              "    </tr>\n",
              "    <tr>\n",
              "      <td id=\"T_3fe0c_row13_col0\" class=\"data row13 col0\" >546224</td>\n",
              "      <td id=\"T_3fe0c_row13_col1\" class=\"data row13 col1\" >Chettri</td>\n",
              "      <td id=\"T_3fe0c_row13_col2\" class=\"data row13 col2\" >None</td>\n",
              "      <td id=\"T_3fe0c_row13_col3\" class=\"data row13 col3\" >None</td>\n",
              "    </tr>\n",
              "  </tbody>\n",
              "</table>\n"
            ]
          },
          "metadata": {},
          "execution_count": 56
        }
      ]
    },
    {
      "cell_type": "markdown",
      "source": [
        "## Recursive Joins"
      ],
      "metadata": {
        "id": "6nm2xAfn6pIV"
      }
    },
    {
      "cell_type": "markdown",
      "source": [
        "### Three Tables"
      ],
      "metadata": {
        "id": "A1KCGwwyB02z"
      }
    },
    {
      "cell_type": "code",
      "source": [
        "cmd = \"select w.lastname , w.deptID, '>' linksTo  , d.deptID ,d.managerID,'<' linksTo, m.empID, m.lastname \\\n",
        "        from Empl w, Dept d, Empl m \\\n",
        "        where w.deptID = d.deptID   \\\n",
        "        and d.managerID = m.empID \\\n",
        "    \"\n",
        "runSelect(cmd)"
      ],
      "metadata": {
        "colab": {
          "base_uri": "https://localhost:8080/",
          "height": 426
        },
        "id": "W17nS5R7AL0J",
        "outputId": "26dc26a2-660a-43ea-e48f-655a38a34daa"
      },
      "execution_count": 57,
      "outputs": [
        {
          "output_type": "execute_result",
          "data": {
            "text/plain": [
              "<pandas.io.formats.style.Styler at 0x7d0fba444190>"
            ],
            "text/html": [
              "<style type=\"text/css\">\n",
              "</style>\n",
              "<table id=\"T_3fce4\" class=\"dataframe\">\n",
              "  <thead>\n",
              "    <tr>\n",
              "      <th id=\"T_3fce4_level0_col0\" class=\"col_heading level0 col0\" >lastname</th>\n",
              "      <th id=\"T_3fce4_level0_col1\" class=\"col_heading level0 col1\" >deptid</th>\n",
              "      <th id=\"T_3fce4_level0_col2\" class=\"col_heading level0 col2\" >linksto</th>\n",
              "      <th id=\"T_3fce4_level0_col3\" class=\"col_heading level0 col3\" >deptid</th>\n",
              "      <th id=\"T_3fce4_level0_col4\" class=\"col_heading level0 col4\" >managerid</th>\n",
              "      <th id=\"T_3fce4_level0_col5\" class=\"col_heading level0 col5\" >linksto</th>\n",
              "      <th id=\"T_3fce4_level0_col6\" class=\"col_heading level0 col6\" >empid</th>\n",
              "      <th id=\"T_3fce4_level0_col7\" class=\"col_heading level0 col7\" >lastname</th>\n",
              "    </tr>\n",
              "  </thead>\n",
              "  <tbody>\n",
              "    <tr>\n",
              "      <td id=\"T_3fce4_row0_col0\" class=\"data row0 col0\" >Karthikeyan</td>\n",
              "      <td id=\"T_3fce4_row0_col1\" class=\"data row0 col1\" >10</td>\n",
              "      <td id=\"T_3fce4_row0_col2\" class=\"data row0 col2\" >></td>\n",
              "      <td id=\"T_3fce4_row0_col3\" class=\"data row0 col3\" >10</td>\n",
              "      <td id=\"T_3fce4_row0_col4\" class=\"data row0 col4\" >299034</td>\n",
              "      <td id=\"T_3fce4_row0_col5\" class=\"data row0 col5\" ><</td>\n",
              "      <td id=\"T_3fce4_row0_col6\" class=\"data row0 col6\" >299034</td>\n",
              "      <td id=\"T_3fce4_row0_col7\" class=\"data row0 col7\" >Ganesan</td>\n",
              "    </tr>\n",
              "    <tr>\n",
              "      <td id=\"T_3fce4_row1_col0\" class=\"data row1 col0\" >Ganesan</td>\n",
              "      <td id=\"T_3fce4_row1_col1\" class=\"data row1 col1\" >10</td>\n",
              "      <td id=\"T_3fce4_row1_col2\" class=\"data row1 col2\" >></td>\n",
              "      <td id=\"T_3fce4_row1_col3\" class=\"data row1 col3\" >10</td>\n",
              "      <td id=\"T_3fce4_row1_col4\" class=\"data row1 col4\" >299034</td>\n",
              "      <td id=\"T_3fce4_row1_col5\" class=\"data row1 col5\" ><</td>\n",
              "      <td id=\"T_3fce4_row1_col6\" class=\"data row1 col6\" >299034</td>\n",
              "      <td id=\"T_3fce4_row1_col7\" class=\"data row1 col7\" >Ganesan</td>\n",
              "    </tr>\n",
              "    <tr>\n",
              "      <td id=\"T_3fce4_row2_col0\" class=\"data row2 col0\" >Bacchan</td>\n",
              "      <td id=\"T_3fce4_row2_col1\" class=\"data row2 col1\" >10</td>\n",
              "      <td id=\"T_3fce4_row2_col2\" class=\"data row2 col2\" >></td>\n",
              "      <td id=\"T_3fce4_row2_col3\" class=\"data row2 col3\" >10</td>\n",
              "      <td id=\"T_3fce4_row2_col4\" class=\"data row2 col4\" >299034</td>\n",
              "      <td id=\"T_3fce4_row2_col5\" class=\"data row2 col5\" ><</td>\n",
              "      <td id=\"T_3fce4_row2_col6\" class=\"data row2 col6\" >299034</td>\n",
              "      <td id=\"T_3fce4_row2_col7\" class=\"data row2 col7\" >Ganesan</td>\n",
              "    </tr>\n",
              "    <tr>\n",
              "      <td id=\"T_3fce4_row3_col0\" class=\"data row3 col0\" >Sehwag</td>\n",
              "      <td id=\"T_3fce4_row3_col1\" class=\"data row3 col1\" >20</td>\n",
              "      <td id=\"T_3fce4_row3_col2\" class=\"data row3 col2\" >></td>\n",
              "      <td id=\"T_3fce4_row3_col3\" class=\"data row3 col3\" >20</td>\n",
              "      <td id=\"T_3fce4_row3_col4\" class=\"data row3 col4\" >239456</td>\n",
              "      <td id=\"T_3fce4_row3_col5\" class=\"data row3 col5\" ><</td>\n",
              "      <td id=\"T_3fce4_row3_col6\" class=\"data row3 col6\" >239456</td>\n",
              "      <td id=\"T_3fce4_row3_col7\" class=\"data row3 col7\" >Khan</td>\n",
              "    </tr>\n",
              "    <tr>\n",
              "      <td id=\"T_3fce4_row4_col0\" class=\"data row4 col0\" >Khan</td>\n",
              "      <td id=\"T_3fce4_row4_col1\" class=\"data row4 col1\" >20</td>\n",
              "      <td id=\"T_3fce4_row4_col2\" class=\"data row4 col2\" >></td>\n",
              "      <td id=\"T_3fce4_row4_col3\" class=\"data row4 col3\" >20</td>\n",
              "      <td id=\"T_3fce4_row4_col4\" class=\"data row4 col4\" >239456</td>\n",
              "      <td id=\"T_3fce4_row4_col5\" class=\"data row4 col5\" ><</td>\n",
              "      <td id=\"T_3fce4_row4_col6\" class=\"data row4 col6\" >239456</td>\n",
              "      <td id=\"T_3fce4_row4_col7\" class=\"data row4 col7\" >Khan</td>\n",
              "    </tr>\n",
              "    <tr>\n",
              "      <td id=\"T_3fce4_row5_col0\" class=\"data row5 col0\" >Dikshit</td>\n",
              "      <td id=\"T_3fce4_row5_col1\" class=\"data row5 col1\" >20</td>\n",
              "      <td id=\"T_3fce4_row5_col2\" class=\"data row5 col2\" >></td>\n",
              "      <td id=\"T_3fce4_row5_col3\" class=\"data row5 col3\" >20</td>\n",
              "      <td id=\"T_3fce4_row5_col4\" class=\"data row5 col4\" >239456</td>\n",
              "      <td id=\"T_3fce4_row5_col5\" class=\"data row5 col5\" ><</td>\n",
              "      <td id=\"T_3fce4_row5_col6\" class=\"data row5 col6\" >239456</td>\n",
              "      <td id=\"T_3fce4_row5_col7\" class=\"data row5 col7\" >Khan</td>\n",
              "    </tr>\n",
              "    <tr>\n",
              "      <td id=\"T_3fce4_row6_col0\" class=\"data row6 col0\" >Mirza</td>\n",
              "      <td id=\"T_3fce4_row6_col1\" class=\"data row6 col1\" >30</td>\n",
              "      <td id=\"T_3fce4_row6_col2\" class=\"data row6 col2\" >></td>\n",
              "      <td id=\"T_3fce4_row6_col3\" class=\"data row6 col3\" >30</td>\n",
              "      <td id=\"T_3fce4_row6_col4\" class=\"data row6 col4\" >822134</td>\n",
              "      <td id=\"T_3fce4_row6_col5\" class=\"data row6 col5\" ><</td>\n",
              "      <td id=\"T_3fce4_row6_col6\" class=\"data row6 col6\" >822134</td>\n",
              "      <td id=\"T_3fce4_row6_col7\" class=\"data row6 col7\" >Dravid</td>\n",
              "    </tr>\n",
              "    <tr>\n",
              "      <td id=\"T_3fce4_row7_col0\" class=\"data row7 col0\" >Dalmia</td>\n",
              "      <td id=\"T_3fce4_row7_col1\" class=\"data row7 col1\" >30</td>\n",
              "      <td id=\"T_3fce4_row7_col2\" class=\"data row7 col2\" >></td>\n",
              "      <td id=\"T_3fce4_row7_col3\" class=\"data row7 col3\" >30</td>\n",
              "      <td id=\"T_3fce4_row7_col4\" class=\"data row7 col4\" >822134</td>\n",
              "      <td id=\"T_3fce4_row7_col5\" class=\"data row7 col5\" ><</td>\n",
              "      <td id=\"T_3fce4_row7_col6\" class=\"data row7 col6\" >822134</td>\n",
              "      <td id=\"T_3fce4_row7_col7\" class=\"data row7 col7\" >Dravid</td>\n",
              "    </tr>\n",
              "    <tr>\n",
              "      <td id=\"T_3fce4_row8_col0\" class=\"data row8 col0\" >Dravid</td>\n",
              "      <td id=\"T_3fce4_row8_col1\" class=\"data row8 col1\" >30</td>\n",
              "      <td id=\"T_3fce4_row8_col2\" class=\"data row8 col2\" >></td>\n",
              "      <td id=\"T_3fce4_row8_col3\" class=\"data row8 col3\" >30</td>\n",
              "      <td id=\"T_3fce4_row8_col4\" class=\"data row8 col4\" >822134</td>\n",
              "      <td id=\"T_3fce4_row8_col5\" class=\"data row8 col5\" ><</td>\n",
              "      <td id=\"T_3fce4_row8_col6\" class=\"data row8 col6\" >822134</td>\n",
              "      <td id=\"T_3fce4_row8_col7\" class=\"data row8 col7\" >Dravid</td>\n",
              "    </tr>\n",
              "    <tr>\n",
              "      <td id=\"T_3fce4_row9_col0\" class=\"data row9 col0\" >Ganguly</td>\n",
              "      <td id=\"T_3fce4_row9_col1\" class=\"data row9 col1\" >40</td>\n",
              "      <td id=\"T_3fce4_row9_col2\" class=\"data row9 col2\" >></td>\n",
              "      <td id=\"T_3fce4_row9_col3\" class=\"data row9 col3\" >40</td>\n",
              "      <td id=\"T_3fce4_row9_col4\" class=\"data row9 col4\" >349870</td>\n",
              "      <td id=\"T_3fce4_row9_col5\" class=\"data row9 col5\" ><</td>\n",
              "      <td id=\"T_3fce4_row9_col6\" class=\"data row9 col6\" >349870</td>\n",
              "      <td id=\"T_3fce4_row9_col7\" class=\"data row9 col7\" >Mukherjee</td>\n",
              "    </tr>\n",
              "    <tr>\n",
              "      <td id=\"T_3fce4_row10_col0\" class=\"data row10 col0\" >Dhoni</td>\n",
              "      <td id=\"T_3fce4_row10_col1\" class=\"data row10 col1\" >40</td>\n",
              "      <td id=\"T_3fce4_row10_col2\" class=\"data row10 col2\" >></td>\n",
              "      <td id=\"T_3fce4_row10_col3\" class=\"data row10 col3\" >40</td>\n",
              "      <td id=\"T_3fce4_row10_col4\" class=\"data row10 col4\" >349870</td>\n",
              "      <td id=\"T_3fce4_row10_col5\" class=\"data row10 col5\" ><</td>\n",
              "      <td id=\"T_3fce4_row10_col6\" class=\"data row10 col6\" >349870</td>\n",
              "      <td id=\"T_3fce4_row10_col7\" class=\"data row10 col7\" >Mukherjee</td>\n",
              "    </tr>\n",
              "    <tr>\n",
              "      <td id=\"T_3fce4_row11_col0\" class=\"data row11 col0\" >Mukherjee</td>\n",
              "      <td id=\"T_3fce4_row11_col1\" class=\"data row11 col1\" >40</td>\n",
              "      <td id=\"T_3fce4_row11_col2\" class=\"data row11 col2\" >></td>\n",
              "      <td id=\"T_3fce4_row11_col3\" class=\"data row11 col3\" >40</td>\n",
              "      <td id=\"T_3fce4_row11_col4\" class=\"data row11 col4\" >349870</td>\n",
              "      <td id=\"T_3fce4_row11_col5\" class=\"data row11 col5\" ><</td>\n",
              "      <td id=\"T_3fce4_row11_col6\" class=\"data row11 col6\" >349870</td>\n",
              "      <td id=\"T_3fce4_row11_col7\" class=\"data row11 col7\" >Mukherjee</td>\n",
              "    </tr>\n",
              "  </tbody>\n",
              "</table>\n"
            ]
          },
          "metadata": {},
          "execution_count": 57
        }
      ]
    },
    {
      "cell_type": "markdown",
      "source": [
        "### Self Join / Single Table"
      ],
      "metadata": {
        "id": "jeknsMbjCA2A"
      }
    },
    {
      "cell_type": "code",
      "source": [
        "cmd = \"Select w.FirstName, w.JobDesc, w.DeptID, \\\n",
        "    ' hired by ' hiredby, \\\n",
        "    m.FirstName,m.JobDesc,m.DeptID \\\n",
        "    from empl w, empl m \\\n",
        "    where w.HiredBy = m.EmpID\"\n",
        "\n",
        "runSelect(cmd)"
      ],
      "metadata": {
        "colab": {
          "base_uri": "https://localhost:8080/",
          "height": 426
        },
        "id": "iDPmUw9-CEBH",
        "outputId": "a8b36ef7-cfd7-4ebf-85b9-b43fc1f79975"
      },
      "execution_count": 58,
      "outputs": [
        {
          "output_type": "execute_result",
          "data": {
            "text/plain": [
              "<pandas.io.formats.style.Styler at 0x7d0fba445240>"
            ],
            "text/html": [
              "<style type=\"text/css\">\n",
              "</style>\n",
              "<table id=\"T_7fe4b\" class=\"dataframe\">\n",
              "  <thead>\n",
              "    <tr>\n",
              "      <th id=\"T_7fe4b_level0_col0\" class=\"col_heading level0 col0\" >firstname</th>\n",
              "      <th id=\"T_7fe4b_level0_col1\" class=\"col_heading level0 col1\" >jobdesc</th>\n",
              "      <th id=\"T_7fe4b_level0_col2\" class=\"col_heading level0 col2\" >deptid</th>\n",
              "      <th id=\"T_7fe4b_level0_col3\" class=\"col_heading level0 col3\" >hiredby</th>\n",
              "      <th id=\"T_7fe4b_level0_col4\" class=\"col_heading level0 col4\" >firstname</th>\n",
              "      <th id=\"T_7fe4b_level0_col5\" class=\"col_heading level0 col5\" >jobdesc</th>\n",
              "      <th id=\"T_7fe4b_level0_col6\" class=\"col_heading level0 col6\" >deptid</th>\n",
              "    </tr>\n",
              "  </thead>\n",
              "  <tbody>\n",
              "    <tr>\n",
              "      <td id=\"T_7fe4b_row0_col0\" class=\"data row0 col0\" >Rani</td>\n",
              "      <td id=\"T_7fe4b_row0_col1\" class=\"data row0 col1\" >Manager</td>\n",
              "      <td id=\"T_7fe4b_row0_col2\" class=\"data row0 col2\" >40</td>\n",
              "      <td id=\"T_7fe4b_row0_col3\" class=\"data row0 col3\" > hired by </td>\n",
              "      <td id=\"T_7fe4b_row0_col4\" class=\"data row0 col4\" >Amitabh</td>\n",
              "      <td id=\"T_7fe4b_row0_col5\" class=\"data row0 col5\" >Executive</td>\n",
              "      <td id=\"T_7fe4b_row0_col6\" class=\"data row0 col6\" >10</td>\n",
              "    </tr>\n",
              "    <tr>\n",
              "      <td id=\"T_7fe4b_row1_col0\" class=\"data row1 col0\" >Madhuri</td>\n",
              "      <td id=\"T_7fe4b_row1_col1\" class=\"data row1 col1\" >Clerk</td>\n",
              "      <td id=\"T_7fe4b_row1_col2\" class=\"data row1 col2\" >20</td>\n",
              "      <td id=\"T_7fe4b_row1_col3\" class=\"data row1 col3\" > hired by </td>\n",
              "      <td id=\"T_7fe4b_row1_col4\" class=\"data row1 col4\" >Shahrukh</td>\n",
              "      <td id=\"T_7fe4b_row1_col5\" class=\"data row1 col5\" >Manager</td>\n",
              "      <td id=\"T_7fe4b_row1_col6\" class=\"data row1 col6\" >20</td>\n",
              "    </tr>\n",
              "    <tr>\n",
              "      <td id=\"T_7fe4b_row2_col0\" class=\"data row2 col0\" >Shahrukh</td>\n",
              "      <td id=\"T_7fe4b_row2_col1\" class=\"data row2 col1\" >Manager</td>\n",
              "      <td id=\"T_7fe4b_row2_col2\" class=\"data row2 col2\" >20</td>\n",
              "      <td id=\"T_7fe4b_row2_col3\" class=\"data row2 col3\" > hired by </td>\n",
              "      <td id=\"T_7fe4b_row2_col4\" class=\"data row2 col4\" >Amitabh</td>\n",
              "      <td id=\"T_7fe4b_row2_col5\" class=\"data row2 col5\" >Executive</td>\n",
              "      <td id=\"T_7fe4b_row2_col6\" class=\"data row2 col6\" >10</td>\n",
              "    </tr>\n",
              "    <tr>\n",
              "      <td id=\"T_7fe4b_row3_col0\" class=\"data row3 col0\" >Virender</td>\n",
              "      <td id=\"T_7fe4b_row3_col1\" class=\"data row3 col1\" >Cus_Rep</td>\n",
              "      <td id=\"T_7fe4b_row3_col2\" class=\"data row3 col2\" >20</td>\n",
              "      <td id=\"T_7fe4b_row3_col3\" class=\"data row3 col3\" > hired by </td>\n",
              "      <td id=\"T_7fe4b_row3_col4\" class=\"data row3 col4\" >Shahrukh</td>\n",
              "      <td id=\"T_7fe4b_row3_col5\" class=\"data row3 col5\" >Manager</td>\n",
              "      <td id=\"T_7fe4b_row3_col6\" class=\"data row3 col6\" >20</td>\n",
              "    </tr>\n",
              "    <tr>\n",
              "      <td id=\"T_7fe4b_row4_col0\" class=\"data row4 col0\" >Mahender</td>\n",
              "      <td id=\"T_7fe4b_row4_col1\" class=\"data row4 col1\" >Clerk</td>\n",
              "      <td id=\"T_7fe4b_row4_col2\" class=\"data row4 col2\" >40</td>\n",
              "      <td id=\"T_7fe4b_row4_col3\" class=\"data row4 col3\" > hired by </td>\n",
              "      <td id=\"T_7fe4b_row4_col4\" class=\"data row4 col4\" >Rani</td>\n",
              "      <td id=\"T_7fe4b_row4_col5\" class=\"data row4 col5\" >Manager</td>\n",
              "      <td id=\"T_7fe4b_row4_col6\" class=\"data row4 col6\" >40</td>\n",
              "    </tr>\n",
              "    <tr>\n",
              "      <td id=\"T_7fe4b_row5_col0\" class=\"data row5 col0\" >Rahul</td>\n",
              "      <td id=\"T_7fe4b_row5_col1\" class=\"data row5 col1\" >Sr Manager</td>\n",
              "      <td id=\"T_7fe4b_row5_col2\" class=\"data row5 col2\" >30</td>\n",
              "      <td id=\"T_7fe4b_row5_col3\" class=\"data row5 col3\" > hired by </td>\n",
              "      <td id=\"T_7fe4b_row5_col4\" class=\"data row5 col4\" >Amitabh</td>\n",
              "      <td id=\"T_7fe4b_row5_col5\" class=\"data row5 col5\" >Executive</td>\n",
              "      <td id=\"T_7fe4b_row5_col6\" class=\"data row5 col6\" >10</td>\n",
              "    </tr>\n",
              "    <tr>\n",
              "      <td id=\"T_7fe4b_row6_col0\" class=\"data row6 col0\" >Jagmohan</td>\n",
              "      <td id=\"T_7fe4b_row6_col1\" class=\"data row6 col1\" >Clerk</td>\n",
              "      <td id=\"T_7fe4b_row6_col2\" class=\"data row6 col2\" >30</td>\n",
              "      <td id=\"T_7fe4b_row6_col3\" class=\"data row6 col3\" > hired by </td>\n",
              "      <td id=\"T_7fe4b_row6_col4\" class=\"data row6 col4\" >Rahul</td>\n",
              "      <td id=\"T_7fe4b_row6_col5\" class=\"data row6 col5\" >Sr Manager</td>\n",
              "      <td id=\"T_7fe4b_row6_col6\" class=\"data row6 col6\" >30</td>\n",
              "    </tr>\n",
              "    <tr>\n",
              "      <td id=\"T_7fe4b_row7_col0\" class=\"data row7 col0\" >Sourav</td>\n",
              "      <td id=\"T_7fe4b_row7_col1\" class=\"data row7 col1\" >Cus_Rep</td>\n",
              "      <td id=\"T_7fe4b_row7_col2\" class=\"data row7 col2\" >40</td>\n",
              "      <td id=\"T_7fe4b_row7_col3\" class=\"data row7 col3\" > hired by </td>\n",
              "      <td id=\"T_7fe4b_row7_col4\" class=\"data row7 col4\" >Rekha</td>\n",
              "      <td id=\"T_7fe4b_row7_col5\" class=\"data row7 col5\" >Director</td>\n",
              "      <td id=\"T_7fe4b_row7_col6\" class=\"data row7 col6\" >10</td>\n",
              "    </tr>\n",
              "    <tr>\n",
              "      <td id=\"T_7fe4b_row8_col0\" class=\"data row8 col0\" >Rekha</td>\n",
              "      <td id=\"T_7fe4b_row8_col1\" class=\"data row8 col1\" >Director</td>\n",
              "      <td id=\"T_7fe4b_row8_col2\" class=\"data row8 col2\" >10</td>\n",
              "      <td id=\"T_7fe4b_row8_col3\" class=\"data row8 col3\" > hired by </td>\n",
              "      <td id=\"T_7fe4b_row8_col4\" class=\"data row8 col4\" >Amitabh</td>\n",
              "      <td id=\"T_7fe4b_row8_col5\" class=\"data row8 col5\" >Executive</td>\n",
              "      <td id=\"T_7fe4b_row8_col6\" class=\"data row8 col6\" >10</td>\n",
              "    </tr>\n",
              "    <tr>\n",
              "      <td id=\"T_7fe4b_row9_col0\" class=\"data row9 col0\" >Narayan</td>\n",
              "      <td id=\"T_7fe4b_row9_col1\" class=\"data row9 col1\" >Secretary</td>\n",
              "      <td id=\"T_7fe4b_row9_col2\" class=\"data row9 col2\" >10</td>\n",
              "      <td id=\"T_7fe4b_row9_col3\" class=\"data row9 col3\" > hired by </td>\n",
              "      <td id=\"T_7fe4b_row9_col4\" class=\"data row9 col4\" >Rekha</td>\n",
              "      <td id=\"T_7fe4b_row9_col5\" class=\"data row9 col5\" >Director</td>\n",
              "      <td id=\"T_7fe4b_row9_col6\" class=\"data row9 col6\" >10</td>\n",
              "    </tr>\n",
              "    <tr>\n",
              "      <td id=\"T_7fe4b_row10_col0\" class=\"data row10 col0\" >Chettri</td>\n",
              "      <td id=\"T_7fe4b_row10_col1\" class=\"data row10 col1\" >Dy Manager</td>\n",
              "      <td id=\"T_7fe4b_row10_col2\" class=\"data row10 col2\" >70</td>\n",
              "      <td id=\"T_7fe4b_row10_col3\" class=\"data row10 col3\" > hired by </td>\n",
              "      <td id=\"T_7fe4b_row10_col4\" class=\"data row10 col4\" >Rani</td>\n",
              "      <td id=\"T_7fe4b_row10_col5\" class=\"data row10 col5\" >Manager</td>\n",
              "      <td id=\"T_7fe4b_row10_col6\" class=\"data row10 col6\" >40</td>\n",
              "    </tr>\n",
              "    <tr>\n",
              "      <td id=\"T_7fe4b_row11_col0\" class=\"data row11 col0\" >Sania</td>\n",
              "      <td id=\"T_7fe4b_row11_col1\" class=\"data row11 col1\" >Cus_Rep</td>\n",
              "      <td id=\"T_7fe4b_row11_col2\" class=\"data row11 col2\" >30</td>\n",
              "      <td id=\"T_7fe4b_row11_col3\" class=\"data row11 col3\" > hired by </td>\n",
              "      <td id=\"T_7fe4b_row11_col4\" class=\"data row11 col4\" >Rahul</td>\n",
              "      <td id=\"T_7fe4b_row11_col5\" class=\"data row11 col5\" >Sr Manager</td>\n",
              "      <td id=\"T_7fe4b_row11_col6\" class=\"data row11 col6\" >30</td>\n",
              "    </tr>\n",
              "  </tbody>\n",
              "</table>\n"
            ]
          },
          "metadata": {},
          "execution_count": 58
        }
      ]
    },
    {
      "cell_type": "code",
      "source": [
        "from datetime import datetime\n",
        "import pytz\n",
        "print('Last tested  ',datetime.now(pytz.timezone('Asia/Kolkata')))"
      ],
      "metadata": {
        "colab": {
          "base_uri": "https://localhost:8080/"
        },
        "id": "wjBXJVhM605H",
        "outputId": "20375a4d-b2dd-4b18-ace6-9dc3a0349e60"
      },
      "execution_count": 59,
      "outputs": [
        {
          "output_type": "stream",
          "name": "stdout",
          "text": [
            "Last tested   2023-12-30 12:28:48.292507+05:30\n"
          ]
        }
      ]
    },
    {
      "cell_type": "markdown",
      "source": [
        "#Chronobooks <br>\n",
        "Two science fiction novels by Prithwis Mukerjee. A dystopian Earth. A technocratic society managed by artificial intelligence. Escape and epiphany on Mars. Can man and machine, carbon and silicon explore and escape into other dimensions of existence? An Indic perspective rooted in Advaita Vedanta and the Divine Feminine.  [More information](http://bit.ly/chronobooks) <br>\n",
        "![alt text](https://github.com/Praxis-QR/RDWH/raw/main/images/CTCYFooter-1.png)"
      ],
      "metadata": {
        "id": "_gNiZpyW3AzJ"
      }
    }
  ]
}