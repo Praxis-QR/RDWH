{
  "nbformat": 4,
  "nbformat_minor": 0,
  "metadata": {
    "colab": {
      "provenance": [],
      "toc_visible": true,
      "include_colab_link": true
    },
    "kernelspec": {
      "name": "python3",
      "display_name": "Python 3"
    },
    "language_info": {
      "name": "python"
    }
  },
  "cells": [
    {
      "cell_type": "markdown",
      "metadata": {
        "id": "view-in-github",
        "colab_type": "text"
      },
      "source": [
        "<a href=\"https://colab.research.google.com/github/Praxis-QR/RDWH/blob/main/PostgreSQL_02_Basic_SQL.ipynb\" target=\"_parent\"><img src=\"https://colab.research.google.com/assets/colab-badge.svg\" alt=\"Open In Colab\"/></a>"
      ]
    },
    {
      "cell_type": "markdown",
      "source": [
        "![alt text](https://github.com/Praxis-QR/RDWH/raw/main/images/YantraJaalBanner.png)<br>\n",
        "\n",
        "\n",
        "<hr>\n",
        "\n",
        "[Prithwis Mukerjee](http://www.linkedin.com/in/prithwis)<br>"
      ],
      "metadata": {
        "id": "DBzz-qaN2tKu"
      }
    },
    {
      "cell_type": "markdown",
      "source": [
        "PostgreSQL Tutorial https://www.w3resource.com/PostgreSQL/tutorial.php"
      ],
      "metadata": {
        "id": "dBJ6X0LiJtZ6"
      }
    },
    {
      "cell_type": "markdown",
      "source": [
        "#Install & Configure Postgres"
      ],
      "metadata": {
        "id": "nD-QawLT6kDr"
      }
    },
    {
      "cell_type": "code",
      "source": [
        "from datetime import datetime\n",
        "import pytz\n",
        "print('Tested on ',datetime.now(pytz.timezone('Asia/Calcutta')))\n",
        "!python --version\n",
        "!lsb_release -a"
      ],
      "metadata": {
        "id": "txwvst5Hs5mI",
        "outputId": "0ec1f572-e8f5-495b-8371-7803e31a8ccd",
        "colab": {
          "base_uri": "https://localhost:8080/"
        }
      },
      "execution_count": null,
      "outputs": [
        {
          "output_type": "stream",
          "name": "stdout",
          "text": [
            "Tested on  2023-12-30 14:29:48.790105+05:30\n",
            "Python 3.10.12\n",
            "No LSB modules are available.\n",
            "Distributor ID:\tUbuntu\n",
            "Description:\tUbuntu 22.04.3 LTS\n",
            "Release:\t22.04\n",
            "Codename:\tjammy\n"
          ]
        }
      ]
    },
    {
      "cell_type": "code",
      "source": [
        "# Install postgresql server\n",
        "\n",
        "!apt update > /dev/null\n",
        "!apt install postgresql > /dev/null\n",
        "#!sudo -u postgres psql -V\n",
        "!psql -V\n",
        "!service postgresql start"
      ],
      "metadata": {
        "colab": {
          "base_uri": "https://localhost:8080/"
        },
        "id": "o_RaqE0OOHP3",
        "outputId": "3ea20504-ec86-4ce3-e48d-b9ec9fb06b80"
      },
      "execution_count": null,
      "outputs": [
        {
          "output_type": "stream",
          "name": "stdout",
          "text": [
            "\n",
            "WARNING: apt does not have a stable CLI interface. Use with caution in scripts.\n",
            "\n",
            "\n",
            "WARNING: apt does not have a stable CLI interface. Use with caution in scripts.\n",
            "\n",
            "psql (PostgreSQL) 14.10 (Ubuntu 14.10-0ubuntu0.22.04.1)\n",
            " * Starting PostgreSQL 14 database server\n",
            "   ...done.\n"
          ]
        }
      ]
    },
    {
      "cell_type": "code",
      "source": [
        "#!pip install psycopg2\n",
        "import psycopg2\n",
        "import pandas as pd"
      ],
      "metadata": {
        "id": "719jvpeIjLZX"
      },
      "execution_count": null,
      "outputs": []
    },
    {
      "cell_type": "code",
      "source": [
        "# This has created an Ubuntu user 'postgres' AND a Postgres database user 'postgres' both of which are superusers\n",
        "#!cat /etc/passwd\n",
        "# Use these users to create a new database user called 'upraxis' and give it a password 'upass'\n",
        "#!sudo -u postgres createuser --superuser upraxis\n",
        "!sudo -u postgres createuser upraxis\n",
        "!sudo -u postgres psql -U postgres -c \"ALTER USER upraxis PASSWORD 'upass';\"\n",
        "# Change the database superuser 'postgres' to a non-default value 'pass'\n",
        "!sudo -u postgres psql -U postgres -c \"ALTER USER postgres PASSWORD 'pass';\"\n",
        "# Use ubuntu superuser to create database dbpraxis and set its owner to upraxis\n",
        "!sudo -u postgres createdb -O upraxis dbpraxis\n"
      ],
      "metadata": {
        "colab": {
          "base_uri": "https://localhost:8080/"
        },
        "id": "xr5kHaY_U4CZ",
        "outputId": "cf8aea03-a96f-4273-9876-115b71af7cdc"
      },
      "execution_count": null,
      "outputs": [
        {
          "output_type": "stream",
          "name": "stdout",
          "text": [
            "ALTER ROLE\n",
            "ALTER ROLE\n"
          ]
        }
      ]
    },
    {
      "cell_type": "code",
      "source": [
        "# Create file to store the password. Else will be prompted each time\n",
        "#!echo \"localhost:5432:praxisdb:postgres:pass\" > ~/.pgpass\n",
        "!echo \"localhost:5432:dbpraxis:upraxis:upass\" > ~/.pgpass\n",
        "!chmod 0600 ~/.pgpass\n",
        "!cat ~/.pgpass"
      ],
      "metadata": {
        "colab": {
          "base_uri": "https://localhost:8080/"
        },
        "id": "kFDLMhnTWwuz",
        "outputId": "e1a325ee-732f-4515-eb23-a4d7166f7473"
      },
      "execution_count": null,
      "outputs": [
        {
          "output_type": "stream",
          "name": "stdout",
          "text": [
            "localhost:5432:dbpraxis:upraxis:upass\n"
          ]
        }
      ]
    },
    {
      "cell_type": "markdown",
      "source": [
        "## Create and Load Tables"
      ],
      "metadata": {
        "id": "pHTdNzrU6qUE"
      }
    },
    {
      "cell_type": "code",
      "source": [
        "# Create Two tables using command line interface\n",
        "#\n",
        "!psql -h localhost -p 5432 -Uupraxis -ddbpraxis -c \\\n",
        "\"drop table if exists Dept;\\\n",
        "create table Dept (\\\n",
        "    DeptID char(2),\\\n",
        "    DeptName varchar(20),\\\n",
        "    ManagerID char(6),\\\n",
        "    Location varchar(10),\\\n",
        "    LocationID char(1)\\\n",
        "    );\\\n",
        "insert into Dept (DeptID, DeptName, ManagerID, Location,LocationID) VALUES \\\n",
        "\t('10', 'Corporate', '299034', 'Calcutta','1'), \\\n",
        "\t('20', 'Sales', '239456', 'Calcutta','1'), \\\n",
        "\t('30', 'Accounts', '822134', 'Calcutta','1'), \\\n",
        "\t('40', 'Production', '349870', 'Bombay','2'),\\\n",
        "    ('60', 'Research', '546224', 'Delhi','3');\\\n",
        "\""
      ],
      "metadata": {
        "colab": {
          "base_uri": "https://localhost:8080/"
        },
        "id": "DsUZ9JlEXIir",
        "outputId": "d953e435-ef24-437d-ef84-18631711d3b4"
      },
      "execution_count": null,
      "outputs": [
        {
          "output_type": "stream",
          "name": "stdout",
          "text": [
            "NOTICE:  table \"dept\" does not exist, skipping\n",
            "INSERT 0 5\n"
          ]
        }
      ]
    },
    {
      "cell_type": "code",
      "source": [
        "!psql -h localhost -p 5432 -Uupraxis -ddbpraxis -c \\\n",
        "\"drop table if exists Empl;\\\n",
        "create table Empl \\\n",
        "    (EmpID char(6),\\\n",
        "    LastName varchar(20),\\\n",
        "    FirstName varchar(20),\\\n",
        "    JobDesc varchar(10),\\\n",
        "    JoinDate date,\\\n",
        "    Salary int,\\\n",
        "    Comm decimal(3,2),\\\n",
        "    DeptID char(2),\\\n",
        "    HiredBy char(6)\\\n",
        "    );\\\n",
        "INSERT INTO Empl (EmpID, LastName, FirstName, JobDesc, JoinDate, Salary, Comm, DeptID, HiredBy) \\\n",
        "    VALUES \\\n",
        "\t('742866', 'Bacchan', 'Amitabh', 'Executive', '2003-03-10', 50000, 0.1, '10', NULL), \\\n",
        "\t('349870', 'Mukherjee', 'Rani', 'Manager', '2005-05-04', 25000, 0.06, '40', '742866'), \\\n",
        "\t('865477', 'Dikshit', 'Madhuri', 'Clerk', '2002-04-04', 10000, 0.02, '20', '239456'), \\\n",
        "\t('239456', 'Khan', 'Shahrukh', 'Manager', '2004-01-03', 30000, 0.07, '20', '742866'), \\\n",
        "\t('897889', 'Sehwag', 'Virender', 'Cus_Rep', '2005-01-02', 15000, 0.05, '20', '239456'), \\\n",
        "\t('123980', 'Dhoni', 'Mahender', 'Clerk', '2004-10-09', 9000, 0.02, '40', '349870'), \\\n",
        "\t('822134', 'Dravid', 'Rahul', 'Sr Manager', '2000-06-04', 40000, 0.08, '30', '742866'), \\\n",
        "\t('997445', 'Dalmia', 'Jagmohan', 'Clerk', '2001-07-01', 12000, 0.02, '30', '822134'), \\\n",
        "\t('989007', 'Ganguly', 'Sourav', 'Cus_Rep', '2002-01-01', 20000, 0.03, '40', '299034'), \\\n",
        "\t('299034', 'Ganesan', 'Rekha', 'Director', '2002-10-10', 60000, 0.11, '10', '742866'), \\\n",
        "\t('546223', 'Karthikeyan', 'Narayan', 'Secretary', '2005-12-04', 40000, 0.09, '10', '299034'), \\\n",
        "    ('546224', 'Sunil', 'Chettri', 'Dy Manager', '2006-12-07', 40000, 0.05, '70', '349870'), \\\n",
        "\t('223112', 'Mirza', 'Sania', 'Cus_Rep', '2001-11-19', 25000, 0.04, '30', '822134');\\\n",
        "\""
      ],
      "metadata": {
        "colab": {
          "base_uri": "https://localhost:8080/"
        },
        "id": "5kWs3wyEd9Tm",
        "outputId": "719c1ff1-f408-4f34-9c6e-ac73f720027c"
      },
      "execution_count": null,
      "outputs": [
        {
          "output_type": "stream",
          "name": "stdout",
          "text": [
            "NOTICE:  table \"empl\" does not exist, skipping\n",
            "INSERT 0 13\n"
          ]
        }
      ]
    },
    {
      "cell_type": "code",
      "source": [
        "#!psql -h localhost -p 5432 -Upostgres -dpraxisdb -c \"select * from dept;\"\n",
        "#!psql -h localhost -p 5432 -Uupraxis -ddbpraxis -c \"select * from dept;\""
      ],
      "metadata": {
        "id": "HyBUhbAI2PV1"
      },
      "execution_count": null,
      "outputs": []
    },
    {
      "cell_type": "code",
      "source": [
        "#!psql -h localhost -p 5432 -U postgres -d praxisdb -c \"select * from empl;\"\n",
        "#!psql -h localhost -p 5432 -U upraxis -d dbpraxis -c \"select * from empl;\""
      ],
      "metadata": {
        "id": "byY2iccO4ctF"
      },
      "execution_count": null,
      "outputs": []
    },
    {
      "cell_type": "markdown",
      "source": [
        "## Python Access\n",
        "https://www.tutorialspoint.com/python_data_access/python_postgresql_database_connection.htm"
      ],
      "metadata": {
        "id": "faZEj8_7CeZ8"
      }
    },
    {
      "cell_type": "code",
      "source": [
        "# Local Colab server\n",
        "\n",
        "conn = psycopg2.connect(database=\"dbpraxis\", user='upraxis', password='upass', host='127.0.0.1', port= '5432')\n",
        "#Creating a cursor object using the cursor() method\n",
        "cursor = conn.cursor()\n",
        "#Executing an MYSQL function using the execute() method\n",
        "cursor.execute(\"select version()\")\n",
        "# Fetch a single row using fetchone() method.\n",
        "data = cursor.fetchone()\n",
        "print(\"Connection established to: \",data)\n",
        "#Closing the connection\n",
        "conn.close()"
      ],
      "metadata": {
        "id": "wcE-8UBnC4zV",
        "outputId": "2d19c3e7-61fc-40f2-d949-b8f277c493db",
        "colab": {
          "base_uri": "https://localhost:8080/"
        }
      },
      "execution_count": null,
      "outputs": [
        {
          "output_type": "stream",
          "name": "stdout",
          "text": [
            "Connection established to:  ('PostgreSQL 14.10 (Ubuntu 14.10-0ubuntu0.22.04.1) on x86_64-pc-linux-gnu, compiled by gcc (Ubuntu 11.4.0-1ubuntu1~22.04) 11.4.0, 64-bit',)\n"
          ]
        }
      ]
    },
    {
      "cell_type": "code",
      "source": [
        "# function to execute SQL select statements with Postgres\n",
        "#\n",
        "def runSelect(s):\n",
        "    #Set up connection\n",
        "\n",
        "    conn = psycopg2.connect(database=\"dbpraxis\", user='upraxis', password='upass', host='127.0.0.1', port= '5432')\n",
        "    #Setting auto commit true\n",
        "    conn.autocommit = True\n",
        "    #Creating a cursor object using the cursor() method\n",
        "    cursor = conn.cursor()\n",
        "    #Retrieving data\n",
        "    cursor.execute(s)\n",
        "    #Fetching all rows from the table\n",
        "    result = cursor.fetchall();\n",
        "    #print(len(result))\n",
        "    if (len(result)) > 0:                                       # result contains at least one row\n",
        "        colnames = [desc[0] for desc in cursor.description]     # get column names\n",
        "        #print(colnames)\n",
        "        resultdf = pd.DataFrame(result)                         # convert list to dataframe\n",
        "        resultdf.columns = colnames                             # add column names\n",
        "        #return resultdf\n",
        "        return resultdf.style.hide()                            # hide the index\n",
        "    else:\n",
        "        print('no records found')\n",
        "        return\n",
        "# function to execute SQL non-select statements with Postgres\n",
        "#\n",
        "def runCmd(s):\n",
        "    #Create Connection\n",
        "    conn = psycopg2.connect(database=\"dbpraxis\", user='upraxis', password='upass', host='127.0.0.1', port= '5432')\n",
        "    #Creating a cursor object using the cursor() method\n",
        "    cursor = conn.cursor()\n",
        "    try:\n",
        "        cursor.execute(s)\n",
        "        print('Command executed')\n",
        "        conn.commit()\n",
        "    except:\n",
        "        print('Command failed')\n",
        "    #Closing the connection\n",
        "    conn.close()"
      ],
      "metadata": {
        "id": "ht2k7-3iggNd"
      },
      "execution_count": null,
      "outputs": []
    },
    {
      "cell_type": "markdown",
      "source": [
        "#Select - getting started"
      ],
      "metadata": {
        "id": "k0rXiciVtu7Q"
      }
    },
    {
      "cell_type": "code",
      "source": [
        "#runSelect(\"select * from dept where deptid = '100'\")\n",
        "#runSelect(\"select * from dept where deptid = '10'\")\n",
        "runSelect(\"select * from dept\")"
      ],
      "metadata": {
        "id": "N3NZv0YahSs6",
        "outputId": "6027df27-cab4-466a-f49b-4d510d5a682f",
        "colab": {
          "base_uri": "https://localhost:8080/",
          "height": 206
        }
      },
      "execution_count": null,
      "outputs": [
        {
          "output_type": "execute_result",
          "data": {
            "text/plain": [
              "<pandas.io.formats.style.Styler at 0x79b438af34c0>"
            ],
            "text/html": [
              "<style type=\"text/css\">\n",
              "</style>\n",
              "<table id=\"T_4e7a0\" class=\"dataframe\">\n",
              "  <thead>\n",
              "    <tr>\n",
              "      <th id=\"T_4e7a0_level0_col0\" class=\"col_heading level0 col0\" >deptid</th>\n",
              "      <th id=\"T_4e7a0_level0_col1\" class=\"col_heading level0 col1\" >deptname</th>\n",
              "      <th id=\"T_4e7a0_level0_col2\" class=\"col_heading level0 col2\" >managerid</th>\n",
              "      <th id=\"T_4e7a0_level0_col3\" class=\"col_heading level0 col3\" >location</th>\n",
              "      <th id=\"T_4e7a0_level0_col4\" class=\"col_heading level0 col4\" >locationid</th>\n",
              "    </tr>\n",
              "  </thead>\n",
              "  <tbody>\n",
              "    <tr>\n",
              "      <td id=\"T_4e7a0_row0_col0\" class=\"data row0 col0\" >10</td>\n",
              "      <td id=\"T_4e7a0_row0_col1\" class=\"data row0 col1\" >Corporate</td>\n",
              "      <td id=\"T_4e7a0_row0_col2\" class=\"data row0 col2\" >299034</td>\n",
              "      <td id=\"T_4e7a0_row0_col3\" class=\"data row0 col3\" >Calcutta</td>\n",
              "      <td id=\"T_4e7a0_row0_col4\" class=\"data row0 col4\" >1</td>\n",
              "    </tr>\n",
              "    <tr>\n",
              "      <td id=\"T_4e7a0_row1_col0\" class=\"data row1 col0\" >20</td>\n",
              "      <td id=\"T_4e7a0_row1_col1\" class=\"data row1 col1\" >Sales</td>\n",
              "      <td id=\"T_4e7a0_row1_col2\" class=\"data row1 col2\" >239456</td>\n",
              "      <td id=\"T_4e7a0_row1_col3\" class=\"data row1 col3\" >Calcutta</td>\n",
              "      <td id=\"T_4e7a0_row1_col4\" class=\"data row1 col4\" >1</td>\n",
              "    </tr>\n",
              "    <tr>\n",
              "      <td id=\"T_4e7a0_row2_col0\" class=\"data row2 col0\" >30</td>\n",
              "      <td id=\"T_4e7a0_row2_col1\" class=\"data row2 col1\" >Accounts</td>\n",
              "      <td id=\"T_4e7a0_row2_col2\" class=\"data row2 col2\" >822134</td>\n",
              "      <td id=\"T_4e7a0_row2_col3\" class=\"data row2 col3\" >Calcutta</td>\n",
              "      <td id=\"T_4e7a0_row2_col4\" class=\"data row2 col4\" >1</td>\n",
              "    </tr>\n",
              "    <tr>\n",
              "      <td id=\"T_4e7a0_row3_col0\" class=\"data row3 col0\" >40</td>\n",
              "      <td id=\"T_4e7a0_row3_col1\" class=\"data row3 col1\" >Production</td>\n",
              "      <td id=\"T_4e7a0_row3_col2\" class=\"data row3 col2\" >349870</td>\n",
              "      <td id=\"T_4e7a0_row3_col3\" class=\"data row3 col3\" >Bombay</td>\n",
              "      <td id=\"T_4e7a0_row3_col4\" class=\"data row3 col4\" >2</td>\n",
              "    </tr>\n",
              "    <tr>\n",
              "      <td id=\"T_4e7a0_row4_col0\" class=\"data row4 col0\" >60</td>\n",
              "      <td id=\"T_4e7a0_row4_col1\" class=\"data row4 col1\" >Research</td>\n",
              "      <td id=\"T_4e7a0_row4_col2\" class=\"data row4 col2\" >546224</td>\n",
              "      <td id=\"T_4e7a0_row4_col3\" class=\"data row4 col3\" >Delhi</td>\n",
              "      <td id=\"T_4e7a0_row4_col4\" class=\"data row4 col4\" >3</td>\n",
              "    </tr>\n",
              "  </tbody>\n",
              "</table>\n"
            ]
          },
          "metadata": {},
          "execution_count": 12
        }
      ]
    },
    {
      "cell_type": "code",
      "source": [
        "runSelect('select * from empl')"
      ],
      "metadata": {
        "id": "Otiv4rjSl5Tg",
        "outputId": "b525ca9f-1de6-467d-cc5c-715ee8d3f1fa",
        "colab": {
          "base_uri": "https://localhost:8080/",
          "height": 457
        }
      },
      "execution_count": null,
      "outputs": [
        {
          "output_type": "execute_result",
          "data": {
            "text/plain": [
              "<pandas.io.formats.style.Styler at 0x79b438a4ba30>"
            ],
            "text/html": [
              "<style type=\"text/css\">\n",
              "</style>\n",
              "<table id=\"T_d2b8f\" class=\"dataframe\">\n",
              "  <thead>\n",
              "    <tr>\n",
              "      <th id=\"T_d2b8f_level0_col0\" class=\"col_heading level0 col0\" >empid</th>\n",
              "      <th id=\"T_d2b8f_level0_col1\" class=\"col_heading level0 col1\" >lastname</th>\n",
              "      <th id=\"T_d2b8f_level0_col2\" class=\"col_heading level0 col2\" >firstname</th>\n",
              "      <th id=\"T_d2b8f_level0_col3\" class=\"col_heading level0 col3\" >jobdesc</th>\n",
              "      <th id=\"T_d2b8f_level0_col4\" class=\"col_heading level0 col4\" >joindate</th>\n",
              "      <th id=\"T_d2b8f_level0_col5\" class=\"col_heading level0 col5\" >salary</th>\n",
              "      <th id=\"T_d2b8f_level0_col6\" class=\"col_heading level0 col6\" >comm</th>\n",
              "      <th id=\"T_d2b8f_level0_col7\" class=\"col_heading level0 col7\" >deptid</th>\n",
              "      <th id=\"T_d2b8f_level0_col8\" class=\"col_heading level0 col8\" >hiredby</th>\n",
              "    </tr>\n",
              "  </thead>\n",
              "  <tbody>\n",
              "    <tr>\n",
              "      <td id=\"T_d2b8f_row0_col0\" class=\"data row0 col0\" >742866</td>\n",
              "      <td id=\"T_d2b8f_row0_col1\" class=\"data row0 col1\" >Bacchan</td>\n",
              "      <td id=\"T_d2b8f_row0_col2\" class=\"data row0 col2\" >Amitabh</td>\n",
              "      <td id=\"T_d2b8f_row0_col3\" class=\"data row0 col3\" >Executive</td>\n",
              "      <td id=\"T_d2b8f_row0_col4\" class=\"data row0 col4\" >2003-03-10</td>\n",
              "      <td id=\"T_d2b8f_row0_col5\" class=\"data row0 col5\" >50000</td>\n",
              "      <td id=\"T_d2b8f_row0_col6\" class=\"data row0 col6\" >0.10</td>\n",
              "      <td id=\"T_d2b8f_row0_col7\" class=\"data row0 col7\" >10</td>\n",
              "      <td id=\"T_d2b8f_row0_col8\" class=\"data row0 col8\" >None</td>\n",
              "    </tr>\n",
              "    <tr>\n",
              "      <td id=\"T_d2b8f_row1_col0\" class=\"data row1 col0\" >349870</td>\n",
              "      <td id=\"T_d2b8f_row1_col1\" class=\"data row1 col1\" >Mukherjee</td>\n",
              "      <td id=\"T_d2b8f_row1_col2\" class=\"data row1 col2\" >Rani</td>\n",
              "      <td id=\"T_d2b8f_row1_col3\" class=\"data row1 col3\" >Manager</td>\n",
              "      <td id=\"T_d2b8f_row1_col4\" class=\"data row1 col4\" >2005-05-04</td>\n",
              "      <td id=\"T_d2b8f_row1_col5\" class=\"data row1 col5\" >25000</td>\n",
              "      <td id=\"T_d2b8f_row1_col6\" class=\"data row1 col6\" >0.06</td>\n",
              "      <td id=\"T_d2b8f_row1_col7\" class=\"data row1 col7\" >40</td>\n",
              "      <td id=\"T_d2b8f_row1_col8\" class=\"data row1 col8\" >742866</td>\n",
              "    </tr>\n",
              "    <tr>\n",
              "      <td id=\"T_d2b8f_row2_col0\" class=\"data row2 col0\" >865477</td>\n",
              "      <td id=\"T_d2b8f_row2_col1\" class=\"data row2 col1\" >Dikshit</td>\n",
              "      <td id=\"T_d2b8f_row2_col2\" class=\"data row2 col2\" >Madhuri</td>\n",
              "      <td id=\"T_d2b8f_row2_col3\" class=\"data row2 col3\" >Clerk</td>\n",
              "      <td id=\"T_d2b8f_row2_col4\" class=\"data row2 col4\" >2002-04-04</td>\n",
              "      <td id=\"T_d2b8f_row2_col5\" class=\"data row2 col5\" >10000</td>\n",
              "      <td id=\"T_d2b8f_row2_col6\" class=\"data row2 col6\" >0.02</td>\n",
              "      <td id=\"T_d2b8f_row2_col7\" class=\"data row2 col7\" >20</td>\n",
              "      <td id=\"T_d2b8f_row2_col8\" class=\"data row2 col8\" >239456</td>\n",
              "    </tr>\n",
              "    <tr>\n",
              "      <td id=\"T_d2b8f_row3_col0\" class=\"data row3 col0\" >239456</td>\n",
              "      <td id=\"T_d2b8f_row3_col1\" class=\"data row3 col1\" >Khan</td>\n",
              "      <td id=\"T_d2b8f_row3_col2\" class=\"data row3 col2\" >Shahrukh</td>\n",
              "      <td id=\"T_d2b8f_row3_col3\" class=\"data row3 col3\" >Manager</td>\n",
              "      <td id=\"T_d2b8f_row3_col4\" class=\"data row3 col4\" >2004-01-03</td>\n",
              "      <td id=\"T_d2b8f_row3_col5\" class=\"data row3 col5\" >30000</td>\n",
              "      <td id=\"T_d2b8f_row3_col6\" class=\"data row3 col6\" >0.07</td>\n",
              "      <td id=\"T_d2b8f_row3_col7\" class=\"data row3 col7\" >20</td>\n",
              "      <td id=\"T_d2b8f_row3_col8\" class=\"data row3 col8\" >742866</td>\n",
              "    </tr>\n",
              "    <tr>\n",
              "      <td id=\"T_d2b8f_row4_col0\" class=\"data row4 col0\" >897889</td>\n",
              "      <td id=\"T_d2b8f_row4_col1\" class=\"data row4 col1\" >Sehwag</td>\n",
              "      <td id=\"T_d2b8f_row4_col2\" class=\"data row4 col2\" >Virender</td>\n",
              "      <td id=\"T_d2b8f_row4_col3\" class=\"data row4 col3\" >Cus_Rep</td>\n",
              "      <td id=\"T_d2b8f_row4_col4\" class=\"data row4 col4\" >2005-01-02</td>\n",
              "      <td id=\"T_d2b8f_row4_col5\" class=\"data row4 col5\" >15000</td>\n",
              "      <td id=\"T_d2b8f_row4_col6\" class=\"data row4 col6\" >0.05</td>\n",
              "      <td id=\"T_d2b8f_row4_col7\" class=\"data row4 col7\" >20</td>\n",
              "      <td id=\"T_d2b8f_row4_col8\" class=\"data row4 col8\" >239456</td>\n",
              "    </tr>\n",
              "    <tr>\n",
              "      <td id=\"T_d2b8f_row5_col0\" class=\"data row5 col0\" >123980</td>\n",
              "      <td id=\"T_d2b8f_row5_col1\" class=\"data row5 col1\" >Dhoni</td>\n",
              "      <td id=\"T_d2b8f_row5_col2\" class=\"data row5 col2\" >Mahender</td>\n",
              "      <td id=\"T_d2b8f_row5_col3\" class=\"data row5 col3\" >Clerk</td>\n",
              "      <td id=\"T_d2b8f_row5_col4\" class=\"data row5 col4\" >2004-10-09</td>\n",
              "      <td id=\"T_d2b8f_row5_col5\" class=\"data row5 col5\" >9000</td>\n",
              "      <td id=\"T_d2b8f_row5_col6\" class=\"data row5 col6\" >0.02</td>\n",
              "      <td id=\"T_d2b8f_row5_col7\" class=\"data row5 col7\" >40</td>\n",
              "      <td id=\"T_d2b8f_row5_col8\" class=\"data row5 col8\" >349870</td>\n",
              "    </tr>\n",
              "    <tr>\n",
              "      <td id=\"T_d2b8f_row6_col0\" class=\"data row6 col0\" >822134</td>\n",
              "      <td id=\"T_d2b8f_row6_col1\" class=\"data row6 col1\" >Dravid</td>\n",
              "      <td id=\"T_d2b8f_row6_col2\" class=\"data row6 col2\" >Rahul</td>\n",
              "      <td id=\"T_d2b8f_row6_col3\" class=\"data row6 col3\" >Sr Manager</td>\n",
              "      <td id=\"T_d2b8f_row6_col4\" class=\"data row6 col4\" >2000-06-04</td>\n",
              "      <td id=\"T_d2b8f_row6_col5\" class=\"data row6 col5\" >40000</td>\n",
              "      <td id=\"T_d2b8f_row6_col6\" class=\"data row6 col6\" >0.08</td>\n",
              "      <td id=\"T_d2b8f_row6_col7\" class=\"data row6 col7\" >30</td>\n",
              "      <td id=\"T_d2b8f_row6_col8\" class=\"data row6 col8\" >742866</td>\n",
              "    </tr>\n",
              "    <tr>\n",
              "      <td id=\"T_d2b8f_row7_col0\" class=\"data row7 col0\" >997445</td>\n",
              "      <td id=\"T_d2b8f_row7_col1\" class=\"data row7 col1\" >Dalmia</td>\n",
              "      <td id=\"T_d2b8f_row7_col2\" class=\"data row7 col2\" >Jagmohan</td>\n",
              "      <td id=\"T_d2b8f_row7_col3\" class=\"data row7 col3\" >Clerk</td>\n",
              "      <td id=\"T_d2b8f_row7_col4\" class=\"data row7 col4\" >2001-07-01</td>\n",
              "      <td id=\"T_d2b8f_row7_col5\" class=\"data row7 col5\" >12000</td>\n",
              "      <td id=\"T_d2b8f_row7_col6\" class=\"data row7 col6\" >0.02</td>\n",
              "      <td id=\"T_d2b8f_row7_col7\" class=\"data row7 col7\" >30</td>\n",
              "      <td id=\"T_d2b8f_row7_col8\" class=\"data row7 col8\" >822134</td>\n",
              "    </tr>\n",
              "    <tr>\n",
              "      <td id=\"T_d2b8f_row8_col0\" class=\"data row8 col0\" >989007</td>\n",
              "      <td id=\"T_d2b8f_row8_col1\" class=\"data row8 col1\" >Ganguly</td>\n",
              "      <td id=\"T_d2b8f_row8_col2\" class=\"data row8 col2\" >Sourav</td>\n",
              "      <td id=\"T_d2b8f_row8_col3\" class=\"data row8 col3\" >Cus_Rep</td>\n",
              "      <td id=\"T_d2b8f_row8_col4\" class=\"data row8 col4\" >2002-01-01</td>\n",
              "      <td id=\"T_d2b8f_row8_col5\" class=\"data row8 col5\" >20000</td>\n",
              "      <td id=\"T_d2b8f_row8_col6\" class=\"data row8 col6\" >0.03</td>\n",
              "      <td id=\"T_d2b8f_row8_col7\" class=\"data row8 col7\" >40</td>\n",
              "      <td id=\"T_d2b8f_row8_col8\" class=\"data row8 col8\" >299034</td>\n",
              "    </tr>\n",
              "    <tr>\n",
              "      <td id=\"T_d2b8f_row9_col0\" class=\"data row9 col0\" >299034</td>\n",
              "      <td id=\"T_d2b8f_row9_col1\" class=\"data row9 col1\" >Ganesan</td>\n",
              "      <td id=\"T_d2b8f_row9_col2\" class=\"data row9 col2\" >Rekha</td>\n",
              "      <td id=\"T_d2b8f_row9_col3\" class=\"data row9 col3\" >Director</td>\n",
              "      <td id=\"T_d2b8f_row9_col4\" class=\"data row9 col4\" >2002-10-10</td>\n",
              "      <td id=\"T_d2b8f_row9_col5\" class=\"data row9 col5\" >60000</td>\n",
              "      <td id=\"T_d2b8f_row9_col6\" class=\"data row9 col6\" >0.11</td>\n",
              "      <td id=\"T_d2b8f_row9_col7\" class=\"data row9 col7\" >10</td>\n",
              "      <td id=\"T_d2b8f_row9_col8\" class=\"data row9 col8\" >742866</td>\n",
              "    </tr>\n",
              "    <tr>\n",
              "      <td id=\"T_d2b8f_row10_col0\" class=\"data row10 col0\" >546223</td>\n",
              "      <td id=\"T_d2b8f_row10_col1\" class=\"data row10 col1\" >Karthikeyan</td>\n",
              "      <td id=\"T_d2b8f_row10_col2\" class=\"data row10 col2\" >Narayan</td>\n",
              "      <td id=\"T_d2b8f_row10_col3\" class=\"data row10 col3\" >Secretary</td>\n",
              "      <td id=\"T_d2b8f_row10_col4\" class=\"data row10 col4\" >2005-12-04</td>\n",
              "      <td id=\"T_d2b8f_row10_col5\" class=\"data row10 col5\" >40000</td>\n",
              "      <td id=\"T_d2b8f_row10_col6\" class=\"data row10 col6\" >0.09</td>\n",
              "      <td id=\"T_d2b8f_row10_col7\" class=\"data row10 col7\" >10</td>\n",
              "      <td id=\"T_d2b8f_row10_col8\" class=\"data row10 col8\" >299034</td>\n",
              "    </tr>\n",
              "    <tr>\n",
              "      <td id=\"T_d2b8f_row11_col0\" class=\"data row11 col0\" >546224</td>\n",
              "      <td id=\"T_d2b8f_row11_col1\" class=\"data row11 col1\" >Sunil</td>\n",
              "      <td id=\"T_d2b8f_row11_col2\" class=\"data row11 col2\" >Chettri</td>\n",
              "      <td id=\"T_d2b8f_row11_col3\" class=\"data row11 col3\" >Dy Manager</td>\n",
              "      <td id=\"T_d2b8f_row11_col4\" class=\"data row11 col4\" >2006-12-07</td>\n",
              "      <td id=\"T_d2b8f_row11_col5\" class=\"data row11 col5\" >40000</td>\n",
              "      <td id=\"T_d2b8f_row11_col6\" class=\"data row11 col6\" >0.05</td>\n",
              "      <td id=\"T_d2b8f_row11_col7\" class=\"data row11 col7\" >70</td>\n",
              "      <td id=\"T_d2b8f_row11_col8\" class=\"data row11 col8\" >349870</td>\n",
              "    </tr>\n",
              "    <tr>\n",
              "      <td id=\"T_d2b8f_row12_col0\" class=\"data row12 col0\" >223112</td>\n",
              "      <td id=\"T_d2b8f_row12_col1\" class=\"data row12 col1\" >Mirza</td>\n",
              "      <td id=\"T_d2b8f_row12_col2\" class=\"data row12 col2\" >Sania</td>\n",
              "      <td id=\"T_d2b8f_row12_col3\" class=\"data row12 col3\" >Cus_Rep</td>\n",
              "      <td id=\"T_d2b8f_row12_col4\" class=\"data row12 col4\" >2001-11-19</td>\n",
              "      <td id=\"T_d2b8f_row12_col5\" class=\"data row12 col5\" >25000</td>\n",
              "      <td id=\"T_d2b8f_row12_col6\" class=\"data row12 col6\" >0.04</td>\n",
              "      <td id=\"T_d2b8f_row12_col7\" class=\"data row12 col7\" >30</td>\n",
              "      <td id=\"T_d2b8f_row12_col8\" class=\"data row12 col8\" >822134</td>\n",
              "    </tr>\n",
              "  </tbody>\n",
              "</table>\n"
            ]
          },
          "metadata": {},
          "execution_count": 13
        }
      ]
    },
    {
      "cell_type": "code",
      "source": [
        "runSelect('select lastname, jobdesc, salary from empl')"
      ],
      "metadata": {
        "id": "z-mxVMPuuxu6",
        "outputId": "8dd00799-994e-4d22-fefc-b4cad9fd2106",
        "colab": {
          "base_uri": "https://localhost:8080/",
          "height": 457
        }
      },
      "execution_count": null,
      "outputs": [
        {
          "output_type": "execute_result",
          "data": {
            "text/plain": [
              "<pandas.io.formats.style.Styler at 0x79b438a4b3d0>"
            ],
            "text/html": [
              "<style type=\"text/css\">\n",
              "</style>\n",
              "<table id=\"T_11007\" class=\"dataframe\">\n",
              "  <thead>\n",
              "    <tr>\n",
              "      <th id=\"T_11007_level0_col0\" class=\"col_heading level0 col0\" >lastname</th>\n",
              "      <th id=\"T_11007_level0_col1\" class=\"col_heading level0 col1\" >jobdesc</th>\n",
              "      <th id=\"T_11007_level0_col2\" class=\"col_heading level0 col2\" >salary</th>\n",
              "    </tr>\n",
              "  </thead>\n",
              "  <tbody>\n",
              "    <tr>\n",
              "      <td id=\"T_11007_row0_col0\" class=\"data row0 col0\" >Bacchan</td>\n",
              "      <td id=\"T_11007_row0_col1\" class=\"data row0 col1\" >Executive</td>\n",
              "      <td id=\"T_11007_row0_col2\" class=\"data row0 col2\" >50000</td>\n",
              "    </tr>\n",
              "    <tr>\n",
              "      <td id=\"T_11007_row1_col0\" class=\"data row1 col0\" >Mukherjee</td>\n",
              "      <td id=\"T_11007_row1_col1\" class=\"data row1 col1\" >Manager</td>\n",
              "      <td id=\"T_11007_row1_col2\" class=\"data row1 col2\" >25000</td>\n",
              "    </tr>\n",
              "    <tr>\n",
              "      <td id=\"T_11007_row2_col0\" class=\"data row2 col0\" >Dikshit</td>\n",
              "      <td id=\"T_11007_row2_col1\" class=\"data row2 col1\" >Clerk</td>\n",
              "      <td id=\"T_11007_row2_col2\" class=\"data row2 col2\" >10000</td>\n",
              "    </tr>\n",
              "    <tr>\n",
              "      <td id=\"T_11007_row3_col0\" class=\"data row3 col0\" >Khan</td>\n",
              "      <td id=\"T_11007_row3_col1\" class=\"data row3 col1\" >Manager</td>\n",
              "      <td id=\"T_11007_row3_col2\" class=\"data row3 col2\" >30000</td>\n",
              "    </tr>\n",
              "    <tr>\n",
              "      <td id=\"T_11007_row4_col0\" class=\"data row4 col0\" >Sehwag</td>\n",
              "      <td id=\"T_11007_row4_col1\" class=\"data row4 col1\" >Cus_Rep</td>\n",
              "      <td id=\"T_11007_row4_col2\" class=\"data row4 col2\" >15000</td>\n",
              "    </tr>\n",
              "    <tr>\n",
              "      <td id=\"T_11007_row5_col0\" class=\"data row5 col0\" >Dhoni</td>\n",
              "      <td id=\"T_11007_row5_col1\" class=\"data row5 col1\" >Clerk</td>\n",
              "      <td id=\"T_11007_row5_col2\" class=\"data row5 col2\" >9000</td>\n",
              "    </tr>\n",
              "    <tr>\n",
              "      <td id=\"T_11007_row6_col0\" class=\"data row6 col0\" >Dravid</td>\n",
              "      <td id=\"T_11007_row6_col1\" class=\"data row6 col1\" >Sr Manager</td>\n",
              "      <td id=\"T_11007_row6_col2\" class=\"data row6 col2\" >40000</td>\n",
              "    </tr>\n",
              "    <tr>\n",
              "      <td id=\"T_11007_row7_col0\" class=\"data row7 col0\" >Dalmia</td>\n",
              "      <td id=\"T_11007_row7_col1\" class=\"data row7 col1\" >Clerk</td>\n",
              "      <td id=\"T_11007_row7_col2\" class=\"data row7 col2\" >12000</td>\n",
              "    </tr>\n",
              "    <tr>\n",
              "      <td id=\"T_11007_row8_col0\" class=\"data row8 col0\" >Ganguly</td>\n",
              "      <td id=\"T_11007_row8_col1\" class=\"data row8 col1\" >Cus_Rep</td>\n",
              "      <td id=\"T_11007_row8_col2\" class=\"data row8 col2\" >20000</td>\n",
              "    </tr>\n",
              "    <tr>\n",
              "      <td id=\"T_11007_row9_col0\" class=\"data row9 col0\" >Ganesan</td>\n",
              "      <td id=\"T_11007_row9_col1\" class=\"data row9 col1\" >Director</td>\n",
              "      <td id=\"T_11007_row9_col2\" class=\"data row9 col2\" >60000</td>\n",
              "    </tr>\n",
              "    <tr>\n",
              "      <td id=\"T_11007_row10_col0\" class=\"data row10 col0\" >Karthikeyan</td>\n",
              "      <td id=\"T_11007_row10_col1\" class=\"data row10 col1\" >Secretary</td>\n",
              "      <td id=\"T_11007_row10_col2\" class=\"data row10 col2\" >40000</td>\n",
              "    </tr>\n",
              "    <tr>\n",
              "      <td id=\"T_11007_row11_col0\" class=\"data row11 col0\" >Sunil</td>\n",
              "      <td id=\"T_11007_row11_col1\" class=\"data row11 col1\" >Dy Manager</td>\n",
              "      <td id=\"T_11007_row11_col2\" class=\"data row11 col2\" >40000</td>\n",
              "    </tr>\n",
              "    <tr>\n",
              "      <td id=\"T_11007_row12_col0\" class=\"data row12 col0\" >Mirza</td>\n",
              "      <td id=\"T_11007_row12_col1\" class=\"data row12 col1\" >Cus_Rep</td>\n",
              "      <td id=\"T_11007_row12_col2\" class=\"data row12 col2\" >25000</td>\n",
              "    </tr>\n",
              "  </tbody>\n",
              "</table>\n"
            ]
          },
          "metadata": {},
          "execution_count": 14
        }
      ]
    },
    {
      "cell_type": "code",
      "source": [
        "runSelect('select distinct(jobdesc) from empl')"
      ],
      "metadata": {
        "id": "7uvcAdlCvg-p",
        "outputId": "79970bc5-db07-4a4c-db27-790700198fc7",
        "colab": {
          "base_uri": "https://localhost:8080/",
          "height": 300
        }
      },
      "execution_count": null,
      "outputs": [
        {
          "output_type": "execute_result",
          "data": {
            "text/plain": [
              "<pandas.io.formats.style.Styler at 0x79b438af2650>"
            ],
            "text/html": [
              "<style type=\"text/css\">\n",
              "</style>\n",
              "<table id=\"T_45db3\" class=\"dataframe\">\n",
              "  <thead>\n",
              "    <tr>\n",
              "      <th id=\"T_45db3_level0_col0\" class=\"col_heading level0 col0\" >jobdesc</th>\n",
              "    </tr>\n",
              "  </thead>\n",
              "  <tbody>\n",
              "    <tr>\n",
              "      <td id=\"T_45db3_row0_col0\" class=\"data row0 col0\" >Director</td>\n",
              "    </tr>\n",
              "    <tr>\n",
              "      <td id=\"T_45db3_row1_col0\" class=\"data row1 col0\" >Manager</td>\n",
              "    </tr>\n",
              "    <tr>\n",
              "      <td id=\"T_45db3_row2_col0\" class=\"data row2 col0\" >Dy Manager</td>\n",
              "    </tr>\n",
              "    <tr>\n",
              "      <td id=\"T_45db3_row3_col0\" class=\"data row3 col0\" >Executive</td>\n",
              "    </tr>\n",
              "    <tr>\n",
              "      <td id=\"T_45db3_row4_col0\" class=\"data row4 col0\" >Secretary</td>\n",
              "    </tr>\n",
              "    <tr>\n",
              "      <td id=\"T_45db3_row5_col0\" class=\"data row5 col0\" >Cus_Rep</td>\n",
              "    </tr>\n",
              "    <tr>\n",
              "      <td id=\"T_45db3_row6_col0\" class=\"data row6 col0\" >Clerk</td>\n",
              "    </tr>\n",
              "    <tr>\n",
              "      <td id=\"T_45db3_row7_col0\" class=\"data row7 col0\" >Sr Manager</td>\n",
              "    </tr>\n",
              "  </tbody>\n",
              "</table>\n"
            ]
          },
          "metadata": {},
          "execution_count": 15
        }
      ]
    },
    {
      "cell_type": "markdown",
      "source": [
        "#Where"
      ],
      "metadata": {
        "id": "LFbNG59OxVzF"
      }
    },
    {
      "cell_type": "markdown",
      "source": [
        "## Equal, Not Equal, Greater, Less"
      ],
      "metadata": {
        "id": "JM2k29awVQHc"
      }
    },
    {
      "cell_type": "code",
      "source": [
        "runSelect(\"select firstname, lastname, jobdesc from empl where jobdesc = 'Clerk'\")"
      ],
      "metadata": {
        "id": "rRZz9OpLxdEY",
        "outputId": "10e552d8-fe33-42e4-a1c5-3a71cef935c4",
        "colab": {
          "base_uri": "https://localhost:8080/",
          "height": 143
        }
      },
      "execution_count": null,
      "outputs": [
        {
          "output_type": "execute_result",
          "data": {
            "text/plain": [
              "<pandas.io.formats.style.Styler at 0x79b438a4bdf0>"
            ],
            "text/html": [
              "<style type=\"text/css\">\n",
              "</style>\n",
              "<table id=\"T_78c88\" class=\"dataframe\">\n",
              "  <thead>\n",
              "    <tr>\n",
              "      <th id=\"T_78c88_level0_col0\" class=\"col_heading level0 col0\" >firstname</th>\n",
              "      <th id=\"T_78c88_level0_col1\" class=\"col_heading level0 col1\" >lastname</th>\n",
              "      <th id=\"T_78c88_level0_col2\" class=\"col_heading level0 col2\" >jobdesc</th>\n",
              "    </tr>\n",
              "  </thead>\n",
              "  <tbody>\n",
              "    <tr>\n",
              "      <td id=\"T_78c88_row0_col0\" class=\"data row0 col0\" >Madhuri</td>\n",
              "      <td id=\"T_78c88_row0_col1\" class=\"data row0 col1\" >Dikshit</td>\n",
              "      <td id=\"T_78c88_row0_col2\" class=\"data row0 col2\" >Clerk</td>\n",
              "    </tr>\n",
              "    <tr>\n",
              "      <td id=\"T_78c88_row1_col0\" class=\"data row1 col0\" >Mahender</td>\n",
              "      <td id=\"T_78c88_row1_col1\" class=\"data row1 col1\" >Dhoni</td>\n",
              "      <td id=\"T_78c88_row1_col2\" class=\"data row1 col2\" >Clerk</td>\n",
              "    </tr>\n",
              "    <tr>\n",
              "      <td id=\"T_78c88_row2_col0\" class=\"data row2 col0\" >Jagmohan</td>\n",
              "      <td id=\"T_78c88_row2_col1\" class=\"data row2 col1\" >Dalmia</td>\n",
              "      <td id=\"T_78c88_row2_col2\" class=\"data row2 col2\" >Clerk</td>\n",
              "    </tr>\n",
              "  </tbody>\n",
              "</table>\n"
            ]
          },
          "metadata": {},
          "execution_count": 16
        }
      ]
    },
    {
      "cell_type": "code",
      "source": [
        "runSelect(\"select firstname, lastname, jobdesc from empl where jobdesc != 'Clerk'\")"
      ],
      "metadata": {
        "id": "3cl0ISR9yG-I",
        "outputId": "390b02d0-db78-4348-b6a2-a70636fa8718",
        "colab": {
          "base_uri": "https://localhost:8080/",
          "height": 363
        }
      },
      "execution_count": null,
      "outputs": [
        {
          "output_type": "execute_result",
          "data": {
            "text/plain": [
              "<pandas.io.formats.style.Styler at 0x79b438a78c10>"
            ],
            "text/html": [
              "<style type=\"text/css\">\n",
              "</style>\n",
              "<table id=\"T_2014e\" class=\"dataframe\">\n",
              "  <thead>\n",
              "    <tr>\n",
              "      <th id=\"T_2014e_level0_col0\" class=\"col_heading level0 col0\" >firstname</th>\n",
              "      <th id=\"T_2014e_level0_col1\" class=\"col_heading level0 col1\" >lastname</th>\n",
              "      <th id=\"T_2014e_level0_col2\" class=\"col_heading level0 col2\" >jobdesc</th>\n",
              "    </tr>\n",
              "  </thead>\n",
              "  <tbody>\n",
              "    <tr>\n",
              "      <td id=\"T_2014e_row0_col0\" class=\"data row0 col0\" >Amitabh</td>\n",
              "      <td id=\"T_2014e_row0_col1\" class=\"data row0 col1\" >Bacchan</td>\n",
              "      <td id=\"T_2014e_row0_col2\" class=\"data row0 col2\" >Executive</td>\n",
              "    </tr>\n",
              "    <tr>\n",
              "      <td id=\"T_2014e_row1_col0\" class=\"data row1 col0\" >Rani</td>\n",
              "      <td id=\"T_2014e_row1_col1\" class=\"data row1 col1\" >Mukherjee</td>\n",
              "      <td id=\"T_2014e_row1_col2\" class=\"data row1 col2\" >Manager</td>\n",
              "    </tr>\n",
              "    <tr>\n",
              "      <td id=\"T_2014e_row2_col0\" class=\"data row2 col0\" >Shahrukh</td>\n",
              "      <td id=\"T_2014e_row2_col1\" class=\"data row2 col1\" >Khan</td>\n",
              "      <td id=\"T_2014e_row2_col2\" class=\"data row2 col2\" >Manager</td>\n",
              "    </tr>\n",
              "    <tr>\n",
              "      <td id=\"T_2014e_row3_col0\" class=\"data row3 col0\" >Virender</td>\n",
              "      <td id=\"T_2014e_row3_col1\" class=\"data row3 col1\" >Sehwag</td>\n",
              "      <td id=\"T_2014e_row3_col2\" class=\"data row3 col2\" >Cus_Rep</td>\n",
              "    </tr>\n",
              "    <tr>\n",
              "      <td id=\"T_2014e_row4_col0\" class=\"data row4 col0\" >Rahul</td>\n",
              "      <td id=\"T_2014e_row4_col1\" class=\"data row4 col1\" >Dravid</td>\n",
              "      <td id=\"T_2014e_row4_col2\" class=\"data row4 col2\" >Sr Manager</td>\n",
              "    </tr>\n",
              "    <tr>\n",
              "      <td id=\"T_2014e_row5_col0\" class=\"data row5 col0\" >Sourav</td>\n",
              "      <td id=\"T_2014e_row5_col1\" class=\"data row5 col1\" >Ganguly</td>\n",
              "      <td id=\"T_2014e_row5_col2\" class=\"data row5 col2\" >Cus_Rep</td>\n",
              "    </tr>\n",
              "    <tr>\n",
              "      <td id=\"T_2014e_row6_col0\" class=\"data row6 col0\" >Rekha</td>\n",
              "      <td id=\"T_2014e_row6_col1\" class=\"data row6 col1\" >Ganesan</td>\n",
              "      <td id=\"T_2014e_row6_col2\" class=\"data row6 col2\" >Director</td>\n",
              "    </tr>\n",
              "    <tr>\n",
              "      <td id=\"T_2014e_row7_col0\" class=\"data row7 col0\" >Narayan</td>\n",
              "      <td id=\"T_2014e_row7_col1\" class=\"data row7 col1\" >Karthikeyan</td>\n",
              "      <td id=\"T_2014e_row7_col2\" class=\"data row7 col2\" >Secretary</td>\n",
              "    </tr>\n",
              "    <tr>\n",
              "      <td id=\"T_2014e_row8_col0\" class=\"data row8 col0\" >Chettri</td>\n",
              "      <td id=\"T_2014e_row8_col1\" class=\"data row8 col1\" >Sunil</td>\n",
              "      <td id=\"T_2014e_row8_col2\" class=\"data row8 col2\" >Dy Manager</td>\n",
              "    </tr>\n",
              "    <tr>\n",
              "      <td id=\"T_2014e_row9_col0\" class=\"data row9 col0\" >Sania</td>\n",
              "      <td id=\"T_2014e_row9_col1\" class=\"data row9 col1\" >Mirza</td>\n",
              "      <td id=\"T_2014e_row9_col2\" class=\"data row9 col2\" >Cus_Rep</td>\n",
              "    </tr>\n",
              "  </tbody>\n",
              "</table>\n"
            ]
          },
          "metadata": {},
          "execution_count": 17
        }
      ]
    },
    {
      "cell_type": "code",
      "source": [
        "runSelect(\"select firstname, lastname, salary from empl where salary > 35000\")"
      ],
      "metadata": {
        "id": "obIPpNbDyT4S",
        "outputId": "0cf4c167-82e2-4dc5-bfb7-cc1b4858c36c",
        "colab": {
          "base_uri": "https://localhost:8080/",
          "height": 206
        }
      },
      "execution_count": null,
      "outputs": [
        {
          "output_type": "execute_result",
          "data": {
            "text/plain": [
              "<pandas.io.formats.style.Styler at 0x79b438a4ba60>"
            ],
            "text/html": [
              "<style type=\"text/css\">\n",
              "</style>\n",
              "<table id=\"T_884eb\" class=\"dataframe\">\n",
              "  <thead>\n",
              "    <tr>\n",
              "      <th id=\"T_884eb_level0_col0\" class=\"col_heading level0 col0\" >firstname</th>\n",
              "      <th id=\"T_884eb_level0_col1\" class=\"col_heading level0 col1\" >lastname</th>\n",
              "      <th id=\"T_884eb_level0_col2\" class=\"col_heading level0 col2\" >salary</th>\n",
              "    </tr>\n",
              "  </thead>\n",
              "  <tbody>\n",
              "    <tr>\n",
              "      <td id=\"T_884eb_row0_col0\" class=\"data row0 col0\" >Amitabh</td>\n",
              "      <td id=\"T_884eb_row0_col1\" class=\"data row0 col1\" >Bacchan</td>\n",
              "      <td id=\"T_884eb_row0_col2\" class=\"data row0 col2\" >50000</td>\n",
              "    </tr>\n",
              "    <tr>\n",
              "      <td id=\"T_884eb_row1_col0\" class=\"data row1 col0\" >Rahul</td>\n",
              "      <td id=\"T_884eb_row1_col1\" class=\"data row1 col1\" >Dravid</td>\n",
              "      <td id=\"T_884eb_row1_col2\" class=\"data row1 col2\" >40000</td>\n",
              "    </tr>\n",
              "    <tr>\n",
              "      <td id=\"T_884eb_row2_col0\" class=\"data row2 col0\" >Rekha</td>\n",
              "      <td id=\"T_884eb_row2_col1\" class=\"data row2 col1\" >Ganesan</td>\n",
              "      <td id=\"T_884eb_row2_col2\" class=\"data row2 col2\" >60000</td>\n",
              "    </tr>\n",
              "    <tr>\n",
              "      <td id=\"T_884eb_row3_col0\" class=\"data row3 col0\" >Narayan</td>\n",
              "      <td id=\"T_884eb_row3_col1\" class=\"data row3 col1\" >Karthikeyan</td>\n",
              "      <td id=\"T_884eb_row3_col2\" class=\"data row3 col2\" >40000</td>\n",
              "    </tr>\n",
              "    <tr>\n",
              "      <td id=\"T_884eb_row4_col0\" class=\"data row4 col0\" >Chettri</td>\n",
              "      <td id=\"T_884eb_row4_col1\" class=\"data row4 col1\" >Sunil</td>\n",
              "      <td id=\"T_884eb_row4_col2\" class=\"data row4 col2\" >40000</td>\n",
              "    </tr>\n",
              "  </tbody>\n",
              "</table>\n"
            ]
          },
          "metadata": {},
          "execution_count": 18
        }
      ]
    },
    {
      "cell_type": "code",
      "source": [
        "runSelect(\"select firstname, lastname, salary, joindate from empl where joindate < '2002-01-01'\")"
      ],
      "metadata": {
        "colab": {
          "base_uri": "https://localhost:8080/",
          "height": 143
        },
        "id": "hnIvgy_dMvQl",
        "outputId": "70ec9a06-9fa3-416c-fd84-5726fa57fc28"
      },
      "execution_count": null,
      "outputs": [
        {
          "output_type": "execute_result",
          "data": {
            "text/plain": [
              "<pandas.io.formats.style.Styler at 0x79b438a786d0>"
            ],
            "text/html": [
              "<style type=\"text/css\">\n",
              "</style>\n",
              "<table id=\"T_b0dc1\" class=\"dataframe\">\n",
              "  <thead>\n",
              "    <tr>\n",
              "      <th id=\"T_b0dc1_level0_col0\" class=\"col_heading level0 col0\" >firstname</th>\n",
              "      <th id=\"T_b0dc1_level0_col1\" class=\"col_heading level0 col1\" >lastname</th>\n",
              "      <th id=\"T_b0dc1_level0_col2\" class=\"col_heading level0 col2\" >salary</th>\n",
              "      <th id=\"T_b0dc1_level0_col3\" class=\"col_heading level0 col3\" >joindate</th>\n",
              "    </tr>\n",
              "  </thead>\n",
              "  <tbody>\n",
              "    <tr>\n",
              "      <td id=\"T_b0dc1_row0_col0\" class=\"data row0 col0\" >Rahul</td>\n",
              "      <td id=\"T_b0dc1_row0_col1\" class=\"data row0 col1\" >Dravid</td>\n",
              "      <td id=\"T_b0dc1_row0_col2\" class=\"data row0 col2\" >40000</td>\n",
              "      <td id=\"T_b0dc1_row0_col3\" class=\"data row0 col3\" >2000-06-04</td>\n",
              "    </tr>\n",
              "    <tr>\n",
              "      <td id=\"T_b0dc1_row1_col0\" class=\"data row1 col0\" >Jagmohan</td>\n",
              "      <td id=\"T_b0dc1_row1_col1\" class=\"data row1 col1\" >Dalmia</td>\n",
              "      <td id=\"T_b0dc1_row1_col2\" class=\"data row1 col2\" >12000</td>\n",
              "      <td id=\"T_b0dc1_row1_col3\" class=\"data row1 col3\" >2001-07-01</td>\n",
              "    </tr>\n",
              "    <tr>\n",
              "      <td id=\"T_b0dc1_row2_col0\" class=\"data row2 col0\" >Sania</td>\n",
              "      <td id=\"T_b0dc1_row2_col1\" class=\"data row2 col1\" >Mirza</td>\n",
              "      <td id=\"T_b0dc1_row2_col2\" class=\"data row2 col2\" >25000</td>\n",
              "      <td id=\"T_b0dc1_row2_col3\" class=\"data row2 col3\" >2001-11-19</td>\n",
              "    </tr>\n",
              "  </tbody>\n",
              "</table>\n"
            ]
          },
          "metadata": {},
          "execution_count": 19
        }
      ]
    },
    {
      "cell_type": "markdown",
      "source": [
        "## Like"
      ],
      "metadata": {
        "id": "77DkYhfhU1lJ"
      }
    },
    {
      "cell_type": "code",
      "source": [
        "runSelect(\"select firstname, lastname, salary from empl where lastname like 'D%'\")"
      ],
      "metadata": {
        "colab": {
          "base_uri": "https://localhost:8080/",
          "height": 175
        },
        "id": "PBsdla2eVv1K",
        "outputId": "0c847a30-7c98-469e-c3b8-fe80888245c5"
      },
      "execution_count": null,
      "outputs": [
        {
          "output_type": "execute_result",
          "data": {
            "text/plain": [
              "<pandas.io.formats.style.Styler at 0x79b438a7a4a0>"
            ],
            "text/html": [
              "<style type=\"text/css\">\n",
              "</style>\n",
              "<table id=\"T_4d426\" class=\"dataframe\">\n",
              "  <thead>\n",
              "    <tr>\n",
              "      <th id=\"T_4d426_level0_col0\" class=\"col_heading level0 col0\" >firstname</th>\n",
              "      <th id=\"T_4d426_level0_col1\" class=\"col_heading level0 col1\" >lastname</th>\n",
              "      <th id=\"T_4d426_level0_col2\" class=\"col_heading level0 col2\" >salary</th>\n",
              "    </tr>\n",
              "  </thead>\n",
              "  <tbody>\n",
              "    <tr>\n",
              "      <td id=\"T_4d426_row0_col0\" class=\"data row0 col0\" >Madhuri</td>\n",
              "      <td id=\"T_4d426_row0_col1\" class=\"data row0 col1\" >Dikshit</td>\n",
              "      <td id=\"T_4d426_row0_col2\" class=\"data row0 col2\" >10000</td>\n",
              "    </tr>\n",
              "    <tr>\n",
              "      <td id=\"T_4d426_row1_col0\" class=\"data row1 col0\" >Mahender</td>\n",
              "      <td id=\"T_4d426_row1_col1\" class=\"data row1 col1\" >Dhoni</td>\n",
              "      <td id=\"T_4d426_row1_col2\" class=\"data row1 col2\" >9000</td>\n",
              "    </tr>\n",
              "    <tr>\n",
              "      <td id=\"T_4d426_row2_col0\" class=\"data row2 col0\" >Rahul</td>\n",
              "      <td id=\"T_4d426_row2_col1\" class=\"data row2 col1\" >Dravid</td>\n",
              "      <td id=\"T_4d426_row2_col2\" class=\"data row2 col2\" >40000</td>\n",
              "    </tr>\n",
              "    <tr>\n",
              "      <td id=\"T_4d426_row3_col0\" class=\"data row3 col0\" >Jagmohan</td>\n",
              "      <td id=\"T_4d426_row3_col1\" class=\"data row3 col1\" >Dalmia</td>\n",
              "      <td id=\"T_4d426_row3_col2\" class=\"data row3 col2\" >12000</td>\n",
              "    </tr>\n",
              "  </tbody>\n",
              "</table>\n"
            ]
          },
          "metadata": {},
          "execution_count": 20
        }
      ]
    },
    {
      "cell_type": "code",
      "source": [
        "runSelect(\"select firstname, lastname, joindate from empl where lastname like '____i_'\")"
      ],
      "metadata": {
        "colab": {
          "base_uri": "https://localhost:8080/",
          "height": 112
        },
        "id": "xxImEDlKbm4U",
        "outputId": "ba86d2c8-6a56-4afc-cd78-4f25ae337dc5"
      },
      "execution_count": null,
      "outputs": [
        {
          "output_type": "execute_result",
          "data": {
            "text/plain": [
              "<pandas.io.formats.style.Styler at 0x79b438af0580>"
            ],
            "text/html": [
              "<style type=\"text/css\">\n",
              "</style>\n",
              "<table id=\"T_ad627\" class=\"dataframe\">\n",
              "  <thead>\n",
              "    <tr>\n",
              "      <th id=\"T_ad627_level0_col0\" class=\"col_heading level0 col0\" >firstname</th>\n",
              "      <th id=\"T_ad627_level0_col1\" class=\"col_heading level0 col1\" >lastname</th>\n",
              "      <th id=\"T_ad627_level0_col2\" class=\"col_heading level0 col2\" >joindate</th>\n",
              "    </tr>\n",
              "  </thead>\n",
              "  <tbody>\n",
              "    <tr>\n",
              "      <td id=\"T_ad627_row0_col0\" class=\"data row0 col0\" >Rahul</td>\n",
              "      <td id=\"T_ad627_row0_col1\" class=\"data row0 col1\" >Dravid</td>\n",
              "      <td id=\"T_ad627_row0_col2\" class=\"data row0 col2\" >2000-06-04</td>\n",
              "    </tr>\n",
              "    <tr>\n",
              "      <td id=\"T_ad627_row1_col0\" class=\"data row1 col0\" >Jagmohan</td>\n",
              "      <td id=\"T_ad627_row1_col1\" class=\"data row1 col1\" >Dalmia</td>\n",
              "      <td id=\"T_ad627_row1_col2\" class=\"data row1 col2\" >2001-07-01</td>\n",
              "    </tr>\n",
              "  </tbody>\n",
              "</table>\n"
            ]
          },
          "metadata": {},
          "execution_count": 21
        }
      ]
    },
    {
      "cell_type": "code",
      "source": [
        "runSelect(\"select firstname, lastname, jobdesc from empl where lastname like '____i%'\")"
      ],
      "metadata": {
        "colab": {
          "base_uri": "https://localhost:8080/",
          "height": 143
        },
        "id": "pL7VPLo4b2g3",
        "outputId": "043ce242-3849-47fa-e203-0b17c386fb5b"
      },
      "execution_count": null,
      "outputs": [
        {
          "output_type": "execute_result",
          "data": {
            "text/plain": [
              "<pandas.io.formats.style.Styler at 0x79b438a7b1f0>"
            ],
            "text/html": [
              "<style type=\"text/css\">\n",
              "</style>\n",
              "<table id=\"T_cb1f7\" class=\"dataframe\">\n",
              "  <thead>\n",
              "    <tr>\n",
              "      <th id=\"T_cb1f7_level0_col0\" class=\"col_heading level0 col0\" >firstname</th>\n",
              "      <th id=\"T_cb1f7_level0_col1\" class=\"col_heading level0 col1\" >lastname</th>\n",
              "      <th id=\"T_cb1f7_level0_col2\" class=\"col_heading level0 col2\" >jobdesc</th>\n",
              "    </tr>\n",
              "  </thead>\n",
              "  <tbody>\n",
              "    <tr>\n",
              "      <td id=\"T_cb1f7_row0_col0\" class=\"data row0 col0\" >Mahender</td>\n",
              "      <td id=\"T_cb1f7_row0_col1\" class=\"data row0 col1\" >Dhoni</td>\n",
              "      <td id=\"T_cb1f7_row0_col2\" class=\"data row0 col2\" >Clerk</td>\n",
              "    </tr>\n",
              "    <tr>\n",
              "      <td id=\"T_cb1f7_row1_col0\" class=\"data row1 col0\" >Rahul</td>\n",
              "      <td id=\"T_cb1f7_row1_col1\" class=\"data row1 col1\" >Dravid</td>\n",
              "      <td id=\"T_cb1f7_row1_col2\" class=\"data row1 col2\" >Sr Manager</td>\n",
              "    </tr>\n",
              "    <tr>\n",
              "      <td id=\"T_cb1f7_row2_col0\" class=\"data row2 col0\" >Jagmohan</td>\n",
              "      <td id=\"T_cb1f7_row2_col1\" class=\"data row2 col1\" >Dalmia</td>\n",
              "      <td id=\"T_cb1f7_row2_col2\" class=\"data row2 col2\" >Clerk</td>\n",
              "    </tr>\n",
              "  </tbody>\n",
              "</table>\n"
            ]
          },
          "metadata": {},
          "execution_count": 22
        }
      ]
    },
    {
      "cell_type": "markdown",
      "source": [
        "## Between"
      ],
      "metadata": {
        "id": "qw2h8Vtvey2R"
      }
    },
    {
      "cell_type": "code",
      "source": [
        "runSelect(\"select firstname, lastname, salary from empl where salary between 10000 and 20000\")"
      ],
      "metadata": {
        "colab": {
          "base_uri": "https://localhost:8080/",
          "height": 175
        },
        "id": "sI_qlRdXe7S8",
        "outputId": "7e1c39b5-a42d-4280-ff93-dc762ce9f8f4"
      },
      "execution_count": null,
      "outputs": [
        {
          "output_type": "execute_result",
          "data": {
            "text/plain": [
              "<pandas.io.formats.style.Styler at 0x79b4633caf20>"
            ],
            "text/html": [
              "<style type=\"text/css\">\n",
              "</style>\n",
              "<table id=\"T_ac42a\" class=\"dataframe\">\n",
              "  <thead>\n",
              "    <tr>\n",
              "      <th id=\"T_ac42a_level0_col0\" class=\"col_heading level0 col0\" >firstname</th>\n",
              "      <th id=\"T_ac42a_level0_col1\" class=\"col_heading level0 col1\" >lastname</th>\n",
              "      <th id=\"T_ac42a_level0_col2\" class=\"col_heading level0 col2\" >salary</th>\n",
              "    </tr>\n",
              "  </thead>\n",
              "  <tbody>\n",
              "    <tr>\n",
              "      <td id=\"T_ac42a_row0_col0\" class=\"data row0 col0\" >Madhuri</td>\n",
              "      <td id=\"T_ac42a_row0_col1\" class=\"data row0 col1\" >Dikshit</td>\n",
              "      <td id=\"T_ac42a_row0_col2\" class=\"data row0 col2\" >10000</td>\n",
              "    </tr>\n",
              "    <tr>\n",
              "      <td id=\"T_ac42a_row1_col0\" class=\"data row1 col0\" >Virender</td>\n",
              "      <td id=\"T_ac42a_row1_col1\" class=\"data row1 col1\" >Sehwag</td>\n",
              "      <td id=\"T_ac42a_row1_col2\" class=\"data row1 col2\" >15000</td>\n",
              "    </tr>\n",
              "    <tr>\n",
              "      <td id=\"T_ac42a_row2_col0\" class=\"data row2 col0\" >Jagmohan</td>\n",
              "      <td id=\"T_ac42a_row2_col1\" class=\"data row2 col1\" >Dalmia</td>\n",
              "      <td id=\"T_ac42a_row2_col2\" class=\"data row2 col2\" >12000</td>\n",
              "    </tr>\n",
              "    <tr>\n",
              "      <td id=\"T_ac42a_row3_col0\" class=\"data row3 col0\" >Sourav</td>\n",
              "      <td id=\"T_ac42a_row3_col1\" class=\"data row3 col1\" >Ganguly</td>\n",
              "      <td id=\"T_ac42a_row3_col2\" class=\"data row3 col2\" >20000</td>\n",
              "    </tr>\n",
              "  </tbody>\n",
              "</table>\n"
            ]
          },
          "metadata": {},
          "execution_count": 23
        }
      ]
    },
    {
      "cell_type": "code",
      "source": [
        "runSelect(\"select firstname, lastname, joindate from empl where joindate between '2004-01-01' and '2005-01-01'\")"
      ],
      "metadata": {
        "colab": {
          "base_uri": "https://localhost:8080/",
          "height": 112
        },
        "id": "b_mWyFTnfIEy",
        "outputId": "ca1262dc-31fb-488a-a131-05429f970401"
      },
      "execution_count": null,
      "outputs": [
        {
          "output_type": "execute_result",
          "data": {
            "text/plain": [
              "<pandas.io.formats.style.Styler at 0x79b438a4ac50>"
            ],
            "text/html": [
              "<style type=\"text/css\">\n",
              "</style>\n",
              "<table id=\"T_bcefe\" class=\"dataframe\">\n",
              "  <thead>\n",
              "    <tr>\n",
              "      <th id=\"T_bcefe_level0_col0\" class=\"col_heading level0 col0\" >firstname</th>\n",
              "      <th id=\"T_bcefe_level0_col1\" class=\"col_heading level0 col1\" >lastname</th>\n",
              "      <th id=\"T_bcefe_level0_col2\" class=\"col_heading level0 col2\" >joindate</th>\n",
              "    </tr>\n",
              "  </thead>\n",
              "  <tbody>\n",
              "    <tr>\n",
              "      <td id=\"T_bcefe_row0_col0\" class=\"data row0 col0\" >Shahrukh</td>\n",
              "      <td id=\"T_bcefe_row0_col1\" class=\"data row0 col1\" >Khan</td>\n",
              "      <td id=\"T_bcefe_row0_col2\" class=\"data row0 col2\" >2004-01-03</td>\n",
              "    </tr>\n",
              "    <tr>\n",
              "      <td id=\"T_bcefe_row1_col0\" class=\"data row1 col0\" >Mahender</td>\n",
              "      <td id=\"T_bcefe_row1_col1\" class=\"data row1 col1\" >Dhoni</td>\n",
              "      <td id=\"T_bcefe_row1_col2\" class=\"data row1 col2\" >2004-10-09</td>\n",
              "    </tr>\n",
              "  </tbody>\n",
              "</table>\n"
            ]
          },
          "metadata": {},
          "execution_count": 24
        }
      ]
    },
    {
      "cell_type": "code",
      "source": [
        "runSelect(\"select firstname, lastname, joindate from empl where lastname between 'Dho' and 'Kha'\")"
      ],
      "metadata": {
        "colab": {
          "base_uri": "https://localhost:8080/",
          "height": 238
        },
        "id": "qXs9AeS2fwCS",
        "outputId": "4a82f000-5e41-404f-cfd7-92dc61a58e93"
      },
      "execution_count": null,
      "outputs": [
        {
          "output_type": "execute_result",
          "data": {
            "text/plain": [
              "<pandas.io.formats.style.Styler at 0x79b438a4bac0>"
            ],
            "text/html": [
              "<style type=\"text/css\">\n",
              "</style>\n",
              "<table id=\"T_1190f\" class=\"dataframe\">\n",
              "  <thead>\n",
              "    <tr>\n",
              "      <th id=\"T_1190f_level0_col0\" class=\"col_heading level0 col0\" >firstname</th>\n",
              "      <th id=\"T_1190f_level0_col1\" class=\"col_heading level0 col1\" >lastname</th>\n",
              "      <th id=\"T_1190f_level0_col2\" class=\"col_heading level0 col2\" >joindate</th>\n",
              "    </tr>\n",
              "  </thead>\n",
              "  <tbody>\n",
              "    <tr>\n",
              "      <td id=\"T_1190f_row0_col0\" class=\"data row0 col0\" >Madhuri</td>\n",
              "      <td id=\"T_1190f_row0_col1\" class=\"data row0 col1\" >Dikshit</td>\n",
              "      <td id=\"T_1190f_row0_col2\" class=\"data row0 col2\" >2002-04-04</td>\n",
              "    </tr>\n",
              "    <tr>\n",
              "      <td id=\"T_1190f_row1_col0\" class=\"data row1 col0\" >Mahender</td>\n",
              "      <td id=\"T_1190f_row1_col1\" class=\"data row1 col1\" >Dhoni</td>\n",
              "      <td id=\"T_1190f_row1_col2\" class=\"data row1 col2\" >2004-10-09</td>\n",
              "    </tr>\n",
              "    <tr>\n",
              "      <td id=\"T_1190f_row2_col0\" class=\"data row2 col0\" >Rahul</td>\n",
              "      <td id=\"T_1190f_row2_col1\" class=\"data row2 col1\" >Dravid</td>\n",
              "      <td id=\"T_1190f_row2_col2\" class=\"data row2 col2\" >2000-06-04</td>\n",
              "    </tr>\n",
              "    <tr>\n",
              "      <td id=\"T_1190f_row3_col0\" class=\"data row3 col0\" >Sourav</td>\n",
              "      <td id=\"T_1190f_row3_col1\" class=\"data row3 col1\" >Ganguly</td>\n",
              "      <td id=\"T_1190f_row3_col2\" class=\"data row3 col2\" >2002-01-01</td>\n",
              "    </tr>\n",
              "    <tr>\n",
              "      <td id=\"T_1190f_row4_col0\" class=\"data row4 col0\" >Rekha</td>\n",
              "      <td id=\"T_1190f_row4_col1\" class=\"data row4 col1\" >Ganesan</td>\n",
              "      <td id=\"T_1190f_row4_col2\" class=\"data row4 col2\" >2002-10-10</td>\n",
              "    </tr>\n",
              "    <tr>\n",
              "      <td id=\"T_1190f_row5_col0\" class=\"data row5 col0\" >Narayan</td>\n",
              "      <td id=\"T_1190f_row5_col1\" class=\"data row5 col1\" >Karthikeyan</td>\n",
              "      <td id=\"T_1190f_row5_col2\" class=\"data row5 col2\" >2005-12-04</td>\n",
              "    </tr>\n",
              "  </tbody>\n",
              "</table>\n"
            ]
          },
          "metadata": {},
          "execution_count": 25
        }
      ]
    },
    {
      "cell_type": "markdown",
      "source": [
        "## IN"
      ],
      "metadata": {
        "id": "azhy0TQLiLy-"
      }
    },
    {
      "cell_type": "code",
      "source": [
        "runSelect(\"select firstname, lastname, deptid from empl where deptid in ('30','20','70')\")"
      ],
      "metadata": {
        "colab": {
          "base_uri": "https://localhost:8080/",
          "height": 269
        },
        "id": "UyBE-FuoibSZ",
        "outputId": "b75a4fdc-aada-4f7c-fe7b-bf69bbca47d4"
      },
      "execution_count": null,
      "outputs": [
        {
          "output_type": "execute_result",
          "data": {
            "text/plain": [
              "<pandas.io.formats.style.Styler at 0x79b438a7b430>"
            ],
            "text/html": [
              "<style type=\"text/css\">\n",
              "</style>\n",
              "<table id=\"T_35d86\" class=\"dataframe\">\n",
              "  <thead>\n",
              "    <tr>\n",
              "      <th id=\"T_35d86_level0_col0\" class=\"col_heading level0 col0\" >firstname</th>\n",
              "      <th id=\"T_35d86_level0_col1\" class=\"col_heading level0 col1\" >lastname</th>\n",
              "      <th id=\"T_35d86_level0_col2\" class=\"col_heading level0 col2\" >deptid</th>\n",
              "    </tr>\n",
              "  </thead>\n",
              "  <tbody>\n",
              "    <tr>\n",
              "      <td id=\"T_35d86_row0_col0\" class=\"data row0 col0\" >Madhuri</td>\n",
              "      <td id=\"T_35d86_row0_col1\" class=\"data row0 col1\" >Dikshit</td>\n",
              "      <td id=\"T_35d86_row0_col2\" class=\"data row0 col2\" >20</td>\n",
              "    </tr>\n",
              "    <tr>\n",
              "      <td id=\"T_35d86_row1_col0\" class=\"data row1 col0\" >Shahrukh</td>\n",
              "      <td id=\"T_35d86_row1_col1\" class=\"data row1 col1\" >Khan</td>\n",
              "      <td id=\"T_35d86_row1_col2\" class=\"data row1 col2\" >20</td>\n",
              "    </tr>\n",
              "    <tr>\n",
              "      <td id=\"T_35d86_row2_col0\" class=\"data row2 col0\" >Virender</td>\n",
              "      <td id=\"T_35d86_row2_col1\" class=\"data row2 col1\" >Sehwag</td>\n",
              "      <td id=\"T_35d86_row2_col2\" class=\"data row2 col2\" >20</td>\n",
              "    </tr>\n",
              "    <tr>\n",
              "      <td id=\"T_35d86_row3_col0\" class=\"data row3 col0\" >Rahul</td>\n",
              "      <td id=\"T_35d86_row3_col1\" class=\"data row3 col1\" >Dravid</td>\n",
              "      <td id=\"T_35d86_row3_col2\" class=\"data row3 col2\" >30</td>\n",
              "    </tr>\n",
              "    <tr>\n",
              "      <td id=\"T_35d86_row4_col0\" class=\"data row4 col0\" >Jagmohan</td>\n",
              "      <td id=\"T_35d86_row4_col1\" class=\"data row4 col1\" >Dalmia</td>\n",
              "      <td id=\"T_35d86_row4_col2\" class=\"data row4 col2\" >30</td>\n",
              "    </tr>\n",
              "    <tr>\n",
              "      <td id=\"T_35d86_row5_col0\" class=\"data row5 col0\" >Chettri</td>\n",
              "      <td id=\"T_35d86_row5_col1\" class=\"data row5 col1\" >Sunil</td>\n",
              "      <td id=\"T_35d86_row5_col2\" class=\"data row5 col2\" >70</td>\n",
              "    </tr>\n",
              "    <tr>\n",
              "      <td id=\"T_35d86_row6_col0\" class=\"data row6 col0\" >Sania</td>\n",
              "      <td id=\"T_35d86_row6_col1\" class=\"data row6 col1\" >Mirza</td>\n",
              "      <td id=\"T_35d86_row6_col2\" class=\"data row6 col2\" >30</td>\n",
              "    </tr>\n",
              "  </tbody>\n",
              "</table>\n"
            ]
          },
          "metadata": {},
          "execution_count": 26
        }
      ]
    },
    {
      "cell_type": "code",
      "source": [
        "runSelect(\"select firstname, lastname, salary from empl where firstname in ('Madhuri','Shahrukh','Virender')\")"
      ],
      "metadata": {
        "colab": {
          "base_uri": "https://localhost:8080/",
          "height": 143
        },
        "id": "9qTEO-OuiN3A",
        "outputId": "fb55f1fb-8102-4fe5-ce0f-ccbc379f0942"
      },
      "execution_count": null,
      "outputs": [
        {
          "output_type": "execute_result",
          "data": {
            "text/plain": [
              "<pandas.io.formats.style.Styler at 0x79b438a4b8b0>"
            ],
            "text/html": [
              "<style type=\"text/css\">\n",
              "</style>\n",
              "<table id=\"T_28e1d\" class=\"dataframe\">\n",
              "  <thead>\n",
              "    <tr>\n",
              "      <th id=\"T_28e1d_level0_col0\" class=\"col_heading level0 col0\" >firstname</th>\n",
              "      <th id=\"T_28e1d_level0_col1\" class=\"col_heading level0 col1\" >lastname</th>\n",
              "      <th id=\"T_28e1d_level0_col2\" class=\"col_heading level0 col2\" >salary</th>\n",
              "    </tr>\n",
              "  </thead>\n",
              "  <tbody>\n",
              "    <tr>\n",
              "      <td id=\"T_28e1d_row0_col0\" class=\"data row0 col0\" >Madhuri</td>\n",
              "      <td id=\"T_28e1d_row0_col1\" class=\"data row0 col1\" >Dikshit</td>\n",
              "      <td id=\"T_28e1d_row0_col2\" class=\"data row0 col2\" >10000</td>\n",
              "    </tr>\n",
              "    <tr>\n",
              "      <td id=\"T_28e1d_row1_col0\" class=\"data row1 col0\" >Shahrukh</td>\n",
              "      <td id=\"T_28e1d_row1_col1\" class=\"data row1 col1\" >Khan</td>\n",
              "      <td id=\"T_28e1d_row1_col2\" class=\"data row1 col2\" >30000</td>\n",
              "    </tr>\n",
              "    <tr>\n",
              "      <td id=\"T_28e1d_row2_col0\" class=\"data row2 col0\" >Virender</td>\n",
              "      <td id=\"T_28e1d_row2_col1\" class=\"data row2 col1\" >Sehwag</td>\n",
              "      <td id=\"T_28e1d_row2_col2\" class=\"data row2 col2\" >15000</td>\n",
              "    </tr>\n",
              "  </tbody>\n",
              "</table>\n"
            ]
          },
          "metadata": {},
          "execution_count": 27
        }
      ]
    },
    {
      "cell_type": "markdown",
      "source": [
        "## Order by"
      ],
      "metadata": {
        "id": "vlOCT_zAkzMb"
      }
    },
    {
      "cell_type": "code",
      "source": [
        "runSelect(\"select firstname, lastname, joindate from empl where firstname in ('Madhuri','Shahrukh','Virender') order by joindate\")"
      ],
      "metadata": {
        "colab": {
          "base_uri": "https://localhost:8080/",
          "height": 143
        },
        "id": "WidoGzLVk1in",
        "outputId": "d3e8e673-bedc-4f38-91c0-027f1167d2e2"
      },
      "execution_count": null,
      "outputs": [
        {
          "output_type": "execute_result",
          "data": {
            "text/plain": [
              "<pandas.io.formats.style.Styler at 0x79b438a4a530>"
            ],
            "text/html": [
              "<style type=\"text/css\">\n",
              "</style>\n",
              "<table id=\"T_648e0\" class=\"dataframe\">\n",
              "  <thead>\n",
              "    <tr>\n",
              "      <th id=\"T_648e0_level0_col0\" class=\"col_heading level0 col0\" >firstname</th>\n",
              "      <th id=\"T_648e0_level0_col1\" class=\"col_heading level0 col1\" >lastname</th>\n",
              "      <th id=\"T_648e0_level0_col2\" class=\"col_heading level0 col2\" >joindate</th>\n",
              "    </tr>\n",
              "  </thead>\n",
              "  <tbody>\n",
              "    <tr>\n",
              "      <td id=\"T_648e0_row0_col0\" class=\"data row0 col0\" >Madhuri</td>\n",
              "      <td id=\"T_648e0_row0_col1\" class=\"data row0 col1\" >Dikshit</td>\n",
              "      <td id=\"T_648e0_row0_col2\" class=\"data row0 col2\" >2002-04-04</td>\n",
              "    </tr>\n",
              "    <tr>\n",
              "      <td id=\"T_648e0_row1_col0\" class=\"data row1 col0\" >Shahrukh</td>\n",
              "      <td id=\"T_648e0_row1_col1\" class=\"data row1 col1\" >Khan</td>\n",
              "      <td id=\"T_648e0_row1_col2\" class=\"data row1 col2\" >2004-01-03</td>\n",
              "    </tr>\n",
              "    <tr>\n",
              "      <td id=\"T_648e0_row2_col0\" class=\"data row2 col0\" >Virender</td>\n",
              "      <td id=\"T_648e0_row2_col1\" class=\"data row2 col1\" >Sehwag</td>\n",
              "      <td id=\"T_648e0_row2_col2\" class=\"data row2 col2\" >2005-01-02</td>\n",
              "    </tr>\n",
              "  </tbody>\n",
              "</table>\n"
            ]
          },
          "metadata": {},
          "execution_count": 28
        }
      ]
    },
    {
      "cell_type": "code",
      "source": [
        "runSelect(\"select firstname, lastname, jobdesc, salary, deptid from empl where deptid = '10' order by salary desc\")"
      ],
      "metadata": {
        "colab": {
          "base_uri": "https://localhost:8080/",
          "height": 143
        },
        "id": "Iq_7jWr-lRlO",
        "outputId": "9a4d7db9-0ced-4ebb-9d63-60a6f9a37ab6"
      },
      "execution_count": null,
      "outputs": [
        {
          "output_type": "execute_result",
          "data": {
            "text/plain": [
              "<pandas.io.formats.style.Styler at 0x79b4388ab0d0>"
            ],
            "text/html": [
              "<style type=\"text/css\">\n",
              "</style>\n",
              "<table id=\"T_f159b\" class=\"dataframe\">\n",
              "  <thead>\n",
              "    <tr>\n",
              "      <th id=\"T_f159b_level0_col0\" class=\"col_heading level0 col0\" >firstname</th>\n",
              "      <th id=\"T_f159b_level0_col1\" class=\"col_heading level0 col1\" >lastname</th>\n",
              "      <th id=\"T_f159b_level0_col2\" class=\"col_heading level0 col2\" >jobdesc</th>\n",
              "      <th id=\"T_f159b_level0_col3\" class=\"col_heading level0 col3\" >salary</th>\n",
              "      <th id=\"T_f159b_level0_col4\" class=\"col_heading level0 col4\" >deptid</th>\n",
              "    </tr>\n",
              "  </thead>\n",
              "  <tbody>\n",
              "    <tr>\n",
              "      <td id=\"T_f159b_row0_col0\" class=\"data row0 col0\" >Rekha</td>\n",
              "      <td id=\"T_f159b_row0_col1\" class=\"data row0 col1\" >Ganesan</td>\n",
              "      <td id=\"T_f159b_row0_col2\" class=\"data row0 col2\" >Director</td>\n",
              "      <td id=\"T_f159b_row0_col3\" class=\"data row0 col3\" >60000</td>\n",
              "      <td id=\"T_f159b_row0_col4\" class=\"data row0 col4\" >10</td>\n",
              "    </tr>\n",
              "    <tr>\n",
              "      <td id=\"T_f159b_row1_col0\" class=\"data row1 col0\" >Amitabh</td>\n",
              "      <td id=\"T_f159b_row1_col1\" class=\"data row1 col1\" >Bacchan</td>\n",
              "      <td id=\"T_f159b_row1_col2\" class=\"data row1 col2\" >Executive</td>\n",
              "      <td id=\"T_f159b_row1_col3\" class=\"data row1 col3\" >50000</td>\n",
              "      <td id=\"T_f159b_row1_col4\" class=\"data row1 col4\" >10</td>\n",
              "    </tr>\n",
              "    <tr>\n",
              "      <td id=\"T_f159b_row2_col0\" class=\"data row2 col0\" >Narayan</td>\n",
              "      <td id=\"T_f159b_row2_col1\" class=\"data row2 col1\" >Karthikeyan</td>\n",
              "      <td id=\"T_f159b_row2_col2\" class=\"data row2 col2\" >Secretary</td>\n",
              "      <td id=\"T_f159b_row2_col3\" class=\"data row2 col3\" >40000</td>\n",
              "      <td id=\"T_f159b_row2_col4\" class=\"data row2 col4\" >10</td>\n",
              "    </tr>\n",
              "  </tbody>\n",
              "</table>\n"
            ]
          },
          "metadata": {},
          "execution_count": 29
        }
      ]
    },
    {
      "cell_type": "markdown",
      "source": [
        "## Logical AND | OR"
      ],
      "metadata": {
        "id": "-JDEmZtsm0o1"
      }
    },
    {
      "cell_type": "code",
      "source": [
        "runSelect(\"select lastname, jobdesc, salary, deptid from empl where deptid = '20'\")"
      ],
      "metadata": {
        "colab": {
          "base_uri": "https://localhost:8080/",
          "height": 143
        },
        "id": "rli0DBhIm54M",
        "outputId": "ddb87fb1-fd00-40b5-d391-2d19e2788573"
      },
      "execution_count": null,
      "outputs": [
        {
          "output_type": "execute_result",
          "data": {
            "text/plain": [
              "<pandas.io.formats.style.Styler at 0x79b438af0e20>"
            ],
            "text/html": [
              "<style type=\"text/css\">\n",
              "</style>\n",
              "<table id=\"T_15625\" class=\"dataframe\">\n",
              "  <thead>\n",
              "    <tr>\n",
              "      <th id=\"T_15625_level0_col0\" class=\"col_heading level0 col0\" >lastname</th>\n",
              "      <th id=\"T_15625_level0_col1\" class=\"col_heading level0 col1\" >jobdesc</th>\n",
              "      <th id=\"T_15625_level0_col2\" class=\"col_heading level0 col2\" >salary</th>\n",
              "      <th id=\"T_15625_level0_col3\" class=\"col_heading level0 col3\" >deptid</th>\n",
              "    </tr>\n",
              "  </thead>\n",
              "  <tbody>\n",
              "    <tr>\n",
              "      <td id=\"T_15625_row0_col0\" class=\"data row0 col0\" >Dikshit</td>\n",
              "      <td id=\"T_15625_row0_col1\" class=\"data row0 col1\" >Clerk</td>\n",
              "      <td id=\"T_15625_row0_col2\" class=\"data row0 col2\" >10000</td>\n",
              "      <td id=\"T_15625_row0_col3\" class=\"data row0 col3\" >20</td>\n",
              "    </tr>\n",
              "    <tr>\n",
              "      <td id=\"T_15625_row1_col0\" class=\"data row1 col0\" >Khan</td>\n",
              "      <td id=\"T_15625_row1_col1\" class=\"data row1 col1\" >Manager</td>\n",
              "      <td id=\"T_15625_row1_col2\" class=\"data row1 col2\" >30000</td>\n",
              "      <td id=\"T_15625_row1_col3\" class=\"data row1 col3\" >20</td>\n",
              "    </tr>\n",
              "    <tr>\n",
              "      <td id=\"T_15625_row2_col0\" class=\"data row2 col0\" >Sehwag</td>\n",
              "      <td id=\"T_15625_row2_col1\" class=\"data row2 col1\" >Cus_Rep</td>\n",
              "      <td id=\"T_15625_row2_col2\" class=\"data row2 col2\" >15000</td>\n",
              "      <td id=\"T_15625_row2_col3\" class=\"data row2 col3\" >20</td>\n",
              "    </tr>\n",
              "  </tbody>\n",
              "</table>\n"
            ]
          },
          "metadata": {},
          "execution_count": 30
        }
      ]
    },
    {
      "cell_type": "code",
      "source": [
        "runSelect(\"select lastname, jobdesc, salary, deptid from empl where deptid = '20' and salary > 10000\")"
      ],
      "metadata": {
        "colab": {
          "base_uri": "https://localhost:8080/",
          "height": 112
        },
        "id": "wHIJoUGqnuwa",
        "outputId": "3ac0e1e5-4737-4692-8fbe-8fcf4d8e48e9"
      },
      "execution_count": null,
      "outputs": [
        {
          "output_type": "execute_result",
          "data": {
            "text/plain": [
              "<pandas.io.formats.style.Styler at 0x79b438a791e0>"
            ],
            "text/html": [
              "<style type=\"text/css\">\n",
              "</style>\n",
              "<table id=\"T_88b05\" class=\"dataframe\">\n",
              "  <thead>\n",
              "    <tr>\n",
              "      <th id=\"T_88b05_level0_col0\" class=\"col_heading level0 col0\" >lastname</th>\n",
              "      <th id=\"T_88b05_level0_col1\" class=\"col_heading level0 col1\" >jobdesc</th>\n",
              "      <th id=\"T_88b05_level0_col2\" class=\"col_heading level0 col2\" >salary</th>\n",
              "      <th id=\"T_88b05_level0_col3\" class=\"col_heading level0 col3\" >deptid</th>\n",
              "    </tr>\n",
              "  </thead>\n",
              "  <tbody>\n",
              "    <tr>\n",
              "      <td id=\"T_88b05_row0_col0\" class=\"data row0 col0\" >Khan</td>\n",
              "      <td id=\"T_88b05_row0_col1\" class=\"data row0 col1\" >Manager</td>\n",
              "      <td id=\"T_88b05_row0_col2\" class=\"data row0 col2\" >30000</td>\n",
              "      <td id=\"T_88b05_row0_col3\" class=\"data row0 col3\" >20</td>\n",
              "    </tr>\n",
              "    <tr>\n",
              "      <td id=\"T_88b05_row1_col0\" class=\"data row1 col0\" >Sehwag</td>\n",
              "      <td id=\"T_88b05_row1_col1\" class=\"data row1 col1\" >Cus_Rep</td>\n",
              "      <td id=\"T_88b05_row1_col2\" class=\"data row1 col2\" >15000</td>\n",
              "      <td id=\"T_88b05_row1_col3\" class=\"data row1 col3\" >20</td>\n",
              "    </tr>\n",
              "  </tbody>\n",
              "</table>\n"
            ]
          },
          "metadata": {},
          "execution_count": 31
        }
      ]
    },
    {
      "cell_type": "code",
      "source": [
        "runSelect(\"select lastname, jobdesc, salary, deptid from empl where deptid = '20' and salary > 10000 and jobdesc = 'Clerk'\")"
      ],
      "metadata": {
        "colab": {
          "base_uri": "https://localhost:8080/"
        },
        "id": "fnB8p8-EnzH2",
        "outputId": "637be447-6347-4d23-d4bc-99d7d55a7fa8"
      },
      "execution_count": null,
      "outputs": [
        {
          "output_type": "stream",
          "name": "stdout",
          "text": [
            "no records found\n"
          ]
        }
      ]
    },
    {
      "cell_type": "code",
      "source": [
        "runSelect(\"select lastname, jobdesc, deptid from empl where deptid = '70'\")"
      ],
      "metadata": {
        "colab": {
          "base_uri": "https://localhost:8080/",
          "height": 81
        },
        "id": "uEKUIgOMqtLw",
        "outputId": "8c6c7a29-b46e-4608-f8ea-e975d86c5690"
      },
      "execution_count": null,
      "outputs": [
        {
          "output_type": "execute_result",
          "data": {
            "text/plain": [
              "<pandas.io.formats.style.Styler at 0x79b4388aafb0>"
            ],
            "text/html": [
              "<style type=\"text/css\">\n",
              "</style>\n",
              "<table id=\"T_99f42\" class=\"dataframe\">\n",
              "  <thead>\n",
              "    <tr>\n",
              "      <th id=\"T_99f42_level0_col0\" class=\"col_heading level0 col0\" >lastname</th>\n",
              "      <th id=\"T_99f42_level0_col1\" class=\"col_heading level0 col1\" >jobdesc</th>\n",
              "      <th id=\"T_99f42_level0_col2\" class=\"col_heading level0 col2\" >deptid</th>\n",
              "    </tr>\n",
              "  </thead>\n",
              "  <tbody>\n",
              "    <tr>\n",
              "      <td id=\"T_99f42_row0_col0\" class=\"data row0 col0\" >Sunil</td>\n",
              "      <td id=\"T_99f42_row0_col1\" class=\"data row0 col1\" >Dy Manager</td>\n",
              "      <td id=\"T_99f42_row0_col2\" class=\"data row0 col2\" >70</td>\n",
              "    </tr>\n",
              "  </tbody>\n",
              "</table>\n"
            ]
          },
          "metadata": {},
          "execution_count": 33
        }
      ]
    },
    {
      "cell_type": "code",
      "source": [
        "runSelect(\"select lastname, jobdesc, deptid from empl where deptid = '70' or jobdesc like '%Manager'\")"
      ],
      "metadata": {
        "colab": {
          "base_uri": "https://localhost:8080/",
          "height": 175
        },
        "id": "Ne0eLRV3qyTn",
        "outputId": "bb0d369c-21b5-418c-825d-057fcb1fa889"
      },
      "execution_count": null,
      "outputs": [
        {
          "output_type": "execute_result",
          "data": {
            "text/plain": [
              "<pandas.io.formats.style.Styler at 0x79b4388a95a0>"
            ],
            "text/html": [
              "<style type=\"text/css\">\n",
              "</style>\n",
              "<table id=\"T_9d03d\" class=\"dataframe\">\n",
              "  <thead>\n",
              "    <tr>\n",
              "      <th id=\"T_9d03d_level0_col0\" class=\"col_heading level0 col0\" >lastname</th>\n",
              "      <th id=\"T_9d03d_level0_col1\" class=\"col_heading level0 col1\" >jobdesc</th>\n",
              "      <th id=\"T_9d03d_level0_col2\" class=\"col_heading level0 col2\" >deptid</th>\n",
              "    </tr>\n",
              "  </thead>\n",
              "  <tbody>\n",
              "    <tr>\n",
              "      <td id=\"T_9d03d_row0_col0\" class=\"data row0 col0\" >Mukherjee</td>\n",
              "      <td id=\"T_9d03d_row0_col1\" class=\"data row0 col1\" >Manager</td>\n",
              "      <td id=\"T_9d03d_row0_col2\" class=\"data row0 col2\" >40</td>\n",
              "    </tr>\n",
              "    <tr>\n",
              "      <td id=\"T_9d03d_row1_col0\" class=\"data row1 col0\" >Khan</td>\n",
              "      <td id=\"T_9d03d_row1_col1\" class=\"data row1 col1\" >Manager</td>\n",
              "      <td id=\"T_9d03d_row1_col2\" class=\"data row1 col2\" >20</td>\n",
              "    </tr>\n",
              "    <tr>\n",
              "      <td id=\"T_9d03d_row2_col0\" class=\"data row2 col0\" >Dravid</td>\n",
              "      <td id=\"T_9d03d_row2_col1\" class=\"data row2 col1\" >Sr Manager</td>\n",
              "      <td id=\"T_9d03d_row2_col2\" class=\"data row2 col2\" >30</td>\n",
              "    </tr>\n",
              "    <tr>\n",
              "      <td id=\"T_9d03d_row3_col0\" class=\"data row3 col0\" >Sunil</td>\n",
              "      <td id=\"T_9d03d_row3_col1\" class=\"data row3 col1\" >Dy Manager</td>\n",
              "      <td id=\"T_9d03d_row3_col2\" class=\"data row3 col2\" >70</td>\n",
              "    </tr>\n",
              "  </tbody>\n",
              "</table>\n"
            ]
          },
          "metadata": {},
          "execution_count": 34
        }
      ]
    },
    {
      "cell_type": "code",
      "source": [
        "runSelect(\"select lastname, jobdesc, deptid from empl where deptid = '70' or jobdesc like '%Manager' or lastname = 'Dikshit'\")"
      ],
      "metadata": {
        "colab": {
          "base_uri": "https://localhost:8080/",
          "height": 206
        },
        "id": "aR3eNz7xq8Xo",
        "outputId": "0828d8f9-f621-43cc-c0a3-8eebc40e71e3"
      },
      "execution_count": null,
      "outputs": [
        {
          "output_type": "execute_result",
          "data": {
            "text/plain": [
              "<pandas.io.formats.style.Styler at 0x79b438a78dc0>"
            ],
            "text/html": [
              "<style type=\"text/css\">\n",
              "</style>\n",
              "<table id=\"T_054fc\" class=\"dataframe\">\n",
              "  <thead>\n",
              "    <tr>\n",
              "      <th id=\"T_054fc_level0_col0\" class=\"col_heading level0 col0\" >lastname</th>\n",
              "      <th id=\"T_054fc_level0_col1\" class=\"col_heading level0 col1\" >jobdesc</th>\n",
              "      <th id=\"T_054fc_level0_col2\" class=\"col_heading level0 col2\" >deptid</th>\n",
              "    </tr>\n",
              "  </thead>\n",
              "  <tbody>\n",
              "    <tr>\n",
              "      <td id=\"T_054fc_row0_col0\" class=\"data row0 col0\" >Mukherjee</td>\n",
              "      <td id=\"T_054fc_row0_col1\" class=\"data row0 col1\" >Manager</td>\n",
              "      <td id=\"T_054fc_row0_col2\" class=\"data row0 col2\" >40</td>\n",
              "    </tr>\n",
              "    <tr>\n",
              "      <td id=\"T_054fc_row1_col0\" class=\"data row1 col0\" >Dikshit</td>\n",
              "      <td id=\"T_054fc_row1_col1\" class=\"data row1 col1\" >Clerk</td>\n",
              "      <td id=\"T_054fc_row1_col2\" class=\"data row1 col2\" >20</td>\n",
              "    </tr>\n",
              "    <tr>\n",
              "      <td id=\"T_054fc_row2_col0\" class=\"data row2 col0\" >Khan</td>\n",
              "      <td id=\"T_054fc_row2_col1\" class=\"data row2 col1\" >Manager</td>\n",
              "      <td id=\"T_054fc_row2_col2\" class=\"data row2 col2\" >20</td>\n",
              "    </tr>\n",
              "    <tr>\n",
              "      <td id=\"T_054fc_row3_col0\" class=\"data row3 col0\" >Dravid</td>\n",
              "      <td id=\"T_054fc_row3_col1\" class=\"data row3 col1\" >Sr Manager</td>\n",
              "      <td id=\"T_054fc_row3_col2\" class=\"data row3 col2\" >30</td>\n",
              "    </tr>\n",
              "    <tr>\n",
              "      <td id=\"T_054fc_row4_col0\" class=\"data row4 col0\" >Sunil</td>\n",
              "      <td id=\"T_054fc_row4_col1\" class=\"data row4 col1\" >Dy Manager</td>\n",
              "      <td id=\"T_054fc_row4_col2\" class=\"data row4 col2\" >70</td>\n",
              "    </tr>\n",
              "  </tbody>\n",
              "</table>\n"
            ]
          },
          "metadata": {},
          "execution_count": 35
        }
      ]
    },
    {
      "cell_type": "code",
      "source": [
        "runSelect(\"select lastname, jobdesc, salary from empl where jobdesc = 'Cus_Rep' or jobdesc = 'Clerk' and salary < 16000\")"
      ],
      "metadata": {
        "colab": {
          "base_uri": "https://localhost:8080/",
          "height": 238
        },
        "id": "Ov0HErC0txm4",
        "outputId": "1f91bca8-2f24-4d39-b0f2-3c648f6a2e59"
      },
      "execution_count": null,
      "outputs": [
        {
          "output_type": "execute_result",
          "data": {
            "text/plain": [
              "<pandas.io.formats.style.Styler at 0x79b438a79c00>"
            ],
            "text/html": [
              "<style type=\"text/css\">\n",
              "</style>\n",
              "<table id=\"T_b3a62\" class=\"dataframe\">\n",
              "  <thead>\n",
              "    <tr>\n",
              "      <th id=\"T_b3a62_level0_col0\" class=\"col_heading level0 col0\" >lastname</th>\n",
              "      <th id=\"T_b3a62_level0_col1\" class=\"col_heading level0 col1\" >jobdesc</th>\n",
              "      <th id=\"T_b3a62_level0_col2\" class=\"col_heading level0 col2\" >salary</th>\n",
              "    </tr>\n",
              "  </thead>\n",
              "  <tbody>\n",
              "    <tr>\n",
              "      <td id=\"T_b3a62_row0_col0\" class=\"data row0 col0\" >Dikshit</td>\n",
              "      <td id=\"T_b3a62_row0_col1\" class=\"data row0 col1\" >Clerk</td>\n",
              "      <td id=\"T_b3a62_row0_col2\" class=\"data row0 col2\" >10000</td>\n",
              "    </tr>\n",
              "    <tr>\n",
              "      <td id=\"T_b3a62_row1_col0\" class=\"data row1 col0\" >Sehwag</td>\n",
              "      <td id=\"T_b3a62_row1_col1\" class=\"data row1 col1\" >Cus_Rep</td>\n",
              "      <td id=\"T_b3a62_row1_col2\" class=\"data row1 col2\" >15000</td>\n",
              "    </tr>\n",
              "    <tr>\n",
              "      <td id=\"T_b3a62_row2_col0\" class=\"data row2 col0\" >Dhoni</td>\n",
              "      <td id=\"T_b3a62_row2_col1\" class=\"data row2 col1\" >Clerk</td>\n",
              "      <td id=\"T_b3a62_row2_col2\" class=\"data row2 col2\" >9000</td>\n",
              "    </tr>\n",
              "    <tr>\n",
              "      <td id=\"T_b3a62_row3_col0\" class=\"data row3 col0\" >Dalmia</td>\n",
              "      <td id=\"T_b3a62_row3_col1\" class=\"data row3 col1\" >Clerk</td>\n",
              "      <td id=\"T_b3a62_row3_col2\" class=\"data row3 col2\" >12000</td>\n",
              "    </tr>\n",
              "    <tr>\n",
              "      <td id=\"T_b3a62_row4_col0\" class=\"data row4 col0\" >Ganguly</td>\n",
              "      <td id=\"T_b3a62_row4_col1\" class=\"data row4 col1\" >Cus_Rep</td>\n",
              "      <td id=\"T_b3a62_row4_col2\" class=\"data row4 col2\" >20000</td>\n",
              "    </tr>\n",
              "    <tr>\n",
              "      <td id=\"T_b3a62_row5_col0\" class=\"data row5 col0\" >Mirza</td>\n",
              "      <td id=\"T_b3a62_row5_col1\" class=\"data row5 col1\" >Cus_Rep</td>\n",
              "      <td id=\"T_b3a62_row5_col2\" class=\"data row5 col2\" >25000</td>\n",
              "    </tr>\n",
              "  </tbody>\n",
              "</table>\n"
            ]
          },
          "metadata": {},
          "execution_count": 36
        }
      ]
    },
    {
      "cell_type": "code",
      "source": [
        "runSelect(\"select lastname, jobdesc, salary from empl where (jobdesc = 'Cus_Rep' or jobdesc = 'Clerk') and salary < 16000\")"
      ],
      "metadata": {
        "colab": {
          "base_uri": "https://localhost:8080/",
          "height": 175
        },
        "id": "g7hbzjdxuOt6",
        "outputId": "9bd4f14f-e3b3-4d83-f81a-15480db5b154"
      },
      "execution_count": null,
      "outputs": [
        {
          "output_type": "execute_result",
          "data": {
            "text/plain": [
              "<pandas.io.formats.style.Styler at 0x79b438a79810>"
            ],
            "text/html": [
              "<style type=\"text/css\">\n",
              "</style>\n",
              "<table id=\"T_5b29b\" class=\"dataframe\">\n",
              "  <thead>\n",
              "    <tr>\n",
              "      <th id=\"T_5b29b_level0_col0\" class=\"col_heading level0 col0\" >lastname</th>\n",
              "      <th id=\"T_5b29b_level0_col1\" class=\"col_heading level0 col1\" >jobdesc</th>\n",
              "      <th id=\"T_5b29b_level0_col2\" class=\"col_heading level0 col2\" >salary</th>\n",
              "    </tr>\n",
              "  </thead>\n",
              "  <tbody>\n",
              "    <tr>\n",
              "      <td id=\"T_5b29b_row0_col0\" class=\"data row0 col0\" >Dikshit</td>\n",
              "      <td id=\"T_5b29b_row0_col1\" class=\"data row0 col1\" >Clerk</td>\n",
              "      <td id=\"T_5b29b_row0_col2\" class=\"data row0 col2\" >10000</td>\n",
              "    </tr>\n",
              "    <tr>\n",
              "      <td id=\"T_5b29b_row1_col0\" class=\"data row1 col0\" >Sehwag</td>\n",
              "      <td id=\"T_5b29b_row1_col1\" class=\"data row1 col1\" >Cus_Rep</td>\n",
              "      <td id=\"T_5b29b_row1_col2\" class=\"data row1 col2\" >15000</td>\n",
              "    </tr>\n",
              "    <tr>\n",
              "      <td id=\"T_5b29b_row2_col0\" class=\"data row2 col0\" >Dhoni</td>\n",
              "      <td id=\"T_5b29b_row2_col1\" class=\"data row2 col1\" >Clerk</td>\n",
              "      <td id=\"T_5b29b_row2_col2\" class=\"data row2 col2\" >9000</td>\n",
              "    </tr>\n",
              "    <tr>\n",
              "      <td id=\"T_5b29b_row3_col0\" class=\"data row3 col0\" >Dalmia</td>\n",
              "      <td id=\"T_5b29b_row3_col1\" class=\"data row3 col1\" >Clerk</td>\n",
              "      <td id=\"T_5b29b_row3_col2\" class=\"data row3 col2\" >12000</td>\n",
              "    </tr>\n",
              "  </tbody>\n",
              "</table>\n"
            ]
          },
          "metadata": {},
          "execution_count": 37
        }
      ]
    },
    {
      "cell_type": "markdown",
      "source": [
        "# Single Row Functions"
      ],
      "metadata": {
        "id": "ND-8LYQcxsG2"
      }
    },
    {
      "cell_type": "code",
      "source": [
        "runSelect(\"select lastname, deptid, salary, comm, salary+salary*comm payout from empl where deptid = '20'\")"
      ],
      "metadata": {
        "colab": {
          "base_uri": "https://localhost:8080/",
          "height": 143
        },
        "id": "s71weE_hyDwf",
        "outputId": "e8e6f608-ed37-40bc-8a53-3513320ed12e"
      },
      "execution_count": null,
      "outputs": [
        {
          "output_type": "execute_result",
          "data": {
            "text/plain": [
              "<pandas.io.formats.style.Styler at 0x79b438a78970>"
            ],
            "text/html": [
              "<style type=\"text/css\">\n",
              "</style>\n",
              "<table id=\"T_95394\" class=\"dataframe\">\n",
              "  <thead>\n",
              "    <tr>\n",
              "      <th id=\"T_95394_level0_col0\" class=\"col_heading level0 col0\" >lastname</th>\n",
              "      <th id=\"T_95394_level0_col1\" class=\"col_heading level0 col1\" >deptid</th>\n",
              "      <th id=\"T_95394_level0_col2\" class=\"col_heading level0 col2\" >salary</th>\n",
              "      <th id=\"T_95394_level0_col3\" class=\"col_heading level0 col3\" >comm</th>\n",
              "      <th id=\"T_95394_level0_col4\" class=\"col_heading level0 col4\" >payout</th>\n",
              "    </tr>\n",
              "  </thead>\n",
              "  <tbody>\n",
              "    <tr>\n",
              "      <td id=\"T_95394_row0_col0\" class=\"data row0 col0\" >Dikshit</td>\n",
              "      <td id=\"T_95394_row0_col1\" class=\"data row0 col1\" >20</td>\n",
              "      <td id=\"T_95394_row0_col2\" class=\"data row0 col2\" >10000</td>\n",
              "      <td id=\"T_95394_row0_col3\" class=\"data row0 col3\" >0.02</td>\n",
              "      <td id=\"T_95394_row0_col4\" class=\"data row0 col4\" >10200.00</td>\n",
              "    </tr>\n",
              "    <tr>\n",
              "      <td id=\"T_95394_row1_col0\" class=\"data row1 col0\" >Khan</td>\n",
              "      <td id=\"T_95394_row1_col1\" class=\"data row1 col1\" >20</td>\n",
              "      <td id=\"T_95394_row1_col2\" class=\"data row1 col2\" >30000</td>\n",
              "      <td id=\"T_95394_row1_col3\" class=\"data row1 col3\" >0.07</td>\n",
              "      <td id=\"T_95394_row1_col4\" class=\"data row1 col4\" >32100.00</td>\n",
              "    </tr>\n",
              "    <tr>\n",
              "      <td id=\"T_95394_row2_col0\" class=\"data row2 col0\" >Sehwag</td>\n",
              "      <td id=\"T_95394_row2_col1\" class=\"data row2 col1\" >20</td>\n",
              "      <td id=\"T_95394_row2_col2\" class=\"data row2 col2\" >15000</td>\n",
              "      <td id=\"T_95394_row2_col3\" class=\"data row2 col3\" >0.05</td>\n",
              "      <td id=\"T_95394_row2_col4\" class=\"data row2 col4\" >15750.00</td>\n",
              "    </tr>\n",
              "  </tbody>\n",
              "</table>\n"
            ]
          },
          "metadata": {},
          "execution_count": 38
        }
      ]
    },
    {
      "cell_type": "code",
      "source": [
        "runSelect(\"select lastname, firstname, deptid, substring(firstname,1,3) nick from empl where deptid = '20'\")"
      ],
      "metadata": {
        "colab": {
          "base_uri": "https://localhost:8080/",
          "height": 143
        },
        "id": "I3rkoZrYyb_P",
        "outputId": "4d9a8561-492e-4515-90ac-6db2da6cfd86"
      },
      "execution_count": null,
      "outputs": [
        {
          "output_type": "execute_result",
          "data": {
            "text/plain": [
              "<pandas.io.formats.style.Styler at 0x79b4388a85b0>"
            ],
            "text/html": [
              "<style type=\"text/css\">\n",
              "</style>\n",
              "<table id=\"T_e5fb7\" class=\"dataframe\">\n",
              "  <thead>\n",
              "    <tr>\n",
              "      <th id=\"T_e5fb7_level0_col0\" class=\"col_heading level0 col0\" >lastname</th>\n",
              "      <th id=\"T_e5fb7_level0_col1\" class=\"col_heading level0 col1\" >firstname</th>\n",
              "      <th id=\"T_e5fb7_level0_col2\" class=\"col_heading level0 col2\" >deptid</th>\n",
              "      <th id=\"T_e5fb7_level0_col3\" class=\"col_heading level0 col3\" >nick</th>\n",
              "    </tr>\n",
              "  </thead>\n",
              "  <tbody>\n",
              "    <tr>\n",
              "      <td id=\"T_e5fb7_row0_col0\" class=\"data row0 col0\" >Dikshit</td>\n",
              "      <td id=\"T_e5fb7_row0_col1\" class=\"data row0 col1\" >Madhuri</td>\n",
              "      <td id=\"T_e5fb7_row0_col2\" class=\"data row0 col2\" >20</td>\n",
              "      <td id=\"T_e5fb7_row0_col3\" class=\"data row0 col3\" >Mad</td>\n",
              "    </tr>\n",
              "    <tr>\n",
              "      <td id=\"T_e5fb7_row1_col0\" class=\"data row1 col0\" >Khan</td>\n",
              "      <td id=\"T_e5fb7_row1_col1\" class=\"data row1 col1\" >Shahrukh</td>\n",
              "      <td id=\"T_e5fb7_row1_col2\" class=\"data row1 col2\" >20</td>\n",
              "      <td id=\"T_e5fb7_row1_col3\" class=\"data row1 col3\" >Sha</td>\n",
              "    </tr>\n",
              "    <tr>\n",
              "      <td id=\"T_e5fb7_row2_col0\" class=\"data row2 col0\" >Sehwag</td>\n",
              "      <td id=\"T_e5fb7_row2_col1\" class=\"data row2 col1\" >Virender</td>\n",
              "      <td id=\"T_e5fb7_row2_col2\" class=\"data row2 col2\" >20</td>\n",
              "      <td id=\"T_e5fb7_row2_col3\" class=\"data row2 col3\" >Vir</td>\n",
              "    </tr>\n",
              "  </tbody>\n",
              "</table>\n"
            ]
          },
          "metadata": {},
          "execution_count": 39
        }
      ]
    },
    {
      "cell_type": "code",
      "source": [
        "runSelect(\"select lastname, firstname, deptid, concat('\\\"',substring(firstname,2,3),'\\\" ',lastname) nick from empl where deptid = '20'\")"
      ],
      "metadata": {
        "colab": {
          "base_uri": "https://localhost:8080/",
          "height": 143
        },
        "id": "xNQl1KpSzIQc",
        "outputId": "ad4f7e89-31ac-4d1c-b659-2b82b0e44508"
      },
      "execution_count": null,
      "outputs": [
        {
          "output_type": "execute_result",
          "data": {
            "text/plain": [
              "<pandas.io.formats.style.Styler at 0x79b4388ab880>"
            ],
            "text/html": [
              "<style type=\"text/css\">\n",
              "</style>\n",
              "<table id=\"T_8c120\" class=\"dataframe\">\n",
              "  <thead>\n",
              "    <tr>\n",
              "      <th id=\"T_8c120_level0_col0\" class=\"col_heading level0 col0\" >lastname</th>\n",
              "      <th id=\"T_8c120_level0_col1\" class=\"col_heading level0 col1\" >firstname</th>\n",
              "      <th id=\"T_8c120_level0_col2\" class=\"col_heading level0 col2\" >deptid</th>\n",
              "      <th id=\"T_8c120_level0_col3\" class=\"col_heading level0 col3\" >nick</th>\n",
              "    </tr>\n",
              "  </thead>\n",
              "  <tbody>\n",
              "    <tr>\n",
              "      <td id=\"T_8c120_row0_col0\" class=\"data row0 col0\" >Dikshit</td>\n",
              "      <td id=\"T_8c120_row0_col1\" class=\"data row0 col1\" >Madhuri</td>\n",
              "      <td id=\"T_8c120_row0_col2\" class=\"data row0 col2\" >20</td>\n",
              "      <td id=\"T_8c120_row0_col3\" class=\"data row0 col3\" >\"adh\" Dikshit</td>\n",
              "    </tr>\n",
              "    <tr>\n",
              "      <td id=\"T_8c120_row1_col0\" class=\"data row1 col0\" >Khan</td>\n",
              "      <td id=\"T_8c120_row1_col1\" class=\"data row1 col1\" >Shahrukh</td>\n",
              "      <td id=\"T_8c120_row1_col2\" class=\"data row1 col2\" >20</td>\n",
              "      <td id=\"T_8c120_row1_col3\" class=\"data row1 col3\" >\"hah\" Khan</td>\n",
              "    </tr>\n",
              "    <tr>\n",
              "      <td id=\"T_8c120_row2_col0\" class=\"data row2 col0\" >Sehwag</td>\n",
              "      <td id=\"T_8c120_row2_col1\" class=\"data row2 col1\" >Virender</td>\n",
              "      <td id=\"T_8c120_row2_col2\" class=\"data row2 col2\" >20</td>\n",
              "      <td id=\"T_8c120_row2_col3\" class=\"data row2 col3\" >\"ire\" Sehwag</td>\n",
              "    </tr>\n",
              "  </tbody>\n",
              "</table>\n"
            ]
          },
          "metadata": {},
          "execution_count": 40
        }
      ]
    },
    {
      "cell_type": "code",
      "source": [
        "runSelect(\"select LastName, Current_Date,JoinDate, to_char(JoinDate,'Day') JoinDay, to_char(JoinDate,'DD-mon-YY') JoinDate2, \\\n",
        "Current_Date-JoinDate DaysSince from Empl\")\n",
        "\n",
        "#https://blog.quest.com/exploring-postgres-date-formats-and-their-different-functions/\n"
      ],
      "metadata": {
        "id": "37Rjgkxz-BP0",
        "outputId": "3dabc8b5-8e23-4502-cca4-1b1eb10fabc9",
        "colab": {
          "base_uri": "https://localhost:8080/",
          "height": 457
        }
      },
      "execution_count": 70,
      "outputs": [
        {
          "output_type": "execute_result",
          "data": {
            "text/plain": [
              "<pandas.io.formats.style.Styler at 0x79b4388aabf0>"
            ],
            "text/html": [
              "<style type=\"text/css\">\n",
              "</style>\n",
              "<table id=\"T_a694e\" class=\"dataframe\">\n",
              "  <thead>\n",
              "    <tr>\n",
              "      <th id=\"T_a694e_level0_col0\" class=\"col_heading level0 col0\" >lastname</th>\n",
              "      <th id=\"T_a694e_level0_col1\" class=\"col_heading level0 col1\" >current_date</th>\n",
              "      <th id=\"T_a694e_level0_col2\" class=\"col_heading level0 col2\" >joindate</th>\n",
              "      <th id=\"T_a694e_level0_col3\" class=\"col_heading level0 col3\" >joinday</th>\n",
              "      <th id=\"T_a694e_level0_col4\" class=\"col_heading level0 col4\" >joindate2</th>\n",
              "      <th id=\"T_a694e_level0_col5\" class=\"col_heading level0 col5\" >dayssince</th>\n",
              "    </tr>\n",
              "  </thead>\n",
              "  <tbody>\n",
              "    <tr>\n",
              "      <td id=\"T_a694e_row0_col0\" class=\"data row0 col0\" >Bacchan</td>\n",
              "      <td id=\"T_a694e_row0_col1\" class=\"data row0 col1\" >2023-12-30</td>\n",
              "      <td id=\"T_a694e_row0_col2\" class=\"data row0 col2\" >2003-03-10</td>\n",
              "      <td id=\"T_a694e_row0_col3\" class=\"data row0 col3\" >Monday   </td>\n",
              "      <td id=\"T_a694e_row0_col4\" class=\"data row0 col4\" >10-mar-03</td>\n",
              "      <td id=\"T_a694e_row0_col5\" class=\"data row0 col5\" >7600</td>\n",
              "    </tr>\n",
              "    <tr>\n",
              "      <td id=\"T_a694e_row1_col0\" class=\"data row1 col0\" >Mukherjee</td>\n",
              "      <td id=\"T_a694e_row1_col1\" class=\"data row1 col1\" >2023-12-30</td>\n",
              "      <td id=\"T_a694e_row1_col2\" class=\"data row1 col2\" >2005-05-04</td>\n",
              "      <td id=\"T_a694e_row1_col3\" class=\"data row1 col3\" >Wednesday</td>\n",
              "      <td id=\"T_a694e_row1_col4\" class=\"data row1 col4\" >04-may-05</td>\n",
              "      <td id=\"T_a694e_row1_col5\" class=\"data row1 col5\" >6814</td>\n",
              "    </tr>\n",
              "    <tr>\n",
              "      <td id=\"T_a694e_row2_col0\" class=\"data row2 col0\" >Dikshit</td>\n",
              "      <td id=\"T_a694e_row2_col1\" class=\"data row2 col1\" >2023-12-30</td>\n",
              "      <td id=\"T_a694e_row2_col2\" class=\"data row2 col2\" >2002-04-04</td>\n",
              "      <td id=\"T_a694e_row2_col3\" class=\"data row2 col3\" >Thursday </td>\n",
              "      <td id=\"T_a694e_row2_col4\" class=\"data row2 col4\" >04-apr-02</td>\n",
              "      <td id=\"T_a694e_row2_col5\" class=\"data row2 col5\" >7940</td>\n",
              "    </tr>\n",
              "    <tr>\n",
              "      <td id=\"T_a694e_row3_col0\" class=\"data row3 col0\" >Khan</td>\n",
              "      <td id=\"T_a694e_row3_col1\" class=\"data row3 col1\" >2023-12-30</td>\n",
              "      <td id=\"T_a694e_row3_col2\" class=\"data row3 col2\" >2004-01-03</td>\n",
              "      <td id=\"T_a694e_row3_col3\" class=\"data row3 col3\" >Saturday </td>\n",
              "      <td id=\"T_a694e_row3_col4\" class=\"data row3 col4\" >03-jan-04</td>\n",
              "      <td id=\"T_a694e_row3_col5\" class=\"data row3 col5\" >7301</td>\n",
              "    </tr>\n",
              "    <tr>\n",
              "      <td id=\"T_a694e_row4_col0\" class=\"data row4 col0\" >Sehwag</td>\n",
              "      <td id=\"T_a694e_row4_col1\" class=\"data row4 col1\" >2023-12-30</td>\n",
              "      <td id=\"T_a694e_row4_col2\" class=\"data row4 col2\" >2005-01-02</td>\n",
              "      <td id=\"T_a694e_row4_col3\" class=\"data row4 col3\" >Sunday   </td>\n",
              "      <td id=\"T_a694e_row4_col4\" class=\"data row4 col4\" >02-jan-05</td>\n",
              "      <td id=\"T_a694e_row4_col5\" class=\"data row4 col5\" >6936</td>\n",
              "    </tr>\n",
              "    <tr>\n",
              "      <td id=\"T_a694e_row5_col0\" class=\"data row5 col0\" >Dhoni</td>\n",
              "      <td id=\"T_a694e_row5_col1\" class=\"data row5 col1\" >2023-12-30</td>\n",
              "      <td id=\"T_a694e_row5_col2\" class=\"data row5 col2\" >2004-10-09</td>\n",
              "      <td id=\"T_a694e_row5_col3\" class=\"data row5 col3\" >Saturday </td>\n",
              "      <td id=\"T_a694e_row5_col4\" class=\"data row5 col4\" >09-oct-04</td>\n",
              "      <td id=\"T_a694e_row5_col5\" class=\"data row5 col5\" >7021</td>\n",
              "    </tr>\n",
              "    <tr>\n",
              "      <td id=\"T_a694e_row6_col0\" class=\"data row6 col0\" >Dravid</td>\n",
              "      <td id=\"T_a694e_row6_col1\" class=\"data row6 col1\" >2023-12-30</td>\n",
              "      <td id=\"T_a694e_row6_col2\" class=\"data row6 col2\" >2000-06-04</td>\n",
              "      <td id=\"T_a694e_row6_col3\" class=\"data row6 col3\" >Sunday   </td>\n",
              "      <td id=\"T_a694e_row6_col4\" class=\"data row6 col4\" >04-jun-00</td>\n",
              "      <td id=\"T_a694e_row6_col5\" class=\"data row6 col5\" >8609</td>\n",
              "    </tr>\n",
              "    <tr>\n",
              "      <td id=\"T_a694e_row7_col0\" class=\"data row7 col0\" >Dalmia</td>\n",
              "      <td id=\"T_a694e_row7_col1\" class=\"data row7 col1\" >2023-12-30</td>\n",
              "      <td id=\"T_a694e_row7_col2\" class=\"data row7 col2\" >2001-07-01</td>\n",
              "      <td id=\"T_a694e_row7_col3\" class=\"data row7 col3\" >Sunday   </td>\n",
              "      <td id=\"T_a694e_row7_col4\" class=\"data row7 col4\" >01-jul-01</td>\n",
              "      <td id=\"T_a694e_row7_col5\" class=\"data row7 col5\" >8217</td>\n",
              "    </tr>\n",
              "    <tr>\n",
              "      <td id=\"T_a694e_row8_col0\" class=\"data row8 col0\" >Ganguly</td>\n",
              "      <td id=\"T_a694e_row8_col1\" class=\"data row8 col1\" >2023-12-30</td>\n",
              "      <td id=\"T_a694e_row8_col2\" class=\"data row8 col2\" >2002-01-01</td>\n",
              "      <td id=\"T_a694e_row8_col3\" class=\"data row8 col3\" >Tuesday  </td>\n",
              "      <td id=\"T_a694e_row8_col4\" class=\"data row8 col4\" >01-jan-02</td>\n",
              "      <td id=\"T_a694e_row8_col5\" class=\"data row8 col5\" >8033</td>\n",
              "    </tr>\n",
              "    <tr>\n",
              "      <td id=\"T_a694e_row9_col0\" class=\"data row9 col0\" >Ganesan</td>\n",
              "      <td id=\"T_a694e_row9_col1\" class=\"data row9 col1\" >2023-12-30</td>\n",
              "      <td id=\"T_a694e_row9_col2\" class=\"data row9 col2\" >2002-10-10</td>\n",
              "      <td id=\"T_a694e_row9_col3\" class=\"data row9 col3\" >Thursday </td>\n",
              "      <td id=\"T_a694e_row9_col4\" class=\"data row9 col4\" >10-oct-02</td>\n",
              "      <td id=\"T_a694e_row9_col5\" class=\"data row9 col5\" >7751</td>\n",
              "    </tr>\n",
              "    <tr>\n",
              "      <td id=\"T_a694e_row10_col0\" class=\"data row10 col0\" >Karthikeyan</td>\n",
              "      <td id=\"T_a694e_row10_col1\" class=\"data row10 col1\" >2023-12-30</td>\n",
              "      <td id=\"T_a694e_row10_col2\" class=\"data row10 col2\" >2005-12-04</td>\n",
              "      <td id=\"T_a694e_row10_col3\" class=\"data row10 col3\" >Sunday   </td>\n",
              "      <td id=\"T_a694e_row10_col4\" class=\"data row10 col4\" >04-dec-05</td>\n",
              "      <td id=\"T_a694e_row10_col5\" class=\"data row10 col5\" >6600</td>\n",
              "    </tr>\n",
              "    <tr>\n",
              "      <td id=\"T_a694e_row11_col0\" class=\"data row11 col0\" >Sunil</td>\n",
              "      <td id=\"T_a694e_row11_col1\" class=\"data row11 col1\" >2023-12-30</td>\n",
              "      <td id=\"T_a694e_row11_col2\" class=\"data row11 col2\" >2006-12-07</td>\n",
              "      <td id=\"T_a694e_row11_col3\" class=\"data row11 col3\" >Thursday </td>\n",
              "      <td id=\"T_a694e_row11_col4\" class=\"data row11 col4\" >07-dec-06</td>\n",
              "      <td id=\"T_a694e_row11_col5\" class=\"data row11 col5\" >6232</td>\n",
              "    </tr>\n",
              "    <tr>\n",
              "      <td id=\"T_a694e_row12_col0\" class=\"data row12 col0\" >Mirza</td>\n",
              "      <td id=\"T_a694e_row12_col1\" class=\"data row12 col1\" >2023-12-30</td>\n",
              "      <td id=\"T_a694e_row12_col2\" class=\"data row12 col2\" >2001-11-19</td>\n",
              "      <td id=\"T_a694e_row12_col3\" class=\"data row12 col3\" >Monday   </td>\n",
              "      <td id=\"T_a694e_row12_col4\" class=\"data row12 col4\" >19-nov-01</td>\n",
              "      <td id=\"T_a694e_row12_col5\" class=\"data row12 col5\" >8076</td>\n",
              "    </tr>\n",
              "  </tbody>\n",
              "</table>\n"
            ]
          },
          "metadata": {},
          "execution_count": 70
        }
      ]
    },
    {
      "cell_type": "markdown",
      "source": [
        "# MultiRow Function | Group By | Having"
      ],
      "metadata": {
        "id": "ONgFWUTC2IPK"
      }
    },
    {
      "cell_type": "code",
      "source": [
        "runSelect(\"select sum(salary) Total_Salary from empl\")"
      ],
      "metadata": {
        "colab": {
          "base_uri": "https://localhost:8080/",
          "height": 81
        },
        "id": "7MnnzfJx2PSc",
        "outputId": "2487f909-3d3f-49c1-b77b-b31acf6e3802"
      },
      "execution_count": null,
      "outputs": [
        {
          "output_type": "execute_result",
          "data": {
            "text/plain": [
              "<pandas.io.formats.style.Styler at 0x79b4388abdf0>"
            ],
            "text/html": [
              "<style type=\"text/css\">\n",
              "</style>\n",
              "<table id=\"T_5055b\" class=\"dataframe\">\n",
              "  <thead>\n",
              "    <tr>\n",
              "      <th id=\"T_5055b_level0_col0\" class=\"col_heading level0 col0\" >total_salary</th>\n",
              "    </tr>\n",
              "  </thead>\n",
              "  <tbody>\n",
              "    <tr>\n",
              "      <td id=\"T_5055b_row0_col0\" class=\"data row0 col0\" >376000</td>\n",
              "    </tr>\n",
              "  </tbody>\n",
              "</table>\n"
            ]
          },
          "metadata": {},
          "execution_count": 41
        }
      ]
    },
    {
      "cell_type": "code",
      "source": [
        "runSelect(\"select round(avg(salary),2) Average_Salary from empl\")"
      ],
      "metadata": {
        "colab": {
          "base_uri": "https://localhost:8080/",
          "height": 81
        },
        "id": "e3Avb-HL4QPD",
        "outputId": "707f566a-c937-44f0-d78e-0453b3ca2176"
      },
      "execution_count": null,
      "outputs": [
        {
          "output_type": "execute_result",
          "data": {
            "text/plain": [
              "<pandas.io.formats.style.Styler at 0x79b4388c6f80>"
            ],
            "text/html": [
              "<style type=\"text/css\">\n",
              "</style>\n",
              "<table id=\"T_01b7a\" class=\"dataframe\">\n",
              "  <thead>\n",
              "    <tr>\n",
              "      <th id=\"T_01b7a_level0_col0\" class=\"col_heading level0 col0\" >average_salary</th>\n",
              "    </tr>\n",
              "  </thead>\n",
              "  <tbody>\n",
              "    <tr>\n",
              "      <td id=\"T_01b7a_row0_col0\" class=\"data row0 col0\" >28923.08</td>\n",
              "    </tr>\n",
              "  </tbody>\n",
              "</table>\n"
            ]
          },
          "metadata": {},
          "execution_count": 42
        }
      ]
    },
    {
      "cell_type": "code",
      "source": [
        "runSelect(\"select max(salary) Max_Salary from empl\")"
      ],
      "metadata": {
        "colab": {
          "base_uri": "https://localhost:8080/",
          "height": 81
        },
        "id": "Oe1qRQbI4gtY",
        "outputId": "75587b66-c908-4124-ec28-e449c4e6d807"
      },
      "execution_count": null,
      "outputs": [
        {
          "output_type": "execute_result",
          "data": {
            "text/plain": [
              "<pandas.io.formats.style.Styler at 0x79b4388a9ae0>"
            ],
            "text/html": [
              "<style type=\"text/css\">\n",
              "</style>\n",
              "<table id=\"T_bd344\" class=\"dataframe\">\n",
              "  <thead>\n",
              "    <tr>\n",
              "      <th id=\"T_bd344_level0_col0\" class=\"col_heading level0 col0\" >max_salary</th>\n",
              "    </tr>\n",
              "  </thead>\n",
              "  <tbody>\n",
              "    <tr>\n",
              "      <td id=\"T_bd344_row0_col0\" class=\"data row0 col0\" >60000</td>\n",
              "    </tr>\n",
              "  </tbody>\n",
              "</table>\n"
            ]
          },
          "metadata": {},
          "execution_count": 43
        }
      ]
    },
    {
      "cell_type": "code",
      "source": [
        "runSelect(\"select deptid, sum(salary) Total, max(salary) Max from empl group by deptid\")"
      ],
      "metadata": {
        "colab": {
          "base_uri": "https://localhost:8080/",
          "height": 206
        },
        "id": "xpmGXSAX69iU",
        "outputId": "56c04a5b-3e51-4280-c0a8-09448fe9a56b"
      },
      "execution_count": null,
      "outputs": [
        {
          "output_type": "execute_result",
          "data": {
            "text/plain": [
              "<pandas.io.formats.style.Styler at 0x79b4388abaf0>"
            ],
            "text/html": [
              "<style type=\"text/css\">\n",
              "</style>\n",
              "<table id=\"T_cba76\" class=\"dataframe\">\n",
              "  <thead>\n",
              "    <tr>\n",
              "      <th id=\"T_cba76_level0_col0\" class=\"col_heading level0 col0\" >deptid</th>\n",
              "      <th id=\"T_cba76_level0_col1\" class=\"col_heading level0 col1\" >total</th>\n",
              "      <th id=\"T_cba76_level0_col2\" class=\"col_heading level0 col2\" >max</th>\n",
              "    </tr>\n",
              "  </thead>\n",
              "  <tbody>\n",
              "    <tr>\n",
              "      <td id=\"T_cba76_row0_col0\" class=\"data row0 col0\" >10</td>\n",
              "      <td id=\"T_cba76_row0_col1\" class=\"data row0 col1\" >150000</td>\n",
              "      <td id=\"T_cba76_row0_col2\" class=\"data row0 col2\" >60000</td>\n",
              "    </tr>\n",
              "    <tr>\n",
              "      <td id=\"T_cba76_row1_col0\" class=\"data row1 col0\" >40</td>\n",
              "      <td id=\"T_cba76_row1_col1\" class=\"data row1 col1\" >54000</td>\n",
              "      <td id=\"T_cba76_row1_col2\" class=\"data row1 col2\" >25000</td>\n",
              "    </tr>\n",
              "    <tr>\n",
              "      <td id=\"T_cba76_row2_col0\" class=\"data row2 col0\" >70</td>\n",
              "      <td id=\"T_cba76_row2_col1\" class=\"data row2 col1\" >40000</td>\n",
              "      <td id=\"T_cba76_row2_col2\" class=\"data row2 col2\" >40000</td>\n",
              "    </tr>\n",
              "    <tr>\n",
              "      <td id=\"T_cba76_row3_col0\" class=\"data row3 col0\" >20</td>\n",
              "      <td id=\"T_cba76_row3_col1\" class=\"data row3 col1\" >55000</td>\n",
              "      <td id=\"T_cba76_row3_col2\" class=\"data row3 col2\" >30000</td>\n",
              "    </tr>\n",
              "    <tr>\n",
              "      <td id=\"T_cba76_row4_col0\" class=\"data row4 col0\" >30</td>\n",
              "      <td id=\"T_cba76_row4_col1\" class=\"data row4 col1\" >77000</td>\n",
              "      <td id=\"T_cba76_row4_col2\" class=\"data row4 col2\" >40000</td>\n",
              "    </tr>\n",
              "  </tbody>\n",
              "</table>\n"
            ]
          },
          "metadata": {},
          "execution_count": 44
        }
      ]
    },
    {
      "cell_type": "code",
      "source": [
        "runSelect(\"select deptid, sum(salary) Total, max(salary) Max from empl group by deptid having sum(salary) > 50000\")"
      ],
      "metadata": {
        "colab": {
          "base_uri": "https://localhost:8080/",
          "height": 175
        },
        "id": "AdNDutZl7LCF",
        "outputId": "109355dd-756f-4349-fb1f-8cef58ac3eb9"
      },
      "execution_count": null,
      "outputs": [
        {
          "output_type": "execute_result",
          "data": {
            "text/plain": [
              "<pandas.io.formats.style.Styler at 0x79b4388aa0e0>"
            ],
            "text/html": [
              "<style type=\"text/css\">\n",
              "</style>\n",
              "<table id=\"T_dfc0e\" class=\"dataframe\">\n",
              "  <thead>\n",
              "    <tr>\n",
              "      <th id=\"T_dfc0e_level0_col0\" class=\"col_heading level0 col0\" >deptid</th>\n",
              "      <th id=\"T_dfc0e_level0_col1\" class=\"col_heading level0 col1\" >total</th>\n",
              "      <th id=\"T_dfc0e_level0_col2\" class=\"col_heading level0 col2\" >max</th>\n",
              "    </tr>\n",
              "  </thead>\n",
              "  <tbody>\n",
              "    <tr>\n",
              "      <td id=\"T_dfc0e_row0_col0\" class=\"data row0 col0\" >10</td>\n",
              "      <td id=\"T_dfc0e_row0_col1\" class=\"data row0 col1\" >150000</td>\n",
              "      <td id=\"T_dfc0e_row0_col2\" class=\"data row0 col2\" >60000</td>\n",
              "    </tr>\n",
              "    <tr>\n",
              "      <td id=\"T_dfc0e_row1_col0\" class=\"data row1 col0\" >40</td>\n",
              "      <td id=\"T_dfc0e_row1_col1\" class=\"data row1 col1\" >54000</td>\n",
              "      <td id=\"T_dfc0e_row1_col2\" class=\"data row1 col2\" >25000</td>\n",
              "    </tr>\n",
              "    <tr>\n",
              "      <td id=\"T_dfc0e_row2_col0\" class=\"data row2 col0\" >20</td>\n",
              "      <td id=\"T_dfc0e_row2_col1\" class=\"data row2 col1\" >55000</td>\n",
              "      <td id=\"T_dfc0e_row2_col2\" class=\"data row2 col2\" >30000</td>\n",
              "    </tr>\n",
              "    <tr>\n",
              "      <td id=\"T_dfc0e_row3_col0\" class=\"data row3 col0\" >30</td>\n",
              "      <td id=\"T_dfc0e_row3_col1\" class=\"data row3 col1\" >77000</td>\n",
              "      <td id=\"T_dfc0e_row3_col2\" class=\"data row3 col2\" >40000</td>\n",
              "    </tr>\n",
              "  </tbody>\n",
              "</table>\n"
            ]
          },
          "metadata": {},
          "execution_count": 45
        }
      ]
    },
    {
      "cell_type": "code",
      "source": [
        "runSelect(\"select deptid, sum(salary) Total, max(salary) Max from empl group by deptid having sum(salary) > 50000 and max(salary) < 35000\")"
      ],
      "metadata": {
        "colab": {
          "base_uri": "https://localhost:8080/",
          "height": 112
        },
        "id": "4VFmL5JF7bYo",
        "outputId": "f164bec7-11a9-43e5-f35c-3a996897ffdb"
      },
      "execution_count": null,
      "outputs": [
        {
          "output_type": "execute_result",
          "data": {
            "text/plain": [
              "<pandas.io.formats.style.Styler at 0x79b4388aabc0>"
            ],
            "text/html": [
              "<style type=\"text/css\">\n",
              "</style>\n",
              "<table id=\"T_5e4ef\" class=\"dataframe\">\n",
              "  <thead>\n",
              "    <tr>\n",
              "      <th id=\"T_5e4ef_level0_col0\" class=\"col_heading level0 col0\" >deptid</th>\n",
              "      <th id=\"T_5e4ef_level0_col1\" class=\"col_heading level0 col1\" >total</th>\n",
              "      <th id=\"T_5e4ef_level0_col2\" class=\"col_heading level0 col2\" >max</th>\n",
              "    </tr>\n",
              "  </thead>\n",
              "  <tbody>\n",
              "    <tr>\n",
              "      <td id=\"T_5e4ef_row0_col0\" class=\"data row0 col0\" >40</td>\n",
              "      <td id=\"T_5e4ef_row0_col1\" class=\"data row0 col1\" >54000</td>\n",
              "      <td id=\"T_5e4ef_row0_col2\" class=\"data row0 col2\" >25000</td>\n",
              "    </tr>\n",
              "    <tr>\n",
              "      <td id=\"T_5e4ef_row1_col0\" class=\"data row1 col0\" >20</td>\n",
              "      <td id=\"T_5e4ef_row1_col1\" class=\"data row1 col1\" >55000</td>\n",
              "      <td id=\"T_5e4ef_row1_col2\" class=\"data row1 col2\" >30000</td>\n",
              "    </tr>\n",
              "  </tbody>\n",
              "</table>\n"
            ]
          },
          "metadata": {},
          "execution_count": 46
        }
      ]
    },
    {
      "cell_type": "markdown",
      "source": [
        "#Conditionals | CASE"
      ],
      "metadata": {
        "id": "xDsapsK8Afpj"
      }
    },
    {
      "cell_type": "code",
      "source": [
        "runSelect(\"select lastname, jobdesc, salary, comm, salary+salary*comm Payout,\\\n",
        "case when jobdesc like '%Manager' then 2000 else 0 end bonus from empl\")"
      ],
      "metadata": {
        "colab": {
          "base_uri": "https://localhost:8080/",
          "height": 457
        },
        "id": "bYRWDlVNAxKx",
        "outputId": "a01c7b18-ed7e-4f41-d352-9c1669246357"
      },
      "execution_count": null,
      "outputs": [
        {
          "output_type": "execute_result",
          "data": {
            "text/plain": [
              "<pandas.io.formats.style.Styler at 0x79b4388c5b40>"
            ],
            "text/html": [
              "<style type=\"text/css\">\n",
              "</style>\n",
              "<table id=\"T_cb95e\" class=\"dataframe\">\n",
              "  <thead>\n",
              "    <tr>\n",
              "      <th id=\"T_cb95e_level0_col0\" class=\"col_heading level0 col0\" >lastname</th>\n",
              "      <th id=\"T_cb95e_level0_col1\" class=\"col_heading level0 col1\" >jobdesc</th>\n",
              "      <th id=\"T_cb95e_level0_col2\" class=\"col_heading level0 col2\" >salary</th>\n",
              "      <th id=\"T_cb95e_level0_col3\" class=\"col_heading level0 col3\" >comm</th>\n",
              "      <th id=\"T_cb95e_level0_col4\" class=\"col_heading level0 col4\" >payout</th>\n",
              "      <th id=\"T_cb95e_level0_col5\" class=\"col_heading level0 col5\" >bonus</th>\n",
              "    </tr>\n",
              "  </thead>\n",
              "  <tbody>\n",
              "    <tr>\n",
              "      <td id=\"T_cb95e_row0_col0\" class=\"data row0 col0\" >Bacchan</td>\n",
              "      <td id=\"T_cb95e_row0_col1\" class=\"data row0 col1\" >Executive</td>\n",
              "      <td id=\"T_cb95e_row0_col2\" class=\"data row0 col2\" >50000</td>\n",
              "      <td id=\"T_cb95e_row0_col3\" class=\"data row0 col3\" >0.10</td>\n",
              "      <td id=\"T_cb95e_row0_col4\" class=\"data row0 col4\" >55000.00</td>\n",
              "      <td id=\"T_cb95e_row0_col5\" class=\"data row0 col5\" >0</td>\n",
              "    </tr>\n",
              "    <tr>\n",
              "      <td id=\"T_cb95e_row1_col0\" class=\"data row1 col0\" >Mukherjee</td>\n",
              "      <td id=\"T_cb95e_row1_col1\" class=\"data row1 col1\" >Manager</td>\n",
              "      <td id=\"T_cb95e_row1_col2\" class=\"data row1 col2\" >25000</td>\n",
              "      <td id=\"T_cb95e_row1_col3\" class=\"data row1 col3\" >0.06</td>\n",
              "      <td id=\"T_cb95e_row1_col4\" class=\"data row1 col4\" >26500.00</td>\n",
              "      <td id=\"T_cb95e_row1_col5\" class=\"data row1 col5\" >2000</td>\n",
              "    </tr>\n",
              "    <tr>\n",
              "      <td id=\"T_cb95e_row2_col0\" class=\"data row2 col0\" >Dikshit</td>\n",
              "      <td id=\"T_cb95e_row2_col1\" class=\"data row2 col1\" >Clerk</td>\n",
              "      <td id=\"T_cb95e_row2_col2\" class=\"data row2 col2\" >10000</td>\n",
              "      <td id=\"T_cb95e_row2_col3\" class=\"data row2 col3\" >0.02</td>\n",
              "      <td id=\"T_cb95e_row2_col4\" class=\"data row2 col4\" >10200.00</td>\n",
              "      <td id=\"T_cb95e_row2_col5\" class=\"data row2 col5\" >0</td>\n",
              "    </tr>\n",
              "    <tr>\n",
              "      <td id=\"T_cb95e_row3_col0\" class=\"data row3 col0\" >Khan</td>\n",
              "      <td id=\"T_cb95e_row3_col1\" class=\"data row3 col1\" >Manager</td>\n",
              "      <td id=\"T_cb95e_row3_col2\" class=\"data row3 col2\" >30000</td>\n",
              "      <td id=\"T_cb95e_row3_col3\" class=\"data row3 col3\" >0.07</td>\n",
              "      <td id=\"T_cb95e_row3_col4\" class=\"data row3 col4\" >32100.00</td>\n",
              "      <td id=\"T_cb95e_row3_col5\" class=\"data row3 col5\" >2000</td>\n",
              "    </tr>\n",
              "    <tr>\n",
              "      <td id=\"T_cb95e_row4_col0\" class=\"data row4 col0\" >Sehwag</td>\n",
              "      <td id=\"T_cb95e_row4_col1\" class=\"data row4 col1\" >Cus_Rep</td>\n",
              "      <td id=\"T_cb95e_row4_col2\" class=\"data row4 col2\" >15000</td>\n",
              "      <td id=\"T_cb95e_row4_col3\" class=\"data row4 col3\" >0.05</td>\n",
              "      <td id=\"T_cb95e_row4_col4\" class=\"data row4 col4\" >15750.00</td>\n",
              "      <td id=\"T_cb95e_row4_col5\" class=\"data row4 col5\" >0</td>\n",
              "    </tr>\n",
              "    <tr>\n",
              "      <td id=\"T_cb95e_row5_col0\" class=\"data row5 col0\" >Dhoni</td>\n",
              "      <td id=\"T_cb95e_row5_col1\" class=\"data row5 col1\" >Clerk</td>\n",
              "      <td id=\"T_cb95e_row5_col2\" class=\"data row5 col2\" >9000</td>\n",
              "      <td id=\"T_cb95e_row5_col3\" class=\"data row5 col3\" >0.02</td>\n",
              "      <td id=\"T_cb95e_row5_col4\" class=\"data row5 col4\" >9180.00</td>\n",
              "      <td id=\"T_cb95e_row5_col5\" class=\"data row5 col5\" >0</td>\n",
              "    </tr>\n",
              "    <tr>\n",
              "      <td id=\"T_cb95e_row6_col0\" class=\"data row6 col0\" >Dravid</td>\n",
              "      <td id=\"T_cb95e_row6_col1\" class=\"data row6 col1\" >Sr Manager</td>\n",
              "      <td id=\"T_cb95e_row6_col2\" class=\"data row6 col2\" >40000</td>\n",
              "      <td id=\"T_cb95e_row6_col3\" class=\"data row6 col3\" >0.08</td>\n",
              "      <td id=\"T_cb95e_row6_col4\" class=\"data row6 col4\" >43200.00</td>\n",
              "      <td id=\"T_cb95e_row6_col5\" class=\"data row6 col5\" >2000</td>\n",
              "    </tr>\n",
              "    <tr>\n",
              "      <td id=\"T_cb95e_row7_col0\" class=\"data row7 col0\" >Dalmia</td>\n",
              "      <td id=\"T_cb95e_row7_col1\" class=\"data row7 col1\" >Clerk</td>\n",
              "      <td id=\"T_cb95e_row7_col2\" class=\"data row7 col2\" >12000</td>\n",
              "      <td id=\"T_cb95e_row7_col3\" class=\"data row7 col3\" >0.02</td>\n",
              "      <td id=\"T_cb95e_row7_col4\" class=\"data row7 col4\" >12240.00</td>\n",
              "      <td id=\"T_cb95e_row7_col5\" class=\"data row7 col5\" >0</td>\n",
              "    </tr>\n",
              "    <tr>\n",
              "      <td id=\"T_cb95e_row8_col0\" class=\"data row8 col0\" >Ganguly</td>\n",
              "      <td id=\"T_cb95e_row8_col1\" class=\"data row8 col1\" >Cus_Rep</td>\n",
              "      <td id=\"T_cb95e_row8_col2\" class=\"data row8 col2\" >20000</td>\n",
              "      <td id=\"T_cb95e_row8_col3\" class=\"data row8 col3\" >0.03</td>\n",
              "      <td id=\"T_cb95e_row8_col4\" class=\"data row8 col4\" >20600.00</td>\n",
              "      <td id=\"T_cb95e_row8_col5\" class=\"data row8 col5\" >0</td>\n",
              "    </tr>\n",
              "    <tr>\n",
              "      <td id=\"T_cb95e_row9_col0\" class=\"data row9 col0\" >Ganesan</td>\n",
              "      <td id=\"T_cb95e_row9_col1\" class=\"data row9 col1\" >Director</td>\n",
              "      <td id=\"T_cb95e_row9_col2\" class=\"data row9 col2\" >60000</td>\n",
              "      <td id=\"T_cb95e_row9_col3\" class=\"data row9 col3\" >0.11</td>\n",
              "      <td id=\"T_cb95e_row9_col4\" class=\"data row9 col4\" >66600.00</td>\n",
              "      <td id=\"T_cb95e_row9_col5\" class=\"data row9 col5\" >0</td>\n",
              "    </tr>\n",
              "    <tr>\n",
              "      <td id=\"T_cb95e_row10_col0\" class=\"data row10 col0\" >Karthikeyan</td>\n",
              "      <td id=\"T_cb95e_row10_col1\" class=\"data row10 col1\" >Secretary</td>\n",
              "      <td id=\"T_cb95e_row10_col2\" class=\"data row10 col2\" >40000</td>\n",
              "      <td id=\"T_cb95e_row10_col3\" class=\"data row10 col3\" >0.09</td>\n",
              "      <td id=\"T_cb95e_row10_col4\" class=\"data row10 col4\" >43600.00</td>\n",
              "      <td id=\"T_cb95e_row10_col5\" class=\"data row10 col5\" >0</td>\n",
              "    </tr>\n",
              "    <tr>\n",
              "      <td id=\"T_cb95e_row11_col0\" class=\"data row11 col0\" >Sunil</td>\n",
              "      <td id=\"T_cb95e_row11_col1\" class=\"data row11 col1\" >Dy Manager</td>\n",
              "      <td id=\"T_cb95e_row11_col2\" class=\"data row11 col2\" >40000</td>\n",
              "      <td id=\"T_cb95e_row11_col3\" class=\"data row11 col3\" >0.05</td>\n",
              "      <td id=\"T_cb95e_row11_col4\" class=\"data row11 col4\" >42000.00</td>\n",
              "      <td id=\"T_cb95e_row11_col5\" class=\"data row11 col5\" >2000</td>\n",
              "    </tr>\n",
              "    <tr>\n",
              "      <td id=\"T_cb95e_row12_col0\" class=\"data row12 col0\" >Mirza</td>\n",
              "      <td id=\"T_cb95e_row12_col1\" class=\"data row12 col1\" >Cus_Rep</td>\n",
              "      <td id=\"T_cb95e_row12_col2\" class=\"data row12 col2\" >25000</td>\n",
              "      <td id=\"T_cb95e_row12_col3\" class=\"data row12 col3\" >0.04</td>\n",
              "      <td id=\"T_cb95e_row12_col4\" class=\"data row12 col4\" >26000.00</td>\n",
              "      <td id=\"T_cb95e_row12_col5\" class=\"data row12 col5\" >0</td>\n",
              "    </tr>\n",
              "  </tbody>\n",
              "</table>\n"
            ]
          },
          "metadata": {},
          "execution_count": 47
        }
      ]
    },
    {
      "cell_type": "code",
      "source": [
        "runSelect(\"select lastname, deptid,\\\n",
        "case \\\n",
        "when deptid in ('10','20') then 'Head' \\\n",
        "when deptid = '30' then 'Regional'\\\n",
        "else 'Branch' \\\n",
        "end \\\n",
        " office from empl\")"
      ],
      "metadata": {
        "colab": {
          "base_uri": "https://localhost:8080/",
          "height": 457
        },
        "id": "jbpKn1y0DwYG",
        "outputId": "8ffb2869-ca94-4bdb-d4c1-9957176f5f7c"
      },
      "execution_count": null,
      "outputs": [
        {
          "output_type": "execute_result",
          "data": {
            "text/plain": [
              "<pandas.io.formats.style.Styler at 0x79b4388c48e0>"
            ],
            "text/html": [
              "<style type=\"text/css\">\n",
              "</style>\n",
              "<table id=\"T_0301d\" class=\"dataframe\">\n",
              "  <thead>\n",
              "    <tr>\n",
              "      <th id=\"T_0301d_level0_col0\" class=\"col_heading level0 col0\" >lastname</th>\n",
              "      <th id=\"T_0301d_level0_col1\" class=\"col_heading level0 col1\" >deptid</th>\n",
              "      <th id=\"T_0301d_level0_col2\" class=\"col_heading level0 col2\" >office</th>\n",
              "    </tr>\n",
              "  </thead>\n",
              "  <tbody>\n",
              "    <tr>\n",
              "      <td id=\"T_0301d_row0_col0\" class=\"data row0 col0\" >Bacchan</td>\n",
              "      <td id=\"T_0301d_row0_col1\" class=\"data row0 col1\" >10</td>\n",
              "      <td id=\"T_0301d_row0_col2\" class=\"data row0 col2\" >Head</td>\n",
              "    </tr>\n",
              "    <tr>\n",
              "      <td id=\"T_0301d_row1_col0\" class=\"data row1 col0\" >Mukherjee</td>\n",
              "      <td id=\"T_0301d_row1_col1\" class=\"data row1 col1\" >40</td>\n",
              "      <td id=\"T_0301d_row1_col2\" class=\"data row1 col2\" >Branch</td>\n",
              "    </tr>\n",
              "    <tr>\n",
              "      <td id=\"T_0301d_row2_col0\" class=\"data row2 col0\" >Dikshit</td>\n",
              "      <td id=\"T_0301d_row2_col1\" class=\"data row2 col1\" >20</td>\n",
              "      <td id=\"T_0301d_row2_col2\" class=\"data row2 col2\" >Head</td>\n",
              "    </tr>\n",
              "    <tr>\n",
              "      <td id=\"T_0301d_row3_col0\" class=\"data row3 col0\" >Khan</td>\n",
              "      <td id=\"T_0301d_row3_col1\" class=\"data row3 col1\" >20</td>\n",
              "      <td id=\"T_0301d_row3_col2\" class=\"data row3 col2\" >Head</td>\n",
              "    </tr>\n",
              "    <tr>\n",
              "      <td id=\"T_0301d_row4_col0\" class=\"data row4 col0\" >Sehwag</td>\n",
              "      <td id=\"T_0301d_row4_col1\" class=\"data row4 col1\" >20</td>\n",
              "      <td id=\"T_0301d_row4_col2\" class=\"data row4 col2\" >Head</td>\n",
              "    </tr>\n",
              "    <tr>\n",
              "      <td id=\"T_0301d_row5_col0\" class=\"data row5 col0\" >Dhoni</td>\n",
              "      <td id=\"T_0301d_row5_col1\" class=\"data row5 col1\" >40</td>\n",
              "      <td id=\"T_0301d_row5_col2\" class=\"data row5 col2\" >Branch</td>\n",
              "    </tr>\n",
              "    <tr>\n",
              "      <td id=\"T_0301d_row6_col0\" class=\"data row6 col0\" >Dravid</td>\n",
              "      <td id=\"T_0301d_row6_col1\" class=\"data row6 col1\" >30</td>\n",
              "      <td id=\"T_0301d_row6_col2\" class=\"data row6 col2\" >Regional</td>\n",
              "    </tr>\n",
              "    <tr>\n",
              "      <td id=\"T_0301d_row7_col0\" class=\"data row7 col0\" >Dalmia</td>\n",
              "      <td id=\"T_0301d_row7_col1\" class=\"data row7 col1\" >30</td>\n",
              "      <td id=\"T_0301d_row7_col2\" class=\"data row7 col2\" >Regional</td>\n",
              "    </tr>\n",
              "    <tr>\n",
              "      <td id=\"T_0301d_row8_col0\" class=\"data row8 col0\" >Ganguly</td>\n",
              "      <td id=\"T_0301d_row8_col1\" class=\"data row8 col1\" >40</td>\n",
              "      <td id=\"T_0301d_row8_col2\" class=\"data row8 col2\" >Branch</td>\n",
              "    </tr>\n",
              "    <tr>\n",
              "      <td id=\"T_0301d_row9_col0\" class=\"data row9 col0\" >Ganesan</td>\n",
              "      <td id=\"T_0301d_row9_col1\" class=\"data row9 col1\" >10</td>\n",
              "      <td id=\"T_0301d_row9_col2\" class=\"data row9 col2\" >Head</td>\n",
              "    </tr>\n",
              "    <tr>\n",
              "      <td id=\"T_0301d_row10_col0\" class=\"data row10 col0\" >Karthikeyan</td>\n",
              "      <td id=\"T_0301d_row10_col1\" class=\"data row10 col1\" >10</td>\n",
              "      <td id=\"T_0301d_row10_col2\" class=\"data row10 col2\" >Head</td>\n",
              "    </tr>\n",
              "    <tr>\n",
              "      <td id=\"T_0301d_row11_col0\" class=\"data row11 col0\" >Sunil</td>\n",
              "      <td id=\"T_0301d_row11_col1\" class=\"data row11 col1\" >70</td>\n",
              "      <td id=\"T_0301d_row11_col2\" class=\"data row11 col2\" >Branch</td>\n",
              "    </tr>\n",
              "    <tr>\n",
              "      <td id=\"T_0301d_row12_col0\" class=\"data row12 col0\" >Mirza</td>\n",
              "      <td id=\"T_0301d_row12_col1\" class=\"data row12 col1\" >30</td>\n",
              "      <td id=\"T_0301d_row12_col2\" class=\"data row12 col2\" >Regional</td>\n",
              "    </tr>\n",
              "  </tbody>\n",
              "</table>\n"
            ]
          },
          "metadata": {},
          "execution_count": 48
        }
      ]
    },
    {
      "cell_type": "markdown",
      "source": [
        "#Join"
      ],
      "metadata": {
        "id": "Rs10ezIPpP0C"
      }
    },
    {
      "cell_type": "markdown",
      "source": [
        "## Basic Inner Join"
      ],
      "metadata": {
        "id": "XMfZP6HUpT4B"
      }
    },
    {
      "cell_type": "code",
      "source": [
        "sql = 'select firstname, lastname, salary, deptname, location, managerid from empl, dept where empl.deptid = dept.deptid'\n",
        "runSelect(sql)"
      ],
      "metadata": {
        "colab": {
          "base_uri": "https://localhost:8080/",
          "height": 426
        },
        "id": "ISiD-VP6pbUz",
        "outputId": "0641b291-cf44-4777-934d-46bfcce88ef4"
      },
      "execution_count": null,
      "outputs": [
        {
          "output_type": "execute_result",
          "data": {
            "text/plain": [
              "<pandas.io.formats.style.Styler at 0x79b4388c5ff0>"
            ],
            "text/html": [
              "<style type=\"text/css\">\n",
              "</style>\n",
              "<table id=\"T_6bbc8\" class=\"dataframe\">\n",
              "  <thead>\n",
              "    <tr>\n",
              "      <th id=\"T_6bbc8_level0_col0\" class=\"col_heading level0 col0\" >firstname</th>\n",
              "      <th id=\"T_6bbc8_level0_col1\" class=\"col_heading level0 col1\" >lastname</th>\n",
              "      <th id=\"T_6bbc8_level0_col2\" class=\"col_heading level0 col2\" >salary</th>\n",
              "      <th id=\"T_6bbc8_level0_col3\" class=\"col_heading level0 col3\" >deptname</th>\n",
              "      <th id=\"T_6bbc8_level0_col4\" class=\"col_heading level0 col4\" >location</th>\n",
              "      <th id=\"T_6bbc8_level0_col5\" class=\"col_heading level0 col5\" >managerid</th>\n",
              "    </tr>\n",
              "  </thead>\n",
              "  <tbody>\n",
              "    <tr>\n",
              "      <td id=\"T_6bbc8_row0_col0\" class=\"data row0 col0\" >Narayan</td>\n",
              "      <td id=\"T_6bbc8_row0_col1\" class=\"data row0 col1\" >Karthikeyan</td>\n",
              "      <td id=\"T_6bbc8_row0_col2\" class=\"data row0 col2\" >40000</td>\n",
              "      <td id=\"T_6bbc8_row0_col3\" class=\"data row0 col3\" >Corporate</td>\n",
              "      <td id=\"T_6bbc8_row0_col4\" class=\"data row0 col4\" >Calcutta</td>\n",
              "      <td id=\"T_6bbc8_row0_col5\" class=\"data row0 col5\" >299034</td>\n",
              "    </tr>\n",
              "    <tr>\n",
              "      <td id=\"T_6bbc8_row1_col0\" class=\"data row1 col0\" >Rekha</td>\n",
              "      <td id=\"T_6bbc8_row1_col1\" class=\"data row1 col1\" >Ganesan</td>\n",
              "      <td id=\"T_6bbc8_row1_col2\" class=\"data row1 col2\" >60000</td>\n",
              "      <td id=\"T_6bbc8_row1_col3\" class=\"data row1 col3\" >Corporate</td>\n",
              "      <td id=\"T_6bbc8_row1_col4\" class=\"data row1 col4\" >Calcutta</td>\n",
              "      <td id=\"T_6bbc8_row1_col5\" class=\"data row1 col5\" >299034</td>\n",
              "    </tr>\n",
              "    <tr>\n",
              "      <td id=\"T_6bbc8_row2_col0\" class=\"data row2 col0\" >Amitabh</td>\n",
              "      <td id=\"T_6bbc8_row2_col1\" class=\"data row2 col1\" >Bacchan</td>\n",
              "      <td id=\"T_6bbc8_row2_col2\" class=\"data row2 col2\" >50000</td>\n",
              "      <td id=\"T_6bbc8_row2_col3\" class=\"data row2 col3\" >Corporate</td>\n",
              "      <td id=\"T_6bbc8_row2_col4\" class=\"data row2 col4\" >Calcutta</td>\n",
              "      <td id=\"T_6bbc8_row2_col5\" class=\"data row2 col5\" >299034</td>\n",
              "    </tr>\n",
              "    <tr>\n",
              "      <td id=\"T_6bbc8_row3_col0\" class=\"data row3 col0\" >Virender</td>\n",
              "      <td id=\"T_6bbc8_row3_col1\" class=\"data row3 col1\" >Sehwag</td>\n",
              "      <td id=\"T_6bbc8_row3_col2\" class=\"data row3 col2\" >15000</td>\n",
              "      <td id=\"T_6bbc8_row3_col3\" class=\"data row3 col3\" >Sales</td>\n",
              "      <td id=\"T_6bbc8_row3_col4\" class=\"data row3 col4\" >Calcutta</td>\n",
              "      <td id=\"T_6bbc8_row3_col5\" class=\"data row3 col5\" >239456</td>\n",
              "    </tr>\n",
              "    <tr>\n",
              "      <td id=\"T_6bbc8_row4_col0\" class=\"data row4 col0\" >Shahrukh</td>\n",
              "      <td id=\"T_6bbc8_row4_col1\" class=\"data row4 col1\" >Khan</td>\n",
              "      <td id=\"T_6bbc8_row4_col2\" class=\"data row4 col2\" >30000</td>\n",
              "      <td id=\"T_6bbc8_row4_col3\" class=\"data row4 col3\" >Sales</td>\n",
              "      <td id=\"T_6bbc8_row4_col4\" class=\"data row4 col4\" >Calcutta</td>\n",
              "      <td id=\"T_6bbc8_row4_col5\" class=\"data row4 col5\" >239456</td>\n",
              "    </tr>\n",
              "    <tr>\n",
              "      <td id=\"T_6bbc8_row5_col0\" class=\"data row5 col0\" >Madhuri</td>\n",
              "      <td id=\"T_6bbc8_row5_col1\" class=\"data row5 col1\" >Dikshit</td>\n",
              "      <td id=\"T_6bbc8_row5_col2\" class=\"data row5 col2\" >10000</td>\n",
              "      <td id=\"T_6bbc8_row5_col3\" class=\"data row5 col3\" >Sales</td>\n",
              "      <td id=\"T_6bbc8_row5_col4\" class=\"data row5 col4\" >Calcutta</td>\n",
              "      <td id=\"T_6bbc8_row5_col5\" class=\"data row5 col5\" >239456</td>\n",
              "    </tr>\n",
              "    <tr>\n",
              "      <td id=\"T_6bbc8_row6_col0\" class=\"data row6 col0\" >Sania</td>\n",
              "      <td id=\"T_6bbc8_row6_col1\" class=\"data row6 col1\" >Mirza</td>\n",
              "      <td id=\"T_6bbc8_row6_col2\" class=\"data row6 col2\" >25000</td>\n",
              "      <td id=\"T_6bbc8_row6_col3\" class=\"data row6 col3\" >Accounts</td>\n",
              "      <td id=\"T_6bbc8_row6_col4\" class=\"data row6 col4\" >Calcutta</td>\n",
              "      <td id=\"T_6bbc8_row6_col5\" class=\"data row6 col5\" >822134</td>\n",
              "    </tr>\n",
              "    <tr>\n",
              "      <td id=\"T_6bbc8_row7_col0\" class=\"data row7 col0\" >Jagmohan</td>\n",
              "      <td id=\"T_6bbc8_row7_col1\" class=\"data row7 col1\" >Dalmia</td>\n",
              "      <td id=\"T_6bbc8_row7_col2\" class=\"data row7 col2\" >12000</td>\n",
              "      <td id=\"T_6bbc8_row7_col3\" class=\"data row7 col3\" >Accounts</td>\n",
              "      <td id=\"T_6bbc8_row7_col4\" class=\"data row7 col4\" >Calcutta</td>\n",
              "      <td id=\"T_6bbc8_row7_col5\" class=\"data row7 col5\" >822134</td>\n",
              "    </tr>\n",
              "    <tr>\n",
              "      <td id=\"T_6bbc8_row8_col0\" class=\"data row8 col0\" >Rahul</td>\n",
              "      <td id=\"T_6bbc8_row8_col1\" class=\"data row8 col1\" >Dravid</td>\n",
              "      <td id=\"T_6bbc8_row8_col2\" class=\"data row8 col2\" >40000</td>\n",
              "      <td id=\"T_6bbc8_row8_col3\" class=\"data row8 col3\" >Accounts</td>\n",
              "      <td id=\"T_6bbc8_row8_col4\" class=\"data row8 col4\" >Calcutta</td>\n",
              "      <td id=\"T_6bbc8_row8_col5\" class=\"data row8 col5\" >822134</td>\n",
              "    </tr>\n",
              "    <tr>\n",
              "      <td id=\"T_6bbc8_row9_col0\" class=\"data row9 col0\" >Sourav</td>\n",
              "      <td id=\"T_6bbc8_row9_col1\" class=\"data row9 col1\" >Ganguly</td>\n",
              "      <td id=\"T_6bbc8_row9_col2\" class=\"data row9 col2\" >20000</td>\n",
              "      <td id=\"T_6bbc8_row9_col3\" class=\"data row9 col3\" >Production</td>\n",
              "      <td id=\"T_6bbc8_row9_col4\" class=\"data row9 col4\" >Bombay</td>\n",
              "      <td id=\"T_6bbc8_row9_col5\" class=\"data row9 col5\" >349870</td>\n",
              "    </tr>\n",
              "    <tr>\n",
              "      <td id=\"T_6bbc8_row10_col0\" class=\"data row10 col0\" >Mahender</td>\n",
              "      <td id=\"T_6bbc8_row10_col1\" class=\"data row10 col1\" >Dhoni</td>\n",
              "      <td id=\"T_6bbc8_row10_col2\" class=\"data row10 col2\" >9000</td>\n",
              "      <td id=\"T_6bbc8_row10_col3\" class=\"data row10 col3\" >Production</td>\n",
              "      <td id=\"T_6bbc8_row10_col4\" class=\"data row10 col4\" >Bombay</td>\n",
              "      <td id=\"T_6bbc8_row10_col5\" class=\"data row10 col5\" >349870</td>\n",
              "    </tr>\n",
              "    <tr>\n",
              "      <td id=\"T_6bbc8_row11_col0\" class=\"data row11 col0\" >Rani</td>\n",
              "      <td id=\"T_6bbc8_row11_col1\" class=\"data row11 col1\" >Mukherjee</td>\n",
              "      <td id=\"T_6bbc8_row11_col2\" class=\"data row11 col2\" >25000</td>\n",
              "      <td id=\"T_6bbc8_row11_col3\" class=\"data row11 col3\" >Production</td>\n",
              "      <td id=\"T_6bbc8_row11_col4\" class=\"data row11 col4\" >Bombay</td>\n",
              "      <td id=\"T_6bbc8_row11_col5\" class=\"data row11 col5\" >349870</td>\n",
              "    </tr>\n",
              "  </tbody>\n",
              "</table>\n"
            ]
          },
          "metadata": {},
          "execution_count": 49
        }
      ]
    },
    {
      "cell_type": "code",
      "source": [
        "sql = 'select empid, firstname, deptname, location from empl INNER JOIN dept ON empl.deptid = dept.deptid'\n",
        "runSelect(sql)"
      ],
      "metadata": {
        "colab": {
          "base_uri": "https://localhost:8080/",
          "height": 426
        },
        "id": "LVrEArEc1VcF",
        "outputId": "3fd8c3ac-c366-400c-a736-1589aa812303"
      },
      "execution_count": null,
      "outputs": [
        {
          "output_type": "execute_result",
          "data": {
            "text/plain": [
              "<pandas.io.formats.style.Styler at 0x79b4388c5e40>"
            ],
            "text/html": [
              "<style type=\"text/css\">\n",
              "</style>\n",
              "<table id=\"T_ed322\" class=\"dataframe\">\n",
              "  <thead>\n",
              "    <tr>\n",
              "      <th id=\"T_ed322_level0_col0\" class=\"col_heading level0 col0\" >empid</th>\n",
              "      <th id=\"T_ed322_level0_col1\" class=\"col_heading level0 col1\" >firstname</th>\n",
              "      <th id=\"T_ed322_level0_col2\" class=\"col_heading level0 col2\" >deptname</th>\n",
              "      <th id=\"T_ed322_level0_col3\" class=\"col_heading level0 col3\" >location</th>\n",
              "    </tr>\n",
              "  </thead>\n",
              "  <tbody>\n",
              "    <tr>\n",
              "      <td id=\"T_ed322_row0_col0\" class=\"data row0 col0\" >546223</td>\n",
              "      <td id=\"T_ed322_row0_col1\" class=\"data row0 col1\" >Narayan</td>\n",
              "      <td id=\"T_ed322_row0_col2\" class=\"data row0 col2\" >Corporate</td>\n",
              "      <td id=\"T_ed322_row0_col3\" class=\"data row0 col3\" >Calcutta</td>\n",
              "    </tr>\n",
              "    <tr>\n",
              "      <td id=\"T_ed322_row1_col0\" class=\"data row1 col0\" >299034</td>\n",
              "      <td id=\"T_ed322_row1_col1\" class=\"data row1 col1\" >Rekha</td>\n",
              "      <td id=\"T_ed322_row1_col2\" class=\"data row1 col2\" >Corporate</td>\n",
              "      <td id=\"T_ed322_row1_col3\" class=\"data row1 col3\" >Calcutta</td>\n",
              "    </tr>\n",
              "    <tr>\n",
              "      <td id=\"T_ed322_row2_col0\" class=\"data row2 col0\" >742866</td>\n",
              "      <td id=\"T_ed322_row2_col1\" class=\"data row2 col1\" >Amitabh</td>\n",
              "      <td id=\"T_ed322_row2_col2\" class=\"data row2 col2\" >Corporate</td>\n",
              "      <td id=\"T_ed322_row2_col3\" class=\"data row2 col3\" >Calcutta</td>\n",
              "    </tr>\n",
              "    <tr>\n",
              "      <td id=\"T_ed322_row3_col0\" class=\"data row3 col0\" >897889</td>\n",
              "      <td id=\"T_ed322_row3_col1\" class=\"data row3 col1\" >Virender</td>\n",
              "      <td id=\"T_ed322_row3_col2\" class=\"data row3 col2\" >Sales</td>\n",
              "      <td id=\"T_ed322_row3_col3\" class=\"data row3 col3\" >Calcutta</td>\n",
              "    </tr>\n",
              "    <tr>\n",
              "      <td id=\"T_ed322_row4_col0\" class=\"data row4 col0\" >239456</td>\n",
              "      <td id=\"T_ed322_row4_col1\" class=\"data row4 col1\" >Shahrukh</td>\n",
              "      <td id=\"T_ed322_row4_col2\" class=\"data row4 col2\" >Sales</td>\n",
              "      <td id=\"T_ed322_row4_col3\" class=\"data row4 col3\" >Calcutta</td>\n",
              "    </tr>\n",
              "    <tr>\n",
              "      <td id=\"T_ed322_row5_col0\" class=\"data row5 col0\" >865477</td>\n",
              "      <td id=\"T_ed322_row5_col1\" class=\"data row5 col1\" >Madhuri</td>\n",
              "      <td id=\"T_ed322_row5_col2\" class=\"data row5 col2\" >Sales</td>\n",
              "      <td id=\"T_ed322_row5_col3\" class=\"data row5 col3\" >Calcutta</td>\n",
              "    </tr>\n",
              "    <tr>\n",
              "      <td id=\"T_ed322_row6_col0\" class=\"data row6 col0\" >223112</td>\n",
              "      <td id=\"T_ed322_row6_col1\" class=\"data row6 col1\" >Sania</td>\n",
              "      <td id=\"T_ed322_row6_col2\" class=\"data row6 col2\" >Accounts</td>\n",
              "      <td id=\"T_ed322_row6_col3\" class=\"data row6 col3\" >Calcutta</td>\n",
              "    </tr>\n",
              "    <tr>\n",
              "      <td id=\"T_ed322_row7_col0\" class=\"data row7 col0\" >997445</td>\n",
              "      <td id=\"T_ed322_row7_col1\" class=\"data row7 col1\" >Jagmohan</td>\n",
              "      <td id=\"T_ed322_row7_col2\" class=\"data row7 col2\" >Accounts</td>\n",
              "      <td id=\"T_ed322_row7_col3\" class=\"data row7 col3\" >Calcutta</td>\n",
              "    </tr>\n",
              "    <tr>\n",
              "      <td id=\"T_ed322_row8_col0\" class=\"data row8 col0\" >822134</td>\n",
              "      <td id=\"T_ed322_row8_col1\" class=\"data row8 col1\" >Rahul</td>\n",
              "      <td id=\"T_ed322_row8_col2\" class=\"data row8 col2\" >Accounts</td>\n",
              "      <td id=\"T_ed322_row8_col3\" class=\"data row8 col3\" >Calcutta</td>\n",
              "    </tr>\n",
              "    <tr>\n",
              "      <td id=\"T_ed322_row9_col0\" class=\"data row9 col0\" >989007</td>\n",
              "      <td id=\"T_ed322_row9_col1\" class=\"data row9 col1\" >Sourav</td>\n",
              "      <td id=\"T_ed322_row9_col2\" class=\"data row9 col2\" >Production</td>\n",
              "      <td id=\"T_ed322_row9_col3\" class=\"data row9 col3\" >Bombay</td>\n",
              "    </tr>\n",
              "    <tr>\n",
              "      <td id=\"T_ed322_row10_col0\" class=\"data row10 col0\" >123980</td>\n",
              "      <td id=\"T_ed322_row10_col1\" class=\"data row10 col1\" >Mahender</td>\n",
              "      <td id=\"T_ed322_row10_col2\" class=\"data row10 col2\" >Production</td>\n",
              "      <td id=\"T_ed322_row10_col3\" class=\"data row10 col3\" >Bombay</td>\n",
              "    </tr>\n",
              "    <tr>\n",
              "      <td id=\"T_ed322_row11_col0\" class=\"data row11 col0\" >349870</td>\n",
              "      <td id=\"T_ed322_row11_col1\" class=\"data row11 col1\" >Rani</td>\n",
              "      <td id=\"T_ed322_row11_col2\" class=\"data row11 col2\" >Production</td>\n",
              "      <td id=\"T_ed322_row11_col3\" class=\"data row11 col3\" >Bombay</td>\n",
              "    </tr>\n",
              "  </tbody>\n",
              "</table>\n"
            ]
          },
          "metadata": {},
          "execution_count": 50
        }
      ]
    },
    {
      "cell_type": "code",
      "source": [
        "sql = 'select deptname,round(sum(salary),0) payroll from empl INNER JOIN dept ON empl.deptid = dept.deptid \\\n",
        "group by deptname'\n",
        "runSelect(sql)"
      ],
      "metadata": {
        "id": "pKk82QRi28DP",
        "outputId": "0771cb1d-4f7a-469d-c5f5-fd2345ddc495",
        "colab": {
          "base_uri": "https://localhost:8080/",
          "height": 175
        }
      },
      "execution_count": null,
      "outputs": [
        {
          "output_type": "execute_result",
          "data": {
            "text/plain": [
              "<pandas.io.formats.style.Styler at 0x79b4388c7d90>"
            ],
            "text/html": [
              "<style type=\"text/css\">\n",
              "</style>\n",
              "<table id=\"T_93036\" class=\"dataframe\">\n",
              "  <thead>\n",
              "    <tr>\n",
              "      <th id=\"T_93036_level0_col0\" class=\"col_heading level0 col0\" >deptname</th>\n",
              "      <th id=\"T_93036_level0_col1\" class=\"col_heading level0 col1\" >payroll</th>\n",
              "    </tr>\n",
              "  </thead>\n",
              "  <tbody>\n",
              "    <tr>\n",
              "      <td id=\"T_93036_row0_col0\" class=\"data row0 col0\" >Corporate</td>\n",
              "      <td id=\"T_93036_row0_col1\" class=\"data row0 col1\" >150000</td>\n",
              "    </tr>\n",
              "    <tr>\n",
              "      <td id=\"T_93036_row1_col0\" class=\"data row1 col0\" >Accounts</td>\n",
              "      <td id=\"T_93036_row1_col1\" class=\"data row1 col1\" >77000</td>\n",
              "    </tr>\n",
              "    <tr>\n",
              "      <td id=\"T_93036_row2_col0\" class=\"data row2 col0\" >Sales</td>\n",
              "      <td id=\"T_93036_row2_col1\" class=\"data row2 col1\" >55000</td>\n",
              "    </tr>\n",
              "    <tr>\n",
              "      <td id=\"T_93036_row3_col0\" class=\"data row3 col0\" >Production</td>\n",
              "      <td id=\"T_93036_row3_col1\" class=\"data row3 col1\" >54000</td>\n",
              "    </tr>\n",
              "  </tbody>\n",
              "</table>\n"
            ]
          },
          "metadata": {},
          "execution_count": 51
        }
      ]
    },
    {
      "cell_type": "markdown",
      "source": [
        "## Outer Join"
      ],
      "metadata": {
        "id": "tK9uJHAL1u6x"
      }
    },
    {
      "cell_type": "markdown",
      "source": [
        "### Left Outer"
      ],
      "metadata": {
        "id": "5wGFVhyJ2x8S"
      }
    },
    {
      "cell_type": "code",
      "source": [
        "sql = 'select empid, firstname, deptname, location from empl LEFT JOIN dept ON empl.deptid = dept.deptid'\n",
        "runSelect(sql)"
      ],
      "metadata": {
        "colab": {
          "base_uri": "https://localhost:8080/",
          "height": 457
        },
        "id": "Ls6VfOXt1zTq",
        "outputId": "1a0db158-a2dd-4e45-8a7d-5f4c0fb33299"
      },
      "execution_count": null,
      "outputs": [
        {
          "output_type": "execute_result",
          "data": {
            "text/plain": [
              "<pandas.io.formats.style.Styler at 0x79b4388c7970>"
            ],
            "text/html": [
              "<style type=\"text/css\">\n",
              "</style>\n",
              "<table id=\"T_0e485\" class=\"dataframe\">\n",
              "  <thead>\n",
              "    <tr>\n",
              "      <th id=\"T_0e485_level0_col0\" class=\"col_heading level0 col0\" >empid</th>\n",
              "      <th id=\"T_0e485_level0_col1\" class=\"col_heading level0 col1\" >firstname</th>\n",
              "      <th id=\"T_0e485_level0_col2\" class=\"col_heading level0 col2\" >deptname</th>\n",
              "      <th id=\"T_0e485_level0_col3\" class=\"col_heading level0 col3\" >location</th>\n",
              "    </tr>\n",
              "  </thead>\n",
              "  <tbody>\n",
              "    <tr>\n",
              "      <td id=\"T_0e485_row0_col0\" class=\"data row0 col0\" >546223</td>\n",
              "      <td id=\"T_0e485_row0_col1\" class=\"data row0 col1\" >Narayan</td>\n",
              "      <td id=\"T_0e485_row0_col2\" class=\"data row0 col2\" >Corporate</td>\n",
              "      <td id=\"T_0e485_row0_col3\" class=\"data row0 col3\" >Calcutta</td>\n",
              "    </tr>\n",
              "    <tr>\n",
              "      <td id=\"T_0e485_row1_col0\" class=\"data row1 col0\" >299034</td>\n",
              "      <td id=\"T_0e485_row1_col1\" class=\"data row1 col1\" >Rekha</td>\n",
              "      <td id=\"T_0e485_row1_col2\" class=\"data row1 col2\" >Corporate</td>\n",
              "      <td id=\"T_0e485_row1_col3\" class=\"data row1 col3\" >Calcutta</td>\n",
              "    </tr>\n",
              "    <tr>\n",
              "      <td id=\"T_0e485_row2_col0\" class=\"data row2 col0\" >742866</td>\n",
              "      <td id=\"T_0e485_row2_col1\" class=\"data row2 col1\" >Amitabh</td>\n",
              "      <td id=\"T_0e485_row2_col2\" class=\"data row2 col2\" >Corporate</td>\n",
              "      <td id=\"T_0e485_row2_col3\" class=\"data row2 col3\" >Calcutta</td>\n",
              "    </tr>\n",
              "    <tr>\n",
              "      <td id=\"T_0e485_row3_col0\" class=\"data row3 col0\" >897889</td>\n",
              "      <td id=\"T_0e485_row3_col1\" class=\"data row3 col1\" >Virender</td>\n",
              "      <td id=\"T_0e485_row3_col2\" class=\"data row3 col2\" >Sales</td>\n",
              "      <td id=\"T_0e485_row3_col3\" class=\"data row3 col3\" >Calcutta</td>\n",
              "    </tr>\n",
              "    <tr>\n",
              "      <td id=\"T_0e485_row4_col0\" class=\"data row4 col0\" >239456</td>\n",
              "      <td id=\"T_0e485_row4_col1\" class=\"data row4 col1\" >Shahrukh</td>\n",
              "      <td id=\"T_0e485_row4_col2\" class=\"data row4 col2\" >Sales</td>\n",
              "      <td id=\"T_0e485_row4_col3\" class=\"data row4 col3\" >Calcutta</td>\n",
              "    </tr>\n",
              "    <tr>\n",
              "      <td id=\"T_0e485_row5_col0\" class=\"data row5 col0\" >865477</td>\n",
              "      <td id=\"T_0e485_row5_col1\" class=\"data row5 col1\" >Madhuri</td>\n",
              "      <td id=\"T_0e485_row5_col2\" class=\"data row5 col2\" >Sales</td>\n",
              "      <td id=\"T_0e485_row5_col3\" class=\"data row5 col3\" >Calcutta</td>\n",
              "    </tr>\n",
              "    <tr>\n",
              "      <td id=\"T_0e485_row6_col0\" class=\"data row6 col0\" >223112</td>\n",
              "      <td id=\"T_0e485_row6_col1\" class=\"data row6 col1\" >Sania</td>\n",
              "      <td id=\"T_0e485_row6_col2\" class=\"data row6 col2\" >Accounts</td>\n",
              "      <td id=\"T_0e485_row6_col3\" class=\"data row6 col3\" >Calcutta</td>\n",
              "    </tr>\n",
              "    <tr>\n",
              "      <td id=\"T_0e485_row7_col0\" class=\"data row7 col0\" >997445</td>\n",
              "      <td id=\"T_0e485_row7_col1\" class=\"data row7 col1\" >Jagmohan</td>\n",
              "      <td id=\"T_0e485_row7_col2\" class=\"data row7 col2\" >Accounts</td>\n",
              "      <td id=\"T_0e485_row7_col3\" class=\"data row7 col3\" >Calcutta</td>\n",
              "    </tr>\n",
              "    <tr>\n",
              "      <td id=\"T_0e485_row8_col0\" class=\"data row8 col0\" >822134</td>\n",
              "      <td id=\"T_0e485_row8_col1\" class=\"data row8 col1\" >Rahul</td>\n",
              "      <td id=\"T_0e485_row8_col2\" class=\"data row8 col2\" >Accounts</td>\n",
              "      <td id=\"T_0e485_row8_col3\" class=\"data row8 col3\" >Calcutta</td>\n",
              "    </tr>\n",
              "    <tr>\n",
              "      <td id=\"T_0e485_row9_col0\" class=\"data row9 col0\" >989007</td>\n",
              "      <td id=\"T_0e485_row9_col1\" class=\"data row9 col1\" >Sourav</td>\n",
              "      <td id=\"T_0e485_row9_col2\" class=\"data row9 col2\" >Production</td>\n",
              "      <td id=\"T_0e485_row9_col3\" class=\"data row9 col3\" >Bombay</td>\n",
              "    </tr>\n",
              "    <tr>\n",
              "      <td id=\"T_0e485_row10_col0\" class=\"data row10 col0\" >123980</td>\n",
              "      <td id=\"T_0e485_row10_col1\" class=\"data row10 col1\" >Mahender</td>\n",
              "      <td id=\"T_0e485_row10_col2\" class=\"data row10 col2\" >Production</td>\n",
              "      <td id=\"T_0e485_row10_col3\" class=\"data row10 col3\" >Bombay</td>\n",
              "    </tr>\n",
              "    <tr>\n",
              "      <td id=\"T_0e485_row11_col0\" class=\"data row11 col0\" >349870</td>\n",
              "      <td id=\"T_0e485_row11_col1\" class=\"data row11 col1\" >Rani</td>\n",
              "      <td id=\"T_0e485_row11_col2\" class=\"data row11 col2\" >Production</td>\n",
              "      <td id=\"T_0e485_row11_col3\" class=\"data row11 col3\" >Bombay</td>\n",
              "    </tr>\n",
              "    <tr>\n",
              "      <td id=\"T_0e485_row12_col0\" class=\"data row12 col0\" >546224</td>\n",
              "      <td id=\"T_0e485_row12_col1\" class=\"data row12 col1\" >Chettri</td>\n",
              "      <td id=\"T_0e485_row12_col2\" class=\"data row12 col2\" >None</td>\n",
              "      <td id=\"T_0e485_row12_col3\" class=\"data row12 col3\" >None</td>\n",
              "    </tr>\n",
              "  </tbody>\n",
              "</table>\n"
            ]
          },
          "metadata": {},
          "execution_count": 52
        }
      ]
    },
    {
      "cell_type": "markdown",
      "source": [
        "### Right Outer"
      ],
      "metadata": {
        "id": "iJ6DASb121Og"
      }
    },
    {
      "cell_type": "code",
      "source": [
        "sql = 'select empid, firstname, deptname, location from empl RIGHT JOIN dept ON empl.deptid = dept.deptid'\n",
        "runSelect(sql)"
      ],
      "metadata": {
        "colab": {
          "base_uri": "https://localhost:8080/",
          "height": 457
        },
        "id": "khvQpQ4E2XND",
        "outputId": "a7930606-99b1-4257-fdc1-73960a556b53"
      },
      "execution_count": null,
      "outputs": [
        {
          "output_type": "execute_result",
          "data": {
            "text/plain": [
              "<pandas.io.formats.style.Styler at 0x79b4388c4ca0>"
            ],
            "text/html": [
              "<style type=\"text/css\">\n",
              "</style>\n",
              "<table id=\"T_4ffae\" class=\"dataframe\">\n",
              "  <thead>\n",
              "    <tr>\n",
              "      <th id=\"T_4ffae_level0_col0\" class=\"col_heading level0 col0\" >empid</th>\n",
              "      <th id=\"T_4ffae_level0_col1\" class=\"col_heading level0 col1\" >firstname</th>\n",
              "      <th id=\"T_4ffae_level0_col2\" class=\"col_heading level0 col2\" >deptname</th>\n",
              "      <th id=\"T_4ffae_level0_col3\" class=\"col_heading level0 col3\" >location</th>\n",
              "    </tr>\n",
              "  </thead>\n",
              "  <tbody>\n",
              "    <tr>\n",
              "      <td id=\"T_4ffae_row0_col0\" class=\"data row0 col0\" >546223</td>\n",
              "      <td id=\"T_4ffae_row0_col1\" class=\"data row0 col1\" >Narayan</td>\n",
              "      <td id=\"T_4ffae_row0_col2\" class=\"data row0 col2\" >Corporate</td>\n",
              "      <td id=\"T_4ffae_row0_col3\" class=\"data row0 col3\" >Calcutta</td>\n",
              "    </tr>\n",
              "    <tr>\n",
              "      <td id=\"T_4ffae_row1_col0\" class=\"data row1 col0\" >299034</td>\n",
              "      <td id=\"T_4ffae_row1_col1\" class=\"data row1 col1\" >Rekha</td>\n",
              "      <td id=\"T_4ffae_row1_col2\" class=\"data row1 col2\" >Corporate</td>\n",
              "      <td id=\"T_4ffae_row1_col3\" class=\"data row1 col3\" >Calcutta</td>\n",
              "    </tr>\n",
              "    <tr>\n",
              "      <td id=\"T_4ffae_row2_col0\" class=\"data row2 col0\" >742866</td>\n",
              "      <td id=\"T_4ffae_row2_col1\" class=\"data row2 col1\" >Amitabh</td>\n",
              "      <td id=\"T_4ffae_row2_col2\" class=\"data row2 col2\" >Corporate</td>\n",
              "      <td id=\"T_4ffae_row2_col3\" class=\"data row2 col3\" >Calcutta</td>\n",
              "    </tr>\n",
              "    <tr>\n",
              "      <td id=\"T_4ffae_row3_col0\" class=\"data row3 col0\" >897889</td>\n",
              "      <td id=\"T_4ffae_row3_col1\" class=\"data row3 col1\" >Virender</td>\n",
              "      <td id=\"T_4ffae_row3_col2\" class=\"data row3 col2\" >Sales</td>\n",
              "      <td id=\"T_4ffae_row3_col3\" class=\"data row3 col3\" >Calcutta</td>\n",
              "    </tr>\n",
              "    <tr>\n",
              "      <td id=\"T_4ffae_row4_col0\" class=\"data row4 col0\" >239456</td>\n",
              "      <td id=\"T_4ffae_row4_col1\" class=\"data row4 col1\" >Shahrukh</td>\n",
              "      <td id=\"T_4ffae_row4_col2\" class=\"data row4 col2\" >Sales</td>\n",
              "      <td id=\"T_4ffae_row4_col3\" class=\"data row4 col3\" >Calcutta</td>\n",
              "    </tr>\n",
              "    <tr>\n",
              "      <td id=\"T_4ffae_row5_col0\" class=\"data row5 col0\" >865477</td>\n",
              "      <td id=\"T_4ffae_row5_col1\" class=\"data row5 col1\" >Madhuri</td>\n",
              "      <td id=\"T_4ffae_row5_col2\" class=\"data row5 col2\" >Sales</td>\n",
              "      <td id=\"T_4ffae_row5_col3\" class=\"data row5 col3\" >Calcutta</td>\n",
              "    </tr>\n",
              "    <tr>\n",
              "      <td id=\"T_4ffae_row6_col0\" class=\"data row6 col0\" >223112</td>\n",
              "      <td id=\"T_4ffae_row6_col1\" class=\"data row6 col1\" >Sania</td>\n",
              "      <td id=\"T_4ffae_row6_col2\" class=\"data row6 col2\" >Accounts</td>\n",
              "      <td id=\"T_4ffae_row6_col3\" class=\"data row6 col3\" >Calcutta</td>\n",
              "    </tr>\n",
              "    <tr>\n",
              "      <td id=\"T_4ffae_row7_col0\" class=\"data row7 col0\" >997445</td>\n",
              "      <td id=\"T_4ffae_row7_col1\" class=\"data row7 col1\" >Jagmohan</td>\n",
              "      <td id=\"T_4ffae_row7_col2\" class=\"data row7 col2\" >Accounts</td>\n",
              "      <td id=\"T_4ffae_row7_col3\" class=\"data row7 col3\" >Calcutta</td>\n",
              "    </tr>\n",
              "    <tr>\n",
              "      <td id=\"T_4ffae_row8_col0\" class=\"data row8 col0\" >822134</td>\n",
              "      <td id=\"T_4ffae_row8_col1\" class=\"data row8 col1\" >Rahul</td>\n",
              "      <td id=\"T_4ffae_row8_col2\" class=\"data row8 col2\" >Accounts</td>\n",
              "      <td id=\"T_4ffae_row8_col3\" class=\"data row8 col3\" >Calcutta</td>\n",
              "    </tr>\n",
              "    <tr>\n",
              "      <td id=\"T_4ffae_row9_col0\" class=\"data row9 col0\" >989007</td>\n",
              "      <td id=\"T_4ffae_row9_col1\" class=\"data row9 col1\" >Sourav</td>\n",
              "      <td id=\"T_4ffae_row9_col2\" class=\"data row9 col2\" >Production</td>\n",
              "      <td id=\"T_4ffae_row9_col3\" class=\"data row9 col3\" >Bombay</td>\n",
              "    </tr>\n",
              "    <tr>\n",
              "      <td id=\"T_4ffae_row10_col0\" class=\"data row10 col0\" >123980</td>\n",
              "      <td id=\"T_4ffae_row10_col1\" class=\"data row10 col1\" >Mahender</td>\n",
              "      <td id=\"T_4ffae_row10_col2\" class=\"data row10 col2\" >Production</td>\n",
              "      <td id=\"T_4ffae_row10_col3\" class=\"data row10 col3\" >Bombay</td>\n",
              "    </tr>\n",
              "    <tr>\n",
              "      <td id=\"T_4ffae_row11_col0\" class=\"data row11 col0\" >349870</td>\n",
              "      <td id=\"T_4ffae_row11_col1\" class=\"data row11 col1\" >Rani</td>\n",
              "      <td id=\"T_4ffae_row11_col2\" class=\"data row11 col2\" >Production</td>\n",
              "      <td id=\"T_4ffae_row11_col3\" class=\"data row11 col3\" >Bombay</td>\n",
              "    </tr>\n",
              "    <tr>\n",
              "      <td id=\"T_4ffae_row12_col0\" class=\"data row12 col0\" >None</td>\n",
              "      <td id=\"T_4ffae_row12_col1\" class=\"data row12 col1\" >None</td>\n",
              "      <td id=\"T_4ffae_row12_col2\" class=\"data row12 col2\" >Research</td>\n",
              "      <td id=\"T_4ffae_row12_col3\" class=\"data row12 col3\" >Delhi</td>\n",
              "    </tr>\n",
              "  </tbody>\n",
              "</table>\n"
            ]
          },
          "metadata": {},
          "execution_count": 53
        }
      ]
    },
    {
      "cell_type": "markdown",
      "source": [
        "### Full Outer"
      ],
      "metadata": {
        "id": "RsEyhBBp24zy"
      }
    },
    {
      "cell_type": "code",
      "source": [
        "sql = 'select empid, firstname, deptname, location from empl FULL JOIN dept ON empl.deptid = dept.deptid'\n",
        "runSelect(sql)"
      ],
      "metadata": {
        "colab": {
          "base_uri": "https://localhost:8080/",
          "height": 488
        },
        "id": "Ipt14U9o2qFg",
        "outputId": "26adccec-fccc-447d-cc83-abd5cd26f33c"
      },
      "execution_count": null,
      "outputs": [
        {
          "output_type": "execute_result",
          "data": {
            "text/plain": [
              "<pandas.io.formats.style.Styler at 0x79b4388c7700>"
            ],
            "text/html": [
              "<style type=\"text/css\">\n",
              "</style>\n",
              "<table id=\"T_4c1ce\" class=\"dataframe\">\n",
              "  <thead>\n",
              "    <tr>\n",
              "      <th id=\"T_4c1ce_level0_col0\" class=\"col_heading level0 col0\" >empid</th>\n",
              "      <th id=\"T_4c1ce_level0_col1\" class=\"col_heading level0 col1\" >firstname</th>\n",
              "      <th id=\"T_4c1ce_level0_col2\" class=\"col_heading level0 col2\" >deptname</th>\n",
              "      <th id=\"T_4c1ce_level0_col3\" class=\"col_heading level0 col3\" >location</th>\n",
              "    </tr>\n",
              "  </thead>\n",
              "  <tbody>\n",
              "    <tr>\n",
              "      <td id=\"T_4c1ce_row0_col0\" class=\"data row0 col0\" >546223</td>\n",
              "      <td id=\"T_4c1ce_row0_col1\" class=\"data row0 col1\" >Narayan</td>\n",
              "      <td id=\"T_4c1ce_row0_col2\" class=\"data row0 col2\" >Corporate</td>\n",
              "      <td id=\"T_4c1ce_row0_col3\" class=\"data row0 col3\" >Calcutta</td>\n",
              "    </tr>\n",
              "    <tr>\n",
              "      <td id=\"T_4c1ce_row1_col0\" class=\"data row1 col0\" >299034</td>\n",
              "      <td id=\"T_4c1ce_row1_col1\" class=\"data row1 col1\" >Rekha</td>\n",
              "      <td id=\"T_4c1ce_row1_col2\" class=\"data row1 col2\" >Corporate</td>\n",
              "      <td id=\"T_4c1ce_row1_col3\" class=\"data row1 col3\" >Calcutta</td>\n",
              "    </tr>\n",
              "    <tr>\n",
              "      <td id=\"T_4c1ce_row2_col0\" class=\"data row2 col0\" >742866</td>\n",
              "      <td id=\"T_4c1ce_row2_col1\" class=\"data row2 col1\" >Amitabh</td>\n",
              "      <td id=\"T_4c1ce_row2_col2\" class=\"data row2 col2\" >Corporate</td>\n",
              "      <td id=\"T_4c1ce_row2_col3\" class=\"data row2 col3\" >Calcutta</td>\n",
              "    </tr>\n",
              "    <tr>\n",
              "      <td id=\"T_4c1ce_row3_col0\" class=\"data row3 col0\" >897889</td>\n",
              "      <td id=\"T_4c1ce_row3_col1\" class=\"data row3 col1\" >Virender</td>\n",
              "      <td id=\"T_4c1ce_row3_col2\" class=\"data row3 col2\" >Sales</td>\n",
              "      <td id=\"T_4c1ce_row3_col3\" class=\"data row3 col3\" >Calcutta</td>\n",
              "    </tr>\n",
              "    <tr>\n",
              "      <td id=\"T_4c1ce_row4_col0\" class=\"data row4 col0\" >239456</td>\n",
              "      <td id=\"T_4c1ce_row4_col1\" class=\"data row4 col1\" >Shahrukh</td>\n",
              "      <td id=\"T_4c1ce_row4_col2\" class=\"data row4 col2\" >Sales</td>\n",
              "      <td id=\"T_4c1ce_row4_col3\" class=\"data row4 col3\" >Calcutta</td>\n",
              "    </tr>\n",
              "    <tr>\n",
              "      <td id=\"T_4c1ce_row5_col0\" class=\"data row5 col0\" >865477</td>\n",
              "      <td id=\"T_4c1ce_row5_col1\" class=\"data row5 col1\" >Madhuri</td>\n",
              "      <td id=\"T_4c1ce_row5_col2\" class=\"data row5 col2\" >Sales</td>\n",
              "      <td id=\"T_4c1ce_row5_col3\" class=\"data row5 col3\" >Calcutta</td>\n",
              "    </tr>\n",
              "    <tr>\n",
              "      <td id=\"T_4c1ce_row6_col0\" class=\"data row6 col0\" >223112</td>\n",
              "      <td id=\"T_4c1ce_row6_col1\" class=\"data row6 col1\" >Sania</td>\n",
              "      <td id=\"T_4c1ce_row6_col2\" class=\"data row6 col2\" >Accounts</td>\n",
              "      <td id=\"T_4c1ce_row6_col3\" class=\"data row6 col3\" >Calcutta</td>\n",
              "    </tr>\n",
              "    <tr>\n",
              "      <td id=\"T_4c1ce_row7_col0\" class=\"data row7 col0\" >997445</td>\n",
              "      <td id=\"T_4c1ce_row7_col1\" class=\"data row7 col1\" >Jagmohan</td>\n",
              "      <td id=\"T_4c1ce_row7_col2\" class=\"data row7 col2\" >Accounts</td>\n",
              "      <td id=\"T_4c1ce_row7_col3\" class=\"data row7 col3\" >Calcutta</td>\n",
              "    </tr>\n",
              "    <tr>\n",
              "      <td id=\"T_4c1ce_row8_col0\" class=\"data row8 col0\" >822134</td>\n",
              "      <td id=\"T_4c1ce_row8_col1\" class=\"data row8 col1\" >Rahul</td>\n",
              "      <td id=\"T_4c1ce_row8_col2\" class=\"data row8 col2\" >Accounts</td>\n",
              "      <td id=\"T_4c1ce_row8_col3\" class=\"data row8 col3\" >Calcutta</td>\n",
              "    </tr>\n",
              "    <tr>\n",
              "      <td id=\"T_4c1ce_row9_col0\" class=\"data row9 col0\" >989007</td>\n",
              "      <td id=\"T_4c1ce_row9_col1\" class=\"data row9 col1\" >Sourav</td>\n",
              "      <td id=\"T_4c1ce_row9_col2\" class=\"data row9 col2\" >Production</td>\n",
              "      <td id=\"T_4c1ce_row9_col3\" class=\"data row9 col3\" >Bombay</td>\n",
              "    </tr>\n",
              "    <tr>\n",
              "      <td id=\"T_4c1ce_row10_col0\" class=\"data row10 col0\" >123980</td>\n",
              "      <td id=\"T_4c1ce_row10_col1\" class=\"data row10 col1\" >Mahender</td>\n",
              "      <td id=\"T_4c1ce_row10_col2\" class=\"data row10 col2\" >Production</td>\n",
              "      <td id=\"T_4c1ce_row10_col3\" class=\"data row10 col3\" >Bombay</td>\n",
              "    </tr>\n",
              "    <tr>\n",
              "      <td id=\"T_4c1ce_row11_col0\" class=\"data row11 col0\" >349870</td>\n",
              "      <td id=\"T_4c1ce_row11_col1\" class=\"data row11 col1\" >Rani</td>\n",
              "      <td id=\"T_4c1ce_row11_col2\" class=\"data row11 col2\" >Production</td>\n",
              "      <td id=\"T_4c1ce_row11_col3\" class=\"data row11 col3\" >Bombay</td>\n",
              "    </tr>\n",
              "    <tr>\n",
              "      <td id=\"T_4c1ce_row12_col0\" class=\"data row12 col0\" >None</td>\n",
              "      <td id=\"T_4c1ce_row12_col1\" class=\"data row12 col1\" >None</td>\n",
              "      <td id=\"T_4c1ce_row12_col2\" class=\"data row12 col2\" >Research</td>\n",
              "      <td id=\"T_4c1ce_row12_col3\" class=\"data row12 col3\" >Delhi</td>\n",
              "    </tr>\n",
              "    <tr>\n",
              "      <td id=\"T_4c1ce_row13_col0\" class=\"data row13 col0\" >546224</td>\n",
              "      <td id=\"T_4c1ce_row13_col1\" class=\"data row13 col1\" >Chettri</td>\n",
              "      <td id=\"T_4c1ce_row13_col2\" class=\"data row13 col2\" >None</td>\n",
              "      <td id=\"T_4c1ce_row13_col3\" class=\"data row13 col3\" >None</td>\n",
              "    </tr>\n",
              "  </tbody>\n",
              "</table>\n"
            ]
          },
          "metadata": {},
          "execution_count": 54
        }
      ]
    },
    {
      "cell_type": "code",
      "source": [
        "sql = 'select deptname,round(sum(salary),0) payroll from empl FULL JOIN dept ON empl.deptid = dept.deptid \\\n",
        "group by deptname'\n",
        "runSelect(sql)"
      ],
      "metadata": {
        "id": "EAI2kiYP3p9O",
        "outputId": "e5d89216-2997-41d4-9c5a-f68def50477f",
        "colab": {
          "base_uri": "https://localhost:8080/",
          "height": 238
        }
      },
      "execution_count": null,
      "outputs": [
        {
          "output_type": "execute_result",
          "data": {
            "text/plain": [
              "<pandas.io.formats.style.Styler at 0x79b4388c6260>"
            ],
            "text/html": [
              "<style type=\"text/css\">\n",
              "</style>\n",
              "<table id=\"T_f56a2\" class=\"dataframe\">\n",
              "  <thead>\n",
              "    <tr>\n",
              "      <th id=\"T_f56a2_level0_col0\" class=\"col_heading level0 col0\" >deptname</th>\n",
              "      <th id=\"T_f56a2_level0_col1\" class=\"col_heading level0 col1\" >payroll</th>\n",
              "    </tr>\n",
              "  </thead>\n",
              "  <tbody>\n",
              "    <tr>\n",
              "      <td id=\"T_f56a2_row0_col0\" class=\"data row0 col0\" >None</td>\n",
              "      <td id=\"T_f56a2_row0_col1\" class=\"data row0 col1\" >40000</td>\n",
              "    </tr>\n",
              "    <tr>\n",
              "      <td id=\"T_f56a2_row1_col0\" class=\"data row1 col0\" >Research</td>\n",
              "      <td id=\"T_f56a2_row1_col1\" class=\"data row1 col1\" >None</td>\n",
              "    </tr>\n",
              "    <tr>\n",
              "      <td id=\"T_f56a2_row2_col0\" class=\"data row2 col0\" >Corporate</td>\n",
              "      <td id=\"T_f56a2_row2_col1\" class=\"data row2 col1\" >150000</td>\n",
              "    </tr>\n",
              "    <tr>\n",
              "      <td id=\"T_f56a2_row3_col0\" class=\"data row3 col0\" >Accounts</td>\n",
              "      <td id=\"T_f56a2_row3_col1\" class=\"data row3 col1\" >77000</td>\n",
              "    </tr>\n",
              "    <tr>\n",
              "      <td id=\"T_f56a2_row4_col0\" class=\"data row4 col0\" >Sales</td>\n",
              "      <td id=\"T_f56a2_row4_col1\" class=\"data row4 col1\" >55000</td>\n",
              "    </tr>\n",
              "    <tr>\n",
              "      <td id=\"T_f56a2_row5_col0\" class=\"data row5 col0\" >Production</td>\n",
              "      <td id=\"T_f56a2_row5_col1\" class=\"data row5 col1\" >54000</td>\n",
              "    </tr>\n",
              "  </tbody>\n",
              "</table>\n"
            ]
          },
          "metadata": {},
          "execution_count": 55
        }
      ]
    },
    {
      "cell_type": "markdown",
      "source": [
        "## Recursive Joins"
      ],
      "metadata": {
        "id": "6nm2xAfn6pIV"
      }
    },
    {
      "cell_type": "markdown",
      "source": [
        "### Three Tables"
      ],
      "metadata": {
        "id": "A1KCGwwyB02z"
      }
    },
    {
      "cell_type": "code",
      "source": [
        "cmd = \"select w.lastname , w.deptID, '>' linksTo  , d.deptID ,d.managerID,'<' linksTo, m.empID, m.lastname \\\n",
        "        from Empl w, Dept d, Empl m \\\n",
        "        where w.deptID = d.deptID   \\\n",
        "        and d.managerID = m.empID \\\n",
        "    \"\n",
        "runSelect(cmd)"
      ],
      "metadata": {
        "colab": {
          "base_uri": "https://localhost:8080/",
          "height": 426
        },
        "id": "W17nS5R7AL0J",
        "outputId": "e377220e-ff0f-4875-f4cf-f4e0e0febce5"
      },
      "execution_count": null,
      "outputs": [
        {
          "output_type": "execute_result",
          "data": {
            "text/plain": [
              "<pandas.io.formats.style.Styler at 0x79b438930310>"
            ],
            "text/html": [
              "<style type=\"text/css\">\n",
              "</style>\n",
              "<table id=\"T_8f4cf\" class=\"dataframe\">\n",
              "  <thead>\n",
              "    <tr>\n",
              "      <th id=\"T_8f4cf_level0_col0\" class=\"col_heading level0 col0\" >lastname</th>\n",
              "      <th id=\"T_8f4cf_level0_col1\" class=\"col_heading level0 col1\" >deptid</th>\n",
              "      <th id=\"T_8f4cf_level0_col2\" class=\"col_heading level0 col2\" >linksto</th>\n",
              "      <th id=\"T_8f4cf_level0_col3\" class=\"col_heading level0 col3\" >deptid</th>\n",
              "      <th id=\"T_8f4cf_level0_col4\" class=\"col_heading level0 col4\" >managerid</th>\n",
              "      <th id=\"T_8f4cf_level0_col5\" class=\"col_heading level0 col5\" >linksto</th>\n",
              "      <th id=\"T_8f4cf_level0_col6\" class=\"col_heading level0 col6\" >empid</th>\n",
              "      <th id=\"T_8f4cf_level0_col7\" class=\"col_heading level0 col7\" >lastname</th>\n",
              "    </tr>\n",
              "  </thead>\n",
              "  <tbody>\n",
              "    <tr>\n",
              "      <td id=\"T_8f4cf_row0_col0\" class=\"data row0 col0\" >Karthikeyan</td>\n",
              "      <td id=\"T_8f4cf_row0_col1\" class=\"data row0 col1\" >10</td>\n",
              "      <td id=\"T_8f4cf_row0_col2\" class=\"data row0 col2\" >></td>\n",
              "      <td id=\"T_8f4cf_row0_col3\" class=\"data row0 col3\" >10</td>\n",
              "      <td id=\"T_8f4cf_row0_col4\" class=\"data row0 col4\" >299034</td>\n",
              "      <td id=\"T_8f4cf_row0_col5\" class=\"data row0 col5\" ><</td>\n",
              "      <td id=\"T_8f4cf_row0_col6\" class=\"data row0 col6\" >299034</td>\n",
              "      <td id=\"T_8f4cf_row0_col7\" class=\"data row0 col7\" >Ganesan</td>\n",
              "    </tr>\n",
              "    <tr>\n",
              "      <td id=\"T_8f4cf_row1_col0\" class=\"data row1 col0\" >Ganesan</td>\n",
              "      <td id=\"T_8f4cf_row1_col1\" class=\"data row1 col1\" >10</td>\n",
              "      <td id=\"T_8f4cf_row1_col2\" class=\"data row1 col2\" >></td>\n",
              "      <td id=\"T_8f4cf_row1_col3\" class=\"data row1 col3\" >10</td>\n",
              "      <td id=\"T_8f4cf_row1_col4\" class=\"data row1 col4\" >299034</td>\n",
              "      <td id=\"T_8f4cf_row1_col5\" class=\"data row1 col5\" ><</td>\n",
              "      <td id=\"T_8f4cf_row1_col6\" class=\"data row1 col6\" >299034</td>\n",
              "      <td id=\"T_8f4cf_row1_col7\" class=\"data row1 col7\" >Ganesan</td>\n",
              "    </tr>\n",
              "    <tr>\n",
              "      <td id=\"T_8f4cf_row2_col0\" class=\"data row2 col0\" >Bacchan</td>\n",
              "      <td id=\"T_8f4cf_row2_col1\" class=\"data row2 col1\" >10</td>\n",
              "      <td id=\"T_8f4cf_row2_col2\" class=\"data row2 col2\" >></td>\n",
              "      <td id=\"T_8f4cf_row2_col3\" class=\"data row2 col3\" >10</td>\n",
              "      <td id=\"T_8f4cf_row2_col4\" class=\"data row2 col4\" >299034</td>\n",
              "      <td id=\"T_8f4cf_row2_col5\" class=\"data row2 col5\" ><</td>\n",
              "      <td id=\"T_8f4cf_row2_col6\" class=\"data row2 col6\" >299034</td>\n",
              "      <td id=\"T_8f4cf_row2_col7\" class=\"data row2 col7\" >Ganesan</td>\n",
              "    </tr>\n",
              "    <tr>\n",
              "      <td id=\"T_8f4cf_row3_col0\" class=\"data row3 col0\" >Sehwag</td>\n",
              "      <td id=\"T_8f4cf_row3_col1\" class=\"data row3 col1\" >20</td>\n",
              "      <td id=\"T_8f4cf_row3_col2\" class=\"data row3 col2\" >></td>\n",
              "      <td id=\"T_8f4cf_row3_col3\" class=\"data row3 col3\" >20</td>\n",
              "      <td id=\"T_8f4cf_row3_col4\" class=\"data row3 col4\" >239456</td>\n",
              "      <td id=\"T_8f4cf_row3_col5\" class=\"data row3 col5\" ><</td>\n",
              "      <td id=\"T_8f4cf_row3_col6\" class=\"data row3 col6\" >239456</td>\n",
              "      <td id=\"T_8f4cf_row3_col7\" class=\"data row3 col7\" >Khan</td>\n",
              "    </tr>\n",
              "    <tr>\n",
              "      <td id=\"T_8f4cf_row4_col0\" class=\"data row4 col0\" >Khan</td>\n",
              "      <td id=\"T_8f4cf_row4_col1\" class=\"data row4 col1\" >20</td>\n",
              "      <td id=\"T_8f4cf_row4_col2\" class=\"data row4 col2\" >></td>\n",
              "      <td id=\"T_8f4cf_row4_col3\" class=\"data row4 col3\" >20</td>\n",
              "      <td id=\"T_8f4cf_row4_col4\" class=\"data row4 col4\" >239456</td>\n",
              "      <td id=\"T_8f4cf_row4_col5\" class=\"data row4 col5\" ><</td>\n",
              "      <td id=\"T_8f4cf_row4_col6\" class=\"data row4 col6\" >239456</td>\n",
              "      <td id=\"T_8f4cf_row4_col7\" class=\"data row4 col7\" >Khan</td>\n",
              "    </tr>\n",
              "    <tr>\n",
              "      <td id=\"T_8f4cf_row5_col0\" class=\"data row5 col0\" >Dikshit</td>\n",
              "      <td id=\"T_8f4cf_row5_col1\" class=\"data row5 col1\" >20</td>\n",
              "      <td id=\"T_8f4cf_row5_col2\" class=\"data row5 col2\" >></td>\n",
              "      <td id=\"T_8f4cf_row5_col3\" class=\"data row5 col3\" >20</td>\n",
              "      <td id=\"T_8f4cf_row5_col4\" class=\"data row5 col4\" >239456</td>\n",
              "      <td id=\"T_8f4cf_row5_col5\" class=\"data row5 col5\" ><</td>\n",
              "      <td id=\"T_8f4cf_row5_col6\" class=\"data row5 col6\" >239456</td>\n",
              "      <td id=\"T_8f4cf_row5_col7\" class=\"data row5 col7\" >Khan</td>\n",
              "    </tr>\n",
              "    <tr>\n",
              "      <td id=\"T_8f4cf_row6_col0\" class=\"data row6 col0\" >Mirza</td>\n",
              "      <td id=\"T_8f4cf_row6_col1\" class=\"data row6 col1\" >30</td>\n",
              "      <td id=\"T_8f4cf_row6_col2\" class=\"data row6 col2\" >></td>\n",
              "      <td id=\"T_8f4cf_row6_col3\" class=\"data row6 col3\" >30</td>\n",
              "      <td id=\"T_8f4cf_row6_col4\" class=\"data row6 col4\" >822134</td>\n",
              "      <td id=\"T_8f4cf_row6_col5\" class=\"data row6 col5\" ><</td>\n",
              "      <td id=\"T_8f4cf_row6_col6\" class=\"data row6 col6\" >822134</td>\n",
              "      <td id=\"T_8f4cf_row6_col7\" class=\"data row6 col7\" >Dravid</td>\n",
              "    </tr>\n",
              "    <tr>\n",
              "      <td id=\"T_8f4cf_row7_col0\" class=\"data row7 col0\" >Dalmia</td>\n",
              "      <td id=\"T_8f4cf_row7_col1\" class=\"data row7 col1\" >30</td>\n",
              "      <td id=\"T_8f4cf_row7_col2\" class=\"data row7 col2\" >></td>\n",
              "      <td id=\"T_8f4cf_row7_col3\" class=\"data row7 col3\" >30</td>\n",
              "      <td id=\"T_8f4cf_row7_col4\" class=\"data row7 col4\" >822134</td>\n",
              "      <td id=\"T_8f4cf_row7_col5\" class=\"data row7 col5\" ><</td>\n",
              "      <td id=\"T_8f4cf_row7_col6\" class=\"data row7 col6\" >822134</td>\n",
              "      <td id=\"T_8f4cf_row7_col7\" class=\"data row7 col7\" >Dravid</td>\n",
              "    </tr>\n",
              "    <tr>\n",
              "      <td id=\"T_8f4cf_row8_col0\" class=\"data row8 col0\" >Dravid</td>\n",
              "      <td id=\"T_8f4cf_row8_col1\" class=\"data row8 col1\" >30</td>\n",
              "      <td id=\"T_8f4cf_row8_col2\" class=\"data row8 col2\" >></td>\n",
              "      <td id=\"T_8f4cf_row8_col3\" class=\"data row8 col3\" >30</td>\n",
              "      <td id=\"T_8f4cf_row8_col4\" class=\"data row8 col4\" >822134</td>\n",
              "      <td id=\"T_8f4cf_row8_col5\" class=\"data row8 col5\" ><</td>\n",
              "      <td id=\"T_8f4cf_row8_col6\" class=\"data row8 col6\" >822134</td>\n",
              "      <td id=\"T_8f4cf_row8_col7\" class=\"data row8 col7\" >Dravid</td>\n",
              "    </tr>\n",
              "    <tr>\n",
              "      <td id=\"T_8f4cf_row9_col0\" class=\"data row9 col0\" >Ganguly</td>\n",
              "      <td id=\"T_8f4cf_row9_col1\" class=\"data row9 col1\" >40</td>\n",
              "      <td id=\"T_8f4cf_row9_col2\" class=\"data row9 col2\" >></td>\n",
              "      <td id=\"T_8f4cf_row9_col3\" class=\"data row9 col3\" >40</td>\n",
              "      <td id=\"T_8f4cf_row9_col4\" class=\"data row9 col4\" >349870</td>\n",
              "      <td id=\"T_8f4cf_row9_col5\" class=\"data row9 col5\" ><</td>\n",
              "      <td id=\"T_8f4cf_row9_col6\" class=\"data row9 col6\" >349870</td>\n",
              "      <td id=\"T_8f4cf_row9_col7\" class=\"data row9 col7\" >Mukherjee</td>\n",
              "    </tr>\n",
              "    <tr>\n",
              "      <td id=\"T_8f4cf_row10_col0\" class=\"data row10 col0\" >Dhoni</td>\n",
              "      <td id=\"T_8f4cf_row10_col1\" class=\"data row10 col1\" >40</td>\n",
              "      <td id=\"T_8f4cf_row10_col2\" class=\"data row10 col2\" >></td>\n",
              "      <td id=\"T_8f4cf_row10_col3\" class=\"data row10 col3\" >40</td>\n",
              "      <td id=\"T_8f4cf_row10_col4\" class=\"data row10 col4\" >349870</td>\n",
              "      <td id=\"T_8f4cf_row10_col5\" class=\"data row10 col5\" ><</td>\n",
              "      <td id=\"T_8f4cf_row10_col6\" class=\"data row10 col6\" >349870</td>\n",
              "      <td id=\"T_8f4cf_row10_col7\" class=\"data row10 col7\" >Mukherjee</td>\n",
              "    </tr>\n",
              "    <tr>\n",
              "      <td id=\"T_8f4cf_row11_col0\" class=\"data row11 col0\" >Mukherjee</td>\n",
              "      <td id=\"T_8f4cf_row11_col1\" class=\"data row11 col1\" >40</td>\n",
              "      <td id=\"T_8f4cf_row11_col2\" class=\"data row11 col2\" >></td>\n",
              "      <td id=\"T_8f4cf_row11_col3\" class=\"data row11 col3\" >40</td>\n",
              "      <td id=\"T_8f4cf_row11_col4\" class=\"data row11 col4\" >349870</td>\n",
              "      <td id=\"T_8f4cf_row11_col5\" class=\"data row11 col5\" ><</td>\n",
              "      <td id=\"T_8f4cf_row11_col6\" class=\"data row11 col6\" >349870</td>\n",
              "      <td id=\"T_8f4cf_row11_col7\" class=\"data row11 col7\" >Mukherjee</td>\n",
              "    </tr>\n",
              "  </tbody>\n",
              "</table>\n"
            ]
          },
          "metadata": {},
          "execution_count": 56
        }
      ]
    },
    {
      "cell_type": "markdown",
      "source": [
        "### Self Join / Single Table"
      ],
      "metadata": {
        "id": "jeknsMbjCA2A"
      }
    },
    {
      "cell_type": "code",
      "source": [
        "cmd = \"Select w.FirstName, w.JobDesc, w.DeptID, \\\n",
        "    ' hired by ' hiredby, \\\n",
        "    m.FirstName,m.JobDesc,m.DeptID \\\n",
        "    from empl w, empl m \\\n",
        "    where w.HiredBy = m.EmpID\"\n",
        "\n",
        "runSelect(cmd)"
      ],
      "metadata": {
        "colab": {
          "base_uri": "https://localhost:8080/",
          "height": 426
        },
        "id": "iDPmUw9-CEBH",
        "outputId": "a3286c20-f55d-4feb-9291-cc32038823dc"
      },
      "execution_count": null,
      "outputs": [
        {
          "output_type": "execute_result",
          "data": {
            "text/plain": [
              "<pandas.io.formats.style.Styler at 0x79b4388c7bb0>"
            ],
            "text/html": [
              "<style type=\"text/css\">\n",
              "</style>\n",
              "<table id=\"T_16ab0\" class=\"dataframe\">\n",
              "  <thead>\n",
              "    <tr>\n",
              "      <th id=\"T_16ab0_level0_col0\" class=\"col_heading level0 col0\" >firstname</th>\n",
              "      <th id=\"T_16ab0_level0_col1\" class=\"col_heading level0 col1\" >jobdesc</th>\n",
              "      <th id=\"T_16ab0_level0_col2\" class=\"col_heading level0 col2\" >deptid</th>\n",
              "      <th id=\"T_16ab0_level0_col3\" class=\"col_heading level0 col3\" >hiredby</th>\n",
              "      <th id=\"T_16ab0_level0_col4\" class=\"col_heading level0 col4\" >firstname</th>\n",
              "      <th id=\"T_16ab0_level0_col5\" class=\"col_heading level0 col5\" >jobdesc</th>\n",
              "      <th id=\"T_16ab0_level0_col6\" class=\"col_heading level0 col6\" >deptid</th>\n",
              "    </tr>\n",
              "  </thead>\n",
              "  <tbody>\n",
              "    <tr>\n",
              "      <td id=\"T_16ab0_row0_col0\" class=\"data row0 col0\" >Rani</td>\n",
              "      <td id=\"T_16ab0_row0_col1\" class=\"data row0 col1\" >Manager</td>\n",
              "      <td id=\"T_16ab0_row0_col2\" class=\"data row0 col2\" >40</td>\n",
              "      <td id=\"T_16ab0_row0_col3\" class=\"data row0 col3\" > hired by </td>\n",
              "      <td id=\"T_16ab0_row0_col4\" class=\"data row0 col4\" >Amitabh</td>\n",
              "      <td id=\"T_16ab0_row0_col5\" class=\"data row0 col5\" >Executive</td>\n",
              "      <td id=\"T_16ab0_row0_col6\" class=\"data row0 col6\" >10</td>\n",
              "    </tr>\n",
              "    <tr>\n",
              "      <td id=\"T_16ab0_row1_col0\" class=\"data row1 col0\" >Madhuri</td>\n",
              "      <td id=\"T_16ab0_row1_col1\" class=\"data row1 col1\" >Clerk</td>\n",
              "      <td id=\"T_16ab0_row1_col2\" class=\"data row1 col2\" >20</td>\n",
              "      <td id=\"T_16ab0_row1_col3\" class=\"data row1 col3\" > hired by </td>\n",
              "      <td id=\"T_16ab0_row1_col4\" class=\"data row1 col4\" >Shahrukh</td>\n",
              "      <td id=\"T_16ab0_row1_col5\" class=\"data row1 col5\" >Manager</td>\n",
              "      <td id=\"T_16ab0_row1_col6\" class=\"data row1 col6\" >20</td>\n",
              "    </tr>\n",
              "    <tr>\n",
              "      <td id=\"T_16ab0_row2_col0\" class=\"data row2 col0\" >Shahrukh</td>\n",
              "      <td id=\"T_16ab0_row2_col1\" class=\"data row2 col1\" >Manager</td>\n",
              "      <td id=\"T_16ab0_row2_col2\" class=\"data row2 col2\" >20</td>\n",
              "      <td id=\"T_16ab0_row2_col3\" class=\"data row2 col3\" > hired by </td>\n",
              "      <td id=\"T_16ab0_row2_col4\" class=\"data row2 col4\" >Amitabh</td>\n",
              "      <td id=\"T_16ab0_row2_col5\" class=\"data row2 col5\" >Executive</td>\n",
              "      <td id=\"T_16ab0_row2_col6\" class=\"data row2 col6\" >10</td>\n",
              "    </tr>\n",
              "    <tr>\n",
              "      <td id=\"T_16ab0_row3_col0\" class=\"data row3 col0\" >Virender</td>\n",
              "      <td id=\"T_16ab0_row3_col1\" class=\"data row3 col1\" >Cus_Rep</td>\n",
              "      <td id=\"T_16ab0_row3_col2\" class=\"data row3 col2\" >20</td>\n",
              "      <td id=\"T_16ab0_row3_col3\" class=\"data row3 col3\" > hired by </td>\n",
              "      <td id=\"T_16ab0_row3_col4\" class=\"data row3 col4\" >Shahrukh</td>\n",
              "      <td id=\"T_16ab0_row3_col5\" class=\"data row3 col5\" >Manager</td>\n",
              "      <td id=\"T_16ab0_row3_col6\" class=\"data row3 col6\" >20</td>\n",
              "    </tr>\n",
              "    <tr>\n",
              "      <td id=\"T_16ab0_row4_col0\" class=\"data row4 col0\" >Mahender</td>\n",
              "      <td id=\"T_16ab0_row4_col1\" class=\"data row4 col1\" >Clerk</td>\n",
              "      <td id=\"T_16ab0_row4_col2\" class=\"data row4 col2\" >40</td>\n",
              "      <td id=\"T_16ab0_row4_col3\" class=\"data row4 col3\" > hired by </td>\n",
              "      <td id=\"T_16ab0_row4_col4\" class=\"data row4 col4\" >Rani</td>\n",
              "      <td id=\"T_16ab0_row4_col5\" class=\"data row4 col5\" >Manager</td>\n",
              "      <td id=\"T_16ab0_row4_col6\" class=\"data row4 col6\" >40</td>\n",
              "    </tr>\n",
              "    <tr>\n",
              "      <td id=\"T_16ab0_row5_col0\" class=\"data row5 col0\" >Rahul</td>\n",
              "      <td id=\"T_16ab0_row5_col1\" class=\"data row5 col1\" >Sr Manager</td>\n",
              "      <td id=\"T_16ab0_row5_col2\" class=\"data row5 col2\" >30</td>\n",
              "      <td id=\"T_16ab0_row5_col3\" class=\"data row5 col3\" > hired by </td>\n",
              "      <td id=\"T_16ab0_row5_col4\" class=\"data row5 col4\" >Amitabh</td>\n",
              "      <td id=\"T_16ab0_row5_col5\" class=\"data row5 col5\" >Executive</td>\n",
              "      <td id=\"T_16ab0_row5_col6\" class=\"data row5 col6\" >10</td>\n",
              "    </tr>\n",
              "    <tr>\n",
              "      <td id=\"T_16ab0_row6_col0\" class=\"data row6 col0\" >Jagmohan</td>\n",
              "      <td id=\"T_16ab0_row6_col1\" class=\"data row6 col1\" >Clerk</td>\n",
              "      <td id=\"T_16ab0_row6_col2\" class=\"data row6 col2\" >30</td>\n",
              "      <td id=\"T_16ab0_row6_col3\" class=\"data row6 col3\" > hired by </td>\n",
              "      <td id=\"T_16ab0_row6_col4\" class=\"data row6 col4\" >Rahul</td>\n",
              "      <td id=\"T_16ab0_row6_col5\" class=\"data row6 col5\" >Sr Manager</td>\n",
              "      <td id=\"T_16ab0_row6_col6\" class=\"data row6 col6\" >30</td>\n",
              "    </tr>\n",
              "    <tr>\n",
              "      <td id=\"T_16ab0_row7_col0\" class=\"data row7 col0\" >Sourav</td>\n",
              "      <td id=\"T_16ab0_row7_col1\" class=\"data row7 col1\" >Cus_Rep</td>\n",
              "      <td id=\"T_16ab0_row7_col2\" class=\"data row7 col2\" >40</td>\n",
              "      <td id=\"T_16ab0_row7_col3\" class=\"data row7 col3\" > hired by </td>\n",
              "      <td id=\"T_16ab0_row7_col4\" class=\"data row7 col4\" >Rekha</td>\n",
              "      <td id=\"T_16ab0_row7_col5\" class=\"data row7 col5\" >Director</td>\n",
              "      <td id=\"T_16ab0_row7_col6\" class=\"data row7 col6\" >10</td>\n",
              "    </tr>\n",
              "    <tr>\n",
              "      <td id=\"T_16ab0_row8_col0\" class=\"data row8 col0\" >Rekha</td>\n",
              "      <td id=\"T_16ab0_row8_col1\" class=\"data row8 col1\" >Director</td>\n",
              "      <td id=\"T_16ab0_row8_col2\" class=\"data row8 col2\" >10</td>\n",
              "      <td id=\"T_16ab0_row8_col3\" class=\"data row8 col3\" > hired by </td>\n",
              "      <td id=\"T_16ab0_row8_col4\" class=\"data row8 col4\" >Amitabh</td>\n",
              "      <td id=\"T_16ab0_row8_col5\" class=\"data row8 col5\" >Executive</td>\n",
              "      <td id=\"T_16ab0_row8_col6\" class=\"data row8 col6\" >10</td>\n",
              "    </tr>\n",
              "    <tr>\n",
              "      <td id=\"T_16ab0_row9_col0\" class=\"data row9 col0\" >Narayan</td>\n",
              "      <td id=\"T_16ab0_row9_col1\" class=\"data row9 col1\" >Secretary</td>\n",
              "      <td id=\"T_16ab0_row9_col2\" class=\"data row9 col2\" >10</td>\n",
              "      <td id=\"T_16ab0_row9_col3\" class=\"data row9 col3\" > hired by </td>\n",
              "      <td id=\"T_16ab0_row9_col4\" class=\"data row9 col4\" >Rekha</td>\n",
              "      <td id=\"T_16ab0_row9_col5\" class=\"data row9 col5\" >Director</td>\n",
              "      <td id=\"T_16ab0_row9_col6\" class=\"data row9 col6\" >10</td>\n",
              "    </tr>\n",
              "    <tr>\n",
              "      <td id=\"T_16ab0_row10_col0\" class=\"data row10 col0\" >Chettri</td>\n",
              "      <td id=\"T_16ab0_row10_col1\" class=\"data row10 col1\" >Dy Manager</td>\n",
              "      <td id=\"T_16ab0_row10_col2\" class=\"data row10 col2\" >70</td>\n",
              "      <td id=\"T_16ab0_row10_col3\" class=\"data row10 col3\" > hired by </td>\n",
              "      <td id=\"T_16ab0_row10_col4\" class=\"data row10 col4\" >Rani</td>\n",
              "      <td id=\"T_16ab0_row10_col5\" class=\"data row10 col5\" >Manager</td>\n",
              "      <td id=\"T_16ab0_row10_col6\" class=\"data row10 col6\" >40</td>\n",
              "    </tr>\n",
              "    <tr>\n",
              "      <td id=\"T_16ab0_row11_col0\" class=\"data row11 col0\" >Sania</td>\n",
              "      <td id=\"T_16ab0_row11_col1\" class=\"data row11 col1\" >Cus_Rep</td>\n",
              "      <td id=\"T_16ab0_row11_col2\" class=\"data row11 col2\" >30</td>\n",
              "      <td id=\"T_16ab0_row11_col3\" class=\"data row11 col3\" > hired by </td>\n",
              "      <td id=\"T_16ab0_row11_col4\" class=\"data row11 col4\" >Rahul</td>\n",
              "      <td id=\"T_16ab0_row11_col5\" class=\"data row11 col5\" >Sr Manager</td>\n",
              "      <td id=\"T_16ab0_row11_col6\" class=\"data row11 col6\" >30</td>\n",
              "    </tr>\n",
              "  </tbody>\n",
              "</table>\n"
            ]
          },
          "metadata": {},
          "execution_count": 57
        }
      ]
    },
    {
      "cell_type": "code",
      "source": [
        "from datetime import datetime\n",
        "import pytz\n",
        "print('Last tested  ',datetime.now(pytz.timezone('Asia/Kolkata')))"
      ],
      "metadata": {
        "colab": {
          "base_uri": "https://localhost:8080/"
        },
        "id": "wjBXJVhM605H",
        "outputId": "aaaf0042-848c-473d-e5d3-08b0fe207e7b"
      },
      "execution_count": null,
      "outputs": [
        {
          "output_type": "stream",
          "name": "stdout",
          "text": [
            "Last tested   2023-12-30 14:30:29.330379+05:30\n"
          ]
        }
      ]
    },
    {
      "cell_type": "markdown",
      "source": [
        "#Transpose / Pivot\n",
        "https://www.sqlshack.com/how-to-use-the-crosstab-function-in-postgresql/"
      ],
      "metadata": {
        "id": "V6Bt-yTXSITF"
      }
    },
    {
      "cell_type": "code",
      "source": [
        "!psql -h localhost -p 5432 -Uupraxis -ddbpraxis -c \"create extension tablefunc;\""
      ],
      "metadata": {
        "colab": {
          "base_uri": "https://localhost:8080/"
        },
        "id": "ZgVgr1DfYs_R",
        "outputId": "50fe8c81-0a36-4296-ef68-1da68c6d7271"
      },
      "execution_count": null,
      "outputs": [
        {
          "output_type": "stream",
          "name": "stdout",
          "text": [
            "CREATE EXTENSION\n"
          ]
        }
      ]
    },
    {
      "cell_type": "code",
      "source": [
        "runSelect('select * from dept')"
      ],
      "metadata": {
        "colab": {
          "base_uri": "https://localhost:8080/",
          "height": 206
        },
        "id": "Sa9IpGXwSKWe",
        "outputId": "23ed3c6c-aed7-47b7-daa7-520c158ad786"
      },
      "execution_count": null,
      "outputs": [
        {
          "output_type": "execute_result",
          "data": {
            "text/plain": [
              "<pandas.io.formats.style.Styler at 0x79b4388c5f60>"
            ],
            "text/html": [
              "<style type=\"text/css\">\n",
              "</style>\n",
              "<table id=\"T_36d14\" class=\"dataframe\">\n",
              "  <thead>\n",
              "    <tr>\n",
              "      <th id=\"T_36d14_level0_col0\" class=\"col_heading level0 col0\" >deptid</th>\n",
              "      <th id=\"T_36d14_level0_col1\" class=\"col_heading level0 col1\" >deptname</th>\n",
              "      <th id=\"T_36d14_level0_col2\" class=\"col_heading level0 col2\" >managerid</th>\n",
              "      <th id=\"T_36d14_level0_col3\" class=\"col_heading level0 col3\" >location</th>\n",
              "      <th id=\"T_36d14_level0_col4\" class=\"col_heading level0 col4\" >locationid</th>\n",
              "    </tr>\n",
              "  </thead>\n",
              "  <tbody>\n",
              "    <tr>\n",
              "      <td id=\"T_36d14_row0_col0\" class=\"data row0 col0\" >10</td>\n",
              "      <td id=\"T_36d14_row0_col1\" class=\"data row0 col1\" >Corporate</td>\n",
              "      <td id=\"T_36d14_row0_col2\" class=\"data row0 col2\" >299034</td>\n",
              "      <td id=\"T_36d14_row0_col3\" class=\"data row0 col3\" >Calcutta</td>\n",
              "      <td id=\"T_36d14_row0_col4\" class=\"data row0 col4\" >1</td>\n",
              "    </tr>\n",
              "    <tr>\n",
              "      <td id=\"T_36d14_row1_col0\" class=\"data row1 col0\" >20</td>\n",
              "      <td id=\"T_36d14_row1_col1\" class=\"data row1 col1\" >Sales</td>\n",
              "      <td id=\"T_36d14_row1_col2\" class=\"data row1 col2\" >239456</td>\n",
              "      <td id=\"T_36d14_row1_col3\" class=\"data row1 col3\" >Calcutta</td>\n",
              "      <td id=\"T_36d14_row1_col4\" class=\"data row1 col4\" >1</td>\n",
              "    </tr>\n",
              "    <tr>\n",
              "      <td id=\"T_36d14_row2_col0\" class=\"data row2 col0\" >30</td>\n",
              "      <td id=\"T_36d14_row2_col1\" class=\"data row2 col1\" >Accounts</td>\n",
              "      <td id=\"T_36d14_row2_col2\" class=\"data row2 col2\" >822134</td>\n",
              "      <td id=\"T_36d14_row2_col3\" class=\"data row2 col3\" >Calcutta</td>\n",
              "      <td id=\"T_36d14_row2_col4\" class=\"data row2 col4\" >1</td>\n",
              "    </tr>\n",
              "    <tr>\n",
              "      <td id=\"T_36d14_row3_col0\" class=\"data row3 col0\" >40</td>\n",
              "      <td id=\"T_36d14_row3_col1\" class=\"data row3 col1\" >Production</td>\n",
              "      <td id=\"T_36d14_row3_col2\" class=\"data row3 col2\" >349870</td>\n",
              "      <td id=\"T_36d14_row3_col3\" class=\"data row3 col3\" >Bombay</td>\n",
              "      <td id=\"T_36d14_row3_col4\" class=\"data row3 col4\" >2</td>\n",
              "    </tr>\n",
              "    <tr>\n",
              "      <td id=\"T_36d14_row4_col0\" class=\"data row4 col0\" >60</td>\n",
              "      <td id=\"T_36d14_row4_col1\" class=\"data row4 col1\" >Research</td>\n",
              "      <td id=\"T_36d14_row4_col2\" class=\"data row4 col2\" >546224</td>\n",
              "      <td id=\"T_36d14_row4_col3\" class=\"data row4 col3\" >Delhi</td>\n",
              "      <td id=\"T_36d14_row4_col4\" class=\"data row4 col4\" >3</td>\n",
              "    </tr>\n",
              "  </tbody>\n",
              "</table>\n"
            ]
          },
          "metadata": {},
          "execution_count": 60
        }
      ]
    },
    {
      "cell_type": "code",
      "source": [
        "sql = \"\\\n",
        "select * from \\\n",
        "crosstab('select location::text,locationid::text,deptname::text from dept order by 1,2') as locations \\\n",
        "(location text, dep1 text, dep2 text, dep3 text, dep4 text)\\\n",
        "\"\n",
        "runSelect(sql)"
      ],
      "metadata": {
        "colab": {
          "base_uri": "https://localhost:8080/",
          "height": 143
        },
        "id": "Iukqh6TRVo-9",
        "outputId": "d8fe259a-47a3-4f5e-e2ac-e341123a546b"
      },
      "execution_count": null,
      "outputs": [
        {
          "output_type": "execute_result",
          "data": {
            "text/plain": [
              "<pandas.io.formats.style.Styler at 0x79b438932110>"
            ],
            "text/html": [
              "<style type=\"text/css\">\n",
              "</style>\n",
              "<table id=\"T_d5273\" class=\"dataframe\">\n",
              "  <thead>\n",
              "    <tr>\n",
              "      <th id=\"T_d5273_level0_col0\" class=\"col_heading level0 col0\" >location</th>\n",
              "      <th id=\"T_d5273_level0_col1\" class=\"col_heading level0 col1\" >dep1</th>\n",
              "      <th id=\"T_d5273_level0_col2\" class=\"col_heading level0 col2\" >dep2</th>\n",
              "      <th id=\"T_d5273_level0_col3\" class=\"col_heading level0 col3\" >dep3</th>\n",
              "      <th id=\"T_d5273_level0_col4\" class=\"col_heading level0 col4\" >dep4</th>\n",
              "    </tr>\n",
              "  </thead>\n",
              "  <tbody>\n",
              "    <tr>\n",
              "      <td id=\"T_d5273_row0_col0\" class=\"data row0 col0\" >Bombay</td>\n",
              "      <td id=\"T_d5273_row0_col1\" class=\"data row0 col1\" >Production</td>\n",
              "      <td id=\"T_d5273_row0_col2\" class=\"data row0 col2\" >None</td>\n",
              "      <td id=\"T_d5273_row0_col3\" class=\"data row0 col3\" >None</td>\n",
              "      <td id=\"T_d5273_row0_col4\" class=\"data row0 col4\" >None</td>\n",
              "    </tr>\n",
              "    <tr>\n",
              "      <td id=\"T_d5273_row1_col0\" class=\"data row1 col0\" >Calcutta</td>\n",
              "      <td id=\"T_d5273_row1_col1\" class=\"data row1 col1\" >Corporate</td>\n",
              "      <td id=\"T_d5273_row1_col2\" class=\"data row1 col2\" >Sales</td>\n",
              "      <td id=\"T_d5273_row1_col3\" class=\"data row1 col3\" >Accounts</td>\n",
              "      <td id=\"T_d5273_row1_col4\" class=\"data row1 col4\" >None</td>\n",
              "    </tr>\n",
              "    <tr>\n",
              "      <td id=\"T_d5273_row2_col0\" class=\"data row2 col0\" >Delhi</td>\n",
              "      <td id=\"T_d5273_row2_col1\" class=\"data row2 col1\" >Research</td>\n",
              "      <td id=\"T_d5273_row2_col2\" class=\"data row2 col2\" >None</td>\n",
              "      <td id=\"T_d5273_row2_col3\" class=\"data row2 col3\" >None</td>\n",
              "      <td id=\"T_d5273_row2_col4\" class=\"data row2 col4\" >None</td>\n",
              "    </tr>\n",
              "  </tbody>\n",
              "</table>\n"
            ]
          },
          "metadata": {},
          "execution_count": 61
        }
      ]
    },
    {
      "cell_type": "markdown",
      "source": [
        "# Insert | Delete | Update"
      ],
      "metadata": {
        "id": "REcqZ7K0DYqi"
      }
    },
    {
      "cell_type": "code",
      "source": [
        "runSelect(\"select * from dept\")"
      ],
      "metadata": {
        "id": "xGgCH9vGDlsI",
        "outputId": "7b7f77e0-c423-49eb-9846-1efe1b503c55",
        "colab": {
          "base_uri": "https://localhost:8080/",
          "height": 206
        }
      },
      "execution_count": 71,
      "outputs": [
        {
          "output_type": "execute_result",
          "data": {
            "text/plain": [
              "<pandas.io.formats.style.Styler at 0x79b438932650>"
            ],
            "text/html": [
              "<style type=\"text/css\">\n",
              "</style>\n",
              "<table id=\"T_825c0\" class=\"dataframe\">\n",
              "  <thead>\n",
              "    <tr>\n",
              "      <th id=\"T_825c0_level0_col0\" class=\"col_heading level0 col0\" >deptid</th>\n",
              "      <th id=\"T_825c0_level0_col1\" class=\"col_heading level0 col1\" >deptname</th>\n",
              "      <th id=\"T_825c0_level0_col2\" class=\"col_heading level0 col2\" >managerid</th>\n",
              "      <th id=\"T_825c0_level0_col3\" class=\"col_heading level0 col3\" >location</th>\n",
              "      <th id=\"T_825c0_level0_col4\" class=\"col_heading level0 col4\" >locationid</th>\n",
              "    </tr>\n",
              "  </thead>\n",
              "  <tbody>\n",
              "    <tr>\n",
              "      <td id=\"T_825c0_row0_col0\" class=\"data row0 col0\" >10</td>\n",
              "      <td id=\"T_825c0_row0_col1\" class=\"data row0 col1\" >Corporate</td>\n",
              "      <td id=\"T_825c0_row0_col2\" class=\"data row0 col2\" >299034</td>\n",
              "      <td id=\"T_825c0_row0_col3\" class=\"data row0 col3\" >Calcutta</td>\n",
              "      <td id=\"T_825c0_row0_col4\" class=\"data row0 col4\" >1</td>\n",
              "    </tr>\n",
              "    <tr>\n",
              "      <td id=\"T_825c0_row1_col0\" class=\"data row1 col0\" >20</td>\n",
              "      <td id=\"T_825c0_row1_col1\" class=\"data row1 col1\" >Sales</td>\n",
              "      <td id=\"T_825c0_row1_col2\" class=\"data row1 col2\" >239456</td>\n",
              "      <td id=\"T_825c0_row1_col3\" class=\"data row1 col3\" >Calcutta</td>\n",
              "      <td id=\"T_825c0_row1_col4\" class=\"data row1 col4\" >1</td>\n",
              "    </tr>\n",
              "    <tr>\n",
              "      <td id=\"T_825c0_row2_col0\" class=\"data row2 col0\" >30</td>\n",
              "      <td id=\"T_825c0_row2_col1\" class=\"data row2 col1\" >Accounts</td>\n",
              "      <td id=\"T_825c0_row2_col2\" class=\"data row2 col2\" >822134</td>\n",
              "      <td id=\"T_825c0_row2_col3\" class=\"data row2 col3\" >Calcutta</td>\n",
              "      <td id=\"T_825c0_row2_col4\" class=\"data row2 col4\" >1</td>\n",
              "    </tr>\n",
              "    <tr>\n",
              "      <td id=\"T_825c0_row3_col0\" class=\"data row3 col0\" >40</td>\n",
              "      <td id=\"T_825c0_row3_col1\" class=\"data row3 col1\" >Production</td>\n",
              "      <td id=\"T_825c0_row3_col2\" class=\"data row3 col2\" >349870</td>\n",
              "      <td id=\"T_825c0_row3_col3\" class=\"data row3 col3\" >Bombay</td>\n",
              "      <td id=\"T_825c0_row3_col4\" class=\"data row3 col4\" >2</td>\n",
              "    </tr>\n",
              "    <tr>\n",
              "      <td id=\"T_825c0_row4_col0\" class=\"data row4 col0\" >60</td>\n",
              "      <td id=\"T_825c0_row4_col1\" class=\"data row4 col1\" >Research</td>\n",
              "      <td id=\"T_825c0_row4_col2\" class=\"data row4 col2\" >546224</td>\n",
              "      <td id=\"T_825c0_row4_col3\" class=\"data row4 col3\" >Delhi</td>\n",
              "      <td id=\"T_825c0_row4_col4\" class=\"data row4 col4\" >3</td>\n",
              "    </tr>\n",
              "  </tbody>\n",
              "</table>\n"
            ]
          },
          "metadata": {},
          "execution_count": 71
        }
      ]
    },
    {
      "cell_type": "code",
      "source": [
        "runCmd(\"insert into Dept (DeptID, DeptName, ManagerID, Location,LocationID) VALUES \\\n",
        "\t('11', 'Corporate2', '299035', 'Calcutta','1')\")\n",
        "runSelect(\"select * from dept\")"
      ],
      "metadata": {
        "id": "iyW0EobdDuMY",
        "outputId": "eca10164-7ffc-4770-af49-ba190acf8337",
        "colab": {
          "base_uri": "https://localhost:8080/",
          "height": 255
        }
      },
      "execution_count": 72,
      "outputs": [
        {
          "output_type": "stream",
          "name": "stdout",
          "text": [
            "Command executed\n"
          ]
        },
        {
          "output_type": "execute_result",
          "data": {
            "text/plain": [
              "<pandas.io.formats.style.Styler at 0x79b4388a9300>"
            ],
            "text/html": [
              "<style type=\"text/css\">\n",
              "</style>\n",
              "<table id=\"T_b8454\" class=\"dataframe\">\n",
              "  <thead>\n",
              "    <tr>\n",
              "      <th id=\"T_b8454_level0_col0\" class=\"col_heading level0 col0\" >deptid</th>\n",
              "      <th id=\"T_b8454_level0_col1\" class=\"col_heading level0 col1\" >deptname</th>\n",
              "      <th id=\"T_b8454_level0_col2\" class=\"col_heading level0 col2\" >managerid</th>\n",
              "      <th id=\"T_b8454_level0_col3\" class=\"col_heading level0 col3\" >location</th>\n",
              "      <th id=\"T_b8454_level0_col4\" class=\"col_heading level0 col4\" >locationid</th>\n",
              "    </tr>\n",
              "  </thead>\n",
              "  <tbody>\n",
              "    <tr>\n",
              "      <td id=\"T_b8454_row0_col0\" class=\"data row0 col0\" >10</td>\n",
              "      <td id=\"T_b8454_row0_col1\" class=\"data row0 col1\" >Corporate</td>\n",
              "      <td id=\"T_b8454_row0_col2\" class=\"data row0 col2\" >299034</td>\n",
              "      <td id=\"T_b8454_row0_col3\" class=\"data row0 col3\" >Calcutta</td>\n",
              "      <td id=\"T_b8454_row0_col4\" class=\"data row0 col4\" >1</td>\n",
              "    </tr>\n",
              "    <tr>\n",
              "      <td id=\"T_b8454_row1_col0\" class=\"data row1 col0\" >20</td>\n",
              "      <td id=\"T_b8454_row1_col1\" class=\"data row1 col1\" >Sales</td>\n",
              "      <td id=\"T_b8454_row1_col2\" class=\"data row1 col2\" >239456</td>\n",
              "      <td id=\"T_b8454_row1_col3\" class=\"data row1 col3\" >Calcutta</td>\n",
              "      <td id=\"T_b8454_row1_col4\" class=\"data row1 col4\" >1</td>\n",
              "    </tr>\n",
              "    <tr>\n",
              "      <td id=\"T_b8454_row2_col0\" class=\"data row2 col0\" >30</td>\n",
              "      <td id=\"T_b8454_row2_col1\" class=\"data row2 col1\" >Accounts</td>\n",
              "      <td id=\"T_b8454_row2_col2\" class=\"data row2 col2\" >822134</td>\n",
              "      <td id=\"T_b8454_row2_col3\" class=\"data row2 col3\" >Calcutta</td>\n",
              "      <td id=\"T_b8454_row2_col4\" class=\"data row2 col4\" >1</td>\n",
              "    </tr>\n",
              "    <tr>\n",
              "      <td id=\"T_b8454_row3_col0\" class=\"data row3 col0\" >40</td>\n",
              "      <td id=\"T_b8454_row3_col1\" class=\"data row3 col1\" >Production</td>\n",
              "      <td id=\"T_b8454_row3_col2\" class=\"data row3 col2\" >349870</td>\n",
              "      <td id=\"T_b8454_row3_col3\" class=\"data row3 col3\" >Bombay</td>\n",
              "      <td id=\"T_b8454_row3_col4\" class=\"data row3 col4\" >2</td>\n",
              "    </tr>\n",
              "    <tr>\n",
              "      <td id=\"T_b8454_row4_col0\" class=\"data row4 col0\" >60</td>\n",
              "      <td id=\"T_b8454_row4_col1\" class=\"data row4 col1\" >Research</td>\n",
              "      <td id=\"T_b8454_row4_col2\" class=\"data row4 col2\" >546224</td>\n",
              "      <td id=\"T_b8454_row4_col3\" class=\"data row4 col3\" >Delhi</td>\n",
              "      <td id=\"T_b8454_row4_col4\" class=\"data row4 col4\" >3</td>\n",
              "    </tr>\n",
              "    <tr>\n",
              "      <td id=\"T_b8454_row5_col0\" class=\"data row5 col0\" >11</td>\n",
              "      <td id=\"T_b8454_row5_col1\" class=\"data row5 col1\" >Corporate2</td>\n",
              "      <td id=\"T_b8454_row5_col2\" class=\"data row5 col2\" >299035</td>\n",
              "      <td id=\"T_b8454_row5_col3\" class=\"data row5 col3\" >Calcutta</td>\n",
              "      <td id=\"T_b8454_row5_col4\" class=\"data row5 col4\" >1</td>\n",
              "    </tr>\n",
              "  </tbody>\n",
              "</table>\n"
            ]
          },
          "metadata": {},
          "execution_count": 72
        }
      ]
    },
    {
      "cell_type": "code",
      "source": [
        "runCmd(\"update dept set deptname = 'Marketing' where deptid = '11'\")\n",
        "runSelect(\"select * from dept\")"
      ],
      "metadata": {
        "id": "DqdnmD2pEQNq",
        "outputId": "5ebcb6fc-84ab-4732-ebbc-9426edebd529",
        "colab": {
          "base_uri": "https://localhost:8080/",
          "height": 255
        }
      },
      "execution_count": 73,
      "outputs": [
        {
          "output_type": "stream",
          "name": "stdout",
          "text": [
            "Command executed\n"
          ]
        },
        {
          "output_type": "execute_result",
          "data": {
            "text/plain": [
              "<pandas.io.formats.style.Styler at 0x79b4388a8160>"
            ],
            "text/html": [
              "<style type=\"text/css\">\n",
              "</style>\n",
              "<table id=\"T_1c6f4\" class=\"dataframe\">\n",
              "  <thead>\n",
              "    <tr>\n",
              "      <th id=\"T_1c6f4_level0_col0\" class=\"col_heading level0 col0\" >deptid</th>\n",
              "      <th id=\"T_1c6f4_level0_col1\" class=\"col_heading level0 col1\" >deptname</th>\n",
              "      <th id=\"T_1c6f4_level0_col2\" class=\"col_heading level0 col2\" >managerid</th>\n",
              "      <th id=\"T_1c6f4_level0_col3\" class=\"col_heading level0 col3\" >location</th>\n",
              "      <th id=\"T_1c6f4_level0_col4\" class=\"col_heading level0 col4\" >locationid</th>\n",
              "    </tr>\n",
              "  </thead>\n",
              "  <tbody>\n",
              "    <tr>\n",
              "      <td id=\"T_1c6f4_row0_col0\" class=\"data row0 col0\" >10</td>\n",
              "      <td id=\"T_1c6f4_row0_col1\" class=\"data row0 col1\" >Corporate</td>\n",
              "      <td id=\"T_1c6f4_row0_col2\" class=\"data row0 col2\" >299034</td>\n",
              "      <td id=\"T_1c6f4_row0_col3\" class=\"data row0 col3\" >Calcutta</td>\n",
              "      <td id=\"T_1c6f4_row0_col4\" class=\"data row0 col4\" >1</td>\n",
              "    </tr>\n",
              "    <tr>\n",
              "      <td id=\"T_1c6f4_row1_col0\" class=\"data row1 col0\" >20</td>\n",
              "      <td id=\"T_1c6f4_row1_col1\" class=\"data row1 col1\" >Sales</td>\n",
              "      <td id=\"T_1c6f4_row1_col2\" class=\"data row1 col2\" >239456</td>\n",
              "      <td id=\"T_1c6f4_row1_col3\" class=\"data row1 col3\" >Calcutta</td>\n",
              "      <td id=\"T_1c6f4_row1_col4\" class=\"data row1 col4\" >1</td>\n",
              "    </tr>\n",
              "    <tr>\n",
              "      <td id=\"T_1c6f4_row2_col0\" class=\"data row2 col0\" >30</td>\n",
              "      <td id=\"T_1c6f4_row2_col1\" class=\"data row2 col1\" >Accounts</td>\n",
              "      <td id=\"T_1c6f4_row2_col2\" class=\"data row2 col2\" >822134</td>\n",
              "      <td id=\"T_1c6f4_row2_col3\" class=\"data row2 col3\" >Calcutta</td>\n",
              "      <td id=\"T_1c6f4_row2_col4\" class=\"data row2 col4\" >1</td>\n",
              "    </tr>\n",
              "    <tr>\n",
              "      <td id=\"T_1c6f4_row3_col0\" class=\"data row3 col0\" >40</td>\n",
              "      <td id=\"T_1c6f4_row3_col1\" class=\"data row3 col1\" >Production</td>\n",
              "      <td id=\"T_1c6f4_row3_col2\" class=\"data row3 col2\" >349870</td>\n",
              "      <td id=\"T_1c6f4_row3_col3\" class=\"data row3 col3\" >Bombay</td>\n",
              "      <td id=\"T_1c6f4_row3_col4\" class=\"data row3 col4\" >2</td>\n",
              "    </tr>\n",
              "    <tr>\n",
              "      <td id=\"T_1c6f4_row4_col0\" class=\"data row4 col0\" >60</td>\n",
              "      <td id=\"T_1c6f4_row4_col1\" class=\"data row4 col1\" >Research</td>\n",
              "      <td id=\"T_1c6f4_row4_col2\" class=\"data row4 col2\" >546224</td>\n",
              "      <td id=\"T_1c6f4_row4_col3\" class=\"data row4 col3\" >Delhi</td>\n",
              "      <td id=\"T_1c6f4_row4_col4\" class=\"data row4 col4\" >3</td>\n",
              "    </tr>\n",
              "    <tr>\n",
              "      <td id=\"T_1c6f4_row5_col0\" class=\"data row5 col0\" >11</td>\n",
              "      <td id=\"T_1c6f4_row5_col1\" class=\"data row5 col1\" >Marketing</td>\n",
              "      <td id=\"T_1c6f4_row5_col2\" class=\"data row5 col2\" >299035</td>\n",
              "      <td id=\"T_1c6f4_row5_col3\" class=\"data row5 col3\" >Calcutta</td>\n",
              "      <td id=\"T_1c6f4_row5_col4\" class=\"data row5 col4\" >1</td>\n",
              "    </tr>\n",
              "  </tbody>\n",
              "</table>\n"
            ]
          },
          "metadata": {},
          "execution_count": 73
        }
      ]
    },
    {
      "cell_type": "code",
      "source": [
        "runCmd(\"delete from dept where deptid = '11'\")\n",
        "runSelect(\"select * from dept\")"
      ],
      "metadata": {
        "id": "nsnJnNrEF6iS",
        "outputId": "e5bfaa07-d3f6-4534-84f2-cb7dcc1c44c2",
        "colab": {
          "base_uri": "https://localhost:8080/",
          "height": 224
        }
      },
      "execution_count": 74,
      "outputs": [
        {
          "output_type": "stream",
          "name": "stdout",
          "text": [
            "Command executed\n"
          ]
        },
        {
          "output_type": "execute_result",
          "data": {
            "text/plain": [
              "<pandas.io.formats.style.Styler at 0x79b46338bb80>"
            ],
            "text/html": [
              "<style type=\"text/css\">\n",
              "</style>\n",
              "<table id=\"T_70153\" class=\"dataframe\">\n",
              "  <thead>\n",
              "    <tr>\n",
              "      <th id=\"T_70153_level0_col0\" class=\"col_heading level0 col0\" >deptid</th>\n",
              "      <th id=\"T_70153_level0_col1\" class=\"col_heading level0 col1\" >deptname</th>\n",
              "      <th id=\"T_70153_level0_col2\" class=\"col_heading level0 col2\" >managerid</th>\n",
              "      <th id=\"T_70153_level0_col3\" class=\"col_heading level0 col3\" >location</th>\n",
              "      <th id=\"T_70153_level0_col4\" class=\"col_heading level0 col4\" >locationid</th>\n",
              "    </tr>\n",
              "  </thead>\n",
              "  <tbody>\n",
              "    <tr>\n",
              "      <td id=\"T_70153_row0_col0\" class=\"data row0 col0\" >10</td>\n",
              "      <td id=\"T_70153_row0_col1\" class=\"data row0 col1\" >Corporate</td>\n",
              "      <td id=\"T_70153_row0_col2\" class=\"data row0 col2\" >299034</td>\n",
              "      <td id=\"T_70153_row0_col3\" class=\"data row0 col3\" >Calcutta</td>\n",
              "      <td id=\"T_70153_row0_col4\" class=\"data row0 col4\" >1</td>\n",
              "    </tr>\n",
              "    <tr>\n",
              "      <td id=\"T_70153_row1_col0\" class=\"data row1 col0\" >20</td>\n",
              "      <td id=\"T_70153_row1_col1\" class=\"data row1 col1\" >Sales</td>\n",
              "      <td id=\"T_70153_row1_col2\" class=\"data row1 col2\" >239456</td>\n",
              "      <td id=\"T_70153_row1_col3\" class=\"data row1 col3\" >Calcutta</td>\n",
              "      <td id=\"T_70153_row1_col4\" class=\"data row1 col4\" >1</td>\n",
              "    </tr>\n",
              "    <tr>\n",
              "      <td id=\"T_70153_row2_col0\" class=\"data row2 col0\" >30</td>\n",
              "      <td id=\"T_70153_row2_col1\" class=\"data row2 col1\" >Accounts</td>\n",
              "      <td id=\"T_70153_row2_col2\" class=\"data row2 col2\" >822134</td>\n",
              "      <td id=\"T_70153_row2_col3\" class=\"data row2 col3\" >Calcutta</td>\n",
              "      <td id=\"T_70153_row2_col4\" class=\"data row2 col4\" >1</td>\n",
              "    </tr>\n",
              "    <tr>\n",
              "      <td id=\"T_70153_row3_col0\" class=\"data row3 col0\" >40</td>\n",
              "      <td id=\"T_70153_row3_col1\" class=\"data row3 col1\" >Production</td>\n",
              "      <td id=\"T_70153_row3_col2\" class=\"data row3 col2\" >349870</td>\n",
              "      <td id=\"T_70153_row3_col3\" class=\"data row3 col3\" >Bombay</td>\n",
              "      <td id=\"T_70153_row3_col4\" class=\"data row3 col4\" >2</td>\n",
              "    </tr>\n",
              "    <tr>\n",
              "      <td id=\"T_70153_row4_col0\" class=\"data row4 col0\" >60</td>\n",
              "      <td id=\"T_70153_row4_col1\" class=\"data row4 col1\" >Research</td>\n",
              "      <td id=\"T_70153_row4_col2\" class=\"data row4 col2\" >546224</td>\n",
              "      <td id=\"T_70153_row4_col3\" class=\"data row4 col3\" >Delhi</td>\n",
              "      <td id=\"T_70153_row4_col4\" class=\"data row4 col4\" >3</td>\n",
              "    </tr>\n",
              "  </tbody>\n",
              "</table>\n"
            ]
          },
          "metadata": {},
          "execution_count": 74
        }
      ]
    },
    {
      "cell_type": "markdown",
      "source": [
        "#Chronobooks <br>\n",
        "Two science fiction novels by Prithwis Mukerjee. A dystopian Earth. A technocratic society managed by artificial intelligence. Escape and epiphany on Mars. Can man and machine, carbon and silicon explore and escape into other dimensions of existence? An Indic perspective rooted in Advaita Vedanta and the Divine Feminine.  [More information](http://bit.ly/chronobooks) <br>\n",
        "![alt text](https://github.com/Praxis-QR/RDWH/raw/main/images/CTCYFooter-1.png)"
      ],
      "metadata": {
        "id": "_gNiZpyW3AzJ"
      }
    }
  ]
}