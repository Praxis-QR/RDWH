{
  "nbformat": 4,
  "nbformat_minor": 0,
  "metadata": {
    "colab": {
      "provenance": [],
      "include_colab_link": true
    },
    "kernelspec": {
      "name": "python3",
      "display_name": "Python 3"
    },
    "language_info": {
      "name": "python"
    }
  },
  "cells": [
    {
      "cell_type": "markdown",
      "metadata": {
        "id": "view-in-github",
        "colab_type": "text"
      },
      "source": [
        "<a href=\"https://colab.research.google.com/github/Praxis-QR/RDWH/blob/main/PostgreSQL_04B_Ex2.ipynb\" target=\"_parent\"><img src=\"https://colab.research.google.com/assets/colab-badge.svg\" alt=\"Open In Colab\"/></a>"
      ]
    },
    {
      "cell_type": "markdown",
      "source": [
        "![Yantrajaal Banner](https://github.com/Praxis-QR/RDWH/raw/main/images/YantraJaalBanner.png)<br>\n",
        "\n",
        "\n",
        "<hr>\n",
        "\n",
        "[Prithwis Mukerjee](http://www.linkedin.com/in/prithwis)<br>"
      ],
      "metadata": {
        "id": "DBzz-qaN2tKu"
      }
    },
    {
      "cell_type": "markdown",
      "source": [
        "#Postgres Exercises\n",
        "###Adapted fromMySQL Tutorials <br>\n",
        "\n",
        "\n",
        "1.   https://www.mysqltutorial.org/\n",
        "2.   https://www.mysqltutorial.org/basic-mysql-tutorial.aspx\n"
      ],
      "metadata": {
        "id": "QIfgaOrxZ39z"
      }
    },
    {
      "cell_type": "markdown",
      "source": [
        "#Install & Configure Postgres"
      ],
      "metadata": {
        "id": "nD-QawLT6kDr"
      }
    },
    {
      "cell_type": "code",
      "source": [
        "from datetime import datetime\n",
        "import pytz\n",
        "print('Tested on ',datetime.now(pytz.timezone('Asia/Calcutta')))\n",
        "!python --version\n",
        "!lsb_release -a"
      ],
      "metadata": {
        "id": "txwvst5Hs5mI",
        "outputId": "ad3e1605-6249-4705-fae2-68509f72bcf2",
        "colab": {
          "base_uri": "https://localhost:8080/"
        }
      },
      "execution_count": 1,
      "outputs": [
        {
          "output_type": "stream",
          "name": "stdout",
          "text": [
            "Tested on  2024-01-07 17:04:52.460981+05:30\n",
            "Python 3.10.12\n",
            "No LSB modules are available.\n",
            "Distributor ID:\tUbuntu\n",
            "Description:\tUbuntu 22.04.3 LTS\n",
            "Release:\t22.04\n",
            "Codename:\tjammy\n"
          ]
        }
      ]
    },
    {
      "cell_type": "markdown",
      "source": [
        "For Connecting to a Postgres server on Amazon RDS, see [this notebook](https://github.com/Praxis-QR/RDWH/blob/main/PostgreSQL_01_Install_Config.ipynb)"
      ],
      "metadata": {
        "id": "9w29_O07rTPE"
      }
    },
    {
      "cell_type": "code",
      "source": [
        "# Install postgresql server\n",
        "\n",
        "!apt update > /dev/null\n",
        "!apt install postgresql > /dev/null\n",
        "#!pip install psycopg2\n",
        "import psycopg2\n",
        "import pandas as pd\n",
        "#!sudo -u postgres psql -V\n",
        "!psql -V\n",
        "!service postgresql start"
      ],
      "metadata": {
        "colab": {
          "base_uri": "https://localhost:8080/"
        },
        "id": "o_RaqE0OOHP3",
        "outputId": "840f11bc-f7ba-4bc3-97c7-96afd975f8af"
      },
      "execution_count": 4,
      "outputs": [
        {
          "output_type": "stream",
          "name": "stdout",
          "text": [
            "\n",
            "WARNING: apt does not have a stable CLI interface. Use with caution in scripts.\n",
            "\n",
            "\n",
            "WARNING: apt does not have a stable CLI interface. Use with caution in scripts.\n",
            "\n",
            "psql (PostgreSQL) 14.10 (Ubuntu 14.10-0ubuntu0.22.04.1)\n",
            " * Starting PostgreSQL 14 database server\n",
            "   ...done.\n"
          ]
        }
      ]
    },
    {
      "cell_type": "markdown",
      "source": [
        "#Create Schema, Tables and Insert Data"
      ],
      "metadata": {
        "id": "JP7hBhEaYzW8"
      }
    },
    {
      "cell_type": "code",
      "source": [
        "# This has created an Ubuntu user 'postgres' AND a Postgres database user 'postgres' both of which are superusers\n",
        "#!cat /etc/passwd\n",
        "# Use these users to create a new database user called 'upraxis' and give it a password 'upass'\n",
        "#!sudo -u postgres createuser --superuser upraxis\n",
        "!sudo -u postgres createuser upraxis\n",
        "!sudo -u postgres psql -U postgres -c \"ALTER USER upraxis PASSWORD 'upass';\"\n",
        "# Change the database superuser 'postgres' to a non-default value 'pass'\n",
        "!sudo -u postgres psql -U postgres -c \"ALTER USER postgres PASSWORD 'pass';\"\n",
        "# Use ubuntu superuser to create database dbpraxis and set its owner to upraxis\n",
        "!sudo -u postgres createdb -O upraxis dbpraxis\n",
        "# Create file to store the password. Else will be prompted each time\n",
        "#!echo \"localhost:5432:praxisdb:postgres:pass\" > ~/.pgpass\n",
        "!echo \"localhost:5432:dbpraxis:upraxis:upass\" > ~/.pgpass\n",
        "!echo \"localhost:5432:dbpraxis:postgres:pass\" >> ~/.pgpass\n",
        "!chmod 0600 ~/.pgpass\n",
        "!cat ~/.pgpass\n"
      ],
      "metadata": {
        "colab": {
          "base_uri": "https://localhost:8080/"
        },
        "id": "NWkT4jeeQXw2",
        "outputId": "227598fa-faaf-4473-a454-bf891253d0c2"
      },
      "execution_count": 5,
      "outputs": [
        {
          "output_type": "stream",
          "name": "stdout",
          "text": [
            "ALTER ROLE\n",
            "ALTER ROLE\n",
            "localhost:5432:dbpraxis:upraxis:upass\n",
            "localhost:5432:dbpraxis:postgres:pass\n"
          ]
        }
      ]
    },
    {
      "cell_type": "code",
      "source": [
        "# Download SQL file to create tables\n",
        "!wget -q https://raw.githubusercontent.com/Praxis-QR/RDWH/main/data/classic42.sql\n",
        "#!unzip mysqlsampledatabase.zip\n",
        "!psql -h localhost -p 5432 -Uupraxis -ddbpraxis -f classic42.sql -x -q"
      ],
      "metadata": {
        "id": "01kFB_EbXzKg",
        "outputId": "5c2161a4-0b46-47eb-e0b1-5f3011ce2fff",
        "colab": {
          "base_uri": "https://localhost:8080/"
        }
      },
      "execution_count": 6,
      "outputs": [
        {
          "output_type": "stream",
          "name": "stdout",
          "text": [
            "psql:classic42.sql:3: NOTICE:  table \"customers\" does not exist, skipping\n",
            "psql:classic42.sql:151: NOTICE:  table \"employees\" does not exist, skipping\n",
            "psql:classic42.sql:198: NOTICE:  table \"offices\" does not exist, skipping\n",
            "psql:classic42.sql:226: NOTICE:  table \"orderdetails\" does not exist, skipping\n",
            "psql:classic42.sql:3242: NOTICE:  table \"orders\" does not exist, skipping\n",
            "psql:classic42.sql:3589: NOTICE:  table \"payments\" does not exist, skipping\n",
            "psql:classic42.sql:3879: NOTICE:  table \"productlines\" does not exist, skipping\n",
            "psql:classic42.sql:3902: NOTICE:  table \"products\" does not exist, skipping\n"
          ]
        }
      ]
    },
    {
      "cell_type": "markdown",
      "source": [
        "![alt text](https://www.mysqltutorial.org/wp-content/uploads/2009/12/MySQL-Sample-Database-Schema.png)<br>"
      ],
      "metadata": {
        "id": "3BuHDeQ_Yucu"
      }
    },
    {
      "cell_type": "code",
      "source": [
        "#Note eight tables\n",
        "!psql -h localhost -p 5432 -Uupraxis -d dbpraxis -c \"\\dt+\""
      ],
      "metadata": {
        "colab": {
          "base_uri": "https://localhost:8080/"
        },
        "id": "j7AZnRC5K-sC",
        "outputId": "a2c25de7-f4d8-42e0-d6fc-217b277e45b3"
      },
      "execution_count": 7,
      "outputs": [
        {
          "output_type": "stream",
          "name": "stdout",
          "text": [
            "                                        List of relations\n",
            " Schema |     Name     | Type  |  Owner  | Persistence | Access method |    Size    | Description \n",
            "--------+--------------+-------+---------+-------------+---------------+------------+-------------\n",
            " public | customers    | table | upraxis | permanent   | heap          | 48 kB      | \n",
            " public | employees    | table | upraxis | permanent   | heap          | 8192 bytes | \n",
            " public | offices      | table | upraxis | permanent   | heap          | 8192 bytes | \n",
            " public | orderdetails | table | upraxis | permanent   | heap          | 232 kB     | \n",
            " public | orders       | table | upraxis | permanent   | heap          | 64 kB      | \n",
            " public | payments     | table | upraxis | permanent   | heap          | 48 kB      | \n",
            " public | productlines | table | upraxis | permanent   | heap          | 16 kB      | \n",
            " public | products     | table | upraxis | permanent   | heap          | 72 kB      | \n",
            "(8 rows)\n",
            "\n"
          ]
        }
      ]
    },
    {
      "cell_type": "code",
      "source": [
        "#!psql -h localhost -p 5432 -Uupraxis -ddbpraxis -c \"select * from customers limit 10\"\n",
        "#!psql -h localhost -p 5432 -Uupraxis -ddbpraxis -c \"select * from employees limit 10\"\n",
        "#psql -h localhost -p 5432 -Uupraxis -ddbpraxis -c \"select * from offices limit 10\"\n",
        "#!psql -h localhost -p 5432 -Uupraxis -ddbpraxis -c \"select * from orderdetails limit 10\"\n",
        "#!psql -h localhost -p 5432 -Uupraxis -ddbpraxis -c \"select * from orders limit 10\"\n",
        "#!psql -h localhost -p 5432 -Uupraxis -ddbpraxis -c \"select * from payments limit 10\"\n",
        "#!psql -h localhost -p 5432 -Uupraxis -ddbpraxis -c \"select * from productlines limit 10\"\n",
        "!psql -h localhost -p 5432 -Uupraxis -ddbpraxis -c \"select * from products limit 10\""
      ],
      "metadata": {
        "colab": {
          "base_uri": "https://localhost:8080/"
        },
        "id": "MTo12GAbH_Y4",
        "outputId": "0f71be41-1a82-4150-ea4c-ab0f91d55687"
      },
      "execution_count": 8,
      "outputs": [
        {
          "output_type": "stream",
          "name": "stdout",
          "text": [
            " productcode |              productname              |   productline    | productscale |       productvendor       |                                                                                                                                                                                                                                              productdescription                                                                                                                                                                                                                                               | quantityinstock | buyprice |  msrp  \n",
            "-------------+---------------------------------------+------------------+--------------+---------------------------+---------------------------------------------------------------------------------------------------------------------------------------------------------------------------------------------------------------------------------------------------------------------------------------------------------------------------------------------------------------------------------------------------------------------------------------------------------------------------------------------------------------+-----------------+----------+--------\n",
            " S10_1678    | 1969 Harley Davidson Ultimate Chopper | Motorcycles      | 1:10         | Min Lin Diecast           | This replica features working kickstand, front suspension, gear-shift lever, footbrake lever, drive chain, wheels and steering. All parts are particularly delicate due to their precise scale and require special care and attention.                                                                                                                                                                                                                                                                        |            7933 |    48.81 |  95.70\n",
            " S10_1949    | 1952 Alpine Renault 1300              | Classic Cars     | 1:10         | Classic Metal Creations   | Turnable front wheels; steering function; detailed interior; detailed engine; opening hood; opening trunk; opening doors; and detailed chassis.                                                                                                                                                                                                                                                                                                                                                               |            7305 |    98.58 | 214.30\n",
            " S10_2016    | 1996 Moto Guzzi 1100i                 | Motorcycles      | 1:10         | Highway 66 Mini Classics  | Official Moto Guzzi logos and insignias, saddle bags located on side of motorcycle, detailed engine, working steering, working suspension, two leather seats, luggage rack, dual exhaust pipes, small saddle bag located on handle bars, two-tone paint with chrome accents, superior die-cast detail , rotating wheels , working kick stand, diecast metal with plastic parts and baked enamel finish.                                                                                                       |            6625 |    68.99 | 118.94\n",
            " S10_4698    | 2003 Harley-Davidson Eagle Drag Bike  | Motorcycles      | 1:10         | Red Start Diecast         | Model features, official Harley Davidson logos and insignias, detachable rear wheelie bar, heavy diecast metal with resin parts, authentic multi-color tampo-printed graphics, separate engine drive belts, free-turning front fork, rotating tires and rear racing slick, certificate of authenticity, detailed engine, display stand, precision diecast replica, baked enamel finish, 1:10 scale model, removable fender, seat and tank cover piece for displaying the superior detail of the v-twin engine |            5582 |    91.02 | 193.66\n",
            " S10_4757    | 1972 Alfa Romeo GTA                   | Classic Cars     | 1:10         | Motor City Art Classics   | Features include: Turnable front wheels; steering function; detailed interior; detailed engine; opening hood; opening trunk; opening doors; and detailed chassis.                                                                                                                                                                                                                                                                                                                                             |            3252 |    85.68 | 136.00\n",
            " S10_4962    | 1962 LanciaA Delta 16V                | Classic Cars     | 1:10         | Second Gear Diecast       | Features include: Turnable front wheels; steering function; detailed interior; detailed engine; opening hood; opening trunk; opening doors; and detailed chassis.                                                                                                                                                                                                                                                                                                                                             |            6791 |   103.42 | 147.74\n",
            " S12_1099    | 1968 Ford Mustang                     | Classic Cars     | 1:12         | Autoart Studio Design     | Hood, doors and trunk all open to reveal highly detailed interior features. Steering wheel actually turns the front wheels. Color dark green.                                                                                                                                                                                                                                                                                                                                                                 |              68 |    95.34 | 194.57\n",
            " S12_1108    | 2001 Ferrari Enzo                     | Classic Cars     | 1:12         | Second Gear Diecast       | Turnable front wheels; steering function; detailed interior; detailed engine; opening hood; opening trunk; opening doors; and detailed chassis.                                                                                                                                                                                                                                                                                                                                                               |            3619 |    95.59 | 207.80\n",
            " S12_1666    | 1958 Setra Bus                        | Trucks and Buses | 1:12         | Welly Diecast Productions | Model features 30 windows, skylights & glare resistant glass, working steering system, original logos                                                                                                                                                                                                                                                                                                                                                                                                         |            1579 |    77.90 | 136.67\n",
            " S12_2823    | 2002 Suzuki XREO                      | Motorcycles      | 1:12         | Unimax Art Galleries      | Official logos and insignias, saddle bags located on side of motorcycle, detailed engine, working steering, working suspension, two leather seats, luggage rack, dual exhaust pipes, small saddle bag located on handle bars, two-tone paint with chrome accents, superior die-cast detail , rotating wheels , working kick stand, diecast metal with plastic parts and baked enamel finish.                                                                                                                  |            9997 |    66.27 | 150.62\n",
            "(10 rows)\n",
            "\n"
          ]
        }
      ]
    },
    {
      "cell_type": "markdown",
      "source": [
        "## Python Access\n",
        "https://www.tutorialspoint.com/python_data_access/python_postgresql_database_connection.htm"
      ],
      "metadata": {
        "id": "faZEj8_7CeZ8"
      }
    },
    {
      "cell_type": "code",
      "source": [
        "# Local Colab server\n",
        "\n",
        "conn = psycopg2.connect(database=\"dbpraxis\", user='upraxis', password='upass', host='127.0.0.1', port= '5432')\n",
        "#Creating a cursor object using the cursor() method\n",
        "cursor = conn.cursor()\n",
        "#Executing an MYSQL function using the execute() method\n",
        "cursor.execute(\"select version()\")\n",
        "# Fetch a single row using fetchone() method.\n",
        "data = cursor.fetchone()\n",
        "print(\"Connection established to: \",data)\n",
        "#Closing the connection\n",
        "conn.close()"
      ],
      "metadata": {
        "id": "wcE-8UBnC4zV",
        "outputId": "1807c1b1-c7c3-4906-9167-a6512238d6c8",
        "colab": {
          "base_uri": "https://localhost:8080/"
        }
      },
      "execution_count": 9,
      "outputs": [
        {
          "output_type": "stream",
          "name": "stdout",
          "text": [
            "Connection established to:  ('PostgreSQL 14.10 (Ubuntu 14.10-0ubuntu0.22.04.1) on x86_64-pc-linux-gnu, compiled by gcc (Ubuntu 11.4.0-1ubuntu1~22.04) 11.4.0, 64-bit',)\n"
          ]
        }
      ]
    },
    {
      "cell_type": "code",
      "source": [
        "# function to execute SQL select statements with Postgres\n",
        "#\n",
        "def runSelect(s):\n",
        "    #Set up connection\n",
        "\n",
        "    conn = psycopg2.connect(database=\"dbpraxis\", user='upraxis', password='upass', host='127.0.0.1', port= '5432')\n",
        "    #Setting auto commit true\n",
        "    conn.autocommit = True\n",
        "    #Creating a cursor object using the cursor() method\n",
        "    cursor = conn.cursor()\n",
        "    #Retrieving data\n",
        "    cursor.execute(s)\n",
        "    #Fetching all rows from the table\n",
        "    result = cursor.fetchall();\n",
        "    #print(len(result))\n",
        "    if (len(result)) > 0:                                       # result contains at least one row\n",
        "        colnames = [desc[0] for desc in cursor.description]     # get column names\n",
        "        #print(colnames)\n",
        "        resultdf = pd.DataFrame(result)                         # convert list to dataframe\n",
        "        resultdf.columns = colnames                             # add column names\n",
        "        #return resultdf\n",
        "        return resultdf.style.hide()                            # hide the index\n",
        "    else:\n",
        "        print('no records found')\n",
        "        return\n",
        "# function to execute SQL non-select statements with Postgres\n",
        "#\n",
        "def runCmd(s):\n",
        "    #Create Connection\n",
        "    conn = psycopg2.connect(database=\"exercises\", user='postgres', password='pass', host='127.0.0.1', port= '5432')\n",
        "    #Creating a cursor object using the cursor() method\n",
        "    cursor = conn.cursor()\n",
        "    try:\n",
        "        cursor.execute(s)\n",
        "        print('Command executed')\n",
        "        conn.commit()\n",
        "    except:\n",
        "        print('Command failed')\n",
        "    #Closing the connection\n",
        "    conn.close()"
      ],
      "metadata": {
        "id": "ht2k7-3iggNd"
      },
      "execution_count": 10,
      "outputs": []
    },
    {
      "cell_type": "markdown",
      "source": [
        "##Check Data"
      ],
      "metadata": {
        "id": "RvTKboYtbSjZ"
      }
    },
    {
      "cell_type": "code",
      "source": [
        "runSelect(\"select * from orders limit 3\")"
      ],
      "metadata": {
        "colab": {
          "base_uri": "https://localhost:8080/",
          "height": 143
        },
        "id": "ctq0ULCvVTsO",
        "outputId": "2e3d1fd6-3bcb-4e0c-d0cc-4d1e023640b7"
      },
      "execution_count": 11,
      "outputs": [
        {
          "output_type": "execute_result",
          "data": {
            "text/plain": [
              "<pandas.io.formats.style.Styler at 0x7f90dfdb69e0>"
            ],
            "text/html": [
              "<style type=\"text/css\">\n",
              "</style>\n",
              "<table id=\"T_6d691\" class=\"dataframe\">\n",
              "  <thead>\n",
              "    <tr>\n",
              "      <th id=\"T_6d691_level0_col0\" class=\"col_heading level0 col0\" >ordernumber</th>\n",
              "      <th id=\"T_6d691_level0_col1\" class=\"col_heading level0 col1\" >orderdate</th>\n",
              "      <th id=\"T_6d691_level0_col2\" class=\"col_heading level0 col2\" >requireddate</th>\n",
              "      <th id=\"T_6d691_level0_col3\" class=\"col_heading level0 col3\" >shippeddate</th>\n",
              "      <th id=\"T_6d691_level0_col4\" class=\"col_heading level0 col4\" >status</th>\n",
              "      <th id=\"T_6d691_level0_col5\" class=\"col_heading level0 col5\" >comments</th>\n",
              "      <th id=\"T_6d691_level0_col6\" class=\"col_heading level0 col6\" >customernumber</th>\n",
              "    </tr>\n",
              "  </thead>\n",
              "  <tbody>\n",
              "    <tr>\n",
              "      <td id=\"T_6d691_row0_col0\" class=\"data row0 col0\" >10100</td>\n",
              "      <td id=\"T_6d691_row0_col1\" class=\"data row0 col1\" >2003-01-06</td>\n",
              "      <td id=\"T_6d691_row0_col2\" class=\"data row0 col2\" >2003-01-13</td>\n",
              "      <td id=\"T_6d691_row0_col3\" class=\"data row0 col3\" >2003-01-10</td>\n",
              "      <td id=\"T_6d691_row0_col4\" class=\"data row0 col4\" >Shipped</td>\n",
              "      <td id=\"T_6d691_row0_col5\" class=\"data row0 col5\" >None</td>\n",
              "      <td id=\"T_6d691_row0_col6\" class=\"data row0 col6\" >363</td>\n",
              "    </tr>\n",
              "    <tr>\n",
              "      <td id=\"T_6d691_row1_col0\" class=\"data row1 col0\" >10101</td>\n",
              "      <td id=\"T_6d691_row1_col1\" class=\"data row1 col1\" >2003-01-09</td>\n",
              "      <td id=\"T_6d691_row1_col2\" class=\"data row1 col2\" >2003-01-18</td>\n",
              "      <td id=\"T_6d691_row1_col3\" class=\"data row1 col3\" >2003-01-11</td>\n",
              "      <td id=\"T_6d691_row1_col4\" class=\"data row1 col4\" >Shipped</td>\n",
              "      <td id=\"T_6d691_row1_col5\" class=\"data row1 col5\" >Check on availability.</td>\n",
              "      <td id=\"T_6d691_row1_col6\" class=\"data row1 col6\" >128</td>\n",
              "    </tr>\n",
              "    <tr>\n",
              "      <td id=\"T_6d691_row2_col0\" class=\"data row2 col0\" >10102</td>\n",
              "      <td id=\"T_6d691_row2_col1\" class=\"data row2 col1\" >2003-01-10</td>\n",
              "      <td id=\"T_6d691_row2_col2\" class=\"data row2 col2\" >2003-01-18</td>\n",
              "      <td id=\"T_6d691_row2_col3\" class=\"data row2 col3\" >2003-01-14</td>\n",
              "      <td id=\"T_6d691_row2_col4\" class=\"data row2 col4\" >Shipped</td>\n",
              "      <td id=\"T_6d691_row2_col5\" class=\"data row2 col5\" >None</td>\n",
              "      <td id=\"T_6d691_row2_col6\" class=\"data row2 col6\" >181</td>\n",
              "    </tr>\n",
              "  </tbody>\n",
              "</table>\n"
            ]
          },
          "metadata": {},
          "execution_count": 11
        }
      ]
    },
    {
      "cell_type": "markdown",
      "source": [
        "#Chronobooks <br>\n",
        "Two science fiction novels by Prithwis Mukerjee. A dystopian Earth. A technocratic society managed by artificial intelligence. Escape and epiphany on Mars. Can man and machine, carbon and silicon explore and escape into other dimensions of existence? An Indic perspective rooted in Advaita Vedanta and the Divine Feminine.  [More information](http://bit.ly/chronobooks) <br>\n",
        "![alt text](https://github.com/Praxis-QR/RDWH/raw/main/images/CTCYFooter-1.png)"
      ],
      "metadata": {
        "id": "_gNiZpyW3AzJ"
      }
    },
    {
      "cell_type": "code",
      "source": [
        "from datetime import datetime\n",
        "import pytz\n",
        "print('Last tested  ',datetime.now(pytz.timezone('Asia/Kolkata')))"
      ],
      "metadata": {
        "colab": {
          "base_uri": "https://localhost:8080/"
        },
        "id": "wjBXJVhM605H",
        "outputId": "c6418f4a-db57-43d1-8b6d-30d5ba2731f4"
      },
      "execution_count": null,
      "outputs": [
        {
          "output_type": "stream",
          "name": "stdout",
          "text": [
            "Last tested   2023-12-31 16:01:25.642107+05:30\n"
          ]
        }
      ]
    }
  ]
}