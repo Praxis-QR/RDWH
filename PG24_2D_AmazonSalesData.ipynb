{
  "nbformat": 4,
  "nbformat_minor": 0,
  "metadata": {
    "colab": {
      "provenance": [],
      "authorship_tag": "ABX9TyMj/SskHDaz7uMy6pysIx37",
      "include_colab_link": true
    },
    "kernelspec": {
      "name": "python3",
      "display_name": "Python 3"
    },
    "language_info": {
      "name": "python"
    }
  },
  "cells": [
    {
      "cell_type": "markdown",
      "metadata": {
        "id": "view-in-github",
        "colab_type": "text"
      },
      "source": [
        "<a href=\"https://colab.research.google.com/github/Praxis-QR/RDWH/blob/main/PG24_2D_AmazonSalesData.ipynb\" target=\"_parent\"><img src=\"https://colab.research.google.com/assets/colab-badge.svg\" alt=\"Open In Colab\"/></a>"
      ]
    },
    {
      "cell_type": "markdown",
      "source": [
        "![alt text](https://github.com/Praxis-QR/RDWH/raw/main/images/YantraJaalBanner.png)<br>\n",
        "\n",
        "\n",
        "<hr>\n",
        "\n",
        "[Prithwis Mukerjee](http://www.linkedin.com/in/prithwis)<br>"
      ],
      "metadata": {
        "id": "VXuHftH6Yx-d"
      }
    },
    {
      "cell_type": "code",
      "execution_count": 1,
      "metadata": {
        "colab": {
          "base_uri": "https://localhost:8080/"
        },
        "id": "f8J2-6HRYtzu",
        "outputId": "a7705467-54f0-4db7-84b1-d6634259e6ea"
      },
      "outputs": [
        {
          "output_type": "stream",
          "name": "stdout",
          "text": [
            "ॐ श्री सरस्वत्यै नमः 2025-10-23 10:38:33.547357+05:30\n",
            "Python 3.12.12\n",
            "No LSB modules are available.\n",
            "Distributor ID:\tUbuntu\n",
            "Description:\tUbuntu 22.04.4 LTS\n",
            "Release:\t22.04\n",
            "Codename:\tjammy\n"
          ]
        }
      ],
      "source": [
        "from datetime import datetime\n",
        "import pytz\n",
        "print('ॐ श्री सरस्वत्यै नमः',datetime.now(pytz.timezone('Asia/Calcutta')))\n",
        "!python --version\n",
        "!lsb_release -a"
      ]
    },
    {
      "cell_type": "code",
      "source": [
        "# Install postgresql server\n",
        "\n",
        "!apt update > /dev/null\n",
        "!apt install postgresql > /dev/null\n",
        "#\n",
        "import psycopg2\n",
        "import pandas as pd\n",
        "#\n",
        "!psql -V\n",
        "!service postgresql start"
      ],
      "metadata": {
        "colab": {
          "base_uri": "https://localhost:8080/"
        },
        "id": "1tiqfv7IY8s8",
        "outputId": "e7fb5da1-f261-4a93-aa2d-6b0eafc14255"
      },
      "execution_count": 2,
      "outputs": [
        {
          "output_type": "stream",
          "name": "stdout",
          "text": [
            "\n",
            "WARNING: apt does not have a stable CLI interface. Use with caution in scripts.\n",
            "\n",
            "W: Skipping acquire of configured file 'main/source/Sources' as repository 'https://r2u.stat.illinois.edu/ubuntu jammy InRelease' does not seem to provide it (sources.list entry misspelt?)\n",
            "\n",
            "WARNING: apt does not have a stable CLI interface. Use with caution in scripts.\n",
            "\n",
            "psql (PostgreSQL) 14.19 (Ubuntu 14.19-0ubuntu0.22.04.1)\n",
            " * Starting PostgreSQL 14 database server\n",
            "   ...done.\n"
          ]
        }
      ]
    },
    {
      "cell_type": "code",
      "source": [
        "# This has created an Ubuntu user 'postgres' AND a Postgres database user 'postgres' both of which are superusers\n",
        "#!cat /etc/passwd\n",
        "# Use these users to create a new database user called 'upraxis' and give it a password 'upass'\n",
        "#!sudo -u postgres createuser --superuser upraxis\n",
        "!sudo -u postgres createuser upraxis\n",
        "!sudo -u postgres psql -U postgres -c \"ALTER USER upraxis PASSWORD 'upass';\"\n",
        "# Change the database superuser 'postgres' to a non-default value 'pass'\n",
        "!sudo -u postgres psql -U postgres -c \"ALTER USER postgres PASSWORD 'pass';\"\n",
        "# Use ubuntu superuser to create database dbpraxis and set its owner to upraxis\n",
        "!sudo -u postgres createdb -O upraxis dbpraxis\n",
        "# Create file to store the password. Else will be prompted each time\n",
        "!echo \"localhost:5432:dbpraxis:postgres:pass\" > ~/.pgpass\n",
        "!echo \"localhost:5432:dbpraxis:upraxis:upass\" >> ~/.pgpass\n",
        "!chmod 0600 ~/.pgpass\n",
        "!cat ~/.pgpass"
      ],
      "metadata": {
        "colab": {
          "base_uri": "https://localhost:8080/"
        },
        "id": "b61bE0BbZItf",
        "outputId": "4e4556da-4f36-49bf-c10d-8695db21c0d7"
      },
      "execution_count": 3,
      "outputs": [
        {
          "output_type": "stream",
          "name": "stdout",
          "text": [
            "ALTER ROLE\n",
            "ALTER ROLE\n",
            "localhost:5432:dbpraxis:postgres:pass\n",
            "localhost:5432:dbpraxis:upraxis:upass\n"
          ]
        }
      ]
    },
    {
      "cell_type": "code",
      "source": [
        "# Create Fact Table using command line interface\n",
        "#\n",
        "!psql -h localhost -p 5432 -Uupraxis -ddbpraxis -c \\\n",
        "\"drop table if exists amazon;\\\n",
        "CREATE TABLE amazon ( \\\n",
        "    order_index BIGINT PRIMARY KEY, \\\n",
        "    order_id VARCHAR(30) NOT NULL, \\\n",
        "    order_date DATE, \\\n",
        "    status VARCHAR(50), \\\n",
        "    fulfilment VARCHAR(20), \\\n",
        "    sales_channel VARCHAR(20), \\\n",
        "    ship_service_level VARCHAR(20), \\\n",
        "    style VARCHAR(50), \\\n",
        "    sku VARCHAR(100), \\\n",
        "    category VARCHAR(50), \\\n",
        "    size VARCHAR(10), \\\n",
        "    asin VARCHAR(10), \\\n",
        "    courier_status VARCHAR(50), \\\n",
        "    quantity INTEGER, \\\n",
        "    currency VARCHAR(5), \\\n",
        "    amount NUMERIC(10, 2), \\\n",
        "    ship_city VARCHAR(100), \\\n",
        "    ship_state VARCHAR(100), \\\n",
        "    ship_postal_code VARCHAR(20), \\\n",
        "    ship_country VARCHAR(5), \\\n",
        "    promotion_ids TEXT, \\\n",
        "    b2b BOOLEAN, \\\n",
        "    fulfilled_by VARCHAR(100), \\\n",
        "    unnamed_22 TEXT \\\n",
        ");\\\n",
        "\""
      ],
      "metadata": {
        "colab": {
          "base_uri": "https://localhost:8080/"
        },
        "id": "7s3Ag6jTZPip",
        "outputId": "dd6dfd3b-8b4c-4ccf-d378-fdfaa0eed4e9"
      },
      "execution_count": 4,
      "outputs": [
        {
          "output_type": "stream",
          "name": "stdout",
          "text": [
            "NOTICE:  table \"amazon\" does not exist, skipping\n",
            "CREATE TABLE\n"
          ]
        }
      ]
    },
    {
      "cell_type": "code",
      "source": [
        "#Describe the table ss_order\n",
        "!psql -h localhost -p 5432 -Uupraxis -ddbpraxis -c '\\d+ amazon'"
      ],
      "metadata": {
        "colab": {
          "base_uri": "https://localhost:8080/"
        },
        "id": "5qTnGnUraCuf",
        "outputId": "c2ba8d6b-447d-4ba2-fe79-b31c45fffbf7"
      },
      "execution_count": 5,
      "outputs": [
        {
          "output_type": "stream",
          "name": "stdout",
          "text": [
            "                                                       Table \"public.amazon\"\n",
            "       Column       |          Type          | Collation | Nullable | Default | Storage  | Compression | Stats target | Description \n",
            "--------------------+------------------------+-----------+----------+---------+----------+-------------+--------------+-------------\n",
            " order_index        | bigint                 |           | not null |         | plain    |             |              | \n",
            " order_id           | character varying(30)  |           | not null |         | extended |             |              | \n",
            " order_date         | date                   |           |          |         | plain    |             |              | \n",
            " status             | character varying(50)  |           |          |         | extended |             |              | \n",
            " fulfilment         | character varying(20)  |           |          |         | extended |             |              | \n",
            " sales_channel      | character varying(20)  |           |          |         | extended |             |              | \n",
            " ship_service_level | character varying(20)  |           |          |         | extended |             |              | \n",
            " style              | character varying(50)  |           |          |         | extended |             |              | \n",
            " sku                | character varying(100) |           |          |         | extended |             |              | \n",
            " category           | character varying(50)  |           |          |         | extended |             |              | \n",
            " size               | character varying(10)  |           |          |         | extended |             |              | \n",
            " asin               | character varying(10)  |           |          |         | extended |             |              | \n",
            " courier_status     | character varying(50)  |           |          |         | extended |             |              | \n",
            " quantity           | integer                |           |          |         | plain    |             |              | \n",
            " currency           | character varying(5)   |           |          |         | extended |             |              | \n",
            " amount             | numeric(10,2)          |           |          |         | main     |             |              | \n",
            " ship_city          | character varying(100) |           |          |         | extended |             |              | \n",
            " ship_state         | character varying(100) |           |          |         | extended |             |              | \n",
            " ship_postal_code   | character varying(20)  |           |          |         | extended |             |              | \n",
            " ship_country       | character varying(5)   |           |          |         | extended |             |              | \n",
            " promotion_ids      | text                   |           |          |         | extended |             |              | \n",
            " b2b                | boolean                |           |          |         | plain    |             |              | \n",
            " fulfilled_by       | character varying(100) |           |          |         | extended |             |              | \n",
            " unnamed_22         | text                   |           |          |         | extended |             |              | \n",
            "Indexes:\n",
            "    \"amazon_pkey\" PRIMARY KEY, btree (order_index)\n",
            "Access method: heap\n",
            "\n"
          ]
        }
      ]
    },
    {
      "cell_type": "code",
      "source": [
        "# original data from https://www.kaggle.com/datasets/thedevastator/unlock-profits-with-e-commerce-sales-data\n",
        "#\n",
        "!wget -q -O AmazonSalesData.csv \"https://github.com/Praxis-QR/RDWH/raw/refs/heads/main/data/AmazonSalesData.csv\"\n",
        "!wget -q -O AmazonSalesData_Sample.csv \"https://github.com/Praxis-QR/RDWH/raw/refs/heads/main/data/AmazonSalesData_Sample.csv\""
      ],
      "metadata": {
        "id": "_AI24XJ_c9MP"
      },
      "execution_count": 6,
      "outputs": []
    },
    {
      "cell_type": "code",
      "source": [
        "!psql -h localhost -p 5432 -U postgres -d dbpraxis -c \" truncate amazon\"\n",
        "# Load Data\n",
        "# Need to use U = postgres and provide password = 'pass'\n",
        "#!psql -h localhost -p 5432 -U postgres -d dbpraxis -c \\\n",
        "#\"copy amazon FROM '/content/AmazonSalesData_Sample.csv' DELIMITER ',' CSV HEADER;\"\n",
        "\n",
        "!psql -h localhost -p 5432 -U postgres -d dbpraxis -c \\\n",
        "\"copy amazon FROM '/content/AmazonSalesData.csv' DELIMITER ',' CSV HEADER;\""
      ],
      "metadata": {
        "colab": {
          "base_uri": "https://localhost:8080/"
        },
        "id": "FrrWha1QaTt7",
        "outputId": "3d873c48-be1f-4c68-992a-630df954c989"
      },
      "execution_count": 7,
      "outputs": [
        {
          "output_type": "stream",
          "name": "stdout",
          "text": [
            "TRUNCATE TABLE\n",
            "COPY 128975\n"
          ]
        }
      ]
    },
    {
      "cell_type": "code",
      "source": [
        "!psql -h localhost -p 5432 -U upraxis -d dbpraxis -c 'select * from amazon limit 25'"
      ],
      "metadata": {
        "colab": {
          "base_uri": "https://localhost:8080/"
        },
        "id": "pDbCGrNoak-D",
        "outputId": "d489f74b-d7ce-4ef8-e24d-f53da60306a1"
      },
      "execution_count": 8,
      "outputs": [
        {
          "output_type": "stream",
          "name": "stdout",
          "text": [
            " order_index |      order_id       | order_date |            status            | fulfilment | sales_channel | ship_service_level |  style   |            sku            |   category    | size |    asin    | courier_status | quantity | currency | amount  |    ship_city    |   ship_state   | ship_postal_code | ship_country |                                                                                                                                                                                                                                                                                                                                                                                                                                                                                                                                                                                                                                                                                                                                                                                                                             promotion_ids                                                                                                                                                                                                                                                                                                                                                                                                                                                                                                                                                                                                                                                                                                                                                                                                                              | b2b | fulfilled_by | unnamed_22 \n",
            "-------------+---------------------+------------+------------------------------+------------+---------------+--------------------+----------+---------------------------+---------------+------+------------+----------------+----------+----------+---------+-----------------+----------------+------------------+--------------+------------------------------------------------------------------------------------------------------------------------------------------------------------------------------------------------------------------------------------------------------------------------------------------------------------------------------------------------------------------------------------------------------------------------------------------------------------------------------------------------------------------------------------------------------------------------------------------------------------------------------------------------------------------------------------------------------------------------------------------------------------------------------------------------------------------------------------------------------------------------------------------------------------------------------------------------------------------------------------------------------------------------------------------------------------------------------------------------------------------------------------------------------------------------------------------------------------------------------------------------------------------------------------------------------------------------------------------------------------------------------------------------------------------------------------------------------------------------------------------------------------------------------------------------------------------------------------------------------------------------------------------------------------------------+-----+--------------+------------\n",
            "           0 | 405-8078784-5731545 | 2022-04-30 | Cancelled                    | Merchant   | Amazon.in     | Standard           | SET389   | SET389-KR-NP-S            | Set           | S    | B09KXVBD7Z |                |        0 | INR      |  647.62 | MUMBAI          | MAHARASHTRA    | 400081           | IN           |                                                                                                                                                                                                                                                                                                                                                                                                                                                                                                                                                                                                                                                                                                                                                                                                                                                                                                                                                                                                                                                                                                                                                                                                                                                                                                                                                                                                                                                                                                                                                                                                                                                                        | f   | Easy Ship    | \n",
            "           1 | 171-9198151-1101146 | 2022-04-30 | Shipped - Delivered to Buyer | Merchant   | Amazon.in     | Standard           | JNE3781  | JNE3781-KR-XXXL           | kurta         | 3XL  | B09K3WFS32 | Shipped        |        1 | INR      |  406.00 | BENGALURU       | KARNATAKA      | 560085           | IN           | Amazon PLCC Free-Financing Universal Merchant AAT-WNKTBO3K27EJC,Amazon PLCC Free-Financing Universal Merchant AAT-QX3UCCJESKPA2,Amazon PLCC Free-Financing Universal Merchant AAT-5QQ7BIYYQEDN2,Amazon PLCC Free-Financing Universal Merchant AAT-DSJ2QRXXWXVMQ,Amazon PLCC Free-Financing Universal Merchant AAT-CXJHMC2YJUK76,Amazon PLCC Free-Financing Universal Merchant AAT-CC4FAVTYR4X7C,Amazon PLCC Free-Financing Universal Merchant AAT-XXRCW6NZEPZI4,Amazon PLCC Free-Financing Universal Merchant AAT-CXNSLNBROFDW4,Amazon PLCC Free-Financing Universal Merchant AAT-R7GXNZWISTRFA,Amazon PLCC Free-Financing Universal Merchant AAT-WSJLDN3X7KEMO,Amazon PLCC Free-Financing Universal Merchant AAT-VL6FGQVGQVXUS,Amazon PLCC Free-Financing Universal Merchant AAT-EOKPWFWYW7Y6I,Amazon PLCC Free-Financing Universal Merchant AAT-ZYL5UPUNW6T62,Amazon PLCC Free-Financing Universal Merchant AAT-XVPICCHRWDCAI,Amazon PLCC Free-Financing Universal Merchant AAT-ETXQ3XXWMRXBG,Amazon PLCC Free-Financing Universal Merchant AAT-7X3XCTYG64VBE,Amazon PLCC Free-Financing Universal Merchant AAT-7CHGD3WTS3MHM,Amazon PLCC Free-Financing Universal Merchant AAT-26ZDKNME27X42,Amazon PLCC Free-Financing Universal Merchant AAT-4ZF5KN6E4LJK4,Amazon PLCC Free-Financing Universal Merchant AAT-7RCXIKUAX7DDY,Amazon PLCC Free-Financing Universal Merchant AAT-BRSZZ45H6MHAO,Amazon PLCC Free-Financing Universal Merchant AAT-MKLXOOZWQL7GO,Amazon PLCC Free-Financing Universal Merchant AAT-CB7UNXEXGIJTC,Amazon PLCC Free-Financing Universal Merchant #MP-gzasho-1593152694811,Amazon PLCC Free-Financing Universal Merchant AAT-WLBA4GZ52EAH4 | f   | Easy Ship    | \n",
            "           2 | 404-0687676-7273146 | 2022-04-30 | Shipped                      | Amazon     | Amazon.in     | Expedited          | JNE3371  | JNE3371-KR-XL             | kurta         | XL   | B07WV4JV4D | Shipped        |        1 | INR      |  329.00 | NAVI MUMBAI     | MAHARASHTRA    | 410210           | IN           | IN Core Free Shipping 2015/04/08 23-48-5-108                                                                                                                                                                                                                                                                                                                                                                                                                                                                                                                                                                                                                                                                                                                                                                                                                                                                                                                                                                                                                                                                                                                                                                                                                                                                                                                                                                                                                                                                                                                                                                                                                           | t   |              | \n",
            "           3 | 403-9615377-8133951 | 2022-04-30 | Cancelled                    | Merchant   | Amazon.in     | Standard           | J0341    | J0341-DR-L                | Western Dress | L    | B099NRCT7B |                |        0 | INR      |  753.33 | PUDUCHERRY      | PUDUCHERRY     | 605008           | IN           |                                                                                                                                                                                                                                                                                                                                                                                                                                                                                                                                                                                                                                                                                                                                                                                                                                                                                                                                                                                                                                                                                                                                                                                                                                                                                                                                                                                                                                                                                                                                                                                                                                                                        | f   | Easy Ship    | \n",
            "           4 | 407-1069790-7240320 | 2022-04-30 | Shipped                      | Amazon     | Amazon.in     | Expedited          | JNE3671  | JNE3671-TU-XXXL           | Top           | 3XL  | B098714BZP | Shipped        |        1 | INR      |  574.00 | CHENNAI         | TAMIL NADU     | 600073           | IN           |                                                                                                                                                                                                                                                                                                                                                                                                                                                                                                                                                                                                                                                                                                                                                                                                                                                                                                                                                                                                                                                                                                                                                                                                                                                                                                                                                                                                                                                                                                                                                                                                                                                                        | f   |              | \n",
            "           5 | 404-1490984-4578765 | 2022-04-30 | Shipped                      | Amazon     | Amazon.in     | Expedited          | SET264   | SET264-KR-NP-XL           | Set           | XL   | B08YN7XDSG | Shipped        |        1 | INR      |  824.00 | GHAZIABAD       | UTTAR PRADESH  | 201102           | IN           | IN Core Free Shipping 2015/04/08 23-48-5-108                                                                                                                                                                                                                                                                                                                                                                                                                                                                                                                                                                                                                                                                                                                                                                                                                                                                                                                                                                                                                                                                                                                                                                                                                                                                                                                                                                                                                                                                                                                                                                                                                           | f   |              | \n",
            "           6 | 408-5748499-6859555 | 2022-04-30 | Shipped                      | Amazon     | Amazon.in     | Expedited          | J0095    | J0095-SET-L               | Set           | L    | B08CMHNWBN | Shipped        |        1 | INR      |  653.00 | CHANDIGARH      | CHANDIGARH     | 160036           | IN           | IN Core Free Shipping 2015/04/08 23-48-5-108                                                                                                                                                                                                                                                                                                                                                                                                                                                                                                                                                                                                                                                                                                                                                                                                                                                                                                                                                                                                                                                                                                                                                                                                                                                                                                                                                                                                                                                                                                                                                                                                                           | f   |              | \n",
            "           7 | 406-7807733-3785945 | 2022-04-30 | Shipped - Delivered to Buyer | Merchant   | Amazon.in     | Standard           | JNE3405  | JNE3405-KR-S              | kurta         | S    | B081WX4G4Q | Shipped        |        1 | INR      |  399.00 | HYDERABAD       | TELANGANA      | 500032           | IN           | Amazon PLCC Free-Financing Universal Merchant AAT-WNKTBO3K27EJC,Amazon PLCC Free-Financing Universal Merchant AAT-QX3UCCJESKPA2,Amazon PLCC Free-Financing Universal Merchant AAT-5QQ7BIYYQEDN2,Amazon PLCC Free-Financing Universal Merchant AAT-DSJ2QRXXWXVMQ,Amazon PLCC Free-Financing Universal Merchant AAT-CXJHMC2YJUK76,Amazon PLCC Free-Financing Universal Merchant AAT-CC4FAVTYR4X7C,Amazon PLCC Free-Financing Universal Merchant AAT-XXRCW6NZEPZI4,Amazon PLCC Free-Financing Universal Merchant AAT-EOKPWFWYW7Y6I,Amazon PLCC Free-Financing Universal Merchant AAT-ZYL5UPUNW6T62,Amazon PLCC Free-Financing Universal Merchant AAT-ETXQ3XXWMRXBG,Amazon PLCC Free-Financing Universal Merchant AAT-7X3XCTYG64VBE,Amazon PLCC Free-Financing Universal Merchant AAT-7CHGD3WTS3MHM,Amazon PLCC Free-Financing Universal Merchant AAT-26ZDKNME27X42,Amazon PLCC Free-Financing Universal Merchant AAT-4ZF5KN6E4LJK4,Amazon PLCC Free-Financing Universal Merchant AAT-7RCXIKUAX7DDY,Amazon PLCC Free-Financing Universal Merchant AAT-BRSZZ45H6MHAO,Amazon PLCC Free-Financing Universal Merchant AAT-MKLXOOZWQL7GO,Amazon PLCC Free-Financing Universal Merchant AAT-CB7UNXEXGIJTC,Amazon PLCC Free-Financing Universal Merchant #MP-gzasho-1593152694811,Amazon PLCC Free-Financing Universal Merchant AAT-WLBA4GZ52EAH4                                                                                                                                                                                                                                                                                                                                 | f   | Easy Ship    | \n",
            "           8 | 407-5443024-5233168 | 2022-04-30 | Cancelled                    | Amazon     | Amazon.in     | Expedited          | SET200   | SET200-KR-NP-A-XXXL       | Set           | 3XL  | B08L91ZZXN | Cancelled      |        0 |          |         | HYDERABAD       | TELANGANA      | 500008           | IN           | IN Core Free Shipping 2015/04/08 23-48-5-108                                                                                                                                                                                                                                                                                                                                                                                                                                                                                                                                                                                                                                                                                                                                                                                                                                                                                                                                                                                                                                                                                                                                                                                                                                                                                                                                                                                                                                                                                                                                                                                                                           | f   |              | \n",
            "           9 | 402-4393761-0311520 | 2022-04-30 | Shipped                      | Amazon     | Amazon.in     | Expedited          | JNE3461  | JNE3461-KR-XXL            | kurta         | XXL  | B08B3XF5MH | Shipped        |        1 | INR      |  363.00 | Chennai         | TAMIL NADU     | 600041           | IN           |                                                                                                                                                                                                                                                                                                                                                                                                                                                                                                                                                                                                                                                                                                                                                                                                                                                                                                                                                                                                                                                                                                                                                                                                                                                                                                                                                                                                                                                                                                                                                                                                                                                                        | f   |              | \n",
            "          10 | 407-5633625-6970741 | 2022-04-30 | Shipped                      | Amazon     | Amazon.in     | Expedited          | JNE3160  | JNE3160-KR-G-S            | kurta         | S    | B07K3YQLF1 | Shipped        |        1 | INR      |  685.00 | CHENNAI         | TAMIL NADU     | 600073           | IN           |                                                                                                                                                                                                                                                                                                                                                                                                                                                                                                                                                                                                                                                                                                                                                                                                                                                                                                                                                                                                                                                                                                                                                                                                                                                                                                                                                                                                                                                                                                                                                                                                                                                                        | f   |              | \n",
            "          11 | 171-4638481-6326716 | 2022-04-30 | Shipped                      | Amazon     | Amazon.in     | Expedited          | JNE3500  | JNE3500-KR-XS             | kurta         | XS   | B098117DJ3 | Shipped        |        1 | INR      |  364.00 | NOIDA           | UTTAR PRADESH  | 201303           | IN           |                                                                                                                                                                                                                                                                                                                                                                                                                                                                                                                                                                                                                                                                                                                                                                                                                                                                                                                                                                                                                                                                                                                                                                                                                                                                                                                                                                                                                                                                                                                                                                                                                                                                        | f   |              | \n",
            "          12 | 405-5513694-8146768 | 2022-04-30 | Shipped - Delivered to Buyer | Merchant   | Amazon.in     | Standard           | JNE3405  | JNE3405-KR-XS             | kurta         | XS   | B081XCMYXJ | Shipped        |        1 | INR      |  399.00 | Amravati.       | MAHARASHTRA    | 444606           | IN           | Amazon PLCC Free-Financing Universal Merchant AAT-WNKTBO3K27EJC,Amazon PLCC Free-Financing Universal Merchant AAT-QX3UCCJESKPA2,Amazon PLCC Free-Financing Universal Merchant AAT-5QQ7BIYYQEDN2,Amazon PLCC Free-Financing Universal Merchant AAT-DSJ2QRXXWXVMQ,Amazon PLCC Free-Financing Universal Merchant AAT-CXJHMC2YJUK76,Amazon PLCC Free-Financing Universal Merchant AAT-CC4FAVTYR4X7C,Amazon PLCC Free-Financing Universal Merchant AAT-XXRCW6NZEPZI4,Amazon PLCC Free-Financing Universal Merchant AAT-EOKPWFWYW7Y6I,Amazon PLCC Free-Financing Universal Merchant AAT-ETXQ3XXWMRXBG,Amazon PLCC Free-Financing Universal Merchant AAT-7X3XCTYG64VBE,Amazon PLCC Free-Financing Universal Merchant AAT-7CHGD3WTS3MHM,Amazon PLCC Free-Financing Universal Merchant AAT-26ZDKNME27X42,Amazon PLCC Free-Financing Universal Merchant AAT-4ZF5KN6E4LJK4,Amazon PLCC Free-Financing Universal Merchant AAT-7RCXIKUAX7DDY,Amazon PLCC Free-Financing Universal Merchant AAT-BRSZZ45H6MHAO,Amazon PLCC Free-Financing Universal Merchant AAT-MKLXOOZWQL7GO,Amazon PLCC Free-Financing Universal Merchant AAT-CB7UNXEXGIJTC,Amazon PLCC Free-Financing Universal Merchant #MP-gzasho-1593152694811,Amazon PLCC Free-Financing Universal Merchant AAT-WLBA4GZ52EAH4                                                                                                                                                                                                                                                                                                                                                                                                 | f   | Easy Ship    | \n",
            "          13 | 408-7955685-3083534 | 2022-04-30 | Shipped                      | Amazon     | Amazon.in     | Expedited          | SET182   | SET182-KR-DH-XS           | Set           | XS   | B085HS947T | Shipped        |        1 | INR      |  657.00 | MUMBAI          | MAHARASHTRA    | 400053           | IN           |                                                                                                                                                                                                                                                                                                                                                                                                                                                                                                                                                                                                                                                                                                                                                                                                                                                                                                                                                                                                                                                                                                                                                                                                                                                                                                                                                                                                                                                                                                                                                                                                                                                                        | f   |              | \n",
            "          51 | 402-3628566-9688333 | 2022-04-30 | Shipped                      | Amazon     | Amazon.in     | Expedited          | J0003    | J0003-SET-M               | Set           | M    | B0894XH3LN | Shipped        |        1 | INR      |  654.00 | BADLAPUR        | MAHARASHTRA    | 421503           | IN           | IN Core Free Shipping 2015/04/08 23-48-5-108                                                                                                                                                                                                                                                                                                                                                                                                                                                                                                                                                                                                                                                                                                                                                                                                                                                                                                                                                                                                                                                                                                                                                                                                                                                                                                                                                                                                                                                                                                                                                                                                                           | f   |              | \n",
            "          52 | 408-7138000-9728362 | 2022-04-30 | Shipped                      | Amazon     | Amazon.in     | Expedited          | SET282   | SET282-KR-PP-M            | Set           | M    | B09CTCDDQ4 | Shipped        |        1 | INR      | 1033.00 | dimapur         | NAGALAND       | 797112           | IN           | IN Core Free Shipping 2015/04/08 23-48-5-108                                                                                                                                                                                                                                                                                                                                                                                                                                                                                                                                                                                                                                                                                                                                                                                                                                                                                                                                                                                                                                                                                                                                                                                                                                                                                                                                                                                                                                                                                                                                                                                                                           | f   |              | \n",
            "          53 | 402-1752649-2274748 | 2022-04-30 | Shipped                      | Amazon     | Amazon.in     | Expedited          | JNE1407  | JNE1407-BLACK-KR-UDF18-XL | kurta         | XL   | B01M4IAS51 | Shipped        |        1 | INR      |  390.00 | BENGALURU       | KARNATAKA      | 560047           | IN           |                                                                                                                                                                                                                                                                                                                                                                                                                                                                                                                                                                                                                                                                                                                                                                                                                                                                                                                                                                                                                                                                                                                                                                                                                                                                                                                                                                                                                                                                                                                                                                                                                                                                        | f   |              | \n",
            "         633 | 406-8892825-4377127 | 2022-04-30 | Cancelled                    | Amazon     | Amazon.in     | Expedited          | SET388   | SET388-KR-NP-L            | Set           | L    | B09QJLFDRK | Cancelled      |        0 |          |         | GURUGRAM        | HARYANA        | 122002           | IN           |                                                                                                                                                                                                                                                                                                                                                                                                                                                                                                                                                                                                                                                                                                                                                                                                                                                                                                                                                                                                                                                                                                                                                                                                                                                                                                                                                                                                                                                                                                                                                                                                                                                                        | f   |              | \n",
            "          14 | 408-1298370-1920302 | 2022-04-30 | Shipped - Delivered to Buyer | Merchant   | Amazon.in     | Standard           | J0351    | J0351-SET-L               | Set           | L    | B09CSSQY4F | Shipped        |        1 | INR      |  771.00 | MUMBAI          | MAHARASHTRA    | 400053           | IN           | Amazon PLCC Free-Financing Universal Merchant AAT-WNKTBO3K27EJC,Amazon PLCC Free-Financing Universal Merchant AAT-QX3UCCJESKPA2,Amazon PLCC Free-Financing Universal Merchant AAT-5QQ7BIYYQEDN2,Amazon PLCC Free-Financing Universal Merchant AAT-DSJ2QRXXWXVMQ,Amazon PLCC Free-Financing Universal Merchant AAT-CXJHMC2YJUK76,Amazon PLCC Free-Financing Universal Merchant AAT-SL3Y2YRMAUNFC,Amazon PLCC Free-Financing Universal Merchant AAT-CC4FAVTYR4X7C,Amazon PLCC Free-Financing Universal Merchant AAT-XXRCW6NZEPZI4,Amazon PLCC Free-Financing Universal Merchant AAT-EOKPWFWYW7Y6I,Amazon PLCC Free-Financing Universal Merchant AAT-ZYL5UPUNW6T62,Amazon PLCC Free-Financing Universal Merchant AAT-ETXQ3XXWMRXBG,Amazon PLCC Free-Financing Universal Merchant AAT-7X3XCTYG64VBE,Amazon PLCC Free-Financing Universal Merchant AAT-7CHGD3WTS3MHM,Amazon PLCC Free-Financing Universal Merchant AAT-26ZDKNME27X42,Amazon PLCC Free-Financing Universal Merchant AAT-4ZF5KN6E4LJK4,Amazon PLCC Free-Financing Universal Merchant AAT-7RCXIKUAX7DDY,Amazon PLCC Free-Financing Universal Merchant AAT-TNYBHEAO7HOHO,Amazon PLCC Free-Financing Universal Merchant AAT-BRSZZ45H6MHAO,Amazon PLCC Free-Financing Universal Merchant AAT-MKLXOOZWQL7GO,Amazon PLCC Free-Financing Universal Merchant AAT-CB7UNXEXGIJTC,Amazon PLCC Free-Financing Universal Merchant #MP-gzasho-1593152694811,Amazon PLCC Free-Financing Universal Merchant AAT-WLBA4GZ52EAH4,Amazon PLCC Free-Financing Universal Merchant AAT-QMFZ3M7T5NPDS,Amazon PLCC Free-Financing Universal Merchant #MP-pmilan-1601980554292                                                          | f   | Easy Ship    | \n",
            "          15 | 403-4965581-9520319 | 2022-04-30 | Shipped - Delivered to Buyer | Merchant   | Amazon.in     | Standard           | PJNE3368 | PJNE3368-KR-6XL           | kurta         | 6XL  | B09PY99SVJ | Shipped        |        1 | INR      |  544.00 | GUNTAKAL        | ANDHRA PRADESH | 515801           | IN           | Amazon PLCC Free-Financing Universal Merchant AAT-WNKTBO3K27EJC,Amazon PLCC Free-Financing Universal Merchant AAT-QX3UCCJESKPA2,Amazon PLCC Free-Financing Universal Merchant AAT-5QQ7BIYYQEDN2,Amazon PLCC Free-Financing Universal Merchant AAT-DSJ2QRXXWXVMQ,Amazon PLCC Free-Financing Universal Merchant AAT-CXJHMC2YJUK76,Amazon PLCC Free-Financing Universal Merchant AAT-SL3Y2YRMAUNFC,Amazon PLCC Free-Financing Universal Merchant AAT-CC4FAVTYR4X7C,Amazon PLCC Free-Financing Universal Merchant AAT-XXRCW6NZEPZI4,Amazon PLCC Free-Financing Universal Merchant AAT-EOKPWFWYW7Y6I,Amazon PLCC Free-Financing Universal Merchant AAT-ZYL5UPUNW6T62,Amazon PLCC Free-Financing Universal Merchant AAT-ETXQ3XXWMRXBG,Amazon PLCC Free-Financing Universal Merchant AAT-7X3XCTYG64VBE,Amazon PLCC Free-Financing Universal Merchant AAT-7CHGD3WTS3MHM,Amazon PLCC Free-Financing Universal Merchant AAT-26ZDKNME27X42,Amazon PLCC Free-Financing Universal Merchant AAT-4ZF5KN6E4LJK4,Amazon PLCC Free-Financing Universal Merchant AAT-7RCXIKUAX7DDY,Amazon PLCC Free-Financing Universal Merchant AAT-BRSZZ45H6MHAO,Amazon PLCC Free-Financing Universal Merchant AAT-MKLXOOZWQL7GO,Amazon PLCC Free-Financing Universal Merchant AAT-CB7UNXEXGIJTC,Amazon PLCC Free-Financing Universal Merchant #MP-gzasho-1593152694811,Amazon PLCC Free-Financing Universal Merchant AAT-WLBA4GZ52EAH4                                                                                                                                                                                                                                                                 | f   | Easy Ship    | \n",
            "          16 | 406-9379318-6555504 | 2022-04-30 | Shipped                      | Amazon     | Amazon.in     | Expedited          | JNE3721  | JNE3721-KR-XXL            | kurta         | XXL  | B099FCT65D | Shipped        |        1 | INR      |  329.00 | JAIPUR          | RAJASTHAN      | 302020           | IN           | IN Core Free Shipping 2015/04/08 23-48-5-108                                                                                                                                                                                                                                                                                                                                                                                                                                                                                                                                                                                                                                                                                                                                                                                                                                                                                                                                                                                                                                                                                                                                                                                                                                                                                                                                                                                                                                                                                                                                                                                                                           | f   |              | \n",
            "          17 | 405-9013803-8009918 | 2022-04-30 | Shipped                      | Amazon     | Amazon.in     | Expedited          | JNE3405  | JNE3405-KR-XL             | kurta         | XL   | B081WT6GG7 | Shipped        |        1 | INR      |  399.00 | NEW DELHI       | DELHI          | 110074           | IN           |                                                                                                                                                                                                                                                                                                                                                                                                                                                                                                                                                                                                                                                                                                                                                                                                                                                                                                                                                                                                                                                                                                                                                                                                                                                                                                                                                                                                                                                                                                                                                                                                                                                                        | f   |              | \n",
            "          18 | 402-4030358-5835511 | 2022-04-30 | Shipped - Delivered to Buyer | Merchant   | Amazon.in     | Standard           | JNE3697  | JNE3697-KR-XXL            | kurta         | XXL  | B098133PV5 | Shipped        |        1 | INR      |  458.00 | Gurgaon         | HARYANA        | 122004           | IN           | Amazon PLCC Free-Financing Universal Merchant AAT-WNKTBO3K27EJC,Amazon PLCC Free-Financing Universal Merchant AAT-QX3UCCJESKPA2,Amazon PLCC Free-Financing Universal Merchant AAT-5QQ7BIYYQEDN2,Amazon PLCC Free-Financing Universal Merchant AAT-DSJ2QRXXWXVMQ,Amazon PLCC Free-Financing Universal Merchant AAT-CXJHMC2YJUK76,Amazon PLCC Free-Financing Universal Merchant AAT-SL3Y2YRMAUNFC,Amazon PLCC Free-Financing Universal Merchant AAT-CC4FAVTYR4X7C,Amazon PLCC Free-Financing Universal Merchant AAT-XXRCW6NZEPZI4,Amazon PLCC Free-Financing Universal Merchant AAT-EOKPWFWYW7Y6I,Amazon PLCC Free-Financing Universal Merchant AAT-ZYL5UPUNW6T62,Amazon PLCC Free-Financing Universal Merchant AAT-ETXQ3XXWMRXBG,Amazon PLCC Free-Financing Universal Merchant AAT-7X3XCTYG64VBE,Amazon PLCC Free-Financing Universal Merchant AAT-7CHGD3WTS3MHM,Amazon PLCC Free-Financing Universal Merchant AAT-26ZDKNME27X42,Amazon PLCC Free-Financing Universal Merchant AAT-4ZF5KN6E4LJK4,Amazon PLCC Free-Financing Universal Merchant AAT-7RCXIKUAX7DDY,Amazon PLCC Free-Financing Universal Merchant AAT-BRSZZ45H6MHAO,Amazon PLCC Free-Financing Universal Merchant AAT-MKLXOOZWQL7GO,Amazon PLCC Free-Financing Universal Merchant AAT-CB7UNXEXGIJTC,Amazon PLCC Free-Financing Universal Merchant #MP-gzasho-1593152694811,Amazon PLCC Free-Financing Universal Merchant AAT-WLBA4GZ52EAH4,Amazon PLCC Free-Financing Universal Merchant #MP-pmilan-1601980554292                                                                                                                                                                                          | f   | Easy Ship    | \n",
            "          19 | 405-5957858-1051546 | 2022-04-30 | Shipped                      | Amazon     | Amazon.in     | Expedited          | SET254   | SET254-KR-NP-XS           | Set           | XS   | B0983DDPL6 | Shipped        |        1 | INR      |  886.00 | BENGALURU       | KARNATAKA      | 560017           | IN           |                                                                                                                                                                                                                                                                                                                                                                                                                                                                                                                                                                                                                                                                                                                                                                                                                                                                                                                                                                                                                                                                                                                                                                                                                                                                                                                                                                                                                                                                                                                                                                                                                                                                        | f   |              | \n",
            "          20 | 405-0607769-0716360 | 2022-04-30 | Shipped                      | Amazon     | Amazon.in     | Expedited          | JNE3795  | JNE3795-KR-XXXL           | kurta         | 3XL  | B09HMXJVFS | Shipped        |        1 | INR      |  517.00 | TIRUCHIRAPPALLI | TAMIL NADU     | 620018           | IN           | IN Core Free Shipping 2015/04/08 23-48-5-108                                                                                                                                                                                                                                                                                                                                                                                                                                                                                                                                                                                                                                                                                                                                                                                                                                                                                                                                                                                                                                                                                                                                                                                                                                                                                                                                                                                                                                                                                                                                                                                                                           | f   |              | \n",
            "(25 rows)\n",
            "\n"
          ]
        }
      ]
    },
    {
      "cell_type": "code",
      "source": [
        "!psql -h localhost -p 5432 -U upraxis -d dbpraxis -c 'select count(*) from amazon'"
      ],
      "metadata": {
        "colab": {
          "base_uri": "https://localhost:8080/"
        },
        "id": "FoQxpu5ybdj6",
        "outputId": "b20feca0-623d-41d1-c22f-116cb7508467"
      },
      "execution_count": 10,
      "outputs": [
        {
          "output_type": "stream",
          "name": "stdout",
          "text": [
            " count  \n",
            "--------\n",
            " 128975\n",
            "(1 row)\n",
            "\n"
          ]
        }
      ]
    },
    {
      "cell_type": "code",
      "source": [
        "!psql -h localhost -p 5432 -U upraxis -d dbpraxis -c 'select distinct(category) from amazon'"
      ],
      "metadata": {
        "id": "WgCOO0eWevns",
        "outputId": "55c7cca5-c833-46d2-9221-fa6c77660108",
        "colab": {
          "base_uri": "https://localhost:8080/"
        }
      },
      "execution_count": 11,
      "outputs": [
        {
          "output_type": "stream",
          "name": "stdout",
          "text": [
            "   category    \n",
            "---------------\n",
            " Blouse\n",
            " Western Dress\n",
            " Saree\n",
            " Dupatta\n",
            " Bottom\n",
            " Ethnic Dress\n",
            " Top\n",
            " Set\n",
            " kurta\n",
            "(9 rows)\n",
            "\n"
          ]
        }
      ]
    },
    {
      "cell_type": "code",
      "source": [
        "!psql -h localhost -p 5432 -U upraxis -d dbpraxis -c 'select count(distinct(style)) from amazon'"
      ],
      "metadata": {
        "id": "ub7UpVuXe-tk",
        "outputId": "387d18da-2da5-490f-e3d2-0e4ce91586b0",
        "colab": {
          "base_uri": "https://localhost:8080/"
        }
      },
      "execution_count": 13,
      "outputs": [
        {
          "output_type": "stream",
          "name": "stdout",
          "text": [
            " count \n",
            "-------\n",
            "  1377\n",
            "(1 row)\n",
            "\n"
          ]
        }
      ]
    }
  ]
}