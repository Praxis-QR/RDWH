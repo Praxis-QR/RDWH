{
  "nbformat": 4,
  "nbformat_minor": 0,
  "metadata": {
    "colab": {
      "provenance": [],
      "toc_visible": true,
      "collapsed_sections": [
        "9LoXNdJrc1Oe",
        "j7-wjzy1aBfl",
        "XKkkJN4yci7m",
        "hdvkFGAbZsxG"
      ],
      "include_colab_link": true
    },
    "kernelspec": {
      "name": "python3",
      "display_name": "Python 3"
    },
    "language_info": {
      "name": "python"
    }
  },
  "cells": [
    {
      "cell_type": "markdown",
      "metadata": {
        "id": "view-in-github",
        "colab_type": "text"
      },
      "source": [
        "<a href=\"https://colab.research.google.com/github/Praxis-QR/RDWH/blob/main/Cross_Tab_Cube_Rollup_Grouping_Sets_PostgreSQL.ipynb\" target=\"_parent\"><img src=\"https://colab.research.google.com/assets/colab-badge.svg\" alt=\"Open In Colab\"/></a>"
      ]
    },
    {
      "cell_type": "markdown",
      "source": [
        "![alt text](https://github.com/Praxis-QR/RDWH/raw/main/images/YantraJaalBanner.png)<br>\n",
        "\n",
        "\n",
        "<hr>\n",
        "\n",
        "[Prithwis Mukerjee](http://www.linkedin.com/in/prithwis)<br>"
      ],
      "metadata": {
        "id": "DBzz-qaN2tKu"
      }
    },
    {
      "cell_type": "code",
      "source": [
        "from datetime import datetime\n",
        "import pytz\n",
        "print('ॐ श्री सरस्वत्यै नमः',datetime.now(pytz.timezone('Asia/Calcutta')))\n",
        "!python --version\n",
        "!lsb_release -a"
      ],
      "metadata": {
        "id": "p7PNKRADtUIM",
        "outputId": "e83caad6-fd16-41ab-f12f-5be4f95e6121",
        "colab": {
          "base_uri": "https://localhost:8080/"
        }
      },
      "execution_count": 1,
      "outputs": [
        {
          "output_type": "stream",
          "name": "stdout",
          "text": [
            "ॐ श्री सरस्वत्यै नमः 2023-09-04 10:32:20.064705+05:30\n",
            "Python 3.10.12\n",
            "No LSB modules are available.\n",
            "Distributor ID:\tUbuntu\n",
            "Description:\tUbuntu 22.04.2 LTS\n",
            "Release:\t22.04\n",
            "Codename:\tjammy\n"
          ]
        }
      ]
    },
    {
      "cell_type": "markdown",
      "source": [
        "https://www.sqltutorial.org/sql-grouping-sets/ <br>\n",
        "https://www.sqltutorial.org/sql-rollup/ <br>\n",
        "https://www.sqltutorial.org/sql-cube/"
      ],
      "metadata": {
        "id": "9kREaF0_7rD2"
      }
    },
    {
      "cell_type": "markdown",
      "source": [
        "#Install"
      ],
      "metadata": {
        "id": "nD-QawLT6kDr"
      }
    },
    {
      "cell_type": "code",
      "execution_count": 2,
      "metadata": {
        "colab": {
          "base_uri": "https://localhost:8080/"
        },
        "id": "QBxqnsWJ0wA1",
        "outputId": "1ab1d453-1427-4e14-e6e8-43b8e15ddb7b"
      },
      "outputs": [
        {
          "output_type": "stream",
          "name": "stdout",
          "text": [
            "\n",
            "WARNING: apt does not have a stable CLI interface. Use with caution in scripts.\n",
            "\n",
            "\n",
            "WARNING: apt does not have a stable CLI interface. Use with caution in scripts.\n",
            "\n",
            " * Starting PostgreSQL 14 database server\n",
            "   ...done.\n",
            "psql (PostgreSQL) 14.9 (Ubuntu 14.9-0ubuntu0.22.04.1)\n"
          ]
        }
      ],
      "source": [
        "# Install postgresql server\n",
        "!apt update > /dev/null\n",
        "!apt install postgresql > /dev/null\n",
        "!service postgresql start\n",
        "!sudo -u postgres psql -V"
      ]
    },
    {
      "cell_type": "markdown",
      "source": [
        "## Configure"
      ],
      "metadata": {
        "id": "--pn1fPO6ndu"
      }
    },
    {
      "cell_type": "code",
      "source": [
        "# Setup a password `pass` for username `postgres`\n",
        "!sudo -u postgres psql -U postgres -c \"ALTER USER postgres PASSWORD 'pass';\"\n",
        "#\n",
        "# Setup a database with name `praxisdb` to be used\n",
        "!sudo -u postgres psql -U postgres -c 'DROP DATABASE IF EXISTS praxisdb;'\n",
        "!sudo -u postgres psql -U postgres -c 'CREATE DATABASE praxisdb;'"
      ],
      "metadata": {
        "colab": {
          "base_uri": "https://localhost:8080/"
        },
        "id": "J3PSLjXd1D-J",
        "outputId": "c47d6e9f-2e5a-41ff-ef32-98442df14799"
      },
      "execution_count": 3,
      "outputs": [
        {
          "output_type": "stream",
          "name": "stdout",
          "text": [
            "ALTER ROLE\n",
            "NOTICE:  database \"praxisdb\" does not exist, skipping\n",
            "DROP DATABASE\n",
            "CREATE DATABASE\n"
          ]
        }
      ]
    },
    {
      "cell_type": "code",
      "source": [
        "# Create file to store the password. Else will be prompted each time\n",
        "!echo \"localhost:5432:praxisdb:postgres:pass\" > ~/.pgpass\n",
        "!chmod 0600 ~/.pgpass\n",
        "!cat ~/.pgpass"
      ],
      "metadata": {
        "id": "vGTAlziaZREf",
        "outputId": "439cab42-5434-47e1-9478-e527c80b3e72",
        "colab": {
          "base_uri": "https://localhost:8080/"
        }
      },
      "execution_count": 4,
      "outputs": [
        {
          "output_type": "stream",
          "name": "stdout",
          "text": [
            "localhost:5432:praxisdb:postgres:pass\n"
          ]
        }
      ]
    },
    {
      "cell_type": "markdown",
      "source": [
        "## Create Table"
      ],
      "metadata": {
        "id": "pHTdNzrU6qUE"
      }
    },
    {
      "cell_type": "code",
      "source": [
        "#!psql -h localhost -p 5432 -Upostgres -W -dpraxisdb -c \\\n",
        "!psql -h localhost -p 5432 -Upostgres -dpraxisdb -c \\\n",
        "\"CREATE TABLE inventory ( \\\n",
        "    warehouse VARCHAR(255), \\\n",
        "    product VARCHAR(255) NOT NULL, \\\n",
        "    model VARCHAR(50) NOT NULL, \\\n",
        "    quantity INT, \\\n",
        "    PRIMARY KEY (warehouse,product,model) \\\n",
        "); \\\n",
        "\""
      ],
      "metadata": {
        "colab": {
          "base_uri": "https://localhost:8080/"
        },
        "id": "HU6UACin3c4j",
        "outputId": "71a7b384-c1a8-4567-eb85-8257615e8837"
      },
      "execution_count": 5,
      "outputs": [
        {
          "output_type": "stream",
          "name": "stdout",
          "text": [
            "CREATE TABLE\n"
          ]
        }
      ]
    },
    {
      "cell_type": "markdown",
      "source": [
        "## Load Data"
      ],
      "metadata": {
        "id": "9_OLx3qk_7qR"
      }
    },
    {
      "cell_type": "code",
      "source": [
        "!psql -h localhost -p 5432 -Upostgres -dpraxisdb -c \"\\\n",
        "INSERT INTO inventory(warehouse, product, model, quantity) VALUES('San Jose', 'iPhone','6s',100); \\\n",
        "INSERT INTO inventory(warehouse, product, model, quantity) VALUES('San Fransisco', 'iPhone','6s',50); \\\n",
        "INSERT INTO inventory(warehouse, product, model, quantity) VALUES('San Jose','iPhone','7',50); \\\n",
        "INSERT INTO inventory(warehouse, product, model, quantity) VALUES('San Fransisco', 'iPhone','7',10); \\\n",
        "INSERT INTO inventory(warehouse, product, model, quantity) VALUES('San Jose','iPhone','X',150); \\\n",
        "INSERT INTO inventory(warehouse, product, model, quantity) VALUES('San Fransisco', 'iPhone','X',200); \\\n",
        "INSERT INTO inventory(warehouse, product, model, quantity) VALUES('San Jose','Samsung','Galaxy S',200); \\\n",
        "INSERT INTO inventory(warehouse, product, model, quantity) VALUES('San Fransisco','Samsung','Galaxy S',200); \\\n",
        "INSERT INTO inventory(warehouse, product, model, quantity) VALUES('San Fransisco','Samsung','Note 8',100); \\\n",
        "INSERT INTO inventory(warehouse, product, model, quantity) VALUES('San Jose','Samsung','Note 8',150); \\\n",
        "\""
      ],
      "metadata": {
        "colab": {
          "base_uri": "https://localhost:8080/"
        },
        "id": "kfUDoKC54LZp",
        "outputId": "121252cb-9951-421d-e53f-886bf289fcac"
      },
      "execution_count": 6,
      "outputs": [
        {
          "output_type": "stream",
          "name": "stdout",
          "text": [
            "INSERT 0 1\n"
          ]
        }
      ]
    },
    {
      "cell_type": "markdown",
      "source": [
        "## View Data"
      ],
      "metadata": {
        "id": "hZscFeNNB1ja"
      }
    },
    {
      "cell_type": "code",
      "source": [
        "!psql -h localhost -p 5432 -Upostgres -dpraxisdb -c \"select * from inventory\""
      ],
      "metadata": {
        "colab": {
          "base_uri": "https://localhost:8080/"
        },
        "id": "HyBUhbAI2PV1",
        "outputId": "62391880-6249-4895-819b-71cc2ab48587"
      },
      "execution_count": 7,
      "outputs": [
        {
          "output_type": "stream",
          "name": "stdout",
          "text": [
            "   warehouse   | product |  model   | quantity \n",
            "---------------+---------+----------+----------\n",
            " San Jose      | iPhone  | 6s       |      100\n",
            " San Fransisco | iPhone  | 6s       |       50\n",
            " San Jose      | iPhone  | 7        |       50\n",
            " San Fransisco | iPhone  | 7        |       10\n",
            " San Jose      | iPhone  | X        |      150\n",
            " San Fransisco | iPhone  | X        |      200\n",
            " San Jose      | Samsung | Galaxy S |      200\n",
            " San Fransisco | Samsung | Galaxy S |      200\n",
            " San Fransisco | Samsung | Note 8   |      100\n",
            " San Jose      | Samsung | Note 8   |      150\n",
            "(10 rows)\n",
            "\n"
          ]
        }
      ]
    },
    {
      "cell_type": "markdown",
      "source": [
        "#Grouping Sets"
      ],
      "metadata": {
        "id": "KmBDU4FG-mAN"
      }
    },
    {
      "cell_type": "code",
      "source": [
        "!psql -h localhost -p 5432 -Upostgres -dpraxisdb -c \"\\\n",
        "SELECT warehouse, product, SUM (quantity) qty \\\n",
        "FROM inventory \\\n",
        "GROUP BY warehouse, product; \\\n",
        "\""
      ],
      "metadata": {
        "colab": {
          "base_uri": "https://localhost:8080/"
        },
        "id": "fD_bN35O-pij",
        "outputId": "69970d32-8e94-4a4c-c177-cea9b3514b6a"
      },
      "execution_count": 8,
      "outputs": [
        {
          "output_type": "stream",
          "name": "stdout",
          "text": [
            "   warehouse   | product | qty \n",
            "---------------+---------+-----\n",
            " San Fransisco | iPhone  | 260\n",
            " San Fransisco | Samsung | 300\n",
            " San Jose      | iPhone  | 300\n",
            " San Jose      | Samsung | 350\n",
            "(4 rows)\n",
            "\n"
          ]
        }
      ]
    },
    {
      "cell_type": "code",
      "source": [
        "!psql -h localhost -p 5432 -Upostgres -dpraxisdb -c \"\\\n",
        "SELECT warehouse, SUM (quantity) qty \\\n",
        "FROM inventory \\\n",
        "GROUP BY warehouse; \\\n",
        "\""
      ],
      "metadata": {
        "colab": {
          "base_uri": "https://localhost:8080/"
        },
        "id": "tF7iEAXa_U1y",
        "outputId": "93335bdc-8090-4d8d-8d97-8631ee1ba91f"
      },
      "execution_count": 9,
      "outputs": [
        {
          "output_type": "stream",
          "name": "stdout",
          "text": [
            "   warehouse   | qty \n",
            "---------------+-----\n",
            " San Fransisco | 560\n",
            " San Jose      | 650\n",
            "(2 rows)\n",
            "\n"
          ]
        }
      ]
    },
    {
      "cell_type": "code",
      "source": [
        "!psql -h localhost -p 5432 -Upostgres -dpraxisdb -c \"\\\n",
        "SELECT product, SUM (quantity) qty \\\n",
        "FROM inventory \\\n",
        "GROUP BY product; \\\n",
        "\""
      ],
      "metadata": {
        "colab": {
          "base_uri": "https://localhost:8080/"
        },
        "id": "TU-iiyq7_k4n",
        "outputId": "610d689b-96d9-4524-dc59-8fd3fc80c284"
      },
      "execution_count": 10,
      "outputs": [
        {
          "output_type": "stream",
          "name": "stdout",
          "text": [
            " product | qty \n",
            "---------+-----\n",
            " iPhone  | 560\n",
            " Samsung | 650\n",
            "(2 rows)\n",
            "\n"
          ]
        }
      ]
    },
    {
      "cell_type": "code",
      "source": [
        "!psql -h localhost -p 5432 -Upostgres -dpraxisdb -c \"\\\n",
        "SELECT SUM(quantity) qty \\\n",
        "FROM inventory; \\\n",
        "\""
      ],
      "metadata": {
        "colab": {
          "base_uri": "https://localhost:8080/"
        },
        "id": "K0-PFyRp_3hB",
        "outputId": "18c76ff3-74cf-4762-cb6c-7ff86020ab64"
      },
      "execution_count": 11,
      "outputs": [
        {
          "output_type": "stream",
          "name": "stdout",
          "text": [
            " qty  \n",
            "------\n",
            " 1210\n",
            "(1 row)\n",
            "\n"
          ]
        }
      ]
    },
    {
      "cell_type": "markdown",
      "source": [
        "## Union All"
      ],
      "metadata": {
        "id": "K3AOUuo3AUsL"
      }
    },
    {
      "cell_type": "code",
      "source": [
        "!psql -h localhost -p 5432 -Upostgres -dpraxisdb -c \"\\\n",
        "SELECT warehouse, product, SUM (quantity) qty \\\n",
        "FROM inventory GROUP BY warehouse, product \\\n",
        "UNION ALL\\\n",
        "SELECT  warehouse, null, SUM (quantity) qty \\\n",
        "FROM inventory GROUP BY warehouse \\\n",
        "UNION ALL \\\n",
        "SELECT null, product, SUM (quantity) qty \\\n",
        "FROM inventory GROUP BY product \\\n",
        "UNION ALL\\\n",
        "SELECT null, null, SUM(quantity) qty \\\n",
        "FROM inventory;\\\n",
        "\""
      ],
      "metadata": {
        "colab": {
          "base_uri": "https://localhost:8080/"
        },
        "id": "PXxFb2KFAXkp",
        "outputId": "c9fca844-48d2-4f62-c23f-e87a9944ce4b"
      },
      "execution_count": 12,
      "outputs": [
        {
          "output_type": "stream",
          "name": "stdout",
          "text": [
            "   warehouse   | product | qty  \n",
            "---------------+---------+------\n",
            " San Fransisco | iPhone  |  260\n",
            " San Fransisco | Samsung |  300\n",
            " San Jose      | iPhone  |  300\n",
            " San Jose      | Samsung |  350\n",
            " San Fransisco |         |  560\n",
            " San Jose      |         |  650\n",
            "               | iPhone  |  560\n",
            "               | Samsung |  650\n",
            "               |         | 1210\n",
            "(9 rows)\n",
            "\n"
          ]
        }
      ]
    },
    {
      "cell_type": "markdown",
      "source": [
        "## Grouping Sets"
      ],
      "metadata": {
        "id": "UuLSsc0PBXyo"
      }
    },
    {
      "cell_type": "code",
      "source": [
        "!psql -h localhost -p 5432 -Upostgres -dpraxisdb -c \"\\\n",
        "SELECT warehouse, product,  SUM (quantity) qty \\\n",
        "FROM inventory \\\n",
        "GROUP BY \\\n",
        "    GROUPING SETS( \\\n",
        "        (warehouse,product), \\\n",
        "        (warehouse), \\\n",
        "        (product), \\\n",
        "        () \\\n",
        "    ); \\\n",
        "\"\n"
      ],
      "metadata": {
        "colab": {
          "base_uri": "https://localhost:8080/"
        },
        "id": "adkKIiScBbhV",
        "outputId": "ee2c65a0-79d5-4057-d6b8-ac661f328775"
      },
      "execution_count": 13,
      "outputs": [
        {
          "output_type": "stream",
          "name": "stdout",
          "text": [
            "   warehouse   | product | qty  \n",
            "---------------+---------+------\n",
            "               |         | 1210\n",
            " San Fransisco | iPhone  |  260\n",
            " San Fransisco | Samsung |  300\n",
            " San Jose      | iPhone  |  300\n",
            " San Jose      | Samsung |  350\n",
            " San Fransisco |         |  560\n",
            " San Jose      |         |  650\n",
            "               | iPhone  |  560\n",
            "               | Samsung |  650\n",
            "(9 rows)\n",
            "\n"
          ]
        }
      ]
    },
    {
      "cell_type": "markdown",
      "source": [
        "#Roll Up"
      ],
      "metadata": {
        "id": "lCBVM8MwCQbN"
      }
    },
    {
      "cell_type": "code",
      "source": [
        "!psql -h localhost -p 5432 -Upostgres -dpraxisdb -c \"\\\n",
        "SELECT warehouse, SUM(quantity) \\\n",
        "FROM inventory \\\n",
        "GROUP BY warehouse; \\\n",
        "\""
      ],
      "metadata": {
        "colab": {
          "base_uri": "https://localhost:8080/"
        },
        "id": "fVkMd4ilCUms",
        "outputId": "792132a8-194f-4663-c0ba-3229cb04be04"
      },
      "execution_count": 14,
      "outputs": [
        {
          "output_type": "stream",
          "name": "stdout",
          "text": [
            "   warehouse   | sum \n",
            "---------------+-----\n",
            " San Fransisco | 560\n",
            " San Jose      | 650\n",
            "(2 rows)\n",
            "\n"
          ]
        }
      ]
    },
    {
      "cell_type": "code",
      "source": [
        "!psql -h localhost -p 5432 -Upostgres -dpraxisdb -c \"\\\n",
        "SELECT warehouse, SUM(quantity) \\\n",
        "FROM inventory \\\n",
        "GROUP BY ROLLUP (warehouse); \\\n",
        "\""
      ],
      "metadata": {
        "colab": {
          "base_uri": "https://localhost:8080/"
        },
        "id": "gBkkZZLfCz4N",
        "outputId": "ae97ec44-88a1-4c42-cca6-efc25e7ec946"
      },
      "execution_count": 15,
      "outputs": [
        {
          "output_type": "stream",
          "name": "stdout",
          "text": [
            "   warehouse   | sum  \n",
            "---------------+------\n",
            "               | 1210\n",
            " San Fransisco |  560\n",
            " San Jose      |  650\n",
            "(3 rows)\n",
            "\n"
          ]
        }
      ]
    },
    {
      "cell_type": "code",
      "source": [
        "!psql -h localhost -p 5432 -Upostgres -dpraxisdb -c \"\\\n",
        "SELECT COALESCE(warehouse, 'All warehouses') AS warehouse, \\\n",
        "    SUM(quantity) \\\n",
        "FROM inventory \\\n",
        "GROUP BY ROLLUP (warehouse);\\\n",
        "\""
      ],
      "metadata": {
        "colab": {
          "base_uri": "https://localhost:8080/"
        },
        "id": "Z4Kml11LDHLL",
        "outputId": "4085dc76-5741-4ce9-b19e-65efb8cf37c8"
      },
      "execution_count": 16,
      "outputs": [
        {
          "output_type": "stream",
          "name": "stdout",
          "text": [
            "   warehouse    | sum  \n",
            "----------------+------\n",
            " All warehouses | 1210\n",
            " San Fransisco  |  560\n",
            " San Jose       |  650\n",
            "(3 rows)\n",
            "\n"
          ]
        }
      ]
    },
    {
      "cell_type": "markdown",
      "source": [
        "## Multi Columns"
      ],
      "metadata": {
        "id": "WW7-ckdfDh1i"
      }
    },
    {
      "cell_type": "code",
      "source": [
        "!psql -h localhost -p 5432 -Upostgres -dpraxisdb -c \"\\\n",
        "SELECT warehouse, product, SUM(quantity) \\\n",
        "FROM inventory \\\n",
        "GROUP BY warehouse, product; \\\n",
        "\""
      ],
      "metadata": {
        "colab": {
          "base_uri": "https://localhost:8080/"
        },
        "id": "P0BSPihaDoMp",
        "outputId": "6517ac31-7736-456b-8088-3ea04624e68d"
      },
      "execution_count": 17,
      "outputs": [
        {
          "output_type": "stream",
          "name": "stdout",
          "text": [
            "   warehouse   | product | sum \n",
            "---------------+---------+-----\n",
            " San Fransisco | iPhone  | 260\n",
            " San Fransisco | Samsung | 300\n",
            " San Jose      | iPhone  | 300\n",
            " San Jose      | Samsung | 350\n",
            "(4 rows)\n",
            "\n"
          ]
        }
      ]
    },
    {
      "cell_type": "code",
      "source": [
        "!psql -h localhost -p 5432 -Upostgres -dpraxisdb -c \"\\\n",
        "SELECT warehouse, product, SUM(quantity) \\\n",
        "FROM inventory \\\n",
        "GROUP BY ROLLUP (warehouse , product); \\\n",
        "\""
      ],
      "metadata": {
        "colab": {
          "base_uri": "https://localhost:8080/"
        },
        "id": "lm_TwnbYKgkC",
        "outputId": "6b60a45a-1150-4a3c-947e-35b6ec0282a3"
      },
      "execution_count": 18,
      "outputs": [
        {
          "output_type": "stream",
          "name": "stdout",
          "text": [
            "   warehouse   | product | sum  \n",
            "---------------+---------+------\n",
            "               |         | 1210\n",
            " San Fransisco | iPhone  |  260\n",
            " San Fransisco | Samsung |  300\n",
            " San Jose      | iPhone  |  300\n",
            " San Jose      | Samsung |  350\n",
            " San Fransisco |         |  560\n",
            " San Jose      |         |  650\n",
            "(7 rows)\n",
            "\n"
          ]
        }
      ]
    },
    {
      "cell_type": "markdown",
      "source": [
        "## Partial Roll Up"
      ],
      "metadata": {
        "id": "AIB4_KS1K2qW"
      }
    },
    {
      "cell_type": "code",
      "source": [
        "!psql -h localhost -p 5432 -Upostgres -dpraxisdb -c \"\\\n",
        "SELECT warehouse, product, SUM(quantity) \\\n",
        "FROM inventory \\\n",
        "GROUP BY warehouse, ROLLUP (product); \\\n",
        "\""
      ],
      "metadata": {
        "colab": {
          "base_uri": "https://localhost:8080/"
        },
        "id": "OJo_3CJvK6D7",
        "outputId": "31ae31c8-3137-4e38-b2a8-9eb282a32632"
      },
      "execution_count": 19,
      "outputs": [
        {
          "output_type": "stream",
          "name": "stdout",
          "text": [
            "   warehouse   | product | sum \n",
            "---------------+---------+-----\n",
            " San Fransisco | iPhone  | 260\n",
            " San Fransisco | Samsung | 300\n",
            " San Jose      | iPhone  | 300\n",
            " San Jose      | Samsung | 350\n",
            " San Fransisco |         | 560\n",
            " San Jose      |         | 650\n",
            "(6 rows)\n",
            "\n"
          ]
        }
      ]
    },
    {
      "cell_type": "code",
      "source": [
        "!psql -h localhost -p 5432 -Upostgres -dpraxisdb -c \"\\\n",
        "SELECT warehouse, COALESCE(product, 'All products'), SUM(quantity) \\\n",
        "FROM inventory \\\n",
        "GROUP BY warehouse, ROLLUP (product); \\\n",
        "\""
      ],
      "metadata": {
        "colab": {
          "base_uri": "https://localhost:8080/"
        },
        "id": "M3icmCefLOq7",
        "outputId": "8a8f83cf-912b-46f0-d483-d8a55d576a0b"
      },
      "execution_count": 20,
      "outputs": [
        {
          "output_type": "stream",
          "name": "stdout",
          "text": [
            "   warehouse   |   coalesce   | sum \n",
            "---------------+--------------+-----\n",
            " San Fransisco | iPhone       | 260\n",
            " San Fransisco | Samsung      | 300\n",
            " San Jose      | iPhone       | 300\n",
            " San Jose      | Samsung      | 350\n",
            " San Fransisco | All products | 560\n",
            " San Jose      | All products | 650\n",
            "(6 rows)\n",
            "\n"
          ]
        }
      ]
    },
    {
      "cell_type": "markdown",
      "source": [
        "#Cube"
      ],
      "metadata": {
        "id": "8Y2a_rYhMBrv"
      }
    },
    {
      "cell_type": "code",
      "source": [
        "!psql -h localhost -p 5432 -Upostgres -dpraxisdb -c \"\\\n",
        "SELECT warehouse, SUM(quantity) \\\n",
        "FROM inventory \\\n",
        "GROUP BY warehouse; \\\n",
        "\""
      ],
      "metadata": {
        "colab": {
          "base_uri": "https://localhost:8080/"
        },
        "id": "TZ0KSDLSMbRw",
        "outputId": "9fa64f0d-f72d-4993-cd99-52539358f2d8"
      },
      "execution_count": 21,
      "outputs": [
        {
          "output_type": "stream",
          "name": "stdout",
          "text": [
            "   warehouse   | sum \n",
            "---------------+-----\n",
            " San Fransisco | 560\n",
            " San Jose      | 650\n",
            "(2 rows)\n",
            "\n"
          ]
        }
      ]
    },
    {
      "cell_type": "code",
      "source": [
        "!psql -h localhost -p 5432 -Upostgres -dpraxisdb -c \"\\\n",
        "SELECT warehouse, SUM(quantity) \\\n",
        "FROM inventory \\\n",
        "GROUP BY CUBE(warehouse) \\\n",
        "ORDER BY warehouse;  \\\n",
        "\""
      ],
      "metadata": {
        "colab": {
          "base_uri": "https://localhost:8080/"
        },
        "id": "MNePxLk4MXx5",
        "outputId": "ba1018da-546b-427c-de7f-a3141c8a3296"
      },
      "execution_count": 22,
      "outputs": [
        {
          "output_type": "stream",
          "name": "stdout",
          "text": [
            "   warehouse   | sum  \n",
            "---------------+------\n",
            " San Fransisco |  560\n",
            " San Jose      |  650\n",
            "               | 1210\n",
            "(3 rows)\n",
            "\n"
          ]
        }
      ]
    },
    {
      "cell_type": "code",
      "source": [
        "!psql -h localhost -p 5432 -Upostgres -dpraxisdb -c \"\\\n",
        "SELECT COALESCE(warehouse, 'All warehouses'), SUM(quantity) \\\n",
        "FROM inventory \\\n",
        "GROUP BY CUBE(warehouse) \\\n",
        "ORDER BY warehouse;  \\\n",
        "\""
      ],
      "metadata": {
        "colab": {
          "base_uri": "https://localhost:8080/"
        },
        "id": "MiWiwiX-NJfK",
        "outputId": "afed5a93-a066-4935-c77a-531d1041dbbf"
      },
      "execution_count": 23,
      "outputs": [
        {
          "output_type": "stream",
          "name": "stdout",
          "text": [
            "    coalesce    | sum  \n",
            "----------------+------\n",
            " San Fransisco  |  560\n",
            " San Jose       |  650\n",
            " All warehouses | 1210\n",
            "(3 rows)\n",
            "\n"
          ]
        }
      ]
    },
    {
      "cell_type": "markdown",
      "source": [
        "## Multiple Columns"
      ],
      "metadata": {
        "id": "pLxM6neANllc"
      }
    },
    {
      "cell_type": "code",
      "source": [
        "!psql -h localhost -p 5432 -Upostgres -dpraxisdb -c \"\\\n",
        "SELECT warehouse, product, SUM(quantity) \\\n",
        "FROM inventory \\\n",
        "GROUP BY warehouse,product \\\n",
        "ORDER BY warehouse,product; \\\n",
        "\""
      ],
      "metadata": {
        "colab": {
          "base_uri": "https://localhost:8080/"
        },
        "id": "fVAypSnhNkUJ",
        "outputId": "64183f3d-0b59-4f94-8be2-e385ecf8fae0"
      },
      "execution_count": 24,
      "outputs": [
        {
          "output_type": "stream",
          "name": "stdout",
          "text": [
            "   warehouse   | product | sum \n",
            "---------------+---------+-----\n",
            " San Fransisco | iPhone  | 260\n",
            " San Fransisco | Samsung | 300\n",
            " San Jose      | iPhone  | 300\n",
            " San Jose      | Samsung | 350\n",
            "(4 rows)\n",
            "\n"
          ]
        }
      ]
    },
    {
      "cell_type": "code",
      "source": [
        "!psql -h localhost -p 5432 -Upostgres -dpraxisdb -c \"\\\n",
        "SELECT \\\n",
        "   warehouse, \\\n",
        "   product, \\\n",
        "   SUM(quantity) \\\n",
        "FROM  inventory \\\n",
        "GROUP BY CUBE(warehouse,product) \\\n",
        "ORDER BY warehouse, product; \\\n",
        "\"\n"
      ],
      "metadata": {
        "colab": {
          "base_uri": "https://localhost:8080/"
        },
        "id": "vBXapm-NODKX",
        "outputId": "3d4fe502-dbce-4d0d-c1d4-221f2557a828"
      },
      "execution_count": 25,
      "outputs": [
        {
          "output_type": "stream",
          "name": "stdout",
          "text": [
            "   warehouse   | product | sum  \n",
            "---------------+---------+------\n",
            " San Fransisco | iPhone  |  260\n",
            " San Fransisco | Samsung |  300\n",
            " San Fransisco |         |  560\n",
            " San Jose      | iPhone  |  300\n",
            " San Jose      | Samsung |  350\n",
            " San Jose      |         |  650\n",
            "               | iPhone  |  560\n",
            "               | Samsung |  650\n",
            "               |         | 1210\n",
            "(9 rows)\n",
            "\n"
          ]
        }
      ]
    },
    {
      "cell_type": "code",
      "source": [
        "!psql -h localhost -p 5432 -Upostgres -dpraxisdb -c \"\\\n",
        "SELECT \\\n",
        "   COALESCE(warehouse, '...All Warehouses') warehouse, \\\n",
        "   COALESCE(product, '...All Products') product, \\\n",
        "   SUM(quantity) \\\n",
        "FROM  inventory \\\n",
        "GROUP BY CUBE(warehouse,product) \\\n",
        "ORDER BY warehouse, product; \\\n",
        "\""
      ],
      "metadata": {
        "colab": {
          "base_uri": "https://localhost:8080/"
        },
        "id": "zDa8P7upObi7",
        "outputId": "cf646834-cb81-45f1-faf0-17c2ed9a0280"
      },
      "execution_count": 26,
      "outputs": [
        {
          "output_type": "stream",
          "name": "stdout",
          "text": [
            "     warehouse     |     product     | sum  \n",
            "-------------------+-----------------+------\n",
            " ...All Warehouses | ...All Products | 1210\n",
            " ...All Warehouses | iPhone          |  560\n",
            " ...All Warehouses | Samsung         |  650\n",
            " San Fransisco     | ...All Products |  560\n",
            " San Fransisco     | iPhone          |  260\n",
            " San Fransisco     | Samsung         |  300\n",
            " San Jose          | ...All Products |  650\n",
            " San Jose          | iPhone          |  300\n",
            " San Jose          | Samsung         |  350\n",
            "(9 rows)\n",
            "\n"
          ]
        }
      ]
    },
    {
      "cell_type": "markdown",
      "source": [
        "#Three Dimensional Cube\n",
        "see [MySQL Version](https://github.com/Praxis-QR/RDWH/blob/main/Cross_Tabs_with_OLAP_Cube_Normalised_KeyValueTables.ipynb) for context"
      ],
      "metadata": {
        "id": "-WAUMik-RMQa"
      }
    },
    {
      "cell_type": "markdown",
      "source": [
        "## Create Fact Table"
      ],
      "metadata": {
        "id": "9LoXNdJrc1Oe"
      }
    },
    {
      "cell_type": "code",
      "source": [
        "!psql -h localhost -p 5432 -Upostgres -dpraxisdb -c 'DROP TABLE IF EXISTS CarSalesFact_S2'\n",
        "# ---------------------------\n",
        "!psql -h localhost -p 5432 -Upostgres -dpraxisdb -c \"\\\n",
        "CREATE TABLE CarSalesFact_S2 ( \\\n",
        "  Make text, \\\n",
        "  Type text, \\\n",
        "  Colour text, \\\n",
        "  Value int DEFAULT NULL,\\\n",
        "  Units int NOT NULL DEFAULT '0'\\\n",
        ")\"\n",
        "# ---------------------------\n",
        "!psql -h localhost -p 5432 -Upostgres -dpraxisdb -c \"\\\n",
        "INSERT INTO CarSalesFact_S2 VALUES \\\n",
        "('Honda','SUV','Red',7000,2),('Honda','SUV','Black',18000,4),('Honda','Sedan','Brown',5000,1), \\\n",
        "('Toyota','Compact','Red',7000,1),('Toyota','Sedan','Black',9000,2),\\\n",
        "('Mazda','SUV','Black',4000,1),('Mazda','Compact','Red',5000,1),('Mazda','Sedan','Brown',4000,1),('Mazda','SUV','Red',3000,1);\\\n",
        "\"\n",
        "# ---------------------------\n",
        "!psql -h localhost -p 5432 -Upostgres -dpraxisdb -c \"select * from CarSalesFact_S2\""
      ],
      "metadata": {
        "colab": {
          "base_uri": "https://localhost:8080/"
        },
        "id": "Arnd1gAaX50R",
        "outputId": "7f1a451a-6c07-4430-f11f-061bf45436aa"
      },
      "execution_count": 28,
      "outputs": [
        {
          "output_type": "stream",
          "name": "stdout",
          "text": [
            "NOTICE:  table \"carsalesfact_s2\" does not exist, skipping\n",
            "DROP TABLE\n",
            "CREATE TABLE\n",
            "INSERT 0 9\n",
            "  make  |  type   | colour | value | units \n",
            "--------+---------+--------+-------+-------\n",
            " Honda  | SUV     | Red    |  7000 |     2\n",
            " Honda  | SUV     | Black  | 18000 |     4\n",
            " Honda  | Sedan   | Brown  |  5000 |     1\n",
            " Toyota | Compact | Red    |  7000 |     1\n",
            " Toyota | Sedan   | Black  |  9000 |     2\n",
            " Mazda  | SUV     | Black  |  4000 |     1\n",
            " Mazda  | Compact | Red    |  5000 |     1\n",
            " Mazda  | Sedan   | Brown  |  4000 |     1\n",
            " Mazda  | SUV     | Red    |  3000 |     1\n",
            "(9 rows)\n",
            "\n"
          ]
        }
      ]
    },
    {
      "cell_type": "markdown",
      "source": [
        "## Cross Tab Level 1"
      ],
      "metadata": {
        "id": "j7-wjzy1aBfl"
      }
    },
    {
      "cell_type": "code",
      "source": [
        "!psql -h localhost -p 5432 -Upostgres -dpraxisdb -c \" \\\n",
        "  select Make, Type, Sum(Units) Count \\\n",
        "  from CarSalesFact_S2 \\\n",
        "  group by Make, Type \\\n",
        "\""
      ],
      "metadata": {
        "colab": {
          "base_uri": "https://localhost:8080/"
        },
        "id": "eUMmclngaG5X",
        "outputId": "0c20170c-facd-4436-bb19-5bb0c7dd49b4"
      },
      "execution_count": 29,
      "outputs": [
        {
          "output_type": "stream",
          "name": "stdout",
          "text": [
            "  make  |  type   | count \n",
            "--------+---------+-------\n",
            " Mazda  | SUV     |     2\n",
            " Honda  | SUV     |     6\n",
            " Mazda  | Sedan   |     1\n",
            " Toyota | Compact |     1\n",
            " Toyota | Sedan   |     2\n",
            " Honda  | Sedan   |     1\n",
            " Mazda  | Compact |     1\n",
            "(7 rows)\n",
            "\n"
          ]
        }
      ]
    },
    {
      "cell_type": "code",
      "source": [
        "!psql -h localhost -p 5432 -Upostgres -dpraxisdb -c \" \\\n",
        "  select Make,  Sum(Units) Count \\\n",
        "  from CarSalesFact_S2 \\\n",
        "  group by Make \\\n",
        "\""
      ],
      "metadata": {
        "colab": {
          "base_uri": "https://localhost:8080/"
        },
        "id": "vXkP_yeUaXMo",
        "outputId": "f3badb70-4ba3-4cf7-cd51-f3b2b4db3139"
      },
      "execution_count": 30,
      "outputs": [
        {
          "output_type": "stream",
          "name": "stdout",
          "text": [
            "  make  | count \n",
            "--------+-------\n",
            " Honda  |     7\n",
            " Toyota |     3\n",
            " Mazda  |     4\n",
            "(3 rows)\n",
            "\n"
          ]
        }
      ]
    },
    {
      "cell_type": "code",
      "source": [
        "#case when (Dim = 'Make') then DimValue else '' end\n",
        "#case when (Type = 'Sedan') then Units else 0 end\n",
        "\n",
        "\n",
        "!psql -h localhost -p 5432 -Upostgres -dpraxisdb -c \" \\\n",
        "    select Make, \\\n",
        "    sum(case when (Type = 'Sedan') then Units else 0 end) as Sedan, \\\n",
        "    sum(case when (Type = 'SUV') then Units else 0 end) as SUV, \\\n",
        "    sum(case when (Type = 'Compact') then Units else 0 end) as Compact \\\n",
        "    from CarSalesFact_S2 \\\n",
        "    group by Make\""
      ],
      "metadata": {
        "colab": {
          "base_uri": "https://localhost:8080/"
        },
        "id": "Pcj2DAL3alrm",
        "outputId": "2d82dfe7-58ad-4de3-8932-35c4edb06d15"
      },
      "execution_count": 31,
      "outputs": [
        {
          "output_type": "stream",
          "name": "stdout",
          "text": [
            "  make  | sedan | suv | compact \n",
            "--------+-------+-----+---------\n",
            " Honda  |     1 |   6 |       0\n",
            " Toyota |     2 |   0 |       1\n",
            " Mazda  |     1 |   2 |       1\n",
            "(3 rows)\n",
            "\n"
          ]
        }
      ]
    },
    {
      "cell_type": "code",
      "source": [
        "!psql -h localhost -p 5432 -Upostgres -dpraxisdb -c \" \\\n",
        "    select Make, \\\n",
        "    sum(case when (Type = 'Sedan') then Value else 0 end) as Sedan, \\\n",
        "    sum(case when (Type = 'SUV') then Value else 0 end) as SUV, \\\n",
        "    sum(case when (Type = 'Compact') then Value else 0 end) as Compact \\\n",
        "    from CarSalesFact_S2 \\\n",
        "    group by Make\""
      ],
      "metadata": {
        "colab": {
          "base_uri": "https://localhost:8080/"
        },
        "id": "TYPY_r-LaRE6",
        "outputId": "7dc74e60-666d-4d05-8e55-f575e2d5c8cf"
      },
      "execution_count": 32,
      "outputs": [
        {
          "output_type": "stream",
          "name": "stdout",
          "text": [
            "  make  | sedan |  suv  | compact \n",
            "--------+-------+-------+---------\n",
            " Honda  |  5000 | 25000 |       0\n",
            " Toyota |  9000 |     0 |    7000\n",
            " Mazda  |  4000 |  7000 |    5000\n",
            "(3 rows)\n",
            "\n"
          ]
        }
      ]
    },
    {
      "cell_type": "markdown",
      "source": [
        "## Cross Tab Level 2"
      ],
      "metadata": {
        "id": "XKkkJN4yci7m"
      }
    },
    {
      "cell_type": "code",
      "source": [
        "#!psql -h localhost -p 5432 -Upostgres -dpraxisdb -c \" \\\n",
        "#  select Make, Type, Sum(Units) Count \\\n",
        "#  from CarSalesFact_S2 \\\n",
        "#  group by Make, Type  \\\n",
        "#  with ROLLUP; \\\n",
        "#\"\n",
        "\n",
        "#COALESCE(warehouse, 'All warehouses') AS warehouse,\n",
        "\n",
        "!psql -h localhost -p 5432 -Upostgres -dpraxisdb -c \" \\\n",
        "  select COALESCE(Make, 'All Makes') AS Make, \\\n",
        "  COALESCE(Type, 'All Types') AS Type, \\\n",
        "  Sum(Units) Count \\\n",
        "  from CarSalesFact_S2 \\\n",
        "  group by ROLLUP (Make, Type)  \\\n",
        "\""
      ],
      "metadata": {
        "colab": {
          "base_uri": "https://localhost:8080/"
        },
        "id": "cuL1UatIdD2o",
        "outputId": "e2f20323-6a2f-4fd0-852d-40af9a5a515f"
      },
      "execution_count": 33,
      "outputs": [
        {
          "output_type": "stream",
          "name": "stdout",
          "text": [
            "   make    |   type    | count \n",
            "-----------+-----------+-------\n",
            " All Makes | All Types |    14\n",
            " Mazda     | SUV       |     2\n",
            " Honda     | SUV       |     6\n",
            " Mazda     | Sedan     |     1\n",
            " Toyota    | Compact   |     1\n",
            " Toyota    | Sedan     |     2\n",
            " Honda     | Sedan     |     1\n",
            " Mazda     | Compact   |     1\n",
            " Honda     | All Types |     7\n",
            " Toyota    | All Types |     3\n",
            " Mazda     | All Types |     4\n",
            "(11 rows)\n",
            "\n"
          ]
        }
      ]
    },
    {
      "cell_type": "markdown",
      "source": [
        "## Cross Tab Level 3"
      ],
      "metadata": {
        "id": "uaPoHGuCeajc"
      }
    },
    {
      "cell_type": "code",
      "source": [
        "#sum(case when (Type = 'Sedan') then Units else 0 end) as Sedan, \\\n",
        "!psql -h localhost -p 5432 -Upostgres -dpraxisdb -c \" \\\n",
        "SELECT \\\n",
        "\tMake,\\\n",
        "\tsum(case when (Type = 'Sedan') then Units else 0 end) as Sedan,\\\n",
        "\tsum(case when (Type = 'SUV') then Units else 0 end) as SUV,\\\n",
        "\tsum(case when (Type = 'Compact') then Units else 0 end) as Compact\\\n",
        "  FROM CarSalesFact_S2\\\n",
        "  GROUP BY ROLLUP (Make)\\\n",
        "\""
      ],
      "metadata": {
        "colab": {
          "base_uri": "https://localhost:8080/"
        },
        "id": "0GEXec1Ked3f",
        "outputId": "d6d6fd8f-a246-4b20-d7c6-0793ef2c3052"
      },
      "execution_count": 34,
      "outputs": [
        {
          "output_type": "stream",
          "name": "stdout",
          "text": [
            "  make  | sedan | suv | compact \n",
            "--------+-------+-----+---------\n",
            "        |     4 |   8 |       2\n",
            " Honda  |     1 |   6 |       0\n",
            " Toyota |     2 |   0 |       1\n",
            " Mazda  |     1 |   2 |       1\n",
            "(4 rows)\n",
            "\n"
          ]
        }
      ]
    },
    {
      "cell_type": "code",
      "source": [
        "#sum(case when (Type = 'Sedan') then Units else 0 end) as Sedan, \\\n",
        "!psql -h localhost -p 5432 -Upostgres -dpraxisdb -c \" \\\n",
        "SELECT \\\n",
        "    COALESCE(Make, 'Total') AS Dim, \\\n",
        "\tsum(case when (Type = 'Sedan') then Units else 0 end) as Sedan,\\\n",
        "\tsum(case when (Type = 'SUV') then Units else 0 end) as SUV,\\\n",
        "\tsum(case when (Type = 'Compact') then Units else 0 end) as Compact\\\n",
        "  FROM CarSalesFact_S2\\\n",
        "  GROUP BY ROLLUP (Make)\\\n",
        "\""
      ],
      "metadata": {
        "colab": {
          "base_uri": "https://localhost:8080/"
        },
        "id": "A0lPIXGRfgz1",
        "outputId": "96a0b240-b416-4ae5-9008-07aee6d00f10"
      },
      "execution_count": 35,
      "outputs": [
        {
          "output_type": "stream",
          "name": "stdout",
          "text": [
            "  dim   | sedan | suv | compact \n",
            "--------+-------+-----+---------\n",
            " Total  |     4 |   8 |       2\n",
            " Honda  |     1 |   6 |       0\n",
            " Toyota |     2 |   0 |       1\n",
            " Mazda  |     1 |   2 |       1\n",
            "(4 rows)\n",
            "\n"
          ]
        }
      ]
    },
    {
      "cell_type": "code",
      "source": [
        "!psql -h localhost -p 5432 -Upostgres -dpraxisdb -c \" \\\n",
        "SELECT \\\n",
        "COALESCE(Make, 'Total') AS Dim, \\\n",
        "sums.SUV, sums.Sedan, sums.Compact,\\\n",
        "sums.SUV + sums.Sedan + sums.Compact  Totals \\\n",
        "FROM ( \\\n",
        "  SELECT \\\n",
        "    Make, \\\n",
        "\tsum(case when (Type = 'Sedan') then Units else 0 end) as Sedan,\\\n",
        "\tsum(case when (Type = 'SUV') then Units else 0 end) as SUV,\\\n",
        "\tsum(case when (Type = 'Compact') then Units else 0 end) as Compact\\\n",
        "  FROM CarSalesFact_S2\\\n",
        "  GROUP BY ROLLUP (Make)\\\n",
        ") AS sums \\\n",
        "\""
      ],
      "metadata": {
        "colab": {
          "base_uri": "https://localhost:8080/"
        },
        "id": "C3Qeuvxfh2lE",
        "outputId": "d5140443-6957-4e80-855a-1e3275c8bd37"
      },
      "execution_count": 36,
      "outputs": [
        {
          "output_type": "stream",
          "name": "stdout",
          "text": [
            "  dim   | suv | sedan | compact | totals \n",
            "--------+-----+-------+---------+--------\n",
            " Total  |   8 |     4 |       2 |     14\n",
            " Honda  |   6 |     1 |       0 |      7\n",
            " Toyota |   0 |     2 |       1 |      3\n",
            " Mazda  |   2 |     1 |       1 |      4\n",
            "(4 rows)\n",
            "\n"
          ]
        }
      ]
    },
    {
      "cell_type": "code",
      "source": [
        "!psql -h localhost -p 5432 -Upostgres -dpraxisdb -c \" \\\n",
        "SELECT \\\n",
        "COALESCE(Make, 'Totals') AS Dim, \\\n",
        "sums.Brown, sums.Black, sums.Red,\\\n",
        "sums.Brown + sums.Black + sums.Red  Totals \\\n",
        "FROM ( \\\n",
        "  SELECT \\\n",
        "    Make, \\\n",
        "\tsum(case when (Colour = 'Brown') then Units else 0 end) as Brown,\\\n",
        "\tsum(case when (Colour = 'Black') then Units else 0 end) as Black,\\\n",
        "\tsum(case when (Colour = 'Red') then Units else 0 end) as Red\\\n",
        "  FROM CarSalesFact_S2\\\n",
        "  GROUP BY ROLLUP (Make)\\\n",
        ") AS sums \\\n",
        "\""
      ],
      "metadata": {
        "colab": {
          "base_uri": "https://localhost:8080/"
        },
        "id": "4jj3H0_rixpQ",
        "outputId": "9be5efcf-8851-444f-b50e-4be855ab0943"
      },
      "execution_count": 37,
      "outputs": [
        {
          "output_type": "stream",
          "name": "stdout",
          "text": [
            "  dim   | brown | black | red | totals \n",
            "--------+-------+-------+-----+--------\n",
            " Totals |     2 |     7 |   5 |     14\n",
            " Honda  |     1 |     4 |   2 |      7\n",
            " Toyota |     0 |     2 |   1 |      3\n",
            " Mazda  |     1 |     1 |   2 |      4\n",
            "(4 rows)\n",
            "\n"
          ]
        }
      ]
    },
    {
      "cell_type": "code",
      "source": [
        "!psql -h localhost -p 5432 -Upostgres -dpraxisdb -c \"select * from CarSalesFact_S2\""
      ],
      "metadata": {
        "colab": {
          "base_uri": "https://localhost:8080/"
        },
        "id": "Q77qzsWomBbE",
        "outputId": "42349089-702d-433a-9ad6-a65d94f5a7e4"
      },
      "execution_count": 38,
      "outputs": [
        {
          "output_type": "stream",
          "name": "stdout",
          "text": [
            "  make  |  type   | colour | value | units \n",
            "--------+---------+--------+-------+-------\n",
            " Honda  | SUV     | Red    |  7000 |     2\n",
            " Honda  | SUV     | Black  | 18000 |     4\n",
            " Honda  | Sedan   | Brown  |  5000 |     1\n",
            " Toyota | Compact | Red    |  7000 |     1\n",
            " Toyota | Sedan   | Black  |  9000 |     2\n",
            " Mazda  | SUV     | Black  |  4000 |     1\n",
            " Mazda  | Compact | Red    |  5000 |     1\n",
            " Mazda  | Sedan   | Brown  |  4000 |     1\n",
            " Mazda  | SUV     | Red    |  3000 |     1\n",
            "(9 rows)\n",
            "\n"
          ]
        }
      ]
    },
    {
      "cell_type": "code",
      "source": [
        "!psql -h localhost -p 5432 -Upostgres -dpraxisdb -c \"\\\n",
        "SELECT \\\n",
        "COALESCE(make, '- All Makes -') make, \\\n",
        "COALESCE(Type, '- All types -') cType, \\\n",
        "COALESCE(colour, '- All colour -') colour, \\\n",
        "sum(Units) \\\n",
        "FROM CarSalesFact_S2 \\\n",
        "GROUP BY CUBE(make,Type,colour) \\\n",
        "ORDER BY make,Type,colour; \\\n",
        "\""
      ],
      "metadata": {
        "colab": {
          "base_uri": "https://localhost:8080/"
        },
        "id": "K_UwFLDNm6ig",
        "outputId": "14a86293-d5fd-4aaf-ce96-709ac0f19a6c"
      },
      "execution_count": 39,
      "outputs": [
        {
          "output_type": "stream",
          "name": "stdout",
          "text": [
            "     make      |     ctype     |     colour     | sum \n",
            "---------------+---------------+----------------+-----\n",
            " - All Makes - | Compact       | - All colour - |   2\n",
            " - All Makes - | Compact       | Red            |   2\n",
            " - All Makes - | Sedan         | - All colour - |   4\n",
            " - All Makes - | Sedan         | Black          |   2\n",
            " - All Makes - | Sedan         | Brown          |   2\n",
            " - All Makes - | SUV           | - All colour - |   8\n",
            " - All Makes - | SUV           | Black          |   5\n",
            " - All Makes - | SUV           | Red            |   3\n",
            " - All Makes - | - All types - | - All colour - |  14\n",
            " - All Makes - | - All types - | Black          |   7\n",
            " - All Makes - | - All types - | Brown          |   2\n",
            " - All Makes - | - All types - | Red            |   5\n",
            " Honda         | Sedan         | - All colour - |   1\n",
            " Honda         | Sedan         | Brown          |   1\n",
            " Honda         | SUV           | - All colour - |   6\n",
            " Honda         | SUV           | Black          |   4\n",
            " Honda         | SUV           | Red            |   2\n",
            " Honda         | - All types - | - All colour - |   7\n",
            " Honda         | - All types - | Black          |   4\n",
            " Honda         | - All types - | Brown          |   1\n",
            " Honda         | - All types - | Red            |   2\n",
            " Mazda         | Compact       | - All colour - |   1\n",
            " Mazda         | Compact       | Red            |   1\n",
            " Mazda         | Sedan         | - All colour - |   1\n",
            " Mazda         | Sedan         | Brown          |   1\n",
            " Mazda         | SUV           | - All colour - |   2\n",
            " Mazda         | SUV           | Black          |   1\n",
            " Mazda         | SUV           | Red            |   1\n",
            " Mazda         | - All types - | - All colour - |   4\n",
            " Mazda         | - All types - | Black          |   1\n",
            " Mazda         | - All types - | Brown          |   1\n",
            " Mazda         | - All types - | Red            |   2\n",
            " Toyota        | Compact       | - All colour - |   1\n",
            " Toyota        | Compact       | Red            |   1\n",
            " Toyota        | Sedan         | - All colour - |   2\n",
            " Toyota        | Sedan         | Black          |   2\n",
            " Toyota        | - All types - | - All colour - |   3\n",
            " Toyota        | - All types - | Black          |   2\n",
            " Toyota        | - All types - | Red            |   1\n",
            "(39 rows)\n",
            "\n"
          ]
        }
      ]
    },
    {
      "cell_type": "markdown",
      "source": [
        "Signoff"
      ],
      "metadata": {
        "id": "3BTkpdsj-Hv0"
      }
    },
    {
      "cell_type": "code",
      "source": [
        "from datetime import datetime\n",
        "import pytz\n",
        "print('Last tested  ',datetime.now(pytz.timezone('Asia/Singapore')))"
      ],
      "metadata": {
        "colab": {
          "base_uri": "https://localhost:8080/"
        },
        "id": "To3pf5O2-Kas",
        "outputId": "028635e1-7974-46a6-e90d-4913c40f424b"
      },
      "execution_count": 40,
      "outputs": [
        {
          "output_type": "stream",
          "name": "stdout",
          "text": [
            "Last tested   2023-09-04 13:09:20.353905+08:00\n"
          ]
        }
      ]
    },
    {
      "cell_type": "markdown",
      "source": [
        "#Chronobooks <br>\n",
        "Two science fiction novels by Prithwis Mukerjee. A dystopian Earth. A technocratic society managed by artificial intelligence. Escape and epiphany on Mars. Can man and machine, carbon and silicon explore and escape into other dimensions of existence? An Indic perspective rooted in Advaita Vedanta and the Divine Feminine.  [More information](http://bit.ly/chronobooks) <br>\n",
        "![alt text](https://github.com/Praxis-QR/RDWH/raw/main/images/CTCYFooter-1.png)"
      ],
      "metadata": {
        "id": "_gNiZpyW3AzJ"
      }
    },
    {
      "cell_type": "markdown",
      "source": [
        "## Smaller Table, built with pivots - ignore"
      ],
      "metadata": {
        "id": "hdvkFGAbZsxG"
      }
    },
    {
      "cell_type": "code",
      "source": [
        "!psql -h localhost -p 5432 -Upostgres -dpraxisdb -c 'DROP table if exists CarSalesFact_N'\n",
        "!psql -h localhost -p 5432 -Upostgres -dpraxisdb -c 'CREATE TABLE if not exists CarSalesFact_N ( Txn int ,  Dim  varchar(8) ,  DimValue varchar(8) ) '"
      ],
      "metadata": {
        "colab": {
          "base_uri": "https://localhost:8080/"
        },
        "id": "CblRbAKtRR78",
        "outputId": "5739f57a-0696-42e3-e8c5-14fd7d1185c8"
      },
      "execution_count": null,
      "outputs": [
        {
          "output_type": "stream",
          "name": "stdout",
          "text": [
            "NOTICE:  table \"carsalesfact_n\" does not exist, skipping\n",
            "DROP TABLE\n",
            "CREATE TABLE\n"
          ]
        }
      ]
    },
    {
      "cell_type": "code",
      "source": [
        "!psql -h localhost -p 5432 -Upostgres -dpraxisdb -c \" \\\n",
        "INSERT INTO CarSalesFact_N (Txn, Dim, DimValue) VALUES \\\n",
        " (1, 'Make', 'Honda'),(1, 'Type', 'SUV'),(1, 'Colour', 'Red'),\\\n",
        " (2, 'Make', 'Honda'),(2, 'Type', 'SUV'),(2, 'Colour', 'Black'), \\\n",
        " (3, 'Make', 'Honda'),(3, 'Type', 'Sedan'),(3, 'Colour', 'Brown'),\\\n",
        " (4, 'Make', 'Toyota'),(4, 'Type', 'Compact'),(4, 'Colour', 'Red'),\\\n",
        " (5, 'Make', 'Toyota'),(5, 'Colour', 'Black'),(5, 'Type', 'Sedan'),\\\n",
        " (6, 'Make', 'Toyota'),(6, 'Colour', 'Black'),(6, 'Type', 'Sedan'),\\\n",
        " (7, 'Make', 'Honda'),(7, 'Type', 'SUV'),(7, 'Colour', 'Black'),\\\n",
        " (8, 'Make', 'Honda'),(8, 'Type', 'SUV'),(8, 'Colour', 'Red'),\\\n",
        " (9, 'Make', 'Honda'),(9, 'Type', 'SUV'),(9, 'Colour', 'Black'),\\\n",
        " (10, 'Make', 'Honda'),(10, 'Type', 'SUV'),(10, 'Colour', 'Black'),\\\n",
        " (11, 'Make', 'Mazda'),(11, 'Type', 'SUV'),(11, 'Colour', 'Black'),\\\n",
        " (12, 'Make', 'Mazda'),(12, 'Type', 'Compact'),(12, 'Colour', 'Red'),\\\n",
        " (13, 'Make', 'Mazda'),(13, 'Type', 'Sedan'),(13, 'Colour', 'Brown'),\\\n",
        " (14, 'Make', 'Mazda'),(14, 'Type', 'SUV'),(14, 'Colour', 'Red');\\\n",
        " \""
      ],
      "metadata": {
        "colab": {
          "base_uri": "https://localhost:8080/"
        },
        "id": "Lv-FyqoMR_6m",
        "outputId": "7e48e458-8a40-4561-dd69-916389b4befa"
      },
      "execution_count": null,
      "outputs": [
        {
          "output_type": "stream",
          "name": "stdout",
          "text": [
            "INSERT 0 42\n"
          ]
        }
      ]
    },
    {
      "cell_type": "code",
      "source": [
        "!psql -h localhost -p 5432 -Upostgres -dpraxisdb -c \" \\\n",
        "SELECT \\\n",
        "  Txn,\\\n",
        "  array_agg(case when (Dim = 'Make') then DimValue else '' end) AS Make,\\\n",
        "  array_agg(case when (Dim = 'Type') then DimValue else '' end) AS Type,\\\n",
        "  array_agg(case when (Dim = 'Colour') then DimValue else '' end) AS Colour \\\n",
        "FROM CarSalesFact_N \\\n",
        "GROUP BY txn \\\n",
        "\""
      ],
      "metadata": {
        "colab": {
          "base_uri": "https://localhost:8080/"
        },
        "id": "4Q25-T8hUh4x",
        "outputId": "9e7a4e14-3123-4033-e88a-82235fc911e7"
      },
      "execution_count": null,
      "outputs": [
        {
          "output_type": "stream",
          "name": "stdout",
          "text": [
            " txn |      make      |      type       |    colour     \n",
            "-----+----------------+-----------------+---------------\n",
            "   1 | {Honda,\"\",\"\"}  | {\"\",SUV,\"\"}     | {\"\",\"\",Red}\n",
            "   2 | {Honda,\"\",\"\"}  | {\"\",SUV,\"\"}     | {\"\",\"\",Black}\n",
            "   3 | {Honda,\"\",\"\"}  | {\"\",Sedan,\"\"}   | {\"\",\"\",Brown}\n",
            "   4 | {Toyota,\"\",\"\"} | {\"\",Compact,\"\"} | {\"\",\"\",Red}\n",
            "   5 | {Toyota,\"\",\"\"} | {\"\",\"\",Sedan}   | {\"\",Black,\"\"}\n",
            "   6 | {Toyota,\"\",\"\"} | {\"\",\"\",Sedan}   | {\"\",Black,\"\"}\n",
            "   7 | {Honda,\"\",\"\"}  | {\"\",SUV,\"\"}     | {\"\",\"\",Black}\n",
            "   8 | {Honda,\"\",\"\"}  | {\"\",SUV,\"\"}     | {\"\",\"\",Red}\n",
            "   9 | {Honda,\"\",\"\"}  | {\"\",SUV,\"\"}     | {\"\",\"\",Black}\n",
            "  10 | {Honda,\"\",\"\"}  | {\"\",SUV,\"\"}     | {\"\",\"\",Black}\n",
            "  11 | {Mazda,\"\",\"\"}  | {\"\",SUV,\"\"}     | {\"\",\"\",Black}\n",
            "  12 | {Mazda,\"\",\"\"}  | {\"\",Compact,\"\"} | {\"\",\"\",Red}\n",
            "  13 | {Mazda,\"\",\"\"}  | {\"\",Sedan,\"\"}   | {\"\",\"\",Brown}\n",
            "  14 | {Mazda,\"\",\"\"}  | {\"\",SUV,\"\"}     | {\"\",\"\",Red}\n",
            "(14 rows)\n",
            "\n"
          ]
        }
      ]
    },
    {
      "cell_type": "code",
      "source": [
        "!psql -h localhost -p 5432 -Upostgres -dpraxisdb -c \" \\\n",
        "SELECT \\\n",
        "  Txn,\\\n",
        "  array_to_string(array_agg(case when (Dim = 'Make') then DimValue else '' end),'') AS Make,\\\n",
        "  array_to_string(array_agg(case when (Dim = 'Type') then DimValue else '' end),'') AS Type,\\\n",
        "  array_to_string(array_agg(case when (Dim = 'Colour') then DimValue else '' end),'') AS Colour \\\n",
        "FROM CarSalesFact_N \\\n",
        "GROUP BY txn \\\n",
        "\""
      ],
      "metadata": {
        "colab": {
          "base_uri": "https://localhost:8080/"
        },
        "id": "sRo38NveBkW3",
        "outputId": "9aaf8b5c-7d0a-4705-db57-7c96017ffa7c"
      },
      "execution_count": null,
      "outputs": [
        {
          "output_type": "stream",
          "name": "stdout",
          "text": [
            " txn |  make  |  type   | colour \n",
            "-----+--------+---------+--------\n",
            "   1 | Honda  | SUV     | Red\n",
            "   2 | Honda  | SUV     | Black\n",
            "   3 | Honda  | Sedan   | Brown\n",
            "   4 | Toyota | Compact | Red\n",
            "   5 | Toyota | Sedan   | Black\n",
            "   6 | Toyota | Sedan   | Black\n",
            "   7 | Honda  | SUV     | Black\n",
            "   8 | Honda  | SUV     | Red\n",
            "   9 | Honda  | SUV     | Black\n",
            "  10 | Honda  | SUV     | Black\n",
            "  11 | Mazda  | SUV     | Black\n",
            "  12 | Mazda  | Compact | Red\n",
            "  13 | Mazda  | Sedan   | Brown\n",
            "  14 | Mazda  | SUV     | Red\n",
            "(14 rows)\n",
            "\n"
          ]
        }
      ]
    },
    {
      "cell_type": "code",
      "source": [
        "!psql -h localhost -p 5432 -Upostgres -dpraxisdb -c \" \\\n",
        "select csf0.Make, csf0.Type, csf0.Colour, count(txn) Units from \\\n",
        "(SELECT \\\n",
        "  Txn,\\\n",
        "  array_to_string(array_agg(case when (Dim = 'Make') then DimValue else '' end),'') AS Make,\\\n",
        "  array_to_string(array_agg(case when (Dim = 'Type') then DimValue else '' end),'') AS Type,\\\n",
        "  array_to_string(array_agg(case when (Dim = 'Colour') then DimValue else '' end),'') AS Colour \\\n",
        "FROM CarSalesFact_N \\\n",
        "GROUP BY txn \\\n",
        ") as csf0 \\\n",
        "group by \\\n",
        "csf0.Make, csf0.Type, csf0.Colour \\\n",
        "\""
      ],
      "metadata": {
        "colab": {
          "base_uri": "https://localhost:8080/"
        },
        "id": "Ppg33IvsXrQw",
        "outputId": "d8231761-9cab-41d3-b9e2-c5f349dd2d6d"
      },
      "execution_count": null,
      "outputs": [
        {
          "output_type": "stream",
          "name": "stdout",
          "text": [
            "  make  |  type   | colour | units \n",
            "--------+---------+--------+-------\n",
            " Honda  | SUV     | Red    |     2\n",
            " Honda  | SUV     | Black  |     4\n",
            " Toyota | Compact | Red    |     1\n",
            " Mazda  | Compact | Red    |     1\n",
            " Mazda  | SUV     | Red    |     1\n",
            " Toyota | Sedan   | Black  |     2\n",
            " Honda  | Sedan   | Brown  |     1\n",
            " Mazda  | Sedan   | Brown  |     1\n",
            " Mazda  | SUV     | Black  |     1\n",
            "(9 rows)\n",
            "\n"
          ]
        }
      ]
    },
    {
      "cell_type": "code",
      "source": [
        "!psql -h localhost -p 5432 -Upostgres -dpraxisdb -c \"drop table if exists CarSalesFact_S\"\n",
        "!psql -h localhost -p 5432 -Upostgres -dpraxisdb -c \" \\\n",
        "create table CarSalesFact_S as ( \\\n",
        "    select csf0.Make, csf0.Type, csf0.Colour, count(txn) Units from \\\n",
        "    (SELECT \\\n",
        "    Txn,\\\n",
        "    array_to_string(array_agg(case when (Dim = 'Make') then DimValue else '' end),'') AS Make,\\\n",
        "    array_to_string(array_agg(case when (Dim = 'Type') then DimValue else '' end),'') AS Type,\\\n",
        "    array_to_string(array_agg(case when (Dim = 'Colour') then DimValue else '' end),'') AS Colour \\\n",
        "    FROM CarSalesFact_N \\\n",
        "    GROUP BY txn \\\n",
        "    ) as csf0 \\\n",
        "    group by \\\n",
        "    csf0.Make, csf0.Type, csf0.Colour \\\n",
        ") \\\n",
        "\"\n",
        "!psql -h localhost -p 5432 -Upostgres -dpraxisdb -c \"select * from CarSalesFact_S\""
      ],
      "metadata": {
        "id": "Pc1eg1cMVPcp",
        "colab": {
          "base_uri": "https://localhost:8080/"
        },
        "outputId": "187a7887-51d7-4a43-c80c-8675a122c5ed"
      },
      "execution_count": null,
      "outputs": [
        {
          "output_type": "stream",
          "name": "stdout",
          "text": [
            "NOTICE:  table \"carsalesfact_s\" does not exist, skipping\n",
            "DROP TABLE\n",
            "SELECT 9\n",
            "  make  |  type   | colour | units \n",
            "--------+---------+--------+-------\n",
            " Honda  | SUV     | Red    |     2\n",
            " Honda  | SUV     | Black  |     4\n",
            " Toyota | Compact | Red    |     1\n",
            " Mazda  | Compact | Red    |     1\n",
            " Mazda  | SUV     | Red    |     1\n",
            " Toyota | Sedan   | Black  |     2\n",
            " Honda  | Sedan   | Brown  |     1\n",
            " Mazda  | Sedan   | Brown  |     1\n",
            " Mazda  | SUV     | Black  |     1\n",
            "(9 rows)\n",
            "\n"
          ]
        }
      ]
    }
  ]
}