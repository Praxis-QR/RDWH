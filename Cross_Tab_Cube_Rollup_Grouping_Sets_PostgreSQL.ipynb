{
  "nbformat": 4,
  "nbformat_minor": 0,
  "metadata": {
    "colab": {
      "provenance": [],
      "toc_visible": true,
      "collapsed_sections": [
        "9LoXNdJrc1Oe",
        "j7-wjzy1aBfl",
        "XKkkJN4yci7m",
        "hdvkFGAbZsxG"
      ],
      "include_colab_link": true
    },
    "kernelspec": {
      "name": "python3",
      "display_name": "Python 3"
    },
    "language_info": {
      "name": "python"
    }
  },
  "cells": [
    {
      "cell_type": "markdown",
      "metadata": {
        "id": "view-in-github",
        "colab_type": "text"
      },
      "source": [
        "<a href=\"https://colab.research.google.com/github/Praxis-QR/RDWH/blob/main/Cross_Tab_Cube_Rollup_Grouping_Sets_PostgreSQL.ipynb\" target=\"_parent\"><img src=\"https://colab.research.google.com/assets/colab-badge.svg\" alt=\"Open In Colab\"/></a>"
      ]
    },
    {
      "cell_type": "markdown",
      "source": [
        "![alt text](https://github.com/Praxis-QR/RDWH/raw/main/images/YantraJaalBanner.png)<br>\n",
        "\n",
        "\n",
        "<hr>\n",
        "\n",
        "[Prithwis Mukerjee](http://www.linkedin.com/in/prithwis)<br>"
      ],
      "metadata": {
        "id": "DBzz-qaN2tKu"
      }
    },
    {
      "cell_type": "code",
      "source": [
        "from datetime import datetime\n",
        "import pytz\n",
        "print('ॐ श्री सरस्वत्यै नमः',datetime.now(pytz.timezone('Asia/Calcutta')))\n",
        "!python --version\n",
        "!lsb_release -a"
      ],
      "metadata": {
        "id": "p7PNKRADtUIM",
        "outputId": "2e518158-4e49-48f0-a64d-0a9a3594ce4c",
        "colab": {
          "base_uri": "https://localhost:8080/"
        }
      },
      "execution_count": 1,
      "outputs": [
        {
          "output_type": "stream",
          "name": "stdout",
          "text": [
            "ॐ श्री सरस्वत्यै नमः 2023-08-21 06:58:59.694133+05:30\n",
            "Python 3.10.12\n",
            "No LSB modules are available.\n",
            "Distributor ID:\tUbuntu\n",
            "Description:\tUbuntu 22.04.2 LTS\n",
            "Release:\t22.04\n",
            "Codename:\tjammy\n"
          ]
        }
      ]
    },
    {
      "cell_type": "markdown",
      "source": [
        "https://www.sqltutorial.org/sql-grouping-sets/ <br>\n",
        "https://www.sqltutorial.org/sql-rollup/ <br>\n",
        "https://www.sqltutorial.org/sql-cube/"
      ],
      "metadata": {
        "id": "9kREaF0_7rD2"
      }
    },
    {
      "cell_type": "markdown",
      "source": [
        "#Install"
      ],
      "metadata": {
        "id": "nD-QawLT6kDr"
      }
    },
    {
      "cell_type": "code",
      "execution_count": 2,
      "metadata": {
        "colab": {
          "base_uri": "https://localhost:8080/"
        },
        "id": "QBxqnsWJ0wA1",
        "outputId": "71da78b5-0849-43d9-82de-42042e5bc869"
      },
      "outputs": [
        {
          "output_type": "stream",
          "name": "stdout",
          "text": [
            "\n",
            "WARNING: apt does not have a stable CLI interface. Use with caution in scripts.\n",
            "\n",
            "\n",
            "WARNING: apt does not have a stable CLI interface. Use with caution in scripts.\n",
            "\n",
            " * Starting PostgreSQL 14 database server\n",
            "   ...done.\n",
            "psql (PostgreSQL) 14.9 (Ubuntu 14.9-0ubuntu0.22.04.1)\n"
          ]
        }
      ],
      "source": [
        "# Install postgresql server\n",
        "!apt update > /dev/null\n",
        "!apt install postgresql > /dev/null\n",
        "!service postgresql start\n",
        "!sudo -u postgres psql -V"
      ]
    },
    {
      "cell_type": "markdown",
      "source": [
        "## Configure"
      ],
      "metadata": {
        "id": "--pn1fPO6ndu"
      }
    },
    {
      "cell_type": "code",
      "source": [
        "# Setup a password `pass` for username `postgres`\n",
        "!sudo -u postgres psql -U postgres -c \"ALTER USER postgres PASSWORD 'pass';\"\n",
        "#\n",
        "# Setup a database with name `praxisdb` to be used\n",
        "!sudo -u postgres psql -U postgres -c 'DROP DATABASE IF EXISTS praxisdb;'\n",
        "!sudo -u postgres psql -U postgres -c 'CREATE DATABASE praxisdb;'"
      ],
      "metadata": {
        "colab": {
          "base_uri": "https://localhost:8080/"
        },
        "id": "J3PSLjXd1D-J",
        "outputId": "86399372-abbe-4cdb-e028-7be587dd586f"
      },
      "execution_count": 3,
      "outputs": [
        {
          "output_type": "stream",
          "name": "stdout",
          "text": [
            "ALTER ROLE\n",
            "NOTICE:  database \"praxisdb\" does not exist, skipping\n",
            "DROP DATABASE\n",
            "CREATE DATABASE\n"
          ]
        }
      ]
    },
    {
      "cell_type": "code",
      "source": [
        "# Create file to store the password. Else will be prompted each time\n",
        "!echo \"localhost:5432:praxisdb:postgres:pass\" > ~/.pgpass\n",
        "!chmod 0600 ~/.pgpass\n",
        "!cat ~/.pgpass"
      ],
      "metadata": {
        "id": "vGTAlziaZREf",
        "outputId": "f8e9b657-914b-4cd7-94ec-03b015add14e",
        "colab": {
          "base_uri": "https://localhost:8080/"
        }
      },
      "execution_count": 4,
      "outputs": [
        {
          "output_type": "stream",
          "name": "stdout",
          "text": [
            "localhost:5432:praxisdb:postgres:pass\n"
          ]
        }
      ]
    },
    {
      "cell_type": "markdown",
      "source": [
        "## Create Table"
      ],
      "metadata": {
        "id": "pHTdNzrU6qUE"
      }
    },
    {
      "cell_type": "code",
      "source": [
        "#!psql -h localhost -p 5432 -Upostgres -W -dpraxisdb -c \\\n",
        "!psql -h localhost -p 5432 -Upostgres -dpraxisdb -c \\\n",
        "\"CREATE TABLE inventory ( \\\n",
        "    warehouse VARCHAR(255), \\\n",
        "    product VARCHAR(255) NOT NULL, \\\n",
        "    model VARCHAR(50) NOT NULL, \\\n",
        "    quantity INT, \\\n",
        "    PRIMARY KEY (warehouse,product,model) \\\n",
        "); \\\n",
        "\""
      ],
      "metadata": {
        "colab": {
          "base_uri": "https://localhost:8080/"
        },
        "id": "HU6UACin3c4j",
        "outputId": "23b8708a-1262-4a51-bda2-b09a8fe527d0"
      },
      "execution_count": 5,
      "outputs": [
        {
          "output_type": "stream",
          "name": "stdout",
          "text": [
            "CREATE TABLE\n"
          ]
        }
      ]
    },
    {
      "cell_type": "markdown",
      "source": [
        "## Load Data"
      ],
      "metadata": {
        "id": "9_OLx3qk_7qR"
      }
    },
    {
      "cell_type": "code",
      "source": [
        "!psql -h localhost -p 5432 -Upostgres -dpraxisdb -c \"\\\n",
        "INSERT INTO inventory(warehouse, product, model, quantity) VALUES('San Jose', 'iPhone','6s',100); \\\n",
        "INSERT INTO inventory(warehouse, product, model, quantity) VALUES('San Fransisco', 'iPhone','6s',50); \\\n",
        "INSERT INTO inventory(warehouse, product, model, quantity) VALUES('San Jose','iPhone','7',50); \\\n",
        "INSERT INTO inventory(warehouse, product, model, quantity) VALUES('San Fransisco', 'iPhone','7',10); \\\n",
        "INSERT INTO inventory(warehouse, product, model, quantity) VALUES('San Jose','iPhone','X',150); \\\n",
        "INSERT INTO inventory(warehouse, product, model, quantity) VALUES('San Fransisco', 'iPhone','X',200); \\\n",
        "INSERT INTO inventory(warehouse, product, model, quantity) VALUES('San Jose','Samsung','Galaxy S',200); \\\n",
        "INSERT INTO inventory(warehouse, product, model, quantity) VALUES('San Fransisco','Samsung','Galaxy S',200); \\\n",
        "INSERT INTO inventory(warehouse, product, model, quantity) VALUES('San Fransisco','Samsung','Note 8',100); \\\n",
        "INSERT INTO inventory(warehouse, product, model, quantity) VALUES('San Jose','Samsung','Note 8',150); \\\n",
        "\""
      ],
      "metadata": {
        "colab": {
          "base_uri": "https://localhost:8080/"
        },
        "id": "kfUDoKC54LZp",
        "outputId": "cbb0ae04-4fda-42b7-faf0-8057ea51ae41"
      },
      "execution_count": 6,
      "outputs": [
        {
          "output_type": "stream",
          "name": "stdout",
          "text": [
            "INSERT 0 1\n"
          ]
        }
      ]
    },
    {
      "cell_type": "markdown",
      "source": [
        "## View Data"
      ],
      "metadata": {
        "id": "hZscFeNNB1ja"
      }
    },
    {
      "cell_type": "code",
      "source": [
        "!psql -h localhost -p 5432 -Upostgres -dpraxisdb -c \"select * from inventory\""
      ],
      "metadata": {
        "colab": {
          "base_uri": "https://localhost:8080/"
        },
        "id": "HyBUhbAI2PV1",
        "outputId": "2843d879-02b0-4fb3-9d62-7cd17898474e"
      },
      "execution_count": 7,
      "outputs": [
        {
          "output_type": "stream",
          "name": "stdout",
          "text": [
            "   warehouse   | product |  model   | quantity \n",
            "---------------+---------+----------+----------\n",
            " San Jose      | iPhone  | 6s       |      100\n",
            " San Fransisco | iPhone  | 6s       |       50\n",
            " San Jose      | iPhone  | 7        |       50\n",
            " San Fransisco | iPhone  | 7        |       10\n",
            " San Jose      | iPhone  | X        |      150\n",
            " San Fransisco | iPhone  | X        |      200\n",
            " San Jose      | Samsung | Galaxy S |      200\n",
            " San Fransisco | Samsung | Galaxy S |      200\n",
            " San Fransisco | Samsung | Note 8   |      100\n",
            " San Jose      | Samsung | Note 8   |      150\n",
            "(10 rows)\n",
            "\n"
          ]
        }
      ]
    },
    {
      "cell_type": "markdown",
      "source": [
        "#Grouping Sets"
      ],
      "metadata": {
        "id": "KmBDU4FG-mAN"
      }
    },
    {
      "cell_type": "code",
      "source": [
        "!psql -h localhost -p 5432 -Upostgres -dpraxisdb -c \"\\\n",
        "SELECT warehouse, product, SUM (quantity) qty \\\n",
        "FROM inventory \\\n",
        "GROUP BY warehouse, product; \\\n",
        "\""
      ],
      "metadata": {
        "colab": {
          "base_uri": "https://localhost:8080/"
        },
        "id": "fD_bN35O-pij",
        "outputId": "60b7ddbf-b61d-4198-9b3e-f97ff454f86d"
      },
      "execution_count": 8,
      "outputs": [
        {
          "output_type": "stream",
          "name": "stdout",
          "text": [
            "   warehouse   | product | qty \n",
            "---------------+---------+-----\n",
            " San Fransisco | iPhone  | 260\n",
            " San Fransisco | Samsung | 300\n",
            " San Jose      | iPhone  | 300\n",
            " San Jose      | Samsung | 350\n",
            "(4 rows)\n",
            "\n"
          ]
        }
      ]
    },
    {
      "cell_type": "code",
      "source": [
        "!psql -h localhost -p 5432 -Upostgres -dpraxisdb -c \"\\\n",
        "SELECT warehouse, SUM (quantity) qty \\\n",
        "FROM inventory \\\n",
        "GROUP BY warehouse; \\\n",
        "\""
      ],
      "metadata": {
        "colab": {
          "base_uri": "https://localhost:8080/"
        },
        "id": "tF7iEAXa_U1y",
        "outputId": "feac31ac-8189-4ffa-ada8-d0847b9da177"
      },
      "execution_count": 9,
      "outputs": [
        {
          "output_type": "stream",
          "name": "stdout",
          "text": [
            "   warehouse   | qty \n",
            "---------------+-----\n",
            " San Fransisco | 560\n",
            " San Jose      | 650\n",
            "(2 rows)\n",
            "\n"
          ]
        }
      ]
    },
    {
      "cell_type": "code",
      "source": [
        "!psql -h localhost -p 5432 -Upostgres -dpraxisdb -c \"\\\n",
        "SELECT product, SUM (quantity) qty \\\n",
        "FROM inventory \\\n",
        "GROUP BY product; \\\n",
        "\""
      ],
      "metadata": {
        "colab": {
          "base_uri": "https://localhost:8080/"
        },
        "id": "TU-iiyq7_k4n",
        "outputId": "85d05f41-14a8-4696-fe09-21f5111b1c3f"
      },
      "execution_count": 10,
      "outputs": [
        {
          "output_type": "stream",
          "name": "stdout",
          "text": [
            " product | qty \n",
            "---------+-----\n",
            " iPhone  | 560\n",
            " Samsung | 650\n",
            "(2 rows)\n",
            "\n"
          ]
        }
      ]
    },
    {
      "cell_type": "code",
      "source": [
        "!psql -h localhost -p 5432 -Upostgres -dpraxisdb -c \"\\\n",
        "SELECT SUM(quantity) qty \\\n",
        "FROM inventory; \\\n",
        "\""
      ],
      "metadata": {
        "colab": {
          "base_uri": "https://localhost:8080/"
        },
        "id": "K0-PFyRp_3hB",
        "outputId": "c3306bee-f2b6-41d1-b0b2-d41b3ab4c20f"
      },
      "execution_count": 11,
      "outputs": [
        {
          "output_type": "stream",
          "name": "stdout",
          "text": [
            " qty  \n",
            "------\n",
            " 1210\n",
            "(1 row)\n",
            "\n"
          ]
        }
      ]
    },
    {
      "cell_type": "markdown",
      "source": [
        "## Union All"
      ],
      "metadata": {
        "id": "K3AOUuo3AUsL"
      }
    },
    {
      "cell_type": "code",
      "source": [
        "!psql -h localhost -p 5432 -Upostgres -dpraxisdb -c \"\\\n",
        "SELECT warehouse, product, SUM (quantity) qty \\\n",
        "FROM inventory GROUP BY warehouse, product \\\n",
        "UNION ALL\\\n",
        "SELECT  warehouse, null, SUM (quantity) qty \\\n",
        "FROM inventory GROUP BY warehouse \\\n",
        "UNION ALL \\\n",
        "SELECT null, product, SUM (quantity) qty \\\n",
        "FROM inventory GROUP BY product \\\n",
        "UNION ALL\\\n",
        "SELECT null, null, SUM(quantity) qty \\\n",
        "FROM inventory;\\\n",
        "\""
      ],
      "metadata": {
        "colab": {
          "base_uri": "https://localhost:8080/"
        },
        "id": "PXxFb2KFAXkp",
        "outputId": "3009b2ba-5d38-4fd9-fede-7f4d6647f29c"
      },
      "execution_count": 12,
      "outputs": [
        {
          "output_type": "stream",
          "name": "stdout",
          "text": [
            "   warehouse   | product | qty  \n",
            "---------------+---------+------\n",
            " San Fransisco | iPhone  |  260\n",
            " San Fransisco | Samsung |  300\n",
            " San Jose      | iPhone  |  300\n",
            " San Jose      | Samsung |  350\n",
            " San Fransisco |         |  560\n",
            " San Jose      |         |  650\n",
            "               | iPhone  |  560\n",
            "               | Samsung |  650\n",
            "               |         | 1210\n",
            "(9 rows)\n",
            "\n"
          ]
        }
      ]
    },
    {
      "cell_type": "markdown",
      "source": [
        "## Grouping Sets"
      ],
      "metadata": {
        "id": "UuLSsc0PBXyo"
      }
    },
    {
      "cell_type": "code",
      "source": [
        "!psql -h localhost -p 5432 -Upostgres -dpraxisdb -c \"\\\n",
        "SELECT warehouse, product,  SUM (quantity) qty \\\n",
        "FROM inventory \\\n",
        "GROUP BY \\\n",
        "    GROUPING SETS( \\\n",
        "        (warehouse,product), \\\n",
        "        (warehouse), \\\n",
        "        (product), \\\n",
        "        () \\\n",
        "    ); \\\n",
        "\"\n"
      ],
      "metadata": {
        "colab": {
          "base_uri": "https://localhost:8080/"
        },
        "id": "adkKIiScBbhV",
        "outputId": "91fadc2b-88fe-4337-e59c-9e8bae09b32c"
      },
      "execution_count": 13,
      "outputs": [
        {
          "output_type": "stream",
          "name": "stdout",
          "text": [
            "   warehouse   | product | qty  \n",
            "---------------+---------+------\n",
            "               |         | 1210\n",
            " San Fransisco | iPhone  |  260\n",
            " San Fransisco | Samsung |  300\n",
            " San Jose      | iPhone  |  300\n",
            " San Jose      | Samsung |  350\n",
            " San Fransisco |         |  560\n",
            " San Jose      |         |  650\n",
            "               | iPhone  |  560\n",
            "               | Samsung |  650\n",
            "(9 rows)\n",
            "\n"
          ]
        }
      ]
    },
    {
      "cell_type": "markdown",
      "source": [
        "#Roll Up"
      ],
      "metadata": {
        "id": "lCBVM8MwCQbN"
      }
    },
    {
      "cell_type": "code",
      "source": [
        "!psql -h localhost -p 5432 -Upostgres -dpraxisdb -c \"\\\n",
        "SELECT warehouse, SUM(quantity) \\\n",
        "FROM inventory \\\n",
        "GROUP BY warehouse; \\\n",
        "\""
      ],
      "metadata": {
        "colab": {
          "base_uri": "https://localhost:8080/"
        },
        "id": "fVkMd4ilCUms",
        "outputId": "b9fff373-03d1-4f53-aadc-e428a2d8f6bd"
      },
      "execution_count": 14,
      "outputs": [
        {
          "output_type": "stream",
          "name": "stdout",
          "text": [
            "   warehouse   | sum \n",
            "---------------+-----\n",
            " San Fransisco | 560\n",
            " San Jose      | 650\n",
            "(2 rows)\n",
            "\n"
          ]
        }
      ]
    },
    {
      "cell_type": "code",
      "source": [
        "!psql -h localhost -p 5432 -Upostgres -dpraxisdb -c \"\\\n",
        "SELECT warehouse, SUM(quantity) \\\n",
        "FROM inventory \\\n",
        "GROUP BY ROLLUP (warehouse); \\\n",
        "\""
      ],
      "metadata": {
        "colab": {
          "base_uri": "https://localhost:8080/"
        },
        "id": "gBkkZZLfCz4N",
        "outputId": "4d6083ee-2e4e-42c0-e770-a473db7c8749"
      },
      "execution_count": 15,
      "outputs": [
        {
          "output_type": "stream",
          "name": "stdout",
          "text": [
            "   warehouse   | sum  \n",
            "---------------+------\n",
            "               | 1210\n",
            " San Fransisco |  560\n",
            " San Jose      |  650\n",
            "(3 rows)\n",
            "\n"
          ]
        }
      ]
    },
    {
      "cell_type": "code",
      "source": [
        "!psql -h localhost -p 5432 -Upostgres -dpraxisdb -c \"\\\n",
        "SELECT COALESCE(warehouse, 'All warehouses') AS warehouse, \\\n",
        "    SUM(quantity) \\\n",
        "FROM inventory \\\n",
        "GROUP BY ROLLUP (warehouse);\\\n",
        "\""
      ],
      "metadata": {
        "colab": {
          "base_uri": "https://localhost:8080/"
        },
        "id": "Z4Kml11LDHLL",
        "outputId": "bacccaad-a1bb-4340-bf43-2eb9855d8d45"
      },
      "execution_count": 16,
      "outputs": [
        {
          "output_type": "stream",
          "name": "stdout",
          "text": [
            "   warehouse    | sum  \n",
            "----------------+------\n",
            " All warehouses | 1210\n",
            " San Fransisco  |  560\n",
            " San Jose       |  650\n",
            "(3 rows)\n",
            "\n"
          ]
        }
      ]
    },
    {
      "cell_type": "markdown",
      "source": [
        "## Multi Columns"
      ],
      "metadata": {
        "id": "WW7-ckdfDh1i"
      }
    },
    {
      "cell_type": "code",
      "source": [
        "!psql -h localhost -p 5432 -Upostgres -dpraxisdb -c \"\\\n",
        "SELECT warehouse, product, SUM(quantity) \\\n",
        "FROM inventory \\\n",
        "GROUP BY warehouse, product; \\\n",
        "\""
      ],
      "metadata": {
        "colab": {
          "base_uri": "https://localhost:8080/"
        },
        "id": "P0BSPihaDoMp",
        "outputId": "23584e12-2f51-4946-e83a-98c783d7dfb9"
      },
      "execution_count": 17,
      "outputs": [
        {
          "output_type": "stream",
          "name": "stdout",
          "text": [
            "   warehouse   | product | sum \n",
            "---------------+---------+-----\n",
            " San Fransisco | iPhone  | 260\n",
            " San Fransisco | Samsung | 300\n",
            " San Jose      | iPhone  | 300\n",
            " San Jose      | Samsung | 350\n",
            "(4 rows)\n",
            "\n"
          ]
        }
      ]
    },
    {
      "cell_type": "code",
      "source": [
        "!psql -h localhost -p 5432 -Upostgres -dpraxisdb -c \"\\\n",
        "SELECT warehouse, product, SUM(quantity) \\\n",
        "FROM inventory \\\n",
        "GROUP BY ROLLUP (warehouse , product); \\\n",
        "\""
      ],
      "metadata": {
        "colab": {
          "base_uri": "https://localhost:8080/"
        },
        "id": "lm_TwnbYKgkC",
        "outputId": "af76c147-aa33-4413-e42b-292bc3cd474f"
      },
      "execution_count": 18,
      "outputs": [
        {
          "output_type": "stream",
          "name": "stdout",
          "text": [
            "   warehouse   | product | sum  \n",
            "---------------+---------+------\n",
            "               |         | 1210\n",
            " San Fransisco | iPhone  |  260\n",
            " San Fransisco | Samsung |  300\n",
            " San Jose      | iPhone  |  300\n",
            " San Jose      | Samsung |  350\n",
            " San Fransisco |         |  560\n",
            " San Jose      |         |  650\n",
            "(7 rows)\n",
            "\n"
          ]
        }
      ]
    },
    {
      "cell_type": "markdown",
      "source": [
        "## Partial Roll Up"
      ],
      "metadata": {
        "id": "AIB4_KS1K2qW"
      }
    },
    {
      "cell_type": "code",
      "source": [
        "!psql -h localhost -p 5432 -Upostgres -dpraxisdb -c \"\\\n",
        "SELECT warehouse, product, SUM(quantity) \\\n",
        "FROM inventory \\\n",
        "GROUP BY warehouse, ROLLUP (product); \\\n",
        "\""
      ],
      "metadata": {
        "colab": {
          "base_uri": "https://localhost:8080/"
        },
        "id": "OJo_3CJvK6D7",
        "outputId": "6aea818c-b1fc-4a42-c8a1-47581b40795e"
      },
      "execution_count": 19,
      "outputs": [
        {
          "output_type": "stream",
          "name": "stdout",
          "text": [
            "   warehouse   | product | sum \n",
            "---------------+---------+-----\n",
            " San Fransisco | iPhone  | 260\n",
            " San Fransisco | Samsung | 300\n",
            " San Jose      | iPhone  | 300\n",
            " San Jose      | Samsung | 350\n",
            " San Fransisco |         | 560\n",
            " San Jose      |         | 650\n",
            "(6 rows)\n",
            "\n"
          ]
        }
      ]
    },
    {
      "cell_type": "code",
      "source": [
        "!psql -h localhost -p 5432 -Upostgres -dpraxisdb -c \"\\\n",
        "SELECT warehouse, COALESCE(product, 'All products'), SUM(quantity) \\\n",
        "FROM inventory \\\n",
        "GROUP BY warehouse, ROLLUP (product); \\\n",
        "\""
      ],
      "metadata": {
        "colab": {
          "base_uri": "https://localhost:8080/"
        },
        "id": "M3icmCefLOq7",
        "outputId": "c32bcd14-da77-4521-da94-2c1c40c6bfb1"
      },
      "execution_count": 20,
      "outputs": [
        {
          "output_type": "stream",
          "name": "stdout",
          "text": [
            "   warehouse   |   coalesce   | sum \n",
            "---------------+--------------+-----\n",
            " San Fransisco | iPhone       | 260\n",
            " San Fransisco | Samsung      | 300\n",
            " San Jose      | iPhone       | 300\n",
            " San Jose      | Samsung      | 350\n",
            " San Fransisco | All products | 560\n",
            " San Jose      | All products | 650\n",
            "(6 rows)\n",
            "\n"
          ]
        }
      ]
    },
    {
      "cell_type": "markdown",
      "source": [
        "#Cube"
      ],
      "metadata": {
        "id": "8Y2a_rYhMBrv"
      }
    },
    {
      "cell_type": "code",
      "source": [
        "!psql -h localhost -p 5432 -Upostgres -dpraxisdb -c \"\\\n",
        "SELECT warehouse, SUM(quantity) \\\n",
        "FROM inventory \\\n",
        "GROUP BY warehouse; \\\n",
        "\""
      ],
      "metadata": {
        "colab": {
          "base_uri": "https://localhost:8080/"
        },
        "id": "TZ0KSDLSMbRw",
        "outputId": "59387f8f-736b-4a19-904d-5ce4480b2929"
      },
      "execution_count": 21,
      "outputs": [
        {
          "output_type": "stream",
          "name": "stdout",
          "text": [
            "   warehouse   | sum \n",
            "---------------+-----\n",
            " San Fransisco | 560\n",
            " San Jose      | 650\n",
            "(2 rows)\n",
            "\n"
          ]
        }
      ]
    },
    {
      "cell_type": "code",
      "source": [
        "!psql -h localhost -p 5432 -Upostgres -dpraxisdb -c \"\\\n",
        "SELECT warehouse, SUM(quantity) \\\n",
        "FROM inventory \\\n",
        "GROUP BY CUBE(warehouse) \\\n",
        "ORDER BY warehouse;  \\\n",
        "\""
      ],
      "metadata": {
        "colab": {
          "base_uri": "https://localhost:8080/"
        },
        "id": "MNePxLk4MXx5",
        "outputId": "85760c00-4709-4a14-8f93-cf65f788b184"
      },
      "execution_count": 22,
      "outputs": [
        {
          "output_type": "stream",
          "name": "stdout",
          "text": [
            "   warehouse   | sum  \n",
            "---------------+------\n",
            " San Fransisco |  560\n",
            " San Jose      |  650\n",
            "               | 1210\n",
            "(3 rows)\n",
            "\n"
          ]
        }
      ]
    },
    {
      "cell_type": "code",
      "source": [
        "!psql -h localhost -p 5432 -Upostgres -dpraxisdb -c \"\\\n",
        "SELECT COALESCE(warehouse, 'All warehouses'), SUM(quantity) \\\n",
        "FROM inventory \\\n",
        "GROUP BY CUBE(warehouse) \\\n",
        "ORDER BY warehouse;  \\\n",
        "\""
      ],
      "metadata": {
        "colab": {
          "base_uri": "https://localhost:8080/"
        },
        "id": "MiWiwiX-NJfK",
        "outputId": "1cf6c963-2a96-4956-9a36-e6db1997c271"
      },
      "execution_count": 23,
      "outputs": [
        {
          "output_type": "stream",
          "name": "stdout",
          "text": [
            "    coalesce    | sum  \n",
            "----------------+------\n",
            " San Fransisco  |  560\n",
            " San Jose       |  650\n",
            " All warehouses | 1210\n",
            "(3 rows)\n",
            "\n"
          ]
        }
      ]
    },
    {
      "cell_type": "markdown",
      "source": [
        "## Multiple Columns"
      ],
      "metadata": {
        "id": "pLxM6neANllc"
      }
    },
    {
      "cell_type": "code",
      "source": [
        "!psql -h localhost -p 5432 -Upostgres -dpraxisdb -c \"\\\n",
        "SELECT warehouse, product, SUM(quantity) \\\n",
        "FROM inventory \\\n",
        "GROUP BY warehouse,product \\\n",
        "ORDER BY warehouse,product; \\\n",
        "\""
      ],
      "metadata": {
        "colab": {
          "base_uri": "https://localhost:8080/"
        },
        "id": "fVAypSnhNkUJ",
        "outputId": "25a2df62-5d96-4a72-e43e-2014746efd4d"
      },
      "execution_count": 24,
      "outputs": [
        {
          "output_type": "stream",
          "name": "stdout",
          "text": [
            "   warehouse   | product | sum \n",
            "---------------+---------+-----\n",
            " San Fransisco | iPhone  | 260\n",
            " San Fransisco | Samsung | 300\n",
            " San Jose      | iPhone  | 300\n",
            " San Jose      | Samsung | 350\n",
            "(4 rows)\n",
            "\n"
          ]
        }
      ]
    },
    {
      "cell_type": "code",
      "source": [
        "!psql -h localhost -p 5432 -Upostgres -dpraxisdb -c \"\\\n",
        "SELECT \\\n",
        "   warehouse, \\\n",
        "   product, \\\n",
        "   SUM(quantity) \\\n",
        "FROM  inventory \\\n",
        "GROUP BY CUBE(warehouse,product) \\\n",
        "ORDER BY warehouse, product; \\\n",
        "\"\n"
      ],
      "metadata": {
        "colab": {
          "base_uri": "https://localhost:8080/"
        },
        "id": "vBXapm-NODKX",
        "outputId": "bbbac7eb-1f3f-45c9-f610-2e6d9498cef1"
      },
      "execution_count": 25,
      "outputs": [
        {
          "output_type": "stream",
          "name": "stdout",
          "text": [
            "   warehouse   | product | sum  \n",
            "---------------+---------+------\n",
            " San Fransisco | iPhone  |  260\n",
            " San Fransisco | Samsung |  300\n",
            " San Fransisco |         |  560\n",
            " San Jose      | iPhone  |  300\n",
            " San Jose      | Samsung |  350\n",
            " San Jose      |         |  650\n",
            "               | iPhone  |  560\n",
            "               | Samsung |  650\n",
            "               |         | 1210\n",
            "(9 rows)\n",
            "\n"
          ]
        }
      ]
    },
    {
      "cell_type": "code",
      "source": [
        "!psql -h localhost -p 5432 -Upostgres -dpraxisdb -c \"\\\n",
        "SELECT \\\n",
        "   COALESCE(warehouse, '...All Warehouses') warehouse, \\\n",
        "   COALESCE(product, '...All Products') product, \\\n",
        "   SUM(quantity) \\\n",
        "FROM  inventory \\\n",
        "GROUP BY CUBE(warehouse,product) \\\n",
        "ORDER BY warehouse, product; \\\n",
        "\""
      ],
      "metadata": {
        "colab": {
          "base_uri": "https://localhost:8080/"
        },
        "id": "zDa8P7upObi7",
        "outputId": "248d86b6-10df-4e1b-a950-2b7a26876195"
      },
      "execution_count": 26,
      "outputs": [
        {
          "output_type": "stream",
          "name": "stdout",
          "text": [
            "     warehouse     |     product     | sum  \n",
            "-------------------+-----------------+------\n",
            " ...All Warehouses | ...All Products | 1210\n",
            " ...All Warehouses | iPhone          |  560\n",
            " ...All Warehouses | Samsung         |  650\n",
            " San Fransisco     | ...All Products |  560\n",
            " San Fransisco     | iPhone          |  260\n",
            " San Fransisco     | Samsung         |  300\n",
            " San Jose          | ...All Products |  650\n",
            " San Jose          | iPhone          |  300\n",
            " San Jose          | Samsung         |  350\n",
            "(9 rows)\n",
            "\n"
          ]
        }
      ]
    },
    {
      "cell_type": "markdown",
      "source": [
        "#Three Dimensional Cube\n",
        "see [MySQL Version](https://github.com/Praxis-QR/RDWH/blob/main/Cross_Tabs_with_OLAP_Cube_Normalised_KeyValueTables.ipynb) for context"
      ],
      "metadata": {
        "id": "-WAUMik-RMQa"
      }
    },
    {
      "cell_type": "markdown",
      "source": [
        "## Create Fact Table"
      ],
      "metadata": {
        "id": "9LoXNdJrc1Oe"
      }
    },
    {
      "cell_type": "code",
      "source": [
        "!psql -h localhost -p 5432 -Upostgres -dpraxisdb -c 'DROP TABLE IF EXISTS CarSalesFact_S2'"
      ],
      "metadata": {
        "colab": {
          "base_uri": "https://localhost:8080/"
        },
        "id": "Arnd1gAaX50R",
        "outputId": "d6b55a2b-4401-4716-b718-2c9d25c5698a"
      },
      "execution_count": 27,
      "outputs": [
        {
          "output_type": "stream",
          "name": "stdout",
          "text": [
            "NOTICE:  table \"carsalesfact_s2\" does not exist, skipping\n",
            "DROP TABLE\n"
          ]
        }
      ]
    },
    {
      "cell_type": "code",
      "source": [
        "!psql -h localhost -p 5432 -Upostgres -dpraxisdb -c \"\\\n",
        "CREATE TABLE CarSalesFact_S2 ( \\\n",
        "  Make text, \\\n",
        "  Type text, \\\n",
        "  Colour text, \\\n",
        "  Value int DEFAULT NULL,\\\n",
        "  Units int NOT NULL DEFAULT '0'\\\n",
        ")\""
      ],
      "metadata": {
        "colab": {
          "base_uri": "https://localhost:8080/"
        },
        "id": "SDOx5RwuYKF2",
        "outputId": "b631ac7a-4ad3-4303-e517-18eb843dad7d"
      },
      "execution_count": 28,
      "outputs": [
        {
          "output_type": "stream",
          "name": "stdout",
          "text": [
            "CREATE TABLE\n"
          ]
        }
      ]
    },
    {
      "cell_type": "code",
      "source": [
        "!psql -h localhost -p 5432 -Upostgres -dpraxisdb -c \"\\\n",
        "INSERT INTO CarSalesFact_S2 VALUES \\\n",
        "('Honda','SUV','Red',7000,2),('Honda','SUV','Black',18000,4),('Honda','Sedan','Brown',5000,1), \\\n",
        "('Toyota','Compact','Red',7000,1),('Toyota','Sedan','Black',9000,2),\\\n",
        "('Mazda','SUV','Black',4000,1),('Mazda','Compact','Red',5000,1),('Mazda','Sedan','Brown',4000,1),('Mazda','SUV','Red',3000,1);\\\n",
        "\""
      ],
      "metadata": {
        "colab": {
          "base_uri": "https://localhost:8080/"
        },
        "id": "AUGYdsjPY-P9",
        "outputId": "2db609ca-9600-427b-ce2e-0317827cb2ca"
      },
      "execution_count": 29,
      "outputs": [
        {
          "output_type": "stream",
          "name": "stdout",
          "text": [
            "INSERT 0 9\n"
          ]
        }
      ]
    },
    {
      "cell_type": "code",
      "source": [
        "!psql -h localhost -p 5432 -Upostgres -dpraxisdb -c \"select * from CarSalesFact_S2\""
      ],
      "metadata": {
        "colab": {
          "base_uri": "https://localhost:8080/"
        },
        "id": "U4zrpzltZpaC",
        "outputId": "121dd0ea-e0ec-4122-9e0d-8048b8ee66bf"
      },
      "execution_count": 30,
      "outputs": [
        {
          "output_type": "stream",
          "name": "stdout",
          "text": [
            "  make  |  type   | colour | value | units \n",
            "--------+---------+--------+-------+-------\n",
            " Honda  | SUV     | Red    |  7000 |     2\n",
            " Honda  | SUV     | Black  | 18000 |     4\n",
            " Honda  | Sedan   | Brown  |  5000 |     1\n",
            " Toyota | Compact | Red    |  7000 |     1\n",
            " Toyota | Sedan   | Black  |  9000 |     2\n",
            " Mazda  | SUV     | Black  |  4000 |     1\n",
            " Mazda  | Compact | Red    |  5000 |     1\n",
            " Mazda  | Sedan   | Brown  |  4000 |     1\n",
            " Mazda  | SUV     | Red    |  3000 |     1\n",
            "(9 rows)\n",
            "\n"
          ]
        }
      ]
    },
    {
      "cell_type": "markdown",
      "source": [
        "## Cross Tab Level 1"
      ],
      "metadata": {
        "id": "j7-wjzy1aBfl"
      }
    },
    {
      "cell_type": "code",
      "source": [
        "!psql -h localhost -p 5432 -Upostgres -dpraxisdb -c \" \\\n",
        "  select Make, Type, Sum(Units) Count \\\n",
        "  from CarSalesFact_S2 \\\n",
        "  group by Make, Type \\\n",
        "\""
      ],
      "metadata": {
        "colab": {
          "base_uri": "https://localhost:8080/"
        },
        "id": "eUMmclngaG5X",
        "outputId": "c7dc75c5-754e-4425-a531-e0d0dec7751c"
      },
      "execution_count": 31,
      "outputs": [
        {
          "output_type": "stream",
          "name": "stdout",
          "text": [
            "  make  |  type   | count \n",
            "--------+---------+-------\n",
            " Mazda  | SUV     |     2\n",
            " Honda  | SUV     |     6\n",
            " Mazda  | Sedan   |     1\n",
            " Toyota | Compact |     1\n",
            " Toyota | Sedan   |     2\n",
            " Honda  | Sedan   |     1\n",
            " Mazda  | Compact |     1\n",
            "(7 rows)\n",
            "\n"
          ]
        }
      ]
    },
    {
      "cell_type": "code",
      "source": [
        "!psql -h localhost -p 5432 -Upostgres -dpraxisdb -c \" \\\n",
        "  select Make,  Sum(Units) Count \\\n",
        "  from CarSalesFact_S2 \\\n",
        "  group by Make \\\n",
        "\""
      ],
      "metadata": {
        "colab": {
          "base_uri": "https://localhost:8080/"
        },
        "id": "vXkP_yeUaXMo",
        "outputId": "4e3183a7-6e43-49a7-9075-7c806f6a24eb"
      },
      "execution_count": 32,
      "outputs": [
        {
          "output_type": "stream",
          "name": "stdout",
          "text": [
            "  make  | count \n",
            "--------+-------\n",
            " Honda  |     7\n",
            " Toyota |     3\n",
            " Mazda  |     4\n",
            "(3 rows)\n",
            "\n"
          ]
        }
      ]
    },
    {
      "cell_type": "code",
      "source": [
        "#case when (Dim = 'Make') then DimValue else '' end\n",
        "#case when (Type = 'Sedan') then Units else 0 end\n",
        "\n",
        "\n",
        "!psql -h localhost -p 5432 -Upostgres -dpraxisdb -c \" \\\n",
        "    select Make, \\\n",
        "    sum(case when (Type = 'Sedan') then Units else 0 end) as Sedan, \\\n",
        "    sum(case when (Type = 'SUV') then Units else 0 end) as SUV, \\\n",
        "    sum(case when (Type = 'Compact') then Units else 0 end) as Compact \\\n",
        "    from CarSalesFact_S2 \\\n",
        "    group by Make\""
      ],
      "metadata": {
        "colab": {
          "base_uri": "https://localhost:8080/"
        },
        "id": "Pcj2DAL3alrm",
        "outputId": "f3531d0f-dc63-4515-f3db-662b7a4d59af"
      },
      "execution_count": 33,
      "outputs": [
        {
          "output_type": "stream",
          "name": "stdout",
          "text": [
            "  make  | sedan | suv | compact \n",
            "--------+-------+-----+---------\n",
            " Honda  |     1 |   6 |       0\n",
            " Toyota |     2 |   0 |       1\n",
            " Mazda  |     1 |   2 |       1\n",
            "(3 rows)\n",
            "\n"
          ]
        }
      ]
    },
    {
      "cell_type": "code",
      "source": [
        "!psql -h localhost -p 5432 -Upostgres -dpraxisdb -c \" \\\n",
        "    select Make, \\\n",
        "    sum(case when (Type = 'Sedan') then Value else 0 end) as Sedan, \\\n",
        "    sum(case when (Type = 'SUV') then Value else 0 end) as SUV, \\\n",
        "    sum(case when (Type = 'Compact') then Value else 0 end) as Compact \\\n",
        "    from CarSalesFact_S2 \\\n",
        "    group by Make\""
      ],
      "metadata": {
        "colab": {
          "base_uri": "https://localhost:8080/"
        },
        "id": "TYPY_r-LaRE6",
        "outputId": "b16eb4d4-dcd0-416e-936a-29218bb4fcf1"
      },
      "execution_count": 34,
      "outputs": [
        {
          "output_type": "stream",
          "name": "stdout",
          "text": [
            "  make  | sedan |  suv  | compact \n",
            "--------+-------+-------+---------\n",
            " Honda  |  5000 | 25000 |       0\n",
            " Toyota |  9000 |     0 |    7000\n",
            " Mazda  |  4000 |  7000 |    5000\n",
            "(3 rows)\n",
            "\n"
          ]
        }
      ]
    },
    {
      "cell_type": "markdown",
      "source": [
        "## Cross Tab Level 2"
      ],
      "metadata": {
        "id": "XKkkJN4yci7m"
      }
    },
    {
      "cell_type": "code",
      "source": [
        "#!psql -h localhost -p 5432 -Upostgres -dpraxisdb -c \" \\\n",
        "#  select Make, Type, Sum(Units) Count \\\n",
        "#  from CarSalesFact_S2 \\\n",
        "#  group by Make, Type  \\\n",
        "#  with ROLLUP; \\\n",
        "#\"\n",
        "\n",
        "#COALESCE(warehouse, 'All warehouses') AS warehouse,\n",
        "\n",
        "!psql -h localhost -p 5432 -Upostgres -dpraxisdb -c \" \\\n",
        "  select COALESCE(Make, 'All Makes') AS Make, \\\n",
        "  COALESCE(Type, 'All Types') AS Type, \\\n",
        "  Sum(Units) Count \\\n",
        "  from CarSalesFact_S2 \\\n",
        "  group by ROLLUP (Make, Type)  \\\n",
        "\""
      ],
      "metadata": {
        "colab": {
          "base_uri": "https://localhost:8080/"
        },
        "id": "cuL1UatIdD2o",
        "outputId": "f881292f-f267-49c5-a023-f43db66244a9"
      },
      "execution_count": 35,
      "outputs": [
        {
          "output_type": "stream",
          "name": "stdout",
          "text": [
            "   make    |   type    | count \n",
            "-----------+-----------+-------\n",
            " All Makes | All Types |    14\n",
            " Mazda     | SUV       |     2\n",
            " Honda     | SUV       |     6\n",
            " Mazda     | Sedan     |     1\n",
            " Toyota    | Compact   |     1\n",
            " Toyota    | Sedan     |     2\n",
            " Honda     | Sedan     |     1\n",
            " Mazda     | Compact   |     1\n",
            " Honda     | All Types |     7\n",
            " Toyota    | All Types |     3\n",
            " Mazda     | All Types |     4\n",
            "(11 rows)\n",
            "\n"
          ]
        }
      ]
    },
    {
      "cell_type": "markdown",
      "source": [
        "## Cross Tab Level 3"
      ],
      "metadata": {
        "id": "uaPoHGuCeajc"
      }
    },
    {
      "cell_type": "code",
      "source": [
        "#sum(case when (Type = 'Sedan') then Units else 0 end) as Sedan, \\\n",
        "!psql -h localhost -p 5432 -Upostgres -dpraxisdb -c \" \\\n",
        "SELECT \\\n",
        "\tMake,\\\n",
        "\tsum(case when (Type = 'Sedan') then Units else 0 end) as Sedan,\\\n",
        "\tsum(case when (Type = 'SUV') then Units else 0 end) as SUV,\\\n",
        "\tsum(case when (Type = 'Compact') then Units else 0 end) as Compact\\\n",
        "  FROM CarSalesFact_S2\\\n",
        "  GROUP BY ROLLUP (Make)\\\n",
        "\""
      ],
      "metadata": {
        "colab": {
          "base_uri": "https://localhost:8080/"
        },
        "id": "0GEXec1Ked3f",
        "outputId": "5be8ff1e-9c65-435c-e3d8-e93c7a9f6da0"
      },
      "execution_count": 36,
      "outputs": [
        {
          "output_type": "stream",
          "name": "stdout",
          "text": [
            "  make  | sedan | suv | compact \n",
            "--------+-------+-----+---------\n",
            "        |     4 |   8 |       2\n",
            " Honda  |     1 |   6 |       0\n",
            " Toyota |     2 |   0 |       1\n",
            " Mazda  |     1 |   2 |       1\n",
            "(4 rows)\n",
            "\n"
          ]
        }
      ]
    },
    {
      "cell_type": "code",
      "source": [
        "#sum(case when (Type = 'Sedan') then Units else 0 end) as Sedan, \\\n",
        "!psql -h localhost -p 5432 -Upostgres -dpraxisdb -c \" \\\n",
        "SELECT \\\n",
        "    COALESCE(Make, 'Total') AS Dim, \\\n",
        "\tsum(case when (Type = 'Sedan') then Units else 0 end) as Sedan,\\\n",
        "\tsum(case when (Type = 'SUV') then Units else 0 end) as SUV,\\\n",
        "\tsum(case when (Type = 'Compact') then Units else 0 end) as Compact\\\n",
        "  FROM CarSalesFact_S2\\\n",
        "  GROUP BY ROLLUP (Make)\\\n",
        "\""
      ],
      "metadata": {
        "colab": {
          "base_uri": "https://localhost:8080/"
        },
        "id": "A0lPIXGRfgz1",
        "outputId": "c66f3634-ad5d-4b68-86f4-e540d8633b00"
      },
      "execution_count": 37,
      "outputs": [
        {
          "output_type": "stream",
          "name": "stdout",
          "text": [
            "  dim   | sedan | suv | compact \n",
            "--------+-------+-----+---------\n",
            " Total  |     4 |   8 |       2\n",
            " Honda  |     1 |   6 |       0\n",
            " Toyota |     2 |   0 |       1\n",
            " Mazda  |     1 |   2 |       1\n",
            "(4 rows)\n",
            "\n"
          ]
        }
      ]
    },
    {
      "cell_type": "code",
      "source": [
        "!psql -h localhost -p 5432 -Upostgres -dpraxisdb -c \" \\\n",
        "SELECT \\\n",
        "COALESCE(Make, 'Total') AS Dim, \\\n",
        "sums.SUV, sums.Sedan, sums.Compact,\\\n",
        "sums.SUV + sums.Sedan + sums.Compact  Totals \\\n",
        "FROM ( \\\n",
        "  SELECT \\\n",
        "    Make, \\\n",
        "\tsum(case when (Type = 'Sedan') then Units else 0 end) as Sedan,\\\n",
        "\tsum(case when (Type = 'SUV') then Units else 0 end) as SUV,\\\n",
        "\tsum(case when (Type = 'Compact') then Units else 0 end) as Compact\\\n",
        "  FROM CarSalesFact_S2\\\n",
        "  GROUP BY ROLLUP (Make)\\\n",
        ") AS sums \\\n",
        "\""
      ],
      "metadata": {
        "colab": {
          "base_uri": "https://localhost:8080/"
        },
        "id": "C3Qeuvxfh2lE",
        "outputId": "c5ac22bc-64c3-49d5-c534-e44547ec4361"
      },
      "execution_count": 38,
      "outputs": [
        {
          "output_type": "stream",
          "name": "stdout",
          "text": [
            "  dim   | suv | sedan | compact | totals \n",
            "--------+-----+-------+---------+--------\n",
            " Total  |   8 |     4 |       2 |     14\n",
            " Honda  |   6 |     1 |       0 |      7\n",
            " Toyota |   0 |     2 |       1 |      3\n",
            " Mazda  |   2 |     1 |       1 |      4\n",
            "(4 rows)\n",
            "\n"
          ]
        }
      ]
    },
    {
      "cell_type": "code",
      "source": [
        "!psql -h localhost -p 5432 -Upostgres -dpraxisdb -c \" \\\n",
        "SELECT \\\n",
        "COALESCE(Make, 'Totals') AS Dim, \\\n",
        "sums.Brown, sums.Black, sums.Red,\\\n",
        "sums.Brown + sums.Black + sums.Red  Totals \\\n",
        "FROM ( \\\n",
        "  SELECT \\\n",
        "    Make, \\\n",
        "\tsum(case when (Colour = 'Brown') then Units else 0 end) as Brown,\\\n",
        "\tsum(case when (Colour = 'Black') then Units else 0 end) as Black,\\\n",
        "\tsum(case when (Colour = 'Red') then Units else 0 end) as Red\\\n",
        "  FROM CarSalesFact_S2\\\n",
        "  GROUP BY ROLLUP (Make)\\\n",
        ") AS sums \\\n",
        "\""
      ],
      "metadata": {
        "colab": {
          "base_uri": "https://localhost:8080/"
        },
        "id": "4jj3H0_rixpQ",
        "outputId": "8888eaf6-f9fa-4494-f10d-0d136cd38731"
      },
      "execution_count": 39,
      "outputs": [
        {
          "output_type": "stream",
          "name": "stdout",
          "text": [
            "  dim   | brown | black | red | totals \n",
            "--------+-------+-------+-----+--------\n",
            " Totals |     2 |     7 |   5 |     14\n",
            " Honda  |     1 |     4 |   2 |      7\n",
            " Toyota |     0 |     2 |   1 |      3\n",
            " Mazda  |     1 |     1 |   2 |      4\n",
            "(4 rows)\n",
            "\n"
          ]
        }
      ]
    },
    {
      "cell_type": "code",
      "source": [
        "!psql -h localhost -p 5432 -Upostgres -dpraxisdb -c \"select * from CarSalesFact_S2\""
      ],
      "metadata": {
        "colab": {
          "base_uri": "https://localhost:8080/"
        },
        "id": "Q77qzsWomBbE",
        "outputId": "2aa89213-9831-4abf-be6f-7eeb3f9ae6c3"
      },
      "execution_count": 40,
      "outputs": [
        {
          "output_type": "stream",
          "name": "stdout",
          "text": [
            "  make  |  type   | colour | value | units \n",
            "--------+---------+--------+-------+-------\n",
            " Honda  | SUV     | Red    |  7000 |     2\n",
            " Honda  | SUV     | Black  | 18000 |     4\n",
            " Honda  | Sedan   | Brown  |  5000 |     1\n",
            " Toyota | Compact | Red    |  7000 |     1\n",
            " Toyota | Sedan   | Black  |  9000 |     2\n",
            " Mazda  | SUV     | Black  |  4000 |     1\n",
            " Mazda  | Compact | Red    |  5000 |     1\n",
            " Mazda  | Sedan   | Brown  |  4000 |     1\n",
            " Mazda  | SUV     | Red    |  3000 |     1\n",
            "(9 rows)\n",
            "\n"
          ]
        }
      ]
    },
    {
      "cell_type": "code",
      "source": [
        "!psql -h localhost -p 5432 -Upostgres -dpraxisdb -c \"\\\n",
        "SELECT \\\n",
        "COALESCE(make, '- All Makes -') make, \\\n",
        "COALESCE(Type, '- All types -') cType, \\\n",
        "COALESCE(colour, '- All colour -') colour, \\\n",
        "sum(Units) \\\n",
        "FROM CarSalesFact_S2 \\\n",
        "GROUP BY CUBE(make,Type,colour) \\\n",
        "ORDER BY make,Type,colour; \\\n",
        "\""
      ],
      "metadata": {
        "colab": {
          "base_uri": "https://localhost:8080/"
        },
        "id": "K_UwFLDNm6ig",
        "outputId": "92e46e23-468e-4fcb-8f26-90c58ccff001"
      },
      "execution_count": 41,
      "outputs": [
        {
          "output_type": "stream",
          "name": "stdout",
          "text": [
            "     make      |     ctype     |     colour     | sum \n",
            "---------------+---------------+----------------+-----\n",
            " - All Makes - | Compact       | - All colour - |   2\n",
            " - All Makes - | Compact       | Red            |   2\n",
            " - All Makes - | Sedan         | - All colour - |   4\n",
            " - All Makes - | Sedan         | Black          |   2\n",
            " - All Makes - | Sedan         | Brown          |   2\n",
            " - All Makes - | SUV           | - All colour - |   8\n",
            " - All Makes - | SUV           | Black          |   5\n",
            " - All Makes - | SUV           | Red            |   3\n",
            " - All Makes - | - All types - | - All colour - |  14\n",
            " - All Makes - | - All types - | Black          |   7\n",
            " - All Makes - | - All types - | Brown          |   2\n",
            " - All Makes - | - All types - | Red            |   5\n",
            " Honda         | Sedan         | - All colour - |   1\n",
            " Honda         | Sedan         | Brown          |   1\n",
            " Honda         | SUV           | - All colour - |   6\n",
            " Honda         | SUV           | Black          |   4\n",
            " Honda         | SUV           | Red            |   2\n",
            " Honda         | - All types - | - All colour - |   7\n",
            " Honda         | - All types - | Black          |   4\n",
            " Honda         | - All types - | Brown          |   1\n",
            " Honda         | - All types - | Red            |   2\n",
            " Mazda         | Compact       | - All colour - |   1\n",
            " Mazda         | Compact       | Red            |   1\n",
            " Mazda         | Sedan         | - All colour - |   1\n",
            " Mazda         | Sedan         | Brown          |   1\n",
            " Mazda         | SUV           | - All colour - |   2\n",
            " Mazda         | SUV           | Black          |   1\n",
            " Mazda         | SUV           | Red            |   1\n",
            " Mazda         | - All types - | - All colour - |   4\n",
            " Mazda         | - All types - | Black          |   1\n",
            " Mazda         | - All types - | Brown          |   1\n",
            " Mazda         | - All types - | Red            |   2\n",
            " Toyota        | Compact       | - All colour - |   1\n",
            " Toyota        | Compact       | Red            |   1\n",
            " Toyota        | Sedan         | - All colour - |   2\n",
            " Toyota        | Sedan         | Black          |   2\n",
            " Toyota        | - All types - | - All colour - |   3\n",
            " Toyota        | - All types - | Black          |   2\n",
            " Toyota        | - All types - | Red            |   1\n",
            "(39 rows)\n",
            "\n"
          ]
        }
      ]
    },
    {
      "cell_type": "markdown",
      "source": [
        "Signoff"
      ],
      "metadata": {
        "id": "3BTkpdsj-Hv0"
      }
    },
    {
      "cell_type": "code",
      "source": [
        "from datetime import datetime\n",
        "import pytz\n",
        "print('Last tested  ',datetime.now(pytz.timezone('Asia/Singapore')))"
      ],
      "metadata": {
        "colab": {
          "base_uri": "https://localhost:8080/"
        },
        "id": "To3pf5O2-Kas",
        "outputId": "53a364a7-8973-4a97-828c-81916d115950"
      },
      "execution_count": 42,
      "outputs": [
        {
          "output_type": "stream",
          "name": "stdout",
          "text": [
            "Last tested   2023-08-21 09:29:29.924001+08:00\n"
          ]
        }
      ]
    },
    {
      "cell_type": "markdown",
      "source": [
        "#Chronobooks <br>\n",
        "Two science fiction novels by Prithwis Mukerjee. A dystopian Earth. A technocratic society managed by artificial intelligence. Escape and epiphany on Mars. Can man and machine, carbon and silicon explore and escape into other dimensions of existence? An Indic perspective rooted in Advaita Vedanta and the Divine Feminine.  [More information](http://bit.ly/chronobooks) <br>\n",
        "![alt text](https://github.com/Praxis-QR/RDWH/raw/main/images/CTCYFooter-1.png)"
      ],
      "metadata": {
        "id": "_gNiZpyW3AzJ"
      }
    },
    {
      "cell_type": "markdown",
      "source": [
        "## Smaller Table, built with pivots - ignore"
      ],
      "metadata": {
        "id": "hdvkFGAbZsxG"
      }
    },
    {
      "cell_type": "code",
      "source": [
        "!psql -h localhost -p 5432 -Upostgres -dpraxisdb -c 'DROP table if exists CarSalesFact_N'\n",
        "!psql -h localhost -p 5432 -Upostgres -dpraxisdb -c 'CREATE TABLE if not exists CarSalesFact_N ( Txn int ,  Dim  varchar(8) ,  DimValue varchar(8) ) '"
      ],
      "metadata": {
        "colab": {
          "base_uri": "https://localhost:8080/"
        },
        "id": "CblRbAKtRR78",
        "outputId": "ee24d097-0064-4ec2-f039-b1a3fcb189c0"
      },
      "execution_count": 43,
      "outputs": [
        {
          "output_type": "stream",
          "name": "stdout",
          "text": [
            "NOTICE:  table \"carsalesfact_n\" does not exist, skipping\n",
            "DROP TABLE\n",
            "CREATE TABLE\n"
          ]
        }
      ]
    },
    {
      "cell_type": "code",
      "source": [
        "!psql -h localhost -p 5432 -Upostgres -dpraxisdb -c \" \\\n",
        "INSERT INTO CarSalesFact_N (Txn, Dim, DimValue) VALUES \\\n",
        " (1, 'Make', 'Honda'),(1, 'Type', 'SUV'),(1, 'Colour', 'Red'),\\\n",
        " (2, 'Make', 'Honda'),(2, 'Type', 'SUV'),(2, 'Colour', 'Black'), \\\n",
        " (3, 'Make', 'Honda'),(3, 'Type', 'Sedan'),(3, 'Colour', 'Brown'),\\\n",
        " (4, 'Make', 'Toyota'),(4, 'Type', 'Compact'),(4, 'Colour', 'Red'),\\\n",
        " (5, 'Make', 'Toyota'),(5, 'Colour', 'Black'),(5, 'Type', 'Sedan'),\\\n",
        " (6, 'Make', 'Toyota'),(6, 'Colour', 'Black'),(6, 'Type', 'Sedan'),\\\n",
        " (7, 'Make', 'Honda'),(7, 'Type', 'SUV'),(7, 'Colour', 'Black'),\\\n",
        " (8, 'Make', 'Honda'),(8, 'Type', 'SUV'),(8, 'Colour', 'Red'),\\\n",
        " (9, 'Make', 'Honda'),(9, 'Type', 'SUV'),(9, 'Colour', 'Black'),\\\n",
        " (10, 'Make', 'Honda'),(10, 'Type', 'SUV'),(10, 'Colour', 'Black'),\\\n",
        " (11, 'Make', 'Mazda'),(11, 'Type', 'SUV'),(11, 'Colour', 'Black'),\\\n",
        " (12, 'Make', 'Mazda'),(12, 'Type', 'Compact'),(12, 'Colour', 'Red'),\\\n",
        " (13, 'Make', 'Mazda'),(13, 'Type', 'Sedan'),(13, 'Colour', 'Brown'),\\\n",
        " (14, 'Make', 'Mazda'),(14, 'Type', 'SUV'),(14, 'Colour', 'Red');\\\n",
        " \""
      ],
      "metadata": {
        "colab": {
          "base_uri": "https://localhost:8080/"
        },
        "id": "Lv-FyqoMR_6m",
        "outputId": "dd744ee4-a23c-417a-f036-a74cfc0217e3"
      },
      "execution_count": 44,
      "outputs": [
        {
          "output_type": "stream",
          "name": "stdout",
          "text": [
            "INSERT 0 42\n"
          ]
        }
      ]
    },
    {
      "cell_type": "code",
      "source": [
        "!psql -h localhost -p 5432 -Upostgres -dpraxisdb -c \" \\\n",
        "SELECT \\\n",
        "  Txn,\\\n",
        "  array_agg(case when (Dim = 'Make') then DimValue else '' end) AS Make,\\\n",
        "  array_agg(case when (Dim = 'Type') then DimValue else '' end) AS Type,\\\n",
        "  array_agg(case when (Dim = 'Colour') then DimValue else '' end) AS Colour \\\n",
        "FROM CarSalesFact_N \\\n",
        "GROUP BY txn \\\n",
        "\""
      ],
      "metadata": {
        "colab": {
          "base_uri": "https://localhost:8080/"
        },
        "id": "4Q25-T8hUh4x",
        "outputId": "04c19dd1-474a-4962-ec06-e8e755759147"
      },
      "execution_count": 45,
      "outputs": [
        {
          "output_type": "stream",
          "name": "stdout",
          "text": [
            " txn |      make      |      type       |    colour     \n",
            "-----+----------------+-----------------+---------------\n",
            "   1 | {Honda,\"\",\"\"}  | {\"\",SUV,\"\"}     | {\"\",\"\",Red}\n",
            "   2 | {Honda,\"\",\"\"}  | {\"\",SUV,\"\"}     | {\"\",\"\",Black}\n",
            "   3 | {Honda,\"\",\"\"}  | {\"\",Sedan,\"\"}   | {\"\",\"\",Brown}\n",
            "   4 | {Toyota,\"\",\"\"} | {\"\",Compact,\"\"} | {\"\",\"\",Red}\n",
            "   5 | {Toyota,\"\",\"\"} | {\"\",\"\",Sedan}   | {\"\",Black,\"\"}\n",
            "   6 | {Toyota,\"\",\"\"} | {\"\",\"\",Sedan}   | {\"\",Black,\"\"}\n",
            "   7 | {Honda,\"\",\"\"}  | {\"\",SUV,\"\"}     | {\"\",\"\",Black}\n",
            "   8 | {Honda,\"\",\"\"}  | {\"\",SUV,\"\"}     | {\"\",\"\",Red}\n",
            "   9 | {Honda,\"\",\"\"}  | {\"\",SUV,\"\"}     | {\"\",\"\",Black}\n",
            "  10 | {Honda,\"\",\"\"}  | {\"\",SUV,\"\"}     | {\"\",\"\",Black}\n",
            "  11 | {Mazda,\"\",\"\"}  | {\"\",SUV,\"\"}     | {\"\",\"\",Black}\n",
            "  12 | {Mazda,\"\",\"\"}  | {\"\",Compact,\"\"} | {\"\",\"\",Red}\n",
            "  13 | {Mazda,\"\",\"\"}  | {\"\",Sedan,\"\"}   | {\"\",\"\",Brown}\n",
            "  14 | {Mazda,\"\",\"\"}  | {\"\",SUV,\"\"}     | {\"\",\"\",Red}\n",
            "(14 rows)\n",
            "\n"
          ]
        }
      ]
    },
    {
      "cell_type": "code",
      "source": [
        "!psql -h localhost -p 5432 -Upostgres -dpraxisdb -c \" \\\n",
        "SELECT \\\n",
        "  Txn,\\\n",
        "  array_to_string(array_agg(case when (Dim = 'Make') then DimValue else '' end),'') AS Make,\\\n",
        "  array_to_string(array_agg(case when (Dim = 'Type') then DimValue else '' end),'') AS Type,\\\n",
        "  array_to_string(array_agg(case when (Dim = 'Colour') then DimValue else '' end),'') AS Colour \\\n",
        "FROM CarSalesFact_N \\\n",
        "GROUP BY txn \\\n",
        "\""
      ],
      "metadata": {
        "colab": {
          "base_uri": "https://localhost:8080/"
        },
        "id": "sRo38NveBkW3",
        "outputId": "44772f08-4b23-4095-b7f9-e94f6ed857b6"
      },
      "execution_count": 46,
      "outputs": [
        {
          "output_type": "stream",
          "name": "stdout",
          "text": [
            " txn |  make  |  type   | colour \n",
            "-----+--------+---------+--------\n",
            "   1 | Honda  | SUV     | Red\n",
            "   2 | Honda  | SUV     | Black\n",
            "   3 | Honda  | Sedan   | Brown\n",
            "   4 | Toyota | Compact | Red\n",
            "   5 | Toyota | Sedan   | Black\n",
            "   6 | Toyota | Sedan   | Black\n",
            "   7 | Honda  | SUV     | Black\n",
            "   8 | Honda  | SUV     | Red\n",
            "   9 | Honda  | SUV     | Black\n",
            "  10 | Honda  | SUV     | Black\n",
            "  11 | Mazda  | SUV     | Black\n",
            "  12 | Mazda  | Compact | Red\n",
            "  13 | Mazda  | Sedan   | Brown\n",
            "  14 | Mazda  | SUV     | Red\n",
            "(14 rows)\n",
            "\n"
          ]
        }
      ]
    },
    {
      "cell_type": "code",
      "source": [
        "!psql -h localhost -p 5432 -Upostgres -dpraxisdb -c \" \\\n",
        "select csf0.Make, csf0.Type, csf0.Colour, count(txn) Units from \\\n",
        "(SELECT \\\n",
        "  Txn,\\\n",
        "  array_to_string(array_agg(case when (Dim = 'Make') then DimValue else '' end),'') AS Make,\\\n",
        "  array_to_string(array_agg(case when (Dim = 'Type') then DimValue else '' end),'') AS Type,\\\n",
        "  array_to_string(array_agg(case when (Dim = 'Colour') then DimValue else '' end),'') AS Colour \\\n",
        "FROM CarSalesFact_N \\\n",
        "GROUP BY txn \\\n",
        ") as csf0 \\\n",
        "group by \\\n",
        "csf0.Make, csf0.Type, csf0.Colour \\\n",
        "\""
      ],
      "metadata": {
        "colab": {
          "base_uri": "https://localhost:8080/"
        },
        "id": "Ppg33IvsXrQw",
        "outputId": "bfb031eb-5ea9-4c29-c1ee-7bee681a9c40"
      },
      "execution_count": 47,
      "outputs": [
        {
          "output_type": "stream",
          "name": "stdout",
          "text": [
            "  make  |  type   | colour | units \n",
            "--------+---------+--------+-------\n",
            " Honda  | SUV     | Red    |     2\n",
            " Honda  | SUV     | Black  |     4\n",
            " Toyota | Compact | Red    |     1\n",
            " Mazda  | Compact | Red    |     1\n",
            " Mazda  | SUV     | Red    |     1\n",
            " Toyota | Sedan   | Black  |     2\n",
            " Honda  | Sedan   | Brown  |     1\n",
            " Mazda  | Sedan   | Brown  |     1\n",
            " Mazda  | SUV     | Black  |     1\n",
            "(9 rows)\n",
            "\n"
          ]
        }
      ]
    },
    {
      "cell_type": "code",
      "source": [
        "!psql -h localhost -p 5432 -Upostgres -dpraxisdb -c \"drop table if exists CarSalesFact_S\"\n",
        "!psql -h localhost -p 5432 -Upostgres -dpraxisdb -c \" \\\n",
        "create table CarSalesFact_S as ( \\\n",
        "    select csf0.Make, csf0.Type, csf0.Colour, count(txn) Units from \\\n",
        "    (SELECT \\\n",
        "    Txn,\\\n",
        "    array_to_string(array_agg(case when (Dim = 'Make') then DimValue else '' end),'') AS Make,\\\n",
        "    array_to_string(array_agg(case when (Dim = 'Type') then DimValue else '' end),'') AS Type,\\\n",
        "    array_to_string(array_agg(case when (Dim = 'Colour') then DimValue else '' end),'') AS Colour \\\n",
        "    FROM CarSalesFact_N \\\n",
        "    GROUP BY txn \\\n",
        "    ) as csf0 \\\n",
        "    group by \\\n",
        "    csf0.Make, csf0.Type, csf0.Colour \\\n",
        ") \\\n",
        "\"\n",
        "!psql -h localhost -p 5432 -Upostgres -dpraxisdb -c \"select * from CarSalesFact_S\""
      ],
      "metadata": {
        "id": "Pc1eg1cMVPcp",
        "colab": {
          "base_uri": "https://localhost:8080/"
        },
        "outputId": "49b75730-de03-4d6d-c456-8bdb37a17809"
      },
      "execution_count": 48,
      "outputs": [
        {
          "output_type": "stream",
          "name": "stdout",
          "text": [
            "NOTICE:  table \"carsalesfact_s\" does not exist, skipping\n",
            "DROP TABLE\n",
            "SELECT 9\n",
            "  make  |  type   | colour | units \n",
            "--------+---------+--------+-------\n",
            " Honda  | SUV     | Red    |     2\n",
            " Honda  | SUV     | Black  |     4\n",
            " Toyota | Compact | Red    |     1\n",
            " Mazda  | Compact | Red    |     1\n",
            " Mazda  | SUV     | Red    |     1\n",
            " Toyota | Sedan   | Black  |     2\n",
            " Honda  | Sedan   | Brown  |     1\n",
            " Mazda  | Sedan   | Brown  |     1\n",
            " Mazda  | SUV     | Black  |     1\n",
            "(9 rows)\n",
            "\n"
          ]
        }
      ]
    }
  ]
}