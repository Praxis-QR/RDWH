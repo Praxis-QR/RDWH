{
  "nbformat": 4,
  "nbformat_minor": 0,
  "metadata": {
    "colab": {
      "provenance": [],
      "toc_visible": true,
      "collapsed_sections": [
        "9LoXNdJrc1Oe",
        "j7-wjzy1aBfl",
        "XKkkJN4yci7m",
        "hdvkFGAbZsxG"
      ],
      "include_colab_link": true
    },
    "kernelspec": {
      "name": "python3",
      "display_name": "Python 3"
    },
    "language_info": {
      "name": "python"
    }
  },
  "cells": [
    {
      "cell_type": "markdown",
      "metadata": {
        "id": "view-in-github",
        "colab_type": "text"
      },
      "source": [
        "<a href=\"https://colab.research.google.com/github/Praxis-QR/RDWH/blob/main/Cross_Tab_Cube_Rollup_Grouping_Sets_PostgreSQL.ipynb\" target=\"_parent\"><img src=\"https://colab.research.google.com/assets/colab-badge.svg\" alt=\"Open In Colab\"/></a>"
      ]
    },
    {
      "cell_type": "markdown",
      "source": [
        "![alt text](https://github.com/Praxis-QR/RDWH/raw/main/images/YantraJaalBanner.png)<br>\n",
        "\n",
        "\n",
        "<hr>\n",
        "\n",
        "[Prithwis Mukerjee](http://www.linkedin.com/in/prithwis)<br>"
      ],
      "metadata": {
        "id": "DBzz-qaN2tKu"
      }
    },
    {
      "cell_type": "markdown",
      "source": [
        "https://www.sqltutorial.org/sql-grouping-sets/ <br>\n",
        "https://www.sqltutorial.org/sql-rollup/ <br>\n",
        "https://www.sqltutorial.org/sql-cube/"
      ],
      "metadata": {
        "id": "9kREaF0_7rD2"
      }
    },
    {
      "cell_type": "markdown",
      "source": [
        "#Install"
      ],
      "metadata": {
        "id": "nD-QawLT6kDr"
      }
    },
    {
      "cell_type": "code",
      "execution_count": 1,
      "metadata": {
        "colab": {
          "base_uri": "https://localhost:8080/"
        },
        "id": "QBxqnsWJ0wA1",
        "outputId": "c06eff68-4d24-420c-f1cf-65ef41fe5a97"
      },
      "outputs": [
        {
          "output_type": "stream",
          "name": "stdout",
          "text": [
            "\n",
            "WARNING: apt does not have a stable CLI interface. Use with caution in scripts.\n",
            "\n",
            "\n",
            "WARNING: apt does not have a stable CLI interface. Use with caution in scripts.\n",
            "\n",
            " * Starting PostgreSQL 12 database server\n",
            "   ...done.\n",
            "psql (PostgreSQL) 12.14 (Ubuntu 12.14-0ubuntu0.20.04.1)\n"
          ]
        }
      ],
      "source": [
        "# Install postgresql server\n",
        "!apt update > /dev/null\n",
        "!apt install postgresql > /dev/null\n",
        "!service postgresql start\n",
        "!sudo -u postgres psql -V"
      ]
    },
    {
      "cell_type": "markdown",
      "source": [
        "## Configure"
      ],
      "metadata": {
        "id": "--pn1fPO6ndu"
      }
    },
    {
      "cell_type": "code",
      "source": [
        "# Setup a password `pass` for username `postgres`\n",
        "!sudo -u postgres psql -U postgres -c \"ALTER USER postgres PASSWORD 'pass';\"\n",
        "#\n",
        "# Setup a database with name `praxisdb` to be used\n",
        "!sudo -u postgres psql -U postgres -c 'DROP DATABASE IF EXISTS praxisdb;'\n",
        "!sudo -u postgres psql -U postgres -c 'CREATE DATABASE praxisdb;'"
      ],
      "metadata": {
        "colab": {
          "base_uri": "https://localhost:8080/"
        },
        "id": "J3PSLjXd1D-J",
        "outputId": "293d80c6-cea4-44a4-c8dd-72c64baa6443"
      },
      "execution_count": 2,
      "outputs": [
        {
          "output_type": "stream",
          "name": "stdout",
          "text": [
            "ALTER ROLE\n",
            "NOTICE:  database \"praxisdb\" does not exist, skipping\n",
            "DROP DATABASE\n",
            "CREATE DATABASE\n"
          ]
        }
      ]
    },
    {
      "cell_type": "code",
      "source": [
        "# Create file to store the password. Else will be prompted each time\n",
        "!echo \"localhost:5432:praxisdb:postgres:pass\" > ~/.pgpass\n",
        "!chmod 0600 ~/.pgpass\n",
        "!cat ~/.pgpass"
      ],
      "metadata": {
        "id": "vGTAlziaZREf",
        "outputId": "e61f08d4-e881-4c4c-e814-da35d0f741f6",
        "colab": {
          "base_uri": "https://localhost:8080/"
        }
      },
      "execution_count": 3,
      "outputs": [
        {
          "output_type": "stream",
          "name": "stdout",
          "text": [
            "localhost:5432:praxisdb:postgres:pass\n"
          ]
        }
      ]
    },
    {
      "cell_type": "markdown",
      "source": [
        "## Create Table"
      ],
      "metadata": {
        "id": "pHTdNzrU6qUE"
      }
    },
    {
      "cell_type": "code",
      "source": [
        "#!psql -h localhost -p 5432 -Upostgres -W -dpraxisdb -c \\\n",
        "!psql -h localhost -p 5432 -Upostgres -dpraxisdb -c \\\n",
        "\"CREATE TABLE inventory ( \\\n",
        "    warehouse VARCHAR(255), \\\n",
        "    product VARCHAR(255) NOT NULL, \\\n",
        "    model VARCHAR(50) NOT NULL, \\\n",
        "    quantity INT, \\\n",
        "    PRIMARY KEY (warehouse,product,model) \\\n",
        "); \\\n",
        "\""
      ],
      "metadata": {
        "colab": {
          "base_uri": "https://localhost:8080/"
        },
        "id": "HU6UACin3c4j",
        "outputId": "8d4c619e-b219-44f5-bd74-df3911a51691"
      },
      "execution_count": 4,
      "outputs": [
        {
          "output_type": "stream",
          "name": "stdout",
          "text": [
            "CREATE TABLE\n"
          ]
        }
      ]
    },
    {
      "cell_type": "markdown",
      "source": [
        "## Load Data"
      ],
      "metadata": {
        "id": "9_OLx3qk_7qR"
      }
    },
    {
      "cell_type": "code",
      "source": [
        "!psql -h localhost -p 5432 -Upostgres -dpraxisdb -c \"\\\n",
        "INSERT INTO inventory(warehouse, product, model, quantity) VALUES('San Jose', 'iPhone','6s',100); \\\n",
        "INSERT INTO inventory(warehouse, product, model, quantity) VALUES('San Fransisco', 'iPhone','6s',50); \\\n",
        "INSERT INTO inventory(warehouse, product, model, quantity) VALUES('San Jose','iPhone','7',50); \\\n",
        "INSERT INTO inventory(warehouse, product, model, quantity) VALUES('San Fransisco', 'iPhone','7',10); \\\n",
        "INSERT INTO inventory(warehouse, product, model, quantity) VALUES('San Jose','iPhone','X',150); \\\n",
        "INSERT INTO inventory(warehouse, product, model, quantity) VALUES('San Fransisco', 'iPhone','X',200); \\\n",
        "INSERT INTO inventory(warehouse, product, model, quantity) VALUES('San Jose','Samsung','Galaxy S',200); \\\n",
        "INSERT INTO inventory(warehouse, product, model, quantity) VALUES('San Fransisco','Samsung','Galaxy S',200); \\\n",
        "INSERT INTO inventory(warehouse, product, model, quantity) VALUES('San Fransisco','Samsung','Note 8',100); \\\n",
        "INSERT INTO inventory(warehouse, product, model, quantity) VALUES('San Jose','Samsung','Note 8',150); \\\n",
        "\""
      ],
      "metadata": {
        "colab": {
          "base_uri": "https://localhost:8080/"
        },
        "id": "kfUDoKC54LZp",
        "outputId": "9dea6a46-0c71-4a51-c4fc-9a31c907d2a2"
      },
      "execution_count": 5,
      "outputs": [
        {
          "output_type": "stream",
          "name": "stdout",
          "text": [
            "INSERT 0 1\n"
          ]
        }
      ]
    },
    {
      "cell_type": "markdown",
      "source": [
        "## View Data"
      ],
      "metadata": {
        "id": "hZscFeNNB1ja"
      }
    },
    {
      "cell_type": "code",
      "source": [
        "!psql -h localhost -p 5432 -Upostgres -dpraxisdb -c \"select * from inventory\""
      ],
      "metadata": {
        "colab": {
          "base_uri": "https://localhost:8080/"
        },
        "id": "HyBUhbAI2PV1",
        "outputId": "53e92573-b1bd-4456-d1a5-d98316557483"
      },
      "execution_count": 6,
      "outputs": [
        {
          "output_type": "stream",
          "name": "stdout",
          "text": [
            "   warehouse   | product |  model   | quantity \n",
            "---------------+---------+----------+----------\n",
            " San Jose      | iPhone  | 6s       |      100\n",
            " San Fransisco | iPhone  | 6s       |       50\n",
            " San Jose      | iPhone  | 7        |       50\n",
            " San Fransisco | iPhone  | 7        |       10\n",
            " San Jose      | iPhone  | X        |      150\n",
            " San Fransisco | iPhone  | X        |      200\n",
            " San Jose      | Samsung | Galaxy S |      200\n",
            " San Fransisco | Samsung | Galaxy S |      200\n",
            " San Fransisco | Samsung | Note 8   |      100\n",
            " San Jose      | Samsung | Note 8   |      150\n",
            "(10 rows)\n",
            "\n"
          ]
        }
      ]
    },
    {
      "cell_type": "markdown",
      "source": [
        "#Grouping Sets"
      ],
      "metadata": {
        "id": "KmBDU4FG-mAN"
      }
    },
    {
      "cell_type": "code",
      "source": [
        "!psql -h localhost -p 5432 -Upostgres -dpraxisdb -c \"\\\n",
        "SELECT warehouse, product, SUM (quantity) qty \\\n",
        "FROM inventory \\\n",
        "GROUP BY warehouse, product; \\\n",
        "\""
      ],
      "metadata": {
        "colab": {
          "base_uri": "https://localhost:8080/"
        },
        "id": "fD_bN35O-pij",
        "outputId": "d3b1611c-f974-41e0-f81c-d401273bd602"
      },
      "execution_count": 7,
      "outputs": [
        {
          "output_type": "stream",
          "name": "stdout",
          "text": [
            "   warehouse   | product | qty \n",
            "---------------+---------+-----\n",
            " San Fransisco | iPhone  | 260\n",
            " San Fransisco | Samsung | 300\n",
            " San Jose      | iPhone  | 300\n",
            " San Jose      | Samsung | 350\n",
            "(4 rows)\n",
            "\n"
          ]
        }
      ]
    },
    {
      "cell_type": "code",
      "source": [
        "!psql -h localhost -p 5432 -Upostgres -dpraxisdb -c \"\\\n",
        "SELECT warehouse, SUM (quantity) qty \\\n",
        "FROM inventory \\\n",
        "GROUP BY warehouse; \\\n",
        "\""
      ],
      "metadata": {
        "colab": {
          "base_uri": "https://localhost:8080/"
        },
        "id": "tF7iEAXa_U1y",
        "outputId": "6dd2aefb-70ad-4dba-b91f-12d8fe4952ca"
      },
      "execution_count": 8,
      "outputs": [
        {
          "output_type": "stream",
          "name": "stdout",
          "text": [
            "   warehouse   | qty \n",
            "---------------+-----\n",
            " San Fransisco | 560\n",
            " San Jose      | 650\n",
            "(2 rows)\n",
            "\n"
          ]
        }
      ]
    },
    {
      "cell_type": "code",
      "source": [
        "!psql -h localhost -p 5432 -Upostgres -dpraxisdb -c \"\\\n",
        "SELECT product, SUM (quantity) qty \\\n",
        "FROM inventory \\\n",
        "GROUP BY product; \\\n",
        "\""
      ],
      "metadata": {
        "colab": {
          "base_uri": "https://localhost:8080/"
        },
        "id": "TU-iiyq7_k4n",
        "outputId": "7b46bc92-b0b2-4048-89b4-eb2e7ee08561"
      },
      "execution_count": 9,
      "outputs": [
        {
          "output_type": "stream",
          "name": "stdout",
          "text": [
            " product | qty \n",
            "---------+-----\n",
            " iPhone  | 560\n",
            " Samsung | 650\n",
            "(2 rows)\n",
            "\n"
          ]
        }
      ]
    },
    {
      "cell_type": "code",
      "source": [
        "!psql -h localhost -p 5432 -Upostgres -dpraxisdb -c \"\\\n",
        "SELECT SUM(quantity) qty \\\n",
        "FROM inventory; \\\n",
        "\""
      ],
      "metadata": {
        "colab": {
          "base_uri": "https://localhost:8080/"
        },
        "id": "K0-PFyRp_3hB",
        "outputId": "2d82375b-a7c8-4f1e-e0a5-690addd9eb9c"
      },
      "execution_count": 10,
      "outputs": [
        {
          "output_type": "stream",
          "name": "stdout",
          "text": [
            " qty  \n",
            "------\n",
            " 1210\n",
            "(1 row)\n",
            "\n"
          ]
        }
      ]
    },
    {
      "cell_type": "markdown",
      "source": [
        "## Union All"
      ],
      "metadata": {
        "id": "K3AOUuo3AUsL"
      }
    },
    {
      "cell_type": "code",
      "source": [
        "!psql -h localhost -p 5432 -Upostgres -dpraxisdb -c \"\\\n",
        "SELECT warehouse, product, SUM (quantity) qty \\\n",
        "FROM inventory GROUP BY warehouse, product \\\n",
        "UNION ALL\\\n",
        "SELECT  warehouse, null, SUM (quantity) qty \\\n",
        "FROM inventory GROUP BY warehouse \\\n",
        "UNION ALL \\\n",
        "SELECT null, product, SUM (quantity) qty \\\n",
        "FROM inventory GROUP BY product \\\n",
        "UNION ALL\\\n",
        "SELECT null, null, SUM(quantity) qty \\\n",
        "FROM inventory;\\\n",
        "\""
      ],
      "metadata": {
        "colab": {
          "base_uri": "https://localhost:8080/"
        },
        "id": "PXxFb2KFAXkp",
        "outputId": "91b9175a-8ae5-4350-f4f7-35520a1729a3"
      },
      "execution_count": 11,
      "outputs": [
        {
          "output_type": "stream",
          "name": "stdout",
          "text": [
            "   warehouse   | product | qty  \n",
            "---------------+---------+------\n",
            " San Fransisco | iPhone  |  260\n",
            " San Fransisco | Samsung |  300\n",
            " San Jose      | iPhone  |  300\n",
            " San Jose      | Samsung |  350\n",
            " San Fransisco |         |  560\n",
            " San Jose      |         |  650\n",
            "               | iPhone  |  560\n",
            "               | Samsung |  650\n",
            "               |         | 1210\n",
            "(9 rows)\n",
            "\n"
          ]
        }
      ]
    },
    {
      "cell_type": "markdown",
      "source": [
        "## Grouping Sets"
      ],
      "metadata": {
        "id": "UuLSsc0PBXyo"
      }
    },
    {
      "cell_type": "code",
      "source": [
        "!psql -h localhost -p 5432 -Upostgres -dpraxisdb -c \"\\\n",
        "SELECT warehouse, product,  SUM (quantity) qty \\\n",
        "FROM inventory \\\n",
        "GROUP BY \\\n",
        "    GROUPING SETS( \\\n",
        "        (warehouse,product), \\\n",
        "        (warehouse), \\\n",
        "        (product), \\\n",
        "        () \\\n",
        "    ); \\\n",
        "\"\n"
      ],
      "metadata": {
        "colab": {
          "base_uri": "https://localhost:8080/"
        },
        "id": "adkKIiScBbhV",
        "outputId": "280afb1a-13e8-4051-967d-ab799e6482b3"
      },
      "execution_count": 12,
      "outputs": [
        {
          "output_type": "stream",
          "name": "stdout",
          "text": [
            "   warehouse   | product | qty  \n",
            "---------------+---------+------\n",
            "               |         | 1210\n",
            " San Fransisco | iPhone  |  260\n",
            " San Fransisco | Samsung |  300\n",
            " San Jose      | iPhone  |  300\n",
            " San Jose      | Samsung |  350\n",
            " San Fransisco |         |  560\n",
            " San Jose      |         |  650\n",
            "               | iPhone  |  560\n",
            "               | Samsung |  650\n",
            "(9 rows)\n",
            "\n"
          ]
        }
      ]
    },
    {
      "cell_type": "markdown",
      "source": [
        "#Roll Up"
      ],
      "metadata": {
        "id": "lCBVM8MwCQbN"
      }
    },
    {
      "cell_type": "code",
      "source": [
        "!psql -h localhost -p 5432 -Upostgres -dpraxisdb -c \"\\\n",
        "SELECT warehouse, SUM(quantity) \\\n",
        "FROM inventory \\\n",
        "GROUP BY warehouse; \\\n",
        "\""
      ],
      "metadata": {
        "colab": {
          "base_uri": "https://localhost:8080/"
        },
        "id": "fVkMd4ilCUms",
        "outputId": "ac353aa9-26d8-40b7-e210-da3180ac00fc"
      },
      "execution_count": 13,
      "outputs": [
        {
          "output_type": "stream",
          "name": "stdout",
          "text": [
            "   warehouse   | sum \n",
            "---------------+-----\n",
            " San Fransisco | 560\n",
            " San Jose      | 650\n",
            "(2 rows)\n",
            "\n"
          ]
        }
      ]
    },
    {
      "cell_type": "code",
      "source": [
        "!psql -h localhost -p 5432 -Upostgres -dpraxisdb -c \"\\\n",
        "SELECT warehouse, SUM(quantity) \\\n",
        "FROM inventory \\\n",
        "GROUP BY ROLLUP (warehouse); \\\n",
        "\""
      ],
      "metadata": {
        "colab": {
          "base_uri": "https://localhost:8080/"
        },
        "id": "gBkkZZLfCz4N",
        "outputId": "18587fe9-7e7c-41ea-9819-73d8f2a6b07e"
      },
      "execution_count": 14,
      "outputs": [
        {
          "output_type": "stream",
          "name": "stdout",
          "text": [
            "   warehouse   | sum  \n",
            "---------------+------\n",
            "               | 1210\n",
            " San Fransisco |  560\n",
            " San Jose      |  650\n",
            "(3 rows)\n",
            "\n"
          ]
        }
      ]
    },
    {
      "cell_type": "code",
      "source": [
        "!psql -h localhost -p 5432 -Upostgres -dpraxisdb -c \"\\\n",
        "SELECT COALESCE(warehouse, 'All warehouses') AS warehouse, \\\n",
        "    SUM(quantity) \\\n",
        "FROM inventory \\\n",
        "GROUP BY ROLLUP (warehouse);\\\n",
        "\""
      ],
      "metadata": {
        "colab": {
          "base_uri": "https://localhost:8080/"
        },
        "id": "Z4Kml11LDHLL",
        "outputId": "4a481b73-981f-4851-95cc-af1a27fd5aa9"
      },
      "execution_count": 15,
      "outputs": [
        {
          "output_type": "stream",
          "name": "stdout",
          "text": [
            "   warehouse    | sum  \n",
            "----------------+------\n",
            " All warehouses | 1210\n",
            " San Fransisco  |  560\n",
            " San Jose       |  650\n",
            "(3 rows)\n",
            "\n"
          ]
        }
      ]
    },
    {
      "cell_type": "markdown",
      "source": [
        "## Multi Columns"
      ],
      "metadata": {
        "id": "WW7-ckdfDh1i"
      }
    },
    {
      "cell_type": "code",
      "source": [
        "!psql -h localhost -p 5432 -Upostgres -dpraxisdb -c \"\\\n",
        "SELECT warehouse, product, SUM(quantity) \\\n",
        "FROM inventory \\\n",
        "GROUP BY warehouse, product; \\\n",
        "\""
      ],
      "metadata": {
        "colab": {
          "base_uri": "https://localhost:8080/"
        },
        "id": "P0BSPihaDoMp",
        "outputId": "df0c7ee3-78b9-4206-ce59-48f34fcf4fd9"
      },
      "execution_count": 16,
      "outputs": [
        {
          "output_type": "stream",
          "name": "stdout",
          "text": [
            "   warehouse   | product | sum \n",
            "---------------+---------+-----\n",
            " San Fransisco | iPhone  | 260\n",
            " San Fransisco | Samsung | 300\n",
            " San Jose      | iPhone  | 300\n",
            " San Jose      | Samsung | 350\n",
            "(4 rows)\n",
            "\n"
          ]
        }
      ]
    },
    {
      "cell_type": "code",
      "source": [
        "!psql -h localhost -p 5432 -Upostgres -dpraxisdb -c \"\\\n",
        "SELECT warehouse, product, SUM(quantity) \\\n",
        "FROM inventory \\\n",
        "GROUP BY ROLLUP (warehouse , product); \\\n",
        "\""
      ],
      "metadata": {
        "colab": {
          "base_uri": "https://localhost:8080/"
        },
        "id": "lm_TwnbYKgkC",
        "outputId": "8d5d19f7-df6f-40d4-a787-7332a3c2e6bc"
      },
      "execution_count": 17,
      "outputs": [
        {
          "output_type": "stream",
          "name": "stdout",
          "text": [
            "   warehouse   | product | sum  \n",
            "---------------+---------+------\n",
            "               |         | 1210\n",
            " San Fransisco | iPhone  |  260\n",
            " San Fransisco | Samsung |  300\n",
            " San Jose      | iPhone  |  300\n",
            " San Jose      | Samsung |  350\n",
            " San Fransisco |         |  560\n",
            " San Jose      |         |  650\n",
            "(7 rows)\n",
            "\n"
          ]
        }
      ]
    },
    {
      "cell_type": "markdown",
      "source": [
        "## Partial Roll Up"
      ],
      "metadata": {
        "id": "AIB4_KS1K2qW"
      }
    },
    {
      "cell_type": "code",
      "source": [
        "!psql -h localhost -p 5432 -Upostgres -dpraxisdb -c \"\\\n",
        "SELECT warehouse, product, SUM(quantity) \\\n",
        "FROM inventory \\\n",
        "GROUP BY warehouse, ROLLUP (product); \\\n",
        "\""
      ],
      "metadata": {
        "colab": {
          "base_uri": "https://localhost:8080/"
        },
        "id": "OJo_3CJvK6D7",
        "outputId": "0d2eb42f-2d64-46b7-e6b3-a2d58a5665d6"
      },
      "execution_count": 18,
      "outputs": [
        {
          "output_type": "stream",
          "name": "stdout",
          "text": [
            "   warehouse   | product | sum \n",
            "---------------+---------+-----\n",
            " San Fransisco | iPhone  | 260\n",
            " San Fransisco | Samsung | 300\n",
            " San Jose      | iPhone  | 300\n",
            " San Jose      | Samsung | 350\n",
            " San Fransisco |         | 560\n",
            " San Jose      |         | 650\n",
            "(6 rows)\n",
            "\n"
          ]
        }
      ]
    },
    {
      "cell_type": "code",
      "source": [
        "!psql -h localhost -p 5432 -Upostgres -dpraxisdb -c \"\\\n",
        "SELECT warehouse, COALESCE(product, 'All products'), SUM(quantity) \\\n",
        "FROM inventory \\\n",
        "GROUP BY warehouse, ROLLUP (product); \\\n",
        "\""
      ],
      "metadata": {
        "colab": {
          "base_uri": "https://localhost:8080/"
        },
        "id": "M3icmCefLOq7",
        "outputId": "05ead13d-f574-40b9-ef18-a6fdb4d324c7"
      },
      "execution_count": 19,
      "outputs": [
        {
          "output_type": "stream",
          "name": "stdout",
          "text": [
            "   warehouse   |   coalesce   | sum \n",
            "---------------+--------------+-----\n",
            " San Fransisco | iPhone       | 260\n",
            " San Fransisco | Samsung      | 300\n",
            " San Jose      | iPhone       | 300\n",
            " San Jose      | Samsung      | 350\n",
            " San Fransisco | All products | 560\n",
            " San Jose      | All products | 650\n",
            "(6 rows)\n",
            "\n"
          ]
        }
      ]
    },
    {
      "cell_type": "markdown",
      "source": [
        "#Cube"
      ],
      "metadata": {
        "id": "8Y2a_rYhMBrv"
      }
    },
    {
      "cell_type": "code",
      "source": [
        "!psql -h localhost -p 5432 -Upostgres -dpraxisdb -c \"\\\n",
        "SELECT warehouse, SUM(quantity) \\\n",
        "FROM inventory \\\n",
        "GROUP BY warehouse; \\\n",
        "\""
      ],
      "metadata": {
        "colab": {
          "base_uri": "https://localhost:8080/"
        },
        "id": "TZ0KSDLSMbRw",
        "outputId": "edf536d9-384a-4209-dd1e-8d2c9e258bd2"
      },
      "execution_count": 20,
      "outputs": [
        {
          "output_type": "stream",
          "name": "stdout",
          "text": [
            "   warehouse   | sum \n",
            "---------------+-----\n",
            " San Fransisco | 560\n",
            " San Jose      | 650\n",
            "(2 rows)\n",
            "\n"
          ]
        }
      ]
    },
    {
      "cell_type": "code",
      "source": [
        "!psql -h localhost -p 5432 -Upostgres -dpraxisdb -c \"\\\n",
        "SELECT warehouse, SUM(quantity) \\\n",
        "FROM inventory \\\n",
        "GROUP BY CUBE(warehouse) \\\n",
        "ORDER BY warehouse;  \\\n",
        "\""
      ],
      "metadata": {
        "colab": {
          "base_uri": "https://localhost:8080/"
        },
        "id": "MNePxLk4MXx5",
        "outputId": "280becda-0dc5-4c29-b6a4-56011704711c"
      },
      "execution_count": 21,
      "outputs": [
        {
          "output_type": "stream",
          "name": "stdout",
          "text": [
            "   warehouse   | sum  \n",
            "---------------+------\n",
            " San Fransisco |  560\n",
            " San Jose      |  650\n",
            "               | 1210\n",
            "(3 rows)\n",
            "\n"
          ]
        }
      ]
    },
    {
      "cell_type": "code",
      "source": [
        "!psql -h localhost -p 5432 -Upostgres -dpraxisdb -c \"\\\n",
        "SELECT COALESCE(warehouse, 'All warehouses'), SUM(quantity) \\\n",
        "FROM inventory \\\n",
        "GROUP BY CUBE(warehouse) \\\n",
        "ORDER BY warehouse;  \\\n",
        "\""
      ],
      "metadata": {
        "colab": {
          "base_uri": "https://localhost:8080/"
        },
        "id": "MiWiwiX-NJfK",
        "outputId": "7eb3f348-0441-4503-9329-96a62ec6bbbb"
      },
      "execution_count": 22,
      "outputs": [
        {
          "output_type": "stream",
          "name": "stdout",
          "text": [
            "    coalesce    | sum  \n",
            "----------------+------\n",
            " San Fransisco  |  560\n",
            " San Jose       |  650\n",
            " All warehouses | 1210\n",
            "(3 rows)\n",
            "\n"
          ]
        }
      ]
    },
    {
      "cell_type": "markdown",
      "source": [
        "## Multiple Columns"
      ],
      "metadata": {
        "id": "pLxM6neANllc"
      }
    },
    {
      "cell_type": "code",
      "source": [
        "!psql -h localhost -p 5432 -Upostgres -dpraxisdb -c \"\\\n",
        "SELECT warehouse, product, SUM(quantity) \\\n",
        "FROM inventory \\\n",
        "GROUP BY warehouse,product \\\n",
        "ORDER BY warehouse,product; \\\n",
        "\""
      ],
      "metadata": {
        "colab": {
          "base_uri": "https://localhost:8080/"
        },
        "id": "fVAypSnhNkUJ",
        "outputId": "002ad9ed-567e-42f1-a925-a39eedce9ea0"
      },
      "execution_count": 23,
      "outputs": [
        {
          "output_type": "stream",
          "name": "stdout",
          "text": [
            "   warehouse   | product | sum \n",
            "---------------+---------+-----\n",
            " San Fransisco | iPhone  | 260\n",
            " San Fransisco | Samsung | 300\n",
            " San Jose      | iPhone  | 300\n",
            " San Jose      | Samsung | 350\n",
            "(4 rows)\n",
            "\n"
          ]
        }
      ]
    },
    {
      "cell_type": "code",
      "source": [
        "!psql -h localhost -p 5432 -Upostgres -dpraxisdb -c \"\\\n",
        "SELECT \\\n",
        "   warehouse, \\\n",
        "   product, \\\n",
        "   SUM(quantity) \\\n",
        "FROM  inventory \\\n",
        "GROUP BY CUBE(warehouse,product) \\\n",
        "ORDER BY warehouse, product; \\\n",
        "\"\n"
      ],
      "metadata": {
        "colab": {
          "base_uri": "https://localhost:8080/"
        },
        "id": "vBXapm-NODKX",
        "outputId": "e2dc46ca-97b6-4f61-a427-a37a0ba26c23"
      },
      "execution_count": 24,
      "outputs": [
        {
          "output_type": "stream",
          "name": "stdout",
          "text": [
            "   warehouse   | product | sum  \n",
            "---------------+---------+------\n",
            " San Fransisco | iPhone  |  260\n",
            " San Fransisco | Samsung |  300\n",
            " San Fransisco |         |  560\n",
            " San Jose      | iPhone  |  300\n",
            " San Jose      | Samsung |  350\n",
            " San Jose      |         |  650\n",
            "               | iPhone  |  560\n",
            "               | Samsung |  650\n",
            "               |         | 1210\n",
            "(9 rows)\n",
            "\n"
          ]
        }
      ]
    },
    {
      "cell_type": "code",
      "source": [
        "!psql -h localhost -p 5432 -Upostgres -dpraxisdb -c \"\\\n",
        "SELECT \\\n",
        "   COALESCE(warehouse, '...All Warehouses') warehouse, \\\n",
        "   COALESCE(product, '...All Products') product, \\\n",
        "   SUM(quantity) \\\n",
        "FROM  inventory \\\n",
        "GROUP BY CUBE(warehouse,product) \\\n",
        "ORDER BY warehouse, product; \\\n",
        "\""
      ],
      "metadata": {
        "colab": {
          "base_uri": "https://localhost:8080/"
        },
        "id": "zDa8P7upObi7",
        "outputId": "c71d40ae-0fde-4866-a805-c0f4da07d571"
      },
      "execution_count": 25,
      "outputs": [
        {
          "output_type": "stream",
          "name": "stdout",
          "text": [
            "     warehouse     |     product     | sum  \n",
            "-------------------+-----------------+------\n",
            " ...All Warehouses | ...All Products | 1210\n",
            " ...All Warehouses | iPhone          |  560\n",
            " ...All Warehouses | Samsung         |  650\n",
            " San Fransisco     | ...All Products |  560\n",
            " San Fransisco     | iPhone          |  260\n",
            " San Fransisco     | Samsung         |  300\n",
            " San Jose          | ...All Products |  650\n",
            " San Jose          | iPhone          |  300\n",
            " San Jose          | Samsung         |  350\n",
            "(9 rows)\n",
            "\n"
          ]
        }
      ]
    },
    {
      "cell_type": "markdown",
      "source": [
        "#Three Dimensional Cube\n",
        "see [MySQL Version](https://github.com/Praxis-QR/RDWH/blob/main/Cross_Tabs_with_OLAP_Cube_Normalised_KeyValueTables.ipynb) for context"
      ],
      "metadata": {
        "id": "-WAUMik-RMQa"
      }
    },
    {
      "cell_type": "markdown",
      "source": [
        "## Create Fact Table"
      ],
      "metadata": {
        "id": "9LoXNdJrc1Oe"
      }
    },
    {
      "cell_type": "code",
      "source": [
        "!psql -h localhost -p 5432 -Upostgres -dpraxisdb -c 'DROP TABLE IF EXISTS CarSalesFact_S2'"
      ],
      "metadata": {
        "colab": {
          "base_uri": "https://localhost:8080/"
        },
        "id": "Arnd1gAaX50R",
        "outputId": "b0fc4c18-c50a-4f02-ffe1-876accd3dc47"
      },
      "execution_count": 26,
      "outputs": [
        {
          "output_type": "stream",
          "name": "stdout",
          "text": [
            "NOTICE:  table \"carsalesfact_s2\" does not exist, skipping\n",
            "DROP TABLE\n"
          ]
        }
      ]
    },
    {
      "cell_type": "code",
      "source": [
        "!psql -h localhost -p 5432 -Upostgres -dpraxisdb -c \"\\\n",
        "CREATE TABLE CarSalesFact_S2 ( \\\n",
        "  Make text, \\\n",
        "  Type text, \\\n",
        "  Colour text, \\\n",
        "  Value int DEFAULT NULL,\\\n",
        "  Units int NOT NULL DEFAULT '0'\\\n",
        ")\""
      ],
      "metadata": {
        "colab": {
          "base_uri": "https://localhost:8080/"
        },
        "id": "SDOx5RwuYKF2",
        "outputId": "84f7ca4b-9943-4380-aa43-ce407a814645"
      },
      "execution_count": 27,
      "outputs": [
        {
          "output_type": "stream",
          "name": "stdout",
          "text": [
            "CREATE TABLE\n"
          ]
        }
      ]
    },
    {
      "cell_type": "code",
      "source": [
        "!psql -h localhost -p 5432 -Upostgres -dpraxisdb -c \"\\\n",
        "INSERT INTO CarSalesFact_S2 VALUES \\\n",
        "('Honda','SUV','Red',7000,2),('Honda','SUV','Black',18000,4),('Honda','Sedan','Brown',5000,1), \\\n",
        "('Toyota','Compact','Red',7000,1),('Toyota','Sedan','Black',9000,2),\\\n",
        "('Mazda','SUV','Black',4000,1),('Mazda','Compact','Red',5000,1),('Mazda','Sedan','Brown',4000,1),('Mazda','SUV','Red',3000,1);\\\n",
        "\""
      ],
      "metadata": {
        "colab": {
          "base_uri": "https://localhost:8080/"
        },
        "id": "AUGYdsjPY-P9",
        "outputId": "40298c0a-aa4f-4e60-e64d-9ec28eeddb1c"
      },
      "execution_count": 28,
      "outputs": [
        {
          "output_type": "stream",
          "name": "stdout",
          "text": [
            "INSERT 0 9\n"
          ]
        }
      ]
    },
    {
      "cell_type": "code",
      "source": [
        "!psql -h localhost -p 5432 -Upostgres -dpraxisdb -c \"select * from CarSalesFact_S2\"  "
      ],
      "metadata": {
        "colab": {
          "base_uri": "https://localhost:8080/"
        },
        "id": "U4zrpzltZpaC",
        "outputId": "c8d1fe08-1b12-421a-e81b-e6e7136037fa"
      },
      "execution_count": 29,
      "outputs": [
        {
          "output_type": "stream",
          "name": "stdout",
          "text": [
            "  make  |  type   | colour | value | units \n",
            "--------+---------+--------+-------+-------\n",
            " Honda  | SUV     | Red    |  7000 |     2\n",
            " Honda  | SUV     | Black  | 18000 |     4\n",
            " Honda  | Sedan   | Brown  |  5000 |     1\n",
            " Toyota | Compact | Red    |  7000 |     1\n",
            " Toyota | Sedan   | Black  |  9000 |     2\n",
            " Mazda  | SUV     | Black  |  4000 |     1\n",
            " Mazda  | Compact | Red    |  5000 |     1\n",
            " Mazda  | Sedan   | Brown  |  4000 |     1\n",
            " Mazda  | SUV     | Red    |  3000 |     1\n",
            "(9 rows)\n",
            "\n"
          ]
        }
      ]
    },
    {
      "cell_type": "markdown",
      "source": [
        "## Cross Tab Level 1"
      ],
      "metadata": {
        "id": "j7-wjzy1aBfl"
      }
    },
    {
      "cell_type": "code",
      "source": [
        "!psql -h localhost -p 5432 -Upostgres -dpraxisdb -c \" \\\n",
        "  select Make, Type, Sum(Units) Count \\\n",
        "  from CarSalesFact_S2 \\\n",
        "  group by Make, Type \\\n",
        "\""
      ],
      "metadata": {
        "colab": {
          "base_uri": "https://localhost:8080/"
        },
        "id": "eUMmclngaG5X",
        "outputId": "9aaf24af-65b8-4199-fca2-ba5463294946"
      },
      "execution_count": 30,
      "outputs": [
        {
          "output_type": "stream",
          "name": "stdout",
          "text": [
            "  make  |  type   | count \n",
            "--------+---------+-------\n",
            " Mazda  | SUV     |     2\n",
            " Honda  | SUV     |     6\n",
            " Mazda  | Sedan   |     1\n",
            " Toyota | Compact |     1\n",
            " Toyota | Sedan   |     2\n",
            " Honda  | Sedan   |     1\n",
            " Mazda  | Compact |     1\n",
            "(7 rows)\n",
            "\n"
          ]
        }
      ]
    },
    {
      "cell_type": "code",
      "source": [
        "!psql -h localhost -p 5432 -Upostgres -dpraxisdb -c \" \\\n",
        "  select Make,  Sum(Units) Count \\\n",
        "  from CarSalesFact_S2 \\\n",
        "  group by Make \\\n",
        "\""
      ],
      "metadata": {
        "colab": {
          "base_uri": "https://localhost:8080/"
        },
        "id": "vXkP_yeUaXMo",
        "outputId": "ef00cd0d-d19f-46f2-eb59-af54c5c081ae"
      },
      "execution_count": 31,
      "outputs": [
        {
          "output_type": "stream",
          "name": "stdout",
          "text": [
            "  make  | count \n",
            "--------+-------\n",
            " Honda  |     7\n",
            " Toyota |     3\n",
            " Mazda  |     4\n",
            "(3 rows)\n",
            "\n"
          ]
        }
      ]
    },
    {
      "cell_type": "code",
      "source": [
        "#case when (Dim = 'Make') then DimValue else '' end\n",
        "#case when (Type = 'Sedan') then Units else 0 end\n",
        "\n",
        "\n",
        "!psql -h localhost -p 5432 -Upostgres -dpraxisdb -c \" \\\n",
        "    select Make, \\\n",
        "    sum(case when (Type = 'Sedan') then Units else 0 end) as Sedan, \\\n",
        "    sum(case when (Type = 'SUV') then Units else 0 end) as SUV, \\\n",
        "    sum(case when (Type = 'Compact') then Units else 0 end) as Compact \\\n",
        "    from CarSalesFact_S2 \\\n",
        "    group by Make\""
      ],
      "metadata": {
        "colab": {
          "base_uri": "https://localhost:8080/"
        },
        "id": "Pcj2DAL3alrm",
        "outputId": "a4109461-6122-4cbd-8687-82768f2a7285"
      },
      "execution_count": 32,
      "outputs": [
        {
          "output_type": "stream",
          "name": "stdout",
          "text": [
            "  make  | sedan | suv | compact \n",
            "--------+-------+-----+---------\n",
            " Honda  |     1 |   6 |       0\n",
            " Toyota |     2 |   0 |       1\n",
            " Mazda  |     1 |   2 |       1\n",
            "(3 rows)\n",
            "\n"
          ]
        }
      ]
    },
    {
      "cell_type": "code",
      "source": [
        "!psql -h localhost -p 5432 -Upostgres -dpraxisdb -c \" \\\n",
        "    select Make, \\\n",
        "    sum(case when (Type = 'Sedan') then Value else 0 end) as Sedan, \\\n",
        "    sum(case when (Type = 'SUV') then Value else 0 end) as SUV, \\\n",
        "    sum(case when (Type = 'Compact') then Value else 0 end) as Compact \\\n",
        "    from CarSalesFact_S2 \\\n",
        "    group by Make\""
      ],
      "metadata": {
        "colab": {
          "base_uri": "https://localhost:8080/"
        },
        "id": "TYPY_r-LaRE6",
        "outputId": "7ffe7996-49b3-4089-81d6-0a9db128dbf6"
      },
      "execution_count": 33,
      "outputs": [
        {
          "output_type": "stream",
          "name": "stdout",
          "text": [
            "  make  | sedan |  suv  | compact \n",
            "--------+-------+-------+---------\n",
            " Honda  |  5000 | 25000 |       0\n",
            " Toyota |  9000 |     0 |    7000\n",
            " Mazda  |  4000 |  7000 |    5000\n",
            "(3 rows)\n",
            "\n"
          ]
        }
      ]
    },
    {
      "cell_type": "markdown",
      "source": [
        "## Cross Tab Level 2"
      ],
      "metadata": {
        "id": "XKkkJN4yci7m"
      }
    },
    {
      "cell_type": "code",
      "source": [
        "#!psql -h localhost -p 5432 -Upostgres -dpraxisdb -c \" \\\n",
        "#  select Make, Type, Sum(Units) Count \\\n",
        "#  from CarSalesFact_S2 \\\n",
        "#  group by Make, Type  \\\n",
        "#  with ROLLUP; \\\n",
        "#\"\n",
        "\n",
        "#COALESCE(warehouse, 'All warehouses') AS warehouse,\n",
        "\n",
        "!psql -h localhost -p 5432 -Upostgres -dpraxisdb -c \" \\\n",
        "  select COALESCE(Make, 'All Makes') AS Make, \\\n",
        "  COALESCE(Type, 'All Types') AS Type, \\\n",
        "  Sum(Units) Count \\\n",
        "  from CarSalesFact_S2 \\\n",
        "  group by ROLLUP (Make, Type)  \\\n",
        "\""
      ],
      "metadata": {
        "colab": {
          "base_uri": "https://localhost:8080/"
        },
        "id": "cuL1UatIdD2o",
        "outputId": "873e7905-6bf1-4e87-a448-231c85ccf09a"
      },
      "execution_count": 34,
      "outputs": [
        {
          "output_type": "stream",
          "name": "stdout",
          "text": [
            "   make    |   type    | count \n",
            "-----------+-----------+-------\n",
            " All Makes | All Types |    14\n",
            " Mazda     | SUV       |     2\n",
            " Honda     | SUV       |     6\n",
            " Mazda     | Sedan     |     1\n",
            " Toyota    | Compact   |     1\n",
            " Toyota    | Sedan     |     2\n",
            " Honda     | Sedan     |     1\n",
            " Mazda     | Compact   |     1\n",
            " Honda     | All Types |     7\n",
            " Toyota    | All Types |     3\n",
            " Mazda     | All Types |     4\n",
            "(11 rows)\n",
            "\n"
          ]
        }
      ]
    },
    {
      "cell_type": "markdown",
      "source": [
        "## Cross Tab Level 3"
      ],
      "metadata": {
        "id": "uaPoHGuCeajc"
      }
    },
    {
      "cell_type": "code",
      "source": [
        "#sum(case when (Type = 'Sedan') then Units else 0 end) as Sedan, \\\n",
        "!psql -h localhost -p 5432 -Upostgres -dpraxisdb -c \" \\\n",
        "SELECT \\\n",
        "\tMake,\\\n",
        "\tsum(case when (Type = 'Sedan') then Units else 0 end) as Sedan,\\\n",
        "\tsum(case when (Type = 'SUV') then Units else 0 end) as SUV,\\\n",
        "\tsum(case when (Type = 'Compact') then Units else 0 end) as Compact\\\n",
        "  FROM CarSalesFact_S2\\\n",
        "  GROUP BY ROLLUP (Make)\\\n",
        "\""
      ],
      "metadata": {
        "colab": {
          "base_uri": "https://localhost:8080/"
        },
        "id": "0GEXec1Ked3f",
        "outputId": "78a9e785-d1a2-478b-d1c2-071e561d9042"
      },
      "execution_count": 35,
      "outputs": [
        {
          "output_type": "stream",
          "name": "stdout",
          "text": [
            "  make  | sedan | suv | compact \n",
            "--------+-------+-----+---------\n",
            "        |     4 |   8 |       2\n",
            " Honda  |     1 |   6 |       0\n",
            " Toyota |     2 |   0 |       1\n",
            " Mazda  |     1 |   2 |       1\n",
            "(4 rows)\n",
            "\n"
          ]
        }
      ]
    },
    {
      "cell_type": "code",
      "source": [
        "#sum(case when (Type = 'Sedan') then Units else 0 end) as Sedan, \\\n",
        "!psql -h localhost -p 5432 -Upostgres -dpraxisdb -c \" \\\n",
        "SELECT \\\n",
        "    COALESCE(Make, 'Total') AS Dim, \\\n",
        "\tsum(case when (Type = 'Sedan') then Units else 0 end) as Sedan,\\\n",
        "\tsum(case when (Type = 'SUV') then Units else 0 end) as SUV,\\\n",
        "\tsum(case when (Type = 'Compact') then Units else 0 end) as Compact\\\n",
        "  FROM CarSalesFact_S2\\\n",
        "  GROUP BY ROLLUP (Make)\\\n",
        "\""
      ],
      "metadata": {
        "colab": {
          "base_uri": "https://localhost:8080/"
        },
        "id": "A0lPIXGRfgz1",
        "outputId": "0db896dc-fc9d-41ad-f531-ba77a410c354"
      },
      "execution_count": 36,
      "outputs": [
        {
          "output_type": "stream",
          "name": "stdout",
          "text": [
            "  dim   | sedan | suv | compact \n",
            "--------+-------+-----+---------\n",
            " Total  |     4 |   8 |       2\n",
            " Honda  |     1 |   6 |       0\n",
            " Toyota |     2 |   0 |       1\n",
            " Mazda  |     1 |   2 |       1\n",
            "(4 rows)\n",
            "\n"
          ]
        }
      ]
    },
    {
      "cell_type": "code",
      "source": [
        "!psql -h localhost -p 5432 -Upostgres -dpraxisdb -c \" \\\n",
        "SELECT \\\n",
        "COALESCE(Make, 'Total') AS Dim, \\\n",
        "sums.SUV, sums.Sedan, sums.Compact,\\\n",
        "sums.SUV + sums.Sedan + sums.Compact  Totals \\\n",
        "FROM ( \\\n",
        "  SELECT \\\n",
        "    Make, \\\n",
        "\tsum(case when (Type = 'Sedan') then Units else 0 end) as Sedan,\\\n",
        "\tsum(case when (Type = 'SUV') then Units else 0 end) as SUV,\\\n",
        "\tsum(case when (Type = 'Compact') then Units else 0 end) as Compact\\\n",
        "  FROM CarSalesFact_S2\\\n",
        "  GROUP BY ROLLUP (Make)\\\n",
        ") AS sums \\\n",
        "\""
      ],
      "metadata": {
        "colab": {
          "base_uri": "https://localhost:8080/"
        },
        "id": "C3Qeuvxfh2lE",
        "outputId": "1ab6c3e2-a914-4a5e-cda7-fb8bc6d21542"
      },
      "execution_count": 37,
      "outputs": [
        {
          "output_type": "stream",
          "name": "stdout",
          "text": [
            "  dim   | suv | sedan | compact | totals \n",
            "--------+-----+-------+---------+--------\n",
            " Total  |   8 |     4 |       2 |     14\n",
            " Honda  |   6 |     1 |       0 |      7\n",
            " Toyota |   0 |     2 |       1 |      3\n",
            " Mazda  |   2 |     1 |       1 |      4\n",
            "(4 rows)\n",
            "\n"
          ]
        }
      ]
    },
    {
      "cell_type": "code",
      "source": [
        "!psql -h localhost -p 5432 -Upostgres -dpraxisdb -c \" \\\n",
        "SELECT \\\n",
        "COALESCE(Make, 'Totals') AS Dim, \\\n",
        "sums.Brown, sums.Black, sums.Red,\\\n",
        "sums.Brown + sums.Black + sums.Red  Totals \\\n",
        "FROM ( \\\n",
        "  SELECT \\\n",
        "    Make, \\\n",
        "\tsum(case when (Colour = 'Brown') then Units else 0 end) as Brown,\\\n",
        "\tsum(case when (Colour = 'Black') then Units else 0 end) as Black,\\\n",
        "\tsum(case when (Colour = 'Red') then Units else 0 end) as Red\\\n",
        "  FROM CarSalesFact_S2\\\n",
        "  GROUP BY ROLLUP (Make)\\\n",
        ") AS sums \\\n",
        "\""
      ],
      "metadata": {
        "colab": {
          "base_uri": "https://localhost:8080/"
        },
        "id": "4jj3H0_rixpQ",
        "outputId": "1caa3570-f03f-4506-bd6f-a276a24fe826"
      },
      "execution_count": 38,
      "outputs": [
        {
          "output_type": "stream",
          "name": "stdout",
          "text": [
            "  dim   | brown | black | red | totals \n",
            "--------+-------+-------+-----+--------\n",
            " Totals |     2 |     7 |   5 |     14\n",
            " Honda  |     1 |     4 |   2 |      7\n",
            " Toyota |     0 |     2 |   1 |      3\n",
            " Mazda  |     1 |     1 |   2 |      4\n",
            "(4 rows)\n",
            "\n"
          ]
        }
      ]
    },
    {
      "cell_type": "code",
      "source": [
        "!psql -h localhost -p 5432 -Upostgres -dpraxisdb -c \"select * from CarSalesFact_S2\"  "
      ],
      "metadata": {
        "colab": {
          "base_uri": "https://localhost:8080/"
        },
        "id": "Q77qzsWomBbE",
        "outputId": "9dc48150-d84d-4447-c1cc-79a512f77023"
      },
      "execution_count": 39,
      "outputs": [
        {
          "output_type": "stream",
          "name": "stdout",
          "text": [
            "  make  |  type   | colour | value | units \n",
            "--------+---------+--------+-------+-------\n",
            " Honda  | SUV     | Red    |  7000 |     2\n",
            " Honda  | SUV     | Black  | 18000 |     4\n",
            " Honda  | Sedan   | Brown  |  5000 |     1\n",
            " Toyota | Compact | Red    |  7000 |     1\n",
            " Toyota | Sedan   | Black  |  9000 |     2\n",
            " Mazda  | SUV     | Black  |  4000 |     1\n",
            " Mazda  | Compact | Red    |  5000 |     1\n",
            " Mazda  | Sedan   | Brown  |  4000 |     1\n",
            " Mazda  | SUV     | Red    |  3000 |     1\n",
            "(9 rows)\n",
            "\n"
          ]
        }
      ]
    },
    {
      "cell_type": "code",
      "source": [
        "!psql -h localhost -p 5432 -Upostgres -dpraxisdb -c \"\\\n",
        "SELECT \\\n",
        "COALESCE(make, '- All Makes -') make, \\\n",
        "COALESCE(Type, '- All types -') cType, \\\n",
        "COALESCE(colour, '- All colour -') colour, \\\n",
        "sum(Units) \\\n",
        "FROM CarSalesFact_S2 \\\n",
        "GROUP BY CUBE(make,Type,colour) \\\n",
        "ORDER BY make,Type,colour; \\\n",
        "\""
      ],
      "metadata": {
        "colab": {
          "base_uri": "https://localhost:8080/"
        },
        "id": "K_UwFLDNm6ig",
        "outputId": "7436d527-84fe-4d87-d5b1-b1c7095362e4"
      },
      "execution_count": 40,
      "outputs": [
        {
          "output_type": "stream",
          "name": "stdout",
          "text": [
            "     make      |     ctype     |     colour     | sum \n",
            "---------------+---------------+----------------+-----\n",
            " - All Makes - | Compact       | - All colour - |   2\n",
            " - All Makes - | Compact       | Red            |   2\n",
            " - All Makes - | Sedan         | - All colour - |   4\n",
            " - All Makes - | Sedan         | Black          |   2\n",
            " - All Makes - | Sedan         | Brown          |   2\n",
            " - All Makes - | SUV           | - All colour - |   8\n",
            " - All Makes - | SUV           | Black          |   5\n",
            " - All Makes - | SUV           | Red            |   3\n",
            " - All Makes - | - All types - | - All colour - |  14\n",
            " - All Makes - | - All types - | Black          |   7\n",
            " - All Makes - | - All types - | Brown          |   2\n",
            " - All Makes - | - All types - | Red            |   5\n",
            " Honda         | Sedan         | - All colour - |   1\n",
            " Honda         | Sedan         | Brown          |   1\n",
            " Honda         | SUV           | - All colour - |   6\n",
            " Honda         | SUV           | Black          |   4\n",
            " Honda         | SUV           | Red            |   2\n",
            " Honda         | - All types - | - All colour - |   7\n",
            " Honda         | - All types - | Black          |   4\n",
            " Honda         | - All types - | Brown          |   1\n",
            " Honda         | - All types - | Red            |   2\n",
            " Mazda         | Compact       | - All colour - |   1\n",
            " Mazda         | Compact       | Red            |   1\n",
            " Mazda         | Sedan         | - All colour - |   1\n",
            " Mazda         | Sedan         | Brown          |   1\n",
            " Mazda         | SUV           | - All colour - |   2\n",
            " Mazda         | SUV           | Black          |   1\n",
            " Mazda         | SUV           | Red            |   1\n",
            " Mazda         | - All types - | - All colour - |   4\n",
            " Mazda         | - All types - | Black          |   1\n",
            " Mazda         | - All types - | Brown          |   1\n",
            " Mazda         | - All types - | Red            |   2\n",
            " Toyota        | Compact       | - All colour - |   1\n",
            " Toyota        | Compact       | Red            |   1\n",
            " Toyota        | Sedan         | - All colour - |   2\n",
            " Toyota        | Sedan         | Black          |   2\n",
            " Toyota        | - All types - | - All colour - |   3\n",
            " Toyota        | - All types - | Black          |   2\n",
            " Toyota        | - All types - | Red            |   1\n",
            "(39 rows)\n",
            "\n"
          ]
        }
      ]
    },
    {
      "cell_type": "markdown",
      "source": [
        "Signoff"
      ],
      "metadata": {
        "id": "3BTkpdsj-Hv0"
      }
    },
    {
      "cell_type": "code",
      "source": [
        "from datetime import datetime\n",
        "import pytz\n",
        "print('Last tested  ',datetime.now(pytz.timezone('Asia/Singapore')))"
      ],
      "metadata": {
        "colab": {
          "base_uri": "https://localhost:8080/"
        },
        "id": "To3pf5O2-Kas",
        "outputId": "df53b129-406c-4f46-fc57-f71b0d996d9e"
      },
      "execution_count": 41,
      "outputs": [
        {
          "output_type": "stream",
          "name": "stdout",
          "text": [
            "Last tested   2023-03-16 13:25:20.100461+08:00\n"
          ]
        }
      ]
    },
    {
      "cell_type": "markdown",
      "source": [
        "#Chronobooks <br>\n",
        "Two science fiction novels by Prithwis Mukerjee. A dystopian Earth. A technocratic society managed by artificial intelligence. Escape and epiphany on Mars. Can man and machine, carbon and silicon explore and escape into other dimensions of existence? An Indic perspective rooted in Advaita Vedanta and the Divine Feminine.  [More information](http://bit.ly/chronobooks) <br>\n",
        "![alt text](https://github.com/Praxis-QR/RDWH/raw/main/images/CTCYFooter-1.png)"
      ],
      "metadata": {
        "id": "_gNiZpyW3AzJ"
      }
    },
    {
      "cell_type": "markdown",
      "source": [
        "## Smaller Table, built with pivots - ignore"
      ],
      "metadata": {
        "id": "hdvkFGAbZsxG"
      }
    },
    {
      "cell_type": "code",
      "source": [
        "!psql -h localhost -p 5432 -Upostgres -dpraxisdb -c 'DROP table if exists CarSalesFact_N'\n",
        "!psql -h localhost -p 5432 -Upostgres -dpraxisdb -c 'CREATE TABLE if not exists CarSalesFact_N ( Txn int ,  Dim  varchar(8) ,  DimValue varchar(8) ) '"
      ],
      "metadata": {
        "colab": {
          "base_uri": "https://localhost:8080/"
        },
        "id": "CblRbAKtRR78",
        "outputId": "c140443b-dccb-4ce7-bd6e-0a1ba64e80f7"
      },
      "execution_count": 42,
      "outputs": [
        {
          "output_type": "stream",
          "name": "stdout",
          "text": [
            "NOTICE:  table \"carsalesfact_n\" does not exist, skipping\n",
            "DROP TABLE\n",
            "CREATE TABLE\n"
          ]
        }
      ]
    },
    {
      "cell_type": "code",
      "source": [
        "!psql -h localhost -p 5432 -Upostgres -dpraxisdb -c \" \\\n",
        "INSERT INTO CarSalesFact_N (Txn, Dim, DimValue) VALUES \\\n",
        " (1, 'Make', 'Honda'),(1, 'Type', 'SUV'),(1, 'Colour', 'Red'),\\\n",
        " (2, 'Make', 'Honda'),(2, 'Type', 'SUV'),(2, 'Colour', 'Black'), \\\n",
        " (3, 'Make', 'Honda'),(3, 'Type', 'Sedan'),(3, 'Colour', 'Brown'),\\\n",
        " (4, 'Make', 'Toyota'),(4, 'Type', 'Compact'),(4, 'Colour', 'Red'),\\\n",
        " (5, 'Make', 'Toyota'),(5, 'Colour', 'Black'),(5, 'Type', 'Sedan'),\\\n",
        " (6, 'Make', 'Toyota'),(6, 'Colour', 'Black'),(6, 'Type', 'Sedan'),\\\n",
        " (7, 'Make', 'Honda'),(7, 'Type', 'SUV'),(7, 'Colour', 'Black'),\\\n",
        " (8, 'Make', 'Honda'),(8, 'Type', 'SUV'),(8, 'Colour', 'Red'),\\\n",
        " (9, 'Make', 'Honda'),(9, 'Type', 'SUV'),(9, 'Colour', 'Black'),\\\n",
        " (10, 'Make', 'Honda'),(10, 'Type', 'SUV'),(10, 'Colour', 'Black'),\\\n",
        " (11, 'Make', 'Mazda'),(11, 'Type', 'SUV'),(11, 'Colour', 'Black'),\\\n",
        " (12, 'Make', 'Mazda'),(12, 'Type', 'Compact'),(12, 'Colour', 'Red'),\\\n",
        " (13, 'Make', 'Mazda'),(13, 'Type', 'Sedan'),(13, 'Colour', 'Brown'),\\\n",
        " (14, 'Make', 'Mazda'),(14, 'Type', 'SUV'),(14, 'Colour', 'Red');\\\n",
        " \""
      ],
      "metadata": {
        "colab": {
          "base_uri": "https://localhost:8080/"
        },
        "id": "Lv-FyqoMR_6m",
        "outputId": "68186441-7f44-4238-e81a-b9c7f8a0432c"
      },
      "execution_count": 43,
      "outputs": [
        {
          "output_type": "stream",
          "name": "stdout",
          "text": [
            "INSERT 0 42\n"
          ]
        }
      ]
    },
    {
      "cell_type": "code",
      "source": [
        "!psql -h localhost -p 5432 -Upostgres -dpraxisdb -c \" \\\n",
        "SELECT \\\n",
        "  Txn,\\\n",
        "  array_agg(case when (Dim = 'Make') then DimValue else '' end) AS Make,\\\n",
        "  array_agg(case when (Dim = 'Type') then DimValue else '' end) AS Type,\\\n",
        "  array_agg(case when (Dim = 'Colour') then DimValue else '' end) AS Colour \\\n",
        "FROM CarSalesFact_N \\\n",
        "GROUP BY txn \\\n",
        "\""
      ],
      "metadata": {
        "colab": {
          "base_uri": "https://localhost:8080/"
        },
        "id": "4Q25-T8hUh4x",
        "outputId": "59406a9d-042d-496e-d383-2c81d070bce2"
      },
      "execution_count": 47,
      "outputs": [
        {
          "output_type": "stream",
          "name": "stdout",
          "text": [
            " txn |      make      |      type       |    colour     \n",
            "-----+----------------+-----------------+---------------\n",
            "   1 | {Honda,\"\",\"\"}  | {\"\",SUV,\"\"}     | {\"\",\"\",Red}\n",
            "   2 | {Honda,\"\",\"\"}  | {\"\",SUV,\"\"}     | {\"\",\"\",Black}\n",
            "   3 | {Honda,\"\",\"\"}  | {\"\",Sedan,\"\"}   | {\"\",\"\",Brown}\n",
            "   4 | {Toyota,\"\",\"\"} | {\"\",Compact,\"\"} | {\"\",\"\",Red}\n",
            "   5 | {Toyota,\"\",\"\"} | {\"\",\"\",Sedan}   | {\"\",Black,\"\"}\n",
            "   6 | {Toyota,\"\",\"\"} | {\"\",\"\",Sedan}   | {\"\",Black,\"\"}\n",
            "   7 | {Honda,\"\",\"\"}  | {\"\",SUV,\"\"}     | {\"\",\"\",Black}\n",
            "   8 | {Honda,\"\",\"\"}  | {\"\",SUV,\"\"}     | {\"\",\"\",Red}\n",
            "   9 | {Honda,\"\",\"\"}  | {\"\",SUV,\"\"}     | {\"\",\"\",Black}\n",
            "  10 | {Honda,\"\",\"\"}  | {\"\",SUV,\"\"}     | {\"\",\"\",Black}\n",
            "  11 | {Mazda,\"\",\"\"}  | {\"\",SUV,\"\"}     | {\"\",\"\",Black}\n",
            "  12 | {Mazda,\"\",\"\"}  | {\"\",Compact,\"\"} | {\"\",\"\",Red}\n",
            "  13 | {Mazda,\"\",\"\"}  | {\"\",Sedan,\"\"}   | {\"\",\"\",Brown}\n",
            "  14 | {Mazda,\"\",\"\"}  | {\"\",SUV,\"\"}     | {\"\",\"\",Red}\n",
            "(14 rows)\n",
            "\n"
          ]
        }
      ]
    },
    {
      "cell_type": "code",
      "source": [
        "!psql -h localhost -p 5432 -Upostgres -dpraxisdb -c \" \\\n",
        "SELECT \\\n",
        "  Txn,\\\n",
        "  array_to_string(array_agg(case when (Dim = 'Make') then DimValue else '' end),'') AS Make,\\\n",
        "  array_to_string(array_agg(case when (Dim = 'Type') then DimValue else '' end),'') AS Type,\\\n",
        "  array_to_string(array_agg(case when (Dim = 'Colour') then DimValue else '' end),'') AS Colour \\\n",
        "FROM CarSalesFact_N \\\n",
        "GROUP BY txn \\\n",
        "\""
      ],
      "metadata": {
        "colab": {
          "base_uri": "https://localhost:8080/"
        },
        "id": "sRo38NveBkW3",
        "outputId": "be3e2f0e-518d-4c6f-a117-a39621c2618e"
      },
      "execution_count": 48,
      "outputs": [
        {
          "output_type": "stream",
          "name": "stdout",
          "text": [
            " txn |  make  |  type   | colour \n",
            "-----+--------+---------+--------\n",
            "   1 | Honda  | SUV     | Red\n",
            "   2 | Honda  | SUV     | Black\n",
            "   3 | Honda  | Sedan   | Brown\n",
            "   4 | Toyota | Compact | Red\n",
            "   5 | Toyota | Sedan   | Black\n",
            "   6 | Toyota | Sedan   | Black\n",
            "   7 | Honda  | SUV     | Black\n",
            "   8 | Honda  | SUV     | Red\n",
            "   9 | Honda  | SUV     | Black\n",
            "  10 | Honda  | SUV     | Black\n",
            "  11 | Mazda  | SUV     | Black\n",
            "  12 | Mazda  | Compact | Red\n",
            "  13 | Mazda  | Sedan   | Brown\n",
            "  14 | Mazda  | SUV     | Red\n",
            "(14 rows)\n",
            "\n"
          ]
        }
      ]
    },
    {
      "cell_type": "code",
      "source": [
        "!psql -h localhost -p 5432 -Upostgres -dpraxisdb -c \" \\\n",
        "select csf0.Make, csf0.Type, csf0.Colour, count(txn) Units from \\\n",
        "(SELECT \\\n",
        "  Txn,\\\n",
        "  array_to_string(array_agg(case when (Dim = 'Make') then DimValue else '' end),'') AS Make,\\\n",
        "  array_to_string(array_agg(case when (Dim = 'Type') then DimValue else '' end),'') AS Type,\\\n",
        "  array_to_string(array_agg(case when (Dim = 'Colour') then DimValue else '' end),'') AS Colour \\\n",
        "FROM CarSalesFact_N \\\n",
        "GROUP BY txn \\\n",
        ") as csf0 \\\n",
        "group by \\\n",
        "csf0.Make, csf0.Type, csf0.Colour \\\n",
        "\""
      ],
      "metadata": {
        "colab": {
          "base_uri": "https://localhost:8080/"
        },
        "id": "Ppg33IvsXrQw",
        "outputId": "08dca28e-1eff-44a0-fdae-dd2ce110f1b4"
      },
      "execution_count": 49,
      "outputs": [
        {
          "output_type": "stream",
          "name": "stdout",
          "text": [
            "  make  |  type   | colour | units \n",
            "--------+---------+--------+-------\n",
            " Honda  | SUV     | Red    |     2\n",
            " Honda  | SUV     | Black  |     4\n",
            " Toyota | Compact | Red    |     1\n",
            " Mazda  | Compact | Red    |     1\n",
            " Mazda  | SUV     | Red    |     1\n",
            " Toyota | Sedan   | Black  |     2\n",
            " Honda  | Sedan   | Brown  |     1\n",
            " Mazda  | Sedan   | Brown  |     1\n",
            " Mazda  | SUV     | Black  |     1\n",
            "(9 rows)\n",
            "\n"
          ]
        }
      ]
    },
    {
      "cell_type": "code",
      "source": [
        "!psql -h localhost -p 5432 -Upostgres -dpraxisdb -c \"drop table if exists CarSalesFact_S\"  \n",
        "!psql -h localhost -p 5432 -Upostgres -dpraxisdb -c \" \\\n",
        "create table CarSalesFact_S as ( \\\n",
        "    select csf0.Make, csf0.Type, csf0.Colour, count(txn) Units from \\\n",
        "    (SELECT \\\n",
        "    Txn,\\\n",
        "    array_to_string(array_agg(case when (Dim = 'Make') then DimValue else '' end),'') AS Make,\\\n",
        "    array_to_string(array_agg(case when (Dim = 'Type') then DimValue else '' end),'') AS Type,\\\n",
        "    array_to_string(array_agg(case when (Dim = 'Colour') then DimValue else '' end),'') AS Colour \\\n",
        "    FROM CarSalesFact_N \\\n",
        "    GROUP BY txn \\\n",
        "    ) as csf0 \\\n",
        "    group by \\\n",
        "    csf0.Make, csf0.Type, csf0.Colour \\\n",
        ") \\\n",
        "\"\n",
        "!psql -h localhost -p 5432 -Upostgres -dpraxisdb -c \"select * from CarSalesFact_S\"  "
      ],
      "metadata": {
        "id": "Pc1eg1cMVPcp"
      },
      "execution_count": null,
      "outputs": []
    }
  ]
}