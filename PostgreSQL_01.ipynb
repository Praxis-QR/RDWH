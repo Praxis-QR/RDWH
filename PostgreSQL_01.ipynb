{
  "nbformat": 4,
  "nbformat_minor": 0,
  "metadata": {
    "colab": {
      "provenance": [],
      "include_colab_link": true
    },
    "kernelspec": {
      "name": "python3",
      "display_name": "Python 3"
    },
    "language_info": {
      "name": "python"
    }
  },
  "cells": [
    {
      "cell_type": "markdown",
      "metadata": {
        "id": "view-in-github",
        "colab_type": "text"
      },
      "source": [
        "<a href=\"https://colab.research.google.com/github/Praxis-QR/RDWH/blob/main/PostgreSQL_01.ipynb\" target=\"_parent\"><img src=\"https://colab.research.google.com/assets/colab-badge.svg\" alt=\"Open In Colab\"/></a>"
      ]
    },
    {
      "cell_type": "markdown",
      "source": [
        "![alt text](https://github.com/Praxis-QR/RDWH/raw/main/images/YantraJaalBanner.png)<br>\n",
        "\n",
        "\n",
        "<hr>\n",
        "\n",
        "[Prithwis Mukerjee](http://www.linkedin.com/in/prithwis)<br>"
      ],
      "metadata": {
        "id": "DBzz-qaN2tKu"
      }
    },
    {
      "cell_type": "markdown",
      "source": [
        "#Install"
      ],
      "metadata": {
        "id": "nD-QawLT6kDr"
      }
    },
    {
      "cell_type": "code",
      "source": [
        "# Install postgresql server\n",
        "\n",
        "!apt update > /dev/null\n",
        "!apt install postgresql > /dev/null\n",
        "#!sudo -u postgres psql -V\n",
        "!psql -V\n",
        "!service postgresql start"
      ],
      "metadata": {
        "colab": {
          "base_uri": "https://localhost:8080/"
        },
        "id": "o_RaqE0OOHP3",
        "outputId": "6d2f4de3-c982-4a49-9a8d-e8b04c2bf8d1"
      },
      "execution_count": 1,
      "outputs": [
        {
          "output_type": "stream",
          "name": "stdout",
          "text": [
            "\n",
            "WARNING: apt does not have a stable CLI interface. Use with caution in scripts.\n",
            "\n",
            "\n",
            "WARNING: apt does not have a stable CLI interface. Use with caution in scripts.\n",
            "\n",
            "psql (PostgreSQL) 14.10 (Ubuntu 14.10-0ubuntu0.22.04.1)\n",
            " * Starting PostgreSQL 14 database server\n",
            "   ...done.\n"
          ]
        }
      ]
    },
    {
      "cell_type": "markdown",
      "source": [
        "## Configure"
      ],
      "metadata": {
        "id": "--pn1fPO6ndu"
      }
    },
    {
      "cell_type": "code",
      "source": [
        "# This has created an Ubuntu user 'postgres' AND a Postgres database user 'postgres' both of which are superusers\n",
        "#!cat /etc/passwd\n",
        "# Use these users to create a new database user called 'upraxis' and give it a password 'upass'\n",
        "#!sudo -u postgres createuser --superuser upraxis\n",
        "!sudo -u postgres createuser upraxis\n",
        "!sudo -u postgres psql -U postgres -c \"ALTER USER upraxis PASSWORD 'upass';\"\n",
        "# Change the database superuser 'postgres' to a non-default value 'pass'\n",
        "!sudo -u postgres psql -U postgres -c \"ALTER USER postgres PASSWORD 'pass';\"\n"
      ],
      "metadata": {
        "colab": {
          "base_uri": "https://localhost:8080/"
        },
        "id": "xr5kHaY_U4CZ",
        "outputId": "6cc89a14-6daa-4bda-b57a-441626be002c"
      },
      "execution_count": 2,
      "outputs": [
        {
          "output_type": "stream",
          "name": "stdout",
          "text": [
            "ALTER ROLE\n",
            "ALTER ROLE\n"
          ]
        }
      ]
    },
    {
      "cell_type": "code",
      "source": [
        "# Use ubuntu superuser to create database dbpraxis and set its owner to upraxis\n",
        "!sudo -u postgres createdb -O upraxis dbpraxis"
      ],
      "metadata": {
        "id": "RU1vvY33WMAw"
      },
      "execution_count": 3,
      "outputs": []
    },
    {
      "cell_type": "code",
      "source": [
        "# Create file to store the password. Else will be prompted each time\n",
        "#!echo \"localhost:5432:praxisdb:postgres:pass\" > ~/.pgpass\n",
        "!echo \"localhost:5432:dbpraxis:upraxis:upass\" > ~/.pgpass\n",
        "!chmod 0600 ~/.pgpass\n",
        "!cat ~/.pgpass"
      ],
      "metadata": {
        "colab": {
          "base_uri": "https://localhost:8080/"
        },
        "id": "kFDLMhnTWwuz",
        "outputId": "d5992afa-0688-426a-db29-a96a516c0529"
      },
      "execution_count": 4,
      "outputs": [
        {
          "output_type": "stream",
          "name": "stdout",
          "text": [
            "localhost:5432:dbpraxis:upraxis:upass\n"
          ]
        }
      ]
    },
    {
      "cell_type": "markdown",
      "source": [
        "#Command Line Access"
      ],
      "metadata": {
        "id": "pHTdNzrU6qUE"
      }
    },
    {
      "cell_type": "markdown",
      "source": [
        "## Create Two tables"
      ],
      "metadata": {
        "id": "uo61Cp0oaPHL"
      }
    },
    {
      "cell_type": "code",
      "source": [
        "# Create Two tables using command line interface\n",
        "#\n",
        "!psql -h localhost -p 5432 -Uupraxis -ddbpraxis -c \\\n",
        "'drop table if exists dept;\\\n",
        "create table dept (\\\n",
        "    deptid char(2),\\\n",
        "    deptname varchar(20),\\\n",
        "    managerid char(6),\\\n",
        "    location varchar(10)\\\n",
        "    );'\n",
        "\n",
        "!psql -h localhost -p 5432 -Uupraxis -ddbpraxis -c \\\n",
        "\"drop table if exists empl;\\\n",
        "create table empl \\\n",
        "(empid char(6),\\\n",
        "    lastname varchar(20),\\\n",
        "    firstname varchar(20),\\\n",
        "    jobdesc varchar(10),\\\n",
        "    joindate date,\\\n",
        "    salary int,\\\n",
        "    comm decimal(3,2),\\\n",
        "    deptid char(2)\\\n",
        "    );\\\n",
        "\""
      ],
      "metadata": {
        "colab": {
          "base_uri": "https://localhost:8080/"
        },
        "id": "DsUZ9JlEXIir",
        "outputId": "bf870962-24ed-4195-add8-891f8f449b13"
      },
      "execution_count": 5,
      "outputs": [
        {
          "output_type": "stream",
          "name": "stdout",
          "text": [
            "NOTICE:  table \"dept\" does not exist, skipping\n",
            "CREATE TABLE\n",
            "NOTICE:  table \"empl\" does not exist, skipping\n",
            "CREATE TABLE\n"
          ]
        }
      ]
    },
    {
      "cell_type": "markdown",
      "source": [
        "## Load Data - Insert Option"
      ],
      "metadata": {
        "id": "9_OLx3qk_7qR"
      }
    },
    {
      "cell_type": "code",
      "source": [
        "#!psql -h localhost -p 5432 -Upostgres -dpraxisdb -c \"INSERT INTO Dept (DeptID, DeptName, ManagerID, Location) VALUES \\\n",
        "!psql -h localhost -p 5432 -Uupraxis -ddbpraxis -c \"INSERT INTO Dept (DeptID, DeptName, ManagerID, Location) VALUES \\\n",
        "\t('10', 'Corporate', '299034', 'Calcutta'), \\\n",
        "\t('20', 'Sales', '239456', 'Calcutta'), \\\n",
        "\t('30', 'Accounts', '822134', 'Calcutta'), \\\n",
        "\t('40', 'Production', '349870', 'Bombay');\""
      ],
      "metadata": {
        "colab": {
          "base_uri": "https://localhost:8080/"
        },
        "id": "WhL5hfIF2DMn",
        "outputId": "98337924-01f0-4972-fb5c-424fb9928566"
      },
      "execution_count": 6,
      "outputs": [
        {
          "output_type": "stream",
          "name": "stdout",
          "text": [
            "INSERT 0 4\n"
          ]
        }
      ]
    },
    {
      "cell_type": "code",
      "source": [
        "#!psql -h localhost -p 5432 -Upostgres -dpraxisdb -c \\\n",
        "!psql -h localhost -p 5432 -Uupraxis -ddbpraxis -c \\\n",
        "\"INSERT INTO Empl (EmpID, LastName, FirstName, JobDesc, JoinDate, Salary, Comm, DeptID) \\\n",
        "    VALUES \\\n",
        "\t('742866', 'Bacchan', 'Amitabh', 'Executive', '2003-03-10', 50000, 0.1, '10'), \\\n",
        "\t('349870', 'Mukherjee', 'Rani', 'Manager', '2005-05-04', 25000, 0.06, '40'), \\\n",
        "\t('865477', 'Dikshit', 'Madhuri', 'Clerk', '2002-04-04', 10000, 0.02, '20'), \\\n",
        "\t('239456', 'Khan', 'Shahrukh', 'Manager', '2004-01-03', 30000, 0.07, '20'), \\\n",
        "\t('897889', 'Sehwag', 'Virender', 'Cus_Rep', '2005-01-02', 15000, 0.05, '20'), \\\n",
        "\t('123980', 'Dhoni', 'Mahender', 'Clerk', '2004-10-09', 9000, 0.02, '40'), \\\n",
        "\t('822134', 'Dravid', 'Rahul', 'Sr Manager', '2000-06-04', 40000, 0.08, '30'), \\\n",
        "\t('997445', 'Dalmia', 'Jagmohan', 'Clerk', '2001-07-01', 12000, 0.02, '30'), \\\n",
        "\t('989007', 'Ganguly', 'Sourav', 'Cus_Rep', '2002-01-01', 20000, 0.03, '40'), \\\n",
        "\t('299034', 'Ganesan', 'Rekha', 'Director', '2002-10-10', 60000, 0.11, '10'), \\\n",
        "\t('546223', 'Karthikeyan', 'Narayan', 'Secretary', '2005-12-04', 40000, 0.09, '10'), \\\n",
        "\t('223112', 'Mirza', 'Sania', 'Cus_Rep', '2001-11-19', 25000, 0.04, '30');\""
      ],
      "metadata": {
        "colab": {
          "base_uri": "https://localhost:8080/"
        },
        "id": "kfUDoKC54LZp",
        "outputId": "3f793b62-a9ba-4f9c-fb80-27f3ab490012"
      },
      "execution_count": 7,
      "outputs": [
        {
          "output_type": "stream",
          "name": "stdout",
          "text": [
            "INSERT 0 12\n"
          ]
        }
      ]
    },
    {
      "cell_type": "markdown",
      "source": [
        "## Load Data - Copy Option"
      ],
      "metadata": {
        "id": "5m94A6FmACUd"
      }
    },
    {
      "cell_type": "code",
      "source": [
        "# The CSV files are stored in the author's Google Drive\n",
        "#!gdown https://drive.google.com/uc?id=1rJu1oUgUsShEG9Hh8IG0-55tAisfYBCc\n",
        "#!gdown https://drive.google.com/uc?id=136ZpigRZKG3T-9wEBjD7r6P94y9gCWeU\n",
        "!wget -q -O dept.csv https://raw.githubusercontent.com/Praxis-QR/RDWH/main/data/dept.csv\n",
        "!wget -q -O emp.csv https://raw.githubusercontent.com/Praxis-QR/RDWH/main/data/empl.csv"
      ],
      "metadata": {
        "id": "e2xK7GZAALlI"
      },
      "execution_count": 8,
      "outputs": []
    },
    {
      "cell_type": "code",
      "source": [
        "# Only superuser ('postgres') can use copy command, not even database owner ('upraxis')\n",
        "# 'postgres' password has to be entered manually\n",
        "#\n",
        "!psql -h localhost -p 5432 -Upostgres -ddbpraxis -c \"COPY dept FROM '/content/dept.csv' DELIMITER ',' CSV HEADER;\"\n",
        "!psql -h localhost -p 5432 -Upostgres -ddbpraxis -c \"COPY empl FROM '/content/emp.csv' DELIMITER ',' CSV HEADER;\""
      ],
      "metadata": {
        "id": "tkt8-kUhAgzA",
        "outputId": "0caf47e7-7e79-433d-b76a-0556f893325c",
        "colab": {
          "base_uri": "https://localhost:8080/"
        }
      },
      "execution_count": 9,
      "outputs": [
        {
          "output_type": "stream",
          "name": "stdout",
          "text": [
            "Password for user postgres: \n",
            "COPY 4\n",
            "Password for user postgres: \n",
            "COPY 12\n"
          ]
        }
      ]
    },
    {
      "cell_type": "markdown",
      "source": [
        "## View Data"
      ],
      "metadata": {
        "id": "hZscFeNNB1ja"
      }
    },
    {
      "cell_type": "code",
      "source": [
        "#!psql -h localhost -p 5432 -Upostgres -dpraxisdb -c \"select * from dept;\"\n",
        "!psql -h localhost -p 5432 -Uupraxis -ddbpraxis -c \"select * from dept;\""
      ],
      "metadata": {
        "colab": {
          "base_uri": "https://localhost:8080/"
        },
        "id": "HyBUhbAI2PV1",
        "outputId": "c06eabc0-0c37-4a3b-d978-e13614333e1d"
      },
      "execution_count": 10,
      "outputs": [
        {
          "output_type": "stream",
          "name": "stdout",
          "text": [
            " deptid |  deptname  | managerid | location \n",
            "--------+------------+-----------+----------\n",
            " 10     | Corporate  | 299034    | Calcutta\n",
            " 20     | Sales      | 239456    | Calcutta\n",
            " 30     | Accounts   | 822134    | Calcutta\n",
            " 40     | Production | 349870    | Bombay\n",
            " 10     | Corporate  | 299034    | Calcutta\n",
            " 20     | Sales      | 239456    | Calcutta\n",
            " 30     | Accounts   | 822134    | Calcutta\n",
            " 40     | Production | 349870    | Bombay\n",
            "(8 rows)\n",
            "\n"
          ]
        }
      ]
    },
    {
      "cell_type": "code",
      "source": [
        "#!psql -h localhost -p 5432 -U postgres -d praxisdb -c \"select * from empl;\"\n",
        "!psql -h localhost -p 5432 -U upraxis -d dbpraxis -c \"select * from empl;\""
      ],
      "metadata": {
        "colab": {
          "base_uri": "https://localhost:8080/"
        },
        "id": "byY2iccO4ctF",
        "outputId": "3b965d09-4668-43c6-8f63-adf2b767156b"
      },
      "execution_count": 11,
      "outputs": [
        {
          "output_type": "stream",
          "name": "stdout",
          "text": [
            " empid  |  lastname   | firstname |  jobdesc   |  joindate  | salary | comm | deptid \n",
            "--------+-------------+-----------+------------+------------+--------+------+--------\n",
            " 742866 | Bacchan     | Amitabh   | Executive  | 2003-03-10 |  50000 | 0.10 | 10\n",
            " 349870 | Mukherjee   | Rani      | Manager    | 2005-05-04 |  25000 | 0.06 | 40\n",
            " 865477 | Dikshit     | Madhuri   | Clerk      | 2002-04-04 |  10000 | 0.02 | 20\n",
            " 239456 | Khan        | Shahrukh  | Manager    | 2004-01-03 |  30000 | 0.07 | 20\n",
            " 897889 | Sehwag      | Virender  | Cus_Rep    | 2005-01-02 |  15000 | 0.05 | 20\n",
            " 123980 | Dhoni       | Mahender  | Clerk      | 2004-10-09 |   9000 | 0.02 | 40\n",
            " 822134 | Dravid      | Rahul     | Sr Manager | 2000-06-04 |  40000 | 0.08 | 30\n",
            " 997445 | Dalmia      | Jagmohan  | Clerk      | 2001-07-01 |  12000 | 0.02 | 30\n",
            " 989007 | Ganguly     | Sourav    | Cus_Rep    | 2002-01-01 |  20000 | 0.03 | 40\n",
            " 299034 | Ganesan     | Rekha     | Director   | 2002-10-10 |  60000 | 0.11 | 10\n",
            " 546223 | Karthikeyan | Narayan   | Secretary  | 2005-12-04 |  40000 | 0.09 | 10\n",
            " 223112 | Mirza       | Sania     | Cus_Rep    | 2001-11-19 |  25000 | 0.04 | 30\n",
            " 742866 | Bacchan     | Amitabh   | Executive  | 2003-03-10 |  50000 | 0.10 | 10\n",
            " 349870 | Mukherjee   | Rani      | Manager    | 2005-05-04 |  25000 | 0.06 | 40\n",
            " 865477 | Dikshit     | Madhuri   | Clerk      | 2002-04-04 |  10000 | 0.02 | 20\n",
            " 239456 | Khan        | Shahrukh  | Manager    | 2004-01-03 |  30000 | 0.07 | 20\n",
            " 897889 | Sehwag      | Virender  | Cus_Rep    | 2005-01-02 |  15000 | 0.05 | 20\n",
            " 123980 | Dhoni       | Mahender  | Clerk      | 2004-10-09 |   9000 | 0.02 | 40\n",
            " 822134 | Dravid      | Rahul     | Sr Manager | 2000-06-04 |  40000 | 0.08 | 30\n",
            " 997445 | Dalmia      | Jagmohan  | Clerk      | 2001-07-01 |  12000 | 0.02 | 30\n",
            " 989007 | Ganguly     | Sourav    | Cus_Rep    | 2002-01-01 |  20000 | 0.03 | 40\n",
            " 299034 | Ganesan     | Rekha     | Director   | 2002-10-10 |  60000 | 0.11 | 10\n",
            " 546223 | Karthikeyan | Narayan   | Secretary  | 2005-12-04 |  40000 | 0.09 | 10\n",
            " 223112 | Mirza       | Sania     | Cus_Rep    | 2001-11-19 |  25000 | 0.04 | 30\n",
            "(24 rows)\n",
            "\n"
          ]
        }
      ]
    },
    {
      "cell_type": "code",
      "source": [
        "!psql -h localhost -p 5432 -U upraxis -d dbpraxis -c \"select distinct * from empl, dept where empl.deptid = dept.deptid;\""
      ],
      "metadata": {
        "colab": {
          "base_uri": "https://localhost:8080/"
        },
        "id": "-0J9N3_J4wfa",
        "outputId": "82a0d174-d51b-496a-9c09-73bf4ebd2be2"
      },
      "execution_count": 12,
      "outputs": [
        {
          "output_type": "stream",
          "name": "stdout",
          "text": [
            " empid  |  lastname   | firstname |  jobdesc   |  joindate  | salary | comm | deptid | deptid |  deptname  | managerid | location \n",
            "--------+-------------+-----------+------------+------------+--------+------+--------+--------+------------+-----------+----------\n",
            " 546223 | Karthikeyan | Narayan   | Secretary  | 2005-12-04 |  40000 | 0.09 | 10     | 10     | Corporate  | 299034    | Calcutta\n",
            " 239456 | Khan        | Shahrukh  | Manager    | 2004-01-03 |  30000 | 0.07 | 20     | 20     | Sales      | 239456    | Calcutta\n",
            " 123980 | Dhoni       | Mahender  | Clerk      | 2004-10-09 |   9000 | 0.02 | 40     | 40     | Production | 349870    | Bombay\n",
            " 299034 | Ganesan     | Rekha     | Director   | 2002-10-10 |  60000 | 0.11 | 10     | 10     | Corporate  | 299034    | Calcutta\n",
            " 742866 | Bacchan     | Amitabh   | Executive  | 2003-03-10 |  50000 | 0.10 | 10     | 10     | Corporate  | 299034    | Calcutta\n",
            " 349870 | Mukherjee   | Rani      | Manager    | 2005-05-04 |  25000 | 0.06 | 40     | 40     | Production | 349870    | Bombay\n",
            " 989007 | Ganguly     | Sourav    | Cus_Rep    | 2002-01-01 |  20000 | 0.03 | 40     | 40     | Production | 349870    | Bombay\n",
            " 865477 | Dikshit     | Madhuri   | Clerk      | 2002-04-04 |  10000 | 0.02 | 20     | 20     | Sales      | 239456    | Calcutta\n",
            " 223112 | Mirza       | Sania     | Cus_Rep    | 2001-11-19 |  25000 | 0.04 | 30     | 30     | Accounts   | 822134    | Calcutta\n",
            " 997445 | Dalmia      | Jagmohan  | Clerk      | 2001-07-01 |  12000 | 0.02 | 30     | 30     | Accounts   | 822134    | Calcutta\n",
            " 822134 | Dravid      | Rahul     | Sr Manager | 2000-06-04 |  40000 | 0.08 | 30     | 30     | Accounts   | 822134    | Calcutta\n",
            " 897889 | Sehwag      | Virender  | Cus_Rep    | 2005-01-02 |  15000 | 0.05 | 20     | 20     | Sales      | 239456    | Calcutta\n",
            "(12 rows)\n",
            "\n"
          ]
        }
      ]
    },
    {
      "cell_type": "markdown",
      "source": [
        "#Python Access\n",
        "https://www.tutorialspoint.com/python_data_access/python_postgresql_database_connection.htm"
      ],
      "metadata": {
        "id": "faZEj8_7CeZ8"
      }
    },
    {
      "cell_type": "code",
      "source": [
        "#!pip install psycopg2\n",
        "import psycopg2\n",
        "import pandas as pd"
      ],
      "metadata": {
        "id": "SJrNBQsOChnw"
      },
      "execution_count": 13,
      "outputs": []
    },
    {
      "cell_type": "markdown",
      "source": [
        "## Test Connection"
      ],
      "metadata": {
        "id": "YUCd2Aw_E4KG"
      }
    },
    {
      "cell_type": "code",
      "source": [
        "# Local Colab server\n",
        "\n",
        "conn = psycopg2.connect(database=\"dbpraxis\", user='upraxis', password='upass', host='127.0.0.1', port= '5432')\n",
        "#Creating a cursor object using the cursor() method\n",
        "cursor = conn.cursor()\n",
        "#Executing an MYSQL function using the execute() method\n",
        "cursor.execute(\"select version()\")\n",
        "# Fetch a single row using fetchone() method.\n",
        "data = cursor.fetchone()\n",
        "print(\"Connection established to: \",data)\n",
        "#Closing the connection\n",
        "conn.close()"
      ],
      "metadata": {
        "id": "wcE-8UBnC4zV",
        "outputId": "65280c93-76f4-4f8a-cf4c-b673b802397e",
        "colab": {
          "base_uri": "https://localhost:8080/"
        }
      },
      "execution_count": 14,
      "outputs": [
        {
          "output_type": "stream",
          "name": "stdout",
          "text": [
            "Connection established to:  ('PostgreSQL 14.10 (Ubuntu 14.10-0ubuntu0.22.04.1) on x86_64-pc-linux-gnu, compiled by gcc (Ubuntu 11.4.0-1ubuntu1~22.04) 11.4.0, 64-bit',)\n"
          ]
        }
      ]
    },
    {
      "cell_type": "code",
      "source": [
        "# Remote Postgres Server on AWS\n",
        "\n",
        "#https://stackoverflow.com/questions/54300263/connect-to-aws-rds-postgres-database-with-python\n",
        "\n",
        "# Remote Server\n",
        "db = 'postgres'\n",
        "userid = 'postgres'\n",
        "pw = '----2009----'\n",
        "hosturl = 'database-1.cng2qsnvbfu0.ap-south-1.rds.amazonaws.com'\n",
        "conn = psycopg2.connect(database=db, user=userid, password=pw, host=hosturl, port= '5432')\n",
        "\n",
        "#Creating a cursor object using the cursor() method\n",
        "cursor = conn.cursor()\n",
        "#Executing an MYSQL function using the execute() method\n",
        "cursor.execute(\"select version()\")\n",
        "# Fetch a single row using fetchone() method.\n",
        "data = cursor.fetchone()\n",
        "print(\"Connection established to: \",data)\n",
        "#Closing the connection\n",
        "conn.close()"
      ],
      "metadata": {
        "colab": {
          "base_uri": "https://localhost:8080/"
        },
        "id": "iZj8Xsj8iKrD",
        "outputId": "fdc9b40c-1610-4f6e-fa83-7490542c7416"
      },
      "execution_count": 15,
      "outputs": [
        {
          "output_type": "stream",
          "name": "stdout",
          "text": [
            "Connection established to:  ('PostgreSQL 15.4 on x86_64-pc-linux-gnu, compiled by gcc (GCC) 7.3.1 20180712 (Red Hat 7.3.1-12), 64-bit',)\n"
          ]
        }
      ]
    },
    {
      "cell_type": "markdown",
      "source": [
        "## Local Data Access"
      ],
      "metadata": {
        "id": "QhozDXBBE8_r"
      }
    },
    {
      "cell_type": "code",
      "source": [
        "def runSelect(s,conn):\n",
        "    #Set up connection\n",
        "\n",
        "    #conn = psycopg2.connect(database=\"dbpraxis\", user='upraxis', password='upass', host='127.0.0.1', port= '5432')\n",
        "    #Setting auto commit true\n",
        "    conn.autocommit = True\n",
        "    #Creating a cursor object using the cursor() method\n",
        "    cursor = conn.cursor()\n",
        "    #Retrieving data\n",
        "    cursor.execute(s)\n",
        "    #Fetching all rows from the table\n",
        "    result = cursor.fetchall();\n",
        "    #print(result)\n",
        "    colnames = [desc[0] for desc in cursor.description]\n",
        "    #print(colnames)\n",
        "    resultdf = pd.DataFrame(result)\n",
        "    resultdf.columns = colnames\n",
        "    return resultdf\n"
      ],
      "metadata": {
        "id": "ht2k7-3iggNd"
      },
      "execution_count": 16,
      "outputs": []
    },
    {
      "cell_type": "code",
      "source": [
        "def runCmd(s,conn):\n",
        "    #Create Connection\n",
        "    #conn = psycopg2.connect(database=\"dbpraxis\", user='upraxis', password='upass', host='127.0.0.1', port= '5432')\n",
        "    #Creating a cursor object using the cursor() method\n",
        "    cursor = conn.cursor()\n",
        "    try:\n",
        "        cursor.execute(s)\n",
        "        print('Command executed')\n",
        "        conn.commit()\n",
        "    except:\n",
        "        print('Command failed')\n",
        "    #Closing the connection\n",
        "    #conn.close()"
      ],
      "metadata": {
        "id": "GHBSt3_jkMO7"
      },
      "execution_count": 28,
      "outputs": []
    },
    {
      "cell_type": "code",
      "source": [
        "# Local Connection\n",
        "db = 'dbpraxis'\n",
        "userid = 'upraxis'\n",
        "pw = 'upass'\n",
        "hosturl = '127.0.0.1'\n",
        "l_conn = psycopg2.connect(database=db, user=userid, password=pw, host=hosturl, port= '5432')"
      ],
      "metadata": {
        "id": "Hhg1fqpc8A3p"
      },
      "execution_count": 27,
      "outputs": []
    },
    {
      "cell_type": "code",
      "source": [
        "runSelect('select * from dept',l_conn)"
      ],
      "metadata": {
        "id": "N3NZv0YahSs6",
        "outputId": "a282e28c-b8b8-4edd-c2df-e22a6a0b0455",
        "colab": {
          "base_uri": "https://localhost:8080/",
          "height": 300
        }
      },
      "execution_count": 20,
      "outputs": [
        {
          "output_type": "execute_result",
          "data": {
            "text/plain": [
              "  deptid    deptname managerid  location\n",
              "0     10   Corporate    299034  Calcutta\n",
              "1     20       Sales    239456  Calcutta\n",
              "2     30    Accounts    822134  Calcutta\n",
              "3     40  Production    349870    Bombay\n",
              "4     10   Corporate    299034  Calcutta\n",
              "5     20       Sales    239456  Calcutta\n",
              "6     30    Accounts    822134  Calcutta\n",
              "7     40  Production    349870    Bombay"
            ],
            "text/html": [
              "\n",
              "  <div id=\"df-87590f90-b285-432c-9e91-e41cdbebadcb\" class=\"colab-df-container\">\n",
              "    <div>\n",
              "<style scoped>\n",
              "    .dataframe tbody tr th:only-of-type {\n",
              "        vertical-align: middle;\n",
              "    }\n",
              "\n",
              "    .dataframe tbody tr th {\n",
              "        vertical-align: top;\n",
              "    }\n",
              "\n",
              "    .dataframe thead th {\n",
              "        text-align: right;\n",
              "    }\n",
              "</style>\n",
              "<table border=\"1\" class=\"dataframe\">\n",
              "  <thead>\n",
              "    <tr style=\"text-align: right;\">\n",
              "      <th></th>\n",
              "      <th>deptid</th>\n",
              "      <th>deptname</th>\n",
              "      <th>managerid</th>\n",
              "      <th>location</th>\n",
              "    </tr>\n",
              "  </thead>\n",
              "  <tbody>\n",
              "    <tr>\n",
              "      <th>0</th>\n",
              "      <td>10</td>\n",
              "      <td>Corporate</td>\n",
              "      <td>299034</td>\n",
              "      <td>Calcutta</td>\n",
              "    </tr>\n",
              "    <tr>\n",
              "      <th>1</th>\n",
              "      <td>20</td>\n",
              "      <td>Sales</td>\n",
              "      <td>239456</td>\n",
              "      <td>Calcutta</td>\n",
              "    </tr>\n",
              "    <tr>\n",
              "      <th>2</th>\n",
              "      <td>30</td>\n",
              "      <td>Accounts</td>\n",
              "      <td>822134</td>\n",
              "      <td>Calcutta</td>\n",
              "    </tr>\n",
              "    <tr>\n",
              "      <th>3</th>\n",
              "      <td>40</td>\n",
              "      <td>Production</td>\n",
              "      <td>349870</td>\n",
              "      <td>Bombay</td>\n",
              "    </tr>\n",
              "    <tr>\n",
              "      <th>4</th>\n",
              "      <td>10</td>\n",
              "      <td>Corporate</td>\n",
              "      <td>299034</td>\n",
              "      <td>Calcutta</td>\n",
              "    </tr>\n",
              "    <tr>\n",
              "      <th>5</th>\n",
              "      <td>20</td>\n",
              "      <td>Sales</td>\n",
              "      <td>239456</td>\n",
              "      <td>Calcutta</td>\n",
              "    </tr>\n",
              "    <tr>\n",
              "      <th>6</th>\n",
              "      <td>30</td>\n",
              "      <td>Accounts</td>\n",
              "      <td>822134</td>\n",
              "      <td>Calcutta</td>\n",
              "    </tr>\n",
              "    <tr>\n",
              "      <th>7</th>\n",
              "      <td>40</td>\n",
              "      <td>Production</td>\n",
              "      <td>349870</td>\n",
              "      <td>Bombay</td>\n",
              "    </tr>\n",
              "  </tbody>\n",
              "</table>\n",
              "</div>\n",
              "    <div class=\"colab-df-buttons\">\n",
              "\n",
              "  <div class=\"colab-df-container\">\n",
              "    <button class=\"colab-df-convert\" onclick=\"convertToInteractive('df-87590f90-b285-432c-9e91-e41cdbebadcb')\"\n",
              "            title=\"Convert this dataframe to an interactive table.\"\n",
              "            style=\"display:none;\">\n",
              "\n",
              "  <svg xmlns=\"http://www.w3.org/2000/svg\" height=\"24px\" viewBox=\"0 -960 960 960\">\n",
              "    <path d=\"M120-120v-720h720v720H120Zm60-500h600v-160H180v160Zm220 220h160v-160H400v160Zm0 220h160v-160H400v160ZM180-400h160v-160H180v160Zm440 0h160v-160H620v160ZM180-180h160v-160H180v160Zm440 0h160v-160H620v160Z\"/>\n",
              "  </svg>\n",
              "    </button>\n",
              "\n",
              "  <style>\n",
              "    .colab-df-container {\n",
              "      display:flex;\n",
              "      gap: 12px;\n",
              "    }\n",
              "\n",
              "    .colab-df-convert {\n",
              "      background-color: #E8F0FE;\n",
              "      border: none;\n",
              "      border-radius: 50%;\n",
              "      cursor: pointer;\n",
              "      display: none;\n",
              "      fill: #1967D2;\n",
              "      height: 32px;\n",
              "      padding: 0 0 0 0;\n",
              "      width: 32px;\n",
              "    }\n",
              "\n",
              "    .colab-df-convert:hover {\n",
              "      background-color: #E2EBFA;\n",
              "      box-shadow: 0px 1px 2px rgba(60, 64, 67, 0.3), 0px 1px 3px 1px rgba(60, 64, 67, 0.15);\n",
              "      fill: #174EA6;\n",
              "    }\n",
              "\n",
              "    .colab-df-buttons div {\n",
              "      margin-bottom: 4px;\n",
              "    }\n",
              "\n",
              "    [theme=dark] .colab-df-convert {\n",
              "      background-color: #3B4455;\n",
              "      fill: #D2E3FC;\n",
              "    }\n",
              "\n",
              "    [theme=dark] .colab-df-convert:hover {\n",
              "      background-color: #434B5C;\n",
              "      box-shadow: 0px 1px 3px 1px rgba(0, 0, 0, 0.15);\n",
              "      filter: drop-shadow(0px 1px 2px rgba(0, 0, 0, 0.3));\n",
              "      fill: #FFFFFF;\n",
              "    }\n",
              "  </style>\n",
              "\n",
              "    <script>\n",
              "      const buttonEl =\n",
              "        document.querySelector('#df-87590f90-b285-432c-9e91-e41cdbebadcb button.colab-df-convert');\n",
              "      buttonEl.style.display =\n",
              "        google.colab.kernel.accessAllowed ? 'block' : 'none';\n",
              "\n",
              "      async function convertToInteractive(key) {\n",
              "        const element = document.querySelector('#df-87590f90-b285-432c-9e91-e41cdbebadcb');\n",
              "        const dataTable =\n",
              "          await google.colab.kernel.invokeFunction('convertToInteractive',\n",
              "                                                    [key], {});\n",
              "        if (!dataTable) return;\n",
              "\n",
              "        const docLinkHtml = 'Like what you see? Visit the ' +\n",
              "          '<a target=\"_blank\" href=https://colab.research.google.com/notebooks/data_table.ipynb>data table notebook</a>'\n",
              "          + ' to learn more about interactive tables.';\n",
              "        element.innerHTML = '';\n",
              "        dataTable['output_type'] = 'display_data';\n",
              "        await google.colab.output.renderOutput(dataTable, element);\n",
              "        const docLink = document.createElement('div');\n",
              "        docLink.innerHTML = docLinkHtml;\n",
              "        element.appendChild(docLink);\n",
              "      }\n",
              "    </script>\n",
              "  </div>\n",
              "\n",
              "\n",
              "<div id=\"df-ceceb875-130b-4c06-8471-340bed318980\">\n",
              "  <button class=\"colab-df-quickchart\" onclick=\"quickchart('df-ceceb875-130b-4c06-8471-340bed318980')\"\n",
              "            title=\"Suggest charts\"\n",
              "            style=\"display:none;\">\n",
              "\n",
              "<svg xmlns=\"http://www.w3.org/2000/svg\" height=\"24px\"viewBox=\"0 0 24 24\"\n",
              "     width=\"24px\">\n",
              "    <g>\n",
              "        <path d=\"M19 3H5c-1.1 0-2 .9-2 2v14c0 1.1.9 2 2 2h14c1.1 0 2-.9 2-2V5c0-1.1-.9-2-2-2zM9 17H7v-7h2v7zm4 0h-2V7h2v10zm4 0h-2v-4h2v4z\"/>\n",
              "    </g>\n",
              "</svg>\n",
              "  </button>\n",
              "\n",
              "<style>\n",
              "  .colab-df-quickchart {\n",
              "      --bg-color: #E8F0FE;\n",
              "      --fill-color: #1967D2;\n",
              "      --hover-bg-color: #E2EBFA;\n",
              "      --hover-fill-color: #174EA6;\n",
              "      --disabled-fill-color: #AAA;\n",
              "      --disabled-bg-color: #DDD;\n",
              "  }\n",
              "\n",
              "  [theme=dark] .colab-df-quickchart {\n",
              "      --bg-color: #3B4455;\n",
              "      --fill-color: #D2E3FC;\n",
              "      --hover-bg-color: #434B5C;\n",
              "      --hover-fill-color: #FFFFFF;\n",
              "      --disabled-bg-color: #3B4455;\n",
              "      --disabled-fill-color: #666;\n",
              "  }\n",
              "\n",
              "  .colab-df-quickchart {\n",
              "    background-color: var(--bg-color);\n",
              "    border: none;\n",
              "    border-radius: 50%;\n",
              "    cursor: pointer;\n",
              "    display: none;\n",
              "    fill: var(--fill-color);\n",
              "    height: 32px;\n",
              "    padding: 0;\n",
              "    width: 32px;\n",
              "  }\n",
              "\n",
              "  .colab-df-quickchart:hover {\n",
              "    background-color: var(--hover-bg-color);\n",
              "    box-shadow: 0 1px 2px rgba(60, 64, 67, 0.3), 0 1px 3px 1px rgba(60, 64, 67, 0.15);\n",
              "    fill: var(--button-hover-fill-color);\n",
              "  }\n",
              "\n",
              "  .colab-df-quickchart-complete:disabled,\n",
              "  .colab-df-quickchart-complete:disabled:hover {\n",
              "    background-color: var(--disabled-bg-color);\n",
              "    fill: var(--disabled-fill-color);\n",
              "    box-shadow: none;\n",
              "  }\n",
              "\n",
              "  .colab-df-spinner {\n",
              "    border: 2px solid var(--fill-color);\n",
              "    border-color: transparent;\n",
              "    border-bottom-color: var(--fill-color);\n",
              "    animation:\n",
              "      spin 1s steps(1) infinite;\n",
              "  }\n",
              "\n",
              "  @keyframes spin {\n",
              "    0% {\n",
              "      border-color: transparent;\n",
              "      border-bottom-color: var(--fill-color);\n",
              "      border-left-color: var(--fill-color);\n",
              "    }\n",
              "    20% {\n",
              "      border-color: transparent;\n",
              "      border-left-color: var(--fill-color);\n",
              "      border-top-color: var(--fill-color);\n",
              "    }\n",
              "    30% {\n",
              "      border-color: transparent;\n",
              "      border-left-color: var(--fill-color);\n",
              "      border-top-color: var(--fill-color);\n",
              "      border-right-color: var(--fill-color);\n",
              "    }\n",
              "    40% {\n",
              "      border-color: transparent;\n",
              "      border-right-color: var(--fill-color);\n",
              "      border-top-color: var(--fill-color);\n",
              "    }\n",
              "    60% {\n",
              "      border-color: transparent;\n",
              "      border-right-color: var(--fill-color);\n",
              "    }\n",
              "    80% {\n",
              "      border-color: transparent;\n",
              "      border-right-color: var(--fill-color);\n",
              "      border-bottom-color: var(--fill-color);\n",
              "    }\n",
              "    90% {\n",
              "      border-color: transparent;\n",
              "      border-bottom-color: var(--fill-color);\n",
              "    }\n",
              "  }\n",
              "</style>\n",
              "\n",
              "  <script>\n",
              "    async function quickchart(key) {\n",
              "      const quickchartButtonEl =\n",
              "        document.querySelector('#' + key + ' button');\n",
              "      quickchartButtonEl.disabled = true;  // To prevent multiple clicks.\n",
              "      quickchartButtonEl.classList.add('colab-df-spinner');\n",
              "      try {\n",
              "        const charts = await google.colab.kernel.invokeFunction(\n",
              "            'suggestCharts', [key], {});\n",
              "      } catch (error) {\n",
              "        console.error('Error during call to suggestCharts:', error);\n",
              "      }\n",
              "      quickchartButtonEl.classList.remove('colab-df-spinner');\n",
              "      quickchartButtonEl.classList.add('colab-df-quickchart-complete');\n",
              "    }\n",
              "    (() => {\n",
              "      let quickchartButtonEl =\n",
              "        document.querySelector('#df-ceceb875-130b-4c06-8471-340bed318980 button');\n",
              "      quickchartButtonEl.style.display =\n",
              "        google.colab.kernel.accessAllowed ? 'block' : 'none';\n",
              "    })();\n",
              "  </script>\n",
              "</div>\n",
              "    </div>\n",
              "  </div>\n"
            ]
          },
          "metadata": {},
          "execution_count": 20
        }
      ]
    },
    {
      "cell_type": "markdown",
      "source": [
        "### Non SELECT statements"
      ],
      "metadata": {
        "id": "-W6rURfpI43s"
      }
    },
    {
      "cell_type": "code",
      "source": [
        "runCmd('DROP TABLE IF EXISTS empl2',l_conn)\n",
        "ddl = \\\n",
        "\"create table empl2 \\\n",
        "(empid char(6),\\\n",
        "    lastname varchar(20),\\\n",
        "    firstname varchar(20),\\\n",
        "    jobdesc varchar(10),\\\n",
        "    joindate date,\\\n",
        "    salary int,\\\n",
        "    comm decimal(3,2),\\\n",
        "    deptid char(2));\\\n",
        "\"\n",
        "runCmd(ddl,l_conn)"
      ],
      "metadata": {
        "id": "2gwgwPQGlL6p",
        "outputId": "9eb7db0f-fa7e-45c6-97ad-9605c4b460c4",
        "colab": {
          "base_uri": "https://localhost:8080/"
        }
      },
      "execution_count": 29,
      "outputs": [
        {
          "output_type": "stream",
          "name": "stdout",
          "text": [
            "Command executed\n",
            "Command executed\n"
          ]
        }
      ]
    },
    {
      "cell_type": "code",
      "source": [
        "sql = \\\n",
        "\"INSERT INTO Empl2 (EmpID, LastName, FirstName, JobDesc, JoinDate, Salary, Comm, DeptID) \\\n",
        "    VALUES \\\n",
        "\t('742866', 'Bacchan2', 'Amitabh', 'Executive', '2003-03-10', 50000, 0.1, '10'), \\\n",
        "\t('349870', 'Mukherjee2', 'Rani', 'Manager', '2005-05-04', 25000, 0.06, '40'), \\\n",
        "\t('865477', 'Dikshit2', 'Madhuri', 'Clerk', '2002-04-04', 10000, 0.02, '20'), \\\n",
        "\t('239456', 'Khan2', 'Shahrukh', 'Manager', '2004-01-03', 30000, 0.07, '20'), \\\n",
        "\t('897889', 'Sehwag2', 'Virender', 'Cus_Rep', '2005-01-02', 15000, 0.05, '20'), \\\n",
        "\t('123980', 'Dhoni2', 'Mahender', 'Clerk', '2004-10-09', 9000, 0.02, '40'), \\\n",
        "\t('822134', 'Dravid2', 'Rahul', 'Sr Manager', '2000-06-04', 40000, 0.08, '30'), \\\n",
        "\t('997445', 'Dalmia2', 'Jagmohan', 'Clerk', '2001-07-01', 12000, 0.02, '30'), \\\n",
        "\t('989007', 'Ganguly2', 'Sourav', 'Cus_Rep', '2002-01-01', 20000, 0.03, '40'), \\\n",
        "\t('299034', 'Ganesan2', 'Rekha', 'Director', '2002-10-10', 60000, 0.11, '10'), \\\n",
        "\t('546223', 'Karthikeyan2', 'Narayan', 'Secretary', '2005-12-04', 40000, 0.09, '10'), \\\n",
        "\t('223112', 'Mirza2', 'Sania', 'Cus_Rep', '2001-11-19', 25000, 0.04, '30');\"\n",
        "\n",
        "runCmd(sql,l_conn)"
      ],
      "metadata": {
        "id": "XdoJN6p-lrAz",
        "outputId": "963b5d1a-ee1d-4ea5-9c4d-831540872796",
        "colab": {
          "base_uri": "https://localhost:8080/"
        }
      },
      "execution_count": 31,
      "outputs": [
        {
          "output_type": "stream",
          "name": "stdout",
          "text": [
            "Command executed\n"
          ]
        }
      ]
    },
    {
      "cell_type": "code",
      "source": [
        "runSelect('select * from empl2',l_conn)"
      ],
      "metadata": {
        "id": "Otiv4rjSl5Tg",
        "outputId": "83aa576d-8b8a-4a82-d8cb-1daf1483b40e",
        "colab": {
          "base_uri": "https://localhost:8080/",
          "height": 426
        }
      },
      "execution_count": 32,
      "outputs": [
        {
          "output_type": "execute_result",
          "data": {
            "text/plain": [
              "     empid      lastname firstname     jobdesc    joindate  salary  comm  \\\n",
              "0   742866      Bacchan2   Amitabh   Executive  2003-03-10   50000  0.10   \n",
              "1   349870    Mukherjee2      Rani     Manager  2005-05-04   25000  0.06   \n",
              "2   865477      Dikshit2   Madhuri       Clerk  2002-04-04   10000  0.02   \n",
              "3   239456         Khan2  Shahrukh     Manager  2004-01-03   30000  0.07   \n",
              "4   897889       Sehwag2  Virender     Cus_Rep  2005-01-02   15000  0.05   \n",
              "5   123980        Dhoni2  Mahender       Clerk  2004-10-09    9000  0.02   \n",
              "6   822134       Dravid2     Rahul  Sr Manager  2000-06-04   40000  0.08   \n",
              "7   997445       Dalmia2  Jagmohan       Clerk  2001-07-01   12000  0.02   \n",
              "8   989007      Ganguly2    Sourav     Cus_Rep  2002-01-01   20000  0.03   \n",
              "9   299034      Ganesan2     Rekha    Director  2002-10-10   60000  0.11   \n",
              "10  546223  Karthikeyan2   Narayan   Secretary  2005-12-04   40000  0.09   \n",
              "11  223112        Mirza2     Sania     Cus_Rep  2001-11-19   25000  0.04   \n",
              "\n",
              "   deptid  \n",
              "0      10  \n",
              "1      40  \n",
              "2      20  \n",
              "3      20  \n",
              "4      20  \n",
              "5      40  \n",
              "6      30  \n",
              "7      30  \n",
              "8      40  \n",
              "9      10  \n",
              "10     10  \n",
              "11     30  "
            ],
            "text/html": [
              "\n",
              "  <div id=\"df-7661f447-01ae-4801-9c11-90268aae3bc1\" class=\"colab-df-container\">\n",
              "    <div>\n",
              "<style scoped>\n",
              "    .dataframe tbody tr th:only-of-type {\n",
              "        vertical-align: middle;\n",
              "    }\n",
              "\n",
              "    .dataframe tbody tr th {\n",
              "        vertical-align: top;\n",
              "    }\n",
              "\n",
              "    .dataframe thead th {\n",
              "        text-align: right;\n",
              "    }\n",
              "</style>\n",
              "<table border=\"1\" class=\"dataframe\">\n",
              "  <thead>\n",
              "    <tr style=\"text-align: right;\">\n",
              "      <th></th>\n",
              "      <th>empid</th>\n",
              "      <th>lastname</th>\n",
              "      <th>firstname</th>\n",
              "      <th>jobdesc</th>\n",
              "      <th>joindate</th>\n",
              "      <th>salary</th>\n",
              "      <th>comm</th>\n",
              "      <th>deptid</th>\n",
              "    </tr>\n",
              "  </thead>\n",
              "  <tbody>\n",
              "    <tr>\n",
              "      <th>0</th>\n",
              "      <td>742866</td>\n",
              "      <td>Bacchan2</td>\n",
              "      <td>Amitabh</td>\n",
              "      <td>Executive</td>\n",
              "      <td>2003-03-10</td>\n",
              "      <td>50000</td>\n",
              "      <td>0.10</td>\n",
              "      <td>10</td>\n",
              "    </tr>\n",
              "    <tr>\n",
              "      <th>1</th>\n",
              "      <td>349870</td>\n",
              "      <td>Mukherjee2</td>\n",
              "      <td>Rani</td>\n",
              "      <td>Manager</td>\n",
              "      <td>2005-05-04</td>\n",
              "      <td>25000</td>\n",
              "      <td>0.06</td>\n",
              "      <td>40</td>\n",
              "    </tr>\n",
              "    <tr>\n",
              "      <th>2</th>\n",
              "      <td>865477</td>\n",
              "      <td>Dikshit2</td>\n",
              "      <td>Madhuri</td>\n",
              "      <td>Clerk</td>\n",
              "      <td>2002-04-04</td>\n",
              "      <td>10000</td>\n",
              "      <td>0.02</td>\n",
              "      <td>20</td>\n",
              "    </tr>\n",
              "    <tr>\n",
              "      <th>3</th>\n",
              "      <td>239456</td>\n",
              "      <td>Khan2</td>\n",
              "      <td>Shahrukh</td>\n",
              "      <td>Manager</td>\n",
              "      <td>2004-01-03</td>\n",
              "      <td>30000</td>\n",
              "      <td>0.07</td>\n",
              "      <td>20</td>\n",
              "    </tr>\n",
              "    <tr>\n",
              "      <th>4</th>\n",
              "      <td>897889</td>\n",
              "      <td>Sehwag2</td>\n",
              "      <td>Virender</td>\n",
              "      <td>Cus_Rep</td>\n",
              "      <td>2005-01-02</td>\n",
              "      <td>15000</td>\n",
              "      <td>0.05</td>\n",
              "      <td>20</td>\n",
              "    </tr>\n",
              "    <tr>\n",
              "      <th>5</th>\n",
              "      <td>123980</td>\n",
              "      <td>Dhoni2</td>\n",
              "      <td>Mahender</td>\n",
              "      <td>Clerk</td>\n",
              "      <td>2004-10-09</td>\n",
              "      <td>9000</td>\n",
              "      <td>0.02</td>\n",
              "      <td>40</td>\n",
              "    </tr>\n",
              "    <tr>\n",
              "      <th>6</th>\n",
              "      <td>822134</td>\n",
              "      <td>Dravid2</td>\n",
              "      <td>Rahul</td>\n",
              "      <td>Sr Manager</td>\n",
              "      <td>2000-06-04</td>\n",
              "      <td>40000</td>\n",
              "      <td>0.08</td>\n",
              "      <td>30</td>\n",
              "    </tr>\n",
              "    <tr>\n",
              "      <th>7</th>\n",
              "      <td>997445</td>\n",
              "      <td>Dalmia2</td>\n",
              "      <td>Jagmohan</td>\n",
              "      <td>Clerk</td>\n",
              "      <td>2001-07-01</td>\n",
              "      <td>12000</td>\n",
              "      <td>0.02</td>\n",
              "      <td>30</td>\n",
              "    </tr>\n",
              "    <tr>\n",
              "      <th>8</th>\n",
              "      <td>989007</td>\n",
              "      <td>Ganguly2</td>\n",
              "      <td>Sourav</td>\n",
              "      <td>Cus_Rep</td>\n",
              "      <td>2002-01-01</td>\n",
              "      <td>20000</td>\n",
              "      <td>0.03</td>\n",
              "      <td>40</td>\n",
              "    </tr>\n",
              "    <tr>\n",
              "      <th>9</th>\n",
              "      <td>299034</td>\n",
              "      <td>Ganesan2</td>\n",
              "      <td>Rekha</td>\n",
              "      <td>Director</td>\n",
              "      <td>2002-10-10</td>\n",
              "      <td>60000</td>\n",
              "      <td>0.11</td>\n",
              "      <td>10</td>\n",
              "    </tr>\n",
              "    <tr>\n",
              "      <th>10</th>\n",
              "      <td>546223</td>\n",
              "      <td>Karthikeyan2</td>\n",
              "      <td>Narayan</td>\n",
              "      <td>Secretary</td>\n",
              "      <td>2005-12-04</td>\n",
              "      <td>40000</td>\n",
              "      <td>0.09</td>\n",
              "      <td>10</td>\n",
              "    </tr>\n",
              "    <tr>\n",
              "      <th>11</th>\n",
              "      <td>223112</td>\n",
              "      <td>Mirza2</td>\n",
              "      <td>Sania</td>\n",
              "      <td>Cus_Rep</td>\n",
              "      <td>2001-11-19</td>\n",
              "      <td>25000</td>\n",
              "      <td>0.04</td>\n",
              "      <td>30</td>\n",
              "    </tr>\n",
              "  </tbody>\n",
              "</table>\n",
              "</div>\n",
              "    <div class=\"colab-df-buttons\">\n",
              "\n",
              "  <div class=\"colab-df-container\">\n",
              "    <button class=\"colab-df-convert\" onclick=\"convertToInteractive('df-7661f447-01ae-4801-9c11-90268aae3bc1')\"\n",
              "            title=\"Convert this dataframe to an interactive table.\"\n",
              "            style=\"display:none;\">\n",
              "\n",
              "  <svg xmlns=\"http://www.w3.org/2000/svg\" height=\"24px\" viewBox=\"0 -960 960 960\">\n",
              "    <path d=\"M120-120v-720h720v720H120Zm60-500h600v-160H180v160Zm220 220h160v-160H400v160Zm0 220h160v-160H400v160ZM180-400h160v-160H180v160Zm440 0h160v-160H620v160ZM180-180h160v-160H180v160Zm440 0h160v-160H620v160Z\"/>\n",
              "  </svg>\n",
              "    </button>\n",
              "\n",
              "  <style>\n",
              "    .colab-df-container {\n",
              "      display:flex;\n",
              "      gap: 12px;\n",
              "    }\n",
              "\n",
              "    .colab-df-convert {\n",
              "      background-color: #E8F0FE;\n",
              "      border: none;\n",
              "      border-radius: 50%;\n",
              "      cursor: pointer;\n",
              "      display: none;\n",
              "      fill: #1967D2;\n",
              "      height: 32px;\n",
              "      padding: 0 0 0 0;\n",
              "      width: 32px;\n",
              "    }\n",
              "\n",
              "    .colab-df-convert:hover {\n",
              "      background-color: #E2EBFA;\n",
              "      box-shadow: 0px 1px 2px rgba(60, 64, 67, 0.3), 0px 1px 3px 1px rgba(60, 64, 67, 0.15);\n",
              "      fill: #174EA6;\n",
              "    }\n",
              "\n",
              "    .colab-df-buttons div {\n",
              "      margin-bottom: 4px;\n",
              "    }\n",
              "\n",
              "    [theme=dark] .colab-df-convert {\n",
              "      background-color: #3B4455;\n",
              "      fill: #D2E3FC;\n",
              "    }\n",
              "\n",
              "    [theme=dark] .colab-df-convert:hover {\n",
              "      background-color: #434B5C;\n",
              "      box-shadow: 0px 1px 3px 1px rgba(0, 0, 0, 0.15);\n",
              "      filter: drop-shadow(0px 1px 2px rgba(0, 0, 0, 0.3));\n",
              "      fill: #FFFFFF;\n",
              "    }\n",
              "  </style>\n",
              "\n",
              "    <script>\n",
              "      const buttonEl =\n",
              "        document.querySelector('#df-7661f447-01ae-4801-9c11-90268aae3bc1 button.colab-df-convert');\n",
              "      buttonEl.style.display =\n",
              "        google.colab.kernel.accessAllowed ? 'block' : 'none';\n",
              "\n",
              "      async function convertToInteractive(key) {\n",
              "        const element = document.querySelector('#df-7661f447-01ae-4801-9c11-90268aae3bc1');\n",
              "        const dataTable =\n",
              "          await google.colab.kernel.invokeFunction('convertToInteractive',\n",
              "                                                    [key], {});\n",
              "        if (!dataTable) return;\n",
              "\n",
              "        const docLinkHtml = 'Like what you see? Visit the ' +\n",
              "          '<a target=\"_blank\" href=https://colab.research.google.com/notebooks/data_table.ipynb>data table notebook</a>'\n",
              "          + ' to learn more about interactive tables.';\n",
              "        element.innerHTML = '';\n",
              "        dataTable['output_type'] = 'display_data';\n",
              "        await google.colab.output.renderOutput(dataTable, element);\n",
              "        const docLink = document.createElement('div');\n",
              "        docLink.innerHTML = docLinkHtml;\n",
              "        element.appendChild(docLink);\n",
              "      }\n",
              "    </script>\n",
              "  </div>\n",
              "\n",
              "\n",
              "<div id=\"df-37235eb0-2514-4a91-bef2-df884b89a09b\">\n",
              "  <button class=\"colab-df-quickchart\" onclick=\"quickchart('df-37235eb0-2514-4a91-bef2-df884b89a09b')\"\n",
              "            title=\"Suggest charts\"\n",
              "            style=\"display:none;\">\n",
              "\n",
              "<svg xmlns=\"http://www.w3.org/2000/svg\" height=\"24px\"viewBox=\"0 0 24 24\"\n",
              "     width=\"24px\">\n",
              "    <g>\n",
              "        <path d=\"M19 3H5c-1.1 0-2 .9-2 2v14c0 1.1.9 2 2 2h14c1.1 0 2-.9 2-2V5c0-1.1-.9-2-2-2zM9 17H7v-7h2v7zm4 0h-2V7h2v10zm4 0h-2v-4h2v4z\"/>\n",
              "    </g>\n",
              "</svg>\n",
              "  </button>\n",
              "\n",
              "<style>\n",
              "  .colab-df-quickchart {\n",
              "      --bg-color: #E8F0FE;\n",
              "      --fill-color: #1967D2;\n",
              "      --hover-bg-color: #E2EBFA;\n",
              "      --hover-fill-color: #174EA6;\n",
              "      --disabled-fill-color: #AAA;\n",
              "      --disabled-bg-color: #DDD;\n",
              "  }\n",
              "\n",
              "  [theme=dark] .colab-df-quickchart {\n",
              "      --bg-color: #3B4455;\n",
              "      --fill-color: #D2E3FC;\n",
              "      --hover-bg-color: #434B5C;\n",
              "      --hover-fill-color: #FFFFFF;\n",
              "      --disabled-bg-color: #3B4455;\n",
              "      --disabled-fill-color: #666;\n",
              "  }\n",
              "\n",
              "  .colab-df-quickchart {\n",
              "    background-color: var(--bg-color);\n",
              "    border: none;\n",
              "    border-radius: 50%;\n",
              "    cursor: pointer;\n",
              "    display: none;\n",
              "    fill: var(--fill-color);\n",
              "    height: 32px;\n",
              "    padding: 0;\n",
              "    width: 32px;\n",
              "  }\n",
              "\n",
              "  .colab-df-quickchart:hover {\n",
              "    background-color: var(--hover-bg-color);\n",
              "    box-shadow: 0 1px 2px rgba(60, 64, 67, 0.3), 0 1px 3px 1px rgba(60, 64, 67, 0.15);\n",
              "    fill: var(--button-hover-fill-color);\n",
              "  }\n",
              "\n",
              "  .colab-df-quickchart-complete:disabled,\n",
              "  .colab-df-quickchart-complete:disabled:hover {\n",
              "    background-color: var(--disabled-bg-color);\n",
              "    fill: var(--disabled-fill-color);\n",
              "    box-shadow: none;\n",
              "  }\n",
              "\n",
              "  .colab-df-spinner {\n",
              "    border: 2px solid var(--fill-color);\n",
              "    border-color: transparent;\n",
              "    border-bottom-color: var(--fill-color);\n",
              "    animation:\n",
              "      spin 1s steps(1) infinite;\n",
              "  }\n",
              "\n",
              "  @keyframes spin {\n",
              "    0% {\n",
              "      border-color: transparent;\n",
              "      border-bottom-color: var(--fill-color);\n",
              "      border-left-color: var(--fill-color);\n",
              "    }\n",
              "    20% {\n",
              "      border-color: transparent;\n",
              "      border-left-color: var(--fill-color);\n",
              "      border-top-color: var(--fill-color);\n",
              "    }\n",
              "    30% {\n",
              "      border-color: transparent;\n",
              "      border-left-color: var(--fill-color);\n",
              "      border-top-color: var(--fill-color);\n",
              "      border-right-color: var(--fill-color);\n",
              "    }\n",
              "    40% {\n",
              "      border-color: transparent;\n",
              "      border-right-color: var(--fill-color);\n",
              "      border-top-color: var(--fill-color);\n",
              "    }\n",
              "    60% {\n",
              "      border-color: transparent;\n",
              "      border-right-color: var(--fill-color);\n",
              "    }\n",
              "    80% {\n",
              "      border-color: transparent;\n",
              "      border-right-color: var(--fill-color);\n",
              "      border-bottom-color: var(--fill-color);\n",
              "    }\n",
              "    90% {\n",
              "      border-color: transparent;\n",
              "      border-bottom-color: var(--fill-color);\n",
              "    }\n",
              "  }\n",
              "</style>\n",
              "\n",
              "  <script>\n",
              "    async function quickchart(key) {\n",
              "      const quickchartButtonEl =\n",
              "        document.querySelector('#' + key + ' button');\n",
              "      quickchartButtonEl.disabled = true;  // To prevent multiple clicks.\n",
              "      quickchartButtonEl.classList.add('colab-df-spinner');\n",
              "      try {\n",
              "        const charts = await google.colab.kernel.invokeFunction(\n",
              "            'suggestCharts', [key], {});\n",
              "      } catch (error) {\n",
              "        console.error('Error during call to suggestCharts:', error);\n",
              "      }\n",
              "      quickchartButtonEl.classList.remove('colab-df-spinner');\n",
              "      quickchartButtonEl.classList.add('colab-df-quickchart-complete');\n",
              "    }\n",
              "    (() => {\n",
              "      let quickchartButtonEl =\n",
              "        document.querySelector('#df-37235eb0-2514-4a91-bef2-df884b89a09b button');\n",
              "      quickchartButtonEl.style.display =\n",
              "        google.colab.kernel.accessAllowed ? 'block' : 'none';\n",
              "    })();\n",
              "  </script>\n",
              "</div>\n",
              "    </div>\n",
              "  </div>\n"
            ]
          },
          "metadata": {},
          "execution_count": 32
        }
      ]
    },
    {
      "cell_type": "markdown",
      "source": [
        "## Remote Access"
      ],
      "metadata": {
        "id": "iReb-Ged-Hpi"
      }
    },
    {
      "cell_type": "code",
      "source": [
        "# Remote Server\n",
        "db = 'postgres'\n",
        "userid = 'postgres'\n",
        "pw = '----2009----'\n",
        "hosturl = 'database-1.cng2qsnvbfu0.ap-south-1.rds.amazonaws.com'\n",
        "r_conn = psycopg2.connect(database=db, user=userid, password=pw, host=hosturl, port= '5432')"
      ],
      "metadata": {
        "id": "PZLXJk8j-SLl"
      },
      "execution_count": 33,
      "outputs": []
    },
    {
      "cell_type": "code",
      "source": [
        "runCmd('DROP TABLE IF EXISTS empl2',r_conn)\n",
        "#\n",
        "ddl = \\\n",
        "\"create table empl2 \\\n",
        "(empid char(6),\\\n",
        "    lastname varchar(20),\\\n",
        "    firstname varchar(20),\\\n",
        "    jobdesc varchar(10),\\\n",
        "    joindate date,\\\n",
        "    salary int,\\\n",
        "    comm decimal(3,2),\\\n",
        "    deptid char(2));\\\n",
        "\"\n",
        "runCmd(ddl,r_conn)"
      ],
      "metadata": {
        "colab": {
          "base_uri": "https://localhost:8080/"
        },
        "id": "gRFR5_KT-eYu",
        "outputId": "0b9763b4-7e08-4444-fda7-b31cb753f59a"
      },
      "execution_count": 34,
      "outputs": [
        {
          "output_type": "stream",
          "name": "stdout",
          "text": [
            "Command executed\n",
            "Command executed\n"
          ]
        }
      ]
    },
    {
      "cell_type": "code",
      "source": [
        "sql = \\\n",
        "\"INSERT INTO Empl2 (EmpID, LastName, FirstName, JobDesc, JoinDate, Salary, Comm, DeptID) \\\n",
        "    VALUES \\\n",
        "\t('742866', 'Bacchan2', 'Amitabh', 'Executive', '2003-03-10', 50000, 0.1, '10'), \\\n",
        "\t('349870', 'Mukherjee2', 'Rani', 'Manager', '2005-05-04', 25000, 0.06, '40'), \\\n",
        "\t('865477', 'Dikshit2', 'Madhuri', 'Clerk', '2002-04-04', 10000, 0.02, '20'), \\\n",
        "\t('239456', 'Khan2', 'Shahrukh', 'Manager', '2004-01-03', 30000, 0.07, '20'), \\\n",
        "\t('897889', 'Sehwag2', 'Virender', 'Cus_Rep', '2005-01-02', 15000, 0.05, '20'), \\\n",
        "\t('123980', 'Dhoni2', 'Mahender', 'Clerk', '2004-10-09', 9000, 0.02, '40'), \\\n",
        "\t('822134', 'Dravid2', 'Rahul', 'Sr Manager', '2000-06-04', 40000, 0.08, '30'), \\\n",
        "\t('997445', 'Dalmia2', 'Jagmohan', 'Clerk', '2001-07-01', 12000, 0.02, '30'), \\\n",
        "\t('989007', 'Ganguly2', 'Sourav', 'Cus_Rep', '2002-01-01', 20000, 0.03, '40'), \\\n",
        "\t('299034', 'Ganesan2', 'Rekha', 'Director', '2002-10-10', 60000, 0.11, '10'), \\\n",
        "\t('546223', 'Karthikeyan2', 'Narayan', 'Secretary', '2005-12-04', 40000, 0.09, '10'), \\\n",
        "\t('223112', 'Mirza2', 'Sania', 'Cus_Rep', '2001-11-19', 25000, 0.04, '30');\"\n",
        "\n",
        "runCmd(sql,r_conn)"
      ],
      "metadata": {
        "colab": {
          "base_uri": "https://localhost:8080/"
        },
        "id": "DFP7Nj0M-wH8",
        "outputId": "7a0a399c-1ccc-4901-808c-24bf24b74994"
      },
      "execution_count": 35,
      "outputs": [
        {
          "output_type": "stream",
          "name": "stdout",
          "text": [
            "Command executed\n"
          ]
        }
      ]
    },
    {
      "cell_type": "code",
      "source": [
        "runSelect('select * from empl2',r_conn)"
      ],
      "metadata": {
        "colab": {
          "base_uri": "https://localhost:8080/",
          "height": 426
        },
        "id": "AAoFL4bu-558",
        "outputId": "92e7d16d-bfbf-402b-b3e9-483ecfda749a"
      },
      "execution_count": 36,
      "outputs": [
        {
          "output_type": "execute_result",
          "data": {
            "text/plain": [
              "     empid      lastname firstname     jobdesc    joindate  salary  comm  \\\n",
              "0   742866      Bacchan2   Amitabh   Executive  2003-03-10   50000  0.10   \n",
              "1   349870    Mukherjee2      Rani     Manager  2005-05-04   25000  0.06   \n",
              "2   865477      Dikshit2   Madhuri       Clerk  2002-04-04   10000  0.02   \n",
              "3   239456         Khan2  Shahrukh     Manager  2004-01-03   30000  0.07   \n",
              "4   897889       Sehwag2  Virender     Cus_Rep  2005-01-02   15000  0.05   \n",
              "5   123980        Dhoni2  Mahender       Clerk  2004-10-09    9000  0.02   \n",
              "6   822134       Dravid2     Rahul  Sr Manager  2000-06-04   40000  0.08   \n",
              "7   997445       Dalmia2  Jagmohan       Clerk  2001-07-01   12000  0.02   \n",
              "8   989007      Ganguly2    Sourav     Cus_Rep  2002-01-01   20000  0.03   \n",
              "9   299034      Ganesan2     Rekha    Director  2002-10-10   60000  0.11   \n",
              "10  546223  Karthikeyan2   Narayan   Secretary  2005-12-04   40000  0.09   \n",
              "11  223112        Mirza2     Sania     Cus_Rep  2001-11-19   25000  0.04   \n",
              "\n",
              "   deptid  \n",
              "0      10  \n",
              "1      40  \n",
              "2      20  \n",
              "3      20  \n",
              "4      20  \n",
              "5      40  \n",
              "6      30  \n",
              "7      30  \n",
              "8      40  \n",
              "9      10  \n",
              "10     10  \n",
              "11     30  "
            ],
            "text/html": [
              "\n",
              "  <div id=\"df-e55c93bf-0bbf-4402-bea8-efcc435f80f4\" class=\"colab-df-container\">\n",
              "    <div>\n",
              "<style scoped>\n",
              "    .dataframe tbody tr th:only-of-type {\n",
              "        vertical-align: middle;\n",
              "    }\n",
              "\n",
              "    .dataframe tbody tr th {\n",
              "        vertical-align: top;\n",
              "    }\n",
              "\n",
              "    .dataframe thead th {\n",
              "        text-align: right;\n",
              "    }\n",
              "</style>\n",
              "<table border=\"1\" class=\"dataframe\">\n",
              "  <thead>\n",
              "    <tr style=\"text-align: right;\">\n",
              "      <th></th>\n",
              "      <th>empid</th>\n",
              "      <th>lastname</th>\n",
              "      <th>firstname</th>\n",
              "      <th>jobdesc</th>\n",
              "      <th>joindate</th>\n",
              "      <th>salary</th>\n",
              "      <th>comm</th>\n",
              "      <th>deptid</th>\n",
              "    </tr>\n",
              "  </thead>\n",
              "  <tbody>\n",
              "    <tr>\n",
              "      <th>0</th>\n",
              "      <td>742866</td>\n",
              "      <td>Bacchan2</td>\n",
              "      <td>Amitabh</td>\n",
              "      <td>Executive</td>\n",
              "      <td>2003-03-10</td>\n",
              "      <td>50000</td>\n",
              "      <td>0.10</td>\n",
              "      <td>10</td>\n",
              "    </tr>\n",
              "    <tr>\n",
              "      <th>1</th>\n",
              "      <td>349870</td>\n",
              "      <td>Mukherjee2</td>\n",
              "      <td>Rani</td>\n",
              "      <td>Manager</td>\n",
              "      <td>2005-05-04</td>\n",
              "      <td>25000</td>\n",
              "      <td>0.06</td>\n",
              "      <td>40</td>\n",
              "    </tr>\n",
              "    <tr>\n",
              "      <th>2</th>\n",
              "      <td>865477</td>\n",
              "      <td>Dikshit2</td>\n",
              "      <td>Madhuri</td>\n",
              "      <td>Clerk</td>\n",
              "      <td>2002-04-04</td>\n",
              "      <td>10000</td>\n",
              "      <td>0.02</td>\n",
              "      <td>20</td>\n",
              "    </tr>\n",
              "    <tr>\n",
              "      <th>3</th>\n",
              "      <td>239456</td>\n",
              "      <td>Khan2</td>\n",
              "      <td>Shahrukh</td>\n",
              "      <td>Manager</td>\n",
              "      <td>2004-01-03</td>\n",
              "      <td>30000</td>\n",
              "      <td>0.07</td>\n",
              "      <td>20</td>\n",
              "    </tr>\n",
              "    <tr>\n",
              "      <th>4</th>\n",
              "      <td>897889</td>\n",
              "      <td>Sehwag2</td>\n",
              "      <td>Virender</td>\n",
              "      <td>Cus_Rep</td>\n",
              "      <td>2005-01-02</td>\n",
              "      <td>15000</td>\n",
              "      <td>0.05</td>\n",
              "      <td>20</td>\n",
              "    </tr>\n",
              "    <tr>\n",
              "      <th>5</th>\n",
              "      <td>123980</td>\n",
              "      <td>Dhoni2</td>\n",
              "      <td>Mahender</td>\n",
              "      <td>Clerk</td>\n",
              "      <td>2004-10-09</td>\n",
              "      <td>9000</td>\n",
              "      <td>0.02</td>\n",
              "      <td>40</td>\n",
              "    </tr>\n",
              "    <tr>\n",
              "      <th>6</th>\n",
              "      <td>822134</td>\n",
              "      <td>Dravid2</td>\n",
              "      <td>Rahul</td>\n",
              "      <td>Sr Manager</td>\n",
              "      <td>2000-06-04</td>\n",
              "      <td>40000</td>\n",
              "      <td>0.08</td>\n",
              "      <td>30</td>\n",
              "    </tr>\n",
              "    <tr>\n",
              "      <th>7</th>\n",
              "      <td>997445</td>\n",
              "      <td>Dalmia2</td>\n",
              "      <td>Jagmohan</td>\n",
              "      <td>Clerk</td>\n",
              "      <td>2001-07-01</td>\n",
              "      <td>12000</td>\n",
              "      <td>0.02</td>\n",
              "      <td>30</td>\n",
              "    </tr>\n",
              "    <tr>\n",
              "      <th>8</th>\n",
              "      <td>989007</td>\n",
              "      <td>Ganguly2</td>\n",
              "      <td>Sourav</td>\n",
              "      <td>Cus_Rep</td>\n",
              "      <td>2002-01-01</td>\n",
              "      <td>20000</td>\n",
              "      <td>0.03</td>\n",
              "      <td>40</td>\n",
              "    </tr>\n",
              "    <tr>\n",
              "      <th>9</th>\n",
              "      <td>299034</td>\n",
              "      <td>Ganesan2</td>\n",
              "      <td>Rekha</td>\n",
              "      <td>Director</td>\n",
              "      <td>2002-10-10</td>\n",
              "      <td>60000</td>\n",
              "      <td>0.11</td>\n",
              "      <td>10</td>\n",
              "    </tr>\n",
              "    <tr>\n",
              "      <th>10</th>\n",
              "      <td>546223</td>\n",
              "      <td>Karthikeyan2</td>\n",
              "      <td>Narayan</td>\n",
              "      <td>Secretary</td>\n",
              "      <td>2005-12-04</td>\n",
              "      <td>40000</td>\n",
              "      <td>0.09</td>\n",
              "      <td>10</td>\n",
              "    </tr>\n",
              "    <tr>\n",
              "      <th>11</th>\n",
              "      <td>223112</td>\n",
              "      <td>Mirza2</td>\n",
              "      <td>Sania</td>\n",
              "      <td>Cus_Rep</td>\n",
              "      <td>2001-11-19</td>\n",
              "      <td>25000</td>\n",
              "      <td>0.04</td>\n",
              "      <td>30</td>\n",
              "    </tr>\n",
              "  </tbody>\n",
              "</table>\n",
              "</div>\n",
              "    <div class=\"colab-df-buttons\">\n",
              "\n",
              "  <div class=\"colab-df-container\">\n",
              "    <button class=\"colab-df-convert\" onclick=\"convertToInteractive('df-e55c93bf-0bbf-4402-bea8-efcc435f80f4')\"\n",
              "            title=\"Convert this dataframe to an interactive table.\"\n",
              "            style=\"display:none;\">\n",
              "\n",
              "  <svg xmlns=\"http://www.w3.org/2000/svg\" height=\"24px\" viewBox=\"0 -960 960 960\">\n",
              "    <path d=\"M120-120v-720h720v720H120Zm60-500h600v-160H180v160Zm220 220h160v-160H400v160Zm0 220h160v-160H400v160ZM180-400h160v-160H180v160Zm440 0h160v-160H620v160ZM180-180h160v-160H180v160Zm440 0h160v-160H620v160Z\"/>\n",
              "  </svg>\n",
              "    </button>\n",
              "\n",
              "  <style>\n",
              "    .colab-df-container {\n",
              "      display:flex;\n",
              "      gap: 12px;\n",
              "    }\n",
              "\n",
              "    .colab-df-convert {\n",
              "      background-color: #E8F0FE;\n",
              "      border: none;\n",
              "      border-radius: 50%;\n",
              "      cursor: pointer;\n",
              "      display: none;\n",
              "      fill: #1967D2;\n",
              "      height: 32px;\n",
              "      padding: 0 0 0 0;\n",
              "      width: 32px;\n",
              "    }\n",
              "\n",
              "    .colab-df-convert:hover {\n",
              "      background-color: #E2EBFA;\n",
              "      box-shadow: 0px 1px 2px rgba(60, 64, 67, 0.3), 0px 1px 3px 1px rgba(60, 64, 67, 0.15);\n",
              "      fill: #174EA6;\n",
              "    }\n",
              "\n",
              "    .colab-df-buttons div {\n",
              "      margin-bottom: 4px;\n",
              "    }\n",
              "\n",
              "    [theme=dark] .colab-df-convert {\n",
              "      background-color: #3B4455;\n",
              "      fill: #D2E3FC;\n",
              "    }\n",
              "\n",
              "    [theme=dark] .colab-df-convert:hover {\n",
              "      background-color: #434B5C;\n",
              "      box-shadow: 0px 1px 3px 1px rgba(0, 0, 0, 0.15);\n",
              "      filter: drop-shadow(0px 1px 2px rgba(0, 0, 0, 0.3));\n",
              "      fill: #FFFFFF;\n",
              "    }\n",
              "  </style>\n",
              "\n",
              "    <script>\n",
              "      const buttonEl =\n",
              "        document.querySelector('#df-e55c93bf-0bbf-4402-bea8-efcc435f80f4 button.colab-df-convert');\n",
              "      buttonEl.style.display =\n",
              "        google.colab.kernel.accessAllowed ? 'block' : 'none';\n",
              "\n",
              "      async function convertToInteractive(key) {\n",
              "        const element = document.querySelector('#df-e55c93bf-0bbf-4402-bea8-efcc435f80f4');\n",
              "        const dataTable =\n",
              "          await google.colab.kernel.invokeFunction('convertToInteractive',\n",
              "                                                    [key], {});\n",
              "        if (!dataTable) return;\n",
              "\n",
              "        const docLinkHtml = 'Like what you see? Visit the ' +\n",
              "          '<a target=\"_blank\" href=https://colab.research.google.com/notebooks/data_table.ipynb>data table notebook</a>'\n",
              "          + ' to learn more about interactive tables.';\n",
              "        element.innerHTML = '';\n",
              "        dataTable['output_type'] = 'display_data';\n",
              "        await google.colab.output.renderOutput(dataTable, element);\n",
              "        const docLink = document.createElement('div');\n",
              "        docLink.innerHTML = docLinkHtml;\n",
              "        element.appendChild(docLink);\n",
              "      }\n",
              "    </script>\n",
              "  </div>\n",
              "\n",
              "\n",
              "<div id=\"df-5134f9f1-4026-4745-be90-0c53d861f8cf\">\n",
              "  <button class=\"colab-df-quickchart\" onclick=\"quickchart('df-5134f9f1-4026-4745-be90-0c53d861f8cf')\"\n",
              "            title=\"Suggest charts\"\n",
              "            style=\"display:none;\">\n",
              "\n",
              "<svg xmlns=\"http://www.w3.org/2000/svg\" height=\"24px\"viewBox=\"0 0 24 24\"\n",
              "     width=\"24px\">\n",
              "    <g>\n",
              "        <path d=\"M19 3H5c-1.1 0-2 .9-2 2v14c0 1.1.9 2 2 2h14c1.1 0 2-.9 2-2V5c0-1.1-.9-2-2-2zM9 17H7v-7h2v7zm4 0h-2V7h2v10zm4 0h-2v-4h2v4z\"/>\n",
              "    </g>\n",
              "</svg>\n",
              "  </button>\n",
              "\n",
              "<style>\n",
              "  .colab-df-quickchart {\n",
              "      --bg-color: #E8F0FE;\n",
              "      --fill-color: #1967D2;\n",
              "      --hover-bg-color: #E2EBFA;\n",
              "      --hover-fill-color: #174EA6;\n",
              "      --disabled-fill-color: #AAA;\n",
              "      --disabled-bg-color: #DDD;\n",
              "  }\n",
              "\n",
              "  [theme=dark] .colab-df-quickchart {\n",
              "      --bg-color: #3B4455;\n",
              "      --fill-color: #D2E3FC;\n",
              "      --hover-bg-color: #434B5C;\n",
              "      --hover-fill-color: #FFFFFF;\n",
              "      --disabled-bg-color: #3B4455;\n",
              "      --disabled-fill-color: #666;\n",
              "  }\n",
              "\n",
              "  .colab-df-quickchart {\n",
              "    background-color: var(--bg-color);\n",
              "    border: none;\n",
              "    border-radius: 50%;\n",
              "    cursor: pointer;\n",
              "    display: none;\n",
              "    fill: var(--fill-color);\n",
              "    height: 32px;\n",
              "    padding: 0;\n",
              "    width: 32px;\n",
              "  }\n",
              "\n",
              "  .colab-df-quickchart:hover {\n",
              "    background-color: var(--hover-bg-color);\n",
              "    box-shadow: 0 1px 2px rgba(60, 64, 67, 0.3), 0 1px 3px 1px rgba(60, 64, 67, 0.15);\n",
              "    fill: var(--button-hover-fill-color);\n",
              "  }\n",
              "\n",
              "  .colab-df-quickchart-complete:disabled,\n",
              "  .colab-df-quickchart-complete:disabled:hover {\n",
              "    background-color: var(--disabled-bg-color);\n",
              "    fill: var(--disabled-fill-color);\n",
              "    box-shadow: none;\n",
              "  }\n",
              "\n",
              "  .colab-df-spinner {\n",
              "    border: 2px solid var(--fill-color);\n",
              "    border-color: transparent;\n",
              "    border-bottom-color: var(--fill-color);\n",
              "    animation:\n",
              "      spin 1s steps(1) infinite;\n",
              "  }\n",
              "\n",
              "  @keyframes spin {\n",
              "    0% {\n",
              "      border-color: transparent;\n",
              "      border-bottom-color: var(--fill-color);\n",
              "      border-left-color: var(--fill-color);\n",
              "    }\n",
              "    20% {\n",
              "      border-color: transparent;\n",
              "      border-left-color: var(--fill-color);\n",
              "      border-top-color: var(--fill-color);\n",
              "    }\n",
              "    30% {\n",
              "      border-color: transparent;\n",
              "      border-left-color: var(--fill-color);\n",
              "      border-top-color: var(--fill-color);\n",
              "      border-right-color: var(--fill-color);\n",
              "    }\n",
              "    40% {\n",
              "      border-color: transparent;\n",
              "      border-right-color: var(--fill-color);\n",
              "      border-top-color: var(--fill-color);\n",
              "    }\n",
              "    60% {\n",
              "      border-color: transparent;\n",
              "      border-right-color: var(--fill-color);\n",
              "    }\n",
              "    80% {\n",
              "      border-color: transparent;\n",
              "      border-right-color: var(--fill-color);\n",
              "      border-bottom-color: var(--fill-color);\n",
              "    }\n",
              "    90% {\n",
              "      border-color: transparent;\n",
              "      border-bottom-color: var(--fill-color);\n",
              "    }\n",
              "  }\n",
              "</style>\n",
              "\n",
              "  <script>\n",
              "    async function quickchart(key) {\n",
              "      const quickchartButtonEl =\n",
              "        document.querySelector('#' + key + ' button');\n",
              "      quickchartButtonEl.disabled = true;  // To prevent multiple clicks.\n",
              "      quickchartButtonEl.classList.add('colab-df-spinner');\n",
              "      try {\n",
              "        const charts = await google.colab.kernel.invokeFunction(\n",
              "            'suggestCharts', [key], {});\n",
              "      } catch (error) {\n",
              "        console.error('Error during call to suggestCharts:', error);\n",
              "      }\n",
              "      quickchartButtonEl.classList.remove('colab-df-spinner');\n",
              "      quickchartButtonEl.classList.add('colab-df-quickchart-complete');\n",
              "    }\n",
              "    (() => {\n",
              "      let quickchartButtonEl =\n",
              "        document.querySelector('#df-5134f9f1-4026-4745-be90-0c53d861f8cf button');\n",
              "      quickchartButtonEl.style.display =\n",
              "        google.colab.kernel.accessAllowed ? 'block' : 'none';\n",
              "    })();\n",
              "  </script>\n",
              "</div>\n",
              "    </div>\n",
              "  </div>\n"
            ]
          },
          "metadata": {},
          "execution_count": 36
        }
      ]
    },
    {
      "cell_type": "code",
      "source": [
        "!psql -h 'database-1.cng2qsnvbfu0.ap-south-1.rds.amazonaws.com' -p 5432 -U postgres -d postgres -c \"select * from empl2;\""
      ],
      "metadata": {
        "colab": {
          "base_uri": "https://localhost:8080/"
        },
        "id": "ELD9YEkF_Nuo",
        "outputId": "a2bc4887-cd07-4a09-8cbf-490e6cda0ce3"
      },
      "execution_count": 40,
      "outputs": [
        {
          "output_type": "stream",
          "name": "stdout",
          "text": [
            "Password for user postgres: \n",
            " empid  |   lastname   | firstname |  jobdesc   |  joindate  | salary | comm | deptid \n",
            "--------+--------------+-----------+------------+------------+--------+------+--------\n",
            " 742866 | Bacchan2     | Amitabh   | Executive  | 2003-03-10 |  50000 | 0.10 | 10\n",
            " 349870 | Mukherjee2   | Rani      | Manager    | 2005-05-04 |  25000 | 0.06 | 40\n",
            " 865477 | Dikshit2     | Madhuri   | Clerk      | 2002-04-04 |  10000 | 0.02 | 20\n",
            " 239456 | Khan2        | Shahrukh  | Manager    | 2004-01-03 |  30000 | 0.07 | 20\n",
            " 897889 | Sehwag2      | Virender  | Cus_Rep    | 2005-01-02 |  15000 | 0.05 | 20\n",
            " 123980 | Dhoni2       | Mahender  | Clerk      | 2004-10-09 |   9000 | 0.02 | 40\n",
            " 822134 | Dravid2      | Rahul     | Sr Manager | 2000-06-04 |  40000 | 0.08 | 30\n",
            " 997445 | Dalmia2      | Jagmohan  | Clerk      | 2001-07-01 |  12000 | 0.02 | 30\n",
            " 989007 | Ganguly2     | Sourav    | Cus_Rep    | 2002-01-01 |  20000 | 0.03 | 40\n",
            " 299034 | Ganesan2     | Rekha     | Director   | 2002-10-10 |  60000 | 0.11 | 10\n",
            " 546223 | Karthikeyan2 | Narayan   | Secretary  | 2005-12-04 |  40000 | 0.09 | 10\n",
            " 223112 | Mirza2       | Sania     | Cus_Rep    | 2001-11-19 |  25000 | 0.04 | 30\n",
            "(12 rows)\n",
            "\n"
          ]
        }
      ]
    },
    {
      "cell_type": "code",
      "source": [
        "# Loading Bulk Data\n",
        "# Note the \\COPY instead of simply COPY\n",
        "#\n",
        "!psql -h 'database-1.cng2qsnvbfu0.ap-south-1.rds.amazonaws.com' -p 5432 -Upostgres -dpostgres -c \"\\COPY empl2 FROM '/content/emp.csv' DELIMITER ',' CSV HEADER;\""
      ],
      "metadata": {
        "colab": {
          "base_uri": "https://localhost:8080/"
        },
        "id": "3ytv0gLk_6SU",
        "outputId": "a7e0cef8-9685-40cb-8693-272c9d50a32d"
      },
      "execution_count": 41,
      "outputs": [
        {
          "output_type": "stream",
          "name": "stdout",
          "text": [
            "Password for user postgres: \n",
            "COPY 12\n"
          ]
        }
      ]
    },
    {
      "cell_type": "code",
      "source": [
        "!psql -h 'database-1.cng2qsnvbfu0.ap-south-1.rds.amazonaws.com' -p 5432 -U postgres -d postgres -c \"select * from empl2;\""
      ],
      "metadata": {
        "colab": {
          "base_uri": "https://localhost:8080/"
        },
        "id": "a3xv_NkBBHG8",
        "outputId": "b20a0cff-b7e4-4e4a-8b31-e6bb652d7705"
      },
      "execution_count": 42,
      "outputs": [
        {
          "output_type": "stream",
          "name": "stdout",
          "text": [
            "Password for user postgres: \n",
            " empid  |   lastname   | firstname |  jobdesc   |  joindate  | salary | comm | deptid \n",
            "--------+--------------+-----------+------------+------------+--------+------+--------\n",
            " 742866 | Bacchan2     | Amitabh   | Executive  | 2003-03-10 |  50000 | 0.10 | 10\n",
            " 349870 | Mukherjee2   | Rani      | Manager    | 2005-05-04 |  25000 | 0.06 | 40\n",
            " 865477 | Dikshit2     | Madhuri   | Clerk      | 2002-04-04 |  10000 | 0.02 | 20\n",
            " 239456 | Khan2        | Shahrukh  | Manager    | 2004-01-03 |  30000 | 0.07 | 20\n",
            " 897889 | Sehwag2      | Virender  | Cus_Rep    | 2005-01-02 |  15000 | 0.05 | 20\n",
            " 123980 | Dhoni2       | Mahender  | Clerk      | 2004-10-09 |   9000 | 0.02 | 40\n",
            " 822134 | Dravid2      | Rahul     | Sr Manager | 2000-06-04 |  40000 | 0.08 | 30\n",
            " 997445 | Dalmia2      | Jagmohan  | Clerk      | 2001-07-01 |  12000 | 0.02 | 30\n",
            " 989007 | Ganguly2     | Sourav    | Cus_Rep    | 2002-01-01 |  20000 | 0.03 | 40\n",
            " 299034 | Ganesan2     | Rekha     | Director   | 2002-10-10 |  60000 | 0.11 | 10\n",
            " 546223 | Karthikeyan2 | Narayan   | Secretary  | 2005-12-04 |  40000 | 0.09 | 10\n",
            " 223112 | Mirza2       | Sania     | Cus_Rep    | 2001-11-19 |  25000 | 0.04 | 30\n",
            " 742866 | Bacchan      | Amitabh   | Executive  | 2003-03-10 |  50000 | 0.10 | 10\n",
            " 349870 | Mukherjee    | Rani      | Manager    | 2005-05-04 |  25000 | 0.06 | 40\n",
            " 865477 | Dikshit      | Madhuri   | Clerk      | 2002-04-04 |  10000 | 0.02 | 20\n",
            " 239456 | Khan         | Shahrukh  | Manager    | 2004-01-03 |  30000 | 0.07 | 20\n",
            " 897889 | Sehwag       | Virender  | Cus_Rep    | 2005-01-02 |  15000 | 0.05 | 20\n",
            " 123980 | Dhoni        | Mahender  | Clerk      | 2004-10-09 |   9000 | 0.02 | 40\n",
            " 822134 | Dravid       | Rahul     | Sr Manager | 2000-06-04 |  40000 | 0.08 | 30\n",
            " 997445 | Dalmia       | Jagmohan  | Clerk      | 2001-07-01 |  12000 | 0.02 | 30\n",
            " 989007 | Ganguly      | Sourav    | Cus_Rep    | 2002-01-01 |  20000 | 0.03 | 40\n",
            " 299034 | Ganesan      | Rekha     | Director   | 2002-10-10 |  60000 | 0.11 | 10\n",
            " 546223 | Karthikeyan  | Narayan   | Secretary  | 2005-12-04 |  40000 | 0.09 | 10\n",
            " 223112 | Mirza        | Sania     | Cus_Rep    | 2001-11-19 |  25000 | 0.04 | 30\n",
            "(24 rows)\n",
            "\n"
          ]
        }
      ]
    },
    {
      "cell_type": "code",
      "source": [
        "from datetime import datetime\n",
        "import pytz\n",
        "print('Last tested  ',datetime.now(pytz.timezone('Asia/Kolkata')))\n",
        "r_conn.close()"
      ],
      "metadata": {
        "colab": {
          "base_uri": "https://localhost:8080/"
        },
        "id": "wjBXJVhM605H",
        "outputId": "5e33ee80-3a60-4b2f-e5ec-1374b5493772"
      },
      "execution_count": 43,
      "outputs": [
        {
          "output_type": "stream",
          "name": "stdout",
          "text": [
            "Last tested   2023-12-28 11:34:14.807969+05:30\n"
          ]
        }
      ]
    },
    {
      "cell_type": "markdown",
      "source": [
        "#Chronobooks <br>\n",
        "Two science fiction novels by Prithwis Mukerjee. A dystopian Earth. A technocratic society managed by artificial intelligence. Escape and epiphany on Mars. Can man and machine, carbon and silicon explore and escape into other dimensions of existence? An Indic perspective rooted in Advaita Vedanta and the Divine Feminine.  [More information](http://bit.ly/chronobooks) <br>\n",
        "![alt text](https://github.com/Praxis-QR/RDWH/raw/main/images/CTCYFooter-1.png)"
      ],
      "metadata": {
        "id": "_gNiZpyW3AzJ"
      }
    }
  ]
}