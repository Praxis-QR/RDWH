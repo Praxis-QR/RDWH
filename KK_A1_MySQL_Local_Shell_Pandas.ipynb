{
  "nbformat": 4,
  "nbformat_minor": 0,
  "metadata": {
    "colab": {
      "name": "KK A1 MySQL : Local : Shell : Pandas",
      "provenance": [],
      "collapsed_sections": [],
      "toc_visible": true,
      "include_colab_link": true
    },
    "kernelspec": {
      "name": "python3",
      "display_name": "Python 3"
    }
  },
  "cells": [
    {
      "cell_type": "markdown",
      "metadata": {
        "id": "view-in-github",
        "colab_type": "text"
      },
      "source": [
        "<a href=\"https://colab.research.google.com/github/Praxis-QR/RDWH/blob/main/KK_A1_MySQL_Local_Shell_Pandas.ipynb\" target=\"_parent\"><img src=\"https://colab.research.google.com/assets/colab-badge.svg\" alt=\"Open In Colab\"/></a>"
      ]
    },
    {
      "cell_type": "markdown",
      "metadata": {
        "id": "IEW-uQFCKu5x"
      },
      "source": [
        "![alt text](https://4.bp.blogspot.com/-gbL5nZDkpFQ/XScFYwoTEII/AAAAAAAAAGY/CcVb_HDLwvs2Brv5T4vSsUcz7O4r2Q79ACK4BGAYYCw/s1600/kk3-header00-beta.png)<br>\n",
        "\n",
        "\n",
        "<hr>\n",
        "\n",
        "[Prithwis Mukerjee](http://www.linkedin.com/in/prithwis)<br>"
      ]
    },
    {
      "cell_type": "markdown",
      "metadata": {
        "id": "ToTt_bsPtHXi"
      },
      "source": [
        "## Purpose\n",
        "This Colab Notebook demonstrates how to \n",
        "\n",
        "\n",
        "1.   Install MySQL inside the VM\n",
        "2.   Access MySQL from the mysql client\n",
        "3.   Access MySQL from Python with Pandas \n",
        "\n",
        "<hr>\n",
        "Last Updated : 20 Aug 2021\n",
        "\n",
        "\n"
      ]
    },
    {
      "cell_type": "markdown",
      "metadata": {
        "id": "VkaZdN7ocStp"
      },
      "source": [
        "#Install & Test Connectivity"
      ]
    },
    {
      "cell_type": "code",
      "metadata": {
        "id": "00jRRfyHcVYH",
        "outputId": "bcafb114-0c94-47c1-b11b-e56bb2b3e7b9",
        "colab": {
          "base_uri": "https://localhost:8080/"
        }
      },
      "source": [
        "!apt-get update > null\n",
        "!apt-get -y install mysql-server > null\n",
        "!/etc/init.d/mysql restart"
      ],
      "execution_count": 1,
      "outputs": [
        {
          "output_type": "stream",
          "name": "stdout",
          "text": [
            " * Stopping MySQL database server mysqld\n",
            "   ...done.\n",
            " * Starting MySQL database server mysqld\n",
            "No directory, logging in with HOME=/\n",
            "   ...done.\n"
          ]
        }
      ]
    },
    {
      "cell_type": "code",
      "metadata": {
        "id": "Lx-OrgZMc8V8",
        "colab": {
          "base_uri": "https://localhost:8080/"
        },
        "outputId": "45a644d6-ab22-461f-f750-e9f5d7708e5a"
      },
      "source": [
        "!mysql --version\n",
        "!mysql -e 'create database praxisDB'"
      ],
      "execution_count": 2,
      "outputs": [
        {
          "output_type": "stream",
          "name": "stdout",
          "text": [
            "mysql  Ver 14.14 Distrib 5.7.39, for Linux (x86_64) using  EditLine wrapper\n"
          ]
        }
      ]
    },
    {
      "cell_type": "code",
      "metadata": {
        "id": "O-nalFyVdE0c",
        "colab": {
          "base_uri": "https://localhost:8080/"
        },
        "outputId": "bf985291-a9fa-4323-89e9-69ee6f1bcade"
      },
      "source": [
        "!mysql -e 'show databases'"
      ],
      "execution_count": 3,
      "outputs": [
        {
          "output_type": "stream",
          "name": "stdout",
          "text": [
            "+--------------------+\n",
            "| Database           |\n",
            "+--------------------+\n",
            "| information_schema |\n",
            "| mysql              |\n",
            "| performance_schema |\n",
            "| praxisDB           |\n",
            "| sys                |\n",
            "+--------------------+\n"
          ]
        }
      ]
    },
    {
      "cell_type": "markdown",
      "metadata": {
        "id": "u-zi9H6Bde-a"
      },
      "source": [
        "#Create Table & Load Data"
      ]
    },
    {
      "cell_type": "markdown",
      "metadata": {
        "id": "_ZtCSY6RdxH_"
      },
      "source": [
        "### Test Data <br>\n",
        "\n",
        "dept.csv https://drive.google.com/open?id=1rJu1oUgUsShEG9Hh8IG0-55tAisfYBCc\n",
        "\n",
        "emp.csv https://drive.google.com/open?id=136ZpigRZKG3T-9wEBjD7r6P94y9gCWeU"
      ]
    },
    {
      "cell_type": "code",
      "metadata": {
        "id": "nN20x3WHd_Xb",
        "colab": {
          "base_uri": "https://localhost:8080/"
        },
        "outputId": "9fb5083f-a7e2-4a61-b1d1-6b4f57323100"
      },
      "source": [
        "# The CSV files are stored in the author's Google Drive\n",
        "!gdown https://drive.google.com/uc?id=1rJu1oUgUsShEG9Hh8IG0-55tAisfYBCc\n",
        "!gdown https://drive.google.com/uc?id=136ZpigRZKG3T-9wEBjD7r6P94y9gCWeU"
      ],
      "execution_count": 4,
      "outputs": [
        {
          "output_type": "stream",
          "name": "stdout",
          "text": [
            "Downloading...\n",
            "From: https://drive.google.com/uc?id=1rJu1oUgUsShEG9Hh8IG0-55tAisfYBCc\n",
            "To: /content/dept.csv\n",
            "100% 148/148 [00:00<00:00, 229kB/s]\n",
            "Downloading...\n",
            "From: https://drive.google.com/uc?id=136ZpigRZKG3T-9wEBjD7r6P94y9gCWeU\n",
            "To: /content/emp.csv\n",
            "100% 734/734 [00:00<00:00, 1.25MB/s]\n"
          ]
        }
      ]
    },
    {
      "cell_type": "code",
      "metadata": {
        "id": "BvKuNfgTdmI_",
        "colab": {
          "base_uri": "https://localhost:8080/"
        },
        "outputId": "91516719-3b0b-4ae4-da35-83250205ddc0"
      },
      "source": [
        "!ls"
      ],
      "execution_count": null,
      "outputs": [
        {
          "output_type": "stream",
          "name": "stdout",
          "text": [
            "dept.csv  emp.csv  null  sample_data\n"
          ]
        }
      ]
    },
    {
      "cell_type": "code",
      "metadata": {
        "id": "x9UhdCf3ePI2",
        "colab": {
          "base_uri": "https://localhost:8080/"
        },
        "outputId": "70bd94ab-d97a-49fa-b3d5-13613bce7999"
      },
      "source": [
        "!mysql praxisDB -e 'drop table empl'\n",
        "!mysql praxisDB -e 'create table empl (empid char(6),lastname varchar(20), firstname varchar(20), jobdesc varchar(10), joindate date, salary int, comm decimal(3,2), deptid char(2));'\n",
        "!mysql praxisDB -e 'drop table dept'\n",
        "!mysql praxisDB -e 'create table dept (deptid char(2),deptname varchar(20), managerid char(6), location varchar(10));'"
      ],
      "execution_count": null,
      "outputs": [
        {
          "output_type": "stream",
          "name": "stdout",
          "text": [
            "ERROR 1051 (42S02) at line 1: Unknown table 'praxisDB.empl'\n",
            "ERROR 1051 (42S02) at line 1: Unknown table 'praxisDB.dept'\n"
          ]
        }
      ]
    },
    {
      "cell_type": "code",
      "metadata": {
        "id": "CFDfKRd1e0pa",
        "colab": {
          "base_uri": "https://localhost:8080/"
        },
        "outputId": "f1db4a60-3c03-45cf-9a9e-2fc372a58bc5"
      },
      "source": [
        "!mysql praxisDB -e 'desc empl'"
      ],
      "execution_count": null,
      "outputs": [
        {
          "output_type": "stream",
          "name": "stdout",
          "text": [
            "+-----------+--------------+------+-----+---------+-------+\n",
            "| Field     | Type         | Null | Key | Default | Extra |\n",
            "+-----------+--------------+------+-----+---------+-------+\n",
            "| empid     | char(6)      | YES  |     | NULL    |       |\n",
            "| lastname  | varchar(20)  | YES  |     | NULL    |       |\n",
            "| firstname | varchar(20)  | YES  |     | NULL    |       |\n",
            "| jobdesc   | varchar(10)  | YES  |     | NULL    |       |\n",
            "| joindate  | date         | YES  |     | NULL    |       |\n",
            "| salary    | int(11)      | YES  |     | NULL    |       |\n",
            "| comm      | decimal(3,2) | YES  |     | NULL    |       |\n",
            "| deptid    | char(2)      | YES  |     | NULL    |       |\n",
            "+-----------+--------------+------+-----+---------+-------+\n"
          ]
        }
      ]
    },
    {
      "cell_type": "code",
      "metadata": {
        "id": "ARUyu03ze9_0",
        "colab": {
          "base_uri": "https://localhost:8080/"
        },
        "outputId": "c2b66672-f5cc-4032-f1d6-5a488fbc25f9"
      },
      "source": [
        "!mysql praxisDB -e 'desc dept'"
      ],
      "execution_count": null,
      "outputs": [
        {
          "output_type": "stream",
          "name": "stdout",
          "text": [
            "+-----------+-------------+------+-----+---------+-------+\n",
            "| Field     | Type        | Null | Key | Default | Extra |\n",
            "+-----------+-------------+------+-----+---------+-------+\n",
            "| deptid    | char(2)     | YES  |     | NULL    |       |\n",
            "| deptname  | varchar(20) | YES  |     | NULL    |       |\n",
            "| managerid | char(6)     | YES  |     | NULL    |       |\n",
            "| location  | varchar(10) | YES  |     | NULL    |       |\n",
            "+-----------+-------------+------+-----+---------+-------+\n"
          ]
        }
      ]
    },
    {
      "cell_type": "code",
      "metadata": {
        "id": "GuPz29iofJiV"
      },
      "source": [
        "#quick SQL reference https://gist.github.com/hofmannsven/9164408\n",
        "!mysql praxisDB -e \"LOAD DATA LOCAL INFILE 'emp.csv' INTO TABLE empl FIELDS TERMINATED BY ',' IGNORE 1 LINES;\""
      ],
      "execution_count": null,
      "outputs": []
    },
    {
      "cell_type": "code",
      "metadata": {
        "id": "qe50-AvjfbA0"
      },
      "source": [
        "#!cat dept.csv\n",
        "!mysql praxisDB -e \"LOAD DATA LOCAL INFILE 'dept.csv' INTO TABLE dept FIELDS TERMINATED BY ',' LINES TERMINATED BY '\\r\\n'  IGNORE 1 LINES;\""
      ],
      "execution_count": null,
      "outputs": []
    },
    {
      "cell_type": "markdown",
      "metadata": {
        "id": "q6sdvbgLfk6n"
      },
      "source": [
        "#Retrieve Data"
      ]
    },
    {
      "cell_type": "code",
      "metadata": {
        "id": "u-cvoaDVfrcb",
        "colab": {
          "base_uri": "https://localhost:8080/"
        },
        "outputId": "1a5cf419-6edd-4b07-8d29-c67c7741f04e"
      },
      "source": [
        "!mysql praxisDB -e 'select * from empl'"
      ],
      "execution_count": null,
      "outputs": [
        {
          "output_type": "stream",
          "name": "stdout",
          "text": [
            "+--------+-------------+-----------+------------+------------+--------+------+--------+\n",
            "| empid  | lastname    | firstname | jobdesc    | joindate   | salary | comm | deptid |\n",
            "+--------+-------------+-----------+------------+------------+--------+------+--------+\n",
            "| 742866 | Bacchan     | Amitabh   | Executive  | 2003-03-10 |  50000 | 0.10 | 10     |\n",
            "| 349870 | Mukherjee   | Rani      | Manager    | 2005-05-04 |  25000 | 0.06 | 40     |\n",
            "| 865477 | Dikshit     | Madhuri   | Clerk      | 2002-04-04 |  10000 | 0.02 | 20     |\n",
            "| 239456 | Khan        | Shahrukh  | Manager    | 2004-01-03 |  30000 | 0.07 | 20     |\n",
            "| 897889 | Sehwag      | Virender  | Cus_Rep    | 2005-01-02 |  15000 | 0.05 | 20     |\n",
            "| 123980 | Dhoni       | Mahender  | Clerk      | 2004-10-09 |   9000 | 0.02 | 40     |\n",
            "| 822134 | Dravid      | Rahul     | Sr Manager | 2000-06-04 |  40000 | 0.08 | 30     |\n",
            "| 997445 | Dalmia      | Jagmohan  | Clerk      | 2001-07-01 |  12000 | 0.02 | 30     |\n",
            "| 989007 | Ganguly     | Sourav    | Cus_Rep    | 2002-01-01 |  20000 | 0.03 | 40     |\n",
            "| 299034 | Ganesan     | Rekha     | Director   | 2002-10-10 |  60000 | 0.11 | 10     |\n",
            "| 546223 | Karthikeyan | Narayan   | Secretary  | 2005-12-04 |  40000 | 0.09 | 10     |\n",
            "| 223112 | Mirza       | Sania     | Cus_Rep    | 2001-11-19 |  25000 | 0.04 | 30     |\n",
            "+--------+-------------+-----------+------------+------------+--------+------+--------+\n"
          ]
        }
      ]
    },
    {
      "cell_type": "code",
      "metadata": {
        "id": "zA9HMydkf1rp",
        "colab": {
          "base_uri": "https://localhost:8080/"
        },
        "outputId": "64a45819-5669-42d2-bc54-efd37d25b285"
      },
      "source": [
        "!mysql praxisDB -e 'select * from dept'"
      ],
      "execution_count": null,
      "outputs": [
        {
          "output_type": "stream",
          "name": "stdout",
          "text": [
            "+--------+------------+-----------+----------+\n",
            "| deptid | deptname   | managerid | location |\n",
            "+--------+------------+-----------+----------+\n",
            "| 10     | Corporate  | 299034    | Calcutta |\n",
            "| 20     | Sales      | 239456    | Calcutta |\n",
            "| 30     | Accounts   | 822134    | Calcutta |\n",
            "| 40     | Production | 349870    | Bombay   |\n",
            "+--------+------------+-----------+----------+\n"
          ]
        }
      ]
    },
    {
      "cell_type": "code",
      "metadata": {
        "id": "MojrIHKxf8Su",
        "colab": {
          "base_uri": "https://localhost:8080/"
        },
        "outputId": "57c285e1-2742-4341-d358-eac2767b3001"
      },
      "source": [
        "!mysql praxisDB -e 'select lastname, firstname, location from empl, dept where empl.deptid = dept.deptid'"
      ],
      "execution_count": null,
      "outputs": [
        {
          "output_type": "stream",
          "name": "stdout",
          "text": [
            "+-------------+-----------+----------+\n",
            "| lastname    | firstname | location |\n",
            "+-------------+-----------+----------+\n",
            "| Bacchan     | Amitabh   | Calcutta |\n",
            "| Mukherjee   | Rani      | Bombay   |\n",
            "| Dikshit     | Madhuri   | Calcutta |\n",
            "| Khan        | Shahrukh  | Calcutta |\n",
            "| Sehwag      | Virender  | Calcutta |\n",
            "| Dhoni       | Mahender  | Bombay   |\n",
            "| Dravid      | Rahul     | Calcutta |\n",
            "| Dalmia      | Jagmohan  | Calcutta |\n",
            "| Ganguly     | Sourav    | Bombay   |\n",
            "| Ganesan     | Rekha     | Calcutta |\n",
            "| Karthikeyan | Narayan   | Calcutta |\n",
            "| Mirza       | Sania     | Calcutta |\n",
            "+-------------+-----------+----------+\n"
          ]
        }
      ]
    },
    {
      "cell_type": "markdown",
      "metadata": {
        "id": "Qzikw0YAgsix"
      },
      "source": [
        "#Python with Pandas"
      ]
    },
    {
      "cell_type": "markdown",
      "metadata": {
        "id": "TD2yoJfZvp_2"
      },
      "source": [
        "## Panda Modules"
      ]
    },
    {
      "cell_type": "code",
      "metadata": {
        "colab": {
          "base_uri": "https://localhost:8080/"
        },
        "id": "MV9i272vvy__",
        "outputId": "75145882-762b-42fa-db6d-ff168eb8547e"
      },
      "source": [
        "!apt install libmysqlclient-dev  > /dev/null\n",
        "!pip install mysqlclient  > /dev/null\n",
        "import pandas as pd\n",
        "import MySQLdb"
      ],
      "execution_count": 5,
      "outputs": [
        {
          "output_type": "stream",
          "name": "stdout",
          "text": [
            "\n",
            "WARNING: apt does not have a stable CLI interface. Use with caution in scripts.\n",
            "\n"
          ]
        }
      ]
    },
    {
      "cell_type": "code",
      "metadata": {
        "colab": {
          "base_uri": "https://localhost:8080/"
        },
        "id": "euTFsVg7y29O",
        "outputId": "ea0a4511-1c49-451c-d815-230878486956"
      },
      "source": [
        "DBConn = MySQLdb.connect(db='praxisDB')\n",
        "#df_mysql = pd.read_sql('select * from emp2;', con=con_mysql)  \n",
        "df_mysql = pd.read_sql('show tables', con=DBConn)    \n",
        "print ('loaded dataframe from MySQL. records:', len(df_mysql))\n",
        "DBConn.close()"
      ],
      "execution_count": 15,
      "outputs": [
        {
          "output_type": "stream",
          "name": "stdout",
          "text": [
            "loaded dataframe from MySQL. records: 5\n"
          ]
        }
      ]
    },
    {
      "cell_type": "code",
      "metadata": {
        "colab": {
          "base_uri": "https://localhost:8080/",
          "height": 206
        },
        "id": "XPkUzi0yzI5f",
        "outputId": "08980ec7-2e7d-427e-de74-230633345d60"
      },
      "source": [
        "df_mysql"
      ],
      "execution_count": 16,
      "outputs": [
        {
          "output_type": "execute_result",
          "data": {
            "text/plain": [
              "  Tables_in_praxisDB\n",
              "0               dept\n",
              "1              dept2\n",
              "2               emp2\n",
              "3               emp3\n",
              "4               empl"
            ],
            "text/html": [
              "\n",
              "  <div id=\"df-39ff1e90-a3ea-42d7-9d5a-2feccf369066\">\n",
              "    <div class=\"colab-df-container\">\n",
              "      <div>\n",
              "<style scoped>\n",
              "    .dataframe tbody tr th:only-of-type {\n",
              "        vertical-align: middle;\n",
              "    }\n",
              "\n",
              "    .dataframe tbody tr th {\n",
              "        vertical-align: top;\n",
              "    }\n",
              "\n",
              "    .dataframe thead th {\n",
              "        text-align: right;\n",
              "    }\n",
              "</style>\n",
              "<table border=\"1\" class=\"dataframe\">\n",
              "  <thead>\n",
              "    <tr style=\"text-align: right;\">\n",
              "      <th></th>\n",
              "      <th>Tables_in_praxisDB</th>\n",
              "    </tr>\n",
              "  </thead>\n",
              "  <tbody>\n",
              "    <tr>\n",
              "      <th>0</th>\n",
              "      <td>dept</td>\n",
              "    </tr>\n",
              "    <tr>\n",
              "      <th>1</th>\n",
              "      <td>dept2</td>\n",
              "    </tr>\n",
              "    <tr>\n",
              "      <th>2</th>\n",
              "      <td>emp2</td>\n",
              "    </tr>\n",
              "    <tr>\n",
              "      <th>3</th>\n",
              "      <td>emp3</td>\n",
              "    </tr>\n",
              "    <tr>\n",
              "      <th>4</th>\n",
              "      <td>empl</td>\n",
              "    </tr>\n",
              "  </tbody>\n",
              "</table>\n",
              "</div>\n",
              "      <button class=\"colab-df-convert\" onclick=\"convertToInteractive('df-39ff1e90-a3ea-42d7-9d5a-2feccf369066')\"\n",
              "              title=\"Convert this dataframe to an interactive table.\"\n",
              "              style=\"display:none;\">\n",
              "        \n",
              "  <svg xmlns=\"http://www.w3.org/2000/svg\" height=\"24px\"viewBox=\"0 0 24 24\"\n",
              "       width=\"24px\">\n",
              "    <path d=\"M0 0h24v24H0V0z\" fill=\"none\"/>\n",
              "    <path d=\"M18.56 5.44l.94 2.06.94-2.06 2.06-.94-2.06-.94-.94-2.06-.94 2.06-2.06.94zm-11 1L8.5 8.5l.94-2.06 2.06-.94-2.06-.94L8.5 2.5l-.94 2.06-2.06.94zm10 10l.94 2.06.94-2.06 2.06-.94-2.06-.94-.94-2.06-.94 2.06-2.06.94z\"/><path d=\"M17.41 7.96l-1.37-1.37c-.4-.4-.92-.59-1.43-.59-.52 0-1.04.2-1.43.59L10.3 9.45l-7.72 7.72c-.78.78-.78 2.05 0 2.83L4 21.41c.39.39.9.59 1.41.59.51 0 1.02-.2 1.41-.59l7.78-7.78 2.81-2.81c.8-.78.8-2.07 0-2.86zM5.41 20L4 18.59l7.72-7.72 1.47 1.35L5.41 20z\"/>\n",
              "  </svg>\n",
              "      </button>\n",
              "      \n",
              "  <style>\n",
              "    .colab-df-container {\n",
              "      display:flex;\n",
              "      flex-wrap:wrap;\n",
              "      gap: 12px;\n",
              "    }\n",
              "\n",
              "    .colab-df-convert {\n",
              "      background-color: #E8F0FE;\n",
              "      border: none;\n",
              "      border-radius: 50%;\n",
              "      cursor: pointer;\n",
              "      display: none;\n",
              "      fill: #1967D2;\n",
              "      height: 32px;\n",
              "      padding: 0 0 0 0;\n",
              "      width: 32px;\n",
              "    }\n",
              "\n",
              "    .colab-df-convert:hover {\n",
              "      background-color: #E2EBFA;\n",
              "      box-shadow: 0px 1px 2px rgba(60, 64, 67, 0.3), 0px 1px 3px 1px rgba(60, 64, 67, 0.15);\n",
              "      fill: #174EA6;\n",
              "    }\n",
              "\n",
              "    [theme=dark] .colab-df-convert {\n",
              "      background-color: #3B4455;\n",
              "      fill: #D2E3FC;\n",
              "    }\n",
              "\n",
              "    [theme=dark] .colab-df-convert:hover {\n",
              "      background-color: #434B5C;\n",
              "      box-shadow: 0px 1px 3px 1px rgba(0, 0, 0, 0.15);\n",
              "      filter: drop-shadow(0px 1px 2px rgba(0, 0, 0, 0.3));\n",
              "      fill: #FFFFFF;\n",
              "    }\n",
              "  </style>\n",
              "\n",
              "      <script>\n",
              "        const buttonEl =\n",
              "          document.querySelector('#df-39ff1e90-a3ea-42d7-9d5a-2feccf369066 button.colab-df-convert');\n",
              "        buttonEl.style.display =\n",
              "          google.colab.kernel.accessAllowed ? 'block' : 'none';\n",
              "\n",
              "        async function convertToInteractive(key) {\n",
              "          const element = document.querySelector('#df-39ff1e90-a3ea-42d7-9d5a-2feccf369066');\n",
              "          const dataTable =\n",
              "            await google.colab.kernel.invokeFunction('convertToInteractive',\n",
              "                                                     [key], {});\n",
              "          if (!dataTable) return;\n",
              "\n",
              "          const docLinkHtml = 'Like what you see? Visit the ' +\n",
              "            '<a target=\"_blank\" href=https://colab.research.google.com/notebooks/data_table.ipynb>data table notebook</a>'\n",
              "            + ' to learn more about interactive tables.';\n",
              "          element.innerHTML = '';\n",
              "          dataTable['output_type'] = 'display_data';\n",
              "          await google.colab.output.renderOutput(dataTable, element);\n",
              "          const docLink = document.createElement('div');\n",
              "          docLink.innerHTML = docLinkHtml;\n",
              "          element.appendChild(docLink);\n",
              "        }\n",
              "      </script>\n",
              "    </div>\n",
              "  </div>\n",
              "  "
            ]
          },
          "metadata": {},
          "execution_count": 16
        }
      ]
    },
    {
      "cell_type": "markdown",
      "metadata": {
        "id": "XcCJ3-Y4zyd-"
      },
      "source": [
        "## Pandas Functions"
      ]
    },
    {
      "cell_type": "code",
      "metadata": {
        "id": "Pm9l0mngz180"
      },
      "source": [
        "#To run any non-SELECT SQL command\n",
        "def runCMD (DDL):\n",
        "    DBConn= MySQLdb.connect(db='praxisDB')\n",
        "    myCursor = DBConn.cursor()\n",
        "    retcode = myCursor.execute(DDL) \n",
        "    print (retcode)\n",
        "    DBConn.commit()\n",
        "    DBConn.close()\n",
        "\n",
        "#To run any SELECT SQL command\n",
        "def runSELECT (CMD):\n",
        "    DBConn= MySQLdb.connect(db='praxisDB')\n",
        "    df_mysql = pd.read_sql(CMD, con=DBConn)    \n",
        "    DBConn.close()\n",
        "    return df_mysql"
      ],
      "execution_count": 7,
      "outputs": []
    },
    {
      "cell_type": "markdown",
      "metadata": {
        "id": "Gobem9DjzcAu"
      },
      "source": [
        "#Operations with Python"
      ]
    },
    {
      "cell_type": "code",
      "metadata": {
        "colab": {
          "base_uri": "https://localhost:8080/"
        },
        "id": "Kgou663S0OuR",
        "outputId": "f171026c-4480-4bd0-a611-c8991c79e9b2"
      },
      "source": [
        "runCMD(\"DROP TABLE IF EXISTS empl;\")\n",
        "runCMD(\"CREATE TABLE IF NOT EXISTS empl ( \\\n",
        "  EmpID char(6)  NOT NULL, \\\n",
        "  LastName varchar(50) , \\\n",
        "  FirstName varchar(50) , \\\n",
        "  JobDesc varchar(50) , \\\n",
        "  JoinDate date NOT NULL, \\\n",
        "  Salary int(11) , \\\n",
        "  Comm float , \\\n",
        "  DeptID char(2) \\\n",
        ") ;\")"
      ],
      "execution_count": 8,
      "outputs": [
        {
          "output_type": "stream",
          "name": "stdout",
          "text": [
            "0\n",
            "0\n"
          ]
        }
      ]
    },
    {
      "cell_type": "code",
      "metadata": {
        "colab": {
          "base_uri": "https://localhost:8080/"
        },
        "id": "oWGqFBfE0Zeq",
        "outputId": "b74f7208-9e86-4e8b-d274-27fde35d833f"
      },
      "source": [
        "runCMD(\"INSERT INTO empl (EmpID, LastName, FirstName, JobDesc, JoinDate, Salary, Comm, DeptID) \\\n",
        "    VALUES \\\n",
        "\t('742866', 'Bacchan', 'Amitabh', 'Executive', '2003-03-10', 50000, 0.1, '10'), \\\n",
        "\t('349870', 'Mukherjee', 'Rani', 'Manager', '2005-05-04', 25000, 0.06, '40'), \\\n",
        "\t('865477', 'Dikshit', 'Madhuri', 'Clerk', '2002-04-04', 10000, 0.02, '20'), \\\n",
        "\t('239456', 'Khan', 'Shahrukh', 'Manager', '2004-01-03', 30000, 0.07, '20'), \\\n",
        "\t('897889', 'Sehwag', 'Virender', 'Cus_Rep', '2005-01-02', 15000, 0.05, '20'), \\\n",
        "\t('123980', 'Dhoni', 'Mahender', 'Clerk', '2004-10-09', 9000, 0.02, '40'), \\\n",
        "\t('822134', 'Dravid', 'Rahul', 'Sr Manager', '2000-06-04', 40000, 0.08, '30'), \\\n",
        "\t('997445', 'Dalmia', 'Jagmohan', 'Clerk', '2001-07-01', 12000, 0.02, '30'), \\\n",
        "\t('989007', 'Ganguly', 'Sourav', 'Cus_Rep', '2002-01-01', 20000, 0.03, '40'), \\\n",
        "\t('299034', 'Ganesan', 'Rekha', 'Director', '2002-10-10', 60000, 0.11, '10'), \\\n",
        "\t('546223', 'Karthikeyan', 'Narayan', 'Secretary', '2005-12-04', 40000, 0.09, '10'), \\\n",
        "\t('223112', 'Mirza', 'Sania', 'Cus_Rep', '2001-11-19', 25000, 0.04, '30');\"\n",
        "    )"
      ],
      "execution_count": 9,
      "outputs": [
        {
          "output_type": "stream",
          "name": "stdout",
          "text": [
            "12\n"
          ]
        }
      ]
    },
    {
      "cell_type": "code",
      "metadata": {
        "colab": {
          "base_uri": "https://localhost:8080/"
        },
        "id": "aZH3UpEc0fCj",
        "outputId": "64145cb4-22e3-455d-f4e4-b4d4fa619200"
      },
      "source": [
        "runCMD(\"DROP TABLE IF EXISTS dept;\")\n",
        "runCMD(\"CREATE TABLE dept ( \\\n",
        "  DeptID char(2)  NOT NULL, \\\n",
        "  DeptName varchar(50) , \\\n",
        "  ManagerID char(6) , \\\n",
        "  Location varchar(50) \\\n",
        " );\")"
      ],
      "execution_count": 10,
      "outputs": [
        {
          "output_type": "stream",
          "name": "stdout",
          "text": [
            "0\n",
            "0\n"
          ]
        }
      ]
    },
    {
      "cell_type": "code",
      "metadata": {
        "colab": {
          "base_uri": "https://localhost:8080/"
        },
        "id": "-eX44wQM0jkL",
        "outputId": "4b60ece8-8d00-4299-c6e9-073ad6fbb82f"
      },
      "source": [
        "runCMD(\"INSERT INTO dept (DeptID, DeptName, ManagerID, Location) VALUES \\\n",
        "\t('10', 'Corporate', '299034', 'Calcutta'), \\\n",
        "\t('20', 'Sales', '239456', 'Calcutta'), \\\n",
        "\t('30', 'Accounts', '822134', 'Calcutta'), \\\n",
        "\t('40', 'Production', '349870', 'Bombay');\")"
      ],
      "execution_count": 11,
      "outputs": [
        {
          "output_type": "stream",
          "name": "stdout",
          "text": [
            "4\n"
          ]
        }
      ]
    },
    {
      "cell_type": "code",
      "metadata": {
        "colab": {
          "base_uri": "https://localhost:8080/",
          "height": 426
        },
        "id": "aMCZOPyH0sNC",
        "outputId": "dfc82ce7-36af-44db-e4ee-cb71b9203d85"
      },
      "source": [
        "runSELECT('Select * from empl;')"
      ],
      "execution_count": 12,
      "outputs": [
        {
          "output_type": "execute_result",
          "data": {
            "text/plain": [
              "     EmpID     LastName FirstName     JobDesc    JoinDate  Salary  Comm DeptID\n",
              "0   742866      Bacchan   Amitabh   Executive  2003-03-10   50000  0.10     10\n",
              "1   349870    Mukherjee      Rani     Manager  2005-05-04   25000  0.06     40\n",
              "2   865477      Dikshit   Madhuri       Clerk  2002-04-04   10000  0.02     20\n",
              "3   239456         Khan  Shahrukh     Manager  2004-01-03   30000  0.07     20\n",
              "4   897889       Sehwag  Virender     Cus_Rep  2005-01-02   15000  0.05     20\n",
              "5   123980        Dhoni  Mahender       Clerk  2004-10-09    9000  0.02     40\n",
              "6   822134       Dravid     Rahul  Sr Manager  2000-06-04   40000  0.08     30\n",
              "7   997445       Dalmia  Jagmohan       Clerk  2001-07-01   12000  0.02     30\n",
              "8   989007      Ganguly    Sourav     Cus_Rep  2002-01-01   20000  0.03     40\n",
              "9   299034      Ganesan     Rekha    Director  2002-10-10   60000  0.11     10\n",
              "10  546223  Karthikeyan   Narayan   Secretary  2005-12-04   40000  0.09     10\n",
              "11  223112        Mirza     Sania     Cus_Rep  2001-11-19   25000  0.04     30"
            ],
            "text/html": [
              "\n",
              "  <div id=\"df-5e163111-3a7b-4927-8b74-297676ce56bd\">\n",
              "    <div class=\"colab-df-container\">\n",
              "      <div>\n",
              "<style scoped>\n",
              "    .dataframe tbody tr th:only-of-type {\n",
              "        vertical-align: middle;\n",
              "    }\n",
              "\n",
              "    .dataframe tbody tr th {\n",
              "        vertical-align: top;\n",
              "    }\n",
              "\n",
              "    .dataframe thead th {\n",
              "        text-align: right;\n",
              "    }\n",
              "</style>\n",
              "<table border=\"1\" class=\"dataframe\">\n",
              "  <thead>\n",
              "    <tr style=\"text-align: right;\">\n",
              "      <th></th>\n",
              "      <th>EmpID</th>\n",
              "      <th>LastName</th>\n",
              "      <th>FirstName</th>\n",
              "      <th>JobDesc</th>\n",
              "      <th>JoinDate</th>\n",
              "      <th>Salary</th>\n",
              "      <th>Comm</th>\n",
              "      <th>DeptID</th>\n",
              "    </tr>\n",
              "  </thead>\n",
              "  <tbody>\n",
              "    <tr>\n",
              "      <th>0</th>\n",
              "      <td>742866</td>\n",
              "      <td>Bacchan</td>\n",
              "      <td>Amitabh</td>\n",
              "      <td>Executive</td>\n",
              "      <td>2003-03-10</td>\n",
              "      <td>50000</td>\n",
              "      <td>0.10</td>\n",
              "      <td>10</td>\n",
              "    </tr>\n",
              "    <tr>\n",
              "      <th>1</th>\n",
              "      <td>349870</td>\n",
              "      <td>Mukherjee</td>\n",
              "      <td>Rani</td>\n",
              "      <td>Manager</td>\n",
              "      <td>2005-05-04</td>\n",
              "      <td>25000</td>\n",
              "      <td>0.06</td>\n",
              "      <td>40</td>\n",
              "    </tr>\n",
              "    <tr>\n",
              "      <th>2</th>\n",
              "      <td>865477</td>\n",
              "      <td>Dikshit</td>\n",
              "      <td>Madhuri</td>\n",
              "      <td>Clerk</td>\n",
              "      <td>2002-04-04</td>\n",
              "      <td>10000</td>\n",
              "      <td>0.02</td>\n",
              "      <td>20</td>\n",
              "    </tr>\n",
              "    <tr>\n",
              "      <th>3</th>\n",
              "      <td>239456</td>\n",
              "      <td>Khan</td>\n",
              "      <td>Shahrukh</td>\n",
              "      <td>Manager</td>\n",
              "      <td>2004-01-03</td>\n",
              "      <td>30000</td>\n",
              "      <td>0.07</td>\n",
              "      <td>20</td>\n",
              "    </tr>\n",
              "    <tr>\n",
              "      <th>4</th>\n",
              "      <td>897889</td>\n",
              "      <td>Sehwag</td>\n",
              "      <td>Virender</td>\n",
              "      <td>Cus_Rep</td>\n",
              "      <td>2005-01-02</td>\n",
              "      <td>15000</td>\n",
              "      <td>0.05</td>\n",
              "      <td>20</td>\n",
              "    </tr>\n",
              "    <tr>\n",
              "      <th>5</th>\n",
              "      <td>123980</td>\n",
              "      <td>Dhoni</td>\n",
              "      <td>Mahender</td>\n",
              "      <td>Clerk</td>\n",
              "      <td>2004-10-09</td>\n",
              "      <td>9000</td>\n",
              "      <td>0.02</td>\n",
              "      <td>40</td>\n",
              "    </tr>\n",
              "    <tr>\n",
              "      <th>6</th>\n",
              "      <td>822134</td>\n",
              "      <td>Dravid</td>\n",
              "      <td>Rahul</td>\n",
              "      <td>Sr Manager</td>\n",
              "      <td>2000-06-04</td>\n",
              "      <td>40000</td>\n",
              "      <td>0.08</td>\n",
              "      <td>30</td>\n",
              "    </tr>\n",
              "    <tr>\n",
              "      <th>7</th>\n",
              "      <td>997445</td>\n",
              "      <td>Dalmia</td>\n",
              "      <td>Jagmohan</td>\n",
              "      <td>Clerk</td>\n",
              "      <td>2001-07-01</td>\n",
              "      <td>12000</td>\n",
              "      <td>0.02</td>\n",
              "      <td>30</td>\n",
              "    </tr>\n",
              "    <tr>\n",
              "      <th>8</th>\n",
              "      <td>989007</td>\n",
              "      <td>Ganguly</td>\n",
              "      <td>Sourav</td>\n",
              "      <td>Cus_Rep</td>\n",
              "      <td>2002-01-01</td>\n",
              "      <td>20000</td>\n",
              "      <td>0.03</td>\n",
              "      <td>40</td>\n",
              "    </tr>\n",
              "    <tr>\n",
              "      <th>9</th>\n",
              "      <td>299034</td>\n",
              "      <td>Ganesan</td>\n",
              "      <td>Rekha</td>\n",
              "      <td>Director</td>\n",
              "      <td>2002-10-10</td>\n",
              "      <td>60000</td>\n",
              "      <td>0.11</td>\n",
              "      <td>10</td>\n",
              "    </tr>\n",
              "    <tr>\n",
              "      <th>10</th>\n",
              "      <td>546223</td>\n",
              "      <td>Karthikeyan</td>\n",
              "      <td>Narayan</td>\n",
              "      <td>Secretary</td>\n",
              "      <td>2005-12-04</td>\n",
              "      <td>40000</td>\n",
              "      <td>0.09</td>\n",
              "      <td>10</td>\n",
              "    </tr>\n",
              "    <tr>\n",
              "      <th>11</th>\n",
              "      <td>223112</td>\n",
              "      <td>Mirza</td>\n",
              "      <td>Sania</td>\n",
              "      <td>Cus_Rep</td>\n",
              "      <td>2001-11-19</td>\n",
              "      <td>25000</td>\n",
              "      <td>0.04</td>\n",
              "      <td>30</td>\n",
              "    </tr>\n",
              "  </tbody>\n",
              "</table>\n",
              "</div>\n",
              "      <button class=\"colab-df-convert\" onclick=\"convertToInteractive('df-5e163111-3a7b-4927-8b74-297676ce56bd')\"\n",
              "              title=\"Convert this dataframe to an interactive table.\"\n",
              "              style=\"display:none;\">\n",
              "        \n",
              "  <svg xmlns=\"http://www.w3.org/2000/svg\" height=\"24px\"viewBox=\"0 0 24 24\"\n",
              "       width=\"24px\">\n",
              "    <path d=\"M0 0h24v24H0V0z\" fill=\"none\"/>\n",
              "    <path d=\"M18.56 5.44l.94 2.06.94-2.06 2.06-.94-2.06-.94-.94-2.06-.94 2.06-2.06.94zm-11 1L8.5 8.5l.94-2.06 2.06-.94-2.06-.94L8.5 2.5l-.94 2.06-2.06.94zm10 10l.94 2.06.94-2.06 2.06-.94-2.06-.94-.94-2.06-.94 2.06-2.06.94z\"/><path d=\"M17.41 7.96l-1.37-1.37c-.4-.4-.92-.59-1.43-.59-.52 0-1.04.2-1.43.59L10.3 9.45l-7.72 7.72c-.78.78-.78 2.05 0 2.83L4 21.41c.39.39.9.59 1.41.59.51 0 1.02-.2 1.41-.59l7.78-7.78 2.81-2.81c.8-.78.8-2.07 0-2.86zM5.41 20L4 18.59l7.72-7.72 1.47 1.35L5.41 20z\"/>\n",
              "  </svg>\n",
              "      </button>\n",
              "      \n",
              "  <style>\n",
              "    .colab-df-container {\n",
              "      display:flex;\n",
              "      flex-wrap:wrap;\n",
              "      gap: 12px;\n",
              "    }\n",
              "\n",
              "    .colab-df-convert {\n",
              "      background-color: #E8F0FE;\n",
              "      border: none;\n",
              "      border-radius: 50%;\n",
              "      cursor: pointer;\n",
              "      display: none;\n",
              "      fill: #1967D2;\n",
              "      height: 32px;\n",
              "      padding: 0 0 0 0;\n",
              "      width: 32px;\n",
              "    }\n",
              "\n",
              "    .colab-df-convert:hover {\n",
              "      background-color: #E2EBFA;\n",
              "      box-shadow: 0px 1px 2px rgba(60, 64, 67, 0.3), 0px 1px 3px 1px rgba(60, 64, 67, 0.15);\n",
              "      fill: #174EA6;\n",
              "    }\n",
              "\n",
              "    [theme=dark] .colab-df-convert {\n",
              "      background-color: #3B4455;\n",
              "      fill: #D2E3FC;\n",
              "    }\n",
              "\n",
              "    [theme=dark] .colab-df-convert:hover {\n",
              "      background-color: #434B5C;\n",
              "      box-shadow: 0px 1px 3px 1px rgba(0, 0, 0, 0.15);\n",
              "      filter: drop-shadow(0px 1px 2px rgba(0, 0, 0, 0.3));\n",
              "      fill: #FFFFFF;\n",
              "    }\n",
              "  </style>\n",
              "\n",
              "      <script>\n",
              "        const buttonEl =\n",
              "          document.querySelector('#df-5e163111-3a7b-4927-8b74-297676ce56bd button.colab-df-convert');\n",
              "        buttonEl.style.display =\n",
              "          google.colab.kernel.accessAllowed ? 'block' : 'none';\n",
              "\n",
              "        async function convertToInteractive(key) {\n",
              "          const element = document.querySelector('#df-5e163111-3a7b-4927-8b74-297676ce56bd');\n",
              "          const dataTable =\n",
              "            await google.colab.kernel.invokeFunction('convertToInteractive',\n",
              "                                                     [key], {});\n",
              "          if (!dataTable) return;\n",
              "\n",
              "          const docLinkHtml = 'Like what you see? Visit the ' +\n",
              "            '<a target=\"_blank\" href=https://colab.research.google.com/notebooks/data_table.ipynb>data table notebook</a>'\n",
              "            + ' to learn more about interactive tables.';\n",
              "          element.innerHTML = '';\n",
              "          dataTable['output_type'] = 'display_data';\n",
              "          await google.colab.output.renderOutput(dataTable, element);\n",
              "          const docLink = document.createElement('div');\n",
              "          docLink.innerHTML = docLinkHtml;\n",
              "          element.appendChild(docLink);\n",
              "        }\n",
              "      </script>\n",
              "    </div>\n",
              "  </div>\n",
              "  "
            ]
          },
          "metadata": {},
          "execution_count": 12
        }
      ]
    },
    {
      "cell_type": "code",
      "metadata": {
        "colab": {
          "base_uri": "https://localhost:8080/",
          "height": 175
        },
        "id": "fklWDqRX0yeP",
        "outputId": "bf6e08e1-abfa-43e1-b797-6ab5b6fb483d"
      },
      "source": [
        "runSELECT('Select * from dept;')"
      ],
      "execution_count": null,
      "outputs": [
        {
          "output_type": "execute_result",
          "data": {
            "text/plain": [
              "  DeptID    DeptName ManagerID  Location\n",
              "0     10   Corporate    299034  Calcutta\n",
              "1     20       Sales    239456  Calcutta\n",
              "2     30    Accounts    822134  Calcutta\n",
              "3     40  Production    349870    Bombay"
            ],
            "text/html": [
              "\n",
              "  <div id=\"df-04d44146-59ef-481c-bee5-f1adccb68b33\">\n",
              "    <div class=\"colab-df-container\">\n",
              "      <div>\n",
              "<style scoped>\n",
              "    .dataframe tbody tr th:only-of-type {\n",
              "        vertical-align: middle;\n",
              "    }\n",
              "\n",
              "    .dataframe tbody tr th {\n",
              "        vertical-align: top;\n",
              "    }\n",
              "\n",
              "    .dataframe thead th {\n",
              "        text-align: right;\n",
              "    }\n",
              "</style>\n",
              "<table border=\"1\" class=\"dataframe\">\n",
              "  <thead>\n",
              "    <tr style=\"text-align: right;\">\n",
              "      <th></th>\n",
              "      <th>DeptID</th>\n",
              "      <th>DeptName</th>\n",
              "      <th>ManagerID</th>\n",
              "      <th>Location</th>\n",
              "    </tr>\n",
              "  </thead>\n",
              "  <tbody>\n",
              "    <tr>\n",
              "      <th>0</th>\n",
              "      <td>10</td>\n",
              "      <td>Corporate</td>\n",
              "      <td>299034</td>\n",
              "      <td>Calcutta</td>\n",
              "    </tr>\n",
              "    <tr>\n",
              "      <th>1</th>\n",
              "      <td>20</td>\n",
              "      <td>Sales</td>\n",
              "      <td>239456</td>\n",
              "      <td>Calcutta</td>\n",
              "    </tr>\n",
              "    <tr>\n",
              "      <th>2</th>\n",
              "      <td>30</td>\n",
              "      <td>Accounts</td>\n",
              "      <td>822134</td>\n",
              "      <td>Calcutta</td>\n",
              "    </tr>\n",
              "    <tr>\n",
              "      <th>3</th>\n",
              "      <td>40</td>\n",
              "      <td>Production</td>\n",
              "      <td>349870</td>\n",
              "      <td>Bombay</td>\n",
              "    </tr>\n",
              "  </tbody>\n",
              "</table>\n",
              "</div>\n",
              "      <button class=\"colab-df-convert\" onclick=\"convertToInteractive('df-04d44146-59ef-481c-bee5-f1adccb68b33')\"\n",
              "              title=\"Convert this dataframe to an interactive table.\"\n",
              "              style=\"display:none;\">\n",
              "        \n",
              "  <svg xmlns=\"http://www.w3.org/2000/svg\" height=\"24px\"viewBox=\"0 0 24 24\"\n",
              "       width=\"24px\">\n",
              "    <path d=\"M0 0h24v24H0V0z\" fill=\"none\"/>\n",
              "    <path d=\"M18.56 5.44l.94 2.06.94-2.06 2.06-.94-2.06-.94-.94-2.06-.94 2.06-2.06.94zm-11 1L8.5 8.5l.94-2.06 2.06-.94-2.06-.94L8.5 2.5l-.94 2.06-2.06.94zm10 10l.94 2.06.94-2.06 2.06-.94-2.06-.94-.94-2.06-.94 2.06-2.06.94z\"/><path d=\"M17.41 7.96l-1.37-1.37c-.4-.4-.92-.59-1.43-.59-.52 0-1.04.2-1.43.59L10.3 9.45l-7.72 7.72c-.78.78-.78 2.05 0 2.83L4 21.41c.39.39.9.59 1.41.59.51 0 1.02-.2 1.41-.59l7.78-7.78 2.81-2.81c.8-.78.8-2.07 0-2.86zM5.41 20L4 18.59l7.72-7.72 1.47 1.35L5.41 20z\"/>\n",
              "  </svg>\n",
              "      </button>\n",
              "      \n",
              "  <style>\n",
              "    .colab-df-container {\n",
              "      display:flex;\n",
              "      flex-wrap:wrap;\n",
              "      gap: 12px;\n",
              "    }\n",
              "\n",
              "    .colab-df-convert {\n",
              "      background-color: #E8F0FE;\n",
              "      border: none;\n",
              "      border-radius: 50%;\n",
              "      cursor: pointer;\n",
              "      display: none;\n",
              "      fill: #1967D2;\n",
              "      height: 32px;\n",
              "      padding: 0 0 0 0;\n",
              "      width: 32px;\n",
              "    }\n",
              "\n",
              "    .colab-df-convert:hover {\n",
              "      background-color: #E2EBFA;\n",
              "      box-shadow: 0px 1px 2px rgba(60, 64, 67, 0.3), 0px 1px 3px 1px rgba(60, 64, 67, 0.15);\n",
              "      fill: #174EA6;\n",
              "    }\n",
              "\n",
              "    [theme=dark] .colab-df-convert {\n",
              "      background-color: #3B4455;\n",
              "      fill: #D2E3FC;\n",
              "    }\n",
              "\n",
              "    [theme=dark] .colab-df-convert:hover {\n",
              "      background-color: #434B5C;\n",
              "      box-shadow: 0px 1px 3px 1px rgba(0, 0, 0, 0.15);\n",
              "      filter: drop-shadow(0px 1px 2px rgba(0, 0, 0, 0.3));\n",
              "      fill: #FFFFFF;\n",
              "    }\n",
              "  </style>\n",
              "\n",
              "      <script>\n",
              "        const buttonEl =\n",
              "          document.querySelector('#df-04d44146-59ef-481c-bee5-f1adccb68b33 button.colab-df-convert');\n",
              "        buttonEl.style.display =\n",
              "          google.colab.kernel.accessAllowed ? 'block' : 'none';\n",
              "\n",
              "        async function convertToInteractive(key) {\n",
              "          const element = document.querySelector('#df-04d44146-59ef-481c-bee5-f1adccb68b33');\n",
              "          const dataTable =\n",
              "            await google.colab.kernel.invokeFunction('convertToInteractive',\n",
              "                                                     [key], {});\n",
              "          if (!dataTable) return;\n",
              "\n",
              "          const docLinkHtml = 'Like what you see? Visit the ' +\n",
              "            '<a target=\"_blank\" href=https://colab.research.google.com/notebooks/data_table.ipynb>data table notebook</a>'\n",
              "            + ' to learn more about interactive tables.';\n",
              "          element.innerHTML = '';\n",
              "          dataTable['output_type'] = 'display_data';\n",
              "          await google.colab.output.renderOutput(dataTable, element);\n",
              "          const docLink = document.createElement('div');\n",
              "          docLink.innerHTML = docLinkHtml;\n",
              "          element.appendChild(docLink);\n",
              "        }\n",
              "      </script>\n",
              "    </div>\n",
              "  </div>\n",
              "  "
            ]
          },
          "metadata": {},
          "execution_count": 25
        }
      ]
    },
    {
      "cell_type": "code",
      "metadata": {
        "colab": {
          "base_uri": "https://localhost:8080/",
          "height": 112
        },
        "id": "Ye5pyKqG0-04",
        "outputId": "34f17cb2-8146-4ac0-92ab-9b0ad8f33539"
      },
      "source": [
        "DBConn = MySQLdb.connect(db='praxisDB')\n",
        "#df_mysql = pd.read_sql('select * from emp2;', con=con_mysql)  \n",
        "pd.read_sql('show tables', con=DBConn)    \n",
        "#print ('loaded dataframe from MySQL. records:', len(df_mysql))\n",
        "#DBConn.close()"
      ],
      "execution_count": null,
      "outputs": [
        {
          "output_type": "execute_result",
          "data": {
            "text/plain": [
              "  Tables_in_praxisDB\n",
              "0               dept\n",
              "1               empl"
            ],
            "text/html": [
              "\n",
              "  <div id=\"df-74a6eb11-4189-46c3-b619-f7162f25db43\">\n",
              "    <div class=\"colab-df-container\">\n",
              "      <div>\n",
              "<style scoped>\n",
              "    .dataframe tbody tr th:only-of-type {\n",
              "        vertical-align: middle;\n",
              "    }\n",
              "\n",
              "    .dataframe tbody tr th {\n",
              "        vertical-align: top;\n",
              "    }\n",
              "\n",
              "    .dataframe thead th {\n",
              "        text-align: right;\n",
              "    }\n",
              "</style>\n",
              "<table border=\"1\" class=\"dataframe\">\n",
              "  <thead>\n",
              "    <tr style=\"text-align: right;\">\n",
              "      <th></th>\n",
              "      <th>Tables_in_praxisDB</th>\n",
              "    </tr>\n",
              "  </thead>\n",
              "  <tbody>\n",
              "    <tr>\n",
              "      <th>0</th>\n",
              "      <td>dept</td>\n",
              "    </tr>\n",
              "    <tr>\n",
              "      <th>1</th>\n",
              "      <td>empl</td>\n",
              "    </tr>\n",
              "  </tbody>\n",
              "</table>\n",
              "</div>\n",
              "      <button class=\"colab-df-convert\" onclick=\"convertToInteractive('df-74a6eb11-4189-46c3-b619-f7162f25db43')\"\n",
              "              title=\"Convert this dataframe to an interactive table.\"\n",
              "              style=\"display:none;\">\n",
              "        \n",
              "  <svg xmlns=\"http://www.w3.org/2000/svg\" height=\"24px\"viewBox=\"0 0 24 24\"\n",
              "       width=\"24px\">\n",
              "    <path d=\"M0 0h24v24H0V0z\" fill=\"none\"/>\n",
              "    <path d=\"M18.56 5.44l.94 2.06.94-2.06 2.06-.94-2.06-.94-.94-2.06-.94 2.06-2.06.94zm-11 1L8.5 8.5l.94-2.06 2.06-.94-2.06-.94L8.5 2.5l-.94 2.06-2.06.94zm10 10l.94 2.06.94-2.06 2.06-.94-2.06-.94-.94-2.06-.94 2.06-2.06.94z\"/><path d=\"M17.41 7.96l-1.37-1.37c-.4-.4-.92-.59-1.43-.59-.52 0-1.04.2-1.43.59L10.3 9.45l-7.72 7.72c-.78.78-.78 2.05 0 2.83L4 21.41c.39.39.9.59 1.41.59.51 0 1.02-.2 1.41-.59l7.78-7.78 2.81-2.81c.8-.78.8-2.07 0-2.86zM5.41 20L4 18.59l7.72-7.72 1.47 1.35L5.41 20z\"/>\n",
              "  </svg>\n",
              "      </button>\n",
              "      \n",
              "  <style>\n",
              "    .colab-df-container {\n",
              "      display:flex;\n",
              "      flex-wrap:wrap;\n",
              "      gap: 12px;\n",
              "    }\n",
              "\n",
              "    .colab-df-convert {\n",
              "      background-color: #E8F0FE;\n",
              "      border: none;\n",
              "      border-radius: 50%;\n",
              "      cursor: pointer;\n",
              "      display: none;\n",
              "      fill: #1967D2;\n",
              "      height: 32px;\n",
              "      padding: 0 0 0 0;\n",
              "      width: 32px;\n",
              "    }\n",
              "\n",
              "    .colab-df-convert:hover {\n",
              "      background-color: #E2EBFA;\n",
              "      box-shadow: 0px 1px 2px rgba(60, 64, 67, 0.3), 0px 1px 3px 1px rgba(60, 64, 67, 0.15);\n",
              "      fill: #174EA6;\n",
              "    }\n",
              "\n",
              "    [theme=dark] .colab-df-convert {\n",
              "      background-color: #3B4455;\n",
              "      fill: #D2E3FC;\n",
              "    }\n",
              "\n",
              "    [theme=dark] .colab-df-convert:hover {\n",
              "      background-color: #434B5C;\n",
              "      box-shadow: 0px 1px 3px 1px rgba(0, 0, 0, 0.15);\n",
              "      filter: drop-shadow(0px 1px 2px rgba(0, 0, 0, 0.3));\n",
              "      fill: #FFFFFF;\n",
              "    }\n",
              "  </style>\n",
              "\n",
              "      <script>\n",
              "        const buttonEl =\n",
              "          document.querySelector('#df-74a6eb11-4189-46c3-b619-f7162f25db43 button.colab-df-convert');\n",
              "        buttonEl.style.display =\n",
              "          google.colab.kernel.accessAllowed ? 'block' : 'none';\n",
              "\n",
              "        async function convertToInteractive(key) {\n",
              "          const element = document.querySelector('#df-74a6eb11-4189-46c3-b619-f7162f25db43');\n",
              "          const dataTable =\n",
              "            await google.colab.kernel.invokeFunction('convertToInteractive',\n",
              "                                                     [key], {});\n",
              "          if (!dataTable) return;\n",
              "\n",
              "          const docLinkHtml = 'Like what you see? Visit the ' +\n",
              "            '<a target=\"_blank\" href=https://colab.research.google.com/notebooks/data_table.ipynb>data table notebook</a>'\n",
              "            + ' to learn more about interactive tables.';\n",
              "          element.innerHTML = '';\n",
              "          dataTable['output_type'] = 'display_data';\n",
              "          await google.colab.output.renderOutput(dataTable, element);\n",
              "          const docLink = document.createElement('div');\n",
              "          docLink.innerHTML = docLinkHtml;\n",
              "          element.appendChild(docLink);\n",
              "        }\n",
              "      </script>\n",
              "    </div>\n",
              "  </div>\n",
              "  "
            ]
          },
          "metadata": {},
          "execution_count": 26
        }
      ]
    },
    {
      "cell_type": "markdown",
      "source": [
        "#Modified  Tables "
      ],
      "metadata": {
        "id": "Myrh-C8mOuxX"
      }
    },
    {
      "cell_type": "markdown",
      "source": [
        "## Outer Join"
      ],
      "metadata": {
        "id": "g-9ZBKGyPn94"
      }
    },
    {
      "cell_type": "code",
      "source": [
        "runCMD(\"DROP TABLE IF EXISTS dept2;\")\n",
        "runCMD(\"CREATE TABLE dept2 ( \\\n",
        "  DeptID char(2)  NOT NULL, \\\n",
        "  DeptName varchar(50) , \\\n",
        "  ManagerID char(6) , \\\n",
        "  Location varchar(50) \\\n",
        " );\")\n",
        "runCMD(\"INSERT INTO dept2 (DeptID, DeptName, ManagerID, Location) VALUES \\\n",
        "\t('10', 'Corporate', '299034', 'Calcutta'), \\\n",
        "\t('20', 'Sales', '239456', 'Calcutta'), \\\n",
        "\t('30', 'Accounts', '822134', 'Calcutta'), \\\n",
        "\t('70', 'Production', '349870', 'Bombay');\")\n",
        "# ----------------------------------------------------------------\n",
        "runCMD(\"DROP TABLE IF EXISTS emp2;\")\n",
        "runCMD(\"CREATE TABLE IF NOT EXISTS emp2 ( \\\n",
        "  EmpID char(6)  NOT NULL, \\\n",
        "  LastName varchar(50) , \\\n",
        "  FirstName varchar(50) , \\\n",
        "  JobDesc varchar(50) , \\\n",
        "  JoinDate date NOT NULL, \\\n",
        "  Salary int(11) , \\\n",
        "  Comm float , \\\n",
        "  DeptID char(2) \\\n",
        ") ;\")\n",
        "runCMD(\"INSERT INTO emp2 (EmpID, LastName, FirstName, JobDesc, JoinDate, Salary, Comm, DeptID) VALUES \\\n",
        "\t('742866', 'Bacchan', 'Amitabh', 'Executive', '2003-03-10', 50000, 0.10, '10'), \\\n",
        "\t('349870', 'Mukherjee', 'Rani', 'Manager', '2005-05-04', 25000, 0.06, '40'), \\\n",
        "\t('865477', 'Dikshit', 'Madhuri', 'Clerk', '2002-04-04', 10000, 0.02, '20'), \\\n",
        "\t('239456', 'Khan', 'Shahrukh', 'Manager', '2004-01-03', 30000, 0.07, '20'), \\\n",
        "\t('897889', 'Sehwag', 'Virender', 'Cus_Rep', '2005-01-02', 15000, 0.05, '20'), \\\n",
        "\t('123980', 'Dhoni', 'Mahender', 'Clerk', '2004-10-09', 9000, 0.02, '40'), \\\n",
        "\t('822134', 'Dravid', 'Rahul', 'Sr Manager', '2000-06-04', 40000, 0.08, '30'), \\\n",
        "\t('997445', 'Dalmia', 'Jagmohan', 'Clerk', '2001-07-01', 12000, 0.02, '30'), \\\n",
        "\t('989007', 'Ganguly', 'Sourav', 'Cus_Rep', '2002-01-01', 20000, 0.03, '40'), \\\n",
        "\t('299034', 'Ganesan', 'Rekha', 'Director', '2002-10-10', 60000, 0.11, '10'), \\\n",
        "\t('546223', 'Karthikeyan', 'Narayan', 'Secretary', '2005-12-04', 40000, 0.09, '50'), \\\n",
        "\t('223112', 'Mirza', 'Sania', 'Cus_Rep', '2001-11-19', 25000, 0.04, '30');\")"
      ],
      "metadata": {
        "id": "iJZOjCk5O1FL",
        "outputId": "c3109667-73b1-4f92-839d-896da9bbfdd6",
        "colab": {
          "base_uri": "https://localhost:8080/"
        }
      },
      "execution_count": 13,
      "outputs": [
        {
          "output_type": "stream",
          "name": "stdout",
          "text": [
            "0\n",
            "0\n",
            "4\n",
            "0\n",
            "0\n",
            "12\n"
          ]
        }
      ]
    },
    {
      "cell_type": "markdown",
      "source": [
        "## Self Join"
      ],
      "metadata": {
        "id": "nDP46LAfPiEv"
      }
    },
    {
      "cell_type": "code",
      "source": [
        "cmd = \"DROP TABLE IF EXISTS `emp3`;\"\n",
        "runCMD(cmd)\n",
        "\n",
        "cmd = \"CREATE TABLE IF NOT EXISTS `emp3` ( \\\n",
        "  `EmpID` char(6) NOT NULL,\\\n",
        "  `LastName` varchar(11) DEFAULT NULL,\\\n",
        "  `FirstName` varchar(8) DEFAULT NULL,\\\n",
        "  `JobDesc` varchar(10) DEFAULT NULL,\\\n",
        "  `JoinDate` date DEFAULT NULL,\\\n",
        "  `Salary` int(5) DEFAULT NULL,\\\n",
        "  `Comm` decimal(3,2) DEFAULT NULL,\\\n",
        "  `DeptID` char(2) DEFAULT NULL,\\\n",
        "  `ManagerID` char(6) DEFAULT NULL\\\n",
        ") \"\n",
        "\n",
        "runCMD(cmd)\n",
        "\n",
        "cmd = \"INSERT INTO `emp3` (`EmpID`, `LastName`, `FirstName`, `JobDesc`, `JoinDate`, `Salary`, `Comm`, `DeptID`, `ManagerID`) VALUES \\\n",
        "\t('742866', 'Bacchan', 'Amitabh', 'Executive', '2003-03-10', 50000, 0.10, '10', NULL), \\\n",
        "\t('349870', 'Mukherjee', 'Rani', 'Manager', '2005-05-04', 25000, 0.06, '40', '742866'), \\\n",
        "\t('865477', 'Dikshit', 'Madhuri', 'Clerk', '2002-04-04', 10000, 0.02, '20', '239456'), \\\n",
        "\t('239456', 'Khan', 'Shahrukh', 'Manager', '2004-01-03', 30000, 0.07, '20', '742866'), \\\n",
        "\t('897889', 'Sehwag', 'Virender', 'Cus_Rep', '2005-01-02', 15000, 0.05, '20', '239456'), \\\n",
        "\t('123980', 'Dhoni', 'Mahender', 'Clerk', '2004-10-09', 9000, 0.02, '40', '349870'), \\\n",
        "\t('822134', 'Dravid', 'Rahul', 'Sr Manager', '2000-06-04', 40000, 0.08, '30', '742866'), \\\n",
        "\t('997445', 'Dalmia', 'Jagmohan', 'Clerk', '2001-07-01', 12000, 0.02, '30', '822134'), \\\n",
        "\t('989007', 'Ganguly', 'Sourav', 'Cus_Rep', '2002-01-01', 20000, 0.03, '40', '299034'), \\\n",
        "\t('299034', 'Ganesan', 'Rekha', 'Director', '2002-10-10', 60000, 0.11, '10', '742866'), \\\n",
        "\t('546223', 'Karthikeyan', 'Narayan', 'Secretary', '2005-12-04', 40000, 0.09, '10', '299034'), \\\n",
        "\t('223112', 'Mirza', 'Sania', 'Cus_Rep', '2001-11-19', 25000, 0.04, '30', '822134'); \\\n",
        "\"\n",
        "runCMD(cmd)"
      ],
      "metadata": {
        "id": "QHItz6ATPkwg",
        "outputId": "6211c95a-ffbd-4e38-8ff3-94b6ba12d9a8",
        "colab": {
          "base_uri": "https://localhost:8080/"
        }
      },
      "execution_count": 14,
      "outputs": [
        {
          "output_type": "stream",
          "name": "stdout",
          "text": [
            "0\n",
            "0\n",
            "12\n"
          ]
        }
      ]
    },
    {
      "cell_type": "markdown",
      "metadata": {
        "id": "iWzgRTt9JR4u"
      },
      "source": [
        "#Chronobooks <br>\n",
        "![alt text](https://1.bp.blogspot.com/-lTiYBkU2qbU/X1er__fvnkI/AAAAAAAAjtE/GhDR3OEGJr4NG43fZPodrQD5kbxtnKebgCLcBGAsYHQ/s600/Footer2020-600x200.png)<hr>\n",
        "Chronotantra and Chronoyantra are two science fiction novels that explore the collapse of human civilisation on Earth and then its rebirth and reincarnation both on Earth as well as on the distant worlds of Mars, Titan and Enceladus. But is it the human civilisation that is being reborn? Or is it some other sentience that is revealing itself. \n",
        "If you have an interest in AI and found this material useful, you may consider buying these novels, in paperback or kindle, from [http://bit.ly/chronobooks](http://bit.ly/chronobooks)"
      ]
    }
  ]
}