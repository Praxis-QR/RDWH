{
  "nbformat": 4,
  "nbformat_minor": 0,
  "metadata": {
    "colab": {
      "provenance": [],
      "include_colab_link": true
    },
    "kernelspec": {
      "name": "python3",
      "display_name": "Python 3"
    }
  },
  "cells": [
    {
      "cell_type": "markdown",
      "metadata": {
        "id": "view-in-github",
        "colab_type": "text"
      },
      "source": [
        "<a href=\"https://colab.research.google.com/github/Praxis-QR/RDWH/blob/main/DataWarehousing_with_MySQL.ipynb\" target=\"_parent\"><img src=\"https://colab.research.google.com/assets/colab-badge.svg\" alt=\"Open In Colab\"/></a>"
      ]
    },
    {
      "cell_type": "markdown",
      "metadata": {
        "id": "JLS_gJa1nzro"
      },
      "source": [
        "![alt text](https://github.com/Praxis-QR/RDWH/raw/main/images/YantraJaalBanner.png)<br>\n",
        "\n",
        "\n",
        "<hr>\n",
        "\n",
        "[Prithwis Mukerjee](http://www.linkedin.com/in/prithwis)<br>"
      ]
    },
    {
      "cell_type": "markdown",
      "metadata": {
        "id": "8rtzja3Fbppg"
      },
      "source": [
        "#Datawarehousing with MySQL <br>\n",
        "\n",
        "<br>\n",
        "based on the codes available with the book Dimensional Datawarehousing with MySQL https://brainysoftware.com/9780975212820   [archive](https://drive.google.com/open?id=1BeIC5uEMGu85PADHRN-Zpn3lmZ3ihrkE) <br>\n",
        "Updated to reflect MySQL V8"
      ]
    },
    {
      "cell_type": "markdown",
      "metadata": {
        "id": "aGzVf5TLov-E"
      },
      "source": [
        "# Install MySQL"
      ]
    },
    {
      "cell_type": "code",
      "metadata": {
        "id": "Xi1BqQUKpu13",
        "colab": {
          "base_uri": "https://localhost:8080/"
        },
        "outputId": "b0fe275b-05b8-4cc4-f689-470252e13213"
      },
      "source": [
        "!apt update > /dev/null\n",
        "!apt -y install mysql-server > /dev/null\n",
        "!mysql --version\n",
        "!/etc/init.d/mysql restart\n",
        "#!mysql -e 'show databases'"
      ],
      "execution_count": 1,
      "outputs": [
        {
          "output_type": "stream",
          "name": "stdout",
          "text": [
            "\n",
            "WARNING: apt does not have a stable CLI interface. Use with caution in scripts.\n",
            "\n",
            "\n",
            "WARNING: apt does not have a stable CLI interface. Use with caution in scripts.\n",
            "\n",
            "mysql  Ver 8.0.32-0buntu0.20.04.1 for Linux on x86_64 ((Ubuntu))\n",
            " * Stopping MySQL database server mysqld\n",
            "   ...done.\n",
            " * Starting MySQL database server mysqld\n",
            "su: warning: cannot change directory to /nonexistent: No such file or directory\n",
            "   ...done.\n"
          ]
        }
      ]
    },
    {
      "cell_type": "markdown",
      "metadata": {
        "id": "ZydiAiFhln01"
      },
      "source": [
        "# Get Code Files<br>\n",
        " "
      ]
    },
    {
      "cell_type": "code",
      "metadata": {
        "id": "gEFRmvclxduY",
        "colab": {
          "base_uri": "https://localhost:8080/"
        },
        "outputId": "85ec280f-a9e1-4f49-cd94-90361596b077"
      },
      "source": [
        "#!wget https://brainysoftware.com/source/9780975212820.zip\n",
        "#https://drive.google.com/open?id=1qaiPXbxtIivCbBLmWiYvHMKAjAmNn2Y0\n",
        "#!gdown https://drive.google.com/uc?id=1qaiPXbxtIivCbBLmWiYvHMKAjAmNn2Y0\n",
        "!wget -q -O dwCode.zip https://github.com/Praxis-QR/RDWH/blob/main/dwMySQL/dwCode.zip?raw=true\n",
        "#!unzip 9780975212820.zip\n",
        "!unzip dwCode.zip > /dev/null\n",
        "!ls"
      ],
      "execution_count": 2,
      "outputs": [
        {
          "output_type": "stream",
          "name": "stdout",
          "text": [
            "dwCode.zip  sample_data  scripts  source_data\n"
          ]
        }
      ]
    },
    {
      "cell_type": "markdown",
      "metadata": {
        "id": "oUxe4Cpi961m"
      },
      "source": [
        "# Initial Setup"
      ]
    },
    {
      "cell_type": "code",
      "source": [
        "#Create userid\n",
        "#\n",
        "#!mysql < scripts/create_user_id.sql\n",
        "#see the script that created the userid\n",
        "#\n",
        "#!cat scripts/create_user_id.sql\n",
        "#\n",
        "!mysql -e \"create user dwid@localhost IDENTIFIED BY 'pw';\"\n",
        "!mysql -e \"GRANT ALL PRIVILEGES ON *.* TO 'dwid'@'localhost'\""
      ],
      "metadata": {
        "id": "b8afTC4vAdo5"
      },
      "execution_count": 3,
      "outputs": []
    },
    {
      "cell_type": "code",
      "metadata": {
        "id": "TVzIIAHf_Bcf",
        "colab": {
          "base_uri": "https://localhost:8080/"
        },
        "outputId": "72426894-564d-4fff-d0b2-e19abf71b1d3"
      },
      "source": [
        "# see the privileges given to dw\n",
        "#\n",
        "!mysql -e \"show grants for dwid@localhost\""
      ],
      "execution_count": 4,
      "outputs": [
        {
          "output_type": "stream",
          "name": "stdout",
          "text": [
            "+--------------------------------------------------------------------------------------------------------------------------------------------------------------------------------------------------------------------------------------------------------------------------------------------------------------------------------------------------------------------------------------------------------------------------------------------------------------------------------------------------------------------------------------------------------------------------------------------------------------------------------------------------------------------------------------------------------------------------------------------------------+\n",
            "| Grants for dwid@localhost                                                                                                                                                                                                                                                                                                                                                                                                                                                                                                                                                                                                                                                                                                                              |\n",
            "+--------------------------------------------------------------------------------------------------------------------------------------------------------------------------------------------------------------------------------------------------------------------------------------------------------------------------------------------------------------------------------------------------------------------------------------------------------------------------------------------------------------------------------------------------------------------------------------------------------------------------------------------------------------------------------------------------------------------------------------------------------+\n",
            "| GRANT SELECT, INSERT, UPDATE, DELETE, CREATE, DROP, RELOAD, SHUTDOWN, PROCESS, FILE, REFERENCES, INDEX, ALTER, SHOW DATABASES, SUPER, CREATE TEMPORARY TABLES, LOCK TABLES, EXECUTE, REPLICATION SLAVE, REPLICATION CLIENT, CREATE VIEW, SHOW VIEW, CREATE ROUTINE, ALTER ROUTINE, CREATE USER, EVENT, TRIGGER, CREATE TABLESPACE, CREATE ROLE, DROP ROLE ON *.* TO `dwid`@`localhost`                                                                                                                                                                                                                                                                                                                                                                 |\n",
            "| GRANT APPLICATION_PASSWORD_ADMIN,AUDIT_ABORT_EXEMPT,AUDIT_ADMIN,AUTHENTICATION_POLICY_ADMIN,BACKUP_ADMIN,BINLOG_ADMIN,BINLOG_ENCRYPTION_ADMIN,CLONE_ADMIN,CONNECTION_ADMIN,ENCRYPTION_KEY_ADMIN,FIREWALL_EXEMPT,FLUSH_OPTIMIZER_COSTS,FLUSH_STATUS,FLUSH_TABLES,FLUSH_USER_RESOURCES,GROUP_REPLICATION_ADMIN,GROUP_REPLICATION_STREAM,INNODB_REDO_LOG_ARCHIVE,INNODB_REDO_LOG_ENABLE,PASSWORDLESS_USER_ADMIN,PERSIST_RO_VARIABLES_ADMIN,REPLICATION_APPLIER,REPLICATION_SLAVE_ADMIN,RESOURCE_GROUP_ADMIN,RESOURCE_GROUP_USER,ROLE_ADMIN,SENSITIVE_VARIABLES_OBSERVER,SERVICE_CONNECTION_ADMIN,SESSION_VARIABLES_ADMIN,SET_USER_ID,SHOW_ROUTINE,SYSTEM_USER,SYSTEM_VARIABLES_ADMIN,TABLE_ENCRYPTION_ADMIN,XA_RECOVER_ADMIN ON *.* TO `dwid`@`localhost` |\n",
            "+--------------------------------------------------------------------------------------------------------------------------------------------------------------------------------------------------------------------------------------------------------------------------------------------------------------------------------------------------------------------------------------------------------------------------------------------------------------------------------------------------------------------------------------------------------------------------------------------------------------------------------------------------------------------------------------------------------------------------------------------------------+\n"
          ]
        }
      ]
    },
    {
      "cell_type": "code",
      "source": [
        "# Editing, updating the configuration file\n",
        "!cat /etc/mysql/my.cnf"
      ],
      "metadata": {
        "colab": {
          "base_uri": "https://localhost:8080/"
        },
        "id": "y6vkIse2xhBk",
        "outputId": "ee69b3c6-610d-4113-cd6f-a8df3010bec2"
      },
      "execution_count": 7,
      "outputs": [
        {
          "output_type": "stream",
          "name": "stdout",
          "text": [
            "#\n",
            "# The MySQL database server configuration file.\n",
            "#\n",
            "# You can copy this to one of:\n",
            "# - \"/etc/mysql/my.cnf\" to set global options,\n",
            "# - \"~/.my.cnf\" to set user-specific options.\n",
            "# \n",
            "# One can use all long options that the program supports.\n",
            "# Run program with --help to get a list of available options and with\n",
            "# --print-defaults to see which it would actually understand and use.\n",
            "#\n",
            "# For explanations see\n",
            "# http://dev.mysql.com/doc/mysql/en/server-system-variables.html\n",
            "\n",
            "#\n",
            "# * IMPORTANT: Additional settings that can override those from this file!\n",
            "#   The files must end with '.cnf', otherwise they'll be ignored.\n",
            "#\n",
            "\n",
            "!includedir /etc/mysql/conf.d/\n",
            "!includedir /etc/mysql/mysql.conf.d/\n",
            "[client]\n",
            "user = \"dwid\"\n",
            "password = \"pw\"\n",
            "[mysqld]\n",
            "secure-file-priv = \"\"\n"
          ]
        }
      ]
    },
    {
      "cell_type": "code",
      "source": [
        "# saving password for ease of use\n",
        "!echo '[client]' >> /etc/mysql/my.cnf\n",
        "!echo 'user = \"dwid\"' >> /etc/mysql/my.cnf\n",
        "!echo 'password = \"pw\"' >> /etc/mysql/my.cnf\n",
        "# allowing data load\n",
        "!echo '[mysqld]' >> /etc/mysql/my.cnf\n",
        "!echo 'secure-file-priv = \"\"' >> /etc/mysql/my.cnf\n",
        "# restart database\n",
        "!/etc/init.d/mysql restart"
      ],
      "metadata": {
        "colab": {
          "base_uri": "https://localhost:8080/"
        },
        "id": "dbPcSQ2QxtBE",
        "outputId": "a507e9ec-186e-44f5-a639-c1fef5464a4a"
      },
      "execution_count": 6,
      "outputs": [
        {
          "output_type": "stream",
          "name": "stdout",
          "text": [
            " * Stopping MySQL database server mysqld\n",
            "   ...done.\n",
            " * Starting MySQL database server mysqld\n",
            "su: warning: cannot change directory to /nonexistent: No such file or directory\n",
            "   ...done.\n"
          ]
        }
      ]
    },
    {
      "cell_type": "code",
      "source": [
        "#Create databases\n",
        "#\n",
        "#!mysql -udwid -ppw < scripts/create_databases.sql\n",
        "# see what the script had\n",
        "#\n",
        "#!cat scripts/create_databases.sql\n",
        "#!mysql -udwid -ppw -e \"CREATE DATABASE dw\"\n",
        "#!mysql -udwid -ppw -e \"CREATE DATABASE source\"\n",
        "!mysql -e \"CREATE DATABASE dw\"\n",
        "!mysql -e \"CREATE DATABASE source\"\n",
        "!mysql -e \"show databases\""
      ],
      "metadata": {
        "colab": {
          "base_uri": "https://localhost:8080/"
        },
        "id": "hGH1zH9BzXYx",
        "outputId": "ae5ff289-cd78-4869-bfd3-68c18bddeb02"
      },
      "execution_count": 8,
      "outputs": [
        {
          "output_type": "stream",
          "name": "stdout",
          "text": [
            "+--------------------+\n",
            "| Database           |\n",
            "+--------------------+\n",
            "| dw                 |\n",
            "| information_schema |\n",
            "| mysql              |\n",
            "| performance_schema |\n",
            "| source             |\n",
            "| sys                |\n",
            "+--------------------+\n"
          ]
        }
      ]
    },
    {
      "cell_type": "code",
      "metadata": {
        "id": "ArdGnyZLAEFa",
        "colab": {
          "base_uri": "https://localhost:8080/"
        },
        "outputId": "99cf6fd1-dc9f-4bb6-adc8-d804d345fa99"
      },
      "source": [
        "#create the various tables\n",
        "# one fact table and three dimension tables\n",
        "#\n",
        "#!mysql -udwid -ppw < scripts/create_dw_tables.sql\n",
        "!mysql < scripts/create_dw_tables.sql\n",
        "!mysql dw -e \"show tables\""
      ],
      "execution_count": 9,
      "outputs": [
        {
          "output_type": "stream",
          "name": "stdout",
          "text": [
            "+------------------+\n",
            "| Tables_in_dw     |\n",
            "+------------------+\n",
            "| customer_dim     |\n",
            "| date_dim         |\n",
            "| order_dim        |\n",
            "| product_dim      |\n",
            "| sales_order_fact |\n",
            "+------------------+\n"
          ]
        }
      ]
    },
    {
      "cell_type": "code",
      "metadata": {
        "id": "q3rxHRQjAsb9"
      },
      "source": [
        "#!mysql dw -e \"desc customer_dim\"\n",
        "#!mysql dw -e \"desc product_dim\"\n",
        "#!mysql dw -e \"desc order_dim\""
      ],
      "execution_count": null,
      "outputs": []
    },
    {
      "cell_type": "code",
      "metadata": {
        "id": "z9PCklcv-ElD",
        "colab": {
          "base_uri": "https://localhost:8080/"
        },
        "outputId": "ecfab060-f74e-4148-96e4-35c6697af1d7"
      },
      "source": [
        "!date"
      ],
      "execution_count": 10,
      "outputs": [
        {
          "output_type": "stream",
          "name": "stdout",
          "text": [
            "Sat 28 Jan 2023 08:36:19 AM UTC\n"
          ]
        }
      ]
    },
    {
      "cell_type": "code",
      "metadata": {
        "id": "Tcz05KxpBRGa",
        "colab": {
          "base_uri": "https://localhost:8080/"
        },
        "outputId": "52d84ec5-28ee-46a8-bef2-f07a2e559fc4"
      },
      "source": [
        "#this action cannot be performed except on a local machine \n",
        "!sudo date +%Y%m%d -s \"20070201\""
      ],
      "execution_count": 14,
      "outputs": [
        {
          "output_type": "stream",
          "name": "stdout",
          "text": [
            "date: cannot set date: Operation not permitted\n",
            "20070201\n"
          ]
        }
      ]
    },
    {
      "cell_type": "code",
      "metadata": {
        "id": "amTYmZFaC6sM",
        "colab": {
          "base_uri": "https://localhost:8080/"
        },
        "outputId": "eff6bfdb-3127-4e0f-b182-634c5d57717d"
      },
      "source": [
        "#!cat scripts/customer_sk.sql\n",
        "#!mysql -udwid -ppw < scripts/customer_sk.sql\n",
        "!mysql < scripts/customer_sk.sql\n",
        "!mysql dw -e \"select * from customer_dim\""
      ],
      "execution_count": 11,
      "outputs": [
        {
          "output_type": "stream",
          "name": "stdout",
          "text": [
            "+-------------+-----------------+------------------+-------------------------+-------------------+---------------+----------------+----------------+-------------+\n",
            "| customer_sk | customer_number | customer_name    | customer_street_address | customer_zip_code | customer_city | customer_state | effective_date | expiry_date |\n",
            "+-------------+-----------------+------------------+-------------------------+-------------------+---------------+----------------+----------------+-------------+\n",
            "|           1 |               1 | Big Customers    | 7500 Louise Dr.         |             17050 | Mechanicsburg | PA             | 2023-01-28     | 9999-12-31  |\n",
            "|           2 |               2 | Small Stores     | 2500 Woodland St.       |             17055 | Pittsburgh    | PA             | 2023-01-28     | 9999-12-31  |\n",
            "|           3 |               3 | Medium Retailers | 1111 Ritter Rd.         |             17055 | Pittsburgh    | PA             | 2023-01-28     | 9999-12-31  |\n",
            "+-------------+-----------------+------------------+-------------------------+-------------------+---------------+----------------+----------------+-------------+\n"
          ]
        }
      ]
    },
    {
      "cell_type": "code",
      "metadata": {
        "id": "syuBonCUDbN-",
        "colab": {
          "base_uri": "https://localhost:8080/"
        },
        "outputId": "74369ab4-5129-401e-8b55-e16b91aec069"
      },
      "source": [
        "#!mysql -udwid -ppw < scripts/more_customer_sk.sql\n",
        "!mysql < scripts/more_customer_sk.sql\n",
        "!mysql dw -e \"select * from customer_dim\"\n",
        "# note we could not set the date to an earlier date by changing the computer time"
      ],
      "execution_count": 12,
      "outputs": [
        {
          "output_type": "stream",
          "name": "stdout",
          "text": [
            "+-------------+-----------------+------------------+-------------------------+-------------------+---------------+----------------+----------------+-------------+\n",
            "| customer_sk | customer_number | customer_name    | customer_street_address | customer_zip_code | customer_city | customer_state | effective_date | expiry_date |\n",
            "+-------------+-----------------+------------------+-------------------------+-------------------+---------------+----------------+----------------+-------------+\n",
            "|           1 |               1 | Big Customers    | 7500 Louise Dr.         |             17050 | Mechanicsburg | PA             | 2023-01-28     | 9999-12-31  |\n",
            "|           2 |               2 | Small Stores     | 2500 Woodland St.       |             17055 | Pittsburgh    | PA             | 2023-01-28     | 9999-12-31  |\n",
            "|           3 |               3 | Medium Retailers | 1111 Ritter Rd.         |             17055 | Pittsburgh    | PA             | 2023-01-28     | 9999-12-31  |\n",
            "|           4 |               4 | Good Companies   | 9500 Scott St.          |             17050 | Mechanicsburg | PA             | 2023-01-28     | 9999-12-31  |\n",
            "|           5 |               5 | Wonderful Shops  | 3333 Rossmoyne Rd.      |             17050 | Mechanicsburg | PA             | 2023-01-28     | 9999-12-31  |\n",
            "|           6 |               6 | Loyal Clients    | 7070 Ritter Rd.         |             17055 | Pittsburgh    | PA             | 2023-01-28     | 9999-12-31  |\n",
            "+-------------+-----------------+------------------+-------------------------+-------------------+---------------+----------------+----------------+-------------+\n"
          ]
        }
      ]
    },
    {
      "cell_type": "code",
      "metadata": {
        "id": "DQaKzOu-EEs6",
        "colab": {
          "base_uri": "https://localhost:8080/"
        },
        "outputId": "25639667-86a0-4205-88cb-b1592a3913dc"
      },
      "source": [
        "#since it was not possible to set the system date on Colab, the date was changed manually\n",
        "!mysql dw -e \"update customer_dim set effective_date = '2007-02-01' \"\n",
        "!mysql dw -e \"select * from customer_dim\""
      ],
      "execution_count": 13,
      "outputs": [
        {
          "output_type": "stream",
          "name": "stdout",
          "text": [
            "+-------------+-----------------+------------------+-------------------------+-------------------+---------------+----------------+----------------+-------------+\n",
            "| customer_sk | customer_number | customer_name    | customer_street_address | customer_zip_code | customer_city | customer_state | effective_date | expiry_date |\n",
            "+-------------+-----------------+------------------+-------------------------+-------------------+---------------+----------------+----------------+-------------+\n",
            "|           1 |               1 | Big Customers    | 7500 Louise Dr.         |             17050 | Mechanicsburg | PA             | 2007-02-01     | 9999-12-31  |\n",
            "|           2 |               2 | Small Stores     | 2500 Woodland St.       |             17055 | Pittsburgh    | PA             | 2007-02-01     | 9999-12-31  |\n",
            "|           3 |               3 | Medium Retailers | 1111 Ritter Rd.         |             17055 | Pittsburgh    | PA             | 2007-02-01     | 9999-12-31  |\n",
            "|           4 |               4 | Good Companies   | 9500 Scott St.          |             17050 | Mechanicsburg | PA             | 2007-02-01     | 9999-12-31  |\n",
            "|           5 |               5 | Wonderful Shops  | 3333 Rossmoyne Rd.      |             17050 | Mechanicsburg | PA             | 2007-02-01     | 9999-12-31  |\n",
            "|           6 |               6 | Loyal Clients    | 7070 Ritter Rd.         |             17055 | Pittsburgh    | PA             | 2007-02-01     | 9999-12-31  |\n",
            "+-------------+-----------------+------------------+-------------------------+-------------------+---------------+----------------+----------------+-------------+\n"
          ]
        }
      ]
    },
    {
      "cell_type": "markdown",
      "metadata": {
        "id": "C9HqxfHFM0vt"
      },
      "source": [
        "# Chap 2 - Slowly Changing Dimensions"
      ]
    },
    {
      "cell_type": "markdown",
      "metadata": {
        "id": "Arlp9nD8OoKJ"
      },
      "source": [
        "**SCD1**\n",
        "\n",
        "\n",
        "---\n",
        "\n",
        "\n",
        "\n",
        "\n",
        "\n"
      ]
    },
    {
      "cell_type": "code",
      "metadata": {
        "id": "SMRYMu8cNgqs"
      },
      "source": [
        "#!ls source_data"
      ],
      "execution_count": 21,
      "outputs": []
    },
    {
      "cell_type": "code",
      "metadata": {
        "id": "3mrgEIsFOM2b"
      },
      "source": [
        "#!cat source_data/customer2.csv\n",
        "#!cat scripts/create_customer_stg.sql"
      ],
      "execution_count": 14,
      "outputs": []
    },
    {
      "cell_type": "markdown",
      "metadata": {
        "id": "mW7iOnMPVNbt"
      },
      "source": [
        "the downloaded script cannot be used because the csv file name and directory is different from what is there in the script. hence two additional script files are dynamically created and used\n",
        "\n",
        "\n",
        "---\n",
        "\n"
      ]
    },
    {
      "cell_type": "code",
      "source": [
        "#!ls scripts/create_cus*.sql\n",
        "#!cp scripts/create_customer_stg.sql scripts/bak_create_customer_stg.sql\n",
        "#!ls scripts/bak*"
      ],
      "metadata": {
        "id": "zLSnYgSx2nCi"
      },
      "execution_count": 22,
      "outputs": []
    },
    {
      "cell_type": "code",
      "source": [
        "#!sed -i 's/customer.csv/customer2.csv/g' scripts/create_customer_stg.sql"
      ],
      "metadata": {
        "id": "1YueiiYf3qz9"
      },
      "execution_count": null,
      "outputs": []
    },
    {
      "cell_type": "code",
      "source": [
        "# Allow LOAD on server side   # https://stackoverflow.com/questions/59993844/error-loading-local-data-is-disabled-this-must-be-enabled-on-both-the-client\n",
        "#!mysql dw -e 'SET GLOBAL local_infile=1;'\n",
        "#!mysql source -e 'SET GLOBAL local_infile=1;'"
      ],
      "metadata": {
        "id": "CqrQpLV-4s51"
      },
      "execution_count": 23,
      "outputs": []
    },
    {
      "cell_type": "code",
      "source": [
        "#!/etc/init.d/mysql restart"
      ],
      "metadata": {
        "id": "GZxLCSfS8vsY"
      },
      "execution_count": 15,
      "outputs": []
    },
    {
      "cell_type": "code",
      "source": [
        "!mysql dw --table -e 'drop table if exists customer_stg'"
      ],
      "metadata": {
        "id": "PdWm35t15FZZ"
      },
      "execution_count": 16,
      "outputs": []
    },
    {
      "cell_type": "code",
      "source": [
        "!mysql -e 'SHOW VARIABLES LIKE \"secure_file_priv\"'"
      ],
      "metadata": {
        "colab": {
          "base_uri": "https://localhost:8080/"
        },
        "id": "KA_LDJUUItaE",
        "outputId": "dd649cd3-2343-497e-c137-ff61f568b192"
      },
      "execution_count": 17,
      "outputs": [
        {
          "output_type": "stream",
          "name": "stdout",
          "text": [
            "+------------------+-------+\n",
            "| Variable_name    | Value |\n",
            "+------------------+-------+\n",
            "| secure_file_priv |       |\n",
            "+------------------+-------+\n"
          ]
        }
      ]
    },
    {
      "cell_type": "code",
      "source": [
        "#!mysql dw -e 'SET GLOBAL secure_file_priv=/content/source_data'"
      ],
      "metadata": {
        "id": "xIdkx9x9JwRS"
      },
      "execution_count": 27,
      "outputs": []
    },
    {
      "cell_type": "code",
      "source": [
        "#!pwd"
      ],
      "metadata": {
        "id": "zOXknV4pI460"
      },
      "execution_count": 28,
      "outputs": []
    },
    {
      "cell_type": "code",
      "source": [
        "#!ls /etc/mysql"
      ],
      "metadata": {
        "id": "2h9ottfgJcrN"
      },
      "execution_count": 29,
      "outputs": []
    },
    {
      "cell_type": "code",
      "source": [
        "#!ls /etc/mysql/mysql.conf.d"
      ],
      "metadata": {
        "id": "idrC8oN7KfYk"
      },
      "execution_count": 30,
      "outputs": []
    },
    {
      "cell_type": "code",
      "source": [
        "#!cat /etc/mysql/mysql.conf.d/mysql.cnf"
      ],
      "metadata": {
        "id": "KVit8fCPK9pB"
      },
      "execution_count": null,
      "outputs": []
    },
    {
      "cell_type": "code",
      "source": [
        "#!cat /etc/mysql/my.cnf"
      ],
      "metadata": {
        "id": "kSjW0_RtM3KC"
      },
      "execution_count": 31,
      "outputs": []
    },
    {
      "cell_type": "code",
      "source": [
        "#!cp /etc/mysql/my.cnf.pm /etc/mysql/my.cnf"
      ],
      "metadata": {
        "id": "ZbdFnYOXNRz2"
      },
      "execution_count": null,
      "outputs": []
    },
    {
      "cell_type": "code",
      "source": [
        "#!echo '[mysqld]' >> /etc/mysql/my.cnf\n",
        "#!echo 'secure-file-priv = \"\"' >> /etc/mysql/my.cnf"
      ],
      "metadata": {
        "id": "yJrWj0MXNZe4"
      },
      "execution_count": 32,
      "outputs": []
    },
    {
      "cell_type": "code",
      "source": [
        "#!cat /etc/mysql/my.cnf"
      ],
      "metadata": {
        "id": "D5ByrXrBzup-"
      },
      "execution_count": 18,
      "outputs": []
    },
    {
      "cell_type": "code",
      "source": [
        "#!/etc/init.d/mysql restart"
      ],
      "metadata": {
        "id": "kcXmv91QoJkS"
      },
      "execution_count": 19,
      "outputs": []
    },
    {
      "cell_type": "code",
      "source": [
        "#!echo 'secure-file-priv = \"\"' >> /etc/mysql/my.cnf"
      ],
      "metadata": {
        "id": "pD7chPjbNrl9"
      },
      "execution_count": null,
      "outputs": []
    },
    {
      "cell_type": "code",
      "source": [
        "#!cat /etc/mysql/mysql.cnf"
      ],
      "metadata": {
        "id": "N_cOpt99KSRO"
      },
      "execution_count": null,
      "outputs": []
    },
    {
      "cell_type": "code",
      "source": [
        "!ls /var/lib/mysql/dw"
      ],
      "metadata": {
        "colab": {
          "base_uri": "https://localhost:8080/"
        },
        "id": "9hK1NNXcP4mg",
        "outputId": "df01c3b9-64b4-4d59-b3e1-e1f875150066"
      },
      "execution_count": 20,
      "outputs": [
        {
          "output_type": "stream",
          "name": "stdout",
          "text": [
            "customer_dim.ibd  order_dim.ibd    sales_order_fact.ibd\n",
            "date_dim.ibd\t  product_dim.ibd\n"
          ]
        }
      ]
    },
    {
      "cell_type": "code",
      "source": [
        "!cp source_data/customer2.csv /var/lib/mysql/dw/customer.csv\n",
        "!ls /var/lib/mysql/dw"
      ],
      "metadata": {
        "id": "rK_gFGQiQFEy",
        "colab": {
          "base_uri": "https://localhost:8080/"
        },
        "outputId": "35c6ab88-3edf-408c-82a0-2fb4e333d4f2"
      },
      "execution_count": 21,
      "outputs": [
        {
          "output_type": "stream",
          "name": "stdout",
          "text": [
            "customer.csv\t  date_dim.ibd\t product_dim.ibd\n",
            "customer_dim.ibd  order_dim.ibd  sales_order_fact.ibd\n"
          ]
        }
      ]
    },
    {
      "cell_type": "code",
      "source": [
        "#!mysql --local-infile=1 < scripts/create_customer_stg.sql\n",
        "#!mysql --local-infile=1 -udwid -ppw < scripts/create_customer_stg.sql\n",
        "!mysql < scripts/create_customer_stg.sql\n",
        "!mysql dw -e \"select * from customer_stg\""
      ],
      "metadata": {
        "colab": {
          "base_uri": "https://localhost:8080/"
        },
        "id": "dg7OND4T4aUu",
        "outputId": "8719818e-6b84-4d46-9735-3955cef67be2"
      },
      "execution_count": 22,
      "outputs": [
        {
          "output_type": "stream",
          "name": "stdout",
          "text": [
            "+-----------------+------------------------+-------------------------+-------------------+---------------+----------------+\n",
            "| customer_number | customer_name          | customer_street_address | customer_zip_code | customer_city | customer_state |\n",
            "+-----------------+------------------------+-------------------------+-------------------+---------------+----------------+\n",
            "|               1 | Really Large Customers | 7500 Louise Dr.         |             17050 | Mechanicsburg | PA             |\n",
            "|               2 | Small Stores           | 2500 Woodland St.       |             17055 | Pittsburgh    | PA             |\n",
            "|               3 | Medium Retailers       | 1111 Ritter Rd.         |             17055 | Pittsburgh    | PA             |\n",
            "|               4 | Good Companies         | 9500 Scott St.          |             17050 | Mechanicsburg | PA             |\n",
            "|               5 | Wonderful Shops        | 3333 Rossmoyne Rd.      |             17050 | Mechanicsburg | PA             |\n",
            "|               6 | Loyal Clients          | 7070 Ritter Rd.         |             17055 | Pittsburgh    | PA             |\n",
            "|               7 | Distinguished Partners | 9999 Scott St.          |             17050 | Mechanicsburg | PA             |\n",
            "+-----------------+------------------------+-------------------------+-------------------+---------------+----------------+\n"
          ]
        }
      ]
    },
    {
      "cell_type": "code",
      "metadata": {
        "id": "fnV5aYX4O0xH",
        "colab": {
          "base_uri": "https://localhost:8080/"
        },
        "outputId": "7b72bd95-5f83-41ed-f849-d9af5878b470"
      },
      "source": [
        "%%writefile pm_create_customer_stg.sql\n",
        "/* default database to dw */\n",
        "USE dw;\n",
        "/* create customer_stg table */\n",
        "CREATE TABLE customer_stg\n",
        "(customer_number INT,\n",
        "customer_name CHAR (30),\n",
        "customer_street_address CHAR (30),\n",
        "customer_zip_code INT (5),\n",
        "customer_city CHAR (30),\n",
        "customer_state CHAR (2) )\n",
        ";\n",
        "/* clean up customer_stg table and load customer.csv */\n",
        "TRUNCATE customer_stg;"
      ],
      "execution_count": null,
      "outputs": [
        {
          "output_type": "stream",
          "text": [
            "Writing pm_create_customer_stg.sql\n"
          ],
          "name": "stdout"
        }
      ]
    },
    {
      "cell_type": "code",
      "metadata": {
        "id": "ivFQ-2rjPRpX"
      },
      "source": [
        "#!mysql -udwid -ppw --table < pm_create_customer_stg.sql"
      ],
      "execution_count": null,
      "outputs": []
    },
    {
      "cell_type": "code",
      "metadata": {
        "id": "jYqLgW67P9-l"
      },
      "source": [
        "#!mysql dw -e \"desc customer_stg\""
      ],
      "execution_count": 23,
      "outputs": []
    },
    {
      "cell_type": "code",
      "source": [
        "#!cat source_data/customer2.csv"
      ],
      "metadata": {
        "id": "tCXbZ97SVcrk"
      },
      "execution_count": 30,
      "outputs": []
    },
    {
      "cell_type": "code",
      "metadata": {
        "id": "kydpy5tLQNm9",
        "colab": {
          "base_uri": "https://localhost:8080/"
        },
        "outputId": "85ec34ae-f5fc-472c-aedc-fcc574458f73"
      },
      "source": [
        "%%writefile pm_load_customer_stg.sql\n",
        "/* default database to dw */\n",
        "USE dw;\n",
        "LOAD DATA LOCAL INFILE 'source_data/customer2.csv'\n",
        "INTO TABLE customer_stg\n",
        "FIELDS TERMINATED BY ','\n",
        "OPTIONALLY ENCLOSED BY \"\"\n",
        "LINES TERMINATED BY '\\r\\n'\n",
        "IGNORE 1 LINES\n",
        "( customer_number\n",
        ", customer_name\n",
        ", customer_street_address\n",
        ", customer_zip_code\n",
        ", customer_city\n",
        ", customer_state )\n",
        ";\n",
        "/* end of script */"
      ],
      "execution_count": null,
      "outputs": [
        {
          "output_type": "stream",
          "text": [
            "Writing pm_load_customer_stg.sql\n"
          ],
          "name": "stdout"
        }
      ]
    },
    {
      "cell_type": "code",
      "metadata": {
        "id": "s96mBkDIQumA"
      },
      "source": [
        "#!mysql -udwid -ppw --table < pm_load_customer_stg.sql"
      ],
      "execution_count": null,
      "outputs": []
    },
    {
      "cell_type": "code",
      "metadata": {
        "id": "WjE1Mk_MRrsu"
      },
      "source": [
        "#!mysql dw -e \"select * from customer_stg\""
      ],
      "execution_count": 24,
      "outputs": []
    },
    {
      "cell_type": "code",
      "source": [
        "!cat scripts/scd1.sql"
      ],
      "metadata": {
        "colab": {
          "base_uri": "https://localhost:8080/"
        },
        "id": "SKHcOmLtQ6Bm",
        "outputId": "d32007e9-9d2e-40c6-b012-80d85a5d60ae"
      },
      "execution_count": 25,
      "outputs": [
        {
          "output_type": "stream",
          "name": "stdout",
          "text": [
            "/*********************************************************************/\r\n",
            "/*                                                                   */\r\n",
            "/* scd1.sql                                                          */                  \r\n",
            "/*                                                                   */\r\n",
            "/*********************************************************************/\r\n",
            "\r\n",
            "/* default database to dw                                            */\r\n",
            "\r\n",
            "USE dw;\r\n",
            "\r\n",
            "/* update existing customers                                         */\r\n",
            "\r\n",
            "UPDATE customer_dim a, customer_stg b\r\n",
            "SET a.customer_name = b.customer_name\r\n",
            "WHERE     a.customer_number = b.customer_number\r\n",
            "      AND a.expiry_date = '9999-12-31'\r\n",
            "      AND a.customer_name <> b.customer_name\r\n",
            ";\r\n",
            "\r\n",
            "/* add new customers                                                 */\r\n",
            "\r\n",
            "INSERT INTO customer_dim\r\n",
            "SELECT\r\n",
            "  NULL\t\r\n",
            ", customer_number\r\n",
            ", customer_name\r\n",
            ", customer_street_address\r\n",
            ", customer_zip_code\r\n",
            ", customer_city\r\n",
            ", customer_state\r\n",
            ", CURRENT_DATE\r\n",
            ", '9999-12-31'\r\n",
            "FROM customer_stg \t\r\n",
            "WHERE customer_number NOT IN(\r\n",
            "SELECT b.customer_number \r\n",
            "FROM customer_dim a, customer_stg b \r\n",
            "WHERE a.customer_number = b.customer_number )\r\n",
            ";\r\n",
            "\r\n",
            "/* end of script                                                     */\r\n"
          ]
        }
      ]
    },
    {
      "cell_type": "code",
      "metadata": {
        "id": "2f01EMFaUe3H",
        "colab": {
          "base_uri": "https://localhost:8080/"
        },
        "outputId": "d66c027b-82a2-47a8-c2c5-7d6a610c68f7"
      },
      "source": [
        "# One customer updated, one new customer added\n",
        "!mysql  < scripts/scd1.sql\n",
        "!mysql dw -e \"select * from customer_dim\""
      ],
      "execution_count": 26,
      "outputs": [
        {
          "output_type": "stream",
          "name": "stdout",
          "text": [
            "+-------------+-----------------+------------------------+-------------------------+-------------------+---------------+----------------+----------------+-------------+\n",
            "| customer_sk | customer_number | customer_name          | customer_street_address | customer_zip_code | customer_city | customer_state | effective_date | expiry_date |\n",
            "+-------------+-----------------+------------------------+-------------------------+-------------------+---------------+----------------+----------------+-------------+\n",
            "|           1 |               1 | Really Large Customers | 7500 Louise Dr.         |             17050 | Mechanicsburg | PA             | 2007-02-01     | 9999-12-31  |\n",
            "|           2 |               2 | Small Stores           | 2500 Woodland St.       |             17055 | Pittsburgh    | PA             | 2007-02-01     | 9999-12-31  |\n",
            "|           3 |               3 | Medium Retailers       | 1111 Ritter Rd.         |             17055 | Pittsburgh    | PA             | 2007-02-01     | 9999-12-31  |\n",
            "|           4 |               4 | Good Companies         | 9500 Scott St.          |             17050 | Mechanicsburg | PA             | 2007-02-01     | 9999-12-31  |\n",
            "|           5 |               5 | Wonderful Shops        | 3333 Rossmoyne Rd.      |             17050 | Mechanicsburg | PA             | 2007-02-01     | 9999-12-31  |\n",
            "|           6 |               6 | Loyal Clients          | 7070 Ritter Rd.         |             17055 | Pittsburgh    | PA             | 2007-02-01     | 9999-12-31  |\n",
            "|           7 |               7 | Distinguished Partners | 9999 Scott St.          |             17050 | Mechanicsburg | PA             | 2023-01-28     | 9999-12-31  |\n",
            "+-------------+-----------------+------------------------+-------------------------+-------------------+---------------+----------------+----------------+-------------+\n"
          ]
        }
      ]
    },
    {
      "cell_type": "code",
      "metadata": {
        "id": "tFW4txiTV-Xb"
      },
      "source": [
        "#since it was not possible to set the system date on Colab, the date was changed manually\n",
        "!mysql dw -e \"update customer_dim set effective_date = '2007-02-02' where customer_number = 7 and customer_name = 'Distinguished Partners' \""
      ],
      "execution_count": 27,
      "outputs": []
    },
    {
      "cell_type": "code",
      "metadata": {
        "id": "46WRVIzPWQM_",
        "colab": {
          "base_uri": "https://localhost:8080/"
        },
        "outputId": "d65a08c2-aaff-4f42-c9ad-a7f2a49d9b44"
      },
      "source": [
        "!mysql dw -e \"select * from customer_dim\""
      ],
      "execution_count": 28,
      "outputs": [
        {
          "output_type": "stream",
          "name": "stdout",
          "text": [
            "+-------------+-----------------+------------------------+-------------------------+-------------------+---------------+----------------+----------------+-------------+\n",
            "| customer_sk | customer_number | customer_name          | customer_street_address | customer_zip_code | customer_city | customer_state | effective_date | expiry_date |\n",
            "+-------------+-----------------+------------------------+-------------------------+-------------------+---------------+----------------+----------------+-------------+\n",
            "|           1 |               1 | Really Large Customers | 7500 Louise Dr.         |             17050 | Mechanicsburg | PA             | 2007-02-01     | 9999-12-31  |\n",
            "|           2 |               2 | Small Stores           | 2500 Woodland St.       |             17055 | Pittsburgh    | PA             | 2007-02-01     | 9999-12-31  |\n",
            "|           3 |               3 | Medium Retailers       | 1111 Ritter Rd.         |             17055 | Pittsburgh    | PA             | 2007-02-01     | 9999-12-31  |\n",
            "|           4 |               4 | Good Companies         | 9500 Scott St.          |             17050 | Mechanicsburg | PA             | 2007-02-01     | 9999-12-31  |\n",
            "|           5 |               5 | Wonderful Shops        | 3333 Rossmoyne Rd.      |             17050 | Mechanicsburg | PA             | 2007-02-01     | 9999-12-31  |\n",
            "|           6 |               6 | Loyal Clients          | 7070 Ritter Rd.         |             17055 | Pittsburgh    | PA             | 2007-02-01     | 9999-12-31  |\n",
            "|           7 |               7 | Distinguished Partners | 9999 Scott St.          |             17050 | Mechanicsburg | PA             | 2007-02-02     | 9999-12-31  |\n",
            "+-------------+-----------------+------------------------+-------------------------+-------------------+---------------+----------------+----------------+-------------+\n"
          ]
        }
      ]
    },
    {
      "cell_type": "markdown",
      "metadata": {
        "id": "vCqoHyo6emZN"
      },
      "source": [
        "**SCD2**\n",
        "\n",
        "\n",
        "---\n",
        "\n"
      ]
    },
    {
      "cell_type": "code",
      "metadata": {
        "id": "x0cplstmf-TI"
      },
      "source": [
        "#!ls"
      ],
      "execution_count": 36,
      "outputs": []
    },
    {
      "cell_type": "code",
      "source": [
        "#!ls source_data"
      ],
      "metadata": {
        "id": "mOQskWV-S3Fn"
      },
      "execution_count": 37,
      "outputs": []
    },
    {
      "cell_type": "code",
      "metadata": {
        "id": "8UdiV9dZesUa"
      },
      "source": [
        "#!ls scripts"
      ],
      "execution_count": 38,
      "outputs": []
    },
    {
      "cell_type": "code",
      "metadata": {
        "id": "RohGlXDb3ZoW"
      },
      "source": [
        "!mysql dw -e \"truncate product_dim\"\n",
        "!mysql dw -e \"select * from product_dim\""
      ],
      "execution_count": 30,
      "outputs": []
    },
    {
      "cell_type": "code",
      "metadata": {
        "id": "Z17XjtgsezYJ",
        "colab": {
          "base_uri": "https://localhost:8080/"
        },
        "outputId": "55f19d94-5993-4b03-c0bf-da7e99d47c0a"
      },
      "source": [
        "!cat source_data/product2-1.txt"
      ],
      "execution_count": 31,
      "outputs": [
        {
          "output_type": "stream",
          "name": "stdout",
          "text": [
            "PRODUCT CODE,PRODUCT NAME,PRODUCT GROUP\r\n",
            "1          Hard Disk                     Storage\r\n",
            "2          Floppy Drive                  Storage"
          ]
        }
      ]
    },
    {
      "cell_type": "code",
      "source": [
        "!cat source_data/product2-2.txt"
      ],
      "metadata": {
        "colab": {
          "base_uri": "https://localhost:8080/"
        },
        "id": "KEZqULLZrWEK",
        "outputId": "b28d2e8d-436d-49a5-8cec-b9dd04ac01c9"
      },
      "execution_count": 32,
      "outputs": [
        {
          "output_type": "stream",
          "name": "stdout",
          "text": [
            "PRODUCT CODE,PRODUCT NAME,PRODUCT GROUP\r\n",
            "1          Hard Disk Drive               Storage                  \r\n",
            "2          Floppy Drive                  Storage\r\n",
            "3          LCD Panel                     Monitor"
          ]
        }
      ]
    },
    {
      "cell_type": "code",
      "source": [
        "#!cat scripts/create_product_stg.sql"
      ],
      "metadata": {
        "id": "d4eFmSDhRffO"
      },
      "execution_count": 45,
      "outputs": []
    },
    {
      "cell_type": "code",
      "metadata": {
        "id": "8G-ufAnhfsDv",
        "colab": {
          "base_uri": "https://localhost:8080/"
        },
        "outputId": "35687543-f402-4e25-fc49-163e901d97c6"
      },
      "source": [
        "!mysql  < scripts/create_product_stg.sql\n",
        "!mysql dw -e \"desc product_stg\""
      ],
      "execution_count": 33,
      "outputs": [
        {
          "output_type": "stream",
          "name": "stdout",
          "text": [
            "+------------------+----------+------+-----+---------+-------+\n",
            "| Field            | Type     | Null | Key | Default | Extra |\n",
            "+------------------+----------+------+-----+---------+-------+\n",
            "| product_code     | int      | YES  |     | NULL    |       |\n",
            "| product_name     | char(30) | YES  |     | NULL    |       |\n",
            "| product_category | char(30) | YES  |     | NULL    |       |\n",
            "+------------------+----------+------+-----+---------+-------+\n"
          ]
        }
      ]
    },
    {
      "cell_type": "code",
      "source": [
        "# this script needs a change\n",
        "!cat scripts/load_product_stg.sql"
      ],
      "metadata": {
        "colab": {
          "base_uri": "https://localhost:8080/"
        },
        "id": "w3SngqLfRxyB",
        "outputId": "9e724c05-cede-4ca7-897c-f0f4728712bf"
      },
      "execution_count": 34,
      "outputs": [
        {
          "output_type": "stream",
          "name": "stdout",
          "text": [
            "/*********************************************************************/\r\n",
            "/*                                                                   */\r\n",
            "/* load_product_stg.sql                                              */                  \r\n",
            "/*                                                                   */\r\n",
            "/*********************************************************************/\r\n",
            "\r\n",
            "/* default database to dw                                            */\r\n",
            "\r\n",
            "USE dw;\r\n",
            "\r\n",
            "/* clean up the staging table                                        */\r\n",
            "\r\n",
            "TRUNCATE product_stg;\r\n",
            "\r\n",
            "/* use LOAD DATA INFILE                                              */\r\n",
            "\r\n",
            "LOAD DATA INFILE 'product.txt'\r\n",
            "INTO TABLE product_stg\r\n",
            "FIELDS TERMINATED BY ''\r\n",
            "OPTIONALLY ENCLOSED BY ''\r\n",
            "LINES TERMINATED BY '\\r\\n'\r\n",
            "IGNORE 1 LINES\r\n",
            "( product_code\r\n",
            ", product_name \r\n",
            ", product_category )\r\n",
            ";\r\n",
            "\r\n",
            "/* end of script                                                     */\r\n"
          ]
        }
      ]
    },
    {
      "cell_type": "code",
      "source": [
        "#!sed -i '1d' /var/lib/mysql/dw/product.txt \n",
        "#!cp scripts/load_product_stg.sql scripts/bak-load_product_stg.sql\n",
        "!cp scripts/load_product_stg.sql scripts/bak-load_product_stg.sql\n",
        "!sed -i \"s/TERMINATED BY ''/TERMINATED BY ','/g\" scripts/load_product_stg.sql\n",
        "!cat scripts/load_product_stg.sql"
      ],
      "metadata": {
        "colab": {
          "base_uri": "https://localhost:8080/"
        },
        "id": "0pGbmS5bY8l7",
        "outputId": "ac740142-0047-4aab-ab2f-bd58beb3bdbb"
      },
      "execution_count": 35,
      "outputs": [
        {
          "output_type": "stream",
          "name": "stdout",
          "text": [
            "/*********************************************************************/\r\n",
            "/*                                                                   */\r\n",
            "/* load_product_stg.sql                                              */                  \r\n",
            "/*                                                                   */\r\n",
            "/*********************************************************************/\r\n",
            "\r\n",
            "/* default database to dw                                            */\r\n",
            "\r\n",
            "USE dw;\r\n",
            "\r\n",
            "/* clean up the staging table                                        */\r\n",
            "\r\n",
            "TRUNCATE product_stg;\r\n",
            "\r\n",
            "/* use LOAD DATA INFILE                                              */\r\n",
            "\r\n",
            "LOAD DATA INFILE 'product.txt'\r\n",
            "INTO TABLE product_stg\r\n",
            "FIELDS TERMINATED BY ','\r\n",
            "OPTIONALLY ENCLOSED BY ''\r\n",
            "LINES TERMINATED BY '\\r\\n'\r\n",
            "IGNORE 1 LINES\r\n",
            "( product_code\r\n",
            ", product_name \r\n",
            ", product_category )\r\n",
            ";\r\n",
            "\r\n",
            "/* end of script                                                     */\r\n"
          ]
        }
      ]
    },
    {
      "cell_type": "code",
      "source": [
        "!cp source_data/product2-1.txt /var/lib/mysql/dw/product.txt\n",
        "!sed -i \"s/  /,/g\" /var/lib/mysql/dw/product.txt  # replace space with comma in file\n",
        "!sed -i 's/,\\{2,\\}/,/g' /var/lib/mysql/dw/product.txt  # https://stackoverflow.com/questions/31400614/replace-multiple-commas-with-a-single-one-linux-command\n",
        "!sed -i \"s/, /,/g\" /var/lib/mysql/dw/product.txt  # remove space after comma\n",
        "!cat /var/lib/mysql/dw/product.txt"
      ],
      "metadata": {
        "id": "gbK2N98UTHEW",
        "colab": {
          "base_uri": "https://localhost:8080/"
        },
        "outputId": "f3ef2845-edfd-4a08-e2b0-20a4e2e6a58c"
      },
      "execution_count": 39,
      "outputs": [
        {
          "output_type": "stream",
          "name": "stdout",
          "text": [
            "PRODUCT CODE,PRODUCT NAME,PRODUCT GROUP\r\n",
            "1,Hard Disk,Storage\r\n",
            "2,Floppy Drive,Storage"
          ]
        }
      ]
    },
    {
      "cell_type": "code",
      "source": [
        "!mysql < scripts/load_product_stg.sql\n",
        "#!mysql -udwid -ppw --table < pm_load_prod_stg.sql\n",
        "!mysql dw -e \"select * from product_stg\""
      ],
      "metadata": {
        "colab": {
          "base_uri": "https://localhost:8080/"
        },
        "id": "beQAEXuJT0M3",
        "outputId": "788e2cce-4b17-491c-a188-7b18101286e3"
      },
      "execution_count": 40,
      "outputs": [
        {
          "output_type": "stream",
          "name": "stdout",
          "text": [
            "+--------------+--------------+------------------+\n",
            "| product_code | product_name | product_category |\n",
            "+--------------+--------------+------------------+\n",
            "|            1 | Hard Disk    | Storage          |\n",
            "|            2 | Floppy Drive | Storage          |\n",
            "+--------------+--------------+------------------+\n"
          ]
        }
      ]
    },
    {
      "cell_type": "code",
      "source": [
        "!cat scripts/scd2.sql"
      ],
      "metadata": {
        "colab": {
          "base_uri": "https://localhost:8080/"
        },
        "id": "WchYxihRstj6",
        "outputId": "21b06051-4029-4d54-bf1f-4abb90c71de2"
      },
      "execution_count": 41,
      "outputs": [
        {
          "output_type": "stream",
          "name": "stdout",
          "text": [
            "/*********************************************************************/\r\n",
            "/*                                                                   */\r\n",
            "/* scd2.sql                                                          */                  \r\n",
            "/*                                                                   */\r\n",
            "/*********************************************************************/\r\n",
            "\r\n",
            "/* default database to dw                                            */\r\n",
            "                 \r\n",
            "\r\n",
            "USE dw;\r\n",
            "\r\n",
            "/* expire the existing product\t\t\t\t\t */\r\n",
            "\r\n",
            "UPDATE \r\n",
            "  product_dim a\r\n",
            ", product_stg b\r\n",
            "SET\r\n",
            "  expiry_date = SUBDATE(CURRENT_DATE, 1)\r\n",
            "WHERE\r\n",
            "    a.product_code = b.product_code\r\n",
            "AND (   a.product_name <> b.product_name\r\n",
            "     OR a.product_category <> b.product_category )\r\n",
            "AND expiry_date = '9999-12-31'\r\n",
            ";\r\n",
            "\r\n",
            "/* add a new row for the changing product                           */\r\n",
            "                   \r\n",
            "\r\n",
            "INSERT INTO product_dim \r\n",
            "SELECT\r\n",
            "  NULL\t\r\n",
            ", b.product_code\r\n",
            ", b.product_name\r\n",
            ", b.product_category\r\n",
            ", CURRENT_DATE\r\n",
            ", '9999-12-31'\r\n",
            "FROM \r\n",
            "  product_dim a\r\n",
            ", product_stg b\t\r\n",
            "WHERE \r\n",
            "    a.product_code = b.product_code\r\n",
            "AND (   a.product_name <> b.product_name\r\n",
            "     OR a.product_category <> b.product_category )\r\n",
            "AND EXISTS \r\n",
            "( SELECT * FROM product_dim x \r\n",
            "  WHERE   b.product_code = x.product_code \r\n",
            "      AND a.expiry_date = SUBDATE(CURRENT_DATE, 1) )\r\n",
            "AND NOT EXISTS \r\n",
            "( SELECT *\r\n",
            "  FROM product_dim y \r\n",
            "  WHERE     b.product_code = y.product_code \r\n",
            "        AND y.expiry_date = '9999-12-31' )\r\n",
            ";\r\n",
            "\r\n",
            "/* add new product                                                   */\r\n",
            "               \r\n",
            "INSERT INTO product_dim\r\n",
            "SELECT\r\n",
            "  NULL\t\r\n",
            ", product_code\r\n",
            ", product_name\r\n",
            ", product_category\r\n",
            ", CURRENT_DATE\r\n",
            ", '9999-12-31'\r\n",
            "FROM product_stg \t\r\n",
            "WHERE product_code NOT IN(\r\n",
            "SELECT y.product_code \r\n",
            "FROM product_dim x, product_stg y \r\n",
            "WHERE x.product_code = y.product_code )\r\n",
            ";\r\n",
            "\r\n",
            "/* end of script                                                     */\r\n"
          ]
        }
      ]
    },
    {
      "cell_type": "code",
      "metadata": {
        "id": "uVmx58MgjUte",
        "colab": {
          "base_uri": "https://localhost:8080/"
        },
        "outputId": "5505bbd9-8843-468c-d270-368ecc40ff24"
      },
      "source": [
        "!mysql < scripts/scd2.sql\n",
        "!mysql dw -e \"select * from product_dim\""
      ],
      "execution_count": 42,
      "outputs": [
        {
          "output_type": "stream",
          "name": "stdout",
          "text": [
            "+------------+--------------+--------------+------------------+----------------+-------------+\n",
            "| product_sk | product_code | product_name | product_category | effective_date | expiry_date |\n",
            "+------------+--------------+--------------+------------------+----------------+-------------+\n",
            "|          1 |            1 | Hard Disk    | Storage          | 2023-01-28     | 9999-12-31  |\n",
            "|          2 |            2 | Floppy Drive | Storage          | 2023-01-28     | 9999-12-31  |\n",
            "+------------+--------------+--------------+------------------+----------------+-------------+\n"
          ]
        }
      ]
    },
    {
      "cell_type": "code",
      "metadata": {
        "id": "m2rtZ1R7jsfN",
        "colab": {
          "base_uri": "https://localhost:8080/"
        },
        "outputId": "d4861a7a-b73c-47aa-ff9d-d97c31b61434"
      },
      "source": [
        "!mysql dw -e \"update product_dim set effective_date = '2007-02-03'\"\n",
        "!mysql dw -e \"select * from product_dim\""
      ],
      "execution_count": 43,
      "outputs": [
        {
          "output_type": "stream",
          "name": "stdout",
          "text": [
            "+------------+--------------+--------------+------------------+----------------+-------------+\n",
            "| product_sk | product_code | product_name | product_category | effective_date | expiry_date |\n",
            "+------------+--------------+--------------+------------------+----------------+-------------+\n",
            "|          1 |            1 | Hard Disk    | Storage          | 2007-02-03     | 9999-12-31  |\n",
            "|          2 |            2 | Floppy Drive | Storage          | 2007-02-03     | 9999-12-31  |\n",
            "+------------+--------------+--------------+------------------+----------------+-------------+\n"
          ]
        }
      ]
    },
    {
      "cell_type": "code",
      "source": [
        "!cp source_data/product2-2.txt /var/lib/mysql/dw/product.txt\n",
        "!sed -i \"s/  /,/g\" /var/lib/mysql/dw/product.txt  # replace space with comma in file\n",
        "!sed -i 's/,\\{2,\\}/,/g' /var/lib/mysql/dw/product.txt  # https://stackoverflow.com/questions/31400614/replace-multiple-commas-with-a-single-one-linux-command\n",
        "!sed -i \"s/, /,/g\" /var/lib/mysql/dw/product.txt  # remove space after comma\n",
        "!cat /var/lib/mysql/dw/product.txt"
      ],
      "metadata": {
        "colab": {
          "base_uri": "https://localhost:8080/"
        },
        "id": "16bQkVHxtISi",
        "outputId": "c17ead97-7cfc-42c5-dff9-0e5802914af2"
      },
      "execution_count": 44,
      "outputs": [
        {
          "output_type": "stream",
          "name": "stdout",
          "text": [
            "PRODUCT CODE,PRODUCT NAME,PRODUCT GROUP\r\n",
            "1,Hard Disk Drive,Storage,\r\n",
            "2,Floppy Drive,Storage\r\n",
            "3,LCD Panel,Monitor"
          ]
        }
      ]
    },
    {
      "cell_type": "code",
      "metadata": {
        "id": "ntO7n6XEkXR6",
        "colab": {
          "base_uri": "https://localhost:8080/"
        },
        "outputId": "6f18c0a4-f592-479d-d3c4-a3ddd6cc5d81"
      },
      "source": [
        "# One updated, one new\n",
        "!mysql < scripts/load_product_stg.sql\n",
        "#!mysql -udwid -ppw --table < pm_load_prod_stg_02.sql\n",
        "!mysql dw -e \"select * from product_stg\""
      ],
      "execution_count": 45,
      "outputs": [
        {
          "output_type": "stream",
          "name": "stdout",
          "text": [
            "+--------------+-----------------+------------------+\n",
            "| product_code | product_name    | product_category |\n",
            "+--------------+-----------------+------------------+\n",
            "|            1 | Hard Disk Drive | Storage          |\n",
            "|            2 | Floppy Drive    | Storage          |\n",
            "|            3 | LCD Panel       | Monitor          |\n",
            "+--------------+-----------------+------------------+\n"
          ]
        }
      ]
    },
    {
      "cell_type": "code",
      "metadata": {
        "id": "e93Sk6RIkqcU",
        "colab": {
          "base_uri": "https://localhost:8080/"
        },
        "outputId": "e82d9252-bbf7-44cb-df3f-3870872eece3"
      },
      "source": [
        "# One updated, one new\n",
        "!mysql  < scripts/scd2.sql\n",
        "!mysql dw -e \"select * from product_dim\""
      ],
      "execution_count": 46,
      "outputs": [
        {
          "output_type": "stream",
          "name": "stdout",
          "text": [
            "+------------+--------------+-----------------+------------------+----------------+-------------+\n",
            "| product_sk | product_code | product_name    | product_category | effective_date | expiry_date |\n",
            "+------------+--------------+-----------------+------------------+----------------+-------------+\n",
            "|          1 |            1 | Hard Disk       | Storage          | 2007-02-03     | 2023-01-27  |\n",
            "|          2 |            2 | Floppy Drive    | Storage          | 2007-02-03     | 9999-12-31  |\n",
            "|          4 |            1 | Hard Disk Drive | Storage          | 2023-01-28     | 9999-12-31  |\n",
            "|          5 |            3 | LCD Panel       | Monitor          | 2023-01-28     | 9999-12-31  |\n",
            "+------------+--------------+-----------------+------------------+----------------+-------------+\n"
          ]
        }
      ]
    },
    {
      "cell_type": "code",
      "metadata": {
        "id": "y_a-D5eTk-Ts",
        "colab": {
          "base_uri": "https://localhost:8080/"
        },
        "outputId": "bd7a4c37-95f2-4aef-9e92-6b751aaee0e2"
      },
      "source": [
        "!mysql dw -e \"update product_dim set effective_date = '2007-02-05' where effective_date = '2023-01-28'\"\n",
        "!mysql dw -e \"update product_dim set expiry_date = '2007-02-04' where expiry_date = '2023-01-28'\"\n",
        "#there seems to be an inexplicable difference between the output shown here and the output shown in the book\n",
        "#product_sk should be 1,2,3,4 and not 1,2,4,5 \n",
        "#it seems autoincrements behave erratically and hence should not be used as surrogate keys as shown here\n",
        "!mysql dw -e \"select * from product_dim\""
      ],
      "execution_count": 47,
      "outputs": [
        {
          "output_type": "stream",
          "name": "stdout",
          "text": [
            "+------------+--------------+-----------------+------------------+----------------+-------------+\n",
            "| product_sk | product_code | product_name    | product_category | effective_date | expiry_date |\n",
            "+------------+--------------+-----------------+------------------+----------------+-------------+\n",
            "|          1 |            1 | Hard Disk       | Storage          | 2007-02-03     | 2023-01-27  |\n",
            "|          2 |            2 | Floppy Drive    | Storage          | 2007-02-03     | 9999-12-31  |\n",
            "|          4 |            1 | Hard Disk Drive | Storage          | 2007-02-05     | 9999-12-31  |\n",
            "|          5 |            3 | LCD Panel       | Monitor          | 2007-02-05     | 9999-12-31  |\n",
            "+------------+--------------+-----------------+------------------+----------------+-------------+\n"
          ]
        }
      ]
    },
    {
      "cell_type": "markdown",
      "metadata": {
        "id": "W2UnEFCNl7iP"
      },
      "source": [
        "#Chap 3 -  Measure Additivity"
      ]
    },
    {
      "cell_type": "code",
      "metadata": {
        "id": "_1PkXz3diCtY",
        "colab": {
          "base_uri": "https://localhost:8080/"
        },
        "outputId": "90c04d9f-64b8-4537-9f5f-d37a24d9bf22"
      },
      "source": [
        "!cat scripts/additive_data.sql"
      ],
      "execution_count": 48,
      "outputs": [
        {
          "output_type": "stream",
          "name": "stdout",
          "text": [
            "/*********************************************************************/\r\n",
            "/*                                                                   */\r\n",
            "/* additive_data.sql                                                 */                  \r\n",
            "/*                                                                   */\r\n",
            "/*********************************************************************/\r\n",
            "\r\n",
            "USE dw;\r\n",
            "\r\n",
            "INSERT INTO order_dim VALUES\r\n",
            "  (NULL, 1, CURRENT_DATE, '9999-12-31')\r\n",
            ", (NULL, 2, CURRENT_DATE, '9999-12-31')\r\n",
            ", (NULL, 3, CURRENT_DATE, '9999-12-31')\r\n",
            ", (NULL, 4, CURRENT_DATE, '9999-12-31')\r\n",
            ", (NULL, 5, CURRENT_DATE, '9999-12-31')\r\n",
            ", (NULL, 6, CURRENT_DATE, '9999-12-31')\r\n",
            ", (NULL, 7, CURRENT_DATE, '9999-12-31')\r\n",
            ", (NULL, 8, CURRENT_DATE, '9999-12-31')\r\n",
            ", (NULL, 9, CURRENT_DATE, '9999-12-31')\r\n",
            ", (NULL, 10, CURRENT_DATE, '9999-12-31')\r\n",
            ";\r\n",
            "\r\n",
            "INSERT INTO date_dim VALUES\r\n",
            "  (NULL, '2005-10-31', 'October', 10, 4, 2005, CURRENT_DATE, '9999-12-31')\r\n",
            ";\r\n",
            "\r\n",
            "INSERT INTO sales_order_fact VALUES\r\n",
            "  (1, 1, 2, 1, 1000)\r\n",
            ", (2, 2, 3, 1, 1000)\r\n",
            ", (3, 3, 4, 1, 4000)\r\n",
            ", (4, 4, 2, 1, 4000)\r\n",
            ", (5, 5, 3, 1, 6000)\r\n",
            ", (6, 1, 4, 1, 6000)\r\n",
            ", (7, 2, 2, 1, 8000)\r\n",
            ", (8, 3, 3, 1, 8000)\r\n",
            ", (9, 4, 4, 1, 10000)\r\n",
            ", (10, 5, 2, 1, 10000)\r\n",
            ";\r\n",
            "\r\n",
            "/* end of script                                                     */\r\n"
          ]
        }
      ]
    },
    {
      "cell_type": "code",
      "metadata": {
        "id": "snxMf5IsnTIP",
        "colab": {
          "base_uri": "https://localhost:8080/"
        },
        "outputId": "01e26c8c-f839-4e38-fe43-f1cb2c35447d"
      },
      "source": [
        "!mysql < scripts/additive_data.sql\n",
        "!mysql dw -e \"select * from sales_order_fact\""
      ],
      "execution_count": 49,
      "outputs": [
        {
          "output_type": "stream",
          "name": "stdout",
          "text": [
            "+----------+-------------+------------+---------------+--------------+\n",
            "| order_sk | customer_sk | product_sk | order_date_sk | order_amount |\n",
            "+----------+-------------+------------+---------------+--------------+\n",
            "|        1 |           1 |          2 |             1 |      1000.00 |\n",
            "|        2 |           2 |          3 |             1 |      1000.00 |\n",
            "|        3 |           3 |          4 |             1 |      4000.00 |\n",
            "|        4 |           4 |          2 |             1 |      4000.00 |\n",
            "|        5 |           5 |          3 |             1 |      6000.00 |\n",
            "|        6 |           1 |          4 |             1 |      6000.00 |\n",
            "|        7 |           2 |          2 |             1 |      8000.00 |\n",
            "|        8 |           3 |          3 |             1 |      8000.00 |\n",
            "|        9 |           4 |          4 |             1 |     10000.00 |\n",
            "|       10 |           5 |          2 |             1 |     10000.00 |\n",
            "+----------+-------------+------------+---------------+--------------+\n"
          ]
        }
      ]
    },
    {
      "cell_type": "code",
      "metadata": {
        "id": "iSyUNIeSoFbT",
        "colab": {
          "base_uri": "https://localhost:8080/"
        },
        "outputId": "f641b0e5-8d86-424f-a36b-2dfdf1b3742f"
      },
      "source": [
        "!mysql --table < scripts/across_all_dimensions.sql"
      ],
      "execution_count": 55,
      "outputs": [
        {
          "output_type": "stream",
          "name": "stdout",
          "text": [
            "+---------------------+\n",
            "| sum_of_order_amount |\n",
            "+---------------------+\n",
            "|            58000.00 |\n",
            "+---------------------+\n"
          ]
        }
      ]
    },
    {
      "cell_type": "code",
      "metadata": {
        "id": "RlvtAathoQyi",
        "colab": {
          "base_uri": "https://localhost:8080/"
        },
        "outputId": "0d302bd5-4ff5-4fbf-f98d-7d0171ed56f9"
      },
      "source": [
        "!mysql --table < scripts/across_date_product.sql\n",
        "# note this adds up to 58000 as well, as it should"
      ],
      "execution_count": 51,
      "outputs": [
        {
          "output_type": "stream",
          "name": "stdout",
          "text": [
            "+-----------------+---------------------+\n",
            "| customer_number | sum_of_order_amount |\n",
            "+-----------------+---------------------+\n",
            "|               1 |             7000.00 |\n",
            "|               2 |             9000.00 |\n",
            "|               3 |            12000.00 |\n",
            "|               4 |            14000.00 |\n",
            "|               5 |            16000.00 |\n",
            "+-----------------+---------------------+\n"
          ]
        }
      ]
    },
    {
      "cell_type": "code",
      "metadata": {
        "id": "uNLGD6EZrAev",
        "colab": {
          "base_uri": "https://localhost:8080/"
        },
        "outputId": "a2f7507b-429c-48af-91a2-4f95f5d1d90e"
      },
      "source": [
        "%%writefile pm_across_date_customer_order.sql\n",
        "USE dw;\n",
        "SELECT\n",
        "product_code, SUM(order_amount) sum_of_order_amount\n",
        "FROM\n",
        "sales_order_fact a\n",
        ", product_dim b\n",
        "WHERE\n",
        "a.product_sk = b.product_sk\n",
        "GROUP BY\n",
        "product_code\n",
        ";\n",
        "/* end of script */"
      ],
      "execution_count": 52,
      "outputs": [
        {
          "output_type": "stream",
          "name": "stdout",
          "text": [
            "Writing pm_across_date_customer_order.sql\n"
          ]
        }
      ]
    },
    {
      "cell_type": "code",
      "metadata": {
        "id": "7ozqwKQKrYar",
        "colab": {
          "base_uri": "https://localhost:8080/"
        },
        "outputId": "678c0679-ba20-4044-b7fa-043d45f727e5"
      },
      "source": [
        "!mysql --table < pm_across_date_customer_order.sql\n",
        "# this does not add up to 58,000 ! error !! "
      ],
      "execution_count": 54,
      "outputs": [
        {
          "output_type": "stream",
          "name": "stdout",
          "text": [
            "+--------------+---------------------+\n",
            "| product_code | sum_of_order_amount |\n",
            "+--------------+---------------------+\n",
            "|            2 |            23000.00 |\n",
            "|            1 |            20000.00 |\n",
            "+--------------+---------------------+\n"
          ]
        }
      ]
    },
    {
      "cell_type": "code",
      "metadata": {
        "id": "HoivevUfwf0n"
      },
      "source": [
        "#trying to fix the error referred to above\n",
        "!mysql dw -e \"update product_dim set product_sk = 3 where product_sk = 4\"\n",
        "!mysql dw -e \"update product_dim set product_sk = 4 where product_sk = 5\"\n"
      ],
      "execution_count": 56,
      "outputs": []
    },
    {
      "cell_type": "code",
      "metadata": {
        "id": "hlcSwl_lr-TF",
        "colab": {
          "base_uri": "https://localhost:8080/"
        },
        "outputId": "9d045925-8f49-47fd-a669-76dd720abd4f"
      },
      "source": [
        "%%writefile pm_quickcheck.sql\n",
        "USE dw;\n",
        "SELECT * from sales_order_fact;\n",
        "select * from product_dim;\n"
      ],
      "execution_count": null,
      "outputs": [
        {
          "output_type": "stream",
          "text": [
            "Writing pm_quickcheck.sql\n"
          ],
          "name": "stdout"
        }
      ]
    },
    {
      "cell_type": "code",
      "metadata": {
        "id": "12eQvvpDsUUZ",
        "colab": {
          "base_uri": "https://localhost:8080/"
        },
        "outputId": "daccb676-09bf-4421-c9b5-85247613dabd"
      },
      "source": [
        "!mysql -e 'USE dw; \\\n",
        "           SELECT * from sales_order_fact; \\\n",
        "           select * from product_dim;'\n",
        "#!mysql -udwid -ppw --table < pm_quickcheck.sql"
      ],
      "execution_count": 57,
      "outputs": [
        {
          "output_type": "stream",
          "name": "stdout",
          "text": [
            "+----------+-------------+------------+---------------+--------------+\n",
            "| order_sk | customer_sk | product_sk | order_date_sk | order_amount |\n",
            "+----------+-------------+------------+---------------+--------------+\n",
            "|        1 |           1 |          2 |             1 |      1000.00 |\n",
            "|        2 |           2 |          3 |             1 |      1000.00 |\n",
            "|        3 |           3 |          4 |             1 |      4000.00 |\n",
            "|        4 |           4 |          2 |             1 |      4000.00 |\n",
            "|        5 |           5 |          3 |             1 |      6000.00 |\n",
            "|        6 |           1 |          4 |             1 |      6000.00 |\n",
            "|        7 |           2 |          2 |             1 |      8000.00 |\n",
            "|        8 |           3 |          3 |             1 |      8000.00 |\n",
            "|        9 |           4 |          4 |             1 |     10000.00 |\n",
            "|       10 |           5 |          2 |             1 |     10000.00 |\n",
            "+----------+-------------+------------+---------------+--------------+\n",
            "+------------+--------------+-----------------+------------------+----------------+-------------+\n",
            "| product_sk | product_code | product_name    | product_category | effective_date | expiry_date |\n",
            "+------------+--------------+-----------------+------------------+----------------+-------------+\n",
            "|          1 |            1 | Hard Disk       | Storage          | 2007-02-03     | 2023-01-27  |\n",
            "|          2 |            2 | Floppy Drive    | Storage          | 2007-02-03     | 9999-12-31  |\n",
            "|          3 |            1 | Hard Disk Drive | Storage          | 2007-02-05     | 9999-12-31  |\n",
            "|          4 |            3 | LCD Panel       | Monitor          | 2007-02-05     | 9999-12-31  |\n",
            "+------------+--------------+-----------------+------------------+----------------+-------------+\n"
          ]
        }
      ]
    },
    {
      "cell_type": "code",
      "metadata": {
        "id": "7jMtvABmoy9a",
        "colab": {
          "base_uri": "https://localhost:8080/"
        },
        "outputId": "c7dc4731-1ca0-4332-c786-116de3f1d440"
      },
      "source": [
        "!mysql --table < scripts/across_date_customer.sql\n",
        "# now we get back 58,000"
      ],
      "execution_count": 58,
      "outputs": [
        {
          "output_type": "stream",
          "name": "stdout",
          "text": [
            "+--------------+---------------------+\n",
            "| product_code | sum_of_order_amount |\n",
            "+--------------+---------------------+\n",
            "|            2 |            23000.00 |\n",
            "|            1 |            15000.00 |\n",
            "|            3 |            20000.00 |\n",
            "+--------------+---------------------+\n"
          ]
        }
      ]
    },
    {
      "cell_type": "code",
      "metadata": {
        "id": "lk2jf7H1p9S4"
      },
      "source": [
        "#after the error fix, back in sync with the tutorial book"
      ],
      "execution_count": null,
      "outputs": []
    },
    {
      "cell_type": "code",
      "metadata": {
        "id": "C8shMyoxoPeL",
        "colab": {
          "base_uri": "https://localhost:8080/"
        },
        "outputId": "f87551cf-afd0-4420-ddbb-a598d3fa21c1"
      },
      "source": [
        "!mysql --table < scripts/across_date.sql\n",
        "# and we are back to 58,000 again"
      ],
      "execution_count": 59,
      "outputs": [
        {
          "output_type": "stream",
          "name": "stdout",
          "text": [
            "+-----------------+--------------+---------------------+\n",
            "| customer_number | product_code | sum_of_order_amount |\n",
            "+-----------------+--------------+---------------------+\n",
            "|               1 |            2 |             1000.00 |\n",
            "|               2 |            1 |             1000.00 |\n",
            "|               3 |            3 |             4000.00 |\n",
            "|               4 |            2 |             4000.00 |\n",
            "|               5 |            1 |             6000.00 |\n",
            "|               1 |            3 |             6000.00 |\n",
            "|               2 |            2 |             8000.00 |\n",
            "|               3 |            1 |             8000.00 |\n",
            "|               4 |            3 |            10000.00 |\n",
            "|               5 |            2 |            10000.00 |\n",
            "+-----------------+--------------+---------------------+\n"
          ]
        }
      ]
    },
    {
      "cell_type": "markdown",
      "metadata": {
        "id": "g63TvPo7eHWs"
      },
      "source": []
    },
    {
      "cell_type": "markdown",
      "metadata": {
        "id": "oQC5AQMXd8yt"
      },
      "source": [
        "#Chap 4 - Dimensional Queries"
      ]
    },
    {
      "cell_type": "code",
      "metadata": {
        "id": "oSxcNlFMeCW0"
      },
      "source": [
        "#!ls scripts/da*"
      ],
      "execution_count": 60,
      "outputs": []
    },
    {
      "cell_type": "code",
      "metadata": {
        "id": "c3zNPYfFkl55",
        "colab": {
          "base_uri": "https://localhost:8080/"
        },
        "outputId": "c9788e58-c623-45d3-b908-45c61ec89a9c"
      },
      "source": [
        "!cat scripts/dimensional_query_data.sql "
      ],
      "execution_count": 61,
      "outputs": [
        {
          "output_type": "stream",
          "name": "stdout",
          "text": [
            "/*********************************************************************/\r\n",
            "/*                                                                   */\r\n",
            "/* dimensional_query_data.sql                                        */                  \r\n",
            "/*                                                                   */\r\n",
            "/*********************************************************************/\r\n",
            "\r\n",
            "USE dw;\r\n",
            "\r\n",
            "INSERT INTO order_dim VALUES\r\n",
            "  (NULL, 11, CURRENT_DATE, '9999-12-31')\r\n",
            ", (NULL, 12, CURRENT_DATE, '9999-12-31')\r\n",
            ", (NULL, 13, CURRENT_DATE, '9999-12-31')\r\n",
            ", (NULL, 14, CURRENT_DATE, '9999-12-31')\r\n",
            ", (NULL, 15, CURRENT_DATE, '9999-12-31')\r\n",
            ", (NULL, 16, CURRENT_DATE, '9999-12-31')\r\n",
            ";\r\n",
            "\r\n",
            "INSERT INTO date_dim VALUES\r\n",
            "  (NULL, '2005-11-01', 'November', 11, 4, 2005, CURRENT_DATE, '9999-12-31')\r\n",
            ";\r\n",
            "\r\n",
            "INSERT INTO sales_order_fact VALUES\r\n",
            "  (11, 1, 2, 2, 20000) \r\n",
            ", (12, 2, 3, 2, 25000)\r\n",
            ", (13, 3, 4, 2, 30000)\r\n",
            ", (14, 4, 2, 2, 35000) \r\n",
            ", (15, 5, 3, 2, 40000)\r\n",
            ", (16, 1, 4, 2, 45000)\r\n",
            ";\r\n",
            "\r\n",
            "/* end of script                                                     */\r\n"
          ]
        }
      ]
    },
    {
      "cell_type": "code",
      "metadata": {
        "id": "NukwQXjwk01f"
      },
      "source": [
        "!mysql dw --table < scripts/dimensional_query_data.sql"
      ],
      "execution_count": 62,
      "outputs": []
    },
    {
      "cell_type": "code",
      "metadata": {
        "id": "LvlvXPq3fz5r",
        "colab": {
          "base_uri": "https://localhost:8080/"
        },
        "outputId": "72f7b9f6-78f2-420a-90ab-ec110c4620ae"
      },
      "source": [
        "!mysql dw -e \"select * from sales_order_fact\""
      ],
      "execution_count": 63,
      "outputs": [
        {
          "output_type": "stream",
          "name": "stdout",
          "text": [
            "+----------+-------------+------------+---------------+--------------+\n",
            "| order_sk | customer_sk | product_sk | order_date_sk | order_amount |\n",
            "+----------+-------------+------------+---------------+--------------+\n",
            "|        1 |           1 |          2 |             1 |      1000.00 |\n",
            "|        2 |           2 |          3 |             1 |      1000.00 |\n",
            "|        3 |           3 |          4 |             1 |      4000.00 |\n",
            "|        4 |           4 |          2 |             1 |      4000.00 |\n",
            "|        5 |           5 |          3 |             1 |      6000.00 |\n",
            "|        6 |           1 |          4 |             1 |      6000.00 |\n",
            "|        7 |           2 |          2 |             1 |      8000.00 |\n",
            "|        8 |           3 |          3 |             1 |      8000.00 |\n",
            "|        9 |           4 |          4 |             1 |     10000.00 |\n",
            "|       10 |           5 |          2 |             1 |     10000.00 |\n",
            "|       11 |           1 |          2 |             2 |     20000.00 |\n",
            "|       12 |           2 |          3 |             2 |     25000.00 |\n",
            "|       13 |           3 |          4 |             2 |     30000.00 |\n",
            "|       14 |           4 |          2 |             2 |     35000.00 |\n",
            "|       15 |           5 |          3 |             2 |     40000.00 |\n",
            "|       16 |           1 |          4 |             2 |     45000.00 |\n",
            "+----------+-------------+------------+---------------+--------------+\n"
          ]
        }
      ]
    },
    {
      "cell_type": "code",
      "metadata": {
        "id": "tGVCdN01e423",
        "colab": {
          "base_uri": "https://localhost:8080/"
        },
        "outputId": "e5d8f55a-2b8c-41d5-eac7-4a965faaf3e1"
      },
      "source": [
        "!cat scripts/daily_aggregation.sql"
      ],
      "execution_count": 64,
      "outputs": [
        {
          "output_type": "stream",
          "name": "stdout",
          "text": [
            "/*********************************************************************/\r\n",
            "/*                                                                   */\r\n",
            "/* daily_aggregation.sql                                             */                  \r\n",
            "/*                                                                   */\r\n",
            "/*********************************************************************/\r\n",
            "\r\n",
            "SELECT date, SUM(order_amount), COUNT(*)\r\n",
            "FROM\r\n",
            "  sales_order_fact a\r\n",
            ", date_dim b\r\n",
            "WHERE\r\n",
            "a.order_date_sk = b.date_sk\r\n",
            "GROUP BY date\r\n",
            "ORDER BY date\r\n",
            ";\r\n",
            "\r\n",
            "/* end of script                                                     */\r\n"
          ]
        }
      ]
    },
    {
      "cell_type": "code",
      "metadata": {
        "id": "t-OYxx2wek9W",
        "colab": {
          "base_uri": "https://localhost:8080/"
        },
        "outputId": "7c2d25e0-ea6a-4ebb-fc80-96d8622d423c"
      },
      "source": [
        "!mysql dw --table < scripts/daily_aggregation.sql"
      ],
      "execution_count": 65,
      "outputs": [
        {
          "output_type": "stream",
          "name": "stdout",
          "text": [
            "+------------+-------------------+----------+\n",
            "| date       | SUM(order_amount) | COUNT(*) |\n",
            "+------------+-------------------+----------+\n",
            "| 2005-10-31 |          58000.00 |       10 |\n",
            "| 2005-11-01 |         195000.00 |        6 |\n",
            "+------------+-------------------+----------+\n"
          ]
        }
      ]
    },
    {
      "cell_type": "code",
      "metadata": {
        "id": "44sGgG_agZDK",
        "colab": {
          "base_uri": "https://localhost:8080/"
        },
        "outputId": "46b2c77f-22f0-4a59-82a0-3a8634c5f180"
      },
      "source": [
        "!mysql dw --table < scripts/annual_aggregation.sql"
      ],
      "execution_count": 66,
      "outputs": [
        {
          "output_type": "stream",
          "name": "stdout",
          "text": [
            "+------+-----------------+---------------+-------------------+----------+\n",
            "| year | product_name    | customer_city | SUM(order_amount) | COUNT(*) |\n",
            "+------+-----------------+---------------+-------------------+----------+\n",
            "| 2005 | Floppy Drive    | Mechanicsburg |          70000.00 |        5 |\n",
            "| 2005 | Floppy Drive    | Pittsburgh    |           8000.00 |        1 |\n",
            "| 2005 | Hard Disk Drive | Mechanicsburg |          46000.00 |        2 |\n",
            "| 2005 | Hard Disk Drive | Pittsburgh    |          34000.00 |        3 |\n",
            "| 2005 | LCD Panel       | Mechanicsburg |          61000.00 |        3 |\n",
            "| 2005 | LCD Panel       | Pittsburgh    |          34000.00 |        2 |\n",
            "+------+-----------------+---------------+-------------------+----------+\n"
          ]
        }
      ]
    },
    {
      "cell_type": "code",
      "metadata": {
        "id": "t-VcxNdTgtDC",
        "colab": {
          "base_uri": "https://localhost:8080/"
        },
        "outputId": "2da97c80-400c-4948-c980-f23b719698df"
      },
      "source": [
        "!mysql dw --table < scripts/monthly_storage.sql"
      ],
      "execution_count": 67,
      "outputs": [
        {
          "output_type": "stream",
          "name": "stdout",
          "text": [
            "+-----------------+------------+------+-------------------+----------+\n",
            "| product_name    | month_name | year | SUM(order_amount) | COUNT(*) |\n",
            "+-----------------+------------+------+-------------------+----------+\n",
            "| Floppy Drive    | November   | 2005 |          55000.00 |        2 |\n",
            "| Hard Disk Drive | November   | 2005 |          65000.00 |        2 |\n",
            "| Floppy Drive    | October    | 2005 |          23000.00 |        4 |\n",
            "| Hard Disk Drive | October    | 2005 |          15000.00 |        3 |\n",
            "+-----------------+------------+------+-------------------+----------+\n"
          ]
        }
      ]
    },
    {
      "cell_type": "code",
      "metadata": {
        "id": "CDvEh2mfl9ac",
        "colab": {
          "base_uri": "https://localhost:8080/"
        },
        "outputId": "0f257739-a95b-4be3-f0c5-8c0b7ffacb0f"
      },
      "source": [
        "!mysql dw --table < scripts/quarterly_mechanicsburg.sql"
      ],
      "execution_count": 68,
      "outputs": [
        {
          "output_type": "stream",
          "name": "stdout",
          "text": [
            "+---------------+---------+------+-------------------+-----------------+\n",
            "| customer_city | quarter | year | SUM(order_amount) | COUNT(order_sk) |\n",
            "+---------------+---------+------+-------------------+-----------------+\n",
            "| Mechanicsburg |       4 | 2005 |         177000.00 |              10 |\n",
            "+---------------+---------+------+-------------------+-----------------+\n"
          ]
        }
      ]
    },
    {
      "cell_type": "code",
      "metadata": {
        "id": "bFFyO34Bmz8X",
        "colab": {
          "base_uri": "https://localhost:8080/"
        },
        "outputId": "1869ca7e-d743-41ee-dc90-1212b3a77906"
      },
      "source": [
        "!cat scripts/monthly_product_performer.sql\n",
        "# there is an error in this script .. can you spot it?"
      ],
      "execution_count": 69,
      "outputs": [
        {
          "output_type": "stream",
          "name": "stdout",
          "text": [
            "/*********************************************************************/\r\n",
            "/*                                                                   */\r\n",
            "/* monthly_product_performer.sql                                     */                  \r\n",
            "/*                                                                   */\r\n",
            "/*********************************************************************/\r\n",
            "\r\n",
            "USE dw;\r\n",
            "\r\n",
            "SELECT month_name, year, product_name, SUM(order_amount), COUNT(*)\r\n",
            "FROM\r\n",
            "  sales_order_fact a\r\n",
            ", product_dim b\r\n",
            ", date_dim c\r\n",
            "WHERE\r\n",
            "    a.product_sk = b.product_sk\r\n",
            "AND a.order_date_sk = c.date_sk\r\n",
            "GROUP BY \r\n",
            "  month_name\r\n",
            ", year\r\n",
            ", product_name\r\n",
            "HAVING SUM(order_amount) >= 75000\r\n",
            "ORDER BY \r\n",
            "  month\r\n",
            ", year\r\n",
            ", product_name\r\n",
            ";\r\n",
            "\r\n",
            "/* end of script                                                     */\r\n"
          ]
        }
      ]
    },
    {
      "cell_type": "code",
      "metadata": {
        "id": "xoczCQzElsOT",
        "colab": {
          "base_uri": "https://localhost:8080/"
        },
        "outputId": "ecc71147-cc8a-455b-ba93-78ada8bba0c1"
      },
      "source": [
        "!mysql dw --table < scripts/monthly_product_performer.sql"
      ],
      "execution_count": 70,
      "outputs": [
        {
          "output_type": "stream",
          "name": "stdout",
          "text": [
            "ERROR 1055 (42000) at line 9: Expression #1 of ORDER BY clause is not in GROUP BY clause and contains nonaggregated column 'dw.c.month' which is not functionally dependent on columns in GROUP BY clause; this is incompatible with sql_mode=only_full_group_by\n"
          ]
        }
      ]
    },
    {
      "cell_type": "code",
      "metadata": {
        "id": "SONlYAGOnPKW",
        "colab": {
          "base_uri": "https://localhost:8080/"
        },
        "outputId": "91f03d11-3c8e-4285-db85-3f49e0877997"
      },
      "source": [
        "%%writefile pm_monthly_product_performer.sql\n",
        "\n",
        "USE dw;\n",
        "\n",
        "SELECT month_name, year, product_name, SUM(order_amount), COUNT(*)\n",
        "FROM\n",
        "  sales_order_fact a\n",
        ", product_dim b\n",
        ", date_dim c\n",
        "WHERE\n",
        "    a.product_sk = b.product_sk\n",
        "AND a.order_date_sk = c.date_sk\n",
        "GROUP BY \n",
        "  month_name\n",
        ", year\n",
        ", product_name\n",
        "HAVING SUM(order_amount) >= 75000\n",
        "ORDER BY \n",
        "  month_name\n",
        ", year\n",
        ", product_name\n",
        ";"
      ],
      "execution_count": 71,
      "outputs": [
        {
          "output_type": "stream",
          "name": "stdout",
          "text": [
            "Writing pm_monthly_product_performer.sql\n"
          ]
        }
      ]
    },
    {
      "cell_type": "code",
      "metadata": {
        "id": "XnJM_Q7EnhHN",
        "colab": {
          "base_uri": "https://localhost:8080/"
        },
        "outputId": "e9ceac15-9d15-4ee3-af8f-292974e7149e"
      },
      "source": [
        "#running the corrected script\n",
        "!mysql dw --table < pm_monthly_product_performer.sql"
      ],
      "execution_count": 72,
      "outputs": [
        {
          "output_type": "stream",
          "name": "stdout",
          "text": [
            "+------------+------+--------------+-------------------+----------+\n",
            "| month_name | year | product_name | SUM(order_amount) | COUNT(*) |\n",
            "+------------+------+--------------+-------------------+----------+\n",
            "| November   | 2005 | LCD Panel    |          75000.00 |        2 |\n",
            "+------------+------+--------------+-------------------+----------+\n"
          ]
        }
      ]
    },
    {
      "cell_type": "markdown",
      "metadata": {
        "id": "EW_5vS_8Benv"
      },
      "source": [
        "sample forms https://colab.research.google.com/notebooks/forms.ipynb"
      ]
    },
    {
      "cell_type": "code",
      "metadata": {
        "id": "IC9i7zfj-yIp",
        "colab": {
          "base_uri": "https://localhost:8080/"
        },
        "outputId": "febaf673-3afc-44af-d6d7-8d1d2783aedb"
      },
      "source": [
        "!mysql dw --table < scripts/loyal_customer.sql"
      ],
      "execution_count": 73,
      "outputs": [
        {
          "output_type": "stream",
          "name": "stdout",
          "text": [
            "+-----------------+------+----------+\n",
            "| customer_number | year | COUNT(*) |\n",
            "+-----------------+------+----------+\n",
            "|               1 | 2005 |        4 |\n",
            "+-----------------+------+----------+\n"
          ]
        }
      ]
    },
    {
      "cell_type": "code",
      "source": [
        "from datetime import datetime\n",
        "import pytz\n",
        "print('signed off at  ',datetime.now(pytz.timezone('Asia/Singapore')))"
      ],
      "metadata": {
        "colab": {
          "base_uri": "https://localhost:8080/"
        },
        "id": "EI_0iM7qrstd",
        "outputId": "6b55d6fc-222a-4c9d-c9c4-a6b6d291cfe9"
      },
      "execution_count": 74,
      "outputs": [
        {
          "output_type": "stream",
          "name": "stdout",
          "text": [
            "signed off at   2023-01-28 17:22:04.670822+08:00\n"
          ]
        }
      ]
    },
    {
      "cell_type": "markdown",
      "metadata": {
        "id": "wa5R9CaD1t2a"
      },
      "source": [
        "#Chronobooks <br>\n",
        "Two science fiction novels by Prithwis Mukerjee. A dystopian Earth. A technocratic society managed by artificial intelligence. Escape and epiphany on Mars. Can man and machine, carbon and silicon explore and escape into other dimensions of existence? An Indic perspective rooted in Advaita Vedanta and the Divine Feminine.  [More information](http://bit.ly/chronobooks) <br>\n",
        "![alt text](https://github.com/Praxis-QR/RDWH/raw/main/images/CTCYFooter-1.png)"
      ]
    }
  ]
}