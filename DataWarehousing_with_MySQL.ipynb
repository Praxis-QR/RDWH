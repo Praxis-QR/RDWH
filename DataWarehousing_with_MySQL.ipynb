{
  "nbformat": 4,
  "nbformat_minor": 0,
  "metadata": {
    "colab": {
      "provenance": [],
      "include_colab_link": true
    },
    "kernelspec": {
      "name": "python3",
      "display_name": "Python 3"
    }
  },
  "cells": [
    {
      "cell_type": "markdown",
      "metadata": {
        "id": "view-in-github",
        "colab_type": "text"
      },
      "source": [
        "<a href=\"https://colab.research.google.com/github/Praxis-QR/RDWH/blob/main/DataWarehousing_with_MySQL.ipynb\" target=\"_parent\"><img src=\"https://colab.research.google.com/assets/colab-badge.svg\" alt=\"Open In Colab\"/></a>"
      ]
    },
    {
      "cell_type": "markdown",
      "metadata": {
        "id": "JLS_gJa1nzro"
      },
      "source": [
        "![alt text](https://github.com/Praxis-QR/RDWH/raw/main/images/YantraJaalBanner.png)<br>\n",
        "\n",
        "\n",
        "<hr>\n",
        "\n",
        "[Prithwis Mukerjee](http://www.linkedin.com/in/prithwis)<br>"
      ]
    },
    {
      "cell_type": "markdown",
      "metadata": {
        "id": "8rtzja3Fbppg"
      },
      "source": [
        "#Datawarehousing with MySQL <br>\n",
        "\n",
        "<br>\n",
        "based on the codes available with the book Dimensional Datawarehousing with MySQL https://brainysoftware.com/9780975212820   [archive](https://drive.google.com/open?id=1BeIC5uEMGu85PADHRN-Zpn3lmZ3ihrkE) <br>\n",
        "Updated to reflect MySQL V8"
      ]
    },
    {
      "cell_type": "markdown",
      "metadata": {
        "id": "aGzVf5TLov-E"
      },
      "source": [
        "# Install MySQL"
      ]
    },
    {
      "cell_type": "code",
      "metadata": {
        "id": "Xi1BqQUKpu13",
        "colab": {
          "base_uri": "https://localhost:8080/"
        },
        "outputId": "499aca2d-d014-4739-a854-82bd6eff141a"
      },
      "source": [
        "!apt update > /dev/null\n",
        "!apt -y install mysql-server > /dev/null\n",
        "!mysql --version\n",
        "!/etc/init.d/mysql restart\n",
        "#!mysql -e 'show databases'"
      ],
      "execution_count": 1,
      "outputs": [
        {
          "output_type": "stream",
          "name": "stdout",
          "text": [
            "\n",
            "WARNING: apt does not have a stable CLI interface. Use with caution in scripts.\n",
            "\n",
            "\n",
            "WARNING: apt does not have a stable CLI interface. Use with caution in scripts.\n",
            "\n",
            "mysql  Ver 8.0.32-0ubuntu0.20.04.2 for Linux on x86_64 ((Ubuntu))\n",
            " * Stopping MySQL database server mysqld\n",
            "   ...done.\n",
            " * Starting MySQL database server mysqld\n",
            "su: warning: cannot change directory to /nonexistent: No such file or directory\n",
            "   ...done.\n"
          ]
        }
      ]
    },
    {
      "cell_type": "markdown",
      "metadata": {
        "id": "ZydiAiFhln01"
      },
      "source": [
        "# Get Code Files<br>\n",
        " "
      ]
    },
    {
      "cell_type": "code",
      "metadata": {
        "id": "gEFRmvclxduY",
        "colab": {
          "base_uri": "https://localhost:8080/"
        },
        "outputId": "8f9b3ec0-fd0f-4d23-84dd-2685149fac6f"
      },
      "source": [
        "#!wget https://brainysoftware.com/source/9780975212820.zip\n",
        "#https://drive.google.com/open?id=1qaiPXbxtIivCbBLmWiYvHMKAjAmNn2Y0\n",
        "#!gdown https://drive.google.com/uc?id=1qaiPXbxtIivCbBLmWiYvHMKAjAmNn2Y0\n",
        "!wget -q -O dwCode.zip https://github.com/Praxis-QR/RDWH/blob/main/dwMySQL/dwCode.zip?raw=true\n",
        "#!unzip 9780975212820.zip\n",
        "!unzip dwCode.zip > /dev/null\n",
        "!ls"
      ],
      "execution_count": 2,
      "outputs": [
        {
          "output_type": "stream",
          "name": "stdout",
          "text": [
            "dwCode.zip  sample_data  scripts  source_data\n"
          ]
        }
      ]
    },
    {
      "cell_type": "markdown",
      "metadata": {
        "id": "oUxe4Cpi961m"
      },
      "source": [
        "# Initial Setup"
      ]
    },
    {
      "cell_type": "code",
      "source": [
        "#Create userid\n",
        "#\n",
        "#!mysql < scripts/create_user_id.sql\n",
        "#see the script that created the userid\n",
        "#\n",
        "#!cat scripts/create_user_id.sql\n",
        "#\n",
        "!mysql -e \"create user dwid@localhost IDENTIFIED BY 'pw';\"\n",
        "!mysql -e \"GRANT ALL PRIVILEGES ON *.* TO 'dwid'@'localhost'\""
      ],
      "metadata": {
        "id": "b8afTC4vAdo5"
      },
      "execution_count": 3,
      "outputs": []
    },
    {
      "cell_type": "code",
      "metadata": {
        "id": "TVzIIAHf_Bcf"
      },
      "source": [
        "# see the privileges given to dw\n",
        "#\n",
        "#!mysql -e \"show grants for dwid@localhost\""
      ],
      "execution_count": 4,
      "outputs": []
    },
    {
      "cell_type": "code",
      "source": [
        "# Editing, updating the configuration file\n",
        "!cat /etc/mysql/my.cnf"
      ],
      "metadata": {
        "colab": {
          "base_uri": "https://localhost:8080/"
        },
        "id": "y6vkIse2xhBk",
        "outputId": "e6b352be-f54a-499c-c106-e929586772de"
      },
      "execution_count": 5,
      "outputs": [
        {
          "output_type": "stream",
          "name": "stdout",
          "text": [
            "#\n",
            "# The MySQL database server configuration file.\n",
            "#\n",
            "# You can copy this to one of:\n",
            "# - \"/etc/mysql/my.cnf\" to set global options,\n",
            "# - \"~/.my.cnf\" to set user-specific options.\n",
            "# \n",
            "# One can use all long options that the program supports.\n",
            "# Run program with --help to get a list of available options and with\n",
            "# --print-defaults to see which it would actually understand and use.\n",
            "#\n",
            "# For explanations see\n",
            "# http://dev.mysql.com/doc/mysql/en/server-system-variables.html\n",
            "\n",
            "#\n",
            "# * IMPORTANT: Additional settings that can override those from this file!\n",
            "#   The files must end with '.cnf', otherwise they'll be ignored.\n",
            "#\n",
            "\n",
            "!includedir /etc/mysql/conf.d/\n",
            "!includedir /etc/mysql/mysql.conf.d/\n"
          ]
        }
      ]
    },
    {
      "cell_type": "code",
      "source": [
        "# saving password for ease of use\n",
        "!echo '[client]' >> /etc/mysql/my.cnf\n",
        "!echo 'user = \"dwid\"' >> /etc/mysql/my.cnf\n",
        "!echo 'password = \"pw\"' >> /etc/mysql/my.cnf\n",
        "# allowing data load\n",
        "!echo '[mysqld]' >> /etc/mysql/my.cnf\n",
        "!echo 'secure-file-priv = \"\"' >> /etc/mysql/my.cnf\n",
        "# restart database\n",
        "!/etc/init.d/mysql restart"
      ],
      "metadata": {
        "colab": {
          "base_uri": "https://localhost:8080/"
        },
        "id": "dbPcSQ2QxtBE",
        "outputId": "d9051f5d-ebf9-427a-8c10-802ea7469651"
      },
      "execution_count": 6,
      "outputs": [
        {
          "output_type": "stream",
          "name": "stdout",
          "text": [
            " * Stopping MySQL database server mysqld\n",
            "   ...done.\n",
            " * Starting MySQL database server mysqld\n",
            "su: warning: cannot change directory to /nonexistent: No such file or directory\n",
            "   ...done.\n"
          ]
        }
      ]
    },
    {
      "cell_type": "code",
      "source": [
        "#Create databases\n",
        "#\n",
        "#!mysql -udwid -ppw < scripts/create_databases.sql\n",
        "# see what the script had\n",
        "#\n",
        "\n",
        "!mysql -e \"CREATE DATABASE dw\"\n",
        "!mysql -e \"CREATE DATABASE source\"\n",
        "!mysql -e \"show databases\""
      ],
      "metadata": {
        "colab": {
          "base_uri": "https://localhost:8080/"
        },
        "id": "hGH1zH9BzXYx",
        "outputId": "d862bb7f-92cf-42dc-c325-dae44efa9083"
      },
      "execution_count": 7,
      "outputs": [
        {
          "output_type": "stream",
          "name": "stdout",
          "text": [
            "+--------------------+\n",
            "| Database           |\n",
            "+--------------------+\n",
            "| dw                 |\n",
            "| information_schema |\n",
            "| mysql              |\n",
            "| performance_schema |\n",
            "| source             |\n",
            "| sys                |\n",
            "+--------------------+\n"
          ]
        }
      ]
    },
    {
      "cell_type": "code",
      "metadata": {
        "id": "ArdGnyZLAEFa",
        "colab": {
          "base_uri": "https://localhost:8080/"
        },
        "outputId": "cd1301ab-359b-4fc9-dbf9-9e819b6dcc47"
      },
      "source": [
        "#create the various tables\n",
        "# one fact table and three dimension tables\n",
        "#\n",
        "#!mysql -udwid -ppw < scripts/create_dw_tables.sql\n",
        "!mysql < scripts/create_dw_tables.sql\n",
        "!mysql dw -e \"show tables\""
      ],
      "execution_count": 8,
      "outputs": [
        {
          "output_type": "stream",
          "name": "stdout",
          "text": [
            "+------------------+\n",
            "| Tables_in_dw     |\n",
            "+------------------+\n",
            "| customer_dim     |\n",
            "| date_dim         |\n",
            "| order_dim        |\n",
            "| product_dim      |\n",
            "| sales_order_fact |\n",
            "+------------------+\n"
          ]
        }
      ]
    },
    {
      "cell_type": "code",
      "metadata": {
        "id": "q3rxHRQjAsb9"
      },
      "source": [
        "#!mysql dw -e \"desc customer_dim\"\n",
        "#!mysql dw -e \"desc product_dim\"\n",
        "#!mysql dw -e \"desc order_dim\""
      ],
      "execution_count": 9,
      "outputs": []
    },
    {
      "cell_type": "code",
      "metadata": {
        "id": "z9PCklcv-ElD",
        "colab": {
          "base_uri": "https://localhost:8080/"
        },
        "outputId": "7f61c0f5-1923-4a8c-94bc-7bd5dca75bdf"
      },
      "source": [
        "!date"
      ],
      "execution_count": 10,
      "outputs": [
        {
          "output_type": "stream",
          "name": "stdout",
          "text": [
            "Tue 31 Jan 2023 12:09:30 AM UTC\n"
          ]
        }
      ]
    },
    {
      "cell_type": "code",
      "metadata": {
        "id": "Tcz05KxpBRGa",
        "colab": {
          "base_uri": "https://localhost:8080/"
        },
        "outputId": "f6a8ee14-af47-48cd-e28c-721ddd238e91"
      },
      "source": [
        "#this action cannot be performed except on a local machine \n",
        "!sudo date +%Y%m%d -s \"20070201\""
      ],
      "execution_count": 11,
      "outputs": [
        {
          "output_type": "stream",
          "name": "stdout",
          "text": [
            "date: cannot set date: Operation not permitted\n",
            "20070201\n"
          ]
        }
      ]
    },
    {
      "cell_type": "code",
      "metadata": {
        "id": "amTYmZFaC6sM",
        "colab": {
          "base_uri": "https://localhost:8080/"
        },
        "outputId": "fe9ea90a-8d15-47ac-e56c-470034825de5"
      },
      "source": [
        "#!cat scripts/customer_sk.sql\n",
        "#!mysql -udwid -ppw < scripts/customer_sk.sql\n",
        "!mysql < scripts/customer_sk.sql\n",
        "!mysql dw -e \"select * from customer_dim\""
      ],
      "execution_count": 12,
      "outputs": [
        {
          "output_type": "stream",
          "name": "stdout",
          "text": [
            "+-------------+-----------------+------------------+-------------------------+-------------------+---------------+----------------+----------------+-------------+\n",
            "| customer_sk | customer_number | customer_name    | customer_street_address | customer_zip_code | customer_city | customer_state | effective_date | expiry_date |\n",
            "+-------------+-----------------+------------------+-------------------------+-------------------+---------------+----------------+----------------+-------------+\n",
            "|           1 |               1 | Big Customers    | 7500 Louise Dr.         |             17050 | Mechanicsburg | PA             | 2023-01-31     | 9999-12-31  |\n",
            "|           2 |               2 | Small Stores     | 2500 Woodland St.       |             17055 | Pittsburgh    | PA             | 2023-01-31     | 9999-12-31  |\n",
            "|           3 |               3 | Medium Retailers | 1111 Ritter Rd.         |             17055 | Pittsburgh    | PA             | 2023-01-31     | 9999-12-31  |\n",
            "+-------------+-----------------+------------------+-------------------------+-------------------+---------------+----------------+----------------+-------------+\n"
          ]
        }
      ]
    },
    {
      "cell_type": "code",
      "metadata": {
        "id": "syuBonCUDbN-",
        "colab": {
          "base_uri": "https://localhost:8080/"
        },
        "outputId": "15b707d6-54f5-41e7-81f8-66f127a944ee"
      },
      "source": [
        "#!mysql -udwid -ppw < scripts/more_customer_sk.sql\n",
        "!mysql < scripts/more_customer_sk.sql\n",
        "!mysql dw -e \"select * from customer_dim\"\n",
        "# note we could not set the date to an earlier date by changing the computer time"
      ],
      "execution_count": 13,
      "outputs": [
        {
          "output_type": "stream",
          "name": "stdout",
          "text": [
            "+-------------+-----------------+------------------+-------------------------+-------------------+---------------+----------------+----------------+-------------+\n",
            "| customer_sk | customer_number | customer_name    | customer_street_address | customer_zip_code | customer_city | customer_state | effective_date | expiry_date |\n",
            "+-------------+-----------------+------------------+-------------------------+-------------------+---------------+----------------+----------------+-------------+\n",
            "|           1 |               1 | Big Customers    | 7500 Louise Dr.         |             17050 | Mechanicsburg | PA             | 2023-01-31     | 9999-12-31  |\n",
            "|           2 |               2 | Small Stores     | 2500 Woodland St.       |             17055 | Pittsburgh    | PA             | 2023-01-31     | 9999-12-31  |\n",
            "|           3 |               3 | Medium Retailers | 1111 Ritter Rd.         |             17055 | Pittsburgh    | PA             | 2023-01-31     | 9999-12-31  |\n",
            "|           4 |               4 | Good Companies   | 9500 Scott St.          |             17050 | Mechanicsburg | PA             | 2023-01-31     | 9999-12-31  |\n",
            "|           5 |               5 | Wonderful Shops  | 3333 Rossmoyne Rd.      |             17050 | Mechanicsburg | PA             | 2023-01-31     | 9999-12-31  |\n",
            "|           6 |               6 | Loyal Clients    | 7070 Ritter Rd.         |             17055 | Pittsburgh    | PA             | 2023-01-31     | 9999-12-31  |\n",
            "+-------------+-----------------+------------------+-------------------------+-------------------+---------------+----------------+----------------+-------------+\n"
          ]
        }
      ]
    },
    {
      "cell_type": "code",
      "metadata": {
        "id": "DQaKzOu-EEs6",
        "colab": {
          "base_uri": "https://localhost:8080/"
        },
        "outputId": "fea28971-f7f9-463f-bc2e-fe2ac75b6587"
      },
      "source": [
        "#since it was not possible to set the system date on Colab, the date was changed manually\n",
        "!mysql dw -e \"update customer_dim set effective_date = '2007-02-01' \"\n",
        "!mysql dw -e \"select * from customer_dim\""
      ],
      "execution_count": 14,
      "outputs": [
        {
          "output_type": "stream",
          "name": "stdout",
          "text": [
            "+-------------+-----------------+------------------+-------------------------+-------------------+---------------+----------------+----------------+-------------+\n",
            "| customer_sk | customer_number | customer_name    | customer_street_address | customer_zip_code | customer_city | customer_state | effective_date | expiry_date |\n",
            "+-------------+-----------------+------------------+-------------------------+-------------------+---------------+----------------+----------------+-------------+\n",
            "|           1 |               1 | Big Customers    | 7500 Louise Dr.         |             17050 | Mechanicsburg | PA             | 2007-02-01     | 9999-12-31  |\n",
            "|           2 |               2 | Small Stores     | 2500 Woodland St.       |             17055 | Pittsburgh    | PA             | 2007-02-01     | 9999-12-31  |\n",
            "|           3 |               3 | Medium Retailers | 1111 Ritter Rd.         |             17055 | Pittsburgh    | PA             | 2007-02-01     | 9999-12-31  |\n",
            "|           4 |               4 | Good Companies   | 9500 Scott St.          |             17050 | Mechanicsburg | PA             | 2007-02-01     | 9999-12-31  |\n",
            "|           5 |               5 | Wonderful Shops  | 3333 Rossmoyne Rd.      |             17050 | Mechanicsburg | PA             | 2007-02-01     | 9999-12-31  |\n",
            "|           6 |               6 | Loyal Clients    | 7070 Ritter Rd.         |             17055 | Pittsburgh    | PA             | 2007-02-01     | 9999-12-31  |\n",
            "+-------------+-----------------+------------------+-------------------------+-------------------+---------------+----------------+----------------+-------------+\n"
          ]
        }
      ]
    },
    {
      "cell_type": "markdown",
      "metadata": {
        "id": "C9HqxfHFM0vt"
      },
      "source": [
        "# Chap 2 - Slowly Changing Dimensions"
      ]
    },
    {
      "cell_type": "markdown",
      "metadata": {
        "id": "Arlp9nD8OoKJ"
      },
      "source": [
        "**SCD1**\n",
        "\n",
        "\n",
        "---\n",
        "\n",
        "\n",
        "\n",
        "\n",
        "\n"
      ]
    },
    {
      "cell_type": "code",
      "source": [
        "!mysql dw --table -e 'drop table if exists customer_stg'"
      ],
      "metadata": {
        "id": "PdWm35t15FZZ"
      },
      "execution_count": null,
      "outputs": []
    },
    {
      "cell_type": "code",
      "source": [
        "!cp source_data/customer2.csv /var/lib/mysql/dw/customer.csv\n",
        "!ls /var/lib/mysql/dw"
      ],
      "metadata": {
        "id": "rK_gFGQiQFEy",
        "colab": {
          "base_uri": "https://localhost:8080/"
        },
        "outputId": "be8a4954-14fc-4e83-9335-b2b6bebd3c15"
      },
      "execution_count": 15,
      "outputs": [
        {
          "output_type": "stream",
          "name": "stdout",
          "text": [
            "customer.csv\t  date_dim.ibd\t product_dim.ibd\n",
            "customer_dim.ibd  order_dim.ibd  sales_order_fact.ibd\n"
          ]
        }
      ]
    },
    {
      "cell_type": "code",
      "source": [
        "#!mysql --local-infile=1 < scripts/create_customer_stg.sql\n",
        "#!mysql --local-infile=1 -udwid -ppw < scripts/create_customer_stg.sql\n",
        "!mysql < scripts/create_customer_stg.sql\n",
        "!mysql dw -e \"select * from customer_stg\""
      ],
      "metadata": {
        "colab": {
          "base_uri": "https://localhost:8080/"
        },
        "id": "dg7OND4T4aUu",
        "outputId": "137caf39-824f-4939-eea6-bd43b525d6b8"
      },
      "execution_count": 16,
      "outputs": [
        {
          "output_type": "stream",
          "name": "stdout",
          "text": [
            "+-----------------+------------------------+-------------------------+-------------------+---------------+----------------+\n",
            "| customer_number | customer_name          | customer_street_address | customer_zip_code | customer_city | customer_state |\n",
            "+-----------------+------------------------+-------------------------+-------------------+---------------+----------------+\n",
            "|               1 | Really Large Customers | 7500 Louise Dr.         |             17050 | Mechanicsburg | PA             |\n",
            "|               2 | Small Stores           | 2500 Woodland St.       |             17055 | Pittsburgh    | PA             |\n",
            "|               3 | Medium Retailers       | 1111 Ritter Rd.         |             17055 | Pittsburgh    | PA             |\n",
            "|               4 | Good Companies         | 9500 Scott St.          |             17050 | Mechanicsburg | PA             |\n",
            "|               5 | Wonderful Shops        | 3333 Rossmoyne Rd.      |             17050 | Mechanicsburg | PA             |\n",
            "|               6 | Loyal Clients          | 7070 Ritter Rd.         |             17055 | Pittsburgh    | PA             |\n",
            "|               7 | Distinguished Partners | 9999 Scott St.          |             17050 | Mechanicsburg | PA             |\n",
            "+-----------------+------------------------+-------------------------+-------------------+---------------+----------------+\n"
          ]
        }
      ]
    },
    {
      "cell_type": "code",
      "source": [
        "!cat scripts/scd1.sql"
      ],
      "metadata": {
        "colab": {
          "base_uri": "https://localhost:8080/"
        },
        "id": "SKHcOmLtQ6Bm",
        "outputId": "069ac57d-a009-48fd-9fbb-793fd89b75de"
      },
      "execution_count": 17,
      "outputs": [
        {
          "output_type": "stream",
          "name": "stdout",
          "text": [
            "/*********************************************************************/\r\n",
            "/*                                                                   */\r\n",
            "/* scd1.sql                                                          */                  \r\n",
            "/*                                                                   */\r\n",
            "/*********************************************************************/\r\n",
            "\r\n",
            "/* default database to dw                                            */\r\n",
            "\r\n",
            "USE dw;\r\n",
            "\r\n",
            "/* update existing customers                                         */\r\n",
            "\r\n",
            "UPDATE customer_dim a, customer_stg b\r\n",
            "SET a.customer_name = b.customer_name\r\n",
            "WHERE     a.customer_number = b.customer_number\r\n",
            "      AND a.expiry_date = '9999-12-31'\r\n",
            "      AND a.customer_name <> b.customer_name\r\n",
            ";\r\n",
            "\r\n",
            "/* add new customers                                                 */\r\n",
            "\r\n",
            "INSERT INTO customer_dim\r\n",
            "SELECT\r\n",
            "  NULL\t\r\n",
            ", customer_number\r\n",
            ", customer_name\r\n",
            ", customer_street_address\r\n",
            ", customer_zip_code\r\n",
            ", customer_city\r\n",
            ", customer_state\r\n",
            ", CURRENT_DATE\r\n",
            ", '9999-12-31'\r\n",
            "FROM customer_stg \t\r\n",
            "WHERE customer_number NOT IN(\r\n",
            "SELECT b.customer_number \r\n",
            "FROM customer_dim a, customer_stg b \r\n",
            "WHERE a.customer_number = b.customer_number )\r\n",
            ";\r\n",
            "\r\n",
            "/* end of script                                                     */\r\n"
          ]
        }
      ]
    },
    {
      "cell_type": "code",
      "metadata": {
        "id": "2f01EMFaUe3H",
        "colab": {
          "base_uri": "https://localhost:8080/"
        },
        "outputId": "404148b3-a8f1-4d21-e642-e67fdf8d796d"
      },
      "source": [
        "# One customer updated, one new customer added\n",
        "!mysql  < scripts/scd1.sql\n",
        "!mysql dw -e \"select * from customer_dim\""
      ],
      "execution_count": 18,
      "outputs": [
        {
          "output_type": "stream",
          "name": "stdout",
          "text": [
            "+-------------+-----------------+------------------------+-------------------------+-------------------+---------------+----------------+----------------+-------------+\n",
            "| customer_sk | customer_number | customer_name          | customer_street_address | customer_zip_code | customer_city | customer_state | effective_date | expiry_date |\n",
            "+-------------+-----------------+------------------------+-------------------------+-------------------+---------------+----------------+----------------+-------------+\n",
            "|           1 |               1 | Really Large Customers | 7500 Louise Dr.         |             17050 | Mechanicsburg | PA             | 2007-02-01     | 9999-12-31  |\n",
            "|           2 |               2 | Small Stores           | 2500 Woodland St.       |             17055 | Pittsburgh    | PA             | 2007-02-01     | 9999-12-31  |\n",
            "|           3 |               3 | Medium Retailers       | 1111 Ritter Rd.         |             17055 | Pittsburgh    | PA             | 2007-02-01     | 9999-12-31  |\n",
            "|           4 |               4 | Good Companies         | 9500 Scott St.          |             17050 | Mechanicsburg | PA             | 2007-02-01     | 9999-12-31  |\n",
            "|           5 |               5 | Wonderful Shops        | 3333 Rossmoyne Rd.      |             17050 | Mechanicsburg | PA             | 2007-02-01     | 9999-12-31  |\n",
            "|           6 |               6 | Loyal Clients          | 7070 Ritter Rd.         |             17055 | Pittsburgh    | PA             | 2007-02-01     | 9999-12-31  |\n",
            "|           7 |               7 | Distinguished Partners | 9999 Scott St.          |             17050 | Mechanicsburg | PA             | 2023-01-31     | 9999-12-31  |\n",
            "+-------------+-----------------+------------------------+-------------------------+-------------------+---------------+----------------+----------------+-------------+\n"
          ]
        }
      ]
    },
    {
      "cell_type": "code",
      "metadata": {
        "id": "tFW4txiTV-Xb",
        "outputId": "a68a06b8-960c-40e6-e23a-36cd64a5cae5",
        "colab": {
          "base_uri": "https://localhost:8080/"
        }
      },
      "source": [
        "#since it was not possible to set the system date on Colab, the date was changed manually\n",
        "!mysql dw -e \"update customer_dim set effective_date = '2007-02-02' where customer_number = 7 and customer_name = 'Distinguished Partners' \"\n",
        "!mysql dw -e \"select * from customer_dim\""
      ],
      "execution_count": 19,
      "outputs": [
        {
          "output_type": "stream",
          "name": "stdout",
          "text": [
            "+-------------+-----------------+------------------------+-------------------------+-------------------+---------------+----------------+----------------+-------------+\n",
            "| customer_sk | customer_number | customer_name          | customer_street_address | customer_zip_code | customer_city | customer_state | effective_date | expiry_date |\n",
            "+-------------+-----------------+------------------------+-------------------------+-------------------+---------------+----------------+----------------+-------------+\n",
            "|           1 |               1 | Really Large Customers | 7500 Louise Dr.         |             17050 | Mechanicsburg | PA             | 2007-02-01     | 9999-12-31  |\n",
            "|           2 |               2 | Small Stores           | 2500 Woodland St.       |             17055 | Pittsburgh    | PA             | 2007-02-01     | 9999-12-31  |\n",
            "|           3 |               3 | Medium Retailers       | 1111 Ritter Rd.         |             17055 | Pittsburgh    | PA             | 2007-02-01     | 9999-12-31  |\n",
            "|           4 |               4 | Good Companies         | 9500 Scott St.          |             17050 | Mechanicsburg | PA             | 2007-02-01     | 9999-12-31  |\n",
            "|           5 |               5 | Wonderful Shops        | 3333 Rossmoyne Rd.      |             17050 | Mechanicsburg | PA             | 2007-02-01     | 9999-12-31  |\n",
            "|           6 |               6 | Loyal Clients          | 7070 Ritter Rd.         |             17055 | Pittsburgh    | PA             | 2007-02-01     | 9999-12-31  |\n",
            "|           7 |               7 | Distinguished Partners | 9999 Scott St.          |             17050 | Mechanicsburg | PA             | 2007-02-02     | 9999-12-31  |\n",
            "+-------------+-----------------+------------------------+-------------------------+-------------------+---------------+----------------+----------------+-------------+\n"
          ]
        }
      ]
    },
    {
      "cell_type": "code",
      "metadata": {
        "id": "46WRVIzPWQM_",
        "colab": {
          "base_uri": "https://localhost:8080/"
        },
        "outputId": "299aea91-f449-42ad-d4dd-f1625b5fb3e2"
      },
      "source": [
        "!mysql dw -e \"select * from customer_dim\""
      ],
      "execution_count": 20,
      "outputs": [
        {
          "output_type": "stream",
          "name": "stdout",
          "text": [
            "+-------------+-----------------+------------------------+-------------------------+-------------------+---------------+----------------+----------------+-------------+\n",
            "| customer_sk | customer_number | customer_name          | customer_street_address | customer_zip_code | customer_city | customer_state | effective_date | expiry_date |\n",
            "+-------------+-----------------+------------------------+-------------------------+-------------------+---------------+----------------+----------------+-------------+\n",
            "|           1 |               1 | Really Large Customers | 7500 Louise Dr.         |             17050 | Mechanicsburg | PA             | 2007-02-01     | 9999-12-31  |\n",
            "|           2 |               2 | Small Stores           | 2500 Woodland St.       |             17055 | Pittsburgh    | PA             | 2007-02-01     | 9999-12-31  |\n",
            "|           3 |               3 | Medium Retailers       | 1111 Ritter Rd.         |             17055 | Pittsburgh    | PA             | 2007-02-01     | 9999-12-31  |\n",
            "|           4 |               4 | Good Companies         | 9500 Scott St.          |             17050 | Mechanicsburg | PA             | 2007-02-01     | 9999-12-31  |\n",
            "|           5 |               5 | Wonderful Shops        | 3333 Rossmoyne Rd.      |             17050 | Mechanicsburg | PA             | 2007-02-01     | 9999-12-31  |\n",
            "|           6 |               6 | Loyal Clients          | 7070 Ritter Rd.         |             17055 | Pittsburgh    | PA             | 2007-02-01     | 9999-12-31  |\n",
            "|           7 |               7 | Distinguished Partners | 9999 Scott St.          |             17050 | Mechanicsburg | PA             | 2007-02-02     | 9999-12-31  |\n",
            "+-------------+-----------------+------------------------+-------------------------+-------------------+---------------+----------------+----------------+-------------+\n"
          ]
        }
      ]
    },
    {
      "cell_type": "markdown",
      "metadata": {
        "id": "vCqoHyo6emZN"
      },
      "source": [
        "**SCD2**\n",
        "\n",
        "\n",
        "---\n",
        "\n"
      ]
    },
    {
      "cell_type": "code",
      "metadata": {
        "id": "RohGlXDb3ZoW"
      },
      "source": [
        "!mysql dw -e \"truncate product_dim\"\n",
        "!mysql dw -e \"select * from product_dim\""
      ],
      "execution_count": 21,
      "outputs": []
    },
    {
      "cell_type": "code",
      "metadata": {
        "id": "Z17XjtgsezYJ",
        "colab": {
          "base_uri": "https://localhost:8080/"
        },
        "outputId": "e55de47d-d0ce-4644-f9bf-34c911d75ab2"
      },
      "source": [
        "!cat source_data/product2-1.txt"
      ],
      "execution_count": 22,
      "outputs": [
        {
          "output_type": "stream",
          "name": "stdout",
          "text": [
            "PRODUCT CODE,PRODUCT NAME,PRODUCT GROUP\r\n",
            "1          Hard Disk                     Storage\r\n",
            "2          Floppy Drive                  Storage"
          ]
        }
      ]
    },
    {
      "cell_type": "code",
      "source": [
        "!cat source_data/product2-2.txt"
      ],
      "metadata": {
        "colab": {
          "base_uri": "https://localhost:8080/"
        },
        "id": "KEZqULLZrWEK",
        "outputId": "c2a935cf-4cc1-49cd-c091-097d7106e2e2"
      },
      "execution_count": 23,
      "outputs": [
        {
          "output_type": "stream",
          "name": "stdout",
          "text": [
            "PRODUCT CODE,PRODUCT NAME,PRODUCT GROUP\r\n",
            "1          Hard Disk Drive               Storage                  \r\n",
            "2          Floppy Drive                  Storage\r\n",
            "3          LCD Panel                     Monitor"
          ]
        }
      ]
    },
    {
      "cell_type": "code",
      "metadata": {
        "id": "8G-ufAnhfsDv",
        "colab": {
          "base_uri": "https://localhost:8080/"
        },
        "outputId": "bd011bf3-f109-48bd-d993-79e449db43ed"
      },
      "source": [
        "!mysql  < scripts/create_product_stg.sql\n",
        "!mysql dw -e \"desc product_stg\""
      ],
      "execution_count": 24,
      "outputs": [
        {
          "output_type": "stream",
          "name": "stdout",
          "text": [
            "+------------------+----------+------+-----+---------+-------+\n",
            "| Field            | Type     | Null | Key | Default | Extra |\n",
            "+------------------+----------+------+-----+---------+-------+\n",
            "| product_code     | int      | YES  |     | NULL    |       |\n",
            "| product_name     | char(30) | YES  |     | NULL    |       |\n",
            "| product_category | char(30) | YES  |     | NULL    |       |\n",
            "+------------------+----------+------+-----+---------+-------+\n"
          ]
        }
      ]
    },
    {
      "cell_type": "code",
      "source": [
        "# this script needs a change\n",
        "!cat scripts/load_product_stg.sql"
      ],
      "metadata": {
        "colab": {
          "base_uri": "https://localhost:8080/"
        },
        "id": "w3SngqLfRxyB",
        "outputId": "c8911f3e-47fd-4077-9e0d-9634109738f4"
      },
      "execution_count": 25,
      "outputs": [
        {
          "output_type": "stream",
          "name": "stdout",
          "text": [
            "/*********************************************************************/\r\n",
            "/*                                                                   */\r\n",
            "/* load_product_stg.sql                                              */                  \r\n",
            "/*                                                                   */\r\n",
            "/*********************************************************************/\r\n",
            "\r\n",
            "/* default database to dw                                            */\r\n",
            "\r\n",
            "USE dw;\r\n",
            "\r\n",
            "/* clean up the staging table                                        */\r\n",
            "\r\n",
            "TRUNCATE product_stg;\r\n",
            "\r\n",
            "/* use LOAD DATA INFILE                                              */\r\n",
            "\r\n",
            "LOAD DATA INFILE 'product.txt'\r\n",
            "INTO TABLE product_stg\r\n",
            "FIELDS TERMINATED BY ''\r\n",
            "OPTIONALLY ENCLOSED BY ''\r\n",
            "LINES TERMINATED BY '\\r\\n'\r\n",
            "IGNORE 1 LINES\r\n",
            "( product_code\r\n",
            ", product_name \r\n",
            ", product_category )\r\n",
            ";\r\n",
            "\r\n",
            "/* end of script                                                     */\r\n"
          ]
        }
      ]
    },
    {
      "cell_type": "code",
      "source": [
        "#!cp scripts/load_product_stg.sql scripts/bak-load_product_stg.sql\n",
        "#!cp scripts/bak-load_product_stg.sql scripts/load_product_stg.sql\n",
        "#!sed -i \"s/TERMINATED BY ''/TERMINATED BY '\\\\\\t'/g\" scripts/load_product_stg.sql\n",
        "#!cat scripts/load_product_stg.sql"
      ],
      "metadata": {
        "id": "uFB9Y_hZFGnp"
      },
      "execution_count": 26,
      "outputs": []
    },
    {
      "cell_type": "code",
      "source": [
        "# backup file before changing\n",
        "#!cp scripts/bak-load_product_stg.sql scripts/load_product_stg.sql\n",
        "!cp scripts/load_product_stg.sql scripts/bak-load_product_stg.sql\n",
        "#\n",
        "# modify script for comma delimited data\n",
        "#\n",
        "!sed -i \"s/TERMINATED BY ''/TERMINATED BY ','/g\" scripts/load_product_stg.sql\n",
        "!cat scripts/load_product_stg.sql"
      ],
      "metadata": {
        "colab": {
          "base_uri": "https://localhost:8080/"
        },
        "id": "0pGbmS5bY8l7",
        "outputId": "b806fa50-51ab-46bd-f732-b2038a6379ee"
      },
      "execution_count": 28,
      "outputs": [
        {
          "output_type": "stream",
          "name": "stdout",
          "text": [
            "/*********************************************************************/\r\n",
            "/*                                                                   */\r\n",
            "/* load_product_stg.sql                                              */                  \r\n",
            "/*                                                                   */\r\n",
            "/*********************************************************************/\r\n",
            "\r\n",
            "/* default database to dw                                            */\r\n",
            "\r\n",
            "USE dw;\r\n",
            "\r\n",
            "/* clean up the staging table                                        */\r\n",
            "\r\n",
            "TRUNCATE product_stg;\r\n",
            "\r\n",
            "/* use LOAD DATA INFILE                                              */\r\n",
            "\r\n",
            "LOAD DATA INFILE 'product.txt'\r\n",
            "INTO TABLE product_stg\r\n",
            "FIELDS TERMINATED BY ','\r\n",
            "OPTIONALLY ENCLOSED BY ''\r\n",
            "LINES TERMINATED BY '\\r\\n'\r\n",
            "IGNORE 1 LINES\r\n",
            "( product_code\r\n",
            ", product_name \r\n",
            ", product_category )\r\n",
            ";\r\n",
            "\r\n",
            "/* end of script                                                     */\r\n"
          ]
        }
      ]
    },
    {
      "cell_type": "code",
      "source": [
        "#the datafile needs to be changed to insert , as delimiter\n",
        "#\n",
        "!cp source_data/product2-1.txt /var/lib/mysql/dw/product.txt\n",
        "!sed -i \"s/  /,/g\" /var/lib/mysql/dw/product.txt  # replace double space with comma in file\n",
        "!sed -i 's/,\\{2,\\}/,/g' /var/lib/mysql/dw/product.txt  # https://stackoverflow.com/questions/31400614/replace-multiple-commas-with-a-single-one-linux-command\n",
        "!sed -i \"s/, /,/g\" /var/lib/mysql/dw/product.txt  # remove space after comma\n",
        "!cat /var/lib/mysql/dw/product.txt"
      ],
      "metadata": {
        "id": "gbK2N98UTHEW",
        "colab": {
          "base_uri": "https://localhost:8080/"
        },
        "outputId": "60924d97-4639-43dc-9959-cfebeb17cf07"
      },
      "execution_count": 29,
      "outputs": [
        {
          "output_type": "stream",
          "name": "stdout",
          "text": [
            "PRODUCT CODE,PRODUCT NAME,PRODUCT GROUP\r\n",
            "1,Hard Disk,Storage\r\n",
            "2,Floppy Drive,Storage"
          ]
        }
      ]
    },
    {
      "cell_type": "code",
      "source": [
        "!mysql < scripts/load_product_stg.sql\n",
        "#!mysql -udwid -ppw --table < pm_load_prod_stg.sql\n",
        "!mysql dw -e \"select * from product_stg\""
      ],
      "metadata": {
        "colab": {
          "base_uri": "https://localhost:8080/"
        },
        "id": "beQAEXuJT0M3",
        "outputId": "d495b0af-1bc5-4445-854c-70e3266a13a1"
      },
      "execution_count": 30,
      "outputs": [
        {
          "output_type": "stream",
          "name": "stdout",
          "text": [
            "+--------------+--------------+------------------+\n",
            "| product_code | product_name | product_category |\n",
            "+--------------+--------------+------------------+\n",
            "|            1 | Hard Disk    | Storage          |\n",
            "|            2 | Floppy Drive | Storage          |\n",
            "+--------------+--------------+------------------+\n"
          ]
        }
      ]
    },
    {
      "cell_type": "code",
      "source": [
        "!cat scripts/scd2.sql"
      ],
      "metadata": {
        "colab": {
          "base_uri": "https://localhost:8080/"
        },
        "id": "WchYxihRstj6",
        "outputId": "489ef271-3b23-48c3-b2e2-79dd780243dc"
      },
      "execution_count": 31,
      "outputs": [
        {
          "output_type": "stream",
          "name": "stdout",
          "text": [
            "/*********************************************************************/\r\n",
            "/*                                                                   */\r\n",
            "/* scd2.sql                                                          */                  \r\n",
            "/*                                                                   */\r\n",
            "/*********************************************************************/\r\n",
            "\r\n",
            "/* default database to dw                                            */\r\n",
            "                 \r\n",
            "\r\n",
            "USE dw;\r\n",
            "\r\n",
            "/* expire the existing product\t\t\t\t\t */\r\n",
            "\r\n",
            "UPDATE \r\n",
            "  product_dim a\r\n",
            ", product_stg b\r\n",
            "SET\r\n",
            "  expiry_date = SUBDATE(CURRENT_DATE, 1)\r\n",
            "WHERE\r\n",
            "    a.product_code = b.product_code\r\n",
            "AND (   a.product_name <> b.product_name\r\n",
            "     OR a.product_category <> b.product_category )\r\n",
            "AND expiry_date = '9999-12-31'\r\n",
            ";\r\n",
            "\r\n",
            "/* add a new row for the changing product                           */\r\n",
            "                   \r\n",
            "\r\n",
            "INSERT INTO product_dim \r\n",
            "SELECT\r\n",
            "  NULL\t\r\n",
            ", b.product_code\r\n",
            ", b.product_name\r\n",
            ", b.product_category\r\n",
            ", CURRENT_DATE\r\n",
            ", '9999-12-31'\r\n",
            "FROM \r\n",
            "  product_dim a\r\n",
            ", product_stg b\t\r\n",
            "WHERE \r\n",
            "    a.product_code = b.product_code\r\n",
            "AND (   a.product_name <> b.product_name\r\n",
            "     OR a.product_category <> b.product_category )\r\n",
            "AND EXISTS \r\n",
            "( SELECT * FROM product_dim x \r\n",
            "  WHERE   b.product_code = x.product_code \r\n",
            "      AND a.expiry_date = SUBDATE(CURRENT_DATE, 1) )\r\n",
            "AND NOT EXISTS \r\n",
            "( SELECT *\r\n",
            "  FROM product_dim y \r\n",
            "  WHERE     b.product_code = y.product_code \r\n",
            "        AND y.expiry_date = '9999-12-31' )\r\n",
            ";\r\n",
            "\r\n",
            "/* add new product                                                   */\r\n",
            "               \r\n",
            "INSERT INTO product_dim\r\n",
            "SELECT\r\n",
            "  NULL\t\r\n",
            ", product_code\r\n",
            ", product_name\r\n",
            ", product_category\r\n",
            ", CURRENT_DATE\r\n",
            ", '9999-12-31'\r\n",
            "FROM product_stg \t\r\n",
            "WHERE product_code NOT IN(\r\n",
            "SELECT y.product_code \r\n",
            "FROM product_dim x, product_stg y \r\n",
            "WHERE x.product_code = y.product_code )\r\n",
            ";\r\n",
            "\r\n",
            "/* end of script                                                     */\r\n"
          ]
        }
      ]
    },
    {
      "cell_type": "code",
      "metadata": {
        "id": "uVmx58MgjUte",
        "colab": {
          "base_uri": "https://localhost:8080/"
        },
        "outputId": "5292e4e3-93e3-4c6c-e8ad-a46153e50daf"
      },
      "source": [
        "!mysql < scripts/scd2.sql\n",
        "!mysql dw -e \"select * from product_dim\""
      ],
      "execution_count": 32,
      "outputs": [
        {
          "output_type": "stream",
          "name": "stdout",
          "text": [
            "+------------+--------------+--------------+------------------+----------------+-------------+\n",
            "| product_sk | product_code | product_name | product_category | effective_date | expiry_date |\n",
            "+------------+--------------+--------------+------------------+----------------+-------------+\n",
            "|          1 |            1 | Hard Disk    | Storage          | 2023-01-31     | 9999-12-31  |\n",
            "|          2 |            2 | Floppy Drive | Storage          | 2023-01-31     | 9999-12-31  |\n",
            "+------------+--------------+--------------+------------------+----------------+-------------+\n"
          ]
        }
      ]
    },
    {
      "cell_type": "code",
      "metadata": {
        "id": "m2rtZ1R7jsfN",
        "colab": {
          "base_uri": "https://localhost:8080/"
        },
        "outputId": "31f5f450-9da0-4d48-e7b4-29eb8675c5b4"
      },
      "source": [
        "!mysql dw -e \"update product_dim set effective_date = '2007-02-03'\"\n",
        "!mysql dw -e \"select * from product_dim\""
      ],
      "execution_count": 33,
      "outputs": [
        {
          "output_type": "stream",
          "name": "stdout",
          "text": [
            "+------------+--------------+--------------+------------------+----------------+-------------+\n",
            "| product_sk | product_code | product_name | product_category | effective_date | expiry_date |\n",
            "+------------+--------------+--------------+------------------+----------------+-------------+\n",
            "|          1 |            1 | Hard Disk    | Storage          | 2007-02-03     | 9999-12-31  |\n",
            "|          2 |            2 | Floppy Drive | Storage          | 2007-02-03     | 9999-12-31  |\n",
            "+------------+--------------+--------------+------------------+----------------+-------------+\n"
          ]
        }
      ]
    },
    {
      "cell_type": "code",
      "source": [
        "# new product file\n",
        "#\n",
        "!cp source_data/product2-2.txt /var/lib/mysql/dw/product.txt\n",
        "!sed -i \"s/  /,/g\" /var/lib/mysql/dw/product.txt  # replace space with comma in file\n",
        "!sed -i 's/,\\{2,\\}/,/g' /var/lib/mysql/dw/product.txt  # https://stackoverflow.com/questions/31400614/replace-multiple-commas-with-a-single-one-linux-command\n",
        "!sed -i \"s/, /,/g\" /var/lib/mysql/dw/product.txt  # remove space after comma\n",
        "!cat /var/lib/mysql/dw/product.txt"
      ],
      "metadata": {
        "colab": {
          "base_uri": "https://localhost:8080/"
        },
        "id": "16bQkVHxtISi",
        "outputId": "09297f29-c634-46c1-f2df-56562e48da13"
      },
      "execution_count": 34,
      "outputs": [
        {
          "output_type": "stream",
          "name": "stdout",
          "text": [
            "PRODUCT CODE,PRODUCT NAME,PRODUCT GROUP\r\n",
            "1,Hard Disk Drive,Storage,\r\n",
            "2,Floppy Drive,Storage\r\n",
            "3,LCD Panel,Monitor"
          ]
        }
      ]
    },
    {
      "cell_type": "code",
      "metadata": {
        "id": "ntO7n6XEkXR6",
        "colab": {
          "base_uri": "https://localhost:8080/"
        },
        "outputId": "983cd5d9-c5c5-476b-d792-88da179234f3"
      },
      "source": [
        "# One updated, one new\n",
        "!mysql < scripts/load_product_stg.sql\n",
        "#!mysql -udwid -ppw --table < pm_load_prod_stg_02.sql\n",
        "!mysql dw -e \"select * from product_stg\""
      ],
      "execution_count": 35,
      "outputs": [
        {
          "output_type": "stream",
          "name": "stdout",
          "text": [
            "+--------------+-----------------+------------------+\n",
            "| product_code | product_name    | product_category |\n",
            "+--------------+-----------------+------------------+\n",
            "|            1 | Hard Disk Drive | Storage          |\n",
            "|            2 | Floppy Drive    | Storage          |\n",
            "|            3 | LCD Panel       | Monitor          |\n",
            "+--------------+-----------------+------------------+\n"
          ]
        }
      ]
    },
    {
      "cell_type": "code",
      "metadata": {
        "id": "e93Sk6RIkqcU",
        "colab": {
          "base_uri": "https://localhost:8080/"
        },
        "outputId": "37f9a8f8-b052-433f-d039-aeb741dbf4bf"
      },
      "source": [
        "# One updated, one new\n",
        "!mysql  < scripts/scd2.sql\n",
        "!mysql dw -e \"select * from product_dim\""
      ],
      "execution_count": 36,
      "outputs": [
        {
          "output_type": "stream",
          "name": "stdout",
          "text": [
            "+------------+--------------+-----------------+------------------+----------------+-------------+\n",
            "| product_sk | product_code | product_name    | product_category | effective_date | expiry_date |\n",
            "+------------+--------------+-----------------+------------------+----------------+-------------+\n",
            "|          1 |            1 | Hard Disk       | Storage          | 2007-02-03     | 2023-01-30  |\n",
            "|          2 |            2 | Floppy Drive    | Storage          | 2007-02-03     | 9999-12-31  |\n",
            "|          4 |            1 | Hard Disk Drive | Storage          | 2023-01-31     | 9999-12-31  |\n",
            "|          5 |            3 | LCD Panel       | Monitor          | 2023-01-31     | 9999-12-31  |\n",
            "+------------+--------------+-----------------+------------------+----------------+-------------+\n"
          ]
        }
      ]
    },
    {
      "cell_type": "code",
      "metadata": {
        "id": "y_a-D5eTk-Ts",
        "colab": {
          "base_uri": "https://localhost:8080/"
        },
        "outputId": "a70a8566-9d6a-4693-d38d-e0a01f9d27f0"
      },
      "source": [
        "!mysql dw -e \"update product_dim set effective_date = '2007-02-05' where effective_date = '2023-01-28'\"\n",
        "!mysql dw -e \"update product_dim set expiry_date = '2007-02-04' where expiry_date = '2023-01-27'\"\n",
        "#there seems to be an inexplicable difference between the output shown here and the output shown in the book\n",
        "#product_sk should be 1,2,3,4 and not 1,2,4,5 \n",
        "#it seems autoincrements behave erratically and hence should not be used as surrogate keys as shown here\n",
        "!mysql dw -e \"select * from product_dim\""
      ],
      "execution_count": 37,
      "outputs": [
        {
          "output_type": "stream",
          "name": "stdout",
          "text": [
            "+------------+--------------+-----------------+------------------+----------------+-------------+\n",
            "| product_sk | product_code | product_name    | product_category | effective_date | expiry_date |\n",
            "+------------+--------------+-----------------+------------------+----------------+-------------+\n",
            "|          1 |            1 | Hard Disk       | Storage          | 2007-02-03     | 2023-01-30  |\n",
            "|          2 |            2 | Floppy Drive    | Storage          | 2007-02-03     | 9999-12-31  |\n",
            "|          4 |            1 | Hard Disk Drive | Storage          | 2023-01-31     | 9999-12-31  |\n",
            "|          5 |            3 | LCD Panel       | Monitor          | 2023-01-31     | 9999-12-31  |\n",
            "+------------+--------------+-----------------+------------------+----------------+-------------+\n"
          ]
        }
      ]
    },
    {
      "cell_type": "markdown",
      "metadata": {
        "id": "W2UnEFCNl7iP"
      },
      "source": [
        "#Chap 3 -  Measure Additivity"
      ]
    },
    {
      "cell_type": "code",
      "metadata": {
        "id": "_1PkXz3diCtY",
        "colab": {
          "base_uri": "https://localhost:8080/"
        },
        "outputId": "ad046418-c871-420b-94ee-3820216b28f2"
      },
      "source": [
        "!cat scripts/additive_data.sql"
      ],
      "execution_count": 38,
      "outputs": [
        {
          "output_type": "stream",
          "name": "stdout",
          "text": [
            "/*********************************************************************/\r\n",
            "/*                                                                   */\r\n",
            "/* additive_data.sql                                                 */                  \r\n",
            "/*                                                                   */\r\n",
            "/*********************************************************************/\r\n",
            "\r\n",
            "USE dw;\r\n",
            "\r\n",
            "INSERT INTO order_dim VALUES\r\n",
            "  (NULL, 1, CURRENT_DATE, '9999-12-31')\r\n",
            ", (NULL, 2, CURRENT_DATE, '9999-12-31')\r\n",
            ", (NULL, 3, CURRENT_DATE, '9999-12-31')\r\n",
            ", (NULL, 4, CURRENT_DATE, '9999-12-31')\r\n",
            ", (NULL, 5, CURRENT_DATE, '9999-12-31')\r\n",
            ", (NULL, 6, CURRENT_DATE, '9999-12-31')\r\n",
            ", (NULL, 7, CURRENT_DATE, '9999-12-31')\r\n",
            ", (NULL, 8, CURRENT_DATE, '9999-12-31')\r\n",
            ", (NULL, 9, CURRENT_DATE, '9999-12-31')\r\n",
            ", (NULL, 10, CURRENT_DATE, '9999-12-31')\r\n",
            ";\r\n",
            "\r\n",
            "INSERT INTO date_dim VALUES\r\n",
            "  (NULL, '2005-10-31', 'October', 10, 4, 2005, CURRENT_DATE, '9999-12-31')\r\n",
            ";\r\n",
            "\r\n",
            "INSERT INTO sales_order_fact VALUES\r\n",
            "  (1, 1, 2, 1, 1000)\r\n",
            ", (2, 2, 3, 1, 1000)\r\n",
            ", (3, 3, 4, 1, 4000)\r\n",
            ", (4, 4, 2, 1, 4000)\r\n",
            ", (5, 5, 3, 1, 6000)\r\n",
            ", (6, 1, 4, 1, 6000)\r\n",
            ", (7, 2, 2, 1, 8000)\r\n",
            ", (8, 3, 3, 1, 8000)\r\n",
            ", (9, 4, 4, 1, 10000)\r\n",
            ", (10, 5, 2, 1, 10000)\r\n",
            ";\r\n",
            "\r\n",
            "/* end of script                                                     */\r\n"
          ]
        }
      ]
    },
    {
      "cell_type": "code",
      "metadata": {
        "id": "snxMf5IsnTIP",
        "colab": {
          "base_uri": "https://localhost:8080/"
        },
        "outputId": "81b4f131-7e08-4c5c-ed26-030d0ba8c884"
      },
      "source": [
        "!mysql < scripts/additive_data.sql\n",
        "!mysql dw -e \"select * from sales_order_fact\""
      ],
      "execution_count": 39,
      "outputs": [
        {
          "output_type": "stream",
          "name": "stdout",
          "text": [
            "+----------+-------------+------------+---------------+--------------+\n",
            "| order_sk | customer_sk | product_sk | order_date_sk | order_amount |\n",
            "+----------+-------------+------------+---------------+--------------+\n",
            "|        1 |           1 |          2 |             1 |      1000.00 |\n",
            "|        2 |           2 |          3 |             1 |      1000.00 |\n",
            "|        3 |           3 |          4 |             1 |      4000.00 |\n",
            "|        4 |           4 |          2 |             1 |      4000.00 |\n",
            "|        5 |           5 |          3 |             1 |      6000.00 |\n",
            "|        6 |           1 |          4 |             1 |      6000.00 |\n",
            "|        7 |           2 |          2 |             1 |      8000.00 |\n",
            "|        8 |           3 |          3 |             1 |      8000.00 |\n",
            "|        9 |           4 |          4 |             1 |     10000.00 |\n",
            "|       10 |           5 |          2 |             1 |     10000.00 |\n",
            "+----------+-------------+------------+---------------+--------------+\n"
          ]
        }
      ]
    },
    {
      "cell_type": "code",
      "metadata": {
        "id": "iSyUNIeSoFbT",
        "colab": {
          "base_uri": "https://localhost:8080/"
        },
        "outputId": "ae092163-65b1-4af9-891e-ce8c7dcc061b"
      },
      "source": [
        "!mysql --table < scripts/across_all_dimensions.sql"
      ],
      "execution_count": 40,
      "outputs": [
        {
          "output_type": "stream",
          "name": "stdout",
          "text": [
            "+---------------------+\n",
            "| sum_of_order_amount |\n",
            "+---------------------+\n",
            "|            58000.00 |\n",
            "+---------------------+\n"
          ]
        }
      ]
    },
    {
      "cell_type": "code",
      "metadata": {
        "id": "RlvtAathoQyi",
        "colab": {
          "base_uri": "https://localhost:8080/"
        },
        "outputId": "c32fddec-d2de-462e-b231-c4f625fdb69b"
      },
      "source": [
        "!mysql --table < scripts/across_date_product.sql\n",
        "# note this adds up to 58000 as well, as it should"
      ],
      "execution_count": 41,
      "outputs": [
        {
          "output_type": "stream",
          "name": "stdout",
          "text": [
            "+-----------------+---------------------+\n",
            "| customer_number | sum_of_order_amount |\n",
            "+-----------------+---------------------+\n",
            "|               1 |             7000.00 |\n",
            "|               2 |             9000.00 |\n",
            "|               3 |            12000.00 |\n",
            "|               4 |            14000.00 |\n",
            "|               5 |            16000.00 |\n",
            "+-----------------+---------------------+\n"
          ]
        }
      ]
    },
    {
      "cell_type": "code",
      "metadata": {
        "id": "uNLGD6EZrAev",
        "colab": {
          "base_uri": "https://localhost:8080/"
        },
        "outputId": "84a633c1-a076-4dff-d95a-65f7436e1c4f"
      },
      "source": [
        "%%writefile pm_across_date_customer_order.sql\n",
        "USE dw;\n",
        "SELECT\n",
        "product_code, SUM(order_amount) sum_of_order_amount\n",
        "FROM\n",
        "sales_order_fact a\n",
        ", product_dim b\n",
        "WHERE\n",
        "a.product_sk = b.product_sk\n",
        "GROUP BY\n",
        "product_code\n",
        ";\n",
        "/* end of script */"
      ],
      "execution_count": 42,
      "outputs": [
        {
          "output_type": "stream",
          "name": "stdout",
          "text": [
            "Writing pm_across_date_customer_order.sql\n"
          ]
        }
      ]
    },
    {
      "cell_type": "code",
      "metadata": {
        "id": "7ozqwKQKrYar",
        "colab": {
          "base_uri": "https://localhost:8080/"
        },
        "outputId": "15fa6067-750d-4062-e632-1f4d256b8c7e"
      },
      "source": [
        "!mysql --table < pm_across_date_customer_order.sql\n",
        "# this does not add up to 58,000 ! error !! "
      ],
      "execution_count": 43,
      "outputs": [
        {
          "output_type": "stream",
          "name": "stdout",
          "text": [
            "+--------------+---------------------+\n",
            "| product_code | sum_of_order_amount |\n",
            "+--------------+---------------------+\n",
            "|            2 |            23000.00 |\n",
            "|            1 |            20000.00 |\n",
            "+--------------+---------------------+\n"
          ]
        }
      ]
    },
    {
      "cell_type": "code",
      "metadata": {
        "id": "HoivevUfwf0n"
      },
      "source": [
        "#trying to fix the error referred to above\n",
        "!mysql dw -e \"update product_dim set product_sk = 3 where product_sk = 4\"\n",
        "!mysql dw -e \"update product_dim set product_sk = 4 where product_sk = 5\"\n"
      ],
      "execution_count": 44,
      "outputs": []
    },
    {
      "cell_type": "code",
      "metadata": {
        "id": "12eQvvpDsUUZ",
        "colab": {
          "base_uri": "https://localhost:8080/"
        },
        "outputId": "b77d1afc-e290-4e10-fdd4-573eb9343269"
      },
      "source": [
        "!mysql -e 'USE dw; \\\n",
        "           SELECT * from sales_order_fact; \\\n",
        "           select * from product_dim;'\n",
        "#!mysql -udwid -ppw --table < pm_quickcheck.sql"
      ],
      "execution_count": 45,
      "outputs": [
        {
          "output_type": "stream",
          "name": "stdout",
          "text": [
            "+----------+-------------+------------+---------------+--------------+\n",
            "| order_sk | customer_sk | product_sk | order_date_sk | order_amount |\n",
            "+----------+-------------+------------+---------------+--------------+\n",
            "|        1 |           1 |          2 |             1 |      1000.00 |\n",
            "|        2 |           2 |          3 |             1 |      1000.00 |\n",
            "|        3 |           3 |          4 |             1 |      4000.00 |\n",
            "|        4 |           4 |          2 |             1 |      4000.00 |\n",
            "|        5 |           5 |          3 |             1 |      6000.00 |\n",
            "|        6 |           1 |          4 |             1 |      6000.00 |\n",
            "|        7 |           2 |          2 |             1 |      8000.00 |\n",
            "|        8 |           3 |          3 |             1 |      8000.00 |\n",
            "|        9 |           4 |          4 |             1 |     10000.00 |\n",
            "|       10 |           5 |          2 |             1 |     10000.00 |\n",
            "+----------+-------------+------------+---------------+--------------+\n",
            "+------------+--------------+-----------------+------------------+----------------+-------------+\n",
            "| product_sk | product_code | product_name    | product_category | effective_date | expiry_date |\n",
            "+------------+--------------+-----------------+------------------+----------------+-------------+\n",
            "|          1 |            1 | Hard Disk       | Storage          | 2007-02-03     | 2023-01-30  |\n",
            "|          2 |            2 | Floppy Drive    | Storage          | 2007-02-03     | 9999-12-31  |\n",
            "|          3 |            1 | Hard Disk Drive | Storage          | 2023-01-31     | 9999-12-31  |\n",
            "|          4 |            3 | LCD Panel       | Monitor          | 2023-01-31     | 9999-12-31  |\n",
            "+------------+--------------+-----------------+------------------+----------------+-------------+\n"
          ]
        }
      ]
    },
    {
      "cell_type": "code",
      "metadata": {
        "id": "7jMtvABmoy9a",
        "colab": {
          "base_uri": "https://localhost:8080/"
        },
        "outputId": "266741d6-9c0f-4bb0-cb18-946a02d17ea0"
      },
      "source": [
        "!mysql --table < scripts/across_date_customer.sql\n",
        "# now we get back 58,000"
      ],
      "execution_count": 46,
      "outputs": [
        {
          "output_type": "stream",
          "name": "stdout",
          "text": [
            "+--------------+---------------------+\n",
            "| product_code | sum_of_order_amount |\n",
            "+--------------+---------------------+\n",
            "|            2 |            23000.00 |\n",
            "|            1 |            15000.00 |\n",
            "|            3 |            20000.00 |\n",
            "+--------------+---------------------+\n"
          ]
        }
      ]
    },
    {
      "cell_type": "code",
      "metadata": {
        "id": "lk2jf7H1p9S4"
      },
      "source": [
        "#after the error fix, back in sync with the tutorial book"
      ],
      "execution_count": null,
      "outputs": []
    },
    {
      "cell_type": "code",
      "metadata": {
        "id": "C8shMyoxoPeL",
        "colab": {
          "base_uri": "https://localhost:8080/"
        },
        "outputId": "56578854-6338-4391-e004-70698225ccba"
      },
      "source": [
        "!mysql --table < scripts/across_date.sql\n",
        "# and we are back to 58,000 again"
      ],
      "execution_count": 47,
      "outputs": [
        {
          "output_type": "stream",
          "name": "stdout",
          "text": [
            "+-----------------+--------------+---------------------+\n",
            "| customer_number | product_code | sum_of_order_amount |\n",
            "+-----------------+--------------+---------------------+\n",
            "|               1 |            2 |             1000.00 |\n",
            "|               2 |            1 |             1000.00 |\n",
            "|               3 |            3 |             4000.00 |\n",
            "|               4 |            2 |             4000.00 |\n",
            "|               5 |            1 |             6000.00 |\n",
            "|               1 |            3 |             6000.00 |\n",
            "|               2 |            2 |             8000.00 |\n",
            "|               3 |            1 |             8000.00 |\n",
            "|               4 |            3 |            10000.00 |\n",
            "|               5 |            2 |            10000.00 |\n",
            "+-----------------+--------------+---------------------+\n"
          ]
        }
      ]
    },
    {
      "cell_type": "markdown",
      "metadata": {
        "id": "g63TvPo7eHWs"
      },
      "source": []
    },
    {
      "cell_type": "markdown",
      "metadata": {
        "id": "oQC5AQMXd8yt"
      },
      "source": [
        "#Chap 4 - Dimensional Queries"
      ]
    },
    {
      "cell_type": "code",
      "metadata": {
        "id": "oSxcNlFMeCW0"
      },
      "source": [
        "#!ls scripts/da*"
      ],
      "execution_count": 48,
      "outputs": []
    },
    {
      "cell_type": "code",
      "metadata": {
        "id": "c3zNPYfFkl55",
        "colab": {
          "base_uri": "https://localhost:8080/"
        },
        "outputId": "9ca3aed2-5a0b-4c50-acdb-3f8aac96e54f"
      },
      "source": [
        "!cat scripts/dimensional_query_data.sql "
      ],
      "execution_count": 49,
      "outputs": [
        {
          "output_type": "stream",
          "name": "stdout",
          "text": [
            "/*********************************************************************/\r\n",
            "/*                                                                   */\r\n",
            "/* dimensional_query_data.sql                                        */                  \r\n",
            "/*                                                                   */\r\n",
            "/*********************************************************************/\r\n",
            "\r\n",
            "USE dw;\r\n",
            "\r\n",
            "INSERT INTO order_dim VALUES\r\n",
            "  (NULL, 11, CURRENT_DATE, '9999-12-31')\r\n",
            ", (NULL, 12, CURRENT_DATE, '9999-12-31')\r\n",
            ", (NULL, 13, CURRENT_DATE, '9999-12-31')\r\n",
            ", (NULL, 14, CURRENT_DATE, '9999-12-31')\r\n",
            ", (NULL, 15, CURRENT_DATE, '9999-12-31')\r\n",
            ", (NULL, 16, CURRENT_DATE, '9999-12-31')\r\n",
            ";\r\n",
            "\r\n",
            "INSERT INTO date_dim VALUES\r\n",
            "  (NULL, '2005-11-01', 'November', 11, 4, 2005, CURRENT_DATE, '9999-12-31')\r\n",
            ";\r\n",
            "\r\n",
            "INSERT INTO sales_order_fact VALUES\r\n",
            "  (11, 1, 2, 2, 20000) \r\n",
            ", (12, 2, 3, 2, 25000)\r\n",
            ", (13, 3, 4, 2, 30000)\r\n",
            ", (14, 4, 2, 2, 35000) \r\n",
            ", (15, 5, 3, 2, 40000)\r\n",
            ", (16, 1, 4, 2, 45000)\r\n",
            ";\r\n",
            "\r\n",
            "/* end of script                                                     */\r\n"
          ]
        }
      ]
    },
    {
      "cell_type": "code",
      "metadata": {
        "id": "NukwQXjwk01f",
        "outputId": "80211419-3f33-4912-8ef3-d9adb95e218e",
        "colab": {
          "base_uri": "https://localhost:8080/"
        }
      },
      "source": [
        "!mysql dw --table < scripts/dimensional_query_data.sql\n",
        "!mysql dw -e \"select * from sales_order_fact\""
      ],
      "execution_count": 50,
      "outputs": [
        {
          "output_type": "stream",
          "name": "stdout",
          "text": [
            "+----------+-------------+------------+---------------+--------------+\n",
            "| order_sk | customer_sk | product_sk | order_date_sk | order_amount |\n",
            "+----------+-------------+------------+---------------+--------------+\n",
            "|        1 |           1 |          2 |             1 |      1000.00 |\n",
            "|        2 |           2 |          3 |             1 |      1000.00 |\n",
            "|        3 |           3 |          4 |             1 |      4000.00 |\n",
            "|        4 |           4 |          2 |             1 |      4000.00 |\n",
            "|        5 |           5 |          3 |             1 |      6000.00 |\n",
            "|        6 |           1 |          4 |             1 |      6000.00 |\n",
            "|        7 |           2 |          2 |             1 |      8000.00 |\n",
            "|        8 |           3 |          3 |             1 |      8000.00 |\n",
            "|        9 |           4 |          4 |             1 |     10000.00 |\n",
            "|       10 |           5 |          2 |             1 |     10000.00 |\n",
            "|       11 |           1 |          2 |             2 |     20000.00 |\n",
            "|       12 |           2 |          3 |             2 |     25000.00 |\n",
            "|       13 |           3 |          4 |             2 |     30000.00 |\n",
            "|       14 |           4 |          2 |             2 |     35000.00 |\n",
            "|       15 |           5 |          3 |             2 |     40000.00 |\n",
            "|       16 |           1 |          4 |             2 |     45000.00 |\n",
            "+----------+-------------+------------+---------------+--------------+\n"
          ]
        }
      ]
    },
    {
      "cell_type": "code",
      "metadata": {
        "id": "tGVCdN01e423",
        "colab": {
          "base_uri": "https://localhost:8080/"
        },
        "outputId": "07a6b566-2cb5-4d34-98fb-5488734241b4"
      },
      "source": [
        "!cat scripts/daily_aggregation.sql"
      ],
      "execution_count": 51,
      "outputs": [
        {
          "output_type": "stream",
          "name": "stdout",
          "text": [
            "/*********************************************************************/\r\n",
            "/*                                                                   */\r\n",
            "/* daily_aggregation.sql                                             */                  \r\n",
            "/*                                                                   */\r\n",
            "/*********************************************************************/\r\n",
            "\r\n",
            "SELECT date, SUM(order_amount), COUNT(*)\r\n",
            "FROM\r\n",
            "  sales_order_fact a\r\n",
            ", date_dim b\r\n",
            "WHERE\r\n",
            "a.order_date_sk = b.date_sk\r\n",
            "GROUP BY date\r\n",
            "ORDER BY date\r\n",
            ";\r\n",
            "\r\n",
            "/* end of script                                                     */\r\n"
          ]
        }
      ]
    },
    {
      "cell_type": "code",
      "metadata": {
        "id": "t-OYxx2wek9W",
        "colab": {
          "base_uri": "https://localhost:8080/"
        },
        "outputId": "dba45f11-34c9-4610-f9d1-48b9a1fcbb07"
      },
      "source": [
        "!mysql dw --table < scripts/daily_aggregation.sql"
      ],
      "execution_count": 52,
      "outputs": [
        {
          "output_type": "stream",
          "name": "stdout",
          "text": [
            "+------------+-------------------+----------+\n",
            "| date       | SUM(order_amount) | COUNT(*) |\n",
            "+------------+-------------------+----------+\n",
            "| 2005-10-31 |          58000.00 |       10 |\n",
            "| 2005-11-01 |         195000.00 |        6 |\n",
            "+------------+-------------------+----------+\n"
          ]
        }
      ]
    },
    {
      "cell_type": "code",
      "metadata": {
        "id": "44sGgG_agZDK",
        "colab": {
          "base_uri": "https://localhost:8080/"
        },
        "outputId": "eec2f37a-1d69-438b-f9f3-f2d344b3724c"
      },
      "source": [
        "!mysql dw --table < scripts/annual_aggregation.sql"
      ],
      "execution_count": 53,
      "outputs": [
        {
          "output_type": "stream",
          "name": "stdout",
          "text": [
            "+------+-----------------+---------------+-------------------+----------+\n",
            "| year | product_name    | customer_city | SUM(order_amount) | COUNT(*) |\n",
            "+------+-----------------+---------------+-------------------+----------+\n",
            "| 2005 | Floppy Drive    | Mechanicsburg |          70000.00 |        5 |\n",
            "| 2005 | Floppy Drive    | Pittsburgh    |           8000.00 |        1 |\n",
            "| 2005 | Hard Disk Drive | Mechanicsburg |          46000.00 |        2 |\n",
            "| 2005 | Hard Disk Drive | Pittsburgh    |          34000.00 |        3 |\n",
            "| 2005 | LCD Panel       | Mechanicsburg |          61000.00 |        3 |\n",
            "| 2005 | LCD Panel       | Pittsburgh    |          34000.00 |        2 |\n",
            "+------+-----------------+---------------+-------------------+----------+\n"
          ]
        }
      ]
    },
    {
      "cell_type": "code",
      "metadata": {
        "id": "t-VcxNdTgtDC",
        "colab": {
          "base_uri": "https://localhost:8080/"
        },
        "outputId": "f9f02fee-3779-41b1-d4a4-aefa960a12d8"
      },
      "source": [
        "!mysql dw --table < scripts/monthly_storage.sql"
      ],
      "execution_count": 54,
      "outputs": [
        {
          "output_type": "stream",
          "name": "stdout",
          "text": [
            "+-----------------+------------+------+-------------------+----------+\n",
            "| product_name    | month_name | year | SUM(order_amount) | COUNT(*) |\n",
            "+-----------------+------------+------+-------------------+----------+\n",
            "| Floppy Drive    | November   | 2005 |          55000.00 |        2 |\n",
            "| Hard Disk Drive | November   | 2005 |          65000.00 |        2 |\n",
            "| Floppy Drive    | October    | 2005 |          23000.00 |        4 |\n",
            "| Hard Disk Drive | October    | 2005 |          15000.00 |        3 |\n",
            "+-----------------+------------+------+-------------------+----------+\n"
          ]
        }
      ]
    },
    {
      "cell_type": "code",
      "metadata": {
        "id": "CDvEh2mfl9ac",
        "colab": {
          "base_uri": "https://localhost:8080/"
        },
        "outputId": "03890b35-071b-4f9c-e323-4cf26a3f6175"
      },
      "source": [
        "!mysql dw --table < scripts/quarterly_mechanicsburg.sql"
      ],
      "execution_count": 55,
      "outputs": [
        {
          "output_type": "stream",
          "name": "stdout",
          "text": [
            "+---------------+---------+------+-------------------+-----------------+\n",
            "| customer_city | quarter | year | SUM(order_amount) | COUNT(order_sk) |\n",
            "+---------------+---------+------+-------------------+-----------------+\n",
            "| Mechanicsburg |       4 | 2005 |         177000.00 |              10 |\n",
            "+---------------+---------+------+-------------------+-----------------+\n"
          ]
        }
      ]
    },
    {
      "cell_type": "code",
      "metadata": {
        "id": "bFFyO34Bmz8X",
        "colab": {
          "base_uri": "https://localhost:8080/"
        },
        "outputId": "6d5a9f0e-489d-4b7a-9139-7e5faf1a207b"
      },
      "source": [
        "!cat scripts/monthly_product_performer.sql\n",
        "# there is an error in this script .. can you spot it?"
      ],
      "execution_count": 56,
      "outputs": [
        {
          "output_type": "stream",
          "name": "stdout",
          "text": [
            "/*********************************************************************/\r\n",
            "/*                                                                   */\r\n",
            "/* monthly_product_performer.sql                                     */                  \r\n",
            "/*                                                                   */\r\n",
            "/*********************************************************************/\r\n",
            "\r\n",
            "USE dw;\r\n",
            "\r\n",
            "SELECT month_name, year, product_name, SUM(order_amount), COUNT(*)\r\n",
            "FROM\r\n",
            "  sales_order_fact a\r\n",
            ", product_dim b\r\n",
            ", date_dim c\r\n",
            "WHERE\r\n",
            "    a.product_sk = b.product_sk\r\n",
            "AND a.order_date_sk = c.date_sk\r\n",
            "GROUP BY \r\n",
            "  month_name\r\n",
            ", year\r\n",
            ", product_name\r\n",
            "HAVING SUM(order_amount) >= 75000\r\n",
            "ORDER BY \r\n",
            "  month\r\n",
            ", year\r\n",
            ", product_name\r\n",
            ";\r\n",
            "\r\n",
            "/* end of script                                                     */\r\n"
          ]
        }
      ]
    },
    {
      "cell_type": "code",
      "metadata": {
        "id": "xoczCQzElsOT",
        "colab": {
          "base_uri": "https://localhost:8080/"
        },
        "outputId": "d2957d1b-5804-468a-b3ec-c57007c7edb4"
      },
      "source": [
        "!mysql dw --table < scripts/monthly_product_performer.sql"
      ],
      "execution_count": 57,
      "outputs": [
        {
          "output_type": "stream",
          "name": "stdout",
          "text": [
            "ERROR 1055 (42000) at line 9: Expression #1 of ORDER BY clause is not in GROUP BY clause and contains nonaggregated column 'dw.c.month' which is not functionally dependent on columns in GROUP BY clause; this is incompatible with sql_mode=only_full_group_by\n"
          ]
        }
      ]
    },
    {
      "cell_type": "code",
      "metadata": {
        "id": "SONlYAGOnPKW",
        "colab": {
          "base_uri": "https://localhost:8080/"
        },
        "outputId": "c3d532fd-23b5-4669-d368-550734414a0f"
      },
      "source": [
        "%%writefile pm_monthly_product_performer.sql\n",
        "\n",
        "USE dw;\n",
        "\n",
        "SELECT month_name, year, product_name, SUM(order_amount), COUNT(*)\n",
        "FROM\n",
        "  sales_order_fact a\n",
        ", product_dim b\n",
        ", date_dim c\n",
        "WHERE\n",
        "    a.product_sk = b.product_sk\n",
        "AND a.order_date_sk = c.date_sk\n",
        "GROUP BY \n",
        "  month_name\n",
        ", year\n",
        ", product_name\n",
        "HAVING SUM(order_amount) >= 75000\n",
        "ORDER BY \n",
        "  month_name\n",
        ", year\n",
        ", product_name\n",
        ";"
      ],
      "execution_count": 58,
      "outputs": [
        {
          "output_type": "stream",
          "name": "stdout",
          "text": [
            "Writing pm_monthly_product_performer.sql\n"
          ]
        }
      ]
    },
    {
      "cell_type": "code",
      "metadata": {
        "id": "XnJM_Q7EnhHN",
        "colab": {
          "base_uri": "https://localhost:8080/"
        },
        "outputId": "edb46363-ddb6-492b-d0d4-2c6e284ae160"
      },
      "source": [
        "#running the corrected script\n",
        "!mysql dw --table < pm_monthly_product_performer.sql"
      ],
      "execution_count": 59,
      "outputs": [
        {
          "output_type": "stream",
          "name": "stdout",
          "text": [
            "+------------+------+--------------+-------------------+----------+\n",
            "| month_name | year | product_name | SUM(order_amount) | COUNT(*) |\n",
            "+------------+------+--------------+-------------------+----------+\n",
            "| November   | 2005 | LCD Panel    |          75000.00 |        2 |\n",
            "+------------+------+--------------+-------------------+----------+\n"
          ]
        }
      ]
    },
    {
      "cell_type": "markdown",
      "metadata": {
        "id": "EW_5vS_8Benv"
      },
      "source": [
        "sample forms https://colab.research.google.com/notebooks/forms.ipynb"
      ]
    },
    {
      "cell_type": "code",
      "metadata": {
        "id": "IC9i7zfj-yIp",
        "colab": {
          "base_uri": "https://localhost:8080/"
        },
        "outputId": "82e9391a-b803-4505-e723-3ebb7805cd18"
      },
      "source": [
        "!mysql dw --table < scripts/loyal_customer.sql"
      ],
      "execution_count": 60,
      "outputs": [
        {
          "output_type": "stream",
          "name": "stdout",
          "text": [
            "+-----------------+------+----------+\n",
            "| customer_number | year | COUNT(*) |\n",
            "+-----------------+------+----------+\n",
            "|               1 | 2005 |        4 |\n",
            "+-----------------+------+----------+\n"
          ]
        }
      ]
    },
    {
      "cell_type": "code",
      "source": [
        "from datetime import datetime\n",
        "import pytz\n",
        "print('signed off at  ',datetime.now(pytz.timezone('Asia/Singapore')))"
      ],
      "metadata": {
        "colab": {
          "base_uri": "https://localhost:8080/"
        },
        "id": "EI_0iM7qrstd",
        "outputId": "b2a540c0-4bec-40f5-b843-a4982672e85b"
      },
      "execution_count": 61,
      "outputs": [
        {
          "output_type": "stream",
          "name": "stdout",
          "text": [
            "signed off at   2023-01-31 08:20:16.203791+08:00\n"
          ]
        }
      ]
    },
    {
      "cell_type": "markdown",
      "metadata": {
        "id": "wa5R9CaD1t2a"
      },
      "source": [
        "#Chronobooks <br>\n",
        "Two science fiction novels by Prithwis Mukerjee. A dystopian Earth. A technocratic society managed by artificial intelligence. Escape and epiphany on Mars. Can man and machine, carbon and silicon explore and escape into other dimensions of existence? An Indic perspective rooted in Advaita Vedanta and the Divine Feminine.  [More information](http://bit.ly/chronobooks) <br>\n",
        "![alt text](https://github.com/Praxis-QR/RDWH/raw/main/images/CTCYFooter-1.png)"
      ]
    }
  ]
}