{
  "nbformat": 4,
  "nbformat_minor": 0,
  "metadata": {
    "colab": {
      "provenance": [],
      "toc_visible": true,
      "include_colab_link": true
    },
    "kernelspec": {
      "name": "python3",
      "display_name": "Python 3"
    },
    "language_info": {
      "name": "python"
    }
  },
  "cells": [
    {
      "cell_type": "markdown",
      "metadata": {
        "id": "view-in-github",
        "colab_type": "text"
      },
      "source": [
        "<a href=\"https://colab.research.google.com/github/Praxis-QR/RDWH/blob/main/Recursive_SQL_with_ChatGPT.ipynb\" target=\"_parent\"><img src=\"https://colab.research.google.com/assets/colab-badge.svg\" alt=\"Open In Colab\"/></a>"
      ]
    },
    {
      "cell_type": "markdown",
      "source": [
        "![alt text](https://github.com/Praxis-QR/RDWH/raw/main/images/YantraJaalBanner.png)<br>\n",
        "\n",
        "\n",
        "<hr>\n",
        "\n",
        "[Prithwis Mukerjee](http://www.linkedin.com/in/prithwis)<br>"
      ],
      "metadata": {
        "id": "DBzz-qaN2tKu"
      }
    },
    {
      "cell_type": "code",
      "source": [
        "from datetime import datetime\n",
        "import pytz\n",
        "print('ॐ श्री सरस्वत्यै नमः',datetime.now(pytz.timezone('Asia/Calcutta')))\n",
        "!python --version\n",
        "!lsb_release -a"
      ],
      "metadata": {
        "colab": {
          "base_uri": "https://localhost:8080/"
        },
        "id": "ROR4wrcumEbb",
        "outputId": "9b47975d-cea7-436c-9bff-636582743fab"
      },
      "execution_count": 1,
      "outputs": [
        {
          "output_type": "stream",
          "name": "stdout",
          "text": [
            "ॐ श्री सरस्वत्यै नमः 2024-03-01 10:25:32.176148+05:30\n",
            "Python 3.10.12\n",
            "No LSB modules are available.\n",
            "Distributor ID:\tUbuntu\n",
            "Description:\tUbuntu 22.04.3 LTS\n",
            "Release:\t22.04\n",
            "Codename:\tjammy\n"
          ]
        }
      ]
    },
    {
      "cell_type": "markdown",
      "source": [
        "#Install Postgres in VM"
      ],
      "metadata": {
        "id": "nD-QawLT6kDr"
      }
    },
    {
      "cell_type": "code",
      "execution_count": 2,
      "metadata": {
        "colab": {
          "base_uri": "https://localhost:8080/"
        },
        "id": "QBxqnsWJ0wA1",
        "outputId": "1970a604-6fc6-4495-81b0-025ac0e52410"
      },
      "outputs": [
        {
          "output_type": "stream",
          "name": "stdout",
          "text": [
            "\n",
            "WARNING: apt does not have a stable CLI interface. Use with caution in scripts.\n",
            "\n",
            "\n",
            "WARNING: apt does not have a stable CLI interface. Use with caution in scripts.\n",
            "\n",
            "psql (PostgreSQL) 14.11 (Ubuntu 14.11-0ubuntu0.22.04.1)\n",
            " * Starting PostgreSQL 14 database server\n",
            "   ...done.\n"
          ]
        }
      ],
      "source": [
        "# Install postgresql server\n",
        "\n",
        "!apt update > /dev/null\n",
        "!apt install postgresql > /dev/null\n",
        "!sudo -u postgres psql -V\n",
        "!service postgresql start"
      ]
    },
    {
      "cell_type": "markdown",
      "source": [
        "## Configure"
      ],
      "metadata": {
        "id": "--pn1fPO6ndu"
      }
    },
    {
      "cell_type": "code",
      "source": [
        "# Setup a password `pass` for username `postgres`\n",
        "!sudo -u postgres psql -U postgres -c \"ALTER USER postgres PASSWORD 'pass';\"\n",
        "#\n",
        "# Setup a database with name `praxisdb` to be used\n",
        "!sudo -u postgres psql -U postgres -c 'DROP DATABASE IF EXISTS praxisdb;'\n",
        "!sudo -u postgres psql -U postgres -c 'CREATE DATABASE praxisdb;'\n",
        "#\n",
        "# Create file to store the password. Else will be prompted each time\n",
        "!echo \"localhost:5432:praxisdb:postgres:pass\" > ~/.pgpass\n",
        "!chmod 0600 ~/.pgpass\n",
        "!cat ~/.pgpass"
      ],
      "metadata": {
        "colab": {
          "base_uri": "https://localhost:8080/"
        },
        "id": "J3PSLjXd1D-J",
        "outputId": "2411ed87-b1ac-42c9-c9bc-74a7f5037198"
      },
      "execution_count": 3,
      "outputs": [
        {
          "output_type": "stream",
          "name": "stdout",
          "text": [
            "ALTER ROLE\n",
            "NOTICE:  database \"praxisdb\" does not exist, skipping\n",
            "DROP DATABASE\n",
            "CREATE DATABASE\n",
            "localhost:5432:praxisdb:postgres:pass\n"
          ]
        }
      ]
    },
    {
      "cell_type": "markdown",
      "source": [
        "#ChatGPT Prompt"
      ],
      "metadata": {
        "id": "pHTdNzrU6qUE"
      }
    },
    {
      "cell_type": "markdown",
      "source": [
        "##ChatGPT prompt<br>\n",
        "Can  you please help me with writing a recursive SQL for postgreSQL database<br>\n",
        "\n"
      ],
      "metadata": {
        "id": "PEyFB2zLYoAd"
      }
    },
    {
      "cell_type": "markdown",
      "source": [
        "###Reply\n",
        "Certainly! Recursive SQL in PostgreSQL is often used for querying hierarchical data stored in a table with a self-referencing foreign key. Here's an example of how you can write a recursive SQL query in PostgreSQL:\n",
        "\n",
        "Let's suppose you have a table called employees with columns employee_id and manager_id, where manager_id refers to the employee_id of the manager of each employee.\n",
        "WITH RECURSIVE EmployeeHierarchy AS ( SELECT employee_id, manager_id, 1 AS level FROM employees WHERE manager_id IS NULL -- This selects the top-level employees\n",
        "\n",
        "UNION ALL\n",
        "\n",
        "SELECT e.employee_id, e.manager_id, eh.level + 1 FROM employees e JOIN EmployeeHierarchy eh ON e.manager_id = eh.employee_id ) SELECT * FROM EmployeeHierarchy ORDER BY level, employee_id;\n",
        "In this recursive query:\n",
        "\n",
        "EmployeeHierarchy is the name given to the recursive query. The initial part before UNION ALL selects the top-level employees (those who don't have a manager, indicated by manager_id IS NULL). The recursive part (UNION ALL onward) selects employees who are managed by the employees already in the EmployeeHierarchy set, and it keeps repeating until no more records match the recursive part. level is used to keep track of the hierarchy depth. You can customize this query based on your specific table structure and requirements. Make sure to replace employees with the actual name of your table, and adjust column names accordingly."
      ],
      "metadata": {
        "id": "CoHl6ABzelz2"
      }
    },
    {
      "cell_type": "markdown",
      "source": [
        "## Table Set Up"
      ],
      "metadata": {
        "id": "DMunMXUgfb9H"
      }
    },
    {
      "cell_type": "code",
      "source": [
        "!psql -h localhost -p 5432 -Upostgres -dpraxisdb -c \\\n",
        "\"create table e1 \\\n",
        "(e_id char(6),\\\n",
        " m_id char(20)\\\n",
        ");\\\n",
        "\""
      ],
      "metadata": {
        "colab": {
          "base_uri": "https://localhost:8080/"
        },
        "id": "HU6UACin3c4j",
        "outputId": "5a9b337e-062d-4bd0-cbc1-7b637b142d5e"
      },
      "execution_count": 6,
      "outputs": [
        {
          "output_type": "stream",
          "name": "stdout",
          "text": [
            "CREATE TABLE\n"
          ]
        }
      ]
    },
    {
      "cell_type": "code",
      "source": [
        "!psql -h localhost -p 5432 -Upostgres -dpraxisdb -c \"truncate table e1\""
      ],
      "metadata": {
        "colab": {
          "base_uri": "https://localhost:8080/"
        },
        "id": "y96inaBfbdZK",
        "outputId": "8f702201-8c0f-4889-8d83-b242dbb5f1b9"
      },
      "execution_count": 12,
      "outputs": [
        {
          "output_type": "stream",
          "name": "stdout",
          "text": [
            "TRUNCATE TABLE\n"
          ]
        }
      ]
    },
    {
      "cell_type": "code",
      "source": [
        "!psql -h localhost -p 5432 -Upostgres -dpraxisdb -c \\\n",
        "\"insert into e1 (e_id, m_id) values \\\n",
        "('e001',NULL),\\\n",
        "('e002','e001'),\\\n",
        "('e003','e001'),\\\n",
        "('e004','e002'),\\\n",
        "('e005','e002'),\\\n",
        "('e006','e002'),\\\n",
        "('e007','e004'),\\\n",
        "('e008','e004'),\\\n",
        "('e009','e005'),\\\n",
        "('e010','e005')\\\n",
        ";\\\n",
        "\""
      ],
      "metadata": {
        "colab": {
          "base_uri": "https://localhost:8080/"
        },
        "id": "nqiy0QagZxky",
        "outputId": "dffbf2d1-9de7-45d2-8c28-b678110cce40"
      },
      "execution_count": 14,
      "outputs": [
        {
          "output_type": "stream",
          "name": "stdout",
          "text": [
            "INSERT 0 10\n"
          ]
        }
      ]
    },
    {
      "cell_type": "code",
      "source": [
        "!psql -h localhost -p 5432 -Upostgres -dpraxisdb -c \"select * from e1\""
      ],
      "metadata": {
        "colab": {
          "base_uri": "https://localhost:8080/"
        },
        "id": "ealaCFQJazPn",
        "outputId": "6fb55ae6-40cd-4e9f-b681-8dea41133ff0"
      },
      "execution_count": 15,
      "outputs": [
        {
          "output_type": "stream",
          "name": "stdout",
          "text": [
            "  e_id  |         m_id         \n",
            "--------+----------------------\n",
            " e001   | \n",
            " e002   | e001                \n",
            " e003   | e001                \n",
            " e004   | e002                \n",
            " e005   | e002                \n",
            " e006   | e002                \n",
            " e007   | e004                \n",
            " e008   | e004                \n",
            " e009   | e005                \n",
            " e010   | e005                \n",
            "(10 rows)\n",
            "\n"
          ]
        }
      ]
    },
    {
      "cell_type": "code",
      "source": [
        "!psql -h localhost -p 5432 -Upostgres -dpraxisdb -c \"\\\n",
        "WITH RECURSIVE EmployeeHierarchy AS ( SELECT e_id, m_id, 1 AS level FROM e1 WHERE m_id IS NULL \\\n",
        "UNION ALL \\\n",
        "SELECT e.e_id, e.m_id, eh.level + 1 FROM e1 e JOIN EmployeeHierarchy eh ON e.m_id = eh.e_id ) \\\n",
        "SELECT * FROM EmployeeHierarchy ORDER BY level, e_id;\\\n",
        "\""
      ],
      "metadata": {
        "colab": {
          "base_uri": "https://localhost:8080/"
        },
        "id": "HfTst0WubIfb",
        "outputId": "5d391c85-399c-43de-a2a8-471afdf990c5"
      },
      "execution_count": 17,
      "outputs": [
        {
          "output_type": "stream",
          "name": "stdout",
          "text": [
            "  e_id  |         m_id         | level \n",
            "--------+----------------------+-------\n",
            " e001   |                      |     1\n",
            " e002   | e001                 |     2\n",
            " e003   | e001                 |     2\n",
            " e004   | e002                 |     3\n",
            " e005   | e002                 |     3\n",
            " e006   | e002                 |     3\n",
            " e007   | e004                 |     4\n",
            " e008   | e004                 |     4\n",
            " e009   | e005                 |     4\n",
            " e010   | e005                 |     4\n",
            "(10 rows)\n",
            "\n"
          ]
        }
      ]
    },
    {
      "cell_type": "markdown",
      "source": [
        "##ChatGPT Prompt\n",
        "thanks, Now I want to reverse the query so that given a employee, I want to find all the upline managers. Please modify the query accordingly"
      ],
      "metadata": {
        "id": "apI3MC0afCrE"
      }
    },
    {
      "cell_type": "markdown",
      "source": [
        "###Reply\n",
        "To reverse the query and find all the upline managers given an employee, you can modify the recursive part of the query to traverse upwards through the managerial hierarchy. Here's the modified query:<br>\n",
        "WITH RECURSIVE ManagerialHierarchy AS (\n",
        "  SELECT employee_id, manager_id, 1 AS level\n",
        "  FROM employees\n",
        "  WHERE employee_id = :input_employee_id -- Replace :input_employee_id with the employee ID you're interested in\n",
        "\n",
        "  UNION ALL\n",
        "\n",
        "  SELECT e.employee_id, e.manager_id, mh.level + 1\n",
        "  FROM employees e\n",
        "  JOIN ManagerialHierarchy mh ON e.employee_id = mh.manager_id\n",
        ")\n",
        "SELECT *\n",
        "FROM ManagerialHierarchy\n",
        "ORDER BY level DESC; -- Ordering by level in descending order will give you the hierarchy from the employee up to the top-level manager.\n",
        "<br>\n",
        "In this modified query:\n",
        "\n",
        "ManagerialHierarchy is the name given to the recursive query.\n",
        "The initial part before UNION ALL selects the employee you're interested in by specifying its employee_id.\n",
        "The recursive part (UNION ALL onward) selects managers of the employee found in the previous iteration, effectively moving upwards in the hierarchy.\n",
        "level is used to keep track of the hierarchy depth.\n",
        "Finally, we order the result set by level in descending order to get the hierarchy from the given employee up to the top-level manager.\n",
        "Make sure to replace employees with the actual name of your table, and adjust column names accordingly. Also, replace :input_employee_id with the specific employee ID you want to start the hierarchy traversal from.\n"
      ],
      "metadata": {
        "id": "duI6i9C_dyhf"
      }
    },
    {
      "cell_type": "code",
      "source": [
        "!psql -h localhost -p 5432 -Upostgres -dpraxisdb -c \"\\\n",
        "WITH RECURSIVE ManagerialHierarchy AS ( \\\n",
        "  SELECT e_id, m_id, 1 AS level \\\n",
        "  FROM e1 \\\n",
        "  WHERE e_id = 'e009'  \\\n",
        "  UNION ALL \\\n",
        "  SELECT e.e_id, e.m_id, mh.level + 1 \\\n",
        "  FROM e1 e \\\n",
        "  JOIN ManagerialHierarchy mh ON e.e_id = mh.m_id \\\n",
        ") \\\n",
        "SELECT * \\\n",
        "FROM ManagerialHierarchy \\\n",
        "ORDER BY level DESC; \\\n",
        "\""
      ],
      "metadata": {
        "colab": {
          "base_uri": "https://localhost:8080/"
        },
        "id": "Oz0XP2Y2c7tn",
        "outputId": "9077e7e5-30b1-4ce6-9c9d-6242509ffe89"
      },
      "execution_count": 18,
      "outputs": [
        {
          "output_type": "stream",
          "name": "stdout",
          "text": [
            "  e_id  |         m_id         | level \n",
            "--------+----------------------+-------\n",
            " e001   |                      |     4\n",
            " e002   | e001                 |     3\n",
            " e005   | e002                 |     2\n",
            " e009   | e005                 |     1\n",
            "(4 rows)\n",
            "\n"
          ]
        }
      ]
    },
    {
      "cell_type": "code",
      "source": [
        "!psql -h localhost -p 5432 -Upostgres -dpraxisdb -c \"\\\n",
        "WITH RECURSIVE ManagerialHierarchy AS ( \\\n",
        "  SELECT e_id, m_id, 1 AS level \\\n",
        "  FROM e1 \\\n",
        "  WHERE e_id = 'e009'  \\\n",
        "  UNION ALL \\\n",
        "  SELECT e.e_id, e.m_id, mh.level + 1 \\\n",
        "  FROM e1 e \\\n",
        "  JOIN ManagerialHierarchy mh ON e.e_id = mh.m_id \\\n",
        ") \\\n",
        "SELECT * \\\n",
        "FROM ManagerialHierarchy \\\n",
        "ORDER BY level ; \\\n",
        "\""
      ],
      "metadata": {
        "colab": {
          "base_uri": "https://localhost:8080/"
        },
        "id": "2ljLxJDSeT3d",
        "outputId": "9843d2c1-5039-43f5-f7eb-9c076b9bc98f"
      },
      "execution_count": 19,
      "outputs": [
        {
          "output_type": "stream",
          "name": "stdout",
          "text": [
            "  e_id  |         m_id         | level \n",
            "--------+----------------------+-------\n",
            " e009   | e005                 |     1\n",
            " e005   | e002                 |     2\n",
            " e002   | e001                 |     3\n",
            " e001   |                      |     4\n",
            "(4 rows)\n",
            "\n"
          ]
        }
      ]
    },
    {
      "cell_type": "markdown",
      "source": [
        "#ChatGPT does even more"
      ],
      "metadata": {
        "id": "yu98XoZwiOWq"
      }
    },
    {
      "cell_type": "markdown",
      "source": [
        "## Prompt\n",
        "I need a PostgreSQL table which should have the following columns, memberid char(5) primary key, member name varchar(10), recommendedby char(5) foreign key referring to memberid that shows which member referred this member. Can you please give me the create table statement"
      ],
      "metadata": {
        "id": "ti11BBMtgzip"
      }
    },
    {
      "cell_type": "markdown",
      "source": [
        "### Reply\n",
        "Certainly! Here's the CREATE TABLE statement for your PostgreSQL table: <br>\n",
        "CREATE TABLE members (\n",
        "    memberid CHAR(5) PRIMARY KEY,\n",
        "    member_name VARCHAR(10),\n",
        "    recommendedby CHAR(5),\n",
        "    FOREIGN KEY (recommendedby) REFERENCES members(memberid)\n",
        ");\n",
        "<br>\n",
        "n this table:\n",
        "\n",
        "memberid is the primary key column, ensuring each member has a unique identifier.\n",
        "member_name is a VARCHAR column to store the name of the member.\n",
        "recommendedby is a CHAR(5) column that stores the memberid of the member who referred this member. It's also a foreign key referencing the memberid column of the same table, ensuring referential integrity.\n",
        "This CREATE TABLE statement should create the table you described."
      ],
      "metadata": {
        "id": "hhKvoF0sg03a"
      }
    },
    {
      "cell_type": "code",
      "source": [
        "!psql -h localhost -p 5432 -Upostgres -dpraxisdb -c \"\\\n",
        "CREATE TABLE members \\\n",
        "( \\\n",
        "memberid CHAR(5) PRIMARY KEY, \\\n",
        "member_name VARCHAR(10), \\\n",
        "recommendedby CHAR(5), FOREIGN KEY (recommendedby) REFERENCES members(memberid) \\\n",
        ")\\\n",
        ";\\\n",
        "\""
      ],
      "metadata": {
        "colab": {
          "base_uri": "https://localhost:8080/"
        },
        "id": "1VHAhiCXhN0l",
        "outputId": "a8709788-c61d-4b38-af4f-4b17354868f0"
      },
      "execution_count": 21,
      "outputs": [
        {
          "output_type": "stream",
          "name": "stdout",
          "text": [
            "CREATE TABLE\n"
          ]
        }
      ]
    },
    {
      "cell_type": "markdown",
      "source": [
        "##Prompt\n",
        "For the members table described above, please create 12 pieces of sample data with Indian names and give me the insert statements for the same"
      ],
      "metadata": {
        "id": "qplr2ANtipGr"
      }
    },
    {
      "cell_type": "markdown",
      "source": [],
      "metadata": {
        "id": "9g4-pdXdiuQB"
      }
    },
    {
      "cell_type": "code",
      "source": [
        "!psql -h localhost -p 5432 -Upostgres -dpraxisdb -c \"\\\n",
        "INSERT INTO members (memberid, member_name, recommendedby) VALUES \\\n",
        "('M0001', 'Ravi', NULL), \\\n",
        "('M0002', 'Priya', 'M0001'), \\\n",
        "('M0003', 'Sanjay', 'M0001'), \\\n",
        "('M0004', 'Neha', 'M0002'), \\\n",
        "('M0005', 'Amit', 'M0002'), \\\n",
        "('M0006', 'Anjali', 'M0003'), \\\n",
        "('M0007', 'Suresh', 'M0003'), \\\n",
        "('M0008', 'Meena', 'M0003'), \\\n",
        "('M0009', 'Rahul', 'M0005'), \\\n",
        "('M0010', 'Kavita', 'M0006'), \\\n",
        "('M0011', 'Vivek', 'M0007'), \\\n",
        "('M0012', 'Sunita', 'M0008'); \\\n",
        "\""
      ],
      "metadata": {
        "colab": {
          "base_uri": "https://localhost:8080/"
        },
        "id": "09X0OPu6inpz",
        "outputId": "c3156e19-e476-4bc8-87cb-23c722f8ba49"
      },
      "execution_count": 22,
      "outputs": [
        {
          "output_type": "stream",
          "name": "stdout",
          "text": [
            "INSERT 0 12\n"
          ]
        }
      ]
    },
    {
      "cell_type": "markdown",
      "source": [
        "## Prompt\n",
        "Give me SQL that will show the chain of members recommended by 'Priya' and the people that she recommended"
      ],
      "metadata": {
        "id": "BCXlbkvalD7L"
      }
    },
    {
      "cell_type": "markdown",
      "source": [
        "### Reply\n",
        "To retrieve the chain of members recommended by 'Priya' and the people that she recommended, you can use a recursive common table expression (CTE) to traverse the hierarchy. Here's the SQL query for that: <br>\n",
        "This query:\n",
        "\n",
        "Uses a recursive CTE named MemberChain.\n",
        "The initial part selects members recommended by 'Priya' (M0002). You should replace 'M0002' with the memberid of 'Priya'.\n",
        "The recursive part joins the members table with the MemberChain CTE to find the members recommended by the previously selected members.\n",
        "It keeps traversing the hierarchy until no more records match the recursive part.\n",
        "Finally, it selects all the columns from the MemberChain CTE and orders the results by the level of recommendation.\n",
        "This query will give you a chain of members recommended by 'Priya' and the members she directly recommended, along with their recommendation levels."
      ],
      "metadata": {
        "id": "gYjPqJZolOaz"
      }
    },
    {
      "cell_type": "code",
      "source": [
        "!psql -h localhost -p 5432 -Upostgres -dpraxisdb -c \"\\\n",
        "WITH RECURSIVE MemberChain AS ( \\\n",
        "  SELECT memberid, member_name, recommendedby, 1 AS level \\\n",
        "  FROM members \\\n",
        "  WHERE recommendedby = 'M0002'  \\\n",
        "  UNION ALL \\\n",
        "  SELECT m.memberid, m.member_name, m.recommendedby, mc.level + 1 \\\n",
        "  FROM members m \\\n",
        "  JOIN MemberChain mc ON m.recommendedby = mc.memberid \\\n",
        ") \\\n",
        "SELECT * \\\n",
        "FROM MemberChain \\\n",
        "ORDER BY level;\\\n",
        "\""
      ],
      "metadata": {
        "colab": {
          "base_uri": "https://localhost:8080/"
        },
        "id": "NCyOc4JHkV3B",
        "outputId": "6e75238a-5a99-4a8c-fd49-b20a77521fda"
      },
      "execution_count": 24,
      "outputs": [
        {
          "output_type": "stream",
          "name": "stdout",
          "text": [
            " memberid | member_name | recommendedby | level \n",
            "----------+-------------+---------------+-------\n",
            " M0004    | Neha        | M0002         |     1\n",
            " M0005    | Amit        | M0002         |     1\n",
            " M0009    | Rahul       | M0005         |     2\n",
            "(3 rows)\n",
            "\n"
          ]
        }
      ]
    },
    {
      "cell_type": "markdown",
      "source": [
        "## Prompt\n",
        "Please modify this query for an upward chain, which means, given a member name, I would like to know who he was recommended by and who in turn recommended the recommender and so on"
      ],
      "metadata": {
        "id": "6euRORCynWSh"
      }
    },
    {
      "cell_type": "code",
      "source": [
        "!psql -h localhost -p 5432 -Upostgres -dpraxisdb -c \"\\\n",
        "WITH RECURSIVE MemberChain AS ( \\\n",
        "  SELECT memberid, member_name, recommendedby, 1 AS level \\\n",
        "  FROM members \\\n",
        "  WHERE member_name = 'Priya'  \\\n",
        "  UNION ALL \\\n",
        "  SELECT m.memberid, m.member_name, m.recommendedby, mc.level + 1 \\\n",
        "  FROM members m \\\n",
        "  JOIN MemberChain mc ON m.memberid = mc.recommendedby \\\n",
        ") \\\n",
        "SELECT * \\\n",
        "FROM MemberChain \\\n",
        "ORDER BY level DESC;\\\n",
        "\""
      ],
      "metadata": {
        "colab": {
          "base_uri": "https://localhost:8080/"
        },
        "id": "2wswLYmwnA1Y",
        "outputId": "1561ba96-2424-4167-fea8-448980897bdb"
      },
      "execution_count": 27,
      "outputs": [
        {
          "output_type": "stream",
          "name": "stdout",
          "text": [
            " memberid | member_name | recommendedby | level \n",
            "----------+-------------+---------------+-------\n",
            " M0001    | Ravi        |               |     2\n",
            " M0002    | Priya       | M0001         |     1\n",
            "(2 rows)\n",
            "\n"
          ]
        }
      ]
    },
    {
      "cell_type": "code",
      "source": [
        "!psql -h localhost -p 5432 -Upostgres -dpraxisdb -c \"\\\n",
        "WITH RECURSIVE MemberChain AS ( \\\n",
        "  SELECT memberid, member_name, recommendedby, 1 AS level \\\n",
        "  FROM members \\\n",
        "  WHERE member_name = 'Sunita'  \\\n",
        "  UNION ALL \\\n",
        "  SELECT m.memberid, m.member_name, m.recommendedby, mc.level + 1 \\\n",
        "  FROM members m \\\n",
        "  JOIN MemberChain mc ON m.memberid = mc.recommendedby \\\n",
        ") \\\n",
        "SELECT * \\\n",
        "FROM MemberChain \\\n",
        "ORDER BY level DESC;\\\n",
        "\""
      ],
      "metadata": {
        "colab": {
          "base_uri": "https://localhost:8080/"
        },
        "id": "gs_PNGNpncc4",
        "outputId": "e4883c52-b22f-462e-910f-6e45af2a2707"
      },
      "execution_count": 28,
      "outputs": [
        {
          "output_type": "stream",
          "name": "stdout",
          "text": [
            " memberid | member_name | recommendedby | level \n",
            "----------+-------------+---------------+-------\n",
            " M0001    | Ravi        |               |     4\n",
            " M0003    | Sanjay      | M0001         |     3\n",
            " M0008    | Meena       | M0003         |     2\n",
            " M0012    | Sunita      | M0008         |     1\n",
            "(4 rows)\n",
            "\n"
          ]
        }
      ]
    },
    {
      "cell_type": "markdown",
      "source": [
        "#Chronobooks <br>\n",
        "Two science fiction novels by Prithwis Mukerjee. A dystopian Earth. A technocratic society managed by artificial intelligence. Escape and epiphany on Mars. Can man and machine, carbon and silicon explore and escape into other dimensions of existence? An Indic perspective rooted in Advaita Vedanta and the Divine Feminine.  [More information](http://bit.ly/chronobooks) <br>\n",
        "![alt text](https://github.com/Praxis-QR/RDWH/raw/main/images/CTCYFooter-1.png)"
      ],
      "metadata": {
        "id": "_gNiZpyW3AzJ"
      }
    },
    {
      "cell_type": "code",
      "source": [
        "from datetime import datetime\n",
        "import pytz\n",
        "print('Last tested  ',datetime.now(pytz.timezone('Asia/Kolkata')))"
      ],
      "metadata": {
        "colab": {
          "base_uri": "https://localhost:8080/"
        },
        "id": "wjBXJVhM605H",
        "outputId": "e2eeeef6-581f-4fa9-a8a1-81c9aa769837"
      },
      "execution_count": 29,
      "outputs": [
        {
          "output_type": "stream",
          "name": "stdout",
          "text": [
            "Last tested   2024-03-01 11:37:58.732706+05:30\n"
          ]
        }
      ]
    }
  ]
}