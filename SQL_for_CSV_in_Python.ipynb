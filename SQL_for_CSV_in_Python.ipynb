{
  "nbformat": 4,
  "nbformat_minor": 0,
  "metadata": {
    "colab": {
      "provenance": [],
      "include_colab_link": true
    },
    "kernelspec": {
      "name": "python3",
      "display_name": "Python 3"
    }
  },
  "cells": [
    {
      "cell_type": "markdown",
      "metadata": {
        "id": "view-in-github",
        "colab_type": "text"
      },
      "source": [
        "<a href=\"https://colab.research.google.com/github/Praxis-QR/RDWH/blob/main/SQL_for_CSV_in_Python.ipynb\" target=\"_parent\"><img src=\"https://colab.research.google.com/assets/colab-badge.svg\" alt=\"Open In Colab\"/></a>"
      ]
    },
    {
      "cell_type": "markdown",
      "metadata": {
        "id": "JLS_gJa1nzro"
      },
      "source": [
        "\n",
        "![alt text](https://4.bp.blogspot.com/-gbL5nZDkpFQ/XScFYwoTEII/AAAAAAAAAGY/CcVb_HDLwvs2Brv5T4vSsUcz7O4r2Q79ACK4BGAYYCw/s1600/kk3-header00-beta.png)<br>\n",
        "\n",
        "\n",
        "<hr>\n",
        "\n",
        "[Prithwis Mukerjee](http://www.linkedin.com/in/prithwis)<br>"
      ]
    },
    {
      "cell_type": "markdown",
      "source": [
        "https://www.kdnuggets.com/2023/01/sql-csvs.html"
      ],
      "metadata": {
        "id": "mUls4XoOEQPQ"
      }
    },
    {
      "cell_type": "code",
      "source": [
        "!pip -q install csvkit"
      ],
      "metadata": {
        "colab": {
          "base_uri": "https://localhost:8080/"
        },
        "id": "OfQfwA7m2nSi",
        "outputId": "9ff578e8-fe58-4e3e-d71b-400c01aa7149"
      },
      "execution_count": 1,
      "outputs": [
        {
          "output_type": "stream",
          "name": "stdout",
          "text": [
            "\u001b[2K     \u001b[90m━━━━━━━━━━━━━━━━━━━━━━━━━━━━━━━━━━━━━━━━\u001b[0m \u001b[32m42.1/42.1 KB\u001b[0m \u001b[31m3.1 MB/s\u001b[0m eta \u001b[36m0:00:00\u001b[0m\n",
            "\u001b[2K     \u001b[90m━━━━━━━━━━━━━━━━━━━━━━━━━━━━━━━━━━━━━━━━\u001b[0m \u001b[32m97.1/97.1 KB\u001b[0m \u001b[31m7.2 MB/s\u001b[0m eta \u001b[36m0:00:00\u001b[0m\n",
            "\u001b[2K     \u001b[90m━━━━━━━━━━━━━━━━━━━━━━━━━━━━━━━━━━━━━━━━\u001b[0m \u001b[32m41.7/41.7 KB\u001b[0m \u001b[31m4.2 MB/s\u001b[0m eta \u001b[36m0:00:00\u001b[0m\n",
            "\u001b[2K     \u001b[90m━━━━━━━━━━━━━━━━━━━━━━━━━━━━━━━━━━━━━━━━\u001b[0m \u001b[32m42.5/42.5 KB\u001b[0m \u001b[31m4.0 MB/s\u001b[0m eta \u001b[36m0:00:00\u001b[0m\n",
            "\u001b[2K     \u001b[90m━━━━━━━━━━━━━━━━━━━━━━━━━━━━━━━━━━━━━━\u001b[0m \u001b[32m112.2/112.2 KB\u001b[0m \u001b[31m12.4 MB/s\u001b[0m eta \u001b[36m0:00:00\u001b[0m\n",
            "\u001b[?25h  Preparing metadata (setup.py) ... \u001b[?25l\u001b[?25hdone\n",
            "  Building wheel for olefile (setup.py) ... \u001b[?25l\u001b[?25hdone\n"
          ]
        }
      ]
    },
    {
      "cell_type": "code",
      "source": [
        "#!wget -O data.csv https://raw.githubusercontent.com/Praxis-QR/RDWH/main/data/USFastFood50_2.csv\n",
        "!wget -q https://raw.githubusercontent.com/Praxis-QR/RDWH/main/data/dept.csv\n",
        "!wget -q https://raw.githubusercontent.com/Praxis-QR/RDWH/main/data/empl.csv"
      ],
      "metadata": {
        "id": "Lo6sBej51ctf"
      },
      "execution_count": 2,
      "outputs": []
    },
    {
      "cell_type": "code",
      "source": [
        "#!cat data.csv"
      ],
      "metadata": {
        "id": "LQY3g_vE2VVs"
      },
      "execution_count": 3,
      "outputs": []
    },
    {
      "cell_type": "code",
      "source": [
        "!csvsql --query \"SELECT * FROM empl LIMIT 2\" empl.csv"
      ],
      "metadata": {
        "colab": {
          "base_uri": "https://localhost:8080/"
        },
        "id": "JLXBX3cV2yyA",
        "outputId": "3cfd6ac4-d953-4ab3-b4e8-0bc10fee464d"
      },
      "execution_count": 4,
      "outputs": [
        {
          "output_type": "stream",
          "name": "stdout",
          "text": [
            "EmpID,LastName,FirstName,JobDesc,JoinDate,Salary,Comm,DeptID\n",
            "742866.0,Bacchan,Amitabh,Executive,2003-03-10,50000.0,0.1,10.0\n",
            "349870.0,Mukherjee,Rani,Manager,2005-05-04,25000.0,0.06,40.0\n"
          ]
        }
      ]
    },
    {
      "cell_type": "code",
      "source": [
        "!csvsql --query \"SELECT * FROM dept LIMIT 2\" dept.csv"
      ],
      "metadata": {
        "colab": {
          "base_uri": "https://localhost:8080/"
        },
        "id": "z-uB2kdwa-RK",
        "outputId": "ca3ddf5f-7f54-4953-e75f-0c1a776143d6"
      },
      "execution_count": 22,
      "outputs": [
        {
          "output_type": "stream",
          "name": "stdout",
          "text": [
            "DeptID,DeptName,ManagerID,Location\n",
            "10.0,Corporate,299034.0,Calcutta\n",
            "20.0,Sales,239456.0,Calcutta\n"
          ]
        }
      ]
    },
    {
      "cell_type": "code",
      "source": [
        "!csvsql --query \"SELECT * FROM empl\" empl.csv | csvlook"
      ],
      "metadata": {
        "colab": {
          "base_uri": "https://localhost:8080/"
        },
        "id": "wQR8WxLi3LVv",
        "outputId": "a3a15b39-cdfb-4c88-a74f-049012c85ca5"
      },
      "execution_count": 5,
      "outputs": [
        {
          "output_type": "stream",
          "name": "stdout",
          "text": [
            "|   EmpID | LastName    | FirstName | JobDesc    |   JoinDate | Salary | Comm | DeptID |\n",
            "| ------- | ----------- | --------- | ---------- | ---------- | ------ | ---- | ------ |\n",
            "| 742,866 | Bacchan     | Amitabh   | Executive  | 2003-03-10 | 50,000 | 0.10 |     10 |\n",
            "| 349,870 | Mukherjee   | Rani      | Manager    | 2005-05-04 | 25,000 | 0.06 |     40 |\n",
            "| 865,477 | Dikshit     | Madhuri   | Clerk      | 2002-04-04 | 10,000 | 0.02 |     20 |\n",
            "| 239,456 | Khan        | Shahrukh  | Manager    | 2004-01-03 | 30,000 | 0.07 |     20 |\n",
            "| 897,889 | Sehwag      | Virender  | Cus_Rep    | 2005-01-02 | 15,000 | 0.05 |     20 |\n",
            "| 123,980 | Dhoni       | Mahender  | Clerk      | 2004-10-09 |  9,000 | 0.02 |     40 |\n",
            "| 822,134 | Dravid      | Rahul     | Sr Manager | 2000-06-04 | 40,000 | 0.08 |     30 |\n",
            "| 997,445 | Dalmia      | Jagmohan  | Clerk      | 2001-07-01 | 12,000 | 0.02 |     30 |\n",
            "| 989,007 | Ganguly     | Sourav    | Cus_Rep    | 2002-01-01 | 20,000 | 0.03 |     40 |\n",
            "| 299,034 | Ganesan     | Rekha     | Director   | 2002-10-10 | 60,000 | 0.11 |     10 |\n",
            "| 546,223 | Karthikeyan | Narayan   | Secretary  | 2005-12-04 | 40,000 | 0.09 |     10 |\n",
            "| 223,112 | Mirza       | Sania     | Cus_Rep    | 2001-11-19 | 25,000 | 0.04 |     30 |\n"
          ]
        }
      ]
    },
    {
      "cell_type": "code",
      "source": [
        "!csvsql --query \"Select LastName, FirstName, JobDesc from Empl where JobDesc = 'Clerk'\" empl.csv | csvlook"
      ],
      "metadata": {
        "colab": {
          "base_uri": "https://localhost:8080/"
        },
        "id": "K8a5cpeTWdTg",
        "outputId": "adf3cc08-f441-4461-8ffb-00cc865820e1"
      },
      "execution_count": 6,
      "outputs": [
        {
          "output_type": "stream",
          "name": "stdout",
          "text": [
            "| LastName | FirstName | JobDesc |\n",
            "| -------- | --------- | ------- |\n",
            "| Dikshit  | Madhuri   | Clerk   |\n",
            "| Dhoni    | Mahender  | Clerk   |\n",
            "| Dalmia   | Jagmohan  | Clerk   |\n"
          ]
        }
      ]
    },
    {
      "cell_type": "code",
      "source": [
        "!csvsql --query \"Select LastName, FirstName, Salary from Empl where Salary > 35000\" empl.csv | csvlook"
      ],
      "metadata": {
        "colab": {
          "base_uri": "https://localhost:8080/"
        },
        "id": "A2ZKG2O2WqU9",
        "outputId": "a83b8603-0f5e-440d-a9e9-f64cc8d2dede"
      },
      "execution_count": 8,
      "outputs": [
        {
          "output_type": "stream",
          "name": "stdout",
          "text": [
            "| LastName    | FirstName | Salary |\n",
            "| ----------- | --------- | ------ |\n",
            "| Bacchan     | Amitabh   | 50,000 |\n",
            "| Dravid      | Rahul     | 40,000 |\n",
            "| Ganesan     | Rekha     | 60,000 |\n",
            "| Karthikeyan | Narayan   | 40,000 |\n"
          ]
        }
      ]
    },
    {
      "cell_type": "code",
      "source": [
        "!csvsql --query \"Select LastName, Firstname, JobDesc from Empl where JobDesc <> 'Clerk'\" empl.csv | csvlook"
      ],
      "metadata": {
        "colab": {
          "base_uri": "https://localhost:8080/"
        },
        "id": "uGrzlLohW37Q",
        "outputId": "6396928d-b639-4b46-f45c-2668126a9cba"
      },
      "execution_count": 10,
      "outputs": [
        {
          "output_type": "stream",
          "name": "stdout",
          "text": [
            "| LastName    | FirstName | JobDesc    |\n",
            "| ----------- | --------- | ---------- |\n",
            "| Bacchan     | Amitabh   | Executive  |\n",
            "| Mukherjee   | Rani      | Manager    |\n",
            "| Khan        | Shahrukh  | Manager    |\n",
            "| Sehwag      | Virender  | Cus_Rep    |\n",
            "| Dravid      | Rahul     | Sr Manager |\n",
            "| Ganguly     | Sourav    | Cus_Rep    |\n",
            "| Ganesan     | Rekha     | Director   |\n",
            "| Karthikeyan | Narayan   | Secretary  |\n",
            "| Mirza       | Sania     | Cus_Rep    |\n"
          ]
        }
      ]
    },
    {
      "cell_type": "code",
      "source": [
        "!csvsql --query \"Select LastName, FirstName, JobDesc from Empl where LastName like 'D%'\" empl.csv | csvlook"
      ],
      "metadata": {
        "colab": {
          "base_uri": "https://localhost:8080/"
        },
        "id": "S6F-4WY2XQVy",
        "outputId": "5b68753e-73ec-4279-9100-4353c8c86966"
      },
      "execution_count": 11,
      "outputs": [
        {
          "output_type": "stream",
          "name": "stdout",
          "text": [
            "| LastName | FirstName | JobDesc    |\n",
            "| -------- | --------- | ---------- |\n",
            "| Dikshit  | Madhuri   | Clerk      |\n",
            "| Dhoni    | Mahender  | Clerk      |\n",
            "| Dravid   | Rahul     | Sr Manager |\n",
            "| Dalmia   | Jagmohan  | Clerk      |\n"
          ]
        }
      ]
    },
    {
      "cell_type": "code",
      "source": [
        "!csvsql --query \"Select LastName, FirstName, JobDesc from Empl where LastName like '____i_'\" empl.csv | csvlook"
      ],
      "metadata": {
        "colab": {
          "base_uri": "https://localhost:8080/"
        },
        "id": "y0kOUPjbXRxq",
        "outputId": "c249755e-aeef-40cc-a3c8-8f43ae34c62f"
      },
      "execution_count": 14,
      "outputs": [
        {
          "output_type": "stream",
          "name": "stdout",
          "text": [
            "| LastName | FirstName | JobDesc    |\n",
            "| -------- | --------- | ---------- |\n",
            "| Dravid   | Rahul     | Sr Manager |\n",
            "| Dalmia   | Jagmohan  | Clerk      |\n"
          ]
        }
      ]
    },
    {
      "cell_type": "code",
      "source": [
        "!csvsql --query \"Select LastName, FirstName, JobDesc from Empl where LastName like '____i%'\" empl.csv | csvlook"
      ],
      "metadata": {
        "colab": {
          "base_uri": "https://localhost:8080/"
        },
        "id": "UO02zWFmXSlm",
        "outputId": "48d8bd8d-1eb8-49f7-b2bc-a4cd324f3db9"
      },
      "execution_count": 15,
      "outputs": [
        {
          "output_type": "stream",
          "name": "stdout",
          "text": [
            "| LastName | FirstName | JobDesc    |\n",
            "| -------- | --------- | ---------- |\n",
            "| Dhoni    | Mahender  | Clerk      |\n",
            "| Dravid   | Rahul     | Sr Manager |\n",
            "| Dalmia   | Jagmohan  | Clerk      |\n"
          ]
        }
      ]
    },
    {
      "cell_type": "code",
      "source": [
        "!csvsql --query \"\\\n",
        "    Select LastName, FirstName, JobDesc, DeptID \\\n",
        "    from Empl \\\n",
        "    where DeptID in ('20','30','40') \\\n",
        "    order by DeptID \\\n",
        "\" empl.csv | csvlook"
      ],
      "metadata": {
        "colab": {
          "base_uri": "https://localhost:8080/"
        },
        "id": "n8mPPbEud7nZ",
        "outputId": "e3d93a12-be87-4851-ca57-dfc26f791858"
      },
      "execution_count": 31,
      "outputs": [
        {
          "output_type": "stream",
          "name": "stdout",
          "text": [
            "| LastName  | FirstName | JobDesc    | DeptID |\n",
            "| --------- | --------- | ---------- | ------ |\n",
            "| Dikshit   | Madhuri   | Clerk      |     20 |\n",
            "| Khan      | Shahrukh  | Manager    |     20 |\n",
            "| Sehwag    | Virender  | Cus_Rep    |     20 |\n",
            "| Dravid    | Rahul     | Sr Manager |     30 |\n",
            "| Dalmia    | Jagmohan  | Clerk      |     30 |\n",
            "| Mirza     | Sania     | Cus_Rep    |     30 |\n",
            "| Mukherjee | Rani      | Manager    |     40 |\n",
            "| Dhoni     | Mahender  | Clerk      |     40 |\n",
            "| Ganguly   | Sourav    | Cus_Rep    |     40 |\n"
          ]
        }
      ]
    },
    {
      "cell_type": "code",
      "source": [
        "!csvsql --query \"\\\n",
        "    Select LastName, FirstName, JobDesc, JoinDate from Empl ORDER BY JoinDate DESC \\\n",
        "\" empl.csv | csvlook"
      ],
      "metadata": {
        "colab": {
          "base_uri": "https://localhost:8080/"
        },
        "id": "Xd_QfrMEehc3",
        "outputId": "03e9e494-818d-4cf7-9e09-e08de0abd670"
      },
      "execution_count": 34,
      "outputs": [
        {
          "output_type": "stream",
          "name": "stdout",
          "text": [
            "| LastName    | FirstName | JobDesc    |   JoinDate |\n",
            "| ----------- | --------- | ---------- | ---------- |\n",
            "| Karthikeyan | Narayan   | Secretary  | 2005-12-04 |\n",
            "| Mukherjee   | Rani      | Manager    | 2005-05-04 |\n",
            "| Sehwag      | Virender  | Cus_Rep    | 2005-01-02 |\n",
            "| Dhoni       | Mahender  | Clerk      | 2004-10-09 |\n",
            "| Khan        | Shahrukh  | Manager    | 2004-01-03 |\n",
            "| Bacchan     | Amitabh   | Executive  | 2003-03-10 |\n",
            "| Ganesan     | Rekha     | Director   | 2002-10-10 |\n",
            "| Dikshit     | Madhuri   | Clerk      | 2002-04-04 |\n",
            "| Ganguly     | Sourav    | Cus_Rep    | 2002-01-01 |\n",
            "| Mirza       | Sania     | Cus_Rep    | 2001-11-19 |\n",
            "| Dalmia      | Jagmohan  | Clerk      | 2001-07-01 |\n",
            "| Dravid      | Rahul     | Sr Manager | 2000-06-04 |\n"
          ]
        }
      ]
    },
    {
      "cell_type": "code",
      "source": [
        "!csvsql --query \"Select DeptID, sum(salary) DeptSalary from Empl Group by DeptID\" empl.csv | csvlook\n"
      ],
      "metadata": {
        "colab": {
          "base_uri": "https://localhost:8080/"
        },
        "id": "0iLzlg-dYViB",
        "outputId": "db6f7065-9de7-4f12-e656-149151e3a405"
      },
      "execution_count": 19,
      "outputs": [
        {
          "output_type": "stream",
          "name": "stdout",
          "text": [
            "| DeptID | DeptSalary |\n",
            "| ------ | ---------- |\n",
            "|     10 |    150,000 |\n",
            "|     20 |     55,000 |\n",
            "|     30 |     77,000 |\n",
            "|     40 |     54,000 |\n"
          ]
        }
      ]
    },
    {
      "cell_type": "code",
      "source": [
        "!csvsql --query \"Select DeptID, sum(salary) DeptSalary from Empl Group By DeptID having Sum(salary) < 100000\" empl.csv | csvlook"
      ],
      "metadata": {
        "colab": {
          "base_uri": "https://localhost:8080/"
        },
        "id": "76OS0qu3Y5XL",
        "outputId": "3bc3c0bb-ddaa-4659-95d4-969b569048c8"
      },
      "execution_count": 20,
      "outputs": [
        {
          "output_type": "stream",
          "name": "stdout",
          "text": [
            "| DeptID | DeptSalary |\n",
            "| ------ | ---------- |\n",
            "|     20 |     55,000 |\n",
            "|     30 |     77,000 |\n",
            "|     40 |     54,000 |\n"
          ]
        }
      ]
    },
    {
      "cell_type": "code",
      "source": [
        "!csvjoin -c DeptID,DeptID empl.csv dept.csv | csvlook"
      ],
      "metadata": {
        "colab": {
          "base_uri": "https://localhost:8080/"
        },
        "id": "Fm5QgG37a0bc",
        "outputId": "953fa6be-0f03-4d30-a693-1f25cd398584"
      },
      "execution_count": 28,
      "outputs": [
        {
          "output_type": "stream",
          "name": "stdout",
          "text": [
            "|   EmpID | LastName    | FirstName | JobDesc    |   JoinDate | Salary | Comm | DeptID | DeptName   | ManagerID | Location |\n",
            "| ------- | ----------- | --------- | ---------- | ---------- | ------ | ---- | ------ | ---------- | --------- | -------- |\n",
            "| 742,866 | Bacchan     | Amitabh   | Executive  | 2003-03-10 | 50,000 | 0.10 |     10 | Corporate  |   299,034 | Calcutta |\n",
            "| 349,870 | Mukherjee   | Rani      | Manager    | 2005-05-04 | 25,000 | 0.06 |     40 | Production |   349,870 | Bombay   |\n",
            "| 865,477 | Dikshit     | Madhuri   | Clerk      | 2002-04-04 | 10,000 | 0.02 |     20 | Sales      |   239,456 | Calcutta |\n",
            "| 239,456 | Khan        | Shahrukh  | Manager    | 2004-01-03 | 30,000 | 0.07 |     20 | Sales      |   239,456 | Calcutta |\n",
            "| 897,889 | Sehwag      | Virender  | Cus_Rep    | 2005-01-02 | 15,000 | 0.05 |     20 | Sales      |   239,456 | Calcutta |\n",
            "| 123,980 | Dhoni       | Mahender  | Clerk      | 2004-10-09 |  9,000 | 0.02 |     40 | Production |   349,870 | Bombay   |\n",
            "| 822,134 | Dravid      | Rahul     | Sr Manager | 2000-06-04 | 40,000 | 0.08 |     30 | Accounts   |   822,134 | Calcutta |\n",
            "| 997,445 | Dalmia      | Jagmohan  | Clerk      | 2001-07-01 | 12,000 | 0.02 |     30 | Accounts   |   822,134 | Calcutta |\n",
            "| 989,007 | Ganguly     | Sourav    | Cus_Rep    | 2002-01-01 | 20,000 | 0.03 |     40 | Production |   349,870 | Bombay   |\n",
            "| 299,034 | Ganesan     | Rekha     | Director   | 2002-10-10 | 60,000 | 0.11 |     10 | Corporate  |   299,034 | Calcutta |\n",
            "| 546,223 | Karthikeyan | Narayan   | Secretary  | 2005-12-04 | 40,000 | 0.09 |     10 | Corporate  |   299,034 | Calcutta |\n",
            "| 223,112 | Mirza       | Sania     | Cus_Rep    | 2001-11-19 | 25,000 | 0.04 |     30 | Accounts   |   822,134 | Calcutta |\n"
          ]
        }
      ]
    },
    {
      "cell_type": "code",
      "source": [
        "!csvsql --query \"\\\n",
        "SELECT Chain_Name AS 'Food Chains', US_Systemwide_Sales_MUSD as 'Sales $M' \\\n",
        "FROM data \\\n",
        "WHERE US_Systemwide_Sales_MUSD >= 4000 \\\n",
        "ORDER BY US_Systemwide_Sales_MUSD DESC \"\\\n",
        "data.csv | csvlook"
      ],
      "metadata": {
        "colab": {
          "base_uri": "https://localhost:8080/"
        },
        "id": "9CB8f6Mm3pcz",
        "outputId": "1a9c8031-d61c-40e5-fb2a-adf85fb5460c"
      },
      "execution_count": null,
      "outputs": [
        {
          "output_type": "stream",
          "name": "stdout",
          "text": [
            "| Food Chains               | Sales  |\n",
            "| ------------------------- | ------ |\n",
            "| McDonald’s                | 45,960 |\n",
            "| Starbucks                 | 24,300 |\n",
            "| Chick-fil-A               | 16,700 |\n",
            "| Taco Bell                 | 12,600 |\n",
            "| Wendy's                   | 11,111 |\n",
            "| Dunkin'                   | 10,416 |\n",
            "| Burger King               | 10,033 |\n",
            "| Subway                    |  9,350 |\n",
            "| Domino's                  |  8,641 |\n",
            "| Chipotle                  |  7,547 |\n",
            "| Sonic Drive-In            |  5,835 |\n",
            "| Panera Bread              |  5,650 |\n",
            "| Pizza Hut                 |  5,500 |\n",
            "| KFC                       |  5,100 |\n",
            "| Popeyes Louisiana Kitchen |  4,775 |\n",
            "| Dairy Queen               |  4,494 |\n",
            "| Arby’s                    |  4,462 |\n",
            "| Panda Express             |  4,452 |\n",
            "| Little Caesars            |  4,185 |\n",
            "| Jack in the Box           |  4,077 |\n"
          ]
        }
      ]
    },
    {
      "cell_type": "code",
      "source": [
        "!csvsql --query \"\\\n",
        "SELECT Chain_Name AS 'Food Chains', US_Systemwide_Sales_MUSD as 'Sales $M' \\\n",
        "FROM data \\\n",
        "WHERE US_Systemwide_Sales_MUSD >= 4000 \\\n",
        "ORDER BY US_Systemwide_Sales_MUSD DESC \"\\\n",
        "data.csv > output.csv"
      ],
      "metadata": {
        "id": "wKSTf4Dn5Hlg"
      },
      "execution_count": null,
      "outputs": []
    },
    {
      "cell_type": "code",
      "source": [
        "!cat output.csv"
      ],
      "metadata": {
        "colab": {
          "base_uri": "https://localhost:8080/"
        },
        "id": "793cxiyh5N7E",
        "outputId": "f29c42d1-8480-486f-fa8b-e88cb185119a"
      },
      "execution_count": null,
      "outputs": [
        {
          "output_type": "stream",
          "name": "stdout",
          "text": [
            "Food Chains,Sales \n",
            "McDonald’s,45960.0\n",
            "Starbucks,24300.0\n",
            "Chick-fil-A,16700.0\n",
            "Taco Bell,12600.0\n",
            "Wendy's,11111.0\n",
            "Dunkin',10416.0\n",
            "Burger King,10033.0\n",
            "Subway,9350.0\n",
            "Domino's,8641.0\n",
            "Chipotle,7547.0\n",
            "Sonic Drive-In,5835.0\n",
            "Panera Bread,5650.0\n",
            "Pizza Hut,5500.0\n",
            "KFC,5100.0\n",
            "Popeyes Louisiana Kitchen,4775.0\n",
            "Dairy Queen,4494.0\n",
            "Arby’s,4462.0\n",
            "Panda Express,4452.0\n",
            "Little Caesars,4185.0\n",
            "Jack in the Box,4077.0\n"
          ]
        }
      ]
    },
    {
      "cell_type": "markdown",
      "metadata": {
        "id": "ziAOlrJdDMJ_"
      },
      "source": [
        "#Chronobooks <br>\n",
        "![alt text](https://1.bp.blogspot.com/-lTiYBkU2qbU/X1er__fvnkI/AAAAAAAAjtE/GhDR3OEGJr4NG43fZPodrQD5kbxtnKebgCLcBGAsYHQ/s600/Footer2020-600x200.png)<hr>\n",
        "Chronotantra and Chronoyantra are two science fiction novels that explore the collapse of human civilisation on Earth and then its rebirth and reincarnation both on Earth as well as on the distant worlds of Mars, Titan and Enceladus. But is it the human civilisation that is being reborn? Or is it some other sentience that is revealing itself. \n",
        "If you have an interest in AI and found this material useful, you may consider buying these novels, in paperback or kindle, from [http://bit.ly/chronobooks](http://bit.ly/chronobooks)"
      ]
    }
  ]
}