{
  "nbformat": 4,
  "nbformat_minor": 0,
  "metadata": {
    "colab": {
      "name": "SQLCourse2 - Setup with LOAD command",
      "provenance": [],
      "include_colab_link": true
    },
    "kernelspec": {
      "name": "python3",
      "display_name": "Python 3"
    }
  },
  "cells": [
    {
      "cell_type": "markdown",
      "metadata": {
        "id": "view-in-github",
        "colab_type": "text"
      },
      "source": [
        "<a href=\"https://colab.research.google.com/github/Praxis-QR/RDWH/blob/main/SQLCourse2_Setup_with_LOAD_command.ipynb\" target=\"_parent\"><img src=\"https://colab.research.google.com/assets/colab-badge.svg\" alt=\"Open In Colab\"/></a>"
      ]
    },
    {
      "cell_type": "markdown",
      "metadata": {
        "id": "bCIotTZFo-E4"
      },
      "source": [
        "![alt text](https://4.bp.blogspot.com/-gbL5nZDkpFQ/XScFYwoTEII/AAAAAAAAAGY/CcVb_HDLwvs2Brv5T4vSsUcz7O4r2Q79ACK4BGAYYCw/s1600/kk3-header00-beta.png)<br>\n",
        "\n",
        "\n",
        "<hr>\n",
        "\n",
        "[Prithwis Mukerjee](http://www.linkedin.com/in/prithwis)<br>"
      ]
    },
    {
      "cell_type": "markdown",
      "source": [
        "Tutorial based on [SQLCourse2](https://www.sqlcourse2.com/) <br>\n",
        "Data is in this [Google Sheet](https://docs.google.com/spreadsheets/d/1m_LE_ahVHY0PrXmtyVVjO5CyqvmOMOwGT6hPYBYHBqw/edit?usp=sharing) <br>\n",
        "The data needs to be downloaded as two CSV files from the Google Docs above"
      ],
      "metadata": {
        "id": "NezRnvzjCkLJ"
      }
    },
    {
      "cell_type": "markdown",
      "source": [
        "#Using Local Server"
      ],
      "metadata": {
        "id": "uGvAzElNngKd"
      }
    },
    {
      "cell_type": "markdown",
      "metadata": {
        "id": "MCb2Qk4Fpajc"
      },
      "source": [
        "## Install MySQL"
      ]
    },
    {
      "cell_type": "code",
      "metadata": {
        "id": "Lz9UOPeupctr",
        "colab": {
          "base_uri": "https://localhost:8080/"
        },
        "outputId": "37dc66fd-4c47-4c13-c5ae-ca914bee65ef"
      },
      "source": [
        "!apt update > /dev/null\n",
        "!apt install -y  mysql-server > /dev/null\n",
        "!/etc/init.d/mysql restart\n"
      ],
      "execution_count": 1,
      "outputs": [
        {
          "output_type": "stream",
          "name": "stdout",
          "text": [
            "\n",
            "WARNING: apt does not have a stable CLI interface. Use with caution in scripts.\n",
            "\n",
            "\n",
            "WARNING: apt does not have a stable CLI interface. Use with caution in scripts.\n",
            "\n",
            " * Stopping MySQL database server mysqld\n",
            "   ...done.\n",
            " * Starting MySQL database server mysqld\n",
            "No directory, logging in with HOME=/\n",
            "   ...done.\n"
          ]
        }
      ]
    },
    {
      "cell_type": "code",
      "source": [
        "!mysql -e 'create database praxisDB'\n",
        "!mysql -e 'show databases'"
      ],
      "metadata": {
        "id": "3h9ULPp4zta8",
        "outputId": "00ed26dd-bcb7-46d9-8373-1bcbb383c081",
        "colab": {
          "base_uri": "https://localhost:8080/"
        }
      },
      "execution_count": 4,
      "outputs": [
        {
          "output_type": "stream",
          "name": "stdout",
          "text": [
            "+--------------------+\n",
            "| Database           |\n",
            "+--------------------+\n",
            "| information_schema |\n",
            "| mysql              |\n",
            "| performance_schema |\n",
            "| praxisDB           |\n",
            "| praxisDB2          |\n",
            "| sys                |\n",
            "+--------------------+\n"
          ]
        }
      ]
    },
    {
      "cell_type": "markdown",
      "metadata": {
        "id": "ZGOv_BcWrHu0"
      },
      "source": [
        "## Create Tables"
      ]
    },
    {
      "cell_type": "code",
      "source": [
        "!mysql praxisDB -e 'drop table if exists itemsordered'\n",
        "# --------------------------------------------------------------\n",
        "!mysql praxisDB -e '\\\n",
        "CREATE TABLE IF NOT EXISTS itemsordered (\\\n",
        "customerid char(5),orderdate date, item varchar(30), quantity int(4), price decimal(5,2)) \\\n",
        "'"
      ],
      "metadata": {
        "id": "zGVnFRqdPZst"
      },
      "execution_count": 5,
      "outputs": []
    },
    {
      "cell_type": "code",
      "metadata": {
        "id": "cjlJW2el9VDw",
        "colab": {
          "base_uri": "https://localhost:8080/"
        },
        "outputId": "df5bba71-3d99-483a-ffec-554106e47758"
      },
      "source": [
        "!mysql praxisDB -e 'desc itemsordered'"
      ],
      "execution_count": 6,
      "outputs": [
        {
          "output_type": "stream",
          "name": "stdout",
          "text": [
            "+------------+--------------+------+-----+---------+-------+\n",
            "| Field      | Type         | Null | Key | Default | Extra |\n",
            "+------------+--------------+------+-----+---------+-------+\n",
            "| customerid | char(5)      | YES  |     | NULL    |       |\n",
            "| orderdate  | date         | YES  |     | NULL    |       |\n",
            "| item       | varchar(30)  | YES  |     | NULL    |       |\n",
            "| quantity   | int(4)       | YES  |     | NULL    |       |\n",
            "| price      | decimal(5,2) | YES  |     | NULL    |       |\n",
            "+------------+--------------+------+-----+---------+-------+\n"
          ]
        }
      ]
    },
    {
      "cell_type": "code",
      "source": [
        "!mysql praxisDB -e 'drop table if exists customers'\n",
        "# --------------------------------------------------------------\n",
        "!mysql praxisDB -e '\\\n",
        "CREATE TABLE IF NOT EXISTS customers (customerid char(5),firstname varchar(20),lastname varchar(20), city varchar(20), state varchar(20)) \\\n",
        "'"
      ],
      "metadata": {
        "id": "ocy8viMMojNm"
      },
      "execution_count": 7,
      "outputs": []
    },
    {
      "cell_type": "code",
      "source": [
        "!mysql praxisDB -e 'desc customers'"
      ],
      "metadata": {
        "colab": {
          "base_uri": "https://localhost:8080/"
        },
        "id": "2CpIoZxApNuB",
        "outputId": "eddaccc0-34dc-40fc-fa3c-8409ff9959ef"
      },
      "execution_count": 8,
      "outputs": [
        {
          "output_type": "stream",
          "name": "stdout",
          "text": [
            "+------------+-------------+------+-----+---------+-------+\n",
            "| Field      | Type        | Null | Key | Default | Extra |\n",
            "+------------+-------------+------+-----+---------+-------+\n",
            "| customerid | char(5)     | YES  |     | NULL    |       |\n",
            "| firstname  | varchar(20) | YES  |     | NULL    |       |\n",
            "| lastname   | varchar(20) | YES  |     | NULL    |       |\n",
            "| city       | varchar(20) | YES  |     | NULL    |       |\n",
            "| state      | varchar(20) | YES  |     | NULL    |       |\n",
            "+------------+-------------+------+-----+---------+-------+\n"
          ]
        }
      ]
    },
    {
      "cell_type": "markdown",
      "source": [
        "## Load Tables"
      ],
      "metadata": {
        "id": "KAc5RcY4n5Zr"
      }
    },
    {
      "cell_type": "code",
      "metadata": {
        "id": "joDEg9Tt6cHU",
        "outputId": "25e0cae1-7b93-4fef-dad6-76126e2db647",
        "colab": {
          "base_uri": "https://localhost:8080/"
        }
      },
      "source": [
        "# Download two CSV files from G-Drive into the Colab VM\n",
        "#!gdown https://drive.google.com/uc?id=1WxuruueFwMTjmPb-DvvVnGYB78Ty4OkP\n",
        "#!gdown https://drive.google.com/uc?id=1j49sqYHv0UoskVJDzNObWxECFF7ySsld\n",
        "\n",
        "!gdown 1Ug15GbEmeTnwJnuH-4fpPeZ1k20ryoGx\n",
        "!gdown 1qx6duSqzQUJSkpHNQIIZ9l0T6zYtjT-y"
      ],
      "execution_count": 10,
      "outputs": [
        {
          "output_type": "stream",
          "name": "stdout",
          "text": [
            "Downloading...\n",
            "From: https://drive.google.com/uc?id=1Ug15GbEmeTnwJnuH-4fpPeZ1k20ryoGx\n",
            "To: /content/OrdersSQL2.csv\n",
            "100% 1.16k/1.16k [00:00<00:00, 1.72MB/s]\n",
            "Downloading...\n",
            "From: https://drive.google.com/uc?id=1qx6duSqzQUJSkpHNQIIZ9l0T6zYtjT-y\n",
            "To: /content/CustomersSQL2.csv\n",
            "100% 695/695 [00:00<00:00, 2.05MB/s]\n"
          ]
        }
      ]
    },
    {
      "cell_type": "code",
      "source": [
        "# upload the two CSV files into the Colab VM\n",
        "!ls"
      ],
      "metadata": {
        "colab": {
          "base_uri": "https://localhost:8080/"
        },
        "id": "4oC4rYtFOWzx",
        "outputId": "501aeab6-42e1-44bc-b853-25293d0ce4e5"
      },
      "execution_count": 11,
      "outputs": [
        {
          "output_type": "stream",
          "name": "stdout",
          "text": [
            "CustomersSQL2.csv  OrdersSQL2.csv  sample_data\n"
          ]
        }
      ]
    },
    {
      "cell_type": "code",
      "source": [
        "#!head 'SQLCourse2 - ItemsOrdered.csv'\n",
        "!head 'OrdersSQL2.csv'"
      ],
      "metadata": {
        "id": "0PLgr3ZS2Sgw",
        "outputId": "dfcc28b9-174f-42c9-fbd4-0dcdbfc66c4d",
        "colab": {
          "base_uri": "https://localhost:8080/"
        }
      },
      "execution_count": 13,
      "outputs": [
        {
          "output_type": "stream",
          "name": "stdout",
          "text": [
            "customerid,order_date,item,quantity,price\r\n",
            "10330,30-Jun-1999,Pogo stick,1,28\r\n",
            "10101,30-Jun-1999,Raft,1,58\r\n",
            "10298,01-Jul-1999,Skateboard,1,33\r\n",
            "10101,01-Jul-1999,Life Vest,4,125\r\n",
            "10299,06-Jul-1999,Parachute,1,1250\r\n",
            "10339,27-Jul-1999,Umbrella,1,4.5\r\n",
            "10449,13-Aug-1999,Unicycle,1,180.79\r\n",
            "10439,14-Aug-1999,Ski Poles,2,25.5\r\n",
            "10101,18-Aug-1999,Rain Coat,1,18.3\r\n"
          ]
        }
      ]
    },
    {
      "cell_type": "code",
      "source": [
        "# Note first line, with header columns ignored\n",
        "# Note date is converted from string to proper date format\n",
        "#\n",
        "!mysql praxisDB -e \"   \\\n",
        "LOAD DATA LOCAL INFILE 'OrdersSQL2.csv' \\\n",
        "ignore \\\n",
        "INTO  TABLE itemsordered  \\\n",
        "FIELDS TERMINATED BY ',' enclosed by '\\\"' LINES TERMINATED BY '\\r\\n' IGNORE 1 LINES  \\\n",
        "(customerid,@orderdate, item, quantity, price) \\\n",
        "set orderdate = STR_TO_DATE(@orderdate,'%d-%b-%Y');\\\n",
        "\""
      ],
      "metadata": {
        "id": "egGX7wzkPsBB"
      },
      "execution_count": 14,
      "outputs": []
    },
    {
      "cell_type": "code",
      "metadata": {
        "id": "ppvWDJsi-jRa"
      },
      "source": [
        "#!mysql praxisDB -e 'select * from itemsordered;'"
      ],
      "execution_count": 16,
      "outputs": []
    },
    {
      "cell_type": "code",
      "source": [
        "# Note first line, with header columns ignored\n",
        "#\n",
        "!mysql praxisDB -e \"   \\\n",
        "LOAD DATA LOCAL INFILE 'CustomersSQL2.csv' INTO TABLE customers \\\n",
        "FIELDS TERMINATED BY ',' enclosed by '\\\"' LINES TERMINATED BY '\\r\\n'  IGNORE 1 LINES;  \\\n",
        "\""
      ],
      "metadata": {
        "id": "LE-iniTPpVuX"
      },
      "execution_count": 17,
      "outputs": []
    },
    {
      "cell_type": "code",
      "source": [
        "#!mysql praxisDB -e 'select * from customers;'"
      ],
      "metadata": {
        "id": "uXw3zTbqpyIJ"
      },
      "execution_count": 19,
      "outputs": []
    },
    {
      "cell_type": "markdown",
      "source": [
        "#Using Remote Server"
      ],
      "metadata": {
        "id": "K4I8Db7_sjSf"
      }
    },
    {
      "cell_type": "markdown",
      "source": [
        "## Set Public Credentials"
      ],
      "metadata": {
        "id": "QLLUcW5js8lc"
      }
    },
    {
      "cell_type": "code",
      "source": [
        "# enter credentials here\n",
        "#hostName = 'remotemysql.com'   # place your own credentials here\n",
        "#userName = 'yourUserName'      # place your own credentials here\n",
        "#passWord = 'yourPassWord'      # place your own credentials here\n",
        "#dbName =  'yourDBname'         # place your own credentials here\n",
        "\n",
        "#print(hostName,userName,dbName)"
      ],
      "metadata": {
        "id": "sz5ZbznNs_0J"
      },
      "execution_count": null,
      "outputs": []
    },
    {
      "cell_type": "markdown",
      "source": [
        "## Set Private Credentials"
      ],
      "metadata": {
        "id": "2n05YF-8tBNW"
      }
    },
    {
      "cell_type": "code",
      "source": [
        "#connect to G-Drive\n",
        "from google.colab import drive\n",
        "drive.mount('/content/drive')\n",
        "# copy credentials file\n",
        "#!ls /content/drive/'My Drive'/Praxis/WebCredentials\n",
        "#!cp /content/drive/'My Drive'/Praxis/WebCredentials/sqlCredentials_020221.py .\n",
        "!cp /content/drive/'My Drive'/Praxis/WebCredentials/cleverCloud.py credentials.py\n",
        "from credentials import hostName,userName,passWord,dbName\n",
        "\n",
        "#for the sake of privacy\n",
        "#the following credentials need to be stored in a text file called sqlCredentials.py\n",
        "#in the format given below\n",
        "#in the Colab VM\n",
        "\n",
        "\n",
        "print(hostName,userName,dbName)"
      ],
      "metadata": {
        "colab": {
          "base_uri": "https://localhost:8080/"
        },
        "id": "7teZGFeztEwd",
        "outputId": "f1df268a-a1dd-431a-e494-0ba689274438"
      },
      "execution_count": null,
      "outputs": [
        {
          "output_type": "stream",
          "name": "stdout",
          "text": [
            "Mounted at /content/drive\n",
            "bq3ojarbqgmkc7prtopv-mysql.services.clever-cloud.com uxnhrnbgcu47thlz LEEP91xTUEKq36h2DyzT bq3ojarbqgmkc7prtopv\n"
          ]
        }
      ]
    },
    {
      "cell_type": "code",
      "source": [
        "#NOTE SECURITY WARNING\n",
        "#Passing passwords in the command line is inherently risky and SHOULD NOT BE USED for any non-trivial work\n",
        "#---------------------------------------------------------------------\n",
        "!mysql -h '$hostName' -P 3306 -u '$userName' -p'$passWord' '$dbName' -e 'show tables'"
      ],
      "metadata": {
        "colab": {
          "base_uri": "https://localhost:8080/"
        },
        "id": "i2vFdWuKth1y",
        "outputId": "b99afa86-b791-49fd-b785-2c8b10570068"
      },
      "execution_count": null,
      "outputs": [
        {
          "output_type": "stream",
          "name": "stdout",
          "text": [
            "mysql: [Warning] Using a password on the command line interface can be insecure.\n",
            "+--------------------------------+\n",
            "| Tables_in_bq3ojarbqgmkc7prtopv |\n",
            "+--------------------------------+\n",
            "| Dept                           |\n",
            "| Emp                            |\n",
            "| customers                      |\n",
            "| itemsordered                   |\n",
            "+--------------------------------+\n"
          ]
        }
      ]
    },
    {
      "cell_type": "markdown",
      "source": [
        "## Create Tables"
      ],
      "metadata": {
        "id": "2GdxumuMun88"
      }
    },
    {
      "cell_type": "code",
      "source": [
        "#NOTE SECURITY WARNING\n",
        "#Passing passwords in the command line is inherently risky and SHOULD NOT BE USED for any non-trivial work\n",
        "#---------------------------------------------------------------------\n",
        "!mysql -h '$hostName' -P 3306 -u '$userName' -p'$passWord' '$dbName' -e 'drop table if exists customers'\n",
        "# --------------------------------------------------------------\n",
        "!mysql -h '$hostName' -P 3306 -u '$userName' -p'$passWord' '$dbName' -e '\\\n",
        "CREATE TABLE IF NOT EXISTS customers (\\\n",
        "customerid char(5),firstname varchar(20),lastname varchar(20), city varchar(20), state varchar(20)) \\\n",
        "'"
      ],
      "metadata": {
        "colab": {
          "base_uri": "https://localhost:8080/"
        },
        "id": "N16gLXtcuuy2",
        "outputId": "7b1711aa-e309-413e-ac81-64c4307dee9f"
      },
      "execution_count": null,
      "outputs": [
        {
          "output_type": "stream",
          "name": "stdout",
          "text": [
            "mysql: [Warning] Using a password on the command line interface can be insecure.\n",
            "mysql: [Warning] Using a password on the command line interface can be insecure.\n"
          ]
        }
      ]
    },
    {
      "cell_type": "code",
      "source": [
        "#NOTE SECURITY WARNING\n",
        "#Passing passwords in the command line is inherently risky and SHOULD NOT BE USED for any non-trivial work\n",
        "#---------------------------------------------------------------------\n",
        "!mysql -h '$hostName' -P 3306 -u '$userName' -p'$passWord' '$dbName' -e 'drop table if exists itemsordered'\n",
        "# --------------------------------------------------------------\n",
        "!mysql -h '$hostName' -P 3306 -u '$userName' -p'$passWord' '$dbName' -e '\\\n",
        "CREATE TABLE IF NOT EXISTS itemsordered (\\\n",
        "customerid char(5),orderdate date, item varchar(30), quantity int(4), price decimal(7,2)) \\\n",
        "'"
      ],
      "metadata": {
        "colab": {
          "base_uri": "https://localhost:8080/"
        },
        "id": "pnydZIvhuq5C",
        "outputId": "fa847187-9eb5-4440-b6a3-12ae2622bc68"
      },
      "execution_count": null,
      "outputs": [
        {
          "output_type": "stream",
          "name": "stdout",
          "text": [
            "mysql: [Warning] Using a password on the command line interface can be insecure.\n",
            "mysql: [Warning] Using a password on the command line interface can be insecure.\n"
          ]
        }
      ]
    },
    {
      "cell_type": "code",
      "source": [
        "#NOTE SECURITY WARNING\n",
        "#Passing passwords in the command line is inherently risky and SHOULD NOT BE USED for any non-trivial work\n",
        "#---------------------------------------------------------------------\n",
        "!mysql -h '$hostName' -P 3306 -u '$userName' -p'$passWord' '$dbName' -e 'show tables'"
      ],
      "metadata": {
        "colab": {
          "base_uri": "https://localhost:8080/"
        },
        "id": "7tZaf9NWv9Mu",
        "outputId": "1178a63e-6a05-4951-fa82-26cf375df1a4"
      },
      "execution_count": null,
      "outputs": [
        {
          "output_type": "stream",
          "name": "stdout",
          "text": [
            "mysql: [Warning] Using a password on the command line interface can be insecure.\n",
            "+--------------------------------+\n",
            "| Tables_in_bq3ojarbqgmkc7prtopv |\n",
            "+--------------------------------+\n",
            "| Dept                           |\n",
            "| Emp                            |\n",
            "| customers                      |\n",
            "| itemsordered                   |\n",
            "+--------------------------------+\n"
          ]
        }
      ]
    },
    {
      "cell_type": "markdown",
      "source": [
        "## Load Tables with Load Command <br>\n",
        "In general this will NOT work because of authorisation issues"
      ],
      "metadata": {
        "id": "9PiliVxOwf0X"
      }
    },
    {
      "cell_type": "code",
      "source": [
        "# Download two CSV files from G-Drive into the Colab VM\n",
        "!gdown https://drive.google.com/uc?id=1WxuruueFwMTjmPb-DvvVnGYB78Ty4OkP\n",
        "!gdown https://drive.google.com/uc?id=1j49sqYHv0UoskVJDzNObWxECFF7ySsld"
      ],
      "metadata": {
        "id": "Io1j--oDlwKT",
        "outputId": "df1e1418-90f4-4e5e-e1fb-b2bc8f97e131",
        "colab": {
          "base_uri": "https://localhost:8080/"
        }
      },
      "execution_count": null,
      "outputs": [
        {
          "output_type": "stream",
          "name": "stdout",
          "text": [
            "Downloading...\n",
            "From: https://drive.google.com/uc?id=1WxuruueFwMTjmPb-DvvVnGYB78Ty4OkP\n",
            "To: /content/SQLCourse2 - ItemsOrdered.csv\n",
            "100% 1.16k/1.16k [00:00<00:00, 1.60MB/s]\n",
            "Downloading...\n",
            "From: https://drive.google.com/uc?id=1j49sqYHv0UoskVJDzNObWxECFF7ySsld\n",
            "To: /content/SQLCourse2 - Customers.csv\n",
            "100% 695/695 [00:00<00:00, 874kB/s]\n"
          ]
        }
      ]
    },
    {
      "cell_type": "code",
      "source": [
        "!ls"
      ],
      "metadata": {
        "id": "1a8k9reE8ERf",
        "outputId": "05be8a28-9c5a-4de0-c4e8-590a01617fc8",
        "colab": {
          "base_uri": "https://localhost:8080/"
        }
      },
      "execution_count": null,
      "outputs": [
        {
          "output_type": "stream",
          "name": "stdout",
          "text": [
            " credentials.py   __pycache__  'SQLCourse2 - Customers.csv'\n",
            " drive\t\t  sample_data  'SQLCourse2 - ItemsOrdered.csv'\n"
          ]
        }
      ]
    },
    {
      "cell_type": "code",
      "source": [
        "#NOTE SECURITY WARNING\n",
        "#Passing passwords in the command line is inherently risky and SHOULD NOT BE USED for any non-trivial work\n",
        "#---------------------------------------------------------------------\n",
        "!mysql  -h '$hostName' -P 3306 -u '$userName' -p'$passWord' '$dbName' -e \"   \\\n",
        "LOAD DATA LOCAL INFILE 'SQLCourse2 - ItemsOrdered.csv' \\\n",
        "ignore \\\n",
        "INTO  TABLE itemsordered  \\\n",
        "FIELDS TERMINATED BY ',' enclosed by '\\\"' LINES TERMINATED BY '\\r\\n' IGNORE 1 LINES  \\\n",
        "(customerid,@orderdate, item, quantity, price) \\\n",
        "set orderdate = STR_TO_DATE(@orderdate,'%d-%b-%Y');\\\n",
        "\""
      ],
      "metadata": {
        "colab": {
          "base_uri": "https://localhost:8080/"
        },
        "id": "mc1dzgWAwsPZ",
        "outputId": "c574178c-5ab0-4821-e1aa-f555b905b4d0"
      },
      "execution_count": null,
      "outputs": [
        {
          "output_type": "stream",
          "name": "stdout",
          "text": [
            "mysql: [Warning] Using a password on the command line interface can be insecure.\n",
            "ERROR 3948 (42000) at line 1: Loading local data is disabled; this must be enabled on both the client and server sides\n"
          ]
        }
      ]
    },
    {
      "cell_type": "markdown",
      "source": [
        "## Load Table with PhP MyAdmin "
      ],
      "metadata": {
        "id": "lnQqwciG1huR"
      }
    },
    {
      "cell_type": "markdown",
      "source": [
        "CSV file can be uploaded  using the import command of the PhP MyAdmin function <br>\n",
        "However for this, the files have to 'cleaned up'"
      ],
      "metadata": {
        "id": "MxbmWF8e1DC-"
      }
    },
    {
      "cell_type": "code",
      "source": [
        "!mysql -h '$hostName' -P 3306 -u '$userName' -p'$passWord' '$dbName' -e 'select * from customers;'"
      ],
      "metadata": {
        "colab": {
          "base_uri": "https://localhost:8080/"
        },
        "id": "jYeLMNsf1T-u",
        "outputId": "8a863913-d8a7-45ff-c512-675dbe8a9e82"
      },
      "execution_count": null,
      "outputs": [
        {
          "output_type": "stream",
          "name": "stdout",
          "text": [
            "mysql: [Warning] Using a password on the command line interface can be insecure.\n",
            "+------------+-----------+----------+--------------+----------------+\n",
            "| customerid | firstname | lastname | city         | state          |\n",
            "+------------+-----------+----------+--------------+----------------+\n",
            "| 10101      | John      | Gray     | Lynden       | Washington     |\n",
            "| 10298      | Leroy     | Brown    | Pinetop      | Arizona        |\n",
            "| 10299      | Elroy     | Keller   | Snoqualmie   | Washington     |\n",
            "| 10315      | Lisa      | Jones    | Oshkosh      | Wisconsin      |\n",
            "| 10325      | Ginger    | Schultz  | Pocatello    | Idaho          |\n",
            "| 10329      | Kelly     | Mendoza  | Kailua       | Hawaii         |\n",
            "| 10330      | Shawn     | Dalton   | Cannon Beach | Oregon         |\n",
            "| 10338      | Michael   | Howell   | Tillamook    | Oregon         |\n",
            "| 10339      | Anthony   | Sanchez  | Winslow      | Arizona        |\n",
            "| 10408      | Elroy     | Cleaver  | Globe        | Arizona        |\n",
            "| 10410      | Mary Ann  | Howell   | Charleston   | South Carolina |\n",
            "| 10413      | Donald    | Davids   | Gila Bend    | Arizona        |\n",
            "| 10419      | Linda     | Sakahara | Nogales      | Arizona        |\n",
            "| 10429      | Sarah     | Graham   | Greensboro   | North Carolina |\n",
            "| 10438      | Kevin     | Smith    | Durango      | Colorado       |\n",
            "| 10439      | Conrad    | Giles    | Telluride    | Colorado       |\n",
            "| 10449      | Isabela   | Moore    | Yuma         | Arizona        |\n",
            "+------------+-----------+----------+--------------+----------------+\n"
          ]
        }
      ]
    },
    {
      "cell_type": "code",
      "source": [
        "import pandas as pd\n",
        "from datetime import datetime"
      ],
      "metadata": {
        "id": "V8IeXisH4ACz"
      },
      "execution_count": null,
      "outputs": []
    },
    {
      "cell_type": "code",
      "source": [
        "dfItems = pd.read_csv('SQLCourse2 - ItemsOrdered.csv')\n",
        "dfItems.head()"
      ],
      "metadata": {
        "colab": {
          "base_uri": "https://localhost:8080/",
          "height": 206
        },
        "id": "VDikfAWq3-Cu",
        "outputId": "1e286ecc-1924-44f5-bc2f-7c20061192b5"
      },
      "execution_count": null,
      "outputs": [
        {
          "output_type": "execute_result",
          "data": {
            "text/html": [
              "\n",
              "  <div id=\"df-47a70c75-f4c1-4024-9ace-1fec97b0053f\">\n",
              "    <div class=\"colab-df-container\">\n",
              "      <div>\n",
              "<style scoped>\n",
              "    .dataframe tbody tr th:only-of-type {\n",
              "        vertical-align: middle;\n",
              "    }\n",
              "\n",
              "    .dataframe tbody tr th {\n",
              "        vertical-align: top;\n",
              "    }\n",
              "\n",
              "    .dataframe thead th {\n",
              "        text-align: right;\n",
              "    }\n",
              "</style>\n",
              "<table border=\"1\" class=\"dataframe\">\n",
              "  <thead>\n",
              "    <tr style=\"text-align: right;\">\n",
              "      <th></th>\n",
              "      <th>customerid</th>\n",
              "      <th>order_date</th>\n",
              "      <th>item</th>\n",
              "      <th>quantity</th>\n",
              "      <th>price</th>\n",
              "    </tr>\n",
              "  </thead>\n",
              "  <tbody>\n",
              "    <tr>\n",
              "      <th>0</th>\n",
              "      <td>10330</td>\n",
              "      <td>30-Jun-1999</td>\n",
              "      <td>Pogo stick</td>\n",
              "      <td>1</td>\n",
              "      <td>28.0</td>\n",
              "    </tr>\n",
              "    <tr>\n",
              "      <th>1</th>\n",
              "      <td>10101</td>\n",
              "      <td>30-Jun-1999</td>\n",
              "      <td>Raft</td>\n",
              "      <td>1</td>\n",
              "      <td>58.0</td>\n",
              "    </tr>\n",
              "    <tr>\n",
              "      <th>2</th>\n",
              "      <td>10298</td>\n",
              "      <td>01-Jul-1999</td>\n",
              "      <td>Skateboard</td>\n",
              "      <td>1</td>\n",
              "      <td>33.0</td>\n",
              "    </tr>\n",
              "    <tr>\n",
              "      <th>3</th>\n",
              "      <td>10101</td>\n",
              "      <td>01-Jul-1999</td>\n",
              "      <td>Life Vest</td>\n",
              "      <td>4</td>\n",
              "      <td>125.0</td>\n",
              "    </tr>\n",
              "    <tr>\n",
              "      <th>4</th>\n",
              "      <td>10299</td>\n",
              "      <td>06-Jul-1999</td>\n",
              "      <td>Parachute</td>\n",
              "      <td>1</td>\n",
              "      <td>1250.0</td>\n",
              "    </tr>\n",
              "  </tbody>\n",
              "</table>\n",
              "</div>\n",
              "      <button class=\"colab-df-convert\" onclick=\"convertToInteractive('df-47a70c75-f4c1-4024-9ace-1fec97b0053f')\"\n",
              "              title=\"Convert this dataframe to an interactive table.\"\n",
              "              style=\"display:none;\">\n",
              "        \n",
              "  <svg xmlns=\"http://www.w3.org/2000/svg\" height=\"24px\"viewBox=\"0 0 24 24\"\n",
              "       width=\"24px\">\n",
              "    <path d=\"M0 0h24v24H0V0z\" fill=\"none\"/>\n",
              "    <path d=\"M18.56 5.44l.94 2.06.94-2.06 2.06-.94-2.06-.94-.94-2.06-.94 2.06-2.06.94zm-11 1L8.5 8.5l.94-2.06 2.06-.94-2.06-.94L8.5 2.5l-.94 2.06-2.06.94zm10 10l.94 2.06.94-2.06 2.06-.94-2.06-.94-.94-2.06-.94 2.06-2.06.94z\"/><path d=\"M17.41 7.96l-1.37-1.37c-.4-.4-.92-.59-1.43-.59-.52 0-1.04.2-1.43.59L10.3 9.45l-7.72 7.72c-.78.78-.78 2.05 0 2.83L4 21.41c.39.39.9.59 1.41.59.51 0 1.02-.2 1.41-.59l7.78-7.78 2.81-2.81c.8-.78.8-2.07 0-2.86zM5.41 20L4 18.59l7.72-7.72 1.47 1.35L5.41 20z\"/>\n",
              "  </svg>\n",
              "      </button>\n",
              "      \n",
              "  <style>\n",
              "    .colab-df-container {\n",
              "      display:flex;\n",
              "      flex-wrap:wrap;\n",
              "      gap: 12px;\n",
              "    }\n",
              "\n",
              "    .colab-df-convert {\n",
              "      background-color: #E8F0FE;\n",
              "      border: none;\n",
              "      border-radius: 50%;\n",
              "      cursor: pointer;\n",
              "      display: none;\n",
              "      fill: #1967D2;\n",
              "      height: 32px;\n",
              "      padding: 0 0 0 0;\n",
              "      width: 32px;\n",
              "    }\n",
              "\n",
              "    .colab-df-convert:hover {\n",
              "      background-color: #E2EBFA;\n",
              "      box-shadow: 0px 1px 2px rgba(60, 64, 67, 0.3), 0px 1px 3px 1px rgba(60, 64, 67, 0.15);\n",
              "      fill: #174EA6;\n",
              "    }\n",
              "\n",
              "    [theme=dark] .colab-df-convert {\n",
              "      background-color: #3B4455;\n",
              "      fill: #D2E3FC;\n",
              "    }\n",
              "\n",
              "    [theme=dark] .colab-df-convert:hover {\n",
              "      background-color: #434B5C;\n",
              "      box-shadow: 0px 1px 3px 1px rgba(0, 0, 0, 0.15);\n",
              "      filter: drop-shadow(0px 1px 2px rgba(0, 0, 0, 0.3));\n",
              "      fill: #FFFFFF;\n",
              "    }\n",
              "  </style>\n",
              "\n",
              "      <script>\n",
              "        const buttonEl =\n",
              "          document.querySelector('#df-47a70c75-f4c1-4024-9ace-1fec97b0053f button.colab-df-convert');\n",
              "        buttonEl.style.display =\n",
              "          google.colab.kernel.accessAllowed ? 'block' : 'none';\n",
              "\n",
              "        async function convertToInteractive(key) {\n",
              "          const element = document.querySelector('#df-47a70c75-f4c1-4024-9ace-1fec97b0053f');\n",
              "          const dataTable =\n",
              "            await google.colab.kernel.invokeFunction('convertToInteractive',\n",
              "                                                     [key], {});\n",
              "          if (!dataTable) return;\n",
              "\n",
              "          const docLinkHtml = 'Like what you see? Visit the ' +\n",
              "            '<a target=\"_blank\" href=https://colab.research.google.com/notebooks/data_table.ipynb>data table notebook</a>'\n",
              "            + ' to learn more about interactive tables.';\n",
              "          element.innerHTML = '';\n",
              "          dataTable['output_type'] = 'display_data';\n",
              "          await google.colab.output.renderOutput(dataTable, element);\n",
              "          const docLink = document.createElement('div');\n",
              "          docLink.innerHTML = docLinkHtml;\n",
              "          element.appendChild(docLink);\n",
              "        }\n",
              "      </script>\n",
              "    </div>\n",
              "  </div>\n",
              "  "
            ],
            "text/plain": [
              "   customerid   order_date        item  quantity   price\n",
              "0       10330  30-Jun-1999  Pogo stick         1    28.0\n",
              "1       10101  30-Jun-1999        Raft         1    58.0\n",
              "2       10298  01-Jul-1999  Skateboard         1    33.0\n",
              "3       10101  01-Jul-1999   Life Vest         4   125.0\n",
              "4       10299  06-Jul-1999   Parachute         1  1250.0"
            ]
          },
          "metadata": {},
          "execution_count": 12
        }
      ]
    },
    {
      "cell_type": "code",
      "source": [
        "# The order_date is changed to the proper MySQL format\n",
        "dfItems['order_date'] = dfItems['order_date'].apply(lambda s: datetime.strptime(s,'%d-%b-%Y').strftime(\"%Y-%m-%d\"))\n",
        "dfItems.head()\n",
        "\n"
      ],
      "metadata": {
        "id": "6WsAxpwB4l0S",
        "colab": {
          "base_uri": "https://localhost:8080/",
          "height": 206
        },
        "outputId": "ea34b821-d957-4d7f-9f6f-0999d278f253"
      },
      "execution_count": null,
      "outputs": [
        {
          "output_type": "execute_result",
          "data": {
            "text/html": [
              "\n",
              "  <div id=\"df-b6e55266-64f7-42ad-991d-1cc156a27621\">\n",
              "    <div class=\"colab-df-container\">\n",
              "      <div>\n",
              "<style scoped>\n",
              "    .dataframe tbody tr th:only-of-type {\n",
              "        vertical-align: middle;\n",
              "    }\n",
              "\n",
              "    .dataframe tbody tr th {\n",
              "        vertical-align: top;\n",
              "    }\n",
              "\n",
              "    .dataframe thead th {\n",
              "        text-align: right;\n",
              "    }\n",
              "</style>\n",
              "<table border=\"1\" class=\"dataframe\">\n",
              "  <thead>\n",
              "    <tr style=\"text-align: right;\">\n",
              "      <th></th>\n",
              "      <th>customerid</th>\n",
              "      <th>order_date</th>\n",
              "      <th>item</th>\n",
              "      <th>quantity</th>\n",
              "      <th>price</th>\n",
              "    </tr>\n",
              "  </thead>\n",
              "  <tbody>\n",
              "    <tr>\n",
              "      <th>0</th>\n",
              "      <td>10330</td>\n",
              "      <td>1999-06-30</td>\n",
              "      <td>Pogo stick</td>\n",
              "      <td>1</td>\n",
              "      <td>28.0</td>\n",
              "    </tr>\n",
              "    <tr>\n",
              "      <th>1</th>\n",
              "      <td>10101</td>\n",
              "      <td>1999-06-30</td>\n",
              "      <td>Raft</td>\n",
              "      <td>1</td>\n",
              "      <td>58.0</td>\n",
              "    </tr>\n",
              "    <tr>\n",
              "      <th>2</th>\n",
              "      <td>10298</td>\n",
              "      <td>1999-07-01</td>\n",
              "      <td>Skateboard</td>\n",
              "      <td>1</td>\n",
              "      <td>33.0</td>\n",
              "    </tr>\n",
              "    <tr>\n",
              "      <th>3</th>\n",
              "      <td>10101</td>\n",
              "      <td>1999-07-01</td>\n",
              "      <td>Life Vest</td>\n",
              "      <td>4</td>\n",
              "      <td>125.0</td>\n",
              "    </tr>\n",
              "    <tr>\n",
              "      <th>4</th>\n",
              "      <td>10299</td>\n",
              "      <td>1999-07-06</td>\n",
              "      <td>Parachute</td>\n",
              "      <td>1</td>\n",
              "      <td>1250.0</td>\n",
              "    </tr>\n",
              "  </tbody>\n",
              "</table>\n",
              "</div>\n",
              "      <button class=\"colab-df-convert\" onclick=\"convertToInteractive('df-b6e55266-64f7-42ad-991d-1cc156a27621')\"\n",
              "              title=\"Convert this dataframe to an interactive table.\"\n",
              "              style=\"display:none;\">\n",
              "        \n",
              "  <svg xmlns=\"http://www.w3.org/2000/svg\" height=\"24px\"viewBox=\"0 0 24 24\"\n",
              "       width=\"24px\">\n",
              "    <path d=\"M0 0h24v24H0V0z\" fill=\"none\"/>\n",
              "    <path d=\"M18.56 5.44l.94 2.06.94-2.06 2.06-.94-2.06-.94-.94-2.06-.94 2.06-2.06.94zm-11 1L8.5 8.5l.94-2.06 2.06-.94-2.06-.94L8.5 2.5l-.94 2.06-2.06.94zm10 10l.94 2.06.94-2.06 2.06-.94-2.06-.94-.94-2.06-.94 2.06-2.06.94z\"/><path d=\"M17.41 7.96l-1.37-1.37c-.4-.4-.92-.59-1.43-.59-.52 0-1.04.2-1.43.59L10.3 9.45l-7.72 7.72c-.78.78-.78 2.05 0 2.83L4 21.41c.39.39.9.59 1.41.59.51 0 1.02-.2 1.41-.59l7.78-7.78 2.81-2.81c.8-.78.8-2.07 0-2.86zM5.41 20L4 18.59l7.72-7.72 1.47 1.35L5.41 20z\"/>\n",
              "  </svg>\n",
              "      </button>\n",
              "      \n",
              "  <style>\n",
              "    .colab-df-container {\n",
              "      display:flex;\n",
              "      flex-wrap:wrap;\n",
              "      gap: 12px;\n",
              "    }\n",
              "\n",
              "    .colab-df-convert {\n",
              "      background-color: #E8F0FE;\n",
              "      border: none;\n",
              "      border-radius: 50%;\n",
              "      cursor: pointer;\n",
              "      display: none;\n",
              "      fill: #1967D2;\n",
              "      height: 32px;\n",
              "      padding: 0 0 0 0;\n",
              "      width: 32px;\n",
              "    }\n",
              "\n",
              "    .colab-df-convert:hover {\n",
              "      background-color: #E2EBFA;\n",
              "      box-shadow: 0px 1px 2px rgba(60, 64, 67, 0.3), 0px 1px 3px 1px rgba(60, 64, 67, 0.15);\n",
              "      fill: #174EA6;\n",
              "    }\n",
              "\n",
              "    [theme=dark] .colab-df-convert {\n",
              "      background-color: #3B4455;\n",
              "      fill: #D2E3FC;\n",
              "    }\n",
              "\n",
              "    [theme=dark] .colab-df-convert:hover {\n",
              "      background-color: #434B5C;\n",
              "      box-shadow: 0px 1px 3px 1px rgba(0, 0, 0, 0.15);\n",
              "      filter: drop-shadow(0px 1px 2px rgba(0, 0, 0, 0.3));\n",
              "      fill: #FFFFFF;\n",
              "    }\n",
              "  </style>\n",
              "\n",
              "      <script>\n",
              "        const buttonEl =\n",
              "          document.querySelector('#df-b6e55266-64f7-42ad-991d-1cc156a27621 button.colab-df-convert');\n",
              "        buttonEl.style.display =\n",
              "          google.colab.kernel.accessAllowed ? 'block' : 'none';\n",
              "\n",
              "        async function convertToInteractive(key) {\n",
              "          const element = document.querySelector('#df-b6e55266-64f7-42ad-991d-1cc156a27621');\n",
              "          const dataTable =\n",
              "            await google.colab.kernel.invokeFunction('convertToInteractive',\n",
              "                                                     [key], {});\n",
              "          if (!dataTable) return;\n",
              "\n",
              "          const docLinkHtml = 'Like what you see? Visit the ' +\n",
              "            '<a target=\"_blank\" href=https://colab.research.google.com/notebooks/data_table.ipynb>data table notebook</a>'\n",
              "            + ' to learn more about interactive tables.';\n",
              "          element.innerHTML = '';\n",
              "          dataTable['output_type'] = 'display_data';\n",
              "          await google.colab.output.renderOutput(dataTable, element);\n",
              "          const docLink = document.createElement('div');\n",
              "          docLink.innerHTML = docLinkHtml;\n",
              "          element.appendChild(docLink);\n",
              "        }\n",
              "      </script>\n",
              "    </div>\n",
              "  </div>\n",
              "  "
            ],
            "text/plain": [
              "   customerid  order_date        item  quantity   price\n",
              "0       10330  1999-06-30  Pogo stick         1    28.0\n",
              "1       10101  1999-06-30        Raft         1    58.0\n",
              "2       10298  1999-07-01  Skateboard         1    33.0\n",
              "3       10101  1999-07-01   Life Vest         4   125.0\n",
              "4       10299  1999-07-06   Parachute         1  1250.0"
            ]
          },
          "metadata": {},
          "execution_count": 13
        }
      ]
    },
    {
      "cell_type": "code",
      "source": [
        "#convert modified dataframe to csv file for PhP MyAdmin Use\n",
        "dfItems.to_csv('rItemsOrders.csv', index=False, header=False)"
      ],
      "metadata": {
        "id": "Uq4RmhqBAjCt"
      },
      "execution_count": null,
      "outputs": []
    },
    {
      "cell_type": "code",
      "source": [
        "# In this case, no date conversion is required, only header removed\n",
        "dfCustomers = pd.read_csv('SQLCourse2 - Customers.csv')\n",
        "dfCustomers.to_csv('rCustomers.csv', index=False, header=False)"
      ],
      "metadata": {
        "id": "jP1oK36O-kIx"
      },
      "execution_count": null,
      "outputs": []
    },
    {
      "cell_type": "markdown",
      "source": [
        "# Pythons Functions for SQL commands"
      ],
      "metadata": {
        "id": "eIoTpY-HBFLL"
      }
    },
    {
      "cell_type": "code",
      "source": [
        "!apt install libmysqlclient-dev > /dev/null\n",
        "!pip install mysqlclient > /dev/null\n",
        "import pandas as pd\n",
        "import MySQLdb"
      ],
      "metadata": {
        "colab": {
          "base_uri": "https://localhost:8080/"
        },
        "id": "muMYozz1D-EC",
        "outputId": "faa66330-77be-4223-c746-4353c761a8af"
      },
      "execution_count": 20,
      "outputs": [
        {
          "output_type": "stream",
          "name": "stdout",
          "text": [
            "\n",
            "WARNING: apt does not have a stable CLI interface. Use with caution in scripts.\n",
            "\n"
          ]
        }
      ]
    },
    {
      "cell_type": "code",
      "source": [
        "#To run any non-SELECT SQL command\n",
        "def runCMD (loc, DDL):\n",
        "    if loc == 'remoteDB':\n",
        "        DBConn = MySQLdb.connect(hostName,userName,passWord,dbName)\n",
        "    elif loc == 'localDB':\n",
        "        DBConn = MySQLdb.connect(db='praxisDB')\n",
        "    else :\n",
        "        print('location must be \"remoteDB or \"localDB\"')\n",
        "    \n",
        "    myCursor = DBConn.cursor()\n",
        "    retcode = myCursor.execute(DDL) \n",
        "    print (retcode)\n",
        "    DBConn.commit()\n",
        "    DBConn.close()\n",
        "\n",
        "#To run any SELECT SQL command\n",
        "def runSELECT (loc, CMD):\n",
        "    if loc == 'remoteDB':\n",
        "        DBConn = MySQLdb.connect(hostName,userName,passWord,dbName)\n",
        "    elif loc == 'localDB':\n",
        "        DBConn = MySQLdb.connect(db='praxisDB')\n",
        "    else :\n",
        "        print('location must be \"remoteDB or \"localDB\"')\n",
        "    \n",
        "    df_mysql = pd.read_sql(CMD, con=DBConn)    \n",
        "    DBConn.close()\n",
        "    return df_mysql"
      ],
      "metadata": {
        "id": "NVDDq2VmBgQH"
      },
      "execution_count": 21,
      "outputs": []
    },
    {
      "cell_type": "markdown",
      "source": [
        "## Test SQL calls from Python"
      ],
      "metadata": {
        "id": "VIbZ_9LzDS0D"
      }
    },
    {
      "cell_type": "code",
      "source": [
        "# Set the location to whichever Database you need to access\n",
        "#\n",
        "# --------------------------------\n",
        "#\n",
        "location = 'localDB'\n",
        "#location = 'remoteDB'"
      ],
      "metadata": {
        "id": "i9G6UTJlDdi9"
      },
      "execution_count": 22,
      "outputs": []
    },
    {
      "cell_type": "code",
      "source": [
        "runSELECT(location,'select * from customers')\n",
        "#runSELECT(location,'select * from itemsordered limit 5')"
      ],
      "metadata": {
        "colab": {
          "base_uri": "https://localhost:8080/",
          "height": 582
        },
        "id": "WpIA5EvzDnCZ",
        "outputId": "5f3ddd16-25a8-4d4e-b568-499eb4ca25e0"
      },
      "execution_count": 24,
      "outputs": [
        {
          "output_type": "execute_result",
          "data": {
            "text/plain": [
              "   customerid firstname  lastname          city           state\n",
              "0       10101      John      Gray        Lynden      Washington\n",
              "1       10298     Leroy     Brown       Pinetop         Arizona\n",
              "2       10299     Elroy    Keller    Snoqualmie      Washington\n",
              "3       10315      Lisa     Jones       Oshkosh       Wisconsin\n",
              "4       10325    Ginger   Schultz     Pocatello           Idaho\n",
              "5       10329     Kelly   Mendoza        Kailua          Hawaii\n",
              "6       10330     Shawn    Dalton  Cannon Beach          Oregon\n",
              "7       10338   Michael    Howell     Tillamook          Oregon\n",
              "8       10339   Anthony   Sanchez       Winslow         Arizona\n",
              "9       10408     Elroy   Cleaver         Globe         Arizona\n",
              "10      10410  Mary Ann    Howell    Charleston  South Carolina\n",
              "11      10413    Donald    Davids     Gila Bend         Arizona\n",
              "12      10419     Linda  Sakahara       Nogales         Arizona\n",
              "13      10429     Sarah    Graham    Greensboro  North Carolina\n",
              "14      10438     Kevin     Smith       Durango        Colorado\n",
              "15      10439    Conrad     Giles     Telluride        Colorado\n",
              "16      10449   Isabela     Moore          Yuma         Arizona"
            ],
            "text/html": [
              "\n",
              "  <div id=\"df-f256e01c-a696-4dd7-9b9c-9be12656b52d\">\n",
              "    <div class=\"colab-df-container\">\n",
              "      <div>\n",
              "<style scoped>\n",
              "    .dataframe tbody tr th:only-of-type {\n",
              "        vertical-align: middle;\n",
              "    }\n",
              "\n",
              "    .dataframe tbody tr th {\n",
              "        vertical-align: top;\n",
              "    }\n",
              "\n",
              "    .dataframe thead th {\n",
              "        text-align: right;\n",
              "    }\n",
              "</style>\n",
              "<table border=\"1\" class=\"dataframe\">\n",
              "  <thead>\n",
              "    <tr style=\"text-align: right;\">\n",
              "      <th></th>\n",
              "      <th>customerid</th>\n",
              "      <th>firstname</th>\n",
              "      <th>lastname</th>\n",
              "      <th>city</th>\n",
              "      <th>state</th>\n",
              "    </tr>\n",
              "  </thead>\n",
              "  <tbody>\n",
              "    <tr>\n",
              "      <th>0</th>\n",
              "      <td>10101</td>\n",
              "      <td>John</td>\n",
              "      <td>Gray</td>\n",
              "      <td>Lynden</td>\n",
              "      <td>Washington</td>\n",
              "    </tr>\n",
              "    <tr>\n",
              "      <th>1</th>\n",
              "      <td>10298</td>\n",
              "      <td>Leroy</td>\n",
              "      <td>Brown</td>\n",
              "      <td>Pinetop</td>\n",
              "      <td>Arizona</td>\n",
              "    </tr>\n",
              "    <tr>\n",
              "      <th>2</th>\n",
              "      <td>10299</td>\n",
              "      <td>Elroy</td>\n",
              "      <td>Keller</td>\n",
              "      <td>Snoqualmie</td>\n",
              "      <td>Washington</td>\n",
              "    </tr>\n",
              "    <tr>\n",
              "      <th>3</th>\n",
              "      <td>10315</td>\n",
              "      <td>Lisa</td>\n",
              "      <td>Jones</td>\n",
              "      <td>Oshkosh</td>\n",
              "      <td>Wisconsin</td>\n",
              "    </tr>\n",
              "    <tr>\n",
              "      <th>4</th>\n",
              "      <td>10325</td>\n",
              "      <td>Ginger</td>\n",
              "      <td>Schultz</td>\n",
              "      <td>Pocatello</td>\n",
              "      <td>Idaho</td>\n",
              "    </tr>\n",
              "    <tr>\n",
              "      <th>5</th>\n",
              "      <td>10329</td>\n",
              "      <td>Kelly</td>\n",
              "      <td>Mendoza</td>\n",
              "      <td>Kailua</td>\n",
              "      <td>Hawaii</td>\n",
              "    </tr>\n",
              "    <tr>\n",
              "      <th>6</th>\n",
              "      <td>10330</td>\n",
              "      <td>Shawn</td>\n",
              "      <td>Dalton</td>\n",
              "      <td>Cannon Beach</td>\n",
              "      <td>Oregon</td>\n",
              "    </tr>\n",
              "    <tr>\n",
              "      <th>7</th>\n",
              "      <td>10338</td>\n",
              "      <td>Michael</td>\n",
              "      <td>Howell</td>\n",
              "      <td>Tillamook</td>\n",
              "      <td>Oregon</td>\n",
              "    </tr>\n",
              "    <tr>\n",
              "      <th>8</th>\n",
              "      <td>10339</td>\n",
              "      <td>Anthony</td>\n",
              "      <td>Sanchez</td>\n",
              "      <td>Winslow</td>\n",
              "      <td>Arizona</td>\n",
              "    </tr>\n",
              "    <tr>\n",
              "      <th>9</th>\n",
              "      <td>10408</td>\n",
              "      <td>Elroy</td>\n",
              "      <td>Cleaver</td>\n",
              "      <td>Globe</td>\n",
              "      <td>Arizona</td>\n",
              "    </tr>\n",
              "    <tr>\n",
              "      <th>10</th>\n",
              "      <td>10410</td>\n",
              "      <td>Mary Ann</td>\n",
              "      <td>Howell</td>\n",
              "      <td>Charleston</td>\n",
              "      <td>South Carolina</td>\n",
              "    </tr>\n",
              "    <tr>\n",
              "      <th>11</th>\n",
              "      <td>10413</td>\n",
              "      <td>Donald</td>\n",
              "      <td>Davids</td>\n",
              "      <td>Gila Bend</td>\n",
              "      <td>Arizona</td>\n",
              "    </tr>\n",
              "    <tr>\n",
              "      <th>12</th>\n",
              "      <td>10419</td>\n",
              "      <td>Linda</td>\n",
              "      <td>Sakahara</td>\n",
              "      <td>Nogales</td>\n",
              "      <td>Arizona</td>\n",
              "    </tr>\n",
              "    <tr>\n",
              "      <th>13</th>\n",
              "      <td>10429</td>\n",
              "      <td>Sarah</td>\n",
              "      <td>Graham</td>\n",
              "      <td>Greensboro</td>\n",
              "      <td>North Carolina</td>\n",
              "    </tr>\n",
              "    <tr>\n",
              "      <th>14</th>\n",
              "      <td>10438</td>\n",
              "      <td>Kevin</td>\n",
              "      <td>Smith</td>\n",
              "      <td>Durango</td>\n",
              "      <td>Colorado</td>\n",
              "    </tr>\n",
              "    <tr>\n",
              "      <th>15</th>\n",
              "      <td>10439</td>\n",
              "      <td>Conrad</td>\n",
              "      <td>Giles</td>\n",
              "      <td>Telluride</td>\n",
              "      <td>Colorado</td>\n",
              "    </tr>\n",
              "    <tr>\n",
              "      <th>16</th>\n",
              "      <td>10449</td>\n",
              "      <td>Isabela</td>\n",
              "      <td>Moore</td>\n",
              "      <td>Yuma</td>\n",
              "      <td>Arizona</td>\n",
              "    </tr>\n",
              "  </tbody>\n",
              "</table>\n",
              "</div>\n",
              "      <button class=\"colab-df-convert\" onclick=\"convertToInteractive('df-f256e01c-a696-4dd7-9b9c-9be12656b52d')\"\n",
              "              title=\"Convert this dataframe to an interactive table.\"\n",
              "              style=\"display:none;\">\n",
              "        \n",
              "  <svg xmlns=\"http://www.w3.org/2000/svg\" height=\"24px\"viewBox=\"0 0 24 24\"\n",
              "       width=\"24px\">\n",
              "    <path d=\"M0 0h24v24H0V0z\" fill=\"none\"/>\n",
              "    <path d=\"M18.56 5.44l.94 2.06.94-2.06 2.06-.94-2.06-.94-.94-2.06-.94 2.06-2.06.94zm-11 1L8.5 8.5l.94-2.06 2.06-.94-2.06-.94L8.5 2.5l-.94 2.06-2.06.94zm10 10l.94 2.06.94-2.06 2.06-.94-2.06-.94-.94-2.06-.94 2.06-2.06.94z\"/><path d=\"M17.41 7.96l-1.37-1.37c-.4-.4-.92-.59-1.43-.59-.52 0-1.04.2-1.43.59L10.3 9.45l-7.72 7.72c-.78.78-.78 2.05 0 2.83L4 21.41c.39.39.9.59 1.41.59.51 0 1.02-.2 1.41-.59l7.78-7.78 2.81-2.81c.8-.78.8-2.07 0-2.86zM5.41 20L4 18.59l7.72-7.72 1.47 1.35L5.41 20z\"/>\n",
              "  </svg>\n",
              "      </button>\n",
              "      \n",
              "  <style>\n",
              "    .colab-df-container {\n",
              "      display:flex;\n",
              "      flex-wrap:wrap;\n",
              "      gap: 12px;\n",
              "    }\n",
              "\n",
              "    .colab-df-convert {\n",
              "      background-color: #E8F0FE;\n",
              "      border: none;\n",
              "      border-radius: 50%;\n",
              "      cursor: pointer;\n",
              "      display: none;\n",
              "      fill: #1967D2;\n",
              "      height: 32px;\n",
              "      padding: 0 0 0 0;\n",
              "      width: 32px;\n",
              "    }\n",
              "\n",
              "    .colab-df-convert:hover {\n",
              "      background-color: #E2EBFA;\n",
              "      box-shadow: 0px 1px 2px rgba(60, 64, 67, 0.3), 0px 1px 3px 1px rgba(60, 64, 67, 0.15);\n",
              "      fill: #174EA6;\n",
              "    }\n",
              "\n",
              "    [theme=dark] .colab-df-convert {\n",
              "      background-color: #3B4455;\n",
              "      fill: #D2E3FC;\n",
              "    }\n",
              "\n",
              "    [theme=dark] .colab-df-convert:hover {\n",
              "      background-color: #434B5C;\n",
              "      box-shadow: 0px 1px 3px 1px rgba(0, 0, 0, 0.15);\n",
              "      filter: drop-shadow(0px 1px 2px rgba(0, 0, 0, 0.3));\n",
              "      fill: #FFFFFF;\n",
              "    }\n",
              "  </style>\n",
              "\n",
              "      <script>\n",
              "        const buttonEl =\n",
              "          document.querySelector('#df-f256e01c-a696-4dd7-9b9c-9be12656b52d button.colab-df-convert');\n",
              "        buttonEl.style.display =\n",
              "          google.colab.kernel.accessAllowed ? 'block' : 'none';\n",
              "\n",
              "        async function convertToInteractive(key) {\n",
              "          const element = document.querySelector('#df-f256e01c-a696-4dd7-9b9c-9be12656b52d');\n",
              "          const dataTable =\n",
              "            await google.colab.kernel.invokeFunction('convertToInteractive',\n",
              "                                                     [key], {});\n",
              "          if (!dataTable) return;\n",
              "\n",
              "          const docLinkHtml = 'Like what you see? Visit the ' +\n",
              "            '<a target=\"_blank\" href=https://colab.research.google.com/notebooks/data_table.ipynb>data table notebook</a>'\n",
              "            + ' to learn more about interactive tables.';\n",
              "          element.innerHTML = '';\n",
              "          dataTable['output_type'] = 'display_data';\n",
              "          await google.colab.output.renderOutput(dataTable, element);\n",
              "          const docLink = document.createElement('div');\n",
              "          docLink.innerHTML = docLinkHtml;\n",
              "          element.appendChild(docLink);\n",
              "        }\n",
              "      </script>\n",
              "    </div>\n",
              "  </div>\n",
              "  "
            ]
          },
          "metadata": {},
          "execution_count": 24
        }
      ]
    },
    {
      "cell_type": "code",
      "source": [
        "#Last Executed\n",
        "!date"
      ],
      "metadata": {
        "id": "n01HIkUZ7jzA",
        "outputId": "9926e7a5-62db-436a-d8d6-9dee02efc15e",
        "colab": {
          "base_uri": "https://localhost:8080/"
        }
      },
      "execution_count": 25,
      "outputs": [
        {
          "output_type": "stream",
          "name": "stdout",
          "text": [
            "Sun Aug 28 10:10:30 UTC 2022\n"
          ]
        }
      ]
    },
    {
      "cell_type": "markdown",
      "metadata": {
        "id": "4phrtjaE_tyS"
      },
      "source": [
        "#Chronobooks <br>\n",
        "![alt text](https://1.bp.blogspot.com/-lTiYBkU2qbU/X1er__fvnkI/AAAAAAAAjtE/GhDR3OEGJr4NG43fZPodrQD5kbxtnKebgCLcBGAsYHQ/s600/Footer2020-600x200.png)<hr>\n",
        "Chronotantra and Chronoyantra are two science fiction novels that explore the collapse of human civilisation on Earth and then its rebirth and reincarnation both on Earth as well as on the distant worlds of Mars, Titan and Enceladus. But is it the human civilisation that is being reborn? Or is it some other sentience that is revealing itself. \n",
        "If you have an interest in AI and found this material useful, you may consider buying these novels, in paperback or kindle, from [http://bit.ly/chronobooks](http://bit.ly/chronobooks)"
      ]
    }
  ]
}