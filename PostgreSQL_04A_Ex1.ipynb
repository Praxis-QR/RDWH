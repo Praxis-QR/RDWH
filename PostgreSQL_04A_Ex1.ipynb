{
  "nbformat": 4,
  "nbformat_minor": 0,
  "metadata": {
    "colab": {
      "provenance": [],
      "toc_visible": true,
      "include_colab_link": true
    },
    "kernelspec": {
      "name": "python3",
      "display_name": "Python 3"
    },
    "language_info": {
      "name": "python"
    }
  },
  "cells": [
    {
      "cell_type": "markdown",
      "metadata": {
        "id": "view-in-github",
        "colab_type": "text"
      },
      "source": [
        "<a href=\"https://colab.research.google.com/github/Praxis-QR/RDWH/blob/main/PostgreSQL_04_Exercise_1.ipynb\" target=\"_parent\"><img src=\"https://colab.research.google.com/assets/colab-badge.svg\" alt=\"Open In Colab\"/></a>"
      ]
    },
    {
      "cell_type": "markdown",
      "source": [
        "![Yantrajaal Banner](https://github.com/Praxis-QR/RDWH/raw/main/images/YantraJaalBanner.png)<br>\n",
        "\n",
        "\n",
        "<hr>\n",
        "\n",
        "[Prithwis Mukerjee](http://www.linkedin.com/in/prithwis)<br>"
      ],
      "metadata": {
        "id": "DBzz-qaN2tKu"
      }
    },
    {
      "cell_type": "markdown",
      "source": [
        "#Postgres Exercises\n",
        "https://pgexercises.com/ <br>\n",
        "https://pgexercises.com/gettingstarted.html"
      ],
      "metadata": {
        "id": "QIfgaOrxZ39z"
      }
    },
    {
      "cell_type": "markdown",
      "source": [
        "#Install & Configure Postgres"
      ],
      "metadata": {
        "id": "nD-QawLT6kDr"
      }
    },
    {
      "cell_type": "code",
      "source": [
        "from datetime import datetime\n",
        "import pytz\n",
        "print('Tested on ',datetime.now(pytz.timezone('Asia/Calcutta')))\n",
        "!python --version\n",
        "!lsb_release -a"
      ],
      "metadata": {
        "id": "txwvst5Hs5mI",
        "outputId": "0ca89ebf-51b5-4f38-a485-6ec2970f3bf8",
        "colab": {
          "base_uri": "https://localhost:8080/"
        }
      },
      "execution_count": 1,
      "outputs": [
        {
          "output_type": "stream",
          "name": "stdout",
          "text": [
            "Tested on  2023-12-31 15:57:21.403765+05:30\n",
            "Python 3.10.12\n",
            "No LSB modules are available.\n",
            "Distributor ID:\tUbuntu\n",
            "Description:\tUbuntu 22.04.3 LTS\n",
            "Release:\t22.04\n",
            "Codename:\tjammy\n"
          ]
        }
      ]
    },
    {
      "cell_type": "markdown",
      "source": [
        "For Connecting to a Postgres server on Amazon RDS, see [this notebook](https://github.com/Praxis-QR/RDWH/blob/main/PostgreSQL_01_Install_Config.ipynb)"
      ],
      "metadata": {
        "id": "9w29_O07rTPE"
      }
    },
    {
      "cell_type": "code",
      "source": [
        "# Install postgresql server\n",
        "\n",
        "!apt update > /dev/null\n",
        "!apt install postgresql > /dev/null\n",
        "#!sudo -u postgres psql -V\n",
        "!psql -V\n",
        "!service postgresql start"
      ],
      "metadata": {
        "colab": {
          "base_uri": "https://localhost:8080/"
        },
        "id": "o_RaqE0OOHP3",
        "outputId": "80fd8053-91d8-4c49-ef12-f531270df197"
      },
      "execution_count": 2,
      "outputs": [
        {
          "output_type": "stream",
          "name": "stdout",
          "text": [
            "\n",
            "WARNING: apt does not have a stable CLI interface. Use with caution in scripts.\n",
            "\n",
            "\n",
            "WARNING: apt does not have a stable CLI interface. Use with caution in scripts.\n",
            "\n",
            "psql (PostgreSQL) 14.10 (Ubuntu 14.10-0ubuntu0.22.04.1)\n",
            " * Starting PostgreSQL 14 database server\n",
            "   ...done.\n"
          ]
        }
      ]
    },
    {
      "cell_type": "markdown",
      "source": [
        "#Create Schema, Tables and Insert Data"
      ],
      "metadata": {
        "id": "JP7hBhEaYzW8"
      }
    },
    {
      "cell_type": "code",
      "source": [
        "# Change the database superuser 'postgres' to a non-default value 'pass'\n",
        "!sudo -u postgres psql -U postgres -c \"ALTER USER postgres PASSWORD 'pass';\""
      ],
      "metadata": {
        "colab": {
          "base_uri": "https://localhost:8080/"
        },
        "id": "NWkT4jeeQXw2",
        "outputId": "426e06a2-576b-40eb-85fc-aaaa7e6a243e"
      },
      "execution_count": 3,
      "outputs": [
        {
          "output_type": "stream",
          "name": "stdout",
          "text": [
            "ALTER ROLE\n"
          ]
        }
      ]
    },
    {
      "cell_type": "code",
      "source": [
        "#!wget https://pgexercises.com/dbfiles/clubdata.sql\n",
        "!wget https://raw.githubusercontent.com/Praxis-QR/RDWH/main/data/clubdata.sql"
      ],
      "metadata": {
        "colab": {
          "base_uri": "https://localhost:8080/"
        },
        "id": "01kFB_EbXzKg",
        "outputId": "3486ac68-3864-4ab0-d371-0ead9a862744"
      },
      "execution_count": 4,
      "outputs": [
        {
          "output_type": "stream",
          "name": "stdout",
          "text": [
            "--2023-12-31 10:28:28--  https://raw.githubusercontent.com/Praxis-QR/RDWH/main/data/clubdata.sql\n",
            "Resolving raw.githubusercontent.com (raw.githubusercontent.com)... 185.199.108.133, 185.199.109.133, 185.199.110.133, ...\n",
            "Connecting to raw.githubusercontent.com (raw.githubusercontent.com)|185.199.108.133|:443... connected.\n",
            "HTTP request sent, awaiting response... 200 OK\n",
            "Length: 170141 (166K) [text/plain]\n",
            "Saving to: ‘clubdata.sql’\n",
            "\n",
            "\rclubdata.sql          0%[                    ]       0  --.-KB/s               \rclubdata.sql        100%[===================>] 166.15K  --.-KB/s    in 0.02s   \n",
            "\n",
            "2023-12-31 10:28:28 (7.07 MB/s) - ‘clubdata.sql’ saved [170141/170141]\n",
            "\n"
          ]
        }
      ]
    },
    {
      "cell_type": "code",
      "source": [
        "#Run the batch file to create tables, load data\n",
        "!psql -h localhost -U postgres -f clubdata.sql -d postgres -x -q"
      ],
      "metadata": {
        "colab": {
          "base_uri": "https://localhost:8080/"
        },
        "id": "jTtfpsn7P4ak",
        "outputId": "9872fca9-5690-4509-fa2c-dbe9ffd56db6"
      },
      "execution_count": 5,
      "outputs": [
        {
          "output_type": "stream",
          "name": "stdout",
          "text": [
            "Password for user postgres: \n"
          ]
        }
      ]
    },
    {
      "cell_type": "code",
      "source": [
        "#Note new database called exercises\n",
        "!psql -h localhost -p 5432 -Upostgres -c \"\\l\""
      ],
      "metadata": {
        "colab": {
          "base_uri": "https://localhost:8080/"
        },
        "id": "bjHFMAF_QhCD",
        "outputId": "d081c94a-918e-4528-d960-d8e4fbb77673"
      },
      "execution_count": 6,
      "outputs": [
        {
          "output_type": "stream",
          "name": "stdout",
          "text": [
            "Password for user postgres: \n",
            "                                  List of databases\n",
            "   Name    |  Owner   | Encoding |   Collate   |    Ctype    |   Access privileges   \n",
            "-----------+----------+----------+-------------+-------------+-----------------------\n",
            " exercises | postgres | UTF8     | en_US.UTF-8 | en_US.UTF-8 | \n",
            " postgres  | postgres | UTF8     | en_US.UTF-8 | en_US.UTF-8 | \n",
            " template0 | postgres | UTF8     | en_US.UTF-8 | en_US.UTF-8 | =c/postgres          +\n",
            "           |          |          |             |             | postgres=CTc/postgres\n",
            " template1 | postgres | UTF8     | en_US.UTF-8 | en_US.UTF-8 | =c/postgres          +\n",
            "           |          |          |             |             | postgres=CTc/postgres\n",
            "(4 rows)\n",
            "\n"
          ]
        }
      ]
    },
    {
      "cell_type": "code",
      "source": [
        "# Create file to store the password. Else will be prompted each time\n",
        "#!echo \"localhost:5432:praxisdb:postgres:pass\" > ~/.pgpass\n",
        "!echo \"localhost:5432:exercises:postgres:pass\" > ~/.pgpass\n",
        "!chmod 0600 ~/.pgpass\n",
        "!cat ~/.pgpass"
      ],
      "metadata": {
        "colab": {
          "base_uri": "https://localhost:8080/"
        },
        "id": "yI-GLS0LUdjB",
        "outputId": "e48d502b-4f89-444f-953d-1684ea8b23c5"
      },
      "execution_count": 7,
      "outputs": [
        {
          "output_type": "stream",
          "name": "stdout",
          "text": [
            "localhost:5432:exercises:postgres:pass\n"
          ]
        }
      ]
    },
    {
      "cell_type": "code",
      "source": [
        "#Note three tables under schema cd\n",
        "!psql -h localhost -p 5432 -Upostgres -d exercises -c \"\\dt+ cd.*\""
      ],
      "metadata": {
        "colab": {
          "base_uri": "https://localhost:8080/"
        },
        "id": "AieaKdT9Qr7Z",
        "outputId": "b6d1520d-9b9d-4808-b87f-44cbb734c2a9"
      },
      "execution_count": 9,
      "outputs": [
        {
          "output_type": "stream",
          "name": "stdout",
          "text": [
            "                                      List of relations\n",
            " Schema |    Name    | Type  |  Owner   | Persistence | Access method |  Size  | Description \n",
            "--------+------------+-------+----------+-------------+---------------+--------+-------------\n",
            " cd     | bookings   | table | postgres | permanent   | heap          | 272 kB | \n",
            " cd     | facilities | table | postgres | permanent   | heap          | 16 kB  | \n",
            " cd     | members    | table | postgres | permanent   | heap          | 16 kB  | \n",
            "(3 rows)\n",
            "\n"
          ]
        }
      ]
    },
    {
      "cell_type": "markdown",
      "source": [
        "## Python Access\n",
        "https://www.tutorialspoint.com/python_data_access/python_postgresql_database_connection.htm"
      ],
      "metadata": {
        "id": "faZEj8_7CeZ8"
      }
    },
    {
      "cell_type": "code",
      "source": [
        "#!pip install psycopg2\n",
        "import psycopg2\n",
        "import pandas as pd"
      ],
      "metadata": {
        "id": "719jvpeIjLZX"
      },
      "execution_count": 10,
      "outputs": []
    },
    {
      "cell_type": "code",
      "source": [
        "# Local Colab server\n",
        "\n",
        "conn = psycopg2.connect(database=\"exercises\", user='postgres', password='pass', host='127.0.0.1', port= '5432')\n",
        "#Creating a cursor object using the cursor() method\n",
        "cursor = conn.cursor()\n",
        "#Executing an MYSQL function using the execute() method\n",
        "cursor.execute(\"select version()\")\n",
        "# Fetch a single row using fetchone() method.\n",
        "data = cursor.fetchone()\n",
        "print(\"Connection established to: \",data)\n",
        "#Closing the connection\n",
        "conn.close()"
      ],
      "metadata": {
        "id": "wcE-8UBnC4zV",
        "outputId": "187110a7-a1a9-4dd9-a514-3eadc05df0aa",
        "colab": {
          "base_uri": "https://localhost:8080/"
        }
      },
      "execution_count": 11,
      "outputs": [
        {
          "output_type": "stream",
          "name": "stdout",
          "text": [
            "Connection established to:  ('PostgreSQL 14.10 (Ubuntu 14.10-0ubuntu0.22.04.1) on x86_64-pc-linux-gnu, compiled by gcc (Ubuntu 11.4.0-1ubuntu1~22.04) 11.4.0, 64-bit',)\n"
          ]
        }
      ]
    },
    {
      "cell_type": "code",
      "source": [
        "# function to execute SQL select statements with Postgres\n",
        "#\n",
        "def runSelect(s):\n",
        "    #Set up connection\n",
        "\n",
        "    conn = psycopg2.connect(database=\"exercises\", user='postgres', password='pass', host='127.0.0.1', port= '5432')\n",
        "    #Setting auto commit true\n",
        "    conn.autocommit = True\n",
        "    #Creating a cursor object using the cursor() method\n",
        "    cursor = conn.cursor()\n",
        "    #Retrieving data\n",
        "    cursor.execute(s)\n",
        "    #Fetching all rows from the table\n",
        "    result = cursor.fetchall();\n",
        "    #print(len(result))\n",
        "    if (len(result)) > 0:                                       # result contains at least one row\n",
        "        colnames = [desc[0] for desc in cursor.description]     # get column names\n",
        "        #print(colnames)\n",
        "        resultdf = pd.DataFrame(result)                         # convert list to dataframe\n",
        "        resultdf.columns = colnames                             # add column names\n",
        "        #return resultdf\n",
        "        return resultdf.style.hide()                            # hide the index\n",
        "    else:\n",
        "        print('no records found')\n",
        "        return\n",
        "# function to execute SQL non-select statements with Postgres\n",
        "#\n",
        "def runCmd(s):\n",
        "    #Create Connection\n",
        "    conn = psycopg2.connect(database=\"exercises\", user='postgres', password='pass', host='127.0.0.1', port= '5432')\n",
        "    #Creating a cursor object using the cursor() method\n",
        "    cursor = conn.cursor()\n",
        "    try:\n",
        "        cursor.execute(s)\n",
        "        print('Command executed')\n",
        "        conn.commit()\n",
        "    except:\n",
        "        print('Command failed')\n",
        "    #Closing the connection\n",
        "    conn.close()"
      ],
      "metadata": {
        "id": "ht2k7-3iggNd"
      },
      "execution_count": 12,
      "outputs": []
    },
    {
      "cell_type": "markdown",
      "source": [
        "##Check Data"
      ],
      "metadata": {
        "id": "RvTKboYtbSjZ"
      }
    },
    {
      "cell_type": "code",
      "source": [
        "runSelect(\"select * from cd.members limit 10\")"
      ],
      "metadata": {
        "colab": {
          "base_uri": "https://localhost:8080/",
          "height": 363
        },
        "id": "ctq0ULCvVTsO",
        "outputId": "323d3121-320c-4c77-b61d-73ce84eb118e"
      },
      "execution_count": 13,
      "outputs": [
        {
          "output_type": "execute_result",
          "data": {
            "text/plain": [
              "<pandas.io.formats.style.Styler at 0x7dc5b497fdc0>"
            ],
            "text/html": [
              "<style type=\"text/css\">\n",
              "</style>\n",
              "<table id=\"T_2281b\" class=\"dataframe\">\n",
              "  <thead>\n",
              "    <tr>\n",
              "      <th id=\"T_2281b_level0_col0\" class=\"col_heading level0 col0\" >memid</th>\n",
              "      <th id=\"T_2281b_level0_col1\" class=\"col_heading level0 col1\" >surname</th>\n",
              "      <th id=\"T_2281b_level0_col2\" class=\"col_heading level0 col2\" >firstname</th>\n",
              "      <th id=\"T_2281b_level0_col3\" class=\"col_heading level0 col3\" >address</th>\n",
              "      <th id=\"T_2281b_level0_col4\" class=\"col_heading level0 col4\" >zipcode</th>\n",
              "      <th id=\"T_2281b_level0_col5\" class=\"col_heading level0 col5\" >telephone</th>\n",
              "      <th id=\"T_2281b_level0_col6\" class=\"col_heading level0 col6\" >recommendedby</th>\n",
              "      <th id=\"T_2281b_level0_col7\" class=\"col_heading level0 col7\" >joindate</th>\n",
              "    </tr>\n",
              "  </thead>\n",
              "  <tbody>\n",
              "    <tr>\n",
              "      <td id=\"T_2281b_row0_col0\" class=\"data row0 col0\" >0</td>\n",
              "      <td id=\"T_2281b_row0_col1\" class=\"data row0 col1\" >GUEST</td>\n",
              "      <td id=\"T_2281b_row0_col2\" class=\"data row0 col2\" >GUEST</td>\n",
              "      <td id=\"T_2281b_row0_col3\" class=\"data row0 col3\" >GUEST</td>\n",
              "      <td id=\"T_2281b_row0_col4\" class=\"data row0 col4\" >0</td>\n",
              "      <td id=\"T_2281b_row0_col5\" class=\"data row0 col5\" >(000) 000-0000</td>\n",
              "      <td id=\"T_2281b_row0_col6\" class=\"data row0 col6\" >nan</td>\n",
              "      <td id=\"T_2281b_row0_col7\" class=\"data row0 col7\" >2012-07-01 00:00:00</td>\n",
              "    </tr>\n",
              "    <tr>\n",
              "      <td id=\"T_2281b_row1_col0\" class=\"data row1 col0\" >1</td>\n",
              "      <td id=\"T_2281b_row1_col1\" class=\"data row1 col1\" >Smith</td>\n",
              "      <td id=\"T_2281b_row1_col2\" class=\"data row1 col2\" >Darren</td>\n",
              "      <td id=\"T_2281b_row1_col3\" class=\"data row1 col3\" >8 Bloomsbury Close, Boston</td>\n",
              "      <td id=\"T_2281b_row1_col4\" class=\"data row1 col4\" >4321</td>\n",
              "      <td id=\"T_2281b_row1_col5\" class=\"data row1 col5\" >555-555-5555</td>\n",
              "      <td id=\"T_2281b_row1_col6\" class=\"data row1 col6\" >nan</td>\n",
              "      <td id=\"T_2281b_row1_col7\" class=\"data row1 col7\" >2012-07-02 12:02:05</td>\n",
              "    </tr>\n",
              "    <tr>\n",
              "      <td id=\"T_2281b_row2_col0\" class=\"data row2 col0\" >2</td>\n",
              "      <td id=\"T_2281b_row2_col1\" class=\"data row2 col1\" >Smith</td>\n",
              "      <td id=\"T_2281b_row2_col2\" class=\"data row2 col2\" >Tracy</td>\n",
              "      <td id=\"T_2281b_row2_col3\" class=\"data row2 col3\" >8 Bloomsbury Close, New York</td>\n",
              "      <td id=\"T_2281b_row2_col4\" class=\"data row2 col4\" >4321</td>\n",
              "      <td id=\"T_2281b_row2_col5\" class=\"data row2 col5\" >555-555-5555</td>\n",
              "      <td id=\"T_2281b_row2_col6\" class=\"data row2 col6\" >nan</td>\n",
              "      <td id=\"T_2281b_row2_col7\" class=\"data row2 col7\" >2012-07-02 12:08:23</td>\n",
              "    </tr>\n",
              "    <tr>\n",
              "      <td id=\"T_2281b_row3_col0\" class=\"data row3 col0\" >3</td>\n",
              "      <td id=\"T_2281b_row3_col1\" class=\"data row3 col1\" >Rownam</td>\n",
              "      <td id=\"T_2281b_row3_col2\" class=\"data row3 col2\" >Tim</td>\n",
              "      <td id=\"T_2281b_row3_col3\" class=\"data row3 col3\" >23 Highway Way, Boston</td>\n",
              "      <td id=\"T_2281b_row3_col4\" class=\"data row3 col4\" >23423</td>\n",
              "      <td id=\"T_2281b_row3_col5\" class=\"data row3 col5\" >(844) 693-0723</td>\n",
              "      <td id=\"T_2281b_row3_col6\" class=\"data row3 col6\" >nan</td>\n",
              "      <td id=\"T_2281b_row3_col7\" class=\"data row3 col7\" >2012-07-03 09:32:15</td>\n",
              "    </tr>\n",
              "    <tr>\n",
              "      <td id=\"T_2281b_row4_col0\" class=\"data row4 col0\" >4</td>\n",
              "      <td id=\"T_2281b_row4_col1\" class=\"data row4 col1\" >Joplette</td>\n",
              "      <td id=\"T_2281b_row4_col2\" class=\"data row4 col2\" >Janice</td>\n",
              "      <td id=\"T_2281b_row4_col3\" class=\"data row4 col3\" >20 Crossing Road, New York</td>\n",
              "      <td id=\"T_2281b_row4_col4\" class=\"data row4 col4\" >234</td>\n",
              "      <td id=\"T_2281b_row4_col5\" class=\"data row4 col5\" >(833) 942-4710</td>\n",
              "      <td id=\"T_2281b_row4_col6\" class=\"data row4 col6\" >1.000000</td>\n",
              "      <td id=\"T_2281b_row4_col7\" class=\"data row4 col7\" >2012-07-03 10:25:05</td>\n",
              "    </tr>\n",
              "    <tr>\n",
              "      <td id=\"T_2281b_row5_col0\" class=\"data row5 col0\" >5</td>\n",
              "      <td id=\"T_2281b_row5_col1\" class=\"data row5 col1\" >Butters</td>\n",
              "      <td id=\"T_2281b_row5_col2\" class=\"data row5 col2\" >Gerald</td>\n",
              "      <td id=\"T_2281b_row5_col3\" class=\"data row5 col3\" >1065 Huntingdon Avenue, Boston</td>\n",
              "      <td id=\"T_2281b_row5_col4\" class=\"data row5 col4\" >56754</td>\n",
              "      <td id=\"T_2281b_row5_col5\" class=\"data row5 col5\" >(844) 078-4130</td>\n",
              "      <td id=\"T_2281b_row5_col6\" class=\"data row5 col6\" >1.000000</td>\n",
              "      <td id=\"T_2281b_row5_col7\" class=\"data row5 col7\" >2012-07-09 10:44:09</td>\n",
              "    </tr>\n",
              "    <tr>\n",
              "      <td id=\"T_2281b_row6_col0\" class=\"data row6 col0\" >6</td>\n",
              "      <td id=\"T_2281b_row6_col1\" class=\"data row6 col1\" >Tracy</td>\n",
              "      <td id=\"T_2281b_row6_col2\" class=\"data row6 col2\" >Burton</td>\n",
              "      <td id=\"T_2281b_row6_col3\" class=\"data row6 col3\" >3 Tunisia Drive, Boston</td>\n",
              "      <td id=\"T_2281b_row6_col4\" class=\"data row6 col4\" >45678</td>\n",
              "      <td id=\"T_2281b_row6_col5\" class=\"data row6 col5\" >(822) 354-9973</td>\n",
              "      <td id=\"T_2281b_row6_col6\" class=\"data row6 col6\" >nan</td>\n",
              "      <td id=\"T_2281b_row6_col7\" class=\"data row6 col7\" >2012-07-15 08:52:55</td>\n",
              "    </tr>\n",
              "    <tr>\n",
              "      <td id=\"T_2281b_row7_col0\" class=\"data row7 col0\" >7</td>\n",
              "      <td id=\"T_2281b_row7_col1\" class=\"data row7 col1\" >Dare</td>\n",
              "      <td id=\"T_2281b_row7_col2\" class=\"data row7 col2\" >Nancy</td>\n",
              "      <td id=\"T_2281b_row7_col3\" class=\"data row7 col3\" >6 Hunting Lodge Way, Boston</td>\n",
              "      <td id=\"T_2281b_row7_col4\" class=\"data row7 col4\" >10383</td>\n",
              "      <td id=\"T_2281b_row7_col5\" class=\"data row7 col5\" >(833) 776-4001</td>\n",
              "      <td id=\"T_2281b_row7_col6\" class=\"data row7 col6\" >4.000000</td>\n",
              "      <td id=\"T_2281b_row7_col7\" class=\"data row7 col7\" >2012-07-25 08:59:12</td>\n",
              "    </tr>\n",
              "    <tr>\n",
              "      <td id=\"T_2281b_row8_col0\" class=\"data row8 col0\" >8</td>\n",
              "      <td id=\"T_2281b_row8_col1\" class=\"data row8 col1\" >Boothe</td>\n",
              "      <td id=\"T_2281b_row8_col2\" class=\"data row8 col2\" >Tim</td>\n",
              "      <td id=\"T_2281b_row8_col3\" class=\"data row8 col3\" >3 Bloomsbury Close, Reading, 00234</td>\n",
              "      <td id=\"T_2281b_row8_col4\" class=\"data row8 col4\" >234</td>\n",
              "      <td id=\"T_2281b_row8_col5\" class=\"data row8 col5\" >(811) 433-2547</td>\n",
              "      <td id=\"T_2281b_row8_col6\" class=\"data row8 col6\" >3.000000</td>\n",
              "      <td id=\"T_2281b_row8_col7\" class=\"data row8 col7\" >2012-07-25 16:02:35</td>\n",
              "    </tr>\n",
              "    <tr>\n",
              "      <td id=\"T_2281b_row9_col0\" class=\"data row9 col0\" >9</td>\n",
              "      <td id=\"T_2281b_row9_col1\" class=\"data row9 col1\" >Stibbons</td>\n",
              "      <td id=\"T_2281b_row9_col2\" class=\"data row9 col2\" >Ponder</td>\n",
              "      <td id=\"T_2281b_row9_col3\" class=\"data row9 col3\" >5 Dragons Way, Winchester</td>\n",
              "      <td id=\"T_2281b_row9_col4\" class=\"data row9 col4\" >87630</td>\n",
              "      <td id=\"T_2281b_row9_col5\" class=\"data row9 col5\" >(833) 160-3900</td>\n",
              "      <td id=\"T_2281b_row9_col6\" class=\"data row9 col6\" >6.000000</td>\n",
              "      <td id=\"T_2281b_row9_col7\" class=\"data row9 col7\" >2012-07-25 17:09:05</td>\n",
              "    </tr>\n",
              "  </tbody>\n",
              "</table>\n"
            ]
          },
          "metadata": {},
          "execution_count": 13
        }
      ]
    },
    {
      "cell_type": "code",
      "source": [
        "runSelect(\"select * from cd.facilities limit 10\")"
      ],
      "metadata": {
        "colab": {
          "base_uri": "https://localhost:8080/",
          "height": 332
        },
        "id": "Kz0e14SYXGqy",
        "outputId": "0b280518-4148-4612-f141-478b0b31a325"
      },
      "execution_count": 14,
      "outputs": [
        {
          "output_type": "execute_result",
          "data": {
            "text/plain": [
              "<pandas.io.formats.style.Styler at 0x7dc5b497dc60>"
            ],
            "text/html": [
              "<style type=\"text/css\">\n",
              "</style>\n",
              "<table id=\"T_278be\" class=\"dataframe\">\n",
              "  <thead>\n",
              "    <tr>\n",
              "      <th id=\"T_278be_level0_col0\" class=\"col_heading level0 col0\" >facid</th>\n",
              "      <th id=\"T_278be_level0_col1\" class=\"col_heading level0 col1\" >name</th>\n",
              "      <th id=\"T_278be_level0_col2\" class=\"col_heading level0 col2\" >membercost</th>\n",
              "      <th id=\"T_278be_level0_col3\" class=\"col_heading level0 col3\" >guestcost</th>\n",
              "      <th id=\"T_278be_level0_col4\" class=\"col_heading level0 col4\" >initialoutlay</th>\n",
              "      <th id=\"T_278be_level0_col5\" class=\"col_heading level0 col5\" >monthlymaintenance</th>\n",
              "    </tr>\n",
              "  </thead>\n",
              "  <tbody>\n",
              "    <tr>\n",
              "      <td id=\"T_278be_row0_col0\" class=\"data row0 col0\" >0</td>\n",
              "      <td id=\"T_278be_row0_col1\" class=\"data row0 col1\" >Tennis Court 1</td>\n",
              "      <td id=\"T_278be_row0_col2\" class=\"data row0 col2\" >5</td>\n",
              "      <td id=\"T_278be_row0_col3\" class=\"data row0 col3\" >25</td>\n",
              "      <td id=\"T_278be_row0_col4\" class=\"data row0 col4\" >10000</td>\n",
              "      <td id=\"T_278be_row0_col5\" class=\"data row0 col5\" >200</td>\n",
              "    </tr>\n",
              "    <tr>\n",
              "      <td id=\"T_278be_row1_col0\" class=\"data row1 col0\" >1</td>\n",
              "      <td id=\"T_278be_row1_col1\" class=\"data row1 col1\" >Tennis Court 2</td>\n",
              "      <td id=\"T_278be_row1_col2\" class=\"data row1 col2\" >5</td>\n",
              "      <td id=\"T_278be_row1_col3\" class=\"data row1 col3\" >25</td>\n",
              "      <td id=\"T_278be_row1_col4\" class=\"data row1 col4\" >8000</td>\n",
              "      <td id=\"T_278be_row1_col5\" class=\"data row1 col5\" >200</td>\n",
              "    </tr>\n",
              "    <tr>\n",
              "      <td id=\"T_278be_row2_col0\" class=\"data row2 col0\" >2</td>\n",
              "      <td id=\"T_278be_row2_col1\" class=\"data row2 col1\" >Badminton Court</td>\n",
              "      <td id=\"T_278be_row2_col2\" class=\"data row2 col2\" >0</td>\n",
              "      <td id=\"T_278be_row2_col3\" class=\"data row2 col3\" >15.5</td>\n",
              "      <td id=\"T_278be_row2_col4\" class=\"data row2 col4\" >4000</td>\n",
              "      <td id=\"T_278be_row2_col5\" class=\"data row2 col5\" >50</td>\n",
              "    </tr>\n",
              "    <tr>\n",
              "      <td id=\"T_278be_row3_col0\" class=\"data row3 col0\" >3</td>\n",
              "      <td id=\"T_278be_row3_col1\" class=\"data row3 col1\" >Table Tennis</td>\n",
              "      <td id=\"T_278be_row3_col2\" class=\"data row3 col2\" >0</td>\n",
              "      <td id=\"T_278be_row3_col3\" class=\"data row3 col3\" >5</td>\n",
              "      <td id=\"T_278be_row3_col4\" class=\"data row3 col4\" >320</td>\n",
              "      <td id=\"T_278be_row3_col5\" class=\"data row3 col5\" >10</td>\n",
              "    </tr>\n",
              "    <tr>\n",
              "      <td id=\"T_278be_row4_col0\" class=\"data row4 col0\" >4</td>\n",
              "      <td id=\"T_278be_row4_col1\" class=\"data row4 col1\" >Massage Room 1</td>\n",
              "      <td id=\"T_278be_row4_col2\" class=\"data row4 col2\" >35</td>\n",
              "      <td id=\"T_278be_row4_col3\" class=\"data row4 col3\" >80</td>\n",
              "      <td id=\"T_278be_row4_col4\" class=\"data row4 col4\" >4000</td>\n",
              "      <td id=\"T_278be_row4_col5\" class=\"data row4 col5\" >3000</td>\n",
              "    </tr>\n",
              "    <tr>\n",
              "      <td id=\"T_278be_row5_col0\" class=\"data row5 col0\" >5</td>\n",
              "      <td id=\"T_278be_row5_col1\" class=\"data row5 col1\" >Massage Room 2</td>\n",
              "      <td id=\"T_278be_row5_col2\" class=\"data row5 col2\" >35</td>\n",
              "      <td id=\"T_278be_row5_col3\" class=\"data row5 col3\" >80</td>\n",
              "      <td id=\"T_278be_row5_col4\" class=\"data row5 col4\" >4000</td>\n",
              "      <td id=\"T_278be_row5_col5\" class=\"data row5 col5\" >3000</td>\n",
              "    </tr>\n",
              "    <tr>\n",
              "      <td id=\"T_278be_row6_col0\" class=\"data row6 col0\" >6</td>\n",
              "      <td id=\"T_278be_row6_col1\" class=\"data row6 col1\" >Squash Court</td>\n",
              "      <td id=\"T_278be_row6_col2\" class=\"data row6 col2\" >3.5</td>\n",
              "      <td id=\"T_278be_row6_col3\" class=\"data row6 col3\" >17.5</td>\n",
              "      <td id=\"T_278be_row6_col4\" class=\"data row6 col4\" >5000</td>\n",
              "      <td id=\"T_278be_row6_col5\" class=\"data row6 col5\" >80</td>\n",
              "    </tr>\n",
              "    <tr>\n",
              "      <td id=\"T_278be_row7_col0\" class=\"data row7 col0\" >7</td>\n",
              "      <td id=\"T_278be_row7_col1\" class=\"data row7 col1\" >Snooker Table</td>\n",
              "      <td id=\"T_278be_row7_col2\" class=\"data row7 col2\" >0</td>\n",
              "      <td id=\"T_278be_row7_col3\" class=\"data row7 col3\" >5</td>\n",
              "      <td id=\"T_278be_row7_col4\" class=\"data row7 col4\" >450</td>\n",
              "      <td id=\"T_278be_row7_col5\" class=\"data row7 col5\" >15</td>\n",
              "    </tr>\n",
              "    <tr>\n",
              "      <td id=\"T_278be_row8_col0\" class=\"data row8 col0\" >8</td>\n",
              "      <td id=\"T_278be_row8_col1\" class=\"data row8 col1\" >Pool Table</td>\n",
              "      <td id=\"T_278be_row8_col2\" class=\"data row8 col2\" >0</td>\n",
              "      <td id=\"T_278be_row8_col3\" class=\"data row8 col3\" >5</td>\n",
              "      <td id=\"T_278be_row8_col4\" class=\"data row8 col4\" >400</td>\n",
              "      <td id=\"T_278be_row8_col5\" class=\"data row8 col5\" >15</td>\n",
              "    </tr>\n",
              "  </tbody>\n",
              "</table>\n"
            ]
          },
          "metadata": {},
          "execution_count": 14
        }
      ]
    },
    {
      "cell_type": "code",
      "source": [
        "runSelect(\"select * from cd.bookings limit 10\")"
      ],
      "metadata": {
        "colab": {
          "base_uri": "https://localhost:8080/",
          "height": 363
        },
        "id": "ZFliVHZwYn_P",
        "outputId": "715af11b-8f0a-434c-98ac-53ea08ff04d1"
      },
      "execution_count": 15,
      "outputs": [
        {
          "output_type": "execute_result",
          "data": {
            "text/plain": [
              "<pandas.io.formats.style.Styler at 0x7dc5b48d2560>"
            ],
            "text/html": [
              "<style type=\"text/css\">\n",
              "</style>\n",
              "<table id=\"T_63dd2\" class=\"dataframe\">\n",
              "  <thead>\n",
              "    <tr>\n",
              "      <th id=\"T_63dd2_level0_col0\" class=\"col_heading level0 col0\" >bookid</th>\n",
              "      <th id=\"T_63dd2_level0_col1\" class=\"col_heading level0 col1\" >facid</th>\n",
              "      <th id=\"T_63dd2_level0_col2\" class=\"col_heading level0 col2\" >memid</th>\n",
              "      <th id=\"T_63dd2_level0_col3\" class=\"col_heading level0 col3\" >starttime</th>\n",
              "      <th id=\"T_63dd2_level0_col4\" class=\"col_heading level0 col4\" >slots</th>\n",
              "    </tr>\n",
              "  </thead>\n",
              "  <tbody>\n",
              "    <tr>\n",
              "      <td id=\"T_63dd2_row0_col0\" class=\"data row0 col0\" >0</td>\n",
              "      <td id=\"T_63dd2_row0_col1\" class=\"data row0 col1\" >3</td>\n",
              "      <td id=\"T_63dd2_row0_col2\" class=\"data row0 col2\" >1</td>\n",
              "      <td id=\"T_63dd2_row0_col3\" class=\"data row0 col3\" >2012-07-03 11:00:00</td>\n",
              "      <td id=\"T_63dd2_row0_col4\" class=\"data row0 col4\" >2</td>\n",
              "    </tr>\n",
              "    <tr>\n",
              "      <td id=\"T_63dd2_row1_col0\" class=\"data row1 col0\" >1</td>\n",
              "      <td id=\"T_63dd2_row1_col1\" class=\"data row1 col1\" >4</td>\n",
              "      <td id=\"T_63dd2_row1_col2\" class=\"data row1 col2\" >1</td>\n",
              "      <td id=\"T_63dd2_row1_col3\" class=\"data row1 col3\" >2012-07-03 08:00:00</td>\n",
              "      <td id=\"T_63dd2_row1_col4\" class=\"data row1 col4\" >2</td>\n",
              "    </tr>\n",
              "    <tr>\n",
              "      <td id=\"T_63dd2_row2_col0\" class=\"data row2 col0\" >2</td>\n",
              "      <td id=\"T_63dd2_row2_col1\" class=\"data row2 col1\" >6</td>\n",
              "      <td id=\"T_63dd2_row2_col2\" class=\"data row2 col2\" >0</td>\n",
              "      <td id=\"T_63dd2_row2_col3\" class=\"data row2 col3\" >2012-07-03 18:00:00</td>\n",
              "      <td id=\"T_63dd2_row2_col4\" class=\"data row2 col4\" >2</td>\n",
              "    </tr>\n",
              "    <tr>\n",
              "      <td id=\"T_63dd2_row3_col0\" class=\"data row3 col0\" >3</td>\n",
              "      <td id=\"T_63dd2_row3_col1\" class=\"data row3 col1\" >7</td>\n",
              "      <td id=\"T_63dd2_row3_col2\" class=\"data row3 col2\" >1</td>\n",
              "      <td id=\"T_63dd2_row3_col3\" class=\"data row3 col3\" >2012-07-03 19:00:00</td>\n",
              "      <td id=\"T_63dd2_row3_col4\" class=\"data row3 col4\" >2</td>\n",
              "    </tr>\n",
              "    <tr>\n",
              "      <td id=\"T_63dd2_row4_col0\" class=\"data row4 col0\" >4</td>\n",
              "      <td id=\"T_63dd2_row4_col1\" class=\"data row4 col1\" >8</td>\n",
              "      <td id=\"T_63dd2_row4_col2\" class=\"data row4 col2\" >1</td>\n",
              "      <td id=\"T_63dd2_row4_col3\" class=\"data row4 col3\" >2012-07-03 10:00:00</td>\n",
              "      <td id=\"T_63dd2_row4_col4\" class=\"data row4 col4\" >1</td>\n",
              "    </tr>\n",
              "    <tr>\n",
              "      <td id=\"T_63dd2_row5_col0\" class=\"data row5 col0\" >5</td>\n",
              "      <td id=\"T_63dd2_row5_col1\" class=\"data row5 col1\" >8</td>\n",
              "      <td id=\"T_63dd2_row5_col2\" class=\"data row5 col2\" >1</td>\n",
              "      <td id=\"T_63dd2_row5_col3\" class=\"data row5 col3\" >2012-07-03 15:00:00</td>\n",
              "      <td id=\"T_63dd2_row5_col4\" class=\"data row5 col4\" >1</td>\n",
              "    </tr>\n",
              "    <tr>\n",
              "      <td id=\"T_63dd2_row6_col0\" class=\"data row6 col0\" >6</td>\n",
              "      <td id=\"T_63dd2_row6_col1\" class=\"data row6 col1\" >0</td>\n",
              "      <td id=\"T_63dd2_row6_col2\" class=\"data row6 col2\" >2</td>\n",
              "      <td id=\"T_63dd2_row6_col3\" class=\"data row6 col3\" >2012-07-04 09:00:00</td>\n",
              "      <td id=\"T_63dd2_row6_col4\" class=\"data row6 col4\" >3</td>\n",
              "    </tr>\n",
              "    <tr>\n",
              "      <td id=\"T_63dd2_row7_col0\" class=\"data row7 col0\" >7</td>\n",
              "      <td id=\"T_63dd2_row7_col1\" class=\"data row7 col1\" >0</td>\n",
              "      <td id=\"T_63dd2_row7_col2\" class=\"data row7 col2\" >2</td>\n",
              "      <td id=\"T_63dd2_row7_col3\" class=\"data row7 col3\" >2012-07-04 15:00:00</td>\n",
              "      <td id=\"T_63dd2_row7_col4\" class=\"data row7 col4\" >3</td>\n",
              "    </tr>\n",
              "    <tr>\n",
              "      <td id=\"T_63dd2_row8_col0\" class=\"data row8 col0\" >8</td>\n",
              "      <td id=\"T_63dd2_row8_col1\" class=\"data row8 col1\" >4</td>\n",
              "      <td id=\"T_63dd2_row8_col2\" class=\"data row8 col2\" >3</td>\n",
              "      <td id=\"T_63dd2_row8_col3\" class=\"data row8 col3\" >2012-07-04 13:30:00</td>\n",
              "      <td id=\"T_63dd2_row8_col4\" class=\"data row8 col4\" >2</td>\n",
              "    </tr>\n",
              "    <tr>\n",
              "      <td id=\"T_63dd2_row9_col0\" class=\"data row9 col0\" >9</td>\n",
              "      <td id=\"T_63dd2_row9_col1\" class=\"data row9 col1\" >4</td>\n",
              "      <td id=\"T_63dd2_row9_col2\" class=\"data row9 col2\" >0</td>\n",
              "      <td id=\"T_63dd2_row9_col3\" class=\"data row9 col3\" >2012-07-04 15:00:00</td>\n",
              "      <td id=\"T_63dd2_row9_col4\" class=\"data row9 col4\" >2</td>\n",
              "    </tr>\n",
              "  </tbody>\n",
              "</table>\n"
            ]
          },
          "metadata": {},
          "execution_count": 15
        }
      ]
    },
    {
      "cell_type": "markdown",
      "source": [
        "#Chronobooks <br>\n",
        "Two science fiction novels by Prithwis Mukerjee. A dystopian Earth. A technocratic society managed by artificial intelligence. Escape and epiphany on Mars. Can man and machine, carbon and silicon explore and escape into other dimensions of existence? An Indic perspective rooted in Advaita Vedanta and the Divine Feminine.  [More information](http://bit.ly/chronobooks) <br>\n",
        "![alt text](https://github.com/Praxis-QR/RDWH/raw/main/images/CTCYFooter-1.png)"
      ],
      "metadata": {
        "id": "_gNiZpyW3AzJ"
      }
    },
    {
      "cell_type": "code",
      "source": [
        "from datetime import datetime\n",
        "import pytz\n",
        "print('Last tested  ',datetime.now(pytz.timezone('Asia/Kolkata')))"
      ],
      "metadata": {
        "colab": {
          "base_uri": "https://localhost:8080/"
        },
        "id": "wjBXJVhM605H",
        "outputId": "c6418f4a-db57-43d1-8b6d-30d5ba2731f4"
      },
      "execution_count": 16,
      "outputs": [
        {
          "output_type": "stream",
          "name": "stdout",
          "text": [
            "Last tested   2023-12-31 16:01:25.642107+05:30\n"
          ]
        }
      ]
    }
  ]
}
